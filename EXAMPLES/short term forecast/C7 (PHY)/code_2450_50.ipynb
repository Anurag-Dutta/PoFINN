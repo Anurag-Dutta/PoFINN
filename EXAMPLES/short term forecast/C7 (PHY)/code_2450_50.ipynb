{
 "cells": [
  {
   "cell_type": "markdown",
   "metadata": {
    "id": "pCGKeZ2gyuoQ"
   },
   "source": [
    "_Importing Required Libraries_"
   ]
  },
  {
   "cell_type": "code",
   "execution_count": 1,
   "metadata": {
    "colab": {
     "base_uri": "https://localhost:8080/"
    },
    "id": "A-6LN-zXiLcM",
    "outputId": "4de610a4-f8b8-4f49-c6c0-89de299ccedc"
   },
   "outputs": [
    {
     "name": "stdout",
     "output_type": "stream",
     "text": [
      "Requirement already satisfied: hampel in c:\\users\\anurag dutta\\appdata\\local\\packages\\pythonsoftwarefoundation.python.3.9_qbz5n2kfra8p0\\localcache\\local-packages\\python39\\site-packages (0.0.5)\n",
      "Requirement already satisfied: numpy in c:\\users\\anurag dutta\\appdata\\local\\packages\\pythonsoftwarefoundation.python.3.9_qbz5n2kfra8p0\\localcache\\local-packages\\python39\\site-packages (from hampel) (1.26.4)\n",
      "Requirement already satisfied: pandas in c:\\users\\anurag dutta\\appdata\\local\\packages\\pythonsoftwarefoundation.python.3.9_qbz5n2kfra8p0\\localcache\\local-packages\\python39\\site-packages (from hampel) (1.5.2)\n",
      "Requirement already satisfied: python-dateutil>=2.8.1 in c:\\users\\anurag dutta\\appdata\\local\\packages\\pythonsoftwarefoundation.python.3.9_qbz5n2kfra8p0\\localcache\\local-packages\\python39\\site-packages (from pandas->hampel) (2.8.2)\n",
      "Requirement already satisfied: pytz>=2020.1 in c:\\users\\anurag dutta\\appdata\\local\\packages\\pythonsoftwarefoundation.python.3.9_qbz5n2kfra8p0\\localcache\\local-packages\\python39\\site-packages (from pandas->hampel) (2023.3.post1)\n",
      "Requirement already satisfied: six>=1.5 in c:\\users\\anurag dutta\\appdata\\local\\packages\\pythonsoftwarefoundation.python.3.9_qbz5n2kfra8p0\\localcache\\local-packages\\python39\\site-packages (from python-dateutil>=2.8.1->pandas->hampel) (1.16.0)\n",
      "Note: you may need to restart the kernel to use updated packages.\n"
     ]
    },
    {
     "name": "stderr",
     "output_type": "stream",
     "text": [
      "\n",
      "[notice] A new release of pip is available: 24.2 -> 24.3.1\n",
      "[notice] To update, run: C:\\Users\\Anurag Dutta\\AppData\\Local\\Microsoft\\WindowsApps\\PythonSoftwareFoundation.Python.3.9_qbz5n2kfra8p0\\python.exe -m pip install --upgrade pip\n"
     ]
    }
   ],
   "source": [
    "pip install hampel"
   ]
  },
  {
   "cell_type": "code",
   "execution_count": 2,
   "metadata": {
    "id": "By_d9uXpaFvZ"
   },
   "outputs": [],
   "source": [
    "from keras.models import Sequential\n",
    "from keras.layers import Dense\n",
    "from keras.layers import LSTM\n",
    "from keras.layers import Dropout\n",
    "import keras\n",
    "import tensorflow as tf\n",
    "from hampel import hampel\n",
    "import numpy as np\n",
    "import matplotlib.pyplot as plt\n",
    "import pandas as pd\n",
    "from sklearn.preprocessing import MinMaxScaler\n",
    "from sklearn.metrics import mean_squared_error, mean_absolute_error\n",
    "from math import sqrt\n",
    "from matplotlib import pyplot\n",
    "from numpy import array"
   ]
  },
  {
   "cell_type": "markdown",
   "metadata": {
    "id": "JyOjBMFayuoR"
   },
   "source": [
    "## Pretraining"
   ]
  },
  {
   "cell_type": "markdown",
   "metadata": {
    "id": "-5QqIY_GyuoR"
   },
   "source": [
    "The `capa_intermittency.dat` feeds the model with the dynamics of the Capacitor"
   ]
  },
  {
   "cell_type": "code",
   "execution_count": 3,
   "metadata": {
    "id": "9dV4a8yfyuoR"
   },
   "outputs": [],
   "source": [
    "data = np.genfromtxt('capa_intermittency.dat')\n",
    "training_set = pd.DataFrame(data).reset_index(drop=True)\n",
    "training_set = training_set.iloc[:,0]"
   ]
  },
  {
   "cell_type": "markdown",
   "metadata": {
    "id": "i7easoxByuoR"
   },
   "source": [
    "## Computing the Gradient"
   ]
  },
  {
   "cell_type": "markdown",
   "metadata": {
    "id": "5SnyolJTyuoR"
   },
   "source": [
    "_Calculating the value of_ $\\frac{dx}{dt}$"
   ]
  },
  {
   "cell_type": "code",
   "execution_count": 4,
   "metadata": {
    "colab": {
     "base_uri": "https://localhost:8080/"
    },
    "id": "wmIbVfIvyuoR",
    "outputId": "aa4e3136-c854-465d-d2e9-81cfd546e440"
   },
   "outputs": [
    {
     "name": "stdout",
     "output_type": "stream",
     "text": [
      "1.0\n",
      "1        0.000298\n",
      "2        0.000298\n",
      "3        0.000297\n",
      "4        0.000297\n",
      "5        0.000297\n",
      "           ...   \n",
      "9996     0.000018\n",
      "9997     0.000018\n",
      "9998     0.000018\n",
      "9999     0.000018\n",
      "10000    0.000018\n",
      "Name: 0, Length: 10000, dtype: float64\n"
     ]
    }
   ],
   "source": [
    "t_diff = 1\n",
    "print(training_set.max())\n",
    "gradient_t = (training_set.diff()/t_diff).iloc[1:] # dx/dt\n",
    "print(gradient_t)"
   ]
  },
  {
   "cell_type": "markdown",
   "metadata": {
    "id": "_2eVeeoxyuoS"
   },
   "source": [
    "## Loading Datasets"
   ]
  },
  {
   "cell_type": "code",
   "execution_count": 5,
   "metadata": {
    "id": "0J-NKyIEyuoS"
   },
   "outputs": [
    {
     "data": {
      "text/plain": [
       "0       92.600000\n",
       "1       92.387115\n",
       "2       92.174230\n",
       "3       91.961345\n",
       "4       91.748459\n",
       "          ...    \n",
       "2495    62.430607\n",
       "2496    62.422956\n",
       "2497    62.415304\n",
       "2498    62.407652\n",
       "2499    62.400000\n",
       "Name: C7, Length: 2500, dtype: float64"
      ]
     },
     "execution_count": 5,
     "metadata": {},
     "output_type": "execute_result"
    }
   ],
   "source": [
    "data = pd.read_csv(\"c7_interpolated_2450_50.csv\")\n",
    "training_set = data.iloc[:, 1]\n",
    "training_set"
   ]
  },
  {
   "cell_type": "code",
   "execution_count": 6,
   "metadata": {
    "colab": {
     "base_uri": "https://localhost:8080/"
    },
    "id": "-CbNUhJ74UqF",
    "outputId": "20f562d8-8247-49cc-b9c3-00eca5e13e2d"
   },
   "outputs": [
    {
     "data": {
      "text/plain": [
       "0       92.600000\n",
       "1       92.387115\n",
       "2       92.174230\n",
       "3       91.961345\n",
       "4       91.748459\n",
       "          ...    \n",
       "2445     0.289427\n",
       "2446     0.034906\n",
       "2447     0.000000\n",
       "2448     0.444268\n",
       "2449     1.085368\n",
       "Name: C7, Length: 2450, dtype: float64"
      ]
     },
     "execution_count": 6,
     "metadata": {},
     "output_type": "execute_result"
    }
   ],
   "source": [
    "test = training_set.tail(50)\n",
    "test\n",
    "training_set = training_set.head(2450)\n",
    "training_set"
   ]
  },
  {
   "cell_type": "code",
   "execution_count": 7,
   "metadata": {
    "colab": {
     "base_uri": "https://localhost:8080/"
    },
    "id": "X0TwTcq0yuoS",
    "outputId": "37252ed8-d88e-4044-fa7a-922411990b5b"
   },
   "outputs": [
    {
     "name": "stdout",
     "output_type": "stream",
     "text": [
      "0       0.000298\n",
      "1       0.000298\n",
      "2       0.000297\n",
      "3       0.000297\n",
      "4       0.000297\n",
      "          ...   \n",
      "9995    0.000018\n",
      "9996    0.000018\n",
      "9997    0.000018\n",
      "9998    0.000018\n",
      "9999    0.000018\n",
      "Name: 0, Length: 10000, dtype: float64\n"
     ]
    }
   ],
   "source": [
    "training_set = training_set.reset_index(drop=True)\n",
    "gradient_t = gradient_t.reset_index(drop=True)\n",
    "print(gradient_t)"
   ]
  },
  {
   "cell_type": "code",
   "execution_count": 8,
   "metadata": {
    "id": "O2biznZQyuoS"
   },
   "outputs": [],
   "source": [
    "df = pd.concat((training_set, gradient_t), axis=1)\n",
    "df.columns = ['y_t', 'grad_t']"
   ]
  },
  {
   "cell_type": "code",
   "execution_count": 9,
   "metadata": {
    "colab": {
     "base_uri": "https://localhost:8080/",
     "height": 423
    },
    "id": "sk_a5v3tyuoS",
    "outputId": "17563625-e550-45ae-faab-fafa353e44da"
   },
   "outputs": [
    {
     "data": {
      "text/html": [
       "<div>\n",
       "<style scoped>\n",
       "    .dataframe tbody tr th:only-of-type {\n",
       "        vertical-align: middle;\n",
       "    }\n",
       "\n",
       "    .dataframe tbody tr th {\n",
       "        vertical-align: top;\n",
       "    }\n",
       "\n",
       "    .dataframe thead th {\n",
       "        text-align: right;\n",
       "    }\n",
       "</style>\n",
       "<table border=\"1\" class=\"dataframe\">\n",
       "  <thead>\n",
       "    <tr style=\"text-align: right;\">\n",
       "      <th></th>\n",
       "      <th>y_t</th>\n",
       "      <th>grad_t</th>\n",
       "    </tr>\n",
       "  </thead>\n",
       "  <tbody>\n",
       "    <tr>\n",
       "      <th>0</th>\n",
       "      <td>92.600000</td>\n",
       "      <td>0.000298</td>\n",
       "    </tr>\n",
       "    <tr>\n",
       "      <th>1</th>\n",
       "      <td>92.387115</td>\n",
       "      <td>0.000298</td>\n",
       "    </tr>\n",
       "    <tr>\n",
       "      <th>2</th>\n",
       "      <td>92.174230</td>\n",
       "      <td>0.000297</td>\n",
       "    </tr>\n",
       "    <tr>\n",
       "      <th>3</th>\n",
       "      <td>91.961345</td>\n",
       "      <td>0.000297</td>\n",
       "    </tr>\n",
       "    <tr>\n",
       "      <th>4</th>\n",
       "      <td>91.748459</td>\n",
       "      <td>0.000297</td>\n",
       "    </tr>\n",
       "    <tr>\n",
       "      <th>...</th>\n",
       "      <td>...</td>\n",
       "      <td>...</td>\n",
       "    </tr>\n",
       "    <tr>\n",
       "      <th>9995</th>\n",
       "      <td>NaN</td>\n",
       "      <td>0.000018</td>\n",
       "    </tr>\n",
       "    <tr>\n",
       "      <th>9996</th>\n",
       "      <td>NaN</td>\n",
       "      <td>0.000018</td>\n",
       "    </tr>\n",
       "    <tr>\n",
       "      <th>9997</th>\n",
       "      <td>NaN</td>\n",
       "      <td>0.000018</td>\n",
       "    </tr>\n",
       "    <tr>\n",
       "      <th>9998</th>\n",
       "      <td>NaN</td>\n",
       "      <td>0.000018</td>\n",
       "    </tr>\n",
       "    <tr>\n",
       "      <th>9999</th>\n",
       "      <td>NaN</td>\n",
       "      <td>0.000018</td>\n",
       "    </tr>\n",
       "  </tbody>\n",
       "</table>\n",
       "<p>10000 rows × 2 columns</p>\n",
       "</div>"
      ],
      "text/plain": [
       "            y_t    grad_t\n",
       "0     92.600000  0.000298\n",
       "1     92.387115  0.000298\n",
       "2     92.174230  0.000297\n",
       "3     91.961345  0.000297\n",
       "4     91.748459  0.000297\n",
       "...         ...       ...\n",
       "9995        NaN  0.000018\n",
       "9996        NaN  0.000018\n",
       "9997        NaN  0.000018\n",
       "9998        NaN  0.000018\n",
       "9999        NaN  0.000018\n",
       "\n",
       "[10000 rows x 2 columns]"
      ]
     },
     "execution_count": 9,
     "metadata": {},
     "output_type": "execute_result"
    }
   ],
   "source": [
    "df"
   ]
  },
  {
   "cell_type": "markdown",
   "metadata": {
    "id": "-5esyHu5aFvg"
   },
   "source": [
    "## Plot of the External Forcing from Chaotic Differential Equation"
   ]
  },
  {
   "cell_type": "code",
   "execution_count": 10,
   "metadata": {
    "colab": {
     "base_uri": "https://localhost:8080/",
     "height": 447
    },
    "id": "hGnE43tOh-4p",
    "outputId": "fc396503-b624-4fa5-dfbe-f460207405c6"
   },
   "outputs": [
    {
     "data": {
      "text/plain": [
       "<Axes: >"
      ]
     },
     "execution_count": 10,
     "metadata": {},
     "output_type": "execute_result"
    },
    {
     "data": {
      "image/png": "[encoded data removed]",
      "text/plain": [
       "<Figure size 432x288 with 1 Axes>"
      ]
     },
     "metadata": {
      "needs_background": "light"
     },
     "output_type": "display_data"
    }
   ],
   "source": [
    "df.iloc[:, 0].plot()"
   ]
  },
  {
   "cell_type": "code",
   "execution_count": 11,
   "metadata": {
    "colab": {
     "base_uri": "https://localhost:8080/",
     "height": 447
    },
    "id": "ym4xWUUxaFvg",
    "outputId": "ae6a3495-8ce9-437e-ba81-3ed31deedeae"
   },
   "outputs": [
    {
     "name": "stderr",
     "output_type": "stream",
     "text": [
      "C:\\Users\\Anurag Dutta\\AppData\\Local\\Packages\\PythonSoftwareFoundation.Python.3.9_qbz5n2kfra8p0\\LocalCache\\local-packages\\Python39\\site-packages\\pandas\\core\\arraylike.py:402: RuntimeWarning: divide by zero encountered in log\n",
      "  result = getattr(ufunc, method)(*inputs, **kwargs)\n"
     ]
    },
    {
     "data": {
      "text/plain": [
       "<Axes: >"
      ]
     },
     "execution_count": 11,
     "metadata": {},
     "output_type": "execute_result"
    },
    {
     "data": {
      "image/png": "[encoded data removed]",
      "text/plain": [
       "<Figure size 432x288 with 1 Axes>"
      ]
     },
     "metadata": {
      "needs_background": "light"
     },
     "output_type": "display_data"
    }
   ],
   "source": [
    "import numpy as np\n",
    "c0 = 89.3180  # Value for C0\n",
    "K0 = -0.0010  # Value for K0\n",
    "K1 = 0.0001  # Value for K1\n",
    "a = 0.0000    # Value for a\n",
    "b = -0.0204    # Value for b\n",
    "c = 2.2194    # Value for c\n",
    "\n",
    "L = np.minimum(c0, (df.iloc[:, 1] - (df.iloc[:, 0] * (K0 - K1 * (9 * a * np.log(df.iloc[:, 0] / c0) / (K0 - K1 * c)**2 + 4 * b * np.log(df.iloc[:, 0] / c0) / (K0 - K1 * c) + c)))))\n",
    "L.plot()"
   ]
  },
  {
   "cell_type": "markdown",
   "metadata": {
    "id": "9VyEywnwaFvh"
   },
   "source": [
    "## Preprocessing the data into supervised learning"
   ]
  },
  {
   "cell_type": "code",
   "execution_count": 12,
   "metadata": {
    "id": "6V9dXqzdaFvh"
   },
   "outputs": [],
   "source": [
    "# split a sequence into samples\n",
    "def Supervised(data, n_in=1, n_out=1, dropnan=True):\n",
    "    n_vars = 1 if type(data) is list else data.shape[1]\n",
    "    df = pd.DataFrame(data)\n",
    "    cols, names = list(), list()\n",
    "    # input sequence (t-n_in, ... t-1)\n",
    "    for i in range(n_in, 0, -1):\n",
    "        cols.append(df.shift(i))\n",
    "        names += [('var%d(t-%d)' % (j+1, i)) for j in range(n_vars)]\n",
    "    # forecast sequence (t, t+1, ... t+n_out)\n",
    "    for i in range(0, n_out):\n",
    "      cols.append(df.shift(-i))\n",
    "      if i == 0:\n",
    "        names += [('var%d(t)' % (j+1)) for j in range(n_vars)]\n",
    "      else:\n",
    "        names += [('var%d(t+%d)' % (j+1, i)) for j in range(n_vars)]\n",
    "    # put it all together\n",
    "    agg = pd.concat(cols, axis=1)\n",
    "    agg.columns = names\n",
    "    # drop rows with NaN values\n",
    "    if dropnan:\n",
    "       agg.dropna(inplace=True)\n",
    "    return agg"
   ]
  },
  {
   "cell_type": "code",
   "execution_count": 13,
   "metadata": {
    "colab": {
     "base_uri": "https://localhost:8080/"
    },
    "id": "CrzSrT1HnyfH",
    "outputId": "7e75f928-3e47-499d-eac1-51908015ef78"
   },
   "outputs": [
    {
     "name": "stdout",
     "output_type": "stream",
     "text": [
      "     var1(t-175)  var1(t-174)  var1(t-173)  var1(t-172)  var1(t-171)  \\\n",
      "175    92.600000    92.387115    92.174230    91.961345    91.748459   \n",
      "176    92.387115    92.174230    91.961345    91.748459    91.535574   \n",
      "177    92.174230    91.961345    91.748459    91.535574    91.322689   \n",
      "178    91.961345    91.748459    91.535574    91.322689    91.109804   \n",
      "179    91.748459    91.535574    91.322689    91.109804    90.896919   \n",
      "\n",
      "     var1(t-170)  var1(t-169)  var1(t-168)  var1(t-167)  var1(t-166)  ...  \\\n",
      "175    91.535574    91.322689    91.109804    90.896919    90.691597  ...   \n",
      "176    91.322689    91.109804    90.896919    90.691597    90.579552  ...   \n",
      "177    91.109804    90.896919    90.691597    90.579552    90.467507  ...   \n",
      "178    90.896919    90.691597    90.579552    90.467507    90.355462  ...   \n",
      "179    90.691597    90.579552    90.467507    90.355462    90.243417  ...   \n",
      "\n",
      "     var1(t+45)  var2(t+45)  var1(t+46)  var2(t+46)  var1(t+47)  var2(t+47)  \\\n",
      "175   84.280019    0.000280   84.265079    0.000280   84.250140    0.000280   \n",
      "176   84.265079    0.000280   84.250140    0.000280   84.235201    0.000280   \n",
      "177   84.250140    0.000280   84.235201    0.000280   84.220261    0.000279   \n",
      "178   84.235201    0.000280   84.220261    0.000279   84.205322    0.000279   \n",
      "179   84.220261    0.000279   84.205322    0.000279   84.190383    0.000279   \n",
      "\n",
      "     var1(t+48)  var2(t+48)  var1(t+49)  var2(t+49)  \n",
      "175   84.235201    0.000280   84.220261    0.000279  \n",
      "176   84.220261    0.000279   84.205322    0.000279  \n",
      "177   84.205322    0.000279   84.190383    0.000279  \n",
      "178   84.190383    0.000279   84.175444    0.000279  \n",
      "179   84.175444    0.000279   84.160504    0.000279  \n",
      "\n",
      "[5 rows x 276 columns]\n",
      "Index(['var1(t-175)', 'var1(t-174)', 'var1(t-173)', 'var1(t-172)',\n",
      "       'var1(t-171)', 'var1(t-170)', 'var1(t-169)', 'var1(t-168)',\n",
      "       'var1(t-167)', 'var1(t-166)',\n",
      "       ...\n",
      "       'var1(t+45)', 'var2(t+45)', 'var1(t+46)', 'var2(t+46)', 'var1(t+47)',\n",
      "       'var2(t+47)', 'var1(t+48)', 'var2(t+48)', 'var1(t+49)', 'var2(t+49)'],\n",
      "      dtype='object', length=276)\n"
     ]
    }
   ],
   "source": [
    "data = Supervised(df.values, n_in = 175, n_out = 50)\n",
    "\n",
    "\n",
    "cols_to_drop = []\n",
    "for i in range(2, 176):\n",
    "    cols_to_drop.extend([f'var2(t-{i})'])\n",
    "\n",
    "data.drop(cols_to_drop, axis=1, inplace=True)\n",
    "\n",
    "print(data.head())\n",
    "print(data.columns)"
   ]
  },
  {
   "cell_type": "code",
   "execution_count": 14,
   "metadata": {
    "id": "AfPf60oy6Pe4"
   },
   "outputs": [],
   "source": [
    "train = np.array(data[0:len(data)-1])\n",
    "forecast = np.array(data.tail(1))"
   ]
  },
  {
   "cell_type": "code",
   "execution_count": 15,
   "metadata": {
    "id": "WSAafzI37KiT"
   },
   "outputs": [],
   "source": [
    "trainy = train[:,-150:]\n",
    "trainX = train[:,:-150]"
   ]
  },
  {
   "cell_type": "code",
   "execution_count": 16,
   "metadata": {
    "id": "2SrOqVJA7f50"
   },
   "outputs": [],
   "source": [
    "forecasty = forecast[:,-150:]\n",
    "forecastX = forecast[:,:-150]"
   ]
  },
  {
   "cell_type": "code",
   "execution_count": 17,
   "metadata": {
    "colab": {
     "base_uri": "https://localhost:8080/"
    },
    "id": "Qno_k8Nw7saY",
    "outputId": "c4a88db5-d8c6-489f-cdb2-06b24e293cff"
   },
   "outputs": [
    {
     "name": "stdout",
     "output_type": "stream",
     "text": [
      "(2225, 1, 126) (2225, 150) (1, 1, 126)\n"
     ]
    }
   ],
   "source": [
    "trainX = trainX.reshape((trainX.shape[0], 1, trainX.shape[1]))\n",
    "forecastX = forecastX.reshape((forecastX.shape[0], 1, forecastX.shape[1]))\n",
    "print(trainX.shape, trainy.shape, forecastX.shape)"
   ]
  },
  {
   "cell_type": "code",
   "execution_count": 18,
   "metadata": {
    "colab": {
     "base_uri": "https://localhost:8080/"
    },
    "id": "b1Jp2DvNuNFx",
    "outputId": "d0e5b3c4-64f1-438c-eade-8dfeaac8e285"
   },
   "outputs": [
    {
     "name": "stdout",
     "output_type": "stream",
     "text": [
      "Epoch 1/500\n",
      "28/28 [==============================] - 2s 18ms/step - loss: 5362.1040 - val_loss: 3218.3630\n",
      "Epoch 2/500\n",
      "28/28 [==============================] - 0s 4ms/step - loss: 5153.1172 - val_loss: 3052.8608\n",
      "Epoch 3/500\n",
      "28/28 [==============================] - 0s 4ms/step - loss: 4973.6123 - val_loss: 2950.2556\n",
      "Epoch 4/500\n",
      "28/28 [==============================] - 0s 4ms/step - loss: 4842.5371 - val_loss: 2873.0405\n",
      "Epoch 5/500\n",
      "28/28 [==============================] - 0s 4ms/step - loss: 4721.2065 - val_loss: 2799.9724\n",
      "Epoch 6/500\n",
      "28/28 [==============================] - 0s 4ms/step - loss: 4604.7124 - val_loss: 2729.8450\n",
      "Epoch 7/500\n",
      "28/28 [==============================] - 0s 3ms/step - loss: 4482.2583 - val_loss: 2653.6758\n",
      "Epoch 8/500\n",
      "28/28 [==============================] - 0s 3ms/step - loss: 4363.7544 - val_loss: 2583.5078\n",
      "Epoch 9/500\n",
      "28/28 [==============================] - 0s 4ms/step - loss: 4251.3584 - val_loss: 2517.2246\n",
      "Epoch 10/500\n",
      "28/28 [==============================] - 0s 4ms/step - loss: 4142.4302 - val_loss: 2453.2354\n",
      "Epoch 11/500\n",
      "28/28 [==============================] - 0s 4ms/step - loss: 4036.3992 - val_loss: 2391.2366\n",
      "Epoch 12/500\n",
      "28/28 [==============================] - 0s 4ms/step - loss: 3932.9744 - val_loss: 2331.3093\n",
      "Epoch 13/500\n",
      "28/28 [==============================] - 0s 4ms/step - loss: 3831.9546 - val_loss: 2273.2095\n",
      "Epoch 14/500\n",
      "28/28 [==============================] - 0s 7ms/step - loss: 3733.2068 - val_loss: 2216.8523\n",
      "Epoch 15/500\n",
      "28/28 [==============================] - 0s 4ms/step - loss: 3636.6313 - val_loss: 2162.1731\n",
      "Epoch 16/500\n",
      "28/28 [==============================] - 0s 4ms/step - loss: 3542.1494 - val_loss: 2109.1199\n",
      "Epoch 17/500\n",
      "28/28 [==============================] - 0s 4ms/step - loss: 3449.6938 - val_loss: 2057.6470\n",
      "Epoch 18/500\n",
      "28/28 [==============================] - 0s 3ms/step - loss: 3359.2090 - val_loss: 2007.7133\n",
      "Epoch 19/500\n",
      "28/28 [==============================] - 0s 4ms/step - loss: 3270.6438 - val_loss: 1959.2828\n",
      "Epoch 20/500\n",
      "28/28 [==============================] - 0s 3ms/step - loss: 3183.9551 - val_loss: 1912.3212\n",
      "Epoch 21/500\n",
      "28/28 [==============================] - 0s 3ms/step - loss: 3099.1008 - val_loss: 1866.7966\n",
      "Epoch 22/500\n",
      "28/28 [==============================] - 0s 4ms/step - loss: 3016.0442 - val_loss: 1822.6799\n",
      "Epoch 23/500\n",
      "28/28 [==============================] - 0s 3ms/step - loss: 2934.7498 - val_loss: 1779.9420\n",
      "Epoch 24/500\n",
      "28/28 [==============================] - 0s 4ms/step - loss: 2855.1846 - val_loss: 1738.5568\n",
      "Epoch 25/500\n",
      "28/28 [==============================] - 0s 3ms/step - loss: 2777.3174 - val_loss: 1698.4980\n",
      "Epoch 26/500\n",
      "28/28 [==============================] - 0s 3ms/step - loss: 2701.1182 - val_loss: 1659.7399\n",
      "Epoch 27/500\n",
      "28/28 [==============================] - 0s 3ms/step - loss: 2626.5591 - val_loss: 1622.2592\n",
      "Epoch 28/500\n",
      "28/28 [==============================] - 0s 4ms/step - loss: 2553.6106 - val_loss: 1586.0311\n",
      "Epoch 29/500\n",
      "28/28 [==============================] - 0s 4ms/step - loss: 2482.2478 - val_loss: 1551.0339\n",
      "Epoch 30/500\n",
      "28/28 [==============================] - 0s 4ms/step - loss: 2412.4434 - val_loss: 1517.2438\n",
      "Epoch 31/500\n",
      "28/28 [==============================] - 0s 3ms/step - loss: 2344.1731 - val_loss: 1484.6396\n",
      "Epoch 32/500\n",
      "28/28 [==============================] - 0s 3ms/step - loss: 2277.4114 - val_loss: 1453.1987\n",
      "Epoch 33/500\n",
      "28/28 [==============================] - 0s 3ms/step - loss: 2212.1353 - val_loss: 1422.9004\n",
      "Epoch 34/500\n",
      "28/28 [==============================] - 0s 4ms/step - loss: 2148.3206 - val_loss: 1393.7241\n",
      "Epoch 35/500\n",
      "28/28 [==============================] - 0s 4ms/step - loss: 2085.9438 - val_loss: 1365.6482\n",
      "Epoch 36/500\n",
      "28/28 [==============================] - 0s 3ms/step - loss: 2024.9834 - val_loss: 1338.6528\n",
      "Epoch 37/500\n",
      "28/28 [==============================] - 0s 3ms/step - loss: 1965.4167 - val_loss: 1312.7174\n",
      "Epoch 38/500\n",
      "28/28 [==============================] - 0s 4ms/step - loss: 1907.2214 - val_loss: 1287.8199\n",
      "Epoch 39/500\n",
      "28/28 [==============================] - 0s 3ms/step - loss: 1850.3766 - val_loss: 1263.9294\n",
      "Epoch 40/500\n",
      "28/28 [==============================] - 0s 4ms/step - loss: 1794.8613 - val_loss: 1240.8068\n",
      "Epoch 41/500\n",
      "28/28 [==============================] - 0s 4ms/step - loss: 1740.6537 - val_loss: 1219.3556\n",
      "Epoch 42/500\n",
      "28/28 [==============================] - 0s 4ms/step - loss: 1687.7335 - val_loss: 1198.4377\n",
      "Epoch 43/500\n",
      "28/28 [==============================] - 0s 6ms/step - loss: 1636.0806 - val_loss: 1178.4658\n",
      "Epoch 44/500\n",
      "28/28 [==============================] - 0s 3ms/step - loss: 1585.6748 - val_loss: 1159.4204\n",
      "Epoch 45/500\n",
      "28/28 [==============================] - 0s 3ms/step - loss: 1536.4963 - val_loss: 1141.2838\n",
      "Epoch 46/500\n",
      "28/28 [==============================] - 0s 3ms/step - loss: 1488.5259 - val_loss: 1124.0381\n",
      "Epoch 47/500\n",
      "28/28 [==============================] - 0s 3ms/step - loss: 1441.7438 - val_loss: 1107.6644\n",
      "Epoch 48/500\n",
      "28/28 [==============================] - 0s 3ms/step - loss: 1396.1305 - val_loss: 1092.1453\n",
      "Epoch 49/500\n",
      "28/28 [==============================] - 0s 3ms/step - loss: 1351.6677 - val_loss: 1077.4633\n",
      "Epoch 50/500\n",
      "28/28 [==============================] - 0s 4ms/step - loss: 1308.3359 - val_loss: 1063.6003\n",
      "Epoch 51/500\n",
      "28/28 [==============================] - 0s 4ms/step - loss: 1266.1166 - val_loss: 1050.5396\n",
      "Epoch 52/500\n",
      "28/28 [==============================] - 0s 4ms/step - loss: 1224.9919 - val_loss: 1038.2634\n",
      "Epoch 53/500\n",
      "28/28 [==============================] - 0s 3ms/step - loss: 1184.9432 - val_loss: 1026.7566\n",
      "Epoch 54/500\n",
      "28/28 [==============================] - 0s 3ms/step - loss: 1145.9524 - val_loss: 1015.9633\n",
      "Epoch 55/500\n",
      "28/28 [==============================] - 0s 4ms/step - loss: 1108.0027 - val_loss: 1005.9357\n",
      "Epoch 56/500\n",
      "28/28 [==============================] - 0s 3ms/step - loss: 1071.0732 - val_loss: 996.6251\n",
      "Epoch 57/500\n",
      "28/28 [==============================] - 0s 3ms/step - loss: 1035.1493 - val_loss: 988.0142\n",
      "Epoch 58/500\n",
      "28/28 [==============================] - 0s 3ms/step - loss: 1000.2122 - val_loss: 980.0857\n",
      "Epoch 59/500\n",
      "28/28 [==============================] - 0s 3ms/step - loss: 966.2449 - val_loss: 972.8231\n",
      "Epoch 60/500\n",
      "28/28 [==============================] - 0s 4ms/step - loss: 933.2303 - val_loss: 966.2098\n",
      "Epoch 61/500\n",
      "28/28 [==============================] - 0s 3ms/step - loss: 901.1511 - val_loss: 960.2304\n",
      "Epoch 62/500\n",
      "28/28 [==============================] - 0s 4ms/step - loss: 869.9903 - val_loss: 954.8675\n",
      "Epoch 63/500\n",
      "28/28 [==============================] - 0s 4ms/step - loss: 839.7314 - val_loss: 950.1051\n",
      "Epoch 64/500\n",
      "28/28 [==============================] - 0s 3ms/step - loss: 810.3574 - val_loss: 945.9281\n",
      "Epoch 65/500\n",
      "28/28 [==============================] - 0s 4ms/step - loss: 781.8520 - val_loss: 942.3190\n",
      "Epoch 66/500\n",
      "28/28 [==============================] - 0s 4ms/step - loss: 754.1985 - val_loss: 939.2631\n",
      "Epoch 67/500\n",
      "28/28 [==============================] - 0s 4ms/step - loss: 727.3806 - val_loss: 936.7424\n",
      "Epoch 68/500\n",
      "28/28 [==============================] - 0s 4ms/step - loss: 701.3824 - val_loss: 934.4490\n",
      "Epoch 69/500\n",
      "28/28 [==============================] - 0s 4ms/step - loss: 668.4915 - val_loss: 932.8997\n",
      "Epoch 70/500\n",
      "28/28 [==============================] - 0s 3ms/step - loss: 639.1801 - val_loss: 932.1406\n",
      "Epoch 71/500\n",
      "28/28 [==============================] - 0s 3ms/step - loss: 612.3589 - val_loss: 932.0073\n",
      "Epoch 72/500\n",
      "28/28 [==============================] - 0s 4ms/step - loss: 587.2087 - val_loss: 932.4296\n",
      "Epoch 73/500\n",
      "28/28 [==============================] - 0s 7ms/step - loss: 563.3718 - val_loss: 933.3692\n",
      "Epoch 74/500\n",
      "28/28 [==============================] - 0s 3ms/step - loss: 540.6626 - val_loss: 934.7928\n",
      "Epoch 75/500\n",
      "28/28 [==============================] - 0s 3ms/step - loss: 518.9674 - val_loss: 936.6719\n",
      "Epoch 76/500\n",
      "28/28 [==============================] - 0s 4ms/step - loss: 498.2074 - val_loss: 938.9828\n",
      "Epoch 77/500\n",
      "28/28 [==============================] - 0s 3ms/step - loss: 478.3227 - val_loss: 941.7037\n",
      "Epoch 78/500\n",
      "28/28 [==============================] - 0s 4ms/step - loss: 459.2655 - val_loss: 944.8125\n",
      "Epoch 79/500\n",
      "28/28 [==============================] - 0s 4ms/step - loss: 440.9956 - val_loss: 948.2877\n",
      "Epoch 80/500\n",
      "28/28 [==============================] - 0s 4ms/step - loss: 423.4779 - val_loss: 952.1134\n",
      "Epoch 81/500\n",
      "28/28 [==============================] - 0s 4ms/step - loss: 406.6815 - val_loss: 956.2683\n",
      "Epoch 82/500\n",
      "28/28 [==============================] - 0s 3ms/step - loss: 390.5781 - val_loss: 960.7357\n",
      "Epoch 83/500\n",
      "28/28 [==============================] - 0s 3ms/step - loss: 375.1418 - val_loss: 965.4988\n",
      "Epoch 84/500\n",
      "28/28 [==============================] - 0s 3ms/step - loss: 360.3484 - val_loss: 970.5419\n",
      "Epoch 85/500\n",
      "28/28 [==============================] - 0s 4ms/step - loss: 346.1752 - val_loss: 975.8488\n",
      "Epoch 86/500\n",
      "28/28 [==============================] - 0s 3ms/step - loss: 332.6008 - val_loss: 981.4039\n",
      "Epoch 87/500\n",
      "28/28 [==============================] - 0s 3ms/step - loss: 319.6047 - val_loss: 987.1903\n",
      "Epoch 88/500\n",
      "28/28 [==============================] - 0s 4ms/step - loss: 307.1671 - val_loss: 993.1923\n",
      "Epoch 89/500\n",
      "28/28 [==============================] - 0s 4ms/step - loss: 295.2693 - val_loss: 999.3907\n",
      "Epoch 90/500\n",
      "28/28 [==============================] - 0s 4ms/step - loss: 283.8929 - val_loss: 1005.7751\n",
      "Epoch 91/500\n",
      "28/28 [==============================] - 0s 4ms/step - loss: 273.0206 - val_loss: 1012.3317\n",
      "Epoch 92/500\n",
      "28/28 [==============================] - 0s 3ms/step - loss: 262.6350 - val_loss: 1019.0463\n",
      "Epoch 93/500\n",
      "28/28 [==============================] - 0s 3ms/step - loss: 252.7197 - val_loss: 1025.9058\n",
      "Epoch 94/500\n",
      "28/28 [==============================] - 0s 3ms/step - loss: 243.2586 - val_loss: 1032.8954\n",
      "Epoch 95/500\n",
      "28/28 [==============================] - 0s 3ms/step - loss: 234.2360 - val_loss: 1040.0031\n",
      "Epoch 96/500\n",
      "28/28 [==============================] - 0s 4ms/step - loss: 225.6364 - val_loss: 1047.2158\n",
      "Epoch 97/500\n",
      "28/28 [==============================] - 0s 4ms/step - loss: 217.4452 - val_loss: 1054.5212\n",
      "Epoch 98/500\n",
      "28/28 [==============================] - 0s 4ms/step - loss: 209.6476 - val_loss: 1061.9066\n",
      "Epoch 99/500\n",
      "28/28 [==============================] - 0s 3ms/step - loss: 202.2294 - val_loss: 1069.3604\n",
      "Epoch 100/500\n",
      "28/28 [==============================] - 0s 4ms/step - loss: 195.1770 - val_loss: 1076.8708\n",
      "Epoch 101/500\n",
      "28/28 [==============================] - 0s 7ms/step - loss: 188.4766 - val_loss: 1084.4266\n",
      "Epoch 102/500\n",
      "28/28 [==============================] - 0s 3ms/step - loss: 182.1149 - val_loss: 1092.0168\n",
      "Epoch 103/500\n",
      "28/28 [==============================] - 0s 3ms/step - loss: 176.0793 - val_loss: 1099.6309\n",
      "Epoch 104/500\n",
      "28/28 [==============================] - 0s 3ms/step - loss: 170.3569 - val_loss: 1107.2581\n",
      "Epoch 105/500\n",
      "28/28 [==============================] - 0s 4ms/step - loss: 164.9356 - val_loss: 1114.8882\n",
      "Epoch 106/500\n",
      "28/28 [==============================] - 0s 3ms/step - loss: 159.8033 - val_loss: 1122.5120\n",
      "Epoch 107/500\n",
      "28/28 [==============================] - 0s 3ms/step - loss: 154.9481 - val_loss: 1130.1194\n",
      "Epoch 108/500\n",
      "28/28 [==============================] - 0s 3ms/step - loss: 150.3589 - val_loss: 1137.7019\n",
      "Epoch 109/500\n",
      "28/28 [==============================] - 0s 3ms/step - loss: 146.0242 - val_loss: 1145.2502\n",
      "Epoch 110/500\n",
      "28/28 [==============================] - 0s 3ms/step - loss: 141.9336 - val_loss: 1152.7566\n",
      "Epoch 111/500\n",
      "28/28 [==============================] - 0s 4ms/step - loss: 138.0760 - val_loss: 1160.2122\n",
      "Epoch 112/500\n",
      "28/28 [==============================] - 0s 3ms/step - loss: 134.4417 - val_loss: 1167.6095\n",
      "Epoch 113/500\n",
      "28/28 [==============================] - 0s 3ms/step - loss: 131.0201 - val_loss: 1174.9415\n",
      "Epoch 114/500\n",
      "28/28 [==============================] - 0s 4ms/step - loss: 127.8019 - val_loss: 1182.2006\n",
      "Epoch 115/500\n",
      "28/28 [==============================] - 0s 3ms/step - loss: 124.7775 - val_loss: 1189.3799\n",
      "Epoch 116/500\n",
      "28/28 [==============================] - 0s 3ms/step - loss: 121.9377 - val_loss: 1196.4739\n",
      "Epoch 117/500\n",
      "28/28 [==============================] - 0s 3ms/step - loss: 119.2737 - val_loss: 1203.4756\n",
      "Epoch 118/500\n",
      "28/28 [==============================] - 0s 3ms/step - loss: 116.7768 - val_loss: 1210.3800\n",
      "Epoch 119/500\n",
      "28/28 [==============================] - 0s 4ms/step - loss: 114.4388 - val_loss: 1217.1820\n",
      "Epoch 120/500\n",
      "28/28 [==============================] - 0s 3ms/step - loss: 112.2515 - val_loss: 1223.8756\n",
      "Epoch 121/500\n",
      "28/28 [==============================] - 0s 3ms/step - loss: 110.2073 - val_loss: 1230.4570\n",
      "Epoch 122/500\n",
      "28/28 [==============================] - 0s 4ms/step - loss: 108.2985 - val_loss: 1236.9210\n",
      "Epoch 123/500\n",
      "28/28 [==============================] - 0s 3ms/step - loss: 106.5179 - val_loss: 1243.2650\n",
      "Epoch 124/500\n",
      "28/28 [==============================] - 0s 3ms/step - loss: 104.8587 - val_loss: 1249.4847\n",
      "Epoch 125/500\n",
      "28/28 [==============================] - 0s 4ms/step - loss: 103.3137 - val_loss: 1255.5770\n",
      "Epoch 126/500\n",
      "28/28 [==============================] - 0s 4ms/step - loss: 101.8769 - val_loss: 1261.5385\n",
      "Epoch 127/500\n",
      "28/28 [==============================] - 0s 4ms/step - loss: 100.5419 - val_loss: 1267.3669\n",
      "Epoch 128/500\n",
      "28/28 [==============================] - 0s 3ms/step - loss: 99.3029 - val_loss: 1273.0603\n",
      "Epoch 129/500\n",
      "28/28 [==============================] - 0s 7ms/step - loss: 98.1540 - val_loss: 1278.6163\n",
      "Epoch 130/500\n",
      "28/28 [==============================] - 0s 3ms/step - loss: 97.0900 - val_loss: 1284.0330\n",
      "Epoch 131/500\n",
      "28/28 [==============================] - 0s 4ms/step - loss: 96.1055 - val_loss: 1289.3096\n",
      "Epoch 132/500\n",
      "28/28 [==============================] - 0s 3ms/step - loss: 95.1955 - val_loss: 1294.4453\n",
      "Epoch 133/500\n",
      "28/28 [==============================] - 0s 3ms/step - loss: 94.3552 - val_loss: 1299.4391\n",
      "Epoch 134/500\n",
      "28/28 [==============================] - 0s 4ms/step - loss: 93.5802 - val_loss: 1304.2899\n",
      "Epoch 135/500\n",
      "28/28 [==============================] - 0s 3ms/step - loss: 92.8663 - val_loss: 1308.9984\n",
      "Epoch 136/500\n",
      "28/28 [==============================] - 0s 3ms/step - loss: 92.2093 - val_loss: 1313.5642\n",
      "Epoch 137/500\n",
      "28/28 [==============================] - 0s 4ms/step - loss: 91.6053 - val_loss: 1317.9871\n",
      "Epoch 138/500\n",
      "28/28 [==============================] - 0s 4ms/step - loss: 91.0506 - val_loss: 1322.2693\n",
      "Epoch 139/500\n",
      "28/28 [==============================] - 0s 3ms/step - loss: 90.5418 - val_loss: 1326.4104\n",
      "Epoch 140/500\n",
      "28/28 [==============================] - 0s 4ms/step - loss: 90.0755 - val_loss: 1330.4113\n",
      "Epoch 141/500\n",
      "28/28 [==============================] - 0s 4ms/step - loss: 89.6488 - val_loss: 1334.2729\n",
      "Epoch 142/500\n",
      "28/28 [==============================] - 0s 4ms/step - loss: 89.2588 - val_loss: 1337.9980\n",
      "Epoch 143/500\n",
      "28/28 [==============================] - 0s 4ms/step - loss: 88.9025 - val_loss: 1341.5880\n",
      "Epoch 144/500\n",
      "28/28 [==============================] - 0s 3ms/step - loss: 88.5774 - val_loss: 1345.0437\n",
      "Epoch 145/500\n",
      "28/28 [==============================] - 0s 3ms/step - loss: 88.2813 - val_loss: 1348.3674\n",
      "Epoch 146/500\n",
      "28/28 [==============================] - 0s 4ms/step - loss: 88.0117 - val_loss: 1351.5615\n",
      "Epoch 147/500\n",
      "28/28 [==============================] - 0s 3ms/step - loss: 87.7666 - val_loss: 1354.6289\n",
      "Epoch 148/500\n",
      "28/28 [==============================] - 0s 3ms/step - loss: 87.5440 - val_loss: 1357.5703\n",
      "Epoch 149/500\n",
      "28/28 [==============================] - 0s 3ms/step - loss: 87.3421 - val_loss: 1360.3892\n",
      "Epoch 150/500\n",
      "28/28 [==============================] - 0s 4ms/step - loss: 87.1591 - val_loss: 1363.0885\n",
      "Epoch 151/500\n",
      "28/28 [==============================] - 0s 4ms/step - loss: 86.9933 - val_loss: 1365.6708\n",
      "Epoch 152/500\n",
      "28/28 [==============================] - 0s 4ms/step - loss: 86.8435 - val_loss: 1368.1382\n",
      "Epoch 153/500\n",
      "28/28 [==============================] - 0s 3ms/step - loss: 86.7081 - val_loss: 1370.4944\n",
      "Epoch 154/500\n",
      "28/28 [==============================] - 0s 3ms/step - loss: 86.5860 - val_loss: 1372.7416\n",
      "Epoch 155/500\n",
      "28/28 [==============================] - 0s 8ms/step - loss: 86.4758 - val_loss: 1374.8832\n",
      "Epoch 156/500\n",
      "28/28 [==============================] - 0s 4ms/step - loss: 86.3767 - val_loss: 1376.9222\n",
      "Epoch 157/500\n",
      "28/28 [==============================] - 0s 3ms/step - loss: 86.2874 - val_loss: 1378.8621\n",
      "Epoch 158/500\n",
      "28/28 [==============================] - 0s 4ms/step - loss: 86.2072 - val_loss: 1380.7045\n",
      "Epoch 159/500\n",
      "28/28 [==============================] - 0s 4ms/step - loss: 86.1352 - val_loss: 1382.4545\n",
      "Epoch 160/500\n",
      "28/28 [==============================] - 0s 4ms/step - loss: 86.0706 - val_loss: 1384.1134\n",
      "Epoch 161/500\n",
      "28/28 [==============================] - 0s 4ms/step - loss: 86.0127 - val_loss: 1385.6853\n",
      "Epoch 162/500\n",
      "28/28 [==============================] - 0s 3ms/step - loss: 85.9609 - val_loss: 1387.1727\n",
      "Epoch 163/500\n",
      "28/28 [==============================] - 0s 3ms/step - loss: 85.9146 - val_loss: 1388.5785\n",
      "Epoch 164/500\n",
      "28/28 [==============================] - 0s 4ms/step - loss: 85.8732 - val_loss: 1389.9067\n",
      "Epoch 165/500\n",
      "28/28 [==============================] - 0s 4ms/step - loss: 85.8363 - val_loss: 1391.1595\n",
      "Epoch 166/500\n",
      "28/28 [==============================] - 0s 4ms/step - loss: 85.8032 - val_loss: 1392.3401\n",
      "Epoch 167/500\n",
      "28/28 [==============================] - 0s 3ms/step - loss: 85.7739 - val_loss: 1393.4503\n",
      "Epoch 168/500\n",
      "28/28 [==============================] - 0s 3ms/step - loss: 85.7477 - val_loss: 1394.4943\n",
      "Epoch 169/500\n",
      "28/28 [==============================] - 0s 4ms/step - loss: 85.7246 - val_loss: 1395.4735\n",
      "Epoch 170/500\n",
      "28/28 [==============================] - 0s 4ms/step - loss: 85.7039 - val_loss: 1396.3915\n",
      "Epoch 171/500\n",
      "28/28 [==============================] - 0s 4ms/step - loss: 85.6857 - val_loss: 1397.2511\n",
      "Epoch 172/500\n",
      "28/28 [==============================] - 0s 4ms/step - loss: 85.6694 - val_loss: 1398.0531\n",
      "Epoch 173/500\n",
      "28/28 [==============================] - 0s 3ms/step - loss: 85.6551 - val_loss: 1398.8020\n",
      "Epoch 174/500\n",
      "28/28 [==============================] - 0s 4ms/step - loss: 85.6424 - val_loss: 1399.4990\n",
      "Epoch 175/500\n",
      "28/28 [==============================] - 0s 4ms/step - loss: 85.6313 - val_loss: 1400.1464\n",
      "Epoch 176/500\n",
      "28/28 [==============================] - 0s 4ms/step - loss: 85.6214 - val_loss: 1400.7451\n",
      "Epoch 177/500\n",
      "28/28 [==============================] - 0s 5ms/step - loss: 85.6128 - val_loss: 1401.2983\n",
      "Epoch 178/500\n",
      "28/28 [==============================] - 0s 4ms/step - loss: 85.6053 - val_loss: 1401.8069\n",
      "Epoch 179/500\n",
      "28/28 [==============================] - 0s 7ms/step - loss: 85.5987 - val_loss: 1402.2717\n",
      "Epoch 180/500\n",
      "28/28 [==============================] - 0s 4ms/step - loss: 85.5929 - val_loss: 1402.6943\n",
      "Epoch 181/500\n",
      "28/28 [==============================] - 0s 4ms/step - loss: 85.5880 - val_loss: 1403.0754\n",
      "Epoch 182/500\n",
      "28/28 [==============================] - 0s 4ms/step - loss: 85.5837 - val_loss: 1403.4130\n",
      "Epoch 183/500\n",
      "28/28 [==============================] - 0s 5ms/step - loss: 85.5800 - val_loss: 1403.7074\n",
      "Epoch 184/500\n",
      "28/28 [==============================] - 0s 3ms/step - loss: 85.5768 - val_loss: 1403.9535\n",
      "Epoch 185/500\n",
      "28/28 [==============================] - 0s 5ms/step - loss: 85.5741 - val_loss: 1404.1447\n",
      "Epoch 186/500\n",
      "28/28 [==============================] - 0s 3ms/step - loss: 85.5719 - val_loss: 1404.2676\n",
      "Epoch 187/500\n",
      "28/28 [==============================] - 0s 4ms/step - loss: 85.5700 - val_loss: 1404.2913\n",
      "Epoch 188/500\n",
      "28/28 [==============================] - 0s 4ms/step - loss: 85.5686 - val_loss: 1404.1476\n",
      "Epoch 189/500\n",
      "28/28 [==============================] - 0s 4ms/step - loss: 85.5673 - val_loss: 1403.6328\n",
      "Epoch 190/500\n",
      "28/28 [==============================] - 0s 4ms/step - loss: 85.5659 - val_loss: 1401.4409\n",
      "Epoch 191/500\n",
      "28/28 [==============================] - 0s 4ms/step - loss: 85.4606 - val_loss: 1374.9017\n",
      "Epoch 192/500\n",
      "28/28 [==============================] - 0s 4ms/step - loss: 84.7649 - val_loss: 1299.8822\n",
      "Epoch 193/500\n",
      "28/28 [==============================] - 0s 4ms/step - loss: 99.8889 - val_loss: 1282.4330\n",
      "Epoch 194/500\n",
      "28/28 [==============================] - 0s 4ms/step - loss: 98.1351 - val_loss: 1292.7432\n",
      "Epoch 195/500\n",
      "28/28 [==============================] - 0s 3ms/step - loss: 96.1937 - val_loss: 1293.1331\n",
      "Epoch 196/500\n",
      "28/28 [==============================] - 0s 3ms/step - loss: 94.7542 - val_loss: 1313.3710\n",
      "Epoch 197/500\n",
      "28/28 [==============================] - 0s 4ms/step - loss: 93.1594 - val_loss: 1322.1714\n",
      "Epoch 198/500\n",
      "28/28 [==============================] - 0s 4ms/step - loss: 91.9803 - val_loss: 1330.3446\n",
      "Epoch 199/500\n",
      "28/28 [==============================] - 0s 4ms/step - loss: 90.9848 - val_loss: 1337.9266\n",
      "Epoch 200/500\n",
      "28/28 [==============================] - 0s 3ms/step - loss: 90.1444 - val_loss: 1344.9574\n",
      "Epoch 201/500\n",
      "28/28 [==============================] - 0s 7ms/step - loss: 89.4315 - val_loss: 1351.4208\n",
      "Epoch 202/500\n",
      "28/28 [==============================] - 0s 4ms/step - loss: 88.7472 - val_loss: 1349.4614\n",
      "Epoch 203/500\n",
      "28/28 [==============================] - 0s 3ms/step - loss: 89.0379 - val_loss: 1306.5978\n",
      "Epoch 204/500\n",
      "28/28 [==============================] - 0s 3ms/step - loss: 96.6762 - val_loss: 1303.6840\n",
      "Epoch 205/500\n",
      "28/28 [==============================] - 0s 4ms/step - loss: 95.1311 - val_loss: 1313.6427\n",
      "Epoch 206/500\n",
      "28/28 [==============================] - 0s 4ms/step - loss: 93.6158 - val_loss: 1322.9760\n",
      "Epoch 207/500\n",
      "28/28 [==============================] - 0s 4ms/step - loss: 92.3315 - val_loss: 1331.6243\n",
      "Epoch 208/500\n",
      "28/28 [==============================] - 0s 4ms/step - loss: 91.2528 - val_loss: 1339.6183\n",
      "Epoch 209/500\n",
      "28/28 [==============================] - 0s 3ms/step - loss: 90.3477 - val_loss: 1346.9935\n",
      "Epoch 210/500\n",
      "28/28 [==============================] - 0s 4ms/step - loss: 89.5885 - val_loss: 1353.7834\n",
      "Epoch 211/500\n",
      "28/28 [==============================] - 0s 4ms/step - loss: 88.9518 - val_loss: 1360.0188\n",
      "Epoch 212/500\n",
      "28/28 [==============================] - 0s 3ms/step - loss: 88.4175 - val_loss: 1365.6919\n",
      "Epoch 213/500\n",
      "28/28 [==============================] - 0s 3ms/step - loss: 87.9135 - val_loss: 1364.8854\n",
      "Epoch 214/500\n",
      "28/28 [==============================] - 0s 3ms/step - loss: 89.2304 - val_loss: 1376.5468\n",
      "Epoch 215/500\n",
      "28/28 [==============================] - 0s 5ms/step - loss: 87.2673 - val_loss: 1381.0178\n",
      "Epoch 216/500\n",
      "28/28 [==============================] - 0s 3ms/step - loss: 87.0048 - val_loss: 1385.0972\n",
      "Epoch 217/500\n",
      "28/28 [==============================] - 0s 4ms/step - loss: 86.7859 - val_loss: 1388.8264\n",
      "Epoch 218/500\n",
      "28/28 [==============================] - 0s 4ms/step - loss: 86.6024 - val_loss: 1392.2334\n",
      "Epoch 219/500\n",
      "28/28 [==============================] - 0s 4ms/step - loss: 86.4485 - val_loss: 1395.3416\n",
      "Epoch 220/500\n",
      "28/28 [==============================] - 0s 10ms/step - loss: 86.3192 - val_loss: 1398.1755\n",
      "Epoch 221/500\n",
      "28/28 [==============================] - 0s 4ms/step - loss: 86.2107 - val_loss: 1400.7565\n",
      "Epoch 222/500\n",
      "28/28 [==============================] - 0s 4ms/step - loss: 86.1194 - val_loss: 1403.1038\n",
      "Epoch 223/500\n",
      "28/28 [==============================] - 0s 4ms/step - loss: 86.0427 - val_loss: 1405.2379\n",
      "Epoch 224/500\n",
      "28/28 [==============================] - 0s 4ms/step - loss: 85.9780 - val_loss: 1407.1755\n",
      "Epoch 225/500\n",
      "28/28 [==============================] - 0s 4ms/step - loss: 85.9237 - val_loss: 1408.9326\n",
      "Epoch 226/500\n",
      "28/28 [==============================] - 0s 4ms/step - loss: 85.8777 - val_loss: 1410.5245\n",
      "Epoch 227/500\n",
      "28/28 [==============================] - 0s 4ms/step - loss: 85.8387 - val_loss: 1411.9364\n",
      "Epoch 228/500\n",
      "28/28 [==============================] - 0s 4ms/step - loss: 85.7924 - val_loss: 1410.8710\n",
      "Epoch 229/500\n",
      "28/28 [==============================] - 0s 4ms/step - loss: 85.9923 - val_loss: 1412.0389\n",
      "Epoch 230/500\n",
      "28/28 [==============================] - 0s 4ms/step - loss: 85.8821 - val_loss: 1413.6138\n",
      "Epoch 231/500\n",
      "28/28 [==============================] - 0s 5ms/step - loss: 85.8297 - val_loss: 1414.9534\n",
      "Epoch 232/500\n",
      "28/28 [==============================] - 0s 4ms/step - loss: 85.7945 - val_loss: 1416.1265\n",
      "Epoch 233/500\n",
      "28/28 [==============================] - 0s 4ms/step - loss: 85.7674 - val_loss: 1417.1626\n",
      "Epoch 234/500\n",
      "28/28 [==============================] - 0s 3ms/step - loss: 85.7456 - val_loss: 1418.0806\n",
      "Epoch 235/500\n",
      "28/28 [==============================] - 0s 4ms/step - loss: 85.7278 - val_loss: 1418.8961\n",
      "Epoch 236/500\n",
      "28/28 [==============================] - 0s 4ms/step - loss: 85.7131 - val_loss: 1419.6212\n",
      "Epoch 237/500\n",
      "28/28 [==============================] - 0s 3ms/step - loss: 85.7006 - val_loss: 1420.2634\n",
      "Epoch 238/500\n",
      "28/28 [==============================] - 0s 3ms/step - loss: 85.6892 - val_loss: 1420.8154\n",
      "Epoch 239/500\n",
      "28/28 [==============================] - 0s 3ms/step - loss: 85.6768 - val_loss: 1420.9481\n",
      "Epoch 240/500\n",
      "28/28 [==============================] - 0s 4ms/step - loss: 85.6680 - val_loss: 1421.2007\n",
      "Epoch 241/500\n",
      "28/28 [==============================] - 0s 3ms/step - loss: 85.2668 - val_loss: 1415.8584\n",
      "Epoch 242/500\n",
      "28/28 [==============================] - 0s 3ms/step - loss: 85.5482 - val_loss: 1395.6127\n",
      "Epoch 243/500\n",
      "28/28 [==============================] - 0s 7ms/step - loss: 90.7682 - val_loss: 1340.8539\n",
      "Epoch 244/500\n",
      "28/28 [==============================] - 0s 4ms/step - loss: 89.9898 - val_loss: 1349.8649\n",
      "Epoch 245/500\n",
      "28/28 [==============================] - 0s 3ms/step - loss: 89.1280 - val_loss: 1357.9551\n",
      "Epoch 246/500\n",
      "28/28 [==============================] - 0s 3ms/step - loss: 88.4394 - val_loss: 1365.1218\n",
      "Epoch 247/500\n",
      "28/28 [==============================] - 0s 3ms/step - loss: 87.8960 - val_loss: 1371.4761\n",
      "Epoch 248/500\n",
      "28/28 [==============================] - 0s 3ms/step - loss: 87.4653 - val_loss: 1377.1135\n",
      "Epoch 249/500\n",
      "28/28 [==============================] - 0s 3ms/step - loss: 87.1225 - val_loss: 1382.1179\n",
      "Epoch 250/500\n",
      "28/28 [==============================] - 0s 4ms/step - loss: 86.8487 - val_loss: 1386.5609\n",
      "Epoch 251/500\n",
      "28/28 [==============================] - 0s 4ms/step - loss: 86.6291 - val_loss: 1390.5048\n",
      "Epoch 252/500\n",
      "28/28 [==============================] - 0s 4ms/step - loss: 86.4525 - val_loss: 1394.0057\n",
      "Epoch 253/500\n",
      "28/28 [==============================] - 0s 4ms/step - loss: 86.3100 - val_loss: 1397.1122\n",
      "Epoch 254/500\n",
      "28/28 [==============================] - 0s 3ms/step - loss: 86.1946 - val_loss: 1399.8691\n",
      "Epoch 255/500\n",
      "28/28 [==============================] - 0s 3ms/step - loss: 86.1009 - val_loss: 1402.3141\n",
      "Epoch 256/500\n",
      "28/28 [==============================] - 0s 3ms/step - loss: 86.0245 - val_loss: 1404.4817\n",
      "Epoch 257/500\n",
      "28/28 [==============================] - 0s 4ms/step - loss: 85.9621 - val_loss: 1406.4038\n",
      "Epoch 258/500\n",
      "28/28 [==============================] - 0s 4ms/step - loss: 85.9108 - val_loss: 1408.1064\n",
      "Epoch 259/500\n",
      "28/28 [==============================] - 0s 4ms/step - loss: 85.8686 - val_loss: 1409.6147\n",
      "Epoch 260/500\n",
      "28/28 [==============================] - 0s 3ms/step - loss: 85.8338 - val_loss: 1410.9509\n",
      "Epoch 261/500\n",
      "28/28 [==============================] - 0s 3ms/step - loss: 85.8050 - val_loss: 1412.1343\n",
      "Epoch 262/500\n",
      "28/28 [==============================] - 0s 7ms/step - loss: 85.7810 - val_loss: 1413.1809\n",
      "Epoch 263/500\n",
      "28/28 [==============================] - 0s 4ms/step - loss: 85.7610 - val_loss: 1414.1079\n",
      "Epoch 264/500\n",
      "28/28 [==============================] - 0s 4ms/step - loss: 85.7443 - val_loss: 1414.9271\n",
      "Epoch 265/500\n",
      "28/28 [==============================] - 0s 3ms/step - loss: 85.7302 - val_loss: 1415.6514\n",
      "Epoch 266/500\n",
      "28/28 [==============================] - 0s 4ms/step - loss: 85.7184 - val_loss: 1416.2911\n",
      "Epoch 267/500\n",
      "28/28 [==============================] - 0s 4ms/step - loss: 85.7084 - val_loss: 1416.8571\n",
      "Epoch 268/500\n",
      "28/28 [==============================] - 0s 4ms/step - loss: 85.7000 - val_loss: 1417.3566\n",
      "Epoch 269/500\n",
      "28/28 [==============================] - 0s 4ms/step - loss: 85.6929 - val_loss: 1417.7983\n",
      "Epoch 270/500\n",
      "28/28 [==============================] - 0s 4ms/step - loss: 85.6869 - val_loss: 1418.1876\n",
      "Epoch 271/500\n",
      "28/28 [==============================] - 0s 4ms/step - loss: 85.6817 - val_loss: 1418.5311\n",
      "Epoch 272/500\n",
      "28/28 [==============================] - 0s 4ms/step - loss: 85.6773 - val_loss: 1418.8346\n",
      "Epoch 273/500\n",
      "28/28 [==============================] - 0s 4ms/step - loss: 85.6736 - val_loss: 1419.1025\n",
      "Epoch 274/500\n",
      "28/28 [==============================] - 0s 4ms/step - loss: 85.6705 - val_loss: 1419.3376\n",
      "Epoch 275/500\n",
      "28/28 [==============================] - 0s 4ms/step - loss: 85.6678 - val_loss: 1419.5459\n",
      "Epoch 276/500\n",
      "28/28 [==============================] - 0s 3ms/step - loss: 85.6655 - val_loss: 1419.7291\n",
      "Epoch 277/500\n",
      "28/28 [==============================] - 0s 3ms/step - loss: 85.6635 - val_loss: 1419.8899\n",
      "Epoch 278/500\n",
      "28/28 [==============================] - 0s 4ms/step - loss: 85.6619 - val_loss: 1420.0308\n",
      "Epoch 279/500\n",
      "28/28 [==============================] - 0s 4ms/step - loss: 85.6605 - val_loss: 1420.1554\n",
      "Epoch 280/500\n",
      "28/28 [==============================] - 0s 7ms/step - loss: 85.6593 - val_loss: 1420.2642\n",
      "Epoch 281/500\n",
      "28/28 [==============================] - 0s 4ms/step - loss: 85.6583 - val_loss: 1420.3599\n",
      "Epoch 282/500\n",
      "28/28 [==============================] - 0s 4ms/step - loss: 85.6574 - val_loss: 1420.4427\n",
      "Epoch 283/500\n",
      "28/28 [==============================] - 0s 4ms/step - loss: 85.6568 - val_loss: 1420.5149\n",
      "Epoch 284/500\n",
      "28/28 [==============================] - 0s 3ms/step - loss: 85.6563 - val_loss: 1420.5781\n",
      "Epoch 285/500\n",
      "28/28 [==============================] - 0s 4ms/step - loss: 85.6558 - val_loss: 1420.6324\n",
      "Epoch 286/500\n",
      "28/28 [==============================] - 0s 3ms/step - loss: 85.6555 - val_loss: 1420.6790\n",
      "Epoch 287/500\n",
      "28/28 [==============================] - 0s 3ms/step - loss: 85.6552 - val_loss: 1420.7177\n",
      "Epoch 288/500\n",
      "28/28 [==============================] - 0s 4ms/step - loss: 85.6550 - val_loss: 1420.7479\n",
      "Epoch 289/500\n",
      "28/28 [==============================] - 0s 3ms/step - loss: 85.6548 - val_loss: 1420.7388\n",
      "Epoch 290/500\n",
      "28/28 [==============================] - 0s 3ms/step - loss: 85.5654 - val_loss: 1399.6855\n",
      "Epoch 291/500\n",
      "28/28 [==============================] - 0s 3ms/step - loss: 89.7408 - val_loss: 1354.0951\n",
      "Epoch 292/500\n",
      "28/28 [==============================] - 0s 3ms/step - loss: 89.1972 - val_loss: 1362.1338\n",
      "Epoch 293/500\n",
      "28/28 [==============================] - 0s 3ms/step - loss: 88.5129 - val_loss: 1369.4438\n",
      "Epoch 294/500\n",
      "28/28 [==============================] - 0s 3ms/step - loss: 87.9556 - val_loss: 1375.9565\n",
      "Epoch 295/500\n",
      "28/28 [==============================] - 0s 4ms/step - loss: 87.5117 - val_loss: 1381.7469\n",
      "Epoch 296/500\n",
      "28/28 [==============================] - 0s 4ms/step - loss: 87.1581 - val_loss: 1386.8898\n",
      "Epoch 297/500\n",
      "28/28 [==============================] - 0s 7ms/step - loss: 86.8756 - val_loss: 1391.4540\n",
      "Epoch 298/500\n",
      "28/28 [==============================] - 0s 3ms/step - loss: 86.6495 - val_loss: 1395.5012\n",
      "Epoch 299/500\n",
      "28/28 [==============================] - 0s 3ms/step - loss: 86.4680 - val_loss: 1399.0894\n",
      "Epoch 300/500\n",
      "28/28 [==============================] - 0s 3ms/step - loss: 86.3219 - val_loss: 1402.2676\n",
      "Epoch 301/500\n",
      "28/28 [==============================] - 0s 3ms/step - loss: 86.2039 - val_loss: 1405.0806\n",
      "Epoch 302/500\n",
      "28/28 [==============================] - 0s 3ms/step - loss: 86.1083 - val_loss: 1407.5697\n",
      "Epoch 303/500\n",
      "28/28 [==============================] - 0s 3ms/step - loss: 86.0306 - val_loss: 1409.7709\n",
      "Epoch 304/500\n",
      "28/28 [==============================] - 0s 4ms/step - loss: 85.9673 - val_loss: 1411.7172\n",
      "Epoch 305/500\n",
      "28/28 [==============================] - 0s 4ms/step - loss: 85.9155 - val_loss: 1413.4373\n",
      "Epoch 306/500\n",
      "28/28 [==============================] - 0s 4ms/step - loss: 85.8728 - val_loss: 1414.9570\n",
      "Epoch 307/500\n",
      "28/28 [==============================] - 0s 4ms/step - loss: 85.8378 - val_loss: 1416.2988\n",
      "Epoch 308/500\n",
      "28/28 [==============================] - 0s 3ms/step - loss: 85.8088 - val_loss: 1417.4838\n",
      "Epoch 309/500\n",
      "28/28 [==============================] - 0s 3ms/step - loss: 85.7846 - val_loss: 1418.5300\n",
      "Epoch 310/500\n",
      "28/28 [==============================] - 0s 4ms/step - loss: 85.7644 - val_loss: 1419.4521\n",
      "Epoch 311/500\n",
      "28/28 [==============================] - 0s 4ms/step - loss: 85.7477 - val_loss: 1420.2659\n",
      "Epoch 312/500\n",
      "28/28 [==============================] - 0s 4ms/step - loss: 85.7335 - val_loss: 1420.9823\n",
      "Epoch 313/500\n",
      "28/28 [==============================] - 0s 4ms/step - loss: 85.7216 - val_loss: 1421.6134\n",
      "Epoch 314/500\n",
      "28/28 [==============================] - 0s 7ms/step - loss: 85.7116 - val_loss: 1422.1680\n",
      "Epoch 315/500\n",
      "28/28 [==============================] - 0s 4ms/step - loss: 85.7030 - val_loss: 1422.6526\n",
      "Epoch 316/500\n",
      "28/28 [==============================] - 0s 3ms/step - loss: 85.6958 - val_loss: 1423.0649\n",
      "Epoch 317/500\n",
      "28/28 [==============================] - 0s 3ms/step - loss: 85.6889 - val_loss: 1423.3248\n",
      "Epoch 318/500\n",
      "28/28 [==============================] - 0s 3ms/step - loss: 85.6807 - val_loss: 1423.5864\n",
      "Epoch 319/500\n",
      "28/28 [==============================] - 0s 3ms/step - loss: 85.6831 - val_loss: 1424.1707\n",
      "Epoch 320/500\n",
      "28/28 [==============================] - 0s 3ms/step - loss: 85.6760 - val_loss: 1424.4318\n",
      "Epoch 321/500\n",
      "28/28 [==============================] - 0s 3ms/step - loss: 85.6727 - val_loss: 1424.6615\n",
      "Epoch 322/500\n",
      "28/28 [==============================] - 0s 3ms/step - loss: 85.6698 - val_loss: 1424.8634\n",
      "Epoch 323/500\n",
      "28/28 [==============================] - 0s 4ms/step - loss: 85.6674 - val_loss: 1425.0416\n",
      "Epoch 324/500\n",
      "28/28 [==============================] - 0s 4ms/step - loss: 85.6653 - val_loss: 1425.1979\n",
      "Epoch 325/500\n",
      "28/28 [==============================] - 0s 4ms/step - loss: 85.6635 - val_loss: 1425.3367\n",
      "Epoch 326/500\n",
      "28/28 [==============================] - 0s 3ms/step - loss: 85.6619 - val_loss: 1425.4576\n",
      "Epoch 327/500\n",
      "28/28 [==============================] - 0s 3ms/step - loss: 85.6605 - val_loss: 1425.5637\n",
      "Epoch 328/500\n",
      "28/28 [==============================] - 0s 4ms/step - loss: 85.6594 - val_loss: 1425.6569\n",
      "Epoch 329/500\n",
      "28/28 [==============================] - 0s 4ms/step - loss: 85.6584 - val_loss: 1425.7390\n",
      "Epoch 330/500\n",
      "28/28 [==============================] - 0s 4ms/step - loss: 85.6576 - val_loss: 1425.8115\n",
      "Epoch 331/500\n",
      "28/28 [==============================] - 0s 3ms/step - loss: 85.6569 - val_loss: 1425.8759\n",
      "Epoch 332/500\n",
      "28/28 [==============================] - 0s 3ms/step - loss: 85.6561 - val_loss: 1425.9307\n",
      "Epoch 333/500\n",
      "28/28 [==============================] - 0s 4ms/step - loss: 85.6557 - val_loss: 1425.9801\n",
      "Epoch 334/500\n",
      "28/28 [==============================] - 0s 4ms/step - loss: 85.6552 - val_loss: 1426.0234\n",
      "Epoch 335/500\n",
      "28/28 [==============================] - 0s 6ms/step - loss: 85.6548 - val_loss: 1426.0610\n",
      "Epoch 336/500\n",
      "28/28 [==============================] - 0s 4ms/step - loss: 85.6545 - val_loss: 1426.0941\n",
      "Epoch 337/500\n",
      "28/28 [==============================] - 0s 3ms/step - loss: 85.6541 - val_loss: 1426.1229\n",
      "Epoch 338/500\n",
      "28/28 [==============================] - 0s 7ms/step - loss: 85.6539 - val_loss: 1426.1477\n",
      "Epoch 339/500\n",
      "28/28 [==============================] - 0s 4ms/step - loss: 85.6537 - val_loss: 1426.1694\n",
      "Epoch 340/500\n",
      "28/28 [==============================] - 0s 3ms/step - loss: 85.6536 - val_loss: 1426.1890\n",
      "Epoch 341/500\n",
      "28/28 [==============================] - 0s 3ms/step - loss: 85.6534 - val_loss: 1426.2053\n",
      "Epoch 342/500\n",
      "28/28 [==============================] - 0s 3ms/step - loss: 85.6534 - val_loss: 1426.2207\n",
      "Epoch 343/500\n",
      "28/28 [==============================] - 0s 3ms/step - loss: 85.6533 - val_loss: 1426.2330\n",
      "Epoch 344/500\n",
      "28/28 [==============================] - 0s 4ms/step - loss: 85.6532 - val_loss: 1426.2438\n",
      "Epoch 345/500\n",
      "28/28 [==============================] - 0s 4ms/step - loss: 85.6532 - val_loss: 1426.2538\n",
      "Epoch 346/500\n",
      "28/28 [==============================] - 0s 4ms/step - loss: 85.6532 - val_loss: 1426.2627\n",
      "Epoch 347/500\n",
      "28/28 [==============================] - 0s 3ms/step - loss: 85.6532 - val_loss: 1426.2705\n",
      "Epoch 348/500\n",
      "28/28 [==============================] - 0s 3ms/step - loss: 85.6531 - val_loss: 1426.2770\n",
      "Epoch 349/500\n",
      "28/28 [==============================] - 0s 4ms/step - loss: 85.6530 - val_loss: 1426.2808\n",
      "Epoch 350/500\n",
      "28/28 [==============================] - 0s 4ms/step - loss: 85.6531 - val_loss: 1426.2860\n",
      "Epoch 351/500\n",
      "28/28 [==============================] - 0s 4ms/step - loss: 85.6532 - val_loss: 1426.2899\n",
      "Epoch 352/500\n",
      "28/28 [==============================] - 0s 4ms/step - loss: 85.6532 - val_loss: 1426.2924\n",
      "Epoch 353/500\n",
      "28/28 [==============================] - 0s 4ms/step - loss: 85.6532 - val_loss: 1426.2954\n",
      "Epoch 354/500\n",
      "28/28 [==============================] - 0s 4ms/step - loss: 85.6533 - val_loss: 1426.2977\n",
      "Epoch 355/500\n",
      "28/28 [==============================] - 0s 4ms/step - loss: 85.6533 - val_loss: 1426.2993\n",
      "Epoch 356/500\n",
      "28/28 [==============================] - 0s 3ms/step - loss: 85.6533 - val_loss: 1426.3009\n",
      "Epoch 357/500\n",
      "28/28 [==============================] - 0s 3ms/step - loss: 85.6534 - val_loss: 1426.3026\n",
      "Epoch 358/500\n",
      "28/28 [==============================] - 0s 4ms/step - loss: 85.6534 - val_loss: 1426.3031\n",
      "Epoch 359/500\n",
      "28/28 [==============================] - 0s 4ms/step - loss: 85.6534 - val_loss: 1426.3037\n",
      "Epoch 360/500\n",
      "28/28 [==============================] - 0s 4ms/step - loss: 85.6534 - val_loss: 1426.3033\n",
      "Epoch 361/500\n",
      "28/28 [==============================] - 0s 7ms/step - loss: 85.6536 - val_loss: 1426.3040\n",
      "Epoch 362/500\n",
      "28/28 [==============================] - 0s 4ms/step - loss: 85.6536 - val_loss: 1426.3040\n",
      "Epoch 363/500\n",
      "28/28 [==============================] - 0s 4ms/step - loss: 85.6536 - val_loss: 1426.3040\n",
      "Epoch 364/500\n",
      "28/28 [==============================] - 0s 4ms/step - loss: 85.6536 - val_loss: 1426.3031\n",
      "Epoch 365/500\n",
      "28/28 [==============================] - 0s 3ms/step - loss: 85.6537 - val_loss: 1426.3035\n",
      "Epoch 366/500\n",
      "28/28 [==============================] - 0s 3ms/step - loss: 85.6537 - val_loss: 1426.3020\n",
      "Epoch 367/500\n",
      "28/28 [==============================] - 0s 3ms/step - loss: 85.6538 - val_loss: 1426.3005\n",
      "Epoch 368/500\n",
      "28/28 [==============================] - 0s 4ms/step - loss: 85.6538 - val_loss: 1426.2992\n",
      "Epoch 369/500\n",
      "28/28 [==============================] - 0s 4ms/step - loss: 85.6538 - val_loss: 1426.2980\n",
      "Epoch 370/500\n",
      "28/28 [==============================] - 0s 4ms/step - loss: 85.6539 - val_loss: 1426.2970\n",
      "Epoch 371/500\n",
      "28/28 [==============================] - 0s 4ms/step - loss: 85.6540 - val_loss: 1426.2966\n",
      "Epoch 372/500\n",
      "28/28 [==============================] - 0s 4ms/step - loss: 85.6540 - val_loss: 1426.2952\n",
      "Epoch 373/500\n",
      "28/28 [==============================] - 0s 3ms/step - loss: 85.6541 - val_loss: 1426.2944\n",
      "Epoch 374/500\n",
      "28/28 [==============================] - 0s 3ms/step - loss: 85.6542 - val_loss: 1426.2936\n",
      "Epoch 375/500\n",
      "28/28 [==============================] - 0s 3ms/step - loss: 85.6541 - val_loss: 1426.2926\n",
      "Epoch 376/500\n",
      "28/28 [==============================] - 0s 3ms/step - loss: 85.6541 - val_loss: 1426.2911\n",
      "Epoch 377/500\n",
      "28/28 [==============================] - 0s 4ms/step - loss: 85.6541 - val_loss: 1426.2892\n",
      "Epoch 378/500\n",
      "28/28 [==============================] - 0s 4ms/step - loss: 85.6542 - val_loss: 1426.2870\n",
      "Epoch 379/500\n",
      "28/28 [==============================] - 0s 4ms/step - loss: 85.6543 - val_loss: 1426.2864\n",
      "Epoch 380/500\n",
      "28/28 [==============================] - 0s 4ms/step - loss: 85.6544 - val_loss: 1426.2853\n",
      "Epoch 381/500\n",
      "28/28 [==============================] - 0s 4ms/step - loss: 85.6543 - val_loss: 1426.2834\n",
      "Epoch 382/500\n",
      "28/28 [==============================] - 0s 7ms/step - loss: 85.6544 - val_loss: 1426.2819\n",
      "Epoch 383/500\n",
      "28/28 [==============================] - 0s 4ms/step - loss: 85.6544 - val_loss: 1426.2800\n",
      "Epoch 384/500\n",
      "28/28 [==============================] - 0s 4ms/step - loss: 85.6543 - val_loss: 1426.2778\n",
      "Epoch 385/500\n",
      "28/28 [==============================] - 0s 4ms/step - loss: 85.6544 - val_loss: 1426.2758\n",
      "Epoch 386/500\n",
      "28/28 [==============================] - 0s 3ms/step - loss: 85.6545 - val_loss: 1426.2742\n",
      "Epoch 387/500\n",
      "28/28 [==============================] - 0s 3ms/step - loss: 85.6545 - val_loss: 1426.2722\n",
      "Epoch 388/500\n",
      "28/28 [==============================] - 0s 4ms/step - loss: 85.6546 - val_loss: 1426.2706\n",
      "Epoch 389/500\n",
      "28/28 [==============================] - 0s 4ms/step - loss: 85.6546 - val_loss: 1426.2694\n",
      "Epoch 390/500\n",
      "28/28 [==============================] - 0s 4ms/step - loss: 85.6546 - val_loss: 1426.2679\n",
      "Epoch 391/500\n",
      "28/28 [==============================] - 0s 3ms/step - loss: 85.6546 - val_loss: 1426.2655\n",
      "Epoch 392/500\n",
      "28/28 [==============================] - 0s 4ms/step - loss: 85.6546 - val_loss: 1426.2634\n",
      "Epoch 393/500\n",
      "28/28 [==============================] - 0s 4ms/step - loss: 85.6547 - val_loss: 1426.2621\n",
      "Epoch 394/500\n",
      "28/28 [==============================] - 0s 4ms/step - loss: 85.6547 - val_loss: 1426.2605\n",
      "Epoch 395/500\n",
      "28/28 [==============================] - 0s 4ms/step - loss: 85.6547 - val_loss: 1426.2585\n",
      "Epoch 396/500\n",
      "28/28 [==============================] - 0s 4ms/step - loss: 85.6547 - val_loss: 1426.2556\n",
      "Epoch 397/500\n",
      "28/28 [==============================] - 0s 4ms/step - loss: 85.6548 - val_loss: 1426.2534\n",
      "Epoch 398/500\n",
      "28/28 [==============================] - 0s 4ms/step - loss: 85.6548 - val_loss: 1426.2511\n",
      "Epoch 399/500\n",
      "28/28 [==============================] - 0s 4ms/step - loss: 85.6548 - val_loss: 1426.2491\n",
      "Epoch 400/500\n",
      "28/28 [==============================] - 0s 4ms/step - loss: 85.6548 - val_loss: 1426.2469\n",
      "Epoch 401/500\n",
      "28/28 [==============================] - 0s 4ms/step - loss: 85.6549 - val_loss: 1426.2445\n",
      "Epoch 402/500\n",
      "28/28 [==============================] - 0s 4ms/step - loss: 85.6549 - val_loss: 1426.2428\n",
      "Epoch 403/500\n",
      "28/28 [==============================] - 0s 4ms/step - loss: 85.6550 - val_loss: 1426.2413\n",
      "Epoch 404/500\n",
      "28/28 [==============================] - 0s 7ms/step - loss: 85.6550 - val_loss: 1426.2395\n",
      "Epoch 405/500\n",
      "28/28 [==============================] - 0s 4ms/step - loss: 85.6550 - val_loss: 1426.2380\n",
      "Epoch 406/500\n",
      "28/28 [==============================] - 0s 4ms/step - loss: 85.6550 - val_loss: 1426.2357\n",
      "Epoch 407/500\n",
      "28/28 [==============================] - 0s 4ms/step - loss: 85.6550 - val_loss: 1426.2334\n",
      "Epoch 408/500\n",
      "28/28 [==============================] - 0s 4ms/step - loss: 85.6550 - val_loss: 1426.2306\n",
      "Epoch 409/500\n",
      "28/28 [==============================] - 0s 4ms/step - loss: 85.6550 - val_loss: 1426.2279\n",
      "Epoch 410/500\n",
      "28/28 [==============================] - 0s 3ms/step - loss: 85.6550 - val_loss: 1426.2256\n",
      "Epoch 411/500\n",
      "28/28 [==============================] - 0s 4ms/step - loss: 85.6551 - val_loss: 1426.2231\n",
      "Epoch 412/500\n",
      "28/28 [==============================] - 0s 4ms/step - loss: 85.6551 - val_loss: 1426.2209\n",
      "Epoch 413/500\n",
      "28/28 [==============================] - 0s 4ms/step - loss: 85.6551 - val_loss: 1426.2184\n",
      "Epoch 414/500\n",
      "28/28 [==============================] - 0s 4ms/step - loss: 85.6551 - val_loss: 1426.2155\n",
      "Epoch 415/500\n",
      "28/28 [==============================] - 0s 4ms/step - loss: 85.6551 - val_loss: 1426.2125\n",
      "Epoch 416/500\n",
      "28/28 [==============================] - 0s 4ms/step - loss: 85.6551 - val_loss: 1426.2098\n",
      "Epoch 417/500\n",
      "28/28 [==============================] - 0s 3ms/step - loss: 85.6552 - val_loss: 1426.2074\n",
      "Epoch 418/500\n",
      "28/28 [==============================] - 0s 4ms/step - loss: 85.6551 - val_loss: 1426.2048\n",
      "Epoch 419/500\n",
      "28/28 [==============================] - 0s 4ms/step - loss: 85.6551 - val_loss: 1426.2020\n",
      "Epoch 420/500\n",
      "28/28 [==============================] - 0s 4ms/step - loss: 85.6552 - val_loss: 1426.1991\n",
      "Epoch 421/500\n",
      "28/28 [==============================] - 0s 4ms/step - loss: 85.6552 - val_loss: 1426.1962\n",
      "Epoch 422/500\n",
      "28/28 [==============================] - 0s 4ms/step - loss: 85.6552 - val_loss: 1426.1929\n",
      "Epoch 423/500\n",
      "28/28 [==============================] - 0s 4ms/step - loss: 85.6552 - val_loss: 1426.1896\n",
      "Epoch 424/500\n",
      "28/28 [==============================] - 0s 4ms/step - loss: 85.6552 - val_loss: 1426.1864\n",
      "Epoch 425/500\n",
      "28/28 [==============================] - 0s 7ms/step - loss: 85.6553 - val_loss: 1426.1837\n",
      "Epoch 426/500\n",
      "28/28 [==============================] - 0s 4ms/step - loss: 85.6553 - val_loss: 1426.1808\n",
      "Epoch 427/500\n",
      "28/28 [==============================] - 0s 4ms/step - loss: 85.6553 - val_loss: 1426.1779\n",
      "Epoch 428/500\n",
      "28/28 [==============================] - 0s 4ms/step - loss: 85.6552 - val_loss: 1426.1743\n",
      "Epoch 429/500\n",
      "28/28 [==============================] - 0s 4ms/step - loss: 85.6552 - val_loss: 1426.1708\n",
      "Epoch 430/500\n",
      "28/28 [==============================] - 0s 4ms/step - loss: 85.6552 - val_loss: 1426.1674\n",
      "Epoch 431/500\n",
      "28/28 [==============================] - 0s 3ms/step - loss: 85.6552 - val_loss: 1426.1636\n",
      "Epoch 432/500\n",
      "28/28 [==============================] - 0s 4ms/step - loss: 85.6553 - val_loss: 1426.1597\n",
      "Epoch 433/500\n",
      "28/28 [==============================] - 0s 4ms/step - loss: 85.6553 - val_loss: 1426.1558\n",
      "Epoch 434/500\n",
      "28/28 [==============================] - 0s 4ms/step - loss: 85.6553 - val_loss: 1426.1519\n",
      "Epoch 435/500\n",
      "28/28 [==============================] - 0s 4ms/step - loss: 85.6553 - val_loss: 1426.1476\n",
      "Epoch 436/500\n",
      "28/28 [==============================] - 0s 4ms/step - loss: 85.6554 - val_loss: 1426.1437\n",
      "Epoch 437/500\n",
      "28/28 [==============================] - 0s 3ms/step - loss: 85.6554 - val_loss: 1426.1400\n",
      "Epoch 438/500\n",
      "28/28 [==============================] - 0s 4ms/step - loss: 85.6554 - val_loss: 1426.1364\n",
      "Epoch 439/500\n",
      "28/28 [==============================] - 0s 4ms/step - loss: 85.6554 - val_loss: 1426.1327\n",
      "Epoch 440/500\n",
      "28/28 [==============================] - 0s 4ms/step - loss: 85.6554 - val_loss: 1426.1293\n",
      "Epoch 441/500\n",
      "28/28 [==============================] - 0s 4ms/step - loss: 85.6554 - val_loss: 1426.1256\n",
      "Epoch 442/500\n",
      "28/28 [==============================] - 0s 4ms/step - loss: 85.6554 - val_loss: 1426.1211\n",
      "Epoch 443/500\n",
      "28/28 [==============================] - 0s 4ms/step - loss: 85.6554 - val_loss: 1426.1167\n",
      "Epoch 444/500\n",
      "28/28 [==============================] - 0s 4ms/step - loss: 85.6554 - val_loss: 1426.1123\n",
      "Epoch 445/500\n",
      "28/28 [==============================] - 0s 7ms/step - loss: 85.6554 - val_loss: 1426.1080\n",
      "Epoch 446/500\n",
      "28/28 [==============================] - 0s 5ms/step - loss: 85.6554 - val_loss: 1426.1034\n",
      "Epoch 447/500\n",
      "28/28 [==============================] - 0s 4ms/step - loss: 85.6554 - val_loss: 1426.0978\n",
      "Epoch 448/500\n",
      "28/28 [==============================] - 0s 4ms/step - loss: 85.6554 - val_loss: 1426.0920\n",
      "Epoch 449/500\n",
      "28/28 [==============================] - 0s 3ms/step - loss: 85.6554 - val_loss: 1426.0862\n",
      "Epoch 450/500\n",
      "28/28 [==============================] - 0s 3ms/step - loss: 85.6554 - val_loss: 1426.0806\n",
      "Epoch 451/500\n",
      "28/28 [==============================] - 0s 4ms/step - loss: 85.6554 - val_loss: 1426.0752\n",
      "Epoch 452/500\n",
      "28/28 [==============================] - 0s 4ms/step - loss: 85.6554 - val_loss: 1426.0691\n",
      "Epoch 453/500\n",
      "28/28 [==============================] - 0s 4ms/step - loss: 85.6554 - val_loss: 1426.0629\n",
      "Epoch 454/500\n",
      "28/28 [==============================] - 0s 3ms/step - loss: 85.6554 - val_loss: 1426.0570\n",
      "Epoch 455/500\n",
      "28/28 [==============================] - 0s 4ms/step - loss: 85.6554 - val_loss: 1426.0507\n",
      "Epoch 456/500\n",
      "28/28 [==============================] - 0s 4ms/step - loss: 85.6554 - val_loss: 1426.0444\n",
      "Epoch 457/500\n",
      "28/28 [==============================] - 0s 4ms/step - loss: 85.6554 - val_loss: 1426.0374\n",
      "Epoch 458/500\n",
      "28/28 [==============================] - 0s 4ms/step - loss: 85.6554 - val_loss: 1426.0308\n",
      "Epoch 459/500\n",
      "28/28 [==============================] - 0s 4ms/step - loss: 85.6554 - val_loss: 1426.0236\n",
      "Epoch 460/500\n",
      "28/28 [==============================] - 0s 4ms/step - loss: 85.6554 - val_loss: 1426.0162\n",
      "Epoch 461/500\n",
      "28/28 [==============================] - 0s 3ms/step - loss: 85.6554 - val_loss: 1426.0084\n",
      "Epoch 462/500\n",
      "28/28 [==============================] - 0s 4ms/step - loss: 85.6554 - val_loss: 1426.0004\n",
      "Epoch 463/500\n",
      "28/28 [==============================] - 0s 4ms/step - loss: 85.6554 - val_loss: 1425.9927\n",
      "Epoch 464/500\n",
      "28/28 [==============================] - 0s 4ms/step - loss: 85.6554 - val_loss: 1425.9843\n",
      "Epoch 465/500\n",
      "28/28 [==============================] - 0s 7ms/step - loss: 85.6554 - val_loss: 1425.9756\n",
      "Epoch 466/500\n",
      "28/28 [==============================] - 0s 5ms/step - loss: 85.6554 - val_loss: 1425.9670\n",
      "Epoch 467/500\n",
      "28/28 [==============================] - 0s 4ms/step - loss: 85.6554 - val_loss: 1425.9580\n",
      "Epoch 468/500\n",
      "28/28 [==============================] - 0s 4ms/step - loss: 85.6554 - val_loss: 1425.9491\n",
      "Epoch 469/500\n",
      "28/28 [==============================] - 0s 4ms/step - loss: 85.6554 - val_loss: 1425.9402\n",
      "Epoch 470/500\n",
      "28/28 [==============================] - 0s 4ms/step - loss: 85.6555 - val_loss: 1425.9303\n",
      "Epoch 471/500\n",
      "28/28 [==============================] - 0s 4ms/step - loss: 85.6555 - val_loss: 1425.9199\n",
      "Epoch 472/500\n",
      "28/28 [==============================] - 0s 4ms/step - loss: 85.6555 - val_loss: 1425.9095\n",
      "Epoch 473/500\n",
      "28/28 [==============================] - 0s 4ms/step - loss: 85.6555 - val_loss: 1425.8987\n",
      "Epoch 474/500\n",
      "28/28 [==============================] - 0s 4ms/step - loss: 85.6555 - val_loss: 1425.8878\n",
      "Epoch 475/500\n",
      "28/28 [==============================] - 0s 4ms/step - loss: 85.6555 - val_loss: 1425.8761\n",
      "Epoch 476/500\n",
      "28/28 [==============================] - 0s 4ms/step - loss: 85.6555 - val_loss: 1425.8639\n",
      "Epoch 477/500\n",
      "28/28 [==============================] - 0s 4ms/step - loss: 85.6555 - val_loss: 1425.8514\n",
      "Epoch 478/500\n",
      "28/28 [==============================] - 0s 4ms/step - loss: 85.6555 - val_loss: 1425.8383\n",
      "Epoch 479/500\n",
      "28/28 [==============================] - 0s 4ms/step - loss: 85.6555 - val_loss: 1425.8247\n",
      "Epoch 480/500\n",
      "28/28 [==============================] - 0s 3ms/step - loss: 85.6555 - val_loss: 1425.8104\n",
      "Epoch 481/500\n",
      "28/28 [==============================] - 0s 4ms/step - loss: 85.6555 - val_loss: 1425.7958\n",
      "Epoch 482/500\n",
      "28/28 [==============================] - 0s 4ms/step - loss: 85.6555 - val_loss: 1425.7804\n",
      "Epoch 483/500\n",
      "28/28 [==============================] - 0s 4ms/step - loss: 85.6555 - val_loss: 1425.7646\n",
      "Epoch 484/500\n",
      "28/28 [==============================] - 0s 7ms/step - loss: 85.6555 - val_loss: 1425.7466\n",
      "Epoch 485/500\n",
      "28/28 [==============================] - 0s 4ms/step - loss: 85.6555 - val_loss: 1425.7284\n",
      "Epoch 486/500\n",
      "28/28 [==============================] - 0s 4ms/step - loss: 85.6555 - val_loss: 1425.7089\n",
      "Epoch 487/500\n",
      "28/28 [==============================] - 0s 4ms/step - loss: 85.6555 - val_loss: 1425.6887\n",
      "Epoch 488/500\n",
      "28/28 [==============================] - 0s 4ms/step - loss: 85.6555 - val_loss: 1425.6688\n",
      "Epoch 489/500\n",
      "28/28 [==============================] - 0s 4ms/step - loss: 85.6555 - val_loss: 1425.6469\n",
      "Epoch 490/500\n",
      "28/28 [==============================] - 0s 4ms/step - loss: 85.6555 - val_loss: 1425.6235\n",
      "Epoch 491/500\n",
      "28/28 [==============================] - 0s 4ms/step - loss: 85.6555 - val_loss: 1425.6006\n",
      "Epoch 492/500\n",
      "28/28 [==============================] - 0s 4ms/step - loss: 85.6555 - val_loss: 1425.5767\n",
      "Epoch 493/500\n",
      "28/28 [==============================] - 0s 4ms/step - loss: 85.6555 - val_loss: 1425.5503\n",
      "Epoch 494/500\n",
      "28/28 [==============================] - 0s 4ms/step - loss: 85.6555 - val_loss: 1425.5223\n",
      "Epoch 495/500\n",
      "28/28 [==============================] - 0s 3ms/step - loss: 85.6555 - val_loss: 1425.4929\n",
      "Epoch 496/500\n",
      "28/28 [==============================] - 0s 3ms/step - loss: 85.6555 - val_loss: 1425.4618\n",
      "Epoch 497/500\n",
      "28/28 [==============================] - 0s 4ms/step - loss: 85.6555 - val_loss: 1425.4279\n",
      "Epoch 498/500\n",
      "28/28 [==============================] - 0s 4ms/step - loss: 85.6555 - val_loss: 1425.3920\n",
      "Epoch 499/500\n",
      "28/28 [==============================] - 0s 4ms/step - loss: 85.6555 - val_loss: 1425.3534\n",
      "Epoch 500/500\n",
      "28/28 [==============================] - 0s 3ms/step - loss: 85.6555 - val_loss: 1425.3121\n"
     ]
    }
   ],
   "source": [
    "C0 = tf.Variable(89.3180, name=\"C0\", trainable=True, dtype=tf.float32)\n",
    "K0 = tf.Variable(-0.0010, name=\"K0\", trainable=True, dtype=tf.float32)\n",
    "K1 = tf.Variable(0.0001, name=\"K1\", trainable=True, dtype=tf.float32)\n",
    "a = tf.Variable(0.0000, name=\"a\", trainable=True, dtype=tf.float32)\n",
    "b = tf.Variable(-0.0204, name=\"b\", trainable=True, dtype=tf.float32)\n",
    "c = tf.Variable(2.2194, name=\"c\", trainable=True, dtype=tf.float32)\n",
    "\n",
    "splitr = 0.8\n",
    "\n",
    "\n",
    "def loss_fn(y_true, y_pred):\n",
    "    squared_difference = tf.square(y_true[:, 0] - y_pred[:, 0])\n",
    "    #squared_difference2 = tf.square(y_true[:, 2]-y_pred[:, 2])\n",
    "    #squared_difference1 = tf.square(y_true[:, 1]-y_pred[:, 1])\n",
    "    epsilon = 1\n",
    "    squared_difference3 = tf.square(\n",
    "        y_pred[:, 1] - (\n",
    "            y_pred[:, 0] * (\n",
    "                K0 - K1 * (\n",
    "                    9 * a * tf.math.log((y_pred[:, 0] + epsilon) / C0) / (K0 - K1 * c)**2 +\n",
    "                    4 * b * tf.math.log((y_pred[:, 0] + epsilon) / C0) / (K0 - K1 * c) + c\n",
    "                )\n",
    "            )\n",
    "        )\n",
    "    )\n",
    "    return tf.reduce_mean(squared_difference, axis=-1) + 0.2*tf.reduce_mean(squared_difference3, axis=-1)\n",
    "model = Sequential()\n",
    "model.add(LSTM(100, input_shape=(trainX.shape[1], trainX.shape[2])))\n",
    "model.add(Dense(60))\n",
    "model.compile(loss=loss_fn, optimizer='adam')\n",
    "history = model.fit(trainX[:int(splitr*trainX.shape[0])], trainy[:int(splitr*trainX.shape[0])], epochs=500, batch_size=64, validation_data=(trainX[int(splitr*trainX.shape[0]):trainX.shape[0]], trainy[int(splitr*trainX.shape[0]):trainX.shape[0]]), shuffle=False)"
   ]
  },
  {
   "cell_type": "code",
   "execution_count": 19,
   "metadata": {
    "colab": {
     "base_uri": "https://localhost:8080/"
    },
    "id": "yJL101rPyuoT",
    "outputId": "239ff2b1-c186-423a-d316-939dfdd7c793"
   },
   "outputs": [
    {
     "name": "stdout",
     "output_type": "stream",
     "text": [
      "1/1 [==============================] - 0s 395ms/step\n"
     ]
    }
   ],
   "source": [
    "forecast_without_mc = forecastX\n",
    "yhat_without_mc = model.predict(forecast_without_mc) # Step Ahead Prediction\n",
    "forecast_without_mc = forecast_without_mc.reshape((forecast_without_mc.shape[0], forecast_without_mc.shape[2])) # Historical Input"
   ]
  },
  {
   "cell_type": "code",
   "execution_count": 20,
   "metadata": {
    "colab": {
     "base_uri": "https://localhost:8080/"
    },
    "id": "g9dQELcJ8wbp",
    "outputId": "4dc7671b-b1a8-48d5-8744-a86f98446109"
   },
   "outputs": [
    {
     "data": {
      "text/plain": [
       "(1, 1, 126)"
      ]
     },
     "execution_count": 20,
     "metadata": {},
     "output_type": "execute_result"
    }
   ],
   "source": [
    "forecastX.shape"
   ]
  },
  {
   "cell_type": "code",
   "execution_count": 21,
   "metadata": {
    "colab": {
     "base_uri": "https://localhost:8080/"
    },
    "id": "IS2kyIKG1Kbr",
    "outputId": "f31b3485-8e26-452f-9298-ea8bf7e80ad1"
   },
   "outputs": [
    {
     "data": {
      "text/plain": [
       "(1, 126)"
      ]
     },
     "execution_count": 21,
     "metadata": {},
     "output_type": "execute_result"
    }
   ],
   "source": [
    "forecast_without_mc.shape"
   ]
  },
  {
   "cell_type": "code",
   "execution_count": 22,
   "metadata": {
    "id": "0u6VIzaDyuoT"
   },
   "outputs": [],
   "source": [
    "inv_yhat_without_mc = np.concatenate((forecast_without_mc, yhat_without_mc), axis=1) # Concatenation of predicted values with Historical Data\n",
    "#inv_yhat_without_mc = scaler.inverse_transform(inv_yhat_without_mc) # Transform labels back to original encoding"
   ]
  },
  {
   "cell_type": "code",
   "execution_count": 23,
   "metadata": {
    "colab": {
     "base_uri": "https://localhost:8080/"
    },
    "id": "EUEcw0LX07oU",
    "outputId": "cfc32397-9c37-4b43-d087-584bb31c3dcc"
   },
   "outputs": [
    {
     "data": {
      "text/plain": [
       "(1, 186)"
      ]
     },
     "execution_count": 23,
     "metadata": {},
     "output_type": "execute_result"
    }
   ],
   "source": [
    "inv_yhat_without_mc.shape"
   ]
  },
  {
   "cell_type": "code",
   "execution_count": 24,
   "metadata": {
    "id": "31OWVbSh_305"
   },
   "outputs": [],
   "source": [
    "fforecast = inv_yhat_without_mc[:,-150:]"
   ]
  },
  {
   "cell_type": "code",
   "execution_count": 25,
   "metadata": {},
   "outputs": [
    {
     "data": {
      "text/plain": [
       "(1, 150)"
      ]
     },
     "execution_count": 25,
     "metadata": {},
     "output_type": "execute_result"
    }
   ],
   "source": [
    "fforecast.shape"
   ]
  },
  {
   "cell_type": "code",
   "execution_count": 26,
   "metadata": {
    "id": "BlpGH2FOAiRF"
   },
   "outputs": [],
   "source": [
    "final_forecast = fforecast[:,0:150:3]"
   ]
  },
  {
   "cell_type": "code",
   "execution_count": 27,
   "metadata": {},
   "outputs": [
    {
     "data": {
      "text/plain": [
       "(1, 150)"
      ]
     },
     "execution_count": 27,
     "metadata": {},
     "output_type": "execute_result"
    }
   ],
   "source": [
    "fforecast.shape"
   ]
  },
  {
   "cell_type": "code",
   "execution_count": 28,
   "metadata": {
    "id": "CXkgkj_LBk_t"
   },
   "outputs": [],
   "source": [
    "# code to replace all negative value with 0\n",
    "final_forecast[final_forecast<0] = 0"
   ]
  },
  {
   "cell_type": "code",
   "execution_count": 29,
   "metadata": {},
   "outputs": [
    {
     "data": {
      "text/plain": [
       "array([[0.00000000e+00, 7.04212418e+01, 7.00683006e+01, 6.97153595e+01,\n",
       "        6.94312092e+01, 6.92547386e+01, 6.90782680e+01, 6.89017974e+01,\n",
       "        6.87893324e+01, 6.87641223e+01, 1.06601441e+00, 6.04974806e-01,\n",
       "        7.04604575e+01, 7.01075163e+01, 6.97545752e+01, 6.94508170e+01,\n",
       "        6.92743464e+01, 6.90987758e+01, 6.89214052e+01, 6.87921335e+01,\n",
       "        6.87669234e+01, 5.02604306e-01, 2.92042941e-01, 4.54188614e+01,\n",
       "        2.91158468e-01, 8.49562730e-02, 1.54605360e-02, 7.24539340e-01,\n",
       "        0.00000000e+00, 9.74744320e-01, 6.62910233e+01, 0.00000000e+00,\n",
       "        0.00000000e+00, 0.00000000e+00, 2.63608336e-01, 0.00000000e+00,\n",
       "        4.75232333e-01, 5.51850736e-01, 1.04397535e-01, 1.43292212e+00,\n",
       "        5.92755020e-01, 0.00000000e+00, 1.19628645e-01, 6.35984302e-01,\n",
       "        3.39572072e-01, 0.00000000e+00, 0.00000000e+00, 1.49526566e-01,\n",
       "        0.00000000e+00, 0.00000000e+00]])"
      ]
     },
     "execution_count": 29,
     "metadata": {},
     "output_type": "execute_result"
    }
   ],
   "source": [
    "final_forecast"
   ]
  },
  {
   "cell_type": "code",
   "execution_count": 30,
   "metadata": {},
   "outputs": [
    {
     "data": {
      "text/plain": [
       "(1, 50)"
      ]
     },
     "execution_count": 30,
     "metadata": {},
     "output_type": "execute_result"
    }
   ],
   "source": [
    "final_forecast.shape"
   ]
  },
  {
   "cell_type": "code",
   "execution_count": 31,
   "metadata": {},
   "outputs": [
    {
     "data": {
      "text/plain": [
       "(50,)"
      ]
     },
     "execution_count": 31,
     "metadata": {},
     "output_type": "execute_result"
    }
   ],
   "source": [
    "test.shape"
   ]
  },
  {
   "cell_type": "code",
   "execution_count": 32,
   "metadata": {},
   "outputs": [],
   "source": [
    "training_set = np.array(training_set)\n",
    "test = np.array(test)\n",
    "final_forecast = np.array(final_forecast.squeeze(0))"
   ]
  },
  {
   "cell_type": "code",
   "execution_count": 33,
   "metadata": {},
   "outputs": [
    {
     "data": {
      "text/plain": [
       "array([62.77494022, 62.76728838, 62.75963654, 62.7519847 , 62.74433286,\n",
       "       62.73668101, 62.72902917, 62.72137733, 62.71372549, 62.70607365,\n",
       "       62.69842181, 62.69076997, 62.68311813, 62.67546628, 62.66781444,\n",
       "       62.6601626 , 62.65251076, 62.64485892, 62.63720708, 62.62955524,\n",
       "       62.6219034 , 62.61425155, 62.60659971, 62.59894787, 62.59129603,\n",
       "       62.58364419, 62.57599235, 62.56834051, 62.56068867, 62.55303682,\n",
       "       62.54538498, 62.53773314, 62.5300813 , 62.52242946, 62.51477762,\n",
       "       62.50712578, 62.49947394, 62.49182209, 62.48417025, 62.47651841,\n",
       "       62.46886657, 62.46121473, 62.45356289, 62.44591105, 62.43825921,\n",
       "       62.43060736, 62.42295552, 62.41530368, 62.40765184, 62.4       ])"
      ]
     },
     "execution_count": 33,
     "metadata": {},
     "output_type": "execute_result"
    }
   ],
   "source": [
    "test"
   ]
  },
  {
   "cell_type": "code",
   "execution_count": 34,
   "metadata": {},
   "outputs": [
    {
     "data": {
      "text/plain": [
       "(50,)"
      ]
     },
     "execution_count": 34,
     "metadata": {},
     "output_type": "execute_result"
    }
   ],
   "source": [
    "test.shape"
   ]
  },
  {
   "cell_type": "code",
   "execution_count": 35,
   "metadata": {},
   "outputs": [
    {
     "data": {
      "text/plain": [
       "(50,)"
      ]
     },
     "execution_count": 35,
     "metadata": {},
     "output_type": "execute_result"
    }
   ],
   "source": [
    "final_forecast.shape"
   ]
  },
  {
   "cell_type": "code",
   "execution_count": 36,
   "metadata": {},
   "outputs": [
    {
     "data": {
      "text/plain": [
       "(50,)"
      ]
     },
     "execution_count": 36,
     "metadata": {},
     "output_type": "execute_result"
    }
   ],
   "source": [
    "test.shape"
   ]
  },
  {
   "cell_type": "code",
   "execution_count": 37,
   "metadata": {},
   "outputs": [
    {
     "name": "stdout",
     "output_type": "stream",
     "text": [
      "48.42597174221664\n",
      "40.1595758492733\n"
     ]
    }
   ],
   "source": [
    "import math\n",
    "MSE = np.square(np.subtract(np.array(test),np.array(final_forecast))).mean()   \n",
    "rsme = math.sqrt(MSE)\n",
    "print(rsme)  \n",
    "MAE = np.abs(np.subtract(np.array(test),np.array(final_forecast))).mean()   \n",
    "mae = MAE\n",
    "print(mae)"
   ]
  }
 ],
 "metadata": {
  "colab": {
   "provenance": []
  },
  "kernelspec": {
   "display_name": "Python 3",
   "language": "python",
   "name": "python3"
  },
  "language_info": {
   "codemirror_mode": {
    "name": "ipython",
    "version": 3
   },
   "file_extension": ".py",
   "mimetype": "text/x-python",
   "name": "python",
   "nbconvert_exporter": "python",
   "pygments_lexer": "ipython3",
   "version": "3.9.13"
  }
 },
 "nbformat": 4,
 "nbformat_minor": 0
}
