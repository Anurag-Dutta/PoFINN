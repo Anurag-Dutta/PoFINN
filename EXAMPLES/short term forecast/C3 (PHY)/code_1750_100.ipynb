{
 "cells": [
  {
   "cell_type": "markdown",
   "metadata": {
    "id": "pCGKeZ2gyuoQ"
   },
   "source": [
    "_Importing Required Libraries_"
   ]
  },
  {
   "cell_type": "code",
   "execution_count": 1,
   "metadata": {
    "colab": {
     "base_uri": "https://localhost:8080/"
    },
    "id": "A-6LN-zXiLcM",
    "outputId": "4de610a4-f8b8-4f49-c6c0-89de299ccedc"
   },
   "outputs": [
    {
     "name": "stdout",
     "output_type": "stream",
     "text": [
      "Requirement already satisfied: hampel in c:\\users\\anurag dutta\\appdata\\local\\packages\\pythonsoftwarefoundation.python.3.9_qbz5n2kfra8p0\\localcache\\local-packages\\python39\\site-packages (0.0.5)\n",
      "Requirement already satisfied: numpy in c:\\users\\anurag dutta\\appdata\\local\\packages\\pythonsoftwarefoundation.python.3.9_qbz5n2kfra8p0\\localcache\\local-packages\\python39\\site-packages (from hampel) (1.26.4)\n",
      "Requirement already satisfied: pandas in c:\\users\\anurag dutta\\appdata\\local\\packages\\pythonsoftwarefoundation.python.3.9_qbz5n2kfra8p0\\localcache\\local-packages\\python39\\site-packages (from hampel) (1.5.2)\n",
      "Requirement already satisfied: python-dateutil>=2.8.1 in c:\\users\\anurag dutta\\appdata\\local\\packages\\pythonsoftwarefoundation.python.3.9_qbz5n2kfra8p0\\localcache\\local-packages\\python39\\site-packages (from pandas->hampel) (2.8.2)\n",
      "Requirement already satisfied: pytz>=2020.1 in c:\\users\\anurag dutta\\appdata\\local\\packages\\pythonsoftwarefoundation.python.3.9_qbz5n2kfra8p0\\localcache\\local-packages\\python39\\site-packages (from pandas->hampel) (2023.3.post1)\n",
      "Requirement already satisfied: six>=1.5 in c:\\users\\anurag dutta\\appdata\\local\\packages\\pythonsoftwarefoundation.python.3.9_qbz5n2kfra8p0\\localcache\\local-packages\\python39\\site-packages (from python-dateutil>=2.8.1->pandas->hampel) (1.16.0)\n",
      "Note: you may need to restart the kernel to use updated packages.\n"
     ]
    },
    {
     "name": "stderr",
     "output_type": "stream",
     "text": [
      "\n",
      "[notice] A new release of pip is available: 24.2 -> 24.3.1\n",
      "[notice] To update, run: C:\\Users\\Anurag Dutta\\AppData\\Local\\Microsoft\\WindowsApps\\PythonSoftwareFoundation.Python.3.9_qbz5n2kfra8p0\\python.exe -m pip install --upgrade pip\n"
     ]
    }
   ],
   "source": [
    "pip install hampel"
   ]
  },
  {
   "cell_type": "code",
   "execution_count": 2,
   "metadata": {
    "id": "By_d9uXpaFvZ"
   },
   "outputs": [],
   "source": [
    "from keras.models import Sequential\n",
    "from keras.layers import Dense\n",
    "from keras.layers import LSTM\n",
    "from keras.layers import Dropout\n",
    "import keras\n",
    "import tensorflow as tf\n",
    "from hampel import hampel\n",
    "import numpy as np\n",
    "import matplotlib.pyplot as plt\n",
    "import pandas as pd\n",
    "from sklearn.preprocessing import MinMaxScaler\n",
    "from sklearn.metrics import mean_squared_error, mean_absolute_error\n",
    "from math import sqrt\n",
    "from matplotlib import pyplot\n",
    "from numpy import array"
   ]
  },
  {
   "cell_type": "markdown",
   "metadata": {
    "id": "JyOjBMFayuoR"
   },
   "source": [
    "## Pretraining"
   ]
  },
  {
   "cell_type": "markdown",
   "metadata": {
    "id": "-5QqIY_GyuoR"
   },
   "source": [
    "The `capa_intermittency.dat` feeds the model with the dynamics of the Capacitor"
   ]
  },
  {
   "cell_type": "code",
   "execution_count": 3,
   "metadata": {
    "id": "9dV4a8yfyuoR"
   },
   "outputs": [],
   "source": [
    "data = np.genfromtxt('capa_intermittency.dat')\n",
    "training_set = pd.DataFrame(data).reset_index(drop=True)\n",
    "training_set = training_set.iloc[:,0]"
   ]
  },
  {
   "cell_type": "markdown",
   "metadata": {
    "id": "i7easoxByuoR"
   },
   "source": [
    "## Computing the Gradient"
   ]
  },
  {
   "cell_type": "markdown",
   "metadata": {
    "id": "5SnyolJTyuoR"
   },
   "source": [
    "_Calculating the value of_ $\\frac{dx}{dt}$"
   ]
  },
  {
   "cell_type": "code",
   "execution_count": 4,
   "metadata": {
    "colab": {
     "base_uri": "https://localhost:8080/"
    },
    "id": "wmIbVfIvyuoR",
    "outputId": "aa4e3136-c854-465d-d2e9-81cfd546e440"
   },
   "outputs": [
    {
     "name": "stdout",
     "output_type": "stream",
     "text": [
      "1.0\n",
      "1        0.000298\n",
      "2        0.000298\n",
      "3        0.000297\n",
      "4        0.000297\n",
      "5        0.000297\n",
      "           ...   \n",
      "9996     0.000018\n",
      "9997     0.000018\n",
      "9998     0.000018\n",
      "9999     0.000018\n",
      "10000    0.000018\n",
      "Name: 0, Length: 10000, dtype: float64\n"
     ]
    }
   ],
   "source": [
    "t_diff = 1\n",
    "print(training_set.max())\n",
    "gradient_t = (training_set.diff()/t_diff).iloc[1:] # dx/dt\n",
    "print(gradient_t)"
   ]
  },
  {
   "cell_type": "markdown",
   "metadata": {
    "id": "_2eVeeoxyuoS"
   },
   "source": [
    "## Loading Datasets"
   ]
  },
  {
   "cell_type": "code",
   "execution_count": 5,
   "metadata": {
    "id": "0J-NKyIEyuoS"
   },
   "outputs": [
    {
     "data": {
      "text/plain": [
       "0       91.100000\n",
       "1       90.875910\n",
       "2       90.651821\n",
       "3       90.427731\n",
       "4       90.203641\n",
       "          ...    \n",
       "1845    70.951821\n",
       "1846    70.944351\n",
       "1847    70.936881\n",
       "1848    70.929412\n",
       "1849    70.921942\n",
       "Name: C3, Length: 1850, dtype: float64"
      ]
     },
     "execution_count": 5,
     "metadata": {},
     "output_type": "execute_result"
    }
   ],
   "source": [
    "data = pd.read_csv(\"c3_interpolated_1750_100.csv\")\n",
    "training_set = data.iloc[:, 1]\n",
    "training_set"
   ]
  },
  {
   "cell_type": "code",
   "execution_count": 6,
   "metadata": {
    "colab": {
     "base_uri": "https://localhost:8080/"
    },
    "id": "-CbNUhJ74UqF",
    "outputId": "20f562d8-8247-49cc-b9c3-00eca5e13e2d"
   },
   "outputs": [
    {
     "data": {
      "text/plain": [
       "0       91.100000\n",
       "1       90.875910\n",
       "2       90.651821\n",
       "3       90.427731\n",
       "4       90.203641\n",
       "          ...    \n",
       "1745    71.511741\n",
       "1746    71.507073\n",
       "1747    71.502404\n",
       "1748    71.497736\n",
       "1749    71.493067\n",
       "Name: C3, Length: 1750, dtype: float64"
      ]
     },
     "execution_count": 6,
     "metadata": {},
     "output_type": "execute_result"
    }
   ],
   "source": [
    "test = training_set.tail(100)\n",
    "test\n",
    "training_set = training_set.head(1750)\n",
    "training_set"
   ]
  },
  {
   "cell_type": "code",
   "execution_count": 7,
   "metadata": {
    "colab": {
     "base_uri": "https://localhost:8080/"
    },
    "id": "X0TwTcq0yuoS",
    "outputId": "37252ed8-d88e-4044-fa7a-922411990b5b"
   },
   "outputs": [
    {
     "name": "stdout",
     "output_type": "stream",
     "text": [
      "0       0.000298\n",
      "1       0.000298\n",
      "2       0.000297\n",
      "3       0.000297\n",
      "4       0.000297\n",
      "          ...   \n",
      "9995    0.000018\n",
      "9996    0.000018\n",
      "9997    0.000018\n",
      "9998    0.000018\n",
      "9999    0.000018\n",
      "Name: 0, Length: 10000, dtype: float64\n"
     ]
    }
   ],
   "source": [
    "training_set = training_set.reset_index(drop=True)\n",
    "gradient_t = gradient_t.reset_index(drop=True)\n",
    "print(gradient_t)"
   ]
  },
  {
   "cell_type": "code",
   "execution_count": 8,
   "metadata": {
    "id": "O2biznZQyuoS"
   },
   "outputs": [],
   "source": [
    "df = pd.concat((training_set, gradient_t), axis=1)\n",
    "df.columns = ['y_t', 'grad_t']"
   ]
  },
  {
   "cell_type": "code",
   "execution_count": 9,
   "metadata": {
    "colab": {
     "base_uri": "https://localhost:8080/",
     "height": 423
    },
    "id": "sk_a5v3tyuoS",
    "outputId": "17563625-e550-45ae-faab-fafa353e44da"
   },
   "outputs": [
    {
     "data": {
      "text/html": [
       "<div>\n",
       "<style scoped>\n",
       "    .dataframe tbody tr th:only-of-type {\n",
       "        vertical-align: middle;\n",
       "    }\n",
       "\n",
       "    .dataframe tbody tr th {\n",
       "        vertical-align: top;\n",
       "    }\n",
       "\n",
       "    .dataframe thead th {\n",
       "        text-align: right;\n",
       "    }\n",
       "</style>\n",
       "<table border=\"1\" class=\"dataframe\">\n",
       "  <thead>\n",
       "    <tr style=\"text-align: right;\">\n",
       "      <th></th>\n",
       "      <th>y_t</th>\n",
       "      <th>grad_t</th>\n",
       "    </tr>\n",
       "  </thead>\n",
       "  <tbody>\n",
       "    <tr>\n",
       "      <th>0</th>\n",
       "      <td>91.100000</td>\n",
       "      <td>0.000298</td>\n",
       "    </tr>\n",
       "    <tr>\n",
       "      <th>1</th>\n",
       "      <td>90.875910</td>\n",
       "      <td>0.000298</td>\n",
       "    </tr>\n",
       "    <tr>\n",
       "      <th>2</th>\n",
       "      <td>90.651821</td>\n",
       "      <td>0.000297</td>\n",
       "    </tr>\n",
       "    <tr>\n",
       "      <th>3</th>\n",
       "      <td>90.427731</td>\n",
       "      <td>0.000297</td>\n",
       "    </tr>\n",
       "    <tr>\n",
       "      <th>4</th>\n",
       "      <td>90.203641</td>\n",
       "      <td>0.000297</td>\n",
       "    </tr>\n",
       "    <tr>\n",
       "      <th>...</th>\n",
       "      <td>...</td>\n",
       "      <td>...</td>\n",
       "    </tr>\n",
       "    <tr>\n",
       "      <th>9995</th>\n",
       "      <td>NaN</td>\n",
       "      <td>0.000018</td>\n",
       "    </tr>\n",
       "    <tr>\n",
       "      <th>9996</th>\n",
       "      <td>NaN</td>\n",
       "      <td>0.000018</td>\n",
       "    </tr>\n",
       "    <tr>\n",
       "      <th>9997</th>\n",
       "      <td>NaN</td>\n",
       "      <td>0.000018</td>\n",
       "    </tr>\n",
       "    <tr>\n",
       "      <th>9998</th>\n",
       "      <td>NaN</td>\n",
       "      <td>0.000018</td>\n",
       "    </tr>\n",
       "    <tr>\n",
       "      <th>9999</th>\n",
       "      <td>NaN</td>\n",
       "      <td>0.000018</td>\n",
       "    </tr>\n",
       "  </tbody>\n",
       "</table>\n",
       "<p>10000 rows × 2 columns</p>\n",
       "</div>"
      ],
      "text/plain": [
       "            y_t    grad_t\n",
       "0     91.100000  0.000298\n",
       "1     90.875910  0.000298\n",
       "2     90.651821  0.000297\n",
       "3     90.427731  0.000297\n",
       "4     90.203641  0.000297\n",
       "...         ...       ...\n",
       "9995        NaN  0.000018\n",
       "9996        NaN  0.000018\n",
       "9997        NaN  0.000018\n",
       "9998        NaN  0.000018\n",
       "9999        NaN  0.000018\n",
       "\n",
       "[10000 rows x 2 columns]"
      ]
     },
     "execution_count": 9,
     "metadata": {},
     "output_type": "execute_result"
    }
   ],
   "source": [
    "df"
   ]
  },
  {
   "cell_type": "markdown",
   "metadata": {
    "id": "-5esyHu5aFvg"
   },
   "source": [
    "## Plot of the External Forcing from Chaotic Differential Equation"
   ]
  },
  {
   "cell_type": "code",
   "execution_count": 10,
   "metadata": {
    "colab": {
     "base_uri": "https://localhost:8080/",
     "height": 447
    },
    "id": "hGnE43tOh-4p",
    "outputId": "fc396503-b624-4fa5-dfbe-f460207405c6"
   },
   "outputs": [
    {
     "data": {
      "text/plain": [
       "<Axes: >"
      ]
     },
     "execution_count": 10,
     "metadata": {},
     "output_type": "execute_result"
    },
    {
     "data": {
      "image/png": "[encoded data removed]",
      "text/plain": [
       "<Figure size 432x288 with 1 Axes>"
      ]
     },
     "metadata": {
      "needs_background": "light"
     },
     "output_type": "display_data"
    }
   ],
   "source": [
    "df.iloc[:, 0].plot()"
   ]
  },
  {
   "cell_type": "code",
   "execution_count": 11,
   "metadata": {
    "colab": {
     "base_uri": "https://localhost:8080/",
     "height": 447
    },
    "id": "ym4xWUUxaFvg",
    "outputId": "ae6a3495-8ce9-437e-ba81-3ed31deedeae"
   },
   "outputs": [
    {
     "data": {
      "text/plain": [
       "<Axes: >"
      ]
     },
     "execution_count": 11,
     "metadata": {},
     "output_type": "execute_result"
    },
    {
     "data": {
      "image/png": "[encoded data removed]",
      "text/plain": [
       "<Figure size 432x288 with 1 Axes>"
      ]
     },
     "metadata": {
      "needs_background": "light"
     },
     "output_type": "display_data"
    }
   ],
   "source": [
    "import numpy as np\n",
    "c0 = 88.0403  # Value for C0\n",
    "K0 = -0.0012  # Value for K0\n",
    "K1 = -0.0001  # Value for K1\n",
    "a = 0.0000    # Value for a\n",
    "b = 0.0120    # Value for b\n",
    "c = 2.0334    # Value for c\n",
    "\n",
    "L = np.minimum(c0, (df.iloc[:, 1] - (df.iloc[:, 0] * (K0 - K1 * (9 * a * np.log(df.iloc[:, 0] / c0) / (K0 - K1 * c)**2 + 4 * b * np.log(df.iloc[:, 0] / c0) / (K0 - K1 * c) + c)))))\n",
    "L.plot()"
   ]
  },
  {
   "cell_type": "markdown",
   "metadata": {
    "id": "9VyEywnwaFvh"
   },
   "source": [
    "## Preprocessing the data into supervised learning"
   ]
  },
  {
   "cell_type": "code",
   "execution_count": 12,
   "metadata": {
    "id": "6V9dXqzdaFvh"
   },
   "outputs": [],
   "source": [
    "# split a sequence into samples\n",
    "def Supervised(data, n_in=1, n_out=1, dropnan=True):\n",
    "    n_vars = 1 if type(data) is list else data.shape[1]\n",
    "    df = pd.DataFrame(data)\n",
    "    cols, names = list(), list()\n",
    "    # input sequence (t-n_in, ... t-1)\n",
    "    for i in range(n_in, 0, -1):\n",
    "        cols.append(df.shift(i))\n",
    "        names += [('var%d(t-%d)' % (j+1, i)) for j in range(n_vars)]\n",
    "    # forecast sequence (t, t+1, ... t+n_out)\n",
    "    for i in range(0, n_out):\n",
    "      cols.append(df.shift(-i))\n",
    "      if i == 0:\n",
    "        names += [('var%d(t)' % (j+1)) for j in range(n_vars)]\n",
    "      else:\n",
    "        names += [('var%d(t+%d)' % (j+1, i)) for j in range(n_vars)]\n",
    "    # put it all together\n",
    "    agg = pd.concat(cols, axis=1)\n",
    "    agg.columns = names\n",
    "    # drop rows with NaN values\n",
    "    if dropnan:\n",
    "       agg.dropna(inplace=True)\n",
    "    return agg"
   ]
  },
  {
   "cell_type": "code",
   "execution_count": 13,
   "metadata": {
    "colab": {
     "base_uri": "https://localhost:8080/"
    },
    "id": "CrzSrT1HnyfH",
    "outputId": "7e75f928-3e47-499d-eac1-51908015ef78"
   },
   "outputs": [
    {
     "name": "stdout",
     "output_type": "stream",
     "text": [
      "     var1(t-350)  var1(t-349)  var1(t-348)  var1(t-347)  var1(t-346)  \\\n",
      "350    91.100000    90.875910    90.651821    90.427731    90.203641   \n",
      "351    90.875910    90.651821    90.427731    90.203641    89.979552   \n",
      "352    90.651821    90.427731    90.203641    89.979552    89.755462   \n",
      "353    90.427731    90.203641    89.979552    89.755462    89.531373   \n",
      "354    90.203641    89.979552    89.755462    89.531373    89.307283   \n",
      "\n",
      "     var1(t-345)  var1(t-344)  var1(t-343)  var1(t-342)  var1(t-341)  ...  \\\n",
      "350    89.979552    89.755462    89.531373    89.307283    89.094118  ...   \n",
      "351    89.755462    89.531373    89.307283    89.094118    89.015686  ...   \n",
      "352    89.531373    89.307283    89.094118    89.015686    88.937255  ...   \n",
      "353    89.307283    89.094118    89.015686    88.937255    88.858824  ...   \n",
      "354    89.094118    89.015686    88.937255    88.858824    88.780392  ...   \n",
      "\n",
      "     var1(t+95)  var2(t+95)  var1(t+96)  var2(t+96)  var1(t+97)  var2(t+97)  \\\n",
      "350   81.423343    0.000263   81.404669    0.000263   81.385994    0.000263   \n",
      "351   81.404669    0.000263   81.385994    0.000263   81.367320    0.000262   \n",
      "352   81.385994    0.000263   81.367320    0.000262   81.348646    0.000262   \n",
      "353   81.367320    0.000262   81.348646    0.000262   81.329972    0.000262   \n",
      "354   81.348646    0.000262   81.329972    0.000262   81.311298    0.000262   \n",
      "\n",
      "     var1(t+98)  var2(t+98)  var1(t+99)  var2(t+99)  \n",
      "350   81.367320    0.000262   81.348646    0.000262  \n",
      "351   81.348646    0.000262   81.329972    0.000262  \n",
      "352   81.329972    0.000262   81.311298    0.000262  \n",
      "353   81.311298    0.000262   81.292624    0.000262  \n",
      "354   81.292624    0.000262   81.273950    0.000262  \n",
      "\n",
      "[5 rows x 551 columns]\n",
      "Index(['var1(t-350)', 'var1(t-349)', 'var1(t-348)', 'var1(t-347)',\n",
      "       'var1(t-346)', 'var1(t-345)', 'var1(t-344)', 'var1(t-343)',\n",
      "       'var1(t-342)', 'var1(t-341)',\n",
      "       ...\n",
      "       'var1(t+95)', 'var2(t+95)', 'var1(t+96)', 'var2(t+96)', 'var1(t+97)',\n",
      "       'var2(t+97)', 'var1(t+98)', 'var2(t+98)', 'var1(t+99)', 'var2(t+99)'],\n",
      "      dtype='object', length=551)\n"
     ]
    }
   ],
   "source": [
    "data = Supervised(df.values, n_in = 350, n_out = 100)\n",
    "\n",
    "\n",
    "cols_to_drop = []\n",
    "for i in range(2, 351):\n",
    "    cols_to_drop.extend([f'var2(t-{i})'])\n",
    "\n",
    "data.drop(cols_to_drop, axis=1, inplace=True)\n",
    "\n",
    "print(data.head())\n",
    "print(data.columns)"
   ]
  },
  {
   "cell_type": "code",
   "execution_count": 14,
   "metadata": {
    "id": "AfPf60oy6Pe4"
   },
   "outputs": [],
   "source": [
    "train = np.array(data[0:len(data)-1])\n",
    "forecast = np.array(data.tail(1))"
   ]
  },
  {
   "cell_type": "code",
   "execution_count": 15,
   "metadata": {
    "id": "WSAafzI37KiT"
   },
   "outputs": [],
   "source": [
    "trainy = train[:,-300:]\n",
    "trainX = train[:,:-300]"
   ]
  },
  {
   "cell_type": "code",
   "execution_count": 16,
   "metadata": {
    "id": "2SrOqVJA7f50"
   },
   "outputs": [],
   "source": [
    "forecasty = forecast[:,-300:]\n",
    "forecastX = forecast[:,:-300]"
   ]
  },
  {
   "cell_type": "code",
   "execution_count": 17,
   "metadata": {
    "colab": {
     "base_uri": "https://localhost:8080/"
    },
    "id": "Qno_k8Nw7saY",
    "outputId": "c4a88db5-d8c6-489f-cdb2-06b24e293cff"
   },
   "outputs": [
    {
     "name": "stdout",
     "output_type": "stream",
     "text": [
      "(1300, 1, 251) (1300, 300) (1, 1, 251)\n"
     ]
    }
   ],
   "source": [
    "trainX = trainX.reshape((trainX.shape[0], 1, trainX.shape[1]))\n",
    "forecastX = forecastX.reshape((forecastX.shape[0], 1, forecastX.shape[1]))\n",
    "print(trainX.shape, trainy.shape, forecastX.shape)"
   ]
  },
  {
   "cell_type": "code",
   "execution_count": 18,
   "metadata": {
    "colab": {
     "base_uri": "https://localhost:8080/"
    },
    "id": "b1Jp2DvNuNFx",
    "outputId": "d0e5b3c4-64f1-438c-eade-8dfeaac8e285"
   },
   "outputs": [
    {
     "name": "stdout",
     "output_type": "stream",
     "text": [
      "Epoch 1/500\n",
      "17/17 [==============================] - 2s 29ms/step - loss: 5932.2163 - val_loss: 5129.7295\n",
      "Epoch 2/500\n",
      "17/17 [==============================] - 0s 4ms/step - loss: 5858.2793 - val_loss: 5065.3857\n",
      "Epoch 3/500\n",
      "17/17 [==============================] - 0s 4ms/step - loss: 5791.5918 - val_loss: 5007.6143\n",
      "Epoch 4/500\n",
      "17/17 [==============================] - 0s 4ms/step - loss: 5729.8804 - val_loss: 4950.3213\n",
      "Epoch 5/500\n",
      "17/17 [==============================] - 0s 4ms/step - loss: 5668.7510 - val_loss: 4893.6226\n",
      "Epoch 6/500\n",
      "17/17 [==============================] - 0s 4ms/step - loss: 5608.2192 - val_loss: 4837.4819\n",
      "Epoch 7/500\n",
      "17/17 [==============================] - 0s 4ms/step - loss: 5548.2451 - val_loss: 4781.8662\n",
      "Epoch 8/500\n",
      "17/17 [==============================] - 0s 4ms/step - loss: 5488.8008 - val_loss: 4726.7544\n",
      "Epoch 9/500\n",
      "17/17 [==============================] - 0s 4ms/step - loss: 5429.8662 - val_loss: 4672.1328\n",
      "Epoch 10/500\n",
      "17/17 [==============================] - 0s 4ms/step - loss: 5371.4302 - val_loss: 4617.9907\n",
      "Epoch 11/500\n",
      "17/17 [==============================] - 0s 4ms/step - loss: 5313.4810 - val_loss: 4564.3203\n",
      "Epoch 12/500\n",
      "17/17 [==============================] - 0s 5ms/step - loss: 5245.2319 - val_loss: 4496.5415\n",
      "Epoch 13/500\n",
      "17/17 [==============================] - 0s 4ms/step - loss: 5181.1973 - val_loss: 4439.4019\n",
      "Epoch 14/500\n",
      "17/17 [==============================] - 0s 5ms/step - loss: 5120.2935 - val_loss: 4383.4521\n",
      "Epoch 15/500\n",
      "17/17 [==============================] - 0s 4ms/step - loss: 5060.5562 - val_loss: 4328.4878\n",
      "Epoch 16/500\n",
      "17/17 [==============================] - 0s 3ms/step - loss: 5001.7622 - val_loss: 4274.3354\n",
      "Epoch 17/500\n",
      "17/17 [==============================] - 0s 4ms/step - loss: 4943.7622 - val_loss: 4220.8882\n",
      "Epoch 18/500\n",
      "17/17 [==============================] - 0s 4ms/step - loss: 4886.4604 - val_loss: 4168.0801\n",
      "Epoch 19/500\n",
      "17/17 [==============================] - 0s 4ms/step - loss: 4829.8013 - val_loss: 4115.8682\n",
      "Epoch 20/500\n",
      "17/17 [==============================] - 0s 4ms/step - loss: 4773.7441 - val_loss: 4064.2222\n",
      "Epoch 21/500\n",
      "17/17 [==============================] - 0s 4ms/step - loss: 4718.2598 - val_loss: 4013.1182\n",
      "Epoch 22/500\n",
      "17/17 [==============================] - 0s 4ms/step - loss: 4663.3267 - val_loss: 3962.5393\n",
      "Epoch 23/500\n",
      "17/17 [==============================] - 0s 5ms/step - loss: 4608.9268 - val_loss: 3912.4712\n",
      "Epoch 24/500\n",
      "17/17 [==============================] - 0s 4ms/step - loss: 4555.0474 - val_loss: 3862.9016\n",
      "Epoch 25/500\n",
      "17/17 [==============================] - 0s 4ms/step - loss: 4501.6777 - val_loss: 3813.8210\n",
      "Epoch 26/500\n",
      "17/17 [==============================] - 0s 3ms/step - loss: 4448.8062 - val_loss: 3765.2212\n",
      "Epoch 27/500\n",
      "17/17 [==============================] - 0s 4ms/step - loss: 4396.4258 - val_loss: 3717.0940\n",
      "Epoch 28/500\n",
      "17/17 [==============================] - 0s 4ms/step - loss: 4344.5283 - val_loss: 3669.4326\n",
      "Epoch 29/500\n",
      "17/17 [==============================] - 0s 5ms/step - loss: 4293.1069 - val_loss: 3622.2307\n",
      "Epoch 30/500\n",
      "17/17 [==============================] - 0s 4ms/step - loss: 4242.1558 - val_loss: 3575.4836\n",
      "Epoch 31/500\n",
      "17/17 [==============================] - 0s 4ms/step - loss: 4191.6685 - val_loss: 3529.1851\n",
      "Epoch 32/500\n",
      "17/17 [==============================] - 0s 4ms/step - loss: 4141.6406 - val_loss: 3483.3311\n",
      "Epoch 33/500\n",
      "17/17 [==============================] - 0s 4ms/step - loss: 4092.0664 - val_loss: 3437.9170\n",
      "Epoch 34/500\n",
      "17/17 [==============================] - 0s 5ms/step - loss: 4042.9429 - val_loss: 3392.9375\n",
      "Epoch 35/500\n",
      "17/17 [==============================] - 0s 4ms/step - loss: 3994.2644 - val_loss: 3348.3899\n",
      "Epoch 36/500\n",
      "17/17 [==============================] - 0s 4ms/step - loss: 3946.0266 - val_loss: 3304.2690\n",
      "Epoch 37/500\n",
      "17/17 [==============================] - 0s 5ms/step - loss: 3898.2266 - val_loss: 3260.5725\n",
      "Epoch 38/500\n",
      "17/17 [==============================] - 0s 4ms/step - loss: 3850.8599 - val_loss: 3217.2949\n",
      "Epoch 39/500\n",
      "17/17 [==============================] - 0s 4ms/step - loss: 3803.9233 - val_loss: 3174.4343\n",
      "Epoch 40/500\n",
      "17/17 [==============================] - 0s 4ms/step - loss: 3757.4126 - val_loss: 3131.9873\n",
      "Epoch 41/500\n",
      "17/17 [==============================] - 0s 4ms/step - loss: 3711.3250 - val_loss: 3089.9482\n",
      "Epoch 42/500\n",
      "17/17 [==============================] - 0s 4ms/step - loss: 3658.8438 - val_loss: 3035.8213\n",
      "Epoch 43/500\n",
      "17/17 [==============================] - 0s 4ms/step - loss: 3603.7163 - val_loss: 2988.4392\n",
      "Epoch 44/500\n",
      "17/17 [==============================] - 0s 4ms/step - loss: 3552.7026 - val_loss: 2942.6226\n",
      "Epoch 45/500\n",
      "17/17 [==============================] - 0s 4ms/step - loss: 3503.2642 - val_loss: 2898.0918\n",
      "Epoch 46/500\n",
      "17/17 [==============================] - 0s 4ms/step - loss: 3455.0508 - val_loss: 2854.5623\n",
      "Epoch 47/500\n",
      "17/17 [==============================] - 0s 5ms/step - loss: 3407.8086 - val_loss: 2811.8582\n",
      "Epoch 48/500\n",
      "17/17 [==============================] - 0s 4ms/step - loss: 3361.3843 - val_loss: 2769.8726\n",
      "Epoch 49/500\n",
      "17/17 [==============================] - 0s 7ms/step - loss: 3315.6812 - val_loss: 2728.5366\n",
      "Epoch 50/500\n",
      "17/17 [==============================] - 0s 4ms/step - loss: 3270.6340 - val_loss: 2687.7981\n",
      "Epoch 51/500\n",
      "17/17 [==============================] - 0s 4ms/step - loss: 3226.1958 - val_loss: 2647.6235\n",
      "Epoch 52/500\n",
      "17/17 [==============================] - 0s 4ms/step - loss: 3182.3330 - val_loss: 2607.9849\n",
      "Epoch 53/500\n",
      "17/17 [==============================] - 0s 4ms/step - loss: 3139.0166 - val_loss: 2568.8579\n",
      "Epoch 54/500\n",
      "17/17 [==============================] - 0s 4ms/step - loss: 3096.2253 - val_loss: 2530.2261\n",
      "Epoch 55/500\n",
      "17/17 [==============================] - 0s 5ms/step - loss: 3053.9412 - val_loss: 2492.0730\n",
      "Epoch 56/500\n",
      "17/17 [==============================] - 0s 4ms/step - loss: 3012.1494 - val_loss: 2454.3865\n",
      "Epoch 57/500\n",
      "17/17 [==============================] - 0s 4ms/step - loss: 2970.8367 - val_loss: 2417.1555\n",
      "Epoch 58/500\n",
      "17/17 [==============================] - 0s 5ms/step - loss: 2929.9919 - val_loss: 2380.3699\n",
      "Epoch 59/500\n",
      "17/17 [==============================] - 0s 4ms/step - loss: 2889.6038 - val_loss: 2344.0198\n",
      "Epoch 60/500\n",
      "17/17 [==============================] - 0s 4ms/step - loss: 2849.6653 - val_loss: 2308.0996\n",
      "Epoch 61/500\n",
      "17/17 [==============================] - 0s 4ms/step - loss: 2810.1667 - val_loss: 2272.5984\n",
      "Epoch 62/500\n",
      "17/17 [==============================] - 0s 4ms/step - loss: 2771.1021 - val_loss: 2237.5129\n",
      "Epoch 63/500\n",
      "17/17 [==============================] - 0s 5ms/step - loss: 2732.4636 - val_loss: 2202.8359\n",
      "Epoch 64/500\n",
      "17/17 [==============================] - 0s 5ms/step - loss: 2694.2456 - val_loss: 2168.5615\n",
      "Epoch 65/500\n",
      "17/17 [==============================] - 0s 4ms/step - loss: 2656.4426 - val_loss: 2134.6846\n",
      "Epoch 66/500\n",
      "17/17 [==============================] - 0s 4ms/step - loss: 2619.0488 - val_loss: 2101.2007\n",
      "Epoch 67/500\n",
      "17/17 [==============================] - 0s 5ms/step - loss: 2582.0583 - val_loss: 2068.1035\n",
      "Epoch 68/500\n",
      "17/17 [==============================] - 0s 4ms/step - loss: 2545.4680 - val_loss: 2035.3909\n",
      "Epoch 69/500\n",
      "17/17 [==============================] - 0s 3ms/step - loss: 2509.2720 - val_loss: 2003.0555\n",
      "Epoch 70/500\n",
      "17/17 [==============================] - 0s 4ms/step - loss: 2473.4666 - val_loss: 1971.0959\n",
      "Epoch 71/500\n",
      "17/17 [==============================] - 0s 4ms/step - loss: 2438.0471 - val_loss: 1939.5071\n",
      "Epoch 72/500\n",
      "17/17 [==============================] - 0s 4ms/step - loss: 2403.0095 - val_loss: 1908.2854\n",
      "Epoch 73/500\n",
      "17/17 [==============================] - 0s 4ms/step - loss: 2368.3506 - val_loss: 1877.4266\n",
      "Epoch 74/500\n",
      "17/17 [==============================] - 0s 4ms/step - loss: 2334.0654 - val_loss: 1846.9266\n",
      "Epoch 75/500\n",
      "17/17 [==============================] - 0s 4ms/step - loss: 2300.1519 - val_loss: 1816.7843\n",
      "Epoch 76/500\n",
      "17/17 [==============================] - 0s 7ms/step - loss: 2266.6055 - val_loss: 1786.9945\n",
      "Epoch 77/500\n",
      "17/17 [==============================] - 0s 4ms/step - loss: 2233.4238 - val_loss: 1757.5553\n",
      "Epoch 78/500\n",
      "17/17 [==============================] - 0s 5ms/step - loss: 2200.6025 - val_loss: 1728.4619\n",
      "Epoch 79/500\n",
      "17/17 [==============================] - 0s 4ms/step - loss: 2168.1387 - val_loss: 1699.7122\n",
      "Epoch 80/500\n",
      "17/17 [==============================] - 0s 4ms/step - loss: 2136.0298 - val_loss: 1671.3031\n",
      "Epoch 81/500\n",
      "17/17 [==============================] - 0s 4ms/step - loss: 2104.2725 - val_loss: 1643.2312\n",
      "Epoch 82/500\n",
      "17/17 [==============================] - 0s 4ms/step - loss: 2072.8628 - val_loss: 1615.4944\n",
      "Epoch 83/500\n",
      "17/17 [==============================] - 0s 4ms/step - loss: 2041.7993 - val_loss: 1588.0884\n",
      "Epoch 84/500\n",
      "17/17 [==============================] - 0s 4ms/step - loss: 2011.0780 - val_loss: 1561.0127\n",
      "Epoch 85/500\n",
      "17/17 [==============================] - 0s 4ms/step - loss: 1980.6969 - val_loss: 1534.2627\n",
      "Epoch 86/500\n",
      "17/17 [==============================] - 0s 5ms/step - loss: 1950.6523 - val_loss: 1507.8358\n",
      "Epoch 87/500\n",
      "17/17 [==============================] - 0s 4ms/step - loss: 1920.9421 - val_loss: 1481.7300\n",
      "Epoch 88/500\n",
      "17/17 [==============================] - 0s 6ms/step - loss: 1891.5645 - val_loss: 1455.9424\n",
      "Epoch 89/500\n",
      "17/17 [==============================] - 0s 4ms/step - loss: 1862.5154 - val_loss: 1430.4709\n",
      "Epoch 90/500\n",
      "17/17 [==============================] - 0s 3ms/step - loss: 1833.7927 - val_loss: 1405.3124\n",
      "Epoch 91/500\n",
      "17/17 [==============================] - 0s 4ms/step - loss: 1805.3942 - val_loss: 1380.4647\n",
      "Epoch 92/500\n",
      "17/17 [==============================] - 0s 4ms/step - loss: 1777.3168 - val_loss: 1355.9248\n",
      "Epoch 93/500\n",
      "17/17 [==============================] - 0s 4ms/step - loss: 1749.5586 - val_loss: 1331.6902\n",
      "Epoch 94/500\n",
      "17/17 [==============================] - 0s 4ms/step - loss: 1722.1168 - val_loss: 1307.7596\n",
      "Epoch 95/500\n",
      "17/17 [==============================] - 0s 4ms/step - loss: 1694.9888 - val_loss: 1284.1298\n",
      "Epoch 96/500\n",
      "17/17 [==============================] - 0s 4ms/step - loss: 1668.1727 - val_loss: 1260.7983\n",
      "Epoch 97/500\n",
      "17/17 [==============================] - 0s 4ms/step - loss: 1641.6659 - val_loss: 1237.7628\n",
      "Epoch 98/500\n",
      "17/17 [==============================] - 0s 4ms/step - loss: 1615.4653 - val_loss: 1215.0209\n",
      "Epoch 99/500\n",
      "17/17 [==============================] - 0s 6ms/step - loss: 1589.5701 - val_loss: 1192.5706\n",
      "Epoch 100/500\n",
      "17/17 [==============================] - 0s 4ms/step - loss: 1563.9766 - val_loss: 1170.4092\n",
      "Epoch 101/500\n",
      "17/17 [==============================] - 0s 4ms/step - loss: 1538.6826 - val_loss: 1148.5345\n",
      "Epoch 102/500\n",
      "17/17 [==============================] - 0s 4ms/step - loss: 1513.6865 - val_loss: 1126.9448\n",
      "Epoch 103/500\n",
      "17/17 [==============================] - 0s 4ms/step - loss: 1488.9858 - val_loss: 1105.6371\n",
      "Epoch 104/500\n",
      "17/17 [==============================] - 0s 4ms/step - loss: 1464.5781 - val_loss: 1084.6095\n",
      "Epoch 105/500\n",
      "17/17 [==============================] - 0s 4ms/step - loss: 1440.4611 - val_loss: 1063.8596\n",
      "Epoch 106/500\n",
      "17/17 [==============================] - 0s 4ms/step - loss: 1416.6329 - val_loss: 1043.3865\n",
      "Epoch 107/500\n",
      "17/17 [==============================] - 0s 4ms/step - loss: 1393.0914 - val_loss: 1023.1855\n",
      "Epoch 108/500\n",
      "17/17 [==============================] - 0s 4ms/step - loss: 1369.8341 - val_loss: 1003.2567\n",
      "Epoch 109/500\n",
      "17/17 [==============================] - 0s 4ms/step - loss: 1346.8594 - val_loss: 983.5967\n",
      "Epoch 110/500\n",
      "17/17 [==============================] - 0s 4ms/step - loss: 1324.1642 - val_loss: 964.2047\n",
      "Epoch 111/500\n",
      "17/17 [==============================] - 0s 4ms/step - loss: 1301.7473 - val_loss: 945.0762\n",
      "Epoch 112/500\n",
      "17/17 [==============================] - 0s 4ms/step - loss: 1279.6064 - val_loss: 926.2115\n",
      "Epoch 113/500\n",
      "17/17 [==============================] - 0s 5ms/step - loss: 1257.7393 - val_loss: 907.6081\n",
      "Epoch 114/500\n",
      "17/17 [==============================] - 0s 3ms/step - loss: 1236.1439 - val_loss: 889.2629\n",
      "Epoch 115/500\n",
      "17/17 [==============================] - 0s 4ms/step - loss: 1214.8180 - val_loss: 871.1739\n",
      "Epoch 116/500\n",
      "17/17 [==============================] - 0s 4ms/step - loss: 1193.7598 - val_loss: 853.3399\n",
      "Epoch 117/500\n",
      "17/17 [==============================] - 0s 4ms/step - loss: 1172.9670 - val_loss: 835.7583\n",
      "Epoch 118/500\n",
      "17/17 [==============================] - 0s 4ms/step - loss: 1152.4379 - val_loss: 818.4276\n",
      "Epoch 119/500\n",
      "17/17 [==============================] - 0s 7ms/step - loss: 1132.1699 - val_loss: 801.3447\n",
      "Epoch 120/500\n",
      "17/17 [==============================] - 0s 4ms/step - loss: 1112.1613 - val_loss: 784.5081\n",
      "Epoch 121/500\n",
      "17/17 [==============================] - 0s 5ms/step - loss: 1092.4102 - val_loss: 767.9158\n",
      "Epoch 122/500\n",
      "17/17 [==============================] - 0s 3ms/step - loss: 1072.9144 - val_loss: 751.5655\n",
      "Epoch 123/500\n",
      "17/17 [==============================] - 0s 4ms/step - loss: 1053.6721 - val_loss: 735.4565\n",
      "Epoch 124/500\n",
      "17/17 [==============================] - 0s 4ms/step - loss: 1034.6814 - val_loss: 719.5853\n",
      "Epoch 125/500\n",
      "17/17 [==============================] - 0s 3ms/step - loss: 1015.9401 - val_loss: 703.9509\n",
      "Epoch 126/500\n",
      "17/17 [==============================] - 0s 3ms/step - loss: 997.4465 - val_loss: 688.5508\n",
      "Epoch 127/500\n",
      "17/17 [==============================] - 0s 4ms/step - loss: 979.1985 - val_loss: 673.3825\n",
      "Epoch 128/500\n",
      "17/17 [==============================] - 0s 4ms/step - loss: 961.1942 - val_loss: 658.4451\n",
      "Epoch 129/500\n",
      "17/17 [==============================] - 0s 4ms/step - loss: 943.4315 - val_loss: 643.7366\n",
      "Epoch 130/500\n",
      "17/17 [==============================] - 0s 4ms/step - loss: 925.9088 - val_loss: 629.2545\n",
      "Epoch 131/500\n",
      "17/17 [==============================] - 0s 3ms/step - loss: 908.6238 - val_loss: 614.9969\n",
      "Epoch 132/500\n",
      "17/17 [==============================] - 0s 4ms/step - loss: 891.5750 - val_loss: 600.9618\n",
      "Epoch 133/500\n",
      "17/17 [==============================] - 0s 4ms/step - loss: 874.7601 - val_loss: 587.1479\n",
      "Epoch 134/500\n",
      "17/17 [==============================] - 0s 4ms/step - loss: 858.1776 - val_loss: 573.5524\n",
      "Epoch 135/500\n",
      "17/17 [==============================] - 0s 4ms/step - loss: 841.8251 - val_loss: 560.1743\n",
      "Epoch 136/500\n",
      "17/17 [==============================] - 0s 4ms/step - loss: 825.7009 - val_loss: 547.0111\n",
      "Epoch 137/500\n",
      "17/17 [==============================] - 0s 4ms/step - loss: 809.8033 - val_loss: 534.0604\n",
      "Epoch 138/500\n",
      "17/17 [==============================] - 0s 4ms/step - loss: 794.1304 - val_loss: 521.3213\n",
      "Epoch 139/500\n",
      "17/17 [==============================] - 0s 4ms/step - loss: 778.6801 - val_loss: 508.7912\n",
      "Epoch 140/500\n",
      "17/17 [==============================] - 0s 4ms/step - loss: 763.4506 - val_loss: 496.4689\n",
      "Epoch 141/500\n",
      "17/17 [==============================] - 0s 7ms/step - loss: 748.4405 - val_loss: 484.3524\n",
      "Epoch 142/500\n",
      "17/17 [==============================] - 0s 5ms/step - loss: 733.6474 - val_loss: 472.4389\n",
      "Epoch 143/500\n",
      "17/17 [==============================] - 0s 4ms/step - loss: 719.0699 - val_loss: 460.7276\n",
      "Epoch 144/500\n",
      "17/17 [==============================] - 0s 4ms/step - loss: 704.7054 - val_loss: 449.2154\n",
      "Epoch 145/500\n",
      "17/17 [==============================] - 0s 5ms/step - loss: 690.5526 - val_loss: 437.9022\n",
      "Epoch 146/500\n",
      "17/17 [==============================] - 0s 6ms/step - loss: 676.6099 - val_loss: 426.7846\n",
      "Epoch 147/500\n",
      "17/17 [==============================] - 0s 4ms/step - loss: 662.8750 - val_loss: 415.8616\n",
      "Epoch 148/500\n",
      "17/17 [==============================] - 0s 4ms/step - loss: 649.3463 - val_loss: 405.1306\n",
      "Epoch 149/500\n",
      "17/17 [==============================] - 0s 4ms/step - loss: 636.0219 - val_loss: 394.5904\n",
      "Epoch 150/500\n",
      "17/17 [==============================] - 0s 4ms/step - loss: 622.8999 - val_loss: 384.2388\n",
      "Epoch 151/500\n",
      "17/17 [==============================] - 0s 4ms/step - loss: 609.9789 - val_loss: 374.0740\n",
      "Epoch 152/500\n",
      "17/17 [==============================] - 0s 4ms/step - loss: 597.2565 - val_loss: 364.0937\n",
      "Epoch 153/500\n",
      "17/17 [==============================] - 0s 4ms/step - loss: 584.7311 - val_loss: 354.2976\n",
      "Epoch 154/500\n",
      "17/17 [==============================] - 0s 4ms/step - loss: 572.4012 - val_loss: 344.6823\n",
      "Epoch 155/500\n",
      "17/17 [==============================] - 0s 4ms/step - loss: 560.2648 - val_loss: 335.2463\n",
      "Epoch 156/500\n",
      "17/17 [==============================] - 0s 4ms/step - loss: 548.3203 - val_loss: 325.9884\n",
      "Epoch 157/500\n",
      "17/17 [==============================] - 0s 4ms/step - loss: 536.5658 - val_loss: 316.9064\n",
      "Epoch 158/500\n",
      "17/17 [==============================] - 0s 4ms/step - loss: 524.9991 - val_loss: 307.9981\n",
      "Epoch 159/500\n",
      "17/17 [==============================] - 0s 4ms/step - loss: 513.6190 - val_loss: 299.2623\n",
      "Epoch 160/500\n",
      "17/17 [==============================] - 0s 4ms/step - loss: 502.4236 - val_loss: 290.6967\n",
      "Epoch 161/500\n",
      "17/17 [==============================] - 0s 3ms/step - loss: 491.4104 - val_loss: 282.2993\n",
      "Epoch 162/500\n",
      "17/17 [==============================] - 0s 4ms/step - loss: 480.5785 - val_loss: 274.0693\n",
      "Epoch 163/500\n",
      "17/17 [==============================] - 0s 3ms/step - loss: 469.9261 - val_loss: 266.0038\n",
      "Epoch 164/500\n",
      "17/17 [==============================] - 0s 3ms/step - loss: 459.4509 - val_loss: 258.1016\n",
      "Epoch 165/500\n",
      "17/17 [==============================] - 0s 5ms/step - loss: 449.1519 - val_loss: 250.3610\n",
      "Epoch 166/500\n",
      "17/17 [==============================] - 0s 6ms/step - loss: 439.0265 - val_loss: 242.7793\n",
      "Epoch 167/500\n",
      "17/17 [==============================] - 0s 5ms/step - loss: 429.0734 - val_loss: 235.3560\n",
      "Epoch 168/500\n",
      "17/17 [==============================] - 0s 4ms/step - loss: 419.2910 - val_loss: 228.0885\n",
      "Epoch 169/500\n",
      "17/17 [==============================] - 0s 4ms/step - loss: 409.6772 - val_loss: 220.9749\n",
      "Epoch 170/500\n",
      "17/17 [==============================] - 0s 5ms/step - loss: 400.2304 - val_loss: 214.0139\n",
      "Epoch 171/500\n",
      "17/17 [==============================] - 0s 3ms/step - loss: 390.9490 - val_loss: 207.2039\n",
      "Epoch 172/500\n",
      "17/17 [==============================] - 0s 4ms/step - loss: 381.8311 - val_loss: 200.5423\n",
      "Epoch 173/500\n",
      "17/17 [==============================] - 0s 4ms/step - loss: 372.8750 - val_loss: 194.0275\n",
      "Epoch 174/500\n",
      "17/17 [==============================] - 0s 3ms/step - loss: 364.0788 - val_loss: 187.6581\n",
      "Epoch 175/500\n",
      "17/17 [==============================] - 0s 4ms/step - loss: 355.4410 - val_loss: 181.4324\n",
      "Epoch 176/500\n",
      "17/17 [==============================] - 0s 6ms/step - loss: 346.9601 - val_loss: 175.3486\n",
      "Epoch 177/500\n",
      "17/17 [==============================] - 0s 5ms/step - loss: 338.6341 - val_loss: 169.4046\n",
      "Epoch 178/500\n",
      "17/17 [==============================] - 0s 4ms/step - loss: 330.4613 - val_loss: 163.5988\n",
      "Epoch 179/500\n",
      "17/17 [==============================] - 0s 4ms/step - loss: 322.4397 - val_loss: 157.9296\n",
      "Epoch 180/500\n",
      "17/17 [==============================] - 0s 3ms/step - loss: 314.5682 - val_loss: 152.3949\n",
      "Epoch 181/500\n",
      "17/17 [==============================] - 0s 4ms/step - loss: 306.8446 - val_loss: 146.9930\n",
      "Epoch 182/500\n",
      "17/17 [==============================] - 0s 4ms/step - loss: 299.2672 - val_loss: 141.7225\n",
      "Epoch 183/500\n",
      "17/17 [==============================] - 0s 4ms/step - loss: 291.8346 - val_loss: 136.5815\n",
      "Epoch 184/500\n",
      "17/17 [==============================] - 0s 4ms/step - loss: 284.5447 - val_loss: 131.5678\n",
      "Epoch 185/500\n",
      "17/17 [==============================] - 0s 7ms/step - loss: 277.3961 - val_loss: 126.6802\n",
      "Epoch 186/500\n",
      "17/17 [==============================] - 0s 4ms/step - loss: 270.3871 - val_loss: 121.9169\n",
      "Epoch 187/500\n",
      "17/17 [==============================] - 0s 4ms/step - loss: 263.5162 - val_loss: 117.2762\n",
      "Epoch 188/500\n",
      "17/17 [==============================] - 0s 5ms/step - loss: 256.7816 - val_loss: 112.7563\n",
      "Epoch 189/500\n",
      "17/17 [==============================] - 0s 4ms/step - loss: 250.1812 - val_loss: 108.3553\n",
      "Epoch 190/500\n",
      "17/17 [==============================] - 0s 3ms/step - loss: 243.7136 - val_loss: 104.0719\n",
      "Epoch 191/500\n",
      "17/17 [==============================] - 0s 4ms/step - loss: 237.3774 - val_loss: 99.9040\n",
      "Epoch 192/500\n",
      "17/17 [==============================] - 0s 4ms/step - loss: 231.1708 - val_loss: 95.8499\n",
      "Epoch 193/500\n",
      "17/17 [==============================] - 0s 4ms/step - loss: 225.0919 - val_loss: 91.9082\n",
      "Epoch 194/500\n",
      "17/17 [==============================] - 0s 4ms/step - loss: 219.1395 - val_loss: 88.0770\n",
      "Epoch 195/500\n",
      "17/17 [==============================] - 0s 4ms/step - loss: 213.3117 - val_loss: 84.3548\n",
      "Epoch 196/500\n",
      "17/17 [==============================] - 0s 4ms/step - loss: 207.6066 - val_loss: 80.7395\n",
      "Epoch 197/500\n",
      "17/17 [==============================] - 0s 5ms/step - loss: 202.0228 - val_loss: 77.2297\n",
      "Epoch 198/500\n",
      "17/17 [==============================] - 0s 3ms/step - loss: 196.5588 - val_loss: 73.8239\n",
      "Epoch 199/500\n",
      "17/17 [==============================] - 0s 4ms/step - loss: 191.2130 - val_loss: 70.5201\n",
      "Epoch 200/500\n",
      "17/17 [==============================] - 0s 4ms/step - loss: 185.9832 - val_loss: 67.3165\n",
      "Epoch 201/500\n",
      "17/17 [==============================] - 0s 4ms/step - loss: 180.8683 - val_loss: 64.2118\n",
      "Epoch 202/500\n",
      "17/17 [==============================] - 0s 4ms/step - loss: 175.8666 - val_loss: 61.2046\n",
      "Epoch 203/500\n",
      "17/17 [==============================] - 0s 4ms/step - loss: 170.9767 - val_loss: 58.2927\n",
      "Epoch 204/500\n",
      "17/17 [==============================] - 0s 4ms/step - loss: 166.1966 - val_loss: 55.4748\n",
      "Epoch 205/500\n",
      "17/17 [==============================] - 0s 3ms/step - loss: 161.5249 - val_loss: 52.7489\n",
      "Epoch 206/500\n",
      "17/17 [==============================] - 0s 3ms/step - loss: 156.9599 - val_loss: 50.1137\n",
      "Epoch 207/500\n",
      "17/17 [==============================] - 0s 7ms/step - loss: 152.5001 - val_loss: 47.5674\n",
      "Epoch 208/500\n",
      "17/17 [==============================] - 0s 4ms/step - loss: 148.1440 - val_loss: 45.1084\n",
      "Epoch 209/500\n",
      "17/17 [==============================] - 0s 4ms/step - loss: 143.8897 - val_loss: 42.7352\n",
      "Epoch 210/500\n",
      "17/17 [==============================] - 0s 4ms/step - loss: 139.7359 - val_loss: 40.4460\n",
      "Epoch 211/500\n",
      "17/17 [==============================] - 0s 5ms/step - loss: 135.6810 - val_loss: 38.2395\n",
      "Epoch 212/500\n",
      "17/17 [==============================] - 0s 4ms/step - loss: 131.7236 - val_loss: 36.1141\n",
      "Epoch 213/500\n",
      "17/17 [==============================] - 0s 4ms/step - loss: 127.8621 - val_loss: 34.0681\n",
      "Epoch 214/500\n",
      "17/17 [==============================] - 0s 4ms/step - loss: 124.0947 - val_loss: 32.0997\n",
      "Epoch 215/500\n",
      "17/17 [==============================] - 0s 4ms/step - loss: 120.4200 - val_loss: 30.2077\n",
      "Epoch 216/500\n",
      "17/17 [==============================] - 0s 4ms/step - loss: 116.8364 - val_loss: 28.3902\n",
      "Epoch 217/500\n",
      "17/17 [==============================] - 0s 5ms/step - loss: 113.3427 - val_loss: 26.6462\n",
      "Epoch 218/500\n",
      "17/17 [==============================] - 0s 4ms/step - loss: 109.9374 - val_loss: 24.9738\n",
      "Epoch 219/500\n",
      "17/17 [==============================] - 0s 4ms/step - loss: 106.6186 - val_loss: 23.3715\n",
      "Epoch 220/500\n",
      "17/17 [==============================] - 0s 4ms/step - loss: 103.3849 - val_loss: 21.8377\n",
      "Epoch 221/500\n",
      "17/17 [==============================] - 0s 4ms/step - loss: 100.2350 - val_loss: 20.3709\n",
      "Epoch 222/500\n",
      "17/17 [==============================] - 0s 4ms/step - loss: 97.1672 - val_loss: 18.9699\n",
      "Epoch 223/500\n",
      "17/17 [==============================] - 0s 4ms/step - loss: 94.1803 - val_loss: 17.6330\n",
      "Epoch 224/500\n",
      "17/17 [==============================] - 0s 3ms/step - loss: 91.2728 - val_loss: 16.3589\n",
      "Epoch 225/500\n",
      "17/17 [==============================] - 0s 4ms/step - loss: 88.4434 - val_loss: 15.1460\n",
      "Epoch 226/500\n",
      "17/17 [==============================] - 0s 4ms/step - loss: 85.6904 - val_loss: 13.9928\n",
      "Epoch 227/500\n",
      "17/17 [==============================] - 0s 7ms/step - loss: 83.0124 - val_loss: 12.8980\n",
      "Epoch 228/500\n",
      "17/17 [==============================] - 0s 4ms/step - loss: 80.4081 - val_loss: 11.8599\n",
      "Epoch 229/500\n",
      "17/17 [==============================] - 0s 3ms/step - loss: 77.8758 - val_loss: 10.8776\n",
      "Epoch 230/500\n",
      "17/17 [==============================] - 0s 4ms/step - loss: 75.4145 - val_loss: 9.9491\n",
      "Epoch 231/500\n",
      "17/17 [==============================] - 0s 4ms/step - loss: 73.0227 - val_loss: 9.0734\n",
      "Epoch 232/500\n",
      "17/17 [==============================] - 0s 4ms/step - loss: 70.6987 - val_loss: 8.2489\n",
      "Epoch 233/500\n",
      "17/17 [==============================] - 0s 4ms/step - loss: 68.4414 - val_loss: 7.4745\n",
      "Epoch 234/500\n",
      "17/17 [==============================] - 0s 4ms/step - loss: 66.2496 - val_loss: 6.7487\n",
      "Epoch 235/500\n",
      "17/17 [==============================] - 0s 4ms/step - loss: 64.1219 - val_loss: 6.0700\n",
      "Epoch 236/500\n",
      "17/17 [==============================] - 0s 4ms/step - loss: 62.0568 - val_loss: 5.4374\n",
      "Epoch 237/500\n",
      "17/17 [==============================] - 0s 4ms/step - loss: 60.0531 - val_loss: 4.8494\n",
      "Epoch 238/500\n",
      "17/17 [==============================] - 0s 4ms/step - loss: 58.1093 - val_loss: 4.3048\n",
      "Epoch 239/500\n",
      "17/17 [==============================] - 0s 4ms/step - loss: 56.2244 - val_loss: 3.8022\n",
      "Epoch 240/500\n",
      "17/17 [==============================] - 0s 4ms/step - loss: 54.3971 - val_loss: 3.3404\n",
      "Epoch 241/500\n",
      "17/17 [==============================] - 0s 4ms/step - loss: 52.6260 - val_loss: 2.9182\n",
      "Epoch 242/500\n",
      "17/17 [==============================] - 0s 4ms/step - loss: 50.9100 - val_loss: 2.5342\n",
      "Epoch 243/500\n",
      "17/17 [==============================] - 0s 3ms/step - loss: 49.2477 - val_loss: 2.1874\n",
      "Epoch 244/500\n",
      "17/17 [==============================] - 0s 4ms/step - loss: 47.6379 - val_loss: 1.8765\n",
      "Epoch 245/500\n",
      "17/17 [==============================] - 0s 4ms/step - loss: 46.0795 - val_loss: 1.6002\n",
      "Epoch 246/500\n",
      "17/17 [==============================] - 0s 7ms/step - loss: 44.5711 - val_loss: 1.3575\n",
      "Epoch 247/500\n",
      "17/17 [==============================] - 0s 4ms/step - loss: 43.1117 - val_loss: 1.1471\n",
      "Epoch 248/500\n",
      "17/17 [==============================] - 0s 4ms/step - loss: 41.7001 - val_loss: 0.9680\n",
      "Epoch 249/500\n",
      "17/17 [==============================] - 0s 4ms/step - loss: 40.3351 - val_loss: 0.8190\n",
      "Epoch 250/500\n",
      "17/17 [==============================] - 0s 4ms/step - loss: 39.0157 - val_loss: 0.6990\n",
      "Epoch 251/500\n",
      "17/17 [==============================] - 0s 4ms/step - loss: 37.7405 - val_loss: 0.6069\n",
      "Epoch 252/500\n",
      "17/17 [==============================] - 0s 4ms/step - loss: 36.5088 - val_loss: 0.5416\n",
      "Epoch 253/500\n",
      "17/17 [==============================] - 0s 4ms/step - loss: 35.3191 - val_loss: 0.5021\n",
      "Epoch 254/500\n",
      "17/17 [==============================] - 0s 5ms/step - loss: 34.1704 - val_loss: 0.4873\n",
      "Epoch 255/500\n",
      "17/17 [==============================] - 0s 4ms/step - loss: 33.0617 - val_loss: 0.4963\n",
      "Epoch 256/500\n",
      "17/17 [==============================] - 0s 4ms/step - loss: 31.9918 - val_loss: 0.5280\n",
      "Epoch 257/500\n",
      "17/17 [==============================] - 0s 4ms/step - loss: 30.9599 - val_loss: 0.5814\n",
      "Epoch 258/500\n",
      "17/17 [==============================] - 0s 4ms/step - loss: 29.9650 - val_loss: 0.6556\n",
      "Epoch 259/500\n",
      "17/17 [==============================] - 0s 4ms/step - loss: 29.0060 - val_loss: 0.7496\n",
      "Epoch 260/500\n",
      "17/17 [==============================] - 0s 4ms/step - loss: 28.0818 - val_loss: 0.8625\n",
      "Epoch 261/500\n",
      "17/17 [==============================] - 0s 4ms/step - loss: 27.1915 - val_loss: 0.9934\n",
      "Epoch 262/500\n",
      "17/17 [==============================] - 0s 3ms/step - loss: 26.3341 - val_loss: 1.1413\n",
      "Epoch 263/500\n",
      "17/17 [==============================] - 0s 3ms/step - loss: 25.5088 - val_loss: 1.3055\n",
      "Epoch 264/500\n",
      "17/17 [==============================] - 0s 4ms/step - loss: 24.7146 - val_loss: 1.4850\n",
      "Epoch 265/500\n",
      "17/17 [==============================] - 0s 4ms/step - loss: 23.9506 - val_loss: 1.6791\n",
      "Epoch 266/500\n",
      "17/17 [==============================] - 0s 4ms/step - loss: 23.2159 - val_loss: 1.8868\n",
      "Epoch 267/500\n",
      "17/17 [==============================] - 0s 4ms/step - loss: 22.5095 - val_loss: 2.1075\n",
      "Epoch 268/500\n",
      "17/17 [==============================] - 0s 4ms/step - loss: 21.8306 - val_loss: 2.3403\n",
      "Epoch 269/500\n",
      "17/17 [==============================] - 0s 4ms/step - loss: 21.1785 - val_loss: 2.5844\n",
      "Epoch 270/500\n",
      "17/17 [==============================] - 0s 4ms/step - loss: 20.5522 - val_loss: 2.8392\n",
      "Epoch 271/500\n",
      "17/17 [==============================] - 0s 4ms/step - loss: 19.9511 - val_loss: 3.1039\n",
      "Epoch 272/500\n",
      "17/17 [==============================] - 0s 3ms/step - loss: 19.3741 - val_loss: 3.3778\n",
      "Epoch 273/500\n",
      "17/17 [==============================] - 0s 3ms/step - loss: 18.8208 - val_loss: 3.6602\n",
      "Epoch 274/500\n",
      "17/17 [==============================] - 0s 4ms/step - loss: 18.2901 - val_loss: 3.9503\n",
      "Epoch 275/500\n",
      "17/17 [==============================] - 0s 4ms/step - loss: 17.7813 - val_loss: 4.2478\n",
      "Epoch 276/500\n",
      "17/17 [==============================] - 0s 4ms/step - loss: 17.2939 - val_loss: 4.5518\n",
      "Epoch 277/500\n",
      "17/17 [==============================] - 0s 4ms/step - loss: 16.8270 - val_loss: 4.8616\n",
      "Epoch 278/500\n",
      "17/17 [==============================] - 0s 4ms/step - loss: 16.3800 - val_loss: 5.1769\n",
      "Epoch 279/500\n",
      "17/17 [==============================] - 0s 4ms/step - loss: 15.9521 - val_loss: 5.4969\n",
      "Epoch 280/500\n",
      "17/17 [==============================] - 0s 4ms/step - loss: 15.5426 - val_loss: 5.8212\n",
      "Epoch 281/500\n",
      "17/17 [==============================] - 0s 4ms/step - loss: 15.1511 - val_loss: 6.1491\n",
      "Epoch 282/500\n",
      "17/17 [==============================] - 0s 3ms/step - loss: 14.7767 - val_loss: 6.4802\n",
      "Epoch 283/500\n",
      "17/17 [==============================] - 0s 4ms/step - loss: 14.4190 - val_loss: 6.8141\n",
      "Epoch 284/500\n",
      "17/17 [==============================] - 0s 4ms/step - loss: 14.0771 - val_loss: 7.1501\n",
      "Epoch 285/500\n",
      "17/17 [==============================] - 0s 4ms/step - loss: 13.7506 - val_loss: 7.4878\n",
      "Epoch 286/500\n",
      "17/17 [==============================] - 0s 8ms/step - loss: 13.4390 - val_loss: 7.8267\n",
      "Epoch 287/500\n",
      "17/17 [==============================] - 0s 4ms/step - loss: 13.1417 - val_loss: 8.1666\n",
      "Epoch 288/500\n",
      "17/17 [==============================] - 0s 4ms/step - loss: 12.8580 - val_loss: 8.5069\n",
      "Epoch 289/500\n",
      "17/17 [==============================] - 0s 3ms/step - loss: 12.5876 - val_loss: 8.8471\n",
      "Epoch 290/500\n",
      "17/17 [==============================] - 0s 3ms/step - loss: 12.3298 - val_loss: 9.1872\n",
      "Epoch 291/500\n",
      "17/17 [==============================] - 0s 3ms/step - loss: 12.0842 - val_loss: 9.5265\n",
      "Epoch 292/500\n",
      "17/17 [==============================] - 0s 4ms/step - loss: 11.8502 - val_loss: 9.8648\n",
      "Epoch 293/500\n",
      "17/17 [==============================] - 0s 4ms/step - loss: 11.6275 - val_loss: 10.2016\n",
      "Epoch 294/500\n",
      "17/17 [==============================] - 0s 4ms/step - loss: 11.4155 - val_loss: 10.5370\n",
      "Epoch 295/500\n",
      "17/17 [==============================] - 0s 4ms/step - loss: 11.2139 - val_loss: 10.8702\n",
      "Epoch 296/500\n",
      "17/17 [==============================] - 0s 4ms/step - loss: 11.0222 - val_loss: 11.2010\n",
      "Epoch 297/500\n",
      "17/17 [==============================] - 0s 4ms/step - loss: 10.8400 - val_loss: 11.5294\n",
      "Epoch 298/500\n",
      "17/17 [==============================] - 0s 4ms/step - loss: 10.6668 - val_loss: 11.8551\n",
      "Epoch 299/500\n",
      "17/17 [==============================] - 0s 4ms/step - loss: 10.5023 - val_loss: 12.1775\n",
      "Epoch 300/500\n",
      "17/17 [==============================] - 0s 4ms/step - loss: 10.3462 - val_loss: 12.4969\n",
      "Epoch 301/500\n",
      "17/17 [==============================] - 0s 4ms/step - loss: 10.1980 - val_loss: 12.8127\n",
      "Epoch 302/500\n",
      "17/17 [==============================] - 0s 5ms/step - loss: 10.0574 - val_loss: 13.1247\n",
      "Epoch 303/500\n",
      "17/17 [==============================] - 0s 4ms/step - loss: 9.9241 - val_loss: 13.4331\n",
      "Epoch 304/500\n",
      "17/17 [==============================] - 0s 4ms/step - loss: 9.7977 - val_loss: 13.7372\n",
      "Epoch 305/500\n",
      "17/17 [==============================] - 0s 8ms/step - loss: 9.6779 - val_loss: 14.0375\n",
      "Epoch 306/500\n",
      "17/17 [==============================] - 0s 3ms/step - loss: 9.5645 - val_loss: 14.3333\n",
      "Epoch 307/500\n",
      "17/17 [==============================] - 0s 4ms/step - loss: 9.4570 - val_loss: 14.6246\n",
      "Epoch 308/500\n",
      "17/17 [==============================] - 0s 4ms/step - loss: 9.3553 - val_loss: 14.9113\n",
      "Epoch 309/500\n",
      "17/17 [==============================] - 0s 3ms/step - loss: 9.2590 - val_loss: 15.1933\n",
      "Epoch 310/500\n",
      "17/17 [==============================] - 0s 3ms/step - loss: 9.1680 - val_loss: 15.4706\n",
      "Epoch 311/500\n",
      "17/17 [==============================] - 0s 5ms/step - loss: 9.0819 - val_loss: 15.7429\n",
      "Epoch 312/500\n",
      "17/17 [==============================] - 0s 4ms/step - loss: 9.0006 - val_loss: 16.0101\n",
      "Epoch 313/500\n",
      "17/17 [==============================] - 0s 4ms/step - loss: 8.9238 - val_loss: 16.2725\n",
      "Epoch 314/500\n",
      "17/17 [==============================] - 0s 4ms/step - loss: 8.8512 - val_loss: 16.5298\n",
      "Epoch 315/500\n",
      "17/17 [==============================] - 0s 4ms/step - loss: 8.7827 - val_loss: 16.7819\n",
      "Epoch 316/500\n",
      "17/17 [==============================] - 0s 4ms/step - loss: 8.7180 - val_loss: 17.0288\n",
      "Epoch 317/500\n",
      "17/17 [==============================] - 0s 4ms/step - loss: 8.6569 - val_loss: 17.2704\n",
      "Epoch 318/500\n",
      "17/17 [==============================] - 0s 4ms/step - loss: 8.5993 - val_loss: 17.5067\n",
      "Epoch 319/500\n",
      "17/17 [==============================] - 0s 4ms/step - loss: 8.5451 - val_loss: 17.7379\n",
      "Epoch 320/500\n",
      "17/17 [==============================] - 0s 6ms/step - loss: 8.4939 - val_loss: 17.9638\n",
      "Epoch 321/500\n",
      "17/17 [==============================] - 0s 9ms/step - loss: 8.4457 - val_loss: 18.1843\n",
      "Epoch 322/500\n",
      "17/17 [==============================] - 0s 5ms/step - loss: 8.4003 - val_loss: 18.3996\n",
      "Epoch 323/500\n",
      "17/17 [==============================] - 0s 5ms/step - loss: 8.3575 - val_loss: 18.6095\n",
      "Epoch 324/500\n",
      "17/17 [==============================] - 0s 5ms/step - loss: 8.3172 - val_loss: 18.8143\n",
      "Epoch 325/500\n",
      "17/17 [==============================] - 0s 4ms/step - loss: 8.2793 - val_loss: 19.0141\n",
      "Epoch 326/500\n",
      "17/17 [==============================] - 0s 4ms/step - loss: 8.2436 - val_loss: 19.2084\n",
      "Epoch 327/500\n",
      "17/17 [==============================] - 0s 5ms/step - loss: 8.2100 - val_loss: 19.3976\n",
      "Epoch 328/500\n",
      "17/17 [==============================] - 0s 4ms/step - loss: 8.1785 - val_loss: 19.5818\n",
      "Epoch 329/500\n",
      "17/17 [==============================] - 0s 4ms/step - loss: 8.1488 - val_loss: 19.7609\n",
      "Epoch 330/500\n",
      "17/17 [==============================] - 0s 5ms/step - loss: 8.1209 - val_loss: 19.9351\n",
      "Epoch 331/500\n",
      "17/17 [==============================] - 0s 5ms/step - loss: 8.0947 - val_loss: 20.1041\n",
      "Epoch 332/500\n",
      "17/17 [==============================] - 0s 3ms/step - loss: 8.0701 - val_loss: 20.2683\n",
      "Epoch 333/500\n",
      "17/17 [==============================] - 0s 4ms/step - loss: 8.0469 - val_loss: 20.4275\n",
      "Epoch 334/500\n",
      "17/17 [==============================] - 0s 4ms/step - loss: 8.0252 - val_loss: 20.5820\n",
      "Epoch 335/500\n",
      "17/17 [==============================] - 0s 6ms/step - loss: 8.0048 - val_loss: 20.7321\n",
      "Epoch 336/500\n",
      "17/17 [==============================] - 0s 4ms/step - loss: 7.9856 - val_loss: 20.8772\n",
      "Epoch 337/500\n",
      "17/17 [==============================] - 0s 4ms/step - loss: 7.9676 - val_loss: 21.0179\n",
      "Epoch 338/500\n",
      "17/17 [==============================] - 0s 4ms/step - loss: 7.9507 - val_loss: 21.1539\n",
      "Epoch 339/500\n",
      "17/17 [==============================] - 0s 8ms/step - loss: 7.9349 - val_loss: 21.2855\n",
      "Epoch 340/500\n",
      "17/17 [==============================] - 0s 4ms/step - loss: 7.9200 - val_loss: 21.4129\n",
      "Epoch 341/500\n",
      "17/17 [==============================] - 0s 4ms/step - loss: 7.9061 - val_loss: 21.5362\n",
      "Epoch 342/500\n",
      "17/17 [==============================] - 0s 4ms/step - loss: 7.8930 - val_loss: 21.6550\n",
      "Epoch 343/500\n",
      "17/17 [==============================] - 0s 4ms/step - loss: 7.8807 - val_loss: 21.7700\n",
      "Epoch 344/500\n",
      "17/17 [==============================] - 0s 4ms/step - loss: 7.8692 - val_loss: 21.8808\n",
      "Epoch 345/500\n",
      "17/17 [==============================] - 0s 3ms/step - loss: 7.8584 - val_loss: 21.9879\n",
      "Epoch 346/500\n",
      "17/17 [==============================] - 0s 3ms/step - loss: 7.8483 - val_loss: 22.0909\n",
      "Epoch 347/500\n",
      "17/17 [==============================] - 0s 4ms/step - loss: 7.8388 - val_loss: 22.1903\n",
      "Epoch 348/500\n",
      "17/17 [==============================] - 0s 3ms/step - loss: 7.8299 - val_loss: 22.2859\n",
      "Epoch 349/500\n",
      "17/17 [==============================] - 0s 3ms/step - loss: 7.8216 - val_loss: 22.3782\n",
      "Epoch 350/500\n",
      "17/17 [==============================] - 0s 3ms/step - loss: 7.8138 - val_loss: 22.4669\n",
      "Epoch 351/500\n",
      "17/17 [==============================] - 0s 4ms/step - loss: 7.8065 - val_loss: 22.5523\n",
      "Epoch 352/500\n",
      "17/17 [==============================] - 0s 4ms/step - loss: 7.7996 - val_loss: 22.6342\n",
      "Epoch 353/500\n",
      "17/17 [==============================] - 0s 5ms/step - loss: 7.7932 - val_loss: 22.7131\n",
      "Epoch 354/500\n",
      "17/17 [==============================] - 0s 5ms/step - loss: 7.7871 - val_loss: 22.7889\n",
      "Epoch 355/500\n",
      "17/17 [==============================] - 0s 8ms/step - loss: 7.7815 - val_loss: 22.8617\n",
      "Epoch 356/500\n",
      "17/17 [==============================] - 0s 6ms/step - loss: 7.7762 - val_loss: 22.9314\n",
      "Epoch 357/500\n",
      "17/17 [==============================] - 0s 6ms/step - loss: 7.7712 - val_loss: 22.9984\n",
      "Epoch 358/500\n",
      "17/17 [==============================] - 0s 5ms/step - loss: 7.7666 - val_loss: 23.0626\n",
      "Epoch 359/500\n",
      "17/17 [==============================] - 0s 7ms/step - loss: 7.7622 - val_loss: 23.1238\n",
      "Epoch 360/500\n",
      "17/17 [==============================] - 0s 9ms/step - loss: 7.7582 - val_loss: 23.1829\n",
      "Epoch 361/500\n",
      "17/17 [==============================] - 0s 10ms/step - loss: 7.7543 - val_loss: 23.2391\n",
      "Epoch 362/500\n",
      "17/17 [==============================] - 0s 7ms/step - loss: 7.7508 - val_loss: 23.2930\n",
      "Epoch 363/500\n",
      "17/17 [==============================] - 0s 5ms/step - loss: 7.7474 - val_loss: 23.3445\n",
      "Epoch 364/500\n",
      "17/17 [==============================] - 0s 5ms/step - loss: 7.7443 - val_loss: 23.3937\n",
      "Epoch 365/500\n",
      "17/17 [==============================] - 0s 4ms/step - loss: 7.7413 - val_loss: 23.4405\n",
      "Epoch 366/500\n",
      "17/17 [==============================] - 0s 5ms/step - loss: 7.7386 - val_loss: 23.4854\n",
      "Epoch 367/500\n",
      "17/17 [==============================] - 0s 3ms/step - loss: 7.7361 - val_loss: 23.5282\n",
      "Epoch 368/500\n",
      "17/17 [==============================] - 0s 4ms/step - loss: 7.7337 - val_loss: 23.5690\n",
      "Epoch 369/500\n",
      "17/17 [==============================] - 0s 7ms/step - loss: 7.7314 - val_loss: 23.6078\n",
      "Epoch 370/500\n",
      "17/17 [==============================] - 0s 4ms/step - loss: 7.7294 - val_loss: 23.6450\n",
      "Epoch 371/500\n",
      "17/17 [==============================] - 0s 4ms/step - loss: 7.7274 - val_loss: 23.6803\n",
      "Epoch 372/500\n",
      "17/17 [==============================] - 0s 4ms/step - loss: 7.7256 - val_loss: 23.7142\n",
      "Epoch 373/500\n",
      "17/17 [==============================] - 0s 4ms/step - loss: 7.7239 - val_loss: 23.7462\n",
      "Epoch 374/500\n",
      "17/17 [==============================] - 0s 5ms/step - loss: 7.7223 - val_loss: 23.7766\n",
      "Epoch 375/500\n",
      "17/17 [==============================] - 0s 3ms/step - loss: 7.7208 - val_loss: 23.8054\n",
      "Epoch 376/500\n",
      "17/17 [==============================] - 0s 4ms/step - loss: 7.7194 - val_loss: 23.8328\n",
      "Epoch 377/500\n",
      "17/17 [==============================] - 0s 4ms/step - loss: 7.7181 - val_loss: 23.8589\n",
      "Epoch 378/500\n",
      "17/17 [==============================] - 0s 3ms/step - loss: 7.7169 - val_loss: 23.8836\n",
      "Epoch 379/500\n",
      "17/17 [==============================] - 0s 4ms/step - loss: 7.7158 - val_loss: 23.9072\n",
      "Epoch 380/500\n",
      "17/17 [==============================] - 0s 4ms/step - loss: 7.7148 - val_loss: 23.9292\n",
      "Epoch 381/500\n",
      "17/17 [==============================] - 0s 4ms/step - loss: 7.7138 - val_loss: 23.9504\n",
      "Epoch 382/500\n",
      "17/17 [==============================] - 0s 4ms/step - loss: 7.7129 - val_loss: 23.9702\n",
      "Epoch 383/500\n",
      "17/17 [==============================] - 0s 5ms/step - loss: 7.7121 - val_loss: 23.9890\n",
      "Epoch 384/500\n",
      "17/17 [==============================] - 0s 5ms/step - loss: 7.7114 - val_loss: 24.0068\n",
      "Epoch 385/500\n",
      "17/17 [==============================] - 0s 8ms/step - loss: 7.7107 - val_loss: 24.0237\n",
      "Epoch 386/500\n",
      "17/17 [==============================] - 0s 7ms/step - loss: 7.7100 - val_loss: 24.0395\n",
      "Epoch 387/500\n",
      "17/17 [==============================] - 0s 7ms/step - loss: 7.7094 - val_loss: 24.0546\n",
      "Epoch 388/500\n",
      "17/17 [==============================] - 0s 5ms/step - loss: 7.7089 - val_loss: 24.0686\n",
      "Epoch 389/500\n",
      "17/17 [==============================] - 0s 4ms/step - loss: 7.7084 - val_loss: 24.0821\n",
      "Epoch 390/500\n",
      "17/17 [==============================] - 0s 5ms/step - loss: 7.7079 - val_loss: 24.0945\n",
      "Epoch 391/500\n",
      "17/17 [==============================] - 0s 4ms/step - loss: 7.7075 - val_loss: 24.1064\n",
      "Epoch 392/500\n",
      "17/17 [==============================] - 0s 4ms/step - loss: 7.7072 - val_loss: 24.1175\n",
      "Epoch 393/500\n",
      "17/17 [==============================] - 0s 5ms/step - loss: 7.7068 - val_loss: 24.1278\n",
      "Epoch 394/500\n",
      "17/17 [==============================] - 0s 4ms/step - loss: 7.7065 - val_loss: 24.1375\n",
      "Epoch 395/500\n",
      "17/17 [==============================] - 0s 4ms/step - loss: 7.7063 - val_loss: 24.1467\n",
      "Epoch 396/500\n",
      "17/17 [==============================] - 0s 5ms/step - loss: 7.7060 - val_loss: 24.1553\n",
      "Epoch 397/500\n",
      "17/17 [==============================] - 0s 4ms/step - loss: 7.7058 - val_loss: 24.1634\n",
      "Epoch 398/500\n",
      "17/17 [==============================] - 0s 5ms/step - loss: 7.7056 - val_loss: 24.1711\n",
      "Epoch 399/500\n",
      "17/17 [==============================] - 0s 4ms/step - loss: 7.7055 - val_loss: 24.1779\n",
      "Epoch 400/500\n",
      "17/17 [==============================] - 0s 7ms/step - loss: 7.7054 - val_loss: 24.1847\n",
      "Epoch 401/500\n",
      "17/17 [==============================] - 0s 5ms/step - loss: 7.7053 - val_loss: 24.1908\n",
      "Epoch 402/500\n",
      "17/17 [==============================] - 0s 5ms/step - loss: 7.7052 - val_loss: 24.1966\n",
      "Epoch 403/500\n",
      "17/17 [==============================] - 0s 4ms/step - loss: 7.7051 - val_loss: 24.2020\n",
      "Epoch 404/500\n",
      "17/17 [==============================] - 0s 4ms/step - loss: 7.7051 - val_loss: 24.2071\n",
      "Epoch 405/500\n",
      "17/17 [==============================] - 0s 4ms/step - loss: 7.7050 - val_loss: 24.2116\n",
      "Epoch 406/500\n",
      "17/17 [==============================] - 0s 5ms/step - loss: 7.7050 - val_loss: 24.2159\n",
      "Epoch 407/500\n",
      "17/17 [==============================] - 0s 5ms/step - loss: 7.7051 - val_loss: 24.2200\n",
      "Epoch 408/500\n",
      "17/17 [==============================] - 0s 5ms/step - loss: 7.7051 - val_loss: 24.2237\n",
      "Epoch 409/500\n",
      "17/17 [==============================] - 0s 4ms/step - loss: 7.7051 - val_loss: 24.2271\n",
      "Epoch 410/500\n",
      "17/17 [==============================] - 0s 5ms/step - loss: 7.7052 - val_loss: 24.2305\n",
      "Epoch 411/500\n",
      "17/17 [==============================] - 0s 4ms/step - loss: 7.7053 - val_loss: 24.2334\n",
      "Epoch 412/500\n",
      "17/17 [==============================] - 0s 5ms/step - loss: 7.7053 - val_loss: 24.2359\n",
      "Epoch 413/500\n",
      "17/17 [==============================] - 0s 7ms/step - loss: 7.7054 - val_loss: 24.2384\n",
      "Epoch 414/500\n",
      "17/17 [==============================] - 0s 4ms/step - loss: 7.7055 - val_loss: 24.2409\n",
      "Epoch 415/500\n",
      "17/17 [==============================] - 0s 5ms/step - loss: 7.7056 - val_loss: 24.2432\n",
      "Epoch 416/500\n",
      "17/17 [==============================] - 0s 8ms/step - loss: 7.7057 - val_loss: 24.2450\n",
      "Epoch 417/500\n",
      "17/17 [==============================] - 0s 4ms/step - loss: 7.7059 - val_loss: 24.2468\n",
      "Epoch 418/500\n",
      "17/17 [==============================] - 0s 5ms/step - loss: 7.7060 - val_loss: 24.2482\n",
      "Epoch 419/500\n",
      "17/17 [==============================] - 0s 5ms/step - loss: 7.7062 - val_loss: 24.2498\n",
      "Epoch 420/500\n",
      "17/17 [==============================] - 0s 4ms/step - loss: 7.7063 - val_loss: 24.2511\n",
      "Epoch 421/500\n",
      "17/17 [==============================] - 0s 4ms/step - loss: 7.7065 - val_loss: 24.2526\n",
      "Epoch 422/500\n",
      "17/17 [==============================] - 0s 5ms/step - loss: 7.7067 - val_loss: 24.2535\n",
      "Epoch 423/500\n",
      "17/17 [==============================] - 0s 4ms/step - loss: 7.7068 - val_loss: 24.2546\n",
      "Epoch 424/500\n",
      "17/17 [==============================] - 0s 5ms/step - loss: 7.7070 - val_loss: 24.2556\n",
      "Epoch 425/500\n",
      "17/17 [==============================] - 0s 4ms/step - loss: 7.7072 - val_loss: 24.2563\n",
      "Epoch 426/500\n",
      "17/17 [==============================] - 0s 4ms/step - loss: 7.7074 - val_loss: 24.2569\n",
      "Epoch 427/500\n",
      "17/17 [==============================] - 0s 5ms/step - loss: 7.7076 - val_loss: 24.2576\n",
      "Epoch 428/500\n",
      "17/17 [==============================] - 0s 7ms/step - loss: 7.7078 - val_loss: 24.2582\n",
      "Epoch 429/500\n",
      "17/17 [==============================] - 0s 6ms/step - loss: 7.7079 - val_loss: 24.2584\n",
      "Epoch 430/500\n",
      "17/17 [==============================] - 0s 7ms/step - loss: 7.7082 - val_loss: 24.2589\n",
      "Epoch 431/500\n",
      "17/17 [==============================] - 0s 5ms/step - loss: 7.7084 - val_loss: 24.2593\n",
      "Epoch 432/500\n",
      "17/17 [==============================] - 0s 6ms/step - loss: 7.7086 - val_loss: 24.2595\n",
      "Epoch 433/500\n",
      "17/17 [==============================] - 0s 10ms/step - loss: 7.7088 - val_loss: 24.2597\n",
      "Epoch 434/500\n",
      "17/17 [==============================] - 0s 5ms/step - loss: 7.7090 - val_loss: 24.2600\n",
      "Epoch 435/500\n",
      "17/17 [==============================] - 0s 5ms/step - loss: 7.7092 - val_loss: 24.2601\n",
      "Epoch 436/500\n",
      "17/17 [==============================] - 0s 5ms/step - loss: 7.7094 - val_loss: 24.2601\n",
      "Epoch 437/500\n",
      "17/17 [==============================] - 0s 4ms/step - loss: 7.7096 - val_loss: 24.2601\n",
      "Epoch 438/500\n",
      "17/17 [==============================] - 0s 4ms/step - loss: 7.7099 - val_loss: 24.2599\n",
      "Epoch 439/500\n",
      "17/17 [==============================] - 0s 5ms/step - loss: 7.7101 - val_loss: 24.2597\n",
      "Epoch 440/500\n",
      "17/17 [==============================] - 0s 4ms/step - loss: 7.7104 - val_loss: 24.2595\n",
      "Epoch 441/500\n",
      "17/17 [==============================] - 0s 4ms/step - loss: 7.7106 - val_loss: 24.2595\n",
      "Epoch 442/500\n",
      "17/17 [==============================] - 0s 5ms/step - loss: 7.7108 - val_loss: 24.2594\n",
      "Epoch 443/500\n",
      "17/17 [==============================] - 0s 4ms/step - loss: 7.7111 - val_loss: 24.2592\n",
      "Epoch 444/500\n",
      "17/17 [==============================] - 0s 5ms/step - loss: 7.7113 - val_loss: 24.2591\n",
      "Epoch 445/500\n",
      "17/17 [==============================] - 0s 4ms/step - loss: 7.7115 - val_loss: 24.2588\n",
      "Epoch 446/500\n",
      "17/17 [==============================] - 0s 4ms/step - loss: 7.7118 - val_loss: 24.2584\n",
      "Epoch 447/500\n",
      "17/17 [==============================] - 0s 4ms/step - loss: 7.7120 - val_loss: 24.2583\n",
      "Epoch 448/500\n",
      "17/17 [==============================] - 0s 5ms/step - loss: 7.7123 - val_loss: 24.2580\n",
      "Epoch 449/500\n",
      "17/17 [==============================] - 0s 5ms/step - loss: 7.7125 - val_loss: 24.2577\n",
      "Epoch 450/500\n",
      "17/17 [==============================] - 0s 5ms/step - loss: 7.7127 - val_loss: 24.2574\n",
      "Epoch 451/500\n",
      "17/17 [==============================] - 0s 7ms/step - loss: 7.7130 - val_loss: 24.2570\n",
      "Epoch 452/500\n",
      "17/17 [==============================] - 0s 4ms/step - loss: 7.7132 - val_loss: 24.2567\n",
      "Epoch 453/500\n",
      "17/17 [==============================] - 0s 4ms/step - loss: 7.7134 - val_loss: 24.2563\n",
      "Epoch 454/500\n",
      "17/17 [==============================] - 0s 5ms/step - loss: 7.7137 - val_loss: 24.2559\n",
      "Epoch 455/500\n",
      "17/17 [==============================] - 0s 4ms/step - loss: 7.7140 - val_loss: 24.2557\n",
      "Epoch 456/500\n",
      "17/17 [==============================] - 0s 5ms/step - loss: 7.7142 - val_loss: 24.2553\n",
      "Epoch 457/500\n",
      "17/17 [==============================] - 0s 4ms/step - loss: 7.7144 - val_loss: 24.2547\n",
      "Epoch 458/500\n",
      "17/17 [==============================] - 0s 4ms/step - loss: 7.7147 - val_loss: 24.2545\n",
      "Epoch 459/500\n",
      "17/17 [==============================] - 0s 5ms/step - loss: 7.7149 - val_loss: 24.2541\n",
      "Epoch 460/500\n",
      "17/17 [==============================] - 0s 5ms/step - loss: 7.7151 - val_loss: 24.2535\n",
      "Epoch 461/500\n",
      "17/17 [==============================] - 0s 3ms/step - loss: 7.7154 - val_loss: 24.2532\n",
      "Epoch 462/500\n",
      "17/17 [==============================] - 0s 4ms/step - loss: 7.7157 - val_loss: 24.2530\n",
      "Epoch 463/500\n",
      "17/17 [==============================] - 0s 5ms/step - loss: 7.7158 - val_loss: 24.2523\n",
      "Epoch 464/500\n",
      "17/17 [==============================] - 0s 4ms/step - loss: 7.7161 - val_loss: 24.2519\n",
      "Epoch 465/500\n",
      "17/17 [==============================] - 0s 4ms/step - loss: 7.7164 - val_loss: 24.2515\n",
      "Epoch 466/500\n",
      "17/17 [==============================] - 0s 5ms/step - loss: 7.7166 - val_loss: 24.2510\n",
      "Epoch 467/500\n",
      "17/17 [==============================] - 0s 4ms/step - loss: 7.7169 - val_loss: 24.2507\n",
      "Epoch 468/500\n",
      "17/17 [==============================] - 0s 4ms/step - loss: 7.7171 - val_loss: 24.2504\n",
      "Epoch 469/500\n",
      "17/17 [==============================] - 0s 7ms/step - loss: 7.7173 - val_loss: 24.2499\n",
      "Epoch 470/500\n",
      "17/17 [==============================] - 0s 4ms/step - loss: 7.7176 - val_loss: 24.2495\n",
      "Epoch 471/500\n",
      "17/17 [==============================] - 0s 5ms/step - loss: 7.7178 - val_loss: 24.2492\n",
      "Epoch 472/500\n",
      "17/17 [==============================] - 0s 5ms/step - loss: 7.7181 - val_loss: 24.2488\n",
      "Epoch 473/500\n",
      "17/17 [==============================] - 0s 4ms/step - loss: 7.7182 - val_loss: 24.2483\n",
      "Epoch 474/500\n",
      "17/17 [==============================] - 0s 4ms/step - loss: 7.7185 - val_loss: 24.2480\n",
      "Epoch 475/500\n",
      "17/17 [==============================] - 0s 4ms/step - loss: 7.7187 - val_loss: 24.2476\n",
      "Epoch 476/500\n",
      "17/17 [==============================] - 0s 4ms/step - loss: 7.7189 - val_loss: 24.2470\n",
      "Epoch 477/500\n",
      "17/17 [==============================] - 0s 5ms/step - loss: 7.7192 - val_loss: 24.2468\n",
      "Epoch 478/500\n",
      "17/17 [==============================] - 0s 5ms/step - loss: 7.7194 - val_loss: 24.2461\n",
      "Epoch 479/500\n",
      "17/17 [==============================] - 0s 4ms/step - loss: 7.7197 - val_loss: 24.2458\n",
      "Epoch 480/500\n",
      "17/17 [==============================] - 0s 4ms/step - loss: 7.7199 - val_loss: 24.2455\n",
      "Epoch 481/500\n",
      "17/17 [==============================] - 0s 4ms/step - loss: 7.7201 - val_loss: 24.2450\n",
      "Epoch 482/500\n",
      "17/17 [==============================] - 0s 4ms/step - loss: 7.7204 - val_loss: 24.2446\n",
      "Epoch 483/500\n",
      "17/17 [==============================] - 0s 4ms/step - loss: 7.7206 - val_loss: 24.2441\n",
      "Epoch 484/500\n",
      "17/17 [==============================] - 0s 5ms/step - loss: 7.7208 - val_loss: 24.2435\n",
      "Epoch 485/500\n",
      "17/17 [==============================] - 0s 5ms/step - loss: 7.7210 - val_loss: 24.2432\n",
      "Epoch 486/500\n",
      "17/17 [==============================] - 0s 6ms/step - loss: 7.7213 - val_loss: 24.2429\n",
      "Epoch 487/500\n",
      "17/17 [==============================] - 0s 5ms/step - loss: 7.7215 - val_loss: 24.2422\n",
      "Epoch 488/500\n",
      "17/17 [==============================] - 0s 4ms/step - loss: 7.7218 - val_loss: 24.2420\n",
      "Epoch 489/500\n",
      "17/17 [==============================] - 0s 5ms/step - loss: 7.7219 - val_loss: 24.2417\n",
      "Epoch 490/500\n",
      "17/17 [==============================] - 0s 4ms/step - loss: 7.7222 - val_loss: 24.2410\n",
      "Epoch 491/500\n",
      "17/17 [==============================] - 0s 4ms/step - loss: 7.7224 - val_loss: 24.2409\n",
      "Epoch 492/500\n",
      "17/17 [==============================] - 0s 4ms/step - loss: 7.7226 - val_loss: 24.2403\n",
      "Epoch 493/500\n",
      "17/17 [==============================] - 0s 4ms/step - loss: 7.7228 - val_loss: 24.2399\n",
      "Epoch 494/500\n",
      "17/17 [==============================] - 0s 5ms/step - loss: 7.7230 - val_loss: 24.2396\n",
      "Epoch 495/500\n",
      "17/17 [==============================] - 0s 4ms/step - loss: 7.7233 - val_loss: 24.2392\n",
      "Epoch 496/500\n",
      "17/17 [==============================] - 0s 4ms/step - loss: 7.7235 - val_loss: 24.2386\n",
      "Epoch 497/500\n",
      "17/17 [==============================] - 0s 4ms/step - loss: 7.7237 - val_loss: 24.2383\n",
      "Epoch 498/500\n",
      "17/17 [==============================] - 0s 4ms/step - loss: 7.7239 - val_loss: 24.2380\n",
      "Epoch 499/500\n",
      "17/17 [==============================] - 0s 5ms/step - loss: 7.7241 - val_loss: 24.2375\n",
      "Epoch 500/500\n",
      "17/17 [==============================] - 0s 5ms/step - loss: 7.7243 - val_loss: 24.2371\n"
     ]
    }
   ],
   "source": [
    "C0 = tf.Variable(88.0403, name=\"C0\", trainable=True, dtype=tf.float32)\n",
    "K0 = tf.Variable(-0.0012, name=\"K0\", trainable=True, dtype=tf.float32)\n",
    "K1 = tf.Variable(-0.0001, name=\"K1\", trainable=True, dtype=tf.float32)\n",
    "a = tf.Variable(0.0000, name=\"a\", trainable=True, dtype=tf.float32)\n",
    "b = tf.Variable(0.0120, name=\"b\", trainable=True, dtype=tf.float32)\n",
    "c = tf.Variable(2.0334, name=\"c\", trainable=True, dtype=tf.float32)\n",
    "\n",
    "splitr = 0.8\n",
    "\n",
    "\n",
    "def loss_fn(y_true, y_pred):\n",
    "    squared_difference = tf.square(y_true[:, 0] - y_pred[:, 0])\n",
    "    #squared_difference2 = tf.square(y_true[:, 2]-y_pred[:, 2])\n",
    "    #squared_difference1 = tf.square(y_true[:, 1]-y_pred[:, 1])\n",
    "    epsilon = 1\n",
    "    squared_difference3 = tf.square(\n",
    "        y_pred[:, 1] - (\n",
    "            y_pred[:, 0] * (\n",
    "                K0 - K1 * (\n",
    "                    9 * a * tf.math.log((y_pred[:, 0] + epsilon) / C0) / (K0 - K1 * c)**2 +\n",
    "                    4 * b * tf.math.log((y_pred[:, 0] + epsilon) / C0) / (K0 - K1 * c) + c\n",
    "                )\n",
    "            )\n",
    "        )\n",
    "    )\n",
    "    return tf.reduce_mean(squared_difference, axis=-1) + 0.2*tf.reduce_mean(squared_difference3, axis=-1)\n",
    "model = Sequential()\n",
    "model.add(LSTM(100, input_shape=(trainX.shape[1], trainX.shape[2])))\n",
    "model.add(Dense(60))\n",
    "model.compile(loss=loss_fn, optimizer='adam')\n",
    "history = model.fit(trainX[:int(splitr*trainX.shape[0])], trainy[:int(splitr*trainX.shape[0])], epochs=500, batch_size=64, validation_data=(trainX[int(splitr*trainX.shape[0]):trainX.shape[0]], trainy[int(splitr*trainX.shape[0]):trainX.shape[0]]), shuffle=False)"
   ]
  },
  {
   "cell_type": "code",
   "execution_count": 19,
   "metadata": {
    "colab": {
     "base_uri": "https://localhost:8080/"
    },
    "id": "yJL101rPyuoT",
    "outputId": "239ff2b1-c186-423a-d316-939dfdd7c793"
   },
   "outputs": [
    {
     "name": "stdout",
     "output_type": "stream",
     "text": [
      "1/1 [==============================] - 0s 357ms/step\n"
     ]
    }
   ],
   "source": [
    "forecast_without_mc = forecastX\n",
    "yhat_without_mc = model.predict(forecast_without_mc) # Step Ahead Prediction\n",
    "forecast_without_mc = forecast_without_mc.reshape((forecast_without_mc.shape[0], forecast_without_mc.shape[2])) # Historical Input"
   ]
  },
  {
   "cell_type": "code",
   "execution_count": 20,
   "metadata": {
    "colab": {
     "base_uri": "https://localhost:8080/"
    },
    "id": "g9dQELcJ8wbp",
    "outputId": "4dc7671b-b1a8-48d5-8744-a86f98446109"
   },
   "outputs": [
    {
     "data": {
      "text/plain": [
       "(1, 1, 251)"
      ]
     },
     "execution_count": 20,
     "metadata": {},
     "output_type": "execute_result"
    }
   ],
   "source": [
    "forecastX.shape"
   ]
  },
  {
   "cell_type": "code",
   "execution_count": 21,
   "metadata": {
    "colab": {
     "base_uri": "https://localhost:8080/"
    },
    "id": "IS2kyIKG1Kbr",
    "outputId": "f31b3485-8e26-452f-9298-ea8bf7e80ad1"
   },
   "outputs": [
    {
     "data": {
      "text/plain": [
       "(1, 251)"
      ]
     },
     "execution_count": 21,
     "metadata": {},
     "output_type": "execute_result"
    }
   ],
   "source": [
    "forecast_without_mc.shape"
   ]
  },
  {
   "cell_type": "code",
   "execution_count": 22,
   "metadata": {
    "id": "0u6VIzaDyuoT"
   },
   "outputs": [],
   "source": [
    "inv_yhat_without_mc = np.concatenate((forecast_without_mc, yhat_without_mc), axis=1) # Concatenation of predicted values with Historical Data\n",
    "#inv_yhat_without_mc = scaler.inverse_transform(inv_yhat_without_mc) # Transform labels back to original encoding"
   ]
  },
  {
   "cell_type": "code",
   "execution_count": 23,
   "metadata": {
    "colab": {
     "base_uri": "https://localhost:8080/"
    },
    "id": "EUEcw0LX07oU",
    "outputId": "cfc32397-9c37-4b43-d087-584bb31c3dcc"
   },
   "outputs": [
    {
     "data": {
      "text/plain": [
       "(1, 311)"
      ]
     },
     "execution_count": 23,
     "metadata": {},
     "output_type": "execute_result"
    }
   ],
   "source": [
    "inv_yhat_without_mc.shape"
   ]
  },
  {
   "cell_type": "code",
   "execution_count": 24,
   "metadata": {
    "id": "31OWVbSh_305"
   },
   "outputs": [],
   "source": [
    "fforecast = inv_yhat_without_mc[:,-300:]"
   ]
  },
  {
   "cell_type": "code",
   "execution_count": 25,
   "metadata": {},
   "outputs": [
    {
     "data": {
      "text/plain": [
       "(1, 300)"
      ]
     },
     "execution_count": 25,
     "metadata": {},
     "output_type": "execute_result"
    }
   ],
   "source": [
    "fforecast.shape"
   ]
  },
  {
   "cell_type": "code",
   "execution_count": 26,
   "metadata": {
    "id": "BlpGH2FOAiRF"
   },
   "outputs": [],
   "source": [
    "final_forecast = fforecast[:,0:300:3]"
   ]
  },
  {
   "cell_type": "code",
   "execution_count": 27,
   "metadata": {},
   "outputs": [
    {
     "data": {
      "text/plain": [
       "(1, 300)"
      ]
     },
     "execution_count": 27,
     "metadata": {},
     "output_type": "execute_result"
    }
   ],
   "source": [
    "fforecast.shape"
   ]
  },
  {
   "cell_type": "code",
   "execution_count": 28,
   "metadata": {
    "id": "CXkgkj_LBk_t"
   },
   "outputs": [],
   "source": [
    "# code to replace all negative value with 0\n",
    "final_forecast[final_forecast<0] = 0"
   ]
  },
  {
   "cell_type": "code",
   "execution_count": 29,
   "metadata": {},
   "outputs": [
    {
     "data": {
      "text/plain": [
       "array([[7.41378852e+01, 7.41238795e+01, 7.41098739e+01, 7.40958684e+01,\n",
       "        7.40818627e+01, 7.40678571e+01, 7.40538515e+01, 7.40398459e+01,\n",
       "        7.40258403e+01, 7.40118347e+01, 7.39978291e+01, 7.39838235e+01,\n",
       "        7.39698179e+01, 7.39558123e+01, 7.39418067e+01, 7.39278011e+01,\n",
       "        7.39137955e+01, 7.38997899e+01, 7.38857843e+01, 7.38717787e+01,\n",
       "        7.38577731e+01, 7.38437675e+01, 7.38297619e+01, 7.38157563e+01,\n",
       "        7.38017507e+01, 7.37681372e+01, 7.37317227e+01, 7.36953081e+01,\n",
       "        7.36588936e+01, 7.36224790e+01, 7.35860644e+01, 7.35496499e+01,\n",
       "        7.35132353e+01, 7.34768207e+01, 7.34404062e+01, 7.34039916e+01,\n",
       "        7.33675770e+01, 7.33311625e+01, 7.32947479e+01, 7.32583333e+01,\n",
       "        7.32219188e+01, 7.31855042e+01, 7.31490896e+01, 7.31126751e+01,\n",
       "        7.30762605e+01, 7.30398459e+01, 7.30034314e+01, 7.29670168e+01,\n",
       "        7.29306022e+01, 7.28941877e+01, 7.28577731e+01, 7.28213585e+01,\n",
       "        7.27849440e+01, 7.27485294e+01, 7.27121149e+01, 7.26757003e+01,\n",
       "        7.26392857e+01, 7.26028711e+01, 7.25664566e+01, 7.25300420e+01,\n",
       "        7.24965686e+01, 7.24769608e+01, 7.24573529e+01, 7.24377451e+01,\n",
       "        7.24181373e+01, 7.23985294e+01, 7.23789216e+01, 7.23593137e+01,\n",
       "        7.23397059e+01, 7.23200980e+01, 7.23004902e+01, 7.22808823e+01,\n",
       "        7.22612745e+01, 7.22416667e+01, 7.22220588e+01, 7.22024510e+01,\n",
       "        7.21828431e+01, 7.21632353e+01, 7.21436274e+01, 7.21240196e+01,\n",
       "        7.81376648e+01, 0.00000000e+00, 0.00000000e+00, 0.00000000e+00,\n",
       "        3.97830337e-01, 1.91479445e-01, 6.95797324e-01, 0.00000000e+00,\n",
       "        0.00000000e+00, 0.00000000e+00, 9.58582163e-02, 4.14856046e-01,\n",
       "        0.00000000e+00, 0.00000000e+00, 0.00000000e+00, 6.74138814e-02,\n",
       "        0.00000000e+00, 0.00000000e+00, 1.22182474e-01, 0.00000000e+00]])"
      ]
     },
     "execution_count": 29,
     "metadata": {},
     "output_type": "execute_result"
    }
   ],
   "source": [
    "final_forecast"
   ]
  },
  {
   "cell_type": "code",
   "execution_count": 30,
   "metadata": {},
   "outputs": [
    {
     "data": {
      "text/plain": [
       "(1, 100)"
      ]
     },
     "execution_count": 30,
     "metadata": {},
     "output_type": "execute_result"
    }
   ],
   "source": [
    "final_forecast.shape"
   ]
  },
  {
   "cell_type": "code",
   "execution_count": 31,
   "metadata": {},
   "outputs": [
    {
     "data": {
      "text/plain": [
       "(100,)"
      ]
     },
     "execution_count": 31,
     "metadata": {},
     "output_type": "execute_result"
    }
   ],
   "source": [
    "test.shape"
   ]
  },
  {
   "cell_type": "code",
   "execution_count": 32,
   "metadata": {},
   "outputs": [],
   "source": [
    "training_set = np.array(training_set)\n",
    "test = np.array(test)\n",
    "final_forecast = np.array(final_forecast.squeeze(0))"
   ]
  },
  {
   "cell_type": "code",
   "execution_count": 33,
   "metadata": {},
   "outputs": [
    {
     "data": {
      "text/plain": [
       "array([71.48839869, 71.48373016, 71.47906162, 71.47439309, 71.46972456,\n",
       "       71.46505602, 71.46038749, 71.45571895, 71.45105042, 71.44638189,\n",
       "       71.44171335, 71.43704482, 71.43237628, 71.42770775, 71.42303922,\n",
       "       71.41837068, 71.41370215, 71.40903361, 71.40436508, 71.39969655,\n",
       "       71.39502801, 71.39035948, 71.38569094, 71.38102241, 71.37635387,\n",
       "       71.37168534, 71.36701681, 71.36234827, 71.35767974, 71.3530112 ,\n",
       "       71.34834267, 71.34367414, 71.3390056 , 71.33433707, 71.32966853,\n",
       "       71.325     , 71.32033147, 71.31566293, 71.3109944 , 71.30632586,\n",
       "       71.30165733, 71.2969888 , 71.29232026, 71.28765173, 71.28298319,\n",
       "       71.27831466, 71.27364613, 71.26897759, 71.26430906, 71.25964052,\n",
       "       71.25497199, 71.25030345, 71.24563492, 71.24096639, 71.23629785,\n",
       "       71.23162932, 71.22696078, 71.22229225, 71.21762372, 71.21295518,\n",
       "       71.20828665, 71.20361811, 71.19831933, 71.19084967, 71.18338002,\n",
       "       71.17591036, 71.16844071, 71.16097106, 71.1535014 , 71.14603175,\n",
       "       71.13856209, 71.13109244, 71.12362278, 71.11615313, 71.10868347,\n",
       "       71.10121382, 71.09374416, 71.08627451, 71.07880486, 71.0713352 ,\n",
       "       71.06386555, 71.05639589, 71.04892624, 71.04145658, 71.03398693,\n",
       "       71.02651727, 71.01904762, 71.01157796, 71.00410831, 70.99663866,\n",
       "       70.989169  , 70.98169935, 70.97422969, 70.96676004, 70.95929038,\n",
       "       70.95182073, 70.94435107, 70.93688142, 70.92941176, 70.92194211])"
      ]
     },
     "execution_count": 33,
     "metadata": {},
     "output_type": "execute_result"
    }
   ],
   "source": [
    "test"
   ]
  },
  {
   "cell_type": "code",
   "execution_count": 34,
   "metadata": {},
   "outputs": [
    {
     "data": {
      "text/plain": [
       "(100,)"
      ]
     },
     "execution_count": 34,
     "metadata": {},
     "output_type": "execute_result"
    }
   ],
   "source": [
    "test.shape"
   ]
  },
  {
   "cell_type": "code",
   "execution_count": 35,
   "metadata": {},
   "outputs": [
    {
     "data": {
      "text/plain": [
       "(100,)"
      ]
     },
     "execution_count": 35,
     "metadata": {},
     "output_type": "execute_result"
    }
   ],
   "source": [
    "final_forecast.shape"
   ]
  },
  {
   "cell_type": "code",
   "execution_count": 36,
   "metadata": {},
   "outputs": [
    {
     "data": {
      "text/plain": [
       "(100,)"
      ]
     },
     "execution_count": 36,
     "metadata": {},
     "output_type": "execute_result"
    }
   ],
   "source": [
    "test.shape"
   ]
  },
  {
   "cell_type": "code",
   "execution_count": 37,
   "metadata": {},
   "outputs": [
    {
     "name": "stdout",
     "output_type": "stream",
     "text": [
      "30.956666696827373\n",
      "15.05672648541266\n"
     ]
    }
   ],
   "source": [
    "import math\n",
    "MSE = np.square(np.subtract(np.array(test),np.array(final_forecast))).mean()   \n",
    "rsme = math.sqrt(MSE)\n",
    "print(rsme)  \n",
    "MAE = np.abs(np.subtract(np.array(test),np.array(final_forecast))).mean()   \n",
    "mae = MAE\n",
    "print(mae)"
   ]
  }
 ],
 "metadata": {
  "colab": {
   "provenance": []
  },
  "kernelspec": {
   "display_name": "Python 3",
   "language": "python",
   "name": "python3"
  },
  "language_info": {
   "codemirror_mode": {
    "name": "ipython",
    "version": 3
   },
   "file_extension": ".py",
   "mimetype": "text/x-python",
   "name": "python",
   "nbconvert_exporter": "python",
   "pygments_lexer": "ipython3",
   "version": "3.9.13"
  }
 },
 "nbformat": 4,
 "nbformat_minor": 0
}
