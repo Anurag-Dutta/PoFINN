{
 "cells": [
  {
   "cell_type": "markdown",
   "metadata": {
    "id": "pCGKeZ2gyuoQ"
   },
   "source": [
    "_Importing Required Libraries_"
   ]
  },
  {
   "cell_type": "code",
   "execution_count": 1,
   "metadata": {
    "colab": {
     "base_uri": "https://localhost:8080/"
    },
    "id": "A-6LN-zXiLcM",
    "outputId": "4de610a4-f8b8-4f49-c6c0-89de299ccedc"
   },
   "outputs": [
    {
     "name": "stdout",
     "output_type": "stream",
     "text": [
      "Requirement already satisfied: hampel in c:\\users\\anurag dutta\\appdata\\local\\packages\\pythonsoftwarefoundation.python.3.9_qbz5n2kfra8p0\\localcache\\local-packages\\python39\\site-packages (0.0.5)Note: you may need to restart the kernel to use updated packages.\n",
      "\n",
      "Requirement already satisfied: numpy in c:\\users\\anurag dutta\\appdata\\local\\packages\\pythonsoftwarefoundation.python.3.9_qbz5n2kfra8p0\\localcache\\local-packages\\python39\\site-packages (from hampel) (1.26.4)\n",
      "Requirement already satisfied: pandas in c:\\users\\anurag dutta\\appdata\\local\\packages\\pythonsoftwarefoundation.python.3.9_qbz5n2kfra8p0\\localcache\\local-packages\\python39\\site-packages (from hampel) (1.5.2)\n"
     ]
    },
    {
     "name": "stderr",
     "output_type": "stream",
     "text": [
      "\n",
      "[notice] A new release of pip is available: 24.2 -> 24.3.1\n",
      "[notice] To update, run: C:\\Users\\Anurag Dutta\\AppData\\Local\\Microsoft\\WindowsApps\\PythonSoftwareFoundation.Python.3.9_qbz5n2kfra8p0\\python.exe -m pip install --upgrade pip\n"
     ]
    },
    {
     "name": "stdout",
     "output_type": "stream",
     "text": [
      "Requirement already satisfied: python-dateutil>=2.8.1 in c:\\users\\anurag dutta\\appdata\\local\\packages\\pythonsoftwarefoundation.python.3.9_qbz5n2kfra8p0\\localcache\\local-packages\\python39\\site-packages (from pandas->hampel) (2.8.2)\n",
      "Requirement already satisfied: pytz>=2020.1 in c:\\users\\anurag dutta\\appdata\\local\\packages\\pythonsoftwarefoundation.python.3.9_qbz5n2kfra8p0\\localcache\\local-packages\\python39\\site-packages (from pandas->hampel) (2023.3.post1)\n",
      "Requirement already satisfied: six>=1.5 in c:\\users\\anurag dutta\\appdata\\local\\packages\\pythonsoftwarefoundation.python.3.9_qbz5n2kfra8p0\\localcache\\local-packages\\python39\\site-packages (from python-dateutil>=2.8.1->pandas->hampel) (1.16.0)\n"
     ]
    }
   ],
   "source": [
    "pip install hampel"
   ]
  },
  {
   "cell_type": "code",
   "execution_count": 2,
   "metadata": {
    "id": "By_d9uXpaFvZ"
   },
   "outputs": [],
   "source": [
    "from keras.models import Sequential\n",
    "from keras.layers import Dense\n",
    "from keras.layers import LSTM\n",
    "from keras.layers import Dropout\n",
    "import keras\n",
    "import tensorflow as tf\n",
    "from hampel import hampel\n",
    "import numpy as np\n",
    "import matplotlib.pyplot as plt\n",
    "import pandas as pd\n",
    "from sklearn.preprocessing import MinMaxScaler\n",
    "from sklearn.metrics import mean_squared_error, mean_absolute_error\n",
    "from math import sqrt\n",
    "from matplotlib import pyplot\n",
    "from numpy import array"
   ]
  },
  {
   "cell_type": "markdown",
   "metadata": {
    "id": "JyOjBMFayuoR"
   },
   "source": [
    "## Pretraining"
   ]
  },
  {
   "cell_type": "markdown",
   "metadata": {
    "id": "-5QqIY_GyuoR"
   },
   "source": [
    "The `capa_intermittency.dat` feeds the model with the dynamics of the Capacitor"
   ]
  },
  {
   "cell_type": "code",
   "execution_count": 3,
   "metadata": {
    "id": "9dV4a8yfyuoR"
   },
   "outputs": [],
   "source": [
    "data = np.genfromtxt('capa_intermittency.dat')\n",
    "training_set = pd.DataFrame(data).reset_index(drop=True)\n",
    "training_set = training_set.iloc[:,0]"
   ]
  },
  {
   "cell_type": "markdown",
   "metadata": {
    "id": "i7easoxByuoR"
   },
   "source": [
    "## Computing the Gradient"
   ]
  },
  {
   "cell_type": "markdown",
   "metadata": {
    "id": "5SnyolJTyuoR"
   },
   "source": [
    "_Calculating the value of_ $\\frac{dx}{dt}$"
   ]
  },
  {
   "cell_type": "code",
   "execution_count": 4,
   "metadata": {
    "colab": {
     "base_uri": "https://localhost:8080/"
    },
    "id": "wmIbVfIvyuoR",
    "outputId": "aa4e3136-c854-465d-d2e9-81cfd546e440"
   },
   "outputs": [
    {
     "name": "stdout",
     "output_type": "stream",
     "text": [
      "1.0\n",
      "1        0.000298\n",
      "2        0.000298\n",
      "3        0.000297\n",
      "4        0.000297\n",
      "5        0.000297\n",
      "           ...   \n",
      "9996     0.000018\n",
      "9997     0.000018\n",
      "9998     0.000018\n",
      "9999     0.000018\n",
      "10000    0.000018\n",
      "Name: 0, Length: 10000, dtype: float64\n"
     ]
    }
   ],
   "source": [
    "t_diff = 1\n",
    "print(training_set.max())\n",
    "gradient_t = (training_set.diff()/t_diff).iloc[1:] # dx/dt\n",
    "print(gradient_t)"
   ]
  },
  {
   "cell_type": "markdown",
   "metadata": {
    "id": "_2eVeeoxyuoS"
   },
   "source": [
    "## Loading Datasets"
   ]
  },
  {
   "cell_type": "code",
   "execution_count": 5,
   "metadata": {
    "id": "0J-NKyIEyuoS"
   },
   "outputs": [
    {
     "data": {
      "text/plain": [
       "0       91.100000\n",
       "1       90.875910\n",
       "2       90.651821\n",
       "3       90.427731\n",
       "4       90.203641\n",
       "          ...    \n",
       "2245    68.596502\n",
       "2246    68.590217\n",
       "2247    68.583931\n",
       "2248    68.577646\n",
       "2249    68.571360\n",
       "Name: C3, Length: 2250, dtype: float64"
      ]
     },
     "execution_count": 5,
     "metadata": {},
     "output_type": "execute_result"
    }
   ],
   "source": [
    "data = pd.read_csv(\"c3_interpolated_2150_100.csv\")\n",
    "training_set = data.iloc[:, 1]\n",
    "training_set"
   ]
  },
  {
   "cell_type": "code",
   "execution_count": 6,
   "metadata": {
    "colab": {
     "base_uri": "https://localhost:8080/"
    },
    "id": "-CbNUhJ74UqF",
    "outputId": "20f562d8-8247-49cc-b9c3-00eca5e13e2d"
   },
   "outputs": [
    {
     "data": {
      "text/plain": [
       "0       91.100000\n",
       "1       90.875910\n",
       "2       90.651821\n",
       "3       90.427731\n",
       "4       90.203641\n",
       "          ...    \n",
       "2145     0.000000\n",
       "2146     0.197619\n",
       "2147     0.000000\n",
       "2148     0.027514\n",
       "2149     0.000000\n",
       "Name: C3, Length: 2150, dtype: float64"
      ]
     },
     "execution_count": 6,
     "metadata": {},
     "output_type": "execute_result"
    }
   ],
   "source": [
    "test = training_set.tail(100)\n",
    "test\n",
    "training_set = training_set.head(2150)\n",
    "training_set"
   ]
  },
  {
   "cell_type": "code",
   "execution_count": 7,
   "metadata": {
    "colab": {
     "base_uri": "https://localhost:8080/"
    },
    "id": "X0TwTcq0yuoS",
    "outputId": "37252ed8-d88e-4044-fa7a-922411990b5b"
   },
   "outputs": [
    {
     "name": "stdout",
     "output_type": "stream",
     "text": [
      "0       0.000298\n",
      "1       0.000298\n",
      "2       0.000297\n",
      "3       0.000297\n",
      "4       0.000297\n",
      "          ...   \n",
      "9995    0.000018\n",
      "9996    0.000018\n",
      "9997    0.000018\n",
      "9998    0.000018\n",
      "9999    0.000018\n",
      "Name: 0, Length: 10000, dtype: float64\n"
     ]
    }
   ],
   "source": [
    "training_set = training_set.reset_index(drop=True)\n",
    "gradient_t = gradient_t.reset_index(drop=True)\n",
    "print(gradient_t)"
   ]
  },
  {
   "cell_type": "code",
   "execution_count": 8,
   "metadata": {
    "id": "O2biznZQyuoS"
   },
   "outputs": [],
   "source": [
    "df = pd.concat((training_set, gradient_t), axis=1)\n",
    "df.columns = ['y_t', 'grad_t']"
   ]
  },
  {
   "cell_type": "code",
   "execution_count": 9,
   "metadata": {
    "colab": {
     "base_uri": "https://localhost:8080/",
     "height": 423
    },
    "id": "sk_a5v3tyuoS",
    "outputId": "17563625-e550-45ae-faab-fafa353e44da"
   },
   "outputs": [
    {
     "data": {
      "text/html": [
       "<div>\n",
       "<style scoped>\n",
       "    .dataframe tbody tr th:only-of-type {\n",
       "        vertical-align: middle;\n",
       "    }\n",
       "\n",
       "    .dataframe tbody tr th {\n",
       "        vertical-align: top;\n",
       "    }\n",
       "\n",
       "    .dataframe thead th {\n",
       "        text-align: right;\n",
       "    }\n",
       "</style>\n",
       "<table border=\"1\" class=\"dataframe\">\n",
       "  <thead>\n",
       "    <tr style=\"text-align: right;\">\n",
       "      <th></th>\n",
       "      <th>y_t</th>\n",
       "      <th>grad_t</th>\n",
       "    </tr>\n",
       "  </thead>\n",
       "  <tbody>\n",
       "    <tr>\n",
       "      <th>0</th>\n",
       "      <td>91.100000</td>\n",
       "      <td>0.000298</td>\n",
       "    </tr>\n",
       "    <tr>\n",
       "      <th>1</th>\n",
       "      <td>90.875910</td>\n",
       "      <td>0.000298</td>\n",
       "    </tr>\n",
       "    <tr>\n",
       "      <th>2</th>\n",
       "      <td>90.651821</td>\n",
       "      <td>0.000297</td>\n",
       "    </tr>\n",
       "    <tr>\n",
       "      <th>3</th>\n",
       "      <td>90.427731</td>\n",
       "      <td>0.000297</td>\n",
       "    </tr>\n",
       "    <tr>\n",
       "      <th>4</th>\n",
       "      <td>90.203641</td>\n",
       "      <td>0.000297</td>\n",
       "    </tr>\n",
       "    <tr>\n",
       "      <th>...</th>\n",
       "      <td>...</td>\n",
       "      <td>...</td>\n",
       "    </tr>\n",
       "    <tr>\n",
       "      <th>9995</th>\n",
       "      <td>NaN</td>\n",
       "      <td>0.000018</td>\n",
       "    </tr>\n",
       "    <tr>\n",
       "      <th>9996</th>\n",
       "      <td>NaN</td>\n",
       "      <td>0.000018</td>\n",
       "    </tr>\n",
       "    <tr>\n",
       "      <th>9997</th>\n",
       "      <td>NaN</td>\n",
       "      <td>0.000018</td>\n",
       "    </tr>\n",
       "    <tr>\n",
       "      <th>9998</th>\n",
       "      <td>NaN</td>\n",
       "      <td>0.000018</td>\n",
       "    </tr>\n",
       "    <tr>\n",
       "      <th>9999</th>\n",
       "      <td>NaN</td>\n",
       "      <td>0.000018</td>\n",
       "    </tr>\n",
       "  </tbody>\n",
       "</table>\n",
       "<p>10000 rows × 2 columns</p>\n",
       "</div>"
      ],
      "text/plain": [
       "            y_t    grad_t\n",
       "0     91.100000  0.000298\n",
       "1     90.875910  0.000298\n",
       "2     90.651821  0.000297\n",
       "3     90.427731  0.000297\n",
       "4     90.203641  0.000297\n",
       "...         ...       ...\n",
       "9995        NaN  0.000018\n",
       "9996        NaN  0.000018\n",
       "9997        NaN  0.000018\n",
       "9998        NaN  0.000018\n",
       "9999        NaN  0.000018\n",
       "\n",
       "[10000 rows x 2 columns]"
      ]
     },
     "execution_count": 9,
     "metadata": {},
     "output_type": "execute_result"
    }
   ],
   "source": [
    "df"
   ]
  },
  {
   "cell_type": "markdown",
   "metadata": {
    "id": "-5esyHu5aFvg"
   },
   "source": [
    "## Plot of the External Forcing from Chaotic Differential Equation"
   ]
  },
  {
   "cell_type": "code",
   "execution_count": 10,
   "metadata": {
    "colab": {
     "base_uri": "https://localhost:8080/",
     "height": 447
    },
    "id": "hGnE43tOh-4p",
    "outputId": "fc396503-b624-4fa5-dfbe-f460207405c6"
   },
   "outputs": [
    {
     "data": {
      "text/plain": [
       "<Axes: >"
      ]
     },
     "execution_count": 10,
     "metadata": {},
     "output_type": "execute_result"
    },
    {
     "data": {
      "image/png": "[encoded data removed]",
      "text/plain": [
       "<Figure size 432x288 with 1 Axes>"
      ]
     },
     "metadata": {
      "needs_background": "light"
     },
     "output_type": "display_data"
    }
   ],
   "source": [
    "df.iloc[:, 0].plot()"
   ]
  },
  {
   "cell_type": "code",
   "execution_count": 11,
   "metadata": {
    "colab": {
     "base_uri": "https://localhost:8080/",
     "height": 447
    },
    "id": "ym4xWUUxaFvg",
    "outputId": "ae6a3495-8ce9-437e-ba81-3ed31deedeae"
   },
   "outputs": [
    {
     "name": "stderr",
     "output_type": "stream",
     "text": [
      "C:\\Users\\Anurag Dutta\\AppData\\Local\\Packages\\PythonSoftwareFoundation.Python.3.9_qbz5n2kfra8p0\\LocalCache\\local-packages\\Python39\\site-packages\\pandas\\core\\arraylike.py:402: RuntimeWarning: divide by zero encountered in log\n",
      "  result = getattr(ufunc, method)(*inputs, **kwargs)\n"
     ]
    },
    {
     "data": {
      "text/plain": [
       "<Axes: >"
      ]
     },
     "execution_count": 11,
     "metadata": {},
     "output_type": "execute_result"
    },
    {
     "data": {
      "image/png": "[encoded data removed]",
      "text/plain": [
       "<Figure size 432x288 with 1 Axes>"
      ]
     },
     "metadata": {
      "needs_background": "light"
     },
     "output_type": "display_data"
    }
   ],
   "source": [
    "import numpy as np\n",
    "c0 = 88.0403  # Value for C0\n",
    "K0 = -0.0012  # Value for K0\n",
    "K1 = -0.0001  # Value for K1\n",
    "a = 0.0000    # Value for a\n",
    "b = 0.0120    # Value for b\n",
    "c = 2.0334    # Value for c\n",
    "\n",
    "L = np.minimum(c0, (df.iloc[:, 1] - (df.iloc[:, 0] * (K0 - K1 * (9 * a * np.log(df.iloc[:, 0] / c0) / (K0 - K1 * c)**2 + 4 * b * np.log(df.iloc[:, 0] / c0) / (K0 - K1 * c) + c)))))\n",
    "L.plot()"
   ]
  },
  {
   "cell_type": "markdown",
   "metadata": {
    "id": "9VyEywnwaFvh"
   },
   "source": [
    "## Preprocessing the data into supervised learning"
   ]
  },
  {
   "cell_type": "code",
   "execution_count": 12,
   "metadata": {
    "id": "6V9dXqzdaFvh"
   },
   "outputs": [],
   "source": [
    "# split a sequence into samples\n",
    "def Supervised(data, n_in=1, n_out=1, dropnan=True):\n",
    "    n_vars = 1 if type(data) is list else data.shape[1]\n",
    "    df = pd.DataFrame(data)\n",
    "    cols, names = list(), list()\n",
    "    # input sequence (t-n_in, ... t-1)\n",
    "    for i in range(n_in, 0, -1):\n",
    "        cols.append(df.shift(i))\n",
    "        names += [('var%d(t-%d)' % (j+1, i)) for j in range(n_vars)]\n",
    "    # forecast sequence (t, t+1, ... t+n_out)\n",
    "    for i in range(0, n_out):\n",
    "      cols.append(df.shift(-i))\n",
    "      if i == 0:\n",
    "        names += [('var%d(t)' % (j+1)) for j in range(n_vars)]\n",
    "      else:\n",
    "        names += [('var%d(t+%d)' % (j+1, i)) for j in range(n_vars)]\n",
    "    # put it all together\n",
    "    agg = pd.concat(cols, axis=1)\n",
    "    agg.columns = names\n",
    "    # drop rows with NaN values\n",
    "    if dropnan:\n",
    "       agg.dropna(inplace=True)\n",
    "    return agg"
   ]
  },
  {
   "cell_type": "code",
   "execution_count": 13,
   "metadata": {
    "colab": {
     "base_uri": "https://localhost:8080/"
    },
    "id": "CrzSrT1HnyfH",
    "outputId": "7e75f928-3e47-499d-eac1-51908015ef78"
   },
   "outputs": [
    {
     "name": "stdout",
     "output_type": "stream",
     "text": [
      "     var1(t-350)  var1(t-349)  var1(t-348)  var1(t-347)  var1(t-346)  \\\n",
      "350    91.100000    90.875910    90.651821    90.427731    90.203641   \n",
      "351    90.875910    90.651821    90.427731    90.203641    89.979552   \n",
      "352    90.651821    90.427731    90.203641    89.979552    89.755462   \n",
      "353    90.427731    90.203641    89.979552    89.755462    89.531373   \n",
      "354    90.203641    89.979552    89.755462    89.531373    89.307283   \n",
      "\n",
      "     var1(t-345)  var1(t-344)  var1(t-343)  var1(t-342)  var1(t-341)  ...  \\\n",
      "350    89.979552    89.755462    89.531373    89.307283    89.094118  ...   \n",
      "351    89.755462    89.531373    89.307283    89.094118    89.015686  ...   \n",
      "352    89.531373    89.307283    89.094118    89.015686    88.937255  ...   \n",
      "353    89.307283    89.094118    89.015686    88.937255    88.858824  ...   \n",
      "354    89.094118    89.015686    88.937255    88.858824    88.780392  ...   \n",
      "\n",
      "     var1(t+95)  var2(t+95)  var1(t+96)  var2(t+96)  var1(t+97)  var2(t+97)  \\\n",
      "350   81.423343    0.000263   81.404669    0.000263   81.385994    0.000263   \n",
      "351   81.404669    0.000263   81.385994    0.000263   81.367320    0.000262   \n",
      "352   81.385994    0.000263   81.367320    0.000262   81.348646    0.000262   \n",
      "353   81.367320    0.000262   81.348646    0.000262   81.329972    0.000262   \n",
      "354   81.348646    0.000262   81.329972    0.000262   81.311298    0.000262   \n",
      "\n",
      "     var1(t+98)  var2(t+98)  var1(t+99)  var2(t+99)  \n",
      "350   81.367320    0.000262   81.348646    0.000262  \n",
      "351   81.348646    0.000262   81.329972    0.000262  \n",
      "352   81.329972    0.000262   81.311298    0.000262  \n",
      "353   81.311298    0.000262   81.292624    0.000262  \n",
      "354   81.292624    0.000262   81.273950    0.000262  \n",
      "\n",
      "[5 rows x 551 columns]\n",
      "Index(['var1(t-350)', 'var1(t-349)', 'var1(t-348)', 'var1(t-347)',\n",
      "       'var1(t-346)', 'var1(t-345)', 'var1(t-344)', 'var1(t-343)',\n",
      "       'var1(t-342)', 'var1(t-341)',\n",
      "       ...\n",
      "       'var1(t+95)', 'var2(t+95)', 'var1(t+96)', 'var2(t+96)', 'var1(t+97)',\n",
      "       'var2(t+97)', 'var1(t+98)', 'var2(t+98)', 'var1(t+99)', 'var2(t+99)'],\n",
      "      dtype='object', length=551)\n"
     ]
    }
   ],
   "source": [
    "data = Supervised(df.values, n_in = 350, n_out = 100)\n",
    "\n",
    "\n",
    "cols_to_drop = []\n",
    "for i in range(2, 351):\n",
    "    cols_to_drop.extend([f'var2(t-{i})'])\n",
    "\n",
    "data.drop(cols_to_drop, axis=1, inplace=True)\n",
    "\n",
    "print(data.head())\n",
    "print(data.columns)"
   ]
  },
  {
   "cell_type": "code",
   "execution_count": 14,
   "metadata": {
    "id": "AfPf60oy6Pe4"
   },
   "outputs": [],
   "source": [
    "train = np.array(data[0:len(data)-1])\n",
    "forecast = np.array(data.tail(1))"
   ]
  },
  {
   "cell_type": "code",
   "execution_count": 15,
   "metadata": {
    "id": "WSAafzI37KiT"
   },
   "outputs": [],
   "source": [
    "trainy = train[:,-300:]\n",
    "trainX = train[:,:-300]"
   ]
  },
  {
   "cell_type": "code",
   "execution_count": 16,
   "metadata": {
    "id": "2SrOqVJA7f50"
   },
   "outputs": [],
   "source": [
    "forecasty = forecast[:,-300:]\n",
    "forecastX = forecast[:,:-300]"
   ]
  },
  {
   "cell_type": "code",
   "execution_count": 17,
   "metadata": {
    "colab": {
     "base_uri": "https://localhost:8080/"
    },
    "id": "Qno_k8Nw7saY",
    "outputId": "c4a88db5-d8c6-489f-cdb2-06b24e293cff"
   },
   "outputs": [
    {
     "name": "stdout",
     "output_type": "stream",
     "text": [
      "(1700, 1, 251) (1700, 300) (1, 1, 251)\n"
     ]
    }
   ],
   "source": [
    "trainX = trainX.reshape((trainX.shape[0], 1, trainX.shape[1]))\n",
    "forecastX = forecastX.reshape((forecastX.shape[0], 1, forecastX.shape[1]))\n",
    "print(trainX.shape, trainy.shape, forecastX.shape)"
   ]
  },
  {
   "cell_type": "code",
   "execution_count": 18,
   "metadata": {
    "colab": {
     "base_uri": "https://localhost:8080/"
    },
    "id": "b1Jp2DvNuNFx",
    "outputId": "d0e5b3c4-64f1-438c-eade-8dfeaac8e285"
   },
   "outputs": [
    {
     "name": "stdout",
     "output_type": "stream",
     "text": [
      "Epoch 1/500\n",
      "22/22 [==============================] - 2s 26ms/step - loss: 5718.4072 - val_loss: 4413.0425\n",
      "Epoch 2/500\n",
      "22/22 [==============================] - 0s 9ms/step - loss: 5616.2227 - val_loss: 4327.5352\n",
      "Epoch 3/500\n",
      "22/22 [==============================] - 0s 4ms/step - loss: 5510.4941 - val_loss: 4253.7319\n",
      "Epoch 4/500\n",
      "22/22 [==============================] - 0s 4ms/step - loss: 5414.6895 - val_loss: 4173.1196\n",
      "Epoch 5/500\n",
      "22/22 [==============================] - 0s 4ms/step - loss: 5314.6841 - val_loss: 4098.0146\n",
      "Epoch 6/500\n",
      "22/22 [==============================] - 0s 4ms/step - loss: 5220.9414 - val_loss: 4024.6272\n",
      "Epoch 7/500\n",
      "22/22 [==============================] - 0s 4ms/step - loss: 5129.1064 - val_loss: 3952.7368\n",
      "Epoch 8/500\n",
      "22/22 [==============================] - 0s 4ms/step - loss: 5038.8906 - val_loss: 3882.1440\n",
      "Epoch 9/500\n",
      "22/22 [==============================] - 0s 4ms/step - loss: 4950.1099 - val_loss: 3812.7397\n",
      "Epoch 10/500\n",
      "22/22 [==============================] - 0s 4ms/step - loss: 4862.6616 - val_loss: 3744.4526\n",
      "Epoch 11/500\n",
      "22/22 [==============================] - 0s 5ms/step - loss: 4775.7109 - val_loss: 3668.3923\n",
      "Epoch 12/500\n",
      "22/22 [==============================] - 0s 5ms/step - loss: 4674.1821 - val_loss: 3598.3052\n",
      "Epoch 13/500\n",
      "22/22 [==============================] - 0s 4ms/step - loss: 4584.3027 - val_loss: 3529.9062\n",
      "Epoch 14/500\n",
      "22/22 [==============================] - 0s 4ms/step - loss: 4496.8535 - val_loss: 3463.2102\n",
      "Epoch 15/500\n",
      "22/22 [==============================] - 0s 4ms/step - loss: 4411.4395 - val_loss: 3397.9331\n",
      "Epoch 16/500\n",
      "22/22 [==============================] - 0s 4ms/step - loss: 4327.7192 - val_loss: 3333.9214\n",
      "Epoch 17/500\n",
      "22/22 [==============================] - 0s 4ms/step - loss: 4245.5034 - val_loss: 3271.0820\n",
      "Epoch 18/500\n",
      "22/22 [==============================] - 0s 4ms/step - loss: 4164.6816 - val_loss: 3209.3577\n",
      "Epoch 19/500\n",
      "22/22 [==============================] - 0s 4ms/step - loss: 4085.1765 - val_loss: 3148.7056\n",
      "Epoch 20/500\n",
      "22/22 [==============================] - 0s 4ms/step - loss: 4006.9360 - val_loss: 3089.0916\n",
      "Epoch 21/500\n",
      "22/22 [==============================] - 0s 4ms/step - loss: 3929.9165 - val_loss: 3030.4900\n",
      "Epoch 22/500\n",
      "22/22 [==============================] - 0s 5ms/step - loss: 3854.0857 - val_loss: 2972.8789\n",
      "Epoch 23/500\n",
      "22/22 [==============================] - 0s 4ms/step - loss: 3779.4148 - val_loss: 2916.2375\n",
      "Epoch 24/500\n",
      "22/22 [==============================] - 0s 4ms/step - loss: 3705.8792 - val_loss: 2860.5508\n",
      "Epoch 25/500\n",
      "22/22 [==============================] - 0s 4ms/step - loss: 3633.4573 - val_loss: 2805.8184\n",
      "Epoch 26/500\n",
      "22/22 [==============================] - 0s 4ms/step - loss: 3553.6978 - val_loss: 2740.1790\n",
      "Epoch 27/500\n",
      "22/22 [==============================] - 0s 4ms/step - loss: 3473.1460 - val_loss: 2681.7461\n",
      "Epoch 28/500\n",
      "22/22 [==============================] - 0s 4ms/step - loss: 3397.6089 - val_loss: 2625.5505\n",
      "Epoch 29/500\n",
      "22/22 [==============================] - 0s 4ms/step - loss: 3324.5283 - val_loss: 2571.0774\n",
      "Epoch 30/500\n",
      "22/22 [==============================] - 0s 4ms/step - loss: 3253.3611 - val_loss: 2518.0269\n",
      "Epoch 31/500\n",
      "22/22 [==============================] - 0s 4ms/step - loss: 3183.8098 - val_loss: 2466.2310\n",
      "Epoch 32/500\n",
      "22/22 [==============================] - 0s 3ms/step - loss: 3115.7051 - val_loss: 2415.5874\n",
      "Epoch 33/500\n",
      "22/22 [==============================] - 0s 6ms/step - loss: 3048.9375 - val_loss: 2366.0276\n",
      "Epoch 34/500\n",
      "22/22 [==============================] - 0s 4ms/step - loss: 2983.4307 - val_loss: 2317.4998\n",
      "Epoch 35/500\n",
      "22/22 [==============================] - 0s 5ms/step - loss: 2919.1282 - val_loss: 2269.9639\n",
      "Epoch 36/500\n",
      "22/22 [==============================] - 0s 4ms/step - loss: 2855.9836 - val_loss: 2223.3884\n",
      "Epoch 37/500\n",
      "22/22 [==============================] - 0s 4ms/step - loss: 2793.9619 - val_loss: 2177.7454\n",
      "Epoch 38/500\n",
      "22/22 [==============================] - 0s 4ms/step - loss: 2733.0308 - val_loss: 2133.0112\n",
      "Epoch 39/500\n",
      "22/22 [==============================] - 0s 3ms/step - loss: 2673.1636 - val_loss: 2089.1655\n",
      "Epoch 40/500\n",
      "22/22 [==============================] - 0s 4ms/step - loss: 2614.3367 - val_loss: 2046.1893\n",
      "Epoch 41/500\n",
      "22/22 [==============================] - 0s 4ms/step - loss: 2556.5283 - val_loss: 2004.0660\n",
      "Epoch 42/500\n",
      "22/22 [==============================] - 0s 4ms/step - loss: 2499.7190 - val_loss: 1962.7798\n",
      "Epoch 43/500\n",
      "22/22 [==============================] - 0s 4ms/step - loss: 2443.8911 - val_loss: 1922.3154\n",
      "Epoch 44/500\n",
      "22/22 [==============================] - 0s 5ms/step - loss: 2389.0273 - val_loss: 1882.6595\n",
      "Epoch 45/500\n",
      "22/22 [==============================] - 0s 4ms/step - loss: 2335.1121 - val_loss: 1843.7991\n",
      "Epoch 46/500\n",
      "22/22 [==============================] - 0s 4ms/step - loss: 2282.1311 - val_loss: 1805.7216\n",
      "Epoch 47/500\n",
      "22/22 [==============================] - 0s 4ms/step - loss: 2230.0696 - val_loss: 1768.4154\n",
      "Epoch 48/500\n",
      "22/22 [==============================] - 0s 4ms/step - loss: 2178.9143 - val_loss: 1731.8682\n",
      "Epoch 49/500\n",
      "22/22 [==============================] - 0s 4ms/step - loss: 2128.6514 - val_loss: 1696.0690\n",
      "Epoch 50/500\n",
      "22/22 [==============================] - 0s 4ms/step - loss: 2079.2695 - val_loss: 1661.0079\n",
      "Epoch 51/500\n",
      "22/22 [==============================] - 0s 4ms/step - loss: 2030.7559 - val_loss: 1626.6732\n",
      "Epoch 52/500\n",
      "22/22 [==============================] - 0s 4ms/step - loss: 1983.0991 - val_loss: 1593.0559\n",
      "Epoch 53/500\n",
      "22/22 [==============================] - 0s 4ms/step - loss: 1936.2871 - val_loss: 1560.1454\n",
      "Epoch 54/500\n",
      "22/22 [==============================] - 0s 4ms/step - loss: 1890.3096 - val_loss: 1527.9324\n",
      "Epoch 55/500\n",
      "22/22 [==============================] - 0s 4ms/step - loss: 1845.1555 - val_loss: 1496.4066\n",
      "Epoch 56/500\n",
      "22/22 [==============================] - 0s 4ms/step - loss: 1800.8135 - val_loss: 1465.5592\n",
      "Epoch 57/500\n",
      "22/22 [==============================] - 0s 4ms/step - loss: 1757.2737 - val_loss: 1435.3806\n",
      "Epoch 58/500\n",
      "22/22 [==============================] - 0s 6ms/step - loss: 1714.5255 - val_loss: 1405.8618\n",
      "Epoch 59/500\n",
      "22/22 [==============================] - 0s 4ms/step - loss: 1672.5593 - val_loss: 1376.9945\n",
      "Epoch 60/500\n",
      "22/22 [==============================] - 0s 4ms/step - loss: 1631.3655 - val_loss: 1348.7690\n",
      "Epoch 61/500\n",
      "22/22 [==============================] - 0s 4ms/step - loss: 1590.9332 - val_loss: 1321.1771\n",
      "Epoch 62/500\n",
      "22/22 [==============================] - 0s 4ms/step - loss: 1551.2540 - val_loss: 1294.2108\n",
      "Epoch 63/500\n",
      "22/22 [==============================] - 0s 4ms/step - loss: 1512.3176 - val_loss: 1267.8599\n",
      "Epoch 64/500\n",
      "22/22 [==============================] - 0s 4ms/step - loss: 1474.1149 - val_loss: 1242.1172\n",
      "Epoch 65/500\n",
      "22/22 [==============================] - 0s 3ms/step - loss: 1436.6366 - val_loss: 1216.9745\n",
      "Epoch 66/500\n",
      "22/22 [==============================] - 0s 4ms/step - loss: 1399.8737 - val_loss: 1192.4237\n",
      "Epoch 67/500\n",
      "22/22 [==============================] - 0s 4ms/step - loss: 1363.8171 - val_loss: 1168.4556\n",
      "Epoch 68/500\n",
      "22/22 [==============================] - 0s 4ms/step - loss: 1328.4578 - val_loss: 1145.0627\n",
      "Epoch 69/500\n",
      "22/22 [==============================] - 0s 4ms/step - loss: 1293.7874 - val_loss: 1122.2379\n",
      "Epoch 70/500\n",
      "22/22 [==============================] - 0s 4ms/step - loss: 1259.7968 - val_loss: 1099.9722\n",
      "Epoch 71/500\n",
      "22/22 [==============================] - 0s 4ms/step - loss: 1226.4773 - val_loss: 1078.2579\n",
      "Epoch 72/500\n",
      "22/22 [==============================] - 0s 4ms/step - loss: 1193.8208 - val_loss: 1057.0881\n",
      "Epoch 73/500\n",
      "22/22 [==============================] - 0s 4ms/step - loss: 1161.8182 - val_loss: 1036.4537\n",
      "Epoch 74/500\n",
      "22/22 [==============================] - 0s 4ms/step - loss: 1130.4615 - val_loss: 1016.3477\n",
      "Epoch 75/500\n",
      "22/22 [==============================] - 0s 4ms/step - loss: 1099.7419 - val_loss: 996.7626\n",
      "Epoch 76/500\n",
      "22/22 [==============================] - 0s 4ms/step - loss: 1069.6520 - val_loss: 977.6910\n",
      "Epoch 77/500\n",
      "22/22 [==============================] - 0s 4ms/step - loss: 1040.1826 - val_loss: 959.1246\n",
      "Epoch 78/500\n",
      "22/22 [==============================] - 0s 4ms/step - loss: 1011.3260 - val_loss: 941.0567\n",
      "Epoch 79/500\n",
      "22/22 [==============================] - 0s 4ms/step - loss: 983.0741 - val_loss: 923.4800\n",
      "Epoch 80/500\n",
      "22/22 [==============================] - 0s 4ms/step - loss: 955.4188 - val_loss: 906.3862\n",
      "Epoch 81/500\n",
      "22/22 [==============================] - 0s 4ms/step - loss: 928.3523 - val_loss: 889.7692\n",
      "Epoch 82/500\n",
      "22/22 [==============================] - 0s 4ms/step - loss: 901.8663 - val_loss: 873.6205\n",
      "Epoch 83/500\n",
      "22/22 [==============================] - 0s 6ms/step - loss: 875.9529 - val_loss: 857.9337\n",
      "Epoch 84/500\n",
      "22/22 [==============================] - 0s 4ms/step - loss: 850.6047 - val_loss: 842.7006\n",
      "Epoch 85/500\n",
      "22/22 [==============================] - 0s 4ms/step - loss: 825.8134 - val_loss: 827.9151\n",
      "Epoch 86/500\n",
      "22/22 [==============================] - 0s 4ms/step - loss: 801.5718 - val_loss: 813.5698\n",
      "Epoch 87/500\n",
      "22/22 [==============================] - 0s 4ms/step - loss: 777.8717 - val_loss: 799.6575\n",
      "Epoch 88/500\n",
      "22/22 [==============================] - 0s 4ms/step - loss: 754.7059 - val_loss: 786.1710\n",
      "Epoch 89/500\n",
      "22/22 [==============================] - 0s 4ms/step - loss: 732.0665 - val_loss: 773.1037\n",
      "Epoch 90/500\n",
      "22/22 [==============================] - 0s 4ms/step - loss: 709.9463 - val_loss: 760.4482\n",
      "Epoch 91/500\n",
      "22/22 [==============================] - 0s 5ms/step - loss: 688.3373 - val_loss: 748.1976\n",
      "Epoch 92/500\n",
      "22/22 [==============================] - 0s 4ms/step - loss: 667.2321 - val_loss: 736.3448\n",
      "Epoch 93/500\n",
      "22/22 [==============================] - 0s 4ms/step - loss: 646.6234 - val_loss: 724.8835\n",
      "Epoch 94/500\n",
      "22/22 [==============================] - 0s 4ms/step - loss: 626.5044 - val_loss: 713.8069\n",
      "Epoch 95/500\n",
      "22/22 [==============================] - 0s 4ms/step - loss: 606.8669 - val_loss: 703.1074\n",
      "Epoch 96/500\n",
      "22/22 [==============================] - 0s 4ms/step - loss: 587.7038 - val_loss: 692.7789\n",
      "Epoch 97/500\n",
      "22/22 [==============================] - 0s 4ms/step - loss: 569.0078 - val_loss: 682.8143\n",
      "Epoch 98/500\n",
      "22/22 [==============================] - 0s 4ms/step - loss: 550.7720 - val_loss: 673.2068\n",
      "Epoch 99/500\n",
      "22/22 [==============================] - 0s 4ms/step - loss: 532.9893 - val_loss: 663.9506\n",
      "Epoch 100/500\n",
      "22/22 [==============================] - 0s 4ms/step - loss: 515.6520 - val_loss: 655.0380\n",
      "Epoch 101/500\n",
      "22/22 [==============================] - 0s 4ms/step - loss: 498.7532 - val_loss: 646.4628\n",
      "Epoch 102/500\n",
      "22/22 [==============================] - 0s 4ms/step - loss: 482.2858 - val_loss: 638.2184\n",
      "Epoch 103/500\n",
      "22/22 [==============================] - 0s 4ms/step - loss: 466.2429 - val_loss: 630.2984\n",
      "Epoch 104/500\n",
      "22/22 [==============================] - 0s 4ms/step - loss: 450.6174 - val_loss: 622.6960\n",
      "Epoch 105/500\n",
      "22/22 [==============================] - 0s 4ms/step - loss: 435.4024 - val_loss: 615.4052\n",
      "Epoch 106/500\n",
      "22/22 [==============================] - 0s 7ms/step - loss: 420.5911 - val_loss: 608.4191\n",
      "Epoch 107/500\n",
      "22/22 [==============================] - 0s 4ms/step - loss: 406.1766 - val_loss: 601.7313\n",
      "Epoch 108/500\n",
      "22/22 [==============================] - 0s 4ms/step - loss: 392.1516 - val_loss: 595.3356\n",
      "Epoch 109/500\n",
      "22/22 [==============================] - 0s 4ms/step - loss: 378.5095 - val_loss: 589.2255\n",
      "Epoch 110/500\n",
      "22/22 [==============================] - 0s 5ms/step - loss: 365.2438 - val_loss: 583.3952\n",
      "Epoch 111/500\n",
      "22/22 [==============================] - 0s 4ms/step - loss: 352.3475 - val_loss: 577.8380\n",
      "Epoch 112/500\n",
      "22/22 [==============================] - 0s 4ms/step - loss: 339.8141 - val_loss: 572.5475\n",
      "Epoch 113/500\n",
      "22/22 [==============================] - 0s 4ms/step - loss: 327.6368 - val_loss: 567.5179\n",
      "Epoch 114/500\n",
      "22/22 [==============================] - 0s 5ms/step - loss: 315.8091 - val_loss: 562.7430\n",
      "Epoch 115/500\n",
      "22/22 [==============================] - 0s 4ms/step - loss: 304.3244 - val_loss: 558.2164\n",
      "Epoch 116/500\n",
      "22/22 [==============================] - 0s 5ms/step - loss: 293.1760 - val_loss: 553.9324\n",
      "Epoch 117/500\n",
      "22/22 [==============================] - 0s 4ms/step - loss: 282.3575 - val_loss: 549.8846\n",
      "Epoch 118/500\n",
      "22/22 [==============================] - 0s 5ms/step - loss: 271.8625 - val_loss: 546.0672\n",
      "Epoch 119/500\n",
      "22/22 [==============================] - 0s 4ms/step - loss: 261.6844 - val_loss: 542.4741\n",
      "Epoch 120/500\n",
      "22/22 [==============================] - 0s 5ms/step - loss: 251.8170 - val_loss: 539.0997\n",
      "Epoch 121/500\n",
      "22/22 [==============================] - 0s 4ms/step - loss: 242.2541 - val_loss: 535.9379\n",
      "Epoch 122/500\n",
      "22/22 [==============================] - 0s 4ms/step - loss: 232.9892 - val_loss: 532.9830\n",
      "Epoch 123/500\n",
      "22/22 [==============================] - 0s 4ms/step - loss: 224.0163 - val_loss: 530.2292\n",
      "Epoch 124/500\n",
      "22/22 [==============================] - 0s 4ms/step - loss: 215.3292 - val_loss: 527.6707\n",
      "Epoch 125/500\n",
      "22/22 [==============================] - 0s 4ms/step - loss: 206.9214 - val_loss: 525.3019\n",
      "Epoch 126/500\n",
      "22/22 [==============================] - 0s 5ms/step - loss: 198.7872 - val_loss: 523.1171\n",
      "Epoch 127/500\n",
      "22/22 [==============================] - 0s 5ms/step - loss: 190.9203 - val_loss: 521.1109\n",
      "Epoch 128/500\n",
      "22/22 [==============================] - 0s 5ms/step - loss: 183.3149 - val_loss: 519.2776\n",
      "Epoch 129/500\n",
      "22/22 [==============================] - 0s 5ms/step - loss: 175.9650 - val_loss: 517.6118\n",
      "Epoch 130/500\n",
      "22/22 [==============================] - 0s 5ms/step - loss: 168.8648 - val_loss: 516.1080\n",
      "Epoch 131/500\n",
      "22/22 [==============================] - 0s 5ms/step - loss: 162.0081 - val_loss: 514.7610\n",
      "Epoch 132/500\n",
      "22/22 [==============================] - 0s 8ms/step - loss: 155.3895 - val_loss: 513.5652\n",
      "Epoch 133/500\n",
      "22/22 [==============================] - 0s 4ms/step - loss: 149.0032 - val_loss: 512.5159\n",
      "Epoch 134/500\n",
      "22/22 [==============================] - 0s 4ms/step - loss: 142.8434 - val_loss: 511.6073\n",
      "Epoch 135/500\n",
      "22/22 [==============================] - 0s 7ms/step - loss: 136.9047 - val_loss: 510.8347\n",
      "Epoch 136/500\n",
      "22/22 [==============================] - 0s 4ms/step - loss: 131.1815 - val_loss: 510.1930\n",
      "Epoch 137/500\n",
      "22/22 [==============================] - 0s 5ms/step - loss: 125.6683 - val_loss: 509.6770\n",
      "Epoch 138/500\n",
      "22/22 [==============================] - 0s 4ms/step - loss: 120.3595 - val_loss: 509.2820\n",
      "Epoch 139/500\n",
      "22/22 [==============================] - 0s 4ms/step - loss: 115.2499 - val_loss: 509.0028\n",
      "Epoch 140/500\n",
      "22/22 [==============================] - 0s 4ms/step - loss: 110.3340 - val_loss: 508.8350\n",
      "Epoch 141/500\n",
      "22/22 [==============================] - 0s 5ms/step - loss: 105.6066 - val_loss: 508.7736\n",
      "Epoch 142/500\n",
      "22/22 [==============================] - 0s 4ms/step - loss: 101.0627 - val_loss: 508.8141\n",
      "Epoch 143/500\n",
      "22/22 [==============================] - 0s 4ms/step - loss: 96.6972 - val_loss: 508.9518\n",
      "Epoch 144/500\n",
      "22/22 [==============================] - 0s 4ms/step - loss: 92.5049 - val_loss: 509.1823\n",
      "Epoch 145/500\n",
      "22/22 [==============================] - 0s 4ms/step - loss: 88.4807 - val_loss: 509.5010\n",
      "Epoch 146/500\n",
      "22/22 [==============================] - 0s 4ms/step - loss: 84.6199 - val_loss: 509.9037\n",
      "Epoch 147/500\n",
      "22/22 [==============================] - 0s 4ms/step - loss: 80.9176 - val_loss: 510.3860\n",
      "Epoch 148/500\n",
      "22/22 [==============================] - 0s 4ms/step - loss: 77.3692 - val_loss: 510.9439\n",
      "Epoch 149/500\n",
      "22/22 [==============================] - 0s 4ms/step - loss: 73.9696 - val_loss: 511.5731\n",
      "Epoch 150/500\n",
      "22/22 [==============================] - 0s 5ms/step - loss: 70.7144 - val_loss: 512.2696\n",
      "Epoch 151/500\n",
      "22/22 [==============================] - 0s 8ms/step - loss: 67.5994 - val_loss: 513.0294\n",
      "Epoch 152/500\n",
      "22/22 [==============================] - 0s 5ms/step - loss: 64.6196 - val_loss: 513.8487\n",
      "Epoch 153/500\n",
      "22/22 [==============================] - 0s 4ms/step - loss: 61.7708 - val_loss: 514.7237\n",
      "Epoch 154/500\n",
      "22/22 [==============================] - 0s 5ms/step - loss: 59.0488 - val_loss: 515.6506\n",
      "Epoch 155/500\n",
      "22/22 [==============================] - 0s 5ms/step - loss: 56.4491 - val_loss: 516.6259\n",
      "Epoch 156/500\n",
      "22/22 [==============================] - 0s 4ms/step - loss: 53.9676 - val_loss: 517.6459\n",
      "Epoch 157/500\n",
      "22/22 [==============================] - 0s 4ms/step - loss: 51.6006 - val_loss: 518.7073\n",
      "Epoch 158/500\n",
      "22/22 [==============================] - 0s 5ms/step - loss: 49.3437 - val_loss: 519.8068\n",
      "Epoch 159/500\n",
      "22/22 [==============================] - 0s 5ms/step - loss: 47.1928 - val_loss: 520.9409\n",
      "Epoch 160/500\n",
      "22/22 [==============================] - 0s 5ms/step - loss: 45.1446 - val_loss: 522.1067\n",
      "Epoch 161/500\n",
      "22/22 [==============================] - 0s 6ms/step - loss: 43.1951 - val_loss: 523.3008\n",
      "Epoch 162/500\n",
      "22/22 [==============================] - 0s 5ms/step - loss: 41.3406 - val_loss: 524.5206\n",
      "Epoch 163/500\n",
      "22/22 [==============================] - 0s 5ms/step - loss: 39.5773 - val_loss: 525.7629\n",
      "Epoch 164/500\n",
      "22/22 [==============================] - 0s 4ms/step - loss: 37.9021 - val_loss: 527.0250\n",
      "Epoch 165/500\n",
      "22/22 [==============================] - 0s 4ms/step - loss: 36.3114 - val_loss: 528.3041\n",
      "Epoch 166/500\n",
      "22/22 [==============================] - 0s 4ms/step - loss: 34.8018 - val_loss: 529.5977\n",
      "Epoch 167/500\n",
      "22/22 [==============================] - 0s 4ms/step - loss: 33.3700 - val_loss: 530.9031\n",
      "Epoch 168/500\n",
      "22/22 [==============================] - 0s 4ms/step - loss: 32.0130 - val_loss: 532.2181\n",
      "Epoch 169/500\n",
      "22/22 [==============================] - 0s 8ms/step - loss: 30.7274 - val_loss: 533.5403\n",
      "Epoch 170/500\n",
      "22/22 [==============================] - 0s 4ms/step - loss: 29.5105 - val_loss: 534.8671\n",
      "Epoch 171/500\n",
      "22/22 [==============================] - 0s 4ms/step - loss: 28.3594 - val_loss: 536.1966\n",
      "Epoch 172/500\n",
      "22/22 [==============================] - 0s 5ms/step - loss: 27.2710 - val_loss: 537.5268\n",
      "Epoch 173/500\n",
      "22/22 [==============================] - 0s 4ms/step - loss: 26.2426 - val_loss: 538.8556\n",
      "Epoch 174/500\n",
      "22/22 [==============================] - 0s 5ms/step - loss: 25.2717 - val_loss: 540.1813\n",
      "Epoch 175/500\n",
      "22/22 [==============================] - 0s 5ms/step - loss: 24.3554 - val_loss: 541.5018\n",
      "Epoch 176/500\n",
      "22/22 [==============================] - 0s 5ms/step - loss: 23.4914 - val_loss: 542.8156\n",
      "Epoch 177/500\n",
      "22/22 [==============================] - 0s 5ms/step - loss: 22.6773 - val_loss: 544.1208\n",
      "Epoch 178/500\n",
      "22/22 [==============================] - 0s 4ms/step - loss: 21.9106 - val_loss: 545.4162\n",
      "Epoch 179/500\n",
      "22/22 [==============================] - 0s 4ms/step - loss: 21.1891 - val_loss: 546.7005\n",
      "Epoch 180/500\n",
      "22/22 [==============================] - 0s 4ms/step - loss: 20.5106 - val_loss: 547.9717\n",
      "Epoch 181/500\n",
      "22/22 [==============================] - 0s 5ms/step - loss: 19.8729 - val_loss: 549.2289\n",
      "Epoch 182/500\n",
      "22/22 [==============================] - 0s 5ms/step - loss: 19.2740 - val_loss: 550.4711\n",
      "Epoch 183/500\n",
      "22/22 [==============================] - 0s 4ms/step - loss: 18.7119 - val_loss: 551.6966\n",
      "Epoch 184/500\n",
      "22/22 [==============================] - 0s 4ms/step - loss: 18.1848 - val_loss: 552.9050\n",
      "Epoch 185/500\n",
      "22/22 [==============================] - 0s 5ms/step - loss: 17.6908 - val_loss: 554.0949\n",
      "Epoch 186/500\n",
      "22/22 [==============================] - 0s 4ms/step - loss: 17.2281 - val_loss: 555.2656\n",
      "Epoch 187/500\n",
      "22/22 [==============================] - 0s 4ms/step - loss: 16.7950 - val_loss: 556.4166\n",
      "Epoch 188/500\n",
      "22/22 [==============================] - 0s 5ms/step - loss: 16.3900 - val_loss: 557.5464\n",
      "Epoch 189/500\n",
      "22/22 [==============================] - 0s 6ms/step - loss: 16.0114 - val_loss: 558.6549\n",
      "Epoch 190/500\n",
      "22/22 [==============================] - 0s 4ms/step - loss: 15.6579 - val_loss: 559.7413\n",
      "Epoch 191/500\n",
      "22/22 [==============================] - 0s 5ms/step - loss: 15.3279 - val_loss: 560.8052\n",
      "Epoch 192/500\n",
      "22/22 [==============================] - 0s 4ms/step - loss: 15.0202 - val_loss: 561.8461\n",
      "Epoch 193/500\n",
      "22/22 [==============================] - 0s 4ms/step - loss: 14.7333 - val_loss: 562.8636\n",
      "Epoch 194/500\n",
      "22/22 [==============================] - 0s 4ms/step - loss: 14.4661 - val_loss: 563.8572\n",
      "Epoch 195/500\n",
      "22/22 [==============================] - 0s 4ms/step - loss: 14.2174 - val_loss: 564.8271\n",
      "Epoch 196/500\n",
      "22/22 [==============================] - 0s 4ms/step - loss: 13.9861 - val_loss: 565.7723\n",
      "Epoch 197/500\n",
      "22/22 [==============================] - 0s 4ms/step - loss: 13.7712 - val_loss: 566.6936\n",
      "Epoch 198/500\n",
      "22/22 [==============================] - 0s 4ms/step - loss: 13.5714 - val_loss: 567.5900\n",
      "Epoch 199/500\n",
      "22/22 [==============================] - 0s 4ms/step - loss: 13.3861 - val_loss: 568.4619\n",
      "Epoch 200/500\n",
      "22/22 [==============================] - 0s 5ms/step - loss: 13.2141 - val_loss: 569.3089\n",
      "Epoch 201/500\n",
      "22/22 [==============================] - 0s 4ms/step - loss: 13.0547 - val_loss: 570.1317\n",
      "Epoch 202/500\n",
      "22/22 [==============================] - 0s 5ms/step - loss: 12.9070 - val_loss: 570.9297\n",
      "Epoch 203/500\n",
      "22/22 [==============================] - 0s 4ms/step - loss: 12.7702 - val_loss: 571.7029\n",
      "Epoch 204/500\n",
      "22/22 [==============================] - 0s 4ms/step - loss: 12.6438 - val_loss: 572.4522\n",
      "Epoch 205/500\n",
      "22/22 [==============================] - 0s 4ms/step - loss: 12.5268 - val_loss: 573.1775\n",
      "Epoch 206/500\n",
      "22/22 [==============================] - 0s 4ms/step - loss: 12.4186 - val_loss: 573.8788\n",
      "Epoch 207/500\n",
      "22/22 [==============================] - 0s 4ms/step - loss: 12.3188 - val_loss: 574.5570\n",
      "Epoch 208/500\n",
      "22/22 [==============================] - 0s 6ms/step - loss: 12.2265 - val_loss: 575.2113\n",
      "Epoch 209/500\n",
      "22/22 [==============================] - 0s 5ms/step - loss: 12.1415 - val_loss: 575.8427\n",
      "Epoch 210/500\n",
      "22/22 [==============================] - 0s 5ms/step - loss: 12.0631 - val_loss: 576.4510\n",
      "Epoch 211/500\n",
      "22/22 [==============================] - 0s 5ms/step - loss: 11.9909 - val_loss: 577.0370\n",
      "Epoch 212/500\n",
      "22/22 [==============================] - 0s 4ms/step - loss: 11.9243 - val_loss: 577.6014\n",
      "Epoch 213/500\n",
      "22/22 [==============================] - 0s 5ms/step - loss: 11.8630 - val_loss: 578.1440\n",
      "Epoch 214/500\n",
      "22/22 [==============================] - 0s 6ms/step - loss: 11.8066 - val_loss: 578.6656\n",
      "Epoch 215/500\n",
      "22/22 [==============================] - 0s 5ms/step - loss: 11.7548 - val_loss: 579.1667\n",
      "Epoch 216/500\n",
      "22/22 [==============================] - 0s 6ms/step - loss: 11.7071 - val_loss: 579.6475\n",
      "Epoch 217/500\n",
      "22/22 [==============================] - 0s 5ms/step - loss: 11.6633 - val_loss: 580.1085\n",
      "Epoch 218/500\n",
      "22/22 [==============================] - 0s 4ms/step - loss: 11.6230 - val_loss: 580.5499\n",
      "Epoch 219/500\n",
      "22/22 [==============================] - 0s 5ms/step - loss: 11.5861 - val_loss: 580.9728\n",
      "Epoch 220/500\n",
      "22/22 [==============================] - 0s 5ms/step - loss: 11.5521 - val_loss: 581.3773\n",
      "Epoch 221/500\n",
      "22/22 [==============================] - 0s 6ms/step - loss: 11.5210 - val_loss: 581.7640\n",
      "Epoch 222/500\n",
      "22/22 [==============================] - 0s 5ms/step - loss: 11.4924 - val_loss: 582.1331\n",
      "Epoch 223/500\n",
      "22/22 [==============================] - 0s 6ms/step - loss: 11.4662 - val_loss: 582.4858\n",
      "Epoch 224/500\n",
      "22/22 [==============================] - 0s 5ms/step - loss: 11.4422 - val_loss: 582.8217\n",
      "Epoch 225/500\n",
      "22/22 [==============================] - 0s 5ms/step - loss: 11.4202 - val_loss: 583.1420\n",
      "Epoch 226/500\n",
      "22/22 [==============================] - 0s 8ms/step - loss: 11.4000 - val_loss: 583.4468\n",
      "Epoch 227/500\n",
      "22/22 [==============================] - 0s 6ms/step - loss: 11.3816 - val_loss: 583.7371\n",
      "Epoch 228/500\n",
      "22/22 [==============================] - 0s 6ms/step - loss: 11.3646 - val_loss: 584.0129\n",
      "Epoch 229/500\n",
      "22/22 [==============================] - 0s 5ms/step - loss: 11.3491 - val_loss: 584.2748\n",
      "Epoch 230/500\n",
      "22/22 [==============================] - 0s 5ms/step - loss: 11.3350 - val_loss: 584.5237\n",
      "Epoch 231/500\n",
      "22/22 [==============================] - 0s 5ms/step - loss: 11.3220 - val_loss: 584.7596\n",
      "Epoch 232/500\n",
      "22/22 [==============================] - 0s 4ms/step - loss: 11.3101 - val_loss: 584.9833\n",
      "Epoch 233/500\n",
      "22/22 [==============================] - 0s 5ms/step - loss: 11.2992 - val_loss: 585.1949\n",
      "Epoch 234/500\n",
      "22/22 [==============================] - 0s 5ms/step - loss: 11.2893 - val_loss: 585.3954\n",
      "Epoch 235/500\n",
      "22/22 [==============================] - 0s 5ms/step - loss: 11.2802 - val_loss: 585.5847\n",
      "Epoch 236/500\n",
      "22/22 [==============================] - 0s 4ms/step - loss: 11.2719 - val_loss: 585.7638\n",
      "Epoch 237/500\n",
      "22/22 [==============================] - 0s 5ms/step - loss: 11.2643 - val_loss: 585.9325\n",
      "Epoch 238/500\n",
      "22/22 [==============================] - 0s 5ms/step - loss: 11.2574 - val_loss: 586.0916\n",
      "Epoch 239/500\n",
      "22/22 [==============================] - 0s 4ms/step - loss: 11.2511 - val_loss: 586.2413\n",
      "Epoch 240/500\n",
      "22/22 [==============================] - 0s 5ms/step - loss: 11.2453 - val_loss: 586.3826\n",
      "Epoch 241/500\n",
      "22/22 [==============================] - 0s 4ms/step - loss: 11.2400 - val_loss: 586.5154\n",
      "Epoch 242/500\n",
      "22/22 [==============================] - 0s 8ms/step - loss: 11.2352 - val_loss: 586.6402\n",
      "Epoch 243/500\n",
      "22/22 [==============================] - 0s 5ms/step - loss: 11.2309 - val_loss: 586.7573\n",
      "Epoch 244/500\n",
      "22/22 [==============================] - 0s 5ms/step - loss: 11.2269 - val_loss: 586.8672\n",
      "Epoch 245/500\n",
      "22/22 [==============================] - 0s 5ms/step - loss: 11.2233 - val_loss: 586.9702\n",
      "Epoch 246/500\n",
      "22/22 [==============================] - 0s 6ms/step - loss: 11.2201 - val_loss: 587.0671\n",
      "Epoch 247/500\n",
      "22/22 [==============================] - 0s 5ms/step - loss: 11.2170 - val_loss: 587.1572\n",
      "Epoch 248/500\n",
      "22/22 [==============================] - 0s 5ms/step - loss: 11.2144 - val_loss: 587.2419\n",
      "Epoch 249/500\n",
      "22/22 [==============================] - 0s 6ms/step - loss: 11.2120 - val_loss: 587.3206\n",
      "Epoch 250/500\n",
      "22/22 [==============================] - 0s 6ms/step - loss: 11.2097 - val_loss: 587.3940\n",
      "Epoch 251/500\n",
      "22/22 [==============================] - 0s 5ms/step - loss: 11.2078 - val_loss: 587.4624\n",
      "Epoch 252/500\n",
      "22/22 [==============================] - 0s 5ms/step - loss: 11.2060 - val_loss: 587.5261\n",
      "Epoch 253/500\n",
      "22/22 [==============================] - 0s 6ms/step - loss: 11.2045 - val_loss: 587.5857\n",
      "Epoch 254/500\n",
      "22/22 [==============================] - 0s 5ms/step - loss: 11.2031 - val_loss: 587.6409\n",
      "Epoch 255/500\n",
      "22/22 [==============================] - 0s 6ms/step - loss: 11.2018 - val_loss: 587.6920\n",
      "Epoch 256/500\n",
      "22/22 [==============================] - 0s 5ms/step - loss: 11.2007 - val_loss: 587.7393\n",
      "Epoch 257/500\n",
      "22/22 [==============================] - 0s 9ms/step - loss: 11.1998 - val_loss: 587.7832\n",
      "Epoch 258/500\n",
      "22/22 [==============================] - 0s 6ms/step - loss: 11.1990 - val_loss: 587.8238\n",
      "Epoch 259/500\n",
      "22/22 [==============================] - 0s 6ms/step - loss: 11.1983 - val_loss: 587.8615\n",
      "Epoch 260/500\n",
      "22/22 [==============================] - 0s 6ms/step - loss: 11.1977 - val_loss: 587.8962\n",
      "Epoch 261/500\n",
      "22/22 [==============================] - 0s 5ms/step - loss: 11.1972 - val_loss: 587.9283\n",
      "Epoch 262/500\n",
      "22/22 [==============================] - 0s 6ms/step - loss: 11.1968 - val_loss: 587.9575\n",
      "Epoch 263/500\n",
      "22/22 [==============================] - 0s 6ms/step - loss: 11.1965 - val_loss: 587.9847\n",
      "Epoch 264/500\n",
      "22/22 [==============================] - 0s 5ms/step - loss: 11.1962 - val_loss: 588.0096\n",
      "Epoch 265/500\n",
      "22/22 [==============================] - 0s 5ms/step - loss: 11.1961 - val_loss: 588.0320\n",
      "Epoch 266/500\n",
      "22/22 [==============================] - 0s 6ms/step - loss: 11.1960 - val_loss: 588.0529\n",
      "Epoch 267/500\n",
      "22/22 [==============================] - 0s 5ms/step - loss: 11.1960 - val_loss: 588.0717\n",
      "Epoch 268/500\n",
      "22/22 [==============================] - 0s 6ms/step - loss: 11.1960 - val_loss: 588.0890\n",
      "Epoch 269/500\n",
      "22/22 [==============================] - 0s 5ms/step - loss: 11.1961 - val_loss: 588.1046\n",
      "Epoch 270/500\n",
      "22/22 [==============================] - 0s 5ms/step - loss: 11.1963 - val_loss: 588.1189\n",
      "Epoch 271/500\n",
      "22/22 [==============================] - 0s 9ms/step - loss: 11.1964 - val_loss: 588.1317\n",
      "Epoch 272/500\n",
      "22/22 [==============================] - 0s 6ms/step - loss: 11.1967 - val_loss: 588.1432\n",
      "Epoch 273/500\n",
      "22/22 [==============================] - 0s 6ms/step - loss: 11.1969 - val_loss: 588.1537\n",
      "Epoch 274/500\n",
      "22/22 [==============================] - 0s 5ms/step - loss: 11.1973 - val_loss: 588.1634\n",
      "Epoch 275/500\n",
      "22/22 [==============================] - 0s 5ms/step - loss: 11.1977 - val_loss: 588.1721\n",
      "Epoch 276/500\n",
      "22/22 [==============================] - 0s 6ms/step - loss: 11.1980 - val_loss: 588.1796\n",
      "Epoch 277/500\n",
      "22/22 [==============================] - 0s 7ms/step - loss: 11.1984 - val_loss: 588.1861\n",
      "Epoch 278/500\n",
      "22/22 [==============================] - 0s 7ms/step - loss: 11.1988 - val_loss: 588.1920\n",
      "Epoch 279/500\n",
      "22/22 [==============================] - 0s 9ms/step - loss: 11.1993 - val_loss: 588.1971\n",
      "Epoch 280/500\n",
      "22/22 [==============================] - 0s 6ms/step - loss: 11.1998 - val_loss: 588.2019\n",
      "Epoch 281/500\n",
      "22/22 [==============================] - 0s 6ms/step - loss: 11.2003 - val_loss: 588.2061\n",
      "Epoch 282/500\n",
      "22/22 [==============================] - 0s 5ms/step - loss: 11.2008 - val_loss: 588.2097\n",
      "Epoch 283/500\n",
      "22/22 [==============================] - 0s 5ms/step - loss: 11.2013 - val_loss: 588.2122\n",
      "Epoch 284/500\n",
      "22/22 [==============================] - 0s 5ms/step - loss: 11.2019 - val_loss: 588.2147\n",
      "Epoch 285/500\n",
      "22/22 [==============================] - 0s 5ms/step - loss: 11.2025 - val_loss: 588.2166\n",
      "Epoch 286/500\n",
      "22/22 [==============================] - 0s 5ms/step - loss: 11.2031 - val_loss: 588.2180\n",
      "Epoch 287/500\n",
      "22/22 [==============================] - 0s 4ms/step - loss: 11.2037 - val_loss: 588.2191\n",
      "Epoch 288/500\n",
      "22/22 [==============================] - 0s 5ms/step - loss: 11.2043 - val_loss: 588.2202\n",
      "Epoch 289/500\n",
      "22/22 [==============================] - 0s 5ms/step - loss: 11.2049 - val_loss: 588.2205\n",
      "Epoch 290/500\n",
      "22/22 [==============================] - 0s 5ms/step - loss: 11.2056 - val_loss: 588.2209\n",
      "Epoch 291/500\n",
      "22/22 [==============================] - 0s 4ms/step - loss: 11.2062 - val_loss: 588.2211\n",
      "Epoch 292/500\n",
      "22/22 [==============================] - 0s 5ms/step - loss: 11.2069 - val_loss: 588.2209\n",
      "Epoch 293/500\n",
      "22/22 [==============================] - 0s 5ms/step - loss: 11.2075 - val_loss: 588.2204\n",
      "Epoch 294/500\n",
      "22/22 [==============================] - 0s 5ms/step - loss: 11.2082 - val_loss: 588.2202\n",
      "Epoch 295/500\n",
      "22/22 [==============================] - 0s 6ms/step - loss: 11.2089 - val_loss: 588.2194\n",
      "Epoch 296/500\n",
      "22/22 [==============================] - 0s 8ms/step - loss: 11.2096 - val_loss: 588.2186\n",
      "Epoch 297/500\n",
      "22/22 [==============================] - 0s 5ms/step - loss: 11.2103 - val_loss: 588.2175\n",
      "Epoch 298/500\n",
      "22/22 [==============================] - 0s 5ms/step - loss: 11.2110 - val_loss: 588.2166\n",
      "Epoch 299/500\n",
      "22/22 [==============================] - 0s 5ms/step - loss: 11.2116 - val_loss: 588.2151\n",
      "Epoch 300/500\n",
      "22/22 [==============================] - 0s 5ms/step - loss: 11.2124 - val_loss: 588.2141\n",
      "Epoch 301/500\n",
      "22/22 [==============================] - 0s 5ms/step - loss: 11.2130 - val_loss: 588.2126\n",
      "Epoch 302/500\n",
      "22/22 [==============================] - 0s 4ms/step - loss: 11.2137 - val_loss: 588.2108\n",
      "Epoch 303/500\n",
      "22/22 [==============================] - 0s 5ms/step - loss: 11.2144 - val_loss: 588.2095\n",
      "Epoch 304/500\n",
      "22/22 [==============================] - 0s 5ms/step - loss: 11.2152 - val_loss: 588.2075\n",
      "Epoch 305/500\n",
      "22/22 [==============================] - 0s 5ms/step - loss: 11.2159 - val_loss: 588.2060\n",
      "Epoch 306/500\n",
      "22/22 [==============================] - 0s 5ms/step - loss: 11.2166 - val_loss: 588.2043\n",
      "Epoch 307/500\n",
      "22/22 [==============================] - 0s 5ms/step - loss: 11.2173 - val_loss: 588.2025\n",
      "Epoch 308/500\n",
      "22/22 [==============================] - 0s 5ms/step - loss: 11.2180 - val_loss: 588.2005\n",
      "Epoch 309/500\n",
      "22/22 [==============================] - 0s 5ms/step - loss: 11.2187 - val_loss: 588.1987\n",
      "Epoch 310/500\n",
      "22/22 [==============================] - 0s 5ms/step - loss: 11.2194 - val_loss: 588.1968\n",
      "Epoch 311/500\n",
      "22/22 [==============================] - 0s 10ms/step - loss: 11.2202 - val_loss: 588.1950\n",
      "Epoch 312/500\n",
      "22/22 [==============================] - 0s 5ms/step - loss: 11.2208 - val_loss: 588.1930\n",
      "Epoch 313/500\n",
      "22/22 [==============================] - 0s 5ms/step - loss: 11.2215 - val_loss: 588.1910\n",
      "Epoch 314/500\n",
      "22/22 [==============================] - 0s 5ms/step - loss: 11.2223 - val_loss: 588.1891\n",
      "Epoch 315/500\n",
      "22/22 [==============================] - 0s 4ms/step - loss: 11.2230 - val_loss: 588.1870\n",
      "Epoch 316/500\n",
      "22/22 [==============================] - 0s 5ms/step - loss: 11.2237 - val_loss: 588.1851\n",
      "Epoch 317/500\n",
      "22/22 [==============================] - 0s 5ms/step - loss: 11.2244 - val_loss: 588.1833\n",
      "Epoch 318/500\n",
      "22/22 [==============================] - 0s 5ms/step - loss: 11.2251 - val_loss: 588.1812\n",
      "Epoch 319/500\n",
      "22/22 [==============================] - 0s 5ms/step - loss: 11.2258 - val_loss: 588.1795\n",
      "Epoch 320/500\n",
      "22/22 [==============================] - 0s 5ms/step - loss: 11.2265 - val_loss: 588.1777\n",
      "Epoch 321/500\n",
      "22/22 [==============================] - 0s 5ms/step - loss: 11.2272 - val_loss: 588.1757\n",
      "Epoch 322/500\n",
      "22/22 [==============================] - 0s 5ms/step - loss: 11.2279 - val_loss: 588.1738\n",
      "Epoch 323/500\n",
      "22/22 [==============================] - 0s 4ms/step - loss: 11.2286 - val_loss: 588.1718\n",
      "Epoch 324/500\n",
      "22/22 [==============================] - 0s 4ms/step - loss: 11.2292 - val_loss: 588.1694\n",
      "Epoch 325/500\n",
      "22/22 [==============================] - 0s 4ms/step - loss: 11.2300 - val_loss: 588.1672\n",
      "Epoch 326/500\n",
      "22/22 [==============================] - 0s 7ms/step - loss: 11.2306 - val_loss: 588.1649\n",
      "Epoch 327/500\n",
      "22/22 [==============================] - 0s 5ms/step - loss: 11.2313 - val_loss: 588.1628\n",
      "Epoch 328/500\n",
      "22/22 [==============================] - 0s 5ms/step - loss: 11.2320 - val_loss: 588.1610\n",
      "Epoch 329/500\n",
      "22/22 [==============================] - 0s 5ms/step - loss: 11.2327 - val_loss: 588.1588\n",
      "Epoch 330/500\n",
      "22/22 [==============================] - 0s 5ms/step - loss: 11.2334 - val_loss: 588.1570\n",
      "Epoch 331/500\n",
      "22/22 [==============================] - 0s 4ms/step - loss: 11.2340 - val_loss: 588.1548\n",
      "Epoch 332/500\n",
      "22/22 [==============================] - 0s 4ms/step - loss: 11.2347 - val_loss: 588.1531\n",
      "Epoch 333/500\n",
      "22/22 [==============================] - 0s 4ms/step - loss: 11.2353 - val_loss: 588.1509\n",
      "Epoch 334/500\n",
      "22/22 [==============================] - 0s 5ms/step - loss: 11.2360 - val_loss: 588.1491\n",
      "Epoch 335/500\n",
      "22/22 [==============================] - 0s 5ms/step - loss: 11.2367 - val_loss: 588.1472\n",
      "Epoch 336/500\n",
      "22/22 [==============================] - 0s 4ms/step - loss: 11.2373 - val_loss: 588.1454\n",
      "Epoch 337/500\n",
      "22/22 [==============================] - 0s 4ms/step - loss: 11.2380 - val_loss: 588.1431\n",
      "Epoch 338/500\n",
      "22/22 [==============================] - 0s 4ms/step - loss: 11.2386 - val_loss: 588.1417\n",
      "Epoch 339/500\n",
      "22/22 [==============================] - 0s 4ms/step - loss: 11.2392 - val_loss: 588.1392\n",
      "Epoch 340/500\n",
      "22/22 [==============================] - 0s 4ms/step - loss: 11.2399 - val_loss: 588.1378\n",
      "Epoch 341/500\n",
      "22/22 [==============================] - 0s 7ms/step - loss: 11.2405 - val_loss: 588.1364\n",
      "Epoch 342/500\n",
      "22/22 [==============================] - 0s 5ms/step - loss: 11.2411 - val_loss: 588.1341\n",
      "Epoch 343/500\n",
      "22/22 [==============================] - 0s 5ms/step - loss: 11.2417 - val_loss: 588.1324\n",
      "Epoch 344/500\n",
      "22/22 [==============================] - 0s 4ms/step - loss: 11.2423 - val_loss: 588.1305\n",
      "Epoch 345/500\n",
      "22/22 [==============================] - 0s 4ms/step - loss: 11.2430 - val_loss: 588.1285\n",
      "Epoch 346/500\n",
      "22/22 [==============================] - 0s 4ms/step - loss: 11.2436 - val_loss: 588.1271\n",
      "Epoch 347/500\n",
      "22/22 [==============================] - 0s 5ms/step - loss: 11.2441 - val_loss: 588.1252\n",
      "Epoch 348/500\n",
      "22/22 [==============================] - 0s 5ms/step - loss: 11.2448 - val_loss: 588.1235\n",
      "Epoch 349/500\n",
      "22/22 [==============================] - 0s 5ms/step - loss: 11.2453 - val_loss: 588.1218\n",
      "Epoch 350/500\n",
      "22/22 [==============================] - 0s 5ms/step - loss: 11.2459 - val_loss: 588.1204\n",
      "Epoch 351/500\n",
      "22/22 [==============================] - 0s 5ms/step - loss: 11.2465 - val_loss: 588.1186\n",
      "Epoch 352/500\n",
      "22/22 [==============================] - 0s 5ms/step - loss: 11.2471 - val_loss: 588.1169\n",
      "Epoch 353/500\n",
      "22/22 [==============================] - 0s 5ms/step - loss: 11.2476 - val_loss: 588.1152\n",
      "Epoch 354/500\n",
      "22/22 [==============================] - 0s 6ms/step - loss: 11.2482 - val_loss: 588.1137\n",
      "Epoch 355/500\n",
      "22/22 [==============================] - 0s 5ms/step - loss: 11.2488 - val_loss: 588.1122\n",
      "Epoch 356/500\n",
      "22/22 [==============================] - 0s 4ms/step - loss: 11.2493 - val_loss: 588.1105\n",
      "Epoch 357/500\n",
      "22/22 [==============================] - 0s 5ms/step - loss: 11.2498 - val_loss: 588.1086\n",
      "Epoch 358/500\n",
      "22/22 [==============================] - 0s 4ms/step - loss: 11.2504 - val_loss: 588.1068\n",
      "Epoch 359/500\n",
      "22/22 [==============================] - 0s 5ms/step - loss: 11.2509 - val_loss: 588.1053\n",
      "Epoch 360/500\n",
      "22/22 [==============================] - 0s 4ms/step - loss: 11.2514 - val_loss: 588.1039\n",
      "Epoch 361/500\n",
      "22/22 [==============================] - 0s 4ms/step - loss: 11.2520 - val_loss: 588.1022\n",
      "Epoch 362/500\n",
      "22/22 [==============================] - 0s 4ms/step - loss: 11.2525 - val_loss: 588.1011\n",
      "Epoch 363/500\n",
      "22/22 [==============================] - 0s 4ms/step - loss: 11.2530 - val_loss: 588.0992\n",
      "Epoch 364/500\n",
      "22/22 [==============================] - 0s 4ms/step - loss: 11.2535 - val_loss: 588.0977\n",
      "Epoch 365/500\n",
      "22/22 [==============================] - 0s 4ms/step - loss: 11.2540 - val_loss: 588.0961\n",
      "Epoch 366/500\n",
      "22/22 [==============================] - 0s 4ms/step - loss: 11.2545 - val_loss: 588.0948\n",
      "Epoch 367/500\n",
      "22/22 [==============================] - 0s 5ms/step - loss: 11.2550 - val_loss: 588.0934\n",
      "Epoch 368/500\n",
      "22/22 [==============================] - 0s 4ms/step - loss: 11.2554 - val_loss: 588.0917\n",
      "Epoch 369/500\n",
      "22/22 [==============================] - 0s 5ms/step - loss: 11.2559 - val_loss: 588.0903\n",
      "Epoch 370/500\n",
      "22/22 [==============================] - 0s 8ms/step - loss: 11.2564 - val_loss: 588.0893\n",
      "Epoch 371/500\n",
      "22/22 [==============================] - 0s 5ms/step - loss: 11.2568 - val_loss: 588.0876\n",
      "Epoch 372/500\n",
      "22/22 [==============================] - 0s 4ms/step - loss: 11.2573 - val_loss: 588.0863\n",
      "Epoch 373/500\n",
      "22/22 [==============================] - 0s 4ms/step - loss: 11.2578 - val_loss: 588.0851\n",
      "Epoch 374/500\n",
      "22/22 [==============================] - 0s 5ms/step - loss: 11.2582 - val_loss: 588.0839\n",
      "Epoch 375/500\n",
      "22/22 [==============================] - 0s 4ms/step - loss: 11.2586 - val_loss: 588.0823\n",
      "Epoch 376/500\n",
      "22/22 [==============================] - 0s 4ms/step - loss: 11.2591 - val_loss: 588.0811\n",
      "Epoch 377/500\n",
      "22/22 [==============================] - 0s 5ms/step - loss: 11.2595 - val_loss: 588.0800\n",
      "Epoch 378/500\n",
      "22/22 [==============================] - 0s 4ms/step - loss: 11.2600 - val_loss: 588.0786\n",
      "Epoch 379/500\n",
      "22/22 [==============================] - 0s 5ms/step - loss: 11.2604 - val_loss: 588.0778\n",
      "Epoch 380/500\n",
      "22/22 [==============================] - 0s 4ms/step - loss: 11.2607 - val_loss: 588.0764\n",
      "Epoch 381/500\n",
      "22/22 [==============================] - 0s 5ms/step - loss: 11.2612 - val_loss: 588.0750\n",
      "Epoch 382/500\n",
      "22/22 [==============================] - 0s 4ms/step - loss: 11.2616 - val_loss: 588.0739\n",
      "Epoch 383/500\n",
      "22/22 [==============================] - 0s 4ms/step - loss: 11.2620 - val_loss: 588.0726\n",
      "Epoch 384/500\n",
      "22/22 [==============================] - 0s 4ms/step - loss: 11.2624 - val_loss: 588.0712\n",
      "Epoch 385/500\n",
      "22/22 [==============================] - 0s 5ms/step - loss: 11.2628 - val_loss: 588.0702\n",
      "Epoch 386/500\n",
      "22/22 [==============================] - 0s 5ms/step - loss: 11.2632 - val_loss: 588.0693\n",
      "Epoch 387/500\n",
      "22/22 [==============================] - 0s 5ms/step - loss: 11.2635 - val_loss: 588.0684\n",
      "Epoch 388/500\n",
      "22/22 [==============================] - 0s 4ms/step - loss: 11.2639 - val_loss: 588.0671\n",
      "Epoch 389/500\n",
      "22/22 [==============================] - 0s 4ms/step - loss: 11.2642 - val_loss: 588.0659\n",
      "Epoch 390/500\n",
      "22/22 [==============================] - 0s 5ms/step - loss: 11.2646 - val_loss: 588.0650\n",
      "Epoch 391/500\n",
      "22/22 [==============================] - 0s 4ms/step - loss: 11.2649 - val_loss: 588.0639\n",
      "Epoch 392/500\n",
      "22/22 [==============================] - 0s 4ms/step - loss: 11.2653 - val_loss: 588.0630\n",
      "Epoch 393/500\n",
      "22/22 [==============================] - 0s 4ms/step - loss: 11.2656 - val_loss: 588.0620\n",
      "Epoch 394/500\n",
      "22/22 [==============================] - 0s 4ms/step - loss: 11.2660 - val_loss: 588.0607\n",
      "Epoch 395/500\n",
      "22/22 [==============================] - 0s 4ms/step - loss: 11.2663 - val_loss: 588.0598\n",
      "Epoch 396/500\n",
      "22/22 [==============================] - 0s 7ms/step - loss: 11.2666 - val_loss: 588.0588\n",
      "Epoch 397/500\n",
      "22/22 [==============================] - 0s 4ms/step - loss: 11.2669 - val_loss: 588.0579\n",
      "Epoch 398/500\n",
      "22/22 [==============================] - 0s 4ms/step - loss: 11.2673 - val_loss: 588.0572\n",
      "Epoch 399/500\n",
      "22/22 [==============================] - 0s 5ms/step - loss: 11.2676 - val_loss: 588.0562\n",
      "Epoch 400/500\n",
      "22/22 [==============================] - 0s 4ms/step - loss: 11.2679 - val_loss: 588.0552\n",
      "Epoch 401/500\n",
      "22/22 [==============================] - 0s 4ms/step - loss: 11.2682 - val_loss: 588.0541\n",
      "Epoch 402/500\n",
      "22/22 [==============================] - 0s 5ms/step - loss: 11.2685 - val_loss: 588.0535\n",
      "Epoch 403/500\n",
      "22/22 [==============================] - 0s 4ms/step - loss: 11.2688 - val_loss: 588.0529\n",
      "Epoch 404/500\n",
      "22/22 [==============================] - 0s 4ms/step - loss: 11.2690 - val_loss: 588.0522\n",
      "Epoch 405/500\n",
      "22/22 [==============================] - 0s 4ms/step - loss: 11.2693 - val_loss: 588.0509\n",
      "Epoch 406/500\n",
      "22/22 [==============================] - 0s 5ms/step - loss: 11.2696 - val_loss: 588.0501\n",
      "Epoch 407/500\n",
      "22/22 [==============================] - 0s 4ms/step - loss: 11.2699 - val_loss: 588.0498\n",
      "Epoch 408/500\n",
      "22/22 [==============================] - 0s 5ms/step - loss: 11.2701 - val_loss: 588.0489\n",
      "Epoch 409/500\n",
      "22/22 [==============================] - 0s 4ms/step - loss: 11.2704 - val_loss: 588.0483\n",
      "Epoch 410/500\n",
      "22/22 [==============================] - 0s 7ms/step - loss: 11.2706 - val_loss: 588.0474\n",
      "Epoch 411/500\n",
      "22/22 [==============================] - 0s 4ms/step - loss: 11.2709 - val_loss: 588.0467\n",
      "Epoch 412/500\n",
      "22/22 [==============================] - 0s 4ms/step - loss: 11.2711 - val_loss: 588.0453\n",
      "Epoch 413/500\n",
      "22/22 [==============================] - 0s 4ms/step - loss: 11.2714 - val_loss: 588.0447\n",
      "Epoch 414/500\n",
      "22/22 [==============================] - 0s 4ms/step - loss: 11.2716 - val_loss: 588.0439\n",
      "Epoch 415/500\n",
      "22/22 [==============================] - 0s 4ms/step - loss: 11.2719 - val_loss: 588.0431\n",
      "Epoch 416/500\n",
      "22/22 [==============================] - 0s 4ms/step - loss: 11.2721 - val_loss: 588.0425\n",
      "Epoch 417/500\n",
      "22/22 [==============================] - 0s 4ms/step - loss: 11.2723 - val_loss: 588.0419\n",
      "Epoch 418/500\n",
      "22/22 [==============================] - 0s 4ms/step - loss: 11.2726 - val_loss: 588.0410\n",
      "Epoch 419/500\n",
      "22/22 [==============================] - 0s 4ms/step - loss: 11.2728 - val_loss: 588.0405\n",
      "Epoch 420/500\n",
      "22/22 [==============================] - 0s 4ms/step - loss: 11.2730 - val_loss: 588.0401\n",
      "Epoch 421/500\n",
      "22/22 [==============================] - 0s 4ms/step - loss: 11.2732 - val_loss: 588.0391\n",
      "Epoch 422/500\n",
      "22/22 [==============================] - 0s 4ms/step - loss: 11.2735 - val_loss: 588.0389\n",
      "Epoch 423/500\n",
      "22/22 [==============================] - 0s 5ms/step - loss: 11.2736 - val_loss: 588.0381\n",
      "Epoch 424/500\n",
      "22/22 [==============================] - 0s 4ms/step - loss: 11.2738 - val_loss: 588.0376\n",
      "Epoch 425/500\n",
      "22/22 [==============================] - 0s 7ms/step - loss: 11.2740 - val_loss: 588.0372\n",
      "Epoch 426/500\n",
      "22/22 [==============================] - 0s 4ms/step - loss: 11.2743 - val_loss: 588.0368\n",
      "Epoch 427/500\n",
      "22/22 [==============================] - 0s 4ms/step - loss: 11.2744 - val_loss: 588.0361\n",
      "Epoch 428/500\n",
      "22/22 [==============================] - 0s 4ms/step - loss: 11.2746 - val_loss: 588.0358\n",
      "Epoch 429/500\n",
      "22/22 [==============================] - 0s 4ms/step - loss: 11.2747 - val_loss: 588.0349\n",
      "Epoch 430/500\n",
      "22/22 [==============================] - 0s 5ms/step - loss: 11.2749 - val_loss: 588.0344\n",
      "Epoch 431/500\n",
      "22/22 [==============================] - 0s 4ms/step - loss: 11.2751 - val_loss: 588.0334\n",
      "Epoch 432/500\n",
      "22/22 [==============================] - 0s 4ms/step - loss: 11.2753 - val_loss: 588.0330\n",
      "Epoch 433/500\n",
      "22/22 [==============================] - 0s 5ms/step - loss: 11.2755 - val_loss: 588.0327\n",
      "Epoch 434/500\n",
      "22/22 [==============================] - 0s 4ms/step - loss: 11.2756 - val_loss: 588.0320\n",
      "Epoch 435/500\n",
      "22/22 [==============================] - 0s 4ms/step - loss: 11.2758 - val_loss: 588.0314\n",
      "Epoch 436/500\n",
      "22/22 [==============================] - 0s 4ms/step - loss: 11.2760 - val_loss: 588.0308\n",
      "Epoch 437/500\n",
      "22/22 [==============================] - 0s 4ms/step - loss: 11.2761 - val_loss: 588.0303\n",
      "Epoch 438/500\n",
      "22/22 [==============================] - 0s 7ms/step - loss: 11.2763 - val_loss: 588.0298\n",
      "Epoch 439/500\n",
      "22/22 [==============================] - 0s 4ms/step - loss: 11.2765 - val_loss: 588.0296\n",
      "Epoch 440/500\n",
      "22/22 [==============================] - 0s 4ms/step - loss: 11.2766 - val_loss: 588.0287\n",
      "Epoch 441/500\n",
      "22/22 [==============================] - 0s 5ms/step - loss: 11.2767 - val_loss: 588.0284\n",
      "Epoch 442/500\n",
      "22/22 [==============================] - 0s 4ms/step - loss: 11.2769 - val_loss: 588.0280\n",
      "Epoch 443/500\n",
      "22/22 [==============================] - 0s 5ms/step - loss: 11.2770 - val_loss: 588.0273\n",
      "Epoch 444/500\n",
      "22/22 [==============================] - 0s 5ms/step - loss: 11.2772 - val_loss: 588.0271\n",
      "Epoch 445/500\n",
      "22/22 [==============================] - 0s 4ms/step - loss: 11.2773 - val_loss: 588.0270\n",
      "Epoch 446/500\n",
      "22/22 [==============================] - 0s 4ms/step - loss: 11.2774 - val_loss: 588.0267\n",
      "Epoch 447/500\n",
      "22/22 [==============================] - 0s 4ms/step - loss: 11.2775 - val_loss: 588.0260\n",
      "Epoch 448/500\n",
      "22/22 [==============================] - 0s 4ms/step - loss: 11.2777 - val_loss: 588.0257\n",
      "Epoch 449/500\n",
      "22/22 [==============================] - 0s 5ms/step - loss: 11.2778 - val_loss: 588.0254\n",
      "Epoch 450/500\n",
      "22/22 [==============================] - 0s 7ms/step - loss: 11.2779 - val_loss: 588.0252\n",
      "Epoch 451/500\n",
      "22/22 [==============================] - 0s 4ms/step - loss: 11.2780 - val_loss: 588.0244\n",
      "Epoch 452/500\n",
      "22/22 [==============================] - 0s 4ms/step - loss: 11.2782 - val_loss: 588.0241\n",
      "Epoch 453/500\n",
      "22/22 [==============================] - 0s 5ms/step - loss: 11.2783 - val_loss: 588.0236\n",
      "Epoch 454/500\n",
      "22/22 [==============================] - 0s 5ms/step - loss: 11.2784 - val_loss: 588.0231\n",
      "Epoch 455/500\n",
      "22/22 [==============================] - 0s 4ms/step - loss: 11.2785 - val_loss: 588.0228\n",
      "Epoch 456/500\n",
      "22/22 [==============================] - 0s 4ms/step - loss: 11.2786 - val_loss: 588.0224\n",
      "Epoch 457/500\n",
      "22/22 [==============================] - 0s 4ms/step - loss: 11.2788 - val_loss: 588.0224\n",
      "Epoch 458/500\n",
      "22/22 [==============================] - 0s 5ms/step - loss: 11.2788 - val_loss: 588.0221\n",
      "Epoch 459/500\n",
      "22/22 [==============================] - 0s 4ms/step - loss: 11.2789 - val_loss: 588.0219\n",
      "Epoch 460/500\n",
      "22/22 [==============================] - 0s 5ms/step - loss: 11.2790 - val_loss: 588.0217\n",
      "Epoch 461/500\n",
      "22/22 [==============================] - 0s 4ms/step - loss: 11.2791 - val_loss: 588.0214\n",
      "Epoch 462/500\n",
      "22/22 [==============================] - 0s 4ms/step - loss: 11.2792 - val_loss: 588.0211\n",
      "Epoch 463/500\n",
      "22/22 [==============================] - 0s 6ms/step - loss: 11.2793 - val_loss: 588.0209\n",
      "Epoch 464/500\n",
      "22/22 [==============================] - 0s 4ms/step - loss: 11.2794 - val_loss: 588.0205\n",
      "Epoch 465/500\n",
      "22/22 [==============================] - 0s 4ms/step - loss: 11.2795 - val_loss: 588.0204\n",
      "Epoch 466/500\n",
      "22/22 [==============================] - 0s 4ms/step - loss: 11.2796 - val_loss: 588.0200\n",
      "Epoch 467/500\n",
      "22/22 [==============================] - 0s 4ms/step - loss: 11.2797 - val_loss: 588.0201\n",
      "Epoch 468/500\n",
      "22/22 [==============================] - 0s 4ms/step - loss: 11.2797 - val_loss: 588.0196\n",
      "Epoch 469/500\n",
      "22/22 [==============================] - 0s 5ms/step - loss: 11.2798 - val_loss: 588.0192\n",
      "Epoch 470/500\n",
      "22/22 [==============================] - 0s 4ms/step - loss: 11.2799 - val_loss: 588.0192\n",
      "Epoch 471/500\n",
      "22/22 [==============================] - 0s 5ms/step - loss: 11.2800 - val_loss: 588.0190\n",
      "Epoch 472/500\n",
      "22/22 [==============================] - 0s 4ms/step - loss: 11.2801 - val_loss: 588.0189\n",
      "Epoch 473/500\n",
      "22/22 [==============================] - 0s 4ms/step - loss: 11.2801 - val_loss: 588.0187\n",
      "Epoch 474/500\n",
      "22/22 [==============================] - 0s 4ms/step - loss: 11.2802 - val_loss: 588.0186\n",
      "Epoch 475/500\n",
      "22/22 [==============================] - 0s 4ms/step - loss: 11.2803 - val_loss: 588.0181\n",
      "Epoch 476/500\n",
      "22/22 [==============================] - 0s 7ms/step - loss: 11.2804 - val_loss: 588.0179\n",
      "Epoch 477/500\n",
      "22/22 [==============================] - 0s 4ms/step - loss: 11.2804 - val_loss: 588.0174\n",
      "Epoch 478/500\n",
      "22/22 [==============================] - 0s 4ms/step - loss: 11.2805 - val_loss: 588.0174\n",
      "Epoch 479/500\n",
      "22/22 [==============================] - 0s 4ms/step - loss: 11.2806 - val_loss: 588.0170\n",
      "Epoch 480/500\n",
      "22/22 [==============================] - 0s 5ms/step - loss: 11.2806 - val_loss: 588.0169\n",
      "Epoch 481/500\n",
      "22/22 [==============================] - 0s 4ms/step - loss: 11.2807 - val_loss: 588.0168\n",
      "Epoch 482/500\n",
      "22/22 [==============================] - 0s 4ms/step - loss: 11.2808 - val_loss: 588.0168\n",
      "Epoch 483/500\n",
      "22/22 [==============================] - 0s 4ms/step - loss: 11.2808 - val_loss: 588.0167\n",
      "Epoch 484/500\n",
      "22/22 [==============================] - 0s 4ms/step - loss: 11.2809 - val_loss: 588.0165\n",
      "Epoch 485/500\n",
      "22/22 [==============================] - 0s 4ms/step - loss: 11.2809 - val_loss: 588.0161\n",
      "Epoch 486/500\n",
      "22/22 [==============================] - 0s 4ms/step - loss: 11.2810 - val_loss: 588.0159\n",
      "Epoch 487/500\n",
      "22/22 [==============================] - 0s 5ms/step - loss: 11.2810 - val_loss: 588.0157\n",
      "Epoch 488/500\n",
      "22/22 [==============================] - 0s 7ms/step - loss: 11.2811 - val_loss: 588.0156\n",
      "Epoch 489/500\n",
      "22/22 [==============================] - 0s 5ms/step - loss: 11.2812 - val_loss: 588.0157\n",
      "Epoch 490/500\n",
      "22/22 [==============================] - 0s 4ms/step - loss: 11.2812 - val_loss: 588.0156\n",
      "Epoch 491/500\n",
      "22/22 [==============================] - 0s 4ms/step - loss: 11.2813 - val_loss: 588.0155\n",
      "Epoch 492/500\n",
      "22/22 [==============================] - 0s 4ms/step - loss: 11.2813 - val_loss: 588.0153\n",
      "Epoch 493/500\n",
      "22/22 [==============================] - 0s 5ms/step - loss: 11.2813 - val_loss: 588.0150\n",
      "Epoch 494/500\n",
      "22/22 [==============================] - 0s 4ms/step - loss: 11.2814 - val_loss: 588.0150\n",
      "Epoch 495/500\n",
      "22/22 [==============================] - 0s 5ms/step - loss: 11.2815 - val_loss: 588.0149\n",
      "Epoch 496/500\n",
      "22/22 [==============================] - 0s 5ms/step - loss: 11.2815 - val_loss: 588.0144\n",
      "Epoch 497/500\n",
      "22/22 [==============================] - 0s 5ms/step - loss: 11.2816 - val_loss: 588.0144\n",
      "Epoch 498/500\n",
      "22/22 [==============================] - 0s 5ms/step - loss: 11.2816 - val_loss: 588.0142\n",
      "Epoch 499/500\n",
      "22/22 [==============================] - 0s 4ms/step - loss: 11.2816 - val_loss: 588.0142\n",
      "Epoch 500/500\n",
      "22/22 [==============================] - 0s 4ms/step - loss: 11.2817 - val_loss: 588.0138\n"
     ]
    }
   ],
   "source": [
    "C0 = tf.Variable(88.0403, name=\"C0\", trainable=True, dtype=tf.float32)\n",
    "K0 = tf.Variable(-0.0012, name=\"K0\", trainable=True, dtype=tf.float32)\n",
    "K1 = tf.Variable(-0.0001, name=\"K1\", trainable=True, dtype=tf.float32)\n",
    "a = tf.Variable(0.0000, name=\"a\", trainable=True, dtype=tf.float32)\n",
    "b = tf.Variable(0.0120, name=\"b\", trainable=True, dtype=tf.float32)\n",
    "c = tf.Variable(2.0334, name=\"c\", trainable=True, dtype=tf.float32)\n",
    "\n",
    "splitr = 0.8\n",
    "\n",
    "\n",
    "def loss_fn(y_true, y_pred):\n",
    "    squared_difference = tf.square(y_true[:, 0] - y_pred[:, 0])\n",
    "    #squared_difference2 = tf.square(y_true[:, 2]-y_pred[:, 2])\n",
    "    #squared_difference1 = tf.square(y_true[:, 1]-y_pred[:, 1])\n",
    "    epsilon = 1\n",
    "    squared_difference3 = tf.square(\n",
    "        y_pred[:, 1] - (\n",
    "            y_pred[:, 0] * (\n",
    "                K0 - K1 * (\n",
    "                    9 * a * tf.math.log((y_pred[:, 0] + epsilon) / C0) / (K0 - K1 * c)**2 +\n",
    "                    4 * b * tf.math.log((y_pred[:, 0] + epsilon) / C0) / (K0 - K1 * c) + c\n",
    "                )\n",
    "            )\n",
    "        )\n",
    "    )\n",
    "    return tf.reduce_mean(squared_difference, axis=-1) + 0.2*tf.reduce_mean(squared_difference3, axis=-1)\n",
    "model = Sequential()\n",
    "model.add(LSTM(100, input_shape=(trainX.shape[1], trainX.shape[2])))\n",
    "model.add(Dense(60))\n",
    "model.compile(loss=loss_fn, optimizer='adam')\n",
    "history = model.fit(trainX[:int(splitr*trainX.shape[0])], trainy[:int(splitr*trainX.shape[0])], epochs=500, batch_size=64, validation_data=(trainX[int(splitr*trainX.shape[0]):trainX.shape[0]], trainy[int(splitr*trainX.shape[0]):trainX.shape[0]]), shuffle=False)"
   ]
  },
  {
   "cell_type": "code",
   "execution_count": 19,
   "metadata": {
    "colab": {
     "base_uri": "https://localhost:8080/"
    },
    "id": "yJL101rPyuoT",
    "outputId": "239ff2b1-c186-423a-d316-939dfdd7c793"
   },
   "outputs": [
    {
     "name": "stdout",
     "output_type": "stream",
     "text": [
      "1/1 [==============================] - 0s 416ms/step\n"
     ]
    }
   ],
   "source": [
    "forecast_without_mc = forecastX\n",
    "yhat_without_mc = model.predict(forecast_without_mc) # Step Ahead Prediction\n",
    "forecast_without_mc = forecast_without_mc.reshape((forecast_without_mc.shape[0], forecast_without_mc.shape[2])) # Historical Input"
   ]
  },
  {
   "cell_type": "code",
   "execution_count": 20,
   "metadata": {
    "colab": {
     "base_uri": "https://localhost:8080/"
    },
    "id": "g9dQELcJ8wbp",
    "outputId": "4dc7671b-b1a8-48d5-8744-a86f98446109"
   },
   "outputs": [
    {
     "data": {
      "text/plain": [
       "(1, 1, 251)"
      ]
     },
     "execution_count": 20,
     "metadata": {},
     "output_type": "execute_result"
    }
   ],
   "source": [
    "forecastX.shape"
   ]
  },
  {
   "cell_type": "code",
   "execution_count": 21,
   "metadata": {
    "colab": {
     "base_uri": "https://localhost:8080/"
    },
    "id": "IS2kyIKG1Kbr",
    "outputId": "f31b3485-8e26-452f-9298-ea8bf7e80ad1"
   },
   "outputs": [
    {
     "data": {
      "text/plain": [
       "(1, 251)"
      ]
     },
     "execution_count": 21,
     "metadata": {},
     "output_type": "execute_result"
    }
   ],
   "source": [
    "forecast_without_mc.shape"
   ]
  },
  {
   "cell_type": "code",
   "execution_count": 22,
   "metadata": {
    "id": "0u6VIzaDyuoT"
   },
   "outputs": [],
   "source": [
    "inv_yhat_without_mc = np.concatenate((forecast_without_mc, yhat_without_mc), axis=1) # Concatenation of predicted values with Historical Data\n",
    "#inv_yhat_without_mc = scaler.inverse_transform(inv_yhat_without_mc) # Transform labels back to original encoding"
   ]
  },
  {
   "cell_type": "code",
   "execution_count": 23,
   "metadata": {
    "colab": {
     "base_uri": "https://localhost:8080/"
    },
    "id": "EUEcw0LX07oU",
    "outputId": "cfc32397-9c37-4b43-d087-584bb31c3dcc"
   },
   "outputs": [
    {
     "data": {
      "text/plain": [
       "(1, 311)"
      ]
     },
     "execution_count": 23,
     "metadata": {},
     "output_type": "execute_result"
    }
   ],
   "source": [
    "inv_yhat_without_mc.shape"
   ]
  },
  {
   "cell_type": "code",
   "execution_count": 24,
   "metadata": {
    "id": "31OWVbSh_305"
   },
   "outputs": [],
   "source": [
    "fforecast = inv_yhat_without_mc[:,-300:]"
   ]
  },
  {
   "cell_type": "code",
   "execution_count": 25,
   "metadata": {},
   "outputs": [
    {
     "data": {
      "text/plain": [
       "(1, 300)"
      ]
     },
     "execution_count": 25,
     "metadata": {},
     "output_type": "execute_result"
    }
   ],
   "source": [
    "fforecast.shape"
   ]
  },
  {
   "cell_type": "code",
   "execution_count": 26,
   "metadata": {
    "id": "BlpGH2FOAiRF"
   },
   "outputs": [],
   "source": [
    "final_forecast = fforecast[:,0:300:3]"
   ]
  },
  {
   "cell_type": "code",
   "execution_count": 27,
   "metadata": {},
   "outputs": [
    {
     "data": {
      "text/plain": [
       "(1, 300)"
      ]
     },
     "execution_count": 27,
     "metadata": {},
     "output_type": "execute_result"
    }
   ],
   "source": [
    "fforecast.shape"
   ]
  },
  {
   "cell_type": "code",
   "execution_count": 28,
   "metadata": {
    "id": "CXkgkj_LBk_t"
   },
   "outputs": [],
   "source": [
    "# code to replace all negative value with 0\n",
    "final_forecast[final_forecast<0] = 0"
   ]
  },
  {
   "cell_type": "code",
   "execution_count": 29,
   "metadata": {},
   "outputs": [
    {
     "data": {
      "text/plain": [
       "array([[71.67047152, 71.65646592, 71.64246032, 71.62845472, 71.61444911,\n",
       "        71.60044351, 71.58643791, 71.57243231, 71.5584267 , 71.5444211 ,\n",
       "        71.5304155 , 71.5164099 , 71.5024043 , 74.1378852 , 74.0958684 ,\n",
       "        74.0538515 , 74.0118347 , 73.9698179 , 73.9278011 , 73.8877843 ,\n",
       "        73.8437675 , 73.8017507 , 73.6953081 , 73.5860644 , 73.4768207 ,\n",
       "        73.367577  , 73.2583333 , 73.1490896 , 73.0398459 , 72.9306022 ,\n",
       "        72.8213585 , 72.7121149 , 72.6028711 , 72.4965686 , 72.4377451 ,\n",
       "        72.3759216 , 72.314098  , 72.2522745 , 72.1904501 , 72.1286257 ,\n",
       "         0.        ,  0.39783034,  0.        ,  0.09585822,  0.        ,\n",
       "         0.        ,  0.12218247, 73.3918534 , 73.2826097 , 73.173366  ,\n",
       "        73.0641223 , 72.9548786 , 72.8456349 , 72.7363912 , 72.6271475 ,\n",
       "        72.5179038 , 72.450817  , 72.3919935 , 72.3331699 , 72.2743464 ,\n",
       "        72.2155229 , 72.1566993 , 72.0978758 , 72.0390523 , 71.9832096 ,\n",
       "        71.9214052 , 71.8625817 , 71.8037582 , 71.7921335 , 71.7837302 ,\n",
       "        71.7753268 , 71.7669234 , 71.7585201 , 77.893692  ,  0.5452919 ,\n",
       "         0.18788239,  0.        ,  0.        ,  0.07900403,  0.        ,\n",
       "        67.9621582 ,  0.        ,  0.        ,  0.34058553,  0.        ,\n",
       "         0.10459059,  1.08311224,  0.        ,  0.68475485,  0.69384545,\n",
       "         0.        ,  0.        ,  0.        ,  0.3406029 ,  0.93061215,\n",
       "         0.3658179 ,  0.        ,  0.5466826 ,  0.75246495,  0.        ]])"
      ]
     },
     "execution_count": 29,
     "metadata": {},
     "output_type": "execute_result"
    }
   ],
   "source": [
    "final_forecast"
   ]
  },
  {
   "cell_type": "code",
   "execution_count": 30,
   "metadata": {},
   "outputs": [
    {
     "data": {
      "text/plain": [
       "(1, 100)"
      ]
     },
     "execution_count": 30,
     "metadata": {},
     "output_type": "execute_result"
    }
   ],
   "source": [
    "final_forecast.shape"
   ]
  },
  {
   "cell_type": "code",
   "execution_count": 31,
   "metadata": {},
   "outputs": [
    {
     "data": {
      "text/plain": [
       "(100,)"
      ]
     },
     "execution_count": 31,
     "metadata": {},
     "output_type": "execute_result"
    }
   ],
   "source": [
    "test.shape"
   ]
  },
  {
   "cell_type": "code",
   "execution_count": 32,
   "metadata": {},
   "outputs": [],
   "source": [
    "training_set = np.array(training_set)\n",
    "test = np.array(test)\n",
    "final_forecast = np.array(final_forecast.squeeze(0))"
   ]
  },
  {
   "cell_type": "code",
   "execution_count": 33,
   "metadata": {},
   "outputs": [
    {
     "data": {
      "text/plain": [
       "array([69.19361891, 69.18733347, 69.18104803, 69.17476259, 69.16847715,\n",
       "       69.16219171, 69.15590626, 69.14962082, 69.14333538, 69.13704994,\n",
       "       69.1307645 , 69.12447906, 69.11819362, 69.11190818, 69.10562274,\n",
       "       69.0993373 , 69.09305185, 69.08676641, 69.08048097, 69.07419553,\n",
       "       69.06791009, 69.06162465, 69.05533921, 69.04905377, 69.04276833,\n",
       "       69.03648289, 69.03019744, 69.023912  , 69.01762656, 69.01134112,\n",
       "       69.00505568, 68.99877024, 68.9924848 , 68.98619936, 68.97991392,\n",
       "       68.97362848, 68.96734303, 68.96105759, 68.95477215, 68.94848671,\n",
       "       68.94220127, 68.93591583, 68.92963039, 68.92334495, 68.91705951,\n",
       "       68.91077407, 68.90448862, 68.89820318, 68.89191774, 68.8856323 ,\n",
       "       68.87934686, 68.87306142, 68.86677598, 68.86049054, 68.8542051 ,\n",
       "       68.84791966, 68.84163421, 68.83534877, 68.82906333, 68.82277789,\n",
       "       68.81649245, 68.81020701, 68.80392157, 68.79763613, 68.79135069,\n",
       "       68.78506525, 68.7787798 , 68.77249436, 68.76620892, 68.75992348,\n",
       "       68.75363804, 68.7473526 , 68.74106716, 68.73478172, 68.72849628,\n",
       "       68.72221084, 68.71592539, 68.70963995, 68.70335451, 68.69706907,\n",
       "       68.69078363, 68.68449819, 68.67821275, 68.67192731, 68.66564187,\n",
       "       68.65935643, 68.65307098, 68.64678554, 68.6405001 , 68.63421466,\n",
       "       68.62792922, 68.62164378, 68.61535834, 68.6090729 , 68.60278746,\n",
       "       68.59650202, 68.59021657, 68.58393113, 68.57764569, 68.57136025])"
      ]
     },
     "execution_count": 33,
     "metadata": {},
     "output_type": "execute_result"
    }
   ],
   "source": [
    "test"
   ]
  },
  {
   "cell_type": "code",
   "execution_count": 34,
   "metadata": {},
   "outputs": [
    {
     "data": {
      "text/plain": [
       "(100,)"
      ]
     },
     "execution_count": 34,
     "metadata": {},
     "output_type": "execute_result"
    }
   ],
   "source": [
    "test.shape"
   ]
  },
  {
   "cell_type": "code",
   "execution_count": 35,
   "metadata": {},
   "outputs": [
    {
     "data": {
      "text/plain": [
       "(100,)"
      ]
     },
     "execution_count": 35,
     "metadata": {},
     "output_type": "execute_result"
    }
   ],
   "source": [
    "final_forecast.shape"
   ]
  },
  {
   "cell_type": "code",
   "execution_count": 36,
   "metadata": {},
   "outputs": [
    {
     "data": {
      "text/plain": [
       "(100,)"
      ]
     },
     "execution_count": 36,
     "metadata": {},
     "output_type": "execute_result"
    }
   ],
   "source": [
    "test.shape"
   ]
  },
  {
   "cell_type": "code",
   "execution_count": 37,
   "metadata": {},
   "outputs": [
    {
     "name": "stdout",
     "output_type": "stream",
     "text": [
      "38.864604976410895\n",
      "24.373252528093808\n"
     ]
    }
   ],
   "source": [
    "import math\n",
    "MSE = np.square(np.subtract(np.array(test),np.array(final_forecast))).mean()   \n",
    "rsme = math.sqrt(MSE)\n",
    "print(rsme)  \n",
    "MAE = np.abs(np.subtract(np.array(test),np.array(final_forecast))).mean()   \n",
    "mae = MAE\n",
    "print(mae)"
   ]
  }
 ],
 "metadata": {
  "colab": {
   "provenance": []
  },
  "kernelspec": {
   "display_name": "Python 3",
   "language": "python",
   "name": "python3"
  },
  "language_info": {
   "codemirror_mode": {
    "name": "ipython",
    "version": 3
   },
   "file_extension": ".py",
   "mimetype": "text/x-python",
   "name": "python",
   "nbconvert_exporter": "python",
   "pygments_lexer": "ipython3",
   "version": "3.9.13"
  }
 },
 "nbformat": 4,
 "nbformat_minor": 0
}
