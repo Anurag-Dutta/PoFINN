{
 "cells": [
  {
   "cell_type": "markdown",
   "metadata": {
    "id": "pCGKeZ2gyuoQ"
   },
   "source": [
    "_Importing Required Libraries_"
   ]
  },
  {
   "cell_type": "code",
   "execution_count": 1,
   "metadata": {
    "colab": {
     "base_uri": "https://localhost:8080/"
    },
    "id": "A-6LN-zXiLcM",
    "outputId": "4de610a4-f8b8-4f49-c6c0-89de299ccedc"
   },
   "outputs": [
    {
     "name": "stdout",
     "output_type": "stream",
     "text": [
      "Requirement already satisfied: hampel in c:\\users\\anurag dutta\\appdata\\local\\packages\\pythonsoftwarefoundation.python.3.9_qbz5n2kfra8p0\\localcache\\local-packages\\python39\\site-packages (0.0.5)\n",
      "Requirement already satisfied: numpy in c:\\users\\anurag dutta\\appdata\\local\\packages\\pythonsoftwarefoundation.python.3.9_qbz5n2kfra8p0\\localcache\\local-packages\\python39\\site-packages (from hampel) (1.26.4)\n",
      "Requirement already satisfied: pandas in c:\\users\\anurag dutta\\appdata\\local\\packages\\pythonsoftwarefoundation.python.3.9_qbz5n2kfra8p0\\localcache\\local-packages\\python39\\site-packages (from hampel) (1.5.2)\n",
      "Requirement already satisfied: python-dateutil>=2.8.1 in c:\\users\\anurag dutta\\appdata\\local\\packages\\pythonsoftwarefoundation.python.3.9_qbz5n2kfra8p0\\localcache\\local-packages\\python39\\site-packages (from pandas->hampel) (2.8.2)\n",
      "Requirement already satisfied: pytz>=2020.1 in c:\\users\\anurag dutta\\appdata\\local\\packages\\pythonsoftwarefoundation.python.3.9_qbz5n2kfra8p0\\localcache\\local-packages\\python39\\site-packages (from pandas->hampel) (2023.3.post1)\n",
      "Requirement already satisfied: six>=1.5 in c:\\users\\anurag dutta\\appdata\\local\\packages\\pythonsoftwarefoundation.python.3.9_qbz5n2kfra8p0\\localcache\\local-packages\\python39\\site-packages (from python-dateutil>=2.8.1->pandas->hampel) (1.16.0)\n",
      "Note: you may need to restart the kernel to use updated packages.\n"
     ]
    },
    {
     "name": "stderr",
     "output_type": "stream",
     "text": [
      "\n",
      "[notice] A new release of pip is available: 24.2 -> 24.3.1\n",
      "[notice] To update, run: C:\\Users\\Anurag Dutta\\AppData\\Local\\Microsoft\\WindowsApps\\PythonSoftwareFoundation.Python.3.9_qbz5n2kfra8p0\\python.exe -m pip install --upgrade pip\n"
     ]
    }
   ],
   "source": [
    "pip install hampel"
   ]
  },
  {
   "cell_type": "code",
   "execution_count": 2,
   "metadata": {
    "id": "By_d9uXpaFvZ"
   },
   "outputs": [],
   "source": [
    "from keras.models import Sequential\n",
    "from keras.layers import Dense\n",
    "from keras.layers import LSTM\n",
    "from keras.layers import Dropout\n",
    "import keras\n",
    "import tensorflow as tf\n",
    "from hampel import hampel\n",
    "import numpy as np\n",
    "import matplotlib.pyplot as plt\n",
    "import pandas as pd\n",
    "from sklearn.preprocessing import MinMaxScaler\n",
    "from sklearn.metrics import mean_squared_error, mean_absolute_error\n",
    "from math import sqrt\n",
    "from matplotlib import pyplot\n",
    "from numpy import array"
   ]
  },
  {
   "cell_type": "markdown",
   "metadata": {
    "id": "JyOjBMFayuoR"
   },
   "source": [
    "## Pretraining"
   ]
  },
  {
   "cell_type": "markdown",
   "metadata": {
    "id": "-5QqIY_GyuoR"
   },
   "source": [
    "The `capa_intermittency.dat` feeds the model with the dynamics of the Capacitor"
   ]
  },
  {
   "cell_type": "code",
   "execution_count": 3,
   "metadata": {
    "id": "9dV4a8yfyuoR"
   },
   "outputs": [],
   "source": [
    "data = np.genfromtxt('capa_intermittency.dat')\n",
    "training_set = pd.DataFrame(data).reset_index(drop=True)\n",
    "training_set = training_set.iloc[:,0]"
   ]
  },
  {
   "cell_type": "markdown",
   "metadata": {
    "id": "i7easoxByuoR"
   },
   "source": [
    "## Computing the Gradient"
   ]
  },
  {
   "cell_type": "markdown",
   "metadata": {
    "id": "5SnyolJTyuoR"
   },
   "source": [
    "_Calculating the value of_ $\\frac{dx}{dt}$"
   ]
  },
  {
   "cell_type": "code",
   "execution_count": 4,
   "metadata": {
    "colab": {
     "base_uri": "https://localhost:8080/"
    },
    "id": "wmIbVfIvyuoR",
    "outputId": "aa4e3136-c854-465d-d2e9-81cfd546e440"
   },
   "outputs": [
    {
     "name": "stdout",
     "output_type": "stream",
     "text": [
      "1.0\n",
      "1        0.000298\n",
      "2        0.000298\n",
      "3        0.000297\n",
      "4        0.000297\n",
      "5        0.000297\n",
      "           ...   \n",
      "9996     0.000018\n",
      "9997     0.000018\n",
      "9998     0.000018\n",
      "9999     0.000018\n",
      "10000    0.000018\n",
      "Name: 0, Length: 10000, dtype: float64\n"
     ]
    }
   ],
   "source": [
    "t_diff = 1\n",
    "print(training_set.max())\n",
    "gradient_t = (training_set.diff()/t_diff).iloc[1:] # dx/dt\n",
    "print(gradient_t)"
   ]
  },
  {
   "cell_type": "markdown",
   "metadata": {
    "id": "_2eVeeoxyuoS"
   },
   "source": [
    "## Loading Datasets"
   ]
  },
  {
   "cell_type": "code",
   "execution_count": 5,
   "metadata": {
    "id": "0J-NKyIEyuoS"
   },
   "outputs": [
    {
     "data": {
      "text/plain": [
       "0       90.500000\n",
       "1       90.275910\n",
       "2       90.051821\n",
       "3       89.827731\n",
       "4       89.603641\n",
       "          ...    \n",
       "2145    57.614245\n",
       "2146    57.598668\n",
       "2147    57.583091\n",
       "2148    57.567514\n",
       "2149    57.551937\n",
       "Name: C2, Length: 2150, dtype: float64"
      ]
     },
     "execution_count": 5,
     "metadata": {},
     "output_type": "execute_result"
    }
   ],
   "source": [
    "data = pd.read_csv(\"c2_interpolated_2050_100.csv\")\n",
    "training_set = data.iloc[:, 1]\n",
    "training_set"
   ]
  },
  {
   "cell_type": "code",
   "execution_count": 6,
   "metadata": {
    "colab": {
     "base_uri": "https://localhost:8080/"
    },
    "id": "-CbNUhJ74UqF",
    "outputId": "20f562d8-8247-49cc-b9c3-00eca5e13e2d"
   },
   "outputs": [
    {
     "data": {
      "text/plain": [
       "0       90.500000\n",
       "1       90.275910\n",
       "2       90.051821\n",
       "3       89.827731\n",
       "4       89.603641\n",
       "          ...    \n",
       "2045     0.000000\n",
       "2046     0.179473\n",
       "2047     0.396685\n",
       "2048     0.544388\n",
       "2049     0.000000\n",
       "Name: C2, Length: 2050, dtype: float64"
      ]
     },
     "execution_count": 6,
     "metadata": {},
     "output_type": "execute_result"
    }
   ],
   "source": [
    "test = training_set.tail(100)\n",
    "test\n",
    "training_set = training_set.head(2050)\n",
    "training_set"
   ]
  },
  {
   "cell_type": "code",
   "execution_count": 7,
   "metadata": {
    "colab": {
     "base_uri": "https://localhost:8080/"
    },
    "id": "X0TwTcq0yuoS",
    "outputId": "37252ed8-d88e-4044-fa7a-922411990b5b"
   },
   "outputs": [
    {
     "name": "stdout",
     "output_type": "stream",
     "text": [
      "0       0.000298\n",
      "1       0.000298\n",
      "2       0.000297\n",
      "3       0.000297\n",
      "4       0.000297\n",
      "          ...   \n",
      "9995    0.000018\n",
      "9996    0.000018\n",
      "9997    0.000018\n",
      "9998    0.000018\n",
      "9999    0.000018\n",
      "Name: 0, Length: 10000, dtype: float64\n"
     ]
    }
   ],
   "source": [
    "training_set = training_set.reset_index(drop=True)\n",
    "gradient_t = gradient_t.reset_index(drop=True)\n",
    "print(gradient_t)"
   ]
  },
  {
   "cell_type": "code",
   "execution_count": 8,
   "metadata": {
    "id": "O2biznZQyuoS"
   },
   "outputs": [],
   "source": [
    "df = pd.concat((training_set, gradient_t), axis=1)\n",
    "df.columns = ['y_t', 'grad_t']"
   ]
  },
  {
   "cell_type": "code",
   "execution_count": 9,
   "metadata": {
    "colab": {
     "base_uri": "https://localhost:8080/",
     "height": 423
    },
    "id": "sk_a5v3tyuoS",
    "outputId": "17563625-e550-45ae-faab-fafa353e44da"
   },
   "outputs": [
    {
     "data": {
      "text/html": [
       "<div>\n",
       "<style scoped>\n",
       "    .dataframe tbody tr th:only-of-type {\n",
       "        vertical-align: middle;\n",
       "    }\n",
       "\n",
       "    .dataframe tbody tr th {\n",
       "        vertical-align: top;\n",
       "    }\n",
       "\n",
       "    .dataframe thead th {\n",
       "        text-align: right;\n",
       "    }\n",
       "</style>\n",
       "<table border=\"1\" class=\"dataframe\">\n",
       "  <thead>\n",
       "    <tr style=\"text-align: right;\">\n",
       "      <th></th>\n",
       "      <th>y_t</th>\n",
       "      <th>grad_t</th>\n",
       "    </tr>\n",
       "  </thead>\n",
       "  <tbody>\n",
       "    <tr>\n",
       "      <th>0</th>\n",
       "      <td>90.500000</td>\n",
       "      <td>0.000298</td>\n",
       "    </tr>\n",
       "    <tr>\n",
       "      <th>1</th>\n",
       "      <td>90.275910</td>\n",
       "      <td>0.000298</td>\n",
       "    </tr>\n",
       "    <tr>\n",
       "      <th>2</th>\n",
       "      <td>90.051821</td>\n",
       "      <td>0.000297</td>\n",
       "    </tr>\n",
       "    <tr>\n",
       "      <th>3</th>\n",
       "      <td>89.827731</td>\n",
       "      <td>0.000297</td>\n",
       "    </tr>\n",
       "    <tr>\n",
       "      <th>4</th>\n",
       "      <td>89.603641</td>\n",
       "      <td>0.000297</td>\n",
       "    </tr>\n",
       "    <tr>\n",
       "      <th>...</th>\n",
       "      <td>...</td>\n",
       "      <td>...</td>\n",
       "    </tr>\n",
       "    <tr>\n",
       "      <th>9995</th>\n",
       "      <td>NaN</td>\n",
       "      <td>0.000018</td>\n",
       "    </tr>\n",
       "    <tr>\n",
       "      <th>9996</th>\n",
       "      <td>NaN</td>\n",
       "      <td>0.000018</td>\n",
       "    </tr>\n",
       "    <tr>\n",
       "      <th>9997</th>\n",
       "      <td>NaN</td>\n",
       "      <td>0.000018</td>\n",
       "    </tr>\n",
       "    <tr>\n",
       "      <th>9998</th>\n",
       "      <td>NaN</td>\n",
       "      <td>0.000018</td>\n",
       "    </tr>\n",
       "    <tr>\n",
       "      <th>9999</th>\n",
       "      <td>NaN</td>\n",
       "      <td>0.000018</td>\n",
       "    </tr>\n",
       "  </tbody>\n",
       "</table>\n",
       "<p>10000 rows × 2 columns</p>\n",
       "</div>"
      ],
      "text/plain": [
       "            y_t    grad_t\n",
       "0     90.500000  0.000298\n",
       "1     90.275910  0.000298\n",
       "2     90.051821  0.000297\n",
       "3     89.827731  0.000297\n",
       "4     89.603641  0.000297\n",
       "...         ...       ...\n",
       "9995        NaN  0.000018\n",
       "9996        NaN  0.000018\n",
       "9997        NaN  0.000018\n",
       "9998        NaN  0.000018\n",
       "9999        NaN  0.000018\n",
       "\n",
       "[10000 rows x 2 columns]"
      ]
     },
     "execution_count": 9,
     "metadata": {},
     "output_type": "execute_result"
    }
   ],
   "source": [
    "df"
   ]
  },
  {
   "cell_type": "markdown",
   "metadata": {
    "id": "-5esyHu5aFvg"
   },
   "source": [
    "## Plot of the External Forcing from Chaotic Differential Equation"
   ]
  },
  {
   "cell_type": "code",
   "execution_count": 10,
   "metadata": {
    "colab": {
     "base_uri": "https://localhost:8080/",
     "height": 447
    },
    "id": "hGnE43tOh-4p",
    "outputId": "fc396503-b624-4fa5-dfbe-f460207405c6"
   },
   "outputs": [
    {
     "data": {
      "text/plain": [
       "<Axes: >"
      ]
     },
     "execution_count": 10,
     "metadata": {},
     "output_type": "execute_result"
    },
    {
     "data": {
      "image/png": "[encoded data removed]",
      "text/plain": [
       "<Figure size 432x288 with 1 Axes>"
      ]
     },
     "metadata": {
      "needs_background": "light"
     },
     "output_type": "display_data"
    }
   ],
   "source": [
    "df.iloc[:, 0].plot()"
   ]
  },
  {
   "cell_type": "code",
   "execution_count": 11,
   "metadata": {
    "colab": {
     "base_uri": "https://localhost:8080/",
     "height": 447
    },
    "id": "ym4xWUUxaFvg",
    "outputId": "ae6a3495-8ce9-437e-ba81-3ed31deedeae"
   },
   "outputs": [
    {
     "name": "stderr",
     "output_type": "stream",
     "text": [
      "C:\\Users\\Anurag Dutta\\AppData\\Local\\Packages\\PythonSoftwareFoundation.Python.3.9_qbz5n2kfra8p0\\LocalCache\\local-packages\\Python39\\site-packages\\pandas\\core\\arraylike.py:402: RuntimeWarning: divide by zero encountered in log\n",
      "  result = getattr(ufunc, method)(*inputs, **kwargs)\n"
     ]
    },
    {
     "data": {
      "text/plain": [
       "<Axes: >"
      ]
     },
     "execution_count": 11,
     "metadata": {},
     "output_type": "execute_result"
    },
    {
     "data": {
      "image/png": "[encoded data removed]",
      "text/plain": [
       "<Figure size 432x288 with 1 Axes>"
      ]
     },
     "metadata": {
      "needs_background": "light"
     },
     "output_type": "display_data"
    }
   ],
   "source": [
    "import numpy as np\n",
    "c0 = 88.1552  # Value for C0\n",
    "K0 = -0.0026  # Value for K0\n",
    "K1 = -0.0004  # Value for K1\n",
    "a = 0.0000    # Value for a\n",
    "b = 0.0102    # Value for b\n",
    "c = 2.8734    # Value for c\n",
    "\n",
    "L = np.minimum(c0, (df.iloc[:, 1] - (df.iloc[:, 0] * (K0 - K1 * (9 * a * np.log(df.iloc[:, 0] / c0) / (K0 - K1 * c)**2 + 4 * b * np.log(df.iloc[:, 0] / c0) / (K0 - K1 * c) + c)))))\n",
    "L.plot()"
   ]
  },
  {
   "cell_type": "markdown",
   "metadata": {
    "id": "9VyEywnwaFvh"
   },
   "source": [
    "## Preprocessing the data into supervised learning"
   ]
  },
  {
   "cell_type": "code",
   "execution_count": 12,
   "metadata": {
    "id": "6V9dXqzdaFvh"
   },
   "outputs": [],
   "source": [
    "# split a sequence into samples\n",
    "def Supervised(data, n_in=1, n_out=1, dropnan=True):\n",
    "    n_vars = 1 if type(data) is list else data.shape[1]\n",
    "    df = pd.DataFrame(data)\n",
    "    cols, names = list(), list()\n",
    "    # input sequence (t-n_in, ... t-1)\n",
    "    for i in range(n_in, 0, -1):\n",
    "        cols.append(df.shift(i))\n",
    "        names += [('var%d(t-%d)' % (j+1, i)) for j in range(n_vars)]\n",
    "    # forecast sequence (t, t+1, ... t+n_out)\n",
    "    for i in range(0, n_out):\n",
    "      cols.append(df.shift(-i))\n",
    "      if i == 0:\n",
    "        names += [('var%d(t)' % (j+1)) for j in range(n_vars)]\n",
    "      else:\n",
    "        names += [('var%d(t+%d)' % (j+1, i)) for j in range(n_vars)]\n",
    "    # put it all together\n",
    "    agg = pd.concat(cols, axis=1)\n",
    "    agg.columns = names\n",
    "    # drop rows with NaN values\n",
    "    if dropnan:\n",
    "       agg.dropna(inplace=True)\n",
    "    return agg"
   ]
  },
  {
   "cell_type": "code",
   "execution_count": 13,
   "metadata": {
    "colab": {
     "base_uri": "https://localhost:8080/"
    },
    "id": "CrzSrT1HnyfH",
    "outputId": "7e75f928-3e47-499d-eac1-51908015ef78"
   },
   "outputs": [
    {
     "name": "stdout",
     "output_type": "stream",
     "text": [
      "     var1(t-350)  var1(t-349)  var1(t-348)  var1(t-347)  var1(t-346)  \\\n",
      "350    90.500000    90.275910    90.051821    89.827731    89.603641   \n",
      "351    90.275910    90.051821    89.827731    89.603641    89.379552   \n",
      "352    90.051821    89.827731    89.603641    89.379552    89.155462   \n",
      "353    89.827731    89.603641    89.379552    89.155462    88.931373   \n",
      "354    89.603641    89.379552    89.155462    88.931373    88.707283   \n",
      "\n",
      "     var1(t-345)  var1(t-344)  var1(t-343)  var1(t-342)  var1(t-341)  ...  \\\n",
      "350    89.379552    89.155462    88.931373    88.707283    88.494958  ...   \n",
      "351    89.155462    88.931373    88.707283    88.494958    88.427731  ...   \n",
      "352    88.931373    88.707283    88.494958    88.427731    88.360504  ...   \n",
      "353    88.707283    88.494958    88.427731    88.360504    88.293277  ...   \n",
      "354    88.494958    88.427731    88.360504    88.293277    88.226050  ...   \n",
      "\n",
      "     var1(t+95)  var2(t+95)  var1(t+96)  var2(t+96)  var1(t+97)  var2(t+97)  \\\n",
      "350   79.071008    0.000263   79.054202    0.000263   79.037395    0.000263   \n",
      "351   79.054202    0.000263   79.037395    0.000263   79.020588    0.000262   \n",
      "352   79.037395    0.000263   79.020588    0.000262   79.003782    0.000262   \n",
      "353   79.020588    0.000262   79.003782    0.000262   78.986975    0.000262   \n",
      "354   79.003782    0.000262   78.986975    0.000262   78.970168    0.000262   \n",
      "\n",
      "     var1(t+98)  var2(t+98)  var1(t+99)  var2(t+99)  \n",
      "350   79.020588    0.000262   79.003782    0.000262  \n",
      "351   79.003782    0.000262   78.986975    0.000262  \n",
      "352   78.986975    0.000262   78.970168    0.000262  \n",
      "353   78.970168    0.000262   78.953361    0.000262  \n",
      "354   78.953361    0.000262   78.936555    0.000262  \n",
      "\n",
      "[5 rows x 551 columns]\n",
      "Index(['var1(t-350)', 'var1(t-349)', 'var1(t-348)', 'var1(t-347)',\n",
      "       'var1(t-346)', 'var1(t-345)', 'var1(t-344)', 'var1(t-343)',\n",
      "       'var1(t-342)', 'var1(t-341)',\n",
      "       ...\n",
      "       'var1(t+95)', 'var2(t+95)', 'var1(t+96)', 'var2(t+96)', 'var1(t+97)',\n",
      "       'var2(t+97)', 'var1(t+98)', 'var2(t+98)', 'var1(t+99)', 'var2(t+99)'],\n",
      "      dtype='object', length=551)\n"
     ]
    }
   ],
   "source": [
    "data = Supervised(df.values, n_in = 350, n_out = 100)\n",
    "\n",
    "\n",
    "cols_to_drop = []\n",
    "for i in range(2, 351):\n",
    "    cols_to_drop.extend([f'var2(t-{i})'])\n",
    "\n",
    "data.drop(cols_to_drop, axis=1, inplace=True)\n",
    "\n",
    "print(data.head())\n",
    "print(data.columns)"
   ]
  },
  {
   "cell_type": "code",
   "execution_count": 14,
   "metadata": {
    "id": "AfPf60oy6Pe4"
   },
   "outputs": [],
   "source": [
    "train = np.array(data[0:len(data)-1])\n",
    "forecast = np.array(data.tail(1))"
   ]
  },
  {
   "cell_type": "code",
   "execution_count": 15,
   "metadata": {
    "id": "WSAafzI37KiT"
   },
   "outputs": [],
   "source": [
    "trainy = train[:,-300:]\n",
    "trainX = train[:,:-300]"
   ]
  },
  {
   "cell_type": "code",
   "execution_count": 16,
   "metadata": {
    "id": "2SrOqVJA7f50"
   },
   "outputs": [],
   "source": [
    "forecasty = forecast[:,-300:]\n",
    "forecastX = forecast[:,:-300]"
   ]
  },
  {
   "cell_type": "code",
   "execution_count": 17,
   "metadata": {
    "colab": {
     "base_uri": "https://localhost:8080/"
    },
    "id": "Qno_k8Nw7saY",
    "outputId": "c4a88db5-d8c6-489f-cdb2-06b24e293cff"
   },
   "outputs": [
    {
     "name": "stdout",
     "output_type": "stream",
     "text": [
      "(1600, 1, 251) (1600, 300) (1, 1, 251)\n"
     ]
    }
   ],
   "source": [
    "trainX = trainX.reshape((trainX.shape[0], 1, trainX.shape[1]))\n",
    "forecastX = forecastX.reshape((forecastX.shape[0], 1, forecastX.shape[1]))\n",
    "print(trainX.shape, trainy.shape, forecastX.shape)"
   ]
  },
  {
   "cell_type": "code",
   "execution_count": 18,
   "metadata": {
    "colab": {
     "base_uri": "https://localhost:8080/"
    },
    "id": "b1Jp2DvNuNFx",
    "outputId": "d0e5b3c4-64f1-438c-eade-8dfeaac8e285"
   },
   "outputs": [
    {
     "name": "stdout",
     "output_type": "stream",
     "text": [
      "Epoch 1/500\n",
      "20/20 [==============================] - 2s 25ms/step - loss: 5346.2495 - val_loss: 4139.8223\n",
      "Epoch 2/500\n",
      "20/20 [==============================] - 0s 4ms/step - loss: 5260.3706 - val_loss: 4062.6616\n",
      "Epoch 3/500\n",
      "20/20 [==============================] - 0s 3ms/step - loss: 5173.6392 - val_loss: 4004.5828\n",
      "Epoch 4/500\n",
      "20/20 [==============================] - 0s 3ms/step - loss: 5106.0742 - val_loss: 3947.3022\n",
      "Epoch 5/500\n",
      "20/20 [==============================] - 0s 3ms/step - loss: 5039.6123 - val_loss: 3891.0391\n",
      "Epoch 6/500\n",
      "20/20 [==============================] - 0s 4ms/step - loss: 4974.1802 - val_loss: 3835.6328\n",
      "Epoch 7/500\n",
      "20/20 [==============================] - 0s 3ms/step - loss: 4909.6221 - val_loss: 3780.9819\n",
      "Epoch 8/500\n",
      "20/20 [==============================] - 0s 3ms/step - loss: 4845.8467 - val_loss: 3725.0894\n",
      "Epoch 9/500\n",
      "20/20 [==============================] - 0s 4ms/step - loss: 4770.2388 - val_loss: 3660.2527\n",
      "Epoch 10/500\n",
      "20/20 [==============================] - 0s 3ms/step - loss: 4702.3721 - val_loss: 3603.6907\n",
      "Epoch 11/500\n",
      "20/20 [==============================] - 0s 5ms/step - loss: 4636.4702 - val_loss: 3548.4531\n",
      "Epoch 12/500\n",
      "20/20 [==============================] - 0s 5ms/step - loss: 4571.8999 - val_loss: 3494.2747\n",
      "Epoch 13/500\n",
      "20/20 [==============================] - 0s 4ms/step - loss: 4508.4033 - val_loss: 3440.9922\n",
      "Epoch 14/500\n",
      "20/20 [==============================] - 0s 4ms/step - loss: 4445.8325 - val_loss: 3388.5110\n",
      "Epoch 15/500\n",
      "20/20 [==============================] - 0s 8ms/step - loss: 4384.0981 - val_loss: 3336.7734\n",
      "Epoch 16/500\n",
      "20/20 [==============================] - 0s 4ms/step - loss: 4323.1436 - val_loss: 3285.7388\n",
      "Epoch 17/500\n",
      "20/20 [==============================] - 0s 3ms/step - loss: 4262.9312 - val_loss: 3235.3784\n",
      "Epoch 18/500\n",
      "20/20 [==============================] - 0s 3ms/step - loss: 4203.4302 - val_loss: 3185.6697\n",
      "Epoch 19/500\n",
      "20/20 [==============================] - 0s 4ms/step - loss: 4144.6162 - val_loss: 3136.5955\n",
      "Epoch 20/500\n",
      "20/20 [==============================] - 0s 4ms/step - loss: 4086.4746 - val_loss: 3088.1409\n",
      "Epoch 21/500\n",
      "20/20 [==============================] - 0s 3ms/step - loss: 4028.9871 - val_loss: 3040.2927\n",
      "Epoch 22/500\n",
      "20/20 [==============================] - 0s 4ms/step - loss: 3972.1426 - val_loss: 2993.0405\n",
      "Epoch 23/500\n",
      "20/20 [==============================] - 0s 4ms/step - loss: 3915.9272 - val_loss: 2946.3745\n",
      "Epoch 24/500\n",
      "20/20 [==============================] - 0s 3ms/step - loss: 3860.3333 - val_loss: 2900.2864\n",
      "Epoch 25/500\n",
      "20/20 [==============================] - 0s 3ms/step - loss: 3805.3508 - val_loss: 2854.7671\n",
      "Epoch 26/500\n",
      "20/20 [==============================] - 0s 4ms/step - loss: 3750.9712 - val_loss: 2809.8098\n",
      "Epoch 27/500\n",
      "20/20 [==============================] - 0s 4ms/step - loss: 3697.1860 - val_loss: 2765.4084\n",
      "Epoch 28/500\n",
      "20/20 [==============================] - 0s 5ms/step - loss: 3643.9890 - val_loss: 2721.5554\n",
      "Epoch 29/500\n",
      "20/20 [==============================] - 0s 3ms/step - loss: 3591.3730 - val_loss: 2678.2449\n",
      "Epoch 30/500\n",
      "20/20 [==============================] - 0s 3ms/step - loss: 3539.3328 - val_loss: 2635.4707\n",
      "Epoch 31/500\n",
      "20/20 [==============================] - 0s 3ms/step - loss: 3487.8608 - val_loss: 2593.2285\n",
      "Epoch 32/500\n",
      "20/20 [==============================] - 0s 3ms/step - loss: 3436.9519 - val_loss: 2551.5115\n",
      "Epoch 33/500\n",
      "20/20 [==============================] - 0s 4ms/step - loss: 3386.6003 - val_loss: 2510.3149\n",
      "Epoch 34/500\n",
      "20/20 [==============================] - 0s 4ms/step - loss: 3336.8013 - val_loss: 2469.6338\n",
      "Epoch 35/500\n",
      "20/20 [==============================] - 0s 4ms/step - loss: 3287.5476 - val_loss: 2429.4629\n",
      "Epoch 36/500\n",
      "20/20 [==============================] - 0s 4ms/step - loss: 3238.8354 - val_loss: 2389.7983\n",
      "Epoch 37/500\n",
      "20/20 [==============================] - 0s 5ms/step - loss: 3190.6616 - val_loss: 2350.6348\n",
      "Epoch 38/500\n",
      "20/20 [==============================] - 0s 4ms/step - loss: 3143.0190 - val_loss: 2311.9673\n",
      "Epoch 39/500\n",
      "20/20 [==============================] - 0s 5ms/step - loss: 3095.9026 - val_loss: 2273.7915\n",
      "Epoch 40/500\n",
      "20/20 [==============================] - 0s 5ms/step - loss: 3049.3101 - val_loss: 2236.1045\n",
      "Epoch 41/500\n",
      "20/20 [==============================] - 0s 5ms/step - loss: 3003.2351 - val_loss: 2198.9001\n",
      "Epoch 42/500\n",
      "20/20 [==============================] - 0s 4ms/step - loss: 2957.6743 - val_loss: 2162.1753\n",
      "Epoch 43/500\n",
      "20/20 [==============================] - 0s 5ms/step - loss: 2912.6223 - val_loss: 2125.9250\n",
      "Epoch 44/500\n",
      "20/20 [==============================] - 0s 4ms/step - loss: 2868.0754 - val_loss: 2090.1460\n",
      "Epoch 45/500\n",
      "20/20 [==============================] - 0s 4ms/step - loss: 2824.0298 - val_loss: 2054.8335\n",
      "Epoch 46/500\n",
      "20/20 [==============================] - 0s 3ms/step - loss: 2780.4805 - val_loss: 2019.9834\n",
      "Epoch 47/500\n",
      "20/20 [==============================] - 0s 3ms/step - loss: 2737.4241 - val_loss: 1985.5925\n",
      "Epoch 48/500\n",
      "20/20 [==============================] - 0s 4ms/step - loss: 2694.8560 - val_loss: 1951.6570\n",
      "Epoch 49/500\n",
      "20/20 [==============================] - 0s 5ms/step - loss: 2652.7732 - val_loss: 1918.1722\n",
      "Epoch 50/500\n",
      "20/20 [==============================] - 0s 6ms/step - loss: 2611.1714 - val_loss: 1885.1355\n",
      "Epoch 51/500\n",
      "20/20 [==============================] - 0s 5ms/step - loss: 2570.0459 - val_loss: 1852.5413\n",
      "Epoch 52/500\n",
      "20/20 [==============================] - 0s 4ms/step - loss: 2529.3940 - val_loss: 1820.3877\n",
      "Epoch 53/500\n",
      "20/20 [==============================] - 0s 8ms/step - loss: 2489.2114 - val_loss: 1788.6703\n",
      "Epoch 54/500\n",
      "20/20 [==============================] - 0s 4ms/step - loss: 2449.4944 - val_loss: 1757.3857\n",
      "Epoch 55/500\n",
      "20/20 [==============================] - 0s 4ms/step - loss: 2410.2395 - val_loss: 1726.5300\n",
      "Epoch 56/500\n",
      "20/20 [==============================] - 0s 4ms/step - loss: 2371.4434 - val_loss: 1696.0999\n",
      "Epoch 57/500\n",
      "20/20 [==============================] - 0s 3ms/step - loss: 2333.1018 - val_loss: 1666.0912\n",
      "Epoch 58/500\n",
      "20/20 [==============================] - 0s 3ms/step - loss: 2295.2112 - val_loss: 1636.5017\n",
      "Epoch 59/500\n",
      "20/20 [==============================] - 0s 3ms/step - loss: 2257.7681 - val_loss: 1607.3269\n",
      "Epoch 60/500\n",
      "20/20 [==============================] - 0s 3ms/step - loss: 2220.7690 - val_loss: 1578.5625\n",
      "Epoch 61/500\n",
      "20/20 [==============================] - 0s 4ms/step - loss: 2184.2104 - val_loss: 1550.2069\n",
      "Epoch 62/500\n",
      "20/20 [==============================] - 0s 4ms/step - loss: 2148.0889 - val_loss: 1522.2562\n",
      "Epoch 63/500\n",
      "20/20 [==============================] - 0s 5ms/step - loss: 2112.4023 - val_loss: 1494.7068\n",
      "Epoch 64/500\n",
      "20/20 [==============================] - 0s 5ms/step - loss: 2077.1450 - val_loss: 1467.5551\n",
      "Epoch 65/500\n",
      "20/20 [==============================] - 0s 4ms/step - loss: 2042.3151 - val_loss: 1440.7982\n",
      "Epoch 66/500\n",
      "20/20 [==============================] - 0s 4ms/step - loss: 2007.9088 - val_loss: 1414.4326\n",
      "Epoch 67/500\n",
      "20/20 [==============================] - 0s 4ms/step - loss: 1973.9229 - val_loss: 1388.4552\n",
      "Epoch 68/500\n",
      "20/20 [==============================] - 0s 3ms/step - loss: 1940.3541 - val_loss: 1362.8623\n",
      "Epoch 69/500\n",
      "20/20 [==============================] - 0s 3ms/step - loss: 1907.1992 - val_loss: 1337.6512\n",
      "Epoch 70/500\n",
      "20/20 [==============================] - 0s 3ms/step - loss: 1874.4543 - val_loss: 1312.8185\n",
      "Epoch 71/500\n",
      "20/20 [==============================] - 0s 4ms/step - loss: 1842.1168 - val_loss: 1288.3610\n",
      "Epoch 72/500\n",
      "20/20 [==============================] - 0s 3ms/step - loss: 1810.1840 - val_loss: 1264.2751\n",
      "Epoch 73/500\n",
      "20/20 [==============================] - 0s 3ms/step - loss: 1778.6516 - val_loss: 1240.5583\n",
      "Epoch 74/500\n",
      "20/20 [==============================] - 0s 4ms/step - loss: 1747.5173 - val_loss: 1217.2073\n",
      "Epoch 75/500\n",
      "20/20 [==============================] - 0s 4ms/step - loss: 1716.7777 - val_loss: 1194.2190\n",
      "Epoch 76/500\n",
      "20/20 [==============================] - 0s 4ms/step - loss: 1686.4294 - val_loss: 1171.5905\n",
      "Epoch 77/500\n",
      "20/20 [==============================] - 0s 3ms/step - loss: 1656.4701 - val_loss: 1149.3176\n",
      "Epoch 78/500\n",
      "20/20 [==============================] - 0s 3ms/step - loss: 1626.8962 - val_loss: 1127.3982\n",
      "Epoch 79/500\n",
      "20/20 [==============================] - 0s 4ms/step - loss: 1597.7043 - val_loss: 1105.8298\n",
      "Epoch 80/500\n",
      "20/20 [==============================] - 0s 3ms/step - loss: 1568.8918 - val_loss: 1084.6084\n",
      "Epoch 81/500\n",
      "20/20 [==============================] - 0s 4ms/step - loss: 1540.4557 - val_loss: 1063.7312\n",
      "Epoch 82/500\n",
      "20/20 [==============================] - 0s 4ms/step - loss: 1512.3931 - val_loss: 1043.1949\n",
      "Epoch 83/500\n",
      "20/20 [==============================] - 0s 3ms/step - loss: 1484.7006 - val_loss: 1022.9974\n",
      "Epoch 84/500\n",
      "20/20 [==============================] - 0s 4ms/step - loss: 1457.3757 - val_loss: 1003.1354\n",
      "Epoch 85/500\n",
      "20/20 [==============================] - 0s 3ms/step - loss: 1430.4154 - val_loss: 983.6053\n",
      "Epoch 86/500\n",
      "20/20 [==============================] - 0s 4ms/step - loss: 1403.8162 - val_loss: 964.4050\n",
      "Epoch 87/500\n",
      "20/20 [==============================] - 0s 3ms/step - loss: 1377.5756 - val_loss: 945.5312\n",
      "Epoch 88/500\n",
      "20/20 [==============================] - 0s 9ms/step - loss: 1351.6912 - val_loss: 926.9808\n",
      "Epoch 89/500\n",
      "20/20 [==============================] - 0s 4ms/step - loss: 1326.1597 - val_loss: 908.7510\n",
      "Epoch 90/500\n",
      "20/20 [==============================] - 0s 3ms/step - loss: 1300.9778 - val_loss: 890.8394\n",
      "Epoch 91/500\n",
      "20/20 [==============================] - 0s 3ms/step - loss: 1276.1426 - val_loss: 873.2419\n",
      "Epoch 92/500\n",
      "20/20 [==============================] - 0s 3ms/step - loss: 1251.6520 - val_loss: 855.9570\n",
      "Epoch 93/500\n",
      "20/20 [==============================] - 0s 3ms/step - loss: 1227.5026 - val_loss: 838.9810\n",
      "Epoch 94/500\n",
      "20/20 [==============================] - 0s 4ms/step - loss: 1203.6918 - val_loss: 822.3112\n",
      "Epoch 95/500\n",
      "20/20 [==============================] - 0s 4ms/step - loss: 1180.2167 - val_loss: 805.9448\n",
      "Epoch 96/500\n",
      "20/20 [==============================] - 0s 4ms/step - loss: 1157.0747 - val_loss: 789.8792\n",
      "Epoch 97/500\n",
      "20/20 [==============================] - 0s 3ms/step - loss: 1134.2632 - val_loss: 774.1117\n",
      "Epoch 98/500\n",
      "20/20 [==============================] - 0s 4ms/step - loss: 1111.7788 - val_loss: 758.6385\n",
      "Epoch 99/500\n",
      "20/20 [==============================] - 0s 3ms/step - loss: 1089.6189 - val_loss: 743.4577\n",
      "Epoch 100/500\n",
      "20/20 [==============================] - 0s 3ms/step - loss: 1067.7809 - val_loss: 728.5665\n",
      "Epoch 101/500\n",
      "20/20 [==============================] - 0s 3ms/step - loss: 1046.2625 - val_loss: 713.9615\n",
      "Epoch 102/500\n",
      "20/20 [==============================] - 0s 4ms/step - loss: 1025.0599 - val_loss: 699.6403\n",
      "Epoch 103/500\n",
      "20/20 [==============================] - 0s 4ms/step - loss: 1004.1713 - val_loss: 685.6003\n",
      "Epoch 104/500\n",
      "20/20 [==============================] - 0s 3ms/step - loss: 983.5936 - val_loss: 671.8381\n",
      "Epoch 105/500\n",
      "20/20 [==============================] - 0s 3ms/step - loss: 963.3242 - val_loss: 658.3520\n",
      "Epoch 106/500\n",
      "20/20 [==============================] - 0s 3ms/step - loss: 943.3604 - val_loss: 645.1385\n",
      "Epoch 107/500\n",
      "20/20 [==============================] - 0s 3ms/step - loss: 923.6995 - val_loss: 632.1952\n",
      "Epoch 108/500\n",
      "20/20 [==============================] - 0s 3ms/step - loss: 904.3392 - val_loss: 619.5187\n",
      "Epoch 109/500\n",
      "20/20 [==============================] - 0s 4ms/step - loss: 885.2764 - val_loss: 607.1072\n",
      "Epoch 110/500\n",
      "20/20 [==============================] - 0s 5ms/step - loss: 866.5083 - val_loss: 594.9572\n",
      "Epoch 111/500\n",
      "20/20 [==============================] - 0s 4ms/step - loss: 848.0325 - val_loss: 583.0664\n",
      "Epoch 112/500\n",
      "20/20 [==============================] - 0s 4ms/step - loss: 829.8466 - val_loss: 571.4318\n",
      "Epoch 113/500\n",
      "20/20 [==============================] - 0s 4ms/step - loss: 811.9476 - val_loss: 560.0515\n",
      "Epoch 114/500\n",
      "20/20 [==============================] - 0s 3ms/step - loss: 794.3329 - val_loss: 548.9214\n",
      "Epoch 115/500\n",
      "20/20 [==============================] - 0s 3ms/step - loss: 777.0001 - val_loss: 538.0399\n",
      "Epoch 116/500\n",
      "20/20 [==============================] - 0s 4ms/step - loss: 759.9465 - val_loss: 527.4039\n",
      "Epoch 117/500\n",
      "20/20 [==============================] - 0s 4ms/step - loss: 743.1693 - val_loss: 517.0112\n",
      "Epoch 118/500\n",
      "20/20 [==============================] - 0s 4ms/step - loss: 726.6661 - val_loss: 506.8582\n",
      "Epoch 119/500\n",
      "20/20 [==============================] - 0s 4ms/step - loss: 710.4344 - val_loss: 496.9430\n",
      "Epoch 120/500\n",
      "20/20 [==============================] - 0s 4ms/step - loss: 694.4715 - val_loss: 487.2625\n",
      "Epoch 121/500\n",
      "20/20 [==============================] - 0s 5ms/step - loss: 678.7747 - val_loss: 477.8143\n",
      "Epoch 122/500\n",
      "20/20 [==============================] - 0s 5ms/step - loss: 663.3414 - val_loss: 468.5956\n",
      "Epoch 123/500\n",
      "20/20 [==============================] - 0s 5ms/step - loss: 648.1691 - val_loss: 459.6039\n",
      "Epoch 124/500\n",
      "20/20 [==============================] - 0s 7ms/step - loss: 633.2555 - val_loss: 450.8363\n",
      "Epoch 125/500\n",
      "20/20 [==============================] - 0s 7ms/step - loss: 618.5978 - val_loss: 442.2902\n",
      "Epoch 126/500\n",
      "20/20 [==============================] - 0s 4ms/step - loss: 604.1937 - val_loss: 433.9633\n",
      "Epoch 127/500\n",
      "20/20 [==============================] - 0s 4ms/step - loss: 590.0406 - val_loss: 425.8531\n",
      "Epoch 128/500\n",
      "20/20 [==============================] - 0s 3ms/step - loss: 576.1359 - val_loss: 417.9557\n",
      "Epoch 129/500\n",
      "20/20 [==============================] - 0s 3ms/step - loss: 562.4767 - val_loss: 410.2697\n",
      "Epoch 130/500\n",
      "20/20 [==============================] - 0s 4ms/step - loss: 549.0609 - val_loss: 402.7923\n",
      "Epoch 131/500\n",
      "20/20 [==============================] - 0s 3ms/step - loss: 535.8861 - val_loss: 395.5204\n",
      "Epoch 132/500\n",
      "20/20 [==============================] - 0s 4ms/step - loss: 522.9493 - val_loss: 388.4517\n",
      "Epoch 133/500\n",
      "20/20 [==============================] - 0s 5ms/step - loss: 510.2481 - val_loss: 381.5836\n",
      "Epoch 134/500\n",
      "20/20 [==============================] - 0s 4ms/step - loss: 497.7805 - val_loss: 374.9134\n",
      "Epoch 135/500\n",
      "20/20 [==============================] - 0s 5ms/step - loss: 485.5434 - val_loss: 368.4383\n",
      "Epoch 136/500\n",
      "20/20 [==============================] - 0s 4ms/step - loss: 473.5345 - val_loss: 362.1556\n",
      "Epoch 137/500\n",
      "20/20 [==============================] - 0s 5ms/step - loss: 461.7514 - val_loss: 356.0635\n",
      "Epoch 138/500\n",
      "20/20 [==============================] - 0s 5ms/step - loss: 450.1917 - val_loss: 350.1588\n",
      "Epoch 139/500\n",
      "20/20 [==============================] - 0s 4ms/step - loss: 438.8527 - val_loss: 344.4387\n",
      "Epoch 140/500\n",
      "20/20 [==============================] - 0s 5ms/step - loss: 427.7319 - val_loss: 338.9009\n",
      "Epoch 141/500\n",
      "20/20 [==============================] - 0s 5ms/step - loss: 416.8268 - val_loss: 333.5429\n",
      "Epoch 142/500\n",
      "20/20 [==============================] - 0s 5ms/step - loss: 406.1353 - val_loss: 328.3619\n",
      "Epoch 143/500\n",
      "20/20 [==============================] - 0s 5ms/step - loss: 395.6544 - val_loss: 323.3554\n",
      "Epoch 144/500\n",
      "20/20 [==============================] - 0s 5ms/step - loss: 385.3821 - val_loss: 318.5207\n",
      "Epoch 145/500\n",
      "20/20 [==============================] - 0s 4ms/step - loss: 375.3159 - val_loss: 313.8554\n",
      "Epoch 146/500\n",
      "20/20 [==============================] - 0s 5ms/step - loss: 365.4531 - val_loss: 309.3568\n",
      "Epoch 147/500\n",
      "20/20 [==============================] - 0s 5ms/step - loss: 355.7914 - val_loss: 305.0225\n",
      "Epoch 148/500\n",
      "20/20 [==============================] - 0s 4ms/step - loss: 346.3282 - val_loss: 300.8494\n",
      "Epoch 149/500\n",
      "20/20 [==============================] - 0s 5ms/step - loss: 337.0611 - val_loss: 296.8355\n",
      "Epoch 150/500\n",
      "20/20 [==============================] - 0s 4ms/step - loss: 327.9879 - val_loss: 292.9783\n",
      "Epoch 151/500\n",
      "20/20 [==============================] - 0s 4ms/step - loss: 319.1060 - val_loss: 289.2749\n",
      "Epoch 152/500\n",
      "20/20 [==============================] - 0s 4ms/step - loss: 310.4128 - val_loss: 285.7226\n",
      "Epoch 153/500\n",
      "20/20 [==============================] - 0s 10ms/step - loss: 301.9061 - val_loss: 282.3191\n",
      "Epoch 154/500\n",
      "20/20 [==============================] - 0s 5ms/step - loss: 293.5835 - val_loss: 279.0621\n",
      "Epoch 155/500\n",
      "20/20 [==============================] - 0s 5ms/step - loss: 285.4423 - val_loss: 275.9485\n",
      "Epoch 156/500\n",
      "20/20 [==============================] - 0s 5ms/step - loss: 277.4806 - val_loss: 272.9764\n",
      "Epoch 157/500\n",
      "20/20 [==============================] - 0s 4ms/step - loss: 269.6957 - val_loss: 270.1428\n",
      "Epoch 158/500\n",
      "20/20 [==============================] - 0s 4ms/step - loss: 262.0850 - val_loss: 267.4453\n",
      "Epoch 159/500\n",
      "20/20 [==============================] - 0s 4ms/step - loss: 254.6467 - val_loss: 264.8815\n",
      "Epoch 160/500\n",
      "20/20 [==============================] - 0s 5ms/step - loss: 247.3780 - val_loss: 262.4486\n",
      "Epoch 161/500\n",
      "20/20 [==============================] - 0s 4ms/step - loss: 240.2762 - val_loss: 260.1443\n",
      "Epoch 162/500\n",
      "20/20 [==============================] - 0s 5ms/step - loss: 233.3393 - val_loss: 257.9662\n",
      "Epoch 163/500\n",
      "20/20 [==============================] - 0s 5ms/step - loss: 226.5652 - val_loss: 255.9116\n",
      "Epoch 164/500\n",
      "20/20 [==============================] - 0s 4ms/step - loss: 219.9511 - val_loss: 253.9781\n",
      "Epoch 165/500\n",
      "20/20 [==============================] - 0s 5ms/step - loss: 213.4949 - val_loss: 252.1632\n",
      "Epoch 166/500\n",
      "20/20 [==============================] - 0s 5ms/step - loss: 207.1941 - val_loss: 250.4645\n",
      "Epoch 167/500\n",
      "20/20 [==============================] - 0s 4ms/step - loss: 201.0465 - val_loss: 248.8794\n",
      "Epoch 168/500\n",
      "20/20 [==============================] - 0s 5ms/step - loss: 195.0493 - val_loss: 247.4056\n",
      "Epoch 169/500\n",
      "20/20 [==============================] - 0s 5ms/step - loss: 189.2009 - val_loss: 246.0405\n",
      "Epoch 170/500\n",
      "20/20 [==============================] - 0s 4ms/step - loss: 183.4985 - val_loss: 244.7817\n",
      "Epoch 171/500\n",
      "20/20 [==============================] - 0s 5ms/step - loss: 177.9400 - val_loss: 243.6269\n",
      "Epoch 172/500\n",
      "20/20 [==============================] - 0s 5ms/step - loss: 172.5231 - val_loss: 242.5736\n",
      "Epoch 173/500\n",
      "20/20 [==============================] - 0s 4ms/step - loss: 167.2453 - val_loss: 241.6193\n",
      "Epoch 174/500\n",
      "20/20 [==============================] - 0s 5ms/step - loss: 162.1046 - val_loss: 240.7618\n",
      "Epoch 175/500\n",
      "20/20 [==============================] - 0s 5ms/step - loss: 157.0982 - val_loss: 239.9985\n",
      "Epoch 176/500\n",
      "20/20 [==============================] - 0s 4ms/step - loss: 152.2243 - val_loss: 239.3271\n",
      "Epoch 177/500\n",
      "20/20 [==============================] - 0s 4ms/step - loss: 147.4805 - val_loss: 238.7453\n",
      "Epoch 178/500\n",
      "20/20 [==============================] - 0s 4ms/step - loss: 142.8647 - val_loss: 238.2507\n",
      "Epoch 179/500\n",
      "20/20 [==============================] - 0s 3ms/step - loss: 138.3747 - val_loss: 237.8409\n",
      "Epoch 180/500\n",
      "20/20 [==============================] - 0s 3ms/step - loss: 134.0079 - val_loss: 237.5137\n",
      "Epoch 181/500\n",
      "20/20 [==============================] - 0s 4ms/step - loss: 129.7623 - val_loss: 237.2667\n",
      "Epoch 182/500\n",
      "20/20 [==============================] - 0s 8ms/step - loss: 125.6357 - val_loss: 237.0976\n",
      "Epoch 183/500\n",
      "20/20 [==============================] - 0s 4ms/step - loss: 121.6258 - val_loss: 237.0042\n",
      "Epoch 184/500\n",
      "20/20 [==============================] - 0s 3ms/step - loss: 117.7305 - val_loss: 236.9841\n",
      "Epoch 185/500\n",
      "20/20 [==============================] - 0s 3ms/step - loss: 113.9478 - val_loss: 237.0352\n",
      "Epoch 186/500\n",
      "20/20 [==============================] - 0s 4ms/step - loss: 110.2753 - val_loss: 237.1552\n",
      "Epoch 187/500\n",
      "20/20 [==============================] - 0s 3ms/step - loss: 106.7109 - val_loss: 237.3418\n",
      "Epoch 188/500\n",
      "20/20 [==============================] - 0s 3ms/step - loss: 103.2525 - val_loss: 237.5928\n",
      "Epoch 189/500\n",
      "20/20 [==============================] - 0s 3ms/step - loss: 99.8979 - val_loss: 237.9062\n",
      "Epoch 190/500\n",
      "20/20 [==============================] - 0s 3ms/step - loss: 96.6450 - val_loss: 238.2796\n",
      "Epoch 191/500\n",
      "20/20 [==============================] - 0s 4ms/step - loss: 93.4918 - val_loss: 238.7111\n",
      "Epoch 192/500\n",
      "20/20 [==============================] - 0s 3ms/step - loss: 90.4362 - val_loss: 239.1983\n",
      "Epoch 193/500\n",
      "20/20 [==============================] - 0s 3ms/step - loss: 87.4763 - val_loss: 239.7393\n",
      "Epoch 194/500\n",
      "20/20 [==============================] - 0s 4ms/step - loss: 84.6097 - val_loss: 240.3320\n",
      "Epoch 195/500\n",
      "20/20 [==============================] - 0s 4ms/step - loss: 81.8347 - val_loss: 240.9742\n",
      "Epoch 196/500\n",
      "20/20 [==============================] - 0s 4ms/step - loss: 79.1490 - val_loss: 241.6639\n",
      "Epoch 197/500\n",
      "20/20 [==============================] - 0s 5ms/step - loss: 76.5508 - val_loss: 242.3992\n",
      "Epoch 198/500\n",
      "20/20 [==============================] - 0s 4ms/step - loss: 74.0380 - val_loss: 243.1780\n",
      "Epoch 199/500\n",
      "20/20 [==============================] - 0s 3ms/step - loss: 71.6088 - val_loss: 243.9984\n",
      "Epoch 200/500\n",
      "20/20 [==============================] - 0s 3ms/step - loss: 69.2611 - val_loss: 244.8584\n",
      "Epoch 201/500\n",
      "20/20 [==============================] - 0s 3ms/step - loss: 66.9931 - val_loss: 245.7560\n",
      "Epoch 202/500\n",
      "20/20 [==============================] - 0s 3ms/step - loss: 64.8027 - val_loss: 246.6894\n",
      "Epoch 203/500\n",
      "20/20 [==============================] - 0s 3ms/step - loss: 62.6884 - val_loss: 247.6567\n",
      "Epoch 204/500\n",
      "20/20 [==============================] - 0s 4ms/step - loss: 60.6479 - val_loss: 248.6561\n",
      "Epoch 205/500\n",
      "20/20 [==============================] - 0s 3ms/step - loss: 58.6796 - val_loss: 249.6856\n",
      "Epoch 206/500\n",
      "20/20 [==============================] - 0s 3ms/step - loss: 56.7817 - val_loss: 250.7437\n",
      "Epoch 207/500\n",
      "20/20 [==============================] - 0s 3ms/step - loss: 54.9523 - val_loss: 251.8284\n",
      "Epoch 208/500\n",
      "20/20 [==============================] - 0s 4ms/step - loss: 53.1896 - val_loss: 252.9381\n",
      "Epoch 209/500\n",
      "20/20 [==============================] - 0s 3ms/step - loss: 51.4919 - val_loss: 254.0710\n",
      "Epoch 210/500\n",
      "20/20 [==============================] - 0s 4ms/step - loss: 49.8574 - val_loss: 255.2255\n",
      "Epoch 211/500\n",
      "20/20 [==============================] - 0s 4ms/step - loss: 48.2844 - val_loss: 256.3998\n",
      "Epoch 212/500\n",
      "20/20 [==============================] - 0s 10ms/step - loss: 46.7713 - val_loss: 257.5925\n",
      "Epoch 213/500\n",
      "20/20 [==============================] - 0s 4ms/step - loss: 45.3163 - val_loss: 258.8018\n",
      "Epoch 214/500\n",
      "20/20 [==============================] - 0s 5ms/step - loss: 43.9179 - val_loss: 260.0264\n",
      "Epoch 215/500\n",
      "20/20 [==============================] - 0s 5ms/step - loss: 42.5743 - val_loss: 261.2646\n",
      "Epoch 216/500\n",
      "20/20 [==============================] - 0s 4ms/step - loss: 41.2839 - val_loss: 262.5150\n",
      "Epoch 217/500\n",
      "20/20 [==============================] - 0s 3ms/step - loss: 40.0453 - val_loss: 263.7761\n",
      "Epoch 218/500\n",
      "20/20 [==============================] - 0s 3ms/step - loss: 38.8569 - val_loss: 265.0463\n",
      "Epoch 219/500\n",
      "20/20 [==============================] - 0s 5ms/step - loss: 37.7172 - val_loss: 266.3245\n",
      "Epoch 220/500\n",
      "20/20 [==============================] - 0s 4ms/step - loss: 36.6246 - val_loss: 267.6093\n",
      "Epoch 221/500\n",
      "20/20 [==============================] - 0s 4ms/step - loss: 35.5777 - val_loss: 268.8992\n",
      "Epoch 222/500\n",
      "20/20 [==============================] - 0s 3ms/step - loss: 34.5750 - val_loss: 270.1931\n",
      "Epoch 223/500\n",
      "20/20 [==============================] - 0s 5ms/step - loss: 33.6152 - val_loss: 271.4896\n",
      "Epoch 224/500\n",
      "20/20 [==============================] - 0s 3ms/step - loss: 32.6968 - val_loss: 272.7875\n",
      "Epoch 225/500\n",
      "20/20 [==============================] - 0s 4ms/step - loss: 31.8184 - val_loss: 274.0859\n",
      "Epoch 226/500\n",
      "20/20 [==============================] - 0s 3ms/step - loss: 30.9786 - val_loss: 275.3835\n",
      "Epoch 227/500\n",
      "20/20 [==============================] - 0s 4ms/step - loss: 30.1764 - val_loss: 276.6789\n",
      "Epoch 228/500\n",
      "20/20 [==============================] - 0s 3ms/step - loss: 29.4102 - val_loss: 277.9713\n",
      "Epoch 229/500\n",
      "20/20 [==============================] - 0s 3ms/step - loss: 28.6789 - val_loss: 279.2597\n",
      "Epoch 230/500\n",
      "20/20 [==============================] - 0s 3ms/step - loss: 27.9812 - val_loss: 280.5426\n",
      "Epoch 231/500\n",
      "20/20 [==============================] - 0s 3ms/step - loss: 27.3160 - val_loss: 281.8198\n",
      "Epoch 232/500\n",
      "20/20 [==============================] - 0s 4ms/step - loss: 26.6819 - val_loss: 283.0900\n",
      "Epoch 233/500\n",
      "20/20 [==============================] - 0s 4ms/step - loss: 26.0779 - val_loss: 284.3523\n",
      "Epoch 234/500\n",
      "20/20 [==============================] - 0s 3ms/step - loss: 25.5029 - val_loss: 285.6060\n",
      "Epoch 235/500\n",
      "20/20 [==============================] - 0s 4ms/step - loss: 24.9557 - val_loss: 286.8498\n",
      "Epoch 236/500\n",
      "20/20 [==============================] - 0s 3ms/step - loss: 24.4353 - val_loss: 288.0835\n",
      "Epoch 237/500\n",
      "20/20 [==============================] - 0s 3ms/step - loss: 23.9407 - val_loss: 289.3060\n",
      "Epoch 238/500\n",
      "20/20 [==============================] - 0s 4ms/step - loss: 23.4708 - val_loss: 290.5167\n",
      "Epoch 239/500\n",
      "20/20 [==============================] - 0s 3ms/step - loss: 23.0247 - val_loss: 291.7151\n",
      "Epoch 240/500\n",
      "20/20 [==============================] - 0s 3ms/step - loss: 22.6012 - val_loss: 292.9001\n",
      "Epoch 241/500\n",
      "20/20 [==============================] - 0s 4ms/step - loss: 22.1997 - val_loss: 294.0718\n",
      "Epoch 242/500\n",
      "20/20 [==============================] - 0s 8ms/step - loss: 21.8189 - val_loss: 295.2289\n",
      "Epoch 243/500\n",
      "20/20 [==============================] - 0s 3ms/step - loss: 21.4582 - val_loss: 296.3713\n",
      "Epoch 244/500\n",
      "20/20 [==============================] - 0s 4ms/step - loss: 21.1168 - val_loss: 297.4982\n",
      "Epoch 245/500\n",
      "20/20 [==============================] - 0s 3ms/step - loss: 20.7937 - val_loss: 298.6093\n",
      "Epoch 246/500\n",
      "20/20 [==============================] - 0s 4ms/step - loss: 20.4881 - val_loss: 299.7043\n",
      "Epoch 247/500\n",
      "20/20 [==============================] - 0s 3ms/step - loss: 20.1993 - val_loss: 300.7825\n",
      "Epoch 248/500\n",
      "20/20 [==============================] - 0s 3ms/step - loss: 19.9265 - val_loss: 301.8436\n",
      "Epoch 249/500\n",
      "20/20 [==============================] - 0s 4ms/step - loss: 19.6690 - val_loss: 302.8876\n",
      "Epoch 250/500\n",
      "20/20 [==============================] - 0s 3ms/step - loss: 19.4260 - val_loss: 303.9134\n",
      "Epoch 251/500\n",
      "20/20 [==============================] - 0s 3ms/step - loss: 19.1969 - val_loss: 304.9212\n",
      "Epoch 252/500\n",
      "20/20 [==============================] - 0s 4ms/step - loss: 18.9810 - val_loss: 305.9108\n",
      "Epoch 253/500\n",
      "20/20 [==============================] - 0s 3ms/step - loss: 18.7777 - val_loss: 306.8819\n",
      "Epoch 254/500\n",
      "20/20 [==============================] - 0s 3ms/step - loss: 18.5864 - val_loss: 307.8346\n",
      "Epoch 255/500\n",
      "20/20 [==============================] - 0s 3ms/step - loss: 18.4064 - val_loss: 308.7682\n",
      "Epoch 256/500\n",
      "20/20 [==============================] - 0s 3ms/step - loss: 18.2373 - val_loss: 309.6831\n",
      "Epoch 257/500\n",
      "20/20 [==============================] - 0s 3ms/step - loss: 18.0784 - val_loss: 310.5790\n",
      "Epoch 258/500\n",
      "20/20 [==============================] - 0s 3ms/step - loss: 17.9292 - val_loss: 311.4554\n",
      "Epoch 259/500\n",
      "20/20 [==============================] - 0s 4ms/step - loss: 17.7893 - val_loss: 312.3127\n",
      "Epoch 260/500\n",
      "20/20 [==============================] - 0s 3ms/step - loss: 17.6581 - val_loss: 313.1507\n",
      "Epoch 261/500\n",
      "20/20 [==============================] - 0s 3ms/step - loss: 17.5352 - val_loss: 313.9695\n",
      "Epoch 262/500\n",
      "20/20 [==============================] - 0s 3ms/step - loss: 17.4200 - val_loss: 314.7687\n",
      "Epoch 263/500\n",
      "20/20 [==============================] - 0s 3ms/step - loss: 17.3123 - val_loss: 315.5488\n",
      "Epoch 264/500\n",
      "20/20 [==============================] - 0s 4ms/step - loss: 17.2116 - val_loss: 316.3100\n",
      "Epoch 265/500\n",
      "20/20 [==============================] - 0s 3ms/step - loss: 17.1175 - val_loss: 317.0517\n",
      "Epoch 266/500\n",
      "20/20 [==============================] - 0s 3ms/step - loss: 17.0296 - val_loss: 317.7746\n",
      "Epoch 267/500\n",
      "20/20 [==============================] - 0s 3ms/step - loss: 16.9475 - val_loss: 318.4785\n",
      "Epoch 268/500\n",
      "20/20 [==============================] - 0s 3ms/step - loss: 16.8710 - val_loss: 319.1634\n",
      "Epoch 269/500\n",
      "20/20 [==============================] - 0s 4ms/step - loss: 16.7997 - val_loss: 319.8298\n",
      "Epoch 270/500\n",
      "20/20 [==============================] - 0s 3ms/step - loss: 16.7333 - val_loss: 320.4777\n",
      "Epoch 271/500\n",
      "20/20 [==============================] - 0s 3ms/step - loss: 16.6715 - val_loss: 321.1074\n",
      "Epoch 272/500\n",
      "20/20 [==============================] - 0s 3ms/step - loss: 16.6140 - val_loss: 321.7186\n",
      "Epoch 273/500\n",
      "20/20 [==============================] - 0s 3ms/step - loss: 16.5606 - val_loss: 322.3124\n",
      "Epoch 274/500\n",
      "20/20 [==============================] - 0s 4ms/step - loss: 16.5109 - val_loss: 322.8881\n",
      "Epoch 275/500\n",
      "20/20 [==============================] - 0s 3ms/step - loss: 16.4649 - val_loss: 323.4467\n",
      "Epoch 276/500\n",
      "20/20 [==============================] - 0s 3ms/step - loss: 16.4221 - val_loss: 323.9876\n",
      "Epoch 277/500\n",
      "20/20 [==============================] - 0s 8ms/step - loss: 16.3825 - val_loss: 324.5119\n",
      "Epoch 278/500\n",
      "20/20 [==============================] - 0s 3ms/step - loss: 16.3458 - val_loss: 325.0193\n",
      "Epoch 279/500\n",
      "20/20 [==============================] - 0s 3ms/step - loss: 16.3119 - val_loss: 325.5104\n",
      "Epoch 280/500\n",
      "20/20 [==============================] - 0s 4ms/step - loss: 16.2804 - val_loss: 325.9850\n",
      "Epoch 281/500\n",
      "20/20 [==============================] - 0s 3ms/step - loss: 16.2514 - val_loss: 326.4441\n",
      "Epoch 282/500\n",
      "20/20 [==============================] - 0s 3ms/step - loss: 16.2246 - val_loss: 326.8874\n",
      "Epoch 283/500\n",
      "20/20 [==============================] - 0s 3ms/step - loss: 16.1998 - val_loss: 327.3159\n",
      "Epoch 284/500\n",
      "20/20 [==============================] - 0s 3ms/step - loss: 16.1769 - val_loss: 327.7287\n",
      "Epoch 285/500\n",
      "20/20 [==============================] - 0s 4ms/step - loss: 16.1559 - val_loss: 328.1273\n",
      "Epoch 286/500\n",
      "20/20 [==============================] - 0s 3ms/step - loss: 16.1365 - val_loss: 328.5113\n",
      "Epoch 287/500\n",
      "20/20 [==============================] - 0s 4ms/step - loss: 16.1186 - val_loss: 328.8815\n",
      "Epoch 288/500\n",
      "20/20 [==============================] - 0s 3ms/step - loss: 16.1022 - val_loss: 329.2381\n",
      "Epoch 289/500\n",
      "20/20 [==============================] - 0s 4ms/step - loss: 16.0871 - val_loss: 329.5816\n",
      "Epoch 290/500\n",
      "20/20 [==============================] - 0s 3ms/step - loss: 16.0732 - val_loss: 329.9114\n",
      "Epoch 291/500\n",
      "20/20 [==============================] - 0s 4ms/step - loss: 16.0604 - val_loss: 330.2288\n",
      "Epoch 292/500\n",
      "20/20 [==============================] - 0s 3ms/step - loss: 16.0488 - val_loss: 330.5339\n",
      "Epoch 293/500\n",
      "20/20 [==============================] - 0s 4ms/step - loss: 16.0380 - val_loss: 330.8267\n",
      "Epoch 294/500\n",
      "20/20 [==============================] - 0s 4ms/step - loss: 16.0283 - val_loss: 331.1078\n",
      "Epoch 295/500\n",
      "20/20 [==============================] - 0s 3ms/step - loss: 16.0192 - val_loss: 331.3773\n",
      "Epoch 296/500\n",
      "20/20 [==============================] - 0s 4ms/step - loss: 16.0111 - val_loss: 331.6361\n",
      "Epoch 297/500\n",
      "20/20 [==============================] - 0s 4ms/step - loss: 16.0035 - val_loss: 331.8839\n",
      "Epoch 298/500\n",
      "20/20 [==============================] - 0s 4ms/step - loss: 15.9967 - val_loss: 332.1216\n",
      "Epoch 299/500\n",
      "20/20 [==============================] - 0s 3ms/step - loss: 15.9904 - val_loss: 332.3487\n",
      "Epoch 300/500\n",
      "20/20 [==============================] - 0s 4ms/step - loss: 15.9847 - val_loss: 332.5661\n",
      "Epoch 301/500\n",
      "20/20 [==============================] - 0s 4ms/step - loss: 15.9795 - val_loss: 332.7741\n",
      "Epoch 302/500\n",
      "20/20 [==============================] - 0s 4ms/step - loss: 15.9748 - val_loss: 332.9730\n",
      "Epoch 303/500\n",
      "20/20 [==============================] - 0s 4ms/step - loss: 15.9705 - val_loss: 333.1629\n",
      "Epoch 304/500\n",
      "20/20 [==============================] - 0s 4ms/step - loss: 15.9666 - val_loss: 333.3444\n",
      "Epoch 305/500\n",
      "20/20 [==============================] - 0s 4ms/step - loss: 15.9631 - val_loss: 333.5174\n",
      "Epoch 306/500\n",
      "20/20 [==============================] - 0s 4ms/step - loss: 15.9599 - val_loss: 333.6826\n",
      "Epoch 307/500\n",
      "20/20 [==============================] - 0s 6ms/step - loss: 15.9570 - val_loss: 333.8395\n",
      "Epoch 308/500\n",
      "20/20 [==============================] - 0s 4ms/step - loss: 15.9544 - val_loss: 333.9895\n",
      "Epoch 309/500\n",
      "20/20 [==============================] - 0s 4ms/step - loss: 15.9520 - val_loss: 334.1316\n",
      "Epoch 310/500\n",
      "20/20 [==============================] - 0s 4ms/step - loss: 15.9499 - val_loss: 334.2672\n",
      "Epoch 311/500\n",
      "20/20 [==============================] - 0s 3ms/step - loss: 15.9480 - val_loss: 334.3964\n",
      "Epoch 312/500\n",
      "20/20 [==============================] - 0s 4ms/step - loss: 15.9462 - val_loss: 334.5190\n",
      "Epoch 313/500\n",
      "20/20 [==============================] - 0s 3ms/step - loss: 15.9447 - val_loss: 334.6352\n",
      "Epoch 314/500\n",
      "20/20 [==============================] - 0s 3ms/step - loss: 15.9433 - val_loss: 334.7458\n",
      "Epoch 315/500\n",
      "20/20 [==============================] - 0s 4ms/step - loss: 15.9421 - val_loss: 334.8506\n",
      "Epoch 316/500\n",
      "20/20 [==============================] - 0s 4ms/step - loss: 15.9411 - val_loss: 334.9499\n",
      "Epoch 317/500\n",
      "20/20 [==============================] - 0s 4ms/step - loss: 15.9401 - val_loss: 335.0444\n",
      "Epoch 318/500\n",
      "20/20 [==============================] - 0s 4ms/step - loss: 15.9393 - val_loss: 335.1339\n",
      "Epoch 319/500\n",
      "20/20 [==============================] - 0s 4ms/step - loss: 15.9385 - val_loss: 335.2180\n",
      "Epoch 320/500\n",
      "20/20 [==============================] - 0s 3ms/step - loss: 15.9379 - val_loss: 335.2978\n",
      "Epoch 321/500\n",
      "20/20 [==============================] - 0s 4ms/step - loss: 15.9374 - val_loss: 335.3734\n",
      "Epoch 322/500\n",
      "20/20 [==============================] - 0s 4ms/step - loss: 15.9369 - val_loss: 335.4448\n",
      "Epoch 323/500\n",
      "20/20 [==============================] - 0s 4ms/step - loss: 15.9365 - val_loss: 335.5121\n",
      "Epoch 324/500\n",
      "20/20 [==============================] - 0s 4ms/step - loss: 15.9362 - val_loss: 335.5755\n",
      "Epoch 325/500\n",
      "20/20 [==============================] - 0s 4ms/step - loss: 15.9359 - val_loss: 335.6356\n",
      "Epoch 326/500\n",
      "20/20 [==============================] - 0s 4ms/step - loss: 15.9357 - val_loss: 335.6920\n",
      "Epoch 327/500\n",
      "20/20 [==============================] - 0s 4ms/step - loss: 15.9355 - val_loss: 335.7448\n",
      "Epoch 328/500\n",
      "20/20 [==============================] - 0s 3ms/step - loss: 15.9354 - val_loss: 335.7949\n",
      "Epoch 329/500\n",
      "20/20 [==============================] - 0s 4ms/step - loss: 15.9354 - val_loss: 335.8419\n",
      "Epoch 330/500\n",
      "20/20 [==============================] - 0s 4ms/step - loss: 15.9354 - val_loss: 335.8860\n",
      "Epoch 331/500\n",
      "20/20 [==============================] - 0s 4ms/step - loss: 15.9354 - val_loss: 335.9276\n",
      "Epoch 332/500\n",
      "20/20 [==============================] - 0s 4ms/step - loss: 15.9355 - val_loss: 335.9666\n",
      "Epoch 333/500\n",
      "20/20 [==============================] - 0s 4ms/step - loss: 15.9356 - val_loss: 336.0033\n",
      "Epoch 334/500\n",
      "20/20 [==============================] - 0s 8ms/step - loss: 15.9356 - val_loss: 336.0372\n",
      "Epoch 335/500\n",
      "20/20 [==============================] - 0s 4ms/step - loss: 15.9358 - val_loss: 336.0695\n",
      "Epoch 336/500\n",
      "20/20 [==============================] - 0s 4ms/step - loss: 15.9360 - val_loss: 336.0995\n",
      "Epoch 337/500\n",
      "20/20 [==============================] - 0s 3ms/step - loss: 15.9362 - val_loss: 336.1275\n",
      "Epoch 338/500\n",
      "20/20 [==============================] - 0s 3ms/step - loss: 15.9364 - val_loss: 336.1539\n",
      "Epoch 339/500\n",
      "20/20 [==============================] - 0s 4ms/step - loss: 15.9366 - val_loss: 336.1784\n",
      "Epoch 340/500\n",
      "20/20 [==============================] - 0s 4ms/step - loss: 15.9368 - val_loss: 336.2014\n",
      "Epoch 341/500\n",
      "20/20 [==============================] - 0s 3ms/step - loss: 15.9371 - val_loss: 336.2225\n",
      "Epoch 342/500\n",
      "20/20 [==============================] - 0s 3ms/step - loss: 15.9374 - val_loss: 336.2424\n",
      "Epoch 343/500\n",
      "20/20 [==============================] - 0s 4ms/step - loss: 15.9377 - val_loss: 336.2607\n",
      "Epoch 344/500\n",
      "20/20 [==============================] - 0s 4ms/step - loss: 15.9380 - val_loss: 336.2778\n",
      "Epoch 345/500\n",
      "20/20 [==============================] - 0s 4ms/step - loss: 15.9383 - val_loss: 336.2936\n",
      "Epoch 346/500\n",
      "20/20 [==============================] - 0s 4ms/step - loss: 15.9386 - val_loss: 336.3083\n",
      "Epoch 347/500\n",
      "20/20 [==============================] - 0s 4ms/step - loss: 15.9389 - val_loss: 336.3220\n",
      "Epoch 348/500\n",
      "20/20 [==============================] - 0s 3ms/step - loss: 15.9393 - val_loss: 336.3345\n",
      "Epoch 349/500\n",
      "20/20 [==============================] - 0s 4ms/step - loss: 15.9396 - val_loss: 336.3458\n",
      "Epoch 350/500\n",
      "20/20 [==============================] - 0s 4ms/step - loss: 15.9400 - val_loss: 336.3564\n",
      "Epoch 351/500\n",
      "20/20 [==============================] - 0s 4ms/step - loss: 15.9404 - val_loss: 336.3662\n",
      "Epoch 352/500\n",
      "20/20 [==============================] - 0s 4ms/step - loss: 15.9407 - val_loss: 336.3751\n",
      "Epoch 353/500\n",
      "20/20 [==============================] - 0s 4ms/step - loss: 15.9411 - val_loss: 336.3836\n",
      "Epoch 354/500\n",
      "20/20 [==============================] - 0s 4ms/step - loss: 15.9415 - val_loss: 336.3911\n",
      "Epoch 355/500\n",
      "20/20 [==============================] - 0s 4ms/step - loss: 15.9419 - val_loss: 336.3983\n",
      "Epoch 356/500\n",
      "20/20 [==============================] - 0s 4ms/step - loss: 15.9423 - val_loss: 336.4046\n",
      "Epoch 357/500\n",
      "20/20 [==============================] - 0s 4ms/step - loss: 15.9427 - val_loss: 336.4103\n",
      "Epoch 358/500\n",
      "20/20 [==============================] - 0s 4ms/step - loss: 15.9431 - val_loss: 336.4156\n",
      "Epoch 359/500\n",
      "20/20 [==============================] - 0s 9ms/step - loss: 15.9435 - val_loss: 336.4203\n",
      "Epoch 360/500\n",
      "20/20 [==============================] - 0s 3ms/step - loss: 15.9439 - val_loss: 336.4244\n",
      "Epoch 361/500\n",
      "20/20 [==============================] - 0s 4ms/step - loss: 15.9443 - val_loss: 336.4282\n",
      "Epoch 362/500\n",
      "20/20 [==============================] - 0s 3ms/step - loss: 15.9447 - val_loss: 336.4317\n",
      "Epoch 363/500\n",
      "20/20 [==============================] - 0s 4ms/step - loss: 15.9452 - val_loss: 336.4350\n",
      "Epoch 364/500\n",
      "20/20 [==============================] - 0s 4ms/step - loss: 15.9456 - val_loss: 336.4376\n",
      "Epoch 365/500\n",
      "20/20 [==============================] - 0s 4ms/step - loss: 15.9460 - val_loss: 336.4400\n",
      "Epoch 366/500\n",
      "20/20 [==============================] - 0s 4ms/step - loss: 15.9464 - val_loss: 336.4418\n",
      "Epoch 367/500\n",
      "20/20 [==============================] - 0s 4ms/step - loss: 15.9468 - val_loss: 336.4437\n",
      "Epoch 368/500\n",
      "20/20 [==============================] - 0s 4ms/step - loss: 15.9472 - val_loss: 336.4453\n",
      "Epoch 369/500\n",
      "20/20 [==============================] - 0s 4ms/step - loss: 15.9477 - val_loss: 336.4463\n",
      "Epoch 370/500\n",
      "20/20 [==============================] - 0s 3ms/step - loss: 15.9481 - val_loss: 336.4476\n",
      "Epoch 371/500\n",
      "20/20 [==============================] - 0s 4ms/step - loss: 15.9485 - val_loss: 336.4485\n",
      "Epoch 372/500\n",
      "20/20 [==============================] - 0s 4ms/step - loss: 15.9489 - val_loss: 336.4497\n",
      "Epoch 373/500\n",
      "20/20 [==============================] - 0s 4ms/step - loss: 15.9493 - val_loss: 336.4503\n",
      "Epoch 374/500\n",
      "20/20 [==============================] - 0s 4ms/step - loss: 15.9498 - val_loss: 336.4508\n",
      "Epoch 375/500\n",
      "20/20 [==============================] - 0s 4ms/step - loss: 15.9502 - val_loss: 336.4511\n",
      "Epoch 376/500\n",
      "20/20 [==============================] - 0s 4ms/step - loss: 15.9506 - val_loss: 336.4514\n",
      "Epoch 377/500\n",
      "20/20 [==============================] - 0s 9ms/step - loss: 15.9510 - val_loss: 336.4513\n",
      "Epoch 378/500\n",
      "20/20 [==============================] - 0s 4ms/step - loss: 15.9514 - val_loss: 336.4514\n",
      "Epoch 379/500\n",
      "20/20 [==============================] - 0s 4ms/step - loss: 15.9518 - val_loss: 336.4511\n",
      "Epoch 380/500\n",
      "20/20 [==============================] - 0s 3ms/step - loss: 15.9523 - val_loss: 336.4506\n",
      "Epoch 381/500\n",
      "20/20 [==============================] - 0s 3ms/step - loss: 15.9527 - val_loss: 336.4504\n",
      "Epoch 382/500\n",
      "20/20 [==============================] - 0s 4ms/step - loss: 15.9531 - val_loss: 336.4500\n",
      "Epoch 383/500\n",
      "20/20 [==============================] - 0s 3ms/step - loss: 15.9535 - val_loss: 336.4494\n",
      "Epoch 384/500\n",
      "20/20 [==============================] - 0s 4ms/step - loss: 15.9539 - val_loss: 336.4487\n",
      "Epoch 385/500\n",
      "20/20 [==============================] - 0s 4ms/step - loss: 15.9543 - val_loss: 336.4481\n",
      "Epoch 386/500\n",
      "20/20 [==============================] - 0s 4ms/step - loss: 15.9547 - val_loss: 336.4474\n",
      "Epoch 387/500\n",
      "20/20 [==============================] - 0s 4ms/step - loss: 15.9551 - val_loss: 336.4464\n",
      "Epoch 388/500\n",
      "20/20 [==============================] - 0s 4ms/step - loss: 15.9554 - val_loss: 336.4456\n",
      "Epoch 389/500\n",
      "20/20 [==============================] - 0s 4ms/step - loss: 15.9559 - val_loss: 336.4451\n",
      "Epoch 390/500\n",
      "20/20 [==============================] - 0s 4ms/step - loss: 15.9563 - val_loss: 336.4438\n",
      "Epoch 391/500\n",
      "20/20 [==============================] - 0s 3ms/step - loss: 15.9567 - val_loss: 336.4431\n",
      "Epoch 392/500\n",
      "20/20 [==============================] - 0s 4ms/step - loss: 15.9571 - val_loss: 336.4423\n",
      "Epoch 393/500\n",
      "20/20 [==============================] - 0s 4ms/step - loss: 15.9574 - val_loss: 336.4413\n",
      "Epoch 394/500\n",
      "20/20 [==============================] - 0s 4ms/step - loss: 15.9578 - val_loss: 336.4405\n",
      "Epoch 395/500\n",
      "20/20 [==============================] - 0s 4ms/step - loss: 15.9582 - val_loss: 336.4395\n",
      "Epoch 396/500\n",
      "20/20 [==============================] - 0s 4ms/step - loss: 15.9585 - val_loss: 336.4382\n",
      "Epoch 397/500\n",
      "20/20 [==============================] - 0s 3ms/step - loss: 15.9589 - val_loss: 336.4371\n",
      "Epoch 398/500\n",
      "20/20 [==============================] - 0s 4ms/step - loss: 15.9593 - val_loss: 336.4361\n",
      "Epoch 399/500\n",
      "20/20 [==============================] - 0s 4ms/step - loss: 15.9597 - val_loss: 336.4352\n",
      "Epoch 400/500\n",
      "20/20 [==============================] - 0s 4ms/step - loss: 15.9600 - val_loss: 336.4337\n",
      "Epoch 401/500\n",
      "20/20 [==============================] - 0s 8ms/step - loss: 15.9604 - val_loss: 336.4329\n",
      "Epoch 402/500\n",
      "20/20 [==============================] - 0s 3ms/step - loss: 15.9608 - val_loss: 336.4317\n",
      "Epoch 403/500\n",
      "20/20 [==============================] - 0s 4ms/step - loss: 15.9611 - val_loss: 336.4309\n",
      "Epoch 404/500\n",
      "20/20 [==============================] - 0s 4ms/step - loss: 15.9615 - val_loss: 336.4294\n",
      "Epoch 405/500\n",
      "20/20 [==============================] - 0s 3ms/step - loss: 15.9618 - val_loss: 336.4285\n",
      "Epoch 406/500\n",
      "20/20 [==============================] - 0s 4ms/step - loss: 15.9621 - val_loss: 336.4274\n",
      "Epoch 407/500\n",
      "20/20 [==============================] - 0s 4ms/step - loss: 15.9625 - val_loss: 336.4263\n",
      "Epoch 408/500\n",
      "20/20 [==============================] - 0s 3ms/step - loss: 15.9628 - val_loss: 336.4255\n",
      "Epoch 409/500\n",
      "20/20 [==============================] - 0s 4ms/step - loss: 15.9631 - val_loss: 336.4243\n",
      "Epoch 410/500\n",
      "20/20 [==============================] - 0s 4ms/step - loss: 15.9635 - val_loss: 336.4232\n",
      "Epoch 411/500\n",
      "20/20 [==============================] - 0s 4ms/step - loss: 15.9638 - val_loss: 336.4221\n",
      "Epoch 412/500\n",
      "20/20 [==============================] - 0s 4ms/step - loss: 15.9641 - val_loss: 336.4213\n",
      "Epoch 413/500\n",
      "20/20 [==============================] - 0s 4ms/step - loss: 15.9644 - val_loss: 336.4200\n",
      "Epoch 414/500\n",
      "20/20 [==============================] - 0s 4ms/step - loss: 15.9648 - val_loss: 336.4192\n",
      "Epoch 415/500\n",
      "20/20 [==============================] - 0s 3ms/step - loss: 15.9651 - val_loss: 336.4182\n",
      "Epoch 416/500\n",
      "20/20 [==============================] - 0s 3ms/step - loss: 15.9654 - val_loss: 336.4171\n",
      "Epoch 417/500\n",
      "20/20 [==============================] - 0s 4ms/step - loss: 15.9657 - val_loss: 336.4162\n",
      "Epoch 418/500\n",
      "20/20 [==============================] - 0s 3ms/step - loss: 15.9660 - val_loss: 336.4149\n",
      "Epoch 419/500\n",
      "20/20 [==============================] - 0s 3ms/step - loss: 15.9663 - val_loss: 336.4142\n",
      "Epoch 420/500\n",
      "20/20 [==============================] - 0s 3ms/step - loss: 15.9666 - val_loss: 336.4128\n",
      "Epoch 421/500\n",
      "20/20 [==============================] - 0s 3ms/step - loss: 15.9669 - val_loss: 336.4120\n",
      "Epoch 422/500\n",
      "20/20 [==============================] - 0s 3ms/step - loss: 15.9672 - val_loss: 336.4114\n",
      "Epoch 423/500\n",
      "20/20 [==============================] - 0s 4ms/step - loss: 15.9675 - val_loss: 336.4102\n",
      "Epoch 424/500\n",
      "20/20 [==============================] - 0s 4ms/step - loss: 15.9678 - val_loss: 336.4094\n",
      "Epoch 425/500\n",
      "20/20 [==============================] - 0s 3ms/step - loss: 15.9680 - val_loss: 336.4079\n",
      "Epoch 426/500\n",
      "20/20 [==============================] - 0s 3ms/step - loss: 15.9683 - val_loss: 336.4072\n",
      "Epoch 427/500\n",
      "20/20 [==============================] - 0s 3ms/step - loss: 15.9686 - val_loss: 336.4067\n",
      "Epoch 428/500\n",
      "20/20 [==============================] - 0s 8ms/step - loss: 15.9688 - val_loss: 336.4054\n",
      "Epoch 429/500\n",
      "20/20 [==============================] - 0s 4ms/step - loss: 15.9691 - val_loss: 336.4045\n",
      "Epoch 430/500\n",
      "20/20 [==============================] - 0s 4ms/step - loss: 15.9694 - val_loss: 336.4035\n",
      "Epoch 431/500\n",
      "20/20 [==============================] - 0s 4ms/step - loss: 15.9696 - val_loss: 336.4027\n",
      "Epoch 432/500\n",
      "20/20 [==============================] - 0s 4ms/step - loss: 15.9699 - val_loss: 336.4020\n",
      "Epoch 433/500\n",
      "20/20 [==============================] - 0s 4ms/step - loss: 15.9702 - val_loss: 336.4008\n",
      "Epoch 434/500\n",
      "20/20 [==============================] - 0s 4ms/step - loss: 15.9704 - val_loss: 336.4003\n",
      "Epoch 435/500\n",
      "20/20 [==============================] - 0s 3ms/step - loss: 15.9706 - val_loss: 336.3994\n",
      "Epoch 436/500\n",
      "20/20 [==============================] - 0s 4ms/step - loss: 15.9709 - val_loss: 336.3985\n",
      "Epoch 437/500\n",
      "20/20 [==============================] - 0s 4ms/step - loss: 15.9711 - val_loss: 336.3977\n",
      "Epoch 438/500\n",
      "20/20 [==============================] - 0s 3ms/step - loss: 15.9714 - val_loss: 336.3970\n",
      "Epoch 439/500\n",
      "20/20 [==============================] - 0s 4ms/step - loss: 15.9716 - val_loss: 336.3960\n",
      "Epoch 440/500\n",
      "20/20 [==============================] - 0s 4ms/step - loss: 15.9718 - val_loss: 336.3953\n",
      "Epoch 441/500\n",
      "20/20 [==============================] - 0s 4ms/step - loss: 15.9721 - val_loss: 336.3948\n",
      "Epoch 442/500\n",
      "20/20 [==============================] - 0s 4ms/step - loss: 15.9722 - val_loss: 336.3937\n",
      "Epoch 443/500\n",
      "20/20 [==============================] - 0s 3ms/step - loss: 15.9725 - val_loss: 336.3929\n",
      "Epoch 444/500\n",
      "20/20 [==============================] - 0s 4ms/step - loss: 15.9727 - val_loss: 336.3921\n",
      "Epoch 445/500\n",
      "20/20 [==============================] - 0s 3ms/step - loss: 15.9729 - val_loss: 336.3913\n",
      "Epoch 446/500\n",
      "20/20 [==============================] - 0s 4ms/step - loss: 15.9731 - val_loss: 336.3906\n",
      "Epoch 447/500\n",
      "20/20 [==============================] - 0s 4ms/step - loss: 15.9733 - val_loss: 336.3898\n",
      "Epoch 448/500\n",
      "20/20 [==============================] - 0s 4ms/step - loss: 15.9736 - val_loss: 336.3891\n",
      "Epoch 449/500\n",
      "20/20 [==============================] - 0s 4ms/step - loss: 15.9738 - val_loss: 336.3886\n",
      "Epoch 450/500\n",
      "20/20 [==============================] - 0s 3ms/step - loss: 15.9739 - val_loss: 336.3881\n",
      "Epoch 451/500\n",
      "20/20 [==============================] - 0s 4ms/step - loss: 15.9742 - val_loss: 336.3875\n",
      "Epoch 452/500\n",
      "20/20 [==============================] - 0s 8ms/step - loss: 15.9744 - val_loss: 336.3866\n",
      "Epoch 453/500\n",
      "20/20 [==============================] - 0s 4ms/step - loss: 15.9746 - val_loss: 336.3859\n",
      "Epoch 454/500\n",
      "20/20 [==============================] - 0s 4ms/step - loss: 15.9747 - val_loss: 336.3855\n",
      "Epoch 455/500\n",
      "20/20 [==============================] - 0s 3ms/step - loss: 15.9749 - val_loss: 336.3846\n",
      "Epoch 456/500\n",
      "20/20 [==============================] - 0s 4ms/step - loss: 15.9751 - val_loss: 336.3840\n",
      "Epoch 457/500\n",
      "20/20 [==============================] - 0s 4ms/step - loss: 15.9753 - val_loss: 336.3835\n",
      "Epoch 458/500\n",
      "20/20 [==============================] - 0s 4ms/step - loss: 15.9754 - val_loss: 336.3830\n",
      "Epoch 459/500\n",
      "20/20 [==============================] - 0s 3ms/step - loss: 15.9756 - val_loss: 336.3822\n",
      "Epoch 460/500\n",
      "20/20 [==============================] - 0s 4ms/step - loss: 15.9758 - val_loss: 336.3816\n",
      "Epoch 461/500\n",
      "20/20 [==============================] - 0s 4ms/step - loss: 15.9760 - val_loss: 336.3811\n",
      "Epoch 462/500\n",
      "20/20 [==============================] - 0s 3ms/step - loss: 15.9762 - val_loss: 336.3808\n",
      "Epoch 463/500\n",
      "20/20 [==============================] - 0s 4ms/step - loss: 15.9763 - val_loss: 336.3804\n",
      "Epoch 464/500\n",
      "20/20 [==============================] - 0s 3ms/step - loss: 15.9764 - val_loss: 336.3797\n",
      "Epoch 465/500\n",
      "20/20 [==============================] - 0s 3ms/step - loss: 15.9766 - val_loss: 336.3790\n",
      "Epoch 466/500\n",
      "20/20 [==============================] - 0s 3ms/step - loss: 15.9767 - val_loss: 336.3787\n",
      "Epoch 467/500\n",
      "20/20 [==============================] - 0s 4ms/step - loss: 15.9769 - val_loss: 336.3783\n",
      "Epoch 468/500\n",
      "20/20 [==============================] - 0s 4ms/step - loss: 15.9770 - val_loss: 336.3777\n",
      "Epoch 469/500\n",
      "20/20 [==============================] - 0s 3ms/step - loss: 15.9772 - val_loss: 336.3766\n",
      "Epoch 470/500\n",
      "20/20 [==============================] - 0s 4ms/step - loss: 15.9774 - val_loss: 336.3763\n",
      "Epoch 471/500\n",
      "20/20 [==============================] - 0s 3ms/step - loss: 15.9775 - val_loss: 336.3755\n",
      "Epoch 472/500\n",
      "20/20 [==============================] - 0s 3ms/step - loss: 15.9776 - val_loss: 336.3749\n",
      "Epoch 473/500\n",
      "20/20 [==============================] - 0s 4ms/step - loss: 15.9778 - val_loss: 336.3746\n",
      "Epoch 474/500\n",
      "20/20 [==============================] - 0s 8ms/step - loss: 15.9779 - val_loss: 336.3742\n",
      "Epoch 475/500\n",
      "20/20 [==============================] - 0s 4ms/step - loss: 15.9780 - val_loss: 336.3738\n",
      "Epoch 476/500\n",
      "20/20 [==============================] - 0s 3ms/step - loss: 15.9781 - val_loss: 336.3728\n",
      "Epoch 477/500\n",
      "20/20 [==============================] - 0s 4ms/step - loss: 15.9783 - val_loss: 336.3722\n",
      "Epoch 478/500\n",
      "20/20 [==============================] - 0s 3ms/step - loss: 15.9785 - val_loss: 336.3720\n",
      "Epoch 479/500\n",
      "20/20 [==============================] - 0s 3ms/step - loss: 15.9786 - val_loss: 336.3718\n",
      "Epoch 480/500\n",
      "20/20 [==============================] - 0s 4ms/step - loss: 15.9787 - val_loss: 336.3714\n",
      "Epoch 481/500\n",
      "20/20 [==============================] - 0s 4ms/step - loss: 15.9788 - val_loss: 336.3710\n",
      "Epoch 482/500\n",
      "20/20 [==============================] - 0s 3ms/step - loss: 15.9789 - val_loss: 336.3704\n",
      "Epoch 483/500\n",
      "20/20 [==============================] - 0s 4ms/step - loss: 15.9790 - val_loss: 336.3702\n",
      "Epoch 484/500\n",
      "20/20 [==============================] - 0s 3ms/step - loss: 15.9791 - val_loss: 336.3699\n",
      "Epoch 485/500\n",
      "20/20 [==============================] - 0s 4ms/step - loss: 15.9793 - val_loss: 336.3696\n",
      "Epoch 486/500\n",
      "20/20 [==============================] - 0s 4ms/step - loss: 15.9794 - val_loss: 336.3694\n",
      "Epoch 487/500\n",
      "20/20 [==============================] - 0s 4ms/step - loss: 15.9795 - val_loss: 336.3690\n",
      "Epoch 488/500\n",
      "20/20 [==============================] - 0s 4ms/step - loss: 15.9796 - val_loss: 336.3686\n",
      "Epoch 489/500\n",
      "20/20 [==============================] - 0s 4ms/step - loss: 15.9797 - val_loss: 336.3680\n",
      "Epoch 490/500\n",
      "20/20 [==============================] - 0s 4ms/step - loss: 15.9798 - val_loss: 336.3676\n",
      "Epoch 491/500\n",
      "20/20 [==============================] - 0s 4ms/step - loss: 15.9799 - val_loss: 336.3674\n",
      "Epoch 492/500\n",
      "20/20 [==============================] - 0s 3ms/step - loss: 15.9800 - val_loss: 336.3670\n",
      "Epoch 493/500\n",
      "20/20 [==============================] - 0s 3ms/step - loss: 15.9801 - val_loss: 336.3666\n",
      "Epoch 494/500\n",
      "20/20 [==============================] - 0s 3ms/step - loss: 15.9802 - val_loss: 336.3665\n",
      "Epoch 495/500\n",
      "20/20 [==============================] - 0s 3ms/step - loss: 15.9803 - val_loss: 336.3660\n",
      "Epoch 496/500\n",
      "20/20 [==============================] - 0s 4ms/step - loss: 15.9804 - val_loss: 336.3657\n",
      "Epoch 497/500\n",
      "20/20 [==============================] - 0s 4ms/step - loss: 15.9805 - val_loss: 336.3654\n",
      "Epoch 498/500\n",
      "20/20 [==============================] - 0s 8ms/step - loss: 15.9806 - val_loss: 336.3652\n",
      "Epoch 499/500\n",
      "20/20 [==============================] - 0s 3ms/step - loss: 15.9807 - val_loss: 336.3648\n",
      "Epoch 500/500\n",
      "20/20 [==============================] - 0s 3ms/step - loss: 15.9808 - val_loss: 336.3647\n"
     ]
    }
   ],
   "source": [
    "C0 = tf.Variable(88.1552, name=\"C0\", trainable=True, dtype=tf.float32)\n",
    "K0 = tf.Variable(-0.0026, name=\"K0\", trainable=True, dtype=tf.float32)\n",
    "K1 = tf.Variable(-0.0004, name=\"K1\", trainable=True, dtype=tf.float32)\n",
    "a = tf.Variable(0.0000, name=\"a\", trainable=True, dtype=tf.float32)\n",
    "b = tf.Variable(0.0102, name=\"b\", trainable=True, dtype=tf.float32)\n",
    "c = tf.Variable(2.8734, name=\"c\", trainable=True, dtype=tf.float32)\n",
    "\n",
    "splitr = 0.8\n",
    "\n",
    "\n",
    "def loss_fn(y_true, y_pred):\n",
    "    squared_difference = tf.square(y_true[:, 0] - y_pred[:, 0])\n",
    "    #squared_difference2 = tf.square(y_true[:, 2]-y_pred[:, 2])\n",
    "    #squared_difference1 = tf.square(y_true[:, 1]-y_pred[:, 1])\n",
    "    epsilon = 1\n",
    "    squared_difference3 = tf.square(\n",
    "        y_pred[:, 1] - (\n",
    "            y_pred[:, 0] * (\n",
    "                K0 - K1 * (\n",
    "                    9 * a * tf.math.log((y_pred[:, 0] + epsilon) / C0) / (K0 - K1 * c)**2 +\n",
    "                    4 * b * tf.math.log((y_pred[:, 0] + epsilon) / C0) / (K0 - K1 * c) + c\n",
    "                )\n",
    "            )\n",
    "        )\n",
    "    )\n",
    "    return tf.reduce_mean(squared_difference, axis=-1) + 0.2*tf.reduce_mean(squared_difference3, axis=-1)\n",
    "model = Sequential()\n",
    "model.add(LSTM(100, input_shape=(trainX.shape[1], trainX.shape[2])))\n",
    "model.add(Dense(60))\n",
    "model.compile(loss=loss_fn, optimizer='adam')\n",
    "history = model.fit(trainX[:int(splitr*trainX.shape[0])], trainy[:int(splitr*trainX.shape[0])], epochs=500, batch_size=64, validation_data=(trainX[int(splitr*trainX.shape[0]):trainX.shape[0]], trainy[int(splitr*trainX.shape[0]):trainX.shape[0]]), shuffle=False)"
   ]
  },
  {
   "cell_type": "code",
   "execution_count": 19,
   "metadata": {
    "colab": {
     "base_uri": "https://localhost:8080/"
    },
    "id": "yJL101rPyuoT",
    "outputId": "239ff2b1-c186-423a-d316-939dfdd7c793"
   },
   "outputs": [
    {
     "name": "stdout",
     "output_type": "stream",
     "text": [
      "1/1 [==============================] - 0s 322ms/step\n"
     ]
    }
   ],
   "source": [
    "forecast_without_mc = forecastX\n",
    "yhat_without_mc = model.predict(forecast_without_mc) # Step Ahead Prediction\n",
    "forecast_without_mc = forecast_without_mc.reshape((forecast_without_mc.shape[0], forecast_without_mc.shape[2])) # Historical Input"
   ]
  },
  {
   "cell_type": "code",
   "execution_count": 20,
   "metadata": {
    "colab": {
     "base_uri": "https://localhost:8080/"
    },
    "id": "g9dQELcJ8wbp",
    "outputId": "4dc7671b-b1a8-48d5-8744-a86f98446109"
   },
   "outputs": [
    {
     "data": {
      "text/plain": [
       "(1, 1, 251)"
      ]
     },
     "execution_count": 20,
     "metadata": {},
     "output_type": "execute_result"
    }
   ],
   "source": [
    "forecastX.shape"
   ]
  },
  {
   "cell_type": "code",
   "execution_count": 21,
   "metadata": {
    "colab": {
     "base_uri": "https://localhost:8080/"
    },
    "id": "IS2kyIKG1Kbr",
    "outputId": "f31b3485-8e26-452f-9298-ea8bf7e80ad1"
   },
   "outputs": [
    {
     "data": {
      "text/plain": [
       "(1, 251)"
      ]
     },
     "execution_count": 21,
     "metadata": {},
     "output_type": "execute_result"
    }
   ],
   "source": [
    "forecast_without_mc.shape"
   ]
  },
  {
   "cell_type": "code",
   "execution_count": 22,
   "metadata": {
    "id": "0u6VIzaDyuoT"
   },
   "outputs": [],
   "source": [
    "inv_yhat_without_mc = np.concatenate((forecast_without_mc, yhat_without_mc), axis=1) # Concatenation of predicted values with Historical Data\n",
    "#inv_yhat_without_mc = scaler.inverse_transform(inv_yhat_without_mc) # Transform labels back to original encoding"
   ]
  },
  {
   "cell_type": "code",
   "execution_count": 23,
   "metadata": {
    "colab": {
     "base_uri": "https://localhost:8080/"
    },
    "id": "EUEcw0LX07oU",
    "outputId": "cfc32397-9c37-4b43-d087-584bb31c3dcc"
   },
   "outputs": [
    {
     "data": {
      "text/plain": [
       "(1, 311)"
      ]
     },
     "execution_count": 23,
     "metadata": {},
     "output_type": "execute_result"
    }
   ],
   "source": [
    "inv_yhat_without_mc.shape"
   ]
  },
  {
   "cell_type": "code",
   "execution_count": 24,
   "metadata": {
    "id": "31OWVbSh_305"
   },
   "outputs": [],
   "source": [
    "fforecast = inv_yhat_without_mc[:,-300:]"
   ]
  },
  {
   "cell_type": "code",
   "execution_count": 25,
   "metadata": {},
   "outputs": [
    {
     "data": {
      "text/plain": [
       "(1, 300)"
      ]
     },
     "execution_count": 25,
     "metadata": {},
     "output_type": "execute_result"
    }
   ],
   "source": [
    "fforecast.shape"
   ]
  },
  {
   "cell_type": "code",
   "execution_count": 26,
   "metadata": {
    "id": "BlpGH2FOAiRF"
   },
   "outputs": [],
   "source": [
    "final_forecast = fforecast[:,0:300:3]"
   ]
  },
  {
   "cell_type": "code",
   "execution_count": 27,
   "metadata": {},
   "outputs": [
    {
     "data": {
      "text/plain": [
       "(1, 300)"
      ]
     },
     "execution_count": 27,
     "metadata": {},
     "output_type": "execute_result"
    }
   ],
   "source": [
    "fforecast.shape"
   ]
  },
  {
   "cell_type": "code",
   "execution_count": 28,
   "metadata": {
    "id": "CXkgkj_LBk_t"
   },
   "outputs": [],
   "source": [
    "# code to replace all negative value with 0\n",
    "final_forecast[final_forecast<0] = 0"
   ]
  },
  {
   "cell_type": "code",
   "execution_count": 29,
   "metadata": {},
   "outputs": [
    {
     "data": {
      "text/plain": [
       "array([[6.76746499e+01, 6.76466387e+01, 6.76186275e+01, 6.75906162e+01,\n",
       "        6.75626050e+01, 6.75345938e+01, 6.75065826e+01, 6.74785714e+01,\n",
       "        6.74505602e+01, 6.74225490e+01, 6.73945378e+01, 6.73665266e+01,\n",
       "        6.73385154e+01, 6.73105042e+01, 6.72824930e+01, 6.72544818e+01,\n",
       "        6.72264706e+01, 6.71984594e+01, 6.71704482e+01, 6.71424370e+01,\n",
       "        6.71144258e+01, 6.70864146e+01, 6.70584034e+01, 6.70303922e+01,\n",
       "        6.70023810e+01, 6.69743697e+01, 6.69463585e+01, 6.69183473e+01,\n",
       "        6.68903361e+01, 6.68623249e+01, 6.68343137e+01, 6.68063025e+01,\n",
       "        6.67826331e+01, 6.67602241e+01, 6.67378151e+01, 6.67154062e+01,\n",
       "        6.66929972e+01, 6.66705882e+01, 6.66481793e+01, 6.66257703e+01,\n",
       "        6.66033613e+01, 6.65809524e+01, 6.65585434e+01, 6.65361345e+01,\n",
       "        6.65137255e+01, 6.64913165e+01, 6.64689076e+01, 7.03338235e+01,\n",
       "        7.02750000e+01, 7.02161765e+01, 7.01573529e+01, 7.00985294e+01,\n",
       "        7.00397059e+01, 6.99808824e+01, 6.99220588e+01, 6.98159664e+01,\n",
       "        6.96815126e+01, 6.95470588e+01, 6.94126050e+01, 6.92781513e+01,\n",
       "        6.91436975e+01, 6.90092437e+01, 6.88747899e+01, 6.87403361e+01,\n",
       "        6.86058824e+01, 6.84714286e+01, 6.83369748e+01, 6.82695378e+01,\n",
       "        6.82275210e+01, 6.81855042e+01, 6.81434874e+01, 6.81014706e+01,\n",
       "        6.80594538e+01, 7.51025543e+01, 1.93370014e-01, 5.84132373e-01,\n",
       "        4.75012898e-01, 3.61841950e-02, 0.00000000e+00, 3.34053993e-01,\n",
       "        6.70672073e+01, 4.71362695e-02, 4.33571011e-01, 3.18134546e-01,\n",
       "        0.00000000e+00, 9.41852480e-02, 0.00000000e+00, 0.00000000e+00,\n",
       "        0.00000000e+00, 0.00000000e+00, 0.00000000e+00, 9.29522097e-01,\n",
       "        4.63562191e-01, 0.00000000e+00, 0.00000000e+00, 0.00000000e+00,\n",
       "        3.87255639e-01, 2.24838197e-01, 0.00000000e+00, 0.00000000e+00]])"
      ]
     },
     "execution_count": 29,
     "metadata": {},
     "output_type": "execute_result"
    }
   ],
   "source": [
    "final_forecast"
   ]
  },
  {
   "cell_type": "code",
   "execution_count": 30,
   "metadata": {},
   "outputs": [
    {
     "data": {
      "text/plain": [
       "(1, 100)"
      ]
     },
     "execution_count": 30,
     "metadata": {},
     "output_type": "execute_result"
    }
   ],
   "source": [
    "final_forecast.shape"
   ]
  },
  {
   "cell_type": "code",
   "execution_count": 31,
   "metadata": {},
   "outputs": [
    {
     "data": {
      "text/plain": [
       "(100,)"
      ]
     },
     "execution_count": 31,
     "metadata": {},
     "output_type": "execute_result"
    }
   ],
   "source": [
    "test.shape"
   ]
  },
  {
   "cell_type": "code",
   "execution_count": 32,
   "metadata": {},
   "outputs": [],
   "source": [
    "training_set = np.array(training_set)\n",
    "test = np.array(test)\n",
    "final_forecast = np.array(final_forecast.squeeze(0))"
   ]
  },
  {
   "cell_type": "code",
   "execution_count": 33,
   "metadata": {},
   "outputs": [
    {
     "data": {
      "text/plain": [
       "array([60.01067927, 59.98406863, 59.95745798, 59.93084734, 59.90423669,\n",
       "       59.87762605, 59.85101541, 59.82440476, 59.79779412, 59.77118347,\n",
       "       59.74457283, 59.71796218, 59.69135154, 59.6647409 , 59.63813025,\n",
       "       59.61151961, 59.58490896, 59.55829832, 59.53168768, 59.50507703,\n",
       "       59.47846639, 59.45185574, 59.4252451 , 59.39863445, 59.37202381,\n",
       "       59.34541317, 59.31880252, 59.29219188, 59.26558123, 59.23897059,\n",
       "       59.21235994, 59.1857493 , 59.15913866, 59.13252801, 59.10591737,\n",
       "       59.07930672, 59.05269608, 59.02608543, 58.99947479, 58.97286415,\n",
       "       58.9462535 , 58.91964286, 58.89303221, 58.86642157, 58.83981092,\n",
       "       58.81320028, 58.78658964, 58.75997899, 58.73336835, 58.7067577 ,\n",
       "       58.68014706, 58.65353641, 58.62692577, 58.60031513, 58.57370448,\n",
       "       58.54709384, 58.52048319, 58.49387255, 58.4672619 , 58.44065126,\n",
       "       58.41404062, 58.38742997, 58.36081933, 58.33420868, 58.30759804,\n",
       "       58.28098739, 58.25437675, 58.22776611, 58.20115546, 58.17454482,\n",
       "       58.14793417, 58.12132353, 58.09471289, 58.06810224, 58.0414916 ,\n",
       "       58.01488095, 57.98827031, 57.96165966, 57.93504902, 57.90843838,\n",
       "       57.88182773, 57.85521709, 57.82860644, 57.8019958 , 57.78559131,\n",
       "       57.77001435, 57.75443738, 57.73886042, 57.72328346, 57.7077065 ,\n",
       "       57.69212953, 57.67655257, 57.66097561, 57.64539865, 57.62982168,\n",
       "       57.61424472, 57.59866776, 57.5830908 , 57.56751383, 57.55193687])"
      ]
     },
     "execution_count": 33,
     "metadata": {},
     "output_type": "execute_result"
    }
   ],
   "source": [
    "test"
   ]
  },
  {
   "cell_type": "code",
   "execution_count": 34,
   "metadata": {},
   "outputs": [
    {
     "data": {
      "text/plain": [
       "(100,)"
      ]
     },
     "execution_count": 34,
     "metadata": {},
     "output_type": "execute_result"
    }
   ],
   "source": [
    "test.shape"
   ]
  },
  {
   "cell_type": "code",
   "execution_count": 35,
   "metadata": {},
   "outputs": [
    {
     "data": {
      "text/plain": [
       "(100,)"
      ]
     },
     "execution_count": 35,
     "metadata": {},
     "output_type": "execute_result"
    }
   ],
   "source": [
    "final_forecast.shape"
   ]
  },
  {
   "cell_type": "code",
   "execution_count": 36,
   "metadata": {},
   "outputs": [
    {
     "data": {
      "text/plain": [
       "(100,)"
      ]
     },
     "execution_count": 36,
     "metadata": {},
     "output_type": "execute_result"
    }
   ],
   "source": [
    "test.shape"
   ]
  },
  {
   "cell_type": "code",
   "execution_count": 37,
   "metadata": {},
   "outputs": [
    {
     "name": "stdout",
     "output_type": "stream",
     "text": [
      "29.838290374859685\n",
      "21.048978379850784\n"
     ]
    }
   ],
   "source": [
    "import math\n",
    "MSE = np.square(np.subtract(np.array(test),np.array(final_forecast))).mean()   \n",
    "rsme = math.sqrt(MSE)\n",
    "print(rsme)  \n",
    "MAE = np.abs(np.subtract(np.array(test),np.array(final_forecast))).mean()   \n",
    "mae = MAE\n",
    "print(mae)"
   ]
  }
 ],
 "metadata": {
  "colab": {
   "provenance": []
  },
  "kernelspec": {
   "display_name": "Python 3",
   "language": "python",
   "name": "python3"
  },
  "language_info": {
   "codemirror_mode": {
    "name": "ipython",
    "version": 3
   },
   "file_extension": ".py",
   "mimetype": "text/x-python",
   "name": "python",
   "nbconvert_exporter": "python",
   "pygments_lexer": "ipython3",
   "version": "3.9.13"
  }
 },
 "nbformat": 4,
 "nbformat_minor": 0
}
