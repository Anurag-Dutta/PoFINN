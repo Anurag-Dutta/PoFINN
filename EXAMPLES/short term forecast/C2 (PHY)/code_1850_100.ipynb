{
 "cells": [
  {
   "cell_type": "markdown",
   "metadata": {
    "id": "pCGKeZ2gyuoQ"
   },
   "source": [
    "_Importing Required Libraries_"
   ]
  },
  {
   "cell_type": "code",
   "execution_count": 1,
   "metadata": {
    "colab": {
     "base_uri": "https://localhost:8080/"
    },
    "id": "A-6LN-zXiLcM",
    "outputId": "4de610a4-f8b8-4f49-c6c0-89de299ccedc"
   },
   "outputs": [
    {
     "name": "stdout",
     "output_type": "stream",
     "text": [
      "Requirement already satisfied: hampel in c:\\users\\anurag dutta\\appdata\\local\\packages\\pythonsoftwarefoundation.python.3.9_qbz5n2kfra8p0\\localcache\\local-packages\\python39\\site-packages (0.0.5)\n",
      "Requirement already satisfied: numpy in c:\\users\\anurag dutta\\appdata\\local\\packages\\pythonsoftwarefoundation.python.3.9_qbz5n2kfra8p0\\localcache\\local-packages\\python39\\site-packages (from hampel) (1.26.4)\n",
      "Requirement already satisfied: pandas in c:\\users\\anurag dutta\\appdata\\local\\packages\\pythonsoftwarefoundation.python.3.9_qbz5n2kfra8p0\\localcache\\local-packages\\python39\\site-packages (from hampel) (1.5.2)\n",
      "Requirement already satisfied: python-dateutil>=2.8.1 in c:\\users\\anurag dutta\\appdata\\local\\packages\\pythonsoftwarefoundation.python.3.9_qbz5n2kfra8p0\\localcache\\local-packages\\python39\\site-packages (from pandas->hampel) (2.8.2)\n",
      "Requirement already satisfied: pytz>=2020.1 in c:\\users\\anurag dutta\\appdata\\local\\packages\\pythonsoftwarefoundation.python.3.9_qbz5n2kfra8p0\\localcache\\local-packages\\python39\\site-packages (from pandas->hampel) (2023.3.post1)\n",
      "Requirement already satisfied: six>=1.5 in c:\\users\\anurag dutta\\appdata\\local\\packages\\pythonsoftwarefoundation.python.3.9_qbz5n2kfra8p0\\localcache\\local-packages\\python39\\site-packages (from python-dateutil>=2.8.1->pandas->hampel) (1.16.0)\n",
      "Note: you may need to restart the kernel to use updated packages.\n"
     ]
    },
    {
     "name": "stderr",
     "output_type": "stream",
     "text": [
      "\n",
      "[notice] A new release of pip is available: 24.2 -> 24.3.1\n",
      "[notice] To update, run: C:\\Users\\Anurag Dutta\\AppData\\Local\\Microsoft\\WindowsApps\\PythonSoftwareFoundation.Python.3.9_qbz5n2kfra8p0\\python.exe -m pip install --upgrade pip\n"
     ]
    }
   ],
   "source": [
    "pip install hampel"
   ]
  },
  {
   "cell_type": "code",
   "execution_count": 2,
   "metadata": {
    "id": "By_d9uXpaFvZ"
   },
   "outputs": [],
   "source": [
    "from keras.models import Sequential\n",
    "from keras.layers import Dense\n",
    "from keras.layers import LSTM\n",
    "from keras.layers import Dropout\n",
    "import keras\n",
    "import tensorflow as tf\n",
    "from hampel import hampel\n",
    "import numpy as np\n",
    "import matplotlib.pyplot as plt\n",
    "import pandas as pd\n",
    "from sklearn.preprocessing import MinMaxScaler\n",
    "from sklearn.metrics import mean_squared_error, mean_absolute_error\n",
    "from math import sqrt\n",
    "from matplotlib import pyplot\n",
    "from numpy import array"
   ]
  },
  {
   "cell_type": "markdown",
   "metadata": {
    "id": "JyOjBMFayuoR"
   },
   "source": [
    "## Pretraining"
   ]
  },
  {
   "cell_type": "markdown",
   "metadata": {
    "id": "-5QqIY_GyuoR"
   },
   "source": [
    "The `capa_intermittency.dat` feeds the model with the dynamics of the Capacitor"
   ]
  },
  {
   "cell_type": "code",
   "execution_count": 3,
   "metadata": {
    "id": "9dV4a8yfyuoR"
   },
   "outputs": [],
   "source": [
    "data = np.genfromtxt('capa_intermittency.dat')\n",
    "training_set = pd.DataFrame(data).reset_index(drop=True)\n",
    "training_set = training_set.iloc[:,0]"
   ]
  },
  {
   "cell_type": "markdown",
   "metadata": {
    "id": "i7easoxByuoR"
   },
   "source": [
    "## Computing the Gradient"
   ]
  },
  {
   "cell_type": "markdown",
   "metadata": {
    "id": "5SnyolJTyuoR"
   },
   "source": [
    "_Calculating the value of_ $\\frac{dx}{dt}$"
   ]
  },
  {
   "cell_type": "code",
   "execution_count": 4,
   "metadata": {
    "colab": {
     "base_uri": "https://localhost:8080/"
    },
    "id": "wmIbVfIvyuoR",
    "outputId": "aa4e3136-c854-465d-d2e9-81cfd546e440"
   },
   "outputs": [
    {
     "name": "stdout",
     "output_type": "stream",
     "text": [
      "1.0\n",
      "1        0.000298\n",
      "2        0.000298\n",
      "3        0.000297\n",
      "4        0.000297\n",
      "5        0.000297\n",
      "           ...   \n",
      "9996     0.000018\n",
      "9997     0.000018\n",
      "9998     0.000018\n",
      "9999     0.000018\n",
      "10000    0.000018\n",
      "Name: 0, Length: 10000, dtype: float64\n"
     ]
    }
   ],
   "source": [
    "t_diff = 1\n",
    "print(training_set.max())\n",
    "gradient_t = (training_set.diff()/t_diff).iloc[1:] # dx/dt\n",
    "print(gradient_t)"
   ]
  },
  {
   "cell_type": "markdown",
   "metadata": {
    "id": "_2eVeeoxyuoS"
   },
   "source": [
    "## Loading Datasets"
   ]
  },
  {
   "cell_type": "code",
   "execution_count": 5,
   "metadata": {
    "id": "0J-NKyIEyuoS"
   },
   "outputs": [
    {
     "data": {
      "text/plain": [
       "0       90.500000\n",
       "1       90.275910\n",
       "2       90.051821\n",
       "3       89.827731\n",
       "4       89.603641\n",
       "          ...    \n",
       "1945    62.804797\n",
       "1946    62.778186\n",
       "1947    62.751576\n",
       "1948    62.724965\n",
       "1949    62.698354\n",
       "Name: C2, Length: 1950, dtype: float64"
      ]
     },
     "execution_count": 5,
     "metadata": {},
     "output_type": "execute_result"
    }
   ],
   "source": [
    "data = pd.read_csv(\"c2_interpolated_1850_100.csv\")\n",
    "training_set = data.iloc[:, 1]\n",
    "training_set"
   ]
  },
  {
   "cell_type": "code",
   "execution_count": 6,
   "metadata": {
    "colab": {
     "base_uri": "https://localhost:8080/"
    },
    "id": "-CbNUhJ74UqF",
    "outputId": "20f562d8-8247-49cc-b9c3-00eca5e13e2d"
   },
   "outputs": [
    {
     "data": {
      "text/plain": [
       "0       90.500000\n",
       "1       90.275910\n",
       "2       90.051821\n",
       "3       89.827731\n",
       "4       89.603641\n",
       "          ...    \n",
       "1845     0.000000\n",
       "1846     0.468337\n",
       "1847     0.000000\n",
       "1848     0.334054\n",
       "1849     0.154417\n",
       "Name: C2, Length: 1850, dtype: float64"
      ]
     },
     "execution_count": 6,
     "metadata": {},
     "output_type": "execute_result"
    }
   ],
   "source": [
    "test = training_set.tail(100)\n",
    "test\n",
    "training_set = training_set.head(1850)\n",
    "training_set"
   ]
  },
  {
   "cell_type": "code",
   "execution_count": 7,
   "metadata": {
    "colab": {
     "base_uri": "https://localhost:8080/"
    },
    "id": "X0TwTcq0yuoS",
    "outputId": "37252ed8-d88e-4044-fa7a-922411990b5b"
   },
   "outputs": [
    {
     "name": "stdout",
     "output_type": "stream",
     "text": [
      "0       0.000298\n",
      "1       0.000298\n",
      "2       0.000297\n",
      "3       0.000297\n",
      "4       0.000297\n",
      "          ...   \n",
      "9995    0.000018\n",
      "9996    0.000018\n",
      "9997    0.000018\n",
      "9998    0.000018\n",
      "9999    0.000018\n",
      "Name: 0, Length: 10000, dtype: float64\n"
     ]
    }
   ],
   "source": [
    "training_set = training_set.reset_index(drop=True)\n",
    "gradient_t = gradient_t.reset_index(drop=True)\n",
    "print(gradient_t)"
   ]
  },
  {
   "cell_type": "code",
   "execution_count": 8,
   "metadata": {
    "id": "O2biznZQyuoS"
   },
   "outputs": [],
   "source": [
    "df = pd.concat((training_set, gradient_t), axis=1)\n",
    "df.columns = ['y_t', 'grad_t']"
   ]
  },
  {
   "cell_type": "code",
   "execution_count": 9,
   "metadata": {
    "colab": {
     "base_uri": "https://localhost:8080/",
     "height": 423
    },
    "id": "sk_a5v3tyuoS",
    "outputId": "17563625-e550-45ae-faab-fafa353e44da"
   },
   "outputs": [
    {
     "data": {
      "text/html": [
       "<div>\n",
       "<style scoped>\n",
       "    .dataframe tbody tr th:only-of-type {\n",
       "        vertical-align: middle;\n",
       "    }\n",
       "\n",
       "    .dataframe tbody tr th {\n",
       "        vertical-align: top;\n",
       "    }\n",
       "\n",
       "    .dataframe thead th {\n",
       "        text-align: right;\n",
       "    }\n",
       "</style>\n",
       "<table border=\"1\" class=\"dataframe\">\n",
       "  <thead>\n",
       "    <tr style=\"text-align: right;\">\n",
       "      <th></th>\n",
       "      <th>y_t</th>\n",
       "      <th>grad_t</th>\n",
       "    </tr>\n",
       "  </thead>\n",
       "  <tbody>\n",
       "    <tr>\n",
       "      <th>0</th>\n",
       "      <td>90.500000</td>\n",
       "      <td>0.000298</td>\n",
       "    </tr>\n",
       "    <tr>\n",
       "      <th>1</th>\n",
       "      <td>90.275910</td>\n",
       "      <td>0.000298</td>\n",
       "    </tr>\n",
       "    <tr>\n",
       "      <th>2</th>\n",
       "      <td>90.051821</td>\n",
       "      <td>0.000297</td>\n",
       "    </tr>\n",
       "    <tr>\n",
       "      <th>3</th>\n",
       "      <td>89.827731</td>\n",
       "      <td>0.000297</td>\n",
       "    </tr>\n",
       "    <tr>\n",
       "      <th>4</th>\n",
       "      <td>89.603641</td>\n",
       "      <td>0.000297</td>\n",
       "    </tr>\n",
       "    <tr>\n",
       "      <th>...</th>\n",
       "      <td>...</td>\n",
       "      <td>...</td>\n",
       "    </tr>\n",
       "    <tr>\n",
       "      <th>9995</th>\n",
       "      <td>NaN</td>\n",
       "      <td>0.000018</td>\n",
       "    </tr>\n",
       "    <tr>\n",
       "      <th>9996</th>\n",
       "      <td>NaN</td>\n",
       "      <td>0.000018</td>\n",
       "    </tr>\n",
       "    <tr>\n",
       "      <th>9997</th>\n",
       "      <td>NaN</td>\n",
       "      <td>0.000018</td>\n",
       "    </tr>\n",
       "    <tr>\n",
       "      <th>9998</th>\n",
       "      <td>NaN</td>\n",
       "      <td>0.000018</td>\n",
       "    </tr>\n",
       "    <tr>\n",
       "      <th>9999</th>\n",
       "      <td>NaN</td>\n",
       "      <td>0.000018</td>\n",
       "    </tr>\n",
       "  </tbody>\n",
       "</table>\n",
       "<p>10000 rows × 2 columns</p>\n",
       "</div>"
      ],
      "text/plain": [
       "            y_t    grad_t\n",
       "0     90.500000  0.000298\n",
       "1     90.275910  0.000298\n",
       "2     90.051821  0.000297\n",
       "3     89.827731  0.000297\n",
       "4     89.603641  0.000297\n",
       "...         ...       ...\n",
       "9995        NaN  0.000018\n",
       "9996        NaN  0.000018\n",
       "9997        NaN  0.000018\n",
       "9998        NaN  0.000018\n",
       "9999        NaN  0.000018\n",
       "\n",
       "[10000 rows x 2 columns]"
      ]
     },
     "execution_count": 9,
     "metadata": {},
     "output_type": "execute_result"
    }
   ],
   "source": [
    "df"
   ]
  },
  {
   "cell_type": "markdown",
   "metadata": {
    "id": "-5esyHu5aFvg"
   },
   "source": [
    "## Plot of the External Forcing from Chaotic Differential Equation"
   ]
  },
  {
   "cell_type": "code",
   "execution_count": 10,
   "metadata": {
    "colab": {
     "base_uri": "https://localhost:8080/",
     "height": 447
    },
    "id": "hGnE43tOh-4p",
    "outputId": "fc396503-b624-4fa5-dfbe-f460207405c6"
   },
   "outputs": [
    {
     "data": {
      "text/plain": [
       "<Axes: >"
      ]
     },
     "execution_count": 10,
     "metadata": {},
     "output_type": "execute_result"
    },
    {
     "data": {
      "image/png": "[encoded data removed]",
      "text/plain": [
       "<Figure size 432x288 with 1 Axes>"
      ]
     },
     "metadata": {
      "needs_background": "light"
     },
     "output_type": "display_data"
    }
   ],
   "source": [
    "df.iloc[:, 0].plot()"
   ]
  },
  {
   "cell_type": "code",
   "execution_count": 11,
   "metadata": {
    "colab": {
     "base_uri": "https://localhost:8080/",
     "height": 447
    },
    "id": "ym4xWUUxaFvg",
    "outputId": "ae6a3495-8ce9-437e-ba81-3ed31deedeae"
   },
   "outputs": [
    {
     "name": "stderr",
     "output_type": "stream",
     "text": [
      "C:\\Users\\Anurag Dutta\\AppData\\Local\\Packages\\PythonSoftwareFoundation.Python.3.9_qbz5n2kfra8p0\\LocalCache\\local-packages\\Python39\\site-packages\\pandas\\core\\arraylike.py:402: RuntimeWarning: divide by zero encountered in log\n",
      "  result = getattr(ufunc, method)(*inputs, **kwargs)\n"
     ]
    },
    {
     "data": {
      "text/plain": [
       "<Axes: >"
      ]
     },
     "execution_count": 11,
     "metadata": {},
     "output_type": "execute_result"
    },
    {
     "data": {
      "image/png": "[encoded data removed]",
      "text/plain": [
       "<Figure size 432x288 with 1 Axes>"
      ]
     },
     "metadata": {
      "needs_background": "light"
     },
     "output_type": "display_data"
    }
   ],
   "source": [
    "import numpy as np\n",
    "c0 = 88.1552  # Value for C0\n",
    "K0 = -0.0026  # Value for K0\n",
    "K1 = -0.0004  # Value for K1\n",
    "a = 0.0000    # Value for a\n",
    "b = 0.0102    # Value for b\n",
    "c = 2.8734    # Value for c\n",
    "\n",
    "L = np.minimum(c0, (df.iloc[:, 1] - (df.iloc[:, 0] * (K0 - K1 * (9 * a * np.log(df.iloc[:, 0] / c0) / (K0 - K1 * c)**2 + 4 * b * np.log(df.iloc[:, 0] / c0) / (K0 - K1 * c) + c)))))\n",
    "L.plot()"
   ]
  },
  {
   "cell_type": "markdown",
   "metadata": {
    "id": "9VyEywnwaFvh"
   },
   "source": [
    "## Preprocessing the data into supervised learning"
   ]
  },
  {
   "cell_type": "code",
   "execution_count": 12,
   "metadata": {
    "id": "6V9dXqzdaFvh"
   },
   "outputs": [],
   "source": [
    "# split a sequence into samples\n",
    "def Supervised(data, n_in=1, n_out=1, dropnan=True):\n",
    "    n_vars = 1 if type(data) is list else data.shape[1]\n",
    "    df = pd.DataFrame(data)\n",
    "    cols, names = list(), list()\n",
    "    # input sequence (t-n_in, ... t-1)\n",
    "    for i in range(n_in, 0, -1):\n",
    "        cols.append(df.shift(i))\n",
    "        names += [('var%d(t-%d)' % (j+1, i)) for j in range(n_vars)]\n",
    "    # forecast sequence (t, t+1, ... t+n_out)\n",
    "    for i in range(0, n_out):\n",
    "      cols.append(df.shift(-i))\n",
    "      if i == 0:\n",
    "        names += [('var%d(t)' % (j+1)) for j in range(n_vars)]\n",
    "      else:\n",
    "        names += [('var%d(t+%d)' % (j+1, i)) for j in range(n_vars)]\n",
    "    # put it all together\n",
    "    agg = pd.concat(cols, axis=1)\n",
    "    agg.columns = names\n",
    "    # drop rows with NaN values\n",
    "    if dropnan:\n",
    "       agg.dropna(inplace=True)\n",
    "    return agg"
   ]
  },
  {
   "cell_type": "code",
   "execution_count": 13,
   "metadata": {
    "colab": {
     "base_uri": "https://localhost:8080/"
    },
    "id": "CrzSrT1HnyfH",
    "outputId": "7e75f928-3e47-499d-eac1-51908015ef78"
   },
   "outputs": [
    {
     "name": "stdout",
     "output_type": "stream",
     "text": [
      "     var1(t-350)  var1(t-349)  var1(t-348)  var1(t-347)  var1(t-346)  \\\n",
      "350    90.500000    90.275910    90.051821    89.827731    89.603641   \n",
      "351    90.275910    90.051821    89.827731    89.603641    89.379552   \n",
      "352    90.051821    89.827731    89.603641    89.379552    89.155462   \n",
      "353    89.827731    89.603641    89.379552    89.155462    88.931373   \n",
      "354    89.603641    89.379552    89.155462    88.931373    88.707283   \n",
      "\n",
      "     var1(t-345)  var1(t-344)  var1(t-343)  var1(t-342)  var1(t-341)  ...  \\\n",
      "350    89.379552    89.155462    88.931373    88.707283    88.494958  ...   \n",
      "351    89.155462    88.931373    88.707283    88.494958    88.427731  ...   \n",
      "352    88.931373    88.707283    88.494958    88.427731    88.360504  ...   \n",
      "353    88.707283    88.494958    88.427731    88.360504    88.293277  ...   \n",
      "354    88.494958    88.427731    88.360504    88.293277    88.226050  ...   \n",
      "\n",
      "     var1(t+95)  var2(t+95)  var1(t+96)  var2(t+96)  var1(t+97)  var2(t+97)  \\\n",
      "350   79.071008    0.000263   79.054202    0.000263   79.037395    0.000263   \n",
      "351   79.054202    0.000263   79.037395    0.000263   79.020588    0.000262   \n",
      "352   79.037395    0.000263   79.020588    0.000262   79.003782    0.000262   \n",
      "353   79.020588    0.000262   79.003782    0.000262   78.986975    0.000262   \n",
      "354   79.003782    0.000262   78.986975    0.000262   78.970168    0.000262   \n",
      "\n",
      "     var1(t+98)  var2(t+98)  var1(t+99)  var2(t+99)  \n",
      "350   79.020588    0.000262   79.003782    0.000262  \n",
      "351   79.003782    0.000262   78.986975    0.000262  \n",
      "352   78.986975    0.000262   78.970168    0.000262  \n",
      "353   78.970168    0.000262   78.953361    0.000262  \n",
      "354   78.953361    0.000262   78.936555    0.000262  \n",
      "\n",
      "[5 rows x 551 columns]\n",
      "Index(['var1(t-350)', 'var1(t-349)', 'var1(t-348)', 'var1(t-347)',\n",
      "       'var1(t-346)', 'var1(t-345)', 'var1(t-344)', 'var1(t-343)',\n",
      "       'var1(t-342)', 'var1(t-341)',\n",
      "       ...\n",
      "       'var1(t+95)', 'var2(t+95)', 'var1(t+96)', 'var2(t+96)', 'var1(t+97)',\n",
      "       'var2(t+97)', 'var1(t+98)', 'var2(t+98)', 'var1(t+99)', 'var2(t+99)'],\n",
      "      dtype='object', length=551)\n"
     ]
    }
   ],
   "source": [
    "data = Supervised(df.values, n_in = 350, n_out = 100)\n",
    "\n",
    "\n",
    "cols_to_drop = []\n",
    "for i in range(2, 351):\n",
    "    cols_to_drop.extend([f'var2(t-{i})'])\n",
    "\n",
    "data.drop(cols_to_drop, axis=1, inplace=True)\n",
    "\n",
    "print(data.head())\n",
    "print(data.columns)"
   ]
  },
  {
   "cell_type": "code",
   "execution_count": 14,
   "metadata": {
    "id": "AfPf60oy6Pe4"
   },
   "outputs": [],
   "source": [
    "train = np.array(data[0:len(data)-1])\n",
    "forecast = np.array(data.tail(1))"
   ]
  },
  {
   "cell_type": "code",
   "execution_count": 15,
   "metadata": {
    "id": "WSAafzI37KiT"
   },
   "outputs": [],
   "source": [
    "trainy = train[:,-300:]\n",
    "trainX = train[:,:-300]"
   ]
  },
  {
   "cell_type": "code",
   "execution_count": 16,
   "metadata": {
    "id": "2SrOqVJA7f50"
   },
   "outputs": [],
   "source": [
    "forecasty = forecast[:,-300:]\n",
    "forecastX = forecast[:,:-300]"
   ]
  },
  {
   "cell_type": "code",
   "execution_count": 17,
   "metadata": {
    "colab": {
     "base_uri": "https://localhost:8080/"
    },
    "id": "Qno_k8Nw7saY",
    "outputId": "c4a88db5-d8c6-489f-cdb2-06b24e293cff"
   },
   "outputs": [
    {
     "name": "stdout",
     "output_type": "stream",
     "text": [
      "(1400, 1, 251) (1400, 300) (1, 1, 251)\n"
     ]
    }
   ],
   "source": [
    "trainX = trainX.reshape((trainX.shape[0], 1, trainX.shape[1]))\n",
    "forecastX = forecastX.reshape((forecastX.shape[0], 1, forecastX.shape[1]))\n",
    "print(trainX.shape, trainy.shape, forecastX.shape)"
   ]
  },
  {
   "cell_type": "code",
   "execution_count": 18,
   "metadata": {
    "colab": {
     "base_uri": "https://localhost:8080/"
    },
    "id": "b1Jp2DvNuNFx",
    "outputId": "d0e5b3c4-64f1-438c-eade-8dfeaac8e285"
   },
   "outputs": [
    {
     "name": "stdout",
     "output_type": "stream",
     "text": [
      "Epoch 1/500\n",
      "18/18 [==============================] - 2s 28ms/step - loss: 5430.1602 - val_loss: 4448.3457\n",
      "Epoch 2/500\n",
      "18/18 [==============================] - 0s 4ms/step - loss: 5346.9121 - val_loss: 4394.9204\n",
      "Epoch 3/500\n",
      "18/18 [==============================] - 0s 3ms/step - loss: 5270.9443 - val_loss: 4323.3838\n",
      "Epoch 4/500\n",
      "18/18 [==============================] - 0s 5ms/step - loss: 5208.7495 - val_loss: 4268.3496\n",
      "Epoch 5/500\n",
      "18/18 [==============================] - 0s 4ms/step - loss: 5148.6030 - val_loss: 4214.0693\n",
      "Epoch 6/500\n",
      "18/18 [==============================] - 0s 3ms/step - loss: 5089.2188 - val_loss: 4160.4663\n",
      "Epoch 7/500\n",
      "18/18 [==============================] - 0s 4ms/step - loss: 5030.5083 - val_loss: 4107.4717\n",
      "Epoch 8/500\n",
      "18/18 [==============================] - 0s 4ms/step - loss: 4972.4106 - val_loss: 4055.0425\n",
      "Epoch 9/500\n",
      "18/18 [==============================] - 0s 5ms/step - loss: 4909.3276 - val_loss: 3970.7322\n",
      "Epoch 10/500\n",
      "18/18 [==============================] - 0s 3ms/step - loss: 4818.1118 - val_loss: 3911.0862\n",
      "Epoch 11/500\n",
      "18/18 [==============================] - 0s 4ms/step - loss: 4752.8105 - val_loss: 3852.9180\n",
      "Epoch 12/500\n",
      "18/18 [==============================] - 0s 4ms/step - loss: 4689.4302 - val_loss: 3796.4661\n",
      "Epoch 13/500\n",
      "18/18 [==============================] - 0s 6ms/step - loss: 4627.6870 - val_loss: 3741.3147\n",
      "Epoch 14/500\n",
      "18/18 [==============================] - 0s 4ms/step - loss: 4567.1963 - val_loss: 3687.2012\n",
      "Epoch 15/500\n",
      "18/18 [==============================] - 0s 5ms/step - loss: 4507.7290 - val_loss: 3633.9722\n",
      "Epoch 16/500\n",
      "18/18 [==============================] - 0s 3ms/step - loss: 4449.1484 - val_loss: 3581.5317\n",
      "Epoch 17/500\n",
      "18/18 [==============================] - 0s 4ms/step - loss: 4391.3662 - val_loss: 3529.8149\n",
      "Epoch 18/500\n",
      "18/18 [==============================] - 0s 5ms/step - loss: 4334.3218 - val_loss: 3478.7766\n",
      "Epoch 19/500\n",
      "18/18 [==============================] - 0s 4ms/step - loss: 4277.9712 - val_loss: 3428.3818\n",
      "Epoch 20/500\n",
      "18/18 [==============================] - 0s 4ms/step - loss: 4222.2827 - val_loss: 3378.6052\n",
      "Epoch 21/500\n",
      "18/18 [==============================] - 0s 4ms/step - loss: 4167.2280 - val_loss: 3329.4248\n",
      "Epoch 22/500\n",
      "18/18 [==============================] - 0s 4ms/step - loss: 4112.7881 - val_loss: 3280.8232\n",
      "Epoch 23/500\n",
      "18/18 [==============================] - 0s 4ms/step - loss: 4058.9438 - val_loss: 3232.7866\n",
      "Epoch 24/500\n",
      "18/18 [==============================] - 0s 5ms/step - loss: 4005.6816 - val_loss: 3185.3010\n",
      "Epoch 25/500\n",
      "18/18 [==============================] - 0s 4ms/step - loss: 3952.9893 - val_loss: 3138.3567\n",
      "Epoch 26/500\n",
      "18/18 [==============================] - 0s 4ms/step - loss: 3900.8550 - val_loss: 3091.9424\n",
      "Epoch 27/500\n",
      "18/18 [==============================] - 0s 4ms/step - loss: 3849.2673 - val_loss: 3046.0513\n",
      "Epoch 28/500\n",
      "18/18 [==============================] - 0s 4ms/step - loss: 3798.2200 - val_loss: 3000.6748\n",
      "Epoch 29/500\n",
      "18/18 [==============================] - 0s 4ms/step - loss: 3747.7036 - val_loss: 2955.8044\n",
      "Epoch 30/500\n",
      "18/18 [==============================] - 0s 4ms/step - loss: 3697.7109 - val_loss: 2911.4348\n",
      "Epoch 31/500\n",
      "18/18 [==============================] - 0s 4ms/step - loss: 3648.2356 - val_loss: 2867.5593\n",
      "Epoch 32/500\n",
      "18/18 [==============================] - 0s 4ms/step - loss: 3599.2710 - val_loss: 2824.1724\n",
      "Epoch 33/500\n",
      "18/18 [==============================] - 0s 4ms/step - loss: 3550.8103 - val_loss: 2781.2676\n",
      "Epoch 34/500\n",
      "18/18 [==============================] - 0s 4ms/step - loss: 3502.8489 - val_loss: 2738.8408\n",
      "Epoch 35/500\n",
      "18/18 [==============================] - 0s 4ms/step - loss: 3455.3811 - val_loss: 2696.8848\n",
      "Epoch 36/500\n",
      "18/18 [==============================] - 0s 3ms/step - loss: 3408.4009 - val_loss: 2655.3975\n",
      "Epoch 37/500\n",
      "18/18 [==============================] - 0s 4ms/step - loss: 3361.9050 - val_loss: 2614.3728\n",
      "Epoch 38/500\n",
      "18/18 [==============================] - 0s 5ms/step - loss: 3315.8875 - val_loss: 2573.8069\n",
      "Epoch 39/500\n",
      "18/18 [==============================] - 0s 4ms/step - loss: 3270.3440 - val_loss: 2533.6946\n",
      "Epoch 40/500\n",
      "18/18 [==============================] - 0s 4ms/step - loss: 3225.2705 - val_loss: 2494.0327\n",
      "Epoch 41/500\n",
      "18/18 [==============================] - 0s 4ms/step - loss: 3180.6628 - val_loss: 2454.8162\n",
      "Epoch 42/500\n",
      "18/18 [==============================] - 0s 4ms/step - loss: 3136.5166 - val_loss: 2416.0413\n",
      "Epoch 43/500\n",
      "18/18 [==============================] - 0s 3ms/step - loss: 3092.8274 - val_loss: 2377.7046\n",
      "Epoch 44/500\n",
      "18/18 [==============================] - 0s 4ms/step - loss: 3049.5920 - val_loss: 2339.8018\n",
      "Epoch 45/500\n",
      "18/18 [==============================] - 0s 4ms/step - loss: 3006.8059 - val_loss: 2302.3301\n",
      "Epoch 46/500\n",
      "18/18 [==============================] - 0s 4ms/step - loss: 2964.4661 - val_loss: 2265.2852\n",
      "Epoch 47/500\n",
      "18/18 [==============================] - 0s 4ms/step - loss: 2922.5681 - val_loss: 2228.6636\n",
      "Epoch 48/500\n",
      "18/18 [==============================] - 0s 4ms/step - loss: 2881.1091 - val_loss: 2192.4614\n",
      "Epoch 49/500\n",
      "18/18 [==============================] - 0s 4ms/step - loss: 2840.0850 - val_loss: 2156.6758\n",
      "Epoch 50/500\n",
      "18/18 [==============================] - 0s 8ms/step - loss: 2799.4922 - val_loss: 2121.3035\n",
      "Epoch 51/500\n",
      "18/18 [==============================] - 0s 3ms/step - loss: 2759.3281 - val_loss: 2086.3401\n",
      "Epoch 52/500\n",
      "18/18 [==============================] - 0s 4ms/step - loss: 2719.5886 - val_loss: 2051.7830\n",
      "Epoch 53/500\n",
      "18/18 [==============================] - 0s 4ms/step - loss: 2680.2708 - val_loss: 2017.6293\n",
      "Epoch 54/500\n",
      "18/18 [==============================] - 0s 4ms/step - loss: 2641.3706 - val_loss: 1983.8759\n",
      "Epoch 55/500\n",
      "18/18 [==============================] - 0s 4ms/step - loss: 2602.8855 - val_loss: 1950.5183\n",
      "Epoch 56/500\n",
      "18/18 [==============================] - 0s 3ms/step - loss: 2564.8125 - val_loss: 1917.5553\n",
      "Epoch 57/500\n",
      "18/18 [==============================] - 0s 3ms/step - loss: 2527.1482 - val_loss: 1884.9824\n",
      "Epoch 58/500\n",
      "18/18 [==============================] - 0s 4ms/step - loss: 2489.8896 - val_loss: 1852.7975\n",
      "Epoch 59/500\n",
      "18/18 [==============================] - 0s 4ms/step - loss: 2453.0334 - val_loss: 1820.9966\n",
      "Epoch 60/500\n",
      "18/18 [==============================] - 0s 4ms/step - loss: 2416.5769 - val_loss: 1789.5771\n",
      "Epoch 61/500\n",
      "18/18 [==============================] - 0s 4ms/step - loss: 2380.5168 - val_loss: 1758.5369\n",
      "Epoch 62/500\n",
      "18/18 [==============================] - 0s 4ms/step - loss: 2344.8501 - val_loss: 1727.8713\n",
      "Epoch 63/500\n",
      "18/18 [==============================] - 0s 4ms/step - loss: 2309.5742 - val_loss: 1697.5790\n",
      "Epoch 64/500\n",
      "18/18 [==============================] - 0s 4ms/step - loss: 2274.6858 - val_loss: 1667.6565\n",
      "Epoch 65/500\n",
      "18/18 [==============================] - 0s 4ms/step - loss: 2240.1819 - val_loss: 1638.1002\n",
      "Epoch 66/500\n",
      "18/18 [==============================] - 0s 4ms/step - loss: 2206.0596 - val_loss: 1608.9095\n",
      "Epoch 67/500\n",
      "18/18 [==============================] - 0s 4ms/step - loss: 2172.3176 - val_loss: 1580.0793\n",
      "Epoch 68/500\n",
      "18/18 [==============================] - 0s 4ms/step - loss: 2138.9514 - val_loss: 1551.6075\n",
      "Epoch 69/500\n",
      "18/18 [==============================] - 0s 4ms/step - loss: 2105.9587 - val_loss: 1523.4926\n",
      "Epoch 70/500\n",
      "18/18 [==============================] - 0s 5ms/step - loss: 2073.3364 - val_loss: 1495.7299\n",
      "Epoch 71/500\n",
      "18/18 [==============================] - 0s 4ms/step - loss: 2041.0822 - val_loss: 1468.3174\n",
      "Epoch 72/500\n",
      "18/18 [==============================] - 0s 4ms/step - loss: 2009.1934 - val_loss: 1441.2533\n",
      "Epoch 73/500\n",
      "18/18 [==============================] - 0s 4ms/step - loss: 1977.6676 - val_loss: 1414.5341\n",
      "Epoch 74/500\n",
      "18/18 [==============================] - 0s 4ms/step - loss: 1946.5020 - val_loss: 1388.1573\n",
      "Epoch 75/500\n",
      "18/18 [==============================] - 0s 4ms/step - loss: 1915.6931 - val_loss: 1362.1205\n",
      "Epoch 76/500\n",
      "18/18 [==============================] - 0s 5ms/step - loss: 1885.2393 - val_loss: 1336.4203\n",
      "Epoch 77/500\n",
      "18/18 [==============================] - 0s 4ms/step - loss: 1855.1379 - val_loss: 1311.0551\n",
      "Epoch 78/500\n",
      "18/18 [==============================] - 0s 4ms/step - loss: 1825.3851 - val_loss: 1286.0214\n",
      "Epoch 79/500\n",
      "18/18 [==============================] - 0s 3ms/step - loss: 1795.9800 - val_loss: 1261.3175\n",
      "Epoch 80/500\n",
      "18/18 [==============================] - 0s 3ms/step - loss: 1766.9186 - val_loss: 1236.9398\n",
      "Epoch 81/500\n",
      "18/18 [==============================] - 0s 4ms/step - loss: 1738.1991 - val_loss: 1212.8866\n",
      "Epoch 82/500\n",
      "18/18 [==============================] - 0s 4ms/step - loss: 1709.8188 - val_loss: 1189.1556\n",
      "Epoch 83/500\n",
      "18/18 [==============================] - 0s 7ms/step - loss: 1681.7758 - val_loss: 1165.7430\n",
      "Epoch 84/500\n",
      "18/18 [==============================] - 0s 4ms/step - loss: 1654.0667 - val_loss: 1142.6481\n",
      "Epoch 85/500\n",
      "18/18 [==============================] - 0s 4ms/step - loss: 1626.6895 - val_loss: 1119.8669\n",
      "Epoch 86/500\n",
      "18/18 [==============================] - 0s 4ms/step - loss: 1599.6410 - val_loss: 1097.3972\n",
      "Epoch 87/500\n",
      "18/18 [==============================] - 0s 4ms/step - loss: 1572.9197 - val_loss: 1075.2374\n",
      "Epoch 88/500\n",
      "18/18 [==============================] - 0s 4ms/step - loss: 1546.5227 - val_loss: 1053.3837\n",
      "Epoch 89/500\n",
      "18/18 [==============================] - 0s 5ms/step - loss: 1520.4473 - val_loss: 1031.8346\n",
      "Epoch 90/500\n",
      "18/18 [==============================] - 0s 3ms/step - loss: 1494.6919 - val_loss: 1010.5876\n",
      "Epoch 91/500\n",
      "18/18 [==============================] - 0s 4ms/step - loss: 1469.2533 - val_loss: 989.6397\n",
      "Epoch 92/500\n",
      "18/18 [==============================] - 0s 4ms/step - loss: 1444.1298 - val_loss: 968.9906\n",
      "Epoch 93/500\n",
      "18/18 [==============================] - 0s 4ms/step - loss: 1419.3190 - val_loss: 948.6354\n",
      "Epoch 94/500\n",
      "18/18 [==============================] - 0s 3ms/step - loss: 1394.8179 - val_loss: 928.5722\n",
      "Epoch 95/500\n",
      "18/18 [==============================] - 0s 4ms/step - loss: 1370.6243 - val_loss: 908.7995\n",
      "Epoch 96/500\n",
      "18/18 [==============================] - 0s 4ms/step - loss: 1346.7357 - val_loss: 889.3138\n",
      "Epoch 97/500\n",
      "18/18 [==============================] - 0s 4ms/step - loss: 1323.1504 - val_loss: 870.1149\n",
      "Epoch 98/500\n",
      "18/18 [==============================] - 0s 4ms/step - loss: 1299.8661 - val_loss: 851.1981\n",
      "Epoch 99/500\n",
      "18/18 [==============================] - 0s 5ms/step - loss: 1276.8799 - val_loss: 832.5615\n",
      "Epoch 100/500\n",
      "18/18 [==============================] - 0s 4ms/step - loss: 1254.1898 - val_loss: 814.2045\n",
      "Epoch 101/500\n",
      "18/18 [==============================] - 0s 3ms/step - loss: 1231.7936 - val_loss: 796.1233\n",
      "Epoch 102/500\n",
      "18/18 [==============================] - 0s 4ms/step - loss: 1209.6888 - val_loss: 778.3156\n",
      "Epoch 103/500\n",
      "18/18 [==============================] - 0s 4ms/step - loss: 1187.8734 - val_loss: 760.7791\n",
      "Epoch 104/500\n",
      "18/18 [==============================] - 0s 4ms/step - loss: 1166.3447 - val_loss: 743.5121\n",
      "Epoch 105/500\n",
      "18/18 [==============================] - 0s 4ms/step - loss: 1145.1008 - val_loss: 726.5115\n",
      "Epoch 106/500\n",
      "18/18 [==============================] - 0s 4ms/step - loss: 1124.1392 - val_loss: 709.7765\n",
      "Epoch 107/500\n",
      "18/18 [==============================] - 0s 4ms/step - loss: 1103.4583 - val_loss: 693.3033\n",
      "Epoch 108/500\n",
      "18/18 [==============================] - 0s 4ms/step - loss: 1083.0552 - val_loss: 677.0901\n",
      "Epoch 109/500\n",
      "18/18 [==============================] - 0s 4ms/step - loss: 1062.9277 - val_loss: 661.1353\n",
      "Epoch 110/500\n",
      "18/18 [==============================] - 0s 4ms/step - loss: 1043.0740 - val_loss: 645.4359\n",
      "Epoch 111/500\n",
      "18/18 [==============================] - 0s 4ms/step - loss: 1023.4914 - val_loss: 629.9899\n",
      "Epoch 112/500\n",
      "18/18 [==============================] - 0s 3ms/step - loss: 1004.1779 - val_loss: 614.7944\n",
      "Epoch 113/500\n",
      "18/18 [==============================] - 0s 7ms/step - loss: 985.1316 - val_loss: 599.8486\n",
      "Epoch 114/500\n",
      "18/18 [==============================] - 0s 4ms/step - loss: 966.3505 - val_loss: 585.1501\n",
      "Epoch 115/500\n",
      "18/18 [==============================] - 0s 4ms/step - loss: 947.8319 - val_loss: 570.6957\n",
      "Epoch 116/500\n",
      "18/18 [==============================] - 0s 4ms/step - loss: 929.5740 - val_loss: 556.4836\n",
      "Epoch 117/500\n",
      "18/18 [==============================] - 0s 4ms/step - loss: 911.5741 - val_loss: 542.5119\n",
      "Epoch 118/500\n",
      "18/18 [==============================] - 0s 3ms/step - loss: 893.8306 - val_loss: 528.7777\n",
      "Epoch 119/500\n",
      "18/18 [==============================] - 0s 4ms/step - loss: 876.3411 - val_loss: 515.2796\n",
      "Epoch 120/500\n",
      "18/18 [==============================] - 0s 4ms/step - loss: 859.1038 - val_loss: 502.0156\n",
      "Epoch 121/500\n",
      "18/18 [==============================] - 0s 4ms/step - loss: 842.1160 - val_loss: 488.9824\n",
      "Epoch 122/500\n",
      "18/18 [==============================] - 0s 4ms/step - loss: 825.3759 - val_loss: 476.1785\n",
      "Epoch 123/500\n",
      "18/18 [==============================] - 0s 4ms/step - loss: 808.8816 - val_loss: 463.6021\n",
      "Epoch 124/500\n",
      "18/18 [==============================] - 0s 4ms/step - loss: 792.6306 - val_loss: 451.2509\n",
      "Epoch 125/500\n",
      "18/18 [==============================] - 0s 3ms/step - loss: 776.6208 - val_loss: 439.1224\n",
      "Epoch 126/500\n",
      "18/18 [==============================] - 0s 5ms/step - loss: 760.8506 - val_loss: 427.2141\n",
      "Epoch 127/500\n",
      "18/18 [==============================] - 0s 4ms/step - loss: 745.3174 - val_loss: 415.5249\n",
      "Epoch 128/500\n",
      "18/18 [==============================] - 0s 4ms/step - loss: 730.0194 - val_loss: 404.0518\n",
      "Epoch 129/500\n",
      "18/18 [==============================] - 0s 4ms/step - loss: 714.9540 - val_loss: 392.7928\n",
      "Epoch 130/500\n",
      "18/18 [==============================] - 0s 5ms/step - loss: 700.1197 - val_loss: 381.7462\n",
      "Epoch 131/500\n",
      "18/18 [==============================] - 0s 4ms/step - loss: 685.5142 - val_loss: 370.9093\n",
      "Epoch 132/500\n",
      "18/18 [==============================] - 0s 4ms/step - loss: 671.1355 - val_loss: 360.2809\n",
      "Epoch 133/500\n",
      "18/18 [==============================] - 0s 4ms/step - loss: 656.9816 - val_loss: 349.8580\n",
      "Epoch 134/500\n",
      "18/18 [==============================] - 0s 4ms/step - loss: 643.0503 - val_loss: 339.6385\n",
      "Epoch 135/500\n",
      "18/18 [==============================] - 0s 5ms/step - loss: 629.3395 - val_loss: 329.6211\n",
      "Epoch 136/500\n",
      "18/18 [==============================] - 0s 4ms/step - loss: 615.8474 - val_loss: 319.8032\n",
      "Epoch 137/500\n",
      "18/18 [==============================] - 0s 4ms/step - loss: 602.5718 - val_loss: 310.1821\n",
      "Epoch 138/500\n",
      "18/18 [==============================] - 0s 4ms/step - loss: 589.5104 - val_loss: 300.7568\n",
      "Epoch 139/500\n",
      "18/18 [==============================] - 0s 3ms/step - loss: 576.6617 - val_loss: 291.5246\n",
      "Epoch 140/500\n",
      "18/18 [==============================] - 0s 4ms/step - loss: 564.0235 - val_loss: 282.4833\n",
      "Epoch 141/500\n",
      "18/18 [==============================] - 0s 4ms/step - loss: 551.5934 - val_loss: 273.6312\n",
      "Epoch 142/500\n",
      "18/18 [==============================] - 0s 8ms/step - loss: 539.3698 - val_loss: 264.9660\n",
      "Epoch 143/500\n",
      "18/18 [==============================] - 0s 4ms/step - loss: 527.3504 - val_loss: 256.4857\n",
      "Epoch 144/500\n",
      "18/18 [==============================] - 0s 3ms/step - loss: 515.5335 - val_loss: 248.1879\n",
      "Epoch 145/500\n",
      "18/18 [==============================] - 0s 3ms/step - loss: 503.9164 - val_loss: 240.0709\n",
      "Epoch 146/500\n",
      "18/18 [==============================] - 0s 4ms/step - loss: 492.4979 - val_loss: 232.1326\n",
      "Epoch 147/500\n",
      "18/18 [==============================] - 0s 4ms/step - loss: 481.2759 - val_loss: 224.3711\n",
      "Epoch 148/500\n",
      "18/18 [==============================] - 0s 4ms/step - loss: 470.2482 - val_loss: 216.7837\n",
      "Epoch 149/500\n",
      "18/18 [==============================] - 0s 3ms/step - loss: 459.4124 - val_loss: 209.3686\n",
      "Epoch 150/500\n",
      "18/18 [==============================] - 0s 4ms/step - loss: 448.7670 - val_loss: 202.1245\n",
      "Epoch 151/500\n",
      "18/18 [==============================] - 0s 4ms/step - loss: 438.3101 - val_loss: 195.0486\n",
      "Epoch 152/500\n",
      "18/18 [==============================] - 0s 3ms/step - loss: 428.0396 - val_loss: 188.1386\n",
      "Epoch 153/500\n",
      "18/18 [==============================] - 0s 4ms/step - loss: 417.9531 - val_loss: 181.3935\n",
      "Epoch 154/500\n",
      "18/18 [==============================] - 0s 3ms/step - loss: 408.0496 - val_loss: 174.8103\n",
      "Epoch 155/500\n",
      "18/18 [==============================] - 0s 4ms/step - loss: 398.3260 - val_loss: 168.3874\n",
      "Epoch 156/500\n",
      "18/18 [==============================] - 0s 4ms/step - loss: 388.7809 - val_loss: 162.1225\n",
      "Epoch 157/500\n",
      "18/18 [==============================] - 0s 4ms/step - loss: 379.4125 - val_loss: 156.0136\n",
      "Epoch 158/500\n",
      "18/18 [==============================] - 0s 4ms/step - loss: 370.2182 - val_loss: 150.0587\n",
      "Epoch 159/500\n",
      "18/18 [==============================] - 0s 4ms/step - loss: 361.1967 - val_loss: 144.2560\n",
      "Epoch 160/500\n",
      "18/18 [==============================] - 0s 4ms/step - loss: 352.3456 - val_loss: 138.6034\n",
      "Epoch 161/500\n",
      "18/18 [==============================] - 0s 3ms/step - loss: 343.6630 - val_loss: 133.0984\n",
      "Epoch 162/500\n",
      "18/18 [==============================] - 0s 4ms/step - loss: 335.1472 - val_loss: 127.7398\n",
      "Epoch 163/500\n",
      "18/18 [==============================] - 0s 4ms/step - loss: 326.7961 - val_loss: 122.5249\n",
      "Epoch 164/500\n",
      "18/18 [==============================] - 0s 4ms/step - loss: 318.6078 - val_loss: 117.4522\n",
      "Epoch 165/500\n",
      "18/18 [==============================] - 0s 4ms/step - loss: 310.5804 - val_loss: 112.5193\n",
      "Epoch 166/500\n",
      "18/18 [==============================] - 0s 4ms/step - loss: 302.7123 - val_loss: 107.7249\n",
      "Epoch 167/500\n",
      "18/18 [==============================] - 0s 4ms/step - loss: 295.0012 - val_loss: 103.0663\n",
      "Epoch 168/500\n",
      "18/18 [==============================] - 0s 4ms/step - loss: 287.4450 - val_loss: 98.5414\n",
      "Epoch 169/500\n",
      "18/18 [==============================] - 0s 4ms/step - loss: 280.0421 - val_loss: 94.1489\n",
      "Epoch 170/500\n",
      "18/18 [==============================] - 0s 5ms/step - loss: 272.7906 - val_loss: 89.8863\n",
      "Epoch 171/500\n",
      "18/18 [==============================] - 0s 9ms/step - loss: 265.6883 - val_loss: 85.7519\n",
      "Epoch 172/500\n",
      "18/18 [==============================] - 0s 4ms/step - loss: 258.7333 - val_loss: 81.7432\n",
      "Epoch 173/500\n",
      "18/18 [==============================] - 0s 4ms/step - loss: 251.9239 - val_loss: 77.8587\n",
      "Epoch 174/500\n",
      "18/18 [==============================] - 0s 4ms/step - loss: 245.2582 - val_loss: 74.0967\n",
      "Epoch 175/500\n",
      "18/18 [==============================] - 0s 4ms/step - loss: 238.7344 - val_loss: 70.4547\n",
      "Epoch 176/500\n",
      "18/18 [==============================] - 0s 4ms/step - loss: 232.3505 - val_loss: 66.9311\n",
      "Epoch 177/500\n",
      "18/18 [==============================] - 0s 4ms/step - loss: 226.1046 - val_loss: 63.5237\n",
      "Epoch 178/500\n",
      "18/18 [==============================] - 0s 3ms/step - loss: 219.9948 - val_loss: 60.2308\n",
      "Epoch 179/500\n",
      "18/18 [==============================] - 0s 4ms/step - loss: 214.0196 - val_loss: 57.0505\n",
      "Epoch 180/500\n",
      "18/18 [==============================] - 0s 5ms/step - loss: 208.1765 - val_loss: 53.9805\n",
      "Epoch 181/500\n",
      "18/18 [==============================] - 0s 4ms/step - loss: 202.4640 - val_loss: 51.0193\n",
      "Epoch 182/500\n",
      "18/18 [==============================] - 0s 4ms/step - loss: 196.8802 - val_loss: 48.1645\n",
      "Epoch 183/500\n",
      "18/18 [==============================] - 0s 4ms/step - loss: 191.4232 - val_loss: 45.4146\n",
      "Epoch 184/500\n",
      "18/18 [==============================] - 0s 4ms/step - loss: 186.0915 - val_loss: 42.7679\n",
      "Epoch 185/500\n",
      "18/18 [==============================] - 0s 4ms/step - loss: 180.8829 - val_loss: 40.2220\n",
      "Epoch 186/500\n",
      "18/18 [==============================] - 0s 4ms/step - loss: 175.7956 - val_loss: 37.7751\n",
      "Epoch 187/500\n",
      "18/18 [==============================] - 0s 4ms/step - loss: 170.8280 - val_loss: 35.4257\n",
      "Epoch 188/500\n",
      "18/18 [==============================] - 0s 4ms/step - loss: 165.9780 - val_loss: 33.1714\n",
      "Epoch 189/500\n",
      "18/18 [==============================] - 0s 4ms/step - loss: 161.2439 - val_loss: 31.0108\n",
      "Epoch 190/500\n",
      "18/18 [==============================] - 0s 4ms/step - loss: 156.6240 - val_loss: 28.9417\n",
      "Epoch 191/500\n",
      "18/18 [==============================] - 0s 4ms/step - loss: 152.1165 - val_loss: 26.9627\n",
      "Epoch 192/500\n",
      "18/18 [==============================] - 0s 4ms/step - loss: 147.7195 - val_loss: 25.0714\n",
      "Epoch 193/500\n",
      "18/18 [==============================] - 0s 3ms/step - loss: 143.4314 - val_loss: 23.2663\n",
      "Epoch 194/500\n",
      "18/18 [==============================] - 0s 4ms/step - loss: 139.2503 - val_loss: 21.5456\n",
      "Epoch 195/500\n",
      "18/18 [==============================] - 0s 4ms/step - loss: 135.1744 - val_loss: 19.9075\n",
      "Epoch 196/500\n",
      "18/18 [==============================] - 0s 4ms/step - loss: 131.2020 - val_loss: 18.3499\n",
      "Epoch 197/500\n",
      "18/18 [==============================] - 0s 9ms/step - loss: 127.3314 - val_loss: 16.8714\n",
      "Epoch 198/500\n",
      "18/18 [==============================] - 0s 4ms/step - loss: 123.5607 - val_loss: 15.4701\n",
      "Epoch 199/500\n",
      "18/18 [==============================] - 0s 4ms/step - loss: 119.8884 - val_loss: 14.1441\n",
      "Epoch 200/500\n",
      "18/18 [==============================] - 0s 4ms/step - loss: 116.3126 - val_loss: 12.8918\n",
      "Epoch 201/500\n",
      "18/18 [==============================] - 0s 3ms/step - loss: 112.8318 - val_loss: 11.7113\n",
      "Epoch 202/500\n",
      "18/18 [==============================] - 0s 4ms/step - loss: 109.4441 - val_loss: 10.6011\n",
      "Epoch 203/500\n",
      "18/18 [==============================] - 0s 4ms/step - loss: 106.1479 - val_loss: 9.5593\n",
      "Epoch 204/500\n",
      "18/18 [==============================] - 0s 4ms/step - loss: 102.9417 - val_loss: 8.5843\n",
      "Epoch 205/500\n",
      "18/18 [==============================] - 0s 4ms/step - loss: 99.8236 - val_loss: 7.6743\n",
      "Epoch 206/500\n",
      "18/18 [==============================] - 0s 4ms/step - loss: 96.7920 - val_loss: 6.8276\n",
      "Epoch 207/500\n",
      "18/18 [==============================] - 0s 4ms/step - loss: 93.8454 - val_loss: 6.0427\n",
      "Epoch 208/500\n",
      "18/18 [==============================] - 0s 4ms/step - loss: 90.9819 - val_loss: 5.3179\n",
      "Epoch 209/500\n",
      "18/18 [==============================] - 0s 4ms/step - loss: 88.2002 - val_loss: 4.6514\n",
      "Epoch 210/500\n",
      "18/18 [==============================] - 0s 4ms/step - loss: 85.4985 - val_loss: 4.0417\n",
      "Epoch 211/500\n",
      "18/18 [==============================] - 0s 5ms/step - loss: 82.8752 - val_loss: 3.4872\n",
      "Epoch 212/500\n",
      "18/18 [==============================] - 0s 4ms/step - loss: 80.3287 - val_loss: 2.9863\n",
      "Epoch 213/500\n",
      "18/18 [==============================] - 0s 4ms/step - loss: 77.8575 - val_loss: 2.5373\n",
      "Epoch 214/500\n",
      "18/18 [==============================] - 0s 4ms/step - loss: 75.4599 - val_loss: 2.1388\n",
      "Epoch 215/500\n",
      "18/18 [==============================] - 0s 5ms/step - loss: 73.1344 - val_loss: 1.7891\n",
      "Epoch 216/500\n",
      "18/18 [==============================] - 0s 4ms/step - loss: 70.8797 - val_loss: 1.4868\n",
      "Epoch 217/500\n",
      "18/18 [==============================] - 0s 5ms/step - loss: 68.6942 - val_loss: 1.2304\n",
      "Epoch 218/500\n",
      "18/18 [==============================] - 0s 6ms/step - loss: 66.5763 - val_loss: 1.0182\n",
      "Epoch 219/500\n",
      "18/18 [==============================] - 0s 5ms/step - loss: 64.5245 - val_loss: 0.8489\n",
      "Epoch 220/500\n",
      "18/18 [==============================] - 0s 9ms/step - loss: 62.5374 - val_loss: 0.7210\n",
      "Epoch 221/500\n",
      "18/18 [==============================] - 0s 5ms/step - loss: 60.6135 - val_loss: 0.6330\n",
      "Epoch 222/500\n",
      "18/18 [==============================] - 0s 5ms/step - loss: 58.7513 - val_loss: 0.5835\n",
      "Epoch 223/500\n",
      "18/18 [==============================] - 0s 4ms/step - loss: 56.9495 - val_loss: 0.5711\n",
      "Epoch 224/500\n",
      "18/18 [==============================] - 0s 4ms/step - loss: 55.2066 - val_loss: 0.5945\n",
      "Epoch 225/500\n",
      "18/18 [==============================] - 0s 4ms/step - loss: 53.5212 - val_loss: 0.6521\n",
      "Epoch 226/500\n",
      "18/18 [==============================] - 0s 5ms/step - loss: 51.8920 - val_loss: 0.7427\n",
      "Epoch 227/500\n",
      "18/18 [==============================] - 0s 4ms/step - loss: 50.3176 - val_loss: 0.8649\n",
      "Epoch 228/500\n",
      "18/18 [==============================] - 0s 4ms/step - loss: 48.7966 - val_loss: 1.0175\n",
      "Epoch 229/500\n",
      "18/18 [==============================] - 0s 4ms/step - loss: 47.3276 - val_loss: 1.1991\n",
      "Epoch 230/500\n",
      "18/18 [==============================] - 0s 5ms/step - loss: 45.9093 - val_loss: 1.4085\n",
      "Epoch 231/500\n",
      "18/18 [==============================] - 0s 4ms/step - loss: 44.5406 - val_loss: 1.6443\n",
      "Epoch 232/500\n",
      "18/18 [==============================] - 0s 4ms/step - loss: 43.2201 - val_loss: 1.9056\n",
      "Epoch 233/500\n",
      "18/18 [==============================] - 0s 4ms/step - loss: 41.9465 - val_loss: 2.1908\n",
      "Epoch 234/500\n",
      "18/18 [==============================] - 0s 4ms/step - loss: 40.7185 - val_loss: 2.4989\n",
      "Epoch 235/500\n",
      "18/18 [==============================] - 0s 5ms/step - loss: 39.5351 - val_loss: 2.8287\n",
      "Epoch 236/500\n",
      "18/18 [==============================] - 0s 4ms/step - loss: 38.3949 - val_loss: 3.1790\n",
      "Epoch 237/500\n",
      "18/18 [==============================] - 0s 5ms/step - loss: 37.2967 - val_loss: 3.5489\n",
      "Epoch 238/500\n",
      "18/18 [==============================] - 0s 5ms/step - loss: 36.2395 - val_loss: 3.9370\n",
      "Epoch 239/500\n",
      "18/18 [==============================] - 0s 4ms/step - loss: 35.2218 - val_loss: 4.3425\n",
      "Epoch 240/500\n",
      "18/18 [==============================] - 0s 4ms/step - loss: 34.2427 - val_loss: 4.7641\n",
      "Epoch 241/500\n",
      "18/18 [==============================] - 0s 5ms/step - loss: 33.3012 - val_loss: 5.2010\n",
      "Epoch 242/500\n",
      "18/18 [==============================] - 0s 5ms/step - loss: 32.3960 - val_loss: 5.6519\n",
      "Epoch 243/500\n",
      "18/18 [==============================] - 0s 5ms/step - loss: 31.5261 - val_loss: 6.1161\n",
      "Epoch 244/500\n",
      "18/18 [==============================] - 0s 4ms/step - loss: 30.6904 - val_loss: 6.5926\n",
      "Epoch 245/500\n",
      "18/18 [==============================] - 0s 9ms/step - loss: 29.8878 - val_loss: 7.0802\n",
      "Epoch 246/500\n",
      "18/18 [==============================] - 0s 4ms/step - loss: 29.1175 - val_loss: 7.5782\n",
      "Epoch 247/500\n",
      "18/18 [==============================] - 0s 4ms/step - loss: 28.3783 - val_loss: 8.0857\n",
      "Epoch 248/500\n",
      "18/18 [==============================] - 0s 4ms/step - loss: 27.6692 - val_loss: 8.6019\n",
      "Epoch 249/500\n",
      "18/18 [==============================] - 0s 5ms/step - loss: 26.9893 - val_loss: 9.1259\n",
      "Epoch 250/500\n",
      "18/18 [==============================] - 0s 5ms/step - loss: 26.3375 - val_loss: 9.6566\n",
      "Epoch 251/500\n",
      "18/18 [==============================] - 0s 5ms/step - loss: 25.7133 - val_loss: 10.1934\n",
      "Epoch 252/500\n",
      "18/18 [==============================] - 0s 4ms/step - loss: 25.1154 - val_loss: 10.7357\n",
      "Epoch 253/500\n",
      "18/18 [==============================] - 0s 5ms/step - loss: 24.5430 - val_loss: 11.2827\n",
      "Epoch 254/500\n",
      "18/18 [==============================] - 0s 5ms/step - loss: 23.9952 - val_loss: 11.8334\n",
      "Epoch 255/500\n",
      "18/18 [==============================] - 0s 6ms/step - loss: 23.4713 - val_loss: 12.3872\n",
      "Epoch 256/500\n",
      "18/18 [==============================] - 0s 4ms/step - loss: 22.9704 - val_loss: 12.9437\n",
      "Epoch 257/500\n",
      "18/18 [==============================] - 0s 6ms/step - loss: 22.4916 - val_loss: 13.5018\n",
      "Epoch 258/500\n",
      "18/18 [==============================] - 0s 9ms/step - loss: 22.0342 - val_loss: 14.0612\n",
      "Epoch 259/500\n",
      "18/18 [==============================] - 0s 11ms/step - loss: 21.5974 - val_loss: 14.6209\n",
      "Epoch 260/500\n",
      "18/18 [==============================] - 0s 6ms/step - loss: 21.1806 - val_loss: 15.1809\n",
      "Epoch 261/500\n",
      "18/18 [==============================] - 0s 4ms/step - loss: 20.7827 - val_loss: 15.7403\n",
      "Epoch 262/500\n",
      "18/18 [==============================] - 0s 5ms/step - loss: 20.4032 - val_loss: 16.2984\n",
      "Epoch 263/500\n",
      "18/18 [==============================] - 0s 4ms/step - loss: 20.0414 - val_loss: 16.8550\n",
      "Epoch 264/500\n",
      "18/18 [==============================] - 0s 4ms/step - loss: 19.6967 - val_loss: 17.4094\n",
      "Epoch 265/500\n",
      "18/18 [==============================] - 0s 4ms/step - loss: 19.3683 - val_loss: 17.9611\n",
      "Epoch 266/500\n",
      "18/18 [==============================] - 0s 7ms/step - loss: 19.0557 - val_loss: 18.5099\n",
      "Epoch 267/500\n",
      "18/18 [==============================] - 0s 4ms/step - loss: 18.7581 - val_loss: 19.0550\n",
      "Epoch 268/500\n",
      "18/18 [==============================] - 0s 5ms/step - loss: 18.4751 - val_loss: 19.5962\n",
      "Epoch 269/500\n",
      "18/18 [==============================] - 0s 6ms/step - loss: 18.2059 - val_loss: 20.1329\n",
      "Epoch 270/500\n",
      "18/18 [==============================] - 0s 5ms/step - loss: 17.9501 - val_loss: 20.6651\n",
      "Epoch 271/500\n",
      "18/18 [==============================] - 0s 4ms/step - loss: 17.7069 - val_loss: 21.1923\n",
      "Epoch 272/500\n",
      "18/18 [==============================] - 0s 4ms/step - loss: 17.4761 - val_loss: 21.7139\n",
      "Epoch 273/500\n",
      "18/18 [==============================] - 0s 5ms/step - loss: 17.2569 - val_loss: 22.2297\n",
      "Epoch 274/500\n",
      "18/18 [==============================] - 0s 4ms/step - loss: 17.0491 - val_loss: 22.7396\n",
      "Epoch 275/500\n",
      "18/18 [==============================] - 0s 4ms/step - loss: 16.8519 - val_loss: 23.2432\n",
      "Epoch 276/500\n",
      "18/18 [==============================] - 0s 5ms/step - loss: 16.6650 - val_loss: 23.7402\n",
      "Epoch 277/500\n",
      "18/18 [==============================] - 0s 5ms/step - loss: 16.4879 - val_loss: 24.2303\n",
      "Epoch 278/500\n",
      "18/18 [==============================] - 0s 6ms/step - loss: 16.3201 - val_loss: 24.7137\n",
      "Epoch 279/500\n",
      "18/18 [==============================] - 0s 7ms/step - loss: 16.1612 - val_loss: 25.1895\n",
      "Epoch 280/500\n",
      "18/18 [==============================] - 0s 7ms/step - loss: 16.0109 - val_loss: 25.6582\n",
      "Epoch 281/500\n",
      "18/18 [==============================] - 0s 5ms/step - loss: 15.8687 - val_loss: 26.1193\n",
      "Epoch 282/500\n",
      "18/18 [==============================] - 0s 5ms/step - loss: 15.7343 - val_loss: 26.5727\n",
      "Epoch 283/500\n",
      "18/18 [==============================] - 0s 6ms/step - loss: 15.6072 - val_loss: 27.0182\n",
      "Epoch 284/500\n",
      "18/18 [==============================] - 0s 8ms/step - loss: 15.4871 - val_loss: 27.4556\n",
      "Epoch 285/500\n",
      "18/18 [==============================] - 0s 6ms/step - loss: 15.3738 - val_loss: 27.8850\n",
      "Epoch 286/500\n",
      "18/18 [==============================] - 0s 4ms/step - loss: 15.2668 - val_loss: 28.3059\n",
      "Epoch 287/500\n",
      "18/18 [==============================] - 0s 4ms/step - loss: 15.1658 - val_loss: 28.7186\n",
      "Epoch 288/500\n",
      "18/18 [==============================] - 0s 5ms/step - loss: 15.0707 - val_loss: 29.1230\n",
      "Epoch 289/500\n",
      "18/18 [==============================] - 0s 5ms/step - loss: 14.9809 - val_loss: 29.5192\n",
      "Epoch 290/500\n",
      "18/18 [==============================] - 0s 5ms/step - loss: 14.8963 - val_loss: 29.9067\n",
      "Epoch 291/500\n",
      "18/18 [==============================] - 0s 5ms/step - loss: 14.8166 - val_loss: 30.2862\n",
      "Epoch 292/500\n",
      "18/18 [==============================] - 0s 5ms/step - loss: 14.7416 - val_loss: 30.6569\n",
      "Epoch 293/500\n",
      "18/18 [==============================] - 0s 4ms/step - loss: 14.6710 - val_loss: 31.0193\n",
      "Epoch 294/500\n",
      "18/18 [==============================] - 0s 5ms/step - loss: 14.6045 - val_loss: 31.3729\n",
      "Epoch 295/500\n",
      "18/18 [==============================] - 0s 5ms/step - loss: 14.5421 - val_loss: 31.7183\n",
      "Epoch 296/500\n",
      "18/18 [==============================] - 0s 4ms/step - loss: 14.4833 - val_loss: 32.0552\n",
      "Epoch 297/500\n",
      "18/18 [==============================] - 0s 5ms/step - loss: 14.4281 - val_loss: 32.3835\n",
      "Epoch 298/500\n",
      "18/18 [==============================] - 0s 6ms/step - loss: 14.3763 - val_loss: 32.7035\n",
      "Epoch 299/500\n",
      "18/18 [==============================] - 0s 5ms/step - loss: 14.3276 - val_loss: 33.0152\n",
      "Epoch 300/500\n",
      "18/18 [==============================] - 0s 6ms/step - loss: 14.2819 - val_loss: 33.3186\n",
      "Epoch 301/500\n",
      "18/18 [==============================] - 0s 5ms/step - loss: 14.2390 - val_loss: 33.6138\n",
      "Epoch 302/500\n",
      "18/18 [==============================] - 0s 6ms/step - loss: 14.1988 - val_loss: 33.9011\n",
      "Epoch 303/500\n",
      "18/18 [==============================] - 0s 5ms/step - loss: 14.1611 - val_loss: 34.1801\n",
      "Epoch 304/500\n",
      "18/18 [==============================] - 0s 8ms/step - loss: 14.1257 - val_loss: 34.4514\n",
      "Epoch 305/500\n",
      "18/18 [==============================] - 0s 6ms/step - loss: 14.0926 - val_loss: 34.7146\n",
      "Epoch 306/500\n",
      "18/18 [==============================] - 0s 6ms/step - loss: 14.0616 - val_loss: 34.9701\n",
      "Epoch 307/500\n",
      "18/18 [==============================] - 0s 4ms/step - loss: 14.0325 - val_loss: 35.2178\n",
      "Epoch 308/500\n",
      "18/18 [==============================] - 0s 6ms/step - loss: 14.0053 - val_loss: 35.4582\n",
      "Epoch 309/500\n",
      "18/18 [==============================] - 0s 7ms/step - loss: 13.9798 - val_loss: 35.6909\n",
      "Epoch 310/500\n",
      "18/18 [==============================] - 0s 4ms/step - loss: 13.9560 - val_loss: 35.9165\n",
      "Epoch 311/500\n",
      "18/18 [==============================] - 0s 5ms/step - loss: 13.9337 - val_loss: 36.1350\n",
      "Epoch 312/500\n",
      "18/18 [==============================] - 0s 5ms/step - loss: 13.9128 - val_loss: 36.3462\n",
      "Epoch 313/500\n",
      "18/18 [==============================] - 0s 5ms/step - loss: 13.8933 - val_loss: 36.5508\n",
      "Epoch 314/500\n",
      "18/18 [==============================] - 0s 6ms/step - loss: 13.8751 - val_loss: 36.7483\n",
      "Epoch 315/500\n",
      "18/18 [==============================] - 0s 5ms/step - loss: 13.8581 - val_loss: 36.9393\n",
      "Epoch 316/500\n",
      "18/18 [==============================] - 0s 5ms/step - loss: 13.8421 - val_loss: 37.1238\n",
      "Epoch 317/500\n",
      "18/18 [==============================] - 0s 4ms/step - loss: 13.8273 - val_loss: 37.3018\n",
      "Epoch 318/500\n",
      "18/18 [==============================] - 0s 4ms/step - loss: 13.8134 - val_loss: 37.4734\n",
      "Epoch 319/500\n",
      "18/18 [==============================] - 0s 5ms/step - loss: 13.8005 - val_loss: 37.6391\n",
      "Epoch 320/500\n",
      "18/18 [==============================] - 0s 5ms/step - loss: 13.7884 - val_loss: 37.7990\n",
      "Epoch 321/500\n",
      "18/18 [==============================] - 0s 4ms/step - loss: 13.7771 - val_loss: 37.9530\n",
      "Epoch 322/500\n",
      "18/18 [==============================] - 0s 5ms/step - loss: 13.7665 - val_loss: 38.1009\n",
      "Epoch 323/500\n",
      "18/18 [==============================] - 0s 5ms/step - loss: 13.7567 - val_loss: 38.2436\n",
      "Epoch 324/500\n",
      "18/18 [==============================] - 0s 6ms/step - loss: 13.7475 - val_loss: 38.3805\n",
      "Epoch 325/500\n",
      "18/18 [==============================] - 0s 4ms/step - loss: 13.7390 - val_loss: 38.5123\n",
      "Epoch 326/500\n",
      "18/18 [==============================] - 0s 4ms/step - loss: 13.7310 - val_loss: 38.6390\n",
      "Epoch 327/500\n",
      "18/18 [==============================] - 0s 5ms/step - loss: 13.7235 - val_loss: 38.7607\n",
      "Epoch 328/500\n",
      "18/18 [==============================] - 0s 4ms/step - loss: 13.7166 - val_loss: 38.8774\n",
      "Epoch 329/500\n",
      "18/18 [==============================] - 0s 4ms/step - loss: 13.7101 - val_loss: 38.9895\n",
      "Epoch 330/500\n",
      "18/18 [==============================] - 0s 4ms/step - loss: 13.7041 - val_loss: 39.0970\n",
      "Epoch 331/500\n",
      "18/18 [==============================] - 0s 8ms/step - loss: 13.6985 - val_loss: 39.2001\n",
      "Epoch 332/500\n",
      "18/18 [==============================] - 0s 5ms/step - loss: 13.6933 - val_loss: 39.2989\n",
      "Epoch 333/500\n",
      "18/18 [==============================] - 0s 4ms/step - loss: 13.6884 - val_loss: 39.3933\n",
      "Epoch 334/500\n",
      "18/18 [==============================] - 0s 4ms/step - loss: 13.6839 - val_loss: 39.4840\n",
      "Epoch 335/500\n",
      "18/18 [==============================] - 0s 4ms/step - loss: 13.6797 - val_loss: 39.5705\n",
      "Epoch 336/500\n",
      "18/18 [==============================] - 0s 5ms/step - loss: 13.6758 - val_loss: 39.6533\n",
      "Epoch 337/500\n",
      "18/18 [==============================] - 0s 5ms/step - loss: 13.6721 - val_loss: 39.7327\n",
      "Epoch 338/500\n",
      "18/18 [==============================] - 0s 4ms/step - loss: 13.6687 - val_loss: 39.8081\n",
      "Epoch 339/500\n",
      "18/18 [==============================] - 0s 5ms/step - loss: 13.6656 - val_loss: 39.8805\n",
      "Epoch 340/500\n",
      "18/18 [==============================] - 0s 5ms/step - loss: 13.6626 - val_loss: 39.9495\n",
      "Epoch 341/500\n",
      "18/18 [==============================] - 0s 4ms/step - loss: 13.6599 - val_loss: 40.0152\n",
      "Epoch 342/500\n",
      "18/18 [==============================] - 0s 4ms/step - loss: 13.6574 - val_loss: 40.0779\n",
      "Epoch 343/500\n",
      "18/18 [==============================] - 0s 5ms/step - loss: 13.6550 - val_loss: 40.1377\n",
      "Epoch 344/500\n",
      "18/18 [==============================] - 0s 5ms/step - loss: 13.6528 - val_loss: 40.1947\n",
      "Epoch 345/500\n",
      "18/18 [==============================] - 0s 5ms/step - loss: 13.6508 - val_loss: 40.2489\n",
      "Epoch 346/500\n",
      "18/18 [==============================] - 0s 5ms/step - loss: 13.6490 - val_loss: 40.3005\n",
      "Epoch 347/500\n",
      "18/18 [==============================] - 0s 4ms/step - loss: 13.6472 - val_loss: 40.3496\n",
      "Epoch 348/500\n",
      "18/18 [==============================] - 0s 4ms/step - loss: 13.6456 - val_loss: 40.3964\n",
      "Epoch 349/500\n",
      "18/18 [==============================] - 0s 5ms/step - loss: 13.6442 - val_loss: 40.4408\n",
      "Epoch 350/500\n",
      "18/18 [==============================] - 0s 5ms/step - loss: 13.6428 - val_loss: 40.4827\n",
      "Epoch 351/500\n",
      "18/18 [==============================] - 0s 5ms/step - loss: 13.6415 - val_loss: 40.5228\n",
      "Epoch 352/500\n",
      "18/18 [==============================] - 0s 4ms/step - loss: 13.6403 - val_loss: 40.5604\n",
      "Epoch 353/500\n",
      "18/18 [==============================] - 0s 5ms/step - loss: 13.6393 - val_loss: 40.5963\n",
      "Epoch 354/500\n",
      "18/18 [==============================] - 0s 8ms/step - loss: 13.6383 - val_loss: 40.6303\n",
      "Epoch 355/500\n",
      "18/18 [==============================] - 0s 4ms/step - loss: 13.6374 - val_loss: 40.6625\n",
      "Epoch 356/500\n",
      "18/18 [==============================] - 0s 4ms/step - loss: 13.6366 - val_loss: 40.6931\n",
      "Epoch 357/500\n",
      "18/18 [==============================] - 0s 4ms/step - loss: 13.6359 - val_loss: 40.7218\n",
      "Epoch 358/500\n",
      "18/18 [==============================] - 0s 5ms/step - loss: 13.6352 - val_loss: 40.7491\n",
      "Epoch 359/500\n",
      "18/18 [==============================] - 0s 4ms/step - loss: 13.6346 - val_loss: 40.7747\n",
      "Epoch 360/500\n",
      "18/18 [==============================] - 0s 5ms/step - loss: 13.6341 - val_loss: 40.7988\n",
      "Epoch 361/500\n",
      "18/18 [==============================] - 0s 4ms/step - loss: 13.6336 - val_loss: 40.8219\n",
      "Epoch 362/500\n",
      "18/18 [==============================] - 0s 4ms/step - loss: 13.6332 - val_loss: 40.8436\n",
      "Epoch 363/500\n",
      "18/18 [==============================] - 0s 6ms/step - loss: 13.6327 - val_loss: 40.8639\n",
      "Epoch 364/500\n",
      "18/18 [==============================] - 0s 5ms/step - loss: 13.6324 - val_loss: 40.8831\n",
      "Epoch 365/500\n",
      "18/18 [==============================] - 0s 4ms/step - loss: 13.6321 - val_loss: 40.9011\n",
      "Epoch 366/500\n",
      "18/18 [==============================] - 0s 4ms/step - loss: 13.6318 - val_loss: 40.9181\n",
      "Epoch 367/500\n",
      "18/18 [==============================] - 0s 5ms/step - loss: 13.6316 - val_loss: 40.9341\n",
      "Epoch 368/500\n",
      "18/18 [==============================] - 0s 5ms/step - loss: 13.6315 - val_loss: 40.9488\n",
      "Epoch 369/500\n",
      "18/18 [==============================] - 0s 5ms/step - loss: 13.6313 - val_loss: 40.9630\n",
      "Epoch 370/500\n",
      "18/18 [==============================] - 0s 4ms/step - loss: 13.6312 - val_loss: 40.9760\n",
      "Epoch 371/500\n",
      "18/18 [==============================] - 0s 5ms/step - loss: 13.6312 - val_loss: 40.9884\n",
      "Epoch 372/500\n",
      "18/18 [==============================] - 0s 5ms/step - loss: 13.6311 - val_loss: 41.0000\n",
      "Epoch 373/500\n",
      "18/18 [==============================] - 0s 5ms/step - loss: 13.6311 - val_loss: 41.0109\n",
      "Epoch 374/500\n",
      "18/18 [==============================] - 0s 10ms/step - loss: 13.6311 - val_loss: 41.0210\n",
      "Epoch 375/500\n",
      "18/18 [==============================] - 0s 4ms/step - loss: 13.6311 - val_loss: 41.0305\n",
      "Epoch 376/500\n",
      "18/18 [==============================] - 0s 5ms/step - loss: 13.6311 - val_loss: 41.0395\n",
      "Epoch 377/500\n",
      "18/18 [==============================] - 0s 5ms/step - loss: 13.6312 - val_loss: 41.0476\n",
      "Epoch 378/500\n",
      "18/18 [==============================] - 0s 5ms/step - loss: 13.6313 - val_loss: 41.0554\n",
      "Epoch 379/500\n",
      "18/18 [==============================] - 0s 5ms/step - loss: 13.6314 - val_loss: 41.0627\n",
      "Epoch 380/500\n",
      "18/18 [==============================] - 0s 4ms/step - loss: 13.6315 - val_loss: 41.0693\n",
      "Epoch 381/500\n",
      "18/18 [==============================] - 0s 6ms/step - loss: 13.6316 - val_loss: 41.0754\n",
      "Epoch 382/500\n",
      "18/18 [==============================] - 0s 5ms/step - loss: 13.6318 - val_loss: 41.0811\n",
      "Epoch 383/500\n",
      "18/18 [==============================] - 0s 5ms/step - loss: 13.6320 - val_loss: 41.0864\n",
      "Epoch 384/500\n",
      "18/18 [==============================] - 0s 5ms/step - loss: 13.6322 - val_loss: 41.0913\n",
      "Epoch 385/500\n",
      "18/18 [==============================] - 0s 5ms/step - loss: 13.6323 - val_loss: 41.0957\n",
      "Epoch 386/500\n",
      "18/18 [==============================] - 0s 5ms/step - loss: 13.6326 - val_loss: 41.0998\n",
      "Epoch 387/500\n",
      "18/18 [==============================] - 0s 5ms/step - loss: 13.6328 - val_loss: 41.1038\n",
      "Epoch 388/500\n",
      "18/18 [==============================] - 0s 5ms/step - loss: 13.6330 - val_loss: 41.1071\n",
      "Epoch 389/500\n",
      "18/18 [==============================] - 0s 6ms/step - loss: 13.6333 - val_loss: 41.1104\n",
      "Epoch 390/500\n",
      "18/18 [==============================] - 0s 5ms/step - loss: 13.6335 - val_loss: 41.1134\n",
      "Epoch 391/500\n",
      "18/18 [==============================] - 0s 5ms/step - loss: 13.6337 - val_loss: 41.1160\n",
      "Epoch 392/500\n",
      "18/18 [==============================] - 0s 5ms/step - loss: 13.6340 - val_loss: 41.1183\n",
      "Epoch 393/500\n",
      "18/18 [==============================] - 0s 5ms/step - loss: 13.6343 - val_loss: 41.1206\n",
      "Epoch 394/500\n",
      "18/18 [==============================] - 0s 6ms/step - loss: 13.6345 - val_loss: 41.1227\n",
      "Epoch 395/500\n",
      "18/18 [==============================] - 0s 5ms/step - loss: 13.6348 - val_loss: 41.1242\n",
      "Epoch 396/500\n",
      "18/18 [==============================] - 0s 5ms/step - loss: 13.6352 - val_loss: 41.1261\n",
      "Epoch 397/500\n",
      "18/18 [==============================] - 0s 10ms/step - loss: 13.6354 - val_loss: 41.1276\n",
      "Epoch 398/500\n",
      "18/18 [==============================] - 0s 6ms/step - loss: 13.6357 - val_loss: 41.1289\n",
      "Epoch 399/500\n",
      "18/18 [==============================] - 0s 6ms/step - loss: 13.6360 - val_loss: 41.1299\n",
      "Epoch 400/500\n",
      "18/18 [==============================] - 0s 6ms/step - loss: 13.6363 - val_loss: 41.1309\n",
      "Epoch 401/500\n",
      "18/18 [==============================] - 0s 6ms/step - loss: 13.6366 - val_loss: 41.1321\n",
      "Epoch 402/500\n",
      "18/18 [==============================] - 0s 6ms/step - loss: 13.6369 - val_loss: 41.1328\n",
      "Epoch 403/500\n",
      "18/18 [==============================] - 0s 6ms/step - loss: 13.6372 - val_loss: 41.1333\n",
      "Epoch 404/500\n",
      "18/18 [==============================] - 0s 6ms/step - loss: 13.6376 - val_loss: 41.1341\n",
      "Epoch 405/500\n",
      "18/18 [==============================] - 0s 6ms/step - loss: 13.6379 - val_loss: 41.1347\n",
      "Epoch 406/500\n",
      "18/18 [==============================] - 0s 5ms/step - loss: 13.6382 - val_loss: 41.1352\n",
      "Epoch 407/500\n",
      "18/18 [==============================] - 0s 6ms/step - loss: 13.6385 - val_loss: 41.1354\n",
      "Epoch 408/500\n",
      "18/18 [==============================] - 0s 6ms/step - loss: 13.6389 - val_loss: 41.1355\n",
      "Epoch 409/500\n",
      "18/18 [==============================] - 0s 6ms/step - loss: 13.6392 - val_loss: 41.1356\n",
      "Epoch 410/500\n",
      "18/18 [==============================] - 0s 5ms/step - loss: 13.6395 - val_loss: 41.1357\n",
      "Epoch 411/500\n",
      "18/18 [==============================] - 0s 6ms/step - loss: 13.6398 - val_loss: 41.1357\n",
      "Epoch 412/500\n",
      "18/18 [==============================] - 0s 6ms/step - loss: 13.6402 - val_loss: 41.1356\n",
      "Epoch 413/500\n",
      "18/18 [==============================] - 0s 5ms/step - loss: 13.6405 - val_loss: 41.1356\n",
      "Epoch 414/500\n",
      "18/18 [==============================] - 0s 5ms/step - loss: 13.6408 - val_loss: 41.1355\n",
      "Epoch 415/500\n",
      "18/18 [==============================] - 0s 10ms/step - loss: 13.6412 - val_loss: 41.1354\n",
      "Epoch 416/500\n",
      "18/18 [==============================] - 0s 6ms/step - loss: 13.6415 - val_loss: 41.1352\n",
      "Epoch 417/500\n",
      "18/18 [==============================] - 0s 5ms/step - loss: 13.6418 - val_loss: 41.1347\n",
      "Epoch 418/500\n",
      "18/18 [==============================] - 0s 5ms/step - loss: 13.6422 - val_loss: 41.1343\n",
      "Epoch 419/500\n",
      "18/18 [==============================] - 0s 5ms/step - loss: 13.6425 - val_loss: 41.1341\n",
      "Epoch 420/500\n",
      "18/18 [==============================] - 0s 5ms/step - loss: 13.6428 - val_loss: 41.1338\n",
      "Epoch 421/500\n",
      "18/18 [==============================] - 0s 5ms/step - loss: 13.6432 - val_loss: 41.1332\n",
      "Epoch 422/500\n",
      "18/18 [==============================] - 0s 5ms/step - loss: 13.6435 - val_loss: 41.1328\n",
      "Epoch 423/500\n",
      "18/18 [==============================] - 0s 5ms/step - loss: 13.6438 - val_loss: 41.1325\n",
      "Epoch 424/500\n",
      "18/18 [==============================] - 0s 5ms/step - loss: 13.6441 - val_loss: 41.1321\n",
      "Epoch 425/500\n",
      "18/18 [==============================] - 0s 5ms/step - loss: 13.6444 - val_loss: 41.1313\n",
      "Epoch 426/500\n",
      "18/18 [==============================] - 0s 5ms/step - loss: 13.6448 - val_loss: 41.1308\n",
      "Epoch 427/500\n",
      "18/18 [==============================] - 0s 5ms/step - loss: 13.6451 - val_loss: 41.1304\n",
      "Epoch 428/500\n",
      "18/18 [==============================] - 0s 10ms/step - loss: 13.6455 - val_loss: 41.1298\n",
      "Epoch 429/500\n",
      "18/18 [==============================] - 0s 5ms/step - loss: 13.6458 - val_loss: 41.1293\n",
      "Epoch 430/500\n",
      "18/18 [==============================] - 0s 5ms/step - loss: 13.6461 - val_loss: 41.1289\n",
      "Epoch 431/500\n",
      "18/18 [==============================] - 0s 5ms/step - loss: 13.6464 - val_loss: 41.1283\n",
      "Epoch 432/500\n",
      "18/18 [==============================] - 0s 4ms/step - loss: 13.6467 - val_loss: 41.1277\n",
      "Epoch 433/500\n",
      "18/18 [==============================] - 0s 5ms/step - loss: 13.6470 - val_loss: 41.1272\n",
      "Epoch 434/500\n",
      "18/18 [==============================] - 0s 5ms/step - loss: 13.6474 - val_loss: 41.1265\n",
      "Epoch 435/500\n",
      "18/18 [==============================] - 0s 4ms/step - loss: 13.6477 - val_loss: 41.1260\n",
      "Epoch 436/500\n",
      "18/18 [==============================] - 0s 5ms/step - loss: 13.6480 - val_loss: 41.1255\n",
      "Epoch 437/500\n",
      "18/18 [==============================] - 0s 5ms/step - loss: 13.6483 - val_loss: 41.1248\n",
      "Epoch 438/500\n",
      "18/18 [==============================] - 0s 3ms/step - loss: 13.6486 - val_loss: 41.1243\n",
      "Epoch 439/500\n",
      "18/18 [==============================] - 0s 4ms/step - loss: 13.6489 - val_loss: 41.1238\n",
      "Epoch 440/500\n",
      "18/18 [==============================] - 0s 4ms/step - loss: 13.6492 - val_loss: 41.1231\n",
      "Epoch 441/500\n",
      "18/18 [==============================] - 0s 4ms/step - loss: 13.6495 - val_loss: 41.1227\n",
      "Epoch 442/500\n",
      "18/18 [==============================] - 0s 4ms/step - loss: 13.6498 - val_loss: 41.1220\n",
      "Epoch 443/500\n",
      "18/18 [==============================] - 0s 7ms/step - loss: 13.6501 - val_loss: 41.1213\n",
      "Epoch 444/500\n",
      "18/18 [==============================] - 0s 4ms/step - loss: 13.6504 - val_loss: 41.1207\n",
      "Epoch 445/500\n",
      "18/18 [==============================] - 0s 4ms/step - loss: 13.6507 - val_loss: 41.1200\n",
      "Epoch 446/500\n",
      "18/18 [==============================] - 0s 5ms/step - loss: 13.6510 - val_loss: 41.1196\n",
      "Epoch 447/500\n",
      "18/18 [==============================] - 0s 4ms/step - loss: 13.6512 - val_loss: 41.1186\n",
      "Epoch 448/500\n",
      "18/18 [==============================] - 0s 5ms/step - loss: 13.6516 - val_loss: 41.1182\n",
      "Epoch 449/500\n",
      "18/18 [==============================] - 0s 4ms/step - loss: 13.6518 - val_loss: 41.1176\n",
      "Epoch 450/500\n",
      "18/18 [==============================] - 0s 5ms/step - loss: 13.6521 - val_loss: 41.1170\n",
      "Epoch 451/500\n",
      "18/18 [==============================] - 0s 5ms/step - loss: 13.6524 - val_loss: 41.1167\n",
      "Epoch 452/500\n",
      "18/18 [==============================] - 0s 4ms/step - loss: 13.6527 - val_loss: 41.1162\n",
      "Epoch 453/500\n",
      "18/18 [==============================] - 0s 4ms/step - loss: 13.6529 - val_loss: 41.1155\n",
      "Epoch 454/500\n",
      "18/18 [==============================] - 0s 5ms/step - loss: 13.6532 - val_loss: 41.1148\n",
      "Epoch 455/500\n",
      "18/18 [==============================] - 0s 5ms/step - loss: 13.6535 - val_loss: 41.1145\n",
      "Epoch 456/500\n",
      "18/18 [==============================] - 0s 6ms/step - loss: 13.6538 - val_loss: 41.1138\n",
      "Epoch 457/500\n",
      "18/18 [==============================] - 0s 5ms/step - loss: 13.6540 - val_loss: 41.1134\n",
      "Epoch 458/500\n",
      "18/18 [==============================] - 0s 4ms/step - loss: 13.6543 - val_loss: 41.1130\n",
      "Epoch 459/500\n",
      "18/18 [==============================] - 0s 5ms/step - loss: 13.6545 - val_loss: 41.1122\n",
      "Epoch 460/500\n",
      "18/18 [==============================] - 0s 4ms/step - loss: 13.6548 - val_loss: 41.1117\n",
      "Epoch 461/500\n",
      "18/18 [==============================] - 0s 9ms/step - loss: 13.6551 - val_loss: 41.1113\n",
      "Epoch 462/500\n",
      "18/18 [==============================] - 0s 4ms/step - loss: 13.6553 - val_loss: 41.1108\n",
      "Epoch 463/500\n",
      "18/18 [==============================] - 0s 5ms/step - loss: 13.6556 - val_loss: 41.1101\n",
      "Epoch 464/500\n",
      "18/18 [==============================] - 0s 4ms/step - loss: 13.6558 - val_loss: 41.1098\n",
      "Epoch 465/500\n",
      "18/18 [==============================] - 0s 4ms/step - loss: 13.6560 - val_loss: 41.1091\n",
      "Epoch 466/500\n",
      "18/18 [==============================] - 0s 4ms/step - loss: 13.6563 - val_loss: 41.1085\n",
      "Epoch 467/500\n",
      "18/18 [==============================] - 0s 4ms/step - loss: 13.6566 - val_loss: 41.1080\n",
      "Epoch 468/500\n",
      "18/18 [==============================] - 0s 5ms/step - loss: 13.6568 - val_loss: 41.1075\n",
      "Epoch 469/500\n",
      "18/18 [==============================] - 0s 5ms/step - loss: 13.6570 - val_loss: 41.1070\n",
      "Epoch 470/500\n",
      "18/18 [==============================] - 0s 5ms/step - loss: 13.6573 - val_loss: 41.1065\n",
      "Epoch 471/500\n",
      "18/18 [==============================] - 0s 5ms/step - loss: 13.6575 - val_loss: 41.1061\n",
      "Epoch 472/500\n",
      "18/18 [==============================] - 0s 5ms/step - loss: 13.6577 - val_loss: 41.1057\n",
      "Epoch 473/500\n",
      "18/18 [==============================] - 0s 4ms/step - loss: 13.6580 - val_loss: 41.1051\n",
      "Epoch 474/500\n",
      "18/18 [==============================] - 0s 4ms/step - loss: 13.6582 - val_loss: 41.1045\n",
      "Epoch 475/500\n",
      "18/18 [==============================] - 0s 4ms/step - loss: 13.6584 - val_loss: 41.1042\n",
      "Epoch 476/500\n",
      "18/18 [==============================] - 0s 4ms/step - loss: 13.6586 - val_loss: 41.1036\n",
      "Epoch 477/500\n",
      "18/18 [==============================] - 0s 4ms/step - loss: 13.6588 - val_loss: 41.1033\n",
      "Epoch 478/500\n",
      "18/18 [==============================] - 0s 5ms/step - loss: 13.6591 - val_loss: 41.1027\n",
      "Epoch 479/500\n",
      "18/18 [==============================] - 0s 9ms/step - loss: 13.6593 - val_loss: 41.1024\n",
      "Epoch 480/500\n",
      "18/18 [==============================] - 0s 7ms/step - loss: 13.6595 - val_loss: 41.1019\n",
      "Epoch 481/500\n",
      "18/18 [==============================] - 0s 6ms/step - loss: 13.6597 - val_loss: 41.1014\n",
      "Epoch 482/500\n",
      "18/18 [==============================] - 0s 6ms/step - loss: 13.6599 - val_loss: 41.1011\n",
      "Epoch 483/500\n",
      "18/18 [==============================] - 0s 5ms/step - loss: 13.6601 - val_loss: 41.1004\n",
      "Epoch 484/500\n",
      "18/18 [==============================] - 0s 6ms/step - loss: 13.6603 - val_loss: 41.0998\n",
      "Epoch 485/500\n",
      "18/18 [==============================] - 0s 6ms/step - loss: 13.6605 - val_loss: 41.0994\n",
      "Epoch 486/500\n",
      "18/18 [==============================] - 0s 5ms/step - loss: 13.6607 - val_loss: 41.0989\n",
      "Epoch 487/500\n",
      "18/18 [==============================] - 0s 5ms/step - loss: 13.6609 - val_loss: 41.0985\n",
      "Epoch 488/500\n",
      "18/18 [==============================] - 0s 4ms/step - loss: 13.6611 - val_loss: 41.0980\n",
      "Epoch 489/500\n",
      "18/18 [==============================] - 0s 4ms/step - loss: 13.6613 - val_loss: 41.0977\n",
      "Epoch 490/500\n",
      "18/18 [==============================] - 0s 4ms/step - loss: 13.6615 - val_loss: 41.0973\n",
      "Epoch 491/500\n",
      "18/18 [==============================] - 0s 5ms/step - loss: 13.6616 - val_loss: 41.0971\n",
      "Epoch 492/500\n",
      "18/18 [==============================] - 0s 4ms/step - loss: 13.6618 - val_loss: 41.0965\n",
      "Epoch 493/500\n",
      "18/18 [==============================] - 0s 4ms/step - loss: 13.6620 - val_loss: 41.0964\n",
      "Epoch 494/500\n",
      "18/18 [==============================] - 0s 4ms/step - loss: 13.6622 - val_loss: 41.0961\n",
      "Epoch 495/500\n",
      "18/18 [==============================] - 0s 5ms/step - loss: 13.6623 - val_loss: 41.0956\n",
      "Epoch 496/500\n",
      "18/18 [==============================] - 0s 5ms/step - loss: 13.6625 - val_loss: 41.0952\n",
      "Epoch 497/500\n",
      "18/18 [==============================] - 0s 5ms/step - loss: 13.6627 - val_loss: 41.0949\n",
      "Epoch 498/500\n",
      "18/18 [==============================] - 0s 4ms/step - loss: 13.6629 - val_loss: 41.0946\n",
      "Epoch 499/500\n",
      "18/18 [==============================] - 0s 4ms/step - loss: 13.6630 - val_loss: 41.0943\n",
      "Epoch 500/500\n",
      "18/18 [==============================] - 0s 8ms/step - loss: 13.6632 - val_loss: 41.0940\n"
     ]
    }
   ],
   "source": [
    "C0 = tf.Variable(88.1552, name=\"C0\", trainable=True, dtype=tf.float32)\n",
    "K0 = tf.Variable(-0.0026, name=\"K0\", trainable=True, dtype=tf.float32)\n",
    "K1 = tf.Variable(-0.0004, name=\"K1\", trainable=True, dtype=tf.float32)\n",
    "a = tf.Variable(0.0000, name=\"a\", trainable=True, dtype=tf.float32)\n",
    "b = tf.Variable(0.0102, name=\"b\", trainable=True, dtype=tf.float32)\n",
    "c = tf.Variable(2.8734, name=\"c\", trainable=True, dtype=tf.float32)\n",
    "\n",
    "splitr = 0.8\n",
    "\n",
    "\n",
    "def loss_fn(y_true, y_pred):\n",
    "    squared_difference = tf.square(y_true[:, 0] - y_pred[:, 0])\n",
    "    #squared_difference2 = tf.square(y_true[:, 2]-y_pred[:, 2])\n",
    "    #squared_difference1 = tf.square(y_true[:, 1]-y_pred[:, 1])\n",
    "    epsilon = 1\n",
    "    squared_difference3 = tf.square(\n",
    "        y_pred[:, 1] - (\n",
    "            y_pred[:, 0] * (\n",
    "                K0 - K1 * (\n",
    "                    9 * a * tf.math.log((y_pred[:, 0] + epsilon) / C0) / (K0 - K1 * c)**2 +\n",
    "                    4 * b * tf.math.log((y_pred[:, 0] + epsilon) / C0) / (K0 - K1 * c) + c\n",
    "                )\n",
    "            )\n",
    "        )\n",
    "    )\n",
    "    return tf.reduce_mean(squared_difference, axis=-1) + 0.2*tf.reduce_mean(squared_difference3, axis=-1)\n",
    "model = Sequential()\n",
    "model.add(LSTM(100, input_shape=(trainX.shape[1], trainX.shape[2])))\n",
    "model.add(Dense(60))\n",
    "model.compile(loss=loss_fn, optimizer='adam')\n",
    "history = model.fit(trainX[:int(splitr*trainX.shape[0])], trainy[:int(splitr*trainX.shape[0])], epochs=500, batch_size=64, validation_data=(trainX[int(splitr*trainX.shape[0]):trainX.shape[0]], trainy[int(splitr*trainX.shape[0]):trainX.shape[0]]), shuffle=False)"
   ]
  },
  {
   "cell_type": "code",
   "execution_count": 19,
   "metadata": {
    "colab": {
     "base_uri": "https://localhost:8080/"
    },
    "id": "yJL101rPyuoT",
    "outputId": "239ff2b1-c186-423a-d316-939dfdd7c793"
   },
   "outputs": [
    {
     "name": "stdout",
     "output_type": "stream",
     "text": [
      "1/1 [==============================] - 0s 398ms/step\n"
     ]
    }
   ],
   "source": [
    "forecast_without_mc = forecastX\n",
    "yhat_without_mc = model.predict(forecast_without_mc) # Step Ahead Prediction\n",
    "forecast_without_mc = forecast_without_mc.reshape((forecast_without_mc.shape[0], forecast_without_mc.shape[2])) # Historical Input"
   ]
  },
  {
   "cell_type": "code",
   "execution_count": 20,
   "metadata": {
    "colab": {
     "base_uri": "https://localhost:8080/"
    },
    "id": "g9dQELcJ8wbp",
    "outputId": "4dc7671b-b1a8-48d5-8744-a86f98446109"
   },
   "outputs": [
    {
     "data": {
      "text/plain": [
       "(1, 1, 251)"
      ]
     },
     "execution_count": 20,
     "metadata": {},
     "output_type": "execute_result"
    }
   ],
   "source": [
    "forecastX.shape"
   ]
  },
  {
   "cell_type": "code",
   "execution_count": 21,
   "metadata": {
    "colab": {
     "base_uri": "https://localhost:8080/"
    },
    "id": "IS2kyIKG1Kbr",
    "outputId": "f31b3485-8e26-452f-9298-ea8bf7e80ad1"
   },
   "outputs": [
    {
     "data": {
      "text/plain": [
       "(1, 251)"
      ]
     },
     "execution_count": 21,
     "metadata": {},
     "output_type": "execute_result"
    }
   ],
   "source": [
    "forecast_without_mc.shape"
   ]
  },
  {
   "cell_type": "code",
   "execution_count": 22,
   "metadata": {
    "id": "0u6VIzaDyuoT"
   },
   "outputs": [],
   "source": [
    "inv_yhat_without_mc = np.concatenate((forecast_without_mc, yhat_without_mc), axis=1) # Concatenation of predicted values with Historical Data\n",
    "#inv_yhat_without_mc = scaler.inverse_transform(inv_yhat_without_mc) # Transform labels back to original encoding"
   ]
  },
  {
   "cell_type": "code",
   "execution_count": 23,
   "metadata": {
    "colab": {
     "base_uri": "https://localhost:8080/"
    },
    "id": "EUEcw0LX07oU",
    "outputId": "cfc32397-9c37-4b43-d087-584bb31c3dcc"
   },
   "outputs": [
    {
     "data": {
      "text/plain": [
       "(1, 311)"
      ]
     },
     "execution_count": 23,
     "metadata": {},
     "output_type": "execute_result"
    }
   ],
   "source": [
    "inv_yhat_without_mc.shape"
   ]
  },
  {
   "cell_type": "code",
   "execution_count": 24,
   "metadata": {
    "id": "31OWVbSh_305"
   },
   "outputs": [],
   "source": [
    "fforecast = inv_yhat_without_mc[:,-300:]"
   ]
  },
  {
   "cell_type": "code",
   "execution_count": 25,
   "metadata": {},
   "outputs": [
    {
     "data": {
      "text/plain": [
       "(1, 300)"
      ]
     },
     "execution_count": 25,
     "metadata": {},
     "output_type": "execute_result"
    }
   ],
   "source": [
    "fforecast.shape"
   ]
  },
  {
   "cell_type": "code",
   "execution_count": 26,
   "metadata": {
    "id": "BlpGH2FOAiRF"
   },
   "outputs": [],
   "source": [
    "final_forecast = fforecast[:,0:300:3]"
   ]
  },
  {
   "cell_type": "code",
   "execution_count": 27,
   "metadata": {},
   "outputs": [
    {
     "data": {
      "text/plain": [
       "(1, 300)"
      ]
     },
     "execution_count": 27,
     "metadata": {},
     "output_type": "execute_result"
    }
   ],
   "source": [
    "fforecast.shape"
   ]
  },
  {
   "cell_type": "code",
   "execution_count": 28,
   "metadata": {
    "id": "CXkgkj_LBk_t"
   },
   "outputs": [],
   "source": [
    "# code to replace all negative value with 0\n",
    "final_forecast[final_forecast<0] = 0"
   ]
  },
  {
   "cell_type": "code",
   "execution_count": 29,
   "metadata": {},
   "outputs": [
    {
     "data": {
      "text/plain": [
       "array([[6.94873016e+01, 6.94424837e+01, 6.93976657e+01, 6.93528478e+01,\n",
       "        6.93080299e+01, 6.92632119e+01, 6.92183940e+01, 6.91735761e+01,\n",
       "        6.91287582e+01, 6.90839402e+01, 6.90391223e+01, 6.89943044e+01,\n",
       "        6.89494865e+01, 6.89046685e+01, 6.88598506e+01, 6.88150327e+01,\n",
       "        6.87702147e+01, 6.87253968e+01, 6.86805789e+01, 6.86357610e+01,\n",
       "        6.85909430e+01, 6.85461251e+01, 6.85013072e+01, 6.84564893e+01,\n",
       "        6.84116713e+01, 6.83668534e+01, 6.83220355e+01, 6.82928805e+01,\n",
       "        6.82788749e+01, 6.82648693e+01, 6.82508637e+01, 6.82368581e+01,\n",
       "        6.82228525e+01, 6.82088469e+01, 6.81948413e+01, 6.81808357e+01,\n",
       "        6.81668301e+01, 6.81528245e+01, 6.81388189e+01, 6.81248133e+01,\n",
       "        6.81108077e+01, 6.80968020e+01, 6.80827965e+01, 6.80687908e+01,\n",
       "        6.80547852e+01, 6.80407797e+01, 6.80267740e+01, 6.80127684e+01,\n",
       "        6.79987628e+01, 6.79847572e+01, 6.79707516e+01, 6.79567460e+01,\n",
       "        6.79427404e+01, 6.79287348e+01, 6.79147292e+01, 6.79007236e+01,\n",
       "        6.78867180e+01, 6.78727124e+01, 6.78587068e+01, 6.78447012e+01,\n",
       "        6.78306956e+01, 6.78166900e+01, 6.78026844e+01, 6.77773576e+01,\n",
       "        6.77493464e+01, 6.77213352e+01, 6.76933240e+01, 6.76653128e+01,\n",
       "        6.76373016e+01, 6.76092904e+01, 6.75812792e+01, 6.75532680e+01,\n",
       "        6.75252568e+01, 6.74972456e+01, 6.74692344e+01, 6.74412232e+01,\n",
       "        6.74132120e+01, 6.73852007e+01, 6.73571895e+01, 6.73291783e+01,\n",
       "        7.48104630e+01, 0.00000000e+00, 0.00000000e+00, 2.29810938e-01,\n",
       "        9.52244520e-01, 8.63967687e-02, 4.26735163e-01, 0.00000000e+00,\n",
       "        0.00000000e+00, 2.73587629e-02, 1.72512129e-01, 8.28129411e-01,\n",
       "        1.30296558e-01, 0.00000000e+00, 2.15592802e-01, 0.00000000e+00,\n",
       "        3.00215065e-01, 0.00000000e+00, 0.00000000e+00, 0.00000000e+00]])"
      ]
     },
     "execution_count": 29,
     "metadata": {},
     "output_type": "execute_result"
    }
   ],
   "source": [
    "final_forecast"
   ]
  },
  {
   "cell_type": "code",
   "execution_count": 30,
   "metadata": {},
   "outputs": [
    {
     "data": {
      "text/plain": [
       "(1, 100)"
      ]
     },
     "execution_count": 30,
     "metadata": {},
     "output_type": "execute_result"
    }
   ],
   "source": [
    "final_forecast.shape"
   ]
  },
  {
   "cell_type": "code",
   "execution_count": 31,
   "metadata": {},
   "outputs": [
    {
     "data": {
      "text/plain": [
       "(100,)"
      ]
     },
     "execution_count": 31,
     "metadata": {},
     "output_type": "execute_result"
    }
   ],
   "source": [
    "test.shape"
   ]
  },
  {
   "cell_type": "code",
   "execution_count": 32,
   "metadata": {},
   "outputs": [],
   "source": [
    "training_set = np.array(training_set)\n",
    "test = np.array(test)\n",
    "final_forecast = np.array(final_forecast.squeeze(0))"
   ]
  },
  {
   "cell_type": "code",
   "execution_count": 33,
   "metadata": {},
   "outputs": [
    {
     "data": {
      "text/plain": [
       "array([65.10772642, 65.08438375, 65.06104108, 65.03769841, 65.01435574,\n",
       "       64.99101307, 64.9676704 , 64.94432773, 64.92098506, 64.89764239,\n",
       "       64.87429972, 64.85095705, 64.82761438, 64.80427171, 64.78092904,\n",
       "       64.75758637, 64.7342437 , 64.71090103, 64.68755836, 64.66421569,\n",
       "       64.64087302, 64.61753035, 64.59418768, 64.570845  , 64.54750233,\n",
       "       64.52415966, 64.50081699, 64.47747432, 64.45413165, 64.43078898,\n",
       "       64.40744631, 64.38410364, 64.36076097, 64.3374183 , 64.31407563,\n",
       "       64.29073296, 64.26739029, 64.24404762, 64.22070495, 64.19736228,\n",
       "       64.17401961, 64.15067694, 64.12733427, 64.1039916 , 64.08064893,\n",
       "       64.05730626, 64.03396359, 64.01062092, 63.98727824, 63.96393557,\n",
       "       63.9405929 , 63.91725023, 63.89390756, 63.87056489, 63.84722222,\n",
       "       63.82387955, 63.80053688, 63.77719421, 63.75385154, 63.73050887,\n",
       "       63.7071662 , 63.68382353, 63.66048086, 63.63713819, 63.61379552,\n",
       "       63.59045285, 63.56711018, 63.54376751, 63.52042484, 63.49667367,\n",
       "       63.47006303, 63.44345238, 63.41684174, 63.39023109, 63.36362045,\n",
       "       63.3370098 , 63.31039916, 63.28378852, 63.25717787, 63.23056723,\n",
       "       63.20395658, 63.17734594, 63.15073529, 63.12412465, 63.09751401,\n",
       "       63.07090336, 63.04429272, 63.01768207, 62.99107143, 62.96446078,\n",
       "       62.93785014, 62.9112395 , 62.88462885, 62.85801821, 62.83140756,\n",
       "       62.80479692, 62.77818627, 62.75157563, 62.72496499, 62.69835434])"
      ]
     },
     "execution_count": 33,
     "metadata": {},
     "output_type": "execute_result"
    }
   ],
   "source": [
    "test"
   ]
  },
  {
   "cell_type": "code",
   "execution_count": 34,
   "metadata": {},
   "outputs": [
    {
     "data": {
      "text/plain": [
       "(100,)"
      ]
     },
     "execution_count": 34,
     "metadata": {},
     "output_type": "execute_result"
    }
   ],
   "source": [
    "test.shape"
   ]
  },
  {
   "cell_type": "code",
   "execution_count": 35,
   "metadata": {},
   "outputs": [
    {
     "data": {
      "text/plain": [
       "(100,)"
      ]
     },
     "execution_count": 35,
     "metadata": {},
     "output_type": "execute_result"
    }
   ],
   "source": [
    "final_forecast.shape"
   ]
  },
  {
   "cell_type": "code",
   "execution_count": 36,
   "metadata": {},
   "outputs": [
    {
     "data": {
      "text/plain": [
       "(100,)"
      ]
     },
     "execution_count": 36,
     "metadata": {},
     "output_type": "execute_result"
    }
   ],
   "source": [
    "test.shape"
   ]
  },
  {
   "cell_type": "code",
   "execution_count": null,
   "metadata": {},
   "outputs": [
    {
     "name": "stdout",
     "output_type": "stream",
     "text": [
      "27.62021971932645\n",
      "15.279370975540049\n"
     ]
    }
   ],
   "source": [
    "import math\n",
    "MSE = np.square(np.subtract(np.array(test),np.array(final_forecast))).mean()   \n",
    "rsme = math.sqrt(MSE)\n",
    "print(rsme)  \n",
    "MAE = np.abs(np.subtract(np.array(test),np.array(final_forecast))).mean()   \n",
    "mae = MAE\n",
    "print(mae)"
   ]
  }
 ],
 "metadata": {
  "colab": {
   "provenance": []
  },
  "kernelspec": {
   "display_name": "Python 3",
   "language": "python",
   "name": "python3"
  },
  "language_info": {
   "codemirror_mode": {
    "name": "ipython",
    "version": 3
   },
   "file_extension": ".py",
   "mimetype": "text/x-python",
   "name": "python",
   "nbconvert_exporter": "python",
   "pygments_lexer": "ipython3",
   "version": "3.9.13"
  }
 },
 "nbformat": 4,
 "nbformat_minor": 0
}
