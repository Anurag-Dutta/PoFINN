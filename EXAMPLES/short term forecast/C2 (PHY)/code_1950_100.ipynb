{
 "cells": [
  {
   "cell_type": "markdown",
   "metadata": {
    "id": "pCGKeZ2gyuoQ"
   },
   "source": [
    "_Importing Required Libraries_"
   ]
  },
  {
   "cell_type": "code",
   "execution_count": 1,
   "metadata": {
    "colab": {
     "base_uri": "https://localhost:8080/"
    },
    "id": "A-6LN-zXiLcM",
    "outputId": "4de610a4-f8b8-4f49-c6c0-89de299ccedc"
   },
   "outputs": [
    {
     "name": "stdout",
     "output_type": "stream",
     "text": [
      "Requirement already satisfied: hampel in c:\\users\\anurag dutta\\appdata\\local\\packages\\pythonsoftwarefoundation.python.3.9_qbz5n2kfra8p0\\localcache\\local-packages\\python39\\site-packages (0.0.5)\n",
      "Requirement already satisfied: numpy in c:\\users\\anurag dutta\\appdata\\local\\packages\\pythonsoftwarefoundation.python.3.9_qbz5n2kfra8p0\\localcache\\local-packages\\python39\\site-packages (from hampel) (1.26.4)\n",
      "Requirement already satisfied: pandas in c:\\users\\anurag dutta\\appdata\\local\\packages\\pythonsoftwarefoundation.python.3.9_qbz5n2kfra8p0\\localcache\\local-packages\\python39\\site-packages (from hampel) (1.5.2)\n",
      "Requirement already satisfied: python-dateutil>=2.8.1 in c:\\users\\anurag dutta\\appdata\\local\\packages\\pythonsoftwarefoundation.python.3.9_qbz5n2kfra8p0\\localcache\\local-packages\\python39\\site-packages (from pandas->hampel) (2.8.2)\n",
      "Requirement already satisfied: pytz>=2020.1 in c:\\users\\anurag dutta\\appdata\\local\\packages\\pythonsoftwarefoundation.python.3.9_qbz5n2kfra8p0\\localcache\\local-packages\\python39\\site-packages (from pandas->hampel) (2023.3.post1)\n",
      "Requirement already satisfied: six>=1.5 in c:\\users\\anurag dutta\\appdata\\local\\packages\\pythonsoftwarefoundation.python.3.9_qbz5n2kfra8p0\\localcache\\local-packages\\python39\\site-packages (from python-dateutil>=2.8.1->pandas->hampel) (1.16.0)\n",
      "Note: you may need to restart the kernel to use updated packages.\n"
     ]
    },
    {
     "name": "stderr",
     "output_type": "stream",
     "text": [
      "\n",
      "[notice] A new release of pip is available: 24.2 -> 24.3.1\n",
      "[notice] To update, run: C:\\Users\\Anurag Dutta\\AppData\\Local\\Microsoft\\WindowsApps\\PythonSoftwareFoundation.Python.3.9_qbz5n2kfra8p0\\python.exe -m pip install --upgrade pip\n"
     ]
    }
   ],
   "source": [
    "pip install hampel"
   ]
  },
  {
   "cell_type": "code",
   "execution_count": 2,
   "metadata": {
    "id": "By_d9uXpaFvZ"
   },
   "outputs": [],
   "source": [
    "from keras.models import Sequential\n",
    "from keras.layers import Dense\n",
    "from keras.layers import LSTM\n",
    "from keras.layers import Dropout\n",
    "import keras\n",
    "import tensorflow as tf\n",
    "from hampel import hampel\n",
    "import numpy as np\n",
    "import matplotlib.pyplot as plt\n",
    "import pandas as pd\n",
    "from sklearn.preprocessing import MinMaxScaler\n",
    "from sklearn.metrics import mean_squared_error, mean_absolute_error\n",
    "from math import sqrt\n",
    "from matplotlib import pyplot\n",
    "from numpy import array"
   ]
  },
  {
   "cell_type": "markdown",
   "metadata": {
    "id": "JyOjBMFayuoR"
   },
   "source": [
    "## Pretraining"
   ]
  },
  {
   "cell_type": "markdown",
   "metadata": {
    "id": "-5QqIY_GyuoR"
   },
   "source": [
    "The `capa_intermittency.dat` feeds the model with the dynamics of the Capacitor"
   ]
  },
  {
   "cell_type": "code",
   "execution_count": 3,
   "metadata": {
    "id": "9dV4a8yfyuoR"
   },
   "outputs": [],
   "source": [
    "data = np.genfromtxt('capa_intermittency.dat')\n",
    "training_set = pd.DataFrame(data).reset_index(drop=True)\n",
    "training_set = training_set.iloc[:,0]"
   ]
  },
  {
   "cell_type": "markdown",
   "metadata": {
    "id": "i7easoxByuoR"
   },
   "source": [
    "## Computing the Gradient"
   ]
  },
  {
   "cell_type": "markdown",
   "metadata": {
    "id": "5SnyolJTyuoR"
   },
   "source": [
    "_Calculating the value of_ $\\frac{dx}{dt}$"
   ]
  },
  {
   "cell_type": "code",
   "execution_count": 4,
   "metadata": {
    "colab": {
     "base_uri": "https://localhost:8080/"
    },
    "id": "wmIbVfIvyuoR",
    "outputId": "aa4e3136-c854-465d-d2e9-81cfd546e440"
   },
   "outputs": [
    {
     "name": "stdout",
     "output_type": "stream",
     "text": [
      "1.0\n",
      "1        0.000298\n",
      "2        0.000298\n",
      "3        0.000297\n",
      "4        0.000297\n",
      "5        0.000297\n",
      "           ...   \n",
      "9996     0.000018\n",
      "9997     0.000018\n",
      "9998     0.000018\n",
      "9999     0.000018\n",
      "10000    0.000018\n",
      "Name: 0, Length: 10000, dtype: float64\n"
     ]
    }
   ],
   "source": [
    "t_diff = 1\n",
    "print(training_set.max())\n",
    "gradient_t = (training_set.diff()/t_diff).iloc[1:] # dx/dt\n",
    "print(gradient_t)"
   ]
  },
  {
   "cell_type": "markdown",
   "metadata": {
    "id": "_2eVeeoxyuoS"
   },
   "source": [
    "## Loading Datasets"
   ]
  },
  {
   "cell_type": "code",
   "execution_count": 5,
   "metadata": {
    "id": "0J-NKyIEyuoS"
   },
   "outputs": [
    {
     "data": {
      "text/plain": [
       "0       90.500000\n",
       "1       90.275910\n",
       "2       90.051821\n",
       "3       89.827731\n",
       "4       89.603641\n",
       "          ...    \n",
       "2045    60.143732\n",
       "2046    60.117122\n",
       "2047    60.090511\n",
       "2048    60.063901\n",
       "2049    60.037290\n",
       "Name: C2, Length: 2050, dtype: float64"
      ]
     },
     "execution_count": 5,
     "metadata": {},
     "output_type": "execute_result"
    }
   ],
   "source": [
    "data = pd.read_csv(\"c2_interpolated_1950_100.csv\")\n",
    "training_set = data.iloc[:, 1]\n",
    "training_set"
   ]
  },
  {
   "cell_type": "code",
   "execution_count": 6,
   "metadata": {
    "colab": {
     "base_uri": "https://localhost:8080/"
    },
    "id": "-CbNUhJ74UqF",
    "outputId": "20f562d8-8247-49cc-b9c3-00eca5e13e2d"
   },
   "outputs": [
    {
     "data": {
      "text/plain": [
       "0       90.500000\n",
       "1       90.275910\n",
       "2       90.051821\n",
       "3       89.827731\n",
       "4       89.603641\n",
       "          ...    \n",
       "1945     0.000000\n",
       "1946     0.300215\n",
       "1947     0.000000\n",
       "1948     0.000000\n",
       "1949     0.000000\n",
       "Name: C2, Length: 1950, dtype: float64"
      ]
     },
     "execution_count": 6,
     "metadata": {},
     "output_type": "execute_result"
    }
   ],
   "source": [
    "test = training_set.tail(100)\n",
    "test\n",
    "training_set = training_set.head(1950)\n",
    "training_set"
   ]
  },
  {
   "cell_type": "code",
   "execution_count": 7,
   "metadata": {
    "colab": {
     "base_uri": "https://localhost:8080/"
    },
    "id": "X0TwTcq0yuoS",
    "outputId": "37252ed8-d88e-4044-fa7a-922411990b5b"
   },
   "outputs": [
    {
     "name": "stdout",
     "output_type": "stream",
     "text": [
      "0       0.000298\n",
      "1       0.000298\n",
      "2       0.000297\n",
      "3       0.000297\n",
      "4       0.000297\n",
      "          ...   \n",
      "9995    0.000018\n",
      "9996    0.000018\n",
      "9997    0.000018\n",
      "9998    0.000018\n",
      "9999    0.000018\n",
      "Name: 0, Length: 10000, dtype: float64\n"
     ]
    }
   ],
   "source": [
    "training_set = training_set.reset_index(drop=True)\n",
    "gradient_t = gradient_t.reset_index(drop=True)\n",
    "print(gradient_t)"
   ]
  },
  {
   "cell_type": "code",
   "execution_count": 8,
   "metadata": {
    "id": "O2biznZQyuoS"
   },
   "outputs": [],
   "source": [
    "df = pd.concat((training_set, gradient_t), axis=1)\n",
    "df.columns = ['y_t', 'grad_t']"
   ]
  },
  {
   "cell_type": "code",
   "execution_count": 9,
   "metadata": {
    "colab": {
     "base_uri": "https://localhost:8080/",
     "height": 423
    },
    "id": "sk_a5v3tyuoS",
    "outputId": "17563625-e550-45ae-faab-fafa353e44da"
   },
   "outputs": [
    {
     "data": {
      "text/html": [
       "<div>\n",
       "<style scoped>\n",
       "    .dataframe tbody tr th:only-of-type {\n",
       "        vertical-align: middle;\n",
       "    }\n",
       "\n",
       "    .dataframe tbody tr th {\n",
       "        vertical-align: top;\n",
       "    }\n",
       "\n",
       "    .dataframe thead th {\n",
       "        text-align: right;\n",
       "    }\n",
       "</style>\n",
       "<table border=\"1\" class=\"dataframe\">\n",
       "  <thead>\n",
       "    <tr style=\"text-align: right;\">\n",
       "      <th></th>\n",
       "      <th>y_t</th>\n",
       "      <th>grad_t</th>\n",
       "    </tr>\n",
       "  </thead>\n",
       "  <tbody>\n",
       "    <tr>\n",
       "      <th>0</th>\n",
       "      <td>90.500000</td>\n",
       "      <td>0.000298</td>\n",
       "    </tr>\n",
       "    <tr>\n",
       "      <th>1</th>\n",
       "      <td>90.275910</td>\n",
       "      <td>0.000298</td>\n",
       "    </tr>\n",
       "    <tr>\n",
       "      <th>2</th>\n",
       "      <td>90.051821</td>\n",
       "      <td>0.000297</td>\n",
       "    </tr>\n",
       "    <tr>\n",
       "      <th>3</th>\n",
       "      <td>89.827731</td>\n",
       "      <td>0.000297</td>\n",
       "    </tr>\n",
       "    <tr>\n",
       "      <th>4</th>\n",
       "      <td>89.603641</td>\n",
       "      <td>0.000297</td>\n",
       "    </tr>\n",
       "    <tr>\n",
       "      <th>...</th>\n",
       "      <td>...</td>\n",
       "      <td>...</td>\n",
       "    </tr>\n",
       "    <tr>\n",
       "      <th>9995</th>\n",
       "      <td>NaN</td>\n",
       "      <td>0.000018</td>\n",
       "    </tr>\n",
       "    <tr>\n",
       "      <th>9996</th>\n",
       "      <td>NaN</td>\n",
       "      <td>0.000018</td>\n",
       "    </tr>\n",
       "    <tr>\n",
       "      <th>9997</th>\n",
       "      <td>NaN</td>\n",
       "      <td>0.000018</td>\n",
       "    </tr>\n",
       "    <tr>\n",
       "      <th>9998</th>\n",
       "      <td>NaN</td>\n",
       "      <td>0.000018</td>\n",
       "    </tr>\n",
       "    <tr>\n",
       "      <th>9999</th>\n",
       "      <td>NaN</td>\n",
       "      <td>0.000018</td>\n",
       "    </tr>\n",
       "  </tbody>\n",
       "</table>\n",
       "<p>10000 rows × 2 columns</p>\n",
       "</div>"
      ],
      "text/plain": [
       "            y_t    grad_t\n",
       "0     90.500000  0.000298\n",
       "1     90.275910  0.000298\n",
       "2     90.051821  0.000297\n",
       "3     89.827731  0.000297\n",
       "4     89.603641  0.000297\n",
       "...         ...       ...\n",
       "9995        NaN  0.000018\n",
       "9996        NaN  0.000018\n",
       "9997        NaN  0.000018\n",
       "9998        NaN  0.000018\n",
       "9999        NaN  0.000018\n",
       "\n",
       "[10000 rows x 2 columns]"
      ]
     },
     "execution_count": 9,
     "metadata": {},
     "output_type": "execute_result"
    }
   ],
   "source": [
    "df"
   ]
  },
  {
   "cell_type": "markdown",
   "metadata": {
    "id": "-5esyHu5aFvg"
   },
   "source": [
    "## Plot of the External Forcing from Chaotic Differential Equation"
   ]
  },
  {
   "cell_type": "code",
   "execution_count": 10,
   "metadata": {
    "colab": {
     "base_uri": "https://localhost:8080/",
     "height": 447
    },
    "id": "hGnE43tOh-4p",
    "outputId": "fc396503-b624-4fa5-dfbe-f460207405c6"
   },
   "outputs": [
    {
     "data": {
      "text/plain": [
       "<Axes: >"
      ]
     },
     "execution_count": 10,
     "metadata": {},
     "output_type": "execute_result"
    },
    {
     "data": {
      "image/png": "[encoded data removed]",
      "text/plain": [
       "<Figure size 432x288 with 1 Axes>"
      ]
     },
     "metadata": {
      "needs_background": "light"
     },
     "output_type": "display_data"
    }
   ],
   "source": [
    "df.iloc[:, 0].plot()"
   ]
  },
  {
   "cell_type": "code",
   "execution_count": 11,
   "metadata": {
    "colab": {
     "base_uri": "https://localhost:8080/",
     "height": 447
    },
    "id": "ym4xWUUxaFvg",
    "outputId": "ae6a3495-8ce9-437e-ba81-3ed31deedeae"
   },
   "outputs": [
    {
     "name": "stderr",
     "output_type": "stream",
     "text": [
      "C:\\Users\\Anurag Dutta\\AppData\\Local\\Packages\\PythonSoftwareFoundation.Python.3.9_qbz5n2kfra8p0\\LocalCache\\local-packages\\Python39\\site-packages\\pandas\\core\\arraylike.py:402: RuntimeWarning: divide by zero encountered in log\n",
      "  result = getattr(ufunc, method)(*inputs, **kwargs)\n"
     ]
    },
    {
     "data": {
      "text/plain": [
       "<Axes: >"
      ]
     },
     "execution_count": 11,
     "metadata": {},
     "output_type": "execute_result"
    },
    {
     "data": {
      "image/png": "[encoded data removed]",
      "text/plain": [
       "<Figure size 432x288 with 1 Axes>"
      ]
     },
     "metadata": {
      "needs_background": "light"
     },
     "output_type": "display_data"
    }
   ],
   "source": [
    "import numpy as np\n",
    "c0 = 88.1552  # Value for C0\n",
    "K0 = -0.0026  # Value for K0\n",
    "K1 = -0.0004  # Value for K1\n",
    "a = 0.0000    # Value for a\n",
    "b = 0.0102    # Value for b\n",
    "c = 2.8734    # Value for c\n",
    "\n",
    "L = np.minimum(c0, (df.iloc[:, 1] - (df.iloc[:, 0] * (K0 - K1 * (9 * a * np.log(df.iloc[:, 0] / c0) / (K0 - K1 * c)**2 + 4 * b * np.log(df.iloc[:, 0] / c0) / (K0 - K1 * c) + c)))))\n",
    "L.plot()"
   ]
  },
  {
   "cell_type": "markdown",
   "metadata": {
    "id": "9VyEywnwaFvh"
   },
   "source": [
    "## Preprocessing the data into supervised learning"
   ]
  },
  {
   "cell_type": "code",
   "execution_count": 12,
   "metadata": {
    "id": "6V9dXqzdaFvh"
   },
   "outputs": [],
   "source": [
    "# split a sequence into samples\n",
    "def Supervised(data, n_in=1, n_out=1, dropnan=True):\n",
    "    n_vars = 1 if type(data) is list else data.shape[1]\n",
    "    df = pd.DataFrame(data)\n",
    "    cols, names = list(), list()\n",
    "    # input sequence (t-n_in, ... t-1)\n",
    "    for i in range(n_in, 0, -1):\n",
    "        cols.append(df.shift(i))\n",
    "        names += [('var%d(t-%d)' % (j+1, i)) for j in range(n_vars)]\n",
    "    # forecast sequence (t, t+1, ... t+n_out)\n",
    "    for i in range(0, n_out):\n",
    "      cols.append(df.shift(-i))\n",
    "      if i == 0:\n",
    "        names += [('var%d(t)' % (j+1)) for j in range(n_vars)]\n",
    "      else:\n",
    "        names += [('var%d(t+%d)' % (j+1, i)) for j in range(n_vars)]\n",
    "    # put it all together\n",
    "    agg = pd.concat(cols, axis=1)\n",
    "    agg.columns = names\n",
    "    # drop rows with NaN values\n",
    "    if dropnan:\n",
    "       agg.dropna(inplace=True)\n",
    "    return agg"
   ]
  },
  {
   "cell_type": "code",
   "execution_count": 13,
   "metadata": {
    "colab": {
     "base_uri": "https://localhost:8080/"
    },
    "id": "CrzSrT1HnyfH",
    "outputId": "7e75f928-3e47-499d-eac1-51908015ef78"
   },
   "outputs": [
    {
     "name": "stdout",
     "output_type": "stream",
     "text": [
      "     var1(t-350)  var1(t-349)  var1(t-348)  var1(t-347)  var1(t-346)  \\\n",
      "350    90.500000    90.275910    90.051821    89.827731    89.603641   \n",
      "351    90.275910    90.051821    89.827731    89.603641    89.379552   \n",
      "352    90.051821    89.827731    89.603641    89.379552    89.155462   \n",
      "353    89.827731    89.603641    89.379552    89.155462    88.931373   \n",
      "354    89.603641    89.379552    89.155462    88.931373    88.707283   \n",
      "\n",
      "     var1(t-345)  var1(t-344)  var1(t-343)  var1(t-342)  var1(t-341)  ...  \\\n",
      "350    89.379552    89.155462    88.931373    88.707283    88.494958  ...   \n",
      "351    89.155462    88.931373    88.707283    88.494958    88.427731  ...   \n",
      "352    88.931373    88.707283    88.494958    88.427731    88.360504  ...   \n",
      "353    88.707283    88.494958    88.427731    88.360504    88.293277  ...   \n",
      "354    88.494958    88.427731    88.360504    88.293277    88.226050  ...   \n",
      "\n",
      "     var1(t+95)  var2(t+95)  var1(t+96)  var2(t+96)  var1(t+97)  var2(t+97)  \\\n",
      "350   79.071008    0.000263   79.054202    0.000263   79.037395    0.000263   \n",
      "351   79.054202    0.000263   79.037395    0.000263   79.020588    0.000262   \n",
      "352   79.037395    0.000263   79.020588    0.000262   79.003782    0.000262   \n",
      "353   79.020588    0.000262   79.003782    0.000262   78.986975    0.000262   \n",
      "354   79.003782    0.000262   78.986975    0.000262   78.970168    0.000262   \n",
      "\n",
      "     var1(t+98)  var2(t+98)  var1(t+99)  var2(t+99)  \n",
      "350   79.020588    0.000262   79.003782    0.000262  \n",
      "351   79.003782    0.000262   78.986975    0.000262  \n",
      "352   78.986975    0.000262   78.970168    0.000262  \n",
      "353   78.970168    0.000262   78.953361    0.000262  \n",
      "354   78.953361    0.000262   78.936555    0.000262  \n",
      "\n",
      "[5 rows x 551 columns]\n",
      "Index(['var1(t-350)', 'var1(t-349)', 'var1(t-348)', 'var1(t-347)',\n",
      "       'var1(t-346)', 'var1(t-345)', 'var1(t-344)', 'var1(t-343)',\n",
      "       'var1(t-342)', 'var1(t-341)',\n",
      "       ...\n",
      "       'var1(t+95)', 'var2(t+95)', 'var1(t+96)', 'var2(t+96)', 'var1(t+97)',\n",
      "       'var2(t+97)', 'var1(t+98)', 'var2(t+98)', 'var1(t+99)', 'var2(t+99)'],\n",
      "      dtype='object', length=551)\n"
     ]
    }
   ],
   "source": [
    "data = Supervised(df.values, n_in = 350, n_out = 100)\n",
    "\n",
    "\n",
    "cols_to_drop = []\n",
    "for i in range(2, 351):\n",
    "    cols_to_drop.extend([f'var2(t-{i})'])\n",
    "\n",
    "data.drop(cols_to_drop, axis=1, inplace=True)\n",
    "\n",
    "print(data.head())\n",
    "print(data.columns)"
   ]
  },
  {
   "cell_type": "code",
   "execution_count": 14,
   "metadata": {
    "id": "AfPf60oy6Pe4"
   },
   "outputs": [],
   "source": [
    "train = np.array(data[0:len(data)-1])\n",
    "forecast = np.array(data.tail(1))"
   ]
  },
  {
   "cell_type": "code",
   "execution_count": 15,
   "metadata": {
    "id": "WSAafzI37KiT"
   },
   "outputs": [],
   "source": [
    "trainy = train[:,-300:]\n",
    "trainX = train[:,:-300]"
   ]
  },
  {
   "cell_type": "code",
   "execution_count": 16,
   "metadata": {
    "id": "2SrOqVJA7f50"
   },
   "outputs": [],
   "source": [
    "forecasty = forecast[:,-300:]\n",
    "forecastX = forecast[:,:-300]"
   ]
  },
  {
   "cell_type": "code",
   "execution_count": 17,
   "metadata": {
    "colab": {
     "base_uri": "https://localhost:8080/"
    },
    "id": "Qno_k8Nw7saY",
    "outputId": "c4a88db5-d8c6-489f-cdb2-06b24e293cff"
   },
   "outputs": [
    {
     "name": "stdout",
     "output_type": "stream",
     "text": [
      "(1500, 1, 251) (1500, 300) (1, 1, 251)\n"
     ]
    }
   ],
   "source": [
    "trainX = trainX.reshape((trainX.shape[0], 1, trainX.shape[1]))\n",
    "forecastX = forecastX.reshape((forecastX.shape[0], 1, forecastX.shape[1]))\n",
    "print(trainX.shape, trainy.shape, forecastX.shape)"
   ]
  },
  {
   "cell_type": "code",
   "execution_count": 18,
   "metadata": {
    "colab": {
     "base_uri": "https://localhost:8080/"
    },
    "id": "b1Jp2DvNuNFx",
    "outputId": "d0e5b3c4-64f1-438c-eade-8dfeaac8e285"
   },
   "outputs": [
    {
     "name": "stdout",
     "output_type": "stream",
     "text": [
      "Epoch 1/500\n",
      "19/19 [==============================] - 2s 25ms/step - loss: 5399.2441 - val_loss: 4360.2759\n",
      "Epoch 2/500\n",
      "19/19 [==============================] - 0s 4ms/step - loss: 5310.0610 - val_loss: 4301.1152\n",
      "Epoch 3/500\n",
      "19/19 [==============================] - 0s 3ms/step - loss: 5231.5962 - val_loss: 4223.2808\n",
      "Epoch 4/500\n",
      "19/19 [==============================] - 0s 4ms/step - loss: 5157.5786 - val_loss: 4162.3960\n",
      "Epoch 5/500\n",
      "19/19 [==============================] - 0s 4ms/step - loss: 5090.5762 - val_loss: 4102.3730\n",
      "Epoch 6/500\n",
      "19/19 [==============================] - 0s 4ms/step - loss: 5024.4634 - val_loss: 4043.1528\n",
      "Epoch 7/500\n",
      "19/19 [==============================] - 0s 4ms/step - loss: 4959.1528 - val_loss: 3984.6604\n",
      "Epoch 8/500\n",
      "19/19 [==============================] - 0s 4ms/step - loss: 4894.5767 - val_loss: 3926.8484\n",
      "Epoch 9/500\n",
      "19/19 [==============================] - 0s 4ms/step - loss: 4830.6953 - val_loss: 3869.6897\n",
      "Epoch 10/500\n",
      "19/19 [==============================] - 0s 3ms/step - loss: 4767.4834 - val_loss: 3813.1650\n",
      "Epoch 11/500\n",
      "19/19 [==============================] - 0s 4ms/step - loss: 4704.9238 - val_loss: 3757.2612\n",
      "Epoch 12/500\n",
      "19/19 [==============================] - 0s 4ms/step - loss: 4643.0015 - val_loss: 3701.9675\n",
      "Epoch 13/500\n",
      "19/19 [==============================] - 0s 4ms/step - loss: 4574.4229 - val_loss: 3637.4263\n",
      "Epoch 14/500\n",
      "19/19 [==============================] - 0s 4ms/step - loss: 4507.6338 - val_loss: 3578.7329\n",
      "Epoch 15/500\n",
      "19/19 [==============================] - 0s 4ms/step - loss: 4442.8926 - val_loss: 3521.4866\n",
      "Epoch 16/500\n",
      "19/19 [==============================] - 0s 4ms/step - loss: 4379.5625 - val_loss: 3465.3958\n",
      "Epoch 17/500\n",
      "19/19 [==============================] - 0s 4ms/step - loss: 4317.3633 - val_loss: 3410.2664\n",
      "Epoch 18/500\n",
      "19/19 [==============================] - 0s 4ms/step - loss: 4256.1226 - val_loss: 3355.9846\n",
      "Epoch 19/500\n",
      "19/19 [==============================] - 0s 4ms/step - loss: 4195.7412 - val_loss: 3302.4822\n",
      "Epoch 20/500\n",
      "19/19 [==============================] - 0s 3ms/step - loss: 4136.1548 - val_loss: 3249.7104\n",
      "Epoch 21/500\n",
      "19/19 [==============================] - 0s 4ms/step - loss: 4077.3203 - val_loss: 3197.6382\n",
      "Epoch 22/500\n",
      "19/19 [==============================] - 0s 5ms/step - loss: 4019.2041 - val_loss: 3146.2385\n",
      "Epoch 23/500\n",
      "19/19 [==============================] - 0s 4ms/step - loss: 3961.7817 - val_loss: 3095.4917\n",
      "Epoch 24/500\n",
      "19/19 [==============================] - 0s 4ms/step - loss: 3905.0334 - val_loss: 3045.3806\n",
      "Epoch 25/500\n",
      "19/19 [==============================] - 0s 4ms/step - loss: 3848.9421 - val_loss: 2995.8926\n",
      "Epoch 26/500\n",
      "19/19 [==============================] - 0s 4ms/step - loss: 3793.4946 - val_loss: 2947.0146\n",
      "Epoch 27/500\n",
      "19/19 [==============================] - 0s 5ms/step - loss: 3738.6775 - val_loss: 2898.7366\n",
      "Epoch 28/500\n",
      "19/19 [==============================] - 0s 4ms/step - loss: 3684.4807 - val_loss: 2851.0481\n",
      "Epoch 29/500\n",
      "19/19 [==============================] - 0s 4ms/step - loss: 3630.8962 - val_loss: 2803.9419\n",
      "Epoch 30/500\n",
      "19/19 [==============================] - 0s 3ms/step - loss: 3577.9141 - val_loss: 2757.4099\n",
      "Epoch 31/500\n",
      "19/19 [==============================] - 0s 4ms/step - loss: 3525.5249 - val_loss: 2711.4441\n",
      "Epoch 32/500\n",
      "19/19 [==============================] - 0s 4ms/step - loss: 3473.7236 - val_loss: 2666.0376\n",
      "Epoch 33/500\n",
      "19/19 [==============================] - 0s 4ms/step - loss: 3422.5015 - val_loss: 2621.1846\n",
      "Epoch 34/500\n",
      "19/19 [==============================] - 0s 7ms/step - loss: 3371.8530 - val_loss: 2576.8787\n",
      "Epoch 35/500\n",
      "19/19 [==============================] - 0s 4ms/step - loss: 3321.7710 - val_loss: 2533.1135\n",
      "Epoch 36/500\n",
      "19/19 [==============================] - 0s 3ms/step - loss: 3272.2500 - val_loss: 2489.8843\n",
      "Epoch 37/500\n",
      "19/19 [==============================] - 0s 3ms/step - loss: 3223.2839 - val_loss: 2447.1851\n",
      "Epoch 38/500\n",
      "19/19 [==============================] - 0s 4ms/step - loss: 3174.8679 - val_loss: 2405.0103\n",
      "Epoch 39/500\n",
      "19/19 [==============================] - 0s 4ms/step - loss: 3126.9966 - val_loss: 2363.3557\n",
      "Epoch 40/500\n",
      "19/19 [==============================] - 0s 4ms/step - loss: 3079.6638 - val_loss: 2322.2156\n",
      "Epoch 41/500\n",
      "19/19 [==============================] - 0s 3ms/step - loss: 3032.8667 - val_loss: 2281.5854\n",
      "Epoch 42/500\n",
      "19/19 [==============================] - 0s 4ms/step - loss: 2986.5979 - val_loss: 2241.4604\n",
      "Epoch 43/500\n",
      "19/19 [==============================] - 0s 4ms/step - loss: 2940.8535 - val_loss: 2201.8367\n",
      "Epoch 44/500\n",
      "19/19 [==============================] - 0s 4ms/step - loss: 2895.6292 - val_loss: 2162.7085\n",
      "Epoch 45/500\n",
      "19/19 [==============================] - 0s 4ms/step - loss: 2850.9211 - val_loss: 2124.0725\n",
      "Epoch 46/500\n",
      "19/19 [==============================] - 0s 4ms/step - loss: 2806.7231 - val_loss: 2085.9241\n",
      "Epoch 47/500\n",
      "19/19 [==============================] - 0s 4ms/step - loss: 2763.0327 - val_loss: 2048.2593\n",
      "Epoch 48/500\n",
      "19/19 [==============================] - 0s 4ms/step - loss: 2719.8440 - val_loss: 2011.0729\n",
      "Epoch 49/500\n",
      "19/19 [==============================] - 0s 4ms/step - loss: 2677.1536 - val_loss: 1974.3615\n",
      "Epoch 50/500\n",
      "19/19 [==============================] - 0s 4ms/step - loss: 2634.9570 - val_loss: 1938.1204\n",
      "Epoch 51/500\n",
      "19/19 [==============================] - 0s 4ms/step - loss: 2593.2495 - val_loss: 1902.3469\n",
      "Epoch 52/500\n",
      "19/19 [==============================] - 0s 4ms/step - loss: 2552.0286 - val_loss: 1867.0354\n",
      "Epoch 53/500\n",
      "19/19 [==============================] - 0s 4ms/step - loss: 2511.2891 - val_loss: 1832.1833\n",
      "Epoch 54/500\n",
      "19/19 [==============================] - 0s 4ms/step - loss: 2471.0273 - val_loss: 1797.7860\n",
      "Epoch 55/500\n",
      "19/19 [==============================] - 0s 3ms/step - loss: 2431.2395 - val_loss: 1763.8391\n",
      "Epoch 56/500\n",
      "19/19 [==============================] - 0s 4ms/step - loss: 2391.9216 - val_loss: 1730.3409\n",
      "Epoch 57/500\n",
      "19/19 [==============================] - 0s 4ms/step - loss: 2353.0703 - val_loss: 1697.2858\n",
      "Epoch 58/500\n",
      "19/19 [==============================] - 0s 3ms/step - loss: 2314.6812 - val_loss: 1664.6697\n",
      "Epoch 59/500\n",
      "19/19 [==============================] - 0s 4ms/step - loss: 2276.7507 - val_loss: 1632.4904\n",
      "Epoch 60/500\n",
      "19/19 [==============================] - 0s 4ms/step - loss: 2239.2754 - val_loss: 1600.7438\n",
      "Epoch 61/500\n",
      "19/19 [==============================] - 0s 4ms/step - loss: 2202.2517 - val_loss: 1569.4258\n",
      "Epoch 62/500\n",
      "19/19 [==============================] - 0s 4ms/step - loss: 2165.6755 - val_loss: 1538.5336\n",
      "Epoch 63/500\n",
      "19/19 [==============================] - 0s 3ms/step - loss: 2129.5432 - val_loss: 1508.0626\n",
      "Epoch 64/500\n",
      "19/19 [==============================] - 0s 4ms/step - loss: 2093.8521 - val_loss: 1478.0100\n",
      "Epoch 65/500\n",
      "19/19 [==============================] - 0s 4ms/step - loss: 2058.5972 - val_loss: 1448.3721\n",
      "Epoch 66/500\n",
      "19/19 [==============================] - 0s 4ms/step - loss: 2023.7766 - val_loss: 1419.1458\n",
      "Epoch 67/500\n",
      "19/19 [==============================] - 0s 4ms/step - loss: 1989.3862 - val_loss: 1390.3270\n",
      "Epoch 68/500\n",
      "19/19 [==============================] - 0s 4ms/step - loss: 1955.4219 - val_loss: 1361.9122\n",
      "Epoch 69/500\n",
      "19/19 [==============================] - 0s 4ms/step - loss: 1921.8809 - val_loss: 1333.8987\n",
      "Epoch 70/500\n",
      "19/19 [==============================] - 0s 7ms/step - loss: 1888.7600 - val_loss: 1306.2827\n",
      "Epoch 71/500\n",
      "19/19 [==============================] - 0s 4ms/step - loss: 1856.0554 - val_loss: 1279.0610\n",
      "Epoch 72/500\n",
      "19/19 [==============================] - 0s 3ms/step - loss: 1823.7633 - val_loss: 1252.2300\n",
      "Epoch 73/500\n",
      "19/19 [==============================] - 0s 4ms/step - loss: 1791.8821 - val_loss: 1225.7877\n",
      "Epoch 74/500\n",
      "19/19 [==============================] - 0s 4ms/step - loss: 1760.4073 - val_loss: 1199.7288\n",
      "Epoch 75/500\n",
      "19/19 [==============================] - 0s 4ms/step - loss: 1729.3356 - val_loss: 1174.0509\n",
      "Epoch 76/500\n",
      "19/19 [==============================] - 0s 4ms/step - loss: 1698.6637 - val_loss: 1148.7511\n",
      "Epoch 77/500\n",
      "19/19 [==============================] - 0s 4ms/step - loss: 1668.3888 - val_loss: 1123.8257\n",
      "Epoch 78/500\n",
      "19/19 [==============================] - 0s 4ms/step - loss: 1638.5077 - val_loss: 1099.2719\n",
      "Epoch 79/500\n",
      "19/19 [==============================] - 0s 4ms/step - loss: 1609.0167 - val_loss: 1075.0858\n",
      "Epoch 80/500\n",
      "19/19 [==============================] - 0s 4ms/step - loss: 1579.9128 - val_loss: 1051.2649\n",
      "Epoch 81/500\n",
      "19/19 [==============================] - 0s 4ms/step - loss: 1551.1929 - val_loss: 1027.8063\n",
      "Epoch 82/500\n",
      "19/19 [==============================] - 0s 4ms/step - loss: 1522.8540 - val_loss: 1004.7058\n",
      "Epoch 83/500\n",
      "19/19 [==============================] - 0s 3ms/step - loss: 1494.8932 - val_loss: 981.9615\n",
      "Epoch 84/500\n",
      "19/19 [==============================] - 0s 4ms/step - loss: 1467.3071 - val_loss: 959.5684\n",
      "Epoch 85/500\n",
      "19/19 [==============================] - 0s 4ms/step - loss: 1440.0922 - val_loss: 937.5258\n",
      "Epoch 86/500\n",
      "19/19 [==============================] - 0s 4ms/step - loss: 1413.2461 - val_loss: 915.8290\n",
      "Epoch 87/500\n",
      "19/19 [==============================] - 0s 3ms/step - loss: 1386.7651 - val_loss: 894.4758\n",
      "Epoch 88/500\n",
      "19/19 [==============================] - 0s 4ms/step - loss: 1360.6473 - val_loss: 873.4625\n",
      "Epoch 89/500\n",
      "19/19 [==============================] - 0s 4ms/step - loss: 1334.8883 - val_loss: 852.7857\n",
      "Epoch 90/500\n",
      "19/19 [==============================] - 0s 4ms/step - loss: 1309.4860 - val_loss: 832.4437\n",
      "Epoch 91/500\n",
      "19/19 [==============================] - 0s 4ms/step - loss: 1284.4371 - val_loss: 812.4324\n",
      "Epoch 92/500\n",
      "19/19 [==============================] - 0s 4ms/step - loss: 1259.7388 - val_loss: 792.7495\n",
      "Epoch 93/500\n",
      "19/19 [==============================] - 0s 4ms/step - loss: 1235.3882 - val_loss: 773.3916\n",
      "Epoch 94/500\n",
      "19/19 [==============================] - 0s 4ms/step - loss: 1211.3820 - val_loss: 754.3561\n",
      "Epoch 95/500\n",
      "19/19 [==============================] - 0s 4ms/step - loss: 1187.7173 - val_loss: 735.6394\n",
      "Epoch 96/500\n",
      "19/19 [==============================] - 0s 4ms/step - loss: 1164.3917 - val_loss: 717.2389\n",
      "Epoch 97/500\n",
      "19/19 [==============================] - 0s 4ms/step - loss: 1141.4016 - val_loss: 699.1513\n",
      "Epoch 98/500\n",
      "19/19 [==============================] - 0s 4ms/step - loss: 1118.7444 - val_loss: 681.3746\n",
      "Epoch 99/500\n",
      "19/19 [==============================] - 0s 3ms/step - loss: 1096.4174 - val_loss: 663.9048\n",
      "Epoch 100/500\n",
      "19/19 [==============================] - 0s 4ms/step - loss: 1074.4175 - val_loss: 646.7401\n",
      "Epoch 101/500\n",
      "19/19 [==============================] - 0s 4ms/step - loss: 1052.7424 - val_loss: 629.8766\n",
      "Epoch 102/500\n",
      "19/19 [==============================] - 0s 4ms/step - loss: 1031.3883 - val_loss: 613.3120\n",
      "Epoch 103/500\n",
      "19/19 [==============================] - 0s 4ms/step - loss: 1010.3529 - val_loss: 597.0428\n",
      "Epoch 104/500\n",
      "19/19 [==============================] - 0s 4ms/step - loss: 989.6334 - val_loss: 581.0673\n",
      "Epoch 105/500\n",
      "19/19 [==============================] - 0s 4ms/step - loss: 969.2269 - val_loss: 565.3810\n",
      "Epoch 106/500\n",
      "19/19 [==============================] - 0s 4ms/step - loss: 949.1305 - val_loss: 549.9826\n",
      "Epoch 107/500\n",
      "19/19 [==============================] - 0s 7ms/step - loss: 929.3414 - val_loss: 534.8687\n",
      "Epoch 108/500\n",
      "19/19 [==============================] - 0s 4ms/step - loss: 909.8568 - val_loss: 520.0352\n",
      "Epoch 109/500\n",
      "19/19 [==============================] - 0s 4ms/step - loss: 890.6740 - val_loss: 505.4816\n",
      "Epoch 110/500\n",
      "19/19 [==============================] - 0s 4ms/step - loss: 871.7906 - val_loss: 491.2034\n",
      "Epoch 111/500\n",
      "19/19 [==============================] - 0s 3ms/step - loss: 853.2034 - val_loss: 477.1980\n",
      "Epoch 112/500\n",
      "19/19 [==============================] - 0s 4ms/step - loss: 834.9096 - val_loss: 463.4637\n",
      "Epoch 113/500\n",
      "19/19 [==============================] - 0s 4ms/step - loss: 816.9068 - val_loss: 449.9967\n",
      "Epoch 114/500\n",
      "19/19 [==============================] - 0s 5ms/step - loss: 799.1920 - val_loss: 436.7941\n",
      "Epoch 115/500\n",
      "19/19 [==============================] - 0s 4ms/step - loss: 781.7625 - val_loss: 423.8533\n",
      "Epoch 116/500\n",
      "19/19 [==============================] - 0s 4ms/step - loss: 764.6155 - val_loss: 411.1717\n",
      "Epoch 117/500\n",
      "19/19 [==============================] - 0s 4ms/step - loss: 747.7484 - val_loss: 398.7467\n",
      "Epoch 118/500\n",
      "19/19 [==============================] - 0s 4ms/step - loss: 731.1587 - val_loss: 386.5754\n",
      "Epoch 119/500\n",
      "19/19 [==============================] - 0s 3ms/step - loss: 714.8434 - val_loss: 374.6548\n",
      "Epoch 120/500\n",
      "19/19 [==============================] - 0s 5ms/step - loss: 698.8000 - val_loss: 362.9821\n",
      "Epoch 121/500\n",
      "19/19 [==============================] - 0s 4ms/step - loss: 683.0257 - val_loss: 351.5545\n",
      "Epoch 122/500\n",
      "19/19 [==============================] - 0s 5ms/step - loss: 667.5179 - val_loss: 340.3701\n",
      "Epoch 123/500\n",
      "19/19 [==============================] - 0s 4ms/step - loss: 652.2741 - val_loss: 329.4251\n",
      "Epoch 124/500\n",
      "19/19 [==============================] - 0s 4ms/step - loss: 637.2911 - val_loss: 318.7175\n",
      "Epoch 125/500\n",
      "19/19 [==============================] - 0s 5ms/step - loss: 622.5667 - val_loss: 308.2446\n",
      "Epoch 126/500\n",
      "19/19 [==============================] - 0s 4ms/step - loss: 608.0984 - val_loss: 298.0030\n",
      "Epoch 127/500\n",
      "19/19 [==============================] - 0s 4ms/step - loss: 593.8834 - val_loss: 287.9905\n",
      "Epoch 128/500\n",
      "19/19 [==============================] - 0s 4ms/step - loss: 579.9186 - val_loss: 278.2046\n",
      "Epoch 129/500\n",
      "19/19 [==============================] - 0s 5ms/step - loss: 566.2019 - val_loss: 268.6421\n",
      "Epoch 130/500\n",
      "19/19 [==============================] - 0s 4ms/step - loss: 552.7309 - val_loss: 259.3004\n",
      "Epoch 131/500\n",
      "19/19 [==============================] - 0s 4ms/step - loss: 539.5022 - val_loss: 250.1770\n",
      "Epoch 132/500\n",
      "19/19 [==============================] - 0s 4ms/step - loss: 526.5137 - val_loss: 241.2690\n",
      "Epoch 133/500\n",
      "19/19 [==============================] - 0s 4ms/step - loss: 513.7629 - val_loss: 232.5743\n",
      "Epoch 134/500\n",
      "19/19 [==============================] - 0s 4ms/step - loss: 501.2470 - val_loss: 224.0897\n",
      "Epoch 135/500\n",
      "19/19 [==============================] - 0s 7ms/step - loss: 488.9637 - val_loss: 215.8122\n",
      "Epoch 136/500\n",
      "19/19 [==============================] - 0s 4ms/step - loss: 476.9099 - val_loss: 207.7400\n",
      "Epoch 137/500\n",
      "19/19 [==============================] - 0s 4ms/step - loss: 465.0835 - val_loss: 199.8700\n",
      "Epoch 138/500\n",
      "19/19 [==============================] - 0s 4ms/step - loss: 453.4818 - val_loss: 192.1996\n",
      "Epoch 139/500\n",
      "19/19 [==============================] - 0s 4ms/step - loss: 442.1020 - val_loss: 184.7260\n",
      "Epoch 140/500\n",
      "19/19 [==============================] - 0s 3ms/step - loss: 430.9421 - val_loss: 177.4472\n",
      "Epoch 141/500\n",
      "19/19 [==============================] - 0s 4ms/step - loss: 419.9992 - val_loss: 170.3590\n",
      "Epoch 142/500\n",
      "19/19 [==============================] - 0s 4ms/step - loss: 409.2703 - val_loss: 163.4605\n",
      "Epoch 143/500\n",
      "19/19 [==============================] - 0s 5ms/step - loss: 398.7535 - val_loss: 156.7486\n",
      "Epoch 144/500\n",
      "19/19 [==============================] - 0s 3ms/step - loss: 388.4460 - val_loss: 150.2204\n",
      "Epoch 145/500\n",
      "19/19 [==============================] - 0s 5ms/step - loss: 378.3455 - val_loss: 143.8731\n",
      "Epoch 146/500\n",
      "19/19 [==============================] - 0s 4ms/step - loss: 368.4490 - val_loss: 137.7043\n",
      "Epoch 147/500\n",
      "19/19 [==============================] - 0s 4ms/step - loss: 358.7543 - val_loss: 131.7118\n",
      "Epoch 148/500\n",
      "19/19 [==============================] - 0s 4ms/step - loss: 349.2589 - val_loss: 125.8923\n",
      "Epoch 149/500\n",
      "19/19 [==============================] - 0s 4ms/step - loss: 339.9603 - val_loss: 120.2441\n",
      "Epoch 150/500\n",
      "19/19 [==============================] - 0s 4ms/step - loss: 330.8563 - val_loss: 114.7642\n",
      "Epoch 151/500\n",
      "19/19 [==============================] - 0s 4ms/step - loss: 321.9442 - val_loss: 109.4495\n",
      "Epoch 152/500\n",
      "19/19 [==============================] - 0s 4ms/step - loss: 313.2212 - val_loss: 104.2981\n",
      "Epoch 153/500\n",
      "19/19 [==============================] - 0s 5ms/step - loss: 304.6851 - val_loss: 99.3069\n",
      "Epoch 154/500\n",
      "19/19 [==============================] - 0s 4ms/step - loss: 296.3330 - val_loss: 94.4741\n",
      "Epoch 155/500\n",
      "19/19 [==============================] - 0s 3ms/step - loss: 288.1632 - val_loss: 89.7963\n",
      "Epoch 156/500\n",
      "19/19 [==============================] - 0s 4ms/step - loss: 280.1725 - val_loss: 85.2714\n",
      "Epoch 157/500\n",
      "19/19 [==============================] - 0s 4ms/step - loss: 272.3589 - val_loss: 80.8971\n",
      "Epoch 158/500\n",
      "19/19 [==============================] - 0s 5ms/step - loss: 264.7199 - val_loss: 76.6704\n",
      "Epoch 159/500\n",
      "19/19 [==============================] - 0s 3ms/step - loss: 257.2532 - val_loss: 72.5892\n",
      "Epoch 160/500\n",
      "19/19 [==============================] - 0s 4ms/step - loss: 249.9561 - val_loss: 68.6505\n",
      "Epoch 161/500\n",
      "19/19 [==============================] - 0s 4ms/step - loss: 242.8262 - val_loss: 64.8521\n",
      "Epoch 162/500\n",
      "19/19 [==============================] - 0s 8ms/step - loss: 235.8611 - val_loss: 61.1916\n",
      "Epoch 163/500\n",
      "19/19 [==============================] - 0s 4ms/step - loss: 229.0585 - val_loss: 57.6663\n",
      "Epoch 164/500\n",
      "19/19 [==============================] - 0s 4ms/step - loss: 222.4158 - val_loss: 54.2736\n",
      "Epoch 165/500\n",
      "19/19 [==============================] - 0s 4ms/step - loss: 215.9307 - val_loss: 51.0116\n",
      "Epoch 166/500\n",
      "19/19 [==============================] - 0s 4ms/step - loss: 209.6013 - val_loss: 47.8773\n",
      "Epoch 167/500\n",
      "19/19 [==============================] - 0s 4ms/step - loss: 203.4245 - val_loss: 44.8685\n",
      "Epoch 168/500\n",
      "19/19 [==============================] - 0s 4ms/step - loss: 197.3982 - val_loss: 41.9827\n",
      "Epoch 169/500\n",
      "19/19 [==============================] - 0s 4ms/step - loss: 191.5203 - val_loss: 39.2173\n",
      "Epoch 170/500\n",
      "19/19 [==============================] - 0s 4ms/step - loss: 185.7881 - val_loss: 36.5702\n",
      "Epoch 171/500\n",
      "19/19 [==============================] - 0s 4ms/step - loss: 180.1994 - val_loss: 34.0388\n",
      "Epoch 172/500\n",
      "19/19 [==============================] - 0s 4ms/step - loss: 174.7521 - val_loss: 31.6207\n",
      "Epoch 173/500\n",
      "19/19 [==============================] - 0s 3ms/step - loss: 169.4435 - val_loss: 29.3137\n",
      "Epoch 174/500\n",
      "19/19 [==============================] - 0s 5ms/step - loss: 164.2716 - val_loss: 27.1152\n",
      "Epoch 175/500\n",
      "19/19 [==============================] - 0s 4ms/step - loss: 159.2340 - val_loss: 25.0229\n",
      "Epoch 176/500\n",
      "19/19 [==============================] - 0s 4ms/step - loss: 154.3283 - val_loss: 23.0344\n",
      "Epoch 177/500\n",
      "19/19 [==============================] - 0s 4ms/step - loss: 149.5522 - val_loss: 21.1474\n",
      "Epoch 178/500\n",
      "19/19 [==============================] - 0s 4ms/step - loss: 144.9035 - val_loss: 19.3597\n",
      "Epoch 179/500\n",
      "19/19 [==============================] - 0s 4ms/step - loss: 140.3802 - val_loss: 17.6689\n",
      "Epoch 180/500\n",
      "19/19 [==============================] - 0s 4ms/step - loss: 135.9798 - val_loss: 16.0728\n",
      "Epoch 181/500\n",
      "19/19 [==============================] - 0s 4ms/step - loss: 131.7001 - val_loss: 14.5688\n",
      "Epoch 182/500\n",
      "19/19 [==============================] - 0s 4ms/step - loss: 127.5389 - val_loss: 13.1550\n",
      "Epoch 183/500\n",
      "19/19 [==============================] - 0s 4ms/step - loss: 123.4941 - val_loss: 11.8290\n",
      "Epoch 184/500\n",
      "19/19 [==============================] - 0s 4ms/step - loss: 119.5634 - val_loss: 10.5885\n",
      "Epoch 185/500\n",
      "19/19 [==============================] - 0s 4ms/step - loss: 115.7445 - val_loss: 9.4314\n",
      "Epoch 186/500\n",
      "19/19 [==============================] - 0s 4ms/step - loss: 112.0356 - val_loss: 8.3555\n",
      "Epoch 187/500\n",
      "19/19 [==============================] - 0s 4ms/step - loss: 108.4343 - val_loss: 7.3587\n",
      "Epoch 188/500\n",
      "19/19 [==============================] - 0s 7ms/step - loss: 104.9387 - val_loss: 6.4386\n",
      "Epoch 189/500\n",
      "19/19 [==============================] - 0s 4ms/step - loss: 101.5465 - val_loss: 5.5932\n",
      "Epoch 190/500\n",
      "19/19 [==============================] - 0s 4ms/step - loss: 98.2557 - val_loss: 4.8204\n",
      "Epoch 191/500\n",
      "19/19 [==============================] - 0s 3ms/step - loss: 95.0641 - val_loss: 4.1179\n",
      "Epoch 192/500\n",
      "19/19 [==============================] - 0s 5ms/step - loss: 91.9696 - val_loss: 3.4839\n",
      "Epoch 193/500\n",
      "19/19 [==============================] - 0s 4ms/step - loss: 88.9703 - val_loss: 2.9161\n",
      "Epoch 194/500\n",
      "19/19 [==============================] - 0s 4ms/step - loss: 86.0641 - val_loss: 2.4125\n",
      "Epoch 195/500\n",
      "19/19 [==============================] - 0s 4ms/step - loss: 83.2490 - val_loss: 1.9712\n",
      "Epoch 196/500\n",
      "19/19 [==============================] - 0s 4ms/step - loss: 80.5230 - val_loss: 1.5900\n",
      "Epoch 197/500\n",
      "19/19 [==============================] - 0s 4ms/step - loss: 77.8841 - val_loss: 1.2671\n",
      "Epoch 198/500\n",
      "19/19 [==============================] - 0s 4ms/step - loss: 75.3304 - val_loss: 1.0004\n",
      "Epoch 199/500\n",
      "19/19 [==============================] - 0s 4ms/step - loss: 72.8598 - val_loss: 0.7879\n",
      "Epoch 200/500\n",
      "19/19 [==============================] - 0s 4ms/step - loss: 70.4705 - val_loss: 0.6279\n",
      "Epoch 201/500\n",
      "19/19 [==============================] - 0s 4ms/step - loss: 68.1606 - val_loss: 0.5184\n",
      "Epoch 202/500\n",
      "19/19 [==============================] - 0s 4ms/step - loss: 65.9282 - val_loss: 0.4576\n",
      "Epoch 203/500\n",
      "19/19 [==============================] - 0s 4ms/step - loss: 63.7717 - val_loss: 0.4435\n",
      "Epoch 204/500\n",
      "19/19 [==============================] - 0s 5ms/step - loss: 61.6885 - val_loss: 0.4744\n",
      "Epoch 205/500\n",
      "19/19 [==============================] - 0s 4ms/step - loss: 59.6776 - val_loss: 0.5485\n",
      "Epoch 206/500\n",
      "19/19 [==============================] - 0s 4ms/step - loss: 57.7368 - val_loss: 0.6640\n",
      "Epoch 207/500\n",
      "19/19 [==============================] - 0s 4ms/step - loss: 55.8644 - val_loss: 0.8191\n",
      "Epoch 208/500\n",
      "19/19 [==============================] - 0s 4ms/step - loss: 54.0586 - val_loss: 1.0122\n",
      "Epoch 209/500\n",
      "19/19 [==============================] - 0s 4ms/step - loss: 52.3179 - val_loss: 1.2416\n",
      "Epoch 210/500\n",
      "19/19 [==============================] - 0s 4ms/step - loss: 50.6404 - val_loss: 1.5056\n",
      "Epoch 211/500\n",
      "19/19 [==============================] - 0s 4ms/step - loss: 49.0244 - val_loss: 1.8025\n",
      "Epoch 212/500\n",
      "19/19 [==============================] - 0s 4ms/step - loss: 47.4681 - val_loss: 2.1308\n",
      "Epoch 213/500\n",
      "19/19 [==============================] - 0s 4ms/step - loss: 45.9702 - val_loss: 2.4889\n",
      "Epoch 214/500\n",
      "19/19 [==============================] - 0s 4ms/step - loss: 44.5287 - val_loss: 2.8752\n",
      "Epoch 215/500\n",
      "19/19 [==============================] - 0s 4ms/step - loss: 43.1423 - val_loss: 3.2883\n",
      "Epoch 216/500\n",
      "19/19 [==============================] - 0s 7ms/step - loss: 41.8093 - val_loss: 3.7266\n",
      "Epoch 217/500\n",
      "19/19 [==============================] - 0s 4ms/step - loss: 40.5281 - val_loss: 4.1887\n",
      "Epoch 218/500\n",
      "19/19 [==============================] - 0s 4ms/step - loss: 39.2973 - val_loss: 4.6732\n",
      "Epoch 219/500\n",
      "19/19 [==============================] - 0s 4ms/step - loss: 38.1153 - val_loss: 5.1786\n",
      "Epoch 220/500\n",
      "19/19 [==============================] - 0s 4ms/step - loss: 36.9808 - val_loss: 5.7035\n",
      "Epoch 221/500\n",
      "19/19 [==============================] - 0s 4ms/step - loss: 35.8922 - val_loss: 6.2468\n",
      "Epoch 222/500\n",
      "19/19 [==============================] - 0s 4ms/step - loss: 34.8480 - val_loss: 6.8069\n",
      "Epoch 223/500\n",
      "19/19 [==============================] - 0s 4ms/step - loss: 33.8471 - val_loss: 7.3829\n",
      "Epoch 224/500\n",
      "19/19 [==============================] - 0s 4ms/step - loss: 32.8879 - val_loss: 7.9732\n",
      "Epoch 225/500\n",
      "19/19 [==============================] - 0s 4ms/step - loss: 31.9690 - val_loss: 8.5767\n",
      "Epoch 226/500\n",
      "19/19 [==============================] - 0s 4ms/step - loss: 31.0892 - val_loss: 9.1922\n",
      "Epoch 227/500\n",
      "19/19 [==============================] - 0s 4ms/step - loss: 30.2473 - val_loss: 9.8186\n",
      "Epoch 228/500\n",
      "19/19 [==============================] - 0s 4ms/step - loss: 29.4419 - val_loss: 10.4549\n",
      "Epoch 229/500\n",
      "19/19 [==============================] - 0s 5ms/step - loss: 28.6717 - val_loss: 11.0998\n",
      "Epoch 230/500\n",
      "19/19 [==============================] - 0s 4ms/step - loss: 27.9357 - val_loss: 11.7524\n",
      "Epoch 231/500\n",
      "19/19 [==============================] - 0s 3ms/step - loss: 27.2325 - val_loss: 12.4114\n",
      "Epoch 232/500\n",
      "19/19 [==============================] - 0s 4ms/step - loss: 26.5612 - val_loss: 13.0764\n",
      "Epoch 233/500\n",
      "19/19 [==============================] - 0s 4ms/step - loss: 25.9203 - val_loss: 13.7458\n",
      "Epoch 234/500\n",
      "19/19 [==============================] - 0s 4ms/step - loss: 25.3090 - val_loss: 14.4192\n",
      "Epoch 235/500\n",
      "19/19 [==============================] - 0s 4ms/step - loss: 24.7260 - val_loss: 15.0951\n",
      "Epoch 236/500\n",
      "19/19 [==============================] - 0s 6ms/step - loss: 24.1705 - val_loss: 15.7733\n",
      "Epoch 237/500\n",
      "19/19 [==============================] - 0s 4ms/step - loss: 23.6412 - val_loss: 16.4526\n",
      "Epoch 238/500\n",
      "19/19 [==============================] - 0s 4ms/step - loss: 23.1373 - val_loss: 17.1320\n",
      "Epoch 239/500\n",
      "19/19 [==============================] - 0s 4ms/step - loss: 22.6578 - val_loss: 17.8114\n",
      "Epoch 240/500\n",
      "19/19 [==============================] - 0s 5ms/step - loss: 22.2016 - val_loss: 18.4893\n",
      "Epoch 241/500\n",
      "19/19 [==============================] - 0s 4ms/step - loss: 21.7679 - val_loss: 19.1654\n",
      "Epoch 242/500\n",
      "19/19 [==============================] - 0s 4ms/step - loss: 21.3558 - val_loss: 19.8393\n",
      "Epoch 243/500\n",
      "19/19 [==============================] - 0s 4ms/step - loss: 20.9643 - val_loss: 20.5098\n",
      "Epoch 244/500\n",
      "19/19 [==============================] - 0s 4ms/step - loss: 20.5927 - val_loss: 21.1765\n",
      "Epoch 245/500\n",
      "19/19 [==============================] - 0s 3ms/step - loss: 20.2401 - val_loss: 21.8388\n",
      "Epoch 246/500\n",
      "19/19 [==============================] - 0s 4ms/step - loss: 19.9058 - val_loss: 22.4963\n",
      "Epoch 247/500\n",
      "19/19 [==============================] - 0s 4ms/step - loss: 19.5888 - val_loss: 23.1483\n",
      "Epoch 248/500\n",
      "19/19 [==============================] - 0s 3ms/step - loss: 19.2885 - val_loss: 23.7944\n",
      "Epoch 249/500\n",
      "19/19 [==============================] - 0s 4ms/step - loss: 19.0042 - val_loss: 24.4338\n",
      "Epoch 250/500\n",
      "19/19 [==============================] - 0s 3ms/step - loss: 18.7351 - val_loss: 25.0667\n",
      "Epoch 251/500\n",
      "19/19 [==============================] - 0s 5ms/step - loss: 18.4806 - val_loss: 25.6923\n",
      "Epoch 252/500\n",
      "19/19 [==============================] - 0s 4ms/step - loss: 18.2399 - val_loss: 26.3103\n",
      "Epoch 253/500\n",
      "19/19 [==============================] - 0s 4ms/step - loss: 18.0125 - val_loss: 26.9201\n",
      "Epoch 254/500\n",
      "19/19 [==============================] - 0s 5ms/step - loss: 17.7977 - val_loss: 27.5216\n",
      "Epoch 255/500\n",
      "19/19 [==============================] - 0s 4ms/step - loss: 17.5950 - val_loss: 28.1143\n",
      "Epoch 256/500\n",
      "19/19 [==============================] - 0s 3ms/step - loss: 17.4038 - val_loss: 28.6980\n",
      "Epoch 257/500\n",
      "19/19 [==============================] - 0s 4ms/step - loss: 17.2234 - val_loss: 29.2726\n",
      "Epoch 258/500\n",
      "19/19 [==============================] - 0s 4ms/step - loss: 17.0535 - val_loss: 29.8377\n",
      "Epoch 259/500\n",
      "19/19 [==============================] - 0s 5ms/step - loss: 16.8934 - val_loss: 30.3930\n",
      "Epoch 260/500\n",
      "19/19 [==============================] - 0s 3ms/step - loss: 16.7428 - val_loss: 30.9385\n",
      "Epoch 261/500\n",
      "19/19 [==============================] - 0s 8ms/step - loss: 16.6010 - val_loss: 31.4740\n",
      "Epoch 262/500\n",
      "19/19 [==============================] - 0s 4ms/step - loss: 16.4676 - val_loss: 31.9992\n",
      "Epoch 263/500\n",
      "19/19 [==============================] - 0s 5ms/step - loss: 16.3423 - val_loss: 32.5140\n",
      "Epoch 264/500\n",
      "19/19 [==============================] - 0s 4ms/step - loss: 16.2246 - val_loss: 33.0181\n",
      "Epoch 265/500\n",
      "19/19 [==============================] - 0s 4ms/step - loss: 16.1141 - val_loss: 33.5118\n",
      "Epoch 266/500\n",
      "19/19 [==============================] - 0s 4ms/step - loss: 16.0104 - val_loss: 33.9948\n",
      "Epoch 267/500\n",
      "19/19 [==============================] - 0s 4ms/step - loss: 15.9132 - val_loss: 34.4670\n",
      "Epoch 268/500\n",
      "19/19 [==============================] - 0s 5ms/step - loss: 15.8220 - val_loss: 34.9284\n",
      "Epoch 269/500\n",
      "19/19 [==============================] - 0s 4ms/step - loss: 15.7367 - val_loss: 35.3790\n",
      "Epoch 270/500\n",
      "19/19 [==============================] - 0s 3ms/step - loss: 15.6567 - val_loss: 35.8190\n",
      "Epoch 271/500\n",
      "19/19 [==============================] - 0s 4ms/step - loss: 15.5819 - val_loss: 36.2483\n",
      "Epoch 272/500\n",
      "19/19 [==============================] - 0s 4ms/step - loss: 15.5119 - val_loss: 36.6668\n",
      "Epoch 273/500\n",
      "19/19 [==============================] - 0s 4ms/step - loss: 15.4464 - val_loss: 37.0744\n",
      "Epoch 274/500\n",
      "19/19 [==============================] - 0s 4ms/step - loss: 15.3853 - val_loss: 37.4712\n",
      "Epoch 275/500\n",
      "19/19 [==============================] - 0s 4ms/step - loss: 15.3282 - val_loss: 37.8576\n",
      "Epoch 276/500\n",
      "19/19 [==============================] - 0s 5ms/step - loss: 15.2749 - val_loss: 38.2333\n",
      "Epoch 277/500\n",
      "19/19 [==============================] - 0s 4ms/step - loss: 15.2251 - val_loss: 38.5984\n",
      "Epoch 278/500\n",
      "19/19 [==============================] - 0s 4ms/step - loss: 15.1788 - val_loss: 38.9531\n",
      "Epoch 279/500\n",
      "19/19 [==============================] - 0s 4ms/step - loss: 15.1356 - val_loss: 39.2978\n",
      "Epoch 280/500\n",
      "19/19 [==============================] - 0s 4ms/step - loss: 15.0953 - val_loss: 39.6320\n",
      "Epoch 281/500\n",
      "19/19 [==============================] - 0s 4ms/step - loss: 15.0579 - val_loss: 39.9562\n",
      "Epoch 282/500\n",
      "19/19 [==============================] - 0s 4ms/step - loss: 15.0230 - val_loss: 40.2706\n",
      "Epoch 283/500\n",
      "19/19 [==============================] - 0s 9ms/step - loss: 14.9905 - val_loss: 40.5752\n",
      "Epoch 284/500\n",
      "19/19 [==============================] - 0s 4ms/step - loss: 14.9603 - val_loss: 40.8702\n",
      "Epoch 285/500\n",
      "19/19 [==============================] - 0s 4ms/step - loss: 14.9322 - val_loss: 41.1556\n",
      "Epoch 286/500\n",
      "19/19 [==============================] - 0s 4ms/step - loss: 14.9062 - val_loss: 41.4314\n",
      "Epoch 287/500\n",
      "19/19 [==============================] - 0s 4ms/step - loss: 14.8820 - val_loss: 41.6981\n",
      "Epoch 288/500\n",
      "19/19 [==============================] - 0s 3ms/step - loss: 14.8596 - val_loss: 41.9558\n",
      "Epoch 289/500\n",
      "19/19 [==============================] - 0s 4ms/step - loss: 14.8387 - val_loss: 42.2048\n",
      "Epoch 290/500\n",
      "19/19 [==============================] - 0s 4ms/step - loss: 14.8194 - val_loss: 42.4447\n",
      "Epoch 291/500\n",
      "19/19 [==============================] - 0s 4ms/step - loss: 14.8015 - val_loss: 42.6765\n",
      "Epoch 292/500\n",
      "19/19 [==============================] - 0s 3ms/step - loss: 14.7850 - val_loss: 42.8999\n",
      "Epoch 293/500\n",
      "19/19 [==============================] - 0s 4ms/step - loss: 14.7696 - val_loss: 43.1149\n",
      "Epoch 294/500\n",
      "19/19 [==============================] - 0s 4ms/step - loss: 14.7554 - val_loss: 43.3222\n",
      "Epoch 295/500\n",
      "19/19 [==============================] - 0s 4ms/step - loss: 14.7422 - val_loss: 43.5216\n",
      "Epoch 296/500\n",
      "19/19 [==============================] - 0s 4ms/step - loss: 14.7301 - val_loss: 43.7137\n",
      "Epoch 297/500\n",
      "19/19 [==============================] - 0s 4ms/step - loss: 14.7187 - val_loss: 43.8980\n",
      "Epoch 298/500\n",
      "19/19 [==============================] - 0s 4ms/step - loss: 14.7084 - val_loss: 44.0752\n",
      "Epoch 299/500\n",
      "19/19 [==============================] - 0s 4ms/step - loss: 14.6988 - val_loss: 44.2456\n",
      "Epoch 300/500\n",
      "19/19 [==============================] - 0s 4ms/step - loss: 14.6899 - val_loss: 44.4091\n",
      "Epoch 301/500\n",
      "19/19 [==============================] - 0s 4ms/step - loss: 14.6816 - val_loss: 44.5657\n",
      "Epoch 302/500\n",
      "19/19 [==============================] - 0s 4ms/step - loss: 14.6741 - val_loss: 44.7161\n",
      "Epoch 303/500\n",
      "19/19 [==============================] - 0s 3ms/step - loss: 14.6671 - val_loss: 44.8602\n",
      "Epoch 304/500\n",
      "19/19 [==============================] - 0s 4ms/step - loss: 14.6607 - val_loss: 44.9985\n",
      "Epoch 305/500\n",
      "19/19 [==============================] - 0s 4ms/step - loss: 14.6547 - val_loss: 45.1305\n",
      "Epoch 306/500\n",
      "19/19 [==============================] - 0s 5ms/step - loss: 14.6492 - val_loss: 45.2571\n",
      "Epoch 307/500\n",
      "19/19 [==============================] - 0s 7ms/step - loss: 14.6442 - val_loss: 45.3778\n",
      "Epoch 308/500\n",
      "19/19 [==============================] - 0s 4ms/step - loss: 14.6396 - val_loss: 45.4930\n",
      "Epoch 309/500\n",
      "19/19 [==============================] - 0s 4ms/step - loss: 14.6353 - val_loss: 45.6034\n",
      "Epoch 310/500\n",
      "19/19 [==============================] - 0s 4ms/step - loss: 14.6313 - val_loss: 45.7085\n",
      "Epoch 311/500\n",
      "19/19 [==============================] - 0s 4ms/step - loss: 14.6277 - val_loss: 45.8090\n",
      "Epoch 312/500\n",
      "19/19 [==============================] - 0s 4ms/step - loss: 14.6244 - val_loss: 45.9050\n",
      "Epoch 313/500\n",
      "19/19 [==============================] - 0s 4ms/step - loss: 14.6214 - val_loss: 45.9963\n",
      "Epoch 314/500\n",
      "19/19 [==============================] - 0s 4ms/step - loss: 14.6186 - val_loss: 46.0834\n",
      "Epoch 315/500\n",
      "19/19 [==============================] - 0s 4ms/step - loss: 14.6160 - val_loss: 46.1664\n",
      "Epoch 316/500\n",
      "19/19 [==============================] - 0s 4ms/step - loss: 14.6136 - val_loss: 46.2450\n",
      "Epoch 317/500\n",
      "19/19 [==============================] - 0s 4ms/step - loss: 14.6115 - val_loss: 46.3197\n",
      "Epoch 318/500\n",
      "19/19 [==============================] - 0s 4ms/step - loss: 14.6096 - val_loss: 46.3913\n",
      "Epoch 319/500\n",
      "19/19 [==============================] - 0s 4ms/step - loss: 14.6077 - val_loss: 46.4588\n",
      "Epoch 320/500\n",
      "19/19 [==============================] - 0s 5ms/step - loss: 14.6061 - val_loss: 46.5230\n",
      "Epoch 321/500\n",
      "19/19 [==============================] - 0s 6ms/step - loss: 14.6046 - val_loss: 46.5837\n",
      "Epoch 322/500\n",
      "19/19 [==============================] - 0s 4ms/step - loss: 14.6032 - val_loss: 46.6416\n",
      "Epoch 323/500\n",
      "19/19 [==============================] - 0s 4ms/step - loss: 14.6020 - val_loss: 46.6961\n",
      "Epoch 324/500\n",
      "19/19 [==============================] - 0s 4ms/step - loss: 14.6009 - val_loss: 46.7479\n",
      "Epoch 325/500\n",
      "19/19 [==============================] - 0s 4ms/step - loss: 14.5999 - val_loss: 46.7971\n",
      "Epoch 326/500\n",
      "19/19 [==============================] - 0s 4ms/step - loss: 14.5990 - val_loss: 46.8432\n",
      "Epoch 327/500\n",
      "19/19 [==============================] - 0s 4ms/step - loss: 14.5982 - val_loss: 46.8873\n",
      "Epoch 328/500\n",
      "19/19 [==============================] - 0s 4ms/step - loss: 14.5975 - val_loss: 46.9288\n",
      "Epoch 329/500\n",
      "19/19 [==============================] - 0s 5ms/step - loss: 14.5968 - val_loss: 46.9680\n",
      "Epoch 330/500\n",
      "19/19 [==============================] - 0s 4ms/step - loss: 14.5962 - val_loss: 47.0050\n",
      "Epoch 331/500\n",
      "19/19 [==============================] - 0s 4ms/step - loss: 14.5957 - val_loss: 47.0397\n",
      "Epoch 332/500\n",
      "19/19 [==============================] - 0s 8ms/step - loss: 14.5953 - val_loss: 47.0725\n",
      "Epoch 333/500\n",
      "19/19 [==============================] - 0s 4ms/step - loss: 14.5949 - val_loss: 47.1034\n",
      "Epoch 334/500\n",
      "19/19 [==============================] - 0s 5ms/step - loss: 14.5946 - val_loss: 47.1325\n",
      "Epoch 335/500\n",
      "19/19 [==============================] - 0s 4ms/step - loss: 14.5943 - val_loss: 47.1598\n",
      "Epoch 336/500\n",
      "19/19 [==============================] - 0s 4ms/step - loss: 14.5941 - val_loss: 47.1854\n",
      "Epoch 337/500\n",
      "19/19 [==============================] - 0s 4ms/step - loss: 14.5939 - val_loss: 47.2095\n",
      "Epoch 338/500\n",
      "19/19 [==============================] - 0s 5ms/step - loss: 14.5938 - val_loss: 47.2322\n",
      "Epoch 339/500\n",
      "19/19 [==============================] - 0s 4ms/step - loss: 14.5937 - val_loss: 47.2532\n",
      "Epoch 340/500\n",
      "19/19 [==============================] - 0s 5ms/step - loss: 14.5937 - val_loss: 47.2733\n",
      "Epoch 341/500\n",
      "19/19 [==============================] - 0s 4ms/step - loss: 14.5936 - val_loss: 47.2919\n",
      "Epoch 342/500\n",
      "19/19 [==============================] - 0s 5ms/step - loss: 14.5936 - val_loss: 47.3093\n",
      "Epoch 343/500\n",
      "19/19 [==============================] - 0s 4ms/step - loss: 14.5937 - val_loss: 47.3256\n",
      "Epoch 344/500\n",
      "19/19 [==============================] - 0s 4ms/step - loss: 14.5937 - val_loss: 47.3408\n",
      "Epoch 345/500\n",
      "19/19 [==============================] - 0s 4ms/step - loss: 14.5938 - val_loss: 47.3550\n",
      "Epoch 346/500\n",
      "19/19 [==============================] - 0s 4ms/step - loss: 14.5939 - val_loss: 47.3681\n",
      "Epoch 347/500\n",
      "19/19 [==============================] - 0s 4ms/step - loss: 14.5940 - val_loss: 47.3802\n",
      "Epoch 348/500\n",
      "19/19 [==============================] - 0s 4ms/step - loss: 14.5942 - val_loss: 47.3918\n",
      "Epoch 349/500\n",
      "19/19 [==============================] - 0s 4ms/step - loss: 14.5944 - val_loss: 47.4025\n",
      "Epoch 350/500\n",
      "19/19 [==============================] - 0s 5ms/step - loss: 14.5946 - val_loss: 47.4124\n",
      "Epoch 351/500\n",
      "19/19 [==============================] - 0s 4ms/step - loss: 14.5948 - val_loss: 47.4216\n",
      "Epoch 352/500\n",
      "19/19 [==============================] - 0s 4ms/step - loss: 14.5950 - val_loss: 47.4303\n",
      "Epoch 353/500\n",
      "19/19 [==============================] - 0s 4ms/step - loss: 14.5953 - val_loss: 47.4380\n",
      "Epoch 354/500\n",
      "19/19 [==============================] - 0s 9ms/step - loss: 14.5955 - val_loss: 47.4452\n",
      "Epoch 355/500\n",
      "19/19 [==============================] - 0s 4ms/step - loss: 14.5958 - val_loss: 47.4517\n",
      "Epoch 356/500\n",
      "19/19 [==============================] - 0s 4ms/step - loss: 14.5961 - val_loss: 47.4581\n",
      "Epoch 357/500\n",
      "19/19 [==============================] - 0s 4ms/step - loss: 14.5964 - val_loss: 47.4637\n",
      "Epoch 358/500\n",
      "19/19 [==============================] - 0s 4ms/step - loss: 14.5967 - val_loss: 47.4691\n",
      "Epoch 359/500\n",
      "19/19 [==============================] - 0s 4ms/step - loss: 14.5970 - val_loss: 47.4738\n",
      "Epoch 360/500\n",
      "19/19 [==============================] - 0s 4ms/step - loss: 14.5973 - val_loss: 47.4780\n",
      "Epoch 361/500\n",
      "19/19 [==============================] - 0s 4ms/step - loss: 14.5976 - val_loss: 47.4821\n",
      "Epoch 362/500\n",
      "19/19 [==============================] - 0s 3ms/step - loss: 14.5980 - val_loss: 47.4858\n",
      "Epoch 363/500\n",
      "19/19 [==============================] - 0s 4ms/step - loss: 14.5983 - val_loss: 47.4888\n",
      "Epoch 364/500\n",
      "19/19 [==============================] - 0s 4ms/step - loss: 14.5987 - val_loss: 47.4918\n",
      "Epoch 365/500\n",
      "19/19 [==============================] - 0s 4ms/step - loss: 14.5990 - val_loss: 47.4946\n",
      "Epoch 366/500\n",
      "19/19 [==============================] - 0s 4ms/step - loss: 14.5994 - val_loss: 47.4970\n",
      "Epoch 367/500\n",
      "19/19 [==============================] - 0s 5ms/step - loss: 14.5997 - val_loss: 47.4990\n",
      "Epoch 368/500\n",
      "19/19 [==============================] - 0s 4ms/step - loss: 14.6001 - val_loss: 47.5010\n",
      "Epoch 369/500\n",
      "19/19 [==============================] - 0s 4ms/step - loss: 14.6005 - val_loss: 47.5026\n",
      "Epoch 370/500\n",
      "19/19 [==============================] - 0s 4ms/step - loss: 14.6009 - val_loss: 47.5041\n",
      "Epoch 371/500\n",
      "19/19 [==============================] - 0s 5ms/step - loss: 14.6013 - val_loss: 47.5054\n",
      "Epoch 372/500\n",
      "19/19 [==============================] - 0s 4ms/step - loss: 14.6017 - val_loss: 47.5063\n",
      "Epoch 373/500\n",
      "19/19 [==============================] - 0s 4ms/step - loss: 14.6021 - val_loss: 47.5076\n",
      "Epoch 374/500\n",
      "19/19 [==============================] - 0s 4ms/step - loss: 14.6024 - val_loss: 47.5083\n",
      "Epoch 375/500\n",
      "19/19 [==============================] - 0s 4ms/step - loss: 14.6028 - val_loss: 47.5090\n",
      "Epoch 376/500\n",
      "19/19 [==============================] - 0s 4ms/step - loss: 14.6033 - val_loss: 47.5096\n",
      "Epoch 377/500\n",
      "19/19 [==============================] - 0s 4ms/step - loss: 14.6036 - val_loss: 47.5099\n",
      "Epoch 378/500\n",
      "19/19 [==============================] - 0s 8ms/step - loss: 14.6041 - val_loss: 47.5104\n",
      "Epoch 379/500\n",
      "19/19 [==============================] - 0s 4ms/step - loss: 14.6045 - val_loss: 47.5106\n",
      "Epoch 380/500\n",
      "19/19 [==============================] - 0s 4ms/step - loss: 14.6049 - val_loss: 47.5107\n",
      "Epoch 381/500\n",
      "19/19 [==============================] - 0s 4ms/step - loss: 14.6052 - val_loss: 47.5107\n",
      "Epoch 382/500\n",
      "19/19 [==============================] - 0s 4ms/step - loss: 14.6056 - val_loss: 47.5107\n",
      "Epoch 383/500\n",
      "19/19 [==============================] - 0s 4ms/step - loss: 14.6060 - val_loss: 47.5105\n",
      "Epoch 384/500\n",
      "19/19 [==============================] - 0s 4ms/step - loss: 14.6065 - val_loss: 47.5105\n",
      "Epoch 385/500\n",
      "19/19 [==============================] - 0s 4ms/step - loss: 14.6069 - val_loss: 47.5103\n",
      "Epoch 386/500\n",
      "19/19 [==============================] - 0s 4ms/step - loss: 14.6073 - val_loss: 47.5101\n",
      "Epoch 387/500\n",
      "19/19 [==============================] - 0s 4ms/step - loss: 14.6077 - val_loss: 47.5098\n",
      "Epoch 388/500\n",
      "19/19 [==============================] - 0s 4ms/step - loss: 14.6081 - val_loss: 47.5096\n",
      "Epoch 389/500\n",
      "19/19 [==============================] - 0s 4ms/step - loss: 14.6084 - val_loss: 47.5090\n",
      "Epoch 390/500\n",
      "19/19 [==============================] - 0s 4ms/step - loss: 14.6088 - val_loss: 47.5085\n",
      "Epoch 391/500\n",
      "19/19 [==============================] - 0s 4ms/step - loss: 14.6093 - val_loss: 47.5081\n",
      "Epoch 392/500\n",
      "19/19 [==============================] - 0s 5ms/step - loss: 14.6097 - val_loss: 47.5078\n",
      "Epoch 393/500\n",
      "19/19 [==============================] - 0s 4ms/step - loss: 14.6100 - val_loss: 47.5071\n",
      "Epoch 394/500\n",
      "19/19 [==============================] - 0s 4ms/step - loss: 14.6104 - val_loss: 47.5062\n",
      "Epoch 395/500\n",
      "19/19 [==============================] - 0s 4ms/step - loss: 14.6108 - val_loss: 47.5055\n",
      "Epoch 396/500\n",
      "19/19 [==============================] - 0s 5ms/step - loss: 14.6112 - val_loss: 47.5050\n",
      "Epoch 397/500\n",
      "19/19 [==============================] - 0s 4ms/step - loss: 14.6116 - val_loss: 47.5043\n",
      "Epoch 398/500\n",
      "19/19 [==============================] - 0s 5ms/step - loss: 14.6120 - val_loss: 47.5038\n",
      "Epoch 399/500\n",
      "19/19 [==============================] - 0s 4ms/step - loss: 14.6124 - val_loss: 47.5032\n",
      "Epoch 400/500\n",
      "19/19 [==============================] - 0s 9ms/step - loss: 14.6127 - val_loss: 47.5023\n",
      "Epoch 401/500\n",
      "19/19 [==============================] - 0s 4ms/step - loss: 14.6132 - val_loss: 47.5016\n",
      "Epoch 402/500\n",
      "19/19 [==============================] - 0s 4ms/step - loss: 14.6135 - val_loss: 47.5008\n",
      "Epoch 403/500\n",
      "19/19 [==============================] - 0s 4ms/step - loss: 14.6139 - val_loss: 47.5001\n",
      "Epoch 404/500\n",
      "19/19 [==============================] - 0s 4ms/step - loss: 14.6143 - val_loss: 47.4992\n",
      "Epoch 405/500\n",
      "19/19 [==============================] - 0s 4ms/step - loss: 14.6147 - val_loss: 47.4986\n",
      "Epoch 406/500\n",
      "19/19 [==============================] - 0s 4ms/step - loss: 14.6150 - val_loss: 47.4977\n",
      "Epoch 407/500\n",
      "19/19 [==============================] - 0s 5ms/step - loss: 14.6154 - val_loss: 47.4972\n",
      "Epoch 408/500\n",
      "19/19 [==============================] - 0s 4ms/step - loss: 14.6157 - val_loss: 47.4964\n",
      "Epoch 409/500\n",
      "19/19 [==============================] - 0s 4ms/step - loss: 14.6161 - val_loss: 47.4955\n",
      "Epoch 410/500\n",
      "19/19 [==============================] - 0s 4ms/step - loss: 14.6165 - val_loss: 47.4949\n",
      "Epoch 411/500\n",
      "19/19 [==============================] - 0s 4ms/step - loss: 14.6169 - val_loss: 47.4944\n",
      "Epoch 412/500\n",
      "19/19 [==============================] - 0s 4ms/step - loss: 14.6172 - val_loss: 47.4937\n",
      "Epoch 413/500\n",
      "19/19 [==============================] - 0s 4ms/step - loss: 14.6175 - val_loss: 47.4926\n",
      "Epoch 414/500\n",
      "19/19 [==============================] - 0s 5ms/step - loss: 14.6179 - val_loss: 47.4920\n",
      "Epoch 415/500\n",
      "19/19 [==============================] - 0s 4ms/step - loss: 14.6183 - val_loss: 47.4911\n",
      "Epoch 416/500\n",
      "19/19 [==============================] - 0s 4ms/step - loss: 14.6186 - val_loss: 47.4903\n",
      "Epoch 417/500\n",
      "19/19 [==============================] - 0s 4ms/step - loss: 14.6189 - val_loss: 47.4896\n",
      "Epoch 418/500\n",
      "19/19 [==============================] - 0s 4ms/step - loss: 14.6193 - val_loss: 47.4887\n",
      "Epoch 419/500\n",
      "19/19 [==============================] - 0s 4ms/step - loss: 14.6196 - val_loss: 47.4882\n",
      "Epoch 420/500\n",
      "19/19 [==============================] - 0s 4ms/step - loss: 14.6200 - val_loss: 47.4875\n",
      "Epoch 421/500\n",
      "19/19 [==============================] - 0s 9ms/step - loss: 14.6203 - val_loss: 47.4868\n",
      "Epoch 422/500\n",
      "19/19 [==============================] - 0s 4ms/step - loss: 14.6206 - val_loss: 47.4858\n",
      "Epoch 423/500\n",
      "19/19 [==============================] - 0s 4ms/step - loss: 14.6209 - val_loss: 47.4851\n",
      "Epoch 424/500\n",
      "19/19 [==============================] - 0s 4ms/step - loss: 14.6213 - val_loss: 47.4843\n",
      "Epoch 425/500\n",
      "19/19 [==============================] - 0s 4ms/step - loss: 14.6216 - val_loss: 47.4836\n",
      "Epoch 426/500\n",
      "19/19 [==============================] - 0s 4ms/step - loss: 14.6219 - val_loss: 47.4830\n",
      "Epoch 427/500\n",
      "19/19 [==============================] - 0s 4ms/step - loss: 14.6222 - val_loss: 47.4824\n",
      "Epoch 428/500\n",
      "19/19 [==============================] - 0s 4ms/step - loss: 14.6225 - val_loss: 47.4815\n",
      "Epoch 429/500\n",
      "19/19 [==============================] - 0s 5ms/step - loss: 14.6228 - val_loss: 47.4807\n",
      "Epoch 430/500\n",
      "19/19 [==============================] - 0s 4ms/step - loss: 14.6231 - val_loss: 47.4799\n",
      "Epoch 431/500\n",
      "19/19 [==============================] - 0s 4ms/step - loss: 14.6234 - val_loss: 47.4792\n",
      "Epoch 432/500\n",
      "19/19 [==============================] - 0s 4ms/step - loss: 14.6237 - val_loss: 47.4783\n",
      "Epoch 433/500\n",
      "19/19 [==============================] - 0s 4ms/step - loss: 14.6240 - val_loss: 47.4780\n",
      "Epoch 434/500\n",
      "19/19 [==============================] - 0s 4ms/step - loss: 14.6243 - val_loss: 47.4772\n",
      "Epoch 435/500\n",
      "19/19 [==============================] - 0s 4ms/step - loss: 14.6246 - val_loss: 47.4764\n",
      "Epoch 436/500\n",
      "19/19 [==============================] - 0s 4ms/step - loss: 14.6249 - val_loss: 47.4760\n",
      "Epoch 437/500\n",
      "19/19 [==============================] - 0s 5ms/step - loss: 14.6252 - val_loss: 47.4754\n",
      "Epoch 438/500\n",
      "19/19 [==============================] - 0s 4ms/step - loss: 14.6254 - val_loss: 47.4746\n",
      "Epoch 439/500\n",
      "19/19 [==============================] - 0s 4ms/step - loss: 14.6257 - val_loss: 47.4740\n",
      "Epoch 440/500\n",
      "19/19 [==============================] - 0s 4ms/step - loss: 14.6260 - val_loss: 47.4734\n",
      "Epoch 441/500\n",
      "19/19 [==============================] - 0s 5ms/step - loss: 14.6263 - val_loss: 47.4728\n",
      "Epoch 442/500\n",
      "19/19 [==============================] - 0s 8ms/step - loss: 14.6265 - val_loss: 47.4723\n",
      "Epoch 443/500\n",
      "19/19 [==============================] - 0s 4ms/step - loss: 14.6268 - val_loss: 47.4715\n",
      "Epoch 444/500\n",
      "19/19 [==============================] - 0s 4ms/step - loss: 14.6271 - val_loss: 47.4711\n",
      "Epoch 445/500\n",
      "19/19 [==============================] - 0s 5ms/step - loss: 14.6273 - val_loss: 47.4705\n",
      "Epoch 446/500\n",
      "19/19 [==============================] - 0s 4ms/step - loss: 14.6275 - val_loss: 47.4697\n",
      "Epoch 447/500\n",
      "19/19 [==============================] - 0s 4ms/step - loss: 14.6279 - val_loss: 47.4692\n",
      "Epoch 448/500\n",
      "19/19 [==============================] - 0s 3ms/step - loss: 14.6281 - val_loss: 47.4685\n",
      "Epoch 449/500\n",
      "19/19 [==============================] - 0s 4ms/step - loss: 14.6283 - val_loss: 47.4679\n",
      "Epoch 450/500\n",
      "19/19 [==============================] - 0s 4ms/step - loss: 14.6286 - val_loss: 47.4676\n",
      "Epoch 451/500\n",
      "19/19 [==============================] - 0s 5ms/step - loss: 14.6288 - val_loss: 47.4672\n",
      "Epoch 452/500\n",
      "19/19 [==============================] - 0s 3ms/step - loss: 14.6290 - val_loss: 47.4669\n",
      "Epoch 453/500\n",
      "19/19 [==============================] - 0s 5ms/step - loss: 14.6293 - val_loss: 47.4660\n",
      "Epoch 454/500\n",
      "19/19 [==============================] - 0s 4ms/step - loss: 14.6295 - val_loss: 47.4656\n",
      "Epoch 455/500\n",
      "19/19 [==============================] - 0s 4ms/step - loss: 14.6297 - val_loss: 47.4650\n",
      "Epoch 456/500\n",
      "19/19 [==============================] - 0s 4ms/step - loss: 14.6300 - val_loss: 47.4645\n",
      "Epoch 457/500\n",
      "19/19 [==============================] - 0s 4ms/step - loss: 14.6302 - val_loss: 47.4641\n",
      "Epoch 458/500\n",
      "19/19 [==============================] - 0s 5ms/step - loss: 14.6304 - val_loss: 47.4635\n",
      "Epoch 459/500\n",
      "19/19 [==============================] - 0s 4ms/step - loss: 14.6306 - val_loss: 47.4631\n",
      "Epoch 460/500\n",
      "19/19 [==============================] - 0s 3ms/step - loss: 14.6308 - val_loss: 47.4625\n",
      "Epoch 461/500\n",
      "19/19 [==============================] - 0s 4ms/step - loss: 14.6310 - val_loss: 47.4622\n",
      "Epoch 462/500\n",
      "19/19 [==============================] - 0s 4ms/step - loss: 14.6312 - val_loss: 47.4616\n",
      "Epoch 463/500\n",
      "19/19 [==============================] - 0s 4ms/step - loss: 14.6315 - val_loss: 47.4612\n",
      "Epoch 464/500\n",
      "19/19 [==============================] - 0s 4ms/step - loss: 14.6316 - val_loss: 47.4606\n",
      "Epoch 465/500\n",
      "19/19 [==============================] - 0s 9ms/step - loss: 14.6318 - val_loss: 47.4601\n",
      "Epoch 466/500\n",
      "19/19 [==============================] - 0s 3ms/step - loss: 14.6320 - val_loss: 47.4596\n",
      "Epoch 467/500\n",
      "19/19 [==============================] - 0s 4ms/step - loss: 14.6323 - val_loss: 47.4591\n",
      "Epoch 468/500\n",
      "19/19 [==============================] - 0s 4ms/step - loss: 14.6324 - val_loss: 47.4586\n",
      "Epoch 469/500\n",
      "19/19 [==============================] - 0s 4ms/step - loss: 14.6326 - val_loss: 47.4580\n",
      "Epoch 470/500\n",
      "19/19 [==============================] - 0s 3ms/step - loss: 14.6328 - val_loss: 47.4574\n",
      "Epoch 471/500\n",
      "19/19 [==============================] - 0s 4ms/step - loss: 14.6330 - val_loss: 47.4571\n",
      "Epoch 472/500\n",
      "19/19 [==============================] - 0s 4ms/step - loss: 14.6332 - val_loss: 47.4567\n",
      "Epoch 473/500\n",
      "19/19 [==============================] - 0s 5ms/step - loss: 14.6334 - val_loss: 47.4564\n",
      "Epoch 474/500\n",
      "19/19 [==============================] - 0s 4ms/step - loss: 14.6335 - val_loss: 47.4556\n",
      "Epoch 475/500\n",
      "19/19 [==============================] - 0s 4ms/step - loss: 14.6337 - val_loss: 47.4554\n",
      "Epoch 476/500\n",
      "19/19 [==============================] - 0s 4ms/step - loss: 14.6339 - val_loss: 47.4550\n",
      "Epoch 477/500\n",
      "19/19 [==============================] - 0s 4ms/step - loss: 14.6341 - val_loss: 47.4547\n",
      "Epoch 478/500\n",
      "19/19 [==============================] - 0s 5ms/step - loss: 14.6342 - val_loss: 47.4543\n",
      "Epoch 479/500\n",
      "19/19 [==============================] - 0s 4ms/step - loss: 14.6344 - val_loss: 47.4538\n",
      "Epoch 480/500\n",
      "19/19 [==============================] - 0s 4ms/step - loss: 14.6346 - val_loss: 47.4536\n",
      "Epoch 481/500\n",
      "19/19 [==============================] - 0s 4ms/step - loss: 14.6347 - val_loss: 47.4534\n",
      "Epoch 482/500\n",
      "19/19 [==============================] - 0s 4ms/step - loss: 14.6349 - val_loss: 47.4531\n",
      "Epoch 483/500\n",
      "19/19 [==============================] - 0s 4ms/step - loss: 14.6350 - val_loss: 47.4524\n",
      "Epoch 484/500\n",
      "19/19 [==============================] - 0s 4ms/step - loss: 14.6352 - val_loss: 47.4520\n",
      "Epoch 485/500\n",
      "19/19 [==============================] - 0s 8ms/step - loss: 14.6353 - val_loss: 47.4518\n",
      "Epoch 486/500\n",
      "19/19 [==============================] - 0s 4ms/step - loss: 14.6354 - val_loss: 47.4516\n",
      "Epoch 487/500\n",
      "19/19 [==============================] - 0s 4ms/step - loss: 14.6357 - val_loss: 47.4515\n",
      "Epoch 488/500\n",
      "19/19 [==============================] - 0s 4ms/step - loss: 14.6357 - val_loss: 47.4509\n",
      "Epoch 489/500\n",
      "19/19 [==============================] - 0s 5ms/step - loss: 14.6359 - val_loss: 47.4504\n",
      "Epoch 490/500\n",
      "19/19 [==============================] - 0s 4ms/step - loss: 14.6360 - val_loss: 47.4501\n",
      "Epoch 491/500\n",
      "19/19 [==============================] - 0s 5ms/step - loss: 14.6362 - val_loss: 47.4498\n",
      "Epoch 492/500\n",
      "19/19 [==============================] - 0s 4ms/step - loss: 14.6363 - val_loss: 47.4495\n",
      "Epoch 493/500\n",
      "19/19 [==============================] - 0s 5ms/step - loss: 14.6364 - val_loss: 47.4492\n",
      "Epoch 494/500\n",
      "19/19 [==============================] - 0s 5ms/step - loss: 14.6365 - val_loss: 47.4487\n",
      "Epoch 495/500\n",
      "19/19 [==============================] - 0s 6ms/step - loss: 14.6367 - val_loss: 47.4486\n",
      "Epoch 496/500\n",
      "19/19 [==============================] - 0s 5ms/step - loss: 14.6368 - val_loss: 47.4481\n",
      "Epoch 497/500\n",
      "19/19 [==============================] - 0s 4ms/step - loss: 14.6370 - val_loss: 47.4478\n",
      "Epoch 498/500\n",
      "19/19 [==============================] - 0s 4ms/step - loss: 14.6371 - val_loss: 47.4476\n",
      "Epoch 499/500\n",
      "19/19 [==============================] - 0s 4ms/step - loss: 14.6372 - val_loss: 47.4472\n",
      "Epoch 500/500\n",
      "19/19 [==============================] - 0s 5ms/step - loss: 14.6373 - val_loss: 47.4469\n"
     ]
    }
   ],
   "source": [
    "C0 = tf.Variable(88.1552, name=\"C0\", trainable=True, dtype=tf.float32)\n",
    "K0 = tf.Variable(-0.0026, name=\"K0\", trainable=True, dtype=tf.float32)\n",
    "K1 = tf.Variable(-0.0004, name=\"K1\", trainable=True, dtype=tf.float32)\n",
    "a = tf.Variable(0.0000, name=\"a\", trainable=True, dtype=tf.float32)\n",
    "b = tf.Variable(0.0102, name=\"b\", trainable=True, dtype=tf.float32)\n",
    "c = tf.Variable(2.8734, name=\"c\", trainable=True, dtype=tf.float32)\n",
    "\n",
    "splitr = 0.8\n",
    "\n",
    "\n",
    "def loss_fn(y_true, y_pred):\n",
    "    squared_difference = tf.square(y_true[:, 0] - y_pred[:, 0])\n",
    "    #squared_difference2 = tf.square(y_true[:, 2]-y_pred[:, 2])\n",
    "    #squared_difference1 = tf.square(y_true[:, 1]-y_pred[:, 1])\n",
    "    epsilon = 1\n",
    "    squared_difference3 = tf.square(\n",
    "        y_pred[:, 1] - (\n",
    "            y_pred[:, 0] * (\n",
    "                K0 - K1 * (\n",
    "                    9 * a * tf.math.log((y_pred[:, 0] + epsilon) / C0) / (K0 - K1 * c)**2 +\n",
    "                    4 * b * tf.math.log((y_pred[:, 0] + epsilon) / C0) / (K0 - K1 * c) + c\n",
    "                )\n",
    "            )\n",
    "        )\n",
    "    )\n",
    "    return tf.reduce_mean(squared_difference, axis=-1) + 0.2*tf.reduce_mean(squared_difference3, axis=-1)\n",
    "model = Sequential()\n",
    "model.add(LSTM(100, input_shape=(trainX.shape[1], trainX.shape[2])))\n",
    "model.add(Dense(60))\n",
    "model.compile(loss=loss_fn, optimizer='adam')\n",
    "history = model.fit(trainX[:int(splitr*trainX.shape[0])], trainy[:int(splitr*trainX.shape[0])], epochs=500, batch_size=64, validation_data=(trainX[int(splitr*trainX.shape[0]):trainX.shape[0]], trainy[int(splitr*trainX.shape[0]):trainX.shape[0]]), shuffle=False)"
   ]
  },
  {
   "cell_type": "code",
   "execution_count": 19,
   "metadata": {
    "colab": {
     "base_uri": "https://localhost:8080/"
    },
    "id": "yJL101rPyuoT",
    "outputId": "239ff2b1-c186-423a-d316-939dfdd7c793"
   },
   "outputs": [
    {
     "name": "stdout",
     "output_type": "stream",
     "text": [
      "1/1 [==============================] - 0s 414ms/step\n"
     ]
    }
   ],
   "source": [
    "forecast_without_mc = forecastX\n",
    "yhat_without_mc = model.predict(forecast_without_mc) # Step Ahead Prediction\n",
    "forecast_without_mc = forecast_without_mc.reshape((forecast_without_mc.shape[0], forecast_without_mc.shape[2])) # Historical Input"
   ]
  },
  {
   "cell_type": "code",
   "execution_count": 20,
   "metadata": {
    "colab": {
     "base_uri": "https://localhost:8080/"
    },
    "id": "g9dQELcJ8wbp",
    "outputId": "4dc7671b-b1a8-48d5-8744-a86f98446109"
   },
   "outputs": [
    {
     "data": {
      "text/plain": [
       "(1, 1, 251)"
      ]
     },
     "execution_count": 20,
     "metadata": {},
     "output_type": "execute_result"
    }
   ],
   "source": [
    "forecastX.shape"
   ]
  },
  {
   "cell_type": "code",
   "execution_count": 21,
   "metadata": {
    "colab": {
     "base_uri": "https://localhost:8080/"
    },
    "id": "IS2kyIKG1Kbr",
    "outputId": "f31b3485-8e26-452f-9298-ea8bf7e80ad1"
   },
   "outputs": [
    {
     "data": {
      "text/plain": [
       "(1, 251)"
      ]
     },
     "execution_count": 21,
     "metadata": {},
     "output_type": "execute_result"
    }
   ],
   "source": [
    "forecast_without_mc.shape"
   ]
  },
  {
   "cell_type": "code",
   "execution_count": 22,
   "metadata": {
    "id": "0u6VIzaDyuoT"
   },
   "outputs": [],
   "source": [
    "inv_yhat_without_mc = np.concatenate((forecast_without_mc, yhat_without_mc), axis=1) # Concatenation of predicted values with Historical Data\n",
    "#inv_yhat_without_mc = scaler.inverse_transform(inv_yhat_without_mc) # Transform labels back to original encoding"
   ]
  },
  {
   "cell_type": "code",
   "execution_count": 23,
   "metadata": {
    "colab": {
     "base_uri": "https://localhost:8080/"
    },
    "id": "EUEcw0LX07oU",
    "outputId": "cfc32397-9c37-4b43-d087-584bb31c3dcc"
   },
   "outputs": [
    {
     "data": {
      "text/plain": [
       "(1, 311)"
      ]
     },
     "execution_count": 23,
     "metadata": {},
     "output_type": "execute_result"
    }
   ],
   "source": [
    "inv_yhat_without_mc.shape"
   ]
  },
  {
   "cell_type": "code",
   "execution_count": 24,
   "metadata": {
    "id": "31OWVbSh_305"
   },
   "outputs": [],
   "source": [
    "fforecast = inv_yhat_without_mc[:,-300:]"
   ]
  },
  {
   "cell_type": "code",
   "execution_count": 25,
   "metadata": {},
   "outputs": [
    {
     "data": {
      "text/plain": [
       "(1, 300)"
      ]
     },
     "execution_count": 25,
     "metadata": {},
     "output_type": "execute_result"
    }
   ],
   "source": [
    "fforecast.shape"
   ]
  },
  {
   "cell_type": "code",
   "execution_count": 26,
   "metadata": {
    "id": "BlpGH2FOAiRF"
   },
   "outputs": [],
   "source": [
    "final_forecast = fforecast[:,0:300:3]"
   ]
  },
  {
   "cell_type": "code",
   "execution_count": 27,
   "metadata": {},
   "outputs": [
    {
     "data": {
      "text/plain": [
       "(1, 300)"
      ]
     },
     "execution_count": 27,
     "metadata": {},
     "output_type": "execute_result"
    }
   ],
   "source": [
    "fforecast.shape"
   ]
  },
  {
   "cell_type": "code",
   "execution_count": 28,
   "metadata": {
    "id": "CXkgkj_LBk_t"
   },
   "outputs": [],
   "source": [
    "# code to replace all negative value with 0\n",
    "final_forecast[final_forecast<0] = 0"
   ]
  },
  {
   "cell_type": "code",
   "execution_count": 29,
   "metadata": {},
   "outputs": [
    {
     "data": {
      "text/plain": [
       "array([[6.82041783e+01, 6.81901727e+01, 6.81761671e+01, 6.81621615e+01,\n",
       "        6.81481559e+01, 6.81341503e+01, 6.81201447e+01, 6.81061391e+01,\n",
       "        6.80921335e+01, 6.80781279e+01, 6.80641223e+01, 6.80501167e+01,\n",
       "        6.80361111e+01, 6.80221055e+01, 6.80080999e+01, 6.79940943e+01,\n",
       "        6.79800887e+01, 6.79660831e+01, 6.79520775e+01, 6.79380719e+01,\n",
       "        6.79240663e+01, 6.79100607e+01, 6.78960551e+01, 6.78820495e+01,\n",
       "        6.78680439e+01, 6.78540383e+01, 6.78400327e+01, 6.78260271e+01,\n",
       "        6.78120215e+01, 6.77960317e+01, 6.77680205e+01, 6.77400093e+01,\n",
       "        6.77119981e+01, 6.76839869e+01, 6.76559757e+01, 6.76279645e+01,\n",
       "        6.75999533e+01, 6.75719421e+01, 6.75439309e+01, 6.75159197e+01,\n",
       "        6.74879085e+01, 6.74598973e+01, 6.74318861e+01, 6.74038749e+01,\n",
       "        6.73758637e+01, 6.73478525e+01, 6.73198413e+01, 6.72918301e+01,\n",
       "        6.72638189e+01, 6.72358077e+01, 6.72077965e+01, 6.71797852e+01,\n",
       "        6.71517740e+01, 6.71237628e+01, 6.70957516e+01, 6.70677404e+01,\n",
       "        6.70397292e+01, 6.70117180e+01, 6.69837068e+01, 6.69556956e+01,\n",
       "        6.69276844e+01, 6.68996732e+01, 6.68716620e+01, 6.68436508e+01,\n",
       "        6.68156396e+01, 6.67901027e+01, 6.67676937e+01, 6.67452848e+01,\n",
       "        6.67228758e+01, 6.67004668e+01, 6.66780579e+01, 6.66556489e+01,\n",
       "        6.66332400e+01, 6.66108310e+01, 6.65884220e+01, 6.65660131e+01,\n",
       "        6.65436041e+01, 6.65211951e+01, 6.64987862e+01, 6.64763772e+01,\n",
       "        7.45072708e+01, 0.00000000e+00, 0.00000000e+00, 9.37796474e-01,\n",
       "        4.27014828e-01, 0.00000000e+00, 4.91072565e-01, 3.46764952e-01,\n",
       "        1.08217075e-01, 0.00000000e+00, 1.63135916e-01, 5.74381828e-01,\n",
       "        0.00000000e+00, 1.79473370e-01, 3.96684676e-01, 5.44387817e-01,\n",
       "        0.00000000e+00, 6.10786796e-01, 5.28757274e-02, 0.00000000e+00]])"
      ]
     },
     "execution_count": 29,
     "metadata": {},
     "output_type": "execute_result"
    }
   ],
   "source": [
    "final_forecast"
   ]
  },
  {
   "cell_type": "code",
   "execution_count": 30,
   "metadata": {},
   "outputs": [
    {
     "data": {
      "text/plain": [
       "(1, 100)"
      ]
     },
     "execution_count": 30,
     "metadata": {},
     "output_type": "execute_result"
    }
   ],
   "source": [
    "final_forecast.shape"
   ]
  },
  {
   "cell_type": "code",
   "execution_count": 31,
   "metadata": {},
   "outputs": [
    {
     "data": {
      "text/plain": [
       "(100,)"
      ]
     },
     "execution_count": 31,
     "metadata": {},
     "output_type": "execute_result"
    }
   ],
   "source": [
    "test.shape"
   ]
  },
  {
   "cell_type": "code",
   "execution_count": 32,
   "metadata": {},
   "outputs": [],
   "source": [
    "training_set = np.array(training_set)\n",
    "test = np.array(test)\n",
    "final_forecast = np.array(final_forecast.squeeze(0))"
   ]
  },
  {
   "cell_type": "code",
   "execution_count": 33,
   "metadata": {},
   "outputs": [
    {
     "data": {
      "text/plain": [
       "array([62.6717437 , 62.64513305, 62.61852241, 62.59191176, 62.56530112,\n",
       "       62.53869048, 62.51207983, 62.48546919, 62.45885854, 62.4322479 ,\n",
       "       62.40563725, 62.37902661, 62.35241597, 62.32580532, 62.29919468,\n",
       "       62.27258403, 62.24597339, 62.21936275, 62.1927521 , 62.16614146,\n",
       "       62.13953081, 62.11292017, 62.08630952, 62.05969888, 62.03308824,\n",
       "       62.00647759, 61.97986695, 61.9532563 , 61.92664566, 61.90003501,\n",
       "       61.87342437, 61.84681373, 61.82020308, 61.79359244, 61.76698179,\n",
       "       61.74037115, 61.7137605 , 61.68714986, 61.66053922, 61.63392857,\n",
       "       61.60731793, 61.58070728, 61.55409664, 61.52748599, 61.50087535,\n",
       "       61.47426471, 61.44765406, 61.42104342, 61.39443277, 61.36782213,\n",
       "       61.34121148, 61.31460084, 61.2879902 , 61.26137955, 61.23476891,\n",
       "       61.20815826, 61.18154762, 61.15493697, 61.12832633, 61.10171569,\n",
       "       61.07510504, 61.0484944 , 61.02188375, 60.99527311, 60.96866246,\n",
       "       60.94205182, 60.91544118, 60.88883053, 60.86221989, 60.83560924,\n",
       "       60.8089986 , 60.78238796, 60.75577731, 60.72916667, 60.70255602,\n",
       "       60.67594538, 60.64933473, 60.62272409, 60.59611345, 60.5695028 ,\n",
       "       60.54289216, 60.51628151, 60.48967087, 60.46306022, 60.43644958,\n",
       "       60.40983894, 60.38322829, 60.35661765, 60.330007  , 60.30339636,\n",
       "       60.27678571, 60.25017507, 60.22356443, 60.19695378, 60.17034314,\n",
       "       60.14373249, 60.11712185, 60.0905112 , 60.06390056, 60.03728992])"
      ]
     },
     "execution_count": 33,
     "metadata": {},
     "output_type": "execute_result"
    }
   ],
   "source": [
    "test"
   ]
  },
  {
   "cell_type": "code",
   "execution_count": 34,
   "metadata": {},
   "outputs": [
    {
     "data": {
      "text/plain": [
       "(100,)"
      ]
     },
     "execution_count": 34,
     "metadata": {},
     "output_type": "execute_result"
    }
   ],
   "source": [
    "test.shape"
   ]
  },
  {
   "cell_type": "code",
   "execution_count": 35,
   "metadata": {},
   "outputs": [
    {
     "data": {
      "text/plain": [
       "(100,)"
      ]
     },
     "execution_count": 35,
     "metadata": {},
     "output_type": "execute_result"
    }
   ],
   "source": [
    "final_forecast.shape"
   ]
  },
  {
   "cell_type": "code",
   "execution_count": 36,
   "metadata": {},
   "outputs": [
    {
     "data": {
      "text/plain": [
       "(100,)"
      ]
     },
     "execution_count": 36,
     "metadata": {},
     "output_type": "execute_result"
    }
   ],
   "source": [
    "test.shape"
   ]
  },
  {
   "cell_type": "code",
   "execution_count": 37,
   "metadata": {},
   "outputs": [
    {
     "name": "stdout",
     "output_type": "stream",
     "text": [
      "26.711911174723742\n",
      "16.194844360375892\n"
     ]
    }
   ],
   "source": [
    "import math\n",
    "MSE = np.square(np.subtract(np.array(test),np.array(final_forecast))).mean()   \n",
    "rsme = math.sqrt(MSE)\n",
    "print(rsme)  \n",
    "MAE = np.abs(np.subtract(np.array(test),np.array(final_forecast))).mean()   \n",
    "mae = MAE\n",
    "print(mae)"
   ]
  }
 ],
 "metadata": {
  "colab": {
   "provenance": []
  },
  "kernelspec": {
   "display_name": "Python 3",
   "language": "python",
   "name": "python3"
  },
  "language_info": {
   "codemirror_mode": {
    "name": "ipython",
    "version": 3
   },
   "file_extension": ".py",
   "mimetype": "text/x-python",
   "name": "python",
   "nbconvert_exporter": "python",
   "pygments_lexer": "ipython3",
   "version": "3.9.13"
  }
 },
 "nbformat": 4,
 "nbformat_minor": 0
}
