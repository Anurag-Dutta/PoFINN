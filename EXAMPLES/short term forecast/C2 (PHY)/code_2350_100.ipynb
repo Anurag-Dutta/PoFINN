{
 "cells": [
  {
   "cell_type": "markdown",
   "metadata": {
    "id": "pCGKeZ2gyuoQ"
   },
   "source": [
    "_Importing Required Libraries_"
   ]
  },
  {
   "cell_type": "code",
   "execution_count": 1,
   "metadata": {
    "colab": {
     "base_uri": "https://localhost:8080/"
    },
    "id": "A-6LN-zXiLcM",
    "outputId": "4de610a4-f8b8-4f49-c6c0-89de299ccedc"
   },
   "outputs": [
    {
     "name": "stdout",
     "output_type": "stream",
     "text": [
      "Requirement already satisfied: hampel in c:\\users\\anurag dutta\\appdata\\local\\packages\\pythonsoftwarefoundation.python.3.9_qbz5n2kfra8p0\\localcache\\local-packages\\python39\\site-packages (0.0.5)\n",
      "Requirement already satisfied: numpy in c:\\users\\anurag dutta\\appdata\\local\\packages\\pythonsoftwarefoundation.python.3.9_qbz5n2kfra8p0\\localcache\\local-packages\\python39\\site-packages (from hampel) (1.26.4)\n",
      "Requirement already satisfied: pandas in c:\\users\\anurag dutta\\appdata\\local\\packages\\pythonsoftwarefoundation.python.3.9_qbz5n2kfra8p0\\localcache\\local-packages\\python39\\site-packages (from hampel) (1.5.2)\n",
      "Requirement already satisfied: python-dateutil>=2.8.1 in c:\\users\\anurag dutta\\appdata\\local\\packages\\pythonsoftwarefoundation.python.3.9_qbz5n2kfra8p0\\localcache\\local-packages\\python39\\site-packages (from pandas->hampel) (2.8.2)\n",
      "Requirement already satisfied: pytz>=2020.1 in c:\\users\\anurag dutta\\appdata\\local\\packages\\pythonsoftwarefoundation.python.3.9_qbz5n2kfra8p0\\localcache\\local-packages\\python39\\site-packages (from pandas->hampel) (2023.3.post1)\n",
      "Requirement already satisfied: six>=1.5 in c:\\users\\anurag dutta\\appdata\\local\\packages\\pythonsoftwarefoundation.python.3.9_qbz5n2kfra8p0\\localcache\\local-packages\\python39\\site-packages (from python-dateutil>=2.8.1->pandas->hampel) (1.16.0)\n",
      "Note: you may need to restart the kernel to use updated packages.\n"
     ]
    },
    {
     "name": "stderr",
     "output_type": "stream",
     "text": [
      "\n",
      "[notice] A new release of pip is available: 24.2 -> 24.3.1\n",
      "[notice] To update, run: C:\\Users\\Anurag Dutta\\AppData\\Local\\Microsoft\\WindowsApps\\PythonSoftwareFoundation.Python.3.9_qbz5n2kfra8p0\\python.exe -m pip install --upgrade pip\n"
     ]
    }
   ],
   "source": [
    "pip install hampel"
   ]
  },
  {
   "cell_type": "code",
   "execution_count": 2,
   "metadata": {
    "id": "By_d9uXpaFvZ"
   },
   "outputs": [],
   "source": [
    "from keras.models import Sequential\n",
    "from keras.layers import Dense\n",
    "from keras.layers import LSTM\n",
    "from keras.layers import Dropout\n",
    "import keras\n",
    "import tensorflow as tf\n",
    "from hampel import hampel\n",
    "import numpy as np\n",
    "import matplotlib.pyplot as plt\n",
    "import pandas as pd\n",
    "from sklearn.preprocessing import MinMaxScaler\n",
    "from sklearn.metrics import mean_squared_error, mean_absolute_error\n",
    "from math import sqrt\n",
    "from matplotlib import pyplot\n",
    "from numpy import array"
   ]
  },
  {
   "cell_type": "markdown",
   "metadata": {
    "id": "JyOjBMFayuoR"
   },
   "source": [
    "## Pretraining"
   ]
  },
  {
   "cell_type": "markdown",
   "metadata": {
    "id": "-5QqIY_GyuoR"
   },
   "source": [
    "The `capa_intermittency.dat` feeds the model with the dynamics of the Capacitor"
   ]
  },
  {
   "cell_type": "code",
   "execution_count": 3,
   "metadata": {
    "id": "9dV4a8yfyuoR"
   },
   "outputs": [],
   "source": [
    "data = np.genfromtxt('capa_intermittency.dat')\n",
    "training_set = pd.DataFrame(data).reset_index(drop=True)\n",
    "training_set = training_set.iloc[:,0]"
   ]
  },
  {
   "cell_type": "markdown",
   "metadata": {
    "id": "i7easoxByuoR"
   },
   "source": [
    "## Computing the Gradient"
   ]
  },
  {
   "cell_type": "markdown",
   "metadata": {
    "id": "5SnyolJTyuoR"
   },
   "source": [
    "_Calculating the value of_ $\\frac{dx}{dt}$"
   ]
  },
  {
   "cell_type": "code",
   "execution_count": 4,
   "metadata": {
    "colab": {
     "base_uri": "https://localhost:8080/"
    },
    "id": "wmIbVfIvyuoR",
    "outputId": "aa4e3136-c854-465d-d2e9-81cfd546e440"
   },
   "outputs": [
    {
     "name": "stdout",
     "output_type": "stream",
     "text": [
      "1.0\n",
      "1        0.000298\n",
      "2        0.000298\n",
      "3        0.000297\n",
      "4        0.000297\n",
      "5        0.000297\n",
      "           ...   \n",
      "9996     0.000018\n",
      "9997     0.000018\n",
      "9998     0.000018\n",
      "9999     0.000018\n",
      "10000    0.000018\n",
      "Name: 0, Length: 10000, dtype: float64\n"
     ]
    }
   ],
   "source": [
    "t_diff = 1\n",
    "print(training_set.max())\n",
    "gradient_t = (training_set.diff()/t_diff).iloc[1:] # dx/dt\n",
    "print(gradient_t)"
   ]
  },
  {
   "cell_type": "markdown",
   "metadata": {
    "id": "_2eVeeoxyuoS"
   },
   "source": [
    "## Loading Datasets"
   ]
  },
  {
   "cell_type": "code",
   "execution_count": 5,
   "metadata": {
    "id": "0J-NKyIEyuoS"
   },
   "outputs": [
    {
     "data": {
      "text/plain": [
       "0       90.500000\n",
       "1       90.275910\n",
       "2       90.051821\n",
       "3       89.827731\n",
       "4       89.603641\n",
       "          ...    \n",
       "2445    52.941156\n",
       "2446    52.925579\n",
       "2447    52.910002\n",
       "2448    52.894425\n",
       "2449    52.878848\n",
       "Name: C2, Length: 2450, dtype: float64"
      ]
     },
     "execution_count": 5,
     "metadata": {},
     "output_type": "execute_result"
    }
   ],
   "source": [
    "data = pd.read_csv(\"c2_interpolated_2350_100.csv\")\n",
    "training_set = data.iloc[:, 1]\n",
    "training_set"
   ]
  },
  {
   "cell_type": "code",
   "execution_count": 6,
   "metadata": {
    "colab": {
     "base_uri": "https://localhost:8080/"
    },
    "id": "-CbNUhJ74UqF",
    "outputId": "20f562d8-8247-49cc-b9c3-00eca5e13e2d"
   },
   "outputs": [
    {
     "data": {
      "text/plain": [
       "0       90.500000\n",
       "1       90.275910\n",
       "2       90.051821\n",
       "3       89.827731\n",
       "4       89.603641\n",
       "          ...    \n",
       "2345     0.205871\n",
       "2346     0.323240\n",
       "2347     0.000000\n",
       "2348     0.232633\n",
       "2349     0.000000\n",
       "Name: C2, Length: 2350, dtype: float64"
      ]
     },
     "execution_count": 6,
     "metadata": {},
     "output_type": "execute_result"
    }
   ],
   "source": [
    "test = training_set.tail(100)\n",
    "test\n",
    "training_set = training_set.head(2350)\n",
    "training_set"
   ]
  },
  {
   "cell_type": "code",
   "execution_count": 7,
   "metadata": {
    "colab": {
     "base_uri": "https://localhost:8080/"
    },
    "id": "X0TwTcq0yuoS",
    "outputId": "37252ed8-d88e-4044-fa7a-922411990b5b"
   },
   "outputs": [
    {
     "name": "stdout",
     "output_type": "stream",
     "text": [
      "0       0.000298\n",
      "1       0.000298\n",
      "2       0.000297\n",
      "3       0.000297\n",
      "4       0.000297\n",
      "          ...   \n",
      "9995    0.000018\n",
      "9996    0.000018\n",
      "9997    0.000018\n",
      "9998    0.000018\n",
      "9999    0.000018\n",
      "Name: 0, Length: 10000, dtype: float64\n"
     ]
    }
   ],
   "source": [
    "training_set = training_set.reset_index(drop=True)\n",
    "gradient_t = gradient_t.reset_index(drop=True)\n",
    "print(gradient_t)"
   ]
  },
  {
   "cell_type": "code",
   "execution_count": 8,
   "metadata": {
    "id": "O2biznZQyuoS"
   },
   "outputs": [],
   "source": [
    "df = pd.concat((training_set, gradient_t), axis=1)\n",
    "df.columns = ['y_t', 'grad_t']"
   ]
  },
  {
   "cell_type": "code",
   "execution_count": 9,
   "metadata": {
    "colab": {
     "base_uri": "https://localhost:8080/",
     "height": 423
    },
    "id": "sk_a5v3tyuoS",
    "outputId": "17563625-e550-45ae-faab-fafa353e44da"
   },
   "outputs": [
    {
     "data": {
      "text/html": [
       "<div>\n",
       "<style scoped>\n",
       "    .dataframe tbody tr th:only-of-type {\n",
       "        vertical-align: middle;\n",
       "    }\n",
       "\n",
       "    .dataframe tbody tr th {\n",
       "        vertical-align: top;\n",
       "    }\n",
       "\n",
       "    .dataframe thead th {\n",
       "        text-align: right;\n",
       "    }\n",
       "</style>\n",
       "<table border=\"1\" class=\"dataframe\">\n",
       "  <thead>\n",
       "    <tr style=\"text-align: right;\">\n",
       "      <th></th>\n",
       "      <th>y_t</th>\n",
       "      <th>grad_t</th>\n",
       "    </tr>\n",
       "  </thead>\n",
       "  <tbody>\n",
       "    <tr>\n",
       "      <th>0</th>\n",
       "      <td>90.500000</td>\n",
       "      <td>0.000298</td>\n",
       "    </tr>\n",
       "    <tr>\n",
       "      <th>1</th>\n",
       "      <td>90.275910</td>\n",
       "      <td>0.000298</td>\n",
       "    </tr>\n",
       "    <tr>\n",
       "      <th>2</th>\n",
       "      <td>90.051821</td>\n",
       "      <td>0.000297</td>\n",
       "    </tr>\n",
       "    <tr>\n",
       "      <th>3</th>\n",
       "      <td>89.827731</td>\n",
       "      <td>0.000297</td>\n",
       "    </tr>\n",
       "    <tr>\n",
       "      <th>4</th>\n",
       "      <td>89.603641</td>\n",
       "      <td>0.000297</td>\n",
       "    </tr>\n",
       "    <tr>\n",
       "      <th>...</th>\n",
       "      <td>...</td>\n",
       "      <td>...</td>\n",
       "    </tr>\n",
       "    <tr>\n",
       "      <th>9995</th>\n",
       "      <td>NaN</td>\n",
       "      <td>0.000018</td>\n",
       "    </tr>\n",
       "    <tr>\n",
       "      <th>9996</th>\n",
       "      <td>NaN</td>\n",
       "      <td>0.000018</td>\n",
       "    </tr>\n",
       "    <tr>\n",
       "      <th>9997</th>\n",
       "      <td>NaN</td>\n",
       "      <td>0.000018</td>\n",
       "    </tr>\n",
       "    <tr>\n",
       "      <th>9998</th>\n",
       "      <td>NaN</td>\n",
       "      <td>0.000018</td>\n",
       "    </tr>\n",
       "    <tr>\n",
       "      <th>9999</th>\n",
       "      <td>NaN</td>\n",
       "      <td>0.000018</td>\n",
       "    </tr>\n",
       "  </tbody>\n",
       "</table>\n",
       "<p>10000 rows × 2 columns</p>\n",
       "</div>"
      ],
      "text/plain": [
       "            y_t    grad_t\n",
       "0     90.500000  0.000298\n",
       "1     90.275910  0.000298\n",
       "2     90.051821  0.000297\n",
       "3     89.827731  0.000297\n",
       "4     89.603641  0.000297\n",
       "...         ...       ...\n",
       "9995        NaN  0.000018\n",
       "9996        NaN  0.000018\n",
       "9997        NaN  0.000018\n",
       "9998        NaN  0.000018\n",
       "9999        NaN  0.000018\n",
       "\n",
       "[10000 rows x 2 columns]"
      ]
     },
     "execution_count": 9,
     "metadata": {},
     "output_type": "execute_result"
    }
   ],
   "source": [
    "df"
   ]
  },
  {
   "cell_type": "markdown",
   "metadata": {
    "id": "-5esyHu5aFvg"
   },
   "source": [
    "## Plot of the External Forcing from Chaotic Differential Equation"
   ]
  },
  {
   "cell_type": "code",
   "execution_count": 10,
   "metadata": {
    "colab": {
     "base_uri": "https://localhost:8080/",
     "height": 447
    },
    "id": "hGnE43tOh-4p",
    "outputId": "fc396503-b624-4fa5-dfbe-f460207405c6"
   },
   "outputs": [
    {
     "data": {
      "text/plain": [
       "<Axes: >"
      ]
     },
     "execution_count": 10,
     "metadata": {},
     "output_type": "execute_result"
    },
    {
     "data": {
      "image/png": "[encoded data removed]",
      "text/plain": [
       "<Figure size 432x288 with 1 Axes>"
      ]
     },
     "metadata": {
      "needs_background": "light"
     },
     "output_type": "display_data"
    }
   ],
   "source": [
    "df.iloc[:, 0].plot()"
   ]
  },
  {
   "cell_type": "code",
   "execution_count": 11,
   "metadata": {
    "colab": {
     "base_uri": "https://localhost:8080/",
     "height": 447
    },
    "id": "ym4xWUUxaFvg",
    "outputId": "ae6a3495-8ce9-437e-ba81-3ed31deedeae"
   },
   "outputs": [
    {
     "name": "stderr",
     "output_type": "stream",
     "text": [
      "C:\\Users\\Anurag Dutta\\AppData\\Local\\Packages\\PythonSoftwareFoundation.Python.3.9_qbz5n2kfra8p0\\LocalCache\\local-packages\\Python39\\site-packages\\pandas\\core\\arraylike.py:402: RuntimeWarning: divide by zero encountered in log\n",
      "  result = getattr(ufunc, method)(*inputs, **kwargs)\n"
     ]
    },
    {
     "data": {
      "text/plain": [
       "<Axes: >"
      ]
     },
     "execution_count": 11,
     "metadata": {},
     "output_type": "execute_result"
    },
    {
     "data": {
      "image/png": "[encoded data removed]",
      "text/plain": [
       "<Figure size 432x288 with 1 Axes>"
      ]
     },
     "metadata": {
      "needs_background": "light"
     },
     "output_type": "display_data"
    }
   ],
   "source": [
    "import numpy as np\n",
    "c0 = 88.1552  # Value for C0\n",
    "K0 = -0.0026  # Value for K0\n",
    "K1 = -0.0004  # Value for K1\n",
    "a = 0.0000    # Value for a\n",
    "b = 0.0102    # Value for b\n",
    "c = 2.8734    # Value for c\n",
    "\n",
    "L = np.minimum(c0, (df.iloc[:, 1] - (df.iloc[:, 0] * (K0 - K1 * (9 * a * np.log(df.iloc[:, 0] / c0) / (K0 - K1 * c)**2 + 4 * b * np.log(df.iloc[:, 0] / c0) / (K0 - K1 * c) + c)))))\n",
    "L.plot()"
   ]
  },
  {
   "cell_type": "markdown",
   "metadata": {
    "id": "9VyEywnwaFvh"
   },
   "source": [
    "## Preprocessing the data into supervised learning"
   ]
  },
  {
   "cell_type": "code",
   "execution_count": 12,
   "metadata": {
    "id": "6V9dXqzdaFvh"
   },
   "outputs": [],
   "source": [
    "# split a sequence into samples\n",
    "def Supervised(data, n_in=1, n_out=1, dropnan=True):\n",
    "    n_vars = 1 if type(data) is list else data.shape[1]\n",
    "    df = pd.DataFrame(data)\n",
    "    cols, names = list(), list()\n",
    "    # input sequence (t-n_in, ... t-1)\n",
    "    for i in range(n_in, 0, -1):\n",
    "        cols.append(df.shift(i))\n",
    "        names += [('var%d(t-%d)' % (j+1, i)) for j in range(n_vars)]\n",
    "    # forecast sequence (t, t+1, ... t+n_out)\n",
    "    for i in range(0, n_out):\n",
    "      cols.append(df.shift(-i))\n",
    "      if i == 0:\n",
    "        names += [('var%d(t)' % (j+1)) for j in range(n_vars)]\n",
    "      else:\n",
    "        names += [('var%d(t+%d)' % (j+1, i)) for j in range(n_vars)]\n",
    "    # put it all together\n",
    "    agg = pd.concat(cols, axis=1)\n",
    "    agg.columns = names\n",
    "    # drop rows with NaN values\n",
    "    if dropnan:\n",
    "       agg.dropna(inplace=True)\n",
    "    return agg"
   ]
  },
  {
   "cell_type": "code",
   "execution_count": 13,
   "metadata": {
    "colab": {
     "base_uri": "https://localhost:8080/"
    },
    "id": "CrzSrT1HnyfH",
    "outputId": "7e75f928-3e47-499d-eac1-51908015ef78"
   },
   "outputs": [
    {
     "name": "stdout",
     "output_type": "stream",
     "text": [
      "     var1(t-350)  var1(t-349)  var1(t-348)  var1(t-347)  var1(t-346)  \\\n",
      "350    90.500000    90.275910    90.051821    89.827731    89.603641   \n",
      "351    90.275910    90.051821    89.827731    89.603641    89.379552   \n",
      "352    90.051821    89.827731    89.603641    89.379552    89.155462   \n",
      "353    89.827731    89.603641    89.379552    89.155462    88.931373   \n",
      "354    89.603641    89.379552    89.155462    88.931373    88.707283   \n",
      "\n",
      "     var1(t-345)  var1(t-344)  var1(t-343)  var1(t-342)  var1(t-341)  ...  \\\n",
      "350    89.379552    89.155462    88.931373    88.707283    88.494958  ...   \n",
      "351    89.155462    88.931373    88.707283    88.494958    88.427731  ...   \n",
      "352    88.931373    88.707283    88.494958    88.427731    88.360504  ...   \n",
      "353    88.707283    88.494958    88.427731    88.360504    88.293277  ...   \n",
      "354    88.494958    88.427731    88.360504    88.293277    88.226050  ...   \n",
      "\n",
      "     var1(t+95)  var2(t+95)  var1(t+96)  var2(t+96)  var1(t+97)  var2(t+97)  \\\n",
      "350   79.071008    0.000263   79.054202    0.000263   79.037395    0.000263   \n",
      "351   79.054202    0.000263   79.037395    0.000263   79.020588    0.000262   \n",
      "352   79.037395    0.000263   79.020588    0.000262   79.003782    0.000262   \n",
      "353   79.020588    0.000262   79.003782    0.000262   78.986975    0.000262   \n",
      "354   79.003782    0.000262   78.986975    0.000262   78.970168    0.000262   \n",
      "\n",
      "     var1(t+98)  var2(t+98)  var1(t+99)  var2(t+99)  \n",
      "350   79.020588    0.000262   79.003782    0.000262  \n",
      "351   79.003782    0.000262   78.986975    0.000262  \n",
      "352   78.986975    0.000262   78.970168    0.000262  \n",
      "353   78.970168    0.000262   78.953361    0.000262  \n",
      "354   78.953361    0.000262   78.936555    0.000262  \n",
      "\n",
      "[5 rows x 551 columns]\n",
      "Index(['var1(t-350)', 'var1(t-349)', 'var1(t-348)', 'var1(t-347)',\n",
      "       'var1(t-346)', 'var1(t-345)', 'var1(t-344)', 'var1(t-343)',\n",
      "       'var1(t-342)', 'var1(t-341)',\n",
      "       ...\n",
      "       'var1(t+95)', 'var2(t+95)', 'var1(t+96)', 'var2(t+96)', 'var1(t+97)',\n",
      "       'var2(t+97)', 'var1(t+98)', 'var2(t+98)', 'var1(t+99)', 'var2(t+99)'],\n",
      "      dtype='object', length=551)\n"
     ]
    }
   ],
   "source": [
    "data = Supervised(df.values, n_in = 350, n_out = 100)\n",
    "\n",
    "\n",
    "cols_to_drop = []\n",
    "for i in range(2, 351):\n",
    "    cols_to_drop.extend([f'var2(t-{i})'])\n",
    "\n",
    "data.drop(cols_to_drop, axis=1, inplace=True)\n",
    "\n",
    "print(data.head())\n",
    "print(data.columns)"
   ]
  },
  {
   "cell_type": "code",
   "execution_count": 14,
   "metadata": {
    "id": "AfPf60oy6Pe4"
   },
   "outputs": [],
   "source": [
    "train = np.array(data[0:len(data)-1])\n",
    "forecast = np.array(data.tail(1))"
   ]
  },
  {
   "cell_type": "code",
   "execution_count": 15,
   "metadata": {
    "id": "WSAafzI37KiT"
   },
   "outputs": [],
   "source": [
    "trainy = train[:,-300:]\n",
    "trainX = train[:,:-300]"
   ]
  },
  {
   "cell_type": "code",
   "execution_count": 16,
   "metadata": {
    "id": "2SrOqVJA7f50"
   },
   "outputs": [],
   "source": [
    "forecasty = forecast[:,-300:]\n",
    "forecastX = forecast[:,:-300]"
   ]
  },
  {
   "cell_type": "code",
   "execution_count": 17,
   "metadata": {
    "colab": {
     "base_uri": "https://localhost:8080/"
    },
    "id": "Qno_k8Nw7saY",
    "outputId": "c4a88db5-d8c6-489f-cdb2-06b24e293cff"
   },
   "outputs": [
    {
     "name": "stdout",
     "output_type": "stream",
     "text": [
      "(1900, 1, 251) (1900, 300) (1, 1, 251)\n"
     ]
    }
   ],
   "source": [
    "trainX = trainX.reshape((trainX.shape[0], 1, trainX.shape[1]))\n",
    "forecastX = forecastX.reshape((forecastX.shape[0], 1, forecastX.shape[1]))\n",
    "print(trainX.shape, trainy.shape, forecastX.shape)"
   ]
  },
  {
   "cell_type": "code",
   "execution_count": 18,
   "metadata": {
    "colab": {
     "base_uri": "https://localhost:8080/"
    },
    "id": "b1Jp2DvNuNFx",
    "outputId": "d0e5b3c4-64f1-438c-eade-8dfeaac8e285"
   },
   "outputs": [
    {
     "name": "stdout",
     "output_type": "stream",
     "text": [
      "Epoch 1/500\n",
      "24/24 [==============================] - 2s 21ms/step - loss: 5212.6460 - val_loss: 3544.8105\n",
      "Epoch 2/500\n",
      "24/24 [==============================] - 0s 5ms/step - loss: 5107.0903 - val_loss: 3487.5840\n",
      "Epoch 3/500\n",
      "24/24 [==============================] - 0s 3ms/step - loss: 5028.4746 - val_loss: 3439.3606\n",
      "Epoch 4/500\n",
      "24/24 [==============================] - 0s 4ms/step - loss: 4944.5815 - val_loss: 3380.1609\n",
      "Epoch 5/500\n",
      "24/24 [==============================] - 0s 4ms/step - loss: 4854.8945 - val_loss: 3330.1421\n",
      "Epoch 6/500\n",
      "24/24 [==============================] - 0s 4ms/step - loss: 4774.8330 - val_loss: 3281.3384\n",
      "Epoch 7/500\n",
      "24/24 [==============================] - 0s 4ms/step - loss: 4696.4365 - val_loss: 3233.5315\n",
      "Epoch 8/500\n",
      "24/24 [==============================] - 0s 4ms/step - loss: 4619.3926 - val_loss: 3186.5637\n",
      "Epoch 9/500\n",
      "24/24 [==============================] - 0s 6ms/step - loss: 4543.5249 - val_loss: 3140.3545\n",
      "Epoch 10/500\n",
      "24/24 [==============================] - 0s 5ms/step - loss: 4468.7393 - val_loss: 3094.8579\n",
      "Epoch 11/500\n",
      "24/24 [==============================] - 0s 3ms/step - loss: 4394.9795 - val_loss: 3050.0435\n",
      "Epoch 12/500\n",
      "24/24 [==============================] - 0s 3ms/step - loss: 4322.2061 - val_loss: 3005.8889\n",
      "Epoch 13/500\n",
      "24/24 [==============================] - 0s 3ms/step - loss: 4250.3916 - val_loss: 2962.3782\n",
      "Epoch 14/500\n",
      "24/24 [==============================] - 0s 3ms/step - loss: 4179.5146 - val_loss: 2919.4980\n",
      "Epoch 15/500\n",
      "24/24 [==============================] - 0s 3ms/step - loss: 4109.5542 - val_loss: 2877.2361\n",
      "Epoch 16/500\n",
      "24/24 [==============================] - 0s 4ms/step - loss: 4040.4961 - val_loss: 2835.5830\n",
      "Epoch 17/500\n",
      "24/24 [==============================] - 0s 4ms/step - loss: 3972.3259 - val_loss: 2794.5300\n",
      "Epoch 18/500\n",
      "24/24 [==============================] - 0s 4ms/step - loss: 3905.0315 - val_loss: 2754.0684\n",
      "Epoch 19/500\n",
      "24/24 [==============================] - 0s 4ms/step - loss: 3838.6013 - val_loss: 2714.1904\n",
      "Epoch 20/500\n",
      "24/24 [==============================] - 0s 5ms/step - loss: 3773.0254 - val_loss: 2674.8892\n",
      "Epoch 21/500\n",
      "24/24 [==============================] - 0s 5ms/step - loss: 3708.2908 - val_loss: 2636.1580\n",
      "Epoch 22/500\n",
      "24/24 [==============================] - 0s 6ms/step - loss: 3644.3904 - val_loss: 2597.9895\n",
      "Epoch 23/500\n",
      "24/24 [==============================] - 0s 5ms/step - loss: 3581.3137 - val_loss: 2560.3779\n",
      "Epoch 24/500\n",
      "24/24 [==============================] - 0s 4ms/step - loss: 3519.0532 - val_loss: 2523.3171\n",
      "Epoch 25/500\n",
      "24/24 [==============================] - 0s 5ms/step - loss: 3457.5994 - val_loss: 2486.8013\n",
      "Epoch 26/500\n",
      "24/24 [==============================] - 0s 4ms/step - loss: 3396.9438 - val_loss: 2450.8250\n",
      "Epoch 27/500\n",
      "24/24 [==============================] - 0s 5ms/step - loss: 3337.0784 - val_loss: 2415.3813\n",
      "Epoch 28/500\n",
      "24/24 [==============================] - 0s 4ms/step - loss: 3277.9954 - val_loss: 2380.4658\n",
      "Epoch 29/500\n",
      "24/24 [==============================] - 0s 6ms/step - loss: 3219.6868 - val_loss: 2346.0730\n",
      "Epoch 30/500\n",
      "24/24 [==============================] - 0s 4ms/step - loss: 3162.1450 - val_loss: 2312.1980\n",
      "Epoch 31/500\n",
      "24/24 [==============================] - 0s 4ms/step - loss: 3105.3628 - val_loss: 2278.8345\n",
      "Epoch 32/500\n",
      "24/24 [==============================] - 0s 4ms/step - loss: 3049.3335 - val_loss: 2245.9780\n",
      "Epoch 33/500\n",
      "24/24 [==============================] - 0s 5ms/step - loss: 2994.0486 - val_loss: 2213.6228\n",
      "Epoch 34/500\n",
      "24/24 [==============================] - 0s 5ms/step - loss: 2939.5012 - val_loss: 2181.7654\n",
      "Epoch 35/500\n",
      "24/24 [==============================] - 0s 7ms/step - loss: 2885.6853 - val_loss: 2150.3992\n",
      "Epoch 36/500\n",
      "24/24 [==============================] - 0s 5ms/step - loss: 2832.5918 - val_loss: 2119.5200\n",
      "Epoch 37/500\n",
      "24/24 [==============================] - 0s 4ms/step - loss: 2780.2166 - val_loss: 2089.1235\n",
      "Epoch 38/500\n",
      "24/24 [==============================] - 0s 3ms/step - loss: 2728.5508 - val_loss: 2059.2043\n",
      "Epoch 39/500\n",
      "24/24 [==============================] - 0s 4ms/step - loss: 2677.5884 - val_loss: 2029.7576\n",
      "Epoch 40/500\n",
      "24/24 [==============================] - 0s 4ms/step - loss: 2627.3232 - val_loss: 2000.7791\n",
      "Epoch 41/500\n",
      "24/24 [==============================] - 0s 5ms/step - loss: 2577.7488 - val_loss: 1972.2642\n",
      "Epoch 42/500\n",
      "24/24 [==============================] - 0s 4ms/step - loss: 2528.8582 - val_loss: 1944.2084\n",
      "Epoch 43/500\n",
      "24/24 [==============================] - 0s 5ms/step - loss: 2480.6453 - val_loss: 1916.6069\n",
      "Epoch 44/500\n",
      "24/24 [==============================] - 0s 4ms/step - loss: 2433.1033 - val_loss: 1889.4558\n",
      "Epoch 45/500\n",
      "24/24 [==============================] - 0s 4ms/step - loss: 2386.2273 - val_loss: 1862.7501\n",
      "Epoch 46/500\n",
      "24/24 [==============================] - 0s 4ms/step - loss: 2340.0093 - val_loss: 1836.4858\n",
      "Epoch 47/500\n",
      "24/24 [==============================] - 0s 5ms/step - loss: 2294.4453 - val_loss: 1810.6587\n",
      "Epoch 48/500\n",
      "24/24 [==============================] - 0s 4ms/step - loss: 2249.5276 - val_loss: 1785.2637\n",
      "Epoch 49/500\n",
      "24/24 [==============================] - 0s 4ms/step - loss: 2205.2505 - val_loss: 1760.2970\n",
      "Epoch 50/500\n",
      "24/24 [==============================] - 0s 4ms/step - loss: 2161.6077 - val_loss: 1735.7544\n",
      "Epoch 51/500\n",
      "24/24 [==============================] - 0s 8ms/step - loss: 2118.5945 - val_loss: 1711.6321\n",
      "Epoch 52/500\n",
      "24/24 [==============================] - 0s 4ms/step - loss: 2076.2041 - val_loss: 1687.9252\n",
      "Epoch 53/500\n",
      "24/24 [==============================] - 0s 4ms/step - loss: 2034.4313 - val_loss: 1664.6304\n",
      "Epoch 54/500\n",
      "24/24 [==============================] - 0s 4ms/step - loss: 1993.2698 - val_loss: 1641.7428\n",
      "Epoch 55/500\n",
      "24/24 [==============================] - 0s 4ms/step - loss: 1952.7148 - val_loss: 1619.2589\n",
      "Epoch 56/500\n",
      "24/24 [==============================] - 0s 3ms/step - loss: 1912.7594 - val_loss: 1597.1742\n",
      "Epoch 57/500\n",
      "24/24 [==============================] - 0s 3ms/step - loss: 1873.3988 - val_loss: 1575.4849\n",
      "Epoch 58/500\n",
      "24/24 [==============================] - 0s 3ms/step - loss: 1834.6266 - val_loss: 1554.1869\n",
      "Epoch 59/500\n",
      "24/24 [==============================] - 0s 4ms/step - loss: 1796.4385 - val_loss: 1533.2766\n",
      "Epoch 60/500\n",
      "24/24 [==============================] - 0s 4ms/step - loss: 1758.8281 - val_loss: 1512.7499\n",
      "Epoch 61/500\n",
      "24/24 [==============================] - 0s 4ms/step - loss: 1721.7908 - val_loss: 1492.6029\n",
      "Epoch 62/500\n",
      "24/24 [==============================] - 0s 4ms/step - loss: 1685.3206 - val_loss: 1472.8313\n",
      "Epoch 63/500\n",
      "24/24 [==============================] - 0s 4ms/step - loss: 1649.4114 - val_loss: 1453.4318\n",
      "Epoch 64/500\n",
      "24/24 [==============================] - 0s 4ms/step - loss: 1614.0588 - val_loss: 1434.4000\n",
      "Epoch 65/500\n",
      "24/24 [==============================] - 0s 4ms/step - loss: 1579.2574 - val_loss: 1415.7328\n",
      "Epoch 66/500\n",
      "24/24 [==============================] - 0s 4ms/step - loss: 1545.0024 - val_loss: 1397.4260\n",
      "Epoch 67/500\n",
      "24/24 [==============================] - 0s 4ms/step - loss: 1511.2882 - val_loss: 1379.4757\n",
      "Epoch 68/500\n",
      "24/24 [==============================] - 0s 4ms/step - loss: 1478.1089 - val_loss: 1361.8783\n",
      "Epoch 69/500\n",
      "24/24 [==============================] - 0s 3ms/step - loss: 1445.4602 - val_loss: 1344.6304\n",
      "Epoch 70/500\n",
      "24/24 [==============================] - 0s 3ms/step - loss: 1413.3368 - val_loss: 1327.7283\n",
      "Epoch 71/500\n",
      "24/24 [==============================] - 0s 4ms/step - loss: 1381.7338 - val_loss: 1311.1676\n",
      "Epoch 72/500\n",
      "24/24 [==============================] - 0s 4ms/step - loss: 1350.6455 - val_loss: 1294.9449\n",
      "Epoch 73/500\n",
      "24/24 [==============================] - 0s 4ms/step - loss: 1320.0676 - val_loss: 1279.0569\n",
      "Epoch 74/500\n",
      "24/24 [==============================] - 0s 4ms/step - loss: 1289.9944 - val_loss: 1263.4996\n",
      "Epoch 75/500\n",
      "24/24 [==============================] - 0s 4ms/step - loss: 1260.4213 - val_loss: 1248.2698\n",
      "Epoch 76/500\n",
      "24/24 [==============================] - 0s 4ms/step - loss: 1231.3431 - val_loss: 1233.3635\n",
      "Epoch 77/500\n",
      "24/24 [==============================] - 0s 4ms/step - loss: 1202.7554 - val_loss: 1218.7776\n",
      "Epoch 78/500\n",
      "24/24 [==============================] - 0s 4ms/step - loss: 1174.6536 - val_loss: 1204.5077\n",
      "Epoch 79/500\n",
      "24/24 [==============================] - 0s 4ms/step - loss: 1147.0311 - val_loss: 1190.5508\n",
      "Epoch 80/500\n",
      "24/24 [==============================] - 0s 4ms/step - loss: 1119.8846 - val_loss: 1176.9034\n",
      "Epoch 81/500\n",
      "24/24 [==============================] - 0s 5ms/step - loss: 1093.2089 - val_loss: 1163.5619\n",
      "Epoch 82/500\n",
      "24/24 [==============================] - 0s 4ms/step - loss: 1066.9989 - val_loss: 1150.5225\n",
      "Epoch 83/500\n",
      "24/24 [==============================] - 0s 4ms/step - loss: 1041.2500 - val_loss: 1137.7817\n",
      "Epoch 84/500\n",
      "24/24 [==============================] - 0s 5ms/step - loss: 1015.9574 - val_loss: 1125.3365\n",
      "Epoch 85/500\n",
      "24/24 [==============================] - 0s 9ms/step - loss: 991.1169 - val_loss: 1113.1836\n",
      "Epoch 86/500\n",
      "24/24 [==============================] - 0s 4ms/step - loss: 966.7228 - val_loss: 1101.3182\n",
      "Epoch 87/500\n",
      "24/24 [==============================] - 0s 5ms/step - loss: 942.7706 - val_loss: 1089.7380\n",
      "Epoch 88/500\n",
      "24/24 [==============================] - 0s 5ms/step - loss: 919.2561 - val_loss: 1078.4393\n",
      "Epoch 89/500\n",
      "24/24 [==============================] - 0s 4ms/step - loss: 896.1747 - val_loss: 1067.4187\n",
      "Epoch 90/500\n",
      "24/24 [==============================] - 0s 5ms/step - loss: 873.5214 - val_loss: 1056.6727\n",
      "Epoch 91/500\n",
      "24/24 [==============================] - 0s 4ms/step - loss: 851.2916 - val_loss: 1046.1979\n",
      "Epoch 92/500\n",
      "24/24 [==============================] - 0s 3ms/step - loss: 829.4811 - val_loss: 1035.9908\n",
      "Epoch 93/500\n",
      "24/24 [==============================] - 0s 4ms/step - loss: 808.0848 - val_loss: 1026.0480\n",
      "Epoch 94/500\n",
      "24/24 [==============================] - 0s 4ms/step - loss: 787.0980 - val_loss: 1016.3664\n",
      "Epoch 95/500\n",
      "24/24 [==============================] - 0s 4ms/step - loss: 766.5166 - val_loss: 1006.9420\n",
      "Epoch 96/500\n",
      "24/24 [==============================] - 0s 4ms/step - loss: 746.3359 - val_loss: 997.7720\n",
      "Epoch 97/500\n",
      "24/24 [==============================] - 0s 4ms/step - loss: 726.5513 - val_loss: 988.8532\n",
      "Epoch 98/500\n",
      "24/24 [==============================] - 0s 4ms/step - loss: 707.1586 - val_loss: 980.1818\n",
      "Epoch 99/500\n",
      "24/24 [==============================] - 0s 4ms/step - loss: 688.1525 - val_loss: 971.7542\n",
      "Epoch 100/500\n",
      "24/24 [==============================] - 0s 5ms/step - loss: 669.5293 - val_loss: 963.5674\n",
      "Epoch 101/500\n",
      "24/24 [==============================] - 0s 5ms/step - loss: 651.2838 - val_loss: 955.6183\n",
      "Epoch 102/500\n",
      "24/24 [==============================] - 0s 5ms/step - loss: 633.4122 - val_loss: 947.9030\n",
      "Epoch 103/500\n",
      "24/24 [==============================] - 0s 5ms/step - loss: 615.9094 - val_loss: 940.4186\n",
      "Epoch 104/500\n",
      "24/24 [==============================] - 0s 5ms/step - loss: 598.7719 - val_loss: 933.1617\n",
      "Epoch 105/500\n",
      "24/24 [==============================] - 0s 5ms/step - loss: 581.9944 - val_loss: 926.1290\n",
      "Epoch 106/500\n",
      "24/24 [==============================] - 0s 4ms/step - loss: 565.5731 - val_loss: 919.3170\n",
      "Epoch 107/500\n",
      "24/24 [==============================] - 0s 4ms/step - loss: 549.5028 - val_loss: 912.7227\n",
      "Epoch 108/500\n",
      "24/24 [==============================] - 0s 4ms/step - loss: 533.7799 - val_loss: 906.3424\n",
      "Epoch 109/500\n",
      "24/24 [==============================] - 0s 4ms/step - loss: 518.3998 - val_loss: 900.1733\n",
      "Epoch 110/500\n",
      "24/24 [==============================] - 0s 5ms/step - loss: 503.3577 - val_loss: 894.2119\n",
      "Epoch 111/500\n",
      "24/24 [==============================] - 0s 4ms/step - loss: 488.6494 - val_loss: 888.4543\n",
      "Epoch 112/500\n",
      "24/24 [==============================] - 0s 5ms/step - loss: 474.2708 - val_loss: 882.8985\n",
      "Epoch 113/500\n",
      "24/24 [==============================] - 0s 4ms/step - loss: 460.2175 - val_loss: 877.5402\n",
      "Epoch 114/500\n",
      "24/24 [==============================] - 0s 4ms/step - loss: 446.4850 - val_loss: 872.3764\n",
      "Epoch 115/500\n",
      "24/24 [==============================] - 0s 8ms/step - loss: 433.0690 - val_loss: 867.4037\n",
      "Epoch 116/500\n",
      "24/24 [==============================] - 0s 6ms/step - loss: 419.9648 - val_loss: 862.6193\n",
      "Epoch 117/500\n",
      "24/24 [==============================] - 0s 5ms/step - loss: 407.1691 - val_loss: 858.0199\n",
      "Epoch 118/500\n",
      "24/24 [==============================] - 0s 4ms/step - loss: 394.6767 - val_loss: 853.6016\n",
      "Epoch 119/500\n",
      "24/24 [==============================] - 0s 5ms/step - loss: 382.4833 - val_loss: 849.3618\n",
      "Epoch 120/500\n",
      "24/24 [==============================] - 0s 5ms/step - loss: 370.5854 - val_loss: 845.2971\n",
      "Epoch 121/500\n",
      "24/24 [==============================] - 0s 5ms/step - loss: 358.9780 - val_loss: 841.4041\n",
      "Epoch 122/500\n",
      "24/24 [==============================] - 0s 5ms/step - loss: 347.6571 - val_loss: 837.6799\n",
      "Epoch 123/500\n",
      "24/24 [==============================] - 0s 4ms/step - loss: 336.6187 - val_loss: 834.1210\n",
      "Epoch 124/500\n",
      "24/24 [==============================] - 0s 4ms/step - loss: 325.8583 - val_loss: 830.7245\n",
      "Epoch 125/500\n",
      "24/24 [==============================] - 0s 5ms/step - loss: 315.3716 - val_loss: 827.4868\n",
      "Epoch 126/500\n",
      "24/24 [==============================] - 0s 5ms/step - loss: 305.1540 - val_loss: 824.4050\n",
      "Epoch 127/500\n",
      "24/24 [==============================] - 0s 5ms/step - loss: 295.2018 - val_loss: 821.4756\n",
      "Epoch 128/500\n",
      "24/24 [==============================] - 0s 5ms/step - loss: 285.5108 - val_loss: 818.6960\n",
      "Epoch 129/500\n",
      "24/24 [==============================] - 0s 5ms/step - loss: 276.0768 - val_loss: 816.0624\n",
      "Epoch 130/500\n",
      "24/24 [==============================] - 0s 5ms/step - loss: 266.8953 - val_loss: 813.5722\n",
      "Epoch 131/500\n",
      "24/24 [==============================] - 0s 4ms/step - loss: 257.9625 - val_loss: 811.2217\n",
      "Epoch 132/500\n",
      "24/24 [==============================] - 0s 4ms/step - loss: 249.2742 - val_loss: 809.0081\n",
      "Epoch 133/500\n",
      "24/24 [==============================] - 0s 5ms/step - loss: 240.8260 - val_loss: 806.9281\n",
      "Epoch 134/500\n",
      "24/24 [==============================] - 0s 4ms/step - loss: 232.6141 - val_loss: 804.9789\n",
      "Epoch 135/500\n",
      "24/24 [==============================] - 0s 4ms/step - loss: 224.6342 - val_loss: 803.1570\n",
      "Epoch 136/500\n",
      "24/24 [==============================] - 0s 5ms/step - loss: 216.8824 - val_loss: 801.4594\n",
      "Epoch 137/500\n",
      "24/24 [==============================] - 0s 4ms/step - loss: 209.3540 - val_loss: 799.8831\n",
      "Epoch 138/500\n",
      "24/24 [==============================] - 0s 4ms/step - loss: 202.0457 - val_loss: 798.4251\n",
      "Epoch 139/500\n",
      "24/24 [==============================] - 0s 4ms/step - loss: 194.9532 - val_loss: 797.0822\n",
      "Epoch 140/500\n",
      "24/24 [==============================] - 0s 4ms/step - loss: 188.0721 - val_loss: 795.8511\n",
      "Epoch 141/500\n",
      "24/24 [==============================] - 0s 4ms/step - loss: 181.3986 - val_loss: 794.7294\n",
      "Epoch 142/500\n",
      "24/24 [==============================] - 0s 3ms/step - loss: 174.9287 - val_loss: 793.7136\n",
      "Epoch 143/500\n",
      "24/24 [==============================] - 0s 4ms/step - loss: 168.6587 - val_loss: 792.8008\n",
      "Epoch 144/500\n",
      "24/24 [==============================] - 0s 8ms/step - loss: 162.5843 - val_loss: 791.9880\n",
      "Epoch 145/500\n",
      "24/24 [==============================] - 0s 4ms/step - loss: 156.7016 - val_loss: 791.2723\n",
      "Epoch 146/500\n",
      "24/24 [==============================] - 0s 4ms/step - loss: 151.0067 - val_loss: 790.6508\n",
      "Epoch 147/500\n",
      "24/24 [==============================] - 0s 4ms/step - loss: 145.4956 - val_loss: 790.1204\n",
      "Epoch 148/500\n",
      "24/24 [==============================] - 0s 4ms/step - loss: 140.1646 - val_loss: 789.6783\n",
      "Epoch 149/500\n",
      "24/24 [==============================] - 0s 4ms/step - loss: 135.0096 - val_loss: 789.3217\n",
      "Epoch 150/500\n",
      "24/24 [==============================] - 0s 4ms/step - loss: 130.0271 - val_loss: 789.0474\n",
      "Epoch 151/500\n",
      "24/24 [==============================] - 0s 4ms/step - loss: 125.2131 - val_loss: 788.8529\n",
      "Epoch 152/500\n",
      "24/24 [==============================] - 0s 6ms/step - loss: 120.5638 - val_loss: 788.7352\n",
      "Epoch 153/500\n",
      "24/24 [==============================] - 0s 4ms/step - loss: 116.0756 - val_loss: 788.6915\n",
      "Epoch 154/500\n",
      "24/24 [==============================] - 0s 5ms/step - loss: 111.7442 - val_loss: 788.7192\n",
      "Epoch 155/500\n",
      "24/24 [==============================] - 0s 3ms/step - loss: 107.5663 - val_loss: 788.8153\n",
      "Epoch 156/500\n",
      "24/24 [==============================] - 0s 4ms/step - loss: 103.5385 - val_loss: 788.9773\n",
      "Epoch 157/500\n",
      "24/24 [==============================] - 0s 4ms/step - loss: 99.6566 - val_loss: 789.2021\n",
      "Epoch 158/500\n",
      "24/24 [==============================] - 0s 4ms/step - loss: 95.9174 - val_loss: 789.4877\n",
      "Epoch 159/500\n",
      "24/24 [==============================] - 0s 4ms/step - loss: 92.3170 - val_loss: 789.8308\n",
      "Epoch 160/500\n",
      "24/24 [==============================] - 0s 4ms/step - loss: 88.8520 - val_loss: 790.2292\n",
      "Epoch 161/500\n",
      "24/24 [==============================] - 0s 4ms/step - loss: 85.5190 - val_loss: 790.6802\n",
      "Epoch 162/500\n",
      "24/24 [==============================] - 0s 4ms/step - loss: 82.3143 - val_loss: 791.1814\n",
      "Epoch 163/500\n",
      "24/24 [==============================] - 0s 4ms/step - loss: 79.2344 - val_loss: 791.7303\n",
      "Epoch 164/500\n",
      "24/24 [==============================] - 0s 5ms/step - loss: 76.2760 - val_loss: 792.3242\n",
      "Epoch 165/500\n",
      "24/24 [==============================] - 0s 4ms/step - loss: 73.4356 - val_loss: 792.9606\n",
      "Epoch 166/500\n",
      "24/24 [==============================] - 0s 3ms/step - loss: 70.7103 - val_loss: 793.6375\n",
      "Epoch 167/500\n",
      "24/24 [==============================] - 0s 7ms/step - loss: 68.0963 - val_loss: 794.3523\n",
      "Epoch 168/500\n",
      "24/24 [==============================] - 0s 5ms/step - loss: 65.5907 - val_loss: 795.1027\n",
      "Epoch 169/500\n",
      "24/24 [==============================] - 0s 4ms/step - loss: 63.1901 - val_loss: 795.8864\n",
      "Epoch 170/500\n",
      "24/24 [==============================] - 0s 6ms/step - loss: 60.8915 - val_loss: 796.7012\n",
      "Epoch 171/500\n",
      "24/24 [==============================] - 0s 6ms/step - loss: 58.6918 - val_loss: 797.5450\n",
      "Epoch 172/500\n",
      "24/24 [==============================] - 0s 4ms/step - loss: 56.5874 - val_loss: 798.4156\n",
      "Epoch 173/500\n",
      "24/24 [==============================] - 0s 4ms/step - loss: 54.5758 - val_loss: 799.3107\n",
      "Epoch 174/500\n",
      "24/24 [==============================] - 0s 4ms/step - loss: 52.6538 - val_loss: 800.2285\n",
      "Epoch 175/500\n",
      "24/24 [==============================] - 0s 4ms/step - loss: 50.8185 - val_loss: 801.1667\n",
      "Epoch 176/500\n",
      "24/24 [==============================] - 0s 4ms/step - loss: 49.0671 - val_loss: 802.1238\n",
      "Epoch 177/500\n",
      "24/24 [==============================] - 0s 4ms/step - loss: 47.3968 - val_loss: 803.0973\n",
      "Epoch 178/500\n",
      "24/24 [==============================] - 0s 4ms/step - loss: 45.8045 - val_loss: 804.0858\n",
      "Epoch 179/500\n",
      "24/24 [==============================] - 0s 4ms/step - loss: 44.2878 - val_loss: 805.0873\n",
      "Epoch 180/500\n",
      "24/24 [==============================] - 0s 4ms/step - loss: 42.8437 - val_loss: 806.1000\n",
      "Epoch 181/500\n",
      "24/24 [==============================] - 0s 4ms/step - loss: 41.4698 - val_loss: 807.1219\n",
      "Epoch 182/500\n",
      "24/24 [==============================] - 0s 4ms/step - loss: 40.1636 - val_loss: 808.1520\n",
      "Epoch 183/500\n",
      "24/24 [==============================] - 0s 5ms/step - loss: 38.9221 - val_loss: 809.1882\n",
      "Epoch 184/500\n",
      "24/24 [==============================] - 0s 4ms/step - loss: 37.7434 - val_loss: 810.2288\n",
      "Epoch 185/500\n",
      "24/24 [==============================] - 0s 5ms/step - loss: 36.6248 - val_loss: 811.2727\n",
      "Epoch 186/500\n",
      "24/24 [==============================] - 0s 4ms/step - loss: 35.5638 - val_loss: 812.3180\n",
      "Epoch 187/500\n",
      "24/24 [==============================] - 0s 4ms/step - loss: 34.5585 - val_loss: 813.3638\n",
      "Epoch 188/500\n",
      "24/24 [==============================] - 0s 4ms/step - loss: 33.6062 - val_loss: 814.4083\n",
      "Epoch 189/500\n",
      "24/24 [==============================] - 0s 4ms/step - loss: 32.7049 - val_loss: 815.4505\n",
      "Epoch 190/500\n",
      "24/24 [==============================] - 0s 4ms/step - loss: 31.8525 - val_loss: 816.4886\n",
      "Epoch 191/500\n",
      "24/24 [==============================] - 0s 4ms/step - loss: 31.0470 - val_loss: 817.5220\n",
      "Epoch 192/500\n",
      "24/24 [==============================] - 0s 3ms/step - loss: 30.2861 - val_loss: 818.5495\n",
      "Epoch 193/500\n",
      "24/24 [==============================] - 0s 3ms/step - loss: 29.5680 - val_loss: 819.5695\n",
      "Epoch 194/500\n",
      "24/24 [==============================] - 0s 4ms/step - loss: 28.8908 - val_loss: 820.5815\n",
      "Epoch 195/500\n",
      "24/24 [==============================] - 0s 4ms/step - loss: 28.2526 - val_loss: 821.5842\n",
      "Epoch 196/500\n",
      "24/24 [==============================] - 0s 4ms/step - loss: 27.6515 - val_loss: 822.5768\n",
      "Epoch 197/500\n",
      "24/24 [==============================] - 0s 9ms/step - loss: 27.0859 - val_loss: 823.5585\n",
      "Epoch 198/500\n",
      "24/24 [==============================] - 0s 5ms/step - loss: 26.5541 - val_loss: 824.5281\n",
      "Epoch 199/500\n",
      "24/24 [==============================] - 0s 4ms/step - loss: 26.0544 - val_loss: 825.4852\n",
      "Epoch 200/500\n",
      "24/24 [==============================] - 0s 4ms/step - loss: 25.5852 - val_loss: 826.4293\n",
      "Epoch 201/500\n",
      "24/24 [==============================] - 0s 4ms/step - loss: 25.1449 - val_loss: 827.3589\n",
      "Epoch 202/500\n",
      "24/24 [==============================] - 0s 4ms/step - loss: 24.7323 - val_loss: 828.2742\n",
      "Epoch 203/500\n",
      "24/24 [==============================] - 0s 5ms/step - loss: 24.3456 - val_loss: 829.1740\n",
      "Epoch 204/500\n",
      "24/24 [==============================] - 0s 5ms/step - loss: 23.9838 - val_loss: 830.0580\n",
      "Epoch 205/500\n",
      "24/24 [==============================] - 0s 5ms/step - loss: 23.6454 - val_loss: 830.9258\n",
      "Epoch 206/500\n",
      "24/24 [==============================] - 0s 6ms/step - loss: 23.3291 - val_loss: 831.7768\n",
      "Epoch 207/500\n",
      "24/24 [==============================] - 0s 5ms/step - loss: 23.0339 - val_loss: 832.6108\n",
      "Epoch 208/500\n",
      "24/24 [==============================] - 0s 5ms/step - loss: 22.7583 - val_loss: 833.4275\n",
      "Epoch 209/500\n",
      "24/24 [==============================] - 0s 5ms/step - loss: 22.5014 - val_loss: 834.2263\n",
      "Epoch 210/500\n",
      "24/24 [==============================] - 0s 4ms/step - loss: 22.2621 - val_loss: 835.0069\n",
      "Epoch 211/500\n",
      "24/24 [==============================] - 0s 3ms/step - loss: 22.0394 - val_loss: 835.7696\n",
      "Epoch 212/500\n",
      "24/24 [==============================] - 0s 3ms/step - loss: 21.8323 - val_loss: 836.5137\n",
      "Epoch 213/500\n",
      "24/24 [==============================] - 0s 3ms/step - loss: 21.6398 - val_loss: 837.2393\n",
      "Epoch 214/500\n",
      "24/24 [==============================] - 0s 4ms/step - loss: 21.4610 - val_loss: 837.9459\n",
      "Epoch 215/500\n",
      "24/24 [==============================] - 0s 4ms/step - loss: 21.2953 - val_loss: 838.6340\n",
      "Epoch 216/500\n",
      "24/24 [==============================] - 0s 4ms/step - loss: 21.1416 - val_loss: 839.3035\n",
      "Epoch 217/500\n",
      "24/24 [==============================] - 0s 4ms/step - loss: 20.9993 - val_loss: 839.9542\n",
      "Epoch 218/500\n",
      "24/24 [==============================] - 0s 4ms/step - loss: 20.8674 - val_loss: 840.5860\n",
      "Epoch 219/500\n",
      "24/24 [==============================] - 0s 4ms/step - loss: 20.7456 - val_loss: 841.1990\n",
      "Epoch 220/500\n",
      "24/24 [==============================] - 0s 3ms/step - loss: 20.6331 - val_loss: 841.7939\n",
      "Epoch 221/500\n",
      "24/24 [==============================] - 0s 7ms/step - loss: 20.5291 - val_loss: 842.3700\n",
      "Epoch 222/500\n",
      "24/24 [==============================] - 0s 4ms/step - loss: 20.4332 - val_loss: 842.9278\n",
      "Epoch 223/500\n",
      "24/24 [==============================] - 0s 4ms/step - loss: 20.3448 - val_loss: 843.4675\n",
      "Epoch 224/500\n",
      "24/24 [==============================] - 0s 4ms/step - loss: 20.2634 - val_loss: 843.9891\n",
      "Epoch 225/500\n",
      "24/24 [==============================] - 0s 4ms/step - loss: 20.1885 - val_loss: 844.4929\n",
      "Epoch 226/500\n",
      "24/24 [==============================] - 0s 4ms/step - loss: 20.1197 - val_loss: 844.9792\n",
      "Epoch 227/500\n",
      "24/24 [==============================] - 0s 4ms/step - loss: 20.0564 - val_loss: 845.4485\n",
      "Epoch 228/500\n",
      "24/24 [==============================] - 0s 4ms/step - loss: 19.9983 - val_loss: 845.9004\n",
      "Epoch 229/500\n",
      "24/24 [==============================] - 0s 4ms/step - loss: 19.9450 - val_loss: 846.3359\n",
      "Epoch 230/500\n",
      "24/24 [==============================] - 0s 4ms/step - loss: 19.8961 - val_loss: 846.7548\n",
      "Epoch 231/500\n",
      "24/24 [==============================] - 0s 5ms/step - loss: 19.8514 - val_loss: 847.1580\n",
      "Epoch 232/500\n",
      "24/24 [==============================] - 0s 5ms/step - loss: 19.8104 - val_loss: 847.5448\n",
      "Epoch 233/500\n",
      "24/24 [==============================] - 0s 4ms/step - loss: 19.7730 - val_loss: 847.9165\n",
      "Epoch 234/500\n",
      "24/24 [==============================] - 0s 4ms/step - loss: 19.7388 - val_loss: 848.2731\n",
      "Epoch 235/500\n",
      "24/24 [==============================] - 0s 4ms/step - loss: 19.7075 - val_loss: 848.6150\n",
      "Epoch 236/500\n",
      "24/24 [==============================] - 0s 4ms/step - loss: 19.6789 - val_loss: 848.9422\n",
      "Epoch 237/500\n",
      "24/24 [==============================] - 0s 4ms/step - loss: 19.6529 - val_loss: 849.2556\n",
      "Epoch 238/500\n",
      "24/24 [==============================] - 0s 4ms/step - loss: 19.6292 - val_loss: 849.5552\n",
      "Epoch 239/500\n",
      "24/24 [==============================] - 0s 4ms/step - loss: 19.6077 - val_loss: 849.8421\n",
      "Epoch 240/500\n",
      "24/24 [==============================] - 0s 4ms/step - loss: 19.5880 - val_loss: 850.1157\n",
      "Epoch 241/500\n",
      "24/24 [==============================] - 0s 4ms/step - loss: 19.5701 - val_loss: 850.3767\n",
      "Epoch 242/500\n",
      "24/24 [==============================] - 0s 4ms/step - loss: 19.5539 - val_loss: 850.6257\n",
      "Epoch 243/500\n",
      "24/24 [==============================] - 0s 4ms/step - loss: 19.5392 - val_loss: 850.8632\n",
      "Epoch 244/500\n",
      "24/24 [==============================] - 0s 4ms/step - loss: 19.5258 - val_loss: 851.0890\n",
      "Epoch 245/500\n",
      "24/24 [==============================] - 0s 4ms/step - loss: 19.5137 - val_loss: 851.3040\n",
      "Epoch 246/500\n",
      "24/24 [==============================] - 0s 4ms/step - loss: 19.5027 - val_loss: 851.5083\n",
      "Epoch 247/500\n",
      "24/24 [==============================] - 0s 4ms/step - loss: 19.4928 - val_loss: 851.7026\n",
      "Epoch 248/500\n",
      "24/24 [==============================] - 0s 7ms/step - loss: 19.4838 - val_loss: 851.8868\n",
      "Epoch 249/500\n",
      "24/24 [==============================] - 0s 4ms/step - loss: 19.4757 - val_loss: 852.0615\n",
      "Epoch 250/500\n",
      "24/24 [==============================] - 0s 4ms/step - loss: 19.4683 - val_loss: 852.2272\n",
      "Epoch 251/500\n",
      "24/24 [==============================] - 0s 4ms/step - loss: 19.4617 - val_loss: 852.3839\n",
      "Epoch 252/500\n",
      "24/24 [==============================] - 0s 4ms/step - loss: 19.4558 - val_loss: 852.5322\n",
      "Epoch 253/500\n",
      "24/24 [==============================] - 0s 4ms/step - loss: 19.4505 - val_loss: 852.6727\n",
      "Epoch 254/500\n",
      "24/24 [==============================] - 0s 4ms/step - loss: 19.4456 - val_loss: 852.8052\n",
      "Epoch 255/500\n",
      "24/24 [==============================] - 0s 4ms/step - loss: 19.4413 - val_loss: 852.9304\n",
      "Epoch 256/500\n",
      "24/24 [==============================] - 0s 4ms/step - loss: 19.4374 - val_loss: 853.0483\n",
      "Epoch 257/500\n",
      "24/24 [==============================] - 0s 4ms/step - loss: 19.4340 - val_loss: 853.1594\n",
      "Epoch 258/500\n",
      "24/24 [==============================] - 0s 4ms/step - loss: 19.4310 - val_loss: 853.2645\n",
      "Epoch 259/500\n",
      "24/24 [==============================] - 0s 4ms/step - loss: 19.4282 - val_loss: 853.3630\n",
      "Epoch 260/500\n",
      "24/24 [==============================] - 0s 4ms/step - loss: 19.4258 - val_loss: 853.4558\n",
      "Epoch 261/500\n",
      "24/24 [==============================] - 0s 4ms/step - loss: 19.4236 - val_loss: 853.5428\n",
      "Epoch 262/500\n",
      "24/24 [==============================] - 0s 4ms/step - loss: 19.4217 - val_loss: 853.6243\n",
      "Epoch 263/500\n",
      "24/24 [==============================] - 0s 4ms/step - loss: 19.4200 - val_loss: 853.7009\n",
      "Epoch 264/500\n",
      "24/24 [==============================] - 0s 4ms/step - loss: 19.4186 - val_loss: 853.7727\n",
      "Epoch 265/500\n",
      "24/24 [==============================] - 0s 5ms/step - loss: 19.4174 - val_loss: 853.8400\n",
      "Epoch 266/500\n",
      "24/24 [==============================] - 0s 5ms/step - loss: 19.4163 - val_loss: 853.9027\n",
      "Epoch 267/500\n",
      "24/24 [==============================] - 0s 4ms/step - loss: 19.4153 - val_loss: 853.9614\n",
      "Epoch 268/500\n",
      "24/24 [==============================] - 0s 4ms/step - loss: 19.4145 - val_loss: 854.0161\n",
      "Epoch 269/500\n",
      "24/24 [==============================] - 0s 4ms/step - loss: 19.4139 - val_loss: 854.0671\n",
      "Epoch 270/500\n",
      "24/24 [==============================] - 0s 4ms/step - loss: 19.4135 - val_loss: 854.1148\n",
      "Epoch 271/500\n",
      "24/24 [==============================] - 0s 4ms/step - loss: 19.4130 - val_loss: 854.1591\n",
      "Epoch 272/500\n",
      "24/24 [==============================] - 0s 4ms/step - loss: 19.4128 - val_loss: 854.2003\n",
      "Epoch 273/500\n",
      "24/24 [==============================] - 0s 8ms/step - loss: 19.4126 - val_loss: 854.2388\n",
      "Epoch 274/500\n",
      "24/24 [==============================] - 0s 5ms/step - loss: 19.4124 - val_loss: 854.2744\n",
      "Epoch 275/500\n",
      "24/24 [==============================] - 0s 4ms/step - loss: 19.4124 - val_loss: 854.3075\n",
      "Epoch 276/500\n",
      "24/24 [==============================] - 0s 4ms/step - loss: 19.4124 - val_loss: 854.3380\n",
      "Epoch 277/500\n",
      "24/24 [==============================] - 0s 4ms/step - loss: 19.4126 - val_loss: 854.3662\n",
      "Epoch 278/500\n",
      "24/24 [==============================] - 0s 4ms/step - loss: 19.4127 - val_loss: 854.3925\n",
      "Epoch 279/500\n",
      "24/24 [==============================] - 0s 4ms/step - loss: 19.4130 - val_loss: 854.4165\n",
      "Epoch 280/500\n",
      "24/24 [==============================] - 0s 4ms/step - loss: 19.4132 - val_loss: 854.4387\n",
      "Epoch 281/500\n",
      "24/24 [==============================] - 0s 4ms/step - loss: 19.4136 - val_loss: 854.4593\n",
      "Epoch 282/500\n",
      "24/24 [==============================] - 0s 4ms/step - loss: 19.4139 - val_loss: 854.4780\n",
      "Epoch 283/500\n",
      "24/24 [==============================] - 0s 4ms/step - loss: 19.4143 - val_loss: 854.4954\n",
      "Epoch 284/500\n",
      "24/24 [==============================] - 0s 4ms/step - loss: 19.4147 - val_loss: 854.5114\n",
      "Epoch 285/500\n",
      "24/24 [==============================] - 0s 4ms/step - loss: 19.4152 - val_loss: 854.5258\n",
      "Epoch 286/500\n",
      "24/24 [==============================] - 0s 4ms/step - loss: 19.4157 - val_loss: 854.5390\n",
      "Epoch 287/500\n",
      "24/24 [==============================] - 0s 4ms/step - loss: 19.4162 - val_loss: 854.5508\n",
      "Epoch 288/500\n",
      "24/24 [==============================] - 0s 4ms/step - loss: 19.4168 - val_loss: 854.5618\n",
      "Epoch 289/500\n",
      "24/24 [==============================] - 0s 4ms/step - loss: 19.4173 - val_loss: 854.5715\n",
      "Epoch 290/500\n",
      "24/24 [==============================] - 0s 4ms/step - loss: 19.4179 - val_loss: 854.5804\n",
      "Epoch 291/500\n",
      "24/24 [==============================] - 0s 4ms/step - loss: 19.4185 - val_loss: 854.5886\n",
      "Epoch 292/500\n",
      "24/24 [==============================] - 0s 4ms/step - loss: 19.4191 - val_loss: 854.5959\n",
      "Epoch 293/500\n",
      "24/24 [==============================] - 0s 4ms/step - loss: 19.4198 - val_loss: 854.6024\n",
      "Epoch 294/500\n",
      "24/24 [==============================] - 0s 4ms/step - loss: 19.4205 - val_loss: 854.6082\n",
      "Epoch 295/500\n",
      "24/24 [==============================] - 0s 4ms/step - loss: 19.4211 - val_loss: 854.6136\n",
      "Epoch 296/500\n",
      "24/24 [==============================] - 0s 4ms/step - loss: 19.4218 - val_loss: 854.6182\n",
      "Epoch 297/500\n",
      "24/24 [==============================] - 0s 8ms/step - loss: 19.4225 - val_loss: 854.6222\n",
      "Epoch 298/500\n",
      "24/24 [==============================] - 0s 5ms/step - loss: 19.4232 - val_loss: 854.6260\n",
      "Epoch 299/500\n",
      "24/24 [==============================] - 0s 4ms/step - loss: 19.4239 - val_loss: 854.6290\n",
      "Epoch 300/500\n",
      "24/24 [==============================] - 0s 4ms/step - loss: 19.4246 - val_loss: 854.6317\n",
      "Epoch 301/500\n",
      "24/24 [==============================] - 0s 4ms/step - loss: 19.4253 - val_loss: 854.6340\n",
      "Epoch 302/500\n",
      "24/24 [==============================] - 0s 4ms/step - loss: 19.4260 - val_loss: 854.6361\n",
      "Epoch 303/500\n",
      "24/24 [==============================] - 0s 4ms/step - loss: 19.4267 - val_loss: 854.6378\n",
      "Epoch 304/500\n",
      "24/24 [==============================] - 0s 4ms/step - loss: 19.4274 - val_loss: 854.6390\n",
      "Epoch 305/500\n",
      "24/24 [==============================] - 0s 5ms/step - loss: 19.4282 - val_loss: 854.6401\n",
      "Epoch 306/500\n",
      "24/24 [==============================] - 0s 4ms/step - loss: 19.4289 - val_loss: 854.6409\n",
      "Epoch 307/500\n",
      "24/24 [==============================] - 0s 4ms/step - loss: 19.4296 - val_loss: 854.6417\n",
      "Epoch 308/500\n",
      "24/24 [==============================] - 0s 4ms/step - loss: 19.4303 - val_loss: 854.6420\n",
      "Epoch 309/500\n",
      "24/24 [==============================] - 0s 4ms/step - loss: 19.4311 - val_loss: 854.6420\n",
      "Epoch 310/500\n",
      "24/24 [==============================] - 0s 4ms/step - loss: 19.4318 - val_loss: 854.6420\n",
      "Epoch 311/500\n",
      "24/24 [==============================] - 0s 4ms/step - loss: 19.4325 - val_loss: 854.6420\n",
      "Epoch 312/500\n",
      "24/24 [==============================] - 0s 4ms/step - loss: 19.4332 - val_loss: 854.6417\n",
      "Epoch 313/500\n",
      "24/24 [==============================] - 0s 4ms/step - loss: 19.4340 - val_loss: 854.6413\n",
      "Epoch 314/500\n",
      "24/24 [==============================] - 0s 4ms/step - loss: 19.4346 - val_loss: 854.6409\n",
      "Epoch 315/500\n",
      "24/24 [==============================] - 0s 4ms/step - loss: 19.4353 - val_loss: 854.6401\n",
      "Epoch 316/500\n",
      "24/24 [==============================] - 0s 4ms/step - loss: 19.4360 - val_loss: 854.6392\n",
      "Epoch 317/500\n",
      "24/24 [==============================] - 0s 4ms/step - loss: 19.4368 - val_loss: 854.6381\n",
      "Epoch 318/500\n",
      "24/24 [==============================] - 0s 4ms/step - loss: 19.4374 - val_loss: 854.6373\n",
      "Epoch 319/500\n",
      "24/24 [==============================] - 0s 8ms/step - loss: 19.4381 - val_loss: 854.6363\n",
      "Epoch 320/500\n",
      "24/24 [==============================] - 0s 5ms/step - loss: 19.4388 - val_loss: 854.6354\n",
      "Epoch 321/500\n",
      "24/24 [==============================] - 0s 5ms/step - loss: 19.4395 - val_loss: 854.6342\n",
      "Epoch 322/500\n",
      "24/24 [==============================] - 0s 6ms/step - loss: 19.4402 - val_loss: 854.6330\n",
      "Epoch 323/500\n",
      "24/24 [==============================] - 0s 5ms/step - loss: 19.4409 - val_loss: 854.6321\n",
      "Epoch 324/500\n",
      "24/24 [==============================] - 0s 5ms/step - loss: 19.4415 - val_loss: 854.6305\n",
      "Epoch 325/500\n",
      "24/24 [==============================] - 0s 5ms/step - loss: 19.4422 - val_loss: 854.6293\n",
      "Epoch 326/500\n",
      "24/24 [==============================] - 0s 4ms/step - loss: 19.4428 - val_loss: 854.6283\n",
      "Epoch 327/500\n",
      "24/24 [==============================] - 0s 4ms/step - loss: 19.4434 - val_loss: 854.6269\n",
      "Epoch 328/500\n",
      "24/24 [==============================] - 0s 4ms/step - loss: 19.4441 - val_loss: 854.6252\n",
      "Epoch 329/500\n",
      "24/24 [==============================] - 0s 5ms/step - loss: 19.4447 - val_loss: 854.6240\n",
      "Epoch 330/500\n",
      "24/24 [==============================] - 0s 4ms/step - loss: 19.4453 - val_loss: 854.6227\n",
      "Epoch 331/500\n",
      "24/24 [==============================] - 0s 4ms/step - loss: 19.4460 - val_loss: 854.6215\n",
      "Epoch 332/500\n",
      "24/24 [==============================] - 0s 5ms/step - loss: 19.4466 - val_loss: 854.6199\n",
      "Epoch 333/500\n",
      "24/24 [==============================] - 0s 4ms/step - loss: 19.4472 - val_loss: 854.6188\n",
      "Epoch 334/500\n",
      "24/24 [==============================] - 0s 5ms/step - loss: 19.4478 - val_loss: 854.6176\n",
      "Epoch 335/500\n",
      "24/24 [==============================] - 0s 5ms/step - loss: 19.4483 - val_loss: 854.6162\n",
      "Epoch 336/500\n",
      "24/24 [==============================] - 0s 4ms/step - loss: 19.4489 - val_loss: 854.6150\n",
      "Epoch 337/500\n",
      "24/24 [==============================] - 0s 5ms/step - loss: 19.4495 - val_loss: 854.6135\n",
      "Epoch 338/500\n",
      "24/24 [==============================] - 0s 5ms/step - loss: 19.4501 - val_loss: 854.6124\n",
      "Epoch 339/500\n",
      "24/24 [==============================] - 0s 4ms/step - loss: 19.4506 - val_loss: 854.6108\n",
      "Epoch 340/500\n",
      "24/24 [==============================] - 0s 4ms/step - loss: 19.4512 - val_loss: 854.6094\n",
      "Epoch 341/500\n",
      "24/24 [==============================] - 0s 9ms/step - loss: 19.4517 - val_loss: 854.6082\n",
      "Epoch 342/500\n",
      "24/24 [==============================] - 0s 7ms/step - loss: 19.4523 - val_loss: 854.6071\n",
      "Epoch 343/500\n",
      "24/24 [==============================] - 0s 5ms/step - loss: 19.4528 - val_loss: 854.6058\n",
      "Epoch 344/500\n",
      "24/24 [==============================] - 0s 5ms/step - loss: 19.4533 - val_loss: 854.6047\n",
      "Epoch 345/500\n",
      "24/24 [==============================] - 0s 5ms/step - loss: 19.4538 - val_loss: 854.6033\n",
      "Epoch 346/500\n",
      "24/24 [==============================] - 0s 6ms/step - loss: 19.4543 - val_loss: 854.6021\n",
      "Epoch 347/500\n",
      "24/24 [==============================] - 0s 4ms/step - loss: 19.4548 - val_loss: 854.6010\n",
      "Epoch 348/500\n",
      "24/24 [==============================] - 0s 4ms/step - loss: 19.4553 - val_loss: 854.5999\n",
      "Epoch 349/500\n",
      "24/24 [==============================] - 0s 5ms/step - loss: 19.4558 - val_loss: 854.5985\n",
      "Epoch 350/500\n",
      "24/24 [==============================] - 0s 5ms/step - loss: 19.4563 - val_loss: 854.5975\n",
      "Epoch 351/500\n",
      "24/24 [==============================] - 0s 5ms/step - loss: 19.4567 - val_loss: 854.5962\n",
      "Epoch 352/500\n",
      "24/24 [==============================] - 0s 4ms/step - loss: 19.4572 - val_loss: 854.5948\n",
      "Epoch 353/500\n",
      "24/24 [==============================] - 0s 8ms/step - loss: 19.4577 - val_loss: 854.5938\n",
      "Epoch 354/500\n",
      "24/24 [==============================] - 0s 5ms/step - loss: 19.4581 - val_loss: 854.5924\n",
      "Epoch 355/500\n",
      "24/24 [==============================] - 0s 4ms/step - loss: 19.4585 - val_loss: 854.5912\n",
      "Epoch 356/500\n",
      "24/24 [==============================] - 0s 4ms/step - loss: 19.4590 - val_loss: 854.5903\n",
      "Epoch 357/500\n",
      "24/24 [==============================] - 0s 4ms/step - loss: 19.4594 - val_loss: 854.5890\n",
      "Epoch 358/500\n",
      "24/24 [==============================] - 0s 4ms/step - loss: 19.4598 - val_loss: 854.5881\n",
      "Epoch 359/500\n",
      "24/24 [==============================] - 0s 4ms/step - loss: 19.4602 - val_loss: 854.5869\n",
      "Epoch 360/500\n",
      "24/24 [==============================] - 0s 4ms/step - loss: 19.4607 - val_loss: 854.5857\n",
      "Epoch 361/500\n",
      "24/24 [==============================] - 0s 4ms/step - loss: 19.4610 - val_loss: 854.5848\n",
      "Epoch 362/500\n",
      "24/24 [==============================] - 0s 4ms/step - loss: 19.4614 - val_loss: 854.5837\n",
      "Epoch 363/500\n",
      "24/24 [==============================] - 0s 4ms/step - loss: 19.4618 - val_loss: 854.5828\n",
      "Epoch 364/500\n",
      "24/24 [==============================] - 0s 4ms/step - loss: 19.4622 - val_loss: 854.5818\n",
      "Epoch 365/500\n",
      "24/24 [==============================] - 0s 4ms/step - loss: 19.4626 - val_loss: 854.5811\n",
      "Epoch 366/500\n",
      "24/24 [==============================] - 0s 4ms/step - loss: 19.4629 - val_loss: 854.5802\n",
      "Epoch 367/500\n",
      "24/24 [==============================] - 0s 4ms/step - loss: 19.4633 - val_loss: 854.5793\n",
      "Epoch 368/500\n",
      "24/24 [==============================] - 0s 4ms/step - loss: 19.4636 - val_loss: 854.5786\n",
      "Epoch 369/500\n",
      "24/24 [==============================] - 0s 6ms/step - loss: 19.4639 - val_loss: 854.5774\n",
      "Epoch 370/500\n",
      "24/24 [==============================] - 0s 5ms/step - loss: 19.4643 - val_loss: 854.5765\n",
      "Epoch 371/500\n",
      "24/24 [==============================] - 0s 4ms/step - loss: 19.4647 - val_loss: 854.5757\n",
      "Epoch 372/500\n",
      "24/24 [==============================] - 0s 4ms/step - loss: 19.4649 - val_loss: 854.5746\n",
      "Epoch 373/500\n",
      "24/24 [==============================] - 0s 4ms/step - loss: 19.4653 - val_loss: 854.5737\n",
      "Epoch 374/500\n",
      "24/24 [==============================] - 0s 4ms/step - loss: 19.4656 - val_loss: 854.5730\n",
      "Epoch 375/500\n",
      "24/24 [==============================] - 0s 4ms/step - loss: 19.4659 - val_loss: 854.5718\n",
      "Epoch 376/500\n",
      "24/24 [==============================] - 0s 6ms/step - loss: 19.4662 - val_loss: 854.5710\n",
      "Epoch 377/500\n",
      "24/24 [==============================] - 0s 5ms/step - loss: 19.4666 - val_loss: 854.5704\n",
      "Epoch 378/500\n",
      "24/24 [==============================] - 0s 6ms/step - loss: 19.4668 - val_loss: 854.5696\n",
      "Epoch 379/500\n",
      "24/24 [==============================] - 0s 6ms/step - loss: 19.4671 - val_loss: 854.5687\n",
      "Epoch 380/500\n",
      "24/24 [==============================] - 0s 4ms/step - loss: 19.4674 - val_loss: 854.5679\n",
      "Epoch 381/500\n",
      "24/24 [==============================] - 0s 4ms/step - loss: 19.4676 - val_loss: 854.5673\n",
      "Epoch 382/500\n",
      "24/24 [==============================] - 0s 4ms/step - loss: 19.4679 - val_loss: 854.5665\n",
      "Epoch 383/500\n",
      "24/24 [==============================] - 0s 4ms/step - loss: 19.4682 - val_loss: 854.5656\n",
      "Epoch 384/500\n",
      "24/24 [==============================] - 0s 4ms/step - loss: 19.4684 - val_loss: 854.5648\n",
      "Epoch 385/500\n",
      "24/24 [==============================] - 0s 4ms/step - loss: 19.4687 - val_loss: 854.5638\n",
      "Epoch 386/500\n",
      "24/24 [==============================] - 0s 4ms/step - loss: 19.4689 - val_loss: 854.5633\n",
      "Epoch 387/500\n",
      "24/24 [==============================] - 0s 5ms/step - loss: 19.4692 - val_loss: 854.5621\n",
      "Epoch 388/500\n",
      "24/24 [==============================] - 0s 4ms/step - loss: 19.4695 - val_loss: 854.5618\n",
      "Epoch 389/500\n",
      "24/24 [==============================] - 0s 4ms/step - loss: 19.4696 - val_loss: 854.5611\n",
      "Epoch 390/500\n",
      "24/24 [==============================] - 0s 4ms/step - loss: 19.4699 - val_loss: 854.5602\n",
      "Epoch 391/500\n",
      "24/24 [==============================] - 0s 4ms/step - loss: 19.4701 - val_loss: 854.5597\n",
      "Epoch 392/500\n",
      "24/24 [==============================] - 0s 4ms/step - loss: 19.4703 - val_loss: 854.5592\n",
      "Epoch 393/500\n",
      "24/24 [==============================] - 0s 4ms/step - loss: 19.4705 - val_loss: 854.5582\n",
      "Epoch 394/500\n",
      "24/24 [==============================] - 0s 4ms/step - loss: 19.4708 - val_loss: 854.5577\n",
      "Epoch 395/500\n",
      "24/24 [==============================] - 0s 4ms/step - loss: 19.4710 - val_loss: 854.5573\n",
      "Epoch 396/500\n",
      "24/24 [==============================] - 0s 4ms/step - loss: 19.4712 - val_loss: 854.5568\n",
      "Epoch 397/500\n",
      "24/24 [==============================] - 0s 4ms/step - loss: 19.4714 - val_loss: 854.5563\n",
      "Epoch 398/500\n",
      "24/24 [==============================] - 0s 4ms/step - loss: 19.4716 - val_loss: 854.5557\n",
      "Epoch 399/500\n",
      "24/24 [==============================] - 0s 8ms/step - loss: 19.4718 - val_loss: 854.5554\n",
      "Epoch 400/500\n",
      "24/24 [==============================] - 0s 7ms/step - loss: 19.4719 - val_loss: 854.5547\n",
      "Epoch 401/500\n",
      "24/24 [==============================] - 0s 7ms/step - loss: 19.4721 - val_loss: 854.5538\n",
      "Epoch 402/500\n",
      "24/24 [==============================] - 0s 6ms/step - loss: 19.4723 - val_loss: 854.5535\n",
      "Epoch 403/500\n",
      "24/24 [==============================] - 0s 7ms/step - loss: 19.4725 - val_loss: 854.5530\n",
      "Epoch 404/500\n",
      "24/24 [==============================] - 0s 7ms/step - loss: 19.4727 - val_loss: 854.5524\n",
      "Epoch 405/500\n",
      "24/24 [==============================] - 0s 5ms/step - loss: 19.4728 - val_loss: 854.5519\n",
      "Epoch 406/500\n",
      "24/24 [==============================] - 0s 4ms/step - loss: 19.4730 - val_loss: 854.5513\n",
      "Epoch 407/500\n",
      "24/24 [==============================] - 0s 5ms/step - loss: 19.4731 - val_loss: 854.5511\n",
      "Epoch 408/500\n",
      "24/24 [==============================] - 0s 4ms/step - loss: 19.4733 - val_loss: 854.5505\n",
      "Epoch 409/500\n",
      "24/24 [==============================] - 0s 5ms/step - loss: 19.4734 - val_loss: 854.5500\n",
      "Epoch 410/500\n",
      "24/24 [==============================] - 0s 5ms/step - loss: 19.4736 - val_loss: 854.5493\n",
      "Epoch 411/500\n",
      "24/24 [==============================] - 0s 4ms/step - loss: 19.4738 - val_loss: 854.5490\n",
      "Epoch 412/500\n",
      "24/24 [==============================] - 0s 4ms/step - loss: 19.4739 - val_loss: 854.5487\n",
      "Epoch 413/500\n",
      "24/24 [==============================] - 0s 5ms/step - loss: 19.4740 - val_loss: 854.5483\n",
      "Epoch 414/500\n",
      "24/24 [==============================] - 0s 4ms/step - loss: 19.4742 - val_loss: 854.5479\n",
      "Epoch 415/500\n",
      "24/24 [==============================] - 0s 5ms/step - loss: 19.4743 - val_loss: 854.5472\n",
      "Epoch 416/500\n",
      "24/24 [==============================] - 0s 4ms/step - loss: 19.4744 - val_loss: 854.5466\n",
      "Epoch 417/500\n",
      "24/24 [==============================] - 0s 4ms/step - loss: 19.4746 - val_loss: 854.5462\n",
      "Epoch 418/500\n",
      "24/24 [==============================] - 0s 4ms/step - loss: 19.4747 - val_loss: 854.5459\n",
      "Epoch 419/500\n",
      "24/24 [==============================] - 0s 7ms/step - loss: 19.4748 - val_loss: 854.5454\n",
      "Epoch 420/500\n",
      "24/24 [==============================] - 0s 5ms/step - loss: 19.4749 - val_loss: 854.5449\n",
      "Epoch 421/500\n",
      "24/24 [==============================] - 0s 4ms/step - loss: 19.4751 - val_loss: 854.5444\n",
      "Epoch 422/500\n",
      "24/24 [==============================] - 0s 4ms/step - loss: 19.4752 - val_loss: 854.5441\n",
      "Epoch 423/500\n",
      "24/24 [==============================] - 0s 4ms/step - loss: 19.4753 - val_loss: 854.5436\n",
      "Epoch 424/500\n",
      "24/24 [==============================] - 0s 4ms/step - loss: 19.4754 - val_loss: 854.5431\n",
      "Epoch 425/500\n",
      "24/24 [==============================] - 0s 4ms/step - loss: 19.4755 - val_loss: 854.5427\n",
      "Epoch 426/500\n",
      "24/24 [==============================] - 0s 4ms/step - loss: 19.4756 - val_loss: 854.5423\n",
      "Epoch 427/500\n",
      "24/24 [==============================] - 0s 4ms/step - loss: 19.4758 - val_loss: 854.5419\n",
      "Epoch 428/500\n",
      "24/24 [==============================] - 0s 4ms/step - loss: 19.4759 - val_loss: 854.5417\n",
      "Epoch 429/500\n",
      "24/24 [==============================] - 0s 4ms/step - loss: 19.4759 - val_loss: 854.5414\n",
      "Epoch 430/500\n",
      "24/24 [==============================] - 0s 4ms/step - loss: 19.4760 - val_loss: 854.5412\n",
      "Epoch 431/500\n",
      "24/24 [==============================] - 0s 4ms/step - loss: 19.4761 - val_loss: 854.5406\n",
      "Epoch 432/500\n",
      "24/24 [==============================] - 0s 6ms/step - loss: 19.4762 - val_loss: 854.5403\n",
      "Epoch 433/500\n",
      "24/24 [==============================] - 0s 4ms/step - loss: 19.4763 - val_loss: 854.5398\n",
      "Epoch 434/500\n",
      "24/24 [==============================] - 0s 4ms/step - loss: 19.4764 - val_loss: 854.5394\n",
      "Epoch 435/500\n",
      "24/24 [==============================] - 0s 4ms/step - loss: 19.4765 - val_loss: 854.5390\n",
      "Epoch 436/500\n",
      "24/24 [==============================] - 0s 4ms/step - loss: 19.4766 - val_loss: 854.5388\n",
      "Epoch 437/500\n",
      "24/24 [==============================] - 0s 3ms/step - loss: 19.4766 - val_loss: 854.5383\n",
      "Epoch 438/500\n",
      "24/24 [==============================] - 0s 5ms/step - loss: 19.4767 - val_loss: 854.5380\n",
      "Epoch 439/500\n",
      "24/24 [==============================] - 0s 4ms/step - loss: 19.4768 - val_loss: 854.5376\n",
      "Epoch 440/500\n",
      "24/24 [==============================] - 0s 8ms/step - loss: 19.4769 - val_loss: 854.5372\n",
      "Epoch 441/500\n",
      "24/24 [==============================] - 0s 4ms/step - loss: 19.4770 - val_loss: 854.5370\n",
      "Epoch 442/500\n",
      "24/24 [==============================] - 0s 4ms/step - loss: 19.4770 - val_loss: 854.5364\n",
      "Epoch 443/500\n",
      "24/24 [==============================] - 0s 4ms/step - loss: 19.4771 - val_loss: 854.5362\n",
      "Epoch 444/500\n",
      "24/24 [==============================] - 0s 4ms/step - loss: 19.4772 - val_loss: 854.5358\n",
      "Epoch 445/500\n",
      "24/24 [==============================] - 0s 4ms/step - loss: 19.4772 - val_loss: 854.5357\n",
      "Epoch 446/500\n",
      "24/24 [==============================] - 0s 5ms/step - loss: 19.4772 - val_loss: 854.5351\n",
      "Epoch 447/500\n",
      "24/24 [==============================] - 0s 4ms/step - loss: 19.4773 - val_loss: 854.5345\n",
      "Epoch 448/500\n",
      "24/24 [==============================] - 0s 3ms/step - loss: 19.4774 - val_loss: 854.5343\n",
      "Epoch 449/500\n",
      "24/24 [==============================] - 0s 4ms/step - loss: 19.4775 - val_loss: 854.5342\n",
      "Epoch 450/500\n",
      "24/24 [==============================] - 0s 4ms/step - loss: 19.4776 - val_loss: 854.5341\n",
      "Epoch 451/500\n",
      "24/24 [==============================] - 0s 4ms/step - loss: 19.4776 - val_loss: 854.5337\n",
      "Epoch 452/500\n",
      "24/24 [==============================] - 0s 4ms/step - loss: 19.4777 - val_loss: 854.5334\n",
      "Epoch 453/500\n",
      "24/24 [==============================] - 0s 3ms/step - loss: 19.4778 - val_loss: 854.5331\n",
      "Epoch 454/500\n",
      "24/24 [==============================] - 0s 4ms/step - loss: 19.4778 - val_loss: 854.5329\n",
      "Epoch 455/500\n",
      "24/24 [==============================] - 0s 4ms/step - loss: 19.4779 - val_loss: 854.5327\n",
      "Epoch 456/500\n",
      "24/24 [==============================] - 0s 4ms/step - loss: 19.4779 - val_loss: 854.5326\n",
      "Epoch 457/500\n",
      "24/24 [==============================] - 0s 4ms/step - loss: 19.4779 - val_loss: 854.5324\n",
      "Epoch 458/500\n",
      "24/24 [==============================] - 0s 3ms/step - loss: 19.4780 - val_loss: 854.5322\n",
      "Epoch 459/500\n",
      "24/24 [==============================] - 0s 3ms/step - loss: 19.4780 - val_loss: 854.5317\n",
      "Epoch 460/500\n",
      "24/24 [==============================] - 0s 3ms/step - loss: 19.4781 - val_loss: 854.5315\n",
      "Epoch 461/500\n",
      "24/24 [==============================] - 0s 8ms/step - loss: 19.4782 - val_loss: 854.5314\n",
      "Epoch 462/500\n",
      "24/24 [==============================] - 0s 5ms/step - loss: 19.4782 - val_loss: 854.5312\n",
      "Epoch 463/500\n",
      "24/24 [==============================] - 0s 4ms/step - loss: 19.4782 - val_loss: 854.5312\n",
      "Epoch 464/500\n",
      "24/24 [==============================] - 0s 5ms/step - loss: 19.4783 - val_loss: 854.5309\n",
      "Epoch 465/500\n",
      "24/24 [==============================] - 0s 4ms/step - loss: 19.4783 - val_loss: 854.5307\n",
      "Epoch 466/500\n",
      "24/24 [==============================] - 0s 5ms/step - loss: 19.4784 - val_loss: 854.5305\n",
      "Epoch 467/500\n",
      "24/24 [==============================] - 0s 4ms/step - loss: 19.4784 - val_loss: 854.5303\n",
      "Epoch 468/500\n",
      "24/24 [==============================] - 0s 4ms/step - loss: 19.4785 - val_loss: 854.5301\n",
      "Epoch 469/500\n",
      "24/24 [==============================] - 0s 3ms/step - loss: 19.4784 - val_loss: 854.5294\n",
      "Epoch 470/500\n",
      "24/24 [==============================] - 0s 4ms/step - loss: 19.4786 - val_loss: 854.5295\n",
      "Epoch 471/500\n",
      "24/24 [==============================] - 0s 4ms/step - loss: 19.4786 - val_loss: 854.5292\n",
      "Epoch 472/500\n",
      "24/24 [==============================] - 0s 4ms/step - loss: 19.4786 - val_loss: 854.5289\n",
      "Epoch 473/500\n",
      "24/24 [==============================] - 0s 4ms/step - loss: 19.4786 - val_loss: 854.5286\n",
      "Epoch 474/500\n",
      "24/24 [==============================] - 0s 4ms/step - loss: 19.4787 - val_loss: 854.5282\n",
      "Epoch 475/500\n",
      "24/24 [==============================] - 0s 4ms/step - loss: 19.4787 - val_loss: 854.5280\n",
      "Epoch 476/500\n",
      "24/24 [==============================] - 0s 4ms/step - loss: 19.4787 - val_loss: 854.5277\n",
      "Epoch 477/500\n",
      "24/24 [==============================] - 0s 4ms/step - loss: 19.4788 - val_loss: 854.5276\n",
      "Epoch 478/500\n",
      "24/24 [==============================] - 0s 4ms/step - loss: 19.4788 - val_loss: 854.5275\n",
      "Epoch 479/500\n",
      "24/24 [==============================] - 0s 5ms/step - loss: 19.4788 - val_loss: 854.5273\n",
      "Epoch 480/500\n",
      "24/24 [==============================] - 0s 8ms/step - loss: 19.4788 - val_loss: 854.5270\n",
      "Epoch 481/500\n",
      "24/24 [==============================] - 0s 5ms/step - loss: 19.4789 - val_loss: 854.5267\n",
      "Epoch 482/500\n",
      "24/24 [==============================] - 0s 4ms/step - loss: 19.4789 - val_loss: 854.5265\n",
      "Epoch 483/500\n",
      "24/24 [==============================] - 0s 4ms/step - loss: 19.4790 - val_loss: 854.5263\n",
      "Epoch 484/500\n",
      "24/24 [==============================] - 0s 4ms/step - loss: 19.4789 - val_loss: 854.5259\n",
      "Epoch 485/500\n",
      "24/24 [==============================] - 0s 4ms/step - loss: 19.4790 - val_loss: 854.5254\n",
      "Epoch 486/500\n",
      "24/24 [==============================] - 0s 4ms/step - loss: 19.4791 - val_loss: 854.5253\n",
      "Epoch 487/500\n",
      "24/24 [==============================] - 0s 4ms/step - loss: 19.4790 - val_loss: 854.5251\n",
      "Epoch 488/500\n",
      "24/24 [==============================] - 0s 4ms/step - loss: 19.4791 - val_loss: 854.5248\n",
      "Epoch 489/500\n",
      "24/24 [==============================] - 0s 4ms/step - loss: 19.4791 - val_loss: 854.5247\n",
      "Epoch 490/500\n",
      "24/24 [==============================] - 0s 4ms/step - loss: 19.4791 - val_loss: 854.5245\n",
      "Epoch 491/500\n",
      "24/24 [==============================] - 0s 5ms/step - loss: 19.4791 - val_loss: 854.5242\n",
      "Epoch 492/500\n",
      "24/24 [==============================] - 0s 4ms/step - loss: 19.4792 - val_loss: 854.5240\n",
      "Epoch 493/500\n",
      "24/24 [==============================] - 0s 3ms/step - loss: 19.4792 - val_loss: 854.5239\n",
      "Epoch 494/500\n",
      "24/24 [==============================] - 0s 3ms/step - loss: 19.4792 - val_loss: 854.5236\n",
      "Epoch 495/500\n",
      "24/24 [==============================] - 0s 4ms/step - loss: 19.4792 - val_loss: 854.5232\n",
      "Epoch 496/500\n",
      "24/24 [==============================] - 0s 3ms/step - loss: 19.4793 - val_loss: 854.5229\n",
      "Epoch 497/500\n",
      "24/24 [==============================] - 0s 4ms/step - loss: 19.4793 - val_loss: 854.5228\n",
      "Epoch 498/500\n",
      "24/24 [==============================] - 0s 4ms/step - loss: 19.4793 - val_loss: 854.5225\n",
      "Epoch 499/500\n",
      "24/24 [==============================] - 0s 4ms/step - loss: 19.4794 - val_loss: 854.5223\n",
      "Epoch 500/500\n",
      "24/24 [==============================] - 0s 3ms/step - loss: 19.4794 - val_loss: 854.5222\n"
     ]
    }
   ],
   "source": [
    "C0 = tf.Variable(88.1552, name=\"C0\", trainable=True, dtype=tf.float32)\n",
    "K0 = tf.Variable(-0.0026, name=\"K0\", trainable=True, dtype=tf.float32)\n",
    "K1 = tf.Variable(-0.0004, name=\"K1\", trainable=True, dtype=tf.float32)\n",
    "a = tf.Variable(0.0000, name=\"a\", trainable=True, dtype=tf.float32)\n",
    "b = tf.Variable(0.0102, name=\"b\", trainable=True, dtype=tf.float32)\n",
    "c = tf.Variable(2.8734, name=\"c\", trainable=True, dtype=tf.float32)\n",
    "\n",
    "splitr = 0.8\n",
    "\n",
    "\n",
    "def loss_fn(y_true, y_pred):\n",
    "    squared_difference = tf.square(y_true[:, 0] - y_pred[:, 0])\n",
    "    #squared_difference2 = tf.square(y_true[:, 2]-y_pred[:, 2])\n",
    "    #squared_difference1 = tf.square(y_true[:, 1]-y_pred[:, 1])\n",
    "    epsilon = 1\n",
    "    squared_difference3 = tf.square(\n",
    "        y_pred[:, 1] - (\n",
    "            y_pred[:, 0] * (\n",
    "                K0 - K1 * (\n",
    "                    9 * a * tf.math.log((y_pred[:, 0] + epsilon) / C0) / (K0 - K1 * c)**2 +\n",
    "                    4 * b * tf.math.log((y_pred[:, 0] + epsilon) / C0) / (K0 - K1 * c) + c\n",
    "                )\n",
    "            )\n",
    "        )\n",
    "    )\n",
    "    return tf.reduce_mean(squared_difference, axis=-1) + 0.2*tf.reduce_mean(squared_difference3, axis=-1)\n",
    "model = Sequential()\n",
    "model.add(LSTM(100, input_shape=(trainX.shape[1], trainX.shape[2])))\n",
    "model.add(Dense(60))\n",
    "model.compile(loss=loss_fn, optimizer='adam')\n",
    "history = model.fit(trainX[:int(splitr*trainX.shape[0])], trainy[:int(splitr*trainX.shape[0])], epochs=500, batch_size=64, validation_data=(trainX[int(splitr*trainX.shape[0]):trainX.shape[0]], trainy[int(splitr*trainX.shape[0]):trainX.shape[0]]), shuffle=False)"
   ]
  },
  {
   "cell_type": "code",
   "execution_count": 19,
   "metadata": {
    "colab": {
     "base_uri": "https://localhost:8080/"
    },
    "id": "yJL101rPyuoT",
    "outputId": "239ff2b1-c186-423a-d316-939dfdd7c793"
   },
   "outputs": [
    {
     "name": "stdout",
     "output_type": "stream",
     "text": [
      "1/1 [==============================] - 0s 430ms/step\n"
     ]
    }
   ],
   "source": [
    "forecast_without_mc = forecastX\n",
    "yhat_without_mc = model.predict(forecast_without_mc) # Step Ahead Prediction\n",
    "forecast_without_mc = forecast_without_mc.reshape((forecast_without_mc.shape[0], forecast_without_mc.shape[2])) # Historical Input"
   ]
  },
  {
   "cell_type": "code",
   "execution_count": 20,
   "metadata": {
    "colab": {
     "base_uri": "https://localhost:8080/"
    },
    "id": "g9dQELcJ8wbp",
    "outputId": "4dc7671b-b1a8-48d5-8744-a86f98446109"
   },
   "outputs": [
    {
     "data": {
      "text/plain": [
       "(1, 1, 251)"
      ]
     },
     "execution_count": 20,
     "metadata": {},
     "output_type": "execute_result"
    }
   ],
   "source": [
    "forecastX.shape"
   ]
  },
  {
   "cell_type": "code",
   "execution_count": 21,
   "metadata": {
    "colab": {
     "base_uri": "https://localhost:8080/"
    },
    "id": "IS2kyIKG1Kbr",
    "outputId": "f31b3485-8e26-452f-9298-ea8bf7e80ad1"
   },
   "outputs": [
    {
     "data": {
      "text/plain": [
       "(1, 251)"
      ]
     },
     "execution_count": 21,
     "metadata": {},
     "output_type": "execute_result"
    }
   ],
   "source": [
    "forecast_without_mc.shape"
   ]
  },
  {
   "cell_type": "code",
   "execution_count": 22,
   "metadata": {
    "id": "0u6VIzaDyuoT"
   },
   "outputs": [],
   "source": [
    "inv_yhat_without_mc = np.concatenate((forecast_without_mc, yhat_without_mc), axis=1) # Concatenation of predicted values with Historical Data\n",
    "#inv_yhat_without_mc = scaler.inverse_transform(inv_yhat_without_mc) # Transform labels back to original encoding"
   ]
  },
  {
   "cell_type": "code",
   "execution_count": 23,
   "metadata": {
    "colab": {
     "base_uri": "https://localhost:8080/"
    },
    "id": "EUEcw0LX07oU",
    "outputId": "cfc32397-9c37-4b43-d087-584bb31c3dcc"
   },
   "outputs": [
    {
     "data": {
      "text/plain": [
       "(1, 311)"
      ]
     },
     "execution_count": 23,
     "metadata": {},
     "output_type": "execute_result"
    }
   ],
   "source": [
    "inv_yhat_without_mc.shape"
   ]
  },
  {
   "cell_type": "code",
   "execution_count": 24,
   "metadata": {
    "id": "31OWVbSh_305"
   },
   "outputs": [],
   "source": [
    "fforecast = inv_yhat_without_mc[:,-300:]"
   ]
  },
  {
   "cell_type": "code",
   "execution_count": 25,
   "metadata": {},
   "outputs": [
    {
     "data": {
      "text/plain": [
       "(1, 300)"
      ]
     },
     "execution_count": 25,
     "metadata": {},
     "output_type": "execute_result"
    }
   ],
   "source": [
    "fforecast.shape"
   ]
  },
  {
   "cell_type": "code",
   "execution_count": 26,
   "metadata": {
    "id": "BlpGH2FOAiRF"
   },
   "outputs": [],
   "source": [
    "final_forecast = fforecast[:,0:300:3]"
   ]
  },
  {
   "cell_type": "code",
   "execution_count": 27,
   "metadata": {},
   "outputs": [
    {
     "data": {
      "text/plain": [
       "(1, 300)"
      ]
     },
     "execution_count": 27,
     "metadata": {},
     "output_type": "execute_result"
    }
   ],
   "source": [
    "fforecast.shape"
   ]
  },
  {
   "cell_type": "code",
   "execution_count": 28,
   "metadata": {
    "id": "CXkgkj_LBk_t"
   },
   "outputs": [],
   "source": [
    "# code to replace all negative value with 0\n",
    "final_forecast[final_forecast<0] = 0"
   ]
  },
  {
   "cell_type": "code",
   "execution_count": 29,
   "metadata": {},
   "outputs": [
    {
     "data": {
      "text/plain": [
       "array([[6.78166900e+01, 6.77493464e+01, 6.76653128e+01, 6.75812792e+01,\n",
       "        6.74972456e+01, 6.74132120e+01, 6.73291783e+01, 0.00000000e+00,\n",
       "        8.63967690e-02, 0.00000000e+00, 8.28129411e-01, 2.15592802e-01,\n",
       "        0.00000000e+00, 6.82041783e+01, 6.81621615e+01, 6.81201447e+01,\n",
       "        6.80781279e+01, 6.80361111e+01, 6.79940943e+01, 6.79520775e+01,\n",
       "        6.79100607e+01, 6.78680439e+01, 6.78260271e+01, 6.77802805e+01,\n",
       "        6.77200190e+01, 6.76600442e+01, 6.76000688e+01, 6.75400934e+01,\n",
       "        6.74801180e+01, 6.74201426e+01, 6.73601672e+01, 6.73001918e+01,\n",
       "        6.72402164e+01, 6.71802410e+01, 6.71202656e+01, 6.70602902e+01,\n",
       "        6.70003148e+01, 6.69403394e+01, 6.68803640e+01, 6.68203886e+01,\n",
       "        6.67604132e+01, 0.00000000e+00, 4.27014828e-01, 3.46764952e-01,\n",
       "        1.63135916e-01, 1.79473370e-01, 0.00000000e+00, 6.76186275e+01,\n",
       "        6.75345938e+01, 6.74505602e+01, 6.73665266e+01, 6.72824930e+01,\n",
       "        6.71984594e+01, 6.71144258e+01, 6.70303922e+01, 6.69463585e+01,\n",
       "        6.68623249e+01, 6.67826331e+01, 6.67154062e+01, 6.66481793e+01,\n",
       "        6.65809524e+01, 6.65137255e+01, 7.03338235e+01, 7.01573529e+01,\n",
       "        6.99818824e+01, 6.96815126e+01, 6.92781513e+01, 6.88747899e+01,\n",
       "        6.84714286e+01, 6.82275210e+01, 6.81014706e+01, 1.93370014e-01,\n",
       "        3.61841950e-02, 6.70672073e+01, 3.18134546e-01, 0.00000000e+00,\n",
       "        0.00000000e+00, 4.63562191e-01, 0.00000000e+00, 0.00000000e+00,\n",
       "        5.02764244e+01, 7.83210099e-02, 0.00000000e+00, 0.00000000e+00,\n",
       "        0.00000000e+00, 3.37593853e-01, 2.37655729e-01, 0.00000000e+00,\n",
       "        3.82995367e-01, 2.88465977e-01, 0.00000000e+00, 2.76154373e-02,\n",
       "        0.00000000e+00, 0.00000000e+00, 0.00000000e+00, 4.88551557e-01,\n",
       "        0.00000000e+00, 0.00000000e+00, 0.00000000e+00, 3.36976424e-02]])"
      ]
     },
     "execution_count": 29,
     "metadata": {},
     "output_type": "execute_result"
    }
   ],
   "source": [
    "final_forecast"
   ]
  },
  {
   "cell_type": "code",
   "execution_count": 30,
   "metadata": {},
   "outputs": [
    {
     "data": {
      "text/plain": [
       "(1, 100)"
      ]
     },
     "execution_count": 30,
     "metadata": {},
     "output_type": "execute_result"
    }
   ],
   "source": [
    "final_forecast.shape"
   ]
  },
  {
   "cell_type": "code",
   "execution_count": 31,
   "metadata": {},
   "outputs": [
    {
     "data": {
      "text/plain": [
       "(100,)"
      ]
     },
     "execution_count": 31,
     "metadata": {},
     "output_type": "execute_result"
    }
   ],
   "source": [
    "test.shape"
   ]
  },
  {
   "cell_type": "code",
   "execution_count": 32,
   "metadata": {},
   "outputs": [],
   "source": [
    "training_set = np.array(training_set)\n",
    "test = np.array(test)\n",
    "final_forecast = np.array(final_forecast.squeeze(0))"
   ]
  },
  {
   "cell_type": "code",
   "execution_count": 33,
   "metadata": {},
   "outputs": [
    {
     "data": {
      "text/plain": [
       "array([54.42096741, 54.40539045, 54.38981349, 54.37423652, 54.35865956,\n",
       "       54.3430826 , 54.32750564, 54.31192867, 54.29635171, 54.28077475,\n",
       "       54.26519779, 54.24962082, 54.23404386, 54.2184669 , 54.20288994,\n",
       "       54.18731297, 54.17173601, 54.15615905, 54.14058209, 54.12500512,\n",
       "       54.10942816, 54.0938512 , 54.07827424, 54.06269727, 54.04712031,\n",
       "       54.03154335, 54.01596639, 54.00038942, 53.98481246, 53.9692355 ,\n",
       "       53.95365854, 53.93808157, 53.92250461, 53.90692765, 53.89135069,\n",
       "       53.87577372, 53.86019676, 53.8446198 , 53.82904284, 53.81346587,\n",
       "       53.79788891, 53.78231195, 53.76673499, 53.75115802, 53.73558106,\n",
       "       53.7200041 , 53.70442714, 53.68885017, 53.67327321, 53.65769625,\n",
       "       53.64211929, 53.62654232, 53.61096536, 53.5953884 , 53.57981144,\n",
       "       53.56423447, 53.54865751, 53.53308055, 53.51750359, 53.50192662,\n",
       "       53.48634966, 53.4707727 , 53.45519574, 53.43961877, 53.42404181,\n",
       "       53.40846485, 53.39288789, 53.37731092, 53.36173396, 53.346157  ,\n",
       "       53.33058004, 53.31500307, 53.29942611, 53.28384915, 53.26827219,\n",
       "       53.25269522, 53.23711826, 53.2215413 , 53.20596434, 53.19038737,\n",
       "       53.17481041, 53.15923345, 53.14365649, 53.12807952, 53.11250256,\n",
       "       53.0969256 , 53.08134864, 53.06577167, 53.05019471, 53.03461775,\n",
       "       53.01904079, 53.00346382, 52.98788686, 52.9723099 , 52.95673294,\n",
       "       52.94115597, 52.92557901, 52.91000205, 52.89442509, 52.87884812])"
      ]
     },
     "execution_count": 33,
     "metadata": {},
     "output_type": "execute_result"
    }
   ],
   "source": [
    "test"
   ]
  },
  {
   "cell_type": "code",
   "execution_count": 34,
   "metadata": {},
   "outputs": [
    {
     "data": {
      "text/plain": [
       "(100,)"
      ]
     },
     "execution_count": 34,
     "metadata": {},
     "output_type": "execute_result"
    }
   ],
   "source": [
    "test.shape"
   ]
  },
  {
   "cell_type": "code",
   "execution_count": 35,
   "metadata": {},
   "outputs": [
    {
     "data": {
      "text/plain": [
       "(100,)"
      ]
     },
     "execution_count": 35,
     "metadata": {},
     "output_type": "execute_result"
    }
   ],
   "source": [
    "final_forecast.shape"
   ]
  },
  {
   "cell_type": "code",
   "execution_count": 36,
   "metadata": {},
   "outputs": [
    {
     "data": {
      "text/plain": [
       "(100,)"
      ]
     },
     "execution_count": 36,
     "metadata": {},
     "output_type": "execute_result"
    }
   ],
   "source": [
    "test.shape"
   ]
  },
  {
   "cell_type": "code",
   "execution_count": 37,
   "metadata": {},
   "outputs": [
    {
     "name": "stdout",
     "output_type": "stream",
     "text": [
      "34.93983860015028\n",
      "29.087384479151382\n"
     ]
    }
   ],
   "source": [
    "import math\n",
    "MSE = np.square(np.subtract(np.array(test),np.array(final_forecast))).mean()   \n",
    "rsme = math.sqrt(MSE)\n",
    "print(rsme)  \n",
    "MAE = np.abs(np.subtract(np.array(test),np.array(final_forecast))).mean()   \n",
    "mae = MAE\n",
    "print(mae)"
   ]
  }
 ],
 "metadata": {
  "colab": {
   "provenance": []
  },
  "kernelspec": {
   "display_name": "Python 3",
   "language": "python",
   "name": "python3"
  },
  "language_info": {
   "codemirror_mode": {
    "name": "ipython",
    "version": 3
   },
   "file_extension": ".py",
   "mimetype": "text/x-python",
   "name": "python",
   "nbconvert_exporter": "python",
   "pygments_lexer": "ipython3",
   "version": "3.9.13"
  }
 },
 "nbformat": 4,
 "nbformat_minor": 0
}
