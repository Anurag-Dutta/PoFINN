{
 "cells": [
  {
   "cell_type": "markdown",
   "metadata": {
    "id": "pCGKeZ2gyuoQ"
   },
   "source": [
    "_Importing Required Libraries_"
   ]
  },
  {
   "cell_type": "code",
   "execution_count": 1,
   "metadata": {
    "colab": {
     "base_uri": "https://localhost:8080/"
    },
    "id": "A-6LN-zXiLcM",
    "outputId": "4de610a4-f8b8-4f49-c6c0-89de299ccedc"
   },
   "outputs": [
    {
     "name": "stdout",
     "output_type": "stream",
     "text": [
      "Requirement already satisfied: hampel in c:\\users\\anurag dutta\\appdata\\local\\packages\\pythonsoftwarefoundation.python.3.9_qbz5n2kfra8p0\\localcache\\local-packages\\python39\\site-packages (0.0.5)\n",
      "Requirement already satisfied: numpy in c:\\users\\anurag dutta\\appdata\\local\\packages\\pythonsoftwarefoundation.python.3.9_qbz5n2kfra8p0\\localcache\\local-packages\\python39\\site-packages (from hampel) (1.26.4)\n",
      "Requirement already satisfied: pandas in c:\\users\\anurag dutta\\appdata\\local\\packages\\pythonsoftwarefoundation.python.3.9_qbz5n2kfra8p0\\localcache\\local-packages\\python39\\site-packages (from hampel) (1.5.2)\n",
      "Note: you may need to restart the kernel to use updated packages.Requirement already satisfied: python-dateutil>=2.8.1 in c:\\users\\anurag dutta\\appdata\\local\\packages\\pythonsoftwarefoundation.python.3.9_qbz5n2kfra8p0\\localcache\\local-packages\\python39\\site-packages (from pandas->hampel) (2.8.2)\n",
      "Requirement already satisfied: pytz>=2020.1 in c:\\users\\anurag dutta\\appdata\\local\\packages\\pythonsoftwarefoundation.python.3.9_qbz5n2kfra8p0\\localcache\\local-packages\\python39\\site-packages (from pandas->hampel) (2023.3.post1)\n",
      "Requirement already satisfied: six>=1.5 in c:\\users\\anurag dutta\\appdata\\local\\packages\\pythonsoftwarefoundation.python.3.9_qbz5n2kfra8p0\\localcache\\local-packages\\python39\\site-packages (from python-dateutil>=2.8.1->pandas->hampel) (1.16.0)\n",
      "\n"
     ]
    },
    {
     "name": "stderr",
     "output_type": "stream",
     "text": [
      "\n",
      "[notice] A new release of pip is available: 24.2 -> 24.3.1\n",
      "[notice] To update, run: C:\\Users\\Anurag Dutta\\AppData\\Local\\Microsoft\\WindowsApps\\PythonSoftwareFoundation.Python.3.9_qbz5n2kfra8p0\\python.exe -m pip install --upgrade pip\n"
     ]
    }
   ],
   "source": [
    "pip install hampel"
   ]
  },
  {
   "cell_type": "code",
   "execution_count": 2,
   "metadata": {
    "id": "By_d9uXpaFvZ"
   },
   "outputs": [],
   "source": [
    "from keras.models import Sequential\n",
    "from keras.layers import Dense\n",
    "from keras.layers import LSTM\n",
    "from keras.layers import Dropout\n",
    "import keras\n",
    "import tensorflow as tf\n",
    "from hampel import hampel\n",
    "import numpy as np\n",
    "import matplotlib.pyplot as plt\n",
    "import pandas as pd\n",
    "from sklearn.preprocessing import MinMaxScaler\n",
    "from sklearn.metrics import mean_squared_error, mean_absolute_error\n",
    "from math import sqrt\n",
    "from matplotlib import pyplot\n",
    "from numpy import array"
   ]
  },
  {
   "cell_type": "markdown",
   "metadata": {
    "id": "JyOjBMFayuoR"
   },
   "source": [
    "## Pretraining"
   ]
  },
  {
   "cell_type": "markdown",
   "metadata": {
    "id": "-5QqIY_GyuoR"
   },
   "source": [
    "The `capa_intermittency.dat` feeds the model with the dynamics of the Capacitor"
   ]
  },
  {
   "cell_type": "code",
   "execution_count": 3,
   "metadata": {
    "id": "9dV4a8yfyuoR"
   },
   "outputs": [],
   "source": [
    "data = np.genfromtxt('capa_intermittency.dat')\n",
    "training_set = pd.DataFrame(data).reset_index(drop=True)\n",
    "training_set = training_set.iloc[:,0]"
   ]
  },
  {
   "cell_type": "markdown",
   "metadata": {
    "id": "i7easoxByuoR"
   },
   "source": [
    "## Computing the Gradient"
   ]
  },
  {
   "cell_type": "markdown",
   "metadata": {
    "id": "5SnyolJTyuoR"
   },
   "source": [
    "_Calculating the value of_ $\\frac{dx}{dt}$"
   ]
  },
  {
   "cell_type": "code",
   "execution_count": 4,
   "metadata": {
    "colab": {
     "base_uri": "https://localhost:8080/"
    },
    "id": "wmIbVfIvyuoR",
    "outputId": "aa4e3136-c854-465d-d2e9-81cfd546e440"
   },
   "outputs": [
    {
     "name": "stdout",
     "output_type": "stream",
     "text": [
      "1.0\n",
      "1        0.000298\n",
      "2        0.000298\n",
      "3        0.000297\n",
      "4        0.000297\n",
      "5        0.000297\n",
      "           ...   \n",
      "9996     0.000018\n",
      "9997     0.000018\n",
      "9998     0.000018\n",
      "9999     0.000018\n",
      "10000    0.000018\n",
      "Name: 0, Length: 10000, dtype: float64\n"
     ]
    }
   ],
   "source": [
    "t_diff = 1\n",
    "print(training_set.max())\n",
    "gradient_t = (training_set.diff()/t_diff).iloc[1:] # dx/dt\n",
    "print(gradient_t)"
   ]
  },
  {
   "cell_type": "markdown",
   "metadata": {
    "id": "_2eVeeoxyuoS"
   },
   "source": [
    "## Loading Datasets"
   ]
  },
  {
   "cell_type": "code",
   "execution_count": 5,
   "metadata": {
    "id": "0J-NKyIEyuoS"
   },
   "outputs": [
    {
     "data": {
      "text/plain": [
       "0       90.500000\n",
       "1       90.275910\n",
       "2       90.051821\n",
       "3       89.827731\n",
       "4       89.603641\n",
       "          ...    \n",
       "2495    52.162308\n",
       "2496    52.146731\n",
       "2497    52.131154\n",
       "2498    52.115577\n",
       "2499    52.100000\n",
       "Name: C2, Length: 2500, dtype: float64"
      ]
     },
     "execution_count": 5,
     "metadata": {},
     "output_type": "execute_result"
    }
   ],
   "source": [
    "data = pd.read_csv(\"c2_interpolated_2450_50.csv\")\n",
    "training_set = data.iloc[:, 1]\n",
    "training_set"
   ]
  },
  {
   "cell_type": "code",
   "execution_count": 6,
   "metadata": {
    "colab": {
     "base_uri": "https://localhost:8080/"
    },
    "id": "-CbNUhJ74UqF",
    "outputId": "20f562d8-8247-49cc-b9c3-00eca5e13e2d"
   },
   "outputs": [
    {
     "data": {
      "text/plain": [
       "0       90.500000\n",
       "1       90.275910\n",
       "2       90.051821\n",
       "3       89.827731\n",
       "4       89.603641\n",
       "          ...    \n",
       "2445     0.488552\n",
       "2446     0.000000\n",
       "2447     0.000000\n",
       "2448     0.000000\n",
       "2449     0.033698\n",
       "Name: C2, Length: 2450, dtype: float64"
      ]
     },
     "execution_count": 6,
     "metadata": {},
     "output_type": "execute_result"
    }
   ],
   "source": [
    "test = training_set.tail(50)\n",
    "test\n",
    "training_set = training_set.head(2450)\n",
    "training_set"
   ]
  },
  {
   "cell_type": "code",
   "execution_count": 7,
   "metadata": {
    "colab": {
     "base_uri": "https://localhost:8080/"
    },
    "id": "X0TwTcq0yuoS",
    "outputId": "37252ed8-d88e-4044-fa7a-922411990b5b"
   },
   "outputs": [
    {
     "name": "stdout",
     "output_type": "stream",
     "text": [
      "0       0.000298\n",
      "1       0.000298\n",
      "2       0.000297\n",
      "3       0.000297\n",
      "4       0.000297\n",
      "          ...   \n",
      "9995    0.000018\n",
      "9996    0.000018\n",
      "9997    0.000018\n",
      "9998    0.000018\n",
      "9999    0.000018\n",
      "Name: 0, Length: 10000, dtype: float64\n"
     ]
    }
   ],
   "source": [
    "training_set = training_set.reset_index(drop=True)\n",
    "gradient_t = gradient_t.reset_index(drop=True)\n",
    "print(gradient_t)"
   ]
  },
  {
   "cell_type": "code",
   "execution_count": 8,
   "metadata": {
    "id": "O2biznZQyuoS"
   },
   "outputs": [],
   "source": [
    "df = pd.concat((training_set, gradient_t), axis=1)\n",
    "df.columns = ['y_t', 'grad_t']"
   ]
  },
  {
   "cell_type": "code",
   "execution_count": 9,
   "metadata": {
    "colab": {
     "base_uri": "https://localhost:8080/",
     "height": 423
    },
    "id": "sk_a5v3tyuoS",
    "outputId": "17563625-e550-45ae-faab-fafa353e44da"
   },
   "outputs": [
    {
     "data": {
      "text/html": [
       "<div>\n",
       "<style scoped>\n",
       "    .dataframe tbody tr th:only-of-type {\n",
       "        vertical-align: middle;\n",
       "    }\n",
       "\n",
       "    .dataframe tbody tr th {\n",
       "        vertical-align: top;\n",
       "    }\n",
       "\n",
       "    .dataframe thead th {\n",
       "        text-align: right;\n",
       "    }\n",
       "</style>\n",
       "<table border=\"1\" class=\"dataframe\">\n",
       "  <thead>\n",
       "    <tr style=\"text-align: right;\">\n",
       "      <th></th>\n",
       "      <th>y_t</th>\n",
       "      <th>grad_t</th>\n",
       "    </tr>\n",
       "  </thead>\n",
       "  <tbody>\n",
       "    <tr>\n",
       "      <th>0</th>\n",
       "      <td>90.500000</td>\n",
       "      <td>0.000298</td>\n",
       "    </tr>\n",
       "    <tr>\n",
       "      <th>1</th>\n",
       "      <td>90.275910</td>\n",
       "      <td>0.000298</td>\n",
       "    </tr>\n",
       "    <tr>\n",
       "      <th>2</th>\n",
       "      <td>90.051821</td>\n",
       "      <td>0.000297</td>\n",
       "    </tr>\n",
       "    <tr>\n",
       "      <th>3</th>\n",
       "      <td>89.827731</td>\n",
       "      <td>0.000297</td>\n",
       "    </tr>\n",
       "    <tr>\n",
       "      <th>4</th>\n",
       "      <td>89.603641</td>\n",
       "      <td>0.000297</td>\n",
       "    </tr>\n",
       "    <tr>\n",
       "      <th>...</th>\n",
       "      <td>...</td>\n",
       "      <td>...</td>\n",
       "    </tr>\n",
       "    <tr>\n",
       "      <th>9995</th>\n",
       "      <td>NaN</td>\n",
       "      <td>0.000018</td>\n",
       "    </tr>\n",
       "    <tr>\n",
       "      <th>9996</th>\n",
       "      <td>NaN</td>\n",
       "      <td>0.000018</td>\n",
       "    </tr>\n",
       "    <tr>\n",
       "      <th>9997</th>\n",
       "      <td>NaN</td>\n",
       "      <td>0.000018</td>\n",
       "    </tr>\n",
       "    <tr>\n",
       "      <th>9998</th>\n",
       "      <td>NaN</td>\n",
       "      <td>0.000018</td>\n",
       "    </tr>\n",
       "    <tr>\n",
       "      <th>9999</th>\n",
       "      <td>NaN</td>\n",
       "      <td>0.000018</td>\n",
       "    </tr>\n",
       "  </tbody>\n",
       "</table>\n",
       "<p>10000 rows × 2 columns</p>\n",
       "</div>"
      ],
      "text/plain": [
       "            y_t    grad_t\n",
       "0     90.500000  0.000298\n",
       "1     90.275910  0.000298\n",
       "2     90.051821  0.000297\n",
       "3     89.827731  0.000297\n",
       "4     89.603641  0.000297\n",
       "...         ...       ...\n",
       "9995        NaN  0.000018\n",
       "9996        NaN  0.000018\n",
       "9997        NaN  0.000018\n",
       "9998        NaN  0.000018\n",
       "9999        NaN  0.000018\n",
       "\n",
       "[10000 rows x 2 columns]"
      ]
     },
     "execution_count": 9,
     "metadata": {},
     "output_type": "execute_result"
    }
   ],
   "source": [
    "df"
   ]
  },
  {
   "cell_type": "markdown",
   "metadata": {
    "id": "-5esyHu5aFvg"
   },
   "source": [
    "## Plot of the External Forcing from Chaotic Differential Equation"
   ]
  },
  {
   "cell_type": "code",
   "execution_count": 10,
   "metadata": {
    "colab": {
     "base_uri": "https://localhost:8080/",
     "height": 447
    },
    "id": "hGnE43tOh-4p",
    "outputId": "fc396503-b624-4fa5-dfbe-f460207405c6"
   },
   "outputs": [
    {
     "data": {
      "text/plain": [
       "<Axes: >"
      ]
     },
     "execution_count": 10,
     "metadata": {},
     "output_type": "execute_result"
    },
    {
     "data": {
      "image/png": "[encoded data removed]",
      "text/plain": [
       "<Figure size 432x288 with 1 Axes>"
      ]
     },
     "metadata": {
      "needs_background": "light"
     },
     "output_type": "display_data"
    }
   ],
   "source": [
    "df.iloc[:, 0].plot()"
   ]
  },
  {
   "cell_type": "code",
   "execution_count": 11,
   "metadata": {
    "colab": {
     "base_uri": "https://localhost:8080/",
     "height": 447
    },
    "id": "ym4xWUUxaFvg",
    "outputId": "ae6a3495-8ce9-437e-ba81-3ed31deedeae"
   },
   "outputs": [
    {
     "name": "stderr",
     "output_type": "stream",
     "text": [
      "C:\\Users\\Anurag Dutta\\AppData\\Local\\Packages\\PythonSoftwareFoundation.Python.3.9_qbz5n2kfra8p0\\LocalCache\\local-packages\\Python39\\site-packages\\pandas\\core\\arraylike.py:402: RuntimeWarning: divide by zero encountered in log\n",
      "  result = getattr(ufunc, method)(*inputs, **kwargs)\n"
     ]
    },
    {
     "data": {
      "text/plain": [
       "<Axes: >"
      ]
     },
     "execution_count": 11,
     "metadata": {},
     "output_type": "execute_result"
    },
    {
     "data": {
      "image/png": "[encoded data removed]",
      "text/plain": [
       "<Figure size 432x288 with 1 Axes>"
      ]
     },
     "metadata": {
      "needs_background": "light"
     },
     "output_type": "display_data"
    }
   ],
   "source": [
    "import numpy as np\n",
    "c0 = 88.1552  # Value for C0\n",
    "K0 = -0.0026  # Value for K0\n",
    "K1 = -0.0004  # Value for K1\n",
    "a = 0.0000    # Value for a\n",
    "b = 0.0102    # Value for b\n",
    "c = 2.8734    # Value for c\n",
    "\n",
    "L = np.minimum(c0, (df.iloc[:, 1] - (df.iloc[:, 0] * (K0 - K1 * (9 * a * np.log(df.iloc[:, 0] / c0) / (K0 - K1 * c)**2 + 4 * b * np.log(df.iloc[:, 0] / c0) / (K0 - K1 * c) + c)))))\n",
    "L.plot()"
   ]
  },
  {
   "cell_type": "markdown",
   "metadata": {
    "id": "9VyEywnwaFvh"
   },
   "source": [
    "## Preprocessing the data into supervised learning"
   ]
  },
  {
   "cell_type": "code",
   "execution_count": 12,
   "metadata": {
    "id": "6V9dXqzdaFvh"
   },
   "outputs": [],
   "source": [
    "# split a sequence into samples\n",
    "def Supervised(data, n_in=1, n_out=1, dropnan=True):\n",
    "    n_vars = 1 if type(data) is list else data.shape[1]\n",
    "    df = pd.DataFrame(data)\n",
    "    cols, names = list(), list()\n",
    "    # input sequence (t-n_in, ... t-1)\n",
    "    for i in range(n_in, 0, -1):\n",
    "        cols.append(df.shift(i))\n",
    "        names += [('var%d(t-%d)' % (j+1, i)) for j in range(n_vars)]\n",
    "    # forecast sequence (t, t+1, ... t+n_out)\n",
    "    for i in range(0, n_out):\n",
    "      cols.append(df.shift(-i))\n",
    "      if i == 0:\n",
    "        names += [('var%d(t)' % (j+1)) for j in range(n_vars)]\n",
    "      else:\n",
    "        names += [('var%d(t+%d)' % (j+1, i)) for j in range(n_vars)]\n",
    "    # put it all together\n",
    "    agg = pd.concat(cols, axis=1)\n",
    "    agg.columns = names\n",
    "    # drop rows with NaN values\n",
    "    if dropnan:\n",
    "       agg.dropna(inplace=True)\n",
    "    return agg"
   ]
  },
  {
   "cell_type": "code",
   "execution_count": 13,
   "metadata": {
    "colab": {
     "base_uri": "https://localhost:8080/"
    },
    "id": "CrzSrT1HnyfH",
    "outputId": "7e75f928-3e47-499d-eac1-51908015ef78"
   },
   "outputs": [
    {
     "name": "stdout",
     "output_type": "stream",
     "text": [
      "     var1(t-175)  var1(t-174)  var1(t-173)  var1(t-172)  var1(t-171)  \\\n",
      "175    90.500000    90.275910    90.051821    89.827731    89.603641   \n",
      "176    90.275910    90.051821    89.827731    89.603641    89.379552   \n",
      "177    90.051821    89.827731    89.603641    89.379552    89.155462   \n",
      "178    89.827731    89.603641    89.379552    89.155462    88.931373   \n",
      "179    89.603641    89.379552    89.155462    88.931373    88.707283   \n",
      "\n",
      "     var1(t-170)  var1(t-169)  var1(t-168)  var1(t-167)  var1(t-166)  ...  \\\n",
      "175    89.379552    89.155462    88.931373    88.707283    88.494958  ...   \n",
      "176    89.155462    88.931373    88.707283    88.494958    88.427731  ...   \n",
      "177    88.931373    88.707283    88.494958    88.427731    88.360504  ...   \n",
      "178    88.707283    88.494958    88.427731    88.360504    88.293277  ...   \n",
      "179    88.494958    88.427731    88.360504    88.293277    88.226050  ...   \n",
      "\n",
      "     var1(t+45)  var2(t+45)  var1(t+46)  var2(t+46)  var1(t+47)  var2(t+47)  \\\n",
      "175   83.025023    0.000280   83.006349    0.000280   82.987675    0.000280   \n",
      "176   83.006349    0.000280   82.987675    0.000280   82.969001    0.000280   \n",
      "177   82.987675    0.000280   82.969001    0.000280   82.950327    0.000279   \n",
      "178   82.969001    0.000280   82.950327    0.000279   82.931653    0.000279   \n",
      "179   82.950327    0.000279   82.931653    0.000279   82.912979    0.000279   \n",
      "\n",
      "     var1(t+48)  var2(t+48)  var1(t+49)  var2(t+49)  \n",
      "175   82.969001    0.000280   82.950327    0.000279  \n",
      "176   82.950327    0.000279   82.931653    0.000279  \n",
      "177   82.931653    0.000279   82.912979    0.000279  \n",
      "178   82.912979    0.000279   82.894304    0.000279  \n",
      "179   82.894304    0.000279   82.875630    0.000279  \n",
      "\n",
      "[5 rows x 276 columns]\n",
      "Index(['var1(t-175)', 'var1(t-174)', 'var1(t-173)', 'var1(t-172)',\n",
      "       'var1(t-171)', 'var1(t-170)', 'var1(t-169)', 'var1(t-168)',\n",
      "       'var1(t-167)', 'var1(t-166)',\n",
      "       ...\n",
      "       'var1(t+45)', 'var2(t+45)', 'var1(t+46)', 'var2(t+46)', 'var1(t+47)',\n",
      "       'var2(t+47)', 'var1(t+48)', 'var2(t+48)', 'var1(t+49)', 'var2(t+49)'],\n",
      "      dtype='object', length=276)\n"
     ]
    }
   ],
   "source": [
    "data = Supervised(df.values, n_in = 175, n_out = 50)\n",
    "\n",
    "\n",
    "cols_to_drop = []\n",
    "for i in range(2, 176):\n",
    "    cols_to_drop.extend([f'var2(t-{i})'])\n",
    "\n",
    "data.drop(cols_to_drop, axis=1, inplace=True)\n",
    "\n",
    "print(data.head())\n",
    "print(data.columns)"
   ]
  },
  {
   "cell_type": "code",
   "execution_count": 14,
   "metadata": {
    "id": "AfPf60oy6Pe4"
   },
   "outputs": [],
   "source": [
    "train = np.array(data[0:len(data)-1])\n",
    "forecast = np.array(data.tail(1))"
   ]
  },
  {
   "cell_type": "code",
   "execution_count": 15,
   "metadata": {
    "id": "WSAafzI37KiT"
   },
   "outputs": [],
   "source": [
    "trainy = train[:,-150:]\n",
    "trainX = train[:,:-150]"
   ]
  },
  {
   "cell_type": "code",
   "execution_count": 16,
   "metadata": {
    "id": "2SrOqVJA7f50"
   },
   "outputs": [],
   "source": [
    "forecasty = forecast[:,-150:]\n",
    "forecastX = forecast[:,:-150]"
   ]
  },
  {
   "cell_type": "code",
   "execution_count": 17,
   "metadata": {
    "colab": {
     "base_uri": "https://localhost:8080/"
    },
    "id": "Qno_k8Nw7saY",
    "outputId": "c4a88db5-d8c6-489f-cdb2-06b24e293cff"
   },
   "outputs": [
    {
     "name": "stdout",
     "output_type": "stream",
     "text": [
      "(2225, 1, 126) (2225, 150) (1, 1, 126)\n"
     ]
    }
   ],
   "source": [
    "trainX = trainX.reshape((trainX.shape[0], 1, trainX.shape[1]))\n",
    "forecastX = forecastX.reshape((forecastX.shape[0], 1, forecastX.shape[1]))\n",
    "print(trainX.shape, trainy.shape, forecastX.shape)"
   ]
  },
  {
   "cell_type": "code",
   "execution_count": 18,
   "metadata": {
    "colab": {
     "base_uri": "https://localhost:8080/"
    },
    "id": "b1Jp2DvNuNFx",
    "outputId": "d0e5b3c4-64f1-438c-eade-8dfeaac8e285"
   },
   "outputs": [
    {
     "name": "stdout",
     "output_type": "stream",
     "text": [
      "Epoch 1/500\n",
      "28/28 [==============================] - 2s 21ms/step - loss: 5211.6626 - val_loss: 3192.6479\n",
      "Epoch 2/500\n",
      "28/28 [==============================] - 0s 3ms/step - loss: 5008.7451 - val_loss: 3023.6243\n",
      "Epoch 3/500\n",
      "28/28 [==============================] - 0s 7ms/step - loss: 4865.9888 - val_loss: 2939.9946\n",
      "Epoch 4/500\n",
      "28/28 [==============================] - 0s 4ms/step - loss: 4744.9819 - val_loss: 2865.9280\n",
      "Epoch 5/500\n",
      "28/28 [==============================] - 0s 4ms/step - loss: 4631.5015 - val_loss: 2798.2791\n",
      "Epoch 6/500\n",
      "28/28 [==============================] - 0s 4ms/step - loss: 4523.8086 - val_loss: 2733.3848\n",
      "Epoch 7/500\n",
      "28/28 [==============================] - 0s 5ms/step - loss: 4419.6421 - val_loss: 2670.6548\n",
      "Epoch 8/500\n",
      "28/28 [==============================] - 0s 5ms/step - loss: 4318.2695 - val_loss: 2609.7893\n",
      "Epoch 9/500\n",
      "28/28 [==============================] - 0s 5ms/step - loss: 4219.3052 - val_loss: 2550.6101\n",
      "Epoch 10/500\n",
      "28/28 [==============================] - 0s 8ms/step - loss: 4122.5156 - val_loss: 2492.9846\n",
      "Epoch 11/500\n",
      "28/28 [==============================] - 0s 5ms/step - loss: 4027.7385 - val_loss: 2436.7607\n",
      "Epoch 12/500\n",
      "28/28 [==============================] - 0s 4ms/step - loss: 3934.8582 - val_loss: 2381.8135\n",
      "Epoch 13/500\n",
      "28/28 [==============================] - 0s 4ms/step - loss: 3843.8196 - val_loss: 2328.3335\n",
      "Epoch 14/500\n",
      "28/28 [==============================] - 0s 4ms/step - loss: 3754.4868 - val_loss: 2276.0200\n",
      "Epoch 15/500\n",
      "28/28 [==============================] - 0s 4ms/step - loss: 3667.1997 - val_loss: 2224.4492\n",
      "Epoch 16/500\n",
      "28/28 [==============================] - 0s 4ms/step - loss: 3581.0029 - val_loss: 2174.7935\n",
      "Epoch 17/500\n",
      "28/28 [==============================] - 0s 4ms/step - loss: 3496.7112 - val_loss: 2126.0020\n",
      "Epoch 18/500\n",
      "28/28 [==============================] - 0s 3ms/step - loss: 3400.6802 - val_loss: 2069.8394\n",
      "Epoch 19/500\n",
      "28/28 [==============================] - 0s 4ms/step - loss: 3306.0095 - val_loss: 2020.2377\n",
      "Epoch 20/500\n",
      "28/28 [==============================] - 0s 4ms/step - loss: 3220.0315 - val_loss: 1973.0140\n",
      "Epoch 21/500\n",
      "28/28 [==============================] - 0s 3ms/step - loss: 3137.0957 - val_loss: 1927.6373\n",
      "Epoch 22/500\n",
      "28/28 [==============================] - 0s 4ms/step - loss: 3056.5437 - val_loss: 1883.8492\n",
      "Epoch 23/500\n",
      "28/28 [==============================] - 0s 4ms/step - loss: 2978.0522 - val_loss: 1841.5090\n",
      "Epoch 24/500\n",
      "28/28 [==============================] - 0s 4ms/step - loss: 2901.4373 - val_loss: 1800.5261\n",
      "Epoch 25/500\n",
      "28/28 [==============================] - 0s 4ms/step - loss: 2826.5796 - val_loss: 1760.8367\n",
      "Epoch 26/500\n",
      "28/28 [==============================] - 0s 4ms/step - loss: 2753.3894 - val_loss: 1722.3906\n",
      "Epoch 27/500\n",
      "28/28 [==============================] - 0s 4ms/step - loss: 2681.8035 - val_loss: 1685.1459\n",
      "Epoch 28/500\n",
      "28/28 [==============================] - 0s 6ms/step - loss: 2611.7654 - val_loss: 1649.0688\n",
      "Epoch 29/500\n",
      "28/28 [==============================] - 0s 4ms/step - loss: 2543.2302 - val_loss: 1614.1281\n",
      "Epoch 30/500\n",
      "28/28 [==============================] - 0s 4ms/step - loss: 2476.1584 - val_loss: 1580.2974\n",
      "Epoch 31/500\n",
      "28/28 [==============================] - 0s 4ms/step - loss: 2410.5156 - val_loss: 1547.5496\n",
      "Epoch 32/500\n",
      "28/28 [==============================] - 0s 4ms/step - loss: 2346.2690 - val_loss: 1515.8635\n",
      "Epoch 33/500\n",
      "28/28 [==============================] - 0s 4ms/step - loss: 2283.3896 - val_loss: 1485.2147\n",
      "Epoch 34/500\n",
      "28/28 [==============================] - 0s 4ms/step - loss: 2221.8506 - val_loss: 1455.5814\n",
      "Epoch 35/500\n",
      "28/28 [==============================] - 0s 4ms/step - loss: 2161.6265 - val_loss: 1426.9463\n",
      "Epoch 36/500\n",
      "28/28 [==============================] - 0s 3ms/step - loss: 2102.6936 - val_loss: 1399.2892\n",
      "Epoch 37/500\n",
      "28/28 [==============================] - 0s 7ms/step - loss: 2045.0286 - val_loss: 1372.5918\n",
      "Epoch 38/500\n",
      "28/28 [==============================] - 0s 4ms/step - loss: 1988.6095 - val_loss: 1346.8348\n",
      "Epoch 39/500\n",
      "28/28 [==============================] - 0s 5ms/step - loss: 1933.4160 - val_loss: 1322.0006\n",
      "Epoch 40/500\n",
      "28/28 [==============================] - 0s 4ms/step - loss: 1879.4274 - val_loss: 1298.0730\n",
      "Epoch 41/500\n",
      "28/28 [==============================] - 0s 4ms/step - loss: 1826.6235 - val_loss: 1275.0352\n",
      "Epoch 42/500\n",
      "28/28 [==============================] - 0s 4ms/step - loss: 1774.9860 - val_loss: 1252.8716\n",
      "Epoch 43/500\n",
      "28/28 [==============================] - 0s 3ms/step - loss: 1724.4954 - val_loss: 1231.5664\n",
      "Epoch 44/500\n",
      "28/28 [==============================] - 0s 5ms/step - loss: 1675.1342 - val_loss: 1211.1051\n",
      "Epoch 45/500\n",
      "28/28 [==============================] - 0s 4ms/step - loss: 1626.8843 - val_loss: 1191.4696\n",
      "Epoch 46/500\n",
      "28/28 [==============================] - 0s 3ms/step - loss: 1579.7285 - val_loss: 1172.6448\n",
      "Epoch 47/500\n",
      "28/28 [==============================] - 0s 4ms/step - loss: 1533.6494 - val_loss: 1154.6151\n",
      "Epoch 48/500\n",
      "28/28 [==============================] - 0s 4ms/step - loss: 1488.6304 - val_loss: 1137.3660\n",
      "Epoch 49/500\n",
      "28/28 [==============================] - 0s 4ms/step - loss: 1444.6548 - val_loss: 1120.8822\n",
      "Epoch 50/500\n",
      "28/28 [==============================] - 0s 4ms/step - loss: 1401.7063 - val_loss: 1105.1494\n",
      "Epoch 51/500\n",
      "28/28 [==============================] - 0s 4ms/step - loss: 1359.7697 - val_loss: 1090.1532\n",
      "Epoch 52/500\n",
      "28/28 [==============================] - 0s 4ms/step - loss: 1318.8281 - val_loss: 1075.8794\n",
      "Epoch 53/500\n",
      "28/28 [==============================] - 0s 4ms/step - loss: 1278.8668 - val_loss: 1062.3135\n",
      "Epoch 54/500\n",
      "28/28 [==============================] - 0s 3ms/step - loss: 1239.8698 - val_loss: 1049.4418\n",
      "Epoch 55/500\n",
      "28/28 [==============================] - 0s 4ms/step - loss: 1201.8219 - val_loss: 1037.2500\n",
      "Epoch 56/500\n",
      "28/28 [==============================] - 0s 4ms/step - loss: 1164.7085 - val_loss: 1025.7245\n",
      "Epoch 57/500\n",
      "28/28 [==============================] - 0s 4ms/step - loss: 1128.5146 - val_loss: 1014.8517\n",
      "Epoch 58/500\n",
      "28/28 [==============================] - 0s 4ms/step - loss: 1093.2253 - val_loss: 1004.6177\n",
      "Epoch 59/500\n",
      "28/28 [==============================] - 0s 4ms/step - loss: 1058.8264 - val_loss: 995.0095\n",
      "Epoch 60/500\n",
      "28/28 [==============================] - 0s 4ms/step - loss: 1025.3031 - val_loss: 986.0134\n",
      "Epoch 61/500\n",
      "28/28 [==============================] - 0s 4ms/step - loss: 992.6416 - val_loss: 977.6158\n",
      "Epoch 62/500\n",
      "28/28 [==============================] - 0s 4ms/step - loss: 960.8271 - val_loss: 969.8041\n",
      "Epoch 63/500\n",
      "28/28 [==============================] - 0s 4ms/step - loss: 929.8459 - val_loss: 962.5648\n",
      "Epoch 64/500\n",
      "28/28 [==============================] - 0s 3ms/step - loss: 899.6842 - val_loss: 955.8846\n",
      "Epoch 65/500\n",
      "28/28 [==============================] - 0s 4ms/step - loss: 870.3284 - val_loss: 949.7511\n",
      "Epoch 66/500\n",
      "28/28 [==============================] - 0s 3ms/step - loss: 841.7645 - val_loss: 944.1510\n",
      "Epoch 67/500\n",
      "28/28 [==============================] - 0s 4ms/step - loss: 813.9789 - val_loss: 939.0717\n",
      "Epoch 68/500\n",
      "28/28 [==============================] - 0s 4ms/step - loss: 786.9587 - val_loss: 934.5001\n",
      "Epoch 69/500\n",
      "28/28 [==============================] - 0s 4ms/step - loss: 760.6897 - val_loss: 930.4239\n",
      "Epoch 70/500\n",
      "28/28 [==============================] - 0s 6ms/step - loss: 735.1592 - val_loss: 926.8303\n",
      "Epoch 71/500\n",
      "28/28 [==============================] - 0s 4ms/step - loss: 710.3539 - val_loss: 923.7066\n",
      "Epoch 72/500\n",
      "28/28 [==============================] - 0s 4ms/step - loss: 686.2608 - val_loss: 921.0407\n",
      "Epoch 73/500\n",
      "28/28 [==============================] - 0s 4ms/step - loss: 662.8669 - val_loss: 918.8199\n",
      "Epoch 74/500\n",
      "28/28 [==============================] - 0s 4ms/step - loss: 640.1591 - val_loss: 917.0320\n",
      "Epoch 75/500\n",
      "28/28 [==============================] - 0s 4ms/step - loss: 618.1249 - val_loss: 915.6647\n",
      "Epoch 76/500\n",
      "28/28 [==============================] - 0s 4ms/step - loss: 596.7516 - val_loss: 914.7057\n",
      "Epoch 77/500\n",
      "28/28 [==============================] - 0s 4ms/step - loss: 576.0262 - val_loss: 914.1428\n",
      "Epoch 78/500\n",
      "28/28 [==============================] - 0s 4ms/step - loss: 555.9367 - val_loss: 913.9642\n",
      "Epoch 79/500\n",
      "28/28 [==============================] - 0s 4ms/step - loss: 536.4703 - val_loss: 914.1577\n",
      "Epoch 80/500\n",
      "28/28 [==============================] - 0s 4ms/step - loss: 517.6146 - val_loss: 914.7113\n",
      "Epoch 81/500\n",
      "28/28 [==============================] - 0s 4ms/step - loss: 499.3574 - val_loss: 915.6133\n",
      "Epoch 82/500\n",
      "28/28 [==============================] - 0s 4ms/step - loss: 481.6866 - val_loss: 916.8519\n",
      "Epoch 83/500\n",
      "28/28 [==============================] - 0s 3ms/step - loss: 464.5898 - val_loss: 918.4153\n",
      "Epoch 84/500\n",
      "28/28 [==============================] - 0s 4ms/step - loss: 448.0553 - val_loss: 920.2917\n",
      "Epoch 85/500\n",
      "28/28 [==============================] - 0s 4ms/step - loss: 432.0710 - val_loss: 922.4700\n",
      "Epoch 86/500\n",
      "28/28 [==============================] - 0s 4ms/step - loss: 416.6249 - val_loss: 924.9382\n",
      "Epoch 87/500\n",
      "28/28 [==============================] - 0s 4ms/step - loss: 401.7055 - val_loss: 927.6852\n",
      "Epoch 88/500\n",
      "28/28 [==============================] - 0s 4ms/step - loss: 387.3008 - val_loss: 930.6996\n",
      "Epoch 89/500\n",
      "28/28 [==============================] - 0s 3ms/step - loss: 373.3991 - val_loss: 933.9698\n",
      "Epoch 90/500\n",
      "28/28 [==============================] - 0s 4ms/step - loss: 359.9892 - val_loss: 937.4855\n",
      "Epoch 91/500\n",
      "28/28 [==============================] - 0s 3ms/step - loss: 347.0595 - val_loss: 941.2348\n",
      "Epoch 92/500\n",
      "28/28 [==============================] - 0s 4ms/step - loss: 334.5986 - val_loss: 945.2072\n",
      "Epoch 93/500\n",
      "28/28 [==============================] - 0s 4ms/step - loss: 322.5953 - val_loss: 949.3916\n",
      "Epoch 94/500\n",
      "28/28 [==============================] - 0s 3ms/step - loss: 311.0383 - val_loss: 953.7772\n",
      "Epoch 95/500\n",
      "28/28 [==============================] - 0s 4ms/step - loss: 299.9167 - val_loss: 958.3536\n",
      "Epoch 96/500\n",
      "28/28 [==============================] - 0s 4ms/step - loss: 289.2195 - val_loss: 963.1101\n",
      "Epoch 97/500\n",
      "28/28 [==============================] - 0s 4ms/step - loss: 278.9358 - val_loss: 968.0361\n",
      "Epoch 98/500\n",
      "28/28 [==============================] - 0s 4ms/step - loss: 269.0548 - val_loss: 973.1218\n",
      "Epoch 99/500\n",
      "28/28 [==============================] - 0s 7ms/step - loss: 259.5655 - val_loss: 978.3565\n",
      "Epoch 100/500\n",
      "28/28 [==============================] - 0s 4ms/step - loss: 250.4577 - val_loss: 983.7305\n",
      "Epoch 101/500\n",
      "28/28 [==============================] - 0s 4ms/step - loss: 241.7208 - val_loss: 989.2333\n",
      "Epoch 102/500\n",
      "28/28 [==============================] - 0s 3ms/step - loss: 233.3445 - val_loss: 994.8558\n",
      "Epoch 103/500\n",
      "28/28 [==============================] - 0s 4ms/step - loss: 225.3185 - val_loss: 1000.5881\n",
      "Epoch 104/500\n",
      "28/28 [==============================] - 0s 4ms/step - loss: 217.6327 - val_loss: 1006.4202\n",
      "Epoch 105/500\n",
      "28/28 [==============================] - 0s 4ms/step - loss: 210.2770 - val_loss: 1012.3434\n",
      "Epoch 106/500\n",
      "28/28 [==============================] - 0s 4ms/step - loss: 203.2414 - val_loss: 1018.3481\n",
      "Epoch 107/500\n",
      "28/28 [==============================] - 0s 4ms/step - loss: 196.5165 - val_loss: 1024.4257\n",
      "Epoch 108/500\n",
      "28/28 [==============================] - 0s 3ms/step - loss: 190.0921 - val_loss: 1030.5665\n",
      "Epoch 109/500\n",
      "28/28 [==============================] - 0s 3ms/step - loss: 183.9593 - val_loss: 1036.7622\n",
      "Epoch 110/500\n",
      "28/28 [==============================] - 0s 7ms/step - loss: 178.1084 - val_loss: 1043.0044\n",
      "Epoch 111/500\n",
      "28/28 [==============================] - 0s 5ms/step - loss: 172.5301 - val_loss: 1049.2844\n",
      "Epoch 112/500\n",
      "28/28 [==============================] - 0s 5ms/step - loss: 167.2154 - val_loss: 1055.5944\n",
      "Epoch 113/500\n",
      "28/28 [==============================] - 0s 6ms/step - loss: 162.1553 - val_loss: 1061.9261\n",
      "Epoch 114/500\n",
      "28/28 [==============================] - 0s 6ms/step - loss: 157.3408 - val_loss: 1068.2717\n",
      "Epoch 115/500\n",
      "28/28 [==============================] - 0s 5ms/step - loss: 152.7634 - val_loss: 1074.6240\n",
      "Epoch 116/500\n",
      "28/28 [==============================] - 0s 6ms/step - loss: 148.4145 - val_loss: 1080.9752\n",
      "Epoch 117/500\n",
      "28/28 [==============================] - 0s 6ms/step - loss: 144.2857 - val_loss: 1087.3180\n",
      "Epoch 118/500\n",
      "28/28 [==============================] - 0s 6ms/step - loss: 140.3690 - val_loss: 1093.6456\n",
      "Epoch 119/500\n",
      "28/28 [==============================] - 0s 6ms/step - loss: 136.6560 - val_loss: 1099.9517\n",
      "Epoch 120/500\n",
      "28/28 [==============================] - 0s 5ms/step - loss: 133.1389 - val_loss: 1106.2286\n",
      "Epoch 121/500\n",
      "28/28 [==============================] - 0s 5ms/step - loss: 129.8101 - val_loss: 1112.4712\n",
      "Epoch 122/500\n",
      "28/28 [==============================] - 0s 5ms/step - loss: 126.6618 - val_loss: 1118.6729\n",
      "Epoch 123/500\n",
      "28/28 [==============================] - 0s 5ms/step - loss: 123.6868 - val_loss: 1124.8275\n",
      "Epoch 124/500\n",
      "28/28 [==============================] - 0s 5ms/step - loss: 120.8777 - val_loss: 1130.9298\n",
      "Epoch 125/500\n",
      "28/28 [==============================] - 0s 4ms/step - loss: 118.2276 - val_loss: 1136.9742\n",
      "Epoch 126/500\n",
      "28/28 [==============================] - 0s 7ms/step - loss: 115.7294 - val_loss: 1142.9558\n",
      "Epoch 127/500\n",
      "28/28 [==============================] - 0s 6ms/step - loss: 113.3766 - val_loss: 1148.8699\n",
      "Epoch 128/500\n",
      "28/28 [==============================] - 0s 4ms/step - loss: 111.1624 - val_loss: 1154.7112\n",
      "Epoch 129/500\n",
      "28/28 [==============================] - 0s 5ms/step - loss: 109.0807 - val_loss: 1160.4760\n",
      "Epoch 130/500\n",
      "28/28 [==============================] - 0s 4ms/step - loss: 107.1250 - val_loss: 1166.1592\n",
      "Epoch 131/500\n",
      "28/28 [==============================] - 0s 4ms/step - loss: 105.2897 - val_loss: 1171.7574\n",
      "Epoch 132/500\n",
      "28/28 [==============================] - 0s 4ms/step - loss: 103.5686 - val_loss: 1177.2673\n",
      "Epoch 133/500\n",
      "28/28 [==============================] - 0s 4ms/step - loss: 101.9564 - val_loss: 1182.6851\n",
      "Epoch 134/500\n",
      "28/28 [==============================] - 0s 5ms/step - loss: 100.4473 - val_loss: 1188.0076\n",
      "Epoch 135/500\n",
      "28/28 [==============================] - 0s 4ms/step - loss: 99.0362 - val_loss: 1193.2316\n",
      "Epoch 136/500\n",
      "28/28 [==============================] - 0s 4ms/step - loss: 97.7179 - val_loss: 1198.3551\n",
      "Epoch 137/500\n",
      "28/28 [==============================] - 0s 4ms/step - loss: 96.4876 - val_loss: 1203.3750\n",
      "Epoch 138/500\n",
      "28/28 [==============================] - 0s 4ms/step - loss: 95.3404 - val_loss: 1208.2896\n",
      "Epoch 139/500\n",
      "28/28 [==============================] - 0s 3ms/step - loss: 94.2718 - val_loss: 1213.0967\n",
      "Epoch 140/500\n",
      "28/28 [==============================] - 0s 4ms/step - loss: 93.2774 - val_loss: 1217.7947\n",
      "Epoch 141/500\n",
      "28/28 [==============================] - 0s 4ms/step - loss: 92.3530 - val_loss: 1222.3812\n",
      "Epoch 142/500\n",
      "28/28 [==============================] - 0s 4ms/step - loss: 91.4945 - val_loss: 1226.8567\n",
      "Epoch 143/500\n",
      "28/28 [==============================] - 0s 4ms/step - loss: 90.6979 - val_loss: 1231.2194\n",
      "Epoch 144/500\n",
      "28/28 [==============================] - 0s 4ms/step - loss: 89.9595 - val_loss: 1235.4675\n",
      "Epoch 145/500\n",
      "28/28 [==============================] - 0s 4ms/step - loss: 89.2759 - val_loss: 1239.6011\n",
      "Epoch 146/500\n",
      "28/28 [==============================] - 0s 4ms/step - loss: 88.6435 - val_loss: 1243.6200\n",
      "Epoch 147/500\n",
      "28/28 [==============================] - 0s 4ms/step - loss: 88.0593 - val_loss: 1247.5233\n",
      "Epoch 148/500\n",
      "28/28 [==============================] - 0s 4ms/step - loss: 87.5200 - val_loss: 1251.3118\n",
      "Epoch 149/500\n",
      "28/28 [==============================] - 0s 4ms/step - loss: 87.0227 - val_loss: 1254.9847\n",
      "Epoch 150/500\n",
      "28/28 [==============================] - 0s 4ms/step - loss: 86.5646 - val_loss: 1258.5424\n",
      "Epoch 151/500\n",
      "28/28 [==============================] - 0s 4ms/step - loss: 86.1431 - val_loss: 1261.9854\n",
      "Epoch 152/500\n",
      "28/28 [==============================] - 0s 4ms/step - loss: 85.7558 - val_loss: 1265.3145\n",
      "Epoch 153/500\n",
      "28/28 [==============================] - 0s 3ms/step - loss: 85.4000 - val_loss: 1268.5297\n",
      "Epoch 154/500\n",
      "28/28 [==============================] - 0s 4ms/step - loss: 85.0737 - val_loss: 1271.6318\n",
      "Epoch 155/500\n",
      "28/28 [==============================] - 0s 3ms/step - loss: 84.7747 - val_loss: 1274.6226\n",
      "Epoch 156/500\n",
      "28/28 [==============================] - 0s 4ms/step - loss: 84.5010 - val_loss: 1277.5006\n",
      "Epoch 157/500\n",
      "28/28 [==============================] - 0s 4ms/step - loss: 84.2507 - val_loss: 1280.2670\n",
      "Epoch 158/500\n",
      "28/28 [==============================] - 0s 7ms/step - loss: 84.0222 - val_loss: 1282.9215\n",
      "Epoch 159/500\n",
      "28/28 [==============================] - 0s 4ms/step - loss: 83.8137 - val_loss: 1285.4652\n",
      "Epoch 160/500\n",
      "28/28 [==============================] - 0s 4ms/step - loss: 83.6236 - val_loss: 1287.8936\n",
      "Epoch 161/500\n",
      "28/28 [==============================] - 0s 5ms/step - loss: 83.4505 - val_loss: 1290.2031\n",
      "Epoch 162/500\n",
      "28/28 [==============================] - 0s 4ms/step - loss: 83.2931 - val_loss: 1292.3823\n",
      "Epoch 163/500\n",
      "28/28 [==============================] - 0s 5ms/step - loss: 83.1500 - val_loss: 1294.3990\n",
      "Epoch 164/500\n",
      "28/28 [==============================] - 0s 4ms/step - loss: 83.0199 - val_loss: 1296.1062\n",
      "Epoch 165/500\n",
      "28/28 [==============================] - 0s 4ms/step - loss: 82.8684 - val_loss: 1258.8871\n",
      "Epoch 166/500\n",
      "28/28 [==============================] - 0s 4ms/step - loss: 83.1387 - val_loss: 1302.7139\n",
      "Epoch 167/500\n",
      "28/28 [==============================] - 0s 5ms/step - loss: 82.6976 - val_loss: 1304.5598\n",
      "Epoch 168/500\n",
      "28/28 [==============================] - 0s 4ms/step - loss: 82.6103 - val_loss: 1306.3208\n",
      "Epoch 169/500\n",
      "28/28 [==============================] - 0s 4ms/step - loss: 82.5315 - val_loss: 1307.9990\n",
      "Epoch 170/500\n",
      "28/28 [==============================] - 0s 4ms/step - loss: 82.4605 - val_loss: 1309.5988\n",
      "Epoch 171/500\n",
      "28/28 [==============================] - 0s 5ms/step - loss: 82.3964 - val_loss: 1311.1207\n",
      "Epoch 172/500\n",
      "28/28 [==============================] - 0s 4ms/step - loss: 82.3388 - val_loss: 1312.5699\n",
      "Epoch 173/500\n",
      "28/28 [==============================] - 0s 5ms/step - loss: 82.2869 - val_loss: 1313.9469\n",
      "Epoch 174/500\n",
      "28/28 [==============================] - 0s 6ms/step - loss: 82.2402 - val_loss: 1315.2546\n",
      "Epoch 175/500\n",
      "28/28 [==============================] - 0s 5ms/step - loss: 82.1983 - val_loss: 1316.4950\n",
      "Epoch 176/500\n",
      "28/28 [==============================] - 0s 6ms/step - loss: 82.1606 - val_loss: 1317.6713\n",
      "Epoch 177/500\n",
      "28/28 [==============================] - 0s 5ms/step - loss: 82.1269 - val_loss: 1318.7848\n",
      "Epoch 178/500\n",
      "28/28 [==============================] - 0s 5ms/step - loss: 82.0966 - val_loss: 1319.8392\n",
      "Epoch 179/500\n",
      "28/28 [==============================] - 0s 6ms/step - loss: 82.0696 - val_loss: 1320.8359\n",
      "Epoch 180/500\n",
      "28/28 [==============================] - 0s 6ms/step - loss: 82.0454 - val_loss: 1321.7771\n",
      "Epoch 181/500\n",
      "28/28 [==============================] - 0s 5ms/step - loss: 82.0238 - val_loss: 1322.6663\n",
      "Epoch 182/500\n",
      "28/28 [==============================] - 0s 4ms/step - loss: 82.0045 - val_loss: 1323.5039\n",
      "Epoch 183/500\n",
      "28/28 [==============================] - 0s 4ms/step - loss: 81.9873 - val_loss: 1324.2932\n",
      "Epoch 184/500\n",
      "28/28 [==============================] - 0s 9ms/step - loss: 81.9720 - val_loss: 1325.0365\n",
      "Epoch 185/500\n",
      "28/28 [==============================] - 0s 5ms/step - loss: 81.9584 - val_loss: 1325.7357\n",
      "Epoch 186/500\n",
      "28/28 [==============================] - 0s 5ms/step - loss: 81.9463 - val_loss: 1326.3921\n",
      "Epoch 187/500\n",
      "28/28 [==============================] - 0s 5ms/step - loss: 81.9356 - val_loss: 1327.0088\n",
      "Epoch 188/500\n",
      "28/28 [==============================] - 0s 5ms/step - loss: 81.9260 - val_loss: 1327.5872\n",
      "Epoch 189/500\n",
      "28/28 [==============================] - 0s 4ms/step - loss: 81.9176 - val_loss: 1328.1287\n",
      "Epoch 190/500\n",
      "28/28 [==============================] - 0s 4ms/step - loss: 81.9102 - val_loss: 1328.6362\n",
      "Epoch 191/500\n",
      "28/28 [==============================] - 0s 4ms/step - loss: 81.9037 - val_loss: 1329.1104\n",
      "Epoch 192/500\n",
      "28/28 [==============================] - 0s 5ms/step - loss: 81.8979 - val_loss: 1329.5541\n",
      "Epoch 193/500\n",
      "28/28 [==============================] - 0s 5ms/step - loss: 81.8929 - val_loss: 1329.9684\n",
      "Epoch 194/500\n",
      "28/28 [==============================] - 0s 4ms/step - loss: 81.8885 - val_loss: 1330.3545\n",
      "Epoch 195/500\n",
      "28/28 [==============================] - 0s 4ms/step - loss: 81.8846 - val_loss: 1330.7140\n",
      "Epoch 196/500\n",
      "28/28 [==============================] - 0s 4ms/step - loss: 81.8813 - val_loss: 1331.0482\n",
      "Epoch 197/500\n",
      "28/28 [==============================] - 0s 5ms/step - loss: 81.8785 - val_loss: 1331.3597\n",
      "Epoch 198/500\n",
      "28/28 [==============================] - 0s 5ms/step - loss: 81.8760 - val_loss: 1331.6486\n",
      "Epoch 199/500\n",
      "28/28 [==============================] - 0s 4ms/step - loss: 81.8739 - val_loss: 1331.9160\n",
      "Epoch 200/500\n",
      "28/28 [==============================] - 0s 5ms/step - loss: 81.8722 - val_loss: 1332.1644\n",
      "Epoch 201/500\n",
      "28/28 [==============================] - 0s 5ms/step - loss: 81.8707 - val_loss: 1332.3938\n",
      "Epoch 202/500\n",
      "28/28 [==============================] - 0s 4ms/step - loss: 81.8696 - val_loss: 1332.6064\n",
      "Epoch 203/500\n",
      "28/28 [==============================] - 0s 5ms/step - loss: 81.8687 - val_loss: 1332.8025\n",
      "Epoch 204/500\n",
      "28/28 [==============================] - 0s 4ms/step - loss: 81.8679 - val_loss: 1332.9838\n",
      "Epoch 205/500\n",
      "28/28 [==============================] - 0s 5ms/step - loss: 81.8674 - val_loss: 1333.1499\n",
      "Epoch 206/500\n",
      "28/28 [==============================] - 0s 5ms/step - loss: 81.8670 - val_loss: 1333.3031\n",
      "Epoch 207/500\n",
      "28/28 [==============================] - 0s 5ms/step - loss: 81.8668 - val_loss: 1333.4435\n",
      "Epoch 208/500\n",
      "28/28 [==============================] - 0s 5ms/step - loss: 81.8668 - val_loss: 1333.5724\n",
      "Epoch 209/500\n",
      "28/28 [==============================] - 0s 4ms/step - loss: 81.8668 - val_loss: 1333.6899\n",
      "Epoch 210/500\n",
      "28/28 [==============================] - 0s 4ms/step - loss: 81.8670 - val_loss: 1333.7976\n",
      "Epoch 211/500\n",
      "28/28 [==============================] - 0s 8ms/step - loss: 81.8673 - val_loss: 1333.8954\n",
      "Epoch 212/500\n",
      "28/28 [==============================] - 0s 5ms/step - loss: 81.8676 - val_loss: 1333.9840\n",
      "Epoch 213/500\n",
      "28/28 [==============================] - 0s 5ms/step - loss: 81.8681 - val_loss: 1334.0652\n",
      "Epoch 214/500\n",
      "28/28 [==============================] - 0s 4ms/step - loss: 81.8687 - val_loss: 1334.1388\n",
      "Epoch 215/500\n",
      "28/28 [==============================] - 0s 5ms/step - loss: 81.8692 - val_loss: 1334.2050\n",
      "Epoch 216/500\n",
      "28/28 [==============================] - 0s 4ms/step - loss: 81.8699 - val_loss: 1334.2640\n",
      "Epoch 217/500\n",
      "28/28 [==============================] - 0s 4ms/step - loss: 81.8706 - val_loss: 1334.3179\n",
      "Epoch 218/500\n",
      "28/28 [==============================] - 0s 4ms/step - loss: 81.8714 - val_loss: 1334.3651\n",
      "Epoch 219/500\n",
      "28/28 [==============================] - 0s 4ms/step - loss: 81.8722 - val_loss: 1334.4077\n",
      "Epoch 220/500\n",
      "28/28 [==============================] - 0s 4ms/step - loss: 81.8730 - val_loss: 1334.4452\n",
      "Epoch 221/500\n",
      "28/28 [==============================] - 0s 5ms/step - loss: 81.8739 - val_loss: 1334.4781\n",
      "Epoch 222/500\n",
      "28/28 [==============================] - 0s 4ms/step - loss: 81.8747 - val_loss: 1334.5063\n",
      "Epoch 223/500\n",
      "28/28 [==============================] - 0s 4ms/step - loss: 81.8756 - val_loss: 1334.5309\n",
      "Epoch 224/500\n",
      "28/28 [==============================] - 0s 4ms/step - loss: 81.8766 - val_loss: 1334.5516\n",
      "Epoch 225/500\n",
      "28/28 [==============================] - 0s 4ms/step - loss: 81.8775 - val_loss: 1334.5692\n",
      "Epoch 226/500\n",
      "28/28 [==============================] - 0s 4ms/step - loss: 81.8785 - val_loss: 1334.5834\n",
      "Epoch 227/500\n",
      "28/28 [==============================] - 0s 4ms/step - loss: 81.8795 - val_loss: 1334.5951\n",
      "Epoch 228/500\n",
      "28/28 [==============================] - 0s 4ms/step - loss: 81.8804 - val_loss: 1334.6039\n",
      "Epoch 229/500\n",
      "28/28 [==============================] - 0s 4ms/step - loss: 81.8814 - val_loss: 1334.6104\n",
      "Epoch 230/500\n",
      "28/28 [==============================] - 0s 4ms/step - loss: 81.8824 - val_loss: 1334.6146\n",
      "Epoch 231/500\n",
      "28/28 [==============================] - 0s 4ms/step - loss: 81.8835 - val_loss: 1334.6169\n",
      "Epoch 232/500\n",
      "28/28 [==============================] - 0s 4ms/step - loss: 81.8844 - val_loss: 1334.6165\n",
      "Epoch 233/500\n",
      "28/28 [==============================] - 0s 4ms/step - loss: 81.8854 - val_loss: 1334.6146\n",
      "Epoch 234/500\n",
      "28/28 [==============================] - 0s 4ms/step - loss: 81.8865 - val_loss: 1334.6113\n",
      "Epoch 235/500\n",
      "28/28 [==============================] - 0s 5ms/step - loss: 81.8874 - val_loss: 1334.6069\n",
      "Epoch 236/500\n",
      "28/28 [==============================] - 0s 5ms/step - loss: 81.8884 - val_loss: 1334.5991\n",
      "Epoch 237/500\n",
      "28/28 [==============================] - 0s 6ms/step - loss: 81.8895 - val_loss: 1334.5917\n",
      "Epoch 238/500\n",
      "28/28 [==============================] - 0s 6ms/step - loss: 81.8904 - val_loss: 1334.5823\n",
      "Epoch 239/500\n",
      "28/28 [==============================] - 0s 12ms/step - loss: 81.8913 - val_loss: 1334.5713\n",
      "Epoch 240/500\n",
      "28/28 [==============================] - 0s 5ms/step - loss: 81.8924 - val_loss: 1334.5597\n",
      "Epoch 241/500\n",
      "28/28 [==============================] - 0s 5ms/step - loss: 81.8933 - val_loss: 1334.5468\n",
      "Epoch 242/500\n",
      "28/28 [==============================] - 0s 5ms/step - loss: 81.8942 - val_loss: 1334.5320\n",
      "Epoch 243/500\n",
      "28/28 [==============================] - 0s 5ms/step - loss: 81.8951 - val_loss: 1334.5171\n",
      "Epoch 244/500\n",
      "28/28 [==============================] - 0s 4ms/step - loss: 81.8955 - val_loss: 1334.2129\n",
      "Epoch 245/500\n",
      "28/28 [==============================] - 0s 4ms/step - loss: 82.0831 - val_loss: 1334.8630\n",
      "Epoch 246/500\n",
      "28/28 [==============================] - 0s 6ms/step - loss: 81.9391 - val_loss: 1334.8541\n",
      "Epoch 247/500\n",
      "28/28 [==============================] - 0s 5ms/step - loss: 81.9267 - val_loss: 1334.7959\n",
      "Epoch 248/500\n",
      "28/28 [==============================] - 0s 4ms/step - loss: 81.9229 - val_loss: 1334.7361\n",
      "Epoch 249/500\n",
      "28/28 [==============================] - 0s 4ms/step - loss: 81.9210 - val_loss: 1334.6735\n",
      "Epoch 250/500\n",
      "28/28 [==============================] - 0s 5ms/step - loss: 81.9201 - val_loss: 1334.6146\n",
      "Epoch 251/500\n",
      "28/28 [==============================] - 0s 5ms/step - loss: 81.9196 - val_loss: 1334.5573\n",
      "Epoch 252/500\n",
      "28/28 [==============================] - 0s 5ms/step - loss: 81.9195 - val_loss: 1334.5032\n",
      "Epoch 253/500\n",
      "28/28 [==============================] - 0s 4ms/step - loss: 81.9195 - val_loss: 1334.4542\n",
      "Epoch 254/500\n",
      "28/28 [==============================] - 0s 4ms/step - loss: 81.9198 - val_loss: 1334.4065\n",
      "Epoch 255/500\n",
      "28/28 [==============================] - 0s 5ms/step - loss: 81.9200 - val_loss: 1334.3567\n",
      "Epoch 256/500\n",
      "28/28 [==============================] - 0s 5ms/step - loss: 81.9203 - val_loss: 1334.3107\n",
      "Epoch 257/500\n",
      "28/28 [==============================] - 0s 4ms/step - loss: 81.9208 - val_loss: 1334.2631\n",
      "Epoch 258/500\n",
      "28/28 [==============================] - 0s 5ms/step - loss: 81.9212 - val_loss: 1334.2184\n",
      "Epoch 259/500\n",
      "28/28 [==============================] - 0s 5ms/step - loss: 81.9217 - val_loss: 1334.1713\n",
      "Epoch 260/500\n",
      "28/28 [==============================] - 0s 5ms/step - loss: 81.9222 - val_loss: 1334.1267\n",
      "Epoch 261/500\n",
      "28/28 [==============================] - 0s 4ms/step - loss: 81.9227 - val_loss: 1334.0833\n",
      "Epoch 262/500\n",
      "28/28 [==============================] - 0s 5ms/step - loss: 81.9231 - val_loss: 1334.0376\n",
      "Epoch 263/500\n",
      "28/28 [==============================] - 0s 9ms/step - loss: 81.9236 - val_loss: 1333.9868\n",
      "Epoch 264/500\n",
      "28/28 [==============================] - 0s 6ms/step - loss: 81.9241 - val_loss: 1333.9323\n",
      "Epoch 265/500\n",
      "28/28 [==============================] - 0s 5ms/step - loss: 81.9246 - val_loss: 1333.8735\n",
      "Epoch 266/500\n",
      "28/28 [==============================] - 0s 5ms/step - loss: 81.9251 - val_loss: 1333.8190\n",
      "Epoch 267/500\n",
      "28/28 [==============================] - 0s 4ms/step - loss: 81.9249 - val_loss: 1333.6313\n",
      "Epoch 268/500\n",
      "28/28 [==============================] - 0s 5ms/step - loss: 81.8754 - val_loss: 1330.1589\n",
      "Epoch 269/500\n",
      "28/28 [==============================] - 0s 4ms/step - loss: 84.5610 - val_loss: 1260.9979\n",
      "Epoch 270/500\n",
      "28/28 [==============================] - 0s 5ms/step - loss: 85.7242 - val_loss: 1267.8779\n",
      "Epoch 271/500\n",
      "28/28 [==============================] - 0s 4ms/step - loss: 85.0433 - val_loss: 1274.2096\n",
      "Epoch 272/500\n",
      "28/28 [==============================] - 0s 4ms/step - loss: 84.4772 - val_loss: 1279.9180\n",
      "Epoch 273/500\n",
      "28/28 [==============================] - 0s 5ms/step - loss: 84.0178 - val_loss: 1285.0374\n",
      "Epoch 274/500\n",
      "28/28 [==============================] - 0s 4ms/step - loss: 83.6452 - val_loss: 1289.6195\n",
      "Epoch 275/500\n",
      "28/28 [==============================] - 0s 4ms/step - loss: 83.3423 - val_loss: 1293.6991\n",
      "Epoch 276/500\n",
      "28/28 [==============================] - 0s 5ms/step - loss: 83.0959 - val_loss: 1297.2753\n",
      "Epoch 277/500\n",
      "28/28 [==============================] - 0s 5ms/step - loss: 82.8948 - val_loss: 1299.9283\n",
      "Epoch 278/500\n",
      "28/28 [==============================] - 0s 4ms/step - loss: 82.5667 - val_loss: 1280.2035\n",
      "Epoch 279/500\n",
      "28/28 [==============================] - 0s 5ms/step - loss: 89.2864 - val_loss: 1238.8372\n",
      "Epoch 280/500\n",
      "28/28 [==============================] - 0s 5ms/step - loss: 88.1895 - val_loss: 1247.5247\n",
      "Epoch 281/500\n",
      "28/28 [==============================] - 0s 5ms/step - loss: 87.0490 - val_loss: 1255.5045\n",
      "Epoch 282/500\n",
      "28/28 [==============================] - 0s 5ms/step - loss: 86.1115 - val_loss: 1262.7163\n",
      "Epoch 283/500\n",
      "28/28 [==============================] - 0s 5ms/step - loss: 85.3511 - val_loss: 1269.2214\n",
      "Epoch 284/500\n",
      "28/28 [==============================] - 0s 4ms/step - loss: 84.7341 - val_loss: 1275.0795\n",
      "Epoch 285/500\n",
      "28/28 [==============================] - 0s 4ms/step - loss: 84.2328 - val_loss: 1280.3467\n",
      "Epoch 286/500\n",
      "28/28 [==============================] - 0s 7ms/step - loss: 83.8250 - val_loss: 1285.0726\n",
      "Epoch 287/500\n",
      "28/28 [==============================] - 0s 5ms/step - loss: 83.4927 - val_loss: 1289.3041\n",
      "Epoch 288/500\n",
      "28/28 [==============================] - 0s 5ms/step - loss: 83.2214 - val_loss: 1293.0750\n",
      "Epoch 289/500\n",
      "28/28 [==============================] - 0s 4ms/step - loss: 82.9997 - val_loss: 1296.4259\n",
      "Epoch 290/500\n",
      "28/28 [==============================] - 0s 4ms/step - loss: 82.8182 - val_loss: 1299.3809\n",
      "Epoch 291/500\n",
      "28/28 [==============================] - 0s 4ms/step - loss: 82.6693 - val_loss: 1301.4073\n",
      "Epoch 292/500\n",
      "28/28 [==============================] - 0s 4ms/step - loss: 82.6126 - val_loss: 1304.2104\n",
      "Epoch 293/500\n",
      "28/28 [==============================] - 0s 4ms/step - loss: 82.4456 - val_loss: 1306.0175\n",
      "Epoch 294/500\n",
      "28/28 [==============================] - 0s 4ms/step - loss: 82.3623 - val_loss: 1307.2743\n",
      "Epoch 295/500\n",
      "28/28 [==============================] - 0s 4ms/step - loss: 82.2933 - val_loss: 1307.2573\n",
      "Epoch 296/500\n",
      "28/28 [==============================] - 0s 4ms/step - loss: 82.2319 - val_loss: 1287.5430\n",
      "Epoch 297/500\n",
      "28/28 [==============================] - 0s 4ms/step - loss: 82.4186 - val_loss: 1332.6620\n",
      "Epoch 298/500\n",
      "28/28 [==============================] - 0s 4ms/step - loss: 82.1482 - val_loss: 1333.9993\n",
      "Epoch 299/500\n",
      "28/28 [==============================] - 0s 4ms/step - loss: 82.1149 - val_loss: 1335.1937\n",
      "Epoch 300/500\n",
      "28/28 [==============================] - 0s 4ms/step - loss: 82.0872 - val_loss: 1336.2628\n",
      "Epoch 301/500\n",
      "28/28 [==============================] - 0s 4ms/step - loss: 82.0639 - val_loss: 1337.2191\n",
      "Epoch 302/500\n",
      "28/28 [==============================] - 0s 4ms/step - loss: 82.0443 - val_loss: 1338.0740\n",
      "Epoch 303/500\n",
      "28/28 [==============================] - 0s 4ms/step - loss: 82.0276 - val_loss: 1338.8389\n",
      "Epoch 304/500\n",
      "28/28 [==============================] - 0s 4ms/step - loss: 82.0135 - val_loss: 1339.5225\n",
      "Epoch 305/500\n",
      "28/28 [==============================] - 0s 4ms/step - loss: 82.0014 - val_loss: 1340.1333\n",
      "Epoch 306/500\n",
      "28/28 [==============================] - 0s 4ms/step - loss: 81.9912 - val_loss: 1340.6782\n",
      "Epoch 307/500\n",
      "28/28 [==============================] - 0s 4ms/step - loss: 81.9824 - val_loss: 1341.1649\n",
      "Epoch 308/500\n",
      "28/28 [==============================] - 0s 4ms/step - loss: 81.9749 - val_loss: 1341.5997\n",
      "Epoch 309/500\n",
      "28/28 [==============================] - 0s 4ms/step - loss: 81.9685 - val_loss: 1341.9879\n",
      "Epoch 310/500\n",
      "28/28 [==============================] - 0s 4ms/step - loss: 81.9629 - val_loss: 1342.3336\n",
      "Epoch 311/500\n",
      "28/28 [==============================] - 0s 8ms/step - loss: 81.9582 - val_loss: 1342.6433\n",
      "Epoch 312/500\n",
      "28/28 [==============================] - 0s 5ms/step - loss: 81.9540 - val_loss: 1342.9186\n",
      "Epoch 313/500\n",
      "28/28 [==============================] - 0s 5ms/step - loss: 81.9504 - val_loss: 1343.1638\n",
      "Epoch 314/500\n",
      "28/28 [==============================] - 0s 4ms/step - loss: 81.9474 - val_loss: 1343.3843\n",
      "Epoch 315/500\n",
      "28/28 [==============================] - 0s 4ms/step - loss: 81.9446 - val_loss: 1343.5806\n",
      "Epoch 316/500\n",
      "28/28 [==============================] - 0s 4ms/step - loss: 81.9423 - val_loss: 1343.7548\n",
      "Epoch 317/500\n",
      "28/28 [==============================] - 0s 4ms/step - loss: 81.9402 - val_loss: 1343.9097\n",
      "Epoch 318/500\n",
      "28/28 [==============================] - 0s 4ms/step - loss: 81.9385 - val_loss: 1344.0483\n",
      "Epoch 319/500\n",
      "28/28 [==============================] - 0s 4ms/step - loss: 81.9369 - val_loss: 1344.1709\n",
      "Epoch 320/500\n",
      "28/28 [==============================] - 0s 4ms/step - loss: 81.9356 - val_loss: 1344.2802\n",
      "Epoch 321/500\n",
      "28/28 [==============================] - 0s 4ms/step - loss: 81.9345 - val_loss: 1344.3777\n",
      "Epoch 322/500\n",
      "28/28 [==============================] - 0s 4ms/step - loss: 81.9335 - val_loss: 1344.4646\n",
      "Epoch 323/500\n",
      "28/28 [==============================] - 0s 4ms/step - loss: 81.9326 - val_loss: 1344.5421\n",
      "Epoch 324/500\n",
      "28/28 [==============================] - 0s 3ms/step - loss: 81.9318 - val_loss: 1344.6107\n",
      "Epoch 325/500\n",
      "28/28 [==============================] - 0s 4ms/step - loss: 81.9312 - val_loss: 1344.6719\n",
      "Epoch 326/500\n",
      "28/28 [==============================] - 0s 4ms/step - loss: 81.9307 - val_loss: 1344.7269\n",
      "Epoch 327/500\n",
      "28/28 [==============================] - 0s 4ms/step - loss: 81.9301 - val_loss: 1344.7751\n",
      "Epoch 328/500\n",
      "28/28 [==============================] - 0s 4ms/step - loss: 81.9297 - val_loss: 1344.8179\n",
      "Epoch 329/500\n",
      "28/28 [==============================] - 0s 4ms/step - loss: 81.9294 - val_loss: 1344.8561\n",
      "Epoch 330/500\n",
      "28/28 [==============================] - 0s 4ms/step - loss: 81.9290 - val_loss: 1344.8892\n",
      "Epoch 331/500\n",
      "28/28 [==============================] - 0s 4ms/step - loss: 81.9288 - val_loss: 1344.9191\n",
      "Epoch 332/500\n",
      "28/28 [==============================] - 0s 4ms/step - loss: 81.9286 - val_loss: 1344.9453\n",
      "Epoch 333/500\n",
      "28/28 [==============================] - 0s 4ms/step - loss: 81.9284 - val_loss: 1344.9684\n",
      "Epoch 334/500\n",
      "28/28 [==============================] - 0s 7ms/step - loss: 81.9283 - val_loss: 1344.9894\n",
      "Epoch 335/500\n",
      "28/28 [==============================] - 0s 4ms/step - loss: 81.9281 - val_loss: 1345.0073\n",
      "Epoch 336/500\n",
      "28/28 [==============================] - 0s 5ms/step - loss: 81.9280 - val_loss: 1345.0229\n",
      "Epoch 337/500\n",
      "28/28 [==============================] - 0s 4ms/step - loss: 81.9280 - val_loss: 1345.0365\n",
      "Epoch 338/500\n",
      "28/28 [==============================] - 0s 4ms/step - loss: 81.9279 - val_loss: 1345.0494\n",
      "Epoch 339/500\n",
      "28/28 [==============================] - 0s 4ms/step - loss: 81.9278 - val_loss: 1345.0597\n",
      "Epoch 340/500\n",
      "28/28 [==============================] - 0s 4ms/step - loss: 81.9278 - val_loss: 1345.0692\n",
      "Epoch 341/500\n",
      "28/28 [==============================] - 0s 4ms/step - loss: 81.9278 - val_loss: 1345.0767\n",
      "Epoch 342/500\n",
      "28/28 [==============================] - 0s 4ms/step - loss: 81.9278 - val_loss: 1345.0836\n",
      "Epoch 343/500\n",
      "28/28 [==============================] - 0s 4ms/step - loss: 81.9279 - val_loss: 1345.0901\n",
      "Epoch 344/500\n",
      "28/28 [==============================] - 0s 4ms/step - loss: 81.9279 - val_loss: 1345.0958\n",
      "Epoch 345/500\n",
      "28/28 [==============================] - 0s 4ms/step - loss: 81.9279 - val_loss: 1345.1000\n",
      "Epoch 346/500\n",
      "28/28 [==============================] - 0s 4ms/step - loss: 81.9280 - val_loss: 1345.1036\n",
      "Epoch 347/500\n",
      "28/28 [==============================] - 0s 4ms/step - loss: 81.9279 - val_loss: 1345.1064\n",
      "Epoch 348/500\n",
      "28/28 [==============================] - 0s 4ms/step - loss: 81.9280 - val_loss: 1345.1091\n",
      "Epoch 349/500\n",
      "28/28 [==============================] - 0s 4ms/step - loss: 81.9280 - val_loss: 1345.1110\n",
      "Epoch 350/500\n",
      "28/28 [==============================] - 0s 4ms/step - loss: 81.9281 - val_loss: 1345.1132\n",
      "Epoch 351/500\n",
      "28/28 [==============================] - 0s 4ms/step - loss: 81.9281 - val_loss: 1345.1141\n",
      "Epoch 352/500\n",
      "28/28 [==============================] - 0s 4ms/step - loss: 81.9282 - val_loss: 1345.1149\n",
      "Epoch 353/500\n",
      "28/28 [==============================] - 0s 4ms/step - loss: 81.9282 - val_loss: 1345.1162\n",
      "Epoch 354/500\n",
      "28/28 [==============================] - 0s 4ms/step - loss: 81.9283 - val_loss: 1345.1162\n",
      "Epoch 355/500\n",
      "28/28 [==============================] - 0s 4ms/step - loss: 81.9283 - val_loss: 1345.1155\n",
      "Epoch 356/500\n",
      "28/28 [==============================] - 0s 4ms/step - loss: 81.9284 - val_loss: 1345.1156\n",
      "Epoch 357/500\n",
      "28/28 [==============================] - 0s 8ms/step - loss: 81.9285 - val_loss: 1345.1160\n",
      "Epoch 358/500\n",
      "28/28 [==============================] - 0s 4ms/step - loss: 81.9285 - val_loss: 1345.1147\n",
      "Epoch 359/500\n",
      "28/28 [==============================] - 0s 4ms/step - loss: 81.9285 - val_loss: 1345.1136\n",
      "Epoch 360/500\n",
      "28/28 [==============================] - 0s 4ms/step - loss: 81.9286 - val_loss: 1345.1127\n",
      "Epoch 361/500\n",
      "28/28 [==============================] - 0s 4ms/step - loss: 81.9286 - val_loss: 1345.1108\n",
      "Epoch 362/500\n",
      "28/28 [==============================] - 0s 4ms/step - loss: 81.9287 - val_loss: 1345.1091\n",
      "Epoch 363/500\n",
      "28/28 [==============================] - 0s 4ms/step - loss: 81.9288 - val_loss: 1345.1080\n",
      "Epoch 364/500\n",
      "28/28 [==============================] - 0s 4ms/step - loss: 81.9288 - val_loss: 1345.1064\n",
      "Epoch 365/500\n",
      "28/28 [==============================] - 0s 4ms/step - loss: 81.9288 - val_loss: 1345.1046\n",
      "Epoch 366/500\n",
      "28/28 [==============================] - 0s 4ms/step - loss: 81.9289 - val_loss: 1345.1027\n",
      "Epoch 367/500\n",
      "28/28 [==============================] - 0s 4ms/step - loss: 81.9289 - val_loss: 1345.1003\n",
      "Epoch 368/500\n",
      "28/28 [==============================] - 0s 4ms/step - loss: 81.9290 - val_loss: 1345.0978\n",
      "Epoch 369/500\n",
      "28/28 [==============================] - 0s 4ms/step - loss: 81.9290 - val_loss: 1345.0953\n",
      "Epoch 370/500\n",
      "28/28 [==============================] - 0s 4ms/step - loss: 81.9291 - val_loss: 1345.0931\n",
      "Epoch 371/500\n",
      "28/28 [==============================] - 0s 4ms/step - loss: 81.9292 - val_loss: 1345.0898\n",
      "Epoch 372/500\n",
      "28/28 [==============================] - 0s 4ms/step - loss: 81.9292 - val_loss: 1345.0870\n",
      "Epoch 373/500\n",
      "28/28 [==============================] - 0s 3ms/step - loss: 81.9292 - val_loss: 1345.0841\n",
      "Epoch 374/500\n",
      "28/28 [==============================] - 0s 4ms/step - loss: 81.9293 - val_loss: 1345.0814\n",
      "Epoch 375/500\n",
      "28/28 [==============================] - 0s 4ms/step - loss: 81.9293 - val_loss: 1345.0781\n",
      "Epoch 376/500\n",
      "28/28 [==============================] - 0s 4ms/step - loss: 81.9294 - val_loss: 1345.0748\n",
      "Epoch 377/500\n",
      "28/28 [==============================] - 0s 4ms/step - loss: 81.9294 - val_loss: 1345.0710\n",
      "Epoch 378/500\n",
      "28/28 [==============================] - 0s 4ms/step - loss: 81.9294 - val_loss: 1345.0663\n",
      "Epoch 379/500\n",
      "28/28 [==============================] - 0s 4ms/step - loss: 81.9295 - val_loss: 1345.0624\n",
      "Epoch 380/500\n",
      "28/28 [==============================] - 0s 7ms/step - loss: 81.9296 - val_loss: 1345.0588\n",
      "Epoch 381/500\n",
      "28/28 [==============================] - 0s 4ms/step - loss: 81.9296 - val_loss: 1345.0553\n",
      "Epoch 382/500\n",
      "28/28 [==============================] - 0s 4ms/step - loss: 81.9296 - val_loss: 1345.0513\n",
      "Epoch 383/500\n",
      "28/28 [==============================] - 0s 4ms/step - loss: 81.9296 - val_loss: 1345.0466\n",
      "Epoch 384/500\n",
      "28/28 [==============================] - 0s 4ms/step - loss: 81.9296 - val_loss: 1345.0414\n",
      "Epoch 385/500\n",
      "28/28 [==============================] - 0s 4ms/step - loss: 81.9297 - val_loss: 1345.0365\n",
      "Epoch 386/500\n",
      "28/28 [==============================] - 0s 4ms/step - loss: 81.9297 - val_loss: 1345.0306\n",
      "Epoch 387/500\n",
      "28/28 [==============================] - 0s 4ms/step - loss: 81.9297 - val_loss: 1345.0242\n",
      "Epoch 388/500\n",
      "28/28 [==============================] - 0s 4ms/step - loss: 81.9297 - val_loss: 1345.0171\n",
      "Epoch 389/500\n",
      "28/28 [==============================] - 0s 4ms/step - loss: 81.9298 - val_loss: 1345.0110\n",
      "Epoch 390/500\n",
      "28/28 [==============================] - 0s 4ms/step - loss: 81.9298 - val_loss: 1345.0028\n",
      "Epoch 391/500\n",
      "28/28 [==============================] - 0s 4ms/step - loss: 81.9299 - val_loss: 1344.9944\n",
      "Epoch 392/500\n",
      "28/28 [==============================] - 0s 4ms/step - loss: 81.9299 - val_loss: 1344.9860\n",
      "Epoch 393/500\n",
      "28/28 [==============================] - 0s 4ms/step - loss: 81.9299 - val_loss: 1344.9764\n",
      "Epoch 394/500\n",
      "28/28 [==============================] - 0s 4ms/step - loss: 81.9299 - val_loss: 1344.9662\n",
      "Epoch 395/500\n",
      "28/28 [==============================] - 0s 4ms/step - loss: 81.9300 - val_loss: 1344.9554\n",
      "Epoch 396/500\n",
      "28/28 [==============================] - 0s 4ms/step - loss: 81.9300 - val_loss: 1344.9437\n",
      "Epoch 397/500\n",
      "28/28 [==============================] - 0s 4ms/step - loss: 81.9300 - val_loss: 1344.9302\n",
      "Epoch 398/500\n",
      "28/28 [==============================] - 0s 4ms/step - loss: 81.9301 - val_loss: 1344.9154\n",
      "Epoch 399/500\n",
      "28/28 [==============================] - 0s 4ms/step - loss: 81.9301 - val_loss: 1344.8997\n",
      "Epoch 400/500\n",
      "28/28 [==============================] - 0s 4ms/step - loss: 81.9301 - val_loss: 1344.8821\n",
      "Epoch 401/500\n",
      "28/28 [==============================] - 0s 4ms/step - loss: 81.9301 - val_loss: 1344.8605\n",
      "Epoch 402/500\n",
      "28/28 [==============================] - 0s 7ms/step - loss: 81.9301 - val_loss: 1344.8359\n",
      "Epoch 403/500\n",
      "28/28 [==============================] - 0s 4ms/step - loss: 81.9301 - val_loss: 1344.8065\n",
      "Epoch 404/500\n",
      "28/28 [==============================] - 0s 4ms/step - loss: 81.9301 - val_loss: 1344.7725\n",
      "Epoch 405/500\n",
      "28/28 [==============================] - 0s 4ms/step - loss: 81.9302 - val_loss: 1344.7313\n",
      "Epoch 406/500\n",
      "28/28 [==============================] - 0s 4ms/step - loss: 81.9302 - val_loss: 1344.6809\n",
      "Epoch 407/500\n",
      "28/28 [==============================] - 0s 4ms/step - loss: 81.9302 - val_loss: 1344.6173\n",
      "Epoch 408/500\n",
      "28/28 [==============================] - 0s 4ms/step - loss: 81.9302 - val_loss: 1344.5330\n",
      "Epoch 409/500\n",
      "28/28 [==============================] - 0s 4ms/step - loss: 81.9303 - val_loss: 1344.4189\n",
      "Epoch 410/500\n",
      "28/28 [==============================] - 0s 4ms/step - loss: 81.9302 - val_loss: 1344.2515\n",
      "Epoch 411/500\n",
      "28/28 [==============================] - 0s 4ms/step - loss: 81.9303 - val_loss: 1343.9724\n",
      "Epoch 412/500\n",
      "28/28 [==============================] - 0s 4ms/step - loss: 81.9303 - val_loss: 1343.2783\n",
      "Epoch 413/500\n",
      "28/28 [==============================] - 0s 4ms/step - loss: 81.9109 - val_loss: 1322.6274\n",
      "Epoch 414/500\n",
      "28/28 [==============================] - 0s 4ms/step - loss: 86.0517 - val_loss: 1345.9017\n",
      "Epoch 415/500\n",
      "28/28 [==============================] - 0s 4ms/step - loss: 81.9267 - val_loss: 1345.8723\n",
      "Epoch 416/500\n",
      "28/28 [==============================] - 0s 4ms/step - loss: 81.9232 - val_loss: 1345.7993\n",
      "Epoch 417/500\n",
      "28/28 [==============================] - 0s 4ms/step - loss: 81.9237 - val_loss: 1345.7314\n",
      "Epoch 418/500\n",
      "28/28 [==============================] - 0s 4ms/step - loss: 81.9245 - val_loss: 1345.6707\n",
      "Epoch 419/500\n",
      "28/28 [==============================] - 0s 4ms/step - loss: 81.9251 - val_loss: 1345.6163\n",
      "Epoch 420/500\n",
      "28/28 [==============================] - 0s 4ms/step - loss: 81.9257 - val_loss: 1345.5665\n",
      "Epoch 421/500\n",
      "28/28 [==============================] - 0s 4ms/step - loss: 81.9261 - val_loss: 1345.5209\n",
      "Epoch 422/500\n",
      "28/28 [==============================] - 0s 7ms/step - loss: 81.9266 - val_loss: 1345.4788\n",
      "Epoch 423/500\n",
      "28/28 [==============================] - 0s 4ms/step - loss: 81.9271 - val_loss: 1345.4397\n",
      "Epoch 424/500\n",
      "28/28 [==============================] - 0s 6ms/step - loss: 81.9274 - val_loss: 1345.4023\n",
      "Epoch 425/500\n",
      "28/28 [==============================] - 0s 4ms/step - loss: 81.9278 - val_loss: 1345.3641\n",
      "Epoch 426/500\n",
      "28/28 [==============================] - 0s 4ms/step - loss: 81.9280 - val_loss: 1345.3175\n",
      "Epoch 427/500\n",
      "28/28 [==============================] - 0s 4ms/step - loss: 81.9283 - val_loss: 1345.2319\n",
      "Epoch 428/500\n",
      "28/28 [==============================] - 0s 4ms/step - loss: 81.9285 - val_loss: 1344.1438\n",
      "Epoch 429/500\n",
      "28/28 [==============================] - 0s 4ms/step - loss: 82.0053 - val_loss: 1343.8418\n",
      "Epoch 430/500\n",
      "28/28 [==============================] - 0s 4ms/step - loss: 83.2119 - val_loss: 1346.0809\n",
      "Epoch 431/500\n",
      "28/28 [==============================] - 0s 4ms/step - loss: 81.9277 - val_loss: 1346.0502\n",
      "Epoch 432/500\n",
      "28/28 [==============================] - 0s 4ms/step - loss: 81.9265 - val_loss: 1345.9994\n",
      "Epoch 433/500\n",
      "28/28 [==============================] - 0s 4ms/step - loss: 81.9269 - val_loss: 1345.9456\n",
      "Epoch 434/500\n",
      "28/28 [==============================] - 0s 4ms/step - loss: 81.9270 - val_loss: 1342.2740\n",
      "Epoch 435/500\n",
      "28/28 [==============================] - 0s 4ms/step - loss: 82.9153 - val_loss: 1346.2502\n",
      "Epoch 436/500\n",
      "28/28 [==============================] - 0s 4ms/step - loss: 81.9270 - val_loss: 1346.2191\n",
      "Epoch 437/500\n",
      "28/28 [==============================] - 0s 4ms/step - loss: 81.9264 - val_loss: 1346.1792\n",
      "Epoch 438/500\n",
      "28/28 [==============================] - 0s 4ms/step - loss: 81.9268 - val_loss: 1346.1438\n",
      "Epoch 439/500\n",
      "28/28 [==============================] - 0s 4ms/step - loss: 81.9271 - val_loss: 1346.1113\n",
      "Epoch 440/500\n",
      "28/28 [==============================] - 0s 4ms/step - loss: 81.9276 - val_loss: 1346.0840\n",
      "Epoch 441/500\n",
      "28/28 [==============================] - 0s 4ms/step - loss: 81.9279 - val_loss: 1346.0582\n",
      "Epoch 442/500\n",
      "28/28 [==============================] - 0s 4ms/step - loss: 81.9282 - val_loss: 1346.0358\n",
      "Epoch 443/500\n",
      "28/28 [==============================] - 0s 8ms/step - loss: 81.9284 - val_loss: 1346.0160\n",
      "Epoch 444/500\n",
      "28/28 [==============================] - 0s 4ms/step - loss: 81.9286 - val_loss: 1345.9979\n",
      "Epoch 445/500\n",
      "28/28 [==============================] - 0s 5ms/step - loss: 81.9289 - val_loss: 1345.9822\n",
      "Epoch 446/500\n",
      "28/28 [==============================] - 0s 4ms/step - loss: 81.9290 - val_loss: 1345.9679\n",
      "Epoch 447/500\n",
      "28/28 [==============================] - 0s 4ms/step - loss: 81.9292 - val_loss: 1345.9552\n",
      "Epoch 448/500\n",
      "28/28 [==============================] - 0s 4ms/step - loss: 81.9293 - val_loss: 1345.9434\n",
      "Epoch 449/500\n",
      "28/28 [==============================] - 0s 4ms/step - loss: 81.9294 - val_loss: 1345.9335\n",
      "Epoch 450/500\n",
      "28/28 [==============================] - 0s 4ms/step - loss: 81.9296 - val_loss: 1345.9242\n",
      "Epoch 451/500\n",
      "28/28 [==============================] - 0s 4ms/step - loss: 81.9297 - val_loss: 1345.9156\n",
      "Epoch 452/500\n",
      "28/28 [==============================] - 0s 4ms/step - loss: 81.9298 - val_loss: 1345.9078\n",
      "Epoch 453/500\n",
      "28/28 [==============================] - 0s 4ms/step - loss: 81.9299 - val_loss: 1345.9017\n",
      "Epoch 454/500\n",
      "28/28 [==============================] - 0s 4ms/step - loss: 81.9300 - val_loss: 1345.8953\n",
      "Epoch 455/500\n",
      "28/28 [==============================] - 0s 4ms/step - loss: 81.9300 - val_loss: 1345.8899\n",
      "Epoch 456/500\n",
      "28/28 [==============================] - 0s 4ms/step - loss: 81.9301 - val_loss: 1345.8843\n",
      "Epoch 457/500\n",
      "28/28 [==============================] - 0s 4ms/step - loss: 81.9301 - val_loss: 1345.8794\n",
      "Epoch 458/500\n",
      "28/28 [==============================] - 0s 4ms/step - loss: 81.9301 - val_loss: 1345.8756\n",
      "Epoch 459/500\n",
      "28/28 [==============================] - 0s 4ms/step - loss: 81.9303 - val_loss: 1345.8713\n",
      "Epoch 460/500\n",
      "28/28 [==============================] - 0s 4ms/step - loss: 81.9303 - val_loss: 1345.8685\n",
      "Epoch 461/500\n",
      "28/28 [==============================] - 0s 4ms/step - loss: 81.9303 - val_loss: 1345.8651\n",
      "Epoch 462/500\n",
      "28/28 [==============================] - 0s 8ms/step - loss: 81.9304 - val_loss: 1345.8627\n",
      "Epoch 463/500\n",
      "28/28 [==============================] - 0s 4ms/step - loss: 81.9305 - val_loss: 1345.8607\n",
      "Epoch 464/500\n",
      "28/28 [==============================] - 0s 4ms/step - loss: 81.9305 - val_loss: 1345.8589\n",
      "Epoch 465/500\n",
      "28/28 [==============================] - 0s 4ms/step - loss: 81.9305 - val_loss: 1345.8571\n",
      "Epoch 466/500\n",
      "28/28 [==============================] - 0s 4ms/step - loss: 81.9305 - val_loss: 1345.8545\n",
      "Epoch 467/500\n",
      "28/28 [==============================] - 0s 4ms/step - loss: 81.9305 - val_loss: 1345.8528\n",
      "Epoch 468/500\n",
      "28/28 [==============================] - 0s 4ms/step - loss: 81.9305 - val_loss: 1345.8510\n",
      "Epoch 469/500\n",
      "28/28 [==============================] - 0s 4ms/step - loss: 81.9306 - val_loss: 1345.8492\n",
      "Epoch 470/500\n",
      "28/28 [==============================] - 0s 4ms/step - loss: 81.9306 - val_loss: 1345.8469\n",
      "Epoch 471/500\n",
      "28/28 [==============================] - 0s 4ms/step - loss: 81.9306 - val_loss: 1345.8452\n",
      "Epoch 472/500\n",
      "28/28 [==============================] - 0s 4ms/step - loss: 81.9306 - val_loss: 1345.8431\n",
      "Epoch 473/500\n",
      "28/28 [==============================] - 0s 4ms/step - loss: 81.9306 - val_loss: 1345.8412\n",
      "Epoch 474/500\n",
      "28/28 [==============================] - 0s 4ms/step - loss: 81.9306 - val_loss: 1345.8390\n",
      "Epoch 475/500\n",
      "28/28 [==============================] - 0s 4ms/step - loss: 81.9306 - val_loss: 1345.8367\n",
      "Epoch 476/500\n",
      "28/28 [==============================] - 0s 4ms/step - loss: 81.9306 - val_loss: 1345.8346\n",
      "Epoch 477/500\n",
      "28/28 [==============================] - 0s 4ms/step - loss: 81.9306 - val_loss: 1345.8323\n",
      "Epoch 478/500\n",
      "28/28 [==============================] - 0s 4ms/step - loss: 81.9306 - val_loss: 1345.8300\n",
      "Epoch 479/500\n",
      "28/28 [==============================] - 0s 4ms/step - loss: 81.9307 - val_loss: 1345.8273\n",
      "Epoch 480/500\n",
      "28/28 [==============================] - 0s 4ms/step - loss: 81.9307 - val_loss: 1345.8247\n",
      "Epoch 481/500\n",
      "28/28 [==============================] - 0s 4ms/step - loss: 81.9307 - val_loss: 1345.8217\n",
      "Epoch 482/500\n",
      "28/28 [==============================] - 0s 8ms/step - loss: 81.9307 - val_loss: 1345.8179\n",
      "Epoch 483/500\n",
      "28/28 [==============================] - 0s 4ms/step - loss: 81.9307 - val_loss: 1345.8116\n",
      "Epoch 484/500\n",
      "28/28 [==============================] - 0s 4ms/step - loss: 81.9307 - val_loss: 1345.7809\n",
      "Epoch 485/500\n",
      "28/28 [==============================] - 0s 4ms/step - loss: 81.9171 - val_loss: 1343.5933\n",
      "Epoch 486/500\n",
      "28/28 [==============================] - 0s 4ms/step - loss: 82.1602 - val_loss: 1344.9941\n",
      "Epoch 487/500\n",
      "28/28 [==============================] - 0s 4ms/step - loss: 81.9864 - val_loss: 1345.1621\n",
      "Epoch 488/500\n",
      "28/28 [==============================] - 0s 4ms/step - loss: 81.9711 - val_loss: 1345.2517\n",
      "Epoch 489/500\n",
      "28/28 [==============================] - 0s 4ms/step - loss: 81.9649 - val_loss: 1345.3252\n",
      "Epoch 490/500\n",
      "28/28 [==============================] - 0s 4ms/step - loss: 81.9609 - val_loss: 1345.3873\n",
      "Epoch 491/500\n",
      "28/28 [==============================] - 0s 5ms/step - loss: 81.9580 - val_loss: 1345.4418\n",
      "Epoch 492/500\n",
      "28/28 [==============================] - 0s 5ms/step - loss: 81.9557 - val_loss: 1345.4891\n",
      "Epoch 493/500\n",
      "28/28 [==============================] - 0s 4ms/step - loss: 81.9539 - val_loss: 1345.5314\n",
      "Epoch 494/500\n",
      "28/28 [==============================] - 0s 6ms/step - loss: 81.9524 - val_loss: 1345.5679\n",
      "Epoch 495/500\n",
      "28/28 [==============================] - 0s 4ms/step - loss: 81.9511 - val_loss: 1345.5999\n",
      "Epoch 496/500\n",
      "28/28 [==============================] - 0s 5ms/step - loss: 81.9500 - val_loss: 1345.6279\n",
      "Epoch 497/500\n",
      "28/28 [==============================] - 0s 4ms/step - loss: 81.9491 - val_loss: 1345.6539\n",
      "Epoch 498/500\n",
      "28/28 [==============================] - 0s 4ms/step - loss: 81.9481 - val_loss: 1345.6748\n",
      "Epoch 499/500\n",
      "28/28 [==============================] - 0s 6ms/step - loss: 81.9475 - val_loss: 1345.6941\n",
      "Epoch 500/500\n",
      "28/28 [==============================] - 0s 4ms/step - loss: 81.9469 - val_loss: 1345.7124\n"
     ]
    }
   ],
   "source": [
    "C0 = tf.Variable(88.1552, name=\"C0\", trainable=True, dtype=tf.float32)\n",
    "K0 = tf.Variable(-0.0026, name=\"K0\", trainable=True, dtype=tf.float32)\n",
    "K1 = tf.Variable(-0.0004, name=\"K1\", trainable=True, dtype=tf.float32)\n",
    "a = tf.Variable(0.0000, name=\"a\", trainable=True, dtype=tf.float32)\n",
    "b = tf.Variable(0.0102, name=\"b\", trainable=True, dtype=tf.float32)\n",
    "c = tf.Variable(2.8734, name=\"c\", trainable=True, dtype=tf.float32)\n",
    "\n",
    "splitr = 0.8\n",
    "\n",
    "\n",
    "def loss_fn(y_true, y_pred):\n",
    "    squared_difference = tf.square(y_true[:, 0] - y_pred[:, 0])\n",
    "    #squared_difference2 = tf.square(y_true[:, 2]-y_pred[:, 2])\n",
    "    #squared_difference1 = tf.square(y_true[:, 1]-y_pred[:, 1])\n",
    "    epsilon = 1\n",
    "    squared_difference3 = tf.square(\n",
    "        y_pred[:, 1] - (\n",
    "            y_pred[:, 0] * (\n",
    "                K0 - K1 * (\n",
    "                    9 * a * tf.math.log((y_pred[:, 0] + epsilon) / C0) / (K0 - K1 * c)**2 +\n",
    "                    4 * b * tf.math.log((y_pred[:, 0] + epsilon) / C0) / (K0 - K1 * c) + c\n",
    "                )\n",
    "            )\n",
    "        )\n",
    "    )\n",
    "    return tf.reduce_mean(squared_difference, axis=-1) + 0.2*tf.reduce_mean(squared_difference3, axis=-1)\n",
    "model = Sequential()\n",
    "model.add(LSTM(100, input_shape=(trainX.shape[1], trainX.shape[2])))\n",
    "model.add(Dense(60))\n",
    "model.compile(loss=loss_fn, optimizer='adam')\n",
    "history = model.fit(trainX[:int(splitr*trainX.shape[0])], trainy[:int(splitr*trainX.shape[0])], epochs=500, batch_size=64, validation_data=(trainX[int(splitr*trainX.shape[0]):trainX.shape[0]], trainy[int(splitr*trainX.shape[0]):trainX.shape[0]]), shuffle=False)"
   ]
  },
  {
   "cell_type": "code",
   "execution_count": 19,
   "metadata": {
    "colab": {
     "base_uri": "https://localhost:8080/"
    },
    "id": "yJL101rPyuoT",
    "outputId": "239ff2b1-c186-423a-d316-939dfdd7c793"
   },
   "outputs": [
    {
     "name": "stdout",
     "output_type": "stream",
     "text": [
      "1/1 [==============================] - 0s 355ms/step\n"
     ]
    }
   ],
   "source": [
    "forecast_without_mc = forecastX\n",
    "yhat_without_mc = model.predict(forecast_without_mc) # Step Ahead Prediction\n",
    "forecast_without_mc = forecast_without_mc.reshape((forecast_without_mc.shape[0], forecast_without_mc.shape[2])) # Historical Input"
   ]
  },
  {
   "cell_type": "code",
   "execution_count": 20,
   "metadata": {
    "colab": {
     "base_uri": "https://localhost:8080/"
    },
    "id": "g9dQELcJ8wbp",
    "outputId": "4dc7671b-b1a8-48d5-8744-a86f98446109"
   },
   "outputs": [
    {
     "data": {
      "text/plain": [
       "(1, 1, 126)"
      ]
     },
     "execution_count": 20,
     "metadata": {},
     "output_type": "execute_result"
    }
   ],
   "source": [
    "forecastX.shape"
   ]
  },
  {
   "cell_type": "code",
   "execution_count": 21,
   "metadata": {
    "colab": {
     "base_uri": "https://localhost:8080/"
    },
    "id": "IS2kyIKG1Kbr",
    "outputId": "f31b3485-8e26-452f-9298-ea8bf7e80ad1"
   },
   "outputs": [
    {
     "data": {
      "text/plain": [
       "(1, 126)"
      ]
     },
     "execution_count": 21,
     "metadata": {},
     "output_type": "execute_result"
    }
   ],
   "source": [
    "forecast_without_mc.shape"
   ]
  },
  {
   "cell_type": "code",
   "execution_count": 22,
   "metadata": {
    "id": "0u6VIzaDyuoT"
   },
   "outputs": [],
   "source": [
    "inv_yhat_without_mc = np.concatenate((forecast_without_mc, yhat_without_mc), axis=1) # Concatenation of predicted values with Historical Data\n",
    "#inv_yhat_without_mc = scaler.inverse_transform(inv_yhat_without_mc) # Transform labels back to original encoding"
   ]
  },
  {
   "cell_type": "code",
   "execution_count": 23,
   "metadata": {
    "colab": {
     "base_uri": "https://localhost:8080/"
    },
    "id": "EUEcw0LX07oU",
    "outputId": "cfc32397-9c37-4b43-d087-584bb31c3dcc"
   },
   "outputs": [
    {
     "data": {
      "text/plain": [
       "(1, 186)"
      ]
     },
     "execution_count": 23,
     "metadata": {},
     "output_type": "execute_result"
    }
   ],
   "source": [
    "inv_yhat_without_mc.shape"
   ]
  },
  {
   "cell_type": "code",
   "execution_count": 24,
   "metadata": {
    "id": "31OWVbSh_305"
   },
   "outputs": [],
   "source": [
    "fforecast = inv_yhat_without_mc[:,-150:]"
   ]
  },
  {
   "cell_type": "code",
   "execution_count": 25,
   "metadata": {},
   "outputs": [
    {
     "data": {
      "text/plain": [
       "(1, 150)"
      ]
     },
     "execution_count": 25,
     "metadata": {},
     "output_type": "execute_result"
    }
   ],
   "source": [
    "fforecast.shape"
   ]
  },
  {
   "cell_type": "code",
   "execution_count": 26,
   "metadata": {
    "id": "BlpGH2FOAiRF"
   },
   "outputs": [],
   "source": [
    "final_forecast = fforecast[:,0:150:3]"
   ]
  },
  {
   "cell_type": "code",
   "execution_count": 27,
   "metadata": {},
   "outputs": [
    {
     "data": {
      "text/plain": [
       "(1, 150)"
      ]
     },
     "execution_count": 27,
     "metadata": {},
     "output_type": "execute_result"
    }
   ],
   "source": [
    "fforecast.shape"
   ]
  },
  {
   "cell_type": "code",
   "execution_count": 28,
   "metadata": {
    "id": "CXkgkj_LBk_t"
   },
   "outputs": [],
   "source": [
    "# code to replace all negative value with 0\n",
    "final_forecast[final_forecast<0] = 0"
   ]
  },
  {
   "cell_type": "code",
   "execution_count": 29,
   "metadata": {},
   "outputs": [
    {
     "data": {
      "text/plain": [
       "array([[ 0.        , 69.3528478 , 68.9494865 , 68.5461251 , 68.2508637 ,\n",
       "        68.1248133 , 67.9987628 , 67.8727124 , 67.693324  , 67.4412232 ,\n",
       "         0.95224452,  0.        , 68.1761671 , 68.0501167 , 67.9240663 ,\n",
       "        67.7960317 , 67.6200606 , 67.4401344 , 67.2602082 , 67.080282  ,\n",
       "        66.9003558 , 74.5072708 ,  0.        , 62.54023361,  0.        ,\n",
       "         0.52089834,  0.92265719,  0.94453633,  0.20587075,  0.23263276,\n",
       "        53.12518311,  0.        ,  0.        ,  0.71475446,  0.09016362,\n",
       "         0.        ,  0.29408324,  0.28857082,  0.        ,  0.        ,\n",
       "         0.        ,  0.        ,  0.        ,  0.25247416,  0.        ,\n",
       "         0.        ,  0.        ,  0.        ,  0.        ,  0.64641154]])"
      ]
     },
     "execution_count": 29,
     "metadata": {},
     "output_type": "execute_result"
    }
   ],
   "source": [
    "final_forecast"
   ]
  },
  {
   "cell_type": "code",
   "execution_count": 30,
   "metadata": {},
   "outputs": [
    {
     "data": {
      "text/plain": [
       "(1, 50)"
      ]
     },
     "execution_count": 30,
     "metadata": {},
     "output_type": "execute_result"
    }
   ],
   "source": [
    "final_forecast.shape"
   ]
  },
  {
   "cell_type": "code",
   "execution_count": 31,
   "metadata": {},
   "outputs": [
    {
     "data": {
      "text/plain": [
       "(50,)"
      ]
     },
     "execution_count": 31,
     "metadata": {},
     "output_type": "execute_result"
    }
   ],
   "source": [
    "test.shape"
   ]
  },
  {
   "cell_type": "code",
   "execution_count": 32,
   "metadata": {},
   "outputs": [],
   "source": [
    "training_set = np.array(training_set)\n",
    "test = np.array(test)\n",
    "final_forecast = np.array(final_forecast.squeeze(0))"
   ]
  },
  {
   "cell_type": "code",
   "execution_count": 33,
   "metadata": {},
   "outputs": [
    {
     "data": {
      "text/plain": [
       "array([52.86327116, 52.8476942 , 52.83211724, 52.81654027, 52.80096331,\n",
       "       52.78538635, 52.76980939, 52.75423242, 52.73865546, 52.7230785 ,\n",
       "       52.70750154, 52.69192457, 52.67634761, 52.66077065, 52.64519369,\n",
       "       52.62961672, 52.61403976, 52.5984628 , 52.58288584, 52.56730887,\n",
       "       52.55173191, 52.53615495, 52.52057799, 52.50500102, 52.48942406,\n",
       "       52.4738471 , 52.45827014, 52.44269317, 52.42711621, 52.41153925,\n",
       "       52.39596229, 52.38038532, 52.36480836, 52.3492314 , 52.33365444,\n",
       "       52.31807747, 52.30250051, 52.28692355, 52.27134659, 52.25576962,\n",
       "       52.24019266, 52.2246157 , 52.20903874, 52.19346177, 52.17788481,\n",
       "       52.16230785, 52.14673089, 52.13115392, 52.11557696, 52.1       ])"
      ]
     },
     "execution_count": 33,
     "metadata": {},
     "output_type": "execute_result"
    }
   ],
   "source": [
    "test"
   ]
  },
  {
   "cell_type": "code",
   "execution_count": 34,
   "metadata": {},
   "outputs": [
    {
     "data": {
      "text/plain": [
       "(50,)"
      ]
     },
     "execution_count": 34,
     "metadata": {},
     "output_type": "execute_result"
    }
   ],
   "source": [
    "test.shape"
   ]
  },
  {
   "cell_type": "code",
   "execution_count": 35,
   "metadata": {},
   "outputs": [
    {
     "data": {
      "text/plain": [
       "(50,)"
      ]
     },
     "execution_count": 35,
     "metadata": {},
     "output_type": "execute_result"
    }
   ],
   "source": [
    "final_forecast.shape"
   ]
  },
  {
   "cell_type": "code",
   "execution_count": 36,
   "metadata": {},
   "outputs": [
    {
     "data": {
      "text/plain": [
       "(50,)"
      ]
     },
     "execution_count": 36,
     "metadata": {},
     "output_type": "execute_result"
    }
   ],
   "source": [
    "test.shape"
   ]
  },
  {
   "cell_type": "code",
   "execution_count": 37,
   "metadata": {},
   "outputs": [
    {
     "name": "stdout",
     "output_type": "stream",
     "text": [
      "40.887717078686876\n",
      "36.372056877776814\n"
     ]
    }
   ],
   "source": [
    "import math\n",
    "MSE = np.square(np.subtract(np.array(test),np.array(final_forecast))).mean()   \n",
    "rsme = math.sqrt(MSE)\n",
    "print(rsme)  \n",
    "MAE = np.abs(np.subtract(np.array(test),np.array(final_forecast))).mean()   \n",
    "mae = MAE\n",
    "print(mae)"
   ]
  }
 ],
 "metadata": {
  "colab": {
   "provenance": []
  },
  "kernelspec": {
   "display_name": "Python 3",
   "language": "python",
   "name": "python3"
  },
  "language_info": {
   "codemirror_mode": {
    "name": "ipython",
    "version": 3
   },
   "file_extension": ".py",
   "mimetype": "text/x-python",
   "name": "python",
   "nbconvert_exporter": "python",
   "pygments_lexer": "ipython3",
   "version": "3.9.13"
  }
 },
 "nbformat": 4,
 "nbformat_minor": 0
}
