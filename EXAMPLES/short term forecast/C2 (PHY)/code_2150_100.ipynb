{
 "cells": [
  {
   "cell_type": "markdown",
   "metadata": {
    "id": "pCGKeZ2gyuoQ"
   },
   "source": [
    "_Importing Required Libraries_"
   ]
  },
  {
   "cell_type": "code",
   "execution_count": 1,
   "metadata": {
    "colab": {
     "base_uri": "https://localhost:8080/"
    },
    "id": "A-6LN-zXiLcM",
    "outputId": "4de610a4-f8b8-4f49-c6c0-89de299ccedc"
   },
   "outputs": [
    {
     "name": "stdout",
     "output_type": "stream",
     "text": [
      "Requirement already satisfied: hampel in c:\\users\\anurag dutta\\appdata\\local\\packages\\pythonsoftwarefoundation.python.3.9_qbz5n2kfra8p0\\localcache\\local-packages\\python39\\site-packages (0.0.5)\n",
      "Requirement already satisfied: numpy in c:\\users\\anurag dutta\\appdata\\local\\packages\\pythonsoftwarefoundation.python.3.9_qbz5n2kfra8p0\\localcache\\local-packages\\python39\\site-packages (from hampel) (1.26.4)\n",
      "Requirement already satisfied: pandas in c:\\users\\anurag dutta\\appdata\\local\\packages\\pythonsoftwarefoundation.python.3.9_qbz5n2kfra8p0\\localcache\\local-packages\\python39\\site-packages (from hampel) (1.5.2)\n",
      "Requirement already satisfied: python-dateutil>=2.8.1 in c:\\users\\anurag dutta\\appdata\\local\\packages\\pythonsoftwarefoundation.python.3.9_qbz5n2kfra8p0\\localcache\\local-packages\\python39\\site-packages (from pandas->hampel) (2.8.2)\n",
      "Requirement already satisfied: pytz>=2020.1 in c:\\users\\anurag dutta\\appdata\\local\\packages\\pythonsoftwarefoundation.python.3.9_qbz5n2kfra8p0\\localcache\\local-packages\\python39\\site-packages (from pandas->hampel) (2023.3.post1)\n",
      "Requirement already satisfied: six>=1.5 in c:\\users\\anurag dutta\\appdata\\local\\packages\\pythonsoftwarefoundation.python.3.9_qbz5n2kfra8p0\\localcache\\local-packages\\python39\\site-packages (from python-dateutil>=2.8.1->pandas->hampel) (1.16.0)\n",
      "Note: you may need to restart the kernel to use updated packages.\n"
     ]
    },
    {
     "name": "stderr",
     "output_type": "stream",
     "text": [
      "\n",
      "[notice] A new release of pip is available: 24.2 -> 24.3.1\n",
      "[notice] To update, run: C:\\Users\\Anurag Dutta\\AppData\\Local\\Microsoft\\WindowsApps\\PythonSoftwareFoundation.Python.3.9_qbz5n2kfra8p0\\python.exe -m pip install --upgrade pip\n"
     ]
    }
   ],
   "source": [
    "pip install hampel"
   ]
  },
  {
   "cell_type": "code",
   "execution_count": 2,
   "metadata": {
    "id": "By_d9uXpaFvZ"
   },
   "outputs": [],
   "source": [
    "from keras.models import Sequential\n",
    "from keras.layers import Dense\n",
    "from keras.layers import LSTM\n",
    "from keras.layers import Dropout\n",
    "import keras\n",
    "import tensorflow as tf\n",
    "from hampel import hampel\n",
    "import numpy as np\n",
    "import matplotlib.pyplot as plt\n",
    "import pandas as pd\n",
    "from sklearn.preprocessing import MinMaxScaler\n",
    "from sklearn.metrics import mean_squared_error, mean_absolute_error\n",
    "from math import sqrt\n",
    "from matplotlib import pyplot\n",
    "from numpy import array"
   ]
  },
  {
   "cell_type": "markdown",
   "metadata": {
    "id": "JyOjBMFayuoR"
   },
   "source": [
    "## Pretraining"
   ]
  },
  {
   "cell_type": "markdown",
   "metadata": {
    "id": "-5QqIY_GyuoR"
   },
   "source": [
    "The `capa_intermittency.dat` feeds the model with the dynamics of the Capacitor"
   ]
  },
  {
   "cell_type": "code",
   "execution_count": 3,
   "metadata": {
    "id": "9dV4a8yfyuoR"
   },
   "outputs": [],
   "source": [
    "data = np.genfromtxt('capa_intermittency.dat')\n",
    "training_set = pd.DataFrame(data).reset_index(drop=True)\n",
    "training_set = training_set.iloc[:,0]"
   ]
  },
  {
   "cell_type": "markdown",
   "metadata": {
    "id": "i7easoxByuoR"
   },
   "source": [
    "## Computing the Gradient"
   ]
  },
  {
   "cell_type": "markdown",
   "metadata": {
    "id": "5SnyolJTyuoR"
   },
   "source": [
    "_Calculating the value of_ $\\frac{dx}{dt}$"
   ]
  },
  {
   "cell_type": "code",
   "execution_count": 4,
   "metadata": {
    "colab": {
     "base_uri": "https://localhost:8080/"
    },
    "id": "wmIbVfIvyuoR",
    "outputId": "aa4e3136-c854-465d-d2e9-81cfd546e440"
   },
   "outputs": [
    {
     "name": "stdout",
     "output_type": "stream",
     "text": [
      "1.0\n",
      "1        0.000298\n",
      "2        0.000298\n",
      "3        0.000297\n",
      "4        0.000297\n",
      "5        0.000297\n",
      "           ...   \n",
      "9996     0.000018\n",
      "9997     0.000018\n",
      "9998     0.000018\n",
      "9999     0.000018\n",
      "10000    0.000018\n",
      "Name: 0, Length: 10000, dtype: float64\n"
     ]
    }
   ],
   "source": [
    "t_diff = 1\n",
    "print(training_set.max())\n",
    "gradient_t = (training_set.diff()/t_diff).iloc[1:] # dx/dt\n",
    "print(gradient_t)"
   ]
  },
  {
   "cell_type": "markdown",
   "metadata": {
    "id": "_2eVeeoxyuoS"
   },
   "source": [
    "## Loading Datasets"
   ]
  },
  {
   "cell_type": "code",
   "execution_count": 5,
   "metadata": {
    "id": "0J-NKyIEyuoS"
   },
   "outputs": [
    {
     "data": {
      "text/plain": [
       "0       90.500000\n",
       "1       90.275910\n",
       "2       90.051821\n",
       "3       89.827731\n",
       "4       89.603641\n",
       "          ...    \n",
       "2245    56.056548\n",
       "2246    56.040972\n",
       "2247    56.025395\n",
       "2248    56.009818\n",
       "2249    55.994241\n",
       "Name: C2, Length: 2250, dtype: float64"
      ]
     },
     "execution_count": 5,
     "metadata": {},
     "output_type": "execute_result"
    }
   ],
   "source": [
    "data = pd.read_csv(\"c2_interpolated_2150_100.csv\")\n",
    "training_set = data.iloc[:, 1]\n",
    "training_set"
   ]
  },
  {
   "cell_type": "code",
   "execution_count": 6,
   "metadata": {
    "colab": {
     "base_uri": "https://localhost:8080/"
    },
    "id": "-CbNUhJ74UqF",
    "outputId": "20f562d8-8247-49cc-b9c3-00eca5e13e2d"
   },
   "outputs": [
    {
     "data": {
      "text/plain": [
       "0       90.500000\n",
       "1       90.275910\n",
       "2       90.051821\n",
       "3       89.827731\n",
       "4       89.603641\n",
       "          ...    \n",
       "2145     0.000000\n",
       "2146     0.387256\n",
       "2147     0.224838\n",
       "2148     0.000000\n",
       "2149     0.000000\n",
       "Name: C2, Length: 2150, dtype: float64"
      ]
     },
     "execution_count": 6,
     "metadata": {},
     "output_type": "execute_result"
    }
   ],
   "source": [
    "test = training_set.tail(100)\n",
    "test\n",
    "training_set = training_set.head(2150)\n",
    "training_set"
   ]
  },
  {
   "cell_type": "code",
   "execution_count": 7,
   "metadata": {
    "colab": {
     "base_uri": "https://localhost:8080/"
    },
    "id": "X0TwTcq0yuoS",
    "outputId": "37252ed8-d88e-4044-fa7a-922411990b5b"
   },
   "outputs": [
    {
     "name": "stdout",
     "output_type": "stream",
     "text": [
      "0       0.000298\n",
      "1       0.000298\n",
      "2       0.000297\n",
      "3       0.000297\n",
      "4       0.000297\n",
      "          ...   \n",
      "9995    0.000018\n",
      "9996    0.000018\n",
      "9997    0.000018\n",
      "9998    0.000018\n",
      "9999    0.000018\n",
      "Name: 0, Length: 10000, dtype: float64\n"
     ]
    }
   ],
   "source": [
    "training_set = training_set.reset_index(drop=True)\n",
    "gradient_t = gradient_t.reset_index(drop=True)\n",
    "print(gradient_t)"
   ]
  },
  {
   "cell_type": "code",
   "execution_count": 8,
   "metadata": {
    "id": "O2biznZQyuoS"
   },
   "outputs": [],
   "source": [
    "df = pd.concat((training_set, gradient_t), axis=1)\n",
    "df.columns = ['y_t', 'grad_t']"
   ]
  },
  {
   "cell_type": "code",
   "execution_count": 9,
   "metadata": {
    "colab": {
     "base_uri": "https://localhost:8080/",
     "height": 423
    },
    "id": "sk_a5v3tyuoS",
    "outputId": "17563625-e550-45ae-faab-fafa353e44da"
   },
   "outputs": [
    {
     "data": {
      "text/html": [
       "<div>\n",
       "<style scoped>\n",
       "    .dataframe tbody tr th:only-of-type {\n",
       "        vertical-align: middle;\n",
       "    }\n",
       "\n",
       "    .dataframe tbody tr th {\n",
       "        vertical-align: top;\n",
       "    }\n",
       "\n",
       "    .dataframe thead th {\n",
       "        text-align: right;\n",
       "    }\n",
       "</style>\n",
       "<table border=\"1\" class=\"dataframe\">\n",
       "  <thead>\n",
       "    <tr style=\"text-align: right;\">\n",
       "      <th></th>\n",
       "      <th>y_t</th>\n",
       "      <th>grad_t</th>\n",
       "    </tr>\n",
       "  </thead>\n",
       "  <tbody>\n",
       "    <tr>\n",
       "      <th>0</th>\n",
       "      <td>90.500000</td>\n",
       "      <td>0.000298</td>\n",
       "    </tr>\n",
       "    <tr>\n",
       "      <th>1</th>\n",
       "      <td>90.275910</td>\n",
       "      <td>0.000298</td>\n",
       "    </tr>\n",
       "    <tr>\n",
       "      <th>2</th>\n",
       "      <td>90.051821</td>\n",
       "      <td>0.000297</td>\n",
       "    </tr>\n",
       "    <tr>\n",
       "      <th>3</th>\n",
       "      <td>89.827731</td>\n",
       "      <td>0.000297</td>\n",
       "    </tr>\n",
       "    <tr>\n",
       "      <th>4</th>\n",
       "      <td>89.603641</td>\n",
       "      <td>0.000297</td>\n",
       "    </tr>\n",
       "    <tr>\n",
       "      <th>...</th>\n",
       "      <td>...</td>\n",
       "      <td>...</td>\n",
       "    </tr>\n",
       "    <tr>\n",
       "      <th>9995</th>\n",
       "      <td>NaN</td>\n",
       "      <td>0.000018</td>\n",
       "    </tr>\n",
       "    <tr>\n",
       "      <th>9996</th>\n",
       "      <td>NaN</td>\n",
       "      <td>0.000018</td>\n",
       "    </tr>\n",
       "    <tr>\n",
       "      <th>9997</th>\n",
       "      <td>NaN</td>\n",
       "      <td>0.000018</td>\n",
       "    </tr>\n",
       "    <tr>\n",
       "      <th>9998</th>\n",
       "      <td>NaN</td>\n",
       "      <td>0.000018</td>\n",
       "    </tr>\n",
       "    <tr>\n",
       "      <th>9999</th>\n",
       "      <td>NaN</td>\n",
       "      <td>0.000018</td>\n",
       "    </tr>\n",
       "  </tbody>\n",
       "</table>\n",
       "<p>10000 rows × 2 columns</p>\n",
       "</div>"
      ],
      "text/plain": [
       "            y_t    grad_t\n",
       "0     90.500000  0.000298\n",
       "1     90.275910  0.000298\n",
       "2     90.051821  0.000297\n",
       "3     89.827731  0.000297\n",
       "4     89.603641  0.000297\n",
       "...         ...       ...\n",
       "9995        NaN  0.000018\n",
       "9996        NaN  0.000018\n",
       "9997        NaN  0.000018\n",
       "9998        NaN  0.000018\n",
       "9999        NaN  0.000018\n",
       "\n",
       "[10000 rows x 2 columns]"
      ]
     },
     "execution_count": 9,
     "metadata": {},
     "output_type": "execute_result"
    }
   ],
   "source": [
    "df"
   ]
  },
  {
   "cell_type": "markdown",
   "metadata": {
    "id": "-5esyHu5aFvg"
   },
   "source": [
    "## Plot of the External Forcing from Chaotic Differential Equation"
   ]
  },
  {
   "cell_type": "code",
   "execution_count": 10,
   "metadata": {
    "colab": {
     "base_uri": "https://localhost:8080/",
     "height": 447
    },
    "id": "hGnE43tOh-4p",
    "outputId": "fc396503-b624-4fa5-dfbe-f460207405c6"
   },
   "outputs": [
    {
     "data": {
      "text/plain": [
       "<Axes: >"
      ]
     },
     "execution_count": 10,
     "metadata": {},
     "output_type": "execute_result"
    },
    {
     "data": {
      "image/png": "[encoded data removed]",
      "text/plain": [
       "<Figure size 432x288 with 1 Axes>"
      ]
     },
     "metadata": {
      "needs_background": "light"
     },
     "output_type": "display_data"
    }
   ],
   "source": [
    "df.iloc[:, 0].plot()"
   ]
  },
  {
   "cell_type": "code",
   "execution_count": 11,
   "metadata": {
    "colab": {
     "base_uri": "https://localhost:8080/",
     "height": 447
    },
    "id": "ym4xWUUxaFvg",
    "outputId": "ae6a3495-8ce9-437e-ba81-3ed31deedeae"
   },
   "outputs": [
    {
     "name": "stderr",
     "output_type": "stream",
     "text": [
      "C:\\Users\\Anurag Dutta\\AppData\\Local\\Packages\\PythonSoftwareFoundation.Python.3.9_qbz5n2kfra8p0\\LocalCache\\local-packages\\Python39\\site-packages\\pandas\\core\\arraylike.py:402: RuntimeWarning: divide by zero encountered in log\n",
      "  result = getattr(ufunc, method)(*inputs, **kwargs)\n"
     ]
    },
    {
     "data": {
      "text/plain": [
       "<Axes: >"
      ]
     },
     "execution_count": 11,
     "metadata": {},
     "output_type": "execute_result"
    },
    {
     "data": {
      "image/png": "[encoded data removed]",
      "text/plain": [
       "<Figure size 432x288 with 1 Axes>"
      ]
     },
     "metadata": {
      "needs_background": "light"
     },
     "output_type": "display_data"
    }
   ],
   "source": [
    "import numpy as np\n",
    "c0 = 88.1552  # Value for C0\n",
    "K0 = -0.0026  # Value for K0\n",
    "K1 = -0.0004  # Value for K1\n",
    "a = 0.0000    # Value for a\n",
    "b = 0.0102    # Value for b\n",
    "c = 2.8734    # Value for c\n",
    "\n",
    "L = np.minimum(c0, (df.iloc[:, 1] - (df.iloc[:, 0] * (K0 - K1 * (9 * a * np.log(df.iloc[:, 0] / c0) / (K0 - K1 * c)**2 + 4 * b * np.log(df.iloc[:, 0] / c0) / (K0 - K1 * c) + c)))))\n",
    "L.plot()"
   ]
  },
  {
   "cell_type": "markdown",
   "metadata": {
    "id": "9VyEywnwaFvh"
   },
   "source": [
    "## Preprocessing the data into supervised learning"
   ]
  },
  {
   "cell_type": "code",
   "execution_count": 12,
   "metadata": {
    "id": "6V9dXqzdaFvh"
   },
   "outputs": [],
   "source": [
    "# split a sequence into samples\n",
    "def Supervised(data, n_in=1, n_out=1, dropnan=True):\n",
    "    n_vars = 1 if type(data) is list else data.shape[1]\n",
    "    df = pd.DataFrame(data)\n",
    "    cols, names = list(), list()\n",
    "    # input sequence (t-n_in, ... t-1)\n",
    "    for i in range(n_in, 0, -1):\n",
    "        cols.append(df.shift(i))\n",
    "        names += [('var%d(t-%d)' % (j+1, i)) for j in range(n_vars)]\n",
    "    # forecast sequence (t, t+1, ... t+n_out)\n",
    "    for i in range(0, n_out):\n",
    "      cols.append(df.shift(-i))\n",
    "      if i == 0:\n",
    "        names += [('var%d(t)' % (j+1)) for j in range(n_vars)]\n",
    "      else:\n",
    "        names += [('var%d(t+%d)' % (j+1, i)) for j in range(n_vars)]\n",
    "    # put it all together\n",
    "    agg = pd.concat(cols, axis=1)\n",
    "    agg.columns = names\n",
    "    # drop rows with NaN values\n",
    "    if dropnan:\n",
    "       agg.dropna(inplace=True)\n",
    "    return agg"
   ]
  },
  {
   "cell_type": "code",
   "execution_count": 13,
   "metadata": {
    "colab": {
     "base_uri": "https://localhost:8080/"
    },
    "id": "CrzSrT1HnyfH",
    "outputId": "7e75f928-3e47-499d-eac1-51908015ef78"
   },
   "outputs": [
    {
     "name": "stdout",
     "output_type": "stream",
     "text": [
      "     var1(t-350)  var1(t-349)  var1(t-348)  var1(t-347)  var1(t-346)  \\\n",
      "350    90.500000    90.275910    90.051821    89.827731    89.603641   \n",
      "351    90.275910    90.051821    89.827731    89.603641    89.379552   \n",
      "352    90.051821    89.827731    89.603641    89.379552    89.155462   \n",
      "353    89.827731    89.603641    89.379552    89.155462    88.931373   \n",
      "354    89.603641    89.379552    89.155462    88.931373    88.707283   \n",
      "\n",
      "     var1(t-345)  var1(t-344)  var1(t-343)  var1(t-342)  var1(t-341)  ...  \\\n",
      "350    89.379552    89.155462    88.931373    88.707283    88.494958  ...   \n",
      "351    89.155462    88.931373    88.707283    88.494958    88.427731  ...   \n",
      "352    88.931373    88.707283    88.494958    88.427731    88.360504  ...   \n",
      "353    88.707283    88.494958    88.427731    88.360504    88.293277  ...   \n",
      "354    88.494958    88.427731    88.360504    88.293277    88.226050  ...   \n",
      "\n",
      "     var1(t+95)  var2(t+95)  var1(t+96)  var2(t+96)  var1(t+97)  var2(t+97)  \\\n",
      "350   79.071008    0.000263   79.054202    0.000263   79.037395    0.000263   \n",
      "351   79.054202    0.000263   79.037395    0.000263   79.020588    0.000262   \n",
      "352   79.037395    0.000263   79.020588    0.000262   79.003782    0.000262   \n",
      "353   79.020588    0.000262   79.003782    0.000262   78.986975    0.000262   \n",
      "354   79.003782    0.000262   78.986975    0.000262   78.970168    0.000262   \n",
      "\n",
      "     var1(t+98)  var2(t+98)  var1(t+99)  var2(t+99)  \n",
      "350   79.020588    0.000262   79.003782    0.000262  \n",
      "351   79.003782    0.000262   78.986975    0.000262  \n",
      "352   78.986975    0.000262   78.970168    0.000262  \n",
      "353   78.970168    0.000262   78.953361    0.000262  \n",
      "354   78.953361    0.000262   78.936555    0.000262  \n",
      "\n",
      "[5 rows x 551 columns]\n",
      "Index(['var1(t-350)', 'var1(t-349)', 'var1(t-348)', 'var1(t-347)',\n",
      "       'var1(t-346)', 'var1(t-345)', 'var1(t-344)', 'var1(t-343)',\n",
      "       'var1(t-342)', 'var1(t-341)',\n",
      "       ...\n",
      "       'var1(t+95)', 'var2(t+95)', 'var1(t+96)', 'var2(t+96)', 'var1(t+97)',\n",
      "       'var2(t+97)', 'var1(t+98)', 'var2(t+98)', 'var1(t+99)', 'var2(t+99)'],\n",
      "      dtype='object', length=551)\n"
     ]
    }
   ],
   "source": [
    "data = Supervised(df.values, n_in = 350, n_out = 100)\n",
    "\n",
    "\n",
    "cols_to_drop = []\n",
    "for i in range(2, 351):\n",
    "    cols_to_drop.extend([f'var2(t-{i})'])\n",
    "\n",
    "data.drop(cols_to_drop, axis=1, inplace=True)\n",
    "\n",
    "print(data.head())\n",
    "print(data.columns)"
   ]
  },
  {
   "cell_type": "code",
   "execution_count": 14,
   "metadata": {
    "id": "AfPf60oy6Pe4"
   },
   "outputs": [],
   "source": [
    "train = np.array(data[0:len(data)-1])\n",
    "forecast = np.array(data.tail(1))"
   ]
  },
  {
   "cell_type": "code",
   "execution_count": 15,
   "metadata": {
    "id": "WSAafzI37KiT"
   },
   "outputs": [],
   "source": [
    "trainy = train[:,-300:]\n",
    "trainX = train[:,:-300]"
   ]
  },
  {
   "cell_type": "code",
   "execution_count": 16,
   "metadata": {
    "id": "2SrOqVJA7f50"
   },
   "outputs": [],
   "source": [
    "forecasty = forecast[:,-300:]\n",
    "forecastX = forecast[:,:-300]"
   ]
  },
  {
   "cell_type": "code",
   "execution_count": 17,
   "metadata": {
    "colab": {
     "base_uri": "https://localhost:8080/"
    },
    "id": "Qno_k8Nw7saY",
    "outputId": "c4a88db5-d8c6-489f-cdb2-06b24e293cff"
   },
   "outputs": [
    {
     "name": "stdout",
     "output_type": "stream",
     "text": [
      "(1700, 1, 251) (1700, 300) (1, 1, 251)\n"
     ]
    }
   ],
   "source": [
    "trainX = trainX.reshape((trainX.shape[0], 1, trainX.shape[1]))\n",
    "forecastX = forecastX.reshape((forecastX.shape[0], 1, forecastX.shape[1]))\n",
    "print(trainX.shape, trainy.shape, forecastX.shape)"
   ]
  },
  {
   "cell_type": "code",
   "execution_count": 18,
   "metadata": {
    "colab": {
     "base_uri": "https://localhost:8080/"
    },
    "id": "b1Jp2DvNuNFx",
    "outputId": "d0e5b3c4-64f1-438c-eade-8dfeaac8e285"
   },
   "outputs": [
    {
     "name": "stdout",
     "output_type": "stream",
     "text": [
      "Epoch 1/500\n",
      "22/22 [==============================] - 2s 22ms/step - loss: 5368.3560 - val_loss: 3988.6619\n",
      "Epoch 2/500\n",
      "22/22 [==============================] - 0s 4ms/step - loss: 5292.3984 - val_loss: 3940.3328\n",
      "Epoch 3/500\n",
      "22/22 [==============================] - 0s 3ms/step - loss: 5224.1050 - val_loss: 3885.2712\n",
      "Epoch 4/500\n",
      "22/22 [==============================] - 0s 4ms/step - loss: 5154.6406 - val_loss: 3830.1812\n",
      "Epoch 5/500\n",
      "22/22 [==============================] - 0s 4ms/step - loss: 5085.8140 - val_loss: 3778.0342\n",
      "Epoch 6/500\n",
      "22/22 [==============================] - 0s 4ms/step - loss: 5002.5610 - val_loss: 3709.0886\n",
      "Epoch 7/500\n",
      "22/22 [==============================] - 0s 3ms/step - loss: 4925.4629 - val_loss: 3652.1809\n",
      "Epoch 8/500\n",
      "22/22 [==============================] - 0s 4ms/step - loss: 4853.1235 - val_loss: 3597.2107\n",
      "Epoch 9/500\n",
      "22/22 [==============================] - 0s 4ms/step - loss: 4782.9229 - val_loss: 3543.6401\n",
      "Epoch 10/500\n",
      "22/22 [==============================] - 0s 4ms/step - loss: 4713.5732 - val_loss: 3487.9126\n",
      "Epoch 11/500\n",
      "22/22 [==============================] - 0s 4ms/step - loss: 4639.9258 - val_loss: 3431.2268\n",
      "Epoch 12/500\n",
      "22/22 [==============================] - 0s 4ms/step - loss: 4567.7363 - val_loss: 3376.3662\n",
      "Epoch 13/500\n",
      "22/22 [==============================] - 0s 4ms/step - loss: 4497.6836 - val_loss: 3323.0378\n",
      "Epoch 14/500\n",
      "22/22 [==============================] - 0s 4ms/step - loss: 4429.2837 - val_loss: 3270.9050\n",
      "Epoch 15/500\n",
      "22/22 [==============================] - 0s 4ms/step - loss: 4362.2144 - val_loss: 3219.7842\n",
      "Epoch 16/500\n",
      "22/22 [==============================] - 0s 4ms/step - loss: 4296.2900 - val_loss: 3169.5605\n",
      "Epoch 17/500\n",
      "22/22 [==============================] - 0s 5ms/step - loss: 4229.8276 - val_loss: 3116.0933\n",
      "Epoch 18/500\n",
      "22/22 [==============================] - 0s 5ms/step - loss: 4158.4873 - val_loss: 3062.1687\n",
      "Epoch 19/500\n",
      "22/22 [==============================] - 0s 10ms/step - loss: 4088.9111 - val_loss: 3010.1746\n",
      "Epoch 20/500\n",
      "22/22 [==============================] - 0s 5ms/step - loss: 4021.5691 - val_loss: 2959.6663\n",
      "Epoch 21/500\n",
      "22/22 [==============================] - 0s 4ms/step - loss: 3955.9067 - val_loss: 2910.3345\n",
      "Epoch 22/500\n",
      "22/22 [==============================] - 0s 4ms/step - loss: 3891.6011 - val_loss: 2862.0098\n",
      "Epoch 23/500\n",
      "22/22 [==============================] - 0s 4ms/step - loss: 3828.4717 - val_loss: 2814.5901\n",
      "Epoch 24/500\n",
      "22/22 [==============================] - 0s 4ms/step - loss: 3766.4043 - val_loss: 2768.0073\n",
      "Epoch 25/500\n",
      "22/22 [==============================] - 0s 3ms/step - loss: 3705.3218 - val_loss: 2722.2119\n",
      "Epoch 26/500\n",
      "22/22 [==============================] - 0s 4ms/step - loss: 3645.1663 - val_loss: 2677.1663\n",
      "Epoch 27/500\n",
      "22/22 [==============================] - 0s 4ms/step - loss: 3585.8938 - val_loss: 2632.8413\n",
      "Epoch 28/500\n",
      "22/22 [==============================] - 0s 3ms/step - loss: 3527.4680 - val_loss: 2589.2117\n",
      "Epoch 29/500\n",
      "22/22 [==============================] - 0s 3ms/step - loss: 3469.8618 - val_loss: 2546.2571\n",
      "Epoch 30/500\n",
      "22/22 [==============================] - 0s 3ms/step - loss: 3413.0481 - val_loss: 2503.9600\n",
      "Epoch 31/500\n",
      "22/22 [==============================] - 0s 3ms/step - loss: 3357.0081 - val_loss: 2462.3042\n",
      "Epoch 32/500\n",
      "22/22 [==============================] - 0s 5ms/step - loss: 3301.7207 - val_loss: 2421.2771\n",
      "Epoch 33/500\n",
      "22/22 [==============================] - 0s 4ms/step - loss: 3247.1716 - val_loss: 2380.8650\n",
      "Epoch 34/500\n",
      "22/22 [==============================] - 0s 4ms/step - loss: 3193.3442 - val_loss: 2341.0569\n",
      "Epoch 35/500\n",
      "22/22 [==============================] - 0s 4ms/step - loss: 3140.2266 - val_loss: 2301.8425\n",
      "Epoch 36/500\n",
      "22/22 [==============================] - 0s 4ms/step - loss: 3087.8052 - val_loss: 2263.2126\n",
      "Epoch 37/500\n",
      "22/22 [==============================] - 0s 3ms/step - loss: 3036.0696 - val_loss: 2225.1575\n",
      "Epoch 38/500\n",
      "22/22 [==============================] - 0s 4ms/step - loss: 2985.0085 - val_loss: 2187.6687\n",
      "Epoch 39/500\n",
      "22/22 [==============================] - 0s 3ms/step - loss: 2934.6130 - val_loss: 2150.7390\n",
      "Epoch 40/500\n",
      "22/22 [==============================] - 0s 4ms/step - loss: 2884.8716 - val_loss: 2114.3599\n",
      "Epoch 41/500\n",
      "22/22 [==============================] - 0s 4ms/step - loss: 2835.7776 - val_loss: 2078.5251\n",
      "Epoch 42/500\n",
      "22/22 [==============================] - 0s 4ms/step - loss: 2787.3213 - val_loss: 2043.2267\n",
      "Epoch 43/500\n",
      "22/22 [==============================] - 0s 4ms/step - loss: 2739.4944 - val_loss: 2008.4583\n",
      "Epoch 44/500\n",
      "22/22 [==============================] - 0s 4ms/step - loss: 2692.2908 - val_loss: 1974.2144\n",
      "Epoch 45/500\n",
      "22/22 [==============================] - 0s 4ms/step - loss: 2645.7019 - val_loss: 1940.4872\n",
      "Epoch 46/500\n",
      "22/22 [==============================] - 0s 3ms/step - loss: 2599.7197 - val_loss: 1907.2721\n",
      "Epoch 47/500\n",
      "22/22 [==============================] - 0s 3ms/step - loss: 2554.3391 - val_loss: 1874.5623\n",
      "Epoch 48/500\n",
      "22/22 [==============================] - 0s 3ms/step - loss: 2509.5525 - val_loss: 1842.3531\n",
      "Epoch 49/500\n",
      "22/22 [==============================] - 0s 4ms/step - loss: 2465.3535 - val_loss: 1810.6384\n",
      "Epoch 50/500\n",
      "22/22 [==============================] - 0s 3ms/step - loss: 2421.7354 - val_loss: 1779.4132\n",
      "Epoch 51/500\n",
      "22/22 [==============================] - 0s 4ms/step - loss: 2378.6929 - val_loss: 1748.6713\n",
      "Epoch 52/500\n",
      "22/22 [==============================] - 0s 4ms/step - loss: 2336.2190 - val_loss: 1718.4084\n",
      "Epoch 53/500\n",
      "22/22 [==============================] - 0s 4ms/step - loss: 2294.3088 - val_loss: 1688.6191\n",
      "Epoch 54/500\n",
      "22/22 [==============================] - 0s 4ms/step - loss: 2252.9565 - val_loss: 1659.2993\n",
      "Epoch 55/500\n",
      "22/22 [==============================] - 0s 4ms/step - loss: 2212.1550 - val_loss: 1630.4429\n",
      "Epoch 56/500\n",
      "22/22 [==============================] - 0s 4ms/step - loss: 2171.9011 - val_loss: 1602.0455\n",
      "Epoch 57/500\n",
      "22/22 [==============================] - 0s 7ms/step - loss: 2132.1885 - val_loss: 1574.1031\n",
      "Epoch 58/500\n",
      "22/22 [==============================] - 0s 3ms/step - loss: 2093.0107 - val_loss: 1546.6107\n",
      "Epoch 59/500\n",
      "22/22 [==============================] - 0s 4ms/step - loss: 2054.3643 - val_loss: 1519.5634\n",
      "Epoch 60/500\n",
      "22/22 [==============================] - 0s 4ms/step - loss: 2016.2430 - val_loss: 1492.9570\n",
      "Epoch 61/500\n",
      "22/22 [==============================] - 0s 4ms/step - loss: 1978.6421 - val_loss: 1466.7864\n",
      "Epoch 62/500\n",
      "22/22 [==============================] - 0s 4ms/step - loss: 1941.5566 - val_loss: 1441.0486\n",
      "Epoch 63/500\n",
      "22/22 [==============================] - 0s 4ms/step - loss: 1904.9822 - val_loss: 1415.7383\n",
      "Epoch 64/500\n",
      "22/22 [==============================] - 0s 4ms/step - loss: 1868.9131 - val_loss: 1390.8510\n",
      "Epoch 65/500\n",
      "22/22 [==============================] - 0s 4ms/step - loss: 1833.3448 - val_loss: 1366.3832\n",
      "Epoch 66/500\n",
      "22/22 [==============================] - 0s 4ms/step - loss: 1798.2732 - val_loss: 1342.3306\n",
      "Epoch 67/500\n",
      "22/22 [==============================] - 0s 4ms/step - loss: 1763.6934 - val_loss: 1318.6885\n",
      "Epoch 68/500\n",
      "22/22 [==============================] - 0s 3ms/step - loss: 1729.6002 - val_loss: 1295.4535\n",
      "Epoch 69/500\n",
      "22/22 [==============================] - 0s 4ms/step - loss: 1695.9899 - val_loss: 1272.6211\n",
      "Epoch 70/500\n",
      "22/22 [==============================] - 0s 4ms/step - loss: 1662.8579 - val_loss: 1250.1875\n",
      "Epoch 71/500\n",
      "22/22 [==============================] - 0s 4ms/step - loss: 1630.1987 - val_loss: 1228.1489\n",
      "Epoch 72/500\n",
      "22/22 [==============================] - 0s 4ms/step - loss: 1598.0094 - val_loss: 1206.5011\n",
      "Epoch 73/500\n",
      "22/22 [==============================] - 0s 4ms/step - loss: 1566.2852 - val_loss: 1185.2401\n",
      "Epoch 74/500\n",
      "22/22 [==============================] - 0s 4ms/step - loss: 1535.0211 - val_loss: 1164.3622\n",
      "Epoch 75/500\n",
      "22/22 [==============================] - 0s 4ms/step - loss: 1504.2136 - val_loss: 1143.8639\n",
      "Epoch 76/500\n",
      "22/22 [==============================] - 0s 4ms/step - loss: 1473.8584 - val_loss: 1123.7406\n",
      "Epoch 77/500\n",
      "22/22 [==============================] - 0s 3ms/step - loss: 1443.9509 - val_loss: 1103.9893\n",
      "Epoch 78/500\n",
      "22/22 [==============================] - 0s 4ms/step - loss: 1414.4874 - val_loss: 1084.6055\n",
      "Epoch 79/500\n",
      "22/22 [==============================] - 0s 4ms/step - loss: 1385.4634 - val_loss: 1065.5861\n",
      "Epoch 80/500\n",
      "22/22 [==============================] - 0s 4ms/step - loss: 1356.8752 - val_loss: 1046.9270\n",
      "Epoch 81/500\n",
      "22/22 [==============================] - 0s 3ms/step - loss: 1328.7186 - val_loss: 1028.6246\n",
      "Epoch 82/500\n",
      "22/22 [==============================] - 0s 4ms/step - loss: 1300.9891 - val_loss: 1010.6755\n",
      "Epoch 83/500\n",
      "22/22 [==============================] - 0s 3ms/step - loss: 1273.6831 - val_loss: 993.0754\n",
      "Epoch 84/500\n",
      "22/22 [==============================] - 0s 3ms/step - loss: 1246.7970 - val_loss: 975.8214\n",
      "Epoch 85/500\n",
      "22/22 [==============================] - 0s 4ms/step - loss: 1220.3259 - val_loss: 958.9095\n",
      "Epoch 86/500\n",
      "22/22 [==============================] - 0s 4ms/step - loss: 1194.2667 - val_loss: 942.3362\n",
      "Epoch 87/500\n",
      "22/22 [==============================] - 0s 4ms/step - loss: 1168.6155 - val_loss: 926.0981\n",
      "Epoch 88/500\n",
      "22/22 [==============================] - 0s 5ms/step - loss: 1143.3682 - val_loss: 910.1913\n",
      "Epoch 89/500\n",
      "22/22 [==============================] - 0s 4ms/step - loss: 1118.5208 - val_loss: 894.6128\n",
      "Epoch 90/500\n",
      "22/22 [==============================] - 0s 4ms/step - loss: 1094.0695 - val_loss: 879.3583\n",
      "Epoch 91/500\n",
      "22/22 [==============================] - 0s 4ms/step - loss: 1070.0110 - val_loss: 864.4249\n",
      "Epoch 92/500\n",
      "22/22 [==============================] - 0s 4ms/step - loss: 1046.3409 - val_loss: 849.8090\n",
      "Epoch 93/500\n",
      "22/22 [==============================] - 0s 4ms/step - loss: 1023.0561 - val_loss: 835.5074\n",
      "Epoch 94/500\n",
      "22/22 [==============================] - 0s 3ms/step - loss: 1000.1524 - val_loss: 821.5161\n",
      "Epoch 95/500\n",
      "22/22 [==============================] - 0s 4ms/step - loss: 977.6260 - val_loss: 807.8320\n",
      "Epoch 96/500\n",
      "22/22 [==============================] - 0s 3ms/step - loss: 955.4735 - val_loss: 794.4517\n",
      "Epoch 97/500\n",
      "22/22 [==============================] - 0s 4ms/step - loss: 933.6908 - val_loss: 781.3710\n",
      "Epoch 98/500\n",
      "22/22 [==============================] - 0s 4ms/step - loss: 912.2745 - val_loss: 768.5878\n",
      "Epoch 99/500\n",
      "22/22 [==============================] - 0s 4ms/step - loss: 891.2213 - val_loss: 756.0980\n",
      "Epoch 100/500\n",
      "22/22 [==============================] - 0s 4ms/step - loss: 870.5270 - val_loss: 743.8982\n",
      "Epoch 101/500\n",
      "22/22 [==============================] - 0s 3ms/step - loss: 850.1880 - val_loss: 731.9850\n",
      "Epoch 102/500\n",
      "22/22 [==============================] - 0s 3ms/step - loss: 830.2014 - val_loss: 720.3553\n",
      "Epoch 103/500\n",
      "22/22 [==============================] - 0s 4ms/step - loss: 810.5628 - val_loss: 709.0056\n",
      "Epoch 104/500\n",
      "22/22 [==============================] - 0s 4ms/step - loss: 791.2690 - val_loss: 697.9322\n",
      "Epoch 105/500\n",
      "22/22 [==============================] - 0s 4ms/step - loss: 772.3163 - val_loss: 687.1322\n",
      "Epoch 106/500\n",
      "22/22 [==============================] - 0s 4ms/step - loss: 753.7012 - val_loss: 676.6031\n",
      "Epoch 107/500\n",
      "22/22 [==============================] - 0s 4ms/step - loss: 735.4204 - val_loss: 666.3400\n",
      "Epoch 108/500\n",
      "22/22 [==============================] - 0s 3ms/step - loss: 717.4702 - val_loss: 656.3401\n",
      "Epoch 109/500\n",
      "22/22 [==============================] - 0s 4ms/step - loss: 699.8469 - val_loss: 646.6007\n",
      "Epoch 110/500\n",
      "22/22 [==============================] - 0s 4ms/step - loss: 682.5473 - val_loss: 637.1182\n",
      "Epoch 111/500\n",
      "22/22 [==============================] - 0s 4ms/step - loss: 665.5679 - val_loss: 627.8888\n",
      "Epoch 112/500\n",
      "22/22 [==============================] - 0s 5ms/step - loss: 648.9051 - val_loss: 618.9103\n",
      "Epoch 113/500\n",
      "22/22 [==============================] - 0s 5ms/step - loss: 632.5554 - val_loss: 610.1781\n",
      "Epoch 114/500\n",
      "22/22 [==============================] - 0s 4ms/step - loss: 616.5152 - val_loss: 601.6901\n",
      "Epoch 115/500\n",
      "22/22 [==============================] - 0s 8ms/step - loss: 600.7815 - val_loss: 593.4426\n",
      "Epoch 116/500\n",
      "22/22 [==============================] - 0s 4ms/step - loss: 585.3509 - val_loss: 585.4317\n",
      "Epoch 117/500\n",
      "22/22 [==============================] - 0s 4ms/step - loss: 570.2193 - val_loss: 577.6557\n",
      "Epoch 118/500\n",
      "22/22 [==============================] - 0s 4ms/step - loss: 555.3840 - val_loss: 570.1099\n",
      "Epoch 119/500\n",
      "22/22 [==============================] - 0s 3ms/step - loss: 540.8409 - val_loss: 562.7916\n",
      "Epoch 120/500\n",
      "22/22 [==============================] - 0s 3ms/step - loss: 526.5870 - val_loss: 555.6976\n",
      "Epoch 121/500\n",
      "22/22 [==============================] - 0s 4ms/step - loss: 512.6191 - val_loss: 548.8248\n",
      "Epoch 122/500\n",
      "22/22 [==============================] - 0s 3ms/step - loss: 498.9333 - val_loss: 542.1700\n",
      "Epoch 123/500\n",
      "22/22 [==============================] - 0s 4ms/step - loss: 485.5270 - val_loss: 535.7300\n",
      "Epoch 124/500\n",
      "22/22 [==============================] - 0s 3ms/step - loss: 472.3964 - val_loss: 529.5012\n",
      "Epoch 125/500\n",
      "22/22 [==============================] - 0s 3ms/step - loss: 459.5379 - val_loss: 523.4807\n",
      "Epoch 126/500\n",
      "22/22 [==============================] - 0s 4ms/step - loss: 446.9484 - val_loss: 517.6653\n",
      "Epoch 127/500\n",
      "22/22 [==============================] - 0s 3ms/step - loss: 434.6249 - val_loss: 512.0518\n",
      "Epoch 128/500\n",
      "22/22 [==============================] - 0s 3ms/step - loss: 422.5633 - val_loss: 506.6369\n",
      "Epoch 129/500\n",
      "22/22 [==============================] - 0s 4ms/step - loss: 410.7603 - val_loss: 501.4174\n",
      "Epoch 130/500\n",
      "22/22 [==============================] - 0s 3ms/step - loss: 399.2134 - val_loss: 496.3905\n",
      "Epoch 131/500\n",
      "22/22 [==============================] - 0s 3ms/step - loss: 387.9188 - val_loss: 491.5529\n",
      "Epoch 132/500\n",
      "22/22 [==============================] - 0s 3ms/step - loss: 376.8736 - val_loss: 486.9016\n",
      "Epoch 133/500\n",
      "22/22 [==============================] - 0s 4ms/step - loss: 366.0738 - val_loss: 482.4325\n",
      "Epoch 134/500\n",
      "22/22 [==============================] - 0s 3ms/step - loss: 355.5164 - val_loss: 478.1435\n",
      "Epoch 135/500\n",
      "22/22 [==============================] - 0s 4ms/step - loss: 345.1981 - val_loss: 474.0309\n",
      "Epoch 136/500\n",
      "22/22 [==============================] - 0s 3ms/step - loss: 335.1158 - val_loss: 470.0921\n",
      "Epoch 137/500\n",
      "22/22 [==============================] - 0s 3ms/step - loss: 325.2665 - val_loss: 466.3235\n",
      "Epoch 138/500\n",
      "22/22 [==============================] - 0s 4ms/step - loss: 315.6461 - val_loss: 462.7221\n",
      "Epoch 139/500\n",
      "22/22 [==============================] - 0s 4ms/step - loss: 306.2524 - val_loss: 459.2849\n",
      "Epoch 140/500\n",
      "22/22 [==============================] - 0s 8ms/step - loss: 297.0814 - val_loss: 456.0086\n",
      "Epoch 141/500\n",
      "22/22 [==============================] - 0s 3ms/step - loss: 288.1299 - val_loss: 452.8904\n",
      "Epoch 142/500\n",
      "22/22 [==============================] - 0s 4ms/step - loss: 279.3950 - val_loss: 449.9268\n",
      "Epoch 143/500\n",
      "22/22 [==============================] - 0s 4ms/step - loss: 270.8734 - val_loss: 447.1150\n",
      "Epoch 144/500\n",
      "22/22 [==============================] - 0s 4ms/step - loss: 262.5614 - val_loss: 444.4516\n",
      "Epoch 145/500\n",
      "22/22 [==============================] - 0s 4ms/step - loss: 254.4563 - val_loss: 441.9340\n",
      "Epoch 146/500\n",
      "22/22 [==============================] - 0s 4ms/step - loss: 246.5547 - val_loss: 439.5589\n",
      "Epoch 147/500\n",
      "22/22 [==============================] - 0s 3ms/step - loss: 238.8537 - val_loss: 437.3231\n",
      "Epoch 148/500\n",
      "22/22 [==============================] - 0s 3ms/step - loss: 231.3498 - val_loss: 435.2239\n",
      "Epoch 149/500\n",
      "22/22 [==============================] - 0s 4ms/step - loss: 224.0403 - val_loss: 433.2581\n",
      "Epoch 150/500\n",
      "22/22 [==============================] - 0s 4ms/step - loss: 216.9216 - val_loss: 431.4226\n",
      "Epoch 151/500\n",
      "22/22 [==============================] - 0s 4ms/step - loss: 209.9906 - val_loss: 429.7143\n",
      "Epoch 152/500\n",
      "22/22 [==============================] - 0s 5ms/step - loss: 203.2446 - val_loss: 428.1307\n",
      "Epoch 153/500\n",
      "22/22 [==============================] - 0s 3ms/step - loss: 196.6800 - val_loss: 426.6683\n",
      "Epoch 154/500\n",
      "22/22 [==============================] - 0s 3ms/step - loss: 190.2939 - val_loss: 425.3245\n",
      "Epoch 155/500\n",
      "22/22 [==============================] - 0s 4ms/step - loss: 184.0832 - val_loss: 424.0959\n",
      "Epoch 156/500\n",
      "22/22 [==============================] - 0s 4ms/step - loss: 178.0448 - val_loss: 422.9799\n",
      "Epoch 157/500\n",
      "22/22 [==============================] - 0s 4ms/step - loss: 172.1756 - val_loss: 421.9735\n",
      "Epoch 158/500\n",
      "22/22 [==============================] - 0s 4ms/step - loss: 166.4726 - val_loss: 421.0737\n",
      "Epoch 159/500\n",
      "22/22 [==============================] - 0s 3ms/step - loss: 160.9325 - val_loss: 420.2777\n",
      "Epoch 160/500\n",
      "22/22 [==============================] - 0s 4ms/step - loss: 155.5529 - val_loss: 419.5826\n",
      "Epoch 161/500\n",
      "22/22 [==============================] - 0s 4ms/step - loss: 150.3301 - val_loss: 418.9854\n",
      "Epoch 162/500\n",
      "22/22 [==============================] - 0s 4ms/step - loss: 145.2614 - val_loss: 418.4834\n",
      "Epoch 163/500\n",
      "22/22 [==============================] - 0s 4ms/step - loss: 140.3436 - val_loss: 418.0736\n",
      "Epoch 164/500\n",
      "22/22 [==============================] - 0s 4ms/step - loss: 135.5740 - val_loss: 417.7534\n",
      "Epoch 165/500\n",
      "22/22 [==============================] - 0s 4ms/step - loss: 130.9496 - val_loss: 417.5198\n",
      "Epoch 166/500\n",
      "22/22 [==============================] - 0s 4ms/step - loss: 126.4676 - val_loss: 417.3702\n",
      "Epoch 167/500\n",
      "22/22 [==============================] - 0s 7ms/step - loss: 122.1250 - val_loss: 417.3017\n",
      "Epoch 168/500\n",
      "22/22 [==============================] - 0s 3ms/step - loss: 117.9187 - val_loss: 417.3117\n",
      "Epoch 169/500\n",
      "22/22 [==============================] - 0s 3ms/step - loss: 113.8460 - val_loss: 417.3973\n",
      "Epoch 170/500\n",
      "22/22 [==============================] - 0s 3ms/step - loss: 109.9040 - val_loss: 417.5560\n",
      "Epoch 171/500\n",
      "22/22 [==============================] - 0s 4ms/step - loss: 106.0897 - val_loss: 417.7850\n",
      "Epoch 172/500\n",
      "22/22 [==============================] - 0s 5ms/step - loss: 102.4005 - val_loss: 418.0818\n",
      "Epoch 173/500\n",
      "22/22 [==============================] - 0s 4ms/step - loss: 98.8336 - val_loss: 418.4436\n",
      "Epoch 174/500\n",
      "22/22 [==============================] - 0s 4ms/step - loss: 95.3860 - val_loss: 418.8680\n",
      "Epoch 175/500\n",
      "22/22 [==============================] - 0s 4ms/step - loss: 92.0552 - val_loss: 419.3522\n",
      "Epoch 176/500\n",
      "22/22 [==============================] - 0s 3ms/step - loss: 88.8384 - val_loss: 419.8940\n",
      "Epoch 177/500\n",
      "22/22 [==============================] - 0s 3ms/step - loss: 85.7329 - val_loss: 420.4906\n",
      "Epoch 178/500\n",
      "22/22 [==============================] - 0s 3ms/step - loss: 82.7361 - val_loss: 421.1397\n",
      "Epoch 179/500\n",
      "22/22 [==============================] - 0s 4ms/step - loss: 79.8451 - val_loss: 421.8387\n",
      "Epoch 180/500\n",
      "22/22 [==============================] - 0s 3ms/step - loss: 77.0574 - val_loss: 422.5853\n",
      "Epoch 181/500\n",
      "22/22 [==============================] - 0s 3ms/step - loss: 74.3704 - val_loss: 423.3773\n",
      "Epoch 182/500\n",
      "22/22 [==============================] - 0s 4ms/step - loss: 71.7815 - val_loss: 424.2120\n",
      "Epoch 183/500\n",
      "22/22 [==============================] - 0s 4ms/step - loss: 69.2881 - val_loss: 425.0873\n",
      "Epoch 184/500\n",
      "22/22 [==============================] - 0s 4ms/step - loss: 66.8879 - val_loss: 426.0008\n",
      "Epoch 185/500\n",
      "22/22 [==============================] - 0s 4ms/step - loss: 64.5783 - val_loss: 426.9505\n",
      "Epoch 186/500\n",
      "22/22 [==============================] - 0s 4ms/step - loss: 62.3566 - val_loss: 427.9338\n",
      "Epoch 187/500\n",
      "22/22 [==============================] - 0s 3ms/step - loss: 60.2208 - val_loss: 428.9488\n",
      "Epoch 188/500\n",
      "22/22 [==============================] - 0s 3ms/step - loss: 58.1682 - val_loss: 429.9933\n",
      "Epoch 189/500\n",
      "22/22 [==============================] - 0s 3ms/step - loss: 56.1966 - val_loss: 431.0652\n",
      "Epoch 190/500\n",
      "22/22 [==============================] - 0s 4ms/step - loss: 54.3036 - val_loss: 432.1626\n",
      "Epoch 191/500\n",
      "22/22 [==============================] - 0s 7ms/step - loss: 52.4869 - val_loss: 433.2833\n",
      "Epoch 192/500\n",
      "22/22 [==============================] - 0s 3ms/step - loss: 50.7440 - val_loss: 434.4254\n",
      "Epoch 193/500\n",
      "22/22 [==============================] - 0s 3ms/step - loss: 49.0730 - val_loss: 435.5869\n",
      "Epoch 194/500\n",
      "22/22 [==============================] - 0s 4ms/step - loss: 47.4717 - val_loss: 436.7661\n",
      "Epoch 195/500\n",
      "22/22 [==============================] - 0s 3ms/step - loss: 45.9376 - val_loss: 437.9608\n",
      "Epoch 196/500\n",
      "22/22 [==============================] - 0s 3ms/step - loss: 44.4689 - val_loss: 439.1696\n",
      "Epoch 197/500\n",
      "22/22 [==============================] - 0s 3ms/step - loss: 43.0635 - val_loss: 440.3904\n",
      "Epoch 198/500\n",
      "22/22 [==============================] - 0s 4ms/step - loss: 41.7192 - val_loss: 441.6216\n",
      "Epoch 199/500\n",
      "22/22 [==============================] - 0s 4ms/step - loss: 40.4341 - val_loss: 442.8615\n",
      "Epoch 200/500\n",
      "22/22 [==============================] - 0s 4ms/step - loss: 39.2061 - val_loss: 444.1089\n",
      "Epoch 201/500\n",
      "22/22 [==============================] - 0s 4ms/step - loss: 38.0332 - val_loss: 445.3615\n",
      "Epoch 202/500\n",
      "22/22 [==============================] - 0s 3ms/step - loss: 36.9137 - val_loss: 446.6183\n",
      "Epoch 203/500\n",
      "22/22 [==============================] - 0s 3ms/step - loss: 35.8456 - val_loss: 447.8776\n",
      "Epoch 204/500\n",
      "22/22 [==============================] - 0s 3ms/step - loss: 34.8270 - val_loss: 449.1382\n",
      "Epoch 205/500\n",
      "22/22 [==============================] - 0s 4ms/step - loss: 33.8562 - val_loss: 450.3983\n",
      "Epoch 206/500\n",
      "22/22 [==============================] - 0s 4ms/step - loss: 32.9314 - val_loss: 451.6569\n",
      "Epoch 207/500\n",
      "22/22 [==============================] - 0s 3ms/step - loss: 32.0509 - val_loss: 452.9128\n",
      "Epoch 208/500\n",
      "22/22 [==============================] - 0s 3ms/step - loss: 31.2131 - val_loss: 454.1643\n",
      "Epoch 209/500\n",
      "22/22 [==============================] - 0s 4ms/step - loss: 30.4163 - val_loss: 455.4106\n",
      "Epoch 210/500\n",
      "22/22 [==============================] - 0s 4ms/step - loss: 29.6590 - val_loss: 456.6503\n",
      "Epoch 211/500\n",
      "22/22 [==============================] - 0s 4ms/step - loss: 28.9396 - val_loss: 457.8823\n",
      "Epoch 212/500\n",
      "22/22 [==============================] - 0s 3ms/step - loss: 28.2565 - val_loss: 459.1057\n",
      "Epoch 213/500\n",
      "22/22 [==============================] - 0s 4ms/step - loss: 27.6083 - val_loss: 460.3194\n",
      "Epoch 214/500\n",
      "22/22 [==============================] - 0s 8ms/step - loss: 26.9935 - val_loss: 461.5223\n",
      "Epoch 215/500\n",
      "22/22 [==============================] - 0s 4ms/step - loss: 26.4108 - val_loss: 462.7139\n",
      "Epoch 216/500\n",
      "22/22 [==============================] - 0s 4ms/step - loss: 25.8588 - val_loss: 463.8929\n",
      "Epoch 217/500\n",
      "22/22 [==============================] - 0s 3ms/step - loss: 25.3361 - val_loss: 465.0589\n",
      "Epoch 218/500\n",
      "22/22 [==============================] - 0s 3ms/step - loss: 24.8415 - val_loss: 466.2108\n",
      "Epoch 219/500\n",
      "22/22 [==============================] - 0s 3ms/step - loss: 24.3737 - val_loss: 467.3482\n",
      "Epoch 220/500\n",
      "22/22 [==============================] - 0s 3ms/step - loss: 23.9315 - val_loss: 468.4698\n",
      "Epoch 221/500\n",
      "22/22 [==============================] - 0s 4ms/step - loss: 23.5139 - val_loss: 469.5758\n",
      "Epoch 222/500\n",
      "22/22 [==============================] - 0s 3ms/step - loss: 23.1195 - val_loss: 470.6650\n",
      "Epoch 223/500\n",
      "22/22 [==============================] - 0s 4ms/step - loss: 22.7474 - val_loss: 471.7368\n",
      "Epoch 224/500\n",
      "22/22 [==============================] - 0s 4ms/step - loss: 22.3966 - val_loss: 472.7911\n",
      "Epoch 225/500\n",
      "22/22 [==============================] - 0s 4ms/step - loss: 22.0659 - val_loss: 473.8272\n",
      "Epoch 226/500\n",
      "22/22 [==============================] - 0s 4ms/step - loss: 21.7545 - val_loss: 474.8449\n",
      "Epoch 227/500\n",
      "22/22 [==============================] - 0s 4ms/step - loss: 21.4612 - val_loss: 475.8437\n",
      "Epoch 228/500\n",
      "22/22 [==============================] - 0s 3ms/step - loss: 21.1853 - val_loss: 476.8229\n",
      "Epoch 229/500\n",
      "22/22 [==============================] - 0s 3ms/step - loss: 20.9259 - val_loss: 477.7828\n",
      "Epoch 230/500\n",
      "22/22 [==============================] - 0s 4ms/step - loss: 20.6821 - val_loss: 478.7229\n",
      "Epoch 231/500\n",
      "22/22 [==============================] - 0s 4ms/step - loss: 20.4531 - val_loss: 479.6427\n",
      "Epoch 232/500\n",
      "22/22 [==============================] - 0s 4ms/step - loss: 20.2382 - val_loss: 480.5425\n",
      "Epoch 233/500\n",
      "22/22 [==============================] - 0s 3ms/step - loss: 20.0365 - val_loss: 481.4218\n",
      "Epoch 234/500\n",
      "22/22 [==============================] - 0s 4ms/step - loss: 19.8474 - val_loss: 482.2806\n",
      "Epoch 235/500\n",
      "22/22 [==============================] - 0s 4ms/step - loss: 19.6702 - val_loss: 483.1189\n",
      "Epoch 236/500\n",
      "22/22 [==============================] - 0s 4ms/step - loss: 19.5042 - val_loss: 483.9365\n",
      "Epoch 237/500\n",
      "22/22 [==============================] - 0s 7ms/step - loss: 19.3488 - val_loss: 484.7338\n",
      "Epoch 238/500\n",
      "22/22 [==============================] - 0s 3ms/step - loss: 19.2034 - val_loss: 485.5101\n",
      "Epoch 239/500\n",
      "22/22 [==============================] - 0s 4ms/step - loss: 19.0674 - val_loss: 486.2658\n",
      "Epoch 240/500\n",
      "22/22 [==============================] - 0s 4ms/step - loss: 18.9403 - val_loss: 487.0011\n",
      "Epoch 241/500\n",
      "22/22 [==============================] - 0s 4ms/step - loss: 18.8216 - val_loss: 487.7155\n",
      "Epoch 242/500\n",
      "22/22 [==============================] - 0s 4ms/step - loss: 18.7108 - val_loss: 488.4098\n",
      "Epoch 243/500\n",
      "22/22 [==============================] - 0s 3ms/step - loss: 18.6073 - val_loss: 489.0840\n",
      "Epoch 244/500\n",
      "22/22 [==============================] - 0s 4ms/step - loss: 18.5108 - val_loss: 489.7384\n",
      "Epoch 245/500\n",
      "22/22 [==============================] - 0s 4ms/step - loss: 18.4209 - val_loss: 490.3725\n",
      "Epoch 246/500\n",
      "22/22 [==============================] - 0s 4ms/step - loss: 18.3370 - val_loss: 490.9875\n",
      "Epoch 247/500\n",
      "22/22 [==============================] - 0s 4ms/step - loss: 18.2589 - val_loss: 491.5825\n",
      "Epoch 248/500\n",
      "22/22 [==============================] - 0s 3ms/step - loss: 18.1862 - val_loss: 492.1590\n",
      "Epoch 249/500\n",
      "22/22 [==============================] - 0s 3ms/step - loss: 18.1185 - val_loss: 492.7163\n",
      "Epoch 250/500\n",
      "22/22 [==============================] - 0s 4ms/step - loss: 18.0555 - val_loss: 493.2548\n",
      "Epoch 251/500\n",
      "22/22 [==============================] - 0s 4ms/step - loss: 17.9970 - val_loss: 493.7753\n",
      "Epoch 252/500\n",
      "22/22 [==============================] - 0s 4ms/step - loss: 17.9426 - val_loss: 494.2777\n",
      "Epoch 253/500\n",
      "22/22 [==============================] - 0s 4ms/step - loss: 17.8920 - val_loss: 494.7621\n",
      "Epoch 254/500\n",
      "22/22 [==============================] - 0s 3ms/step - loss: 17.8450 - val_loss: 495.2292\n",
      "Epoch 255/500\n",
      "22/22 [==============================] - 0s 4ms/step - loss: 17.8014 - val_loss: 495.6795\n",
      "Epoch 256/500\n",
      "22/22 [==============================] - 0s 4ms/step - loss: 17.7608 - val_loss: 496.1127\n",
      "Epoch 257/500\n",
      "22/22 [==============================] - 0s 4ms/step - loss: 17.7233 - val_loss: 496.5293\n",
      "Epoch 258/500\n",
      "22/22 [==============================] - 0s 4ms/step - loss: 17.6885 - val_loss: 496.9306\n",
      "Epoch 259/500\n",
      "22/22 [==============================] - 0s 4ms/step - loss: 17.6562 - val_loss: 497.3162\n",
      "Epoch 260/500\n",
      "22/22 [==============================] - 0s 4ms/step - loss: 17.6262 - val_loss: 497.6862\n",
      "Epoch 261/500\n",
      "22/22 [==============================] - 0s 4ms/step - loss: 17.5984 - val_loss: 498.0414\n",
      "Epoch 262/500\n",
      "22/22 [==============================] - 0s 3ms/step - loss: 17.5727 - val_loss: 498.3821\n",
      "Epoch 263/500\n",
      "22/22 [==============================] - 0s 4ms/step - loss: 17.5488 - val_loss: 498.7086\n",
      "Epoch 264/500\n",
      "22/22 [==============================] - 0s 4ms/step - loss: 17.5268 - val_loss: 499.0215\n",
      "Epoch 265/500\n",
      "22/22 [==============================] - 0s 8ms/step - loss: 17.5063 - val_loss: 499.3214\n",
      "Epoch 266/500\n",
      "22/22 [==============================] - 0s 4ms/step - loss: 17.4874 - val_loss: 499.6077\n",
      "Epoch 267/500\n",
      "22/22 [==============================] - 0s 5ms/step - loss: 17.4699 - val_loss: 499.8818\n",
      "Epoch 268/500\n",
      "22/22 [==============================] - 0s 5ms/step - loss: 17.4536 - val_loss: 500.1436\n",
      "Epoch 269/500\n",
      "22/22 [==============================] - 0s 4ms/step - loss: 17.4387 - val_loss: 500.3936\n",
      "Epoch 270/500\n",
      "22/22 [==============================] - 0s 5ms/step - loss: 17.4248 - val_loss: 500.6324\n",
      "Epoch 271/500\n",
      "22/22 [==============================] - 0s 4ms/step - loss: 17.4119 - val_loss: 500.8598\n",
      "Epoch 272/500\n",
      "22/22 [==============================] - 0s 3ms/step - loss: 17.4001 - val_loss: 501.0767\n",
      "Epoch 273/500\n",
      "22/22 [==============================] - 0s 4ms/step - loss: 17.3891 - val_loss: 501.2833\n",
      "Epoch 274/500\n",
      "22/22 [==============================] - 0s 4ms/step - loss: 17.3790 - val_loss: 501.4798\n",
      "Epoch 275/500\n",
      "22/22 [==============================] - 0s 4ms/step - loss: 17.3696 - val_loss: 501.6666\n",
      "Epoch 276/500\n",
      "22/22 [==============================] - 0s 5ms/step - loss: 17.3610 - val_loss: 501.8444\n",
      "Epoch 277/500\n",
      "22/22 [==============================] - 0s 4ms/step - loss: 17.3529 - val_loss: 502.0131\n",
      "Epoch 278/500\n",
      "22/22 [==============================] - 0s 5ms/step - loss: 17.3456 - val_loss: 502.1735\n",
      "Epoch 279/500\n",
      "22/22 [==============================] - 0s 4ms/step - loss: 17.3388 - val_loss: 502.3254\n",
      "Epoch 280/500\n",
      "22/22 [==============================] - 0s 4ms/step - loss: 17.3325 - val_loss: 502.4696\n",
      "Epoch 281/500\n",
      "22/22 [==============================] - 0s 4ms/step - loss: 17.3267 - val_loss: 502.6059\n",
      "Epoch 282/500\n",
      "22/22 [==============================] - 0s 5ms/step - loss: 17.3214 - val_loss: 502.7357\n",
      "Epoch 283/500\n",
      "22/22 [==============================] - 0s 4ms/step - loss: 17.3165 - val_loss: 502.8579\n",
      "Epoch 284/500\n",
      "22/22 [==============================] - 0s 4ms/step - loss: 17.3120 - val_loss: 502.9735\n",
      "Epoch 285/500\n",
      "22/22 [==============================] - 0s 4ms/step - loss: 17.3078 - val_loss: 503.0826\n",
      "Epoch 286/500\n",
      "22/22 [==============================] - 0s 4ms/step - loss: 17.3040 - val_loss: 503.1858\n",
      "Epoch 287/500\n",
      "22/22 [==============================] - 0s 4ms/step - loss: 17.3005 - val_loss: 503.2831\n",
      "Epoch 288/500\n",
      "22/22 [==============================] - 0s 4ms/step - loss: 17.2973 - val_loss: 503.3750\n",
      "Epoch 289/500\n",
      "22/22 [==============================] - 0s 4ms/step - loss: 17.2943 - val_loss: 503.4612\n",
      "Epoch 290/500\n",
      "22/22 [==============================] - 0s 4ms/step - loss: 17.2917 - val_loss: 503.5427\n",
      "Epoch 291/500\n",
      "22/22 [==============================] - 0s 4ms/step - loss: 17.2892 - val_loss: 503.6190\n",
      "Epoch 292/500\n",
      "22/22 [==============================] - 0s 8ms/step - loss: 17.2870 - val_loss: 503.6910\n",
      "Epoch 293/500\n",
      "22/22 [==============================] - 0s 5ms/step - loss: 17.2849 - val_loss: 503.7585\n",
      "Epoch 294/500\n",
      "22/22 [==============================] - 0s 5ms/step - loss: 17.2831 - val_loss: 503.8219\n",
      "Epoch 295/500\n",
      "22/22 [==============================] - 0s 4ms/step - loss: 17.2814 - val_loss: 503.8811\n",
      "Epoch 296/500\n",
      "22/22 [==============================] - 0s 4ms/step - loss: 17.2799 - val_loss: 503.9370\n",
      "Epoch 297/500\n",
      "22/22 [==============================] - 0s 5ms/step - loss: 17.2786 - val_loss: 503.9890\n",
      "Epoch 298/500\n",
      "22/22 [==============================] - 0s 5ms/step - loss: 17.2774 - val_loss: 504.0378\n",
      "Epoch 299/500\n",
      "22/22 [==============================] - 0s 4ms/step - loss: 17.2763 - val_loss: 504.0836\n",
      "Epoch 300/500\n",
      "22/22 [==============================] - 0s 4ms/step - loss: 17.2753 - val_loss: 504.1260\n",
      "Epoch 301/500\n",
      "22/22 [==============================] - 0s 5ms/step - loss: 17.2745 - val_loss: 504.1660\n",
      "Epoch 302/500\n",
      "22/22 [==============================] - 0s 4ms/step - loss: 17.2737 - val_loss: 504.2032\n",
      "Epoch 303/500\n",
      "22/22 [==============================] - 0s 5ms/step - loss: 17.2731 - val_loss: 504.2374\n",
      "Epoch 304/500\n",
      "22/22 [==============================] - 0s 4ms/step - loss: 17.2725 - val_loss: 504.2696\n",
      "Epoch 305/500\n",
      "22/22 [==============================] - 0s 4ms/step - loss: 17.2721 - val_loss: 504.2995\n",
      "Epoch 306/500\n",
      "22/22 [==============================] - 0s 4ms/step - loss: 17.2717 - val_loss: 504.3273\n",
      "Epoch 307/500\n",
      "22/22 [==============================] - 0s 5ms/step - loss: 17.2714 - val_loss: 504.3534\n",
      "Epoch 308/500\n",
      "22/22 [==============================] - 0s 4ms/step - loss: 17.2712 - val_loss: 504.3773\n",
      "Epoch 309/500\n",
      "22/22 [==============================] - 0s 5ms/step - loss: 17.2710 - val_loss: 504.3993\n",
      "Epoch 310/500\n",
      "22/22 [==============================] - 0s 4ms/step - loss: 17.2709 - val_loss: 504.4199\n",
      "Epoch 311/500\n",
      "22/22 [==============================] - 0s 5ms/step - loss: 17.2708 - val_loss: 504.4386\n",
      "Epoch 312/500\n",
      "22/22 [==============================] - 0s 4ms/step - loss: 17.2708 - val_loss: 504.4559\n",
      "Epoch 313/500\n",
      "22/22 [==============================] - 0s 4ms/step - loss: 17.2709 - val_loss: 504.4717\n",
      "Epoch 314/500\n",
      "22/22 [==============================] - 0s 4ms/step - loss: 17.2710 - val_loss: 504.4864\n",
      "Epoch 315/500\n",
      "22/22 [==============================] - 0s 5ms/step - loss: 17.2711 - val_loss: 504.5002\n",
      "Epoch 316/500\n",
      "22/22 [==============================] - 0s 4ms/step - loss: 17.2713 - val_loss: 504.5126\n",
      "Epoch 317/500\n",
      "22/22 [==============================] - 0s 8ms/step - loss: 17.2715 - val_loss: 504.5240\n",
      "Epoch 318/500\n",
      "22/22 [==============================] - 0s 5ms/step - loss: 17.2717 - val_loss: 504.5344\n",
      "Epoch 319/500\n",
      "22/22 [==============================] - 0s 5ms/step - loss: 17.2720 - val_loss: 504.5439\n",
      "Epoch 320/500\n",
      "22/22 [==============================] - 0s 5ms/step - loss: 17.2723 - val_loss: 504.5527\n",
      "Epoch 321/500\n",
      "22/22 [==============================] - 0s 5ms/step - loss: 17.2726 - val_loss: 504.5604\n",
      "Epoch 322/500\n",
      "22/22 [==============================] - 0s 4ms/step - loss: 17.2729 - val_loss: 504.5674\n",
      "Epoch 323/500\n",
      "22/22 [==============================] - 0s 4ms/step - loss: 17.2733 - val_loss: 504.5739\n",
      "Epoch 324/500\n",
      "22/22 [==============================] - 0s 5ms/step - loss: 17.2738 - val_loss: 504.5799\n",
      "Epoch 325/500\n",
      "22/22 [==============================] - 0s 4ms/step - loss: 17.2741 - val_loss: 504.5854\n",
      "Epoch 326/500\n",
      "22/22 [==============================] - 0s 4ms/step - loss: 17.2745 - val_loss: 504.5898\n",
      "Epoch 327/500\n",
      "22/22 [==============================] - 0s 4ms/step - loss: 17.2750 - val_loss: 504.5938\n",
      "Epoch 328/500\n",
      "22/22 [==============================] - 0s 4ms/step - loss: 17.2755 - val_loss: 504.5974\n",
      "Epoch 329/500\n",
      "22/22 [==============================] - 0s 4ms/step - loss: 17.2760 - val_loss: 504.6009\n",
      "Epoch 330/500\n",
      "22/22 [==============================] - 0s 4ms/step - loss: 17.2764 - val_loss: 504.6037\n",
      "Epoch 331/500\n",
      "22/22 [==============================] - 0s 4ms/step - loss: 17.2769 - val_loss: 504.6062\n",
      "Epoch 332/500\n",
      "22/22 [==============================] - 0s 4ms/step - loss: 17.2774 - val_loss: 504.6084\n",
      "Epoch 333/500\n",
      "22/22 [==============================] - 0s 4ms/step - loss: 17.2779 - val_loss: 504.6100\n",
      "Epoch 334/500\n",
      "22/22 [==============================] - 0s 4ms/step - loss: 17.2785 - val_loss: 504.6118\n",
      "Epoch 335/500\n",
      "22/22 [==============================] - 0s 4ms/step - loss: 17.2790 - val_loss: 504.6131\n",
      "Epoch 336/500\n",
      "22/22 [==============================] - 0s 4ms/step - loss: 17.2795 - val_loss: 504.6143\n",
      "Epoch 337/500\n",
      "22/22 [==============================] - 0s 5ms/step - loss: 17.2800 - val_loss: 504.6153\n",
      "Epoch 338/500\n",
      "22/22 [==============================] - 0s 4ms/step - loss: 17.2805 - val_loss: 504.6157\n",
      "Epoch 339/500\n",
      "22/22 [==============================] - 0s 8ms/step - loss: 17.2811 - val_loss: 504.6161\n",
      "Epoch 340/500\n",
      "22/22 [==============================] - 0s 4ms/step - loss: 17.2816 - val_loss: 504.6163\n",
      "Epoch 341/500\n",
      "22/22 [==============================] - 0s 4ms/step - loss: 17.2822 - val_loss: 504.6162\n",
      "Epoch 342/500\n",
      "22/22 [==============================] - 0s 4ms/step - loss: 17.2827 - val_loss: 504.6159\n",
      "Epoch 343/500\n",
      "22/22 [==============================] - 0s 4ms/step - loss: 17.2833 - val_loss: 504.6159\n",
      "Epoch 344/500\n",
      "22/22 [==============================] - 0s 5ms/step - loss: 17.2838 - val_loss: 504.6155\n",
      "Epoch 345/500\n",
      "22/22 [==============================] - 0s 5ms/step - loss: 17.2843 - val_loss: 504.6153\n",
      "Epoch 346/500\n",
      "22/22 [==============================] - 0s 4ms/step - loss: 17.2849 - val_loss: 504.6148\n",
      "Epoch 347/500\n",
      "22/22 [==============================] - 0s 4ms/step - loss: 17.2854 - val_loss: 504.6141\n",
      "Epoch 348/500\n",
      "22/22 [==============================] - 0s 4ms/step - loss: 17.2860 - val_loss: 504.6136\n",
      "Epoch 349/500\n",
      "22/22 [==============================] - 0s 4ms/step - loss: 17.2865 - val_loss: 504.6126\n",
      "Epoch 350/500\n",
      "22/22 [==============================] - 0s 5ms/step - loss: 17.2871 - val_loss: 504.6118\n",
      "Epoch 351/500\n",
      "22/22 [==============================] - 0s 5ms/step - loss: 17.2876 - val_loss: 504.6110\n",
      "Epoch 352/500\n",
      "22/22 [==============================] - 0s 4ms/step - loss: 17.2881 - val_loss: 504.6098\n",
      "Epoch 353/500\n",
      "22/22 [==============================] - 0s 5ms/step - loss: 17.2887 - val_loss: 504.6091\n",
      "Epoch 354/500\n",
      "22/22 [==============================] - 0s 5ms/step - loss: 17.2892 - val_loss: 504.6083\n",
      "Epoch 355/500\n",
      "22/22 [==============================] - 0s 4ms/step - loss: 17.2897 - val_loss: 504.6070\n",
      "Epoch 356/500\n",
      "22/22 [==============================] - 0s 4ms/step - loss: 17.2903 - val_loss: 504.6060\n",
      "Epoch 357/500\n",
      "22/22 [==============================] - 0s 4ms/step - loss: 17.2907 - val_loss: 504.6048\n",
      "Epoch 358/500\n",
      "22/22 [==============================] - 0s 4ms/step - loss: 17.2913 - val_loss: 504.6038\n",
      "Epoch 359/500\n",
      "22/22 [==============================] - 0s 4ms/step - loss: 17.2918 - val_loss: 504.6024\n",
      "Epoch 360/500\n",
      "22/22 [==============================] - 0s 4ms/step - loss: 17.2923 - val_loss: 504.6013\n",
      "Epoch 361/500\n",
      "22/22 [==============================] - 0s 4ms/step - loss: 17.2928 - val_loss: 504.6001\n",
      "Epoch 362/500\n",
      "22/22 [==============================] - 0s 8ms/step - loss: 17.2933 - val_loss: 504.5989\n",
      "Epoch 363/500\n",
      "22/22 [==============================] - 0s 5ms/step - loss: 17.2938 - val_loss: 504.5977\n",
      "Epoch 364/500\n",
      "22/22 [==============================] - 0s 4ms/step - loss: 17.2943 - val_loss: 504.5965\n",
      "Epoch 365/500\n",
      "22/22 [==============================] - 0s 4ms/step - loss: 17.2948 - val_loss: 504.5955\n",
      "Epoch 366/500\n",
      "22/22 [==============================] - 0s 4ms/step - loss: 17.2952 - val_loss: 504.5941\n",
      "Epoch 367/500\n",
      "22/22 [==============================] - 0s 4ms/step - loss: 17.2957 - val_loss: 504.5929\n",
      "Epoch 368/500\n",
      "22/22 [==============================] - 0s 5ms/step - loss: 17.2962 - val_loss: 504.5918\n",
      "Epoch 369/500\n",
      "22/22 [==============================] - 0s 5ms/step - loss: 17.2966 - val_loss: 504.5905\n",
      "Epoch 370/500\n",
      "22/22 [==============================] - 0s 4ms/step - loss: 17.2971 - val_loss: 504.5891\n",
      "Epoch 371/500\n",
      "22/22 [==============================] - 0s 4ms/step - loss: 17.2976 - val_loss: 504.5878\n",
      "Epoch 372/500\n",
      "22/22 [==============================] - 0s 4ms/step - loss: 17.2980 - val_loss: 504.5865\n",
      "Epoch 373/500\n",
      "22/22 [==============================] - 0s 4ms/step - loss: 17.2985 - val_loss: 504.5852\n",
      "Epoch 374/500\n",
      "22/22 [==============================] - 0s 4ms/step - loss: 17.2989 - val_loss: 504.5841\n",
      "Epoch 375/500\n",
      "22/22 [==============================] - 0s 4ms/step - loss: 17.2994 - val_loss: 504.5831\n",
      "Epoch 376/500\n",
      "22/22 [==============================] - 0s 4ms/step - loss: 17.2998 - val_loss: 504.5817\n",
      "Epoch 377/500\n",
      "22/22 [==============================] - 0s 5ms/step - loss: 17.3002 - val_loss: 504.5806\n",
      "Epoch 378/500\n",
      "22/22 [==============================] - 0s 4ms/step - loss: 17.3006 - val_loss: 504.5797\n",
      "Epoch 379/500\n",
      "22/22 [==============================] - 0s 4ms/step - loss: 17.3010 - val_loss: 504.5784\n",
      "Epoch 380/500\n",
      "22/22 [==============================] - 0s 4ms/step - loss: 17.3015 - val_loss: 504.5771\n",
      "Epoch 381/500\n",
      "22/22 [==============================] - 0s 4ms/step - loss: 17.3018 - val_loss: 504.5760\n",
      "Epoch 382/500\n",
      "22/22 [==============================] - 0s 5ms/step - loss: 17.3022 - val_loss: 504.5750\n",
      "Epoch 383/500\n",
      "22/22 [==============================] - 0s 4ms/step - loss: 17.3026 - val_loss: 504.5737\n",
      "Epoch 384/500\n",
      "22/22 [==============================] - 0s 4ms/step - loss: 17.3030 - val_loss: 504.5727\n",
      "Epoch 385/500\n",
      "22/22 [==============================] - 0s 4ms/step - loss: 17.3034 - val_loss: 504.5715\n",
      "Epoch 386/500\n",
      "22/22 [==============================] - 0s 9ms/step - loss: 17.3038 - val_loss: 504.5705\n",
      "Epoch 387/500\n",
      "22/22 [==============================] - 0s 5ms/step - loss: 17.3042 - val_loss: 504.5694\n",
      "Epoch 388/500\n",
      "22/22 [==============================] - 0s 5ms/step - loss: 17.3045 - val_loss: 504.5685\n",
      "Epoch 389/500\n",
      "22/22 [==============================] - 0s 5ms/step - loss: 17.3049 - val_loss: 504.5675\n",
      "Epoch 390/500\n",
      "22/22 [==============================] - 0s 5ms/step - loss: 17.3052 - val_loss: 504.5665\n",
      "Epoch 391/500\n",
      "22/22 [==============================] - 0s 5ms/step - loss: 17.3056 - val_loss: 504.5657\n",
      "Epoch 392/500\n",
      "22/22 [==============================] - 0s 4ms/step - loss: 17.3059 - val_loss: 504.5648\n",
      "Epoch 393/500\n",
      "22/22 [==============================] - 0s 4ms/step - loss: 17.3063 - val_loss: 504.5638\n",
      "Epoch 394/500\n",
      "22/22 [==============================] - 0s 4ms/step - loss: 17.3066 - val_loss: 504.5631\n",
      "Epoch 395/500\n",
      "22/22 [==============================] - 0s 4ms/step - loss: 17.3069 - val_loss: 504.5620\n",
      "Epoch 396/500\n",
      "22/22 [==============================] - 0s 5ms/step - loss: 17.3072 - val_loss: 504.5611\n",
      "Epoch 397/500\n",
      "22/22 [==============================] - 0s 4ms/step - loss: 17.3076 - val_loss: 504.5600\n",
      "Epoch 398/500\n",
      "22/22 [==============================] - 0s 4ms/step - loss: 17.3079 - val_loss: 504.5591\n",
      "Epoch 399/500\n",
      "22/22 [==============================] - 0s 4ms/step - loss: 17.3081 - val_loss: 504.5579\n",
      "Epoch 400/500\n",
      "22/22 [==============================] - 0s 4ms/step - loss: 17.3085 - val_loss: 504.5573\n",
      "Epoch 401/500\n",
      "22/22 [==============================] - 0s 4ms/step - loss: 17.3088 - val_loss: 504.5561\n",
      "Epoch 402/500\n",
      "22/22 [==============================] - 0s 4ms/step - loss: 17.3091 - val_loss: 504.5552\n",
      "Epoch 403/500\n",
      "22/22 [==============================] - 0s 5ms/step - loss: 17.3094 - val_loss: 504.5548\n",
      "Epoch 404/500\n",
      "22/22 [==============================] - 0s 4ms/step - loss: 17.3096 - val_loss: 504.5536\n",
      "Epoch 405/500\n",
      "22/22 [==============================] - 0s 5ms/step - loss: 17.3100 - val_loss: 504.5528\n",
      "Epoch 406/500\n",
      "22/22 [==============================] - 0s 4ms/step - loss: 17.3102 - val_loss: 504.5523\n",
      "Epoch 407/500\n",
      "22/22 [==============================] - 0s 4ms/step - loss: 17.3105 - val_loss: 504.5514\n",
      "Epoch 408/500\n",
      "22/22 [==============================] - 0s 4ms/step - loss: 17.3108 - val_loss: 504.5505\n",
      "Epoch 409/500\n",
      "22/22 [==============================] - 0s 6ms/step - loss: 17.3111 - val_loss: 504.5499\n",
      "Epoch 410/500\n",
      "22/22 [==============================] - 0s 5ms/step - loss: 17.3113 - val_loss: 504.5493\n",
      "Epoch 411/500\n",
      "22/22 [==============================] - 0s 5ms/step - loss: 17.3115 - val_loss: 504.5485\n",
      "Epoch 412/500\n",
      "22/22 [==============================] - 0s 5ms/step - loss: 17.3118 - val_loss: 504.5475\n",
      "Epoch 413/500\n",
      "22/22 [==============================] - 0s 4ms/step - loss: 17.3120 - val_loss: 504.5469\n",
      "Epoch 414/500\n",
      "22/22 [==============================] - 0s 4ms/step - loss: 17.3123 - val_loss: 504.5462\n",
      "Epoch 415/500\n",
      "22/22 [==============================] - 0s 4ms/step - loss: 17.3125 - val_loss: 504.5455\n",
      "Epoch 416/500\n",
      "22/22 [==============================] - 0s 4ms/step - loss: 17.3127 - val_loss: 504.5448\n",
      "Epoch 417/500\n",
      "22/22 [==============================] - 0s 5ms/step - loss: 17.3130 - val_loss: 504.5441\n",
      "Epoch 418/500\n",
      "22/22 [==============================] - 0s 4ms/step - loss: 17.3132 - val_loss: 504.5434\n",
      "Epoch 419/500\n",
      "22/22 [==============================] - 0s 4ms/step - loss: 17.3134 - val_loss: 504.5428\n",
      "Epoch 420/500\n",
      "22/22 [==============================] - 0s 4ms/step - loss: 17.3136 - val_loss: 504.5424\n",
      "Epoch 421/500\n",
      "22/22 [==============================] - 0s 5ms/step - loss: 17.3138 - val_loss: 504.5418\n",
      "Epoch 422/500\n",
      "22/22 [==============================] - 0s 4ms/step - loss: 17.3141 - val_loss: 504.5409\n",
      "Epoch 423/500\n",
      "22/22 [==============================] - 0s 4ms/step - loss: 17.3143 - val_loss: 504.5404\n",
      "Epoch 424/500\n",
      "22/22 [==============================] - 0s 4ms/step - loss: 17.3145 - val_loss: 504.5399\n",
      "Epoch 425/500\n",
      "22/22 [==============================] - 0s 4ms/step - loss: 17.3146 - val_loss: 504.5391\n",
      "Epoch 426/500\n",
      "22/22 [==============================] - 0s 4ms/step - loss: 17.3149 - val_loss: 504.5386\n",
      "Epoch 427/500\n",
      "22/22 [==============================] - 0s 4ms/step - loss: 17.3151 - val_loss: 504.5384\n",
      "Epoch 428/500\n",
      "22/22 [==============================] - 0s 4ms/step - loss: 17.3152 - val_loss: 504.5376\n",
      "Epoch 429/500\n",
      "22/22 [==============================] - 0s 5ms/step - loss: 17.3154 - val_loss: 504.5374\n",
      "Epoch 430/500\n",
      "22/22 [==============================] - 0s 4ms/step - loss: 17.3156 - val_loss: 504.5371\n",
      "Epoch 431/500\n",
      "22/22 [==============================] - 0s 9ms/step - loss: 17.3157 - val_loss: 504.5364\n",
      "Epoch 432/500\n",
      "22/22 [==============================] - 0s 4ms/step - loss: 17.3159 - val_loss: 504.5359\n",
      "Epoch 433/500\n",
      "22/22 [==============================] - 0s 5ms/step - loss: 17.3161 - val_loss: 504.5357\n",
      "Epoch 434/500\n",
      "22/22 [==============================] - 0s 5ms/step - loss: 17.3163 - val_loss: 504.5353\n",
      "Epoch 435/500\n",
      "22/22 [==============================] - 0s 4ms/step - loss: 17.3164 - val_loss: 504.5345\n",
      "Epoch 436/500\n",
      "22/22 [==============================] - 0s 4ms/step - loss: 17.3166 - val_loss: 504.5341\n",
      "Epoch 437/500\n",
      "22/22 [==============================] - 0s 4ms/step - loss: 17.3168 - val_loss: 504.5337\n",
      "Epoch 438/500\n",
      "22/22 [==============================] - 0s 5ms/step - loss: 17.3169 - val_loss: 504.5333\n",
      "Epoch 439/500\n",
      "22/22 [==============================] - 0s 4ms/step - loss: 17.3171 - val_loss: 504.5327\n",
      "Epoch 440/500\n",
      "22/22 [==============================] - 0s 4ms/step - loss: 17.3172 - val_loss: 504.5323\n",
      "Epoch 441/500\n",
      "22/22 [==============================] - 0s 5ms/step - loss: 17.3174 - val_loss: 504.5319\n",
      "Epoch 442/500\n",
      "22/22 [==============================] - 0s 4ms/step - loss: 17.3175 - val_loss: 504.5313\n",
      "Epoch 443/500\n",
      "22/22 [==============================] - 0s 4ms/step - loss: 17.3177 - val_loss: 504.5310\n",
      "Epoch 444/500\n",
      "22/22 [==============================] - 0s 4ms/step - loss: 17.3178 - val_loss: 504.5307\n",
      "Epoch 445/500\n",
      "22/22 [==============================] - 0s 4ms/step - loss: 17.3179 - val_loss: 504.5300\n",
      "Epoch 446/500\n",
      "22/22 [==============================] - 0s 4ms/step - loss: 17.3181 - val_loss: 504.5296\n",
      "Epoch 447/500\n",
      "22/22 [==============================] - 0s 4ms/step - loss: 17.3182 - val_loss: 504.5292\n",
      "Epoch 448/500\n",
      "22/22 [==============================] - 0s 4ms/step - loss: 17.3183 - val_loss: 504.5286\n",
      "Epoch 449/500\n",
      "22/22 [==============================] - 0s 4ms/step - loss: 17.3184 - val_loss: 504.5281\n",
      "Epoch 450/500\n",
      "22/22 [==============================] - 0s 8ms/step - loss: 17.3186 - val_loss: 504.5277\n",
      "Epoch 451/500\n",
      "22/22 [==============================] - 0s 5ms/step - loss: 17.3187 - val_loss: 504.5277\n",
      "Epoch 452/500\n",
      "22/22 [==============================] - 0s 4ms/step - loss: 17.3188 - val_loss: 504.5274\n",
      "Epoch 453/500\n",
      "22/22 [==============================] - 0s 4ms/step - loss: 17.3189 - val_loss: 504.5271\n",
      "Epoch 454/500\n",
      "22/22 [==============================] - 0s 5ms/step - loss: 17.3191 - val_loss: 504.5269\n",
      "Epoch 455/500\n",
      "22/22 [==============================] - 0s 4ms/step - loss: 17.3192 - val_loss: 504.5266\n",
      "Epoch 456/500\n",
      "22/22 [==============================] - 0s 4ms/step - loss: 17.3193 - val_loss: 504.5261\n",
      "Epoch 457/500\n",
      "22/22 [==============================] - 0s 4ms/step - loss: 17.3194 - val_loss: 504.5256\n",
      "Epoch 458/500\n",
      "22/22 [==============================] - 0s 4ms/step - loss: 17.3195 - val_loss: 504.5254\n",
      "Epoch 459/500\n",
      "22/22 [==============================] - 0s 5ms/step - loss: 17.3196 - val_loss: 504.5252\n",
      "Epoch 460/500\n",
      "22/22 [==============================] - 0s 6ms/step - loss: 17.3197 - val_loss: 504.5247\n",
      "Epoch 461/500\n",
      "22/22 [==============================] - 0s 5ms/step - loss: 17.3198 - val_loss: 504.5244\n",
      "Epoch 462/500\n",
      "22/22 [==============================] - 0s 5ms/step - loss: 17.3199 - val_loss: 504.5240\n",
      "Epoch 463/500\n",
      "22/22 [==============================] - 0s 5ms/step - loss: 17.3200 - val_loss: 504.5236\n",
      "Epoch 464/500\n",
      "22/22 [==============================] - 0s 4ms/step - loss: 17.3201 - val_loss: 504.5234\n",
      "Epoch 465/500\n",
      "22/22 [==============================] - 0s 4ms/step - loss: 17.3202 - val_loss: 504.5232\n",
      "Epoch 466/500\n",
      "22/22 [==============================] - 0s 4ms/step - loss: 17.3203 - val_loss: 504.5231\n",
      "Epoch 467/500\n",
      "22/22 [==============================] - 0s 4ms/step - loss: 17.3204 - val_loss: 504.5229\n",
      "Epoch 468/500\n",
      "22/22 [==============================] - 0s 5ms/step - loss: 17.3204 - val_loss: 504.5226\n",
      "Epoch 469/500\n",
      "22/22 [==============================] - 0s 8ms/step - loss: 17.3205 - val_loss: 504.5225\n",
      "Epoch 470/500\n",
      "22/22 [==============================] - 0s 5ms/step - loss: 17.3206 - val_loss: 504.5224\n",
      "Epoch 471/500\n",
      "22/22 [==============================] - 0s 5ms/step - loss: 17.3207 - val_loss: 504.5219\n",
      "Epoch 472/500\n",
      "22/22 [==============================] - 0s 4ms/step - loss: 17.3208 - val_loss: 504.5215\n",
      "Epoch 473/500\n",
      "22/22 [==============================] - 0s 5ms/step - loss: 17.3209 - val_loss: 504.5212\n",
      "Epoch 474/500\n",
      "22/22 [==============================] - 0s 4ms/step - loss: 17.3209 - val_loss: 504.5211\n",
      "Epoch 475/500\n",
      "22/22 [==============================] - 0s 4ms/step - loss: 17.3210 - val_loss: 504.5208\n",
      "Epoch 476/500\n",
      "22/22 [==============================] - 0s 4ms/step - loss: 17.3211 - val_loss: 504.5204\n",
      "Epoch 477/500\n",
      "22/22 [==============================] - 0s 4ms/step - loss: 17.3211 - val_loss: 504.5204\n",
      "Epoch 478/500\n",
      "22/22 [==============================] - 0s 4ms/step - loss: 17.3212 - val_loss: 504.5202\n",
      "Epoch 479/500\n",
      "22/22 [==============================] - 0s 4ms/step - loss: 17.3213 - val_loss: 504.5199\n",
      "Epoch 480/500\n",
      "22/22 [==============================] - 0s 4ms/step - loss: 17.3213 - val_loss: 504.5196\n",
      "Epoch 481/500\n",
      "22/22 [==============================] - 0s 4ms/step - loss: 17.3214 - val_loss: 504.5196\n",
      "Epoch 482/500\n",
      "22/22 [==============================] - 0s 4ms/step - loss: 17.3215 - val_loss: 504.5195\n",
      "Epoch 483/500\n",
      "22/22 [==============================] - 0s 4ms/step - loss: 17.3215 - val_loss: 504.5195\n",
      "Epoch 484/500\n",
      "22/22 [==============================] - 0s 4ms/step - loss: 17.3216 - val_loss: 504.5193\n",
      "Epoch 485/500\n",
      "22/22 [==============================] - 0s 4ms/step - loss: 17.3217 - val_loss: 504.5193\n",
      "Epoch 486/500\n",
      "22/22 [==============================] - 0s 4ms/step - loss: 17.3217 - val_loss: 504.5190\n",
      "Epoch 487/500\n",
      "22/22 [==============================] - 0s 5ms/step - loss: 17.3218 - val_loss: 504.5189\n",
      "Epoch 488/500\n",
      "22/22 [==============================] - 0s 5ms/step - loss: 17.3218 - val_loss: 504.5188\n",
      "Epoch 489/500\n",
      "22/22 [==============================] - 0s 8ms/step - loss: 17.3219 - val_loss: 504.5187\n",
      "Epoch 490/500\n",
      "22/22 [==============================] - 0s 5ms/step - loss: 17.3219 - val_loss: 504.5186\n",
      "Epoch 491/500\n",
      "22/22 [==============================] - 0s 4ms/step - loss: 17.3220 - val_loss: 504.5186\n",
      "Epoch 492/500\n",
      "22/22 [==============================] - 0s 4ms/step - loss: 17.3220 - val_loss: 504.5184\n",
      "Epoch 493/500\n",
      "22/22 [==============================] - 0s 4ms/step - loss: 17.3221 - val_loss: 504.5180\n",
      "Epoch 494/500\n",
      "22/22 [==============================] - 0s 5ms/step - loss: 17.3221 - val_loss: 504.5179\n",
      "Epoch 495/500\n",
      "22/22 [==============================] - 0s 4ms/step - loss: 17.3222 - val_loss: 504.5180\n",
      "Epoch 496/500\n",
      "22/22 [==============================] - 0s 4ms/step - loss: 17.3222 - val_loss: 504.5177\n",
      "Epoch 497/500\n",
      "22/22 [==============================] - 0s 5ms/step - loss: 17.3223 - val_loss: 504.5175\n",
      "Epoch 498/500\n",
      "22/22 [==============================] - 0s 4ms/step - loss: 17.3223 - val_loss: 504.5169\n",
      "Epoch 499/500\n",
      "22/22 [==============================] - 0s 5ms/step - loss: 17.3224 - val_loss: 504.5167\n",
      "Epoch 500/500\n",
      "22/22 [==============================] - 0s 4ms/step - loss: 17.3224 - val_loss: 504.5165\n"
     ]
    }
   ],
   "source": [
    "C0 = tf.Variable(88.1552, name=\"C0\", trainable=True, dtype=tf.float32)\n",
    "K0 = tf.Variable(-0.0026, name=\"K0\", trainable=True, dtype=tf.float32)\n",
    "K1 = tf.Variable(-0.0004, name=\"K1\", trainable=True, dtype=tf.float32)\n",
    "a = tf.Variable(0.0000, name=\"a\", trainable=True, dtype=tf.float32)\n",
    "b = tf.Variable(0.0102, name=\"b\", trainable=True, dtype=tf.float32)\n",
    "c = tf.Variable(2.8734, name=\"c\", trainable=True, dtype=tf.float32)\n",
    "\n",
    "splitr = 0.8\n",
    "\n",
    "\n",
    "def loss_fn(y_true, y_pred):\n",
    "    squared_difference = tf.square(y_true[:, 0] - y_pred[:, 0])\n",
    "    #squared_difference2 = tf.square(y_true[:, 2]-y_pred[:, 2])\n",
    "    #squared_difference1 = tf.square(y_true[:, 1]-y_pred[:, 1])\n",
    "    epsilon = 1\n",
    "    squared_difference3 = tf.square(\n",
    "        y_pred[:, 1] - (\n",
    "            y_pred[:, 0] * (\n",
    "                K0 - K1 * (\n",
    "                    9 * a * tf.math.log((y_pred[:, 0] + epsilon) / C0) / (K0 - K1 * c)**2 +\n",
    "                    4 * b * tf.math.log((y_pred[:, 0] + epsilon) / C0) / (K0 - K1 * c) + c\n",
    "                )\n",
    "            )\n",
    "        )\n",
    "    )\n",
    "    return tf.reduce_mean(squared_difference, axis=-1) + 0.2*tf.reduce_mean(squared_difference3, axis=-1)\n",
    "model = Sequential()\n",
    "model.add(LSTM(100, input_shape=(trainX.shape[1], trainX.shape[2])))\n",
    "model.add(Dense(60))\n",
    "model.compile(loss=loss_fn, optimizer='adam')\n",
    "history = model.fit(trainX[:int(splitr*trainX.shape[0])], trainy[:int(splitr*trainX.shape[0])], epochs=500, batch_size=64, validation_data=(trainX[int(splitr*trainX.shape[0]):trainX.shape[0]], trainy[int(splitr*trainX.shape[0]):trainX.shape[0]]), shuffle=False)"
   ]
  },
  {
   "cell_type": "code",
   "execution_count": 19,
   "metadata": {
    "colab": {
     "base_uri": "https://localhost:8080/"
    },
    "id": "yJL101rPyuoT",
    "outputId": "239ff2b1-c186-423a-d316-939dfdd7c793"
   },
   "outputs": [
    {
     "name": "stdout",
     "output_type": "stream",
     "text": [
      "1/1 [==============================] - 0s 336ms/step\n"
     ]
    }
   ],
   "source": [
    "forecast_without_mc = forecastX\n",
    "yhat_without_mc = model.predict(forecast_without_mc) # Step Ahead Prediction\n",
    "forecast_without_mc = forecast_without_mc.reshape((forecast_without_mc.shape[0], forecast_without_mc.shape[2])) # Historical Input"
   ]
  },
  {
   "cell_type": "code",
   "execution_count": 20,
   "metadata": {
    "colab": {
     "base_uri": "https://localhost:8080/"
    },
    "id": "g9dQELcJ8wbp",
    "outputId": "4dc7671b-b1a8-48d5-8744-a86f98446109"
   },
   "outputs": [
    {
     "data": {
      "text/plain": [
       "(1, 1, 251)"
      ]
     },
     "execution_count": 20,
     "metadata": {},
     "output_type": "execute_result"
    }
   ],
   "source": [
    "forecastX.shape"
   ]
  },
  {
   "cell_type": "code",
   "execution_count": 21,
   "metadata": {
    "colab": {
     "base_uri": "https://localhost:8080/"
    },
    "id": "IS2kyIKG1Kbr",
    "outputId": "f31b3485-8e26-452f-9298-ea8bf7e80ad1"
   },
   "outputs": [
    {
     "data": {
      "text/plain": [
       "(1, 251)"
      ]
     },
     "execution_count": 21,
     "metadata": {},
     "output_type": "execute_result"
    }
   ],
   "source": [
    "forecast_without_mc.shape"
   ]
  },
  {
   "cell_type": "code",
   "execution_count": 22,
   "metadata": {
    "id": "0u6VIzaDyuoT"
   },
   "outputs": [],
   "source": [
    "inv_yhat_without_mc = np.concatenate((forecast_without_mc, yhat_without_mc), axis=1) # Concatenation of predicted values with Historical Data\n",
    "#inv_yhat_without_mc = scaler.inverse_transform(inv_yhat_without_mc) # Transform labels back to original encoding"
   ]
  },
  {
   "cell_type": "code",
   "execution_count": 23,
   "metadata": {
    "colab": {
     "base_uri": "https://localhost:8080/"
    },
    "id": "EUEcw0LX07oU",
    "outputId": "cfc32397-9c37-4b43-d087-584bb31c3dcc"
   },
   "outputs": [
    {
     "data": {
      "text/plain": [
       "(1, 311)"
      ]
     },
     "execution_count": 23,
     "metadata": {},
     "output_type": "execute_result"
    }
   ],
   "source": [
    "inv_yhat_without_mc.shape"
   ]
  },
  {
   "cell_type": "code",
   "execution_count": 24,
   "metadata": {
    "id": "31OWVbSh_305"
   },
   "outputs": [],
   "source": [
    "fforecast = inv_yhat_without_mc[:,-300:]"
   ]
  },
  {
   "cell_type": "code",
   "execution_count": 25,
   "metadata": {},
   "outputs": [
    {
     "data": {
      "text/plain": [
       "(1, 300)"
      ]
     },
     "execution_count": 25,
     "metadata": {},
     "output_type": "execute_result"
    }
   ],
   "source": [
    "fforecast.shape"
   ]
  },
  {
   "cell_type": "code",
   "execution_count": 26,
   "metadata": {
    "id": "BlpGH2FOAiRF"
   },
   "outputs": [],
   "source": [
    "final_forecast = fforecast[:,0:300:3]"
   ]
  },
  {
   "cell_type": "code",
   "execution_count": 27,
   "metadata": {},
   "outputs": [
    {
     "data": {
      "text/plain": [
       "(1, 300)"
      ]
     },
     "execution_count": 27,
     "metadata": {},
     "output_type": "execute_result"
    }
   ],
   "source": [
    "fforecast.shape"
   ]
  },
  {
   "cell_type": "code",
   "execution_count": 28,
   "metadata": {
    "id": "CXkgkj_LBk_t"
   },
   "outputs": [],
   "source": [
    "# code to replace all negative value with 0\n",
    "final_forecast[final_forecast<0] = 0"
   ]
  },
  {
   "cell_type": "code",
   "execution_count": 29,
   "metadata": {},
   "outputs": [
    {
     "data": {
      "text/plain": [
       "array([[6.67527544e+01, 6.67303455e+01, 6.67079365e+01, 6.66855275e+01,\n",
       "        6.66631186e+01, 6.66407096e+01, 6.66183006e+01, 6.65958917e+01,\n",
       "        6.65734827e+01, 6.65510738e+01, 6.65286648e+01, 6.65062558e+01,\n",
       "        6.64838469e+01, 7.03730392e+01, 7.03142157e+01, 7.02553922e+01,\n",
       "        7.01965686e+01, 7.01377451e+01, 7.00789216e+01, 7.00200980e+01,\n",
       "        6.99612745e+01, 6.99024510e+01, 6.97711485e+01, 6.96366947e+01,\n",
       "        6.95022409e+01, 6.93677871e+01, 6.92333333e+01, 6.90988796e+01,\n",
       "        6.89644258e+01, 6.88299720e+01, 6.86955182e+01, 6.85610644e+01,\n",
       "        6.84266106e+01, 6.82975490e+01, 6.82555322e+01, 6.82135154e+01,\n",
       "        6.81714986e+01, 6.81294818e+01, 6.80874650e+01, 6.80454482e+01,\n",
       "        4.03590024e-01, 0.00000000e+00, 0.00000000e+00, 3.69284540e-01,\n",
       "        0.00000000e+00, 4.68337446e-01, 1.54416636e-01, 6.93976657e+01,\n",
       "        6.92632119e+01, 6.91287582e+01, 6.90043044e+01, 6.88598506e+01,\n",
       "        6.87253968e+01, 6.85909430e+01, 6.84564893e+01, 6.83220355e+01,\n",
       "        6.82648693e+01, 6.82228525e+01, 6.81808357e+01, 6.81388189e+01,\n",
       "        6.80968020e+01, 6.80547852e+01, 6.80127684e+01, 6.79707516e+01,\n",
       "        6.79287348e+01, 6.78867180e+01, 6.78447012e+01, 6.78026844e+01,\n",
       "        6.77213352e+01, 6.76373016e+01, 6.75532680e+01, 6.74692344e+01,\n",
       "        6.73852007e+01, 7.48104630e+01, 2.29810938e-01, 4.26735163e-01,\n",
       "        2.73587630e-02, 1.30296558e-01, 0.00000000e+00, 0.00000000e+00,\n",
       "        5.76988487e+01, 2.33703539e-01, 0.00000000e+00, 0.00000000e+00,\n",
       "        1.21428639e-01, 0.00000000e+00, 4.45347309e-01, 1.01357067e+00,\n",
       "        0.00000000e+00, 8.13373566e-01, 0.00000000e+00, 3.25780332e-01,\n",
       "        5.31821966e-01, 3.53163481e-03, 5.06379366e-01, 0.00000000e+00,\n",
       "        0.00000000e+00, 0.00000000e+00, 2.75386542e-01, 0.00000000e+00]])"
      ]
     },
     "execution_count": 29,
     "metadata": {},
     "output_type": "execute_result"
    }
   ],
   "source": [
    "final_forecast"
   ]
  },
  {
   "cell_type": "code",
   "execution_count": 30,
   "metadata": {},
   "outputs": [
    {
     "data": {
      "text/plain": [
       "(1, 100)"
      ]
     },
     "execution_count": 30,
     "metadata": {},
     "output_type": "execute_result"
    }
   ],
   "source": [
    "final_forecast.shape"
   ]
  },
  {
   "cell_type": "code",
   "execution_count": 31,
   "metadata": {},
   "outputs": [
    {
     "data": {
      "text/plain": [
       "(100,)"
      ]
     },
     "execution_count": 31,
     "metadata": {},
     "output_type": "execute_result"
    }
   ],
   "source": [
    "test.shape"
   ]
  },
  {
   "cell_type": "code",
   "execution_count": 32,
   "metadata": {},
   "outputs": [],
   "source": [
    "training_set = np.array(training_set)\n",
    "test = np.array(test)\n",
    "final_forecast = np.array(final_forecast.squeeze(0))"
   ]
  },
  {
   "cell_type": "code",
   "execution_count": 33,
   "metadata": {},
   "outputs": [
    {
     "data": {
      "text/plain": [
       "array([57.53635991, 57.52078295, 57.50520598, 57.48962902, 57.47405206,\n",
       "       57.4584751 , 57.44289813, 57.42732117, 57.41174421, 57.39616725,\n",
       "       57.38059028, 57.36501332, 57.34943636, 57.3338594 , 57.31828243,\n",
       "       57.30270547, 57.28712851, 57.27155155, 57.25597458, 57.24039762,\n",
       "       57.22482066, 57.2092437 , 57.19366673, 57.17808977, 57.16251281,\n",
       "       57.14693585, 57.13135889, 57.11578192, 57.10020496, 57.084628  ,\n",
       "       57.06905104, 57.05347407, 57.03789711, 57.02232015, 57.00674319,\n",
       "       56.99116622, 56.97558926, 56.9600123 , 56.94443534, 56.92885837,\n",
       "       56.91328141, 56.89770445, 56.88212749, 56.86655052, 56.85097356,\n",
       "       56.8353966 , 56.81981964, 56.80424267, 56.78866571, 56.77308875,\n",
       "       56.75751179, 56.74193482, 56.72635786, 56.7107809 , 56.69520394,\n",
       "       56.67962697, 56.66405001, 56.64847305, 56.63289609, 56.61731912,\n",
       "       56.60174216, 56.5861652 , 56.57058824, 56.55501127, 56.53943431,\n",
       "       56.52385735, 56.50828039, 56.49270342, 56.47712646, 56.4615495 ,\n",
       "       56.44597254, 56.43039557, 56.41481861, 56.39924165, 56.38366469,\n",
       "       56.36808772, 56.35251076, 56.3369338 , 56.32135684, 56.30577987,\n",
       "       56.29020291, 56.27462595, 56.25904899, 56.24347202, 56.22789506,\n",
       "       56.2123181 , 56.19674114, 56.18116417, 56.16558721, 56.15001025,\n",
       "       56.13443329, 56.11885632, 56.10327936, 56.0877024 , 56.07212544,\n",
       "       56.05654847, 56.04097151, 56.02539455, 56.00981759, 55.99424062])"
      ]
     },
     "execution_count": 33,
     "metadata": {},
     "output_type": "execute_result"
    }
   ],
   "source": [
    "test"
   ]
  },
  {
   "cell_type": "code",
   "execution_count": 34,
   "metadata": {},
   "outputs": [
    {
     "data": {
      "text/plain": [
       "(100,)"
      ]
     },
     "execution_count": 34,
     "metadata": {},
     "output_type": "execute_result"
    }
   ],
   "source": [
    "test.shape"
   ]
  },
  {
   "cell_type": "code",
   "execution_count": 35,
   "metadata": {},
   "outputs": [
    {
     "data": {
      "text/plain": [
       "(100,)"
      ]
     },
     "execution_count": 35,
     "metadata": {},
     "output_type": "execute_result"
    }
   ],
   "source": [
    "final_forecast.shape"
   ]
  },
  {
   "cell_type": "code",
   "execution_count": 36,
   "metadata": {},
   "outputs": [
    {
     "data": {
      "text/plain": [
       "(100,)"
      ]
     },
     "execution_count": 36,
     "metadata": {},
     "output_type": "execute_result"
    }
   ],
   "source": [
    "test.shape"
   ]
  },
  {
   "cell_type": "code",
   "execution_count": 37,
   "metadata": {},
   "outputs": [
    {
     "name": "stdout",
     "output_type": "stream",
     "text": [
      "33.125118712649034\n",
      "25.633620679867228\n"
     ]
    }
   ],
   "source": [
    "import math\n",
    "MSE = np.square(np.subtract(np.array(test),np.array(final_forecast))).mean()   \n",
    "rsme = math.sqrt(MSE)\n",
    "print(rsme)  \n",
    "MAE = np.abs(np.subtract(np.array(test),np.array(final_forecast))).mean()   \n",
    "mae = MAE\n",
    "print(mae)"
   ]
  }
 ],
 "metadata": {
  "colab": {
   "provenance": []
  },
  "kernelspec": {
   "display_name": "Python 3",
   "language": "python",
   "name": "python3"
  },
  "language_info": {
   "codemirror_mode": {
    "name": "ipython",
    "version": 3
   },
   "file_extension": ".py",
   "mimetype": "text/x-python",
   "name": "python",
   "nbconvert_exporter": "python",
   "pygments_lexer": "ipython3",
   "version": "3.9.13"
  }
 },
 "nbformat": 4,
 "nbformat_minor": 0
}
