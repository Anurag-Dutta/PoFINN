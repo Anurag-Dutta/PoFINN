{
 "cells": [
  {
   "cell_type": "markdown",
   "metadata": {
    "id": "pCGKeZ2gyuoQ"
   },
   "source": [
    "_Importing Required Libraries_"
   ]
  },
  {
   "cell_type": "code",
   "execution_count": 1,
   "metadata": {
    "colab": {
     "base_uri": "https://localhost:8080/"
    },
    "id": "A-6LN-zXiLcM",
    "outputId": "4de610a4-f8b8-4f49-c6c0-89de299ccedc"
   },
   "outputs": [
    {
     "name": "stdout",
     "output_type": "stream",
     "text": [
      "Requirement already satisfied: hampel in c:\\users\\anurag dutta\\appdata\\local\\packages\\pythonsoftwarefoundation.python.3.9_qbz5n2kfra8p0\\localcache\\local-packages\\python39\\site-packages (0.0.5)\n",
      "Requirement already satisfied: numpy in c:\\users\\anurag dutta\\appdata\\local\\packages\\pythonsoftwarefoundation.python.3.9_qbz5n2kfra8p0\\localcache\\local-packages\\python39\\site-packages (from hampel) (1.26.4)\n",
      "Requirement already satisfied: pandas in c:\\users\\anurag dutta\\appdata\\local\\packages\\pythonsoftwarefoundation.python.3.9_qbz5n2kfra8p0\\localcache\\local-packages\\python39\\site-packages (from hampel) (1.5.2)\n",
      "Note: you may need to restart the kernel to use updated packages.\n"
     ]
    },
    {
     "name": "stderr",
     "output_type": "stream",
     "text": [
      "\n",
      "[notice] A new release of pip is available: 24.2 -> 24.3.1\n",
      "[notice] To update, run: C:\\Users\\Anurag Dutta\\AppData\\Local\\Microsoft\\WindowsApps\\PythonSoftwareFoundation.Python.3.9_qbz5n2kfra8p0\\python.exe -m pip install --upgrade pip\n"
     ]
    },
    {
     "name": "stdout",
     "output_type": "stream",
     "text": [
      "Requirement already satisfied: python-dateutil>=2.8.1 in c:\\users\\anurag dutta\\appdata\\local\\packages\\pythonsoftwarefoundation.python.3.9_qbz5n2kfra8p0\\localcache\\local-packages\\python39\\site-packages (from pandas->hampel) (2.8.2)\n",
      "Requirement already satisfied: pytz>=2020.1 in c:\\users\\anurag dutta\\appdata\\local\\packages\\pythonsoftwarefoundation.python.3.9_qbz5n2kfra8p0\\localcache\\local-packages\\python39\\site-packages (from pandas->hampel) (2023.3.post1)\n",
      "Requirement already satisfied: six>=1.5 in c:\\users\\anurag dutta\\appdata\\local\\packages\\pythonsoftwarefoundation.python.3.9_qbz5n2kfra8p0\\localcache\\local-packages\\python39\\site-packages (from python-dateutil>=2.8.1->pandas->hampel) (1.16.0)\n"
     ]
    }
   ],
   "source": [
    "pip install hampel"
   ]
  },
  {
   "cell_type": "code",
   "execution_count": 2,
   "metadata": {
    "id": "By_d9uXpaFvZ"
   },
   "outputs": [],
   "source": [
    "from keras.models import Sequential\n",
    "from keras.layers import Dense\n",
    "from keras.layers import LSTM\n",
    "from keras.layers import Dropout\n",
    "import keras\n",
    "import tensorflow as tf\n",
    "from hampel import hampel\n",
    "import numpy as np\n",
    "import matplotlib.pyplot as plt\n",
    "import pandas as pd\n",
    "from sklearn.preprocessing import MinMaxScaler\n",
    "from sklearn.metrics import mean_squared_error, mean_absolute_error\n",
    "from math import sqrt\n",
    "from matplotlib import pyplot\n",
    "from numpy import array"
   ]
  },
  {
   "cell_type": "markdown",
   "metadata": {
    "id": "JyOjBMFayuoR"
   },
   "source": [
    "## Pretraining"
   ]
  },
  {
   "cell_type": "markdown",
   "metadata": {
    "id": "-5QqIY_GyuoR"
   },
   "source": [
    "The `capa_intermittency.dat` feeds the model with the dynamics of the Capacitor"
   ]
  },
  {
   "cell_type": "code",
   "execution_count": 3,
   "metadata": {
    "id": "9dV4a8yfyuoR"
   },
   "outputs": [],
   "source": [
    "data = np.genfromtxt('capa_intermittency.dat')\n",
    "training_set = pd.DataFrame(data).reset_index(drop=True)\n",
    "training_set = training_set.iloc[:,0]"
   ]
  },
  {
   "cell_type": "markdown",
   "metadata": {
    "id": "i7easoxByuoR"
   },
   "source": [
    "## Computing the Gradient"
   ]
  },
  {
   "cell_type": "markdown",
   "metadata": {
    "id": "5SnyolJTyuoR"
   },
   "source": [
    "_Calculating the value of_ $\\frac{dx}{dt}$"
   ]
  },
  {
   "cell_type": "code",
   "execution_count": 4,
   "metadata": {
    "colab": {
     "base_uri": "https://localhost:8080/"
    },
    "id": "wmIbVfIvyuoR",
    "outputId": "aa4e3136-c854-465d-d2e9-81cfd546e440"
   },
   "outputs": [
    {
     "name": "stdout",
     "output_type": "stream",
     "text": [
      "1.0\n",
      "1        0.000298\n",
      "2        0.000298\n",
      "3        0.000297\n",
      "4        0.000297\n",
      "5        0.000297\n",
      "           ...   \n",
      "9996     0.000018\n",
      "9997     0.000018\n",
      "9998     0.000018\n",
      "9999     0.000018\n",
      "10000    0.000018\n",
      "Name: 0, Length: 10000, dtype: float64\n"
     ]
    }
   ],
   "source": [
    "t_diff = 1\n",
    "print(training_set.max())\n",
    "gradient_t = (training_set.diff()/t_diff).iloc[1:] # dx/dt\n",
    "print(gradient_t)"
   ]
  },
  {
   "cell_type": "markdown",
   "metadata": {
    "id": "_2eVeeoxyuoS"
   },
   "source": [
    "## Loading Datasets"
   ]
  },
  {
   "cell_type": "code",
   "execution_count": 5,
   "metadata": {
    "id": "0J-NKyIEyuoS"
   },
   "outputs": [
    {
     "data": {
      "text/plain": [
       "0       90.500000\n",
       "1       90.275910\n",
       "2       90.051821\n",
       "3       89.827731\n",
       "4       89.603641\n",
       "          ...    \n",
       "1845    65.224440\n",
       "1846    65.201097\n",
       "1847    65.177754\n",
       "1848    65.154412\n",
       "1849    65.131069\n",
       "Name: C2, Length: 1850, dtype: float64"
      ]
     },
     "execution_count": 5,
     "metadata": {},
     "output_type": "execute_result"
    }
   ],
   "source": [
    "data = pd.read_csv(\"c2_interpolated_1750_100.csv\")\n",
    "training_set = data.iloc[:, 1]\n",
    "training_set"
   ]
  },
  {
   "cell_type": "code",
   "execution_count": 6,
   "metadata": {
    "colab": {
     "base_uri": "https://localhost:8080/"
    },
    "id": "-CbNUhJ74UqF",
    "outputId": "20f562d8-8247-49cc-b9c3-00eca5e13e2d"
   },
   "outputs": [
    {
     "data": {
      "text/plain": [
       "0       90.500000\n",
       "1       90.275910\n",
       "2       90.051821\n",
       "3       89.827731\n",
       "4       89.603641\n",
       "          ...    \n",
       "1745    66.498786\n",
       "1746    66.491317\n",
       "1747    66.483847\n",
       "1748    66.476377\n",
       "1749    66.468908\n",
       "Name: C2, Length: 1750, dtype: float64"
      ]
     },
     "execution_count": 6,
     "metadata": {},
     "output_type": "execute_result"
    }
   ],
   "source": [
    "test = training_set.tail(100)\n",
    "test\n",
    "training_set = training_set.head(1750)\n",
    "training_set"
   ]
  },
  {
   "cell_type": "code",
   "execution_count": 7,
   "metadata": {
    "colab": {
     "base_uri": "https://localhost:8080/"
    },
    "id": "X0TwTcq0yuoS",
    "outputId": "37252ed8-d88e-4044-fa7a-922411990b5b"
   },
   "outputs": [
    {
     "name": "stdout",
     "output_type": "stream",
     "text": [
      "0       0.000298\n",
      "1       0.000298\n",
      "2       0.000297\n",
      "3       0.000297\n",
      "4       0.000297\n",
      "          ...   \n",
      "9995    0.000018\n",
      "9996    0.000018\n",
      "9997    0.000018\n",
      "9998    0.000018\n",
      "9999    0.000018\n",
      "Name: 0, Length: 10000, dtype: float64\n"
     ]
    }
   ],
   "source": [
    "training_set = training_set.reset_index(drop=True)\n",
    "gradient_t = gradient_t.reset_index(drop=True)\n",
    "print(gradient_t)"
   ]
  },
  {
   "cell_type": "code",
   "execution_count": 8,
   "metadata": {
    "id": "O2biznZQyuoS"
   },
   "outputs": [],
   "source": [
    "df = pd.concat((training_set, gradient_t), axis=1)\n",
    "df.columns = ['y_t', 'grad_t']"
   ]
  },
  {
   "cell_type": "code",
   "execution_count": 9,
   "metadata": {
    "colab": {
     "base_uri": "https://localhost:8080/",
     "height": 423
    },
    "id": "sk_a5v3tyuoS",
    "outputId": "17563625-e550-45ae-faab-fafa353e44da"
   },
   "outputs": [
    {
     "data": {
      "text/html": [
       "<div>\n",
       "<style scoped>\n",
       "    .dataframe tbody tr th:only-of-type {\n",
       "        vertical-align: middle;\n",
       "    }\n",
       "\n",
       "    .dataframe tbody tr th {\n",
       "        vertical-align: top;\n",
       "    }\n",
       "\n",
       "    .dataframe thead th {\n",
       "        text-align: right;\n",
       "    }\n",
       "</style>\n",
       "<table border=\"1\" class=\"dataframe\">\n",
       "  <thead>\n",
       "    <tr style=\"text-align: right;\">\n",
       "      <th></th>\n",
       "      <th>y_t</th>\n",
       "      <th>grad_t</th>\n",
       "    </tr>\n",
       "  </thead>\n",
       "  <tbody>\n",
       "    <tr>\n",
       "      <th>0</th>\n",
       "      <td>90.500000</td>\n",
       "      <td>0.000298</td>\n",
       "    </tr>\n",
       "    <tr>\n",
       "      <th>1</th>\n",
       "      <td>90.275910</td>\n",
       "      <td>0.000298</td>\n",
       "    </tr>\n",
       "    <tr>\n",
       "      <th>2</th>\n",
       "      <td>90.051821</td>\n",
       "      <td>0.000297</td>\n",
       "    </tr>\n",
       "    <tr>\n",
       "      <th>3</th>\n",
       "      <td>89.827731</td>\n",
       "      <td>0.000297</td>\n",
       "    </tr>\n",
       "    <tr>\n",
       "      <th>4</th>\n",
       "      <td>89.603641</td>\n",
       "      <td>0.000297</td>\n",
       "    </tr>\n",
       "    <tr>\n",
       "      <th>...</th>\n",
       "      <td>...</td>\n",
       "      <td>...</td>\n",
       "    </tr>\n",
       "    <tr>\n",
       "      <th>9995</th>\n",
       "      <td>NaN</td>\n",
       "      <td>0.000018</td>\n",
       "    </tr>\n",
       "    <tr>\n",
       "      <th>9996</th>\n",
       "      <td>NaN</td>\n",
       "      <td>0.000018</td>\n",
       "    </tr>\n",
       "    <tr>\n",
       "      <th>9997</th>\n",
       "      <td>NaN</td>\n",
       "      <td>0.000018</td>\n",
       "    </tr>\n",
       "    <tr>\n",
       "      <th>9998</th>\n",
       "      <td>NaN</td>\n",
       "      <td>0.000018</td>\n",
       "    </tr>\n",
       "    <tr>\n",
       "      <th>9999</th>\n",
       "      <td>NaN</td>\n",
       "      <td>0.000018</td>\n",
       "    </tr>\n",
       "  </tbody>\n",
       "</table>\n",
       "<p>10000 rows × 2 columns</p>\n",
       "</div>"
      ],
      "text/plain": [
       "            y_t    grad_t\n",
       "0     90.500000  0.000298\n",
       "1     90.275910  0.000298\n",
       "2     90.051821  0.000297\n",
       "3     89.827731  0.000297\n",
       "4     89.603641  0.000297\n",
       "...         ...       ...\n",
       "9995        NaN  0.000018\n",
       "9996        NaN  0.000018\n",
       "9997        NaN  0.000018\n",
       "9998        NaN  0.000018\n",
       "9999        NaN  0.000018\n",
       "\n",
       "[10000 rows x 2 columns]"
      ]
     },
     "execution_count": 9,
     "metadata": {},
     "output_type": "execute_result"
    }
   ],
   "source": [
    "df"
   ]
  },
  {
   "cell_type": "markdown",
   "metadata": {
    "id": "-5esyHu5aFvg"
   },
   "source": [
    "## Plot of the External Forcing from Chaotic Differential Equation"
   ]
  },
  {
   "cell_type": "code",
   "execution_count": 10,
   "metadata": {
    "colab": {
     "base_uri": "https://localhost:8080/",
     "height": 447
    },
    "id": "hGnE43tOh-4p",
    "outputId": "fc396503-b624-4fa5-dfbe-f460207405c6"
   },
   "outputs": [
    {
     "data": {
      "text/plain": [
       "<Axes: >"
      ]
     },
     "execution_count": 10,
     "metadata": {},
     "output_type": "execute_result"
    },
    {
     "data": {
      "image/png": "[encoded data removed]",
      "text/plain": [
       "<Figure size 432x288 with 1 Axes>"
      ]
     },
     "metadata": {
      "needs_background": "light"
     },
     "output_type": "display_data"
    }
   ],
   "source": [
    "df.iloc[:, 0].plot()"
   ]
  },
  {
   "cell_type": "code",
   "execution_count": 11,
   "metadata": {
    "colab": {
     "base_uri": "https://localhost:8080/",
     "height": 447
    },
    "id": "ym4xWUUxaFvg",
    "outputId": "ae6a3495-8ce9-437e-ba81-3ed31deedeae"
   },
   "outputs": [
    {
     "data": {
      "text/plain": [
       "<Axes: >"
      ]
     },
     "execution_count": 11,
     "metadata": {},
     "output_type": "execute_result"
    },
    {
     "data": {
      "image/png": "[encoded data removed]",
      "text/plain": [
       "<Figure size 432x288 with 1 Axes>"
      ]
     },
     "metadata": {
      "needs_background": "light"
     },
     "output_type": "display_data"
    }
   ],
   "source": [
    "import numpy as np\n",
    "c0 = 88.1552  # Value for C0\n",
    "K0 = -0.0026  # Value for K0\n",
    "K1 = -0.0004  # Value for K1\n",
    "a = 0.0000    # Value for a\n",
    "b = 0.0102    # Value for b\n",
    "c = 2.8734    # Value for c\n",
    "\n",
    "L = np.minimum(c0, (df.iloc[:, 1] - (df.iloc[:, 0] * (K0 - K1 * (9 * a * np.log(df.iloc[:, 0] / c0) / (K0 - K1 * c)**2 + 4 * b * np.log(df.iloc[:, 0] / c0) / (K0 - K1 * c) + c)))))\n",
    "L.plot()"
   ]
  },
  {
   "cell_type": "markdown",
   "metadata": {
    "id": "9VyEywnwaFvh"
   },
   "source": [
    "## Preprocessing the data into supervised learning"
   ]
  },
  {
   "cell_type": "code",
   "execution_count": 12,
   "metadata": {
    "id": "6V9dXqzdaFvh"
   },
   "outputs": [],
   "source": [
    "# split a sequence into samples\n",
    "def Supervised(data, n_in=1, n_out=1, dropnan=True):\n",
    "    n_vars = 1 if type(data) is list else data.shape[1]\n",
    "    df = pd.DataFrame(data)\n",
    "    cols, names = list(), list()\n",
    "    # input sequence (t-n_in, ... t-1)\n",
    "    for i in range(n_in, 0, -1):\n",
    "        cols.append(df.shift(i))\n",
    "        names += [('var%d(t-%d)' % (j+1, i)) for j in range(n_vars)]\n",
    "    # forecast sequence (t, t+1, ... t+n_out)\n",
    "    for i in range(0, n_out):\n",
    "      cols.append(df.shift(-i))\n",
    "      if i == 0:\n",
    "        names += [('var%d(t)' % (j+1)) for j in range(n_vars)]\n",
    "      else:\n",
    "        names += [('var%d(t+%d)' % (j+1, i)) for j in range(n_vars)]\n",
    "    # put it all together\n",
    "    agg = pd.concat(cols, axis=1)\n",
    "    agg.columns = names\n",
    "    # drop rows with NaN values\n",
    "    if dropnan:\n",
    "       agg.dropna(inplace=True)\n",
    "    return agg"
   ]
  },
  {
   "cell_type": "code",
   "execution_count": 13,
   "metadata": {
    "colab": {
     "base_uri": "https://localhost:8080/"
    },
    "id": "CrzSrT1HnyfH",
    "outputId": "7e75f928-3e47-499d-eac1-51908015ef78"
   },
   "outputs": [
    {
     "name": "stdout",
     "output_type": "stream",
     "text": [
      "     var1(t-350)  var1(t-349)  var1(t-348)  var1(t-347)  var1(t-346)  \\\n",
      "350    90.500000    90.275910    90.051821    89.827731    89.603641   \n",
      "351    90.275910    90.051821    89.827731    89.603641    89.379552   \n",
      "352    90.051821    89.827731    89.603641    89.379552    89.155462   \n",
      "353    89.827731    89.603641    89.379552    89.155462    88.931373   \n",
      "354    89.603641    89.379552    89.155462    88.931373    88.707283   \n",
      "\n",
      "     var1(t-345)  var1(t-344)  var1(t-343)  var1(t-342)  var1(t-341)  ...  \\\n",
      "350    89.379552    89.155462    88.931373    88.707283    88.494958  ...   \n",
      "351    89.155462    88.931373    88.707283    88.494958    88.427731  ...   \n",
      "352    88.931373    88.707283    88.494958    88.427731    88.360504  ...   \n",
      "353    88.707283    88.494958    88.427731    88.360504    88.293277  ...   \n",
      "354    88.494958    88.427731    88.360504    88.293277    88.226050  ...   \n",
      "\n",
      "     var1(t+95)  var2(t+95)  var1(t+96)  var2(t+96)  var1(t+97)  var2(t+97)  \\\n",
      "350   79.071008    0.000263   79.054202    0.000263   79.037395    0.000263   \n",
      "351   79.054202    0.000263   79.037395    0.000263   79.020588    0.000262   \n",
      "352   79.037395    0.000263   79.020588    0.000262   79.003782    0.000262   \n",
      "353   79.020588    0.000262   79.003782    0.000262   78.986975    0.000262   \n",
      "354   79.003782    0.000262   78.986975    0.000262   78.970168    0.000262   \n",
      "\n",
      "     var1(t+98)  var2(t+98)  var1(t+99)  var2(t+99)  \n",
      "350   79.020588    0.000262   79.003782    0.000262  \n",
      "351   79.003782    0.000262   78.986975    0.000262  \n",
      "352   78.986975    0.000262   78.970168    0.000262  \n",
      "353   78.970168    0.000262   78.953361    0.000262  \n",
      "354   78.953361    0.000262   78.936555    0.000262  \n",
      "\n",
      "[5 rows x 551 columns]\n",
      "Index(['var1(t-350)', 'var1(t-349)', 'var1(t-348)', 'var1(t-347)',\n",
      "       'var1(t-346)', 'var1(t-345)', 'var1(t-344)', 'var1(t-343)',\n",
      "       'var1(t-342)', 'var1(t-341)',\n",
      "       ...\n",
      "       'var1(t+95)', 'var2(t+95)', 'var1(t+96)', 'var2(t+96)', 'var1(t+97)',\n",
      "       'var2(t+97)', 'var1(t+98)', 'var2(t+98)', 'var1(t+99)', 'var2(t+99)'],\n",
      "      dtype='object', length=551)\n"
     ]
    }
   ],
   "source": [
    "data = Supervised(df.values, n_in = 350, n_out = 100)\n",
    "\n",
    "\n",
    "cols_to_drop = []\n",
    "for i in range(2, 351):\n",
    "    cols_to_drop.extend([f'var2(t-{i})'])\n",
    "\n",
    "data.drop(cols_to_drop, axis=1, inplace=True)\n",
    "\n",
    "print(data.head())\n",
    "print(data.columns)"
   ]
  },
  {
   "cell_type": "code",
   "execution_count": 14,
   "metadata": {
    "id": "AfPf60oy6Pe4"
   },
   "outputs": [],
   "source": [
    "train = np.array(data[0:len(data)-1])\n",
    "forecast = np.array(data.tail(1))"
   ]
  },
  {
   "cell_type": "code",
   "execution_count": 15,
   "metadata": {
    "id": "WSAafzI37KiT"
   },
   "outputs": [],
   "source": [
    "trainy = train[:,-300:]\n",
    "trainX = train[:,:-300]"
   ]
  },
  {
   "cell_type": "code",
   "execution_count": 16,
   "metadata": {
    "id": "2SrOqVJA7f50"
   },
   "outputs": [],
   "source": [
    "forecasty = forecast[:,-300:]\n",
    "forecastX = forecast[:,:-300]"
   ]
  },
  {
   "cell_type": "code",
   "execution_count": 17,
   "metadata": {
    "colab": {
     "base_uri": "https://localhost:8080/"
    },
    "id": "Qno_k8Nw7saY",
    "outputId": "c4a88db5-d8c6-489f-cdb2-06b24e293cff"
   },
   "outputs": [
    {
     "name": "stdout",
     "output_type": "stream",
     "text": [
      "(1300, 1, 251) (1300, 300) (1, 1, 251)\n"
     ]
    }
   ],
   "source": [
    "trainX = trainX.reshape((trainX.shape[0], 1, trainX.shape[1]))\n",
    "forecastX = forecastX.reshape((forecastX.shape[0], 1, forecastX.shape[1]))\n",
    "print(trainX.shape, trainy.shape, forecastX.shape)"
   ]
  },
  {
   "cell_type": "code",
   "execution_count": 18,
   "metadata": {
    "colab": {
     "base_uri": "https://localhost:8080/"
    },
    "id": "b1Jp2DvNuNFx",
    "outputId": "d0e5b3c4-64f1-438c-eade-8dfeaac8e285"
   },
   "outputs": [
    {
     "name": "stdout",
     "output_type": "stream",
     "text": [
      "Epoch 1/500\n",
      "17/17 [==============================] - 3s 31ms/step - loss: 5599.8677 - val_loss: 4651.8198\n",
      "Epoch 2/500\n",
      "17/17 [==============================] - 0s 4ms/step - loss: 5483.4668 - val_loss: 4568.7700\n",
      "Epoch 3/500\n",
      "17/17 [==============================] - 0s 4ms/step - loss: 5410.1787 - val_loss: 4515.4111\n",
      "Epoch 4/500\n",
      "17/17 [==============================] - 0s 4ms/step - loss: 5351.3799 - val_loss: 4462.3486\n",
      "Epoch 5/500\n",
      "17/17 [==============================] - 0s 4ms/step - loss: 5293.8862 - val_loss: 4410.1665\n",
      "Epoch 6/500\n",
      "17/17 [==============================] - 0s 7ms/step - loss: 5237.4155 - val_loss: 4358.9141\n",
      "Epoch 7/500\n",
      "17/17 [==============================] - 0s 6ms/step - loss: 5181.8496 - val_loss: 4308.4229\n",
      "Epoch 8/500\n",
      "17/17 [==============================] - 0s 4ms/step - loss: 5127.0278 - val_loss: 4258.5781\n",
      "Epoch 9/500\n",
      "17/17 [==============================] - 0s 4ms/step - loss: 5072.8462 - val_loss: 4209.3062\n",
      "Epoch 10/500\n",
      "17/17 [==============================] - 0s 3ms/step - loss: 5019.2417 - val_loss: 4160.5625\n",
      "Epoch 11/500\n",
      "17/17 [==============================] - 0s 4ms/step - loss: 4966.1714 - val_loss: 4112.3145\n",
      "Epoch 12/500\n",
      "17/17 [==============================] - 0s 6ms/step - loss: 4913.6055 - val_loss: 4064.5398\n",
      "Epoch 13/500\n",
      "17/17 [==============================] - 0s 5ms/step - loss: 4861.5239 - val_loss: 4017.2222\n",
      "Epoch 14/500\n",
      "17/17 [==============================] - 0s 4ms/step - loss: 4809.9092 - val_loss: 3970.3481\n",
      "Epoch 15/500\n",
      "17/17 [==============================] - 0s 6ms/step - loss: 4758.7480 - val_loss: 3923.9067\n",
      "Epoch 16/500\n",
      "17/17 [==============================] - 0s 5ms/step - loss: 4708.0312 - val_loss: 3877.8894\n",
      "Epoch 17/500\n",
      "17/17 [==============================] - 0s 3ms/step - loss: 4657.7500 - val_loss: 3832.2878\n",
      "Epoch 18/500\n",
      "17/17 [==============================] - 0s 8ms/step - loss: 4607.8945 - val_loss: 3787.0964\n",
      "Epoch 19/500\n",
      "17/17 [==============================] - 0s 4ms/step - loss: 4558.4604 - val_loss: 3742.3083\n",
      "Epoch 20/500\n",
      "17/17 [==============================] - 0s 4ms/step - loss: 4509.4414 - val_loss: 3697.9192\n",
      "Epoch 21/500\n",
      "17/17 [==============================] - 0s 4ms/step - loss: 4460.8311 - val_loss: 3653.9241\n",
      "Epoch 22/500\n",
      "17/17 [==============================] - 0s 5ms/step - loss: 4412.6265 - val_loss: 3610.3176\n",
      "Epoch 23/500\n",
      "17/17 [==============================] - 0s 4ms/step - loss: 4364.8218 - val_loss: 3567.0964\n",
      "Epoch 24/500\n",
      "17/17 [==============================] - 0s 4ms/step - loss: 4317.4126 - val_loss: 3524.2578\n",
      "Epoch 25/500\n",
      "17/17 [==============================] - 0s 5ms/step - loss: 4270.3960 - val_loss: 3481.7971\n",
      "Epoch 26/500\n",
      "17/17 [==============================] - 0s 6ms/step - loss: 4223.7676 - val_loss: 3439.7107\n",
      "Epoch 27/500\n",
      "17/17 [==============================] - 0s 5ms/step - loss: 4177.5254 - val_loss: 3397.9949\n",
      "Epoch 28/500\n",
      "17/17 [==============================] - 0s 5ms/step - loss: 4131.6641 - val_loss: 3356.6484\n",
      "Epoch 29/500\n",
      "17/17 [==============================] - 0s 6ms/step - loss: 4086.1812 - val_loss: 3315.6665\n",
      "Epoch 30/500\n",
      "17/17 [==============================] - 0s 5ms/step - loss: 4031.9402 - val_loss: 3259.3472\n",
      "Epoch 31/500\n",
      "17/17 [==============================] - 0s 5ms/step - loss: 3976.1736 - val_loss: 3213.4539\n",
      "Epoch 32/500\n",
      "17/17 [==============================] - 0s 5ms/step - loss: 3926.0662 - val_loss: 3168.9592\n",
      "Epoch 33/500\n",
      "17/17 [==============================] - 0s 5ms/step - loss: 3877.3813 - val_loss: 3125.6140\n",
      "Epoch 34/500\n",
      "17/17 [==============================] - 0s 4ms/step - loss: 3829.8008 - val_loss: 3083.1594\n",
      "Epoch 35/500\n",
      "17/17 [==============================] - 0s 7ms/step - loss: 3783.0935 - val_loss: 3041.4404\n",
      "Epoch 36/500\n",
      "17/17 [==============================] - 0s 4ms/step - loss: 3737.1189 - val_loss: 3000.3577\n",
      "Epoch 37/500\n",
      "17/17 [==============================] - 0s 4ms/step - loss: 3691.7891 - val_loss: 2959.8511\n",
      "Epoch 38/500\n",
      "17/17 [==============================] - 0s 4ms/step - loss: 3647.0447 - val_loss: 2919.8748\n",
      "Epoch 39/500\n",
      "17/17 [==============================] - 0s 4ms/step - loss: 3602.8445 - val_loss: 2880.3989\n",
      "Epoch 40/500\n",
      "17/17 [==============================] - 0s 4ms/step - loss: 3559.1567 - val_loss: 2841.3982\n",
      "Epoch 41/500\n",
      "17/17 [==============================] - 0s 5ms/step - loss: 3515.9578 - val_loss: 2802.8511\n",
      "Epoch 42/500\n",
      "17/17 [==============================] - 0s 4ms/step - loss: 3473.2271 - val_loss: 2764.7439\n",
      "Epoch 43/500\n",
      "17/17 [==============================] - 0s 4ms/step - loss: 3430.9500 - val_loss: 2727.0623\n",
      "Epoch 44/500\n",
      "17/17 [==============================] - 0s 4ms/step - loss: 3389.1123 - val_loss: 2689.7969\n",
      "Epoch 45/500\n",
      "17/17 [==============================] - 0s 4ms/step - loss: 3347.7036 - val_loss: 2652.9353\n",
      "Epoch 46/500\n",
      "17/17 [==============================] - 0s 4ms/step - loss: 3306.7119 - val_loss: 2616.4707\n",
      "Epoch 47/500\n",
      "17/17 [==============================] - 0s 3ms/step - loss: 3266.1313 - val_loss: 2580.3953\n",
      "Epoch 48/500\n",
      "17/17 [==============================] - 0s 4ms/step - loss: 3225.9521 - val_loss: 2544.7019\n",
      "Epoch 49/500\n",
      "17/17 [==============================] - 0s 6ms/step - loss: 3186.1675 - val_loss: 2509.3843\n",
      "Epoch 50/500\n",
      "17/17 [==============================] - 0s 4ms/step - loss: 3146.7727 - val_loss: 2474.4380\n",
      "Epoch 51/500\n",
      "17/17 [==============================] - 0s 4ms/step - loss: 3107.7607 - val_loss: 2439.8555\n",
      "Epoch 52/500\n",
      "17/17 [==============================] - 0s 4ms/step - loss: 3069.1260 - val_loss: 2405.6350\n",
      "Epoch 53/500\n",
      "17/17 [==============================] - 0s 3ms/step - loss: 3030.8647 - val_loss: 2371.7703\n",
      "Epoch 54/500\n",
      "17/17 [==============================] - 0s 4ms/step - loss: 2992.9712 - val_loss: 2338.2571\n",
      "Epoch 55/500\n",
      "17/17 [==============================] - 0s 4ms/step - loss: 2955.4409 - val_loss: 2305.0906\n",
      "Epoch 56/500\n",
      "17/17 [==============================] - 0s 4ms/step - loss: 2918.2715 - val_loss: 2272.2693\n",
      "Epoch 57/500\n",
      "17/17 [==============================] - 0s 4ms/step - loss: 2881.4575 - val_loss: 2239.7881\n",
      "Epoch 58/500\n",
      "17/17 [==============================] - 0s 4ms/step - loss: 2844.9954 - val_loss: 2207.6436\n",
      "Epoch 59/500\n",
      "17/17 [==============================] - 0s 4ms/step - loss: 2808.8823 - val_loss: 2175.8335\n",
      "Epoch 60/500\n",
      "17/17 [==============================] - 0s 4ms/step - loss: 2773.1145 - val_loss: 2144.3525\n",
      "Epoch 61/500\n",
      "17/17 [==============================] - 0s 4ms/step - loss: 2737.6887 - val_loss: 2113.2002\n",
      "Epoch 62/500\n",
      "17/17 [==============================] - 0s 4ms/step - loss: 2702.6016 - val_loss: 2082.3726\n",
      "Epoch 63/500\n",
      "17/17 [==============================] - 0s 3ms/step - loss: 2667.8513 - val_loss: 2051.8657\n",
      "Epoch 64/500\n",
      "17/17 [==============================] - 0s 4ms/step - loss: 2633.4331 - val_loss: 2021.6776\n",
      "Epoch 65/500\n",
      "17/17 [==============================] - 0s 4ms/step - loss: 2599.3457 - val_loss: 1991.8068\n",
      "Epoch 66/500\n",
      "17/17 [==============================] - 0s 4ms/step - loss: 2565.5852 - val_loss: 1962.2482\n",
      "Epoch 67/500\n",
      "17/17 [==============================] - 0s 4ms/step - loss: 2532.1497 - val_loss: 1933.0012\n",
      "Epoch 68/500\n",
      "17/17 [==============================] - 0s 4ms/step - loss: 2499.0371 - val_loss: 1904.0629\n",
      "Epoch 69/500\n",
      "17/17 [==============================] - 0s 3ms/step - loss: 2466.2432 - val_loss: 1875.4301\n",
      "Epoch 70/500\n",
      "17/17 [==============================] - 0s 4ms/step - loss: 2433.7668 - val_loss: 1847.1007\n",
      "Epoch 71/500\n",
      "17/17 [==============================] - 0s 4ms/step - loss: 2401.6047 - val_loss: 1819.0730\n",
      "Epoch 72/500\n",
      "17/17 [==============================] - 0s 4ms/step - loss: 2369.7556 - val_loss: 1791.3439\n",
      "Epoch 73/500\n",
      "17/17 [==============================] - 0s 4ms/step - loss: 2338.2161 - val_loss: 1763.9117\n",
      "Epoch 74/500\n",
      "17/17 [==============================] - 0s 3ms/step - loss: 2306.9844 - val_loss: 1736.7732\n",
      "Epoch 75/500\n",
      "17/17 [==============================] - 0s 4ms/step - loss: 2276.0574 - val_loss: 1709.9277\n",
      "Epoch 76/500\n",
      "17/17 [==============================] - 0s 4ms/step - loss: 2245.4341 - val_loss: 1683.3717\n",
      "Epoch 77/500\n",
      "17/17 [==============================] - 0s 4ms/step - loss: 2215.1118 - val_loss: 1657.1042\n",
      "Epoch 78/500\n",
      "17/17 [==============================] - 0s 4ms/step - loss: 2185.0879 - val_loss: 1631.1221\n",
      "Epoch 79/500\n",
      "17/17 [==============================] - 0s 4ms/step - loss: 2155.3604 - val_loss: 1605.4229\n",
      "Epoch 80/500\n",
      "17/17 [==============================] - 0s 4ms/step - loss: 2125.9282 - val_loss: 1580.0060\n",
      "Epoch 81/500\n",
      "17/17 [==============================] - 0s 8ms/step - loss: 2096.7881 - val_loss: 1554.8685\n",
      "Epoch 82/500\n",
      "17/17 [==============================] - 0s 4ms/step - loss: 2067.9382 - val_loss: 1530.0094\n",
      "Epoch 83/500\n",
      "17/17 [==============================] - 0s 4ms/step - loss: 2039.3774 - val_loss: 1505.4246\n",
      "Epoch 84/500\n",
      "17/17 [==============================] - 0s 4ms/step - loss: 2011.1024 - val_loss: 1481.1140\n",
      "Epoch 85/500\n",
      "17/17 [==============================] - 0s 4ms/step - loss: 1983.1123 - val_loss: 1457.0752\n",
      "Epoch 86/500\n",
      "17/17 [==============================] - 0s 4ms/step - loss: 1955.4047 - val_loss: 1433.3066\n",
      "Epoch 87/500\n",
      "17/17 [==============================] - 0s 4ms/step - loss: 1927.9779 - val_loss: 1409.8059\n",
      "Epoch 88/500\n",
      "17/17 [==============================] - 0s 4ms/step - loss: 1900.8298 - val_loss: 1386.5707\n",
      "Epoch 89/500\n",
      "17/17 [==============================] - 0s 5ms/step - loss: 1873.9584 - val_loss: 1363.6000\n",
      "Epoch 90/500\n",
      "17/17 [==============================] - 0s 4ms/step - loss: 1847.3622 - val_loss: 1340.8917\n",
      "Epoch 91/500\n",
      "17/17 [==============================] - 0s 4ms/step - loss: 1821.0383 - val_loss: 1318.4438\n",
      "Epoch 92/500\n",
      "17/17 [==============================] - 0s 4ms/step - loss: 1794.9862 - val_loss: 1296.2537\n",
      "Epoch 93/500\n",
      "17/17 [==============================] - 0s 4ms/step - loss: 1769.2029 - val_loss: 1274.3212\n",
      "Epoch 94/500\n",
      "17/17 [==============================] - 0s 5ms/step - loss: 1743.6879 - val_loss: 1252.6433\n",
      "Epoch 95/500\n",
      "17/17 [==============================] - 0s 4ms/step - loss: 1718.4386 - val_loss: 1231.2191\n",
      "Epoch 96/500\n",
      "17/17 [==============================] - 0s 4ms/step - loss: 1693.4532 - val_loss: 1210.0458\n",
      "Epoch 97/500\n",
      "17/17 [==============================] - 0s 4ms/step - loss: 1668.7300 - val_loss: 1189.1226\n",
      "Epoch 98/500\n",
      "17/17 [==============================] - 0s 4ms/step - loss: 1644.2675 - val_loss: 1168.4481\n",
      "Epoch 99/500\n",
      "17/17 [==============================] - 0s 4ms/step - loss: 1620.0637 - val_loss: 1148.0189\n",
      "Epoch 100/500\n",
      "17/17 [==============================] - 0s 4ms/step - loss: 1596.1172 - val_loss: 1127.8345\n",
      "Epoch 101/500\n",
      "17/17 [==============================] - 0s 4ms/step - loss: 1572.4258 - val_loss: 1107.8928\n",
      "Epoch 102/500\n",
      "17/17 [==============================] - 0s 4ms/step - loss: 1548.9879 - val_loss: 1088.1929\n",
      "Epoch 103/500\n",
      "17/17 [==============================] - 0s 4ms/step - loss: 1525.8026 - val_loss: 1068.7317\n",
      "Epoch 104/500\n",
      "17/17 [==============================] - 0s 4ms/step - loss: 1502.8669 - val_loss: 1049.5092\n",
      "Epoch 105/500\n",
      "17/17 [==============================] - 0s 3ms/step - loss: 1480.1805 - val_loss: 1030.5221\n",
      "Epoch 106/500\n",
      "17/17 [==============================] - 0s 4ms/step - loss: 1457.7408 - val_loss: 1011.7695\n",
      "Epoch 107/500\n",
      "17/17 [==============================] - 0s 4ms/step - loss: 1435.5465 - val_loss: 993.2500\n",
      "Epoch 108/500\n",
      "17/17 [==============================] - 0s 4ms/step - loss: 1413.5958 - val_loss: 974.9615\n",
      "Epoch 109/500\n",
      "17/17 [==============================] - 0s 4ms/step - loss: 1391.8872 - val_loss: 956.9021\n",
      "Epoch 110/500\n",
      "17/17 [==============================] - 0s 4ms/step - loss: 1370.4188 - val_loss: 939.0716\n",
      "Epoch 111/500\n",
      "17/17 [==============================] - 0s 6ms/step - loss: 1349.1893 - val_loss: 921.4667\n",
      "Epoch 112/500\n",
      "17/17 [==============================] - 0s 5ms/step - loss: 1328.1974 - val_loss: 904.0860\n",
      "Epoch 113/500\n",
      "17/17 [==============================] - 0s 4ms/step - loss: 1307.4407 - val_loss: 886.9297\n",
      "Epoch 114/500\n",
      "17/17 [==============================] - 0s 4ms/step - loss: 1286.9186 - val_loss: 869.9938\n",
      "Epoch 115/500\n",
      "17/17 [==============================] - 0s 4ms/step - loss: 1266.6285 - val_loss: 853.2784\n",
      "Epoch 116/500\n",
      "17/17 [==============================] - 0s 5ms/step - loss: 1246.5693 - val_loss: 836.7812\n",
      "Epoch 117/500\n",
      "17/17 [==============================] - 0s 4ms/step - loss: 1226.7393 - val_loss: 820.5006\n",
      "Epoch 118/500\n",
      "17/17 [==============================] - 0s 5ms/step - loss: 1207.1375 - val_loss: 804.4354\n",
      "Epoch 119/500\n",
      "17/17 [==============================] - 0s 4ms/step - loss: 1187.7616 - val_loss: 788.5829\n",
      "Epoch 120/500\n",
      "17/17 [==============================] - 0s 4ms/step - loss: 1168.6102 - val_loss: 772.9431\n",
      "Epoch 121/500\n",
      "17/17 [==============================] - 0s 4ms/step - loss: 1149.6823 - val_loss: 757.5138\n",
      "Epoch 122/500\n",
      "17/17 [==============================] - 0s 4ms/step - loss: 1130.9760 - val_loss: 742.2932\n",
      "Epoch 123/500\n",
      "17/17 [==============================] - 0s 4ms/step - loss: 1112.4894 - val_loss: 727.2803\n",
      "Epoch 124/500\n",
      "17/17 [==============================] - 0s 5ms/step - loss: 1094.2216 - val_loss: 712.4732\n",
      "Epoch 125/500\n",
      "17/17 [==============================] - 0s 4ms/step - loss: 1076.1708 - val_loss: 697.8704\n",
      "Epoch 126/500\n",
      "17/17 [==============================] - 0s 5ms/step - loss: 1058.3356 - val_loss: 683.4703\n",
      "Epoch 127/500\n",
      "17/17 [==============================] - 0s 4ms/step - loss: 1040.7145 - val_loss: 669.2718\n",
      "Epoch 128/500\n",
      "17/17 [==============================] - 0s 4ms/step - loss: 1023.3059 - val_loss: 655.2728\n",
      "Epoch 129/500\n",
      "17/17 [==============================] - 0s 4ms/step - loss: 1006.1085 - val_loss: 641.4725\n",
      "Epoch 130/500\n",
      "17/17 [==============================] - 0s 4ms/step - loss: 989.1205 - val_loss: 627.8683\n",
      "Epoch 131/500\n",
      "17/17 [==============================] - 0s 4ms/step - loss: 972.3406 - val_loss: 614.4599\n",
      "Epoch 132/500\n",
      "17/17 [==============================] - 0s 4ms/step - loss: 955.7676 - val_loss: 601.2449\n",
      "Epoch 133/500\n",
      "17/17 [==============================] - 0s 4ms/step - loss: 939.3996 - val_loss: 588.2224\n",
      "Epoch 134/500\n",
      "17/17 [==============================] - 0s 4ms/step - loss: 923.2349 - val_loss: 575.3909\n",
      "Epoch 135/500\n",
      "17/17 [==============================] - 0s 4ms/step - loss: 907.2729 - val_loss: 562.7481\n",
      "Epoch 136/500\n",
      "17/17 [==============================] - 0s 4ms/step - loss: 891.5115 - val_loss: 550.2933\n",
      "Epoch 137/500\n",
      "17/17 [==============================] - 0s 5ms/step - loss: 875.9492 - val_loss: 538.0250\n",
      "Epoch 138/500\n",
      "17/17 [==============================] - 0s 4ms/step - loss: 860.5850 - val_loss: 525.9411\n",
      "Epoch 139/500\n",
      "17/17 [==============================] - 0s 4ms/step - loss: 845.4174 - val_loss: 514.0410\n",
      "Epoch 140/500\n",
      "17/17 [==============================] - 0s 7ms/step - loss: 830.4443 - val_loss: 502.3226\n",
      "Epoch 141/500\n",
      "17/17 [==============================] - 0s 4ms/step - loss: 815.6650 - val_loss: 490.7846\n",
      "Epoch 142/500\n",
      "17/17 [==============================] - 0s 4ms/step - loss: 801.0779 - val_loss: 479.4257\n",
      "Epoch 143/500\n",
      "17/17 [==============================] - 0s 4ms/step - loss: 786.6815 - val_loss: 468.2441\n",
      "Epoch 144/500\n",
      "17/17 [==============================] - 0s 4ms/step - loss: 772.4741 - val_loss: 457.2387\n",
      "Epoch 145/500\n",
      "17/17 [==============================] - 0s 4ms/step - loss: 758.4547 - val_loss: 446.4077\n",
      "Epoch 146/500\n",
      "17/17 [==============================] - 0s 4ms/step - loss: 744.6215 - val_loss: 435.7502\n",
      "Epoch 147/500\n",
      "17/17 [==============================] - 0s 4ms/step - loss: 730.9738 - val_loss: 425.2644\n",
      "Epoch 148/500\n",
      "17/17 [==============================] - 0s 4ms/step - loss: 717.5093 - val_loss: 414.9484\n",
      "Epoch 149/500\n",
      "17/17 [==============================] - 0s 4ms/step - loss: 704.2272 - val_loss: 404.8015\n",
      "Epoch 150/500\n",
      "17/17 [==============================] - 0s 5ms/step - loss: 691.1254 - val_loss: 394.8216\n",
      "Epoch 151/500\n",
      "17/17 [==============================] - 0s 4ms/step - loss: 678.2031 - val_loss: 385.0080\n",
      "Epoch 152/500\n",
      "17/17 [==============================] - 0s 4ms/step - loss: 665.4590 - val_loss: 375.3586\n",
      "Epoch 153/500\n",
      "17/17 [==============================] - 0s 4ms/step - loss: 652.8915 - val_loss: 365.8725\n",
      "Epoch 154/500\n",
      "17/17 [==============================] - 0s 4ms/step - loss: 640.4987 - val_loss: 356.5471\n",
      "Epoch 155/500\n",
      "17/17 [==============================] - 0s 5ms/step - loss: 628.2793 - val_loss: 347.3825\n",
      "Epoch 156/500\n",
      "17/17 [==============================] - 0s 4ms/step - loss: 616.2324 - val_loss: 338.3766\n",
      "Epoch 157/500\n",
      "17/17 [==============================] - 0s 4ms/step - loss: 604.3569 - val_loss: 329.5280\n",
      "Epoch 158/500\n",
      "17/17 [==============================] - 0s 4ms/step - loss: 592.6511 - val_loss: 320.8351\n",
      "Epoch 159/500\n",
      "17/17 [==============================] - 0s 4ms/step - loss: 581.1132 - val_loss: 312.2965\n",
      "Epoch 160/500\n",
      "17/17 [==============================] - 0s 4ms/step - loss: 569.7421 - val_loss: 303.9111\n",
      "Epoch 161/500\n",
      "17/17 [==============================] - 0s 4ms/step - loss: 558.5364 - val_loss: 295.6772\n",
      "Epoch 162/500\n",
      "17/17 [==============================] - 0s 4ms/step - loss: 547.4948 - val_loss: 287.5933\n",
      "Epoch 163/500\n",
      "17/17 [==============================] - 0s 4ms/step - loss: 536.6159 - val_loss: 279.6585\n",
      "Epoch 164/500\n",
      "17/17 [==============================] - 0s 4ms/step - loss: 525.8983 - val_loss: 271.8709\n",
      "Epoch 165/500\n",
      "17/17 [==============================] - 0s 4ms/step - loss: 515.3406 - val_loss: 264.2293\n",
      "Epoch 166/500\n",
      "17/17 [==============================] - 0s 5ms/step - loss: 504.9414 - val_loss: 256.7316\n",
      "Epoch 167/500\n",
      "17/17 [==============================] - 0s 4ms/step - loss: 494.6989 - val_loss: 249.3774\n",
      "Epoch 168/500\n",
      "17/17 [==============================] - 0s 7ms/step - loss: 484.6127 - val_loss: 242.1646\n",
      "Epoch 169/500\n",
      "17/17 [==============================] - 0s 4ms/step - loss: 474.6810 - val_loss: 235.0922\n",
      "Epoch 170/500\n",
      "17/17 [==============================] - 0s 4ms/step - loss: 464.9022 - val_loss: 228.1584\n",
      "Epoch 171/500\n",
      "17/17 [==============================] - 0s 4ms/step - loss: 455.2749 - val_loss: 221.3622\n",
      "Epoch 172/500\n",
      "17/17 [==============================] - 0s 4ms/step - loss: 445.7981 - val_loss: 214.7018\n",
      "Epoch 173/500\n",
      "17/17 [==============================] - 0s 4ms/step - loss: 436.4702 - val_loss: 208.1759\n",
      "Epoch 174/500\n",
      "17/17 [==============================] - 0s 4ms/step - loss: 427.2901 - val_loss: 201.7835\n",
      "Epoch 175/500\n",
      "17/17 [==============================] - 0s 4ms/step - loss: 418.2562 - val_loss: 195.5227\n",
      "Epoch 176/500\n",
      "17/17 [==============================] - 0s 5ms/step - loss: 409.3672 - val_loss: 189.3926\n",
      "Epoch 177/500\n",
      "17/17 [==============================] - 0s 4ms/step - loss: 400.6217 - val_loss: 183.3907\n",
      "Epoch 178/500\n",
      "17/17 [==============================] - 0s 4ms/step - loss: 392.0182 - val_loss: 177.5167\n",
      "Epoch 179/500\n",
      "17/17 [==============================] - 0s 4ms/step - loss: 383.5556 - val_loss: 171.7691\n",
      "Epoch 180/500\n",
      "17/17 [==============================] - 0s 4ms/step - loss: 375.2327 - val_loss: 166.1461\n",
      "Epoch 181/500\n",
      "17/17 [==============================] - 0s 4ms/step - loss: 367.0479 - val_loss: 160.6465\n",
      "Epoch 182/500\n",
      "17/17 [==============================] - 0s 4ms/step - loss: 358.9999 - val_loss: 155.2686\n",
      "Epoch 183/500\n",
      "17/17 [==============================] - 0s 4ms/step - loss: 351.0873 - val_loss: 150.0116\n",
      "Epoch 184/500\n",
      "17/17 [==============================] - 0s 4ms/step - loss: 343.3089 - val_loss: 144.8736\n",
      "Epoch 185/500\n",
      "17/17 [==============================] - 0s 4ms/step - loss: 335.6633 - val_loss: 139.8537\n",
      "Epoch 186/500\n",
      "17/17 [==============================] - 0s 4ms/step - loss: 328.1491 - val_loss: 134.9496\n",
      "Epoch 187/500\n",
      "17/17 [==============================] - 0s 5ms/step - loss: 320.7648 - val_loss: 130.1609\n",
      "Epoch 188/500\n",
      "17/17 [==============================] - 0s 4ms/step - loss: 313.5092 - val_loss: 125.4856\n",
      "Epoch 189/500\n",
      "17/17 [==============================] - 0s 4ms/step - loss: 306.3814 - val_loss: 120.9228\n",
      "Epoch 190/500\n",
      "17/17 [==============================] - 0s 4ms/step - loss: 299.3795 - val_loss: 116.4706\n",
      "Epoch 191/500\n",
      "17/17 [==============================] - 0s 4ms/step - loss: 292.5022 - val_loss: 112.1278\n",
      "Epoch 192/500\n",
      "17/17 [==============================] - 0s 4ms/step - loss: 285.7484 - val_loss: 107.8932\n",
      "Epoch 193/500\n",
      "17/17 [==============================] - 0s 5ms/step - loss: 279.1169 - val_loss: 103.7654\n",
      "Epoch 194/500\n",
      "17/17 [==============================] - 0s 4ms/step - loss: 272.6063 - val_loss: 99.7428\n",
      "Epoch 195/500\n",
      "17/17 [==============================] - 0s 4ms/step - loss: 266.2148 - val_loss: 95.8240\n",
      "Epoch 196/500\n",
      "17/17 [==============================] - 0s 8ms/step - loss: 259.9413 - val_loss: 92.0078\n",
      "Epoch 197/500\n",
      "17/17 [==============================] - 0s 4ms/step - loss: 253.7847 - val_loss: 88.2927\n",
      "Epoch 198/500\n",
      "17/17 [==============================] - 0s 4ms/step - loss: 247.7437 - val_loss: 84.6776\n",
      "Epoch 199/500\n",
      "17/17 [==============================] - 0s 4ms/step - loss: 241.8169 - val_loss: 81.1612\n",
      "Epoch 200/500\n",
      "17/17 [==============================] - 0s 4ms/step - loss: 236.0031 - val_loss: 77.7414\n",
      "Epoch 201/500\n",
      "17/17 [==============================] - 0s 4ms/step - loss: 230.3006 - val_loss: 74.4176\n",
      "Epoch 202/500\n",
      "17/17 [==============================] - 0s 4ms/step - loss: 224.7085 - val_loss: 71.1881\n",
      "Epoch 203/500\n",
      "17/17 [==============================] - 0s 4ms/step - loss: 219.2251 - val_loss: 68.0516\n",
      "Epoch 204/500\n",
      "17/17 [==============================] - 0s 4ms/step - loss: 213.8497 - val_loss: 65.0065\n",
      "Epoch 205/500\n",
      "17/17 [==============================] - 0s 4ms/step - loss: 208.5802 - val_loss: 62.0519\n",
      "Epoch 206/500\n",
      "17/17 [==============================] - 0s 4ms/step - loss: 203.4158 - val_loss: 59.1862\n",
      "Epoch 207/500\n",
      "17/17 [==============================] - 0s 4ms/step - loss: 198.3552 - val_loss: 56.4081\n",
      "Epoch 208/500\n",
      "17/17 [==============================] - 0s 4ms/step - loss: 193.3969 - val_loss: 53.7163\n",
      "Epoch 209/500\n",
      "17/17 [==============================] - 0s 4ms/step - loss: 188.5399 - val_loss: 51.1092\n",
      "Epoch 210/500\n",
      "17/17 [==============================] - 0s 5ms/step - loss: 183.7827 - val_loss: 48.5859\n",
      "Epoch 211/500\n",
      "17/17 [==============================] - 0s 4ms/step - loss: 179.1241 - val_loss: 46.1446\n",
      "Epoch 212/500\n",
      "17/17 [==============================] - 0s 4ms/step - loss: 174.5627 - val_loss: 43.7844\n",
      "Epoch 213/500\n",
      "17/17 [==============================] - 0s 4ms/step - loss: 170.0974 - val_loss: 41.5038\n",
      "Epoch 214/500\n",
      "17/17 [==============================] - 0s 4ms/step - loss: 165.7267 - val_loss: 39.3010\n",
      "Epoch 215/500\n",
      "17/17 [==============================] - 0s 4ms/step - loss: 161.4493 - val_loss: 37.1755\n",
      "Epoch 216/500\n",
      "17/17 [==============================] - 0s 4ms/step - loss: 157.2642 - val_loss: 35.1253\n",
      "Epoch 217/500\n",
      "17/17 [==============================] - 0s 5ms/step - loss: 153.1700 - val_loss: 33.1497\n",
      "Epoch 218/500\n",
      "17/17 [==============================] - 0s 4ms/step - loss: 149.1654 - val_loss: 31.2469\n",
      "Epoch 219/500\n",
      "17/17 [==============================] - 0s 4ms/step - loss: 145.2492 - val_loss: 29.4158\n",
      "Epoch 220/500\n",
      "17/17 [==============================] - 0s 4ms/step - loss: 141.4203 - val_loss: 27.6554\n",
      "Epoch 221/500\n",
      "17/17 [==============================] - 0s 4ms/step - loss: 137.6774 - val_loss: 25.9638\n",
      "Epoch 222/500\n",
      "17/17 [==============================] - 0s 4ms/step - loss: 134.0190 - val_loss: 24.3402\n",
      "Epoch 223/500\n",
      "17/17 [==============================] - 0s 4ms/step - loss: 130.4439 - val_loss: 22.7829\n",
      "Epoch 224/500\n",
      "17/17 [==============================] - 0s 8ms/step - loss: 126.9508 - val_loss: 21.2909\n",
      "Epoch 225/500\n",
      "17/17 [==============================] - 0s 4ms/step - loss: 123.5388 - val_loss: 19.8630\n",
      "Epoch 226/500\n",
      "17/17 [==============================] - 0s 4ms/step - loss: 120.2066 - val_loss: 18.4976\n",
      "Epoch 227/500\n",
      "17/17 [==============================] - 0s 4ms/step - loss: 116.9527 - val_loss: 17.1938\n",
      "Epoch 228/500\n",
      "17/17 [==============================] - 0s 4ms/step - loss: 113.7762 - val_loss: 15.9502\n",
      "Epoch 229/500\n",
      "17/17 [==============================] - 0s 4ms/step - loss: 110.6758 - val_loss: 14.7655\n",
      "Epoch 230/500\n",
      "17/17 [==============================] - 0s 4ms/step - loss: 107.6501 - val_loss: 13.6386\n",
      "Epoch 231/500\n",
      "17/17 [==============================] - 0s 4ms/step - loss: 104.6980 - val_loss: 12.5681\n",
      "Epoch 232/500\n",
      "17/17 [==============================] - 0s 4ms/step - loss: 101.8184 - val_loss: 11.5529\n",
      "Epoch 233/500\n",
      "17/17 [==============================] - 0s 3ms/step - loss: 99.0102 - val_loss: 10.5918\n",
      "Epoch 234/500\n",
      "17/17 [==============================] - 0s 4ms/step - loss: 96.2721 - val_loss: 9.6834\n",
      "Epoch 235/500\n",
      "17/17 [==============================] - 0s 4ms/step - loss: 93.6029 - val_loss: 8.8266\n",
      "Epoch 236/500\n",
      "17/17 [==============================] - 0s 4ms/step - loss: 91.0012 - val_loss: 8.0203\n",
      "Epoch 237/500\n",
      "17/17 [==============================] - 0s 4ms/step - loss: 88.4663 - val_loss: 7.2632\n",
      "Epoch 238/500\n",
      "17/17 [==============================] - 0s 4ms/step - loss: 85.9966 - val_loss: 6.5541\n",
      "Epoch 239/500\n",
      "17/17 [==============================] - 0s 4ms/step - loss: 83.5912 - val_loss: 5.8920\n",
      "Epoch 240/500\n",
      "17/17 [==============================] - 0s 4ms/step - loss: 81.2491 - val_loss: 5.2755\n",
      "Epoch 241/500\n",
      "17/17 [==============================] - 0s 5ms/step - loss: 78.9688 - val_loss: 4.7036\n",
      "Epoch 242/500\n",
      "17/17 [==============================] - 0s 4ms/step - loss: 76.7494 - val_loss: 4.1752\n",
      "Epoch 243/500\n",
      "17/17 [==============================] - 0s 5ms/step - loss: 74.5897 - val_loss: 3.6889\n",
      "Epoch 244/500\n",
      "17/17 [==============================] - 0s 4ms/step - loss: 72.4887 - val_loss: 3.2439\n",
      "Epoch 245/500\n",
      "17/17 [==============================] - 0s 3ms/step - loss: 70.4451 - val_loss: 2.8389\n",
      "Epoch 246/500\n",
      "17/17 [==============================] - 0s 4ms/step - loss: 68.4581 - val_loss: 2.4728\n",
      "Epoch 247/500\n",
      "17/17 [==============================] - 0s 8ms/step - loss: 66.5263 - val_loss: 2.1445\n",
      "Epoch 248/500\n",
      "17/17 [==============================] - 0s 4ms/step - loss: 64.6489 - val_loss: 1.8530\n",
      "Epoch 249/500\n",
      "17/17 [==============================] - 0s 4ms/step - loss: 62.8246 - val_loss: 1.5972\n",
      "Epoch 250/500\n",
      "17/17 [==============================] - 0s 4ms/step - loss: 61.0525 - val_loss: 1.3759\n",
      "Epoch 251/500\n",
      "17/17 [==============================] - 0s 4ms/step - loss: 59.3314 - val_loss: 1.1882\n",
      "Epoch 252/500\n",
      "17/17 [==============================] - 0s 4ms/step - loss: 57.6602 - val_loss: 1.0330\n",
      "Epoch 253/500\n",
      "17/17 [==============================] - 0s 4ms/step - loss: 56.0381 - val_loss: 0.9092\n",
      "Epoch 254/500\n",
      "17/17 [==============================] - 0s 4ms/step - loss: 54.4639 - val_loss: 0.8159\n",
      "Epoch 255/500\n",
      "17/17 [==============================] - 0s 4ms/step - loss: 52.9366 - val_loss: 0.7520\n",
      "Epoch 256/500\n",
      "17/17 [==============================] - 0s 4ms/step - loss: 51.4553 - val_loss: 0.7165\n",
      "Epoch 257/500\n",
      "17/17 [==============================] - 0s 5ms/step - loss: 50.0188 - val_loss: 0.7085\n",
      "Epoch 258/500\n",
      "17/17 [==============================] - 0s 4ms/step - loss: 48.6262 - val_loss: 0.7270\n",
      "Epoch 259/500\n",
      "17/17 [==============================] - 0s 4ms/step - loss: 47.2766 - val_loss: 0.7710\n",
      "Epoch 260/500\n",
      "17/17 [==============================] - 0s 4ms/step - loss: 45.9690 - val_loss: 0.8396\n",
      "Epoch 261/500\n",
      "17/17 [==============================] - 0s 4ms/step - loss: 44.7025 - val_loss: 0.9318\n",
      "Epoch 262/500\n",
      "17/17 [==============================] - 0s 4ms/step - loss: 43.4761 - val_loss: 1.0467\n",
      "Epoch 263/500\n",
      "17/17 [==============================] - 0s 5ms/step - loss: 42.2889 - val_loss: 1.1834\n",
      "Epoch 264/500\n",
      "17/17 [==============================] - 0s 4ms/step - loss: 41.1398 - val_loss: 1.3411\n",
      "Epoch 265/500\n",
      "17/17 [==============================] - 0s 4ms/step - loss: 40.0281 - val_loss: 1.5187\n",
      "Epoch 266/500\n",
      "17/17 [==============================] - 0s 4ms/step - loss: 38.9528 - val_loss: 1.7156\n",
      "Epoch 267/500\n",
      "17/17 [==============================] - 0s 4ms/step - loss: 37.9130 - val_loss: 1.9307\n",
      "Epoch 268/500\n",
      "17/17 [==============================] - 0s 3ms/step - loss: 36.9079 - val_loss: 2.1633\n",
      "Epoch 269/500\n",
      "17/17 [==============================] - 0s 4ms/step - loss: 35.9365 - val_loss: 2.4126\n",
      "Epoch 270/500\n",
      "17/17 [==============================] - 0s 4ms/step - loss: 34.9981 - val_loss: 2.6776\n",
      "Epoch 271/500\n",
      "17/17 [==============================] - 0s 4ms/step - loss: 34.0917 - val_loss: 2.9578\n",
      "Epoch 272/500\n",
      "17/17 [==============================] - 0s 4ms/step - loss: 33.2166 - val_loss: 3.2521\n",
      "Epoch 273/500\n",
      "17/17 [==============================] - 0s 4ms/step - loss: 32.3719 - val_loss: 3.5599\n",
      "Epoch 274/500\n",
      "17/17 [==============================] - 0s 6ms/step - loss: 31.5569 - val_loss: 3.8806\n",
      "Epoch 275/500\n",
      "17/17 [==============================] - 0s 9ms/step - loss: 30.7707 - val_loss: 4.2131\n",
      "Epoch 276/500\n",
      "17/17 [==============================] - 0s 4ms/step - loss: 30.0125 - val_loss: 4.5570\n",
      "Epoch 277/500\n",
      "17/17 [==============================] - 0s 5ms/step - loss: 29.2816 - val_loss: 4.9114\n",
      "Epoch 278/500\n",
      "17/17 [==============================] - 0s 4ms/step - loss: 28.5772 - val_loss: 5.2757\n",
      "Epoch 279/500\n",
      "17/17 [==============================] - 0s 4ms/step - loss: 27.8986 - val_loss: 5.6492\n",
      "Epoch 280/500\n",
      "17/17 [==============================] - 0s 5ms/step - loss: 27.2451 - val_loss: 6.0313\n",
      "Epoch 281/500\n",
      "17/17 [==============================] - 0s 5ms/step - loss: 26.6157 - val_loss: 6.4211\n",
      "Epoch 282/500\n",
      "17/17 [==============================] - 0s 5ms/step - loss: 26.0101 - val_loss: 6.8183\n",
      "Epoch 283/500\n",
      "17/17 [==============================] - 0s 6ms/step - loss: 25.4274 - val_loss: 7.2221\n",
      "Epoch 284/500\n",
      "17/17 [==============================] - 0s 5ms/step - loss: 24.8668 - val_loss: 7.6321\n",
      "Epoch 285/500\n",
      "17/17 [==============================] - 0s 5ms/step - loss: 24.3278 - val_loss: 8.0474\n",
      "Epoch 286/500\n",
      "17/17 [==============================] - 0s 5ms/step - loss: 23.8097 - val_loss: 8.4676\n",
      "Epoch 287/500\n",
      "17/17 [==============================] - 0s 5ms/step - loss: 23.3120 - val_loss: 8.8922\n",
      "Epoch 288/500\n",
      "17/17 [==============================] - 0s 4ms/step - loss: 22.8338 - val_loss: 9.3204\n",
      "Epoch 289/500\n",
      "17/17 [==============================] - 0s 5ms/step - loss: 22.3746 - val_loss: 9.7522\n",
      "Epoch 290/500\n",
      "17/17 [==============================] - 0s 4ms/step - loss: 21.9338 - val_loss: 10.1865\n",
      "Epoch 291/500\n",
      "17/17 [==============================] - 0s 5ms/step - loss: 21.5108 - val_loss: 10.6232\n",
      "Epoch 292/500\n",
      "17/17 [==============================] - 0s 4ms/step - loss: 21.1051 - val_loss: 11.0617\n",
      "Epoch 293/500\n",
      "17/17 [==============================] - 0s 5ms/step - loss: 20.7160 - val_loss: 11.5014\n",
      "Epoch 294/500\n",
      "17/17 [==============================] - 0s 4ms/step - loss: 20.3431 - val_loss: 11.9421\n",
      "Epoch 295/500\n",
      "17/17 [==============================] - 0s 5ms/step - loss: 19.9856 - val_loss: 12.3832\n",
      "Epoch 296/500\n",
      "17/17 [==============================] - 0s 8ms/step - loss: 19.6433 - val_loss: 12.8244\n",
      "Epoch 297/500\n",
      "17/17 [==============================] - 0s 4ms/step - loss: 19.3154 - val_loss: 13.2654\n",
      "Epoch 298/500\n",
      "17/17 [==============================] - 0s 4ms/step - loss: 19.0014 - val_loss: 13.7054\n",
      "Epoch 299/500\n",
      "17/17 [==============================] - 0s 4ms/step - loss: 18.7011 - val_loss: 14.1445\n",
      "Epoch 300/500\n",
      "17/17 [==============================] - 0s 4ms/step - loss: 18.4137 - val_loss: 14.5820\n",
      "Epoch 301/500\n",
      "17/17 [==============================] - 0s 4ms/step - loss: 18.1390 - val_loss: 15.0178\n",
      "Epoch 302/500\n",
      "17/17 [==============================] - 0s 5ms/step - loss: 17.8762 - val_loss: 15.4514\n",
      "Epoch 303/500\n",
      "17/17 [==============================] - 0s 4ms/step - loss: 17.6252 - val_loss: 15.8827\n",
      "Epoch 304/500\n",
      "17/17 [==============================] - 0s 4ms/step - loss: 17.3854 - val_loss: 16.3110\n",
      "Epoch 305/500\n",
      "17/17 [==============================] - 0s 4ms/step - loss: 17.1564 - val_loss: 16.7364\n",
      "Epoch 306/500\n",
      "17/17 [==============================] - 0s 5ms/step - loss: 16.9378 - val_loss: 17.1585\n",
      "Epoch 307/500\n",
      "17/17 [==============================] - 0s 4ms/step - loss: 16.7291 - val_loss: 17.5770\n",
      "Epoch 308/500\n",
      "17/17 [==============================] - 0s 4ms/step - loss: 16.5302 - val_loss: 17.9917\n",
      "Epoch 309/500\n",
      "17/17 [==============================] - 0s 4ms/step - loss: 16.3404 - val_loss: 18.4023\n",
      "Epoch 310/500\n",
      "17/17 [==============================] - 0s 4ms/step - loss: 16.1594 - val_loss: 18.8088\n",
      "Epoch 311/500\n",
      "17/17 [==============================] - 0s 4ms/step - loss: 15.9870 - val_loss: 19.2109\n",
      "Epoch 312/500\n",
      "17/17 [==============================] - 0s 4ms/step - loss: 15.8227 - val_loss: 19.6081\n",
      "Epoch 313/500\n",
      "17/17 [==============================] - 0s 5ms/step - loss: 15.6664 - val_loss: 20.0006\n",
      "Epoch 314/500\n",
      "17/17 [==============================] - 0s 4ms/step - loss: 15.5174 - val_loss: 20.3881\n",
      "Epoch 315/500\n",
      "17/17 [==============================] - 0s 4ms/step - loss: 15.3757 - val_loss: 20.7705\n",
      "Epoch 316/500\n",
      "17/17 [==============================] - 0s 4ms/step - loss: 15.2409 - val_loss: 21.1476\n",
      "Epoch 317/500\n",
      "17/17 [==============================] - 0s 4ms/step - loss: 15.1126 - val_loss: 21.5191\n",
      "Epoch 318/500\n",
      "17/17 [==============================] - 0s 5ms/step - loss: 14.9908 - val_loss: 21.8851\n",
      "Epoch 319/500\n",
      "17/17 [==============================] - 0s 8ms/step - loss: 14.8749 - val_loss: 22.2456\n",
      "Epoch 320/500\n",
      "17/17 [==============================] - 0s 4ms/step - loss: 14.7648 - val_loss: 22.6000\n",
      "Epoch 321/500\n",
      "17/17 [==============================] - 0s 4ms/step - loss: 14.6603 - val_loss: 22.9486\n",
      "Epoch 322/500\n",
      "17/17 [==============================] - 0s 4ms/step - loss: 14.5611 - val_loss: 23.2915\n",
      "Epoch 323/500\n",
      "17/17 [==============================] - 0s 4ms/step - loss: 14.4669 - val_loss: 23.6280\n",
      "Epoch 324/500\n",
      "17/17 [==============================] - 0s 4ms/step - loss: 14.3775 - val_loss: 23.9585\n",
      "Epoch 325/500\n",
      "17/17 [==============================] - 0s 4ms/step - loss: 14.2927 - val_loss: 24.2830\n",
      "Epoch 326/500\n",
      "17/17 [==============================] - 0s 4ms/step - loss: 14.2123 - val_loss: 24.6013\n",
      "Epoch 327/500\n",
      "17/17 [==============================] - 0s 4ms/step - loss: 14.1361 - val_loss: 24.9134\n",
      "Epoch 328/500\n",
      "17/17 [==============================] - 0s 4ms/step - loss: 14.0639 - val_loss: 25.2190\n",
      "Epoch 329/500\n",
      "17/17 [==============================] - 0s 4ms/step - loss: 13.9955 - val_loss: 25.5184\n",
      "Epoch 330/500\n",
      "17/17 [==============================] - 0s 4ms/step - loss: 13.9307 - val_loss: 25.8114\n",
      "Epoch 331/500\n",
      "17/17 [==============================] - 0s 4ms/step - loss: 13.8694 - val_loss: 26.0984\n",
      "Epoch 332/500\n",
      "17/17 [==============================] - 0s 4ms/step - loss: 13.8113 - val_loss: 26.3790\n",
      "Epoch 333/500\n",
      "17/17 [==============================] - 0s 4ms/step - loss: 13.7563 - val_loss: 26.6533\n",
      "Epoch 334/500\n",
      "17/17 [==============================] - 0s 4ms/step - loss: 13.7043 - val_loss: 26.9212\n",
      "Epoch 335/500\n",
      "17/17 [==============================] - 0s 5ms/step - loss: 13.6551 - val_loss: 27.1831\n",
      "Epoch 336/500\n",
      "17/17 [==============================] - 0s 4ms/step - loss: 13.6086 - val_loss: 27.4384\n",
      "Epoch 337/500\n",
      "17/17 [==============================] - 0s 5ms/step - loss: 13.5646 - val_loss: 27.6879\n",
      "Epoch 338/500\n",
      "17/17 [==============================] - 0s 8ms/step - loss: 13.5231 - val_loss: 27.9311\n",
      "Epoch 339/500\n",
      "17/17 [==============================] - 0s 4ms/step - loss: 13.4838 - val_loss: 28.1682\n",
      "Epoch 340/500\n",
      "17/17 [==============================] - 0s 5ms/step - loss: 13.4467 - val_loss: 28.3993\n",
      "Epoch 341/500\n",
      "17/17 [==============================] - 0s 3ms/step - loss: 13.4117 - val_loss: 28.6242\n",
      "Epoch 342/500\n",
      "17/17 [==============================] - 0s 4ms/step - loss: 13.3786 - val_loss: 28.8433\n",
      "Epoch 343/500\n",
      "17/17 [==============================] - 0s 4ms/step - loss: 13.3474 - val_loss: 29.0566\n",
      "Epoch 344/500\n",
      "17/17 [==============================] - 0s 3ms/step - loss: 13.3179 - val_loss: 29.2638\n",
      "Epoch 345/500\n",
      "17/17 [==============================] - 0s 4ms/step - loss: 13.2901 - val_loss: 29.4656\n",
      "Epoch 346/500\n",
      "17/17 [==============================] - 0s 4ms/step - loss: 13.2638 - val_loss: 29.6615\n",
      "Epoch 347/500\n",
      "17/17 [==============================] - 0s 4ms/step - loss: 13.2390 - val_loss: 29.8518\n",
      "Epoch 348/500\n",
      "17/17 [==============================] - 0s 4ms/step - loss: 13.2157 - val_loss: 30.0366\n",
      "Epoch 349/500\n",
      "17/17 [==============================] - 0s 4ms/step - loss: 13.1936 - val_loss: 30.2162\n",
      "Epoch 350/500\n",
      "17/17 [==============================] - 0s 5ms/step - loss: 13.1729 - val_loss: 30.3901\n",
      "Epoch 351/500\n",
      "17/17 [==============================] - 0s 4ms/step - loss: 13.1533 - val_loss: 30.5587\n",
      "Epoch 352/500\n",
      "17/17 [==============================] - 0s 4ms/step - loss: 13.1348 - val_loss: 30.7224\n",
      "Epoch 353/500\n",
      "17/17 [==============================] - 0s 4ms/step - loss: 13.1174 - val_loss: 30.8806\n",
      "Epoch 354/500\n",
      "17/17 [==============================] - 0s 4ms/step - loss: 13.1010 - val_loss: 31.0341\n",
      "Epoch 355/500\n",
      "17/17 [==============================] - 0s 4ms/step - loss: 13.0856 - val_loss: 31.1828\n",
      "Epoch 356/500\n",
      "17/17 [==============================] - 0s 5ms/step - loss: 13.0710 - val_loss: 31.3263\n",
      "Epoch 357/500\n",
      "17/17 [==============================] - 0s 9ms/step - loss: 13.0573 - val_loss: 31.4656\n",
      "Epoch 358/500\n",
      "17/17 [==============================] - 0s 4ms/step - loss: 13.0444 - val_loss: 31.5998\n",
      "Epoch 359/500\n",
      "17/17 [==============================] - 0s 5ms/step - loss: 13.0322 - val_loss: 31.7299\n",
      "Epoch 360/500\n",
      "17/17 [==============================] - 0s 4ms/step - loss: 13.0207 - val_loss: 31.8551\n",
      "Epoch 361/500\n",
      "17/17 [==============================] - 0s 4ms/step - loss: 13.0100 - val_loss: 31.9762\n",
      "Epoch 362/500\n",
      "17/17 [==============================] - 0s 4ms/step - loss: 12.9998 - val_loss: 32.0933\n",
      "Epoch 363/500\n",
      "17/17 [==============================] - 0s 4ms/step - loss: 12.9903 - val_loss: 32.2060\n",
      "Epoch 364/500\n",
      "17/17 [==============================] - 0s 4ms/step - loss: 12.9812 - val_loss: 32.3149\n",
      "Epoch 365/500\n",
      "17/17 [==============================] - 0s 4ms/step - loss: 12.9728 - val_loss: 32.4194\n",
      "Epoch 366/500\n",
      "17/17 [==============================] - 0s 4ms/step - loss: 12.9648 - val_loss: 32.5206\n",
      "Epoch 367/500\n",
      "17/17 [==============================] - 0s 4ms/step - loss: 12.9573 - val_loss: 32.6178\n",
      "Epoch 368/500\n",
      "17/17 [==============================] - 0s 4ms/step - loss: 12.9502 - val_loss: 32.7115\n",
      "Epoch 369/500\n",
      "17/17 [==============================] - 0s 4ms/step - loss: 12.9435 - val_loss: 32.8016\n",
      "Epoch 370/500\n",
      "17/17 [==============================] - 0s 5ms/step - loss: 12.9373 - val_loss: 32.8882\n",
      "Epoch 371/500\n",
      "17/17 [==============================] - 0s 3ms/step - loss: 12.9313 - val_loss: 32.9715\n",
      "Epoch 372/500\n",
      "17/17 [==============================] - 0s 3ms/step - loss: 12.9258 - val_loss: 33.0515\n",
      "Epoch 373/500\n",
      "17/17 [==============================] - 0s 4ms/step - loss: 12.9206 - val_loss: 33.1286\n",
      "Epoch 374/500\n",
      "17/17 [==============================] - 0s 4ms/step - loss: 12.9157 - val_loss: 33.2023\n",
      "Epoch 375/500\n",
      "17/17 [==============================] - 0s 4ms/step - loss: 12.9111 - val_loss: 33.2731\n",
      "Epoch 376/500\n",
      "17/17 [==============================] - 0s 4ms/step - loss: 12.9067 - val_loss: 33.3412\n",
      "Epoch 377/500\n",
      "17/17 [==============================] - 0s 10ms/step - loss: 12.9026 - val_loss: 33.4065\n",
      "Epoch 378/500\n",
      "17/17 [==============================] - 0s 5ms/step - loss: 12.8988 - val_loss: 33.4689\n",
      "Epoch 379/500\n",
      "17/17 [==============================] - 0s 4ms/step - loss: 12.8952 - val_loss: 33.5289\n",
      "Epoch 380/500\n",
      "17/17 [==============================] - 0s 5ms/step - loss: 12.8918 - val_loss: 33.5862\n",
      "Epoch 381/500\n",
      "17/17 [==============================] - 0s 4ms/step - loss: 12.8886 - val_loss: 33.6412\n",
      "Epoch 382/500\n",
      "17/17 [==============================] - 0s 4ms/step - loss: 12.8856 - val_loss: 33.6936\n",
      "Epoch 383/500\n",
      "17/17 [==============================] - 0s 4ms/step - loss: 12.8828 - val_loss: 33.7439\n",
      "Epoch 384/500\n",
      "17/17 [==============================] - 0s 4ms/step - loss: 12.8802 - val_loss: 33.7919\n",
      "Epoch 385/500\n",
      "17/17 [==============================] - 0s 4ms/step - loss: 12.8777 - val_loss: 33.8378\n",
      "Epoch 386/500\n",
      "17/17 [==============================] - 0s 4ms/step - loss: 12.8754 - val_loss: 33.8817\n",
      "Epoch 387/500\n",
      "17/17 [==============================] - 0s 4ms/step - loss: 12.8732 - val_loss: 33.9235\n",
      "Epoch 388/500\n",
      "17/17 [==============================] - 0s 4ms/step - loss: 12.8711 - val_loss: 33.9635\n",
      "Epoch 389/500\n",
      "17/17 [==============================] - 0s 4ms/step - loss: 12.8692 - val_loss: 34.0016\n",
      "Epoch 390/500\n",
      "17/17 [==============================] - 0s 3ms/step - loss: 12.8674 - val_loss: 34.0381\n",
      "Epoch 391/500\n",
      "17/17 [==============================] - 0s 3ms/step - loss: 12.8657 - val_loss: 34.0726\n",
      "Epoch 392/500\n",
      "17/17 [==============================] - 0s 4ms/step - loss: 12.8642 - val_loss: 34.1056\n",
      "Epoch 393/500\n",
      "17/17 [==============================] - 0s 4ms/step - loss: 12.8627 - val_loss: 34.1371\n",
      "Epoch 394/500\n",
      "17/17 [==============================] - 0s 4ms/step - loss: 12.8614 - val_loss: 34.1670\n",
      "Epoch 395/500\n",
      "17/17 [==============================] - 0s 4ms/step - loss: 12.8601 - val_loss: 34.1954\n",
      "Epoch 396/500\n",
      "17/17 [==============================] - 0s 4ms/step - loss: 12.8589 - val_loss: 34.2225\n",
      "Epoch 397/500\n",
      "17/17 [==============================] - 0s 7ms/step - loss: 12.8578 - val_loss: 34.2481\n",
      "Epoch 398/500\n",
      "17/17 [==============================] - 0s 4ms/step - loss: 12.8568 - val_loss: 34.2726\n",
      "Epoch 399/500\n",
      "17/17 [==============================] - 0s 4ms/step - loss: 12.8558 - val_loss: 34.2955\n",
      "Epoch 400/500\n",
      "17/17 [==============================] - 0s 4ms/step - loss: 12.8549 - val_loss: 34.3174\n",
      "Epoch 401/500\n",
      "17/17 [==============================] - 0s 4ms/step - loss: 12.8541 - val_loss: 34.3384\n",
      "Epoch 402/500\n",
      "17/17 [==============================] - 0s 4ms/step - loss: 12.8533 - val_loss: 34.3579\n",
      "Epoch 403/500\n",
      "17/17 [==============================] - 0s 4ms/step - loss: 12.8527 - val_loss: 34.3769\n",
      "Epoch 404/500\n",
      "17/17 [==============================] - 0s 4ms/step - loss: 12.8520 - val_loss: 34.3946\n",
      "Epoch 405/500\n",
      "17/17 [==============================] - 0s 4ms/step - loss: 12.8514 - val_loss: 34.4113\n",
      "Epoch 406/500\n",
      "17/17 [==============================] - 0s 5ms/step - loss: 12.8509 - val_loss: 34.4272\n",
      "Epoch 407/500\n",
      "17/17 [==============================] - 0s 4ms/step - loss: 12.8504 - val_loss: 34.4421\n",
      "Epoch 408/500\n",
      "17/17 [==============================] - 0s 4ms/step - loss: 12.8499 - val_loss: 34.4562\n",
      "Epoch 409/500\n",
      "17/17 [==============================] - 0s 4ms/step - loss: 12.8496 - val_loss: 34.4697\n",
      "Epoch 410/500\n",
      "17/17 [==============================] - 0s 4ms/step - loss: 12.8492 - val_loss: 34.4824\n",
      "Epoch 411/500\n",
      "17/17 [==============================] - 0s 4ms/step - loss: 12.8489 - val_loss: 34.4943\n",
      "Epoch 412/500\n",
      "17/17 [==============================] - 0s 4ms/step - loss: 12.8486 - val_loss: 34.5055\n",
      "Epoch 413/500\n",
      "17/17 [==============================] - 0s 4ms/step - loss: 12.8483 - val_loss: 34.5162\n",
      "Epoch 414/500\n",
      "17/17 [==============================] - 0s 4ms/step - loss: 12.8481 - val_loss: 34.5261\n",
      "Epoch 415/500\n",
      "17/17 [==============================] - 0s 3ms/step - loss: 12.8479 - val_loss: 34.5354\n",
      "Epoch 416/500\n",
      "17/17 [==============================] - 0s 4ms/step - loss: 12.8477 - val_loss: 34.5443\n",
      "Epoch 417/500\n",
      "17/17 [==============================] - 0s 4ms/step - loss: 12.8476 - val_loss: 34.5525\n",
      "Epoch 418/500\n",
      "17/17 [==============================] - 0s 4ms/step - loss: 12.8475 - val_loss: 34.5604\n",
      "Epoch 419/500\n",
      "17/17 [==============================] - 0s 9ms/step - loss: 12.8474 - val_loss: 34.5677\n",
      "Epoch 420/500\n",
      "17/17 [==============================] - 0s 4ms/step - loss: 12.8473 - val_loss: 34.5745\n",
      "Epoch 421/500\n",
      "17/17 [==============================] - 0s 4ms/step - loss: 12.8473 - val_loss: 34.5809\n",
      "Epoch 422/500\n",
      "17/17 [==============================] - 0s 4ms/step - loss: 12.8472 - val_loss: 34.5870\n",
      "Epoch 423/500\n",
      "17/17 [==============================] - 0s 4ms/step - loss: 12.8472 - val_loss: 34.5927\n",
      "Epoch 424/500\n",
      "17/17 [==============================] - 0s 4ms/step - loss: 12.8472 - val_loss: 34.5980\n",
      "Epoch 425/500\n",
      "17/17 [==============================] - 0s 4ms/step - loss: 12.8472 - val_loss: 34.6028\n",
      "Epoch 426/500\n",
      "17/17 [==============================] - 0s 5ms/step - loss: 12.8473 - val_loss: 34.6075\n",
      "Epoch 427/500\n",
      "17/17 [==============================] - 0s 3ms/step - loss: 12.8474 - val_loss: 34.6116\n",
      "Epoch 428/500\n",
      "17/17 [==============================] - 0s 3ms/step - loss: 12.8474 - val_loss: 34.6155\n",
      "Epoch 429/500\n",
      "17/17 [==============================] - 0s 3ms/step - loss: 12.8475 - val_loss: 34.6192\n",
      "Epoch 430/500\n",
      "17/17 [==============================] - 0s 4ms/step - loss: 12.8476 - val_loss: 34.6226\n",
      "Epoch 431/500\n",
      "17/17 [==============================] - 0s 4ms/step - loss: 12.8477 - val_loss: 34.6257\n",
      "Epoch 432/500\n",
      "17/17 [==============================] - 0s 3ms/step - loss: 12.8479 - val_loss: 34.6285\n",
      "Epoch 433/500\n",
      "17/17 [==============================] - 0s 4ms/step - loss: 12.8480 - val_loss: 34.6314\n",
      "Epoch 434/500\n",
      "17/17 [==============================] - 0s 4ms/step - loss: 12.8481 - val_loss: 34.6339\n",
      "Epoch 435/500\n",
      "17/17 [==============================] - 0s 4ms/step - loss: 12.8483 - val_loss: 34.6361\n",
      "Epoch 436/500\n",
      "17/17 [==============================] - 0s 4ms/step - loss: 12.8485 - val_loss: 34.6381\n",
      "Epoch 437/500\n",
      "17/17 [==============================] - 0s 4ms/step - loss: 12.8487 - val_loss: 34.6402\n",
      "Epoch 438/500\n",
      "17/17 [==============================] - 0s 4ms/step - loss: 12.8488 - val_loss: 34.6420\n",
      "Epoch 439/500\n",
      "17/17 [==============================] - 0s 8ms/step - loss: 12.8490 - val_loss: 34.6435\n",
      "Epoch 440/500\n",
      "17/17 [==============================] - 0s 4ms/step - loss: 12.8492 - val_loss: 34.6451\n",
      "Epoch 441/500\n",
      "17/17 [==============================] - 0s 4ms/step - loss: 12.8494 - val_loss: 34.6466\n",
      "Epoch 442/500\n",
      "17/17 [==============================] - 0s 4ms/step - loss: 12.8496 - val_loss: 34.6479\n",
      "Epoch 443/500\n",
      "17/17 [==============================] - 0s 4ms/step - loss: 12.8498 - val_loss: 34.6490\n",
      "Epoch 444/500\n",
      "17/17 [==============================] - 0s 4ms/step - loss: 12.8500 - val_loss: 34.6500\n",
      "Epoch 445/500\n",
      "17/17 [==============================] - 0s 5ms/step - loss: 12.8502 - val_loss: 34.6509\n",
      "Epoch 446/500\n",
      "17/17 [==============================] - 0s 4ms/step - loss: 12.8504 - val_loss: 34.6518\n",
      "Epoch 447/500\n",
      "17/17 [==============================] - 0s 4ms/step - loss: 12.8506 - val_loss: 34.6524\n",
      "Epoch 448/500\n",
      "17/17 [==============================] - 0s 4ms/step - loss: 12.8509 - val_loss: 34.6531\n",
      "Epoch 449/500\n",
      "17/17 [==============================] - 0s 4ms/step - loss: 12.8511 - val_loss: 34.6538\n",
      "Epoch 450/500\n",
      "17/17 [==============================] - 0s 4ms/step - loss: 12.8513 - val_loss: 34.6541\n",
      "Epoch 451/500\n",
      "17/17 [==============================] - 0s 4ms/step - loss: 12.8516 - val_loss: 34.6547\n",
      "Epoch 452/500\n",
      "17/17 [==============================] - 0s 4ms/step - loss: 12.8518 - val_loss: 34.6549\n",
      "Epoch 453/500\n",
      "17/17 [==============================] - 0s 5ms/step - loss: 12.8521 - val_loss: 34.6552\n",
      "Epoch 454/500\n",
      "17/17 [==============================] - 0s 3ms/step - loss: 12.8523 - val_loss: 34.6554\n",
      "Epoch 455/500\n",
      "17/17 [==============================] - 0s 4ms/step - loss: 12.8525 - val_loss: 34.6556\n",
      "Epoch 456/500\n",
      "17/17 [==============================] - 0s 4ms/step - loss: 12.8528 - val_loss: 34.6558\n",
      "Epoch 457/500\n",
      "17/17 [==============================] - 0s 4ms/step - loss: 12.8530 - val_loss: 34.6560\n",
      "Epoch 458/500\n",
      "17/17 [==============================] - 0s 6ms/step - loss: 12.8533 - val_loss: 34.6560\n",
      "Epoch 459/500\n",
      "17/17 [==============================] - 0s 4ms/step - loss: 12.8535 - val_loss: 34.6560\n",
      "Epoch 460/500\n",
      "17/17 [==============================] - 0s 4ms/step - loss: 12.8538 - val_loss: 34.6561\n",
      "Epoch 461/500\n",
      "17/17 [==============================] - 0s 3ms/step - loss: 12.8541 - val_loss: 34.6561\n",
      "Epoch 462/500\n",
      "17/17 [==============================] - 0s 4ms/step - loss: 12.8543 - val_loss: 34.6560\n",
      "Epoch 463/500\n",
      "17/17 [==============================] - 0s 4ms/step - loss: 12.8545 - val_loss: 34.6557\n",
      "Epoch 464/500\n",
      "17/17 [==============================] - 0s 4ms/step - loss: 12.8548 - val_loss: 34.6556\n",
      "Epoch 465/500\n",
      "17/17 [==============================] - 0s 4ms/step - loss: 12.8551 - val_loss: 34.6555\n",
      "Epoch 466/500\n",
      "17/17 [==============================] - 0s 4ms/step - loss: 12.8553 - val_loss: 34.6554\n",
      "Epoch 467/500\n",
      "17/17 [==============================] - 0s 4ms/step - loss: 12.8555 - val_loss: 34.6552\n",
      "Epoch 468/500\n",
      "17/17 [==============================] - 0s 4ms/step - loss: 12.8558 - val_loss: 34.6548\n",
      "Epoch 469/500\n",
      "17/17 [==============================] - 0s 4ms/step - loss: 12.8560 - val_loss: 34.6546\n",
      "Epoch 470/500\n",
      "17/17 [==============================] - 0s 4ms/step - loss: 12.8563 - val_loss: 34.6542\n",
      "Epoch 471/500\n",
      "17/17 [==============================] - 0s 4ms/step - loss: 12.8565 - val_loss: 34.6539\n",
      "Epoch 472/500\n",
      "17/17 [==============================] - 0s 4ms/step - loss: 12.8568 - val_loss: 34.6538\n",
      "Epoch 473/500\n",
      "17/17 [==============================] - 0s 4ms/step - loss: 12.8570 - val_loss: 34.6532\n",
      "Epoch 474/500\n",
      "17/17 [==============================] - 0s 4ms/step - loss: 12.8573 - val_loss: 34.6530\n",
      "Epoch 475/500\n",
      "17/17 [==============================] - 0s 8ms/step - loss: 12.8575 - val_loss: 34.6527\n",
      "Epoch 476/500\n",
      "17/17 [==============================] - 0s 4ms/step - loss: 12.8578 - val_loss: 34.6523\n",
      "Epoch 477/500\n",
      "17/17 [==============================] - 0s 4ms/step - loss: 12.8580 - val_loss: 34.6519\n",
      "Epoch 478/500\n",
      "17/17 [==============================] - 0s 4ms/step - loss: 12.8583 - val_loss: 34.6514\n",
      "Epoch 479/500\n",
      "17/17 [==============================] - 0s 5ms/step - loss: 12.8585 - val_loss: 34.6512\n",
      "Epoch 480/500\n",
      "17/17 [==============================] - 0s 3ms/step - loss: 12.8587 - val_loss: 34.6507\n",
      "Epoch 481/500\n",
      "17/17 [==============================] - 0s 4ms/step - loss: 12.8590 - val_loss: 34.6505\n",
      "Epoch 482/500\n",
      "17/17 [==============================] - 0s 4ms/step - loss: 12.8592 - val_loss: 34.6501\n",
      "Epoch 483/500\n",
      "17/17 [==============================] - 0s 4ms/step - loss: 12.8594 - val_loss: 34.6498\n",
      "Epoch 484/500\n",
      "17/17 [==============================] - 0s 4ms/step - loss: 12.8597 - val_loss: 34.6492\n",
      "Epoch 485/500\n",
      "17/17 [==============================] - 0s 4ms/step - loss: 12.8599 - val_loss: 34.6488\n",
      "Epoch 486/500\n",
      "17/17 [==============================] - 0s 4ms/step - loss: 12.8602 - val_loss: 34.6485\n",
      "Epoch 487/500\n",
      "17/17 [==============================] - 0s 4ms/step - loss: 12.8604 - val_loss: 34.6482\n",
      "Epoch 488/500\n",
      "17/17 [==============================] - 0s 4ms/step - loss: 12.8607 - val_loss: 34.6479\n",
      "Epoch 489/500\n",
      "17/17 [==============================] - 0s 3ms/step - loss: 12.8609 - val_loss: 34.6474\n",
      "Epoch 490/500\n",
      "17/17 [==============================] - 0s 4ms/step - loss: 12.8611 - val_loss: 34.6472\n",
      "Epoch 491/500\n",
      "17/17 [==============================] - 0s 8ms/step - loss: 12.8613 - val_loss: 34.6466\n",
      "Epoch 492/500\n",
      "17/17 [==============================] - 0s 4ms/step - loss: 12.8615 - val_loss: 34.6462\n",
      "Epoch 493/500\n",
      "17/17 [==============================] - 0s 4ms/step - loss: 12.8618 - val_loss: 34.6460\n",
      "Epoch 494/500\n",
      "17/17 [==============================] - 0s 4ms/step - loss: 12.8620 - val_loss: 34.6458\n",
      "Epoch 495/500\n",
      "17/17 [==============================] - 0s 4ms/step - loss: 12.8622 - val_loss: 34.6453\n",
      "Epoch 496/500\n",
      "17/17 [==============================] - 0s 4ms/step - loss: 12.8624 - val_loss: 34.6449\n",
      "Epoch 497/500\n",
      "17/17 [==============================] - 0s 5ms/step - loss: 12.8626 - val_loss: 34.6446\n",
      "Epoch 498/500\n",
      "17/17 [==============================] - 0s 4ms/step - loss: 12.8628 - val_loss: 34.6441\n",
      "Epoch 499/500\n",
      "17/17 [==============================] - 0s 4ms/step - loss: 12.8631 - val_loss: 34.6436\n",
      "Epoch 500/500\n",
      "17/17 [==============================] - 0s 4ms/step - loss: 12.8633 - val_loss: 34.6434\n"
     ]
    }
   ],
   "source": [
    "C0 = tf.Variable(88.1552, name=\"C0\", trainable=True, dtype=tf.float32)\n",
    "K0 = tf.Variable(-0.0026, name=\"K0\", trainable=True, dtype=tf.float32)\n",
    "K1 = tf.Variable(-0.0004, name=\"K1\", trainable=True, dtype=tf.float32)\n",
    "a = tf.Variable(0.0000, name=\"a\", trainable=True, dtype=tf.float32)\n",
    "b = tf.Variable(0.0102, name=\"b\", trainable=True, dtype=tf.float32)\n",
    "c = tf.Variable(2.8734, name=\"c\", trainable=True, dtype=tf.float32)\n",
    "\n",
    "splitr = 0.8\n",
    "\n",
    "\n",
    "def loss_fn(y_true, y_pred):\n",
    "    squared_difference = tf.square(y_true[:, 0] - y_pred[:, 0])\n",
    "    #squared_difference2 = tf.square(y_true[:, 2]-y_pred[:, 2])\n",
    "    #squared_difference1 = tf.square(y_true[:, 1]-y_pred[:, 1])\n",
    "    epsilon = 1\n",
    "    squared_difference3 = tf.square(\n",
    "        y_pred[:, 1] - (\n",
    "            y_pred[:, 0] * (\n",
    "                K0 - K1 * (\n",
    "                    9 * a * tf.math.log((y_pred[:, 0] + epsilon) / C0) / (K0 - K1 * c)**2 +\n",
    "                    4 * b * tf.math.log((y_pred[:, 0] + epsilon) / C0) / (K0 - K1 * c) + c\n",
    "                )\n",
    "            )\n",
    "        )\n",
    "    )\n",
    "    return tf.reduce_mean(squared_difference, axis=-1) + 0.2*tf.reduce_mean(squared_difference3, axis=-1)\n",
    "model = Sequential()\n",
    "model.add(LSTM(100, input_shape=(trainX.shape[1], trainX.shape[2])))\n",
    "model.add(Dense(60))\n",
    "model.compile(loss=loss_fn, optimizer='adam')\n",
    "history = model.fit(trainX[:int(splitr*trainX.shape[0])], trainy[:int(splitr*trainX.shape[0])], epochs=500, batch_size=64, validation_data=(trainX[int(splitr*trainX.shape[0]):trainX.shape[0]], trainy[int(splitr*trainX.shape[0]):trainX.shape[0]]), shuffle=False)"
   ]
  },
  {
   "cell_type": "code",
   "execution_count": 19,
   "metadata": {
    "colab": {
     "base_uri": "https://localhost:8080/"
    },
    "id": "yJL101rPyuoT",
    "outputId": "239ff2b1-c186-423a-d316-939dfdd7c793"
   },
   "outputs": [
    {
     "name": "stdout",
     "output_type": "stream",
     "text": [
      "1/1 [==============================] - 0s 325ms/step\n"
     ]
    }
   ],
   "source": [
    "forecast_without_mc = forecastX\n",
    "yhat_without_mc = model.predict(forecast_without_mc) # Step Ahead Prediction\n",
    "forecast_without_mc = forecast_without_mc.reshape((forecast_without_mc.shape[0], forecast_without_mc.shape[2])) # Historical Input"
   ]
  },
  {
   "cell_type": "code",
   "execution_count": 20,
   "metadata": {
    "colab": {
     "base_uri": "https://localhost:8080/"
    },
    "id": "g9dQELcJ8wbp",
    "outputId": "4dc7671b-b1a8-48d5-8744-a86f98446109"
   },
   "outputs": [
    {
     "data": {
      "text/plain": [
       "(1, 1, 251)"
      ]
     },
     "execution_count": 20,
     "metadata": {},
     "output_type": "execute_result"
    }
   ],
   "source": [
    "forecastX.shape"
   ]
  },
  {
   "cell_type": "code",
   "execution_count": 21,
   "metadata": {
    "colab": {
     "base_uri": "https://localhost:8080/"
    },
    "id": "IS2kyIKG1Kbr",
    "outputId": "f31b3485-8e26-452f-9298-ea8bf7e80ad1"
   },
   "outputs": [
    {
     "data": {
      "text/plain": [
       "(1, 251)"
      ]
     },
     "execution_count": 21,
     "metadata": {},
     "output_type": "execute_result"
    }
   ],
   "source": [
    "forecast_without_mc.shape"
   ]
  },
  {
   "cell_type": "code",
   "execution_count": 22,
   "metadata": {
    "id": "0u6VIzaDyuoT"
   },
   "outputs": [],
   "source": [
    "inv_yhat_without_mc = np.concatenate((forecast_without_mc, yhat_without_mc), axis=1) # Concatenation of predicted values with Historical Data\n",
    "#inv_yhat_without_mc = scaler.inverse_transform(inv_yhat_without_mc) # Transform labels back to original encoding"
   ]
  },
  {
   "cell_type": "code",
   "execution_count": 23,
   "metadata": {
    "colab": {
     "base_uri": "https://localhost:8080/"
    },
    "id": "EUEcw0LX07oU",
    "outputId": "cfc32397-9c37-4b43-d087-584bb31c3dcc"
   },
   "outputs": [
    {
     "data": {
      "text/plain": [
       "(1, 311)"
      ]
     },
     "execution_count": 23,
     "metadata": {},
     "output_type": "execute_result"
    }
   ],
   "source": [
    "inv_yhat_without_mc.shape"
   ]
  },
  {
   "cell_type": "code",
   "execution_count": 24,
   "metadata": {
    "id": "31OWVbSh_305"
   },
   "outputs": [],
   "source": [
    "fforecast = inv_yhat_without_mc[:,-300:]"
   ]
  },
  {
   "cell_type": "code",
   "execution_count": 25,
   "metadata": {},
   "outputs": [
    {
     "data": {
      "text/plain": [
       "(1, 300)"
      ]
     },
     "execution_count": 25,
     "metadata": {},
     "output_type": "execute_result"
    }
   ],
   "source": [
    "fforecast.shape"
   ]
  },
  {
   "cell_type": "code",
   "execution_count": 26,
   "metadata": {
    "id": "BlpGH2FOAiRF"
   },
   "outputs": [],
   "source": [
    "final_forecast = fforecast[:,0:300:3]"
   ]
  },
  {
   "cell_type": "code",
   "execution_count": 27,
   "metadata": {},
   "outputs": [
    {
     "data": {
      "text/plain": [
       "(1, 300)"
      ]
     },
     "execution_count": 27,
     "metadata": {},
     "output_type": "execute_result"
    }
   ],
   "source": [
    "fforecast.shape"
   ]
  },
  {
   "cell_type": "code",
   "execution_count": 28,
   "metadata": {
    "id": "CXkgkj_LBk_t"
   },
   "outputs": [],
   "source": [
    "# code to replace all negative value with 0\n",
    "final_forecast[final_forecast<0] = 0"
   ]
  },
  {
   "cell_type": "code",
   "execution_count": 29,
   "metadata": {},
   "outputs": [
    {
     "data": {
      "text/plain": [
       "array([[7.03730392e+01, 7.03534314e+01, 7.03338235e+01, 7.03142157e+01,\n",
       "        7.02946078e+01, 7.02750000e+01, 7.02553922e+01, 7.02357843e+01,\n",
       "        7.02161765e+01, 7.01965686e+01, 7.01769608e+01, 7.01573529e+01,\n",
       "        7.01377451e+01, 7.01181373e+01, 7.00985294e+01, 7.00789216e+01,\n",
       "        7.00593137e+01, 7.00397059e+01, 7.00200980e+01, 7.00004902e+01,\n",
       "        6.99808824e+01, 6.99612745e+01, 6.99416667e+01, 6.99220588e+01,\n",
       "        6.99024510e+01, 6.98607843e+01, 6.98159664e+01, 6.97711485e+01,\n",
       "        6.97263305e+01, 6.96815126e+01, 6.96366947e+01, 6.95918767e+01,\n",
       "        6.95470588e+01, 6.95022409e+01, 6.94574230e+01, 6.94126050e+01,\n",
       "        6.93677871e+01, 6.93229692e+01, 6.92781513e+01, 6.92333333e+01,\n",
       "        6.91885154e+01, 6.91436975e+01, 6.90988796e+01, 6.90540616e+01,\n",
       "        6.90092437e+01, 6.89644258e+01, 6.89196078e+01, 6.88747899e+01,\n",
       "        6.88299720e+01, 6.87851541e+01, 6.87403361e+01, 6.86955182e+01,\n",
       "        6.86507003e+01, 6.86058824e+01, 6.85610644e+01, 6.85162465e+01,\n",
       "        6.84714286e+01, 6.84266106e+01, 6.83817927e+01, 6.83369748e+01,\n",
       "        6.82975490e+01, 6.82835434e+01, 6.82695378e+01, 6.82555322e+01,\n",
       "        6.82415266e+01, 6.82275210e+01, 6.82135154e+01, 6.81995098e+01,\n",
       "        6.81855042e+01, 6.81714986e+01, 6.81574930e+01, 6.81434874e+01,\n",
       "        6.81294818e+01, 6.81154762e+01, 6.81014706e+01, 6.80874650e+01,\n",
       "        6.80734594e+01, 6.80594538e+01, 6.80454482e+01, 6.80314426e+01,\n",
       "        7.51025543e+01, 4.03590024e-01, 0.00000000e+00, 1.93370014e-01,\n",
       "        0.00000000e+00, 3.25454324e-01, 5.84132373e-01, 0.00000000e+00,\n",
       "        7.85332084e-01, 4.75012898e-01, 3.69284540e-01, 2.35743612e-01,\n",
       "        3.61841954e-02, 0.00000000e+00, 0.00000000e+00, 0.00000000e+00,\n",
       "        4.68337446e-01, 0.00000000e+00, 3.34053993e-01, 1.54416636e-01]])"
      ]
     },
     "execution_count": 29,
     "metadata": {},
     "output_type": "execute_result"
    }
   ],
   "source": [
    "final_forecast"
   ]
  },
  {
   "cell_type": "code",
   "execution_count": 30,
   "metadata": {},
   "outputs": [
    {
     "data": {
      "text/plain": [
       "(1, 100)"
      ]
     },
     "execution_count": 30,
     "metadata": {},
     "output_type": "execute_result"
    }
   ],
   "source": [
    "final_forecast.shape"
   ]
  },
  {
   "cell_type": "code",
   "execution_count": 31,
   "metadata": {},
   "outputs": [
    {
     "data": {
      "text/plain": [
       "(100,)"
      ]
     },
     "execution_count": 31,
     "metadata": {},
     "output_type": "execute_result"
    }
   ],
   "source": [
    "test.shape"
   ]
  },
  {
   "cell_type": "code",
   "execution_count": 32,
   "metadata": {},
   "outputs": [],
   "source": [
    "training_set = np.array(training_set)\n",
    "test = np.array(test)\n",
    "final_forecast = np.array(final_forecast.squeeze(0))"
   ]
  },
  {
   "cell_type": "code",
   "execution_count": 33,
   "metadata": {},
   "outputs": [
    {
     "data": {
      "text/plain": [
       "array([66.46143791, 66.45396825, 66.4464986 , 66.43902894, 66.43155929,\n",
       "       66.42408964, 66.41661998, 66.40915033, 66.40168067, 66.39421102,\n",
       "       66.38674136, 66.37927171, 66.37180205, 66.3643324 , 66.35686275,\n",
       "       66.34939309, 66.34192344, 66.33445378, 66.32698413, 66.31951447,\n",
       "       66.31204482, 66.30457516, 66.29710551, 66.28963585, 66.2821662 ,\n",
       "       66.27469655, 66.26722689, 66.25975724, 66.25228758, 66.24481793,\n",
       "       66.23734827, 66.22987862, 66.22240896, 66.21493931, 66.20746965,\n",
       "       66.2       , 66.19253035, 66.18506069, 66.17759104, 66.17012138,\n",
       "       66.16265173, 66.15518207, 66.14771242, 66.14024276, 66.13277311,\n",
       "       66.12530345, 66.1178338 , 66.11036415, 66.10289449, 66.09542484,\n",
       "       66.08795518, 66.08048553, 66.07301587, 66.06554622, 66.05807656,\n",
       "       66.05060691, 66.04313725, 66.0356676 , 66.02819795, 66.02072829,\n",
       "       66.01325864, 66.00578898, 65.9947479 , 65.97140523, 65.94806256,\n",
       "       65.92471989, 65.90137722, 65.87803455, 65.85469188, 65.83134921,\n",
       "       65.80800654, 65.78466387, 65.7613212 , 65.73797852, 65.71463585,\n",
       "       65.69129318, 65.66795051, 65.64460784, 65.62126517, 65.5979225 ,\n",
       "       65.57457983, 65.55123716, 65.52789449, 65.50455182, 65.48120915,\n",
       "       65.45786648, 65.43452381, 65.41118114, 65.38783847, 65.3644958 ,\n",
       "       65.34115313, 65.31781046, 65.29446779, 65.27112512, 65.24778245,\n",
       "       65.22443978, 65.20109711, 65.17775444, 65.15441176, 65.13106909])"
      ]
     },
     "execution_count": 33,
     "metadata": {},
     "output_type": "execute_result"
    }
   ],
   "source": [
    "test"
   ]
  },
  {
   "cell_type": "code",
   "execution_count": 34,
   "metadata": {},
   "outputs": [
    {
     "data": {
      "text/plain": [
       "(100,)"
      ]
     },
     "execution_count": 34,
     "metadata": {},
     "output_type": "execute_result"
    }
   ],
   "source": [
    "test.shape"
   ]
  },
  {
   "cell_type": "code",
   "execution_count": 35,
   "metadata": {},
   "outputs": [
    {
     "data": {
      "text/plain": [
       "(100,)"
      ]
     },
     "execution_count": 35,
     "metadata": {},
     "output_type": "execute_result"
    }
   ],
   "source": [
    "final_forecast.shape"
   ]
  },
  {
   "cell_type": "code",
   "execution_count": 36,
   "metadata": {},
   "outputs": [
    {
     "data": {
      "text/plain": [
       "(100,)"
      ]
     },
     "execution_count": 36,
     "metadata": {},
     "output_type": "execute_result"
    }
   ],
   "source": [
    "test.shape"
   ]
  },
  {
   "cell_type": "code",
   "execution_count": 37,
   "metadata": {},
   "outputs": [
    {
     "name": "stdout",
     "output_type": "stream",
     "text": [
      "28.533692122684368\n",
      "14.910212323001744\n"
     ]
    }
   ],
   "source": [
    "import math\n",
    "MSE = np.square(np.subtract(np.array(test),np.array(final_forecast))).mean()   \n",
    "rsme = math.sqrt(MSE)\n",
    "print(rsme)  \n",
    "MAE = np.abs(np.subtract(np.array(test),np.array(final_forecast))).mean()   \n",
    "mae = MAE\n",
    "print(mae)"
   ]
  }
 ],
 "metadata": {
  "colab": {
   "provenance": []
  },
  "kernelspec": {
   "display_name": "Python 3",
   "language": "python",
   "name": "python3"
  },
  "language_info": {
   "codemirror_mode": {
    "name": "ipython",
    "version": 3
   },
   "file_extension": ".py",
   "mimetype": "text/x-python",
   "name": "python",
   "nbconvert_exporter": "python",
   "pygments_lexer": "ipython3",
   "version": "3.9.13"
  }
 },
 "nbformat": 4,
 "nbformat_minor": 0
}
