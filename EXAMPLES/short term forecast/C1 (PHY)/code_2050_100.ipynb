{
 "cells": [
  {
   "cell_type": "markdown",
   "metadata": {
    "id": "pCGKeZ2gyuoQ"
   },
   "source": [
    "_Importing Required Libraries_"
   ]
  },
  {
   "cell_type": "code",
   "execution_count": 1,
   "metadata": {
    "colab": {
     "base_uri": "https://localhost:8080/"
    },
    "id": "A-6LN-zXiLcM",
    "outputId": "4de610a4-f8b8-4f49-c6c0-89de299ccedc"
   },
   "outputs": [
    {
     "name": "stdout",
     "output_type": "stream",
     "text": [
      "Requirement already satisfied: hampel in c:\\users\\anurag dutta\\appdata\\local\\packages\\pythonsoftwarefoundation.python.3.9_qbz5n2kfra8p0\\localcache\\local-packages\\python39\\site-packages (0.0.5)\n",
      "Requirement already satisfied: numpy in c:\\users\\anurag dutta\\appdata\\local\\packages\\pythonsoftwarefoundation.python.3.9_qbz5n2kfra8p0\\localcache\\local-packages\\python39\\site-packages (from hampel) (1.26.4)\n",
      "Requirement already satisfied: pandas in c:\\users\\anurag dutta\\appdata\\local\\packages\\pythonsoftwarefoundation.python.3.9_qbz5n2kfra8p0\\localcache\\local-packages\\python39\\site-packages (from hampel) (1.5.2)\n",
      "Requirement already satisfied: python-dateutil>=2.8.1 in c:\\users\\anurag dutta\\appdata\\local\\packages\\pythonsoftwarefoundation.python.3.9_qbz5n2kfra8p0\\localcache\\local-packages\\python39\\site-packages (from pandas->hampel) (2.8.2)\n",
      "Requirement already satisfied: pytz>=2020.1 in c:\\users\\anurag dutta\\appdata\\local\\packages\\pythonsoftwarefoundation.python.3.9_qbz5n2kfra8p0\\localcache\\local-packages\\python39\\site-packages (from pandas->hampel) (2023.3.post1)\n",
      "Requirement already satisfied: six>=1.5 in c:\\users\\anurag dutta\\appdata\\local\\packages\\pythonsoftwarefoundation.python.3.9_qbz5n2kfra8p0\\localcache\\local-packages\\python39\\site-packages (from python-dateutil>=2.8.1->pandas->hampel) (1.16.0)\n",
      "Note: you may need to restart the kernel to use updated packages.\n"
     ]
    },
    {
     "name": "stderr",
     "output_type": "stream",
     "text": [
      "\n",
      "[notice] A new release of pip is available: 24.2 -> 24.3.1\n",
      "[notice] To update, run: C:\\Users\\Anurag Dutta\\AppData\\Local\\Microsoft\\WindowsApps\\PythonSoftwareFoundation.Python.3.9_qbz5n2kfra8p0\\python.exe -m pip install --upgrade pip\n"
     ]
    }
   ],
   "source": [
    "pip install hampel"
   ]
  },
  {
   "cell_type": "code",
   "execution_count": 2,
   "metadata": {
    "id": "By_d9uXpaFvZ"
   },
   "outputs": [],
   "source": [
    "from keras.models import Sequential\n",
    "from keras.layers import Dense\n",
    "from keras.layers import LSTM\n",
    "from keras.layers import Dropout\n",
    "import keras\n",
    "import tensorflow as tf\n",
    "from hampel import hampel\n",
    "import numpy as np\n",
    "import matplotlib.pyplot as plt\n",
    "import pandas as pd\n",
    "from sklearn.preprocessing import MinMaxScaler\n",
    "from sklearn.metrics import mean_squared_error, mean_absolute_error\n",
    "from math import sqrt\n",
    "from matplotlib import pyplot\n",
    "from numpy import array"
   ]
  },
  {
   "cell_type": "markdown",
   "metadata": {
    "id": "JyOjBMFayuoR"
   },
   "source": [
    "## Pretraining"
   ]
  },
  {
   "cell_type": "markdown",
   "metadata": {
    "id": "-5QqIY_GyuoR"
   },
   "source": [
    "The `capa_intermittency.dat` feeds the model with the dynamics of the Capacitor"
   ]
  },
  {
   "cell_type": "code",
   "execution_count": 3,
   "metadata": {
    "id": "9dV4a8yfyuoR"
   },
   "outputs": [],
   "source": [
    "data = np.genfromtxt('capa_intermittency.dat')\n",
    "training_set = pd.DataFrame(data).reset_index(drop=True)\n",
    "training_set = training_set.iloc[:,0]"
   ]
  },
  {
   "cell_type": "markdown",
   "metadata": {
    "id": "i7easoxByuoR"
   },
   "source": [
    "## Computing the Gradient"
   ]
  },
  {
   "cell_type": "markdown",
   "metadata": {
    "id": "5SnyolJTyuoR"
   },
   "source": [
    "_Calculating the value of_ $\\frac{dx}{dt}$"
   ]
  },
  {
   "cell_type": "code",
   "execution_count": 4,
   "metadata": {
    "colab": {
     "base_uri": "https://localhost:8080/"
    },
    "id": "wmIbVfIvyuoR",
    "outputId": "aa4e3136-c854-465d-d2e9-81cfd546e440"
   },
   "outputs": [
    {
     "name": "stdout",
     "output_type": "stream",
     "text": [
      "1.0\n",
      "1        0.000298\n",
      "2        0.000298\n",
      "3        0.000297\n",
      "4        0.000297\n",
      "5        0.000297\n",
      "           ...   \n",
      "9996     0.000018\n",
      "9997     0.000018\n",
      "9998     0.000018\n",
      "9999     0.000018\n",
      "10000    0.000018\n",
      "Name: 0, Length: 10000, dtype: float64\n"
     ]
    }
   ],
   "source": [
    "t_diff = 1\n",
    "print(training_set.max())\n",
    "gradient_t = (training_set.diff()/t_diff).iloc[1:] # dx/dt\n",
    "print(gradient_t)"
   ]
  },
  {
   "cell_type": "markdown",
   "metadata": {
    "id": "_2eVeeoxyuoS"
   },
   "source": [
    "## Loading Datasets"
   ]
  },
  {
   "cell_type": "code",
   "execution_count": 5,
   "metadata": {
    "id": "0J-NKyIEyuoS"
   },
   "outputs": [
    {
     "data": {
      "text/plain": [
       "0       89.200000\n",
       "1       88.931092\n",
       "2       88.662185\n",
       "3       88.393277\n",
       "4       88.124370\n",
       "          ...    \n",
       "2145    55.295716\n",
       "2146    55.286971\n",
       "2147    55.278226\n",
       "2148    55.269481\n",
       "2149    55.260736\n",
       "Name: C1, Length: 2150, dtype: float64"
      ]
     },
     "execution_count": 5,
     "metadata": {},
     "output_type": "execute_result"
    }
   ],
   "source": [
    "data = pd.read_csv(\"c1_interpolated_2050_100.csv\")\n",
    "training_set = data.iloc[:, 1]\n",
    "training_set"
   ]
  },
  {
   "cell_type": "code",
   "execution_count": 6,
   "metadata": {
    "colab": {
     "base_uri": "https://localhost:8080/"
    },
    "id": "-CbNUhJ74UqF",
    "outputId": "20f562d8-8247-49cc-b9c3-00eca5e13e2d"
   },
   "outputs": [
    {
     "data": {
      "text/plain": [
       "0       89.200000\n",
       "1       88.931092\n",
       "2       88.662185\n",
       "3       88.393277\n",
       "4       88.124370\n",
       "          ...    \n",
       "2045     0.279980\n",
       "2046     0.000000\n",
       "2047     0.253562\n",
       "2048     0.000000\n",
       "2049     0.000000\n",
       "Name: C1, Length: 2050, dtype: float64"
      ]
     },
     "execution_count": 6,
     "metadata": {},
     "output_type": "execute_result"
    }
   ],
   "source": [
    "test = training_set.tail(100)\n",
    "test\n",
    "training_set = training_set.head(2050)\n",
    "training_set"
   ]
  },
  {
   "cell_type": "code",
   "execution_count": 7,
   "metadata": {
    "colab": {
     "base_uri": "https://localhost:8080/"
    },
    "id": "X0TwTcq0yuoS",
    "outputId": "37252ed8-d88e-4044-fa7a-922411990b5b"
   },
   "outputs": [
    {
     "name": "stdout",
     "output_type": "stream",
     "text": [
      "0       0.000298\n",
      "1       0.000298\n",
      "2       0.000297\n",
      "3       0.000297\n",
      "4       0.000297\n",
      "          ...   \n",
      "9995    0.000018\n",
      "9996    0.000018\n",
      "9997    0.000018\n",
      "9998    0.000018\n",
      "9999    0.000018\n",
      "Name: 0, Length: 10000, dtype: float64\n"
     ]
    }
   ],
   "source": [
    "training_set = training_set.reset_index(drop=True)\n",
    "gradient_t = gradient_t.reset_index(drop=True)\n",
    "print(gradient_t)"
   ]
  },
  {
   "cell_type": "code",
   "execution_count": 8,
   "metadata": {
    "id": "O2biznZQyuoS"
   },
   "outputs": [],
   "source": [
    "df = pd.concat((training_set, gradient_t), axis=1)\n",
    "df.columns = ['y_t', 'grad_t']"
   ]
  },
  {
   "cell_type": "code",
   "execution_count": 9,
   "metadata": {
    "colab": {
     "base_uri": "https://localhost:8080/",
     "height": 423
    },
    "id": "sk_a5v3tyuoS",
    "outputId": "17563625-e550-45ae-faab-fafa353e44da"
   },
   "outputs": [
    {
     "data": {
      "text/html": [
       "<div>\n",
       "<style scoped>\n",
       "    .dataframe tbody tr th:only-of-type {\n",
       "        vertical-align: middle;\n",
       "    }\n",
       "\n",
       "    .dataframe tbody tr th {\n",
       "        vertical-align: top;\n",
       "    }\n",
       "\n",
       "    .dataframe thead th {\n",
       "        text-align: right;\n",
       "    }\n",
       "</style>\n",
       "<table border=\"1\" class=\"dataframe\">\n",
       "  <thead>\n",
       "    <tr style=\"text-align: right;\">\n",
       "      <th></th>\n",
       "      <th>y_t</th>\n",
       "      <th>grad_t</th>\n",
       "    </tr>\n",
       "  </thead>\n",
       "  <tbody>\n",
       "    <tr>\n",
       "      <th>0</th>\n",
       "      <td>89.200000</td>\n",
       "      <td>0.000298</td>\n",
       "    </tr>\n",
       "    <tr>\n",
       "      <th>1</th>\n",
       "      <td>88.931092</td>\n",
       "      <td>0.000298</td>\n",
       "    </tr>\n",
       "    <tr>\n",
       "      <th>2</th>\n",
       "      <td>88.662185</td>\n",
       "      <td>0.000297</td>\n",
       "    </tr>\n",
       "    <tr>\n",
       "      <th>3</th>\n",
       "      <td>88.393277</td>\n",
       "      <td>0.000297</td>\n",
       "    </tr>\n",
       "    <tr>\n",
       "      <th>4</th>\n",
       "      <td>88.124370</td>\n",
       "      <td>0.000297</td>\n",
       "    </tr>\n",
       "    <tr>\n",
       "      <th>...</th>\n",
       "      <td>...</td>\n",
       "      <td>...</td>\n",
       "    </tr>\n",
       "    <tr>\n",
       "      <th>9995</th>\n",
       "      <td>NaN</td>\n",
       "      <td>0.000018</td>\n",
       "    </tr>\n",
       "    <tr>\n",
       "      <th>9996</th>\n",
       "      <td>NaN</td>\n",
       "      <td>0.000018</td>\n",
       "    </tr>\n",
       "    <tr>\n",
       "      <th>9997</th>\n",
       "      <td>NaN</td>\n",
       "      <td>0.000018</td>\n",
       "    </tr>\n",
       "    <tr>\n",
       "      <th>9998</th>\n",
       "      <td>NaN</td>\n",
       "      <td>0.000018</td>\n",
       "    </tr>\n",
       "    <tr>\n",
       "      <th>9999</th>\n",
       "      <td>NaN</td>\n",
       "      <td>0.000018</td>\n",
       "    </tr>\n",
       "  </tbody>\n",
       "</table>\n",
       "<p>10000 rows × 2 columns</p>\n",
       "</div>"
      ],
      "text/plain": [
       "            y_t    grad_t\n",
       "0     89.200000  0.000298\n",
       "1     88.931092  0.000298\n",
       "2     88.662185  0.000297\n",
       "3     88.393277  0.000297\n",
       "4     88.124370  0.000297\n",
       "...         ...       ...\n",
       "9995        NaN  0.000018\n",
       "9996        NaN  0.000018\n",
       "9997        NaN  0.000018\n",
       "9998        NaN  0.000018\n",
       "9999        NaN  0.000018\n",
       "\n",
       "[10000 rows x 2 columns]"
      ]
     },
     "execution_count": 9,
     "metadata": {},
     "output_type": "execute_result"
    }
   ],
   "source": [
    "df"
   ]
  },
  {
   "cell_type": "markdown",
   "metadata": {
    "id": "-5esyHu5aFvg"
   },
   "source": [
    "## Plot of the External Forcing from Chaotic Differential Equation"
   ]
  },
  {
   "cell_type": "code",
   "execution_count": 10,
   "metadata": {
    "colab": {
     "base_uri": "https://localhost:8080/",
     "height": 447
    },
    "id": "hGnE43tOh-4p",
    "outputId": "fc396503-b624-4fa5-dfbe-f460207405c6"
   },
   "outputs": [
    {
     "data": {
      "text/plain": [
       "<Axes: >"
      ]
     },
     "execution_count": 10,
     "metadata": {},
     "output_type": "execute_result"
    },
    {
     "data": {
      "image/png": "[encoded data removed]",
      "text/plain": [
       "<Figure size 432x288 with 1 Axes>"
      ]
     },
     "metadata": {
      "needs_background": "light"
     },
     "output_type": "display_data"
    }
   ],
   "source": [
    "df.iloc[:, 0].plot()"
   ]
  },
  {
   "cell_type": "code",
   "execution_count": 11,
   "metadata": {
    "colab": {
     "base_uri": "https://localhost:8080/",
     "height": 447
    },
    "id": "ym4xWUUxaFvg",
    "outputId": "ae6a3495-8ce9-437e-ba81-3ed31deedeae"
   },
   "outputs": [
    {
     "name": "stderr",
     "output_type": "stream",
     "text": [
      "C:\\Users\\Anurag Dutta\\AppData\\Local\\Packages\\PythonSoftwareFoundation.Python.3.9_qbz5n2kfra8p0\\LocalCache\\local-packages\\Python39\\site-packages\\pandas\\core\\arraylike.py:402: RuntimeWarning: divide by zero encountered in log\n",
      "  result = getattr(ufunc, method)(*inputs, **kwargs)\n"
     ]
    },
    {
     "data": {
      "text/plain": [
       "<Axes: >"
      ]
     },
     "execution_count": 11,
     "metadata": {},
     "output_type": "execute_result"
    },
    {
     "data": {
      "image/png": "[encoded data removed]",
      "text/plain": [
       "<Figure size 432x288 with 1 Axes>"
      ]
     },
     "metadata": {
      "needs_background": "light"
     },
     "output_type": "display_data"
    }
   ],
   "source": [
    "import numpy as np\n",
    "c0 = 86.6465  # Value for C0\n",
    "K0 = -0.0029  # Value for K0\n",
    "K1 = -0.0003  # Value for K1\n",
    "a = 0.0000    # Value for a\n",
    "b = 0.0168    # Value for b\n",
    "c = 2.3581    # Value for c\n",
    "\n",
    "L = np.minimum(c0, (df.iloc[:, 1] - (df.iloc[:, 0] * (K0 - K1 * (9 * a * np.log(df.iloc[:, 0] / c0) / (K0 - K1 * c)**2 + 4 * b * np.log(df.iloc[:, 0] / c0) / (K0 - K1 * c) + c)))))\n",
    "L.plot()"
   ]
  },
  {
   "cell_type": "markdown",
   "metadata": {
    "id": "9VyEywnwaFvh"
   },
   "source": [
    "## Preprocessing the data into supervised learning"
   ]
  },
  {
   "cell_type": "code",
   "execution_count": 12,
   "metadata": {
    "id": "6V9dXqzdaFvh"
   },
   "outputs": [],
   "source": [
    "# split a sequence into samples\n",
    "def Supervised(data, n_in=1, n_out=1, dropnan=True):\n",
    "    n_vars = 1 if type(data) is list else data.shape[1]\n",
    "    df = pd.DataFrame(data)\n",
    "    cols, names = list(), list()\n",
    "    # input sequence (t-n_in, ... t-1)\n",
    "    for i in range(n_in, 0, -1):\n",
    "        cols.append(df.shift(i))\n",
    "        names += [('var%d(t-%d)' % (j+1, i)) for j in range(n_vars)]\n",
    "    # forecast sequence (t, t+1, ... t+n_out)\n",
    "    for i in range(0, n_out):\n",
    "      cols.append(df.shift(-i))\n",
    "      if i == 0:\n",
    "        names += [('var%d(t)' % (j+1)) for j in range(n_vars)]\n",
    "      else:\n",
    "        names += [('var%d(t+%d)' % (j+1, i)) for j in range(n_vars)]\n",
    "    # put it all together\n",
    "    agg = pd.concat(cols, axis=1)\n",
    "    agg.columns = names\n",
    "    # drop rows with NaN values\n",
    "    if dropnan:\n",
    "       agg.dropna(inplace=True)\n",
    "    return agg"
   ]
  },
  {
   "cell_type": "code",
   "execution_count": 13,
   "metadata": {
    "colab": {
     "base_uri": "https://localhost:8080/"
    },
    "id": "CrzSrT1HnyfH",
    "outputId": "7e75f928-3e47-499d-eac1-51908015ef78"
   },
   "outputs": [
    {
     "name": "stdout",
     "output_type": "stream",
     "text": [
      "     var1(t-350)  var1(t-349)  var1(t-348)  var1(t-347)  var1(t-346)  \\\n",
      "350    89.200000    88.931092    88.662185    88.393277    88.124370   \n",
      "351    88.931092    88.662185    88.393277    88.124370    87.855462   \n",
      "352    88.662185    88.393277    88.124370    87.855462    87.586555   \n",
      "353    88.393277    88.124370    87.855462    87.586555    87.317647   \n",
      "354    88.124370    87.855462    87.586555    87.317647    87.048739   \n",
      "\n",
      "     var1(t-345)  var1(t-344)  var1(t-343)  var1(t-342)  var1(t-341)  ...  \\\n",
      "350    87.855462    87.586555    87.317647    87.048739    86.794538  ...   \n",
      "351    87.586555    87.317647    87.048739    86.794538    86.721709  ...   \n",
      "352    87.317647    87.048739    86.794538    86.721709    86.648880  ...   \n",
      "353    87.048739    86.794538    86.721709    86.648880    86.576050  ...   \n",
      "354    86.794538    86.721709    86.648880    86.576050    86.503221  ...   \n",
      "\n",
      "     var1(t+95)  var2(t+95)  var1(t+96)  var2(t+96)  var1(t+97)  var2(t+97)  \\\n",
      "350   73.989683    0.000263   73.957937    0.000263   73.926190    0.000263   \n",
      "351   73.957937    0.000263   73.926190    0.000263   73.894444    0.000262   \n",
      "352   73.926190    0.000263   73.894444    0.000262   73.862698    0.000262   \n",
      "353   73.894444    0.000262   73.862698    0.000262   73.830952    0.000262   \n",
      "354   73.862698    0.000262   73.830952    0.000262   73.799206    0.000262   \n",
      "\n",
      "     var1(t+98)  var2(t+98)  var1(t+99)  var2(t+99)  \n",
      "350   73.894444    0.000262   73.862698    0.000262  \n",
      "351   73.862698    0.000262   73.830952    0.000262  \n",
      "352   73.830952    0.000262   73.799206    0.000262  \n",
      "353   73.799206    0.000262   73.767460    0.000262  \n",
      "354   73.767460    0.000262   73.735714    0.000262  \n",
      "\n",
      "[5 rows x 551 columns]\n",
      "Index(['var1(t-350)', 'var1(t-349)', 'var1(t-348)', 'var1(t-347)',\n",
      "       'var1(t-346)', 'var1(t-345)', 'var1(t-344)', 'var1(t-343)',\n",
      "       'var1(t-342)', 'var1(t-341)',\n",
      "       ...\n",
      "       'var1(t+95)', 'var2(t+95)', 'var1(t+96)', 'var2(t+96)', 'var1(t+97)',\n",
      "       'var2(t+97)', 'var1(t+98)', 'var2(t+98)', 'var1(t+99)', 'var2(t+99)'],\n",
      "      dtype='object', length=551)\n"
     ]
    }
   ],
   "source": [
    "data = Supervised(df.values, n_in = 350, n_out = 100)\n",
    "\n",
    "\n",
    "cols_to_drop = []\n",
    "for i in range(2, 351):\n",
    "    cols_to_drop.extend([f'var2(t-{i})'])\n",
    "\n",
    "data.drop(cols_to_drop, axis=1, inplace=True)\n",
    "\n",
    "print(data.head())\n",
    "print(data.columns)"
   ]
  },
  {
   "cell_type": "code",
   "execution_count": 14,
   "metadata": {
    "id": "AfPf60oy6Pe4"
   },
   "outputs": [],
   "source": [
    "train = np.array(data[0:len(data)-1])\n",
    "forecast = np.array(data.tail(1))"
   ]
  },
  {
   "cell_type": "code",
   "execution_count": 15,
   "metadata": {
    "id": "WSAafzI37KiT"
   },
   "outputs": [],
   "source": [
    "trainy = train[:,-300:]\n",
    "trainX = train[:,:-300]"
   ]
  },
  {
   "cell_type": "code",
   "execution_count": 16,
   "metadata": {
    "id": "2SrOqVJA7f50"
   },
   "outputs": [],
   "source": [
    "forecasty = forecast[:,-300:]\n",
    "forecastX = forecast[:,:-300]"
   ]
  },
  {
   "cell_type": "code",
   "execution_count": 17,
   "metadata": {
    "colab": {
     "base_uri": "https://localhost:8080/"
    },
    "id": "Qno_k8Nw7saY",
    "outputId": "c4a88db5-d8c6-489f-cdb2-06b24e293cff"
   },
   "outputs": [
    {
     "name": "stdout",
     "output_type": "stream",
     "text": [
      "(1600, 1, 251) (1600, 300) (1, 1, 251)\n"
     ]
    }
   ],
   "source": [
    "trainX = trainX.reshape((trainX.shape[0], 1, trainX.shape[1]))\n",
    "forecastX = forecastX.reshape((forecastX.shape[0], 1, forecastX.shape[1]))\n",
    "print(trainX.shape, trainy.shape, forecastX.shape)"
   ]
  },
  {
   "cell_type": "code",
   "execution_count": 18,
   "metadata": {
    "colab": {
     "base_uri": "https://localhost:8080/"
    },
    "id": "b1Jp2DvNuNFx",
    "outputId": "d0e5b3c4-64f1-438c-eade-8dfeaac8e285"
   },
   "outputs": [
    {
     "name": "stdout",
     "output_type": "stream",
     "text": [
      "Epoch 1/500\n",
      "20/20 [==============================] - 2s 28ms/step - loss: 4478.4438 - val_loss: 3396.2629\n",
      "Epoch 2/500\n",
      "20/20 [==============================] - 0s 4ms/step - loss: 4391.7153 - val_loss: 3350.0559\n",
      "Epoch 3/500\n",
      "20/20 [==============================] - 0s 3ms/step - loss: 4337.5415 - val_loss: 3287.2742\n",
      "Epoch 4/500\n",
      "20/20 [==============================] - 0s 4ms/step - loss: 4261.0601 - val_loss: 3235.4734\n",
      "Epoch 5/500\n",
      "20/20 [==============================] - 0s 3ms/step - loss: 4198.6655 - val_loss: 3182.2915\n",
      "Epoch 6/500\n",
      "20/20 [==============================] - 0s 4ms/step - loss: 4128.3120 - val_loss: 3119.7837\n",
      "Epoch 7/500\n",
      "20/20 [==============================] - 0s 4ms/step - loss: 4061.8020 - val_loss: 3066.1938\n",
      "Epoch 8/500\n",
      "20/20 [==============================] - 0s 3ms/step - loss: 3999.2583 - val_loss: 3014.1558\n",
      "Epoch 9/500\n",
      "20/20 [==============================] - 0s 4ms/step - loss: 3938.2729 - val_loss: 2963.3320\n",
      "Epoch 10/500\n",
      "20/20 [==============================] - 0s 3ms/step - loss: 3878.5164 - val_loss: 2913.5117\n",
      "Epoch 11/500\n",
      "20/20 [==============================] - 0s 3ms/step - loss: 3819.7925 - val_loss: 2864.5706\n",
      "Epoch 12/500\n",
      "20/20 [==============================] - 0s 4ms/step - loss: 3761.9851 - val_loss: 2816.4321\n",
      "Epoch 13/500\n",
      "20/20 [==============================] - 0s 3ms/step - loss: 3705.0200 - val_loss: 2769.0442\n",
      "Epoch 14/500\n",
      "20/20 [==============================] - 0s 4ms/step - loss: 3648.8438 - val_loss: 2722.3687\n",
      "Epoch 15/500\n",
      "20/20 [==============================] - 0s 3ms/step - loss: 3593.4185 - val_loss: 2676.3774\n",
      "Epoch 16/500\n",
      "20/20 [==============================] - 0s 3ms/step - loss: 3538.7161 - val_loss: 2631.0474\n",
      "Epoch 17/500\n",
      "20/20 [==============================] - 0s 4ms/step - loss: 3484.7117 - val_loss: 2586.3599\n",
      "Epoch 18/500\n",
      "20/20 [==============================] - 0s 4ms/step - loss: 3431.3879 - val_loss: 2542.3000\n",
      "Epoch 19/500\n",
      "20/20 [==============================] - 0s 5ms/step - loss: 3378.7261 - val_loss: 2498.8540\n",
      "Epoch 20/500\n",
      "20/20 [==============================] - 0s 4ms/step - loss: 3326.7144 - val_loss: 2456.0103\n",
      "Epoch 21/500\n",
      "20/20 [==============================] - 0s 4ms/step - loss: 3275.3394 - val_loss: 2413.7583\n",
      "Epoch 22/500\n",
      "20/20 [==============================] - 0s 6ms/step - loss: 3224.5908 - val_loss: 2372.0884\n",
      "Epoch 23/500\n",
      "20/20 [==============================] - 0s 3ms/step - loss: 3174.4578 - val_loss: 2330.9917\n",
      "Epoch 24/500\n",
      "20/20 [==============================] - 0s 4ms/step - loss: 3124.9326 - val_loss: 2290.4614\n",
      "Epoch 25/500\n",
      "20/20 [==============================] - 0s 3ms/step - loss: 3076.0054 - val_loss: 2250.4885\n",
      "Epoch 26/500\n",
      "20/20 [==============================] - 0s 3ms/step - loss: 3027.6692 - val_loss: 2211.0664\n",
      "Epoch 27/500\n",
      "20/20 [==============================] - 0s 4ms/step - loss: 2979.9163 - val_loss: 2172.1885\n",
      "Epoch 28/500\n",
      "20/20 [==============================] - 0s 6ms/step - loss: 2932.7395 - val_loss: 2133.8481\n",
      "Epoch 29/500\n",
      "20/20 [==============================] - 0s 5ms/step - loss: 2886.1326 - val_loss: 2096.0400\n",
      "Epoch 30/500\n",
      "20/20 [==============================] - 0s 4ms/step - loss: 2840.0898 - val_loss: 2058.7571\n",
      "Epoch 31/500\n",
      "20/20 [==============================] - 0s 4ms/step - loss: 2794.6040 - val_loss: 2021.9941\n",
      "Epoch 32/500\n",
      "20/20 [==============================] - 0s 4ms/step - loss: 2749.6694 - val_loss: 1985.7458\n",
      "Epoch 33/500\n",
      "20/20 [==============================] - 0s 7ms/step - loss: 2705.2810 - val_loss: 1950.0065\n",
      "Epoch 34/500\n",
      "20/20 [==============================] - 0s 4ms/step - loss: 2660.8750 - val_loss: 1909.5149\n",
      "Epoch 35/500\n",
      "20/20 [==============================] - 0s 3ms/step - loss: 2608.6790 - val_loss: 1869.4719\n",
      "Epoch 36/500\n",
      "20/20 [==============================] - 0s 3ms/step - loss: 2559.5889 - val_loss: 1830.7448\n",
      "Epoch 37/500\n",
      "20/20 [==============================] - 0s 4ms/step - loss: 2512.3013 - val_loss: 1793.4713\n",
      "Epoch 38/500\n",
      "20/20 [==============================] - 0s 3ms/step - loss: 2466.5066 - val_loss: 1757.3054\n",
      "Epoch 39/500\n",
      "20/20 [==============================] - 0s 3ms/step - loss: 2421.8652 - val_loss: 1722.0466\n",
      "Epoch 40/500\n",
      "20/20 [==============================] - 0s 4ms/step - loss: 2378.1855 - val_loss: 1687.5798\n",
      "Epoch 41/500\n",
      "20/20 [==============================] - 0s 4ms/step - loss: 2335.3528 - val_loss: 1653.8318\n",
      "Epoch 42/500\n",
      "20/20 [==============================] - 0s 4ms/step - loss: 2293.2927 - val_loss: 1620.7515\n",
      "Epoch 43/500\n",
      "20/20 [==============================] - 0s 3ms/step - loss: 2251.9514 - val_loss: 1588.3022\n",
      "Epoch 44/500\n",
      "20/20 [==============================] - 0s 5ms/step - loss: 2211.2917 - val_loss: 1556.4559\n",
      "Epoch 45/500\n",
      "20/20 [==============================] - 0s 4ms/step - loss: 2171.2820 - val_loss: 1525.1893\n",
      "Epoch 46/500\n",
      "20/20 [==============================] - 0s 4ms/step - loss: 2131.8979 - val_loss: 1494.4836\n",
      "Epoch 47/500\n",
      "20/20 [==============================] - 0s 3ms/step - loss: 2093.1196 - val_loss: 1464.3229\n",
      "Epoch 48/500\n",
      "20/20 [==============================] - 0s 3ms/step - loss: 2054.9290 - val_loss: 1434.6929\n",
      "Epoch 49/500\n",
      "20/20 [==============================] - 0s 4ms/step - loss: 2017.3112 - val_loss: 1405.5819\n",
      "Epoch 50/500\n",
      "20/20 [==============================] - 0s 4ms/step - loss: 1980.2537 - val_loss: 1376.9791\n",
      "Epoch 51/500\n",
      "20/20 [==============================] - 0s 3ms/step - loss: 1943.7448 - val_loss: 1348.8739\n",
      "Epoch 52/500\n",
      "20/20 [==============================] - 0s 3ms/step - loss: 1907.7731 - val_loss: 1321.2576\n",
      "Epoch 53/500\n",
      "20/20 [==============================] - 0s 3ms/step - loss: 1872.3285 - val_loss: 1294.1223\n",
      "Epoch 54/500\n",
      "20/20 [==============================] - 0s 3ms/step - loss: 1837.4036 - val_loss: 1267.4592\n",
      "Epoch 55/500\n",
      "20/20 [==============================] - 0s 3ms/step - loss: 1802.9890 - val_loss: 1241.2614\n",
      "Epoch 56/500\n",
      "20/20 [==============================] - 0s 3ms/step - loss: 1769.0769 - val_loss: 1215.5220\n",
      "Epoch 57/500\n",
      "20/20 [==============================] - 0s 4ms/step - loss: 1735.6602 - val_loss: 1190.2344\n",
      "Epoch 58/500\n",
      "20/20 [==============================] - 0s 4ms/step - loss: 1702.7318 - val_loss: 1165.3922\n",
      "Epoch 59/500\n",
      "20/20 [==============================] - 0s 4ms/step - loss: 1670.2855 - val_loss: 1140.9890\n",
      "Epoch 60/500\n",
      "20/20 [==============================] - 0s 3ms/step - loss: 1638.3145 - val_loss: 1117.0198\n",
      "Epoch 61/500\n",
      "20/20 [==============================] - 0s 4ms/step - loss: 1606.8125 - val_loss: 1093.4783\n",
      "Epoch 62/500\n",
      "20/20 [==============================] - 0s 3ms/step - loss: 1575.7740 - val_loss: 1070.3589\n",
      "Epoch 63/500\n",
      "20/20 [==============================] - 0s 3ms/step - loss: 1545.1932 - val_loss: 1047.6566\n",
      "Epoch 64/500\n",
      "20/20 [==============================] - 0s 3ms/step - loss: 1515.0648 - val_loss: 1025.3665\n",
      "Epoch 65/500\n",
      "20/20 [==============================] - 0s 3ms/step - loss: 1485.3832 - val_loss: 1003.4830\n",
      "Epoch 66/500\n",
      "20/20 [==============================] - 0s 4ms/step - loss: 1456.1436 - val_loss: 982.0015\n",
      "Epoch 67/500\n",
      "20/20 [==============================] - 0s 7ms/step - loss: 1427.3401 - val_loss: 960.9174\n",
      "Epoch 68/500\n",
      "20/20 [==============================] - 0s 3ms/step - loss: 1398.9689 - val_loss: 940.2256\n",
      "Epoch 69/500\n",
      "20/20 [==============================] - 0s 4ms/step - loss: 1371.0244 - val_loss: 919.9217\n",
      "Epoch 70/500\n",
      "20/20 [==============================] - 0s 4ms/step - loss: 1343.5022 - val_loss: 900.0008\n",
      "Epoch 71/500\n",
      "20/20 [==============================] - 0s 4ms/step - loss: 1316.3976 - val_loss: 880.4608\n",
      "Epoch 72/500\n",
      "20/20 [==============================] - 0s 4ms/step - loss: 1289.7061 - val_loss: 856.5834\n",
      "Epoch 73/500\n",
      "20/20 [==============================] - 0s 4ms/step - loss: 1254.7357 - val_loss: 834.0417\n",
      "Epoch 74/500\n",
      "20/20 [==============================] - 0s 3ms/step - loss: 1223.6257 - val_loss: 812.2923\n",
      "Epoch 75/500\n",
      "20/20 [==============================] - 0s 4ms/step - loss: 1193.9637 - val_loss: 791.6940\n",
      "Epoch 76/500\n",
      "20/20 [==============================] - 0s 3ms/step - loss: 1165.5895 - val_loss: 771.9726\n",
      "Epoch 77/500\n",
      "20/20 [==============================] - 0s 4ms/step - loss: 1138.1978 - val_loss: 752.9627\n",
      "Epoch 78/500\n",
      "20/20 [==============================] - 0s 5ms/step - loss: 1111.6123 - val_loss: 734.5687\n",
      "Epoch 79/500\n",
      "20/20 [==============================] - 0s 4ms/step - loss: 1085.7281 - val_loss: 716.7303\n",
      "Epoch 80/500\n",
      "20/20 [==============================] - 0s 4ms/step - loss: 1060.4764 - val_loss: 699.4032\n",
      "Epoch 81/500\n",
      "20/20 [==============================] - 0s 3ms/step - loss: 1035.8082 - val_loss: 682.5568\n",
      "Epoch 82/500\n",
      "20/20 [==============================] - 0s 3ms/step - loss: 1011.6878 - val_loss: 666.1672\n",
      "Epoch 83/500\n",
      "20/20 [==============================] - 0s 3ms/step - loss: 988.0861 - val_loss: 650.2136\n",
      "Epoch 84/500\n",
      "20/20 [==============================] - 0s 3ms/step - loss: 964.9808 - val_loss: 634.6805\n",
      "Epoch 85/500\n",
      "20/20 [==============================] - 0s 4ms/step - loss: 942.3527 - val_loss: 619.5527\n",
      "Epoch 86/500\n",
      "20/20 [==============================] - 0s 3ms/step - loss: 920.1854 - val_loss: 604.8181\n",
      "Epoch 87/500\n",
      "20/20 [==============================] - 0s 3ms/step - loss: 898.4648 - val_loss: 590.4662\n",
      "Epoch 88/500\n",
      "20/20 [==============================] - 0s 4ms/step - loss: 877.1781 - val_loss: 576.4866\n",
      "Epoch 89/500\n",
      "20/20 [==============================] - 0s 3ms/step - loss: 856.3146 - val_loss: 562.8711\n",
      "Epoch 90/500\n",
      "20/20 [==============================] - 0s 3ms/step - loss: 835.8644 - val_loss: 549.6097\n",
      "Epoch 91/500\n",
      "20/20 [==============================] - 0s 3ms/step - loss: 815.8168 - val_loss: 536.6960\n",
      "Epoch 92/500\n",
      "20/20 [==============================] - 0s 4ms/step - loss: 796.1640 - val_loss: 524.1228\n",
      "Epoch 93/500\n",
      "20/20 [==============================] - 0s 3ms/step - loss: 776.8982 - val_loss: 511.8821\n",
      "Epoch 94/500\n",
      "20/20 [==============================] - 0s 4ms/step - loss: 758.0116 - val_loss: 499.9675\n",
      "Epoch 95/500\n",
      "20/20 [==============================] - 0s 3ms/step - loss: 739.4971 - val_loss: 488.3739\n",
      "Epoch 96/500\n",
      "20/20 [==============================] - 0s 3ms/step - loss: 721.3480 - val_loss: 477.0943\n",
      "Epoch 97/500\n",
      "20/20 [==============================] - 0s 4ms/step - loss: 703.5580 - val_loss: 466.1229\n",
      "Epoch 98/500\n",
      "20/20 [==============================] - 0s 3ms/step - loss: 686.1210 - val_loss: 455.4550\n",
      "Epoch 99/500\n",
      "20/20 [==============================] - 0s 3ms/step - loss: 669.0309 - val_loss: 445.0849\n",
      "Epoch 100/500\n",
      "20/20 [==============================] - 0s 3ms/step - loss: 652.2820 - val_loss: 435.0067\n",
      "Epoch 101/500\n",
      "20/20 [==============================] - 0s 3ms/step - loss: 635.8689 - val_loss: 425.2157\n",
      "Epoch 102/500\n",
      "20/20 [==============================] - 0s 3ms/step - loss: 619.7863 - val_loss: 415.7072\n",
      "Epoch 103/500\n",
      "20/20 [==============================] - 0s 8ms/step - loss: 601.3864 - val_loss: 401.5652\n",
      "Epoch 104/500\n",
      "20/20 [==============================] - 0s 3ms/step - loss: 579.4015 - val_loss: 390.0811\n",
      "Epoch 105/500\n",
      "20/20 [==============================] - 0s 3ms/step - loss: 560.8180 - val_loss: 379.5489\n",
      "Epoch 106/500\n",
      "20/20 [==============================] - 0s 4ms/step - loss: 543.4265 - val_loss: 369.7490\n",
      "Epoch 107/500\n",
      "20/20 [==============================] - 0s 3ms/step - loss: 526.9176 - val_loss: 360.5150\n",
      "Epoch 108/500\n",
      "20/20 [==============================] - 0s 3ms/step - loss: 511.0986 - val_loss: 351.7538\n",
      "Epoch 109/500\n",
      "20/20 [==============================] - 0s 3ms/step - loss: 495.8596 - val_loss: 343.4083\n",
      "Epoch 110/500\n",
      "20/20 [==============================] - 0s 4ms/step - loss: 481.1324 - val_loss: 335.4406\n",
      "Epoch 111/500\n",
      "20/20 [==============================] - 0s 3ms/step - loss: 466.8701 - val_loss: 327.8227\n",
      "Epoch 112/500\n",
      "20/20 [==============================] - 0s 5ms/step - loss: 453.0384 - val_loss: 320.5330\n",
      "Epoch 113/500\n",
      "20/20 [==============================] - 0s 4ms/step - loss: 439.6109 - val_loss: 313.5546\n",
      "Epoch 114/500\n",
      "20/20 [==============================] - 0s 4ms/step - loss: 426.5666 - val_loss: 306.8727\n",
      "Epoch 115/500\n",
      "20/20 [==============================] - 0s 3ms/step - loss: 413.8875 - val_loss: 300.4745\n",
      "Epoch 116/500\n",
      "20/20 [==============================] - 0s 3ms/step - loss: 401.5583 - val_loss: 294.3494\n",
      "Epoch 117/500\n",
      "20/20 [==============================] - 0s 4ms/step - loss: 389.5662 - val_loss: 288.4878\n",
      "Epoch 118/500\n",
      "20/20 [==============================] - 0s 4ms/step - loss: 377.8994 - val_loss: 282.8801\n",
      "Epoch 119/500\n",
      "20/20 [==============================] - 0s 3ms/step - loss: 366.5476 - val_loss: 277.5185\n",
      "Epoch 120/500\n",
      "20/20 [==============================] - 0s 5ms/step - loss: 355.5010 - val_loss: 272.3952\n",
      "Epoch 121/500\n",
      "20/20 [==============================] - 0s 4ms/step - loss: 344.7509 - val_loss: 267.5031\n",
      "Epoch 122/500\n",
      "20/20 [==============================] - 0s 4ms/step - loss: 334.2893 - val_loss: 262.8356\n",
      "Epoch 123/500\n",
      "20/20 [==============================] - 0s 4ms/step - loss: 324.1085 - val_loss: 258.3860\n",
      "Epoch 124/500\n",
      "20/20 [==============================] - 0s 3ms/step - loss: 314.2013 - val_loss: 254.1485\n",
      "Epoch 125/500\n",
      "20/20 [==============================] - 0s 3ms/step - loss: 304.5610 - val_loss: 250.1170\n",
      "Epoch 126/500\n",
      "20/20 [==============================] - 0s 3ms/step - loss: 295.1811 - val_loss: 246.2863\n",
      "Epoch 127/500\n",
      "20/20 [==============================] - 0s 4ms/step - loss: 286.0553 - val_loss: 242.6501\n",
      "Epoch 128/500\n",
      "20/20 [==============================] - 0s 4ms/step - loss: 277.1781 - val_loss: 239.2042\n",
      "Epoch 129/500\n",
      "20/20 [==============================] - 0s 4ms/step - loss: 268.5435 - val_loss: 235.9427\n",
      "Epoch 130/500\n",
      "20/20 [==============================] - 0s 4ms/step - loss: 260.1461 - val_loss: 232.8612\n",
      "Epoch 131/500\n",
      "20/20 [==============================] - 0s 4ms/step - loss: 251.9807 - val_loss: 229.9545\n",
      "Epoch 132/500\n",
      "20/20 [==============================] - 0s 3ms/step - loss: 244.0420 - val_loss: 227.2180\n",
      "Epoch 133/500\n",
      "20/20 [==============================] - 0s 4ms/step - loss: 236.3251 - val_loss: 224.6472\n",
      "Epoch 134/500\n",
      "20/20 [==============================] - 0s 8ms/step - loss: 228.8249 - val_loss: 222.2373\n",
      "Epoch 135/500\n",
      "20/20 [==============================] - 0s 5ms/step - loss: 221.5371 - val_loss: 219.9841\n",
      "Epoch 136/500\n",
      "20/20 [==============================] - 0s 4ms/step - loss: 214.4569 - val_loss: 217.8833\n",
      "Epoch 137/500\n",
      "20/20 [==============================] - 0s 5ms/step - loss: 207.5799 - val_loss: 215.9306\n",
      "Epoch 138/500\n",
      "20/20 [==============================] - 0s 4ms/step - loss: 200.9015 - val_loss: 214.1219\n",
      "Epoch 139/500\n",
      "20/20 [==============================] - 0s 3ms/step - loss: 194.4174 - val_loss: 212.4529\n",
      "Epoch 140/500\n",
      "20/20 [==============================] - 0s 4ms/step - loss: 188.1233 - val_loss: 210.9198\n",
      "Epoch 141/500\n",
      "20/20 [==============================] - 0s 3ms/step - loss: 182.0154 - val_loss: 209.5185\n",
      "Epoch 142/500\n",
      "20/20 [==============================] - 0s 3ms/step - loss: 176.0891 - val_loss: 208.2452\n",
      "Epoch 143/500\n",
      "20/20 [==============================] - 0s 3ms/step - loss: 170.3410 - val_loss: 207.0960\n",
      "Epoch 144/500\n",
      "20/20 [==============================] - 0s 4ms/step - loss: 164.7666 - val_loss: 206.0671\n",
      "Epoch 145/500\n",
      "20/20 [==============================] - 0s 3ms/step - loss: 159.3624 - val_loss: 205.1549\n",
      "Epoch 146/500\n",
      "20/20 [==============================] - 0s 5ms/step - loss: 154.1243 - val_loss: 204.3555\n",
      "Epoch 147/500\n",
      "20/20 [==============================] - 0s 4ms/step - loss: 149.0486 - val_loss: 203.6655\n",
      "Epoch 148/500\n",
      "20/20 [==============================] - 0s 4ms/step - loss: 144.1320 - val_loss: 203.0813\n",
      "Epoch 149/500\n",
      "20/20 [==============================] - 0s 3ms/step - loss: 139.3705 - val_loss: 202.5993\n",
      "Epoch 150/500\n",
      "20/20 [==============================] - 0s 5ms/step - loss: 134.7605 - val_loss: 202.2162\n",
      "Epoch 151/500\n",
      "20/20 [==============================] - 0s 4ms/step - loss: 130.2987 - val_loss: 201.9285\n",
      "Epoch 152/500\n",
      "20/20 [==============================] - 0s 4ms/step - loss: 125.9815 - val_loss: 201.7328\n",
      "Epoch 153/500\n",
      "20/20 [==============================] - 0s 4ms/step - loss: 121.8056 - val_loss: 201.6259\n",
      "Epoch 154/500\n",
      "20/20 [==============================] - 0s 5ms/step - loss: 117.7674 - val_loss: 201.6044\n",
      "Epoch 155/500\n",
      "20/20 [==============================] - 0s 4ms/step - loss: 113.8637 - val_loss: 201.6653\n",
      "Epoch 156/500\n",
      "20/20 [==============================] - 0s 4ms/step - loss: 110.0913 - val_loss: 201.8053\n",
      "Epoch 157/500\n",
      "20/20 [==============================] - 0s 5ms/step - loss: 106.4468 - val_loss: 202.0213\n",
      "Epoch 158/500\n",
      "20/20 [==============================] - 0s 4ms/step - loss: 102.9272 - val_loss: 202.3101\n",
      "Epoch 159/500\n",
      "20/20 [==============================] - 0s 5ms/step - loss: 99.5294 - val_loss: 202.6690\n",
      "Epoch 160/500\n",
      "20/20 [==============================] - 0s 4ms/step - loss: 96.2501 - val_loss: 203.0948\n",
      "Epoch 161/500\n",
      "20/20 [==============================] - 0s 4ms/step - loss: 93.0866 - val_loss: 203.5846\n",
      "Epoch 162/500\n",
      "20/20 [==============================] - 0s 9ms/step - loss: 90.0355 - val_loss: 204.1356\n",
      "Epoch 163/500\n",
      "20/20 [==============================] - 0s 4ms/step - loss: 87.0939 - val_loss: 204.7449\n",
      "Epoch 164/500\n",
      "20/20 [==============================] - 0s 4ms/step - loss: 84.2592 - val_loss: 205.4097\n",
      "Epoch 165/500\n",
      "20/20 [==============================] - 0s 5ms/step - loss: 81.5283 - val_loss: 206.1274\n",
      "Epoch 166/500\n",
      "20/20 [==============================] - 0s 4ms/step - loss: 78.8985 - val_loss: 206.8954\n",
      "Epoch 167/500\n",
      "20/20 [==============================] - 0s 4ms/step - loss: 76.3668 - val_loss: 207.7107\n",
      "Epoch 168/500\n",
      "20/20 [==============================] - 0s 5ms/step - loss: 73.9307 - val_loss: 208.5710\n",
      "Epoch 169/500\n",
      "20/20 [==============================] - 0s 4ms/step - loss: 71.5874 - val_loss: 209.4737\n",
      "Epoch 170/500\n",
      "20/20 [==============================] - 0s 4ms/step - loss: 69.3344 - val_loss: 210.4165\n",
      "Epoch 171/500\n",
      "20/20 [==============================] - 0s 4ms/step - loss: 67.1687 - val_loss: 211.3966\n",
      "Epoch 172/500\n",
      "20/20 [==============================] - 0s 4ms/step - loss: 65.0882 - val_loss: 212.4119\n",
      "Epoch 173/500\n",
      "20/20 [==============================] - 0s 5ms/step - loss: 63.0901 - val_loss: 213.4599\n",
      "Epoch 174/500\n",
      "20/20 [==============================] - 0s 5ms/step - loss: 61.1722 - val_loss: 214.5385\n",
      "Epoch 175/500\n",
      "20/20 [==============================] - 0s 5ms/step - loss: 59.3320 - val_loss: 215.6453\n",
      "Epoch 176/500\n",
      "20/20 [==============================] - 0s 5ms/step - loss: 57.5669 - val_loss: 216.7784\n",
      "Epoch 177/500\n",
      "20/20 [==============================] - 0s 4ms/step - loss: 55.8745 - val_loss: 217.9351\n",
      "Epoch 178/500\n",
      "20/20 [==============================] - 0s 4ms/step - loss: 54.2528 - val_loss: 219.1139\n",
      "Epoch 179/500\n",
      "20/20 [==============================] - 0s 4ms/step - loss: 52.6996 - val_loss: 220.3125\n",
      "Epoch 180/500\n",
      "20/20 [==============================] - 0s 4ms/step - loss: 51.2124 - val_loss: 221.5290\n",
      "Epoch 181/500\n",
      "20/20 [==============================] - 0s 4ms/step - loss: 49.7891 - val_loss: 222.7615\n",
      "Epoch 182/500\n",
      "20/20 [==============================] - 0s 4ms/step - loss: 48.4277 - val_loss: 224.0083\n",
      "Epoch 183/500\n",
      "20/20 [==============================] - 0s 8ms/step - loss: 47.1260 - val_loss: 225.2671\n",
      "Epoch 184/500\n",
      "20/20 [==============================] - 0s 3ms/step - loss: 45.8820 - val_loss: 226.5364\n",
      "Epoch 185/500\n",
      "20/20 [==============================] - 0s 4ms/step - loss: 44.6937 - val_loss: 227.8148\n",
      "Epoch 186/500\n",
      "20/20 [==============================] - 0s 3ms/step - loss: 43.5593 - val_loss: 229.1001\n",
      "Epoch 187/500\n",
      "20/20 [==============================] - 0s 4ms/step - loss: 42.4767 - val_loss: 230.3912\n",
      "Epoch 188/500\n",
      "20/20 [==============================] - 0s 3ms/step - loss: 41.4439 - val_loss: 231.6862\n",
      "Epoch 189/500\n",
      "20/20 [==============================] - 0s 4ms/step - loss: 40.4594 - val_loss: 232.9836\n",
      "Epoch 190/500\n",
      "20/20 [==============================] - 0s 4ms/step - loss: 39.5214 - val_loss: 234.2821\n",
      "Epoch 191/500\n",
      "20/20 [==============================] - 0s 3ms/step - loss: 38.6280 - val_loss: 235.5802\n",
      "Epoch 192/500\n",
      "20/20 [==============================] - 0s 3ms/step - loss: 37.7776 - val_loss: 236.8767\n",
      "Epoch 193/500\n",
      "20/20 [==============================] - 0s 3ms/step - loss: 36.9686 - val_loss: 238.1703\n",
      "Epoch 194/500\n",
      "20/20 [==============================] - 0s 3ms/step - loss: 36.1993 - val_loss: 239.4595\n",
      "Epoch 195/500\n",
      "20/20 [==============================] - 0s 3ms/step - loss: 35.4681 - val_loss: 240.7433\n",
      "Epoch 196/500\n",
      "20/20 [==============================] - 0s 4ms/step - loss: 34.7736 - val_loss: 242.0206\n",
      "Epoch 197/500\n",
      "20/20 [==============================] - 0s 3ms/step - loss: 34.1142 - val_loss: 243.2902\n",
      "Epoch 198/500\n",
      "20/20 [==============================] - 0s 3ms/step - loss: 33.4885 - val_loss: 244.5511\n",
      "Epoch 199/500\n",
      "20/20 [==============================] - 0s 5ms/step - loss: 32.8953 - val_loss: 245.8022\n",
      "Epoch 200/500\n",
      "20/20 [==============================] - 0s 4ms/step - loss: 32.3329 - val_loss: 247.0428\n",
      "Epoch 201/500\n",
      "20/20 [==============================] - 0s 4ms/step - loss: 31.8002 - val_loss: 248.2719\n",
      "Epoch 202/500\n",
      "20/20 [==============================] - 0s 3ms/step - loss: 31.2959 - val_loss: 249.4886\n",
      "Epoch 203/500\n",
      "20/20 [==============================] - 0s 3ms/step - loss: 30.8187 - val_loss: 250.6921\n",
      "Epoch 204/500\n",
      "20/20 [==============================] - 0s 3ms/step - loss: 30.3674 - val_loss: 251.8817\n",
      "Epoch 205/500\n",
      "20/20 [==============================] - 0s 3ms/step - loss: 29.9410 - val_loss: 253.0569\n",
      "Epoch 206/500\n",
      "20/20 [==============================] - 0s 4ms/step - loss: 29.5381 - val_loss: 254.2168\n",
      "Epoch 207/500\n",
      "20/20 [==============================] - 0s 3ms/step - loss: 29.1577 - val_loss: 255.3606\n",
      "Epoch 208/500\n",
      "20/20 [==============================] - 0s 3ms/step - loss: 28.7989 - val_loss: 256.4879\n",
      "Epoch 209/500\n",
      "20/20 [==============================] - 0s 4ms/step - loss: 28.4606 - val_loss: 257.5983\n",
      "Epoch 210/500\n",
      "20/20 [==============================] - 0s 3ms/step - loss: 28.1418 - val_loss: 258.6912\n",
      "Epoch 211/500\n",
      "20/20 [==============================] - 0s 3ms/step - loss: 27.8415 - val_loss: 259.7664\n",
      "Epoch 212/500\n",
      "20/20 [==============================] - 0s 4ms/step - loss: 27.5589 - val_loss: 260.8233\n",
      "Epoch 213/500\n",
      "20/20 [==============================] - 0s 4ms/step - loss: 27.2931 - val_loss: 261.8611\n",
      "Epoch 214/500\n",
      "20/20 [==============================] - 0s 4ms/step - loss: 27.0433 - val_loss: 262.8801\n",
      "Epoch 215/500\n",
      "20/20 [==============================] - 0s 3ms/step - loss: 26.8085 - val_loss: 263.8801\n",
      "Epoch 216/500\n",
      "20/20 [==============================] - 0s 7ms/step - loss: 26.5881 - val_loss: 264.8601\n",
      "Epoch 217/500\n",
      "20/20 [==============================] - 0s 7ms/step - loss: 26.3813 - val_loss: 265.8205\n",
      "Epoch 218/500\n",
      "20/20 [==============================] - 0s 4ms/step - loss: 26.1874 - val_loss: 266.7610\n",
      "Epoch 219/500\n",
      "20/20 [==============================] - 0s 3ms/step - loss: 26.0057 - val_loss: 267.6811\n",
      "Epoch 220/500\n",
      "20/20 [==============================] - 0s 3ms/step - loss: 25.8355 - val_loss: 268.5814\n",
      "Epoch 221/500\n",
      "20/20 [==============================] - 0s 4ms/step - loss: 25.6762 - val_loss: 269.4611\n",
      "Epoch 222/500\n",
      "20/20 [==============================] - 0s 5ms/step - loss: 25.5273 - val_loss: 270.3206\n",
      "Epoch 223/500\n",
      "20/20 [==============================] - 0s 5ms/step - loss: 25.3880 - val_loss: 271.1599\n",
      "Epoch 224/500\n",
      "20/20 [==============================] - 0s 4ms/step - loss: 25.2579 - val_loss: 271.9785\n",
      "Epoch 225/500\n",
      "20/20 [==============================] - 0s 3ms/step - loss: 25.1365 - val_loss: 272.7769\n",
      "Epoch 226/500\n",
      "20/20 [==============================] - 0s 3ms/step - loss: 25.0232 - val_loss: 273.5548\n",
      "Epoch 227/500\n",
      "20/20 [==============================] - 0s 3ms/step - loss: 24.9176 - val_loss: 274.3126\n",
      "Epoch 228/500\n",
      "20/20 [==============================] - 0s 3ms/step - loss: 24.8193 - val_loss: 275.0505\n",
      "Epoch 229/500\n",
      "20/20 [==============================] - 0s 3ms/step - loss: 24.7276 - val_loss: 275.7684\n",
      "Epoch 230/500\n",
      "20/20 [==============================] - 0s 3ms/step - loss: 24.6424 - val_loss: 276.4664\n",
      "Epoch 231/500\n",
      "20/20 [==============================] - 0s 3ms/step - loss: 24.5631 - val_loss: 277.1445\n",
      "Epoch 232/500\n",
      "20/20 [==============================] - 0s 3ms/step - loss: 24.4894 - val_loss: 277.8033\n",
      "Epoch 233/500\n",
      "20/20 [==============================] - 0s 3ms/step - loss: 24.4210 - val_loss: 278.4427\n",
      "Epoch 234/500\n",
      "20/20 [==============================] - 0s 3ms/step - loss: 24.3576 - val_loss: 279.0629\n",
      "Epoch 235/500\n",
      "20/20 [==============================] - 0s 4ms/step - loss: 24.2987 - val_loss: 279.6646\n",
      "Epoch 236/500\n",
      "20/20 [==============================] - 0s 3ms/step - loss: 24.2441 - val_loss: 280.2476\n",
      "Epoch 237/500\n",
      "20/20 [==============================] - 0s 4ms/step - loss: 24.1936 - val_loss: 280.8122\n",
      "Epoch 238/500\n",
      "20/20 [==============================] - 0s 3ms/step - loss: 24.1468 - val_loss: 281.3589\n",
      "Epoch 239/500\n",
      "20/20 [==============================] - 0s 3ms/step - loss: 24.1035 - val_loss: 281.8877\n",
      "Epoch 240/500\n",
      "20/20 [==============================] - 0s 3ms/step - loss: 24.0636 - val_loss: 282.3989\n",
      "Epoch 241/500\n",
      "20/20 [==============================] - 0s 3ms/step - loss: 24.0266 - val_loss: 282.8932\n",
      "Epoch 242/500\n",
      "20/20 [==============================] - 0s 3ms/step - loss: 23.9925 - val_loss: 283.3705\n",
      "Epoch 243/500\n",
      "20/20 [==============================] - 0s 3ms/step - loss: 23.9611 - val_loss: 283.8315\n",
      "Epoch 244/500\n",
      "20/20 [==============================] - 0s 7ms/step - loss: 23.9321 - val_loss: 284.2763\n",
      "Epoch 245/500\n",
      "20/20 [==============================] - 0s 3ms/step - loss: 23.9053 - val_loss: 284.7050\n",
      "Epoch 246/500\n",
      "20/20 [==============================] - 0s 3ms/step - loss: 23.8807 - val_loss: 285.1182\n",
      "Epoch 247/500\n",
      "20/20 [==============================] - 0s 3ms/step - loss: 23.8581 - val_loss: 285.5166\n",
      "Epoch 248/500\n",
      "20/20 [==============================] - 0s 3ms/step - loss: 23.8373 - val_loss: 285.8999\n",
      "Epoch 249/500\n",
      "20/20 [==============================] - 0s 3ms/step - loss: 23.8181 - val_loss: 286.2688\n",
      "Epoch 250/500\n",
      "20/20 [==============================] - 0s 3ms/step - loss: 23.8006 - val_loss: 286.6235\n",
      "Epoch 251/500\n",
      "20/20 [==============================] - 0s 4ms/step - loss: 23.7844 - val_loss: 286.9647\n",
      "Epoch 252/500\n",
      "20/20 [==============================] - 0s 4ms/step - loss: 23.7697 - val_loss: 287.2922\n",
      "Epoch 253/500\n",
      "20/20 [==============================] - 0s 4ms/step - loss: 23.7561 - val_loss: 287.6070\n",
      "Epoch 254/500\n",
      "20/20 [==============================] - 0s 3ms/step - loss: 23.7438 - val_loss: 287.9090\n",
      "Epoch 255/500\n",
      "20/20 [==============================] - 0s 4ms/step - loss: 23.7324 - val_loss: 288.1986\n",
      "Epoch 256/500\n",
      "20/20 [==============================] - 0s 3ms/step - loss: 23.7220 - val_loss: 288.4761\n",
      "Epoch 257/500\n",
      "20/20 [==============================] - 0s 4ms/step - loss: 23.7126 - val_loss: 288.7421\n",
      "Epoch 258/500\n",
      "20/20 [==============================] - 0s 3ms/step - loss: 23.7039 - val_loss: 288.9969\n",
      "Epoch 259/500\n",
      "20/20 [==============================] - 0s 4ms/step - loss: 23.6960 - val_loss: 289.2410\n",
      "Epoch 260/500\n",
      "20/20 [==============================] - 0s 3ms/step - loss: 23.6888 - val_loss: 289.4737\n",
      "Epoch 261/500\n",
      "20/20 [==============================] - 0s 3ms/step - loss: 23.6823 - val_loss: 289.6967\n",
      "Epoch 262/500\n",
      "20/20 [==============================] - 0s 3ms/step - loss: 23.6764 - val_loss: 289.9099\n",
      "Epoch 263/500\n",
      "20/20 [==============================] - 0s 3ms/step - loss: 23.6709 - val_loss: 290.1136\n",
      "Epoch 264/500\n",
      "20/20 [==============================] - 0s 3ms/step - loss: 23.6660 - val_loss: 290.3080\n",
      "Epoch 265/500\n",
      "20/20 [==============================] - 0s 3ms/step - loss: 23.6615 - val_loss: 290.4932\n",
      "Epoch 266/500\n",
      "20/20 [==============================] - 0s 3ms/step - loss: 23.6575 - val_loss: 290.6700\n",
      "Epoch 267/500\n",
      "20/20 [==============================] - 0s 3ms/step - loss: 23.6539 - val_loss: 290.8387\n",
      "Epoch 268/500\n",
      "20/20 [==============================] - 0s 3ms/step - loss: 23.6506 - val_loss: 290.9995\n",
      "Epoch 269/500\n",
      "20/20 [==============================] - 0s 3ms/step - loss: 23.6475 - val_loss: 291.1522\n",
      "Epoch 270/500\n",
      "20/20 [==============================] - 0s 3ms/step - loss: 23.6449 - val_loss: 291.2975\n",
      "Epoch 271/500\n",
      "20/20 [==============================] - 0s 3ms/step - loss: 23.6425 - val_loss: 291.4359\n",
      "Epoch 272/500\n",
      "20/20 [==============================] - 0s 4ms/step - loss: 23.6403 - val_loss: 291.5670\n",
      "Epoch 273/500\n",
      "20/20 [==============================] - 0s 7ms/step - loss: 23.6384 - val_loss: 291.6921\n",
      "Epoch 274/500\n",
      "20/20 [==============================] - 0s 3ms/step - loss: 23.6366 - val_loss: 291.8105\n",
      "Epoch 275/500\n",
      "20/20 [==============================] - 0s 4ms/step - loss: 23.6351 - val_loss: 291.9228\n",
      "Epoch 276/500\n",
      "20/20 [==============================] - 0s 3ms/step - loss: 23.6337 - val_loss: 292.0296\n",
      "Epoch 277/500\n",
      "20/20 [==============================] - 0s 3ms/step - loss: 23.6325 - val_loss: 292.1307\n",
      "Epoch 278/500\n",
      "20/20 [==============================] - 0s 4ms/step - loss: 23.6315 - val_loss: 292.2260\n",
      "Epoch 279/500\n",
      "20/20 [==============================] - 0s 3ms/step - loss: 23.6305 - val_loss: 292.3165\n",
      "Epoch 280/500\n",
      "20/20 [==============================] - 0s 4ms/step - loss: 23.6298 - val_loss: 292.4022\n",
      "Epoch 281/500\n",
      "20/20 [==============================] - 0s 3ms/step - loss: 23.6291 - val_loss: 292.4831\n",
      "Epoch 282/500\n",
      "20/20 [==============================] - 0s 4ms/step - loss: 23.6285 - val_loss: 292.5598\n",
      "Epoch 283/500\n",
      "20/20 [==============================] - 0s 4ms/step - loss: 23.6280 - val_loss: 292.6320\n",
      "Epoch 284/500\n",
      "20/20 [==============================] - 0s 4ms/step - loss: 23.6276 - val_loss: 292.7002\n",
      "Epoch 285/500\n",
      "20/20 [==============================] - 0s 4ms/step - loss: 23.6273 - val_loss: 292.7646\n",
      "Epoch 286/500\n",
      "20/20 [==============================] - 0s 4ms/step - loss: 23.6270 - val_loss: 292.8255\n",
      "Epoch 287/500\n",
      "20/20 [==============================] - 0s 4ms/step - loss: 23.6268 - val_loss: 292.8825\n",
      "Epoch 288/500\n",
      "20/20 [==============================] - 0s 4ms/step - loss: 23.6267 - val_loss: 292.9365\n",
      "Epoch 289/500\n",
      "20/20 [==============================] - 0s 4ms/step - loss: 23.6267 - val_loss: 292.9872\n",
      "Epoch 290/500\n",
      "20/20 [==============================] - 0s 3ms/step - loss: 23.6266 - val_loss: 293.0349\n",
      "Epoch 291/500\n",
      "20/20 [==============================] - 0s 4ms/step - loss: 23.6266 - val_loss: 293.0794\n",
      "Epoch 292/500\n",
      "20/20 [==============================] - 0s 4ms/step - loss: 23.6267 - val_loss: 293.1215\n",
      "Epoch 293/500\n",
      "20/20 [==============================] - 0s 4ms/step - loss: 23.6268 - val_loss: 293.1608\n",
      "Epoch 294/500\n",
      "20/20 [==============================] - 0s 4ms/step - loss: 23.6269 - val_loss: 293.1976\n",
      "Epoch 295/500\n",
      "20/20 [==============================] - 0s 3ms/step - loss: 23.6271 - val_loss: 293.2323\n",
      "Epoch 296/500\n",
      "20/20 [==============================] - 0s 3ms/step - loss: 23.6274 - val_loss: 293.2646\n",
      "Epoch 297/500\n",
      "20/20 [==============================] - 0s 7ms/step - loss: 23.6276 - val_loss: 293.2950\n",
      "Epoch 298/500\n",
      "20/20 [==============================] - 0s 4ms/step - loss: 23.6279 - val_loss: 293.3235\n",
      "Epoch 299/500\n",
      "20/20 [==============================] - 0s 4ms/step - loss: 23.6281 - val_loss: 293.3499\n",
      "Epoch 300/500\n",
      "20/20 [==============================] - 0s 4ms/step - loss: 23.6284 - val_loss: 293.3743\n",
      "Epoch 301/500\n",
      "20/20 [==============================] - 0s 3ms/step - loss: 23.6288 - val_loss: 293.3976\n",
      "Epoch 302/500\n",
      "20/20 [==============================] - 0s 3ms/step - loss: 23.6292 - val_loss: 293.4191\n",
      "Epoch 303/500\n",
      "20/20 [==============================] - 0s 4ms/step - loss: 23.6295 - val_loss: 293.4390\n",
      "Epoch 304/500\n",
      "20/20 [==============================] - 0s 4ms/step - loss: 23.6299 - val_loss: 293.4573\n",
      "Epoch 305/500\n",
      "20/20 [==============================] - 0s 4ms/step - loss: 23.6303 - val_loss: 293.4751\n",
      "Epoch 306/500\n",
      "20/20 [==============================] - 0s 4ms/step - loss: 23.6307 - val_loss: 293.4910\n",
      "Epoch 307/500\n",
      "20/20 [==============================] - 0s 3ms/step - loss: 23.6311 - val_loss: 293.5059\n",
      "Epoch 308/500\n",
      "20/20 [==============================] - 0s 3ms/step - loss: 23.6316 - val_loss: 293.5195\n",
      "Epoch 309/500\n",
      "20/20 [==============================] - 0s 3ms/step - loss: 23.6320 - val_loss: 293.5323\n",
      "Epoch 310/500\n",
      "20/20 [==============================] - 0s 3ms/step - loss: 23.6325 - val_loss: 293.5444\n",
      "Epoch 311/500\n",
      "20/20 [==============================] - 0s 4ms/step - loss: 23.6329 - val_loss: 293.5552\n",
      "Epoch 312/500\n",
      "20/20 [==============================] - 0s 3ms/step - loss: 23.6334 - val_loss: 293.5653\n",
      "Epoch 313/500\n",
      "20/20 [==============================] - 0s 3ms/step - loss: 23.6339 - val_loss: 293.5749\n",
      "Epoch 314/500\n",
      "20/20 [==============================] - 0s 4ms/step - loss: 23.6344 - val_loss: 293.5833\n",
      "Epoch 315/500\n",
      "20/20 [==============================] - 0s 4ms/step - loss: 23.6348 - val_loss: 293.5907\n",
      "Epoch 316/500\n",
      "20/20 [==============================] - 0s 4ms/step - loss: 23.6353 - val_loss: 293.5981\n",
      "Epoch 317/500\n",
      "20/20 [==============================] - 0s 4ms/step - loss: 23.6358 - val_loss: 293.6044\n",
      "Epoch 318/500\n",
      "20/20 [==============================] - 0s 4ms/step - loss: 23.6363 - val_loss: 293.6105\n",
      "Epoch 319/500\n",
      "20/20 [==============================] - 0s 4ms/step - loss: 23.6368 - val_loss: 293.6156\n",
      "Epoch 320/500\n",
      "20/20 [==============================] - 0s 3ms/step - loss: 23.6373 - val_loss: 293.6203\n",
      "Epoch 321/500\n",
      "20/20 [==============================] - 0s 3ms/step - loss: 23.6379 - val_loss: 293.6248\n",
      "Epoch 322/500\n",
      "20/20 [==============================] - 0s 3ms/step - loss: 23.6384 - val_loss: 293.6288\n",
      "Epoch 323/500\n",
      "20/20 [==============================] - 0s 3ms/step - loss: 23.6389 - val_loss: 293.6323\n",
      "Epoch 324/500\n",
      "20/20 [==============================] - 0s 7ms/step - loss: 23.6394 - val_loss: 293.6355\n",
      "Epoch 325/500\n",
      "20/20 [==============================] - 0s 3ms/step - loss: 23.6399 - val_loss: 293.6386\n",
      "Epoch 326/500\n",
      "20/20 [==============================] - 0s 3ms/step - loss: 23.6404 - val_loss: 293.6411\n",
      "Epoch 327/500\n",
      "20/20 [==============================] - 0s 4ms/step - loss: 23.6409 - val_loss: 293.6432\n",
      "Epoch 328/500\n",
      "20/20 [==============================] - 0s 4ms/step - loss: 23.6415 - val_loss: 293.6452\n",
      "Epoch 329/500\n",
      "20/20 [==============================] - 0s 4ms/step - loss: 23.6419 - val_loss: 293.6470\n",
      "Epoch 330/500\n",
      "20/20 [==============================] - 0s 4ms/step - loss: 23.6424 - val_loss: 293.6480\n",
      "Epoch 331/500\n",
      "20/20 [==============================] - 0s 4ms/step - loss: 23.6430 - val_loss: 293.6494\n",
      "Epoch 332/500\n",
      "20/20 [==============================] - 0s 3ms/step - loss: 23.6435 - val_loss: 293.6503\n",
      "Epoch 333/500\n",
      "20/20 [==============================] - 0s 3ms/step - loss: 23.6440 - val_loss: 293.6509\n",
      "Epoch 334/500\n",
      "20/20 [==============================] - 0s 4ms/step - loss: 23.6445 - val_loss: 293.6516\n",
      "Epoch 335/500\n",
      "20/20 [==============================] - 0s 4ms/step - loss: 23.6450 - val_loss: 293.6519\n",
      "Epoch 336/500\n",
      "20/20 [==============================] - 0s 4ms/step - loss: 23.6455 - val_loss: 293.6520\n",
      "Epoch 337/500\n",
      "20/20 [==============================] - 0s 4ms/step - loss: 23.6460 - val_loss: 293.6522\n",
      "Epoch 338/500\n",
      "20/20 [==============================] - 0s 4ms/step - loss: 23.6465 - val_loss: 293.6520\n",
      "Epoch 339/500\n",
      "20/20 [==============================] - 0s 4ms/step - loss: 23.6470 - val_loss: 293.6520\n",
      "Epoch 340/500\n",
      "20/20 [==============================] - 0s 3ms/step - loss: 23.6475 - val_loss: 293.6515\n",
      "Epoch 341/500\n",
      "20/20 [==============================] - 0s 3ms/step - loss: 23.6480 - val_loss: 293.6510\n",
      "Epoch 342/500\n",
      "20/20 [==============================] - 0s 4ms/step - loss: 23.6485 - val_loss: 293.6508\n",
      "Epoch 343/500\n",
      "20/20 [==============================] - 0s 4ms/step - loss: 23.6490 - val_loss: 293.6504\n",
      "Epoch 344/500\n",
      "20/20 [==============================] - 0s 4ms/step - loss: 23.6495 - val_loss: 293.6499\n",
      "Epoch 345/500\n",
      "20/20 [==============================] - 0s 4ms/step - loss: 23.6500 - val_loss: 293.6492\n",
      "Epoch 346/500\n",
      "20/20 [==============================] - 0s 4ms/step - loss: 23.6504 - val_loss: 293.6486\n",
      "Epoch 347/500\n",
      "20/20 [==============================] - 0s 4ms/step - loss: 23.6510 - val_loss: 293.6479\n",
      "Epoch 348/500\n",
      "20/20 [==============================] - 0s 3ms/step - loss: 23.6514 - val_loss: 293.6475\n",
      "Epoch 349/500\n",
      "20/20 [==============================] - 0s 4ms/step - loss: 23.6518 - val_loss: 293.6464\n",
      "Epoch 350/500\n",
      "20/20 [==============================] - 0s 4ms/step - loss: 23.6523 - val_loss: 293.6454\n",
      "Epoch 351/500\n",
      "20/20 [==============================] - 0s 3ms/step - loss: 23.6528 - val_loss: 293.6445\n",
      "Epoch 352/500\n",
      "20/20 [==============================] - 0s 6ms/step - loss: 23.6532 - val_loss: 293.6436\n",
      "Epoch 353/500\n",
      "20/20 [==============================] - 0s 4ms/step - loss: 23.6537 - val_loss: 293.6428\n",
      "Epoch 354/500\n",
      "20/20 [==============================] - 0s 4ms/step - loss: 23.6541 - val_loss: 293.6414\n",
      "Epoch 355/500\n",
      "20/20 [==============================] - 0s 4ms/step - loss: 23.6546 - val_loss: 293.6406\n",
      "Epoch 356/500\n",
      "20/20 [==============================] - 0s 4ms/step - loss: 23.6550 - val_loss: 293.6396\n",
      "Epoch 357/500\n",
      "20/20 [==============================] - 0s 4ms/step - loss: 23.6555 - val_loss: 293.6386\n",
      "Epoch 358/500\n",
      "20/20 [==============================] - 0s 4ms/step - loss: 23.6559 - val_loss: 293.6376\n",
      "Epoch 359/500\n",
      "20/20 [==============================] - 0s 4ms/step - loss: 23.6563 - val_loss: 293.6365\n",
      "Epoch 360/500\n",
      "20/20 [==============================] - 0s 4ms/step - loss: 23.6568 - val_loss: 293.6356\n",
      "Epoch 361/500\n",
      "20/20 [==============================] - 0s 4ms/step - loss: 23.6571 - val_loss: 293.6339\n",
      "Epoch 362/500\n",
      "20/20 [==============================] - 0s 3ms/step - loss: 23.6576 - val_loss: 293.6331\n",
      "Epoch 363/500\n",
      "20/20 [==============================] - 0s 4ms/step - loss: 23.6580 - val_loss: 293.6320\n",
      "Epoch 364/500\n",
      "20/20 [==============================] - 0s 4ms/step - loss: 23.6584 - val_loss: 293.6307\n",
      "Epoch 365/500\n",
      "20/20 [==============================] - 0s 4ms/step - loss: 23.6588 - val_loss: 293.6299\n",
      "Epoch 366/500\n",
      "20/20 [==============================] - 0s 4ms/step - loss: 23.6592 - val_loss: 293.6290\n",
      "Epoch 367/500\n",
      "20/20 [==============================] - 0s 3ms/step - loss: 23.6596 - val_loss: 293.6280\n",
      "Epoch 368/500\n",
      "20/20 [==============================] - 0s 4ms/step - loss: 23.6600 - val_loss: 293.6266\n",
      "Epoch 369/500\n",
      "20/20 [==============================] - 0s 4ms/step - loss: 23.6604 - val_loss: 293.6257\n",
      "Epoch 370/500\n",
      "20/20 [==============================] - 0s 3ms/step - loss: 23.6607 - val_loss: 293.6247\n",
      "Epoch 371/500\n",
      "20/20 [==============================] - 0s 4ms/step - loss: 23.6611 - val_loss: 293.6234\n",
      "Epoch 372/500\n",
      "20/20 [==============================] - 0s 4ms/step - loss: 23.6615 - val_loss: 293.6223\n",
      "Epoch 373/500\n",
      "20/20 [==============================] - 0s 3ms/step - loss: 23.6618 - val_loss: 293.6212\n",
      "Epoch 374/500\n",
      "20/20 [==============================] - 0s 4ms/step - loss: 23.6622 - val_loss: 293.6200\n",
      "Epoch 375/500\n",
      "20/20 [==============================] - 0s 4ms/step - loss: 23.6626 - val_loss: 293.6190\n",
      "Epoch 376/500\n",
      "20/20 [==============================] - 0s 4ms/step - loss: 23.6629 - val_loss: 293.6175\n",
      "Epoch 377/500\n",
      "20/20 [==============================] - 0s 5ms/step - loss: 23.6633 - val_loss: 293.6169\n",
      "Epoch 378/500\n",
      "20/20 [==============================] - 0s 4ms/step - loss: 23.6636 - val_loss: 293.6158\n",
      "Epoch 379/500\n",
      "20/20 [==============================] - 0s 4ms/step - loss: 23.6640 - val_loss: 293.6147\n",
      "Epoch 380/500\n",
      "20/20 [==============================] - 0s 4ms/step - loss: 23.6643 - val_loss: 293.6141\n",
      "Epoch 381/500\n",
      "20/20 [==============================] - 0s 4ms/step - loss: 23.6646 - val_loss: 293.6132\n",
      "Epoch 382/500\n",
      "20/20 [==============================] - 0s 4ms/step - loss: 23.6650 - val_loss: 293.6119\n",
      "Epoch 383/500\n",
      "20/20 [==============================] - 0s 4ms/step - loss: 23.6653 - val_loss: 293.6112\n",
      "Epoch 384/500\n",
      "20/20 [==============================] - 0s 4ms/step - loss: 23.6656 - val_loss: 293.6101\n",
      "Epoch 385/500\n",
      "20/20 [==============================] - 0s 4ms/step - loss: 23.6660 - val_loss: 293.6094\n",
      "Epoch 386/500\n",
      "20/20 [==============================] - 0s 4ms/step - loss: 23.6662 - val_loss: 293.6087\n",
      "Epoch 387/500\n",
      "20/20 [==============================] - 0s 4ms/step - loss: 23.6665 - val_loss: 293.6074\n",
      "Epoch 388/500\n",
      "20/20 [==============================] - 0s 4ms/step - loss: 23.6669 - val_loss: 293.6068\n",
      "Epoch 389/500\n",
      "20/20 [==============================] - 0s 4ms/step - loss: 23.6672 - val_loss: 293.6058\n",
      "Epoch 390/500\n",
      "20/20 [==============================] - 0s 4ms/step - loss: 23.6674 - val_loss: 293.6045\n",
      "Epoch 391/500\n",
      "20/20 [==============================] - 0s 4ms/step - loss: 23.6677 - val_loss: 293.6037\n",
      "Epoch 392/500\n",
      "20/20 [==============================] - 0s 3ms/step - loss: 23.6680 - val_loss: 293.6027\n",
      "Epoch 393/500\n",
      "20/20 [==============================] - 0s 4ms/step - loss: 23.6683 - val_loss: 293.6020\n",
      "Epoch 394/500\n",
      "20/20 [==============================] - 0s 7ms/step - loss: 23.6686 - val_loss: 293.6011\n",
      "Epoch 395/500\n",
      "20/20 [==============================] - 0s 4ms/step - loss: 23.6689 - val_loss: 293.6002\n",
      "Epoch 396/500\n",
      "20/20 [==============================] - 0s 4ms/step - loss: 23.6691 - val_loss: 293.5993\n",
      "Epoch 397/500\n",
      "20/20 [==============================] - 0s 4ms/step - loss: 23.6694 - val_loss: 293.5985\n",
      "Epoch 398/500\n",
      "20/20 [==============================] - 0s 3ms/step - loss: 23.6696 - val_loss: 293.5974\n",
      "Epoch 399/500\n",
      "20/20 [==============================] - 0s 3ms/step - loss: 23.6699 - val_loss: 293.5967\n",
      "Epoch 400/500\n",
      "20/20 [==============================] - 0s 4ms/step - loss: 23.6702 - val_loss: 293.5963\n",
      "Epoch 401/500\n",
      "20/20 [==============================] - 0s 4ms/step - loss: 23.6704 - val_loss: 293.5952\n",
      "Epoch 402/500\n",
      "20/20 [==============================] - 0s 4ms/step - loss: 23.6707 - val_loss: 293.5945\n",
      "Epoch 403/500\n",
      "20/20 [==============================] - 0s 4ms/step - loss: 23.6709 - val_loss: 293.5937\n",
      "Epoch 404/500\n",
      "20/20 [==============================] - 0s 4ms/step - loss: 23.6711 - val_loss: 293.5928\n",
      "Epoch 405/500\n",
      "20/20 [==============================] - 0s 4ms/step - loss: 23.6714 - val_loss: 293.5920\n",
      "Epoch 406/500\n",
      "20/20 [==============================] - 0s 4ms/step - loss: 23.6716 - val_loss: 293.5914\n",
      "Epoch 407/500\n",
      "20/20 [==============================] - 0s 4ms/step - loss: 23.6718 - val_loss: 293.5906\n",
      "Epoch 408/500\n",
      "20/20 [==============================] - 0s 4ms/step - loss: 23.6721 - val_loss: 293.5898\n",
      "Epoch 409/500\n",
      "20/20 [==============================] - 0s 3ms/step - loss: 23.6723 - val_loss: 293.5893\n",
      "Epoch 410/500\n",
      "20/20 [==============================] - 0s 4ms/step - loss: 23.6725 - val_loss: 293.5887\n",
      "Epoch 411/500\n",
      "20/20 [==============================] - 0s 4ms/step - loss: 23.6727 - val_loss: 293.5880\n",
      "Epoch 412/500\n",
      "20/20 [==============================] - 0s 4ms/step - loss: 23.6729 - val_loss: 293.5873\n",
      "Epoch 413/500\n",
      "20/20 [==============================] - 0s 4ms/step - loss: 23.6732 - val_loss: 293.5870\n",
      "Epoch 414/500\n",
      "20/20 [==============================] - 0s 4ms/step - loss: 23.6733 - val_loss: 293.5862\n",
      "Epoch 415/500\n",
      "20/20 [==============================] - 0s 4ms/step - loss: 23.6736 - val_loss: 293.5857\n",
      "Epoch 416/500\n",
      "20/20 [==============================] - 0s 8ms/step - loss: 23.6738 - val_loss: 293.5851\n",
      "Epoch 417/500\n",
      "20/20 [==============================] - 0s 4ms/step - loss: 23.6740 - val_loss: 293.5845\n",
      "Epoch 418/500\n",
      "20/20 [==============================] - 0s 4ms/step - loss: 23.6741 - val_loss: 293.5837\n",
      "Epoch 419/500\n",
      "20/20 [==============================] - 0s 4ms/step - loss: 23.6744 - val_loss: 293.5834\n",
      "Epoch 420/500\n",
      "20/20 [==============================] - 0s 4ms/step - loss: 23.6745 - val_loss: 293.5828\n",
      "Epoch 421/500\n",
      "20/20 [==============================] - 0s 4ms/step - loss: 23.6747 - val_loss: 293.5820\n",
      "Epoch 422/500\n",
      "20/20 [==============================] - 0s 4ms/step - loss: 23.6749 - val_loss: 293.5817\n",
      "Epoch 423/500\n",
      "20/20 [==============================] - 0s 4ms/step - loss: 23.6751 - val_loss: 293.5812\n",
      "Epoch 424/500\n",
      "20/20 [==============================] - 0s 4ms/step - loss: 23.6753 - val_loss: 293.5807\n",
      "Epoch 425/500\n",
      "20/20 [==============================] - 0s 4ms/step - loss: 23.6754 - val_loss: 293.5798\n",
      "Epoch 426/500\n",
      "20/20 [==============================] - 0s 4ms/step - loss: 23.6756 - val_loss: 293.5794\n",
      "Epoch 427/500\n",
      "20/20 [==============================] - 0s 4ms/step - loss: 23.6757 - val_loss: 293.5790\n",
      "Epoch 428/500\n",
      "20/20 [==============================] - 0s 4ms/step - loss: 23.6759 - val_loss: 293.5786\n",
      "Epoch 429/500\n",
      "20/20 [==============================] - 0s 4ms/step - loss: 23.6761 - val_loss: 293.5780\n",
      "Epoch 430/500\n",
      "20/20 [==============================] - 0s 4ms/step - loss: 23.6763 - val_loss: 293.5776\n",
      "Epoch 431/500\n",
      "20/20 [==============================] - 0s 4ms/step - loss: 23.6764 - val_loss: 293.5771\n",
      "Epoch 432/500\n",
      "20/20 [==============================] - 0s 4ms/step - loss: 23.6765 - val_loss: 293.5767\n",
      "Epoch 433/500\n",
      "20/20 [==============================] - 0s 3ms/step - loss: 23.6766 - val_loss: 293.5763\n",
      "Epoch 434/500\n",
      "20/20 [==============================] - 0s 4ms/step - loss: 23.6769 - val_loss: 293.5759\n",
      "Epoch 435/500\n",
      "20/20 [==============================] - 0s 4ms/step - loss: 23.6770 - val_loss: 293.5753\n",
      "Epoch 436/500\n",
      "20/20 [==============================] - 0s 4ms/step - loss: 23.6771 - val_loss: 293.5749\n",
      "Epoch 437/500\n",
      "20/20 [==============================] - 0s 4ms/step - loss: 23.6772 - val_loss: 293.5743\n",
      "Epoch 438/500\n",
      "20/20 [==============================] - 0s 4ms/step - loss: 23.6774 - val_loss: 293.5738\n",
      "Epoch 439/500\n",
      "20/20 [==============================] - 0s 4ms/step - loss: 23.6775 - val_loss: 293.5734\n",
      "Epoch 440/500\n",
      "20/20 [==============================] - 0s 7ms/step - loss: 23.6777 - val_loss: 293.5727\n",
      "Epoch 441/500\n",
      "20/20 [==============================] - 0s 4ms/step - loss: 23.6778 - val_loss: 293.5724\n",
      "Epoch 442/500\n",
      "20/20 [==============================] - 0s 4ms/step - loss: 23.6779 - val_loss: 293.5721\n",
      "Epoch 443/500\n",
      "20/20 [==============================] - 0s 4ms/step - loss: 23.6780 - val_loss: 293.5713\n",
      "Epoch 444/500\n",
      "20/20 [==============================] - 0s 3ms/step - loss: 23.6782 - val_loss: 293.5710\n",
      "Epoch 445/500\n",
      "20/20 [==============================] - 0s 4ms/step - loss: 23.6783 - val_loss: 293.5701\n",
      "Epoch 446/500\n",
      "20/20 [==============================] - 0s 4ms/step - loss: 23.6784 - val_loss: 293.5701\n",
      "Epoch 447/500\n",
      "20/20 [==============================] - 0s 4ms/step - loss: 23.6786 - val_loss: 293.5699\n",
      "Epoch 448/500\n",
      "20/20 [==============================] - 0s 3ms/step - loss: 23.6787 - val_loss: 293.5696\n",
      "Epoch 449/500\n",
      "20/20 [==============================] - 0s 4ms/step - loss: 23.6788 - val_loss: 293.5693\n",
      "Epoch 450/500\n",
      "20/20 [==============================] - 0s 4ms/step - loss: 23.6789 - val_loss: 293.5688\n",
      "Epoch 451/500\n",
      "20/20 [==============================] - 0s 4ms/step - loss: 23.6790 - val_loss: 293.5688\n",
      "Epoch 452/500\n",
      "20/20 [==============================] - 0s 3ms/step - loss: 23.6791 - val_loss: 293.5683\n",
      "Epoch 453/500\n",
      "20/20 [==============================] - 0s 4ms/step - loss: 23.6792 - val_loss: 293.5679\n",
      "Epoch 454/500\n",
      "20/20 [==============================] - 0s 4ms/step - loss: 23.6793 - val_loss: 293.5681\n",
      "Epoch 455/500\n",
      "20/20 [==============================] - 0s 4ms/step - loss: 23.6794 - val_loss: 293.5675\n",
      "Epoch 456/500\n",
      "20/20 [==============================] - 0s 4ms/step - loss: 23.6795 - val_loss: 293.5672\n",
      "Epoch 457/500\n",
      "20/20 [==============================] - 0s 3ms/step - loss: 23.6796 - val_loss: 293.5670\n",
      "Epoch 458/500\n",
      "20/20 [==============================] - 0s 4ms/step - loss: 23.6797 - val_loss: 293.5668\n",
      "Epoch 459/500\n",
      "20/20 [==============================] - 0s 3ms/step - loss: 23.6798 - val_loss: 293.5665\n",
      "Epoch 460/500\n",
      "20/20 [==============================] - 0s 3ms/step - loss: 23.6799 - val_loss: 293.5663\n",
      "Epoch 461/500\n",
      "20/20 [==============================] - 0s 4ms/step - loss: 23.6800 - val_loss: 293.5662\n",
      "Epoch 462/500\n",
      "20/20 [==============================] - 0s 4ms/step - loss: 23.6800 - val_loss: 293.5658\n",
      "Epoch 463/500\n",
      "20/20 [==============================] - 0s 4ms/step - loss: 23.6801 - val_loss: 293.5655\n",
      "Epoch 464/500\n",
      "20/20 [==============================] - 0s 4ms/step - loss: 23.6802 - val_loss: 293.5653\n",
      "Epoch 465/500\n",
      "20/20 [==============================] - 0s 4ms/step - loss: 23.6803 - val_loss: 293.5651\n",
      "Epoch 466/500\n",
      "20/20 [==============================] - 0s 5ms/step - loss: 23.6804 - val_loss: 293.5649\n",
      "Epoch 467/500\n",
      "20/20 [==============================] - 0s 5ms/step - loss: 23.6805 - val_loss: 293.5647\n",
      "Epoch 468/500\n",
      "20/20 [==============================] - 0s 4ms/step - loss: 23.6806 - val_loss: 293.5644\n",
      "Epoch 469/500\n",
      "20/20 [==============================] - 0s 4ms/step - loss: 23.6806 - val_loss: 293.5640\n",
      "Epoch 470/500\n",
      "20/20 [==============================] - 0s 4ms/step - loss: 23.6808 - val_loss: 293.5638\n",
      "Epoch 471/500\n",
      "20/20 [==============================] - 0s 3ms/step - loss: 23.6808 - val_loss: 293.5633\n",
      "Epoch 472/500\n",
      "20/20 [==============================] - 0s 4ms/step - loss: 23.6809 - val_loss: 293.5630\n",
      "Epoch 473/500\n",
      "20/20 [==============================] - 0s 3ms/step - loss: 23.6809 - val_loss: 293.5628\n",
      "Epoch 474/500\n",
      "20/20 [==============================] - 0s 4ms/step - loss: 23.6810 - val_loss: 293.5625\n",
      "Epoch 475/500\n",
      "20/20 [==============================] - 0s 3ms/step - loss: 23.6811 - val_loss: 293.5623\n",
      "Epoch 476/500\n",
      "20/20 [==============================] - 0s 4ms/step - loss: 23.6812 - val_loss: 293.5622\n",
      "Epoch 477/500\n",
      "20/20 [==============================] - 0s 4ms/step - loss: 23.6812 - val_loss: 293.5622\n",
      "Epoch 478/500\n",
      "20/20 [==============================] - 0s 3ms/step - loss: 23.6813 - val_loss: 293.5621\n",
      "Epoch 479/500\n",
      "20/20 [==============================] - 0s 4ms/step - loss: 23.6814 - val_loss: 293.5620\n",
      "Epoch 480/500\n",
      "20/20 [==============================] - 0s 4ms/step - loss: 23.6814 - val_loss: 293.5616\n",
      "Epoch 481/500\n",
      "20/20 [==============================] - 0s 4ms/step - loss: 23.6815 - val_loss: 293.5617\n",
      "Epoch 482/500\n",
      "20/20 [==============================] - 0s 4ms/step - loss: 23.6815 - val_loss: 293.5615\n",
      "Epoch 483/500\n",
      "20/20 [==============================] - 0s 4ms/step - loss: 23.6816 - val_loss: 293.5612\n",
      "Epoch 484/500\n",
      "20/20 [==============================] - 0s 4ms/step - loss: 23.6817 - val_loss: 293.5611\n",
      "Epoch 485/500\n",
      "20/20 [==============================] - 0s 3ms/step - loss: 23.6817 - val_loss: 293.5610\n",
      "Epoch 486/500\n",
      "20/20 [==============================] - 0s 8ms/step - loss: 23.6818 - val_loss: 293.5607\n",
      "Epoch 487/500\n",
      "20/20 [==============================] - 0s 4ms/step - loss: 23.6818 - val_loss: 293.5603\n",
      "Epoch 488/500\n",
      "20/20 [==============================] - 0s 4ms/step - loss: 23.6819 - val_loss: 293.5605\n",
      "Epoch 489/500\n",
      "20/20 [==============================] - 0s 4ms/step - loss: 23.6819 - val_loss: 293.5601\n",
      "Epoch 490/500\n",
      "20/20 [==============================] - 0s 4ms/step - loss: 23.6820 - val_loss: 293.5599\n",
      "Epoch 491/500\n",
      "20/20 [==============================] - 0s 4ms/step - loss: 23.6820 - val_loss: 293.5598\n",
      "Epoch 492/500\n",
      "20/20 [==============================] - 0s 3ms/step - loss: 23.6821 - val_loss: 293.5595\n",
      "Epoch 493/500\n",
      "20/20 [==============================] - 0s 4ms/step - loss: 23.6821 - val_loss: 293.5592\n",
      "Epoch 494/500\n",
      "20/20 [==============================] - 0s 4ms/step - loss: 23.6822 - val_loss: 293.5595\n",
      "Epoch 495/500\n",
      "20/20 [==============================] - 0s 4ms/step - loss: 23.6822 - val_loss: 293.5591\n",
      "Epoch 496/500\n",
      "20/20 [==============================] - 0s 4ms/step - loss: 23.6823 - val_loss: 293.5588\n",
      "Epoch 497/500\n",
      "20/20 [==============================] - 0s 4ms/step - loss: 23.6824 - val_loss: 293.5588\n",
      "Epoch 498/500\n",
      "20/20 [==============================] - 0s 4ms/step - loss: 23.6824 - val_loss: 293.5587\n",
      "Epoch 499/500\n",
      "20/20 [==============================] - 0s 4ms/step - loss: 23.6824 - val_loss: 293.5585\n",
      "Epoch 500/500\n",
      "20/20 [==============================] - 0s 3ms/step - loss: 23.6825 - val_loss: 293.5583\n"
     ]
    }
   ],
   "source": [
    "C0 = tf.Variable(86.6465, name=\"C0\", trainable=True, dtype=tf.float32)\n",
    "K0 = tf.Variable(-0.0029, name=\"K0\", trainable=True, dtype=tf.float32)\n",
    "K1 = tf.Variable(-0.0003, name=\"K1\", trainable=True, dtype=tf.float32)\n",
    "a = tf.Variable(0.0000, name=\"a\", trainable=True, dtype=tf.float32)\n",
    "b = tf.Variable(0.0168, name=\"b\", trainable=True, dtype=tf.float32)\n",
    "c = tf.Variable(2.3581, name=\"c\", trainable=True, dtype=tf.float32)\n",
    "\n",
    "splitr = 0.8\n",
    "\n",
    "\n",
    "def loss_fn(y_true, y_pred):\n",
    "    squared_difference = tf.square(y_true[:, 0] - y_pred[:, 0])\n",
    "    #squared_difference2 = tf.square(y_true[:, 2]-y_pred[:, 2])\n",
    "    #squared_difference1 = tf.square(y_true[:, 1]-y_pred[:, 1])\n",
    "    epsilon = 1\n",
    "    squared_difference3 = tf.square(\n",
    "        y_pred[:, 1] - (\n",
    "            y_pred[:, 0] * (\n",
    "                K0 - K1 * (\n",
    "                    9 * a * tf.math.log((y_pred[:, 0] + epsilon) / C0) / (K0 - K1 * c)**2 +\n",
    "                    4 * b * tf.math.log((y_pred[:, 0] + epsilon) / C0) / (K0 - K1 * c) + c\n",
    "                )\n",
    "            )\n",
    "        )\n",
    "    )\n",
    "    return tf.reduce_mean(squared_difference, axis=-1) + 0.2*tf.reduce_mean(squared_difference3, axis=-1)\n",
    "model = Sequential()\n",
    "model.add(LSTM(100, input_shape=(trainX.shape[1], trainX.shape[2])))\n",
    "model.add(Dense(60))\n",
    "model.compile(loss=loss_fn, optimizer='adam')\n",
    "history = model.fit(trainX[:int(splitr*trainX.shape[0])], trainy[:int(splitr*trainX.shape[0])], epochs=500, batch_size=64, validation_data=(trainX[int(splitr*trainX.shape[0]):trainX.shape[0]], trainy[int(splitr*trainX.shape[0]):trainX.shape[0]]), shuffle=False)"
   ]
  },
  {
   "cell_type": "code",
   "execution_count": 19,
   "metadata": {
    "colab": {
     "base_uri": "https://localhost:8080/"
    },
    "id": "yJL101rPyuoT",
    "outputId": "239ff2b1-c186-423a-d316-939dfdd7c793"
   },
   "outputs": [
    {
     "name": "stdout",
     "output_type": "stream",
     "text": [
      "1/1 [==============================] - 0s 329ms/step\n"
     ]
    }
   ],
   "source": [
    "forecast_without_mc = forecastX\n",
    "yhat_without_mc = model.predict(forecast_without_mc) # Step Ahead Prediction\n",
    "forecast_without_mc = forecast_without_mc.reshape((forecast_without_mc.shape[0], forecast_without_mc.shape[2])) # Historical Input"
   ]
  },
  {
   "cell_type": "code",
   "execution_count": 20,
   "metadata": {
    "colab": {
     "base_uri": "https://localhost:8080/"
    },
    "id": "g9dQELcJ8wbp",
    "outputId": "4dc7671b-b1a8-48d5-8744-a86f98446109"
   },
   "outputs": [
    {
     "data": {
      "text/plain": [
       "(1, 1, 251)"
      ]
     },
     "execution_count": 20,
     "metadata": {},
     "output_type": "execute_result"
    }
   ],
   "source": [
    "forecastX.shape"
   ]
  },
  {
   "cell_type": "code",
   "execution_count": 21,
   "metadata": {
    "colab": {
     "base_uri": "https://localhost:8080/"
    },
    "id": "IS2kyIKG1Kbr",
    "outputId": "f31b3485-8e26-452f-9298-ea8bf7e80ad1"
   },
   "outputs": [
    {
     "data": {
      "text/plain": [
       "(1, 251)"
      ]
     },
     "execution_count": 21,
     "metadata": {},
     "output_type": "execute_result"
    }
   ],
   "source": [
    "forecast_without_mc.shape"
   ]
  },
  {
   "cell_type": "code",
   "execution_count": 22,
   "metadata": {
    "id": "0u6VIzaDyuoT"
   },
   "outputs": [],
   "source": [
    "inv_yhat_without_mc = np.concatenate((forecast_without_mc, yhat_without_mc), axis=1) # Concatenation of predicted values with Historical Data\n",
    "#inv_yhat_without_mc = scaler.inverse_transform(inv_yhat_without_mc) # Transform labels back to original encoding"
   ]
  },
  {
   "cell_type": "code",
   "execution_count": 23,
   "metadata": {
    "colab": {
     "base_uri": "https://localhost:8080/"
    },
    "id": "EUEcw0LX07oU",
    "outputId": "cfc32397-9c37-4b43-d087-584bb31c3dcc"
   },
   "outputs": [
    {
     "data": {
      "text/plain": [
       "(1, 311)"
      ]
     },
     "execution_count": 23,
     "metadata": {},
     "output_type": "execute_result"
    }
   ],
   "source": [
    "inv_yhat_without_mc.shape"
   ]
  },
  {
   "cell_type": "code",
   "execution_count": 24,
   "metadata": {
    "id": "31OWVbSh_305"
   },
   "outputs": [],
   "source": [
    "fforecast = inv_yhat_without_mc[:,-300:]"
   ]
  },
  {
   "cell_type": "code",
   "execution_count": 25,
   "metadata": {},
   "outputs": [
    {
     "data": {
      "text/plain": [
       "(1, 300)"
      ]
     },
     "execution_count": 25,
     "metadata": {},
     "output_type": "execute_result"
    }
   ],
   "source": [
    "fforecast.shape"
   ]
  },
  {
   "cell_type": "code",
   "execution_count": 26,
   "metadata": {
    "id": "BlpGH2FOAiRF"
   },
   "outputs": [],
   "source": [
    "final_forecast = fforecast[:,0:300:3]"
   ]
  },
  {
   "cell_type": "code",
   "execution_count": 27,
   "metadata": {},
   "outputs": [
    {
     "data": {
      "text/plain": [
       "(1, 300)"
      ]
     },
     "execution_count": 27,
     "metadata": {},
     "output_type": "execute_result"
    }
   ],
   "source": [
    "fforecast.shape"
   ]
  },
  {
   "cell_type": "code",
   "execution_count": 28,
   "metadata": {
    "id": "CXkgkj_LBk_t"
   },
   "outputs": [],
   "source": [
    "# code to replace all negative value with 0\n",
    "final_forecast[final_forecast<0] = 0"
   ]
  },
  {
   "cell_type": "code",
   "execution_count": 29,
   "metadata": {},
   "outputs": [
    {
     "data": {
      "text/plain": [
       "array([[6.11471849e+01, 6.11219748e+01, 6.10967647e+01, 6.10715546e+01,\n",
       "        6.10463445e+01, 6.10211344e+01, 6.09959244e+01, 6.09707143e+01,\n",
       "        6.09455042e+01, 6.09202941e+01, 6.08950840e+01, 6.08698739e+01,\n",
       "        6.08446639e+01, 6.08194538e+01, 6.07942437e+01, 6.07690336e+01,\n",
       "        6.07438235e+01, 6.07186134e+01, 6.06934034e+01, 6.06681933e+01,\n",
       "        6.06429832e+01, 6.06177731e+01, 6.05925630e+01, 6.05673529e+01,\n",
       "        6.05421429e+01, 6.05169328e+01, 6.04917227e+01, 6.04665126e+01,\n",
       "        6.04413025e+01, 6.04160924e+01, 6.03908823e+01, 6.03656723e+01,\n",
       "        6.03500140e+01, 6.03371288e+01, 6.03242437e+01, 6.03113585e+01,\n",
       "        6.02984734e+01, 6.02855882e+01, 6.02727031e+01, 6.02598179e+01,\n",
       "        6.02469328e+01, 6.02340476e+01, 6.02211625e+01, 6.02082773e+01,\n",
       "        6.01953922e+01, 6.01825070e+01, 6.01696218e+01, 6.23619748e+01,\n",
       "        6.23535714e+01, 6.23451681e+01, 6.23367647e+01, 6.23283613e+01,\n",
       "        6.23199580e+01, 6.23115546e+01, 6.23031513e+01, 6.22632353e+01,\n",
       "        6.22044118e+01, 6.21455882e+01, 6.20867647e+01, 6.20279412e+01,\n",
       "        6.19691177e+01, 6.19102941e+01, 6.18514706e+01, 6.17926471e+01,\n",
       "        6.17338235e+01, 6.16750000e+01, 6.16161765e+01, 6.15792857e+01,\n",
       "        6.15507143e+01, 6.15221429e+01, 6.14935714e+01, 6.14650000e+01,\n",
       "        6.14364286e+01, 6.83258820e+01, 0.00000000e+00, 4.34126880e-01,\n",
       "        8.37506470e-01, 3.87423250e-01, 0.00000000e+00, 0.00000000e+00,\n",
       "        6.73441391e+01, 1.68542311e-01, 0.00000000e+00, 7.93554664e-01,\n",
       "        8.58402908e-01, 5.53311110e-01, 5.52420169e-02, 3.73693645e-01,\n",
       "        0.00000000e+00, 3.19308549e-01, 1.78796854e-02, 7.51907349e-01,\n",
       "        4.61831361e-01, 6.59170628e-01, 3.76356602e-01, 3.84850621e-01,\n",
       "        3.52795601e-01, 2.54658401e-01, 0.00000000e+00, 1.85353886e-02]])"
      ]
     },
     "execution_count": 29,
     "metadata": {},
     "output_type": "execute_result"
    }
   ],
   "source": [
    "final_forecast"
   ]
  },
  {
   "cell_type": "code",
   "execution_count": 30,
   "metadata": {},
   "outputs": [
    {
     "data": {
      "text/plain": [
       "(1, 100)"
      ]
     },
     "execution_count": 30,
     "metadata": {},
     "output_type": "execute_result"
    }
   ],
   "source": [
    "final_forecast.shape"
   ]
  },
  {
   "cell_type": "code",
   "execution_count": 31,
   "metadata": {},
   "outputs": [
    {
     "data": {
      "text/plain": [
       "(100,)"
      ]
     },
     "execution_count": 31,
     "metadata": {},
     "output_type": "execute_result"
    }
   ],
   "source": [
    "test.shape"
   ]
  },
  {
   "cell_type": "code",
   "execution_count": 32,
   "metadata": {},
   "outputs": [],
   "source": [
    "training_set = np.array(training_set)\n",
    "test = np.array(test)\n",
    "final_forecast = np.array(final_forecast.squeeze(0))"
   ]
  },
  {
   "cell_type": "code",
   "execution_count": 33,
   "metadata": {},
   "outputs": [
    {
     "data": {
      "text/plain": [
       "array([56.71865079, 56.70277778, 56.68690476, 56.67103175, 56.65515873,\n",
       "       56.63928571, 56.6234127 , 56.60753968, 56.59166667, 56.57579365,\n",
       "       56.55992063, 56.54404762, 56.5281746 , 56.51230159, 56.49642857,\n",
       "       56.48055556, 56.46468254, 56.44880952, 56.43293651, 56.41706349,\n",
       "       56.40119048, 56.38531746, 56.36944444, 56.35357143, 56.33769841,\n",
       "       56.3218254 , 56.30595238, 56.29007937, 56.27420635, 56.25833333,\n",
       "       56.24246032, 56.2265873 , 56.21071429, 56.19484127, 56.17896825,\n",
       "       56.16309524, 56.14722222, 56.13134921, 56.11547619, 56.09960317,\n",
       "       56.08373016, 56.06785714, 56.05198413, 56.03611111, 56.0202381 ,\n",
       "       56.00436508, 55.98849206, 55.97261905, 55.95674603, 55.94087302,\n",
       "       55.925     , 55.90912698, 55.89325397, 55.87738095, 55.86150794,\n",
       "       55.84563492, 55.8297619 , 55.81388889, 55.79801587, 55.78214286,\n",
       "       55.76626984, 55.75039683, 55.73452381, 55.71865079, 55.70277778,\n",
       "       55.68690476, 55.67103175, 55.65515873, 55.63928571, 55.6234127 ,\n",
       "       55.60753968, 55.59166667, 55.57579365, 55.55992063, 55.54404762,\n",
       "       55.5281746 , 55.51230159, 55.49642857, 55.48055556, 55.46468254,\n",
       "       55.44880952, 55.43293651, 55.41706349, 55.40119048, 55.39191091,\n",
       "       55.38316595, 55.37442099, 55.36567603, 55.35693107, 55.3481861 ,\n",
       "       55.33944114, 55.33069618, 55.32195122, 55.31320626, 55.3044613 ,\n",
       "       55.29571634, 55.28697137, 55.27822641, 55.26948145, 55.26073649])"
      ]
     },
     "execution_count": 33,
     "metadata": {},
     "output_type": "execute_result"
    }
   ],
   "source": [
    "test"
   ]
  },
  {
   "cell_type": "code",
   "execution_count": 34,
   "metadata": {},
   "outputs": [
    {
     "data": {
      "text/plain": [
       "(100,)"
      ]
     },
     "execution_count": 34,
     "metadata": {},
     "output_type": "execute_result"
    }
   ],
   "source": [
    "test.shape"
   ]
  },
  {
   "cell_type": "code",
   "execution_count": 35,
   "metadata": {},
   "outputs": [
    {
     "data": {
      "text/plain": [
       "(100,)"
      ]
     },
     "execution_count": 35,
     "metadata": {},
     "output_type": "execute_result"
    }
   ],
   "source": [
    "final_forecast.shape"
   ]
  },
  {
   "cell_type": "code",
   "execution_count": 36,
   "metadata": {},
   "outputs": [
    {
     "data": {
      "text/plain": [
       "(100,)"
      ]
     },
     "execution_count": 36,
     "metadata": {},
     "output_type": "execute_result"
    }
   ],
   "source": [
    "test.shape"
   ]
  },
  {
   "cell_type": "code",
   "execution_count": 37,
   "metadata": {},
   "outputs": [
    {
     "name": "stdout",
     "output_type": "stream",
     "text": [
      "27.916586113674175\n",
      "17.614406322902536\n"
     ]
    }
   ],
   "source": [
    "import math\n",
    "MSE = np.square(np.subtract(np.array(test),np.array(final_forecast))).mean()   \n",
    "rsme = math.sqrt(MSE)\n",
    "print(rsme)  \n",
    "MAE = np.abs(np.subtract(np.array(test),np.array(final_forecast))).mean()   \n",
    "mae = MAE\n",
    "print(mae)"
   ]
  }
 ],
 "metadata": {
  "colab": {
   "provenance": []
  },
  "kernelspec": {
   "display_name": "Python 3",
   "language": "python",
   "name": "python3"
  },
  "language_info": {
   "codemirror_mode": {
    "name": "ipython",
    "version": 3
   },
   "file_extension": ".py",
   "mimetype": "text/x-python",
   "name": "python",
   "nbconvert_exporter": "python",
   "pygments_lexer": "ipython3",
   "version": "3.9.13"
  }
 },
 "nbformat": 4,
 "nbformat_minor": 0
}
