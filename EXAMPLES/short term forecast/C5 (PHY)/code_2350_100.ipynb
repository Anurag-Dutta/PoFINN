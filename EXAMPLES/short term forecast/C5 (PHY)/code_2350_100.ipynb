{
 "cells": [
  {
   "cell_type": "markdown",
   "metadata": {
    "id": "pCGKeZ2gyuoQ"
   },
   "source": [
    "_Importing Required Libraries_"
   ]
  },
  {
   "cell_type": "code",
   "execution_count": 1,
   "metadata": {
    "colab": {
     "base_uri": "https://localhost:8080/"
    },
    "id": "A-6LN-zXiLcM",
    "outputId": "4de610a4-f8b8-4f49-c6c0-89de299ccedc"
   },
   "outputs": [
    {
     "name": "stdout",
     "output_type": "stream",
     "text": [
      "Requirement already satisfied: hampel in c:\\users\\anurag dutta\\appdata\\local\\packages\\pythonsoftwarefoundation.python.3.9_qbz5n2kfra8p0\\localcache\\local-packages\\python39\\site-packages (0.0.5)\n",
      "Requirement already satisfied: numpy in c:\\users\\anurag dutta\\appdata\\local\\packages\\pythonsoftwarefoundation.python.3.9_qbz5n2kfra8p0\\localcache\\local-packages\\python39\\site-packages (from hampel) (1.26.4)\n",
      "Requirement already satisfied: pandas in c:\\users\\anurag dutta\\appdata\\local\\packages\\pythonsoftwarefoundation.python.3.9_qbz5n2kfra8p0\\localcache\\local-packages\\python39\\site-packages (from hampel) (1.5.2)\n",
      "Requirement already satisfied: python-dateutil>=2.8.1 in c:\\users\\anurag dutta\\appdata\\local\\packages\\pythonsoftwarefoundation.python.3.9_qbz5n2kfra8p0\\localcache\\local-packages\\python39\\site-packages (from pandas->hampel) (2.8.2)\n",
      "Requirement already satisfied: pytz>=2020.1 in c:\\users\\anurag dutta\\appdata\\local\\packages\\pythonsoftwarefoundation.python.3.9_qbz5n2kfra8p0\\localcache\\local-packages\\python39\\site-packages (from pandas->hampel) (2023.3.post1)\n",
      "Requirement already satisfied: six>=1.5 in c:\\users\\anurag dutta\\appdata\\local\\packages\\pythonsoftwarefoundation.python.3.9_qbz5n2kfra8p0\\localcache\\local-packages\\python39\\site-packages (from python-dateutil>=2.8.1->pandas->hampel) (1.16.0)\n",
      "Note: you may need to restart the kernel to use updated packages.\n"
     ]
    },
    {
     "name": "stderr",
     "output_type": "stream",
     "text": [
      "\n",
      "[notice] A new release of pip is available: 24.2 -> 24.3.1\n",
      "[notice] To update, run: C:\\Users\\Anurag Dutta\\AppData\\Local\\Microsoft\\WindowsApps\\PythonSoftwareFoundation.Python.3.9_qbz5n2kfra8p0\\python.exe -m pip install --upgrade pip\n"
     ]
    }
   ],
   "source": [
    "pip install hampel"
   ]
  },
  {
   "cell_type": "code",
   "execution_count": 2,
   "metadata": {
    "id": "By_d9uXpaFvZ"
   },
   "outputs": [],
   "source": [
    "from keras.models import Sequential\n",
    "from keras.layers import Dense\n",
    "from keras.layers import LSTM\n",
    "from keras.layers import Dropout\n",
    "import keras\n",
    "import tensorflow as tf\n",
    "from hampel import hampel\n",
    "import numpy as np\n",
    "import matplotlib.pyplot as plt\n",
    "import pandas as pd\n",
    "from sklearn.preprocessing import MinMaxScaler\n",
    "from sklearn.metrics import mean_squared_error, mean_absolute_error\n",
    "from math import sqrt\n",
    "from matplotlib import pyplot\n",
    "from numpy import array"
   ]
  },
  {
   "cell_type": "markdown",
   "metadata": {
    "id": "JyOjBMFayuoR"
   },
   "source": [
    "## Pretraining"
   ]
  },
  {
   "cell_type": "markdown",
   "metadata": {
    "id": "-5QqIY_GyuoR"
   },
   "source": [
    "The `capa_intermittency.dat` feeds the model with the dynamics of the Capacitor"
   ]
  },
  {
   "cell_type": "code",
   "execution_count": 3,
   "metadata": {
    "id": "9dV4a8yfyuoR"
   },
   "outputs": [],
   "source": [
    "data = np.genfromtxt('capa_intermittency.dat')\n",
    "training_set = pd.DataFrame(data).reset_index(drop=True)\n",
    "training_set = training_set.iloc[:,0]"
   ]
  },
  {
   "cell_type": "markdown",
   "metadata": {
    "id": "i7easoxByuoR"
   },
   "source": [
    "## Computing the Gradient"
   ]
  },
  {
   "cell_type": "markdown",
   "metadata": {
    "id": "5SnyolJTyuoR"
   },
   "source": [
    "_Calculating the value of_ $\\frac{dx}{dt}$"
   ]
  },
  {
   "cell_type": "code",
   "execution_count": 4,
   "metadata": {
    "colab": {
     "base_uri": "https://localhost:8080/"
    },
    "id": "wmIbVfIvyuoR",
    "outputId": "aa4e3136-c854-465d-d2e9-81cfd546e440"
   },
   "outputs": [
    {
     "name": "stdout",
     "output_type": "stream",
     "text": [
      "1.0\n",
      "1        0.000298\n",
      "2        0.000298\n",
      "3        0.000297\n",
      "4        0.000297\n",
      "5        0.000297\n",
      "           ...   \n",
      "9996     0.000018\n",
      "9997     0.000018\n",
      "9998     0.000018\n",
      "9999     0.000018\n",
      "10000    0.000018\n",
      "Name: 0, Length: 10000, dtype: float64\n"
     ]
    }
   ],
   "source": [
    "t_diff = 1\n",
    "print(training_set.max())\n",
    "gradient_t = (training_set.diff()/t_diff).iloc[1:] # dx/dt\n",
    "print(gradient_t)"
   ]
  },
  {
   "cell_type": "markdown",
   "metadata": {
    "id": "_2eVeeoxyuoS"
   },
   "source": [
    "## Loading Datasets"
   ]
  },
  {
   "cell_type": "code",
   "execution_count": 5,
   "metadata": {
    "id": "0J-NKyIEyuoS"
   },
   "outputs": [
    {
     "data": {
      "text/plain": [
       "0       89.140000\n",
       "1       88.911429\n",
       "2       88.682857\n",
       "3       88.454286\n",
       "4       88.225714\n",
       "          ...    \n",
       "2445    60.027957\n",
       "2446    60.020031\n",
       "2447    60.012106\n",
       "2448    60.004181\n",
       "2449    59.996256\n",
       "Name: C5, Length: 2450, dtype: float64"
      ]
     },
     "execution_count": 5,
     "metadata": {},
     "output_type": "execute_result"
    }
   ],
   "source": [
    "data = pd.read_csv(\"c5_interpolated_2350_100.csv\")\n",
    "training_set = data.iloc[:, 1]\n",
    "training_set"
   ]
  },
  {
   "cell_type": "code",
   "execution_count": 6,
   "metadata": {
    "colab": {
     "base_uri": "https://localhost:8080/"
    },
    "id": "-CbNUhJ74UqF",
    "outputId": "20f562d8-8247-49cc-b9c3-00eca5e13e2d"
   },
   "outputs": [
    {
     "data": {
      "text/plain": [
       "0       89.140000\n",
       "1       88.911429\n",
       "2       88.682857\n",
       "3       88.454286\n",
       "4       88.225714\n",
       "          ...    \n",
       "2345     0.026113\n",
       "2346     0.394953\n",
       "2347     1.582265\n",
       "2348     0.000000\n",
       "2349     0.804932\n",
       "Name: C5, Length: 2350, dtype: float64"
      ]
     },
     "execution_count": 6,
     "metadata": {},
     "output_type": "execute_result"
    }
   ],
   "source": [
    "test = training_set.tail(100)\n",
    "test\n",
    "training_set = training_set.head(2350)\n",
    "training_set"
   ]
  },
  {
   "cell_type": "code",
   "execution_count": 7,
   "metadata": {
    "colab": {
     "base_uri": "https://localhost:8080/"
    },
    "id": "X0TwTcq0yuoS",
    "outputId": "37252ed8-d88e-4044-fa7a-922411990b5b"
   },
   "outputs": [
    {
     "name": "stdout",
     "output_type": "stream",
     "text": [
      "0       0.000298\n",
      "1       0.000298\n",
      "2       0.000297\n",
      "3       0.000297\n",
      "4       0.000297\n",
      "          ...   \n",
      "9995    0.000018\n",
      "9996    0.000018\n",
      "9997    0.000018\n",
      "9998    0.000018\n",
      "9999    0.000018\n",
      "Name: 0, Length: 10000, dtype: float64\n"
     ]
    }
   ],
   "source": [
    "training_set = training_set.reset_index(drop=True)\n",
    "gradient_t = gradient_t.reset_index(drop=True)\n",
    "print(gradient_t)"
   ]
  },
  {
   "cell_type": "code",
   "execution_count": 8,
   "metadata": {
    "id": "O2biznZQyuoS"
   },
   "outputs": [],
   "source": [
    "df = pd.concat((training_set, gradient_t), axis=1)\n",
    "df.columns = ['y_t', 'grad_t']"
   ]
  },
  {
   "cell_type": "code",
   "execution_count": 9,
   "metadata": {
    "colab": {
     "base_uri": "https://localhost:8080/",
     "height": 423
    },
    "id": "sk_a5v3tyuoS",
    "outputId": "17563625-e550-45ae-faab-fafa353e44da"
   },
   "outputs": [
    {
     "data": {
      "text/html": [
       "<div>\n",
       "<style scoped>\n",
       "    .dataframe tbody tr th:only-of-type {\n",
       "        vertical-align: middle;\n",
       "    }\n",
       "\n",
       "    .dataframe tbody tr th {\n",
       "        vertical-align: top;\n",
       "    }\n",
       "\n",
       "    .dataframe thead th {\n",
       "        text-align: right;\n",
       "    }\n",
       "</style>\n",
       "<table border=\"1\" class=\"dataframe\">\n",
       "  <thead>\n",
       "    <tr style=\"text-align: right;\">\n",
       "      <th></th>\n",
       "      <th>y_t</th>\n",
       "      <th>grad_t</th>\n",
       "    </tr>\n",
       "  </thead>\n",
       "  <tbody>\n",
       "    <tr>\n",
       "      <th>0</th>\n",
       "      <td>89.140000</td>\n",
       "      <td>0.000298</td>\n",
       "    </tr>\n",
       "    <tr>\n",
       "      <th>1</th>\n",
       "      <td>88.911429</td>\n",
       "      <td>0.000298</td>\n",
       "    </tr>\n",
       "    <tr>\n",
       "      <th>2</th>\n",
       "      <td>88.682857</td>\n",
       "      <td>0.000297</td>\n",
       "    </tr>\n",
       "    <tr>\n",
       "      <th>3</th>\n",
       "      <td>88.454286</td>\n",
       "      <td>0.000297</td>\n",
       "    </tr>\n",
       "    <tr>\n",
       "      <th>4</th>\n",
       "      <td>88.225714</td>\n",
       "      <td>0.000297</td>\n",
       "    </tr>\n",
       "    <tr>\n",
       "      <th>...</th>\n",
       "      <td>...</td>\n",
       "      <td>...</td>\n",
       "    </tr>\n",
       "    <tr>\n",
       "      <th>9995</th>\n",
       "      <td>NaN</td>\n",
       "      <td>0.000018</td>\n",
       "    </tr>\n",
       "    <tr>\n",
       "      <th>9996</th>\n",
       "      <td>NaN</td>\n",
       "      <td>0.000018</td>\n",
       "    </tr>\n",
       "    <tr>\n",
       "      <th>9997</th>\n",
       "      <td>NaN</td>\n",
       "      <td>0.000018</td>\n",
       "    </tr>\n",
       "    <tr>\n",
       "      <th>9998</th>\n",
       "      <td>NaN</td>\n",
       "      <td>0.000018</td>\n",
       "    </tr>\n",
       "    <tr>\n",
       "      <th>9999</th>\n",
       "      <td>NaN</td>\n",
       "      <td>0.000018</td>\n",
       "    </tr>\n",
       "  </tbody>\n",
       "</table>\n",
       "<p>10000 rows × 2 columns</p>\n",
       "</div>"
      ],
      "text/plain": [
       "            y_t    grad_t\n",
       "0     89.140000  0.000298\n",
       "1     88.911429  0.000298\n",
       "2     88.682857  0.000297\n",
       "3     88.454286  0.000297\n",
       "4     88.225714  0.000297\n",
       "...         ...       ...\n",
       "9995        NaN  0.000018\n",
       "9996        NaN  0.000018\n",
       "9997        NaN  0.000018\n",
       "9998        NaN  0.000018\n",
       "9999        NaN  0.000018\n",
       "\n",
       "[10000 rows x 2 columns]"
      ]
     },
     "execution_count": 9,
     "metadata": {},
     "output_type": "execute_result"
    }
   ],
   "source": [
    "df"
   ]
  },
  {
   "cell_type": "markdown",
   "metadata": {
    "id": "-5esyHu5aFvg"
   },
   "source": [
    "## Plot of the External Forcing from Chaotic Differential Equation"
   ]
  },
  {
   "cell_type": "code",
   "execution_count": 10,
   "metadata": {
    "colab": {
     "base_uri": "https://localhost:8080/",
     "height": 447
    },
    "id": "hGnE43tOh-4p",
    "outputId": "fc396503-b624-4fa5-dfbe-f460207405c6"
   },
   "outputs": [
    {
     "data": {
      "text/plain": [
       "<Axes: >"
      ]
     },
     "execution_count": 10,
     "metadata": {},
     "output_type": "execute_result"
    },
    {
     "data": {
      "image/png": "[encoded data removed]",
      "text/plain": [
       "<Figure size 432x288 with 1 Axes>"
      ]
     },
     "metadata": {
      "needs_background": "light"
     },
     "output_type": "display_data"
    }
   ],
   "source": [
    "df.iloc[:, 0].plot()"
   ]
  },
  {
   "cell_type": "code",
   "execution_count": 11,
   "metadata": {
    "colab": {
     "base_uri": "https://localhost:8080/",
     "height": 447
    },
    "id": "ym4xWUUxaFvg",
    "outputId": "ae6a3495-8ce9-437e-ba81-3ed31deedeae"
   },
   "outputs": [
    {
     "name": "stderr",
     "output_type": "stream",
     "text": [
      "C:\\Users\\Anurag Dutta\\AppData\\Local\\Packages\\PythonSoftwareFoundation.Python.3.9_qbz5n2kfra8p0\\LocalCache\\local-packages\\Python39\\site-packages\\pandas\\core\\arraylike.py:402: RuntimeWarning: divide by zero encountered in log\n",
      "  result = getattr(ufunc, method)(*inputs, **kwargs)\n"
     ]
    },
    {
     "data": {
      "text/plain": [
       "<Axes: >"
      ]
     },
     "execution_count": 11,
     "metadata": {},
     "output_type": "execute_result"
    },
    {
     "data": {
      "image/png": "[encoded data removed]",
      "text/plain": [
       "<Figure size 432x288 with 1 Axes>"
      ]
     },
     "metadata": {
      "needs_background": "light"
     },
     "output_type": "display_data"
    }
   ],
   "source": [
    "import numpy as np\n",
    "c0 = 86.8407  # Value for C0\n",
    "K0 = -0.0015  # Value for K0\n",
    "K1 = -0.0001  # Value for K1\n",
    "a = 0.0000    # Value for a\n",
    "b = 0.0118    # Value for b\n",
    "c = 2.5775    # Value for c\n",
    "\n",
    "L = np.minimum(c0, (df.iloc[:, 1] - (df.iloc[:, 0] * (K0 - K1 * (9 * a * np.log(df.iloc[:, 0] / c0) / (K0 - K1 * c)**2 + 4 * b * np.log(df.iloc[:, 0] / c0) / (K0 - K1 * c) + c)))))\n",
    "L.plot()"
   ]
  },
  {
   "cell_type": "markdown",
   "metadata": {
    "id": "9VyEywnwaFvh"
   },
   "source": [
    "## Preprocessing the data into supervised learning"
   ]
  },
  {
   "cell_type": "code",
   "execution_count": 12,
   "metadata": {
    "id": "6V9dXqzdaFvh"
   },
   "outputs": [],
   "source": [
    "# split a sequence into samples\n",
    "def Supervised(data, n_in=1, n_out=1, dropnan=True):\n",
    "    n_vars = 1 if type(data) is list else data.shape[1]\n",
    "    df = pd.DataFrame(data)\n",
    "    cols, names = list(), list()\n",
    "    # input sequence (t-n_in, ... t-1)\n",
    "    for i in range(n_in, 0, -1):\n",
    "        cols.append(df.shift(i))\n",
    "        names += [('var%d(t-%d)' % (j+1, i)) for j in range(n_vars)]\n",
    "    # forecast sequence (t, t+1, ... t+n_out)\n",
    "    for i in range(0, n_out):\n",
    "      cols.append(df.shift(-i))\n",
    "      if i == 0:\n",
    "        names += [('var%d(t)' % (j+1)) for j in range(n_vars)]\n",
    "      else:\n",
    "        names += [('var%d(t+%d)' % (j+1, i)) for j in range(n_vars)]\n",
    "    # put it all together\n",
    "    agg = pd.concat(cols, axis=1)\n",
    "    agg.columns = names\n",
    "    # drop rows with NaN values\n",
    "    if dropnan:\n",
    "       agg.dropna(inplace=True)\n",
    "    return agg"
   ]
  },
  {
   "cell_type": "code",
   "execution_count": 13,
   "metadata": {
    "colab": {
     "base_uri": "https://localhost:8080/"
    },
    "id": "CrzSrT1HnyfH",
    "outputId": "7e75f928-3e47-499d-eac1-51908015ef78"
   },
   "outputs": [
    {
     "name": "stdout",
     "output_type": "stream",
     "text": [
      "     var1(t-350)  var1(t-349)  var1(t-348)  var1(t-347)  var1(t-346)  \\\n",
      "350    89.140000    88.911429    88.682857    88.454286    88.225714   \n",
      "351    88.911429    88.682857    88.454286    88.225714    87.997143   \n",
      "352    88.682857    88.454286    88.225714    87.997143    87.768571   \n",
      "353    88.454286    88.225714    87.997143    87.768571    87.540000   \n",
      "354    88.225714    87.997143    87.768571    87.540000    87.311429   \n",
      "\n",
      "     var1(t-345)  var1(t-344)  var1(t-343)  var1(t-342)  var1(t-341)  ...  \\\n",
      "350    87.997143    87.768571    87.540000    87.311429    87.095798  ...   \n",
      "351    87.768571    87.540000    87.311429    87.095798    87.039776  ...   \n",
      "352    87.540000    87.311429    87.095798    87.039776    86.983754  ...   \n",
      "353    87.311429    87.095798    87.039776    86.983754    86.927731  ...   \n",
      "354    87.095798    87.039776    86.983754    86.927731    86.871709  ...   \n",
      "\n",
      "     var1(t+95)  var2(t+95)  var1(t+96)  var2(t+96)  var1(t+97)  var2(t+97)  \\\n",
      "350   79.161181    0.000263   79.132236    0.000263   79.103291    0.000263   \n",
      "351   79.132236    0.000263   79.103291    0.000263   79.074346    0.000262   \n",
      "352   79.103291    0.000263   79.074346    0.000262   79.045401    0.000262   \n",
      "353   79.074346    0.000262   79.045401    0.000262   79.016457    0.000262   \n",
      "354   79.045401    0.000262   79.016457    0.000262   78.987512    0.000262   \n",
      "\n",
      "     var1(t+98)  var2(t+98)  var1(t+99)  var2(t+99)  \n",
      "350   79.074346    0.000262   79.045401    0.000262  \n",
      "351   79.045401    0.000262   79.016457    0.000262  \n",
      "352   79.016457    0.000262   78.987512    0.000262  \n",
      "353   78.987512    0.000262   78.958567    0.000262  \n",
      "354   78.958567    0.000262   78.929622    0.000262  \n",
      "\n",
      "[5 rows x 551 columns]\n",
      "Index(['var1(t-350)', 'var1(t-349)', 'var1(t-348)', 'var1(t-347)',\n",
      "       'var1(t-346)', 'var1(t-345)', 'var1(t-344)', 'var1(t-343)',\n",
      "       'var1(t-342)', 'var1(t-341)',\n",
      "       ...\n",
      "       'var1(t+95)', 'var2(t+95)', 'var1(t+96)', 'var2(t+96)', 'var1(t+97)',\n",
      "       'var2(t+97)', 'var1(t+98)', 'var2(t+98)', 'var1(t+99)', 'var2(t+99)'],\n",
      "      dtype='object', length=551)\n"
     ]
    }
   ],
   "source": [
    "data = Supervised(df.values, n_in = 350, n_out = 100)\n",
    "\n",
    "\n",
    "cols_to_drop = []\n",
    "for i in range(2, 351):\n",
    "    cols_to_drop.extend([f'var2(t-{i})'])\n",
    "\n",
    "data.drop(cols_to_drop, axis=1, inplace=True)\n",
    "\n",
    "print(data.head())\n",
    "print(data.columns)"
   ]
  },
  {
   "cell_type": "code",
   "execution_count": 14,
   "metadata": {
    "id": "AfPf60oy6Pe4"
   },
   "outputs": [],
   "source": [
    "train = np.array(data[0:len(data)-1])\n",
    "forecast = np.array(data.tail(1))"
   ]
  },
  {
   "cell_type": "code",
   "execution_count": 15,
   "metadata": {
    "id": "WSAafzI37KiT"
   },
   "outputs": [],
   "source": [
    "trainy = train[:,-300:]\n",
    "trainX = train[:,:-300]"
   ]
  },
  {
   "cell_type": "code",
   "execution_count": 16,
   "metadata": {
    "id": "2SrOqVJA7f50"
   },
   "outputs": [],
   "source": [
    "forecasty = forecast[:,-300:]\n",
    "forecastX = forecast[:,:-300]"
   ]
  },
  {
   "cell_type": "code",
   "execution_count": 17,
   "metadata": {
    "colab": {
     "base_uri": "https://localhost:8080/"
    },
    "id": "Qno_k8Nw7saY",
    "outputId": "c4a88db5-d8c6-489f-cdb2-06b24e293cff"
   },
   "outputs": [
    {
     "name": "stdout",
     "output_type": "stream",
     "text": [
      "(1900, 1, 251) (1900, 300) (1, 1, 251)\n"
     ]
    }
   ],
   "source": [
    "trainX = trainX.reshape((trainX.shape[0], 1, trainX.shape[1]))\n",
    "forecastX = forecastX.reshape((forecastX.shape[0], 1, forecastX.shape[1]))\n",
    "print(trainX.shape, trainy.shape, forecastX.shape)"
   ]
  },
  {
   "cell_type": "code",
   "execution_count": 18,
   "metadata": {
    "colab": {
     "base_uri": "https://localhost:8080/"
    },
    "id": "b1Jp2DvNuNFx",
    "outputId": "d0e5b3c4-64f1-438c-eade-8dfeaac8e285"
   },
   "outputs": [
    {
     "name": "stdout",
     "output_type": "stream",
     "text": [
      "Epoch 1/500\n",
      "24/24 [==============================] - 3s 21ms/step - loss: 5085.2212 - val_loss: 3618.8381\n",
      "Epoch 2/500\n",
      "24/24 [==============================] - 0s 4ms/step - loss: 4982.0547 - val_loss: 3557.7754\n",
      "Epoch 3/500\n",
      "24/24 [==============================] - 0s 4ms/step - loss: 4905.6445 - val_loss: 3508.7375\n",
      "Epoch 4/500\n",
      "24/24 [==============================] - 0s 3ms/step - loss: 4838.0278 - val_loss: 3460.5925\n",
      "Epoch 5/500\n",
      "24/24 [==============================] - 0s 3ms/step - loss: 4771.5034 - val_loss: 3413.1997\n",
      "Epoch 6/500\n",
      "24/24 [==============================] - 0s 4ms/step - loss: 4705.8945 - val_loss: 3366.4658\n",
      "Epoch 7/500\n",
      "24/24 [==============================] - 0s 3ms/step - loss: 4641.0977 - val_loss: 3320.3418\n",
      "Epoch 8/500\n",
      "24/24 [==============================] - 0s 3ms/step - loss: 4577.0581 - val_loss: 3274.7993\n",
      "Epoch 9/500\n",
      "24/24 [==============================] - 0s 3ms/step - loss: 4513.7407 - val_loss: 3229.8184\n",
      "Epoch 10/500\n",
      "24/24 [==============================] - 0s 3ms/step - loss: 4451.1240 - val_loss: 3185.3857\n",
      "Epoch 11/500\n",
      "24/24 [==============================] - 0s 3ms/step - loss: 4389.1880 - val_loss: 3141.4880\n",
      "Epoch 12/500\n",
      "24/24 [==============================] - 0s 3ms/step - loss: 4327.9248 - val_loss: 3098.1121\n",
      "Epoch 13/500\n",
      "24/24 [==============================] - 0s 4ms/step - loss: 4266.5723 - val_loss: 3049.8306\n",
      "Epoch 14/500\n",
      "24/24 [==============================] - 0s 3ms/step - loss: 4196.3652 - val_loss: 3001.6960\n",
      "Epoch 15/500\n",
      "24/24 [==============================] - 0s 4ms/step - loss: 4130.0698 - val_loss: 2955.1770\n",
      "Epoch 16/500\n",
      "24/24 [==============================] - 0s 3ms/step - loss: 4065.4460 - val_loss: 2899.1724\n",
      "Epoch 17/500\n",
      "24/24 [==============================] - 0s 3ms/step - loss: 3983.5798 - val_loss: 2849.3738\n",
      "Epoch 18/500\n",
      "24/24 [==============================] - 0s 3ms/step - loss: 3914.9604 - val_loss: 2801.5823\n",
      "Epoch 19/500\n",
      "24/24 [==============================] - 0s 3ms/step - loss: 3848.9827 - val_loss: 2755.5920\n",
      "Epoch 20/500\n",
      "24/24 [==============================] - 0s 3ms/step - loss: 3785.0161 - val_loss: 2710.9233\n",
      "Epoch 21/500\n",
      "24/24 [==============================] - 0s 3ms/step - loss: 3722.5784 - val_loss: 2667.3237\n",
      "Epoch 22/500\n",
      "24/24 [==============================] - 0s 3ms/step - loss: 3661.4106 - val_loss: 2624.6499\n",
      "Epoch 23/500\n",
      "24/24 [==============================] - 0s 3ms/step - loss: 3601.3599 - val_loss: 2582.8098\n",
      "Epoch 24/500\n",
      "24/24 [==============================] - 0s 4ms/step - loss: 3542.3220 - val_loss: 2541.7393\n",
      "Epoch 25/500\n",
      "24/24 [==============================] - 0s 3ms/step - loss: 3484.2246 - val_loss: 2501.3914\n",
      "Epoch 26/500\n",
      "24/24 [==============================] - 0s 3ms/step - loss: 3427.0142 - val_loss: 2461.7300\n",
      "Epoch 27/500\n",
      "24/24 [==============================] - 0s 3ms/step - loss: 3370.6479 - val_loss: 2422.7261\n",
      "Epoch 28/500\n",
      "24/24 [==============================] - 0s 4ms/step - loss: 3315.0920 - val_loss: 2384.3560\n",
      "Epoch 29/500\n",
      "24/24 [==============================] - 0s 3ms/step - loss: 3260.3181 - val_loss: 2346.6001\n",
      "Epoch 30/500\n",
      "24/24 [==============================] - 0s 3ms/step - loss: 3206.3013 - val_loss: 2309.4402\n",
      "Epoch 31/500\n",
      "24/24 [==============================] - 0s 3ms/step - loss: 3153.0237 - val_loss: 2272.8625\n",
      "Epoch 32/500\n",
      "24/24 [==============================] - 0s 3ms/step - loss: 3100.4644 - val_loss: 2236.8530\n",
      "Epoch 33/500\n",
      "24/24 [==============================] - 0s 3ms/step - loss: 3048.6101 - val_loss: 2201.3989\n",
      "Epoch 34/500\n",
      "24/24 [==============================] - 0s 4ms/step - loss: 2997.4443 - val_loss: 2166.4907\n",
      "Epoch 35/500\n",
      "24/24 [==============================] - 0s 4ms/step - loss: 2946.9563 - val_loss: 2132.1155\n",
      "Epoch 36/500\n",
      "24/24 [==============================] - 0s 3ms/step - loss: 2897.1328 - val_loss: 2098.2612\n",
      "Epoch 37/500\n",
      "24/24 [==============================] - 0s 4ms/step - loss: 2847.9639 - val_loss: 2064.9016\n",
      "Epoch 38/500\n",
      "24/24 [==============================] - 0s 4ms/step - loss: 2799.1042 - val_loss: 2024.1450\n",
      "Epoch 39/500\n",
      "24/24 [==============================] - 0s 4ms/step - loss: 2735.7720 - val_loss: 1985.8531\n",
      "Epoch 40/500\n",
      "24/24 [==============================] - 0s 3ms/step - loss: 2680.3672 - val_loss: 1949.1689\n",
      "Epoch 41/500\n",
      "24/24 [==============================] - 0s 3ms/step - loss: 2627.4924 - val_loss: 1914.1135\n",
      "Epoch 42/500\n",
      "24/24 [==============================] - 0s 3ms/step - loss: 2576.5259 - val_loss: 1880.2302\n",
      "Epoch 43/500\n",
      "24/24 [==============================] - 0s 3ms/step - loss: 2526.9780 - val_loss: 1847.2866\n",
      "Epoch 44/500\n",
      "24/24 [==============================] - 0s 3ms/step - loss: 2478.5955 - val_loss: 1815.1548\n",
      "Epoch 45/500\n",
      "24/24 [==============================] - 0s 3ms/step - loss: 2431.2317 - val_loss: 1783.7529\n",
      "Epoch 46/500\n",
      "24/24 [==============================] - 0s 4ms/step - loss: 2384.7896 - val_loss: 1753.0265\n",
      "Epoch 47/500\n",
      "24/24 [==============================] - 0s 3ms/step - loss: 2339.2019 - val_loss: 1722.9348\n",
      "Epoch 48/500\n",
      "24/24 [==============================] - 0s 4ms/step - loss: 2294.4192 - val_loss: 1693.4464\n",
      "Epoch 49/500\n",
      "24/24 [==============================] - 0s 3ms/step - loss: 2250.4014 - val_loss: 1664.5365\n",
      "Epoch 50/500\n",
      "24/24 [==============================] - 0s 7ms/step - loss: 2207.1177 - val_loss: 1636.1842\n",
      "Epoch 51/500\n",
      "24/24 [==============================] - 0s 3ms/step - loss: 2164.5415 - val_loss: 1608.3721\n",
      "Epoch 52/500\n",
      "24/24 [==============================] - 0s 3ms/step - loss: 2122.6514 - val_loss: 1581.0858\n",
      "Epoch 53/500\n",
      "24/24 [==============================] - 0s 3ms/step - loss: 2081.4285 - val_loss: 1554.3114\n",
      "Epoch 54/500\n",
      "24/24 [==============================] - 0s 3ms/step - loss: 2040.8546 - val_loss: 1528.0366\n",
      "Epoch 55/500\n",
      "24/24 [==============================] - 0s 3ms/step - loss: 2000.8911 - val_loss: 1501.6964\n",
      "Epoch 56/500\n",
      "24/24 [==============================] - 0s 4ms/step - loss: 1957.0662 - val_loss: 1470.8849\n",
      "Epoch 57/500\n",
      "24/24 [==============================] - 0s 3ms/step - loss: 1910.6505 - val_loss: 1441.6890\n",
      "Epoch 58/500\n",
      "24/24 [==============================] - 0s 3ms/step - loss: 1866.6874 - val_loss: 1414.0024\n",
      "Epoch 59/500\n",
      "24/24 [==============================] - 0s 3ms/step - loss: 1824.5492 - val_loss: 1387.4109\n",
      "Epoch 60/500\n",
      "24/24 [==============================] - 0s 4ms/step - loss: 1783.7755 - val_loss: 1361.7017\n",
      "Epoch 61/500\n",
      "24/24 [==============================] - 0s 4ms/step - loss: 1744.1235 - val_loss: 1336.7556\n",
      "Epoch 62/500\n",
      "24/24 [==============================] - 0s 4ms/step - loss: 1705.4515 - val_loss: 1312.4965\n",
      "Epoch 63/500\n",
      "24/24 [==============================] - 0s 4ms/step - loss: 1667.6658 - val_loss: 1288.8718\n",
      "Epoch 64/500\n",
      "24/24 [==============================] - 0s 4ms/step - loss: 1630.6993 - val_loss: 1265.8430\n",
      "Epoch 65/500\n",
      "24/24 [==============================] - 0s 4ms/step - loss: 1594.5034 - val_loss: 1243.3785\n",
      "Epoch 66/500\n",
      "24/24 [==============================] - 0s 4ms/step - loss: 1559.0385 - val_loss: 1221.4546\n",
      "Epoch 67/500\n",
      "24/24 [==============================] - 0s 5ms/step - loss: 1524.2719 - val_loss: 1200.0497\n",
      "Epoch 68/500\n",
      "24/24 [==============================] - 0s 5ms/step - loss: 1490.1772 - val_loss: 1179.1471\n",
      "Epoch 69/500\n",
      "24/24 [==============================] - 0s 5ms/step - loss: 1456.7321 - val_loss: 1158.7311\n",
      "Epoch 70/500\n",
      "24/24 [==============================] - 0s 5ms/step - loss: 1423.9172 - val_loss: 1138.7880\n",
      "Epoch 71/500\n",
      "24/24 [==============================] - 0s 4ms/step - loss: 1391.7141 - val_loss: 1119.3058\n",
      "Epoch 72/500\n",
      "24/24 [==============================] - 0s 4ms/step - loss: 1360.1080 - val_loss: 1100.2738\n",
      "Epoch 73/500\n",
      "24/24 [==============================] - 0s 8ms/step - loss: 1329.0845 - val_loss: 1081.6813\n",
      "Epoch 74/500\n",
      "24/24 [==============================] - 0s 4ms/step - loss: 1298.6299 - val_loss: 1063.5189\n",
      "Epoch 75/500\n",
      "24/24 [==============================] - 0s 4ms/step - loss: 1268.7330 - val_loss: 1045.7782\n",
      "Epoch 76/500\n",
      "24/24 [==============================] - 0s 3ms/step - loss: 1239.3831 - val_loss: 1028.4507\n",
      "Epoch 77/500\n",
      "24/24 [==============================] - 0s 3ms/step - loss: 1210.5690 - val_loss: 1011.5292\n",
      "Epoch 78/500\n",
      "24/24 [==============================] - 0s 4ms/step - loss: 1182.2817 - val_loss: 995.0060\n",
      "Epoch 79/500\n",
      "24/24 [==============================] - 0s 3ms/step - loss: 1154.5117 - val_loss: 978.8734\n",
      "Epoch 80/500\n",
      "24/24 [==============================] - 0s 5ms/step - loss: 1127.2499 - val_loss: 963.1258\n",
      "Epoch 81/500\n",
      "24/24 [==============================] - 0s 5ms/step - loss: 1100.4883 - val_loss: 947.7559\n",
      "Epoch 82/500\n",
      "24/24 [==============================] - 0s 3ms/step - loss: 1074.2189 - val_loss: 932.7581\n",
      "Epoch 83/500\n",
      "24/24 [==============================] - 0s 4ms/step - loss: 1048.4340 - val_loss: 918.1255\n",
      "Epoch 84/500\n",
      "24/24 [==============================] - 0s 4ms/step - loss: 1023.1264 - val_loss: 903.8535\n",
      "Epoch 85/500\n",
      "24/24 [==============================] - 0s 3ms/step - loss: 998.2891 - val_loss: 889.9356\n",
      "Epoch 86/500\n",
      "24/24 [==============================] - 0s 3ms/step - loss: 973.9153 - val_loss: 876.3666\n",
      "Epoch 87/500\n",
      "24/24 [==============================] - 0s 3ms/step - loss: 949.9983 - val_loss: 863.1409\n",
      "Epoch 88/500\n",
      "24/24 [==============================] - 0s 4ms/step - loss: 926.5308 - val_loss: 850.2535\n",
      "Epoch 89/500\n",
      "24/24 [==============================] - 0s 3ms/step - loss: 903.5075 - val_loss: 837.6990\n",
      "Epoch 90/500\n",
      "24/24 [==============================] - 0s 4ms/step - loss: 880.9217 - val_loss: 825.4728\n",
      "Epoch 91/500\n",
      "24/24 [==============================] - 0s 3ms/step - loss: 858.7680 - val_loss: 813.5696\n",
      "Epoch 92/500\n",
      "24/24 [==============================] - 0s 4ms/step - loss: 837.0402 - val_loss: 801.9846\n",
      "Epoch 93/500\n",
      "24/24 [==============================] - 0s 3ms/step - loss: 815.7321 - val_loss: 790.7128\n",
      "Epoch 94/500\n",
      "24/24 [==============================] - 0s 4ms/step - loss: 794.8383 - val_loss: 779.7497\n",
      "Epoch 95/500\n",
      "24/24 [==============================] - 0s 3ms/step - loss: 774.3533 - val_loss: 769.0909\n",
      "Epoch 96/500\n",
      "24/24 [==============================] - 0s 3ms/step - loss: 754.2721 - val_loss: 758.7318\n",
      "Epoch 97/500\n",
      "24/24 [==============================] - 0s 4ms/step - loss: 734.5891 - val_loss: 748.6678\n",
      "Epoch 98/500\n",
      "24/24 [==============================] - 0s 7ms/step - loss: 715.2988 - val_loss: 738.8942\n",
      "Epoch 99/500\n",
      "24/24 [==============================] - 0s 5ms/step - loss: 696.3961 - val_loss: 729.4070\n",
      "Epoch 100/500\n",
      "24/24 [==============================] - 0s 5ms/step - loss: 677.8760 - val_loss: 720.2017\n",
      "Epoch 101/500\n",
      "24/24 [==============================] - 0s 4ms/step - loss: 659.7333 - val_loss: 711.2737\n",
      "Epoch 102/500\n",
      "24/24 [==============================] - 0s 5ms/step - loss: 641.9634 - val_loss: 702.6193\n",
      "Epoch 103/500\n",
      "24/24 [==============================] - 0s 4ms/step - loss: 624.5609 - val_loss: 694.2338\n",
      "Epoch 104/500\n",
      "24/24 [==============================] - 0s 4ms/step - loss: 607.5209 - val_loss: 686.1132\n",
      "Epoch 105/500\n",
      "24/24 [==============================] - 0s 3ms/step - loss: 590.8391 - val_loss: 678.2534\n",
      "Epoch 106/500\n",
      "24/24 [==============================] - 0s 3ms/step - loss: 574.5101 - val_loss: 670.6499\n",
      "Epoch 107/500\n",
      "24/24 [==============================] - 0s 4ms/step - loss: 558.5297 - val_loss: 663.2993\n",
      "Epoch 108/500\n",
      "24/24 [==============================] - 0s 4ms/step - loss: 542.8929 - val_loss: 656.1971\n",
      "Epoch 109/500\n",
      "24/24 [==============================] - 0s 5ms/step - loss: 527.5953 - val_loss: 649.3390\n",
      "Epoch 110/500\n",
      "24/24 [==============================] - 0s 3ms/step - loss: 512.6319 - val_loss: 642.7216\n",
      "Epoch 111/500\n",
      "24/24 [==============================] - 0s 4ms/step - loss: 497.9984 - val_loss: 636.3403\n",
      "Epoch 112/500\n",
      "24/24 [==============================] - 0s 7ms/step - loss: 483.6904 - val_loss: 630.1916\n",
      "Epoch 113/500\n",
      "24/24 [==============================] - 0s 5ms/step - loss: 469.7030 - val_loss: 624.2712\n",
      "Epoch 114/500\n",
      "24/24 [==============================] - 0s 4ms/step - loss: 456.0320 - val_loss: 618.5754\n",
      "Epoch 115/500\n",
      "24/24 [==============================] - 0s 4ms/step - loss: 442.6729 - val_loss: 613.1002\n",
      "Epoch 116/500\n",
      "24/24 [==============================] - 0s 5ms/step - loss: 429.6213 - val_loss: 607.8419\n",
      "Epoch 117/500\n",
      "24/24 [==============================] - 0s 4ms/step - loss: 416.8729 - val_loss: 602.7962\n",
      "Epoch 118/500\n",
      "24/24 [==============================] - 0s 5ms/step - loss: 404.4231 - val_loss: 597.9597\n",
      "Epoch 119/500\n",
      "24/24 [==============================] - 0s 5ms/step - loss: 392.2678 - val_loss: 593.3283\n",
      "Epoch 120/500\n",
      "24/24 [==============================] - 0s 5ms/step - loss: 380.4025 - val_loss: 588.8984\n",
      "Epoch 121/500\n",
      "24/24 [==============================] - 0s 7ms/step - loss: 368.8234 - val_loss: 584.6660\n",
      "Epoch 122/500\n",
      "24/24 [==============================] - 0s 3ms/step - loss: 357.5256 - val_loss: 580.6274\n",
      "Epoch 123/500\n",
      "24/24 [==============================] - 0s 4ms/step - loss: 346.5052 - val_loss: 576.7787\n",
      "Epoch 124/500\n",
      "24/24 [==============================] - 0s 4ms/step - loss: 335.7575 - val_loss: 573.1164\n",
      "Epoch 125/500\n",
      "24/24 [==============================] - 0s 4ms/step - loss: 325.2789 - val_loss: 569.6364\n",
      "Epoch 126/500\n",
      "24/24 [==============================] - 0s 3ms/step - loss: 315.0652 - val_loss: 566.3354\n",
      "Epoch 127/500\n",
      "24/24 [==============================] - 0s 3ms/step - loss: 305.1121 - val_loss: 563.2095\n",
      "Epoch 128/500\n",
      "24/24 [==============================] - 0s 4ms/step - loss: 295.4155 - val_loss: 560.2549\n",
      "Epoch 129/500\n",
      "24/24 [==============================] - 0s 4ms/step - loss: 285.9710 - val_loss: 557.4681\n",
      "Epoch 130/500\n",
      "24/24 [==============================] - 0s 4ms/step - loss: 276.7750 - val_loss: 554.8452\n",
      "Epoch 131/500\n",
      "24/24 [==============================] - 0s 3ms/step - loss: 267.8231 - val_loss: 552.3828\n",
      "Epoch 132/500\n",
      "24/24 [==============================] - 0s 3ms/step - loss: 259.1111 - val_loss: 550.0770\n",
      "Epoch 133/500\n",
      "24/24 [==============================] - 0s 4ms/step - loss: 250.6352 - val_loss: 547.9245\n",
      "Epoch 134/500\n",
      "24/24 [==============================] - 0s 4ms/step - loss: 242.3915 - val_loss: 545.9214\n",
      "Epoch 135/500\n",
      "24/24 [==============================] - 0s 3ms/step - loss: 234.3760 - val_loss: 544.0644\n",
      "Epoch 136/500\n",
      "24/24 [==============================] - 0s 4ms/step - loss: 226.5844 - val_loss: 542.3497\n",
      "Epoch 137/500\n",
      "24/24 [==============================] - 0s 4ms/step - loss: 219.0127 - val_loss: 540.7739\n",
      "Epoch 138/500\n",
      "24/24 [==============================] - 0s 4ms/step - loss: 211.6572 - val_loss: 539.3333\n",
      "Epoch 139/500\n",
      "24/24 [==============================] - 0s 4ms/step - loss: 204.5140 - val_loss: 538.0244\n",
      "Epoch 140/500\n",
      "24/24 [==============================] - 0s 4ms/step - loss: 197.5790 - val_loss: 536.8437\n",
      "Epoch 141/500\n",
      "24/24 [==============================] - 0s 4ms/step - loss: 190.8486 - val_loss: 535.7877\n",
      "Epoch 142/500\n",
      "24/24 [==============================] - 0s 4ms/step - loss: 184.3186 - val_loss: 534.8531\n",
      "Epoch 143/500\n",
      "24/24 [==============================] - 0s 4ms/step - loss: 177.9854 - val_loss: 534.0363\n",
      "Epoch 144/500\n",
      "24/24 [==============================] - 0s 7ms/step - loss: 171.8447 - val_loss: 533.3339\n",
      "Epoch 145/500\n",
      "24/24 [==============================] - 0s 4ms/step - loss: 165.8931 - val_loss: 532.7424\n",
      "Epoch 146/500\n",
      "24/24 [==============================] - 0s 4ms/step - loss: 160.1268 - val_loss: 532.2585\n",
      "Epoch 147/500\n",
      "24/24 [==============================] - 0s 5ms/step - loss: 154.5420 - val_loss: 531.8790\n",
      "Epoch 148/500\n",
      "24/24 [==============================] - 0s 4ms/step - loss: 149.1350 - val_loss: 531.6003\n",
      "Epoch 149/500\n",
      "24/24 [==============================] - 0s 7ms/step - loss: 143.9020 - val_loss: 531.4192\n",
      "Epoch 150/500\n",
      "24/24 [==============================] - 0s 4ms/step - loss: 138.8393 - val_loss: 531.3323\n",
      "Epoch 151/500\n",
      "24/24 [==============================] - 0s 5ms/step - loss: 133.9433 - val_loss: 531.3365\n",
      "Epoch 152/500\n",
      "24/24 [==============================] - 0s 4ms/step - loss: 129.2103 - val_loss: 531.4285\n",
      "Epoch 153/500\n",
      "24/24 [==============================] - 0s 4ms/step - loss: 124.6366 - val_loss: 531.6050\n",
      "Epoch 154/500\n",
      "24/24 [==============================] - 0s 5ms/step - loss: 120.2186 - val_loss: 531.8629\n",
      "Epoch 155/500\n",
      "24/24 [==============================] - 0s 4ms/step - loss: 115.9530 - val_loss: 532.1990\n",
      "Epoch 156/500\n",
      "24/24 [==============================] - 0s 4ms/step - loss: 111.8360 - val_loss: 532.6102\n",
      "Epoch 157/500\n",
      "24/24 [==============================] - 0s 4ms/step - loss: 107.8642 - val_loss: 533.0934\n",
      "Epoch 158/500\n",
      "24/24 [==============================] - 0s 3ms/step - loss: 104.0340 - val_loss: 533.6456\n",
      "Epoch 159/500\n",
      "24/24 [==============================] - 0s 4ms/step - loss: 100.3421 - val_loss: 534.2635\n",
      "Epoch 160/500\n",
      "24/24 [==============================] - 0s 4ms/step - loss: 96.7851 - val_loss: 534.9445\n",
      "Epoch 161/500\n",
      "24/24 [==============================] - 0s 5ms/step - loss: 93.3593 - val_loss: 535.6853\n",
      "Epoch 162/500\n",
      "24/24 [==============================] - 0s 4ms/step - loss: 90.0617 - val_loss: 536.4832\n",
      "Epoch 163/500\n",
      "24/24 [==============================] - 0s 4ms/step - loss: 86.8889 - val_loss: 537.3352\n",
      "Epoch 164/500\n",
      "24/24 [==============================] - 0s 8ms/step - loss: 83.8375 - val_loss: 538.2385\n",
      "Epoch 165/500\n",
      "24/24 [==============================] - 0s 4ms/step - loss: 80.9043 - val_loss: 539.1902\n",
      "Epoch 166/500\n",
      "24/24 [==============================] - 0s 4ms/step - loss: 78.0861 - val_loss: 540.1877\n",
      "Epoch 167/500\n",
      "24/24 [==============================] - 0s 3ms/step - loss: 75.3795 - val_loss: 541.2281\n",
      "Epoch 168/500\n",
      "24/24 [==============================] - 0s 3ms/step - loss: 72.7816 - val_loss: 542.3089\n",
      "Epoch 169/500\n",
      "24/24 [==============================] - 0s 3ms/step - loss: 70.2893 - val_loss: 543.4275\n",
      "Epoch 170/500\n",
      "24/24 [==============================] - 0s 3ms/step - loss: 67.8994 - val_loss: 544.5809\n",
      "Epoch 171/500\n",
      "24/24 [==============================] - 0s 4ms/step - loss: 65.6090 - val_loss: 545.7671\n",
      "Epoch 172/500\n",
      "24/24 [==============================] - 0s 4ms/step - loss: 63.4149 - val_loss: 546.9832\n",
      "Epoch 173/500\n",
      "24/24 [==============================] - 0s 4ms/step - loss: 61.3142 - val_loss: 548.2270\n",
      "Epoch 174/500\n",
      "24/24 [==============================] - 0s 4ms/step - loss: 59.3043 - val_loss: 549.4958\n",
      "Epoch 175/500\n",
      "24/24 [==============================] - 0s 4ms/step - loss: 57.3822 - val_loss: 550.7876\n",
      "Epoch 176/500\n",
      "24/24 [==============================] - 0s 4ms/step - loss: 55.5450 - val_loss: 552.0999\n",
      "Epoch 177/500\n",
      "24/24 [==============================] - 0s 4ms/step - loss: 53.7899 - val_loss: 553.4305\n",
      "Epoch 178/500\n",
      "24/24 [==============================] - 0s 4ms/step - loss: 52.1142 - val_loss: 554.7773\n",
      "Epoch 179/500\n",
      "24/24 [==============================] - 0s 4ms/step - loss: 50.5152 - val_loss: 556.1379\n",
      "Epoch 180/500\n",
      "24/24 [==============================] - 0s 4ms/step - loss: 48.9905 - val_loss: 557.5104\n",
      "Epoch 181/500\n",
      "24/24 [==============================] - 0s 5ms/step - loss: 47.5373 - val_loss: 558.8928\n",
      "Epoch 182/500\n",
      "24/24 [==============================] - 0s 4ms/step - loss: 46.1532 - val_loss: 560.2832\n",
      "Epoch 183/500\n",
      "24/24 [==============================] - 0s 6ms/step - loss: 44.8357 - val_loss: 561.6794\n",
      "Epoch 184/500\n",
      "24/24 [==============================] - 0s 4ms/step - loss: 43.5822 - val_loss: 563.0801\n",
      "Epoch 185/500\n",
      "24/24 [==============================] - 0s 11ms/step - loss: 42.3904 - val_loss: 564.4829\n",
      "Epoch 186/500\n",
      "24/24 [==============================] - 0s 4ms/step - loss: 41.2580 - val_loss: 565.8864\n",
      "Epoch 187/500\n",
      "24/24 [==============================] - 0s 4ms/step - loss: 40.1829 - val_loss: 567.2886\n",
      "Epoch 188/500\n",
      "24/24 [==============================] - 0s 4ms/step - loss: 39.1626 - val_loss: 568.6883\n",
      "Epoch 189/500\n",
      "24/24 [==============================] - 0s 4ms/step - loss: 38.1950 - val_loss: 570.0836\n",
      "Epoch 190/500\n",
      "24/24 [==============================] - 0s 4ms/step - loss: 37.2780 - val_loss: 571.4732\n",
      "Epoch 191/500\n",
      "24/24 [==============================] - 0s 4ms/step - loss: 36.4096 - val_loss: 572.8558\n",
      "Epoch 192/500\n",
      "24/24 [==============================] - 0s 4ms/step - loss: 35.5877 - val_loss: 574.2296\n",
      "Epoch 193/500\n",
      "24/24 [==============================] - 0s 4ms/step - loss: 34.8104 - val_loss: 575.5935\n",
      "Epoch 194/500\n",
      "24/24 [==============================] - 0s 4ms/step - loss: 34.0756 - val_loss: 576.9465\n",
      "Epoch 195/500\n",
      "24/24 [==============================] - 0s 4ms/step - loss: 33.3816 - val_loss: 578.2873\n",
      "Epoch 196/500\n",
      "24/24 [==============================] - 0s 4ms/step - loss: 32.7266 - val_loss: 579.6143\n",
      "Epoch 197/500\n",
      "24/24 [==============================] - 0s 5ms/step - loss: 32.1089 - val_loss: 580.9271\n",
      "Epoch 198/500\n",
      "24/24 [==============================] - 0s 4ms/step - loss: 31.5266 - val_loss: 582.2242\n",
      "Epoch 199/500\n",
      "24/24 [==============================] - 0s 6ms/step - loss: 30.9782 - val_loss: 583.5047\n",
      "Epoch 200/500\n",
      "24/24 [==============================] - 0s 5ms/step - loss: 30.4621 - val_loss: 584.7679\n",
      "Epoch 201/500\n",
      "24/24 [==============================] - 0s 5ms/step - loss: 29.9768 - val_loss: 586.0130\n",
      "Epoch 202/500\n",
      "24/24 [==============================] - 0s 4ms/step - loss: 29.5206 - val_loss: 587.2388\n",
      "Epoch 203/500\n",
      "24/24 [==============================] - 0s 5ms/step - loss: 29.0922 - val_loss: 588.4455\n",
      "Epoch 204/500\n",
      "24/24 [==============================] - 0s 5ms/step - loss: 28.6902 - val_loss: 589.6316\n",
      "Epoch 205/500\n",
      "24/24 [==============================] - 0s 4ms/step - loss: 28.3132 - val_loss: 590.7968\n",
      "Epoch 206/500\n",
      "24/24 [==============================] - 0s 4ms/step - loss: 27.9599 - val_loss: 591.9403\n",
      "Epoch 207/500\n",
      "24/24 [==============================] - 0s 4ms/step - loss: 27.6293 - val_loss: 593.0623\n",
      "Epoch 208/500\n",
      "24/24 [==============================] - 0s 4ms/step - loss: 27.3197 - val_loss: 594.1613\n",
      "Epoch 209/500\n",
      "24/24 [==============================] - 0s 3ms/step - loss: 27.0305 - val_loss: 595.2377\n",
      "Epoch 210/500\n",
      "24/24 [==============================] - 0s 4ms/step - loss: 26.7603 - val_loss: 596.2908\n",
      "Epoch 211/500\n",
      "24/24 [==============================] - 0s 4ms/step - loss: 26.5080 - val_loss: 597.3204\n",
      "Epoch 212/500\n",
      "24/24 [==============================] - 0s 4ms/step - loss: 26.2728 - val_loss: 598.3262\n",
      "Epoch 213/500\n",
      "24/24 [==============================] - 0s 3ms/step - loss: 26.0536 - val_loss: 599.3085\n",
      "Epoch 214/500\n",
      "24/24 [==============================] - 0s 4ms/step - loss: 25.8493 - val_loss: 600.2663\n",
      "Epoch 215/500\n",
      "24/24 [==============================] - 0s 4ms/step - loss: 25.6593 - val_loss: 601.2003\n",
      "Epoch 216/500\n",
      "24/24 [==============================] - 0s 4ms/step - loss: 25.4826 - val_loss: 602.1098\n",
      "Epoch 217/500\n",
      "24/24 [==============================] - 0s 4ms/step - loss: 25.3184 - val_loss: 602.9951\n",
      "Epoch 218/500\n",
      "24/24 [==============================] - 0s 6ms/step - loss: 25.1660 - val_loss: 603.8561\n",
      "Epoch 219/500\n",
      "24/24 [==============================] - 0s 4ms/step - loss: 25.0246 - val_loss: 604.6927\n",
      "Epoch 220/500\n",
      "24/24 [==============================] - 0s 5ms/step - loss: 24.8936 - val_loss: 605.5054\n",
      "Epoch 221/500\n",
      "24/24 [==============================] - 0s 8ms/step - loss: 24.7722 - val_loss: 606.2941\n",
      "Epoch 222/500\n",
      "24/24 [==============================] - 0s 14ms/step - loss: 24.6598 - val_loss: 607.0590\n",
      "Epoch 223/500\n",
      "24/24 [==============================] - 0s 5ms/step - loss: 24.5560 - val_loss: 607.7999\n",
      "Epoch 224/500\n",
      "24/24 [==============================] - 0s 4ms/step - loss: 24.4599 - val_loss: 608.5176\n",
      "Epoch 225/500\n",
      "24/24 [==============================] - 0s 4ms/step - loss: 24.3713 - val_loss: 609.2124\n",
      "Epoch 226/500\n",
      "24/24 [==============================] - 0s 5ms/step - loss: 24.2894 - val_loss: 609.8837\n",
      "Epoch 227/500\n",
      "24/24 [==============================] - 0s 5ms/step - loss: 24.2141 - val_loss: 610.5330\n",
      "Epoch 228/500\n",
      "24/24 [==============================] - 0s 4ms/step - loss: 24.1445 - val_loss: 611.1595\n",
      "Epoch 229/500\n",
      "24/24 [==============================] - 0s 4ms/step - loss: 24.0806 - val_loss: 611.7642\n",
      "Epoch 230/500\n",
      "24/24 [==============================] - 0s 4ms/step - loss: 24.0217 - val_loss: 612.3470\n",
      "Epoch 231/500\n",
      "24/24 [==============================] - 0s 4ms/step - loss: 23.9676 - val_loss: 612.9089\n",
      "Epoch 232/500\n",
      "24/24 [==============================] - 0s 4ms/step - loss: 23.9179 - val_loss: 613.4499\n",
      "Epoch 233/500\n",
      "24/24 [==============================] - 0s 4ms/step - loss: 23.8723 - val_loss: 613.9703\n",
      "Epoch 234/500\n",
      "24/24 [==============================] - 0s 4ms/step - loss: 23.8304 - val_loss: 614.4705\n",
      "Epoch 235/500\n",
      "24/24 [==============================] - 0s 4ms/step - loss: 23.7921 - val_loss: 614.9512\n",
      "Epoch 236/500\n",
      "24/24 [==============================] - 0s 5ms/step - loss: 23.7570 - val_loss: 615.4130\n",
      "Epoch 237/500\n",
      "24/24 [==============================] - 0s 7ms/step - loss: 23.7248 - val_loss: 615.8558\n",
      "Epoch 238/500\n",
      "24/24 [==============================] - 0s 9ms/step - loss: 23.6953 - val_loss: 616.2805\n",
      "Epoch 239/500\n",
      "24/24 [==============================] - 0s 10ms/step - loss: 23.6684 - val_loss: 616.6873\n",
      "Epoch 240/500\n",
      "24/24 [==============================] - 0s 5ms/step - loss: 23.6439 - val_loss: 617.0769\n",
      "Epoch 241/500\n",
      "24/24 [==============================] - 0s 4ms/step - loss: 23.6215 - val_loss: 617.4495\n",
      "Epoch 242/500\n",
      "24/24 [==============================] - 0s 4ms/step - loss: 23.6010 - val_loss: 617.8059\n",
      "Epoch 243/500\n",
      "24/24 [==============================] - 0s 4ms/step - loss: 23.5824 - val_loss: 618.1464\n",
      "Epoch 244/500\n",
      "24/24 [==============================] - 0s 4ms/step - loss: 23.5654 - val_loss: 618.4713\n",
      "Epoch 245/500\n",
      "24/24 [==============================] - 0s 4ms/step - loss: 23.5499 - val_loss: 618.7815\n",
      "Epoch 246/500\n",
      "24/24 [==============================] - 0s 4ms/step - loss: 23.5358 - val_loss: 619.0770\n",
      "Epoch 247/500\n",
      "24/24 [==============================] - 0s 3ms/step - loss: 23.5230 - val_loss: 619.3588\n",
      "Epoch 248/500\n",
      "24/24 [==============================] - 0s 5ms/step - loss: 23.5114 - val_loss: 619.6269\n",
      "Epoch 249/500\n",
      "24/24 [==============================] - 0s 4ms/step - loss: 23.5009 - val_loss: 619.8820\n",
      "Epoch 250/500\n",
      "24/24 [==============================] - 0s 4ms/step - loss: 23.4913 - val_loss: 620.1243\n",
      "Epoch 251/500\n",
      "24/24 [==============================] - 0s 4ms/step - loss: 23.4827 - val_loss: 620.3551\n",
      "Epoch 252/500\n",
      "24/24 [==============================] - 0s 5ms/step - loss: 23.4749 - val_loss: 620.5739\n",
      "Epoch 253/500\n",
      "24/24 [==============================] - 0s 5ms/step - loss: 23.4678 - val_loss: 620.7814\n",
      "Epoch 254/500\n",
      "24/24 [==============================] - 0s 4ms/step - loss: 23.4613 - val_loss: 620.9785\n",
      "Epoch 255/500\n",
      "24/24 [==============================] - 0s 4ms/step - loss: 23.4555 - val_loss: 621.1646\n",
      "Epoch 256/500\n",
      "24/24 [==============================] - 0s 4ms/step - loss: 23.4503 - val_loss: 621.3409\n",
      "Epoch 257/500\n",
      "24/24 [==============================] - 0s 7ms/step - loss: 23.4457 - val_loss: 621.5079\n",
      "Epoch 258/500\n",
      "24/24 [==============================] - 0s 4ms/step - loss: 23.4414 - val_loss: 621.6655\n",
      "Epoch 259/500\n",
      "24/24 [==============================] - 0s 4ms/step - loss: 23.4376 - val_loss: 621.8142\n",
      "Epoch 260/500\n",
      "24/24 [==============================] - 0s 4ms/step - loss: 23.4343 - val_loss: 621.9551\n",
      "Epoch 261/500\n",
      "24/24 [==============================] - 0s 4ms/step - loss: 23.4312 - val_loss: 622.0876\n",
      "Epoch 262/500\n",
      "24/24 [==============================] - 0s 4ms/step - loss: 23.4285 - val_loss: 622.2123\n",
      "Epoch 263/500\n",
      "24/24 [==============================] - 0s 4ms/step - loss: 23.4261 - val_loss: 622.3298\n",
      "Epoch 264/500\n",
      "24/24 [==============================] - 0s 4ms/step - loss: 23.4240 - val_loss: 622.4407\n",
      "Epoch 265/500\n",
      "24/24 [==============================] - 0s 5ms/step - loss: 23.4222 - val_loss: 622.5451\n",
      "Epoch 266/500\n",
      "24/24 [==============================] - 0s 3ms/step - loss: 23.4205 - val_loss: 622.6425\n",
      "Epoch 267/500\n",
      "24/24 [==============================] - 0s 3ms/step - loss: 23.4191 - val_loss: 622.7344\n",
      "Epoch 268/500\n",
      "24/24 [==============================] - 0s 4ms/step - loss: 23.4178 - val_loss: 622.8205\n",
      "Epoch 269/500\n",
      "24/24 [==============================] - 0s 4ms/step - loss: 23.4168 - val_loss: 622.9014\n",
      "Epoch 270/500\n",
      "24/24 [==============================] - 0s 4ms/step - loss: 23.4159 - val_loss: 622.9771\n",
      "Epoch 271/500\n",
      "24/24 [==============================] - 0s 4ms/step - loss: 23.4151 - val_loss: 623.0479\n",
      "Epoch 272/500\n",
      "24/24 [==============================] - 0s 4ms/step - loss: 23.4146 - val_loss: 623.1141\n",
      "Epoch 273/500\n",
      "24/24 [==============================] - 0s 3ms/step - loss: 23.4141 - val_loss: 623.1759\n",
      "Epoch 274/500\n",
      "24/24 [==============================] - 0s 7ms/step - loss: 23.4136 - val_loss: 623.2338\n",
      "Epoch 275/500\n",
      "24/24 [==============================] - 0s 3ms/step - loss: 23.4134 - val_loss: 623.2877\n",
      "Epoch 276/500\n",
      "24/24 [==============================] - 0s 3ms/step - loss: 23.4131 - val_loss: 623.3380\n",
      "Epoch 277/500\n",
      "24/24 [==============================] - 0s 3ms/step - loss: 23.4130 - val_loss: 623.3845\n",
      "Epoch 278/500\n",
      "24/24 [==============================] - 0s 3ms/step - loss: 23.4130 - val_loss: 623.4280\n",
      "Epoch 279/500\n",
      "24/24 [==============================] - 0s 4ms/step - loss: 23.4131 - val_loss: 623.4684\n",
      "Epoch 280/500\n",
      "24/24 [==============================] - 0s 4ms/step - loss: 23.4132 - val_loss: 623.5060\n",
      "Epoch 281/500\n",
      "24/24 [==============================] - 0s 4ms/step - loss: 23.4134 - val_loss: 623.5412\n",
      "Epoch 282/500\n",
      "24/24 [==============================] - 0s 3ms/step - loss: 23.4135 - val_loss: 623.5734\n",
      "Epoch 283/500\n",
      "24/24 [==============================] - 0s 4ms/step - loss: 23.4138 - val_loss: 623.6031\n",
      "Epoch 284/500\n",
      "24/24 [==============================] - 0s 4ms/step - loss: 23.4141 - val_loss: 623.6306\n",
      "Epoch 285/500\n",
      "24/24 [==============================] - 0s 4ms/step - loss: 23.4145 - val_loss: 623.6563\n",
      "Epoch 286/500\n",
      "24/24 [==============================] - 0s 4ms/step - loss: 23.4149 - val_loss: 623.6796\n",
      "Epoch 287/500\n",
      "24/24 [==============================] - 0s 4ms/step - loss: 23.4153 - val_loss: 623.7014\n",
      "Epoch 288/500\n",
      "24/24 [==============================] - 0s 4ms/step - loss: 23.4158 - val_loss: 623.7211\n",
      "Epoch 289/500\n",
      "24/24 [==============================] - 0s 4ms/step - loss: 23.4163 - val_loss: 623.7393\n",
      "Epoch 290/500\n",
      "24/24 [==============================] - 0s 7ms/step - loss: 23.4168 - val_loss: 623.7560\n",
      "Epoch 291/500\n",
      "24/24 [==============================] - 0s 4ms/step - loss: 23.4174 - val_loss: 623.7716\n",
      "Epoch 292/500\n",
      "24/24 [==============================] - 0s 4ms/step - loss: 23.4179 - val_loss: 623.7856\n",
      "Epoch 293/500\n",
      "24/24 [==============================] - 0s 4ms/step - loss: 23.4185 - val_loss: 623.7985\n",
      "Epoch 294/500\n",
      "24/24 [==============================] - 0s 4ms/step - loss: 23.4191 - val_loss: 623.8103\n",
      "Epoch 295/500\n",
      "24/24 [==============================] - 0s 4ms/step - loss: 23.4197 - val_loss: 623.8207\n",
      "Epoch 296/500\n",
      "24/24 [==============================] - 0s 4ms/step - loss: 23.4204 - val_loss: 623.8303\n",
      "Epoch 297/500\n",
      "24/24 [==============================] - 0s 4ms/step - loss: 23.4210 - val_loss: 623.8390\n",
      "Epoch 298/500\n",
      "24/24 [==============================] - 0s 4ms/step - loss: 23.4217 - val_loss: 623.8469\n",
      "Epoch 299/500\n",
      "24/24 [==============================] - 0s 4ms/step - loss: 23.4223 - val_loss: 623.8539\n",
      "Epoch 300/500\n",
      "24/24 [==============================] - 0s 4ms/step - loss: 23.4230 - val_loss: 623.8601\n",
      "Epoch 301/500\n",
      "24/24 [==============================] - 0s 4ms/step - loss: 23.4237 - val_loss: 623.8660\n",
      "Epoch 302/500\n",
      "24/24 [==============================] - 0s 4ms/step - loss: 23.4244 - val_loss: 623.8711\n",
      "Epoch 303/500\n",
      "24/24 [==============================] - 0s 4ms/step - loss: 23.4251 - val_loss: 623.8753\n",
      "Epoch 304/500\n",
      "24/24 [==============================] - 0s 3ms/step - loss: 23.4258 - val_loss: 623.8793\n",
      "Epoch 305/500\n",
      "24/24 [==============================] - 0s 4ms/step - loss: 23.4265 - val_loss: 623.8830\n",
      "Epoch 306/500\n",
      "24/24 [==============================] - 0s 6ms/step - loss: 23.4271 - val_loss: 623.8856\n",
      "Epoch 307/500\n",
      "24/24 [==============================] - 0s 5ms/step - loss: 23.4279 - val_loss: 623.8884\n",
      "Epoch 308/500\n",
      "24/24 [==============================] - 0s 5ms/step - loss: 23.4286 - val_loss: 623.8907\n",
      "Epoch 309/500\n",
      "24/24 [==============================] - 0s 5ms/step - loss: 23.4293 - val_loss: 623.8924\n",
      "Epoch 310/500\n",
      "24/24 [==============================] - 0s 4ms/step - loss: 23.4300 - val_loss: 623.8936\n",
      "Epoch 311/500\n",
      "24/24 [==============================] - 0s 4ms/step - loss: 23.4308 - val_loss: 623.8951\n",
      "Epoch 312/500\n",
      "24/24 [==============================] - 0s 4ms/step - loss: 23.4314 - val_loss: 623.8959\n",
      "Epoch 313/500\n",
      "24/24 [==============================] - 0s 4ms/step - loss: 23.4322 - val_loss: 623.8971\n",
      "Epoch 314/500\n",
      "24/24 [==============================] - 0s 3ms/step - loss: 23.4328 - val_loss: 623.8976\n",
      "Epoch 315/500\n",
      "24/24 [==============================] - 0s 4ms/step - loss: 23.4336 - val_loss: 623.8984\n",
      "Epoch 316/500\n",
      "24/24 [==============================] - 0s 4ms/step - loss: 23.4342 - val_loss: 623.8986\n",
      "Epoch 317/500\n",
      "24/24 [==============================] - 0s 5ms/step - loss: 23.4349 - val_loss: 623.8987\n",
      "Epoch 318/500\n",
      "24/24 [==============================] - 0s 5ms/step - loss: 23.4356 - val_loss: 623.8986\n",
      "Epoch 319/500\n",
      "24/24 [==============================] - 0s 5ms/step - loss: 23.4362 - val_loss: 623.8981\n",
      "Epoch 320/500\n",
      "24/24 [==============================] - 0s 4ms/step - loss: 23.4369 - val_loss: 623.8977\n",
      "Epoch 321/500\n",
      "24/24 [==============================] - 0s 4ms/step - loss: 23.4376 - val_loss: 623.8970\n",
      "Epoch 322/500\n",
      "24/24 [==============================] - 0s 4ms/step - loss: 23.4382 - val_loss: 623.8964\n",
      "Epoch 323/500\n",
      "24/24 [==============================] - 0s 8ms/step - loss: 23.4389 - val_loss: 623.8953\n",
      "Epoch 324/500\n",
      "24/24 [==============================] - 0s 4ms/step - loss: 23.4396 - val_loss: 623.8945\n",
      "Epoch 325/500\n",
      "24/24 [==============================] - 0s 4ms/step - loss: 23.4402 - val_loss: 623.8934\n",
      "Epoch 326/500\n",
      "24/24 [==============================] - 0s 4ms/step - loss: 23.4408 - val_loss: 623.8925\n",
      "Epoch 327/500\n",
      "24/24 [==============================] - 0s 5ms/step - loss: 23.4415 - val_loss: 623.8914\n",
      "Epoch 328/500\n",
      "24/24 [==============================] - 0s 5ms/step - loss: 23.4420 - val_loss: 623.8902\n",
      "Epoch 329/500\n",
      "24/24 [==============================] - 0s 5ms/step - loss: 23.4427 - val_loss: 623.8889\n",
      "Epoch 330/500\n",
      "24/24 [==============================] - 0s 5ms/step - loss: 23.4433 - val_loss: 623.8879\n",
      "Epoch 331/500\n",
      "24/24 [==============================] - 0s 5ms/step - loss: 23.4439 - val_loss: 623.8869\n",
      "Epoch 332/500\n",
      "24/24 [==============================] - 0s 5ms/step - loss: 23.4445 - val_loss: 623.8858\n",
      "Epoch 333/500\n",
      "24/24 [==============================] - 0s 5ms/step - loss: 23.4450 - val_loss: 623.8842\n",
      "Epoch 334/500\n",
      "24/24 [==============================] - 0s 5ms/step - loss: 23.4457 - val_loss: 623.8831\n",
      "Epoch 335/500\n",
      "24/24 [==============================] - 0s 5ms/step - loss: 23.4462 - val_loss: 623.8817\n",
      "Epoch 336/500\n",
      "24/24 [==============================] - 0s 5ms/step - loss: 23.4467 - val_loss: 623.8804\n",
      "Epoch 337/500\n",
      "24/24 [==============================] - 0s 5ms/step - loss: 23.4473 - val_loss: 623.8791\n",
      "Epoch 338/500\n",
      "24/24 [==============================] - 0s 9ms/step - loss: 23.4479 - val_loss: 623.8778\n",
      "Epoch 339/500\n",
      "24/24 [==============================] - 0s 5ms/step - loss: 23.4484 - val_loss: 623.8763\n",
      "Epoch 340/500\n",
      "24/24 [==============================] - 0s 5ms/step - loss: 23.4489 - val_loss: 623.8751\n",
      "Epoch 341/500\n",
      "24/24 [==============================] - 0s 5ms/step - loss: 23.4495 - val_loss: 623.8741\n",
      "Epoch 342/500\n",
      "24/24 [==============================] - 0s 5ms/step - loss: 23.4500 - val_loss: 623.8725\n",
      "Epoch 343/500\n",
      "24/24 [==============================] - 0s 5ms/step - loss: 23.4505 - val_loss: 623.8713\n",
      "Epoch 344/500\n",
      "24/24 [==============================] - 0s 5ms/step - loss: 23.4510 - val_loss: 623.8701\n",
      "Epoch 345/500\n",
      "24/24 [==============================] - 0s 6ms/step - loss: 23.4515 - val_loss: 623.8690\n",
      "Epoch 346/500\n",
      "24/24 [==============================] - 0s 6ms/step - loss: 23.4520 - val_loss: 623.8677\n",
      "Epoch 347/500\n",
      "24/24 [==============================] - 0s 5ms/step - loss: 23.4524 - val_loss: 623.8665\n",
      "Epoch 348/500\n",
      "24/24 [==============================] - 0s 5ms/step - loss: 23.4529 - val_loss: 623.8654\n",
      "Epoch 349/500\n",
      "24/24 [==============================] - 0s 5ms/step - loss: 23.4534 - val_loss: 623.8641\n",
      "Epoch 350/500\n",
      "24/24 [==============================] - 0s 5ms/step - loss: 23.4538 - val_loss: 623.8630\n",
      "Epoch 351/500\n",
      "24/24 [==============================] - 0s 5ms/step - loss: 23.4543 - val_loss: 623.8615\n",
      "Epoch 352/500\n",
      "24/24 [==============================] - 0s 10ms/step - loss: 23.4547 - val_loss: 623.8605\n",
      "Epoch 353/500\n",
      "24/24 [==============================] - 0s 5ms/step - loss: 23.4552 - val_loss: 623.8591\n",
      "Epoch 354/500\n",
      "24/24 [==============================] - 0s 5ms/step - loss: 23.4556 - val_loss: 623.8581\n",
      "Epoch 355/500\n",
      "24/24 [==============================] - 0s 5ms/step - loss: 23.4560 - val_loss: 623.8570\n",
      "Epoch 356/500\n",
      "24/24 [==============================] - 0s 5ms/step - loss: 23.4564 - val_loss: 623.8558\n",
      "Epoch 357/500\n",
      "24/24 [==============================] - 0s 4ms/step - loss: 23.4568 - val_loss: 623.8544\n",
      "Epoch 358/500\n",
      "24/24 [==============================] - 0s 5ms/step - loss: 23.4572 - val_loss: 623.8533\n",
      "Epoch 359/500\n",
      "24/24 [==============================] - 0s 5ms/step - loss: 23.4576 - val_loss: 623.8524\n",
      "Epoch 360/500\n",
      "24/24 [==============================] - 0s 5ms/step - loss: 23.4580 - val_loss: 623.8514\n",
      "Epoch 361/500\n",
      "24/24 [==============================] - 0s 5ms/step - loss: 23.4583 - val_loss: 623.8503\n",
      "Epoch 362/500\n",
      "24/24 [==============================] - 0s 5ms/step - loss: 23.4587 - val_loss: 623.8491\n",
      "Epoch 363/500\n",
      "24/24 [==============================] - 0s 5ms/step - loss: 23.4591 - val_loss: 623.8482\n",
      "Epoch 364/500\n",
      "24/24 [==============================] - 0s 5ms/step - loss: 23.4594 - val_loss: 623.8474\n",
      "Epoch 365/500\n",
      "24/24 [==============================] - 0s 5ms/step - loss: 23.4598 - val_loss: 623.8462\n",
      "Epoch 366/500\n",
      "24/24 [==============================] - 0s 9ms/step - loss: 23.4601 - val_loss: 623.8452\n",
      "Epoch 367/500\n",
      "24/24 [==============================] - 0s 5ms/step - loss: 23.4605 - val_loss: 623.8442\n",
      "Epoch 368/500\n",
      "24/24 [==============================] - 0s 5ms/step - loss: 23.4608 - val_loss: 623.8433\n",
      "Epoch 369/500\n",
      "24/24 [==============================] - 0s 5ms/step - loss: 23.4611 - val_loss: 623.8424\n",
      "Epoch 370/500\n",
      "24/24 [==============================] - 0s 5ms/step - loss: 23.4615 - val_loss: 623.8417\n",
      "Epoch 371/500\n",
      "24/24 [==============================] - 0s 5ms/step - loss: 23.4618 - val_loss: 623.8408\n",
      "Epoch 372/500\n",
      "24/24 [==============================] - 0s 5ms/step - loss: 23.4620 - val_loss: 623.8398\n",
      "Epoch 373/500\n",
      "24/24 [==============================] - 0s 5ms/step - loss: 23.4623 - val_loss: 623.8390\n",
      "Epoch 374/500\n",
      "24/24 [==============================] - 0s 4ms/step - loss: 23.4627 - val_loss: 623.8378\n",
      "Epoch 375/500\n",
      "24/24 [==============================] - 0s 5ms/step - loss: 23.4630 - val_loss: 623.8369\n",
      "Epoch 376/500\n",
      "24/24 [==============================] - 0s 5ms/step - loss: 23.4632 - val_loss: 623.8360\n",
      "Epoch 377/500\n",
      "24/24 [==============================] - 0s 4ms/step - loss: 23.4635 - val_loss: 623.8353\n",
      "Epoch 378/500\n",
      "24/24 [==============================] - 0s 4ms/step - loss: 23.4637 - val_loss: 623.8344\n",
      "Epoch 379/500\n",
      "24/24 [==============================] - 0s 9ms/step - loss: 23.4640 - val_loss: 623.8333\n",
      "Epoch 380/500\n",
      "24/24 [==============================] - 0s 3ms/step - loss: 23.4643 - val_loss: 623.8323\n",
      "Epoch 381/500\n",
      "24/24 [==============================] - 0s 3ms/step - loss: 23.4646 - val_loss: 623.8320\n",
      "Epoch 382/500\n",
      "24/24 [==============================] - 0s 4ms/step - loss: 23.4648 - val_loss: 623.8311\n",
      "Epoch 383/500\n",
      "24/24 [==============================] - 0s 4ms/step - loss: 23.4651 - val_loss: 623.8308\n",
      "Epoch 384/500\n",
      "24/24 [==============================] - 0s 4ms/step - loss: 23.4653 - val_loss: 623.8301\n",
      "Epoch 385/500\n",
      "24/24 [==============================] - 0s 3ms/step - loss: 23.4655 - val_loss: 623.8290\n",
      "Epoch 386/500\n",
      "24/24 [==============================] - 0s 3ms/step - loss: 23.4658 - val_loss: 623.8286\n",
      "Epoch 387/500\n",
      "24/24 [==============================] - 0s 4ms/step - loss: 23.4660 - val_loss: 623.8278\n",
      "Epoch 388/500\n",
      "24/24 [==============================] - 0s 4ms/step - loss: 23.4662 - val_loss: 623.8272\n",
      "Epoch 389/500\n",
      "24/24 [==============================] - 0s 4ms/step - loss: 23.4664 - val_loss: 623.8265\n",
      "Epoch 390/500\n",
      "24/24 [==============================] - 0s 4ms/step - loss: 23.4667 - val_loss: 623.8259\n",
      "Epoch 391/500\n",
      "24/24 [==============================] - 0s 5ms/step - loss: 23.4669 - val_loss: 623.8253\n",
      "Epoch 392/500\n",
      "24/24 [==============================] - 0s 5ms/step - loss: 23.4671 - val_loss: 623.8246\n",
      "Epoch 393/500\n",
      "24/24 [==============================] - 0s 7ms/step - loss: 23.4673 - val_loss: 623.8242\n",
      "Epoch 394/500\n",
      "24/24 [==============================] - 0s 4ms/step - loss: 23.4675 - val_loss: 623.8237\n",
      "Epoch 395/500\n",
      "24/24 [==============================] - 0s 4ms/step - loss: 23.4676 - val_loss: 623.8231\n",
      "Epoch 396/500\n",
      "24/24 [==============================] - 0s 4ms/step - loss: 23.4678 - val_loss: 623.8221\n",
      "Epoch 397/500\n",
      "24/24 [==============================] - 0s 4ms/step - loss: 23.4680 - val_loss: 623.8218\n",
      "Epoch 398/500\n",
      "24/24 [==============================] - 0s 4ms/step - loss: 23.4683 - val_loss: 623.8214\n",
      "Epoch 399/500\n",
      "24/24 [==============================] - 0s 4ms/step - loss: 23.4684 - val_loss: 623.8208\n",
      "Epoch 400/500\n",
      "24/24 [==============================] - 0s 4ms/step - loss: 23.4685 - val_loss: 623.8199\n",
      "Epoch 401/500\n",
      "24/24 [==============================] - 0s 4ms/step - loss: 23.4687 - val_loss: 623.8193\n",
      "Epoch 402/500\n",
      "24/24 [==============================] - 0s 3ms/step - loss: 23.4689 - val_loss: 623.8188\n",
      "Epoch 403/500\n",
      "24/24 [==============================] - 0s 3ms/step - loss: 23.4690 - val_loss: 623.8184\n",
      "Epoch 404/500\n",
      "24/24 [==============================] - 0s 5ms/step - loss: 23.4692 - val_loss: 623.8177\n",
      "Epoch 405/500\n",
      "24/24 [==============================] - 0s 4ms/step - loss: 23.4693 - val_loss: 623.8173\n",
      "Epoch 406/500\n",
      "24/24 [==============================] - 0s 4ms/step - loss: 23.4695 - val_loss: 623.8168\n",
      "Epoch 407/500\n",
      "24/24 [==============================] - 0s 4ms/step - loss: 23.4697 - val_loss: 623.8165\n",
      "Epoch 408/500\n",
      "24/24 [==============================] - 0s 4ms/step - loss: 23.4698 - val_loss: 623.8157\n",
      "Epoch 409/500\n",
      "24/24 [==============================] - 0s 3ms/step - loss: 23.4700 - val_loss: 623.8152\n",
      "Epoch 410/500\n",
      "24/24 [==============================] - 0s 4ms/step - loss: 23.4701 - val_loss: 623.8149\n",
      "Epoch 411/500\n",
      "24/24 [==============================] - 0s 8ms/step - loss: 23.4702 - val_loss: 623.8144\n",
      "Epoch 412/500\n",
      "24/24 [==============================] - 0s 4ms/step - loss: 23.4704 - val_loss: 623.8140\n",
      "Epoch 413/500\n",
      "24/24 [==============================] - 0s 3ms/step - loss: 23.4704 - val_loss: 623.8133\n",
      "Epoch 414/500\n",
      "24/24 [==============================] - 0s 4ms/step - loss: 23.4706 - val_loss: 623.8130\n",
      "Epoch 415/500\n",
      "24/24 [==============================] - 0s 4ms/step - loss: 23.4707 - val_loss: 623.8124\n",
      "Epoch 416/500\n",
      "24/24 [==============================] - 0s 4ms/step - loss: 23.4708 - val_loss: 623.8120\n",
      "Epoch 417/500\n",
      "24/24 [==============================] - 0s 4ms/step - loss: 23.4710 - val_loss: 623.8118\n",
      "Epoch 418/500\n",
      "24/24 [==============================] - 0s 4ms/step - loss: 23.4711 - val_loss: 623.8115\n",
      "Epoch 419/500\n",
      "24/24 [==============================] - 0s 4ms/step - loss: 23.4712 - val_loss: 623.8113\n",
      "Epoch 420/500\n",
      "24/24 [==============================] - 0s 4ms/step - loss: 23.4713 - val_loss: 623.8107\n",
      "Epoch 421/500\n",
      "24/24 [==============================] - 0s 4ms/step - loss: 23.4714 - val_loss: 623.8103\n",
      "Epoch 422/500\n",
      "24/24 [==============================] - 0s 4ms/step - loss: 23.4716 - val_loss: 623.8103\n",
      "Epoch 423/500\n",
      "24/24 [==============================] - 0s 4ms/step - loss: 23.4716 - val_loss: 623.8100\n",
      "Epoch 424/500\n",
      "24/24 [==============================] - 0s 4ms/step - loss: 23.4718 - val_loss: 623.8098\n",
      "Epoch 425/500\n",
      "24/24 [==============================] - 0s 4ms/step - loss: 23.4718 - val_loss: 623.8095\n",
      "Epoch 426/500\n",
      "24/24 [==============================] - 0s 4ms/step - loss: 23.4719 - val_loss: 623.8092\n",
      "Epoch 427/500\n",
      "24/24 [==============================] - 0s 4ms/step - loss: 23.4720 - val_loss: 623.8089\n",
      "Epoch 428/500\n",
      "24/24 [==============================] - 0s 4ms/step - loss: 23.4721 - val_loss: 623.8086\n",
      "Epoch 429/500\n",
      "24/24 [==============================] - 0s 4ms/step - loss: 23.4722 - val_loss: 623.8083\n",
      "Epoch 430/500\n",
      "24/24 [==============================] - 0s 7ms/step - loss: 23.4723 - val_loss: 623.8080\n",
      "Epoch 431/500\n",
      "24/24 [==============================] - 0s 4ms/step - loss: 23.4723 - val_loss: 623.8077\n",
      "Epoch 432/500\n",
      "24/24 [==============================] - 0s 4ms/step - loss: 23.4725 - val_loss: 623.8074\n",
      "Epoch 433/500\n",
      "24/24 [==============================] - 0s 4ms/step - loss: 23.4726 - val_loss: 623.8070\n",
      "Epoch 434/500\n",
      "24/24 [==============================] - 0s 4ms/step - loss: 23.4726 - val_loss: 623.8068\n",
      "Epoch 435/500\n",
      "24/24 [==============================] - 0s 4ms/step - loss: 23.4727 - val_loss: 623.8063\n",
      "Epoch 436/500\n",
      "24/24 [==============================] - 0s 3ms/step - loss: 23.4728 - val_loss: 623.8064\n",
      "Epoch 437/500\n",
      "24/24 [==============================] - 0s 3ms/step - loss: 23.4729 - val_loss: 623.8061\n",
      "Epoch 438/500\n",
      "24/24 [==============================] - 0s 4ms/step - loss: 23.4729 - val_loss: 623.8056\n",
      "Epoch 439/500\n",
      "24/24 [==============================] - 0s 4ms/step - loss: 23.4730 - val_loss: 623.8054\n",
      "Epoch 440/500\n",
      "24/24 [==============================] - 0s 4ms/step - loss: 23.4731 - val_loss: 623.8054\n",
      "Epoch 441/500\n",
      "24/24 [==============================] - 0s 4ms/step - loss: 23.4731 - val_loss: 623.8052\n",
      "Epoch 442/500\n",
      "24/24 [==============================] - 0s 3ms/step - loss: 23.4732 - val_loss: 623.8051\n",
      "Epoch 443/500\n",
      "24/24 [==============================] - 0s 3ms/step - loss: 23.4732 - val_loss: 623.8046\n",
      "Epoch 444/500\n",
      "24/24 [==============================] - 0s 3ms/step - loss: 23.4733 - val_loss: 623.8043\n",
      "Epoch 445/500\n",
      "24/24 [==============================] - 0s 3ms/step - loss: 23.4734 - val_loss: 623.8040\n",
      "Epoch 446/500\n",
      "24/24 [==============================] - 0s 4ms/step - loss: 23.4735 - val_loss: 623.8040\n",
      "Epoch 447/500\n",
      "24/24 [==============================] - 0s 4ms/step - loss: 23.4735 - val_loss: 623.8038\n",
      "Epoch 448/500\n",
      "24/24 [==============================] - 0s 3ms/step - loss: 23.4736 - val_loss: 623.8033\n",
      "Epoch 449/500\n",
      "24/24 [==============================] - 0s 4ms/step - loss: 23.4736 - val_loss: 623.8028\n",
      "Epoch 450/500\n",
      "24/24 [==============================] - 0s 4ms/step - loss: 23.4737 - val_loss: 623.8027\n",
      "Epoch 451/500\n",
      "24/24 [==============================] - 0s 8ms/step - loss: 23.4737 - val_loss: 623.8027\n",
      "Epoch 452/500\n",
      "24/24 [==============================] - 0s 4ms/step - loss: 23.4738 - val_loss: 623.8025\n",
      "Epoch 453/500\n",
      "24/24 [==============================] - 0s 4ms/step - loss: 23.4738 - val_loss: 623.8022\n",
      "Epoch 454/500\n",
      "24/24 [==============================] - 0s 3ms/step - loss: 23.4739 - val_loss: 623.8019\n",
      "Epoch 455/500\n",
      "24/24 [==============================] - 0s 4ms/step - loss: 23.4739 - val_loss: 623.8015\n",
      "Epoch 456/500\n",
      "24/24 [==============================] - 0s 4ms/step - loss: 23.4740 - val_loss: 623.8014\n",
      "Epoch 457/500\n",
      "24/24 [==============================] - 0s 4ms/step - loss: 23.4740 - val_loss: 623.8013\n",
      "Epoch 458/500\n",
      "24/24 [==============================] - 0s 4ms/step - loss: 23.4741 - val_loss: 623.8012\n",
      "Epoch 459/500\n",
      "24/24 [==============================] - 0s 4ms/step - loss: 23.4741 - val_loss: 623.8011\n",
      "Epoch 460/500\n",
      "24/24 [==============================] - 0s 4ms/step - loss: 23.4741 - val_loss: 623.8005\n",
      "Epoch 461/500\n",
      "24/24 [==============================] - 0s 4ms/step - loss: 23.4742 - val_loss: 623.8003\n",
      "Epoch 462/500\n",
      "24/24 [==============================] - 0s 4ms/step - loss: 23.4742 - val_loss: 623.7998\n",
      "Epoch 463/500\n",
      "24/24 [==============================] - 0s 4ms/step - loss: 23.4743 - val_loss: 623.7997\n",
      "Epoch 464/500\n",
      "24/24 [==============================] - 0s 4ms/step - loss: 23.4743 - val_loss: 623.7993\n",
      "Epoch 465/500\n",
      "24/24 [==============================] - 0s 4ms/step - loss: 23.4744 - val_loss: 623.7995\n",
      "Epoch 466/500\n",
      "24/24 [==============================] - 0s 4ms/step - loss: 23.4745 - val_loss: 623.7994\n",
      "Epoch 467/500\n",
      "24/24 [==============================] - 0s 7ms/step - loss: 23.4745 - val_loss: 623.7993\n",
      "Epoch 468/500\n",
      "24/24 [==============================] - 0s 4ms/step - loss: 23.4745 - val_loss: 623.7993\n",
      "Epoch 469/500\n",
      "24/24 [==============================] - 0s 4ms/step - loss: 23.4745 - val_loss: 623.7990\n",
      "Epoch 470/500\n",
      "24/24 [==============================] - 0s 4ms/step - loss: 23.4746 - val_loss: 623.7988\n",
      "Epoch 471/500\n",
      "24/24 [==============================] - 0s 4ms/step - loss: 23.4746 - val_loss: 623.7985\n",
      "Epoch 472/500\n",
      "24/24 [==============================] - 0s 4ms/step - loss: 23.4746 - val_loss: 623.7983\n",
      "Epoch 473/500\n",
      "24/24 [==============================] - 0s 4ms/step - loss: 23.4747 - val_loss: 623.7986\n",
      "Epoch 474/500\n",
      "24/24 [==============================] - 0s 4ms/step - loss: 23.4747 - val_loss: 623.7985\n",
      "Epoch 475/500\n",
      "24/24 [==============================] - 0s 3ms/step - loss: 23.4747 - val_loss: 623.7985\n",
      "Epoch 476/500\n",
      "24/24 [==============================] - 0s 4ms/step - loss: 23.4747 - val_loss: 623.7982\n",
      "Epoch 477/500\n",
      "24/24 [==============================] - 0s 4ms/step - loss: 23.4748 - val_loss: 623.7980\n",
      "Epoch 478/500\n",
      "24/24 [==============================] - 0s 4ms/step - loss: 23.4748 - val_loss: 623.7979\n",
      "Epoch 479/500\n",
      "24/24 [==============================] - 0s 4ms/step - loss: 23.4749 - val_loss: 623.7978\n",
      "Epoch 480/500\n",
      "24/24 [==============================] - 0s 4ms/step - loss: 23.4749 - val_loss: 623.7977\n",
      "Epoch 481/500\n",
      "24/24 [==============================] - 0s 3ms/step - loss: 23.4749 - val_loss: 623.7976\n",
      "Epoch 482/500\n",
      "24/24 [==============================] - 0s 4ms/step - loss: 23.4749 - val_loss: 623.7974\n",
      "Epoch 483/500\n",
      "24/24 [==============================] - 0s 4ms/step - loss: 23.4749 - val_loss: 623.7971\n",
      "Epoch 484/500\n",
      "24/24 [==============================] - 0s 4ms/step - loss: 23.4749 - val_loss: 623.7969\n",
      "Epoch 485/500\n",
      "24/24 [==============================] - 0s 4ms/step - loss: 23.4750 - val_loss: 623.7964\n",
      "Epoch 486/500\n",
      "24/24 [==============================] - 0s 4ms/step - loss: 23.4751 - val_loss: 623.7968\n",
      "Epoch 487/500\n",
      "24/24 [==============================] - 0s 8ms/step - loss: 23.4751 - val_loss: 623.7968\n",
      "Epoch 488/500\n",
      "24/24 [==============================] - 0s 3ms/step - loss: 23.4750 - val_loss: 623.7967\n",
      "Epoch 489/500\n",
      "24/24 [==============================] - 0s 4ms/step - loss: 23.4751 - val_loss: 623.7963\n",
      "Epoch 490/500\n",
      "24/24 [==============================] - 0s 4ms/step - loss: 23.4751 - val_loss: 623.7961\n",
      "Epoch 491/500\n",
      "24/24 [==============================] - 0s 4ms/step - loss: 23.4752 - val_loss: 623.7960\n",
      "Epoch 492/500\n",
      "24/24 [==============================] - 0s 4ms/step - loss: 23.4752 - val_loss: 623.7959\n",
      "Epoch 493/500\n",
      "24/24 [==============================] - 0s 4ms/step - loss: 23.4752 - val_loss: 623.7959\n",
      "Epoch 494/500\n",
      "24/24 [==============================] - 0s 3ms/step - loss: 23.4752 - val_loss: 623.7958\n",
      "Epoch 495/500\n",
      "24/24 [==============================] - 0s 4ms/step - loss: 23.4752 - val_loss: 623.7957\n",
      "Epoch 496/500\n",
      "24/24 [==============================] - 0s 4ms/step - loss: 23.4752 - val_loss: 623.7956\n",
      "Epoch 497/500\n",
      "24/24 [==============================] - 0s 4ms/step - loss: 23.4752 - val_loss: 623.7955\n",
      "Epoch 498/500\n",
      "24/24 [==============================] - 0s 3ms/step - loss: 23.4753 - val_loss: 623.7955\n",
      "Epoch 499/500\n",
      "24/24 [==============================] - 0s 4ms/step - loss: 23.4753 - val_loss: 623.7954\n",
      "Epoch 500/500\n",
      "24/24 [==============================] - 0s 4ms/step - loss: 23.4753 - val_loss: 623.7954\n"
     ]
    }
   ],
   "source": [
    "C0 = tf.Variable(86.8407, name=\"C0\", trainable=True, dtype=tf.float32)\n",
    "K0 = tf.Variable(-0.0015, name=\"K0\", trainable=True, dtype=tf.float32)\n",
    "K1 = tf.Variable(-0.0001, name=\"K1\", trainable=True, dtype=tf.float32)\n",
    "a = tf.Variable(0.0000, name=\"a\", trainable=True, dtype=tf.float32)\n",
    "b = tf.Variable(0.0118, name=\"b\", trainable=True, dtype=tf.float32)\n",
    "c = tf.Variable(2.5775, name=\"c\", trainable=True, dtype=tf.float32)\n",
    "\n",
    "splitr = 0.8\n",
    "\n",
    "\n",
    "def loss_fn(y_true, y_pred):\n",
    "    squared_difference = tf.square(y_true[:, 0] - y_pred[:, 0])\n",
    "    #squared_difference2 = tf.square(y_true[:, 2]-y_pred[:, 2])\n",
    "    #squared_difference1 = tf.square(y_true[:, 1]-y_pred[:, 1])\n",
    "    epsilon = 1\n",
    "    squared_difference3 = tf.square(\n",
    "        y_pred[:, 1] - (\n",
    "            y_pred[:, 0] * (\n",
    "                K0 - K1 * (\n",
    "                    9 * a * tf.math.log((y_pred[:, 0] + epsilon) / C0) / (K0 - K1 * c)**2 +\n",
    "                    4 * b * tf.math.log((y_pred[:, 0] + epsilon) / C0) / (K0 - K1 * c) + c\n",
    "                )\n",
    "            )\n",
    "        )\n",
    "    )\n",
    "    return tf.reduce_mean(squared_difference, axis=-1) + 0.2*tf.reduce_mean(squared_difference3, axis=-1)\n",
    "model = Sequential()\n",
    "model.add(LSTM(100, input_shape=(trainX.shape[1], trainX.shape[2])))\n",
    "model.add(Dense(60))\n",
    "model.compile(loss=loss_fn, optimizer='adam')\n",
    "history = model.fit(trainX[:int(splitr*trainX.shape[0])], trainy[:int(splitr*trainX.shape[0])], epochs=500, batch_size=64, validation_data=(trainX[int(splitr*trainX.shape[0]):trainX.shape[0]], trainy[int(splitr*trainX.shape[0]):trainX.shape[0]]), shuffle=False)"
   ]
  },
  {
   "cell_type": "code",
   "execution_count": 19,
   "metadata": {
    "colab": {
     "base_uri": "https://localhost:8080/"
    },
    "id": "yJL101rPyuoT",
    "outputId": "239ff2b1-c186-423a-d316-939dfdd7c793"
   },
   "outputs": [
    {
     "name": "stdout",
     "output_type": "stream",
     "text": [
      "1/1 [==============================] - 0s 428ms/step\n"
     ]
    }
   ],
   "source": [
    "forecast_without_mc = forecastX\n",
    "yhat_without_mc = model.predict(forecast_without_mc) # Step Ahead Prediction\n",
    "forecast_without_mc = forecast_without_mc.reshape((forecast_without_mc.shape[0], forecast_without_mc.shape[2])) # Historical Input"
   ]
  },
  {
   "cell_type": "code",
   "execution_count": 20,
   "metadata": {
    "colab": {
     "base_uri": "https://localhost:8080/"
    },
    "id": "g9dQELcJ8wbp",
    "outputId": "4dc7671b-b1a8-48d5-8744-a86f98446109"
   },
   "outputs": [
    {
     "data": {
      "text/plain": [
       "(1, 1, 251)"
      ]
     },
     "execution_count": 20,
     "metadata": {},
     "output_type": "execute_result"
    }
   ],
   "source": [
    "forecastX.shape"
   ]
  },
  {
   "cell_type": "code",
   "execution_count": 21,
   "metadata": {
    "colab": {
     "base_uri": "https://localhost:8080/"
    },
    "id": "IS2kyIKG1Kbr",
    "outputId": "f31b3485-8e26-452f-9298-ea8bf7e80ad1"
   },
   "outputs": [
    {
     "data": {
      "text/plain": [
       "(1, 251)"
      ]
     },
     "execution_count": 21,
     "metadata": {},
     "output_type": "execute_result"
    }
   ],
   "source": [
    "forecast_without_mc.shape"
   ]
  },
  {
   "cell_type": "code",
   "execution_count": 22,
   "metadata": {
    "id": "0u6VIzaDyuoT"
   },
   "outputs": [],
   "source": [
    "inv_yhat_without_mc = np.concatenate((forecast_without_mc, yhat_without_mc), axis=1) # Concatenation of predicted values with Historical Data\n",
    "#inv_yhat_without_mc = scaler.inverse_transform(inv_yhat_without_mc) # Transform labels back to original encoding"
   ]
  },
  {
   "cell_type": "code",
   "execution_count": 23,
   "metadata": {
    "colab": {
     "base_uri": "https://localhost:8080/"
    },
    "id": "EUEcw0LX07oU",
    "outputId": "cfc32397-9c37-4b43-d087-584bb31c3dcc"
   },
   "outputs": [
    {
     "data": {
      "text/plain": [
       "(1, 311)"
      ]
     },
     "execution_count": 23,
     "metadata": {},
     "output_type": "execute_result"
    }
   ],
   "source": [
    "inv_yhat_without_mc.shape"
   ]
  },
  {
   "cell_type": "code",
   "execution_count": 24,
   "metadata": {
    "id": "31OWVbSh_305"
   },
   "outputs": [],
   "source": [
    "fforecast = inv_yhat_without_mc[:,-300:]"
   ]
  },
  {
   "cell_type": "code",
   "execution_count": 25,
   "metadata": {},
   "outputs": [
    {
     "data": {
      "text/plain": [
       "(1, 300)"
      ]
     },
     "execution_count": 25,
     "metadata": {},
     "output_type": "execute_result"
    }
   ],
   "source": [
    "fforecast.shape"
   ]
  },
  {
   "cell_type": "code",
   "execution_count": 26,
   "metadata": {
    "id": "BlpGH2FOAiRF"
   },
   "outputs": [],
   "source": [
    "final_forecast = fforecast[:,0:300:3]"
   ]
  },
  {
   "cell_type": "code",
   "execution_count": 27,
   "metadata": {},
   "outputs": [
    {
     "data": {
      "text/plain": [
       "(1, 300)"
      ]
     },
     "execution_count": 27,
     "metadata": {},
     "output_type": "execute_result"
    }
   ],
   "source": [
    "fforecast.shape"
   ]
  },
  {
   "cell_type": "code",
   "execution_count": 28,
   "metadata": {
    "id": "CXkgkj_LBk_t"
   },
   "outputs": [],
   "source": [
    "# code to replace all negative value with 0\n",
    "final_forecast[final_forecast<0] = 0"
   ]
  },
  {
   "cell_type": "code",
   "execution_count": 29,
   "metadata": {},
   "outputs": [
    {
     "data": {
      "text/plain": [
       "array([[6.59267040e+01, 6.58949346e+01, 6.58865313e+01, 6.58781279e+01,\n",
       "        6.58697246e+01, 6.58613120e+01, 6.58529178e+01, 0.00000000e+00,\n",
       "        0.00000000e+00, 5.45789182e-01, 0.00000000e+00, 0.00000000e+00,\n",
       "        0.00000000e+00, 6.65466853e+01, 6.64794584e+01, 6.64122316e+01,\n",
       "        6.63450047e+01, 6.62777778e+01, 6.62105509e+01, 6.61433240e+01,\n",
       "        6.60760971e+01, 6.60088702e+01, 6.59416433e+01, 6.58968021e+01,\n",
       "        6.58883987e+01, 6.58799953e+01, 6.58715920e+01, 6.58631886e+01,\n",
       "        6.58547853e+01, 6.58463832e+01, 6.58379785e+01, 6.58295752e+01,\n",
       "        6.58211718e+01, 6.58127684e+01, 6.58043651e+01, 6.57717320e+01,\n",
       "        6.57129085e+01, 6.56540850e+01, 6.55952614e+01, 6.55364379e+01,\n",
       "        3.73059140e-02, 0.00000000e+00, 0.00000000e+00, 4.39866573e-01,\n",
       "        5.85228086e-01, 2.09774360e-01, 0.00000000e+00, 6.58818627e+01,\n",
       "        6.58734594e+01, 6.58650559e+01, 6.58566527e+01, 6.58482493e+01,\n",
       "        6.58398459e+01, 6.58314426e+01, 6.58230392e+01, 6.58146359e+01,\n",
       "        6.58062325e+01, 6.57848039e+01, 6.57259804e+01, 6.56671569e+01,\n",
       "        6.56083333e+01, 6.55495098e+01, 6.88817227e+01, 6.86044118e+01,\n",
       "        6.83271008e+01, 6.80051681e+01, 6.77170168e+01, 6.74288640e+01,\n",
       "        6.71407092e+01, 6.68525544e+01, 6.65643996e+01, 6.62762448e+01,\n",
       "        6.59880900e+01, 7.32098160e+01, 3.24641020e-02, 0.00000000e+00,\n",
       "        6.82716072e-01, 8.46212447e-01, 1.20992875e+00, 0.00000000e+00,\n",
       "        6.40868454e+01, 0.00000000e+00, 0.00000000e+00, 1.20349765e+00,\n",
       "        0.00000000e+00, 6.62251770e-01, 8.49326968e-01, 7.79961199e-02,\n",
       "        1.96450144e-01, 1.74010456e-01, 0.00000000e+00, 0.00000000e+00,\n",
       "        0.00000000e+00, 1.88107230e-03, 2.87670821e-01, 0.00000000e+00,\n",
       "        6.85558319e-01, 0.00000000e+00, 2.96425223e-01, 1.59096912e-01]])"
      ]
     },
     "execution_count": 29,
     "metadata": {},
     "output_type": "execute_result"
    }
   ],
   "source": [
    "final_forecast"
   ]
  },
  {
   "cell_type": "code",
   "execution_count": 30,
   "metadata": {},
   "outputs": [
    {
     "data": {
      "text/plain": [
       "(1, 100)"
      ]
     },
     "execution_count": 30,
     "metadata": {},
     "output_type": "execute_result"
    }
   ],
   "source": [
    "final_forecast.shape"
   ]
  },
  {
   "cell_type": "code",
   "execution_count": 31,
   "metadata": {},
   "outputs": [
    {
     "data": {
      "text/plain": [
       "(100,)"
      ]
     },
     "execution_count": 31,
     "metadata": {},
     "output_type": "execute_result"
    }
   ],
   "source": [
    "test.shape"
   ]
  },
  {
   "cell_type": "code",
   "execution_count": 32,
   "metadata": {},
   "outputs": [],
   "source": [
    "training_set = np.array(training_set)\n",
    "test = np.array(test)\n",
    "final_forecast = np.array(final_forecast.squeeze(0))"
   ]
  },
  {
   "cell_type": "code",
   "execution_count": 33,
   "metadata": {},
   "outputs": [
    {
     "data": {
      "text/plain": [
       "array([60.78084307, 60.77291795, 60.76499283, 60.75706771, 60.74914258,\n",
       "       60.74121746, 60.73329234, 60.72536722, 60.7174421 , 60.70951698,\n",
       "       60.70159186, 60.69366673, 60.68574161, 60.67781649, 60.66989137,\n",
       "       60.66196625, 60.65404113, 60.64611601, 60.63819089, 60.63026576,\n",
       "       60.62234064, 60.61441552, 60.6064904 , 60.59856528, 60.59064016,\n",
       "       60.58271504, 60.57478992, 60.56686479, 60.55893967, 60.55101455,\n",
       "       60.54308943, 60.53516431, 60.52723919, 60.51931407, 60.51138895,\n",
       "       60.50346382, 60.4955387 , 60.48761358, 60.47968846, 60.47176334,\n",
       "       60.46383822, 60.4559131 , 60.44798798, 60.44006285, 60.43213773,\n",
       "       60.42421261, 60.41628749, 60.40836237, 60.40043725, 60.39251213,\n",
       "       60.38458701, 60.37666188, 60.36873676, 60.36081164, 60.35288652,\n",
       "       60.3449614 , 60.33703628, 60.32911116, 60.32118604, 60.31326091,\n",
       "       60.30533579, 60.29741067, 60.28948555, 60.28156043, 60.27363531,\n",
       "       60.26571019, 60.25778507, 60.24985994, 60.24193482, 60.2340097 ,\n",
       "       60.22608458, 60.21815946, 60.21023434, 60.20230922, 60.1943841 ,\n",
       "       60.18645897, 60.17853385, 60.17060873, 60.16268361, 60.15475849,\n",
       "       60.14683337, 60.13890825, 60.13098312, 60.123058  , 60.11513288,\n",
       "       60.10720776, 60.09928264, 60.09135752, 60.0834324 , 60.07550728,\n",
       "       60.06758215, 60.05965703, 60.05173191, 60.04380679, 60.03588167,\n",
       "       60.02795655, 60.02003143, 60.01210631, 60.00418118, 59.99625606])"
      ]
     },
     "execution_count": 33,
     "metadata": {},
     "output_type": "execute_result"
    }
   ],
   "source": [
    "test"
   ]
  },
  {
   "cell_type": "code",
   "execution_count": 34,
   "metadata": {},
   "outputs": [
    {
     "data": {
      "text/plain": [
       "(100,)"
      ]
     },
     "execution_count": 34,
     "metadata": {},
     "output_type": "execute_result"
    }
   ],
   "source": [
    "test.shape"
   ]
  },
  {
   "cell_type": "code",
   "execution_count": 35,
   "metadata": {},
   "outputs": [
    {
     "data": {
      "text/plain": [
       "(100,)"
      ]
     },
     "execution_count": 35,
     "metadata": {},
     "output_type": "execute_result"
    }
   ],
   "source": [
    "final_forecast.shape"
   ]
  },
  {
   "cell_type": "code",
   "execution_count": 36,
   "metadata": {},
   "outputs": [
    {
     "data": {
      "text/plain": [
       "(100,)"
      ]
     },
     "execution_count": 36,
     "metadata": {},
     "output_type": "execute_result"
    }
   ],
   "source": [
    "test.shape"
   ]
  },
  {
   "cell_type": "code",
   "execution_count": 37,
   "metadata": {},
   "outputs": [
    {
     "name": "stdout",
     "output_type": "stream",
     "text": [
      "37.287457397413036\n",
      "26.392006312682625\n"
     ]
    }
   ],
   "source": [
    "import math\n",
    "MSE = np.square(np.subtract(np.array(test),np.array(final_forecast))).mean()   \n",
    "rsme = math.sqrt(MSE)\n",
    "print(rsme)  \n",
    "MAE = np.abs(np.subtract(np.array(test),np.array(final_forecast))).mean()   \n",
    "mae = MAE\n",
    "print(mae)"
   ]
  }
 ],
 "metadata": {
  "colab": {
   "provenance": []
  },
  "kernelspec": {
   "display_name": "Python 3",
   "language": "python",
   "name": "python3"
  },
  "language_info": {
   "codemirror_mode": {
    "name": "ipython",
    "version": 3
   },
   "file_extension": ".py",
   "mimetype": "text/x-python",
   "name": "python",
   "nbconvert_exporter": "python",
   "pygments_lexer": "ipython3",
   "version": "3.9.13"
  }
 },
 "nbformat": 4,
 "nbformat_minor": 0
}
