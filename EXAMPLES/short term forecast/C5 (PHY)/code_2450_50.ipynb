{
 "cells": [
  {
   "cell_type": "markdown",
   "metadata": {
    "id": "pCGKeZ2gyuoQ"
   },
   "source": [
    "_Importing Required Libraries_"
   ]
  },
  {
   "cell_type": "code",
   "execution_count": 1,
   "metadata": {
    "colab": {
     "base_uri": "https://localhost:8080/"
    },
    "id": "A-6LN-zXiLcM",
    "outputId": "4de610a4-f8b8-4f49-c6c0-89de299ccedc"
   },
   "outputs": [
    {
     "name": "stdout",
     "output_type": "stream",
     "text": [
      "Requirement already satisfied: hampel in c:\\users\\anurag dutta\\appdata\\local\\packages\\pythonsoftwarefoundation.python.3.9_qbz5n2kfra8p0\\localcache\\local-packages\\python39\\site-packages (0.0.5)\n",
      "Requirement already satisfied: numpy in c:\\users\\anurag dutta\\appdata\\local\\packages\\pythonsoftwarefoundation.python.3.9_qbz5n2kfra8p0\\localcache\\local-packages\\python39\\site-packages (from hampel) (1.26.4)\n",
      "Requirement already satisfied: pandas in c:\\users\\anurag dutta\\appdata\\local\\packages\\pythonsoftwarefoundation.python.3.9_qbz5n2kfra8p0\\localcache\\local-packages\\python39\\site-packages (from hampel) (1.5.2)\n",
      "Requirement already satisfied: python-dateutil>=2.8.1 in c:\\users\\anurag dutta\\appdata\\local\\packages\\pythonsoftwarefoundation.python.3.9_qbz5n2kfra8p0\\localcache\\local-packages\\python39\\site-packages (from pandas->hampel) (2.8.2)\n",
      "Requirement already satisfied: pytz>=2020.1 in c:\\users\\anurag dutta\\appdata\\local\\packages\\pythonsoftwarefoundation.python.3.9_qbz5n2kfra8p0\\localcache\\local-packages\\python39\\site-packages (from pandas->hampel) (2023.3.post1)\n",
      "Requirement already satisfied: six>=1.5 in c:\\users\\anurag dutta\\appdata\\local\\packages\\pythonsoftwarefoundation.python.3.9_qbz5n2kfra8p0\\localcache\\local-packages\\python39\\site-packages (from python-dateutil>=2.8.1->pandas->hampel) (1.16.0)\n",
      "Note: you may need to restart the kernel to use updated packages.\n"
     ]
    },
    {
     "name": "stderr",
     "output_type": "stream",
     "text": [
      "\n",
      "[notice] A new release of pip is available: 24.2 -> 24.3.1\n",
      "[notice] To update, run: C:\\Users\\Anurag Dutta\\AppData\\Local\\Microsoft\\WindowsApps\\PythonSoftwareFoundation.Python.3.9_qbz5n2kfra8p0\\python.exe -m pip install --upgrade pip\n"
     ]
    }
   ],
   "source": [
    "pip install hampel"
   ]
  },
  {
   "cell_type": "code",
   "execution_count": 2,
   "metadata": {
    "id": "By_d9uXpaFvZ"
   },
   "outputs": [],
   "source": [
    "from keras.models import Sequential\n",
    "from keras.layers import Dense\n",
    "from keras.layers import LSTM\n",
    "from keras.layers import Dropout\n",
    "import keras\n",
    "import tensorflow as tf\n",
    "from hampel import hampel\n",
    "import numpy as np\n",
    "import matplotlib.pyplot as plt\n",
    "import pandas as pd\n",
    "from sklearn.preprocessing import MinMaxScaler\n",
    "from sklearn.metrics import mean_squared_error, mean_absolute_error\n",
    "from math import sqrt\n",
    "from matplotlib import pyplot\n",
    "from numpy import array"
   ]
  },
  {
   "cell_type": "markdown",
   "metadata": {
    "id": "JyOjBMFayuoR"
   },
   "source": [
    "## Pretraining"
   ]
  },
  {
   "cell_type": "markdown",
   "metadata": {
    "id": "-5QqIY_GyuoR"
   },
   "source": [
    "The `capa_intermittency.dat` feeds the model with the dynamics of the Capacitor"
   ]
  },
  {
   "cell_type": "code",
   "execution_count": 3,
   "metadata": {
    "id": "9dV4a8yfyuoR"
   },
   "outputs": [],
   "source": [
    "data = np.genfromtxt('capa_intermittency.dat')\n",
    "training_set = pd.DataFrame(data).reset_index(drop=True)\n",
    "training_set = training_set.iloc[:,0]"
   ]
  },
  {
   "cell_type": "markdown",
   "metadata": {
    "id": "i7easoxByuoR"
   },
   "source": [
    "## Computing the Gradient"
   ]
  },
  {
   "cell_type": "markdown",
   "metadata": {
    "id": "5SnyolJTyuoR"
   },
   "source": [
    "_Calculating the value of_ $\\frac{dx}{dt}$"
   ]
  },
  {
   "cell_type": "code",
   "execution_count": 4,
   "metadata": {
    "colab": {
     "base_uri": "https://localhost:8080/"
    },
    "id": "wmIbVfIvyuoR",
    "outputId": "aa4e3136-c854-465d-d2e9-81cfd546e440"
   },
   "outputs": [
    {
     "name": "stdout",
     "output_type": "stream",
     "text": [
      "1.0\n",
      "1        0.000298\n",
      "2        0.000298\n",
      "3        0.000297\n",
      "4        0.000297\n",
      "5        0.000297\n",
      "           ...   \n",
      "9996     0.000018\n",
      "9997     0.000018\n",
      "9998     0.000018\n",
      "9999     0.000018\n",
      "10000    0.000018\n",
      "Name: 0, Length: 10000, dtype: float64\n"
     ]
    }
   ],
   "source": [
    "t_diff = 1\n",
    "print(training_set.max())\n",
    "gradient_t = (training_set.diff()/t_diff).iloc[1:] # dx/dt\n",
    "print(gradient_t)"
   ]
  },
  {
   "cell_type": "markdown",
   "metadata": {
    "id": "_2eVeeoxyuoS"
   },
   "source": [
    "## Loading Datasets"
   ]
  },
  {
   "cell_type": "code",
   "execution_count": 5,
   "metadata": {
    "id": "0J-NKyIEyuoS"
   },
   "outputs": [
    {
     "data": {
      "text/plain": [
       "0       89.140000\n",
       "1       88.911429\n",
       "2       88.682857\n",
       "3       88.454286\n",
       "4       88.225714\n",
       "          ...    \n",
       "2495    59.631700\n",
       "2496    59.623775\n",
       "2497    59.615850\n",
       "2498    59.607925\n",
       "2499    59.600000\n",
       "Name: C5, Length: 2500, dtype: float64"
      ]
     },
     "execution_count": 5,
     "metadata": {},
     "output_type": "execute_result"
    }
   ],
   "source": [
    "data = pd.read_csv(\"c5_interpolated_2450_50.csv\")\n",
    "training_set = data.iloc[:, 1]\n",
    "training_set"
   ]
  },
  {
   "cell_type": "code",
   "execution_count": 6,
   "metadata": {
    "colab": {
     "base_uri": "https://localhost:8080/"
    },
    "id": "-CbNUhJ74UqF",
    "outputId": "20f562d8-8247-49cc-b9c3-00eca5e13e2d"
   },
   "outputs": [
    {
     "data": {
      "text/plain": [
       "0       89.140000\n",
       "1       88.911429\n",
       "2       88.682857\n",
       "3       88.454286\n",
       "4       88.225714\n",
       "          ...    \n",
       "2445     0.000000\n",
       "2446     0.685558\n",
       "2447     0.000000\n",
       "2448     0.296425\n",
       "2449     0.159097\n",
       "Name: C5, Length: 2450, dtype: float64"
      ]
     },
     "execution_count": 6,
     "metadata": {},
     "output_type": "execute_result"
    }
   ],
   "source": [
    "test = training_set.tail(50)\n",
    "test\n",
    "training_set = training_set.head(2450)\n",
    "training_set"
   ]
  },
  {
   "cell_type": "code",
   "execution_count": 7,
   "metadata": {
    "colab": {
     "base_uri": "https://localhost:8080/"
    },
    "id": "X0TwTcq0yuoS",
    "outputId": "37252ed8-d88e-4044-fa7a-922411990b5b"
   },
   "outputs": [
    {
     "name": "stdout",
     "output_type": "stream",
     "text": [
      "0       0.000298\n",
      "1       0.000298\n",
      "2       0.000297\n",
      "3       0.000297\n",
      "4       0.000297\n",
      "          ...   \n",
      "9995    0.000018\n",
      "9996    0.000018\n",
      "9997    0.000018\n",
      "9998    0.000018\n",
      "9999    0.000018\n",
      "Name: 0, Length: 10000, dtype: float64\n"
     ]
    }
   ],
   "source": [
    "training_set = training_set.reset_index(drop=True)\n",
    "gradient_t = gradient_t.reset_index(drop=True)\n",
    "print(gradient_t)"
   ]
  },
  {
   "cell_type": "code",
   "execution_count": 8,
   "metadata": {
    "id": "O2biznZQyuoS"
   },
   "outputs": [],
   "source": [
    "df = pd.concat((training_set, gradient_t), axis=1)\n",
    "df.columns = ['y_t', 'grad_t']"
   ]
  },
  {
   "cell_type": "code",
   "execution_count": 9,
   "metadata": {
    "colab": {
     "base_uri": "https://localhost:8080/",
     "height": 423
    },
    "id": "sk_a5v3tyuoS",
    "outputId": "17563625-e550-45ae-faab-fafa353e44da"
   },
   "outputs": [
    {
     "data": {
      "text/html": [
       "<div>\n",
       "<style scoped>\n",
       "    .dataframe tbody tr th:only-of-type {\n",
       "        vertical-align: middle;\n",
       "    }\n",
       "\n",
       "    .dataframe tbody tr th {\n",
       "        vertical-align: top;\n",
       "    }\n",
       "\n",
       "    .dataframe thead th {\n",
       "        text-align: right;\n",
       "    }\n",
       "</style>\n",
       "<table border=\"1\" class=\"dataframe\">\n",
       "  <thead>\n",
       "    <tr style=\"text-align: right;\">\n",
       "      <th></th>\n",
       "      <th>y_t</th>\n",
       "      <th>grad_t</th>\n",
       "    </tr>\n",
       "  </thead>\n",
       "  <tbody>\n",
       "    <tr>\n",
       "      <th>0</th>\n",
       "      <td>89.140000</td>\n",
       "      <td>0.000298</td>\n",
       "    </tr>\n",
       "    <tr>\n",
       "      <th>1</th>\n",
       "      <td>88.911429</td>\n",
       "      <td>0.000298</td>\n",
       "    </tr>\n",
       "    <tr>\n",
       "      <th>2</th>\n",
       "      <td>88.682857</td>\n",
       "      <td>0.000297</td>\n",
       "    </tr>\n",
       "    <tr>\n",
       "      <th>3</th>\n",
       "      <td>88.454286</td>\n",
       "      <td>0.000297</td>\n",
       "    </tr>\n",
       "    <tr>\n",
       "      <th>4</th>\n",
       "      <td>88.225714</td>\n",
       "      <td>0.000297</td>\n",
       "    </tr>\n",
       "    <tr>\n",
       "      <th>...</th>\n",
       "      <td>...</td>\n",
       "      <td>...</td>\n",
       "    </tr>\n",
       "    <tr>\n",
       "      <th>9995</th>\n",
       "      <td>NaN</td>\n",
       "      <td>0.000018</td>\n",
       "    </tr>\n",
       "    <tr>\n",
       "      <th>9996</th>\n",
       "      <td>NaN</td>\n",
       "      <td>0.000018</td>\n",
       "    </tr>\n",
       "    <tr>\n",
       "      <th>9997</th>\n",
       "      <td>NaN</td>\n",
       "      <td>0.000018</td>\n",
       "    </tr>\n",
       "    <tr>\n",
       "      <th>9998</th>\n",
       "      <td>NaN</td>\n",
       "      <td>0.000018</td>\n",
       "    </tr>\n",
       "    <tr>\n",
       "      <th>9999</th>\n",
       "      <td>NaN</td>\n",
       "      <td>0.000018</td>\n",
       "    </tr>\n",
       "  </tbody>\n",
       "</table>\n",
       "<p>10000 rows × 2 columns</p>\n",
       "</div>"
      ],
      "text/plain": [
       "            y_t    grad_t\n",
       "0     89.140000  0.000298\n",
       "1     88.911429  0.000298\n",
       "2     88.682857  0.000297\n",
       "3     88.454286  0.000297\n",
       "4     88.225714  0.000297\n",
       "...         ...       ...\n",
       "9995        NaN  0.000018\n",
       "9996        NaN  0.000018\n",
       "9997        NaN  0.000018\n",
       "9998        NaN  0.000018\n",
       "9999        NaN  0.000018\n",
       "\n",
       "[10000 rows x 2 columns]"
      ]
     },
     "execution_count": 9,
     "metadata": {},
     "output_type": "execute_result"
    }
   ],
   "source": [
    "df"
   ]
  },
  {
   "cell_type": "markdown",
   "metadata": {
    "id": "-5esyHu5aFvg"
   },
   "source": [
    "## Plot of the External Forcing from Chaotic Differential Equation"
   ]
  },
  {
   "cell_type": "code",
   "execution_count": 10,
   "metadata": {
    "colab": {
     "base_uri": "https://localhost:8080/",
     "height": 447
    },
    "id": "hGnE43tOh-4p",
    "outputId": "fc396503-b624-4fa5-dfbe-f460207405c6"
   },
   "outputs": [
    {
     "data": {
      "text/plain": [
       "<Axes: >"
      ]
     },
     "execution_count": 10,
     "metadata": {},
     "output_type": "execute_result"
    },
    {
     "data": {
      "image/png": "[encoded data removed]",
      "text/plain": [
       "<Figure size 432x288 with 1 Axes>"
      ]
     },
     "metadata": {
      "needs_background": "light"
     },
     "output_type": "display_data"
    }
   ],
   "source": [
    "df.iloc[:, 0].plot()"
   ]
  },
  {
   "cell_type": "code",
   "execution_count": 11,
   "metadata": {
    "colab": {
     "base_uri": "https://localhost:8080/",
     "height": 447
    },
    "id": "ym4xWUUxaFvg",
    "outputId": "ae6a3495-8ce9-437e-ba81-3ed31deedeae"
   },
   "outputs": [
    {
     "name": "stderr",
     "output_type": "stream",
     "text": [
      "C:\\Users\\Anurag Dutta\\AppData\\Local\\Packages\\PythonSoftwareFoundation.Python.3.9_qbz5n2kfra8p0\\LocalCache\\local-packages\\Python39\\site-packages\\pandas\\core\\arraylike.py:402: RuntimeWarning: divide by zero encountered in log\n",
      "  result = getattr(ufunc, method)(*inputs, **kwargs)\n"
     ]
    },
    {
     "data": {
      "text/plain": [
       "<Axes: >"
      ]
     },
     "execution_count": 11,
     "metadata": {},
     "output_type": "execute_result"
    },
    {
     "data": {
      "image/png": "[encoded data removed]",
      "text/plain": [
       "<Figure size 432x288 with 1 Axes>"
      ]
     },
     "metadata": {
      "needs_background": "light"
     },
     "output_type": "display_data"
    }
   ],
   "source": [
    "import numpy as np\n",
    "c0 = 86.8407  # Value for C0\n",
    "K0 = -0.0015  # Value for K0\n",
    "K1 = -0.0001  # Value for K1\n",
    "a = 0.0000    # Value for a\n",
    "b = 0.0118    # Value for b\n",
    "c = 2.5775    # Value for c\n",
    "\n",
    "L = np.minimum(c0, (df.iloc[:, 1] - (df.iloc[:, 0] * (K0 - K1 * (9 * a * np.log(df.iloc[:, 0] / c0) / (K0 - K1 * c)**2 + 4 * b * np.log(df.iloc[:, 0] / c0) / (K0 - K1 * c) + c)))))\n",
    "L.plot()"
   ]
  },
  {
   "cell_type": "markdown",
   "metadata": {
    "id": "9VyEywnwaFvh"
   },
   "source": [
    "## Preprocessing the data into supervised learning"
   ]
  },
  {
   "cell_type": "code",
   "execution_count": 12,
   "metadata": {
    "id": "6V9dXqzdaFvh"
   },
   "outputs": [],
   "source": [
    "# split a sequence into samples\n",
    "def Supervised(data, n_in=1, n_out=1, dropnan=True):\n",
    "    n_vars = 1 if type(data) is list else data.shape[1]\n",
    "    df = pd.DataFrame(data)\n",
    "    cols, names = list(), list()\n",
    "    # input sequence (t-n_in, ... t-1)\n",
    "    for i in range(n_in, 0, -1):\n",
    "        cols.append(df.shift(i))\n",
    "        names += [('var%d(t-%d)' % (j+1, i)) for j in range(n_vars)]\n",
    "    # forecast sequence (t, t+1, ... t+n_out)\n",
    "    for i in range(0, n_out):\n",
    "      cols.append(df.shift(-i))\n",
    "      if i == 0:\n",
    "        names += [('var%d(t)' % (j+1)) for j in range(n_vars)]\n",
    "      else:\n",
    "        names += [('var%d(t+%d)' % (j+1, i)) for j in range(n_vars)]\n",
    "    # put it all together\n",
    "    agg = pd.concat(cols, axis=1)\n",
    "    agg.columns = names\n",
    "    # drop rows with NaN values\n",
    "    if dropnan:\n",
    "       agg.dropna(inplace=True)\n",
    "    return agg"
   ]
  },
  {
   "cell_type": "code",
   "execution_count": 13,
   "metadata": {
    "colab": {
     "base_uri": "https://localhost:8080/"
    },
    "id": "CrzSrT1HnyfH",
    "outputId": "7e75f928-3e47-499d-eac1-51908015ef78"
   },
   "outputs": [
    {
     "name": "stdout",
     "output_type": "stream",
     "text": [
      "     var1(t-175)  var1(t-174)  var1(t-173)  var1(t-172)  var1(t-171)  \\\n",
      "175    89.140000    88.911429    88.682857    88.454286    88.225714   \n",
      "176    88.911429    88.682857    88.454286    88.225714    87.997143   \n",
      "177    88.682857    88.454286    88.225714    87.997143    87.768571   \n",
      "178    88.454286    88.225714    87.997143    87.768571    87.540000   \n",
      "179    88.225714    87.997143    87.768571    87.540000    87.311429   \n",
      "\n",
      "     var1(t-170)  var1(t-169)  var1(t-168)  var1(t-167)  var1(t-166)  ...  \\\n",
      "175    87.997143    87.768571    87.540000    87.311429    87.095798  ...   \n",
      "176    87.768571    87.540000    87.311429    87.095798    87.039776  ...   \n",
      "177    87.540000    87.311429    87.095798    87.039776    86.983754  ...   \n",
      "178    87.311429    87.095798    87.039776    86.983754    86.927731  ...   \n",
      "179    87.095798    87.039776    86.983754    86.927731    86.871709  ...   \n",
      "\n",
      "     var1(t+45)  var2(t+45)  var1(t+46)  var2(t+46)  var1(t+47)  var2(t+47)  \\\n",
      "175   82.338772    0.000280   82.321032    0.000280   82.303291    0.000280   \n",
      "176   82.321032    0.000280   82.303291    0.000280   82.285551    0.000280   \n",
      "177   82.303291    0.000280   82.285551    0.000280   82.267810    0.000279   \n",
      "178   82.285551    0.000280   82.267810    0.000279   82.250070    0.000279   \n",
      "179   82.267810    0.000279   82.250070    0.000279   82.232330    0.000279   \n",
      "\n",
      "     var1(t+48)  var2(t+48)  var1(t+49)  var2(t+49)  \n",
      "175   82.285551    0.000280   82.267810    0.000279  \n",
      "176   82.267810    0.000279   82.250070    0.000279  \n",
      "177   82.250070    0.000279   82.232330    0.000279  \n",
      "178   82.232330    0.000279   82.214589    0.000279  \n",
      "179   82.214589    0.000279   82.196849    0.000279  \n",
      "\n",
      "[5 rows x 276 columns]\n",
      "Index(['var1(t-175)', 'var1(t-174)', 'var1(t-173)', 'var1(t-172)',\n",
      "       'var1(t-171)', 'var1(t-170)', 'var1(t-169)', 'var1(t-168)',\n",
      "       'var1(t-167)', 'var1(t-166)',\n",
      "       ...\n",
      "       'var1(t+45)', 'var2(t+45)', 'var1(t+46)', 'var2(t+46)', 'var1(t+47)',\n",
      "       'var2(t+47)', 'var1(t+48)', 'var2(t+48)', 'var1(t+49)', 'var2(t+49)'],\n",
      "      dtype='object', length=276)\n"
     ]
    }
   ],
   "source": [
    "data = Supervised(df.values, n_in = 175, n_out = 50)\n",
    "\n",
    "\n",
    "cols_to_drop = []\n",
    "for i in range(2, 176):\n",
    "    cols_to_drop.extend([f'var2(t-{i})'])\n",
    "\n",
    "data.drop(cols_to_drop, axis=1, inplace=True)\n",
    "\n",
    "print(data.head())\n",
    "print(data.columns)"
   ]
  },
  {
   "cell_type": "code",
   "execution_count": 14,
   "metadata": {
    "id": "AfPf60oy6Pe4"
   },
   "outputs": [],
   "source": [
    "train = np.array(data[0:len(data)-1])\n",
    "forecast = np.array(data.tail(1))"
   ]
  },
  {
   "cell_type": "code",
   "execution_count": 15,
   "metadata": {
    "id": "WSAafzI37KiT"
   },
   "outputs": [],
   "source": [
    "trainy = train[:,-150:]\n",
    "trainX = train[:,:-150]"
   ]
  },
  {
   "cell_type": "code",
   "execution_count": 16,
   "metadata": {
    "id": "2SrOqVJA7f50"
   },
   "outputs": [],
   "source": [
    "forecasty = forecast[:,-150:]\n",
    "forecastX = forecast[:,:-150]"
   ]
  },
  {
   "cell_type": "code",
   "execution_count": 17,
   "metadata": {
    "colab": {
     "base_uri": "https://localhost:8080/"
    },
    "id": "Qno_k8Nw7saY",
    "outputId": "c4a88db5-d8c6-489f-cdb2-06b24e293cff"
   },
   "outputs": [
    {
     "name": "stdout",
     "output_type": "stream",
     "text": [
      "(2225, 1, 126) (2225, 150) (1, 1, 126)\n"
     ]
    }
   ],
   "source": [
    "trainX = trainX.reshape((trainX.shape[0], 1, trainX.shape[1]))\n",
    "forecastX = forecastX.reshape((forecastX.shape[0], 1, forecastX.shape[1]))\n",
    "print(trainX.shape, trainy.shape, forecastX.shape)"
   ]
  },
  {
   "cell_type": "code",
   "execution_count": 18,
   "metadata": {
    "colab": {
     "base_uri": "https://localhost:8080/"
    },
    "id": "b1Jp2DvNuNFx",
    "outputId": "d0e5b3c4-64f1-438c-eade-8dfeaac8e285"
   },
   "outputs": [
    {
     "name": "stdout",
     "output_type": "stream",
     "text": [
      "Epoch 1/500\n",
      "28/28 [==============================] - 2s 19ms/step - loss: 5026.5669 - val_loss: 2947.2515\n",
      "Epoch 2/500\n",
      "28/28 [==============================] - 0s 4ms/step - loss: 4900.7686 - val_loss: 2892.3188\n",
      "Epoch 3/500\n",
      "28/28 [==============================] - 0s 4ms/step - loss: 4794.3247 - val_loss: 2842.8772\n",
      "Epoch 4/500\n",
      "28/28 [==============================] - 0s 4ms/step - loss: 4699.7451 - val_loss: 2795.4607\n",
      "Epoch 5/500\n",
      "28/28 [==============================] - 0s 4ms/step - loss: 4606.0488 - val_loss: 2747.1274\n",
      "Epoch 6/500\n",
      "28/28 [==============================] - 0s 4ms/step - loss: 4508.4258 - val_loss: 2698.5000\n",
      "Epoch 7/500\n",
      "28/28 [==============================] - 0s 4ms/step - loss: 4413.1987 - val_loss: 2651.4116\n",
      "Epoch 8/500\n",
      "28/28 [==============================] - 0s 4ms/step - loss: 4320.5552 - val_loss: 2605.5056\n",
      "Epoch 9/500\n",
      "28/28 [==============================] - 0s 3ms/step - loss: 4229.9434 - val_loss: 2560.6040\n",
      "Epoch 10/500\n",
      "28/28 [==============================] - 0s 4ms/step - loss: 4141.0928 - val_loss: 2516.6182\n",
      "Epoch 11/500\n",
      "28/28 [==============================] - 0s 3ms/step - loss: 4053.8608 - val_loss: 2473.4966\n",
      "Epoch 12/500\n",
      "28/28 [==============================] - 0s 4ms/step - loss: 3968.1611 - val_loss: 2431.2039\n",
      "Epoch 13/500\n",
      "28/28 [==============================] - 0s 4ms/step - loss: 3883.9312 - val_loss: 2389.7148\n",
      "Epoch 14/500\n",
      "28/28 [==============================] - 0s 4ms/step - loss: 3801.1272 - val_loss: 2349.0088\n",
      "Epoch 15/500\n",
      "28/28 [==============================] - 0s 4ms/step - loss: 3719.7119 - val_loss: 2309.0684\n",
      "Epoch 16/500\n",
      "28/28 [==============================] - 0s 4ms/step - loss: 3639.6553 - val_loss: 2269.8787\n",
      "Epoch 17/500\n",
      "28/28 [==============================] - 0s 4ms/step - loss: 3560.9304 - val_loss: 2231.4260\n",
      "Epoch 18/500\n",
      "28/28 [==============================] - 0s 4ms/step - loss: 3483.5134 - val_loss: 2193.6985\n",
      "Epoch 19/500\n",
      "28/28 [==============================] - 0s 4ms/step - loss: 3407.3826 - val_loss: 2156.6843\n",
      "Epoch 20/500\n",
      "28/28 [==============================] - 0s 4ms/step - loss: 3332.5183 - val_loss: 2120.3733\n",
      "Epoch 21/500\n",
      "28/28 [==============================] - 0s 4ms/step - loss: 3258.9019 - val_loss: 2084.7544\n",
      "Epoch 22/500\n",
      "28/28 [==============================] - 0s 4ms/step - loss: 3186.5146 - val_loss: 2049.8184\n",
      "Epoch 23/500\n",
      "28/28 [==============================] - 0s 4ms/step - loss: 3115.3396 - val_loss: 2015.5557\n",
      "Epoch 24/500\n",
      "28/28 [==============================] - 0s 4ms/step - loss: 3045.3613 - val_loss: 1981.9568\n",
      "Epoch 25/500\n",
      "28/28 [==============================] - 0s 4ms/step - loss: 2976.5637 - val_loss: 1949.0133\n",
      "Epoch 26/500\n",
      "28/28 [==============================] - 0s 4ms/step - loss: 2908.9307 - val_loss: 1916.7162\n",
      "Epoch 27/500\n",
      "28/28 [==============================] - 0s 4ms/step - loss: 2842.4480 - val_loss: 1885.0573\n",
      "Epoch 28/500\n",
      "28/28 [==============================] - 0s 3ms/step - loss: 2777.1013 - val_loss: 1854.0282\n",
      "Epoch 29/500\n",
      "28/28 [==============================] - 0s 6ms/step - loss: 2712.8765 - val_loss: 1823.6205\n",
      "Epoch 30/500\n",
      "28/28 [==============================] - 0s 4ms/step - loss: 2649.7581 - val_loss: 1793.8263\n",
      "Epoch 31/500\n",
      "28/28 [==============================] - 0s 4ms/step - loss: 2587.7351 - val_loss: 1764.6382\n",
      "Epoch 32/500\n",
      "28/28 [==============================] - 0s 4ms/step - loss: 2526.7922 - val_loss: 1736.0476\n",
      "Epoch 33/500\n",
      "28/28 [==============================] - 0s 4ms/step - loss: 2466.9167 - val_loss: 1708.0480\n",
      "Epoch 34/500\n",
      "28/28 [==============================] - 0s 4ms/step - loss: 2408.0957 - val_loss: 1680.6309\n",
      "Epoch 35/500\n",
      "28/28 [==============================] - 0s 4ms/step - loss: 2350.3167 - val_loss: 1653.7891\n",
      "Epoch 36/500\n",
      "28/28 [==============================] - 0s 3ms/step - loss: 2293.5669 - val_loss: 1627.5156\n",
      "Epoch 37/500\n",
      "28/28 [==============================] - 0s 4ms/step - loss: 2237.8347 - val_loss: 1601.8029\n",
      "Epoch 38/500\n",
      "28/28 [==============================] - 0s 4ms/step - loss: 2183.1062 - val_loss: 1576.6436\n",
      "Epoch 39/500\n",
      "28/28 [==============================] - 0s 4ms/step - loss: 2129.3701 - val_loss: 1552.0309\n",
      "Epoch 40/500\n",
      "28/28 [==============================] - 0s 4ms/step - loss: 2076.6150 - val_loss: 1527.9578\n",
      "Epoch 41/500\n",
      "28/28 [==============================] - 0s 4ms/step - loss: 2024.8284 - val_loss: 1504.4170\n",
      "Epoch 42/500\n",
      "28/28 [==============================] - 0s 4ms/step - loss: 1973.9989 - val_loss: 1481.4023\n",
      "Epoch 43/500\n",
      "28/28 [==============================] - 0s 4ms/step - loss: 1924.1156 - val_loss: 1458.9065\n",
      "Epoch 44/500\n",
      "28/28 [==============================] - 0s 3ms/step - loss: 1875.1660 - val_loss: 1436.9227\n",
      "Epoch 45/500\n",
      "28/28 [==============================] - 0s 3ms/step - loss: 1827.1384 - val_loss: 1415.4441\n",
      "Epoch 46/500\n",
      "28/28 [==============================] - 0s 4ms/step - loss: 1780.0236 - val_loss: 1394.4645\n",
      "Epoch 47/500\n",
      "28/28 [==============================] - 0s 4ms/step - loss: 1733.8087 - val_loss: 1373.9774\n",
      "Epoch 48/500\n",
      "28/28 [==============================] - 0s 4ms/step - loss: 1688.4845 - val_loss: 1353.9761\n",
      "Epoch 49/500\n",
      "28/28 [==============================] - 0s 4ms/step - loss: 1644.0391 - val_loss: 1334.4541\n",
      "Epoch 50/500\n",
      "28/28 [==============================] - 0s 3ms/step - loss: 1600.4617 - val_loss: 1315.4054\n",
      "Epoch 51/500\n",
      "28/28 [==============================] - 0s 5ms/step - loss: 1557.7422 - val_loss: 1296.8230\n",
      "Epoch 52/500\n",
      "28/28 [==============================] - 0s 5ms/step - loss: 1515.8687 - val_loss: 1278.7007\n",
      "Epoch 53/500\n",
      "28/28 [==============================] - 0s 5ms/step - loss: 1474.8326 - val_loss: 1261.0325\n",
      "Epoch 54/500\n",
      "28/28 [==============================] - 0s 4ms/step - loss: 1434.6212 - val_loss: 1243.8121\n",
      "Epoch 55/500\n",
      "28/28 [==============================] - 0s 4ms/step - loss: 1395.2266 - val_loss: 1227.0332\n",
      "Epoch 56/500\n",
      "28/28 [==============================] - 0s 8ms/step - loss: 1356.6371 - val_loss: 1210.6896\n",
      "Epoch 57/500\n",
      "28/28 [==============================] - 0s 3ms/step - loss: 1318.8427 - val_loss: 1194.7755\n",
      "Epoch 58/500\n",
      "28/28 [==============================] - 0s 4ms/step - loss: 1281.8336 - val_loss: 1179.2847\n",
      "Epoch 59/500\n",
      "28/28 [==============================] - 0s 4ms/step - loss: 1245.5995 - val_loss: 1164.2109\n",
      "Epoch 60/500\n",
      "28/28 [==============================] - 0s 4ms/step - loss: 1210.1307 - val_loss: 1149.5487\n",
      "Epoch 61/500\n",
      "28/28 [==============================] - 0s 4ms/step - loss: 1175.4172 - val_loss: 1135.2914\n",
      "Epoch 62/500\n",
      "28/28 [==============================] - 0s 4ms/step - loss: 1141.4493 - val_loss: 1121.4336\n",
      "Epoch 63/500\n",
      "28/28 [==============================] - 0s 4ms/step - loss: 1108.2175 - val_loss: 1107.9694\n",
      "Epoch 64/500\n",
      "28/28 [==============================] - 0s 4ms/step - loss: 1075.7115 - val_loss: 1094.8928\n",
      "Epoch 65/500\n",
      "28/28 [==============================] - 0s 3ms/step - loss: 1043.9224 - val_loss: 1082.1979\n",
      "Epoch 66/500\n",
      "28/28 [==============================] - 0s 4ms/step - loss: 1012.8402 - val_loss: 1069.8790\n",
      "Epoch 67/500\n",
      "28/28 [==============================] - 0s 4ms/step - loss: 982.4555 - val_loss: 1057.9303\n",
      "Epoch 68/500\n",
      "28/28 [==============================] - 0s 4ms/step - loss: 952.7585 - val_loss: 1046.3462\n",
      "Epoch 69/500\n",
      "28/28 [==============================] - 0s 5ms/step - loss: 923.7407 - val_loss: 1035.1207\n",
      "Epoch 70/500\n",
      "28/28 [==============================] - 0s 4ms/step - loss: 895.3923 - val_loss: 1024.2483\n",
      "Epoch 71/500\n",
      "28/28 [==============================] - 0s 4ms/step - loss: 867.7037 - val_loss: 1013.7233\n",
      "Epoch 72/500\n",
      "28/28 [==============================] - 0s 4ms/step - loss: 840.6660 - val_loss: 1003.5401\n",
      "Epoch 73/500\n",
      "28/28 [==============================] - 0s 4ms/step - loss: 814.2692 - val_loss: 993.6926\n",
      "Epoch 74/500\n",
      "28/28 [==============================] - 0s 4ms/step - loss: 788.5051 - val_loss: 984.1758\n",
      "Epoch 75/500\n",
      "28/28 [==============================] - 0s 4ms/step - loss: 763.3641 - val_loss: 974.9838\n",
      "Epoch 76/500\n",
      "28/28 [==============================] - 0s 4ms/step - loss: 738.8376 - val_loss: 966.1111\n",
      "Epoch 77/500\n",
      "28/28 [==============================] - 0s 4ms/step - loss: 714.9161 - val_loss: 957.5522\n",
      "Epoch 78/500\n",
      "28/28 [==============================] - 0s 4ms/step - loss: 691.5905 - val_loss: 949.3016\n",
      "Epoch 79/500\n",
      "28/28 [==============================] - 0s 4ms/step - loss: 668.8525 - val_loss: 941.3537\n",
      "Epoch 80/500\n",
      "28/28 [==============================] - 0s 4ms/step - loss: 646.6928 - val_loss: 933.7028\n",
      "Epoch 81/500\n",
      "28/28 [==============================] - 0s 5ms/step - loss: 625.1026 - val_loss: 926.3441\n",
      "Epoch 82/500\n",
      "28/28 [==============================] - 0s 4ms/step - loss: 604.0729 - val_loss: 919.2716\n",
      "Epoch 83/500\n",
      "28/28 [==============================] - 0s 4ms/step - loss: 583.5952 - val_loss: 912.4801\n",
      "Epoch 84/500\n",
      "28/28 [==============================] - 0s 5ms/step - loss: 563.6607 - val_loss: 905.9641\n",
      "Epoch 85/500\n",
      "28/28 [==============================] - 0s 8ms/step - loss: 544.2606 - val_loss: 899.7181\n",
      "Epoch 86/500\n",
      "28/28 [==============================] - 0s 4ms/step - loss: 525.3861 - val_loss: 893.7370\n",
      "Epoch 87/500\n",
      "28/28 [==============================] - 0s 4ms/step - loss: 507.0290 - val_loss: 888.0153\n",
      "Epoch 88/500\n",
      "28/28 [==============================] - 0s 3ms/step - loss: 489.1801 - val_loss: 882.5475\n",
      "Epoch 89/500\n",
      "28/28 [==============================] - 0s 4ms/step - loss: 471.8307 - val_loss: 877.3284\n",
      "Epoch 90/500\n",
      "28/28 [==============================] - 0s 3ms/step - loss: 454.9730 - val_loss: 872.3530\n",
      "Epoch 91/500\n",
      "28/28 [==============================] - 0s 4ms/step - loss: 438.5982 - val_loss: 867.6156\n",
      "Epoch 92/500\n",
      "28/28 [==============================] - 0s 4ms/step - loss: 422.6979 - val_loss: 863.1111\n",
      "Epoch 93/500\n",
      "28/28 [==============================] - 0s 4ms/step - loss: 407.2632 - val_loss: 858.8340\n",
      "Epoch 94/500\n",
      "28/28 [==============================] - 0s 3ms/step - loss: 392.2862 - val_loss: 854.7798\n",
      "Epoch 95/500\n",
      "28/28 [==============================] - 0s 4ms/step - loss: 377.7584 - val_loss: 850.9423\n",
      "Epoch 96/500\n",
      "28/28 [==============================] - 0s 4ms/step - loss: 363.6712 - val_loss: 847.3171\n",
      "Epoch 97/500\n",
      "28/28 [==============================] - 0s 4ms/step - loss: 350.0168 - val_loss: 843.8986\n",
      "Epoch 98/500\n",
      "28/28 [==============================] - 0s 4ms/step - loss: 336.7864 - val_loss: 840.6819\n",
      "Epoch 99/500\n",
      "28/28 [==============================] - 0s 4ms/step - loss: 323.9721 - val_loss: 837.6617\n",
      "Epoch 100/500\n",
      "28/28 [==============================] - 0s 4ms/step - loss: 311.5656 - val_loss: 834.8329\n",
      "Epoch 101/500\n",
      "28/28 [==============================] - 0s 3ms/step - loss: 299.5586 - val_loss: 832.1904\n",
      "Epoch 102/500\n",
      "28/28 [==============================] - 0s 4ms/step - loss: 287.9431 - val_loss: 829.7293\n",
      "Epoch 103/500\n",
      "28/28 [==============================] - 0s 4ms/step - loss: 276.7108 - val_loss: 827.4445\n",
      "Epoch 104/500\n",
      "28/28 [==============================] - 0s 3ms/step - loss: 265.8543 - val_loss: 825.3310\n",
      "Epoch 105/500\n",
      "28/28 [==============================] - 0s 4ms/step - loss: 255.3650 - val_loss: 823.3839\n",
      "Epoch 106/500\n",
      "28/28 [==============================] - 0s 4ms/step - loss: 245.2354 - val_loss: 821.5980\n",
      "Epoch 107/500\n",
      "28/28 [==============================] - 0s 6ms/step - loss: 235.4573 - val_loss: 819.9686\n",
      "Epoch 108/500\n",
      "28/28 [==============================] - 0s 4ms/step - loss: 226.0226 - val_loss: 818.4907\n",
      "Epoch 109/500\n",
      "28/28 [==============================] - 0s 3ms/step - loss: 216.9240 - val_loss: 817.1595\n",
      "Epoch 110/500\n",
      "28/28 [==============================] - 0s 4ms/step - loss: 208.1534 - val_loss: 815.9702\n",
      "Epoch 111/500\n",
      "28/28 [==============================] - 0s 3ms/step - loss: 199.7032 - val_loss: 814.9182\n",
      "Epoch 112/500\n",
      "28/28 [==============================] - 0s 3ms/step - loss: 191.5659 - val_loss: 813.9984\n",
      "Epoch 113/500\n",
      "28/28 [==============================] - 0s 3ms/step - loss: 183.7333 - val_loss: 813.2061\n",
      "Epoch 114/500\n",
      "28/28 [==============================] - 0s 4ms/step - loss: 176.1983 - val_loss: 812.5368\n",
      "Epoch 115/500\n",
      "28/28 [==============================] - 0s 4ms/step - loss: 168.9534 - val_loss: 811.9860\n",
      "Epoch 116/500\n",
      "28/28 [==============================] - 0s 4ms/step - loss: 161.9913 - val_loss: 811.5488\n",
      "Epoch 117/500\n",
      "28/28 [==============================] - 0s 3ms/step - loss: 155.3042 - val_loss: 811.2208\n",
      "Epoch 118/500\n",
      "28/28 [==============================] - 0s 4ms/step - loss: 148.8852 - val_loss: 810.9976\n",
      "Epoch 119/500\n",
      "28/28 [==============================] - 0s 4ms/step - loss: 142.7267 - val_loss: 810.8745\n",
      "Epoch 120/500\n",
      "28/28 [==============================] - 0s 4ms/step - loss: 136.8216 - val_loss: 810.8475\n",
      "Epoch 121/500\n",
      "28/28 [==============================] - 0s 4ms/step - loss: 131.1627 - val_loss: 810.9118\n",
      "Epoch 122/500\n",
      "28/28 [==============================] - 0s 4ms/step - loss: 125.7432 - val_loss: 811.0634\n",
      "Epoch 123/500\n",
      "28/28 [==============================] - 0s 3ms/step - loss: 120.5560 - val_loss: 811.2979\n",
      "Epoch 124/500\n",
      "28/28 [==============================] - 0s 3ms/step - loss: 115.5940 - val_loss: 811.6113\n",
      "Epoch 125/500\n",
      "28/28 [==============================] - 0s 4ms/step - loss: 110.8507 - val_loss: 811.9995\n",
      "Epoch 126/500\n",
      "28/28 [==============================] - 0s 4ms/step - loss: 106.3190 - val_loss: 812.4582\n",
      "Epoch 127/500\n",
      "28/28 [==============================] - 0s 4ms/step - loss: 101.9927 - val_loss: 812.9836\n",
      "Epoch 128/500\n",
      "28/28 [==============================] - 0s 5ms/step - loss: 97.8648 - val_loss: 813.5718\n",
      "Epoch 129/500\n",
      "28/28 [==============================] - 0s 4ms/step - loss: 93.9293 - val_loss: 814.2189\n",
      "Epoch 130/500\n",
      "28/28 [==============================] - 0s 4ms/step - loss: 90.1794 - val_loss: 814.9211\n",
      "Epoch 131/500\n",
      "28/28 [==============================] - 0s 3ms/step - loss: 86.6091 - val_loss: 815.6748\n",
      "Epoch 132/500\n",
      "28/28 [==============================] - 0s 5ms/step - loss: 83.2121 - val_loss: 816.4762\n",
      "Epoch 133/500\n",
      "28/28 [==============================] - 0s 4ms/step - loss: 79.9824 - val_loss: 817.3218\n",
      "Epoch 134/500\n",
      "28/28 [==============================] - 0s 3ms/step - loss: 76.9139 - val_loss: 818.2082\n",
      "Epoch 135/500\n",
      "28/28 [==============================] - 0s 4ms/step - loss: 74.0008 - val_loss: 819.1321\n",
      "Epoch 136/500\n",
      "28/28 [==============================] - 0s 4ms/step - loss: 71.2371 - val_loss: 820.0900\n",
      "Epoch 137/500\n",
      "28/28 [==============================] - 0s 4ms/step - loss: 68.6173 - val_loss: 821.0787\n",
      "Epoch 138/500\n",
      "28/28 [==============================] - 0s 3ms/step - loss: 66.1359 - val_loss: 822.0951\n",
      "Epoch 139/500\n",
      "28/28 [==============================] - 0s 4ms/step - loss: 63.7875 - val_loss: 823.1362\n",
      "Epoch 140/500\n",
      "28/28 [==============================] - 0s 4ms/step - loss: 61.5664 - val_loss: 824.1989\n",
      "Epoch 141/500\n",
      "28/28 [==============================] - 0s 4ms/step - loss: 59.4678 - val_loss: 825.2804\n",
      "Epoch 142/500\n",
      "28/28 [==============================] - 0s 4ms/step - loss: 57.4863 - val_loss: 826.3779\n",
      "Epoch 143/500\n",
      "28/28 [==============================] - 0s 4ms/step - loss: 55.6171 - val_loss: 827.4888\n",
      "Epoch 144/500\n",
      "28/28 [==============================] - 0s 4ms/step - loss: 53.8554 - val_loss: 828.6105\n",
      "Epoch 145/500\n",
      "28/28 [==============================] - 0s 4ms/step - loss: 52.1963 - val_loss: 829.7405\n",
      "Epoch 146/500\n",
      "28/28 [==============================] - 0s 4ms/step - loss: 50.6351 - val_loss: 830.8760\n",
      "Epoch 147/500\n",
      "28/28 [==============================] - 0s 4ms/step - loss: 49.1675 - val_loss: 832.0154\n",
      "Epoch 148/500\n",
      "28/28 [==============================] - 0s 4ms/step - loss: 47.7890 - val_loss: 833.1562\n",
      "Epoch 149/500\n",
      "28/28 [==============================] - 0s 4ms/step - loss: 46.4954 - val_loss: 834.2959\n",
      "Epoch 150/500\n",
      "28/28 [==============================] - 0s 6ms/step - loss: 45.2827 - val_loss: 835.4330\n",
      "Epoch 151/500\n",
      "28/28 [==============================] - 0s 4ms/step - loss: 44.1467 - val_loss: 836.5654\n",
      "Epoch 152/500\n",
      "28/28 [==============================] - 0s 4ms/step - loss: 43.0837 - val_loss: 837.6913\n",
      "Epoch 153/500\n",
      "28/28 [==============================] - 0s 4ms/step - loss: 42.0899 - val_loss: 838.8088\n",
      "Epoch 154/500\n",
      "28/28 [==============================] - 0s 4ms/step - loss: 41.1617 - val_loss: 839.9166\n",
      "Epoch 155/500\n",
      "28/28 [==============================] - 0s 4ms/step - loss: 40.2956 - val_loss: 841.0129\n",
      "Epoch 156/500\n",
      "28/28 [==============================] - 0s 3ms/step - loss: 39.4883 - val_loss: 842.0965\n",
      "Epoch 157/500\n",
      "28/28 [==============================] - 0s 4ms/step - loss: 38.7363 - val_loss: 843.1658\n",
      "Epoch 158/500\n",
      "28/28 [==============================] - 0s 4ms/step - loss: 38.0369 - val_loss: 844.2197\n",
      "Epoch 159/500\n",
      "28/28 [==============================] - 0s 4ms/step - loss: 37.3868 - val_loss: 845.2573\n",
      "Epoch 160/500\n",
      "28/28 [==============================] - 0s 4ms/step - loss: 36.7832 - val_loss: 846.2771\n",
      "Epoch 161/500\n",
      "28/28 [==============================] - 0s 3ms/step - loss: 36.2234 - val_loss: 847.2786\n",
      "Epoch 162/500\n",
      "28/28 [==============================] - 0s 4ms/step - loss: 35.7046 - val_loss: 848.2604\n",
      "Epoch 163/500\n",
      "28/28 [==============================] - 0s 4ms/step - loss: 35.2245 - val_loss: 849.2219\n",
      "Epoch 164/500\n",
      "28/28 [==============================] - 0s 4ms/step - loss: 34.7806 - val_loss: 850.1626\n",
      "Epoch 165/500\n",
      "28/28 [==============================] - 0s 3ms/step - loss: 34.3706 - val_loss: 851.0817\n",
      "Epoch 166/500\n",
      "28/28 [==============================] - 0s 3ms/step - loss: 33.9923 - val_loss: 851.9786\n",
      "Epoch 167/500\n",
      "28/28 [==============================] - 0s 4ms/step - loss: 33.6437 - val_loss: 852.8530\n",
      "Epoch 168/500\n",
      "28/28 [==============================] - 0s 4ms/step - loss: 33.3226 - val_loss: 853.7043\n",
      "Epoch 169/500\n",
      "28/28 [==============================] - 0s 4ms/step - loss: 33.0275 - val_loss: 854.5325\n",
      "Epoch 170/500\n",
      "28/28 [==============================] - 0s 4ms/step - loss: 32.7563 - val_loss: 855.3370\n",
      "Epoch 171/500\n",
      "28/28 [==============================] - 0s 4ms/step - loss: 32.5073 - val_loss: 856.1179\n",
      "Epoch 172/500\n",
      "28/28 [==============================] - 0s 4ms/step - loss: 32.2791 - val_loss: 856.8746\n",
      "Epoch 173/500\n",
      "28/28 [==============================] - 0s 4ms/step - loss: 32.0703 - val_loss: 857.6074\n",
      "Epoch 174/500\n",
      "28/28 [==============================] - 0s 6ms/step - loss: 31.8792 - val_loss: 858.3166\n",
      "Epoch 175/500\n",
      "28/28 [==============================] - 0s 4ms/step - loss: 31.7046 - val_loss: 859.0019\n",
      "Epoch 176/500\n",
      "28/28 [==============================] - 0s 4ms/step - loss: 31.5451 - val_loss: 859.6633\n",
      "Epoch 177/500\n",
      "28/28 [==============================] - 0s 4ms/step - loss: 31.3998 - val_loss: 860.3013\n",
      "Epoch 178/500\n",
      "28/28 [==============================] - 0s 3ms/step - loss: 31.2674 - val_loss: 860.9158\n",
      "Epoch 179/500\n",
      "28/28 [==============================] - 0s 4ms/step - loss: 31.1470 - val_loss: 861.5076\n",
      "Epoch 180/500\n",
      "28/28 [==============================] - 0s 4ms/step - loss: 31.0375 - val_loss: 862.0763\n",
      "Epoch 181/500\n",
      "28/28 [==============================] - 0s 3ms/step - loss: 30.9381 - val_loss: 862.6221\n",
      "Epoch 182/500\n",
      "28/28 [==============================] - 0s 4ms/step - loss: 30.8480 - val_loss: 863.1462\n",
      "Epoch 183/500\n",
      "28/28 [==============================] - 0s 4ms/step - loss: 30.7663 - val_loss: 863.6483\n",
      "Epoch 184/500\n",
      "28/28 [==============================] - 0s 4ms/step - loss: 30.6925 - val_loss: 864.1292\n",
      "Epoch 185/500\n",
      "28/28 [==============================] - 0s 4ms/step - loss: 30.6257 - val_loss: 864.5890\n",
      "Epoch 186/500\n",
      "28/28 [==============================] - 0s 4ms/step - loss: 30.5654 - val_loss: 865.0286\n",
      "Epoch 187/500\n",
      "28/28 [==============================] - 0s 4ms/step - loss: 30.5110 - val_loss: 865.4482\n",
      "Epoch 188/500\n",
      "28/28 [==============================] - 0s 4ms/step - loss: 30.4619 - val_loss: 865.8483\n",
      "Epoch 189/500\n",
      "28/28 [==============================] - 0s 4ms/step - loss: 30.4178 - val_loss: 866.2294\n",
      "Epoch 190/500\n",
      "28/28 [==============================] - 0s 4ms/step - loss: 30.3781 - val_loss: 866.5925\n",
      "Epoch 191/500\n",
      "28/28 [==============================] - 0s 4ms/step - loss: 30.3425 - val_loss: 866.9375\n",
      "Epoch 192/500\n",
      "28/28 [==============================] - 0s 3ms/step - loss: 30.3105 - val_loss: 867.2652\n",
      "Epoch 193/500\n",
      "28/28 [==============================] - 0s 5ms/step - loss: 30.2818 - val_loss: 867.5763\n",
      "Epoch 194/500\n",
      "28/28 [==============================] - 0s 5ms/step - loss: 30.2562 - val_loss: 867.8710\n",
      "Epoch 195/500\n",
      "28/28 [==============================] - 0s 4ms/step - loss: 30.2332 - val_loss: 868.1503\n",
      "Epoch 196/500\n",
      "28/28 [==============================] - 0s 4ms/step - loss: 30.2127 - val_loss: 868.4144\n",
      "Epoch 197/500\n",
      "28/28 [==============================] - 0s 3ms/step - loss: 30.1946 - val_loss: 868.6642\n",
      "Epoch 198/500\n",
      "28/28 [==============================] - 0s 4ms/step - loss: 30.1782 - val_loss: 868.9000\n",
      "Epoch 199/500\n",
      "28/28 [==============================] - 0s 4ms/step - loss: 30.1638 - val_loss: 869.1224\n",
      "Epoch 200/500\n",
      "28/28 [==============================] - 0s 3ms/step - loss: 30.1510 - val_loss: 869.3321\n",
      "Epoch 201/500\n",
      "28/28 [==============================] - 0s 4ms/step - loss: 30.1396 - val_loss: 869.5295\n",
      "Epoch 202/500\n",
      "28/28 [==============================] - 0s 4ms/step - loss: 30.1295 - val_loss: 869.7151\n",
      "Epoch 203/500\n",
      "28/28 [==============================] - 0s 4ms/step - loss: 30.1207 - val_loss: 869.8896\n",
      "Epoch 204/500\n",
      "28/28 [==============================] - 0s 4ms/step - loss: 30.1128 - val_loss: 870.0535\n",
      "Epoch 205/500\n",
      "28/28 [==============================] - 0s 4ms/step - loss: 30.1059 - val_loss: 870.2067\n",
      "Epoch 206/500\n",
      "28/28 [==============================] - 0s 4ms/step - loss: 30.1000 - val_loss: 870.3505\n",
      "Epoch 207/500\n",
      "28/28 [==============================] - 0s 4ms/step - loss: 30.0947 - val_loss: 870.4851\n",
      "Epoch 208/500\n",
      "28/28 [==============================] - 0s 3ms/step - loss: 30.0900 - val_loss: 870.6107\n",
      "Epoch 209/500\n",
      "28/28 [==============================] - 0s 4ms/step - loss: 30.0862 - val_loss: 870.7282\n",
      "Epoch 210/500\n",
      "28/28 [==============================] - 0s 3ms/step - loss: 30.0828 - val_loss: 870.8376\n",
      "Epoch 211/500\n",
      "28/28 [==============================] - 0s 4ms/step - loss: 30.0800 - val_loss: 870.9399\n",
      "Epoch 212/500\n",
      "28/28 [==============================] - 0s 4ms/step - loss: 30.0775 - val_loss: 871.0349\n",
      "Epoch 213/500\n",
      "28/28 [==============================] - 0s 4ms/step - loss: 30.0755 - val_loss: 871.1230\n",
      "Epoch 214/500\n",
      "28/28 [==============================] - 0s 4ms/step - loss: 30.0739 - val_loss: 871.2053\n",
      "Epoch 215/500\n",
      "28/28 [==============================] - 0s 6ms/step - loss: 30.0726 - val_loss: 871.2816\n",
      "Epoch 216/500\n",
      "28/28 [==============================] - 0s 4ms/step - loss: 30.0715 - val_loss: 871.3521\n",
      "Epoch 217/500\n",
      "28/28 [==============================] - 0s 4ms/step - loss: 30.0707 - val_loss: 871.4173\n",
      "Epoch 218/500\n",
      "28/28 [==============================] - 0s 4ms/step - loss: 30.0702 - val_loss: 871.4776\n",
      "Epoch 219/500\n",
      "28/28 [==============================] - 0s 4ms/step - loss: 30.0698 - val_loss: 871.5331\n",
      "Epoch 220/500\n",
      "28/28 [==============================] - 0s 4ms/step - loss: 30.0697 - val_loss: 871.5845\n",
      "Epoch 221/500\n",
      "28/28 [==============================] - 0s 4ms/step - loss: 30.0698 - val_loss: 871.6320\n",
      "Epoch 222/500\n",
      "28/28 [==============================] - 0s 4ms/step - loss: 30.0699 - val_loss: 871.6755\n",
      "Epoch 223/500\n",
      "28/28 [==============================] - 0s 3ms/step - loss: 30.0703 - val_loss: 871.7153\n",
      "Epoch 224/500\n",
      "28/28 [==============================] - 0s 4ms/step - loss: 30.0708 - val_loss: 871.7520\n",
      "Epoch 225/500\n",
      "28/28 [==============================] - 0s 4ms/step - loss: 30.0713 - val_loss: 871.7854\n",
      "Epoch 226/500\n",
      "28/28 [==============================] - 0s 4ms/step - loss: 30.0720 - val_loss: 871.8163\n",
      "Epoch 227/500\n",
      "28/28 [==============================] - 0s 4ms/step - loss: 30.0727 - val_loss: 871.8441\n",
      "Epoch 228/500\n",
      "28/28 [==============================] - 0s 4ms/step - loss: 30.0736 - val_loss: 871.8697\n",
      "Epoch 229/500\n",
      "28/28 [==============================] - 0s 4ms/step - loss: 30.0745 - val_loss: 871.8928\n",
      "Epoch 230/500\n",
      "28/28 [==============================] - 0s 4ms/step - loss: 30.0755 - val_loss: 871.9139\n",
      "Epoch 231/500\n",
      "28/28 [==============================] - 0s 4ms/step - loss: 30.0765 - val_loss: 871.9329\n",
      "Epoch 232/500\n",
      "28/28 [==============================] - 0s 4ms/step - loss: 30.0776 - val_loss: 871.9501\n",
      "Epoch 233/500\n",
      "28/28 [==============================] - 0s 3ms/step - loss: 30.0788 - val_loss: 871.9656\n",
      "Epoch 234/500\n",
      "28/28 [==============================] - 0s 4ms/step - loss: 30.0800 - val_loss: 871.9796\n",
      "Epoch 235/500\n",
      "28/28 [==============================] - 0s 6ms/step - loss: 30.0811 - val_loss: 871.9922\n",
      "Epoch 236/500\n",
      "28/28 [==============================] - 0s 4ms/step - loss: 30.0824 - val_loss: 872.0035\n",
      "Epoch 237/500\n",
      "28/28 [==============================] - 0s 4ms/step - loss: 30.0836 - val_loss: 872.0135\n",
      "Epoch 238/500\n",
      "28/28 [==============================] - 0s 4ms/step - loss: 30.0850 - val_loss: 872.0225\n",
      "Epoch 239/500\n",
      "28/28 [==============================] - 0s 4ms/step - loss: 30.0862 - val_loss: 872.0300\n",
      "Epoch 240/500\n",
      "28/28 [==============================] - 0s 4ms/step - loss: 30.0876 - val_loss: 872.0369\n",
      "Epoch 241/500\n",
      "28/28 [==============================] - 0s 4ms/step - loss: 30.0890 - val_loss: 872.0433\n",
      "Epoch 242/500\n",
      "28/28 [==============================] - 0s 4ms/step - loss: 30.0903 - val_loss: 872.0483\n",
      "Epoch 243/500\n",
      "28/28 [==============================] - 0s 4ms/step - loss: 30.0917 - val_loss: 872.0528\n",
      "Epoch 244/500\n",
      "28/28 [==============================] - 0s 4ms/step - loss: 30.0931 - val_loss: 872.0568\n",
      "Epoch 245/500\n",
      "28/28 [==============================] - 0s 4ms/step - loss: 30.0944 - val_loss: 872.0600\n",
      "Epoch 246/500\n",
      "28/28 [==============================] - 0s 3ms/step - loss: 30.0958 - val_loss: 872.0625\n",
      "Epoch 247/500\n",
      "28/28 [==============================] - 0s 4ms/step - loss: 30.0972 - val_loss: 872.0647\n",
      "Epoch 248/500\n",
      "28/28 [==============================] - 0s 4ms/step - loss: 30.0986 - val_loss: 872.0665\n",
      "Epoch 249/500\n",
      "28/28 [==============================] - 0s 4ms/step - loss: 30.0999 - val_loss: 872.0677\n",
      "Epoch 250/500\n",
      "28/28 [==============================] - 0s 3ms/step - loss: 30.1013 - val_loss: 872.0686\n",
      "Epoch 251/500\n",
      "28/28 [==============================] - 0s 4ms/step - loss: 30.1027 - val_loss: 872.0692\n",
      "Epoch 252/500\n",
      "28/28 [==============================] - 0s 5ms/step - loss: 30.1040 - val_loss: 872.0694\n",
      "Epoch 253/500\n",
      "28/28 [==============================] - 0s 4ms/step - loss: 30.1054 - val_loss: 872.0695\n",
      "Epoch 254/500\n",
      "28/28 [==============================] - 0s 5ms/step - loss: 30.1067 - val_loss: 872.0690\n",
      "Epoch 255/500\n",
      "28/28 [==============================] - 0s 4ms/step - loss: 30.1081 - val_loss: 872.0686\n",
      "Epoch 256/500\n",
      "28/28 [==============================] - 0s 4ms/step - loss: 30.1093 - val_loss: 872.0678\n",
      "Epoch 257/500\n",
      "28/28 [==============================] - 0s 4ms/step - loss: 30.1106 - val_loss: 872.0668\n",
      "Epoch 258/500\n",
      "28/28 [==============================] - 0s 4ms/step - loss: 30.1120 - val_loss: 872.0659\n",
      "Epoch 259/500\n",
      "28/28 [==============================] - 0s 4ms/step - loss: 30.1133 - val_loss: 872.0650\n",
      "Epoch 260/500\n",
      "28/28 [==============================] - 0s 4ms/step - loss: 30.1145 - val_loss: 872.0638\n",
      "Epoch 261/500\n",
      "28/28 [==============================] - 0s 4ms/step - loss: 30.1158 - val_loss: 872.0624\n",
      "Epoch 262/500\n",
      "28/28 [==============================] - 0s 4ms/step - loss: 30.1170 - val_loss: 872.0607\n",
      "Epoch 263/500\n",
      "28/28 [==============================] - 0s 4ms/step - loss: 30.1182 - val_loss: 872.0594\n",
      "Epoch 264/500\n",
      "28/28 [==============================] - 0s 4ms/step - loss: 30.1194 - val_loss: 872.0577\n",
      "Epoch 265/500\n",
      "28/28 [==============================] - 0s 3ms/step - loss: 30.1206 - val_loss: 872.0561\n",
      "Epoch 266/500\n",
      "28/28 [==============================] - 0s 4ms/step - loss: 30.1218 - val_loss: 872.0544\n",
      "Epoch 267/500\n",
      "28/28 [==============================] - 0s 3ms/step - loss: 30.1230 - val_loss: 872.0531\n",
      "Epoch 268/500\n",
      "28/28 [==============================] - 0s 4ms/step - loss: 30.1242 - val_loss: 872.0515\n",
      "Epoch 269/500\n",
      "28/28 [==============================] - 0s 4ms/step - loss: 30.1252 - val_loss: 872.0498\n",
      "Epoch 270/500\n",
      "28/28 [==============================] - 0s 6ms/step - loss: 30.1264 - val_loss: 872.0480\n",
      "Epoch 271/500\n",
      "28/28 [==============================] - 0s 4ms/step - loss: 30.1274 - val_loss: 872.0463\n",
      "Epoch 272/500\n",
      "28/28 [==============================] - 0s 4ms/step - loss: 30.1285 - val_loss: 872.0443\n",
      "Epoch 273/500\n",
      "28/28 [==============================] - 0s 3ms/step - loss: 30.1296 - val_loss: 872.0427\n",
      "Epoch 274/500\n",
      "28/28 [==============================] - 0s 4ms/step - loss: 30.1306 - val_loss: 872.0410\n",
      "Epoch 275/500\n",
      "28/28 [==============================] - 0s 4ms/step - loss: 30.1316 - val_loss: 872.0392\n",
      "Epoch 276/500\n",
      "28/28 [==============================] - 0s 4ms/step - loss: 30.1326 - val_loss: 872.0373\n",
      "Epoch 277/500\n",
      "28/28 [==============================] - 0s 4ms/step - loss: 30.1336 - val_loss: 872.0353\n",
      "Epoch 278/500\n",
      "28/28 [==============================] - 0s 3ms/step - loss: 30.1345 - val_loss: 872.0334\n",
      "Epoch 279/500\n",
      "28/28 [==============================] - 0s 4ms/step - loss: 30.1355 - val_loss: 872.0316\n",
      "Epoch 280/500\n",
      "28/28 [==============================] - 0s 4ms/step - loss: 30.1364 - val_loss: 872.0298\n",
      "Epoch 281/500\n",
      "28/28 [==============================] - 0s 4ms/step - loss: 30.1373 - val_loss: 872.0280\n",
      "Epoch 282/500\n",
      "28/28 [==============================] - 0s 4ms/step - loss: 30.1382 - val_loss: 872.0262\n",
      "Epoch 283/500\n",
      "28/28 [==============================] - 0s 4ms/step - loss: 30.1391 - val_loss: 872.0246\n",
      "Epoch 284/500\n",
      "28/28 [==============================] - 0s 4ms/step - loss: 30.1400 - val_loss: 872.0228\n",
      "Epoch 285/500\n",
      "28/28 [==============================] - 0s 4ms/step - loss: 30.1408 - val_loss: 872.0211\n",
      "Epoch 286/500\n",
      "28/28 [==============================] - 0s 4ms/step - loss: 30.1417 - val_loss: 872.0194\n",
      "Epoch 287/500\n",
      "28/28 [==============================] - 0s 6ms/step - loss: 30.1425 - val_loss: 872.0178\n",
      "Epoch 288/500\n",
      "28/28 [==============================] - 0s 4ms/step - loss: 30.1433 - val_loss: 872.0163\n",
      "Epoch 289/500\n",
      "28/28 [==============================] - 0s 4ms/step - loss: 30.1441 - val_loss: 872.0146\n",
      "Epoch 290/500\n",
      "28/28 [==============================] - 0s 3ms/step - loss: 30.1448 - val_loss: 872.0131\n",
      "Epoch 291/500\n",
      "28/28 [==============================] - 0s 4ms/step - loss: 30.1456 - val_loss: 872.0115\n",
      "Epoch 292/500\n",
      "28/28 [==============================] - 0s 3ms/step - loss: 30.1463 - val_loss: 872.0099\n",
      "Epoch 293/500\n",
      "28/28 [==============================] - 0s 3ms/step - loss: 30.1471 - val_loss: 872.0085\n",
      "Epoch 294/500\n",
      "28/28 [==============================] - 0s 4ms/step - loss: 30.1478 - val_loss: 872.0073\n",
      "Epoch 295/500\n",
      "28/28 [==============================] - 0s 4ms/step - loss: 30.1485 - val_loss: 872.0058\n",
      "Epoch 296/500\n",
      "28/28 [==============================] - 0s 3ms/step - loss: 30.1491 - val_loss: 872.0042\n",
      "Epoch 297/500\n",
      "28/28 [==============================] - 0s 4ms/step - loss: 30.1498 - val_loss: 872.0030\n",
      "Epoch 298/500\n",
      "28/28 [==============================] - 0s 4ms/step - loss: 30.1504 - val_loss: 872.0015\n",
      "Epoch 299/500\n",
      "28/28 [==============================] - 0s 4ms/step - loss: 30.1509 - val_loss: 872.0000\n",
      "Epoch 300/500\n",
      "28/28 [==============================] - 0s 4ms/step - loss: 30.1516 - val_loss: 871.9985\n",
      "Epoch 301/500\n",
      "28/28 [==============================] - 0s 5ms/step - loss: 30.1522 - val_loss: 871.9969\n",
      "Epoch 302/500\n",
      "28/28 [==============================] - 0s 4ms/step - loss: 30.1529 - val_loss: 871.9956\n",
      "Epoch 303/500\n",
      "28/28 [==============================] - 0s 4ms/step - loss: 30.1534 - val_loss: 871.9944\n",
      "Epoch 304/500\n",
      "28/28 [==============================] - 0s 6ms/step - loss: 30.1540 - val_loss: 871.9930\n",
      "Epoch 305/500\n",
      "28/28 [==============================] - 0s 4ms/step - loss: 30.1546 - val_loss: 871.9919\n",
      "Epoch 306/500\n",
      "28/28 [==============================] - 0s 4ms/step - loss: 30.1551 - val_loss: 871.9908\n",
      "Epoch 307/500\n",
      "28/28 [==============================] - 0s 4ms/step - loss: 30.1556 - val_loss: 871.9894\n",
      "Epoch 308/500\n",
      "28/28 [==============================] - 0s 4ms/step - loss: 30.1561 - val_loss: 871.9885\n",
      "Epoch 309/500\n",
      "28/28 [==============================] - 0s 4ms/step - loss: 30.1566 - val_loss: 871.9875\n",
      "Epoch 310/500\n",
      "28/28 [==============================] - 0s 4ms/step - loss: 30.1572 - val_loss: 871.9864\n",
      "Epoch 311/500\n",
      "28/28 [==============================] - 0s 4ms/step - loss: 30.1576 - val_loss: 871.9854\n",
      "Epoch 312/500\n",
      "28/28 [==============================] - 0s 4ms/step - loss: 30.1581 - val_loss: 871.9844\n",
      "Epoch 313/500\n",
      "28/28 [==============================] - 0s 4ms/step - loss: 30.1585 - val_loss: 871.9833\n",
      "Epoch 314/500\n",
      "28/28 [==============================] - 0s 4ms/step - loss: 30.1590 - val_loss: 871.9825\n",
      "Epoch 315/500\n",
      "28/28 [==============================] - 0s 4ms/step - loss: 30.1594 - val_loss: 871.9813\n",
      "Epoch 316/500\n",
      "28/28 [==============================] - 0s 4ms/step - loss: 30.1598 - val_loss: 871.9801\n",
      "Epoch 317/500\n",
      "28/28 [==============================] - 0s 4ms/step - loss: 30.1603 - val_loss: 871.9792\n",
      "Epoch 318/500\n",
      "28/28 [==============================] - 0s 4ms/step - loss: 30.1606 - val_loss: 871.9780\n",
      "Epoch 319/500\n",
      "28/28 [==============================] - 0s 4ms/step - loss: 30.1610 - val_loss: 871.9771\n",
      "Epoch 320/500\n",
      "28/28 [==============================] - 0s 4ms/step - loss: 30.1614 - val_loss: 871.9761\n",
      "Epoch 321/500\n",
      "28/28 [==============================] - 0s 5ms/step - loss: 30.1618 - val_loss: 871.9753\n",
      "Epoch 322/500\n",
      "28/28 [==============================] - 0s 5ms/step - loss: 30.1622 - val_loss: 871.9745\n",
      "Epoch 323/500\n",
      "28/28 [==============================] - 0s 4ms/step - loss: 30.1625 - val_loss: 871.9733\n",
      "Epoch 324/500\n",
      "28/28 [==============================] - 0s 4ms/step - loss: 30.1628 - val_loss: 871.9725\n",
      "Epoch 325/500\n",
      "28/28 [==============================] - 0s 4ms/step - loss: 30.1632 - val_loss: 871.9716\n",
      "Epoch 326/500\n",
      "28/28 [==============================] - 0s 4ms/step - loss: 30.1635 - val_loss: 871.9706\n",
      "Epoch 327/500\n",
      "28/28 [==============================] - 0s 4ms/step - loss: 30.1639 - val_loss: 871.9698\n",
      "Epoch 328/500\n",
      "28/28 [==============================] - 0s 4ms/step - loss: 30.1642 - val_loss: 871.9691\n",
      "Epoch 329/500\n",
      "28/28 [==============================] - 0s 4ms/step - loss: 30.1645 - val_loss: 871.9684\n",
      "Epoch 330/500\n",
      "28/28 [==============================] - 0s 3ms/step - loss: 30.1648 - val_loss: 871.9674\n",
      "Epoch 331/500\n",
      "28/28 [==============================] - 0s 4ms/step - loss: 30.1651 - val_loss: 871.9668\n",
      "Epoch 332/500\n",
      "28/28 [==============================] - 0s 4ms/step - loss: 30.1654 - val_loss: 871.9660\n",
      "Epoch 333/500\n",
      "28/28 [==============================] - 0s 4ms/step - loss: 30.1657 - val_loss: 871.9651\n",
      "Epoch 334/500\n",
      "28/28 [==============================] - 0s 3ms/step - loss: 30.1658 - val_loss: 871.9642\n",
      "Epoch 335/500\n",
      "28/28 [==============================] - 0s 4ms/step - loss: 30.1662 - val_loss: 871.9637\n",
      "Epoch 336/500\n",
      "28/28 [==============================] - 0s 4ms/step - loss: 30.1664 - val_loss: 871.9628\n",
      "Epoch 337/500\n",
      "28/28 [==============================] - 0s 5ms/step - loss: 30.1666 - val_loss: 871.9619\n",
      "Epoch 338/500\n",
      "28/28 [==============================] - 0s 5ms/step - loss: 30.1669 - val_loss: 871.9612\n",
      "Epoch 339/500\n",
      "28/28 [==============================] - 0s 4ms/step - loss: 30.1672 - val_loss: 871.9606\n",
      "Epoch 340/500\n",
      "28/28 [==============================] - 0s 4ms/step - loss: 30.1674 - val_loss: 871.9600\n",
      "Epoch 341/500\n",
      "28/28 [==============================] - 0s 4ms/step - loss: 30.1676 - val_loss: 871.9593\n",
      "Epoch 342/500\n",
      "28/28 [==============================] - 0s 4ms/step - loss: 30.1678 - val_loss: 871.9588\n",
      "Epoch 343/500\n",
      "28/28 [==============================] - 0s 4ms/step - loss: 30.1680 - val_loss: 871.9580\n",
      "Epoch 344/500\n",
      "28/28 [==============================] - 0s 4ms/step - loss: 30.1682 - val_loss: 871.9572\n",
      "Epoch 345/500\n",
      "28/28 [==============================] - 0s 4ms/step - loss: 30.1684 - val_loss: 871.9565\n",
      "Epoch 346/500\n",
      "28/28 [==============================] - 0s 4ms/step - loss: 30.1686 - val_loss: 871.9557\n",
      "Epoch 347/500\n",
      "28/28 [==============================] - 0s 4ms/step - loss: 30.1688 - val_loss: 871.9553\n",
      "Epoch 348/500\n",
      "28/28 [==============================] - 0s 3ms/step - loss: 30.1690 - val_loss: 871.9546\n",
      "Epoch 349/500\n",
      "28/28 [==============================] - 0s 4ms/step - loss: 30.1692 - val_loss: 871.9539\n",
      "Epoch 350/500\n",
      "28/28 [==============================] - 0s 4ms/step - loss: 30.1694 - val_loss: 871.9536\n",
      "Epoch 351/500\n",
      "28/28 [==============================] - 0s 4ms/step - loss: 30.1696 - val_loss: 871.9529\n",
      "Epoch 352/500\n",
      "28/28 [==============================] - 0s 5ms/step - loss: 30.1697 - val_loss: 871.9525\n",
      "Epoch 353/500\n",
      "28/28 [==============================] - 0s 5ms/step - loss: 30.1699 - val_loss: 871.9520\n",
      "Epoch 354/500\n",
      "28/28 [==============================] - 0s 4ms/step - loss: 30.1700 - val_loss: 871.9514\n",
      "Epoch 355/500\n",
      "28/28 [==============================] - 0s 4ms/step - loss: 30.1702 - val_loss: 871.9507\n",
      "Epoch 356/500\n",
      "28/28 [==============================] - 0s 4ms/step - loss: 30.1704 - val_loss: 871.9502\n",
      "Epoch 357/500\n",
      "28/28 [==============================] - 0s 3ms/step - loss: 30.1705 - val_loss: 871.9497\n",
      "Epoch 358/500\n",
      "28/28 [==============================] - 0s 4ms/step - loss: 30.1707 - val_loss: 871.9493\n",
      "Epoch 359/500\n",
      "28/28 [==============================] - 0s 4ms/step - loss: 30.1708 - val_loss: 871.9488\n",
      "Epoch 360/500\n",
      "28/28 [==============================] - 0s 4ms/step - loss: 30.1709 - val_loss: 871.9482\n",
      "Epoch 361/500\n",
      "28/28 [==============================] - 0s 3ms/step - loss: 30.1711 - val_loss: 871.9479\n",
      "Epoch 362/500\n",
      "28/28 [==============================] - 0s 4ms/step - loss: 30.1712 - val_loss: 871.9474\n",
      "Epoch 363/500\n",
      "28/28 [==============================] - 0s 4ms/step - loss: 30.1713 - val_loss: 871.9470\n",
      "Epoch 364/500\n",
      "28/28 [==============================] - 0s 4ms/step - loss: 30.1714 - val_loss: 871.9465\n",
      "Epoch 365/500\n",
      "28/28 [==============================] - 0s 4ms/step - loss: 30.1716 - val_loss: 871.9462\n",
      "Epoch 366/500\n",
      "28/28 [==============================] - 0s 4ms/step - loss: 30.1717 - val_loss: 871.9458\n",
      "Epoch 367/500\n",
      "28/28 [==============================] - 0s 4ms/step - loss: 30.1718 - val_loss: 871.9453\n",
      "Epoch 368/500\n",
      "28/28 [==============================] - 0s 7ms/step - loss: 30.1719 - val_loss: 871.9445\n",
      "Epoch 369/500\n",
      "28/28 [==============================] - 0s 4ms/step - loss: 30.1719 - val_loss: 871.9441\n",
      "Epoch 370/500\n",
      "28/28 [==============================] - 0s 3ms/step - loss: 30.1721 - val_loss: 871.9435\n",
      "Epoch 371/500\n",
      "28/28 [==============================] - 0s 4ms/step - loss: 30.1722 - val_loss: 871.9432\n",
      "Epoch 372/500\n",
      "28/28 [==============================] - 0s 4ms/step - loss: 30.1723 - val_loss: 871.9427\n",
      "Epoch 373/500\n",
      "28/28 [==============================] - 0s 4ms/step - loss: 30.1724 - val_loss: 871.9421\n",
      "Epoch 374/500\n",
      "28/28 [==============================] - 0s 4ms/step - loss: 30.1725 - val_loss: 871.9417\n",
      "Epoch 375/500\n",
      "28/28 [==============================] - 0s 3ms/step - loss: 30.1725 - val_loss: 871.9412\n",
      "Epoch 376/500\n",
      "28/28 [==============================] - 0s 4ms/step - loss: 30.1726 - val_loss: 871.9407\n",
      "Epoch 377/500\n",
      "28/28 [==============================] - 0s 4ms/step - loss: 30.1728 - val_loss: 871.9404\n",
      "Epoch 378/500\n",
      "28/28 [==============================] - 0s 3ms/step - loss: 30.1728 - val_loss: 871.9399\n",
      "Epoch 379/500\n",
      "28/28 [==============================] - 0s 4ms/step - loss: 30.1729 - val_loss: 871.9396\n",
      "Epoch 380/500\n",
      "28/28 [==============================] - 0s 4ms/step - loss: 30.1730 - val_loss: 871.9392\n",
      "Epoch 381/500\n",
      "28/28 [==============================] - 0s 4ms/step - loss: 30.1731 - val_loss: 871.9384\n",
      "Epoch 382/500\n",
      "28/28 [==============================] - 0s 5ms/step - loss: 30.1732 - val_loss: 871.9380\n",
      "Epoch 383/500\n",
      "28/28 [==============================] - 0s 6ms/step - loss: 30.1732 - val_loss: 871.9377\n",
      "Epoch 384/500\n",
      "28/28 [==============================] - 0s 4ms/step - loss: 30.1733 - val_loss: 871.9372\n",
      "Epoch 385/500\n",
      "28/28 [==============================] - 0s 4ms/step - loss: 30.1733 - val_loss: 871.9368\n",
      "Epoch 386/500\n",
      "28/28 [==============================] - 0s 4ms/step - loss: 30.1734 - val_loss: 871.9365\n",
      "Epoch 387/500\n",
      "28/28 [==============================] - 0s 3ms/step - loss: 30.1735 - val_loss: 871.9359\n",
      "Epoch 388/500\n",
      "28/28 [==============================] - 0s 4ms/step - loss: 30.1735 - val_loss: 871.9352\n",
      "Epoch 389/500\n",
      "28/28 [==============================] - 0s 4ms/step - loss: 30.1736 - val_loss: 871.9348\n",
      "Epoch 390/500\n",
      "28/28 [==============================] - 0s 3ms/step - loss: 30.1737 - val_loss: 871.9346\n",
      "Epoch 391/500\n",
      "28/28 [==============================] - 0s 4ms/step - loss: 30.1737 - val_loss: 871.9341\n",
      "Epoch 392/500\n",
      "28/28 [==============================] - 0s 4ms/step - loss: 30.1738 - val_loss: 871.9336\n",
      "Epoch 393/500\n",
      "28/28 [==============================] - 0s 4ms/step - loss: 30.1739 - val_loss: 871.9332\n",
      "Epoch 394/500\n",
      "28/28 [==============================] - 0s 4ms/step - loss: 30.1738 - val_loss: 871.9328\n",
      "Epoch 395/500\n",
      "28/28 [==============================] - 0s 4ms/step - loss: 30.1739 - val_loss: 871.9323\n",
      "Epoch 396/500\n",
      "28/28 [==============================] - 0s 3ms/step - loss: 30.1739 - val_loss: 871.9318\n",
      "Epoch 397/500\n",
      "28/28 [==============================] - 0s 7ms/step - loss: 30.1740 - val_loss: 871.9315\n",
      "Epoch 398/500\n",
      "28/28 [==============================] - 0s 4ms/step - loss: 30.1740 - val_loss: 871.9312\n",
      "Epoch 399/500\n",
      "28/28 [==============================] - 0s 4ms/step - loss: 30.1740 - val_loss: 871.9305\n",
      "Epoch 400/500\n",
      "28/28 [==============================] - 0s 3ms/step - loss: 30.1742 - val_loss: 871.9301\n",
      "Epoch 401/500\n",
      "28/28 [==============================] - 0s 4ms/step - loss: 30.1743 - val_loss: 871.9299\n",
      "Epoch 402/500\n",
      "28/28 [==============================] - 0s 3ms/step - loss: 30.1743 - val_loss: 871.9296\n",
      "Epoch 403/500\n",
      "28/28 [==============================] - 0s 4ms/step - loss: 30.1743 - val_loss: 871.9294\n",
      "Epoch 404/500\n",
      "28/28 [==============================] - 0s 4ms/step - loss: 30.1743 - val_loss: 871.9287\n",
      "Epoch 405/500\n",
      "28/28 [==============================] - 0s 3ms/step - loss: 30.1744 - val_loss: 871.9282\n",
      "Epoch 406/500\n",
      "28/28 [==============================] - 0s 4ms/step - loss: 30.1745 - val_loss: 871.9281\n",
      "Epoch 407/500\n",
      "28/28 [==============================] - 0s 4ms/step - loss: 30.1745 - val_loss: 871.9279\n",
      "Epoch 408/500\n",
      "28/28 [==============================] - 0s 4ms/step - loss: 30.1745 - val_loss: 871.9274\n",
      "Epoch 409/500\n",
      "28/28 [==============================] - 0s 3ms/step - loss: 30.1745 - val_loss: 871.9269\n",
      "Epoch 410/500\n",
      "28/28 [==============================] - 0s 4ms/step - loss: 30.1745 - val_loss: 871.9263\n",
      "Epoch 411/500\n",
      "28/28 [==============================] - 0s 7ms/step - loss: 30.1747 - val_loss: 871.9262\n",
      "Epoch 412/500\n",
      "28/28 [==============================] - 0s 4ms/step - loss: 30.1747 - val_loss: 871.9260\n",
      "Epoch 413/500\n",
      "28/28 [==============================] - 0s 4ms/step - loss: 30.1747 - val_loss: 871.9255\n",
      "Epoch 414/500\n",
      "28/28 [==============================] - 0s 4ms/step - loss: 30.1747 - val_loss: 871.9252\n",
      "Epoch 415/500\n",
      "28/28 [==============================] - 0s 4ms/step - loss: 30.1746 - val_loss: 871.9245\n",
      "Epoch 416/500\n",
      "28/28 [==============================] - 0s 4ms/step - loss: 30.1747 - val_loss: 871.9239\n",
      "Epoch 417/500\n",
      "28/28 [==============================] - 0s 4ms/step - loss: 30.1747 - val_loss: 871.9235\n",
      "Epoch 418/500\n",
      "28/28 [==============================] - 0s 4ms/step - loss: 30.1748 - val_loss: 871.9231\n",
      "Epoch 419/500\n",
      "28/28 [==============================] - 0s 3ms/step - loss: 30.1749 - val_loss: 871.9227\n",
      "Epoch 420/500\n",
      "28/28 [==============================] - 0s 4ms/step - loss: 30.1749 - val_loss: 871.9224\n",
      "Epoch 421/500\n",
      "28/28 [==============================] - 0s 4ms/step - loss: 30.1749 - val_loss: 871.9222\n",
      "Epoch 422/500\n",
      "28/28 [==============================] - 0s 4ms/step - loss: 30.1749 - val_loss: 871.9220\n",
      "Epoch 423/500\n",
      "28/28 [==============================] - 0s 3ms/step - loss: 30.1750 - val_loss: 871.9216\n",
      "Epoch 424/500\n",
      "28/28 [==============================] - 0s 4ms/step - loss: 30.1750 - val_loss: 871.9213\n",
      "Epoch 425/500\n",
      "28/28 [==============================] - 0s 4ms/step - loss: 30.1750 - val_loss: 871.9209\n",
      "Epoch 426/500\n",
      "28/28 [==============================] - 0s 4ms/step - loss: 30.1750 - val_loss: 871.9206\n",
      "Epoch 427/500\n",
      "28/28 [==============================] - 0s 4ms/step - loss: 30.1750 - val_loss: 871.9201\n",
      "Epoch 428/500\n",
      "28/28 [==============================] - 0s 4ms/step - loss: 30.1750 - val_loss: 871.9197\n",
      "Epoch 429/500\n",
      "28/28 [==============================] - 0s 4ms/step - loss: 30.1751 - val_loss: 871.9193\n",
      "Epoch 430/500\n",
      "28/28 [==============================] - 0s 4ms/step - loss: 30.1751 - val_loss: 871.9188\n",
      "Epoch 431/500\n",
      "28/28 [==============================] - 0s 4ms/step - loss: 30.1751 - val_loss: 871.9183\n",
      "Epoch 432/500\n",
      "28/28 [==============================] - 0s 6ms/step - loss: 30.1751 - val_loss: 871.9179\n",
      "Epoch 433/500\n",
      "28/28 [==============================] - 0s 4ms/step - loss: 30.1751 - val_loss: 871.9174\n",
      "Epoch 434/500\n",
      "28/28 [==============================] - 0s 3ms/step - loss: 30.1752 - val_loss: 871.9171\n",
      "Epoch 435/500\n",
      "28/28 [==============================] - 0s 3ms/step - loss: 30.1752 - val_loss: 871.9167\n",
      "Epoch 436/500\n",
      "28/28 [==============================] - 0s 4ms/step - loss: 30.1752 - val_loss: 871.9164\n",
      "Epoch 437/500\n",
      "28/28 [==============================] - 0s 4ms/step - loss: 30.1752 - val_loss: 871.9161\n",
      "Epoch 438/500\n",
      "28/28 [==============================] - 0s 4ms/step - loss: 30.1753 - val_loss: 871.9156\n",
      "Epoch 439/500\n",
      "28/28 [==============================] - 0s 4ms/step - loss: 30.1753 - val_loss: 871.9154\n",
      "Epoch 440/500\n",
      "28/28 [==============================] - 0s 3ms/step - loss: 30.1753 - val_loss: 871.9150\n",
      "Epoch 441/500\n",
      "28/28 [==============================] - 0s 4ms/step - loss: 30.1753 - val_loss: 871.9145\n",
      "Epoch 442/500\n",
      "28/28 [==============================] - 0s 4ms/step - loss: 30.1753 - val_loss: 871.9140\n",
      "Epoch 443/500\n",
      "28/28 [==============================] - 0s 4ms/step - loss: 30.1753 - val_loss: 871.9136\n",
      "Epoch 444/500\n",
      "28/28 [==============================] - 0s 3ms/step - loss: 30.1753 - val_loss: 871.9132\n",
      "Epoch 445/500\n",
      "28/28 [==============================] - 0s 4ms/step - loss: 30.1753 - val_loss: 871.9127\n",
      "Epoch 446/500\n",
      "28/28 [==============================] - 0s 4ms/step - loss: 30.1753 - val_loss: 871.9124\n",
      "Epoch 447/500\n",
      "28/28 [==============================] - 0s 4ms/step - loss: 30.1753 - val_loss: 871.9119\n",
      "Epoch 448/500\n",
      "28/28 [==============================] - 0s 4ms/step - loss: 30.1753 - val_loss: 871.9114\n",
      "Epoch 449/500\n",
      "28/28 [==============================] - 0s 4ms/step - loss: 30.1754 - val_loss: 871.9110\n",
      "Epoch 450/500\n",
      "28/28 [==============================] - 0s 4ms/step - loss: 30.1754 - val_loss: 871.9108\n",
      "Epoch 451/500\n",
      "28/28 [==============================] - 0s 4ms/step - loss: 30.1754 - val_loss: 871.9105\n",
      "Epoch 452/500\n",
      "28/28 [==============================] - 0s 4ms/step - loss: 30.1754 - val_loss: 871.9100\n",
      "Epoch 453/500\n",
      "28/28 [==============================] - 0s 6ms/step - loss: 30.1754 - val_loss: 871.9096\n",
      "Epoch 454/500\n",
      "28/28 [==============================] - 0s 4ms/step - loss: 30.1754 - val_loss: 871.9091\n",
      "Epoch 455/500\n",
      "28/28 [==============================] - 0s 4ms/step - loss: 30.1754 - val_loss: 871.9089\n",
      "Epoch 456/500\n",
      "28/28 [==============================] - 0s 4ms/step - loss: 30.1755 - val_loss: 871.9086\n",
      "Epoch 457/500\n",
      "28/28 [==============================] - 0s 5ms/step - loss: 30.1755 - val_loss: 871.9084\n",
      "Epoch 458/500\n",
      "28/28 [==============================] - 0s 5ms/step - loss: 30.1755 - val_loss: 871.9078\n",
      "Epoch 459/500\n",
      "28/28 [==============================] - 0s 4ms/step - loss: 30.1755 - val_loss: 871.9075\n",
      "Epoch 460/500\n",
      "28/28 [==============================] - 0s 4ms/step - loss: 30.1754 - val_loss: 871.9070\n",
      "Epoch 461/500\n",
      "28/28 [==============================] - 0s 3ms/step - loss: 30.1755 - val_loss: 871.9064\n",
      "Epoch 462/500\n",
      "28/28 [==============================] - 0s 4ms/step - loss: 30.1755 - val_loss: 871.9061\n",
      "Epoch 463/500\n",
      "28/28 [==============================] - 0s 4ms/step - loss: 30.1755 - val_loss: 871.9058\n",
      "Epoch 464/500\n",
      "28/28 [==============================] - 0s 4ms/step - loss: 30.1755 - val_loss: 871.9056\n",
      "Epoch 465/500\n",
      "28/28 [==============================] - 0s 4ms/step - loss: 30.1755 - val_loss: 871.9052\n",
      "Epoch 466/500\n",
      "28/28 [==============================] - 0s 4ms/step - loss: 30.1755 - val_loss: 871.9048\n",
      "Epoch 467/500\n",
      "28/28 [==============================] - 0s 4ms/step - loss: 30.1755 - val_loss: 871.9043\n",
      "Epoch 468/500\n",
      "28/28 [==============================] - 0s 4ms/step - loss: 30.1755 - val_loss: 871.9038\n",
      "Epoch 469/500\n",
      "28/28 [==============================] - 0s 7ms/step - loss: 30.1755 - val_loss: 871.9035\n",
      "Epoch 470/500\n",
      "28/28 [==============================] - 0s 4ms/step - loss: 30.1755 - val_loss: 871.9030\n",
      "Epoch 471/500\n",
      "28/28 [==============================] - 0s 4ms/step - loss: 30.1755 - val_loss: 871.9026\n",
      "Epoch 472/500\n",
      "28/28 [==============================] - 0s 4ms/step - loss: 30.1755 - val_loss: 871.9022\n",
      "Epoch 473/500\n",
      "28/28 [==============================] - 0s 4ms/step - loss: 30.1755 - val_loss: 871.9017\n",
      "Epoch 474/500\n",
      "28/28 [==============================] - 0s 4ms/step - loss: 30.1755 - val_loss: 871.9012\n",
      "Epoch 475/500\n",
      "28/28 [==============================] - 0s 4ms/step - loss: 30.1755 - val_loss: 871.9008\n",
      "Epoch 476/500\n",
      "28/28 [==============================] - 0s 4ms/step - loss: 30.1755 - val_loss: 871.9003\n",
      "Epoch 477/500\n",
      "28/28 [==============================] - 0s 4ms/step - loss: 30.1756 - val_loss: 871.9001\n",
      "Epoch 478/500\n",
      "28/28 [==============================] - 0s 4ms/step - loss: 30.1756 - val_loss: 871.8997\n",
      "Epoch 479/500\n",
      "28/28 [==============================] - 0s 3ms/step - loss: 30.1756 - val_loss: 871.8994\n",
      "Epoch 480/500\n",
      "28/28 [==============================] - 0s 4ms/step - loss: 30.1756 - val_loss: 871.8990\n",
      "Epoch 481/500\n",
      "28/28 [==============================] - 0s 4ms/step - loss: 30.1756 - val_loss: 871.8984\n",
      "Epoch 482/500\n",
      "28/28 [==============================] - 0s 4ms/step - loss: 30.1756 - val_loss: 871.8979\n",
      "Epoch 483/500\n",
      "28/28 [==============================] - 0s 4ms/step - loss: 30.1756 - val_loss: 871.8975\n",
      "Epoch 484/500\n",
      "28/28 [==============================] - 0s 4ms/step - loss: 30.1756 - val_loss: 871.8970\n",
      "Epoch 485/500\n",
      "28/28 [==============================] - 0s 4ms/step - loss: 30.1756 - val_loss: 871.8964\n",
      "Epoch 486/500\n",
      "28/28 [==============================] - 0s 4ms/step - loss: 30.1756 - val_loss: 871.8959\n",
      "Epoch 487/500\n",
      "28/28 [==============================] - 0s 4ms/step - loss: 30.1756 - val_loss: 871.8954\n",
      "Epoch 488/500\n",
      "28/28 [==============================] - 0s 4ms/step - loss: 30.1756 - val_loss: 871.8949\n",
      "Epoch 489/500\n",
      "28/28 [==============================] - 0s 7ms/step - loss: 30.1756 - val_loss: 871.8944\n",
      "Epoch 490/500\n",
      "28/28 [==============================] - 0s 4ms/step - loss: 30.1756 - val_loss: 871.8937\n",
      "Epoch 491/500\n",
      "28/28 [==============================] - 0s 4ms/step - loss: 30.1756 - val_loss: 871.8931\n",
      "Epoch 492/500\n",
      "28/28 [==============================] - 0s 4ms/step - loss: 30.1756 - val_loss: 871.8925\n",
      "Epoch 493/500\n",
      "28/28 [==============================] - 0s 4ms/step - loss: 30.1756 - val_loss: 871.8920\n",
      "Epoch 494/500\n",
      "28/28 [==============================] - 0s 4ms/step - loss: 30.1756 - val_loss: 871.8914\n",
      "Epoch 495/500\n",
      "28/28 [==============================] - 0s 4ms/step - loss: 30.1757 - val_loss: 871.8909\n",
      "Epoch 496/500\n",
      "28/28 [==============================] - 0s 4ms/step - loss: 30.1757 - val_loss: 871.8903\n",
      "Epoch 497/500\n",
      "28/28 [==============================] - 0s 3ms/step - loss: 30.1757 - val_loss: 871.8898\n",
      "Epoch 498/500\n",
      "28/28 [==============================] - 0s 4ms/step - loss: 30.1756 - val_loss: 871.8893\n",
      "Epoch 499/500\n",
      "28/28 [==============================] - 0s 4ms/step - loss: 30.1757 - val_loss: 871.8886\n",
      "Epoch 500/500\n",
      "28/28 [==============================] - 0s 4ms/step - loss: 30.1757 - val_loss: 871.8881\n"
     ]
    }
   ],
   "source": [
    "C0 = tf.Variable(86.8407, name=\"C0\", trainable=True, dtype=tf.float32)\n",
    "K0 = tf.Variable(-0.0015, name=\"K0\", trainable=True, dtype=tf.float32)\n",
    "K1 = tf.Variable(-0.0001, name=\"K1\", trainable=True, dtype=tf.float32)\n",
    "a = tf.Variable(0.0000, name=\"a\", trainable=True, dtype=tf.float32)\n",
    "b = tf.Variable(0.0118, name=\"b\", trainable=True, dtype=tf.float32)\n",
    "c = tf.Variable(2.5775, name=\"c\", trainable=True, dtype=tf.float32)\n",
    "\n",
    "splitr = 0.8\n",
    "\n",
    "\n",
    "def loss_fn(y_true, y_pred):\n",
    "    squared_difference = tf.square(y_true[:, 0] - y_pred[:, 0])\n",
    "    #squared_difference2 = tf.square(y_true[:, 2]-y_pred[:, 2])\n",
    "    #squared_difference1 = tf.square(y_true[:, 1]-y_pred[:, 1])\n",
    "    epsilon = 1\n",
    "    squared_difference3 = tf.square(\n",
    "        y_pred[:, 1] - (\n",
    "            y_pred[:, 0] * (\n",
    "                K0 - K1 * (\n",
    "                    9 * a * tf.math.log((y_pred[:, 0] + epsilon) / C0) / (K0 - K1 * c)**2 +\n",
    "                    4 * b * tf.math.log((y_pred[:, 0] + epsilon) / C0) / (K0 - K1 * c) + c\n",
    "                )\n",
    "            )\n",
    "        )\n",
    "    )\n",
    "    return tf.reduce_mean(squared_difference, axis=-1) + 0.2*tf.reduce_mean(squared_difference3, axis=-1)\n",
    "model = Sequential()\n",
    "model.add(LSTM(100, input_shape=(trainX.shape[1], trainX.shape[2])))\n",
    "model.add(Dense(60))\n",
    "model.compile(loss=loss_fn, optimizer='adam')\n",
    "history = model.fit(trainX[:int(splitr*trainX.shape[0])], trainy[:int(splitr*trainX.shape[0])], epochs=500, batch_size=64, validation_data=(trainX[int(splitr*trainX.shape[0]):trainX.shape[0]], trainy[int(splitr*trainX.shape[0]):trainX.shape[0]]), shuffle=False)"
   ]
  },
  {
   "cell_type": "code",
   "execution_count": 19,
   "metadata": {
    "colab": {
     "base_uri": "https://localhost:8080/"
    },
    "id": "yJL101rPyuoT",
    "outputId": "239ff2b1-c186-423a-d316-939dfdd7c793"
   },
   "outputs": [
    {
     "name": "stdout",
     "output_type": "stream",
     "text": [
      "1/1 [==============================] - 0s 349ms/step\n"
     ]
    }
   ],
   "source": [
    "forecast_without_mc = forecastX\n",
    "yhat_without_mc = model.predict(forecast_without_mc) # Step Ahead Prediction\n",
    "forecast_without_mc = forecast_without_mc.reshape((forecast_without_mc.shape[0], forecast_without_mc.shape[2])) # Historical Input"
   ]
  },
  {
   "cell_type": "code",
   "execution_count": 20,
   "metadata": {
    "colab": {
     "base_uri": "https://localhost:8080/"
    },
    "id": "g9dQELcJ8wbp",
    "outputId": "4dc7671b-b1a8-48d5-8744-a86f98446109"
   },
   "outputs": [
    {
     "data": {
      "text/plain": [
       "(1, 1, 126)"
      ]
     },
     "execution_count": 20,
     "metadata": {},
     "output_type": "execute_result"
    }
   ],
   "source": [
    "forecastX.shape"
   ]
  },
  {
   "cell_type": "code",
   "execution_count": 21,
   "metadata": {
    "colab": {
     "base_uri": "https://localhost:8080/"
    },
    "id": "IS2kyIKG1Kbr",
    "outputId": "f31b3485-8e26-452f-9298-ea8bf7e80ad1"
   },
   "outputs": [
    {
     "data": {
      "text/plain": [
       "(1, 126)"
      ]
     },
     "execution_count": 21,
     "metadata": {},
     "output_type": "execute_result"
    }
   ],
   "source": [
    "forecast_without_mc.shape"
   ]
  },
  {
   "cell_type": "code",
   "execution_count": 22,
   "metadata": {
    "id": "0u6VIzaDyuoT"
   },
   "outputs": [],
   "source": [
    "inv_yhat_without_mc = np.concatenate((forecast_without_mc, yhat_without_mc), axis=1) # Concatenation of predicted values with Historical Data\n",
    "#inv_yhat_without_mc = scaler.inverse_transform(inv_yhat_without_mc) # Transform labels back to original encoding"
   ]
  },
  {
   "cell_type": "code",
   "execution_count": 23,
   "metadata": {
    "colab": {
     "base_uri": "https://localhost:8080/"
    },
    "id": "EUEcw0LX07oU",
    "outputId": "cfc32397-9c37-4b43-d087-584bb31c3dcc"
   },
   "outputs": [
    {
     "data": {
      "text/plain": [
       "(1, 186)"
      ]
     },
     "execution_count": 23,
     "metadata": {},
     "output_type": "execute_result"
    }
   ],
   "source": [
    "inv_yhat_without_mc.shape"
   ]
  },
  {
   "cell_type": "code",
   "execution_count": 24,
   "metadata": {
    "id": "31OWVbSh_305"
   },
   "outputs": [],
   "source": [
    "fforecast = inv_yhat_without_mc[:,-150:]"
   ]
  },
  {
   "cell_type": "code",
   "execution_count": 25,
   "metadata": {},
   "outputs": [
    {
     "data": {
      "text/plain": [
       "(1, 150)"
      ]
     },
     "execution_count": 25,
     "metadata": {},
     "output_type": "execute_result"
    }
   ],
   "source": [
    "fforecast.shape"
   ]
  },
  {
   "cell_type": "code",
   "execution_count": 26,
   "metadata": {
    "id": "BlpGH2FOAiRF"
   },
   "outputs": [],
   "source": [
    "final_forecast = fforecast[:,0:150:3]"
   ]
  },
  {
   "cell_type": "code",
   "execution_count": 27,
   "metadata": {},
   "outputs": [
    {
     "data": {
      "text/plain": [
       "(1, 150)"
      ]
     },
     "execution_count": 27,
     "metadata": {},
     "output_type": "execute_result"
    }
   ],
   "source": [
    "fforecast.shape"
   ]
  },
  {
   "cell_type": "code",
   "execution_count": 28,
   "metadata": {
    "id": "CXkgkj_LBk_t"
   },
   "outputs": [],
   "source": [
    "# code to replace all negative value with 0\n",
    "final_forecast[final_forecast<0] = 0"
   ]
  },
  {
   "cell_type": "code",
   "execution_count": 29,
   "metadata": {},
   "outputs": [
    {
     "data": {
      "text/plain": [
       "array([[0.00000000e+00, 7.19799630e+01, 0.00000000e+00, 6.98609244e+01,\n",
       "        6.97096639e+01, 6.94168067e+01, 6.97806256e+01, 6.95587302e+01,\n",
       "        7.21918301e+01, 0.00000000e+00, 3.43769310e-01, 6.61508080e-01,\n",
       "        6.95400560e+01, 0.00000000e+00, 6.96819795e+01, 7.34859477e+01,\n",
       "        0.00000000e+00, 6.95213819e+01, 7.17995565e+01, 7.21036718e+01,\n",
       "        3.09567900e-01, 1.20388903e-01, 0.00000000e+00, 3.13862383e-01,\n",
       "        0.00000000e+00, 0.00000000e+00, 0.00000000e+00, 6.35351896e-01,\n",
       "        2.61133390e-02, 0.00000000e+00, 2.82687759e+01, 4.56669629e-01,\n",
       "        0.00000000e+00, 3.60358626e-01, 7.78816402e-01, 0.00000000e+00,\n",
       "        0.00000000e+00, 8.05063844e-01, 0.00000000e+00, 0.00000000e+00,\n",
       "        2.99653590e-01, 4.82478768e-01, 0.00000000e+00, 5.54718077e-02,\n",
       "        1.94206059e-01, 0.00000000e+00, 0.00000000e+00, 0.00000000e+00,\n",
       "        0.00000000e+00, 0.00000000e+00]])"
      ]
     },
     "execution_count": 29,
     "metadata": {},
     "output_type": "execute_result"
    }
   ],
   "source": [
    "final_forecast"
   ]
  },
  {
   "cell_type": "code",
   "execution_count": 30,
   "metadata": {},
   "outputs": [
    {
     "data": {
      "text/plain": [
       "(1, 50)"
      ]
     },
     "execution_count": 30,
     "metadata": {},
     "output_type": "execute_result"
    }
   ],
   "source": [
    "final_forecast.shape"
   ]
  },
  {
   "cell_type": "code",
   "execution_count": 31,
   "metadata": {},
   "outputs": [
    {
     "data": {
      "text/plain": [
       "(50,)"
      ]
     },
     "execution_count": 31,
     "metadata": {},
     "output_type": "execute_result"
    }
   ],
   "source": [
    "test.shape"
   ]
  },
  {
   "cell_type": "code",
   "execution_count": 32,
   "metadata": {},
   "outputs": [],
   "source": [
    "training_set = np.array(training_set)\n",
    "test = np.array(test)\n",
    "final_forecast = np.array(final_forecast.squeeze(0))"
   ]
  },
  {
   "cell_type": "code",
   "execution_count": 33,
   "metadata": {},
   "outputs": [
    {
     "data": {
      "text/plain": [
       "array([59.98833094, 59.98040582, 59.9724807 , 59.96455558, 59.95663046,\n",
       "       59.94870534, 59.94078021, 59.93285509, 59.92492997, 59.91700485,\n",
       "       59.90907973, 59.90115461, 59.89322949, 59.88530437, 59.87737924,\n",
       "       59.86945412, 59.861529  , 59.85360388, 59.84567876, 59.83775364,\n",
       "       59.82982852, 59.8219034 , 59.81397827, 59.80605315, 59.79812803,\n",
       "       59.79020291, 59.78227779, 59.77435267, 59.76642755, 59.75850243,\n",
       "       59.7505773 , 59.74265218, 59.73472706, 59.72680194, 59.71887682,\n",
       "       59.7109517 , 59.70302658, 59.69510146, 59.68717633, 59.67925121,\n",
       "       59.67132609, 59.66340097, 59.65547585, 59.64755073, 59.63962561,\n",
       "       59.63170049, 59.62377536, 59.61585024, 59.60792512, 59.6       ])"
      ]
     },
     "execution_count": 33,
     "metadata": {},
     "output_type": "execute_result"
    }
   ],
   "source": [
    "test"
   ]
  },
  {
   "cell_type": "code",
   "execution_count": 34,
   "metadata": {},
   "outputs": [
    {
     "data": {
      "text/plain": [
       "(50,)"
      ]
     },
     "execution_count": 34,
     "metadata": {},
     "output_type": "execute_result"
    }
   ],
   "source": [
    "test.shape"
   ]
  },
  {
   "cell_type": "code",
   "execution_count": 35,
   "metadata": {},
   "outputs": [
    {
     "data": {
      "text/plain": [
       "(50,)"
      ]
     },
     "execution_count": 35,
     "metadata": {},
     "output_type": "execute_result"
    }
   ],
   "source": [
    "final_forecast.shape"
   ]
  },
  {
   "cell_type": "code",
   "execution_count": 36,
   "metadata": {},
   "outputs": [
    {
     "data": {
      "text/plain": [
       "(50,)"
      ]
     },
     "execution_count": 36,
     "metadata": {},
     "output_type": "execute_result"
    }
   ],
   "source": [
    "test.shape"
   ]
  },
  {
   "cell_type": "code",
   "execution_count": 37,
   "metadata": {},
   "outputs": [
    {
     "name": "stdout",
     "output_type": "stream",
     "text": [
      "51.0612001497549\n",
      "46.33150862370092\n"
     ]
    }
   ],
   "source": [
    "import math\n",
    "MSE = np.square(np.subtract(np.array(test),np.array(final_forecast))).mean()   \n",
    "rsme = math.sqrt(MSE)\n",
    "print(rsme)  \n",
    "MAE = np.abs(np.subtract(np.array(test),np.array(final_forecast))).mean()   \n",
    "mae = MAE\n",
    "print(mae)"
   ]
  }
 ],
 "metadata": {
  "colab": {
   "provenance": []
  },
  "kernelspec": {
   "display_name": "Python 3",
   "language": "python",
   "name": "python3"
  },
  "language_info": {
   "codemirror_mode": {
    "name": "ipython",
    "version": 3
   },
   "file_extension": ".py",
   "mimetype": "text/x-python",
   "name": "python",
   "nbconvert_exporter": "python",
   "pygments_lexer": "ipython3",
   "version": "3.9.13"
  }
 },
 "nbformat": 4,
 "nbformat_minor": 0
}
