{
 "cells": [
  {
   "cell_type": "markdown",
   "metadata": {
    "id": "pCGKeZ2gyuoQ"
   },
   "source": [
    "_Importing Required Libraries_"
   ]
  },
  {
   "cell_type": "code",
   "execution_count": 1,
   "metadata": {
    "colab": {
     "base_uri": "https://localhost:8080/"
    },
    "id": "A-6LN-zXiLcM",
    "outputId": "4de610a4-f8b8-4f49-c6c0-89de299ccedc"
   },
   "outputs": [
    {
     "name": "stdout",
     "output_type": "stream",
     "text": [
      "Requirement already satisfied: hampel in c:\\users\\anurag dutta\\appdata\\local\\packages\\pythonsoftwarefoundation.python.3.9_qbz5n2kfra8p0\\localcache\\local-packages\\python39\\site-packages (0.0.5)\n",
      "Requirement already satisfied: numpy in c:\\users\\anurag dutta\\appdata\\local\\packages\\pythonsoftwarefoundation.python.3.9_qbz5n2kfra8p0\\localcache\\local-packages\\python39\\site-packages (from hampel) (1.26.4)\n",
      "Requirement already satisfied: pandas in c:\\users\\anurag dutta\\appdata\\local\\packages\\pythonsoftwarefoundation.python.3.9_qbz5n2kfra8p0\\localcache\\local-packages\\python39\\site-packages (from hampel) (1.5.2)\n",
      "Requirement already satisfied: python-dateutil>=2.8.1 in c:\\users\\anurag dutta\\appdata\\local\\packages\\pythonsoftwarefoundation.python.3.9_qbz5n2kfra8p0\\localcache\\local-packages\\python39\\site-packages (from pandas->hampel) (2.8.2)\n",
      "Requirement already satisfied: pytz>=2020.1 in c:\\users\\anurag dutta\\appdata\\local\\packages\\pythonsoftwarefoundation.python.3.9_qbz5n2kfra8p0\\localcache\\local-packages\\python39\\site-packages (from pandas->hampel) (2023.3.post1)\n",
      "Requirement already satisfied: six>=1.5 in c:\\users\\anurag dutta\\appdata\\local\\packages\\pythonsoftwarefoundation.python.3.9_qbz5n2kfra8p0\\localcache\\local-packages\\python39\\site-packages (from python-dateutil>=2.8.1->pandas->hampel) (1.16.0)\n",
      "Note: you may need to restart the kernel to use updated packages.\n"
     ]
    },
    {
     "name": "stderr",
     "output_type": "stream",
     "text": [
      "\n",
      "[notice] A new release of pip is available: 24.2 -> 24.3.1\n",
      "[notice] To update, run: C:\\Users\\Anurag Dutta\\AppData\\Local\\Microsoft\\WindowsApps\\PythonSoftwareFoundation.Python.3.9_qbz5n2kfra8p0\\python.exe -m pip install --upgrade pip\n"
     ]
    }
   ],
   "source": [
    "pip install hampel"
   ]
  },
  {
   "cell_type": "code",
   "execution_count": 2,
   "metadata": {
    "id": "By_d9uXpaFvZ"
   },
   "outputs": [],
   "source": [
    "from keras.models import Sequential\n",
    "from keras.layers import Dense\n",
    "from keras.layers import LSTM\n",
    "from keras.layers import Dropout\n",
    "import keras\n",
    "import tensorflow as tf\n",
    "from hampel import hampel\n",
    "import numpy as np\n",
    "import matplotlib.pyplot as plt\n",
    "import pandas as pd\n",
    "from sklearn.preprocessing import MinMaxScaler\n",
    "from sklearn.metrics import mean_squared_error, mean_absolute_error\n",
    "from math import sqrt\n",
    "from matplotlib import pyplot\n",
    "from numpy import array"
   ]
  },
  {
   "cell_type": "markdown",
   "metadata": {
    "id": "JyOjBMFayuoR"
   },
   "source": [
    "## Pretraining"
   ]
  },
  {
   "cell_type": "markdown",
   "metadata": {
    "id": "-5QqIY_GyuoR"
   },
   "source": [
    "The `capa_intermittency.dat` feeds the model with the dynamics of the Capacitor"
   ]
  },
  {
   "cell_type": "code",
   "execution_count": 3,
   "metadata": {
    "id": "9dV4a8yfyuoR"
   },
   "outputs": [],
   "source": [
    "data = np.genfromtxt('capa_intermittency.dat')\n",
    "training_set = pd.DataFrame(data).reset_index(drop=True)\n",
    "training_set = training_set.iloc[:,0]"
   ]
  },
  {
   "cell_type": "markdown",
   "metadata": {
    "id": "i7easoxByuoR"
   },
   "source": [
    "## Computing the Gradient"
   ]
  },
  {
   "cell_type": "markdown",
   "metadata": {
    "id": "5SnyolJTyuoR"
   },
   "source": [
    "_Calculating the value of_ $\\frac{dx}{dt}$"
   ]
  },
  {
   "cell_type": "code",
   "execution_count": 4,
   "metadata": {
    "colab": {
     "base_uri": "https://localhost:8080/"
    },
    "id": "wmIbVfIvyuoR",
    "outputId": "aa4e3136-c854-465d-d2e9-81cfd546e440"
   },
   "outputs": [
    {
     "name": "stdout",
     "output_type": "stream",
     "text": [
      "1.0\n",
      "1        0.000298\n",
      "2        0.000298\n",
      "3        0.000297\n",
      "4        0.000297\n",
      "5        0.000297\n",
      "           ...   \n",
      "9996     0.000018\n",
      "9997     0.000018\n",
      "9998     0.000018\n",
      "9999     0.000018\n",
      "10000    0.000018\n",
      "Name: 0, Length: 10000, dtype: float64\n"
     ]
    }
   ],
   "source": [
    "t_diff = 1\n",
    "print(training_set.max())\n",
    "gradient_t = (training_set.diff()/t_diff).iloc[1:] # dx/dt\n",
    "print(gradient_t)"
   ]
  },
  {
   "cell_type": "markdown",
   "metadata": {
    "id": "_2eVeeoxyuoS"
   },
   "source": [
    "## Loading Datasets"
   ]
  },
  {
   "cell_type": "code",
   "execution_count": 5,
   "metadata": {
    "id": "0J-NKyIEyuoS"
   },
   "outputs": [
    {
     "data": {
      "text/plain": [
       "0       89.140000\n",
       "1       88.911429\n",
       "2       88.682857\n",
       "3       88.454286\n",
       "4       88.225714\n",
       "          ...    \n",
       "2345    60.820469\n",
       "2346    60.812544\n",
       "2347    60.804618\n",
       "2348    60.796693\n",
       "2349    60.788768\n",
       "Name: C5, Length: 2350, dtype: float64"
      ]
     },
     "execution_count": 5,
     "metadata": {},
     "output_type": "execute_result"
    }
   ],
   "source": [
    "data = pd.read_csv(\"c5_interpolated_2250_100.csv\")\n",
    "training_set = data.iloc[:, 1]\n",
    "training_set"
   ]
  },
  {
   "cell_type": "code",
   "execution_count": 6,
   "metadata": {
    "colab": {
     "base_uri": "https://localhost:8080/"
    },
    "id": "-CbNUhJ74UqF",
    "outputId": "20f562d8-8247-49cc-b9c3-00eca5e13e2d"
   },
   "outputs": [
    {
     "data": {
      "text/plain": [
       "0       89.140000\n",
       "1       88.911429\n",
       "2       88.682857\n",
       "3       88.454286\n",
       "4       88.225714\n",
       "          ...    \n",
       "2245     0.688693\n",
       "2246     0.000000\n",
       "2247     0.642658\n",
       "2248     0.296472\n",
       "2249     0.000000\n",
       "Name: C5, Length: 2250, dtype: float64"
      ]
     },
     "execution_count": 6,
     "metadata": {},
     "output_type": "execute_result"
    }
   ],
   "source": [
    "test = training_set.tail(100)\n",
    "test\n",
    "training_set = training_set.head(2250)\n",
    "training_set"
   ]
  },
  {
   "cell_type": "code",
   "execution_count": 7,
   "metadata": {
    "colab": {
     "base_uri": "https://localhost:8080/"
    },
    "id": "X0TwTcq0yuoS",
    "outputId": "37252ed8-d88e-4044-fa7a-922411990b5b"
   },
   "outputs": [
    {
     "name": "stdout",
     "output_type": "stream",
     "text": [
      "0       0.000298\n",
      "1       0.000298\n",
      "2       0.000297\n",
      "3       0.000297\n",
      "4       0.000297\n",
      "          ...   \n",
      "9995    0.000018\n",
      "9996    0.000018\n",
      "9997    0.000018\n",
      "9998    0.000018\n",
      "9999    0.000018\n",
      "Name: 0, Length: 10000, dtype: float64\n"
     ]
    }
   ],
   "source": [
    "training_set = training_set.reset_index(drop=True)\n",
    "gradient_t = gradient_t.reset_index(drop=True)\n",
    "print(gradient_t)"
   ]
  },
  {
   "cell_type": "code",
   "execution_count": 8,
   "metadata": {
    "id": "O2biznZQyuoS"
   },
   "outputs": [],
   "source": [
    "df = pd.concat((training_set, gradient_t), axis=1)\n",
    "df.columns = ['y_t', 'grad_t']"
   ]
  },
  {
   "cell_type": "code",
   "execution_count": 9,
   "metadata": {
    "colab": {
     "base_uri": "https://localhost:8080/",
     "height": 423
    },
    "id": "sk_a5v3tyuoS",
    "outputId": "17563625-e550-45ae-faab-fafa353e44da"
   },
   "outputs": [
    {
     "data": {
      "text/html": [
       "<div>\n",
       "<style scoped>\n",
       "    .dataframe tbody tr th:only-of-type {\n",
       "        vertical-align: middle;\n",
       "    }\n",
       "\n",
       "    .dataframe tbody tr th {\n",
       "        vertical-align: top;\n",
       "    }\n",
       "\n",
       "    .dataframe thead th {\n",
       "        text-align: right;\n",
       "    }\n",
       "</style>\n",
       "<table border=\"1\" class=\"dataframe\">\n",
       "  <thead>\n",
       "    <tr style=\"text-align: right;\">\n",
       "      <th></th>\n",
       "      <th>y_t</th>\n",
       "      <th>grad_t</th>\n",
       "    </tr>\n",
       "  </thead>\n",
       "  <tbody>\n",
       "    <tr>\n",
       "      <th>0</th>\n",
       "      <td>89.140000</td>\n",
       "      <td>0.000298</td>\n",
       "    </tr>\n",
       "    <tr>\n",
       "      <th>1</th>\n",
       "      <td>88.911429</td>\n",
       "      <td>0.000298</td>\n",
       "    </tr>\n",
       "    <tr>\n",
       "      <th>2</th>\n",
       "      <td>88.682857</td>\n",
       "      <td>0.000297</td>\n",
       "    </tr>\n",
       "    <tr>\n",
       "      <th>3</th>\n",
       "      <td>88.454286</td>\n",
       "      <td>0.000297</td>\n",
       "    </tr>\n",
       "    <tr>\n",
       "      <th>4</th>\n",
       "      <td>88.225714</td>\n",
       "      <td>0.000297</td>\n",
       "    </tr>\n",
       "    <tr>\n",
       "      <th>...</th>\n",
       "      <td>...</td>\n",
       "      <td>...</td>\n",
       "    </tr>\n",
       "    <tr>\n",
       "      <th>9995</th>\n",
       "      <td>NaN</td>\n",
       "      <td>0.000018</td>\n",
       "    </tr>\n",
       "    <tr>\n",
       "      <th>9996</th>\n",
       "      <td>NaN</td>\n",
       "      <td>0.000018</td>\n",
       "    </tr>\n",
       "    <tr>\n",
       "      <th>9997</th>\n",
       "      <td>NaN</td>\n",
       "      <td>0.000018</td>\n",
       "    </tr>\n",
       "    <tr>\n",
       "      <th>9998</th>\n",
       "      <td>NaN</td>\n",
       "      <td>0.000018</td>\n",
       "    </tr>\n",
       "    <tr>\n",
       "      <th>9999</th>\n",
       "      <td>NaN</td>\n",
       "      <td>0.000018</td>\n",
       "    </tr>\n",
       "  </tbody>\n",
       "</table>\n",
       "<p>10000 rows × 2 columns</p>\n",
       "</div>"
      ],
      "text/plain": [
       "            y_t    grad_t\n",
       "0     89.140000  0.000298\n",
       "1     88.911429  0.000298\n",
       "2     88.682857  0.000297\n",
       "3     88.454286  0.000297\n",
       "4     88.225714  0.000297\n",
       "...         ...       ...\n",
       "9995        NaN  0.000018\n",
       "9996        NaN  0.000018\n",
       "9997        NaN  0.000018\n",
       "9998        NaN  0.000018\n",
       "9999        NaN  0.000018\n",
       "\n",
       "[10000 rows x 2 columns]"
      ]
     },
     "execution_count": 9,
     "metadata": {},
     "output_type": "execute_result"
    }
   ],
   "source": [
    "df"
   ]
  },
  {
   "cell_type": "markdown",
   "metadata": {
    "id": "-5esyHu5aFvg"
   },
   "source": [
    "## Plot of the External Forcing from Chaotic Differential Equation"
   ]
  },
  {
   "cell_type": "code",
   "execution_count": 10,
   "metadata": {
    "colab": {
     "base_uri": "https://localhost:8080/",
     "height": 447
    },
    "id": "hGnE43tOh-4p",
    "outputId": "fc396503-b624-4fa5-dfbe-f460207405c6"
   },
   "outputs": [
    {
     "data": {
      "text/plain": [
       "<Axes: >"
      ]
     },
     "execution_count": 10,
     "metadata": {},
     "output_type": "execute_result"
    },
    {
     "data": {
      "image/png": "[encoded data removed]",
      "text/plain": [
       "<Figure size 432x288 with 1 Axes>"
      ]
     },
     "metadata": {
      "needs_background": "light"
     },
     "output_type": "display_data"
    }
   ],
   "source": [
    "df.iloc[:, 0].plot()"
   ]
  },
  {
   "cell_type": "code",
   "execution_count": 11,
   "metadata": {
    "colab": {
     "base_uri": "https://localhost:8080/",
     "height": 447
    },
    "id": "ym4xWUUxaFvg",
    "outputId": "ae6a3495-8ce9-437e-ba81-3ed31deedeae"
   },
   "outputs": [
    {
     "name": "stderr",
     "output_type": "stream",
     "text": [
      "C:\\Users\\Anurag Dutta\\AppData\\Local\\Packages\\PythonSoftwareFoundation.Python.3.9_qbz5n2kfra8p0\\LocalCache\\local-packages\\Python39\\site-packages\\pandas\\core\\arraylike.py:402: RuntimeWarning: divide by zero encountered in log\n",
      "  result = getattr(ufunc, method)(*inputs, **kwargs)\n"
     ]
    },
    {
     "data": {
      "text/plain": [
       "<Axes: >"
      ]
     },
     "execution_count": 11,
     "metadata": {},
     "output_type": "execute_result"
    },
    {
     "data": {
      "image/png": "[encoded data removed]",
      "text/plain": [
       "<Figure size 432x288 with 1 Axes>"
      ]
     },
     "metadata": {
      "needs_background": "light"
     },
     "output_type": "display_data"
    }
   ],
   "source": [
    "import numpy as np\n",
    "c0 = 86.8407  # Value for C0\n",
    "K0 = -0.0015  # Value for K0\n",
    "K1 = -0.0001  # Value for K1\n",
    "a = 0.0000    # Value for a\n",
    "b = 0.0118    # Value for b\n",
    "c = 2.5775    # Value for c\n",
    "\n",
    "L = np.minimum(c0, (df.iloc[:, 1] - (df.iloc[:, 0] * (K0 - K1 * (9 * a * np.log(df.iloc[:, 0] / c0) / (K0 - K1 * c)**2 + 4 * b * np.log(df.iloc[:, 0] / c0) / (K0 - K1 * c) + c)))))\n",
    "L.plot()"
   ]
  },
  {
   "cell_type": "markdown",
   "metadata": {
    "id": "9VyEywnwaFvh"
   },
   "source": [
    "## Preprocessing the data into supervised learning"
   ]
  },
  {
   "cell_type": "code",
   "execution_count": 12,
   "metadata": {
    "id": "6V9dXqzdaFvh"
   },
   "outputs": [],
   "source": [
    "# split a sequence into samples\n",
    "def Supervised(data, n_in=1, n_out=1, dropnan=True):\n",
    "    n_vars = 1 if type(data) is list else data.shape[1]\n",
    "    df = pd.DataFrame(data)\n",
    "    cols, names = list(), list()\n",
    "    # input sequence (t-n_in, ... t-1)\n",
    "    for i in range(n_in, 0, -1):\n",
    "        cols.append(df.shift(i))\n",
    "        names += [('var%d(t-%d)' % (j+1, i)) for j in range(n_vars)]\n",
    "    # forecast sequence (t, t+1, ... t+n_out)\n",
    "    for i in range(0, n_out):\n",
    "      cols.append(df.shift(-i))\n",
    "      if i == 0:\n",
    "        names += [('var%d(t)' % (j+1)) for j in range(n_vars)]\n",
    "      else:\n",
    "        names += [('var%d(t+%d)' % (j+1, i)) for j in range(n_vars)]\n",
    "    # put it all together\n",
    "    agg = pd.concat(cols, axis=1)\n",
    "    agg.columns = names\n",
    "    # drop rows with NaN values\n",
    "    if dropnan:\n",
    "       agg.dropna(inplace=True)\n",
    "    return agg"
   ]
  },
  {
   "cell_type": "code",
   "execution_count": 13,
   "metadata": {
    "colab": {
     "base_uri": "https://localhost:8080/"
    },
    "id": "CrzSrT1HnyfH",
    "outputId": "7e75f928-3e47-499d-eac1-51908015ef78"
   },
   "outputs": [
    {
     "name": "stdout",
     "output_type": "stream",
     "text": [
      "     var1(t-350)  var1(t-349)  var1(t-348)  var1(t-347)  var1(t-346)  \\\n",
      "350    89.140000    88.911429    88.682857    88.454286    88.225714   \n",
      "351    88.911429    88.682857    88.454286    88.225714    87.997143   \n",
      "352    88.682857    88.454286    88.225714    87.997143    87.768571   \n",
      "353    88.454286    88.225714    87.997143    87.768571    87.540000   \n",
      "354    88.225714    87.997143    87.768571    87.540000    87.311429   \n",
      "\n",
      "     var1(t-345)  var1(t-344)  var1(t-343)  var1(t-342)  var1(t-341)  ...  \\\n",
      "350    87.997143    87.768571    87.540000    87.311429    87.095798  ...   \n",
      "351    87.768571    87.540000    87.311429    87.095798    87.039776  ...   \n",
      "352    87.540000    87.311429    87.095798    87.039776    86.983754  ...   \n",
      "353    87.311429    87.095798    87.039776    86.983754    86.927731  ...   \n",
      "354    87.095798    87.039776    86.983754    86.927731    86.871709  ...   \n",
      "\n",
      "     var1(t+95)  var2(t+95)  var1(t+96)  var2(t+96)  var1(t+97)  var2(t+97)  \\\n",
      "350   79.161181    0.000263   79.132236    0.000263   79.103291    0.000263   \n",
      "351   79.132236    0.000263   79.103291    0.000263   79.074346    0.000262   \n",
      "352   79.103291    0.000263   79.074346    0.000262   79.045401    0.000262   \n",
      "353   79.074346    0.000262   79.045401    0.000262   79.016457    0.000262   \n",
      "354   79.045401    0.000262   79.016457    0.000262   78.987512    0.000262   \n",
      "\n",
      "     var1(t+98)  var2(t+98)  var1(t+99)  var2(t+99)  \n",
      "350   79.074346    0.000262   79.045401    0.000262  \n",
      "351   79.045401    0.000262   79.016457    0.000262  \n",
      "352   79.016457    0.000262   78.987512    0.000262  \n",
      "353   78.987512    0.000262   78.958567    0.000262  \n",
      "354   78.958567    0.000262   78.929622    0.000262  \n",
      "\n",
      "[5 rows x 551 columns]\n",
      "Index(['var1(t-350)', 'var1(t-349)', 'var1(t-348)', 'var1(t-347)',\n",
      "       'var1(t-346)', 'var1(t-345)', 'var1(t-344)', 'var1(t-343)',\n",
      "       'var1(t-342)', 'var1(t-341)',\n",
      "       ...\n",
      "       'var1(t+95)', 'var2(t+95)', 'var1(t+96)', 'var2(t+96)', 'var1(t+97)',\n",
      "       'var2(t+97)', 'var1(t+98)', 'var2(t+98)', 'var1(t+99)', 'var2(t+99)'],\n",
      "      dtype='object', length=551)\n"
     ]
    }
   ],
   "source": [
    "data = Supervised(df.values, n_in = 350, n_out = 100)\n",
    "\n",
    "\n",
    "cols_to_drop = []\n",
    "for i in range(2, 351):\n",
    "    cols_to_drop.extend([f'var2(t-{i})'])\n",
    "\n",
    "data.drop(cols_to_drop, axis=1, inplace=True)\n",
    "\n",
    "print(data.head())\n",
    "print(data.columns)"
   ]
  },
  {
   "cell_type": "code",
   "execution_count": 14,
   "metadata": {
    "id": "AfPf60oy6Pe4"
   },
   "outputs": [],
   "source": [
    "train = np.array(data[0:len(data)-1])\n",
    "forecast = np.array(data.tail(1))"
   ]
  },
  {
   "cell_type": "code",
   "execution_count": 15,
   "metadata": {
    "id": "WSAafzI37KiT"
   },
   "outputs": [],
   "source": [
    "trainy = train[:,-300:]\n",
    "trainX = train[:,:-300]"
   ]
  },
  {
   "cell_type": "code",
   "execution_count": 16,
   "metadata": {
    "id": "2SrOqVJA7f50"
   },
   "outputs": [],
   "source": [
    "forecasty = forecast[:,-300:]\n",
    "forecastX = forecast[:,:-300]"
   ]
  },
  {
   "cell_type": "code",
   "execution_count": 17,
   "metadata": {
    "colab": {
     "base_uri": "https://localhost:8080/"
    },
    "id": "Qno_k8Nw7saY",
    "outputId": "c4a88db5-d8c6-489f-cdb2-06b24e293cff"
   },
   "outputs": [
    {
     "name": "stdout",
     "output_type": "stream",
     "text": [
      "(1800, 1, 251) (1800, 300) (1, 1, 251)\n"
     ]
    }
   ],
   "source": [
    "trainX = trainX.reshape((trainX.shape[0], 1, trainX.shape[1]))\n",
    "forecastX = forecastX.reshape((forecastX.shape[0], 1, forecastX.shape[1]))\n",
    "print(trainX.shape, trainy.shape, forecastX.shape)"
   ]
  },
  {
   "cell_type": "code",
   "execution_count": 18,
   "metadata": {
    "colab": {
     "base_uri": "https://localhost:8080/"
    },
    "id": "b1Jp2DvNuNFx",
    "outputId": "d0e5b3c4-64f1-438c-eade-8dfeaac8e285"
   },
   "outputs": [
    {
     "name": "stdout",
     "output_type": "stream",
     "text": [
      "Epoch 1/500\n",
      "23/23 [==============================] - 3s 21ms/step - loss: 4943.2432 - val_loss: 2687.5725\n",
      "Epoch 2/500\n",
      "23/23 [==============================] - 0s 4ms/step - loss: 4671.1182 - val_loss: 2576.4233\n",
      "Epoch 3/500\n",
      "23/23 [==============================] - 0s 4ms/step - loss: 4564.8369 - val_loss: 2522.0903\n",
      "Epoch 4/500\n",
      "23/23 [==============================] - 0s 4ms/step - loss: 4463.9717 - val_loss: 2465.5833\n",
      "Epoch 5/500\n",
      "23/23 [==============================] - 0s 4ms/step - loss: 4369.3335 - val_loss: 2415.8254\n",
      "Epoch 6/500\n",
      "23/23 [==============================] - 0s 4ms/step - loss: 4279.1650 - val_loss: 2368.2129\n",
      "Epoch 7/500\n",
      "23/23 [==============================] - 0s 5ms/step - loss: 4191.7451 - val_loss: 2322.2629\n",
      "Epoch 8/500\n",
      "23/23 [==============================] - 0s 4ms/step - loss: 4095.7473 - val_loss: 2268.0881\n",
      "Epoch 9/500\n",
      "23/23 [==============================] - 0s 3ms/step - loss: 4003.4966 - val_loss: 2223.2168\n",
      "Epoch 10/500\n",
      "23/23 [==============================] - 0s 4ms/step - loss: 3917.9302 - val_loss: 2179.6453\n",
      "Epoch 11/500\n",
      "23/23 [==============================] - 0s 4ms/step - loss: 3834.7048 - val_loss: 2135.4883\n",
      "Epoch 12/500\n",
      "23/23 [==============================] - 0s 4ms/step - loss: 3740.6785 - val_loss: 2089.3667\n",
      "Epoch 13/500\n",
      "23/23 [==============================] - 0s 4ms/step - loss: 3655.9893 - val_loss: 2047.8691\n",
      "Epoch 14/500\n",
      "23/23 [==============================] - 0s 4ms/step - loss: 3574.1316 - val_loss: 2008.1592\n",
      "Epoch 15/500\n",
      "23/23 [==============================] - 0s 4ms/step - loss: 3494.6956 - val_loss: 1969.9753\n",
      "Epoch 16/500\n",
      "23/23 [==============================] - 0s 4ms/step - loss: 3417.2979 - val_loss: 1933.1674\n",
      "Epoch 17/500\n",
      "23/23 [==============================] - 0s 3ms/step - loss: 3341.7227 - val_loss: 1897.6436\n",
      "Epoch 18/500\n",
      "23/23 [==============================] - 0s 4ms/step - loss: 3267.8323 - val_loss: 1863.3292\n",
      "Epoch 19/500\n",
      "23/23 [==============================] - 0s 4ms/step - loss: 3195.5295 - val_loss: 1830.1697\n",
      "Epoch 20/500\n",
      "23/23 [==============================] - 0s 4ms/step - loss: 3124.7427 - val_loss: 1798.1509\n",
      "Epoch 21/500\n",
      "23/23 [==============================] - 0s 7ms/step - loss: 3055.4146 - val_loss: 1767.2216\n",
      "Epoch 22/500\n",
      "23/23 [==============================] - 0s 4ms/step - loss: 2987.4976 - val_loss: 1737.3523\n",
      "Epoch 23/500\n",
      "23/23 [==============================] - 0s 4ms/step - loss: 2920.9497 - val_loss: 1708.5155\n",
      "Epoch 24/500\n",
      "23/23 [==============================] - 0s 4ms/step - loss: 2855.7366 - val_loss: 1680.6875\n",
      "Epoch 25/500\n",
      "23/23 [==============================] - 0s 4ms/step - loss: 2791.8254 - val_loss: 1653.8446\n",
      "Epoch 26/500\n",
      "23/23 [==============================] - 0s 4ms/step - loss: 2729.1890 - val_loss: 1627.9656\n",
      "Epoch 27/500\n",
      "23/23 [==============================] - 0s 4ms/step - loss: 2667.7991 - val_loss: 1603.0311\n",
      "Epoch 28/500\n",
      "23/23 [==============================] - 0s 4ms/step - loss: 2607.6321 - val_loss: 1579.0214\n",
      "Epoch 29/500\n",
      "23/23 [==============================] - 0s 3ms/step - loss: 2548.6648 - val_loss: 1555.9185\n",
      "Epoch 30/500\n",
      "23/23 [==============================] - 0s 4ms/step - loss: 2490.8752 - val_loss: 1533.7045\n",
      "Epoch 31/500\n",
      "23/23 [==============================] - 0s 4ms/step - loss: 2434.2432 - val_loss: 1512.3627\n",
      "Epoch 32/500\n",
      "23/23 [==============================] - 0s 4ms/step - loss: 2378.7490 - val_loss: 1491.8766\n",
      "Epoch 33/500\n",
      "23/23 [==============================] - 0s 4ms/step - loss: 2324.3733 - val_loss: 1472.2297\n",
      "Epoch 34/500\n",
      "23/23 [==============================] - 0s 4ms/step - loss: 2271.0981 - val_loss: 1453.4065\n",
      "Epoch 35/500\n",
      "23/23 [==============================] - 0s 4ms/step - loss: 2218.9055 - val_loss: 1435.3922\n",
      "Epoch 36/500\n",
      "23/23 [==============================] - 0s 4ms/step - loss: 2167.7791 - val_loss: 1418.1710\n",
      "Epoch 37/500\n",
      "23/23 [==============================] - 0s 4ms/step - loss: 2117.7012 - val_loss: 1401.7286\n",
      "Epoch 38/500\n",
      "23/23 [==============================] - 0s 4ms/step - loss: 2068.6562 - val_loss: 1386.0503\n",
      "Epoch 39/500\n",
      "23/23 [==============================] - 0s 4ms/step - loss: 2020.6283 - val_loss: 1371.1222\n",
      "Epoch 40/500\n",
      "23/23 [==============================] - 0s 4ms/step - loss: 1973.6023 - val_loss: 1356.9296\n",
      "Epoch 41/500\n",
      "23/23 [==============================] - 0s 4ms/step - loss: 1927.5620 - val_loss: 1343.4591\n",
      "Epoch 42/500\n",
      "23/23 [==============================] - 0s 4ms/step - loss: 1882.4935 - val_loss: 1330.6969\n",
      "Epoch 43/500\n",
      "23/23 [==============================] - 0s 4ms/step - loss: 1838.3820 - val_loss: 1318.6299\n",
      "Epoch 44/500\n",
      "23/23 [==============================] - 0s 4ms/step - loss: 1795.2126 - val_loss: 1307.2439\n",
      "Epoch 45/500\n",
      "23/23 [==============================] - 0s 4ms/step - loss: 1752.9716 - val_loss: 1296.5266\n",
      "Epoch 46/500\n",
      "23/23 [==============================] - 0s 4ms/step - loss: 1711.6455 - val_loss: 1286.4644\n",
      "Epoch 47/500\n",
      "23/23 [==============================] - 0s 4ms/step - loss: 1671.2198 - val_loss: 1277.0444\n",
      "Epoch 48/500\n",
      "23/23 [==============================] - 0s 4ms/step - loss: 1631.6810 - val_loss: 1268.2538\n",
      "Epoch 49/500\n",
      "23/23 [==============================] - 0s 4ms/step - loss: 1593.0165 - val_loss: 1260.0801\n",
      "Epoch 50/500\n",
      "23/23 [==============================] - 0s 4ms/step - loss: 1555.2122 - val_loss: 1252.5106\n",
      "Epoch 51/500\n",
      "23/23 [==============================] - 0s 4ms/step - loss: 1518.2556 - val_loss: 1245.5330\n",
      "Epoch 52/500\n",
      "23/23 [==============================] - 0s 4ms/step - loss: 1482.1335 - val_loss: 1239.1345\n",
      "Epoch 53/500\n",
      "23/23 [==============================] - 0s 5ms/step - loss: 1446.8334 - val_loss: 1233.3036\n",
      "Epoch 54/500\n",
      "23/23 [==============================] - 0s 4ms/step - loss: 1412.3428 - val_loss: 1228.0273\n",
      "Epoch 55/500\n",
      "23/23 [==============================] - 0s 4ms/step - loss: 1378.6490 - val_loss: 1223.2942\n",
      "Epoch 56/500\n",
      "23/23 [==============================] - 0s 4ms/step - loss: 1345.7396 - val_loss: 1219.0919\n",
      "Epoch 57/500\n",
      "23/23 [==============================] - 0s 4ms/step - loss: 1313.6028 - val_loss: 1215.4084\n",
      "Epoch 58/500\n",
      "23/23 [==============================] - 0s 4ms/step - loss: 1282.2258 - val_loss: 1212.2323\n",
      "Epoch 59/500\n",
      "23/23 [==============================] - 0s 4ms/step - loss: 1251.5972 - val_loss: 1209.5516\n",
      "Epoch 60/500\n",
      "23/23 [==============================] - 0s 4ms/step - loss: 1221.7051 - val_loss: 1207.3550\n",
      "Epoch 61/500\n",
      "23/23 [==============================] - 0s 4ms/step - loss: 1192.5375 - val_loss: 1205.6306\n",
      "Epoch 62/500\n",
      "23/23 [==============================] - 0s 4ms/step - loss: 1164.0829 - val_loss: 1204.3671\n",
      "Epoch 63/500\n",
      "23/23 [==============================] - 0s 4ms/step - loss: 1136.3295 - val_loss: 1203.5531\n",
      "Epoch 64/500\n",
      "23/23 [==============================] - 0s 3ms/step - loss: 1109.2659 - val_loss: 1203.1775\n",
      "Epoch 65/500\n",
      "23/23 [==============================] - 0s 4ms/step - loss: 1082.8809 - val_loss: 1203.2285\n",
      "Epoch 66/500\n",
      "23/23 [==============================] - 0s 4ms/step - loss: 1057.1633 - val_loss: 1203.6956\n",
      "Epoch 67/500\n",
      "23/23 [==============================] - 0s 4ms/step - loss: 1032.1016 - val_loss: 1204.5674\n",
      "Epoch 68/500\n",
      "23/23 [==============================] - 0s 4ms/step - loss: 1007.6849 - val_loss: 1205.8328\n",
      "Epoch 69/500\n",
      "23/23 [==============================] - 0s 4ms/step - loss: 983.9022 - val_loss: 1207.4807\n",
      "Epoch 70/500\n",
      "23/23 [==============================] - 0s 4ms/step - loss: 960.7424 - val_loss: 1209.5007\n",
      "Epoch 71/500\n",
      "23/23 [==============================] - 0s 4ms/step - loss: 938.1949 - val_loss: 1211.8815\n",
      "Epoch 72/500\n",
      "23/23 [==============================] - 0s 3ms/step - loss: 916.2488 - val_loss: 1214.6130\n",
      "Epoch 73/500\n",
      "23/23 [==============================] - 0s 3ms/step - loss: 894.8935 - val_loss: 1217.6841\n",
      "Epoch 74/500\n",
      "23/23 [==============================] - 0s 4ms/step - loss: 874.1187 - val_loss: 1221.0840\n",
      "Epoch 75/500\n",
      "23/23 [==============================] - 0s 4ms/step - loss: 853.9133 - val_loss: 1224.8029\n",
      "Epoch 76/500\n",
      "23/23 [==============================] - 0s 4ms/step - loss: 834.2675 - val_loss: 1228.8298\n",
      "Epoch 77/500\n",
      "23/23 [==============================] - 0s 7ms/step - loss: 815.1704 - val_loss: 1233.1545\n",
      "Epoch 78/500\n",
      "23/23 [==============================] - 0s 4ms/step - loss: 796.6122 - val_loss: 1237.7667\n",
      "Epoch 79/500\n",
      "23/23 [==============================] - 0s 4ms/step - loss: 778.5827 - val_loss: 1242.6561\n",
      "Epoch 80/500\n",
      "23/23 [==============================] - 0s 4ms/step - loss: 761.0716 - val_loss: 1247.8129\n",
      "Epoch 81/500\n",
      "23/23 [==============================] - 0s 4ms/step - loss: 744.0689 - val_loss: 1253.2267\n",
      "Epoch 82/500\n",
      "23/23 [==============================] - 0s 4ms/step - loss: 727.5646 - val_loss: 1258.8866\n",
      "Epoch 83/500\n",
      "23/23 [==============================] - 0s 4ms/step - loss: 711.5492 - val_loss: 1264.7841\n",
      "Epoch 84/500\n",
      "23/23 [==============================] - 0s 4ms/step - loss: 696.0127 - val_loss: 1270.9076\n",
      "Epoch 85/500\n",
      "23/23 [==============================] - 0s 4ms/step - loss: 680.9453 - val_loss: 1277.2462\n",
      "Epoch 86/500\n",
      "23/23 [==============================] - 0s 4ms/step - loss: 666.3376 - val_loss: 1283.7874\n",
      "Epoch 87/500\n",
      "23/23 [==============================] - 0s 4ms/step - loss: 652.1800 - val_loss: 1290.5125\n",
      "Epoch 88/500\n",
      "23/23 [==============================] - 0s 4ms/step - loss: 638.4633 - val_loss: 1297.3715\n",
      "Epoch 89/500\n",
      "23/23 [==============================] - 0s 4ms/step - loss: 625.1774 - val_loss: 1304.0114\n",
      "Epoch 90/500\n",
      "23/23 [==============================] - 0s 4ms/step - loss: 612.3115 - val_loss: 1271.8098\n",
      "Epoch 91/500\n",
      "23/23 [==============================] - 0s 4ms/step - loss: 682.8108 - val_loss: 1277.0347\n",
      "Epoch 92/500\n",
      "23/23 [==============================] - 0s 4ms/step - loss: 681.3826 - val_loss: 1283.8102\n",
      "Epoch 93/500\n",
      "23/23 [==============================] - 0s 4ms/step - loss: 665.9343 - val_loss: 1290.8540\n",
      "Epoch 94/500\n",
      "23/23 [==============================] - 0s 4ms/step - loss: 650.9611 - val_loss: 1298.1151\n",
      "Epoch 95/500\n",
      "23/23 [==============================] - 0s 4ms/step - loss: 636.4957 - val_loss: 1305.5787\n",
      "Epoch 96/500\n",
      "23/23 [==============================] - 0s 4ms/step - loss: 622.5292 - val_loss: 1313.2328\n",
      "Epoch 97/500\n",
      "23/23 [==============================] - 0s 4ms/step - loss: 609.0486 - val_loss: 1321.0663\n",
      "Epoch 98/500\n",
      "23/23 [==============================] - 0s 3ms/step - loss: 596.0412 - val_loss: 1329.0675\n",
      "Epoch 99/500\n",
      "23/23 [==============================] - 0s 4ms/step - loss: 583.4940 - val_loss: 1337.2260\n",
      "Epoch 100/500\n",
      "23/23 [==============================] - 0s 3ms/step - loss: 571.3947 - val_loss: 1345.5308\n",
      "Epoch 101/500\n",
      "23/23 [==============================] - 0s 4ms/step - loss: 559.7310 - val_loss: 1353.9713\n",
      "Epoch 102/500\n",
      "23/23 [==============================] - 0s 4ms/step - loss: 548.4911 - val_loss: 1362.5380\n",
      "Epoch 103/500\n",
      "23/23 [==============================] - 0s 4ms/step - loss: 537.6632 - val_loss: 1371.2198\n",
      "Epoch 104/500\n",
      "23/23 [==============================] - 0s 4ms/step - loss: 527.2357 - val_loss: 1380.0074\n",
      "Epoch 105/500\n",
      "23/23 [==============================] - 0s 5ms/step - loss: 517.1976 - val_loss: 1388.8911\n",
      "Epoch 106/500\n",
      "23/23 [==============================] - 0s 4ms/step - loss: 507.5376 - val_loss: 1397.8612\n",
      "Epoch 107/500\n",
      "23/23 [==============================] - 0s 4ms/step - loss: 498.2451 - val_loss: 1406.9084\n",
      "Epoch 108/500\n",
      "23/23 [==============================] - 0s 4ms/step - loss: 489.3091 - val_loss: 1416.0242\n",
      "Epoch 109/500\n",
      "23/23 [==============================] - 0s 4ms/step - loss: 480.7198 - val_loss: 1425.1986\n",
      "Epoch 110/500\n",
      "23/23 [==============================] - 0s 4ms/step - loss: 472.4666 - val_loss: 1434.4244\n",
      "Epoch 111/500\n",
      "23/23 [==============================] - 0s 4ms/step - loss: 464.5395 - val_loss: 1443.6915\n",
      "Epoch 112/500\n",
      "23/23 [==============================] - 0s 4ms/step - loss: 456.9286 - val_loss: 1452.9927\n",
      "Epoch 113/500\n",
      "23/23 [==============================] - 0s 4ms/step - loss: 449.6245 - val_loss: 1462.3191\n",
      "Epoch 114/500\n",
      "23/23 [==============================] - 0s 4ms/step - loss: 442.6177 - val_loss: 1471.6637\n",
      "Epoch 115/500\n",
      "23/23 [==============================] - 0s 5ms/step - loss: 435.8988 - val_loss: 1481.0182\n",
      "Epoch 116/500\n",
      "23/23 [==============================] - 0s 4ms/step - loss: 429.4588 - val_loss: 1490.3750\n",
      "Epoch 117/500\n",
      "23/23 [==============================] - 0s 4ms/step - loss: 423.2890 - val_loss: 1499.7271\n",
      "Epoch 118/500\n",
      "23/23 [==============================] - 0s 4ms/step - loss: 417.3806 - val_loss: 1509.0670\n",
      "Epoch 119/500\n",
      "23/23 [==============================] - 0s 3ms/step - loss: 411.7250 - val_loss: 1518.3878\n",
      "Epoch 120/500\n",
      "23/23 [==============================] - 0s 4ms/step - loss: 406.3140 - val_loss: 1527.6833\n",
      "Epoch 121/500\n",
      "23/23 [==============================] - 0s 4ms/step - loss: 401.1394 - val_loss: 1536.9465\n",
      "Epoch 122/500\n",
      "23/23 [==============================] - 0s 4ms/step - loss: 396.1930 - val_loss: 1546.1714\n",
      "Epoch 123/500\n",
      "23/23 [==============================] - 0s 4ms/step - loss: 391.4672 - val_loss: 1555.3511\n",
      "Epoch 124/500\n",
      "23/23 [==============================] - 0s 4ms/step - loss: 386.9544 - val_loss: 1564.4811\n",
      "Epoch 125/500\n",
      "23/23 [==============================] - 0s 4ms/step - loss: 382.6469 - val_loss: 1573.5543\n",
      "Epoch 126/500\n",
      "23/23 [==============================] - 0s 4ms/step - loss: 378.5375 - val_loss: 1582.5659\n",
      "Epoch 127/500\n",
      "23/23 [==============================] - 0s 4ms/step - loss: 374.6191 - val_loss: 1591.5100\n",
      "Epoch 128/500\n",
      "23/23 [==============================] - 0s 7ms/step - loss: 370.8849 - val_loss: 1600.3832\n",
      "Epoch 129/500\n",
      "23/23 [==============================] - 0s 4ms/step - loss: 367.3277 - val_loss: 1609.1780\n",
      "Epoch 130/500\n",
      "23/23 [==============================] - 0s 3ms/step - loss: 363.9411 - val_loss: 1617.8917\n",
      "Epoch 131/500\n",
      "23/23 [==============================] - 0s 3ms/step - loss: 360.7186 - val_loss: 1626.5190\n",
      "Epoch 132/500\n",
      "23/23 [==============================] - 0s 3ms/step - loss: 357.6539 - val_loss: 1635.0560\n",
      "Epoch 133/500\n",
      "23/23 [==============================] - 0s 4ms/step - loss: 354.7409 - val_loss: 1643.4979\n",
      "Epoch 134/500\n",
      "23/23 [==============================] - 0s 4ms/step - loss: 351.9735 - val_loss: 1651.8422\n",
      "Epoch 135/500\n",
      "23/23 [==============================] - 0s 4ms/step - loss: 349.3459 - val_loss: 1660.0842\n",
      "Epoch 136/500\n",
      "23/23 [==============================] - 0s 4ms/step - loss: 346.8524 - val_loss: 1668.2205\n",
      "Epoch 137/500\n",
      "23/23 [==============================] - 0s 3ms/step - loss: 344.4875 - val_loss: 1676.2487\n",
      "Epoch 138/500\n",
      "23/23 [==============================] - 0s 4ms/step - loss: 342.2458 - val_loss: 1684.1641\n",
      "Epoch 139/500\n",
      "23/23 [==============================] - 0s 3ms/step - loss: 340.1223 - val_loss: 1691.9653\n",
      "Epoch 140/500\n",
      "23/23 [==============================] - 0s 4ms/step - loss: 338.1118 - val_loss: 1699.6484\n",
      "Epoch 141/500\n",
      "23/23 [==============================] - 0s 4ms/step - loss: 336.2094 - val_loss: 1707.2126\n",
      "Epoch 142/500\n",
      "23/23 [==============================] - 0s 4ms/step - loss: 334.4103 - val_loss: 1714.6549\n",
      "Epoch 143/500\n",
      "23/23 [==============================] - 0s 4ms/step - loss: 332.7098 - val_loss: 1721.9724\n",
      "Epoch 144/500\n",
      "23/23 [==============================] - 0s 3ms/step - loss: 331.1038 - val_loss: 1729.1649\n",
      "Epoch 145/500\n",
      "23/23 [==============================] - 0s 4ms/step - loss: 329.5876 - val_loss: 1736.2286\n",
      "Epoch 146/500\n",
      "23/23 [==============================] - 0s 4ms/step - loss: 328.1573 - val_loss: 1743.1644\n",
      "Epoch 147/500\n",
      "23/23 [==============================] - 0s 3ms/step - loss: 326.8087 - val_loss: 1749.9683\n",
      "Epoch 148/500\n",
      "23/23 [==============================] - 0s 4ms/step - loss: 325.5381 - val_loss: 1756.6414\n",
      "Epoch 149/500\n",
      "23/23 [==============================] - 0s 4ms/step - loss: 324.3415 - val_loss: 1763.1818\n",
      "Epoch 150/500\n",
      "23/23 [==============================] - 0s 8ms/step - loss: 323.2155 - val_loss: 1769.5881\n",
      "Epoch 151/500\n",
      "23/23 [==============================] - 0s 6ms/step - loss: 322.1564 - val_loss: 1775.8613\n",
      "Epoch 152/500\n",
      "23/23 [==============================] - 0s 5ms/step - loss: 321.1610 - val_loss: 1781.9993\n",
      "Epoch 153/500\n",
      "23/23 [==============================] - 0s 5ms/step - loss: 320.2260 - val_loss: 1788.0032\n",
      "Epoch 154/500\n",
      "23/23 [==============================] - 0s 5ms/step - loss: 319.3482 - val_loss: 1793.8722\n",
      "Epoch 155/500\n",
      "23/23 [==============================] - 0s 5ms/step - loss: 318.5248 - val_loss: 1799.6057\n",
      "Epoch 156/500\n",
      "23/23 [==============================] - 0s 5ms/step - loss: 317.7528 - val_loss: 1805.2048\n",
      "Epoch 157/500\n",
      "23/23 [==============================] - 0s 5ms/step - loss: 317.0296 - val_loss: 1810.6707\n",
      "Epoch 158/500\n",
      "23/23 [==============================] - 0s 5ms/step - loss: 316.3523 - val_loss: 1816.0013\n",
      "Epoch 159/500\n",
      "23/23 [==============================] - 0s 5ms/step - loss: 315.7186 - val_loss: 1821.1991\n",
      "Epoch 160/500\n",
      "23/23 [==============================] - 0s 5ms/step - loss: 315.1260 - val_loss: 1826.2643\n",
      "Epoch 161/500\n",
      "23/23 [==============================] - 0s 5ms/step - loss: 314.5721 - val_loss: 1831.1965\n",
      "Epoch 162/500\n",
      "23/23 [==============================] - 0s 5ms/step - loss: 314.0550 - val_loss: 1836.0012\n",
      "Epoch 163/500\n",
      "23/23 [==============================] - 0s 5ms/step - loss: 313.5721 - val_loss: 1840.6731\n",
      "Epoch 164/500\n",
      "23/23 [==============================] - 0s 6ms/step - loss: 313.1219 - val_loss: 1845.2180\n",
      "Epoch 165/500\n",
      "23/23 [==============================] - 0s 6ms/step - loss: 312.7023 - val_loss: 1849.6348\n",
      "Epoch 166/500\n",
      "23/23 [==============================] - 0s 5ms/step - loss: 312.3112 - val_loss: 1853.9269\n",
      "Epoch 167/500\n",
      "23/23 [==============================] - 0s 5ms/step - loss: 311.9473 - val_loss: 1858.0936\n",
      "Epoch 168/500\n",
      "23/23 [==============================] - 0s 5ms/step - loss: 311.6087 - val_loss: 1862.1375\n",
      "Epoch 169/500\n",
      "23/23 [==============================] - 0s 6ms/step - loss: 311.2939 - val_loss: 1866.0616\n",
      "Epoch 170/500\n",
      "23/23 [==============================] - 0s 5ms/step - loss: 311.0014 - val_loss: 1869.8651\n",
      "Epoch 171/500\n",
      "23/23 [==============================] - 0s 4ms/step - loss: 310.7299 - val_loss: 1873.5507\n",
      "Epoch 172/500\n",
      "23/23 [==============================] - 0s 4ms/step - loss: 310.4778 - val_loss: 1877.1208\n",
      "Epoch 173/500\n",
      "23/23 [==============================] - 0s 4ms/step - loss: 310.2441 - val_loss: 1880.5785\n",
      "Epoch 174/500\n",
      "23/23 [==============================] - 0s 4ms/step - loss: 310.0274 - val_loss: 1883.9236\n",
      "Epoch 175/500\n",
      "23/23 [==============================] - 0s 4ms/step - loss: 309.8268 - val_loss: 1887.1578\n",
      "Epoch 176/500\n",
      "23/23 [==============================] - 0s 4ms/step - loss: 309.6411 - val_loss: 1890.2850\n",
      "Epoch 177/500\n",
      "23/23 [==============================] - 0s 4ms/step - loss: 309.4694 - val_loss: 1893.3071\n",
      "Epoch 178/500\n",
      "23/23 [==============================] - 0s 4ms/step - loss: 309.3105 - val_loss: 1896.2253\n",
      "Epoch 179/500\n",
      "23/23 [==============================] - 0s 4ms/step - loss: 309.1638 - val_loss: 1899.0424\n",
      "Epoch 180/500\n",
      "23/23 [==============================] - 0s 3ms/step - loss: 309.0282 - val_loss: 1901.7603\n",
      "Epoch 181/500\n",
      "23/23 [==============================] - 0s 4ms/step - loss: 308.9033 - val_loss: 1904.3809\n",
      "Epoch 182/500\n",
      "23/23 [==============================] - 0s 4ms/step - loss: 308.7880 - val_loss: 1906.9073\n",
      "Epoch 183/500\n",
      "23/23 [==============================] - 0s 4ms/step - loss: 308.6817 - val_loss: 1909.3417\n",
      "Epoch 184/500\n",
      "23/23 [==============================] - 0s 4ms/step - loss: 308.5838 - val_loss: 1911.6847\n",
      "Epoch 185/500\n",
      "23/23 [==============================] - 0s 4ms/step - loss: 308.4937 - val_loss: 1913.9412\n",
      "Epoch 186/500\n",
      "23/23 [==============================] - 0s 3ms/step - loss: 308.4108 - val_loss: 1916.1122\n",
      "Epoch 187/500\n",
      "23/23 [==============================] - 0s 7ms/step - loss: 308.3345 - val_loss: 1918.1995\n",
      "Epoch 188/500\n",
      "23/23 [==============================] - 0s 3ms/step - loss: 308.2644 - val_loss: 1920.2061\n",
      "Epoch 189/500\n",
      "23/23 [==============================] - 0s 3ms/step - loss: 308.2001 - val_loss: 1922.1332\n",
      "Epoch 190/500\n",
      "23/23 [==============================] - 0s 4ms/step - loss: 308.1410 - val_loss: 1923.9852\n",
      "Epoch 191/500\n",
      "23/23 [==============================] - 0s 4ms/step - loss: 308.0866 - val_loss: 1925.7615\n",
      "Epoch 192/500\n",
      "23/23 [==============================] - 0s 4ms/step - loss: 308.0370 - val_loss: 1927.4667\n",
      "Epoch 193/500\n",
      "23/23 [==============================] - 0s 4ms/step - loss: 307.9914 - val_loss: 1929.1017\n",
      "Epoch 194/500\n",
      "23/23 [==============================] - 0s 4ms/step - loss: 307.9497 - val_loss: 1930.6693\n",
      "Epoch 195/500\n",
      "23/23 [==============================] - 0s 4ms/step - loss: 307.9115 - val_loss: 1932.1715\n",
      "Epoch 196/500\n",
      "23/23 [==============================] - 0s 4ms/step - loss: 307.8765 - val_loss: 1933.6094\n",
      "Epoch 197/500\n",
      "23/23 [==============================] - 0s 4ms/step - loss: 307.8445 - val_loss: 1934.9860\n",
      "Epoch 198/500\n",
      "23/23 [==============================] - 0s 4ms/step - loss: 307.8153 - val_loss: 1936.3033\n",
      "Epoch 199/500\n",
      "23/23 [==============================] - 0s 4ms/step - loss: 307.7886 - val_loss: 1937.5645\n",
      "Epoch 200/500\n",
      "23/23 [==============================] - 0s 3ms/step - loss: 307.7642 - val_loss: 1938.7686\n",
      "Epoch 201/500\n",
      "23/23 [==============================] - 0s 4ms/step - loss: 307.7421 - val_loss: 1939.9199\n",
      "Epoch 202/500\n",
      "23/23 [==============================] - 0s 4ms/step - loss: 307.7217 - val_loss: 1941.0197\n",
      "Epoch 203/500\n",
      "23/23 [==============================] - 0s 4ms/step - loss: 307.7033 - val_loss: 1942.0704\n",
      "Epoch 204/500\n",
      "23/23 [==============================] - 0s 4ms/step - loss: 307.6864 - val_loss: 1943.0728\n",
      "Epoch 205/500\n",
      "23/23 [==============================] - 0s 7ms/step - loss: 307.6712 - val_loss: 1944.0305\n",
      "Epoch 206/500\n",
      "23/23 [==============================] - 0s 4ms/step - loss: 307.6572 - val_loss: 1944.9421\n",
      "Epoch 207/500\n",
      "23/23 [==============================] - 0s 4ms/step - loss: 307.6446 - val_loss: 1945.8114\n",
      "Epoch 208/500\n",
      "23/23 [==============================] - 0s 4ms/step - loss: 307.6331 - val_loss: 1946.6389\n",
      "Epoch 209/500\n",
      "23/23 [==============================] - 0s 4ms/step - loss: 307.6227 - val_loss: 1947.4290\n",
      "Epoch 210/500\n",
      "23/23 [==============================] - 0s 4ms/step - loss: 307.6131 - val_loss: 1948.1802\n",
      "Epoch 211/500\n",
      "23/23 [==============================] - 0s 4ms/step - loss: 307.6045 - val_loss: 1948.8940\n",
      "Epoch 212/500\n",
      "23/23 [==============================] - 0s 4ms/step - loss: 307.5968 - val_loss: 1949.5747\n",
      "Epoch 213/500\n",
      "23/23 [==============================] - 0s 3ms/step - loss: 307.5898 - val_loss: 1950.2203\n",
      "Epoch 214/500\n",
      "23/23 [==============================] - 0s 4ms/step - loss: 307.5836 - val_loss: 1950.8354\n",
      "Epoch 215/500\n",
      "23/23 [==============================] - 0s 4ms/step - loss: 307.5779 - val_loss: 1951.4199\n",
      "Epoch 216/500\n",
      "23/23 [==============================] - 0s 4ms/step - loss: 307.5728 - val_loss: 1951.9746\n",
      "Epoch 217/500\n",
      "23/23 [==============================] - 0s 4ms/step - loss: 307.5681 - val_loss: 1952.5016\n",
      "Epoch 218/500\n",
      "23/23 [==============================] - 0s 4ms/step - loss: 307.5639 - val_loss: 1953.0007\n",
      "Epoch 219/500\n",
      "23/23 [==============================] - 0s 4ms/step - loss: 307.5602 - val_loss: 1953.4744\n",
      "Epoch 220/500\n",
      "23/23 [==============================] - 0s 4ms/step - loss: 307.5570 - val_loss: 1953.9236\n",
      "Epoch 221/500\n",
      "23/23 [==============================] - 0s 4ms/step - loss: 307.5539 - val_loss: 1954.3496\n",
      "Epoch 222/500\n",
      "23/23 [==============================] - 0s 4ms/step - loss: 307.5514 - val_loss: 1954.7533\n",
      "Epoch 223/500\n",
      "23/23 [==============================] - 0s 4ms/step - loss: 307.5491 - val_loss: 1955.1357\n",
      "Epoch 224/500\n",
      "23/23 [==============================] - 0s 4ms/step - loss: 307.5470 - val_loss: 1955.4976\n",
      "Epoch 225/500\n",
      "23/23 [==============================] - 0s 4ms/step - loss: 307.5452 - val_loss: 1955.8408\n",
      "Epoch 226/500\n",
      "23/23 [==============================] - 0s 7ms/step - loss: 307.5436 - val_loss: 1956.1649\n",
      "Epoch 227/500\n",
      "23/23 [==============================] - 0s 4ms/step - loss: 307.5423 - val_loss: 1956.4716\n",
      "Epoch 228/500\n",
      "23/23 [==============================] - 0s 4ms/step - loss: 307.5412 - val_loss: 1956.7615\n",
      "Epoch 229/500\n",
      "23/23 [==============================] - 0s 4ms/step - loss: 307.5401 - val_loss: 1957.0349\n",
      "Epoch 230/500\n",
      "23/23 [==============================] - 0s 4ms/step - loss: 307.5393 - val_loss: 1957.2925\n",
      "Epoch 231/500\n",
      "23/23 [==============================] - 0s 4ms/step - loss: 307.5385 - val_loss: 1957.5356\n",
      "Epoch 232/500\n",
      "23/23 [==============================] - 0s 4ms/step - loss: 307.5381 - val_loss: 1957.7653\n",
      "Epoch 233/500\n",
      "23/23 [==============================] - 0s 4ms/step - loss: 307.5376 - val_loss: 1957.9810\n",
      "Epoch 234/500\n",
      "23/23 [==============================] - 0s 4ms/step - loss: 307.5373 - val_loss: 1958.1841\n",
      "Epoch 235/500\n",
      "23/23 [==============================] - 0s 3ms/step - loss: 307.5370 - val_loss: 1958.3750\n",
      "Epoch 236/500\n",
      "23/23 [==============================] - 0s 3ms/step - loss: 307.5369 - val_loss: 1958.5543\n",
      "Epoch 237/500\n",
      "23/23 [==============================] - 0s 4ms/step - loss: 307.5369 - val_loss: 1958.7212\n",
      "Epoch 238/500\n",
      "23/23 [==============================] - 0s 4ms/step - loss: 307.5369 - val_loss: 1958.8771\n",
      "Epoch 239/500\n",
      "23/23 [==============================] - 0s 3ms/step - loss: 307.5369 - val_loss: 1959.0193\n",
      "Epoch 240/500\n",
      "23/23 [==============================] - 0s 4ms/step - loss: 307.5371 - val_loss: 1959.1448\n",
      "Epoch 241/500\n",
      "23/23 [==============================] - 0s 4ms/step - loss: 307.5374 - val_loss: 1959.2411\n",
      "Epoch 242/500\n",
      "23/23 [==============================] - 0s 3ms/step - loss: 307.5377 - val_loss: 1959.1505\n",
      "Epoch 243/500\n",
      "23/23 [==============================] - 0s 4ms/step - loss: 308.1311 - val_loss: 1965.1711\n",
      "Epoch 244/500\n",
      "23/23 [==============================] - 0s 4ms/step - loss: 307.5912 - val_loss: 1965.1534\n",
      "Epoch 245/500\n",
      "23/23 [==============================] - 0s 4ms/step - loss: 307.5598 - val_loss: 1964.9491\n",
      "Epoch 246/500\n",
      "23/23 [==============================] - 0s 4ms/step - loss: 307.5522 - val_loss: 1964.7378\n",
      "Epoch 247/500\n",
      "23/23 [==============================] - 0s 7ms/step - loss: 307.5490 - val_loss: 1964.5365\n",
      "Epoch 248/500\n",
      "23/23 [==============================] - 0s 3ms/step - loss: 307.5476 - val_loss: 1964.3469\n",
      "Epoch 249/500\n",
      "23/23 [==============================] - 0s 4ms/step - loss: 307.5469 - val_loss: 1964.1674\n",
      "Epoch 250/500\n",
      "23/23 [==============================] - 0s 4ms/step - loss: 307.5468 - val_loss: 1963.9993\n",
      "Epoch 251/500\n",
      "23/23 [==============================] - 0s 4ms/step - loss: 307.5469 - val_loss: 1963.8420\n",
      "Epoch 252/500\n",
      "23/23 [==============================] - 0s 4ms/step - loss: 307.5474 - val_loss: 1963.6948\n",
      "Epoch 253/500\n",
      "23/23 [==============================] - 0s 4ms/step - loss: 307.5479 - val_loss: 1963.5563\n",
      "Epoch 254/500\n",
      "23/23 [==============================] - 0s 4ms/step - loss: 307.5486 - val_loss: 1963.4265\n",
      "Epoch 255/500\n",
      "23/23 [==============================] - 0s 4ms/step - loss: 307.5494 - val_loss: 1963.3051\n",
      "Epoch 256/500\n",
      "23/23 [==============================] - 0s 3ms/step - loss: 307.5502 - val_loss: 1963.1924\n",
      "Epoch 257/500\n",
      "23/23 [==============================] - 0s 4ms/step - loss: 307.5511 - val_loss: 1963.0861\n",
      "Epoch 258/500\n",
      "23/23 [==============================] - 0s 4ms/step - loss: 307.5520 - val_loss: 1962.9863\n",
      "Epoch 259/500\n",
      "23/23 [==============================] - 0s 4ms/step - loss: 307.5529 - val_loss: 1962.8934\n",
      "Epoch 260/500\n",
      "23/23 [==============================] - 0s 4ms/step - loss: 307.5538 - val_loss: 1962.8069\n",
      "Epoch 261/500\n",
      "23/23 [==============================] - 0s 4ms/step - loss: 307.5548 - val_loss: 1962.7261\n",
      "Epoch 262/500\n",
      "23/23 [==============================] - 0s 4ms/step - loss: 307.5556 - val_loss: 1962.6498\n",
      "Epoch 263/500\n",
      "23/23 [==============================] - 0s 4ms/step - loss: 307.5565 - val_loss: 1962.5789\n",
      "Epoch 264/500\n",
      "23/23 [==============================] - 0s 3ms/step - loss: 307.5574 - val_loss: 1962.5115\n",
      "Epoch 265/500\n",
      "23/23 [==============================] - 0s 4ms/step - loss: 307.5583 - val_loss: 1962.4495\n",
      "Epoch 266/500\n",
      "23/23 [==============================] - 0s 4ms/step - loss: 307.5591 - val_loss: 1962.3905\n",
      "Epoch 267/500\n",
      "23/23 [==============================] - 0s 4ms/step - loss: 307.5601 - val_loss: 1962.3364\n",
      "Epoch 268/500\n",
      "23/23 [==============================] - 0s 7ms/step - loss: 307.5609 - val_loss: 1962.2861\n",
      "Epoch 269/500\n",
      "23/23 [==============================] - 0s 3ms/step - loss: 307.5617 - val_loss: 1962.2389\n",
      "Epoch 270/500\n",
      "23/23 [==============================] - 0s 4ms/step - loss: 307.5625 - val_loss: 1962.1941\n",
      "Epoch 271/500\n",
      "23/23 [==============================] - 0s 4ms/step - loss: 307.5634 - val_loss: 1962.1517\n",
      "Epoch 272/500\n",
      "23/23 [==============================] - 0s 4ms/step - loss: 307.5641 - val_loss: 1962.1132\n",
      "Epoch 273/500\n",
      "23/23 [==============================] - 0s 4ms/step - loss: 307.5649 - val_loss: 1962.0774\n",
      "Epoch 274/500\n",
      "23/23 [==============================] - 0s 4ms/step - loss: 307.5656 - val_loss: 1962.0435\n",
      "Epoch 275/500\n",
      "23/23 [==============================] - 0s 4ms/step - loss: 307.5663 - val_loss: 1962.0118\n",
      "Epoch 276/500\n",
      "23/23 [==============================] - 0s 4ms/step - loss: 307.5672 - val_loss: 1961.9822\n",
      "Epoch 277/500\n",
      "23/23 [==============================] - 0s 3ms/step - loss: 307.5679 - val_loss: 1961.9557\n",
      "Epoch 278/500\n",
      "23/23 [==============================] - 0s 4ms/step - loss: 307.5685 - val_loss: 1961.9301\n",
      "Epoch 279/500\n",
      "23/23 [==============================] - 0s 4ms/step - loss: 307.5691 - val_loss: 1961.9052\n",
      "Epoch 280/500\n",
      "23/23 [==============================] - 0s 4ms/step - loss: 307.5697 - val_loss: 1961.8827\n",
      "Epoch 281/500\n",
      "23/23 [==============================] - 0s 4ms/step - loss: 307.5705 - val_loss: 1961.8613\n",
      "Epoch 282/500\n",
      "23/23 [==============================] - 0s 4ms/step - loss: 307.5710 - val_loss: 1961.8418\n",
      "Epoch 283/500\n",
      "23/23 [==============================] - 0s 4ms/step - loss: 307.5717 - val_loss: 1961.8229\n",
      "Epoch 284/500\n",
      "23/23 [==============================] - 0s 4ms/step - loss: 307.5723 - val_loss: 1961.8052\n",
      "Epoch 285/500\n",
      "23/23 [==============================] - 0s 4ms/step - loss: 307.5729 - val_loss: 1961.7892\n",
      "Epoch 286/500\n",
      "23/23 [==============================] - 0s 7ms/step - loss: 307.5734 - val_loss: 1961.7739\n",
      "Epoch 287/500\n",
      "23/23 [==============================] - 0s 4ms/step - loss: 307.5740 - val_loss: 1961.7600\n",
      "Epoch 288/500\n",
      "23/23 [==============================] - 0s 4ms/step - loss: 307.5746 - val_loss: 1961.7467\n",
      "Epoch 289/500\n",
      "23/23 [==============================] - 0s 4ms/step - loss: 307.5751 - val_loss: 1961.7343\n",
      "Epoch 290/500\n",
      "23/23 [==============================] - 0s 3ms/step - loss: 307.5756 - val_loss: 1961.7225\n",
      "Epoch 291/500\n",
      "23/23 [==============================] - 0s 4ms/step - loss: 307.5760 - val_loss: 1961.7109\n",
      "Epoch 292/500\n",
      "23/23 [==============================] - 0s 4ms/step - loss: 307.5766 - val_loss: 1961.7006\n",
      "Epoch 293/500\n",
      "23/23 [==============================] - 0s 4ms/step - loss: 307.5771 - val_loss: 1961.6909\n",
      "Epoch 294/500\n",
      "23/23 [==============================] - 0s 4ms/step - loss: 307.5775 - val_loss: 1961.6825\n",
      "Epoch 295/500\n",
      "23/23 [==============================] - 0s 4ms/step - loss: 307.5780 - val_loss: 1961.6736\n",
      "Epoch 296/500\n",
      "23/23 [==============================] - 0s 4ms/step - loss: 307.5786 - val_loss: 1961.6660\n",
      "Epoch 297/500\n",
      "23/23 [==============================] - 0s 4ms/step - loss: 307.5791 - val_loss: 1961.6591\n",
      "Epoch 298/500\n",
      "23/23 [==============================] - 0s 3ms/step - loss: 307.5794 - val_loss: 1961.6526\n",
      "Epoch 299/500\n",
      "23/23 [==============================] - 0s 4ms/step - loss: 307.5799 - val_loss: 1961.6459\n",
      "Epoch 300/500\n",
      "23/23 [==============================] - 0s 4ms/step - loss: 307.5803 - val_loss: 1961.6398\n",
      "Epoch 301/500\n",
      "23/23 [==============================] - 0s 7ms/step - loss: 307.5807 - val_loss: 1961.6348\n",
      "Epoch 302/500\n",
      "23/23 [==============================] - 0s 4ms/step - loss: 307.5811 - val_loss: 1961.6287\n",
      "Epoch 303/500\n",
      "23/23 [==============================] - 0s 3ms/step - loss: 307.5815 - val_loss: 1961.6239\n",
      "Epoch 304/500\n",
      "23/23 [==============================] - 0s 4ms/step - loss: 307.5820 - val_loss: 1961.6198\n",
      "Epoch 305/500\n",
      "23/23 [==============================] - 0s 4ms/step - loss: 307.5822 - val_loss: 1961.6144\n",
      "Epoch 306/500\n",
      "23/23 [==============================] - 0s 4ms/step - loss: 307.5827 - val_loss: 1961.6101\n",
      "Epoch 307/500\n",
      "23/23 [==============================] - 0s 4ms/step - loss: 307.5830 - val_loss: 1961.6064\n",
      "Epoch 308/500\n",
      "23/23 [==============================] - 0s 4ms/step - loss: 307.5834 - val_loss: 1961.6029\n",
      "Epoch 309/500\n",
      "23/23 [==============================] - 0s 4ms/step - loss: 307.5837 - val_loss: 1961.5991\n",
      "Epoch 310/500\n",
      "23/23 [==============================] - 0s 4ms/step - loss: 307.5841 - val_loss: 1961.5966\n",
      "Epoch 311/500\n",
      "23/23 [==============================] - 0s 3ms/step - loss: 307.5844 - val_loss: 1961.5930\n",
      "Epoch 312/500\n",
      "23/23 [==============================] - 0s 4ms/step - loss: 307.5847 - val_loss: 1961.5906\n",
      "Epoch 313/500\n",
      "23/23 [==============================] - 0s 4ms/step - loss: 307.5851 - val_loss: 1961.5885\n",
      "Epoch 314/500\n",
      "23/23 [==============================] - 0s 4ms/step - loss: 307.5854 - val_loss: 1961.5867\n",
      "Epoch 315/500\n",
      "23/23 [==============================] - 0s 4ms/step - loss: 307.5856 - val_loss: 1961.5847\n",
      "Epoch 316/500\n",
      "23/23 [==============================] - 0s 4ms/step - loss: 307.5859 - val_loss: 1961.5819\n",
      "Epoch 317/500\n",
      "23/23 [==============================] - 0s 8ms/step - loss: 307.5862 - val_loss: 1961.5801\n",
      "Epoch 318/500\n",
      "23/23 [==============================] - 0s 4ms/step - loss: 307.5865 - val_loss: 1961.5778\n",
      "Epoch 319/500\n",
      "23/23 [==============================] - 0s 4ms/step - loss: 307.5868 - val_loss: 1961.5765\n",
      "Epoch 320/500\n",
      "23/23 [==============================] - 0s 4ms/step - loss: 307.5870 - val_loss: 1961.5748\n",
      "Epoch 321/500\n",
      "23/23 [==============================] - 0s 5ms/step - loss: 307.5873 - val_loss: 1961.5731\n",
      "Epoch 322/500\n",
      "23/23 [==============================] - 0s 4ms/step - loss: 307.5876 - val_loss: 1961.5719\n",
      "Epoch 323/500\n",
      "23/23 [==============================] - 0s 4ms/step - loss: 307.5879 - val_loss: 1961.5714\n",
      "Epoch 324/500\n",
      "23/23 [==============================] - 0s 4ms/step - loss: 307.5880 - val_loss: 1961.5687\n",
      "Epoch 325/500\n",
      "23/23 [==============================] - 0s 3ms/step - loss: 307.5883 - val_loss: 1961.5679\n",
      "Epoch 326/500\n",
      "23/23 [==============================] - 0s 4ms/step - loss: 307.5885 - val_loss: 1961.5659\n",
      "Epoch 327/500\n",
      "23/23 [==============================] - 0s 5ms/step - loss: 307.5889 - val_loss: 1961.5654\n",
      "Epoch 328/500\n",
      "23/23 [==============================] - 0s 4ms/step - loss: 307.5891 - val_loss: 1961.5642\n",
      "Epoch 329/500\n",
      "23/23 [==============================] - 0s 4ms/step - loss: 307.5893 - val_loss: 1961.5634\n",
      "Epoch 330/500\n",
      "23/23 [==============================] - 0s 4ms/step - loss: 307.5895 - val_loss: 1961.5626\n",
      "Epoch 331/500\n",
      "23/23 [==============================] - 0s 4ms/step - loss: 307.5897 - val_loss: 1961.5616\n",
      "Epoch 332/500\n",
      "23/23 [==============================] - 0s 8ms/step - loss: 307.5900 - val_loss: 1961.5608\n",
      "Epoch 333/500\n",
      "23/23 [==============================] - 0s 4ms/step - loss: 307.5901 - val_loss: 1961.5593\n",
      "Epoch 334/500\n",
      "23/23 [==============================] - 0s 4ms/step - loss: 307.5903 - val_loss: 1961.5581\n",
      "Epoch 335/500\n",
      "23/23 [==============================] - 0s 3ms/step - loss: 307.5905 - val_loss: 1961.5568\n",
      "Epoch 336/500\n",
      "23/23 [==============================] - 0s 4ms/step - loss: 307.5907 - val_loss: 1961.5563\n",
      "Epoch 337/500\n",
      "23/23 [==============================] - 0s 4ms/step - loss: 307.5909 - val_loss: 1961.5554\n",
      "Epoch 338/500\n",
      "23/23 [==============================] - 0s 4ms/step - loss: 307.5910 - val_loss: 1961.5538\n",
      "Epoch 339/500\n",
      "23/23 [==============================] - 0s 4ms/step - loss: 307.5913 - val_loss: 1961.5530\n",
      "Epoch 340/500\n",
      "23/23 [==============================] - 0s 4ms/step - loss: 307.5914 - val_loss: 1961.5515\n",
      "Epoch 341/500\n",
      "23/23 [==============================] - 0s 4ms/step - loss: 307.5916 - val_loss: 1961.5510\n",
      "Epoch 342/500\n",
      "23/23 [==============================] - 0s 4ms/step - loss: 307.5918 - val_loss: 1961.5500\n",
      "Epoch 343/500\n",
      "23/23 [==============================] - 0s 4ms/step - loss: 307.5920 - val_loss: 1961.5497\n",
      "Epoch 344/500\n",
      "23/23 [==============================] - 0s 4ms/step - loss: 307.5921 - val_loss: 1961.5490\n",
      "Epoch 345/500\n",
      "23/23 [==============================] - 0s 4ms/step - loss: 307.5923 - val_loss: 1961.5488\n",
      "Epoch 346/500\n",
      "23/23 [==============================] - 0s 4ms/step - loss: 307.5924 - val_loss: 1961.5476\n",
      "Epoch 347/500\n",
      "23/23 [==============================] - 0s 4ms/step - loss: 307.5926 - val_loss: 1961.5470\n",
      "Epoch 348/500\n",
      "23/23 [==============================] - 0s 5ms/step - loss: 307.5928 - val_loss: 1961.5469\n",
      "Epoch 349/500\n",
      "23/23 [==============================] - 0s 4ms/step - loss: 307.5929 - val_loss: 1961.5465\n",
      "Epoch 350/500\n",
      "23/23 [==============================] - 0s 4ms/step - loss: 307.5931 - val_loss: 1961.5464\n",
      "Epoch 351/500\n",
      "23/23 [==============================] - 0s 4ms/step - loss: 307.5931 - val_loss: 1961.5458\n",
      "Epoch 352/500\n",
      "23/23 [==============================] - 0s 4ms/step - loss: 307.5933 - val_loss: 1961.5443\n",
      "Epoch 353/500\n",
      "23/23 [==============================] - 0s 4ms/step - loss: 307.5934 - val_loss: 1961.5447\n",
      "Epoch 354/500\n",
      "23/23 [==============================] - 0s 4ms/step - loss: 307.5935 - val_loss: 1961.5441\n",
      "Epoch 355/500\n",
      "23/23 [==============================] - 0s 4ms/step - loss: 307.5937 - val_loss: 1961.5436\n",
      "Epoch 356/500\n",
      "23/23 [==============================] - 0s 4ms/step - loss: 307.5939 - val_loss: 1961.5437\n",
      "Epoch 357/500\n",
      "23/23 [==============================] - 0s 4ms/step - loss: 307.5939 - val_loss: 1961.5431\n",
      "Epoch 358/500\n",
      "23/23 [==============================] - 0s 4ms/step - loss: 307.5940 - val_loss: 1961.5411\n",
      "Epoch 359/500\n",
      "23/23 [==============================] - 0s 4ms/step - loss: 307.5942 - val_loss: 1961.5416\n",
      "Epoch 360/500\n",
      "23/23 [==============================] - 0s 4ms/step - loss: 307.5944 - val_loss: 1961.5415\n",
      "Epoch 361/500\n",
      "23/23 [==============================] - 0s 7ms/step - loss: 307.5944 - val_loss: 1961.5406\n",
      "Epoch 362/500\n",
      "23/23 [==============================] - 0s 4ms/step - loss: 307.5945 - val_loss: 1961.5399\n",
      "Epoch 363/500\n",
      "23/23 [==============================] - 0s 4ms/step - loss: 307.5947 - val_loss: 1961.5404\n",
      "Epoch 364/500\n",
      "23/23 [==============================] - 0s 4ms/step - loss: 307.5948 - val_loss: 1961.5406\n",
      "Epoch 365/500\n",
      "23/23 [==============================] - 0s 4ms/step - loss: 307.5948 - val_loss: 1961.5399\n",
      "Epoch 366/500\n",
      "23/23 [==============================] - 0s 4ms/step - loss: 307.5949 - val_loss: 1961.5396\n",
      "Epoch 367/500\n",
      "23/23 [==============================] - 0s 4ms/step - loss: 307.5950 - val_loss: 1961.5392\n",
      "Epoch 368/500\n",
      "23/23 [==============================] - 0s 4ms/step - loss: 307.5951 - val_loss: 1961.5386\n",
      "Epoch 369/500\n",
      "23/23 [==============================] - 0s 3ms/step - loss: 307.5952 - val_loss: 1961.5382\n",
      "Epoch 370/500\n",
      "23/23 [==============================] - 0s 4ms/step - loss: 307.5953 - val_loss: 1961.5375\n",
      "Epoch 371/500\n",
      "23/23 [==============================] - 0s 4ms/step - loss: 307.5954 - val_loss: 1961.5375\n",
      "Epoch 372/500\n",
      "23/23 [==============================] - 0s 4ms/step - loss: 307.5956 - val_loss: 1961.5383\n",
      "Epoch 373/500\n",
      "23/23 [==============================] - 0s 4ms/step - loss: 307.5957 - val_loss: 1961.5394\n",
      "Epoch 374/500\n",
      "23/23 [==============================] - 0s 4ms/step - loss: 307.5957 - val_loss: 1961.5396\n",
      "Epoch 375/500\n",
      "23/23 [==============================] - 0s 4ms/step - loss: 307.5958 - val_loss: 1961.5394\n",
      "Epoch 376/500\n",
      "23/23 [==============================] - 0s 4ms/step - loss: 307.5958 - val_loss: 1961.5389\n",
      "Epoch 377/500\n",
      "23/23 [==============================] - 0s 7ms/step - loss: 307.5959 - val_loss: 1961.5389\n",
      "Epoch 378/500\n",
      "23/23 [==============================] - 0s 4ms/step - loss: 307.5961 - val_loss: 1961.5398\n",
      "Epoch 379/500\n",
      "23/23 [==============================] - 0s 4ms/step - loss: 307.5961 - val_loss: 1961.5403\n",
      "Epoch 380/500\n",
      "23/23 [==============================] - 0s 4ms/step - loss: 307.5961 - val_loss: 1961.5392\n",
      "Epoch 381/500\n",
      "23/23 [==============================] - 0s 5ms/step - loss: 307.5962 - val_loss: 1961.5391\n",
      "Epoch 382/500\n",
      "23/23 [==============================] - 0s 5ms/step - loss: 307.5962 - val_loss: 1961.5382\n",
      "Epoch 383/500\n",
      "23/23 [==============================] - 0s 5ms/step - loss: 307.5963 - val_loss: 1961.5375\n",
      "Epoch 384/500\n",
      "23/23 [==============================] - 0s 5ms/step - loss: 307.5964 - val_loss: 1961.5377\n",
      "Epoch 385/500\n",
      "23/23 [==============================] - 0s 5ms/step - loss: 307.5966 - val_loss: 1961.5383\n",
      "Epoch 386/500\n",
      "23/23 [==============================] - 0s 4ms/step - loss: 307.5966 - val_loss: 1961.5378\n",
      "Epoch 387/500\n",
      "23/23 [==============================] - 0s 4ms/step - loss: 307.5966 - val_loss: 1961.5377\n",
      "Epoch 388/500\n",
      "23/23 [==============================] - 0s 4ms/step - loss: 307.5966 - val_loss: 1961.5374\n",
      "Epoch 389/500\n",
      "23/23 [==============================] - 0s 4ms/step - loss: 307.5968 - val_loss: 1961.5380\n",
      "Epoch 390/500\n",
      "23/23 [==============================] - 0s 4ms/step - loss: 307.5967 - val_loss: 1961.5383\n",
      "Epoch 391/500\n",
      "23/23 [==============================] - 0s 7ms/step - loss: 307.5969 - val_loss: 1961.5391\n",
      "Epoch 392/500\n",
      "23/23 [==============================] - 0s 4ms/step - loss: 307.5970 - val_loss: 1961.5402\n",
      "Epoch 393/500\n",
      "23/23 [==============================] - 0s 4ms/step - loss: 307.5970 - val_loss: 1961.5399\n",
      "Epoch 394/500\n",
      "23/23 [==============================] - 0s 4ms/step - loss: 307.5970 - val_loss: 1961.5399\n",
      "Epoch 395/500\n",
      "23/23 [==============================] - 0s 4ms/step - loss: 307.5970 - val_loss: 1961.5383\n",
      "Epoch 396/500\n",
      "23/23 [==============================] - 0s 4ms/step - loss: 307.5971 - val_loss: 1961.5382\n",
      "Epoch 397/500\n",
      "23/23 [==============================] - 0s 3ms/step - loss: 307.5971 - val_loss: 1961.5374\n",
      "Epoch 398/500\n",
      "23/23 [==============================] - 0s 4ms/step - loss: 307.5972 - val_loss: 1961.5374\n",
      "Epoch 399/500\n",
      "23/23 [==============================] - 0s 4ms/step - loss: 307.5973 - val_loss: 1961.5369\n",
      "Epoch 400/500\n",
      "23/23 [==============================] - 0s 4ms/step - loss: 307.5972 - val_loss: 1961.5365\n",
      "Epoch 401/500\n",
      "23/23 [==============================] - 0s 4ms/step - loss: 307.5973 - val_loss: 1961.5359\n",
      "Epoch 402/500\n",
      "23/23 [==============================] - 0s 5ms/step - loss: 307.5974 - val_loss: 1961.5354\n",
      "Epoch 403/500\n",
      "23/23 [==============================] - 0s 4ms/step - loss: 307.5974 - val_loss: 1961.5353\n",
      "Epoch 404/500\n",
      "23/23 [==============================] - 0s 4ms/step - loss: 307.5975 - val_loss: 1961.5354\n",
      "Epoch 405/500\n",
      "23/23 [==============================] - 0s 4ms/step - loss: 307.5976 - val_loss: 1961.5356\n",
      "Epoch 406/500\n",
      "23/23 [==============================] - 0s 4ms/step - loss: 307.5976 - val_loss: 1961.5361\n",
      "Epoch 407/500\n",
      "23/23 [==============================] - 0s 7ms/step - loss: 307.5976 - val_loss: 1961.5363\n",
      "Epoch 408/500\n",
      "23/23 [==============================] - 0s 3ms/step - loss: 307.5976 - val_loss: 1961.5361\n",
      "Epoch 409/500\n",
      "23/23 [==============================] - 0s 4ms/step - loss: 307.5976 - val_loss: 1961.5359\n",
      "Epoch 410/500\n",
      "23/23 [==============================] - 0s 4ms/step - loss: 307.5977 - val_loss: 1961.5353\n",
      "Epoch 411/500\n",
      "23/23 [==============================] - 0s 4ms/step - loss: 307.5978 - val_loss: 1961.5353\n",
      "Epoch 412/500\n",
      "23/23 [==============================] - 0s 5ms/step - loss: 307.5977 - val_loss: 1961.5345\n",
      "Epoch 413/500\n",
      "23/23 [==============================] - 0s 4ms/step - loss: 307.5978 - val_loss: 1961.5338\n",
      "Epoch 414/500\n",
      "23/23 [==============================] - 0s 5ms/step - loss: 307.5978 - val_loss: 1961.5333\n",
      "Epoch 415/500\n",
      "23/23 [==============================] - 0s 5ms/step - loss: 307.5978 - val_loss: 1961.5332\n",
      "Epoch 416/500\n",
      "23/23 [==============================] - 0s 4ms/step - loss: 307.5979 - val_loss: 1961.5330\n",
      "Epoch 417/500\n",
      "23/23 [==============================] - 0s 4ms/step - loss: 307.5980 - val_loss: 1961.5330\n",
      "Epoch 418/500\n",
      "23/23 [==============================] - 0s 4ms/step - loss: 307.5980 - val_loss: 1961.5332\n",
      "Epoch 419/500\n",
      "23/23 [==============================] - 0s 3ms/step - loss: 307.5981 - val_loss: 1961.5333\n",
      "Epoch 420/500\n",
      "23/23 [==============================] - 0s 4ms/step - loss: 307.5981 - val_loss: 1961.5330\n",
      "Epoch 421/500\n",
      "23/23 [==============================] - 0s 7ms/step - loss: 307.5980 - val_loss: 1961.5317\n",
      "Epoch 422/500\n",
      "23/23 [==============================] - 0s 4ms/step - loss: 307.5981 - val_loss: 1961.5317\n",
      "Epoch 423/500\n",
      "23/23 [==============================] - 0s 4ms/step - loss: 307.5981 - val_loss: 1961.5314\n",
      "Epoch 424/500\n",
      "23/23 [==============================] - 0s 3ms/step - loss: 307.5981 - val_loss: 1961.5302\n",
      "Epoch 425/500\n",
      "23/23 [==============================] - 0s 4ms/step - loss: 307.5981 - val_loss: 1961.5299\n",
      "Epoch 426/500\n",
      "23/23 [==============================] - 0s 4ms/step - loss: 307.5981 - val_loss: 1961.5293\n",
      "Epoch 427/500\n",
      "23/23 [==============================] - 0s 4ms/step - loss: 307.5981 - val_loss: 1961.5281\n",
      "Epoch 428/500\n",
      "23/23 [==============================] - 0s 4ms/step - loss: 307.5982 - val_loss: 1961.5269\n",
      "Epoch 429/500\n",
      "23/23 [==============================] - 0s 4ms/step - loss: 307.5982 - val_loss: 1961.5269\n",
      "Epoch 430/500\n",
      "23/23 [==============================] - 0s 4ms/step - loss: 307.5983 - val_loss: 1961.5262\n",
      "Epoch 431/500\n",
      "23/23 [==============================] - 0s 4ms/step - loss: 307.5983 - val_loss: 1961.5260\n",
      "Epoch 432/500\n",
      "23/23 [==============================] - 0s 3ms/step - loss: 307.5984 - val_loss: 1961.5264\n",
      "Epoch 433/500\n",
      "23/23 [==============================] - 0s 4ms/step - loss: 307.5984 - val_loss: 1961.5267\n",
      "Epoch 434/500\n",
      "23/23 [==============================] - 0s 4ms/step - loss: 307.5984 - val_loss: 1961.5272\n",
      "Epoch 435/500\n",
      "23/23 [==============================] - 0s 3ms/step - loss: 307.5984 - val_loss: 1961.5271\n",
      "Epoch 436/500\n",
      "23/23 [==============================] - 0s 4ms/step - loss: 307.5984 - val_loss: 1961.5267\n",
      "Epoch 437/500\n",
      "23/23 [==============================] - 0s 7ms/step - loss: 307.5984 - val_loss: 1961.5260\n",
      "Epoch 438/500\n",
      "23/23 [==============================] - 0s 4ms/step - loss: 307.5984 - val_loss: 1961.5256\n",
      "Epoch 439/500\n",
      "23/23 [==============================] - 0s 4ms/step - loss: 307.5984 - val_loss: 1961.5254\n",
      "Epoch 440/500\n",
      "23/23 [==============================] - 0s 4ms/step - loss: 307.5984 - val_loss: 1961.5248\n",
      "Epoch 441/500\n",
      "23/23 [==============================] - 0s 4ms/step - loss: 307.5984 - val_loss: 1961.5247\n",
      "Epoch 442/500\n",
      "23/23 [==============================] - 0s 4ms/step - loss: 307.5984 - val_loss: 1961.5236\n",
      "Epoch 443/500\n",
      "23/23 [==============================] - 0s 4ms/step - loss: 307.5985 - val_loss: 1961.5234\n",
      "Epoch 444/500\n",
      "23/23 [==============================] - 0s 4ms/step - loss: 307.5985 - val_loss: 1961.5234\n",
      "Epoch 445/500\n",
      "23/23 [==============================] - 0s 4ms/step - loss: 307.5986 - val_loss: 1961.5233\n",
      "Epoch 446/500\n",
      "23/23 [==============================] - 0s 4ms/step - loss: 307.5986 - val_loss: 1961.5239\n",
      "Epoch 447/500\n",
      "23/23 [==============================] - 0s 4ms/step - loss: 307.5986 - val_loss: 1961.5238\n",
      "Epoch 448/500\n",
      "23/23 [==============================] - 0s 4ms/step - loss: 307.5986 - val_loss: 1961.5236\n",
      "Epoch 449/500\n",
      "23/23 [==============================] - 0s 3ms/step - loss: 307.5986 - val_loss: 1961.5231\n",
      "Epoch 450/500\n",
      "23/23 [==============================] - 0s 3ms/step - loss: 307.5987 - val_loss: 1961.5229\n",
      "Epoch 451/500\n",
      "23/23 [==============================] - 0s 4ms/step - loss: 307.5987 - val_loss: 1961.5234\n",
      "Epoch 452/500\n",
      "23/23 [==============================] - 0s 7ms/step - loss: 307.5987 - val_loss: 1961.5234\n",
      "Epoch 453/500\n",
      "23/23 [==============================] - 0s 4ms/step - loss: 307.5987 - val_loss: 1961.5234\n",
      "Epoch 454/500\n",
      "23/23 [==============================] - 0s 3ms/step - loss: 307.5987 - val_loss: 1961.5233\n",
      "Epoch 455/500\n",
      "23/23 [==============================] - 0s 4ms/step - loss: 307.5987 - val_loss: 1961.5231\n",
      "Epoch 456/500\n",
      "23/23 [==============================] - 0s 4ms/step - loss: 307.5988 - val_loss: 1961.5236\n",
      "Epoch 457/500\n",
      "23/23 [==============================] - 0s 4ms/step - loss: 307.5988 - val_loss: 1961.5236\n",
      "Epoch 458/500\n",
      "23/23 [==============================] - 0s 3ms/step - loss: 307.5988 - val_loss: 1961.5233\n",
      "Epoch 459/500\n",
      "23/23 [==============================] - 0s 3ms/step - loss: 307.5988 - val_loss: 1961.5234\n",
      "Epoch 460/500\n",
      "23/23 [==============================] - 0s 4ms/step - loss: 307.5988 - val_loss: 1961.5233\n",
      "Epoch 461/500\n",
      "23/23 [==============================] - 0s 4ms/step - loss: 307.5988 - val_loss: 1961.5227\n",
      "Epoch 462/500\n",
      "23/23 [==============================] - 0s 3ms/step - loss: 307.5988 - val_loss: 1961.5222\n",
      "Epoch 463/500\n",
      "23/23 [==============================] - 0s 3ms/step - loss: 307.5988 - val_loss: 1961.5219\n",
      "Epoch 464/500\n",
      "23/23 [==============================] - 0s 4ms/step - loss: 307.5988 - val_loss: 1961.5215\n",
      "Epoch 465/500\n",
      "23/23 [==============================] - 0s 4ms/step - loss: 307.5988 - val_loss: 1961.5214\n",
      "Epoch 466/500\n",
      "23/23 [==============================] - 0s 7ms/step - loss: 307.5988 - val_loss: 1961.5206\n",
      "Epoch 467/500\n",
      "23/23 [==============================] - 0s 3ms/step - loss: 307.5988 - val_loss: 1961.5205\n",
      "Epoch 468/500\n",
      "23/23 [==============================] - 0s 3ms/step - loss: 307.5988 - val_loss: 1961.5197\n",
      "Epoch 469/500\n",
      "23/23 [==============================] - 0s 4ms/step - loss: 307.5988 - val_loss: 1961.5197\n",
      "Epoch 470/500\n",
      "23/23 [==============================] - 0s 4ms/step - loss: 307.5988 - val_loss: 1961.5194\n",
      "Epoch 471/500\n",
      "23/23 [==============================] - 0s 4ms/step - loss: 307.5988 - val_loss: 1961.5197\n",
      "Epoch 472/500\n",
      "23/23 [==============================] - 0s 5ms/step - loss: 307.5989 - val_loss: 1961.5200\n",
      "Epoch 473/500\n",
      "23/23 [==============================] - 0s 5ms/step - loss: 307.5989 - val_loss: 1961.5200\n",
      "Epoch 474/500\n",
      "23/23 [==============================] - 0s 6ms/step - loss: 307.5989 - val_loss: 1961.5198\n",
      "Epoch 475/500\n",
      "23/23 [==============================] - 0s 4ms/step - loss: 307.5989 - val_loss: 1961.5197\n",
      "Epoch 476/500\n",
      "23/23 [==============================] - 0s 4ms/step - loss: 307.5990 - val_loss: 1961.5194\n",
      "Epoch 477/500\n",
      "23/23 [==============================] - 0s 4ms/step - loss: 307.5990 - val_loss: 1961.5200\n",
      "Epoch 478/500\n",
      "23/23 [==============================] - 0s 4ms/step - loss: 307.5989 - val_loss: 1961.5198\n",
      "Epoch 479/500\n",
      "23/23 [==============================] - 0s 4ms/step - loss: 307.5989 - val_loss: 1961.5197\n",
      "Epoch 480/500\n",
      "23/23 [==============================] - 0s 7ms/step - loss: 307.5990 - val_loss: 1961.5194\n",
      "Epoch 481/500\n",
      "23/23 [==============================] - 0s 4ms/step - loss: 307.5990 - val_loss: 1961.5194\n",
      "Epoch 482/500\n",
      "23/23 [==============================] - 0s 4ms/step - loss: 307.5991 - val_loss: 1961.5200\n",
      "Epoch 483/500\n",
      "23/23 [==============================] - 0s 4ms/step - loss: 307.5990 - val_loss: 1961.5201\n",
      "Epoch 484/500\n",
      "23/23 [==============================] - 0s 4ms/step - loss: 307.5990 - val_loss: 1961.5209\n",
      "Epoch 485/500\n",
      "23/23 [==============================] - 0s 4ms/step - loss: 307.5990 - val_loss: 1961.5210\n",
      "Epoch 486/500\n",
      "23/23 [==============================] - 0s 3ms/step - loss: 307.5990 - val_loss: 1961.5205\n",
      "Epoch 487/500\n",
      "23/23 [==============================] - 0s 4ms/step - loss: 307.5990 - val_loss: 1961.5200\n",
      "Epoch 488/500\n",
      "23/23 [==============================] - 0s 4ms/step - loss: 307.5991 - val_loss: 1961.5190\n",
      "Epoch 489/500\n",
      "23/23 [==============================] - 0s 4ms/step - loss: 307.5991 - val_loss: 1961.5188\n",
      "Epoch 490/500\n",
      "23/23 [==============================] - 0s 4ms/step - loss: 307.5990 - val_loss: 1961.5178\n",
      "Epoch 491/500\n",
      "23/23 [==============================] - 0s 4ms/step - loss: 307.5991 - val_loss: 1961.5177\n",
      "Epoch 492/500\n",
      "23/23 [==============================] - 0s 4ms/step - loss: 307.5991 - val_loss: 1961.5176\n",
      "Epoch 493/500\n",
      "23/23 [==============================] - 0s 4ms/step - loss: 307.5991 - val_loss: 1961.5173\n",
      "Epoch 494/500\n",
      "23/23 [==============================] - 0s 8ms/step - loss: 307.5991 - val_loss: 1961.5170\n",
      "Epoch 495/500\n",
      "23/23 [==============================] - 0s 4ms/step - loss: 307.5991 - val_loss: 1961.5168\n",
      "Epoch 496/500\n",
      "23/23 [==============================] - 0s 4ms/step - loss: 307.5991 - val_loss: 1961.5167\n",
      "Epoch 497/500\n",
      "23/23 [==============================] - 0s 4ms/step - loss: 307.5991 - val_loss: 1961.5164\n",
      "Epoch 498/500\n",
      "23/23 [==============================] - 0s 4ms/step - loss: 307.5991 - val_loss: 1961.5161\n",
      "Epoch 499/500\n",
      "23/23 [==============================] - 0s 4ms/step - loss: 307.5991 - val_loss: 1961.5160\n",
      "Epoch 500/500\n",
      "23/23 [==============================] - 0s 4ms/step - loss: 307.5991 - val_loss: 1961.5156\n"
     ]
    }
   ],
   "source": [
    "C0 = tf.Variable(86.8407, name=\"C0\", trainable=True, dtype=tf.float32)\n",
    "K0 = tf.Variable(-0.0015, name=\"K0\", trainable=True, dtype=tf.float32)\n",
    "K1 = tf.Variable(-0.0001, name=\"K1\", trainable=True, dtype=tf.float32)\n",
    "a = tf.Variable(0.0000, name=\"a\", trainable=True, dtype=tf.float32)\n",
    "b = tf.Variable(0.0118, name=\"b\", trainable=True, dtype=tf.float32)\n",
    "c = tf.Variable(2.5775, name=\"c\", trainable=True, dtype=tf.float32)\n",
    "\n",
    "splitr = 0.8\n",
    "\n",
    "\n",
    "def loss_fn(y_true, y_pred):\n",
    "    squared_difference = tf.square(y_true[:, 0] - y_pred[:, 0])\n",
    "    #squared_difference2 = tf.square(y_true[:, 2]-y_pred[:, 2])\n",
    "    #squared_difference1 = tf.square(y_true[:, 1]-y_pred[:, 1])\n",
    "    epsilon = 1\n",
    "    squared_difference3 = tf.square(\n",
    "        y_pred[:, 1] - (\n",
    "            y_pred[:, 0] * (\n",
    "                K0 - K1 * (\n",
    "                    9 * a * tf.math.log((y_pred[:, 0] + epsilon) / C0) / (K0 - K1 * c)**2 +\n",
    "                    4 * b * tf.math.log((y_pred[:, 0] + epsilon) / C0) / (K0 - K1 * c) + c\n",
    "                )\n",
    "            )\n",
    "        )\n",
    "    )\n",
    "    return tf.reduce_mean(squared_difference, axis=-1) + 0.2*tf.reduce_mean(squared_difference3, axis=-1)\n",
    "model = Sequential()\n",
    "model.add(LSTM(100, input_shape=(trainX.shape[1], trainX.shape[2])))\n",
    "model.add(Dense(60))\n",
    "model.compile(loss=loss_fn, optimizer='adam')\n",
    "history = model.fit(trainX[:int(splitr*trainX.shape[0])], trainy[:int(splitr*trainX.shape[0])], epochs=500, batch_size=64, validation_data=(trainX[int(splitr*trainX.shape[0]):trainX.shape[0]], trainy[int(splitr*trainX.shape[0]):trainX.shape[0]]), shuffle=False)"
   ]
  },
  {
   "cell_type": "code",
   "execution_count": 19,
   "metadata": {
    "colab": {
     "base_uri": "https://localhost:8080/"
    },
    "id": "yJL101rPyuoT",
    "outputId": "239ff2b1-c186-423a-d316-939dfdd7c793"
   },
   "outputs": [
    {
     "name": "stdout",
     "output_type": "stream",
     "text": [
      "1/1 [==============================] - 0s 342ms/step\n"
     ]
    }
   ],
   "source": [
    "forecast_without_mc = forecastX\n",
    "yhat_without_mc = model.predict(forecast_without_mc) # Step Ahead Prediction\n",
    "forecast_without_mc = forecast_without_mc.reshape((forecast_without_mc.shape[0], forecast_without_mc.shape[2])) # Historical Input"
   ]
  },
  {
   "cell_type": "code",
   "execution_count": 20,
   "metadata": {
    "colab": {
     "base_uri": "https://localhost:8080/"
    },
    "id": "g9dQELcJ8wbp",
    "outputId": "4dc7671b-b1a8-48d5-8744-a86f98446109"
   },
   "outputs": [
    {
     "data": {
      "text/plain": [
       "(1, 1, 251)"
      ]
     },
     "execution_count": 20,
     "metadata": {},
     "output_type": "execute_result"
    }
   ],
   "source": [
    "forecastX.shape"
   ]
  },
  {
   "cell_type": "code",
   "execution_count": 21,
   "metadata": {
    "colab": {
     "base_uri": "https://localhost:8080/"
    },
    "id": "IS2kyIKG1Kbr",
    "outputId": "f31b3485-8e26-452f-9298-ea8bf7e80ad1"
   },
   "outputs": [
    {
     "data": {
      "text/plain": [
       "(1, 251)"
      ]
     },
     "execution_count": 21,
     "metadata": {},
     "output_type": "execute_result"
    }
   ],
   "source": [
    "forecast_without_mc.shape"
   ]
  },
  {
   "cell_type": "code",
   "execution_count": 22,
   "metadata": {
    "id": "0u6VIzaDyuoT"
   },
   "outputs": [],
   "source": [
    "inv_yhat_without_mc = np.concatenate((forecast_without_mc, yhat_without_mc), axis=1) # Concatenation of predicted values with Historical Data\n",
    "#inv_yhat_without_mc = scaler.inverse_transform(inv_yhat_without_mc) # Transform labels back to original encoding"
   ]
  },
  {
   "cell_type": "code",
   "execution_count": 23,
   "metadata": {
    "colab": {
     "base_uri": "https://localhost:8080/"
    },
    "id": "EUEcw0LX07oU",
    "outputId": "cfc32397-9c37-4b43-d087-584bb31c3dcc"
   },
   "outputs": [
    {
     "data": {
      "text/plain": [
       "(1, 311)"
      ]
     },
     "execution_count": 23,
     "metadata": {},
     "output_type": "execute_result"
    }
   ],
   "source": [
    "inv_yhat_without_mc.shape"
   ]
  },
  {
   "cell_type": "code",
   "execution_count": 24,
   "metadata": {
    "id": "31OWVbSh_305"
   },
   "outputs": [],
   "source": [
    "fforecast = inv_yhat_without_mc[:,-300:]"
   ]
  },
  {
   "cell_type": "code",
   "execution_count": 25,
   "metadata": {},
   "outputs": [
    {
     "data": {
      "text/plain": [
       "(1, 300)"
      ]
     },
     "execution_count": 25,
     "metadata": {},
     "output_type": "execute_result"
    }
   ],
   "source": [
    "fforecast.shape"
   ]
  },
  {
   "cell_type": "code",
   "execution_count": 26,
   "metadata": {
    "id": "BlpGH2FOAiRF"
   },
   "outputs": [],
   "source": [
    "final_forecast = fforecast[:,0:300:3]"
   ]
  },
  {
   "cell_type": "code",
   "execution_count": 27,
   "metadata": {},
   "outputs": [
    {
     "data": {
      "text/plain": [
       "(1, 300)"
      ]
     },
     "execution_count": 27,
     "metadata": {},
     "output_type": "execute_result"
    }
   ],
   "source": [
    "fforecast.shape"
   ]
  },
  {
   "cell_type": "code",
   "execution_count": 28,
   "metadata": {
    "id": "CXkgkj_LBk_t"
   },
   "outputs": [],
   "source": [
    "# code to replace all negative value with 0\n",
    "final_forecast[final_forecast<0] = 0"
   ]
  },
  {
   "cell_type": "code",
   "execution_count": 29,
   "metadata": {},
   "outputs": [
    {
     "data": {
      "text/plain": [
       "array([[6.97488795e+01, 6.96969188e+01, 6.95960784e+01, 6.94952381e+01,\n",
       "        7.56711883e+01, 0.00000000e+00, 0.00000000e+00, 7.19164540e-02,\n",
       "        8.54255438e-01, 0.00000000e+00, 1.97798982e-01, 0.00000000e+00,\n",
       "        3.59862149e-01, 7.19840383e+01, 7.19789963e+01, 7.19739543e+01,\n",
       "        6.11796200e-01, 0.00000000e+00, 7.04867647e+01, 7.00077731e+01,\n",
       "        6.98609244e+01, 6.98105042e+01, 6.97600840e+01, 6.97096639e+01,\n",
       "        6.96184874e+01, 6.95176471e+01, 6.94168067e+01, 0.00000000e+00,\n",
       "        5.38560090e-01, 6.97806256e+01, 6.97302054e+01, 6.96595705e+01,\n",
       "        6.95587302e+01, 6.94578898e+01, 7.32506536e+01, 7.21918301e+01,\n",
       "        7.08947946e+01, 0.00000000e+00, 0.00000000e+00, 3.83580270e-01,\n",
       "        0.00000000e+00, 3.43769310e-01, 2.39154880e-01, 0.00000000e+00,\n",
       "        6.61508080e-01, 0.00000000e+00, 0.00000000e+00, 6.95400560e+01,\n",
       "        6.94392157e+01, 0.00000000e+00, 0.00000000e+00, 6.97918301e+01,\n",
       "        6.97414099e+01, 6.96819795e+01, 6.95811391e+01, 6.94802988e+01,\n",
       "        7.34859477e+01, 7.24271242e+01, 7.12141223e+01, 0.00000000e+00,\n",
       "        2.06821650e-01, 0.00000000e+00, 6.95213819e+01, 6.94205415e+01,\n",
       "        7.28584967e+01, 7.17995565e+01, 7.03625817e+01, 7.22964052e+01,\n",
       "        7.21036718e+01, 7.19868394e+01, 0.00000000e+00, 3.09567900e-01,\n",
       "        4.72652300e-01, 6.92632141e+01, 1.20388903e-01, 0.00000000e+00,\n",
       "        0.00000000e+00, 0.00000000e+00, 4.21908500e-03, 3.13862383e-01,\n",
       "        6.81857224e+01, 0.00000000e+00, 0.00000000e+00, 0.00000000e+00,\n",
       "        2.93289155e-01, 3.29637855e-01, 1.84754193e-01, 0.00000000e+00,\n",
       "        9.67586040e-01, 2.29455024e-01, 6.35351896e-01, 4.79979366e-01,\n",
       "        5.80257058e-01, 2.61133388e-02, 3.94952774e-01, 1.58226490e+00,\n",
       "        0.00000000e+00, 8.04931998e-01, 2.01332867e-02, 2.69504964e-01]])"
      ]
     },
     "execution_count": 29,
     "metadata": {},
     "output_type": "execute_result"
    }
   ],
   "source": [
    "final_forecast"
   ]
  },
  {
   "cell_type": "code",
   "execution_count": 30,
   "metadata": {},
   "outputs": [
    {
     "data": {
      "text/plain": [
       "(1, 100)"
      ]
     },
     "execution_count": 30,
     "metadata": {},
     "output_type": "execute_result"
    }
   ],
   "source": [
    "final_forecast.shape"
   ]
  },
  {
   "cell_type": "code",
   "execution_count": 31,
   "metadata": {},
   "outputs": [
    {
     "data": {
      "text/plain": [
       "(100,)"
      ]
     },
     "execution_count": 31,
     "metadata": {},
     "output_type": "execute_result"
    }
   ],
   "source": [
    "test.shape"
   ]
  },
  {
   "cell_type": "code",
   "execution_count": 32,
   "metadata": {},
   "outputs": [],
   "source": [
    "training_set = np.array(training_set)\n",
    "test = np.array(test)\n",
    "final_forecast = np.array(final_forecast.squeeze(0))"
   ]
  },
  {
   "cell_type": "code",
   "execution_count": 33,
   "metadata": {},
   "outputs": [
    {
     "data": {
      "text/plain": [
       "array([61.5733552 , 61.56543007, 61.55750495, 61.54957983, 61.54165471,\n",
       "       61.53372959, 61.52580447, 61.51787935, 61.50995423, 61.5020291 ,\n",
       "       61.49410398, 61.48617886, 61.47825374, 61.47032862, 61.4624035 ,\n",
       "       61.45447838, 61.44655326, 61.43862813, 61.43070301, 61.42277789,\n",
       "       61.41485277, 61.40692765, 61.39900253, 61.39107741, 61.38315229,\n",
       "       61.37522716, 61.36730204, 61.35937692, 61.3514518 , 61.34352668,\n",
       "       61.33560156, 61.32767644, 61.31975132, 61.31182619, 61.30390107,\n",
       "       61.29597595, 61.28805083, 61.28012571, 61.27220059, 61.26427547,\n",
       "       61.25635035, 61.24842522, 61.2405001 , 61.23257498, 61.22464986,\n",
       "       61.21672474, 61.20879962, 61.2008745 , 61.19294937, 61.18502425,\n",
       "       61.17709913, 61.16917401, 61.16124889, 61.15332377, 61.14539865,\n",
       "       61.13747353, 61.1295484 , 61.12162328, 61.11369816, 61.10577304,\n",
       "       61.09784792, 61.0899228 , 61.08199768, 61.07407256, 61.06614743,\n",
       "       61.05822231, 61.05029719, 61.04237207, 61.03444695, 61.02652183,\n",
       "       61.01859671, 61.01067159, 61.00274646, 60.99482134, 60.98689622,\n",
       "       60.9789711 , 60.97104598, 60.96312086, 60.95519574, 60.94727062,\n",
       "       60.93934549, 60.93142037, 60.92349525, 60.91557013, 60.90764501,\n",
       "       60.89971989, 60.89179477, 60.88386965, 60.87594452, 60.8680194 ,\n",
       "       60.86009428, 60.85216916, 60.84424404, 60.83631892, 60.8283938 ,\n",
       "       60.82046868, 60.81254355, 60.80461843, 60.79669331, 60.78876819])"
      ]
     },
     "execution_count": 33,
     "metadata": {},
     "output_type": "execute_result"
    }
   ],
   "source": [
    "test"
   ]
  },
  {
   "cell_type": "code",
   "execution_count": 34,
   "metadata": {},
   "outputs": [
    {
     "data": {
      "text/plain": [
       "(100,)"
      ]
     },
     "execution_count": 34,
     "metadata": {},
     "output_type": "execute_result"
    }
   ],
   "source": [
    "test.shape"
   ]
  },
  {
   "cell_type": "code",
   "execution_count": 35,
   "metadata": {},
   "outputs": [
    {
     "data": {
      "text/plain": [
       "(100,)"
      ]
     },
     "execution_count": 35,
     "metadata": {},
     "output_type": "execute_result"
    }
   ],
   "source": [
    "final_forecast.shape"
   ]
  },
  {
   "cell_type": "code",
   "execution_count": 36,
   "metadata": {},
   "outputs": [
    {
     "data": {
      "text/plain": [
       "(100,)"
      ]
     },
     "execution_count": 36,
     "metadata": {},
     "output_type": "execute_result"
    }
   ],
   "source": [
    "test.shape"
   ]
  },
  {
   "cell_type": "code",
   "execution_count": 37,
   "metadata": {},
   "outputs": [
    {
     "name": "stdout",
     "output_type": "stream",
     "text": [
      "45.59007654783532\n",
      "37.66286774066848\n"
     ]
    }
   ],
   "source": [
    "import math\n",
    "MSE = np.square(np.subtract(np.array(test),np.array(final_forecast))).mean()   \n",
    "rsme = math.sqrt(MSE)\n",
    "print(rsme)  \n",
    "MAE = np.abs(np.subtract(np.array(test),np.array(final_forecast))).mean()   \n",
    "mae = MAE\n",
    "print(mae)"
   ]
  }
 ],
 "metadata": {
  "colab": {
   "provenance": []
  },
  "kernelspec": {
   "display_name": "Python 3",
   "language": "python",
   "name": "python3"
  },
  "language_info": {
   "codemirror_mode": {
    "name": "ipython",
    "version": 3
   },
   "file_extension": ".py",
   "mimetype": "text/x-python",
   "name": "python",
   "nbconvert_exporter": "python",
   "pygments_lexer": "ipython3",
   "version": "3.9.13"
  }
 },
 "nbformat": 4,
 "nbformat_minor": 0
}
