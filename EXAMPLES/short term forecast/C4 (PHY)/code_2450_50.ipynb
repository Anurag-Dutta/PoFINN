{
 "cells": [
  {
   "cell_type": "markdown",
   "metadata": {
    "id": "pCGKeZ2gyuoQ"
   },
   "source": [
    "_Importing Required Libraries_"
   ]
  },
  {
   "cell_type": "code",
   "execution_count": 1,
   "metadata": {
    "colab": {
     "base_uri": "https://localhost:8080/"
    },
    "id": "A-6LN-zXiLcM",
    "outputId": "4de610a4-f8b8-4f49-c6c0-89de299ccedc"
   },
   "outputs": [
    {
     "name": "stdout",
     "output_type": "stream",
     "text": [
      "Requirement already satisfied: hampel in c:\\users\\anurag dutta\\appdata\\local\\packages\\pythonsoftwarefoundation.python.3.9_qbz5n2kfra8p0\\localcache\\local-packages\\python39\\site-packages (0.0.5)\n",
      "Requirement already satisfied: numpy in c:\\users\\anurag dutta\\appdata\\local\\packages\\pythonsoftwarefoundation.python.3.9_qbz5n2kfra8p0\\localcache\\local-packages\\python39\\site-packages (from hampel) (1.26.4)\n",
      "Requirement already satisfied: pandas in c:\\users\\anurag dutta\\appdata\\local\\packages\\pythonsoftwarefoundation.python.3.9_qbz5n2kfra8p0\\localcache\\local-packages\\python39\\site-packages (from hampel) (1.5.2)\n",
      "Requirement already satisfied: python-dateutil>=2.8.1 in c:\\users\\anurag dutta\\appdata\\local\\packages\\pythonsoftwarefoundation.python.3.9_qbz5n2kfra8p0\\localcache\\local-packages\\python39\\site-packages (from pandas->hampel) (2.8.2)\n",
      "Requirement already satisfied: pytz>=2020.1 in c:\\users\\anurag dutta\\appdata\\local\\packages\\pythonsoftwarefoundation.python.3.9_qbz5n2kfra8p0\\localcache\\local-packages\\python39\\site-packages (from pandas->hampel) (2023.3.post1)\n",
      "Requirement already satisfied: six>=1.5 in c:\\users\\anurag dutta\\appdata\\local\\packages\\pythonsoftwarefoundation.python.3.9_qbz5n2kfra8p0\\localcache\\local-packages\\python39\\site-packages (from python-dateutil>=2.8.1->pandas->hampel) (1.16.0)\n",
      "Note: you may need to restart the kernel to use updated packages.\n"
     ]
    },
    {
     "name": "stderr",
     "output_type": "stream",
     "text": [
      "\n",
      "[notice] A new release of pip is available: 24.2 -> 24.3.1\n",
      "[notice] To update, run: C:\\Users\\Anurag Dutta\\AppData\\Local\\Microsoft\\WindowsApps\\PythonSoftwareFoundation.Python.3.9_qbz5n2kfra8p0\\python.exe -m pip install --upgrade pip\n"
     ]
    }
   ],
   "source": [
    "pip install hampel"
   ]
  },
  {
   "cell_type": "code",
   "execution_count": 2,
   "metadata": {
    "id": "By_d9uXpaFvZ"
   },
   "outputs": [],
   "source": [
    "from keras.models import Sequential\n",
    "from keras.layers import Dense\n",
    "from keras.layers import LSTM\n",
    "from keras.layers import Dropout\n",
    "import keras\n",
    "import tensorflow as tf\n",
    "from hampel import hampel\n",
    "import numpy as np\n",
    "import matplotlib.pyplot as plt\n",
    "import pandas as pd\n",
    "from sklearn.preprocessing import MinMaxScaler\n",
    "from sklearn.metrics import mean_squared_error, mean_absolute_error\n",
    "from math import sqrt\n",
    "from matplotlib import pyplot\n",
    "from numpy import array"
   ]
  },
  {
   "cell_type": "markdown",
   "metadata": {
    "id": "JyOjBMFayuoR"
   },
   "source": [
    "## Pretraining"
   ]
  },
  {
   "cell_type": "markdown",
   "metadata": {
    "id": "-5QqIY_GyuoR"
   },
   "source": [
    "The `capa_intermittency.dat` feeds the model with the dynamics of the Capacitor"
   ]
  },
  {
   "cell_type": "code",
   "execution_count": 3,
   "metadata": {
    "id": "9dV4a8yfyuoR"
   },
   "outputs": [],
   "source": [
    "data = np.genfromtxt('capa_intermittency.dat')\n",
    "training_set = pd.DataFrame(data).reset_index(drop=True)\n",
    "training_set = training_set.iloc[:,0]"
   ]
  },
  {
   "cell_type": "markdown",
   "metadata": {
    "id": "i7easoxByuoR"
   },
   "source": [
    "## Computing the Gradient"
   ]
  },
  {
   "cell_type": "markdown",
   "metadata": {
    "id": "5SnyolJTyuoR"
   },
   "source": [
    "_Calculating the value of_ $\\frac{dx}{dt}$"
   ]
  },
  {
   "cell_type": "code",
   "execution_count": 4,
   "metadata": {
    "colab": {
     "base_uri": "https://localhost:8080/"
    },
    "id": "wmIbVfIvyuoR",
    "outputId": "aa4e3136-c854-465d-d2e9-81cfd546e440"
   },
   "outputs": [
    {
     "name": "stdout",
     "output_type": "stream",
     "text": [
      "1.0\n",
      "1        0.000298\n",
      "2        0.000298\n",
      "3        0.000297\n",
      "4        0.000297\n",
      "5        0.000297\n",
      "           ...   \n",
      "9996     0.000018\n",
      "9997     0.000018\n",
      "9998     0.000018\n",
      "9999     0.000018\n",
      "10000    0.000018\n",
      "Name: 0, Length: 10000, dtype: float64\n"
     ]
    }
   ],
   "source": [
    "t_diff = 1\n",
    "print(training_set.max())\n",
    "gradient_t = (training_set.diff()/t_diff).iloc[1:] # dx/dt\n",
    "print(gradient_t)"
   ]
  },
  {
   "cell_type": "markdown",
   "metadata": {
    "id": "_2eVeeoxyuoS"
   },
   "source": [
    "## Loading Datasets"
   ]
  },
  {
   "cell_type": "code",
   "execution_count": 5,
   "metadata": {
    "id": "0J-NKyIEyuoS"
   },
   "outputs": [
    {
     "data": {
      "text/plain": [
       "0       88.600000\n",
       "1       88.409524\n",
       "2       88.219048\n",
       "3       88.028571\n",
       "4       87.838095\n",
       "          ...    \n",
       "2495    55.049190\n",
       "2496    55.036893\n",
       "2497    55.024595\n",
       "2498    55.012298\n",
       "2499    55.000000\n",
       "Name: C4, Length: 2500, dtype: float64"
      ]
     },
     "execution_count": 5,
     "metadata": {},
     "output_type": "execute_result"
    }
   ],
   "source": [
    "data = pd.read_csv(\"c4_interpolated_2450_50.csv\")\n",
    "training_set = data.iloc[:, 1]\n",
    "training_set"
   ]
  },
  {
   "cell_type": "code",
   "execution_count": 6,
   "metadata": {
    "colab": {
     "base_uri": "https://localhost:8080/"
    },
    "id": "-CbNUhJ74UqF",
    "outputId": "20f562d8-8247-49cc-b9c3-00eca5e13e2d"
   },
   "outputs": [
    {
     "data": {
      "text/plain": [
       "0       88.600000\n",
       "1       88.409524\n",
       "2       88.219048\n",
       "3       88.028571\n",
       "4       87.838095\n",
       "          ...    \n",
       "2445     0.000000\n",
       "2446     0.530742\n",
       "2447     0.000000\n",
       "2448     0.765768\n",
       "2449     0.000000\n",
       "Name: C4, Length: 2450, dtype: float64"
      ]
     },
     "execution_count": 6,
     "metadata": {},
     "output_type": "execute_result"
    }
   ],
   "source": [
    "test = training_set.tail(50)\n",
    "test\n",
    "training_set = training_set.head(2450)\n",
    "training_set"
   ]
  },
  {
   "cell_type": "code",
   "execution_count": 7,
   "metadata": {
    "colab": {
     "base_uri": "https://localhost:8080/"
    },
    "id": "X0TwTcq0yuoS",
    "outputId": "37252ed8-d88e-4044-fa7a-922411990b5b"
   },
   "outputs": [
    {
     "name": "stdout",
     "output_type": "stream",
     "text": [
      "0       0.000298\n",
      "1       0.000298\n",
      "2       0.000297\n",
      "3       0.000297\n",
      "4       0.000297\n",
      "          ...   \n",
      "9995    0.000018\n",
      "9996    0.000018\n",
      "9997    0.000018\n",
      "9998    0.000018\n",
      "9999    0.000018\n",
      "Name: 0, Length: 10000, dtype: float64\n"
     ]
    }
   ],
   "source": [
    "training_set = training_set.reset_index(drop=True)\n",
    "gradient_t = gradient_t.reset_index(drop=True)\n",
    "print(gradient_t)"
   ]
  },
  {
   "cell_type": "code",
   "execution_count": 8,
   "metadata": {
    "id": "O2biznZQyuoS"
   },
   "outputs": [],
   "source": [
    "df = pd.concat((training_set, gradient_t), axis=1)\n",
    "df.columns = ['y_t', 'grad_t']"
   ]
  },
  {
   "cell_type": "code",
   "execution_count": 9,
   "metadata": {
    "colab": {
     "base_uri": "https://localhost:8080/",
     "height": 423
    },
    "id": "sk_a5v3tyuoS",
    "outputId": "17563625-e550-45ae-faab-fafa353e44da"
   },
   "outputs": [
    {
     "data": {
      "text/html": [
       "<div>\n",
       "<style scoped>\n",
       "    .dataframe tbody tr th:only-of-type {\n",
       "        vertical-align: middle;\n",
       "    }\n",
       "\n",
       "    .dataframe tbody tr th {\n",
       "        vertical-align: top;\n",
       "    }\n",
       "\n",
       "    .dataframe thead th {\n",
       "        text-align: right;\n",
       "    }\n",
       "</style>\n",
       "<table border=\"1\" class=\"dataframe\">\n",
       "  <thead>\n",
       "    <tr style=\"text-align: right;\">\n",
       "      <th></th>\n",
       "      <th>y_t</th>\n",
       "      <th>grad_t</th>\n",
       "    </tr>\n",
       "  </thead>\n",
       "  <tbody>\n",
       "    <tr>\n",
       "      <th>0</th>\n",
       "      <td>88.600000</td>\n",
       "      <td>0.000298</td>\n",
       "    </tr>\n",
       "    <tr>\n",
       "      <th>1</th>\n",
       "      <td>88.409524</td>\n",
       "      <td>0.000298</td>\n",
       "    </tr>\n",
       "    <tr>\n",
       "      <th>2</th>\n",
       "      <td>88.219048</td>\n",
       "      <td>0.000297</td>\n",
       "    </tr>\n",
       "    <tr>\n",
       "      <th>3</th>\n",
       "      <td>88.028571</td>\n",
       "      <td>0.000297</td>\n",
       "    </tr>\n",
       "    <tr>\n",
       "      <th>4</th>\n",
       "      <td>87.838095</td>\n",
       "      <td>0.000297</td>\n",
       "    </tr>\n",
       "    <tr>\n",
       "      <th>...</th>\n",
       "      <td>...</td>\n",
       "      <td>...</td>\n",
       "    </tr>\n",
       "    <tr>\n",
       "      <th>9995</th>\n",
       "      <td>NaN</td>\n",
       "      <td>0.000018</td>\n",
       "    </tr>\n",
       "    <tr>\n",
       "      <th>9996</th>\n",
       "      <td>NaN</td>\n",
       "      <td>0.000018</td>\n",
       "    </tr>\n",
       "    <tr>\n",
       "      <th>9997</th>\n",
       "      <td>NaN</td>\n",
       "      <td>0.000018</td>\n",
       "    </tr>\n",
       "    <tr>\n",
       "      <th>9998</th>\n",
       "      <td>NaN</td>\n",
       "      <td>0.000018</td>\n",
       "    </tr>\n",
       "    <tr>\n",
       "      <th>9999</th>\n",
       "      <td>NaN</td>\n",
       "      <td>0.000018</td>\n",
       "    </tr>\n",
       "  </tbody>\n",
       "</table>\n",
       "<p>10000 rows × 2 columns</p>\n",
       "</div>"
      ],
      "text/plain": [
       "            y_t    grad_t\n",
       "0     88.600000  0.000298\n",
       "1     88.409524  0.000298\n",
       "2     88.219048  0.000297\n",
       "3     88.028571  0.000297\n",
       "4     87.838095  0.000297\n",
       "...         ...       ...\n",
       "9995        NaN  0.000018\n",
       "9996        NaN  0.000018\n",
       "9997        NaN  0.000018\n",
       "9998        NaN  0.000018\n",
       "9999        NaN  0.000018\n",
       "\n",
       "[10000 rows x 2 columns]"
      ]
     },
     "execution_count": 9,
     "metadata": {},
     "output_type": "execute_result"
    }
   ],
   "source": [
    "df"
   ]
  },
  {
   "cell_type": "markdown",
   "metadata": {
    "id": "-5esyHu5aFvg"
   },
   "source": [
    "## Plot of the External Forcing from Chaotic Differential Equation"
   ]
  },
  {
   "cell_type": "code",
   "execution_count": 10,
   "metadata": {
    "colab": {
     "base_uri": "https://localhost:8080/",
     "height": 447
    },
    "id": "hGnE43tOh-4p",
    "outputId": "fc396503-b624-4fa5-dfbe-f460207405c6"
   },
   "outputs": [
    {
     "data": {
      "text/plain": [
       "<Axes: >"
      ]
     },
     "execution_count": 10,
     "metadata": {},
     "output_type": "execute_result"
    },
    {
     "data": {
      "image/png": "[encoded data removed]",
      "text/plain": [
       "<Figure size 432x288 with 1 Axes>"
      ]
     },
     "metadata": {
      "needs_background": "light"
     },
     "output_type": "display_data"
    }
   ],
   "source": [
    "df.iloc[:, 0].plot()"
   ]
  },
  {
   "cell_type": "code",
   "execution_count": 11,
   "metadata": {
    "colab": {
     "base_uri": "https://localhost:8080/",
     "height": 447
    },
    "id": "ym4xWUUxaFvg",
    "outputId": "ae6a3495-8ce9-437e-ba81-3ed31deedeae"
   },
   "outputs": [
    {
     "name": "stderr",
     "output_type": "stream",
     "text": [
      "C:\\Users\\Anurag Dutta\\AppData\\Local\\Packages\\PythonSoftwareFoundation.Python.3.9_qbz5n2kfra8p0\\LocalCache\\local-packages\\Python39\\site-packages\\pandas\\core\\arraylike.py:402: RuntimeWarning: divide by zero encountered in log\n",
      "  result = getattr(ufunc, method)(*inputs, **kwargs)\n"
     ]
    },
    {
     "data": {
      "text/plain": [
       "<Axes: >"
      ]
     },
     "execution_count": 11,
     "metadata": {},
     "output_type": "execute_result"
    },
    {
     "data": {
      "image/png": "[encoded data removed]",
      "text/plain": [
       "<Figure size 432x288 with 1 Axes>"
      ]
     },
     "metadata": {
      "needs_background": "light"
     },
     "output_type": "display_data"
    }
   ],
   "source": [
    "import numpy as np\n",
    "c0 = 86.6856  # Value for C0\n",
    "K0 = -0.0008  # Value for K0\n",
    "K1 = -0.0002  # Value for K1\n",
    "a = 0.0000    # Value for a\n",
    "b = 0.0128    # Value for b\n",
    "c = -2.3003    # Value for c\n",
    "\n",
    "L = np.minimum(c0, (df.iloc[:, 1] - (df.iloc[:, 0] * (K0 - K1 * (9 * a * np.log(df.iloc[:, 0] / c0) / (K0 - K1 * c)**2 + 4 * b * np.log(df.iloc[:, 0] / c0) / (K0 - K1 * c) + c)))))\n",
    "L.plot()"
   ]
  },
  {
   "cell_type": "markdown",
   "metadata": {
    "id": "9VyEywnwaFvh"
   },
   "source": [
    "## Preprocessing the data into supervised learning"
   ]
  },
  {
   "cell_type": "code",
   "execution_count": 12,
   "metadata": {
    "id": "6V9dXqzdaFvh"
   },
   "outputs": [],
   "source": [
    "# split a sequence into samples\n",
    "def Supervised(data, n_in=1, n_out=1, dropnan=True):\n",
    "    n_vars = 1 if type(data) is list else data.shape[1]\n",
    "    df = pd.DataFrame(data)\n",
    "    cols, names = list(), list()\n",
    "    # input sequence (t-n_in, ... t-1)\n",
    "    for i in range(n_in, 0, -1):\n",
    "        cols.append(df.shift(i))\n",
    "        names += [('var%d(t-%d)' % (j+1, i)) for j in range(n_vars)]\n",
    "    # forecast sequence (t, t+1, ... t+n_out)\n",
    "    for i in range(0, n_out):\n",
    "      cols.append(df.shift(-i))\n",
    "      if i == 0:\n",
    "        names += [('var%d(t)' % (j+1)) for j in range(n_vars)]\n",
    "      else:\n",
    "        names += [('var%d(t+%d)' % (j+1, i)) for j in range(n_vars)]\n",
    "    # put it all together\n",
    "    agg = pd.concat(cols, axis=1)\n",
    "    agg.columns = names\n",
    "    # drop rows with NaN values\n",
    "    if dropnan:\n",
    "       agg.dropna(inplace=True)\n",
    "    return agg"
   ]
  },
  {
   "cell_type": "code",
   "execution_count": 13,
   "metadata": {
    "colab": {
     "base_uri": "https://localhost:8080/"
    },
    "id": "CrzSrT1HnyfH",
    "outputId": "7e75f928-3e47-499d-eac1-51908015ef78"
   },
   "outputs": [
    {
     "name": "stdout",
     "output_type": "stream",
     "text": [
      "     var1(t-175)  var1(t-174)  var1(t-173)  var1(t-172)  var1(t-171)  \\\n",
      "175    88.600000    88.409524    88.219048    88.028571    87.838095   \n",
      "176    88.409524    88.219048    88.028571    87.838095    87.647619   \n",
      "177    88.219048    88.028571    87.838095    87.647619    87.457143   \n",
      "178    88.028571    87.838095    87.647619    87.457143    87.266667   \n",
      "179    87.838095    87.647619    87.457143    87.266667    87.076190   \n",
      "\n",
      "     var1(t-170)  var1(t-169)  var1(t-168)  var1(t-167)  var1(t-166)  ...  \\\n",
      "175    87.647619    87.457143    87.266667    87.076190    86.896218  ...   \n",
      "176    87.457143    87.266667    87.076190    86.896218    86.845798  ...   \n",
      "177    87.266667    87.076190    86.896218    86.845798    86.795378  ...   \n",
      "178    87.076190    86.896218    86.845798    86.795378    86.744958  ...   \n",
      "179    86.896218    86.845798    86.795378    86.744958    86.694538  ...   \n",
      "\n",
      "     var1(t+45)  var2(t+45)  var1(t+46)  var2(t+46)  var1(t+47)  var2(t+47)  \\\n",
      "175   82.066270    0.000280   82.050397    0.000280   82.034524    0.000280   \n",
      "176   82.050397    0.000280   82.034524    0.000280   82.018651    0.000280   \n",
      "177   82.034524    0.000280   82.018651    0.000280   82.002778    0.000279   \n",
      "178   82.018651    0.000280   82.002778    0.000279   81.986905    0.000279   \n",
      "179   82.002778    0.000279   81.986905    0.000279   81.971032    0.000279   \n",
      "\n",
      "     var1(t+48)  var2(t+48)  var1(t+49)  var2(t+49)  \n",
      "175   82.018651    0.000280   82.002778    0.000279  \n",
      "176   82.002778    0.000279   81.986905    0.000279  \n",
      "177   81.986905    0.000279   81.971032    0.000279  \n",
      "178   81.971032    0.000279   81.955159    0.000279  \n",
      "179   81.955159    0.000279   81.939286    0.000279  \n",
      "\n",
      "[5 rows x 276 columns]\n",
      "Index(['var1(t-175)', 'var1(t-174)', 'var1(t-173)', 'var1(t-172)',\n",
      "       'var1(t-171)', 'var1(t-170)', 'var1(t-169)', 'var1(t-168)',\n",
      "       'var1(t-167)', 'var1(t-166)',\n",
      "       ...\n",
      "       'var1(t+45)', 'var2(t+45)', 'var1(t+46)', 'var2(t+46)', 'var1(t+47)',\n",
      "       'var2(t+47)', 'var1(t+48)', 'var2(t+48)', 'var1(t+49)', 'var2(t+49)'],\n",
      "      dtype='object', length=276)\n"
     ]
    }
   ],
   "source": [
    "data = Supervised(df.values, n_in = 175, n_out = 50)\n",
    "\n",
    "\n",
    "cols_to_drop = []\n",
    "for i in range(2, 176):\n",
    "    cols_to_drop.extend([f'var2(t-{i})'])\n",
    "\n",
    "data.drop(cols_to_drop, axis=1, inplace=True)\n",
    "\n",
    "print(data.head())\n",
    "print(data.columns)"
   ]
  },
  {
   "cell_type": "code",
   "execution_count": 14,
   "metadata": {
    "id": "AfPf60oy6Pe4"
   },
   "outputs": [],
   "source": [
    "train = np.array(data[0:len(data)-1])\n",
    "forecast = np.array(data.tail(1))"
   ]
  },
  {
   "cell_type": "code",
   "execution_count": 15,
   "metadata": {
    "id": "WSAafzI37KiT"
   },
   "outputs": [],
   "source": [
    "trainy = train[:,-150:]\n",
    "trainX = train[:,:-150]"
   ]
  },
  {
   "cell_type": "code",
   "execution_count": 16,
   "metadata": {
    "id": "2SrOqVJA7f50"
   },
   "outputs": [],
   "source": [
    "forecasty = forecast[:,-150:]\n",
    "forecastX = forecast[:,:-150]"
   ]
  },
  {
   "cell_type": "code",
   "execution_count": 17,
   "metadata": {
    "colab": {
     "base_uri": "https://localhost:8080/"
    },
    "id": "Qno_k8Nw7saY",
    "outputId": "c4a88db5-d8c6-489f-cdb2-06b24e293cff"
   },
   "outputs": [
    {
     "name": "stdout",
     "output_type": "stream",
     "text": [
      "(2225, 1, 126) (2225, 150) (1, 1, 126)\n"
     ]
    }
   ],
   "source": [
    "trainX = trainX.reshape((trainX.shape[0], 1, trainX.shape[1]))\n",
    "forecastX = forecastX.reshape((forecastX.shape[0], 1, forecastX.shape[1]))\n",
    "print(trainX.shape, trainy.shape, forecastX.shape)"
   ]
  },
  {
   "cell_type": "code",
   "execution_count": 18,
   "metadata": {
    "colab": {
     "base_uri": "https://localhost:8080/"
    },
    "id": "b1Jp2DvNuNFx",
    "outputId": "d0e5b3c4-64f1-438c-eade-8dfeaac8e285"
   },
   "outputs": [
    {
     "name": "stdout",
     "output_type": "stream",
     "text": [
      "Epoch 1/500\n",
      "28/28 [==============================] - 2s 19ms/step - loss: 5114.3374 - val_loss: 3064.3391\n",
      "Epoch 2/500\n",
      "28/28 [==============================] - 0s 4ms/step - loss: 4881.7715 - val_loss: 2892.9836\n",
      "Epoch 3/500\n",
      "28/28 [==============================] - 0s 4ms/step - loss: 4656.0034 - val_loss: 2760.6804\n",
      "Epoch 4/500\n",
      "28/28 [==============================] - 0s 4ms/step - loss: 4494.8984 - val_loss: 2664.9717\n",
      "Epoch 5/500\n",
      "28/28 [==============================] - 0s 7ms/step - loss: 4358.5864 - val_loss: 2582.0261\n",
      "Epoch 6/500\n",
      "28/28 [==============================] - 0s 4ms/step - loss: 4230.7632 - val_loss: 2507.7363\n",
      "Epoch 7/500\n",
      "28/28 [==============================] - 0s 3ms/step - loss: 4108.0884 - val_loss: 2436.7222\n",
      "Epoch 8/500\n",
      "28/28 [==============================] - 0s 4ms/step - loss: 3989.4758 - val_loss: 2368.4602\n",
      "Epoch 9/500\n",
      "28/28 [==============================] - 0s 4ms/step - loss: 3874.3569 - val_loss: 2302.6709\n",
      "Epoch 10/500\n",
      "28/28 [==============================] - 0s 3ms/step - loss: 3762.3923 - val_loss: 2239.1753\n",
      "Epoch 11/500\n",
      "28/28 [==============================] - 0s 4ms/step - loss: 3653.3552 - val_loss: 2177.8455\n",
      "Epoch 12/500\n",
      "28/28 [==============================] - 0s 3ms/step - loss: 3547.0808 - val_loss: 2118.5828\n",
      "Epoch 13/500\n",
      "28/28 [==============================] - 0s 3ms/step - loss: 3443.4441 - val_loss: 2061.3088\n",
      "Epoch 14/500\n",
      "28/28 [==============================] - 0s 4ms/step - loss: 3342.3452 - val_loss: 2005.9570\n",
      "Epoch 15/500\n",
      "28/28 [==============================] - 0s 4ms/step - loss: 3243.6992 - val_loss: 1952.4696\n",
      "Epoch 16/500\n",
      "28/28 [==============================] - 0s 4ms/step - loss: 3147.4331 - val_loss: 1900.7958\n",
      "Epoch 17/500\n",
      "28/28 [==============================] - 0s 4ms/step - loss: 3053.4844 - val_loss: 1850.8912\n",
      "Epoch 18/500\n",
      "28/28 [==============================] - 0s 4ms/step - loss: 2961.7937 - val_loss: 1802.7404\n",
      "Epoch 19/500\n",
      "28/28 [==============================] - 0s 5ms/step - loss: 2872.3130 - val_loss: 1756.2719\n",
      "Epoch 20/500\n",
      "28/28 [==============================] - 0s 4ms/step - loss: 2784.9851 - val_loss: 1711.2836\n",
      "Epoch 21/500\n",
      "28/28 [==============================] - 0s 5ms/step - loss: 2699.7727 - val_loss: 1668.0305\n",
      "Epoch 22/500\n",
      "28/28 [==============================] - 0s 5ms/step - loss: 2616.6292 - val_loss: 1626.3501\n",
      "Epoch 23/500\n",
      "28/28 [==============================] - 0s 4ms/step - loss: 2535.5144 - val_loss: 1586.2083\n",
      "Epoch 24/500\n",
      "28/28 [==============================] - 0s 4ms/step - loss: 2456.3877 - val_loss: 1547.5728\n",
      "Epoch 25/500\n",
      "28/28 [==============================] - 0s 5ms/step - loss: 2379.2134 - val_loss: 1510.4121\n",
      "Epoch 26/500\n",
      "28/28 [==============================] - 0s 4ms/step - loss: 2303.9536 - val_loss: 1474.6949\n",
      "Epoch 27/500\n",
      "28/28 [==============================] - 0s 4ms/step - loss: 2230.5730 - val_loss: 1440.3909\n",
      "Epoch 28/500\n",
      "28/28 [==============================] - 0s 4ms/step - loss: 2159.0371 - val_loss: 1407.4694\n",
      "Epoch 29/500\n",
      "28/28 [==============================] - 0s 5ms/step - loss: 2089.3127 - val_loss: 1375.8899\n",
      "Epoch 30/500\n",
      "28/28 [==============================] - 0s 4ms/step - loss: 2021.3625 - val_loss: 1345.6213\n",
      "Epoch 31/500\n",
      "28/28 [==============================] - 0s 5ms/step - loss: 1955.2832 - val_loss: 1315.9471\n",
      "Epoch 32/500\n",
      "28/28 [==============================] - 0s 4ms/step - loss: 1890.6790 - val_loss: 1288.5559\n",
      "Epoch 33/500\n",
      "28/28 [==============================] - 0s 4ms/step - loss: 1827.8779 - val_loss: 1262.1458\n",
      "Epoch 34/500\n",
      "28/28 [==============================] - 0s 4ms/step - loss: 1766.7324 - val_loss: 1236.9534\n",
      "Epoch 35/500\n",
      "28/28 [==============================] - 0s 6ms/step - loss: 1707.2114 - val_loss: 1212.9528\n",
      "Epoch 36/500\n",
      "28/28 [==============================] - 0s 4ms/step - loss: 1649.2854 - val_loss: 1190.1172\n",
      "Epoch 37/500\n",
      "28/28 [==============================] - 0s 4ms/step - loss: 1592.9248 - val_loss: 1168.4211\n",
      "Epoch 38/500\n",
      "28/28 [==============================] - 0s 4ms/step - loss: 1538.1019 - val_loss: 1147.8401\n",
      "Epoch 39/500\n",
      "28/28 [==============================] - 0s 4ms/step - loss: 1484.7878 - val_loss: 1128.3243\n",
      "Epoch 40/500\n",
      "28/28 [==============================] - 0s 4ms/step - loss: 1432.9551 - val_loss: 1109.8486\n",
      "Epoch 41/500\n",
      "28/28 [==============================] - 0s 4ms/step - loss: 1382.5764 - val_loss: 1092.4567\n",
      "Epoch 42/500\n",
      "28/28 [==============================] - 0s 4ms/step - loss: 1333.6251 - val_loss: 1076.0780\n",
      "Epoch 43/500\n",
      "28/28 [==============================] - 0s 4ms/step - loss: 1286.0734 - val_loss: 1060.6886\n",
      "Epoch 44/500\n",
      "28/28 [==============================] - 0s 4ms/step - loss: 1239.8953 - val_loss: 1046.2642\n",
      "Epoch 45/500\n",
      "28/28 [==============================] - 0s 4ms/step - loss: 1195.0649 - val_loss: 1032.7810\n",
      "Epoch 46/500\n",
      "28/28 [==============================] - 0s 4ms/step - loss: 1151.5559 - val_loss: 1020.2150\n",
      "Epoch 47/500\n",
      "28/28 [==============================] - 0s 5ms/step - loss: 1109.3428 - val_loss: 1008.5426\n",
      "Epoch 48/500\n",
      "28/28 [==============================] - 0s 4ms/step - loss: 1068.4004 - val_loss: 997.7407\n",
      "Epoch 49/500\n",
      "28/28 [==============================] - 0s 4ms/step - loss: 1028.7034 - val_loss: 987.7861\n",
      "Epoch 50/500\n",
      "28/28 [==============================] - 0s 3ms/step - loss: 990.2264 - val_loss: 978.6559\n",
      "Epoch 51/500\n",
      "28/28 [==============================] - 0s 3ms/step - loss: 952.9455 - val_loss: 970.3271\n",
      "Epoch 52/500\n",
      "28/28 [==============================] - 0s 4ms/step - loss: 916.8359 - val_loss: 962.7774\n",
      "Epoch 53/500\n",
      "28/28 [==============================] - 0s 4ms/step - loss: 881.8740 - val_loss: 955.9842\n",
      "Epoch 54/500\n",
      "28/28 [==============================] - 0s 4ms/step - loss: 848.0352 - val_loss: 949.9254\n",
      "Epoch 55/500\n",
      "28/28 [==============================] - 0s 4ms/step - loss: 815.2958 - val_loss: 944.5787\n",
      "Epoch 56/500\n",
      "28/28 [==============================] - 0s 4ms/step - loss: 783.6326 - val_loss: 939.9226\n",
      "Epoch 57/500\n",
      "28/28 [==============================] - 0s 4ms/step - loss: 753.0223 - val_loss: 935.9352\n",
      "Epoch 58/500\n",
      "28/28 [==============================] - 0s 4ms/step - loss: 723.4417 - val_loss: 932.5950\n",
      "Epoch 59/500\n",
      "28/28 [==============================] - 0s 4ms/step - loss: 694.8679 - val_loss: 929.8809\n",
      "Epoch 60/500\n",
      "28/28 [==============================] - 0s 4ms/step - loss: 667.2781 - val_loss: 927.7717\n",
      "Epoch 61/500\n",
      "28/28 [==============================] - 0s 4ms/step - loss: 640.6502 - val_loss: 926.2463\n",
      "Epoch 62/500\n",
      "28/28 [==============================] - 0s 4ms/step - loss: 614.9616 - val_loss: 925.2840\n",
      "Epoch 63/500\n",
      "28/28 [==============================] - 0s 4ms/step - loss: 590.1909 - val_loss: 924.8642\n",
      "Epoch 64/500\n",
      "28/28 [==============================] - 0s 4ms/step - loss: 566.3154 - val_loss: 924.9668\n",
      "Epoch 65/500\n",
      "28/28 [==============================] - 0s 4ms/step - loss: 543.3141 - val_loss: 925.5712\n",
      "Epoch 66/500\n",
      "28/28 [==============================] - 0s 5ms/step - loss: 521.1652 - val_loss: 926.6577\n",
      "Epoch 67/500\n",
      "28/28 [==============================] - 0s 4ms/step - loss: 499.8478 - val_loss: 928.2063\n",
      "Epoch 68/500\n",
      "28/28 [==============================] - 0s 4ms/step - loss: 479.3410 - val_loss: 930.1974\n",
      "Epoch 69/500\n",
      "28/28 [==============================] - 0s 4ms/step - loss: 459.6235 - val_loss: 932.6121\n",
      "Epoch 70/500\n",
      "28/28 [==============================] - 0s 4ms/step - loss: 440.6753 - val_loss: 935.4307\n",
      "Epoch 71/500\n",
      "28/28 [==============================] - 0s 4ms/step - loss: 422.4755 - val_loss: 938.6343\n",
      "Epoch 72/500\n",
      "28/28 [==============================] - 0s 3ms/step - loss: 405.0044 - val_loss: 942.2045\n",
      "Epoch 73/500\n",
      "28/28 [==============================] - 0s 4ms/step - loss: 388.2418 - val_loss: 946.1227\n",
      "Epoch 74/500\n",
      "28/28 [==============================] - 0s 4ms/step - loss: 372.1682 - val_loss: 950.3705\n",
      "Epoch 75/500\n",
      "28/28 [==============================] - 0s 4ms/step - loss: 356.7640 - val_loss: 954.9302\n",
      "Epoch 76/500\n",
      "28/28 [==============================] - 0s 3ms/step - loss: 342.0099 - val_loss: 959.7838\n",
      "Epoch 77/500\n",
      "28/28 [==============================] - 0s 3ms/step - loss: 327.8872 - val_loss: 964.9136\n",
      "Epoch 78/500\n",
      "28/28 [==============================] - 0s 4ms/step - loss: 314.3767 - val_loss: 970.3026\n",
      "Epoch 79/500\n",
      "28/28 [==============================] - 0s 4ms/step - loss: 301.4602 - val_loss: 975.9336\n",
      "Epoch 80/500\n",
      "28/28 [==============================] - 0s 4ms/step - loss: 289.1191 - val_loss: 981.7902\n",
      "Epoch 81/500\n",
      "28/28 [==============================] - 0s 4ms/step - loss: 277.3357 - val_loss: 987.8559\n",
      "Epoch 82/500\n",
      "28/28 [==============================] - 0s 4ms/step - loss: 266.0919 - val_loss: 994.1147\n",
      "Epoch 83/500\n",
      "28/28 [==============================] - 0s 4ms/step - loss: 255.3703 - val_loss: 1000.5504\n",
      "Epoch 84/500\n",
      "28/28 [==============================] - 0s 4ms/step - loss: 245.1537 - val_loss: 1007.1480\n",
      "Epoch 85/500\n",
      "28/28 [==============================] - 0s 3ms/step - loss: 235.4250 - val_loss: 1013.8920\n",
      "Epoch 86/500\n",
      "28/28 [==============================] - 0s 4ms/step - loss: 226.1674 - val_loss: 1020.7673\n",
      "Epoch 87/500\n",
      "28/28 [==============================] - 0s 4ms/step - loss: 217.3645 - val_loss: 1027.7599\n",
      "Epoch 88/500\n",
      "28/28 [==============================] - 0s 6ms/step - loss: 209.0001 - val_loss: 1034.8546\n",
      "Epoch 89/500\n",
      "28/28 [==============================] - 0s 3ms/step - loss: 201.0584 - val_loss: 1042.0386\n",
      "Epoch 90/500\n",
      "28/28 [==============================] - 0s 4ms/step - loss: 193.5237 - val_loss: 1049.2981\n",
      "Epoch 91/500\n",
      "28/28 [==============================] - 0s 4ms/step - loss: 186.3804 - val_loss: 1056.6199\n",
      "Epoch 92/500\n",
      "28/28 [==============================] - 0s 4ms/step - loss: 179.6139 - val_loss: 1063.9907\n",
      "Epoch 93/500\n",
      "28/28 [==============================] - 0s 4ms/step - loss: 173.2094 - val_loss: 1071.3987\n",
      "Epoch 94/500\n",
      "28/28 [==============================] - 0s 3ms/step - loss: 167.1522 - val_loss: 1078.8315\n",
      "Epoch 95/500\n",
      "28/28 [==============================] - 0s 4ms/step - loss: 161.4285 - val_loss: 1086.2775\n",
      "Epoch 96/500\n",
      "28/28 [==============================] - 0s 4ms/step - loss: 156.0245 - val_loss: 1093.7258\n",
      "Epoch 97/500\n",
      "28/28 [==============================] - 0s 4ms/step - loss: 150.9265 - val_loss: 1101.1650\n",
      "Epoch 98/500\n",
      "28/28 [==============================] - 0s 4ms/step - loss: 146.1214 - val_loss: 1108.5847\n",
      "Epoch 99/500\n",
      "28/28 [==============================] - 0s 4ms/step - loss: 141.5965 - val_loss: 1115.9751\n",
      "Epoch 100/500\n",
      "28/28 [==============================] - 0s 4ms/step - loss: 137.3392 - val_loss: 1123.3264\n",
      "Epoch 101/500\n",
      "28/28 [==============================] - 0s 4ms/step - loss: 133.3373 - val_loss: 1130.6294\n",
      "Epoch 102/500\n",
      "28/28 [==============================] - 0s 4ms/step - loss: 129.5790 - val_loss: 1137.8756\n",
      "Epoch 103/500\n",
      "28/28 [==============================] - 0s 4ms/step - loss: 126.0528 - val_loss: 1145.0562\n",
      "Epoch 104/500\n",
      "28/28 [==============================] - 0s 4ms/step - loss: 122.7475 - val_loss: 1152.1630\n",
      "Epoch 105/500\n",
      "28/28 [==============================] - 0s 3ms/step - loss: 119.6522 - val_loss: 1159.1890\n",
      "Epoch 106/500\n",
      "28/28 [==============================] - 0s 4ms/step - loss: 116.7564 - val_loss: 1166.1271\n",
      "Epoch 107/500\n",
      "28/28 [==============================] - 0s 3ms/step - loss: 114.0500 - val_loss: 1172.9698\n",
      "Epoch 108/500\n",
      "28/28 [==============================] - 0s 4ms/step - loss: 111.5231 - val_loss: 1179.7117\n",
      "Epoch 109/500\n",
      "28/28 [==============================] - 0s 4ms/step - loss: 109.1662 - val_loss: 1186.3467\n",
      "Epoch 110/500\n",
      "28/28 [==============================] - 0s 6ms/step - loss: 106.9701 - val_loss: 1192.8690\n",
      "Epoch 111/500\n",
      "28/28 [==============================] - 0s 4ms/step - loss: 104.9261 - val_loss: 1199.2743\n",
      "Epoch 112/500\n",
      "28/28 [==============================] - 0s 4ms/step - loss: 103.0255 - val_loss: 1205.5573\n",
      "Epoch 113/500\n",
      "28/28 [==============================] - 0s 4ms/step - loss: 101.2601 - val_loss: 1211.7145\n",
      "Epoch 114/500\n",
      "28/28 [==============================] - 0s 4ms/step - loss: 99.6222 - val_loss: 1217.7415\n",
      "Epoch 115/500\n",
      "28/28 [==============================] - 0s 4ms/step - loss: 98.1042 - val_loss: 1223.6354\n",
      "Epoch 116/500\n",
      "28/28 [==============================] - 0s 4ms/step - loss: 96.6988 - val_loss: 1229.3928\n",
      "Epoch 117/500\n",
      "28/28 [==============================] - 0s 4ms/step - loss: 95.3993 - val_loss: 1235.0115\n",
      "Epoch 118/500\n",
      "28/28 [==============================] - 0s 4ms/step - loss: 94.1987 - val_loss: 1240.4886\n",
      "Epoch 119/500\n",
      "28/28 [==============================] - 0s 4ms/step - loss: 93.0911 - val_loss: 1245.8231\n",
      "Epoch 120/500\n",
      "28/28 [==============================] - 0s 3ms/step - loss: 92.0701 - val_loss: 1251.0137\n",
      "Epoch 121/500\n",
      "28/28 [==============================] - 0s 4ms/step - loss: 91.1303 - val_loss: 1256.0580\n",
      "Epoch 122/500\n",
      "28/28 [==============================] - 0s 4ms/step - loss: 90.2661 - val_loss: 1260.9565\n",
      "Epoch 123/500\n",
      "28/28 [==============================] - 0s 3ms/step - loss: 89.4724 - val_loss: 1265.7079\n",
      "Epoch 124/500\n",
      "28/28 [==============================] - 0s 4ms/step - loss: 88.7443 - val_loss: 1270.3118\n",
      "Epoch 125/500\n",
      "28/28 [==============================] - 0s 3ms/step - loss: 88.0770 - val_loss: 1274.7698\n",
      "Epoch 126/500\n",
      "28/28 [==============================] - 0s 4ms/step - loss: 87.4663 - val_loss: 1279.0809\n",
      "Epoch 127/500\n",
      "28/28 [==============================] - 0s 4ms/step - loss: 86.9081 - val_loss: 1283.2463\n",
      "Epoch 128/500\n",
      "28/28 [==============================] - 0s 4ms/step - loss: 86.3983 - val_loss: 1287.2670\n",
      "Epoch 129/500\n",
      "28/28 [==============================] - 0s 4ms/step - loss: 85.9334 - val_loss: 1291.1439\n",
      "Epoch 130/500\n",
      "28/28 [==============================] - 0s 4ms/step - loss: 85.5100 - val_loss: 1294.8784\n",
      "Epoch 131/500\n",
      "28/28 [==============================] - 0s 4ms/step - loss: 85.1248 - val_loss: 1298.4729\n",
      "Epoch 132/500\n",
      "28/28 [==============================] - 0s 4ms/step - loss: 84.7746 - val_loss: 1301.9281\n",
      "Epoch 133/500\n",
      "28/28 [==============================] - 0s 4ms/step - loss: 84.4569 - val_loss: 1305.2479\n",
      "Epoch 134/500\n",
      "28/28 [==============================] - 0s 4ms/step - loss: 84.1688 - val_loss: 1308.4329\n",
      "Epoch 135/500\n",
      "28/28 [==============================] - 0s 6ms/step - loss: 83.9079 - val_loss: 1311.4862\n",
      "Epoch 136/500\n",
      "28/28 [==============================] - 0s 4ms/step - loss: 83.6719 - val_loss: 1314.4102\n",
      "Epoch 137/500\n",
      "28/28 [==============================] - 0s 5ms/step - loss: 83.4588 - val_loss: 1317.2073\n",
      "Epoch 138/500\n",
      "28/28 [==============================] - 0s 4ms/step - loss: 83.2664 - val_loss: 1319.8813\n",
      "Epoch 139/500\n",
      "28/28 [==============================] - 0s 4ms/step - loss: 83.0929 - val_loss: 1322.4341\n",
      "Epoch 140/500\n",
      "28/28 [==============================] - 0s 4ms/step - loss: 82.9369 - val_loss: 1324.8690\n",
      "Epoch 141/500\n",
      "28/28 [==============================] - 0s 4ms/step - loss: 82.7964 - val_loss: 1327.1891\n",
      "Epoch 142/500\n",
      "28/28 [==============================] - 0s 4ms/step - loss: 82.6704 - val_loss: 1329.3975\n",
      "Epoch 143/500\n",
      "28/28 [==============================] - 0s 4ms/step - loss: 82.5572 - val_loss: 1331.4979\n",
      "Epoch 144/500\n",
      "28/28 [==============================] - 0s 4ms/step - loss: 82.4559 - val_loss: 1333.4938\n",
      "Epoch 145/500\n",
      "28/28 [==============================] - 0s 4ms/step - loss: 82.3650 - val_loss: 1335.3868\n",
      "Epoch 146/500\n",
      "28/28 [==============================] - 0s 5ms/step - loss: 82.2837 - val_loss: 1337.1804\n",
      "Epoch 147/500\n",
      "28/28 [==============================] - 0s 5ms/step - loss: 82.2112 - val_loss: 1338.8806\n",
      "Epoch 148/500\n",
      "28/28 [==============================] - 0s 4ms/step - loss: 82.1465 - val_loss: 1340.4879\n",
      "Epoch 149/500\n",
      "28/28 [==============================] - 0s 4ms/step - loss: 82.0886 - val_loss: 1342.0057\n",
      "Epoch 150/500\n",
      "28/28 [==============================] - 0s 4ms/step - loss: 82.0372 - val_loss: 1343.4393\n",
      "Epoch 151/500\n",
      "28/28 [==============================] - 0s 4ms/step - loss: 81.9915 - val_loss: 1344.7913\n",
      "Epoch 152/500\n",
      "28/28 [==============================] - 0s 4ms/step - loss: 81.9509 - val_loss: 1346.0636\n",
      "Epoch 153/500\n",
      "28/28 [==============================] - 0s 4ms/step - loss: 81.9147 - val_loss: 1347.2594\n",
      "Epoch 154/500\n",
      "28/28 [==============================] - 0s 4ms/step - loss: 81.8827 - val_loss: 1348.3828\n",
      "Epoch 155/500\n",
      "28/28 [==============================] - 0s 5ms/step - loss: 81.8543 - val_loss: 1349.4358\n",
      "Epoch 156/500\n",
      "28/28 [==============================] - 0s 5ms/step - loss: 81.8292 - val_loss: 1350.4224\n",
      "Epoch 157/500\n",
      "28/28 [==============================] - 0s 4ms/step - loss: 81.8071 - val_loss: 1351.3452\n",
      "Epoch 158/500\n",
      "28/28 [==============================] - 0s 5ms/step - loss: 81.7875 - val_loss: 1352.2063\n",
      "Epoch 159/500\n",
      "28/28 [==============================] - 0s 4ms/step - loss: 81.7701 - val_loss: 1353.0099\n",
      "Epoch 160/500\n",
      "28/28 [==============================] - 0s 4ms/step - loss: 81.7550 - val_loss: 1353.7566\n",
      "Epoch 161/500\n",
      "28/28 [==============================] - 0s 4ms/step - loss: 81.7416 - val_loss: 1354.4515\n",
      "Epoch 162/500\n",
      "28/28 [==============================] - 0s 4ms/step - loss: 81.7298 - val_loss: 1355.0942\n",
      "Epoch 163/500\n",
      "28/28 [==============================] - 0s 4ms/step - loss: 81.7196 - val_loss: 1355.6876\n",
      "Epoch 164/500\n",
      "28/28 [==============================] - 0s 3ms/step - loss: 81.7106 - val_loss: 1356.2325\n",
      "Epoch 165/500\n",
      "28/28 [==============================] - 0s 3ms/step - loss: 81.7028 - val_loss: 1356.7288\n",
      "Epoch 166/500\n",
      "28/28 [==============================] - 0s 4ms/step - loss: 81.6961 - val_loss: 1357.1813\n",
      "Epoch 167/500\n",
      "28/28 [==============================] - 0s 4ms/step - loss: 81.6902 - val_loss: 1357.5896\n",
      "Epoch 168/500\n",
      "28/28 [==============================] - 0s 8ms/step - loss: 81.6852 - val_loss: 1357.9534\n",
      "Epoch 169/500\n",
      "28/28 [==============================] - 0s 4ms/step - loss: 81.6808 - val_loss: 1358.2677\n",
      "Epoch 170/500\n",
      "28/28 [==============================] - 0s 5ms/step - loss: 81.6771 - val_loss: 1358.5267\n",
      "Epoch 171/500\n",
      "28/28 [==============================] - 0s 4ms/step - loss: 81.6740 - val_loss: 1358.7084\n",
      "Epoch 172/500\n",
      "28/28 [==============================] - 0s 4ms/step - loss: 81.6713 - val_loss: 1358.7440\n",
      "Epoch 173/500\n",
      "28/28 [==============================] - 0s 4ms/step - loss: 81.6692 - val_loss: 1357.9241\n",
      "Epoch 174/500\n",
      "28/28 [==============================] - 0s 5ms/step - loss: 81.6411 - val_loss: 1335.2739\n",
      "Epoch 175/500\n",
      "28/28 [==============================] - 0s 4ms/step - loss: 83.3212 - val_loss: 1304.1761\n",
      "Epoch 176/500\n",
      "28/28 [==============================] - 0s 4ms/step - loss: 84.3691 - val_loss: 1308.8782\n",
      "Epoch 177/500\n",
      "28/28 [==============================] - 0s 4ms/step - loss: 83.9740 - val_loss: 1313.3003\n",
      "Epoch 178/500\n",
      "28/28 [==============================] - 0s 4ms/step - loss: 83.5812 - val_loss: 1307.5657\n",
      "Epoch 179/500\n",
      "28/28 [==============================] - 0s 4ms/step - loss: 83.3966 - val_loss: 1320.8888\n",
      "Epoch 180/500\n",
      "28/28 [==============================] - 0s 4ms/step - loss: 83.1056 - val_loss: 1324.2302\n",
      "Epoch 181/500\n",
      "28/28 [==============================] - 0s 4ms/step - loss: 82.8958 - val_loss: 1327.1517\n",
      "Epoch 182/500\n",
      "28/28 [==============================] - 0s 4ms/step - loss: 82.7175 - val_loss: 1329.2567\n",
      "Epoch 183/500\n",
      "28/28 [==============================] - 0s 4ms/step - loss: 82.5400 - val_loss: 1324.9010\n",
      "Epoch 184/500\n",
      "28/28 [==============================] - 0s 4ms/step - loss: 83.2522 - val_loss: 1338.0437\n",
      "Epoch 185/500\n",
      "28/28 [==============================] - 0s 4ms/step - loss: 82.3225 - val_loss: 1340.2312\n",
      "Epoch 186/500\n",
      "28/28 [==============================] - 0s 4ms/step - loss: 82.2291 - val_loss: 1342.1501\n",
      "Epoch 187/500\n",
      "28/28 [==============================] - 0s 4ms/step - loss: 81.9839 - val_loss: 1330.4817\n",
      "Epoch 188/500\n",
      "28/28 [==============================] - 0s 4ms/step - loss: 82.2848 - val_loss: 1347.1918\n",
      "Epoch 189/500\n",
      "28/28 [==============================] - 0s 8ms/step - loss: 82.0231 - val_loss: 1348.7087\n",
      "Epoch 190/500\n",
      "28/28 [==============================] - 0s 5ms/step - loss: 81.9746 - val_loss: 1348.3433\n",
      "Epoch 191/500\n",
      "28/28 [==============================] - 0s 5ms/step - loss: 81.8417 - val_loss: 1336.4791\n",
      "Epoch 192/500\n",
      "28/28 [==============================] - 0s 5ms/step - loss: 84.7355 - val_loss: 1291.0166\n",
      "Epoch 193/500\n",
      "28/28 [==============================] - 0s 5ms/step - loss: 85.6793 - val_loss: 1297.3425\n",
      "Epoch 194/500\n",
      "28/28 [==============================] - 0s 4ms/step - loss: 85.0410 - val_loss: 1302.7056\n",
      "Epoch 195/500\n",
      "28/28 [==============================] - 0s 4ms/step - loss: 84.4622 - val_loss: 1287.2194\n",
      "Epoch 196/500\n",
      "28/28 [==============================] - 0s 4ms/step - loss: 84.0666 - val_loss: 1314.5315\n",
      "Epoch 197/500\n",
      "28/28 [==============================] - 0s 4ms/step - loss: 83.6577 - val_loss: 1319.1716\n",
      "Epoch 198/500\n",
      "28/28 [==============================] - 0s 4ms/step - loss: 83.3407 - val_loss: 1323.4156\n",
      "Epoch 199/500\n",
      "28/28 [==============================] - 0s 4ms/step - loss: 83.0763 - val_loss: 1327.2936\n",
      "Epoch 200/500\n",
      "28/28 [==============================] - 0s 4ms/step - loss: 82.8556 - val_loss: 1330.8331\n",
      "Epoch 201/500\n",
      "28/28 [==============================] - 0s 4ms/step - loss: 82.6713 - val_loss: 1334.0593\n",
      "Epoch 202/500\n",
      "28/28 [==============================] - 0s 4ms/step - loss: 82.5174 - val_loss: 1336.9979\n",
      "Epoch 203/500\n",
      "28/28 [==============================] - 0s 4ms/step - loss: 82.3888 - val_loss: 1339.6699\n",
      "Epoch 204/500\n",
      "28/28 [==============================] - 0s 4ms/step - loss: 82.2814 - val_loss: 1342.0985\n",
      "Epoch 205/500\n",
      "28/28 [==============================] - 0s 4ms/step - loss: 82.1914 - val_loss: 1344.3029\n",
      "Epoch 206/500\n",
      "28/28 [==============================] - 0s 4ms/step - loss: 82.1161 - val_loss: 1346.3015\n",
      "Epoch 207/500\n",
      "28/28 [==============================] - 0s 4ms/step - loss: 82.0530 - val_loss: 1348.1128\n",
      "Epoch 208/500\n",
      "28/28 [==============================] - 0s 5ms/step - loss: 82.0001 - val_loss: 1349.7511\n",
      "Epoch 209/500\n",
      "28/28 [==============================] - 0s 4ms/step - loss: 81.9557 - val_loss: 1351.2332\n",
      "Epoch 210/500\n",
      "28/28 [==============================] - 0s 6ms/step - loss: 81.9184 - val_loss: 1352.5725\n",
      "Epoch 211/500\n",
      "28/28 [==============================] - 0s 3ms/step - loss: 81.8869 - val_loss: 1353.7798\n",
      "Epoch 212/500\n",
      "28/28 [==============================] - 0s 4ms/step - loss: 81.8605 - val_loss: 1354.8698\n",
      "Epoch 213/500\n",
      "28/28 [==============================] - 0s 4ms/step - loss: 81.8382 - val_loss: 1355.8513\n",
      "Epoch 214/500\n",
      "28/28 [==============================] - 0s 4ms/step - loss: 81.8195 - val_loss: 1356.7357\n",
      "Epoch 215/500\n",
      "28/28 [==============================] - 0s 4ms/step - loss: 81.8035 - val_loss: 1357.5309\n",
      "Epoch 216/500\n",
      "28/28 [==============================] - 0s 5ms/step - loss: 81.7901 - val_loss: 1358.2452\n",
      "Epoch 217/500\n",
      "28/28 [==============================] - 0s 4ms/step - loss: 81.7788 - val_loss: 1358.8868\n",
      "Epoch 218/500\n",
      "28/28 [==============================] - 0s 6ms/step - loss: 81.7691 - val_loss: 1359.4633\n",
      "Epoch 219/500\n",
      "28/28 [==============================] - 0s 5ms/step - loss: 81.7610 - val_loss: 1359.9789\n",
      "Epoch 220/500\n",
      "28/28 [==============================] - 0s 4ms/step - loss: 81.7541 - val_loss: 1360.4415\n",
      "Epoch 221/500\n",
      "28/28 [==============================] - 0s 5ms/step - loss: 81.7483 - val_loss: 1360.8547\n",
      "Epoch 222/500\n",
      "28/28 [==============================] - 0s 4ms/step - loss: 81.7435 - val_loss: 1361.2247\n",
      "Epoch 223/500\n",
      "28/28 [==============================] - 0s 4ms/step - loss: 81.7394 - val_loss: 1361.5557\n",
      "Epoch 224/500\n",
      "28/28 [==============================] - 0s 5ms/step - loss: 81.7359 - val_loss: 1361.8513\n",
      "Epoch 225/500\n",
      "28/28 [==============================] - 0s 4ms/step - loss: 81.7330 - val_loss: 1362.1145\n",
      "Epoch 226/500\n",
      "28/28 [==============================] - 0s 4ms/step - loss: 81.7307 - val_loss: 1362.3501\n",
      "Epoch 227/500\n",
      "28/28 [==============================] - 0s 14ms/step - loss: 81.7287 - val_loss: 1362.5598\n",
      "Epoch 228/500\n",
      "28/28 [==============================] - 0s 6ms/step - loss: 81.7271 - val_loss: 1362.7455\n",
      "Epoch 229/500\n",
      "28/28 [==============================] - 0s 6ms/step - loss: 81.7258 - val_loss: 1362.9113\n",
      "Epoch 230/500\n",
      "28/28 [==============================] - 0s 5ms/step - loss: 81.7248 - val_loss: 1363.0573\n",
      "Epoch 231/500\n",
      "28/28 [==============================] - 0s 6ms/step - loss: 81.7239 - val_loss: 1363.1641\n",
      "Epoch 232/500\n",
      "28/28 [==============================] - 0s 6ms/step - loss: 81.6964 - val_loss: 1345.6949\n",
      "Epoch 233/500\n",
      "28/28 [==============================] - 0s 6ms/step - loss: 83.5259 - val_loss: 1300.7241\n",
      "Epoch 234/500\n",
      "28/28 [==============================] - 0s 5ms/step - loss: 84.5553 - val_loss: 1306.9821\n",
      "Epoch 235/500\n",
      "28/28 [==============================] - 0s 4ms/step - loss: 84.0418 - val_loss: 1312.7683\n",
      "Epoch 236/500\n",
      "28/28 [==============================] - 0s 5ms/step - loss: 83.6148 - val_loss: 1317.9694\n",
      "Epoch 237/500\n",
      "28/28 [==============================] - 0s 6ms/step - loss: 83.2694 - val_loss: 1322.6323\n",
      "Epoch 238/500\n",
      "28/28 [==============================] - 0s 6ms/step - loss: 82.9900 - val_loss: 1326.8087\n",
      "Epoch 239/500\n",
      "28/28 [==============================] - 0s 7ms/step - loss: 82.7638 - val_loss: 1330.5455\n",
      "Epoch 240/500\n",
      "28/28 [==============================] - 0s 8ms/step - loss: 82.5803 - val_loss: 1333.8851\n",
      "Epoch 241/500\n",
      "28/28 [==============================] - 0s 7ms/step - loss: 82.4312 - val_loss: 1336.8676\n",
      "Epoch 242/500\n",
      "28/28 [==============================] - 0s 7ms/step - loss: 82.3098 - val_loss: 1339.5287\n",
      "Epoch 243/500\n",
      "28/28 [==============================] - 0s 7ms/step - loss: 82.2107 - val_loss: 1341.9010\n",
      "Epoch 244/500\n",
      "28/28 [==============================] - 0s 5ms/step - loss: 82.1297 - val_loss: 1344.0148\n",
      "Epoch 245/500\n",
      "28/28 [==============================] - 0s 5ms/step - loss: 82.0632 - val_loss: 1345.8955\n",
      "Epoch 246/500\n",
      "28/28 [==============================] - 0s 4ms/step - loss: 82.0086 - val_loss: 1347.5693\n",
      "Epoch 247/500\n",
      "28/28 [==============================] - 0s 5ms/step - loss: 81.9636 - val_loss: 1349.0577\n",
      "Epoch 248/500\n",
      "28/28 [==============================] - 0s 8ms/step - loss: 81.9264 - val_loss: 1350.3805\n",
      "Epoch 249/500\n",
      "28/28 [==============================] - 0s 6ms/step - loss: 81.8956 - val_loss: 1351.5549\n",
      "Epoch 250/500\n",
      "28/28 [==============================] - 0s 5ms/step - loss: 81.8700 - val_loss: 1352.5973\n",
      "Epoch 251/500\n",
      "28/28 [==============================] - 0s 4ms/step - loss: 81.8486 - val_loss: 1353.5219\n",
      "Epoch 252/500\n",
      "28/28 [==============================] - 0s 5ms/step - loss: 81.8307 - val_loss: 1354.3411\n",
      "Epoch 253/500\n",
      "28/28 [==============================] - 0s 4ms/step - loss: 81.8159 - val_loss: 1355.0669\n",
      "Epoch 254/500\n",
      "28/28 [==============================] - 0s 4ms/step - loss: 81.8033 - val_loss: 1355.7097\n",
      "Epoch 255/500\n",
      "28/28 [==============================] - 0s 4ms/step - loss: 81.7928 - val_loss: 1356.2795\n",
      "Epoch 256/500\n",
      "28/28 [==============================] - 0s 5ms/step - loss: 81.7839 - val_loss: 1356.7836\n",
      "Epoch 257/500\n",
      "28/28 [==============================] - 0s 5ms/step - loss: 81.7763 - val_loss: 1357.2285\n",
      "Epoch 258/500\n",
      "28/28 [==============================] - 0s 4ms/step - loss: 81.7700 - val_loss: 1357.6222\n",
      "Epoch 259/500\n",
      "28/28 [==============================] - 0s 7ms/step - loss: 81.7646 - val_loss: 1357.9700\n",
      "Epoch 260/500\n",
      "28/28 [==============================] - 0s 4ms/step - loss: 81.7601 - val_loss: 1358.2771\n",
      "Epoch 261/500\n",
      "28/28 [==============================] - 0s 4ms/step - loss: 81.7562 - val_loss: 1358.5479\n",
      "Epoch 262/500\n",
      "28/28 [==============================] - 0s 5ms/step - loss: 81.7529 - val_loss: 1358.7871\n",
      "Epoch 263/500\n",
      "28/28 [==============================] - 0s 4ms/step - loss: 81.7501 - val_loss: 1358.9980\n",
      "Epoch 264/500\n",
      "28/28 [==============================] - 0s 4ms/step - loss: 81.7478 - val_loss: 1359.1831\n",
      "Epoch 265/500\n",
      "28/28 [==============================] - 0s 5ms/step - loss: 81.7458 - val_loss: 1359.3472\n",
      "Epoch 266/500\n",
      "28/28 [==============================] - 0s 4ms/step - loss: 81.7441 - val_loss: 1359.4907\n",
      "Epoch 267/500\n",
      "28/28 [==============================] - 0s 4ms/step - loss: 81.7428 - val_loss: 1359.6177\n",
      "Epoch 268/500\n",
      "28/28 [==============================] - 0s 4ms/step - loss: 81.7416 - val_loss: 1359.7286\n",
      "Epoch 269/500\n",
      "28/28 [==============================] - 0s 4ms/step - loss: 81.7406 - val_loss: 1359.8264\n",
      "Epoch 270/500\n",
      "28/28 [==============================] - 0s 4ms/step - loss: 81.7399 - val_loss: 1359.9117\n",
      "Epoch 271/500\n",
      "28/28 [==============================] - 0s 4ms/step - loss: 81.7392 - val_loss: 1359.9869\n",
      "Epoch 272/500\n",
      "28/28 [==============================] - 0s 5ms/step - loss: 81.7387 - val_loss: 1360.0530\n",
      "Epoch 273/500\n",
      "28/28 [==============================] - 0s 4ms/step - loss: 81.7383 - val_loss: 1360.1104\n",
      "Epoch 274/500\n",
      "28/28 [==============================] - 0s 4ms/step - loss: 81.7380 - val_loss: 1360.1610\n",
      "Epoch 275/500\n",
      "28/28 [==============================] - 0s 5ms/step - loss: 81.7378 - val_loss: 1360.2052\n",
      "Epoch 276/500\n",
      "28/28 [==============================] - 0s 4ms/step - loss: 81.7376 - val_loss: 1360.2433\n",
      "Epoch 277/500\n",
      "28/28 [==============================] - 0s 7ms/step - loss: 81.7375 - val_loss: 1360.2764\n",
      "Epoch 278/500\n",
      "28/28 [==============================] - 0s 4ms/step - loss: 81.7374 - val_loss: 1360.3053\n",
      "Epoch 279/500\n",
      "28/28 [==============================] - 0s 4ms/step - loss: 81.7374 - val_loss: 1360.3303\n",
      "Epoch 280/500\n",
      "28/28 [==============================] - 0s 5ms/step - loss: 81.7375 - val_loss: 1360.3523\n",
      "Epoch 281/500\n",
      "28/28 [==============================] - 0s 4ms/step - loss: 81.7375 - val_loss: 1360.3705\n",
      "Epoch 282/500\n",
      "28/28 [==============================] - 0s 4ms/step - loss: 81.7376 - val_loss: 1360.3868\n",
      "Epoch 283/500\n",
      "28/28 [==============================] - 0s 5ms/step - loss: 81.7377 - val_loss: 1360.4004\n",
      "Epoch 284/500\n",
      "28/28 [==============================] - 0s 4ms/step - loss: 81.7380 - val_loss: 1360.4120\n",
      "Epoch 285/500\n",
      "28/28 [==============================] - 0s 3ms/step - loss: 81.7381 - val_loss: 1360.4215\n",
      "Epoch 286/500\n",
      "28/28 [==============================] - 0s 4ms/step - loss: 81.7383 - val_loss: 1360.4304\n",
      "Epoch 287/500\n",
      "28/28 [==============================] - 0s 4ms/step - loss: 81.7384 - val_loss: 1360.4365\n",
      "Epoch 288/500\n",
      "28/28 [==============================] - 0s 4ms/step - loss: 81.7386 - val_loss: 1360.4421\n",
      "Epoch 289/500\n",
      "28/28 [==============================] - 0s 4ms/step - loss: 81.7388 - val_loss: 1360.4468\n",
      "Epoch 290/500\n",
      "28/28 [==============================] - 0s 4ms/step - loss: 81.7391 - val_loss: 1360.4506\n",
      "Epoch 291/500\n",
      "28/28 [==============================] - 0s 4ms/step - loss: 81.7392 - val_loss: 1360.4528\n",
      "Epoch 292/500\n",
      "28/28 [==============================] - 0s 4ms/step - loss: 81.7394 - val_loss: 1360.4541\n",
      "Epoch 293/500\n",
      "28/28 [==============================] - 0s 4ms/step - loss: 81.7397 - val_loss: 1360.4551\n",
      "Epoch 294/500\n",
      "28/28 [==============================] - 0s 7ms/step - loss: 81.7399 - val_loss: 1360.4551\n",
      "Epoch 295/500\n",
      "28/28 [==============================] - 0s 5ms/step - loss: 81.7401 - val_loss: 1360.4546\n",
      "Epoch 296/500\n",
      "28/28 [==============================] - 0s 5ms/step - loss: 81.7403 - val_loss: 1360.4523\n",
      "Epoch 297/500\n",
      "28/28 [==============================] - 0s 4ms/step - loss: 81.7405 - val_loss: 1360.4498\n",
      "Epoch 298/500\n",
      "28/28 [==============================] - 0s 4ms/step - loss: 81.7407 - val_loss: 1360.4452\n",
      "Epoch 299/500\n",
      "28/28 [==============================] - 0s 4ms/step - loss: 81.7410 - val_loss: 1360.4368\n",
      "Epoch 300/500\n",
      "28/28 [==============================] - 0s 4ms/step - loss: 81.7411 - val_loss: 1360.4130\n",
      "Epoch 301/500\n",
      "28/28 [==============================] - 0s 4ms/step - loss: 81.7413 - val_loss: 1360.1620\n",
      "Epoch 302/500\n",
      "28/28 [==============================] - 0s 4ms/step - loss: 81.7114 - val_loss: 1353.1528\n",
      "Epoch 303/500\n",
      "28/28 [==============================] - 0s 4ms/step - loss: 82.5832 - val_loss: 1291.3073\n",
      "Epoch 304/500\n",
      "28/28 [==============================] - 0s 5ms/step - loss: 85.1111 - val_loss: 1298.7177\n",
      "Epoch 305/500\n",
      "28/28 [==============================] - 0s 4ms/step - loss: 84.4505 - val_loss: 1305.4689\n",
      "Epoch 306/500\n",
      "28/28 [==============================] - 0s 4ms/step - loss: 83.9120 - val_loss: 1311.4663\n",
      "Epoch 307/500\n",
      "28/28 [==============================] - 0s 5ms/step - loss: 83.4852 - val_loss: 1316.7797\n",
      "Epoch 308/500\n",
      "28/28 [==============================] - 0s 5ms/step - loss: 83.1471 - val_loss: 1321.4822\n",
      "Epoch 309/500\n",
      "28/28 [==============================] - 0s 4ms/step - loss: 82.8785 - val_loss: 1325.6417\n",
      "Epoch 310/500\n",
      "28/28 [==============================] - 0s 7ms/step - loss: 82.6645 - val_loss: 1329.3181\n",
      "Epoch 311/500\n",
      "28/28 [==============================] - 0s 5ms/step - loss: 82.4936 - val_loss: 1332.5645\n",
      "Epoch 312/500\n",
      "28/28 [==============================] - 0s 5ms/step - loss: 82.3566 - val_loss: 1335.4303\n",
      "Epoch 313/500\n",
      "28/28 [==============================] - 0s 5ms/step - loss: 82.2464 - val_loss: 1337.9573\n",
      "Epoch 314/500\n",
      "28/28 [==============================] - 0s 4ms/step - loss: 82.1575 - val_loss: 1340.1537\n",
      "Epoch 315/500\n",
      "28/28 [==============================] - 0s 4ms/step - loss: 82.0802 - val_loss: 1339.7500\n",
      "Epoch 316/500\n",
      "28/28 [==============================] - 0s 4ms/step - loss: 82.3261 - val_loss: 1342.5028\n",
      "Epoch 317/500\n",
      "28/28 [==============================] - 0s 4ms/step - loss: 82.0739 - val_loss: 1344.4574\n",
      "Epoch 318/500\n",
      "28/28 [==============================] - 0s 4ms/step - loss: 82.0048 - val_loss: 1346.0566\n",
      "Epoch 319/500\n",
      "28/28 [==============================] - 0s 4ms/step - loss: 81.9577 - val_loss: 1347.4227\n",
      "Epoch 320/500\n",
      "28/28 [==============================] - 0s 4ms/step - loss: 81.9215 - val_loss: 1348.5991\n",
      "Epoch 321/500\n",
      "28/28 [==============================] - 0s 4ms/step - loss: 81.8929 - val_loss: 1349.6179\n",
      "Epoch 322/500\n",
      "28/28 [==============================] - 0s 4ms/step - loss: 81.8697 - val_loss: 1350.5002\n",
      "Epoch 323/500\n",
      "28/28 [==============================] - 0s 4ms/step - loss: 81.8507 - val_loss: 1351.2676\n",
      "Epoch 324/500\n",
      "28/28 [==============================] - 0s 4ms/step - loss: 81.8352 - val_loss: 1351.9337\n",
      "Epoch 325/500\n",
      "28/28 [==============================] - 0s 7ms/step - loss: 81.8223 - val_loss: 1352.5129\n",
      "Epoch 326/500\n",
      "28/28 [==============================] - 0s 5ms/step - loss: 81.8115 - val_loss: 1353.0177\n",
      "Epoch 327/500\n",
      "28/28 [==============================] - 0s 4ms/step - loss: 81.8025 - val_loss: 1353.4572\n",
      "Epoch 328/500\n",
      "28/28 [==============================] - 0s 5ms/step - loss: 81.7949 - val_loss: 1353.8401\n",
      "Epoch 329/500\n",
      "28/28 [==============================] - 0s 5ms/step - loss: 81.7885 - val_loss: 1354.1727\n",
      "Epoch 330/500\n",
      "28/28 [==============================] - 0s 4ms/step - loss: 81.7830 - val_loss: 1354.4633\n",
      "Epoch 331/500\n",
      "28/28 [==============================] - 0s 4ms/step - loss: 81.7784 - val_loss: 1354.7162\n",
      "Epoch 332/500\n",
      "28/28 [==============================] - 0s 4ms/step - loss: 81.7743 - val_loss: 1354.9359\n",
      "Epoch 333/500\n",
      "28/28 [==============================] - 0s 4ms/step - loss: 81.7710 - val_loss: 1355.1267\n",
      "Epoch 334/500\n",
      "28/28 [==============================] - 0s 4ms/step - loss: 81.7680 - val_loss: 1355.2938\n",
      "Epoch 335/500\n",
      "28/28 [==============================] - 0s 4ms/step - loss: 81.7654 - val_loss: 1355.4373\n",
      "Epoch 336/500\n",
      "28/28 [==============================] - 0s 4ms/step - loss: 81.7633 - val_loss: 1355.5636\n",
      "Epoch 337/500\n",
      "28/28 [==============================] - 0s 4ms/step - loss: 81.7614 - val_loss: 1355.6719\n",
      "Epoch 338/500\n",
      "28/28 [==============================] - 0s 4ms/step - loss: 81.7598 - val_loss: 1355.7679\n",
      "Epoch 339/500\n",
      "28/28 [==============================] - 0s 4ms/step - loss: 81.7583 - val_loss: 1355.8488\n",
      "Epoch 340/500\n",
      "28/28 [==============================] - 0s 7ms/step - loss: 81.7572 - val_loss: 1355.9204\n",
      "Epoch 341/500\n",
      "28/28 [==============================] - 0s 4ms/step - loss: 81.7561 - val_loss: 1355.9822\n",
      "Epoch 342/500\n",
      "28/28 [==============================] - 0s 4ms/step - loss: 81.7551 - val_loss: 1356.0336\n",
      "Epoch 343/500\n",
      "28/28 [==============================] - 0s 4ms/step - loss: 81.7544 - val_loss: 1356.0791\n",
      "Epoch 344/500\n",
      "28/28 [==============================] - 0s 4ms/step - loss: 81.7537 - val_loss: 1356.1177\n",
      "Epoch 345/500\n",
      "28/28 [==============================] - 0s 4ms/step - loss: 81.7531 - val_loss: 1356.1509\n",
      "Epoch 346/500\n",
      "28/28 [==============================] - 0s 4ms/step - loss: 81.7526 - val_loss: 1356.1799\n",
      "Epoch 347/500\n",
      "28/28 [==============================] - 0s 4ms/step - loss: 81.7521 - val_loss: 1356.2034\n",
      "Epoch 348/500\n",
      "28/28 [==============================] - 0s 4ms/step - loss: 81.7516 - val_loss: 1356.2233\n",
      "Epoch 349/500\n",
      "28/28 [==============================] - 0s 4ms/step - loss: 81.7514 - val_loss: 1356.2406\n",
      "Epoch 350/500\n",
      "28/28 [==============================] - 0s 4ms/step - loss: 81.7511 - val_loss: 1356.2550\n",
      "Epoch 351/500\n",
      "28/28 [==============================] - 0s 4ms/step - loss: 81.7508 - val_loss: 1356.2668\n",
      "Epoch 352/500\n",
      "28/28 [==============================] - 0s 4ms/step - loss: 81.7505 - val_loss: 1356.2759\n",
      "Epoch 353/500\n",
      "28/28 [==============================] - 0s 4ms/step - loss: 81.7504 - val_loss: 1356.2828\n",
      "Epoch 354/500\n",
      "28/28 [==============================] - 0s 3ms/step - loss: 81.7502 - val_loss: 1356.2885\n",
      "Epoch 355/500\n",
      "28/28 [==============================] - 0s 7ms/step - loss: 81.7500 - val_loss: 1356.2919\n",
      "Epoch 356/500\n",
      "28/28 [==============================] - 0s 5ms/step - loss: 81.7499 - val_loss: 1356.2936\n",
      "Epoch 357/500\n",
      "28/28 [==============================] - 0s 5ms/step - loss: 81.7497 - val_loss: 1356.2941\n",
      "Epoch 358/500\n",
      "28/28 [==============================] - 0s 4ms/step - loss: 81.7496 - val_loss: 1356.2932\n",
      "Epoch 359/500\n",
      "28/28 [==============================] - 0s 4ms/step - loss: 81.7495 - val_loss: 1356.2922\n",
      "Epoch 360/500\n",
      "28/28 [==============================] - 0s 4ms/step - loss: 81.7494 - val_loss: 1356.2900\n",
      "Epoch 361/500\n",
      "28/28 [==============================] - 0s 4ms/step - loss: 81.7494 - val_loss: 1356.2856\n",
      "Epoch 362/500\n",
      "28/28 [==============================] - 0s 4ms/step - loss: 81.7493 - val_loss: 1356.2823\n",
      "Epoch 363/500\n",
      "28/28 [==============================] - 0s 4ms/step - loss: 81.7493 - val_loss: 1356.2780\n",
      "Epoch 364/500\n",
      "28/28 [==============================] - 0s 4ms/step - loss: 81.7492 - val_loss: 1356.2727\n",
      "Epoch 365/500\n",
      "28/28 [==============================] - 0s 4ms/step - loss: 81.7492 - val_loss: 1356.2666\n",
      "Epoch 366/500\n",
      "28/28 [==============================] - 0s 5ms/step - loss: 81.7492 - val_loss: 1356.2606\n",
      "Epoch 367/500\n",
      "28/28 [==============================] - 0s 4ms/step - loss: 81.7491 - val_loss: 1356.2543\n",
      "Epoch 368/500\n",
      "28/28 [==============================] - 0s 4ms/step - loss: 81.7491 - val_loss: 1356.2469\n",
      "Epoch 369/500\n",
      "28/28 [==============================] - 0s 4ms/step - loss: 81.7492 - val_loss: 1356.2389\n",
      "Epoch 370/500\n",
      "28/28 [==============================] - 0s 7ms/step - loss: 81.7491 - val_loss: 1356.2317\n",
      "Epoch 371/500\n",
      "28/28 [==============================] - 0s 5ms/step - loss: 81.7491 - val_loss: 1356.2233\n",
      "Epoch 372/500\n",
      "28/28 [==============================] - 0s 5ms/step - loss: 81.7491 - val_loss: 1356.2144\n",
      "Epoch 373/500\n",
      "28/28 [==============================] - 0s 5ms/step - loss: 81.7491 - val_loss: 1356.2056\n",
      "Epoch 374/500\n",
      "28/28 [==============================] - 0s 4ms/step - loss: 81.7491 - val_loss: 1356.1959\n",
      "Epoch 375/500\n",
      "28/28 [==============================] - 0s 4ms/step - loss: 81.7492 - val_loss: 1356.1859\n",
      "Epoch 376/500\n",
      "28/28 [==============================] - 0s 4ms/step - loss: 81.7491 - val_loss: 1356.1761\n",
      "Epoch 377/500\n",
      "28/28 [==============================] - 0s 4ms/step - loss: 81.7491 - val_loss: 1356.1671\n",
      "Epoch 378/500\n",
      "28/28 [==============================] - 0s 4ms/step - loss: 81.7490 - val_loss: 1356.1556\n",
      "Epoch 379/500\n",
      "28/28 [==============================] - 0s 4ms/step - loss: 81.7490 - val_loss: 1356.1428\n",
      "Epoch 380/500\n",
      "28/28 [==============================] - 0s 4ms/step - loss: 81.7490 - val_loss: 1356.1288\n",
      "Epoch 381/500\n",
      "28/28 [==============================] - 0s 4ms/step - loss: 81.7489 - val_loss: 1356.1107\n",
      "Epoch 382/500\n",
      "28/28 [==============================] - 0s 4ms/step - loss: 81.7489 - val_loss: 1356.0775\n",
      "Epoch 383/500\n",
      "28/28 [==============================] - 0s 6ms/step - loss: 81.7490 - val_loss: 1355.0168\n",
      "Epoch 384/500\n",
      "28/28 [==============================] - 0s 5ms/step - loss: 81.8736 - val_loss: 1356.1421\n",
      "Epoch 385/500\n",
      "28/28 [==============================] - 0s 4ms/step - loss: 81.7490 - val_loss: 1356.1278\n",
      "Epoch 386/500\n",
      "28/28 [==============================] - 0s 4ms/step - loss: 81.7487 - val_loss: 1356.1105\n",
      "Epoch 387/500\n",
      "28/28 [==============================] - 0s 4ms/step - loss: 81.7488 - val_loss: 1356.0931\n",
      "Epoch 388/500\n",
      "28/28 [==============================] - 0s 4ms/step - loss: 81.7488 - val_loss: 1356.0764\n",
      "Epoch 389/500\n",
      "28/28 [==============================] - 0s 4ms/step - loss: 81.7489 - val_loss: 1356.0587\n",
      "Epoch 390/500\n",
      "28/28 [==============================] - 0s 4ms/step - loss: 81.7489 - val_loss: 1356.0414\n",
      "Epoch 391/500\n",
      "28/28 [==============================] - 0s 4ms/step - loss: 81.7488 - val_loss: 1356.0233\n",
      "Epoch 392/500\n",
      "28/28 [==============================] - 0s 4ms/step - loss: 81.7490 - val_loss: 1356.0048\n",
      "Epoch 393/500\n",
      "28/28 [==============================] - 0s 4ms/step - loss: 81.7490 - val_loss: 1355.9871\n",
      "Epoch 394/500\n",
      "28/28 [==============================] - 0s 3ms/step - loss: 81.7490 - val_loss: 1355.9685\n",
      "Epoch 395/500\n",
      "28/28 [==============================] - 0s 4ms/step - loss: 81.7490 - val_loss: 1355.9493\n",
      "Epoch 396/500\n",
      "28/28 [==============================] - 0s 4ms/step - loss: 81.7490 - val_loss: 1355.9293\n",
      "Epoch 397/500\n",
      "28/28 [==============================] - 0s 4ms/step - loss: 81.7490 - val_loss: 1355.9080\n",
      "Epoch 398/500\n",
      "28/28 [==============================] - 0s 5ms/step - loss: 81.7491 - val_loss: 1355.8868\n",
      "Epoch 399/500\n",
      "28/28 [==============================] - 0s 5ms/step - loss: 81.7491 - val_loss: 1355.8654\n",
      "Epoch 400/500\n",
      "28/28 [==============================] - 0s 5ms/step - loss: 81.7491 - val_loss: 1355.8430\n",
      "Epoch 401/500\n",
      "28/28 [==============================] - 0s 7ms/step - loss: 81.7491 - val_loss: 1355.8203\n",
      "Epoch 402/500\n",
      "28/28 [==============================] - 0s 5ms/step - loss: 81.7492 - val_loss: 1355.7969\n",
      "Epoch 403/500\n",
      "28/28 [==============================] - 0s 6ms/step - loss: 81.7492 - val_loss: 1355.7726\n",
      "Epoch 404/500\n",
      "28/28 [==============================] - 0s 5ms/step - loss: 81.7492 - val_loss: 1355.7469\n",
      "Epoch 405/500\n",
      "28/28 [==============================] - 0s 4ms/step - loss: 81.7492 - val_loss: 1355.7196\n",
      "Epoch 406/500\n",
      "28/28 [==============================] - 0s 4ms/step - loss: 81.7492 - val_loss: 1355.6909\n",
      "Epoch 407/500\n",
      "28/28 [==============================] - 0s 5ms/step - loss: 81.7491 - val_loss: 1355.6605\n",
      "Epoch 408/500\n",
      "28/28 [==============================] - 0s 4ms/step - loss: 81.7492 - val_loss: 1355.6284\n",
      "Epoch 409/500\n",
      "28/28 [==============================] - 0s 4ms/step - loss: 81.7491 - val_loss: 1355.5945\n",
      "Epoch 410/500\n",
      "28/28 [==============================] - 0s 5ms/step - loss: 81.7492 - val_loss: 1355.5586\n",
      "Epoch 411/500\n",
      "28/28 [==============================] - 0s 4ms/step - loss: 81.7492 - val_loss: 1355.5203\n",
      "Epoch 412/500\n",
      "28/28 [==============================] - 0s 4ms/step - loss: 81.7492 - val_loss: 1355.4791\n",
      "Epoch 413/500\n",
      "28/28 [==============================] - 0s 4ms/step - loss: 81.7492 - val_loss: 1355.4340\n",
      "Epoch 414/500\n",
      "28/28 [==============================] - 0s 4ms/step - loss: 81.7492 - val_loss: 1355.3860\n",
      "Epoch 415/500\n",
      "28/28 [==============================] - 0s 4ms/step - loss: 81.7492 - val_loss: 1355.3330\n",
      "Epoch 416/500\n",
      "28/28 [==============================] - 0s 4ms/step - loss: 81.7492 - val_loss: 1355.2747\n",
      "Epoch 417/500\n",
      "28/28 [==============================] - 0s 4ms/step - loss: 81.7493 - val_loss: 1355.2096\n",
      "Epoch 418/500\n",
      "28/28 [==============================] - 0s 4ms/step - loss: 81.7492 - val_loss: 1355.1351\n",
      "Epoch 419/500\n",
      "28/28 [==============================] - 0s 5ms/step - loss: 81.7492 - val_loss: 1355.0457\n",
      "Epoch 420/500\n",
      "28/28 [==============================] - 0s 4ms/step - loss: 81.7492 - val_loss: 1354.9325\n",
      "Epoch 421/500\n",
      "28/28 [==============================] - 0s 4ms/step - loss: 81.7493 - val_loss: 1354.7719\n",
      "Epoch 422/500\n",
      "28/28 [==============================] - 0s 7ms/step - loss: 81.7493 - val_loss: 1354.4491\n",
      "Epoch 423/500\n",
      "28/28 [==============================] - 0s 4ms/step - loss: 81.7486 - val_loss: 1335.2130\n",
      "Epoch 424/500\n",
      "28/28 [==============================] - 0s 4ms/step - loss: 81.7559 - val_loss: 1358.3682\n",
      "Epoch 425/500\n",
      "28/28 [==============================] - 0s 4ms/step - loss: 81.7492 - val_loss: 1358.3351\n",
      "Epoch 426/500\n",
      "28/28 [==============================] - 0s 4ms/step - loss: 81.7492 - val_loss: 1358.2993\n",
      "Epoch 427/500\n",
      "28/28 [==============================] - 0s 4ms/step - loss: 81.7492 - val_loss: 1358.2616\n",
      "Epoch 428/500\n",
      "28/28 [==============================] - 0s 4ms/step - loss: 81.7493 - val_loss: 1358.2212\n",
      "Epoch 429/500\n",
      "28/28 [==============================] - 0s 4ms/step - loss: 81.7493 - val_loss: 1358.1776\n",
      "Epoch 430/500\n",
      "28/28 [==============================] - 0s 4ms/step - loss: 81.7493 - val_loss: 1358.1304\n",
      "Epoch 431/500\n",
      "28/28 [==============================] - 0s 4ms/step - loss: 81.7493 - val_loss: 1358.0786\n",
      "Epoch 432/500\n",
      "28/28 [==============================] - 0s 4ms/step - loss: 81.7493 - val_loss: 1358.0225\n",
      "Epoch 433/500\n",
      "28/28 [==============================] - 0s 4ms/step - loss: 81.7493 - val_loss: 1357.9612\n",
      "Epoch 434/500\n",
      "28/28 [==============================] - 0s 4ms/step - loss: 81.7493 - val_loss: 1357.8934\n",
      "Epoch 435/500\n",
      "28/28 [==============================] - 0s 4ms/step - loss: 81.7493 - val_loss: 1357.8165\n",
      "Epoch 436/500\n",
      "28/28 [==============================] - 0s 4ms/step - loss: 81.7493 - val_loss: 1357.7281\n",
      "Epoch 437/500\n",
      "28/28 [==============================] - 0s 4ms/step - loss: 81.7493 - val_loss: 1357.6252\n",
      "Epoch 438/500\n",
      "28/28 [==============================] - 0s 4ms/step - loss: 81.7493 - val_loss: 1357.5029\n",
      "Epoch 439/500\n",
      "28/28 [==============================] - 0s 4ms/step - loss: 81.7493 - val_loss: 1357.3519\n",
      "Epoch 440/500\n",
      "28/28 [==============================] - 0s 4ms/step - loss: 81.7493 - val_loss: 1357.1580\n",
      "Epoch 441/500\n",
      "28/28 [==============================] - 0s 6ms/step - loss: 81.7493 - val_loss: 1356.8881\n",
      "Epoch 442/500\n",
      "28/28 [==============================] - 0s 5ms/step - loss: 81.7493 - val_loss: 1356.4617\n",
      "Epoch 443/500\n",
      "28/28 [==============================] - 0s 4ms/step - loss: 81.7493 - val_loss: 1355.5787\n",
      "Epoch 444/500\n",
      "28/28 [==============================] - 0s 4ms/step - loss: 81.7493 - val_loss: 1349.8264\n",
      "Epoch 445/500\n",
      "28/28 [==============================] - 0s 4ms/step - loss: 81.5324 - val_loss: 1314.6649\n",
      "Epoch 446/500\n",
      "28/28 [==============================] - 0s 4ms/step - loss: 85.4716 - val_loss: 1309.6815\n",
      "Epoch 447/500\n",
      "28/28 [==============================] - 0s 5ms/step - loss: 84.9542 - val_loss: 1317.1963\n",
      "Epoch 448/500\n",
      "28/28 [==============================] - 0s 4ms/step - loss: 84.3127 - val_loss: 1323.9812\n",
      "Epoch 449/500\n",
      "28/28 [==============================] - 0s 4ms/step - loss: 83.7955 - val_loss: 1329.9849\n",
      "Epoch 450/500\n",
      "28/28 [==============================] - 0s 4ms/step - loss: 83.3877 - val_loss: 1335.2856\n",
      "Epoch 451/500\n",
      "28/28 [==============================] - 0s 4ms/step - loss: 83.0660 - val_loss: 1339.9626\n",
      "Epoch 452/500\n",
      "28/28 [==============================] - 0s 4ms/step - loss: 82.8112 - val_loss: 1344.0868\n",
      "Epoch 453/500\n",
      "28/28 [==============================] - 0s 4ms/step - loss: 82.6090 - val_loss: 1347.7207\n",
      "Epoch 454/500\n",
      "28/28 [==============================] - 0s 4ms/step - loss: 82.4479 - val_loss: 1350.9189\n",
      "Epoch 455/500\n",
      "28/28 [==============================] - 0s 4ms/step - loss: 82.3192 - val_loss: 1353.7361\n",
      "Epoch 456/500\n",
      "28/28 [==============================] - 0s 4ms/step - loss: 82.2158 - val_loss: 1356.2130\n",
      "Epoch 457/500\n",
      "28/28 [==============================] - 0s 4ms/step - loss: 82.1326 - val_loss: 1358.3917\n",
      "Epoch 458/500\n",
      "28/28 [==============================] - 0s 4ms/step - loss: 82.0654 - val_loss: 1360.3070\n",
      "Epoch 459/500\n",
      "28/28 [==============================] - 0s 4ms/step - loss: 82.0107 - val_loss: 1361.9905\n",
      "Epoch 460/500\n",
      "28/28 [==============================] - 0s 4ms/step - loss: 81.9661 - val_loss: 1363.4691\n",
      "Epoch 461/500\n",
      "28/28 [==============================] - 0s 7ms/step - loss: 81.9296 - val_loss: 1364.7679\n",
      "Epoch 462/500\n",
      "28/28 [==============================] - 0s 4ms/step - loss: 81.8996 - val_loss: 1365.9067\n",
      "Epoch 463/500\n",
      "28/28 [==============================] - 0s 4ms/step - loss: 81.8748 - val_loss: 1366.9082\n",
      "Epoch 464/500\n",
      "28/28 [==============================] - 0s 4ms/step - loss: 81.8543 - val_loss: 1367.7854\n",
      "Epoch 465/500\n",
      "28/28 [==============================] - 0s 4ms/step - loss: 81.8371 - val_loss: 1368.5548\n",
      "Epoch 466/500\n",
      "28/28 [==============================] - 0s 4ms/step - loss: 81.8230 - val_loss: 1369.2312\n",
      "Epoch 467/500\n",
      "28/28 [==============================] - 0s 4ms/step - loss: 81.8109 - val_loss: 1369.8240\n",
      "Epoch 468/500\n",
      "28/28 [==============================] - 0s 4ms/step - loss: 81.8008 - val_loss: 1370.3423\n",
      "Epoch 469/500\n",
      "28/28 [==============================] - 0s 4ms/step - loss: 81.7923 - val_loss: 1370.7983\n",
      "Epoch 470/500\n",
      "28/28 [==============================] - 0s 4ms/step - loss: 81.7850 - val_loss: 1371.1980\n",
      "Epoch 471/500\n",
      "28/28 [==============================] - 0s 4ms/step - loss: 81.7788 - val_loss: 1371.5474\n",
      "Epoch 472/500\n",
      "28/28 [==============================] - 0s 4ms/step - loss: 81.7737 - val_loss: 1371.8536\n",
      "Epoch 473/500\n",
      "28/28 [==============================] - 0s 4ms/step - loss: 81.7691 - val_loss: 1372.1213\n",
      "Epoch 474/500\n",
      "28/28 [==============================] - 0s 4ms/step - loss: 81.7652 - val_loss: 1372.3555\n",
      "Epoch 475/500\n",
      "28/28 [==============================] - 0s 4ms/step - loss: 81.7619 - val_loss: 1372.5601\n",
      "Epoch 476/500\n",
      "28/28 [==============================] - 0s 6ms/step - loss: 81.7590 - val_loss: 1372.7395\n",
      "Epoch 477/500\n",
      "28/28 [==============================] - 0s 7ms/step - loss: 81.7566 - val_loss: 1372.8958\n",
      "Epoch 478/500\n",
      "28/28 [==============================] - 0s 5ms/step - loss: 81.7544 - val_loss: 1373.0305\n",
      "Epoch 479/500\n",
      "28/28 [==============================] - 0s 4ms/step - loss: 81.7526 - val_loss: 1373.1482\n",
      "Epoch 480/500\n",
      "28/28 [==============================] - 0s 6ms/step - loss: 81.7510 - val_loss: 1373.2506\n",
      "Epoch 481/500\n",
      "28/28 [==============================] - 0s 5ms/step - loss: 81.7497 - val_loss: 1373.3394\n",
      "Epoch 482/500\n",
      "28/28 [==============================] - 0s 4ms/step - loss: 81.7484 - val_loss: 1373.4149\n",
      "Epoch 483/500\n",
      "28/28 [==============================] - 0s 5ms/step - loss: 81.7474 - val_loss: 1373.4812\n",
      "Epoch 484/500\n",
      "28/28 [==============================] - 0s 4ms/step - loss: 81.7466 - val_loss: 1373.5385\n",
      "Epoch 485/500\n",
      "28/28 [==============================] - 0s 6ms/step - loss: 81.7457 - val_loss: 1373.5884\n",
      "Epoch 486/500\n",
      "28/28 [==============================] - 0s 5ms/step - loss: 81.7449 - val_loss: 1373.6289\n",
      "Epoch 487/500\n",
      "28/28 [==============================] - 0s 5ms/step - loss: 81.7445 - val_loss: 1373.6652\n",
      "Epoch 488/500\n",
      "28/28 [==============================] - 0s 4ms/step - loss: 81.7439 - val_loss: 1373.6963\n",
      "Epoch 489/500\n",
      "28/28 [==============================] - 0s 4ms/step - loss: 81.7434 - val_loss: 1373.7196\n",
      "Epoch 490/500\n",
      "28/28 [==============================] - 0s 4ms/step - loss: 81.7431 - val_loss: 1373.7404\n",
      "Epoch 491/500\n",
      "28/28 [==============================] - 0s 7ms/step - loss: 81.7427 - val_loss: 1373.7550\n",
      "Epoch 492/500\n",
      "28/28 [==============================] - 0s 6ms/step - loss: 81.7424 - val_loss: 1373.7667\n",
      "Epoch 493/500\n",
      "28/28 [==============================] - 0s 4ms/step - loss: 81.7422 - val_loss: 1373.7764\n",
      "Epoch 494/500\n",
      "28/28 [==============================] - 0s 4ms/step - loss: 81.7420 - val_loss: 1373.7825\n",
      "Epoch 495/500\n",
      "28/28 [==============================] - 0s 5ms/step - loss: 81.7417 - val_loss: 1373.7849\n",
      "Epoch 496/500\n",
      "28/28 [==============================] - 0s 5ms/step - loss: 81.7414 - val_loss: 1373.7847\n",
      "Epoch 497/500\n",
      "28/28 [==============================] - 0s 4ms/step - loss: 81.7414 - val_loss: 1373.7820\n",
      "Epoch 498/500\n",
      "28/28 [==============================] - 0s 4ms/step - loss: 81.7413 - val_loss: 1373.7771\n",
      "Epoch 499/500\n",
      "28/28 [==============================] - 0s 4ms/step - loss: 81.7413 - val_loss: 1373.7706\n",
      "Epoch 500/500\n",
      "28/28 [==============================] - 0s 4ms/step - loss: 81.7412 - val_loss: 1373.7637\n"
     ]
    }
   ],
   "source": [
    "C0 = tf.Variable(86.6856, name=\"C0\", trainable=True, dtype=tf.float32)\n",
    "K0 = tf.Variable(-0.0008, name=\"K0\", trainable=True, dtype=tf.float32)\n",
    "K1 = tf.Variable(-0.0002, name=\"K1\", trainable=True, dtype=tf.float32)\n",
    "a = tf.Variable(0.0000, name=\"a\", trainable=True, dtype=tf.float32)\n",
    "b = tf.Variable(0.0128, name=\"b\", trainable=True, dtype=tf.float32)\n",
    "c = tf.Variable(-2.3003, name=\"c\", trainable=True, dtype=tf.float32)\n",
    "\n",
    "splitr = 0.8\n",
    "\n",
    "\n",
    "def loss_fn(y_true, y_pred):\n",
    "    squared_difference = tf.square(y_true[:, 0] - y_pred[:, 0])\n",
    "    #squared_difference2 = tf.square(y_true[:, 2]-y_pred[:, 2])\n",
    "    #squared_difference1 = tf.square(y_true[:, 1]-y_pred[:, 1])\n",
    "    epsilon = 1\n",
    "    squared_difference3 = tf.square(\n",
    "        y_pred[:, 1] - (\n",
    "            y_pred[:, 0] * (\n",
    "                K0 - K1 * (\n",
    "                    9 * a * tf.math.log((y_pred[:, 0] + epsilon) / C0) / (K0 - K1 * c)**2 +\n",
    "                    4 * b * tf.math.log((y_pred[:, 0] + epsilon) / C0) / (K0 - K1 * c) + c\n",
    "                )\n",
    "            )\n",
    "        )\n",
    "    )\n",
    "    return tf.reduce_mean(squared_difference, axis=-1) + 0.2*tf.reduce_mean(squared_difference3, axis=-1)\n",
    "model = Sequential()\n",
    "model.add(LSTM(100, input_shape=(trainX.shape[1], trainX.shape[2])))\n",
    "model.add(Dense(60))\n",
    "model.compile(loss=loss_fn, optimizer='adam')\n",
    "history = model.fit(trainX[:int(splitr*trainX.shape[0])], trainy[:int(splitr*trainX.shape[0])], epochs=500, batch_size=64, validation_data=(trainX[int(splitr*trainX.shape[0]):trainX.shape[0]], trainy[int(splitr*trainX.shape[0]):trainX.shape[0]]), shuffle=False)"
   ]
  },
  {
   "cell_type": "code",
   "execution_count": 19,
   "metadata": {
    "colab": {
     "base_uri": "https://localhost:8080/"
    },
    "id": "yJL101rPyuoT",
    "outputId": "239ff2b1-c186-423a-d316-939dfdd7c793"
   },
   "outputs": [
    {
     "name": "stdout",
     "output_type": "stream",
     "text": [
      "1/1 [==============================] - 0s 354ms/step\n"
     ]
    }
   ],
   "source": [
    "forecast_without_mc = forecastX\n",
    "yhat_without_mc = model.predict(forecast_without_mc) # Step Ahead Prediction\n",
    "forecast_without_mc = forecast_without_mc.reshape((forecast_without_mc.shape[0], forecast_without_mc.shape[2])) # Historical Input"
   ]
  },
  {
   "cell_type": "code",
   "execution_count": 20,
   "metadata": {
    "colab": {
     "base_uri": "https://localhost:8080/"
    },
    "id": "g9dQELcJ8wbp",
    "outputId": "4dc7671b-b1a8-48d5-8744-a86f98446109"
   },
   "outputs": [
    {
     "data": {
      "text/plain": [
       "(1, 1, 126)"
      ]
     },
     "execution_count": 20,
     "metadata": {},
     "output_type": "execute_result"
    }
   ],
   "source": [
    "forecastX.shape"
   ]
  },
  {
   "cell_type": "code",
   "execution_count": 21,
   "metadata": {
    "colab": {
     "base_uri": "https://localhost:8080/"
    },
    "id": "IS2kyIKG1Kbr",
    "outputId": "f31b3485-8e26-452f-9298-ea8bf7e80ad1"
   },
   "outputs": [
    {
     "data": {
      "text/plain": [
       "(1, 126)"
      ]
     },
     "execution_count": 21,
     "metadata": {},
     "output_type": "execute_result"
    }
   ],
   "source": [
    "forecast_without_mc.shape"
   ]
  },
  {
   "cell_type": "code",
   "execution_count": 22,
   "metadata": {
    "id": "0u6VIzaDyuoT"
   },
   "outputs": [],
   "source": [
    "inv_yhat_without_mc = np.concatenate((forecast_without_mc, yhat_without_mc), axis=1) # Concatenation of predicted values with Historical Data\n",
    "#inv_yhat_without_mc = scaler.inverse_transform(inv_yhat_without_mc) # Transform labels back to original encoding"
   ]
  },
  {
   "cell_type": "code",
   "execution_count": 23,
   "metadata": {
    "colab": {
     "base_uri": "https://localhost:8080/"
    },
    "id": "EUEcw0LX07oU",
    "outputId": "cfc32397-9c37-4b43-d087-584bb31c3dcc"
   },
   "outputs": [
    {
     "data": {
      "text/plain": [
       "(1, 186)"
      ]
     },
     "execution_count": 23,
     "metadata": {},
     "output_type": "execute_result"
    }
   ],
   "source": [
    "inv_yhat_without_mc.shape"
   ]
  },
  {
   "cell_type": "code",
   "execution_count": 24,
   "metadata": {
    "id": "31OWVbSh_305"
   },
   "outputs": [],
   "source": [
    "fforecast = inv_yhat_without_mc[:,-150:]"
   ]
  },
  {
   "cell_type": "code",
   "execution_count": 25,
   "metadata": {},
   "outputs": [
    {
     "data": {
      "text/plain": [
       "(1, 150)"
      ]
     },
     "execution_count": 25,
     "metadata": {},
     "output_type": "execute_result"
    }
   ],
   "source": [
    "fforecast.shape"
   ]
  },
  {
   "cell_type": "code",
   "execution_count": 26,
   "metadata": {
    "id": "BlpGH2FOAiRF"
   },
   "outputs": [],
   "source": [
    "final_forecast = fforecast[:,0:150:3]"
   ]
  },
  {
   "cell_type": "code",
   "execution_count": 27,
   "metadata": {},
   "outputs": [
    {
     "data": {
      "text/plain": [
       "(1, 150)"
      ]
     },
     "execution_count": 27,
     "metadata": {},
     "output_type": "execute_result"
    }
   ],
   "source": [
    "fforecast.shape"
   ]
  },
  {
   "cell_type": "code",
   "execution_count": 28,
   "metadata": {
    "id": "CXkgkj_LBk_t"
   },
   "outputs": [],
   "source": [
    "# code to replace all negative value with 0\n",
    "final_forecast[final_forecast<0] = 0"
   ]
  },
  {
   "cell_type": "code",
   "execution_count": 29,
   "metadata": {},
   "outputs": [
    {
     "data": {
      "text/plain": [
       "array([[0.00000000e+00, 6.91160598e+01, 6.86118581e+01, 6.81076564e+01,\n",
       "        6.76948483e+01, 6.74251004e+01, 6.71553525e+01, 6.68856046e+01,\n",
       "        6.66158161e+01, 6.63460624e+01, 0.00000000e+00, 8.12869100e-02,\n",
       "        6.75349977e+01, 6.72652498e+01, 6.69955019e+01, 6.67255159e+01,\n",
       "        6.64568390e+01, 6.61864535e+01, 6.59172895e+01, 6.56481325e+01,\n",
       "        6.53789755e+01, 6.51098185e+01, 6.48406615e+01, 4.90063705e+01,\n",
       "        2.30149930e-01, 0.00000000e+00, 6.24974730e-01, 0.00000000e+00,\n",
       "        0.00000000e+00, 3.20691640e-01, 4.89851227e+01, 1.88739300e-02,\n",
       "        2.73354739e-01, 1.37845740e-01, 4.23176736e-01, 0.00000000e+00,\n",
       "        0.00000000e+00, 0.00000000e+00, 0.00000000e+00, 5.65639734e-01,\n",
       "        1.39531597e-01, 2.09663972e-01, 0.00000000e+00, 7.40632653e-01,\n",
       "        1.93554446e-01, 1.86798289e-01, 0.00000000e+00, 0.00000000e+00,\n",
       "        3.64838243e-02, 0.00000000e+00]])"
      ]
     },
     "execution_count": 29,
     "metadata": {},
     "output_type": "execute_result"
    }
   ],
   "source": [
    "final_forecast"
   ]
  },
  {
   "cell_type": "code",
   "execution_count": 30,
   "metadata": {},
   "outputs": [
    {
     "data": {
      "text/plain": [
       "(1, 50)"
      ]
     },
     "execution_count": 30,
     "metadata": {},
     "output_type": "execute_result"
    }
   ],
   "source": [
    "final_forecast.shape"
   ]
  },
  {
   "cell_type": "code",
   "execution_count": 31,
   "metadata": {},
   "outputs": [
    {
     "data": {
      "text/plain": [
       "(50,)"
      ]
     },
     "execution_count": 31,
     "metadata": {},
     "output_type": "execute_result"
    }
   ],
   "source": [
    "test.shape"
   ]
  },
  {
   "cell_type": "code",
   "execution_count": 32,
   "metadata": {},
   "outputs": [],
   "source": [
    "training_set = np.array(training_set)\n",
    "test = np.array(test)\n",
    "final_forecast = np.array(final_forecast.squeeze(0))"
   ]
  },
  {
   "cell_type": "code",
   "execution_count": 33,
   "metadata": {},
   "outputs": [
    {
     "data": {
      "text/plain": [
       "array([55.6025825 , 55.59028489, 55.57798729, 55.56568969, 55.55339209,\n",
       "       55.54109449, 55.52879688, 55.51649928, 55.50420168, 55.49190408,\n",
       "       55.47960648, 55.46730887, 55.45501127, 55.44271367, 55.43041607,\n",
       "       55.41811847, 55.40582086, 55.39352326, 55.38122566, 55.36892806,\n",
       "       55.35663046, 55.34433286, 55.33203525, 55.31973765, 55.30744005,\n",
       "       55.29514245, 55.28284485, 55.27054724, 55.25824964, 55.24595204,\n",
       "       55.23365444, 55.22135684, 55.20905923, 55.19676163, 55.18446403,\n",
       "       55.17216643, 55.15986883, 55.14757122, 55.13527362, 55.12297602,\n",
       "       55.11067842, 55.09838082, 55.08608321, 55.07378561, 55.06148801,\n",
       "       55.04919041, 55.03689281, 55.0245952 , 55.0122976 , 55.        ])"
      ]
     },
     "execution_count": 33,
     "metadata": {},
     "output_type": "execute_result"
    }
   ],
   "source": [
    "test"
   ]
  },
  {
   "cell_type": "code",
   "execution_count": 34,
   "metadata": {},
   "outputs": [
    {
     "data": {
      "text/plain": [
       "(50,)"
      ]
     },
     "execution_count": 34,
     "metadata": {},
     "output_type": "execute_result"
    }
   ],
   "source": [
    "test.shape"
   ]
  },
  {
   "cell_type": "code",
   "execution_count": 35,
   "metadata": {},
   "outputs": [
    {
     "data": {
      "text/plain": [
       "(50,)"
      ]
     },
     "execution_count": 35,
     "metadata": {},
     "output_type": "execute_result"
    }
   ],
   "source": [
    "final_forecast.shape"
   ]
  },
  {
   "cell_type": "code",
   "execution_count": 36,
   "metadata": {},
   "outputs": [
    {
     "data": {
      "text/plain": [
       "(50,)"
      ]
     },
     "execution_count": 36,
     "metadata": {},
     "output_type": "execute_result"
    }
   ],
   "source": [
    "test.shape"
   ]
  },
  {
   "cell_type": "code",
   "execution_count": 37,
   "metadata": {},
   "outputs": [
    {
     "name": "stdout",
     "output_type": "stream",
     "text": [
      "41.83264157632516\n",
      "35.61021983476031\n"
     ]
    }
   ],
   "source": [
    "import math\n",
    "MSE = np.square(np.subtract(np.array(test),np.array(final_forecast))).mean()   \n",
    "rsme = math.sqrt(MSE)\n",
    "print(rsme)  \n",
    "MAE = np.abs(np.subtract(np.array(test),np.array(final_forecast))).mean()   \n",
    "mae = MAE\n",
    "print(mae)"
   ]
  }
 ],
 "metadata": {
  "colab": {
   "provenance": []
  },
  "kernelspec": {
   "display_name": "Python 3",
   "language": "python",
   "name": "python3"
  },
  "language_info": {
   "codemirror_mode": {
    "name": "ipython",
    "version": 3
   },
   "file_extension": ".py",
   "mimetype": "text/x-python",
   "name": "python",
   "nbconvert_exporter": "python",
   "pygments_lexer": "ipython3",
   "version": "3.9.13"
  }
 },
 "nbformat": 4,
 "nbformat_minor": 0
}
