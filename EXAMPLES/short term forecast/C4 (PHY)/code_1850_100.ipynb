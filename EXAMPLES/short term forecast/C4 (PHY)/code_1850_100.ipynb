{
 "cells": [
  {
   "cell_type": "markdown",
   "metadata": {
    "id": "pCGKeZ2gyuoQ"
   },
   "source": [
    "_Importing Required Libraries_"
   ]
  },
  {
   "cell_type": "code",
   "execution_count": 1,
   "metadata": {
    "colab": {
     "base_uri": "https://localhost:8080/"
    },
    "id": "A-6LN-zXiLcM",
    "outputId": "4de610a4-f8b8-4f49-c6c0-89de299ccedc"
   },
   "outputs": [
    {
     "name": "stdout",
     "output_type": "stream",
     "text": [
      "Requirement already satisfied: hampel in c:\\users\\anurag dutta\\appdata\\local\\packages\\pythonsoftwarefoundation.python.3.9_qbz5n2kfra8p0\\localcache\\local-packages\\python39\\site-packages (0.0.5)\n",
      "Requirement already satisfied: numpy in c:\\users\\anurag dutta\\appdata\\local\\packages\\pythonsoftwarefoundation.python.3.9_qbz5n2kfra8p0\\localcache\\local-packages\\python39\\site-packages (from hampel) (1.26.4)\n",
      "Requirement already satisfied: pandas in c:\\users\\anurag dutta\\appdata\\local\\packages\\pythonsoftwarefoundation.python.3.9_qbz5n2kfra8p0\\localcache\\local-packages\\python39\\site-packages (from hampel) (1.5.2)\n",
      "Requirement already satisfied: python-dateutil>=2.8.1 in c:\\users\\anurag dutta\\appdata\\local\\packages\\pythonsoftwarefoundation.python.3.9_qbz5n2kfra8p0\\localcache\\local-packages\\python39\\site-packages (from pandas->hampel) (2.8.2)\n",
      "Requirement already satisfied: pytz>=2020.1 in c:\\users\\anurag dutta\\appdata\\local\\packages\\pythonsoftwarefoundation.python.3.9_qbz5n2kfra8p0\\localcache\\local-packages\\python39\\site-packages (from pandas->hampel) (2023.3.post1)\n",
      "Requirement already satisfied: six>=1.5 in c:\\users\\anurag dutta\\appdata\\local\\packages\\pythonsoftwarefoundation.python.3.9_qbz5n2kfra8p0\\localcache\\local-packages\\python39\\site-packages (from python-dateutil>=2.8.1->pandas->hampel) (1.16.0)\n",
      "Note: you may need to restart the kernel to use updated packages.\n"
     ]
    },
    {
     "name": "stderr",
     "output_type": "stream",
     "text": [
      "\n",
      "[notice] A new release of pip is available: 24.2 -> 24.3.1\n",
      "[notice] To update, run: C:\\Users\\Anurag Dutta\\AppData\\Local\\Microsoft\\WindowsApps\\PythonSoftwareFoundation.Python.3.9_qbz5n2kfra8p0\\python.exe -m pip install --upgrade pip\n"
     ]
    }
   ],
   "source": [
    "pip install hampel"
   ]
  },
  {
   "cell_type": "code",
   "execution_count": 2,
   "metadata": {
    "id": "By_d9uXpaFvZ"
   },
   "outputs": [],
   "source": [
    "from keras.models import Sequential\n",
    "from keras.layers import Dense\n",
    "from keras.layers import LSTM\n",
    "from keras.layers import Dropout\n",
    "import keras\n",
    "import tensorflow as tf\n",
    "from hampel import hampel\n",
    "import numpy as np\n",
    "import matplotlib.pyplot as plt\n",
    "import pandas as pd\n",
    "from sklearn.preprocessing import MinMaxScaler\n",
    "from sklearn.metrics import mean_squared_error, mean_absolute_error\n",
    "from math import sqrt\n",
    "from matplotlib import pyplot\n",
    "from numpy import array"
   ]
  },
  {
   "cell_type": "markdown",
   "metadata": {
    "id": "JyOjBMFayuoR"
   },
   "source": [
    "## Pretraining"
   ]
  },
  {
   "cell_type": "markdown",
   "metadata": {
    "id": "-5QqIY_GyuoR"
   },
   "source": [
    "The `capa_intermittency.dat` feeds the model with the dynamics of the Capacitor"
   ]
  },
  {
   "cell_type": "code",
   "execution_count": 3,
   "metadata": {
    "id": "9dV4a8yfyuoR"
   },
   "outputs": [],
   "source": [
    "data = np.genfromtxt('capa_intermittency.dat')\n",
    "training_set = pd.DataFrame(data).reset_index(drop=True)\n",
    "training_set = training_set.iloc[:,0]"
   ]
  },
  {
   "cell_type": "markdown",
   "metadata": {
    "id": "i7easoxByuoR"
   },
   "source": [
    "## Computing the Gradient"
   ]
  },
  {
   "cell_type": "markdown",
   "metadata": {
    "id": "5SnyolJTyuoR"
   },
   "source": [
    "_Calculating the value of_ $\\frac{dx}{dt}$"
   ]
  },
  {
   "cell_type": "code",
   "execution_count": 4,
   "metadata": {
    "colab": {
     "base_uri": "https://localhost:8080/"
    },
    "id": "wmIbVfIvyuoR",
    "outputId": "aa4e3136-c854-465d-d2e9-81cfd546e440"
   },
   "outputs": [
    {
     "name": "stdout",
     "output_type": "stream",
     "text": [
      "1.0\n",
      "1        0.000298\n",
      "2        0.000298\n",
      "3        0.000297\n",
      "4        0.000297\n",
      "5        0.000297\n",
      "           ...   \n",
      "9996     0.000018\n",
      "9997     0.000018\n",
      "9998     0.000018\n",
      "9999     0.000018\n",
      "10000    0.000018\n",
      "Name: 0, Length: 10000, dtype: float64\n"
     ]
    }
   ],
   "source": [
    "t_diff = 1\n",
    "print(training_set.max())\n",
    "gradient_t = (training_set.diff()/t_diff).iloc[1:] # dx/dt\n",
    "print(gradient_t)"
   ]
  },
  {
   "cell_type": "markdown",
   "metadata": {
    "id": "_2eVeeoxyuoS"
   },
   "source": [
    "## Loading Datasets"
   ]
  },
  {
   "cell_type": "code",
   "execution_count": 5,
   "metadata": {
    "id": "0J-NKyIEyuoS"
   },
   "outputs": [
    {
     "data": {
      "text/plain": [
       "0       88.600000\n",
       "1       88.409524\n",
       "2       88.219048\n",
       "3       88.028571\n",
       "4       87.838095\n",
       "          ...    \n",
       "1945    63.275549\n",
       "1946    63.255474\n",
       "1947    63.235399\n",
       "1948    63.215324\n",
       "1949    63.195250\n",
       "Name: C4, Length: 1950, dtype: float64"
      ]
     },
     "execution_count": 5,
     "metadata": {},
     "output_type": "execute_result"
    }
   ],
   "source": [
    "data = pd.read_csv(\"c4_interpolated_1850_100.csv\")\n",
    "training_set = data.iloc[:, 1]\n",
    "training_set"
   ]
  },
  {
   "cell_type": "code",
   "execution_count": 6,
   "metadata": {
    "colab": {
     "base_uri": "https://localhost:8080/"
    },
    "id": "-CbNUhJ74UqF",
    "outputId": "20f562d8-8247-49cc-b9c3-00eca5e13e2d"
   },
   "outputs": [
    {
     "data": {
      "text/plain": [
       "0       88.600000\n",
       "1       88.409524\n",
       "2       88.219048\n",
       "3       88.028571\n",
       "4       87.838095\n",
       "          ...    \n",
       "1845     0.000000\n",
       "1846     0.000000\n",
       "1847     0.746944\n",
       "1848     0.000000\n",
       "1849     0.215248\n",
       "Name: C4, Length: 1850, dtype: float64"
      ]
     },
     "execution_count": 6,
     "metadata": {},
     "output_type": "execute_result"
    }
   ],
   "source": [
    "test = training_set.tail(100)\n",
    "test\n",
    "training_set = training_set.head(1850)\n",
    "training_set"
   ]
  },
  {
   "cell_type": "code",
   "execution_count": 7,
   "metadata": {
    "colab": {
     "base_uri": "https://localhost:8080/"
    },
    "id": "X0TwTcq0yuoS",
    "outputId": "37252ed8-d88e-4044-fa7a-922411990b5b"
   },
   "outputs": [
    {
     "name": "stdout",
     "output_type": "stream",
     "text": [
      "0       0.000298\n",
      "1       0.000298\n",
      "2       0.000297\n",
      "3       0.000297\n",
      "4       0.000297\n",
      "          ...   \n",
      "9995    0.000018\n",
      "9996    0.000018\n",
      "9997    0.000018\n",
      "9998    0.000018\n",
      "9999    0.000018\n",
      "Name: 0, Length: 10000, dtype: float64\n"
     ]
    }
   ],
   "source": [
    "training_set = training_set.reset_index(drop=True)\n",
    "gradient_t = gradient_t.reset_index(drop=True)\n",
    "print(gradient_t)"
   ]
  },
  {
   "cell_type": "code",
   "execution_count": 8,
   "metadata": {
    "id": "O2biznZQyuoS"
   },
   "outputs": [],
   "source": [
    "df = pd.concat((training_set, gradient_t), axis=1)\n",
    "df.columns = ['y_t', 'grad_t']"
   ]
  },
  {
   "cell_type": "code",
   "execution_count": 9,
   "metadata": {
    "colab": {
     "base_uri": "https://localhost:8080/",
     "height": 423
    },
    "id": "sk_a5v3tyuoS",
    "outputId": "17563625-e550-45ae-faab-fafa353e44da"
   },
   "outputs": [
    {
     "data": {
      "text/html": [
       "<div>\n",
       "<style scoped>\n",
       "    .dataframe tbody tr th:only-of-type {\n",
       "        vertical-align: middle;\n",
       "    }\n",
       "\n",
       "    .dataframe tbody tr th {\n",
       "        vertical-align: top;\n",
       "    }\n",
       "\n",
       "    .dataframe thead th {\n",
       "        text-align: right;\n",
       "    }\n",
       "</style>\n",
       "<table border=\"1\" class=\"dataframe\">\n",
       "  <thead>\n",
       "    <tr style=\"text-align: right;\">\n",
       "      <th></th>\n",
       "      <th>y_t</th>\n",
       "      <th>grad_t</th>\n",
       "    </tr>\n",
       "  </thead>\n",
       "  <tbody>\n",
       "    <tr>\n",
       "      <th>0</th>\n",
       "      <td>88.600000</td>\n",
       "      <td>0.000298</td>\n",
       "    </tr>\n",
       "    <tr>\n",
       "      <th>1</th>\n",
       "      <td>88.409524</td>\n",
       "      <td>0.000298</td>\n",
       "    </tr>\n",
       "    <tr>\n",
       "      <th>2</th>\n",
       "      <td>88.219048</td>\n",
       "      <td>0.000297</td>\n",
       "    </tr>\n",
       "    <tr>\n",
       "      <th>3</th>\n",
       "      <td>88.028571</td>\n",
       "      <td>0.000297</td>\n",
       "    </tr>\n",
       "    <tr>\n",
       "      <th>4</th>\n",
       "      <td>87.838095</td>\n",
       "      <td>0.000297</td>\n",
       "    </tr>\n",
       "    <tr>\n",
       "      <th>...</th>\n",
       "      <td>...</td>\n",
       "      <td>...</td>\n",
       "    </tr>\n",
       "    <tr>\n",
       "      <th>9995</th>\n",
       "      <td>NaN</td>\n",
       "      <td>0.000018</td>\n",
       "    </tr>\n",
       "    <tr>\n",
       "      <th>9996</th>\n",
       "      <td>NaN</td>\n",
       "      <td>0.000018</td>\n",
       "    </tr>\n",
       "    <tr>\n",
       "      <th>9997</th>\n",
       "      <td>NaN</td>\n",
       "      <td>0.000018</td>\n",
       "    </tr>\n",
       "    <tr>\n",
       "      <th>9998</th>\n",
       "      <td>NaN</td>\n",
       "      <td>0.000018</td>\n",
       "    </tr>\n",
       "    <tr>\n",
       "      <th>9999</th>\n",
       "      <td>NaN</td>\n",
       "      <td>0.000018</td>\n",
       "    </tr>\n",
       "  </tbody>\n",
       "</table>\n",
       "<p>10000 rows × 2 columns</p>\n",
       "</div>"
      ],
      "text/plain": [
       "            y_t    grad_t\n",
       "0     88.600000  0.000298\n",
       "1     88.409524  0.000298\n",
       "2     88.219048  0.000297\n",
       "3     88.028571  0.000297\n",
       "4     87.838095  0.000297\n",
       "...         ...       ...\n",
       "9995        NaN  0.000018\n",
       "9996        NaN  0.000018\n",
       "9997        NaN  0.000018\n",
       "9998        NaN  0.000018\n",
       "9999        NaN  0.000018\n",
       "\n",
       "[10000 rows x 2 columns]"
      ]
     },
     "execution_count": 9,
     "metadata": {},
     "output_type": "execute_result"
    }
   ],
   "source": [
    "df"
   ]
  },
  {
   "cell_type": "markdown",
   "metadata": {
    "id": "-5esyHu5aFvg"
   },
   "source": [
    "## Plot of the External Forcing from Chaotic Differential Equation"
   ]
  },
  {
   "cell_type": "code",
   "execution_count": 10,
   "metadata": {
    "colab": {
     "base_uri": "https://localhost:8080/",
     "height": 447
    },
    "id": "hGnE43tOh-4p",
    "outputId": "fc396503-b624-4fa5-dfbe-f460207405c6"
   },
   "outputs": [
    {
     "data": {
      "text/plain": [
       "<Axes: >"
      ]
     },
     "execution_count": 10,
     "metadata": {},
     "output_type": "execute_result"
    },
    {
     "data": {
      "image/png": "[encoded data removed]",
      "text/plain": [
       "<Figure size 432x288 with 1 Axes>"
      ]
     },
     "metadata": {
      "needs_background": "light"
     },
     "output_type": "display_data"
    }
   ],
   "source": [
    "df.iloc[:, 0].plot()"
   ]
  },
  {
   "cell_type": "code",
   "execution_count": 11,
   "metadata": {
    "colab": {
     "base_uri": "https://localhost:8080/",
     "height": 447
    },
    "id": "ym4xWUUxaFvg",
    "outputId": "ae6a3495-8ce9-437e-ba81-3ed31deedeae"
   },
   "outputs": [
    {
     "name": "stderr",
     "output_type": "stream",
     "text": [
      "C:\\Users\\Anurag Dutta\\AppData\\Local\\Packages\\PythonSoftwareFoundation.Python.3.9_qbz5n2kfra8p0\\LocalCache\\local-packages\\Python39\\site-packages\\pandas\\core\\arraylike.py:402: RuntimeWarning: divide by zero encountered in log\n",
      "  result = getattr(ufunc, method)(*inputs, **kwargs)\n"
     ]
    },
    {
     "data": {
      "text/plain": [
       "<Axes: >"
      ]
     },
     "execution_count": 11,
     "metadata": {},
     "output_type": "execute_result"
    },
    {
     "data": {
      "image/png": "[encoded data removed]",
      "text/plain": [
       "<Figure size 432x288 with 1 Axes>"
      ]
     },
     "metadata": {
      "needs_background": "light"
     },
     "output_type": "display_data"
    }
   ],
   "source": [
    "import numpy as np\n",
    "c0 = 86.6856  # Value for C0\n",
    "K0 = -0.0008  # Value for K0\n",
    "K1 = -0.0002  # Value for K1\n",
    "a = 0.0000    # Value for a\n",
    "b = 0.0128    # Value for b\n",
    "c = -2.3003    # Value for c\n",
    "\n",
    "L = np.minimum(c0, (df.iloc[:, 1] - (df.iloc[:, 0] * (K0 - K1 * (9 * a * np.log(df.iloc[:, 0] / c0) / (K0 - K1 * c)**2 + 4 * b * np.log(df.iloc[:, 0] / c0) / (K0 - K1 * c) + c)))))\n",
    "L.plot()"
   ]
  },
  {
   "cell_type": "markdown",
   "metadata": {
    "id": "9VyEywnwaFvh"
   },
   "source": [
    "## Preprocessing the data into supervised learning"
   ]
  },
  {
   "cell_type": "code",
   "execution_count": 12,
   "metadata": {
    "id": "6V9dXqzdaFvh"
   },
   "outputs": [],
   "source": [
    "# split a sequence into samples\n",
    "def Supervised(data, n_in=1, n_out=1, dropnan=True):\n",
    "    n_vars = 1 if type(data) is list else data.shape[1]\n",
    "    df = pd.DataFrame(data)\n",
    "    cols, names = list(), list()\n",
    "    # input sequence (t-n_in, ... t-1)\n",
    "    for i in range(n_in, 0, -1):\n",
    "        cols.append(df.shift(i))\n",
    "        names += [('var%d(t-%d)' % (j+1, i)) for j in range(n_vars)]\n",
    "    # forecast sequence (t, t+1, ... t+n_out)\n",
    "    for i in range(0, n_out):\n",
    "      cols.append(df.shift(-i))\n",
    "      if i == 0:\n",
    "        names += [('var%d(t)' % (j+1)) for j in range(n_vars)]\n",
    "      else:\n",
    "        names += [('var%d(t+%d)' % (j+1, i)) for j in range(n_vars)]\n",
    "    # put it all together\n",
    "    agg = pd.concat(cols, axis=1)\n",
    "    agg.columns = names\n",
    "    # drop rows with NaN values\n",
    "    if dropnan:\n",
    "       agg.dropna(inplace=True)\n",
    "    return agg"
   ]
  },
  {
   "cell_type": "code",
   "execution_count": 13,
   "metadata": {
    "colab": {
     "base_uri": "https://localhost:8080/"
    },
    "id": "CrzSrT1HnyfH",
    "outputId": "7e75f928-3e47-499d-eac1-51908015ef78"
   },
   "outputs": [
    {
     "name": "stdout",
     "output_type": "stream",
     "text": [
      "     var1(t-350)  var1(t-349)  var1(t-348)  var1(t-347)  var1(t-346)  \\\n",
      "350    88.600000    88.409524    88.219048    88.028571    87.838095   \n",
      "351    88.409524    88.219048    88.028571    87.838095    87.647619   \n",
      "352    88.219048    88.028571    87.838095    87.647619    87.457143   \n",
      "353    88.028571    87.838095    87.647619    87.457143    87.266667   \n",
      "354    87.838095    87.647619    87.457143    87.266667    87.076190   \n",
      "\n",
      "     var1(t-345)  var1(t-344)  var1(t-343)  var1(t-342)  var1(t-341)  ...  \\\n",
      "350    87.647619    87.457143    87.266667    87.076190    86.896218  ...   \n",
      "351    87.457143    87.266667    87.076190    86.896218    86.845798  ...   \n",
      "352    87.266667    87.076190    86.896218    86.845798    86.795378  ...   \n",
      "353    87.076190    86.896218    86.845798    86.795378    86.744958  ...   \n",
      "354    86.896218    86.845798    86.795378    86.744958    86.694538  ...   \n",
      "\n",
      "     var1(t+95)  var2(t+95)  var1(t+96)  var2(t+96)  var1(t+97)  var2(t+97)  \\\n",
      "350   78.880345    0.000263   78.856069    0.000263   78.831793    0.000263   \n",
      "351   78.856069    0.000263   78.831793    0.000263   78.807516    0.000262   \n",
      "352   78.831793    0.000263   78.807516    0.000262   78.783240    0.000262   \n",
      "353   78.807516    0.000262   78.783240    0.000262   78.758964    0.000262   \n",
      "354   78.783240    0.000262   78.758964    0.000262   78.734687    0.000262   \n",
      "\n",
      "     var1(t+98)  var2(t+98)  var1(t+99)  var2(t+99)  \n",
      "350   78.807516    0.000262   78.783240    0.000262  \n",
      "351   78.783240    0.000262   78.758964    0.000262  \n",
      "352   78.758964    0.000262   78.734687    0.000262  \n",
      "353   78.734687    0.000262   78.710411    0.000262  \n",
      "354   78.710411    0.000262   78.686134    0.000262  \n",
      "\n",
      "[5 rows x 551 columns]\n",
      "Index(['var1(t-350)', 'var1(t-349)', 'var1(t-348)', 'var1(t-347)',\n",
      "       'var1(t-346)', 'var1(t-345)', 'var1(t-344)', 'var1(t-343)',\n",
      "       'var1(t-342)', 'var1(t-341)',\n",
      "       ...\n",
      "       'var1(t+95)', 'var2(t+95)', 'var1(t+96)', 'var2(t+96)', 'var1(t+97)',\n",
      "       'var2(t+97)', 'var1(t+98)', 'var2(t+98)', 'var1(t+99)', 'var2(t+99)'],\n",
      "      dtype='object', length=551)\n"
     ]
    }
   ],
   "source": [
    "data = Supervised(df.values, n_in = 350, n_out = 100)\n",
    "\n",
    "\n",
    "cols_to_drop = []\n",
    "for i in range(2, 351):\n",
    "    cols_to_drop.extend([f'var2(t-{i})'])\n",
    "\n",
    "data.drop(cols_to_drop, axis=1, inplace=True)\n",
    "\n",
    "print(data.head())\n",
    "print(data.columns)"
   ]
  },
  {
   "cell_type": "code",
   "execution_count": 14,
   "metadata": {
    "id": "AfPf60oy6Pe4"
   },
   "outputs": [],
   "source": [
    "train = np.array(data[0:len(data)-1])\n",
    "forecast = np.array(data.tail(1))"
   ]
  },
  {
   "cell_type": "code",
   "execution_count": 15,
   "metadata": {
    "id": "WSAafzI37KiT"
   },
   "outputs": [],
   "source": [
    "trainy = train[:,-300:]\n",
    "trainX = train[:,:-300]"
   ]
  },
  {
   "cell_type": "code",
   "execution_count": 16,
   "metadata": {
    "id": "2SrOqVJA7f50"
   },
   "outputs": [],
   "source": [
    "forecasty = forecast[:,-300:]\n",
    "forecastX = forecast[:,:-300]"
   ]
  },
  {
   "cell_type": "code",
   "execution_count": 17,
   "metadata": {
    "colab": {
     "base_uri": "https://localhost:8080/"
    },
    "id": "Qno_k8Nw7saY",
    "outputId": "c4a88db5-d8c6-489f-cdb2-06b24e293cff"
   },
   "outputs": [
    {
     "name": "stdout",
     "output_type": "stream",
     "text": [
      "(1400, 1, 251) (1400, 300) (1, 1, 251)\n"
     ]
    }
   ],
   "source": [
    "trainX = trainX.reshape((trainX.shape[0], 1, trainX.shape[1]))\n",
    "forecastX = forecastX.reshape((forecastX.shape[0], 1, forecastX.shape[1]))\n",
    "print(trainX.shape, trainy.shape, forecastX.shape)"
   ]
  },
  {
   "cell_type": "code",
   "execution_count": 18,
   "metadata": {
    "colab": {
     "base_uri": "https://localhost:8080/"
    },
    "id": "b1Jp2DvNuNFx",
    "outputId": "d0e5b3c4-64f1-438c-eade-8dfeaac8e285"
   },
   "outputs": [
    {
     "name": "stdout",
     "output_type": "stream",
     "text": [
      "Epoch 1/500\n",
      "18/18 [==============================] - 3s 29ms/step - loss: 5464.0474 - val_loss: 4476.9404\n",
      "Epoch 2/500\n",
      "18/18 [==============================] - 0s 6ms/step - loss: 5399.6226 - val_loss: 4414.0674\n",
      "Epoch 3/500\n",
      "18/18 [==============================] - 0s 5ms/step - loss: 5333.5581 - val_loss: 4359.1978\n",
      "Epoch 4/500\n",
      "18/18 [==============================] - 0s 5ms/step - loss: 5280.7773 - val_loss: 4315.5151\n",
      "Epoch 5/500\n",
      "18/18 [==============================] - 0s 5ms/step - loss: 5233.0054 - val_loss: 4272.5928\n",
      "Epoch 6/500\n",
      "18/18 [==============================] - 0s 5ms/step - loss: 5186.0137 - val_loss: 4230.3193\n",
      "Epoch 7/500\n",
      "18/18 [==============================] - 0s 5ms/step - loss: 5139.6484 - val_loss: 4188.5679\n",
      "Epoch 8/500\n",
      "18/18 [==============================] - 0s 5ms/step - loss: 5093.0854 - val_loss: 4143.3403\n",
      "Epoch 9/500\n",
      "18/18 [==============================] - 0s 4ms/step - loss: 5042.0132 - val_loss: 4098.2524\n",
      "Epoch 10/500\n",
      "18/18 [==============================] - 0s 4ms/step - loss: 4992.5312 - val_loss: 4053.9866\n",
      "Epoch 11/500\n",
      "18/18 [==============================] - 0s 5ms/step - loss: 4944.0728 - val_loss: 4010.6299\n",
      "Epoch 12/500\n",
      "18/18 [==============================] - 0s 5ms/step - loss: 4896.4902 - val_loss: 3967.9790\n",
      "Epoch 13/500\n",
      "18/18 [==============================] - 0s 5ms/step - loss: 4849.5928 - val_loss: 3925.9050\n",
      "Epoch 14/500\n",
      "18/18 [==============================] - 0s 6ms/step - loss: 4803.2676 - val_loss: 3884.3293\n",
      "Epoch 15/500\n",
      "18/18 [==============================] - 0s 4ms/step - loss: 4757.4443 - val_loss: 3843.2031\n",
      "Epoch 16/500\n",
      "18/18 [==============================] - 0s 5ms/step - loss: 4712.0781 - val_loss: 3802.4934\n",
      "Epoch 17/500\n",
      "18/18 [==============================] - 0s 4ms/step - loss: 4667.1372 - val_loss: 3762.1755\n",
      "Epoch 18/500\n",
      "18/18 [==============================] - 0s 4ms/step - loss: 4622.5981 - val_loss: 3722.2312\n",
      "Epoch 19/500\n",
      "18/18 [==============================] - 0s 4ms/step - loss: 4575.5029 - val_loss: 3667.9243\n",
      "Epoch 20/500\n",
      "18/18 [==============================] - 0s 5ms/step - loss: 4515.5444 - val_loss: 3623.1116\n",
      "Epoch 21/500\n",
      "18/18 [==============================] - 0s 5ms/step - loss: 4466.2041 - val_loss: 3579.4282\n",
      "Epoch 22/500\n",
      "18/18 [==============================] - 0s 5ms/step - loss: 4418.2466 - val_loss: 3536.9358\n",
      "Epoch 23/500\n",
      "18/18 [==============================] - 0s 4ms/step - loss: 4371.4282 - val_loss: 3495.3357\n",
      "Epoch 24/500\n",
      "18/18 [==============================] - 0s 4ms/step - loss: 4325.4746 - val_loss: 3454.4446\n",
      "Epoch 25/500\n",
      "18/18 [==============================] - 0s 5ms/step - loss: 4280.2236 - val_loss: 3414.1528\n",
      "Epoch 26/500\n",
      "18/18 [==============================] - 0s 4ms/step - loss: 4235.5771 - val_loss: 3374.3914\n",
      "Epoch 27/500\n",
      "18/18 [==============================] - 0s 5ms/step - loss: 4191.4707 - val_loss: 3335.1130\n",
      "Epoch 28/500\n",
      "18/18 [==============================] - 0s 4ms/step - loss: 4147.8579 - val_loss: 3296.2847\n",
      "Epoch 29/500\n",
      "18/18 [==============================] - 0s 4ms/step - loss: 4104.7080 - val_loss: 3257.8801\n",
      "Epoch 30/500\n",
      "18/18 [==============================] - 0s 6ms/step - loss: 4061.9941 - val_loss: 3219.8789\n",
      "Epoch 31/500\n",
      "18/18 [==============================] - 0s 5ms/step - loss: 4019.6982 - val_loss: 3182.2656\n",
      "Epoch 32/500\n",
      "18/18 [==============================] - 0s 5ms/step - loss: 3977.8018 - val_loss: 3145.0276\n",
      "Epoch 33/500\n",
      "18/18 [==============================] - 0s 5ms/step - loss: 3936.2932 - val_loss: 3108.1526\n",
      "Epoch 34/500\n",
      "18/18 [==============================] - 0s 5ms/step - loss: 3895.1611 - val_loss: 3071.6316\n",
      "Epoch 35/500\n",
      "18/18 [==============================] - 0s 5ms/step - loss: 3854.3945 - val_loss: 3035.4558\n",
      "Epoch 36/500\n",
      "18/18 [==============================] - 0s 5ms/step - loss: 3813.9866 - val_loss: 2999.6187\n",
      "Epoch 37/500\n",
      "18/18 [==============================] - 0s 5ms/step - loss: 3773.9282 - val_loss: 2964.1135\n",
      "Epoch 38/500\n",
      "18/18 [==============================] - 0s 4ms/step - loss: 3734.2134 - val_loss: 2928.9346\n",
      "Epoch 39/500\n",
      "18/18 [==============================] - 0s 6ms/step - loss: 3694.8372 - val_loss: 2894.0764\n",
      "Epoch 40/500\n",
      "18/18 [==============================] - 0s 5ms/step - loss: 3655.7927 - val_loss: 2859.5344\n",
      "Epoch 41/500\n",
      "18/18 [==============================] - 0s 4ms/step - loss: 3608.2449 - val_loss: 2813.1162\n",
      "Epoch 42/500\n",
      "18/18 [==============================] - 0s 4ms/step - loss: 3561.8381 - val_loss: 2773.2166\n",
      "Epoch 43/500\n",
      "18/18 [==============================] - 0s 5ms/step - loss: 3517.6289 - val_loss: 2734.7910\n",
      "Epoch 44/500\n",
      "18/18 [==============================] - 0s 5ms/step - loss: 3474.8616 - val_loss: 2697.4695\n",
      "Epoch 45/500\n",
      "18/18 [==============================] - 0s 4ms/step - loss: 3433.1628 - val_loss: 2660.9893\n",
      "Epoch 46/500\n",
      "18/18 [==============================] - 0s 5ms/step - loss: 3392.2983 - val_loss: 2625.1985\n",
      "Epoch 47/500\n",
      "18/18 [==============================] - 0s 5ms/step - loss: 3352.1289 - val_loss: 2590.0007\n",
      "Epoch 48/500\n",
      "18/18 [==============================] - 0s 5ms/step - loss: 3312.5664 - val_loss: 2555.3340\n",
      "Epoch 49/500\n",
      "18/18 [==============================] - 0s 5ms/step - loss: 3273.5493 - val_loss: 2521.1531\n",
      "Epoch 50/500\n",
      "18/18 [==============================] - 0s 6ms/step - loss: 3235.0356 - val_loss: 2487.4255\n",
      "Epoch 51/500\n",
      "18/18 [==============================] - 0s 7ms/step - loss: 3196.9910 - val_loss: 2454.1243\n",
      "Epoch 52/500\n",
      "18/18 [==============================] - 0s 6ms/step - loss: 3159.3901 - val_loss: 2421.2302\n",
      "Epoch 53/500\n",
      "18/18 [==============================] - 0s 5ms/step - loss: 3122.2117 - val_loss: 2388.7258\n",
      "Epoch 54/500\n",
      "18/18 [==============================] - 0s 6ms/step - loss: 3085.4390 - val_loss: 2356.5977\n",
      "Epoch 55/500\n",
      "18/18 [==============================] - 0s 5ms/step - loss: 3049.0581 - val_loss: 2324.8330\n",
      "Epoch 56/500\n",
      "18/18 [==============================] - 0s 5ms/step - loss: 3013.0569 - val_loss: 2293.4221\n",
      "Epoch 57/500\n",
      "18/18 [==============================] - 0s 7ms/step - loss: 2977.4238 - val_loss: 2262.3562\n",
      "Epoch 58/500\n",
      "18/18 [==============================] - 0s 4ms/step - loss: 2942.1499 - val_loss: 2231.6270\n",
      "Epoch 59/500\n",
      "18/18 [==============================] - 0s 5ms/step - loss: 2907.2263 - val_loss: 2201.2278\n",
      "Epoch 60/500\n",
      "18/18 [==============================] - 0s 5ms/step - loss: 2872.6472 - val_loss: 2171.1521\n",
      "Epoch 61/500\n",
      "18/18 [==============================] - 0s 4ms/step - loss: 2838.4050 - val_loss: 2141.3926\n",
      "Epoch 62/500\n",
      "18/18 [==============================] - 0s 5ms/step - loss: 2804.4934 - val_loss: 2111.9465\n",
      "Epoch 63/500\n",
      "18/18 [==============================] - 0s 4ms/step - loss: 2770.9072 - val_loss: 2082.8064\n",
      "Epoch 64/500\n",
      "18/18 [==============================] - 0s 4ms/step - loss: 2737.6409 - val_loss: 2053.9697\n",
      "Epoch 65/500\n",
      "18/18 [==============================] - 0s 6ms/step - loss: 2704.1626 - val_loss: 2019.1283\n",
      "Epoch 66/500\n",
      "18/18 [==============================] - 0s 4ms/step - loss: 2661.7170 - val_loss: 1984.6562\n",
      "Epoch 67/500\n",
      "18/18 [==============================] - 0s 4ms/step - loss: 2622.3975 - val_loss: 1951.2375\n",
      "Epoch 68/500\n",
      "18/18 [==============================] - 0s 4ms/step - loss: 2584.6470 - val_loss: 1919.1962\n",
      "Epoch 69/500\n",
      "18/18 [==============================] - 0s 5ms/step - loss: 2548.2485 - val_loss: 1888.1703\n",
      "Epoch 70/500\n",
      "18/18 [==============================] - 0s 6ms/step - loss: 2512.8535 - val_loss: 1857.9316\n",
      "Epoch 71/500\n",
      "18/18 [==============================] - 0s 5ms/step - loss: 2478.2544 - val_loss: 1828.3446\n",
      "Epoch 72/500\n",
      "18/18 [==============================] - 0s 4ms/step - loss: 2444.3235 - val_loss: 1799.3226\n",
      "Epoch 73/500\n",
      "18/18 [==============================] - 0s 4ms/step - loss: 2410.9800 - val_loss: 1770.8090\n",
      "Epoch 74/500\n",
      "18/18 [==============================] - 0s 4ms/step - loss: 2378.1658 - val_loss: 1742.7612\n",
      "Epoch 75/500\n",
      "18/18 [==============================] - 0s 5ms/step - loss: 2345.8401 - val_loss: 1715.1493\n",
      "Epoch 76/500\n",
      "18/18 [==============================] - 0s 5ms/step - loss: 2313.9712 - val_loss: 1687.9480\n",
      "Epoch 77/500\n",
      "18/18 [==============================] - 0s 4ms/step - loss: 2282.5325 - val_loss: 1661.1370\n",
      "Epoch 78/500\n",
      "18/18 [==============================] - 0s 4ms/step - loss: 2251.5054 - val_loss: 1634.6996\n",
      "Epoch 79/500\n",
      "18/18 [==============================] - 0s 4ms/step - loss: 2220.8711 - val_loss: 1608.6228\n",
      "Epoch 80/500\n",
      "18/18 [==============================] - 0s 4ms/step - loss: 2190.6167 - val_loss: 1582.8948\n",
      "Epoch 81/500\n",
      "18/18 [==============================] - 0s 5ms/step - loss: 2160.7283 - val_loss: 1557.5057\n",
      "Epoch 82/500\n",
      "18/18 [==============================] - 0s 4ms/step - loss: 2131.1968 - val_loss: 1532.4458\n",
      "Epoch 83/500\n",
      "18/18 [==============================] - 0s 4ms/step - loss: 2102.0117 - val_loss: 1507.7070\n",
      "Epoch 84/500\n",
      "18/18 [==============================] - 0s 4ms/step - loss: 2073.1653 - val_loss: 1483.2832\n",
      "Epoch 85/500\n",
      "18/18 [==============================] - 0s 4ms/step - loss: 2044.6498 - val_loss: 1459.1667\n",
      "Epoch 86/500\n",
      "18/18 [==============================] - 0s 5ms/step - loss: 2016.4578 - val_loss: 1435.3525\n",
      "Epoch 87/500\n",
      "18/18 [==============================] - 0s 7ms/step - loss: 1987.4553 - val_loss: 1407.8049\n",
      "Epoch 88/500\n",
      "18/18 [==============================] - 0s 4ms/step - loss: 1953.2362 - val_loss: 1378.8613\n",
      "Epoch 89/500\n",
      "18/18 [==============================] - 0s 5ms/step - loss: 1919.7562 - val_loss: 1351.3064\n",
      "Epoch 90/500\n",
      "18/18 [==============================] - 0s 4ms/step - loss: 1887.8365 - val_loss: 1324.9512\n",
      "Epoch 91/500\n",
      "18/18 [==============================] - 0s 5ms/step - loss: 1857.1136 - val_loss: 1299.4857\n",
      "Epoch 92/500\n",
      "18/18 [==============================] - 0s 5ms/step - loss: 1827.2939 - val_loss: 1274.7255\n",
      "Epoch 93/500\n",
      "18/18 [==============================] - 0s 4ms/step - loss: 1798.2037 - val_loss: 1250.5602\n",
      "Epoch 94/500\n",
      "18/18 [==============================] - 0s 4ms/step - loss: 1769.7369 - val_loss: 1226.9180\n",
      "Epoch 95/500\n",
      "18/18 [==============================] - 0s 5ms/step - loss: 1741.8220 - val_loss: 1203.7496\n",
      "Epoch 96/500\n",
      "18/18 [==============================] - 0s 5ms/step - loss: 1714.4094 - val_loss: 1181.0187\n",
      "Epoch 97/500\n",
      "18/18 [==============================] - 0s 5ms/step - loss: 1687.4615 - val_loss: 1158.6973\n",
      "Epoch 98/500\n",
      "18/18 [==============================] - 0s 4ms/step - loss: 1660.9492 - val_loss: 1136.7627\n",
      "Epoch 99/500\n",
      "18/18 [==============================] - 0s 4ms/step - loss: 1634.8495 - val_loss: 1115.1975\n",
      "Epoch 100/500\n",
      "18/18 [==============================] - 0s 5ms/step - loss: 1609.1427 - val_loss: 1093.9857\n",
      "Epoch 101/500\n",
      "18/18 [==============================] - 0s 5ms/step - loss: 1583.8131 - val_loss: 1073.1154\n",
      "Epoch 102/500\n",
      "18/18 [==============================] - 0s 5ms/step - loss: 1558.8472 - val_loss: 1052.5758\n",
      "Epoch 103/500\n",
      "18/18 [==============================] - 0s 4ms/step - loss: 1534.2332 - val_loss: 1032.3557\n",
      "Epoch 104/500\n",
      "18/18 [==============================] - 0s 4ms/step - loss: 1509.9601 - val_loss: 1012.4470\n",
      "Epoch 105/500\n",
      "18/18 [==============================] - 0s 4ms/step - loss: 1486.0188 - val_loss: 992.8428\n",
      "Epoch 106/500\n",
      "18/18 [==============================] - 0s 4ms/step - loss: 1462.4015 - val_loss: 973.5353\n",
      "Epoch 107/500\n",
      "18/18 [==============================] - 0s 5ms/step - loss: 1439.1002 - val_loss: 954.5174\n",
      "Epoch 108/500\n",
      "18/18 [==============================] - 0s 4ms/step - loss: 1416.1082 - val_loss: 935.7848\n",
      "Epoch 109/500\n",
      "18/18 [==============================] - 0s 5ms/step - loss: 1393.4193 - val_loss: 917.3305\n",
      "Epoch 110/500\n",
      "18/18 [==============================] - 0s 7ms/step - loss: 1371.0273 - val_loss: 899.1505\n",
      "Epoch 111/500\n",
      "18/18 [==============================] - 0s 4ms/step - loss: 1348.9270 - val_loss: 881.2401\n",
      "Epoch 112/500\n",
      "18/18 [==============================] - 0s 5ms/step - loss: 1327.1139 - val_loss: 863.5944\n",
      "Epoch 113/500\n",
      "18/18 [==============================] - 0s 3ms/step - loss: 1305.5826 - val_loss: 846.2094\n",
      "Epoch 114/500\n",
      "18/18 [==============================] - 0s 4ms/step - loss: 1284.3289 - val_loss: 829.0808\n",
      "Epoch 115/500\n",
      "18/18 [==============================] - 0s 5ms/step - loss: 1263.3486 - val_loss: 812.2051\n",
      "Epoch 116/500\n",
      "18/18 [==============================] - 0s 6ms/step - loss: 1242.6376 - val_loss: 795.5790\n",
      "Epoch 117/500\n",
      "18/18 [==============================] - 0s 6ms/step - loss: 1222.1927 - val_loss: 779.1979\n",
      "Epoch 118/500\n",
      "18/18 [==============================] - 0s 5ms/step - loss: 1202.0093 - val_loss: 763.0603\n",
      "Epoch 119/500\n",
      "18/18 [==============================] - 0s 5ms/step - loss: 1182.0846 - val_loss: 747.1622\n",
      "Epoch 120/500\n",
      "18/18 [==============================] - 0s 5ms/step - loss: 1162.4153 - val_loss: 731.5002\n",
      "Epoch 121/500\n",
      "18/18 [==============================] - 0s 4ms/step - loss: 1142.9980 - val_loss: 716.0716\n",
      "Epoch 122/500\n",
      "18/18 [==============================] - 0s 5ms/step - loss: 1123.8301 - val_loss: 700.8737\n",
      "Epoch 123/500\n",
      "18/18 [==============================] - 0s 5ms/step - loss: 1104.9077 - val_loss: 685.9044\n",
      "Epoch 124/500\n",
      "18/18 [==============================] - 0s 5ms/step - loss: 1086.2290 - val_loss: 671.1600\n",
      "Epoch 125/500\n",
      "18/18 [==============================] - 0s 4ms/step - loss: 1067.7906 - val_loss: 656.6377\n",
      "Epoch 126/500\n",
      "18/18 [==============================] - 0s 5ms/step - loss: 1049.5902 - val_loss: 642.3363\n",
      "Epoch 127/500\n",
      "18/18 [==============================] - 0s 5ms/step - loss: 1031.6248 - val_loss: 628.2523\n",
      "Epoch 128/500\n",
      "18/18 [==============================] - 0s 5ms/step - loss: 1013.8924 - val_loss: 614.3843\n",
      "Epoch 129/500\n",
      "18/18 [==============================] - 0s 8ms/step - loss: 996.3903 - val_loss: 600.7288\n",
      "Epoch 130/500\n",
      "18/18 [==============================] - 0s 4ms/step - loss: 979.1157 - val_loss: 587.2843\n",
      "Epoch 131/500\n",
      "18/18 [==============================] - 0s 4ms/step - loss: 962.0670 - val_loss: 574.0485\n",
      "Epoch 132/500\n",
      "18/18 [==============================] - 0s 4ms/step - loss: 945.2415 - val_loss: 561.0194\n",
      "Epoch 133/500\n",
      "18/18 [==============================] - 0s 5ms/step - loss: 928.6370 - val_loss: 548.1935\n",
      "Epoch 134/500\n",
      "18/18 [==============================] - 0s 5ms/step - loss: 912.2510 - val_loss: 535.5703\n",
      "Epoch 135/500\n",
      "18/18 [==============================] - 0s 4ms/step - loss: 896.0818 - val_loss: 523.1467\n",
      "Epoch 136/500\n",
      "18/18 [==============================] - 0s 5ms/step - loss: 880.1272 - val_loss: 510.9214\n",
      "Epoch 137/500\n",
      "18/18 [==============================] - 0s 5ms/step - loss: 864.3852 - val_loss: 498.8922\n",
      "Epoch 138/500\n",
      "18/18 [==============================] - 0s 5ms/step - loss: 848.8537 - val_loss: 487.0570\n",
      "Epoch 139/500\n",
      "18/18 [==============================] - 0s 5ms/step - loss: 833.5305 - val_loss: 475.4137\n",
      "Epoch 140/500\n",
      "18/18 [==============================] - 0s 5ms/step - loss: 818.4136 - val_loss: 463.9607\n",
      "Epoch 141/500\n",
      "18/18 [==============================] - 0s 5ms/step - loss: 803.5015 - val_loss: 452.6961\n",
      "Epoch 142/500\n",
      "18/18 [==============================] - 0s 5ms/step - loss: 788.7921 - val_loss: 441.6180\n",
      "Epoch 143/500\n",
      "18/18 [==============================] - 0s 5ms/step - loss: 774.2835 - val_loss: 430.7239\n",
      "Epoch 144/500\n",
      "18/18 [==============================] - 0s 4ms/step - loss: 759.9736 - val_loss: 420.0126\n",
      "Epoch 145/500\n",
      "18/18 [==============================] - 0s 5ms/step - loss: 745.8607 - val_loss: 409.4827\n",
      "Epoch 146/500\n",
      "18/18 [==============================] - 0s 5ms/step - loss: 731.9432 - val_loss: 399.1315\n",
      "Epoch 147/500\n",
      "18/18 [==============================] - 0s 5ms/step - loss: 718.2192 - val_loss: 388.9581\n",
      "Epoch 148/500\n",
      "18/18 [==============================] - 0s 5ms/step - loss: 704.6872 - val_loss: 378.9599\n",
      "Epoch 149/500\n",
      "18/18 [==============================] - 0s 8ms/step - loss: 691.3447 - val_loss: 369.1361\n",
      "Epoch 150/500\n",
      "18/18 [==============================] - 0s 5ms/step - loss: 678.1907 - val_loss: 359.4839\n",
      "Epoch 151/500\n",
      "18/18 [==============================] - 0s 6ms/step - loss: 665.2230 - val_loss: 350.0022\n",
      "Epoch 152/500\n",
      "18/18 [==============================] - 0s 5ms/step - loss: 652.4403 - val_loss: 340.6893\n",
      "Epoch 153/500\n",
      "18/18 [==============================] - 0s 5ms/step - loss: 639.8406 - val_loss: 331.5434\n",
      "Epoch 154/500\n",
      "18/18 [==============================] - 0s 5ms/step - loss: 627.4222 - val_loss: 322.5631\n",
      "Epoch 155/500\n",
      "18/18 [==============================] - 0s 5ms/step - loss: 615.1841 - val_loss: 313.7469\n",
      "Epoch 156/500\n",
      "18/18 [==============================] - 0s 6ms/step - loss: 603.1242 - val_loss: 305.0924\n",
      "Epoch 157/500\n",
      "18/18 [==============================] - 0s 5ms/step - loss: 591.2406 - val_loss: 296.5982\n",
      "Epoch 158/500\n",
      "18/18 [==============================] - 0s 5ms/step - loss: 579.5320 - val_loss: 288.2631\n",
      "Epoch 159/500\n",
      "18/18 [==============================] - 0s 5ms/step - loss: 567.9968 - val_loss: 280.0853\n",
      "Epoch 160/500\n",
      "18/18 [==============================] - 0s 4ms/step - loss: 556.6334 - val_loss: 272.0634\n",
      "Epoch 161/500\n",
      "18/18 [==============================] - 0s 6ms/step - loss: 545.4401 - val_loss: 264.1952\n",
      "Epoch 162/500\n",
      "18/18 [==============================] - 0s 6ms/step - loss: 534.4155 - val_loss: 256.4795\n",
      "Epoch 163/500\n",
      "18/18 [==============================] - 0s 5ms/step - loss: 523.5583 - val_loss: 248.9150\n",
      "Epoch 164/500\n",
      "18/18 [==============================] - 0s 8ms/step - loss: 512.8663 - val_loss: 241.4994\n",
      "Epoch 165/500\n",
      "18/18 [==============================] - 0s 5ms/step - loss: 502.3386 - val_loss: 234.2318\n",
      "Epoch 166/500\n",
      "18/18 [==============================] - 0s 5ms/step - loss: 491.9734 - val_loss: 227.1105\n",
      "Epoch 167/500\n",
      "18/18 [==============================] - 0s 4ms/step - loss: 481.7690 - val_loss: 220.1334\n",
      "Epoch 168/500\n",
      "18/18 [==============================] - 0s 5ms/step - loss: 471.7237 - val_loss: 213.2995\n",
      "Epoch 169/500\n",
      "18/18 [==============================] - 0s 5ms/step - loss: 461.8364 - val_loss: 206.6077\n",
      "Epoch 170/500\n",
      "18/18 [==============================] - 0s 6ms/step - loss: 452.1060 - val_loss: 200.0556\n",
      "Epoch 171/500\n",
      "18/18 [==============================] - 0s 6ms/step - loss: 442.5303 - val_loss: 193.6420\n",
      "Epoch 172/500\n",
      "18/18 [==============================] - 0s 5ms/step - loss: 433.1080 - val_loss: 187.3654\n",
      "Epoch 173/500\n",
      "18/18 [==============================] - 0s 5ms/step - loss: 423.8376 - val_loss: 181.2245\n",
      "Epoch 174/500\n",
      "18/18 [==============================] - 0s 6ms/step - loss: 414.7178 - val_loss: 175.2172\n",
      "Epoch 175/500\n",
      "18/18 [==============================] - 0s 6ms/step - loss: 405.7471 - val_loss: 169.3422\n",
      "Epoch 176/500\n",
      "18/18 [==============================] - 0s 5ms/step - loss: 396.9236 - val_loss: 163.5986\n",
      "Epoch 177/500\n",
      "18/18 [==============================] - 0s 5ms/step - loss: 388.2466 - val_loss: 157.9843\n",
      "Epoch 178/500\n",
      "18/18 [==============================] - 0s 8ms/step - loss: 379.7143 - val_loss: 152.4978\n",
      "Epoch 179/500\n",
      "18/18 [==============================] - 0s 4ms/step - loss: 371.3253 - val_loss: 147.1380\n",
      "Epoch 180/500\n",
      "18/18 [==============================] - 0s 4ms/step - loss: 363.0778 - val_loss: 141.9030\n",
      "Epoch 181/500\n",
      "18/18 [==============================] - 0s 4ms/step - loss: 354.9708 - val_loss: 136.7917\n",
      "Epoch 182/500\n",
      "18/18 [==============================] - 0s 4ms/step - loss: 347.0028 - val_loss: 131.8022\n",
      "Epoch 183/500\n",
      "18/18 [==============================] - 0s 5ms/step - loss: 339.1721 - val_loss: 126.9336\n",
      "Epoch 184/500\n",
      "18/18 [==============================] - 0s 5ms/step - loss: 331.4776 - val_loss: 122.1837\n",
      "Epoch 185/500\n",
      "18/18 [==============================] - 0s 4ms/step - loss: 323.9177 - val_loss: 117.5515\n",
      "Epoch 186/500\n",
      "18/18 [==============================] - 0s 4ms/step - loss: 316.4910 - val_loss: 113.0355\n",
      "Epoch 187/500\n",
      "18/18 [==============================] - 0s 4ms/step - loss: 309.1964 - val_loss: 108.6344\n",
      "Epoch 188/500\n",
      "18/18 [==============================] - 0s 5ms/step - loss: 302.0320 - val_loss: 104.3463\n",
      "Epoch 189/500\n",
      "18/18 [==============================] - 0s 4ms/step - loss: 294.9963 - val_loss: 100.1698\n",
      "Epoch 190/500\n",
      "18/18 [==============================] - 0s 4ms/step - loss: 288.0887 - val_loss: 96.1040\n",
      "Epoch 191/500\n",
      "18/18 [==============================] - 0s 4ms/step - loss: 281.3071 - val_loss: 92.1469\n",
      "Epoch 192/500\n",
      "18/18 [==============================] - 0s 5ms/step - loss: 274.6503 - val_loss: 88.2973\n",
      "Epoch 193/500\n",
      "18/18 [==============================] - 0s 4ms/step - loss: 268.1172 - val_loss: 84.5536\n",
      "Epoch 194/500\n",
      "18/18 [==============================] - 0s 5ms/step - loss: 261.7060 - val_loss: 80.9146\n",
      "Epoch 195/500\n",
      "18/18 [==============================] - 0s 5ms/step - loss: 255.4156 - val_loss: 77.3787\n",
      "Epoch 196/500\n",
      "18/18 [==============================] - 0s 4ms/step - loss: 249.2446 - val_loss: 73.9443\n",
      "Epoch 197/500\n",
      "18/18 [==============================] - 0s 4ms/step - loss: 243.1913 - val_loss: 70.6103\n",
      "Epoch 198/500\n",
      "18/18 [==============================] - 0s 4ms/step - loss: 237.2546 - val_loss: 67.3748\n",
      "Epoch 199/500\n",
      "18/18 [==============================] - 0s 6ms/step - loss: 231.4330 - val_loss: 64.2369\n",
      "Epoch 200/500\n",
      "18/18 [==============================] - 0s 7ms/step - loss: 225.7252 - val_loss: 61.1951\n",
      "Epoch 201/500\n",
      "18/18 [==============================] - 0s 4ms/step - loss: 220.1299 - val_loss: 58.2477\n",
      "Epoch 202/500\n",
      "18/18 [==============================] - 0s 5ms/step - loss: 214.6459 - val_loss: 55.3934\n",
      "Epoch 203/500\n",
      "18/18 [==============================] - 0s 4ms/step - loss: 209.2717 - val_loss: 52.6312\n",
      "Epoch 204/500\n",
      "18/18 [==============================] - 0s 4ms/step - loss: 204.0059 - val_loss: 49.9589\n",
      "Epoch 205/500\n",
      "18/18 [==============================] - 0s 4ms/step - loss: 198.8470 - val_loss: 47.3758\n",
      "Epoch 206/500\n",
      "18/18 [==============================] - 0s 4ms/step - loss: 193.7940 - val_loss: 44.8800\n",
      "Epoch 207/500\n",
      "18/18 [==============================] - 0s 4ms/step - loss: 188.8453 - val_loss: 42.4706\n",
      "Epoch 208/500\n",
      "18/18 [==============================] - 0s 5ms/step - loss: 183.9996 - val_loss: 40.1455\n",
      "Epoch 209/500\n",
      "18/18 [==============================] - 0s 5ms/step - loss: 179.2557 - val_loss: 37.9040\n",
      "Epoch 210/500\n",
      "18/18 [==============================] - 0s 5ms/step - loss: 174.6120 - val_loss: 35.7444\n",
      "Epoch 211/500\n",
      "18/18 [==============================] - 0s 5ms/step - loss: 170.0674 - val_loss: 33.6654\n",
      "Epoch 212/500\n",
      "18/18 [==============================] - 0s 7ms/step - loss: 165.6206 - val_loss: 31.6655\n",
      "Epoch 213/500\n",
      "18/18 [==============================] - 0s 5ms/step - loss: 161.2704 - val_loss: 29.7435\n",
      "Epoch 214/500\n",
      "18/18 [==============================] - 0s 5ms/step - loss: 157.0151 - val_loss: 27.8979\n",
      "Epoch 215/500\n",
      "18/18 [==============================] - 0s 5ms/step - loss: 152.8534 - val_loss: 26.1271\n",
      "Epoch 216/500\n",
      "18/18 [==============================] - 0s 5ms/step - loss: 148.7843 - val_loss: 24.4304\n",
      "Epoch 217/500\n",
      "18/18 [==============================] - 0s 9ms/step - loss: 144.8064 - val_loss: 22.8059\n",
      "Epoch 218/500\n",
      "18/18 [==============================] - 0s 5ms/step - loss: 140.9184 - val_loss: 21.2524\n",
      "Epoch 219/500\n",
      "18/18 [==============================] - 0s 5ms/step - loss: 137.1190 - val_loss: 19.7686\n",
      "Epoch 220/500\n",
      "18/18 [==============================] - 0s 5ms/step - loss: 133.4070 - val_loss: 18.3530\n",
      "Epoch 221/500\n",
      "18/18 [==============================] - 0s 4ms/step - loss: 129.7809 - val_loss: 17.0044\n",
      "Epoch 222/500\n",
      "18/18 [==============================] - 0s 4ms/step - loss: 126.2396 - val_loss: 15.7215\n",
      "Epoch 223/500\n",
      "18/18 [==============================] - 0s 4ms/step - loss: 122.7816 - val_loss: 14.5028\n",
      "Epoch 224/500\n",
      "18/18 [==============================] - 0s 5ms/step - loss: 119.4059 - val_loss: 13.3471\n",
      "Epoch 225/500\n",
      "18/18 [==============================] - 0s 4ms/step - loss: 116.1110 - val_loss: 12.2531\n",
      "Epoch 226/500\n",
      "18/18 [==============================] - 0s 4ms/step - loss: 112.8957 - val_loss: 11.2195\n",
      "Epoch 227/500\n",
      "18/18 [==============================] - 0s 5ms/step - loss: 109.7590 - val_loss: 10.2449\n",
      "Epoch 228/500\n",
      "18/18 [==============================] - 0s 5ms/step - loss: 106.6994 - val_loss: 9.3281\n",
      "Epoch 229/500\n",
      "18/18 [==============================] - 0s 4ms/step - loss: 103.7156 - val_loss: 8.4678\n",
      "Epoch 230/500\n",
      "18/18 [==============================] - 0s 4ms/step - loss: 100.8064 - val_loss: 7.6626\n",
      "Epoch 231/500\n",
      "18/18 [==============================] - 0s 4ms/step - loss: 97.9707 - val_loss: 6.9114\n",
      "Epoch 232/500\n",
      "18/18 [==============================] - 0s 5ms/step - loss: 95.2071 - val_loss: 6.2128\n",
      "Epoch 233/500\n",
      "18/18 [==============================] - 0s 5ms/step - loss: 92.5146 - val_loss: 5.5656\n",
      "Epoch 234/500\n",
      "18/18 [==============================] - 0s 4ms/step - loss: 89.8919 - val_loss: 4.9685\n",
      "Epoch 235/500\n",
      "18/18 [==============================] - 0s 6ms/step - loss: 87.3377 - val_loss: 4.4203\n",
      "Epoch 236/500\n",
      "18/18 [==============================] - 0s 4ms/step - loss: 84.8510 - val_loss: 3.9198\n",
      "Epoch 237/500\n",
      "18/18 [==============================] - 0s 4ms/step - loss: 82.4303 - val_loss: 3.4657\n",
      "Epoch 238/500\n",
      "18/18 [==============================] - 0s 4ms/step - loss: 80.0746 - val_loss: 3.0568\n",
      "Epoch 239/500\n",
      "18/18 [==============================] - 0s 4ms/step - loss: 77.7826 - val_loss: 2.6919\n",
      "Epoch 240/500\n",
      "18/18 [==============================] - 0s 5ms/step - loss: 75.5532 - val_loss: 2.3698\n",
      "Epoch 241/500\n",
      "18/18 [==============================] - 0s 4ms/step - loss: 73.3853 - val_loss: 2.0893\n",
      "Epoch 242/500\n",
      "18/18 [==============================] - 0s 4ms/step - loss: 71.2776 - val_loss: 1.8492\n",
      "Epoch 243/500\n",
      "18/18 [==============================] - 0s 5ms/step - loss: 69.2292 - val_loss: 1.6483\n",
      "Epoch 244/500\n",
      "18/18 [==============================] - 0s 4ms/step - loss: 67.2389 - val_loss: 1.4855\n",
      "Epoch 245/500\n",
      "18/18 [==============================] - 0s 5ms/step - loss: 65.3052 - val_loss: 1.3597\n",
      "Epoch 246/500\n",
      "18/18 [==============================] - 0s 4ms/step - loss: 63.4274 - val_loss: 1.2697\n",
      "Epoch 247/500\n",
      "18/18 [==============================] - 0s 4ms/step - loss: 61.6041 - val_loss: 1.2143\n",
      "Epoch 248/500\n",
      "18/18 [==============================] - 0s 5ms/step - loss: 59.8344 - val_loss: 1.1924\n",
      "Epoch 249/500\n",
      "18/18 [==============================] - 0s 4ms/step - loss: 58.1171 - val_loss: 1.2030\n",
      "Epoch 250/500\n",
      "18/18 [==============================] - 0s 4ms/step - loss: 56.4512 - val_loss: 1.2449\n",
      "Epoch 251/500\n",
      "18/18 [==============================] - 0s 5ms/step - loss: 54.8355 - val_loss: 1.3171\n",
      "Epoch 252/500\n",
      "18/18 [==============================] - 0s 5ms/step - loss: 53.2689 - val_loss: 1.4184\n",
      "Epoch 253/500\n",
      "18/18 [==============================] - 0s 5ms/step - loss: 51.7503 - val_loss: 1.5478\n",
      "Epoch 254/500\n",
      "18/18 [==============================] - 0s 4ms/step - loss: 50.2789 - val_loss: 1.7044\n",
      "Epoch 255/500\n",
      "18/18 [==============================] - 0s 4ms/step - loss: 48.8535 - val_loss: 1.8869\n",
      "Epoch 256/500\n",
      "18/18 [==============================] - 0s 5ms/step - loss: 47.4730 - val_loss: 2.0944\n",
      "Epoch 257/500\n",
      "18/18 [==============================] - 0s 5ms/step - loss: 46.1365 - val_loss: 2.3260\n",
      "Epoch 258/500\n",
      "18/18 [==============================] - 0s 6ms/step - loss: 44.8429 - val_loss: 2.5805\n",
      "Epoch 259/500\n",
      "18/18 [==============================] - 0s 5ms/step - loss: 43.5914 - val_loss: 2.8571\n",
      "Epoch 260/500\n",
      "18/18 [==============================] - 0s 5ms/step - loss: 42.3808 - val_loss: 3.1547\n",
      "Epoch 261/500\n",
      "18/18 [==============================] - 0s 4ms/step - loss: 41.2102 - val_loss: 3.4724\n",
      "Epoch 262/500\n",
      "18/18 [==============================] - 0s 5ms/step - loss: 40.0787 - val_loss: 3.8093\n",
      "Epoch 263/500\n",
      "18/18 [==============================] - 0s 5ms/step - loss: 38.9851 - val_loss: 4.1644\n",
      "Epoch 264/500\n",
      "18/18 [==============================] - 0s 4ms/step - loss: 37.9286 - val_loss: 4.5368\n",
      "Epoch 265/500\n",
      "18/18 [==============================] - 0s 4ms/step - loss: 36.9084 - val_loss: 4.9257\n",
      "Epoch 266/500\n",
      "18/18 [==============================] - 0s 5ms/step - loss: 35.9235 - val_loss: 5.3300\n",
      "Epoch 267/500\n",
      "18/18 [==============================] - 0s 4ms/step - loss: 34.9729 - val_loss: 5.7491\n",
      "Epoch 268/500\n",
      "18/18 [==============================] - 0s 4ms/step - loss: 34.0557 - val_loss: 6.1821\n",
      "Epoch 269/500\n",
      "18/18 [==============================] - 0s 4ms/step - loss: 33.1711 - val_loss: 6.6280\n",
      "Epoch 270/500\n",
      "18/18 [==============================] - 0s 5ms/step - loss: 32.3183 - val_loss: 7.0862\n",
      "Epoch 271/500\n",
      "18/18 [==============================] - 0s 5ms/step - loss: 31.4962 - val_loss: 7.5557\n",
      "Epoch 272/500\n",
      "18/18 [==============================] - 0s 4ms/step - loss: 30.7043 - val_loss: 8.0359\n",
      "Epoch 273/500\n",
      "18/18 [==============================] - 0s 4ms/step - loss: 29.9414 - val_loss: 8.5257\n",
      "Epoch 274/500\n",
      "18/18 [==============================] - 0s 5ms/step - loss: 29.2070 - val_loss: 9.0248\n",
      "Epoch 275/500\n",
      "18/18 [==============================] - 0s 7ms/step - loss: 28.5001 - val_loss: 9.5321\n",
      "Epoch 276/500\n",
      "18/18 [==============================] - 0s 4ms/step - loss: 27.8200 - val_loss: 10.0471\n",
      "Epoch 277/500\n",
      "18/18 [==============================] - 0s 4ms/step - loss: 27.1659 - val_loss: 10.5690\n",
      "Epoch 278/500\n",
      "18/18 [==============================] - 0s 4ms/step - loss: 26.5370 - val_loss: 11.0971\n",
      "Epoch 279/500\n",
      "18/18 [==============================] - 0s 4ms/step - loss: 25.9326 - val_loss: 11.6307\n",
      "Epoch 280/500\n",
      "18/18 [==============================] - 0s 3ms/step - loss: 25.3520 - val_loss: 12.1692\n",
      "Epoch 281/500\n",
      "18/18 [==============================] - 0s 4ms/step - loss: 24.7943 - val_loss: 12.7120\n",
      "Epoch 282/500\n",
      "18/18 [==============================] - 0s 4ms/step - loss: 24.2589 - val_loss: 13.2586\n",
      "Epoch 283/500\n",
      "18/18 [==============================] - 0s 5ms/step - loss: 23.7451 - val_loss: 13.8082\n",
      "Epoch 284/500\n",
      "18/18 [==============================] - 0s 4ms/step - loss: 23.2522 - val_loss: 14.3602\n",
      "Epoch 285/500\n",
      "18/18 [==============================] - 0s 4ms/step - loss: 22.7796 - val_loss: 14.9140\n",
      "Epoch 286/500\n",
      "18/18 [==============================] - 0s 5ms/step - loss: 22.3265 - val_loss: 15.4693\n",
      "Epoch 287/500\n",
      "18/18 [==============================] - 0s 4ms/step - loss: 21.8924 - val_loss: 16.0253\n",
      "Epoch 288/500\n",
      "18/18 [==============================] - 0s 4ms/step - loss: 21.4765 - val_loss: 16.5817\n",
      "Epoch 289/500\n",
      "18/18 [==============================] - 0s 4ms/step - loss: 21.0784 - val_loss: 17.1378\n",
      "Epoch 290/500\n",
      "18/18 [==============================] - 0s 4ms/step - loss: 20.6974 - val_loss: 17.6934\n",
      "Epoch 291/500\n",
      "18/18 [==============================] - 0s 4ms/step - loss: 20.3327 - val_loss: 18.2479\n",
      "Epoch 292/500\n",
      "18/18 [==============================] - 0s 4ms/step - loss: 19.9841 - val_loss: 18.8006\n",
      "Epoch 293/500\n",
      "18/18 [==============================] - 0s 7ms/step - loss: 19.6508 - val_loss: 19.3514\n",
      "Epoch 294/500\n",
      "18/18 [==============================] - 0s 4ms/step - loss: 19.3323 - val_loss: 19.8996\n",
      "Epoch 295/500\n",
      "18/18 [==============================] - 0s 4ms/step - loss: 19.0281 - val_loss: 20.4451\n",
      "Epoch 296/500\n",
      "18/18 [==============================] - 0s 4ms/step - loss: 18.7377 - val_loss: 20.9874\n",
      "Epoch 297/500\n",
      "18/18 [==============================] - 0s 4ms/step - loss: 18.4604 - val_loss: 21.5261\n",
      "Epoch 298/500\n",
      "18/18 [==============================] - 0s 5ms/step - loss: 18.1960 - val_loss: 22.0609\n",
      "Epoch 299/500\n",
      "18/18 [==============================] - 0s 4ms/step - loss: 17.9438 - val_loss: 22.5914\n",
      "Epoch 300/500\n",
      "18/18 [==============================] - 0s 4ms/step - loss: 17.7034 - val_loss: 23.1173\n",
      "Epoch 301/500\n",
      "18/18 [==============================] - 0s 4ms/step - loss: 17.4742 - val_loss: 23.6385\n",
      "Epoch 302/500\n",
      "18/18 [==============================] - 0s 4ms/step - loss: 17.2560 - val_loss: 24.1544\n",
      "Epoch 303/500\n",
      "18/18 [==============================] - 0s 4ms/step - loss: 17.0483 - val_loss: 24.6649\n",
      "Epoch 304/500\n",
      "18/18 [==============================] - 0s 4ms/step - loss: 16.8506 - val_loss: 25.1698\n",
      "Epoch 305/500\n",
      "18/18 [==============================] - 0s 5ms/step - loss: 16.6625 - val_loss: 25.6688\n",
      "Epoch 306/500\n",
      "18/18 [==============================] - 0s 4ms/step - loss: 16.4836 - val_loss: 26.1616\n",
      "Epoch 307/500\n",
      "18/18 [==============================] - 0s 4ms/step - loss: 16.3136 - val_loss: 26.6482\n",
      "Epoch 308/500\n",
      "18/18 [==============================] - 0s 5ms/step - loss: 16.1521 - val_loss: 27.1280\n",
      "Epoch 309/500\n",
      "18/18 [==============================] - 0s 5ms/step - loss: 15.9987 - val_loss: 27.6012\n",
      "Epoch 310/500\n",
      "18/18 [==============================] - 0s 3ms/step - loss: 15.8530 - val_loss: 28.0674\n",
      "Epoch 311/500\n",
      "18/18 [==============================] - 0s 4ms/step - loss: 15.7149 - val_loss: 28.5264\n",
      "Epoch 312/500\n",
      "18/18 [==============================] - 0s 7ms/step - loss: 15.5838 - val_loss: 28.9785\n",
      "Epoch 313/500\n",
      "18/18 [==============================] - 0s 4ms/step - loss: 15.4596 - val_loss: 29.4233\n",
      "Epoch 314/500\n",
      "18/18 [==============================] - 0s 4ms/step - loss: 15.3418 - val_loss: 29.8605\n",
      "Epoch 315/500\n",
      "18/18 [==============================] - 0s 4ms/step - loss: 15.2302 - val_loss: 30.2902\n",
      "Epoch 316/500\n",
      "18/18 [==============================] - 0s 4ms/step - loss: 15.1245 - val_loss: 30.7123\n",
      "Epoch 317/500\n",
      "18/18 [==============================] - 0s 4ms/step - loss: 15.0245 - val_loss: 31.1265\n",
      "Epoch 318/500\n",
      "18/18 [==============================] - 0s 4ms/step - loss: 14.9299 - val_loss: 31.5331\n",
      "Epoch 319/500\n",
      "18/18 [==============================] - 0s 4ms/step - loss: 14.8404 - val_loss: 31.9322\n",
      "Epoch 320/500\n",
      "18/18 [==============================] - 0s 3ms/step - loss: 14.7557 - val_loss: 32.3228\n",
      "Epoch 321/500\n",
      "18/18 [==============================] - 0s 4ms/step - loss: 14.6757 - val_loss: 32.7057\n",
      "Epoch 322/500\n",
      "18/18 [==============================] - 0s 4ms/step - loss: 14.6002 - val_loss: 33.0807\n",
      "Epoch 323/500\n",
      "18/18 [==============================] - 0s 4ms/step - loss: 14.5288 - val_loss: 33.4476\n",
      "Epoch 324/500\n",
      "18/18 [==============================] - 0s 4ms/step - loss: 14.4615 - val_loss: 33.8068\n",
      "Epoch 325/500\n",
      "18/18 [==============================] - 0s 3ms/step - loss: 14.3979 - val_loss: 34.1579\n",
      "Epoch 326/500\n",
      "18/18 [==============================] - 0s 4ms/step - loss: 14.3379 - val_loss: 34.5009\n",
      "Epoch 327/500\n",
      "18/18 [==============================] - 0s 7ms/step - loss: 14.2814 - val_loss: 34.8360\n",
      "Epoch 328/500\n",
      "18/18 [==============================] - 0s 4ms/step - loss: 14.2281 - val_loss: 35.1633\n",
      "Epoch 329/500\n",
      "18/18 [==============================] - 0s 4ms/step - loss: 14.1779 - val_loss: 35.4827\n",
      "Epoch 330/500\n",
      "18/18 [==============================] - 0s 4ms/step - loss: 14.1306 - val_loss: 35.7942\n",
      "Epoch 331/500\n",
      "18/18 [==============================] - 0s 4ms/step - loss: 14.0861 - val_loss: 36.0980\n",
      "Epoch 332/500\n",
      "18/18 [==============================] - 0s 4ms/step - loss: 14.0442 - val_loss: 36.3938\n",
      "Epoch 333/500\n",
      "18/18 [==============================] - 0s 5ms/step - loss: 14.0048 - val_loss: 36.6822\n",
      "Epoch 334/500\n",
      "18/18 [==============================] - 0s 4ms/step - loss: 13.9677 - val_loss: 36.9628\n",
      "Epoch 335/500\n",
      "18/18 [==============================] - 0s 4ms/step - loss: 13.9328 - val_loss: 37.2360\n",
      "Epoch 336/500\n",
      "18/18 [==============================] - 0s 3ms/step - loss: 13.9001 - val_loss: 37.5015\n",
      "Epoch 337/500\n",
      "18/18 [==============================] - 0s 4ms/step - loss: 13.8693 - val_loss: 37.7599\n",
      "Epoch 338/500\n",
      "18/18 [==============================] - 0s 3ms/step - loss: 13.8404 - val_loss: 38.0108\n",
      "Epoch 339/500\n",
      "18/18 [==============================] - 0s 4ms/step - loss: 13.8132 - val_loss: 38.2546\n",
      "Epoch 340/500\n",
      "18/18 [==============================] - 0s 5ms/step - loss: 13.7877 - val_loss: 38.4914\n",
      "Epoch 341/500\n",
      "18/18 [==============================] - 0s 4ms/step - loss: 13.7638 - val_loss: 38.7211\n",
      "Epoch 342/500\n",
      "18/18 [==============================] - 0s 4ms/step - loss: 13.7414 - val_loss: 38.9438\n",
      "Epoch 343/500\n",
      "18/18 [==============================] - 0s 7ms/step - loss: 13.7203 - val_loss: 39.1601\n",
      "Epoch 344/500\n",
      "18/18 [==============================] - 0s 4ms/step - loss: 13.7006 - val_loss: 39.3694\n",
      "Epoch 345/500\n",
      "18/18 [==============================] - 0s 4ms/step - loss: 13.6820 - val_loss: 39.5723\n",
      "Epoch 346/500\n",
      "18/18 [==============================] - 0s 4ms/step - loss: 13.6647 - val_loss: 39.7685\n",
      "Epoch 347/500\n",
      "18/18 [==============================] - 0s 4ms/step - loss: 13.6485 - val_loss: 39.9586\n",
      "Epoch 348/500\n",
      "18/18 [==============================] - 0s 4ms/step - loss: 13.6332 - val_loss: 40.1426\n",
      "Epoch 349/500\n",
      "18/18 [==============================] - 0s 4ms/step - loss: 13.6190 - val_loss: 40.3205\n",
      "Epoch 350/500\n",
      "18/18 [==============================] - 0s 3ms/step - loss: 13.6056 - val_loss: 40.4923\n",
      "Epoch 351/500\n",
      "18/18 [==============================] - 0s 4ms/step - loss: 13.5931 - val_loss: 40.6584\n",
      "Epoch 352/500\n",
      "18/18 [==============================] - 0s 4ms/step - loss: 13.5814 - val_loss: 40.8187\n",
      "Epoch 353/500\n",
      "18/18 [==============================] - 0s 5ms/step - loss: 13.5704 - val_loss: 40.9734\n",
      "Epoch 354/500\n",
      "18/18 [==============================] - 0s 4ms/step - loss: 13.5602 - val_loss: 41.1228\n",
      "Epoch 355/500\n",
      "18/18 [==============================] - 0s 4ms/step - loss: 13.5506 - val_loss: 41.2669\n",
      "Epoch 356/500\n",
      "18/18 [==============================] - 0s 8ms/step - loss: 13.5416 - val_loss: 41.4056\n",
      "Epoch 357/500\n",
      "18/18 [==============================] - 0s 4ms/step - loss: 13.5332 - val_loss: 41.5393\n",
      "Epoch 358/500\n",
      "18/18 [==============================] - 0s 4ms/step - loss: 13.5254 - val_loss: 41.6681\n",
      "Epoch 359/500\n",
      "18/18 [==============================] - 0s 4ms/step - loss: 13.5180 - val_loss: 41.7922\n",
      "Epoch 360/500\n",
      "18/18 [==============================] - 0s 4ms/step - loss: 13.5112 - val_loss: 41.9112\n",
      "Epoch 361/500\n",
      "18/18 [==============================] - 0s 4ms/step - loss: 13.5048 - val_loss: 42.0261\n",
      "Epoch 362/500\n",
      "18/18 [==============================] - 0s 4ms/step - loss: 13.4988 - val_loss: 42.1363\n",
      "Epoch 363/500\n",
      "18/18 [==============================] - 0s 3ms/step - loss: 13.4932 - val_loss: 42.2424\n",
      "Epoch 364/500\n",
      "18/18 [==============================] - 0s 4ms/step - loss: 13.4879 - val_loss: 42.3441\n",
      "Epoch 365/500\n",
      "18/18 [==============================] - 0s 4ms/step - loss: 13.4831 - val_loss: 42.4419\n",
      "Epoch 366/500\n",
      "18/18 [==============================] - 0s 3ms/step - loss: 13.4785 - val_loss: 42.5357\n",
      "Epoch 367/500\n",
      "18/18 [==============================] - 0s 4ms/step - loss: 13.4743 - val_loss: 42.6256\n",
      "Epoch 368/500\n",
      "18/18 [==============================] - 0s 4ms/step - loss: 13.4703 - val_loss: 42.7117\n",
      "Epoch 369/500\n",
      "18/18 [==============================] - 0s 4ms/step - loss: 13.4666 - val_loss: 42.7943\n",
      "Epoch 370/500\n",
      "18/18 [==============================] - 0s 4ms/step - loss: 13.4632 - val_loss: 42.8735\n",
      "Epoch 371/500\n",
      "18/18 [==============================] - 0s 7ms/step - loss: 13.4599 - val_loss: 42.9491\n",
      "Epoch 372/500\n",
      "18/18 [==============================] - 0s 4ms/step - loss: 13.4569 - val_loss: 43.0216\n",
      "Epoch 373/500\n",
      "18/18 [==============================] - 0s 4ms/step - loss: 13.4541 - val_loss: 43.0908\n",
      "Epoch 374/500\n",
      "18/18 [==============================] - 0s 5ms/step - loss: 13.4515 - val_loss: 43.1572\n",
      "Epoch 375/500\n",
      "18/18 [==============================] - 0s 4ms/step - loss: 13.4491 - val_loss: 43.2202\n",
      "Epoch 376/500\n",
      "18/18 [==============================] - 0s 5ms/step - loss: 13.4469 - val_loss: 43.2810\n",
      "Epoch 377/500\n",
      "18/18 [==============================] - 0s 4ms/step - loss: 13.4448 - val_loss: 43.3387\n",
      "Epoch 378/500\n",
      "18/18 [==============================] - 0s 4ms/step - loss: 13.4428 - val_loss: 43.3940\n",
      "Epoch 379/500\n",
      "18/18 [==============================] - 0s 4ms/step - loss: 13.4410 - val_loss: 43.4467\n",
      "Epoch 380/500\n",
      "18/18 [==============================] - 0s 4ms/step - loss: 13.4393 - val_loss: 43.4966\n",
      "Epoch 381/500\n",
      "18/18 [==============================] - 0s 5ms/step - loss: 13.4377 - val_loss: 43.5443\n",
      "Epoch 382/500\n",
      "18/18 [==============================] - 0s 3ms/step - loss: 13.4363 - val_loss: 43.5897\n",
      "Epoch 383/500\n",
      "18/18 [==============================] - 0s 4ms/step - loss: 13.4349 - val_loss: 43.6331\n",
      "Epoch 384/500\n",
      "18/18 [==============================] - 0s 4ms/step - loss: 13.4337 - val_loss: 43.6742\n",
      "Epoch 385/500\n",
      "18/18 [==============================] - 0s 4ms/step - loss: 13.4325 - val_loss: 43.7134\n",
      "Epoch 386/500\n",
      "18/18 [==============================] - 0s 4ms/step - loss: 13.4314 - val_loss: 43.7505\n",
      "Epoch 387/500\n",
      "18/18 [==============================] - 0s 4ms/step - loss: 13.4305 - val_loss: 43.7861\n",
      "Epoch 388/500\n",
      "18/18 [==============================] - 0s 4ms/step - loss: 13.4296 - val_loss: 43.8196\n",
      "Epoch 389/500\n",
      "18/18 [==============================] - 0s 4ms/step - loss: 13.4288 - val_loss: 43.8515\n",
      "Epoch 390/500\n",
      "18/18 [==============================] - 0s 4ms/step - loss: 13.4280 - val_loss: 43.8818\n",
      "Epoch 391/500\n",
      "18/18 [==============================] - 0s 4ms/step - loss: 13.4273 - val_loss: 43.9105\n",
      "Epoch 392/500\n",
      "18/18 [==============================] - 0s 3ms/step - loss: 13.4267 - val_loss: 43.9377\n",
      "Epoch 393/500\n",
      "18/18 [==============================] - 0s 4ms/step - loss: 13.4261 - val_loss: 43.9633\n",
      "Epoch 394/500\n",
      "18/18 [==============================] - 0s 4ms/step - loss: 13.4256 - val_loss: 43.9878\n",
      "Epoch 395/500\n",
      "18/18 [==============================] - 0s 4ms/step - loss: 13.4251 - val_loss: 44.0107\n",
      "Epoch 396/500\n",
      "18/18 [==============================] - 0s 4ms/step - loss: 13.4247 - val_loss: 44.0325\n",
      "Epoch 397/500\n",
      "18/18 [==============================] - 0s 4ms/step - loss: 13.4243 - val_loss: 44.0532\n",
      "Epoch 398/500\n",
      "18/18 [==============================] - 0s 4ms/step - loss: 13.4240 - val_loss: 44.0727\n",
      "Epoch 399/500\n",
      "18/18 [==============================] - 0s 4ms/step - loss: 13.4237 - val_loss: 44.0909\n",
      "Epoch 400/500\n",
      "18/18 [==============================] - 0s 5ms/step - loss: 13.4234 - val_loss: 44.1083\n",
      "Epoch 401/500\n",
      "18/18 [==============================] - 0s 3ms/step - loss: 13.4232 - val_loss: 44.1246\n",
      "Epoch 402/500\n",
      "18/18 [==============================] - 0s 7ms/step - loss: 13.4230 - val_loss: 44.1401\n",
      "Epoch 403/500\n",
      "18/18 [==============================] - 0s 3ms/step - loss: 13.4228 - val_loss: 44.1545\n",
      "Epoch 404/500\n",
      "18/18 [==============================] - 0s 4ms/step - loss: 13.4227 - val_loss: 44.1682\n",
      "Epoch 405/500\n",
      "18/18 [==============================] - 0s 4ms/step - loss: 13.4226 - val_loss: 44.1810\n",
      "Epoch 406/500\n",
      "18/18 [==============================] - 0s 4ms/step - loss: 13.4225 - val_loss: 44.1930\n",
      "Epoch 407/500\n",
      "18/18 [==============================] - 0s 4ms/step - loss: 13.4225 - val_loss: 44.2043\n",
      "Epoch 408/500\n",
      "18/18 [==============================] - 0s 3ms/step - loss: 13.4224 - val_loss: 44.2151\n",
      "Epoch 409/500\n",
      "18/18 [==============================] - 0s 4ms/step - loss: 13.4224 - val_loss: 44.2252\n",
      "Epoch 410/500\n",
      "18/18 [==============================] - 0s 4ms/step - loss: 13.4224 - val_loss: 44.2345\n",
      "Epoch 411/500\n",
      "18/18 [==============================] - 0s 4ms/step - loss: 13.4225 - val_loss: 44.2431\n",
      "Epoch 412/500\n",
      "18/18 [==============================] - 0s 4ms/step - loss: 13.4225 - val_loss: 44.2516\n",
      "Epoch 413/500\n",
      "18/18 [==============================] - 0s 4ms/step - loss: 13.4226 - val_loss: 44.2591\n",
      "Epoch 414/500\n",
      "18/18 [==============================] - 0s 4ms/step - loss: 13.4226 - val_loss: 44.2662\n",
      "Epoch 415/500\n",
      "18/18 [==============================] - 0s 4ms/step - loss: 13.4228 - val_loss: 44.2730\n",
      "Epoch 416/500\n",
      "18/18 [==============================] - 0s 5ms/step - loss: 13.4228 - val_loss: 44.2795\n",
      "Epoch 417/500\n",
      "18/18 [==============================] - 0s 4ms/step - loss: 13.4230 - val_loss: 44.2854\n",
      "Epoch 418/500\n",
      "18/18 [==============================] - 0s 4ms/step - loss: 13.4231 - val_loss: 44.2908\n",
      "Epoch 419/500\n",
      "18/18 [==============================] - 0s 5ms/step - loss: 13.4232 - val_loss: 44.2957\n",
      "Epoch 420/500\n",
      "18/18 [==============================] - 0s 4ms/step - loss: 13.4234 - val_loss: 44.3003\n",
      "Epoch 421/500\n",
      "18/18 [==============================] - 0s 6ms/step - loss: 13.4236 - val_loss: 44.3049\n",
      "Epoch 422/500\n",
      "18/18 [==============================] - 0s 4ms/step - loss: 13.4237 - val_loss: 44.3088\n",
      "Epoch 423/500\n",
      "18/18 [==============================] - 0s 4ms/step - loss: 13.4239 - val_loss: 44.3125\n",
      "Epoch 424/500\n",
      "18/18 [==============================] - 0s 4ms/step - loss: 13.4241 - val_loss: 44.3157\n",
      "Epoch 425/500\n",
      "18/18 [==============================] - 0s 4ms/step - loss: 13.4243 - val_loss: 44.3193\n",
      "Epoch 426/500\n",
      "18/18 [==============================] - 0s 4ms/step - loss: 13.4245 - val_loss: 44.3222\n",
      "Epoch 427/500\n",
      "18/18 [==============================] - 0s 4ms/step - loss: 13.4247 - val_loss: 44.3246\n",
      "Epoch 428/500\n",
      "18/18 [==============================] - 0s 5ms/step - loss: 13.4250 - val_loss: 44.3270\n",
      "Epoch 429/500\n",
      "18/18 [==============================] - 0s 4ms/step - loss: 13.4252 - val_loss: 44.3294\n",
      "Epoch 430/500\n",
      "18/18 [==============================] - 0s 3ms/step - loss: 13.4254 - val_loss: 44.3315\n",
      "Epoch 431/500\n",
      "18/18 [==============================] - 0s 4ms/step - loss: 13.4257 - val_loss: 44.3334\n",
      "Epoch 432/500\n",
      "18/18 [==============================] - 0s 4ms/step - loss: 13.4259 - val_loss: 44.3353\n",
      "Epoch 433/500\n",
      "18/18 [==============================] - 0s 4ms/step - loss: 13.4261 - val_loss: 44.3369\n",
      "Epoch 434/500\n",
      "18/18 [==============================] - 0s 5ms/step - loss: 13.4264 - val_loss: 44.3382\n",
      "Epoch 435/500\n",
      "18/18 [==============================] - 0s 4ms/step - loss: 13.4266 - val_loss: 44.3396\n",
      "Epoch 436/500\n",
      "18/18 [==============================] - 0s 4ms/step - loss: 13.4268 - val_loss: 44.3407\n",
      "Epoch 437/500\n",
      "18/18 [==============================] - 0s 4ms/step - loss: 13.4271 - val_loss: 44.3415\n",
      "Epoch 438/500\n",
      "18/18 [==============================] - 0s 3ms/step - loss: 13.4274 - val_loss: 44.3425\n",
      "Epoch 439/500\n",
      "18/18 [==============================] - 0s 4ms/step - loss: 13.4276 - val_loss: 44.3432\n",
      "Epoch 440/500\n",
      "18/18 [==============================] - 0s 4ms/step - loss: 13.4279 - val_loss: 44.3439\n",
      "Epoch 441/500\n",
      "18/18 [==============================] - 0s 4ms/step - loss: 13.4282 - val_loss: 44.3444\n",
      "Epoch 442/500\n",
      "18/18 [==============================] - 0s 4ms/step - loss: 13.4284 - val_loss: 44.3453\n",
      "Epoch 443/500\n",
      "18/18 [==============================] - 0s 4ms/step - loss: 13.4287 - val_loss: 44.3456\n",
      "Epoch 444/500\n",
      "18/18 [==============================] - 0s 5ms/step - loss: 13.4290 - val_loss: 44.3458\n",
      "Epoch 445/500\n",
      "18/18 [==============================] - 0s 4ms/step - loss: 13.4292 - val_loss: 44.3461\n",
      "Epoch 446/500\n",
      "18/18 [==============================] - 0s 3ms/step - loss: 13.4295 - val_loss: 44.3465\n",
      "Epoch 447/500\n",
      "18/18 [==============================] - 0s 5ms/step - loss: 13.4297 - val_loss: 44.3466\n",
      "Epoch 448/500\n",
      "18/18 [==============================] - 0s 4ms/step - loss: 13.4300 - val_loss: 44.3466\n",
      "Epoch 449/500\n",
      "18/18 [==============================] - 0s 4ms/step - loss: 13.4303 - val_loss: 44.3466\n",
      "Epoch 450/500\n",
      "18/18 [==============================] - 0s 5ms/step - loss: 13.4306 - val_loss: 44.3466\n",
      "Epoch 451/500\n",
      "18/18 [==============================] - 0s 4ms/step - loss: 13.4309 - val_loss: 44.3467\n",
      "Epoch 452/500\n",
      "18/18 [==============================] - 0s 5ms/step - loss: 13.4311 - val_loss: 44.3466\n",
      "Epoch 453/500\n",
      "18/18 [==============================] - 0s 4ms/step - loss: 13.4314 - val_loss: 44.3464\n",
      "Epoch 454/500\n",
      "18/18 [==============================] - 0s 4ms/step - loss: 13.4316 - val_loss: 44.3462\n",
      "Epoch 455/500\n",
      "18/18 [==============================] - 0s 3ms/step - loss: 13.4319 - val_loss: 44.3462\n",
      "Epoch 456/500\n",
      "18/18 [==============================] - 0s 5ms/step - loss: 13.4322 - val_loss: 44.3460\n",
      "Epoch 457/500\n",
      "18/18 [==============================] - 0s 4ms/step - loss: 13.4324 - val_loss: 44.3458\n",
      "Epoch 458/500\n",
      "18/18 [==============================] - 0s 4ms/step - loss: 13.4327 - val_loss: 44.3455\n",
      "Epoch 459/500\n",
      "18/18 [==============================] - 0s 4ms/step - loss: 13.4330 - val_loss: 44.3449\n",
      "Epoch 460/500\n",
      "18/18 [==============================] - 0s 4ms/step - loss: 13.4333 - val_loss: 44.3446\n",
      "Epoch 461/500\n",
      "18/18 [==============================] - 0s 4ms/step - loss: 13.4335 - val_loss: 44.3443\n",
      "Epoch 462/500\n",
      "18/18 [==============================] - 0s 7ms/step - loss: 13.4338 - val_loss: 44.3441\n",
      "Epoch 463/500\n",
      "18/18 [==============================] - 0s 5ms/step - loss: 13.4340 - val_loss: 44.3437\n",
      "Epoch 464/500\n",
      "18/18 [==============================] - 0s 4ms/step - loss: 13.4343 - val_loss: 44.3434\n",
      "Epoch 465/500\n",
      "18/18 [==============================] - 0s 4ms/step - loss: 13.4345 - val_loss: 44.3429\n",
      "Epoch 466/500\n",
      "18/18 [==============================] - 0s 3ms/step - loss: 13.4348 - val_loss: 44.3426\n",
      "Epoch 467/500\n",
      "18/18 [==============================] - 0s 4ms/step - loss: 13.4351 - val_loss: 44.3420\n",
      "Epoch 468/500\n",
      "18/18 [==============================] - 0s 5ms/step - loss: 13.4353 - val_loss: 44.3417\n",
      "Epoch 469/500\n",
      "18/18 [==============================] - 0s 4ms/step - loss: 13.4356 - val_loss: 44.3414\n",
      "Epoch 470/500\n",
      "18/18 [==============================] - 0s 4ms/step - loss: 13.4358 - val_loss: 44.3410\n",
      "Epoch 471/500\n",
      "18/18 [==============================] - 0s 5ms/step - loss: 13.4360 - val_loss: 44.3404\n",
      "Epoch 472/500\n",
      "18/18 [==============================] - 0s 4ms/step - loss: 13.4363 - val_loss: 44.3400\n",
      "Epoch 473/500\n",
      "18/18 [==============================] - 0s 4ms/step - loss: 13.4366 - val_loss: 44.3396\n",
      "Epoch 474/500\n",
      "18/18 [==============================] - 0s 5ms/step - loss: 13.4368 - val_loss: 44.3390\n",
      "Epoch 475/500\n",
      "18/18 [==============================] - 0s 3ms/step - loss: 13.4371 - val_loss: 44.3387\n",
      "Epoch 476/500\n",
      "18/18 [==============================] - 0s 5ms/step - loss: 13.4373 - val_loss: 44.3382\n",
      "Epoch 477/500\n",
      "18/18 [==============================] - 0s 4ms/step - loss: 13.4375 - val_loss: 44.3379\n",
      "Epoch 478/500\n",
      "18/18 [==============================] - 0s 4ms/step - loss: 13.4377 - val_loss: 44.3374\n",
      "Epoch 479/500\n",
      "18/18 [==============================] - 0s 4ms/step - loss: 13.4380 - val_loss: 44.3371\n",
      "Epoch 480/500\n",
      "18/18 [==============================] - 0s 4ms/step - loss: 13.4382 - val_loss: 44.3366\n",
      "Epoch 481/500\n",
      "18/18 [==============================] - 0s 4ms/step - loss: 13.4384 - val_loss: 44.3360\n",
      "Epoch 482/500\n",
      "18/18 [==============================] - 0s 5ms/step - loss: 13.4387 - val_loss: 44.3356\n",
      "Epoch 483/500\n",
      "18/18 [==============================] - 0s 4ms/step - loss: 13.4389 - val_loss: 44.3353\n",
      "Epoch 484/500\n",
      "18/18 [==============================] - 0s 3ms/step - loss: 13.4391 - val_loss: 44.3349\n",
      "Epoch 485/500\n",
      "18/18 [==============================] - 0s 4ms/step - loss: 13.4393 - val_loss: 44.3344\n",
      "Epoch 486/500\n",
      "18/18 [==============================] - 0s 4ms/step - loss: 13.4395 - val_loss: 44.3339\n",
      "Epoch 487/500\n",
      "18/18 [==============================] - 0s 4ms/step - loss: 13.4398 - val_loss: 44.3334\n",
      "Epoch 488/500\n",
      "18/18 [==============================] - 0s 4ms/step - loss: 13.4400 - val_loss: 44.3329\n",
      "Epoch 489/500\n",
      "18/18 [==============================] - 0s 5ms/step - loss: 13.4402 - val_loss: 44.3326\n",
      "Epoch 490/500\n",
      "18/18 [==============================] - 0s 4ms/step - loss: 13.4404 - val_loss: 44.3320\n",
      "Epoch 491/500\n",
      "18/18 [==============================] - 0s 5ms/step - loss: 13.4406 - val_loss: 44.3315\n",
      "Epoch 492/500\n",
      "18/18 [==============================] - 0s 4ms/step - loss: 13.4408 - val_loss: 44.3312\n",
      "Epoch 493/500\n",
      "18/18 [==============================] - 0s 4ms/step - loss: 13.4410 - val_loss: 44.3306\n",
      "Epoch 494/500\n",
      "18/18 [==============================] - 0s 4ms/step - loss: 13.4412 - val_loss: 44.3302\n",
      "Epoch 495/500\n",
      "18/18 [==============================] - 0s 4ms/step - loss: 13.4415 - val_loss: 44.3300\n",
      "Epoch 496/500\n",
      "18/18 [==============================] - 0s 4ms/step - loss: 13.4416 - val_loss: 44.3295\n",
      "Epoch 497/500\n",
      "18/18 [==============================] - 0s 5ms/step - loss: 13.4418 - val_loss: 44.3291\n",
      "Epoch 498/500\n",
      "18/18 [==============================] - 0s 5ms/step - loss: 13.4420 - val_loss: 44.3288\n",
      "Epoch 499/500\n",
      "18/18 [==============================] - 0s 4ms/step - loss: 13.4422 - val_loss: 44.3284\n",
      "Epoch 500/500\n",
      "18/18 [==============================] - 0s 5ms/step - loss: 13.4424 - val_loss: 44.3277\n"
     ]
    }
   ],
   "source": [
    "C0 = tf.Variable(86.6856, name=\"C0\", trainable=True, dtype=tf.float32)\n",
    "K0 = tf.Variable(-0.0008, name=\"K0\", trainable=True, dtype=tf.float32)\n",
    "K1 = tf.Variable(-0.0002, name=\"K1\", trainable=True, dtype=tf.float32)\n",
    "a = tf.Variable(0.0000, name=\"a\", trainable=True, dtype=tf.float32)\n",
    "b = tf.Variable(0.0128, name=\"b\", trainable=True, dtype=tf.float32)\n",
    "c = tf.Variable(-2.3003, name=\"c\", trainable=True, dtype=tf.float32)\n",
    "\n",
    "splitr = 0.8\n",
    "\n",
    "\n",
    "def loss_fn(y_true, y_pred):\n",
    "    squared_difference = tf.square(y_true[:, 0] - y_pred[:, 0])\n",
    "    #squared_difference2 = tf.square(y_true[:, 2]-y_pred[:, 2])\n",
    "    #squared_difference1 = tf.square(y_true[:, 1]-y_pred[:, 1])\n",
    "    epsilon = 1\n",
    "    squared_difference3 = tf.square(\n",
    "        y_pred[:, 1] - (\n",
    "            y_pred[:, 0] * (\n",
    "                K0 - K1 * (\n",
    "                    9 * a * tf.math.log((y_pred[:, 0] + epsilon) / C0) / (K0 - K1 * c)**2 +\n",
    "                    4 * b * tf.math.log((y_pred[:, 0] + epsilon) / C0) / (K0 - K1 * c) + c\n",
    "                )\n",
    "            )\n",
    "        )\n",
    "    )\n",
    "    return tf.reduce_mean(squared_difference, axis=-1) + 0.2*tf.reduce_mean(squared_difference3, axis=-1)\n",
    "model = Sequential()\n",
    "model.add(LSTM(100, input_shape=(trainX.shape[1], trainX.shape[2])))\n",
    "model.add(Dense(60))\n",
    "model.compile(loss=loss_fn, optimizer='adam')\n",
    "history = model.fit(trainX[:int(splitr*trainX.shape[0])], trainy[:int(splitr*trainX.shape[0])], epochs=500, batch_size=64, validation_data=(trainX[int(splitr*trainX.shape[0]):trainX.shape[0]], trainy[int(splitr*trainX.shape[0]):trainX.shape[0]]), shuffle=False)"
   ]
  },
  {
   "cell_type": "code",
   "execution_count": 19,
   "metadata": {
    "colab": {
     "base_uri": "https://localhost:8080/"
    },
    "id": "yJL101rPyuoT",
    "outputId": "239ff2b1-c186-423a-d316-939dfdd7c793"
   },
   "outputs": [
    {
     "name": "stdout",
     "output_type": "stream",
     "text": [
      "1/1 [==============================] - 0s 340ms/step\n"
     ]
    }
   ],
   "source": [
    "forecast_without_mc = forecastX\n",
    "yhat_without_mc = model.predict(forecast_without_mc) # Step Ahead Prediction\n",
    "forecast_without_mc = forecast_without_mc.reshape((forecast_without_mc.shape[0], forecast_without_mc.shape[2])) # Historical Input"
   ]
  },
  {
   "cell_type": "code",
   "execution_count": 20,
   "metadata": {
    "colab": {
     "base_uri": "https://localhost:8080/"
    },
    "id": "g9dQELcJ8wbp",
    "outputId": "4dc7671b-b1a8-48d5-8744-a86f98446109"
   },
   "outputs": [
    {
     "data": {
      "text/plain": [
       "(1, 1, 251)"
      ]
     },
     "execution_count": 20,
     "metadata": {},
     "output_type": "execute_result"
    }
   ],
   "source": [
    "forecastX.shape"
   ]
  },
  {
   "cell_type": "code",
   "execution_count": 21,
   "metadata": {
    "colab": {
     "base_uri": "https://localhost:8080/"
    },
    "id": "IS2kyIKG1Kbr",
    "outputId": "f31b3485-8e26-452f-9298-ea8bf7e80ad1"
   },
   "outputs": [
    {
     "data": {
      "text/plain": [
       "(1, 251)"
      ]
     },
     "execution_count": 21,
     "metadata": {},
     "output_type": "execute_result"
    }
   ],
   "source": [
    "forecast_without_mc.shape"
   ]
  },
  {
   "cell_type": "code",
   "execution_count": 22,
   "metadata": {
    "id": "0u6VIzaDyuoT"
   },
   "outputs": [],
   "source": [
    "inv_yhat_without_mc = np.concatenate((forecast_without_mc, yhat_without_mc), axis=1) # Concatenation of predicted values with Historical Data\n",
    "#inv_yhat_without_mc = scaler.inverse_transform(inv_yhat_without_mc) # Transform labels back to original encoding"
   ]
  },
  {
   "cell_type": "code",
   "execution_count": 23,
   "metadata": {
    "colab": {
     "base_uri": "https://localhost:8080/"
    },
    "id": "EUEcw0LX07oU",
    "outputId": "cfc32397-9c37-4b43-d087-584bb31c3dcc"
   },
   "outputs": [
    {
     "data": {
      "text/plain": [
       "(1, 311)"
      ]
     },
     "execution_count": 23,
     "metadata": {},
     "output_type": "execute_result"
    }
   ],
   "source": [
    "inv_yhat_without_mc.shape"
   ]
  },
  {
   "cell_type": "code",
   "execution_count": 24,
   "metadata": {
    "id": "31OWVbSh_305"
   },
   "outputs": [],
   "source": [
    "fforecast = inv_yhat_without_mc[:,-300:]"
   ]
  },
  {
   "cell_type": "code",
   "execution_count": 25,
   "metadata": {},
   "outputs": [
    {
     "data": {
      "text/plain": [
       "(1, 300)"
      ]
     },
     "execution_count": 25,
     "metadata": {},
     "output_type": "execute_result"
    }
   ],
   "source": [
    "fforecast.shape"
   ]
  },
  {
   "cell_type": "code",
   "execution_count": 26,
   "metadata": {
    "id": "BlpGH2FOAiRF"
   },
   "outputs": [],
   "source": [
    "final_forecast = fforecast[:,0:300:3]"
   ]
  },
  {
   "cell_type": "code",
   "execution_count": 27,
   "metadata": {},
   "outputs": [
    {
     "data": {
      "text/plain": [
       "(1, 300)"
      ]
     },
     "execution_count": 27,
     "metadata": {},
     "output_type": "execute_result"
    }
   ],
   "source": [
    "fforecast.shape"
   ]
  },
  {
   "cell_type": "code",
   "execution_count": 28,
   "metadata": {
    "id": "CXkgkj_LBk_t"
   },
   "outputs": [],
   "source": [
    "# code to replace all negative value with 0\n",
    "final_forecast[final_forecast<0] = 0"
   ]
  },
  {
   "cell_type": "code",
   "execution_count": 29,
   "metadata": {},
   "outputs": [
    {
     "data": {
      "text/plain": [
       "array([[6.92841270e+01, 6.92281046e+01, 6.91720822e+01, 6.91160598e+01,\n",
       "        6.90600374e+01, 6.90040149e+01, 6.89479925e+01, 6.88919701e+01,\n",
       "        6.88359477e+01, 6.87799253e+01, 6.87239029e+01, 6.86678805e+01,\n",
       "        6.86118581e+01, 6.85558357e+01, 6.84998133e+01, 6.84437908e+01,\n",
       "        6.83877684e+01, 6.83317460e+01, 6.82757236e+01, 6.82197012e+01,\n",
       "        6.81636788e+01, 6.81076564e+01, 6.80516340e+01, 6.79956116e+01,\n",
       "        6.79395892e+01, 6.78835668e+01, 6.78275443e+01, 6.77847642e+01,\n",
       "        6.77547922e+01, 6.77248203e+01, 6.76948483e+01, 6.76648763e+01,\n",
       "        6.76349043e+01, 6.76049323e+01, 6.75749603e+01, 6.75449883e+01,\n",
       "        6.75150163e+01, 6.74850443e+01, 6.74550724e+01, 6.74251004e+01,\n",
       "        6.73951284e+01, 6.73651564e+01, 6.73351844e+01, 6.73052124e+01,\n",
       "        6.72752404e+01, 6.72452684e+01, 6.72152964e+01, 6.71853245e+01,\n",
       "        6.71553525e+01, 6.71253805e+01, 6.70954085e+01, 6.70654365e+01,\n",
       "        6.70354645e+01, 6.70054925e+01, 6.69755205e+01, 6.69455485e+01,\n",
       "        6.69155766e+01, 6.68856046e+01, 6.68556326e+01, 6.68256606e+01,\n",
       "        6.67956886e+01, 6.67657166e+01, 6.67357446e+01, 6.67044141e+01,\n",
       "        6.66727614e+01, 6.66411088e+01, 6.66094561e+01, 6.65778035e+01,\n",
       "        6.65461508e+01, 6.65144981e+01, 6.64828455e+01, 6.64511928e+01,\n",
       "        6.64195402e+01, 6.63878875e+01, 6.63562348e+01, 6.63245822e+01,\n",
       "        6.62929295e+01, 6.62612768e+01, 6.62296242e+01, 6.61979715e+01,\n",
       "        7.43834152e+01, 7.29776502e-01, 3.92893776e-02, 0.00000000e+00,\n",
       "        8.01512241e-01, 6.50058270e-01, 0.00000000e+00, 5.47762811e-01,\n",
       "        0.00000000e+00, 4.55104053e-01, 1.23954430e-01, 0.00000000e+00,\n",
       "        8.12869072e-02, 2.27773413e-01, 0.00000000e+00, 0.00000000e+00,\n",
       "        2.80281007e-01, 4.02470976e-02, 0.00000000e+00, 0.00000000e+00]])"
      ]
     },
     "execution_count": 29,
     "metadata": {},
     "output_type": "execute_result"
    }
   ],
   "source": [
    "final_forecast"
   ]
  },
  {
   "cell_type": "code",
   "execution_count": 30,
   "metadata": {},
   "outputs": [
    {
     "data": {
      "text/plain": [
       "(1, 100)"
      ]
     },
     "execution_count": 30,
     "metadata": {},
     "output_type": "execute_result"
    }
   ],
   "source": [
    "final_forecast.shape"
   ]
  },
  {
   "cell_type": "code",
   "execution_count": 31,
   "metadata": {},
   "outputs": [
    {
     "data": {
      "text/plain": [
       "(100,)"
      ]
     },
     "execution_count": 31,
     "metadata": {},
     "output_type": "execute_result"
    }
   ],
   "source": [
    "test.shape"
   ]
  },
  {
   "cell_type": "code",
   "execution_count": 32,
   "metadata": {},
   "outputs": [],
   "source": [
    "training_set = np.array(training_set)\n",
    "test = np.array(test)\n",
    "final_forecast = np.array(final_forecast.squeeze(0))"
   ]
  },
  {
   "cell_type": "code",
   "execution_count": 33,
   "metadata": {},
   "outputs": [
    {
     "data": {
      "text/plain": [
       "array([64.37878151, 64.37037815, 64.36197479, 64.35357143, 64.34516807,\n",
       "       64.33676471, 64.32836134, 64.31995798, 64.31155462, 64.30315126,\n",
       "       64.2947479 , 64.28634454, 64.27794118, 64.26953782, 64.26113445,\n",
       "       64.25273109, 64.24432773, 64.23592437, 64.22752101, 64.21911765,\n",
       "       64.21071429, 64.20231092, 64.19390756, 64.1855042 , 64.17710084,\n",
       "       64.16869748, 64.16029412, 64.15189076, 64.14348739, 64.13508403,\n",
       "       64.12668067, 64.11827731, 64.10987395, 64.10147059, 64.09306723,\n",
       "       64.08466387, 64.0762605 , 64.06785714, 64.05945378, 64.05105042,\n",
       "       64.04264706, 64.0342437 , 64.02584034, 64.01743697, 64.00903361,\n",
       "       64.00063025, 63.99222689, 63.98382353, 63.97542017, 63.96701681,\n",
       "       63.95861345, 63.95021008, 63.94180672, 63.93340336, 63.925     ,\n",
       "       63.91659664, 63.90819328, 63.89978992, 63.89138655, 63.88298319,\n",
       "       63.87457983, 63.86617647, 63.85777311, 63.84936975, 63.84096639,\n",
       "       63.83256303, 63.82415966, 63.8157563 , 63.80735294, 63.79749066,\n",
       "       63.77741597, 63.75734127, 63.73726657, 63.71719188, 63.69711718,\n",
       "       63.67704248, 63.65696779, 63.63689309, 63.61681839, 63.5967437 ,\n",
       "       63.576669  , 63.5565943 , 63.53651961, 63.51644491, 63.49637021,\n",
       "       63.47629552, 63.45622082, 63.43614613, 63.41607143, 63.39599673,\n",
       "       63.37592204, 63.35584734, 63.33577264, 63.31569795, 63.29562325,\n",
       "       63.27554855, 63.25547386, 63.23539916, 63.21532446, 63.19524977])"
      ]
     },
     "execution_count": 33,
     "metadata": {},
     "output_type": "execute_result"
    }
   ],
   "source": [
    "test"
   ]
  },
  {
   "cell_type": "code",
   "execution_count": 34,
   "metadata": {},
   "outputs": [
    {
     "data": {
      "text/plain": [
       "(100,)"
      ]
     },
     "execution_count": 34,
     "metadata": {},
     "output_type": "execute_result"
    }
   ],
   "source": [
    "test.shape"
   ]
  },
  {
   "cell_type": "code",
   "execution_count": 35,
   "metadata": {},
   "outputs": [
    {
     "data": {
      "text/plain": [
       "(100,)"
      ]
     },
     "execution_count": 35,
     "metadata": {},
     "output_type": "execute_result"
    }
   ],
   "source": [
    "final_forecast.shape"
   ]
  },
  {
   "cell_type": "code",
   "execution_count": 36,
   "metadata": {},
   "outputs": [
    {
     "data": {
      "text/plain": [
       "(100,)"
      ]
     },
     "execution_count": 36,
     "metadata": {},
     "output_type": "execute_result"
    }
   ],
   "source": [
    "test.shape"
   ]
  },
  {
   "cell_type": "code",
   "execution_count": 37,
   "metadata": {},
   "outputs": [
    {
     "name": "stdout",
     "output_type": "stream",
     "text": [
      "27.737354709340877\n",
      "14.89929291642432\n"
     ]
    }
   ],
   "source": [
    "import math\n",
    "MSE = np.square(np.subtract(np.array(test),np.array(final_forecast))).mean()   \n",
    "rsme = math.sqrt(MSE)\n",
    "print(rsme)  \n",
    "MAE = np.abs(np.subtract(np.array(test),np.array(final_forecast))).mean()   \n",
    "mae = MAE\n",
    "print(mae)"
   ]
  }
 ],
 "metadata": {
  "colab": {
   "provenance": []
  },
  "kernelspec": {
   "display_name": "Python 3",
   "language": "python",
   "name": "python3"
  },
  "language_info": {
   "codemirror_mode": {
    "name": "ipython",
    "version": 3
   },
   "file_extension": ".py",
   "mimetype": "text/x-python",
   "name": "python",
   "nbconvert_exporter": "python",
   "pygments_lexer": "ipython3",
   "version": "3.9.13"
  }
 },
 "nbformat": 4,
 "nbformat_minor": 0
}
