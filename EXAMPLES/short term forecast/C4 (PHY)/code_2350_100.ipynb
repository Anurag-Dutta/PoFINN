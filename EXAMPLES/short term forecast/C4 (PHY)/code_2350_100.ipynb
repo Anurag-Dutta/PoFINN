{
 "cells": [
  {
   "cell_type": "markdown",
   "metadata": {
    "id": "pCGKeZ2gyuoQ"
   },
   "source": [
    "_Importing Required Libraries_"
   ]
  },
  {
   "cell_type": "code",
   "execution_count": 1,
   "metadata": {
    "colab": {
     "base_uri": "https://localhost:8080/"
    },
    "id": "A-6LN-zXiLcM",
    "outputId": "4de610a4-f8b8-4f49-c6c0-89de299ccedc"
   },
   "outputs": [
    {
     "name": "stdout",
     "output_type": "stream",
     "text": [
      "Requirement already satisfied: hampel in c:\\users\\anurag dutta\\appdata\\local\\packages\\pythonsoftwarefoundation.python.3.9_qbz5n2kfra8p0\\localcache\\local-packages\\python39\\site-packages (0.0.5)\n",
      "Requirement already satisfied: numpy in c:\\users\\anurag dutta\\appdata\\local\\packages\\pythonsoftwarefoundation.python.3.9_qbz5n2kfra8p0\\localcache\\local-packages\\python39\\site-packages (from hampel) (1.26.4)\n",
      "Requirement already satisfied: pandas in c:\\users\\anurag dutta\\appdata\\local\\packages\\pythonsoftwarefoundation.python.3.9_qbz5n2kfra8p0\\localcache\\local-packages\\python39\\site-packages (from hampel) (1.5.2)\n",
      "Requirement already satisfied: python-dateutil>=2.8.1 in c:\\users\\anurag dutta\\appdata\\local\\packages\\pythonsoftwarefoundation.python.3.9_qbz5n2kfra8p0\\localcache\\local-packages\\python39\\site-packages (from pandas->hampel) (2.8.2)\n",
      "Requirement already satisfied: pytz>=2020.1 in c:\\users\\anurag dutta\\appdata\\local\\packages\\pythonsoftwarefoundation.python.3.9_qbz5n2kfra8p0\\localcache\\local-packages\\python39\\site-packages (from pandas->hampel) (2023.3.post1)\n",
      "Requirement already satisfied: six>=1.5 in c:\\users\\anurag dutta\\appdata\\local\\packages\\pythonsoftwarefoundation.python.3.9_qbz5n2kfra8p0\\localcache\\local-packages\\python39\\site-packages (from python-dateutil>=2.8.1->pandas->hampel) (1.16.0)\n",
      "Note: you may need to restart the kernel to use updated packages.\n"
     ]
    },
    {
     "name": "stderr",
     "output_type": "stream",
     "text": [
      "\n",
      "[notice] A new release of pip is available: 24.2 -> 24.3.1\n",
      "[notice] To update, run: C:\\Users\\Anurag Dutta\\AppData\\Local\\Microsoft\\WindowsApps\\PythonSoftwareFoundation.Python.3.9_qbz5n2kfra8p0\\python.exe -m pip install --upgrade pip\n"
     ]
    }
   ],
   "source": [
    "pip install hampel"
   ]
  },
  {
   "cell_type": "code",
   "execution_count": 2,
   "metadata": {
    "id": "By_d9uXpaFvZ"
   },
   "outputs": [],
   "source": [
    "from keras.models import Sequential\n",
    "from keras.layers import Dense\n",
    "from keras.layers import LSTM\n",
    "from keras.layers import Dropout\n",
    "import keras\n",
    "import tensorflow as tf\n",
    "from hampel import hampel\n",
    "import numpy as np\n",
    "import matplotlib.pyplot as plt\n",
    "import pandas as pd\n",
    "from sklearn.preprocessing import MinMaxScaler\n",
    "from sklearn.metrics import mean_squared_error, mean_absolute_error\n",
    "from math import sqrt\n",
    "from matplotlib import pyplot\n",
    "from numpy import array"
   ]
  },
  {
   "cell_type": "markdown",
   "metadata": {
    "id": "JyOjBMFayuoR"
   },
   "source": [
    "## Pretraining"
   ]
  },
  {
   "cell_type": "markdown",
   "metadata": {
    "id": "-5QqIY_GyuoR"
   },
   "source": [
    "The `capa_intermittency.dat` feeds the model with the dynamics of the Capacitor"
   ]
  },
  {
   "cell_type": "code",
   "execution_count": 3,
   "metadata": {
    "id": "9dV4a8yfyuoR"
   },
   "outputs": [],
   "source": [
    "data = np.genfromtxt('capa_intermittency.dat')\n",
    "training_set = pd.DataFrame(data).reset_index(drop=True)\n",
    "training_set = training_set.iloc[:,0]"
   ]
  },
  {
   "cell_type": "markdown",
   "metadata": {
    "id": "i7easoxByuoR"
   },
   "source": [
    "## Computing the Gradient"
   ]
  },
  {
   "cell_type": "markdown",
   "metadata": {
    "id": "5SnyolJTyuoR"
   },
   "source": [
    "_Calculating the value of_ $\\frac{dx}{dt}$"
   ]
  },
  {
   "cell_type": "code",
   "execution_count": 4,
   "metadata": {
    "colab": {
     "base_uri": "https://localhost:8080/"
    },
    "id": "wmIbVfIvyuoR",
    "outputId": "aa4e3136-c854-465d-d2e9-81cfd546e440"
   },
   "outputs": [
    {
     "name": "stdout",
     "output_type": "stream",
     "text": [
      "1.0\n",
      "1        0.000298\n",
      "2        0.000298\n",
      "3        0.000297\n",
      "4        0.000297\n",
      "5        0.000297\n",
      "           ...   \n",
      "9996     0.000018\n",
      "9997     0.000018\n",
      "9998     0.000018\n",
      "9999     0.000018\n",
      "10000    0.000018\n",
      "Name: 0, Length: 10000, dtype: float64\n"
     ]
    }
   ],
   "source": [
    "t_diff = 1\n",
    "print(training_set.max())\n",
    "gradient_t = (training_set.diff()/t_diff).iloc[1:] # dx/dt\n",
    "print(gradient_t)"
   ]
  },
  {
   "cell_type": "markdown",
   "metadata": {
    "id": "_2eVeeoxyuoS"
   },
   "source": [
    "## Loading Datasets"
   ]
  },
  {
   "cell_type": "code",
   "execution_count": 5,
   "metadata": {
    "id": "0J-NKyIEyuoS"
   },
   "outputs": [
    {
     "data": {
      "text/plain": [
       "0       88.600000\n",
       "1       88.409524\n",
       "2       88.219048\n",
       "3       88.028571\n",
       "4       87.838095\n",
       "          ...    \n",
       "2445    55.664071\n",
       "2446    55.651773\n",
       "2447    55.639475\n",
       "2448    55.627178\n",
       "2449    55.614880\n",
       "Name: C4, Length: 2450, dtype: float64"
      ]
     },
     "execution_count": 5,
     "metadata": {},
     "output_type": "execute_result"
    }
   ],
   "source": [
    "data = pd.read_csv(\"c4_interpolated_2350_100.csv\")\n",
    "training_set = data.iloc[:, 1]\n",
    "training_set"
   ]
  },
  {
   "cell_type": "code",
   "execution_count": 6,
   "metadata": {
    "colab": {
     "base_uri": "https://localhost:8080/"
    },
    "id": "-CbNUhJ74UqF",
    "outputId": "20f562d8-8247-49cc-b9c3-00eca5e13e2d"
   },
   "outputs": [
    {
     "data": {
      "text/plain": [
       "0       88.600000\n",
       "1       88.409524\n",
       "2       88.219048\n",
       "3       88.028571\n",
       "4       87.838095\n",
       "          ...    \n",
       "2345     0.000000\n",
       "2346     0.074520\n",
       "2347     0.000000\n",
       "2348     0.320692\n",
       "2349     0.091184\n",
       "Name: C4, Length: 2350, dtype: float64"
      ]
     },
     "execution_count": 6,
     "metadata": {},
     "output_type": "execute_result"
    }
   ],
   "source": [
    "test = training_set.tail(100)\n",
    "test\n",
    "training_set = training_set.head(2350)\n",
    "training_set"
   ]
  },
  {
   "cell_type": "code",
   "execution_count": 7,
   "metadata": {
    "colab": {
     "base_uri": "https://localhost:8080/"
    },
    "id": "X0TwTcq0yuoS",
    "outputId": "37252ed8-d88e-4044-fa7a-922411990b5b"
   },
   "outputs": [
    {
     "name": "stdout",
     "output_type": "stream",
     "text": [
      "0       0.000298\n",
      "1       0.000298\n",
      "2       0.000297\n",
      "3       0.000297\n",
      "4       0.000297\n",
      "          ...   \n",
      "9995    0.000018\n",
      "9996    0.000018\n",
      "9997    0.000018\n",
      "9998    0.000018\n",
      "9999    0.000018\n",
      "Name: 0, Length: 10000, dtype: float64\n"
     ]
    }
   ],
   "source": [
    "training_set = training_set.reset_index(drop=True)\n",
    "gradient_t = gradient_t.reset_index(drop=True)\n",
    "print(gradient_t)"
   ]
  },
  {
   "cell_type": "code",
   "execution_count": 8,
   "metadata": {
    "id": "O2biznZQyuoS"
   },
   "outputs": [],
   "source": [
    "df = pd.concat((training_set, gradient_t), axis=1)\n",
    "df.columns = ['y_t', 'grad_t']"
   ]
  },
  {
   "cell_type": "code",
   "execution_count": 9,
   "metadata": {
    "colab": {
     "base_uri": "https://localhost:8080/",
     "height": 423
    },
    "id": "sk_a5v3tyuoS",
    "outputId": "17563625-e550-45ae-faab-fafa353e44da"
   },
   "outputs": [
    {
     "data": {
      "text/html": [
       "<div>\n",
       "<style scoped>\n",
       "    .dataframe tbody tr th:only-of-type {\n",
       "        vertical-align: middle;\n",
       "    }\n",
       "\n",
       "    .dataframe tbody tr th {\n",
       "        vertical-align: top;\n",
       "    }\n",
       "\n",
       "    .dataframe thead th {\n",
       "        text-align: right;\n",
       "    }\n",
       "</style>\n",
       "<table border=\"1\" class=\"dataframe\">\n",
       "  <thead>\n",
       "    <tr style=\"text-align: right;\">\n",
       "      <th></th>\n",
       "      <th>y_t</th>\n",
       "      <th>grad_t</th>\n",
       "    </tr>\n",
       "  </thead>\n",
       "  <tbody>\n",
       "    <tr>\n",
       "      <th>0</th>\n",
       "      <td>88.600000</td>\n",
       "      <td>0.000298</td>\n",
       "    </tr>\n",
       "    <tr>\n",
       "      <th>1</th>\n",
       "      <td>88.409524</td>\n",
       "      <td>0.000298</td>\n",
       "    </tr>\n",
       "    <tr>\n",
       "      <th>2</th>\n",
       "      <td>88.219048</td>\n",
       "      <td>0.000297</td>\n",
       "    </tr>\n",
       "    <tr>\n",
       "      <th>3</th>\n",
       "      <td>88.028571</td>\n",
       "      <td>0.000297</td>\n",
       "    </tr>\n",
       "    <tr>\n",
       "      <th>4</th>\n",
       "      <td>87.838095</td>\n",
       "      <td>0.000297</td>\n",
       "    </tr>\n",
       "    <tr>\n",
       "      <th>...</th>\n",
       "      <td>...</td>\n",
       "      <td>...</td>\n",
       "    </tr>\n",
       "    <tr>\n",
       "      <th>9995</th>\n",
       "      <td>NaN</td>\n",
       "      <td>0.000018</td>\n",
       "    </tr>\n",
       "    <tr>\n",
       "      <th>9996</th>\n",
       "      <td>NaN</td>\n",
       "      <td>0.000018</td>\n",
       "    </tr>\n",
       "    <tr>\n",
       "      <th>9997</th>\n",
       "      <td>NaN</td>\n",
       "      <td>0.000018</td>\n",
       "    </tr>\n",
       "    <tr>\n",
       "      <th>9998</th>\n",
       "      <td>NaN</td>\n",
       "      <td>0.000018</td>\n",
       "    </tr>\n",
       "    <tr>\n",
       "      <th>9999</th>\n",
       "      <td>NaN</td>\n",
       "      <td>0.000018</td>\n",
       "    </tr>\n",
       "  </tbody>\n",
       "</table>\n",
       "<p>10000 rows × 2 columns</p>\n",
       "</div>"
      ],
      "text/plain": [
       "            y_t    grad_t\n",
       "0     88.600000  0.000298\n",
       "1     88.409524  0.000298\n",
       "2     88.219048  0.000297\n",
       "3     88.028571  0.000297\n",
       "4     87.838095  0.000297\n",
       "...         ...       ...\n",
       "9995        NaN  0.000018\n",
       "9996        NaN  0.000018\n",
       "9997        NaN  0.000018\n",
       "9998        NaN  0.000018\n",
       "9999        NaN  0.000018\n",
       "\n",
       "[10000 rows x 2 columns]"
      ]
     },
     "execution_count": 9,
     "metadata": {},
     "output_type": "execute_result"
    }
   ],
   "source": [
    "df"
   ]
  },
  {
   "cell_type": "markdown",
   "metadata": {
    "id": "-5esyHu5aFvg"
   },
   "source": [
    "## Plot of the External Forcing from Chaotic Differential Equation"
   ]
  },
  {
   "cell_type": "code",
   "execution_count": 10,
   "metadata": {
    "colab": {
     "base_uri": "https://localhost:8080/",
     "height": 447
    },
    "id": "hGnE43tOh-4p",
    "outputId": "fc396503-b624-4fa5-dfbe-f460207405c6"
   },
   "outputs": [
    {
     "data": {
      "text/plain": [
       "<Axes: >"
      ]
     },
     "execution_count": 10,
     "metadata": {},
     "output_type": "execute_result"
    },
    {
     "data": {
      "image/png": "[encoded data removed]",
      "text/plain": [
       "<Figure size 432x288 with 1 Axes>"
      ]
     },
     "metadata": {
      "needs_background": "light"
     },
     "output_type": "display_data"
    }
   ],
   "source": [
    "df.iloc[:, 0].plot()"
   ]
  },
  {
   "cell_type": "code",
   "execution_count": 11,
   "metadata": {
    "colab": {
     "base_uri": "https://localhost:8080/",
     "height": 447
    },
    "id": "ym4xWUUxaFvg",
    "outputId": "ae6a3495-8ce9-437e-ba81-3ed31deedeae"
   },
   "outputs": [
    {
     "name": "stderr",
     "output_type": "stream",
     "text": [
      "C:\\Users\\Anurag Dutta\\AppData\\Local\\Packages\\PythonSoftwareFoundation.Python.3.9_qbz5n2kfra8p0\\LocalCache\\local-packages\\Python39\\site-packages\\pandas\\core\\arraylike.py:402: RuntimeWarning: divide by zero encountered in log\n",
      "  result = getattr(ufunc, method)(*inputs, **kwargs)\n"
     ]
    },
    {
     "data": {
      "text/plain": [
       "<Axes: >"
      ]
     },
     "execution_count": 11,
     "metadata": {},
     "output_type": "execute_result"
    },
    {
     "data": {
      "image/png": "[encoded data removed]",
      "text/plain": [
       "<Figure size 432x288 with 1 Axes>"
      ]
     },
     "metadata": {
      "needs_background": "light"
     },
     "output_type": "display_data"
    }
   ],
   "source": [
    "import numpy as np\n",
    "c0 = 86.6856  # Value for C0\n",
    "K0 = -0.0008  # Value for K0\n",
    "K1 = -0.0002  # Value for K1\n",
    "a = 0.0000    # Value for a\n",
    "b = 0.0128    # Value for b\n",
    "c = -2.3003    # Value for c\n",
    "\n",
    "L = np.minimum(c0, (df.iloc[:, 1] - (df.iloc[:, 0] * (K0 - K1 * (9 * a * np.log(df.iloc[:, 0] / c0) / (K0 - K1 * c)**2 + 4 * b * np.log(df.iloc[:, 0] / c0) / (K0 - K1 * c) + c)))))\n",
    "L.plot()"
   ]
  },
  {
   "cell_type": "markdown",
   "metadata": {
    "id": "9VyEywnwaFvh"
   },
   "source": [
    "## Preprocessing the data into supervised learning"
   ]
  },
  {
   "cell_type": "code",
   "execution_count": 12,
   "metadata": {
    "id": "6V9dXqzdaFvh"
   },
   "outputs": [],
   "source": [
    "# split a sequence into samples\n",
    "def Supervised(data, n_in=1, n_out=1, dropnan=True):\n",
    "    n_vars = 1 if type(data) is list else data.shape[1]\n",
    "    df = pd.DataFrame(data)\n",
    "    cols, names = list(), list()\n",
    "    # input sequence (t-n_in, ... t-1)\n",
    "    for i in range(n_in, 0, -1):\n",
    "        cols.append(df.shift(i))\n",
    "        names += [('var%d(t-%d)' % (j+1, i)) for j in range(n_vars)]\n",
    "    # forecast sequence (t, t+1, ... t+n_out)\n",
    "    for i in range(0, n_out):\n",
    "      cols.append(df.shift(-i))\n",
    "      if i == 0:\n",
    "        names += [('var%d(t)' % (j+1)) for j in range(n_vars)]\n",
    "      else:\n",
    "        names += [('var%d(t+%d)' % (j+1, i)) for j in range(n_vars)]\n",
    "    # put it all together\n",
    "    agg = pd.concat(cols, axis=1)\n",
    "    agg.columns = names\n",
    "    # drop rows with NaN values\n",
    "    if dropnan:\n",
    "       agg.dropna(inplace=True)\n",
    "    return agg"
   ]
  },
  {
   "cell_type": "code",
   "execution_count": 13,
   "metadata": {
    "colab": {
     "base_uri": "https://localhost:8080/"
    },
    "id": "CrzSrT1HnyfH",
    "outputId": "7e75f928-3e47-499d-eac1-51908015ef78"
   },
   "outputs": [
    {
     "name": "stdout",
     "output_type": "stream",
     "text": [
      "     var1(t-350)  var1(t-349)  var1(t-348)  var1(t-347)  var1(t-346)  \\\n",
      "350    88.600000    88.409524    88.219048    88.028571    87.838095   \n",
      "351    88.409524    88.219048    88.028571    87.838095    87.647619   \n",
      "352    88.219048    88.028571    87.838095    87.647619    87.457143   \n",
      "353    88.028571    87.838095    87.647619    87.457143    87.266667   \n",
      "354    87.838095    87.647619    87.457143    87.266667    87.076190   \n",
      "\n",
      "     var1(t-345)  var1(t-344)  var1(t-343)  var1(t-342)  var1(t-341)  ...  \\\n",
      "350    87.647619    87.457143    87.266667    87.076190    86.896218  ...   \n",
      "351    87.457143    87.266667    87.076190    86.896218    86.845798  ...   \n",
      "352    87.266667    87.076190    86.896218    86.845798    86.795378  ...   \n",
      "353    87.076190    86.896218    86.845798    86.795378    86.744958  ...   \n",
      "354    86.896218    86.845798    86.795378    86.744958    86.694538  ...   \n",
      "\n",
      "     var1(t+95)  var2(t+95)  var1(t+96)  var2(t+96)  var1(t+97)  var2(t+97)  \\\n",
      "350   78.880345    0.000263   78.856069    0.000263   78.831793    0.000263   \n",
      "351   78.856069    0.000263   78.831793    0.000263   78.807516    0.000262   \n",
      "352   78.831793    0.000263   78.807516    0.000262   78.783240    0.000262   \n",
      "353   78.807516    0.000262   78.783240    0.000262   78.758964    0.000262   \n",
      "354   78.783240    0.000262   78.758964    0.000262   78.734687    0.000262   \n",
      "\n",
      "     var1(t+98)  var2(t+98)  var1(t+99)  var2(t+99)  \n",
      "350   78.807516    0.000262   78.783240    0.000262  \n",
      "351   78.783240    0.000262   78.758964    0.000262  \n",
      "352   78.758964    0.000262   78.734687    0.000262  \n",
      "353   78.734687    0.000262   78.710411    0.000262  \n",
      "354   78.710411    0.000262   78.686134    0.000262  \n",
      "\n",
      "[5 rows x 551 columns]\n",
      "Index(['var1(t-350)', 'var1(t-349)', 'var1(t-348)', 'var1(t-347)',\n",
      "       'var1(t-346)', 'var1(t-345)', 'var1(t-344)', 'var1(t-343)',\n",
      "       'var1(t-342)', 'var1(t-341)',\n",
      "       ...\n",
      "       'var1(t+95)', 'var2(t+95)', 'var1(t+96)', 'var2(t+96)', 'var1(t+97)',\n",
      "       'var2(t+97)', 'var1(t+98)', 'var2(t+98)', 'var1(t+99)', 'var2(t+99)'],\n",
      "      dtype='object', length=551)\n"
     ]
    }
   ],
   "source": [
    "data = Supervised(df.values, n_in = 350, n_out = 100)\n",
    "\n",
    "\n",
    "cols_to_drop = []\n",
    "for i in range(2, 351):\n",
    "    cols_to_drop.extend([f'var2(t-{i})'])\n",
    "\n",
    "data.drop(cols_to_drop, axis=1, inplace=True)\n",
    "\n",
    "print(data.head())\n",
    "print(data.columns)"
   ]
  },
  {
   "cell_type": "code",
   "execution_count": 14,
   "metadata": {
    "id": "AfPf60oy6Pe4"
   },
   "outputs": [],
   "source": [
    "train = np.array(data[0:len(data)-1])\n",
    "forecast = np.array(data.tail(1))"
   ]
  },
  {
   "cell_type": "code",
   "execution_count": 15,
   "metadata": {
    "id": "WSAafzI37KiT"
   },
   "outputs": [],
   "source": [
    "trainy = train[:,-300:]\n",
    "trainX = train[:,:-300]"
   ]
  },
  {
   "cell_type": "code",
   "execution_count": 16,
   "metadata": {
    "id": "2SrOqVJA7f50"
   },
   "outputs": [],
   "source": [
    "forecasty = forecast[:,-300:]\n",
    "forecastX = forecast[:,:-300]"
   ]
  },
  {
   "cell_type": "code",
   "execution_count": 17,
   "metadata": {
    "colab": {
     "base_uri": "https://localhost:8080/"
    },
    "id": "Qno_k8Nw7saY",
    "outputId": "c4a88db5-d8c6-489f-cdb2-06b24e293cff"
   },
   "outputs": [
    {
     "name": "stdout",
     "output_type": "stream",
     "text": [
      "(1900, 1, 251) (1900, 300) (1, 1, 251)\n"
     ]
    }
   ],
   "source": [
    "trainX = trainX.reshape((trainX.shape[0], 1, trainX.shape[1]))\n",
    "forecastX = forecastX.reshape((forecastX.shape[0], 1, forecastX.shape[1]))\n",
    "print(trainX.shape, trainy.shape, forecastX.shape)"
   ]
  },
  {
   "cell_type": "code",
   "execution_count": 18,
   "metadata": {
    "colab": {
     "base_uri": "https://localhost:8080/"
    },
    "id": "b1Jp2DvNuNFx",
    "outputId": "d0e5b3c4-64f1-438c-eade-8dfeaac8e285"
   },
   "outputs": [
    {
     "name": "stdout",
     "output_type": "stream",
     "text": [
      "Epoch 1/500\n",
      "24/24 [==============================] - 2s 22ms/step - loss: 5114.1187 - val_loss: 3381.1506\n",
      "Epoch 2/500\n",
      "24/24 [==============================] - 0s 4ms/step - loss: 4990.8120 - val_loss: 3324.4902\n",
      "Epoch 3/500\n",
      "24/24 [==============================] - 0s 3ms/step - loss: 4902.1807 - val_loss: 3269.2708\n",
      "Epoch 4/500\n",
      "24/24 [==============================] - 0s 3ms/step - loss: 4814.7769 - val_loss: 3215.1934\n",
      "Epoch 5/500\n",
      "24/24 [==============================] - 0s 4ms/step - loss: 4728.9028 - val_loss: 3162.1240\n",
      "Epoch 6/500\n",
      "24/24 [==============================] - 0s 7ms/step - loss: 4644.3896 - val_loss: 3105.1443\n",
      "Epoch 7/500\n",
      "24/24 [==============================] - 0s 4ms/step - loss: 4543.4502 - val_loss: 3047.1951\n",
      "Epoch 8/500\n",
      "24/24 [==============================] - 0s 4ms/step - loss: 4456.0483 - val_loss: 2994.1257\n",
      "Epoch 9/500\n",
      "24/24 [==============================] - 0s 4ms/step - loss: 4370.9116 - val_loss: 2942.4111\n",
      "Epoch 10/500\n",
      "24/24 [==============================] - 0s 3ms/step - loss: 4287.6323 - val_loss: 2891.8208\n",
      "Epoch 11/500\n",
      "24/24 [==============================] - 0s 4ms/step - loss: 4205.9136 - val_loss: 2842.2339\n",
      "Epoch 12/500\n",
      "24/24 [==============================] - 0s 4ms/step - loss: 4125.6001 - val_loss: 2793.5818\n",
      "Epoch 13/500\n",
      "24/24 [==============================] - 0s 3ms/step - loss: 4046.6023 - val_loss: 2745.8198\n",
      "Epoch 14/500\n",
      "24/24 [==============================] - 0s 3ms/step - loss: 3968.8577 - val_loss: 2698.9170\n",
      "Epoch 15/500\n",
      "24/24 [==============================] - 0s 3ms/step - loss: 3892.3230 - val_loss: 2652.8491\n",
      "Epoch 16/500\n",
      "24/24 [==============================] - 0s 4ms/step - loss: 3816.9639 - val_loss: 2607.5959\n",
      "Epoch 17/500\n",
      "24/24 [==============================] - 0s 4ms/step - loss: 3742.7527 - val_loss: 2563.1409\n",
      "Epoch 18/500\n",
      "24/24 [==============================] - 0s 4ms/step - loss: 3669.6658 - val_loss: 2519.4695\n",
      "Epoch 19/500\n",
      "24/24 [==============================] - 0s 5ms/step - loss: 3597.6843 - val_loss: 2476.5684\n",
      "Epoch 20/500\n",
      "24/24 [==============================] - 0s 4ms/step - loss: 3526.7866 - val_loss: 2434.4255\n",
      "Epoch 21/500\n",
      "24/24 [==============================] - 0s 4ms/step - loss: 3456.9590 - val_loss: 2393.0291\n",
      "Epoch 22/500\n",
      "24/24 [==============================] - 0s 4ms/step - loss: 3388.1846 - val_loss: 2352.3691\n",
      "Epoch 23/500\n",
      "24/24 [==============================] - 0s 5ms/step - loss: 3320.4478 - val_loss: 2312.4360\n",
      "Epoch 24/500\n",
      "24/24 [==============================] - 0s 4ms/step - loss: 3253.7368 - val_loss: 2273.2190\n",
      "Epoch 25/500\n",
      "24/24 [==============================] - 0s 3ms/step - loss: 3188.0369 - val_loss: 2234.7095\n",
      "Epoch 26/500\n",
      "24/24 [==============================] - 0s 3ms/step - loss: 3123.3354 - val_loss: 2196.8979\n",
      "Epoch 27/500\n",
      "24/24 [==============================] - 0s 4ms/step - loss: 3059.6218 - val_loss: 2159.7761\n",
      "Epoch 28/500\n",
      "24/24 [==============================] - 0s 4ms/step - loss: 2996.8835 - val_loss: 2123.3354\n",
      "Epoch 29/500\n",
      "24/24 [==============================] - 0s 3ms/step - loss: 2935.1077 - val_loss: 2087.5679\n",
      "Epoch 30/500\n",
      "24/24 [==============================] - 0s 4ms/step - loss: 2874.2852 - val_loss: 2052.4646\n",
      "Epoch 31/500\n",
      "24/24 [==============================] - 0s 6ms/step - loss: 2814.4041 - val_loss: 2018.0183\n",
      "Epoch 32/500\n",
      "24/24 [==============================] - 0s 4ms/step - loss: 2755.4526 - val_loss: 1984.2206\n",
      "Epoch 33/500\n",
      "24/24 [==============================] - 0s 4ms/step - loss: 2697.4226 - val_loss: 1951.0645\n",
      "Epoch 34/500\n",
      "24/24 [==============================] - 0s 4ms/step - loss: 2640.3027 - val_loss: 1918.5416\n",
      "Epoch 35/500\n",
      "24/24 [==============================] - 0s 4ms/step - loss: 2584.0818 - val_loss: 1886.6453\n",
      "Epoch 36/500\n",
      "24/24 [==============================] - 0s 4ms/step - loss: 2528.7517 - val_loss: 1855.3674\n",
      "Epoch 37/500\n",
      "24/24 [==============================] - 0s 4ms/step - loss: 2474.3013 - val_loss: 1824.7009\n",
      "Epoch 38/500\n",
      "24/24 [==============================] - 0s 4ms/step - loss: 2420.7217 - val_loss: 1794.6390\n",
      "Epoch 39/500\n",
      "24/24 [==============================] - 0s 4ms/step - loss: 2368.0022 - val_loss: 1765.1747\n",
      "Epoch 40/500\n",
      "24/24 [==============================] - 0s 4ms/step - loss: 2316.1345 - val_loss: 1736.2997\n",
      "Epoch 41/500\n",
      "24/24 [==============================] - 0s 4ms/step - loss: 2265.1096 - val_loss: 1708.0082\n",
      "Epoch 42/500\n",
      "24/24 [==============================] - 0s 5ms/step - loss: 2214.9172 - val_loss: 1680.2932\n",
      "Epoch 43/500\n",
      "24/24 [==============================] - 0s 5ms/step - loss: 2165.5491 - val_loss: 1653.1478\n",
      "Epoch 44/500\n",
      "24/24 [==============================] - 0s 4ms/step - loss: 2116.9956 - val_loss: 1626.5648\n",
      "Epoch 45/500\n",
      "24/24 [==============================] - 0s 4ms/step - loss: 2069.2480 - val_loss: 1600.5382\n",
      "Epoch 46/500\n",
      "24/24 [==============================] - 0s 4ms/step - loss: 2022.2979 - val_loss: 1575.0607\n",
      "Epoch 47/500\n",
      "24/24 [==============================] - 0s 4ms/step - loss: 1976.1359 - val_loss: 1550.1265\n",
      "Epoch 48/500\n",
      "24/24 [==============================] - 0s 4ms/step - loss: 1930.7542 - val_loss: 1525.7283\n",
      "Epoch 49/500\n",
      "24/24 [==============================] - 0s 3ms/step - loss: 1886.1436 - val_loss: 1501.8604\n",
      "Epoch 50/500\n",
      "24/24 [==============================] - 0s 4ms/step - loss: 1842.2958 - val_loss: 1478.5160\n",
      "Epoch 51/500\n",
      "24/24 [==============================] - 0s 5ms/step - loss: 1799.2023 - val_loss: 1455.6885\n",
      "Epoch 52/500\n",
      "24/24 [==============================] - 0s 4ms/step - loss: 1756.8552 - val_loss: 1433.3721\n",
      "Epoch 53/500\n",
      "24/24 [==============================] - 0s 5ms/step - loss: 1715.2461 - val_loss: 1411.5601\n",
      "Epoch 54/500\n",
      "24/24 [==============================] - 0s 5ms/step - loss: 1674.3665 - val_loss: 1390.2461\n",
      "Epoch 55/500\n",
      "24/24 [==============================] - 0s 4ms/step - loss: 1634.2080 - val_loss: 1369.4243\n",
      "Epoch 56/500\n",
      "24/24 [==============================] - 0s 5ms/step - loss: 1594.7628 - val_loss: 1349.0885\n",
      "Epoch 57/500\n",
      "24/24 [==============================] - 0s 5ms/step - loss: 1556.0240 - val_loss: 1329.2328\n",
      "Epoch 58/500\n",
      "24/24 [==============================] - 0s 5ms/step - loss: 1517.9825 - val_loss: 1309.8511\n",
      "Epoch 59/500\n",
      "24/24 [==============================] - 0s 4ms/step - loss: 1480.6302 - val_loss: 1290.9369\n",
      "Epoch 60/500\n",
      "24/24 [==============================] - 0s 4ms/step - loss: 1443.9598 - val_loss: 1272.4846\n",
      "Epoch 61/500\n",
      "24/24 [==============================] - 0s 7ms/step - loss: 1407.9639 - val_loss: 1254.4883\n",
      "Epoch 62/500\n",
      "24/24 [==============================] - 0s 4ms/step - loss: 1372.6338 - val_loss: 1236.9417\n",
      "Epoch 63/500\n",
      "24/24 [==============================] - 0s 4ms/step - loss: 1337.9625 - val_loss: 1219.8390\n",
      "Epoch 64/500\n",
      "24/24 [==============================] - 0s 5ms/step - loss: 1303.9424 - val_loss: 1203.1747\n",
      "Epoch 65/500\n",
      "24/24 [==============================] - 0s 5ms/step - loss: 1270.5654 - val_loss: 1186.9427\n",
      "Epoch 66/500\n",
      "24/24 [==============================] - 0s 4ms/step - loss: 1237.8246 - val_loss: 1171.1370\n",
      "Epoch 67/500\n",
      "24/24 [==============================] - 0s 5ms/step - loss: 1205.7125 - val_loss: 1155.7524\n",
      "Epoch 68/500\n",
      "24/24 [==============================] - 0s 4ms/step - loss: 1174.2211 - val_loss: 1140.7828\n",
      "Epoch 69/500\n",
      "24/24 [==============================] - 0s 5ms/step - loss: 1143.3434 - val_loss: 1126.2227\n",
      "Epoch 70/500\n",
      "24/24 [==============================] - 0s 4ms/step - loss: 1113.0723 - val_loss: 1112.0662\n",
      "Epoch 71/500\n",
      "24/24 [==============================] - 0s 5ms/step - loss: 1083.4001 - val_loss: 1098.3079\n",
      "Epoch 72/500\n",
      "24/24 [==============================] - 0s 5ms/step - loss: 1054.3197 - val_loss: 1084.9417\n",
      "Epoch 73/500\n",
      "24/24 [==============================] - 0s 4ms/step - loss: 1025.8237 - val_loss: 1071.9622\n",
      "Epoch 74/500\n",
      "24/24 [==============================] - 0s 5ms/step - loss: 997.9050 - val_loss: 1059.3641\n",
      "Epoch 75/500\n",
      "24/24 [==============================] - 0s 5ms/step - loss: 970.5569 - val_loss: 1047.1415\n",
      "Epoch 76/500\n",
      "24/24 [==============================] - 0s 5ms/step - loss: 943.7716 - val_loss: 1035.2892\n",
      "Epoch 77/500\n",
      "24/24 [==============================] - 0s 4ms/step - loss: 917.5428 - val_loss: 1023.8013\n",
      "Epoch 78/500\n",
      "24/24 [==============================] - 0s 5ms/step - loss: 891.8627 - val_loss: 1012.6727\n",
      "Epoch 79/500\n",
      "24/24 [==============================] - 0s 5ms/step - loss: 866.7247 - val_loss: 1001.8975\n",
      "Epoch 80/500\n",
      "24/24 [==============================] - 0s 5ms/step - loss: 842.1217 - val_loss: 991.4709\n",
      "Epoch 81/500\n",
      "24/24 [==============================] - 0s 5ms/step - loss: 818.0469 - val_loss: 981.3867\n",
      "Epoch 82/500\n",
      "24/24 [==============================] - 0s 4ms/step - loss: 794.4933 - val_loss: 971.6400\n",
      "Epoch 83/500\n",
      "24/24 [==============================] - 0s 7ms/step - loss: 771.4541 - val_loss: 962.2252\n",
      "Epoch 84/500\n",
      "24/24 [==============================] - 0s 5ms/step - loss: 748.9224 - val_loss: 953.1370\n",
      "Epoch 85/500\n",
      "24/24 [==============================] - 0s 4ms/step - loss: 726.8914 - val_loss: 944.3702\n",
      "Epoch 86/500\n",
      "24/24 [==============================] - 0s 4ms/step - loss: 705.3544 - val_loss: 935.9192\n",
      "Epoch 87/500\n",
      "24/24 [==============================] - 0s 4ms/step - loss: 684.3046 - val_loss: 927.7789\n",
      "Epoch 88/500\n",
      "24/24 [==============================] - 0s 5ms/step - loss: 663.7353 - val_loss: 919.9441\n",
      "Epoch 89/500\n",
      "24/24 [==============================] - 0s 4ms/step - loss: 643.6398 - val_loss: 912.4092\n",
      "Epoch 90/500\n",
      "24/24 [==============================] - 0s 5ms/step - loss: 624.0115 - val_loss: 905.1689\n",
      "Epoch 91/500\n",
      "24/24 [==============================] - 0s 5ms/step - loss: 604.8435 - val_loss: 898.2184\n",
      "Epoch 92/500\n",
      "24/24 [==============================] - 0s 4ms/step - loss: 586.1295 - val_loss: 891.5521\n",
      "Epoch 93/500\n",
      "24/24 [==============================] - 0s 4ms/step - loss: 567.8630 - val_loss: 885.1652\n",
      "Epoch 94/500\n",
      "24/24 [==============================] - 0s 5ms/step - loss: 550.0370 - val_loss: 879.0520\n",
      "Epoch 95/500\n",
      "24/24 [==============================] - 0s 5ms/step - loss: 532.6454 - val_loss: 873.2076\n",
      "Epoch 96/500\n",
      "24/24 [==============================] - 0s 5ms/step - loss: 515.6816 - val_loss: 867.6270\n",
      "Epoch 97/500\n",
      "24/24 [==============================] - 0s 5ms/step - loss: 499.1389 - val_loss: 862.3047\n",
      "Epoch 98/500\n",
      "24/24 [==============================] - 0s 5ms/step - loss: 483.0109 - val_loss: 857.2358\n",
      "Epoch 99/500\n",
      "24/24 [==============================] - 0s 4ms/step - loss: 467.2915 - val_loss: 852.4154\n",
      "Epoch 100/500\n",
      "24/24 [==============================] - 0s 5ms/step - loss: 451.9743 - val_loss: 847.8380\n",
      "Epoch 101/500\n",
      "24/24 [==============================] - 0s 5ms/step - loss: 437.0524 - val_loss: 843.4988\n",
      "Epoch 102/500\n",
      "24/24 [==============================] - 0s 4ms/step - loss: 422.5198 - val_loss: 839.3926\n",
      "Epoch 103/500\n",
      "24/24 [==============================] - 0s 4ms/step - loss: 408.3703 - val_loss: 835.5146\n",
      "Epoch 104/500\n",
      "24/24 [==============================] - 0s 4ms/step - loss: 394.5974 - val_loss: 831.8597\n",
      "Epoch 105/500\n",
      "24/24 [==============================] - 0s 7ms/step - loss: 381.1951 - val_loss: 828.4230\n",
      "Epoch 106/500\n",
      "24/24 [==============================] - 0s 4ms/step - loss: 368.1570 - val_loss: 825.1991\n",
      "Epoch 107/500\n",
      "24/24 [==============================] - 0s 4ms/step - loss: 355.4767 - val_loss: 822.1837\n",
      "Epoch 108/500\n",
      "24/24 [==============================] - 0s 4ms/step - loss: 343.1483 - val_loss: 819.3713\n",
      "Epoch 109/500\n",
      "24/24 [==============================] - 0s 4ms/step - loss: 331.1656 - val_loss: 816.7573\n",
      "Epoch 110/500\n",
      "24/24 [==============================] - 0s 4ms/step - loss: 319.5222 - val_loss: 814.3369\n",
      "Epoch 111/500\n",
      "24/24 [==============================] - 0s 4ms/step - loss: 308.2123 - val_loss: 812.1050\n",
      "Epoch 112/500\n",
      "24/24 [==============================] - 0s 4ms/step - loss: 297.2297 - val_loss: 810.0569\n",
      "Epoch 113/500\n",
      "24/24 [==============================] - 0s 4ms/step - loss: 286.5684 - val_loss: 808.1878\n",
      "Epoch 114/500\n",
      "24/24 [==============================] - 0s 4ms/step - loss: 276.2224 - val_loss: 806.4929\n",
      "Epoch 115/500\n",
      "24/24 [==============================] - 0s 4ms/step - loss: 266.1858 - val_loss: 804.9673\n",
      "Epoch 116/500\n",
      "24/24 [==============================] - 0s 4ms/step - loss: 256.4525 - val_loss: 803.6066\n",
      "Epoch 117/500\n",
      "24/24 [==============================] - 0s 4ms/step - loss: 247.0167 - val_loss: 802.4057\n",
      "Epoch 118/500\n",
      "24/24 [==============================] - 0s 4ms/step - loss: 237.8723 - val_loss: 801.3602\n",
      "Epoch 119/500\n",
      "24/24 [==============================] - 0s 5ms/step - loss: 229.0136 - val_loss: 800.4653\n",
      "Epoch 120/500\n",
      "24/24 [==============================] - 0s 4ms/step - loss: 220.4350 - val_loss: 799.7166\n",
      "Epoch 121/500\n",
      "24/24 [==============================] - 0s 4ms/step - loss: 212.1303 - val_loss: 799.1092\n",
      "Epoch 122/500\n",
      "24/24 [==============================] - 0s 4ms/step - loss: 204.0939 - val_loss: 798.6387\n",
      "Epoch 123/500\n",
      "24/24 [==============================] - 0s 4ms/step - loss: 196.3203 - val_loss: 798.3007\n",
      "Epoch 124/500\n",
      "24/24 [==============================] - 0s 4ms/step - loss: 188.8037 - val_loss: 798.0905\n",
      "Epoch 125/500\n",
      "24/24 [==============================] - 0s 4ms/step - loss: 181.5386 - val_loss: 798.0038\n",
      "Epoch 126/500\n",
      "24/24 [==============================] - 0s 4ms/step - loss: 174.5192 - val_loss: 798.0361\n",
      "Epoch 127/500\n",
      "24/24 [==============================] - 0s 4ms/step - loss: 167.7399 - val_loss: 798.1830\n",
      "Epoch 128/500\n",
      "24/24 [==============================] - 0s 3ms/step - loss: 161.1951 - val_loss: 798.4404\n",
      "Epoch 129/500\n",
      "24/24 [==============================] - 0s 7ms/step - loss: 154.8794 - val_loss: 798.8038\n",
      "Epoch 130/500\n",
      "24/24 [==============================] - 0s 3ms/step - loss: 148.7877 - val_loss: 799.2689\n",
      "Epoch 131/500\n",
      "24/24 [==============================] - 0s 4ms/step - loss: 142.9144 - val_loss: 799.8316\n",
      "Epoch 132/500\n",
      "24/24 [==============================] - 0s 5ms/step - loss: 137.2542 - val_loss: 800.4876\n",
      "Epoch 133/500\n",
      "24/24 [==============================] - 0s 4ms/step - loss: 131.8018 - val_loss: 801.2330\n",
      "Epoch 134/500\n",
      "24/24 [==============================] - 0s 3ms/step - loss: 126.5518 - val_loss: 802.0635\n",
      "Epoch 135/500\n",
      "24/24 [==============================] - 0s 3ms/step - loss: 121.4993 - val_loss: 802.9753\n",
      "Epoch 136/500\n",
      "24/24 [==============================] - 0s 3ms/step - loss: 116.6391 - val_loss: 803.9643\n",
      "Epoch 137/500\n",
      "24/24 [==============================] - 0s 4ms/step - loss: 111.9660 - val_loss: 805.0265\n",
      "Epoch 138/500\n",
      "24/24 [==============================] - 0s 4ms/step - loss: 107.4749 - val_loss: 806.1584\n",
      "Epoch 139/500\n",
      "24/24 [==============================] - 0s 4ms/step - loss: 103.1609 - val_loss: 807.3558\n",
      "Epoch 140/500\n",
      "24/24 [==============================] - 0s 4ms/step - loss: 99.0191 - val_loss: 808.6150\n",
      "Epoch 141/500\n",
      "24/24 [==============================] - 0s 4ms/step - loss: 95.0448 - val_loss: 809.9324\n",
      "Epoch 142/500\n",
      "24/24 [==============================] - 0s 3ms/step - loss: 91.2331 - val_loss: 811.3044\n",
      "Epoch 143/500\n",
      "24/24 [==============================] - 0s 3ms/step - loss: 87.5791 - val_loss: 812.7275\n",
      "Epoch 144/500\n",
      "24/24 [==============================] - 0s 3ms/step - loss: 84.0783 - val_loss: 814.1979\n",
      "Epoch 145/500\n",
      "24/24 [==============================] - 0s 3ms/step - loss: 80.7261 - val_loss: 815.7123\n",
      "Epoch 146/500\n",
      "24/24 [==============================] - 0s 4ms/step - loss: 77.5181 - val_loss: 817.2675\n",
      "Epoch 147/500\n",
      "24/24 [==============================] - 0s 3ms/step - loss: 74.4494 - val_loss: 818.8599\n",
      "Epoch 148/500\n",
      "24/24 [==============================] - 0s 7ms/step - loss: 71.5159 - val_loss: 820.4863\n",
      "Epoch 149/500\n",
      "24/24 [==============================] - 0s 4ms/step - loss: 68.7131 - val_loss: 822.1437\n",
      "Epoch 150/500\n",
      "24/24 [==============================] - 0s 5ms/step - loss: 66.0368 - val_loss: 823.8290\n",
      "Epoch 151/500\n",
      "24/24 [==============================] - 0s 6ms/step - loss: 63.4826 - val_loss: 825.5391\n",
      "Epoch 152/500\n",
      "24/24 [==============================] - 0s 4ms/step - loss: 61.0467 - val_loss: 827.2708\n",
      "Epoch 153/500\n",
      "24/24 [==============================] - 0s 4ms/step - loss: 58.7248 - val_loss: 829.0216\n",
      "Epoch 154/500\n",
      "24/24 [==============================] - 0s 4ms/step - loss: 56.5132 - val_loss: 830.7883\n",
      "Epoch 155/500\n",
      "24/24 [==============================] - 0s 4ms/step - loss: 54.4077 - val_loss: 832.5685\n",
      "Epoch 156/500\n",
      "24/24 [==============================] - 0s 4ms/step - loss: 52.4044 - val_loss: 834.3592\n",
      "Epoch 157/500\n",
      "24/24 [==============================] - 0s 5ms/step - loss: 50.4999 - val_loss: 836.1582\n",
      "Epoch 158/500\n",
      "24/24 [==============================] - 0s 4ms/step - loss: 48.6903 - val_loss: 837.9629\n",
      "Epoch 159/500\n",
      "24/24 [==============================] - 0s 3ms/step - loss: 46.9719 - val_loss: 839.7708\n",
      "Epoch 160/500\n",
      "24/24 [==============================] - 0s 4ms/step - loss: 45.3412 - val_loss: 841.5795\n",
      "Epoch 161/500\n",
      "24/24 [==============================] - 0s 5ms/step - loss: 43.7949 - val_loss: 843.3871\n",
      "Epoch 162/500\n",
      "24/24 [==============================] - 0s 4ms/step - loss: 42.3295 - val_loss: 845.1910\n",
      "Epoch 163/500\n",
      "24/24 [==============================] - 0s 4ms/step - loss: 40.9418 - val_loss: 846.9893\n",
      "Epoch 164/500\n",
      "24/24 [==============================] - 0s 4ms/step - loss: 39.6286 - val_loss: 848.7799\n",
      "Epoch 165/500\n",
      "24/24 [==============================] - 0s 3ms/step - loss: 38.3867 - val_loss: 850.5609\n",
      "Epoch 166/500\n",
      "24/24 [==============================] - 0s 3ms/step - loss: 37.2132 - val_loss: 852.3306\n",
      "Epoch 167/500\n",
      "24/24 [==============================] - 0s 4ms/step - loss: 36.1051 - val_loss: 854.0869\n",
      "Epoch 168/500\n",
      "24/24 [==============================] - 0s 5ms/step - loss: 35.0594 - val_loss: 855.8286\n",
      "Epoch 169/500\n",
      "24/24 [==============================] - 0s 5ms/step - loss: 34.0734 - val_loss: 857.5533\n",
      "Epoch 170/500\n",
      "24/24 [==============================] - 0s 3ms/step - loss: 33.1445 - val_loss: 859.2609\n",
      "Epoch 171/500\n",
      "24/24 [==============================] - 0s 4ms/step - loss: 32.2697 - val_loss: 860.9485\n",
      "Epoch 172/500\n",
      "24/24 [==============================] - 0s 3ms/step - loss: 31.4469 - val_loss: 862.6155\n",
      "Epoch 173/500\n",
      "24/24 [==============================] - 0s 4ms/step - loss: 30.6732 - val_loss: 864.2607\n",
      "Epoch 174/500\n",
      "24/24 [==============================] - 0s 4ms/step - loss: 29.9466 - val_loss: 865.8826\n",
      "Epoch 175/500\n",
      "24/24 [==============================] - 0s 3ms/step - loss: 29.2645 - val_loss: 867.4801\n",
      "Epoch 176/500\n",
      "24/24 [==============================] - 0s 3ms/step - loss: 28.6249 - val_loss: 869.0521\n",
      "Epoch 177/500\n",
      "24/24 [==============================] - 0s 3ms/step - loss: 28.0255 - val_loss: 870.5982\n",
      "Epoch 178/500\n",
      "24/24 [==============================] - 0s 3ms/step - loss: 27.4641 - val_loss: 872.1172\n",
      "Epoch 179/500\n",
      "24/24 [==============================] - 0s 4ms/step - loss: 26.9389 - val_loss: 873.6082\n",
      "Epoch 180/500\n",
      "24/24 [==============================] - 0s 4ms/step - loss: 26.4479 - val_loss: 875.0706\n",
      "Epoch 181/500\n",
      "24/24 [==============================] - 0s 4ms/step - loss: 25.9893 - val_loss: 876.5035\n",
      "Epoch 182/500\n",
      "24/24 [==============================] - 0s 4ms/step - loss: 25.5613 - val_loss: 877.9069\n",
      "Epoch 183/500\n",
      "24/24 [==============================] - 0s 4ms/step - loss: 25.1621 - val_loss: 879.2797\n",
      "Epoch 184/500\n",
      "24/24 [==============================] - 0s 3ms/step - loss: 24.7901 - val_loss: 880.6218\n",
      "Epoch 185/500\n",
      "24/24 [==============================] - 0s 3ms/step - loss: 24.4438 - val_loss: 881.9328\n",
      "Epoch 186/500\n",
      "24/24 [==============================] - 0s 4ms/step - loss: 24.1217 - val_loss: 883.2123\n",
      "Epoch 187/500\n",
      "24/24 [==============================] - 0s 4ms/step - loss: 23.8223 - val_loss: 884.4601\n",
      "Epoch 188/500\n",
      "24/24 [==============================] - 0s 3ms/step - loss: 23.5443 - val_loss: 885.6760\n",
      "Epoch 189/500\n",
      "24/24 [==============================] - 0s 3ms/step - loss: 23.2863 - val_loss: 886.8599\n",
      "Epoch 190/500\n",
      "24/24 [==============================] - 0s 7ms/step - loss: 23.0472 - val_loss: 888.0118\n",
      "Epoch 191/500\n",
      "24/24 [==============================] - 0s 4ms/step - loss: 22.8257 - val_loss: 889.1319\n",
      "Epoch 192/500\n",
      "24/24 [==============================] - 0s 4ms/step - loss: 22.6206 - val_loss: 890.2195\n",
      "Epoch 193/500\n",
      "24/24 [==============================] - 0s 4ms/step - loss: 22.4311 - val_loss: 891.2755\n",
      "Epoch 194/500\n",
      "24/24 [==============================] - 0s 4ms/step - loss: 22.2559 - val_loss: 892.2993\n",
      "Epoch 195/500\n",
      "24/24 [==============================] - 0s 4ms/step - loss: 22.0943 - val_loss: 893.2917\n",
      "Epoch 196/500\n",
      "24/24 [==============================] - 0s 5ms/step - loss: 21.9452 - val_loss: 894.2526\n",
      "Epoch 197/500\n",
      "24/24 [==============================] - 0s 6ms/step - loss: 21.8079 - val_loss: 895.1826\n",
      "Epoch 198/500\n",
      "24/24 [==============================] - 0s 10ms/step - loss: 21.6814 - val_loss: 896.0817\n",
      "Epoch 199/500\n",
      "24/24 [==============================] - 0s 6ms/step - loss: 21.5651 - val_loss: 896.9505\n",
      "Epoch 200/500\n",
      "24/24 [==============================] - 0s 5ms/step - loss: 21.4581 - val_loss: 897.7895\n",
      "Epoch 201/500\n",
      "24/24 [==============================] - 0s 4ms/step - loss: 21.3598 - val_loss: 898.5986\n",
      "Epoch 202/500\n",
      "24/24 [==============================] - 0s 5ms/step - loss: 21.2697 - val_loss: 899.3785\n",
      "Epoch 203/500\n",
      "24/24 [==============================] - 0s 5ms/step - loss: 21.1871 - val_loss: 900.1298\n",
      "Epoch 204/500\n",
      "24/24 [==============================] - 0s 5ms/step - loss: 21.1114 - val_loss: 900.8529\n",
      "Epoch 205/500\n",
      "24/24 [==============================] - 0s 5ms/step - loss: 21.0421 - val_loss: 901.5486\n",
      "Epoch 206/500\n",
      "24/24 [==============================] - 0s 4ms/step - loss: 20.9787 - val_loss: 902.2173\n",
      "Epoch 207/500\n",
      "24/24 [==============================] - 0s 7ms/step - loss: 20.9208 - val_loss: 902.8589\n",
      "Epoch 208/500\n",
      "24/24 [==============================] - 0s 4ms/step - loss: 20.8679 - val_loss: 903.4749\n",
      "Epoch 209/500\n",
      "24/24 [==============================] - 0s 6ms/step - loss: 20.8196 - val_loss: 904.0651\n",
      "Epoch 210/500\n",
      "24/24 [==============================] - 0s 4ms/step - loss: 20.7757 - val_loss: 904.6307\n",
      "Epoch 211/500\n",
      "24/24 [==============================] - 0s 5ms/step - loss: 20.7356 - val_loss: 905.1721\n",
      "Epoch 212/500\n",
      "24/24 [==============================] - 0s 4ms/step - loss: 20.6991 - val_loss: 905.6899\n",
      "Epoch 213/500\n",
      "24/24 [==============================] - 0s 5ms/step - loss: 20.6660 - val_loss: 906.1854\n",
      "Epoch 214/500\n",
      "24/24 [==============================] - 0s 5ms/step - loss: 20.6358 - val_loss: 906.6586\n",
      "Epoch 215/500\n",
      "24/24 [==============================] - 0s 4ms/step - loss: 20.6084 - val_loss: 907.1100\n",
      "Epoch 216/500\n",
      "24/24 [==============================] - 0s 4ms/step - loss: 20.5835 - val_loss: 907.5404\n",
      "Epoch 217/500\n",
      "24/24 [==============================] - 0s 4ms/step - loss: 20.5610 - val_loss: 907.9509\n",
      "Epoch 218/500\n",
      "24/24 [==============================] - 0s 4ms/step - loss: 20.5406 - val_loss: 908.3416\n",
      "Epoch 219/500\n",
      "24/24 [==============================] - 0s 4ms/step - loss: 20.5221 - val_loss: 908.7131\n",
      "Epoch 220/500\n",
      "24/24 [==============================] - 0s 4ms/step - loss: 20.5053 - val_loss: 909.0660\n",
      "Epoch 221/500\n",
      "24/24 [==============================] - 0s 4ms/step - loss: 20.4903 - val_loss: 909.4020\n",
      "Epoch 222/500\n",
      "24/24 [==============================] - 0s 4ms/step - loss: 20.4765 - val_loss: 909.7203\n",
      "Epoch 223/500\n",
      "24/24 [==============================] - 0s 4ms/step - loss: 20.4643 - val_loss: 910.0227\n",
      "Epoch 224/500\n",
      "24/24 [==============================] - 0s 7ms/step - loss: 20.4530 - val_loss: 910.3087\n",
      "Epoch 225/500\n",
      "24/24 [==============================] - 0s 4ms/step - loss: 20.4430 - val_loss: 910.5798\n",
      "Epoch 226/500\n",
      "24/24 [==============================] - 0s 4ms/step - loss: 20.4340 - val_loss: 910.8362\n",
      "Epoch 227/500\n",
      "24/24 [==============================] - 0s 4ms/step - loss: 20.4260 - val_loss: 911.0788\n",
      "Epoch 228/500\n",
      "24/24 [==============================] - 0s 4ms/step - loss: 20.4186 - val_loss: 911.3080\n",
      "Epoch 229/500\n",
      "24/24 [==============================] - 0s 4ms/step - loss: 20.4120 - val_loss: 911.5239\n",
      "Epoch 230/500\n",
      "24/24 [==============================] - 0s 4ms/step - loss: 20.4062 - val_loss: 911.7279\n",
      "Epoch 231/500\n",
      "24/24 [==============================] - 0s 4ms/step - loss: 20.4010 - val_loss: 911.9200\n",
      "Epoch 232/500\n",
      "24/24 [==============================] - 0s 3ms/step - loss: 20.3963 - val_loss: 912.1008\n",
      "Epoch 233/500\n",
      "24/24 [==============================] - 0s 4ms/step - loss: 20.3921 - val_loss: 912.2709\n",
      "Epoch 234/500\n",
      "24/24 [==============================] - 0s 4ms/step - loss: 20.3884 - val_loss: 912.4310\n",
      "Epoch 235/500\n",
      "24/24 [==============================] - 0s 3ms/step - loss: 20.3850 - val_loss: 912.5811\n",
      "Epoch 236/500\n",
      "24/24 [==============================] - 0s 3ms/step - loss: 20.3821 - val_loss: 912.7221\n",
      "Epoch 237/500\n",
      "24/24 [==============================] - 0s 4ms/step - loss: 20.3795 - val_loss: 912.8544\n",
      "Epoch 238/500\n",
      "24/24 [==============================] - 0s 4ms/step - loss: 20.3773 - val_loss: 912.9782\n",
      "Epoch 239/500\n",
      "24/24 [==============================] - 0s 4ms/step - loss: 20.3753 - val_loss: 913.0941\n",
      "Epoch 240/500\n",
      "24/24 [==============================] - 0s 3ms/step - loss: 20.3736 - val_loss: 913.2022\n",
      "Epoch 241/500\n",
      "24/24 [==============================] - 0s 4ms/step - loss: 20.3721 - val_loss: 913.3031\n",
      "Epoch 242/500\n",
      "24/24 [==============================] - 0s 7ms/step - loss: 20.3708 - val_loss: 913.3975\n",
      "Epoch 243/500\n",
      "24/24 [==============================] - 0s 4ms/step - loss: 20.3697 - val_loss: 913.4857\n",
      "Epoch 244/500\n",
      "24/24 [==============================] - 0s 4ms/step - loss: 20.3688 - val_loss: 913.5676\n",
      "Epoch 245/500\n",
      "24/24 [==============================] - 0s 4ms/step - loss: 20.3680 - val_loss: 913.6436\n",
      "Epoch 246/500\n",
      "24/24 [==============================] - 0s 4ms/step - loss: 20.3675 - val_loss: 913.7144\n",
      "Epoch 247/500\n",
      "24/24 [==============================] - 0s 4ms/step - loss: 20.3670 - val_loss: 913.7800\n",
      "Epoch 248/500\n",
      "24/24 [==============================] - 0s 3ms/step - loss: 20.3667 - val_loss: 913.8409\n",
      "Epoch 249/500\n",
      "24/24 [==============================] - 0s 4ms/step - loss: 20.3665 - val_loss: 913.8973\n",
      "Epoch 250/500\n",
      "24/24 [==============================] - 0s 3ms/step - loss: 20.3663 - val_loss: 913.9496\n",
      "Epoch 251/500\n",
      "24/24 [==============================] - 0s 4ms/step - loss: 20.3663 - val_loss: 913.9979\n",
      "Epoch 252/500\n",
      "24/24 [==============================] - 0s 4ms/step - loss: 20.3663 - val_loss: 914.0424\n",
      "Epoch 253/500\n",
      "24/24 [==============================] - 0s 4ms/step - loss: 20.3664 - val_loss: 914.0835\n",
      "Epoch 254/500\n",
      "24/24 [==============================] - 0s 4ms/step - loss: 20.3667 - val_loss: 914.1212\n",
      "Epoch 255/500\n",
      "24/24 [==============================] - 0s 4ms/step - loss: 20.3669 - val_loss: 914.1560\n",
      "Epoch 256/500\n",
      "24/24 [==============================] - 0s 4ms/step - loss: 20.3673 - val_loss: 914.1882\n",
      "Epoch 257/500\n",
      "24/24 [==============================] - 0s 4ms/step - loss: 20.3676 - val_loss: 914.2174\n",
      "Epoch 258/500\n",
      "24/24 [==============================] - 0s 3ms/step - loss: 20.3681 - val_loss: 914.2443\n",
      "Epoch 259/500\n",
      "24/24 [==============================] - 0s 4ms/step - loss: 20.3685 - val_loss: 914.2689\n",
      "Epoch 260/500\n",
      "24/24 [==============================] - 0s 4ms/step - loss: 20.3691 - val_loss: 914.2913\n",
      "Epoch 261/500\n",
      "24/24 [==============================] - 0s 7ms/step - loss: 20.3696 - val_loss: 914.3113\n",
      "Epoch 262/500\n",
      "24/24 [==============================] - 0s 4ms/step - loss: 20.3703 - val_loss: 914.3300\n",
      "Epoch 263/500\n",
      "24/24 [==============================] - 0s 4ms/step - loss: 20.3709 - val_loss: 914.3469\n",
      "Epoch 264/500\n",
      "24/24 [==============================] - 0s 4ms/step - loss: 20.3715 - val_loss: 914.3620\n",
      "Epoch 265/500\n",
      "24/24 [==============================] - 0s 4ms/step - loss: 20.3722 - val_loss: 914.3757\n",
      "Epoch 266/500\n",
      "24/24 [==============================] - 0s 4ms/step - loss: 20.3729 - val_loss: 914.3880\n",
      "Epoch 267/500\n",
      "24/24 [==============================] - 0s 4ms/step - loss: 20.3736 - val_loss: 914.3990\n",
      "Epoch 268/500\n",
      "24/24 [==============================] - 0s 4ms/step - loss: 20.3744 - val_loss: 914.4091\n",
      "Epoch 269/500\n",
      "24/24 [==============================] - 0s 4ms/step - loss: 20.3751 - val_loss: 914.4176\n",
      "Epoch 270/500\n",
      "24/24 [==============================] - 0s 4ms/step - loss: 20.3759 - val_loss: 914.4257\n",
      "Epoch 271/500\n",
      "24/24 [==============================] - 0s 4ms/step - loss: 20.3767 - val_loss: 914.4327\n",
      "Epoch 272/500\n",
      "24/24 [==============================] - 0s 4ms/step - loss: 20.3775 - val_loss: 914.4388\n",
      "Epoch 273/500\n",
      "24/24 [==============================] - 0s 4ms/step - loss: 20.3783 - val_loss: 914.4439\n",
      "Epoch 274/500\n",
      "24/24 [==============================] - 0s 3ms/step - loss: 20.3792 - val_loss: 914.4484\n",
      "Epoch 275/500\n",
      "24/24 [==============================] - 0s 4ms/step - loss: 20.3800 - val_loss: 914.4521\n",
      "Epoch 276/500\n",
      "24/24 [==============================] - 0s 4ms/step - loss: 20.3809 - val_loss: 914.4555\n",
      "Epoch 277/500\n",
      "24/24 [==============================] - 0s 4ms/step - loss: 20.3817 - val_loss: 914.4583\n",
      "Epoch 278/500\n",
      "24/24 [==============================] - 0s 4ms/step - loss: 20.3826 - val_loss: 914.4605\n",
      "Epoch 279/500\n",
      "24/24 [==============================] - 0s 7ms/step - loss: 20.3834 - val_loss: 914.4628\n",
      "Epoch 280/500\n",
      "24/24 [==============================] - 0s 4ms/step - loss: 20.3843 - val_loss: 914.4640\n",
      "Epoch 281/500\n",
      "24/24 [==============================] - 0s 3ms/step - loss: 20.3852 - val_loss: 914.4653\n",
      "Epoch 282/500\n",
      "24/24 [==============================] - 0s 4ms/step - loss: 20.3860 - val_loss: 914.4657\n",
      "Epoch 283/500\n",
      "24/24 [==============================] - 0s 4ms/step - loss: 20.3869 - val_loss: 914.4662\n",
      "Epoch 284/500\n",
      "24/24 [==============================] - 0s 4ms/step - loss: 20.3878 - val_loss: 914.4664\n",
      "Epoch 285/500\n",
      "24/24 [==============================] - 0s 4ms/step - loss: 20.3886 - val_loss: 914.4661\n",
      "Epoch 286/500\n",
      "24/24 [==============================] - 0s 4ms/step - loss: 20.3896 - val_loss: 914.4656\n",
      "Epoch 287/500\n",
      "24/24 [==============================] - 0s 4ms/step - loss: 20.3904 - val_loss: 914.4653\n",
      "Epoch 288/500\n",
      "24/24 [==============================] - 0s 4ms/step - loss: 20.3913 - val_loss: 914.4647\n",
      "Epoch 289/500\n",
      "24/24 [==============================] - 0s 4ms/step - loss: 20.3922 - val_loss: 914.4637\n",
      "Epoch 290/500\n",
      "24/24 [==============================] - 0s 3ms/step - loss: 20.3931 - val_loss: 914.4630\n",
      "Epoch 291/500\n",
      "24/24 [==============================] - 0s 4ms/step - loss: 20.3938 - val_loss: 914.4617\n",
      "Epoch 292/500\n",
      "24/24 [==============================] - 0s 4ms/step - loss: 20.3947 - val_loss: 914.4605\n",
      "Epoch 293/500\n",
      "24/24 [==============================] - 0s 4ms/step - loss: 20.3955 - val_loss: 914.4590\n",
      "Epoch 294/500\n",
      "24/24 [==============================] - 0s 4ms/step - loss: 20.3964 - val_loss: 914.4576\n",
      "Epoch 295/500\n",
      "24/24 [==============================] - 0s 4ms/step - loss: 20.3972 - val_loss: 914.4556\n",
      "Epoch 296/500\n",
      "24/24 [==============================] - 0s 7ms/step - loss: 20.3981 - val_loss: 914.4539\n",
      "Epoch 297/500\n",
      "24/24 [==============================] - 0s 3ms/step - loss: 20.3989 - val_loss: 914.4520\n",
      "Epoch 298/500\n",
      "24/24 [==============================] - 0s 4ms/step - loss: 20.3998 - val_loss: 914.4503\n",
      "Epoch 299/500\n",
      "24/24 [==============================] - 0s 3ms/step - loss: 20.4005 - val_loss: 914.4482\n",
      "Epoch 300/500\n",
      "24/24 [==============================] - 0s 4ms/step - loss: 20.4014 - val_loss: 914.4463\n",
      "Epoch 301/500\n",
      "24/24 [==============================] - 0s 4ms/step - loss: 20.4022 - val_loss: 914.4444\n",
      "Epoch 302/500\n",
      "24/24 [==============================] - 0s 4ms/step - loss: 20.4030 - val_loss: 914.4426\n",
      "Epoch 303/500\n",
      "24/24 [==============================] - 0s 4ms/step - loss: 20.4038 - val_loss: 914.4406\n",
      "Epoch 304/500\n",
      "24/24 [==============================] - 0s 4ms/step - loss: 20.4045 - val_loss: 914.4387\n",
      "Epoch 305/500\n",
      "24/24 [==============================] - 0s 3ms/step - loss: 20.4053 - val_loss: 914.4368\n",
      "Epoch 306/500\n",
      "24/24 [==============================] - 0s 4ms/step - loss: 20.4061 - val_loss: 914.4348\n",
      "Epoch 307/500\n",
      "24/24 [==============================] - 0s 4ms/step - loss: 20.4068 - val_loss: 914.4324\n",
      "Epoch 308/500\n",
      "24/24 [==============================] - 0s 4ms/step - loss: 20.4076 - val_loss: 914.4302\n",
      "Epoch 309/500\n",
      "24/24 [==============================] - 0s 4ms/step - loss: 20.4083 - val_loss: 914.4281\n",
      "Epoch 310/500\n",
      "24/24 [==============================] - 0s 4ms/step - loss: 20.4091 - val_loss: 914.4262\n",
      "Epoch 311/500\n",
      "24/24 [==============================] - 0s 4ms/step - loss: 20.4098 - val_loss: 914.4243\n",
      "Epoch 312/500\n",
      "24/24 [==============================] - 0s 4ms/step - loss: 20.4105 - val_loss: 914.4223\n",
      "Epoch 313/500\n",
      "24/24 [==============================] - 0s 3ms/step - loss: 20.4112 - val_loss: 914.4202\n",
      "Epoch 314/500\n",
      "24/24 [==============================] - 0s 7ms/step - loss: 20.4120 - val_loss: 914.4184\n",
      "Epoch 315/500\n",
      "24/24 [==============================] - 0s 4ms/step - loss: 20.4127 - val_loss: 914.4165\n",
      "Epoch 316/500\n",
      "24/24 [==============================] - 0s 4ms/step - loss: 20.4133 - val_loss: 914.4146\n",
      "Epoch 317/500\n",
      "24/24 [==============================] - 0s 4ms/step - loss: 20.4140 - val_loss: 914.4125\n",
      "Epoch 318/500\n",
      "24/24 [==============================] - 0s 4ms/step - loss: 20.4147 - val_loss: 914.4107\n",
      "Epoch 319/500\n",
      "24/24 [==============================] - 0s 4ms/step - loss: 20.4153 - val_loss: 914.4086\n",
      "Epoch 320/500\n",
      "24/24 [==============================] - 0s 4ms/step - loss: 20.4160 - val_loss: 914.4065\n",
      "Epoch 321/500\n",
      "24/24 [==============================] - 0s 4ms/step - loss: 20.4166 - val_loss: 914.4045\n",
      "Epoch 322/500\n",
      "24/24 [==============================] - 0s 4ms/step - loss: 20.4173 - val_loss: 914.4028\n",
      "Epoch 323/500\n",
      "24/24 [==============================] - 0s 4ms/step - loss: 20.4179 - val_loss: 914.4012\n",
      "Epoch 324/500\n",
      "24/24 [==============================] - 0s 4ms/step - loss: 20.4185 - val_loss: 914.3997\n",
      "Epoch 325/500\n",
      "24/24 [==============================] - 0s 4ms/step - loss: 20.4191 - val_loss: 914.3979\n",
      "Epoch 326/500\n",
      "24/24 [==============================] - 0s 4ms/step - loss: 20.4197 - val_loss: 914.3959\n",
      "Epoch 327/500\n",
      "24/24 [==============================] - 0s 4ms/step - loss: 20.4203 - val_loss: 914.3942\n",
      "Epoch 328/500\n",
      "24/24 [==============================] - 0s 4ms/step - loss: 20.4209 - val_loss: 914.3925\n",
      "Epoch 329/500\n",
      "24/24 [==============================] - 0s 5ms/step - loss: 20.4215 - val_loss: 914.3904\n",
      "Epoch 330/500\n",
      "24/24 [==============================] - 0s 7ms/step - loss: 20.4221 - val_loss: 914.3888\n",
      "Epoch 331/500\n",
      "24/24 [==============================] - 0s 4ms/step - loss: 20.4226 - val_loss: 914.3871\n",
      "Epoch 332/500\n",
      "24/24 [==============================] - 0s 4ms/step - loss: 20.4231 - val_loss: 914.3852\n",
      "Epoch 333/500\n",
      "24/24 [==============================] - 0s 4ms/step - loss: 20.4237 - val_loss: 914.3836\n",
      "Epoch 334/500\n",
      "24/24 [==============================] - 0s 4ms/step - loss: 20.4242 - val_loss: 914.3820\n",
      "Epoch 335/500\n",
      "24/24 [==============================] - 0s 5ms/step - loss: 20.4248 - val_loss: 914.3807\n",
      "Epoch 336/500\n",
      "24/24 [==============================] - 0s 4ms/step - loss: 20.4253 - val_loss: 914.3791\n",
      "Epoch 337/500\n",
      "24/24 [==============================] - 0s 4ms/step - loss: 20.4258 - val_loss: 914.3774\n",
      "Epoch 338/500\n",
      "24/24 [==============================] - 0s 4ms/step - loss: 20.4263 - val_loss: 914.3762\n",
      "Epoch 339/500\n",
      "24/24 [==============================] - 0s 4ms/step - loss: 20.4268 - val_loss: 914.3745\n",
      "Epoch 340/500\n",
      "24/24 [==============================] - 0s 4ms/step - loss: 20.4273 - val_loss: 914.3730\n",
      "Epoch 341/500\n",
      "24/24 [==============================] - 0s 4ms/step - loss: 20.4278 - val_loss: 914.3719\n",
      "Epoch 342/500\n",
      "24/24 [==============================] - 0s 4ms/step - loss: 20.4282 - val_loss: 914.3704\n",
      "Epoch 343/500\n",
      "24/24 [==============================] - 0s 4ms/step - loss: 20.4286 - val_loss: 914.3690\n",
      "Epoch 344/500\n",
      "24/24 [==============================] - 0s 7ms/step - loss: 20.4292 - val_loss: 914.3681\n",
      "Epoch 345/500\n",
      "24/24 [==============================] - 0s 4ms/step - loss: 20.4295 - val_loss: 914.3664\n",
      "Epoch 346/500\n",
      "24/24 [==============================] - 0s 4ms/step - loss: 20.4300 - val_loss: 914.3652\n",
      "Epoch 347/500\n",
      "24/24 [==============================] - 0s 4ms/step - loss: 20.4304 - val_loss: 914.3637\n",
      "Epoch 348/500\n",
      "24/24 [==============================] - 0s 4ms/step - loss: 20.4308 - val_loss: 914.3626\n",
      "Epoch 349/500\n",
      "24/24 [==============================] - 0s 4ms/step - loss: 20.4312 - val_loss: 914.3611\n",
      "Epoch 350/500\n",
      "24/24 [==============================] - 0s 4ms/step - loss: 20.4316 - val_loss: 914.3597\n",
      "Epoch 351/500\n",
      "24/24 [==============================] - 0s 4ms/step - loss: 20.4320 - val_loss: 914.3583\n",
      "Epoch 352/500\n",
      "24/24 [==============================] - 0s 4ms/step - loss: 20.4325 - val_loss: 914.3575\n",
      "Epoch 353/500\n",
      "24/24 [==============================] - 0s 4ms/step - loss: 20.4328 - val_loss: 914.3563\n",
      "Epoch 354/500\n",
      "24/24 [==============================] - 0s 4ms/step - loss: 20.4332 - val_loss: 914.3549\n",
      "Epoch 355/500\n",
      "24/24 [==============================] - 0s 4ms/step - loss: 20.4336 - val_loss: 914.3539\n",
      "Epoch 356/500\n",
      "24/24 [==============================] - 0s 4ms/step - loss: 20.4339 - val_loss: 914.3528\n",
      "Epoch 357/500\n",
      "24/24 [==============================] - 0s 4ms/step - loss: 20.4343 - val_loss: 914.3516\n",
      "Epoch 358/500\n",
      "24/24 [==============================] - 0s 7ms/step - loss: 20.4347 - val_loss: 914.3511\n",
      "Epoch 359/500\n",
      "24/24 [==============================] - 0s 4ms/step - loss: 20.4350 - val_loss: 914.3497\n",
      "Epoch 360/500\n",
      "24/24 [==============================] - 0s 4ms/step - loss: 20.4353 - val_loss: 914.3487\n",
      "Epoch 361/500\n",
      "24/24 [==============================] - 0s 4ms/step - loss: 20.4357 - val_loss: 914.3478\n",
      "Epoch 362/500\n",
      "24/24 [==============================] - 0s 4ms/step - loss: 20.4360 - val_loss: 914.3470\n",
      "Epoch 363/500\n",
      "24/24 [==============================] - 0s 4ms/step - loss: 20.4363 - val_loss: 914.3459\n",
      "Epoch 364/500\n",
      "24/24 [==============================] - 0s 4ms/step - loss: 20.4366 - val_loss: 914.3450\n",
      "Epoch 365/500\n",
      "24/24 [==============================] - 0s 4ms/step - loss: 20.4370 - val_loss: 914.3441\n",
      "Epoch 366/500\n",
      "24/24 [==============================] - 0s 4ms/step - loss: 20.4372 - val_loss: 914.3430\n",
      "Epoch 367/500\n",
      "24/24 [==============================] - 0s 4ms/step - loss: 20.4375 - val_loss: 914.3421\n",
      "Epoch 368/500\n",
      "24/24 [==============================] - 0s 4ms/step - loss: 20.4378 - val_loss: 914.3411\n",
      "Epoch 369/500\n",
      "24/24 [==============================] - 0s 4ms/step - loss: 20.4381 - val_loss: 914.3400\n",
      "Epoch 370/500\n",
      "24/24 [==============================] - 0s 4ms/step - loss: 20.4383 - val_loss: 914.3392\n",
      "Epoch 371/500\n",
      "24/24 [==============================] - 0s 5ms/step - loss: 20.4387 - val_loss: 914.3384\n",
      "Epoch 372/500\n",
      "24/24 [==============================] - 0s 7ms/step - loss: 20.4389 - val_loss: 914.3372\n",
      "Epoch 373/500\n",
      "24/24 [==============================] - 0s 4ms/step - loss: 20.4392 - val_loss: 914.3365\n",
      "Epoch 374/500\n",
      "24/24 [==============================] - 0s 4ms/step - loss: 20.4394 - val_loss: 914.3359\n",
      "Epoch 375/500\n",
      "24/24 [==============================] - 0s 4ms/step - loss: 20.4397 - val_loss: 914.3350\n",
      "Epoch 376/500\n",
      "24/24 [==============================] - 0s 4ms/step - loss: 20.4400 - val_loss: 914.3347\n",
      "Epoch 377/500\n",
      "24/24 [==============================] - 0s 4ms/step - loss: 20.4401 - val_loss: 914.3337\n",
      "Epoch 378/500\n",
      "24/24 [==============================] - 0s 4ms/step - loss: 20.4404 - val_loss: 914.3328\n",
      "Epoch 379/500\n",
      "24/24 [==============================] - 0s 4ms/step - loss: 20.4406 - val_loss: 914.3320\n",
      "Epoch 380/500\n",
      "24/24 [==============================] - 0s 4ms/step - loss: 20.4409 - val_loss: 914.3312\n",
      "Epoch 381/500\n",
      "24/24 [==============================] - 0s 5ms/step - loss: 20.4411 - val_loss: 914.3307\n",
      "Epoch 382/500\n",
      "24/24 [==============================] - 0s 4ms/step - loss: 20.4413 - val_loss: 914.3298\n",
      "Epoch 383/500\n",
      "24/24 [==============================] - 0s 4ms/step - loss: 20.4415 - val_loss: 914.3295\n",
      "Epoch 384/500\n",
      "24/24 [==============================] - 0s 4ms/step - loss: 20.4417 - val_loss: 914.3286\n",
      "Epoch 385/500\n",
      "24/24 [==============================] - 0s 6ms/step - loss: 20.4419 - val_loss: 914.3281\n",
      "Epoch 386/500\n",
      "24/24 [==============================] - 0s 4ms/step - loss: 20.4421 - val_loss: 914.3276\n",
      "Epoch 387/500\n",
      "24/24 [==============================] - 0s 4ms/step - loss: 20.4424 - val_loss: 914.3272\n",
      "Epoch 388/500\n",
      "24/24 [==============================] - 0s 4ms/step - loss: 20.4425 - val_loss: 914.3267\n",
      "Epoch 389/500\n",
      "24/24 [==============================] - 0s 4ms/step - loss: 20.4427 - val_loss: 914.3262\n",
      "Epoch 390/500\n",
      "24/24 [==============================] - 0s 4ms/step - loss: 20.4429 - val_loss: 914.3257\n",
      "Epoch 391/500\n",
      "24/24 [==============================] - 0s 4ms/step - loss: 20.4430 - val_loss: 914.3250\n",
      "Epoch 392/500\n",
      "24/24 [==============================] - 0s 4ms/step - loss: 20.4432 - val_loss: 914.3248\n",
      "Epoch 393/500\n",
      "24/24 [==============================] - 0s 3ms/step - loss: 20.4434 - val_loss: 914.3241\n",
      "Epoch 394/500\n",
      "24/24 [==============================] - 0s 4ms/step - loss: 20.4436 - val_loss: 914.3239\n",
      "Epoch 395/500\n",
      "24/24 [==============================] - 0s 4ms/step - loss: 20.4437 - val_loss: 914.3229\n",
      "Epoch 396/500\n",
      "24/24 [==============================] - 0s 4ms/step - loss: 20.4439 - val_loss: 914.3227\n",
      "Epoch 397/500\n",
      "24/24 [==============================] - 0s 4ms/step - loss: 20.4440 - val_loss: 914.3218\n",
      "Epoch 398/500\n",
      "24/24 [==============================] - 0s 4ms/step - loss: 20.4442 - val_loss: 914.3212\n",
      "Epoch 399/500\n",
      "24/24 [==============================] - 0s 7ms/step - loss: 20.4444 - val_loss: 914.3207\n",
      "Epoch 400/500\n",
      "24/24 [==============================] - 0s 4ms/step - loss: 20.4445 - val_loss: 914.3201\n",
      "Epoch 401/500\n",
      "24/24 [==============================] - 0s 4ms/step - loss: 20.4446 - val_loss: 914.3195\n",
      "Epoch 402/500\n",
      "24/24 [==============================] - 0s 4ms/step - loss: 20.4448 - val_loss: 914.3189\n",
      "Epoch 403/500\n",
      "24/24 [==============================] - 0s 3ms/step - loss: 20.4450 - val_loss: 914.3187\n",
      "Epoch 404/500\n",
      "24/24 [==============================] - 0s 4ms/step - loss: 20.4451 - val_loss: 914.3184\n",
      "Epoch 405/500\n",
      "24/24 [==============================] - 0s 4ms/step - loss: 20.4452 - val_loss: 914.3179\n",
      "Epoch 406/500\n",
      "24/24 [==============================] - 0s 4ms/step - loss: 20.4453 - val_loss: 914.3175\n",
      "Epoch 407/500\n",
      "24/24 [==============================] - 0s 4ms/step - loss: 20.4454 - val_loss: 914.3171\n",
      "Epoch 408/500\n",
      "24/24 [==============================] - 0s 4ms/step - loss: 20.4455 - val_loss: 914.3166\n",
      "Epoch 409/500\n",
      "24/24 [==============================] - 0s 4ms/step - loss: 20.4457 - val_loss: 914.3161\n",
      "Epoch 410/500\n",
      "24/24 [==============================] - 0s 4ms/step - loss: 20.4458 - val_loss: 914.3156\n",
      "Epoch 411/500\n",
      "24/24 [==============================] - 0s 4ms/step - loss: 20.4459 - val_loss: 914.3152\n",
      "Epoch 412/500\n",
      "24/24 [==============================] - 0s 7ms/step - loss: 20.4461 - val_loss: 914.3151\n",
      "Epoch 413/500\n",
      "24/24 [==============================] - 0s 4ms/step - loss: 20.4461 - val_loss: 914.3144\n",
      "Epoch 414/500\n",
      "24/24 [==============================] - 0s 4ms/step - loss: 20.4463 - val_loss: 914.3141\n",
      "Epoch 415/500\n",
      "24/24 [==============================] - 0s 4ms/step - loss: 20.4464 - val_loss: 914.3139\n",
      "Epoch 416/500\n",
      "24/24 [==============================] - 0s 4ms/step - loss: 20.4465 - val_loss: 914.3137\n",
      "Epoch 417/500\n",
      "24/24 [==============================] - 0s 4ms/step - loss: 20.4465 - val_loss: 914.3132\n",
      "Epoch 418/500\n",
      "24/24 [==============================] - 0s 4ms/step - loss: 20.4466 - val_loss: 914.3127\n",
      "Epoch 419/500\n",
      "24/24 [==============================] - 0s 4ms/step - loss: 20.4468 - val_loss: 914.3124\n",
      "Epoch 420/500\n",
      "24/24 [==============================] - 0s 4ms/step - loss: 20.4468 - val_loss: 914.3120\n",
      "Epoch 421/500\n",
      "24/24 [==============================] - 0s 4ms/step - loss: 20.4470 - val_loss: 914.3118\n",
      "Epoch 422/500\n",
      "24/24 [==============================] - 0s 4ms/step - loss: 20.4470 - val_loss: 914.3115\n",
      "Epoch 423/500\n",
      "24/24 [==============================] - 0s 4ms/step - loss: 20.4471 - val_loss: 914.3114\n",
      "Epoch 424/500\n",
      "24/24 [==============================] - 0s 4ms/step - loss: 20.4472 - val_loss: 914.3113\n",
      "Epoch 425/500\n",
      "24/24 [==============================] - 0s 7ms/step - loss: 20.4472 - val_loss: 914.3105\n",
      "Epoch 426/500\n",
      "24/24 [==============================] - 0s 4ms/step - loss: 20.4474 - val_loss: 914.3105\n",
      "Epoch 427/500\n",
      "24/24 [==============================] - 0s 3ms/step - loss: 20.4475 - val_loss: 914.3102\n",
      "Epoch 428/500\n",
      "24/24 [==============================] - 0s 4ms/step - loss: 20.4476 - val_loss: 914.3101\n",
      "Epoch 429/500\n",
      "24/24 [==============================] - 0s 4ms/step - loss: 20.4476 - val_loss: 914.3097\n",
      "Epoch 430/500\n",
      "24/24 [==============================] - 0s 4ms/step - loss: 20.4477 - val_loss: 914.3094\n",
      "Epoch 431/500\n",
      "24/24 [==============================] - 0s 4ms/step - loss: 20.4477 - val_loss: 914.3092\n",
      "Epoch 432/500\n",
      "24/24 [==============================] - 0s 4ms/step - loss: 20.4478 - val_loss: 914.3088\n",
      "Epoch 433/500\n",
      "24/24 [==============================] - 0s 4ms/step - loss: 20.4479 - val_loss: 914.3085\n",
      "Epoch 434/500\n",
      "24/24 [==============================] - 0s 4ms/step - loss: 20.4480 - val_loss: 914.3083\n",
      "Epoch 435/500\n",
      "24/24 [==============================] - 0s 4ms/step - loss: 20.4480 - val_loss: 914.3080\n",
      "Epoch 436/500\n",
      "24/24 [==============================] - 0s 4ms/step - loss: 20.4481 - val_loss: 914.3079\n",
      "Epoch 437/500\n",
      "24/24 [==============================] - 0s 4ms/step - loss: 20.4482 - val_loss: 914.3076\n",
      "Epoch 438/500\n",
      "24/24 [==============================] - 0s 3ms/step - loss: 20.4482 - val_loss: 914.3071\n",
      "Epoch 439/500\n",
      "24/24 [==============================] - 0s 4ms/step - loss: 20.4482 - val_loss: 914.3068\n",
      "Epoch 440/500\n",
      "24/24 [==============================] - 0s 3ms/step - loss: 20.4484 - val_loss: 914.3066\n",
      "Epoch 441/500\n",
      "24/24 [==============================] - 0s 4ms/step - loss: 20.4484 - val_loss: 914.3065\n",
      "Epoch 442/500\n",
      "24/24 [==============================] - 0s 4ms/step - loss: 20.4484 - val_loss: 914.3061\n",
      "Epoch 443/500\n",
      "24/24 [==============================] - 0s 7ms/step - loss: 20.4485 - val_loss: 914.3061\n",
      "Epoch 444/500\n",
      "24/24 [==============================] - 0s 4ms/step - loss: 20.4485 - val_loss: 914.3058\n",
      "Epoch 445/500\n",
      "24/24 [==============================] - 0s 4ms/step - loss: 20.4486 - val_loss: 914.3054\n",
      "Epoch 446/500\n",
      "24/24 [==============================] - 0s 4ms/step - loss: 20.4487 - val_loss: 914.3057\n",
      "Epoch 447/500\n",
      "24/24 [==============================] - 0s 4ms/step - loss: 20.4487 - val_loss: 914.3052\n",
      "Epoch 448/500\n",
      "24/24 [==============================] - 0s 4ms/step - loss: 20.4487 - val_loss: 914.3052\n",
      "Epoch 449/500\n",
      "24/24 [==============================] - 0s 4ms/step - loss: 20.4488 - val_loss: 914.3051\n",
      "Epoch 450/500\n",
      "24/24 [==============================] - 0s 4ms/step - loss: 20.4488 - val_loss: 914.3050\n",
      "Epoch 451/500\n",
      "24/24 [==============================] - 0s 4ms/step - loss: 20.4489 - val_loss: 914.3047\n",
      "Epoch 452/500\n",
      "24/24 [==============================] - 0s 4ms/step - loss: 20.4489 - val_loss: 914.3045\n",
      "Epoch 453/500\n",
      "24/24 [==============================] - 0s 4ms/step - loss: 20.4490 - val_loss: 914.3047\n",
      "Epoch 454/500\n",
      "24/24 [==============================] - 0s 4ms/step - loss: 20.4490 - val_loss: 914.3038\n",
      "Epoch 455/500\n",
      "24/24 [==============================] - 0s 4ms/step - loss: 20.4491 - val_loss: 914.3036\n",
      "Epoch 456/500\n",
      "24/24 [==============================] - 0s 4ms/step - loss: 20.4491 - val_loss: 914.3036\n",
      "Epoch 457/500\n",
      "24/24 [==============================] - 0s 3ms/step - loss: 20.4492 - val_loss: 914.3035\n",
      "Epoch 458/500\n",
      "24/24 [==============================] - 0s 4ms/step - loss: 20.4492 - val_loss: 914.3033\n",
      "Epoch 459/500\n",
      "24/24 [==============================] - 0s 7ms/step - loss: 20.4493 - val_loss: 914.3032\n",
      "Epoch 460/500\n",
      "24/24 [==============================] - 0s 4ms/step - loss: 20.4493 - val_loss: 914.3030\n",
      "Epoch 461/500\n",
      "24/24 [==============================] - 0s 4ms/step - loss: 20.4493 - val_loss: 914.3031\n",
      "Epoch 462/500\n",
      "24/24 [==============================] - 0s 4ms/step - loss: 20.4493 - val_loss: 914.3028\n",
      "Epoch 463/500\n",
      "24/24 [==============================] - 0s 4ms/step - loss: 20.4494 - val_loss: 914.3026\n",
      "Epoch 464/500\n",
      "24/24 [==============================] - 0s 4ms/step - loss: 20.4494 - val_loss: 914.3023\n",
      "Epoch 465/500\n",
      "24/24 [==============================] - 0s 4ms/step - loss: 20.4495 - val_loss: 914.3025\n",
      "Epoch 466/500\n",
      "24/24 [==============================] - 0s 4ms/step - loss: 20.4495 - val_loss: 914.3021\n",
      "Epoch 467/500\n",
      "24/24 [==============================] - 0s 4ms/step - loss: 20.4495 - val_loss: 914.3021\n",
      "Epoch 468/500\n",
      "24/24 [==============================] - 0s 4ms/step - loss: 20.4495 - val_loss: 914.3021\n",
      "Epoch 469/500\n",
      "24/24 [==============================] - 0s 3ms/step - loss: 20.4496 - val_loss: 914.3019\n",
      "Epoch 470/500\n",
      "24/24 [==============================] - 0s 4ms/step - loss: 20.4496 - val_loss: 914.3020\n",
      "Epoch 471/500\n",
      "24/24 [==============================] - 0s 4ms/step - loss: 20.4496 - val_loss: 914.3021\n",
      "Epoch 472/500\n",
      "24/24 [==============================] - 0s 4ms/step - loss: 20.4496 - val_loss: 914.3021\n",
      "Epoch 473/500\n",
      "24/24 [==============================] - 0s 4ms/step - loss: 20.4496 - val_loss: 914.3018\n",
      "Epoch 474/500\n",
      "24/24 [==============================] - 0s 4ms/step - loss: 20.4496 - val_loss: 914.3015\n",
      "Epoch 475/500\n",
      "24/24 [==============================] - 0s 4ms/step - loss: 20.4497 - val_loss: 914.3015\n",
      "Epoch 476/500\n",
      "24/24 [==============================] - 0s 4ms/step - loss: 20.4498 - val_loss: 914.3012\n",
      "Epoch 477/500\n",
      "24/24 [==============================] - 0s 4ms/step - loss: 20.4498 - val_loss: 914.3012\n",
      "Epoch 478/500\n",
      "24/24 [==============================] - 0s 7ms/step - loss: 20.4498 - val_loss: 914.3009\n",
      "Epoch 479/500\n",
      "24/24 [==============================] - 0s 4ms/step - loss: 20.4498 - val_loss: 914.3005\n",
      "Epoch 480/500\n",
      "24/24 [==============================] - 0s 4ms/step - loss: 20.4499 - val_loss: 914.3006\n",
      "Epoch 481/500\n",
      "24/24 [==============================] - 0s 4ms/step - loss: 20.4499 - val_loss: 914.3008\n",
      "Epoch 482/500\n",
      "24/24 [==============================] - 0s 4ms/step - loss: 20.4499 - val_loss: 914.3010\n",
      "Epoch 483/500\n",
      "24/24 [==============================] - 0s 4ms/step - loss: 20.4500 - val_loss: 914.3011\n",
      "Epoch 484/500\n",
      "24/24 [==============================] - 0s 4ms/step - loss: 20.4500 - val_loss: 914.3012\n",
      "Epoch 485/500\n",
      "24/24 [==============================] - 0s 4ms/step - loss: 20.4500 - val_loss: 914.3013\n",
      "Epoch 486/500\n",
      "24/24 [==============================] - 0s 4ms/step - loss: 20.4500 - val_loss: 914.3011\n",
      "Epoch 487/500\n",
      "24/24 [==============================] - 0s 4ms/step - loss: 20.4500 - val_loss: 914.3012\n",
      "Epoch 488/500\n",
      "24/24 [==============================] - 0s 4ms/step - loss: 20.4500 - val_loss: 914.3011\n",
      "Epoch 489/500\n",
      "24/24 [==============================] - 0s 4ms/step - loss: 20.4500 - val_loss: 914.3007\n",
      "Epoch 490/500\n",
      "24/24 [==============================] - 0s 4ms/step - loss: 20.4500 - val_loss: 914.3005\n",
      "Epoch 491/500\n",
      "24/24 [==============================] - 0s 3ms/step - loss: 20.4500 - val_loss: 914.3004\n",
      "Epoch 492/500\n",
      "24/24 [==============================] - 0s 4ms/step - loss: 20.4501 - val_loss: 914.2999\n",
      "Epoch 493/500\n",
      "24/24 [==============================] - 0s 4ms/step - loss: 20.4501 - val_loss: 914.3004\n",
      "Epoch 494/500\n",
      "24/24 [==============================] - 0s 4ms/step - loss: 20.4501 - val_loss: 914.3005\n",
      "Epoch 495/500\n",
      "24/24 [==============================] - 0s 4ms/step - loss: 20.4501 - val_loss: 914.3004\n",
      "Epoch 496/500\n",
      "24/24 [==============================] - 0s 4ms/step - loss: 20.4501 - val_loss: 914.3002\n",
      "Epoch 497/500\n",
      "24/24 [==============================] - 0s 7ms/step - loss: 20.4502 - val_loss: 914.3001\n",
      "Epoch 498/500\n",
      "24/24 [==============================] - 0s 4ms/step - loss: 20.4502 - val_loss: 914.2999\n",
      "Epoch 499/500\n",
      "24/24 [==============================] - 0s 4ms/step - loss: 20.4502 - val_loss: 914.2999\n",
      "Epoch 500/500\n",
      "24/24 [==============================] - 0s 4ms/step - loss: 20.4502 - val_loss: 914.3000\n"
     ]
    }
   ],
   "source": [
    "C0 = tf.Variable(86.6856, name=\"C0\", trainable=True, dtype=tf.float32)\n",
    "K0 = tf.Variable(-0.0008, name=\"K0\", trainable=True, dtype=tf.float32)\n",
    "K1 = tf.Variable(-0.0002, name=\"K1\", trainable=True, dtype=tf.float32)\n",
    "a = tf.Variable(0.0000, name=\"a\", trainable=True, dtype=tf.float32)\n",
    "b = tf.Variable(0.0128, name=\"b\", trainable=True, dtype=tf.float32)\n",
    "c = tf.Variable(-2.3003, name=\"c\", trainable=True, dtype=tf.float32)\n",
    "\n",
    "splitr = 0.8\n",
    "\n",
    "\n",
    "def loss_fn(y_true, y_pred):\n",
    "    squared_difference = tf.square(y_true[:, 0] - y_pred[:, 0])\n",
    "    #squared_difference2 = tf.square(y_true[:, 2]-y_pred[:, 2])\n",
    "    #squared_difference1 = tf.square(y_true[:, 1]-y_pred[:, 1])\n",
    "    epsilon = 1\n",
    "    squared_difference3 = tf.square(\n",
    "        y_pred[:, 1] - (\n",
    "            y_pred[:, 0] * (\n",
    "                K0 - K1 * (\n",
    "                    9 * a * tf.math.log((y_pred[:, 0] + epsilon) / C0) / (K0 - K1 * c)**2 +\n",
    "                    4 * b * tf.math.log((y_pred[:, 0] + epsilon) / C0) / (K0 - K1 * c) + c\n",
    "                )\n",
    "            )\n",
    "        )\n",
    "    )\n",
    "    return tf.reduce_mean(squared_difference, axis=-1) + 0.2*tf.reduce_mean(squared_difference3, axis=-1)\n",
    "model = Sequential()\n",
    "model.add(LSTM(100, input_shape=(trainX.shape[1], trainX.shape[2])))\n",
    "model.add(Dense(60))\n",
    "model.compile(loss=loss_fn, optimizer='adam')\n",
    "history = model.fit(trainX[:int(splitr*trainX.shape[0])], trainy[:int(splitr*trainX.shape[0])], epochs=500, batch_size=64, validation_data=(trainX[int(splitr*trainX.shape[0]):trainX.shape[0]], trainy[int(splitr*trainX.shape[0]):trainX.shape[0]]), shuffle=False)"
   ]
  },
  {
   "cell_type": "code",
   "execution_count": 19,
   "metadata": {
    "colab": {
     "base_uri": "https://localhost:8080/"
    },
    "id": "yJL101rPyuoT",
    "outputId": "239ff2b1-c186-423a-d316-939dfdd7c793"
   },
   "outputs": [
    {
     "name": "stdout",
     "output_type": "stream",
     "text": [
      "1/1 [==============================] - 0s 365ms/step\n"
     ]
    }
   ],
   "source": [
    "forecast_without_mc = forecastX\n",
    "yhat_without_mc = model.predict(forecast_without_mc) # Step Ahead Prediction\n",
    "forecast_without_mc = forecast_without_mc.reshape((forecast_without_mc.shape[0], forecast_without_mc.shape[2])) # Historical Input"
   ]
  },
  {
   "cell_type": "code",
   "execution_count": 20,
   "metadata": {
    "colab": {
     "base_uri": "https://localhost:8080/"
    },
    "id": "g9dQELcJ8wbp",
    "outputId": "4dc7671b-b1a8-48d5-8744-a86f98446109"
   },
   "outputs": [
    {
     "data": {
      "text/plain": [
       "(1, 1, 251)"
      ]
     },
     "execution_count": 20,
     "metadata": {},
     "output_type": "execute_result"
    }
   ],
   "source": [
    "forecastX.shape"
   ]
  },
  {
   "cell_type": "code",
   "execution_count": 21,
   "metadata": {
    "colab": {
     "base_uri": "https://localhost:8080/"
    },
    "id": "IS2kyIKG1Kbr",
    "outputId": "f31b3485-8e26-452f-9298-ea8bf7e80ad1"
   },
   "outputs": [
    {
     "data": {
      "text/plain": [
       "(1, 251)"
      ]
     },
     "execution_count": 21,
     "metadata": {},
     "output_type": "execute_result"
    }
   ],
   "source": [
    "forecast_without_mc.shape"
   ]
  },
  {
   "cell_type": "code",
   "execution_count": 22,
   "metadata": {
    "id": "0u6VIzaDyuoT"
   },
   "outputs": [],
   "source": [
    "inv_yhat_without_mc = np.concatenate((forecast_without_mc, yhat_without_mc), axis=1) # Concatenation of predicted values with Historical Data\n",
    "#inv_yhat_without_mc = scaler.inverse_transform(inv_yhat_without_mc) # Transform labels back to original encoding"
   ]
  },
  {
   "cell_type": "code",
   "execution_count": 23,
   "metadata": {
    "colab": {
     "base_uri": "https://localhost:8080/"
    },
    "id": "EUEcw0LX07oU",
    "outputId": "cfc32397-9c37-4b43-d087-584bb31c3dcc"
   },
   "outputs": [
    {
     "data": {
      "text/plain": [
       "(1, 311)"
      ]
     },
     "execution_count": 23,
     "metadata": {},
     "output_type": "execute_result"
    }
   ],
   "source": [
    "inv_yhat_without_mc.shape"
   ]
  },
  {
   "cell_type": "code",
   "execution_count": 24,
   "metadata": {
    "id": "31OWVbSh_305"
   },
   "outputs": [],
   "source": [
    "fforecast = inv_yhat_without_mc[:,-300:]"
   ]
  },
  {
   "cell_type": "code",
   "execution_count": 25,
   "metadata": {},
   "outputs": [
    {
     "data": {
      "text/plain": [
       "(1, 300)"
      ]
     },
     "execution_count": 25,
     "metadata": {},
     "output_type": "execute_result"
    }
   ],
   "source": [
    "fforecast.shape"
   ]
  },
  {
   "cell_type": "code",
   "execution_count": 26,
   "metadata": {
    "id": "BlpGH2FOAiRF"
   },
   "outputs": [],
   "source": [
    "final_forecast = fforecast[:,0:300:3]"
   ]
  },
  {
   "cell_type": "code",
   "execution_count": 27,
   "metadata": {},
   "outputs": [
    {
     "data": {
      "text/plain": [
       "(1, 300)"
      ]
     },
     "execution_count": 27,
     "metadata": {},
     "output_type": "execute_result"
    }
   ],
   "source": [
    "fforecast.shape"
   ]
  },
  {
   "cell_type": "code",
   "execution_count": 28,
   "metadata": {
    "id": "CXkgkj_LBk_t"
   },
   "outputs": [],
   "source": [
    "# code to replace all negative value with 0\n",
    "final_forecast[final_forecast<0] = 0"
   ]
  },
  {
   "cell_type": "code",
   "execution_count": 29,
   "metadata": {},
   "outputs": [
    {
     "data": {
      "text/plain": [
       "array([[66.7657166 , 66.6757614 , 66.5858435 , 66.4959255 , 66.4060076 ,\n",
       "        66.3160898 , 66.2261719 ,  0.7297765 ,  0.80151224,  0.54776281,\n",
       "         0.12395443,  0.22777341,  0.28028101, 67.5949416 , 67.5050257 ,\n",
       "        67.4151097 , 67.3251937 , 67.2352778 , 67.1453618 , 67.0554458 ,\n",
       "        66.9655299 , 66.8756139 , 66.7856979 , 66.6938632 , 66.599052  ,\n",
       "        66.5039472 , 66.4090893 , 66.3160313 , 66.2231367 , 66.13033   ,\n",
       "        66.0375231 , 65.9447144 , 65.8519046 , 65.7590948 , 65.666285  ,\n",
       "        65.5734752 , 65.4806654 , 65.3878556 , 65.2950458 , 65.202236  ,\n",
       "        65.1094262 , 65.0166164 , 64.9238066 , 64.8309968 , 64.738187  ,\n",
       "        64.6453772 , 64.5525674 , 71.7936975 ,  0.46305758,  0.25501093,\n",
       "         0.        , 70.257633  , 70.1820028 , 73.5080532 , 72.3483193 ,\n",
       "        70.9869748 , 72.9058123 , 71.6256303 , 70.627381  ,  0.08414401,\n",
       "         0.58485156,  0.        , 71.5415966 ,  0.46036336, 72.1802521 ,\n",
       "        70.8189076 , 70.4929272 , 71.457563  , 70.5993697 , 70.372479  ,\n",
       "         0.162238  ,  0.11527097,  0.        , 66.96854401,  0.56379801,\n",
       "         0.        ,  0.        ,  0.        ,  0.0849525 ,  0.        ,\n",
       "        46.28491211,  0.2597965 ,  0.        ,  0.        ,  0.        ,\n",
       "         0.46846864,  0.        ,  0.        ,  0.        ,  0.16479929,\n",
       "         0.        ,  0.91266292,  0.47029522,  0.21254921,  0.34214646,\n",
       "         0.        ,  0.53074151,  0.        ,  0.76576823,  0.        ]])"
      ]
     },
     "execution_count": 29,
     "metadata": {},
     "output_type": "execute_result"
    }
   ],
   "source": [
    "final_forecast"
   ]
  },
  {
   "cell_type": "code",
   "execution_count": 30,
   "metadata": {},
   "outputs": [
    {
     "data": {
      "text/plain": [
       "(1, 100)"
      ]
     },
     "execution_count": 30,
     "metadata": {},
     "output_type": "execute_result"
    }
   ],
   "source": [
    "final_forecast.shape"
   ]
  },
  {
   "cell_type": "code",
   "execution_count": 31,
   "metadata": {},
   "outputs": [
    {
     "data": {
      "text/plain": [
       "(100,)"
      ]
     },
     "execution_count": 31,
     "metadata": {},
     "output_type": "execute_result"
    }
   ],
   "source": [
    "test.shape"
   ]
  },
  {
   "cell_type": "code",
   "execution_count": 32,
   "metadata": {},
   "outputs": [],
   "source": [
    "training_set = np.array(training_set)\n",
    "test = np.array(test)\n",
    "final_forecast = np.array(final_forecast.squeeze(0))"
   ]
  },
  {
   "cell_type": "code",
   "execution_count": 33,
   "metadata": {},
   "outputs": [
    {
     "data": {
      "text/plain": [
       "array([56.83234269, 56.82004509, 56.80774749, 56.79544989, 56.78315229,\n",
       "       56.77085468, 56.75855708, 56.74625948, 56.73396188, 56.72166428,\n",
       "       56.70936667, 56.69706907, 56.68477147, 56.67247387, 56.66017627,\n",
       "       56.64787866, 56.63558106, 56.62328346, 56.61098586, 56.59868826,\n",
       "       56.58639065, 56.57409305, 56.56179545, 56.54949785, 56.53720025,\n",
       "       56.52490264, 56.51260504, 56.50030744, 56.48800984, 56.47571224,\n",
       "       56.46341463, 56.45111703, 56.43881943, 56.42652183, 56.41422423,\n",
       "       56.40192662, 56.38962902, 56.37733142, 56.36503382, 56.35273622,\n",
       "       56.34043861, 56.32814101, 56.31584341, 56.30354581, 56.29124821,\n",
       "       56.2789506 , 56.266653  , 56.2543554 , 56.2420578 , 56.2297602 ,\n",
       "       56.21746259, 56.20516499, 56.19286739, 56.18056979, 56.16827219,\n",
       "       56.15597458, 56.14367698, 56.13137938, 56.11908178, 56.10678418,\n",
       "       56.09448658, 56.08218897, 56.06989137, 56.05759377, 56.04529617,\n",
       "       56.03299857, 56.02070096, 56.00840336, 55.99610576, 55.98380816,\n",
       "       55.97151056, 55.95921295, 55.94691535, 55.93461775, 55.92232015,\n",
       "       55.91002255, 55.89772494, 55.88542734, 55.87312974, 55.86083214,\n",
       "       55.84853454, 55.83623693, 55.82393933, 55.81164173, 55.79934413,\n",
       "       55.78704653, 55.77474892, 55.76245132, 55.75015372, 55.73785612,\n",
       "       55.72555852, 55.71326091, 55.70096331, 55.68866571, 55.67636811,\n",
       "       55.66407051, 55.6517729 , 55.6394753 , 55.6271777 , 55.6148801 ])"
      ]
     },
     "execution_count": 33,
     "metadata": {},
     "output_type": "execute_result"
    }
   ],
   "source": [
    "test"
   ]
  },
  {
   "cell_type": "code",
   "execution_count": 34,
   "metadata": {},
   "outputs": [
    {
     "data": {
      "text/plain": [
       "(100,)"
      ]
     },
     "execution_count": 34,
     "metadata": {},
     "output_type": "execute_result"
    }
   ],
   "source": [
    "test.shape"
   ]
  },
  {
   "cell_type": "code",
   "execution_count": 35,
   "metadata": {},
   "outputs": [
    {
     "data": {
      "text/plain": [
       "(100,)"
      ]
     },
     "execution_count": 35,
     "metadata": {},
     "output_type": "execute_result"
    }
   ],
   "source": [
    "final_forecast.shape"
   ]
  },
  {
   "cell_type": "code",
   "execution_count": 36,
   "metadata": {},
   "outputs": [
    {
     "data": {
      "text/plain": [
       "(100,)"
      ]
     },
     "execution_count": 36,
     "metadata": {},
     "output_type": "execute_result"
    }
   ],
   "source": [
    "test.shape"
   ]
  },
  {
   "cell_type": "code",
   "execution_count": 37,
   "metadata": {},
   "outputs": [
    {
     "name": "stdout",
     "output_type": "stream",
     "text": [
      "36.76996730940694\n",
      "29.45044395719707\n"
     ]
    }
   ],
   "source": [
    "import math\n",
    "MSE = np.square(np.subtract(np.array(test),np.array(final_forecast))).mean()   \n",
    "rsme = math.sqrt(MSE)\n",
    "print(rsme)  \n",
    "MAE = np.abs(np.subtract(np.array(test),np.array(final_forecast))).mean()   \n",
    "mae = MAE\n",
    "print(mae)"
   ]
  }
 ],
 "metadata": {
  "colab": {
   "provenance": []
  },
  "kernelspec": {
   "display_name": "Python 3",
   "language": "python",
   "name": "python3"
  },
  "language_info": {
   "codemirror_mode": {
    "name": "ipython",
    "version": 3
   },
   "file_extension": ".py",
   "mimetype": "text/x-python",
   "name": "python",
   "nbconvert_exporter": "python",
   "pygments_lexer": "ipython3",
   "version": "3.9.13"
  }
 },
 "nbformat": 4,
 "nbformat_minor": 0
}
