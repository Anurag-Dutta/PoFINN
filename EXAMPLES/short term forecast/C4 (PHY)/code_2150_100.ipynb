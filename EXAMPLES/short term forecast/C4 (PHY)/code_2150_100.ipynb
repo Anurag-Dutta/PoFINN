{
 "cells": [
  {
   "cell_type": "markdown",
   "metadata": {
    "id": "pCGKeZ2gyuoQ"
   },
   "source": [
    "_Importing Required Libraries_"
   ]
  },
  {
   "cell_type": "code",
   "execution_count": 1,
   "metadata": {
    "colab": {
     "base_uri": "https://localhost:8080/"
    },
    "id": "A-6LN-zXiLcM",
    "outputId": "4de610a4-f8b8-4f49-c6c0-89de299ccedc"
   },
   "outputs": [
    {
     "name": "stdout",
     "output_type": "stream",
     "text": [
      "Requirement already satisfied: hampel in c:\\users\\anurag dutta\\appdata\\local\\packages\\pythonsoftwarefoundation.python.3.9_qbz5n2kfra8p0\\localcache\\local-packages\\python39\\site-packages (0.0.5)\n",
      "Requirement already satisfied: numpy in c:\\users\\anurag dutta\\appdata\\local\\packages\\pythonsoftwarefoundation.python.3.9_qbz5n2kfra8p0\\localcache\\local-packages\\python39\\site-packages (from hampel) (1.26.4)\n",
      "Requirement already satisfied: pandas in c:\\users\\anurag dutta\\appdata\\local\\packages\\pythonsoftwarefoundation.python.3.9_qbz5n2kfra8p0\\localcache\\local-packages\\python39\\site-packages (from hampel) (1.5.2)\n",
      "Requirement already satisfied: python-dateutil>=2.8.1 in c:\\users\\anurag dutta\\appdata\\local\\packages\\pythonsoftwarefoundation.python.3.9_qbz5n2kfra8p0\\localcache\\local-packages\\python39\\site-packages (from pandas->hampel) (2.8.2)\n",
      "Requirement already satisfied: pytz>=2020.1 in c:\\users\\anurag dutta\\appdata\\local\\packages\\pythonsoftwarefoundation.python.3.9_qbz5n2kfra8p0\\localcache\\local-packages\\python39\\site-packages (from pandas->hampel) (2023.3.post1)\n",
      "Requirement already satisfied: six>=1.5 in c:\\users\\anurag dutta\\appdata\\local\\packages\\pythonsoftwarefoundation.python.3.9_qbz5n2kfra8p0\\localcache\\local-packages\\python39\\site-packages (from python-dateutil>=2.8.1->pandas->hampel) (1.16.0)\n",
      "Note: you may need to restart the kernel to use updated packages.\n"
     ]
    },
    {
     "name": "stderr",
     "output_type": "stream",
     "text": [
      "\n",
      "[notice] A new release of pip is available: 24.2 -> 24.3.1\n",
      "[notice] To update, run: C:\\Users\\Anurag Dutta\\AppData\\Local\\Microsoft\\WindowsApps\\PythonSoftwareFoundation.Python.3.9_qbz5n2kfra8p0\\python.exe -m pip install --upgrade pip\n"
     ]
    }
   ],
   "source": [
    "pip install hampel"
   ]
  },
  {
   "cell_type": "code",
   "execution_count": 2,
   "metadata": {
    "id": "By_d9uXpaFvZ"
   },
   "outputs": [],
   "source": [
    "from keras.models import Sequential\n",
    "from keras.layers import Dense\n",
    "from keras.layers import LSTM\n",
    "from keras.layers import Dropout\n",
    "import keras\n",
    "import tensorflow as tf\n",
    "from hampel import hampel\n",
    "import numpy as np\n",
    "import matplotlib.pyplot as plt\n",
    "import pandas as pd\n",
    "from sklearn.preprocessing import MinMaxScaler\n",
    "from sklearn.metrics import mean_squared_error, mean_absolute_error\n",
    "from math import sqrt\n",
    "from matplotlib import pyplot\n",
    "from numpy import array"
   ]
  },
  {
   "cell_type": "markdown",
   "metadata": {
    "id": "JyOjBMFayuoR"
   },
   "source": [
    "## Pretraining"
   ]
  },
  {
   "cell_type": "markdown",
   "metadata": {
    "id": "-5QqIY_GyuoR"
   },
   "source": [
    "The `capa_intermittency.dat` feeds the model with the dynamics of the Capacitor"
   ]
  },
  {
   "cell_type": "code",
   "execution_count": 3,
   "metadata": {
    "id": "9dV4a8yfyuoR"
   },
   "outputs": [],
   "source": [
    "data = np.genfromtxt('capa_intermittency.dat')\n",
    "training_set = pd.DataFrame(data).reset_index(drop=True)\n",
    "training_set = training_set.iloc[:,0]"
   ]
  },
  {
   "cell_type": "markdown",
   "metadata": {
    "id": "i7easoxByuoR"
   },
   "source": [
    "## Computing the Gradient"
   ]
  },
  {
   "cell_type": "markdown",
   "metadata": {
    "id": "5SnyolJTyuoR"
   },
   "source": [
    "_Calculating the value of_ $\\frac{dx}{dt}$"
   ]
  },
  {
   "cell_type": "code",
   "execution_count": 4,
   "metadata": {
    "colab": {
     "base_uri": "https://localhost:8080/"
    },
    "id": "wmIbVfIvyuoR",
    "outputId": "aa4e3136-c854-465d-d2e9-81cfd546e440"
   },
   "outputs": [
    {
     "name": "stdout",
     "output_type": "stream",
     "text": [
      "1.0\n",
      "1        0.000298\n",
      "2        0.000298\n",
      "3        0.000297\n",
      "4        0.000297\n",
      "5        0.000297\n",
      "           ...   \n",
      "9996     0.000018\n",
      "9997     0.000018\n",
      "9998     0.000018\n",
      "9999     0.000018\n",
      "10000    0.000018\n",
      "Name: 0, Length: 10000, dtype: float64\n"
     ]
    }
   ],
   "source": [
    "t_diff = 1\n",
    "print(training_set.max())\n",
    "gradient_t = (training_set.diff()/t_diff).iloc[1:] # dx/dt\n",
    "print(gradient_t)"
   ]
  },
  {
   "cell_type": "markdown",
   "metadata": {
    "id": "_2eVeeoxyuoS"
   },
   "source": [
    "## Loading Datasets"
   ]
  },
  {
   "cell_type": "code",
   "execution_count": 5,
   "metadata": {
    "id": "0J-NKyIEyuoS"
   },
   "outputs": [
    {
     "data": {
      "text/plain": [
       "0       88.600000\n",
       "1       88.409524\n",
       "2       88.219048\n",
       "3       88.028571\n",
       "4       87.838095\n",
       "          ...    \n",
       "2245    58.123591\n",
       "2246    58.111293\n",
       "2247    58.098996\n",
       "2248    58.086698\n",
       "2249    58.074400\n",
       "Name: C4, Length: 2250, dtype: float64"
      ]
     },
     "execution_count": 5,
     "metadata": {},
     "output_type": "execute_result"
    }
   ],
   "source": [
    "data = pd.read_csv(\"c4_interpolated_2150_100.csv\")\n",
    "training_set = data.iloc[:, 1]\n",
    "training_set"
   ]
  },
  {
   "cell_type": "code",
   "execution_count": 6,
   "metadata": {
    "colab": {
     "base_uri": "https://localhost:8080/"
    },
    "id": "-CbNUhJ74UqF",
    "outputId": "20f562d8-8247-49cc-b9c3-00eca5e13e2d"
   },
   "outputs": [
    {
     "data": {
      "text/plain": [
       "0       88.600000\n",
       "1       88.409524\n",
       "2       88.219048\n",
       "3       88.028571\n",
       "4       87.838095\n",
       "          ...    \n",
       "2145     0.084953\n",
       "2146     0.000000\n",
       "2147     0.179084\n",
       "2148     0.000000\n",
       "2149     0.000000\n",
       "Name: C4, Length: 2150, dtype: float64"
      ]
     },
     "execution_count": 6,
     "metadata": {},
     "output_type": "execute_result"
    }
   ],
   "source": [
    "test = training_set.tail(100)\n",
    "test\n",
    "training_set = training_set.head(2150)\n",
    "training_set"
   ]
  },
  {
   "cell_type": "code",
   "execution_count": 7,
   "metadata": {
    "colab": {
     "base_uri": "https://localhost:8080/"
    },
    "id": "X0TwTcq0yuoS",
    "outputId": "37252ed8-d88e-4044-fa7a-922411990b5b"
   },
   "outputs": [
    {
     "name": "stdout",
     "output_type": "stream",
     "text": [
      "0       0.000298\n",
      "1       0.000298\n",
      "2       0.000297\n",
      "3       0.000297\n",
      "4       0.000297\n",
      "          ...   \n",
      "9995    0.000018\n",
      "9996    0.000018\n",
      "9997    0.000018\n",
      "9998    0.000018\n",
      "9999    0.000018\n",
      "Name: 0, Length: 10000, dtype: float64\n"
     ]
    }
   ],
   "source": [
    "training_set = training_set.reset_index(drop=True)\n",
    "gradient_t = gradient_t.reset_index(drop=True)\n",
    "print(gradient_t)"
   ]
  },
  {
   "cell_type": "code",
   "execution_count": 8,
   "metadata": {
    "id": "O2biznZQyuoS"
   },
   "outputs": [],
   "source": [
    "df = pd.concat((training_set, gradient_t), axis=1)\n",
    "df.columns = ['y_t', 'grad_t']"
   ]
  },
  {
   "cell_type": "code",
   "execution_count": 9,
   "metadata": {
    "colab": {
     "base_uri": "https://localhost:8080/",
     "height": 423
    },
    "id": "sk_a5v3tyuoS",
    "outputId": "17563625-e550-45ae-faab-fafa353e44da"
   },
   "outputs": [
    {
     "data": {
      "text/html": [
       "<div>\n",
       "<style scoped>\n",
       "    .dataframe tbody tr th:only-of-type {\n",
       "        vertical-align: middle;\n",
       "    }\n",
       "\n",
       "    .dataframe tbody tr th {\n",
       "        vertical-align: top;\n",
       "    }\n",
       "\n",
       "    .dataframe thead th {\n",
       "        text-align: right;\n",
       "    }\n",
       "</style>\n",
       "<table border=\"1\" class=\"dataframe\">\n",
       "  <thead>\n",
       "    <tr style=\"text-align: right;\">\n",
       "      <th></th>\n",
       "      <th>y_t</th>\n",
       "      <th>grad_t</th>\n",
       "    </tr>\n",
       "  </thead>\n",
       "  <tbody>\n",
       "    <tr>\n",
       "      <th>0</th>\n",
       "      <td>88.600000</td>\n",
       "      <td>0.000298</td>\n",
       "    </tr>\n",
       "    <tr>\n",
       "      <th>1</th>\n",
       "      <td>88.409524</td>\n",
       "      <td>0.000298</td>\n",
       "    </tr>\n",
       "    <tr>\n",
       "      <th>2</th>\n",
       "      <td>88.219048</td>\n",
       "      <td>0.000297</td>\n",
       "    </tr>\n",
       "    <tr>\n",
       "      <th>3</th>\n",
       "      <td>88.028571</td>\n",
       "      <td>0.000297</td>\n",
       "    </tr>\n",
       "    <tr>\n",
       "      <th>4</th>\n",
       "      <td>87.838095</td>\n",
       "      <td>0.000297</td>\n",
       "    </tr>\n",
       "    <tr>\n",
       "      <th>...</th>\n",
       "      <td>...</td>\n",
       "      <td>...</td>\n",
       "    </tr>\n",
       "    <tr>\n",
       "      <th>9995</th>\n",
       "      <td>NaN</td>\n",
       "      <td>0.000018</td>\n",
       "    </tr>\n",
       "    <tr>\n",
       "      <th>9996</th>\n",
       "      <td>NaN</td>\n",
       "      <td>0.000018</td>\n",
       "    </tr>\n",
       "    <tr>\n",
       "      <th>9997</th>\n",
       "      <td>NaN</td>\n",
       "      <td>0.000018</td>\n",
       "    </tr>\n",
       "    <tr>\n",
       "      <th>9998</th>\n",
       "      <td>NaN</td>\n",
       "      <td>0.000018</td>\n",
       "    </tr>\n",
       "    <tr>\n",
       "      <th>9999</th>\n",
       "      <td>NaN</td>\n",
       "      <td>0.000018</td>\n",
       "    </tr>\n",
       "  </tbody>\n",
       "</table>\n",
       "<p>10000 rows × 2 columns</p>\n",
       "</div>"
      ],
      "text/plain": [
       "            y_t    grad_t\n",
       "0     88.600000  0.000298\n",
       "1     88.409524  0.000298\n",
       "2     88.219048  0.000297\n",
       "3     88.028571  0.000297\n",
       "4     87.838095  0.000297\n",
       "...         ...       ...\n",
       "9995        NaN  0.000018\n",
       "9996        NaN  0.000018\n",
       "9997        NaN  0.000018\n",
       "9998        NaN  0.000018\n",
       "9999        NaN  0.000018\n",
       "\n",
       "[10000 rows x 2 columns]"
      ]
     },
     "execution_count": 9,
     "metadata": {},
     "output_type": "execute_result"
    }
   ],
   "source": [
    "df"
   ]
  },
  {
   "cell_type": "markdown",
   "metadata": {
    "id": "-5esyHu5aFvg"
   },
   "source": [
    "## Plot of the External Forcing from Chaotic Differential Equation"
   ]
  },
  {
   "cell_type": "code",
   "execution_count": 10,
   "metadata": {
    "colab": {
     "base_uri": "https://localhost:8080/",
     "height": 447
    },
    "id": "hGnE43tOh-4p",
    "outputId": "fc396503-b624-4fa5-dfbe-f460207405c6"
   },
   "outputs": [
    {
     "data": {
      "text/plain": [
       "<Axes: >"
      ]
     },
     "execution_count": 10,
     "metadata": {},
     "output_type": "execute_result"
    },
    {
     "data": {
      "image/png": "[encoded data removed]",
      "text/plain": [
       "<Figure size 432x288 with 1 Axes>"
      ]
     },
     "metadata": {
      "needs_background": "light"
     },
     "output_type": "display_data"
    }
   ],
   "source": [
    "df.iloc[:, 0].plot()"
   ]
  },
  {
   "cell_type": "code",
   "execution_count": 11,
   "metadata": {
    "colab": {
     "base_uri": "https://localhost:8080/",
     "height": 447
    },
    "id": "ym4xWUUxaFvg",
    "outputId": "ae6a3495-8ce9-437e-ba81-3ed31deedeae"
   },
   "outputs": [
    {
     "name": "stderr",
     "output_type": "stream",
     "text": [
      "C:\\Users\\Anurag Dutta\\AppData\\Local\\Packages\\PythonSoftwareFoundation.Python.3.9_qbz5n2kfra8p0\\LocalCache\\local-packages\\Python39\\site-packages\\pandas\\core\\arraylike.py:402: RuntimeWarning: divide by zero encountered in log\n",
      "  result = getattr(ufunc, method)(*inputs, **kwargs)\n"
     ]
    },
    {
     "data": {
      "text/plain": [
       "<Axes: >"
      ]
     },
     "execution_count": 11,
     "metadata": {},
     "output_type": "execute_result"
    },
    {
     "data": {
      "image/png": "[encoded data removed]",
      "text/plain": [
       "<Figure size 432x288 with 1 Axes>"
      ]
     },
     "metadata": {
      "needs_background": "light"
     },
     "output_type": "display_data"
    }
   ],
   "source": [
    "import numpy as np\n",
    "c0 = 86.6856  # Value for C0\n",
    "K0 = -0.0008  # Value for K0\n",
    "K1 = -0.0002  # Value for K1\n",
    "a = 0.0000    # Value for a\n",
    "b = 0.0128    # Value for b\n",
    "c = -2.3003    # Value for c\n",
    "\n",
    "L = np.minimum(c0, (df.iloc[:, 1] - (df.iloc[:, 0] * (K0 - K1 * (9 * a * np.log(df.iloc[:, 0] / c0) / (K0 - K1 * c)**2 + 4 * b * np.log(df.iloc[:, 0] / c0) / (K0 - K1 * c) + c)))))\n",
    "L.plot()"
   ]
  },
  {
   "cell_type": "markdown",
   "metadata": {
    "id": "9VyEywnwaFvh"
   },
   "source": [
    "## Preprocessing the data into supervised learning"
   ]
  },
  {
   "cell_type": "code",
   "execution_count": 12,
   "metadata": {
    "id": "6V9dXqzdaFvh"
   },
   "outputs": [],
   "source": [
    "# split a sequence into samples\n",
    "def Supervised(data, n_in=1, n_out=1, dropnan=True):\n",
    "    n_vars = 1 if type(data) is list else data.shape[1]\n",
    "    df = pd.DataFrame(data)\n",
    "    cols, names = list(), list()\n",
    "    # input sequence (t-n_in, ... t-1)\n",
    "    for i in range(n_in, 0, -1):\n",
    "        cols.append(df.shift(i))\n",
    "        names += [('var%d(t-%d)' % (j+1, i)) for j in range(n_vars)]\n",
    "    # forecast sequence (t, t+1, ... t+n_out)\n",
    "    for i in range(0, n_out):\n",
    "      cols.append(df.shift(-i))\n",
    "      if i == 0:\n",
    "        names += [('var%d(t)' % (j+1)) for j in range(n_vars)]\n",
    "      else:\n",
    "        names += [('var%d(t+%d)' % (j+1, i)) for j in range(n_vars)]\n",
    "    # put it all together\n",
    "    agg = pd.concat(cols, axis=1)\n",
    "    agg.columns = names\n",
    "    # drop rows with NaN values\n",
    "    if dropnan:\n",
    "       agg.dropna(inplace=True)\n",
    "    return agg"
   ]
  },
  {
   "cell_type": "code",
   "execution_count": 13,
   "metadata": {
    "colab": {
     "base_uri": "https://localhost:8080/"
    },
    "id": "CrzSrT1HnyfH",
    "outputId": "7e75f928-3e47-499d-eac1-51908015ef78"
   },
   "outputs": [
    {
     "name": "stdout",
     "output_type": "stream",
     "text": [
      "     var1(t-350)  var1(t-349)  var1(t-348)  var1(t-347)  var1(t-346)  \\\n",
      "350    88.600000    88.409524    88.219048    88.028571    87.838095   \n",
      "351    88.409524    88.219048    88.028571    87.838095    87.647619   \n",
      "352    88.219048    88.028571    87.838095    87.647619    87.457143   \n",
      "353    88.028571    87.838095    87.647619    87.457143    87.266667   \n",
      "354    87.838095    87.647619    87.457143    87.266667    87.076190   \n",
      "\n",
      "     var1(t-345)  var1(t-344)  var1(t-343)  var1(t-342)  var1(t-341)  ...  \\\n",
      "350    87.647619    87.457143    87.266667    87.076190    86.896218  ...   \n",
      "351    87.457143    87.266667    87.076190    86.896218    86.845798  ...   \n",
      "352    87.266667    87.076190    86.896218    86.845798    86.795378  ...   \n",
      "353    87.076190    86.896218    86.845798    86.795378    86.744958  ...   \n",
      "354    86.896218    86.845798    86.795378    86.744958    86.694538  ...   \n",
      "\n",
      "     var1(t+95)  var2(t+95)  var1(t+96)  var2(t+96)  var1(t+97)  var2(t+97)  \\\n",
      "350   78.880345    0.000263   78.856069    0.000263   78.831793    0.000263   \n",
      "351   78.856069    0.000263   78.831793    0.000263   78.807516    0.000262   \n",
      "352   78.831793    0.000263   78.807516    0.000262   78.783240    0.000262   \n",
      "353   78.807516    0.000262   78.783240    0.000262   78.758964    0.000262   \n",
      "354   78.783240    0.000262   78.758964    0.000262   78.734687    0.000262   \n",
      "\n",
      "     var1(t+98)  var2(t+98)  var1(t+99)  var2(t+99)  \n",
      "350   78.807516    0.000262   78.783240    0.000262  \n",
      "351   78.783240    0.000262   78.758964    0.000262  \n",
      "352   78.758964    0.000262   78.734687    0.000262  \n",
      "353   78.734687    0.000262   78.710411    0.000262  \n",
      "354   78.710411    0.000262   78.686134    0.000262  \n",
      "\n",
      "[5 rows x 551 columns]\n",
      "Index(['var1(t-350)', 'var1(t-349)', 'var1(t-348)', 'var1(t-347)',\n",
      "       'var1(t-346)', 'var1(t-345)', 'var1(t-344)', 'var1(t-343)',\n",
      "       'var1(t-342)', 'var1(t-341)',\n",
      "       ...\n",
      "       'var1(t+95)', 'var2(t+95)', 'var1(t+96)', 'var2(t+96)', 'var1(t+97)',\n",
      "       'var2(t+97)', 'var1(t+98)', 'var2(t+98)', 'var1(t+99)', 'var2(t+99)'],\n",
      "      dtype='object', length=551)\n"
     ]
    }
   ],
   "source": [
    "data = Supervised(df.values, n_in = 350, n_out = 100)\n",
    "\n",
    "\n",
    "cols_to_drop = []\n",
    "for i in range(2, 351):\n",
    "    cols_to_drop.extend([f'var2(t-{i})'])\n",
    "\n",
    "data.drop(cols_to_drop, axis=1, inplace=True)\n",
    "\n",
    "print(data.head())\n",
    "print(data.columns)"
   ]
  },
  {
   "cell_type": "code",
   "execution_count": 14,
   "metadata": {
    "id": "AfPf60oy6Pe4"
   },
   "outputs": [],
   "source": [
    "train = np.array(data[0:len(data)-1])\n",
    "forecast = np.array(data.tail(1))"
   ]
  },
  {
   "cell_type": "code",
   "execution_count": 15,
   "metadata": {
    "id": "WSAafzI37KiT"
   },
   "outputs": [],
   "source": [
    "trainy = train[:,-300:]\n",
    "trainX = train[:,:-300]"
   ]
  },
  {
   "cell_type": "code",
   "execution_count": 16,
   "metadata": {
    "id": "2SrOqVJA7f50"
   },
   "outputs": [],
   "source": [
    "forecasty = forecast[:,-300:]\n",
    "forecastX = forecast[:,:-300]"
   ]
  },
  {
   "cell_type": "code",
   "execution_count": 17,
   "metadata": {
    "colab": {
     "base_uri": "https://localhost:8080/"
    },
    "id": "Qno_k8Nw7saY",
    "outputId": "c4a88db5-d8c6-489f-cdb2-06b24e293cff"
   },
   "outputs": [
    {
     "name": "stdout",
     "output_type": "stream",
     "text": [
      "(1700, 1, 251) (1700, 300) (1, 1, 251)\n"
     ]
    }
   ],
   "source": [
    "trainX = trainX.reshape((trainX.shape[0], 1, trainX.shape[1]))\n",
    "forecastX = forecastX.reshape((forecastX.shape[0], 1, forecastX.shape[1]))\n",
    "print(trainX.shape, trainy.shape, forecastX.shape)"
   ]
  },
  {
   "cell_type": "code",
   "execution_count": 18,
   "metadata": {
    "colab": {
     "base_uri": "https://localhost:8080/"
    },
    "id": "b1Jp2DvNuNFx",
    "outputId": "d0e5b3c4-64f1-438c-eade-8dfeaac8e285"
   },
   "outputs": [
    {
     "name": "stdout",
     "output_type": "stream",
     "text": [
      "Epoch 1/500\n",
      "22/22 [==============================] - 4s 31ms/step - loss: 5336.7778 - val_loss: 3914.2520\n",
      "Epoch 2/500\n",
      "22/22 [==============================] - 0s 4ms/step - loss: 5219.4844 - val_loss: 3839.5688\n",
      "Epoch 3/500\n",
      "22/22 [==============================] - 0s 4ms/step - loss: 5139.1748 - val_loss: 3777.8367\n",
      "Epoch 4/500\n",
      "22/22 [==============================] - 0s 4ms/step - loss: 5061.4580 - val_loss: 3717.2229\n",
      "Epoch 5/500\n",
      "22/22 [==============================] - 0s 5ms/step - loss: 4984.9756 - val_loss: 3657.5925\n",
      "Epoch 6/500\n",
      "22/22 [==============================] - 0s 7ms/step - loss: 4909.5742 - val_loss: 3598.8516\n",
      "Epoch 7/500\n",
      "22/22 [==============================] - 0s 5ms/step - loss: 4835.1631 - val_loss: 3540.9463\n",
      "Epoch 8/500\n",
      "22/22 [==============================] - 0s 6ms/step - loss: 4761.6855 - val_loss: 3483.8457\n",
      "Epoch 9/500\n",
      "22/22 [==============================] - 0s 4ms/step - loss: 4689.1069 - val_loss: 3427.5264\n",
      "Epoch 10/500\n",
      "22/22 [==============================] - 0s 4ms/step - loss: 4617.4038 - val_loss: 3371.9707\n",
      "Epoch 11/500\n",
      "22/22 [==============================] - 0s 4ms/step - loss: 4546.5562 - val_loss: 3317.1648\n",
      "Epoch 12/500\n",
      "22/22 [==============================] - 0s 4ms/step - loss: 4476.5508 - val_loss: 3263.0979\n",
      "Epoch 13/500\n",
      "22/22 [==============================] - 0s 4ms/step - loss: 4407.3711 - val_loss: 3209.7581\n",
      "Epoch 14/500\n",
      "22/22 [==============================] - 0s 4ms/step - loss: 4339.0088 - val_loss: 3157.1365\n",
      "Epoch 15/500\n",
      "22/22 [==============================] - 0s 4ms/step - loss: 4271.4526 - val_loss: 3105.2239\n",
      "Epoch 16/500\n",
      "22/22 [==============================] - 0s 4ms/step - loss: 4204.6929 - val_loss: 3054.0107\n",
      "Epoch 17/500\n",
      "22/22 [==============================] - 0s 4ms/step - loss: 4138.7212 - val_loss: 3003.4829\n",
      "Epoch 18/500\n",
      "22/22 [==============================] - 0s 4ms/step - loss: 4073.5286 - val_loss: 2953.5029\n",
      "Epoch 19/500\n",
      "22/22 [==============================] - 0s 4ms/step - loss: 3996.5930 - val_loss: 2888.7517\n",
      "Epoch 20/500\n",
      "22/22 [==============================] - 0s 4ms/step - loss: 3922.2581 - val_loss: 2835.0708\n",
      "Epoch 21/500\n",
      "22/22 [==============================] - 0s 4ms/step - loss: 3853.4177 - val_loss: 2783.2600\n",
      "Epoch 22/500\n",
      "22/22 [==============================] - 0s 4ms/step - loss: 3786.5613 - val_loss: 2732.8545\n",
      "Epoch 23/500\n",
      "22/22 [==============================] - 0s 4ms/step - loss: 3721.2151 - val_loss: 2683.5881\n",
      "Epoch 24/500\n",
      "22/22 [==============================] - 0s 4ms/step - loss: 3657.1243 - val_loss: 2635.3174\n",
      "Epoch 25/500\n",
      "22/22 [==============================] - 0s 4ms/step - loss: 3594.1426 - val_loss: 2587.9543\n",
      "Epoch 26/500\n",
      "22/22 [==============================] - 0s 4ms/step - loss: 3532.1804 - val_loss: 2541.4409\n",
      "Epoch 27/500\n",
      "22/22 [==============================] - 0s 4ms/step - loss: 3471.1746 - val_loss: 2495.7349\n",
      "Epoch 28/500\n",
      "22/22 [==============================] - 0s 3ms/step - loss: 3411.0801 - val_loss: 2450.8044\n",
      "Epoch 29/500\n",
      "22/22 [==============================] - 0s 4ms/step - loss: 3351.8628 - val_loss: 2406.6238\n",
      "Epoch 30/500\n",
      "22/22 [==============================] - 0s 4ms/step - loss: 3293.4922 - val_loss: 2363.1721\n",
      "Epoch 31/500\n",
      "22/22 [==============================] - 0s 11ms/step - loss: 3235.9470 - val_loss: 2320.4319\n",
      "Epoch 32/500\n",
      "22/22 [==============================] - 0s 5ms/step - loss: 3179.2063 - val_loss: 2278.3875\n",
      "Epoch 33/500\n",
      "22/22 [==============================] - 0s 6ms/step - loss: 3123.2537 - val_loss: 2237.0249\n",
      "Epoch 34/500\n",
      "22/22 [==============================] - 0s 3ms/step - loss: 3068.0745 - val_loss: 2196.3325\n",
      "Epoch 35/500\n",
      "22/22 [==============================] - 0s 5ms/step - loss: 3013.6531 - val_loss: 2156.2993\n",
      "Epoch 36/500\n",
      "22/22 [==============================] - 0s 6ms/step - loss: 2959.9780 - val_loss: 2116.9138\n",
      "Epoch 37/500\n",
      "22/22 [==============================] - 0s 5ms/step - loss: 2907.0383 - val_loss: 2078.1670\n",
      "Epoch 38/500\n",
      "22/22 [==============================] - 0s 4ms/step - loss: 2854.8232 - val_loss: 2040.0509\n",
      "Epoch 39/500\n",
      "22/22 [==============================] - 0s 4ms/step - loss: 2803.3230 - val_loss: 2002.5553\n",
      "Epoch 40/500\n",
      "22/22 [==============================] - 0s 5ms/step - loss: 2752.5269 - val_loss: 1965.6736\n",
      "Epoch 41/500\n",
      "22/22 [==============================] - 0s 4ms/step - loss: 2702.4275 - val_loss: 1929.3964\n",
      "Epoch 42/500\n",
      "22/22 [==============================] - 0s 6ms/step - loss: 2653.0156 - val_loss: 1893.7170\n",
      "Epoch 43/500\n",
      "22/22 [==============================] - 0s 4ms/step - loss: 2604.2832 - val_loss: 1858.6294\n",
      "Epoch 44/500\n",
      "22/22 [==============================] - 0s 5ms/step - loss: 2556.2222 - val_loss: 1824.1243\n",
      "Epoch 45/500\n",
      "22/22 [==============================] - 0s 5ms/step - loss: 2508.8254 - val_loss: 1790.1963\n",
      "Epoch 46/500\n",
      "22/22 [==============================] - 0s 5ms/step - loss: 2462.0845 - val_loss: 1756.8387\n",
      "Epoch 47/500\n",
      "22/22 [==============================] - 0s 5ms/step - loss: 2415.9929 - val_loss: 1724.0447\n",
      "Epoch 48/500\n",
      "22/22 [==============================] - 0s 5ms/step - loss: 2370.5442 - val_loss: 1691.8082\n",
      "Epoch 49/500\n",
      "22/22 [==============================] - 0s 5ms/step - loss: 2325.7312 - val_loss: 1660.1232\n",
      "Epoch 50/500\n",
      "22/22 [==============================] - 0s 5ms/step - loss: 2281.5474 - val_loss: 1628.9834\n",
      "Epoch 51/500\n",
      "22/22 [==============================] - 0s 5ms/step - loss: 2237.9856 - val_loss: 1598.3834\n",
      "Epoch 52/500\n",
      "22/22 [==============================] - 0s 5ms/step - loss: 2195.0405 - val_loss: 1568.3160\n",
      "Epoch 53/500\n",
      "22/22 [==============================] - 0s 5ms/step - loss: 2152.7043 - val_loss: 1538.7772\n",
      "Epoch 54/500\n",
      "22/22 [==============================] - 0s 5ms/step - loss: 2110.9722 - val_loss: 1509.7598\n",
      "Epoch 55/500\n",
      "22/22 [==============================] - 0s 7ms/step - loss: 2069.8376 - val_loss: 1481.2598\n",
      "Epoch 56/500\n",
      "22/22 [==============================] - 0s 4ms/step - loss: 2029.2954 - val_loss: 1453.2706\n",
      "Epoch 57/500\n",
      "22/22 [==============================] - 0s 4ms/step - loss: 1989.3379 - val_loss: 1425.7865\n",
      "Epoch 58/500\n",
      "22/22 [==============================] - 0s 4ms/step - loss: 1949.9615 - val_loss: 1398.8031\n",
      "Epoch 59/500\n",
      "22/22 [==============================] - 0s 6ms/step - loss: 1911.1598 - val_loss: 1372.3147\n",
      "Epoch 60/500\n",
      "22/22 [==============================] - 0s 6ms/step - loss: 1872.9263 - val_loss: 1346.3158\n",
      "Epoch 61/500\n",
      "22/22 [==============================] - 0s 4ms/step - loss: 1835.2559 - val_loss: 1320.8015\n",
      "Epoch 62/500\n",
      "22/22 [==============================] - 0s 4ms/step - loss: 1798.1434 - val_loss: 1295.7666\n",
      "Epoch 63/500\n",
      "22/22 [==============================] - 0s 4ms/step - loss: 1761.5829 - val_loss: 1271.2059\n",
      "Epoch 64/500\n",
      "22/22 [==============================] - 0s 5ms/step - loss: 1725.5701 - val_loss: 1247.1146\n",
      "Epoch 65/500\n",
      "22/22 [==============================] - 0s 6ms/step - loss: 1690.0977 - val_loss: 1223.4877\n",
      "Epoch 66/500\n",
      "22/22 [==============================] - 0s 6ms/step - loss: 1655.1625 - val_loss: 1200.3191\n",
      "Epoch 67/500\n",
      "22/22 [==============================] - 0s 5ms/step - loss: 1620.7581 - val_loss: 1177.6058\n",
      "Epoch 68/500\n",
      "22/22 [==============================] - 0s 5ms/step - loss: 1586.8796 - val_loss: 1155.3417\n",
      "Epoch 69/500\n",
      "22/22 [==============================] - 0s 4ms/step - loss: 1553.5219 - val_loss: 1133.5219\n",
      "Epoch 70/500\n",
      "22/22 [==============================] - 0s 6ms/step - loss: 1520.6794 - val_loss: 1112.1420\n",
      "Epoch 71/500\n",
      "22/22 [==============================] - 0s 4ms/step - loss: 1488.3480 - val_loss: 1091.1976\n",
      "Epoch 72/500\n",
      "22/22 [==============================] - 0s 4ms/step - loss: 1456.5227 - val_loss: 1070.6829\n",
      "Epoch 73/500\n",
      "22/22 [==============================] - 0s 8ms/step - loss: 1425.1974 - val_loss: 1050.5938\n",
      "Epoch 74/500\n",
      "22/22 [==============================] - 0s 4ms/step - loss: 1394.3679 - val_loss: 1030.9255\n",
      "Epoch 75/500\n",
      "22/22 [==============================] - 0s 5ms/step - loss: 1364.0302 - val_loss: 1011.6741\n",
      "Epoch 76/500\n",
      "22/22 [==============================] - 0s 5ms/step - loss: 1334.1780 - val_loss: 992.8336\n",
      "Epoch 77/500\n",
      "22/22 [==============================] - 0s 11ms/step - loss: 1304.8066 - val_loss: 974.4006\n",
      "Epoch 78/500\n",
      "22/22 [==============================] - 0s 7ms/step - loss: 1275.9120 - val_loss: 956.3692\n",
      "Epoch 79/500\n",
      "22/22 [==============================] - 0s 5ms/step - loss: 1247.4891 - val_loss: 938.7362\n",
      "Epoch 80/500\n",
      "22/22 [==============================] - 0s 4ms/step - loss: 1219.5336 - val_loss: 921.4966\n",
      "Epoch 81/500\n",
      "22/22 [==============================] - 0s 4ms/step - loss: 1192.0400 - val_loss: 904.6453\n",
      "Epoch 82/500\n",
      "22/22 [==============================] - 0s 5ms/step - loss: 1165.0039 - val_loss: 888.1788\n",
      "Epoch 83/500\n",
      "22/22 [==============================] - 0s 7ms/step - loss: 1138.4213 - val_loss: 872.0920\n",
      "Epoch 84/500\n",
      "22/22 [==============================] - 0s 4ms/step - loss: 1112.2866 - val_loss: 856.3807\n",
      "Epoch 85/500\n",
      "22/22 [==============================] - 0s 5ms/step - loss: 1086.5956 - val_loss: 841.0401\n",
      "Epoch 86/500\n",
      "22/22 [==============================] - 0s 4ms/step - loss: 1061.3436 - val_loss: 826.0662\n",
      "Epoch 87/500\n",
      "22/22 [==============================] - 0s 4ms/step - loss: 1036.5269 - val_loss: 811.4540\n",
      "Epoch 88/500\n",
      "22/22 [==============================] - 0s 4ms/step - loss: 1012.1398 - val_loss: 797.2003\n",
      "Epoch 89/500\n",
      "22/22 [==============================] - 0s 4ms/step - loss: 988.1790 - val_loss: 783.2998\n",
      "Epoch 90/500\n",
      "22/22 [==============================] - 0s 4ms/step - loss: 964.6393 - val_loss: 769.7484\n",
      "Epoch 91/500\n",
      "22/22 [==============================] - 0s 4ms/step - loss: 941.5160 - val_loss: 756.5416\n",
      "Epoch 92/500\n",
      "22/22 [==============================] - 0s 5ms/step - loss: 918.8052 - val_loss: 743.6754\n",
      "Epoch 93/500\n",
      "22/22 [==============================] - 0s 7ms/step - loss: 896.5021 - val_loss: 731.1453\n",
      "Epoch 94/500\n",
      "22/22 [==============================] - 0s 5ms/step - loss: 874.6028 - val_loss: 718.9471\n",
      "Epoch 95/500\n",
      "22/22 [==============================] - 0s 5ms/step - loss: 853.1023 - val_loss: 707.0765\n",
      "Epoch 96/500\n",
      "22/22 [==============================] - 0s 5ms/step - loss: 831.9967 - val_loss: 695.5293\n",
      "Epoch 97/500\n",
      "22/22 [==============================] - 0s 4ms/step - loss: 811.2818 - val_loss: 684.3010\n",
      "Epoch 98/500\n",
      "22/22 [==============================] - 0s 8ms/step - loss: 790.9526 - val_loss: 673.3881\n",
      "Epoch 99/500\n",
      "22/22 [==============================] - 0s 7ms/step - loss: 771.0059 - val_loss: 662.7858\n",
      "Epoch 100/500\n",
      "22/22 [==============================] - 0s 5ms/step - loss: 751.4365 - val_loss: 652.4897\n",
      "Epoch 101/500\n",
      "22/22 [==============================] - 0s 5ms/step - loss: 732.2401 - val_loss: 642.4958\n",
      "Epoch 102/500\n",
      "22/22 [==============================] - 0s 7ms/step - loss: 713.4128 - val_loss: 632.8000\n",
      "Epoch 103/500\n",
      "22/22 [==============================] - 0s 8ms/step - loss: 694.9504 - val_loss: 623.3984\n",
      "Epoch 104/500\n",
      "22/22 [==============================] - 0s 6ms/step - loss: 676.8489 - val_loss: 614.2867\n",
      "Epoch 105/500\n",
      "22/22 [==============================] - 0s 11ms/step - loss: 659.1033 - val_loss: 605.4603\n",
      "Epoch 106/500\n",
      "22/22 [==============================] - 0s 9ms/step - loss: 641.7099 - val_loss: 596.9156\n",
      "Epoch 107/500\n",
      "22/22 [==============================] - 0s 5ms/step - loss: 624.6647 - val_loss: 588.6481\n",
      "Epoch 108/500\n",
      "22/22 [==============================] - 0s 4ms/step - loss: 607.9633 - val_loss: 580.6537\n",
      "Epoch 109/500\n",
      "22/22 [==============================] - 0s 4ms/step - loss: 591.6014 - val_loss: 572.9288\n",
      "Epoch 110/500\n",
      "22/22 [==============================] - 0s 4ms/step - loss: 575.5752 - val_loss: 565.4691\n",
      "Epoch 111/500\n",
      "22/22 [==============================] - 0s 5ms/step - loss: 559.8807 - val_loss: 558.2700\n",
      "Epoch 112/500\n",
      "22/22 [==============================] - 0s 5ms/step - loss: 544.5131 - val_loss: 551.3281\n",
      "Epoch 113/500\n",
      "22/22 [==============================] - 0s 4ms/step - loss: 529.4688 - val_loss: 544.6387\n",
      "Epoch 114/500\n",
      "22/22 [==============================] - 0s 4ms/step - loss: 514.7434 - val_loss: 538.1983\n",
      "Epoch 115/500\n",
      "22/22 [==============================] - 0s 4ms/step - loss: 500.3333 - val_loss: 532.0024\n",
      "Epoch 116/500\n",
      "22/22 [==============================] - 0s 7ms/step - loss: 486.2340 - val_loss: 526.0471\n",
      "Epoch 117/500\n",
      "22/22 [==============================] - 0s 5ms/step - loss: 472.4417 - val_loss: 520.3286\n",
      "Epoch 118/500\n",
      "22/22 [==============================] - 0s 5ms/step - loss: 458.9523 - val_loss: 514.8427\n",
      "Epoch 119/500\n",
      "22/22 [==============================] - 0s 4ms/step - loss: 445.7619 - val_loss: 509.5852\n",
      "Epoch 120/500\n",
      "22/22 [==============================] - 0s 5ms/step - loss: 432.8659 - val_loss: 504.5526\n",
      "Epoch 121/500\n",
      "22/22 [==============================] - 0s 4ms/step - loss: 420.2609 - val_loss: 499.7404\n",
      "Epoch 122/500\n",
      "22/22 [==============================] - 0s 3ms/step - loss: 407.9427 - val_loss: 495.1448\n",
      "Epoch 123/500\n",
      "22/22 [==============================] - 0s 4ms/step - loss: 395.9073 - val_loss: 490.7618\n",
      "Epoch 124/500\n",
      "22/22 [==============================] - 0s 4ms/step - loss: 384.1508 - val_loss: 486.5876\n",
      "Epoch 125/500\n",
      "22/22 [==============================] - 0s 4ms/step - loss: 372.6693 - val_loss: 482.6182\n",
      "Epoch 126/500\n",
      "22/22 [==============================] - 0s 6ms/step - loss: 361.4588 - val_loss: 478.8495\n",
      "Epoch 127/500\n",
      "22/22 [==============================] - 0s 12ms/step - loss: 350.5154 - val_loss: 475.2777\n",
      "Epoch 128/500\n",
      "22/22 [==============================] - 0s 5ms/step - loss: 339.8350 - val_loss: 471.8987\n",
      "Epoch 129/500\n",
      "22/22 [==============================] - 0s 4ms/step - loss: 329.4139 - val_loss: 468.7089\n",
      "Epoch 130/500\n",
      "22/22 [==============================] - 0s 4ms/step - loss: 319.2483 - val_loss: 465.7040\n",
      "Epoch 131/500\n",
      "22/22 [==============================] - 0s 6ms/step - loss: 309.3335 - val_loss: 462.8804\n",
      "Epoch 132/500\n",
      "22/22 [==============================] - 0s 7ms/step - loss: 299.6664 - val_loss: 460.2342\n",
      "Epoch 133/500\n",
      "22/22 [==============================] - 0s 6ms/step - loss: 290.2433 - val_loss: 457.7616\n",
      "Epoch 134/500\n",
      "22/22 [==============================] - 0s 12ms/step - loss: 281.0599 - val_loss: 455.4586\n",
      "Epoch 135/500\n",
      "22/22 [==============================] - 0s 15ms/step - loss: 272.1126 - val_loss: 453.3215\n",
      "Epoch 136/500\n",
      "22/22 [==============================] - 0s 7ms/step - loss: 263.3979 - val_loss: 451.3463\n",
      "Epoch 137/500\n",
      "22/22 [==============================] - 0s 8ms/step - loss: 254.9112 - val_loss: 449.5293\n",
      "Epoch 138/500\n",
      "22/22 [==============================] - 0s 7ms/step - loss: 246.6492 - val_loss: 447.8668\n",
      "Epoch 139/500\n",
      "22/22 [==============================] - 0s 7ms/step - loss: 238.6081 - val_loss: 446.3550\n",
      "Epoch 140/500\n",
      "22/22 [==============================] - 0s 9ms/step - loss: 230.7839 - val_loss: 444.9899\n",
      "Epoch 141/500\n",
      "22/22 [==============================] - 0s 6ms/step - loss: 223.1731 - val_loss: 443.7681\n",
      "Epoch 142/500\n",
      "22/22 [==============================] - 0s 7ms/step - loss: 215.7719 - val_loss: 442.6857\n",
      "Epoch 143/500\n",
      "22/22 [==============================] - 0s 7ms/step - loss: 208.5766 - val_loss: 441.7390\n",
      "Epoch 144/500\n",
      "22/22 [==============================] - 0s 9ms/step - loss: 201.5836 - val_loss: 440.9243\n",
      "Epoch 145/500\n",
      "22/22 [==============================] - 0s 7ms/step - loss: 194.7890 - val_loss: 440.2379\n",
      "Epoch 146/500\n",
      "22/22 [==============================] - 0s 7ms/step - loss: 188.1894 - val_loss: 439.6764\n",
      "Epoch 147/500\n",
      "22/22 [==============================] - 0s 6ms/step - loss: 181.7809 - val_loss: 439.2358\n",
      "Epoch 148/500\n",
      "22/22 [==============================] - 0s 5ms/step - loss: 175.5600 - val_loss: 438.9130\n",
      "Epoch 149/500\n",
      "22/22 [==============================] - 0s 5ms/step - loss: 169.5232 - val_loss: 438.7039\n",
      "Epoch 150/500\n",
      "22/22 [==============================] - 0s 4ms/step - loss: 163.6666 - val_loss: 438.6052\n",
      "Epoch 151/500\n",
      "22/22 [==============================] - 0s 4ms/step - loss: 157.9870 - val_loss: 438.6134\n",
      "Epoch 152/500\n",
      "22/22 [==============================] - 0s 13ms/step - loss: 152.4807 - val_loss: 438.7249\n",
      "Epoch 153/500\n",
      "22/22 [==============================] - 0s 10ms/step - loss: 147.1440 - val_loss: 438.9363\n",
      "Epoch 154/500\n",
      "22/22 [==============================] - 0s 4ms/step - loss: 141.9736 - val_loss: 439.2441\n",
      "Epoch 155/500\n",
      "22/22 [==============================] - 0s 4ms/step - loss: 136.9662 - val_loss: 439.6448\n",
      "Epoch 156/500\n",
      "22/22 [==============================] - 0s 5ms/step - loss: 132.1182 - val_loss: 440.1353\n",
      "Epoch 157/500\n",
      "22/22 [==============================] - 0s 5ms/step - loss: 127.4260 - val_loss: 440.7118\n",
      "Epoch 158/500\n",
      "22/22 [==============================] - 0s 8ms/step - loss: 122.8862 - val_loss: 441.3713\n",
      "Epoch 159/500\n",
      "22/22 [==============================] - 0s 6ms/step - loss: 118.4955 - val_loss: 442.1105\n",
      "Epoch 160/500\n",
      "22/22 [==============================] - 0s 10ms/step - loss: 114.2507 - val_loss: 442.9260\n",
      "Epoch 161/500\n",
      "22/22 [==============================] - 0s 9ms/step - loss: 110.1485 - val_loss: 443.8144\n",
      "Epoch 162/500\n",
      "22/22 [==============================] - 0s 8ms/step - loss: 106.1854 - val_loss: 444.7730\n",
      "Epoch 163/500\n",
      "22/22 [==============================] - 0s 10ms/step - loss: 102.3583 - val_loss: 445.7981\n",
      "Epoch 164/500\n",
      "22/22 [==============================] - 0s 7ms/step - loss: 98.6639 - val_loss: 446.8870\n",
      "Epoch 165/500\n",
      "22/22 [==============================] - 0s 6ms/step - loss: 95.0988 - val_loss: 448.0362\n",
      "Epoch 166/500\n",
      "22/22 [==============================] - 0s 7ms/step - loss: 91.6602 - val_loss: 449.2429\n",
      "Epoch 167/500\n",
      "22/22 [==============================] - 0s 16ms/step - loss: 88.3447 - val_loss: 450.5042\n",
      "Epoch 168/500\n",
      "22/22 [==============================] - 0s 8ms/step - loss: 85.1492 - val_loss: 451.8170\n",
      "Epoch 169/500\n",
      "22/22 [==============================] - 0s 7ms/step - loss: 82.0707 - val_loss: 453.1783\n",
      "Epoch 170/500\n",
      "22/22 [==============================] - 0s 6ms/step - loss: 79.1061 - val_loss: 454.5855\n",
      "Epoch 171/500\n",
      "22/22 [==============================] - 0s 4ms/step - loss: 76.2523 - val_loss: 456.0354\n",
      "Epoch 172/500\n",
      "22/22 [==============================] - 0s 5ms/step - loss: 73.5065 - val_loss: 457.5254\n",
      "Epoch 173/500\n",
      "22/22 [==============================] - 0s 5ms/step - loss: 70.8656 - val_loss: 459.0527\n",
      "Epoch 174/500\n",
      "22/22 [==============================] - 0s 6ms/step - loss: 68.3269 - val_loss: 460.6148\n",
      "Epoch 175/500\n",
      "22/22 [==============================] - 0s 6ms/step - loss: 65.8873 - val_loss: 462.2088\n",
      "Epoch 176/500\n",
      "22/22 [==============================] - 0s 6ms/step - loss: 63.5441 - val_loss: 463.8322\n",
      "Epoch 177/500\n",
      "22/22 [==============================] - 0s 6ms/step - loss: 61.2946 - val_loss: 465.4825\n",
      "Epoch 178/500\n",
      "22/22 [==============================] - 0s 7ms/step - loss: 59.1360 - val_loss: 467.1570\n",
      "Epoch 179/500\n",
      "22/22 [==============================] - 0s 9ms/step - loss: 57.0655 - val_loss: 468.8534\n",
      "Epoch 180/500\n",
      "22/22 [==============================] - 0s 5ms/step - loss: 55.0804 - val_loss: 470.5693\n",
      "Epoch 181/500\n",
      "22/22 [==============================] - 0s 5ms/step - loss: 53.1783 - val_loss: 472.3022\n",
      "Epoch 182/500\n",
      "22/22 [==============================] - 0s 5ms/step - loss: 51.3566 - val_loss: 474.0501\n",
      "Epoch 183/500\n",
      "22/22 [==============================] - 0s 13ms/step - loss: 49.6125 - val_loss: 475.8109\n",
      "Epoch 184/500\n",
      "22/22 [==============================] - 0s 7ms/step - loss: 47.9436 - val_loss: 477.5818\n",
      "Epoch 185/500\n",
      "22/22 [==============================] - 0s 8ms/step - loss: 46.3477 - val_loss: 479.3612\n",
      "Epoch 186/500\n",
      "22/22 [==============================] - 0s 9ms/step - loss: 44.8220 - val_loss: 481.1467\n",
      "Epoch 187/500\n",
      "22/22 [==============================] - 0s 8ms/step - loss: 43.3643 - val_loss: 482.9367\n",
      "Epoch 188/500\n",
      "22/22 [==============================] - 0s 10ms/step - loss: 41.9724 - val_loss: 484.7289\n",
      "Epoch 189/500\n",
      "22/22 [==============================] - 0s 6ms/step - loss: 40.6438 - val_loss: 486.5218\n",
      "Epoch 190/500\n",
      "22/22 [==============================] - 0s 7ms/step - loss: 39.3764 - val_loss: 488.3130\n",
      "Epoch 191/500\n",
      "22/22 [==============================] - 0s 9ms/step - loss: 38.1681 - val_loss: 490.1012\n",
      "Epoch 192/500\n",
      "22/22 [==============================] - 0s 8ms/step - loss: 37.0165 - val_loss: 491.8845\n",
      "Epoch 193/500\n",
      "22/22 [==============================] - 0s 8ms/step - loss: 35.9197 - val_loss: 493.6616\n",
      "Epoch 194/500\n",
      "22/22 [==============================] - 0s 8ms/step - loss: 34.8757 - val_loss: 495.4304\n",
      "Epoch 195/500\n",
      "22/22 [==============================] - 0s 7ms/step - loss: 33.8824 - val_loss: 497.1896\n",
      "Epoch 196/500\n",
      "22/22 [==============================] - 0s 7ms/step - loss: 32.9379 - val_loss: 498.9376\n",
      "Epoch 197/500\n",
      "22/22 [==============================] - 0s 13ms/step - loss: 32.0404 - val_loss: 500.6731\n",
      "Epoch 198/500\n",
      "22/22 [==============================] - 0s 7ms/step - loss: 31.1879 - val_loss: 502.3949\n",
      "Epoch 199/500\n",
      "22/22 [==============================] - 0s 6ms/step - loss: 30.3786 - val_loss: 504.1014\n",
      "Epoch 200/500\n",
      "22/22 [==============================] - 0s 7ms/step - loss: 29.6107 - val_loss: 505.7917\n",
      "Epoch 201/500\n",
      "22/22 [==============================] - 0s 6ms/step - loss: 28.8826 - val_loss: 507.4647\n",
      "Epoch 202/500\n",
      "22/22 [==============================] - 0s 5ms/step - loss: 28.1926 - val_loss: 509.1190\n",
      "Epoch 203/500\n",
      "22/22 [==============================] - 0s 5ms/step - loss: 27.5390 - val_loss: 510.7537\n",
      "Epoch 204/500\n",
      "22/22 [==============================] - 0s 5ms/step - loss: 26.9204 - val_loss: 512.3679\n",
      "Epoch 205/500\n",
      "22/22 [==============================] - 0s 7ms/step - loss: 26.3350 - val_loss: 513.9605\n",
      "Epoch 206/500\n",
      "22/22 [==============================] - 0s 6ms/step - loss: 25.7816 - val_loss: 515.5308\n",
      "Epoch 207/500\n",
      "22/22 [==============================] - 0s 8ms/step - loss: 25.2586 - val_loss: 517.0778\n",
      "Epoch 208/500\n",
      "22/22 [==============================] - 0s 9ms/step - loss: 24.7647 - val_loss: 518.6011\n",
      "Epoch 209/500\n",
      "22/22 [==============================] - 0s 5ms/step - loss: 24.2984 - val_loss: 520.0994\n",
      "Epoch 210/500\n",
      "22/22 [==============================] - 0s 4ms/step - loss: 23.8587 - val_loss: 521.5726\n",
      "Epoch 211/500\n",
      "22/22 [==============================] - 0s 4ms/step - loss: 23.4441 - val_loss: 523.0201\n",
      "Epoch 212/500\n",
      "22/22 [==============================] - 0s 8ms/step - loss: 23.0534 - val_loss: 524.4413\n",
      "Epoch 213/500\n",
      "22/22 [==============================] - 0s 5ms/step - loss: 22.6855 - val_loss: 525.8356\n",
      "Epoch 214/500\n",
      "22/22 [==============================] - 0s 6ms/step - loss: 22.3393 - val_loss: 527.2023\n",
      "Epoch 215/500\n",
      "22/22 [==============================] - 0s 6ms/step - loss: 22.0136 - val_loss: 528.5416\n",
      "Epoch 216/500\n",
      "22/22 [==============================] - 0s 9ms/step - loss: 21.7075 - val_loss: 529.8533\n",
      "Epoch 217/500\n",
      "22/22 [==============================] - 0s 9ms/step - loss: 21.4199 - val_loss: 531.1368\n",
      "Epoch 218/500\n",
      "22/22 [==============================] - 0s 8ms/step - loss: 21.1498 - val_loss: 532.3917\n",
      "Epoch 219/500\n",
      "22/22 [==============================] - 0s 7ms/step - loss: 20.8963 - val_loss: 533.6179\n",
      "Epoch 220/500\n",
      "22/22 [==============================] - 0s 7ms/step - loss: 20.6586 - val_loss: 534.8152\n",
      "Epoch 221/500\n",
      "22/22 [==============================] - 0s 7ms/step - loss: 20.4358 - val_loss: 535.9836\n",
      "Epoch 222/500\n",
      "22/22 [==============================] - 0s 9ms/step - loss: 20.2271 - val_loss: 537.1234\n",
      "Epoch 223/500\n",
      "22/22 [==============================] - 0s 6ms/step - loss: 20.0317 - val_loss: 538.2343\n",
      "Epoch 224/500\n",
      "22/22 [==============================] - 0s 7ms/step - loss: 19.8488 - val_loss: 539.3168\n",
      "Epoch 225/500\n",
      "22/22 [==============================] - 0s 6ms/step - loss: 19.6776 - val_loss: 540.3701\n",
      "Epoch 226/500\n",
      "22/22 [==============================] - 0s 6ms/step - loss: 19.5177 - val_loss: 541.3948\n",
      "Epoch 227/500\n",
      "22/22 [==============================] - 0s 5ms/step - loss: 19.3683 - val_loss: 542.3909\n",
      "Epoch 228/500\n",
      "22/22 [==============================] - 0s 12ms/step - loss: 19.2287 - val_loss: 543.3589\n",
      "Epoch 229/500\n",
      "22/22 [==============================] - 0s 7ms/step - loss: 19.0985 - val_loss: 544.2986\n",
      "Epoch 230/500\n",
      "22/22 [==============================] - 0s 7ms/step - loss: 18.9770 - val_loss: 545.2103\n",
      "Epoch 231/500\n",
      "22/22 [==============================] - 0s 8ms/step - loss: 18.8637 - val_loss: 546.0945\n",
      "Epoch 232/500\n",
      "22/22 [==============================] - 0s 9ms/step - loss: 18.7581 - val_loss: 546.9514\n",
      "Epoch 233/500\n",
      "22/22 [==============================] - 0s 6ms/step - loss: 18.6598 - val_loss: 547.7811\n",
      "Epoch 234/500\n",
      "22/22 [==============================] - 0s 6ms/step - loss: 18.5682 - val_loss: 548.5842\n",
      "Epoch 235/500\n",
      "22/22 [==============================] - 0s 6ms/step - loss: 18.4830 - val_loss: 549.3608\n",
      "Epoch 236/500\n",
      "22/22 [==============================] - 0s 5ms/step - loss: 18.4037 - val_loss: 550.1115\n",
      "Epoch 237/500\n",
      "22/22 [==============================] - 0s 8ms/step - loss: 18.3300 - val_loss: 550.8368\n",
      "Epoch 238/500\n",
      "22/22 [==============================] - 0s 7ms/step - loss: 18.2614 - val_loss: 551.5371\n",
      "Epoch 239/500\n",
      "22/22 [==============================] - 0s 6ms/step - loss: 18.1977 - val_loss: 552.2122\n",
      "Epoch 240/500\n",
      "22/22 [==============================] - 0s 5ms/step - loss: 18.1386 - val_loss: 552.8637\n",
      "Epoch 241/500\n",
      "22/22 [==============================] - 0s 9ms/step - loss: 18.0837 - val_loss: 553.4911\n",
      "Epoch 242/500\n",
      "22/22 [==============================] - 0s 4ms/step - loss: 18.0327 - val_loss: 554.0955\n",
      "Epoch 243/500\n",
      "22/22 [==============================] - 0s 6ms/step - loss: 17.9854 - val_loss: 554.6775\n",
      "Epoch 244/500\n",
      "22/22 [==============================] - 0s 9ms/step - loss: 17.9416 - val_loss: 555.2366\n",
      "Epoch 245/500\n",
      "22/22 [==============================] - 0s 4ms/step - loss: 17.9009 - val_loss: 555.7739\n",
      "Epoch 246/500\n",
      "22/22 [==============================] - 0s 4ms/step - loss: 17.8631 - val_loss: 556.2905\n",
      "Epoch 247/500\n",
      "22/22 [==============================] - 0s 5ms/step - loss: 17.8282 - val_loss: 556.7862\n",
      "Epoch 248/500\n",
      "22/22 [==============================] - 0s 6ms/step - loss: 17.7958 - val_loss: 557.2616\n",
      "Epoch 249/500\n",
      "22/22 [==============================] - 0s 7ms/step - loss: 17.7658 - val_loss: 557.7173\n",
      "Epoch 250/500\n",
      "22/22 [==============================] - 0s 6ms/step - loss: 17.7380 - val_loss: 558.1539\n",
      "Epoch 251/500\n",
      "22/22 [==============================] - 0s 11ms/step - loss: 17.7123 - val_loss: 558.5721\n",
      "Epoch 252/500\n",
      "22/22 [==============================] - 0s 6ms/step - loss: 17.6885 - val_loss: 558.9719\n",
      "Epoch 253/500\n",
      "22/22 [==============================] - 0s 8ms/step - loss: 17.6665 - val_loss: 559.3544\n",
      "Epoch 254/500\n",
      "22/22 [==============================] - 0s 8ms/step - loss: 17.6461 - val_loss: 559.7202\n",
      "Epoch 255/500\n",
      "22/22 [==============================] - 0s 11ms/step - loss: 17.6272 - val_loss: 560.0691\n",
      "Epoch 256/500\n",
      "22/22 [==============================] - 0s 8ms/step - loss: 17.6098 - val_loss: 560.4022\n",
      "Epoch 257/500\n",
      "22/22 [==============================] - 0s 7ms/step - loss: 17.5937 - val_loss: 560.7202\n",
      "Epoch 258/500\n",
      "22/22 [==============================] - 0s 7ms/step - loss: 17.5787 - val_loss: 561.0229\n",
      "Epoch 259/500\n",
      "22/22 [==============================] - 0s 8ms/step - loss: 17.5650 - val_loss: 561.3115\n",
      "Epoch 260/500\n",
      "22/22 [==============================] - 0s 7ms/step - loss: 17.5522 - val_loss: 561.5861\n",
      "Epoch 261/500\n",
      "22/22 [==============================] - 0s 7ms/step - loss: 17.5404 - val_loss: 561.8470\n",
      "Epoch 262/500\n",
      "22/22 [==============================] - 0s 6ms/step - loss: 17.5295 - val_loss: 562.0952\n",
      "Epoch 263/500\n",
      "22/22 [==============================] - 0s 6ms/step - loss: 17.5195 - val_loss: 562.3308\n",
      "Epoch 264/500\n",
      "22/22 [==============================] - 0s 6ms/step - loss: 17.5102 - val_loss: 562.5544\n",
      "Epoch 265/500\n",
      "22/22 [==============================] - 0s 6ms/step - loss: 17.5017 - val_loss: 562.7668\n",
      "Epoch 266/500\n",
      "22/22 [==============================] - 0s 5ms/step - loss: 17.4938 - val_loss: 562.9681\n",
      "Epoch 267/500\n",
      "22/22 [==============================] - 0s 7ms/step - loss: 17.4864 - val_loss: 563.1590\n",
      "Epoch 268/500\n",
      "22/22 [==============================] - 0s 13ms/step - loss: 17.4797 - val_loss: 563.3394\n",
      "Epoch 269/500\n",
      "22/22 [==============================] - 0s 4ms/step - loss: 17.4736 - val_loss: 563.5102\n",
      "Epoch 270/500\n",
      "22/22 [==============================] - 0s 4ms/step - loss: 17.4679 - val_loss: 563.6719\n",
      "Epoch 271/500\n",
      "22/22 [==============================] - 0s 5ms/step - loss: 17.4626 - val_loss: 563.8245\n",
      "Epoch 272/500\n",
      "22/22 [==============================] - 0s 6ms/step - loss: 17.4577 - val_loss: 563.9685\n",
      "Epoch 273/500\n",
      "22/22 [==============================] - 0s 6ms/step - loss: 17.4533 - val_loss: 564.1041\n",
      "Epoch 274/500\n",
      "22/22 [==============================] - 0s 8ms/step - loss: 17.4492 - val_loss: 564.2323\n",
      "Epoch 275/500\n",
      "22/22 [==============================] - 0s 13ms/step - loss: 17.4455 - val_loss: 564.3528\n",
      "Epoch 276/500\n",
      "22/22 [==============================] - 0s 8ms/step - loss: 17.4421 - val_loss: 564.4662\n",
      "Epoch 277/500\n",
      "22/22 [==============================] - 0s 7ms/step - loss: 17.4389 - val_loss: 564.5732\n",
      "Epoch 278/500\n",
      "22/22 [==============================] - 0s 8ms/step - loss: 17.4360 - val_loss: 564.6735\n",
      "Epoch 279/500\n",
      "22/22 [==============================] - 0s 7ms/step - loss: 17.4334 - val_loss: 564.7678\n",
      "Epoch 280/500\n",
      "22/22 [==============================] - 0s 12ms/step - loss: 17.4310 - val_loss: 564.8561\n",
      "Epoch 281/500\n",
      "22/22 [==============================] - 0s 6ms/step - loss: 17.4289 - val_loss: 564.9389\n",
      "Epoch 282/500\n",
      "22/22 [==============================] - 0s 7ms/step - loss: 17.4270 - val_loss: 565.0167\n",
      "Epoch 283/500\n",
      "22/22 [==============================] - 0s 8ms/step - loss: 17.4251 - val_loss: 565.0897\n",
      "Epoch 284/500\n",
      "22/22 [==============================] - 0s 6ms/step - loss: 17.4235 - val_loss: 565.1575\n",
      "Epoch 285/500\n",
      "22/22 [==============================] - 0s 5ms/step - loss: 17.4221 - val_loss: 565.2211\n",
      "Epoch 286/500\n",
      "22/22 [==============================] - 0s 6ms/step - loss: 17.4208 - val_loss: 565.2805\n",
      "Epoch 287/500\n",
      "22/22 [==============================] - 0s 5ms/step - loss: 17.4197 - val_loss: 565.3356\n",
      "Epoch 288/500\n",
      "22/22 [==============================] - 0s 6ms/step - loss: 17.4187 - val_loss: 565.3868\n",
      "Epoch 289/500\n",
      "22/22 [==============================] - 0s 6ms/step - loss: 17.4178 - val_loss: 565.4353\n",
      "Epoch 290/500\n",
      "22/22 [==============================] - 0s 7ms/step - loss: 17.4170 - val_loss: 565.4798\n",
      "Epoch 291/500\n",
      "22/22 [==============================] - 0s 12ms/step - loss: 17.4164 - val_loss: 565.5214\n",
      "Epoch 292/500\n",
      "22/22 [==============================] - 0s 10ms/step - loss: 17.4158 - val_loss: 565.5599\n",
      "Epoch 293/500\n",
      "22/22 [==============================] - 0s 5ms/step - loss: 17.4153 - val_loss: 565.5959\n",
      "Epoch 294/500\n",
      "22/22 [==============================] - 0s 6ms/step - loss: 17.4149 - val_loss: 565.6290\n",
      "Epoch 295/500\n",
      "22/22 [==============================] - 0s 5ms/step - loss: 17.4147 - val_loss: 565.6599\n",
      "Epoch 296/500\n",
      "22/22 [==============================] - 0s 6ms/step - loss: 17.4144 - val_loss: 565.6882\n",
      "Epoch 297/500\n",
      "22/22 [==============================] - 0s 6ms/step - loss: 17.4142 - val_loss: 565.7144\n",
      "Epoch 298/500\n",
      "22/22 [==============================] - 0s 6ms/step - loss: 17.4141 - val_loss: 565.7385\n",
      "Epoch 299/500\n",
      "22/22 [==============================] - 0s 6ms/step - loss: 17.4141 - val_loss: 565.7609\n",
      "Epoch 300/500\n",
      "22/22 [==============================] - 0s 6ms/step - loss: 17.4141 - val_loss: 565.7814\n",
      "Epoch 301/500\n",
      "22/22 [==============================] - 0s 13ms/step - loss: 17.4142 - val_loss: 565.8002\n",
      "Epoch 302/500\n",
      "22/22 [==============================] - 0s 9ms/step - loss: 17.4143 - val_loss: 565.8171\n",
      "Epoch 303/500\n",
      "22/22 [==============================] - 0s 7ms/step - loss: 17.4144 - val_loss: 565.8329\n",
      "Epoch 304/500\n",
      "22/22 [==============================] - 0s 5ms/step - loss: 17.4147 - val_loss: 565.8478\n",
      "Epoch 305/500\n",
      "22/22 [==============================] - 0s 8ms/step - loss: 17.4149 - val_loss: 565.8608\n",
      "Epoch 306/500\n",
      "22/22 [==============================] - 0s 4ms/step - loss: 17.4152 - val_loss: 565.8728\n",
      "Epoch 307/500\n",
      "22/22 [==============================] - 0s 5ms/step - loss: 17.4154 - val_loss: 565.8835\n",
      "Epoch 308/500\n",
      "22/22 [==============================] - 0s 6ms/step - loss: 17.4158 - val_loss: 565.8934\n",
      "Epoch 309/500\n",
      "22/22 [==============================] - 0s 7ms/step - loss: 17.4162 - val_loss: 565.9026\n",
      "Epoch 310/500\n",
      "22/22 [==============================] - 0s 4ms/step - loss: 17.4166 - val_loss: 565.9108\n",
      "Epoch 311/500\n",
      "22/22 [==============================] - 0s 4ms/step - loss: 17.4169 - val_loss: 565.9177\n",
      "Epoch 312/500\n",
      "22/22 [==============================] - 0s 4ms/step - loss: 17.4174 - val_loss: 565.9244\n",
      "Epoch 313/500\n",
      "22/22 [==============================] - 0s 4ms/step - loss: 17.4178 - val_loss: 565.9301\n",
      "Epoch 314/500\n",
      "22/22 [==============================] - 0s 4ms/step - loss: 17.4183 - val_loss: 565.9351\n",
      "Epoch 315/500\n",
      "22/22 [==============================] - 0s 5ms/step - loss: 17.4188 - val_loss: 565.9399\n",
      "Epoch 316/500\n",
      "22/22 [==============================] - 0s 5ms/step - loss: 17.4193 - val_loss: 565.9439\n",
      "Epoch 317/500\n",
      "22/22 [==============================] - 0s 5ms/step - loss: 17.4198 - val_loss: 565.9475\n",
      "Epoch 318/500\n",
      "22/22 [==============================] - 0s 8ms/step - loss: 17.4203 - val_loss: 565.9503\n",
      "Epoch 319/500\n",
      "22/22 [==============================] - 0s 6ms/step - loss: 17.4209 - val_loss: 565.9525\n",
      "Epoch 320/500\n",
      "22/22 [==============================] - 0s 5ms/step - loss: 17.4215 - val_loss: 565.9551\n",
      "Epoch 321/500\n",
      "22/22 [==============================] - 0s 5ms/step - loss: 17.4220 - val_loss: 565.9565\n",
      "Epoch 322/500\n",
      "22/22 [==============================] - 0s 5ms/step - loss: 17.4226 - val_loss: 565.9579\n",
      "Epoch 323/500\n",
      "22/22 [==============================] - 0s 5ms/step - loss: 17.4231 - val_loss: 565.9593\n",
      "Epoch 324/500\n",
      "22/22 [==============================] - 0s 5ms/step - loss: 17.4237 - val_loss: 565.9600\n",
      "Epoch 325/500\n",
      "22/22 [==============================] - 0s 5ms/step - loss: 17.4243 - val_loss: 565.9604\n",
      "Epoch 326/500\n",
      "22/22 [==============================] - 0s 4ms/step - loss: 17.4249 - val_loss: 565.9609\n",
      "Epoch 327/500\n",
      "22/22 [==============================] - 0s 5ms/step - loss: 17.4255 - val_loss: 565.9612\n",
      "Epoch 328/500\n",
      "22/22 [==============================] - 0s 5ms/step - loss: 17.4261 - val_loss: 565.9612\n",
      "Epoch 329/500\n",
      "22/22 [==============================] - 0s 4ms/step - loss: 17.4267 - val_loss: 565.9612\n",
      "Epoch 330/500\n",
      "22/22 [==============================] - 0s 4ms/step - loss: 17.4273 - val_loss: 565.9611\n",
      "Epoch 331/500\n",
      "22/22 [==============================] - 0s 9ms/step - loss: 17.4278 - val_loss: 565.9603\n",
      "Epoch 332/500\n",
      "22/22 [==============================] - 0s 4ms/step - loss: 17.4285 - val_loss: 565.9597\n",
      "Epoch 333/500\n",
      "22/22 [==============================] - 0s 6ms/step - loss: 17.4290 - val_loss: 565.9588\n",
      "Epoch 334/500\n",
      "22/22 [==============================] - 0s 6ms/step - loss: 17.4296 - val_loss: 565.9578\n",
      "Epoch 335/500\n",
      "22/22 [==============================] - 0s 6ms/step - loss: 17.4302 - val_loss: 565.9569\n",
      "Epoch 336/500\n",
      "22/22 [==============================] - 0s 4ms/step - loss: 17.4308 - val_loss: 565.9557\n",
      "Epoch 337/500\n",
      "22/22 [==============================] - 0s 5ms/step - loss: 17.4314 - val_loss: 565.9545\n",
      "Epoch 338/500\n",
      "22/22 [==============================] - 0s 4ms/step - loss: 17.4320 - val_loss: 565.9534\n",
      "Epoch 339/500\n",
      "22/22 [==============================] - 0s 4ms/step - loss: 17.4326 - val_loss: 565.9525\n",
      "Epoch 340/500\n",
      "22/22 [==============================] - 0s 5ms/step - loss: 17.4332 - val_loss: 565.9509\n",
      "Epoch 341/500\n",
      "22/22 [==============================] - 0s 4ms/step - loss: 17.4338 - val_loss: 565.9497\n",
      "Epoch 342/500\n",
      "22/22 [==============================] - 0s 6ms/step - loss: 17.4343 - val_loss: 565.9485\n",
      "Epoch 343/500\n",
      "22/22 [==============================] - 0s 6ms/step - loss: 17.4348 - val_loss: 565.9467\n",
      "Epoch 344/500\n",
      "22/22 [==============================] - 0s 5ms/step - loss: 17.4354 - val_loss: 565.9452\n",
      "Epoch 345/500\n",
      "22/22 [==============================] - 0s 4ms/step - loss: 17.4360 - val_loss: 565.9435\n",
      "Epoch 346/500\n",
      "22/22 [==============================] - 0s 8ms/step - loss: 17.4366 - val_loss: 565.9417\n",
      "Epoch 347/500\n",
      "22/22 [==============================] - 0s 5ms/step - loss: 17.4371 - val_loss: 565.9401\n",
      "Epoch 348/500\n",
      "22/22 [==============================] - 0s 4ms/step - loss: 17.4377 - val_loss: 565.9382\n",
      "Epoch 349/500\n",
      "22/22 [==============================] - 0s 4ms/step - loss: 17.4383 - val_loss: 565.9370\n",
      "Epoch 350/500\n",
      "22/22 [==============================] - 0s 4ms/step - loss: 17.4388 - val_loss: 565.9351\n",
      "Epoch 351/500\n",
      "22/22 [==============================] - 0s 4ms/step - loss: 17.4394 - val_loss: 565.9333\n",
      "Epoch 352/500\n",
      "22/22 [==============================] - 0s 6ms/step - loss: 17.4399 - val_loss: 565.9315\n",
      "Epoch 353/500\n",
      "22/22 [==============================] - 0s 4ms/step - loss: 17.4404 - val_loss: 565.9301\n",
      "Epoch 354/500\n",
      "22/22 [==============================] - 0s 4ms/step - loss: 17.4409 - val_loss: 565.9283\n",
      "Epoch 355/500\n",
      "22/22 [==============================] - 0s 4ms/step - loss: 17.4415 - val_loss: 565.9268\n",
      "Epoch 356/500\n",
      "22/22 [==============================] - 0s 4ms/step - loss: 17.4420 - val_loss: 565.9252\n",
      "Epoch 357/500\n",
      "22/22 [==============================] - 0s 4ms/step - loss: 17.4425 - val_loss: 565.9232\n",
      "Epoch 358/500\n",
      "22/22 [==============================] - 0s 4ms/step - loss: 17.4430 - val_loss: 565.9218\n",
      "Epoch 359/500\n",
      "22/22 [==============================] - 0s 5ms/step - loss: 17.4435 - val_loss: 565.9202\n",
      "Epoch 360/500\n",
      "22/22 [==============================] - 0s 7ms/step - loss: 17.4440 - val_loss: 565.9188\n",
      "Epoch 361/500\n",
      "22/22 [==============================] - 0s 4ms/step - loss: 17.4445 - val_loss: 565.9173\n",
      "Epoch 362/500\n",
      "22/22 [==============================] - 0s 4ms/step - loss: 17.4449 - val_loss: 565.9154\n",
      "Epoch 363/500\n",
      "22/22 [==============================] - 0s 4ms/step - loss: 17.4454 - val_loss: 565.9139\n",
      "Epoch 364/500\n",
      "22/22 [==============================] - 0s 4ms/step - loss: 17.4459 - val_loss: 565.9121\n",
      "Epoch 365/500\n",
      "22/22 [==============================] - 0s 4ms/step - loss: 17.4464 - val_loss: 565.9106\n",
      "Epoch 366/500\n",
      "22/22 [==============================] - 0s 4ms/step - loss: 17.4468 - val_loss: 565.9091\n",
      "Epoch 367/500\n",
      "22/22 [==============================] - 0s 5ms/step - loss: 17.4473 - val_loss: 565.9075\n",
      "Epoch 368/500\n",
      "22/22 [==============================] - 0s 4ms/step - loss: 17.4477 - val_loss: 565.9062\n",
      "Epoch 369/500\n",
      "22/22 [==============================] - 0s 4ms/step - loss: 17.4482 - val_loss: 565.9048\n",
      "Epoch 370/500\n",
      "22/22 [==============================] - 0s 4ms/step - loss: 17.4486 - val_loss: 565.9034\n",
      "Epoch 371/500\n",
      "22/22 [==============================] - 0s 10ms/step - loss: 17.4490 - val_loss: 565.9019\n",
      "Epoch 372/500\n",
      "22/22 [==============================] - 0s 5ms/step - loss: 17.4495 - val_loss: 565.9005\n",
      "Epoch 373/500\n",
      "22/22 [==============================] - 0s 5ms/step - loss: 17.4499 - val_loss: 565.8991\n",
      "Epoch 374/500\n",
      "22/22 [==============================] - 0s 8ms/step - loss: 17.4503 - val_loss: 565.8975\n",
      "Epoch 375/500\n",
      "22/22 [==============================] - 0s 3ms/step - loss: 17.4507 - val_loss: 565.8963\n",
      "Epoch 376/500\n",
      "22/22 [==============================] - 0s 4ms/step - loss: 17.4511 - val_loss: 565.8947\n",
      "Epoch 377/500\n",
      "22/22 [==============================] - 0s 4ms/step - loss: 17.4515 - val_loss: 565.8929\n",
      "Epoch 378/500\n",
      "22/22 [==============================] - 0s 4ms/step - loss: 17.4519 - val_loss: 565.8919\n",
      "Epoch 379/500\n",
      "22/22 [==============================] - 0s 4ms/step - loss: 17.4523 - val_loss: 565.8902\n",
      "Epoch 380/500\n",
      "22/22 [==============================] - 0s 3ms/step - loss: 17.4527 - val_loss: 565.8889\n",
      "Epoch 381/500\n",
      "22/22 [==============================] - 0s 4ms/step - loss: 17.4530 - val_loss: 565.8872\n",
      "Epoch 382/500\n",
      "22/22 [==============================] - 0s 4ms/step - loss: 17.4534 - val_loss: 565.8860\n",
      "Epoch 383/500\n",
      "22/22 [==============================] - 0s 4ms/step - loss: 17.4538 - val_loss: 565.8848\n",
      "Epoch 384/500\n",
      "22/22 [==============================] - 0s 5ms/step - loss: 17.4542 - val_loss: 565.8837\n",
      "Epoch 385/500\n",
      "22/22 [==============================] - 0s 4ms/step - loss: 17.4545 - val_loss: 565.8823\n",
      "Epoch 386/500\n",
      "22/22 [==============================] - 0s 4ms/step - loss: 17.4549 - val_loss: 565.8813\n",
      "Epoch 387/500\n",
      "22/22 [==============================] - 0s 4ms/step - loss: 17.4552 - val_loss: 565.8802\n",
      "Epoch 388/500\n",
      "22/22 [==============================] - 0s 4ms/step - loss: 17.4555 - val_loss: 565.8790\n",
      "Epoch 389/500\n",
      "22/22 [==============================] - 0s 5ms/step - loss: 17.4559 - val_loss: 565.8781\n",
      "Epoch 390/500\n",
      "22/22 [==============================] - 0s 4ms/step - loss: 17.4563 - val_loss: 565.8771\n",
      "Epoch 391/500\n",
      "22/22 [==============================] - 0s 4ms/step - loss: 17.4566 - val_loss: 565.8761\n",
      "Epoch 392/500\n",
      "22/22 [==============================] - 0s 4ms/step - loss: 17.4569 - val_loss: 565.8750\n",
      "Epoch 393/500\n",
      "22/22 [==============================] - 0s 4ms/step - loss: 17.4571 - val_loss: 565.8735\n",
      "Epoch 394/500\n",
      "22/22 [==============================] - 0s 4ms/step - loss: 17.4575 - val_loss: 565.8727\n",
      "Epoch 395/500\n",
      "22/22 [==============================] - 0s 4ms/step - loss: 17.4578 - val_loss: 565.8716\n",
      "Epoch 396/500\n",
      "22/22 [==============================] - 0s 3ms/step - loss: 17.4581 - val_loss: 565.8703\n",
      "Epoch 397/500\n",
      "22/22 [==============================] - 0s 3ms/step - loss: 17.4584 - val_loss: 565.8694\n",
      "Epoch 398/500\n",
      "22/22 [==============================] - 0s 4ms/step - loss: 17.4586 - val_loss: 565.8683\n",
      "Epoch 399/500\n",
      "22/22 [==============================] - 0s 4ms/step - loss: 17.4590 - val_loss: 565.8671\n",
      "Epoch 400/500\n",
      "22/22 [==============================] - 0s 3ms/step - loss: 17.4592 - val_loss: 565.8665\n",
      "Epoch 401/500\n",
      "22/22 [==============================] - 0s 3ms/step - loss: 17.4595 - val_loss: 565.8660\n",
      "Epoch 402/500\n",
      "22/22 [==============================] - 0s 5ms/step - loss: 17.4598 - val_loss: 565.8646\n",
      "Epoch 403/500\n",
      "22/22 [==============================] - 0s 4ms/step - loss: 17.4600 - val_loss: 565.8636\n",
      "Epoch 404/500\n",
      "22/22 [==============================] - 0s 4ms/step - loss: 17.4603 - val_loss: 565.8629\n",
      "Epoch 405/500\n",
      "22/22 [==============================] - 0s 3ms/step - loss: 17.4606 - val_loss: 565.8619\n",
      "Epoch 406/500\n",
      "22/22 [==============================] - 0s 4ms/step - loss: 17.4608 - val_loss: 565.8613\n",
      "Epoch 407/500\n",
      "22/22 [==============================] - 0s 4ms/step - loss: 17.4611 - val_loss: 565.8603\n",
      "Epoch 408/500\n",
      "22/22 [==============================] - 0s 4ms/step - loss: 17.4613 - val_loss: 565.8596\n",
      "Epoch 409/500\n",
      "22/22 [==============================] - 0s 4ms/step - loss: 17.4615 - val_loss: 565.8589\n",
      "Epoch 410/500\n",
      "22/22 [==============================] - 0s 5ms/step - loss: 17.4617 - val_loss: 565.8581\n",
      "Epoch 411/500\n",
      "22/22 [==============================] - 0s 3ms/step - loss: 17.4620 - val_loss: 565.8572\n",
      "Epoch 412/500\n",
      "22/22 [==============================] - 0s 3ms/step - loss: 17.4622 - val_loss: 565.8565\n",
      "Epoch 413/500\n",
      "22/22 [==============================] - 0s 4ms/step - loss: 17.4625 - val_loss: 565.8557\n",
      "Epoch 414/500\n",
      "22/22 [==============================] - 0s 4ms/step - loss: 17.4627 - val_loss: 565.8550\n",
      "Epoch 415/500\n",
      "22/22 [==============================] - 0s 6ms/step - loss: 17.4628 - val_loss: 565.8541\n",
      "Epoch 416/500\n",
      "22/22 [==============================] - 0s 7ms/step - loss: 17.4631 - val_loss: 565.8531\n",
      "Epoch 417/500\n",
      "22/22 [==============================] - 0s 3ms/step - loss: 17.4634 - val_loss: 565.8529\n",
      "Epoch 418/500\n",
      "22/22 [==============================] - 0s 3ms/step - loss: 17.4635 - val_loss: 565.8522\n",
      "Epoch 419/500\n",
      "22/22 [==============================] - 0s 3ms/step - loss: 17.4637 - val_loss: 565.8514\n",
      "Epoch 420/500\n",
      "22/22 [==============================] - 0s 3ms/step - loss: 17.4639 - val_loss: 565.8510\n",
      "Epoch 421/500\n",
      "22/22 [==============================] - 0s 3ms/step - loss: 17.4641 - val_loss: 565.8505\n",
      "Epoch 422/500\n",
      "22/22 [==============================] - 0s 5ms/step - loss: 17.4642 - val_loss: 565.8496\n",
      "Epoch 423/500\n",
      "22/22 [==============================] - 0s 9ms/step - loss: 17.4645 - val_loss: 565.8488\n",
      "Epoch 424/500\n",
      "22/22 [==============================] - 0s 4ms/step - loss: 17.4646 - val_loss: 565.8479\n",
      "Epoch 425/500\n",
      "22/22 [==============================] - 0s 4ms/step - loss: 17.4648 - val_loss: 565.8470\n",
      "Epoch 426/500\n",
      "22/22 [==============================] - 0s 3ms/step - loss: 17.4650 - val_loss: 565.8464\n",
      "Epoch 427/500\n",
      "22/22 [==============================] - 0s 4ms/step - loss: 17.4651 - val_loss: 565.8457\n",
      "Epoch 428/500\n",
      "22/22 [==============================] - 0s 7ms/step - loss: 17.4653 - val_loss: 565.8451\n",
      "Epoch 429/500\n",
      "22/22 [==============================] - 0s 4ms/step - loss: 17.4655 - val_loss: 565.8446\n",
      "Epoch 430/500\n",
      "22/22 [==============================] - 0s 9ms/step - loss: 17.4657 - val_loss: 565.8442\n",
      "Epoch 431/500\n",
      "22/22 [==============================] - 0s 6ms/step - loss: 17.4658 - val_loss: 565.8433\n",
      "Epoch 432/500\n",
      "22/22 [==============================] - 0s 6ms/step - loss: 17.4659 - val_loss: 565.8425\n",
      "Epoch 433/500\n",
      "22/22 [==============================] - 0s 6ms/step - loss: 17.4661 - val_loss: 565.8418\n",
      "Epoch 434/500\n",
      "22/22 [==============================] - 0s 5ms/step - loss: 17.4663 - val_loss: 565.8414\n",
      "Epoch 435/500\n",
      "22/22 [==============================] - 0s 5ms/step - loss: 17.4664 - val_loss: 565.8410\n",
      "Epoch 436/500\n",
      "22/22 [==============================] - 0s 4ms/step - loss: 17.4666 - val_loss: 565.8405\n",
      "Epoch 437/500\n",
      "22/22 [==============================] - 0s 4ms/step - loss: 17.4667 - val_loss: 565.8399\n",
      "Epoch 438/500\n",
      "22/22 [==============================] - 0s 4ms/step - loss: 17.4669 - val_loss: 565.8398\n",
      "Epoch 439/500\n",
      "22/22 [==============================] - 0s 4ms/step - loss: 17.4670 - val_loss: 565.8391\n",
      "Epoch 440/500\n",
      "22/22 [==============================] - 0s 4ms/step - loss: 17.4671 - val_loss: 565.8385\n",
      "Epoch 441/500\n",
      "22/22 [==============================] - 0s 8ms/step - loss: 17.4672 - val_loss: 565.8379\n",
      "Epoch 442/500\n",
      "22/22 [==============================] - 0s 4ms/step - loss: 17.4674 - val_loss: 565.8372\n",
      "Epoch 443/500\n",
      "22/22 [==============================] - 0s 5ms/step - loss: 17.4676 - val_loss: 565.8370\n",
      "Epoch 444/500\n",
      "22/22 [==============================] - 0s 3ms/step - loss: 17.4676 - val_loss: 565.8366\n",
      "Epoch 445/500\n",
      "22/22 [==============================] - 0s 4ms/step - loss: 17.4678 - val_loss: 565.8361\n",
      "Epoch 446/500\n",
      "22/22 [==============================] - 0s 11ms/step - loss: 17.4679 - val_loss: 565.8354\n",
      "Epoch 447/500\n",
      "22/22 [==============================] - 0s 6ms/step - loss: 17.4680 - val_loss: 565.8350\n",
      "Epoch 448/500\n",
      "22/22 [==============================] - 0s 4ms/step - loss: 17.4681 - val_loss: 565.8348\n",
      "Epoch 449/500\n",
      "22/22 [==============================] - 0s 4ms/step - loss: 17.4682 - val_loss: 565.8340\n",
      "Epoch 450/500\n",
      "22/22 [==============================] - 0s 4ms/step - loss: 17.4683 - val_loss: 565.8336\n",
      "Epoch 451/500\n",
      "22/22 [==============================] - 0s 4ms/step - loss: 17.4684 - val_loss: 565.8330\n",
      "Epoch 452/500\n",
      "22/22 [==============================] - 0s 8ms/step - loss: 17.4686 - val_loss: 565.8326\n",
      "Epoch 453/500\n",
      "22/22 [==============================] - 0s 4ms/step - loss: 17.4687 - val_loss: 565.8325\n",
      "Epoch 454/500\n",
      "22/22 [==============================] - 0s 3ms/step - loss: 17.4688 - val_loss: 565.8322\n",
      "Epoch 455/500\n",
      "22/22 [==============================] - 0s 4ms/step - loss: 17.4689 - val_loss: 565.8318\n",
      "Epoch 456/500\n",
      "22/22 [==============================] - 0s 4ms/step - loss: 17.4690 - val_loss: 565.8316\n",
      "Epoch 457/500\n",
      "22/22 [==============================] - 0s 4ms/step - loss: 17.4691 - val_loss: 565.8313\n",
      "Epoch 458/500\n",
      "22/22 [==============================] - 0s 5ms/step - loss: 17.4691 - val_loss: 565.8310\n",
      "Epoch 459/500\n",
      "22/22 [==============================] - 0s 6ms/step - loss: 17.4692 - val_loss: 565.8308\n",
      "Epoch 460/500\n",
      "22/22 [==============================] - 0s 5ms/step - loss: 17.4693 - val_loss: 565.8305\n",
      "Epoch 461/500\n",
      "22/22 [==============================] - 0s 5ms/step - loss: 17.4694 - val_loss: 565.8301\n",
      "Epoch 462/500\n",
      "22/22 [==============================] - 0s 5ms/step - loss: 17.4695 - val_loss: 565.8298\n",
      "Epoch 463/500\n",
      "22/22 [==============================] - 0s 4ms/step - loss: 17.4696 - val_loss: 565.8297\n",
      "Epoch 464/500\n",
      "22/22 [==============================] - 0s 4ms/step - loss: 17.4696 - val_loss: 565.8292\n",
      "Epoch 465/500\n",
      "22/22 [==============================] - 0s 7ms/step - loss: 17.4698 - val_loss: 565.8290\n",
      "Epoch 466/500\n",
      "22/22 [==============================] - 0s 4ms/step - loss: 17.4698 - val_loss: 565.8288\n",
      "Epoch 467/500\n",
      "22/22 [==============================] - 0s 4ms/step - loss: 17.4699 - val_loss: 565.8281\n",
      "Epoch 468/500\n",
      "22/22 [==============================] - 0s 4ms/step - loss: 17.4699 - val_loss: 565.8279\n",
      "Epoch 469/500\n",
      "22/22 [==============================] - 0s 4ms/step - loss: 17.4700 - val_loss: 565.8275\n",
      "Epoch 470/500\n",
      "22/22 [==============================] - 0s 4ms/step - loss: 17.4701 - val_loss: 565.8273\n",
      "Epoch 471/500\n",
      "22/22 [==============================] - 0s 4ms/step - loss: 17.4702 - val_loss: 565.8272\n",
      "Epoch 472/500\n",
      "22/22 [==============================] - 0s 4ms/step - loss: 17.4702 - val_loss: 565.8264\n",
      "Epoch 473/500\n",
      "22/22 [==============================] - 0s 4ms/step - loss: 17.4703 - val_loss: 565.8264\n",
      "Epoch 474/500\n",
      "22/22 [==============================] - 0s 4ms/step - loss: 17.4704 - val_loss: 565.8260\n",
      "Epoch 475/500\n",
      "22/22 [==============================] - 0s 4ms/step - loss: 17.4704 - val_loss: 565.8256\n",
      "Epoch 476/500\n",
      "22/22 [==============================] - 0s 7ms/step - loss: 17.4705 - val_loss: 565.8254\n",
      "Epoch 477/500\n",
      "22/22 [==============================] - 0s 4ms/step - loss: 17.4705 - val_loss: 565.8251\n",
      "Epoch 478/500\n",
      "22/22 [==============================] - 0s 4ms/step - loss: 17.4706 - val_loss: 565.8250\n",
      "Epoch 479/500\n",
      "22/22 [==============================] - 0s 4ms/step - loss: 17.4706 - val_loss: 565.8245\n",
      "Epoch 480/500\n",
      "22/22 [==============================] - 0s 4ms/step - loss: 17.4707 - val_loss: 565.8245\n",
      "Epoch 481/500\n",
      "22/22 [==============================] - 0s 4ms/step - loss: 17.4708 - val_loss: 565.8240\n",
      "Epoch 482/500\n",
      "22/22 [==============================] - 0s 4ms/step - loss: 17.4709 - val_loss: 565.8239\n",
      "Epoch 483/500\n",
      "22/22 [==============================] - 0s 4ms/step - loss: 17.4709 - val_loss: 565.8240\n",
      "Epoch 484/500\n",
      "22/22 [==============================] - 0s 4ms/step - loss: 17.4710 - val_loss: 565.8239\n",
      "Epoch 485/500\n",
      "22/22 [==============================] - 0s 4ms/step - loss: 17.4710 - val_loss: 565.8237\n",
      "Epoch 486/500\n",
      "22/22 [==============================] - 0s 4ms/step - loss: 17.4711 - val_loss: 565.8234\n",
      "Epoch 487/500\n",
      "22/22 [==============================] - 0s 4ms/step - loss: 17.4711 - val_loss: 565.8232\n",
      "Epoch 488/500\n",
      "22/22 [==============================] - 0s 4ms/step - loss: 17.4712 - val_loss: 565.8232\n",
      "Epoch 489/500\n",
      "22/22 [==============================] - 0s 7ms/step - loss: 17.4712 - val_loss: 565.8232\n",
      "Epoch 490/500\n",
      "22/22 [==============================] - 0s 3ms/step - loss: 17.4713 - val_loss: 565.8230\n",
      "Epoch 491/500\n",
      "22/22 [==============================] - 0s 3ms/step - loss: 17.4713 - val_loss: 565.8224\n",
      "Epoch 492/500\n",
      "22/22 [==============================] - 0s 4ms/step - loss: 17.4714 - val_loss: 565.8221\n",
      "Epoch 493/500\n",
      "22/22 [==============================] - 0s 3ms/step - loss: 17.4714 - val_loss: 565.8217\n",
      "Epoch 494/500\n",
      "22/22 [==============================] - 0s 3ms/step - loss: 17.4715 - val_loss: 565.8214\n",
      "Epoch 495/500\n",
      "22/22 [==============================] - 0s 4ms/step - loss: 17.4716 - val_loss: 565.8216\n",
      "Epoch 496/500\n",
      "22/22 [==============================] - 0s 4ms/step - loss: 17.4716 - val_loss: 565.8214\n",
      "Epoch 497/500\n",
      "22/22 [==============================] - 0s 4ms/step - loss: 17.4716 - val_loss: 565.8213\n",
      "Epoch 498/500\n",
      "22/22 [==============================] - 0s 5ms/step - loss: 17.4716 - val_loss: 565.8209\n",
      "Epoch 499/500\n",
      "22/22 [==============================] - 0s 5ms/step - loss: 17.4717 - val_loss: 565.8207\n",
      "Epoch 500/500\n",
      "22/22 [==============================] - 0s 7ms/step - loss: 17.4717 - val_loss: 565.8206\n"
     ]
    }
   ],
   "source": [
    "C0 = tf.Variable(86.6856, name=\"C0\", trainable=True, dtype=tf.float32)\n",
    "K0 = tf.Variable(-0.0008, name=\"K0\", trainable=True, dtype=tf.float32)\n",
    "K1 = tf.Variable(-0.0002, name=\"K1\", trainable=True, dtype=tf.float32)\n",
    "a = tf.Variable(0.0000, name=\"a\", trainable=True, dtype=tf.float32)\n",
    "b = tf.Variable(0.0128, name=\"b\", trainable=True, dtype=tf.float32)\n",
    "c = tf.Variable(-2.3003, name=\"c\", trainable=True, dtype=tf.float32)\n",
    "\n",
    "splitr = 0.8\n",
    "\n",
    "\n",
    "def loss_fn(y_true, y_pred):\n",
    "    squared_difference = tf.square(y_true[:, 0] - y_pred[:, 0])\n",
    "    #squared_difference2 = tf.square(y_true[:, 2]-y_pred[:, 2])\n",
    "    #squared_difference1 = tf.square(y_true[:, 1]-y_pred[:, 1])\n",
    "    epsilon = 1\n",
    "    squared_difference3 = tf.square(\n",
    "        y_pred[:, 1] - (\n",
    "            y_pred[:, 0] * (\n",
    "                K0 - K1 * (\n",
    "                    9 * a * tf.math.log((y_pred[:, 0] + epsilon) / C0) / (K0 - K1 * c)**2 +\n",
    "                    4 * b * tf.math.log((y_pred[:, 0] + epsilon) / C0) / (K0 - K1 * c) + c\n",
    "                )\n",
    "            )\n",
    "        )\n",
    "    )\n",
    "    return tf.reduce_mean(squared_difference, axis=-1) + 0.2*tf.reduce_mean(squared_difference3, axis=-1)\n",
    "model = Sequential()\n",
    "model.add(LSTM(100, input_shape=(trainX.shape[1], trainX.shape[2])))\n",
    "model.add(Dense(60))\n",
    "model.compile(loss=loss_fn, optimizer='adam')\n",
    "history = model.fit(trainX[:int(splitr*trainX.shape[0])], trainy[:int(splitr*trainX.shape[0])], epochs=500, batch_size=64, validation_data=(trainX[int(splitr*trainX.shape[0]):trainX.shape[0]], trainy[int(splitr*trainX.shape[0]):trainX.shape[0]]), shuffle=False)"
   ]
  },
  {
   "cell_type": "code",
   "execution_count": 19,
   "metadata": {
    "colab": {
     "base_uri": "https://localhost:8080/"
    },
    "id": "yJL101rPyuoT",
    "outputId": "239ff2b1-c186-423a-d316-939dfdd7c793"
   },
   "outputs": [
    {
     "name": "stdout",
     "output_type": "stream",
     "text": [
      "1/1 [==============================] - 0s 350ms/step\n"
     ]
    }
   ],
   "source": [
    "forecast_without_mc = forecastX\n",
    "yhat_without_mc = model.predict(forecast_without_mc) # Step Ahead Prediction\n",
    "forecast_without_mc = forecast_without_mc.reshape((forecast_without_mc.shape[0], forecast_without_mc.shape[2])) # Historical Input"
   ]
  },
  {
   "cell_type": "code",
   "execution_count": 20,
   "metadata": {
    "colab": {
     "base_uri": "https://localhost:8080/"
    },
    "id": "g9dQELcJ8wbp",
    "outputId": "4dc7671b-b1a8-48d5-8744-a86f98446109"
   },
   "outputs": [
    {
     "data": {
      "text/plain": [
       "(1, 1, 251)"
      ]
     },
     "execution_count": 20,
     "metadata": {},
     "output_type": "execute_result"
    }
   ],
   "source": [
    "forecastX.shape"
   ]
  },
  {
   "cell_type": "code",
   "execution_count": 21,
   "metadata": {
    "colab": {
     "base_uri": "https://localhost:8080/"
    },
    "id": "IS2kyIKG1Kbr",
    "outputId": "f31b3485-8e26-452f-9298-ea8bf7e80ad1"
   },
   "outputs": [
    {
     "data": {
      "text/plain": [
       "(1, 251)"
      ]
     },
     "execution_count": 21,
     "metadata": {},
     "output_type": "execute_result"
    }
   ],
   "source": [
    "forecast_without_mc.shape"
   ]
  },
  {
   "cell_type": "code",
   "execution_count": 22,
   "metadata": {
    "id": "0u6VIzaDyuoT"
   },
   "outputs": [],
   "source": [
    "inv_yhat_without_mc = np.concatenate((forecast_without_mc, yhat_without_mc), axis=1) # Concatenation of predicted values with Historical Data\n",
    "#inv_yhat_without_mc = scaler.inverse_transform(inv_yhat_without_mc) # Transform labels back to original encoding"
   ]
  },
  {
   "cell_type": "code",
   "execution_count": 23,
   "metadata": {
    "colab": {
     "base_uri": "https://localhost:8080/"
    },
    "id": "EUEcw0LX07oU",
    "outputId": "cfc32397-9c37-4b43-d087-584bb31c3dcc"
   },
   "outputs": [
    {
     "data": {
      "text/plain": [
       "(1, 311)"
      ]
     },
     "execution_count": 23,
     "metadata": {},
     "output_type": "execute_result"
    }
   ],
   "source": [
    "inv_yhat_without_mc.shape"
   ]
  },
  {
   "cell_type": "code",
   "execution_count": 24,
   "metadata": {
    "id": "31OWVbSh_305"
   },
   "outputs": [],
   "source": [
    "fforecast = inv_yhat_without_mc[:,-300:]"
   ]
  },
  {
   "cell_type": "code",
   "execution_count": 25,
   "metadata": {},
   "outputs": [
    {
     "data": {
      "text/plain": [
       "(1, 300)"
      ]
     },
     "execution_count": 25,
     "metadata": {},
     "output_type": "execute_result"
    }
   ],
   "source": [
    "fforecast.shape"
   ]
  },
  {
   "cell_type": "code",
   "execution_count": 26,
   "metadata": {
    "id": "BlpGH2FOAiRF"
   },
   "outputs": [],
   "source": [
    "final_forecast = fforecast[:,0:300:3]"
   ]
  },
  {
   "cell_type": "code",
   "execution_count": 27,
   "metadata": {},
   "outputs": [
    {
     "data": {
      "text/plain": [
       "(1, 300)"
      ]
     },
     "execution_count": 27,
     "metadata": {},
     "output_type": "execute_result"
    }
   ],
   "source": [
    "fforecast.shape"
   ]
  },
  {
   "cell_type": "code",
   "execution_count": 28,
   "metadata": {
    "id": "CXkgkj_LBk_t"
   },
   "outputs": [],
   "source": [
    "# code to replace all negative value with 0\n",
    "final_forecast[final_forecast<0] = 0"
   ]
  },
  {
   "cell_type": "code",
   "execution_count": 29,
   "metadata": {},
   "outputs": [
    {
     "data": {
      "text/plain": [
       "array([[6.55468487e+01, 6.55216387e+01, 6.54964286e+01, 6.54712185e+01,\n",
       "        6.54460084e+01, 6.54207983e+01, 6.53955882e+01, 6.53703781e+01,\n",
       "        6.53451681e+01, 6.53199580e+01, 6.52947479e+01, 6.52695378e+01,\n",
       "        6.52443277e+01, 7.00027311e+01, 6.99775210e+01, 6.99523109e+01,\n",
       "        6.99271008e+01, 6.99018908e+01, 6.98766807e+01, 6.98514706e+01,\n",
       "        6.98262605e+01, 6.98010504e+01, 6.96389356e+01, 6.94708684e+01,\n",
       "        6.93028011e+01, 6.91347339e+01, 6.89666667e+01, 6.87985994e+01,\n",
       "        6.86305322e+01, 6.84624650e+01, 6.82943978e+01, 6.81263305e+01,\n",
       "        6.79582633e+01, 6.77947549e+01, 6.77048389e+01, 6.76149230e+01,\n",
       "        6.75250070e+01, 6.74350910e+01, 6.73451751e+01, 6.72552591e+01,\n",
       "        3.90637370e-01, 0.00000000e+00, 7.33847740e-01, 0.00000000e+00,\n",
       "        0.00000000e+00, 0.00000000e+00, 2.15247900e-01, 6.91720822e+01,\n",
       "        6.90040149e+01, 6.88359477e+01, 6.86678805e+01, 6.84998133e+01,\n",
       "        6.83317460e+01, 6.81636788e+01, 6.79956116e+01, 6.78275443e+01,\n",
       "        6.77248203e+01, 6.76349043e+01, 6.75449883e+01, 6.74550724e+01,\n",
       "        6.73651564e+01, 6.72752404e+01, 6.71853245e+01, 6.70954085e+01,\n",
       "        6.70054925e+01, 6.69155766e+01, 6.68256606e+01, 6.67357446e+01,\n",
       "        6.66457888e+01, 6.65558708e+01, 6.64659529e+01, 6.63760350e+01,\n",
       "        6.62861172e+01, 6.61961993e+01, 3.92893780e-02, 6.50058270e-01,\n",
       "        0.00000000e+00, 0.00000000e+00, 0.00000000e+00, 4.02470980e-02,\n",
       "        6.01505203e+01, 0.00000000e+00, 5.10494232e-01, 5.22483587e-01,\n",
       "        0.00000000e+00, 8.15376401e-01, 0.00000000e+00, 0.00000000e+00,\n",
       "        0.00000000e+00, 5.95658243e-01, 1.02467008e-01, 0.00000000e+00,\n",
       "        2.44835913e-01, 0.00000000e+00, 0.00000000e+00, 0.00000000e+00,\n",
       "        0.00000000e+00, 1.82940736e-02, 0.00000000e+00, 7.74046257e-02]])"
      ]
     },
     "execution_count": 29,
     "metadata": {},
     "output_type": "execute_result"
    }
   ],
   "source": [
    "final_forecast"
   ]
  },
  {
   "cell_type": "code",
   "execution_count": 30,
   "metadata": {},
   "outputs": [
    {
     "data": {
      "text/plain": [
       "(1, 100)"
      ]
     },
     "execution_count": 30,
     "metadata": {},
     "output_type": "execute_result"
    }
   ],
   "source": [
    "final_forecast.shape"
   ]
  },
  {
   "cell_type": "code",
   "execution_count": 31,
   "metadata": {},
   "outputs": [
    {
     "data": {
      "text/plain": [
       "(100,)"
      ]
     },
     "execution_count": 31,
     "metadata": {},
     "output_type": "execute_result"
    }
   ],
   "source": [
    "test.shape"
   ]
  },
  {
   "cell_type": "code",
   "execution_count": 32,
   "metadata": {},
   "outputs": [],
   "source": [
    "training_set = np.array(training_set)\n",
    "test = np.array(test)\n",
    "final_forecast = np.array(final_forecast.squeeze(0))"
   ]
  },
  {
   "cell_type": "code",
   "execution_count": 33,
   "metadata": {},
   "outputs": [
    {
     "data": {
      "text/plain": [
       "array([59.29186309, 59.27956548, 59.26726788, 59.25497028, 59.24267268,\n",
       "       59.23037508, 59.21807747, 59.20577987, 59.19348227, 59.18118467,\n",
       "       59.16888707, 59.15658947, 59.14429186, 59.13199426, 59.11969666,\n",
       "       59.10739906, 59.09510146, 59.08280385, 59.07050625, 59.05820865,\n",
       "       59.04591105, 59.03361345, 59.02131584, 59.00901824, 58.99672064,\n",
       "       58.98442304, 58.97212544, 58.95982783, 58.94753023, 58.93523263,\n",
       "       58.92293503, 58.91063743, 58.89833982, 58.88604222, 58.87374462,\n",
       "       58.86144702, 58.84914942, 58.83685181, 58.82455421, 58.81225661,\n",
       "       58.79995901, 58.78766141, 58.7753638 , 58.7630662 , 58.7507686 ,\n",
       "       58.738471  , 58.7261734 , 58.71387579, 58.70157819, 58.68928059,\n",
       "       58.67698299, 58.66468539, 58.65238778, 58.64009018, 58.62779258,\n",
       "       58.61549498, 58.60319738, 58.59089977, 58.57860217, 58.56630457,\n",
       "       58.55400697, 58.54170937, 58.52941176, 58.51711416, 58.50481656,\n",
       "       58.49251896, 58.48022136, 58.46792375, 58.45562615, 58.44332855,\n",
       "       58.43103095, 58.41873335, 58.40643575, 58.39413814, 58.38184054,\n",
       "       58.36954294, 58.35724534, 58.34494774, 58.33265013, 58.32035253,\n",
       "       58.30805493, 58.29575733, 58.28345973, 58.27116212, 58.25886452,\n",
       "       58.24656692, 58.23426932, 58.22197172, 58.20967411, 58.19737651,\n",
       "       58.18507891, 58.17278131, 58.16048371, 58.1481861 , 58.1358885 ,\n",
       "       58.1235909 , 58.1112933 , 58.0989957 , 58.08669809, 58.07440049])"
      ]
     },
     "execution_count": 33,
     "metadata": {},
     "output_type": "execute_result"
    }
   ],
   "source": [
    "test"
   ]
  },
  {
   "cell_type": "code",
   "execution_count": 34,
   "metadata": {},
   "outputs": [
    {
     "data": {
      "text/plain": [
       "(100,)"
      ]
     },
     "execution_count": 34,
     "metadata": {},
     "output_type": "execute_result"
    }
   ],
   "source": [
    "test.shape"
   ]
  },
  {
   "cell_type": "code",
   "execution_count": 35,
   "metadata": {},
   "outputs": [
    {
     "data": {
      "text/plain": [
       "(100,)"
      ]
     },
     "execution_count": 35,
     "metadata": {},
     "output_type": "execute_result"
    }
   ],
   "source": [
    "final_forecast.shape"
   ]
  },
  {
   "cell_type": "code",
   "execution_count": 36,
   "metadata": {},
   "outputs": [
    {
     "data": {
      "text/plain": [
       "(100,)"
      ]
     },
     "execution_count": 36,
     "metadata": {},
     "output_type": "execute_result"
    }
   ],
   "source": [
    "test.shape"
   ]
  },
  {
   "cell_type": "code",
   "execution_count": 37,
   "metadata": {},
   "outputs": [
    {
     "name": "stdout",
     "output_type": "stream",
     "text": [
      "33.713603040757704\n",
      "24.51317062835143\n"
     ]
    }
   ],
   "source": [
    "import math\n",
    "MSE = np.square(np.subtract(np.array(test),np.array(final_forecast))).mean()   \n",
    "rsme = math.sqrt(MSE)\n",
    "print(rsme)  \n",
    "MAE = np.abs(np.subtract(np.array(test),np.array(final_forecast))).mean()   \n",
    "mae = MAE\n",
    "print(mae)"
   ]
  }
 ],
 "metadata": {
  "colab": {
   "provenance": []
  },
  "kernelspec": {
   "display_name": "Python 3",
   "language": "python",
   "name": "python3"
  },
  "language_info": {
   "codemirror_mode": {
    "name": "ipython",
    "version": 3
   },
   "file_extension": ".py",
   "mimetype": "text/x-python",
   "name": "python",
   "nbconvert_exporter": "python",
   "pygments_lexer": "ipython3",
   "version": "3.9.13"
  }
 },
 "nbformat": 4,
 "nbformat_minor": 0
}
