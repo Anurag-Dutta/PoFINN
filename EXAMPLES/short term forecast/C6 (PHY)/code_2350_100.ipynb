{
 "cells": [
  {
   "cell_type": "markdown",
   "metadata": {
    "id": "pCGKeZ2gyuoQ"
   },
   "source": [
    "_Importing Required Libraries_"
   ]
  },
  {
   "cell_type": "code",
   "execution_count": 1,
   "metadata": {
    "colab": {
     "base_uri": "https://localhost:8080/"
    },
    "id": "A-6LN-zXiLcM",
    "outputId": "4de610a4-f8b8-4f49-c6c0-89de299ccedc"
   },
   "outputs": [
    {
     "name": "stdout",
     "output_type": "stream",
     "text": [
      "Requirement already satisfied: hampel in c:\\users\\anurag dutta\\appdata\\local\\packages\\pythonsoftwarefoundation.python.3.9_qbz5n2kfra8p0\\localcache\\local-packages\\python39\\site-packages (0.0.5)\n",
      "Requirement already satisfied: numpy in c:\\users\\anurag dutta\\appdata\\local\\packages\\pythonsoftwarefoundation.python.3.9_qbz5n2kfra8p0\\localcache\\local-packages\\python39\\site-packages (from hampel) (1.26.4)\n",
      "Requirement already satisfied: pandas in c:\\users\\anurag dutta\\appdata\\local\\packages\\pythonsoftwarefoundation.python.3.9_qbz5n2kfra8p0\\localcache\\local-packages\\python39\\site-packages (from hampel) (1.5.2)\n",
      "Requirement already satisfied: python-dateutil>=2.8.1 in c:\\users\\anurag dutta\\appdata\\local\\packages\\pythonsoftwarefoundation.python.3.9_qbz5n2kfra8p0\\localcache\\local-packages\\python39\\site-packages (from pandas->hampel) (2.8.2)\n",
      "Requirement already satisfied: pytz>=2020.1 in c:\\users\\anurag dutta\\appdata\\local\\packages\\pythonsoftwarefoundation.python.3.9_qbz5n2kfra8p0\\localcache\\local-packages\\python39\\site-packages (from pandas->hampel) (2023.3.post1)\n",
      "Requirement already satisfied: six>=1.5 in c:\\users\\anurag dutta\\appdata\\local\\packages\\pythonsoftwarefoundation.python.3.9_qbz5n2kfra8p0\\localcache\\local-packages\\python39\\site-packages (from python-dateutil>=2.8.1->pandas->hampel) (1.16.0)\n",
      "Note: you may need to restart the kernel to use updated packages.\n"
     ]
    },
    {
     "name": "stderr",
     "output_type": "stream",
     "text": [
      "\n",
      "[notice] A new release of pip is available: 24.2 -> 24.3.1\n",
      "[notice] To update, run: C:\\Users\\Anurag Dutta\\AppData\\Local\\Microsoft\\WindowsApps\\PythonSoftwareFoundation.Python.3.9_qbz5n2kfra8p0\\python.exe -m pip install --upgrade pip\n"
     ]
    }
   ],
   "source": [
    "pip install hampel"
   ]
  },
  {
   "cell_type": "code",
   "execution_count": 2,
   "metadata": {
    "id": "By_d9uXpaFvZ"
   },
   "outputs": [],
   "source": [
    "from keras.models import Sequential\n",
    "from keras.layers import Dense\n",
    "from keras.layers import LSTM\n",
    "from keras.layers import Dropout\n",
    "import keras\n",
    "import tensorflow as tf\n",
    "from hampel import hampel\n",
    "import numpy as np\n",
    "import matplotlib.pyplot as plt\n",
    "import pandas as pd\n",
    "from sklearn.preprocessing import MinMaxScaler\n",
    "from sklearn.metrics import mean_squared_error, mean_absolute_error\n",
    "from math import sqrt\n",
    "from matplotlib import pyplot\n",
    "from numpy import array"
   ]
  },
  {
   "cell_type": "markdown",
   "metadata": {
    "id": "JyOjBMFayuoR"
   },
   "source": [
    "## Pretraining"
   ]
  },
  {
   "cell_type": "markdown",
   "metadata": {
    "id": "-5QqIY_GyuoR"
   },
   "source": [
    "The `capa_intermittency.dat` feeds the model with the dynamics of the Capacitor"
   ]
  },
  {
   "cell_type": "code",
   "execution_count": 3,
   "metadata": {
    "id": "9dV4a8yfyuoR"
   },
   "outputs": [],
   "source": [
    "data = np.genfromtxt('capa_intermittency.dat')\n",
    "training_set = pd.DataFrame(data).reset_index(drop=True)\n",
    "training_set = training_set.iloc[:,0]"
   ]
  },
  {
   "cell_type": "markdown",
   "metadata": {
    "id": "i7easoxByuoR"
   },
   "source": [
    "## Computing the Gradient"
   ]
  },
  {
   "cell_type": "markdown",
   "metadata": {
    "id": "5SnyolJTyuoR"
   },
   "source": [
    "_Calculating the value of_ $\\frac{dx}{dt}$"
   ]
  },
  {
   "cell_type": "code",
   "execution_count": 4,
   "metadata": {
    "colab": {
     "base_uri": "https://localhost:8080/"
    },
    "id": "wmIbVfIvyuoR",
    "outputId": "aa4e3136-c854-465d-d2e9-81cfd546e440"
   },
   "outputs": [
    {
     "name": "stdout",
     "output_type": "stream",
     "text": [
      "1.0\n",
      "1        0.000298\n",
      "2        0.000298\n",
      "3        0.000297\n",
      "4        0.000297\n",
      "5        0.000297\n",
      "           ...   \n",
      "9996     0.000018\n",
      "9997     0.000018\n",
      "9998     0.000018\n",
      "9999     0.000018\n",
      "10000    0.000018\n",
      "Name: 0, Length: 10000, dtype: float64\n"
     ]
    }
   ],
   "source": [
    "t_diff = 1\n",
    "print(training_set.max())\n",
    "gradient_t = (training_set.diff()/t_diff).iloc[1:] # dx/dt\n",
    "print(gradient_t)"
   ]
  },
  {
   "cell_type": "markdown",
   "metadata": {
    "id": "_2eVeeoxyuoS"
   },
   "source": [
    "## Loading Datasets"
   ]
  },
  {
   "cell_type": "code",
   "execution_count": 5,
   "metadata": {
    "id": "0J-NKyIEyuoS"
   },
   "outputs": [
    {
     "data": {
      "text/plain": [
       "0       84.600000\n",
       "1       84.431933\n",
       "2       84.263866\n",
       "3       84.095798\n",
       "4       83.927731\n",
       "          ...    \n",
       "2445    45.731256\n",
       "2446    45.721418\n",
       "2447    45.711580\n",
       "2448    45.701742\n",
       "2449    45.691904\n",
       "Name: C6, Length: 2450, dtype: float64"
      ]
     },
     "execution_count": 5,
     "metadata": {},
     "output_type": "execute_result"
    }
   ],
   "source": [
    "data = pd.read_csv(\"c6_interpolated_2350_100.csv\")\n",
    "training_set = data.iloc[:, 1]\n",
    "training_set"
   ]
  },
  {
   "cell_type": "code",
   "execution_count": 6,
   "metadata": {
    "colab": {
     "base_uri": "https://localhost:8080/"
    },
    "id": "-CbNUhJ74UqF",
    "outputId": "20f562d8-8247-49cc-b9c3-00eca5e13e2d"
   },
   "outputs": [
    {
     "data": {
      "text/plain": [
       "0       84.600000\n",
       "1       84.431933\n",
       "2       84.263866\n",
       "3       84.095798\n",
       "4       83.927731\n",
       "          ...    \n",
       "2345     0.634958\n",
       "2346     0.726840\n",
       "2347     0.000000\n",
       "2348     0.069614\n",
       "2349     0.000000\n",
       "Name: C6, Length: 2350, dtype: float64"
      ]
     },
     "execution_count": 6,
     "metadata": {},
     "output_type": "execute_result"
    }
   ],
   "source": [
    "test = training_set.tail(100)\n",
    "test\n",
    "training_set = training_set.head(2350)\n",
    "training_set"
   ]
  },
  {
   "cell_type": "code",
   "execution_count": 7,
   "metadata": {
    "colab": {
     "base_uri": "https://localhost:8080/"
    },
    "id": "X0TwTcq0yuoS",
    "outputId": "37252ed8-d88e-4044-fa7a-922411990b5b"
   },
   "outputs": [
    {
     "name": "stdout",
     "output_type": "stream",
     "text": [
      "0       0.000298\n",
      "1       0.000298\n",
      "2       0.000297\n",
      "3       0.000297\n",
      "4       0.000297\n",
      "          ...   \n",
      "9995    0.000018\n",
      "9996    0.000018\n",
      "9997    0.000018\n",
      "9998    0.000018\n",
      "9999    0.000018\n",
      "Name: 0, Length: 10000, dtype: float64\n"
     ]
    }
   ],
   "source": [
    "training_set = training_set.reset_index(drop=True)\n",
    "gradient_t = gradient_t.reset_index(drop=True)\n",
    "print(gradient_t)"
   ]
  },
  {
   "cell_type": "code",
   "execution_count": 8,
   "metadata": {
    "id": "O2biznZQyuoS"
   },
   "outputs": [],
   "source": [
    "df = pd.concat((training_set, gradient_t), axis=1)\n",
    "df.columns = ['y_t', 'grad_t']"
   ]
  },
  {
   "cell_type": "code",
   "execution_count": 9,
   "metadata": {
    "colab": {
     "base_uri": "https://localhost:8080/",
     "height": 423
    },
    "id": "sk_a5v3tyuoS",
    "outputId": "17563625-e550-45ae-faab-fafa353e44da"
   },
   "outputs": [
    {
     "data": {
      "text/html": [
       "<div>\n",
       "<style scoped>\n",
       "    .dataframe tbody tr th:only-of-type {\n",
       "        vertical-align: middle;\n",
       "    }\n",
       "\n",
       "    .dataframe tbody tr th {\n",
       "        vertical-align: top;\n",
       "    }\n",
       "\n",
       "    .dataframe thead th {\n",
       "        text-align: right;\n",
       "    }\n",
       "</style>\n",
       "<table border=\"1\" class=\"dataframe\">\n",
       "  <thead>\n",
       "    <tr style=\"text-align: right;\">\n",
       "      <th></th>\n",
       "      <th>y_t</th>\n",
       "      <th>grad_t</th>\n",
       "    </tr>\n",
       "  </thead>\n",
       "  <tbody>\n",
       "    <tr>\n",
       "      <th>0</th>\n",
       "      <td>84.600000</td>\n",
       "      <td>0.000298</td>\n",
       "    </tr>\n",
       "    <tr>\n",
       "      <th>1</th>\n",
       "      <td>84.431933</td>\n",
       "      <td>0.000298</td>\n",
       "    </tr>\n",
       "    <tr>\n",
       "      <th>2</th>\n",
       "      <td>84.263866</td>\n",
       "      <td>0.000297</td>\n",
       "    </tr>\n",
       "    <tr>\n",
       "      <th>3</th>\n",
       "      <td>84.095798</td>\n",
       "      <td>0.000297</td>\n",
       "    </tr>\n",
       "    <tr>\n",
       "      <th>4</th>\n",
       "      <td>83.927731</td>\n",
       "      <td>0.000297</td>\n",
       "    </tr>\n",
       "    <tr>\n",
       "      <th>...</th>\n",
       "      <td>...</td>\n",
       "      <td>...</td>\n",
       "    </tr>\n",
       "    <tr>\n",
       "      <th>9995</th>\n",
       "      <td>NaN</td>\n",
       "      <td>0.000018</td>\n",
       "    </tr>\n",
       "    <tr>\n",
       "      <th>9996</th>\n",
       "      <td>NaN</td>\n",
       "      <td>0.000018</td>\n",
       "    </tr>\n",
       "    <tr>\n",
       "      <th>9997</th>\n",
       "      <td>NaN</td>\n",
       "      <td>0.000018</td>\n",
       "    </tr>\n",
       "    <tr>\n",
       "      <th>9998</th>\n",
       "      <td>NaN</td>\n",
       "      <td>0.000018</td>\n",
       "    </tr>\n",
       "    <tr>\n",
       "      <th>9999</th>\n",
       "      <td>NaN</td>\n",
       "      <td>0.000018</td>\n",
       "    </tr>\n",
       "  </tbody>\n",
       "</table>\n",
       "<p>10000 rows × 2 columns</p>\n",
       "</div>"
      ],
      "text/plain": [
       "            y_t    grad_t\n",
       "0     84.600000  0.000298\n",
       "1     84.431933  0.000298\n",
       "2     84.263866  0.000297\n",
       "3     84.095798  0.000297\n",
       "4     83.927731  0.000297\n",
       "...         ...       ...\n",
       "9995        NaN  0.000018\n",
       "9996        NaN  0.000018\n",
       "9997        NaN  0.000018\n",
       "9998        NaN  0.000018\n",
       "9999        NaN  0.000018\n",
       "\n",
       "[10000 rows x 2 columns]"
      ]
     },
     "execution_count": 9,
     "metadata": {},
     "output_type": "execute_result"
    }
   ],
   "source": [
    "df"
   ]
  },
  {
   "cell_type": "markdown",
   "metadata": {
    "id": "-5esyHu5aFvg"
   },
   "source": [
    "## Plot of the External Forcing from Chaotic Differential Equation"
   ]
  },
  {
   "cell_type": "code",
   "execution_count": 10,
   "metadata": {
    "colab": {
     "base_uri": "https://localhost:8080/",
     "height": 447
    },
    "id": "hGnE43tOh-4p",
    "outputId": "fc396503-b624-4fa5-dfbe-f460207405c6"
   },
   "outputs": [
    {
     "data": {
      "text/plain": [
       "<Axes: >"
      ]
     },
     "execution_count": 10,
     "metadata": {},
     "output_type": "execute_result"
    },
    {
     "data": {
      "image/png": "[encoded data removed]",
      "text/plain": [
       "<Figure size 432x288 with 1 Axes>"
      ]
     },
     "metadata": {
      "needs_background": "light"
     },
     "output_type": "display_data"
    }
   ],
   "source": [
    "df.iloc[:, 0].plot()"
   ]
  },
  {
   "cell_type": "code",
   "execution_count": 11,
   "metadata": {
    "colab": {
     "base_uri": "https://localhost:8080/",
     "height": 447
    },
    "id": "ym4xWUUxaFvg",
    "outputId": "ae6a3495-8ce9-437e-ba81-3ed31deedeae"
   },
   "outputs": [
    {
     "name": "stderr",
     "output_type": "stream",
     "text": [
      "C:\\Users\\Anurag Dutta\\AppData\\Local\\Packages\\PythonSoftwareFoundation.Python.3.9_qbz5n2kfra8p0\\LocalCache\\local-packages\\Python39\\site-packages\\pandas\\core\\arraylike.py:402: RuntimeWarning: divide by zero encountered in log\n",
      "  result = getattr(ufunc, method)(*inputs, **kwargs)\n"
     ]
    },
    {
     "data": {
      "text/plain": [
       "<Axes: >"
      ]
     },
     "execution_count": 11,
     "metadata": {},
     "output_type": "execute_result"
    },
    {
     "data": {
      "image/png": "[encoded data removed]",
      "text/plain": [
       "<Figure size 432x288 with 1 Axes>"
      ]
     },
     "metadata": {
      "needs_background": "light"
     },
     "output_type": "display_data"
    }
   ],
   "source": [
    "import numpy as np\n",
    "c0 = 82.7524  # Value for C0\n",
    "K0 = -0.0031  # Value for K0\n",
    "K1 = -0.0003  # Value for K1\n",
    "a = 0.0000    # Value for a\n",
    "b = 0.0171    # Value for b\n",
    "c = 3.0230    # Value for c\n",
    "\n",
    "L = np.minimum(c0, (df.iloc[:, 1] - (df.iloc[:, 0] * (K0 - K1 * (9 * a * np.log(df.iloc[:, 0] / c0) / (K0 - K1 * c)**2 + 4 * b * np.log(df.iloc[:, 0] / c0) / (K0 - K1 * c) + c)))))\n",
    "L.plot()"
   ]
  },
  {
   "cell_type": "markdown",
   "metadata": {
    "id": "9VyEywnwaFvh"
   },
   "source": [
    "## Preprocessing the data into supervised learning"
   ]
  },
  {
   "cell_type": "code",
   "execution_count": 12,
   "metadata": {
    "id": "6V9dXqzdaFvh"
   },
   "outputs": [],
   "source": [
    "# split a sequence into samples\n",
    "def Supervised(data, n_in=1, n_out=1, dropnan=True):\n",
    "    n_vars = 1 if type(data) is list else data.shape[1]\n",
    "    df = pd.DataFrame(data)\n",
    "    cols, names = list(), list()\n",
    "    # input sequence (t-n_in, ... t-1)\n",
    "    for i in range(n_in, 0, -1):\n",
    "        cols.append(df.shift(i))\n",
    "        names += [('var%d(t-%d)' % (j+1, i)) for j in range(n_vars)]\n",
    "    # forecast sequence (t, t+1, ... t+n_out)\n",
    "    for i in range(0, n_out):\n",
    "      cols.append(df.shift(-i))\n",
    "      if i == 0:\n",
    "        names += [('var%d(t)' % (j+1)) for j in range(n_vars)]\n",
    "      else:\n",
    "        names += [('var%d(t+%d)' % (j+1, i)) for j in range(n_vars)]\n",
    "    # put it all together\n",
    "    agg = pd.concat(cols, axis=1)\n",
    "    agg.columns = names\n",
    "    # drop rows with NaN values\n",
    "    if dropnan:\n",
    "       agg.dropna(inplace=True)\n",
    "    return agg"
   ]
  },
  {
   "cell_type": "code",
   "execution_count": 13,
   "metadata": {
    "colab": {
     "base_uri": "https://localhost:8080/"
    },
    "id": "CrzSrT1HnyfH",
    "outputId": "7e75f928-3e47-499d-eac1-51908015ef78"
   },
   "outputs": [
    {
     "name": "stdout",
     "output_type": "stream",
     "text": [
      "     var1(t-350)  var1(t-349)  var1(t-348)  var1(t-347)  var1(t-346)  \\\n",
      "350    84.600000    84.431933    84.263866    84.095798    83.927731   \n",
      "351    84.431933    84.263866    84.095798    83.927731    83.759664   \n",
      "352    84.263866    84.095798    83.927731    83.759664    83.591597   \n",
      "353    84.095798    83.927731    83.759664    83.591597    83.423529   \n",
      "354    83.927731    83.759664    83.591597    83.423529    83.255462   \n",
      "\n",
      "     var1(t-345)  var1(t-344)  var1(t-343)  var1(t-342)  var1(t-341)  ...  \\\n",
      "350    83.759664    83.591597    83.423529    83.255462    83.092437  ...   \n",
      "351    83.591597    83.423529    83.255462    83.092437    82.991597  ...   \n",
      "352    83.423529    83.255462    83.092437    82.991597    82.890756  ...   \n",
      "353    83.255462    83.092437    82.991597    82.890756    82.789916  ...   \n",
      "354    83.092437    82.991597    82.890756    82.789916    82.689076  ...   \n",
      "\n",
      "     var1(t+95)  var2(t+95)  var1(t+96)  var2(t+96)  var1(t+97)  var2(t+97)  \\\n",
      "350   70.003688    0.000263   69.960738    0.000263   69.917787    0.000263   \n",
      "351   69.960738    0.000263   69.917787    0.000263   69.874837    0.000262   \n",
      "352   69.917787    0.000263   69.874837    0.000262   69.831886    0.000262   \n",
      "353   69.874837    0.000262   69.831886    0.000262   69.788936    0.000262   \n",
      "354   69.831886    0.000262   69.788936    0.000262   69.745985    0.000262   \n",
      "\n",
      "     var1(t+98)  var2(t+98)  var1(t+99)  var2(t+99)  \n",
      "350   69.874837    0.000262   69.831886    0.000262  \n",
      "351   69.831886    0.000262   69.788936    0.000262  \n",
      "352   69.788936    0.000262   69.745985    0.000262  \n",
      "353   69.745985    0.000262   69.703035    0.000262  \n",
      "354   69.703035    0.000262   69.660084    0.000262  \n",
      "\n",
      "[5 rows x 551 columns]\n",
      "Index(['var1(t-350)', 'var1(t-349)', 'var1(t-348)', 'var1(t-347)',\n",
      "       'var1(t-346)', 'var1(t-345)', 'var1(t-344)', 'var1(t-343)',\n",
      "       'var1(t-342)', 'var1(t-341)',\n",
      "       ...\n",
      "       'var1(t+95)', 'var2(t+95)', 'var1(t+96)', 'var2(t+96)', 'var1(t+97)',\n",
      "       'var2(t+97)', 'var1(t+98)', 'var2(t+98)', 'var1(t+99)', 'var2(t+99)'],\n",
      "      dtype='object', length=551)\n"
     ]
    }
   ],
   "source": [
    "data = Supervised(df.values, n_in = 350, n_out = 100)\n",
    "\n",
    "\n",
    "cols_to_drop = []\n",
    "for i in range(2, 351):\n",
    "    cols_to_drop.extend([f'var2(t-{i})'])\n",
    "\n",
    "data.drop(cols_to_drop, axis=1, inplace=True)\n",
    "\n",
    "print(data.head())\n",
    "print(data.columns)"
   ]
  },
  {
   "cell_type": "code",
   "execution_count": 14,
   "metadata": {
    "id": "AfPf60oy6Pe4"
   },
   "outputs": [],
   "source": [
    "train = np.array(data[0:len(data)-1])\n",
    "forecast = np.array(data.tail(1))"
   ]
  },
  {
   "cell_type": "code",
   "execution_count": 15,
   "metadata": {
    "id": "WSAafzI37KiT"
   },
   "outputs": [],
   "source": [
    "trainy = train[:,-300:]\n",
    "trainX = train[:,:-300]"
   ]
  },
  {
   "cell_type": "code",
   "execution_count": 16,
   "metadata": {
    "id": "2SrOqVJA7f50"
   },
   "outputs": [],
   "source": [
    "forecasty = forecast[:,-300:]\n",
    "forecastX = forecast[:,:-300]"
   ]
  },
  {
   "cell_type": "code",
   "execution_count": 17,
   "metadata": {
    "colab": {
     "base_uri": "https://localhost:8080/"
    },
    "id": "Qno_k8Nw7saY",
    "outputId": "c4a88db5-d8c6-489f-cdb2-06b24e293cff"
   },
   "outputs": [
    {
     "name": "stdout",
     "output_type": "stream",
     "text": [
      "(1900, 1, 251) (1900, 300) (1, 1, 251)\n"
     ]
    }
   ],
   "source": [
    "trainX = trainX.reshape((trainX.shape[0], 1, trainX.shape[1]))\n",
    "forecastX = forecastX.reshape((forecastX.shape[0], 1, forecastX.shape[1]))\n",
    "print(trainX.shape, trainy.shape, forecastX.shape)"
   ]
  },
  {
   "cell_type": "code",
   "execution_count": 18,
   "metadata": {
    "colab": {
     "base_uri": "https://localhost:8080/"
    },
    "id": "b1Jp2DvNuNFx",
    "outputId": "d0e5b3c4-64f1-438c-eade-8dfeaac8e285"
   },
   "outputs": [
    {
     "name": "stdout",
     "output_type": "stream",
     "text": [
      "Epoch 1/500\n",
      "24/24 [==============================] - 3s 23ms/step - loss: 3555.0020 - val_loss: 2110.9880\n",
      "Epoch 2/500\n",
      "24/24 [==============================] - 0s 4ms/step - loss: 3403.3806 - val_loss: 2022.7549\n",
      "Epoch 3/500\n",
      "24/24 [==============================] - 0s 4ms/step - loss: 3306.5171 - val_loss: 1972.0671\n",
      "Epoch 4/500\n",
      "24/24 [==============================] - 0s 6ms/step - loss: 3231.6724 - val_loss: 1928.9847\n",
      "Epoch 5/500\n",
      "24/24 [==============================] - 0s 4ms/step - loss: 3159.0010 - val_loss: 1887.2360\n",
      "Epoch 6/500\n",
      "24/24 [==============================] - 0s 5ms/step - loss: 3088.0947 - val_loss: 1846.6201\n",
      "Epoch 7/500\n",
      "24/24 [==============================] - 0s 4ms/step - loss: 3018.7039 - val_loss: 1806.6543\n",
      "Epoch 8/500\n",
      "24/24 [==============================] - 0s 4ms/step - loss: 2938.4534 - val_loss: 1752.9729\n",
      "Epoch 9/500\n",
      "24/24 [==============================] - 0s 4ms/step - loss: 2852.6865 - val_loss: 1707.0426\n",
      "Epoch 10/500\n",
      "24/24 [==============================] - 0s 4ms/step - loss: 2775.3911 - val_loss: 1663.8035\n",
      "Epoch 11/500\n",
      "24/24 [==============================] - 0s 12ms/step - loss: 2701.6726 - val_loss: 1622.6500\n",
      "Epoch 12/500\n",
      "24/24 [==============================] - 0s 5ms/step - loss: 2630.6323 - val_loss: 1583.1375\n",
      "Epoch 13/500\n",
      "24/24 [==============================] - 0s 3ms/step - loss: 2561.7485 - val_loss: 1545.0306\n",
      "Epoch 14/500\n",
      "24/24 [==============================] - 0s 4ms/step - loss: 2494.7366 - val_loss: 1508.1888\n",
      "Epoch 15/500\n",
      "24/24 [==============================] - 0s 4ms/step - loss: 2429.4216 - val_loss: 1472.5190\n",
      "Epoch 16/500\n",
      "24/24 [==============================] - 0s 4ms/step - loss: 2365.6821 - val_loss: 1437.9537\n",
      "Epoch 17/500\n",
      "24/24 [==============================] - 0s 4ms/step - loss: 2303.4312 - val_loss: 1404.4414\n",
      "Epoch 18/500\n",
      "24/24 [==============================] - 0s 4ms/step - loss: 2242.6016 - val_loss: 1371.9386\n",
      "Epoch 19/500\n",
      "24/24 [==============================] - 0s 4ms/step - loss: 2182.9504 - val_loss: 1339.5133\n",
      "Epoch 20/500\n",
      "24/24 [==============================] - 0s 4ms/step - loss: 2120.4126 - val_loss: 1305.7570\n",
      "Epoch 21/500\n",
      "24/24 [==============================] - 0s 4ms/step - loss: 2058.0576 - val_loss: 1273.7622\n",
      "Epoch 22/500\n",
      "24/24 [==============================] - 0s 4ms/step - loss: 1998.3196 - val_loss: 1243.2448\n",
      "Epoch 23/500\n",
      "24/24 [==============================] - 0s 6ms/step - loss: 1940.6528 - val_loss: 1213.9666\n",
      "Epoch 24/500\n",
      "24/24 [==============================] - 0s 4ms/step - loss: 1884.7277 - val_loss: 1185.8022\n",
      "Epoch 25/500\n",
      "24/24 [==============================] - 0s 4ms/step - loss: 1830.3628 - val_loss: 1158.6902\n",
      "Epoch 26/500\n",
      "24/24 [==============================] - 0s 4ms/step - loss: 1777.4431 - val_loss: 1132.5413\n",
      "Epoch 27/500\n",
      "24/24 [==============================] - 0s 4ms/step - loss: 1725.8864 - val_loss: 1107.2169\n",
      "Epoch 28/500\n",
      "24/24 [==============================] - 0s 4ms/step - loss: 1675.6315 - val_loss: 1082.8486\n",
      "Epoch 29/500\n",
      "24/24 [==============================] - 0s 4ms/step - loss: 1626.6277 - val_loss: 1059.3625\n",
      "Epoch 30/500\n",
      "24/24 [==============================] - 0s 3ms/step - loss: 1578.8330 - val_loss: 1036.7169\n",
      "Epoch 31/500\n",
      "24/24 [==============================] - 0s 4ms/step - loss: 1532.2125 - val_loss: 1014.8906\n",
      "Epoch 32/500\n",
      "24/24 [==============================] - 0s 4ms/step - loss: 1486.7324 - val_loss: 993.8890\n",
      "Epoch 33/500\n",
      "24/24 [==============================] - 0s 4ms/step - loss: 1442.3646 - val_loss: 973.5673\n",
      "Epoch 34/500\n",
      "24/24 [==============================] - 0s 4ms/step - loss: 1399.0815 - val_loss: 954.0439\n",
      "Epoch 35/500\n",
      "24/24 [==============================] - 0s 4ms/step - loss: 1356.8595 - val_loss: 935.2997\n",
      "Epoch 36/500\n",
      "24/24 [==============================] - 0s 5ms/step - loss: 1315.6743 - val_loss: 917.8125\n",
      "Epoch 37/500\n",
      "24/24 [==============================] - 0s 6ms/step - loss: 1275.5043 - val_loss: 899.4589\n",
      "Epoch 38/500\n",
      "24/24 [==============================] - 0s 5ms/step - loss: 1236.3287 - val_loss: 882.7808\n",
      "Epoch 39/500\n",
      "24/24 [==============================] - 0s 7ms/step - loss: 1198.1274 - val_loss: 866.7731\n",
      "Epoch 40/500\n",
      "24/24 [==============================] - 0s 11ms/step - loss: 1160.8815 - val_loss: 851.4205\n",
      "Epoch 41/500\n",
      "24/24 [==============================] - 0s 7ms/step - loss: 1124.5720 - val_loss: 836.7087\n",
      "Epoch 42/500\n",
      "24/24 [==============================] - 0s 6ms/step - loss: 1089.1809 - val_loss: 822.6234\n",
      "Epoch 43/500\n",
      "24/24 [==============================] - 0s 4ms/step - loss: 1054.6914 - val_loss: 809.1506\n",
      "Epoch 44/500\n",
      "24/24 [==============================] - 0s 4ms/step - loss: 1021.0857 - val_loss: 796.2770\n",
      "Epoch 45/500\n",
      "24/24 [==============================] - 0s 4ms/step - loss: 988.3475 - val_loss: 783.9892\n",
      "Epoch 46/500\n",
      "24/24 [==============================] - 0s 7ms/step - loss: 956.4609 - val_loss: 772.2739\n",
      "Epoch 47/500\n",
      "24/24 [==============================] - 0s 4ms/step - loss: 925.4101 - val_loss: 761.1182\n",
      "Epoch 48/500\n",
      "24/24 [==============================] - 0s 4ms/step - loss: 895.1787 - val_loss: 750.5095\n",
      "Epoch 49/500\n",
      "24/24 [==============================] - 0s 4ms/step - loss: 865.7521 - val_loss: 740.4352\n",
      "Epoch 50/500\n",
      "24/24 [==============================] - 0s 4ms/step - loss: 837.1152 - val_loss: 730.8828\n",
      "Epoch 51/500\n",
      "24/24 [==============================] - 0s 4ms/step - loss: 809.2530 - val_loss: 721.8403\n",
      "Epoch 52/500\n",
      "24/24 [==============================] - 0s 4ms/step - loss: 782.1510 - val_loss: 713.2955\n",
      "Epoch 53/500\n",
      "24/24 [==============================] - 0s 4ms/step - loss: 755.7950 - val_loss: 705.2365\n",
      "Epoch 54/500\n",
      "24/24 [==============================] - 0s 4ms/step - loss: 730.1707 - val_loss: 697.6514\n",
      "Epoch 55/500\n",
      "24/24 [==============================] - 0s 4ms/step - loss: 705.2642 - val_loss: 690.5288\n",
      "Epoch 56/500\n",
      "24/24 [==============================] - 0s 4ms/step - loss: 681.0620 - val_loss: 683.8570\n",
      "Epoch 57/500\n",
      "24/24 [==============================] - 0s 4ms/step - loss: 657.5500 - val_loss: 677.6245\n",
      "Epoch 58/500\n",
      "24/24 [==============================] - 0s 6ms/step - loss: 634.7153 - val_loss: 671.8203\n",
      "Epoch 59/500\n",
      "24/24 [==============================] - 0s 5ms/step - loss: 612.5444 - val_loss: 666.4330\n",
      "Epoch 60/500\n",
      "24/24 [==============================] - 0s 5ms/step - loss: 591.0242 - val_loss: 661.4517\n",
      "Epoch 61/500\n",
      "24/24 [==============================] - 0s 7ms/step - loss: 570.1418 - val_loss: 656.8651\n",
      "Epoch 62/500\n",
      "24/24 [==============================] - 0s 5ms/step - loss: 549.8842 - val_loss: 652.6627\n",
      "Epoch 63/500\n",
      "24/24 [==============================] - 0s 5ms/step - loss: 530.2390 - val_loss: 648.8336\n",
      "Epoch 64/500\n",
      "24/24 [==============================] - 0s 5ms/step - loss: 511.1933 - val_loss: 645.3673\n",
      "Epoch 65/500\n",
      "24/24 [==============================] - 0s 6ms/step - loss: 492.7350 - val_loss: 642.2531\n",
      "Epoch 66/500\n",
      "24/24 [==============================] - 0s 5ms/step - loss: 474.8515 - val_loss: 639.4805\n",
      "Epoch 67/500\n",
      "24/24 [==============================] - 0s 5ms/step - loss: 457.5310 - val_loss: 637.0394\n",
      "Epoch 68/500\n",
      "24/24 [==============================] - 0s 5ms/step - loss: 440.7614 - val_loss: 634.9193\n",
      "Epoch 69/500\n",
      "24/24 [==============================] - 0s 5ms/step - loss: 424.5307 - val_loss: 633.1103\n",
      "Epoch 70/500\n",
      "24/24 [==============================] - 0s 5ms/step - loss: 408.8269 - val_loss: 631.6022\n",
      "Epoch 71/500\n",
      "24/24 [==============================] - 0s 6ms/step - loss: 393.6383 - val_loss: 630.3851\n",
      "Epoch 72/500\n",
      "24/24 [==============================] - 0s 7ms/step - loss: 378.9537 - val_loss: 629.4492\n",
      "Epoch 73/500\n",
      "24/24 [==============================] - 0s 6ms/step - loss: 364.7616 - val_loss: 628.7847\n",
      "Epoch 74/500\n",
      "24/24 [==============================] - 0s 7ms/step - loss: 351.0507 - val_loss: 628.3821\n",
      "Epoch 75/500\n",
      "24/24 [==============================] - 0s 6ms/step - loss: 337.8094 - val_loss: 628.2318\n",
      "Epoch 76/500\n",
      "24/24 [==============================] - 0s 6ms/step - loss: 325.0271 - val_loss: 628.3243\n",
      "Epoch 77/500\n",
      "24/24 [==============================] - 0s 5ms/step - loss: 312.6926 - val_loss: 628.6505\n",
      "Epoch 78/500\n",
      "24/24 [==============================] - 0s 6ms/step - loss: 300.7952 - val_loss: 629.2009\n",
      "Epoch 79/500\n",
      "24/24 [==============================] - 0s 6ms/step - loss: 289.3239 - val_loss: 629.9666\n",
      "Epoch 80/500\n",
      "24/24 [==============================] - 0s 9ms/step - loss: 278.2684 - val_loss: 630.9387\n",
      "Epoch 81/500\n",
      "24/24 [==============================] - 0s 8ms/step - loss: 267.6179 - val_loss: 632.1082\n",
      "Epoch 82/500\n",
      "24/24 [==============================] - 0s 7ms/step - loss: 257.3623 - val_loss: 633.4662\n",
      "Epoch 83/500\n",
      "24/24 [==============================] - 0s 8ms/step - loss: 247.4913 - val_loss: 635.0042\n",
      "Epoch 84/500\n",
      "24/24 [==============================] - 0s 6ms/step - loss: 237.9947 - val_loss: 636.7137\n",
      "Epoch 85/500\n",
      "24/24 [==============================] - 0s 5ms/step - loss: 228.8626 - val_loss: 638.5864\n",
      "Epoch 86/500\n",
      "24/24 [==============================] - 0s 5ms/step - loss: 220.0848 - val_loss: 640.6138\n",
      "Epoch 87/500\n",
      "24/24 [==============================] - 0s 5ms/step - loss: 211.6519 - val_loss: 642.7879\n",
      "Epoch 88/500\n",
      "24/24 [==============================] - 0s 7ms/step - loss: 203.5540 - val_loss: 645.1005\n",
      "Epoch 89/500\n",
      "24/24 [==============================] - 0s 6ms/step - loss: 195.7818 - val_loss: 647.5438\n",
      "Epoch 90/500\n",
      "24/24 [==============================] - 0s 4ms/step - loss: 188.3258 - val_loss: 650.1100\n",
      "Epoch 91/500\n",
      "24/24 [==============================] - 0s 5ms/step - loss: 181.1770 - val_loss: 652.7915\n",
      "Epoch 92/500\n",
      "24/24 [==============================] - 0s 4ms/step - loss: 174.3259 - val_loss: 655.5808\n",
      "Epoch 93/500\n",
      "24/24 [==============================] - 0s 4ms/step - loss: 167.7638 - val_loss: 658.4706\n",
      "Epoch 94/500\n",
      "24/24 [==============================] - 0s 4ms/step - loss: 161.4816 - val_loss: 661.4536\n",
      "Epoch 95/500\n",
      "24/24 [==============================] - 0s 5ms/step - loss: 155.4709 - val_loss: 664.5226\n",
      "Epoch 96/500\n",
      "24/24 [==============================] - 0s 5ms/step - loss: 149.7229 - val_loss: 667.6708\n",
      "Epoch 97/500\n",
      "24/24 [==============================] - 0s 5ms/step - loss: 144.2291 - val_loss: 670.8914\n",
      "Epoch 98/500\n",
      "24/24 [==============================] - 0s 6ms/step - loss: 138.9815 - val_loss: 674.1778\n",
      "Epoch 99/500\n",
      "24/24 [==============================] - 0s 7ms/step - loss: 133.9717 - val_loss: 677.5236\n",
      "Epoch 100/500\n",
      "24/24 [==============================] - 0s 6ms/step - loss: 129.1918 - val_loss: 680.9221\n",
      "Epoch 101/500\n",
      "24/24 [==============================] - 0s 7ms/step - loss: 124.6339 - val_loss: 684.3674\n",
      "Epoch 102/500\n",
      "24/24 [==============================] - 0s 6ms/step - loss: 120.2902 - val_loss: 687.8536\n",
      "Epoch 103/500\n",
      "24/24 [==============================] - 0s 5ms/step - loss: 116.1532 - val_loss: 691.3746\n",
      "Epoch 104/500\n",
      "24/24 [==============================] - 0s 6ms/step - loss: 112.2155 - val_loss: 694.9247\n",
      "Epoch 105/500\n",
      "24/24 [==============================] - 0s 8ms/step - loss: 108.4699 - val_loss: 698.4987\n",
      "Epoch 106/500\n",
      "24/24 [==============================] - 0s 5ms/step - loss: 104.9091 - val_loss: 702.0911\n",
      "Epoch 107/500\n",
      "24/24 [==============================] - 0s 5ms/step - loss: 101.5260 - val_loss: 705.6965\n",
      "Epoch 108/500\n",
      "24/24 [==============================] - 0s 5ms/step - loss: 98.3142 - val_loss: 709.3099\n",
      "Epoch 109/500\n",
      "24/24 [==============================] - 0s 6ms/step - loss: 95.2669 - val_loss: 712.9268\n",
      "Epoch 110/500\n",
      "24/24 [==============================] - 0s 6ms/step - loss: 92.3775 - val_loss: 716.5421\n",
      "Epoch 111/500\n",
      "24/24 [==============================] - 0s 5ms/step - loss: 89.6395 - val_loss: 720.1517\n",
      "Epoch 112/500\n",
      "24/24 [==============================] - 0s 6ms/step - loss: 87.0470 - val_loss: 723.7509\n",
      "Epoch 113/500\n",
      "24/24 [==============================] - 0s 9ms/step - loss: 84.5937 - val_loss: 727.3357\n",
      "Epoch 114/500\n",
      "24/24 [==============================] - 0s 7ms/step - loss: 82.2740 - val_loss: 730.9020\n",
      "Epoch 115/500\n",
      "24/24 [==============================] - 0s 5ms/step - loss: 80.0819 - val_loss: 734.4460\n",
      "Epoch 116/500\n",
      "24/24 [==============================] - 0s 5ms/step - loss: 78.0121 - val_loss: 737.9645\n",
      "Epoch 117/500\n",
      "24/24 [==============================] - 0s 5ms/step - loss: 76.0589 - val_loss: 741.4536\n",
      "Epoch 118/500\n",
      "24/24 [==============================] - 0s 5ms/step - loss: 74.2171 - val_loss: 744.9100\n",
      "Epoch 119/500\n",
      "24/24 [==============================] - 0s 5ms/step - loss: 72.4818 - val_loss: 748.3303\n",
      "Epoch 120/500\n",
      "24/24 [==============================] - 0s 5ms/step - loss: 70.8479 - val_loss: 751.7125\n",
      "Epoch 121/500\n",
      "24/24 [==============================] - 0s 5ms/step - loss: 69.3106 - val_loss: 755.0533\n",
      "Epoch 122/500\n",
      "24/24 [==============================] - 0s 4ms/step - loss: 67.8653 - val_loss: 758.3496\n",
      "Epoch 123/500\n",
      "24/24 [==============================] - 0s 4ms/step - loss: 66.5076 - val_loss: 761.5994\n",
      "Epoch 124/500\n",
      "24/24 [==============================] - 0s 4ms/step - loss: 65.2331 - val_loss: 764.8008\n",
      "Epoch 125/500\n",
      "24/24 [==============================] - 0s 4ms/step - loss: 64.0375 - val_loss: 767.9512\n",
      "Epoch 126/500\n",
      "24/24 [==============================] - 0s 5ms/step - loss: 62.9169 - val_loss: 771.0490\n",
      "Epoch 127/500\n",
      "24/24 [==============================] - 0s 5ms/step - loss: 61.8673 - val_loss: 774.0920\n",
      "Epoch 128/500\n",
      "24/24 [==============================] - 0s 5ms/step - loss: 60.8851 - val_loss: 777.0788\n",
      "Epoch 129/500\n",
      "24/24 [==============================] - 0s 5ms/step - loss: 59.9665 - val_loss: 780.0081\n",
      "Epoch 130/500\n",
      "24/24 [==============================] - 0s 4ms/step - loss: 59.1083 - val_loss: 782.8784\n",
      "Epoch 131/500\n",
      "24/24 [==============================] - 0s 4ms/step - loss: 58.3069 - val_loss: 785.6889\n",
      "Epoch 132/500\n",
      "24/24 [==============================] - 0s 4ms/step - loss: 57.5593 - val_loss: 788.4379\n",
      "Epoch 133/500\n",
      "24/24 [==============================] - 0s 4ms/step - loss: 56.8624 - val_loss: 791.1250\n",
      "Epoch 134/500\n",
      "24/24 [==============================] - 0s 6ms/step - loss: 56.2132 - val_loss: 793.7493\n",
      "Epoch 135/500\n",
      "24/24 [==============================] - 0s 7ms/step - loss: 55.6091 - val_loss: 796.3105\n",
      "Epoch 136/500\n",
      "24/24 [==============================] - 0s 5ms/step - loss: 55.0472 - val_loss: 798.8071\n",
      "Epoch 137/500\n",
      "24/24 [==============================] - 0s 5ms/step - loss: 54.5251 - val_loss: 801.2404\n",
      "Epoch 138/500\n",
      "24/24 [==============================] - 0s 5ms/step - loss: 54.0403 - val_loss: 803.6089\n",
      "Epoch 139/500\n",
      "24/24 [==============================] - 0s 5ms/step - loss: 53.5905 - val_loss: 805.9131\n",
      "Epoch 140/500\n",
      "24/24 [==============================] - 0s 5ms/step - loss: 53.1735 - val_loss: 808.1529\n",
      "Epoch 141/500\n",
      "24/24 [==============================] - 0s 4ms/step - loss: 52.7873 - val_loss: 810.3278\n",
      "Epoch 142/500\n",
      "24/24 [==============================] - 0s 5ms/step - loss: 52.4298 - val_loss: 812.4388\n",
      "Epoch 143/500\n",
      "24/24 [==============================] - 0s 8ms/step - loss: 52.0991 - val_loss: 814.4860\n",
      "Epoch 144/500\n",
      "24/24 [==============================] - 0s 7ms/step - loss: 51.7935 - val_loss: 816.4699\n",
      "Epoch 145/500\n",
      "24/24 [==============================] - 0s 6ms/step - loss: 51.5113 - val_loss: 818.3911\n",
      "Epoch 146/500\n",
      "24/24 [==============================] - 0s 6ms/step - loss: 51.2509 - val_loss: 820.2493\n",
      "Epoch 147/500\n",
      "24/24 [==============================] - 0s 6ms/step - loss: 51.0108 - val_loss: 822.0461\n",
      "Epoch 148/500\n",
      "24/24 [==============================] - 0s 7ms/step - loss: 50.7896 - val_loss: 823.7820\n",
      "Epoch 149/500\n",
      "24/24 [==============================] - 0s 7ms/step - loss: 50.5858 - val_loss: 825.4576\n",
      "Epoch 150/500\n",
      "24/24 [==============================] - 0s 6ms/step - loss: 50.3985 - val_loss: 827.0741\n",
      "Epoch 151/500\n",
      "24/24 [==============================] - 0s 6ms/step - loss: 50.2261 - val_loss: 828.6319\n",
      "Epoch 152/500\n",
      "24/24 [==============================] - 0s 6ms/step - loss: 50.0679 - val_loss: 830.1326\n",
      "Epoch 153/500\n",
      "24/24 [==============================] - 0s 6ms/step - loss: 49.9225 - val_loss: 831.5770\n",
      "Epoch 154/500\n",
      "24/24 [==============================] - 0s 5ms/step - loss: 49.7892 - val_loss: 832.9661\n",
      "Epoch 155/500\n",
      "24/24 [==============================] - 0s 6ms/step - loss: 49.6669 - val_loss: 834.3011\n",
      "Epoch 156/500\n",
      "24/24 [==============================] - 0s 6ms/step - loss: 49.5549 - val_loss: 835.5831\n",
      "Epoch 157/500\n",
      "24/24 [==============================] - 0s 6ms/step - loss: 49.4524 - val_loss: 836.8137\n",
      "Epoch 158/500\n",
      "24/24 [==============================] - 0s 6ms/step - loss: 49.3584 - val_loss: 837.9931\n",
      "Epoch 159/500\n",
      "24/24 [==============================] - 0s 9ms/step - loss: 49.2726 - val_loss: 839.1238\n",
      "Epoch 160/500\n",
      "24/24 [==============================] - 0s 9ms/step - loss: 49.1941 - val_loss: 840.2062\n",
      "Epoch 161/500\n",
      "24/24 [==============================] - 0s 7ms/step - loss: 49.1224 - val_loss: 841.2416\n",
      "Epoch 162/500\n",
      "24/24 [==============================] - 0s 5ms/step - loss: 49.0569 - val_loss: 842.2321\n",
      "Epoch 163/500\n",
      "24/24 [==============================] - 0s 5ms/step - loss: 48.9971 - val_loss: 843.1780\n",
      "Epoch 164/500\n",
      "24/24 [==============================] - 0s 6ms/step - loss: 48.9426 - val_loss: 844.0814\n",
      "Epoch 165/500\n",
      "24/24 [==============================] - 0s 7ms/step - loss: 48.8930 - val_loss: 844.9429\n",
      "Epoch 166/500\n",
      "24/24 [==============================] - 0s 7ms/step - loss: 48.8477 - val_loss: 845.7643\n",
      "Epoch 167/500\n",
      "24/24 [==============================] - 0s 7ms/step - loss: 48.8064 - val_loss: 846.5468\n",
      "Epoch 168/500\n",
      "24/24 [==============================] - 0s 6ms/step - loss: 48.7689 - val_loss: 847.2916\n",
      "Epoch 169/500\n",
      "24/24 [==============================] - 0s 6ms/step - loss: 48.7347 - val_loss: 848.0002\n",
      "Epoch 170/500\n",
      "24/24 [==============================] - 0s 6ms/step - loss: 48.7036 - val_loss: 848.6738\n",
      "Epoch 171/500\n",
      "24/24 [==============================] - 0s 6ms/step - loss: 48.6754 - val_loss: 849.3137\n",
      "Epoch 172/500\n",
      "24/24 [==============================] - 0s 6ms/step - loss: 48.6497 - val_loss: 849.9209\n",
      "Epoch 173/500\n",
      "24/24 [==============================] - 0s 6ms/step - loss: 48.6263 - val_loss: 850.4967\n",
      "Epoch 174/500\n",
      "24/24 [==============================] - 0s 6ms/step - loss: 48.6051 - val_loss: 851.0426\n",
      "Epoch 175/500\n",
      "24/24 [==============================] - 0s 6ms/step - loss: 48.5859 - val_loss: 851.5595\n",
      "Epoch 176/500\n",
      "24/24 [==============================] - 0s 6ms/step - loss: 48.5685 - val_loss: 852.0487\n",
      "Epoch 177/500\n",
      "24/24 [==============================] - 0s 6ms/step - loss: 48.5526 - val_loss: 852.5114\n",
      "Epoch 178/500\n",
      "24/24 [==============================] - 0s 6ms/step - loss: 48.5382 - val_loss: 852.9484\n",
      "Epoch 179/500\n",
      "24/24 [==============================] - 0s 8ms/step - loss: 48.5253 - val_loss: 853.3610\n",
      "Epoch 180/500\n",
      "24/24 [==============================] - 0s 8ms/step - loss: 48.5135 - val_loss: 853.7507\n",
      "Epoch 181/500\n",
      "24/24 [==============================] - 0s 6ms/step - loss: 48.5028 - val_loss: 854.1177\n",
      "Epoch 182/500\n",
      "24/24 [==============================] - 0s 6ms/step - loss: 48.4932 - val_loss: 854.4636\n",
      "Epoch 183/500\n",
      "24/24 [==============================] - 0s 6ms/step - loss: 48.4845 - val_loss: 854.7895\n",
      "Epoch 184/500\n",
      "24/24 [==============================] - 0s 7ms/step - loss: 48.4767 - val_loss: 855.0956\n",
      "Epoch 185/500\n",
      "24/24 [==============================] - 0s 6ms/step - loss: 48.4696 - val_loss: 855.3839\n",
      "Epoch 186/500\n",
      "24/24 [==============================] - 0s 6ms/step - loss: 48.4632 - val_loss: 855.6544\n",
      "Epoch 187/500\n",
      "24/24 [==============================] - 0s 6ms/step - loss: 48.4575 - val_loss: 855.9086\n",
      "Epoch 188/500\n",
      "24/24 [==============================] - 0s 7ms/step - loss: 48.4523 - val_loss: 856.1464\n",
      "Epoch 189/500\n",
      "24/24 [==============================] - 0s 6ms/step - loss: 48.4478 - val_loss: 856.3702\n",
      "Epoch 190/500\n",
      "24/24 [==============================] - 0s 5ms/step - loss: 48.4436 - val_loss: 856.5790\n",
      "Epoch 191/500\n",
      "24/24 [==============================] - 0s 5ms/step - loss: 48.4399 - val_loss: 856.7747\n",
      "Epoch 192/500\n",
      "24/24 [==============================] - 0s 7ms/step - loss: 48.4366 - val_loss: 856.9572\n",
      "Epoch 193/500\n",
      "24/24 [==============================] - 0s 6ms/step - loss: 48.4338 - val_loss: 857.1281\n",
      "Epoch 194/500\n",
      "24/24 [==============================] - 0s 6ms/step - loss: 48.4312 - val_loss: 857.2878\n",
      "Epoch 195/500\n",
      "24/24 [==============================] - 0s 5ms/step - loss: 48.4289 - val_loss: 857.4363\n",
      "Epoch 196/500\n",
      "24/24 [==============================] - 0s 4ms/step - loss: 48.4269 - val_loss: 857.5750\n",
      "Epoch 197/500\n",
      "24/24 [==============================] - 0s 5ms/step - loss: 48.4253 - val_loss: 857.7041\n",
      "Epoch 198/500\n",
      "24/24 [==============================] - 0s 7ms/step - loss: 48.4238 - val_loss: 857.8244\n",
      "Epoch 199/500\n",
      "24/24 [==============================] - 0s 6ms/step - loss: 48.4225 - val_loss: 857.9363\n",
      "Epoch 200/500\n",
      "24/24 [==============================] - 0s 5ms/step - loss: 48.4215 - val_loss: 858.0395\n",
      "Epoch 201/500\n",
      "24/24 [==============================] - 0s 5ms/step - loss: 48.4206 - val_loss: 858.1356\n",
      "Epoch 202/500\n",
      "24/24 [==============================] - 0s 4ms/step - loss: 48.4199 - val_loss: 858.2246\n",
      "Epoch 203/500\n",
      "24/24 [==============================] - 0s 4ms/step - loss: 48.4194 - val_loss: 858.3073\n",
      "Epoch 204/500\n",
      "24/24 [==============================] - 0s 4ms/step - loss: 48.4189 - val_loss: 858.3839\n",
      "Epoch 205/500\n",
      "24/24 [==============================] - 0s 4ms/step - loss: 48.4187 - val_loss: 858.4543\n",
      "Epoch 206/500\n",
      "24/24 [==============================] - 0s 4ms/step - loss: 48.4185 - val_loss: 858.5199\n",
      "Epoch 207/500\n",
      "24/24 [==============================] - 0s 4ms/step - loss: 48.4185 - val_loss: 858.5800\n",
      "Epoch 208/500\n",
      "24/24 [==============================] - 0s 4ms/step - loss: 48.4185 - val_loss: 858.6357\n",
      "Epoch 209/500\n",
      "24/24 [==============================] - 0s 4ms/step - loss: 48.4186 - val_loss: 858.6867\n",
      "Epoch 210/500\n",
      "24/24 [==============================] - 0s 4ms/step - loss: 48.4189 - val_loss: 858.7334\n",
      "Epoch 211/500\n",
      "24/24 [==============================] - 0s 4ms/step - loss: 48.4192 - val_loss: 858.7761\n",
      "Epoch 212/500\n",
      "24/24 [==============================] - 0s 4ms/step - loss: 48.4196 - val_loss: 858.8157\n",
      "Epoch 213/500\n",
      "24/24 [==============================] - 0s 4ms/step - loss: 48.4200 - val_loss: 858.8519\n",
      "Epoch 214/500\n",
      "24/24 [==============================] - 0s 4ms/step - loss: 48.4205 - val_loss: 858.8847\n",
      "Epoch 215/500\n",
      "24/24 [==============================] - 0s 4ms/step - loss: 48.4210 - val_loss: 858.9149\n",
      "Epoch 216/500\n",
      "24/24 [==============================] - 0s 4ms/step - loss: 48.4216 - val_loss: 858.9424\n",
      "Epoch 217/500\n",
      "24/24 [==============================] - 0s 4ms/step - loss: 48.4223 - val_loss: 858.9676\n",
      "Epoch 218/500\n",
      "24/24 [==============================] - 0s 4ms/step - loss: 48.4229 - val_loss: 858.9903\n",
      "Epoch 219/500\n",
      "24/24 [==============================] - 0s 4ms/step - loss: 48.4236 - val_loss: 859.0107\n",
      "Epoch 220/500\n",
      "24/24 [==============================] - 0s 5ms/step - loss: 48.4244 - val_loss: 859.0296\n",
      "Epoch 221/500\n",
      "24/24 [==============================] - 0s 7ms/step - loss: 48.4251 - val_loss: 859.0462\n",
      "Epoch 222/500\n",
      "24/24 [==============================] - 0s 6ms/step - loss: 48.4259 - val_loss: 859.0611\n",
      "Epoch 223/500\n",
      "24/24 [==============================] - 0s 5ms/step - loss: 48.4268 - val_loss: 859.0746\n",
      "Epoch 224/500\n",
      "24/24 [==============================] - 0s 4ms/step - loss: 48.4276 - val_loss: 859.0869\n",
      "Epoch 225/500\n",
      "24/24 [==============================] - 0s 4ms/step - loss: 48.4285 - val_loss: 859.0975\n",
      "Epoch 226/500\n",
      "24/24 [==============================] - 0s 4ms/step - loss: 48.4293 - val_loss: 859.1069\n",
      "Epoch 227/500\n",
      "24/24 [==============================] - 0s 5ms/step - loss: 48.4302 - val_loss: 859.1153\n",
      "Epoch 228/500\n",
      "24/24 [==============================] - 0s 5ms/step - loss: 48.4311 - val_loss: 859.1227\n",
      "Epoch 229/500\n",
      "24/24 [==============================] - 0s 4ms/step - loss: 48.4320 - val_loss: 859.1293\n",
      "Epoch 230/500\n",
      "24/24 [==============================] - 0s 4ms/step - loss: 48.4329 - val_loss: 859.1349\n",
      "Epoch 231/500\n",
      "24/24 [==============================] - 0s 4ms/step - loss: 48.4338 - val_loss: 859.1396\n",
      "Epoch 232/500\n",
      "24/24 [==============================] - 0s 4ms/step - loss: 48.4348 - val_loss: 859.1437\n",
      "Epoch 233/500\n",
      "24/24 [==============================] - 0s 4ms/step - loss: 48.4358 - val_loss: 859.1471\n",
      "Epoch 234/500\n",
      "24/24 [==============================] - 0s 5ms/step - loss: 48.4366 - val_loss: 859.1501\n",
      "Epoch 235/500\n",
      "24/24 [==============================] - 0s 4ms/step - loss: 48.4376 - val_loss: 859.1523\n",
      "Epoch 236/500\n",
      "24/24 [==============================] - 0s 5ms/step - loss: 48.4385 - val_loss: 859.1542\n",
      "Epoch 237/500\n",
      "24/24 [==============================] - 0s 6ms/step - loss: 48.4394 - val_loss: 859.1555\n",
      "Epoch 238/500\n",
      "24/24 [==============================] - 0s 5ms/step - loss: 48.4403 - val_loss: 859.1563\n",
      "Epoch 239/500\n",
      "24/24 [==============================] - 0s 4ms/step - loss: 48.4413 - val_loss: 859.1570\n",
      "Epoch 240/500\n",
      "24/24 [==============================] - 0s 4ms/step - loss: 48.4422 - val_loss: 859.1570\n",
      "Epoch 241/500\n",
      "24/24 [==============================] - 0s 4ms/step - loss: 48.4431 - val_loss: 859.1569\n",
      "Epoch 242/500\n",
      "24/24 [==============================] - 0s 4ms/step - loss: 48.4440 - val_loss: 859.1566\n",
      "Epoch 243/500\n",
      "24/24 [==============================] - 0s 7ms/step - loss: 48.4449 - val_loss: 859.1558\n",
      "Epoch 244/500\n",
      "24/24 [==============================] - 0s 6ms/step - loss: 48.4458 - val_loss: 859.1551\n",
      "Epoch 245/500\n",
      "24/24 [==============================] - 0s 5ms/step - loss: 48.4467 - val_loss: 859.1538\n",
      "Epoch 246/500\n",
      "24/24 [==============================] - 0s 5ms/step - loss: 48.4476 - val_loss: 859.1527\n",
      "Epoch 247/500\n",
      "24/24 [==============================] - 0s 5ms/step - loss: 48.4485 - val_loss: 859.1511\n",
      "Epoch 248/500\n",
      "24/24 [==============================] - 0s 5ms/step - loss: 48.4494 - val_loss: 859.1498\n",
      "Epoch 249/500\n",
      "24/24 [==============================] - 0s 4ms/step - loss: 48.4502 - val_loss: 859.1479\n",
      "Epoch 250/500\n",
      "24/24 [==============================] - 0s 4ms/step - loss: 48.4510 - val_loss: 859.1460\n",
      "Epoch 251/500\n",
      "24/24 [==============================] - 0s 5ms/step - loss: 48.4519 - val_loss: 859.1441\n",
      "Epoch 252/500\n",
      "24/24 [==============================] - 0s 4ms/step - loss: 48.4527 - val_loss: 859.1420\n",
      "Epoch 253/500\n",
      "24/24 [==============================] - 0s 5ms/step - loss: 48.4536 - val_loss: 859.1400\n",
      "Epoch 254/500\n",
      "24/24 [==============================] - 0s 5ms/step - loss: 48.4544 - val_loss: 859.1379\n",
      "Epoch 255/500\n",
      "24/24 [==============================] - 0s 5ms/step - loss: 48.4552 - val_loss: 859.1357\n",
      "Epoch 256/500\n",
      "24/24 [==============================] - 0s 5ms/step - loss: 48.4560 - val_loss: 859.1333\n",
      "Epoch 257/500\n",
      "24/24 [==============================] - 0s 8ms/step - loss: 48.4567 - val_loss: 859.1309\n",
      "Epoch 258/500\n",
      "24/24 [==============================] - 0s 6ms/step - loss: 48.4575 - val_loss: 859.1288\n",
      "Epoch 259/500\n",
      "24/24 [==============================] - 0s 7ms/step - loss: 48.4583 - val_loss: 859.1263\n",
      "Epoch 260/500\n",
      "24/24 [==============================] - 0s 6ms/step - loss: 48.4590 - val_loss: 859.1240\n",
      "Epoch 261/500\n",
      "24/24 [==============================] - 0s 9ms/step - loss: 48.4598 - val_loss: 859.1217\n",
      "Epoch 262/500\n",
      "24/24 [==============================] - 0s 7ms/step - loss: 48.4605 - val_loss: 859.1194\n",
      "Epoch 263/500\n",
      "24/24 [==============================] - 0s 5ms/step - loss: 48.4612 - val_loss: 859.1169\n",
      "Epoch 264/500\n",
      "24/24 [==============================] - 0s 5ms/step - loss: 48.4619 - val_loss: 859.1147\n",
      "Epoch 265/500\n",
      "24/24 [==============================] - 0s 5ms/step - loss: 48.4627 - val_loss: 859.1124\n",
      "Epoch 266/500\n",
      "24/24 [==============================] - 0s 5ms/step - loss: 48.4633 - val_loss: 859.1099\n",
      "Epoch 267/500\n",
      "24/24 [==============================] - 0s 5ms/step - loss: 48.4640 - val_loss: 859.1078\n",
      "Epoch 268/500\n",
      "24/24 [==============================] - 0s 5ms/step - loss: 48.4647 - val_loss: 859.1056\n",
      "Epoch 269/500\n",
      "24/24 [==============================] - 0s 4ms/step - loss: 48.4653 - val_loss: 859.1034\n",
      "Epoch 270/500\n",
      "24/24 [==============================] - 0s 4ms/step - loss: 48.4660 - val_loss: 859.1008\n",
      "Epoch 271/500\n",
      "24/24 [==============================] - 0s 5ms/step - loss: 48.4666 - val_loss: 859.0989\n",
      "Epoch 272/500\n",
      "24/24 [==============================] - 0s 4ms/step - loss: 48.4672 - val_loss: 859.0964\n",
      "Epoch 273/500\n",
      "24/24 [==============================] - 0s 4ms/step - loss: 48.4678 - val_loss: 859.0944\n",
      "Epoch 274/500\n",
      "24/24 [==============================] - 0s 4ms/step - loss: 48.4685 - val_loss: 859.0921\n",
      "Epoch 275/500\n",
      "24/24 [==============================] - 0s 5ms/step - loss: 48.4690 - val_loss: 859.0901\n",
      "Epoch 276/500\n",
      "24/24 [==============================] - 0s 4ms/step - loss: 48.4696 - val_loss: 859.0876\n",
      "Epoch 277/500\n",
      "24/24 [==============================] - 0s 5ms/step - loss: 48.4702 - val_loss: 859.0859\n",
      "Epoch 278/500\n",
      "24/24 [==============================] - 0s 5ms/step - loss: 48.4708 - val_loss: 859.0839\n",
      "Epoch 279/500\n",
      "24/24 [==============================] - 0s 4ms/step - loss: 48.4713 - val_loss: 859.0821\n",
      "Epoch 280/500\n",
      "24/24 [==============================] - 0s 4ms/step - loss: 48.4719 - val_loss: 859.0798\n",
      "Epoch 281/500\n",
      "24/24 [==============================] - 0s 4ms/step - loss: 48.4724 - val_loss: 859.0781\n",
      "Epoch 282/500\n",
      "24/24 [==============================] - 0s 4ms/step - loss: 48.4729 - val_loss: 859.0763\n",
      "Epoch 283/500\n",
      "24/24 [==============================] - 0s 8ms/step - loss: 48.4734 - val_loss: 859.0743\n",
      "Epoch 284/500\n",
      "24/24 [==============================] - 0s 6ms/step - loss: 48.4739 - val_loss: 859.0724\n",
      "Epoch 285/500\n",
      "24/24 [==============================] - 0s 5ms/step - loss: 48.4744 - val_loss: 859.0705\n",
      "Epoch 286/500\n",
      "24/24 [==============================] - 0s 6ms/step - loss: 48.4749 - val_loss: 859.0690\n",
      "Epoch 287/500\n",
      "24/24 [==============================] - 0s 5ms/step - loss: 48.4754 - val_loss: 859.0670\n",
      "Epoch 288/500\n",
      "24/24 [==============================] - 0s 4ms/step - loss: 48.4759 - val_loss: 859.0652\n",
      "Epoch 289/500\n",
      "24/24 [==============================] - 0s 5ms/step - loss: 48.4763 - val_loss: 859.0634\n",
      "Epoch 290/500\n",
      "24/24 [==============================] - 0s 5ms/step - loss: 48.4768 - val_loss: 859.0618\n",
      "Epoch 291/500\n",
      "24/24 [==============================] - 0s 4ms/step - loss: 48.4772 - val_loss: 859.0602\n",
      "Epoch 292/500\n",
      "24/24 [==============================] - 0s 4ms/step - loss: 48.4777 - val_loss: 859.0583\n",
      "Epoch 293/500\n",
      "24/24 [==============================] - 0s 4ms/step - loss: 48.4781 - val_loss: 859.0571\n",
      "Epoch 294/500\n",
      "24/24 [==============================] - 0s 4ms/step - loss: 48.4785 - val_loss: 859.0549\n",
      "Epoch 295/500\n",
      "24/24 [==============================] - 0s 5ms/step - loss: 48.4789 - val_loss: 859.0538\n",
      "Epoch 296/500\n",
      "24/24 [==============================] - 0s 4ms/step - loss: 48.4793 - val_loss: 859.0523\n",
      "Epoch 297/500\n",
      "24/24 [==============================] - 0s 4ms/step - loss: 48.4797 - val_loss: 859.0502\n",
      "Epoch 298/500\n",
      "24/24 [==============================] - 0s 4ms/step - loss: 48.4801 - val_loss: 859.0493\n",
      "Epoch 299/500\n",
      "24/24 [==============================] - 0s 4ms/step - loss: 48.4804 - val_loss: 859.0475\n",
      "Epoch 300/500\n",
      "24/24 [==============================] - 0s 5ms/step - loss: 48.4809 - val_loss: 859.0461\n",
      "Epoch 301/500\n",
      "24/24 [==============================] - 0s 8ms/step - loss: 48.4813 - val_loss: 859.0450\n",
      "Epoch 302/500\n",
      "24/24 [==============================] - 0s 5ms/step - loss: 48.4816 - val_loss: 859.0434\n",
      "Epoch 303/500\n",
      "24/24 [==============================] - 0s 5ms/step - loss: 48.4819 - val_loss: 859.0421\n",
      "Epoch 304/500\n",
      "24/24 [==============================] - 0s 4ms/step - loss: 48.4823 - val_loss: 859.0410\n",
      "Epoch 305/500\n",
      "24/24 [==============================] - 0s 4ms/step - loss: 48.4826 - val_loss: 859.0396\n",
      "Epoch 306/500\n",
      "24/24 [==============================] - 0s 5ms/step - loss: 48.4829 - val_loss: 859.0384\n",
      "Epoch 307/500\n",
      "24/24 [==============================] - 0s 5ms/step - loss: 48.4832 - val_loss: 859.0372\n",
      "Epoch 308/500\n",
      "24/24 [==============================] - 0s 4ms/step - loss: 48.4836 - val_loss: 859.0358\n",
      "Epoch 309/500\n",
      "24/24 [==============================] - 0s 4ms/step - loss: 48.4839 - val_loss: 859.0347\n",
      "Epoch 310/500\n",
      "24/24 [==============================] - 0s 4ms/step - loss: 48.4842 - val_loss: 859.0334\n",
      "Epoch 311/500\n",
      "24/24 [==============================] - 0s 4ms/step - loss: 48.4845 - val_loss: 859.0324\n",
      "Epoch 312/500\n",
      "24/24 [==============================] - 0s 5ms/step - loss: 48.4848 - val_loss: 859.0316\n",
      "Epoch 313/500\n",
      "24/24 [==============================] - 0s 4ms/step - loss: 48.4850 - val_loss: 859.0298\n",
      "Epoch 314/500\n",
      "24/24 [==============================] - 0s 4ms/step - loss: 48.4854 - val_loss: 859.0289\n",
      "Epoch 315/500\n",
      "24/24 [==============================] - 0s 4ms/step - loss: 48.4856 - val_loss: 859.0283\n",
      "Epoch 316/500\n",
      "24/24 [==============================] - 0s 4ms/step - loss: 48.4858 - val_loss: 859.0272\n",
      "Epoch 317/500\n",
      "24/24 [==============================] - 0s 5ms/step - loss: 48.4861 - val_loss: 859.0259\n",
      "Epoch 318/500\n",
      "24/24 [==============================] - 0s 5ms/step - loss: 48.4864 - val_loss: 859.0250\n",
      "Epoch 319/500\n",
      "24/24 [==============================] - 0s 5ms/step - loss: 48.4866 - val_loss: 859.0241\n",
      "Epoch 320/500\n",
      "24/24 [==============================] - 0s 6ms/step - loss: 48.4869 - val_loss: 859.0230\n",
      "Epoch 321/500\n",
      "24/24 [==============================] - 0s 8ms/step - loss: 48.4871 - val_loss: 859.0223\n",
      "Epoch 322/500\n",
      "24/24 [==============================] - 0s 5ms/step - loss: 48.4873 - val_loss: 859.0218\n",
      "Epoch 323/500\n",
      "24/24 [==============================] - 0s 5ms/step - loss: 48.4876 - val_loss: 859.0208\n",
      "Epoch 324/500\n",
      "24/24 [==============================] - 0s 5ms/step - loss: 48.4878 - val_loss: 859.0198\n",
      "Epoch 325/500\n",
      "24/24 [==============================] - 0s 5ms/step - loss: 48.4880 - val_loss: 859.0189\n",
      "Epoch 326/500\n",
      "24/24 [==============================] - 0s 5ms/step - loss: 48.4882 - val_loss: 859.0182\n",
      "Epoch 327/500\n",
      "24/24 [==============================] - 0s 4ms/step - loss: 48.4885 - val_loss: 859.0173\n",
      "Epoch 328/500\n",
      "24/24 [==============================] - 0s 4ms/step - loss: 48.4886 - val_loss: 859.0164\n",
      "Epoch 329/500\n",
      "24/24 [==============================] - 0s 4ms/step - loss: 48.4889 - val_loss: 859.0158\n",
      "Epoch 330/500\n",
      "24/24 [==============================] - 0s 5ms/step - loss: 48.4890 - val_loss: 859.0148\n",
      "Epoch 331/500\n",
      "24/24 [==============================] - 0s 4ms/step - loss: 48.4893 - val_loss: 859.0145\n",
      "Epoch 332/500\n",
      "24/24 [==============================] - 0s 4ms/step - loss: 48.4894 - val_loss: 859.0137\n",
      "Epoch 333/500\n",
      "24/24 [==============================] - 0s 4ms/step - loss: 48.4896 - val_loss: 859.0132\n",
      "Epoch 334/500\n",
      "24/24 [==============================] - 0s 4ms/step - loss: 48.4898 - val_loss: 859.0121\n",
      "Epoch 335/500\n",
      "24/24 [==============================] - 0s 4ms/step - loss: 48.4900 - val_loss: 859.0112\n",
      "Epoch 336/500\n",
      "24/24 [==============================] - 0s 4ms/step - loss: 48.4901 - val_loss: 859.0105\n",
      "Epoch 337/500\n",
      "24/24 [==============================] - 0s 4ms/step - loss: 48.4903 - val_loss: 859.0099\n",
      "Epoch 338/500\n",
      "24/24 [==============================] - 0s 5ms/step - loss: 48.4905 - val_loss: 859.0094\n",
      "Epoch 339/500\n",
      "24/24 [==============================] - 0s 4ms/step - loss: 48.4906 - val_loss: 859.0085\n",
      "Epoch 340/500\n",
      "24/24 [==============================] - 0s 4ms/step - loss: 48.4907 - val_loss: 859.0076\n",
      "Epoch 341/500\n",
      "24/24 [==============================] - 0s 4ms/step - loss: 48.4910 - val_loss: 859.0074\n",
      "Epoch 342/500\n",
      "24/24 [==============================] - 0s 5ms/step - loss: 48.4911 - val_loss: 859.0070\n",
      "Epoch 343/500\n",
      "24/24 [==============================] - 0s 4ms/step - loss: 48.4912 - val_loss: 859.0062\n",
      "Epoch 344/500\n",
      "24/24 [==============================] - 0s 7ms/step - loss: 48.4914 - val_loss: 859.0057\n",
      "Epoch 345/500\n",
      "24/24 [==============================] - 0s 5ms/step - loss: 48.4915 - val_loss: 859.0050\n",
      "Epoch 346/500\n",
      "24/24 [==============================] - 0s 5ms/step - loss: 48.4916 - val_loss: 859.0042\n",
      "Epoch 347/500\n",
      "24/24 [==============================] - 0s 5ms/step - loss: 48.4918 - val_loss: 859.0036\n",
      "Epoch 348/500\n",
      "24/24 [==============================] - 0s 4ms/step - loss: 48.4919 - val_loss: 859.0031\n",
      "Epoch 349/500\n",
      "24/24 [==============================] - 0s 4ms/step - loss: 48.4921 - val_loss: 859.0029\n",
      "Epoch 350/500\n",
      "24/24 [==============================] - 0s 5ms/step - loss: 48.4922 - val_loss: 859.0023\n",
      "Epoch 351/500\n",
      "24/24 [==============================] - 0s 4ms/step - loss: 48.4923 - val_loss: 859.0020\n",
      "Epoch 352/500\n",
      "24/24 [==============================] - 0s 5ms/step - loss: 48.4924 - val_loss: 859.0016\n",
      "Epoch 353/500\n",
      "24/24 [==============================] - 0s 4ms/step - loss: 48.4926 - val_loss: 859.0012\n",
      "Epoch 354/500\n",
      "24/24 [==============================] - 0s 5ms/step - loss: 48.4926 - val_loss: 859.0005\n",
      "Epoch 355/500\n",
      "24/24 [==============================] - 0s 4ms/step - loss: 48.4927 - val_loss: 859.0002\n",
      "Epoch 356/500\n",
      "24/24 [==============================] - 0s 4ms/step - loss: 48.4929 - val_loss: 858.9997\n",
      "Epoch 357/500\n",
      "24/24 [==============================] - 0s 5ms/step - loss: 48.4930 - val_loss: 858.9993\n",
      "Epoch 358/500\n",
      "24/24 [==============================] - 0s 4ms/step - loss: 48.4931 - val_loss: 858.9990\n",
      "Epoch 359/500\n",
      "24/24 [==============================] - 0s 5ms/step - loss: 48.4932 - val_loss: 858.9985\n",
      "Epoch 360/500\n",
      "24/24 [==============================] - 0s 6ms/step - loss: 48.4933 - val_loss: 858.9981\n",
      "Epoch 361/500\n",
      "24/24 [==============================] - 0s 5ms/step - loss: 48.4934 - val_loss: 858.9979\n",
      "Epoch 362/500\n",
      "24/24 [==============================] - 0s 5ms/step - loss: 48.4935 - val_loss: 858.9977\n",
      "Epoch 363/500\n",
      "24/24 [==============================] - 0s 5ms/step - loss: 48.4935 - val_loss: 858.9971\n",
      "Epoch 364/500\n",
      "24/24 [==============================] - 0s 5ms/step - loss: 48.4936 - val_loss: 858.9965\n",
      "Epoch 365/500\n",
      "24/24 [==============================] - 0s 5ms/step - loss: 48.4938 - val_loss: 858.9962\n",
      "Epoch 366/500\n",
      "24/24 [==============================] - 0s 5ms/step - loss: 48.4938 - val_loss: 858.9962\n",
      "Epoch 367/500\n",
      "24/24 [==============================] - 0s 7ms/step - loss: 48.4939 - val_loss: 858.9959\n",
      "Epoch 368/500\n",
      "24/24 [==============================] - 0s 5ms/step - loss: 48.4940 - val_loss: 858.9955\n",
      "Epoch 369/500\n",
      "24/24 [==============================] - 0s 5ms/step - loss: 48.4941 - val_loss: 858.9951\n",
      "Epoch 370/500\n",
      "24/24 [==============================] - 0s 4ms/step - loss: 48.4942 - val_loss: 858.9950\n",
      "Epoch 371/500\n",
      "24/24 [==============================] - 0s 5ms/step - loss: 48.4942 - val_loss: 858.9945\n",
      "Epoch 372/500\n",
      "24/24 [==============================] - 0s 5ms/step - loss: 48.4943 - val_loss: 858.9943\n",
      "Epoch 373/500\n",
      "24/24 [==============================] - 0s 4ms/step - loss: 48.4944 - val_loss: 858.9940\n",
      "Epoch 374/500\n",
      "24/24 [==============================] - 0s 4ms/step - loss: 48.4944 - val_loss: 858.9938\n",
      "Epoch 375/500\n",
      "24/24 [==============================] - 0s 4ms/step - loss: 48.4945 - val_loss: 858.9931\n",
      "Epoch 376/500\n",
      "24/24 [==============================] - 0s 4ms/step - loss: 48.4946 - val_loss: 858.9926\n",
      "Epoch 377/500\n",
      "24/24 [==============================] - 0s 4ms/step - loss: 48.4947 - val_loss: 858.9924\n",
      "Epoch 378/500\n",
      "24/24 [==============================] - 0s 4ms/step - loss: 48.4948 - val_loss: 858.9925\n",
      "Epoch 379/500\n",
      "24/24 [==============================] - 0s 4ms/step - loss: 48.4948 - val_loss: 858.9920\n",
      "Epoch 380/500\n",
      "24/24 [==============================] - 0s 4ms/step - loss: 48.4948 - val_loss: 858.9915\n",
      "Epoch 381/500\n",
      "24/24 [==============================] - 0s 4ms/step - loss: 48.4949 - val_loss: 858.9911\n",
      "Epoch 382/500\n",
      "24/24 [==============================] - 0s 5ms/step - loss: 48.4950 - val_loss: 858.9908\n",
      "Epoch 383/500\n",
      "24/24 [==============================] - 0s 5ms/step - loss: 48.4950 - val_loss: 858.9905\n",
      "Epoch 384/500\n",
      "24/24 [==============================] - 0s 4ms/step - loss: 48.4951 - val_loss: 858.9901\n",
      "Epoch 385/500\n",
      "24/24 [==============================] - 0s 4ms/step - loss: 48.4952 - val_loss: 858.9900\n",
      "Epoch 386/500\n",
      "24/24 [==============================] - 0s 4ms/step - loss: 48.4952 - val_loss: 858.9900\n",
      "Epoch 387/500\n",
      "24/24 [==============================] - 0s 4ms/step - loss: 48.4953 - val_loss: 858.9898\n",
      "Epoch 388/500\n",
      "24/24 [==============================] - 0s 4ms/step - loss: 48.4953 - val_loss: 858.9895\n",
      "Epoch 389/500\n",
      "24/24 [==============================] - 0s 8ms/step - loss: 48.4953 - val_loss: 858.9895\n",
      "Epoch 390/500\n",
      "24/24 [==============================] - 0s 5ms/step - loss: 48.4954 - val_loss: 858.9892\n",
      "Epoch 391/500\n",
      "24/24 [==============================] - 0s 5ms/step - loss: 48.4954 - val_loss: 858.9891\n",
      "Epoch 392/500\n",
      "24/24 [==============================] - 0s 4ms/step - loss: 48.4954 - val_loss: 858.9890\n",
      "Epoch 393/500\n",
      "24/24 [==============================] - 0s 4ms/step - loss: 48.4955 - val_loss: 858.9887\n",
      "Epoch 394/500\n",
      "24/24 [==============================] - 0s 4ms/step - loss: 48.4956 - val_loss: 858.9881\n",
      "Epoch 395/500\n",
      "24/24 [==============================] - 0s 4ms/step - loss: 48.4956 - val_loss: 858.9879\n",
      "Epoch 396/500\n",
      "24/24 [==============================] - 0s 6ms/step - loss: 48.4957 - val_loss: 858.9877\n",
      "Epoch 397/500\n",
      "24/24 [==============================] - 0s 5ms/step - loss: 48.4957 - val_loss: 858.9874\n",
      "Epoch 398/500\n",
      "24/24 [==============================] - 0s 4ms/step - loss: 48.4958 - val_loss: 858.9874\n",
      "Epoch 399/500\n",
      "24/24 [==============================] - 0s 4ms/step - loss: 48.4958 - val_loss: 858.9872\n",
      "Epoch 400/500\n",
      "24/24 [==============================] - 0s 4ms/step - loss: 48.4959 - val_loss: 858.9872\n",
      "Epoch 401/500\n",
      "24/24 [==============================] - 0s 5ms/step - loss: 48.4958 - val_loss: 858.9867\n",
      "Epoch 402/500\n",
      "24/24 [==============================] - 0s 5ms/step - loss: 48.4959 - val_loss: 858.9865\n",
      "Epoch 403/500\n",
      "24/24 [==============================] - 0s 4ms/step - loss: 48.4959 - val_loss: 858.9863\n",
      "Epoch 404/500\n",
      "24/24 [==============================] - 0s 5ms/step - loss: 48.4960 - val_loss: 858.9863\n",
      "Epoch 405/500\n",
      "24/24 [==============================] - 0s 4ms/step - loss: 48.4960 - val_loss: 858.9863\n",
      "Epoch 406/500\n",
      "24/24 [==============================] - 0s 4ms/step - loss: 48.4961 - val_loss: 858.9861\n",
      "Epoch 407/500\n",
      "24/24 [==============================] - 0s 4ms/step - loss: 48.4961 - val_loss: 858.9858\n",
      "Epoch 408/500\n",
      "24/24 [==============================] - 0s 4ms/step - loss: 48.4961 - val_loss: 858.9855\n",
      "Epoch 409/500\n",
      "24/24 [==============================] - 0s 5ms/step - loss: 48.4961 - val_loss: 858.9852\n",
      "Epoch 410/500\n",
      "24/24 [==============================] - 0s 8ms/step - loss: 48.4962 - val_loss: 858.9852\n",
      "Epoch 411/500\n",
      "24/24 [==============================] - 0s 5ms/step - loss: 48.4962 - val_loss: 858.9853\n",
      "Epoch 412/500\n",
      "24/24 [==============================] - 0s 5ms/step - loss: 48.4963 - val_loss: 858.9852\n",
      "Epoch 413/500\n",
      "24/24 [==============================] - 0s 5ms/step - loss: 48.4963 - val_loss: 858.9847\n",
      "Epoch 414/500\n",
      "24/24 [==============================] - 0s 4ms/step - loss: 48.4963 - val_loss: 858.9844\n",
      "Epoch 415/500\n",
      "24/24 [==============================] - 0s 5ms/step - loss: 48.4963 - val_loss: 858.9846\n",
      "Epoch 416/500\n",
      "24/24 [==============================] - 0s 5ms/step - loss: 48.4963 - val_loss: 858.9841\n",
      "Epoch 417/500\n",
      "24/24 [==============================] - 0s 5ms/step - loss: 48.4964 - val_loss: 858.9839\n",
      "Epoch 418/500\n",
      "24/24 [==============================] - 0s 5ms/step - loss: 48.4964 - val_loss: 858.9839\n",
      "Epoch 419/500\n",
      "24/24 [==============================] - 0s 5ms/step - loss: 48.4964 - val_loss: 858.9836\n",
      "Epoch 420/500\n",
      "24/24 [==============================] - 0s 5ms/step - loss: 48.4965 - val_loss: 858.9836\n",
      "Epoch 421/500\n",
      "24/24 [==============================] - 0s 5ms/step - loss: 48.4965 - val_loss: 858.9834\n",
      "Epoch 422/500\n",
      "24/24 [==============================] - 0s 5ms/step - loss: 48.4965 - val_loss: 858.9833\n",
      "Epoch 423/500\n",
      "24/24 [==============================] - 0s 5ms/step - loss: 48.4965 - val_loss: 858.9832\n",
      "Epoch 424/500\n",
      "24/24 [==============================] - 0s 6ms/step - loss: 48.4965 - val_loss: 858.9830\n",
      "Epoch 425/500\n",
      "24/24 [==============================] - 0s 5ms/step - loss: 48.4966 - val_loss: 858.9830\n",
      "Epoch 426/500\n",
      "24/24 [==============================] - 0s 5ms/step - loss: 48.4966 - val_loss: 858.9830\n",
      "Epoch 427/500\n",
      "24/24 [==============================] - 0s 5ms/step - loss: 48.4967 - val_loss: 858.9833\n",
      "Epoch 428/500\n",
      "24/24 [==============================] - 0s 5ms/step - loss: 48.4967 - val_loss: 858.9832\n",
      "Epoch 429/500\n",
      "24/24 [==============================] - 0s 4ms/step - loss: 48.4967 - val_loss: 858.9833\n",
      "Epoch 430/500\n",
      "24/24 [==============================] - 0s 8ms/step - loss: 48.4967 - val_loss: 858.9833\n",
      "Epoch 431/500\n",
      "24/24 [==============================] - 0s 5ms/step - loss: 48.4967 - val_loss: 858.9832\n",
      "Epoch 432/500\n",
      "24/24 [==============================] - 0s 5ms/step - loss: 48.4967 - val_loss: 858.9830\n",
      "Epoch 433/500\n",
      "24/24 [==============================] - 0s 5ms/step - loss: 48.4967 - val_loss: 858.9825\n",
      "Epoch 434/500\n",
      "24/24 [==============================] - 0s 5ms/step - loss: 48.4967 - val_loss: 858.9823\n",
      "Epoch 435/500\n",
      "24/24 [==============================] - 0s 5ms/step - loss: 48.4967 - val_loss: 858.9822\n",
      "Epoch 436/500\n",
      "24/24 [==============================] - 0s 5ms/step - loss: 48.4968 - val_loss: 858.9820\n",
      "Epoch 437/500\n",
      "24/24 [==============================] - 0s 5ms/step - loss: 48.4968 - val_loss: 858.9821\n",
      "Epoch 438/500\n",
      "24/24 [==============================] - 0s 5ms/step - loss: 48.4968 - val_loss: 858.9820\n",
      "Epoch 439/500\n",
      "24/24 [==============================] - 0s 5ms/step - loss: 48.4969 - val_loss: 858.9821\n",
      "Epoch 440/500\n",
      "24/24 [==============================] - 0s 4ms/step - loss: 48.4969 - val_loss: 858.9823\n",
      "Epoch 441/500\n",
      "24/24 [==============================] - 0s 4ms/step - loss: 48.4969 - val_loss: 858.9825\n",
      "Epoch 442/500\n",
      "24/24 [==============================] - 0s 4ms/step - loss: 48.4969 - val_loss: 858.9829\n",
      "Epoch 443/500\n",
      "24/24 [==============================] - 0s 6ms/step - loss: 48.4969 - val_loss: 858.9828\n",
      "Epoch 444/500\n",
      "24/24 [==============================] - 0s 5ms/step - loss: 48.4969 - val_loss: 858.9830\n",
      "Epoch 445/500\n",
      "24/24 [==============================] - 0s 5ms/step - loss: 48.4969 - val_loss: 858.9830\n",
      "Epoch 446/500\n",
      "24/24 [==============================] - 0s 4ms/step - loss: 48.4969 - val_loss: 858.9832\n",
      "Epoch 447/500\n",
      "24/24 [==============================] - 0s 4ms/step - loss: 48.4969 - val_loss: 858.9829\n",
      "Epoch 448/500\n",
      "24/24 [==============================] - 0s 4ms/step - loss: 48.4969 - val_loss: 858.9823\n",
      "Epoch 449/500\n",
      "24/24 [==============================] - 0s 4ms/step - loss: 48.4969 - val_loss: 858.9819\n",
      "Epoch 450/500\n",
      "24/24 [==============================] - 0s 5ms/step - loss: 48.4969 - val_loss: 858.9816\n",
      "Epoch 451/500\n",
      "24/24 [==============================] - 0s 4ms/step - loss: 48.4969 - val_loss: 858.9811\n",
      "Epoch 452/500\n",
      "24/24 [==============================] - 0s 5ms/step - loss: 48.4970 - val_loss: 858.9809\n",
      "Epoch 453/500\n",
      "24/24 [==============================] - 0s 5ms/step - loss: 48.4970 - val_loss: 858.9810\n",
      "Epoch 454/500\n",
      "24/24 [==============================] - 0s 4ms/step - loss: 48.4970 - val_loss: 858.9809\n",
      "Epoch 455/500\n",
      "24/24 [==============================] - 0s 5ms/step - loss: 48.4971 - val_loss: 858.9811\n",
      "Epoch 456/500\n",
      "24/24 [==============================] - 0s 4ms/step - loss: 48.4971 - val_loss: 858.9813\n",
      "Epoch 457/500\n",
      "24/24 [==============================] - 0s 5ms/step - loss: 48.4971 - val_loss: 858.9813\n",
      "Epoch 458/500\n",
      "24/24 [==============================] - 0s 5ms/step - loss: 48.4971 - val_loss: 858.9815\n",
      "Epoch 459/500\n",
      "24/24 [==============================] - 0s 4ms/step - loss: 48.4971 - val_loss: 858.9817\n",
      "Epoch 460/500\n",
      "24/24 [==============================] - 0s 4ms/step - loss: 48.4971 - val_loss: 858.9818\n",
      "Epoch 461/500\n",
      "24/24 [==============================] - 0s 8ms/step - loss: 48.4971 - val_loss: 858.9818\n",
      "Epoch 462/500\n",
      "24/24 [==============================] - 0s 5ms/step - loss: 48.4971 - val_loss: 858.9820\n",
      "Epoch 463/500\n",
      "24/24 [==============================] - 0s 6ms/step - loss: 48.4971 - val_loss: 858.9824\n",
      "Epoch 464/500\n",
      "24/24 [==============================] - 0s 5ms/step - loss: 48.4971 - val_loss: 858.9825\n",
      "Epoch 465/500\n",
      "24/24 [==============================] - 0s 5ms/step - loss: 48.4971 - val_loss: 858.9825\n",
      "Epoch 466/500\n",
      "24/24 [==============================] - 0s 5ms/step - loss: 48.4971 - val_loss: 858.9825\n",
      "Epoch 467/500\n",
      "24/24 [==============================] - 0s 5ms/step - loss: 48.4971 - val_loss: 858.9823\n",
      "Epoch 468/500\n",
      "24/24 [==============================] - 0s 5ms/step - loss: 48.4971 - val_loss: 858.9822\n",
      "Epoch 469/500\n",
      "24/24 [==============================] - 0s 4ms/step - loss: 48.4971 - val_loss: 858.9818\n",
      "Epoch 470/500\n",
      "24/24 [==============================] - 0s 4ms/step - loss: 48.4971 - val_loss: 858.9814\n",
      "Epoch 471/500\n",
      "24/24 [==============================] - 0s 5ms/step - loss: 48.4971 - val_loss: 858.9811\n",
      "Epoch 472/500\n",
      "24/24 [==============================] - 0s 4ms/step - loss: 48.4971 - val_loss: 858.9809\n",
      "Epoch 473/500\n",
      "24/24 [==============================] - 0s 5ms/step - loss: 48.4971 - val_loss: 858.9806\n",
      "Epoch 474/500\n",
      "24/24 [==============================] - 0s 4ms/step - loss: 48.4972 - val_loss: 858.9805\n",
      "Epoch 475/500\n",
      "24/24 [==============================] - 0s 4ms/step - loss: 48.4972 - val_loss: 858.9802\n",
      "Epoch 476/500\n",
      "24/24 [==============================] - 0s 5ms/step - loss: 48.4972 - val_loss: 858.9799\n",
      "Epoch 477/500\n",
      "24/24 [==============================] - 0s 4ms/step - loss: 48.4972 - val_loss: 858.9798\n",
      "Epoch 478/500\n",
      "24/24 [==============================] - 0s 9ms/step - loss: 48.4972 - val_loss: 858.9796\n",
      "Epoch 479/500\n",
      "24/24 [==============================] - 0s 5ms/step - loss: 48.4972 - val_loss: 858.9794\n",
      "Epoch 480/500\n",
      "24/24 [==============================] - 0s 5ms/step - loss: 48.4972 - val_loss: 858.9792\n",
      "Epoch 481/500\n",
      "24/24 [==============================] - 0s 5ms/step - loss: 48.4972 - val_loss: 858.9792\n",
      "Epoch 482/500\n",
      "24/24 [==============================] - 0s 4ms/step - loss: 48.4972 - val_loss: 858.9794\n",
      "Epoch 483/500\n",
      "24/24 [==============================] - 0s 4ms/step - loss: 48.4973 - val_loss: 858.9796\n",
      "Epoch 484/500\n",
      "24/24 [==============================] - 0s 4ms/step - loss: 48.4973 - val_loss: 858.9794\n",
      "Epoch 485/500\n",
      "24/24 [==============================] - 0s 5ms/step - loss: 48.4972 - val_loss: 858.9794\n",
      "Epoch 486/500\n",
      "24/24 [==============================] - 0s 5ms/step - loss: 48.4973 - val_loss: 858.9794\n",
      "Epoch 487/500\n",
      "24/24 [==============================] - 0s 5ms/step - loss: 48.4973 - val_loss: 858.9798\n",
      "Epoch 488/500\n",
      "24/24 [==============================] - 0s 4ms/step - loss: 48.4973 - val_loss: 858.9798\n",
      "Epoch 489/500\n",
      "24/24 [==============================] - 0s 5ms/step - loss: 48.4973 - val_loss: 858.9798\n",
      "Epoch 490/500\n",
      "24/24 [==============================] - 0s 5ms/step - loss: 48.4973 - val_loss: 858.9800\n",
      "Epoch 491/500\n",
      "24/24 [==============================] - 0s 5ms/step - loss: 48.4973 - val_loss: 858.9800\n",
      "Epoch 492/500\n",
      "24/24 [==============================] - 0s 5ms/step - loss: 48.4973 - val_loss: 858.9800\n",
      "Epoch 493/500\n",
      "24/24 [==============================] - 0s 4ms/step - loss: 48.4973 - val_loss: 858.9800\n",
      "Epoch 494/500\n",
      "24/24 [==============================] - 0s 5ms/step - loss: 48.4973 - val_loss: 858.9799\n",
      "Epoch 495/500\n",
      "24/24 [==============================] - 0s 8ms/step - loss: 48.4973 - val_loss: 858.9799\n",
      "Epoch 496/500\n",
      "24/24 [==============================] - 0s 5ms/step - loss: 48.4973 - val_loss: 858.9796\n",
      "Epoch 497/500\n",
      "24/24 [==============================] - 0s 5ms/step - loss: 48.4973 - val_loss: 858.9796\n",
      "Epoch 498/500\n",
      "24/24 [==============================] - 0s 5ms/step - loss: 48.4973 - val_loss: 858.9791\n",
      "Epoch 499/500\n",
      "24/24 [==============================] - 0s 6ms/step - loss: 48.4973 - val_loss: 858.9791\n",
      "Epoch 500/500\n",
      "24/24 [==============================] - 0s 5ms/step - loss: 48.4973 - val_loss: 858.9790\n"
     ]
    }
   ],
   "source": [
    "C0 = tf.Variable(82.7524, name=\"C0\", trainable=True, dtype=tf.float32)\n",
    "K0 = tf.Variable(-0.0031, name=\"K0\", trainable=True, dtype=tf.float32)\n",
    "K1 = tf.Variable(-0.0003, name=\"K1\", trainable=True, dtype=tf.float32)\n",
    "a = tf.Variable(0.0000, name=\"a\", trainable=True, dtype=tf.float32)\n",
    "b = tf.Variable(0.0171, name=\"b\", trainable=True, dtype=tf.float32)\n",
    "c = tf.Variable(3.0230, name=\"c\", trainable=True, dtype=tf.float32)\n",
    "\n",
    "splitr = 0.8\n",
    "\n",
    "\n",
    "def loss_fn(y_true, y_pred):\n",
    "    squared_difference = tf.square(y_true[:, 0] - y_pred[:, 0])\n",
    "    #squared_difference2 = tf.square(y_true[:, 2]-y_pred[:, 2])\n",
    "    #squared_difference1 = tf.square(y_true[:, 1]-y_pred[:, 1])\n",
    "    epsilon = 1\n",
    "    squared_difference3 = tf.square(\n",
    "        y_pred[:, 1] - (\n",
    "            y_pred[:, 0] * (\n",
    "                K0 - K1 * (\n",
    "                    9 * a * tf.math.log((y_pred[:, 0] + epsilon) / C0) / (K0 - K1 * c)**2 +\n",
    "                    4 * b * tf.math.log((y_pred[:, 0] + epsilon) / C0) / (K0 - K1 * c) + c\n",
    "                )\n",
    "            )\n",
    "        )\n",
    "    )\n",
    "    return tf.reduce_mean(squared_difference, axis=-1) + 0.2*tf.reduce_mean(squared_difference3, axis=-1)\n",
    "model = Sequential()\n",
    "model.add(LSTM(100, input_shape=(trainX.shape[1], trainX.shape[2])))\n",
    "model.add(Dense(60))\n",
    "model.compile(loss=loss_fn, optimizer='adam')\n",
    "history = model.fit(trainX[:int(splitr*trainX.shape[0])], trainy[:int(splitr*trainX.shape[0])], epochs=500, batch_size=64, validation_data=(trainX[int(splitr*trainX.shape[0]):trainX.shape[0]], trainy[int(splitr*trainX.shape[0]):trainX.shape[0]]), shuffle=False)"
   ]
  },
  {
   "cell_type": "code",
   "execution_count": 19,
   "metadata": {
    "colab": {
     "base_uri": "https://localhost:8080/"
    },
    "id": "yJL101rPyuoT",
    "outputId": "239ff2b1-c186-423a-d316-939dfdd7c793"
   },
   "outputs": [
    {
     "name": "stdout",
     "output_type": "stream",
     "text": [
      "1/1 [==============================] - 0s 389ms/step\n"
     ]
    }
   ],
   "source": [
    "forecast_without_mc = forecastX\n",
    "yhat_without_mc = model.predict(forecast_without_mc) # Step Ahead Prediction\n",
    "forecast_without_mc = forecast_without_mc.reshape((forecast_without_mc.shape[0], forecast_without_mc.shape[2])) # Historical Input"
   ]
  },
  {
   "cell_type": "code",
   "execution_count": 20,
   "metadata": {
    "colab": {
     "base_uri": "https://localhost:8080/"
    },
    "id": "g9dQELcJ8wbp",
    "outputId": "4dc7671b-b1a8-48d5-8744-a86f98446109"
   },
   "outputs": [
    {
     "data": {
      "text/plain": [
       "(1, 1, 251)"
      ]
     },
     "execution_count": 20,
     "metadata": {},
     "output_type": "execute_result"
    }
   ],
   "source": [
    "forecastX.shape"
   ]
  },
  {
   "cell_type": "code",
   "execution_count": 21,
   "metadata": {
    "colab": {
     "base_uri": "https://localhost:8080/"
    },
    "id": "IS2kyIKG1Kbr",
    "outputId": "f31b3485-8e26-452f-9298-ea8bf7e80ad1"
   },
   "outputs": [
    {
     "data": {
      "text/plain": [
       "(1, 251)"
      ]
     },
     "execution_count": 21,
     "metadata": {},
     "output_type": "execute_result"
    }
   ],
   "source": [
    "forecast_without_mc.shape"
   ]
  },
  {
   "cell_type": "code",
   "execution_count": 22,
   "metadata": {
    "id": "0u6VIzaDyuoT"
   },
   "outputs": [],
   "source": [
    "inv_yhat_without_mc = np.concatenate((forecast_without_mc, yhat_without_mc), axis=1) # Concatenation of predicted values with Historical Data\n",
    "#inv_yhat_without_mc = scaler.inverse_transform(inv_yhat_without_mc) # Transform labels back to original encoding"
   ]
  },
  {
   "cell_type": "code",
   "execution_count": 23,
   "metadata": {
    "colab": {
     "base_uri": "https://localhost:8080/"
    },
    "id": "EUEcw0LX07oU",
    "outputId": "cfc32397-9c37-4b43-d087-584bb31c3dcc"
   },
   "outputs": [
    {
     "data": {
      "text/plain": [
       "(1, 311)"
      ]
     },
     "execution_count": 23,
     "metadata": {},
     "output_type": "execute_result"
    }
   ],
   "source": [
    "inv_yhat_without_mc.shape"
   ]
  },
  {
   "cell_type": "code",
   "execution_count": 24,
   "metadata": {
    "id": "31OWVbSh_305"
   },
   "outputs": [],
   "source": [
    "fforecast = inv_yhat_without_mc[:,-300:]"
   ]
  },
  {
   "cell_type": "code",
   "execution_count": 25,
   "metadata": {},
   "outputs": [
    {
     "data": {
      "text/plain": [
       "(1, 300)"
      ]
     },
     "execution_count": 25,
     "metadata": {},
     "output_type": "execute_result"
    }
   ],
   "source": [
    "fforecast.shape"
   ]
  },
  {
   "cell_type": "code",
   "execution_count": 26,
   "metadata": {
    "id": "BlpGH2FOAiRF"
   },
   "outputs": [],
   "source": [
    "final_forecast = fforecast[:,0:300:3]"
   ]
  },
  {
   "cell_type": "code",
   "execution_count": 27,
   "metadata": {},
   "outputs": [
    {
     "data": {
      "text/plain": [
       "(1, 300)"
      ]
     },
     "execution_count": 27,
     "metadata": {},
     "output_type": "execute_result"
    }
   ],
   "source": [
    "fforecast.shape"
   ]
  },
  {
   "cell_type": "code",
   "execution_count": 28,
   "metadata": {
    "id": "CXkgkj_LBk_t"
   },
   "outputs": [],
   "source": [
    "# code to replace all negative value with 0\n",
    "final_forecast[final_forecast<0] = 0"
   ]
  },
  {
   "cell_type": "code",
   "execution_count": 29,
   "metadata": {},
   "outputs": [
    {
     "data": {
      "text/plain": [
       "array([[5.49233660e+01, 5.48649608e+01, 5.48059188e+01, 5.47468768e+01,\n",
       "        5.46878347e+01, 5.46287927e+01, 5.45697507e+01, 1.09459259e-01,\n",
       "        2.14646727e-01, 3.88949070e-02, 1.76237631e+00, 0.00000000e+00,\n",
       "        1.30328488e+00, 5.54658497e+01, 5.54070261e+01, 5.53482026e+01,\n",
       "        5.52893791e+01, 5.52305556e+01, 5.51717320e+01, 5.51129085e+01,\n",
       "        5.50540850e+01, 5.49952614e+01, 5.49356438e+01, 5.48808123e+01,\n",
       "        5.48303922e+01, 5.47799720e+01, 5.47295518e+01, 5.46791317e+01,\n",
       "        5.46287115e+01, 5.45782913e+01, 5.45278712e+01, 5.44774510e+01,\n",
       "        5.44270308e+01, 5.43766106e+01, 5.43261905e+01, 5.42636555e+01,\n",
       "        5.41880252e+01, 5.41123950e+01, 5.40367647e+01, 5.39611345e+01,\n",
       "        3.37765515e-01, 2.86526829e-01, 4.75062817e-01, 0.00000000e+00,\n",
       "        0.00000000e+00, 0.00000000e+00, 7.99287319e-01, 5.47911765e+01,\n",
       "        5.47407563e+01, 5.46903361e+01, 5.46399160e+01, 5.45894958e+01,\n",
       "        5.45390756e+01, 5.44886555e+01, 5.44382353e+01, 5.43878151e+01,\n",
       "        5.43373950e+01, 5.42804622e+01, 5.42048319e+01, 5.41292017e+01,\n",
       "        5.40535714e+01, 5.39779412e+01, 5.91351074e+01, 0.00000000e+00,\n",
       "        5.98447246e+01, 5.83321195e+01, 5.78348786e+01, 5.90417367e+01,\n",
       "        5.80322829e+01, 5.76541316e+01, 0.00000000e+00, 0.00000000e+00,\n",
       "        7.91867260e-01, 4.81827469e+01, 0.00000000e+00, 0.00000000e+00,\n",
       "        0.00000000e+00, 0.00000000e+00, 0.00000000e+00, 0.00000000e+00,\n",
       "        5.48017654e+01, 0.00000000e+00, 0.00000000e+00, 2.90124685e-01,\n",
       "        0.00000000e+00, 0.00000000e+00, 5.16637623e-01, 0.00000000e+00,\n",
       "        0.00000000e+00, 0.00000000e+00, 2.33734280e-01, 1.39452100e+00,\n",
       "        7.93281555e-01, 1.28464162e-01, 0.00000000e+00, 7.63168156e-01,\n",
       "        0.00000000e+00, 0.00000000e+00, 0.00000000e+00, 0.00000000e+00]])"
      ]
     },
     "execution_count": 29,
     "metadata": {},
     "output_type": "execute_result"
    }
   ],
   "source": [
    "final_forecast"
   ]
  },
  {
   "cell_type": "code",
   "execution_count": 30,
   "metadata": {},
   "outputs": [
    {
     "data": {
      "text/plain": [
       "(1, 100)"
      ]
     },
     "execution_count": 30,
     "metadata": {},
     "output_type": "execute_result"
    }
   ],
   "source": [
    "final_forecast.shape"
   ]
  },
  {
   "cell_type": "code",
   "execution_count": 31,
   "metadata": {},
   "outputs": [
    {
     "data": {
      "text/plain": [
       "(100,)"
      ]
     },
     "execution_count": 31,
     "metadata": {},
     "output_type": "execute_result"
    }
   ],
   "source": [
    "test.shape"
   ]
  },
  {
   "cell_type": "code",
   "execution_count": 32,
   "metadata": {},
   "outputs": [],
   "source": [
    "training_set = np.array(training_set)\n",
    "test = np.array(test)\n",
    "final_forecast = np.array(final_forecast.squeeze(0))"
   ]
  },
  {
   "cell_type": "code",
   "execution_count": 33,
   "metadata": {},
   "outputs": [
    {
     "data": {
      "text/plain": [
       "array([46.66587415, 46.65603607, 46.64619799, 46.63635991, 46.62652183,\n",
       "       46.61668375, 46.60684567, 46.59700758, 46.5871695 , 46.57733142,\n",
       "       46.56749334, 46.55765526, 46.54781718, 46.53797909, 46.52814101,\n",
       "       46.51830293, 46.50846485, 46.49862677, 46.48878869, 46.4789506 ,\n",
       "       46.46911252, 46.45927444, 46.44943636, 46.43959828, 46.4297602 ,\n",
       "       46.41992212, 46.41008403, 46.40024595, 46.39040787, 46.38056979,\n",
       "       46.37073171, 46.36089363, 46.35105554, 46.34121746, 46.33137938,\n",
       "       46.3215413 , 46.31170322, 46.30186514, 46.29202705, 46.28218897,\n",
       "       46.27235089, 46.26251281, 46.25267473, 46.24283665, 46.23299857,\n",
       "       46.22316048, 46.2133224 , 46.20348432, 46.19364624, 46.18380816,\n",
       "       46.17397008, 46.16413199, 46.15429391, 46.14445583, 46.13461775,\n",
       "       46.12477967, 46.11494159, 46.1051035 , 46.09526542, 46.08542734,\n",
       "       46.07558926, 46.06575118, 46.0559131 , 46.04607502, 46.03623693,\n",
       "       46.02639885, 46.01656077, 46.00672269, 45.99688461, 45.98704653,\n",
       "       45.97720844, 45.96737036, 45.95753228, 45.9476942 , 45.93785612,\n",
       "       45.92801804, 45.91817995, 45.90834187, 45.89850379, 45.88866571,\n",
       "       45.87882763, 45.86898955, 45.85915147, 45.84931338, 45.8394753 ,\n",
       "       45.82963722, 45.81979914, 45.80996106, 45.80012298, 45.79028489,\n",
       "       45.78044681, 45.77060873, 45.76077065, 45.75093257, 45.74109449,\n",
       "       45.73125641, 45.72141832, 45.71158024, 45.70174216, 45.69190408])"
      ]
     },
     "execution_count": 33,
     "metadata": {},
     "output_type": "execute_result"
    }
   ],
   "source": [
    "test"
   ]
  },
  {
   "cell_type": "code",
   "execution_count": 34,
   "metadata": {},
   "outputs": [
    {
     "data": {
      "text/plain": [
       "(100,)"
      ]
     },
     "execution_count": 34,
     "metadata": {},
     "output_type": "execute_result"
    }
   ],
   "source": [
    "test.shape"
   ]
  },
  {
   "cell_type": "code",
   "execution_count": 35,
   "metadata": {},
   "outputs": [
    {
     "data": {
      "text/plain": [
       "(100,)"
      ]
     },
     "execution_count": 35,
     "metadata": {},
     "output_type": "execute_result"
    }
   ],
   "source": [
    "final_forecast.shape"
   ]
  },
  {
   "cell_type": "code",
   "execution_count": 36,
   "metadata": {},
   "outputs": [
    {
     "data": {
      "text/plain": [
       "(100,)"
      ]
     },
     "execution_count": 36,
     "metadata": {},
     "output_type": "execute_result"
    }
   ],
   "source": [
    "test.shape"
   ]
  },
  {
   "cell_type": "code",
   "execution_count": 37,
   "metadata": {},
   "outputs": [
    {
     "name": "stdout",
     "output_type": "stream",
     "text": [
      "30.418703223886208\n",
      "24.26843624009467\n"
     ]
    }
   ],
   "source": [
    "import math\n",
    "MSE = np.square(np.subtract(np.array(test),np.array(final_forecast))).mean()   \n",
    "rsme = math.sqrt(MSE)\n",
    "print(rsme)  \n",
    "MAE = np.abs(np.subtract(np.array(test),np.array(final_forecast))).mean()   \n",
    "mae = MAE\n",
    "print(mae)"
   ]
  }
 ],
 "metadata": {
  "colab": {
   "provenance": []
  },
  "kernelspec": {
   "display_name": "Python 3",
   "language": "python",
   "name": "python3"
  },
  "language_info": {
   "codemirror_mode": {
    "name": "ipython",
    "version": 3
   },
   "file_extension": ".py",
   "mimetype": "text/x-python",
   "name": "python",
   "nbconvert_exporter": "python",
   "pygments_lexer": "ipython3",
   "version": "3.9.13"
  }
 },
 "nbformat": 4,
 "nbformat_minor": 0
}
