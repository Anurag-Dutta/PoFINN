{
 "cells": [
  {
   "cell_type": "markdown",
   "metadata": {
    "id": "pCGKeZ2gyuoQ"
   },
   "source": [
    "_Importing Required Libraries_"
   ]
  },
  {
   "cell_type": "code",
   "execution_count": 1,
   "metadata": {
    "colab": {
     "base_uri": "https://localhost:8080/"
    },
    "id": "A-6LN-zXiLcM",
    "outputId": "4de610a4-f8b8-4f49-c6c0-89de299ccedc"
   },
   "outputs": [
    {
     "name": "stdout",
     "output_type": "stream",
     "text": [
      "Requirement already satisfied: hampel in c:\\users\\anurag dutta\\appdata\\local\\packages\\pythonsoftwarefoundation.python.3.9_qbz5n2kfra8p0\\localcache\\local-packages\\python39\\site-packages (0.0.5)\n",
      "Requirement already satisfied: numpy in c:\\users\\anurag dutta\\appdata\\local\\packages\\pythonsoftwarefoundation.python.3.9_qbz5n2kfra8p0\\localcache\\local-packages\\python39\\site-packages (from hampel) (1.26.4)\n",
      "Requirement already satisfied: pandas in c:\\users\\anurag dutta\\appdata\\local\\packages\\pythonsoftwarefoundation.python.3.9_qbz5n2kfra8p0\\localcache\\local-packages\\python39\\site-packages (from hampel) (1.5.2)\n",
      "Requirement already satisfied: python-dateutil>=2.8.1 in c:\\users\\anurag dutta\\appdata\\local\\packages\\pythonsoftwarefoundation.python.3.9_qbz5n2kfra8p0\\localcache\\local-packages\\python39\\site-packages (from pandas->hampel) (2.8.2)\n",
      "Requirement already satisfied: pytz>=2020.1 in c:\\users\\anurag dutta\\appdata\\local\\packages\\pythonsoftwarefoundation.python.3.9_qbz5n2kfra8p0\\localcache\\local-packages\\python39\\site-packages (from pandas->hampel) (2023.3.post1)\n",
      "Requirement already satisfied: six>=1.5 in c:\\users\\anurag dutta\\appdata\\local\\packages\\pythonsoftwarefoundation.python.3.9_qbz5n2kfra8p0\\localcache\\local-packages\\python39\\site-packages (from python-dateutil>=2.8.1->pandas->hampel) (1.16.0)\n",
      "Note: you may need to restart the kernel to use updated packages.\n"
     ]
    },
    {
     "name": "stderr",
     "output_type": "stream",
     "text": [
      "\n",
      "[notice] A new release of pip is available: 24.2 -> 24.3.1\n",
      "[notice] To update, run: C:\\Users\\Anurag Dutta\\AppData\\Local\\Microsoft\\WindowsApps\\PythonSoftwareFoundation.Python.3.9_qbz5n2kfra8p0\\python.exe -m pip install --upgrade pip\n"
     ]
    }
   ],
   "source": [
    "pip install hampel"
   ]
  },
  {
   "cell_type": "code",
   "execution_count": 2,
   "metadata": {
    "id": "By_d9uXpaFvZ"
   },
   "outputs": [],
   "source": [
    "from keras.models import Sequential\n",
    "from keras.layers import Dense\n",
    "from keras.layers import LSTM\n",
    "from keras.layers import Dropout\n",
    "import keras\n",
    "import tensorflow as tf\n",
    "from hampel import hampel\n",
    "import numpy as np\n",
    "import matplotlib.pyplot as plt\n",
    "import pandas as pd\n",
    "from sklearn.preprocessing import MinMaxScaler\n",
    "from sklearn.metrics import mean_squared_error, mean_absolute_error\n",
    "from math import sqrt\n",
    "from matplotlib import pyplot\n",
    "from numpy import array"
   ]
  },
  {
   "cell_type": "markdown",
   "metadata": {
    "id": "JyOjBMFayuoR"
   },
   "source": [
    "## Pretraining"
   ]
  },
  {
   "cell_type": "markdown",
   "metadata": {
    "id": "-5QqIY_GyuoR"
   },
   "source": [
    "The `capa_intermittency.dat` feeds the model with the dynamics of the Capacitor"
   ]
  },
  {
   "cell_type": "code",
   "execution_count": 3,
   "metadata": {
    "id": "9dV4a8yfyuoR"
   },
   "outputs": [],
   "source": [
    "data = np.genfromtxt('capa_intermittency.dat')\n",
    "training_set = pd.DataFrame(data).reset_index(drop=True)\n",
    "training_set = training_set.iloc[:,0]"
   ]
  },
  {
   "cell_type": "markdown",
   "metadata": {
    "id": "i7easoxByuoR"
   },
   "source": [
    "## Computing the Gradient"
   ]
  },
  {
   "cell_type": "markdown",
   "metadata": {
    "id": "5SnyolJTyuoR"
   },
   "source": [
    "_Calculating the value of_ $\\frac{dx}{dt}$"
   ]
  },
  {
   "cell_type": "code",
   "execution_count": 4,
   "metadata": {
    "colab": {
     "base_uri": "https://localhost:8080/"
    },
    "id": "wmIbVfIvyuoR",
    "outputId": "aa4e3136-c854-465d-d2e9-81cfd546e440"
   },
   "outputs": [
    {
     "name": "stdout",
     "output_type": "stream",
     "text": [
      "1.0\n",
      "1        0.000298\n",
      "2        0.000298\n",
      "3        0.000297\n",
      "4        0.000297\n",
      "5        0.000297\n",
      "           ...   \n",
      "9996     0.000018\n",
      "9997     0.000018\n",
      "9998     0.000018\n",
      "9999     0.000018\n",
      "10000    0.000018\n",
      "Name: 0, Length: 10000, dtype: float64\n"
     ]
    }
   ],
   "source": [
    "t_diff = 1\n",
    "print(training_set.max())\n",
    "gradient_t = (training_set.diff()/t_diff).iloc[1:] # dx/dt\n",
    "print(gradient_t)"
   ]
  },
  {
   "cell_type": "markdown",
   "metadata": {
    "id": "_2eVeeoxyuoS"
   },
   "source": [
    "## Loading Datasets"
   ]
  },
  {
   "cell_type": "code",
   "execution_count": null,
   "metadata": {
    "id": "0J-NKyIEyuoS"
   },
   "outputs": [
    {
     "data": {
      "text/plain": [
       "0       84.600000\n",
       "1       84.431933\n",
       "2       84.263866\n",
       "3       84.095798\n",
       "4       83.927731\n",
       "          ...    \n",
       "2495    45.239352\n",
       "2496    45.229514\n",
       "2497    45.219676\n",
       "2498    45.209838\n",
       "2499    45.200000\n",
       "Name: C6, Length: 2500, dtype: float64"
      ]
     },
     "execution_count": 5,
     "metadata": {},
     "output_type": "execute_result"
    }
   ],
   "source": [
    "data = pd.read_csv(\"c6_interpolated_2450_50.csv\")\n",
    "training_set = data.iloc[:, 1]\n",
    "training_set"
   ]
  },
  {
   "cell_type": "code",
   "execution_count": 6,
   "metadata": {
    "colab": {
     "base_uri": "https://localhost:8080/"
    },
    "id": "-CbNUhJ74UqF",
    "outputId": "20f562d8-8247-49cc-b9c3-00eca5e13e2d"
   },
   "outputs": [
    {
     "data": {
      "text/plain": [
       "0       84.600000\n",
       "1       84.431933\n",
       "2       84.263866\n",
       "3       84.095798\n",
       "4       83.927731\n",
       "          ...    \n",
       "2445     0.763168\n",
       "2446     0.000000\n",
       "2447     0.000000\n",
       "2448     0.000000\n",
       "2449     0.000000\n",
       "Name: C6, Length: 2450, dtype: float64"
      ]
     },
     "execution_count": 6,
     "metadata": {},
     "output_type": "execute_result"
    }
   ],
   "source": [
    "test = training_set.tail(50)\n",
    "test\n",
    "training_set = training_set.head(2450)\n",
    "training_set"
   ]
  },
  {
   "cell_type": "code",
   "execution_count": 7,
   "metadata": {
    "colab": {
     "base_uri": "https://localhost:8080/"
    },
    "id": "X0TwTcq0yuoS",
    "outputId": "37252ed8-d88e-4044-fa7a-922411990b5b"
   },
   "outputs": [
    {
     "name": "stdout",
     "output_type": "stream",
     "text": [
      "0       0.000298\n",
      "1       0.000298\n",
      "2       0.000297\n",
      "3       0.000297\n",
      "4       0.000297\n",
      "          ...   \n",
      "9995    0.000018\n",
      "9996    0.000018\n",
      "9997    0.000018\n",
      "9998    0.000018\n",
      "9999    0.000018\n",
      "Name: 0, Length: 10000, dtype: float64\n"
     ]
    }
   ],
   "source": [
    "training_set = training_set.reset_index(drop=True)\n",
    "gradient_t = gradient_t.reset_index(drop=True)\n",
    "print(gradient_t)"
   ]
  },
  {
   "cell_type": "code",
   "execution_count": 8,
   "metadata": {
    "id": "O2biznZQyuoS"
   },
   "outputs": [],
   "source": [
    "df = pd.concat((training_set, gradient_t), axis=1)\n",
    "df.columns = ['y_t', 'grad_t']"
   ]
  },
  {
   "cell_type": "code",
   "execution_count": 9,
   "metadata": {
    "colab": {
     "base_uri": "https://localhost:8080/",
     "height": 423
    },
    "id": "sk_a5v3tyuoS",
    "outputId": "17563625-e550-45ae-faab-fafa353e44da"
   },
   "outputs": [
    {
     "data": {
      "text/html": [
       "<div>\n",
       "<style scoped>\n",
       "    .dataframe tbody tr th:only-of-type {\n",
       "        vertical-align: middle;\n",
       "    }\n",
       "\n",
       "    .dataframe tbody tr th {\n",
       "        vertical-align: top;\n",
       "    }\n",
       "\n",
       "    .dataframe thead th {\n",
       "        text-align: right;\n",
       "    }\n",
       "</style>\n",
       "<table border=\"1\" class=\"dataframe\">\n",
       "  <thead>\n",
       "    <tr style=\"text-align: right;\">\n",
       "      <th></th>\n",
       "      <th>y_t</th>\n",
       "      <th>grad_t</th>\n",
       "    </tr>\n",
       "  </thead>\n",
       "  <tbody>\n",
       "    <tr>\n",
       "      <th>0</th>\n",
       "      <td>84.600000</td>\n",
       "      <td>0.000298</td>\n",
       "    </tr>\n",
       "    <tr>\n",
       "      <th>1</th>\n",
       "      <td>84.431933</td>\n",
       "      <td>0.000298</td>\n",
       "    </tr>\n",
       "    <tr>\n",
       "      <th>2</th>\n",
       "      <td>84.263866</td>\n",
       "      <td>0.000297</td>\n",
       "    </tr>\n",
       "    <tr>\n",
       "      <th>3</th>\n",
       "      <td>84.095798</td>\n",
       "      <td>0.000297</td>\n",
       "    </tr>\n",
       "    <tr>\n",
       "      <th>4</th>\n",
       "      <td>83.927731</td>\n",
       "      <td>0.000297</td>\n",
       "    </tr>\n",
       "    <tr>\n",
       "      <th>...</th>\n",
       "      <td>...</td>\n",
       "      <td>...</td>\n",
       "    </tr>\n",
       "    <tr>\n",
       "      <th>9995</th>\n",
       "      <td>NaN</td>\n",
       "      <td>0.000018</td>\n",
       "    </tr>\n",
       "    <tr>\n",
       "      <th>9996</th>\n",
       "      <td>NaN</td>\n",
       "      <td>0.000018</td>\n",
       "    </tr>\n",
       "    <tr>\n",
       "      <th>9997</th>\n",
       "      <td>NaN</td>\n",
       "      <td>0.000018</td>\n",
       "    </tr>\n",
       "    <tr>\n",
       "      <th>9998</th>\n",
       "      <td>NaN</td>\n",
       "      <td>0.000018</td>\n",
       "    </tr>\n",
       "    <tr>\n",
       "      <th>9999</th>\n",
       "      <td>NaN</td>\n",
       "      <td>0.000018</td>\n",
       "    </tr>\n",
       "  </tbody>\n",
       "</table>\n",
       "<p>10000 rows × 2 columns</p>\n",
       "</div>"
      ],
      "text/plain": [
       "            y_t    grad_t\n",
       "0     84.600000  0.000298\n",
       "1     84.431933  0.000298\n",
       "2     84.263866  0.000297\n",
       "3     84.095798  0.000297\n",
       "4     83.927731  0.000297\n",
       "...         ...       ...\n",
       "9995        NaN  0.000018\n",
       "9996        NaN  0.000018\n",
       "9997        NaN  0.000018\n",
       "9998        NaN  0.000018\n",
       "9999        NaN  0.000018\n",
       "\n",
       "[10000 rows x 2 columns]"
      ]
     },
     "execution_count": 9,
     "metadata": {},
     "output_type": "execute_result"
    }
   ],
   "source": [
    "df"
   ]
  },
  {
   "cell_type": "markdown",
   "metadata": {
    "id": "-5esyHu5aFvg"
   },
   "source": [
    "## Plot of the External Forcing from Chaotic Differential Equation"
   ]
  },
  {
   "cell_type": "code",
   "execution_count": 10,
   "metadata": {
    "colab": {
     "base_uri": "https://localhost:8080/",
     "height": 447
    },
    "id": "hGnE43tOh-4p",
    "outputId": "fc396503-b624-4fa5-dfbe-f460207405c6"
   },
   "outputs": [
    {
     "data": {
      "text/plain": [
       "<Axes: >"
      ]
     },
     "execution_count": 10,
     "metadata": {},
     "output_type": "execute_result"
    },
    {
     "data": {
      "image/png": "[encoded data removed]",
      "text/plain": [
       "<Figure size 432x288 with 1 Axes>"
      ]
     },
     "metadata": {
      "needs_background": "light"
     },
     "output_type": "display_data"
    }
   ],
   "source": [
    "df.iloc[:, 0].plot()"
   ]
  },
  {
   "cell_type": "code",
   "execution_count": 11,
   "metadata": {
    "colab": {
     "base_uri": "https://localhost:8080/",
     "height": 447
    },
    "id": "ym4xWUUxaFvg",
    "outputId": "ae6a3495-8ce9-437e-ba81-3ed31deedeae"
   },
   "outputs": [
    {
     "name": "stderr",
     "output_type": "stream",
     "text": [
      "C:\\Users\\Anurag Dutta\\AppData\\Local\\Packages\\PythonSoftwareFoundation.Python.3.9_qbz5n2kfra8p0\\LocalCache\\local-packages\\Python39\\site-packages\\pandas\\core\\arraylike.py:402: RuntimeWarning: divide by zero encountered in log\n",
      "  result = getattr(ufunc, method)(*inputs, **kwargs)\n"
     ]
    },
    {
     "data": {
      "text/plain": [
       "<Axes: >"
      ]
     },
     "execution_count": 11,
     "metadata": {},
     "output_type": "execute_result"
    },
    {
     "data": {
      "image/png": "[encoded data removed]",
      "text/plain": [
       "<Figure size 432x288 with 1 Axes>"
      ]
     },
     "metadata": {
      "needs_background": "light"
     },
     "output_type": "display_data"
    }
   ],
   "source": [
    "import numpy as np\n",
    "c0 = 82.7524  # Value for C0\n",
    "K0 = -0.0031  # Value for K0\n",
    "K1 = -0.0003  # Value for K1\n",
    "a = 0.0000    # Value for a\n",
    "b = 0.0171    # Value for b\n",
    "c = 3.0230    # Value for c\n",
    "\n",
    "L = np.minimum(c0, (df.iloc[:, 1] - (df.iloc[:, 0] * (K0 - K1 * (9 * a * np.log(df.iloc[:, 0] / c0) / (K0 - K1 * c)**2 + 4 * b * np.log(df.iloc[:, 0] / c0) / (K0 - K1 * c) + c)))))\n",
    "L.plot()"
   ]
  },
  {
   "cell_type": "markdown",
   "metadata": {
    "id": "9VyEywnwaFvh"
   },
   "source": [
    "## Preprocessing the data into supervised learning"
   ]
  },
  {
   "cell_type": "code",
   "execution_count": 12,
   "metadata": {
    "id": "6V9dXqzdaFvh"
   },
   "outputs": [],
   "source": [
    "# split a sequence into samples\n",
    "def Supervised(data, n_in=1, n_out=1, dropnan=True):\n",
    "    n_vars = 1 if type(data) is list else data.shape[1]\n",
    "    df = pd.DataFrame(data)\n",
    "    cols, names = list(), list()\n",
    "    # input sequence (t-n_in, ... t-1)\n",
    "    for i in range(n_in, 0, -1):\n",
    "        cols.append(df.shift(i))\n",
    "        names += [('var%d(t-%d)' % (j+1, i)) for j in range(n_vars)]\n",
    "    # forecast sequence (t, t+1, ... t+n_out)\n",
    "    for i in range(0, n_out):\n",
    "      cols.append(df.shift(-i))\n",
    "      if i == 0:\n",
    "        names += [('var%d(t)' % (j+1)) for j in range(n_vars)]\n",
    "      else:\n",
    "        names += [('var%d(t+%d)' % (j+1, i)) for j in range(n_vars)]\n",
    "    # put it all together\n",
    "    agg = pd.concat(cols, axis=1)\n",
    "    agg.columns = names\n",
    "    # drop rows with NaN values\n",
    "    if dropnan:\n",
    "       agg.dropna(inplace=True)\n",
    "    return agg"
   ]
  },
  {
   "cell_type": "code",
   "execution_count": 13,
   "metadata": {
    "colab": {
     "base_uri": "https://localhost:8080/"
    },
    "id": "CrzSrT1HnyfH",
    "outputId": "7e75f928-3e47-499d-eac1-51908015ef78"
   },
   "outputs": [
    {
     "name": "stdout",
     "output_type": "stream",
     "text": [
      "     var1(t-175)  var1(t-174)  var1(t-173)  var1(t-172)  var1(t-171)  \\\n",
      "175    84.600000    84.431933    84.263866    84.095798    83.927731   \n",
      "176    84.431933    84.263866    84.095798    83.927731    83.759664   \n",
      "177    84.263866    84.095798    83.927731    83.759664    83.591597   \n",
      "178    84.095798    83.927731    83.759664    83.591597    83.423529   \n",
      "179    83.927731    83.759664    83.591597    83.423529    83.255462   \n",
      "\n",
      "     var1(t-170)  var1(t-169)  var1(t-168)  var1(t-167)  var1(t-166)  ...  \\\n",
      "175    83.759664    83.591597    83.423529    83.255462    83.092437  ...   \n",
      "176    83.591597    83.423529    83.255462    83.092437    82.991597  ...   \n",
      "177    83.423529    83.255462    83.092437    82.991597    82.890756  ...   \n",
      "178    83.255462    83.092437    82.991597    82.890756    82.789916  ...   \n",
      "179    83.092437    82.991597    82.890756    82.789916    82.689076  ...   \n",
      "\n",
      "     var1(t+45)  var2(t+45)  var1(t+46)  var2(t+46)  var1(t+47)  var2(t+47)  \\\n",
      "175   74.856279    0.000280   74.832937    0.000280   74.809594    0.000280   \n",
      "176   74.832937    0.000280   74.809594    0.000280   74.786251    0.000280   \n",
      "177   74.809594    0.000280   74.786251    0.000280   74.762908    0.000279   \n",
      "178   74.786251    0.000280   74.762908    0.000279   74.739566    0.000279   \n",
      "179   74.762908    0.000279   74.739566    0.000279   74.716223    0.000279   \n",
      "\n",
      "     var1(t+48)  var2(t+48)  var1(t+49)  var2(t+49)  \n",
      "175   74.786251    0.000280   74.762908    0.000279  \n",
      "176   74.762908    0.000279   74.739566    0.000279  \n",
      "177   74.739566    0.000279   74.716223    0.000279  \n",
      "178   74.716223    0.000279   74.692880    0.000279  \n",
      "179   74.692880    0.000279   74.669538    0.000279  \n",
      "\n",
      "[5 rows x 276 columns]\n",
      "Index(['var1(t-175)', 'var1(t-174)', 'var1(t-173)', 'var1(t-172)',\n",
      "       'var1(t-171)', 'var1(t-170)', 'var1(t-169)', 'var1(t-168)',\n",
      "       'var1(t-167)', 'var1(t-166)',\n",
      "       ...\n",
      "       'var1(t+45)', 'var2(t+45)', 'var1(t+46)', 'var2(t+46)', 'var1(t+47)',\n",
      "       'var2(t+47)', 'var1(t+48)', 'var2(t+48)', 'var1(t+49)', 'var2(t+49)'],\n",
      "      dtype='object', length=276)\n"
     ]
    }
   ],
   "source": [
    "data = Supervised(df.values, n_in = 175, n_out = 50)\n",
    "\n",
    "\n",
    "cols_to_drop = []\n",
    "for i in range(2, 176):\n",
    "    cols_to_drop.extend([f'var2(t-{i})'])\n",
    "\n",
    "data.drop(cols_to_drop, axis=1, inplace=True)\n",
    "\n",
    "print(data.head())\n",
    "print(data.columns)"
   ]
  },
  {
   "cell_type": "code",
   "execution_count": 14,
   "metadata": {
    "id": "AfPf60oy6Pe4"
   },
   "outputs": [],
   "source": [
    "train = np.array(data[0:len(data)-1])\n",
    "forecast = np.array(data.tail(1))"
   ]
  },
  {
   "cell_type": "code",
   "execution_count": 15,
   "metadata": {
    "id": "WSAafzI37KiT"
   },
   "outputs": [],
   "source": [
    "trainy = train[:,-150:]\n",
    "trainX = train[:,:-150]"
   ]
  },
  {
   "cell_type": "code",
   "execution_count": 16,
   "metadata": {
    "id": "2SrOqVJA7f50"
   },
   "outputs": [],
   "source": [
    "forecasty = forecast[:,-150:]\n",
    "forecastX = forecast[:,:-150]"
   ]
  },
  {
   "cell_type": "code",
   "execution_count": 17,
   "metadata": {
    "colab": {
     "base_uri": "https://localhost:8080/"
    },
    "id": "Qno_k8Nw7saY",
    "outputId": "c4a88db5-d8c6-489f-cdb2-06b24e293cff"
   },
   "outputs": [
    {
     "name": "stdout",
     "output_type": "stream",
     "text": [
      "(2225, 1, 126) (2225, 150) (1, 1, 126)\n"
     ]
    }
   ],
   "source": [
    "trainX = trainX.reshape((trainX.shape[0], 1, trainX.shape[1]))\n",
    "forecastX = forecastX.reshape((forecastX.shape[0], 1, forecastX.shape[1]))\n",
    "print(trainX.shape, trainy.shape, forecastX.shape)"
   ]
  },
  {
   "cell_type": "code",
   "execution_count": 18,
   "metadata": {
    "colab": {
     "base_uri": "https://localhost:8080/"
    },
    "id": "b1Jp2DvNuNFx",
    "outputId": "d0e5b3c4-64f1-438c-eade-8dfeaac8e285"
   },
   "outputs": [
    {
     "name": "stdout",
     "output_type": "stream",
     "text": [
      "Epoch 1/500\n",
      "28/28 [==============================] - 2s 18ms/step - loss: 3550.8713 - val_loss: 1881.4713\n",
      "Epoch 2/500\n",
      "28/28 [==============================] - 0s 4ms/step - loss: 3327.2478 - val_loss: 1723.3702\n",
      "Epoch 3/500\n",
      "28/28 [==============================] - 0s 3ms/step - loss: 3131.4885 - val_loss: 1621.9545\n",
      "Epoch 4/500\n",
      "28/28 [==============================] - 0s 4ms/step - loss: 2964.5967 - val_loss: 1529.1757\n",
      "Epoch 5/500\n",
      "28/28 [==============================] - 0s 4ms/step - loss: 2821.8755 - val_loss: 1452.9989\n",
      "Epoch 6/500\n",
      "28/28 [==============================] - 0s 3ms/step - loss: 2682.1479 - val_loss: 1383.3440\n",
      "Epoch 7/500\n",
      "28/28 [==============================] - 0s 4ms/step - loss: 2556.9370 - val_loss: 1320.1097\n",
      "Epoch 8/500\n",
      "28/28 [==============================] - 0s 3ms/step - loss: 2439.0073 - val_loss: 1261.3511\n",
      "Epoch 9/500\n",
      "28/28 [==============================] - 0s 3ms/step - loss: 2327.0620 - val_loss: 1206.6533\n",
      "Epoch 10/500\n",
      "28/28 [==============================] - 0s 3ms/step - loss: 2220.2861 - val_loss: 1157.1368\n",
      "Epoch 11/500\n",
      "28/28 [==============================] - 0s 3ms/step - loss: 2118.1748 - val_loss: 1109.7422\n",
      "Epoch 12/500\n",
      "28/28 [==============================] - 0s 3ms/step - loss: 2020.3750 - val_loss: 1066.1285\n",
      "Epoch 13/500\n",
      "28/28 [==============================] - 0s 4ms/step - loss: 1926.6671 - val_loss: 1024.8981\n",
      "Epoch 14/500\n",
      "28/28 [==============================] - 0s 3ms/step - loss: 1836.7958 - val_loss: 985.6885\n",
      "Epoch 15/500\n",
      "28/28 [==============================] - 0s 4ms/step - loss: 1750.6719 - val_loss: 951.3224\n",
      "Epoch 16/500\n",
      "28/28 [==============================] - 0s 4ms/step - loss: 1667.9823 - val_loss: 917.6140\n",
      "Epoch 17/500\n",
      "28/28 [==============================] - 0s 3ms/step - loss: 1589.1088 - val_loss: 883.7195\n",
      "Epoch 18/500\n",
      "28/28 [==============================] - 0s 4ms/step - loss: 1507.0977 - val_loss: 852.3583\n",
      "Epoch 19/500\n",
      "28/28 [==============================] - 0s 4ms/step - loss: 1425.8962 - val_loss: 825.7194\n",
      "Epoch 20/500\n",
      "28/28 [==============================] - 0s 3ms/step - loss: 1352.3629 - val_loss: 802.0798\n",
      "Epoch 21/500\n",
      "28/28 [==============================] - 0s 3ms/step - loss: 1282.9728 - val_loss: 779.0000\n",
      "Epoch 22/500\n",
      "28/28 [==============================] - 0s 6ms/step - loss: 1213.5948 - val_loss: 756.7493\n",
      "Epoch 23/500\n",
      "28/28 [==============================] - 0s 4ms/step - loss: 1144.4325 - val_loss: 737.9730\n",
      "Epoch 24/500\n",
      "28/28 [==============================] - 0s 3ms/step - loss: 1081.4410 - val_loss: 721.7718\n",
      "Epoch 25/500\n",
      "28/28 [==============================] - 0s 3ms/step - loss: 1022.2816 - val_loss: 707.3288\n",
      "Epoch 26/500\n",
      "28/28 [==============================] - 0s 3ms/step - loss: 963.7635 - val_loss: 695.3602\n",
      "Epoch 27/500\n",
      "28/28 [==============================] - 0s 3ms/step - loss: 908.8480 - val_loss: 684.6666\n",
      "Epoch 28/500\n",
      "28/28 [==============================] - 0s 4ms/step - loss: 857.2067 - val_loss: 675.7556\n",
      "Epoch 29/500\n",
      "28/28 [==============================] - 0s 4ms/step - loss: 808.8316 - val_loss: 668.5427\n",
      "Epoch 30/500\n",
      "28/28 [==============================] - 0s 4ms/step - loss: 763.1568 - val_loss: 662.9719\n",
      "Epoch 31/500\n",
      "28/28 [==============================] - 0s 4ms/step - loss: 720.0997 - val_loss: 658.5649\n",
      "Epoch 32/500\n",
      "28/28 [==============================] - 0s 4ms/step - loss: 679.5410 - val_loss: 654.7755\n",
      "Epoch 33/500\n",
      "28/28 [==============================] - 0s 3ms/step - loss: 640.9866 - val_loss: 654.1857\n",
      "Epoch 34/500\n",
      "28/28 [==============================] - 0s 3ms/step - loss: 600.3162 - val_loss: 652.8816\n",
      "Epoch 35/500\n",
      "28/28 [==============================] - 0s 3ms/step - loss: 562.9737 - val_loss: 651.7990\n",
      "Epoch 36/500\n",
      "28/28 [==============================] - 0s 3ms/step - loss: 529.4843 - val_loss: 658.0206\n",
      "Epoch 37/500\n",
      "28/28 [==============================] - 0s 4ms/step - loss: 498.0001 - val_loss: 658.6882\n",
      "Epoch 38/500\n",
      "28/28 [==============================] - 0s 4ms/step - loss: 468.8423 - val_loss: 661.6400\n",
      "Epoch 39/500\n",
      "28/28 [==============================] - 0s 3ms/step - loss: 442.6334 - val_loss: 677.2645\n",
      "Epoch 40/500\n",
      "28/28 [==============================] - 0s 4ms/step - loss: 417.6571 - val_loss: 685.5519\n",
      "Epoch 41/500\n",
      "28/28 [==============================] - 0s 3ms/step - loss: 394.1997 - val_loss: 686.5869\n",
      "Epoch 42/500\n",
      "28/28 [==============================] - 0s 4ms/step - loss: 375.1237 - val_loss: 693.7808\n",
      "Epoch 43/500\n",
      "28/28 [==============================] - 0s 4ms/step - loss: 375.9145 - val_loss: 704.1949\n",
      "Epoch 44/500\n",
      "28/28 [==============================] - 0s 4ms/step - loss: 355.6927 - val_loss: 709.6010\n",
      "Epoch 45/500\n",
      "28/28 [==============================] - 0s 4ms/step - loss: 336.6252 - val_loss: 716.4802\n",
      "Epoch 46/500\n",
      "28/28 [==============================] - 0s 3ms/step - loss: 340.6040 - val_loss: 714.0734\n",
      "Epoch 47/500\n",
      "28/28 [==============================] - 0s 4ms/step - loss: 322.6212 - val_loss: 718.7146\n",
      "Epoch 48/500\n",
      "28/28 [==============================] - 0s 4ms/step - loss: 328.0831 - val_loss: 726.9738\n",
      "Epoch 49/500\n",
      "28/28 [==============================] - 0s 4ms/step - loss: 282.1151 - val_loss: 767.6932\n",
      "Epoch 50/500\n",
      "28/28 [==============================] - 0s 4ms/step - loss: 258.8329 - val_loss: 777.4686\n",
      "Epoch 51/500\n",
      "28/28 [==============================] - 0s 6ms/step - loss: 247.0423 - val_loss: 788.4880\n",
      "Epoch 52/500\n",
      "28/28 [==============================] - 0s 4ms/step - loss: 236.1118 - val_loss: 797.6251\n",
      "Epoch 53/500\n",
      "28/28 [==============================] - 0s 4ms/step - loss: 225.9615 - val_loss: 809.8513\n",
      "Epoch 54/500\n",
      "28/28 [==============================] - 0s 4ms/step - loss: 216.6367 - val_loss: 822.5794\n",
      "Epoch 55/500\n",
      "28/28 [==============================] - 0s 5ms/step - loss: 208.0382 - val_loss: 830.0759\n",
      "Epoch 56/500\n",
      "28/28 [==============================] - 0s 5ms/step - loss: 199.8566 - val_loss: 833.3950\n",
      "Epoch 57/500\n",
      "28/28 [==============================] - 0s 4ms/step - loss: 209.3850 - val_loss: 839.3958\n",
      "Epoch 58/500\n",
      "28/28 [==============================] - 0s 4ms/step - loss: 201.4960 - val_loss: 846.4728\n",
      "Epoch 59/500\n",
      "28/28 [==============================] - 0s 4ms/step - loss: 194.0811 - val_loss: 860.2635\n",
      "Epoch 60/500\n",
      "28/28 [==============================] - 0s 4ms/step - loss: 187.2009 - val_loss: 875.9319\n",
      "Epoch 61/500\n",
      "28/28 [==============================] - 0s 4ms/step - loss: 181.0025 - val_loss: 887.3847\n",
      "Epoch 62/500\n",
      "28/28 [==============================] - 0s 6ms/step - loss: 175.3959 - val_loss: 896.8470\n",
      "Epoch 63/500\n",
      "28/28 [==============================] - 0s 5ms/step - loss: 170.6295 - val_loss: 913.4448\n",
      "Epoch 64/500\n",
      "28/28 [==============================] - 0s 4ms/step - loss: 165.4860 - val_loss: 920.6588\n",
      "Epoch 65/500\n",
      "28/28 [==============================] - 0s 4ms/step - loss: 161.2056 - val_loss: 931.1642\n",
      "Epoch 66/500\n",
      "28/28 [==============================] - 0s 4ms/step - loss: 157.3107 - val_loss: 941.4810\n",
      "Epoch 67/500\n",
      "28/28 [==============================] - 0s 3ms/step - loss: 153.7742 - val_loss: 951.6155\n",
      "Epoch 68/500\n",
      "28/28 [==============================] - 0s 4ms/step - loss: 150.5689 - val_loss: 961.5331\n",
      "Epoch 69/500\n",
      "28/28 [==============================] - 0s 4ms/step - loss: 147.6684 - val_loss: 971.0155\n",
      "Epoch 70/500\n",
      "28/28 [==============================] - 0s 6ms/step - loss: 145.0461 - val_loss: 980.1675\n",
      "Epoch 71/500\n",
      "28/28 [==============================] - 0s 5ms/step - loss: 142.6787 - val_loss: 989.0215\n",
      "Epoch 72/500\n",
      "28/28 [==============================] - 0s 4ms/step - loss: 140.5442 - val_loss: 997.5759\n",
      "Epoch 73/500\n",
      "28/28 [==============================] - 0s 4ms/step - loss: 138.6227 - val_loss: 1005.8250\n",
      "Epoch 74/500\n",
      "28/28 [==============================] - 0s 5ms/step - loss: 136.8946 - val_loss: 1013.7148\n",
      "Epoch 75/500\n",
      "28/28 [==============================] - 0s 10ms/step - loss: 135.3448 - val_loss: 1021.3851\n",
      "Epoch 76/500\n",
      "28/28 [==============================] - 0s 7ms/step - loss: 133.9538 - val_loss: 1028.6848\n",
      "Epoch 77/500\n",
      "28/28 [==============================] - 0s 5ms/step - loss: 132.7090 - val_loss: 1035.6455\n",
      "Epoch 78/500\n",
      "28/28 [==============================] - 0s 3ms/step - loss: 131.5957 - val_loss: 1042.2340\n",
      "Epoch 79/500\n",
      "28/28 [==============================] - 0s 4ms/step - loss: 130.6006 - val_loss: 1048.4225\n",
      "Epoch 80/500\n",
      "28/28 [==============================] - 0s 5ms/step - loss: 129.7127 - val_loss: 1054.3160\n",
      "Epoch 81/500\n",
      "28/28 [==============================] - 0s 6ms/step - loss: 128.9231 - val_loss: 1060.0111\n",
      "Epoch 82/500\n",
      "28/28 [==============================] - 0s 7ms/step - loss: 128.2207 - val_loss: 1065.4883\n",
      "Epoch 83/500\n",
      "28/28 [==============================] - 0s 6ms/step - loss: 127.5967 - val_loss: 1070.7217\n",
      "Epoch 84/500\n",
      "28/28 [==============================] - 0s 9ms/step - loss: 127.0433 - val_loss: 1075.7002\n",
      "Epoch 85/500\n",
      "28/28 [==============================] - 0s 8ms/step - loss: 126.5515 - val_loss: 1080.2849\n",
      "Epoch 86/500\n",
      "28/28 [==============================] - 0s 7ms/step - loss: 126.1139 - val_loss: 1084.0282\n",
      "Epoch 87/500\n",
      "28/28 [==============================] - 0s 8ms/step - loss: 125.7301 - val_loss: 1088.0729\n",
      "Epoch 88/500\n",
      "28/28 [==============================] - 0s 12ms/step - loss: 125.3902 - val_loss: 1091.6639\n",
      "Epoch 89/500\n",
      "28/28 [==============================] - 0s 10ms/step - loss: 125.0880 - val_loss: 1094.2107\n",
      "Epoch 90/500\n",
      "28/28 [==============================] - 0s 9ms/step - loss: 124.8199 - val_loss: 1096.1407\n",
      "Epoch 91/500\n",
      "28/28 [==============================] - 0s 8ms/step - loss: 124.5756 - val_loss: 1096.7639\n",
      "Epoch 92/500\n",
      "28/28 [==============================] - 0s 8ms/step - loss: 123.6628 - val_loss: 1085.4867\n",
      "Epoch 93/500\n",
      "28/28 [==============================] - 0s 17ms/step - loss: 128.4157 - val_loss: 1086.4944\n",
      "Epoch 94/500\n",
      "28/28 [==============================] - 0s 9ms/step - loss: 127.9405 - val_loss: 1092.0229\n",
      "Epoch 95/500\n",
      "28/28 [==============================] - 0s 9ms/step - loss: 127.4226 - val_loss: 1097.2699\n",
      "Epoch 96/500\n",
      "28/28 [==============================] - 0s 9ms/step - loss: 126.9651 - val_loss: 1102.2021\n",
      "Epoch 97/500\n",
      "28/28 [==============================] - 0s 12ms/step - loss: 126.5659 - val_loss: 1106.8273\n",
      "Epoch 98/500\n",
      "28/28 [==============================] - 0s 10ms/step - loss: 126.2183 - val_loss: 1111.1593\n",
      "Epoch 99/500\n",
      "28/28 [==============================] - 0s 7ms/step - loss: 125.9160 - val_loss: 1115.2100\n",
      "Epoch 100/500\n",
      "28/28 [==============================] - 0s 8ms/step - loss: 125.6533 - val_loss: 1118.9919\n",
      "Epoch 101/500\n",
      "28/28 [==============================] - 0s 8ms/step - loss: 125.4251 - val_loss: 1122.5183\n",
      "Epoch 102/500\n",
      "28/28 [==============================] - 0s 8ms/step - loss: 125.2270 - val_loss: 1125.8007\n",
      "Epoch 103/500\n",
      "28/28 [==============================] - 0s 7ms/step - loss: 125.0554 - val_loss: 1128.8502\n",
      "Epoch 104/500\n",
      "28/28 [==============================] - 0s 7ms/step - loss: 124.9066 - val_loss: 1131.6780\n",
      "Epoch 105/500\n",
      "28/28 [==============================] - 0s 6ms/step - loss: 124.7778 - val_loss: 1134.2954\n",
      "Epoch 106/500\n",
      "28/28 [==============================] - 0s 7ms/step - loss: 124.6662 - val_loss: 1136.7125\n",
      "Epoch 107/500\n",
      "28/28 [==============================] - 0s 8ms/step - loss: 124.5697 - val_loss: 1138.9376\n",
      "Epoch 108/500\n",
      "28/28 [==============================] - 0s 7ms/step - loss: 124.4863 - val_loss: 1140.9775\n",
      "Epoch 109/500\n",
      "28/28 [==============================] - 0s 6ms/step - loss: 124.4141 - val_loss: 1142.8356\n",
      "Epoch 110/500\n",
      "28/28 [==============================] - 0s 6ms/step - loss: 124.3509 - val_loss: 1144.4783\n",
      "Epoch 111/500\n",
      "28/28 [==============================] - 0s 6ms/step - loss: 124.2862 - val_loss: 1145.7036\n",
      "Epoch 112/500\n",
      "28/28 [==============================] - 0s 12ms/step - loss: 124.2331 - val_loss: 1146.9766\n",
      "Epoch 113/500\n",
      "28/28 [==============================] - 0s 7ms/step - loss: 124.1927 - val_loss: 1148.1576\n",
      "Epoch 114/500\n",
      "28/28 [==============================] - 0s 6ms/step - loss: 124.1527 - val_loss: 1148.8209\n",
      "Epoch 115/500\n",
      "28/28 [==============================] - 0s 6ms/step - loss: 124.1126 - val_loss: 1148.2948\n",
      "Epoch 116/500\n",
      "28/28 [==============================] - 0s 6ms/step - loss: 123.5699 - val_loss: 1107.5824\n",
      "Epoch 117/500\n",
      "28/28 [==============================] - 0s 6ms/step - loss: 126.0242 - val_loss: 1098.5342\n",
      "Epoch 118/500\n",
      "28/28 [==============================] - 0s 5ms/step - loss: 126.2704 - val_loss: 1113.6238\n",
      "Epoch 119/500\n",
      "28/28 [==============================] - 0s 7ms/step - loss: 125.5689 - val_loss: 1117.2522\n",
      "Epoch 120/500\n",
      "28/28 [==============================] - 0s 6ms/step - loss: 125.1331 - val_loss: 1111.6857\n",
      "Epoch 121/500\n",
      "28/28 [==============================] - 0s 6ms/step - loss: 125.9865 - val_loss: 1095.0813\n",
      "Epoch 122/500\n",
      "28/28 [==============================] - 0s 6ms/step - loss: 127.7869 - val_loss: 1074.5698\n",
      "Epoch 123/500\n",
      "28/28 [==============================] - 0s 6ms/step - loss: 127.3470 - val_loss: 1073.4292\n",
      "Epoch 124/500\n",
      "28/28 [==============================] - 0s 6ms/step - loss: 127.1438 - val_loss: 1083.0101\n",
      "Epoch 125/500\n",
      "28/28 [==============================] - 0s 6ms/step - loss: 123.9668 - val_loss: 991.7909\n",
      "Epoch 126/500\n",
      "28/28 [==============================] - 0s 7ms/step - loss: 144.2483 - val_loss: 1002.8630\n",
      "Epoch 127/500\n",
      "28/28 [==============================] - 0s 5ms/step - loss: 140.6561 - val_loss: 997.9899\n",
      "Epoch 128/500\n",
      "28/28 [==============================] - 0s 7ms/step - loss: 139.3874 - val_loss: 1033.8450\n",
      "Epoch 129/500\n",
      "28/28 [==============================] - 0s 6ms/step - loss: 135.7872 - val_loss: 1046.0995\n",
      "Epoch 130/500\n",
      "28/28 [==============================] - 0s 5ms/step - loss: 133.8150 - val_loss: 1057.0092\n",
      "Epoch 131/500\n",
      "28/28 [==============================] - 0s 5ms/step - loss: 132.1729 - val_loss: 1066.9906\n",
      "Epoch 132/500\n",
      "28/28 [==============================] - 0s 8ms/step - loss: 130.8053 - val_loss: 1075.8230\n",
      "Epoch 133/500\n",
      "28/28 [==============================] - 0s 6ms/step - loss: 129.5173 - val_loss: 1066.7072\n",
      "Epoch 134/500\n",
      "28/28 [==============================] - 0s 9ms/step - loss: 129.7874 - val_loss: 1094.1205\n",
      "Epoch 135/500\n",
      "28/28 [==============================] - 0s 7ms/step - loss: 127.9190 - val_loss: 1101.3625\n",
      "Epoch 136/500\n",
      "28/28 [==============================] - 0s 5ms/step - loss: 127.2625 - val_loss: 1107.9841\n",
      "Epoch 137/500\n",
      "28/28 [==============================] - 0s 5ms/step - loss: 126.7116 - val_loss: 1114.0172\n",
      "Epoch 138/500\n",
      "28/28 [==============================] - 0s 6ms/step - loss: 126.2316 - val_loss: 1117.9169\n",
      "Epoch 139/500\n",
      "28/28 [==============================] - 0s 6ms/step - loss: 117.4786 - val_loss: 1032.8071\n",
      "Epoch 140/500\n",
      "28/28 [==============================] - 0s 6ms/step - loss: 135.9052 - val_loss: 1043.6196\n",
      "Epoch 141/500\n",
      "28/28 [==============================] - 0s 6ms/step - loss: 134.0603 - val_loss: 1050.3025\n",
      "Epoch 142/500\n",
      "28/28 [==============================] - 0s 7ms/step - loss: 132.5435 - val_loss: 1065.9404\n",
      "Epoch 143/500\n",
      "28/28 [==============================] - 0s 16ms/step - loss: 130.9262 - val_loss: 1075.5697\n",
      "Epoch 144/500\n",
      "28/28 [==============================] - 0s 8ms/step - loss: 129.7404 - val_loss: 1084.3986\n",
      "Epoch 145/500\n",
      "28/28 [==============================] - 0s 5ms/step - loss: 128.7583 - val_loss: 1092.4817\n",
      "Epoch 146/500\n",
      "28/28 [==============================] - 0s 4ms/step - loss: 127.9380 - val_loss: 1099.5811\n",
      "Epoch 147/500\n",
      "28/28 [==============================] - 0s 4ms/step - loss: 127.2603 - val_loss: 1105.6947\n",
      "Epoch 148/500\n",
      "28/28 [==============================] - 0s 5ms/step - loss: 126.6414 - val_loss: 1108.0314\n",
      "Epoch 149/500\n",
      "28/28 [==============================] - 0s 5ms/step - loss: 126.2141 - val_loss: 1116.3793\n",
      "Epoch 150/500\n",
      "28/28 [==============================] - 0s 5ms/step - loss: 125.8296 - val_loss: 1122.5044\n",
      "Epoch 151/500\n",
      "28/28 [==============================] - 0s 7ms/step - loss: 125.4360 - val_loss: 1120.5256\n",
      "Epoch 152/500\n",
      "28/28 [==============================] - 0s 5ms/step - loss: 125.2896 - val_loss: 1131.2273\n",
      "Epoch 153/500\n",
      "28/28 [==============================] - 0s 6ms/step - loss: 125.0430 - val_loss: 1134.6716\n",
      "Epoch 154/500\n",
      "28/28 [==============================] - 0s 5ms/step - loss: 124.3176 - val_loss: 1087.2820\n",
      "Epoch 155/500\n",
      "28/28 [==============================] - 0s 7ms/step - loss: 128.8558 - val_loss: 1053.7821\n",
      "Epoch 156/500\n",
      "28/28 [==============================] - 0s 7ms/step - loss: 133.6472 - val_loss: 1062.5209\n",
      "Epoch 157/500\n",
      "28/28 [==============================] - 0s 6ms/step - loss: 132.2487 - val_loss: 1072.8104\n",
      "Epoch 158/500\n",
      "28/28 [==============================] - 0s 5ms/step - loss: 130.9164 - val_loss: 1082.3025\n",
      "Epoch 159/500\n",
      "28/28 [==============================] - 0s 5ms/step - loss: 129.8091 - val_loss: 1090.9805\n",
      "Epoch 160/500\n",
      "28/28 [==============================] - 0s 5ms/step - loss: 128.8964 - val_loss: 1098.8979\n",
      "Epoch 161/500\n",
      "28/28 [==============================] - 0s 4ms/step - loss: 128.1439 - val_loss: 1106.1133\n",
      "Epoch 162/500\n",
      "28/28 [==============================] - 0s 5ms/step - loss: 127.5233 - val_loss: 1112.6776\n",
      "Epoch 163/500\n",
      "28/28 [==============================] - 0s 5ms/step - loss: 127.0111 - val_loss: 1118.6440\n",
      "Epoch 164/500\n",
      "28/28 [==============================] - 0s 6ms/step - loss: 126.5880 - val_loss: 1124.0601\n",
      "Epoch 165/500\n",
      "28/28 [==============================] - 0s 6ms/step - loss: 126.2382 - val_loss: 1128.9717\n",
      "Epoch 166/500\n",
      "28/28 [==============================] - 0s 5ms/step - loss: 125.9487 - val_loss: 1133.4202\n",
      "Epoch 167/500\n",
      "28/28 [==============================] - 0s 5ms/step - loss: 125.7088 - val_loss: 1137.4462\n",
      "Epoch 168/500\n",
      "28/28 [==============================] - 0s 6ms/step - loss: 125.5098 - val_loss: 1141.0851\n",
      "Epoch 169/500\n",
      "28/28 [==============================] - 0s 5ms/step - loss: 125.3444 - val_loss: 1144.3700\n",
      "Epoch 170/500\n",
      "28/28 [==============================] - 0s 8ms/step - loss: 125.2067 - val_loss: 1146.9900\n",
      "Epoch 171/500\n",
      "28/28 [==============================] - 0s 6ms/step - loss: 125.0933 - val_loss: 1150.0258\n",
      "Epoch 172/500\n",
      "28/28 [==============================] - 0s 10ms/step - loss: 124.9964 - val_loss: 1152.4391\n",
      "Epoch 173/500\n",
      "28/28 [==============================] - 0s 5ms/step - loss: 124.9162 - val_loss: 1154.6130\n",
      "Epoch 174/500\n",
      "28/28 [==============================] - 0s 5ms/step - loss: 124.8491 - val_loss: 1156.5691\n",
      "Epoch 175/500\n",
      "28/28 [==============================] - 0s 5ms/step - loss: 124.7928 - val_loss: 1158.3282\n",
      "Epoch 176/500\n",
      "28/28 [==============================] - 0s 5ms/step - loss: 124.7453 - val_loss: 1159.9097\n",
      "Epoch 177/500\n",
      "28/28 [==============================] - 0s 5ms/step - loss: 124.7053 - val_loss: 1161.3307\n",
      "Epoch 178/500\n",
      "28/28 [==============================] - 0s 5ms/step - loss: 124.6715 - val_loss: 1162.6057\n",
      "Epoch 179/500\n",
      "28/28 [==============================] - 0s 5ms/step - loss: 124.6429 - val_loss: 1163.7511\n",
      "Epoch 180/500\n",
      "28/28 [==============================] - 0s 5ms/step - loss: 124.6186 - val_loss: 1164.7775\n",
      "Epoch 181/500\n",
      "28/28 [==============================] - 0s 6ms/step - loss: 124.5980 - val_loss: 1165.6978\n",
      "Epoch 182/500\n",
      "28/28 [==============================] - 0s 6ms/step - loss: 124.5805 - val_loss: 1166.5216\n",
      "Epoch 183/500\n",
      "28/28 [==============================] - 0s 8ms/step - loss: 124.5655 - val_loss: 1167.2595\n",
      "Epoch 184/500\n",
      "28/28 [==============================] - 0s 9ms/step - loss: 124.5528 - val_loss: 1167.9198\n",
      "Epoch 185/500\n",
      "28/28 [==============================] - 0s 12ms/step - loss: 124.5419 - val_loss: 1168.5105\n",
      "Epoch 186/500\n",
      "28/28 [==============================] - 0s 7ms/step - loss: 124.5325 - val_loss: 1169.0385\n",
      "Epoch 187/500\n",
      "28/28 [==============================] - 0s 6ms/step - loss: 124.5246 - val_loss: 1169.5110\n",
      "Epoch 188/500\n",
      "28/28 [==============================] - 0s 5ms/step - loss: 124.5177 - val_loss: 1169.9318\n",
      "Epoch 189/500\n",
      "28/28 [==============================] - 0s 5ms/step - loss: 124.5119 - val_loss: 1170.3073\n",
      "Epoch 190/500\n",
      "28/28 [==============================] - 0s 9ms/step - loss: 124.5069 - val_loss: 1170.6434\n",
      "Epoch 191/500\n",
      "28/28 [==============================] - 0s 6ms/step - loss: 124.5026 - val_loss: 1170.9424\n",
      "Epoch 192/500\n",
      "28/28 [==============================] - 0s 7ms/step - loss: 124.4990 - val_loss: 1171.2084\n",
      "Epoch 193/500\n",
      "28/28 [==============================] - 0s 8ms/step - loss: 124.4959 - val_loss: 1171.4453\n",
      "Epoch 194/500\n",
      "28/28 [==============================] - 0s 6ms/step - loss: 124.4933 - val_loss: 1171.6565\n",
      "Epoch 195/500\n",
      "28/28 [==============================] - 0s 8ms/step - loss: 124.4910 - val_loss: 1171.8407\n",
      "Epoch 196/500\n",
      "28/28 [==============================] - 0s 7ms/step - loss: 124.4891 - val_loss: 1172.0045\n",
      "Epoch 197/500\n",
      "28/28 [==============================] - 0s 7ms/step - loss: 124.4875 - val_loss: 1172.1489\n",
      "Epoch 198/500\n",
      "28/28 [==============================] - 0s 6ms/step - loss: 124.4861 - val_loss: 1172.2742\n",
      "Epoch 199/500\n",
      "28/28 [==============================] - 0s 6ms/step - loss: 124.4849 - val_loss: 1172.3782\n",
      "Epoch 200/500\n",
      "28/28 [==============================] - 0s 6ms/step - loss: 124.4820 - val_loss: 1172.2727\n",
      "Epoch 201/500\n",
      "28/28 [==============================] - 0s 5ms/step - loss: 124.4956 - val_loss: 1172.6069\n",
      "Epoch 202/500\n",
      "28/28 [==============================] - 0s 5ms/step - loss: 124.4832 - val_loss: 1172.6876\n",
      "Epoch 203/500\n",
      "28/28 [==============================] - 0s 5ms/step - loss: 124.4828 - val_loss: 1172.7587\n",
      "Epoch 204/500\n",
      "28/28 [==============================] - 0s 5ms/step - loss: 124.4825 - val_loss: 1172.8213\n",
      "Epoch 205/500\n",
      "28/28 [==============================] - 0s 6ms/step - loss: 124.4823 - val_loss: 1172.8760\n",
      "Epoch 206/500\n",
      "28/28 [==============================] - 0s 7ms/step - loss: 124.4822 - val_loss: 1172.9238\n",
      "Epoch 207/500\n",
      "28/28 [==============================] - 0s 8ms/step - loss: 124.4823 - val_loss: 1172.9662\n",
      "Epoch 208/500\n",
      "28/28 [==============================] - 0s 5ms/step - loss: 124.4823 - val_loss: 1173.0024\n",
      "Epoch 209/500\n",
      "28/28 [==============================] - 0s 5ms/step - loss: 124.4824 - val_loss: 1173.0343\n",
      "Epoch 210/500\n",
      "28/28 [==============================] - 0s 6ms/step - loss: 124.4826 - val_loss: 1173.0615\n",
      "Epoch 211/500\n",
      "28/28 [==============================] - 0s 6ms/step - loss: 124.4828 - val_loss: 1173.0852\n",
      "Epoch 212/500\n",
      "28/28 [==============================] - 0s 5ms/step - loss: 124.4830 - val_loss: 1173.1051\n",
      "Epoch 213/500\n",
      "28/28 [==============================] - 0s 5ms/step - loss: 124.4833 - val_loss: 1173.1210\n",
      "Epoch 214/500\n",
      "28/28 [==============================] - 0s 5ms/step - loss: 124.4836 - val_loss: 1173.1349\n",
      "Epoch 215/500\n",
      "28/28 [==============================] - 0s 5ms/step - loss: 124.4839 - val_loss: 1173.1449\n",
      "Epoch 216/500\n",
      "28/28 [==============================] - 0s 5ms/step - loss: 124.4842 - val_loss: 1173.0396\n",
      "Epoch 217/500\n",
      "28/28 [==============================] - 0s 5ms/step - loss: 124.4776 - val_loss: 1173.0270\n",
      "Epoch 218/500\n",
      "28/28 [==============================] - 0s 4ms/step - loss: 117.7183 - val_loss: 1124.9755\n",
      "Epoch 219/500\n",
      "28/28 [==============================] - 0s 5ms/step - loss: 126.1658 - val_loss: 1129.7130\n",
      "Epoch 220/500\n",
      "28/28 [==============================] - 0s 4ms/step - loss: 125.9170 - val_loss: 1134.3173\n",
      "Epoch 221/500\n",
      "28/28 [==============================] - 0s 4ms/step - loss: 125.6746 - val_loss: 1138.4424\n",
      "Epoch 222/500\n",
      "28/28 [==============================] - 0s 5ms/step - loss: 125.4742 - val_loss: 1142.0879\n",
      "Epoch 223/500\n",
      "28/28 [==============================] - 0s 6ms/step - loss: 125.3100 - val_loss: 1144.9099\n",
      "Epoch 224/500\n",
      "28/28 [==============================] - 0s 5ms/step - loss: 124.6493 - val_loss: 1116.3221\n",
      "Epoch 225/500\n",
      "28/28 [==============================] - 0s 5ms/step - loss: 128.1622 - val_loss: 1103.4923\n",
      "Epoch 226/500\n",
      "28/28 [==============================] - 0s 8ms/step - loss: 127.6826 - val_loss: 1110.6193\n",
      "Epoch 227/500\n",
      "28/28 [==============================] - 0s 5ms/step - loss: 127.1186 - val_loss: 1117.0812\n",
      "Epoch 228/500\n",
      "28/28 [==============================] - 0s 4ms/step - loss: 126.6442 - val_loss: 1122.1625\n",
      "Epoch 229/500\n",
      "28/28 [==============================] - 0s 5ms/step - loss: 126.5485 - val_loss: 1129.2736\n",
      "Epoch 230/500\n",
      "28/28 [==============================] - 0s 4ms/step - loss: 125.9862 - val_loss: 1134.3037\n",
      "Epoch 231/500\n",
      "28/28 [==============================] - 0s 4ms/step - loss: 125.6977 - val_loss: 1138.6293\n",
      "Epoch 232/500\n",
      "28/28 [==============================] - 0s 5ms/step - loss: 125.4798 - val_loss: 1142.4187\n",
      "Epoch 233/500\n",
      "28/28 [==============================] - 0s 4ms/step - loss: 125.3075 - val_loss: 1145.7562\n",
      "Epoch 234/500\n",
      "28/28 [==============================] - 0s 5ms/step - loss: 125.1691 - val_loss: 1148.7018\n",
      "Epoch 235/500\n",
      "28/28 [==============================] - 0s 5ms/step - loss: 125.0570 - val_loss: 1151.3051\n",
      "Epoch 236/500\n",
      "28/28 [==============================] - 0s 6ms/step - loss: 124.9656 - val_loss: 1153.6068\n",
      "Epoch 237/500\n",
      "28/28 [==============================] - 0s 5ms/step - loss: 124.8905 - val_loss: 1155.6429\n",
      "Epoch 238/500\n",
      "28/28 [==============================] - 0s 6ms/step - loss: 124.8285 - val_loss: 1157.4432\n",
      "Epoch 239/500\n",
      "28/28 [==============================] - 0s 5ms/step - loss: 124.7773 - val_loss: 1159.0359\n",
      "Epoch 240/500\n",
      "28/28 [==============================] - 0s 6ms/step - loss: 124.7346 - val_loss: 1160.4430\n",
      "Epoch 241/500\n",
      "28/28 [==============================] - 0s 5ms/step - loss: 124.6989 - val_loss: 1161.6847\n",
      "Epoch 242/500\n",
      "28/28 [==============================] - 0s 4ms/step - loss: 124.6690 - val_loss: 1162.7772\n",
      "Epoch 243/500\n",
      "28/28 [==============================] - 0s 7ms/step - loss: 124.6437 - val_loss: 1163.7356\n",
      "Epoch 244/500\n",
      "28/28 [==============================] - 0s 10ms/step - loss: 124.6224 - val_loss: 1164.5656\n",
      "Epoch 245/500\n",
      "28/28 [==============================] - 0s 7ms/step - loss: 124.6043 - val_loss: 1165.2633\n",
      "Epoch 246/500\n",
      "28/28 [==============================] - 0s 5ms/step - loss: 124.5888 - val_loss: 1165.7765\n",
      "Epoch 247/500\n",
      "28/28 [==============================] - 0s 7ms/step - loss: 124.5756 - val_loss: 1164.3931\n",
      "Epoch 248/500\n",
      "28/28 [==============================] - 0s 7ms/step - loss: 123.9412 - val_loss: 1114.4474\n",
      "Epoch 249/500\n",
      "28/28 [==============================] - 0s 7ms/step - loss: 126.9103 - val_loss: 1116.8925\n",
      "Epoch 250/500\n",
      "28/28 [==============================] - 0s 8ms/step - loss: 126.6741 - val_loss: 1122.7469\n",
      "Epoch 251/500\n",
      "28/28 [==============================] - 0s 7ms/step - loss: 126.2965 - val_loss: 1128.0765\n",
      "Epoch 252/500\n",
      "28/28 [==============================] - 0s 5ms/step - loss: 125.9797 - val_loss: 1132.8406\n",
      "Epoch 253/500\n",
      "28/28 [==============================] - 0s 5ms/step - loss: 125.7217 - val_loss: 1137.0917\n",
      "Epoch 254/500\n",
      "28/28 [==============================] - 0s 4ms/step - loss: 125.5116 - val_loss: 1140.8810\n",
      "Epoch 255/500\n",
      "28/28 [==============================] - 0s 4ms/step - loss: 125.3401 - val_loss: 1144.2507\n",
      "Epoch 256/500\n",
      "28/28 [==============================] - 0s 4ms/step - loss: 125.1993 - val_loss: 1147.1738\n",
      "Epoch 257/500\n",
      "28/28 [==============================] - 0s 4ms/step - loss: 123.8453 - val_loss: 1120.2795\n",
      "Epoch 258/500\n",
      "28/28 [==============================] - 0s 4ms/step - loss: 128.1344 - val_loss: 1103.5726\n",
      "Epoch 259/500\n",
      "28/28 [==============================] - 0s 5ms/step - loss: 127.6599 - val_loss: 1110.6979\n",
      "Epoch 260/500\n",
      "28/28 [==============================] - 0s 9ms/step - loss: 127.0998 - val_loss: 1117.1777\n",
      "Epoch 261/500\n",
      "28/28 [==============================] - 0s 8ms/step - loss: 126.6360 - val_loss: 1122.9922\n",
      "Epoch 262/500\n",
      "28/28 [==============================] - 0s 6ms/step - loss: 126.2588 - val_loss: 1128.2015\n",
      "Epoch 263/500\n",
      "28/28 [==============================] - 0s 6ms/step - loss: 125.9517 - val_loss: 1132.8651\n",
      "Epoch 264/500\n",
      "28/28 [==============================] - 0s 7ms/step - loss: 125.7013 - val_loss: 1137.0381\n",
      "Epoch 265/500\n",
      "28/28 [==============================] - 0s 7ms/step - loss: 125.4963 - val_loss: 1140.7681\n",
      "Epoch 266/500\n",
      "28/28 [==============================] - 0s 5ms/step - loss: 125.3283 - val_loss: 1144.1017\n",
      "Epoch 267/500\n",
      "28/28 [==============================] - 0s 5ms/step - loss: 125.1901 - val_loss: 1147.0767\n",
      "Epoch 268/500\n",
      "28/28 [==============================] - 0s 5ms/step - loss: 125.0761 - val_loss: 1149.7289\n",
      "Epoch 269/500\n",
      "28/28 [==============================] - 0s 5ms/step - loss: 124.9818 - val_loss: 1152.0740\n",
      "Epoch 270/500\n",
      "28/28 [==============================] - 0s 5ms/step - loss: 124.8934 - val_loss: 1152.6205\n",
      "Epoch 271/500\n",
      "28/28 [==============================] - 0s 4ms/step - loss: 124.8517 - val_loss: 1156.2219\n",
      "Epoch 272/500\n",
      "28/28 [==============================] - 0s 5ms/step - loss: 124.7839 - val_loss: 1157.9088\n",
      "Epoch 273/500\n",
      "28/28 [==============================] - 0s 5ms/step - loss: 124.7382 - val_loss: 1159.4133\n",
      "Epoch 274/500\n",
      "28/28 [==============================] - 0s 5ms/step - loss: 124.6999 - val_loss: 1160.7534\n",
      "Epoch 275/500\n",
      "28/28 [==============================] - 0s 5ms/step - loss: 124.6676 - val_loss: 1161.9474\n",
      "Epoch 276/500\n",
      "28/28 [==============================] - 0s 4ms/step - loss: 124.6403 - val_loss: 1163.0095\n",
      "Epoch 277/500\n",
      "28/28 [==============================] - 0s 8ms/step - loss: 124.6170 - val_loss: 1163.9382\n",
      "Epoch 278/500\n",
      "28/28 [==============================] - 0s 5ms/step - loss: 124.5869 - val_loss: 1164.5460\n",
      "Epoch 279/500\n",
      "28/28 [==============================] - 0s 5ms/step - loss: 124.8145 - val_loss: 1165.6705\n",
      "Epoch 280/500\n",
      "28/28 [==============================] - 0s 4ms/step - loss: 124.5652 - val_loss: 1166.3378\n",
      "Epoch 281/500\n",
      "28/28 [==============================] - 0s 4ms/step - loss: 124.5520 - val_loss: 1166.9238\n",
      "Epoch 282/500\n",
      "28/28 [==============================] - 0s 5ms/step - loss: 124.5414 - val_loss: 1167.4438\n",
      "Epoch 283/500\n",
      "28/28 [==============================] - 0s 4ms/step - loss: 124.5324 - val_loss: 1167.9059\n",
      "Epoch 284/500\n",
      "28/28 [==============================] - 0s 4ms/step - loss: 124.5245 - val_loss: 1168.3154\n",
      "Epoch 285/500\n",
      "28/28 [==============================] - 0s 4ms/step - loss: 124.5177 - val_loss: 1168.6802\n",
      "Epoch 286/500\n",
      "28/28 [==============================] - 0s 5ms/step - loss: 124.5117 - val_loss: 1169.0028\n",
      "Epoch 287/500\n",
      "28/28 [==============================] - 0s 5ms/step - loss: 124.5066 - val_loss: 1169.2888\n",
      "Epoch 288/500\n",
      "28/28 [==============================] - 0s 5ms/step - loss: 124.5020 - val_loss: 1169.5403\n",
      "Epoch 289/500\n",
      "28/28 [==============================] - 0s 4ms/step - loss: 124.4981 - val_loss: 1169.7626\n",
      "Epoch 290/500\n",
      "28/28 [==============================] - 0s 5ms/step - loss: 124.4946 - val_loss: 1169.9521\n",
      "Epoch 291/500\n",
      "28/28 [==============================] - 0s 4ms/step - loss: 124.4915 - val_loss: 1167.7572\n",
      "Epoch 292/500\n",
      "28/28 [==============================] - 0s 4ms/step - loss: 124.4894 - val_loss: 1170.9572\n",
      "Epoch 293/500\n",
      "28/28 [==============================] - 0s 5ms/step - loss: 124.4867 - val_loss: 1171.0897\n",
      "Epoch 294/500\n",
      "28/28 [==============================] - 0s 11ms/step - loss: 124.4846 - val_loss: 1171.2028\n",
      "Epoch 295/500\n",
      "28/28 [==============================] - 0s 6ms/step - loss: 124.4829 - val_loss: 1171.2958\n",
      "Epoch 296/500\n",
      "28/28 [==============================] - 0s 6ms/step - loss: 124.4812 - val_loss: 1171.3505\n",
      "Epoch 297/500\n",
      "28/28 [==============================] - 0s 8ms/step - loss: 124.4799 - val_loss: 1170.8710\n",
      "Epoch 298/500\n",
      "28/28 [==============================] - 0s 6ms/step - loss: 123.3217 - val_loss: 1117.5325\n",
      "Epoch 299/500\n",
      "28/28 [==============================] - 0s 5ms/step - loss: 126.7212 - val_loss: 1118.5039\n",
      "Epoch 300/500\n",
      "28/28 [==============================] - 0s 5ms/step - loss: 126.5176 - val_loss: 1123.9895\n",
      "Epoch 301/500\n",
      "28/28 [==============================] - 0s 5ms/step - loss: 126.1763 - val_loss: 1129.0034\n",
      "Epoch 302/500\n",
      "28/28 [==============================] - 0s 5ms/step - loss: 125.8873 - val_loss: 1133.5056\n",
      "Epoch 303/500\n",
      "28/28 [==============================] - 0s 5ms/step - loss: 125.6501 - val_loss: 1137.5391\n",
      "Epoch 304/500\n",
      "28/28 [==============================] - 0s 6ms/step - loss: 125.4553 - val_loss: 1141.1514\n",
      "Epoch 305/500\n",
      "28/28 [==============================] - 0s 7ms/step - loss: 125.2951 - val_loss: 1144.3853\n",
      "Epoch 306/500\n",
      "28/28 [==============================] - 0s 5ms/step - loss: 125.1628 - val_loss: 1147.2769\n",
      "Epoch 307/500\n",
      "28/28 [==============================] - 0s 5ms/step - loss: 125.0534 - val_loss: 1149.8624\n",
      "Epoch 308/500\n",
      "28/28 [==============================] - 0s 5ms/step - loss: 124.9626 - val_loss: 1152.1732\n",
      "Epoch 309/500\n",
      "28/28 [==============================] - 0s 5ms/step - loss: 124.8870 - val_loss: 1154.2367\n",
      "Epoch 310/500\n",
      "28/28 [==============================] - 0s 5ms/step - loss: 124.8239 - val_loss: 1156.0803\n",
      "Epoch 311/500\n",
      "28/28 [==============================] - 0s 6ms/step - loss: 124.7710 - val_loss: 1157.7251\n",
      "Epoch 312/500\n",
      "28/28 [==============================] - 0s 6ms/step - loss: 124.7266 - val_loss: 1159.1919\n",
      "Epoch 313/500\n",
      "28/28 [==============================] - 0s 5ms/step - loss: 124.6891 - val_loss: 1160.5006\n",
      "Epoch 314/500\n",
      "28/28 [==============================] - 0s 8ms/step - loss: 124.6574 - val_loss: 1161.6663\n",
      "Epoch 315/500\n",
      "28/28 [==============================] - 0s 5ms/step - loss: 124.6305 - val_loss: 1162.7025\n",
      "Epoch 316/500\n",
      "28/28 [==============================] - 0s 6ms/step - loss: 124.6076 - val_loss: 1163.6246\n",
      "Epoch 317/500\n",
      "28/28 [==============================] - 0s 6ms/step - loss: 124.5881 - val_loss: 1164.4440\n",
      "Epoch 318/500\n",
      "28/28 [==============================] - 0s 5ms/step - loss: 124.5714 - val_loss: 1165.1722\n",
      "Epoch 319/500\n",
      "28/28 [==============================] - 0s 5ms/step - loss: 124.5570 - val_loss: 1165.8164\n",
      "Epoch 320/500\n",
      "28/28 [==============================] - 0s 5ms/step - loss: 124.5447 - val_loss: 1166.3871\n",
      "Epoch 321/500\n",
      "28/28 [==============================] - 0s 4ms/step - loss: 124.5340 - val_loss: 1166.8909\n",
      "Epoch 322/500\n",
      "28/28 [==============================] - 0s 6ms/step - loss: 124.5247 - val_loss: 1167.3350\n",
      "Epoch 323/500\n",
      "28/28 [==============================] - 0s 6ms/step - loss: 124.5168 - val_loss: 1167.7244\n",
      "Epoch 324/500\n",
      "28/28 [==============================] - 0s 7ms/step - loss: 124.5097 - val_loss: 1168.0642\n",
      "Epoch 325/500\n",
      "28/28 [==============================] - 0s 5ms/step - loss: 124.5037 - val_loss: 1168.3597\n",
      "Epoch 326/500\n",
      "28/28 [==============================] - 0s 4ms/step - loss: 124.4984 - val_loss: 1168.6134\n",
      "Epoch 327/500\n",
      "28/28 [==============================] - 0s 4ms/step - loss: 124.4937 - val_loss: 1168.8291\n",
      "Epoch 328/500\n",
      "28/28 [==============================] - 0s 5ms/step - loss: 124.4896 - val_loss: 1169.0056\n",
      "Epoch 329/500\n",
      "28/28 [==============================] - 0s 6ms/step - loss: 124.4861 - val_loss: 1169.1287\n",
      "Epoch 330/500\n",
      "28/28 [==============================] - 0s 5ms/step - loss: 124.4809 - val_loss: 1167.4926\n",
      "Epoch 331/500\n",
      "28/28 [==============================] - 0s 5ms/step - loss: 124.9932 - val_loss: 1169.9532\n",
      "Epoch 332/500\n",
      "28/28 [==============================] - 0s 5ms/step - loss: 124.4773 - val_loss: 1170.0408\n",
      "Epoch 333/500\n",
      "28/28 [==============================] - 0s 5ms/step - loss: 124.4746 - val_loss: 1170.1005\n",
      "Epoch 334/500\n",
      "28/28 [==============================] - 0s 10ms/step - loss: 124.4728 - val_loss: 1170.1370\n",
      "Epoch 335/500\n",
      "28/28 [==============================] - 0s 4ms/step - loss: 124.4713 - val_loss: 1170.1514\n",
      "Epoch 336/500\n",
      "28/28 [==============================] - 0s 5ms/step - loss: 124.4698 - val_loss: 1170.1429\n",
      "Epoch 337/500\n",
      "28/28 [==============================] - 0s 4ms/step - loss: 124.4686 - val_loss: 1170.1088\n",
      "Epoch 338/500\n",
      "28/28 [==============================] - 0s 4ms/step - loss: 124.4676 - val_loss: 1170.0459\n",
      "Epoch 339/500\n",
      "28/28 [==============================] - 0s 4ms/step - loss: 124.4666 - val_loss: 1169.9476\n",
      "Epoch 340/500\n",
      "28/28 [==============================] - 0s 4ms/step - loss: 124.4658 - val_loss: 1169.8042\n",
      "Epoch 341/500\n",
      "28/28 [==============================] - 0s 4ms/step - loss: 124.4650 - val_loss: 1169.5955\n",
      "Epoch 342/500\n",
      "28/28 [==============================] - 0s 4ms/step - loss: 124.4644 - val_loss: 1169.2867\n",
      "Epoch 343/500\n",
      "28/28 [==============================] - 0s 4ms/step - loss: 124.4637 - val_loss: 1168.7900\n",
      "Epoch 344/500\n",
      "28/28 [==============================] - 0s 4ms/step - loss: 124.4633 - val_loss: 1167.8240\n",
      "Epoch 345/500\n",
      "28/28 [==============================] - 0s 4ms/step - loss: 124.4626 - val_loss: 1163.8269\n",
      "Epoch 346/500\n",
      "28/28 [==============================] - 0s 6ms/step - loss: 119.1130 - val_loss: 1120.6056\n",
      "Epoch 347/500\n",
      "28/28 [==============================] - 0s 5ms/step - loss: 126.8531 - val_loss: 1125.5990\n",
      "Epoch 348/500\n",
      "28/28 [==============================] - 0s 4ms/step - loss: 126.5703 - val_loss: 1131.1650\n",
      "Epoch 349/500\n",
      "28/28 [==============================] - 0s 4ms/step - loss: 126.2193 - val_loss: 1136.2340\n",
      "Epoch 350/500\n",
      "28/28 [==============================] - 0s 4ms/step - loss: 125.9248 - val_loss: 1140.7933\n",
      "Epoch 351/500\n",
      "28/28 [==============================] - 0s 5ms/step - loss: 125.6826 - val_loss: 1144.8899\n",
      "Epoch 352/500\n",
      "28/28 [==============================] - 0s 5ms/step - loss: 125.4832 - val_loss: 1148.5682\n",
      "Epoch 353/500\n",
      "28/28 [==============================] - 0s 5ms/step - loss: 125.3187 - val_loss: 1151.8700\n",
      "Epoch 354/500\n",
      "28/28 [==============================] - 0s 6ms/step - loss: 125.1825 - val_loss: 1154.8319\n",
      "Epoch 355/500\n",
      "28/28 [==============================] - 0s 4ms/step - loss: 125.0697 - val_loss: 1157.4884\n",
      "Epoch 356/500\n",
      "28/28 [==============================] - 0s 4ms/step - loss: 124.9758 - val_loss: 1159.8699\n",
      "Epoch 357/500\n",
      "28/28 [==============================] - 0s 9ms/step - loss: 124.8974 - val_loss: 1162.0052\n",
      "Epoch 358/500\n",
      "28/28 [==============================] - 0s 7ms/step - loss: 124.8319 - val_loss: 1163.9182\n",
      "Epoch 359/500\n",
      "28/28 [==============================] - 0s 5ms/step - loss: 124.7769 - val_loss: 1165.6328\n",
      "Epoch 360/500\n",
      "28/28 [==============================] - 0s 5ms/step - loss: 124.7305 - val_loss: 1167.1676\n",
      "Epoch 361/500\n",
      "28/28 [==============================] - 0s 6ms/step - loss: 124.6915 - val_loss: 1168.5428\n",
      "Epoch 362/500\n",
      "28/28 [==============================] - 0s 5ms/step - loss: 124.6583 - val_loss: 1169.7738\n",
      "Epoch 363/500\n",
      "28/28 [==============================] - 0s 5ms/step - loss: 124.6301 - val_loss: 1170.8754\n",
      "Epoch 364/500\n",
      "28/28 [==============================] - 0s 7ms/step - loss: 124.6062 - val_loss: 1171.8622\n",
      "Epoch 365/500\n",
      "28/28 [==============================] - 0s 5ms/step - loss: 124.5857 - val_loss: 1172.7449\n",
      "Epoch 366/500\n",
      "28/28 [==============================] - 0s 6ms/step - loss: 124.5681 - val_loss: 1173.5348\n",
      "Epoch 367/500\n",
      "28/28 [==============================] - 0s 6ms/step - loss: 124.5530 - val_loss: 1174.2412\n",
      "Epoch 368/500\n",
      "28/28 [==============================] - 0s 5ms/step - loss: 124.5400 - val_loss: 1174.8732\n",
      "Epoch 369/500\n",
      "28/28 [==============================] - 0s 5ms/step - loss: 124.5287 - val_loss: 1175.4384\n",
      "Epoch 370/500\n",
      "28/28 [==============================] - 0s 5ms/step - loss: 124.5189 - val_loss: 1175.9441\n",
      "Epoch 371/500\n",
      "28/28 [==============================] - 0s 5ms/step - loss: 124.5104 - val_loss: 1176.3959\n",
      "Epoch 372/500\n",
      "28/28 [==============================] - 0s 4ms/step - loss: 124.5030 - val_loss: 1176.7997\n",
      "Epoch 373/500\n",
      "28/28 [==============================] - 0s 4ms/step - loss: 124.4967 - val_loss: 1177.1613\n",
      "Epoch 374/500\n",
      "28/28 [==============================] - 0s 4ms/step - loss: 124.4910 - val_loss: 1177.4846\n",
      "Epoch 375/500\n",
      "28/28 [==============================] - 0s 4ms/step - loss: 124.4860 - val_loss: 1177.7722\n",
      "Epoch 376/500\n",
      "28/28 [==============================] - 0s 8ms/step - loss: 124.4817 - val_loss: 1178.0299\n",
      "Epoch 377/500\n",
      "28/28 [==============================] - 0s 4ms/step - loss: 124.4779 - val_loss: 1178.2595\n",
      "Epoch 378/500\n",
      "28/28 [==============================] - 0s 4ms/step - loss: 124.4746 - val_loss: 1178.4644\n",
      "Epoch 379/500\n",
      "28/28 [==============================] - 0s 4ms/step - loss: 124.4716 - val_loss: 1178.6475\n",
      "Epoch 380/500\n",
      "28/28 [==============================] - 0s 4ms/step - loss: 124.4690 - val_loss: 1178.8104\n",
      "Epoch 381/500\n",
      "28/28 [==============================] - 0s 4ms/step - loss: 124.4667 - val_loss: 1178.9556\n",
      "Epoch 382/500\n",
      "28/28 [==============================] - 0s 4ms/step - loss: 124.4647 - val_loss: 1179.0848\n",
      "Epoch 383/500\n",
      "28/28 [==============================] - 0s 4ms/step - loss: 124.4629 - val_loss: 1179.1991\n",
      "Epoch 384/500\n",
      "28/28 [==============================] - 0s 4ms/step - loss: 124.4613 - val_loss: 1179.3004\n",
      "Epoch 385/500\n",
      "28/28 [==============================] - 0s 5ms/step - loss: 124.4578 - val_loss: 1173.6151\n",
      "Epoch 386/500\n",
      "28/28 [==============================] - 0s 5ms/step - loss: 123.0741 - val_loss: 1129.5782\n",
      "Epoch 387/500\n",
      "28/28 [==============================] - 0s 5ms/step - loss: 126.1002 - val_loss: 1179.5645\n",
      "Epoch 388/500\n",
      "28/28 [==============================] - 0s 4ms/step - loss: 124.4434 - val_loss: 1172.8969\n",
      "Epoch 389/500\n",
      "28/28 [==============================] - 0s 4ms/step - loss: 124.4586 - val_loss: 1180.2924\n",
      "Epoch 390/500\n",
      "28/28 [==============================] - 0s 4ms/step - loss: 124.4516 - val_loss: 1180.3110\n",
      "Epoch 391/500\n",
      "28/28 [==============================] - 0s 4ms/step - loss: 124.4513 - val_loss: 1180.3245\n",
      "Epoch 392/500\n",
      "28/28 [==============================] - 0s 4ms/step - loss: 124.4509 - val_loss: 1180.3313\n",
      "Epoch 393/500\n",
      "28/28 [==============================] - 0s 5ms/step - loss: 124.4507 - val_loss: 1180.3323\n",
      "Epoch 394/500\n",
      "28/28 [==============================] - 0s 4ms/step - loss: 124.4504 - val_loss: 1180.3210\n",
      "Epoch 395/500\n",
      "28/28 [==============================] - 0s 5ms/step - loss: 124.4502 - val_loss: 1180.2863\n",
      "Epoch 396/500\n",
      "28/28 [==============================] - 0s 5ms/step - loss: 124.4500 - val_loss: 1180.0624\n",
      "Epoch 397/500\n",
      "28/28 [==============================] - 0s 8ms/step - loss: 124.4398 - val_loss: 1161.5775\n",
      "Epoch 398/500\n",
      "28/28 [==============================] - 0s 4ms/step - loss: 125.2175 - val_loss: 1123.2609\n",
      "Epoch 399/500\n",
      "28/28 [==============================] - 0s 4ms/step - loss: 126.6914 - val_loss: 1128.2357\n",
      "Epoch 400/500\n",
      "28/28 [==============================] - 0s 5ms/step - loss: 125.7326 - val_loss: 1098.8047\n",
      "Epoch 401/500\n",
      "28/28 [==============================] - 0s 4ms/step - loss: 127.3431 - val_loss: 1129.9398\n",
      "Epoch 402/500\n",
      "28/28 [==============================] - 0s 5ms/step - loss: 125.8441 - val_loss: 1143.3461\n",
      "Epoch 403/500\n",
      "28/28 [==============================] - 0s 4ms/step - loss: 125.5411 - val_loss: 1147.1154\n",
      "Epoch 404/500\n",
      "28/28 [==============================] - 0s 4ms/step - loss: 125.3673 - val_loss: 1150.5027\n",
      "Epoch 405/500\n",
      "28/28 [==============================] - 0s 4ms/step - loss: 125.2233 - val_loss: 1153.5480\n",
      "Epoch 406/500\n",
      "28/28 [==============================] - 0s 4ms/step - loss: 125.1037 - val_loss: 1156.2871\n",
      "Epoch 407/500\n",
      "28/28 [==============================] - 0s 4ms/step - loss: 125.0039 - val_loss: 1158.7506\n",
      "Epoch 408/500\n",
      "28/28 [==============================] - 0s 4ms/step - loss: 124.9204 - val_loss: 1160.9626\n",
      "Epoch 409/500\n",
      "28/28 [==============================] - 0s 4ms/step - loss: 124.8505 - val_loss: 1162.9512\n",
      "Epoch 410/500\n",
      "28/28 [==============================] - 0s 4ms/step - loss: 124.7917 - val_loss: 1164.7366\n",
      "Epoch 411/500\n",
      "28/28 [==============================] - 0s 5ms/step - loss: 124.7422 - val_loss: 1166.3406\n",
      "Epoch 412/500\n",
      "28/28 [==============================] - 0s 5ms/step - loss: 124.7002 - val_loss: 1167.7809\n",
      "Epoch 413/500\n",
      "28/28 [==============================] - 0s 5ms/step - loss: 124.6647 - val_loss: 1169.0739\n",
      "Epoch 414/500\n",
      "28/28 [==============================] - 0s 5ms/step - loss: 124.6344 - val_loss: 1170.2334\n",
      "Epoch 415/500\n",
      "28/28 [==============================] - 0s 4ms/step - loss: 124.6086 - val_loss: 1171.2747\n",
      "Epoch 416/500\n",
      "28/28 [==============================] - 0s 7ms/step - loss: 124.5866 - val_loss: 1172.2094\n",
      "Epoch 417/500\n",
      "28/28 [==============================] - 0s 5ms/step - loss: 124.5676 - val_loss: 1173.0469\n",
      "Epoch 418/500\n",
      "28/28 [==============================] - 0s 5ms/step - loss: 124.5513 - val_loss: 1173.7992\n",
      "Epoch 419/500\n",
      "28/28 [==============================] - 0s 4ms/step - loss: 124.5373 - val_loss: 1174.4736\n",
      "Epoch 420/500\n",
      "28/28 [==============================] - 0s 4ms/step - loss: 124.5250 - val_loss: 1175.0785\n",
      "Epoch 421/500\n",
      "28/28 [==============================] - 0s 4ms/step - loss: 124.5145 - val_loss: 1175.6211\n",
      "Epoch 422/500\n",
      "28/28 [==============================] - 0s 4ms/step - loss: 124.5054 - val_loss: 1176.1079\n",
      "Epoch 423/500\n",
      "28/28 [==============================] - 0s 4ms/step - loss: 124.4973 - val_loss: 1176.5441\n",
      "Epoch 424/500\n",
      "28/28 [==============================] - 0s 4ms/step - loss: 124.4903 - val_loss: 1176.9349\n",
      "Epoch 425/500\n",
      "28/28 [==============================] - 0s 4ms/step - loss: 124.4843 - val_loss: 1177.2848\n",
      "Epoch 426/500\n",
      "28/28 [==============================] - 0s 4ms/step - loss: 124.4789 - val_loss: 1177.5983\n",
      "Epoch 427/500\n",
      "28/28 [==============================] - 0s 4ms/step - loss: 124.4742 - val_loss: 1177.8798\n",
      "Epoch 428/500\n",
      "28/28 [==============================] - 0s 4ms/step - loss: 124.4701 - val_loss: 1178.1317\n",
      "Epoch 429/500\n",
      "28/28 [==============================] - 0s 4ms/step - loss: 124.4664 - val_loss: 1178.3571\n",
      "Epoch 430/500\n",
      "28/28 [==============================] - 0s 4ms/step - loss: 124.4632 - val_loss: 1178.5597\n",
      "Epoch 431/500\n",
      "28/28 [==============================] - 0s 4ms/step - loss: 124.4603 - val_loss: 1178.7399\n",
      "Epoch 432/500\n",
      "28/28 [==============================] - 0s 4ms/step - loss: 124.4577 - val_loss: 1178.9019\n",
      "Epoch 433/500\n",
      "28/28 [==============================] - 0s 7ms/step - loss: 124.4555 - val_loss: 1179.0458\n",
      "Epoch 434/500\n",
      "28/28 [==============================] - 0s 5ms/step - loss: 124.4536 - val_loss: 1179.1747\n",
      "Epoch 435/500\n",
      "28/28 [==============================] - 0s 5ms/step - loss: 124.4518 - val_loss: 1179.2909\n",
      "Epoch 436/500\n",
      "28/28 [==============================] - 0s 4ms/step - loss: 124.4502 - val_loss: 1179.3933\n",
      "Epoch 437/500\n",
      "28/28 [==============================] - 0s 4ms/step - loss: 124.4488 - val_loss: 1179.4849\n",
      "Epoch 438/500\n",
      "28/28 [==============================] - 0s 4ms/step - loss: 124.4476 - val_loss: 1179.5665\n",
      "Epoch 439/500\n",
      "28/28 [==============================] - 0s 4ms/step - loss: 124.4465 - val_loss: 1179.6390\n",
      "Epoch 440/500\n",
      "28/28 [==============================] - 0s 4ms/step - loss: 124.4455 - val_loss: 1179.7031\n",
      "Epoch 441/500\n",
      "28/28 [==============================] - 0s 4ms/step - loss: 124.4447 - val_loss: 1179.7605\n",
      "Epoch 442/500\n",
      "28/28 [==============================] - 0s 4ms/step - loss: 124.4439 - val_loss: 1179.8104\n",
      "Epoch 443/500\n",
      "28/28 [==============================] - 0s 4ms/step - loss: 124.4432 - val_loss: 1179.8546\n",
      "Epoch 444/500\n",
      "28/28 [==============================] - 0s 4ms/step - loss: 124.4426 - val_loss: 1179.8921\n",
      "Epoch 445/500\n",
      "28/28 [==============================] - 0s 4ms/step - loss: 124.4420 - val_loss: 1179.9257\n",
      "Epoch 446/500\n",
      "28/28 [==============================] - 0s 4ms/step - loss: 124.4415 - val_loss: 1179.9536\n",
      "Epoch 447/500\n",
      "28/28 [==============================] - 0s 4ms/step - loss: 124.4411 - val_loss: 1179.9769\n",
      "Epoch 448/500\n",
      "28/28 [==============================] - 0s 5ms/step - loss: 124.4407 - val_loss: 1179.9961\n",
      "Epoch 449/500\n",
      "28/28 [==============================] - 0s 4ms/step - loss: 124.4404 - val_loss: 1180.0100\n",
      "Epoch 450/500\n",
      "28/28 [==============================] - 0s 4ms/step - loss: 124.4401 - val_loss: 1180.0193\n",
      "Epoch 451/500\n",
      "28/28 [==============================] - 0s 4ms/step - loss: 124.4398 - val_loss: 1180.0239\n",
      "Epoch 452/500\n",
      "28/28 [==============================] - 0s 4ms/step - loss: 124.4395 - val_loss: 1180.0208\n",
      "Epoch 453/500\n",
      "28/28 [==============================] - 0s 4ms/step - loss: 124.4394 - val_loss: 1180.0087\n",
      "Epoch 454/500\n",
      "28/28 [==============================] - 0s 7ms/step - loss: 124.4392 - val_loss: 1179.9833\n",
      "Epoch 455/500\n",
      "28/28 [==============================] - 0s 5ms/step - loss: 124.4389 - val_loss: 1178.6946\n",
      "Epoch 456/500\n",
      "28/28 [==============================] - 0s 4ms/step - loss: 124.4429 - val_loss: 1180.7118\n",
      "Epoch 457/500\n",
      "28/28 [==============================] - 0s 4ms/step - loss: 124.4387 - val_loss: 1180.7222\n",
      "Epoch 458/500\n",
      "28/28 [==============================] - 0s 4ms/step - loss: 124.4386 - val_loss: 1180.7314\n",
      "Epoch 459/500\n",
      "28/28 [==============================] - 0s 4ms/step - loss: 124.4385 - val_loss: 1180.7401\n",
      "Epoch 460/500\n",
      "28/28 [==============================] - 0s 4ms/step - loss: 124.4384 - val_loss: 1180.7476\n",
      "Epoch 461/500\n",
      "28/28 [==============================] - 0s 4ms/step - loss: 124.4383 - val_loss: 1180.7545\n",
      "Epoch 462/500\n",
      "28/28 [==============================] - 0s 4ms/step - loss: 124.4382 - val_loss: 1180.7606\n",
      "Epoch 463/500\n",
      "28/28 [==============================] - 0s 4ms/step - loss: 124.4380 - val_loss: 1180.7659\n",
      "Epoch 464/500\n",
      "28/28 [==============================] - 0s 4ms/step - loss: 124.4380 - val_loss: 1180.7698\n",
      "Epoch 465/500\n",
      "28/28 [==============================] - 0s 4ms/step - loss: 124.4380 - val_loss: 1180.7743\n",
      "Epoch 466/500\n",
      "28/28 [==============================] - 0s 4ms/step - loss: 124.4379 - val_loss: 1180.7778\n",
      "Epoch 467/500\n",
      "28/28 [==============================] - 0s 4ms/step - loss: 124.4379 - val_loss: 1180.7820\n",
      "Epoch 468/500\n",
      "28/28 [==============================] - 0s 4ms/step - loss: 124.4379 - val_loss: 1180.7847\n",
      "Epoch 469/500\n",
      "28/28 [==============================] - 0s 4ms/step - loss: 124.4379 - val_loss: 1180.7878\n",
      "Epoch 470/500\n",
      "28/28 [==============================] - 0s 7ms/step - loss: 124.4379 - val_loss: 1180.7904\n",
      "Epoch 471/500\n",
      "28/28 [==============================] - 0s 4ms/step - loss: 124.4378 - val_loss: 1180.7927\n",
      "Epoch 472/500\n",
      "28/28 [==============================] - 0s 4ms/step - loss: 124.4378 - val_loss: 1180.7947\n",
      "Epoch 473/500\n",
      "28/28 [==============================] - 0s 4ms/step - loss: 124.4377 - val_loss: 1180.7972\n",
      "Epoch 474/500\n",
      "28/28 [==============================] - 0s 4ms/step - loss: 124.4377 - val_loss: 1180.7983\n",
      "Epoch 475/500\n",
      "28/28 [==============================] - 0s 4ms/step - loss: 124.4377 - val_loss: 1180.7994\n",
      "Epoch 476/500\n",
      "28/28 [==============================] - 0s 4ms/step - loss: 124.4377 - val_loss: 1180.8003\n",
      "Epoch 477/500\n",
      "28/28 [==============================] - 0s 4ms/step - loss: 124.4377 - val_loss: 1180.8019\n",
      "Epoch 478/500\n",
      "28/28 [==============================] - 0s 4ms/step - loss: 124.4377 - val_loss: 1180.8031\n",
      "Epoch 479/500\n",
      "28/28 [==============================] - 0s 4ms/step - loss: 124.4376 - val_loss: 1180.8037\n",
      "Epoch 480/500\n",
      "28/28 [==============================] - 0s 4ms/step - loss: 124.4376 - val_loss: 1180.8041\n",
      "Epoch 481/500\n",
      "28/28 [==============================] - 0s 4ms/step - loss: 124.4376 - val_loss: 1180.8043\n",
      "Epoch 482/500\n",
      "28/28 [==============================] - 0s 5ms/step - loss: 124.4376 - val_loss: 1180.8047\n",
      "Epoch 483/500\n",
      "28/28 [==============================] - 0s 5ms/step - loss: 124.4376 - val_loss: 1180.8049\n",
      "Epoch 484/500\n",
      "28/28 [==============================] - 0s 6ms/step - loss: 124.4376 - val_loss: 1180.8053\n",
      "Epoch 485/500\n",
      "28/28 [==============================] - 0s 7ms/step - loss: 124.4377 - val_loss: 1180.8057\n",
      "Epoch 486/500\n",
      "28/28 [==============================] - 0s 7ms/step - loss: 124.4377 - val_loss: 1180.8060\n",
      "Epoch 487/500\n",
      "28/28 [==============================] - 0s 7ms/step - loss: 124.4376 - val_loss: 1180.8066\n",
      "Epoch 488/500\n",
      "28/28 [==============================] - 0s 5ms/step - loss: 124.4376 - val_loss: 1180.8068\n",
      "Epoch 489/500\n",
      "28/28 [==============================] - 0s 5ms/step - loss: 124.4376 - val_loss: 1180.8073\n",
      "Epoch 490/500\n",
      "28/28 [==============================] - 0s 4ms/step - loss: 124.4376 - val_loss: 1180.8071\n",
      "Epoch 491/500\n",
      "28/28 [==============================] - 0s 4ms/step - loss: 124.4376 - val_loss: 1180.8075\n",
      "Epoch 492/500\n",
      "28/28 [==============================] - 0s 4ms/step - loss: 124.4377 - val_loss: 1180.8076\n",
      "Epoch 493/500\n",
      "28/28 [==============================] - 0s 4ms/step - loss: 124.4376 - val_loss: 1180.8079\n",
      "Epoch 494/500\n",
      "28/28 [==============================] - 0s 4ms/step - loss: 124.4377 - val_loss: 1180.8082\n",
      "Epoch 495/500\n",
      "28/28 [==============================] - 0s 4ms/step - loss: 124.4377 - val_loss: 1180.8085\n",
      "Epoch 496/500\n",
      "28/28 [==============================] - 0s 4ms/step - loss: 124.4377 - val_loss: 1180.8087\n",
      "Epoch 497/500\n",
      "28/28 [==============================] - 0s 4ms/step - loss: 124.4377 - val_loss: 1180.8090\n",
      "Epoch 498/500\n",
      "28/28 [==============================] - 0s 4ms/step - loss: 124.4377 - val_loss: 1180.8093\n",
      "Epoch 499/500\n",
      "28/28 [==============================] - 0s 4ms/step - loss: 124.4377 - val_loss: 1180.8096\n",
      "Epoch 500/500\n",
      "28/28 [==============================] - 0s 4ms/step - loss: 124.4377 - val_loss: 1180.8096\n"
     ]
    }
   ],
   "source": [
    "C0 = tf.Variable(82.7524, name=\"C0\", trainable=True, dtype=tf.float32)\n",
    "K0 = tf.Variable(-0.0031, name=\"K0\", trainable=True, dtype=tf.float32)\n",
    "K1 = tf.Variable(-0.0003, name=\"K1\", trainable=True, dtype=tf.float32)\n",
    "a = tf.Variable(0.0000, name=\"a\", trainable=True, dtype=tf.float32)\n",
    "b = tf.Variable(0.0171, name=\"b\", trainable=True, dtype=tf.float32)\n",
    "c = tf.Variable(3.0230, name=\"c\", trainable=True, dtype=tf.float32)\n",
    "\n",
    "splitr = 0.8\n",
    "\n",
    "\n",
    "def loss_fn(y_true, y_pred):\n",
    "    squared_difference = tf.square(y_true[:, 0] - y_pred[:, 0])\n",
    "    #squared_difference2 = tf.square(y_true[:, 2]-y_pred[:, 2])\n",
    "    #squared_difference1 = tf.square(y_true[:, 1]-y_pred[:, 1])\n",
    "    epsilon = 1\n",
    "    squared_difference3 = tf.square(\n",
    "        y_pred[:, 1] - (\n",
    "            y_pred[:, 0] * (\n",
    "                K0 - K1 * (\n",
    "                    9 * a * tf.math.log((y_pred[:, 0] + epsilon) / C0) / (K0 - K1 * c)**2 +\n",
    "                    4 * b * tf.math.log((y_pred[:, 0] + epsilon) / C0) / (K0 - K1 * c) + c\n",
    "                )\n",
    "            )\n",
    "        )\n",
    "    )\n",
    "    return tf.reduce_mean(squared_difference, axis=-1) + 0.2*tf.reduce_mean(squared_difference3, axis=-1)\n",
    "model = Sequential()\n",
    "model.add(LSTM(100, input_shape=(trainX.shape[1], trainX.shape[2])))\n",
    "model.add(Dense(60))\n",
    "model.compile(loss=loss_fn, optimizer='adam')\n",
    "history = model.fit(trainX[:int(splitr*trainX.shape[0])], trainy[:int(splitr*trainX.shape[0])], epochs=500, batch_size=64, validation_data=(trainX[int(splitr*trainX.shape[0]):trainX.shape[0]], trainy[int(splitr*trainX.shape[0]):trainX.shape[0]]), shuffle=False)"
   ]
  },
  {
   "cell_type": "code",
   "execution_count": 19,
   "metadata": {
    "colab": {
     "base_uri": "https://localhost:8080/"
    },
    "id": "yJL101rPyuoT",
    "outputId": "239ff2b1-c186-423a-d316-939dfdd7c793"
   },
   "outputs": [
    {
     "name": "stdout",
     "output_type": "stream",
     "text": [
      "1/1 [==============================] - 1s 537ms/step\n"
     ]
    }
   ],
   "source": [
    "forecast_without_mc = forecastX\n",
    "yhat_without_mc = model.predict(forecast_without_mc) # Step Ahead Prediction\n",
    "forecast_without_mc = forecast_without_mc.reshape((forecast_without_mc.shape[0], forecast_without_mc.shape[2])) # Historical Input"
   ]
  },
  {
   "cell_type": "code",
   "execution_count": 20,
   "metadata": {
    "colab": {
     "base_uri": "https://localhost:8080/"
    },
    "id": "g9dQELcJ8wbp",
    "outputId": "4dc7671b-b1a8-48d5-8744-a86f98446109"
   },
   "outputs": [
    {
     "data": {
      "text/plain": [
       "(1, 1, 126)"
      ]
     },
     "execution_count": 20,
     "metadata": {},
     "output_type": "execute_result"
    }
   ],
   "source": [
    "forecastX.shape"
   ]
  },
  {
   "cell_type": "code",
   "execution_count": 21,
   "metadata": {
    "colab": {
     "base_uri": "https://localhost:8080/"
    },
    "id": "IS2kyIKG1Kbr",
    "outputId": "f31b3485-8e26-452f-9298-ea8bf7e80ad1"
   },
   "outputs": [
    {
     "data": {
      "text/plain": [
       "(1, 126)"
      ]
     },
     "execution_count": 21,
     "metadata": {},
     "output_type": "execute_result"
    }
   ],
   "source": [
    "forecast_without_mc.shape"
   ]
  },
  {
   "cell_type": "code",
   "execution_count": 22,
   "metadata": {
    "id": "0u6VIzaDyuoT"
   },
   "outputs": [],
   "source": [
    "inv_yhat_without_mc = np.concatenate((forecast_without_mc, yhat_without_mc), axis=1) # Concatenation of predicted values with Historical Data\n",
    "#inv_yhat_without_mc = scaler.inverse_transform(inv_yhat_without_mc) # Transform labels back to original encoding"
   ]
  },
  {
   "cell_type": "code",
   "execution_count": 23,
   "metadata": {
    "colab": {
     "base_uri": "https://localhost:8080/"
    },
    "id": "EUEcw0LX07oU",
    "outputId": "cfc32397-9c37-4b43-d087-584bb31c3dcc"
   },
   "outputs": [
    {
     "data": {
      "text/plain": [
       "(1, 186)"
      ]
     },
     "execution_count": 23,
     "metadata": {},
     "output_type": "execute_result"
    }
   ],
   "source": [
    "inv_yhat_without_mc.shape"
   ]
  },
  {
   "cell_type": "code",
   "execution_count": 24,
   "metadata": {
    "id": "31OWVbSh_305"
   },
   "outputs": [],
   "source": [
    "fforecast = inv_yhat_without_mc[:,-150:]"
   ]
  },
  {
   "cell_type": "code",
   "execution_count": 25,
   "metadata": {},
   "outputs": [
    {
     "data": {
      "text/plain": [
       "(1, 150)"
      ]
     },
     "execution_count": 25,
     "metadata": {},
     "output_type": "execute_result"
    }
   ],
   "source": [
    "fforecast.shape"
   ]
  },
  {
   "cell_type": "code",
   "execution_count": 26,
   "metadata": {
    "id": "BlpGH2FOAiRF"
   },
   "outputs": [],
   "source": [
    "final_forecast = fforecast[:,0:150:3]"
   ]
  },
  {
   "cell_type": "code",
   "execution_count": 27,
   "metadata": {},
   "outputs": [
    {
     "data": {
      "text/plain": [
       "(1, 150)"
      ]
     },
     "execution_count": 27,
     "metadata": {},
     "output_type": "execute_result"
    }
   ],
   "source": [
    "fforecast.shape"
   ]
  },
  {
   "cell_type": "code",
   "execution_count": 28,
   "metadata": {
    "id": "CXkgkj_LBk_t"
   },
   "outputs": [],
   "source": [
    "# code to replace all negative value with 0\n",
    "final_forecast[final_forecast<0] = 0"
   ]
  },
  {
   "cell_type": "code",
   "execution_count": 29,
   "metadata": {},
   "outputs": [
    {
     "data": {
      "text/plain": [
       "array([[7.62066305e-01, 5.63238329e+01, 5.60465219e+01, 5.57692110e+01,\n",
       "        5.55309292e+01, 5.53547386e+01, 5.51782680e+01, 5.50017974e+01,\n",
       "        5.48255944e+01, 5.46484734e+01, 6.81859016e-01, 0.00000000e+00,\n",
       "        5.54266340e+01, 5.52501634e+01, 5.50736928e+01, 5.48976191e+01,\n",
       "        5.47473793e+01, 5.45991512e+01, 5.44509230e+01, 5.43026950e+01,\n",
       "        5.41544670e+01, 6.28420219e+01, 7.58284330e-01, 5.60725451e-01,\n",
       "        0.00000000e+00, 0.00000000e+00, 0.00000000e+00, 0.00000000e+00,\n",
       "        6.34957731e-01, 6.96135310e-02, 5.60836105e+01, 6.52955830e-01,\n",
       "        1.69334054e+00, 3.11562389e-01, 0.00000000e+00, 1.33435488e+00,\n",
       "        0.00000000e+00, 2.38110721e-01, 8.63099750e-03, 0.00000000e+00,\n",
       "        0.00000000e+00, 4.42186534e-01, 1.28674245e+00, 0.00000000e+00,\n",
       "        0.00000000e+00, 7.10830212e-01, 3.02875459e-01, 7.57022619e-01,\n",
       "        5.06502688e-01, 4.14075494e-01]])"
      ]
     },
     "execution_count": 29,
     "metadata": {},
     "output_type": "execute_result"
    }
   ],
   "source": [
    "final_forecast"
   ]
  },
  {
   "cell_type": "code",
   "execution_count": 30,
   "metadata": {},
   "outputs": [
    {
     "data": {
      "text/plain": [
       "(1, 50)"
      ]
     },
     "execution_count": 30,
     "metadata": {},
     "output_type": "execute_result"
    }
   ],
   "source": [
    "final_forecast.shape"
   ]
  },
  {
   "cell_type": "code",
   "execution_count": 31,
   "metadata": {},
   "outputs": [
    {
     "data": {
      "text/plain": [
       "(50,)"
      ]
     },
     "execution_count": 31,
     "metadata": {},
     "output_type": "execute_result"
    }
   ],
   "source": [
    "test.shape"
   ]
  },
  {
   "cell_type": "code",
   "execution_count": 32,
   "metadata": {},
   "outputs": [],
   "source": [
    "training_set = np.array(training_set)\n",
    "test = np.array(test)\n",
    "final_forecast = np.array(final_forecast.squeeze(0))"
   ]
  },
  {
   "cell_type": "code",
   "execution_count": 33,
   "metadata": {},
   "outputs": [
    {
     "data": {
      "text/plain": [
       "array([45.682066  , 45.67222792, 45.66238983, 45.65255175, 45.64271367,\n",
       "       45.63287559, 45.62303751, 45.61319943, 45.60336134, 45.59352326,\n",
       "       45.58368518, 45.5738471 , 45.56400902, 45.55417094, 45.54433286,\n",
       "       45.53449477, 45.52465669, 45.51481861, 45.50498053, 45.49514245,\n",
       "       45.48530437, 45.47546628, 45.4656282 , 45.45579012, 45.44595204,\n",
       "       45.43611396, 45.42627588, 45.41643779, 45.40659971, 45.39676163,\n",
       "       45.38692355, 45.37708547, 45.36724739, 45.35740931, 45.34757122,\n",
       "       45.33773314, 45.32789506, 45.31805698, 45.3082189 , 45.29838082,\n",
       "       45.28854273, 45.27870465, 45.26886657, 45.25902849, 45.24919041,\n",
       "       45.23935233, 45.22951424, 45.21967616, 45.20983808, 45.2       ])"
      ]
     },
     "execution_count": 33,
     "metadata": {},
     "output_type": "execute_result"
    }
   ],
   "source": [
    "test"
   ]
  },
  {
   "cell_type": "code",
   "execution_count": 34,
   "metadata": {},
   "outputs": [
    {
     "data": {
      "text/plain": [
       "(50,)"
      ]
     },
     "execution_count": 34,
     "metadata": {},
     "output_type": "execute_result"
    }
   ],
   "source": [
    "test.shape"
   ]
  },
  {
   "cell_type": "code",
   "execution_count": 35,
   "metadata": {},
   "outputs": [
    {
     "data": {
      "text/plain": [
       "(50,)"
      ]
     },
     "execution_count": 35,
     "metadata": {},
     "output_type": "execute_result"
    }
   ],
   "source": [
    "final_forecast.shape"
   ]
  },
  {
   "cell_type": "code",
   "execution_count": 36,
   "metadata": {},
   "outputs": [
    {
     "data": {
      "text/plain": [
       "(50,)"
      ]
     },
     "execution_count": 36,
     "metadata": {},
     "output_type": "execute_result"
    }
   ],
   "source": [
    "test.shape"
   ]
  },
  {
   "cell_type": "code",
   "execution_count": 37,
   "metadata": {},
   "outputs": [
    {
     "name": "stdout",
     "output_type": "stream",
     "text": [
      "35.407083089786546\n",
      "30.95744632100765\n"
     ]
    }
   ],
   "source": [
    "import math\n",
    "MSE = np.square(np.subtract(np.array(test),np.array(final_forecast))).mean()   \n",
    "rsme = math.sqrt(MSE)\n",
    "print(rsme)  \n",
    "MAE = np.abs(np.subtract(np.array(test),np.array(final_forecast))).mean()   \n",
    "mae = MAE\n",
    "print(mae)"
   ]
  }
 ],
 "metadata": {
  "colab": {
   "provenance": []
  },
  "kernelspec": {
   "display_name": "Python 3",
   "language": "python",
   "name": "python3"
  },
  "language_info": {
   "codemirror_mode": {
    "name": "ipython",
    "version": 3
   },
   "file_extension": ".py",
   "mimetype": "text/x-python",
   "name": "python",
   "nbconvert_exporter": "python",
   "pygments_lexer": "ipython3",
   "version": "3.9.13"
  }
 },
 "nbformat": 4,
 "nbformat_minor": 0
}
