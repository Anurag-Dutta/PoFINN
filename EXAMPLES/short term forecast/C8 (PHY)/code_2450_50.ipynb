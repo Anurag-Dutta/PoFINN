{
 "cells": [
  {
   "cell_type": "markdown",
   "metadata": {
    "id": "pCGKeZ2gyuoQ"
   },
   "source": [
    "_Importing Required Libraries_"
   ]
  },
  {
   "cell_type": "code",
   "execution_count": 1,
   "metadata": {
    "colab": {
     "base_uri": "https://localhost:8080/"
    },
    "id": "A-6LN-zXiLcM",
    "outputId": "4de610a4-f8b8-4f49-c6c0-89de299ccedc"
   },
   "outputs": [
    {
     "name": "stdout",
     "output_type": "stream",
     "text": [
      "Requirement already satisfied: hampel in c:\\users\\anurag dutta\\appdata\\local\\packages\\pythonsoftwarefoundation.python.3.9_qbz5n2kfra8p0\\localcache\\local-packages\\python39\\site-packages (0.0.5)\n",
      "Requirement already satisfied: numpy in c:\\users\\anurag dutta\\appdata\\local\\packages\\pythonsoftwarefoundation.python.3.9_qbz5n2kfra8p0\\localcache\\local-packages\\python39\\site-packages (from hampel) (1.26.4)\n",
      "Requirement already satisfied: pandas in c:\\users\\anurag dutta\\appdata\\local\\packages\\pythonsoftwarefoundation.python.3.9_qbz5n2kfra8p0\\localcache\\local-packages\\python39\\site-packages (from hampel) (1.5.2)\n",
      "Requirement already satisfied: python-dateutil>=2.8.1 in c:\\users\\anurag dutta\\appdata\\local\\packages\\pythonsoftwarefoundation.python.3.9_qbz5n2kfra8p0\\localcache\\local-packages\\python39\\site-packages (from pandas->hampel) (2.8.2)\n",
      "Requirement already satisfied: pytz>=2020.1 in c:\\users\\anurag dutta\\appdata\\local\\packages\\pythonsoftwarefoundation.python.3.9_qbz5n2kfra8p0\\localcache\\local-packages\\python39\\site-packages (from pandas->hampel) (2023.3.post1)\n",
      "Requirement already satisfied: six>=1.5 in c:\\users\\anurag dutta\\appdata\\local\\packages\\pythonsoftwarefoundation.python.3.9_qbz5n2kfra8p0\\localcache\\local-packages\\python39\\site-packages (from python-dateutil>=2.8.1->pandas->hampel) (1.16.0)\n",
      "Note: you may need to restart the kernel to use updated packages.\n"
     ]
    },
    {
     "name": "stderr",
     "output_type": "stream",
     "text": [
      "\n",
      "[notice] A new release of pip is available: 24.2 -> 24.3.1\n",
      "[notice] To update, run: C:\\Users\\Anurag Dutta\\AppData\\Local\\Microsoft\\WindowsApps\\PythonSoftwareFoundation.Python.3.9_qbz5n2kfra8p0\\python.exe -m pip install --upgrade pip\n"
     ]
    }
   ],
   "source": [
    "pip install hampel"
   ]
  },
  {
   "cell_type": "code",
   "execution_count": 2,
   "metadata": {
    "id": "By_d9uXpaFvZ"
   },
   "outputs": [],
   "source": [
    "from keras.models import Sequential\n",
    "from keras.layers import Dense\n",
    "from keras.layers import LSTM\n",
    "from keras.layers import Dropout\n",
    "import keras\n",
    "import tensorflow as tf\n",
    "from hampel import hampel\n",
    "import numpy as np\n",
    "import matplotlib.pyplot as plt\n",
    "import pandas as pd\n",
    "from sklearn.preprocessing import MinMaxScaler\n",
    "from sklearn.metrics import mean_squared_error, mean_absolute_error\n",
    "from math import sqrt\n",
    "from matplotlib import pyplot\n",
    "from numpy import array"
   ]
  },
  {
   "cell_type": "markdown",
   "metadata": {
    "id": "JyOjBMFayuoR"
   },
   "source": [
    "## Pretraining"
   ]
  },
  {
   "cell_type": "markdown",
   "metadata": {
    "id": "-5QqIY_GyuoR"
   },
   "source": [
    "The `capa_intermittency.dat` feeds the model with the dynamics of the Capacitor"
   ]
  },
  {
   "cell_type": "code",
   "execution_count": 3,
   "metadata": {
    "id": "9dV4a8yfyuoR"
   },
   "outputs": [],
   "source": [
    "data = np.genfromtxt('capa_intermittency.dat')\n",
    "training_set = pd.DataFrame(data).reset_index(drop=True)\n",
    "training_set = training_set.iloc[:,0]"
   ]
  },
  {
   "cell_type": "markdown",
   "metadata": {
    "id": "i7easoxByuoR"
   },
   "source": [
    "## Computing the Gradient"
   ]
  },
  {
   "cell_type": "markdown",
   "metadata": {
    "id": "5SnyolJTyuoR"
   },
   "source": [
    "_Calculating the value of_ $\\frac{dx}{dt}$"
   ]
  },
  {
   "cell_type": "code",
   "execution_count": 4,
   "metadata": {
    "colab": {
     "base_uri": "https://localhost:8080/"
    },
    "id": "wmIbVfIvyuoR",
    "outputId": "aa4e3136-c854-465d-d2e9-81cfd546e440"
   },
   "outputs": [
    {
     "name": "stdout",
     "output_type": "stream",
     "text": [
      "1.0\n",
      "1        0.000298\n",
      "2        0.000298\n",
      "3        0.000297\n",
      "4        0.000297\n",
      "5        0.000297\n",
      "           ...   \n",
      "9996     0.000018\n",
      "9997     0.000018\n",
      "9998     0.000018\n",
      "9999     0.000018\n",
      "10000    0.000018\n",
      "Name: 0, Length: 10000, dtype: float64\n"
     ]
    }
   ],
   "source": [
    "t_diff = 1\n",
    "print(training_set.max())\n",
    "gradient_t = (training_set.diff()/t_diff).iloc[1:] # dx/dt\n",
    "print(gradient_t)"
   ]
  },
  {
   "cell_type": "markdown",
   "metadata": {
    "id": "_2eVeeoxyuoS"
   },
   "source": [
    "## Loading Datasets"
   ]
  },
  {
   "cell_type": "code",
   "execution_count": 5,
   "metadata": {
    "id": "0J-NKyIEyuoS"
   },
   "outputs": [
    {
     "data": {
      "text/plain": [
       "0       88.200000\n",
       "1       87.987115\n",
       "2       87.774230\n",
       "3       87.561345\n",
       "4       87.348459\n",
       "          ...    \n",
       "2495    55.336073\n",
       "2496    55.327055\n",
       "2497    55.318036\n",
       "2498    55.309018\n",
       "2499    55.300000\n",
       "Name: C8, Length: 2500, dtype: float64"
      ]
     },
     "execution_count": 5,
     "metadata": {},
     "output_type": "execute_result"
    }
   ],
   "source": [
    "data = pd.read_csv(\"c8_interpolated_2450_50.csv\")\n",
    "training_set = data.iloc[:, 1]\n",
    "training_set"
   ]
  },
  {
   "cell_type": "code",
   "execution_count": 6,
   "metadata": {
    "colab": {
     "base_uri": "https://localhost:8080/"
    },
    "id": "-CbNUhJ74UqF",
    "outputId": "20f562d8-8247-49cc-b9c3-00eca5e13e2d"
   },
   "outputs": [
    {
     "data": {
      "text/plain": [
       "0       88.200000\n",
       "1       87.987115\n",
       "2       87.774230\n",
       "3       87.561345\n",
       "4       87.348459\n",
       "          ...    \n",
       "2445     0.696508\n",
       "2446     0.160441\n",
       "2447     0.000000\n",
       "2448     0.000000\n",
       "2449     0.181323\n",
       "Name: C8, Length: 2450, dtype: float64"
      ]
     },
     "execution_count": 6,
     "metadata": {},
     "output_type": "execute_result"
    }
   ],
   "source": [
    "test = training_set.tail(50)\n",
    "test\n",
    "training_set = training_set.head(2450)\n",
    "training_set"
   ]
  },
  {
   "cell_type": "code",
   "execution_count": 7,
   "metadata": {
    "colab": {
     "base_uri": "https://localhost:8080/"
    },
    "id": "X0TwTcq0yuoS",
    "outputId": "37252ed8-d88e-4044-fa7a-922411990b5b"
   },
   "outputs": [
    {
     "name": "stdout",
     "output_type": "stream",
     "text": [
      "0       0.000298\n",
      "1       0.000298\n",
      "2       0.000297\n",
      "3       0.000297\n",
      "4       0.000297\n",
      "          ...   \n",
      "9995    0.000018\n",
      "9996    0.000018\n",
      "9997    0.000018\n",
      "9998    0.000018\n",
      "9999    0.000018\n",
      "Name: 0, Length: 10000, dtype: float64\n"
     ]
    }
   ],
   "source": [
    "training_set = training_set.reset_index(drop=True)\n",
    "gradient_t = gradient_t.reset_index(drop=True)\n",
    "print(gradient_t)"
   ]
  },
  {
   "cell_type": "code",
   "execution_count": 8,
   "metadata": {
    "id": "O2biznZQyuoS"
   },
   "outputs": [],
   "source": [
    "df = pd.concat((training_set, gradient_t), axis=1)\n",
    "df.columns = ['y_t', 'grad_t']"
   ]
  },
  {
   "cell_type": "code",
   "execution_count": 9,
   "metadata": {
    "colab": {
     "base_uri": "https://localhost:8080/",
     "height": 423
    },
    "id": "sk_a5v3tyuoS",
    "outputId": "17563625-e550-45ae-faab-fafa353e44da"
   },
   "outputs": [
    {
     "data": {
      "text/html": [
       "<div>\n",
       "<style scoped>\n",
       "    .dataframe tbody tr th:only-of-type {\n",
       "        vertical-align: middle;\n",
       "    }\n",
       "\n",
       "    .dataframe tbody tr th {\n",
       "        vertical-align: top;\n",
       "    }\n",
       "\n",
       "    .dataframe thead th {\n",
       "        text-align: right;\n",
       "    }\n",
       "</style>\n",
       "<table border=\"1\" class=\"dataframe\">\n",
       "  <thead>\n",
       "    <tr style=\"text-align: right;\">\n",
       "      <th></th>\n",
       "      <th>y_t</th>\n",
       "      <th>grad_t</th>\n",
       "    </tr>\n",
       "  </thead>\n",
       "  <tbody>\n",
       "    <tr>\n",
       "      <th>0</th>\n",
       "      <td>88.200000</td>\n",
       "      <td>0.000298</td>\n",
       "    </tr>\n",
       "    <tr>\n",
       "      <th>1</th>\n",
       "      <td>87.987115</td>\n",
       "      <td>0.000298</td>\n",
       "    </tr>\n",
       "    <tr>\n",
       "      <th>2</th>\n",
       "      <td>87.774230</td>\n",
       "      <td>0.000297</td>\n",
       "    </tr>\n",
       "    <tr>\n",
       "      <th>3</th>\n",
       "      <td>87.561345</td>\n",
       "      <td>0.000297</td>\n",
       "    </tr>\n",
       "    <tr>\n",
       "      <th>4</th>\n",
       "      <td>87.348459</td>\n",
       "      <td>0.000297</td>\n",
       "    </tr>\n",
       "    <tr>\n",
       "      <th>...</th>\n",
       "      <td>...</td>\n",
       "      <td>...</td>\n",
       "    </tr>\n",
       "    <tr>\n",
       "      <th>9995</th>\n",
       "      <td>NaN</td>\n",
       "      <td>0.000018</td>\n",
       "    </tr>\n",
       "    <tr>\n",
       "      <th>9996</th>\n",
       "      <td>NaN</td>\n",
       "      <td>0.000018</td>\n",
       "    </tr>\n",
       "    <tr>\n",
       "      <th>9997</th>\n",
       "      <td>NaN</td>\n",
       "      <td>0.000018</td>\n",
       "    </tr>\n",
       "    <tr>\n",
       "      <th>9998</th>\n",
       "      <td>NaN</td>\n",
       "      <td>0.000018</td>\n",
       "    </tr>\n",
       "    <tr>\n",
       "      <th>9999</th>\n",
       "      <td>NaN</td>\n",
       "      <td>0.000018</td>\n",
       "    </tr>\n",
       "  </tbody>\n",
       "</table>\n",
       "<p>10000 rows × 2 columns</p>\n",
       "</div>"
      ],
      "text/plain": [
       "            y_t    grad_t\n",
       "0     88.200000  0.000298\n",
       "1     87.987115  0.000298\n",
       "2     87.774230  0.000297\n",
       "3     87.561345  0.000297\n",
       "4     87.348459  0.000297\n",
       "...         ...       ...\n",
       "9995        NaN  0.000018\n",
       "9996        NaN  0.000018\n",
       "9997        NaN  0.000018\n",
       "9998        NaN  0.000018\n",
       "9999        NaN  0.000018\n",
       "\n",
       "[10000 rows x 2 columns]"
      ]
     },
     "execution_count": 9,
     "metadata": {},
     "output_type": "execute_result"
    }
   ],
   "source": [
    "df"
   ]
  },
  {
   "cell_type": "markdown",
   "metadata": {
    "id": "-5esyHu5aFvg"
   },
   "source": [
    "## Plot of the External Forcing from Chaotic Differential Equation"
   ]
  },
  {
   "cell_type": "code",
   "execution_count": 10,
   "metadata": {
    "colab": {
     "base_uri": "https://localhost:8080/",
     "height": 447
    },
    "id": "hGnE43tOh-4p",
    "outputId": "fc396503-b624-4fa5-dfbe-f460207405c6"
   },
   "outputs": [
    {
     "data": {
      "text/plain": [
       "<Axes: >"
      ]
     },
     "execution_count": 10,
     "metadata": {},
     "output_type": "execute_result"
    },
    {
     "data": {
      "image/png": "[encoded data removed]",
      "text/plain": [
       "<Figure size 432x288 with 1 Axes>"
      ]
     },
     "metadata": {
      "needs_background": "light"
     },
     "output_type": "display_data"
    }
   ],
   "source": [
    "df.iloc[:, 0].plot()"
   ]
  },
  {
   "cell_type": "code",
   "execution_count": 11,
   "metadata": {
    "colab": {
     "base_uri": "https://localhost:8080/",
     "height": 447
    },
    "id": "ym4xWUUxaFvg",
    "outputId": "ae6a3495-8ce9-437e-ba81-3ed31deedeae"
   },
   "outputs": [
    {
     "name": "stderr",
     "output_type": "stream",
     "text": [
      "C:\\Users\\Anurag Dutta\\AppData\\Local\\Packages\\PythonSoftwareFoundation.Python.3.9_qbz5n2kfra8p0\\LocalCache\\local-packages\\Python39\\site-packages\\pandas\\core\\arraylike.py:402: RuntimeWarning: divide by zero encountered in log\n",
      "  result = getattr(ufunc, method)(*inputs, **kwargs)\n"
     ]
    },
    {
     "data": {
      "text/plain": [
       "<Axes: >"
      ]
     },
     "execution_count": 11,
     "metadata": {},
     "output_type": "execute_result"
    },
    {
     "data": {
      "image/png": "[encoded data removed]",
      "text/plain": [
       "<Figure size 432x288 with 1 Axes>"
      ]
     },
     "metadata": {
      "needs_background": "light"
     },
     "output_type": "display_data"
    }
   ],
   "source": [
    "import numpy as np\n",
    "c0 = 85.7336  # Value for C0\n",
    "K0 = -0.0020  # Value for K0\n",
    "K1 = 0.0002  # Value for K1\n",
    "a = 0.0000    # Value for a\n",
    "b = 0.0125    # Value for b\n",
    "c = 2.3008    # Value for c\n",
    "\n",
    "L = np.minimum(c0, (df.iloc[:, 1] - (df.iloc[:, 0] * (K0 - K1 * (9 * a * np.log(df.iloc[:, 0] / c0) / (K0 - K1 * c)**2 + 4 * b * np.log(df.iloc[:, 0] / c0) / (K0 - K1 * c) + c)))))\n",
    "L.plot()"
   ]
  },
  {
   "cell_type": "markdown",
   "metadata": {
    "id": "9VyEywnwaFvh"
   },
   "source": [
    "## Preprocessing the data into supervised learning"
   ]
  },
  {
   "cell_type": "code",
   "execution_count": 12,
   "metadata": {
    "id": "6V9dXqzdaFvh"
   },
   "outputs": [],
   "source": [
    "# split a sequence into samples\n",
    "def Supervised(data, n_in=1, n_out=1, dropnan=True):\n",
    "    n_vars = 1 if type(data) is list else data.shape[1]\n",
    "    df = pd.DataFrame(data)\n",
    "    cols, names = list(), list()\n",
    "    # input sequence (t-n_in, ... t-1)\n",
    "    for i in range(n_in, 0, -1):\n",
    "        cols.append(df.shift(i))\n",
    "        names += [('var%d(t-%d)' % (j+1, i)) for j in range(n_vars)]\n",
    "    # forecast sequence (t, t+1, ... t+n_out)\n",
    "    for i in range(0, n_out):\n",
    "      cols.append(df.shift(-i))\n",
    "      if i == 0:\n",
    "        names += [('var%d(t)' % (j+1)) for j in range(n_vars)]\n",
    "      else:\n",
    "        names += [('var%d(t+%d)' % (j+1, i)) for j in range(n_vars)]\n",
    "    # put it all together\n",
    "    agg = pd.concat(cols, axis=1)\n",
    "    agg.columns = names\n",
    "    # drop rows with NaN values\n",
    "    if dropnan:\n",
    "       agg.dropna(inplace=True)\n",
    "    return agg"
   ]
  },
  {
   "cell_type": "code",
   "execution_count": 13,
   "metadata": {
    "colab": {
     "base_uri": "https://localhost:8080/"
    },
    "id": "CrzSrT1HnyfH",
    "outputId": "7e75f928-3e47-499d-eac1-51908015ef78"
   },
   "outputs": [
    {
     "name": "stdout",
     "output_type": "stream",
     "text": [
      "     var1(t-175)  var1(t-174)  var1(t-173)  var1(t-172)  var1(t-171)  \\\n",
      "175    88.200000    87.987115    87.774230    87.561345    87.348459   \n",
      "176    87.987115    87.774230    87.561345    87.348459    87.135574   \n",
      "177    87.774230    87.561345    87.348459    87.135574    86.922689   \n",
      "178    87.561345    87.348459    87.135574    86.922689    86.709804   \n",
      "179    87.348459    87.135574    86.922689    86.709804    86.496919   \n",
      "\n",
      "     var1(t-170)  var1(t-169)  var1(t-168)  var1(t-167)  var1(t-166)  ...  \\\n",
      "175    87.135574    86.922689    86.709804    86.496919    86.294538  ...   \n",
      "176    86.922689    86.709804    86.496919    86.294538    86.221709  ...   \n",
      "177    86.709804    86.496919    86.294538    86.221709    86.148880  ...   \n",
      "178    86.496919    86.294538    86.221709    86.148880    86.076050  ...   \n",
      "179    86.294538    86.221709    86.148880    86.076050    86.003221  ...   \n",
      "\n",
      "     var1(t+45)  var2(t+45)  var1(t+46)  var2(t+46)  var1(t+47)  var2(t+47)  \\\n",
      "175   79.697526    0.000280   79.676984    0.000280   79.656443    0.000280   \n",
      "176   79.676984    0.000280   79.656443    0.000280   79.635901    0.000280   \n",
      "177   79.656443    0.000280   79.635901    0.000280   79.615359    0.000279   \n",
      "178   79.635901    0.000280   79.615359    0.000279   79.594818    0.000279   \n",
      "179   79.615359    0.000279   79.594818    0.000279   79.574276    0.000279   \n",
      "\n",
      "     var1(t+48)  var2(t+48)  var1(t+49)  var2(t+49)  \n",
      "175   79.635901    0.000280   79.615359    0.000279  \n",
      "176   79.615359    0.000279   79.594818    0.000279  \n",
      "177   79.594818    0.000279   79.574276    0.000279  \n",
      "178   79.574276    0.000279   79.553735    0.000279  \n",
      "179   79.553735    0.000279   79.533193    0.000279  \n",
      "\n",
      "[5 rows x 276 columns]\n",
      "Index(['var1(t-175)', 'var1(t-174)', 'var1(t-173)', 'var1(t-172)',\n",
      "       'var1(t-171)', 'var1(t-170)', 'var1(t-169)', 'var1(t-168)',\n",
      "       'var1(t-167)', 'var1(t-166)',\n",
      "       ...\n",
      "       'var1(t+45)', 'var2(t+45)', 'var1(t+46)', 'var2(t+46)', 'var1(t+47)',\n",
      "       'var2(t+47)', 'var1(t+48)', 'var2(t+48)', 'var1(t+49)', 'var2(t+49)'],\n",
      "      dtype='object', length=276)\n"
     ]
    }
   ],
   "source": [
    "data = Supervised(df.values, n_in = 175, n_out = 50)\n",
    "\n",
    "\n",
    "cols_to_drop = []\n",
    "for i in range(2, 176):\n",
    "    cols_to_drop.extend([f'var2(t-{i})'])\n",
    "\n",
    "data.drop(cols_to_drop, axis=1, inplace=True)\n",
    "\n",
    "print(data.head())\n",
    "print(data.columns)"
   ]
  },
  {
   "cell_type": "code",
   "execution_count": 14,
   "metadata": {
    "id": "AfPf60oy6Pe4"
   },
   "outputs": [],
   "source": [
    "train = np.array(data[0:len(data)-1])\n",
    "forecast = np.array(data.tail(1))"
   ]
  },
  {
   "cell_type": "code",
   "execution_count": 15,
   "metadata": {
    "id": "WSAafzI37KiT"
   },
   "outputs": [],
   "source": [
    "trainy = train[:,-150:]\n",
    "trainX = train[:,:-150]"
   ]
  },
  {
   "cell_type": "code",
   "execution_count": 16,
   "metadata": {
    "id": "2SrOqVJA7f50"
   },
   "outputs": [],
   "source": [
    "forecasty = forecast[:,-150:]\n",
    "forecastX = forecast[:,:-150]"
   ]
  },
  {
   "cell_type": "code",
   "execution_count": 17,
   "metadata": {
    "colab": {
     "base_uri": "https://localhost:8080/"
    },
    "id": "Qno_k8Nw7saY",
    "outputId": "c4a88db5-d8c6-489f-cdb2-06b24e293cff"
   },
   "outputs": [
    {
     "name": "stdout",
     "output_type": "stream",
     "text": [
      "(2225, 1, 126) (2225, 150) (1, 1, 126)\n"
     ]
    }
   ],
   "source": [
    "trainX = trainX.reshape((trainX.shape[0], 1, trainX.shape[1]))\n",
    "forecastX = forecastX.reshape((forecastX.shape[0], 1, forecastX.shape[1]))\n",
    "print(trainX.shape, trainy.shape, forecastX.shape)"
   ]
  },
  {
   "cell_type": "code",
   "execution_count": 18,
   "metadata": {
    "colab": {
     "base_uri": "https://localhost:8080/"
    },
    "id": "b1Jp2DvNuNFx",
    "outputId": "d0e5b3c4-64f1-438c-eade-8dfeaac8e285"
   },
   "outputs": [
    {
     "name": "stdout",
     "output_type": "stream",
     "text": [
      "Epoch 1/500\n",
      "28/28 [==============================] - 2s 19ms/step - loss: 4537.9941 - val_loss: 2533.3320\n",
      "Epoch 2/500\n",
      "28/28 [==============================] - 0s 4ms/step - loss: 4291.7515 - val_loss: 2366.9834\n",
      "Epoch 3/500\n",
      "28/28 [==============================] - 0s 4ms/step - loss: 4079.7668 - val_loss: 2246.4900\n",
      "Epoch 4/500\n",
      "28/28 [==============================] - 0s 4ms/step - loss: 3913.2063 - val_loss: 2156.7341\n",
      "Epoch 5/500\n",
      "28/28 [==============================] - 0s 4ms/step - loss: 3759.3059 - val_loss: 2068.9062\n",
      "Epoch 6/500\n",
      "28/28 [==============================] - 0s 4ms/step - loss: 3612.4119 - val_loss: 1987.3093\n",
      "Epoch 7/500\n",
      "28/28 [==============================] - 0s 4ms/step - loss: 3472.0032 - val_loss: 1909.9764\n",
      "Epoch 8/500\n",
      "28/28 [==============================] - 0s 4ms/step - loss: 3340.1423 - val_loss: 1839.0741\n",
      "Epoch 9/500\n",
      "28/28 [==============================] - 0s 4ms/step - loss: 3214.5693 - val_loss: 1772.7799\n",
      "Epoch 10/500\n",
      "28/28 [==============================] - 0s 4ms/step - loss: 3094.3491 - val_loss: 1710.3274\n",
      "Epoch 11/500\n",
      "28/28 [==============================] - 0s 6ms/step - loss: 2978.7712 - val_loss: 1652.1857\n",
      "Epoch 12/500\n",
      "28/28 [==============================] - 0s 3ms/step - loss: 2867.2991 - val_loss: 1594.5983\n",
      "Epoch 13/500\n",
      "28/28 [==============================] - 0s 4ms/step - loss: 2759.7407 - val_loss: 1541.0403\n",
      "Epoch 14/500\n",
      "28/28 [==============================] - 0s 4ms/step - loss: 2643.4812 - val_loss: 1481.3380\n",
      "Epoch 15/500\n",
      "28/28 [==============================] - 0s 4ms/step - loss: 2533.0623 - val_loss: 1430.4282\n",
      "Epoch 16/500\n",
      "28/28 [==============================] - 0s 4ms/step - loss: 2431.4529 - val_loss: 1383.6177\n",
      "Epoch 17/500\n",
      "28/28 [==============================] - 0s 5ms/step - loss: 2334.3071 - val_loss: 1341.0969\n",
      "Epoch 18/500\n",
      "28/28 [==============================] - 0s 5ms/step - loss: 2240.9846 - val_loss: 1297.6449\n",
      "Epoch 19/500\n",
      "28/28 [==============================] - 0s 5ms/step - loss: 2151.1562 - val_loss: 1258.7789\n",
      "Epoch 20/500\n",
      "28/28 [==============================] - 0s 5ms/step - loss: 2064.5762 - val_loss: 1222.2466\n",
      "Epoch 21/500\n",
      "28/28 [==============================] - 0s 4ms/step - loss: 1981.0715 - val_loss: 1188.0892\n",
      "Epoch 22/500\n",
      "28/28 [==============================] - 0s 4ms/step - loss: 1900.5901 - val_loss: 1156.0618\n",
      "Epoch 23/500\n",
      "28/28 [==============================] - 0s 4ms/step - loss: 1822.9658 - val_loss: 1126.0363\n",
      "Epoch 24/500\n",
      "28/28 [==============================] - 0s 4ms/step - loss: 1748.0778 - val_loss: 1098.0951\n",
      "Epoch 25/500\n",
      "28/28 [==============================] - 0s 4ms/step - loss: 1675.8781 - val_loss: 1072.1694\n",
      "Epoch 26/500\n",
      "28/28 [==============================] - 0s 3ms/step - loss: 1606.2601 - val_loss: 1048.1241\n",
      "Epoch 27/500\n",
      "28/28 [==============================] - 0s 4ms/step - loss: 1539.1469 - val_loss: 1025.8955\n",
      "Epoch 28/500\n",
      "28/28 [==============================] - 0s 4ms/step - loss: 1474.4644 - val_loss: 1005.4206\n",
      "Epoch 29/500\n",
      "28/28 [==============================] - 0s 5ms/step - loss: 1412.1423 - val_loss: 986.6404\n",
      "Epoch 30/500\n",
      "28/28 [==============================] - 0s 5ms/step - loss: 1352.1117 - val_loss: 969.4975\n",
      "Epoch 31/500\n",
      "28/28 [==============================] - 0s 4ms/step - loss: 1294.3063 - val_loss: 953.8727\n",
      "Epoch 32/500\n",
      "28/28 [==============================] - 0s 4ms/step - loss: 1238.6986 - val_loss: 939.3970\n",
      "Epoch 33/500\n",
      "28/28 [==============================] - 0s 4ms/step - loss: 1185.1517 - val_loss: 926.7931\n",
      "Epoch 34/500\n",
      "28/28 [==============================] - 0s 4ms/step - loss: 1133.6481 - val_loss: 915.5899\n",
      "Epoch 35/500\n",
      "28/28 [==============================] - 0s 4ms/step - loss: 1084.2488 - val_loss: 905.9674\n",
      "Epoch 36/500\n",
      "28/28 [==============================] - 0s 4ms/step - loss: 1036.4174 - val_loss: 894.9374\n",
      "Epoch 37/500\n",
      "28/28 [==============================] - 0s 3ms/step - loss: 990.8492 - val_loss: 889.0570\n",
      "Epoch 38/500\n",
      "28/28 [==============================] - 0s 4ms/step - loss: 947.0541 - val_loss: 883.0656\n",
      "Epoch 39/500\n",
      "28/28 [==============================] - 0s 4ms/step - loss: 904.9308 - val_loss: 877.7703\n",
      "Epoch 40/500\n",
      "28/28 [==============================] - 0s 9ms/step - loss: 864.5770 - val_loss: 873.8881\n",
      "Epoch 41/500\n",
      "28/28 [==============================] - 0s 4ms/step - loss: 825.9675 - val_loss: 871.1307\n",
      "Epoch 42/500\n",
      "28/28 [==============================] - 0s 4ms/step - loss: 788.9446 - val_loss: 870.2927\n",
      "Epoch 43/500\n",
      "28/28 [==============================] - 0s 3ms/step - loss: 753.4787 - val_loss: 869.5833\n",
      "Epoch 44/500\n",
      "28/28 [==============================] - 0s 4ms/step - loss: 719.5406 - val_loss: 869.7606\n",
      "Epoch 45/500\n",
      "28/28 [==============================] - 0s 4ms/step - loss: 687.0915 - val_loss: 870.7587\n",
      "Epoch 46/500\n",
      "28/28 [==============================] - 0s 3ms/step - loss: 656.0628 - val_loss: 872.7728\n",
      "Epoch 47/500\n",
      "28/28 [==============================] - 0s 4ms/step - loss: 626.4398 - val_loss: 875.5679\n",
      "Epoch 48/500\n",
      "28/28 [==============================] - 0s 4ms/step - loss: 598.1491 - val_loss: 878.9443\n",
      "Epoch 49/500\n",
      "28/28 [==============================] - 0s 4ms/step - loss: 571.1694 - val_loss: 883.1338\n",
      "Epoch 50/500\n",
      "28/28 [==============================] - 0s 4ms/step - loss: 545.4525 - val_loss: 888.0720\n",
      "Epoch 51/500\n",
      "28/28 [==============================] - 0s 4ms/step - loss: 520.9425 - val_loss: 893.3710\n",
      "Epoch 52/500\n",
      "28/28 [==============================] - 0s 4ms/step - loss: 497.6127 - val_loss: 899.5109\n",
      "Epoch 53/500\n",
      "28/28 [==============================] - 0s 4ms/step - loss: 475.4150 - val_loss: 905.9886\n",
      "Epoch 54/500\n",
      "28/28 [==============================] - 0s 4ms/step - loss: 454.3342 - val_loss: 912.8047\n",
      "Epoch 55/500\n",
      "28/28 [==============================] - 0s 5ms/step - loss: 434.2589 - val_loss: 920.8916\n",
      "Epoch 56/500\n",
      "28/28 [==============================] - 0s 5ms/step - loss: 415.2911 - val_loss: 929.7896\n",
      "Epoch 57/500\n",
      "28/28 [==============================] - 0s 5ms/step - loss: 397.2344 - val_loss: 938.5701\n",
      "Epoch 58/500\n",
      "28/28 [==============================] - 0s 5ms/step - loss: 378.1172 - val_loss: 948.0186\n",
      "Epoch 59/500\n",
      "28/28 [==============================] - 0s 5ms/step - loss: 360.6750 - val_loss: 958.1475\n",
      "Epoch 60/500\n",
      "28/28 [==============================] - 0s 5ms/step - loss: 344.3408 - val_loss: 968.4547\n",
      "Epoch 61/500\n",
      "28/28 [==============================] - 0s 5ms/step - loss: 329.0659 - val_loss: 979.0035\n",
      "Epoch 62/500\n",
      "28/28 [==============================] - 0s 5ms/step - loss: 314.7769 - val_loss: 989.7622\n",
      "Epoch 63/500\n",
      "28/28 [==============================] - 0s 5ms/step - loss: 301.4065 - val_loss: 1000.7010\n",
      "Epoch 64/500\n",
      "28/28 [==============================] - 0s 5ms/step - loss: 288.8964 - val_loss: 1011.7909\n",
      "Epoch 65/500\n",
      "28/28 [==============================] - 0s 5ms/step - loss: 277.1940 - val_loss: 1023.0027\n",
      "Epoch 66/500\n",
      "28/28 [==============================] - 0s 5ms/step - loss: 266.2521 - val_loss: 1034.3092\n",
      "Epoch 67/500\n",
      "28/28 [==============================] - 0s 4ms/step - loss: 256.0264 - val_loss: 1045.6815\n",
      "Epoch 68/500\n",
      "28/28 [==============================] - 0s 7ms/step - loss: 246.4763 - val_loss: 1057.0945\n",
      "Epoch 69/500\n",
      "28/28 [==============================] - 0s 5ms/step - loss: 237.5634 - val_loss: 1068.5236\n",
      "Epoch 70/500\n",
      "28/28 [==============================] - 0s 5ms/step - loss: 229.2516 - val_loss: 1079.9447\n",
      "Epoch 71/500\n",
      "28/28 [==============================] - 0s 5ms/step - loss: 221.5064 - val_loss: 1091.3357\n",
      "Epoch 72/500\n",
      "28/28 [==============================] - 0s 4ms/step - loss: 214.2959 - val_loss: 1102.6747\n",
      "Epoch 73/500\n",
      "28/28 [==============================] - 0s 4ms/step - loss: 207.5888 - val_loss: 1113.9421\n",
      "Epoch 74/500\n",
      "28/28 [==============================] - 0s 5ms/step - loss: 201.3560 - val_loss: 1125.1183\n",
      "Epoch 75/500\n",
      "28/28 [==============================] - 0s 5ms/step - loss: 195.5695 - val_loss: 1136.1855\n",
      "Epoch 76/500\n",
      "28/28 [==============================] - 0s 5ms/step - loss: 190.2027 - val_loss: 1147.1274\n",
      "Epoch 77/500\n",
      "28/28 [==============================] - 0s 5ms/step - loss: 185.2303 - val_loss: 1157.9280\n",
      "Epoch 78/500\n",
      "28/28 [==============================] - 0s 5ms/step - loss: 180.6279 - val_loss: 1168.5721\n",
      "Epoch 79/500\n",
      "28/28 [==============================] - 0s 5ms/step - loss: 176.3728 - val_loss: 1179.0469\n",
      "Epoch 80/500\n",
      "28/28 [==============================] - 0s 6ms/step - loss: 172.4429 - val_loss: 1189.3406\n",
      "Epoch 81/500\n",
      "28/28 [==============================] - 0s 5ms/step - loss: 168.8174 - val_loss: 1199.4410\n",
      "Epoch 82/500\n",
      "28/28 [==============================] - 0s 5ms/step - loss: 165.4763 - val_loss: 1209.3395\n",
      "Epoch 83/500\n",
      "28/28 [==============================] - 0s 5ms/step - loss: 162.4009 - val_loss: 1219.0272\n",
      "Epoch 84/500\n",
      "28/28 [==============================] - 0s 5ms/step - loss: 159.5690 - val_loss: 1228.3677\n",
      "Epoch 85/500\n",
      "28/28 [==============================] - 0s 5ms/step - loss: 156.3587 - val_loss: 1220.3669\n",
      "Epoch 86/500\n",
      "28/28 [==============================] - 0s 5ms/step - loss: 156.0079 - val_loss: 1246.8059\n",
      "Epoch 87/500\n",
      "28/28 [==============================] - 0s 5ms/step - loss: 152.3919 - val_loss: 1255.5627\n",
      "Epoch 88/500\n",
      "28/28 [==============================] - 0s 4ms/step - loss: 150.3967 - val_loss: 1264.0587\n",
      "Epoch 89/500\n",
      "28/28 [==============================] - 0s 4ms/step - loss: 148.5740 - val_loss: 1272.2531\n",
      "Epoch 90/500\n",
      "28/28 [==============================] - 0s 4ms/step - loss: 146.9082 - val_loss: 1279.1178\n",
      "Epoch 91/500\n",
      "28/28 [==============================] - 0s 5ms/step - loss: 144.9250 - val_loss: 1273.8541\n",
      "Epoch 92/500\n",
      "28/28 [==============================] - 0s 4ms/step - loss: 144.0309 - val_loss: 1297.5242\n",
      "Epoch 93/500\n",
      "28/28 [==============================] - 0s 5ms/step - loss: 142.7514 - val_loss: 1304.8115\n",
      "Epoch 94/500\n",
      "28/28 [==============================] - 0s 7ms/step - loss: 141.6106 - val_loss: 1311.8440\n",
      "Epoch 95/500\n",
      "28/28 [==============================] - 0s 5ms/step - loss: 140.5760 - val_loss: 1318.6241\n",
      "Epoch 96/500\n",
      "28/28 [==============================] - 0s 6ms/step - loss: 139.6384 - val_loss: 1325.1542\n",
      "Epoch 97/500\n",
      "28/28 [==============================] - 0s 6ms/step - loss: 138.7901 - val_loss: 1331.4347\n",
      "Epoch 98/500\n",
      "28/28 [==============================] - 0s 7ms/step - loss: 138.0233 - val_loss: 1337.4695\n",
      "Epoch 99/500\n",
      "28/28 [==============================] - 0s 6ms/step - loss: 137.3311 - val_loss: 1343.2612\n",
      "Epoch 100/500\n",
      "28/28 [==============================] - 0s 7ms/step - loss: 136.7070 - val_loss: 1348.8127\n",
      "Epoch 101/500\n",
      "28/28 [==============================] - 0s 7ms/step - loss: 136.1450 - val_loss: 1354.1294\n",
      "Epoch 102/500\n",
      "28/28 [==============================] - 0s 7ms/step - loss: 135.6396 - val_loss: 1359.2157\n",
      "Epoch 103/500\n",
      "28/28 [==============================] - 0s 6ms/step - loss: 135.1855 - val_loss: 1364.0748\n",
      "Epoch 104/500\n",
      "28/28 [==============================] - 0s 6ms/step - loss: 134.7781 - val_loss: 1368.7119\n",
      "Epoch 105/500\n",
      "28/28 [==============================] - 0s 5ms/step - loss: 134.4130 - val_loss: 1373.1337\n",
      "Epoch 106/500\n",
      "28/28 [==============================] - 0s 5ms/step - loss: 134.0863 - val_loss: 1377.3448\n",
      "Epoch 107/500\n",
      "28/28 [==============================] - 0s 5ms/step - loss: 133.7941 - val_loss: 1381.3510\n",
      "Epoch 108/500\n",
      "28/28 [==============================] - 0s 5ms/step - loss: 133.5332 - val_loss: 1385.1577\n",
      "Epoch 109/500\n",
      "28/28 [==============================] - 0s 4ms/step - loss: 133.3004 - val_loss: 1388.7712\n",
      "Epoch 110/500\n",
      "28/28 [==============================] - 0s 5ms/step - loss: 133.0930 - val_loss: 1392.1967\n",
      "Epoch 111/500\n",
      "28/28 [==============================] - 0s 5ms/step - loss: 132.9083 - val_loss: 1395.4415\n",
      "Epoch 112/500\n",
      "28/28 [==============================] - 0s 4ms/step - loss: 132.7442 - val_loss: 1398.5127\n",
      "Epoch 113/500\n",
      "28/28 [==============================] - 0s 4ms/step - loss: 132.5984 - val_loss: 1401.4148\n",
      "Epoch 114/500\n",
      "28/28 [==============================] - 0s 4ms/step - loss: 132.4690 - val_loss: 1404.1547\n",
      "Epoch 115/500\n",
      "28/28 [==============================] - 0s 4ms/step - loss: 132.3542 - val_loss: 1406.7384\n",
      "Epoch 116/500\n",
      "28/28 [==============================] - 0s 5ms/step - loss: 132.2526 - val_loss: 1409.1726\n",
      "Epoch 117/500\n",
      "28/28 [==============================] - 0s 4ms/step - loss: 132.1627 - val_loss: 1411.4636\n",
      "Epoch 118/500\n",
      "28/28 [==============================] - 0s 5ms/step - loss: 132.0833 - val_loss: 1413.6176\n",
      "Epoch 119/500\n",
      "28/28 [==============================] - 0s 5ms/step - loss: 132.0131 - val_loss: 1415.6399\n",
      "Epoch 120/500\n",
      "28/28 [==============================] - 0s 9ms/step - loss: 131.9512 - val_loss: 1417.5363\n",
      "Epoch 121/500\n",
      "28/28 [==============================] - 0s 6ms/step - loss: 131.8966 - val_loss: 1419.3113\n",
      "Epoch 122/500\n",
      "28/28 [==============================] - 0s 6ms/step - loss: 131.8485 - val_loss: 1420.9733\n",
      "Epoch 123/500\n",
      "28/28 [==============================] - 0s 6ms/step - loss: 131.8062 - val_loss: 1422.5260\n",
      "Epoch 124/500\n",
      "28/28 [==============================] - 0s 6ms/step - loss: 131.7690 - val_loss: 1423.9758\n",
      "Epoch 125/500\n",
      "28/28 [==============================] - 0s 6ms/step - loss: 131.7363 - val_loss: 1425.3271\n",
      "Epoch 126/500\n",
      "28/28 [==============================] - 0s 6ms/step - loss: 131.7076 - val_loss: 1426.5847\n",
      "Epoch 127/500\n",
      "28/28 [==============================] - 0s 6ms/step - loss: 131.6825 - val_loss: 1427.7546\n",
      "Epoch 128/500\n",
      "28/28 [==============================] - 0s 6ms/step - loss: 131.6605 - val_loss: 1428.8411\n",
      "Epoch 129/500\n",
      "28/28 [==============================] - 0s 6ms/step - loss: 131.6413 - val_loss: 1429.8472\n",
      "Epoch 130/500\n",
      "28/28 [==============================] - 0s 5ms/step - loss: 131.6246 - val_loss: 1430.7789\n",
      "Epoch 131/500\n",
      "28/28 [==============================] - 0s 5ms/step - loss: 131.6100 - val_loss: 1431.6389\n",
      "Epoch 132/500\n",
      "28/28 [==============================] - 0s 5ms/step - loss: 131.5973 - val_loss: 1432.4315\n",
      "Epoch 133/500\n",
      "28/28 [==============================] - 0s 5ms/step - loss: 131.5862 - val_loss: 1433.1630\n",
      "Epoch 134/500\n",
      "28/28 [==============================] - 0s 5ms/step - loss: 131.5767 - val_loss: 1433.8323\n",
      "Epoch 135/500\n",
      "28/28 [==============================] - 0s 5ms/step - loss: 131.5685 - val_loss: 1434.4452\n",
      "Epoch 136/500\n",
      "28/28 [==============================] - 0s 4ms/step - loss: 131.5614 - val_loss: 1435.0040\n",
      "Epoch 137/500\n",
      "28/28 [==============================] - 0s 4ms/step - loss: 131.5554 - val_loss: 1435.5120\n",
      "Epoch 138/500\n",
      "28/28 [==============================] - 0s 5ms/step - loss: 131.5503 - val_loss: 1435.9690\n",
      "Epoch 139/500\n",
      "28/28 [==============================] - 0s 4ms/step - loss: 131.5460 - val_loss: 1436.3805\n",
      "Epoch 140/500\n",
      "28/28 [==============================] - 0s 4ms/step - loss: 131.5424 - val_loss: 1436.7461\n",
      "Epoch 141/500\n",
      "28/28 [==============================] - 0s 4ms/step - loss: 131.5394 - val_loss: 1437.0642\n",
      "Epoch 142/500\n",
      "28/28 [==============================] - 0s 4ms/step - loss: 131.5370 - val_loss: 1437.3340\n",
      "Epoch 143/500\n",
      "28/28 [==============================] - 0s 6ms/step - loss: 131.5351 - val_loss: 1437.5460\n",
      "Epoch 144/500\n",
      "28/28 [==============================] - 0s 7ms/step - loss: 131.5336 - val_loss: 1437.6676\n",
      "Epoch 145/500\n",
      "28/28 [==============================] - 0s 5ms/step - loss: 131.5321 - val_loss: 1437.6278\n",
      "Epoch 146/500\n",
      "28/28 [==============================] - 0s 5ms/step - loss: 131.4954 - val_loss: 1429.6519\n",
      "Epoch 147/500\n",
      "28/28 [==============================] - 0s 4ms/step - loss: 132.4547 - val_loss: 1439.1804\n",
      "Epoch 148/500\n",
      "28/28 [==============================] - 0s 4ms/step - loss: 131.5259 - val_loss: 1438.9843\n",
      "Epoch 149/500\n",
      "28/28 [==============================] - 0s 4ms/step - loss: 131.3895 - val_loss: 1422.7729\n",
      "Epoch 150/500\n",
      "28/28 [==============================] - 0s 4ms/step - loss: 131.5364 - val_loss: 1434.0568\n",
      "Epoch 151/500\n",
      "28/28 [==============================] - 0s 4ms/step - loss: 131.9575 - val_loss: 1441.1309\n",
      "Epoch 152/500\n",
      "28/28 [==============================] - 0s 4ms/step - loss: 131.5301 - val_loss: 1441.1095\n",
      "Epoch 153/500\n",
      "28/28 [==============================] - 0s 5ms/step - loss: 131.5304 - val_loss: 1440.9301\n",
      "Epoch 154/500\n",
      "28/28 [==============================] - 0s 5ms/step - loss: 131.5263 - val_loss: 1439.9216\n",
      "Epoch 155/500\n",
      "28/28 [==============================] - 0s 5ms/step - loss: 131.4972 - val_loss: 1430.0421\n",
      "Epoch 156/500\n",
      "28/28 [==============================] - 0s 4ms/step - loss: 131.6967 - val_loss: 1390.3247\n",
      "Epoch 157/500\n",
      "28/28 [==============================] - 0s 6ms/step - loss: 134.0697 - val_loss: 1385.2463\n",
      "Epoch 158/500\n",
      "28/28 [==============================] - 0s 4ms/step - loss: 133.4033 - val_loss: 1390.2119\n",
      "Epoch 159/500\n",
      "28/28 [==============================] - 0s 6ms/step - loss: 133.1070 - val_loss: 1389.0577\n",
      "Epoch 160/500\n",
      "28/28 [==============================] - 0s 7ms/step - loss: 131.6412 - val_loss: 1310.7081\n",
      "Epoch 161/500\n",
      "28/28 [==============================] - 0s 6ms/step - loss: 143.3980 - val_loss: 1305.4905\n",
      "Epoch 162/500\n",
      "28/28 [==============================] - 0s 5ms/step - loss: 141.7837 - val_loss: 1317.2554\n",
      "Epoch 163/500\n",
      "28/28 [==============================] - 0s 5ms/step - loss: 140.0847 - val_loss: 1327.8955\n",
      "Epoch 164/500\n",
      "28/28 [==============================] - 0s 8ms/step - loss: 138.6543 - val_loss: 1337.9525\n",
      "Epoch 165/500\n",
      "28/28 [==============================] - 0s 5ms/step - loss: 137.4648 - val_loss: 1347.0996\n",
      "Epoch 166/500\n",
      "28/28 [==============================] - 0s 5ms/step - loss: 136.4765 - val_loss: 1355.3412\n",
      "Epoch 167/500\n",
      "28/28 [==============================] - 0s 5ms/step - loss: 135.6420 - val_loss: 1355.7631\n",
      "Epoch 168/500\n",
      "28/28 [==============================] - 0s 5ms/step - loss: 135.0639 - val_loss: 1373.0725\n",
      "Epoch 169/500\n",
      "28/28 [==============================] - 0s 5ms/step - loss: 134.4140 - val_loss: 1379.4058\n",
      "Epoch 170/500\n",
      "28/28 [==============================] - 0s 4ms/step - loss: 133.9025 - val_loss: 1362.7366\n",
      "Epoch 171/500\n",
      "28/28 [==============================] - 0s 4ms/step - loss: 137.2788 - val_loss: 1338.1473\n",
      "Epoch 172/500\n",
      "28/28 [==============================] - 0s 4ms/step - loss: 137.6954 - val_loss: 1346.9344\n",
      "Epoch 173/500\n",
      "28/28 [==============================] - 0s 4ms/step - loss: 136.6656 - val_loss: 1352.4222\n",
      "Epoch 174/500\n",
      "28/28 [==============================] - 0s 4ms/step - loss: 135.8050 - val_loss: 1363.0123\n",
      "Epoch 175/500\n",
      "28/28 [==============================] - 0s 4ms/step - loss: 135.0919 - val_loss: 1370.1174\n",
      "Epoch 176/500\n",
      "28/28 [==============================] - 0s 4ms/step - loss: 134.4921 - val_loss: 1378.5376\n",
      "Epoch 177/500\n",
      "28/28 [==============================] - 0s 4ms/step - loss: 134.0012 - val_loss: 1384.2622\n",
      "Epoch 178/500\n",
      "28/28 [==============================] - 0s 4ms/step - loss: 133.5333 - val_loss: 1373.6212\n",
      "Epoch 179/500\n",
      "28/28 [==============================] - 0s 4ms/step - loss: 134.6876 - val_loss: 1400.9602\n",
      "Epoch 180/500\n",
      "28/28 [==============================] - 0s 5ms/step - loss: 132.9901 - val_loss: 1405.6377\n",
      "Epoch 181/500\n",
      "28/28 [==============================] - 0s 4ms/step - loss: 132.7607 - val_loss: 1409.8625\n",
      "Epoch 182/500\n",
      "28/28 [==============================] - 0s 4ms/step - loss: 132.5711 - val_loss: 1413.6879\n",
      "Epoch 183/500\n",
      "28/28 [==============================] - 0s 4ms/step - loss: 132.4134 - val_loss: 1417.1467\n",
      "Epoch 184/500\n",
      "28/28 [==============================] - 0s 4ms/step - loss: 132.2820 - val_loss: 1420.2717\n",
      "Epoch 185/500\n",
      "28/28 [==============================] - 0s 4ms/step - loss: 132.1725 - val_loss: 1423.0869\n",
      "Epoch 186/500\n",
      "28/28 [==============================] - 0s 7ms/step - loss: 132.0810 - val_loss: 1425.6232\n",
      "Epoch 187/500\n",
      "28/28 [==============================] - 0s 5ms/step - loss: 132.0044 - val_loss: 1427.9059\n",
      "Epoch 188/500\n",
      "28/28 [==============================] - 0s 5ms/step - loss: 131.9403 - val_loss: 1429.9562\n",
      "Epoch 189/500\n",
      "28/28 [==============================] - 0s 5ms/step - loss: 131.8865 - val_loss: 1431.7936\n",
      "Epoch 190/500\n",
      "28/28 [==============================] - 0s 5ms/step - loss: 131.8412 - val_loss: 1433.4363\n",
      "Epoch 191/500\n",
      "28/28 [==============================] - 0s 5ms/step - loss: 131.8032 - val_loss: 1434.8992\n",
      "Epoch 192/500\n",
      "28/28 [==============================] - 0s 4ms/step - loss: 131.7711 - val_loss: 1436.1960\n",
      "Epoch 193/500\n",
      "28/28 [==============================] - 0s 4ms/step - loss: 131.7439 - val_loss: 1437.3290\n",
      "Epoch 194/500\n",
      "28/28 [==============================] - 0s 4ms/step - loss: 131.7210 - val_loss: 1438.1472\n",
      "Epoch 195/500\n",
      "28/28 [==============================] - 0s 4ms/step - loss: 131.6939 - val_loss: 1417.0308\n",
      "Epoch 196/500\n",
      "28/28 [==============================] - 0s 4ms/step - loss: 131.6976 - val_loss: 1449.8965\n",
      "Epoch 197/500\n",
      "28/28 [==============================] - 0s 4ms/step - loss: 131.6707 - val_loss: 1450.6927\n",
      "Epoch 198/500\n",
      "28/28 [==============================] - 0s 4ms/step - loss: 131.6588 - val_loss: 1451.4061\n",
      "Epoch 199/500\n",
      "28/28 [==============================] - 0s 4ms/step - loss: 131.6485 - val_loss: 1452.0424\n",
      "Epoch 200/500\n",
      "28/28 [==============================] - 0s 4ms/step - loss: 131.6399 - val_loss: 1452.6107\n",
      "Epoch 201/500\n",
      "28/28 [==============================] - 0s 4ms/step - loss: 131.6325 - val_loss: 1453.1173\n",
      "Epoch 202/500\n",
      "28/28 [==============================] - 0s 4ms/step - loss: 131.6263 - val_loss: 1453.5687\n",
      "Epoch 203/500\n",
      "28/28 [==============================] - 0s 4ms/step - loss: 131.6209 - val_loss: 1453.9709\n",
      "Epoch 204/500\n",
      "28/28 [==============================] - 0s 4ms/step - loss: 131.6163 - val_loss: 1454.3274\n",
      "Epoch 205/500\n",
      "28/28 [==============================] - 0s 4ms/step - loss: 131.6124 - val_loss: 1454.6428\n",
      "Epoch 206/500\n",
      "28/28 [==============================] - 0s 4ms/step - loss: 131.6064 - val_loss: 1454.8429\n",
      "Epoch 207/500\n",
      "28/28 [==============================] - 0s 8ms/step - loss: 131.6068 - val_loss: 1455.1190\n",
      "Epoch 208/500\n",
      "28/28 [==============================] - 0s 5ms/step - loss: 131.6041 - val_loss: 1455.3365\n",
      "Epoch 209/500\n",
      "28/28 [==============================] - 0s 4ms/step - loss: 131.6021 - val_loss: 1455.5283\n",
      "Epoch 210/500\n",
      "28/28 [==============================] - 0s 4ms/step - loss: 131.6005 - val_loss: 1455.6949\n",
      "Epoch 211/500\n",
      "28/28 [==============================] - 0s 4ms/step - loss: 131.5992 - val_loss: 1455.8408\n",
      "Epoch 212/500\n",
      "28/28 [==============================] - 0s 4ms/step - loss: 131.5732 - val_loss: 1451.7223\n",
      "Epoch 213/500\n",
      "28/28 [==============================] - 0s 4ms/step - loss: 133.7392 - val_loss: 1456.4884\n",
      "Epoch 214/500\n",
      "28/28 [==============================] - 0s 4ms/step - loss: 131.5942 - val_loss: 1456.5652\n",
      "Epoch 215/500\n",
      "28/28 [==============================] - 0s 4ms/step - loss: 131.5915 - val_loss: 1456.5995\n",
      "Epoch 216/500\n",
      "28/28 [==============================] - 0s 4ms/step - loss: 131.5916 - val_loss: 1456.6241\n",
      "Epoch 217/500\n",
      "28/28 [==============================] - 0s 4ms/step - loss: 131.5916 - val_loss: 1456.6410\n",
      "Epoch 218/500\n",
      "28/28 [==============================] - 0s 4ms/step - loss: 131.5919 - val_loss: 1456.6477\n",
      "Epoch 219/500\n",
      "28/28 [==============================] - 0s 4ms/step - loss: 131.5923 - val_loss: 1456.6475\n",
      "Epoch 220/500\n",
      "28/28 [==============================] - 0s 4ms/step - loss: 131.5926 - val_loss: 1456.6373\n",
      "Epoch 221/500\n",
      "28/28 [==============================] - 0s 4ms/step - loss: 131.5930 - val_loss: 1456.6149\n",
      "Epoch 222/500\n",
      "28/28 [==============================] - 0s 4ms/step - loss: 131.5934 - val_loss: 1456.3977\n",
      "Epoch 223/500\n",
      "28/28 [==============================] - 0s 4ms/step - loss: 131.5122 - val_loss: 1385.7263\n",
      "Epoch 224/500\n",
      "28/28 [==============================] - 0s 4ms/step - loss: 142.4784 - val_loss: 1464.3821\n",
      "Epoch 225/500\n",
      "28/28 [==============================] - 0s 4ms/step - loss: 131.5864 - val_loss: 1464.2115\n",
      "Epoch 226/500\n",
      "28/28 [==============================] - 0s 7ms/step - loss: 131.5747 - val_loss: 1463.8051\n",
      "Epoch 227/500\n",
      "28/28 [==============================] - 0s 5ms/step - loss: 131.5762 - val_loss: 1462.7820\n",
      "Epoch 228/500\n",
      "28/28 [==============================] - 0s 4ms/step - loss: 131.5491 - val_loss: 1454.7284\n",
      "Epoch 229/500\n",
      "28/28 [==============================] - 0s 4ms/step - loss: 131.3063 - val_loss: 1413.4135\n",
      "Epoch 230/500\n",
      "28/28 [==============================] - 0s 4ms/step - loss: 133.9402 - val_loss: 1402.6902\n",
      "Epoch 231/500\n",
      "28/28 [==============================] - 0s 4ms/step - loss: 133.7121 - val_loss: 1408.9847\n",
      "Epoch 232/500\n",
      "28/28 [==============================] - 0s 4ms/step - loss: 133.3460 - val_loss: 1414.6554\n",
      "Epoch 233/500\n",
      "28/28 [==============================] - 0s 4ms/step - loss: 133.0331 - val_loss: 1419.3513\n",
      "Epoch 234/500\n",
      "28/28 [==============================] - 0s 4ms/step - loss: 132.7367 - val_loss: 1378.3508\n",
      "Epoch 235/500\n",
      "28/28 [==============================] - 0s 4ms/step - loss: 136.9557 - val_loss: 1372.1034\n",
      "Epoch 236/500\n",
      "28/28 [==============================] - 0s 4ms/step - loss: 136.1710 - val_loss: 1381.6306\n",
      "Epoch 237/500\n",
      "28/28 [==============================] - 0s 4ms/step - loss: 135.3341 - val_loss: 1390.3051\n",
      "Epoch 238/500\n",
      "28/28 [==============================] - 0s 4ms/step - loss: 134.6477 - val_loss: 1398.0989\n",
      "Epoch 239/500\n",
      "28/28 [==============================] - 0s 4ms/step - loss: 134.0928 - val_loss: 1405.0878\n",
      "Epoch 240/500\n",
      "28/28 [==============================] - 0s 4ms/step - loss: 133.6438 - val_loss: 1411.3483\n",
      "Epoch 241/500\n",
      "28/28 [==============================] - 0s 4ms/step - loss: 133.2800 - val_loss: 1416.9493\n",
      "Epoch 242/500\n",
      "28/28 [==============================] - 0s 4ms/step - loss: 132.9847 - val_loss: 1421.9568\n",
      "Epoch 243/500\n",
      "28/28 [==============================] - 0s 4ms/step - loss: 132.7443 - val_loss: 1426.4276\n",
      "Epoch 244/500\n",
      "28/28 [==============================] - 0s 4ms/step - loss: 132.5484 - val_loss: 1430.4167\n",
      "Epoch 245/500\n",
      "28/28 [==============================] - 0s 7ms/step - loss: 132.3881 - val_loss: 1433.9701\n",
      "Epoch 246/500\n",
      "28/28 [==============================] - 0s 4ms/step - loss: 132.2569 - val_loss: 1437.1306\n",
      "Epoch 247/500\n",
      "28/28 [==============================] - 0s 4ms/step - loss: 132.1490 - val_loss: 1439.9365\n",
      "Epoch 248/500\n",
      "28/28 [==============================] - 0s 4ms/step - loss: 132.0600 - val_loss: 1442.4214\n",
      "Epoch 249/500\n",
      "28/28 [==============================] - 0s 4ms/step - loss: 131.9866 - val_loss: 1444.6132\n",
      "Epoch 250/500\n",
      "28/28 [==============================] - 0s 4ms/step - loss: 131.9257 - val_loss: 1446.5327\n",
      "Epoch 251/500\n",
      "28/28 [==============================] - 0s 4ms/step - loss: 131.8751 - val_loss: 1448.1934\n",
      "Epoch 252/500\n",
      "28/28 [==============================] - 0s 4ms/step - loss: 131.8329 - val_loss: 1449.5846\n",
      "Epoch 253/500\n",
      "28/28 [==============================] - 0s 4ms/step - loss: 131.7976 - val_loss: 1450.6260\n",
      "Epoch 254/500\n",
      "28/28 [==============================] - 0s 4ms/step - loss: 131.7679 - val_loss: 1450.6736\n",
      "Epoch 255/500\n",
      "28/28 [==============================] - 0s 4ms/step - loss: 131.6764 - val_loss: 1411.6029\n",
      "Epoch 256/500\n",
      "28/28 [==============================] - 0s 4ms/step - loss: 133.2502 - val_loss: 1398.4242\n",
      "Epoch 257/500\n",
      "28/28 [==============================] - 0s 4ms/step - loss: 134.3276 - val_loss: 1405.5385\n",
      "Epoch 258/500\n",
      "28/28 [==============================] - 0s 4ms/step - loss: 133.8502 - val_loss: 1412.1511\n",
      "Epoch 259/500\n",
      "28/28 [==============================] - 0s 4ms/step - loss: 133.4492 - val_loss: 1418.0858\n",
      "Epoch 260/500\n",
      "28/28 [==============================] - 0s 4ms/step - loss: 133.1228 - val_loss: 1423.4014\n",
      "Epoch 261/500\n",
      "28/28 [==============================] - 0s 4ms/step - loss: 132.8573 - val_loss: 1428.1583\n",
      "Epoch 262/500\n",
      "28/28 [==============================] - 0s 4ms/step - loss: 132.6409 - val_loss: 1432.4131\n",
      "Epoch 263/500\n",
      "28/28 [==============================] - 0s 7ms/step - loss: 132.4639 - val_loss: 1436.2166\n",
      "Epoch 264/500\n",
      "28/28 [==============================] - 0s 4ms/step - loss: 132.3190 - val_loss: 1439.6149\n",
      "Epoch 265/500\n",
      "28/28 [==============================] - 0s 4ms/step - loss: 132.1999 - val_loss: 1442.6487\n",
      "Epoch 266/500\n",
      "28/28 [==============================] - 0s 4ms/step - loss: 132.1019 - val_loss: 1445.3579\n",
      "Epoch 267/500\n",
      "28/28 [==============================] - 0s 4ms/step - loss: 132.0208 - val_loss: 1447.7745\n",
      "Epoch 268/500\n",
      "28/28 [==============================] - 0s 4ms/step - loss: 131.9537 - val_loss: 1449.9299\n",
      "Epoch 269/500\n",
      "28/28 [==============================] - 0s 4ms/step - loss: 131.8979 - val_loss: 1451.8510\n",
      "Epoch 270/500\n",
      "28/28 [==============================] - 0s 4ms/step - loss: 131.8513 - val_loss: 1453.5629\n",
      "Epoch 271/500\n",
      "28/28 [==============================] - 0s 4ms/step - loss: 131.8125 - val_loss: 1455.0879\n",
      "Epoch 272/500\n",
      "28/28 [==============================] - 0s 4ms/step - loss: 131.7798 - val_loss: 1456.4442\n",
      "Epoch 273/500\n",
      "28/28 [==============================] - 0s 4ms/step - loss: 131.7523 - val_loss: 1457.6427\n",
      "Epoch 274/500\n",
      "28/28 [==============================] - 0s 4ms/step - loss: 131.7288 - val_loss: 1458.6719\n",
      "Epoch 275/500\n",
      "28/28 [==============================] - 0s 4ms/step - loss: 131.7088 - val_loss: 1459.6532\n",
      "Epoch 276/500\n",
      "28/28 [==============================] - 0s 4ms/step - loss: 131.6911 - val_loss: 1460.1503\n",
      "Epoch 277/500\n",
      "28/28 [==============================] - 0s 4ms/step - loss: 131.6797 - val_loss: 1461.3293\n",
      "Epoch 278/500\n",
      "28/28 [==============================] - 0s 4ms/step - loss: 131.6664 - val_loss: 1461.9998\n",
      "Epoch 279/500\n",
      "28/28 [==============================] - 0s 4ms/step - loss: 131.6560 - val_loss: 1462.5944\n",
      "Epoch 280/500\n",
      "28/28 [==============================] - 0s 4ms/step - loss: 131.6471 - val_loss: 1463.1200\n",
      "Epoch 281/500\n",
      "28/28 [==============================] - 0s 8ms/step - loss: 131.6393 - val_loss: 1463.5538\n",
      "Epoch 282/500\n",
      "28/28 [==============================] - 0s 5ms/step - loss: 131.5509 - val_loss: 1449.3116\n",
      "Epoch 283/500\n",
      "28/28 [==============================] - 0s 4ms/step - loss: 132.9267 - val_loss: 1401.4618\n",
      "Epoch 284/500\n",
      "28/28 [==============================] - 0s 4ms/step - loss: 134.1184 - val_loss: 1408.3221\n",
      "Epoch 285/500\n",
      "28/28 [==============================] - 0s 4ms/step - loss: 133.6809 - val_loss: 1414.6090\n",
      "Epoch 286/500\n",
      "28/28 [==============================] - 0s 4ms/step - loss: 133.3132 - val_loss: 1420.2511\n",
      "Epoch 287/500\n",
      "28/28 [==============================] - 0s 4ms/step - loss: 133.0134 - val_loss: 1425.3058\n",
      "Epoch 288/500\n",
      "28/28 [==============================] - 0s 5ms/step - loss: 132.7689 - val_loss: 1429.8301\n",
      "Epoch 289/500\n",
      "28/28 [==============================] - 0s 4ms/step - loss: 132.5691 - val_loss: 1433.8776\n",
      "Epoch 290/500\n",
      "28/28 [==============================] - 0s 4ms/step - loss: 132.4054 - val_loss: 1437.4966\n",
      "Epoch 291/500\n",
      "28/28 [==============================] - 0s 4ms/step - loss: 132.2710 - val_loss: 1440.7299\n",
      "Epoch 292/500\n",
      "28/28 [==============================] - 0s 4ms/step - loss: 132.1603 - val_loss: 1443.6177\n",
      "Epoch 293/500\n",
      "28/28 [==============================] - 0s 4ms/step - loss: 132.0689 - val_loss: 1446.1951\n",
      "Epoch 294/500\n",
      "28/28 [==============================] - 0s 4ms/step - loss: 131.9932 - val_loss: 1448.4944\n",
      "Epoch 295/500\n",
      "28/28 [==============================] - 0s 4ms/step - loss: 131.9302 - val_loss: 1450.5426\n",
      "Epoch 296/500\n",
      "28/28 [==============================] - 0s 5ms/step - loss: 131.8778 - val_loss: 1452.3666\n",
      "Epoch 297/500\n",
      "28/28 [==============================] - 0s 4ms/step - loss: 131.8340 - val_loss: 1453.9890\n",
      "Epoch 298/500\n",
      "28/28 [==============================] - 0s 4ms/step - loss: 131.7972 - val_loss: 1455.4298\n",
      "Epoch 299/500\n",
      "28/28 [==============================] - 0s 4ms/step - loss: 131.7663 - val_loss: 1456.7064\n",
      "Epoch 300/500\n",
      "28/28 [==============================] - 0s 4ms/step - loss: 131.7402 - val_loss: 1457.8304\n",
      "Epoch 301/500\n",
      "28/28 [==============================] - 0s 4ms/step - loss: 131.7181 - val_loss: 1458.8114\n",
      "Epoch 302/500\n",
      "28/28 [==============================] - 0s 4ms/step - loss: 131.6994 - val_loss: 1459.6407\n",
      "Epoch 303/500\n",
      "28/28 [==============================] - 0s 4ms/step - loss: 131.6833 - val_loss: 1460.2333\n",
      "Epoch 304/500\n",
      "28/28 [==============================] - 0s 4ms/step - loss: 131.6678 - val_loss: 1455.3378\n",
      "Epoch 305/500\n",
      "28/28 [==============================] - 0s 7ms/step - loss: 131.6621 - val_loss: 1464.9038\n",
      "Epoch 306/500\n",
      "28/28 [==============================] - 0s 4ms/step - loss: 131.6479 - val_loss: 1465.4686\n",
      "Epoch 307/500\n",
      "28/28 [==============================] - 0s 4ms/step - loss: 131.6392 - val_loss: 1465.9670\n",
      "Epoch 308/500\n",
      "28/28 [==============================] - 0s 5ms/step - loss: 131.6317 - val_loss: 1466.4020\n",
      "Epoch 309/500\n",
      "28/28 [==============================] - 0s 4ms/step - loss: 131.6253 - val_loss: 1466.7806\n",
      "Epoch 310/500\n",
      "28/28 [==============================] - 0s 4ms/step - loss: 131.6197 - val_loss: 1467.1056\n",
      "Epoch 311/500\n",
      "28/28 [==============================] - 0s 4ms/step - loss: 131.6148 - val_loss: 1467.3722\n",
      "Epoch 312/500\n",
      "28/28 [==============================] - 0s 6ms/step - loss: 131.6105 - val_loss: 1467.4739\n",
      "Epoch 313/500\n",
      "28/28 [==============================] - 0s 5ms/step - loss: 131.6068 - val_loss: 1455.7511\n",
      "Epoch 314/500\n",
      "28/28 [==============================] - 0s 5ms/step - loss: 132.5580 - val_loss: 1468.8320\n",
      "Epoch 315/500\n",
      "28/28 [==============================] - 0s 5ms/step - loss: 131.5997 - val_loss: 1468.9574\n",
      "Epoch 316/500\n",
      "28/28 [==============================] - 0s 5ms/step - loss: 131.5964 - val_loss: 1469.0381\n",
      "Epoch 317/500\n",
      "28/28 [==============================] - 0s 4ms/step - loss: 131.5411 - val_loss: 1437.9784\n",
      "Epoch 318/500\n",
      "28/28 [==============================] - 0s 4ms/step - loss: 132.7234 - val_loss: 1470.7119\n",
      "Epoch 319/500\n",
      "28/28 [==============================] - 0s 4ms/step - loss: 131.5900 - val_loss: 1470.7926\n",
      "Epoch 320/500\n",
      "28/28 [==============================] - 0s 4ms/step - loss: 131.5877 - val_loss: 1470.8424\n",
      "Epoch 321/500\n",
      "28/28 [==============================] - 0s 4ms/step - loss: 131.5867 - val_loss: 1470.8732\n",
      "Epoch 322/500\n",
      "28/28 [==============================] - 0s 4ms/step - loss: 131.5859 - val_loss: 1470.8822\n",
      "Epoch 323/500\n",
      "28/28 [==============================] - 0s 4ms/step - loss: 131.5852 - val_loss: 1470.8601\n",
      "Epoch 324/500\n",
      "28/28 [==============================] - 0s 4ms/step - loss: 131.5847 - val_loss: 1470.7809\n",
      "Epoch 325/500\n",
      "28/28 [==============================] - 0s 4ms/step - loss: 131.5841 - val_loss: 1470.5338\n",
      "Epoch 326/500\n",
      "28/28 [==============================] - 0s 6ms/step - loss: 131.5834 - val_loss: 1467.4495\n",
      "Epoch 327/500\n",
      "28/28 [==============================] - 0s 4ms/step - loss: 130.7808 - val_loss: 1421.4197\n",
      "Epoch 328/500\n",
      "28/28 [==============================] - 0s 4ms/step - loss: 134.4913 - val_loss: 1407.6201\n",
      "Epoch 329/500\n",
      "28/28 [==============================] - 0s 4ms/step - loss: 134.1920 - val_loss: 1414.5880\n",
      "Epoch 330/500\n",
      "28/28 [==============================] - 0s 4ms/step - loss: 133.7433 - val_loss: 1420.9746\n",
      "Epoch 331/500\n",
      "28/28 [==============================] - 0s 4ms/step - loss: 133.3665 - val_loss: 1426.7145\n",
      "Epoch 332/500\n",
      "28/28 [==============================] - 0s 4ms/step - loss: 133.0587 - val_loss: 1431.8665\n",
      "Epoch 333/500\n",
      "28/28 [==============================] - 0s 4ms/step - loss: 132.8073 - val_loss: 1436.4852\n",
      "Epoch 334/500\n",
      "28/28 [==============================] - 0s 4ms/step - loss: 132.6014 - val_loss: 1440.6252\n",
      "Epoch 335/500\n",
      "28/28 [==============================] - 0s 4ms/step - loss: 132.4325 - val_loss: 1444.3351\n",
      "Epoch 336/500\n",
      "28/28 [==============================] - 0s 4ms/step - loss: 132.2935 - val_loss: 1447.6570\n",
      "Epoch 337/500\n",
      "28/28 [==============================] - 0s 4ms/step - loss: 132.1789 - val_loss: 1450.6326\n",
      "Epoch 338/500\n",
      "28/28 [==============================] - 0s 4ms/step - loss: 132.0840 - val_loss: 1453.2942\n",
      "Epoch 339/500\n",
      "28/28 [==============================] - 0s 4ms/step - loss: 132.0054 - val_loss: 1455.6764\n",
      "Epoch 340/500\n",
      "28/28 [==============================] - 0s 4ms/step - loss: 131.9399 - val_loss: 1457.8080\n",
      "Epoch 341/500\n",
      "28/28 [==============================] - 0s 4ms/step - loss: 131.8853 - val_loss: 1459.7134\n",
      "Epoch 342/500\n",
      "28/28 [==============================] - 0s 4ms/step - loss: 131.8396 - val_loss: 1461.4172\n",
      "Epoch 343/500\n",
      "28/28 [==============================] - 0s 4ms/step - loss: 131.8013 - val_loss: 1462.9406\n",
      "Epoch 344/500\n",
      "28/28 [==============================] - 0s 4ms/step - loss: 131.7689 - val_loss: 1464.3026\n",
      "Epoch 345/500\n",
      "28/28 [==============================] - 0s 4ms/step - loss: 131.7415 - val_loss: 1465.5188\n",
      "Epoch 346/500\n",
      "28/28 [==============================] - 0s 4ms/step - loss: 131.7185 - val_loss: 1466.6064\n",
      "Epoch 347/500\n",
      "28/28 [==============================] - 0s 4ms/step - loss: 131.6988 - val_loss: 1467.5776\n",
      "Epoch 348/500\n",
      "28/28 [==============================] - 0s 4ms/step - loss: 131.6820 - val_loss: 1468.4451\n",
      "Epoch 349/500\n",
      "28/28 [==============================] - 0s 4ms/step - loss: 131.6676 - val_loss: 1469.2205\n",
      "Epoch 350/500\n",
      "28/28 [==============================] - 0s 4ms/step - loss: 131.6553 - val_loss: 1469.9126\n",
      "Epoch 351/500\n",
      "28/28 [==============================] - 0s 4ms/step - loss: 131.6447 - val_loss: 1470.5311\n",
      "Epoch 352/500\n",
      "28/28 [==============================] - 0s 7ms/step - loss: 131.6356 - val_loss: 1471.0834\n",
      "Epoch 353/500\n",
      "28/28 [==============================] - 0s 4ms/step - loss: 131.6276 - val_loss: 1471.5764\n",
      "Epoch 354/500\n",
      "28/28 [==============================] - 0s 6ms/step - loss: 131.6207 - val_loss: 1472.0160\n",
      "Epoch 355/500\n",
      "28/28 [==============================] - 0s 5ms/step - loss: 131.6148 - val_loss: 1472.4089\n",
      "Epoch 356/500\n",
      "28/28 [==============================] - 0s 5ms/step - loss: 131.6095 - val_loss: 1472.7585\n",
      "Epoch 357/500\n",
      "28/28 [==============================] - 0s 4ms/step - loss: 131.6051 - val_loss: 1473.0717\n",
      "Epoch 358/500\n",
      "28/28 [==============================] - 0s 5ms/step - loss: 131.6011 - val_loss: 1473.3506\n",
      "Epoch 359/500\n",
      "28/28 [==============================] - 0s 5ms/step - loss: 131.5976 - val_loss: 1473.6000\n",
      "Epoch 360/500\n",
      "28/28 [==============================] - 0s 4ms/step - loss: 131.5947 - val_loss: 1473.8217\n",
      "Epoch 361/500\n",
      "28/28 [==============================] - 0s 7ms/step - loss: 131.5920 - val_loss: 1474.0199\n",
      "Epoch 362/500\n",
      "28/28 [==============================] - 0s 4ms/step - loss: 131.5895 - val_loss: 1474.1960\n",
      "Epoch 363/500\n",
      "28/28 [==============================] - 0s 5ms/step - loss: 131.5875 - val_loss: 1474.3538\n",
      "Epoch 364/500\n",
      "28/28 [==============================] - 0s 4ms/step - loss: 131.5857 - val_loss: 1474.4946\n",
      "Epoch 365/500\n",
      "28/28 [==============================] - 0s 5ms/step - loss: 131.5841 - val_loss: 1474.6200\n",
      "Epoch 366/500\n",
      "28/28 [==============================] - 0s 4ms/step - loss: 131.5827 - val_loss: 1474.7307\n",
      "Epoch 367/500\n",
      "28/28 [==============================] - 0s 4ms/step - loss: 131.5814 - val_loss: 1474.8301\n",
      "Epoch 368/500\n",
      "28/28 [==============================] - 0s 4ms/step - loss: 131.5804 - val_loss: 1474.9182\n",
      "Epoch 369/500\n",
      "28/28 [==============================] - 0s 4ms/step - loss: 131.5794 - val_loss: 1474.9979\n",
      "Epoch 370/500\n",
      "28/28 [==============================] - 0s 4ms/step - loss: 131.5785 - val_loss: 1475.0680\n",
      "Epoch 371/500\n",
      "28/28 [==============================] - 0s 8ms/step - loss: 131.5777 - val_loss: 1475.1295\n",
      "Epoch 372/500\n",
      "28/28 [==============================] - 0s 5ms/step - loss: 131.5770 - val_loss: 1475.1858\n",
      "Epoch 373/500\n",
      "28/28 [==============================] - 0s 4ms/step - loss: 131.5764 - val_loss: 1475.2345\n",
      "Epoch 374/500\n",
      "28/28 [==============================] - 0s 4ms/step - loss: 131.5759 - val_loss: 1475.2778\n",
      "Epoch 375/500\n",
      "28/28 [==============================] - 0s 4ms/step - loss: 131.5755 - val_loss: 1475.3165\n",
      "Epoch 376/500\n",
      "28/28 [==============================] - 0s 4ms/step - loss: 131.5750 - val_loss: 1475.3503\n",
      "Epoch 377/500\n",
      "28/28 [==============================] - 0s 4ms/step - loss: 131.5747 - val_loss: 1475.3800\n",
      "Epoch 378/500\n",
      "28/28 [==============================] - 0s 4ms/step - loss: 131.5744 - val_loss: 1475.4071\n",
      "Epoch 379/500\n",
      "28/28 [==============================] - 0s 4ms/step - loss: 131.5740 - val_loss: 1475.4299\n",
      "Epoch 380/500\n",
      "28/28 [==============================] - 0s 4ms/step - loss: 131.5738 - val_loss: 1475.4502\n",
      "Epoch 381/500\n",
      "28/28 [==============================] - 0s 4ms/step - loss: 131.5736 - val_loss: 1475.4685\n",
      "Epoch 382/500\n",
      "28/28 [==============================] - 0s 4ms/step - loss: 131.5734 - val_loss: 1475.4844\n",
      "Epoch 383/500\n",
      "28/28 [==============================] - 0s 5ms/step - loss: 131.5732 - val_loss: 1475.4978\n",
      "Epoch 384/500\n",
      "28/28 [==============================] - 0s 5ms/step - loss: 131.5731 - val_loss: 1475.5104\n",
      "Epoch 385/500\n",
      "28/28 [==============================] - 0s 5ms/step - loss: 131.5729 - val_loss: 1475.5214\n",
      "Epoch 386/500\n",
      "28/28 [==============================] - 0s 6ms/step - loss: 131.5728 - val_loss: 1475.5389\n",
      "Epoch 387/500\n",
      "28/28 [==============================] - 0s 7ms/step - loss: 131.5726 - val_loss: 1475.6561\n",
      "Epoch 388/500\n",
      "28/28 [==============================] - 0s 5ms/step - loss: 131.5726 - val_loss: 1475.5055\n",
      "Epoch 389/500\n",
      "28/28 [==============================] - 0s 4ms/step - loss: 131.5726 - val_loss: 1475.5022\n",
      "Epoch 390/500\n",
      "28/28 [==============================] - 0s 4ms/step - loss: 131.5725 - val_loss: 1475.4839\n",
      "Epoch 391/500\n",
      "28/28 [==============================] - 0s 7ms/step - loss: 131.5683 - val_loss: 1471.9863\n",
      "Epoch 392/500\n",
      "28/28 [==============================] - 0s 4ms/step - loss: 132.3066 - val_loss: 1475.6270\n",
      "Epoch 393/500\n",
      "28/28 [==============================] - 0s 4ms/step - loss: 131.5716 - val_loss: 1475.5933\n",
      "Epoch 394/500\n",
      "28/28 [==============================] - 0s 4ms/step - loss: 131.5709 - val_loss: 1475.4601\n",
      "Epoch 395/500\n",
      "28/28 [==============================] - 0s 4ms/step - loss: 131.5710 - val_loss: 1472.9901\n",
      "Epoch 396/500\n",
      "28/28 [==============================] - 0s 4ms/step - loss: 131.5735 - val_loss: 1477.0223\n",
      "Epoch 397/500\n",
      "28/28 [==============================] - 0s 5ms/step - loss: 131.5712 - val_loss: 1477.0151\n",
      "Epoch 398/500\n",
      "28/28 [==============================] - 0s 4ms/step - loss: 131.5713 - val_loss: 1477.0094\n",
      "Epoch 399/500\n",
      "28/28 [==============================] - 0s 4ms/step - loss: 131.5713 - val_loss: 1477.0039\n",
      "Epoch 400/500\n",
      "28/28 [==============================] - 0s 4ms/step - loss: 131.5715 - val_loss: 1476.9988\n",
      "Epoch 401/500\n",
      "28/28 [==============================] - 0s 4ms/step - loss: 131.5715 - val_loss: 1476.9946\n",
      "Epoch 402/500\n",
      "28/28 [==============================] - 0s 4ms/step - loss: 131.5716 - val_loss: 1476.9910\n",
      "Epoch 403/500\n",
      "28/28 [==============================] - 0s 4ms/step - loss: 131.5716 - val_loss: 1476.9875\n",
      "Epoch 404/500\n",
      "28/28 [==============================] - 0s 4ms/step - loss: 131.5717 - val_loss: 1476.9844\n",
      "Epoch 405/500\n",
      "28/28 [==============================] - 0s 4ms/step - loss: 131.5717 - val_loss: 1476.9819\n",
      "Epoch 406/500\n",
      "28/28 [==============================] - 0s 4ms/step - loss: 131.5717 - val_loss: 1476.9795\n",
      "Epoch 407/500\n",
      "28/28 [==============================] - 0s 4ms/step - loss: 131.5718 - val_loss: 1476.9767\n",
      "Epoch 408/500\n",
      "28/28 [==============================] - 0s 4ms/step - loss: 131.5718 - val_loss: 1476.9747\n",
      "Epoch 409/500\n",
      "28/28 [==============================] - 0s 4ms/step - loss: 131.5719 - val_loss: 1476.9731\n",
      "Epoch 410/500\n",
      "28/28 [==============================] - 0s 5ms/step - loss: 131.5719 - val_loss: 1476.9714\n",
      "Epoch 411/500\n",
      "28/28 [==============================] - 0s 4ms/step - loss: 131.5719 - val_loss: 1476.9694\n",
      "Epoch 412/500\n",
      "28/28 [==============================] - 0s 4ms/step - loss: 131.5719 - val_loss: 1476.9675\n",
      "Epoch 413/500\n",
      "28/28 [==============================] - 0s 4ms/step - loss: 131.5720 - val_loss: 1476.9666\n",
      "Epoch 414/500\n",
      "28/28 [==============================] - 0s 4ms/step - loss: 131.5719 - val_loss: 1476.9652\n",
      "Epoch 415/500\n",
      "28/28 [==============================] - 0s 4ms/step - loss: 131.5720 - val_loss: 1476.9639\n",
      "Epoch 416/500\n",
      "28/28 [==============================] - 0s 4ms/step - loss: 131.5720 - val_loss: 1476.9633\n",
      "Epoch 417/500\n",
      "28/28 [==============================] - 0s 4ms/step - loss: 131.5720 - val_loss: 1476.9615\n",
      "Epoch 418/500\n",
      "28/28 [==============================] - 0s 4ms/step - loss: 131.5721 - val_loss: 1476.9604\n",
      "Epoch 419/500\n",
      "28/28 [==============================] - 0s 4ms/step - loss: 131.5721 - val_loss: 1476.9587\n",
      "Epoch 420/500\n",
      "28/28 [==============================] - 0s 4ms/step - loss: 131.5721 - val_loss: 1476.9581\n",
      "Epoch 421/500\n",
      "28/28 [==============================] - 0s 4ms/step - loss: 131.5721 - val_loss: 1476.9578\n",
      "Epoch 422/500\n",
      "28/28 [==============================] - 0s 4ms/step - loss: 131.5721 - val_loss: 1476.9573\n",
      "Epoch 423/500\n",
      "28/28 [==============================] - 0s 4ms/step - loss: 131.5721 - val_loss: 1476.9568\n",
      "Epoch 424/500\n",
      "28/28 [==============================] - 0s 4ms/step - loss: 131.5721 - val_loss: 1476.9561\n",
      "Epoch 425/500\n",
      "28/28 [==============================] - 0s 4ms/step - loss: 131.5722 - val_loss: 1476.9554\n",
      "Epoch 426/500\n",
      "28/28 [==============================] - 0s 4ms/step - loss: 131.5722 - val_loss: 1476.9551\n",
      "Epoch 427/500\n",
      "28/28 [==============================] - 0s 4ms/step - loss: 131.5722 - val_loss: 1476.9545\n",
      "Epoch 428/500\n",
      "28/28 [==============================] - 0s 4ms/step - loss: 131.5722 - val_loss: 1476.9536\n",
      "Epoch 429/500\n",
      "28/28 [==============================] - 0s 4ms/step - loss: 131.5722 - val_loss: 1476.9534\n",
      "Epoch 430/500\n",
      "28/28 [==============================] - 0s 4ms/step - loss: 131.5722 - val_loss: 1476.9528\n",
      "Epoch 431/500\n",
      "28/28 [==============================] - 0s 7ms/step - loss: 131.5722 - val_loss: 1476.9525\n",
      "Epoch 432/500\n",
      "28/28 [==============================] - 0s 4ms/step - loss: 131.5722 - val_loss: 1476.9520\n",
      "Epoch 433/500\n",
      "28/28 [==============================] - 0s 4ms/step - loss: 131.5722 - val_loss: 1476.9514\n",
      "Epoch 434/500\n",
      "28/28 [==============================] - 0s 4ms/step - loss: 131.5723 - val_loss: 1476.9500\n",
      "Epoch 435/500\n",
      "28/28 [==============================] - 0s 4ms/step - loss: 131.5723 - val_loss: 1476.9500\n",
      "Epoch 436/500\n",
      "28/28 [==============================] - 0s 4ms/step - loss: 131.5723 - val_loss: 1476.9497\n",
      "Epoch 437/500\n",
      "28/28 [==============================] - 0s 4ms/step - loss: 131.5723 - val_loss: 1476.9495\n",
      "Epoch 438/500\n",
      "28/28 [==============================] - 0s 4ms/step - loss: 131.5723 - val_loss: 1476.9489\n",
      "Epoch 439/500\n",
      "28/28 [==============================] - 0s 5ms/step - loss: 131.5723 - val_loss: 1476.9486\n",
      "Epoch 440/500\n",
      "28/28 [==============================] - 0s 4ms/step - loss: 131.5722 - val_loss: 1476.9480\n",
      "Epoch 441/500\n",
      "28/28 [==============================] - 0s 4ms/step - loss: 131.5723 - val_loss: 1476.9475\n",
      "Epoch 442/500\n",
      "28/28 [==============================] - 0s 4ms/step - loss: 131.5722 - val_loss: 1476.9463\n",
      "Epoch 443/500\n",
      "28/28 [==============================] - 0s 4ms/step - loss: 131.5722 - val_loss: 1476.9452\n",
      "Epoch 444/500\n",
      "28/28 [==============================] - 0s 4ms/step - loss: 131.5723 - val_loss: 1476.9446\n",
      "Epoch 445/500\n",
      "28/28 [==============================] - 0s 4ms/step - loss: 131.5723 - val_loss: 1476.9437\n",
      "Epoch 446/500\n",
      "28/28 [==============================] - 0s 4ms/step - loss: 131.5723 - val_loss: 1476.9424\n",
      "Epoch 447/500\n",
      "28/28 [==============================] - 0s 4ms/step - loss: 131.5723 - val_loss: 1476.9415\n",
      "Epoch 448/500\n",
      "28/28 [==============================] - 0s 4ms/step - loss: 131.5723 - val_loss: 1476.9407\n",
      "Epoch 449/500\n",
      "28/28 [==============================] - 0s 8ms/step - loss: 131.5723 - val_loss: 1476.9399\n",
      "Epoch 450/500\n",
      "28/28 [==============================] - 0s 5ms/step - loss: 131.5723 - val_loss: 1476.9387\n",
      "Epoch 451/500\n",
      "28/28 [==============================] - 0s 4ms/step - loss: 131.5723 - val_loss: 1476.9376\n",
      "Epoch 452/500\n",
      "28/28 [==============================] - 0s 5ms/step - loss: 131.5723 - val_loss: 1476.9364\n",
      "Epoch 453/500\n",
      "28/28 [==============================] - 0s 4ms/step - loss: 131.5723 - val_loss: 1476.9349\n",
      "Epoch 454/500\n",
      "28/28 [==============================] - 0s 4ms/step - loss: 131.5723 - val_loss: 1476.9335\n",
      "Epoch 455/500\n",
      "28/28 [==============================] - 0s 4ms/step - loss: 131.5723 - val_loss: 1476.9319\n",
      "Epoch 456/500\n",
      "28/28 [==============================] - 0s 4ms/step - loss: 131.5723 - val_loss: 1476.9303\n",
      "Epoch 457/500\n",
      "28/28 [==============================] - 0s 4ms/step - loss: 131.5723 - val_loss: 1476.9287\n",
      "Epoch 458/500\n",
      "28/28 [==============================] - 0s 4ms/step - loss: 131.5723 - val_loss: 1476.9265\n",
      "Epoch 459/500\n",
      "28/28 [==============================] - 0s 4ms/step - loss: 131.5723 - val_loss: 1476.9244\n",
      "Epoch 460/500\n",
      "28/28 [==============================] - 0s 4ms/step - loss: 131.5723 - val_loss: 1476.9219\n",
      "Epoch 461/500\n",
      "28/28 [==============================] - 0s 4ms/step - loss: 131.5723 - val_loss: 1476.9191\n",
      "Epoch 462/500\n",
      "28/28 [==============================] - 0s 4ms/step - loss: 131.5723 - val_loss: 1476.9160\n",
      "Epoch 463/500\n",
      "28/28 [==============================] - 0s 4ms/step - loss: 131.5723 - val_loss: 1476.9126\n",
      "Epoch 464/500\n",
      "28/28 [==============================] - 0s 4ms/step - loss: 131.5723 - val_loss: 1476.9086\n",
      "Epoch 465/500\n",
      "28/28 [==============================] - 0s 4ms/step - loss: 131.5723 - val_loss: 1476.9039\n",
      "Epoch 466/500\n",
      "28/28 [==============================] - 0s 4ms/step - loss: 131.5723 - val_loss: 1476.8989\n",
      "Epoch 467/500\n",
      "28/28 [==============================] - 0s 4ms/step - loss: 131.5724 - val_loss: 1476.8925\n",
      "Epoch 468/500\n",
      "28/28 [==============================] - 0s 4ms/step - loss: 131.5724 - val_loss: 1476.8849\n",
      "Epoch 469/500\n",
      "28/28 [==============================] - 0s 4ms/step - loss: 131.5724 - val_loss: 1476.8750\n",
      "Epoch 470/500\n",
      "28/28 [==============================] - 0s 4ms/step - loss: 131.5724 - val_loss: 1476.8622\n",
      "Epoch 471/500\n",
      "28/28 [==============================] - 0s 4ms/step - loss: 131.5724 - val_loss: 1476.8450\n",
      "Epoch 472/500\n",
      "28/28 [==============================] - 0s 7ms/step - loss: 131.5723 - val_loss: 1476.8198\n",
      "Epoch 473/500\n",
      "28/28 [==============================] - 0s 5ms/step - loss: 131.5723 - val_loss: 1476.7791\n",
      "Epoch 474/500\n",
      "28/28 [==============================] - 0s 4ms/step - loss: 131.5724 - val_loss: 1476.6998\n",
      "Epoch 475/500\n",
      "28/28 [==============================] - 0s 5ms/step - loss: 131.5724 - val_loss: 1476.4366\n",
      "Epoch 476/500\n",
      "28/28 [==============================] - 0s 4ms/step - loss: 131.5667 - val_loss: 1472.5684\n",
      "Epoch 477/500\n",
      "28/28 [==============================] - 0s 4ms/step - loss: 131.5731 - val_loss: 1476.9969\n",
      "Epoch 478/500\n",
      "28/28 [==============================] - 0s 4ms/step - loss: 131.5723 - val_loss: 1476.9961\n",
      "Epoch 479/500\n",
      "28/28 [==============================] - 0s 4ms/step - loss: 131.5723 - val_loss: 1476.9948\n",
      "Epoch 480/500\n",
      "28/28 [==============================] - 0s 4ms/step - loss: 131.5723 - val_loss: 1476.9933\n",
      "Epoch 481/500\n",
      "28/28 [==============================] - 0s 4ms/step - loss: 131.5723 - val_loss: 1476.9924\n",
      "Epoch 482/500\n",
      "28/28 [==============================] - 0s 4ms/step - loss: 131.5724 - val_loss: 1476.9919\n",
      "Epoch 483/500\n",
      "28/28 [==============================] - 0s 4ms/step - loss: 131.5723 - val_loss: 1476.9918\n",
      "Epoch 484/500\n",
      "28/28 [==============================] - 0s 4ms/step - loss: 131.5723 - val_loss: 1476.9913\n",
      "Epoch 485/500\n",
      "28/28 [==============================] - 0s 4ms/step - loss: 131.5724 - val_loss: 1476.9907\n",
      "Epoch 486/500\n",
      "28/28 [==============================] - 0s 4ms/step - loss: 131.5724 - val_loss: 1476.9906\n",
      "Epoch 487/500\n",
      "28/28 [==============================] - 0s 4ms/step - loss: 131.5724 - val_loss: 1476.9901\n",
      "Epoch 488/500\n",
      "28/28 [==============================] - 0s 4ms/step - loss: 131.5724 - val_loss: 1476.9901\n",
      "Epoch 489/500\n",
      "28/28 [==============================] - 0s 4ms/step - loss: 131.5724 - val_loss: 1476.9899\n",
      "Epoch 490/500\n",
      "28/28 [==============================] - 0s 8ms/step - loss: 131.5724 - val_loss: 1476.9899\n",
      "Epoch 491/500\n",
      "28/28 [==============================] - 0s 4ms/step - loss: 131.5724 - val_loss: 1476.9897\n",
      "Epoch 492/500\n",
      "28/28 [==============================] - 0s 4ms/step - loss: 131.5724 - val_loss: 1476.9896\n",
      "Epoch 493/500\n",
      "28/28 [==============================] - 0s 4ms/step - loss: 131.5724 - val_loss: 1476.9894\n",
      "Epoch 494/500\n",
      "28/28 [==============================] - 0s 4ms/step - loss: 131.5724 - val_loss: 1476.9894\n",
      "Epoch 495/500\n",
      "28/28 [==============================] - 0s 4ms/step - loss: 131.5724 - val_loss: 1476.9891\n",
      "Epoch 496/500\n",
      "28/28 [==============================] - 0s 4ms/step - loss: 131.5724 - val_loss: 1476.9890\n",
      "Epoch 497/500\n",
      "28/28 [==============================] - 0s 4ms/step - loss: 131.5724 - val_loss: 1476.9888\n",
      "Epoch 498/500\n",
      "28/28 [==============================] - 0s 4ms/step - loss: 131.5724 - val_loss: 1476.9888\n",
      "Epoch 499/500\n",
      "28/28 [==============================] - 0s 4ms/step - loss: 131.5724 - val_loss: 1476.9885\n",
      "Epoch 500/500\n",
      "28/28 [==============================] - 0s 4ms/step - loss: 131.5724 - val_loss: 1476.9884\n"
     ]
    }
   ],
   "source": [
    "C0 = tf.Variable(85.7336, name=\"C0\", trainable=True, dtype=tf.float32)\n",
    "K0 = tf.Variable(-0.0020, name=\"K0\", trainable=True, dtype=tf.float32)\n",
    "K1 = tf.Variable(-0.0002, name=\"K1\", trainable=True, dtype=tf.float32)\n",
    "a = tf.Variable(0.0000, name=\"a\", trainable=True, dtype=tf.float32)\n",
    "b = tf.Variable(0.0125, name=\"b\", trainable=True, dtype=tf.float32)\n",
    "c = tf.Variable(2.3008, name=\"c\", trainable=True, dtype=tf.float32)\n",
    "\n",
    "splitr = 0.8\n",
    "\n",
    "\n",
    "def loss_fn(y_true, y_pred):\n",
    "    squared_difference = tf.square(y_true[:, 0] - y_pred[:, 0])\n",
    "    #squared_difference2 = tf.square(y_true[:, 2]-y_pred[:, 2])\n",
    "    #squared_difference1 = tf.square(y_true[:, 1]-y_pred[:, 1])\n",
    "    epsilon = 1\n",
    "    squared_difference3 = tf.square(\n",
    "        y_pred[:, 1] - (\n",
    "            y_pred[:, 0] * (\n",
    "                K0 - K1 * (\n",
    "                    9 * a * tf.math.log((y_pred[:, 0] + epsilon) / C0) / (K0 - K1 * c)**2 +\n",
    "                    4 * b * tf.math.log((y_pred[:, 0] + epsilon) / C0) / (K0 - K1 * c) + c\n",
    "                )\n",
    "            )\n",
    "        )\n",
    "    )\n",
    "    return tf.reduce_mean(squared_difference, axis=-1) + 0.2*tf.reduce_mean(squared_difference3, axis=-1)\n",
    "model = Sequential()\n",
    "model.add(LSTM(100, input_shape=(trainX.shape[1], trainX.shape[2])))\n",
    "model.add(Dense(60))\n",
    "model.compile(loss=loss_fn, optimizer='adam')\n",
    "history = model.fit(trainX[:int(splitr*trainX.shape[0])], trainy[:int(splitr*trainX.shape[0])], epochs=500, batch_size=64, validation_data=(trainX[int(splitr*trainX.shape[0]):trainX.shape[0]], trainy[int(splitr*trainX.shape[0]):trainX.shape[0]]), shuffle=False)"
   ]
  },
  {
   "cell_type": "code",
   "execution_count": 19,
   "metadata": {
    "colab": {
     "base_uri": "https://localhost:8080/"
    },
    "id": "yJL101rPyuoT",
    "outputId": "239ff2b1-c186-423a-d316-939dfdd7c793"
   },
   "outputs": [
    {
     "name": "stdout",
     "output_type": "stream",
     "text": [
      "1/1 [==============================] - 0s 371ms/step\n"
     ]
    }
   ],
   "source": [
    "forecast_without_mc = forecastX\n",
    "yhat_without_mc = model.predict(forecast_without_mc) # Step Ahead Prediction\n",
    "forecast_without_mc = forecast_without_mc.reshape((forecast_without_mc.shape[0], forecast_without_mc.shape[2])) # Historical Input"
   ]
  },
  {
   "cell_type": "code",
   "execution_count": 20,
   "metadata": {
    "colab": {
     "base_uri": "https://localhost:8080/"
    },
    "id": "g9dQELcJ8wbp",
    "outputId": "4dc7671b-b1a8-48d5-8744-a86f98446109"
   },
   "outputs": [
    {
     "data": {
      "text/plain": [
       "(1, 1, 126)"
      ]
     },
     "execution_count": 20,
     "metadata": {},
     "output_type": "execute_result"
    }
   ],
   "source": [
    "forecastX.shape"
   ]
  },
  {
   "cell_type": "code",
   "execution_count": 21,
   "metadata": {
    "colab": {
     "base_uri": "https://localhost:8080/"
    },
    "id": "IS2kyIKG1Kbr",
    "outputId": "f31b3485-8e26-452f-9298-ea8bf7e80ad1"
   },
   "outputs": [
    {
     "data": {
      "text/plain": [
       "(1, 126)"
      ]
     },
     "execution_count": 21,
     "metadata": {},
     "output_type": "execute_result"
    }
   ],
   "source": [
    "forecast_without_mc.shape"
   ]
  },
  {
   "cell_type": "code",
   "execution_count": 22,
   "metadata": {
    "id": "0u6VIzaDyuoT"
   },
   "outputs": [],
   "source": [
    "inv_yhat_without_mc = np.concatenate((forecast_without_mc, yhat_without_mc), axis=1) # Concatenation of predicted values with Historical Data\n",
    "#inv_yhat_without_mc = scaler.inverse_transform(inv_yhat_without_mc) # Transform labels back to original encoding"
   ]
  },
  {
   "cell_type": "code",
   "execution_count": 23,
   "metadata": {
    "colab": {
     "base_uri": "https://localhost:8080/"
    },
    "id": "EUEcw0LX07oU",
    "outputId": "cfc32397-9c37-4b43-d087-584bb31c3dcc"
   },
   "outputs": [
    {
     "data": {
      "text/plain": [
       "(1, 186)"
      ]
     },
     "execution_count": 23,
     "metadata": {},
     "output_type": "execute_result"
    }
   ],
   "source": [
    "inv_yhat_without_mc.shape"
   ]
  },
  {
   "cell_type": "code",
   "execution_count": 24,
   "metadata": {
    "id": "31OWVbSh_305"
   },
   "outputs": [],
   "source": [
    "fforecast = inv_yhat_without_mc[:,-150:]"
   ]
  },
  {
   "cell_type": "code",
   "execution_count": 25,
   "metadata": {},
   "outputs": [
    {
     "data": {
      "text/plain": [
       "(1, 150)"
      ]
     },
     "execution_count": 25,
     "metadata": {},
     "output_type": "execute_result"
    }
   ],
   "source": [
    "fforecast.shape"
   ]
  },
  {
   "cell_type": "code",
   "execution_count": 26,
   "metadata": {
    "id": "BlpGH2FOAiRF"
   },
   "outputs": [],
   "source": [
    "final_forecast = fforecast[:,0:150:3]"
   ]
  },
  {
   "cell_type": "code",
   "execution_count": 27,
   "metadata": {},
   "outputs": [
    {
     "data": {
      "text/plain": [
       "(1, 150)"
      ]
     },
     "execution_count": 27,
     "metadata": {},
     "output_type": "execute_result"
    }
   ],
   "source": [
    "fforecast.shape"
   ]
  },
  {
   "cell_type": "code",
   "execution_count": 28,
   "metadata": {
    "id": "CXkgkj_LBk_t"
   },
   "outputs": [],
   "source": [
    "# code to replace all negative value with 0\n",
    "final_forecast[final_forecast<0] = 0"
   ]
  },
  {
   "cell_type": "code",
   "execution_count": 29,
   "metadata": {},
   "outputs": [
    {
     "data": {
      "text/plain": [
       "array([[1.43447533e-01, 6.41632120e+01, 6.40623716e+01, 6.39615313e+01,\n",
       "        6.37820728e+01, 6.34795518e+01, 6.31770308e+01, 6.28745098e+01,\n",
       "        6.26466620e+01, 6.25206116e+01, 1.80943000e-01, 1.86248840e-01,\n",
       "        6.36028011e+01, 6.33002801e+01, 6.29977591e+01, 6.26960159e+01,\n",
       "        6.25719655e+01, 6.24449150e+01, 6.23198646e+01, 6.21876284e+01,\n",
       "        6.19355275e+01, 3.55150253e-01, 2.78546482e-01, 5.85645638e+01,\n",
       "        3.60960543e-01, 0.00000000e+00, 0.00000000e+00, 8.31274509e-01,\n",
       "        4.89992410e-01, 0.00000000e+00, 6.29430618e+01, 1.81835026e-01,\n",
       "        5.48016667e-01, 1.89595520e-01, 0.00000000e+00, 0.00000000e+00,\n",
       "        0.00000000e+00, 6.76804662e-01, 1.80284068e-01, 0.00000000e+00,\n",
       "        0.00000000e+00, 4.70446527e-01, 4.68440093e-02, 0.00000000e+00,\n",
       "        0.00000000e+00, 1.02905059e+00, 0.00000000e+00, 0.00000000e+00,\n",
       "        0.00000000e+00, 1.10687762e-01]])"
      ]
     },
     "execution_count": 29,
     "metadata": {},
     "output_type": "execute_result"
    }
   ],
   "source": [
    "final_forecast"
   ]
  },
  {
   "cell_type": "code",
   "execution_count": 30,
   "metadata": {},
   "outputs": [
    {
     "data": {
      "text/plain": [
       "(1, 50)"
      ]
     },
     "execution_count": 30,
     "metadata": {},
     "output_type": "execute_result"
    }
   ],
   "source": [
    "final_forecast.shape"
   ]
  },
  {
   "cell_type": "code",
   "execution_count": 31,
   "metadata": {},
   "outputs": [
    {
     "data": {
      "text/plain": [
       "(50,)"
      ]
     },
     "execution_count": 31,
     "metadata": {},
     "output_type": "execute_result"
    }
   ],
   "source": [
    "test.shape"
   ]
  },
  {
   "cell_type": "code",
   "execution_count": 32,
   "metadata": {},
   "outputs": [],
   "source": [
    "training_set = np.array(training_set)\n",
    "test = np.array(test)\n",
    "final_forecast = np.array(final_forecast.squeeze(0))"
   ]
  },
  {
   "cell_type": "code",
   "execution_count": 33,
   "metadata": {},
   "outputs": [
    {
     "data": {
      "text/plain": [
       "array([55.74189383, 55.73287559, 55.72385735, 55.71483911, 55.70582086,\n",
       "       55.69680262, 55.68778438, 55.67876614, 55.6697479 , 55.66072966,\n",
       "       55.65171142, 55.64269317, 55.63367493, 55.62465669, 55.61563845,\n",
       "       55.60662021, 55.59760197, 55.58858373, 55.57956548, 55.57054724,\n",
       "       55.561529  , 55.55251076, 55.54349252, 55.53447428, 55.52545604,\n",
       "       55.51643779, 55.50741955, 55.49840131, 55.48938307, 55.48036483,\n",
       "       55.47134659, 55.46232835, 55.4533101 , 55.44429186, 55.43527362,\n",
       "       55.42625538, 55.41723714, 55.4082189 , 55.39920066, 55.39018241,\n",
       "       55.38116417, 55.37214593, 55.36312769, 55.35410945, 55.34509121,\n",
       "       55.33607297, 55.32705472, 55.31803648, 55.30901824, 55.3       ])"
      ]
     },
     "execution_count": 33,
     "metadata": {},
     "output_type": "execute_result"
    }
   ],
   "source": [
    "test"
   ]
  },
  {
   "cell_type": "code",
   "execution_count": 34,
   "metadata": {},
   "outputs": [
    {
     "data": {
      "text/plain": [
       "(50,)"
      ]
     },
     "execution_count": 34,
     "metadata": {},
     "output_type": "execute_result"
    }
   ],
   "source": [
    "test.shape"
   ]
  },
  {
   "cell_type": "code",
   "execution_count": 35,
   "metadata": {},
   "outputs": [
    {
     "data": {
      "text/plain": [
       "(50,)"
      ]
     },
     "execution_count": 35,
     "metadata": {},
     "output_type": "execute_result"
    }
   ],
   "source": [
    "final_forecast.shape"
   ]
  },
  {
   "cell_type": "code",
   "execution_count": 36,
   "metadata": {},
   "outputs": [
    {
     "data": {
      "text/plain": [
       "(50,)"
      ]
     },
     "execution_count": 36,
     "metadata": {},
     "output_type": "execute_result"
    }
   ],
   "source": [
    "test.shape"
   ]
  },
  {
   "cell_type": "code",
   "execution_count": 37,
   "metadata": {},
   "outputs": [
    {
     "name": "stdout",
     "output_type": "stream",
     "text": [
      "43.033536494778865\n",
      "36.014164590360835\n"
     ]
    }
   ],
   "source": [
    "import math\n",
    "MSE = np.square(np.subtract(np.array(test),np.array(final_forecast))).mean()   \n",
    "rsme = math.sqrt(MSE)\n",
    "print(rsme)  \n",
    "MAE = np.abs(np.subtract(np.array(test),np.array(final_forecast))).mean()   \n",
    "mae = MAE\n",
    "print(mae)"
   ]
  }
 ],
 "metadata": {
  "colab": {
   "provenance": []
  },
  "kernelspec": {
   "display_name": "Python 3",
   "language": "python",
   "name": "python3"
  },
  "language_info": {
   "codemirror_mode": {
    "name": "ipython",
    "version": 3
   },
   "file_extension": ".py",
   "mimetype": "text/x-python",
   "name": "python",
   "nbconvert_exporter": "python",
   "pygments_lexer": "ipython3",
   "version": "3.9.13"
  }
 },
 "nbformat": 4,
 "nbformat_minor": 0
}
