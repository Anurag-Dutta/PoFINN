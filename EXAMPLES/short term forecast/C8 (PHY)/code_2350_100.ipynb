{
 "cells": [
  {
   "cell_type": "markdown",
   "metadata": {
    "id": "pCGKeZ2gyuoQ"
   },
   "source": [
    "_Importing Required Libraries_"
   ]
  },
  {
   "cell_type": "code",
   "execution_count": 1,
   "metadata": {
    "colab": {
     "base_uri": "https://localhost:8080/"
    },
    "id": "A-6LN-zXiLcM",
    "outputId": "4de610a4-f8b8-4f49-c6c0-89de299ccedc"
   },
   "outputs": [
    {
     "name": "stdout",
     "output_type": "stream",
     "text": [
      "Requirement already satisfied: hampel in c:\\users\\anurag dutta\\appdata\\local\\packages\\pythonsoftwarefoundation.python.3.9_qbz5n2kfra8p0\\localcache\\local-packages\\python39\\site-packages (0.0.5)\n",
      "Requirement already satisfied: numpy in c:\\users\\anurag dutta\\appdata\\local\\packages\\pythonsoftwarefoundation.python.3.9_qbz5n2kfra8p0\\localcache\\local-packages\\python39\\site-packages (from hampel) (1.26.4)\n",
      "Requirement already satisfied: pandas in c:\\users\\anurag dutta\\appdata\\local\\packages\\pythonsoftwarefoundation.python.3.9_qbz5n2kfra8p0\\localcache\\local-packages\\python39\\site-packages (from hampel) (1.5.2)\n",
      "Requirement already satisfied: python-dateutil>=2.8.1 in c:\\users\\anurag dutta\\appdata\\local\\packages\\pythonsoftwarefoundation.python.3.9_qbz5n2kfra8p0\\localcache\\local-packages\\python39\\site-packages (from pandas->hampel) (2.8.2)\n",
      "Requirement already satisfied: pytz>=2020.1 in c:\\users\\anurag dutta\\appdata\\local\\packages\\pythonsoftwarefoundation.python.3.9_qbz5n2kfra8p0\\localcache\\local-packages\\python39\\site-packages (from pandas->hampel) (2023.3.post1)\n",
      "Requirement already satisfied: six>=1.5 in c:\\users\\anurag dutta\\appdata\\local\\packages\\pythonsoftwarefoundation.python.3.9_qbz5n2kfra8p0\\localcache\\local-packages\\python39\\site-packages (from python-dateutil>=2.8.1->pandas->hampel) (1.16.0)Note: you may need to restart the kernel to use updated packages.\n"
     ]
    },
    {
     "name": "stderr",
     "output_type": "stream",
     "text": [
      "\n",
      "[notice] A new release of pip is available: 24.2 -> 24.3.1\n",
      "[notice] To update, run: C:\\Users\\Anurag Dutta\\AppData\\Local\\Microsoft\\WindowsApps\\PythonSoftwareFoundation.Python.3.9_qbz5n2kfra8p0\\python.exe -m pip install --upgrade pip\n"
     ]
    },
    {
     "name": "stdout",
     "output_type": "stream",
     "text": [
      "\n"
     ]
    }
   ],
   "source": [
    "pip install hampel"
   ]
  },
  {
   "cell_type": "code",
   "execution_count": 2,
   "metadata": {
    "id": "By_d9uXpaFvZ"
   },
   "outputs": [],
   "source": [
    "from keras.models import Sequential\n",
    "from keras.layers import Dense\n",
    "from keras.layers import LSTM\n",
    "from keras.layers import Dropout\n",
    "import keras\n",
    "import tensorflow as tf\n",
    "from hampel import hampel\n",
    "import numpy as np\n",
    "import matplotlib.pyplot as plt\n",
    "import pandas as pd\n",
    "from sklearn.preprocessing import MinMaxScaler\n",
    "from sklearn.metrics import mean_squared_error, mean_absolute_error\n",
    "from math import sqrt\n",
    "from matplotlib import pyplot\n",
    "from numpy import array"
   ]
  },
  {
   "cell_type": "markdown",
   "metadata": {
    "id": "JyOjBMFayuoR"
   },
   "source": [
    "## Pretraining"
   ]
  },
  {
   "cell_type": "markdown",
   "metadata": {
    "id": "-5QqIY_GyuoR"
   },
   "source": [
    "The `capa_intermittency.dat` feeds the model with the dynamics of the Capacitor"
   ]
  },
  {
   "cell_type": "code",
   "execution_count": 3,
   "metadata": {
    "id": "9dV4a8yfyuoR"
   },
   "outputs": [],
   "source": [
    "data = np.genfromtxt('capa_intermittency.dat')\n",
    "training_set = pd.DataFrame(data).reset_index(drop=True)\n",
    "training_set = training_set.iloc[:,0]"
   ]
  },
  {
   "cell_type": "markdown",
   "metadata": {
    "id": "i7easoxByuoR"
   },
   "source": [
    "## Computing the Gradient"
   ]
  },
  {
   "cell_type": "markdown",
   "metadata": {
    "id": "5SnyolJTyuoR"
   },
   "source": [
    "_Calculating the value of_ $\\frac{dx}{dt}$"
   ]
  },
  {
   "cell_type": "code",
   "execution_count": 4,
   "metadata": {
    "colab": {
     "base_uri": "https://localhost:8080/"
    },
    "id": "wmIbVfIvyuoR",
    "outputId": "aa4e3136-c854-465d-d2e9-81cfd546e440"
   },
   "outputs": [
    {
     "name": "stdout",
     "output_type": "stream",
     "text": [
      "1.0\n",
      "1        0.000298\n",
      "2        0.000298\n",
      "3        0.000297\n",
      "4        0.000297\n",
      "5        0.000297\n",
      "           ...   \n",
      "9996     0.000018\n",
      "9997     0.000018\n",
      "9998     0.000018\n",
      "9999     0.000018\n",
      "10000    0.000018\n",
      "Name: 0, Length: 10000, dtype: float64\n"
     ]
    }
   ],
   "source": [
    "t_diff = 1\n",
    "print(training_set.max())\n",
    "gradient_t = (training_set.diff()/t_diff).iloc[1:] # dx/dt\n",
    "print(gradient_t)"
   ]
  },
  {
   "cell_type": "markdown",
   "metadata": {
    "id": "_2eVeeoxyuoS"
   },
   "source": [
    "## Loading Datasets"
   ]
  },
  {
   "cell_type": "code",
   "execution_count": 5,
   "metadata": {
    "id": "0J-NKyIEyuoS"
   },
   "outputs": [
    {
     "data": {
      "text/plain": [
       "0       88.200000\n",
       "1       87.987115\n",
       "2       87.774230\n",
       "3       87.561345\n",
       "4       87.348459\n",
       "          ...    \n",
       "2445    55.786985\n",
       "2446    55.777967\n",
       "2447    55.768949\n",
       "2448    55.759930\n",
       "2449    55.750912\n",
       "Name: C8, Length: 2450, dtype: float64"
      ]
     },
     "execution_count": 5,
     "metadata": {},
     "output_type": "execute_result"
    }
   ],
   "source": [
    "data = pd.read_csv(\"c8_interpolated_2350_100.csv\")\n",
    "training_set = data.iloc[:, 1]\n",
    "training_set"
   ]
  },
  {
   "cell_type": "code",
   "execution_count": 6,
   "metadata": {
    "colab": {
     "base_uri": "https://localhost:8080/"
    },
    "id": "-CbNUhJ74UqF",
    "outputId": "20f562d8-8247-49cc-b9c3-00eca5e13e2d"
   },
   "outputs": [
    {
     "data": {
      "text/plain": [
       "0       88.200000\n",
       "1       87.987115\n",
       "2       87.774230\n",
       "3       87.561345\n",
       "4       87.348459\n",
       "          ...    \n",
       "2345     0.489992\n",
       "2346     0.362192\n",
       "2347     0.000000\n",
       "2348     0.000000\n",
       "2349     0.167189\n",
       "Name: C8, Length: 2350, dtype: float64"
      ]
     },
     "execution_count": 6,
     "metadata": {},
     "output_type": "execute_result"
    }
   ],
   "source": [
    "test = training_set.tail(100)\n",
    "test\n",
    "training_set = training_set.head(2350)\n",
    "training_set"
   ]
  },
  {
   "cell_type": "code",
   "execution_count": 7,
   "metadata": {
    "colab": {
     "base_uri": "https://localhost:8080/"
    },
    "id": "X0TwTcq0yuoS",
    "outputId": "37252ed8-d88e-4044-fa7a-922411990b5b"
   },
   "outputs": [
    {
     "name": "stdout",
     "output_type": "stream",
     "text": [
      "0       0.000298\n",
      "1       0.000298\n",
      "2       0.000297\n",
      "3       0.000297\n",
      "4       0.000297\n",
      "          ...   \n",
      "9995    0.000018\n",
      "9996    0.000018\n",
      "9997    0.000018\n",
      "9998    0.000018\n",
      "9999    0.000018\n",
      "Name: 0, Length: 10000, dtype: float64\n"
     ]
    }
   ],
   "source": [
    "training_set = training_set.reset_index(drop=True)\n",
    "gradient_t = gradient_t.reset_index(drop=True)\n",
    "print(gradient_t)"
   ]
  },
  {
   "cell_type": "code",
   "execution_count": 8,
   "metadata": {
    "id": "O2biznZQyuoS"
   },
   "outputs": [],
   "source": [
    "df = pd.concat((training_set, gradient_t), axis=1)\n",
    "df.columns = ['y_t', 'grad_t']"
   ]
  },
  {
   "cell_type": "code",
   "execution_count": 9,
   "metadata": {
    "colab": {
     "base_uri": "https://localhost:8080/",
     "height": 423
    },
    "id": "sk_a5v3tyuoS",
    "outputId": "17563625-e550-45ae-faab-fafa353e44da"
   },
   "outputs": [
    {
     "data": {
      "text/html": [
       "<div>\n",
       "<style scoped>\n",
       "    .dataframe tbody tr th:only-of-type {\n",
       "        vertical-align: middle;\n",
       "    }\n",
       "\n",
       "    .dataframe tbody tr th {\n",
       "        vertical-align: top;\n",
       "    }\n",
       "\n",
       "    .dataframe thead th {\n",
       "        text-align: right;\n",
       "    }\n",
       "</style>\n",
       "<table border=\"1\" class=\"dataframe\">\n",
       "  <thead>\n",
       "    <tr style=\"text-align: right;\">\n",
       "      <th></th>\n",
       "      <th>y_t</th>\n",
       "      <th>grad_t</th>\n",
       "    </tr>\n",
       "  </thead>\n",
       "  <tbody>\n",
       "    <tr>\n",
       "      <th>0</th>\n",
       "      <td>88.200000</td>\n",
       "      <td>0.000298</td>\n",
       "    </tr>\n",
       "    <tr>\n",
       "      <th>1</th>\n",
       "      <td>87.987115</td>\n",
       "      <td>0.000298</td>\n",
       "    </tr>\n",
       "    <tr>\n",
       "      <th>2</th>\n",
       "      <td>87.774230</td>\n",
       "      <td>0.000297</td>\n",
       "    </tr>\n",
       "    <tr>\n",
       "      <th>3</th>\n",
       "      <td>87.561345</td>\n",
       "      <td>0.000297</td>\n",
       "    </tr>\n",
       "    <tr>\n",
       "      <th>4</th>\n",
       "      <td>87.348459</td>\n",
       "      <td>0.000297</td>\n",
       "    </tr>\n",
       "    <tr>\n",
       "      <th>...</th>\n",
       "      <td>...</td>\n",
       "      <td>...</td>\n",
       "    </tr>\n",
       "    <tr>\n",
       "      <th>9995</th>\n",
       "      <td>NaN</td>\n",
       "      <td>0.000018</td>\n",
       "    </tr>\n",
       "    <tr>\n",
       "      <th>9996</th>\n",
       "      <td>NaN</td>\n",
       "      <td>0.000018</td>\n",
       "    </tr>\n",
       "    <tr>\n",
       "      <th>9997</th>\n",
       "      <td>NaN</td>\n",
       "      <td>0.000018</td>\n",
       "    </tr>\n",
       "    <tr>\n",
       "      <th>9998</th>\n",
       "      <td>NaN</td>\n",
       "      <td>0.000018</td>\n",
       "    </tr>\n",
       "    <tr>\n",
       "      <th>9999</th>\n",
       "      <td>NaN</td>\n",
       "      <td>0.000018</td>\n",
       "    </tr>\n",
       "  </tbody>\n",
       "</table>\n",
       "<p>10000 rows × 2 columns</p>\n",
       "</div>"
      ],
      "text/plain": [
       "            y_t    grad_t\n",
       "0     88.200000  0.000298\n",
       "1     87.987115  0.000298\n",
       "2     87.774230  0.000297\n",
       "3     87.561345  0.000297\n",
       "4     87.348459  0.000297\n",
       "...         ...       ...\n",
       "9995        NaN  0.000018\n",
       "9996        NaN  0.000018\n",
       "9997        NaN  0.000018\n",
       "9998        NaN  0.000018\n",
       "9999        NaN  0.000018\n",
       "\n",
       "[10000 rows x 2 columns]"
      ]
     },
     "execution_count": 9,
     "metadata": {},
     "output_type": "execute_result"
    }
   ],
   "source": [
    "df"
   ]
  },
  {
   "cell_type": "markdown",
   "metadata": {
    "id": "-5esyHu5aFvg"
   },
   "source": [
    "## Plot of the External Forcing from Chaotic Differential Equation"
   ]
  },
  {
   "cell_type": "code",
   "execution_count": 10,
   "metadata": {
    "colab": {
     "base_uri": "https://localhost:8080/",
     "height": 447
    },
    "id": "hGnE43tOh-4p",
    "outputId": "fc396503-b624-4fa5-dfbe-f460207405c6"
   },
   "outputs": [
    {
     "data": {
      "text/plain": [
       "<Axes: >"
      ]
     },
     "execution_count": 10,
     "metadata": {},
     "output_type": "execute_result"
    },
    {
     "data": {
      "image/png": "[encoded data removed]",
      "text/plain": [
       "<Figure size 432x288 with 1 Axes>"
      ]
     },
     "metadata": {
      "needs_background": "light"
     },
     "output_type": "display_data"
    }
   ],
   "source": [
    "df.iloc[:, 0].plot()"
   ]
  },
  {
   "cell_type": "code",
   "execution_count": 11,
   "metadata": {
    "colab": {
     "base_uri": "https://localhost:8080/",
     "height": 447
    },
    "id": "ym4xWUUxaFvg",
    "outputId": "ae6a3495-8ce9-437e-ba81-3ed31deedeae"
   },
   "outputs": [
    {
     "name": "stderr",
     "output_type": "stream",
     "text": [
      "C:\\Users\\Anurag Dutta\\AppData\\Local\\Packages\\PythonSoftwareFoundation.Python.3.9_qbz5n2kfra8p0\\LocalCache\\local-packages\\Python39\\site-packages\\pandas\\core\\arraylike.py:402: RuntimeWarning: divide by zero encountered in log\n",
      "  result = getattr(ufunc, method)(*inputs, **kwargs)\n"
     ]
    },
    {
     "data": {
      "text/plain": [
       "<Axes: >"
      ]
     },
     "execution_count": 11,
     "metadata": {},
     "output_type": "execute_result"
    },
    {
     "data": {
      "image/png": "[encoded data removed]",
      "text/plain": [
       "<Figure size 432x288 with 1 Axes>"
      ]
     },
     "metadata": {
      "needs_background": "light"
     },
     "output_type": "display_data"
    }
   ],
   "source": [
    "import numpy as np\n",
    "c0 = 85.7336  # Value for C0\n",
    "K0 = -0.0020  # Value for K0\n",
    "K1 = 0.0002  # Value for K1\n",
    "a = 0.0000    # Value for a\n",
    "b = 0.0125    # Value for b\n",
    "c = 2.3008    # Value for c\n",
    "\n",
    "L = np.minimum(c0, (df.iloc[:, 1] - (df.iloc[:, 0] * (K0 - K1 * (9 * a * np.log(df.iloc[:, 0] / c0) / (K0 - K1 * c)**2 + 4 * b * np.log(df.iloc[:, 0] / c0) / (K0 - K1 * c) + c)))))\n",
    "L.plot()"
   ]
  },
  {
   "cell_type": "markdown",
   "metadata": {
    "id": "9VyEywnwaFvh"
   },
   "source": [
    "## Preprocessing the data into supervised learning"
   ]
  },
  {
   "cell_type": "code",
   "execution_count": 12,
   "metadata": {
    "id": "6V9dXqzdaFvh"
   },
   "outputs": [],
   "source": [
    "# split a sequence into samples\n",
    "def Supervised(data, n_in=1, n_out=1, dropnan=True):\n",
    "    n_vars = 1 if type(data) is list else data.shape[1]\n",
    "    df = pd.DataFrame(data)\n",
    "    cols, names = list(), list()\n",
    "    # input sequence (t-n_in, ... t-1)\n",
    "    for i in range(n_in, 0, -1):\n",
    "        cols.append(df.shift(i))\n",
    "        names += [('var%d(t-%d)' % (j+1, i)) for j in range(n_vars)]\n",
    "    # forecast sequence (t, t+1, ... t+n_out)\n",
    "    for i in range(0, n_out):\n",
    "      cols.append(df.shift(-i))\n",
    "      if i == 0:\n",
    "        names += [('var%d(t)' % (j+1)) for j in range(n_vars)]\n",
    "      else:\n",
    "        names += [('var%d(t+%d)' % (j+1, i)) for j in range(n_vars)]\n",
    "    # put it all together\n",
    "    agg = pd.concat(cols, axis=1)\n",
    "    agg.columns = names\n",
    "    # drop rows with NaN values\n",
    "    if dropnan:\n",
    "       agg.dropna(inplace=True)\n",
    "    return agg"
   ]
  },
  {
   "cell_type": "code",
   "execution_count": 13,
   "metadata": {
    "colab": {
     "base_uri": "https://localhost:8080/"
    },
    "id": "CrzSrT1HnyfH",
    "outputId": "7e75f928-3e47-499d-eac1-51908015ef78"
   },
   "outputs": [
    {
     "name": "stdout",
     "output_type": "stream",
     "text": [
      "     var1(t-350)  var1(t-349)  var1(t-348)  var1(t-347)  var1(t-346)  \\\n",
      "350    88.200000    87.987115    87.774230    87.561345    87.348459   \n",
      "351    87.987115    87.774230    87.561345    87.348459    87.135574   \n",
      "352    87.774230    87.561345    87.348459    87.135574    86.922689   \n",
      "353    87.561345    87.348459    87.135574    86.922689    86.709804   \n",
      "354    87.348459    87.135574    86.922689    86.709804    86.496919   \n",
      "\n",
      "     var1(t-345)  var1(t-344)  var1(t-343)  var1(t-342)  var1(t-341)  ...  \\\n",
      "350    87.135574    86.922689    86.709804    86.496919    86.294538  ...   \n",
      "351    86.922689    86.709804    86.496919    86.294538    86.221709  ...   \n",
      "352    86.709804    86.496919    86.294538    86.221709    86.148880  ...   \n",
      "353    86.496919    86.294538    86.221709    86.148880    86.076050  ...   \n",
      "354    86.294538    86.221709    86.148880    86.076050    86.003221  ...   \n",
      "\n",
      "     var1(t+95)  var2(t+95)  var1(t+96)  var2(t+96)  var1(t+97)  var2(t+97)  \\\n",
      "350   76.094351    0.000263   76.058870    0.000263   76.023389    0.000263   \n",
      "351   76.058870    0.000263   76.023389    0.000263   75.987909    0.000262   \n",
      "352   76.023389    0.000263   75.987909    0.000262   75.952428    0.000262   \n",
      "353   75.987909    0.000262   75.952428    0.000262   75.916947    0.000262   \n",
      "354   75.952428    0.000262   75.916947    0.000262   75.881466    0.000262   \n",
      "\n",
      "     var1(t+98)  var2(t+98)  var1(t+99)  var2(t+99)  \n",
      "350   75.987909    0.000262   75.952428    0.000262  \n",
      "351   75.952428    0.000262   75.916947    0.000262  \n",
      "352   75.916947    0.000262   75.881466    0.000262  \n",
      "353   75.881466    0.000262   75.845985    0.000262  \n",
      "354   75.845985    0.000262   75.810504    0.000262  \n",
      "\n",
      "[5 rows x 551 columns]\n",
      "Index(['var1(t-350)', 'var1(t-349)', 'var1(t-348)', 'var1(t-347)',\n",
      "       'var1(t-346)', 'var1(t-345)', 'var1(t-344)', 'var1(t-343)',\n",
      "       'var1(t-342)', 'var1(t-341)',\n",
      "       ...\n",
      "       'var1(t+95)', 'var2(t+95)', 'var1(t+96)', 'var2(t+96)', 'var1(t+97)',\n",
      "       'var2(t+97)', 'var1(t+98)', 'var2(t+98)', 'var1(t+99)', 'var2(t+99)'],\n",
      "      dtype='object', length=551)\n"
     ]
    }
   ],
   "source": [
    "data = Supervised(df.values, n_in = 350, n_out = 100)\n",
    "\n",
    "\n",
    "cols_to_drop = []\n",
    "for i in range(2, 351):\n",
    "    cols_to_drop.extend([f'var2(t-{i})'])\n",
    "\n",
    "data.drop(cols_to_drop, axis=1, inplace=True)\n",
    "\n",
    "print(data.head())\n",
    "print(data.columns)"
   ]
  },
  {
   "cell_type": "code",
   "execution_count": 14,
   "metadata": {
    "id": "AfPf60oy6Pe4"
   },
   "outputs": [],
   "source": [
    "train = np.array(data[0:len(data)-1])\n",
    "forecast = np.array(data.tail(1))"
   ]
  },
  {
   "cell_type": "code",
   "execution_count": 15,
   "metadata": {
    "id": "WSAafzI37KiT"
   },
   "outputs": [],
   "source": [
    "trainy = train[:,-300:]\n",
    "trainX = train[:,:-300]"
   ]
  },
  {
   "cell_type": "code",
   "execution_count": 16,
   "metadata": {
    "id": "2SrOqVJA7f50"
   },
   "outputs": [],
   "source": [
    "forecasty = forecast[:,-300:]\n",
    "forecastX = forecast[:,:-300]"
   ]
  },
  {
   "cell_type": "code",
   "execution_count": 17,
   "metadata": {
    "colab": {
     "base_uri": "https://localhost:8080/"
    },
    "id": "Qno_k8Nw7saY",
    "outputId": "c4a88db5-d8c6-489f-cdb2-06b24e293cff"
   },
   "outputs": [
    {
     "name": "stdout",
     "output_type": "stream",
     "text": [
      "(1900, 1, 251) (1900, 300) (1, 1, 251)\n"
     ]
    }
   ],
   "source": [
    "trainX = trainX.reshape((trainX.shape[0], 1, trainX.shape[1]))\n",
    "forecastX = forecastX.reshape((forecastX.shape[0], 1, forecastX.shape[1]))\n",
    "print(trainX.shape, trainy.shape, forecastX.shape)"
   ]
  },
  {
   "cell_type": "code",
   "execution_count": 18,
   "metadata": {
    "colab": {
     "base_uri": "https://localhost:8080/"
    },
    "id": "b1Jp2DvNuNFx",
    "outputId": "d0e5b3c4-64f1-438c-eade-8dfeaac8e285"
   },
   "outputs": [
    {
     "name": "stdout",
     "output_type": "stream",
     "text": [
      "Epoch 1/500\n",
      "24/24 [==============================] - 3s 29ms/step - loss: 4469.5762 - val_loss: 2818.1438\n",
      "Epoch 2/500\n",
      "24/24 [==============================] - 0s 5ms/step - loss: 4364.7798 - val_loss: 2746.2996\n",
      "Epoch 3/500\n",
      "24/24 [==============================] - 0s 3ms/step - loss: 4278.3149 - val_loss: 2696.4255\n",
      "Epoch 4/500\n",
      "24/24 [==============================] - 0s 4ms/step - loss: 4197.3140 - val_loss: 2649.8855\n",
      "Epoch 5/500\n",
      "24/24 [==============================] - 0s 4ms/step - loss: 4118.4443 - val_loss: 2604.8904\n",
      "Epoch 6/500\n",
      "24/24 [==============================] - 0s 4ms/step - loss: 4041.2683 - val_loss: 2560.9358\n",
      "Epoch 7/500\n",
      "24/24 [==============================] - 0s 4ms/step - loss: 3965.5234 - val_loss: 2517.8914\n",
      "Epoch 8/500\n",
      "24/24 [==============================] - 0s 4ms/step - loss: 3891.0708 - val_loss: 2475.6943\n",
      "Epoch 9/500\n",
      "24/24 [==============================] - 0s 4ms/step - loss: 3817.8267 - val_loss: 2434.3057\n",
      "Epoch 10/500\n",
      "24/24 [==============================] - 0s 7ms/step - loss: 3745.7361 - val_loss: 2393.6963\n",
      "Epoch 11/500\n",
      "24/24 [==============================] - 0s 3ms/step - loss: 3674.7583 - val_loss: 2353.8459\n",
      "Epoch 12/500\n",
      "24/24 [==============================] - 0s 4ms/step - loss: 3604.8618 - val_loss: 2314.7356\n",
      "Epoch 13/500\n",
      "24/24 [==============================] - 0s 3ms/step - loss: 3536.0234 - val_loss: 2276.3511\n",
      "Epoch 14/500\n",
      "24/24 [==============================] - 0s 4ms/step - loss: 3468.2195 - val_loss: 2238.6790\n",
      "Epoch 15/500\n",
      "24/24 [==============================] - 0s 4ms/step - loss: 3401.4316 - val_loss: 2201.7070\n",
      "Epoch 16/500\n",
      "24/24 [==============================] - 0s 4ms/step - loss: 3335.6438 - val_loss: 2165.4248\n",
      "Epoch 17/500\n",
      "24/24 [==============================] - 0s 4ms/step - loss: 3270.8411 - val_loss: 2129.8218\n",
      "Epoch 18/500\n",
      "24/24 [==============================] - 0s 4ms/step - loss: 3207.0085 - val_loss: 2094.8884\n",
      "Epoch 19/500\n",
      "24/24 [==============================] - 0s 4ms/step - loss: 3144.1335 - val_loss: 2060.6152\n",
      "Epoch 20/500\n",
      "24/24 [==============================] - 0s 4ms/step - loss: 3082.2017 - val_loss: 2026.9943\n",
      "Epoch 21/500\n",
      "24/24 [==============================] - 0s 5ms/step - loss: 3021.2026 - val_loss: 1994.0156\n",
      "Epoch 22/500\n",
      "24/24 [==============================] - 0s 5ms/step - loss: 2961.1240 - val_loss: 1961.6722\n",
      "Epoch 23/500\n",
      "24/24 [==============================] - 0s 4ms/step - loss: 2901.9563 - val_loss: 1929.9556\n",
      "Epoch 24/500\n",
      "24/24 [==============================] - 0s 4ms/step - loss: 2843.6858 - val_loss: 1898.8578\n",
      "Epoch 25/500\n",
      "24/24 [==============================] - 0s 5ms/step - loss: 2786.3037 - val_loss: 1868.3716\n",
      "Epoch 26/500\n",
      "24/24 [==============================] - 0s 4ms/step - loss: 2729.7998 - val_loss: 1838.4895\n",
      "Epoch 27/500\n",
      "24/24 [==============================] - 0s 5ms/step - loss: 2674.1641 - val_loss: 1809.2036\n",
      "Epoch 28/500\n",
      "24/24 [==============================] - 0s 6ms/step - loss: 2619.3857 - val_loss: 1780.5070\n",
      "Epoch 29/500\n",
      "24/24 [==============================] - 0s 4ms/step - loss: 2565.4561 - val_loss: 1752.3925\n",
      "Epoch 30/500\n",
      "24/24 [==============================] - 0s 4ms/step - loss: 2512.3655 - val_loss: 1724.8531\n",
      "Epoch 31/500\n",
      "24/24 [==============================] - 0s 4ms/step - loss: 2460.1045 - val_loss: 1697.8820\n",
      "Epoch 32/500\n",
      "24/24 [==============================] - 0s 4ms/step - loss: 2408.6638 - val_loss: 1671.4720\n",
      "Epoch 33/500\n",
      "24/24 [==============================] - 0s 4ms/step - loss: 2358.0339 - val_loss: 1645.6168\n",
      "Epoch 34/500\n",
      "24/24 [==============================] - 0s 4ms/step - loss: 2308.2068 - val_loss: 1620.3091\n",
      "Epoch 35/500\n",
      "24/24 [==============================] - 0s 4ms/step - loss: 2259.1736 - val_loss: 1595.5430\n",
      "Epoch 36/500\n",
      "24/24 [==============================] - 0s 4ms/step - loss: 2210.9250 - val_loss: 1571.3114\n",
      "Epoch 37/500\n",
      "24/24 [==============================] - 0s 4ms/step - loss: 2163.4524 - val_loss: 1547.6083\n",
      "Epoch 38/500\n",
      "24/24 [==============================] - 0s 10ms/step - loss: 2116.7478 - val_loss: 1524.4270\n",
      "Epoch 39/500\n",
      "24/24 [==============================] - 0s 5ms/step - loss: 2070.8032 - val_loss: 1501.7612\n",
      "Epoch 40/500\n",
      "24/24 [==============================] - 0s 4ms/step - loss: 2025.6090 - val_loss: 1479.6047\n",
      "Epoch 41/500\n",
      "24/24 [==============================] - 0s 4ms/step - loss: 1981.1581 - val_loss: 1457.9515\n",
      "Epoch 42/500\n",
      "24/24 [==============================] - 0s 4ms/step - loss: 1937.4424 - val_loss: 1436.7949\n",
      "Epoch 43/500\n",
      "24/24 [==============================] - 0s 4ms/step - loss: 1894.4526 - val_loss: 1416.1292\n",
      "Epoch 44/500\n",
      "24/24 [==============================] - 0s 4ms/step - loss: 1852.1824 - val_loss: 1395.9480\n",
      "Epoch 45/500\n",
      "24/24 [==============================] - 0s 4ms/step - loss: 1810.6226 - val_loss: 1376.2454\n",
      "Epoch 46/500\n",
      "24/24 [==============================] - 0s 4ms/step - loss: 1769.7657 - val_loss: 1357.0160\n",
      "Epoch 47/500\n",
      "24/24 [==============================] - 0s 4ms/step - loss: 1729.6050 - val_loss: 1338.2528\n",
      "Epoch 48/500\n",
      "24/24 [==============================] - 0s 3ms/step - loss: 1690.1315 - val_loss: 1319.9507\n",
      "Epoch 49/500\n",
      "24/24 [==============================] - 0s 4ms/step - loss: 1651.3376 - val_loss: 1302.1038\n",
      "Epoch 50/500\n",
      "24/24 [==============================] - 0s 4ms/step - loss: 1613.2166 - val_loss: 1284.7056\n",
      "Epoch 51/500\n",
      "24/24 [==============================] - 0s 6ms/step - loss: 1575.7603 - val_loss: 1267.7513\n",
      "Epoch 52/500\n",
      "24/24 [==============================] - 0s 5ms/step - loss: 1538.9622 - val_loss: 1251.2349\n",
      "Epoch 53/500\n",
      "24/24 [==============================] - 0s 5ms/step - loss: 1502.8136 - val_loss: 1235.1503\n",
      "Epoch 54/500\n",
      "24/24 [==============================] - 0s 5ms/step - loss: 1467.3081 - val_loss: 1219.4918\n",
      "Epoch 55/500\n",
      "24/24 [==============================] - 0s 5ms/step - loss: 1432.4384 - val_loss: 1204.2544\n",
      "Epoch 56/500\n",
      "24/24 [==============================] - 0s 5ms/step - loss: 1398.1967 - val_loss: 1189.4321\n",
      "Epoch 57/500\n",
      "24/24 [==============================] - 0s 4ms/step - loss: 1364.5763 - val_loss: 1175.0197\n",
      "Epoch 58/500\n",
      "24/24 [==============================] - 0s 5ms/step - loss: 1331.5704 - val_loss: 1161.0112\n",
      "Epoch 59/500\n",
      "24/24 [==============================] - 0s 5ms/step - loss: 1299.1715 - val_loss: 1147.4014\n",
      "Epoch 60/500\n",
      "24/24 [==============================] - 0s 5ms/step - loss: 1267.3728 - val_loss: 1134.1849\n",
      "Epoch 61/500\n",
      "24/24 [==============================] - 0s 5ms/step - loss: 1236.1670 - val_loss: 1121.3558\n",
      "Epoch 62/500\n",
      "24/24 [==============================] - 0s 5ms/step - loss: 1205.5475 - val_loss: 1108.9094\n",
      "Epoch 63/500\n",
      "24/24 [==============================] - 0s 5ms/step - loss: 1175.5073 - val_loss: 1096.8398\n",
      "Epoch 64/500\n",
      "24/24 [==============================] - 0s 5ms/step - loss: 1146.0399 - val_loss: 1085.1421\n",
      "Epoch 65/500\n",
      "24/24 [==============================] - 0s 7ms/step - loss: 1117.1384 - val_loss: 1073.8107\n",
      "Epoch 66/500\n",
      "24/24 [==============================] - 0s 6ms/step - loss: 1088.7961 - val_loss: 1062.8403\n",
      "Epoch 67/500\n",
      "24/24 [==============================] - 0s 5ms/step - loss: 1061.0060 - val_loss: 1052.2260\n",
      "Epoch 68/500\n",
      "24/24 [==============================] - 0s 4ms/step - loss: 1033.7617 - val_loss: 1041.9618\n",
      "Epoch 69/500\n",
      "24/24 [==============================] - 0s 4ms/step - loss: 1007.0563 - val_loss: 1032.0432\n",
      "Epoch 70/500\n",
      "24/24 [==============================] - 0s 5ms/step - loss: 980.8832 - val_loss: 1022.4644\n",
      "Epoch 71/500\n",
      "24/24 [==============================] - 0s 5ms/step - loss: 955.2363 - val_loss: 1013.2207\n",
      "Epoch 72/500\n",
      "24/24 [==============================] - 0s 5ms/step - loss: 930.1089 - val_loss: 1004.3070\n",
      "Epoch 73/500\n",
      "24/24 [==============================] - 0s 5ms/step - loss: 905.4946 - val_loss: 995.7178\n",
      "Epoch 74/500\n",
      "24/24 [==============================] - 0s 5ms/step - loss: 881.3868 - val_loss: 987.4481\n",
      "Epoch 75/500\n",
      "24/24 [==============================] - 0s 5ms/step - loss: 857.7789 - val_loss: 979.4929\n",
      "Epoch 76/500\n",
      "24/24 [==============================] - 0s 5ms/step - loss: 834.6650 - val_loss: 971.8470\n",
      "Epoch 77/500\n",
      "24/24 [==============================] - 0s 6ms/step - loss: 812.0385 - val_loss: 964.5056\n",
      "Epoch 78/500\n",
      "24/24 [==============================] - 0s 6ms/step - loss: 789.8932 - val_loss: 957.4634\n",
      "Epoch 79/500\n",
      "24/24 [==============================] - 0s 7ms/step - loss: 768.2225 - val_loss: 950.7154\n",
      "Epoch 80/500\n",
      "24/24 [==============================] - 0s 7ms/step - loss: 747.0210 - val_loss: 944.2569\n",
      "Epoch 81/500\n",
      "24/24 [==============================] - 0s 6ms/step - loss: 726.2813 - val_loss: 938.0828\n",
      "Epoch 82/500\n",
      "24/24 [==============================] - 0s 6ms/step - loss: 705.9984 - val_loss: 932.1879\n",
      "Epoch 83/500\n",
      "24/24 [==============================] - 0s 5ms/step - loss: 686.1655 - val_loss: 926.5674\n",
      "Epoch 84/500\n",
      "24/24 [==============================] - 0s 5ms/step - loss: 666.7762 - val_loss: 921.2164\n",
      "Epoch 85/500\n",
      "24/24 [==============================] - 0s 6ms/step - loss: 647.8252 - val_loss: 916.1300\n",
      "Epoch 86/500\n",
      "24/24 [==============================] - 0s 6ms/step - loss: 629.3059 - val_loss: 911.3033\n",
      "Epoch 87/500\n",
      "24/24 [==============================] - 0s 6ms/step - loss: 611.2121 - val_loss: 906.7313\n",
      "Epoch 88/500\n",
      "24/24 [==============================] - 0s 6ms/step - loss: 593.5380 - val_loss: 902.4094\n",
      "Epoch 89/500\n",
      "24/24 [==============================] - 0s 6ms/step - loss: 576.2779 - val_loss: 898.3326\n",
      "Epoch 90/500\n",
      "24/24 [==============================] - 0s 6ms/step - loss: 559.4252 - val_loss: 894.4960\n",
      "Epoch 91/500\n",
      "24/24 [==============================] - 0s 10ms/step - loss: 542.9747 - val_loss: 890.8949\n",
      "Epoch 92/500\n",
      "24/24 [==============================] - 0s 11ms/step - loss: 526.9200 - val_loss: 887.5245\n",
      "Epoch 93/500\n",
      "24/24 [==============================] - 0s 7ms/step - loss: 511.2553 - val_loss: 884.3801\n",
      "Epoch 94/500\n",
      "24/24 [==============================] - 0s 8ms/step - loss: 495.9746 - val_loss: 881.4567\n",
      "Epoch 95/500\n",
      "24/24 [==============================] - 0s 7ms/step - loss: 481.0724 - val_loss: 878.7497\n",
      "Epoch 96/500\n",
      "24/24 [==============================] - 0s 7ms/step - loss: 466.5425 - val_loss: 876.2543\n",
      "Epoch 97/500\n",
      "24/24 [==============================] - 0s 7ms/step - loss: 452.3794 - val_loss: 873.9659\n",
      "Epoch 98/500\n",
      "24/24 [==============================] - 0s 7ms/step - loss: 438.5773 - val_loss: 871.8798\n",
      "Epoch 99/500\n",
      "24/24 [==============================] - 0s 6ms/step - loss: 425.1305 - val_loss: 869.9912\n",
      "Epoch 100/500\n",
      "24/24 [==============================] - 0s 6ms/step - loss: 412.0329 - val_loss: 868.2957\n",
      "Epoch 101/500\n",
      "24/24 [==============================] - 0s 6ms/step - loss: 399.2793 - val_loss: 866.7883\n",
      "Epoch 102/500\n",
      "24/24 [==============================] - 0s 5ms/step - loss: 386.8638 - val_loss: 865.4645\n",
      "Epoch 103/500\n",
      "24/24 [==============================] - 0s 5ms/step - loss: 374.7807 - val_loss: 864.3199\n",
      "Epoch 104/500\n",
      "24/24 [==============================] - 0s 7ms/step - loss: 363.0244 - val_loss: 863.3497\n",
      "Epoch 105/500\n",
      "24/24 [==============================] - 0s 6ms/step - loss: 351.5895 - val_loss: 862.5495\n",
      "Epoch 106/500\n",
      "24/24 [==============================] - 0s 7ms/step - loss: 340.4702 - val_loss: 861.9146\n",
      "Epoch 107/500\n",
      "24/24 [==============================] - 0s 6ms/step - loss: 329.6612 - val_loss: 861.4404\n",
      "Epoch 108/500\n",
      "24/24 [==============================] - 0s 7ms/step - loss: 319.1568 - val_loss: 861.1227\n",
      "Epoch 109/500\n",
      "24/24 [==============================] - 0s 7ms/step - loss: 308.9516 - val_loss: 860.9567\n",
      "Epoch 110/500\n",
      "24/24 [==============================] - 0s 7ms/step - loss: 299.0399 - val_loss: 860.9382\n",
      "Epoch 111/500\n",
      "24/24 [==============================] - 0s 7ms/step - loss: 289.4166 - val_loss: 861.0627\n",
      "Epoch 112/500\n",
      "24/24 [==============================] - 0s 7ms/step - loss: 280.0760 - val_loss: 861.3257\n",
      "Epoch 113/500\n",
      "24/24 [==============================] - 0s 7ms/step - loss: 271.0130 - val_loss: 861.7228\n",
      "Epoch 114/500\n",
      "24/24 [==============================] - 0s 7ms/step - loss: 262.2223 - val_loss: 862.2498\n",
      "Epoch 115/500\n",
      "24/24 [==============================] - 0s 6ms/step - loss: 253.6986 - val_loss: 862.9023\n",
      "Epoch 116/500\n",
      "24/24 [==============================] - 0s 6ms/step - loss: 245.4363 - val_loss: 863.6760\n",
      "Epoch 117/500\n",
      "24/24 [==============================] - 0s 11ms/step - loss: 237.4303 - val_loss: 864.5666\n",
      "Epoch 118/500\n",
      "24/24 [==============================] - 0s 6ms/step - loss: 229.6752 - val_loss: 865.5698\n",
      "Epoch 119/500\n",
      "24/24 [==============================] - 0s 6ms/step - loss: 222.1662 - val_loss: 866.6816\n",
      "Epoch 120/500\n",
      "24/24 [==============================] - 0s 6ms/step - loss: 214.8978 - val_loss: 867.8975\n",
      "Epoch 121/500\n",
      "24/24 [==============================] - 0s 6ms/step - loss: 207.8651 - val_loss: 869.2136\n",
      "Epoch 122/500\n",
      "24/24 [==============================] - 0s 6ms/step - loss: 201.0630 - val_loss: 870.6257\n",
      "Epoch 123/500\n",
      "24/24 [==============================] - 0s 6ms/step - loss: 194.4863 - val_loss: 872.1298\n",
      "Epoch 124/500\n",
      "24/24 [==============================] - 0s 6ms/step - loss: 188.1302 - val_loss: 873.7216\n",
      "Epoch 125/500\n",
      "24/24 [==============================] - 0s 6ms/step - loss: 181.9896 - val_loss: 875.3977\n",
      "Epoch 126/500\n",
      "24/24 [==============================] - 0s 6ms/step - loss: 176.0591 - val_loss: 877.1534\n",
      "Epoch 127/500\n",
      "24/24 [==============================] - 0s 6ms/step - loss: 170.3344 - val_loss: 878.9852\n",
      "Epoch 128/500\n",
      "24/24 [==============================] - 0s 6ms/step - loss: 164.8108 - val_loss: 880.8892\n",
      "Epoch 129/500\n",
      "24/24 [==============================] - 0s 7ms/step - loss: 159.4830 - val_loss: 882.8613\n",
      "Epoch 130/500\n",
      "24/24 [==============================] - 0s 6ms/step - loss: 154.3463 - val_loss: 884.8980\n",
      "Epoch 131/500\n",
      "24/24 [==============================] - 0s 6ms/step - loss: 149.3961 - val_loss: 886.9955\n",
      "Epoch 132/500\n",
      "24/24 [==============================] - 0s 5ms/step - loss: 144.6277 - val_loss: 889.1501\n",
      "Epoch 133/500\n",
      "24/24 [==============================] - 0s 5ms/step - loss: 140.0365 - val_loss: 891.3582\n",
      "Epoch 134/500\n",
      "24/24 [==============================] - 0s 5ms/step - loss: 135.6176 - val_loss: 893.6158\n",
      "Epoch 135/500\n",
      "24/24 [==============================] - 0s 5ms/step - loss: 131.3668 - val_loss: 895.9200\n",
      "Epoch 136/500\n",
      "24/24 [==============================] - 0s 5ms/step - loss: 127.2797 - val_loss: 898.2667\n",
      "Epoch 137/500\n",
      "24/24 [==============================] - 0s 4ms/step - loss: 123.3516 - val_loss: 900.6527\n",
      "Epoch 138/500\n",
      "24/24 [==============================] - 0s 5ms/step - loss: 119.5782 - val_loss: 903.0748\n",
      "Epoch 139/500\n",
      "24/24 [==============================] - 0s 5ms/step - loss: 115.9551 - val_loss: 905.5294\n",
      "Epoch 140/500\n",
      "24/24 [==============================] - 0s 8ms/step - loss: 112.4782 - val_loss: 908.0135\n",
      "Epoch 141/500\n",
      "24/24 [==============================] - 0s 5ms/step - loss: 109.1430 - val_loss: 910.5237\n",
      "Epoch 142/500\n",
      "24/24 [==============================] - 0s 5ms/step - loss: 105.9454 - val_loss: 913.0568\n",
      "Epoch 143/500\n",
      "24/24 [==============================] - 0s 5ms/step - loss: 102.8815 - val_loss: 915.6097\n",
      "Epoch 144/500\n",
      "24/24 [==============================] - 0s 5ms/step - loss: 99.9471 - val_loss: 918.1796\n",
      "Epoch 145/500\n",
      "24/24 [==============================] - 0s 5ms/step - loss: 97.1381 - val_loss: 920.7635\n",
      "Epoch 146/500\n",
      "24/24 [==============================] - 0s 4ms/step - loss: 94.4507 - val_loss: 923.3582\n",
      "Epoch 147/500\n",
      "24/24 [==============================] - 0s 4ms/step - loss: 91.8809 - val_loss: 925.9614\n",
      "Epoch 148/500\n",
      "24/24 [==============================] - 0s 4ms/step - loss: 89.4250 - val_loss: 928.5698\n",
      "Epoch 149/500\n",
      "24/24 [==============================] - 0s 4ms/step - loss: 87.0793 - val_loss: 931.1814\n",
      "Epoch 150/500\n",
      "24/24 [==============================] - 0s 4ms/step - loss: 84.8397 - val_loss: 933.7931\n",
      "Epoch 151/500\n",
      "24/24 [==============================] - 0s 4ms/step - loss: 82.7032 - val_loss: 936.4023\n",
      "Epoch 152/500\n",
      "24/24 [==============================] - 0s 4ms/step - loss: 80.6658 - val_loss: 939.0067\n",
      "Epoch 153/500\n",
      "24/24 [==============================] - 0s 4ms/step - loss: 78.7242 - val_loss: 941.6041\n",
      "Epoch 154/500\n",
      "24/24 [==============================] - 0s 6ms/step - loss: 76.8750 - val_loss: 944.1920\n",
      "Epoch 155/500\n",
      "24/24 [==============================] - 0s 5ms/step - loss: 75.1148 - val_loss: 946.7681\n",
      "Epoch 156/500\n",
      "24/24 [==============================] - 0s 5ms/step - loss: 73.4402 - val_loss: 949.3304\n",
      "Epoch 157/500\n",
      "24/24 [==============================] - 0s 4ms/step - loss: 71.8482 - val_loss: 951.8767\n",
      "Epoch 158/500\n",
      "24/24 [==============================] - 0s 4ms/step - loss: 70.3356 - val_loss: 954.4048\n",
      "Epoch 159/500\n",
      "24/24 [==============================] - 0s 5ms/step - loss: 68.8993 - val_loss: 956.9135\n",
      "Epoch 160/500\n",
      "24/24 [==============================] - 0s 5ms/step - loss: 67.5362 - val_loss: 959.3999\n",
      "Epoch 161/500\n",
      "24/24 [==============================] - 0s 5ms/step - loss: 66.2436 - val_loss: 961.8633\n",
      "Epoch 162/500\n",
      "24/24 [==============================] - 0s 8ms/step - loss: 65.0184 - val_loss: 964.3017\n",
      "Epoch 163/500\n",
      "24/24 [==============================] - 0s 5ms/step - loss: 63.8579 - val_loss: 966.7126\n",
      "Epoch 164/500\n",
      "24/24 [==============================] - 0s 5ms/step - loss: 62.7596 - val_loss: 969.0956\n",
      "Epoch 165/500\n",
      "24/24 [==============================] - 0s 5ms/step - loss: 61.7206 - val_loss: 971.4486\n",
      "Epoch 166/500\n",
      "24/24 [==============================] - 0s 5ms/step - loss: 60.7384 - val_loss: 973.7703\n",
      "Epoch 167/500\n",
      "24/24 [==============================] - 0s 6ms/step - loss: 59.8106 - val_loss: 976.0590\n",
      "Epoch 168/500\n",
      "24/24 [==============================] - 0s 5ms/step - loss: 58.9346 - val_loss: 978.3134\n",
      "Epoch 169/500\n",
      "24/24 [==============================] - 0s 5ms/step - loss: 58.1082 - val_loss: 980.5286\n",
      "Epoch 170/500\n",
      "24/24 [==============================] - 0s 5ms/step - loss: 57.3291 - val_loss: 982.4707\n",
      "Epoch 171/500\n",
      "24/24 [==============================] - 0s 5ms/step - loss: 56.5950 - val_loss: 984.9625\n",
      "Epoch 172/500\n",
      "24/24 [==============================] - 0s 4ms/step - loss: 55.9039 - val_loss: 987.0765\n",
      "Epoch 173/500\n",
      "24/24 [==============================] - 0s 4ms/step - loss: 55.2537 - val_loss: 989.1522\n",
      "Epoch 174/500\n",
      "24/24 [==============================] - 0s 5ms/step - loss: 54.6424 - val_loss: 991.1887\n",
      "Epoch 175/500\n",
      "24/24 [==============================] - 0s 5ms/step - loss: 54.0680 - val_loss: 993.1859\n",
      "Epoch 176/500\n",
      "24/24 [==============================] - 0s 5ms/step - loss: 53.5286 - val_loss: 995.1432\n",
      "Epoch 177/500\n",
      "24/24 [==============================] - 0s 5ms/step - loss: 53.0225 - val_loss: 997.0599\n",
      "Epoch 178/500\n",
      "24/24 [==============================] - 0s 5ms/step - loss: 52.5480 - val_loss: 998.9346\n",
      "Epoch 179/500\n",
      "24/24 [==============================] - 0s 5ms/step - loss: 52.1035 - val_loss: 1000.7682\n",
      "Epoch 180/500\n",
      "24/24 [==============================] - 0s 5ms/step - loss: 51.6872 - val_loss: 1002.5599\n",
      "Epoch 181/500\n",
      "24/24 [==============================] - 0s 5ms/step - loss: 51.2978 - val_loss: 1004.3097\n",
      "Epoch 182/500\n",
      "24/24 [==============================] - 0s 5ms/step - loss: 50.9337 - val_loss: 1006.0173\n",
      "Epoch 183/500\n",
      "24/24 [==============================] - 0s 5ms/step - loss: 50.5935 - val_loss: 1007.6823\n",
      "Epoch 184/500\n",
      "24/24 [==============================] - 0s 8ms/step - loss: 50.2758 - val_loss: 1009.3054\n",
      "Epoch 185/500\n",
      "24/24 [==============================] - 0s 5ms/step - loss: 49.9794 - val_loss: 1010.8859\n",
      "Epoch 186/500\n",
      "24/24 [==============================] - 0s 4ms/step - loss: 49.7031 - val_loss: 1012.4245\n",
      "Epoch 187/500\n",
      "24/24 [==============================] - 0s 4ms/step - loss: 49.4455 - val_loss: 1013.9209\n",
      "Epoch 188/500\n",
      "24/24 [==============================] - 0s 4ms/step - loss: 49.2058 - val_loss: 1015.3755\n",
      "Epoch 189/500\n",
      "24/24 [==============================] - 0s 4ms/step - loss: 48.9826 - val_loss: 1016.7881\n",
      "Epoch 190/500\n",
      "24/24 [==============================] - 0s 5ms/step - loss: 48.7752 - val_loss: 1018.1593\n",
      "Epoch 191/500\n",
      "24/24 [==============================] - 0s 4ms/step - loss: 48.5824 - val_loss: 1019.4896\n",
      "Epoch 192/500\n",
      "24/24 [==============================] - 0s 4ms/step - loss: 48.4034 - val_loss: 1020.7793\n",
      "Epoch 193/500\n",
      "24/24 [==============================] - 0s 4ms/step - loss: 48.2372 - val_loss: 1022.0283\n",
      "Epoch 194/500\n",
      "24/24 [==============================] - 0s 5ms/step - loss: 48.0832 - val_loss: 1023.2379\n",
      "Epoch 195/500\n",
      "24/24 [==============================] - 0s 6ms/step - loss: 47.9404 - val_loss: 1024.4081\n",
      "Epoch 196/500\n",
      "24/24 [==============================] - 0s 7ms/step - loss: 47.8081 - val_loss: 1025.5399\n",
      "Epoch 197/500\n",
      "24/24 [==============================] - 0s 6ms/step - loss: 47.6856 - val_loss: 1026.6332\n",
      "Epoch 198/500\n",
      "24/24 [==============================] - 0s 6ms/step - loss: 47.5723 - val_loss: 1027.6891\n",
      "Epoch 199/500\n",
      "24/24 [==============================] - 0s 6ms/step - loss: 47.4676 - val_loss: 1028.7074\n",
      "Epoch 200/500\n",
      "24/24 [==============================] - 0s 6ms/step - loss: 47.3708 - val_loss: 1029.6899\n",
      "Epoch 201/500\n",
      "24/24 [==============================] - 0s 5ms/step - loss: 47.2814 - val_loss: 1030.6372\n",
      "Epoch 202/500\n",
      "24/24 [==============================] - 0s 5ms/step - loss: 47.1989 - val_loss: 1031.5487\n",
      "Epoch 203/500\n",
      "24/24 [==============================] - 0s 5ms/step - loss: 47.1227 - val_loss: 1032.4258\n",
      "Epoch 204/500\n",
      "24/24 [==============================] - 0s 9ms/step - loss: 47.0526 - val_loss: 1033.2698\n",
      "Epoch 205/500\n",
      "24/24 [==============================] - 0s 5ms/step - loss: 46.9879 - val_loss: 1034.0808\n",
      "Epoch 206/500\n",
      "24/24 [==============================] - 0s 5ms/step - loss: 46.9284 - val_loss: 1034.8599\n",
      "Epoch 207/500\n",
      "24/24 [==============================] - 0s 5ms/step - loss: 46.8735 - val_loss: 1035.6078\n",
      "Epoch 208/500\n",
      "24/24 [==============================] - 0s 5ms/step - loss: 46.8231 - val_loss: 1036.3250\n",
      "Epoch 209/500\n",
      "24/24 [==============================] - 0s 5ms/step - loss: 46.7767 - val_loss: 1037.0128\n",
      "Epoch 210/500\n",
      "24/24 [==============================] - 0s 4ms/step - loss: 46.7340 - val_loss: 1037.6714\n",
      "Epoch 211/500\n",
      "24/24 [==============================] - 0s 4ms/step - loss: 46.6947 - val_loss: 1038.3022\n",
      "Epoch 212/500\n",
      "24/24 [==============================] - 0s 4ms/step - loss: 46.6587 - val_loss: 1038.9054\n",
      "Epoch 213/500\n",
      "24/24 [==============================] - 0s 5ms/step - loss: 46.6256 - val_loss: 1039.4823\n",
      "Epoch 214/500\n",
      "24/24 [==============================] - 0s 6ms/step - loss: 46.5953 - val_loss: 1040.0336\n",
      "Epoch 215/500\n",
      "24/24 [==============================] - 0s 5ms/step - loss: 46.5674 - val_loss: 1040.5598\n",
      "Epoch 216/500\n",
      "24/24 [==============================] - 0s 5ms/step - loss: 46.5418 - val_loss: 1041.0621\n",
      "Epoch 217/500\n",
      "24/24 [==============================] - 0s 5ms/step - loss: 46.5183 - val_loss: 1041.5410\n",
      "Epoch 218/500\n",
      "24/24 [==============================] - 0s 5ms/step - loss: 46.4968 - val_loss: 1041.9971\n",
      "Epoch 219/500\n",
      "24/24 [==============================] - 0s 5ms/step - loss: 46.4772 - val_loss: 1042.4320\n",
      "Epoch 220/500\n",
      "24/24 [==============================] - 0s 4ms/step - loss: 46.4591 - val_loss: 1042.8456\n",
      "Epoch 221/500\n",
      "24/24 [==============================] - 0s 4ms/step - loss: 46.4426 - val_loss: 1043.2388\n",
      "Epoch 222/500\n",
      "24/24 [==============================] - 0s 4ms/step - loss: 46.4274 - val_loss: 1043.6128\n",
      "Epoch 223/500\n",
      "24/24 [==============================] - 0s 4ms/step - loss: 46.4135 - val_loss: 1043.9674\n",
      "Epoch 224/500\n",
      "24/24 [==============================] - 0s 5ms/step - loss: 46.4009 - val_loss: 1044.3041\n",
      "Epoch 225/500\n",
      "24/24 [==============================] - 0s 10ms/step - loss: 46.3893 - val_loss: 1044.6239\n",
      "Epoch 226/500\n",
      "24/24 [==============================] - 0s 6ms/step - loss: 46.3787 - val_loss: 1044.9270\n",
      "Epoch 227/500\n",
      "24/24 [==============================] - 0s 5ms/step - loss: 46.3690 - val_loss: 1045.2141\n",
      "Epoch 228/500\n",
      "24/24 [==============================] - 0s 5ms/step - loss: 46.3601 - val_loss: 1045.4851\n",
      "Epoch 229/500\n",
      "24/24 [==============================] - 0s 7ms/step - loss: 46.3520 - val_loss: 1045.7421\n",
      "Epoch 230/500\n",
      "24/24 [==============================] - 0s 5ms/step - loss: 46.3447 - val_loss: 1045.9847\n",
      "Epoch 231/500\n",
      "24/24 [==============================] - 0s 5ms/step - loss: 46.3380 - val_loss: 1046.2146\n",
      "Epoch 232/500\n",
      "24/24 [==============================] - 0s 6ms/step - loss: 46.3318 - val_loss: 1046.4313\n",
      "Epoch 233/500\n",
      "24/24 [==============================] - 0s 5ms/step - loss: 46.3263 - val_loss: 1046.6356\n",
      "Epoch 234/500\n",
      "24/24 [==============================] - 0s 5ms/step - loss: 46.3211 - val_loss: 1046.8279\n",
      "Epoch 235/500\n",
      "24/24 [==============================] - 0s 6ms/step - loss: 46.3166 - val_loss: 1047.0096\n",
      "Epoch 236/500\n",
      "24/24 [==============================] - 0s 5ms/step - loss: 46.3124 - val_loss: 1047.1805\n",
      "Epoch 237/500\n",
      "24/24 [==============================] - 0s 5ms/step - loss: 46.3085 - val_loss: 1047.3413\n",
      "Epoch 238/500\n",
      "24/24 [==============================] - 0s 4ms/step - loss: 46.3051 - val_loss: 1047.4924\n",
      "Epoch 239/500\n",
      "24/24 [==============================] - 0s 4ms/step - loss: 46.3020 - val_loss: 1047.6339\n",
      "Epoch 240/500\n",
      "24/24 [==============================] - 0s 4ms/step - loss: 46.2992 - val_loss: 1047.7675\n",
      "Epoch 241/500\n",
      "24/24 [==============================] - 0s 4ms/step - loss: 46.2966 - val_loss: 1047.8922\n",
      "Epoch 242/500\n",
      "24/24 [==============================] - 0s 5ms/step - loss: 46.2944 - val_loss: 1048.0096\n",
      "Epoch 243/500\n",
      "24/24 [==============================] - 0s 5ms/step - loss: 46.2924 - val_loss: 1048.1195\n",
      "Epoch 244/500\n",
      "24/24 [==============================] - 0s 5ms/step - loss: 46.2905 - val_loss: 1048.2220\n",
      "Epoch 245/500\n",
      "24/24 [==============================] - 0s 5ms/step - loss: 46.2889 - val_loss: 1048.3182\n",
      "Epoch 246/500\n",
      "24/24 [==============================] - 0s 8ms/step - loss: 46.2875 - val_loss: 1048.4081\n",
      "Epoch 247/500\n",
      "24/24 [==============================] - 0s 5ms/step - loss: 46.2862 - val_loss: 1048.4916\n",
      "Epoch 248/500\n",
      "24/24 [==============================] - 0s 5ms/step - loss: 46.2851 - val_loss: 1048.5695\n",
      "Epoch 249/500\n",
      "24/24 [==============================] - 0s 5ms/step - loss: 46.2842 - val_loss: 1048.6425\n",
      "Epoch 250/500\n",
      "24/24 [==============================] - 0s 4ms/step - loss: 46.2835 - val_loss: 1048.7111\n",
      "Epoch 251/500\n",
      "24/24 [==============================] - 0s 5ms/step - loss: 46.2827 - val_loss: 1048.7740\n",
      "Epoch 252/500\n",
      "24/24 [==============================] - 0s 5ms/step - loss: 46.2821 - val_loss: 1048.8334\n",
      "Epoch 253/500\n",
      "24/24 [==============================] - 0s 5ms/step - loss: 46.2816 - val_loss: 1048.8878\n",
      "Epoch 254/500\n",
      "24/24 [==============================] - 0s 5ms/step - loss: 46.2813 - val_loss: 1048.9381\n",
      "Epoch 255/500\n",
      "24/24 [==============================] - 0s 5ms/step - loss: 46.2811 - val_loss: 1048.9856\n",
      "Epoch 256/500\n",
      "24/24 [==============================] - 0s 4ms/step - loss: 46.2808 - val_loss: 1049.0291\n",
      "Epoch 257/500\n",
      "24/24 [==============================] - 0s 5ms/step - loss: 46.2807 - val_loss: 1049.0699\n",
      "Epoch 258/500\n",
      "24/24 [==============================] - 0s 5ms/step - loss: 46.2807 - val_loss: 1049.1075\n",
      "Epoch 259/500\n",
      "24/24 [==============================] - 0s 4ms/step - loss: 46.2807 - val_loss: 1049.1417\n",
      "Epoch 260/500\n",
      "24/24 [==============================] - 0s 5ms/step - loss: 46.2808 - val_loss: 1049.1741\n",
      "Epoch 261/500\n",
      "24/24 [==============================] - 0s 4ms/step - loss: 46.2809 - val_loss: 1049.2037\n",
      "Epoch 262/500\n",
      "24/24 [==============================] - 0s 4ms/step - loss: 46.2811 - val_loss: 1049.2310\n",
      "Epoch 263/500\n",
      "24/24 [==============================] - 0s 4ms/step - loss: 46.2813 - val_loss: 1049.2561\n",
      "Epoch 264/500\n",
      "24/24 [==============================] - 0s 4ms/step - loss: 46.2816 - val_loss: 1049.2787\n",
      "Epoch 265/500\n",
      "24/24 [==============================] - 0s 8ms/step - loss: 46.2819 - val_loss: 1049.2998\n",
      "Epoch 266/500\n",
      "24/24 [==============================] - 0s 6ms/step - loss: 46.2822 - val_loss: 1049.3188\n",
      "Epoch 267/500\n",
      "24/24 [==============================] - 0s 5ms/step - loss: 46.2826 - val_loss: 1049.3367\n",
      "Epoch 268/500\n",
      "24/24 [==============================] - 0s 4ms/step - loss: 46.2830 - val_loss: 1049.3534\n",
      "Epoch 269/500\n",
      "24/24 [==============================] - 0s 4ms/step - loss: 46.2834 - val_loss: 1049.3679\n",
      "Epoch 270/500\n",
      "24/24 [==============================] - 0s 4ms/step - loss: 46.2839 - val_loss: 1049.3815\n",
      "Epoch 271/500\n",
      "24/24 [==============================] - 0s 4ms/step - loss: 46.2844 - val_loss: 1049.3938\n",
      "Epoch 272/500\n",
      "24/24 [==============================] - 0s 5ms/step - loss: 46.2849 - val_loss: 1049.4049\n",
      "Epoch 273/500\n",
      "24/24 [==============================] - 0s 4ms/step - loss: 46.2854 - val_loss: 1049.4149\n",
      "Epoch 274/500\n",
      "24/24 [==============================] - 0s 4ms/step - loss: 46.2859 - val_loss: 1049.4240\n",
      "Epoch 275/500\n",
      "24/24 [==============================] - 0s 4ms/step - loss: 46.2865 - val_loss: 1049.4321\n",
      "Epoch 276/500\n",
      "24/24 [==============================] - 0s 4ms/step - loss: 46.2870 - val_loss: 1049.4391\n",
      "Epoch 277/500\n",
      "24/24 [==============================] - 0s 4ms/step - loss: 46.2876 - val_loss: 1049.4456\n",
      "Epoch 278/500\n",
      "24/24 [==============================] - 0s 4ms/step - loss: 46.2882 - val_loss: 1049.4518\n",
      "Epoch 279/500\n",
      "24/24 [==============================] - 0s 4ms/step - loss: 46.2887 - val_loss: 1049.4568\n",
      "Epoch 280/500\n",
      "24/24 [==============================] - 0s 4ms/step - loss: 46.2893 - val_loss: 1049.4611\n",
      "Epoch 281/500\n",
      "24/24 [==============================] - 0s 4ms/step - loss: 46.2899 - val_loss: 1049.4651\n",
      "Epoch 282/500\n",
      "24/24 [==============================] - 0s 4ms/step - loss: 46.2906 - val_loss: 1049.4685\n",
      "Epoch 283/500\n",
      "24/24 [==============================] - 0s 4ms/step - loss: 46.2911 - val_loss: 1049.4716\n",
      "Epoch 284/500\n",
      "24/24 [==============================] - 0s 7ms/step - loss: 46.2918 - val_loss: 1049.4741\n",
      "Epoch 285/500\n",
      "24/24 [==============================] - 0s 4ms/step - loss: 46.2924 - val_loss: 1049.4764\n",
      "Epoch 286/500\n",
      "24/24 [==============================] - 0s 4ms/step - loss: 46.2930 - val_loss: 1049.4788\n",
      "Epoch 287/500\n",
      "24/24 [==============================] - 0s 4ms/step - loss: 46.2936 - val_loss: 1049.4800\n",
      "Epoch 288/500\n",
      "24/24 [==============================] - 0s 4ms/step - loss: 46.2942 - val_loss: 1049.4814\n",
      "Epoch 289/500\n",
      "24/24 [==============================] - 0s 5ms/step - loss: 46.2948 - val_loss: 1049.4822\n",
      "Epoch 290/500\n",
      "24/24 [==============================] - 0s 4ms/step - loss: 46.2954 - val_loss: 1049.4828\n",
      "Epoch 291/500\n",
      "24/24 [==============================] - 0s 4ms/step - loss: 46.2961 - val_loss: 1049.4840\n",
      "Epoch 292/500\n",
      "24/24 [==============================] - 0s 4ms/step - loss: 46.2967 - val_loss: 1049.4844\n",
      "Epoch 293/500\n",
      "24/24 [==============================] - 0s 4ms/step - loss: 46.2972 - val_loss: 1049.4844\n",
      "Epoch 294/500\n",
      "24/24 [==============================] - 0s 4ms/step - loss: 46.2978 - val_loss: 1049.4843\n",
      "Epoch 295/500\n",
      "24/24 [==============================] - 0s 4ms/step - loss: 46.2984 - val_loss: 1049.4839\n",
      "Epoch 296/500\n",
      "24/24 [==============================] - 0s 4ms/step - loss: 46.2990 - val_loss: 1049.4836\n",
      "Epoch 297/500\n",
      "24/24 [==============================] - 0s 4ms/step - loss: 46.2996 - val_loss: 1049.4834\n",
      "Epoch 298/500\n",
      "24/24 [==============================] - 0s 4ms/step - loss: 46.3001 - val_loss: 1049.4825\n",
      "Epoch 299/500\n",
      "24/24 [==============================] - 0s 4ms/step - loss: 46.3007 - val_loss: 1049.4813\n",
      "Epoch 300/500\n",
      "24/24 [==============================] - 0s 4ms/step - loss: 46.3013 - val_loss: 1049.4806\n",
      "Epoch 301/500\n",
      "24/24 [==============================] - 0s 8ms/step - loss: 46.3019 - val_loss: 1049.4800\n",
      "Epoch 302/500\n",
      "24/24 [==============================] - 0s 5ms/step - loss: 46.3024 - val_loss: 1049.4794\n",
      "Epoch 303/500\n",
      "24/24 [==============================] - 0s 4ms/step - loss: 46.3030 - val_loss: 1049.4778\n",
      "Epoch 304/500\n",
      "24/24 [==============================] - 0s 4ms/step - loss: 46.3036 - val_loss: 1049.4769\n",
      "Epoch 305/500\n",
      "24/24 [==============================] - 0s 4ms/step - loss: 46.3040 - val_loss: 1049.4762\n",
      "Epoch 306/500\n",
      "24/24 [==============================] - 0s 5ms/step - loss: 46.3046 - val_loss: 1049.4747\n",
      "Epoch 307/500\n",
      "24/24 [==============================] - 0s 4ms/step - loss: 46.3050 - val_loss: 1049.4734\n",
      "Epoch 308/500\n",
      "24/24 [==============================] - 0s 5ms/step - loss: 46.3056 - val_loss: 1049.4724\n",
      "Epoch 309/500\n",
      "24/24 [==============================] - 0s 5ms/step - loss: 46.3061 - val_loss: 1049.4705\n",
      "Epoch 310/500\n",
      "24/24 [==============================] - 0s 4ms/step - loss: 46.3066 - val_loss: 1049.4696\n",
      "Epoch 311/500\n",
      "24/24 [==============================] - 0s 4ms/step - loss: 46.3071 - val_loss: 1049.4681\n",
      "Epoch 312/500\n",
      "24/24 [==============================] - 0s 4ms/step - loss: 46.3076 - val_loss: 1049.4664\n",
      "Epoch 313/500\n",
      "24/24 [==============================] - 0s 5ms/step - loss: 46.3080 - val_loss: 1049.4651\n",
      "Epoch 314/500\n",
      "24/24 [==============================] - 0s 4ms/step - loss: 46.3085 - val_loss: 1049.4634\n",
      "Epoch 315/500\n",
      "24/24 [==============================] - 0s 4ms/step - loss: 46.3090 - val_loss: 1049.4623\n",
      "Epoch 316/500\n",
      "24/24 [==============================] - 0s 4ms/step - loss: 46.3094 - val_loss: 1049.4602\n",
      "Epoch 317/500\n",
      "24/24 [==============================] - 0s 4ms/step - loss: 46.3099 - val_loss: 1049.4591\n",
      "Epoch 318/500\n",
      "24/24 [==============================] - 0s 10ms/step - loss: 46.3104 - val_loss: 1049.4580\n",
      "Epoch 319/500\n",
      "24/24 [==============================] - 0s 6ms/step - loss: 46.3108 - val_loss: 1049.4564\n",
      "Epoch 320/500\n",
      "24/24 [==============================] - 0s 5ms/step - loss: 46.3112 - val_loss: 1049.4553\n",
      "Epoch 321/500\n",
      "24/24 [==============================] - 0s 5ms/step - loss: 46.3117 - val_loss: 1049.4536\n",
      "Epoch 322/500\n",
      "24/24 [==============================] - 0s 4ms/step - loss: 46.3120 - val_loss: 1049.4525\n",
      "Epoch 323/500\n",
      "24/24 [==============================] - 0s 4ms/step - loss: 46.3124 - val_loss: 1049.4509\n",
      "Epoch 324/500\n",
      "24/24 [==============================] - 0s 4ms/step - loss: 46.3129 - val_loss: 1049.4497\n",
      "Epoch 325/500\n",
      "24/24 [==============================] - 0s 4ms/step - loss: 46.3133 - val_loss: 1049.4486\n",
      "Epoch 326/500\n",
      "24/24 [==============================] - 0s 4ms/step - loss: 46.3136 - val_loss: 1049.4469\n",
      "Epoch 327/500\n",
      "24/24 [==============================] - 0s 4ms/step - loss: 46.3140 - val_loss: 1049.4459\n",
      "Epoch 328/500\n",
      "24/24 [==============================] - 0s 5ms/step - loss: 46.3144 - val_loss: 1049.4440\n",
      "Epoch 329/500\n",
      "24/24 [==============================] - 0s 4ms/step - loss: 46.3148 - val_loss: 1049.4427\n",
      "Epoch 330/500\n",
      "24/24 [==============================] - 0s 4ms/step - loss: 46.3152 - val_loss: 1049.4421\n",
      "Epoch 331/500\n",
      "24/24 [==============================] - 0s 4ms/step - loss: 46.3155 - val_loss: 1049.4409\n",
      "Epoch 332/500\n",
      "24/24 [==============================] - 0s 5ms/step - loss: 46.3159 - val_loss: 1049.4397\n",
      "Epoch 333/500\n",
      "24/24 [==============================] - 0s 5ms/step - loss: 46.3162 - val_loss: 1049.4386\n",
      "Epoch 334/500\n",
      "24/24 [==============================] - 0s 8ms/step - loss: 46.3165 - val_loss: 1049.4371\n",
      "Epoch 335/500\n",
      "24/24 [==============================] - 0s 5ms/step - loss: 46.3169 - val_loss: 1049.4364\n",
      "Epoch 336/500\n",
      "24/24 [==============================] - 0s 5ms/step - loss: 46.3172 - val_loss: 1049.4354\n",
      "Epoch 337/500\n",
      "24/24 [==============================] - 0s 6ms/step - loss: 46.3174 - val_loss: 1049.4342\n",
      "Epoch 338/500\n",
      "24/24 [==============================] - 0s 5ms/step - loss: 46.3178 - val_loss: 1049.4329\n",
      "Epoch 339/500\n",
      "24/24 [==============================] - 0s 5ms/step - loss: 46.3181 - val_loss: 1049.4318\n",
      "Epoch 340/500\n",
      "24/24 [==============================] - 0s 5ms/step - loss: 46.3184 - val_loss: 1049.4309\n",
      "Epoch 341/500\n",
      "24/24 [==============================] - 0s 4ms/step - loss: 46.3187 - val_loss: 1049.4296\n",
      "Epoch 342/500\n",
      "24/24 [==============================] - 0s 4ms/step - loss: 46.3190 - val_loss: 1049.4285\n",
      "Epoch 343/500\n",
      "24/24 [==============================] - 0s 5ms/step - loss: 46.3192 - val_loss: 1049.4276\n",
      "Epoch 344/500\n",
      "24/24 [==============================] - 0s 5ms/step - loss: 46.3195 - val_loss: 1049.4265\n",
      "Epoch 345/500\n",
      "24/24 [==============================] - 0s 5ms/step - loss: 46.3198 - val_loss: 1049.4252\n",
      "Epoch 346/500\n",
      "24/24 [==============================] - 0s 5ms/step - loss: 46.3201 - val_loss: 1049.4248\n",
      "Epoch 347/500\n",
      "24/24 [==============================] - 0s 4ms/step - loss: 46.3203 - val_loss: 1049.4241\n",
      "Epoch 348/500\n",
      "24/24 [==============================] - 0s 5ms/step - loss: 46.3205 - val_loss: 1049.4230\n",
      "Epoch 349/500\n",
      "24/24 [==============================] - 0s 7ms/step - loss: 46.3208 - val_loss: 1049.4216\n",
      "Epoch 350/500\n",
      "24/24 [==============================] - 0s 6ms/step - loss: 46.3211 - val_loss: 1049.4209\n",
      "Epoch 351/500\n",
      "24/24 [==============================] - 0s 5ms/step - loss: 46.3213 - val_loss: 1049.4202\n",
      "Epoch 352/500\n",
      "24/24 [==============================] - 0s 4ms/step - loss: 46.3215 - val_loss: 1049.4188\n",
      "Epoch 353/500\n",
      "24/24 [==============================] - 0s 4ms/step - loss: 46.3218 - val_loss: 1049.4177\n",
      "Epoch 354/500\n",
      "24/24 [==============================] - 0s 4ms/step - loss: 46.3220 - val_loss: 1049.4172\n",
      "Epoch 355/500\n",
      "24/24 [==============================] - 0s 4ms/step - loss: 46.3222 - val_loss: 1049.4166\n",
      "Epoch 356/500\n",
      "24/24 [==============================] - 0s 4ms/step - loss: 46.3224 - val_loss: 1049.4153\n",
      "Epoch 357/500\n",
      "24/24 [==============================] - 0s 4ms/step - loss: 46.3227 - val_loss: 1049.4144\n",
      "Epoch 358/500\n",
      "24/24 [==============================] - 0s 4ms/step - loss: 46.3229 - val_loss: 1049.4137\n",
      "Epoch 359/500\n",
      "24/24 [==============================] - 0s 4ms/step - loss: 46.3231 - val_loss: 1049.4130\n",
      "Epoch 360/500\n",
      "24/24 [==============================] - 0s 4ms/step - loss: 46.3233 - val_loss: 1049.4124\n",
      "Epoch 361/500\n",
      "24/24 [==============================] - 0s 4ms/step - loss: 46.3234 - val_loss: 1049.4111\n",
      "Epoch 362/500\n",
      "24/24 [==============================] - 0s 5ms/step - loss: 46.3236 - val_loss: 1049.4104\n",
      "Epoch 363/500\n",
      "24/24 [==============================] - 0s 4ms/step - loss: 46.3238 - val_loss: 1049.4099\n",
      "Epoch 364/500\n",
      "24/24 [==============================] - 0s 4ms/step - loss: 46.3240 - val_loss: 1049.4093\n",
      "Epoch 365/500\n",
      "24/24 [==============================] - 0s 4ms/step - loss: 46.3242 - val_loss: 1049.4086\n",
      "Epoch 366/500\n",
      "24/24 [==============================] - 0s 4ms/step - loss: 46.3244 - val_loss: 1049.4081\n",
      "Epoch 367/500\n",
      "24/24 [==============================] - 0s 4ms/step - loss: 46.3245 - val_loss: 1049.4073\n",
      "Epoch 368/500\n",
      "24/24 [==============================] - 0s 5ms/step - loss: 46.3247 - val_loss: 1049.4064\n",
      "Epoch 369/500\n",
      "24/24 [==============================] - 0s 4ms/step - loss: 46.3248 - val_loss: 1049.4059\n",
      "Epoch 370/500\n",
      "24/24 [==============================] - 0s 7ms/step - loss: 46.3250 - val_loss: 1049.4055\n",
      "Epoch 371/500\n",
      "24/24 [==============================] - 0s 5ms/step - loss: 46.3252 - val_loss: 1049.4048\n",
      "Epoch 372/500\n",
      "24/24 [==============================] - 0s 5ms/step - loss: 46.3254 - val_loss: 1049.4044\n",
      "Epoch 373/500\n",
      "24/24 [==============================] - 0s 5ms/step - loss: 46.3255 - val_loss: 1049.4039\n",
      "Epoch 374/500\n",
      "24/24 [==============================] - 0s 5ms/step - loss: 46.3256 - val_loss: 1049.4030\n",
      "Epoch 375/500\n",
      "24/24 [==============================] - 0s 4ms/step - loss: 46.3257 - val_loss: 1049.4019\n",
      "Epoch 376/500\n",
      "24/24 [==============================] - 0s 4ms/step - loss: 46.3260 - val_loss: 1049.4015\n",
      "Epoch 377/500\n",
      "24/24 [==============================] - 0s 4ms/step - loss: 46.3260 - val_loss: 1049.4009\n",
      "Epoch 378/500\n",
      "24/24 [==============================] - 0s 4ms/step - loss: 46.3261 - val_loss: 1049.4001\n",
      "Epoch 379/500\n",
      "24/24 [==============================] - 0s 4ms/step - loss: 46.3263 - val_loss: 1049.3995\n",
      "Epoch 380/500\n",
      "24/24 [==============================] - 0s 4ms/step - loss: 46.3264 - val_loss: 1049.3990\n",
      "Epoch 381/500\n",
      "24/24 [==============================] - 0s 4ms/step - loss: 46.3265 - val_loss: 1049.3978\n",
      "Epoch 382/500\n",
      "24/24 [==============================] - 0s 4ms/step - loss: 46.3267 - val_loss: 1049.3973\n",
      "Epoch 383/500\n",
      "24/24 [==============================] - 0s 5ms/step - loss: 46.3268 - val_loss: 1049.3966\n",
      "Epoch 384/500\n",
      "24/24 [==============================] - 0s 4ms/step - loss: 46.3270 - val_loss: 1049.3965\n",
      "Epoch 385/500\n",
      "24/24 [==============================] - 0s 4ms/step - loss: 46.3270 - val_loss: 1049.3958\n",
      "Epoch 386/500\n",
      "24/24 [==============================] - 0s 4ms/step - loss: 46.3271 - val_loss: 1049.3954\n",
      "Epoch 387/500\n",
      "24/24 [==============================] - 0s 4ms/step - loss: 46.3273 - val_loss: 1049.3950\n",
      "Epoch 388/500\n",
      "24/24 [==============================] - 0s 4ms/step - loss: 46.3273 - val_loss: 1049.3943\n",
      "Epoch 389/500\n",
      "24/24 [==============================] - 0s 4ms/step - loss: 46.3275 - val_loss: 1049.3934\n",
      "Epoch 390/500\n",
      "24/24 [==============================] - 0s 5ms/step - loss: 46.3276 - val_loss: 1049.3929\n",
      "Epoch 391/500\n",
      "24/24 [==============================] - 0s 5ms/step - loss: 46.3277 - val_loss: 1049.3925\n",
      "Epoch 392/500\n",
      "24/24 [==============================] - 0s 4ms/step - loss: 46.3278 - val_loss: 1049.3918\n",
      "Epoch 393/500\n",
      "24/24 [==============================] - 0s 7ms/step - loss: 46.3279 - val_loss: 1049.3915\n",
      "Epoch 394/500\n",
      "24/24 [==============================] - 0s 4ms/step - loss: 46.3280 - val_loss: 1049.3911\n",
      "Epoch 395/500\n",
      "24/24 [==============================] - 0s 4ms/step - loss: 46.3281 - val_loss: 1049.3907\n",
      "Epoch 396/500\n",
      "24/24 [==============================] - 0s 4ms/step - loss: 46.3281 - val_loss: 1049.3901\n",
      "Epoch 397/500\n",
      "24/24 [==============================] - 0s 4ms/step - loss: 46.3282 - val_loss: 1049.3890\n",
      "Epoch 398/500\n",
      "24/24 [==============================] - 0s 4ms/step - loss: 46.3283 - val_loss: 1049.3888\n",
      "Epoch 399/500\n",
      "24/24 [==============================] - 0s 4ms/step - loss: 46.3284 - val_loss: 1049.3882\n",
      "Epoch 400/500\n",
      "24/24 [==============================] - 0s 4ms/step - loss: 46.3285 - val_loss: 1049.3876\n",
      "Epoch 401/500\n",
      "24/24 [==============================] - 0s 4ms/step - loss: 46.3286 - val_loss: 1049.3872\n",
      "Epoch 402/500\n",
      "24/24 [==============================] - 0s 4ms/step - loss: 46.3287 - val_loss: 1049.3870\n",
      "Epoch 403/500\n",
      "24/24 [==============================] - 0s 5ms/step - loss: 46.3287 - val_loss: 1049.3866\n",
      "Epoch 404/500\n",
      "24/24 [==============================] - 0s 5ms/step - loss: 46.3288 - val_loss: 1049.3861\n",
      "Epoch 405/500\n",
      "24/24 [==============================] - 0s 5ms/step - loss: 46.3289 - val_loss: 1049.3862\n",
      "Epoch 406/500\n",
      "24/24 [==============================] - 0s 4ms/step - loss: 46.3289 - val_loss: 1049.3859\n",
      "Epoch 407/500\n",
      "24/24 [==============================] - 0s 4ms/step - loss: 46.3290 - val_loss: 1049.3854\n",
      "Epoch 408/500\n",
      "24/24 [==============================] - 0s 5ms/step - loss: 46.3291 - val_loss: 1049.3850\n",
      "Epoch 409/500\n",
      "24/24 [==============================] - 0s 5ms/step - loss: 46.3291 - val_loss: 1049.3845\n",
      "Epoch 410/500\n",
      "24/24 [==============================] - 0s 5ms/step - loss: 46.3292 - val_loss: 1049.3842\n",
      "Epoch 411/500\n",
      "24/24 [==============================] - 0s 4ms/step - loss: 46.3293 - val_loss: 1049.3832\n",
      "Epoch 412/500\n",
      "24/24 [==============================] - 0s 9ms/step - loss: 46.3294 - val_loss: 1049.3829\n",
      "Epoch 413/500\n",
      "24/24 [==============================] - 0s 5ms/step - loss: 46.3295 - val_loss: 1049.3824\n",
      "Epoch 414/500\n",
      "24/24 [==============================] - 0s 6ms/step - loss: 46.3295 - val_loss: 1049.3817\n",
      "Epoch 415/500\n",
      "24/24 [==============================] - 0s 9ms/step - loss: 46.3296 - val_loss: 1049.3815\n",
      "Epoch 416/500\n",
      "24/24 [==============================] - 0s 8ms/step - loss: 46.3296 - val_loss: 1049.3810\n",
      "Epoch 417/500\n",
      "24/24 [==============================] - 0s 6ms/step - loss: 46.3296 - val_loss: 1049.3806\n",
      "Epoch 418/500\n",
      "24/24 [==============================] - 0s 5ms/step - loss: 46.3297 - val_loss: 1049.3805\n",
      "Epoch 419/500\n",
      "24/24 [==============================] - 0s 5ms/step - loss: 46.3297 - val_loss: 1049.3804\n",
      "Epoch 420/500\n",
      "24/24 [==============================] - 0s 4ms/step - loss: 46.3297 - val_loss: 1049.3796\n",
      "Epoch 421/500\n",
      "24/24 [==============================] - 0s 4ms/step - loss: 46.3298 - val_loss: 1049.3795\n",
      "Epoch 422/500\n",
      "24/24 [==============================] - 0s 4ms/step - loss: 46.3299 - val_loss: 1049.3792\n",
      "Epoch 423/500\n",
      "24/24 [==============================] - 0s 5ms/step - loss: 46.3299 - val_loss: 1049.3788\n",
      "Epoch 424/500\n",
      "24/24 [==============================] - 0s 4ms/step - loss: 46.3300 - val_loss: 1049.3784\n",
      "Epoch 425/500\n",
      "24/24 [==============================] - 0s 4ms/step - loss: 46.3300 - val_loss: 1049.3783\n",
      "Epoch 426/500\n",
      "24/24 [==============================] - 0s 4ms/step - loss: 46.3301 - val_loss: 1049.3779\n",
      "Epoch 427/500\n",
      "24/24 [==============================] - 0s 4ms/step - loss: 46.3301 - val_loss: 1049.3774\n",
      "Epoch 428/500\n",
      "24/24 [==============================] - 0s 4ms/step - loss: 46.3302 - val_loss: 1049.3773\n",
      "Epoch 429/500\n",
      "24/24 [==============================] - 0s 4ms/step - loss: 46.3303 - val_loss: 1049.3770\n",
      "Epoch 430/500\n",
      "24/24 [==============================] - 0s 8ms/step - loss: 46.3303 - val_loss: 1049.3767\n",
      "Epoch 431/500\n",
      "24/24 [==============================] - 0s 4ms/step - loss: 46.3303 - val_loss: 1049.3763\n",
      "Epoch 432/500\n",
      "24/24 [==============================] - 0s 5ms/step - loss: 46.3304 - val_loss: 1049.3766\n",
      "Epoch 433/500\n",
      "24/24 [==============================] - 0s 5ms/step - loss: 46.3304 - val_loss: 1049.3765\n",
      "Epoch 434/500\n",
      "24/24 [==============================] - 0s 4ms/step - loss: 46.3304 - val_loss: 1049.3759\n",
      "Epoch 435/500\n",
      "24/24 [==============================] - 0s 4ms/step - loss: 46.3304 - val_loss: 1049.3754\n",
      "Epoch 436/500\n",
      "24/24 [==============================] - 0s 6ms/step - loss: 46.3305 - val_loss: 1049.3745\n",
      "Epoch 437/500\n",
      "24/24 [==============================] - 0s 4ms/step - loss: 46.3305 - val_loss: 1049.3737\n",
      "Epoch 438/500\n",
      "24/24 [==============================] - 0s 4ms/step - loss: 46.3306 - val_loss: 1049.3740\n",
      "Epoch 439/500\n",
      "24/24 [==============================] - 0s 4ms/step - loss: 46.3306 - val_loss: 1049.3740\n",
      "Epoch 440/500\n",
      "24/24 [==============================] - 0s 4ms/step - loss: 46.3306 - val_loss: 1049.3735\n",
      "Epoch 441/500\n",
      "24/24 [==============================] - 0s 4ms/step - loss: 46.3306 - val_loss: 1049.3727\n",
      "Epoch 442/500\n",
      "24/24 [==============================] - 0s 5ms/step - loss: 46.3307 - val_loss: 1049.3724\n",
      "Epoch 443/500\n",
      "24/24 [==============================] - 0s 4ms/step - loss: 46.3307 - val_loss: 1049.3719\n",
      "Epoch 444/500\n",
      "24/24 [==============================] - 0s 4ms/step - loss: 46.3307 - val_loss: 1049.3716\n",
      "Epoch 445/500\n",
      "24/24 [==============================] - 0s 4ms/step - loss: 46.3307 - val_loss: 1049.3711\n",
      "Epoch 446/500\n",
      "24/24 [==============================] - 0s 4ms/step - loss: 46.3307 - val_loss: 1049.3708\n",
      "Epoch 447/500\n",
      "24/24 [==============================] - 0s 4ms/step - loss: 46.3309 - val_loss: 1049.3706\n",
      "Epoch 448/500\n",
      "24/24 [==============================] - 0s 4ms/step - loss: 46.3308 - val_loss: 1049.3706\n",
      "Epoch 449/500\n",
      "24/24 [==============================] - 0s 4ms/step - loss: 46.3308 - val_loss: 1049.3702\n",
      "Epoch 450/500\n",
      "24/24 [==============================] - 0s 8ms/step - loss: 46.3309 - val_loss: 1049.3699\n",
      "Epoch 451/500\n",
      "24/24 [==============================] - 0s 4ms/step - loss: 46.3309 - val_loss: 1049.3696\n",
      "Epoch 452/500\n",
      "24/24 [==============================] - 0s 4ms/step - loss: 46.3309 - val_loss: 1049.3690\n",
      "Epoch 453/500\n",
      "24/24 [==============================] - 0s 4ms/step - loss: 46.3309 - val_loss: 1049.3685\n",
      "Epoch 454/500\n",
      "24/24 [==============================] - 0s 4ms/step - loss: 46.3309 - val_loss: 1049.3683\n",
      "Epoch 455/500\n",
      "24/24 [==============================] - 0s 4ms/step - loss: 46.3310 - val_loss: 1049.3680\n",
      "Epoch 456/500\n",
      "24/24 [==============================] - 0s 4ms/step - loss: 46.3310 - val_loss: 1049.3677\n",
      "Epoch 457/500\n",
      "24/24 [==============================] - 0s 4ms/step - loss: 46.3310 - val_loss: 1049.3673\n",
      "Epoch 458/500\n",
      "24/24 [==============================] - 0s 4ms/step - loss: 46.3310 - val_loss: 1049.3671\n",
      "Epoch 459/500\n",
      "24/24 [==============================] - 0s 5ms/step - loss: 46.3310 - val_loss: 1049.3663\n",
      "Epoch 460/500\n",
      "24/24 [==============================] - 0s 5ms/step - loss: 46.3311 - val_loss: 1049.3656\n",
      "Epoch 461/500\n",
      "24/24 [==============================] - 0s 4ms/step - loss: 46.3311 - val_loss: 1049.3652\n",
      "Epoch 462/500\n",
      "24/24 [==============================] - 0s 4ms/step - loss: 46.3311 - val_loss: 1049.3651\n",
      "Epoch 463/500\n",
      "24/24 [==============================] - 0s 4ms/step - loss: 46.3311 - val_loss: 1049.3650\n",
      "Epoch 464/500\n",
      "24/24 [==============================] - 0s 4ms/step - loss: 46.3312 - val_loss: 1049.3638\n",
      "Epoch 465/500\n",
      "24/24 [==============================] - 0s 4ms/step - loss: 46.3312 - val_loss: 1049.3617\n",
      "Epoch 466/500\n",
      "24/24 [==============================] - 0s 4ms/step - loss: 46.3312 - val_loss: 1049.3524\n",
      "Epoch 467/500\n",
      "24/24 [==============================] - 0s 4ms/step - loss: 46.2508 - val_loss: 1048.3083\n",
      "Epoch 468/500\n",
      "24/24 [==============================] - 0s 4ms/step - loss: 46.4179 - val_loss: 1048.6013\n",
      "Epoch 469/500\n",
      "24/24 [==============================] - 0s 4ms/step - loss: 46.3824 - val_loss: 1048.7035\n",
      "Epoch 470/500\n",
      "24/24 [==============================] - 0s 5ms/step - loss: 46.3730 - val_loss: 1048.7819\n",
      "Epoch 471/500\n",
      "24/24 [==============================] - 0s 4ms/step - loss: 46.3676 - val_loss: 1048.8489\n",
      "Epoch 472/500\n",
      "24/24 [==============================] - 0s 7ms/step - loss: 46.3637 - val_loss: 1048.9080\n",
      "Epoch 473/500\n",
      "24/24 [==============================] - 0s 4ms/step - loss: 46.3606 - val_loss: 1048.9596\n",
      "Epoch 474/500\n",
      "24/24 [==============================] - 0s 5ms/step - loss: 46.3580 - val_loss: 1049.0051\n",
      "Epoch 475/500\n",
      "24/24 [==============================] - 0s 4ms/step - loss: 46.3558 - val_loss: 1049.0450\n",
      "Epoch 476/500\n",
      "24/24 [==============================] - 0s 4ms/step - loss: 46.3540 - val_loss: 1049.0797\n",
      "Epoch 477/500\n",
      "24/24 [==============================] - 0s 4ms/step - loss: 46.3524 - val_loss: 1049.1110\n",
      "Epoch 478/500\n",
      "24/24 [==============================] - 0s 5ms/step - loss: 46.3511 - val_loss: 1049.1389\n",
      "Epoch 479/500\n",
      "24/24 [==============================] - 0s 4ms/step - loss: 46.3498 - val_loss: 1049.1633\n",
      "Epoch 480/500\n",
      "24/24 [==============================] - 0s 4ms/step - loss: 46.3488 - val_loss: 1049.1855\n",
      "Epoch 481/500\n",
      "24/24 [==============================] - 0s 4ms/step - loss: 46.3479 - val_loss: 1049.2050\n",
      "Epoch 482/500\n",
      "24/24 [==============================] - 0s 4ms/step - loss: 46.3471 - val_loss: 1049.2222\n",
      "Epoch 483/500\n",
      "24/24 [==============================] - 0s 5ms/step - loss: 46.3464 - val_loss: 1049.2380\n",
      "Epoch 484/500\n",
      "24/24 [==============================] - 0s 4ms/step - loss: 46.3457 - val_loss: 1049.2513\n",
      "Epoch 485/500\n",
      "24/24 [==============================] - 0s 4ms/step - loss: 46.3451 - val_loss: 1049.2632\n",
      "Epoch 486/500\n",
      "24/24 [==============================] - 0s 5ms/step - loss: 46.3446 - val_loss: 1049.2739\n",
      "Epoch 487/500\n",
      "24/24 [==============================] - 0s 5ms/step - loss: 46.3441 - val_loss: 1049.2837\n",
      "Epoch 488/500\n",
      "24/24 [==============================] - 0s 4ms/step - loss: 46.3437 - val_loss: 1049.2924\n",
      "Epoch 489/500\n",
      "24/24 [==============================] - 0s 4ms/step - loss: 46.3433 - val_loss: 1049.2998\n",
      "Epoch 490/500\n",
      "24/24 [==============================] - 0s 4ms/step - loss: 46.3429 - val_loss: 1049.3063\n",
      "Epoch 491/500\n",
      "24/24 [==============================] - 0s 8ms/step - loss: 46.3426 - val_loss: 1049.3124\n",
      "Epoch 492/500\n",
      "24/24 [==============================] - 0s 5ms/step - loss: 46.3423 - val_loss: 1049.3171\n",
      "Epoch 493/500\n",
      "24/24 [==============================] - 0s 4ms/step - loss: 46.3421 - val_loss: 1049.3220\n",
      "Epoch 494/500\n",
      "24/24 [==============================] - 0s 4ms/step - loss: 46.3419 - val_loss: 1049.3263\n",
      "Epoch 495/500\n",
      "24/24 [==============================] - 0s 4ms/step - loss: 46.3417 - val_loss: 1049.3300\n",
      "Epoch 496/500\n",
      "24/24 [==============================] - 0s 4ms/step - loss: 46.3415 - val_loss: 1049.3336\n",
      "Epoch 497/500\n",
      "24/24 [==============================] - 0s 4ms/step - loss: 46.3413 - val_loss: 1049.3369\n",
      "Epoch 498/500\n",
      "24/24 [==============================] - 0s 4ms/step - loss: 46.3411 - val_loss: 1049.3391\n",
      "Epoch 499/500\n",
      "24/24 [==============================] - 0s 4ms/step - loss: 46.3410 - val_loss: 1049.3418\n",
      "Epoch 500/500\n",
      "24/24 [==============================] - 0s 4ms/step - loss: 46.3408 - val_loss: 1049.3441\n"
     ]
    }
   ],
   "source": [
    "C0 = tf.Variable(85.7336, name=\"C0\", trainable=True, dtype=tf.float32)\n",
    "K0 = tf.Variable(-0.0020, name=\"K0\", trainable=True, dtype=tf.float32)\n",
    "K1 = tf.Variable(-0.0002, name=\"K1\", trainable=True, dtype=tf.float32)\n",
    "a = tf.Variable(0.0000, name=\"a\", trainable=True, dtype=tf.float32)\n",
    "b = tf.Variable(0.0125, name=\"b\", trainable=True, dtype=tf.float32)\n",
    "c = tf.Variable(2.3008, name=\"c\", trainable=True, dtype=tf.float32)\n",
    "\n",
    "splitr = 0.8\n",
    "\n",
    "\n",
    "def loss_fn(y_true, y_pred):\n",
    "    squared_difference = tf.square(y_true[:, 0] - y_pred[:, 0])\n",
    "    #squared_difference2 = tf.square(y_true[:, 2]-y_pred[:, 2])\n",
    "    #squared_difference1 = tf.square(y_true[:, 1]-y_pred[:, 1])\n",
    "    epsilon = 1\n",
    "    squared_difference3 = tf.square(\n",
    "        y_pred[:, 1] - (\n",
    "            y_pred[:, 0] * (\n",
    "                K0 - K1 * (\n",
    "                    9 * a * tf.math.log((y_pred[:, 0] + epsilon) / C0) / (K0 - K1 * c)**2 +\n",
    "                    4 * b * tf.math.log((y_pred[:, 0] + epsilon) / C0) / (K0 - K1 * c) + c\n",
    "                )\n",
    "            )\n",
    "        )\n",
    "    )\n",
    "    return tf.reduce_mean(squared_difference, axis=-1) + 0.2*tf.reduce_mean(squared_difference3, axis=-1)\n",
    "model = Sequential()\n",
    "model.add(LSTM(100, input_shape=(trainX.shape[1], trainX.shape[2])))\n",
    "model.add(Dense(60))\n",
    "model.compile(loss=loss_fn, optimizer='adam')\n",
    "history = model.fit(trainX[:int(splitr*trainX.shape[0])], trainy[:int(splitr*trainX.shape[0])], epochs=500, batch_size=64, validation_data=(trainX[int(splitr*trainX.shape[0]):trainX.shape[0]], trainy[int(splitr*trainX.shape[0]):trainX.shape[0]]), shuffle=False)"
   ]
  },
  {
   "cell_type": "code",
   "execution_count": 19,
   "metadata": {
    "colab": {
     "base_uri": "https://localhost:8080/"
    },
    "id": "yJL101rPyuoT",
    "outputId": "239ff2b1-c186-423a-d316-939dfdd7c793"
   },
   "outputs": [
    {
     "name": "stdout",
     "output_type": "stream",
     "text": [
      "1/1 [==============================] - 0s 377ms/step\n"
     ]
    }
   ],
   "source": [
    "forecast_without_mc = forecastX\n",
    "yhat_without_mc = model.predict(forecast_without_mc) # Step Ahead Prediction\n",
    "forecast_without_mc = forecast_without_mc.reshape((forecast_without_mc.shape[0], forecast_without_mc.shape[2])) # Historical Input"
   ]
  },
  {
   "cell_type": "code",
   "execution_count": 20,
   "metadata": {
    "colab": {
     "base_uri": "https://localhost:8080/"
    },
    "id": "g9dQELcJ8wbp",
    "outputId": "4dc7671b-b1a8-48d5-8744-a86f98446109"
   },
   "outputs": [
    {
     "data": {
      "text/plain": [
       "(1, 1, 251)"
      ]
     },
     "execution_count": 20,
     "metadata": {},
     "output_type": "execute_result"
    }
   ],
   "source": [
    "forecastX.shape"
   ]
  },
  {
   "cell_type": "code",
   "execution_count": 21,
   "metadata": {
    "colab": {
     "base_uri": "https://localhost:8080/"
    },
    "id": "IS2kyIKG1Kbr",
    "outputId": "f31b3485-8e26-452f-9298-ea8bf7e80ad1"
   },
   "outputs": [
    {
     "data": {
      "text/plain": [
       "(1, 251)"
      ]
     },
     "execution_count": 21,
     "metadata": {},
     "output_type": "execute_result"
    }
   ],
   "source": [
    "forecast_without_mc.shape"
   ]
  },
  {
   "cell_type": "code",
   "execution_count": 22,
   "metadata": {
    "id": "0u6VIzaDyuoT"
   },
   "outputs": [],
   "source": [
    "inv_yhat_without_mc = np.concatenate((forecast_without_mc, yhat_without_mc), axis=1) # Concatenation of predicted values with Historical Data\n",
    "#inv_yhat_without_mc = scaler.inverse_transform(inv_yhat_without_mc) # Transform labels back to original encoding"
   ]
  },
  {
   "cell_type": "code",
   "execution_count": 23,
   "metadata": {
    "colab": {
     "base_uri": "https://localhost:8080/"
    },
    "id": "EUEcw0LX07oU",
    "outputId": "cfc32397-9c37-4b43-d087-584bb31c3dcc"
   },
   "outputs": [
    {
     "data": {
      "text/plain": [
       "(1, 311)"
      ]
     },
     "execution_count": 23,
     "metadata": {},
     "output_type": "execute_result"
    }
   ],
   "source": [
    "inv_yhat_without_mc.shape"
   ]
  },
  {
   "cell_type": "code",
   "execution_count": 24,
   "metadata": {
    "id": "31OWVbSh_305"
   },
   "outputs": [],
   "source": [
    "fforecast = inv_yhat_without_mc[:,-300:]"
   ]
  },
  {
   "cell_type": "code",
   "execution_count": 25,
   "metadata": {},
   "outputs": [
    {
     "data": {
      "text/plain": [
       "(1, 300)"
      ]
     },
     "execution_count": 25,
     "metadata": {},
     "output_type": "execute_result"
    }
   ],
   "source": [
    "fforecast.shape"
   ]
  },
  {
   "cell_type": "code",
   "execution_count": 26,
   "metadata": {
    "id": "BlpGH2FOAiRF"
   },
   "outputs": [],
   "source": [
    "final_forecast = fforecast[:,0:300:3]"
   ]
  },
  {
   "cell_type": "code",
   "execution_count": 27,
   "metadata": {},
   "outputs": [
    {
     "data": {
      "text/plain": [
       "(1, 300)"
      ]
     },
     "execution_count": 27,
     "metadata": {},
     "output_type": "execute_result"
    }
   ],
   "source": [
    "fforecast.shape"
   ]
  },
  {
   "cell_type": "code",
   "execution_count": 28,
   "metadata": {
    "id": "CXkgkj_LBk_t"
   },
   "outputs": [],
   "source": [
    "# code to replace all negative value with 0\n",
    "final_forecast[final_forecast<0] = 0"
   ]
  },
  {
   "cell_type": "code",
   "execution_count": 29,
   "metadata": {},
   "outputs": [
    {
     "data": {
      "text/plain": [
       "array([[6.27400560e+01, 6.26746732e+01, 6.26326564e+01, 6.25906396e+01,\n",
       "        6.25486228e+01, 6.25066060e+01, 6.24645892e+01, 0.00000000e+00,\n",
       "        0.00000000e+00, 1.32110770e-01, 1.07955158e+00, 0.00000000e+00,\n",
       "        0.00000000e+00, 6.36700280e+01, 6.35691877e+01, 6.34683473e+01,\n",
       "        6.33675070e+01, 6.32666667e+01, 6.31658263e+01, 6.30649860e+01,\n",
       "        6.29641457e+01, 6.28633053e+01, 6.27624650e+01, 6.26840103e+01,\n",
       "        6.26419935e+01, 6.25999767e+01, 6.25579599e+01, 6.25159430e+01,\n",
       "        6.24739262e+01, 6.24319094e+01, 6.23898926e+01, 6.23478758e+01,\n",
       "        6.23058590e+01, 6.22638422e+01, 6.22218254e+01, 6.21596172e+01,\n",
       "        6.20755836e+01, 6.19915499e+01, 6.19075163e+01, 6.18234827e+01,\n",
       "        1.45537212e-01, 0.00000000e+00, 1.78240418e-01, 1.13204098e+00,\n",
       "        0.00000000e+00, 0.00000000e+00, 8.11721530e-02, 6.26093137e+01,\n",
       "        6.25672969e+01, 6.25252801e+01, 6.24832633e+01, 6.24412465e+01,\n",
       "        6.23992297e+01, 6.23572129e+01, 6.23151961e+01, 6.22731793e+01,\n",
       "        6.22311625e+01, 6.21782913e+01, 6.20942577e+01, 6.20102241e+01,\n",
       "        6.19261905e+01, 6.18421569e+01, 6.75214636e+01, 0.00000000e+00,\n",
       "        6.82455532e+01, 6.69976541e+01, 6.61741013e+01, 6.75791920e-01,\n",
       "        6.65910014e+01, 6.58725140e+01, 6.51820252e+01, 0.00000000e+00,\n",
       "        2.49343430e-01, 4.87544937e+01, 9.12700900e-02, 5.44621940e-01,\n",
       "        0.00000000e+00, 0.00000000e+00, 1.20866510e-01, 0.00000000e+00,\n",
       "        5.15854721e+01, 0.00000000e+00, 3.64410549e-01, 0.00000000e+00,\n",
       "        0.00000000e+00, 0.00000000e+00, 0.00000000e+00, 2.71010250e-01,\n",
       "        8.65074992e-03, 9.17237252e-02, 0.00000000e+00, 2.52014875e-01,\n",
       "        0.00000000e+00, 0.00000000e+00, 6.96508467e-01, 1.60440609e-01,\n",
       "        0.00000000e+00, 0.00000000e+00, 1.81322843e-01, 0.00000000e+00]])"
      ]
     },
     "execution_count": 29,
     "metadata": {},
     "output_type": "execute_result"
    }
   ],
   "source": [
    "final_forecast"
   ]
  },
  {
   "cell_type": "code",
   "execution_count": 30,
   "metadata": {},
   "outputs": [
    {
     "data": {
      "text/plain": [
       "(1, 100)"
      ]
     },
     "execution_count": 30,
     "metadata": {},
     "output_type": "execute_result"
    }
   ],
   "source": [
    "final_forecast.shape"
   ]
  },
  {
   "cell_type": "code",
   "execution_count": 31,
   "metadata": {},
   "outputs": [
    {
     "data": {
      "text/plain": [
       "(100,)"
      ]
     },
     "execution_count": 31,
     "metadata": {},
     "output_type": "execute_result"
    }
   ],
   "source": [
    "test.shape"
   ]
  },
  {
   "cell_type": "code",
   "execution_count": 32,
   "metadata": {},
   "outputs": [],
   "source": [
    "training_set = np.array(training_set)\n",
    "test = np.array(test)\n",
    "final_forecast = np.array(final_forecast.squeeze(0))"
   ]
  },
  {
   "cell_type": "code",
   "execution_count": 33,
   "metadata": {},
   "outputs": [
    {
     "data": {
      "text/plain": [
       "array([56.64371797, 56.63469973, 56.62568149, 56.61666325, 56.60764501,\n",
       "       56.59862677, 56.58960853, 56.58059028, 56.57157204, 56.5625538 ,\n",
       "       56.55353556, 56.54451732, 56.53549908, 56.52648084, 56.51746259,\n",
       "       56.50844435, 56.49942611, 56.49040787, 56.48138963, 56.47237139,\n",
       "       56.46335315, 56.4543349 , 56.44531666, 56.43629842, 56.42728018,\n",
       "       56.41826194, 56.4092437 , 56.40022546, 56.39120721, 56.38218897,\n",
       "       56.37317073, 56.36415249, 56.35513425, 56.34611601, 56.33709777,\n",
       "       56.32807952, 56.31906128, 56.31004304, 56.3010248 , 56.29200656,\n",
       "       56.28298832, 56.27397008, 56.26495183, 56.25593359, 56.24691535,\n",
       "       56.23789711, 56.22887887, 56.21986063, 56.21084239, 56.20182414,\n",
       "       56.1928059 , 56.18378766, 56.17476942, 56.16575118, 56.15673294,\n",
       "       56.1477147 , 56.13869645, 56.12967821, 56.12065997, 56.11164173,\n",
       "       56.10262349, 56.09360525, 56.08458701, 56.07556876, 56.06655052,\n",
       "       56.05753228, 56.04851404, 56.0394958 , 56.03047756, 56.02145932,\n",
       "       56.01244107, 56.00342283, 55.99440459, 55.98538635, 55.97636811,\n",
       "       55.96734987, 55.95833163, 55.94931338, 55.94029514, 55.9312769 ,\n",
       "       55.92225866, 55.91324042, 55.90422218, 55.89520394, 55.88618569,\n",
       "       55.87716745, 55.86814921, 55.85913097, 55.85011273, 55.84109449,\n",
       "       55.83207625, 55.823058  , 55.81403976, 55.80502152, 55.79600328,\n",
       "       55.78698504, 55.7779668 , 55.76894856, 55.75993031, 55.75091207])"
      ]
     },
     "execution_count": 33,
     "metadata": {},
     "output_type": "execute_result"
    }
   ],
   "source": [
    "test"
   ]
  },
  {
   "cell_type": "code",
   "execution_count": 34,
   "metadata": {},
   "outputs": [
    {
     "data": {
      "text/plain": [
       "(100,)"
      ]
     },
     "execution_count": 34,
     "metadata": {},
     "output_type": "execute_result"
    }
   ],
   "source": [
    "test.shape"
   ]
  },
  {
   "cell_type": "code",
   "execution_count": 35,
   "metadata": {},
   "outputs": [
    {
     "data": {
      "text/plain": [
       "(100,)"
      ]
     },
     "execution_count": 35,
     "metadata": {},
     "output_type": "execute_result"
    }
   ],
   "source": [
    "final_forecast.shape"
   ]
  },
  {
   "cell_type": "code",
   "execution_count": 36,
   "metadata": {},
   "outputs": [
    {
     "data": {
      "text/plain": [
       "(100,)"
      ]
     },
     "execution_count": 36,
     "metadata": {},
     "output_type": "execute_result"
    }
   ],
   "source": [
    "test.shape"
   ]
  },
  {
   "cell_type": "code",
   "execution_count": 37,
   "metadata": {},
   "outputs": [
    {
     "name": "stdout",
     "output_type": "stream",
     "text": [
      "36.59647197593472\n",
      "27.354082366513843\n"
     ]
    }
   ],
   "source": [
    "import math\n",
    "MSE = np.square(np.subtract(np.array(test),np.array(final_forecast))).mean()   \n",
    "rsme = math.sqrt(MSE)\n",
    "print(rsme)  \n",
    "MAE = np.abs(np.subtract(np.array(test),np.array(final_forecast))).mean()   \n",
    "mae = MAE\n",
    "print(mae)"
   ]
  }
 ],
 "metadata": {
  "colab": {
   "provenance": []
  },
  "kernelspec": {
   "display_name": "Python 3",
   "language": "python",
   "name": "python3"
  },
  "language_info": {
   "codemirror_mode": {
    "name": "ipython",
    "version": 3
   },
   "file_extension": ".py",
   "mimetype": "text/x-python",
   "name": "python",
   "nbconvert_exporter": "python",
   "pygments_lexer": "ipython3",
   "version": "3.9.13"
  }
 },
 "nbformat": 4,
 "nbformat_minor": 0
}
