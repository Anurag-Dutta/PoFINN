{
 "cells": [
  {
   "cell_type": "markdown",
   "metadata": {
    "id": "pCGKeZ2gyuoQ"
   },
   "source": [
    "_Importing Required Libraries_"
   ]
  },
  {
   "cell_type": "code",
   "execution_count": 1,
   "metadata": {
    "colab": {
     "base_uri": "https://localhost:8080/"
    },
    "id": "A-6LN-zXiLcM",
    "outputId": "4de610a4-f8b8-4f49-c6c0-89de299ccedc"
   },
   "outputs": [
    {
     "name": "stdout",
     "output_type": "stream",
     "text": [
      "Requirement already satisfied: hampel in c:\\users\\anurag dutta\\appdata\\local\\packages\\pythonsoftwarefoundation.python.3.9_qbz5n2kfra8p0\\localcache\\local-packages\\python39\\site-packages (0.0.5)\n",
      "Requirement already satisfied: numpy in c:\\users\\anurag dutta\\appdata\\local\\packages\\pythonsoftwarefoundation.python.3.9_qbz5n2kfra8p0\\localcache\\local-packages\\python39\\site-packages (from hampel) (1.26.4)\n",
      "Requirement already satisfied: pandas in c:\\users\\anurag dutta\\appdata\\local\\packages\\pythonsoftwarefoundation.python.3.9_qbz5n2kfra8p0\\localcache\\local-packages\\python39\\site-packages (from hampel) (1.5.2)\n",
      "Requirement already satisfied: python-dateutil>=2.8.1 in c:\\users\\anurag dutta\\appdata\\local\\packages\\pythonsoftwarefoundation.python.3.9_qbz5n2kfra8p0\\localcache\\local-packages\\python39\\site-packages (from pandas->hampel) (2.8.2)\n",
      "Requirement already satisfied: pytz>=2020.1 in c:\\users\\anurag dutta\\appdata\\local\\packages\\pythonsoftwarefoundation.python.3.9_qbz5n2kfra8p0\\localcache\\local-packages\\python39\\site-packages (from pandas->hampel) (2023.3.post1)\n",
      "Requirement already satisfied: six>=1.5 in c:\\users\\anurag dutta\\appdata\\local\\packages\\pythonsoftwarefoundation.python.3.9_qbz5n2kfra8p0\\localcache\\local-packages\\python39\\site-packages (from python-dateutil>=2.8.1->pandas->hampel) (1.16.0)\n",
      "Note: you may need to restart the kernel to use updated packages.\n"
     ]
    },
    {
     "name": "stderr",
     "output_type": "stream",
     "text": [
      "\n",
      "[notice] A new release of pip is available: 24.2 -> 24.3.1\n",
      "[notice] To update, run: C:\\Users\\Anurag Dutta\\AppData\\Local\\Microsoft\\WindowsApps\\PythonSoftwareFoundation.Python.3.9_qbz5n2kfra8p0\\python.exe -m pip install --upgrade pip\n"
     ]
    }
   ],
   "source": [
    "pip install hampel"
   ]
  },
  {
   "cell_type": "code",
   "execution_count": 2,
   "metadata": {
    "id": "By_d9uXpaFvZ"
   },
   "outputs": [],
   "source": [
    "from keras.models import Sequential\n",
    "from keras.layers import Dense\n",
    "from keras.layers import LSTM\n",
    "from keras.layers import Dropout\n",
    "import keras\n",
    "import tensorflow as tf\n",
    "from hampel import hampel\n",
    "import numpy as np\n",
    "import matplotlib.pyplot as plt\n",
    "import pandas as pd\n",
    "from sklearn.preprocessing import MinMaxScaler\n",
    "from sklearn.metrics import mean_squared_error, mean_absolute_error\n",
    "from math import sqrt\n",
    "from matplotlib import pyplot\n",
    "from numpy import array"
   ]
  },
  {
   "cell_type": "markdown",
   "metadata": {
    "id": "JyOjBMFayuoR"
   },
   "source": [
    "## Pretraining"
   ]
  },
  {
   "cell_type": "markdown",
   "metadata": {
    "id": "-5QqIY_GyuoR"
   },
   "source": [
    "The `capa_intermittency.dat` feeds the model with the dynamics of the Capacitor"
   ]
  },
  {
   "cell_type": "code",
   "execution_count": 3,
   "metadata": {
    "id": "9dV4a8yfyuoR"
   },
   "outputs": [],
   "source": [
    "data = np.genfromtxt('capa_intermittency.dat')\n",
    "training_set = pd.DataFrame(data).reset_index(drop=True)\n",
    "training_set = training_set.iloc[:,0]"
   ]
  },
  {
   "cell_type": "markdown",
   "metadata": {
    "id": "i7easoxByuoR"
   },
   "source": [
    "## Computing the Gradient"
   ]
  },
  {
   "cell_type": "markdown",
   "metadata": {
    "id": "5SnyolJTyuoR"
   },
   "source": [
    "_Calculating the value of_ $\\frac{dx}{dt}$"
   ]
  },
  {
   "cell_type": "code",
   "execution_count": 4,
   "metadata": {
    "colab": {
     "base_uri": "https://localhost:8080/"
    },
    "id": "wmIbVfIvyuoR",
    "outputId": "aa4e3136-c854-465d-d2e9-81cfd546e440"
   },
   "outputs": [
    {
     "name": "stdout",
     "output_type": "stream",
     "text": [
      "1.0\n",
      "1        0.000298\n",
      "2        0.000298\n",
      "3        0.000297\n",
      "4        0.000297\n",
      "5        0.000297\n",
      "           ...   \n",
      "9996     0.000018\n",
      "9997     0.000018\n",
      "9998     0.000018\n",
      "9999     0.000018\n",
      "10000    0.000018\n",
      "Name: 0, Length: 10000, dtype: float64\n"
     ]
    }
   ],
   "source": [
    "t_diff = 1\n",
    "print(training_set.max())\n",
    "gradient_t = (training_set.diff()/t_diff).iloc[1:] # dx/dt\n",
    "print(gradient_t)"
   ]
  },
  {
   "cell_type": "markdown",
   "metadata": {
    "id": "_2eVeeoxyuoS"
   },
   "source": [
    "## Loading Datasets"
   ]
  },
  {
   "cell_type": "code",
   "execution_count": 5,
   "metadata": {
    "id": "0J-NKyIEyuoS"
   },
   "outputs": [
    {
     "data": {
      "text/plain": [
       "0       89.200000\n",
       "1       88.931092\n",
       "2       88.662185\n",
       "3       88.393277\n",
       "4       88.124370\n",
       "          ...    \n",
       "1945    58.385317\n",
       "1946    58.369444\n",
       "1947    58.353571\n",
       "1948    58.337698\n",
       "1949    58.321825\n",
       "Name: C1, Length: 1950, dtype: float64"
      ]
     },
     "execution_count": 5,
     "metadata": {},
     "output_type": "execute_result"
    }
   ],
   "source": [
    "data = pd.read_csv(\"c1_interpolated_1850_100.csv\")\n",
    "training_set = data.iloc[:, 1]\n",
    "training_set"
   ]
  },
  {
   "cell_type": "code",
   "execution_count": 6,
   "metadata": {
    "colab": {
     "base_uri": "https://localhost:8080/"
    },
    "id": "-CbNUhJ74UqF",
    "outputId": "20f562d8-8247-49cc-b9c3-00eca5e13e2d"
   },
   "outputs": [
    {
     "data": {
      "text/plain": [
       "0       89.200000\n",
       "1       88.931092\n",
       "2       88.662185\n",
       "3       88.393277\n",
       "4       88.124370\n",
       "          ...    \n",
       "1845     0.000000\n",
       "1846     0.439173\n",
       "1847     0.000000\n",
       "1848     0.000000\n",
       "1849     0.000000\n",
       "Name: C1, Length: 1850, dtype: float64"
      ]
     },
     "execution_count": 6,
     "metadata": {},
     "output_type": "execute_result"
    }
   ],
   "source": [
    "test = training_set.tail(100)\n",
    "test\n",
    "training_set = training_set.head(1850)\n",
    "training_set"
   ]
  },
  {
   "cell_type": "code",
   "execution_count": 7,
   "metadata": {
    "colab": {
     "base_uri": "https://localhost:8080/"
    },
    "id": "X0TwTcq0yuoS",
    "outputId": "37252ed8-d88e-4044-fa7a-922411990b5b"
   },
   "outputs": [
    {
     "name": "stdout",
     "output_type": "stream",
     "text": [
      "0       0.000298\n",
      "1       0.000298\n",
      "2       0.000297\n",
      "3       0.000297\n",
      "4       0.000297\n",
      "          ...   \n",
      "9995    0.000018\n",
      "9996    0.000018\n",
      "9997    0.000018\n",
      "9998    0.000018\n",
      "9999    0.000018\n",
      "Name: 0, Length: 10000, dtype: float64\n"
     ]
    }
   ],
   "source": [
    "training_set = training_set.reset_index(drop=True)\n",
    "gradient_t = gradient_t.reset_index(drop=True)\n",
    "print(gradient_t)"
   ]
  },
  {
   "cell_type": "code",
   "execution_count": 8,
   "metadata": {
    "id": "O2biznZQyuoS"
   },
   "outputs": [],
   "source": [
    "df = pd.concat((training_set, gradient_t), axis=1)\n",
    "df.columns = ['y_t', 'grad_t']"
   ]
  },
  {
   "cell_type": "code",
   "execution_count": 9,
   "metadata": {
    "colab": {
     "base_uri": "https://localhost:8080/",
     "height": 423
    },
    "id": "sk_a5v3tyuoS",
    "outputId": "17563625-e550-45ae-faab-fafa353e44da"
   },
   "outputs": [
    {
     "data": {
      "text/html": [
       "<div>\n",
       "<style scoped>\n",
       "    .dataframe tbody tr th:only-of-type {\n",
       "        vertical-align: middle;\n",
       "    }\n",
       "\n",
       "    .dataframe tbody tr th {\n",
       "        vertical-align: top;\n",
       "    }\n",
       "\n",
       "    .dataframe thead th {\n",
       "        text-align: right;\n",
       "    }\n",
       "</style>\n",
       "<table border=\"1\" class=\"dataframe\">\n",
       "  <thead>\n",
       "    <tr style=\"text-align: right;\">\n",
       "      <th></th>\n",
       "      <th>y_t</th>\n",
       "      <th>grad_t</th>\n",
       "    </tr>\n",
       "  </thead>\n",
       "  <tbody>\n",
       "    <tr>\n",
       "      <th>0</th>\n",
       "      <td>89.200000</td>\n",
       "      <td>0.000298</td>\n",
       "    </tr>\n",
       "    <tr>\n",
       "      <th>1</th>\n",
       "      <td>88.931092</td>\n",
       "      <td>0.000298</td>\n",
       "    </tr>\n",
       "    <tr>\n",
       "      <th>2</th>\n",
       "      <td>88.662185</td>\n",
       "      <td>0.000297</td>\n",
       "    </tr>\n",
       "    <tr>\n",
       "      <th>3</th>\n",
       "      <td>88.393277</td>\n",
       "      <td>0.000297</td>\n",
       "    </tr>\n",
       "    <tr>\n",
       "      <th>4</th>\n",
       "      <td>88.124370</td>\n",
       "      <td>0.000297</td>\n",
       "    </tr>\n",
       "    <tr>\n",
       "      <th>...</th>\n",
       "      <td>...</td>\n",
       "      <td>...</td>\n",
       "    </tr>\n",
       "    <tr>\n",
       "      <th>9995</th>\n",
       "      <td>NaN</td>\n",
       "      <td>0.000018</td>\n",
       "    </tr>\n",
       "    <tr>\n",
       "      <th>9996</th>\n",
       "      <td>NaN</td>\n",
       "      <td>0.000018</td>\n",
       "    </tr>\n",
       "    <tr>\n",
       "      <th>9997</th>\n",
       "      <td>NaN</td>\n",
       "      <td>0.000018</td>\n",
       "    </tr>\n",
       "    <tr>\n",
       "      <th>9998</th>\n",
       "      <td>NaN</td>\n",
       "      <td>0.000018</td>\n",
       "    </tr>\n",
       "    <tr>\n",
       "      <th>9999</th>\n",
       "      <td>NaN</td>\n",
       "      <td>0.000018</td>\n",
       "    </tr>\n",
       "  </tbody>\n",
       "</table>\n",
       "<p>10000 rows × 2 columns</p>\n",
       "</div>"
      ],
      "text/plain": [
       "            y_t    grad_t\n",
       "0     89.200000  0.000298\n",
       "1     88.931092  0.000298\n",
       "2     88.662185  0.000297\n",
       "3     88.393277  0.000297\n",
       "4     88.124370  0.000297\n",
       "...         ...       ...\n",
       "9995        NaN  0.000018\n",
       "9996        NaN  0.000018\n",
       "9997        NaN  0.000018\n",
       "9998        NaN  0.000018\n",
       "9999        NaN  0.000018\n",
       "\n",
       "[10000 rows x 2 columns]"
      ]
     },
     "execution_count": 9,
     "metadata": {},
     "output_type": "execute_result"
    }
   ],
   "source": [
    "df"
   ]
  },
  {
   "cell_type": "markdown",
   "metadata": {
    "id": "-5esyHu5aFvg"
   },
   "source": [
    "## Plot of the External Forcing from Chaotic Differential Equation"
   ]
  },
  {
   "cell_type": "code",
   "execution_count": 10,
   "metadata": {
    "colab": {
     "base_uri": "https://localhost:8080/",
     "height": 447
    },
    "id": "hGnE43tOh-4p",
    "outputId": "fc396503-b624-4fa5-dfbe-f460207405c6"
   },
   "outputs": [
    {
     "data": {
      "text/plain": [
       "<Axes: >"
      ]
     },
     "execution_count": 10,
     "metadata": {},
     "output_type": "execute_result"
    },
    {
     "data": {
      "image/png": "[encoded data removed]",
      "text/plain": [
       "<Figure size 432x288 with 1 Axes>"
      ]
     },
     "metadata": {
      "needs_background": "light"
     },
     "output_type": "display_data"
    }
   ],
   "source": [
    "df.iloc[:, 0].plot()"
   ]
  },
  {
   "cell_type": "code",
   "execution_count": 11,
   "metadata": {
    "colab": {
     "base_uri": "https://localhost:8080/",
     "height": 447
    },
    "id": "ym4xWUUxaFvg",
    "outputId": "ae6a3495-8ce9-437e-ba81-3ed31deedeae"
   },
   "outputs": [
    {
     "name": "stderr",
     "output_type": "stream",
     "text": [
      "C:\\Users\\Anurag Dutta\\AppData\\Local\\Packages\\PythonSoftwareFoundation.Python.3.9_qbz5n2kfra8p0\\LocalCache\\local-packages\\Python39\\site-packages\\pandas\\core\\arraylike.py:402: RuntimeWarning: divide by zero encountered in log\n",
      "  result = getattr(ufunc, method)(*inputs, **kwargs)\n"
     ]
    },
    {
     "data": {
      "text/plain": [
       "<Axes: >"
      ]
     },
     "execution_count": 11,
     "metadata": {},
     "output_type": "execute_result"
    },
    {
     "data": {
      "image/png": "[encoded data removed]",
      "text/plain": [
       "<Figure size 432x288 with 1 Axes>"
      ]
     },
     "metadata": {
      "needs_background": "light"
     },
     "output_type": "display_data"
    }
   ],
   "source": [
    "import numpy as np\n",
    "c0 = 86.6465  # Value for C0\n",
    "K0 = -0.0029  # Value for K0\n",
    "K1 = -0.0003  # Value for K1\n",
    "a = 0.0000    # Value for a\n",
    "b = 0.0168    # Value for b\n",
    "c = 2.3581    # Value for c\n",
    "\n",
    "L = np.minimum(c0, (df.iloc[:, 1] - (df.iloc[:, 0] * (K0 - K1 * (9 * a * np.log(df.iloc[:, 0] / c0) / (K0 - K1 * c)**2 + 4 * b * np.log(df.iloc[:, 0] / c0) / (K0 - K1 * c) + c)))))\n",
    "L.plot()"
   ]
  },
  {
   "cell_type": "markdown",
   "metadata": {
    "id": "9VyEywnwaFvh"
   },
   "source": [
    "## Preprocessing the data into supervised learning"
   ]
  },
  {
   "cell_type": "code",
   "execution_count": 12,
   "metadata": {
    "id": "6V9dXqzdaFvh"
   },
   "outputs": [],
   "source": [
    "# split a sequence into samples\n",
    "def Supervised(data, n_in=1, n_out=1, dropnan=True):\n",
    "    n_vars = 1 if type(data) is list else data.shape[1]\n",
    "    df = pd.DataFrame(data)\n",
    "    cols, names = list(), list()\n",
    "    # input sequence (t-n_in, ... t-1)\n",
    "    for i in range(n_in, 0, -1):\n",
    "        cols.append(df.shift(i))\n",
    "        names += [('var%d(t-%d)' % (j+1, i)) for j in range(n_vars)]\n",
    "    # forecast sequence (t, t+1, ... t+n_out)\n",
    "    for i in range(0, n_out):\n",
    "      cols.append(df.shift(-i))\n",
    "      if i == 0:\n",
    "        names += [('var%d(t)' % (j+1)) for j in range(n_vars)]\n",
    "      else:\n",
    "        names += [('var%d(t+%d)' % (j+1, i)) for j in range(n_vars)]\n",
    "    # put it all together\n",
    "    agg = pd.concat(cols, axis=1)\n",
    "    agg.columns = names\n",
    "    # drop rows with NaN values\n",
    "    if dropnan:\n",
    "       agg.dropna(inplace=True)\n",
    "    return agg"
   ]
  },
  {
   "cell_type": "code",
   "execution_count": 13,
   "metadata": {
    "colab": {
     "base_uri": "https://localhost:8080/"
    },
    "id": "CrzSrT1HnyfH",
    "outputId": "7e75f928-3e47-499d-eac1-51908015ef78"
   },
   "outputs": [
    {
     "name": "stdout",
     "output_type": "stream",
     "text": [
      "     var1(t-350)  var1(t-349)  var1(t-348)  var1(t-347)  var1(t-346)  \\\n",
      "350    89.200000    88.931092    88.662185    88.393277    88.124370   \n",
      "351    88.931092    88.662185    88.393277    88.124370    87.855462   \n",
      "352    88.662185    88.393277    88.124370    87.855462    87.586555   \n",
      "353    88.393277    88.124370    87.855462    87.586555    87.317647   \n",
      "354    88.124370    87.855462    87.586555    87.317647    87.048739   \n",
      "\n",
      "     var1(t-345)  var1(t-344)  var1(t-343)  var1(t-342)  var1(t-341)  ...  \\\n",
      "350    87.855462    87.586555    87.317647    87.048739    86.794538  ...   \n",
      "351    87.586555    87.317647    87.048739    86.794538    86.721709  ...   \n",
      "352    87.317647    87.048739    86.794538    86.721709    86.648880  ...   \n",
      "353    87.048739    86.794538    86.721709    86.648880    86.576050  ...   \n",
      "354    86.794538    86.721709    86.648880    86.576050    86.503221  ...   \n",
      "\n",
      "     var1(t+95)  var2(t+95)  var1(t+96)  var2(t+96)  var1(t+97)  var2(t+97)  \\\n",
      "350   73.989683    0.000263   73.957937    0.000263   73.926190    0.000263   \n",
      "351   73.957937    0.000263   73.926190    0.000263   73.894444    0.000262   \n",
      "352   73.926190    0.000263   73.894444    0.000262   73.862698    0.000262   \n",
      "353   73.894444    0.000262   73.862698    0.000262   73.830952    0.000262   \n",
      "354   73.862698    0.000262   73.830952    0.000262   73.799206    0.000262   \n",
      "\n",
      "     var1(t+98)  var2(t+98)  var1(t+99)  var2(t+99)  \n",
      "350   73.894444    0.000262   73.862698    0.000262  \n",
      "351   73.862698    0.000262   73.830952    0.000262  \n",
      "352   73.830952    0.000262   73.799206    0.000262  \n",
      "353   73.799206    0.000262   73.767460    0.000262  \n",
      "354   73.767460    0.000262   73.735714    0.000262  \n",
      "\n",
      "[5 rows x 551 columns]\n",
      "Index(['var1(t-350)', 'var1(t-349)', 'var1(t-348)', 'var1(t-347)',\n",
      "       'var1(t-346)', 'var1(t-345)', 'var1(t-344)', 'var1(t-343)',\n",
      "       'var1(t-342)', 'var1(t-341)',\n",
      "       ...\n",
      "       'var1(t+95)', 'var2(t+95)', 'var1(t+96)', 'var2(t+96)', 'var1(t+97)',\n",
      "       'var2(t+97)', 'var1(t+98)', 'var2(t+98)', 'var1(t+99)', 'var2(t+99)'],\n",
      "      dtype='object', length=551)\n"
     ]
    }
   ],
   "source": [
    "data = Supervised(df.values, n_in = 350, n_out = 100)\n",
    "\n",
    "\n",
    "cols_to_drop = []\n",
    "for i in range(2, 351):\n",
    "    cols_to_drop.extend([f'var2(t-{i})'])\n",
    "\n",
    "data.drop(cols_to_drop, axis=1, inplace=True)\n",
    "\n",
    "print(data.head())\n",
    "print(data.columns)"
   ]
  },
  {
   "cell_type": "code",
   "execution_count": 14,
   "metadata": {
    "id": "AfPf60oy6Pe4"
   },
   "outputs": [],
   "source": [
    "train = np.array(data[0:len(data)-1])\n",
    "forecast = np.array(data.tail(1))"
   ]
  },
  {
   "cell_type": "code",
   "execution_count": 15,
   "metadata": {
    "id": "WSAafzI37KiT"
   },
   "outputs": [],
   "source": [
    "trainy = train[:,-300:]\n",
    "trainX = train[:,:-300]"
   ]
  },
  {
   "cell_type": "code",
   "execution_count": 16,
   "metadata": {
    "id": "2SrOqVJA7f50"
   },
   "outputs": [],
   "source": [
    "forecasty = forecast[:,-300:]\n",
    "forecastX = forecast[:,:-300]"
   ]
  },
  {
   "cell_type": "code",
   "execution_count": 17,
   "metadata": {
    "colab": {
     "base_uri": "https://localhost:8080/"
    },
    "id": "Qno_k8Nw7saY",
    "outputId": "c4a88db5-d8c6-489f-cdb2-06b24e293cff"
   },
   "outputs": [
    {
     "name": "stdout",
     "output_type": "stream",
     "text": [
      "(1400, 1, 251) (1400, 300) (1, 1, 251)\n"
     ]
    }
   ],
   "source": [
    "trainX = trainX.reshape((trainX.shape[0], 1, trainX.shape[1]))\n",
    "forecastX = forecastX.reshape((forecastX.shape[0], 1, forecastX.shape[1]))\n",
    "print(trainX.shape, trainy.shape, forecastX.shape)"
   ]
  },
  {
   "cell_type": "code",
   "execution_count": 18,
   "metadata": {
    "colab": {
     "base_uri": "https://localhost:8080/"
    },
    "id": "b1Jp2DvNuNFx",
    "outputId": "d0e5b3c4-64f1-438c-eade-8dfeaac8e285"
   },
   "outputs": [
    {
     "name": "stdout",
     "output_type": "stream",
     "text": [
      "Epoch 1/500\n",
      "18/18 [==============================] - 2s 36ms/step - loss: 4500.8672 - val_loss: 3061.6035\n",
      "Epoch 2/500\n",
      "18/18 [==============================] - 0s 8ms/step - loss: 4379.6841 - val_loss: 2946.9136\n",
      "Epoch 3/500\n",
      "18/18 [==============================] - 0s 9ms/step - loss: 4285.0796 - val_loss: 2894.7588\n",
      "Epoch 4/500\n",
      "18/18 [==============================] - 0s 9ms/step - loss: 4229.4302 - val_loss: 2856.3718\n",
      "Epoch 5/500\n",
      "18/18 [==============================] - 0s 7ms/step - loss: 4168.0669 - val_loss: 2814.5120\n",
      "Epoch 6/500\n",
      "18/18 [==============================] - 0s 7ms/step - loss: 4107.4316 - val_loss: 2773.7317\n",
      "Epoch 7/500\n",
      "18/18 [==============================] - 0s 6ms/step - loss: 4047.9026 - val_loss: 2733.7627\n",
      "Epoch 8/500\n",
      "18/18 [==============================] - 0s 6ms/step - loss: 3989.3513 - val_loss: 2694.5088\n",
      "Epoch 9/500\n",
      "18/18 [==============================] - 0s 14ms/step - loss: 3931.6687 - val_loss: 2655.9077\n",
      "Epoch 10/500\n",
      "18/18 [==============================] - 0s 13ms/step - loss: 3874.7822 - val_loss: 2617.9329\n",
      "Epoch 11/500\n",
      "18/18 [==============================] - 0s 9ms/step - loss: 3818.6433 - val_loss: 2580.9648\n",
      "Epoch 12/500\n",
      "18/18 [==============================] - 0s 6ms/step - loss: 3763.2183 - val_loss: 2543.5627\n",
      "Epoch 13/500\n",
      "18/18 [==============================] - 0s 6ms/step - loss: 3708.4827 - val_loss: 2507.2341\n",
      "Epoch 14/500\n",
      "18/18 [==============================] - 0s 7ms/step - loss: 3654.4153 - val_loss: 2471.4312\n",
      "Epoch 15/500\n",
      "18/18 [==============================] - 0s 6ms/step - loss: 3601.0012 - val_loss: 2436.1431\n",
      "Epoch 16/500\n",
      "18/18 [==============================] - 0s 6ms/step - loss: 3548.2258 - val_loss: 2401.3599\n",
      "Epoch 17/500\n",
      "18/18 [==============================] - 0s 5ms/step - loss: 3496.0793 - val_loss: 2367.0735\n",
      "Epoch 18/500\n",
      "18/18 [==============================] - 0s 5ms/step - loss: 3444.5508 - val_loss: 2333.2754\n",
      "Epoch 19/500\n",
      "18/18 [==============================] - 0s 5ms/step - loss: 3393.6301 - val_loss: 2299.9597\n",
      "Epoch 20/500\n",
      "18/18 [==============================] - 0s 5ms/step - loss: 3343.3103 - val_loss: 2267.1196\n",
      "Epoch 21/500\n",
      "18/18 [==============================] - 0s 5ms/step - loss: 3293.5828 - val_loss: 2234.7488\n",
      "Epoch 22/500\n",
      "18/18 [==============================] - 0s 6ms/step - loss: 3244.4412 - val_loss: 2202.8423\n",
      "Epoch 23/500\n",
      "18/18 [==============================] - 0s 5ms/step - loss: 3195.8779 - val_loss: 2171.3936\n",
      "Epoch 24/500\n",
      "18/18 [==============================] - 0s 4ms/step - loss: 3147.8875 - val_loss: 2140.3984\n",
      "Epoch 25/500\n",
      "18/18 [==============================] - 0s 5ms/step - loss: 3100.4631 - val_loss: 2109.8513\n",
      "Epoch 26/500\n",
      "18/18 [==============================] - 0s 5ms/step - loss: 3053.5991 - val_loss: 2079.7478\n",
      "Epoch 27/500\n",
      "18/18 [==============================] - 0s 6ms/step - loss: 3007.2898 - val_loss: 2050.0833\n",
      "Epoch 28/500\n",
      "18/18 [==============================] - 0s 5ms/step - loss: 2961.5295 - val_loss: 2020.8527\n",
      "Epoch 29/500\n",
      "18/18 [==============================] - 0s 4ms/step - loss: 2916.3132 - val_loss: 1992.0522\n",
      "Epoch 30/500\n",
      "18/18 [==============================] - 0s 5ms/step - loss: 2871.6353 - val_loss: 1963.6775\n",
      "Epoch 31/500\n",
      "18/18 [==============================] - 0s 5ms/step - loss: 2827.4917 - val_loss: 1935.7244\n",
      "Epoch 32/500\n",
      "18/18 [==============================] - 0s 5ms/step - loss: 2783.8762 - val_loss: 1908.1880\n",
      "Epoch 33/500\n",
      "18/18 [==============================] - 0s 6ms/step - loss: 2740.7852 - val_loss: 1881.0649\n",
      "Epoch 34/500\n",
      "18/18 [==============================] - 0s 5ms/step - loss: 2698.2126 - val_loss: 1854.3510\n",
      "Epoch 35/500\n",
      "18/18 [==============================] - 0s 5ms/step - loss: 2656.1553 - val_loss: 1828.0422\n",
      "Epoch 36/500\n",
      "18/18 [==============================] - 0s 6ms/step - loss: 2614.6069 - val_loss: 1802.1348\n",
      "Epoch 37/500\n",
      "18/18 [==============================] - 0s 5ms/step - loss: 2573.5642 - val_loss: 1776.6250\n",
      "Epoch 38/500\n",
      "18/18 [==============================] - 0s 5ms/step - loss: 2533.0222 - val_loss: 1751.5085\n",
      "Epoch 39/500\n",
      "18/18 [==============================] - 0s 5ms/step - loss: 2492.9768 - val_loss: 1726.7822\n",
      "Epoch 40/500\n",
      "18/18 [==============================] - 0s 5ms/step - loss: 2453.4236 - val_loss: 1702.4421\n",
      "Epoch 41/500\n",
      "18/18 [==============================] - 0s 5ms/step - loss: 2414.3577 - val_loss: 1678.4847\n",
      "Epoch 42/500\n",
      "18/18 [==============================] - 0s 6ms/step - loss: 2375.7751 - val_loss: 1654.9059\n",
      "Epoch 43/500\n",
      "18/18 [==============================] - 0s 5ms/step - loss: 2337.6724 - val_loss: 1631.7029\n",
      "Epoch 44/500\n",
      "18/18 [==============================] - 0s 5ms/step - loss: 2300.0444 - val_loss: 1608.8715\n",
      "Epoch 45/500\n",
      "18/18 [==============================] - 0s 5ms/step - loss: 2262.8877 - val_loss: 1586.4084\n",
      "Epoch 46/500\n",
      "18/18 [==============================] - 0s 5ms/step - loss: 2226.1975 - val_loss: 1564.3102\n",
      "Epoch 47/500\n",
      "18/18 [==============================] - 0s 5ms/step - loss: 2189.9702 - val_loss: 1542.5732\n",
      "Epoch 48/500\n",
      "18/18 [==============================] - 0s 5ms/step - loss: 2154.2019 - val_loss: 1521.1940\n",
      "Epoch 49/500\n",
      "18/18 [==============================] - 0s 5ms/step - loss: 2118.8889 - val_loss: 1500.1699\n",
      "Epoch 50/500\n",
      "18/18 [==============================] - 0s 4ms/step - loss: 2084.0264 - val_loss: 1479.4965\n",
      "Epoch 51/500\n",
      "18/18 [==============================] - 0s 5ms/step - loss: 2049.6106 - val_loss: 1459.1710\n",
      "Epoch 52/500\n",
      "18/18 [==============================] - 0s 4ms/step - loss: 2015.6384 - val_loss: 1439.1904\n",
      "Epoch 53/500\n",
      "18/18 [==============================] - 0s 10ms/step - loss: 1982.1058 - val_loss: 1419.5510\n",
      "Epoch 54/500\n",
      "18/18 [==============================] - 0s 5ms/step - loss: 1949.0087 - val_loss: 1400.2499\n",
      "Epoch 55/500\n",
      "18/18 [==============================] - 0s 4ms/step - loss: 1916.3431 - val_loss: 1381.2843\n",
      "Epoch 56/500\n",
      "18/18 [==============================] - 0s 5ms/step - loss: 1884.1056 - val_loss: 1362.6510\n",
      "Epoch 57/500\n",
      "18/18 [==============================] - 0s 5ms/step - loss: 1852.2924 - val_loss: 1344.3479\n",
      "Epoch 58/500\n",
      "18/18 [==============================] - 0s 5ms/step - loss: 1820.8999 - val_loss: 1326.3734\n",
      "Epoch 59/500\n",
      "18/18 [==============================] - 0s 6ms/step - loss: 1789.9243 - val_loss: 1308.7323\n",
      "Epoch 60/500\n",
      "18/18 [==============================] - 0s 5ms/step - loss: 1759.3619 - val_loss: 1291.4492\n",
      "Epoch 61/500\n",
      "18/18 [==============================] - 0s 5ms/step - loss: 1725.6938 - val_loss: 1268.2217\n",
      "Epoch 62/500\n",
      "18/18 [==============================] - 0s 5ms/step - loss: 1687.3928 - val_loss: 1248.3368\n",
      "Epoch 63/500\n",
      "18/18 [==============================] - 0s 5ms/step - loss: 1653.1542 - val_loss: 1229.4634\n",
      "Epoch 64/500\n",
      "18/18 [==============================] - 0s 5ms/step - loss: 1620.3666 - val_loss: 1211.4341\n",
      "Epoch 65/500\n",
      "18/18 [==============================] - 0s 5ms/step - loss: 1588.7081 - val_loss: 1194.0692\n",
      "Epoch 66/500\n",
      "18/18 [==============================] - 0s 5ms/step - loss: 1557.9427 - val_loss: 1177.2632\n",
      "Epoch 67/500\n",
      "18/18 [==============================] - 0s 5ms/step - loss: 1527.9320 - val_loss: 1160.9517\n",
      "Epoch 68/500\n",
      "18/18 [==============================] - 0s 5ms/step - loss: 1498.5892 - val_loss: 1145.0922\n",
      "Epoch 69/500\n",
      "18/18 [==============================] - 0s 5ms/step - loss: 1469.8561 - val_loss: 1129.6537\n",
      "Epoch 70/500\n",
      "18/18 [==============================] - 0s 5ms/step - loss: 1441.6912 - val_loss: 1114.6135\n",
      "Epoch 71/500\n",
      "18/18 [==============================] - 0s 5ms/step - loss: 1414.0621 - val_loss: 1099.9541\n",
      "Epoch 72/500\n",
      "18/18 [==============================] - 0s 5ms/step - loss: 1386.9447 - val_loss: 1085.6604\n",
      "Epoch 73/500\n",
      "18/18 [==============================] - 0s 5ms/step - loss: 1360.3182 - val_loss: 1071.7198\n",
      "Epoch 74/500\n",
      "18/18 [==============================] - 0s 5ms/step - loss: 1334.1656 - val_loss: 1058.1218\n",
      "Epoch 75/500\n",
      "18/18 [==============================] - 0s 6ms/step - loss: 1308.4727 - val_loss: 1044.8574\n",
      "Epoch 76/500\n",
      "18/18 [==============================] - 0s 6ms/step - loss: 1283.2264 - val_loss: 1031.9176\n",
      "Epoch 77/500\n",
      "18/18 [==============================] - 0s 5ms/step - loss: 1258.4159 - val_loss: 1019.2953\n",
      "Epoch 78/500\n",
      "18/18 [==============================] - 0s 6ms/step - loss: 1234.0309 - val_loss: 1006.9837\n",
      "Epoch 79/500\n",
      "18/18 [==============================] - 0s 5ms/step - loss: 1210.0621 - val_loss: 994.9753\n",
      "Epoch 80/500\n",
      "18/18 [==============================] - 0s 5ms/step - loss: 1186.5013 - val_loss: 983.2653\n",
      "Epoch 81/500\n",
      "18/18 [==============================] - 0s 5ms/step - loss: 1163.3408 - val_loss: 971.8477\n",
      "Epoch 82/500\n",
      "18/18 [==============================] - 0s 5ms/step - loss: 1140.5735 - val_loss: 960.7167\n",
      "Epoch 83/500\n",
      "18/18 [==============================] - 0s 5ms/step - loss: 1118.1920 - val_loss: 949.8676\n",
      "Epoch 84/500\n",
      "18/18 [==============================] - 0s 5ms/step - loss: 1096.1908 - val_loss: 939.2960\n",
      "Epoch 85/500\n",
      "18/18 [==============================] - 0s 6ms/step - loss: 1074.5631 - val_loss: 928.9963\n",
      "Epoch 86/500\n",
      "18/18 [==============================] - 0s 4ms/step - loss: 1053.3031 - val_loss: 918.9645\n",
      "Epoch 87/500\n",
      "18/18 [==============================] - 0s 5ms/step - loss: 1032.4058 - val_loss: 909.1962\n",
      "Epoch 88/500\n",
      "18/18 [==============================] - 0s 4ms/step - loss: 1011.8651 - val_loss: 899.6870\n",
      "Epoch 89/500\n",
      "18/18 [==============================] - 0s 5ms/step - loss: 991.6761 - val_loss: 890.4331\n",
      "Epoch 90/500\n",
      "18/18 [==============================] - 0s 5ms/step - loss: 971.8345 - val_loss: 881.4303\n",
      "Epoch 91/500\n",
      "18/18 [==============================] - 0s 10ms/step - loss: 952.3347 - val_loss: 872.6747\n",
      "Epoch 92/500\n",
      "18/18 [==============================] - 0s 5ms/step - loss: 933.1726 - val_loss: 864.1624\n",
      "Epoch 93/500\n",
      "18/18 [==============================] - 0s 5ms/step - loss: 914.3427 - val_loss: 855.8898\n",
      "Epoch 94/500\n",
      "18/18 [==============================] - 0s 4ms/step - loss: 895.8414 - val_loss: 847.8531\n",
      "Epoch 95/500\n",
      "18/18 [==============================] - 0s 4ms/step - loss: 877.6643 - val_loss: 840.0486\n",
      "Epoch 96/500\n",
      "18/18 [==============================] - 0s 5ms/step - loss: 859.8068 - val_loss: 832.4732\n",
      "Epoch 97/500\n",
      "18/18 [==============================] - 0s 5ms/step - loss: 842.2646 - val_loss: 825.1230\n",
      "Epoch 98/500\n",
      "18/18 [==============================] - 0s 5ms/step - loss: 825.0342 - val_loss: 817.9944\n",
      "Epoch 99/500\n",
      "18/18 [==============================] - 0s 5ms/step - loss: 808.1112 - val_loss: 811.0845\n",
      "Epoch 100/500\n",
      "18/18 [==============================] - 0s 5ms/step - loss: 791.4913 - val_loss: 804.3896\n",
      "Epoch 101/500\n",
      "18/18 [==============================] - 0s 8ms/step - loss: 775.1713 - val_loss: 797.9062\n",
      "Epoch 102/500\n",
      "18/18 [==============================] - 0s 6ms/step - loss: 759.1469 - val_loss: 791.6315\n",
      "Epoch 103/500\n",
      "18/18 [==============================] - 0s 6ms/step - loss: 743.4148 - val_loss: 785.5617\n",
      "Epoch 104/500\n",
      "18/18 [==============================] - 0s 6ms/step - loss: 727.9705 - val_loss: 779.6943\n",
      "Epoch 105/500\n",
      "18/18 [==============================] - 0s 5ms/step - loss: 712.8110 - val_loss: 774.0252\n",
      "Epoch 106/500\n",
      "18/18 [==============================] - 0s 6ms/step - loss: 697.9325 - val_loss: 768.5521\n",
      "Epoch 107/500\n",
      "18/18 [==============================] - 0s 7ms/step - loss: 683.3314 - val_loss: 763.2715\n",
      "Epoch 108/500\n",
      "18/18 [==============================] - 0s 5ms/step - loss: 669.0039 - val_loss: 758.1802\n",
      "Epoch 109/500\n",
      "18/18 [==============================] - 0s 6ms/step - loss: 654.9465 - val_loss: 753.2751\n",
      "Epoch 110/500\n",
      "18/18 [==============================] - 0s 7ms/step - loss: 641.1560 - val_loss: 748.5536\n",
      "Epoch 111/500\n",
      "18/18 [==============================] - 0s 6ms/step - loss: 627.6290 - val_loss: 744.0120\n",
      "Epoch 112/500\n",
      "18/18 [==============================] - 0s 6ms/step - loss: 614.3615 - val_loss: 739.6479\n",
      "Epoch 113/500\n",
      "18/18 [==============================] - 0s 6ms/step - loss: 601.3507 - val_loss: 735.4578\n",
      "Epoch 114/500\n",
      "18/18 [==============================] - 0s 6ms/step - loss: 588.5930 - val_loss: 731.4395\n",
      "Epoch 115/500\n",
      "18/18 [==============================] - 0s 6ms/step - loss: 576.0851 - val_loss: 727.5892\n",
      "Epoch 116/500\n",
      "18/18 [==============================] - 0s 7ms/step - loss: 563.8239 - val_loss: 723.9045\n",
      "Epoch 117/500\n",
      "18/18 [==============================] - 0s 6ms/step - loss: 551.8060 - val_loss: 720.3826\n",
      "Epoch 118/500\n",
      "18/18 [==============================] - 0s 7ms/step - loss: 540.0281 - val_loss: 717.0200\n",
      "Epoch 119/500\n",
      "18/18 [==============================] - 0s 7ms/step - loss: 528.4871 - val_loss: 713.8144\n",
      "Epoch 120/500\n",
      "18/18 [==============================] - 0s 7ms/step - loss: 517.1797 - val_loss: 710.7629\n",
      "Epoch 121/500\n",
      "18/18 [==============================] - 0s 7ms/step - loss: 506.1027 - val_loss: 707.8624\n",
      "Epoch 122/500\n",
      "18/18 [==============================] - 0s 16ms/step - loss: 495.2528 - val_loss: 705.1105\n",
      "Epoch 123/500\n",
      "18/18 [==============================] - 0s 6ms/step - loss: 484.6275 - val_loss: 702.5040\n",
      "Epoch 124/500\n",
      "18/18 [==============================] - 0s 7ms/step - loss: 474.2231 - val_loss: 700.0405\n",
      "Epoch 125/500\n",
      "18/18 [==============================] - 0s 6ms/step - loss: 464.0367 - val_loss: 697.7169\n",
      "Epoch 126/500\n",
      "18/18 [==============================] - 0s 6ms/step - loss: 454.0654 - val_loss: 695.5307\n",
      "Epoch 127/500\n",
      "18/18 [==============================] - 0s 7ms/step - loss: 444.3059 - val_loss: 693.4791\n",
      "Epoch 128/500\n",
      "18/18 [==============================] - 0s 7ms/step - loss: 434.7554 - val_loss: 691.5594\n",
      "Epoch 129/500\n",
      "18/18 [==============================] - 0s 7ms/step - loss: 425.4107 - val_loss: 689.7690\n",
      "Epoch 130/500\n",
      "18/18 [==============================] - 0s 7ms/step - loss: 416.2690 - val_loss: 688.1049\n",
      "Epoch 131/500\n",
      "18/18 [==============================] - 0s 7ms/step - loss: 407.3273 - val_loss: 686.5649\n",
      "Epoch 132/500\n",
      "18/18 [==============================] - 0s 6ms/step - loss: 398.5826 - val_loss: 685.1462\n",
      "Epoch 133/500\n",
      "18/18 [==============================] - 0s 7ms/step - loss: 390.0319 - val_loss: 683.8459\n",
      "Epoch 134/500\n",
      "18/18 [==============================] - 0s 7ms/step - loss: 381.6725 - val_loss: 682.6616\n",
      "Epoch 135/500\n",
      "18/18 [==============================] - 0s 6ms/step - loss: 373.5013 - val_loss: 681.5909\n",
      "Epoch 136/500\n",
      "18/18 [==============================] - 0s 6ms/step - loss: 365.5157 - val_loss: 680.6311\n",
      "Epoch 137/500\n",
      "18/18 [==============================] - 0s 7ms/step - loss: 357.7126 - val_loss: 679.7796\n",
      "Epoch 138/500\n",
      "18/18 [==============================] - 0s 6ms/step - loss: 350.0892 - val_loss: 679.0337\n",
      "Epoch 139/500\n",
      "18/18 [==============================] - 0s 4ms/step - loss: 342.6428 - val_loss: 678.3912\n",
      "Epoch 140/500\n",
      "18/18 [==============================] - 0s 4ms/step - loss: 335.3705 - val_loss: 677.8493\n",
      "Epoch 141/500\n",
      "18/18 [==============================] - 0s 5ms/step - loss: 328.2697 - val_loss: 677.4058\n",
      "Epoch 142/500\n",
      "18/18 [==============================] - 0s 4ms/step - loss: 321.3374 - val_loss: 677.0579\n",
      "Epoch 143/500\n",
      "18/18 [==============================] - 0s 5ms/step - loss: 314.5711 - val_loss: 676.8035\n",
      "Epoch 144/500\n",
      "18/18 [==============================] - 0s 5ms/step - loss: 307.9679 - val_loss: 676.6398\n",
      "Epoch 145/500\n",
      "18/18 [==============================] - 0s 5ms/step - loss: 301.5251 - val_loss: 676.5648\n",
      "Epoch 146/500\n",
      "18/18 [==============================] - 0s 5ms/step - loss: 295.2402 - val_loss: 676.5756\n",
      "Epoch 147/500\n",
      "18/18 [==============================] - 0s 5ms/step - loss: 289.1105 - val_loss: 676.6703\n",
      "Epoch 148/500\n",
      "18/18 [==============================] - 0s 5ms/step - loss: 283.1332 - val_loss: 676.8463\n",
      "Epoch 149/500\n",
      "18/18 [==============================] - 0s 5ms/step - loss: 277.3058 - val_loss: 677.1013\n",
      "Epoch 150/500\n",
      "18/18 [==============================] - 0s 5ms/step - loss: 271.6255 - val_loss: 677.4328\n",
      "Epoch 151/500\n",
      "18/18 [==============================] - 0s 5ms/step - loss: 266.0901 - val_loss: 677.8388\n",
      "Epoch 152/500\n",
      "18/18 [==============================] - 0s 6ms/step - loss: 260.6966 - val_loss: 678.3168\n",
      "Epoch 153/500\n",
      "18/18 [==============================] - 0s 6ms/step - loss: 255.4426 - val_loss: 678.8647\n",
      "Epoch 154/500\n",
      "18/18 [==============================] - 0s 10ms/step - loss: 250.3258 - val_loss: 679.4800\n",
      "Epoch 155/500\n",
      "18/18 [==============================] - 0s 6ms/step - loss: 245.3434 - val_loss: 680.1608\n",
      "Epoch 156/500\n",
      "18/18 [==============================] - 0s 5ms/step - loss: 240.4929 - val_loss: 680.9047\n",
      "Epoch 157/500\n",
      "18/18 [==============================] - 0s 5ms/step - loss: 235.7720 - val_loss: 681.7097\n",
      "Epoch 158/500\n",
      "18/18 [==============================] - 0s 5ms/step - loss: 231.1782 - val_loss: 682.5733\n",
      "Epoch 159/500\n",
      "18/18 [==============================] - 0s 5ms/step - loss: 226.7092 - val_loss: 683.4936\n",
      "Epoch 160/500\n",
      "18/18 [==============================] - 0s 5ms/step - loss: 222.3624 - val_loss: 684.4685\n",
      "Epoch 161/500\n",
      "18/18 [==============================] - 0s 5ms/step - loss: 218.1354 - val_loss: 685.4958\n",
      "Epoch 162/500\n",
      "18/18 [==============================] - 0s 5ms/step - loss: 214.0259 - val_loss: 686.5735\n",
      "Epoch 163/500\n",
      "18/18 [==============================] - 0s 5ms/step - loss: 210.0316 - val_loss: 687.6996\n",
      "Epoch 164/500\n",
      "18/18 [==============================] - 0s 5ms/step - loss: 206.1500 - val_loss: 688.8719\n",
      "Epoch 165/500\n",
      "18/18 [==============================] - 0s 5ms/step - loss: 202.3790 - val_loss: 690.0887\n",
      "Epoch 166/500\n",
      "18/18 [==============================] - 0s 5ms/step - loss: 198.7162 - val_loss: 691.3476\n",
      "Epoch 167/500\n",
      "18/18 [==============================] - 0s 7ms/step - loss: 195.1594 - val_loss: 692.6472\n",
      "Epoch 168/500\n",
      "18/18 [==============================] - 0s 6ms/step - loss: 191.7063 - val_loss: 693.9852\n",
      "Epoch 169/500\n",
      "18/18 [==============================] - 0s 5ms/step - loss: 188.3547 - val_loss: 695.3597\n",
      "Epoch 170/500\n",
      "18/18 [==============================] - 0s 5ms/step - loss: 185.1024 - val_loss: 696.7692\n",
      "Epoch 171/500\n",
      "18/18 [==============================] - 0s 5ms/step - loss: 181.9472 - val_loss: 698.2114\n",
      "Epoch 172/500\n",
      "18/18 [==============================] - 0s 5ms/step - loss: 178.8871 - val_loss: 699.6846\n",
      "Epoch 173/500\n",
      "18/18 [==============================] - 0s 4ms/step - loss: 175.9199 - val_loss: 701.1871\n",
      "Epoch 174/500\n",
      "18/18 [==============================] - 0s 5ms/step - loss: 173.0436 - val_loss: 702.7171\n",
      "Epoch 175/500\n",
      "18/18 [==============================] - 0s 5ms/step - loss: 170.2560 - val_loss: 704.2730\n",
      "Epoch 176/500\n",
      "18/18 [==============================] - 0s 5ms/step - loss: 167.5552 - val_loss: 705.8528\n",
      "Epoch 177/500\n",
      "18/18 [==============================] - 0s 5ms/step - loss: 164.9388 - val_loss: 707.4553\n",
      "Epoch 178/500\n",
      "18/18 [==============================] - 0s 5ms/step - loss: 162.4051 - val_loss: 709.0781\n",
      "Epoch 179/500\n",
      "18/18 [==============================] - 0s 5ms/step - loss: 159.9521 - val_loss: 710.7205\n",
      "Epoch 180/500\n",
      "18/18 [==============================] - 0s 5ms/step - loss: 157.5778 - val_loss: 712.3806\n",
      "Epoch 181/500\n",
      "18/18 [==============================] - 0s 5ms/step - loss: 155.2802 - val_loss: 714.0563\n",
      "Epoch 182/500\n",
      "18/18 [==============================] - 0s 5ms/step - loss: 153.0578 - val_loss: 715.7464\n",
      "Epoch 183/500\n",
      "18/18 [==============================] - 0s 5ms/step - loss: 150.9085 - val_loss: 717.4495\n",
      "Epoch 184/500\n",
      "18/18 [==============================] - 0s 6ms/step - loss: 148.8303 - val_loss: 719.1642\n",
      "Epoch 185/500\n",
      "18/18 [==============================] - 0s 5ms/step - loss: 146.8216 - val_loss: 720.8888\n",
      "Epoch 186/500\n",
      "18/18 [==============================] - 0s 7ms/step - loss: 144.8804 - val_loss: 722.6221\n",
      "Epoch 187/500\n",
      "18/18 [==============================] - 0s 9ms/step - loss: 143.0052 - val_loss: 724.3626\n",
      "Epoch 188/500\n",
      "18/18 [==============================] - 0s 5ms/step - loss: 141.1939 - val_loss: 726.1091\n",
      "Epoch 189/500\n",
      "18/18 [==============================] - 0s 5ms/step - loss: 139.4450 - val_loss: 727.8604\n",
      "Epoch 190/500\n",
      "18/18 [==============================] - 0s 5ms/step - loss: 137.7569 - val_loss: 729.6146\n",
      "Epoch 191/500\n",
      "18/18 [==============================] - 0s 6ms/step - loss: 136.1279 - val_loss: 731.3712\n",
      "Epoch 192/500\n",
      "18/18 [==============================] - 0s 5ms/step - loss: 134.5562 - val_loss: 733.1287\n",
      "Epoch 193/500\n",
      "18/18 [==============================] - 0s 4ms/step - loss: 133.0403 - val_loss: 734.8855\n",
      "Epoch 194/500\n",
      "18/18 [==============================] - 0s 5ms/step - loss: 131.5788 - val_loss: 736.6410\n",
      "Epoch 195/500\n",
      "18/18 [==============================] - 0s 5ms/step - loss: 130.1699 - val_loss: 738.3940\n",
      "Epoch 196/500\n",
      "18/18 [==============================] - 0s 5ms/step - loss: 128.8121 - val_loss: 740.1432\n",
      "Epoch 197/500\n",
      "18/18 [==============================] - 0s 5ms/step - loss: 127.5041 - val_loss: 741.8879\n",
      "Epoch 198/500\n",
      "18/18 [==============================] - 0s 5ms/step - loss: 126.2442 - val_loss: 743.6268\n",
      "Epoch 199/500\n",
      "18/18 [==============================] - 0s 5ms/step - loss: 125.0312 - val_loss: 745.3589\n",
      "Epoch 200/500\n",
      "18/18 [==============================] - 0s 5ms/step - loss: 123.8635 - val_loss: 747.0833\n",
      "Epoch 201/500\n",
      "18/18 [==============================] - 0s 5ms/step - loss: 122.7397 - val_loss: 748.7990\n",
      "Epoch 202/500\n",
      "18/18 [==============================] - 0s 5ms/step - loss: 121.6587 - val_loss: 750.5049\n",
      "Epoch 203/500\n",
      "18/18 [==============================] - 0s 5ms/step - loss: 120.6191 - val_loss: 752.2008\n",
      "Epoch 204/500\n",
      "18/18 [==============================] - 0s 5ms/step - loss: 119.6194 - val_loss: 753.8854\n",
      "Epoch 205/500\n",
      "18/18 [==============================] - 0s 5ms/step - loss: 118.6583 - val_loss: 755.5582\n",
      "Epoch 206/500\n",
      "18/18 [==============================] - 0s 5ms/step - loss: 117.7348 - val_loss: 757.2180\n",
      "Epoch 207/500\n",
      "18/18 [==============================] - 0s 5ms/step - loss: 116.8477 - val_loss: 758.8646\n",
      "Epoch 208/500\n",
      "18/18 [==============================] - 0s 8ms/step - loss: 115.9955 - val_loss: 760.4968\n",
      "Epoch 209/500\n",
      "18/18 [==============================] - 0s 6ms/step - loss: 115.1773 - val_loss: 762.1141\n",
      "Epoch 210/500\n",
      "18/18 [==============================] - 0s 6ms/step - loss: 114.3920 - val_loss: 763.7158\n",
      "Epoch 211/500\n",
      "18/18 [==============================] - 0s 5ms/step - loss: 113.6383 - val_loss: 765.3015\n",
      "Epoch 212/500\n",
      "18/18 [==============================] - 0s 5ms/step - loss: 112.9154 - val_loss: 766.8705\n",
      "Epoch 213/500\n",
      "18/18 [==============================] - 0s 6ms/step - loss: 112.2219 - val_loss: 768.4221\n",
      "Epoch 214/500\n",
      "18/18 [==============================] - 0s 7ms/step - loss: 111.5570 - val_loss: 769.9566\n",
      "Epoch 215/500\n",
      "18/18 [==============================] - 0s 11ms/step - loss: 110.9194 - val_loss: 771.4725\n",
      "Epoch 216/500\n",
      "18/18 [==============================] - 0s 5ms/step - loss: 110.3085 - val_loss: 772.9697\n",
      "Epoch 217/500\n",
      "18/18 [==============================] - 0s 5ms/step - loss: 109.7232 - val_loss: 774.4478\n",
      "Epoch 218/500\n",
      "18/18 [==============================] - 0s 5ms/step - loss: 109.1626 - val_loss: 775.9067\n",
      "Epoch 219/500\n",
      "18/18 [==============================] - 0s 8ms/step - loss: 108.6257 - val_loss: 777.3454\n",
      "Epoch 220/500\n",
      "18/18 [==============================] - 0s 8ms/step - loss: 108.1118 - val_loss: 778.7646\n",
      "Epoch 221/500\n",
      "18/18 [==============================] - 0s 8ms/step - loss: 107.6198 - val_loss: 780.1627\n",
      "Epoch 222/500\n",
      "18/18 [==============================] - 0s 7ms/step - loss: 107.1491 - val_loss: 781.5400\n",
      "Epoch 223/500\n",
      "18/18 [==============================] - 0s 7ms/step - loss: 106.6988 - val_loss: 782.8963\n",
      "Epoch 224/500\n",
      "18/18 [==============================] - 0s 7ms/step - loss: 106.2681 - val_loss: 784.2314\n",
      "Epoch 225/500\n",
      "18/18 [==============================] - 0s 7ms/step - loss: 105.8563 - val_loss: 785.5453\n",
      "Epoch 226/500\n",
      "18/18 [==============================] - 0s 7ms/step - loss: 105.4627 - val_loss: 786.8371\n",
      "Epoch 227/500\n",
      "18/18 [==============================] - 0s 7ms/step - loss: 105.0865 - val_loss: 788.1071\n",
      "Epoch 228/500\n",
      "18/18 [==============================] - 0s 7ms/step - loss: 104.7270 - val_loss: 789.3557\n",
      "Epoch 229/500\n",
      "18/18 [==============================] - 0s 7ms/step - loss: 104.3836 - val_loss: 790.5814\n",
      "Epoch 230/500\n",
      "18/18 [==============================] - 0s 7ms/step - loss: 104.0557 - val_loss: 791.7855\n",
      "Epoch 231/500\n",
      "18/18 [==============================] - 0s 8ms/step - loss: 103.7425 - val_loss: 792.9675\n",
      "Epoch 232/500\n",
      "18/18 [==============================] - 0s 10ms/step - loss: 103.4435 - val_loss: 794.1265\n",
      "Epoch 233/500\n",
      "18/18 [==============================] - 0s 7ms/step - loss: 103.1582 - val_loss: 795.2638\n",
      "Epoch 234/500\n",
      "18/18 [==============================] - 0s 8ms/step - loss: 102.8859 - val_loss: 796.3788\n",
      "Epoch 235/500\n",
      "18/18 [==============================] - 0s 7ms/step - loss: 102.6261 - val_loss: 797.4713\n",
      "Epoch 236/500\n",
      "18/18 [==============================] - 0s 7ms/step - loss: 102.3783 - val_loss: 798.5419\n",
      "Epoch 237/500\n",
      "18/18 [==============================] - 0s 6ms/step - loss: 102.1419 - val_loss: 799.5897\n",
      "Epoch 238/500\n",
      "18/18 [==============================] - 0s 7ms/step - loss: 101.9166 - val_loss: 800.6156\n",
      "Epoch 239/500\n",
      "18/18 [==============================] - 0s 6ms/step - loss: 101.7017 - val_loss: 801.6194\n",
      "Epoch 240/500\n",
      "18/18 [==============================] - 0s 12ms/step - loss: 101.4969 - val_loss: 802.6015\n",
      "Epoch 241/500\n",
      "18/18 [==============================] - 0s 5ms/step - loss: 101.3017 - val_loss: 803.5618\n",
      "Epoch 242/500\n",
      "18/18 [==============================] - 0s 5ms/step - loss: 101.1157 - val_loss: 804.5005\n",
      "Epoch 243/500\n",
      "18/18 [==============================] - 0s 4ms/step - loss: 100.9384 - val_loss: 805.4174\n",
      "Epoch 244/500\n",
      "18/18 [==============================] - 0s 5ms/step - loss: 100.7696 - val_loss: 806.3129\n",
      "Epoch 245/500\n",
      "18/18 [==============================] - 0s 6ms/step - loss: 100.6088 - val_loss: 807.1876\n",
      "Epoch 246/500\n",
      "18/18 [==============================] - 0s 5ms/step - loss: 100.4556 - val_loss: 808.0412\n",
      "Epoch 247/500\n",
      "18/18 [==============================] - 0s 5ms/step - loss: 100.3098 - val_loss: 808.8738\n",
      "Epoch 248/500\n",
      "18/18 [==============================] - 0s 6ms/step - loss: 100.1709 - val_loss: 809.6863\n",
      "Epoch 249/500\n",
      "18/18 [==============================] - 0s 5ms/step - loss: 100.0386 - val_loss: 810.4782\n",
      "Epoch 250/500\n",
      "18/18 [==============================] - 0s 5ms/step - loss: 99.9128 - val_loss: 811.2501\n",
      "Epoch 251/500\n",
      "18/18 [==============================] - 0s 6ms/step - loss: 99.7929 - val_loss: 812.0020\n",
      "Epoch 252/500\n",
      "18/18 [==============================] - 0s 5ms/step - loss: 99.6789 - val_loss: 812.7339\n",
      "Epoch 253/500\n",
      "18/18 [==============================] - 0s 4ms/step - loss: 99.5704 - val_loss: 813.4469\n",
      "Epoch 254/500\n",
      "18/18 [==============================] - 0s 6ms/step - loss: 99.4671 - val_loss: 814.1407\n",
      "Epoch 255/500\n",
      "18/18 [==============================] - 0s 5ms/step - loss: 99.3689 - val_loss: 814.8161\n",
      "Epoch 256/500\n",
      "18/18 [==============================] - 0s 5ms/step - loss: 99.2753 - val_loss: 815.4725\n",
      "Epoch 257/500\n",
      "18/18 [==============================] - 0s 6ms/step - loss: 99.1864 - val_loss: 816.1110\n",
      "Epoch 258/500\n",
      "18/18 [==============================] - 0s 6ms/step - loss: 99.1017 - val_loss: 816.7313\n",
      "Epoch 259/500\n",
      "18/18 [==============================] - 0s 6ms/step - loss: 99.0212 - val_loss: 817.3337\n",
      "Epoch 260/500\n",
      "18/18 [==============================] - 0s 12ms/step - loss: 98.9446 - val_loss: 817.9193\n",
      "Epoch 261/500\n",
      "18/18 [==============================] - 0s 5ms/step - loss: 98.8717 - val_loss: 818.4877\n",
      "Epoch 262/500\n",
      "18/18 [==============================] - 0s 4ms/step - loss: 98.8024 - val_loss: 819.0389\n",
      "Epoch 263/500\n",
      "18/18 [==============================] - 0s 4ms/step - loss: 98.7364 - val_loss: 819.5739\n",
      "Epoch 264/500\n",
      "18/18 [==============================] - 0s 5ms/step - loss: 98.6737 - val_loss: 820.0928\n",
      "Epoch 265/500\n",
      "18/18 [==============================] - 0s 6ms/step - loss: 98.6141 - val_loss: 820.5963\n",
      "Epoch 266/500\n",
      "18/18 [==============================] - 0s 6ms/step - loss: 98.5573 - val_loss: 821.0840\n",
      "Epoch 267/500\n",
      "18/18 [==============================] - 0s 5ms/step - loss: 98.5034 - val_loss: 821.5568\n",
      "Epoch 268/500\n",
      "18/18 [==============================] - 0s 5ms/step - loss: 98.4520 - val_loss: 822.0150\n",
      "Epoch 269/500\n",
      "18/18 [==============================] - 0s 5ms/step - loss: 98.4031 - val_loss: 822.4583\n",
      "Epoch 270/500\n",
      "18/18 [==============================] - 0s 5ms/step - loss: 98.3566 - val_loss: 822.8871\n",
      "Epoch 271/500\n",
      "18/18 [==============================] - 0s 4ms/step - loss: 98.3125 - val_loss: 823.3026\n",
      "Epoch 272/500\n",
      "18/18 [==============================] - 0s 6ms/step - loss: 98.2704 - val_loss: 823.7042\n",
      "Epoch 273/500\n",
      "18/18 [==============================] - 0s 5ms/step - loss: 98.2304 - val_loss: 824.0924\n",
      "Epoch 274/500\n",
      "18/18 [==============================] - 0s 5ms/step - loss: 98.1925 - val_loss: 824.4679\n",
      "Epoch 275/500\n",
      "18/18 [==============================] - 0s 6ms/step - loss: 98.1563 - val_loss: 824.8308\n",
      "Epoch 276/500\n",
      "18/18 [==============================] - 0s 5ms/step - loss: 98.1219 - val_loss: 825.1815\n",
      "Epoch 277/500\n",
      "18/18 [==============================] - 0s 5ms/step - loss: 98.0891 - val_loss: 825.5201\n",
      "Epoch 278/500\n",
      "18/18 [==============================] - 0s 5ms/step - loss: 98.0580 - val_loss: 825.8471\n",
      "Epoch 279/500\n",
      "18/18 [==============================] - 0s 6ms/step - loss: 98.0283 - val_loss: 826.1630\n",
      "Epoch 280/500\n",
      "18/18 [==============================] - 0s 5ms/step - loss: 98.0001 - val_loss: 826.4677\n",
      "Epoch 281/500\n",
      "18/18 [==============================] - 0s 5ms/step - loss: 97.9733 - val_loss: 826.7613\n",
      "Epoch 282/500\n",
      "18/18 [==============================] - 0s 4ms/step - loss: 97.9478 - val_loss: 827.0447\n",
      "Epoch 283/500\n",
      "18/18 [==============================] - 0s 4ms/step - loss: 97.9235 - val_loss: 827.3176\n",
      "Epoch 284/500\n",
      "18/18 [==============================] - 0s 4ms/step - loss: 97.9004 - val_loss: 827.5807\n",
      "Epoch 285/500\n",
      "18/18 [==============================] - 0s 4ms/step - loss: 97.8784 - val_loss: 827.8342\n",
      "Epoch 286/500\n",
      "18/18 [==============================] - 0s 4ms/step - loss: 97.8576 - val_loss: 828.0784\n",
      "Epoch 287/500\n",
      "18/18 [==============================] - 0s 5ms/step - loss: 97.8377 - val_loss: 828.3135\n",
      "Epoch 288/500\n",
      "18/18 [==============================] - 0s 5ms/step - loss: 97.8187 - val_loss: 828.5402\n",
      "Epoch 289/500\n",
      "18/18 [==============================] - 0s 12ms/step - loss: 97.8007 - val_loss: 828.7574\n",
      "Epoch 290/500\n",
      "18/18 [==============================] - 0s 4ms/step - loss: 97.7836 - val_loss: 828.9669\n",
      "Epoch 291/500\n",
      "18/18 [==============================] - 0s 4ms/step - loss: 97.7673 - val_loss: 829.1685\n",
      "Epoch 292/500\n",
      "18/18 [==============================] - 0s 4ms/step - loss: 97.7518 - val_loss: 829.3622\n",
      "Epoch 293/500\n",
      "18/18 [==============================] - 0s 5ms/step - loss: 97.7370 - val_loss: 829.5481\n",
      "Epoch 294/500\n",
      "18/18 [==============================] - 0s 4ms/step - loss: 97.7230 - val_loss: 829.7271\n",
      "Epoch 295/500\n",
      "18/18 [==============================] - 0s 5ms/step - loss: 97.7097 - val_loss: 829.8989\n",
      "Epoch 296/500\n",
      "18/18 [==============================] - 0s 4ms/step - loss: 97.6970 - val_loss: 830.0637\n",
      "Epoch 297/500\n",
      "18/18 [==============================] - 0s 4ms/step - loss: 97.6849 - val_loss: 830.2224\n",
      "Epoch 298/500\n",
      "18/18 [==============================] - 0s 4ms/step - loss: 97.6734 - val_loss: 830.3741\n",
      "Epoch 299/500\n",
      "18/18 [==============================] - 0s 5ms/step - loss: 97.6625 - val_loss: 830.5201\n",
      "Epoch 300/500\n",
      "18/18 [==============================] - 0s 5ms/step - loss: 97.6521 - val_loss: 830.6599\n",
      "Epoch 301/500\n",
      "18/18 [==============================] - 0s 5ms/step - loss: 97.6422 - val_loss: 830.7939\n",
      "Epoch 302/500\n",
      "18/18 [==============================] - 0s 5ms/step - loss: 97.6328 - val_loss: 830.9224\n",
      "Epoch 303/500\n",
      "18/18 [==============================] - 0s 4ms/step - loss: 97.6239 - val_loss: 831.0458\n",
      "Epoch 304/500\n",
      "18/18 [==============================] - 0s 4ms/step - loss: 97.6153 - val_loss: 831.1638\n",
      "Epoch 305/500\n",
      "18/18 [==============================] - 0s 4ms/step - loss: 97.6073 - val_loss: 831.2769\n",
      "Epoch 306/500\n",
      "18/18 [==============================] - 0s 4ms/step - loss: 97.5996 - val_loss: 831.3854\n",
      "Epoch 307/500\n",
      "18/18 [==============================] - 0s 4ms/step - loss: 97.5923 - val_loss: 831.4891\n",
      "Epoch 308/500\n",
      "18/18 [==============================] - 0s 4ms/step - loss: 97.5853 - val_loss: 831.5884\n",
      "Epoch 309/500\n",
      "18/18 [==============================] - 0s 4ms/step - loss: 97.5787 - val_loss: 831.6833\n",
      "Epoch 310/500\n",
      "18/18 [==============================] - 0s 5ms/step - loss: 97.5725 - val_loss: 831.7740\n",
      "Epoch 311/500\n",
      "18/18 [==============================] - 0s 5ms/step - loss: 97.5665 - val_loss: 831.8605\n",
      "Epoch 312/500\n",
      "18/18 [==============================] - 0s 5ms/step - loss: 97.5609 - val_loss: 831.9438\n",
      "Epoch 313/500\n",
      "18/18 [==============================] - 0s 5ms/step - loss: 97.5555 - val_loss: 832.0230\n",
      "Epoch 314/500\n",
      "18/18 [==============================] - 0s 5ms/step - loss: 97.5504 - val_loss: 832.0986\n",
      "Epoch 315/500\n",
      "18/18 [==============================] - 0s 8ms/step - loss: 97.5456 - val_loss: 832.1709\n",
      "Epoch 316/500\n",
      "18/18 [==============================] - 0s 8ms/step - loss: 97.5410 - val_loss: 832.2397\n",
      "Epoch 317/500\n",
      "18/18 [==============================] - 0s 4ms/step - loss: 97.5367 - val_loss: 832.3055\n",
      "Epoch 318/500\n",
      "18/18 [==============================] - 0s 5ms/step - loss: 97.5326 - val_loss: 832.3688\n",
      "Epoch 319/500\n",
      "18/18 [==============================] - 0s 5ms/step - loss: 97.5286 - val_loss: 832.4287\n",
      "Epoch 320/500\n",
      "18/18 [==============================] - 0s 4ms/step - loss: 97.5249 - val_loss: 832.4865\n",
      "Epoch 321/500\n",
      "18/18 [==============================] - 0s 4ms/step - loss: 97.5214 - val_loss: 832.5408\n",
      "Epoch 322/500\n",
      "18/18 [==============================] - 0s 5ms/step - loss: 97.5181 - val_loss: 832.5931\n",
      "Epoch 323/500\n",
      "18/18 [==============================] - 0s 4ms/step - loss: 97.5149 - val_loss: 832.6428\n",
      "Epoch 324/500\n",
      "18/18 [==============================] - 0s 4ms/step - loss: 97.5119 - val_loss: 832.6905\n",
      "Epoch 325/500\n",
      "18/18 [==============================] - 0s 5ms/step - loss: 97.5091 - val_loss: 832.7358\n",
      "Epoch 326/500\n",
      "18/18 [==============================] - 0s 4ms/step - loss: 97.5063 - val_loss: 832.7784\n",
      "Epoch 327/500\n",
      "18/18 [==============================] - 0s 5ms/step - loss: 97.5039 - val_loss: 832.8195\n",
      "Epoch 328/500\n",
      "18/18 [==============================] - 0s 4ms/step - loss: 97.5015 - val_loss: 832.8588\n",
      "Epoch 329/500\n",
      "18/18 [==============================] - 0s 4ms/step - loss: 97.4991 - val_loss: 832.8959\n",
      "Epoch 330/500\n",
      "18/18 [==============================] - 0s 4ms/step - loss: 97.4970 - val_loss: 832.9312\n",
      "Epoch 331/500\n",
      "18/18 [==============================] - 0s 4ms/step - loss: 97.4950 - val_loss: 832.9647\n",
      "Epoch 332/500\n",
      "18/18 [==============================] - 0s 4ms/step - loss: 97.4931 - val_loss: 832.9967\n",
      "Epoch 333/500\n",
      "18/18 [==============================] - 0s 5ms/step - loss: 97.4913 - val_loss: 833.0271\n",
      "Epoch 334/500\n",
      "18/18 [==============================] - 0s 4ms/step - loss: 97.4896 - val_loss: 833.0557\n",
      "Epoch 335/500\n",
      "18/18 [==============================] - 0s 5ms/step - loss: 97.4880 - val_loss: 833.0836\n",
      "Epoch 336/500\n",
      "18/18 [==============================] - 0s 4ms/step - loss: 97.4865 - val_loss: 833.1095\n",
      "Epoch 337/500\n",
      "18/18 [==============================] - 0s 4ms/step - loss: 97.4851 - val_loss: 833.1345\n",
      "Epoch 338/500\n",
      "18/18 [==============================] - 0s 5ms/step - loss: 97.4837 - val_loss: 833.1576\n",
      "Epoch 339/500\n",
      "18/18 [==============================] - 0s 5ms/step - loss: 97.4825 - val_loss: 833.1801\n",
      "Epoch 340/500\n",
      "18/18 [==============================] - 0s 4ms/step - loss: 97.4813 - val_loss: 833.2015\n",
      "Epoch 341/500\n",
      "18/18 [==============================] - 0s 4ms/step - loss: 97.4802 - val_loss: 833.2217\n",
      "Epoch 342/500\n",
      "18/18 [==============================] - 0s 11ms/step - loss: 97.4792 - val_loss: 833.2413\n",
      "Epoch 343/500\n",
      "18/18 [==============================] - 0s 4ms/step - loss: 97.4781 - val_loss: 833.2595\n",
      "Epoch 344/500\n",
      "18/18 [==============================] - 0s 4ms/step - loss: 97.4772 - val_loss: 833.2768\n",
      "Epoch 345/500\n",
      "18/18 [==============================] - 0s 4ms/step - loss: 97.4763 - val_loss: 833.2930\n",
      "Epoch 346/500\n",
      "18/18 [==============================] - 0s 5ms/step - loss: 97.4755 - val_loss: 833.3085\n",
      "Epoch 347/500\n",
      "18/18 [==============================] - 0s 5ms/step - loss: 97.4748 - val_loss: 833.3232\n",
      "Epoch 348/500\n",
      "18/18 [==============================] - 0s 5ms/step - loss: 97.4740 - val_loss: 833.3370\n",
      "Epoch 349/500\n",
      "18/18 [==============================] - 0s 4ms/step - loss: 97.4734 - val_loss: 833.3505\n",
      "Epoch 350/500\n",
      "18/18 [==============================] - 0s 4ms/step - loss: 97.4727 - val_loss: 833.3629\n",
      "Epoch 351/500\n",
      "18/18 [==============================] - 0s 4ms/step - loss: 97.4722 - val_loss: 833.3749\n",
      "Epoch 352/500\n",
      "18/18 [==============================] - 0s 5ms/step - loss: 97.4716 - val_loss: 833.3858\n",
      "Epoch 353/500\n",
      "18/18 [==============================] - 0s 5ms/step - loss: 97.4712 - val_loss: 833.3967\n",
      "Epoch 354/500\n",
      "18/18 [==============================] - 0s 5ms/step - loss: 97.4707 - val_loss: 833.4066\n",
      "Epoch 355/500\n",
      "18/18 [==============================] - 0s 4ms/step - loss: 97.4703 - val_loss: 833.4160\n",
      "Epoch 356/500\n",
      "18/18 [==============================] - 0s 5ms/step - loss: 97.4699 - val_loss: 833.4248\n",
      "Epoch 357/500\n",
      "18/18 [==============================] - 0s 5ms/step - loss: 97.4696 - val_loss: 833.4335\n",
      "Epoch 358/500\n",
      "18/18 [==============================] - 0s 5ms/step - loss: 97.4693 - val_loss: 833.4414\n",
      "Epoch 359/500\n",
      "18/18 [==============================] - 0s 4ms/step - loss: 97.4690 - val_loss: 833.4492\n",
      "Epoch 360/500\n",
      "18/18 [==============================] - 0s 6ms/step - loss: 97.4687 - val_loss: 833.4566\n",
      "Epoch 361/500\n",
      "18/18 [==============================] - 0s 5ms/step - loss: 97.4684 - val_loss: 833.4630\n",
      "Epoch 362/500\n",
      "18/18 [==============================] - 0s 5ms/step - loss: 97.4681 - val_loss: 833.4694\n",
      "Epoch 363/500\n",
      "18/18 [==============================] - 0s 4ms/step - loss: 97.4680 - val_loss: 833.4755\n",
      "Epoch 364/500\n",
      "18/18 [==============================] - 0s 5ms/step - loss: 97.4678 - val_loss: 833.4810\n",
      "Epoch 365/500\n",
      "18/18 [==============================] - 0s 5ms/step - loss: 97.4677 - val_loss: 833.4865\n",
      "Epoch 366/500\n",
      "18/18 [==============================] - 0s 4ms/step - loss: 97.4674 - val_loss: 833.4914\n",
      "Epoch 367/500\n",
      "18/18 [==============================] - 0s 4ms/step - loss: 97.4673 - val_loss: 833.4962\n",
      "Epoch 368/500\n",
      "18/18 [==============================] - 0s 4ms/step - loss: 97.4672 - val_loss: 833.5009\n",
      "Epoch 369/500\n",
      "18/18 [==============================] - 0s 4ms/step - loss: 97.4671 - val_loss: 833.5050\n",
      "Epoch 370/500\n",
      "18/18 [==============================] - 0s 4ms/step - loss: 97.4670 - val_loss: 833.5090\n",
      "Epoch 371/500\n",
      "18/18 [==============================] - 0s 5ms/step - loss: 97.4669 - val_loss: 833.5127\n",
      "Epoch 372/500\n",
      "18/18 [==============================] - 0s 4ms/step - loss: 97.4669 - val_loss: 833.5166\n",
      "Epoch 373/500\n",
      "18/18 [==============================] - 0s 12ms/step - loss: 97.4668 - val_loss: 833.5198\n",
      "Epoch 374/500\n",
      "18/18 [==============================] - 0s 5ms/step - loss: 97.4668 - val_loss: 833.5231\n",
      "Epoch 375/500\n",
      "18/18 [==============================] - 0s 5ms/step - loss: 97.4668 - val_loss: 833.5260\n",
      "Epoch 376/500\n",
      "18/18 [==============================] - 0s 4ms/step - loss: 97.4668 - val_loss: 833.5290\n",
      "Epoch 377/500\n",
      "18/18 [==============================] - 0s 5ms/step - loss: 97.4668 - val_loss: 833.5315\n",
      "Epoch 378/500\n",
      "18/18 [==============================] - 0s 5ms/step - loss: 97.4667 - val_loss: 833.5341\n",
      "Epoch 379/500\n",
      "18/18 [==============================] - 0s 5ms/step - loss: 97.4668 - val_loss: 833.5365\n",
      "Epoch 380/500\n",
      "18/18 [==============================] - 0s 5ms/step - loss: 97.4667 - val_loss: 833.5388\n",
      "Epoch 381/500\n",
      "18/18 [==============================] - 0s 4ms/step - loss: 97.4667 - val_loss: 833.5404\n",
      "Epoch 382/500\n",
      "18/18 [==============================] - 0s 5ms/step - loss: 97.4668 - val_loss: 833.5424\n",
      "Epoch 383/500\n",
      "18/18 [==============================] - 0s 5ms/step - loss: 97.4668 - val_loss: 833.5443\n",
      "Epoch 384/500\n",
      "18/18 [==============================] - 0s 5ms/step - loss: 97.4669 - val_loss: 833.5457\n",
      "Epoch 385/500\n",
      "18/18 [==============================] - 0s 5ms/step - loss: 97.4669 - val_loss: 833.5471\n",
      "Epoch 386/500\n",
      "18/18 [==============================] - 0s 5ms/step - loss: 97.4670 - val_loss: 833.5485\n",
      "Epoch 387/500\n",
      "18/18 [==============================] - 0s 4ms/step - loss: 97.4670 - val_loss: 833.5498\n",
      "Epoch 388/500\n",
      "18/18 [==============================] - 0s 4ms/step - loss: 97.4671 - val_loss: 833.5508\n",
      "Epoch 389/500\n",
      "18/18 [==============================] - 0s 5ms/step - loss: 97.4672 - val_loss: 833.5521\n",
      "Epoch 390/500\n",
      "18/18 [==============================] - 0s 5ms/step - loss: 97.4673 - val_loss: 833.5535\n",
      "Epoch 391/500\n",
      "18/18 [==============================] - 0s 4ms/step - loss: 97.4673 - val_loss: 833.5544\n",
      "Epoch 392/500\n",
      "18/18 [==============================] - 0s 4ms/step - loss: 97.4674 - val_loss: 833.5555\n",
      "Epoch 393/500\n",
      "18/18 [==============================] - 0s 5ms/step - loss: 97.4675 - val_loss: 833.5565\n",
      "Epoch 394/500\n",
      "18/18 [==============================] - 0s 4ms/step - loss: 97.4675 - val_loss: 833.5573\n",
      "Epoch 395/500\n",
      "18/18 [==============================] - 0s 5ms/step - loss: 97.4676 - val_loss: 833.5583\n",
      "Epoch 396/500\n",
      "18/18 [==============================] - 0s 7ms/step - loss: 97.4677 - val_loss: 833.5593\n",
      "Epoch 397/500\n",
      "18/18 [==============================] - 0s 4ms/step - loss: 97.4678 - val_loss: 833.5599\n",
      "Epoch 398/500\n",
      "18/18 [==============================] - 0s 11ms/step - loss: 97.4679 - val_loss: 833.5606\n",
      "Epoch 399/500\n",
      "18/18 [==============================] - 0s 6ms/step - loss: 97.4679 - val_loss: 833.5615\n",
      "Epoch 400/500\n",
      "18/18 [==============================] - 0s 4ms/step - loss: 97.4680 - val_loss: 833.5621\n",
      "Epoch 401/500\n",
      "18/18 [==============================] - 0s 4ms/step - loss: 97.4680 - val_loss: 833.5623\n",
      "Epoch 402/500\n",
      "18/18 [==============================] - 0s 4ms/step - loss: 97.4681 - val_loss: 833.5627\n",
      "Epoch 403/500\n",
      "18/18 [==============================] - 0s 8ms/step - loss: 97.4683 - val_loss: 833.5632\n",
      "Epoch 404/500\n",
      "18/18 [==============================] - 0s 4ms/step - loss: 97.4683 - val_loss: 833.5637\n",
      "Epoch 405/500\n",
      "18/18 [==============================] - 0s 4ms/step - loss: 97.4684 - val_loss: 833.5641\n",
      "Epoch 406/500\n",
      "18/18 [==============================] - 0s 5ms/step - loss: 97.4685 - val_loss: 833.5643\n",
      "Epoch 407/500\n",
      "18/18 [==============================] - 0s 4ms/step - loss: 97.4687 - val_loss: 833.5649\n",
      "Epoch 408/500\n",
      "18/18 [==============================] - 0s 5ms/step - loss: 97.4687 - val_loss: 833.5655\n",
      "Epoch 409/500\n",
      "18/18 [==============================] - 0s 4ms/step - loss: 97.4688 - val_loss: 833.5659\n",
      "Epoch 410/500\n",
      "18/18 [==============================] - 0s 4ms/step - loss: 97.4689 - val_loss: 833.5663\n",
      "Epoch 411/500\n",
      "18/18 [==============================] - 0s 5ms/step - loss: 97.4689 - val_loss: 833.5663\n",
      "Epoch 412/500\n",
      "18/18 [==============================] - 0s 3ms/step - loss: 97.4691 - val_loss: 833.5664\n",
      "Epoch 413/500\n",
      "18/18 [==============================] - 0s 4ms/step - loss: 97.4692 - val_loss: 833.5667\n",
      "Epoch 414/500\n",
      "18/18 [==============================] - 0s 5ms/step - loss: 97.4692 - val_loss: 833.5668\n",
      "Epoch 415/500\n",
      "18/18 [==============================] - 0s 5ms/step - loss: 97.4693 - val_loss: 833.5671\n",
      "Epoch 416/500\n",
      "18/18 [==============================] - 0s 4ms/step - loss: 97.4694 - val_loss: 833.5672\n",
      "Epoch 417/500\n",
      "18/18 [==============================] - 0s 4ms/step - loss: 97.4695 - val_loss: 833.5674\n",
      "Epoch 418/500\n",
      "18/18 [==============================] - 0s 5ms/step - loss: 97.4696 - val_loss: 833.5674\n",
      "Epoch 419/500\n",
      "18/18 [==============================] - 0s 5ms/step - loss: 97.4697 - val_loss: 833.5680\n",
      "Epoch 420/500\n",
      "18/18 [==============================] - 0s 5ms/step - loss: 97.4697 - val_loss: 833.5681\n",
      "Epoch 421/500\n",
      "18/18 [==============================] - 0s 5ms/step - loss: 97.4698 - val_loss: 833.5682\n",
      "Epoch 422/500\n",
      "18/18 [==============================] - 0s 4ms/step - loss: 97.4699 - val_loss: 833.5681\n",
      "Epoch 423/500\n",
      "18/18 [==============================] - 0s 4ms/step - loss: 97.4700 - val_loss: 833.5682\n",
      "Epoch 424/500\n",
      "18/18 [==============================] - 0s 5ms/step - loss: 97.4700 - val_loss: 833.5684\n",
      "Epoch 425/500\n",
      "18/18 [==============================] - 0s 5ms/step - loss: 97.4701 - val_loss: 833.5685\n",
      "Epoch 426/500\n",
      "18/18 [==============================] - 0s 4ms/step - loss: 97.4702 - val_loss: 833.5685\n",
      "Epoch 427/500\n",
      "18/18 [==============================] - 0s 5ms/step - loss: 97.4703 - val_loss: 833.5687\n",
      "Epoch 428/500\n",
      "18/18 [==============================] - 0s 11ms/step - loss: 97.4704 - val_loss: 833.5687\n",
      "Epoch 429/500\n",
      "18/18 [==============================] - 0s 5ms/step - loss: 97.4705 - val_loss: 833.5688\n",
      "Epoch 430/500\n",
      "18/18 [==============================] - 0s 5ms/step - loss: 97.4705 - val_loss: 833.5688\n",
      "Epoch 431/500\n",
      "18/18 [==============================] - 0s 3ms/step - loss: 97.4706 - val_loss: 833.5692\n",
      "Epoch 432/500\n",
      "18/18 [==============================] - 0s 4ms/step - loss: 97.4706 - val_loss: 833.5690\n",
      "Epoch 433/500\n",
      "18/18 [==============================] - 0s 4ms/step - loss: 97.4707 - val_loss: 833.5692\n",
      "Epoch 434/500\n",
      "18/18 [==============================] - 0s 5ms/step - loss: 97.4708 - val_loss: 833.5690\n",
      "Epoch 435/500\n",
      "18/18 [==============================] - 0s 4ms/step - loss: 97.4709 - val_loss: 833.5690\n",
      "Epoch 436/500\n",
      "18/18 [==============================] - 0s 4ms/step - loss: 97.4709 - val_loss: 833.5693\n",
      "Epoch 437/500\n",
      "18/18 [==============================] - 0s 5ms/step - loss: 97.4710 - val_loss: 833.5693\n",
      "Epoch 438/500\n",
      "18/18 [==============================] - 0s 4ms/step - loss: 97.4711 - val_loss: 833.5695\n",
      "Epoch 439/500\n",
      "18/18 [==============================] - 0s 5ms/step - loss: 97.4711 - val_loss: 833.5693\n",
      "Epoch 440/500\n",
      "18/18 [==============================] - 0s 4ms/step - loss: 97.4712 - val_loss: 833.5691\n",
      "Epoch 441/500\n",
      "18/18 [==============================] - 0s 4ms/step - loss: 97.4713 - val_loss: 833.5690\n",
      "Epoch 442/500\n",
      "18/18 [==============================] - 0s 5ms/step - loss: 97.4714 - val_loss: 833.5690\n",
      "Epoch 443/500\n",
      "18/18 [==============================] - 0s 5ms/step - loss: 97.4714 - val_loss: 833.5688\n",
      "Epoch 444/500\n",
      "18/18 [==============================] - 0s 4ms/step - loss: 97.4715 - val_loss: 833.5685\n",
      "Epoch 445/500\n",
      "18/18 [==============================] - 0s 4ms/step - loss: 97.4716 - val_loss: 833.5685\n",
      "Epoch 446/500\n",
      "18/18 [==============================] - 0s 5ms/step - loss: 97.4717 - val_loss: 833.5685\n",
      "Epoch 447/500\n",
      "18/18 [==============================] - 0s 4ms/step - loss: 97.4717 - val_loss: 833.5685\n",
      "Epoch 448/500\n",
      "18/18 [==============================] - 0s 5ms/step - loss: 97.4717 - val_loss: 833.5685\n",
      "Epoch 449/500\n",
      "18/18 [==============================] - 0s 4ms/step - loss: 97.4718 - val_loss: 833.5682\n",
      "Epoch 450/500\n",
      "18/18 [==============================] - 0s 4ms/step - loss: 97.4719 - val_loss: 833.5682\n",
      "Epoch 451/500\n",
      "18/18 [==============================] - 0s 4ms/step - loss: 97.4720 - val_loss: 833.5682\n",
      "Epoch 452/500\n",
      "18/18 [==============================] - 0s 4ms/step - loss: 97.4720 - val_loss: 833.5682\n",
      "Epoch 453/500\n",
      "18/18 [==============================] - 0s 4ms/step - loss: 97.4721 - val_loss: 833.5683\n",
      "Epoch 454/500\n",
      "18/18 [==============================] - 0s 4ms/step - loss: 97.4721 - val_loss: 833.5682\n",
      "Epoch 455/500\n",
      "18/18 [==============================] - 0s 4ms/step - loss: 97.4722 - val_loss: 833.5683\n",
      "Epoch 456/500\n",
      "18/18 [==============================] - 0s 11ms/step - loss: 97.4722 - val_loss: 833.5682\n",
      "Epoch 457/500\n",
      "18/18 [==============================] - 0s 5ms/step - loss: 97.4723 - val_loss: 833.5682\n",
      "Epoch 458/500\n",
      "18/18 [==============================] - 0s 5ms/step - loss: 97.4723 - val_loss: 833.5683\n",
      "Epoch 459/500\n",
      "18/18 [==============================] - 0s 5ms/step - loss: 97.4723 - val_loss: 833.5684\n",
      "Epoch 460/500\n",
      "18/18 [==============================] - 0s 4ms/step - loss: 97.4724 - val_loss: 833.5682\n",
      "Epoch 461/500\n",
      "18/18 [==============================] - 0s 4ms/step - loss: 97.4724 - val_loss: 833.5681\n",
      "Epoch 462/500\n",
      "18/18 [==============================] - 0s 5ms/step - loss: 97.4725 - val_loss: 833.5681\n",
      "Epoch 463/500\n",
      "18/18 [==============================] - 0s 4ms/step - loss: 97.4725 - val_loss: 833.5679\n",
      "Epoch 464/500\n",
      "18/18 [==============================] - 0s 4ms/step - loss: 97.4726 - val_loss: 833.5677\n",
      "Epoch 465/500\n",
      "18/18 [==============================] - 0s 4ms/step - loss: 97.4727 - val_loss: 833.5675\n",
      "Epoch 466/500\n",
      "18/18 [==============================] - 0s 4ms/step - loss: 97.4728 - val_loss: 833.5675\n",
      "Epoch 467/500\n",
      "18/18 [==============================] - 0s 4ms/step - loss: 97.4728 - val_loss: 833.5679\n",
      "Epoch 468/500\n",
      "18/18 [==============================] - 0s 5ms/step - loss: 97.4728 - val_loss: 833.5675\n",
      "Epoch 469/500\n",
      "18/18 [==============================] - 0s 5ms/step - loss: 97.4729 - val_loss: 833.5672\n",
      "Epoch 470/500\n",
      "18/18 [==============================] - 0s 4ms/step - loss: 97.4729 - val_loss: 833.5672\n",
      "Epoch 471/500\n",
      "18/18 [==============================] - 0s 4ms/step - loss: 97.4730 - val_loss: 833.5671\n",
      "Epoch 472/500\n",
      "18/18 [==============================] - 0s 4ms/step - loss: 97.4730 - val_loss: 833.5672\n",
      "Epoch 473/500\n",
      "18/18 [==============================] - 0s 4ms/step - loss: 97.4730 - val_loss: 833.5672\n",
      "Epoch 474/500\n",
      "18/18 [==============================] - 0s 5ms/step - loss: 97.4731 - val_loss: 833.5672\n",
      "Epoch 475/500\n",
      "18/18 [==============================] - 0s 3ms/step - loss: 97.4731 - val_loss: 833.5673\n",
      "Epoch 476/500\n",
      "18/18 [==============================] - 0s 4ms/step - loss: 97.4731 - val_loss: 833.5673\n",
      "Epoch 477/500\n",
      "18/18 [==============================] - 0s 5ms/step - loss: 97.4732 - val_loss: 833.5670\n",
      "Epoch 478/500\n",
      "18/18 [==============================] - 0s 5ms/step - loss: 97.4733 - val_loss: 833.5670\n",
      "Epoch 479/500\n",
      "18/18 [==============================] - 0s 4ms/step - loss: 97.4733 - val_loss: 833.5668\n",
      "Epoch 480/500\n",
      "18/18 [==============================] - 0s 4ms/step - loss: 97.4733 - val_loss: 833.5668\n",
      "Epoch 481/500\n",
      "18/18 [==============================] - 0s 5ms/step - loss: 97.4733 - val_loss: 833.5667\n",
      "Epoch 482/500\n",
      "18/18 [==============================] - 0s 4ms/step - loss: 97.4734 - val_loss: 833.5667\n",
      "Epoch 483/500\n",
      "18/18 [==============================] - 0s 4ms/step - loss: 97.4735 - val_loss: 833.5668\n",
      "Epoch 484/500\n",
      "18/18 [==============================] - 0s 11ms/step - loss: 97.4735 - val_loss: 833.5671\n",
      "Epoch 485/500\n",
      "18/18 [==============================] - 0s 4ms/step - loss: 97.4735 - val_loss: 833.5670\n",
      "Epoch 486/500\n",
      "18/18 [==============================] - 0s 4ms/step - loss: 97.4735 - val_loss: 833.5667\n",
      "Epoch 487/500\n",
      "18/18 [==============================] - 0s 5ms/step - loss: 97.4736 - val_loss: 833.5667\n",
      "Epoch 488/500\n",
      "18/18 [==============================] - 0s 4ms/step - loss: 97.4736 - val_loss: 833.5670\n",
      "Epoch 489/500\n",
      "18/18 [==============================] - 0s 4ms/step - loss: 97.4736 - val_loss: 833.5671\n",
      "Epoch 490/500\n",
      "18/18 [==============================] - 0s 4ms/step - loss: 97.4736 - val_loss: 833.5671\n",
      "Epoch 491/500\n",
      "18/18 [==============================] - 0s 5ms/step - loss: 97.4737 - val_loss: 833.5671\n",
      "Epoch 492/500\n",
      "18/18 [==============================] - 0s 5ms/step - loss: 97.4737 - val_loss: 833.5668\n",
      "Epoch 493/500\n",
      "18/18 [==============================] - 0s 5ms/step - loss: 97.4737 - val_loss: 833.5667\n",
      "Epoch 494/500\n",
      "18/18 [==============================] - 0s 5ms/step - loss: 97.4738 - val_loss: 833.5665\n",
      "Epoch 495/500\n",
      "18/18 [==============================] - 0s 7ms/step - loss: 97.4738 - val_loss: 833.5667\n",
      "Epoch 496/500\n",
      "18/18 [==============================] - 0s 4ms/step - loss: 97.4739 - val_loss: 833.5668\n",
      "Epoch 497/500\n",
      "18/18 [==============================] - 0s 5ms/step - loss: 97.4738 - val_loss: 833.5668\n",
      "Epoch 498/500\n",
      "18/18 [==============================] - 0s 4ms/step - loss: 97.4739 - val_loss: 833.5667\n",
      "Epoch 499/500\n",
      "18/18 [==============================] - 0s 5ms/step - loss: 97.4739 - val_loss: 833.5664\n",
      "Epoch 500/500\n",
      "18/18 [==============================] - 0s 4ms/step - loss: 97.4739 - val_loss: 833.5661\n"
     ]
    }
   ],
   "source": [
    "C0 = tf.Variable(86.6465, name=\"C0\", trainable=True, dtype=tf.float32)\n",
    "K0 = tf.Variable(-0.0029, name=\"K0\", trainable=True, dtype=tf.float32)\n",
    "K1 = tf.Variable(-0.0003, name=\"K1\", trainable=True, dtype=tf.float32)\n",
    "a = tf.Variable(0.0000, name=\"a\", trainable=True, dtype=tf.float32)\n",
    "b = tf.Variable(0.0168, name=\"b\", trainable=True, dtype=tf.float32)\n",
    "c = tf.Variable(2.3581, name=\"c\", trainable=True, dtype=tf.float32)\n",
    "\n",
    "splitr = 0.8\n",
    "\n",
    "\n",
    "def loss_fn(y_true, y_pred):\n",
    "    squared_difference = tf.square(y_true[:, 0] - y_pred[:, 0])\n",
    "    #squared_difference2 = tf.square(y_true[:, 2]-y_pred[:, 2])\n",
    "    #squared_difference1 = tf.square(y_true[:, 1]-y_pred[:, 1])\n",
    "    epsilon = 1\n",
    "    squared_difference3 = tf.square(\n",
    "        y_pred[:, 1] - (\n",
    "            y_pred[:, 0] * (\n",
    "                K0 - K1 * (\n",
    "                    9 * a * tf.math.log((y_pred[:, 0] + epsilon) / C0) / (K0 - K1 * c)**2 +\n",
    "                    4 * b * tf.math.log((y_pred[:, 0] + epsilon) / C0) / (K0 - K1 * c) + c\n",
    "                )\n",
    "            )\n",
    "        )\n",
    "    )\n",
    "    return tf.reduce_mean(squared_difference, axis=-1) + 0.2*tf.reduce_mean(squared_difference3, axis=-1)\n",
    "model = Sequential()\n",
    "model.add(LSTM(100, input_shape=(trainX.shape[1], trainX.shape[2])))\n",
    "model.add(Dense(60))\n",
    "model.compile(loss=loss_fn, optimizer='adam')\n",
    "history = model.fit(trainX[:int(splitr*trainX.shape[0])], trainy[:int(splitr*trainX.shape[0])], epochs=500, batch_size=64, validation_data=(trainX[int(splitr*trainX.shape[0]):trainX.shape[0]], trainy[int(splitr*trainX.shape[0]):trainX.shape[0]]), shuffle=False)"
   ]
  },
  {
   "cell_type": "code",
   "execution_count": 19,
   "metadata": {
    "colab": {
     "base_uri": "https://localhost:8080/"
    },
    "id": "yJL101rPyuoT",
    "outputId": "239ff2b1-c186-423a-d316-939dfdd7c793"
   },
   "outputs": [
    {
     "name": "stdout",
     "output_type": "stream",
     "text": [
      "1/1 [==============================] - 0s 358ms/step\n"
     ]
    }
   ],
   "source": [
    "forecast_without_mc = forecastX\n",
    "yhat_without_mc = model.predict(forecast_without_mc) # Step Ahead Prediction\n",
    "forecast_without_mc = forecast_without_mc.reshape((forecast_without_mc.shape[0], forecast_without_mc.shape[2])) # Historical Input"
   ]
  },
  {
   "cell_type": "code",
   "execution_count": 20,
   "metadata": {
    "colab": {
     "base_uri": "https://localhost:8080/"
    },
    "id": "g9dQELcJ8wbp",
    "outputId": "4dc7671b-b1a8-48d5-8744-a86f98446109"
   },
   "outputs": [
    {
     "data": {
      "text/plain": [
       "(1, 1, 251)"
      ]
     },
     "execution_count": 20,
     "metadata": {},
     "output_type": "execute_result"
    }
   ],
   "source": [
    "forecastX.shape"
   ]
  },
  {
   "cell_type": "code",
   "execution_count": 21,
   "metadata": {
    "colab": {
     "base_uri": "https://localhost:8080/"
    },
    "id": "IS2kyIKG1Kbr",
    "outputId": "f31b3485-8e26-452f-9298-ea8bf7e80ad1"
   },
   "outputs": [
    {
     "data": {
      "text/plain": [
       "(1, 251)"
      ]
     },
     "execution_count": 21,
     "metadata": {},
     "output_type": "execute_result"
    }
   ],
   "source": [
    "forecast_without_mc.shape"
   ]
  },
  {
   "cell_type": "code",
   "execution_count": 22,
   "metadata": {
    "id": "0u6VIzaDyuoT"
   },
   "outputs": [],
   "source": [
    "inv_yhat_without_mc = np.concatenate((forecast_without_mc, yhat_without_mc), axis=1) # Concatenation of predicted values with Historical Data\n",
    "#inv_yhat_without_mc = scaler.inverse_transform(inv_yhat_without_mc) # Transform labels back to original encoding"
   ]
  },
  {
   "cell_type": "code",
   "execution_count": 23,
   "metadata": {
    "colab": {
     "base_uri": "https://localhost:8080/"
    },
    "id": "EUEcw0LX07oU",
    "outputId": "cfc32397-9c37-4b43-d087-584bb31c3dcc"
   },
   "outputs": [
    {
     "data": {
      "text/plain": [
       "(1, 311)"
      ]
     },
     "execution_count": 23,
     "metadata": {},
     "output_type": "execute_result"
    }
   ],
   "source": [
    "inv_yhat_without_mc.shape"
   ]
  },
  {
   "cell_type": "code",
   "execution_count": 24,
   "metadata": {
    "id": "31OWVbSh_305"
   },
   "outputs": [],
   "source": [
    "fforecast = inv_yhat_without_mc[:,-300:]"
   ]
  },
  {
   "cell_type": "code",
   "execution_count": 25,
   "metadata": {},
   "outputs": [
    {
     "data": {
      "text/plain": [
       "(1, 300)"
      ]
     },
     "execution_count": 25,
     "metadata": {},
     "output_type": "execute_result"
    }
   ],
   "source": [
    "fforecast.shape"
   ]
  },
  {
   "cell_type": "code",
   "execution_count": 26,
   "metadata": {
    "id": "BlpGH2FOAiRF"
   },
   "outputs": [],
   "source": [
    "final_forecast = fforecast[:,0:300:3]"
   ]
  },
  {
   "cell_type": "code",
   "execution_count": 27,
   "metadata": {},
   "outputs": [
    {
     "data": {
      "text/plain": [
       "(1, 300)"
      ]
     },
     "execution_count": 27,
     "metadata": {},
     "output_type": "execute_result"
    }
   ],
   "source": [
    "fforecast.shape"
   ]
  },
  {
   "cell_type": "code",
   "execution_count": 28,
   "metadata": {
    "id": "CXkgkj_LBk_t"
   },
   "outputs": [],
   "source": [
    "# code to replace all negative value with 0\n",
    "final_forecast[final_forecast<0] = 0"
   ]
  },
  {
   "cell_type": "code",
   "execution_count": 29,
   "metadata": {},
   "outputs": [
    {
     "data": {
      "text/plain": [
       "array([[6.37913399e+01, 6.37325163e+01, 6.36736928e+01, 6.36148693e+01,\n",
       "        6.35560458e+01, 6.34972222e+01, 6.34383987e+01, 2.75919200e-01,\n",
       "        0.00000000e+00, 0.00000000e+00, 4.65901290e-01, 3.53158380e-01,\n",
       "        3.52840840e-01, 6.49537815e+01, 6.47857143e+01, 6.46176471e+01,\n",
       "        6.44495798e+01, 6.42815126e+01, 6.41134454e+01, 6.39808824e+01,\n",
       "        6.39220588e+01, 6.38632353e+01, 6.38044118e+01, 6.37455882e+01,\n",
       "        6.36867647e+01, 6.36279412e+01, 6.35691177e+01, 6.35102941e+01,\n",
       "        6.34514706e+01, 6.33926471e+01, 6.33338235e+01, 6.32678571e+01,\n",
       "        6.31922269e+01, 6.31165966e+01, 6.30409664e+01, 6.29653361e+01,\n",
       "        6.28897059e+01, 6.28140756e+01, 6.27384454e+01, 6.26628151e+01,\n",
       "        4.21224950e-01, 0.00000000e+00, 0.00000000e+00, 5.66405830e-01,\n",
       "        5.23700950e-01, 7.86892830e-01, 3.11467650e-01, 6.36410131e+01,\n",
       "        6.35821895e+01, 6.35233660e+01, 6.34645425e+01, 6.34057190e+01,\n",
       "        6.33468954e+01, 6.32846639e+01, 6.32090336e+01, 6.31334034e+01,\n",
       "        6.30577731e+01, 6.29821429e+01, 6.29065126e+01, 6.28308824e+01,\n",
       "        6.27552521e+01, 6.26796218e+01, 6.71429739e+01, 6.69521475e+01,\n",
       "        6.67000467e+01, 6.64479458e+01, 6.61958450e+01, 6.58874883e+01,\n",
       "        6.53832867e+01, 6.48790850e+01, 6.43748833e+01, 1.66747361e-01,\n",
       "        0.00000000e+00, 0.00000000e+00, 7.79817820e-01, 2.18141124e-01,\n",
       "        7.77567625e-01, 0.00000000e+00, 0.00000000e+00, 2.24165514e-01,\n",
       "        6.19704742e+01, 4.85271513e-02, 0.00000000e+00, 0.00000000e+00,\n",
       "        3.19236487e-01, 5.64520717e-01, 2.30973251e-02, 2.62026906e-01,\n",
       "        0.00000000e+00, 0.00000000e+00, 0.00000000e+00, 0.00000000e+00,\n",
       "        0.00000000e+00, 1.40347481e-01, 8.91074359e-01, 0.00000000e+00,\n",
       "        0.00000000e+00, 0.00000000e+00, 0.00000000e+00, 0.00000000e+00]])"
      ]
     },
     "execution_count": 29,
     "metadata": {},
     "output_type": "execute_result"
    }
   ],
   "source": [
    "final_forecast"
   ]
  },
  {
   "cell_type": "code",
   "execution_count": 30,
   "metadata": {},
   "outputs": [
    {
     "data": {
      "text/plain": [
       "(1, 100)"
      ]
     },
     "execution_count": 30,
     "metadata": {},
     "output_type": "execute_result"
    }
   ],
   "source": [
    "final_forecast.shape"
   ]
  },
  {
   "cell_type": "code",
   "execution_count": 31,
   "metadata": {},
   "outputs": [
    {
     "data": {
      "text/plain": [
       "(100,)"
      ]
     },
     "execution_count": 31,
     "metadata": {},
     "output_type": "execute_result"
    }
   ],
   "source": [
    "test.shape"
   ]
  },
  {
   "cell_type": "code",
   "execution_count": 32,
   "metadata": {},
   "outputs": [],
   "source": [
    "training_set = np.array(training_set)\n",
    "test = np.array(test)\n",
    "final_forecast = np.array(final_forecast.squeeze(0))"
   ]
  },
  {
   "cell_type": "code",
   "execution_count": 33,
   "metadata": {},
   "outputs": [
    {
     "data": {
      "text/plain": [
       "array([59.50739963, 59.49712885, 59.48685808, 59.4765873 , 59.46631653,\n",
       "       59.45604575, 59.44577498, 59.4355042 , 59.42523343, 59.41496265,\n",
       "       59.40469188, 59.3944211 , 59.38415033, 59.37387955, 59.36360878,\n",
       "       59.353338  , 59.34306723, 59.33279645, 59.32252568, 59.3122549 ,\n",
       "       59.30198413, 59.29171335, 59.28144258, 59.2711718 , 59.26090103,\n",
       "       59.25063025, 59.24035948, 59.2300887 , 59.21981793, 59.20954715,\n",
       "       59.19927638, 59.1890056 , 59.17873483, 59.16846405, 59.15819328,\n",
       "       59.1479225 , 59.13765173, 59.12738095, 59.11711018, 59.1068394 ,\n",
       "       59.09656863, 59.08629785, 59.07602708, 59.0657563 , 59.05548553,\n",
       "       59.04521475, 59.03494398, 59.0246732 , 59.01440243, 59.00413165,\n",
       "       58.99386088, 58.9835901 , 58.97331933, 58.96304855, 58.95277778,\n",
       "       58.942507  , 58.93223623, 58.92196545, 58.91169468, 58.9014239 ,\n",
       "       58.89115313, 58.88088235, 58.87061158, 58.8603408 , 58.85007003,\n",
       "       58.83979925, 58.82952848, 58.8192577 , 58.80898693, 58.79801587,\n",
       "       58.78214286, 58.76626984, 58.75039683, 58.73452381, 58.71865079,\n",
       "       58.70277778, 58.68690476, 58.67103175, 58.65515873, 58.63928571,\n",
       "       58.6234127 , 58.60753968, 58.59166667, 58.57579365, 58.55992063,\n",
       "       58.54404762, 58.5281746 , 58.51230159, 58.49642857, 58.48055556,\n",
       "       58.46468254, 58.44880952, 58.43293651, 58.41706349, 58.40119048,\n",
       "       58.38531746, 58.36944444, 58.35357143, 58.33769841, 58.3218254 ])"
      ]
     },
     "execution_count": 33,
     "metadata": {},
     "output_type": "execute_result"
    }
   ],
   "source": [
    "test"
   ]
  },
  {
   "cell_type": "code",
   "execution_count": 34,
   "metadata": {},
   "outputs": [
    {
     "data": {
      "text/plain": [
       "(100,)"
      ]
     },
     "execution_count": 34,
     "metadata": {},
     "output_type": "execute_result"
    }
   ],
   "source": [
    "test.shape"
   ]
  },
  {
   "cell_type": "code",
   "execution_count": 35,
   "metadata": {},
   "outputs": [
    {
     "data": {
      "text/plain": [
       "(100,)"
      ]
     },
     "execution_count": 35,
     "metadata": {},
     "output_type": "execute_result"
    }
   ],
   "source": [
    "final_forecast.shape"
   ]
  },
  {
   "cell_type": "code",
   "execution_count": 36,
   "metadata": {},
   "outputs": [
    {
     "data": {
      "text/plain": [
       "(100,)"
      ]
     },
     "execution_count": 36,
     "metadata": {},
     "output_type": "execute_result"
    }
   ],
   "source": [
    "test.shape"
   ]
  },
  {
   "cell_type": "code",
   "execution_count": 37,
   "metadata": {},
   "outputs": [
    {
     "name": "stdout",
     "output_type": "stream",
     "text": [
      "37.677617818925\n",
      "26.79220008192679\n"
     ]
    }
   ],
   "source": [
    "import math\n",
    "MSE = np.square(np.subtract(np.array(test),np.array(final_forecast))).mean()   \n",
    "rsme = math.sqrt(MSE)\n",
    "print(rsme)  \n",
    "MAE = np.abs(np.subtract(np.array(test),np.array(final_forecast))).mean()   \n",
    "mae = MAE\n",
    "print(mae)"
   ]
  }
 ],
 "metadata": {
  "colab": {
   "provenance": []
  },
  "kernelspec": {
   "display_name": "Python 3",
   "language": "python",
   "name": "python3"
  },
  "language_info": {
   "codemirror_mode": {
    "name": "ipython",
    "version": 3
   },
   "file_extension": ".py",
   "mimetype": "text/x-python",
   "name": "python",
   "nbconvert_exporter": "python",
   "pygments_lexer": "ipython3",
   "version": "3.9.13"
  }
 },
 "nbformat": 4,
 "nbformat_minor": 0
}
