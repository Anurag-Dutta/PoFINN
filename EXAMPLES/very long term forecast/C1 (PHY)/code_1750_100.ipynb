{
 "cells": [
  {
   "cell_type": "markdown",
   "metadata": {
    "id": "pCGKeZ2gyuoQ"
   },
   "source": [
    "_Importing Required Libraries_"
   ]
  },
  {
   "cell_type": "code",
   "execution_count": 1,
   "metadata": {
    "colab": {
     "base_uri": "https://localhost:8080/"
    },
    "id": "A-6LN-zXiLcM",
    "outputId": "4de610a4-f8b8-4f49-c6c0-89de299ccedc"
   },
   "outputs": [
    {
     "name": "stdout",
     "output_type": "stream",
     "text": [
      "Requirement already satisfied: hampel in c:\\users\\anurag dutta\\appdata\\local\\packages\\pythonsoftwarefoundation.python.3.9_qbz5n2kfra8p0\\localcache\\local-packages\\python39\\site-packages (0.0.5)\n",
      "Requirement already satisfied: numpy in c:\\users\\anurag dutta\\appdata\\local\\packages\\pythonsoftwarefoundation.python.3.9_qbz5n2kfra8p0\\localcache\\local-packages\\python39\\site-packages (from hampel) (1.26.4)\n",
      "Requirement already satisfied: pandas in c:\\users\\anurag dutta\\appdata\\local\\packages\\pythonsoftwarefoundation.python.3.9_qbz5n2kfra8p0\\localcache\\local-packages\\python39\\site-packages (from hampel) (1.5.2)\n",
      "Requirement already satisfied: python-dateutil>=2.8.1 in c:\\users\\anurag dutta\\appdata\\local\\packages\\pythonsoftwarefoundation.python.3.9_qbz5n2kfra8p0\\localcache\\local-packages\\python39\\site-packages (from pandas->hampel) (2.8.2)\n",
      "Requirement already satisfied: pytz>=2020.1 in c:\\users\\anurag dutta\\appdata\\local\\packages\\pythonsoftwarefoundation.python.3.9_qbz5n2kfra8p0\\localcache\\local-packages\\python39\\site-packages (from pandas->hampel) (2023.3.post1)\n",
      "Requirement already satisfied: six>=1.5 in c:\\users\\anurag dutta\\appdata\\local\\packages\\pythonsoftwarefoundation.python.3.9_qbz5n2kfra8p0\\localcache\\local-packages\\python39\\site-packages (from python-dateutil>=2.8.1->pandas->hampel) (1.16.0)\n",
      "Note: you may need to restart the kernel to use updated packages.\n"
     ]
    },
    {
     "name": "stderr",
     "output_type": "stream",
     "text": [
      "\n",
      "[notice] A new release of pip is available: 24.2 -> 24.3.1\n",
      "[notice] To update, run: C:\\Users\\Anurag Dutta\\AppData\\Local\\Microsoft\\WindowsApps\\PythonSoftwareFoundation.Python.3.9_qbz5n2kfra8p0\\python.exe -m pip install --upgrade pip\n"
     ]
    }
   ],
   "source": [
    "pip install hampel"
   ]
  },
  {
   "cell_type": "code",
   "execution_count": 2,
   "metadata": {
    "id": "By_d9uXpaFvZ"
   },
   "outputs": [],
   "source": [
    "from keras.models import Sequential\n",
    "from keras.layers import Dense\n",
    "from keras.layers import LSTM\n",
    "from keras.layers import Dropout\n",
    "import keras\n",
    "import tensorflow as tf\n",
    "from hampel import hampel\n",
    "import numpy as np\n",
    "import matplotlib.pyplot as plt\n",
    "import pandas as pd\n",
    "from sklearn.preprocessing import MinMaxScaler\n",
    "from sklearn.metrics import mean_squared_error, mean_absolute_error\n",
    "from math import sqrt\n",
    "from matplotlib import pyplot\n",
    "from numpy import array"
   ]
  },
  {
   "cell_type": "markdown",
   "metadata": {
    "id": "JyOjBMFayuoR"
   },
   "source": [
    "## Pretraining"
   ]
  },
  {
   "cell_type": "markdown",
   "metadata": {
    "id": "-5QqIY_GyuoR"
   },
   "source": [
    "The `capa_intermittency.dat` feeds the model with the dynamics of the Capacitor"
   ]
  },
  {
   "cell_type": "code",
   "execution_count": 3,
   "metadata": {
    "id": "9dV4a8yfyuoR"
   },
   "outputs": [],
   "source": [
    "data = np.genfromtxt('capa_intermittency.dat')\n",
    "training_set = pd.DataFrame(data).reset_index(drop=True)\n",
    "training_set = training_set.iloc[:,0]"
   ]
  },
  {
   "cell_type": "markdown",
   "metadata": {
    "id": "i7easoxByuoR"
   },
   "source": [
    "## Computing the Gradient"
   ]
  },
  {
   "cell_type": "markdown",
   "metadata": {
    "id": "5SnyolJTyuoR"
   },
   "source": [
    "_Calculating the value of_ $\\frac{dx}{dt}$"
   ]
  },
  {
   "cell_type": "code",
   "execution_count": 4,
   "metadata": {
    "colab": {
     "base_uri": "https://localhost:8080/"
    },
    "id": "wmIbVfIvyuoR",
    "outputId": "aa4e3136-c854-465d-d2e9-81cfd546e440"
   },
   "outputs": [
    {
     "name": "stdout",
     "output_type": "stream",
     "text": [
      "1.0\n",
      "1        0.000298\n",
      "2        0.000298\n",
      "3        0.000297\n",
      "4        0.000297\n",
      "5        0.000297\n",
      "           ...   \n",
      "9996     0.000018\n",
      "9997     0.000018\n",
      "9998     0.000018\n",
      "9999     0.000018\n",
      "10000    0.000018\n",
      "Name: 0, Length: 10000, dtype: float64\n"
     ]
    }
   ],
   "source": [
    "t_diff = 1\n",
    "print(training_set.max())\n",
    "gradient_t = (training_set.diff()/t_diff).iloc[1:] # dx/dt\n",
    "print(gradient_t)"
   ]
  },
  {
   "cell_type": "markdown",
   "metadata": {
    "id": "_2eVeeoxyuoS"
   },
   "source": [
    "## Loading Datasets"
   ]
  },
  {
   "cell_type": "code",
   "execution_count": null,
   "metadata": {
    "id": "0J-NKyIEyuoS"
   },
   "outputs": [
    {
     "data": {
      "text/plain": [
       "0       89.200000\n",
       "1       88.931092\n",
       "2       88.662185\n",
       "3       88.393277\n",
       "4       88.124370\n",
       "          ...    \n",
       "1845    59.558754\n",
       "1846    59.548483\n",
       "1847    59.538212\n",
       "1848    59.527941\n",
       "1849    59.517670\n",
       "Name: C1, Length: 1850, dtype: float64"
      ]
     },
     "execution_count": 5,
     "metadata": {},
     "output_type": "execute_result"
    }
   ],
   "source": [
    "data = pd.read_csv(\"c1_interpolated_1750_100.csv\")\n",
    "training_set = data.iloc[:, 1]\n",
    "training_set"
   ]
  },
  {
   "cell_type": "code",
   "execution_count": 6,
   "metadata": {
    "colab": {
     "base_uri": "https://localhost:8080/"
    },
    "id": "-CbNUhJ74UqF",
    "outputId": "20f562d8-8247-49cc-b9c3-00eca5e13e2d"
   },
   "outputs": [
    {
     "data": {
      "text/plain": [
       "0       89.200000\n",
       "1       88.931092\n",
       "2       88.662185\n",
       "3       88.393277\n",
       "4       88.124370\n",
       "          ...    \n",
       "1745     0.000000\n",
       "1746     0.000000\n",
       "1747     0.000000\n",
       "1748     0.000000\n",
       "1749     0.169429\n",
       "Name: C1, Length: 1750, dtype: float64"
      ]
     },
     "execution_count": 6,
     "metadata": {},
     "output_type": "execute_result"
    }
   ],
   "source": [
    "test = training_set.tail(100)\n",
    "test\n",
    "training_set = training_set.head(1750)\n",
    "training_set"
   ]
  },
  {
   "cell_type": "code",
   "execution_count": 7,
   "metadata": {
    "colab": {
     "base_uri": "https://localhost:8080/"
    },
    "id": "X0TwTcq0yuoS",
    "outputId": "37252ed8-d88e-4044-fa7a-922411990b5b"
   },
   "outputs": [
    {
     "name": "stdout",
     "output_type": "stream",
     "text": [
      "0       0.000298\n",
      "1       0.000298\n",
      "2       0.000297\n",
      "3       0.000297\n",
      "4       0.000297\n",
      "          ...   \n",
      "9995    0.000018\n",
      "9996    0.000018\n",
      "9997    0.000018\n",
      "9998    0.000018\n",
      "9999    0.000018\n",
      "Name: 0, Length: 10000, dtype: float64\n"
     ]
    }
   ],
   "source": [
    "training_set = training_set.reset_index(drop=True)\n",
    "gradient_t = gradient_t.reset_index(drop=True)\n",
    "print(gradient_t)"
   ]
  },
  {
   "cell_type": "code",
   "execution_count": 8,
   "metadata": {
    "id": "O2biznZQyuoS"
   },
   "outputs": [],
   "source": [
    "df = pd.concat((training_set, gradient_t), axis=1)\n",
    "df.columns = ['y_t', 'grad_t']"
   ]
  },
  {
   "cell_type": "code",
   "execution_count": 9,
   "metadata": {
    "colab": {
     "base_uri": "https://localhost:8080/",
     "height": 423
    },
    "id": "sk_a5v3tyuoS",
    "outputId": "17563625-e550-45ae-faab-fafa353e44da"
   },
   "outputs": [
    {
     "data": {
      "text/html": [
       "<div>\n",
       "<style scoped>\n",
       "    .dataframe tbody tr th:only-of-type {\n",
       "        vertical-align: middle;\n",
       "    }\n",
       "\n",
       "    .dataframe tbody tr th {\n",
       "        vertical-align: top;\n",
       "    }\n",
       "\n",
       "    .dataframe thead th {\n",
       "        text-align: right;\n",
       "    }\n",
       "</style>\n",
       "<table border=\"1\" class=\"dataframe\">\n",
       "  <thead>\n",
       "    <tr style=\"text-align: right;\">\n",
       "      <th></th>\n",
       "      <th>y_t</th>\n",
       "      <th>grad_t</th>\n",
       "    </tr>\n",
       "  </thead>\n",
       "  <tbody>\n",
       "    <tr>\n",
       "      <th>0</th>\n",
       "      <td>89.200000</td>\n",
       "      <td>0.000298</td>\n",
       "    </tr>\n",
       "    <tr>\n",
       "      <th>1</th>\n",
       "      <td>88.931092</td>\n",
       "      <td>0.000298</td>\n",
       "    </tr>\n",
       "    <tr>\n",
       "      <th>2</th>\n",
       "      <td>88.662185</td>\n",
       "      <td>0.000297</td>\n",
       "    </tr>\n",
       "    <tr>\n",
       "      <th>3</th>\n",
       "      <td>88.393277</td>\n",
       "      <td>0.000297</td>\n",
       "    </tr>\n",
       "    <tr>\n",
       "      <th>4</th>\n",
       "      <td>88.124370</td>\n",
       "      <td>0.000297</td>\n",
       "    </tr>\n",
       "    <tr>\n",
       "      <th>...</th>\n",
       "      <td>...</td>\n",
       "      <td>...</td>\n",
       "    </tr>\n",
       "    <tr>\n",
       "      <th>9995</th>\n",
       "      <td>NaN</td>\n",
       "      <td>0.000018</td>\n",
       "    </tr>\n",
       "    <tr>\n",
       "      <th>9996</th>\n",
       "      <td>NaN</td>\n",
       "      <td>0.000018</td>\n",
       "    </tr>\n",
       "    <tr>\n",
       "      <th>9997</th>\n",
       "      <td>NaN</td>\n",
       "      <td>0.000018</td>\n",
       "    </tr>\n",
       "    <tr>\n",
       "      <th>9998</th>\n",
       "      <td>NaN</td>\n",
       "      <td>0.000018</td>\n",
       "    </tr>\n",
       "    <tr>\n",
       "      <th>9999</th>\n",
       "      <td>NaN</td>\n",
       "      <td>0.000018</td>\n",
       "    </tr>\n",
       "  </tbody>\n",
       "</table>\n",
       "<p>10000 rows × 2 columns</p>\n",
       "</div>"
      ],
      "text/plain": [
       "            y_t    grad_t\n",
       "0     89.200000  0.000298\n",
       "1     88.931092  0.000298\n",
       "2     88.662185  0.000297\n",
       "3     88.393277  0.000297\n",
       "4     88.124370  0.000297\n",
       "...         ...       ...\n",
       "9995        NaN  0.000018\n",
       "9996        NaN  0.000018\n",
       "9997        NaN  0.000018\n",
       "9998        NaN  0.000018\n",
       "9999        NaN  0.000018\n",
       "\n",
       "[10000 rows x 2 columns]"
      ]
     },
     "execution_count": 9,
     "metadata": {},
     "output_type": "execute_result"
    }
   ],
   "source": [
    "df"
   ]
  },
  {
   "cell_type": "markdown",
   "metadata": {
    "id": "-5esyHu5aFvg"
   },
   "source": [
    "## Plot of the External Forcing from Chaotic Differential Equation"
   ]
  },
  {
   "cell_type": "code",
   "execution_count": 10,
   "metadata": {
    "colab": {
     "base_uri": "https://localhost:8080/",
     "height": 447
    },
    "id": "hGnE43tOh-4p",
    "outputId": "fc396503-b624-4fa5-dfbe-f460207405c6"
   },
   "outputs": [
    {
     "data": {
      "text/plain": [
       "<Axes: >"
      ]
     },
     "execution_count": 10,
     "metadata": {},
     "output_type": "execute_result"
    },
    {
     "data": {
      "image/png": "[encoded data removed]",
      "text/plain": [
       "<Figure size 432x288 with 1 Axes>"
      ]
     },
     "metadata": {
      "needs_background": "light"
     },
     "output_type": "display_data"
    }
   ],
   "source": [
    "df.iloc[:, 0].plot()"
   ]
  },
  {
   "cell_type": "code",
   "execution_count": 11,
   "metadata": {
    "colab": {
     "base_uri": "https://localhost:8080/",
     "height": 447
    },
    "id": "ym4xWUUxaFvg",
    "outputId": "ae6a3495-8ce9-437e-ba81-3ed31deedeae"
   },
   "outputs": [
    {
     "name": "stderr",
     "output_type": "stream",
     "text": [
      "C:\\Users\\Anurag Dutta\\AppData\\Local\\Packages\\PythonSoftwareFoundation.Python.3.9_qbz5n2kfra8p0\\LocalCache\\local-packages\\Python39\\site-packages\\pandas\\core\\arraylike.py:402: RuntimeWarning: divide by zero encountered in log\n",
      "  result = getattr(ufunc, method)(*inputs, **kwargs)\n"
     ]
    },
    {
     "data": {
      "text/plain": [
       "<Axes: >"
      ]
     },
     "execution_count": 11,
     "metadata": {},
     "output_type": "execute_result"
    },
    {
     "data": {
      "image/png": "[encoded data removed]",
      "text/plain": [
       "<Figure size 432x288 with 1 Axes>"
      ]
     },
     "metadata": {
      "needs_background": "light"
     },
     "output_type": "display_data"
    }
   ],
   "source": [
    "import numpy as np\n",
    "c0 = 86.6465  # Value for C0\n",
    "K0 = -0.0029  # Value for K0\n",
    "K1 = -0.0003  # Value for K1\n",
    "a = 0.0000    # Value for a\n",
    "b = 0.0168    # Value for b\n",
    "c = 2.3581    # Value for c\n",
    "\n",
    "L = np.minimum(c0, (df.iloc[:, 1] - (df.iloc[:, 0] * (K0 - K1 * (9 * a * np.log(df.iloc[:, 0] / c0) / (K0 - K1 * c)**2 + 4 * b * np.log(df.iloc[:, 0] / c0) / (K0 - K1 * c) + c)))))\n",
    "L.plot()"
   ]
  },
  {
   "cell_type": "markdown",
   "metadata": {
    "id": "9VyEywnwaFvh"
   },
   "source": [
    "## Preprocessing the data into supervised learning"
   ]
  },
  {
   "cell_type": "code",
   "execution_count": 12,
   "metadata": {
    "id": "6V9dXqzdaFvh"
   },
   "outputs": [],
   "source": [
    "# split a sequence into samples\n",
    "def Supervised(data, n_in=1, n_out=1, dropnan=True):\n",
    "    n_vars = 1 if type(data) is list else data.shape[1]\n",
    "    df = pd.DataFrame(data)\n",
    "    cols, names = list(), list()\n",
    "    # input sequence (t-n_in, ... t-1)\n",
    "    for i in range(n_in, 0, -1):\n",
    "        cols.append(df.shift(i))\n",
    "        names += [('var%d(t-%d)' % (j+1, i)) for j in range(n_vars)]\n",
    "    # forecast sequence (t, t+1, ... t+n_out)\n",
    "    for i in range(0, n_out):\n",
    "      cols.append(df.shift(-i))\n",
    "      if i == 0:\n",
    "        names += [('var%d(t)' % (j+1)) for j in range(n_vars)]\n",
    "      else:\n",
    "        names += [('var%d(t+%d)' % (j+1, i)) for j in range(n_vars)]\n",
    "    # put it all together\n",
    "    agg = pd.concat(cols, axis=1)\n",
    "    agg.columns = names\n",
    "    # drop rows with NaN values\n",
    "    if dropnan:\n",
    "       agg.dropna(inplace=True)\n",
    "    return agg"
   ]
  },
  {
   "cell_type": "code",
   "execution_count": 13,
   "metadata": {
    "colab": {
     "base_uri": "https://localhost:8080/"
    },
    "id": "CrzSrT1HnyfH",
    "outputId": "7e75f928-3e47-499d-eac1-51908015ef78"
   },
   "outputs": [
    {
     "name": "stdout",
     "output_type": "stream",
     "text": [
      "     var1(t-350)  var1(t-349)  var1(t-348)  var1(t-347)  var1(t-346)  \\\n",
      "350    89.200000    88.931092    88.662185    88.393277    88.124370   \n",
      "351    88.931092    88.662185    88.393277    88.124370    87.855462   \n",
      "352    88.662185    88.393277    88.124370    87.855462    87.586555   \n",
      "353    88.393277    88.124370    87.855462    87.586555    87.317647   \n",
      "354    88.124370    87.855462    87.586555    87.317647    87.048739   \n",
      "\n",
      "     var1(t-345)  var1(t-344)  var1(t-343)  var1(t-342)  var1(t-341)  ...  \\\n",
      "350    87.855462    87.586555    87.317647    87.048739    86.794538  ...   \n",
      "351    87.586555    87.317647    87.048739    86.794538    86.721709  ...   \n",
      "352    87.317647    87.048739    86.794538    86.721709    86.648880  ...   \n",
      "353    87.048739    86.794538    86.721709    86.648880    86.576050  ...   \n",
      "354    86.794538    86.721709    86.648880    86.576050    86.503221  ...   \n",
      "\n",
      "     var1(t+95)  var2(t+95)  var1(t+96)  var2(t+96)  var1(t+97)  var2(t+97)  \\\n",
      "350   73.989683    0.000263   73.957937    0.000263   73.926190    0.000263   \n",
      "351   73.957937    0.000263   73.926190    0.000263   73.894444    0.000262   \n",
      "352   73.926190    0.000263   73.894444    0.000262   73.862698    0.000262   \n",
      "353   73.894444    0.000262   73.862698    0.000262   73.830952    0.000262   \n",
      "354   73.862698    0.000262   73.830952    0.000262   73.799206    0.000262   \n",
      "\n",
      "     var1(t+98)  var2(t+98)  var1(t+99)  var2(t+99)  \n",
      "350   73.894444    0.000262   73.862698    0.000262  \n",
      "351   73.862698    0.000262   73.830952    0.000262  \n",
      "352   73.830952    0.000262   73.799206    0.000262  \n",
      "353   73.799206    0.000262   73.767460    0.000262  \n",
      "354   73.767460    0.000262   73.735714    0.000262  \n",
      "\n",
      "[5 rows x 551 columns]\n",
      "Index(['var1(t-350)', 'var1(t-349)', 'var1(t-348)', 'var1(t-347)',\n",
      "       'var1(t-346)', 'var1(t-345)', 'var1(t-344)', 'var1(t-343)',\n",
      "       'var1(t-342)', 'var1(t-341)',\n",
      "       ...\n",
      "       'var1(t+95)', 'var2(t+95)', 'var1(t+96)', 'var2(t+96)', 'var1(t+97)',\n",
      "       'var2(t+97)', 'var1(t+98)', 'var2(t+98)', 'var1(t+99)', 'var2(t+99)'],\n",
      "      dtype='object', length=551)\n"
     ]
    }
   ],
   "source": [
    "data = Supervised(df.values, n_in = 350, n_out = 100)\n",
    "\n",
    "\n",
    "cols_to_drop = []\n",
    "for i in range(2, 351):\n",
    "    cols_to_drop.extend([f'var2(t-{i})'])\n",
    "\n",
    "data.drop(cols_to_drop, axis=1, inplace=True)\n",
    "\n",
    "print(data.head())\n",
    "print(data.columns)"
   ]
  },
  {
   "cell_type": "code",
   "execution_count": 14,
   "metadata": {
    "id": "AfPf60oy6Pe4"
   },
   "outputs": [],
   "source": [
    "train = np.array(data[0:len(data)-1])\n",
    "forecast = np.array(data.tail(1))"
   ]
  },
  {
   "cell_type": "code",
   "execution_count": 15,
   "metadata": {
    "id": "WSAafzI37KiT"
   },
   "outputs": [],
   "source": [
    "trainy = train[:,-300:]\n",
    "trainX = train[:,:-300]"
   ]
  },
  {
   "cell_type": "code",
   "execution_count": 16,
   "metadata": {
    "id": "2SrOqVJA7f50"
   },
   "outputs": [],
   "source": [
    "forecasty = forecast[:,-300:]\n",
    "forecastX = forecast[:,:-300]"
   ]
  },
  {
   "cell_type": "code",
   "execution_count": 17,
   "metadata": {
    "colab": {
     "base_uri": "https://localhost:8080/"
    },
    "id": "Qno_k8Nw7saY",
    "outputId": "c4a88db5-d8c6-489f-cdb2-06b24e293cff"
   },
   "outputs": [
    {
     "name": "stdout",
     "output_type": "stream",
     "text": [
      "(1300, 1, 251) (1300, 300) (1, 1, 251)\n"
     ]
    }
   ],
   "source": [
    "trainX = trainX.reshape((trainX.shape[0], 1, trainX.shape[1]))\n",
    "forecastX = forecastX.reshape((forecastX.shape[0], 1, forecastX.shape[1]))\n",
    "print(trainX.shape, trainy.shape, forecastX.shape)"
   ]
  },
  {
   "cell_type": "code",
   "execution_count": 18,
   "metadata": {
    "colab": {
     "base_uri": "https://localhost:8080/"
    },
    "id": "b1Jp2DvNuNFx",
    "outputId": "d0e5b3c4-64f1-438c-eade-8dfeaac8e285"
   },
   "outputs": [
    {
     "name": "stdout",
     "output_type": "stream",
     "text": [
      "Epoch 1/500\n",
      "17/17 [==============================] - 2s 31ms/step - loss: 4550.1426 - val_loss: 3106.1228\n",
      "Epoch 2/500\n",
      "17/17 [==============================] - 0s 5ms/step - loss: 4495.0181 - val_loss: 3075.9758\n",
      "Epoch 3/500\n",
      "17/17 [==============================] - 0s 5ms/step - loss: 4445.3071 - val_loss: 3044.6973\n",
      "Epoch 4/500\n",
      "17/17 [==============================] - 0s 4ms/step - loss: 4394.8818 - val_loss: 3013.6465\n",
      "Epoch 5/500\n",
      "17/17 [==============================] - 0s 4ms/step - loss: 4344.8491 - val_loss: 2980.7551\n",
      "Epoch 6/500\n",
      "17/17 [==============================] - 0s 5ms/step - loss: 4284.8481 - val_loss: 2943.1267\n",
      "Epoch 7/500\n",
      "17/17 [==============================] - 0s 5ms/step - loss: 4229.3994 - val_loss: 2908.9026\n",
      "Epoch 8/500\n",
      "17/17 [==============================] - 0s 4ms/step - loss: 4175.1196 - val_loss: 2875.5847\n",
      "Epoch 9/500\n",
      "17/17 [==============================] - 0s 4ms/step - loss: 4122.0215 - val_loss: 2843.0007\n",
      "Epoch 10/500\n",
      "17/17 [==============================] - 0s 5ms/step - loss: 4069.8716 - val_loss: 2811.0110\n",
      "Epoch 11/500\n",
      "17/17 [==============================] - 0s 4ms/step - loss: 4018.5100 - val_loss: 2779.5325\n",
      "Epoch 12/500\n",
      "17/17 [==============================] - 0s 5ms/step - loss: 3967.8408 - val_loss: 2748.5115\n",
      "Epoch 13/500\n",
      "17/17 [==============================] - 0s 4ms/step - loss: 3917.8005 - val_loss: 2717.9138\n",
      "Epoch 14/500\n",
      "17/17 [==============================] - 0s 4ms/step - loss: 3868.3494 - val_loss: 2687.7146\n",
      "Epoch 15/500\n",
      "17/17 [==============================] - 0s 4ms/step - loss: 3819.4561 - val_loss: 2657.8962\n",
      "Epoch 16/500\n",
      "17/17 [==============================] - 0s 5ms/step - loss: 3771.0974 - val_loss: 2628.4441\n",
      "Epoch 17/500\n",
      "17/17 [==============================] - 0s 4ms/step - loss: 3723.2571 - val_loss: 2599.3479\n",
      "Epoch 18/500\n",
      "17/17 [==============================] - 0s 4ms/step - loss: 3675.9204 - val_loss: 2570.5977\n",
      "Epoch 19/500\n",
      "17/17 [==============================] - 0s 4ms/step - loss: 3629.0750 - val_loss: 2542.1858\n",
      "Epoch 20/500\n",
      "17/17 [==============================] - 0s 5ms/step - loss: 3582.7109 - val_loss: 2514.1057\n",
      "Epoch 21/500\n",
      "17/17 [==============================] - 0s 5ms/step - loss: 3536.8203 - val_loss: 2486.3521\n",
      "Epoch 22/500\n",
      "17/17 [==============================] - 0s 5ms/step - loss: 3491.3948 - val_loss: 2458.9194\n",
      "Epoch 23/500\n",
      "17/17 [==============================] - 0s 5ms/step - loss: 3446.4277 - val_loss: 2431.8025\n",
      "Epoch 24/500\n",
      "17/17 [==============================] - 0s 5ms/step - loss: 3401.9131 - val_loss: 2404.9976\n",
      "Epoch 25/500\n",
      "17/17 [==============================] - 0s 6ms/step - loss: 3357.8447 - val_loss: 2378.5007\n",
      "Epoch 26/500\n",
      "17/17 [==============================] - 0s 6ms/step - loss: 3314.2170 - val_loss: 2352.3074\n",
      "Epoch 27/500\n",
      "17/17 [==============================] - 0s 5ms/step - loss: 3271.0254 - val_loss: 2326.4155\n",
      "Epoch 28/500\n",
      "17/17 [==============================] - 0s 5ms/step - loss: 3228.2651 - val_loss: 2300.8208\n",
      "Epoch 29/500\n",
      "17/17 [==============================] - 0s 6ms/step - loss: 3185.9326 - val_loss: 2275.5205\n",
      "Epoch 30/500\n",
      "17/17 [==============================] - 0s 5ms/step - loss: 3144.0222 - val_loss: 2250.5115\n",
      "Epoch 31/500\n",
      "17/17 [==============================] - 0s 5ms/step - loss: 3102.5308 - val_loss: 2225.7905\n",
      "Epoch 32/500\n",
      "17/17 [==============================] - 0s 4ms/step - loss: 3061.4539 - val_loss: 2201.3560\n",
      "Epoch 33/500\n",
      "17/17 [==============================] - 0s 4ms/step - loss: 3020.7883 - val_loss: 2177.2041\n",
      "Epoch 34/500\n",
      "17/17 [==============================] - 0s 5ms/step - loss: 2980.5310 - val_loss: 2153.3325\n",
      "Epoch 35/500\n",
      "17/17 [==============================] - 0s 4ms/step - loss: 2940.6765 - val_loss: 2129.7393\n",
      "Epoch 36/500\n",
      "17/17 [==============================] - 0s 4ms/step - loss: 2901.2229 - val_loss: 2106.4209\n",
      "Epoch 37/500\n",
      "17/17 [==============================] - 0s 12ms/step - loss: 2862.1665 - val_loss: 2083.3762\n",
      "Epoch 38/500\n",
      "17/17 [==============================] - 0s 5ms/step - loss: 2823.5044 - val_loss: 2060.6021\n",
      "Epoch 39/500\n",
      "17/17 [==============================] - 0s 5ms/step - loss: 2785.2327 - val_loss: 2038.0959\n",
      "Epoch 40/500\n",
      "17/17 [==============================] - 0s 5ms/step - loss: 2747.3484 - val_loss: 2015.8567\n",
      "Epoch 41/500\n",
      "17/17 [==============================] - 0s 5ms/step - loss: 2709.8499 - val_loss: 1993.8813\n",
      "Epoch 42/500\n",
      "17/17 [==============================] - 0s 7ms/step - loss: 2672.7319 - val_loss: 1972.1680\n",
      "Epoch 43/500\n",
      "17/17 [==============================] - 0s 5ms/step - loss: 2635.9927 - val_loss: 1950.7140\n",
      "Epoch 44/500\n",
      "17/17 [==============================] - 0s 5ms/step - loss: 2599.6294 - val_loss: 1929.5176\n",
      "Epoch 45/500\n",
      "17/17 [==============================] - 0s 5ms/step - loss: 2563.6389 - val_loss: 1908.5771\n",
      "Epoch 46/500\n",
      "17/17 [==============================] - 0s 4ms/step - loss: 2528.0188 - val_loss: 1887.8899\n",
      "Epoch 47/500\n",
      "17/17 [==============================] - 0s 4ms/step - loss: 2492.7659 - val_loss: 1867.4542\n",
      "Epoch 48/500\n",
      "17/17 [==============================] - 0s 5ms/step - loss: 2457.8770 - val_loss: 1847.2681\n",
      "Epoch 49/500\n",
      "17/17 [==============================] - 0s 4ms/step - loss: 2423.3506 - val_loss: 1827.3293\n",
      "Epoch 50/500\n",
      "17/17 [==============================] - 0s 5ms/step - loss: 2389.1824 - val_loss: 1807.6364\n",
      "Epoch 51/500\n",
      "17/17 [==============================] - 0s 5ms/step - loss: 2355.3713 - val_loss: 1788.1868\n",
      "Epoch 52/500\n",
      "17/17 [==============================] - 0s 4ms/step - loss: 2321.9138 - val_loss: 1768.9789\n",
      "Epoch 53/500\n",
      "17/17 [==============================] - 0s 4ms/step - loss: 2288.8074 - val_loss: 1750.0111\n",
      "Epoch 54/500\n",
      "17/17 [==============================] - 0s 5ms/step - loss: 2256.0498 - val_loss: 1731.2811\n",
      "Epoch 55/500\n",
      "17/17 [==============================] - 0s 5ms/step - loss: 2223.6382 - val_loss: 1712.7875\n",
      "Epoch 56/500\n",
      "17/17 [==============================] - 0s 6ms/step - loss: 2191.5706 - val_loss: 1694.5278\n",
      "Epoch 57/500\n",
      "17/17 [==============================] - 0s 4ms/step - loss: 2159.8433 - val_loss: 1676.5009\n",
      "Epoch 58/500\n",
      "17/17 [==============================] - 0s 5ms/step - loss: 2128.4551 - val_loss: 1658.7042\n",
      "Epoch 59/500\n",
      "17/17 [==============================] - 0s 4ms/step - loss: 2097.4031 - val_loss: 1641.1370\n",
      "Epoch 60/500\n",
      "17/17 [==============================] - 0s 4ms/step - loss: 2066.6846 - val_loss: 1623.7966\n",
      "Epoch 61/500\n",
      "17/17 [==============================] - 0s 5ms/step - loss: 2036.2979 - val_loss: 1606.6816\n",
      "Epoch 62/500\n",
      "17/17 [==============================] - 0s 5ms/step - loss: 2006.2396 - val_loss: 1589.7900\n",
      "Epoch 63/500\n",
      "17/17 [==============================] - 0s 4ms/step - loss: 1976.5078 - val_loss: 1573.1205\n",
      "Epoch 64/500\n",
      "17/17 [==============================] - 0s 4ms/step - loss: 1947.1001 - val_loss: 1556.6710\n",
      "Epoch 65/500\n",
      "17/17 [==============================] - 0s 5ms/step - loss: 1918.0142 - val_loss: 1540.4398\n",
      "Epoch 66/500\n",
      "17/17 [==============================] - 0s 5ms/step - loss: 1889.2479 - val_loss: 1524.4253\n",
      "Epoch 67/500\n",
      "17/17 [==============================] - 0s 4ms/step - loss: 1860.7987 - val_loss: 1508.6256\n",
      "Epoch 68/500\n",
      "17/17 [==============================] - 0s 4ms/step - loss: 1832.6637 - val_loss: 1493.0394\n",
      "Epoch 69/500\n",
      "17/17 [==============================] - 0s 5ms/step - loss: 1804.8420 - val_loss: 1477.6650\n",
      "Epoch 70/500\n",
      "17/17 [==============================] - 0s 5ms/step - loss: 1777.3309 - val_loss: 1462.5006\n",
      "Epoch 71/500\n",
      "17/17 [==============================] - 0s 4ms/step - loss: 1750.1273 - val_loss: 1447.5446\n",
      "Epoch 72/500\n",
      "17/17 [==============================] - 0s 11ms/step - loss: 1723.2301 - val_loss: 1432.7952\n",
      "Epoch 73/500\n",
      "17/17 [==============================] - 0s 5ms/step - loss: 1696.6360 - val_loss: 1418.2510\n",
      "Epoch 74/500\n",
      "17/17 [==============================] - 0s 4ms/step - loss: 1670.3441 - val_loss: 1403.9102\n",
      "Epoch 75/500\n",
      "17/17 [==============================] - 0s 4ms/step - loss: 1644.3507 - val_loss: 1389.7712\n",
      "Epoch 76/500\n",
      "17/17 [==============================] - 0s 5ms/step - loss: 1618.6545 - val_loss: 1375.8326\n",
      "Epoch 77/500\n",
      "17/17 [==============================] - 0s 5ms/step - loss: 1593.2537 - val_loss: 1362.0928\n",
      "Epoch 78/500\n",
      "17/17 [==============================] - 0s 4ms/step - loss: 1568.1454 - val_loss: 1348.5499\n",
      "Epoch 79/500\n",
      "17/17 [==============================] - 0s 5ms/step - loss: 1543.3275 - val_loss: 1335.2025\n",
      "Epoch 80/500\n",
      "17/17 [==============================] - 0s 4ms/step - loss: 1518.7986 - val_loss: 1322.0493\n",
      "Epoch 81/500\n",
      "17/17 [==============================] - 0s 4ms/step - loss: 1494.5554 - val_loss: 1309.0880\n",
      "Epoch 82/500\n",
      "17/17 [==============================] - 0s 4ms/step - loss: 1470.5968 - val_loss: 1296.3177\n",
      "Epoch 83/500\n",
      "17/17 [==============================] - 0s 5ms/step - loss: 1446.9200 - val_loss: 1283.7367\n",
      "Epoch 84/500\n",
      "17/17 [==============================] - 0s 4ms/step - loss: 1423.5234 - val_loss: 1271.3433\n",
      "Epoch 85/500\n",
      "17/17 [==============================] - 0s 7ms/step - loss: 1400.4050 - val_loss: 1259.1362\n",
      "Epoch 86/500\n",
      "17/17 [==============================] - 0s 4ms/step - loss: 1377.5624 - val_loss: 1247.1139\n",
      "Epoch 87/500\n",
      "17/17 [==============================] - 0s 4ms/step - loss: 1354.9941 - val_loss: 1235.2748\n",
      "Epoch 88/500\n",
      "17/17 [==============================] - 0s 5ms/step - loss: 1332.6979 - val_loss: 1223.6173\n",
      "Epoch 89/500\n",
      "17/17 [==============================] - 0s 4ms/step - loss: 1310.6709 - val_loss: 1212.1400\n",
      "Epoch 90/500\n",
      "17/17 [==============================] - 0s 4ms/step - loss: 1288.9121 - val_loss: 1200.8413\n",
      "Epoch 91/500\n",
      "17/17 [==============================] - 0s 6ms/step - loss: 1267.4194 - val_loss: 1189.7200\n",
      "Epoch 92/500\n",
      "17/17 [==============================] - 0s 5ms/step - loss: 1246.1907 - val_loss: 1178.7743\n",
      "Epoch 93/500\n",
      "17/17 [==============================] - 0s 5ms/step - loss: 1225.2231 - val_loss: 1168.0026\n",
      "Epoch 94/500\n",
      "17/17 [==============================] - 0s 5ms/step - loss: 1204.5159 - val_loss: 1157.4039\n",
      "Epoch 95/500\n",
      "17/17 [==============================] - 0s 5ms/step - loss: 1184.0667 - val_loss: 1146.9763\n",
      "Epoch 96/500\n",
      "17/17 [==============================] - 0s 5ms/step - loss: 1163.8730 - val_loss: 1136.7189\n",
      "Epoch 97/500\n",
      "17/17 [==============================] - 0s 4ms/step - loss: 1143.9336 - val_loss: 1126.6292\n",
      "Epoch 98/500\n",
      "17/17 [==============================] - 0s 4ms/step - loss: 1124.2461 - val_loss: 1116.7067\n",
      "Epoch 99/500\n",
      "17/17 [==============================] - 0s 5ms/step - loss: 1104.8083 - val_loss: 1106.9496\n",
      "Epoch 100/500\n",
      "17/17 [==============================] - 0s 5ms/step - loss: 1085.6191 - val_loss: 1097.3566\n",
      "Epoch 101/500\n",
      "17/17 [==============================] - 0s 5ms/step - loss: 1066.6760 - val_loss: 1087.9263\n",
      "Epoch 102/500\n",
      "17/17 [==============================] - 0s 6ms/step - loss: 1047.9775 - val_loss: 1078.6569\n",
      "Epoch 103/500\n",
      "17/17 [==============================] - 0s 6ms/step - loss: 1029.5212 - val_loss: 1069.5470\n",
      "Epoch 104/500\n",
      "17/17 [==============================] - 0s 6ms/step - loss: 1011.3052 - val_loss: 1060.5959\n",
      "Epoch 105/500\n",
      "17/17 [==============================] - 0s 6ms/step - loss: 993.3281 - val_loss: 1051.8013\n",
      "Epoch 106/500\n",
      "17/17 [==============================] - 0s 6ms/step - loss: 975.5876 - val_loss: 1043.1624\n",
      "Epoch 107/500\n",
      "17/17 [==============================] - 0s 12ms/step - loss: 958.0825 - val_loss: 1034.6774\n",
      "Epoch 108/500\n",
      "17/17 [==============================] - 0s 7ms/step - loss: 940.8102 - val_loss: 1026.3453\n",
      "Epoch 109/500\n",
      "17/17 [==============================] - 0s 7ms/step - loss: 923.7692 - val_loss: 1018.1644\n",
      "Epoch 110/500\n",
      "17/17 [==============================] - 0s 7ms/step - loss: 906.9570 - val_loss: 1010.1332\n",
      "Epoch 111/500\n",
      "17/17 [==============================] - 0s 7ms/step - loss: 890.3728 - val_loss: 1002.2507\n",
      "Epoch 112/500\n",
      "17/17 [==============================] - 0s 7ms/step - loss: 874.0137 - val_loss: 994.5151\n",
      "Epoch 113/500\n",
      "17/17 [==============================] - 0s 7ms/step - loss: 857.8786 - val_loss: 986.9252\n",
      "Epoch 114/500\n",
      "17/17 [==============================] - 0s 7ms/step - loss: 841.9656 - val_loss: 979.4797\n",
      "Epoch 115/500\n",
      "17/17 [==============================] - 0s 7ms/step - loss: 826.2726 - val_loss: 972.1772\n",
      "Epoch 116/500\n",
      "17/17 [==============================] - 0s 7ms/step - loss: 810.7980 - val_loss: 965.0161\n",
      "Epoch 117/500\n",
      "17/17 [==============================] - 0s 7ms/step - loss: 795.5400 - val_loss: 957.9954\n",
      "Epoch 118/500\n",
      "17/17 [==============================] - 0s 7ms/step - loss: 780.4965 - val_loss: 951.1135\n",
      "Epoch 119/500\n",
      "17/17 [==============================] - 0s 7ms/step - loss: 765.6659 - val_loss: 944.3690\n",
      "Epoch 120/500\n",
      "17/17 [==============================] - 0s 7ms/step - loss: 751.0462 - val_loss: 937.7604\n",
      "Epoch 121/500\n",
      "17/17 [==============================] - 0s 7ms/step - loss: 736.6362 - val_loss: 931.2869\n",
      "Epoch 122/500\n",
      "17/17 [==============================] - 0s 7ms/step - loss: 722.4335 - val_loss: 924.9467\n",
      "Epoch 123/500\n",
      "17/17 [==============================] - 0s 6ms/step - loss: 708.4365 - val_loss: 918.7386\n",
      "Epoch 124/500\n",
      "17/17 [==============================] - 0s 7ms/step - loss: 694.6434 - val_loss: 912.6610\n",
      "Epoch 125/500\n",
      "17/17 [==============================] - 0s 6ms/step - loss: 681.0525 - val_loss: 906.7128\n",
      "Epoch 126/500\n",
      "17/17 [==============================] - 0s 7ms/step - loss: 667.6619 - val_loss: 900.8928\n",
      "Epoch 127/500\n",
      "17/17 [==============================] - 0s 7ms/step - loss: 654.4700 - val_loss: 895.1992\n",
      "Epoch 128/500\n",
      "17/17 [==============================] - 0s 8ms/step - loss: 641.4752 - val_loss: 889.6312\n",
      "Epoch 129/500\n",
      "17/17 [==============================] - 0s 8ms/step - loss: 628.6756 - val_loss: 884.1871\n",
      "Epoch 130/500\n",
      "17/17 [==============================] - 0s 7ms/step - loss: 616.0692 - val_loss: 878.8657\n",
      "Epoch 131/500\n",
      "17/17 [==============================] - 0s 7ms/step - loss: 603.6544 - val_loss: 873.6656\n",
      "Epoch 132/500\n",
      "17/17 [==============================] - 0s 8ms/step - loss: 591.4298 - val_loss: 868.5858\n",
      "Epoch 133/500\n",
      "17/17 [==============================] - 0s 6ms/step - loss: 579.3934 - val_loss: 863.6244\n",
      "Epoch 134/500\n",
      "17/17 [==============================] - 0s 8ms/step - loss: 567.5432 - val_loss: 858.7803\n",
      "Epoch 135/500\n",
      "17/17 [==============================] - 0s 11ms/step - loss: 555.8781 - val_loss: 854.0526\n",
      "Epoch 136/500\n",
      "17/17 [==============================] - 0s 7ms/step - loss: 544.3956 - val_loss: 849.4394\n",
      "Epoch 137/500\n",
      "17/17 [==============================] - 0s 8ms/step - loss: 533.0946 - val_loss: 844.9397\n",
      "Epoch 138/500\n",
      "17/17 [==============================] - 0s 7ms/step - loss: 521.9732 - val_loss: 840.5521\n",
      "Epoch 139/500\n",
      "17/17 [==============================] - 0s 7ms/step - loss: 511.0296 - val_loss: 836.2754\n",
      "Epoch 140/500\n",
      "17/17 [==============================] - 0s 7ms/step - loss: 500.2623 - val_loss: 832.1080\n",
      "Epoch 141/500\n",
      "17/17 [==============================] - 0s 7ms/step - loss: 489.6692 - val_loss: 828.0490\n",
      "Epoch 142/500\n",
      "17/17 [==============================] - 0s 7ms/step - loss: 479.2491 - val_loss: 824.0969\n",
      "Epoch 143/500\n",
      "17/17 [==============================] - 0s 7ms/step - loss: 469.0002 - val_loss: 820.2504\n",
      "Epoch 144/500\n",
      "17/17 [==============================] - 0s 6ms/step - loss: 458.9205 - val_loss: 816.5082\n",
      "Epoch 145/500\n",
      "17/17 [==============================] - 0s 7ms/step - loss: 449.0085 - val_loss: 812.8690\n",
      "Epoch 146/500\n",
      "17/17 [==============================] - 0s 7ms/step - loss: 439.2625 - val_loss: 809.3316\n",
      "Epoch 147/500\n",
      "17/17 [==============================] - 0s 6ms/step - loss: 429.6810 - val_loss: 805.8946\n",
      "Epoch 148/500\n",
      "17/17 [==============================] - 0s 6ms/step - loss: 420.2623 - val_loss: 802.5566\n",
      "Epoch 149/500\n",
      "17/17 [==============================] - 0s 6ms/step - loss: 411.0045 - val_loss: 799.3168\n",
      "Epoch 150/500\n",
      "17/17 [==============================] - 0s 6ms/step - loss: 401.9061 - val_loss: 796.1735\n",
      "Epoch 151/500\n",
      "17/17 [==============================] - 0s 6ms/step - loss: 392.9655 - val_loss: 793.1255\n",
      "Epoch 152/500\n",
      "17/17 [==============================] - 0s 6ms/step - loss: 384.1809 - val_loss: 790.1715\n",
      "Epoch 153/500\n",
      "17/17 [==============================] - 0s 7ms/step - loss: 375.5507 - val_loss: 787.3102\n",
      "Epoch 154/500\n",
      "17/17 [==============================] - 0s 7ms/step - loss: 367.0732 - val_loss: 784.5405\n",
      "Epoch 155/500\n",
      "17/17 [==============================] - 0s 7ms/step - loss: 358.7466 - val_loss: 781.8610\n",
      "Epoch 156/500\n",
      "17/17 [==============================] - 0s 7ms/step - loss: 350.5696 - val_loss: 779.2706\n",
      "Epoch 157/500\n",
      "17/17 [==============================] - 0s 6ms/step - loss: 342.5406 - val_loss: 776.7677\n",
      "Epoch 158/500\n",
      "17/17 [==============================] - 0s 5ms/step - loss: 334.6577 - val_loss: 774.3514\n",
      "Epoch 159/500\n",
      "17/17 [==============================] - 0s 6ms/step - loss: 326.9193 - val_loss: 772.0202\n",
      "Epoch 160/500\n",
      "17/17 [==============================] - 0s 5ms/step - loss: 319.3238 - val_loss: 769.7729\n",
      "Epoch 161/500\n",
      "17/17 [==============================] - 0s 12ms/step - loss: 311.8695 - val_loss: 767.6082\n",
      "Epoch 162/500\n",
      "17/17 [==============================] - 0s 7ms/step - loss: 304.5547 - val_loss: 765.5250\n",
      "Epoch 163/500\n",
      "17/17 [==============================] - 0s 7ms/step - loss: 297.3783 - val_loss: 763.5220\n",
      "Epoch 164/500\n",
      "17/17 [==============================] - 0s 6ms/step - loss: 290.3384 - val_loss: 761.5978\n",
      "Epoch 165/500\n",
      "17/17 [==============================] - 0s 8ms/step - loss: 283.4330 - val_loss: 759.7514\n",
      "Epoch 166/500\n",
      "17/17 [==============================] - 0s 7ms/step - loss: 276.6611 - val_loss: 757.9816\n",
      "Epoch 167/500\n",
      "17/17 [==============================] - 0s 7ms/step - loss: 270.0209 - val_loss: 756.2870\n",
      "Epoch 168/500\n",
      "17/17 [==============================] - 0s 6ms/step - loss: 263.5108 - val_loss: 754.6662\n",
      "Epoch 169/500\n",
      "17/17 [==============================] - 0s 6ms/step - loss: 257.1291 - val_loss: 753.1182\n",
      "Epoch 170/500\n",
      "17/17 [==============================] - 0s 7ms/step - loss: 250.8742 - val_loss: 751.6418\n",
      "Epoch 171/500\n",
      "17/17 [==============================] - 0s 6ms/step - loss: 244.7446 - val_loss: 750.2358\n",
      "Epoch 172/500\n",
      "17/17 [==============================] - 0s 6ms/step - loss: 238.7388 - val_loss: 748.8988\n",
      "Epoch 173/500\n",
      "17/17 [==============================] - 0s 7ms/step - loss: 232.8554 - val_loss: 747.6298\n",
      "Epoch 174/500\n",
      "17/17 [==============================] - 0s 6ms/step - loss: 227.0924 - val_loss: 746.4273\n",
      "Epoch 175/500\n",
      "17/17 [==============================] - 0s 7ms/step - loss: 221.4486 - val_loss: 745.2903\n",
      "Epoch 176/500\n",
      "17/17 [==============================] - 0s 6ms/step - loss: 215.9222 - val_loss: 744.2177\n",
      "Epoch 177/500\n",
      "17/17 [==============================] - 0s 6ms/step - loss: 210.5117 - val_loss: 743.2081\n",
      "Epoch 178/500\n",
      "17/17 [==============================] - 0s 6ms/step - loss: 205.2155 - val_loss: 742.2604\n",
      "Epoch 179/500\n",
      "17/17 [==============================] - 0s 7ms/step - loss: 200.0321 - val_loss: 741.3733\n",
      "Epoch 180/500\n",
      "17/17 [==============================] - 0s 7ms/step - loss: 194.9598 - val_loss: 740.5457\n",
      "Epoch 181/500\n",
      "17/17 [==============================] - 0s 6ms/step - loss: 189.9972 - val_loss: 739.7766\n",
      "Epoch 182/500\n",
      "17/17 [==============================] - 0s 6ms/step - loss: 185.1432 - val_loss: 739.0645\n",
      "Epoch 183/500\n",
      "17/17 [==============================] - 0s 6ms/step - loss: 180.3958 - val_loss: 738.4083\n",
      "Epoch 184/500\n",
      "17/17 [==============================] - 0s 6ms/step - loss: 175.7534 - val_loss: 737.8071\n",
      "Epoch 185/500\n",
      "17/17 [==============================] - 0s 6ms/step - loss: 171.2148 - val_loss: 737.2594\n",
      "Epoch 186/500\n",
      "17/17 [==============================] - 0s 6ms/step - loss: 166.7785 - val_loss: 736.7643\n",
      "Epoch 187/500\n",
      "17/17 [==============================] - 0s 12ms/step - loss: 162.4429 - val_loss: 736.3205\n",
      "Epoch 188/500\n",
      "17/17 [==============================] - 0s 7ms/step - loss: 158.2061 - val_loss: 735.9269\n",
      "Epoch 189/500\n",
      "17/17 [==============================] - 0s 7ms/step - loss: 154.0672 - val_loss: 735.5823\n",
      "Epoch 190/500\n",
      "17/17 [==============================] - 0s 6ms/step - loss: 150.0246 - val_loss: 735.2858\n",
      "Epoch 191/500\n",
      "17/17 [==============================] - 0s 6ms/step - loss: 146.0769 - val_loss: 735.0360\n",
      "Epoch 192/500\n",
      "17/17 [==============================] - 0s 6ms/step - loss: 142.2225 - val_loss: 734.8318\n",
      "Epoch 193/500\n",
      "17/17 [==============================] - 0s 6ms/step - loss: 138.4597 - val_loss: 734.6723\n",
      "Epoch 194/500\n",
      "17/17 [==============================] - 0s 7ms/step - loss: 134.7874 - val_loss: 734.5561\n",
      "Epoch 195/500\n",
      "17/17 [==============================] - 0s 6ms/step - loss: 131.2039 - val_loss: 734.4824\n",
      "Epoch 196/500\n",
      "17/17 [==============================] - 0s 7ms/step - loss: 127.7080 - val_loss: 734.4499\n",
      "Epoch 197/500\n",
      "17/17 [==============================] - 0s 6ms/step - loss: 124.2981 - val_loss: 734.4576\n",
      "Epoch 198/500\n",
      "17/17 [==============================] - 0s 6ms/step - loss: 120.9727 - val_loss: 734.5043\n",
      "Epoch 199/500\n",
      "17/17 [==============================] - 0s 6ms/step - loss: 117.7308 - val_loss: 734.5891\n",
      "Epoch 200/500\n",
      "17/17 [==============================] - 0s 6ms/step - loss: 114.5706 - val_loss: 734.7109\n",
      "Epoch 201/500\n",
      "17/17 [==============================] - 0s 6ms/step - loss: 111.4909 - val_loss: 734.8683\n",
      "Epoch 202/500\n",
      "17/17 [==============================] - 0s 6ms/step - loss: 108.4902 - val_loss: 735.0609\n",
      "Epoch 203/500\n",
      "17/17 [==============================] - 0s 7ms/step - loss: 105.5672 - val_loss: 735.2872\n",
      "Epoch 204/500\n",
      "17/17 [==============================] - 0s 9ms/step - loss: 102.7204 - val_loss: 735.5462\n",
      "Epoch 205/500\n",
      "17/17 [==============================] - 0s 7ms/step - loss: 99.9487 - val_loss: 735.8371\n",
      "Epoch 206/500\n",
      "17/17 [==============================] - 0s 7ms/step - loss: 97.2505 - val_loss: 736.1586\n",
      "Epoch 207/500\n",
      "17/17 [==============================] - 0s 6ms/step - loss: 94.6244 - val_loss: 736.5097\n",
      "Epoch 208/500\n",
      "17/17 [==============================] - 0s 7ms/step - loss: 92.0692 - val_loss: 736.8896\n",
      "Epoch 209/500\n",
      "17/17 [==============================] - 0s 6ms/step - loss: 89.5835 - val_loss: 737.2974\n",
      "Epoch 210/500\n",
      "17/17 [==============================] - 0s 6ms/step - loss: 87.1664 - val_loss: 737.7318\n",
      "Epoch 211/500\n",
      "17/17 [==============================] - 0s 7ms/step - loss: 84.8161 - val_loss: 738.1919\n",
      "Epoch 212/500\n",
      "17/17 [==============================] - 0s 12ms/step - loss: 82.5313 - val_loss: 738.6769\n",
      "Epoch 213/500\n",
      "17/17 [==============================] - 0s 9ms/step - loss: 80.3110 - val_loss: 739.1856\n",
      "Epoch 214/500\n",
      "17/17 [==============================] - 0s 7ms/step - loss: 78.1537 - val_loss: 739.7174\n",
      "Epoch 215/500\n",
      "17/17 [==============================] - 0s 7ms/step - loss: 76.0582 - val_loss: 740.2713\n",
      "Epoch 216/500\n",
      "17/17 [==============================] - 0s 6ms/step - loss: 74.0233 - val_loss: 740.8460\n",
      "Epoch 217/500\n",
      "17/17 [==============================] - 0s 6ms/step - loss: 72.0476 - val_loss: 741.4410\n",
      "Epoch 218/500\n",
      "17/17 [==============================] - 0s 6ms/step - loss: 70.1302 - val_loss: 742.0554\n",
      "Epoch 219/500\n",
      "17/17 [==============================] - 0s 6ms/step - loss: 68.2696 - val_loss: 742.6878\n",
      "Epoch 220/500\n",
      "17/17 [==============================] - 0s 6ms/step - loss: 66.4647 - val_loss: 743.3379\n",
      "Epoch 221/500\n",
      "17/17 [==============================] - 0s 5ms/step - loss: 64.7142 - val_loss: 744.0047\n",
      "Epoch 222/500\n",
      "17/17 [==============================] - 0s 6ms/step - loss: 63.0170 - val_loss: 744.6871\n",
      "Epoch 223/500\n",
      "17/17 [==============================] - 0s 6ms/step - loss: 61.3719 - val_loss: 745.3846\n",
      "Epoch 224/500\n",
      "17/17 [==============================] - 0s 6ms/step - loss: 59.7777 - val_loss: 746.0961\n",
      "Epoch 225/500\n",
      "17/17 [==============================] - 0s 6ms/step - loss: 58.2335 - val_loss: 746.8209\n",
      "Epoch 226/500\n",
      "17/17 [==============================] - 0s 6ms/step - loss: 56.7378 - val_loss: 747.5582\n",
      "Epoch 227/500\n",
      "17/17 [==============================] - 0s 5ms/step - loss: 55.2897 - val_loss: 748.3070\n",
      "Epoch 228/500\n",
      "17/17 [==============================] - 0s 5ms/step - loss: 53.8880 - val_loss: 749.0670\n",
      "Epoch 229/500\n",
      "17/17 [==============================] - 0s 6ms/step - loss: 52.5316 - val_loss: 749.8371\n",
      "Epoch 230/500\n",
      "17/17 [==============================] - 0s 6ms/step - loss: 51.2194 - val_loss: 750.6164\n",
      "Epoch 231/500\n",
      "17/17 [==============================] - 0s 6ms/step - loss: 49.9506 - val_loss: 751.4044\n",
      "Epoch 232/500\n",
      "17/17 [==============================] - 0s 6ms/step - loss: 48.7238 - val_loss: 752.2004\n",
      "Epoch 233/500\n",
      "17/17 [==============================] - 0s 6ms/step - loss: 47.5380 - val_loss: 753.0037\n",
      "Epoch 234/500\n",
      "17/17 [==============================] - 0s 6ms/step - loss: 46.3923 - val_loss: 753.8134\n",
      "Epoch 235/500\n",
      "17/17 [==============================] - 0s 6ms/step - loss: 45.2856 - val_loss: 754.6288\n",
      "Epoch 236/500\n",
      "17/17 [==============================] - 0s 12ms/step - loss: 44.2171 - val_loss: 755.4494\n",
      "Epoch 237/500\n",
      "17/17 [==============================] - 0s 10ms/step - loss: 43.1856 - val_loss: 756.2744\n",
      "Epoch 238/500\n",
      "17/17 [==============================] - 0s 7ms/step - loss: 42.1902 - val_loss: 757.1033\n",
      "Epoch 239/500\n",
      "17/17 [==============================] - 0s 6ms/step - loss: 41.2299 - val_loss: 757.9355\n",
      "Epoch 240/500\n",
      "17/17 [==============================] - 0s 7ms/step - loss: 40.3038 - val_loss: 758.7701\n",
      "Epoch 241/500\n",
      "17/17 [==============================] - 0s 7ms/step - loss: 39.4109 - val_loss: 759.6068\n",
      "Epoch 242/500\n",
      "17/17 [==============================] - 0s 7ms/step - loss: 38.5503 - val_loss: 760.4448\n",
      "Epoch 243/500\n",
      "17/17 [==============================] - 0s 6ms/step - loss: 37.7212 - val_loss: 761.2835\n",
      "Epoch 244/500\n",
      "17/17 [==============================] - 0s 6ms/step - loss: 36.9227 - val_loss: 762.1228\n",
      "Epoch 245/500\n",
      "17/17 [==============================] - 0s 9ms/step - loss: 36.1537 - val_loss: 762.9617\n",
      "Epoch 246/500\n",
      "17/17 [==============================] - 0s 7ms/step - loss: 35.4136 - val_loss: 763.7997\n",
      "Epoch 247/500\n",
      "17/17 [==============================] - 0s 7ms/step - loss: 34.7015 - val_loss: 764.6364\n",
      "Epoch 248/500\n",
      "17/17 [==============================] - 0s 7ms/step - loss: 34.0166 - val_loss: 765.4712\n",
      "Epoch 249/500\n",
      "17/17 [==============================] - 0s 6ms/step - loss: 33.3580 - val_loss: 766.3037\n",
      "Epoch 250/500\n",
      "17/17 [==============================] - 0s 6ms/step - loss: 32.7250 - val_loss: 767.1336\n",
      "Epoch 251/500\n",
      "17/17 [==============================] - 0s 6ms/step - loss: 32.1166 - val_loss: 767.9598\n",
      "Epoch 252/500\n",
      "17/17 [==============================] - 0s 5ms/step - loss: 31.5325 - val_loss: 768.7827\n",
      "Epoch 253/500\n",
      "17/17 [==============================] - 0s 7ms/step - loss: 30.9714 - val_loss: 769.6012\n",
      "Epoch 254/500\n",
      "17/17 [==============================] - 0s 6ms/step - loss: 30.4330 - val_loss: 770.4151\n",
      "Epoch 255/500\n",
      "17/17 [==============================] - 0s 5ms/step - loss: 29.9164 - val_loss: 771.2242\n",
      "Epoch 256/500\n",
      "17/17 [==============================] - 0s 6ms/step - loss: 29.4209 - val_loss: 772.0281\n",
      "Epoch 257/500\n",
      "17/17 [==============================] - 0s 6ms/step - loss: 28.9456 - val_loss: 772.8262\n",
      "Epoch 258/500\n",
      "17/17 [==============================] - 0s 14ms/step - loss: 28.4902 - val_loss: 773.6183\n",
      "Epoch 259/500\n",
      "17/17 [==============================] - 0s 7ms/step - loss: 28.0538 - val_loss: 774.4041\n",
      "Epoch 260/500\n",
      "17/17 [==============================] - 0s 7ms/step - loss: 27.6359 - val_loss: 775.1830\n",
      "Epoch 261/500\n",
      "17/17 [==============================] - 0s 8ms/step - loss: 27.2357 - val_loss: 775.9550\n",
      "Epoch 262/500\n",
      "17/17 [==============================] - 0s 7ms/step - loss: 26.8528 - val_loss: 776.7194\n",
      "Epoch 263/500\n",
      "17/17 [==============================] - 0s 7ms/step - loss: 26.4864 - val_loss: 777.4764\n",
      "Epoch 264/500\n",
      "17/17 [==============================] - 0s 7ms/step - loss: 26.1361 - val_loss: 778.2255\n",
      "Epoch 265/500\n",
      "17/17 [==============================] - 0s 7ms/step - loss: 25.8011 - val_loss: 778.9667\n",
      "Epoch 266/500\n",
      "17/17 [==============================] - 0s 7ms/step - loss: 25.4810 - val_loss: 779.6991\n",
      "Epoch 267/500\n",
      "17/17 [==============================] - 0s 8ms/step - loss: 25.1752 - val_loss: 780.4232\n",
      "Epoch 268/500\n",
      "17/17 [==============================] - 0s 6ms/step - loss: 24.8832 - val_loss: 781.1385\n",
      "Epoch 269/500\n",
      "17/17 [==============================] - 0s 6ms/step - loss: 24.6045 - val_loss: 781.8446\n",
      "Epoch 270/500\n",
      "17/17 [==============================] - 0s 6ms/step - loss: 24.3385 - val_loss: 782.5414\n",
      "Epoch 271/500\n",
      "17/17 [==============================] - 0s 6ms/step - loss: 24.0849 - val_loss: 783.2291\n",
      "Epoch 272/500\n",
      "17/17 [==============================] - 0s 6ms/step - loss: 23.8431 - val_loss: 783.9070\n",
      "Epoch 273/500\n",
      "17/17 [==============================] - 0s 6ms/step - loss: 23.6126 - val_loss: 784.5753\n",
      "Epoch 274/500\n",
      "17/17 [==============================] - 0s 7ms/step - loss: 23.3930 - val_loss: 785.2339\n",
      "Epoch 275/500\n",
      "17/17 [==============================] - 0s 6ms/step - loss: 23.1839 - val_loss: 785.8821\n",
      "Epoch 276/500\n",
      "17/17 [==============================] - 0s 5ms/step - loss: 22.9849 - val_loss: 786.5208\n",
      "Epoch 277/500\n",
      "17/17 [==============================] - 0s 5ms/step - loss: 22.7954 - val_loss: 787.1489\n",
      "Epoch 278/500\n",
      "17/17 [==============================] - 0s 6ms/step - loss: 22.6153 - val_loss: 787.7668\n",
      "Epoch 279/500\n",
      "17/17 [==============================] - 0s 6ms/step - loss: 22.4439 - val_loss: 788.3741\n",
      "Epoch 280/500\n",
      "17/17 [==============================] - 0s 14ms/step - loss: 22.2812 - val_loss: 788.9714\n",
      "Epoch 281/500\n",
      "17/17 [==============================] - 0s 7ms/step - loss: 22.1265 - val_loss: 789.5579\n",
      "Epoch 282/500\n",
      "17/17 [==============================] - 0s 7ms/step - loss: 21.9796 - val_loss: 790.1341\n",
      "Epoch 283/500\n",
      "17/17 [==============================] - 0s 7ms/step - loss: 21.8401 - val_loss: 790.6998\n",
      "Epoch 284/500\n",
      "17/17 [==============================] - 0s 7ms/step - loss: 21.7077 - val_loss: 791.2545\n",
      "Epoch 285/500\n",
      "17/17 [==============================] - 0s 7ms/step - loss: 21.5822 - val_loss: 791.7990\n",
      "Epoch 286/500\n",
      "17/17 [==============================] - 0s 7ms/step - loss: 21.4632 - val_loss: 792.3326\n",
      "Epoch 287/500\n",
      "17/17 [==============================] - 0s 6ms/step - loss: 21.3503 - val_loss: 792.8556\n",
      "Epoch 288/500\n",
      "17/17 [==============================] - 0s 6ms/step - loss: 21.2434 - val_loss: 793.3682\n",
      "Epoch 289/500\n",
      "17/17 [==============================] - 0s 7ms/step - loss: 21.1422 - val_loss: 793.8702\n",
      "Epoch 290/500\n",
      "17/17 [==============================] - 0s 6ms/step - loss: 21.0463 - val_loss: 794.3616\n",
      "Epoch 291/500\n",
      "17/17 [==============================] - 0s 6ms/step - loss: 20.9555 - val_loss: 794.8427\n",
      "Epoch 292/500\n",
      "17/17 [==============================] - 0s 6ms/step - loss: 20.8697 - val_loss: 795.3129\n",
      "Epoch 293/500\n",
      "17/17 [==============================] - 0s 5ms/step - loss: 20.7885 - val_loss: 795.7728\n",
      "Epoch 294/500\n",
      "17/17 [==============================] - 0s 8ms/step - loss: 20.7118 - val_loss: 796.2224\n",
      "Epoch 295/500\n",
      "17/17 [==============================] - 0s 5ms/step - loss: 20.6393 - val_loss: 796.6616\n",
      "Epoch 296/500\n",
      "17/17 [==============================] - 0s 6ms/step - loss: 20.5708 - val_loss: 797.0908\n",
      "Epoch 297/500\n",
      "17/17 [==============================] - 0s 6ms/step - loss: 20.5061 - val_loss: 797.5096\n",
      "Epoch 298/500\n",
      "17/17 [==============================] - 0s 6ms/step - loss: 20.4450 - val_loss: 797.9184\n",
      "Epoch 299/500\n",
      "17/17 [==============================] - 0s 5ms/step - loss: 20.3874 - val_loss: 798.3173\n",
      "Epoch 300/500\n",
      "17/17 [==============================] - 0s 6ms/step - loss: 20.3331 - val_loss: 798.7063\n",
      "Epoch 301/500\n",
      "17/17 [==============================] - 0s 15ms/step - loss: 20.2818 - val_loss: 799.0853\n",
      "Epoch 302/500\n",
      "17/17 [==============================] - 0s 7ms/step - loss: 20.2335 - val_loss: 799.4549\n",
      "Epoch 303/500\n",
      "17/17 [==============================] - 0s 6ms/step - loss: 20.1880 - val_loss: 799.8150\n",
      "Epoch 304/500\n",
      "17/17 [==============================] - 0s 7ms/step - loss: 20.1451 - val_loss: 800.1653\n",
      "Epoch 305/500\n",
      "17/17 [==============================] - 0s 6ms/step - loss: 20.1048 - val_loss: 800.5064\n",
      "Epoch 306/500\n",
      "17/17 [==============================] - 0s 6ms/step - loss: 20.0668 - val_loss: 800.8382\n",
      "Epoch 307/500\n",
      "17/17 [==============================] - 0s 5ms/step - loss: 20.0311 - val_loss: 801.1613\n",
      "Epoch 308/500\n",
      "17/17 [==============================] - 0s 5ms/step - loss: 19.9974 - val_loss: 801.4751\n",
      "Epoch 309/500\n",
      "17/17 [==============================] - 0s 7ms/step - loss: 19.9658 - val_loss: 801.7802\n",
      "Epoch 310/500\n",
      "17/17 [==============================] - 0s 6ms/step - loss: 19.9360 - val_loss: 802.0764\n",
      "Epoch 311/500\n",
      "17/17 [==============================] - 0s 5ms/step - loss: 19.9081 - val_loss: 802.3641\n",
      "Epoch 312/500\n",
      "17/17 [==============================] - 0s 5ms/step - loss: 19.8819 - val_loss: 802.6436\n",
      "Epoch 313/500\n",
      "17/17 [==============================] - 0s 6ms/step - loss: 19.8572 - val_loss: 802.9146\n",
      "Epoch 314/500\n",
      "17/17 [==============================] - 0s 6ms/step - loss: 19.8341 - val_loss: 803.1777\n",
      "Epoch 315/500\n",
      "17/17 [==============================] - 0s 6ms/step - loss: 19.8124 - val_loss: 803.4330\n",
      "Epoch 316/500\n",
      "17/17 [==============================] - 0s 6ms/step - loss: 19.7920 - val_loss: 803.6800\n",
      "Epoch 317/500\n",
      "17/17 [==============================] - 0s 6ms/step - loss: 19.7729 - val_loss: 803.9196\n",
      "Epoch 318/500\n",
      "17/17 [==============================] - 0s 6ms/step - loss: 19.7549 - val_loss: 804.1517\n",
      "Epoch 319/500\n",
      "17/17 [==============================] - 0s 6ms/step - loss: 19.7381 - val_loss: 804.3762\n",
      "Epoch 320/500\n",
      "17/17 [==============================] - 0s 8ms/step - loss: 19.7224 - val_loss: 804.5938\n",
      "Epoch 321/500\n",
      "17/17 [==============================] - 0s 7ms/step - loss: 19.7076 - val_loss: 804.8041\n",
      "Epoch 322/500\n",
      "17/17 [==============================] - 0s 5ms/step - loss: 19.6937 - val_loss: 805.0076\n",
      "Epoch 323/500\n",
      "17/17 [==============================] - 0s 13ms/step - loss: 19.6807 - val_loss: 805.2043\n",
      "Epoch 324/500\n",
      "17/17 [==============================] - 0s 7ms/step - loss: 19.6686 - val_loss: 805.3945\n",
      "Epoch 325/500\n",
      "17/17 [==============================] - 0s 8ms/step - loss: 19.6572 - val_loss: 805.5784\n",
      "Epoch 326/500\n",
      "17/17 [==============================] - 0s 7ms/step - loss: 19.6465 - val_loss: 805.7557\n",
      "Epoch 327/500\n",
      "17/17 [==============================] - 0s 7ms/step - loss: 19.6366 - val_loss: 805.9268\n",
      "Epoch 328/500\n",
      "17/17 [==============================] - 0s 7ms/step - loss: 19.6272 - val_loss: 806.0921\n",
      "Epoch 329/500\n",
      "17/17 [==============================] - 0s 7ms/step - loss: 19.6185 - val_loss: 806.2515\n",
      "Epoch 330/500\n",
      "17/17 [==============================] - 0s 7ms/step - loss: 19.6104 - val_loss: 806.4048\n",
      "Epoch 331/500\n",
      "17/17 [==============================] - 0s 7ms/step - loss: 19.6027 - val_loss: 806.5529\n",
      "Epoch 332/500\n",
      "17/17 [==============================] - 0s 5ms/step - loss: 19.5956 - val_loss: 806.6955\n",
      "Epoch 333/500\n",
      "17/17 [==============================] - 0s 6ms/step - loss: 19.5889 - val_loss: 806.8328\n",
      "Epoch 334/500\n",
      "17/17 [==============================] - 0s 6ms/step - loss: 19.5827 - val_loss: 806.9651\n",
      "Epoch 335/500\n",
      "17/17 [==============================] - 0s 6ms/step - loss: 19.5769 - val_loss: 807.0923\n",
      "Epoch 336/500\n",
      "17/17 [==============================] - 0s 6ms/step - loss: 19.5715 - val_loss: 807.2147\n",
      "Epoch 337/500\n",
      "17/17 [==============================] - 0s 6ms/step - loss: 19.5664 - val_loss: 807.3326\n",
      "Epoch 338/500\n",
      "17/17 [==============================] - 0s 7ms/step - loss: 19.5617 - val_loss: 807.4458\n",
      "Epoch 339/500\n",
      "17/17 [==============================] - 0s 6ms/step - loss: 19.5572 - val_loss: 807.5546\n",
      "Epoch 340/500\n",
      "17/17 [==============================] - 0s 6ms/step - loss: 19.5531 - val_loss: 807.6589\n",
      "Epoch 341/500\n",
      "17/17 [==============================] - 0s 6ms/step - loss: 19.5492 - val_loss: 807.7590\n",
      "Epoch 342/500\n",
      "17/17 [==============================] - 0s 8ms/step - loss: 19.5457 - val_loss: 807.8554\n",
      "Epoch 343/500\n",
      "17/17 [==============================] - 0s 6ms/step - loss: 19.5423 - val_loss: 807.9478\n",
      "Epoch 344/500\n",
      "17/17 [==============================] - 0s 12ms/step - loss: 19.5392 - val_loss: 808.0364\n",
      "Epoch 345/500\n",
      "17/17 [==============================] - 0s 9ms/step - loss: 19.5363 - val_loss: 808.1210\n",
      "Epoch 346/500\n",
      "17/17 [==============================] - 0s 8ms/step - loss: 19.5336 - val_loss: 808.2022\n",
      "Epoch 347/500\n",
      "17/17 [==============================] - 0s 7ms/step - loss: 19.5311 - val_loss: 808.2803\n",
      "Epoch 348/500\n",
      "17/17 [==============================] - 0s 7ms/step - loss: 19.5287 - val_loss: 808.3549\n",
      "Epoch 349/500\n",
      "17/17 [==============================] - 0s 6ms/step - loss: 19.5266 - val_loss: 808.4262\n",
      "Epoch 350/500\n",
      "17/17 [==============================] - 0s 6ms/step - loss: 19.5245 - val_loss: 808.4944\n",
      "Epoch 351/500\n",
      "17/17 [==============================] - 0s 5ms/step - loss: 19.5226 - val_loss: 808.5598\n",
      "Epoch 352/500\n",
      "17/17 [==============================] - 0s 5ms/step - loss: 19.5208 - val_loss: 808.6221\n",
      "Epoch 353/500\n",
      "17/17 [==============================] - 0s 6ms/step - loss: 19.5193 - val_loss: 808.6818\n",
      "Epoch 354/500\n",
      "17/17 [==============================] - 0s 7ms/step - loss: 19.5177 - val_loss: 808.7387\n",
      "Epoch 355/500\n",
      "17/17 [==============================] - 0s 6ms/step - loss: 19.5164 - val_loss: 808.7931\n",
      "Epoch 356/500\n",
      "17/17 [==============================] - 0s 5ms/step - loss: 19.5151 - val_loss: 808.8451\n",
      "Epoch 357/500\n",
      "17/17 [==============================] - 0s 6ms/step - loss: 19.5139 - val_loss: 808.8945\n",
      "Epoch 358/500\n",
      "17/17 [==============================] - 0s 5ms/step - loss: 19.5128 - val_loss: 808.9417\n",
      "Epoch 359/500\n",
      "17/17 [==============================] - 0s 5ms/step - loss: 19.5118 - val_loss: 808.9865\n",
      "Epoch 360/500\n",
      "17/17 [==============================] - 0s 6ms/step - loss: 19.5109 - val_loss: 809.0294\n",
      "Epoch 361/500\n",
      "17/17 [==============================] - 0s 5ms/step - loss: 19.5101 - val_loss: 809.0704\n",
      "Epoch 362/500\n",
      "17/17 [==============================] - 0s 6ms/step - loss: 19.5093 - val_loss: 809.1094\n",
      "Epoch 363/500\n",
      "17/17 [==============================] - 0s 6ms/step - loss: 19.5086 - val_loss: 809.1465\n",
      "Epoch 364/500\n",
      "17/17 [==============================] - 0s 8ms/step - loss: 19.5079 - val_loss: 809.1816\n",
      "Epoch 365/500\n",
      "17/17 [==============================] - 0s 13ms/step - loss: 19.5074 - val_loss: 809.2151\n",
      "Epoch 366/500\n",
      "17/17 [==============================] - 0s 7ms/step - loss: 19.5068 - val_loss: 809.2469\n",
      "Epoch 367/500\n",
      "17/17 [==============================] - 0s 7ms/step - loss: 19.5063 - val_loss: 809.2770\n",
      "Epoch 368/500\n",
      "17/17 [==============================] - 0s 6ms/step - loss: 19.5059 - val_loss: 809.3057\n",
      "Epoch 369/500\n",
      "17/17 [==============================] - 0s 7ms/step - loss: 19.5055 - val_loss: 809.3331\n",
      "Epoch 370/500\n",
      "17/17 [==============================] - 0s 7ms/step - loss: 19.5052 - val_loss: 809.3588\n",
      "Epoch 371/500\n",
      "17/17 [==============================] - 0s 6ms/step - loss: 19.5049 - val_loss: 809.3832\n",
      "Epoch 372/500\n",
      "17/17 [==============================] - 0s 7ms/step - loss: 19.5046 - val_loss: 809.4062\n",
      "Epoch 373/500\n",
      "17/17 [==============================] - 0s 7ms/step - loss: 19.5044 - val_loss: 809.4283\n",
      "Epoch 374/500\n",
      "17/17 [==============================] - 0s 7ms/step - loss: 19.5042 - val_loss: 809.4490\n",
      "Epoch 375/500\n",
      "17/17 [==============================] - 0s 7ms/step - loss: 19.5041 - val_loss: 809.4685\n",
      "Epoch 376/500\n",
      "17/17 [==============================] - 0s 6ms/step - loss: 19.5039 - val_loss: 809.4871\n",
      "Epoch 377/500\n",
      "17/17 [==============================] - 0s 6ms/step - loss: 19.5038 - val_loss: 809.5046\n",
      "Epoch 378/500\n",
      "17/17 [==============================] - 0s 6ms/step - loss: 19.5038 - val_loss: 809.5212\n",
      "Epoch 379/500\n",
      "17/17 [==============================] - 0s 6ms/step - loss: 19.5038 - val_loss: 809.5371\n",
      "Epoch 380/500\n",
      "17/17 [==============================] - 0s 6ms/step - loss: 19.5037 - val_loss: 809.5516\n",
      "Epoch 381/500\n",
      "17/17 [==============================] - 0s 6ms/step - loss: 19.5037 - val_loss: 809.5656\n",
      "Epoch 382/500\n",
      "17/17 [==============================] - 0s 6ms/step - loss: 19.5037 - val_loss: 809.5786\n",
      "Epoch 383/500\n",
      "17/17 [==============================] - 0s 6ms/step - loss: 19.5038 - val_loss: 809.5909\n",
      "Epoch 384/500\n",
      "17/17 [==============================] - 0s 6ms/step - loss: 19.5039 - val_loss: 809.6024\n",
      "Epoch 385/500\n",
      "17/17 [==============================] - 0s 16ms/step - loss: 19.5039 - val_loss: 809.6133\n",
      "Epoch 386/500\n",
      "17/17 [==============================] - 0s 6ms/step - loss: 19.5040 - val_loss: 809.6235\n",
      "Epoch 387/500\n",
      "17/17 [==============================] - 0s 7ms/step - loss: 19.5041 - val_loss: 809.6332\n",
      "Epoch 388/500\n",
      "17/17 [==============================] - 0s 7ms/step - loss: 19.5043 - val_loss: 809.6422\n",
      "Epoch 389/500\n",
      "17/17 [==============================] - 0s 7ms/step - loss: 19.5044 - val_loss: 809.6506\n",
      "Epoch 390/500\n",
      "17/17 [==============================] - 0s 7ms/step - loss: 19.5046 - val_loss: 809.6585\n",
      "Epoch 391/500\n",
      "17/17 [==============================] - 0s 6ms/step - loss: 19.5048 - val_loss: 809.6662\n",
      "Epoch 392/500\n",
      "17/17 [==============================] - 0s 6ms/step - loss: 19.5049 - val_loss: 809.6732\n",
      "Epoch 393/500\n",
      "17/17 [==============================] - 0s 5ms/step - loss: 19.5051 - val_loss: 809.6796\n",
      "Epoch 394/500\n",
      "17/17 [==============================] - 0s 6ms/step - loss: 19.5053 - val_loss: 809.6854\n",
      "Epoch 395/500\n",
      "17/17 [==============================] - 0s 6ms/step - loss: 19.5055 - val_loss: 809.6911\n",
      "Epoch 396/500\n",
      "17/17 [==============================] - 0s 6ms/step - loss: 19.5058 - val_loss: 809.6965\n",
      "Epoch 397/500\n",
      "17/17 [==============================] - 0s 6ms/step - loss: 19.5060 - val_loss: 809.7014\n",
      "Epoch 398/500\n",
      "17/17 [==============================] - 0s 6ms/step - loss: 19.5062 - val_loss: 809.7061\n",
      "Epoch 399/500\n",
      "17/17 [==============================] - 0s 6ms/step - loss: 19.5065 - val_loss: 809.7106\n",
      "Epoch 400/500\n",
      "17/17 [==============================] - 0s 6ms/step - loss: 19.5067 - val_loss: 809.7145\n",
      "Epoch 401/500\n",
      "17/17 [==============================] - 0s 7ms/step - loss: 19.5069 - val_loss: 809.7181\n",
      "Epoch 402/500\n",
      "17/17 [==============================] - 0s 5ms/step - loss: 19.5072 - val_loss: 809.7215\n",
      "Epoch 403/500\n",
      "17/17 [==============================] - 0s 5ms/step - loss: 19.5074 - val_loss: 809.7247\n",
      "Epoch 404/500\n",
      "17/17 [==============================] - 0s 10ms/step - loss: 19.5077 - val_loss: 809.7275\n",
      "Epoch 405/500\n",
      "17/17 [==============================] - 0s 10ms/step - loss: 19.5080 - val_loss: 809.7302\n",
      "Epoch 406/500\n",
      "17/17 [==============================] - 0s 7ms/step - loss: 19.5082 - val_loss: 809.7325\n",
      "Epoch 407/500\n",
      "17/17 [==============================] - 0s 7ms/step - loss: 19.5085 - val_loss: 809.7347\n",
      "Epoch 408/500\n",
      "17/17 [==============================] - 0s 7ms/step - loss: 19.5088 - val_loss: 809.7365\n",
      "Epoch 409/500\n",
      "17/17 [==============================] - 0s 6ms/step - loss: 19.5091 - val_loss: 809.7383\n",
      "Epoch 410/500\n",
      "17/17 [==============================] - 0s 6ms/step - loss: 19.5094 - val_loss: 809.7400\n",
      "Epoch 411/500\n",
      "17/17 [==============================] - 0s 6ms/step - loss: 19.5097 - val_loss: 809.7415\n",
      "Epoch 412/500\n",
      "17/17 [==============================] - 0s 6ms/step - loss: 19.5100 - val_loss: 809.7429\n",
      "Epoch 413/500\n",
      "17/17 [==============================] - 0s 6ms/step - loss: 19.5103 - val_loss: 809.7440\n",
      "Epoch 414/500\n",
      "17/17 [==============================] - 0s 6ms/step - loss: 19.5106 - val_loss: 809.7453\n",
      "Epoch 415/500\n",
      "17/17 [==============================] - 0s 6ms/step - loss: 19.5109 - val_loss: 809.7462\n",
      "Epoch 416/500\n",
      "17/17 [==============================] - 0s 6ms/step - loss: 19.5112 - val_loss: 809.7471\n",
      "Epoch 417/500\n",
      "17/17 [==============================] - 0s 6ms/step - loss: 19.5115 - val_loss: 809.7475\n",
      "Epoch 418/500\n",
      "17/17 [==============================] - 0s 6ms/step - loss: 19.5118 - val_loss: 809.7483\n",
      "Epoch 419/500\n",
      "17/17 [==============================] - 0s 6ms/step - loss: 19.5121 - val_loss: 809.7490\n",
      "Epoch 420/500\n",
      "17/17 [==============================] - 0s 5ms/step - loss: 19.5124 - val_loss: 809.7498\n",
      "Epoch 421/500\n",
      "17/17 [==============================] - 0s 5ms/step - loss: 19.5127 - val_loss: 809.7502\n",
      "Epoch 422/500\n",
      "17/17 [==============================] - 0s 5ms/step - loss: 19.5130 - val_loss: 809.7505\n",
      "Epoch 423/500\n",
      "17/17 [==============================] - 0s 8ms/step - loss: 19.5133 - val_loss: 809.7507\n",
      "Epoch 424/500\n",
      "17/17 [==============================] - 0s 14ms/step - loss: 19.5136 - val_loss: 809.7509\n",
      "Epoch 425/500\n",
      "17/17 [==============================] - 0s 7ms/step - loss: 19.5139 - val_loss: 809.7510\n",
      "Epoch 426/500\n",
      "17/17 [==============================] - 0s 7ms/step - loss: 19.5142 - val_loss: 809.7510\n",
      "Epoch 427/500\n",
      "17/17 [==============================] - 0s 6ms/step - loss: 19.5145 - val_loss: 809.7510\n",
      "Epoch 428/500\n",
      "17/17 [==============================] - 0s 6ms/step - loss: 19.5148 - val_loss: 809.7509\n",
      "Epoch 429/500\n",
      "17/17 [==============================] - 0s 6ms/step - loss: 19.5151 - val_loss: 809.7509\n",
      "Epoch 430/500\n",
      "17/17 [==============================] - 0s 6ms/step - loss: 19.5154 - val_loss: 809.7506\n",
      "Epoch 431/500\n",
      "17/17 [==============================] - 0s 6ms/step - loss: 19.5157 - val_loss: 809.7505\n",
      "Epoch 432/500\n",
      "17/17 [==============================] - 0s 6ms/step - loss: 19.5160 - val_loss: 809.7502\n",
      "Epoch 433/500\n",
      "17/17 [==============================] - 0s 6ms/step - loss: 19.5163 - val_loss: 809.7499\n",
      "Epoch 434/500\n",
      "17/17 [==============================] - 0s 6ms/step - loss: 19.5166 - val_loss: 809.7495\n",
      "Epoch 435/500\n",
      "17/17 [==============================] - 0s 6ms/step - loss: 19.5169 - val_loss: 809.7491\n",
      "Epoch 436/500\n",
      "17/17 [==============================] - 0s 6ms/step - loss: 19.5172 - val_loss: 809.7488\n",
      "Epoch 437/500\n",
      "17/17 [==============================] - 0s 5ms/step - loss: 19.5175 - val_loss: 809.7484\n",
      "Epoch 438/500\n",
      "17/17 [==============================] - 0s 5ms/step - loss: 19.5178 - val_loss: 809.7480\n",
      "Epoch 439/500\n",
      "17/17 [==============================] - 0s 5ms/step - loss: 19.5181 - val_loss: 809.7475\n",
      "Epoch 440/500\n",
      "17/17 [==============================] - 0s 5ms/step - loss: 19.5184 - val_loss: 809.7473\n",
      "Epoch 441/500\n",
      "17/17 [==============================] - 0s 8ms/step - loss: 19.5187 - val_loss: 809.7468\n",
      "Epoch 442/500\n",
      "17/17 [==============================] - 0s 12ms/step - loss: 19.5189 - val_loss: 809.7464\n",
      "Epoch 443/500\n",
      "17/17 [==============================] - 0s 8ms/step - loss: 19.5192 - val_loss: 809.7458\n",
      "Epoch 444/500\n",
      "17/17 [==============================] - 0s 7ms/step - loss: 19.5195 - val_loss: 809.7455\n",
      "Epoch 445/500\n",
      "17/17 [==============================] - 0s 6ms/step - loss: 19.5198 - val_loss: 809.7449\n",
      "Epoch 446/500\n",
      "17/17 [==============================] - 0s 6ms/step - loss: 19.5201 - val_loss: 809.7443\n",
      "Epoch 447/500\n",
      "17/17 [==============================] - 0s 6ms/step - loss: 19.5203 - val_loss: 809.7440\n",
      "Epoch 448/500\n",
      "17/17 [==============================] - 0s 7ms/step - loss: 19.5206 - val_loss: 809.7432\n",
      "Epoch 449/500\n",
      "17/17 [==============================] - 0s 7ms/step - loss: 19.5209 - val_loss: 809.7426\n",
      "Epoch 450/500\n",
      "17/17 [==============================] - 0s 7ms/step - loss: 19.5211 - val_loss: 809.7421\n",
      "Epoch 451/500\n",
      "17/17 [==============================] - 0s 7ms/step - loss: 19.5214 - val_loss: 809.7414\n",
      "Epoch 452/500\n",
      "17/17 [==============================] - 0s 7ms/step - loss: 19.5217 - val_loss: 809.7409\n",
      "Epoch 453/500\n",
      "17/17 [==============================] - 0s 6ms/step - loss: 19.5219 - val_loss: 809.7405\n",
      "Epoch 454/500\n",
      "17/17 [==============================] - 0s 6ms/step - loss: 19.5222 - val_loss: 809.7401\n",
      "Epoch 455/500\n",
      "17/17 [==============================] - 0s 6ms/step - loss: 19.5225 - val_loss: 809.7397\n",
      "Epoch 456/500\n",
      "17/17 [==============================] - 0s 6ms/step - loss: 19.5227 - val_loss: 809.7390\n",
      "Epoch 457/500\n",
      "17/17 [==============================] - 0s 6ms/step - loss: 19.5230 - val_loss: 809.7386\n",
      "Epoch 458/500\n",
      "17/17 [==============================] - 0s 8ms/step - loss: 19.5232 - val_loss: 809.7379\n",
      "Epoch 459/500\n",
      "17/17 [==============================] - 0s 6ms/step - loss: 19.5235 - val_loss: 809.7371\n",
      "Epoch 460/500\n",
      "17/17 [==============================] - 0s 12ms/step - loss: 19.5237 - val_loss: 809.7368\n",
      "Epoch 461/500\n",
      "17/17 [==============================] - 0s 6ms/step - loss: 19.5240 - val_loss: 809.7361\n",
      "Epoch 462/500\n",
      "17/17 [==============================] - 0s 7ms/step - loss: 19.5242 - val_loss: 809.7354\n",
      "Epoch 463/500\n",
      "17/17 [==============================] - 0s 6ms/step - loss: 19.5244 - val_loss: 809.7349\n",
      "Epoch 464/500\n",
      "17/17 [==============================] - 0s 6ms/step - loss: 19.5247 - val_loss: 809.7343\n",
      "Epoch 465/500\n",
      "17/17 [==============================] - 0s 6ms/step - loss: 19.5249 - val_loss: 809.7339\n",
      "Epoch 466/500\n",
      "17/17 [==============================] - 0s 7ms/step - loss: 19.5251 - val_loss: 809.7333\n",
      "Epoch 467/500\n",
      "17/17 [==============================] - 0s 7ms/step - loss: 19.5254 - val_loss: 809.7330\n",
      "Epoch 468/500\n",
      "17/17 [==============================] - 0s 5ms/step - loss: 19.5256 - val_loss: 809.7326\n",
      "Epoch 469/500\n",
      "17/17 [==============================] - 0s 7ms/step - loss: 19.5258 - val_loss: 809.7321\n",
      "Epoch 470/500\n",
      "17/17 [==============================] - 0s 6ms/step - loss: 19.5260 - val_loss: 809.7316\n",
      "Epoch 471/500\n",
      "17/17 [==============================] - 0s 6ms/step - loss: 19.5262 - val_loss: 809.7308\n",
      "Epoch 472/500\n",
      "17/17 [==============================] - 0s 7ms/step - loss: 19.5265 - val_loss: 809.7302\n",
      "Epoch 473/500\n",
      "17/17 [==============================] - 0s 7ms/step - loss: 19.5267 - val_loss: 809.7300\n",
      "Epoch 474/500\n",
      "17/17 [==============================] - 0s 8ms/step - loss: 19.5269 - val_loss: 809.7292\n",
      "Epoch 475/500\n",
      "17/17 [==============================] - 0s 11ms/step - loss: 19.5271 - val_loss: 809.7288\n",
      "Epoch 476/500\n",
      "17/17 [==============================] - 0s 7ms/step - loss: 19.5273 - val_loss: 809.7283\n",
      "Epoch 477/500\n",
      "17/17 [==============================] - 0s 15ms/step - loss: 19.5275 - val_loss: 809.7278\n",
      "Epoch 478/500\n",
      "17/17 [==============================] - 0s 7ms/step - loss: 19.5278 - val_loss: 809.7274\n",
      "Epoch 479/500\n",
      "17/17 [==============================] - 0s 7ms/step - loss: 19.5280 - val_loss: 809.7267\n",
      "Epoch 480/500\n",
      "17/17 [==============================] - 0s 7ms/step - loss: 19.5282 - val_loss: 809.7264\n",
      "Epoch 481/500\n",
      "17/17 [==============================] - 0s 7ms/step - loss: 19.5283 - val_loss: 809.7258\n",
      "Epoch 482/500\n",
      "17/17 [==============================] - 0s 7ms/step - loss: 19.5286 - val_loss: 809.7253\n",
      "Epoch 483/500\n",
      "17/17 [==============================] - 0s 6ms/step - loss: 19.5288 - val_loss: 809.7248\n",
      "Epoch 484/500\n",
      "17/17 [==============================] - 0s 6ms/step - loss: 19.5290 - val_loss: 809.7246\n",
      "Epoch 485/500\n",
      "17/17 [==============================] - 0s 7ms/step - loss: 19.5291 - val_loss: 809.7239\n",
      "Epoch 486/500\n",
      "17/17 [==============================] - 0s 7ms/step - loss: 19.5293 - val_loss: 809.7233\n",
      "Epoch 487/500\n",
      "17/17 [==============================] - 0s 6ms/step - loss: 19.5295 - val_loss: 809.7230\n",
      "Epoch 488/500\n",
      "17/17 [==============================] - 0s 6ms/step - loss: 19.5297 - val_loss: 809.7226\n",
      "Epoch 489/500\n",
      "17/17 [==============================] - 0s 6ms/step - loss: 19.5299 - val_loss: 809.7220\n",
      "Epoch 490/500\n",
      "17/17 [==============================] - 0s 6ms/step - loss: 19.5300 - val_loss: 809.7213\n",
      "Epoch 491/500\n",
      "17/17 [==============================] - 0s 9ms/step - loss: 19.5303 - val_loss: 809.7212\n",
      "Epoch 492/500\n",
      "17/17 [==============================] - 0s 7ms/step - loss: 19.5304 - val_loss: 809.7207\n",
      "Epoch 493/500\n",
      "17/17 [==============================] - 0s 6ms/step - loss: 19.5306 - val_loss: 809.7203\n",
      "Epoch 494/500\n",
      "17/17 [==============================] - 0s 7ms/step - loss: 19.5308 - val_loss: 809.7200\n",
      "Epoch 495/500\n",
      "17/17 [==============================] - 0s 12ms/step - loss: 19.5310 - val_loss: 809.7197\n",
      "Epoch 496/500\n",
      "17/17 [==============================] - 0s 7ms/step - loss: 19.5311 - val_loss: 809.7195\n",
      "Epoch 497/500\n",
      "17/17 [==============================] - 0s 7ms/step - loss: 19.5313 - val_loss: 809.7190\n",
      "Epoch 498/500\n",
      "17/17 [==============================] - 0s 6ms/step - loss: 19.5314 - val_loss: 809.7186\n",
      "Epoch 499/500\n",
      "17/17 [==============================] - 0s 6ms/step - loss: 19.5316 - val_loss: 809.7183\n",
      "Epoch 500/500\n",
      "17/17 [==============================] - 0s 6ms/step - loss: 19.5317 - val_loss: 809.7179\n"
     ]
    }
   ],
   "source": [
    "C0 = tf.Variable(86.6465, name=\"C0\", trainable=True, dtype=tf.float32)\n",
    "K0 = tf.Variable(-0.0029, name=\"K0\", trainable=True, dtype=tf.float32)\n",
    "K1 = tf.Variable(-0.0003, name=\"K1\", trainable=True, dtype=tf.float32)\n",
    "a = tf.Variable(0.0000, name=\"a\", trainable=True, dtype=tf.float32)\n",
    "b = tf.Variable(0.0168, name=\"b\", trainable=True, dtype=tf.float32)\n",
    "c = tf.Variable(2.3581, name=\"c\", trainable=True, dtype=tf.float32)\n",
    "\n",
    "splitr = 0.8\n",
    "\n",
    "\n",
    "def loss_fn(y_true, y_pred):\n",
    "    squared_difference = tf.square(y_true[:, 0] - y_pred[:, 0])\n",
    "    #squared_difference2 = tf.square(y_true[:, 2]-y_pred[:, 2])\n",
    "    #squared_difference1 = tf.square(y_true[:, 1]-y_pred[:, 1])\n",
    "    epsilon = 1\n",
    "    squared_difference3 = tf.square(\n",
    "        y_pred[:, 1] - (\n",
    "            y_pred[:, 0] * (\n",
    "                K0 - K1 * (\n",
    "                    9 * a * tf.math.log((y_pred[:, 0] + epsilon) / C0) / (K0 - K1 * c)**2 +\n",
    "                    4 * b * tf.math.log((y_pred[:, 0] + epsilon) / C0) / (K0 - K1 * c) + c\n",
    "                )\n",
    "            )\n",
    "        )\n",
    "    )\n",
    "    return tf.reduce_mean(squared_difference, axis=-1) + 0.2*tf.reduce_mean(squared_difference3, axis=-1)\n",
    "model = Sequential()\n",
    "model.add(LSTM(100, input_shape=(trainX.shape[1], trainX.shape[2])))\n",
    "model.add(Dense(60))\n",
    "model.compile(loss=loss_fn, optimizer='adam')\n",
    "history = model.fit(trainX[:int(splitr*trainX.shape[0])], trainy[:int(splitr*trainX.shape[0])], epochs=500, batch_size=64, validation_data=(trainX[int(splitr*trainX.shape[0]):trainX.shape[0]], trainy[int(splitr*trainX.shape[0]):trainX.shape[0]]), shuffle=False)"
   ]
  },
  {
   "cell_type": "code",
   "execution_count": 19,
   "metadata": {
    "colab": {
     "base_uri": "https://localhost:8080/"
    },
    "id": "yJL101rPyuoT",
    "outputId": "239ff2b1-c186-423a-d316-939dfdd7c793"
   },
   "outputs": [
    {
     "name": "stdout",
     "output_type": "stream",
     "text": [
      "1/1 [==============================] - 0s 486ms/step\n"
     ]
    }
   ],
   "source": [
    "forecast_without_mc = forecastX\n",
    "yhat_without_mc = model.predict(forecast_without_mc) # Step Ahead Prediction\n",
    "forecast_without_mc = forecast_without_mc.reshape((forecast_without_mc.shape[0], forecast_without_mc.shape[2])) # Historical Input"
   ]
  },
  {
   "cell_type": "code",
   "execution_count": 20,
   "metadata": {
    "colab": {
     "base_uri": "https://localhost:8080/"
    },
    "id": "g9dQELcJ8wbp",
    "outputId": "4dc7671b-b1a8-48d5-8744-a86f98446109"
   },
   "outputs": [
    {
     "data": {
      "text/plain": [
       "(1, 1, 251)"
      ]
     },
     "execution_count": 20,
     "metadata": {},
     "output_type": "execute_result"
    }
   ],
   "source": [
    "forecastX.shape"
   ]
  },
  {
   "cell_type": "code",
   "execution_count": 21,
   "metadata": {
    "colab": {
     "base_uri": "https://localhost:8080/"
    },
    "id": "IS2kyIKG1Kbr",
    "outputId": "f31b3485-8e26-452f-9298-ea8bf7e80ad1"
   },
   "outputs": [
    {
     "data": {
      "text/plain": [
       "(1, 251)"
      ]
     },
     "execution_count": 21,
     "metadata": {},
     "output_type": "execute_result"
    }
   ],
   "source": [
    "forecast_without_mc.shape"
   ]
  },
  {
   "cell_type": "code",
   "execution_count": 22,
   "metadata": {
    "id": "0u6VIzaDyuoT"
   },
   "outputs": [],
   "source": [
    "inv_yhat_without_mc = np.concatenate((forecast_without_mc, yhat_without_mc), axis=1) # Concatenation of predicted values with Historical Data\n",
    "#inv_yhat_without_mc = scaler.inverse_transform(inv_yhat_without_mc) # Transform labels back to original encoding"
   ]
  },
  {
   "cell_type": "code",
   "execution_count": 23,
   "metadata": {
    "colab": {
     "base_uri": "https://localhost:8080/"
    },
    "id": "EUEcw0LX07oU",
    "outputId": "cfc32397-9c37-4b43-d087-584bb31c3dcc"
   },
   "outputs": [
    {
     "data": {
      "text/plain": [
       "(1, 311)"
      ]
     },
     "execution_count": 23,
     "metadata": {},
     "output_type": "execute_result"
    }
   ],
   "source": [
    "inv_yhat_without_mc.shape"
   ]
  },
  {
   "cell_type": "code",
   "execution_count": 24,
   "metadata": {
    "id": "31OWVbSh_305"
   },
   "outputs": [],
   "source": [
    "fforecast = inv_yhat_without_mc[:,-300:]"
   ]
  },
  {
   "cell_type": "code",
   "execution_count": 25,
   "metadata": {},
   "outputs": [
    {
     "data": {
      "text/plain": [
       "(1, 300)"
      ]
     },
     "execution_count": 25,
     "metadata": {},
     "output_type": "execute_result"
    }
   ],
   "source": [
    "fforecast.shape"
   ]
  },
  {
   "cell_type": "code",
   "execution_count": 26,
   "metadata": {
    "id": "BlpGH2FOAiRF"
   },
   "outputs": [],
   "source": [
    "final_forecast = fforecast[:,0:300:3]"
   ]
  },
  {
   "cell_type": "code",
   "execution_count": 27,
   "metadata": {},
   "outputs": [
    {
     "data": {
      "text/plain": [
       "(1, 300)"
      ]
     },
     "execution_count": 27,
     "metadata": {},
     "output_type": "execute_result"
    }
   ],
   "source": [
    "fforecast.shape"
   ]
  },
  {
   "cell_type": "code",
   "execution_count": 28,
   "metadata": {
    "id": "CXkgkj_LBk_t"
   },
   "outputs": [],
   "source": [
    "# code to replace all negative value with 0\n",
    "final_forecast[final_forecast<0] = 0"
   ]
  },
  {
   "cell_type": "code",
   "execution_count": 29,
   "metadata": {},
   "outputs": [
    {
     "data": {
      "text/plain": [
       "array([[6.52712418e+01, 6.51031746e+01, 6.49351074e+01, 6.47670401e+01,\n",
       "        6.45989729e+01, 6.44309057e+01, 6.42628385e+01, 4.79061900e-03,\n",
       "        1.77230373e-01, 0.00000000e+00, 0.00000000e+00, 3.30429226e-01,\n",
       "        1.82196870e-01, 6.64105976e+01, 6.63265640e+01, 6.62425303e+01,\n",
       "        6.61584967e+01, 6.60744631e+01, 6.59808590e+01, 6.58127918e+01,\n",
       "        6.56447246e+01, 6.54766573e+01, 6.53085901e+01, 6.51405229e+01,\n",
       "        6.49724557e+01, 6.48043884e+01, 6.46363212e+01, 6.44682540e+01,\n",
       "        6.43001867e+01, 6.41321195e+01, 6.39874183e+01, 6.39285948e+01,\n",
       "        6.38697712e+01, 6.38109477e+01, 6.37521242e+01, 6.36933006e+01,\n",
       "        6.36344771e+01, 6.35756536e+01, 6.35168301e+01, 6.34580065e+01,\n",
       "        0.00000000e+00, 1.33905920e-01, 0.00000000e+00, 0.00000000e+00,\n",
       "        0.00000000e+00, 4.71156840e-01, 0.00000000e+00, 6.48417367e+01,\n",
       "        6.46736695e+01, 6.45056022e+01, 6.43375350e+01, 6.41694678e+01,\n",
       "        6.40014006e+01, 6.39416667e+01, 6.38828431e+01, 6.38240196e+01,\n",
       "        6.37651961e+01, 6.37063725e+01, 6.36475490e+01, 6.35887255e+01,\n",
       "        6.35299020e+01, 6.34710784e+01, 6.34122549e+01, 6.33534314e+01,\n",
       "        6.32930672e+01, 6.32174370e+01, 6.31418067e+01, 6.30661765e+01,\n",
       "        6.29905462e+01, 6.29149160e+01, 6.28392857e+01, 6.27636555e+01,\n",
       "        6.26880252e+01, 6.99994965e+01, 0.00000000e+00, 0.00000000e+00,\n",
       "        0.00000000e+00, 0.00000000e+00, 0.00000000e+00, 0.00000000e+00,\n",
       "        5.17231407e+01, 1.04628420e+00, 0.00000000e+00, 0.00000000e+00,\n",
       "        0.00000000e+00, 0.00000000e+00, 7.00411081e-01, 0.00000000e+00,\n",
       "        0.00000000e+00, 0.00000000e+00, 2.13724285e-01, 0.00000000e+00,\n",
       "        2.23849684e-01, 3.74281198e-01, 5.50720692e-02, 0.00000000e+00,\n",
       "        4.39172894e-01, 0.00000000e+00, 0.00000000e+00, 0.00000000e+00]])"
      ]
     },
     "execution_count": 29,
     "metadata": {},
     "output_type": "execute_result"
    }
   ],
   "source": [
    "final_forecast"
   ]
  },
  {
   "cell_type": "code",
   "execution_count": 30,
   "metadata": {},
   "outputs": [
    {
     "data": {
      "text/plain": [
       "(1, 100)"
      ]
     },
     "execution_count": 30,
     "metadata": {},
     "output_type": "execute_result"
    }
   ],
   "source": [
    "final_forecast.shape"
   ]
  },
  {
   "cell_type": "code",
   "execution_count": 31,
   "metadata": {},
   "outputs": [
    {
     "data": {
      "text/plain": [
       "(100,)"
      ]
     },
     "execution_count": 31,
     "metadata": {},
     "output_type": "execute_result"
    }
   ],
   "source": [
    "test.shape"
   ]
  },
  {
   "cell_type": "code",
   "execution_count": 32,
   "metadata": {},
   "outputs": [],
   "source": [
    "training_set = np.array(training_set)\n",
    "test = np.array(test)\n",
    "final_forecast = np.array(final_forecast.squeeze(0))"
   ]
  },
  {
   "cell_type": "code",
   "execution_count": 33,
   "metadata": {},
   "outputs": [
    {
     "data": {
      "text/plain": [
       "array([60.1653268 , 60.16103175, 60.15673669, 60.15244164, 60.14814659,\n",
       "       60.14385154, 60.13955649, 60.13526144, 60.13096639, 60.12667134,\n",
       "       60.12237628, 60.11808123, 60.11378618, 60.10949113, 60.10519608,\n",
       "       60.10090103, 60.09660598, 60.09231092, 60.08801587, 60.08372082,\n",
       "       60.07942577, 60.07513072, 60.07083567, 60.06654062, 60.06224556,\n",
       "       60.05795051, 60.05365546, 60.04936041, 60.04506536, 60.04077031,\n",
       "       60.03647526, 60.03218021, 60.02788515, 60.0235901 , 60.01929505,\n",
       "       60.015     , 60.01070495, 60.0064099 , 60.00211485, 59.99781979,\n",
       "       59.99352474, 59.98922969, 59.98493464, 59.98063959, 59.97634454,\n",
       "       59.97204949, 59.96775444, 59.96345938, 59.95916433, 59.95486928,\n",
       "       59.95057423, 59.94627918, 59.94198413, 59.93768908, 59.93339402,\n",
       "       59.92909897, 59.92480392, 59.92050887, 59.91621382, 59.91191877,\n",
       "       59.90762372, 59.90332866, 59.89768908, 59.8874183 , 59.87714753,\n",
       "       59.86687675, 59.85660598, 59.8463352 , 59.83606443, 59.82579365,\n",
       "       59.81552288, 59.8052521 , 59.79498133, 59.78471055, 59.77443978,\n",
       "       59.764169  , 59.75389823, 59.74362745, 59.73335668, 59.7230859 ,\n",
       "       59.71281513, 59.70254435, 59.69227358, 59.6820028 , 59.67173203,\n",
       "       59.66146125, 59.65119048, 59.6409197 , 59.63064893, 59.62037815,\n",
       "       59.61010738, 59.5998366 , 59.58956583, 59.57929505, 59.56902428,\n",
       "       59.5587535 , 59.54848273, 59.53821195, 59.52794118, 59.5176704 ])"
      ]
     },
     "execution_count": 33,
     "metadata": {},
     "output_type": "execute_result"
    }
   ],
   "source": [
    "test"
   ]
  },
  {
   "cell_type": "code",
   "execution_count": 34,
   "metadata": {},
   "outputs": [
    {
     "data": {
      "text/plain": [
       "(100,)"
      ]
     },
     "execution_count": 34,
     "metadata": {},
     "output_type": "execute_result"
    }
   ],
   "source": [
    "test.shape"
   ]
  },
  {
   "cell_type": "code",
   "execution_count": 35,
   "metadata": {},
   "outputs": [
    {
     "data": {
      "text/plain": [
       "(100,)"
      ]
     },
     "execution_count": 35,
     "metadata": {},
     "output_type": "execute_result"
    }
   ],
   "source": [
    "final_forecast.shape"
   ]
  },
  {
   "cell_type": "code",
   "execution_count": 36,
   "metadata": {},
   "outputs": [
    {
     "data": {
      "text/plain": [
       "(100,)"
      ]
     },
     "execution_count": 36,
     "metadata": {},
     "output_type": "execute_result"
    }
   ],
   "source": [
    "test.shape"
   ]
  },
  {
   "cell_type": "code",
   "execution_count": 37,
   "metadata": {},
   "outputs": [
    {
     "name": "stdout",
     "output_type": "stream",
     "text": [
      "36.95942741730657\n",
      "25.417761006852917\n"
     ]
    }
   ],
   "source": [
    "import math\n",
    "MSE = np.square(np.subtract(np.array(test),np.array(final_forecast))).mean()   \n",
    "rsme = math.sqrt(MSE)\n",
    "print(rsme)  \n",
    "MAE = np.abs(np.subtract(np.array(test),np.array(final_forecast))).mean()   \n",
    "mae = MAE\n",
    "print(mae)"
   ]
  }
 ],
 "metadata": {
  "colab": {
   "provenance": []
  },
  "kernelspec": {
   "display_name": "Python 3",
   "language": "python",
   "name": "python3"
  },
  "language_info": {
   "codemirror_mode": {
    "name": "ipython",
    "version": 3
   },
   "file_extension": ".py",
   "mimetype": "text/x-python",
   "name": "python",
   "nbconvert_exporter": "python",
   "pygments_lexer": "ipython3",
   "version": "3.9.13"
  }
 },
 "nbformat": 4,
 "nbformat_minor": 0
}
