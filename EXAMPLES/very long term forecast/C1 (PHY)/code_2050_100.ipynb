{
 "cells": [
  {
   "cell_type": "markdown",
   "metadata": {
    "id": "pCGKeZ2gyuoQ"
   },
   "source": [
    "_Importing Required Libraries_"
   ]
  },
  {
   "cell_type": "code",
   "execution_count": 1,
   "metadata": {
    "colab": {
     "base_uri": "https://localhost:8080/"
    },
    "id": "A-6LN-zXiLcM",
    "outputId": "4de610a4-f8b8-4f49-c6c0-89de299ccedc"
   },
   "outputs": [
    {
     "name": "stdout",
     "output_type": "stream",
     "text": [
      "Requirement already satisfied: hampel in c:\\users\\anurag dutta\\appdata\\local\\packages\\pythonsoftwarefoundation.python.3.9_qbz5n2kfra8p0\\localcache\\local-packages\\python39\\site-packages (0.0.5)\n",
      "Requirement already satisfied: numpy in c:\\users\\anurag dutta\\appdata\\local\\packages\\pythonsoftwarefoundation.python.3.9_qbz5n2kfra8p0\\localcache\\local-packages\\python39\\site-packages (from hampel) (1.26.4)\n",
      "Requirement already satisfied: pandas in c:\\users\\anurag dutta\\appdata\\local\\packages\\pythonsoftwarefoundation.python.3.9_qbz5n2kfra8p0\\localcache\\local-packages\\python39\\site-packages (from hampel) (1.5.2)\n",
      "Requirement already satisfied: python-dateutil>=2.8.1 in c:\\users\\anurag dutta\\appdata\\local\\packages\\pythonsoftwarefoundation.python.3.9_qbz5n2kfra8p0\\localcache\\local-packages\\python39\\site-packages (from pandas->hampel) (2.8.2)\n",
      "Requirement already satisfied: pytz>=2020.1 in c:\\users\\anurag dutta\\appdata\\local\\packages\\pythonsoftwarefoundation.python.3.9_qbz5n2kfra8p0\\localcache\\local-packages\\python39\\site-packages (from pandas->hampel) (2023.3.post1)\n",
      "Requirement already satisfied: six>=1.5 in c:\\users\\anurag dutta\\appdata\\local\\packages\\pythonsoftwarefoundation.python.3.9_qbz5n2kfra8p0\\localcache\\local-packages\\python39\\site-packages (from python-dateutil>=2.8.1->pandas->hampel) (1.16.0)\n",
      "Note: you may need to restart the kernel to use updated packages.\n"
     ]
    },
    {
     "name": "stderr",
     "output_type": "stream",
     "text": [
      "\n",
      "[notice] A new release of pip is available: 24.2 -> 24.3.1\n",
      "[notice] To update, run: C:\\Users\\Anurag Dutta\\AppData\\Local\\Microsoft\\WindowsApps\\PythonSoftwareFoundation.Python.3.9_qbz5n2kfra8p0\\python.exe -m pip install --upgrade pip\n"
     ]
    }
   ],
   "source": [
    "pip install hampel"
   ]
  },
  {
   "cell_type": "code",
   "execution_count": 2,
   "metadata": {
    "id": "By_d9uXpaFvZ"
   },
   "outputs": [],
   "source": [
    "from keras.models import Sequential\n",
    "from keras.layers import Dense\n",
    "from keras.layers import LSTM\n",
    "from keras.layers import Dropout\n",
    "import keras\n",
    "import tensorflow as tf\n",
    "from hampel import hampel\n",
    "import numpy as np\n",
    "import matplotlib.pyplot as plt\n",
    "import pandas as pd\n",
    "from sklearn.preprocessing import MinMaxScaler\n",
    "from sklearn.metrics import mean_squared_error, mean_absolute_error\n",
    "from math import sqrt\n",
    "from matplotlib import pyplot\n",
    "from numpy import array"
   ]
  },
  {
   "cell_type": "markdown",
   "metadata": {
    "id": "JyOjBMFayuoR"
   },
   "source": [
    "## Pretraining"
   ]
  },
  {
   "cell_type": "markdown",
   "metadata": {
    "id": "-5QqIY_GyuoR"
   },
   "source": [
    "The `capa_intermittency.dat` feeds the model with the dynamics of the Capacitor"
   ]
  },
  {
   "cell_type": "code",
   "execution_count": 3,
   "metadata": {
    "id": "9dV4a8yfyuoR"
   },
   "outputs": [],
   "source": [
    "data = np.genfromtxt('capa_intermittency.dat')\n",
    "training_set = pd.DataFrame(data).reset_index(drop=True)\n",
    "training_set = training_set.iloc[:,0]"
   ]
  },
  {
   "cell_type": "markdown",
   "metadata": {
    "id": "i7easoxByuoR"
   },
   "source": [
    "## Computing the Gradient"
   ]
  },
  {
   "cell_type": "markdown",
   "metadata": {
    "id": "5SnyolJTyuoR"
   },
   "source": [
    "_Calculating the value of_ $\\frac{dx}{dt}$"
   ]
  },
  {
   "cell_type": "code",
   "execution_count": 4,
   "metadata": {
    "colab": {
     "base_uri": "https://localhost:8080/"
    },
    "id": "wmIbVfIvyuoR",
    "outputId": "aa4e3136-c854-465d-d2e9-81cfd546e440"
   },
   "outputs": [
    {
     "name": "stdout",
     "output_type": "stream",
     "text": [
      "1.0\n",
      "1        0.000298\n",
      "2        0.000298\n",
      "3        0.000297\n",
      "4        0.000297\n",
      "5        0.000297\n",
      "           ...   \n",
      "9996     0.000018\n",
      "9997     0.000018\n",
      "9998     0.000018\n",
      "9999     0.000018\n",
      "10000    0.000018\n",
      "Name: 0, Length: 10000, dtype: float64\n"
     ]
    }
   ],
   "source": [
    "t_diff = 1\n",
    "print(training_set.max())\n",
    "gradient_t = (training_set.diff()/t_diff).iloc[1:] # dx/dt\n",
    "print(gradient_t)"
   ]
  },
  {
   "cell_type": "markdown",
   "metadata": {
    "id": "_2eVeeoxyuoS"
   },
   "source": [
    "## Loading Datasets"
   ]
  },
  {
   "cell_type": "code",
   "execution_count": 5,
   "metadata": {
    "id": "0J-NKyIEyuoS"
   },
   "outputs": [
    {
     "data": {
      "text/plain": [
       "0       89.200000\n",
       "1       88.931092\n",
       "2       88.662185\n",
       "3       88.393277\n",
       "4       88.124370\n",
       "          ...    \n",
       "2145    55.295716\n",
       "2146    55.286971\n",
       "2147    55.278226\n",
       "2148    55.269481\n",
       "2149    55.260736\n",
       "Name: C1, Length: 2150, dtype: float64"
      ]
     },
     "execution_count": 5,
     "metadata": {},
     "output_type": "execute_result"
    }
   ],
   "source": [
    "data = pd.read_csv(\"c1_interpolated_2050_100.csv\")\n",
    "training_set = data.iloc[:, 1]\n",
    "training_set"
   ]
  },
  {
   "cell_type": "code",
   "execution_count": 6,
   "metadata": {
    "colab": {
     "base_uri": "https://localhost:8080/"
    },
    "id": "-CbNUhJ74UqF",
    "outputId": "20f562d8-8247-49cc-b9c3-00eca5e13e2d"
   },
   "outputs": [
    {
     "data": {
      "text/plain": [
       "0       89.200000\n",
       "1       88.931092\n",
       "2       88.662185\n",
       "3       88.393277\n",
       "4       88.124370\n",
       "          ...    \n",
       "2045     0.000000\n",
       "2046     0.000000\n",
       "2047     0.000000\n",
       "2048     0.000000\n",
       "2049     0.497032\n",
       "Name: C1, Length: 2050, dtype: float64"
      ]
     },
     "execution_count": 6,
     "metadata": {},
     "output_type": "execute_result"
    }
   ],
   "source": [
    "test = training_set.tail(100)\n",
    "test\n",
    "training_set = training_set.head(2050)\n",
    "training_set"
   ]
  },
  {
   "cell_type": "code",
   "execution_count": 7,
   "metadata": {
    "colab": {
     "base_uri": "https://localhost:8080/"
    },
    "id": "X0TwTcq0yuoS",
    "outputId": "37252ed8-d88e-4044-fa7a-922411990b5b"
   },
   "outputs": [
    {
     "name": "stdout",
     "output_type": "stream",
     "text": [
      "0       0.000298\n",
      "1       0.000298\n",
      "2       0.000297\n",
      "3       0.000297\n",
      "4       0.000297\n",
      "          ...   \n",
      "9995    0.000018\n",
      "9996    0.000018\n",
      "9997    0.000018\n",
      "9998    0.000018\n",
      "9999    0.000018\n",
      "Name: 0, Length: 10000, dtype: float64\n"
     ]
    }
   ],
   "source": [
    "training_set = training_set.reset_index(drop=True)\n",
    "gradient_t = gradient_t.reset_index(drop=True)\n",
    "print(gradient_t)"
   ]
  },
  {
   "cell_type": "code",
   "execution_count": 8,
   "metadata": {
    "id": "O2biznZQyuoS"
   },
   "outputs": [],
   "source": [
    "df = pd.concat((training_set, gradient_t), axis=1)\n",
    "df.columns = ['y_t', 'grad_t']"
   ]
  },
  {
   "cell_type": "code",
   "execution_count": 9,
   "metadata": {
    "colab": {
     "base_uri": "https://localhost:8080/",
     "height": 423
    },
    "id": "sk_a5v3tyuoS",
    "outputId": "17563625-e550-45ae-faab-fafa353e44da"
   },
   "outputs": [
    {
     "data": {
      "text/html": [
       "<div>\n",
       "<style scoped>\n",
       "    .dataframe tbody tr th:only-of-type {\n",
       "        vertical-align: middle;\n",
       "    }\n",
       "\n",
       "    .dataframe tbody tr th {\n",
       "        vertical-align: top;\n",
       "    }\n",
       "\n",
       "    .dataframe thead th {\n",
       "        text-align: right;\n",
       "    }\n",
       "</style>\n",
       "<table border=\"1\" class=\"dataframe\">\n",
       "  <thead>\n",
       "    <tr style=\"text-align: right;\">\n",
       "      <th></th>\n",
       "      <th>y_t</th>\n",
       "      <th>grad_t</th>\n",
       "    </tr>\n",
       "  </thead>\n",
       "  <tbody>\n",
       "    <tr>\n",
       "      <th>0</th>\n",
       "      <td>89.200000</td>\n",
       "      <td>0.000298</td>\n",
       "    </tr>\n",
       "    <tr>\n",
       "      <th>1</th>\n",
       "      <td>88.931092</td>\n",
       "      <td>0.000298</td>\n",
       "    </tr>\n",
       "    <tr>\n",
       "      <th>2</th>\n",
       "      <td>88.662185</td>\n",
       "      <td>0.000297</td>\n",
       "    </tr>\n",
       "    <tr>\n",
       "      <th>3</th>\n",
       "      <td>88.393277</td>\n",
       "      <td>0.000297</td>\n",
       "    </tr>\n",
       "    <tr>\n",
       "      <th>4</th>\n",
       "      <td>88.124370</td>\n",
       "      <td>0.000297</td>\n",
       "    </tr>\n",
       "    <tr>\n",
       "      <th>...</th>\n",
       "      <td>...</td>\n",
       "      <td>...</td>\n",
       "    </tr>\n",
       "    <tr>\n",
       "      <th>9995</th>\n",
       "      <td>NaN</td>\n",
       "      <td>0.000018</td>\n",
       "    </tr>\n",
       "    <tr>\n",
       "      <th>9996</th>\n",
       "      <td>NaN</td>\n",
       "      <td>0.000018</td>\n",
       "    </tr>\n",
       "    <tr>\n",
       "      <th>9997</th>\n",
       "      <td>NaN</td>\n",
       "      <td>0.000018</td>\n",
       "    </tr>\n",
       "    <tr>\n",
       "      <th>9998</th>\n",
       "      <td>NaN</td>\n",
       "      <td>0.000018</td>\n",
       "    </tr>\n",
       "    <tr>\n",
       "      <th>9999</th>\n",
       "      <td>NaN</td>\n",
       "      <td>0.000018</td>\n",
       "    </tr>\n",
       "  </tbody>\n",
       "</table>\n",
       "<p>10000 rows × 2 columns</p>\n",
       "</div>"
      ],
      "text/plain": [
       "            y_t    grad_t\n",
       "0     89.200000  0.000298\n",
       "1     88.931092  0.000298\n",
       "2     88.662185  0.000297\n",
       "3     88.393277  0.000297\n",
       "4     88.124370  0.000297\n",
       "...         ...       ...\n",
       "9995        NaN  0.000018\n",
       "9996        NaN  0.000018\n",
       "9997        NaN  0.000018\n",
       "9998        NaN  0.000018\n",
       "9999        NaN  0.000018\n",
       "\n",
       "[10000 rows x 2 columns]"
      ]
     },
     "execution_count": 9,
     "metadata": {},
     "output_type": "execute_result"
    }
   ],
   "source": [
    "df"
   ]
  },
  {
   "cell_type": "markdown",
   "metadata": {
    "id": "-5esyHu5aFvg"
   },
   "source": [
    "## Plot of the External Forcing from Chaotic Differential Equation"
   ]
  },
  {
   "cell_type": "code",
   "execution_count": 10,
   "metadata": {
    "colab": {
     "base_uri": "https://localhost:8080/",
     "height": 447
    },
    "id": "hGnE43tOh-4p",
    "outputId": "fc396503-b624-4fa5-dfbe-f460207405c6"
   },
   "outputs": [
    {
     "data": {
      "text/plain": [
       "<Axes: >"
      ]
     },
     "execution_count": 10,
     "metadata": {},
     "output_type": "execute_result"
    },
    {
     "data": {
      "image/png": "[encoded data removed]",
      "text/plain": [
       "<Figure size 432x288 with 1 Axes>"
      ]
     },
     "metadata": {
      "needs_background": "light"
     },
     "output_type": "display_data"
    }
   ],
   "source": [
    "df.iloc[:, 0].plot()"
   ]
  },
  {
   "cell_type": "code",
   "execution_count": 11,
   "metadata": {
    "colab": {
     "base_uri": "https://localhost:8080/",
     "height": 447
    },
    "id": "ym4xWUUxaFvg",
    "outputId": "ae6a3495-8ce9-437e-ba81-3ed31deedeae"
   },
   "outputs": [
    {
     "name": "stderr",
     "output_type": "stream",
     "text": [
      "C:\\Users\\Anurag Dutta\\AppData\\Local\\Packages\\PythonSoftwareFoundation.Python.3.9_qbz5n2kfra8p0\\LocalCache\\local-packages\\Python39\\site-packages\\pandas\\core\\arraylike.py:402: RuntimeWarning: divide by zero encountered in log\n",
      "  result = getattr(ufunc, method)(*inputs, **kwargs)\n"
     ]
    },
    {
     "data": {
      "text/plain": [
       "<Axes: >"
      ]
     },
     "execution_count": 11,
     "metadata": {},
     "output_type": "execute_result"
    },
    {
     "data": {
      "image/png": "[encoded data removed]",
      "text/plain": [
       "<Figure size 432x288 with 1 Axes>"
      ]
     },
     "metadata": {
      "needs_background": "light"
     },
     "output_type": "display_data"
    }
   ],
   "source": [
    "import numpy as np\n",
    "c0 = 86.6465  # Value for C0\n",
    "K0 = -0.0029  # Value for K0\n",
    "K1 = -0.0003  # Value for K1\n",
    "a = 0.0000    # Value for a\n",
    "b = 0.0168    # Value for b\n",
    "c = 2.3581    # Value for c\n",
    "\n",
    "L = np.minimum(c0, (df.iloc[:, 1] - (df.iloc[:, 0] * (K0 - K1 * (9 * a * np.log(df.iloc[:, 0] / c0) / (K0 - K1 * c)**2 + 4 * b * np.log(df.iloc[:, 0] / c0) / (K0 - K1 * c) + c)))))\n",
    "L.plot()"
   ]
  },
  {
   "cell_type": "markdown",
   "metadata": {
    "id": "9VyEywnwaFvh"
   },
   "source": [
    "## Preprocessing the data into supervised learning"
   ]
  },
  {
   "cell_type": "code",
   "execution_count": 12,
   "metadata": {
    "id": "6V9dXqzdaFvh"
   },
   "outputs": [],
   "source": [
    "# split a sequence into samples\n",
    "def Supervised(data, n_in=1, n_out=1, dropnan=True):\n",
    "    n_vars = 1 if type(data) is list else data.shape[1]\n",
    "    df = pd.DataFrame(data)\n",
    "    cols, names = list(), list()\n",
    "    # input sequence (t-n_in, ... t-1)\n",
    "    for i in range(n_in, 0, -1):\n",
    "        cols.append(df.shift(i))\n",
    "        names += [('var%d(t-%d)' % (j+1, i)) for j in range(n_vars)]\n",
    "    # forecast sequence (t, t+1, ... t+n_out)\n",
    "    for i in range(0, n_out):\n",
    "      cols.append(df.shift(-i))\n",
    "      if i == 0:\n",
    "        names += [('var%d(t)' % (j+1)) for j in range(n_vars)]\n",
    "      else:\n",
    "        names += [('var%d(t+%d)' % (j+1, i)) for j in range(n_vars)]\n",
    "    # put it all together\n",
    "    agg = pd.concat(cols, axis=1)\n",
    "    agg.columns = names\n",
    "    # drop rows with NaN values\n",
    "    if dropnan:\n",
    "       agg.dropna(inplace=True)\n",
    "    return agg"
   ]
  },
  {
   "cell_type": "code",
   "execution_count": 13,
   "metadata": {
    "colab": {
     "base_uri": "https://localhost:8080/"
    },
    "id": "CrzSrT1HnyfH",
    "outputId": "7e75f928-3e47-499d-eac1-51908015ef78"
   },
   "outputs": [
    {
     "name": "stdout",
     "output_type": "stream",
     "text": [
      "     var1(t-350)  var1(t-349)  var1(t-348)  var1(t-347)  var1(t-346)  \\\n",
      "350    89.200000    88.931092    88.662185    88.393277    88.124370   \n",
      "351    88.931092    88.662185    88.393277    88.124370    87.855462   \n",
      "352    88.662185    88.393277    88.124370    87.855462    87.586555   \n",
      "353    88.393277    88.124370    87.855462    87.586555    87.317647   \n",
      "354    88.124370    87.855462    87.586555    87.317647    87.048739   \n",
      "\n",
      "     var1(t-345)  var1(t-344)  var1(t-343)  var1(t-342)  var1(t-341)  ...  \\\n",
      "350    87.855462    87.586555    87.317647    87.048739    86.794538  ...   \n",
      "351    87.586555    87.317647    87.048739    86.794538    86.721709  ...   \n",
      "352    87.317647    87.048739    86.794538    86.721709    86.648880  ...   \n",
      "353    87.048739    86.794538    86.721709    86.648880    86.576050  ...   \n",
      "354    86.794538    86.721709    86.648880    86.576050    86.503221  ...   \n",
      "\n",
      "     var1(t+95)  var2(t+95)  var1(t+96)  var2(t+96)  var1(t+97)  var2(t+97)  \\\n",
      "350   73.989683    0.000263   73.957937    0.000263   73.926190    0.000263   \n",
      "351   73.957937    0.000263   73.926190    0.000263   73.894444    0.000262   \n",
      "352   73.926190    0.000263   73.894444    0.000262   73.862698    0.000262   \n",
      "353   73.894444    0.000262   73.862698    0.000262   73.830952    0.000262   \n",
      "354   73.862698    0.000262   73.830952    0.000262   73.799206    0.000262   \n",
      "\n",
      "     var1(t+98)  var2(t+98)  var1(t+99)  var2(t+99)  \n",
      "350   73.894444    0.000262   73.862698    0.000262  \n",
      "351   73.862698    0.000262   73.830952    0.000262  \n",
      "352   73.830952    0.000262   73.799206    0.000262  \n",
      "353   73.799206    0.000262   73.767460    0.000262  \n",
      "354   73.767460    0.000262   73.735714    0.000262  \n",
      "\n",
      "[5 rows x 551 columns]\n",
      "Index(['var1(t-350)', 'var1(t-349)', 'var1(t-348)', 'var1(t-347)',\n",
      "       'var1(t-346)', 'var1(t-345)', 'var1(t-344)', 'var1(t-343)',\n",
      "       'var1(t-342)', 'var1(t-341)',\n",
      "       ...\n",
      "       'var1(t+95)', 'var2(t+95)', 'var1(t+96)', 'var2(t+96)', 'var1(t+97)',\n",
      "       'var2(t+97)', 'var1(t+98)', 'var2(t+98)', 'var1(t+99)', 'var2(t+99)'],\n",
      "      dtype='object', length=551)\n"
     ]
    }
   ],
   "source": [
    "data = Supervised(df.values, n_in = 350, n_out = 100)\n",
    "\n",
    "\n",
    "cols_to_drop = []\n",
    "for i in range(2, 351):\n",
    "    cols_to_drop.extend([f'var2(t-{i})'])\n",
    "\n",
    "data.drop(cols_to_drop, axis=1, inplace=True)\n",
    "\n",
    "print(data.head())\n",
    "print(data.columns)"
   ]
  },
  {
   "cell_type": "code",
   "execution_count": 14,
   "metadata": {
    "id": "AfPf60oy6Pe4"
   },
   "outputs": [],
   "source": [
    "train = np.array(data[0:len(data)-1])\n",
    "forecast = np.array(data.tail(1))"
   ]
  },
  {
   "cell_type": "code",
   "execution_count": 15,
   "metadata": {
    "id": "WSAafzI37KiT"
   },
   "outputs": [],
   "source": [
    "trainy = train[:,-300:]\n",
    "trainX = train[:,:-300]"
   ]
  },
  {
   "cell_type": "code",
   "execution_count": 16,
   "metadata": {
    "id": "2SrOqVJA7f50"
   },
   "outputs": [],
   "source": [
    "forecasty = forecast[:,-300:]\n",
    "forecastX = forecast[:,:-300]"
   ]
  },
  {
   "cell_type": "code",
   "execution_count": 17,
   "metadata": {
    "colab": {
     "base_uri": "https://localhost:8080/"
    },
    "id": "Qno_k8Nw7saY",
    "outputId": "c4a88db5-d8c6-489f-cdb2-06b24e293cff"
   },
   "outputs": [
    {
     "name": "stdout",
     "output_type": "stream",
     "text": [
      "(1600, 1, 251) (1600, 300) (1, 1, 251)\n"
     ]
    }
   ],
   "source": [
    "trainX = trainX.reshape((trainX.shape[0], 1, trainX.shape[1]))\n",
    "forecastX = forecastX.reshape((forecastX.shape[0], 1, forecastX.shape[1]))\n",
    "print(trainX.shape, trainy.shape, forecastX.shape)"
   ]
  },
  {
   "cell_type": "code",
   "execution_count": 18,
   "metadata": {
    "colab": {
     "base_uri": "https://localhost:8080/"
    },
    "id": "b1Jp2DvNuNFx",
    "outputId": "d0e5b3c4-64f1-438c-eade-8dfeaac8e285"
   },
   "outputs": [
    {
     "name": "stdout",
     "output_type": "stream",
     "text": [
      "Epoch 1/500\n",
      "20/20 [==============================] - 2s 26ms/step - loss: 4413.2153 - val_loss: 2543.6416\n",
      "Epoch 2/500\n",
      "20/20 [==============================] - 0s 5ms/step - loss: 4176.9844 - val_loss: 2399.8477\n",
      "Epoch 3/500\n",
      "20/20 [==============================] - 0s 4ms/step - loss: 4030.9824 - val_loss: 2337.6086\n",
      "Epoch 4/500\n",
      "20/20 [==============================] - 0s 3ms/step - loss: 3946.0474 - val_loss: 2289.0520\n",
      "Epoch 5/500\n",
      "20/20 [==============================] - 0s 3ms/step - loss: 3868.7007 - val_loss: 2244.5220\n",
      "Epoch 6/500\n",
      "20/20 [==============================] - 0s 3ms/step - loss: 3794.3394 - val_loss: 2201.7197\n",
      "Epoch 7/500\n",
      "20/20 [==============================] - 0s 4ms/step - loss: 3722.2292 - val_loss: 2160.3801\n",
      "Epoch 8/500\n",
      "20/20 [==============================] - 0s 3ms/step - loss: 3651.9238 - val_loss: 2120.2693\n",
      "Epoch 9/500\n",
      "20/20 [==============================] - 0s 4ms/step - loss: 3583.1614 - val_loss: 2081.2634\n",
      "Epoch 10/500\n",
      "20/20 [==============================] - 0s 4ms/step - loss: 3515.7769 - val_loss: 2043.2793\n",
      "Epoch 11/500\n",
      "20/20 [==============================] - 0s 4ms/step - loss: 3449.6609 - val_loss: 2006.2574\n",
      "Epoch 12/500\n",
      "20/20 [==============================] - 0s 4ms/step - loss: 3384.7344 - val_loss: 1970.1537\n",
      "Epoch 13/500\n",
      "20/20 [==============================] - 0s 4ms/step - loss: 3320.9370 - val_loss: 1934.9329\n",
      "Epoch 14/500\n",
      "20/20 [==============================] - 0s 4ms/step - loss: 3258.2231 - val_loss: 1900.5664\n",
      "Epoch 15/500\n",
      "20/20 [==============================] - 0s 4ms/step - loss: 3196.5537 - val_loss: 1867.0300\n",
      "Epoch 16/500\n",
      "20/20 [==============================] - 0s 4ms/step - loss: 3135.8979 - val_loss: 1834.3027\n",
      "Epoch 17/500\n",
      "20/20 [==============================] - 0s 4ms/step - loss: 3076.2292 - val_loss: 1802.3662\n",
      "Epoch 18/500\n",
      "20/20 [==============================] - 0s 4ms/step - loss: 3017.5237 - val_loss: 1771.2035\n",
      "Epoch 19/500\n",
      "20/20 [==============================] - 0s 9ms/step - loss: 2959.7617 - val_loss: 1740.7996\n",
      "Epoch 20/500\n",
      "20/20 [==============================] - 0s 4ms/step - loss: 2902.9226 - val_loss: 1711.1406\n",
      "Epoch 21/500\n",
      "20/20 [==============================] - 0s 3ms/step - loss: 2846.9915 - val_loss: 1682.2133\n",
      "Epoch 22/500\n",
      "20/20 [==============================] - 0s 3ms/step - loss: 2791.9514 - val_loss: 1654.0052\n",
      "Epoch 23/500\n",
      "20/20 [==============================] - 0s 4ms/step - loss: 2737.7876 - val_loss: 1626.5046\n",
      "Epoch 24/500\n",
      "20/20 [==============================] - 0s 4ms/step - loss: 2684.4866 - val_loss: 1599.7004\n",
      "Epoch 25/500\n",
      "20/20 [==============================] - 0s 3ms/step - loss: 2632.0359 - val_loss: 1573.5815\n",
      "Epoch 26/500\n",
      "20/20 [==============================] - 0s 4ms/step - loss: 2580.4226 - val_loss: 1548.1378\n",
      "Epoch 27/500\n",
      "20/20 [==============================] - 0s 3ms/step - loss: 2529.6357 - val_loss: 1523.3590\n",
      "Epoch 28/500\n",
      "20/20 [==============================] - 0s 4ms/step - loss: 2479.6626 - val_loss: 1499.2356\n",
      "Epoch 29/500\n",
      "20/20 [==============================] - 0s 4ms/step - loss: 2430.4939 - val_loss: 1475.7578\n",
      "Epoch 30/500\n",
      "20/20 [==============================] - 0s 4ms/step - loss: 2382.1177 - val_loss: 1452.9164\n",
      "Epoch 31/500\n",
      "20/20 [==============================] - 0s 3ms/step - loss: 2334.5242 - val_loss: 1430.7021\n",
      "Epoch 32/500\n",
      "20/20 [==============================] - 0s 3ms/step - loss: 2287.7041 - val_loss: 1409.1061\n",
      "Epoch 33/500\n",
      "20/20 [==============================] - 0s 4ms/step - loss: 2241.6479 - val_loss: 1388.1199\n",
      "Epoch 34/500\n",
      "20/20 [==============================] - 0s 4ms/step - loss: 2196.3442 - val_loss: 1367.7341\n",
      "Epoch 35/500\n",
      "20/20 [==============================] - 0s 5ms/step - loss: 2151.7854 - val_loss: 1347.9410\n",
      "Epoch 36/500\n",
      "20/20 [==============================] - 0s 5ms/step - loss: 2107.9617 - val_loss: 1328.7318\n",
      "Epoch 37/500\n",
      "20/20 [==============================] - 0s 4ms/step - loss: 2064.8647 - val_loss: 1310.0986\n",
      "Epoch 38/500\n",
      "20/20 [==============================] - 0s 4ms/step - loss: 2022.4854 - val_loss: 1292.0330\n",
      "Epoch 39/500\n",
      "20/20 [==============================] - 0s 4ms/step - loss: 1980.8148 - val_loss: 1274.5271\n",
      "Epoch 40/500\n",
      "20/20 [==============================] - 0s 3ms/step - loss: 1939.8453 - val_loss: 1257.5728\n",
      "Epoch 41/500\n",
      "20/20 [==============================] - 0s 4ms/step - loss: 1899.5681 - val_loss: 1241.1621\n",
      "Epoch 42/500\n",
      "20/20 [==============================] - 0s 3ms/step - loss: 1859.9750 - val_loss: 1225.2874\n",
      "Epoch 43/500\n",
      "20/20 [==============================] - 0s 3ms/step - loss: 1821.0574 - val_loss: 1209.9410\n",
      "Epoch 44/500\n",
      "20/20 [==============================] - 0s 4ms/step - loss: 1782.8082 - val_loss: 1195.1151\n",
      "Epoch 45/500\n",
      "20/20 [==============================] - 0s 4ms/step - loss: 1745.2188 - val_loss: 1180.8025\n",
      "Epoch 46/500\n",
      "20/20 [==============================] - 0s 3ms/step - loss: 1708.2820 - val_loss: 1166.9955\n",
      "Epoch 47/500\n",
      "20/20 [==============================] - 0s 3ms/step - loss: 1671.9893 - val_loss: 1153.6868\n",
      "Epoch 48/500\n",
      "20/20 [==============================] - 0s 4ms/step - loss: 1636.3334 - val_loss: 1140.8685\n",
      "Epoch 49/500\n",
      "20/20 [==============================] - 0s 5ms/step - loss: 1601.3066 - val_loss: 1128.5338\n",
      "Epoch 50/500\n",
      "20/20 [==============================] - 0s 5ms/step - loss: 1566.9017 - val_loss: 1116.6755\n",
      "Epoch 51/500\n",
      "20/20 [==============================] - 0s 5ms/step - loss: 1533.1113 - val_loss: 1105.2861\n",
      "Epoch 52/500\n",
      "20/20 [==============================] - 0s 5ms/step - loss: 1499.9277 - val_loss: 1094.3584\n",
      "Epoch 53/500\n",
      "20/20 [==============================] - 0s 4ms/step - loss: 1467.3442 - val_loss: 1083.8857\n",
      "Epoch 54/500\n",
      "20/20 [==============================] - 0s 5ms/step - loss: 1435.3533 - val_loss: 1073.8607\n",
      "Epoch 55/500\n",
      "20/20 [==============================] - 0s 5ms/step - loss: 1403.9471 - val_loss: 1064.2764\n",
      "Epoch 56/500\n",
      "20/20 [==============================] - 0s 4ms/step - loss: 1373.1195 - val_loss: 1055.1257\n",
      "Epoch 57/500\n",
      "20/20 [==============================] - 0s 5ms/step - loss: 1342.8630 - val_loss: 1046.4020\n",
      "Epoch 58/500\n",
      "20/20 [==============================] - 0s 4ms/step - loss: 1313.1713 - val_loss: 1038.0980\n",
      "Epoch 59/500\n",
      "20/20 [==============================] - 0s 5ms/step - loss: 1284.0364 - val_loss: 1030.2074\n",
      "Epoch 60/500\n",
      "20/20 [==============================] - 0s 12ms/step - loss: 1255.4521 - val_loss: 1022.7230\n",
      "Epoch 61/500\n",
      "20/20 [==============================] - 0s 7ms/step - loss: 1227.4117 - val_loss: 1015.6383\n",
      "Epoch 62/500\n",
      "20/20 [==============================] - 0s 5ms/step - loss: 1199.9080 - val_loss: 1008.9464\n",
      "Epoch 63/500\n",
      "20/20 [==============================] - 0s 5ms/step - loss: 1172.9348 - val_loss: 1002.6407\n",
      "Epoch 64/500\n",
      "20/20 [==============================] - 0s 5ms/step - loss: 1146.4849 - val_loss: 996.7145\n",
      "Epoch 65/500\n",
      "20/20 [==============================] - 0s 5ms/step - loss: 1120.5520 - val_loss: 991.1613\n",
      "Epoch 66/500\n",
      "20/20 [==============================] - 0s 5ms/step - loss: 1095.1296 - val_loss: 985.9744\n",
      "Epoch 67/500\n",
      "20/20 [==============================] - 0s 6ms/step - loss: 1070.2107 - val_loss: 981.1475\n",
      "Epoch 68/500\n",
      "20/20 [==============================] - 0s 5ms/step - loss: 1045.7893 - val_loss: 976.6738\n",
      "Epoch 69/500\n",
      "20/20 [==============================] - 0s 5ms/step - loss: 1021.8588 - val_loss: 972.5471\n",
      "Epoch 70/500\n",
      "20/20 [==============================] - 0s 5ms/step - loss: 998.4127 - val_loss: 968.7609\n",
      "Epoch 71/500\n",
      "20/20 [==============================] - 0s 5ms/step - loss: 975.4449 - val_loss: 965.3086\n",
      "Epoch 72/500\n",
      "20/20 [==============================] - 0s 4ms/step - loss: 952.9487 - val_loss: 962.1841\n",
      "Epoch 73/500\n",
      "20/20 [==============================] - 0s 4ms/step - loss: 930.9183 - val_loss: 959.3810\n",
      "Epoch 74/500\n",
      "20/20 [==============================] - 0s 5ms/step - loss: 909.3470 - val_loss: 956.8929\n",
      "Epoch 75/500\n",
      "20/20 [==============================] - 0s 4ms/step - loss: 888.2289 - val_loss: 954.7137\n",
      "Epoch 76/500\n",
      "20/20 [==============================] - 0s 5ms/step - loss: 867.5578 - val_loss: 952.8370\n",
      "Epoch 77/500\n",
      "20/20 [==============================] - 0s 5ms/step - loss: 847.3275 - val_loss: 951.2567\n",
      "Epoch 78/500\n",
      "20/20 [==============================] - 0s 5ms/step - loss: 827.5320 - val_loss: 949.9665\n",
      "Epoch 79/500\n",
      "20/20 [==============================] - 0s 5ms/step - loss: 808.1652 - val_loss: 948.9603\n",
      "Epoch 80/500\n",
      "20/20 [==============================] - 0s 5ms/step - loss: 789.2211 - val_loss: 948.2318\n",
      "Epoch 81/500\n",
      "20/20 [==============================] - 0s 5ms/step - loss: 770.6936 - val_loss: 947.7668\n",
      "Epoch 82/500\n",
      "20/20 [==============================] - 0s 5ms/step - loss: 752.5770 - val_loss: 947.5732\n",
      "Epoch 83/500\n",
      "20/20 [==============================] - 0s 5ms/step - loss: 734.8651 - val_loss: 947.6424\n",
      "Epoch 84/500\n",
      "20/20 [==============================] - 0s 5ms/step - loss: 717.5522 - val_loss: 947.9652\n",
      "Epoch 85/500\n",
      "20/20 [==============================] - 0s 5ms/step - loss: 700.6324 - val_loss: 948.5359\n",
      "Epoch 86/500\n",
      "20/20 [==============================] - 0s 5ms/step - loss: 684.1000 - val_loss: 949.3483\n",
      "Epoch 87/500\n",
      "20/20 [==============================] - 0s 5ms/step - loss: 667.9492 - val_loss: 950.3967\n",
      "Epoch 88/500\n",
      "20/20 [==============================] - 0s 5ms/step - loss: 652.1741 - val_loss: 951.6752\n",
      "Epoch 89/500\n",
      "20/20 [==============================] - 0s 5ms/step - loss: 636.7692 - val_loss: 953.1779\n",
      "Epoch 90/500\n",
      "20/20 [==============================] - 0s 5ms/step - loss: 621.7288 - val_loss: 954.8991\n",
      "Epoch 91/500\n",
      "20/20 [==============================] - 0s 5ms/step - loss: 607.0470 - val_loss: 956.8330\n",
      "Epoch 92/500\n",
      "20/20 [==============================] - 0s 5ms/step - loss: 592.7185 - val_loss: 958.9736\n",
      "Epoch 93/500\n",
      "20/20 [==============================] - 0s 9ms/step - loss: 578.7377 - val_loss: 961.3156\n",
      "Epoch 94/500\n",
      "20/20 [==============================] - 0s 8ms/step - loss: 565.0990 - val_loss: 963.8529\n",
      "Epoch 95/500\n",
      "20/20 [==============================] - 0s 5ms/step - loss: 551.7969 - val_loss: 966.5803\n",
      "Epoch 96/500\n",
      "20/20 [==============================] - 0s 4ms/step - loss: 538.8259 - val_loss: 969.4918\n",
      "Epoch 97/500\n",
      "20/20 [==============================] - 0s 5ms/step - loss: 526.1805 - val_loss: 972.5820\n",
      "Epoch 98/500\n",
      "20/20 [==============================] - 0s 4ms/step - loss: 513.8555 - val_loss: 975.8453\n",
      "Epoch 99/500\n",
      "20/20 [==============================] - 0s 4ms/step - loss: 501.8455 - val_loss: 979.2762\n",
      "Epoch 100/500\n",
      "20/20 [==============================] - 0s 5ms/step - loss: 490.1449 - val_loss: 982.8695\n",
      "Epoch 101/500\n",
      "20/20 [==============================] - 0s 5ms/step - loss: 478.7487 - val_loss: 986.6193\n",
      "Epoch 102/500\n",
      "20/20 [==============================] - 0s 5ms/step - loss: 467.6515 - val_loss: 990.5204\n",
      "Epoch 103/500\n",
      "20/20 [==============================] - 0s 5ms/step - loss: 456.8481 - val_loss: 994.5677\n",
      "Epoch 104/500\n",
      "20/20 [==============================] - 0s 5ms/step - loss: 446.3331 - val_loss: 998.7556\n",
      "Epoch 105/500\n",
      "20/20 [==============================] - 0s 4ms/step - loss: 436.1017 - val_loss: 1003.0785\n",
      "Epoch 106/500\n",
      "20/20 [==============================] - 0s 4ms/step - loss: 426.1486 - val_loss: 1007.5319\n",
      "Epoch 107/500\n",
      "20/20 [==============================] - 0s 5ms/step - loss: 416.4687 - val_loss: 1012.1100\n",
      "Epoch 108/500\n",
      "20/20 [==============================] - 0s 4ms/step - loss: 407.0569 - val_loss: 1016.8081\n",
      "Epoch 109/500\n",
      "20/20 [==============================] - 0s 4ms/step - loss: 397.9082 - val_loss: 1021.6205\n",
      "Epoch 110/500\n",
      "20/20 [==============================] - 0s 4ms/step - loss: 389.0177 - val_loss: 1026.5427\n",
      "Epoch 111/500\n",
      "20/20 [==============================] - 0s 4ms/step - loss: 380.3802 - val_loss: 1031.5695\n",
      "Epoch 112/500\n",
      "20/20 [==============================] - 0s 4ms/step - loss: 371.9911 - val_loss: 1036.6959\n",
      "Epoch 113/500\n",
      "20/20 [==============================] - 0s 5ms/step - loss: 363.8454 - val_loss: 1041.9167\n",
      "Epoch 114/500\n",
      "20/20 [==============================] - 0s 5ms/step - loss: 355.9382 - val_loss: 1047.2275\n",
      "Epoch 115/500\n",
      "20/20 [==============================] - 0s 5ms/step - loss: 348.2648 - val_loss: 1052.6232\n",
      "Epoch 116/500\n",
      "20/20 [==============================] - 0s 5ms/step - loss: 340.8206 - val_loss: 1058.0990\n",
      "Epoch 117/500\n",
      "20/20 [==============================] - 0s 5ms/step - loss: 333.6004 - val_loss: 1063.6501\n",
      "Epoch 118/500\n",
      "20/20 [==============================] - 0s 6ms/step - loss: 326.6000 - val_loss: 1069.2719\n",
      "Epoch 119/500\n",
      "20/20 [==============================] - 0s 5ms/step - loss: 319.8147 - val_loss: 1074.9600\n",
      "Epoch 120/500\n",
      "20/20 [==============================] - 0s 5ms/step - loss: 313.2395 - val_loss: 1080.7090\n",
      "Epoch 121/500\n",
      "20/20 [==============================] - 0s 5ms/step - loss: 306.8703 - val_loss: 1086.5154\n",
      "Epoch 122/500\n",
      "20/20 [==============================] - 0s 5ms/step - loss: 300.7024 - val_loss: 1092.3743\n",
      "Epoch 123/500\n",
      "20/20 [==============================] - 0s 4ms/step - loss: 294.7314 - val_loss: 1098.2811\n",
      "Epoch 124/500\n",
      "20/20 [==============================] - 0s 5ms/step - loss: 288.9528 - val_loss: 1104.2317\n",
      "Epoch 125/500\n",
      "20/20 [==============================] - 0s 12ms/step - loss: 283.3623 - val_loss: 1110.2218\n",
      "Epoch 126/500\n",
      "20/20 [==============================] - 0s 5ms/step - loss: 277.9554 - val_loss: 1116.2471\n",
      "Epoch 127/500\n",
      "20/20 [==============================] - 0s 5ms/step - loss: 272.7281 - val_loss: 1122.3035\n",
      "Epoch 128/500\n",
      "20/20 [==============================] - 0s 5ms/step - loss: 267.6758 - val_loss: 1128.3868\n",
      "Epoch 129/500\n",
      "20/20 [==============================] - 0s 5ms/step - loss: 262.7946 - val_loss: 1134.4929\n",
      "Epoch 130/500\n",
      "20/20 [==============================] - 0s 5ms/step - loss: 258.0801 - val_loss: 1140.6180\n",
      "Epoch 131/500\n",
      "20/20 [==============================] - 0s 4ms/step - loss: 253.5284 - val_loss: 1146.7583\n",
      "Epoch 132/500\n",
      "20/20 [==============================] - 0s 4ms/step - loss: 249.1354 - val_loss: 1152.9095\n",
      "Epoch 133/500\n",
      "20/20 [==============================] - 0s 4ms/step - loss: 244.8971 - val_loss: 1159.0681\n",
      "Epoch 134/500\n",
      "20/20 [==============================] - 0s 3ms/step - loss: 240.8095 - val_loss: 1165.2305\n",
      "Epoch 135/500\n",
      "20/20 [==============================] - 0s 4ms/step - loss: 236.8688 - val_loss: 1171.3936\n",
      "Epoch 136/500\n",
      "20/20 [==============================] - 0s 4ms/step - loss: 233.0708 - val_loss: 1177.5520\n",
      "Epoch 137/500\n",
      "20/20 [==============================] - 0s 4ms/step - loss: 229.4122 - val_loss: 1183.7040\n",
      "Epoch 138/500\n",
      "20/20 [==============================] - 0s 3ms/step - loss: 225.8890 - val_loss: 1189.8459\n",
      "Epoch 139/500\n",
      "20/20 [==============================] - 0s 4ms/step - loss: 222.4974 - val_loss: 1195.9733\n",
      "Epoch 140/500\n",
      "20/20 [==============================] - 0s 4ms/step - loss: 219.2339 - val_loss: 1202.0842\n",
      "Epoch 141/500\n",
      "20/20 [==============================] - 0s 4ms/step - loss: 216.0949 - val_loss: 1208.1750\n",
      "Epoch 142/500\n",
      "20/20 [==============================] - 0s 4ms/step - loss: 213.0768 - val_loss: 1214.2427\n",
      "Epoch 143/500\n",
      "20/20 [==============================] - 0s 4ms/step - loss: 210.1760 - val_loss: 1220.2842\n",
      "Epoch 144/500\n",
      "20/20 [==============================] - 0s 3ms/step - loss: 207.3894 - val_loss: 1226.2961\n",
      "Epoch 145/500\n",
      "20/20 [==============================] - 0s 4ms/step - loss: 204.7133 - val_loss: 1232.2761\n",
      "Epoch 146/500\n",
      "20/20 [==============================] - 0s 3ms/step - loss: 202.1446 - val_loss: 1238.2211\n",
      "Epoch 147/500\n",
      "20/20 [==============================] - 0s 4ms/step - loss: 199.6799 - val_loss: 1244.1289\n",
      "Epoch 148/500\n",
      "20/20 [==============================] - 0s 4ms/step - loss: 197.3162 - val_loss: 1249.9963\n",
      "Epoch 149/500\n",
      "20/20 [==============================] - 0s 5ms/step - loss: 195.0501 - val_loss: 1255.8215\n",
      "Epoch 150/500\n",
      "20/20 [==============================] - 0s 5ms/step - loss: 192.8785 - val_loss: 1261.6008\n",
      "Epoch 151/500\n",
      "20/20 [==============================] - 0s 5ms/step - loss: 190.7986 - val_loss: 1267.3330\n",
      "Epoch 152/500\n",
      "20/20 [==============================] - 0s 4ms/step - loss: 188.8073 - val_loss: 1273.0153\n",
      "Epoch 153/500\n",
      "20/20 [==============================] - 0s 4ms/step - loss: 186.9017 - val_loss: 1278.6456\n",
      "Epoch 154/500\n",
      "20/20 [==============================] - 0s 4ms/step - loss: 185.0788 - val_loss: 1284.2224\n",
      "Epoch 155/500\n",
      "20/20 [==============================] - 0s 4ms/step - loss: 183.3360 - val_loss: 1289.7429\n",
      "Epoch 156/500\n",
      "20/20 [==============================] - 0s 4ms/step - loss: 181.6705 - val_loss: 1295.2058\n",
      "Epoch 157/500\n",
      "20/20 [==============================] - 0s 4ms/step - loss: 180.0796 - val_loss: 1300.6083\n",
      "Epoch 158/500\n",
      "20/20 [==============================] - 0s 3ms/step - loss: 178.5606 - val_loss: 1305.9497\n",
      "Epoch 159/500\n",
      "20/20 [==============================] - 0s 3ms/step - loss: 177.1111 - val_loss: 1311.2277\n",
      "Epoch 160/500\n",
      "20/20 [==============================] - 0s 9ms/step - loss: 175.7284 - val_loss: 1316.4412\n",
      "Epoch 161/500\n",
      "20/20 [==============================] - 0s 6ms/step - loss: 174.4102 - val_loss: 1321.5884\n",
      "Epoch 162/500\n",
      "20/20 [==============================] - 0s 4ms/step - loss: 173.1539 - val_loss: 1326.6677\n",
      "Epoch 163/500\n",
      "20/20 [==============================] - 0s 5ms/step - loss: 171.9574 - val_loss: 1331.6781\n",
      "Epoch 164/500\n",
      "20/20 [==============================] - 0s 4ms/step - loss: 170.8185 - val_loss: 1336.6184\n",
      "Epoch 165/500\n",
      "20/20 [==============================] - 0s 4ms/step - loss: 169.7347 - val_loss: 1341.4873\n",
      "Epoch 166/500\n",
      "20/20 [==============================] - 0s 4ms/step - loss: 168.7039 - val_loss: 1346.2838\n",
      "Epoch 167/500\n",
      "20/20 [==============================] - 0s 4ms/step - loss: 167.7242 - val_loss: 1351.0076\n",
      "Epoch 168/500\n",
      "20/20 [==============================] - 0s 4ms/step - loss: 166.7933 - val_loss: 1355.6560\n",
      "Epoch 169/500\n",
      "20/20 [==============================] - 0s 4ms/step - loss: 165.9094 - val_loss: 1360.2292\n",
      "Epoch 170/500\n",
      "20/20 [==============================] - 0s 4ms/step - loss: 165.0706 - val_loss: 1364.7271\n",
      "Epoch 171/500\n",
      "20/20 [==============================] - 0s 5ms/step - loss: 164.2748 - val_loss: 1369.1492\n",
      "Epoch 172/500\n",
      "20/20 [==============================] - 0s 6ms/step - loss: 163.5204 - val_loss: 1373.4934\n",
      "Epoch 173/500\n",
      "20/20 [==============================] - 0s 7ms/step - loss: 162.8055 - val_loss: 1377.7601\n",
      "Epoch 174/500\n",
      "20/20 [==============================] - 0s 6ms/step - loss: 162.1284 - val_loss: 1381.9495\n",
      "Epoch 175/500\n",
      "20/20 [==============================] - 0s 6ms/step - loss: 161.4874 - val_loss: 1386.0603\n",
      "Epoch 176/500\n",
      "20/20 [==============================] - 0s 5ms/step - loss: 160.8811 - val_loss: 1390.0920\n",
      "Epoch 177/500\n",
      "20/20 [==============================] - 0s 5ms/step - loss: 160.3078 - val_loss: 1394.0459\n",
      "Epoch 178/500\n",
      "20/20 [==============================] - 0s 5ms/step - loss: 159.7659 - val_loss: 1397.9202\n",
      "Epoch 179/500\n",
      "20/20 [==============================] - 0s 6ms/step - loss: 159.2541 - val_loss: 1401.7167\n",
      "Epoch 180/500\n",
      "20/20 [==============================] - 0s 8ms/step - loss: 158.7710 - val_loss: 1405.4338\n",
      "Epoch 181/500\n",
      "20/20 [==============================] - 0s 7ms/step - loss: 158.3151 - val_loss: 1409.0720\n",
      "Epoch 182/500\n",
      "20/20 [==============================] - 0s 6ms/step - loss: 157.8853 - val_loss: 1412.6321\n",
      "Epoch 183/500\n",
      "20/20 [==============================] - 0s 6ms/step - loss: 157.4802 - val_loss: 1416.1135\n",
      "Epoch 184/500\n",
      "20/20 [==============================] - 0s 5ms/step - loss: 157.0986 - val_loss: 1419.5164\n",
      "Epoch 185/500\n",
      "20/20 [==============================] - 0s 5ms/step - loss: 156.7394 - val_loss: 1422.8425\n",
      "Epoch 186/500\n",
      "20/20 [==============================] - 0s 6ms/step - loss: 156.4015 - val_loss: 1426.0901\n",
      "Epoch 187/500\n",
      "20/20 [==============================] - 0s 6ms/step - loss: 156.0837 - val_loss: 1429.2618\n",
      "Epoch 188/500\n",
      "20/20 [==============================] - 0s 5ms/step - loss: 155.7850 - val_loss: 1432.3562\n",
      "Epoch 189/500\n",
      "20/20 [==============================] - 0s 5ms/step - loss: 155.5045 - val_loss: 1435.3752\n",
      "Epoch 190/500\n",
      "20/20 [==============================] - 0s 13ms/step - loss: 155.2412 - val_loss: 1438.3195\n",
      "Epoch 191/500\n",
      "20/20 [==============================] - 0s 6ms/step - loss: 154.9941 - val_loss: 1441.1885\n",
      "Epoch 192/500\n",
      "20/20 [==============================] - 0s 5ms/step - loss: 154.7625 - val_loss: 1443.9846\n",
      "Epoch 193/500\n",
      "20/20 [==============================] - 0s 6ms/step - loss: 154.5453 - val_loss: 1446.7067\n",
      "Epoch 194/500\n",
      "20/20 [==============================] - 0s 6ms/step - loss: 154.3420 - val_loss: 1449.3572\n",
      "Epoch 195/500\n",
      "20/20 [==============================] - 0s 6ms/step - loss: 154.1517 - val_loss: 1451.9360\n",
      "Epoch 196/500\n",
      "20/20 [==============================] - 0s 6ms/step - loss: 153.9736 - val_loss: 1454.4446\n",
      "Epoch 197/500\n",
      "20/20 [==============================] - 0s 6ms/step - loss: 153.8071 - val_loss: 1456.8826\n",
      "Epoch 198/500\n",
      "20/20 [==============================] - 0s 5ms/step - loss: 153.6516 - val_loss: 1459.2523\n",
      "Epoch 199/500\n",
      "20/20 [==============================] - 0s 5ms/step - loss: 153.5063 - val_loss: 1461.5547\n",
      "Epoch 200/500\n",
      "20/20 [==============================] - 0s 7ms/step - loss: 153.3707 - val_loss: 1463.7900\n",
      "Epoch 201/500\n",
      "20/20 [==============================] - 0s 8ms/step - loss: 153.2441 - val_loss: 1465.9590\n",
      "Epoch 202/500\n",
      "20/20 [==============================] - 0s 9ms/step - loss: 153.1261 - val_loss: 1468.0640\n",
      "Epoch 203/500\n",
      "20/20 [==============================] - 0s 8ms/step - loss: 153.0163 - val_loss: 1470.1050\n",
      "Epoch 204/500\n",
      "20/20 [==============================] - 0s 8ms/step - loss: 152.9139 - val_loss: 1472.0840\n",
      "Epoch 205/500\n",
      "20/20 [==============================] - 0s 17ms/step - loss: 152.8186 - val_loss: 1474.0010\n",
      "Epoch 206/500\n",
      "20/20 [==============================] - 0s 11ms/step - loss: 152.7300 - val_loss: 1475.8582\n",
      "Epoch 207/500\n",
      "20/20 [==============================] - 0s 8ms/step - loss: 152.6476 - val_loss: 1477.6559\n",
      "Epoch 208/500\n",
      "20/20 [==============================] - 0s 8ms/step - loss: 152.5710 - val_loss: 1479.3967\n",
      "Epoch 209/500\n",
      "20/20 [==============================] - 0s 7ms/step - loss: 152.4999 - val_loss: 1481.0796\n",
      "Epoch 210/500\n",
      "20/20 [==============================] - 0s 6ms/step - loss: 152.4339 - val_loss: 1482.7070\n",
      "Epoch 211/500\n",
      "20/20 [==============================] - 0s 6ms/step - loss: 152.3727 - val_loss: 1484.2798\n",
      "Epoch 212/500\n",
      "20/20 [==============================] - 0s 6ms/step - loss: 152.3159 - val_loss: 1485.7992\n",
      "Epoch 213/500\n",
      "20/20 [==============================] - 0s 5ms/step - loss: 152.2633 - val_loss: 1487.2668\n",
      "Epoch 214/500\n",
      "20/20 [==============================] - 0s 5ms/step - loss: 152.2146 - val_loss: 1488.6838\n",
      "Epoch 215/500\n",
      "20/20 [==============================] - 0s 5ms/step - loss: 152.1695 - val_loss: 1490.0510\n",
      "Epoch 216/500\n",
      "20/20 [==============================] - 0s 6ms/step - loss: 152.1278 - val_loss: 1491.3700\n",
      "Epoch 217/500\n",
      "20/20 [==============================] - 0s 5ms/step - loss: 152.0891 - val_loss: 1492.6414\n",
      "Epoch 218/500\n",
      "20/20 [==============================] - 0s 4ms/step - loss: 152.0535 - val_loss: 1493.8668\n",
      "Epoch 219/500\n",
      "20/20 [==============================] - 0s 5ms/step - loss: 152.0206 - val_loss: 1495.0471\n",
      "Epoch 220/500\n",
      "20/20 [==============================] - 0s 5ms/step - loss: 151.9901 - val_loss: 1496.1840\n",
      "Epoch 221/500\n",
      "20/20 [==============================] - 0s 5ms/step - loss: 151.9620 - val_loss: 1497.2776\n",
      "Epoch 222/500\n",
      "20/20 [==============================] - 0s 5ms/step - loss: 151.9362 - val_loss: 1498.3300\n",
      "Epoch 223/500\n",
      "20/20 [==============================] - 0s 5ms/step - loss: 151.9123 - val_loss: 1499.3428\n",
      "Epoch 224/500\n",
      "20/20 [==============================] - 0s 5ms/step - loss: 151.8904 - val_loss: 1500.3156\n",
      "Epoch 225/500\n",
      "20/20 [==============================] - 0s 5ms/step - loss: 151.8701 - val_loss: 1501.2512\n",
      "Epoch 226/500\n",
      "20/20 [==============================] - 0s 5ms/step - loss: 151.8515 - val_loss: 1502.1492\n",
      "Epoch 227/500\n",
      "20/20 [==============================] - 0s 5ms/step - loss: 151.8343 - val_loss: 1503.0121\n",
      "Epoch 228/500\n",
      "20/20 [==============================] - 0s 10ms/step - loss: 151.8186 - val_loss: 1503.8401\n",
      "Epoch 229/500\n",
      "20/20 [==============================] - 0s 7ms/step - loss: 151.8042 - val_loss: 1504.6340\n",
      "Epoch 230/500\n",
      "20/20 [==============================] - 0s 6ms/step - loss: 151.7909 - val_loss: 1505.3961\n",
      "Epoch 231/500\n",
      "20/20 [==============================] - 0s 6ms/step - loss: 151.7786 - val_loss: 1506.1267\n",
      "Epoch 232/500\n",
      "20/20 [==============================] - 0s 6ms/step - loss: 151.7674 - val_loss: 1506.8268\n",
      "Epoch 233/500\n",
      "20/20 [==============================] - 0s 5ms/step - loss: 151.7572 - val_loss: 1507.4973\n",
      "Epoch 234/500\n",
      "20/20 [==============================] - 0s 5ms/step - loss: 151.7478 - val_loss: 1508.1384\n",
      "Epoch 235/500\n",
      "20/20 [==============================] - 0s 6ms/step - loss: 151.7392 - val_loss: 1508.7532\n",
      "Epoch 236/500\n",
      "20/20 [==============================] - 0s 5ms/step - loss: 151.7313 - val_loss: 1509.3406\n",
      "Epoch 237/500\n",
      "20/20 [==============================] - 0s 5ms/step - loss: 151.7241 - val_loss: 1509.9026\n",
      "Epoch 238/500\n",
      "20/20 [==============================] - 0s 6ms/step - loss: 151.7175 - val_loss: 1510.4397\n",
      "Epoch 239/500\n",
      "20/20 [==============================] - 0s 5ms/step - loss: 151.7115 - val_loss: 1510.9532\n",
      "Epoch 240/500\n",
      "20/20 [==============================] - 0s 4ms/step - loss: 151.7060 - val_loss: 1511.4436\n",
      "Epoch 241/500\n",
      "20/20 [==============================] - 0s 4ms/step - loss: 151.7010 - val_loss: 1511.9124\n",
      "Epoch 242/500\n",
      "20/20 [==============================] - 0s 4ms/step - loss: 151.6964 - val_loss: 1512.3591\n",
      "Epoch 243/500\n",
      "20/20 [==============================] - 0s 5ms/step - loss: 151.6923 - val_loss: 1512.7855\n",
      "Epoch 244/500\n",
      "20/20 [==============================] - 0s 6ms/step - loss: 151.6885 - val_loss: 1513.1924\n",
      "Epoch 245/500\n",
      "20/20 [==============================] - 0s 5ms/step - loss: 151.6851 - val_loss: 1513.5797\n",
      "Epoch 246/500\n",
      "20/20 [==============================] - 0s 4ms/step - loss: 151.6820 - val_loss: 1513.9486\n",
      "Epoch 247/500\n",
      "20/20 [==============================] - 0s 4ms/step - loss: 151.6792 - val_loss: 1514.3009\n",
      "Epoch 248/500\n",
      "20/20 [==============================] - 0s 5ms/step - loss: 151.6766 - val_loss: 1514.6357\n",
      "Epoch 249/500\n",
      "20/20 [==============================] - 0s 5ms/step - loss: 151.6743 - val_loss: 1514.9543\n",
      "Epoch 250/500\n",
      "20/20 [==============================] - 0s 6ms/step - loss: 151.6723 - val_loss: 1515.2576\n",
      "Epoch 251/500\n",
      "20/20 [==============================] - 0s 7ms/step - loss: 151.6704 - val_loss: 1515.5461\n",
      "Epoch 252/500\n",
      "20/20 [==============================] - 0s 7ms/step - loss: 151.6688 - val_loss: 1515.8198\n",
      "Epoch 253/500\n",
      "20/20 [==============================] - 0s 8ms/step - loss: 151.6673 - val_loss: 1516.0808\n",
      "Epoch 254/500\n",
      "20/20 [==============================] - 0s 7ms/step - loss: 151.6660 - val_loss: 1516.3287\n",
      "Epoch 255/500\n",
      "20/20 [==============================] - 0s 7ms/step - loss: 151.6648 - val_loss: 1516.5632\n",
      "Epoch 256/500\n",
      "20/20 [==============================] - 0s 6ms/step - loss: 151.6638 - val_loss: 1516.7869\n",
      "Epoch 257/500\n",
      "20/20 [==============================] - 0s 7ms/step - loss: 151.6628 - val_loss: 1516.9987\n",
      "Epoch 258/500\n",
      "20/20 [==============================] - 0s 8ms/step - loss: 151.6621 - val_loss: 1517.1995\n",
      "Epoch 259/500\n",
      "20/20 [==============================] - 0s 12ms/step - loss: 151.6614 - val_loss: 1517.3890\n",
      "Epoch 260/500\n",
      "20/20 [==============================] - 0s 15ms/step - loss: 151.6608 - val_loss: 1517.5701\n",
      "Epoch 261/500\n",
      "20/20 [==============================] - 0s 12ms/step - loss: 151.6603 - val_loss: 1517.7405\n",
      "Epoch 262/500\n",
      "20/20 [==============================] - 0s 8ms/step - loss: 151.6599 - val_loss: 1517.9027\n",
      "Epoch 263/500\n",
      "20/20 [==============================] - 0s 7ms/step - loss: 151.6595 - val_loss: 1518.0562\n",
      "Epoch 264/500\n",
      "20/20 [==============================] - 0s 7ms/step - loss: 151.6593 - val_loss: 1518.2010\n",
      "Epoch 265/500\n",
      "20/20 [==============================] - 0s 5ms/step - loss: 151.6591 - val_loss: 1518.3380\n",
      "Epoch 266/500\n",
      "20/20 [==============================] - 0s 5ms/step - loss: 151.6589 - val_loss: 1518.4670\n",
      "Epoch 267/500\n",
      "20/20 [==============================] - 0s 6ms/step - loss: 151.6588 - val_loss: 1518.5891\n",
      "Epoch 268/500\n",
      "20/20 [==============================] - 0s 5ms/step - loss: 151.6588 - val_loss: 1518.7056\n",
      "Epoch 269/500\n",
      "20/20 [==============================] - 0s 6ms/step - loss: 151.6588 - val_loss: 1518.8147\n",
      "Epoch 270/500\n",
      "20/20 [==============================] - 0s 8ms/step - loss: 151.6589 - val_loss: 1518.9182\n",
      "Epoch 271/500\n",
      "20/20 [==============================] - 0s 8ms/step - loss: 151.6590 - val_loss: 1519.0157\n",
      "Epoch 272/500\n",
      "20/20 [==============================] - 0s 7ms/step - loss: 151.6590 - val_loss: 1519.1072\n",
      "Epoch 273/500\n",
      "20/20 [==============================] - 0s 7ms/step - loss: 151.6592 - val_loss: 1519.1936\n",
      "Epoch 274/500\n",
      "20/20 [==============================] - 0s 7ms/step - loss: 151.6594 - val_loss: 1519.2750\n",
      "Epoch 275/500\n",
      "20/20 [==============================] - 0s 7ms/step - loss: 151.6596 - val_loss: 1519.3519\n",
      "Epoch 276/500\n",
      "20/20 [==============================] - 0s 17ms/step - loss: 151.6599 - val_loss: 1519.4252\n",
      "Epoch 277/500\n",
      "20/20 [==============================] - 0s 6ms/step - loss: 151.6601 - val_loss: 1519.4934\n",
      "Epoch 278/500\n",
      "20/20 [==============================] - 0s 6ms/step - loss: 151.6604 - val_loss: 1519.5574\n",
      "Epoch 279/500\n",
      "20/20 [==============================] - 0s 6ms/step - loss: 151.6607 - val_loss: 1519.6179\n",
      "Epoch 280/500\n",
      "20/20 [==============================] - 0s 7ms/step - loss: 151.6610 - val_loss: 1519.6746\n",
      "Epoch 281/500\n",
      "20/20 [==============================] - 0s 8ms/step - loss: 151.6613 - val_loss: 1519.7286\n",
      "Epoch 282/500\n",
      "20/20 [==============================] - 0s 5ms/step - loss: 151.6617 - val_loss: 1519.7786\n",
      "Epoch 283/500\n",
      "20/20 [==============================] - 0s 8ms/step - loss: 151.6621 - val_loss: 1519.8263\n",
      "Epoch 284/500\n",
      "20/20 [==============================] - 0s 6ms/step - loss: 151.6624 - val_loss: 1519.8700\n",
      "Epoch 285/500\n",
      "20/20 [==============================] - 0s 5ms/step - loss: 151.6628 - val_loss: 1519.9116\n",
      "Epoch 286/500\n",
      "20/20 [==============================] - 0s 5ms/step - loss: 151.6632 - val_loss: 1519.9508\n",
      "Epoch 287/500\n",
      "20/20 [==============================] - 0s 5ms/step - loss: 151.6636 - val_loss: 1519.9871\n",
      "Epoch 288/500\n",
      "20/20 [==============================] - 0s 5ms/step - loss: 151.6640 - val_loss: 1520.0212\n",
      "Epoch 289/500\n",
      "20/20 [==============================] - 0s 6ms/step - loss: 151.6644 - val_loss: 1520.0540\n",
      "Epoch 290/500\n",
      "20/20 [==============================] - 0s 5ms/step - loss: 151.6648 - val_loss: 1520.0833\n",
      "Epoch 291/500\n",
      "20/20 [==============================] - 0s 5ms/step - loss: 151.6652 - val_loss: 1520.1111\n",
      "Epoch 292/500\n",
      "20/20 [==============================] - 0s 6ms/step - loss: 151.6656 - val_loss: 1520.1375\n",
      "Epoch 293/500\n",
      "20/20 [==============================] - 0s 7ms/step - loss: 151.6661 - val_loss: 1520.1613\n",
      "Epoch 294/500\n",
      "20/20 [==============================] - 0s 6ms/step - loss: 151.6665 - val_loss: 1520.1837\n",
      "Epoch 295/500\n",
      "20/20 [==============================] - 0s 6ms/step - loss: 151.6669 - val_loss: 1520.2048\n",
      "Epoch 296/500\n",
      "20/20 [==============================] - 0s 7ms/step - loss: 151.6674 - val_loss: 1520.2249\n",
      "Epoch 297/500\n",
      "20/20 [==============================] - 0s 7ms/step - loss: 151.6678 - val_loss: 1520.2433\n",
      "Epoch 298/500\n",
      "20/20 [==============================] - 0s 6ms/step - loss: 151.6683 - val_loss: 1520.2610\n",
      "Epoch 299/500\n",
      "20/20 [==============================] - 0s 6ms/step - loss: 151.6687 - val_loss: 1520.2770\n",
      "Epoch 300/500\n",
      "20/20 [==============================] - 0s 6ms/step - loss: 151.6692 - val_loss: 1520.2921\n",
      "Epoch 301/500\n",
      "20/20 [==============================] - 0s 6ms/step - loss: 151.6696 - val_loss: 1520.3059\n",
      "Epoch 302/500\n",
      "20/20 [==============================] - 0s 5ms/step - loss: 151.6701 - val_loss: 1520.3192\n",
      "Epoch 303/500\n",
      "20/20 [==============================] - 0s 5ms/step - loss: 151.6705 - val_loss: 1520.3313\n",
      "Epoch 304/500\n",
      "20/20 [==============================] - 0s 5ms/step - loss: 151.6709 - val_loss: 1520.3425\n",
      "Epoch 305/500\n",
      "20/20 [==============================] - 0s 11ms/step - loss: 151.6714 - val_loss: 1520.3535\n",
      "Epoch 306/500\n",
      "20/20 [==============================] - 0s 5ms/step - loss: 151.6718 - val_loss: 1520.3624\n",
      "Epoch 307/500\n",
      "20/20 [==============================] - 0s 5ms/step - loss: 151.6723 - val_loss: 1520.3718\n",
      "Epoch 308/500\n",
      "20/20 [==============================] - 0s 5ms/step - loss: 151.6727 - val_loss: 1520.3796\n",
      "Epoch 309/500\n",
      "20/20 [==============================] - 0s 5ms/step - loss: 151.6731 - val_loss: 1520.3873\n",
      "Epoch 310/500\n",
      "20/20 [==============================] - 0s 4ms/step - loss: 151.6735 - val_loss: 1520.3939\n",
      "Epoch 311/500\n",
      "20/20 [==============================] - 0s 4ms/step - loss: 151.6740 - val_loss: 1520.4001\n",
      "Epoch 312/500\n",
      "20/20 [==============================] - 0s 4ms/step - loss: 151.6744 - val_loss: 1520.4065\n",
      "Epoch 313/500\n",
      "20/20 [==============================] - 0s 5ms/step - loss: 151.6748 - val_loss: 1520.4117\n",
      "Epoch 314/500\n",
      "20/20 [==============================] - 0s 6ms/step - loss: 151.6753 - val_loss: 1520.4170\n",
      "Epoch 315/500\n",
      "20/20 [==============================] - 0s 7ms/step - loss: 151.6757 - val_loss: 1520.4213\n",
      "Epoch 316/500\n",
      "20/20 [==============================] - 0s 7ms/step - loss: 151.6761 - val_loss: 1520.4258\n",
      "Epoch 317/500\n",
      "20/20 [==============================] - 0s 6ms/step - loss: 151.6764 - val_loss: 1520.4297\n",
      "Epoch 318/500\n",
      "20/20 [==============================] - 0s 6ms/step - loss: 151.6768 - val_loss: 1520.4330\n",
      "Epoch 319/500\n",
      "20/20 [==============================] - 0s 4ms/step - loss: 151.6773 - val_loss: 1520.4368\n",
      "Epoch 320/500\n",
      "20/20 [==============================] - 0s 5ms/step - loss: 151.6777 - val_loss: 1520.4397\n",
      "Epoch 321/500\n",
      "20/20 [==============================] - 0s 5ms/step - loss: 151.6780 - val_loss: 1520.4427\n",
      "Epoch 322/500\n",
      "20/20 [==============================] - 0s 5ms/step - loss: 151.6785 - val_loss: 1520.4454\n",
      "Epoch 323/500\n",
      "20/20 [==============================] - 0s 7ms/step - loss: 151.6789 - val_loss: 1520.4480\n",
      "Epoch 324/500\n",
      "20/20 [==============================] - 0s 8ms/step - loss: 151.6792 - val_loss: 1520.4500\n",
      "Epoch 325/500\n",
      "20/20 [==============================] - 0s 8ms/step - loss: 151.6796 - val_loss: 1520.4514\n",
      "Epoch 326/500\n",
      "20/20 [==============================] - 0s 6ms/step - loss: 151.6799 - val_loss: 1520.4535\n",
      "Epoch 327/500\n",
      "20/20 [==============================] - 0s 6ms/step - loss: 151.6803 - val_loss: 1520.4547\n",
      "Epoch 328/500\n",
      "20/20 [==============================] - 0s 8ms/step - loss: 151.6807 - val_loss: 1520.4557\n",
      "Epoch 329/500\n",
      "20/20 [==============================] - 0s 7ms/step - loss: 151.6810 - val_loss: 1520.4568\n",
      "Epoch 330/500\n",
      "20/20 [==============================] - 0s 6ms/step - loss: 151.6814 - val_loss: 1520.4581\n",
      "Epoch 331/500\n",
      "20/20 [==============================] - 0s 6ms/step - loss: 151.6817 - val_loss: 1520.4586\n",
      "Epoch 332/500\n",
      "20/20 [==============================] - 0s 5ms/step - loss: 151.6821 - val_loss: 1520.4594\n",
      "Epoch 333/500\n",
      "20/20 [==============================] - 0s 7ms/step - loss: 151.6824 - val_loss: 1520.4602\n",
      "Epoch 334/500\n",
      "20/20 [==============================] - 0s 7ms/step - loss: 151.6828 - val_loss: 1520.4603\n",
      "Epoch 335/500\n",
      "20/20 [==============================] - 0s 9ms/step - loss: 151.6831 - val_loss: 1520.4607\n",
      "Epoch 336/500\n",
      "20/20 [==============================] - 0s 7ms/step - loss: 151.6834 - val_loss: 1520.4609\n",
      "Epoch 337/500\n",
      "20/20 [==============================] - 0s 13ms/step - loss: 151.6837 - val_loss: 1520.4607\n",
      "Epoch 338/500\n",
      "20/20 [==============================] - 0s 6ms/step - loss: 151.6841 - val_loss: 1520.4609\n",
      "Epoch 339/500\n",
      "20/20 [==============================] - 0s 8ms/step - loss: 151.6844 - val_loss: 1520.4617\n",
      "Epoch 340/500\n",
      "20/20 [==============================] - 0s 5ms/step - loss: 151.6847 - val_loss: 1520.4620\n",
      "Epoch 341/500\n",
      "20/20 [==============================] - 0s 5ms/step - loss: 151.6850 - val_loss: 1520.4620\n",
      "Epoch 342/500\n",
      "20/20 [==============================] - 0s 5ms/step - loss: 151.6853 - val_loss: 1520.4617\n",
      "Epoch 343/500\n",
      "20/20 [==============================] - 0s 5ms/step - loss: 151.6856 - val_loss: 1520.4615\n",
      "Epoch 344/500\n",
      "20/20 [==============================] - 0s 6ms/step - loss: 151.6859 - val_loss: 1520.4612\n",
      "Epoch 345/500\n",
      "20/20 [==============================] - 0s 5ms/step - loss: 151.6862 - val_loss: 1520.4608\n",
      "Epoch 346/500\n",
      "20/20 [==============================] - 0s 4ms/step - loss: 151.6864 - val_loss: 1520.4607\n",
      "Epoch 347/500\n",
      "20/20 [==============================] - 0s 5ms/step - loss: 151.6867 - val_loss: 1520.4603\n",
      "Epoch 348/500\n",
      "20/20 [==============================] - 0s 6ms/step - loss: 151.6870 - val_loss: 1520.4596\n",
      "Epoch 349/500\n",
      "20/20 [==============================] - 0s 6ms/step - loss: 151.6872 - val_loss: 1520.4587\n",
      "Epoch 350/500\n",
      "20/20 [==============================] - 0s 5ms/step - loss: 151.6875 - val_loss: 1520.4583\n",
      "Epoch 351/500\n",
      "20/20 [==============================] - 0s 5ms/step - loss: 151.6878 - val_loss: 1520.4585\n",
      "Epoch 352/500\n",
      "20/20 [==============================] - 0s 5ms/step - loss: 151.6880 - val_loss: 1520.4578\n",
      "Epoch 353/500\n",
      "20/20 [==============================] - 0s 6ms/step - loss: 151.6883 - val_loss: 1520.4575\n",
      "Epoch 354/500\n",
      "20/20 [==============================] - 0s 6ms/step - loss: 151.6886 - val_loss: 1520.4570\n",
      "Epoch 355/500\n",
      "20/20 [==============================] - 0s 6ms/step - loss: 151.6888 - val_loss: 1520.4562\n",
      "Epoch 356/500\n",
      "20/20 [==============================] - 0s 5ms/step - loss: 151.6890 - val_loss: 1520.4557\n",
      "Epoch 357/500\n",
      "20/20 [==============================] - 0s 4ms/step - loss: 151.6893 - val_loss: 1520.4554\n",
      "Epoch 358/500\n",
      "20/20 [==============================] - 0s 5ms/step - loss: 151.6895 - val_loss: 1520.4548\n",
      "Epoch 359/500\n",
      "20/20 [==============================] - 0s 4ms/step - loss: 151.6897 - val_loss: 1520.4542\n",
      "Epoch 360/500\n",
      "20/20 [==============================] - 0s 4ms/step - loss: 151.6900 - val_loss: 1520.4541\n",
      "Epoch 361/500\n",
      "20/20 [==============================] - 0s 4ms/step - loss: 151.6902 - val_loss: 1520.4540\n",
      "Epoch 362/500\n",
      "20/20 [==============================] - 0s 4ms/step - loss: 151.6904 - val_loss: 1520.4532\n",
      "Epoch 363/500\n",
      "20/20 [==============================] - 0s 5ms/step - loss: 151.6906 - val_loss: 1520.4529\n",
      "Epoch 364/500\n",
      "20/20 [==============================] - 0s 5ms/step - loss: 151.6909 - val_loss: 1520.4529\n",
      "Epoch 365/500\n",
      "20/20 [==============================] - 0s 4ms/step - loss: 151.6910 - val_loss: 1520.4524\n",
      "Epoch 366/500\n",
      "20/20 [==============================] - 0s 4ms/step - loss: 151.6913 - val_loss: 1520.4523\n",
      "Epoch 367/500\n",
      "20/20 [==============================] - 0s 6ms/step - loss: 151.6914 - val_loss: 1520.4515\n",
      "Epoch 368/500\n",
      "20/20 [==============================] - 0s 5ms/step - loss: 151.6916 - val_loss: 1520.4509\n",
      "Epoch 369/500\n",
      "20/20 [==============================] - 0s 6ms/step - loss: 151.6918 - val_loss: 1520.4500\n",
      "Epoch 370/500\n",
      "20/20 [==============================] - 0s 4ms/step - loss: 151.6920 - val_loss: 1520.4491\n",
      "Epoch 371/500\n",
      "20/20 [==============================] - 0s 4ms/step - loss: 151.6923 - val_loss: 1520.4492\n",
      "Epoch 372/500\n",
      "20/20 [==============================] - 0s 5ms/step - loss: 151.6924 - val_loss: 1520.4487\n",
      "Epoch 373/500\n",
      "20/20 [==============================] - 0s 4ms/step - loss: 151.6926 - val_loss: 1520.4485\n",
      "Epoch 374/500\n",
      "20/20 [==============================] - 0s 11ms/step - loss: 151.6928 - val_loss: 1520.4484\n",
      "Epoch 375/500\n",
      "20/20 [==============================] - 0s 5ms/step - loss: 151.6930 - val_loss: 1520.4480\n",
      "Epoch 376/500\n",
      "20/20 [==============================] - 0s 5ms/step - loss: 151.6931 - val_loss: 1520.4476\n",
      "Epoch 377/500\n",
      "20/20 [==============================] - 0s 5ms/step - loss: 151.6933 - val_loss: 1520.4473\n",
      "Epoch 378/500\n",
      "20/20 [==============================] - 0s 5ms/step - loss: 151.6934 - val_loss: 1520.4465\n",
      "Epoch 379/500\n",
      "20/20 [==============================] - 0s 5ms/step - loss: 151.6936 - val_loss: 1520.4456\n",
      "Epoch 380/500\n",
      "20/20 [==============================] - 0s 5ms/step - loss: 151.6938 - val_loss: 1520.4454\n",
      "Epoch 381/500\n",
      "20/20 [==============================] - 0s 4ms/step - loss: 151.6939 - val_loss: 1520.4451\n",
      "Epoch 382/500\n",
      "20/20 [==============================] - 0s 4ms/step - loss: 151.6941 - val_loss: 1520.4449\n",
      "Epoch 383/500\n",
      "20/20 [==============================] - 0s 4ms/step - loss: 151.6943 - val_loss: 1520.4445\n",
      "Epoch 384/500\n",
      "20/20 [==============================] - 0s 4ms/step - loss: 151.6944 - val_loss: 1520.4442\n",
      "Epoch 385/500\n",
      "20/20 [==============================] - 0s 5ms/step - loss: 151.6946 - val_loss: 1520.4441\n",
      "Epoch 386/500\n",
      "20/20 [==============================] - 0s 5ms/step - loss: 151.6947 - val_loss: 1520.4434\n",
      "Epoch 387/500\n",
      "20/20 [==============================] - 0s 4ms/step - loss: 151.6949 - val_loss: 1520.4434\n",
      "Epoch 388/500\n",
      "20/20 [==============================] - 0s 4ms/step - loss: 151.6950 - val_loss: 1520.4431\n",
      "Epoch 389/500\n",
      "20/20 [==============================] - 0s 6ms/step - loss: 151.6951 - val_loss: 1520.4427\n",
      "Epoch 390/500\n",
      "20/20 [==============================] - 0s 4ms/step - loss: 151.6953 - val_loss: 1520.4426\n",
      "Epoch 391/500\n",
      "20/20 [==============================] - 0s 4ms/step - loss: 151.6953 - val_loss: 1520.4420\n",
      "Epoch 392/500\n",
      "20/20 [==============================] - 0s 4ms/step - loss: 151.6955 - val_loss: 1520.4410\n",
      "Epoch 393/500\n",
      "20/20 [==============================] - 0s 4ms/step - loss: 151.6956 - val_loss: 1520.4404\n",
      "Epoch 394/500\n",
      "20/20 [==============================] - 0s 4ms/step - loss: 151.6957 - val_loss: 1520.4401\n",
      "Epoch 395/500\n",
      "20/20 [==============================] - 0s 5ms/step - loss: 151.6959 - val_loss: 1520.4393\n",
      "Epoch 396/500\n",
      "20/20 [==============================] - 0s 4ms/step - loss: 151.6960 - val_loss: 1520.4382\n",
      "Epoch 397/500\n",
      "20/20 [==============================] - 0s 4ms/step - loss: 151.6962 - val_loss: 1520.4382\n",
      "Epoch 398/500\n",
      "20/20 [==============================] - 0s 5ms/step - loss: 151.6963 - val_loss: 1520.4379\n",
      "Epoch 399/500\n",
      "20/20 [==============================] - 0s 5ms/step - loss: 151.6963 - val_loss: 1520.4373\n",
      "Epoch 400/500\n",
      "20/20 [==============================] - 0s 5ms/step - loss: 151.6965 - val_loss: 1520.4368\n",
      "Epoch 401/500\n",
      "20/20 [==============================] - 0s 5ms/step - loss: 151.6965 - val_loss: 1520.4364\n",
      "Epoch 402/500\n",
      "20/20 [==============================] - 0s 12ms/step - loss: 151.6967 - val_loss: 1520.4362\n",
      "Epoch 403/500\n",
      "20/20 [==============================] - 0s 5ms/step - loss: 151.6968 - val_loss: 1520.4358\n",
      "Epoch 404/500\n",
      "20/20 [==============================] - 0s 7ms/step - loss: 151.6969 - val_loss: 1520.4351\n",
      "Epoch 405/500\n",
      "20/20 [==============================] - 0s 6ms/step - loss: 151.6970 - val_loss: 1520.4346\n",
      "Epoch 406/500\n",
      "20/20 [==============================] - 0s 6ms/step - loss: 151.6971 - val_loss: 1520.4343\n",
      "Epoch 407/500\n",
      "20/20 [==============================] - 0s 5ms/step - loss: 151.6972 - val_loss: 1520.4332\n",
      "Epoch 408/500\n",
      "20/20 [==============================] - 0s 5ms/step - loss: 151.6973 - val_loss: 1520.4332\n",
      "Epoch 409/500\n",
      "20/20 [==============================] - 0s 5ms/step - loss: 151.6974 - val_loss: 1520.4330\n",
      "Epoch 410/500\n",
      "20/20 [==============================] - 0s 4ms/step - loss: 151.6975 - val_loss: 1520.4321\n",
      "Epoch 411/500\n",
      "20/20 [==============================] - 0s 4ms/step - loss: 151.6976 - val_loss: 1520.4315\n",
      "Epoch 412/500\n",
      "20/20 [==============================] - 0s 4ms/step - loss: 151.6977 - val_loss: 1520.4314\n",
      "Epoch 413/500\n",
      "20/20 [==============================] - 0s 7ms/step - loss: 151.6977 - val_loss: 1520.4310\n",
      "Epoch 414/500\n",
      "20/20 [==============================] - 0s 4ms/step - loss: 151.6979 - val_loss: 1520.4314\n",
      "Epoch 415/500\n",
      "20/20 [==============================] - 0s 4ms/step - loss: 151.6980 - val_loss: 1520.4314\n",
      "Epoch 416/500\n",
      "20/20 [==============================] - 0s 4ms/step - loss: 151.6980 - val_loss: 1520.4310\n",
      "Epoch 417/500\n",
      "20/20 [==============================] - 0s 4ms/step - loss: 151.6981 - val_loss: 1520.4305\n",
      "Epoch 418/500\n",
      "20/20 [==============================] - 0s 4ms/step - loss: 151.6981 - val_loss: 1520.4294\n",
      "Epoch 419/500\n",
      "20/20 [==============================] - 0s 4ms/step - loss: 151.6983 - val_loss: 1520.4303\n",
      "Epoch 420/500\n",
      "20/20 [==============================] - 0s 5ms/step - loss: 151.6984 - val_loss: 1520.4299\n",
      "Epoch 421/500\n",
      "20/20 [==============================] - 0s 5ms/step - loss: 151.6984 - val_loss: 1520.4293\n",
      "Epoch 422/500\n",
      "20/20 [==============================] - 0s 5ms/step - loss: 151.6985 - val_loss: 1520.4290\n",
      "Epoch 423/500\n",
      "20/20 [==============================] - 0s 4ms/step - loss: 151.6986 - val_loss: 1520.4292\n",
      "Epoch 424/500\n",
      "20/20 [==============================] - 0s 4ms/step - loss: 151.6986 - val_loss: 1520.4290\n",
      "Epoch 425/500\n",
      "20/20 [==============================] - 0s 5ms/step - loss: 151.6987 - val_loss: 1520.4285\n",
      "Epoch 426/500\n",
      "20/20 [==============================] - 0s 5ms/step - loss: 151.6987 - val_loss: 1520.4281\n",
      "Epoch 427/500\n",
      "20/20 [==============================] - 0s 5ms/step - loss: 151.6988 - val_loss: 1520.4276\n",
      "Epoch 428/500\n",
      "20/20 [==============================] - 0s 12ms/step - loss: 151.6989 - val_loss: 1520.4274\n",
      "Epoch 429/500\n",
      "20/20 [==============================] - 0s 5ms/step - loss: 151.6989 - val_loss: 1520.4266\n",
      "Epoch 430/500\n",
      "20/20 [==============================] - 0s 6ms/step - loss: 151.6990 - val_loss: 1520.4266\n",
      "Epoch 431/500\n",
      "20/20 [==============================] - 0s 5ms/step - loss: 151.6991 - val_loss: 1520.4266\n",
      "Epoch 432/500\n",
      "20/20 [==============================] - 0s 5ms/step - loss: 151.6991 - val_loss: 1520.4263\n",
      "Epoch 433/500\n",
      "20/20 [==============================] - 0s 5ms/step - loss: 151.6992 - val_loss: 1520.4264\n",
      "Epoch 434/500\n",
      "20/20 [==============================] - 0s 5ms/step - loss: 151.6992 - val_loss: 1520.4263\n",
      "Epoch 435/500\n",
      "20/20 [==============================] - 0s 5ms/step - loss: 151.6993 - val_loss: 1520.4260\n",
      "Epoch 436/500\n",
      "20/20 [==============================] - 0s 5ms/step - loss: 151.6994 - val_loss: 1520.4255\n",
      "Epoch 437/500\n",
      "20/20 [==============================] - 0s 4ms/step - loss: 151.6994 - val_loss: 1520.4246\n",
      "Epoch 438/500\n",
      "20/20 [==============================] - 0s 4ms/step - loss: 151.6995 - val_loss: 1520.4237\n",
      "Epoch 439/500\n",
      "20/20 [==============================] - 0s 5ms/step - loss: 151.6996 - val_loss: 1520.4240\n",
      "Epoch 440/500\n",
      "20/20 [==============================] - 0s 4ms/step - loss: 151.6997 - val_loss: 1520.4249\n",
      "Epoch 441/500\n",
      "20/20 [==============================] - 0s 5ms/step - loss: 151.6997 - val_loss: 1520.4250\n",
      "Epoch 442/500\n",
      "20/20 [==============================] - 0s 4ms/step - loss: 151.6997 - val_loss: 1520.4250\n",
      "Epoch 443/500\n",
      "20/20 [==============================] - 0s 4ms/step - loss: 151.6997 - val_loss: 1520.4246\n",
      "Epoch 444/500\n",
      "20/20 [==============================] - 0s 4ms/step - loss: 151.6998 - val_loss: 1520.4246\n",
      "Epoch 445/500\n",
      "20/20 [==============================] - 0s 4ms/step - loss: 151.6999 - val_loss: 1520.4243\n",
      "Epoch 446/500\n",
      "20/20 [==============================] - 0s 5ms/step - loss: 151.6999 - val_loss: 1520.4242\n",
      "Epoch 447/500\n",
      "20/20 [==============================] - 0s 5ms/step - loss: 151.7000 - val_loss: 1520.4242\n",
      "Epoch 448/500\n",
      "20/20 [==============================] - 0s 5ms/step - loss: 151.7000 - val_loss: 1520.4242\n",
      "Epoch 449/500\n",
      "20/20 [==============================] - 0s 5ms/step - loss: 151.7000 - val_loss: 1520.4241\n",
      "Epoch 450/500\n",
      "20/20 [==============================] - 0s 4ms/step - loss: 151.7001 - val_loss: 1520.4242\n",
      "Epoch 451/500\n",
      "20/20 [==============================] - 0s 10ms/step - loss: 151.7001 - val_loss: 1520.4246\n",
      "Epoch 452/500\n",
      "20/20 [==============================] - 0s 5ms/step - loss: 151.7001 - val_loss: 1520.4242\n",
      "Epoch 453/500\n",
      "20/20 [==============================] - 0s 5ms/step - loss: 151.7002 - val_loss: 1520.4242\n",
      "Epoch 454/500\n",
      "20/20 [==============================] - 0s 5ms/step - loss: 151.7002 - val_loss: 1520.4238\n",
      "Epoch 455/500\n",
      "20/20 [==============================] - 0s 5ms/step - loss: 151.7002 - val_loss: 1520.4236\n",
      "Epoch 456/500\n",
      "20/20 [==============================] - 0s 5ms/step - loss: 151.7003 - val_loss: 1520.4231\n",
      "Epoch 457/500\n",
      "20/20 [==============================] - 0s 5ms/step - loss: 151.7003 - val_loss: 1520.4229\n",
      "Epoch 458/500\n",
      "20/20 [==============================] - 0s 5ms/step - loss: 151.7004 - val_loss: 1520.4226\n",
      "Epoch 459/500\n",
      "20/20 [==============================] - 0s 5ms/step - loss: 151.7004 - val_loss: 1520.4229\n",
      "Epoch 460/500\n",
      "20/20 [==============================] - 0s 4ms/step - loss: 151.7005 - val_loss: 1520.4231\n",
      "Epoch 461/500\n",
      "20/20 [==============================] - 0s 5ms/step - loss: 151.7005 - val_loss: 1520.4231\n",
      "Epoch 462/500\n",
      "20/20 [==============================] - 0s 4ms/step - loss: 151.7006 - val_loss: 1520.4231\n",
      "Epoch 463/500\n",
      "20/20 [==============================] - 0s 4ms/step - loss: 151.7006 - val_loss: 1520.4231\n",
      "Epoch 464/500\n",
      "20/20 [==============================] - 0s 4ms/step - loss: 151.7006 - val_loss: 1520.4230\n",
      "Epoch 465/500\n",
      "20/20 [==============================] - 0s 4ms/step - loss: 151.7006 - val_loss: 1520.4222\n",
      "Epoch 466/500\n",
      "20/20 [==============================] - 0s 5ms/step - loss: 151.7007 - val_loss: 1520.4216\n",
      "Epoch 467/500\n",
      "20/20 [==============================] - 0s 4ms/step - loss: 151.7007 - val_loss: 1520.4211\n",
      "Epoch 468/500\n",
      "20/20 [==============================] - 0s 4ms/step - loss: 151.7008 - val_loss: 1520.4209\n",
      "Epoch 469/500\n",
      "20/20 [==============================] - 0s 4ms/step - loss: 151.7008 - val_loss: 1520.4209\n",
      "Epoch 470/500\n",
      "20/20 [==============================] - 0s 4ms/step - loss: 151.7009 - val_loss: 1520.4214\n",
      "Epoch 471/500\n",
      "20/20 [==============================] - 0s 4ms/step - loss: 151.7009 - val_loss: 1520.4214\n",
      "Epoch 472/500\n",
      "20/20 [==============================] - 0s 5ms/step - loss: 151.7009 - val_loss: 1520.4210\n",
      "Epoch 473/500\n",
      "20/20 [==============================] - 0s 5ms/step - loss: 151.7009 - val_loss: 1520.4213\n",
      "Epoch 474/500\n",
      "20/20 [==============================] - 0s 5ms/step - loss: 151.7010 - val_loss: 1520.4216\n",
      "Epoch 475/500\n",
      "20/20 [==============================] - 0s 9ms/step - loss: 151.7010 - val_loss: 1520.4211\n",
      "Epoch 476/500\n",
      "20/20 [==============================] - 0s 5ms/step - loss: 151.7010 - val_loss: 1520.4211\n",
      "Epoch 477/500\n",
      "20/20 [==============================] - 0s 5ms/step - loss: 151.7010 - val_loss: 1520.4211\n",
      "Epoch 478/500\n",
      "20/20 [==============================] - 0s 5ms/step - loss: 151.7010 - val_loss: 1520.4203\n",
      "Epoch 479/500\n",
      "20/20 [==============================] - 0s 5ms/step - loss: 151.7011 - val_loss: 1520.4199\n",
      "Epoch 480/500\n",
      "20/20 [==============================] - 0s 5ms/step - loss: 151.7010 - val_loss: 1520.4191\n",
      "Epoch 481/500\n",
      "20/20 [==============================] - 0s 5ms/step - loss: 151.7010 - val_loss: 1520.4187\n",
      "Epoch 482/500\n",
      "20/20 [==============================] - 0s 6ms/step - loss: 151.7011 - val_loss: 1520.4187\n",
      "Epoch 483/500\n",
      "20/20 [==============================] - 0s 6ms/step - loss: 151.7012 - val_loss: 1520.4187\n",
      "Epoch 484/500\n",
      "20/20 [==============================] - 0s 5ms/step - loss: 151.7012 - val_loss: 1520.4187\n",
      "Epoch 485/500\n",
      "20/20 [==============================] - 0s 4ms/step - loss: 151.7012 - val_loss: 1520.4187\n",
      "Epoch 486/500\n",
      "20/20 [==============================] - 0s 5ms/step - loss: 151.7012 - val_loss: 1520.4187\n",
      "Epoch 487/500\n",
      "20/20 [==============================] - 0s 4ms/step - loss: 151.7012 - val_loss: 1520.4187\n",
      "Epoch 488/500\n",
      "20/20 [==============================] - 0s 4ms/step - loss: 151.7012 - val_loss: 1520.4185\n",
      "Epoch 489/500\n",
      "20/20 [==============================] - 0s 5ms/step - loss: 151.7013 - val_loss: 1520.4182\n",
      "Epoch 490/500\n",
      "20/20 [==============================] - 0s 5ms/step - loss: 151.7014 - val_loss: 1520.4187\n",
      "Epoch 491/500\n",
      "20/20 [==============================] - 0s 4ms/step - loss: 151.7014 - val_loss: 1520.4194\n",
      "Epoch 492/500\n",
      "20/20 [==============================] - 0s 5ms/step - loss: 151.7014 - val_loss: 1520.4199\n",
      "Epoch 493/500\n",
      "20/20 [==============================] - 0s 4ms/step - loss: 151.7014 - val_loss: 1520.4197\n",
      "Epoch 494/500\n",
      "20/20 [==============================] - 0s 4ms/step - loss: 151.7014 - val_loss: 1520.4196\n",
      "Epoch 495/500\n",
      "20/20 [==============================] - 0s 12ms/step - loss: 151.7014 - val_loss: 1520.4196\n",
      "Epoch 496/500\n",
      "20/20 [==============================] - 0s 6ms/step - loss: 151.7014 - val_loss: 1520.4196\n",
      "Epoch 497/500\n",
      "20/20 [==============================] - 0s 5ms/step - loss: 151.7014 - val_loss: 1520.4196\n",
      "Epoch 498/500\n",
      "20/20 [==============================] - 0s 5ms/step - loss: 151.7014 - val_loss: 1520.4196\n",
      "Epoch 499/500\n",
      "20/20 [==============================] - 0s 5ms/step - loss: 151.7014 - val_loss: 1520.4196\n",
      "Epoch 500/500\n",
      "20/20 [==============================] - 0s 5ms/step - loss: 151.7014 - val_loss: 1520.4192\n"
     ]
    }
   ],
   "source": [
    "C0 = tf.Variable(86.6465, name=\"C0\", trainable=True, dtype=tf.float32)\n",
    "K0 = tf.Variable(-0.0029, name=\"K0\", trainable=True, dtype=tf.float32)\n",
    "K1 = tf.Variable(-0.0003, name=\"K1\", trainable=True, dtype=tf.float32)\n",
    "a = tf.Variable(0.0000, name=\"a\", trainable=True, dtype=tf.float32)\n",
    "b = tf.Variable(0.0168, name=\"b\", trainable=True, dtype=tf.float32)\n",
    "c = tf.Variable(2.3581, name=\"c\", trainable=True, dtype=tf.float32)\n",
    "\n",
    "splitr = 0.8\n",
    "\n",
    "\n",
    "def loss_fn(y_true, y_pred):\n",
    "    squared_difference = tf.square(y_true[:, 0] - y_pred[:, 0])\n",
    "    #squared_difference2 = tf.square(y_true[:, 2]-y_pred[:, 2])\n",
    "    #squared_difference1 = tf.square(y_true[:, 1]-y_pred[:, 1])\n",
    "    epsilon = 1\n",
    "    squared_difference3 = tf.square(\n",
    "        y_pred[:, 1] - (\n",
    "            y_pred[:, 0] * (\n",
    "                K0 - K1 * (\n",
    "                    9 * a * tf.math.log((y_pred[:, 0] + epsilon) / C0) / (K0 - K1 * c)**2 +\n",
    "                    4 * b * tf.math.log((y_pred[:, 0] + epsilon) / C0) / (K0 - K1 * c) + c\n",
    "                )\n",
    "            )\n",
    "        )\n",
    "    )\n",
    "    return tf.reduce_mean(squared_difference, axis=-1) + 0.2*tf.reduce_mean(squared_difference3, axis=-1)\n",
    "model = Sequential()\n",
    "model.add(LSTM(100, input_shape=(trainX.shape[1], trainX.shape[2])))\n",
    "model.add(Dense(60))\n",
    "model.compile(loss=loss_fn, optimizer='adam')\n",
    "history = model.fit(trainX[:int(splitr*trainX.shape[0])], trainy[:int(splitr*trainX.shape[0])], epochs=500, batch_size=64, validation_data=(trainX[int(splitr*trainX.shape[0]):trainX.shape[0]], trainy[int(splitr*trainX.shape[0]):trainX.shape[0]]), shuffle=False)"
   ]
  },
  {
   "cell_type": "code",
   "execution_count": 19,
   "metadata": {
    "colab": {
     "base_uri": "https://localhost:8080/"
    },
    "id": "yJL101rPyuoT",
    "outputId": "239ff2b1-c186-423a-d316-939dfdd7c793"
   },
   "outputs": [
    {
     "name": "stdout",
     "output_type": "stream",
     "text": [
      "1/1 [==============================] - 0s 428ms/step\n"
     ]
    }
   ],
   "source": [
    "forecast_without_mc = forecastX\n",
    "yhat_without_mc = model.predict(forecast_without_mc) # Step Ahead Prediction\n",
    "forecast_without_mc = forecast_without_mc.reshape((forecast_without_mc.shape[0], forecast_without_mc.shape[2])) # Historical Input"
   ]
  },
  {
   "cell_type": "code",
   "execution_count": 20,
   "metadata": {
    "colab": {
     "base_uri": "https://localhost:8080/"
    },
    "id": "g9dQELcJ8wbp",
    "outputId": "4dc7671b-b1a8-48d5-8744-a86f98446109"
   },
   "outputs": [
    {
     "data": {
      "text/plain": [
       "(1, 1, 251)"
      ]
     },
     "execution_count": 20,
     "metadata": {},
     "output_type": "execute_result"
    }
   ],
   "source": [
    "forecastX.shape"
   ]
  },
  {
   "cell_type": "code",
   "execution_count": 21,
   "metadata": {
    "colab": {
     "base_uri": "https://localhost:8080/"
    },
    "id": "IS2kyIKG1Kbr",
    "outputId": "f31b3485-8e26-452f-9298-ea8bf7e80ad1"
   },
   "outputs": [
    {
     "data": {
      "text/plain": [
       "(1, 251)"
      ]
     },
     "execution_count": 21,
     "metadata": {},
     "output_type": "execute_result"
    }
   ],
   "source": [
    "forecast_without_mc.shape"
   ]
  },
  {
   "cell_type": "code",
   "execution_count": 22,
   "metadata": {
    "id": "0u6VIzaDyuoT"
   },
   "outputs": [],
   "source": [
    "inv_yhat_without_mc = np.concatenate((forecast_without_mc, yhat_without_mc), axis=1) # Concatenation of predicted values with Historical Data\n",
    "#inv_yhat_without_mc = scaler.inverse_transform(inv_yhat_without_mc) # Transform labels back to original encoding"
   ]
  },
  {
   "cell_type": "code",
   "execution_count": 23,
   "metadata": {
    "colab": {
     "base_uri": "https://localhost:8080/"
    },
    "id": "EUEcw0LX07oU",
    "outputId": "cfc32397-9c37-4b43-d087-584bb31c3dcc"
   },
   "outputs": [
    {
     "data": {
      "text/plain": [
       "(1, 311)"
      ]
     },
     "execution_count": 23,
     "metadata": {},
     "output_type": "execute_result"
    }
   ],
   "source": [
    "inv_yhat_without_mc.shape"
   ]
  },
  {
   "cell_type": "code",
   "execution_count": 24,
   "metadata": {
    "id": "31OWVbSh_305"
   },
   "outputs": [],
   "source": [
    "fforecast = inv_yhat_without_mc[:,-300:]"
   ]
  },
  {
   "cell_type": "code",
   "execution_count": 25,
   "metadata": {},
   "outputs": [
    {
     "data": {
      "text/plain": [
       "(1, 300)"
      ]
     },
     "execution_count": 25,
     "metadata": {},
     "output_type": "execute_result"
    }
   ],
   "source": [
    "fforecast.shape"
   ]
  },
  {
   "cell_type": "code",
   "execution_count": 26,
   "metadata": {
    "id": "BlpGH2FOAiRF"
   },
   "outputs": [],
   "source": [
    "final_forecast = fforecast[:,0:300:3]"
   ]
  },
  {
   "cell_type": "code",
   "execution_count": 27,
   "metadata": {},
   "outputs": [
    {
     "data": {
      "text/plain": [
       "(1, 300)"
      ]
     },
     "execution_count": 27,
     "metadata": {},
     "output_type": "execute_result"
    }
   ],
   "source": [
    "fforecast.shape"
   ]
  },
  {
   "cell_type": "code",
   "execution_count": 28,
   "metadata": {
    "id": "CXkgkj_LBk_t"
   },
   "outputs": [],
   "source": [
    "# code to replace all negative value with 0\n",
    "final_forecast[final_forecast<0] = 0"
   ]
  },
  {
   "cell_type": "code",
   "execution_count": 29,
   "metadata": {},
   "outputs": [
    {
     "data": {
      "text/plain": [
       "array([[6.60277778e+01, 6.55513539e+01, 6.50471522e+01, 6.45429505e+01,\n",
       "        2.12059259e-01, 0.00000000e+00, 6.47768097e+01, 0.00000000e+00,\n",
       "        0.00000000e+00, 5.14163600e-02, 7.00916350e-01, 1.07869007e-01,\n",
       "        0.00000000e+00, 6.29485294e+01, 6.28728992e+01, 6.27972689e+01,\n",
       "        6.27216387e+01, 6.26460084e+01, 6.71233660e+01, 6.69241363e+01,\n",
       "        6.66720355e+01, 6.64199346e+01, 6.61678338e+01, 6.58314659e+01,\n",
       "        6.53272642e+01, 6.48230626e+01, 6.43188609e+01, 0.00000000e+00,\n",
       "        0.00000000e+00, 6.62705416e+01, 6.60184407e+01, 6.55326797e+01,\n",
       "        6.50284781e+01, 6.45242764e+01, 6.40200747e+01, 6.38305556e+01,\n",
       "        6.36540850e+01, 6.34776144e+01, 4.98692630e-01, 0.00000000e+00,\n",
       "        3.31525650e-01, 1.79073750e-01, 2.56005290e-01, 0.00000000e+00,\n",
       "        5.79469680e-01, 8.75697080e-01, 0.00000000e+00, 6.49351074e+01,\n",
       "        6.44309057e+01, 1.77230373e-01, 3.30429226e-01, 6.63265640e+01,\n",
       "        6.60744631e+01, 6.56447246e+01, 6.51405229e+01, 6.46363212e+01,\n",
       "        6.41321195e+01, 6.38697712e+01, 6.36933006e+01, 6.35168301e+01,\n",
       "        1.33905920e-01, 0.00000000e+00, 6.48417367e+01, 6.43375350e+01,\n",
       "        6.39416667e+01, 6.37651961e+01, 6.35887255e+01, 6.34122549e+01,\n",
       "        6.32174370e+01, 6.29905462e+01, 6.27636555e+01, 0.00000000e+00,\n",
       "        0.00000000e+00, 4.86183548e+01, 3.13404799e-01, 0.00000000e+00,\n",
       "        3.86705041e-01, 9.37583506e-01, 0.00000000e+00, 3.48090291e-01,\n",
       "        5.19139481e+01, 1.46646932e-01, 0.00000000e+00, 0.00000000e+00,\n",
       "        0.00000000e+00, 0.00000000e+00, 0.00000000e+00, 7.51520932e-01,\n",
       "        3.18333983e-01, 1.72283322e-01, 2.85519928e-01, 0.00000000e+00,\n",
       "        7.70777315e-02, 1.73989180e-02, 0.00000000e+00, 0.00000000e+00,\n",
       "        0.00000000e+00, 0.00000000e+00, 0.00000000e+00, 0.00000000e+00]])"
      ]
     },
     "execution_count": 29,
     "metadata": {},
     "output_type": "execute_result"
    }
   ],
   "source": [
    "final_forecast"
   ]
  },
  {
   "cell_type": "code",
   "execution_count": 30,
   "metadata": {},
   "outputs": [
    {
     "data": {
      "text/plain": [
       "(1, 100)"
      ]
     },
     "execution_count": 30,
     "metadata": {},
     "output_type": "execute_result"
    }
   ],
   "source": [
    "final_forecast.shape"
   ]
  },
  {
   "cell_type": "code",
   "execution_count": 31,
   "metadata": {},
   "outputs": [
    {
     "data": {
      "text/plain": [
       "(100,)"
      ]
     },
     "execution_count": 31,
     "metadata": {},
     "output_type": "execute_result"
    }
   ],
   "source": [
    "test.shape"
   ]
  },
  {
   "cell_type": "code",
   "execution_count": 32,
   "metadata": {},
   "outputs": [],
   "source": [
    "training_set = np.array(training_set)\n",
    "test = np.array(test)\n",
    "final_forecast = np.array(final_forecast.squeeze(0))"
   ]
  },
  {
   "cell_type": "code",
   "execution_count": 33,
   "metadata": {},
   "outputs": [
    {
     "data": {
      "text/plain": [
       "array([56.71865079, 56.70277778, 56.68690476, 56.67103175, 56.65515873,\n",
       "       56.63928571, 56.6234127 , 56.60753968, 56.59166667, 56.57579365,\n",
       "       56.55992063, 56.54404762, 56.5281746 , 56.51230159, 56.49642857,\n",
       "       56.48055556, 56.46468254, 56.44880952, 56.43293651, 56.41706349,\n",
       "       56.40119048, 56.38531746, 56.36944444, 56.35357143, 56.33769841,\n",
       "       56.3218254 , 56.30595238, 56.29007937, 56.27420635, 56.25833333,\n",
       "       56.24246032, 56.2265873 , 56.21071429, 56.19484127, 56.17896825,\n",
       "       56.16309524, 56.14722222, 56.13134921, 56.11547619, 56.09960317,\n",
       "       56.08373016, 56.06785714, 56.05198413, 56.03611111, 56.0202381 ,\n",
       "       56.00436508, 55.98849206, 55.97261905, 55.95674603, 55.94087302,\n",
       "       55.925     , 55.90912698, 55.89325397, 55.87738095, 55.86150794,\n",
       "       55.84563492, 55.8297619 , 55.81388889, 55.79801587, 55.78214286,\n",
       "       55.76626984, 55.75039683, 55.73452381, 55.71865079, 55.70277778,\n",
       "       55.68690476, 55.67103175, 55.65515873, 55.63928571, 55.6234127 ,\n",
       "       55.60753968, 55.59166667, 55.57579365, 55.55992063, 55.54404762,\n",
       "       55.5281746 , 55.51230159, 55.49642857, 55.48055556, 55.46468254,\n",
       "       55.44880952, 55.43293651, 55.41706349, 55.40119048, 55.39191091,\n",
       "       55.38316595, 55.37442099, 55.36567603, 55.35693107, 55.3481861 ,\n",
       "       55.33944114, 55.33069618, 55.32195122, 55.31320626, 55.3044613 ,\n",
       "       55.29571634, 55.28697137, 55.27822641, 55.26948145, 55.26073649])"
      ]
     },
     "execution_count": 33,
     "metadata": {},
     "output_type": "execute_result"
    }
   ],
   "source": [
    "test"
   ]
  },
  {
   "cell_type": "code",
   "execution_count": 34,
   "metadata": {},
   "outputs": [
    {
     "data": {
      "text/plain": [
       "(100,)"
      ]
     },
     "execution_count": 34,
     "metadata": {},
     "output_type": "execute_result"
    }
   ],
   "source": [
    "test.shape"
   ]
  },
  {
   "cell_type": "code",
   "execution_count": 35,
   "metadata": {},
   "outputs": [
    {
     "data": {
      "text/plain": [
       "(100,)"
      ]
     },
     "execution_count": 35,
     "metadata": {},
     "output_type": "execute_result"
    }
   ],
   "source": [
    "final_forecast.shape"
   ]
  },
  {
   "cell_type": "code",
   "execution_count": 36,
   "metadata": {},
   "outputs": [
    {
     "data": {
      "text/plain": [
       "(100,)"
      ]
     },
     "execution_count": 36,
     "metadata": {},
     "output_type": "execute_result"
    }
   ],
   "source": [
    "test.shape"
   ]
  },
  {
   "cell_type": "code",
   "execution_count": 37,
   "metadata": {},
   "outputs": [
    {
     "name": "stdout",
     "output_type": "stream",
     "text": [
      "39.77684992641679\n",
      "31.977628479931116\n"
     ]
    }
   ],
   "source": [
    "import math\n",
    "MSE = np.square(np.subtract(np.array(test),np.array(final_forecast))).mean()   \n",
    "rsme = math.sqrt(MSE)\n",
    "print(rsme)  \n",
    "MAE = np.abs(np.subtract(np.array(test),np.array(final_forecast))).mean()   \n",
    "mae = MAE\n",
    "print(mae)"
   ]
  }
 ],
 "metadata": {
  "colab": {
   "provenance": []
  },
  "kernelspec": {
   "display_name": "Python 3",
   "language": "python",
   "name": "python3"
  },
  "language_info": {
   "codemirror_mode": {
    "name": "ipython",
    "version": 3
   },
   "file_extension": ".py",
   "mimetype": "text/x-python",
   "name": "python",
   "nbconvert_exporter": "python",
   "pygments_lexer": "ipython3",
   "version": "3.9.13"
  }
 },
 "nbformat": 4,
 "nbformat_minor": 0
}
