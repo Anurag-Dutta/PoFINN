{
 "cells": [
  {
   "cell_type": "markdown",
   "metadata": {
    "id": "pCGKeZ2gyuoQ"
   },
   "source": [
    "_Importing Required Libraries_"
   ]
  },
  {
   "cell_type": "code",
   "execution_count": 1,
   "metadata": {
    "colab": {
     "base_uri": "https://localhost:8080/"
    },
    "id": "A-6LN-zXiLcM",
    "outputId": "4de610a4-f8b8-4f49-c6c0-89de299ccedc"
   },
   "outputs": [
    {
     "name": "stdout",
     "output_type": "stream",
     "text": [
      "Requirement already satisfied: hampel in c:\\users\\anurag dutta\\appdata\\local\\packages\\pythonsoftwarefoundation.python.3.9_qbz5n2kfra8p0\\localcache\\local-packages\\python39\\site-packages (0.0.5)\n",
      "Requirement already satisfied: numpy in c:\\users\\anurag dutta\\appdata\\local\\packages\\pythonsoftwarefoundation.python.3.9_qbz5n2kfra8p0\\localcache\\local-packages\\python39\\site-packages (from hampel) (1.26.4)\n",
      "Requirement already satisfied: pandas in c:\\users\\anurag dutta\\appdata\\local\\packages\\pythonsoftwarefoundation.python.3.9_qbz5n2kfra8p0\\localcache\\local-packages\\python39\\site-packages (from hampel) (1.5.2)\n",
      "Requirement already satisfied: python-dateutil>=2.8.1 in c:\\users\\anurag dutta\\appdata\\local\\packages\\pythonsoftwarefoundation.python.3.9_qbz5n2kfra8p0\\localcache\\local-packages\\python39\\site-packages (from pandas->hampel) (2.8.2)\n",
      "Requirement already satisfied: pytz>=2020.1 in c:\\users\\anurag dutta\\appdata\\local\\packages\\pythonsoftwarefoundation.python.3.9_qbz5n2kfra8p0\\localcache\\local-packages\\python39\\site-packages (from pandas->hampel) (2023.3.post1)\n",
      "Requirement already satisfied: six>=1.5 in c:\\users\\anurag dutta\\appdata\\local\\packages\\pythonsoftwarefoundation.python.3.9_qbz5n2kfra8p0\\localcache\\local-packages\\python39\\site-packages (from python-dateutil>=2.8.1->pandas->hampel) (1.16.0)\n",
      "Note: you may need to restart the kernel to use updated packages.\n"
     ]
    },
    {
     "name": "stderr",
     "output_type": "stream",
     "text": [
      "\n",
      "[notice] A new release of pip is available: 24.2 -> 24.3.1\n",
      "[notice] To update, run: C:\\Users\\Anurag Dutta\\AppData\\Local\\Microsoft\\WindowsApps\\PythonSoftwareFoundation.Python.3.9_qbz5n2kfra8p0\\python.exe -m pip install --upgrade pip\n"
     ]
    }
   ],
   "source": [
    "pip install hampel"
   ]
  },
  {
   "cell_type": "code",
   "execution_count": 2,
   "metadata": {
    "id": "By_d9uXpaFvZ"
   },
   "outputs": [],
   "source": [
    "from keras.models import Sequential\n",
    "from keras.layers import Dense\n",
    "from keras.layers import LSTM\n",
    "from keras.layers import Dropout\n",
    "import keras\n",
    "import tensorflow as tf\n",
    "from hampel import hampel\n",
    "import numpy as np\n",
    "import matplotlib.pyplot as plt\n",
    "import pandas as pd\n",
    "from sklearn.preprocessing import MinMaxScaler\n",
    "from sklearn.metrics import mean_squared_error, mean_absolute_error\n",
    "from math import sqrt\n",
    "from matplotlib import pyplot\n",
    "from numpy import array"
   ]
  },
  {
   "cell_type": "markdown",
   "metadata": {
    "id": "JyOjBMFayuoR"
   },
   "source": [
    "## Pretraining"
   ]
  },
  {
   "cell_type": "markdown",
   "metadata": {
    "id": "-5QqIY_GyuoR"
   },
   "source": [
    "The `capa_intermittency.dat` feeds the model with the dynamics of the Capacitor"
   ]
  },
  {
   "cell_type": "code",
   "execution_count": 3,
   "metadata": {
    "id": "9dV4a8yfyuoR"
   },
   "outputs": [],
   "source": [
    "data = np.genfromtxt('capa_intermittency.dat')\n",
    "training_set = pd.DataFrame(data).reset_index(drop=True)\n",
    "training_set = training_set.iloc[:,0]"
   ]
  },
  {
   "cell_type": "markdown",
   "metadata": {
    "id": "i7easoxByuoR"
   },
   "source": [
    "## Computing the Gradient"
   ]
  },
  {
   "cell_type": "markdown",
   "metadata": {
    "id": "5SnyolJTyuoR"
   },
   "source": [
    "_Calculating the value of_ $\\frac{dx}{dt}$"
   ]
  },
  {
   "cell_type": "code",
   "execution_count": 4,
   "metadata": {
    "colab": {
     "base_uri": "https://localhost:8080/"
    },
    "id": "wmIbVfIvyuoR",
    "outputId": "aa4e3136-c854-465d-d2e9-81cfd546e440"
   },
   "outputs": [
    {
     "name": "stdout",
     "output_type": "stream",
     "text": [
      "1.0\n",
      "1        0.000298\n",
      "2        0.000298\n",
      "3        0.000297\n",
      "4        0.000297\n",
      "5        0.000297\n",
      "           ...   \n",
      "9996     0.000018\n",
      "9997     0.000018\n",
      "9998     0.000018\n",
      "9999     0.000018\n",
      "10000    0.000018\n",
      "Name: 0, Length: 10000, dtype: float64\n"
     ]
    }
   ],
   "source": [
    "t_diff = 1\n",
    "print(training_set.max())\n",
    "gradient_t = (training_set.diff()/t_diff).iloc[1:] # dx/dt\n",
    "print(gradient_t)"
   ]
  },
  {
   "cell_type": "markdown",
   "metadata": {
    "id": "_2eVeeoxyuoS"
   },
   "source": [
    "## Loading Datasets"
   ]
  },
  {
   "cell_type": "code",
   "execution_count": null,
   "metadata": {
    "id": "0J-NKyIEyuoS"
   },
   "outputs": [
    {
     "data": {
      "text/plain": [
       "0       89.200000\n",
       "1       88.931092\n",
       "2       88.662185\n",
       "3       88.393277\n",
       "4       88.124370\n",
       "          ...    \n",
       "2245    54.421220\n",
       "2246    54.412475\n",
       "2247    54.403730\n",
       "2248    54.394985\n",
       "2249    54.386240\n",
       "Name: C1, Length: 2250, dtype: float64"
      ]
     },
     "execution_count": 5,
     "metadata": {},
     "output_type": "execute_result"
    }
   ],
   "source": [
    "data = pd.read_csv(\"c1_interpolated_2150_100.csv\")\n",
    "training_set = data.iloc[:, 1]\n",
    "training_set"
   ]
  },
  {
   "cell_type": "code",
   "execution_count": 6,
   "metadata": {
    "colab": {
     "base_uri": "https://localhost:8080/"
    },
    "id": "-CbNUhJ74UqF",
    "outputId": "20f562d8-8247-49cc-b9c3-00eca5e13e2d"
   },
   "outputs": [
    {
     "data": {
      "text/plain": [
       "0       89.200000\n",
       "1       88.931092\n",
       "2       88.662185\n",
       "3       88.393277\n",
       "4       88.124370\n",
       "          ...    \n",
       "2145     0.000000\n",
       "2146     0.000000\n",
       "2147     0.000000\n",
       "2148     0.000000\n",
       "2149     0.000000\n",
       "Name: C1, Length: 2150, dtype: float64"
      ]
     },
     "execution_count": 6,
     "metadata": {},
     "output_type": "execute_result"
    }
   ],
   "source": [
    "test = training_set.tail(100)\n",
    "test\n",
    "training_set = training_set.head(2150)\n",
    "training_set"
   ]
  },
  {
   "cell_type": "code",
   "execution_count": 7,
   "metadata": {
    "colab": {
     "base_uri": "https://localhost:8080/"
    },
    "id": "X0TwTcq0yuoS",
    "outputId": "37252ed8-d88e-4044-fa7a-922411990b5b"
   },
   "outputs": [
    {
     "name": "stdout",
     "output_type": "stream",
     "text": [
      "0       0.000298\n",
      "1       0.000298\n",
      "2       0.000297\n",
      "3       0.000297\n",
      "4       0.000297\n",
      "          ...   \n",
      "9995    0.000018\n",
      "9996    0.000018\n",
      "9997    0.000018\n",
      "9998    0.000018\n",
      "9999    0.000018\n",
      "Name: 0, Length: 10000, dtype: float64\n"
     ]
    }
   ],
   "source": [
    "training_set = training_set.reset_index(drop=True)\n",
    "gradient_t = gradient_t.reset_index(drop=True)\n",
    "print(gradient_t)"
   ]
  },
  {
   "cell_type": "code",
   "execution_count": 8,
   "metadata": {
    "id": "O2biznZQyuoS"
   },
   "outputs": [],
   "source": [
    "df = pd.concat((training_set, gradient_t), axis=1)\n",
    "df.columns = ['y_t', 'grad_t']"
   ]
  },
  {
   "cell_type": "code",
   "execution_count": 9,
   "metadata": {
    "colab": {
     "base_uri": "https://localhost:8080/",
     "height": 423
    },
    "id": "sk_a5v3tyuoS",
    "outputId": "17563625-e550-45ae-faab-fafa353e44da"
   },
   "outputs": [
    {
     "data": {
      "text/html": [
       "<div>\n",
       "<style scoped>\n",
       "    .dataframe tbody tr th:only-of-type {\n",
       "        vertical-align: middle;\n",
       "    }\n",
       "\n",
       "    .dataframe tbody tr th {\n",
       "        vertical-align: top;\n",
       "    }\n",
       "\n",
       "    .dataframe thead th {\n",
       "        text-align: right;\n",
       "    }\n",
       "</style>\n",
       "<table border=\"1\" class=\"dataframe\">\n",
       "  <thead>\n",
       "    <tr style=\"text-align: right;\">\n",
       "      <th></th>\n",
       "      <th>y_t</th>\n",
       "      <th>grad_t</th>\n",
       "    </tr>\n",
       "  </thead>\n",
       "  <tbody>\n",
       "    <tr>\n",
       "      <th>0</th>\n",
       "      <td>89.200000</td>\n",
       "      <td>0.000298</td>\n",
       "    </tr>\n",
       "    <tr>\n",
       "      <th>1</th>\n",
       "      <td>88.931092</td>\n",
       "      <td>0.000298</td>\n",
       "    </tr>\n",
       "    <tr>\n",
       "      <th>2</th>\n",
       "      <td>88.662185</td>\n",
       "      <td>0.000297</td>\n",
       "    </tr>\n",
       "    <tr>\n",
       "      <th>3</th>\n",
       "      <td>88.393277</td>\n",
       "      <td>0.000297</td>\n",
       "    </tr>\n",
       "    <tr>\n",
       "      <th>4</th>\n",
       "      <td>88.124370</td>\n",
       "      <td>0.000297</td>\n",
       "    </tr>\n",
       "    <tr>\n",
       "      <th>...</th>\n",
       "      <td>...</td>\n",
       "      <td>...</td>\n",
       "    </tr>\n",
       "    <tr>\n",
       "      <th>9995</th>\n",
       "      <td>NaN</td>\n",
       "      <td>0.000018</td>\n",
       "    </tr>\n",
       "    <tr>\n",
       "      <th>9996</th>\n",
       "      <td>NaN</td>\n",
       "      <td>0.000018</td>\n",
       "    </tr>\n",
       "    <tr>\n",
       "      <th>9997</th>\n",
       "      <td>NaN</td>\n",
       "      <td>0.000018</td>\n",
       "    </tr>\n",
       "    <tr>\n",
       "      <th>9998</th>\n",
       "      <td>NaN</td>\n",
       "      <td>0.000018</td>\n",
       "    </tr>\n",
       "    <tr>\n",
       "      <th>9999</th>\n",
       "      <td>NaN</td>\n",
       "      <td>0.000018</td>\n",
       "    </tr>\n",
       "  </tbody>\n",
       "</table>\n",
       "<p>10000 rows × 2 columns</p>\n",
       "</div>"
      ],
      "text/plain": [
       "            y_t    grad_t\n",
       "0     89.200000  0.000298\n",
       "1     88.931092  0.000298\n",
       "2     88.662185  0.000297\n",
       "3     88.393277  0.000297\n",
       "4     88.124370  0.000297\n",
       "...         ...       ...\n",
       "9995        NaN  0.000018\n",
       "9996        NaN  0.000018\n",
       "9997        NaN  0.000018\n",
       "9998        NaN  0.000018\n",
       "9999        NaN  0.000018\n",
       "\n",
       "[10000 rows x 2 columns]"
      ]
     },
     "execution_count": 9,
     "metadata": {},
     "output_type": "execute_result"
    }
   ],
   "source": [
    "df"
   ]
  },
  {
   "cell_type": "markdown",
   "metadata": {
    "id": "-5esyHu5aFvg"
   },
   "source": [
    "## Plot of the External Forcing from Chaotic Differential Equation"
   ]
  },
  {
   "cell_type": "code",
   "execution_count": 10,
   "metadata": {
    "colab": {
     "base_uri": "https://localhost:8080/",
     "height": 447
    },
    "id": "hGnE43tOh-4p",
    "outputId": "fc396503-b624-4fa5-dfbe-f460207405c6"
   },
   "outputs": [
    {
     "data": {
      "text/plain": [
       "<Axes: >"
      ]
     },
     "execution_count": 10,
     "metadata": {},
     "output_type": "execute_result"
    },
    {
     "data": {
      "image/png": "[encoded data removed]",
      "text/plain": [
       "<Figure size 432x288 with 1 Axes>"
      ]
     },
     "metadata": {
      "needs_background": "light"
     },
     "output_type": "display_data"
    }
   ],
   "source": [
    "df.iloc[:, 0].plot()"
   ]
  },
  {
   "cell_type": "code",
   "execution_count": 11,
   "metadata": {
    "colab": {
     "base_uri": "https://localhost:8080/",
     "height": 447
    },
    "id": "ym4xWUUxaFvg",
    "outputId": "ae6a3495-8ce9-437e-ba81-3ed31deedeae"
   },
   "outputs": [
    {
     "name": "stderr",
     "output_type": "stream",
     "text": [
      "C:\\Users\\Anurag Dutta\\AppData\\Local\\Packages\\PythonSoftwareFoundation.Python.3.9_qbz5n2kfra8p0\\LocalCache\\local-packages\\Python39\\site-packages\\pandas\\core\\arraylike.py:402: RuntimeWarning: divide by zero encountered in log\n",
      "  result = getattr(ufunc, method)(*inputs, **kwargs)\n"
     ]
    },
    {
     "data": {
      "text/plain": [
       "<Axes: >"
      ]
     },
     "execution_count": 11,
     "metadata": {},
     "output_type": "execute_result"
    },
    {
     "data": {
      "image/png": "[encoded data removed]",
      "text/plain": [
       "<Figure size 432x288 with 1 Axes>"
      ]
     },
     "metadata": {
      "needs_background": "light"
     },
     "output_type": "display_data"
    }
   ],
   "source": [
    "import numpy as np\n",
    "c0 = 86.6465  # Value for C0\n",
    "K0 = -0.0029  # Value for K0\n",
    "K1 = -0.0003  # Value for K1\n",
    "a = 0.0000    # Value for a\n",
    "b = 0.0168    # Value for b\n",
    "c = 2.3581    # Value for c\n",
    "\n",
    "L = np.minimum(c0, (df.iloc[:, 1] - (df.iloc[:, 0] * (K0 - K1 * (9 * a * np.log(df.iloc[:, 0] / c0) / (K0 - K1 * c)**2 + 4 * b * np.log(df.iloc[:, 0] / c0) / (K0 - K1 * c) + c)))))\n",
    "L.plot()"
   ]
  },
  {
   "cell_type": "markdown",
   "metadata": {
    "id": "9VyEywnwaFvh"
   },
   "source": [
    "## Preprocessing the data into supervised learning"
   ]
  },
  {
   "cell_type": "code",
   "execution_count": 12,
   "metadata": {
    "id": "6V9dXqzdaFvh"
   },
   "outputs": [],
   "source": [
    "# split a sequence into samples\n",
    "def Supervised(data, n_in=1, n_out=1, dropnan=True):\n",
    "    n_vars = 1 if type(data) is list else data.shape[1]\n",
    "    df = pd.DataFrame(data)\n",
    "    cols, names = list(), list()\n",
    "    # input sequence (t-n_in, ... t-1)\n",
    "    for i in range(n_in, 0, -1):\n",
    "        cols.append(df.shift(i))\n",
    "        names += [('var%d(t-%d)' % (j+1, i)) for j in range(n_vars)]\n",
    "    # forecast sequence (t, t+1, ... t+n_out)\n",
    "    for i in range(0, n_out):\n",
    "      cols.append(df.shift(-i))\n",
    "      if i == 0:\n",
    "        names += [('var%d(t)' % (j+1)) for j in range(n_vars)]\n",
    "      else:\n",
    "        names += [('var%d(t+%d)' % (j+1, i)) for j in range(n_vars)]\n",
    "    # put it all together\n",
    "    agg = pd.concat(cols, axis=1)\n",
    "    agg.columns = names\n",
    "    # drop rows with NaN values\n",
    "    if dropnan:\n",
    "       agg.dropna(inplace=True)\n",
    "    return agg"
   ]
  },
  {
   "cell_type": "code",
   "execution_count": 13,
   "metadata": {
    "colab": {
     "base_uri": "https://localhost:8080/"
    },
    "id": "CrzSrT1HnyfH",
    "outputId": "7e75f928-3e47-499d-eac1-51908015ef78"
   },
   "outputs": [
    {
     "name": "stdout",
     "output_type": "stream",
     "text": [
      "     var1(t-350)  var1(t-349)  var1(t-348)  var1(t-347)  var1(t-346)  \\\n",
      "350    89.200000    88.931092    88.662185    88.393277    88.124370   \n",
      "351    88.931092    88.662185    88.393277    88.124370    87.855462   \n",
      "352    88.662185    88.393277    88.124370    87.855462    87.586555   \n",
      "353    88.393277    88.124370    87.855462    87.586555    87.317647   \n",
      "354    88.124370    87.855462    87.586555    87.317647    87.048739   \n",
      "\n",
      "     var1(t-345)  var1(t-344)  var1(t-343)  var1(t-342)  var1(t-341)  ...  \\\n",
      "350    87.855462    87.586555    87.317647    87.048739    86.794538  ...   \n",
      "351    87.586555    87.317647    87.048739    86.794538    86.721709  ...   \n",
      "352    87.317647    87.048739    86.794538    86.721709    86.648880  ...   \n",
      "353    87.048739    86.794538    86.721709    86.648880    86.576050  ...   \n",
      "354    86.794538    86.721709    86.648880    86.576050    86.503221  ...   \n",
      "\n",
      "     var1(t+95)  var2(t+95)  var1(t+96)  var2(t+96)  var1(t+97)  var2(t+97)  \\\n",
      "350   73.989683    0.000263   73.957937    0.000263   73.926190    0.000263   \n",
      "351   73.957937    0.000263   73.926190    0.000263   73.894444    0.000262   \n",
      "352   73.926190    0.000263   73.894444    0.000262   73.862698    0.000262   \n",
      "353   73.894444    0.000262   73.862698    0.000262   73.830952    0.000262   \n",
      "354   73.862698    0.000262   73.830952    0.000262   73.799206    0.000262   \n",
      "\n",
      "     var1(t+98)  var2(t+98)  var1(t+99)  var2(t+99)  \n",
      "350   73.894444    0.000262   73.862698    0.000262  \n",
      "351   73.862698    0.000262   73.830952    0.000262  \n",
      "352   73.830952    0.000262   73.799206    0.000262  \n",
      "353   73.799206    0.000262   73.767460    0.000262  \n",
      "354   73.767460    0.000262   73.735714    0.000262  \n",
      "\n",
      "[5 rows x 551 columns]\n",
      "Index(['var1(t-350)', 'var1(t-349)', 'var1(t-348)', 'var1(t-347)',\n",
      "       'var1(t-346)', 'var1(t-345)', 'var1(t-344)', 'var1(t-343)',\n",
      "       'var1(t-342)', 'var1(t-341)',\n",
      "       ...\n",
      "       'var1(t+95)', 'var2(t+95)', 'var1(t+96)', 'var2(t+96)', 'var1(t+97)',\n",
      "       'var2(t+97)', 'var1(t+98)', 'var2(t+98)', 'var1(t+99)', 'var2(t+99)'],\n",
      "      dtype='object', length=551)\n"
     ]
    }
   ],
   "source": [
    "data = Supervised(df.values, n_in = 350, n_out = 100)\n",
    "\n",
    "\n",
    "cols_to_drop = []\n",
    "for i in range(2, 351):\n",
    "    cols_to_drop.extend([f'var2(t-{i})'])\n",
    "\n",
    "data.drop(cols_to_drop, axis=1, inplace=True)\n",
    "\n",
    "print(data.head())\n",
    "print(data.columns)"
   ]
  },
  {
   "cell_type": "code",
   "execution_count": 14,
   "metadata": {
    "id": "AfPf60oy6Pe4"
   },
   "outputs": [],
   "source": [
    "train = np.array(data[0:len(data)-1])\n",
    "forecast = np.array(data.tail(1))"
   ]
  },
  {
   "cell_type": "code",
   "execution_count": 15,
   "metadata": {
    "id": "WSAafzI37KiT"
   },
   "outputs": [],
   "source": [
    "trainy = train[:,-300:]\n",
    "trainX = train[:,:-300]"
   ]
  },
  {
   "cell_type": "code",
   "execution_count": 16,
   "metadata": {
    "id": "2SrOqVJA7f50"
   },
   "outputs": [],
   "source": [
    "forecasty = forecast[:,-300:]\n",
    "forecastX = forecast[:,:-300]"
   ]
  },
  {
   "cell_type": "code",
   "execution_count": 17,
   "metadata": {
    "colab": {
     "base_uri": "https://localhost:8080/"
    },
    "id": "Qno_k8Nw7saY",
    "outputId": "c4a88db5-d8c6-489f-cdb2-06b24e293cff"
   },
   "outputs": [
    {
     "name": "stdout",
     "output_type": "stream",
     "text": [
      "(1700, 1, 251) (1700, 300) (1, 1, 251)\n"
     ]
    }
   ],
   "source": [
    "trainX = trainX.reshape((trainX.shape[0], 1, trainX.shape[1]))\n",
    "forecastX = forecastX.reshape((forecastX.shape[0], 1, forecastX.shape[1]))\n",
    "print(trainX.shape, trainy.shape, forecastX.shape)"
   ]
  },
  {
   "cell_type": "code",
   "execution_count": 18,
   "metadata": {
    "colab": {
     "base_uri": "https://localhost:8080/"
    },
    "id": "b1Jp2DvNuNFx",
    "outputId": "d0e5b3c4-64f1-438c-eade-8dfeaac8e285"
   },
   "outputs": [
    {
     "name": "stdout",
     "output_type": "stream",
     "text": [
      "Epoch 1/500\n",
      "22/22 [==============================] - 3s 26ms/step - loss: 4275.7090 - val_loss: 2312.8928\n",
      "Epoch 2/500\n",
      "22/22 [==============================] - 0s 4ms/step - loss: 4019.9788 - val_loss: 2188.9194\n",
      "Epoch 3/500\n",
      "22/22 [==============================] - 0s 5ms/step - loss: 3885.5000 - val_loss: 2123.5107\n",
      "Epoch 4/500\n",
      "22/22 [==============================] - 0s 4ms/step - loss: 3774.2891 - val_loss: 2064.5554\n",
      "Epoch 5/500\n",
      "22/22 [==============================] - 0s 5ms/step - loss: 3672.4790 - val_loss: 2012.5955\n",
      "Epoch 6/500\n",
      "22/22 [==============================] - 0s 5ms/step - loss: 3578.8931 - val_loss: 1963.5273\n",
      "Epoch 7/500\n",
      "22/22 [==============================] - 0s 4ms/step - loss: 3488.9827 - val_loss: 1916.6901\n",
      "Epoch 8/500\n",
      "22/22 [==============================] - 0s 6ms/step - loss: 3401.9810 - val_loss: 1871.7568\n",
      "Epoch 9/500\n",
      "22/22 [==============================] - 0s 6ms/step - loss: 3317.4438 - val_loss: 1828.5331\n",
      "Epoch 10/500\n",
      "22/22 [==============================] - 0s 6ms/step - loss: 3235.1040 - val_loss: 1786.8916\n",
      "Epoch 11/500\n",
      "22/22 [==============================] - 0s 9ms/step - loss: 3154.7864 - val_loss: 1746.7417\n",
      "Epoch 12/500\n",
      "22/22 [==============================] - 0s 7ms/step - loss: 3076.3640 - val_loss: 1708.0142\n",
      "Epoch 13/500\n",
      "22/22 [==============================] - 0s 6ms/step - loss: 2999.7422 - val_loss: 1670.6533\n",
      "Epoch 14/500\n",
      "22/22 [==============================] - 0s 7ms/step - loss: 2924.8464 - val_loss: 1634.6129\n",
      "Epoch 15/500\n",
      "22/22 [==============================] - 0s 7ms/step - loss: 2851.6143 - val_loss: 1599.8528\n",
      "Epoch 16/500\n",
      "22/22 [==============================] - 0s 6ms/step - loss: 2779.9951 - val_loss: 1566.3373\n",
      "Epoch 17/500\n",
      "22/22 [==============================] - 0s 7ms/step - loss: 2709.9424 - val_loss: 1534.0344\n",
      "Epoch 18/500\n",
      "22/22 [==============================] - 0s 9ms/step - loss: 2641.4172 - val_loss: 1502.9146\n",
      "Epoch 19/500\n",
      "22/22 [==============================] - 0s 8ms/step - loss: 2574.3833 - val_loss: 1472.9504\n",
      "Epoch 20/500\n",
      "22/22 [==============================] - 0s 5ms/step - loss: 2508.8064 - val_loss: 1444.1158\n",
      "Epoch 21/500\n",
      "22/22 [==============================] - 0s 4ms/step - loss: 2444.6582 - val_loss: 1416.3866\n",
      "Epoch 22/500\n",
      "22/22 [==============================] - 0s 4ms/step - loss: 2381.9087 - val_loss: 1389.7391\n",
      "Epoch 23/500\n",
      "22/22 [==============================] - 0s 5ms/step - loss: 2320.5317 - val_loss: 1364.0959\n",
      "Epoch 24/500\n",
      "22/22 [==============================] - 0s 5ms/step - loss: 2260.5007 - val_loss: 1339.5996\n",
      "Epoch 25/500\n",
      "22/22 [==============================] - 0s 5ms/step - loss: 2201.7922 - val_loss: 1316.0646\n",
      "Epoch 26/500\n",
      "22/22 [==============================] - 0s 5ms/step - loss: 2144.3818 - val_loss: 1293.5244\n",
      "Epoch 27/500\n",
      "22/22 [==============================] - 0s 5ms/step - loss: 2088.2473 - val_loss: 1271.9430\n",
      "Epoch 28/500\n",
      "22/22 [==============================] - 0s 4ms/step - loss: 2033.3671 - val_loss: 1251.2368\n",
      "Epoch 29/500\n",
      "22/22 [==============================] - 0s 4ms/step - loss: 1979.8447 - val_loss: 1231.6819\n",
      "Epoch 30/500\n",
      "22/22 [==============================] - 0s 5ms/step - loss: 1927.2837 - val_loss: 1212.9279\n",
      "Epoch 31/500\n",
      "22/22 [==============================] - 0s 4ms/step - loss: 1876.0404 - val_loss: 1195.0728\n",
      "Epoch 32/500\n",
      "22/22 [==============================] - 0s 4ms/step - loss: 1825.9688 - val_loss: 1178.0988\n",
      "Epoch 33/500\n",
      "22/22 [==============================] - 0s 5ms/step - loss: 1777.0497 - val_loss: 1161.9868\n",
      "Epoch 34/500\n",
      "22/22 [==============================] - 0s 5ms/step - loss: 1729.2642 - val_loss: 1146.7200\n",
      "Epoch 35/500\n",
      "22/22 [==============================] - 0s 4ms/step - loss: 1682.5941 - val_loss: 1132.2803\n",
      "Epoch 36/500\n",
      "22/22 [==============================] - 0s 4ms/step - loss: 1637.0203 - val_loss: 1118.6503\n",
      "Epoch 37/500\n",
      "22/22 [==============================] - 0s 4ms/step - loss: 1592.5247 - val_loss: 1105.8129\n",
      "Epoch 38/500\n",
      "22/22 [==============================] - 0s 5ms/step - loss: 1549.0902 - val_loss: 1093.7512\n",
      "Epoch 39/500\n",
      "22/22 [==============================] - 0s 4ms/step - loss: 1506.6987 - val_loss: 1082.4485\n",
      "Epoch 40/500\n",
      "22/22 [==============================] - 0s 5ms/step - loss: 1465.3331 - val_loss: 1071.8878\n",
      "Epoch 41/500\n",
      "22/22 [==============================] - 0s 5ms/step - loss: 1424.9763 - val_loss: 1062.0532\n",
      "Epoch 42/500\n",
      "22/22 [==============================] - 0s 5ms/step - loss: 1385.6113 - val_loss: 1052.9280\n",
      "Epoch 43/500\n",
      "22/22 [==============================] - 0s 4ms/step - loss: 1347.2220 - val_loss: 1044.4961\n",
      "Epoch 44/500\n",
      "22/22 [==============================] - 0s 5ms/step - loss: 1309.7910 - val_loss: 1036.7416\n",
      "Epoch 45/500\n",
      "22/22 [==============================] - 0s 4ms/step - loss: 1273.3030 - val_loss: 1029.6484\n",
      "Epoch 46/500\n",
      "22/22 [==============================] - 0s 4ms/step - loss: 1237.7410 - val_loss: 1023.2011\n",
      "Epoch 47/500\n",
      "22/22 [==============================] - 0s 5ms/step - loss: 1203.0897 - val_loss: 1017.3840\n",
      "Epoch 48/500\n",
      "22/22 [==============================] - 0s 4ms/step - loss: 1169.3329 - val_loss: 1012.1817\n",
      "Epoch 49/500\n",
      "22/22 [==============================] - 0s 4ms/step - loss: 1136.4552 - val_loss: 1007.5788\n",
      "Epoch 50/500\n",
      "22/22 [==============================] - 0s 5ms/step - loss: 1104.4414 - val_loss: 1003.5601\n",
      "Epoch 51/500\n",
      "22/22 [==============================] - 0s 4ms/step - loss: 1073.2760 - val_loss: 1000.1107\n",
      "Epoch 52/500\n",
      "22/22 [==============================] - 0s 4ms/step - loss: 1042.9436 - val_loss: 997.2153\n",
      "Epoch 53/500\n",
      "22/22 [==============================] - 0s 5ms/step - loss: 1013.4291 - val_loss: 994.8595\n",
      "Epoch 54/500\n",
      "22/22 [==============================] - 0s 5ms/step - loss: 984.7182 - val_loss: 993.0283\n",
      "Epoch 55/500\n",
      "22/22 [==============================] - 0s 4ms/step - loss: 956.7958 - val_loss: 991.7073\n",
      "Epoch 56/500\n",
      "22/22 [==============================] - 0s 4ms/step - loss: 929.6473 - val_loss: 990.8820\n",
      "Epoch 57/500\n",
      "22/22 [==============================] - 0s 5ms/step - loss: 903.2583 - val_loss: 990.5380\n",
      "Epoch 58/500\n",
      "22/22 [==============================] - 0s 4ms/step - loss: 877.6144 - val_loss: 990.6613\n",
      "Epoch 59/500\n",
      "22/22 [==============================] - 0s 4ms/step - loss: 852.7015 - val_loss: 991.2376\n",
      "Epoch 60/500\n",
      "22/22 [==============================] - 0s 4ms/step - loss: 828.5056 - val_loss: 992.2529\n",
      "Epoch 61/500\n",
      "22/22 [==============================] - 0s 4ms/step - loss: 805.0125 - val_loss: 993.6935\n",
      "Epoch 62/500\n",
      "22/22 [==============================] - 0s 4ms/step - loss: 782.2086 - val_loss: 995.5455\n",
      "Epoch 63/500\n",
      "22/22 [==============================] - 0s 4ms/step - loss: 760.0799 - val_loss: 997.7954\n",
      "Epoch 64/500\n",
      "22/22 [==============================] - 0s 4ms/step - loss: 738.6130 - val_loss: 1000.4297\n",
      "Epoch 65/500\n",
      "22/22 [==============================] - 0s 5ms/step - loss: 717.7946 - val_loss: 1003.4349\n",
      "Epoch 66/500\n",
      "22/22 [==============================] - 0s 5ms/step - loss: 697.6111 - val_loss: 1006.7982\n",
      "Epoch 67/500\n",
      "22/22 [==============================] - 0s 5ms/step - loss: 678.0494 - val_loss: 1010.5057\n",
      "Epoch 68/500\n",
      "22/22 [==============================] - 0s 4ms/step - loss: 659.0966 - val_loss: 1014.5450\n",
      "Epoch 69/500\n",
      "22/22 [==============================] - 0s 5ms/step - loss: 640.7394 - val_loss: 1018.9031\n",
      "Epoch 70/500\n",
      "22/22 [==============================] - 0s 5ms/step - loss: 622.9651 - val_loss: 1023.5676\n",
      "Epoch 71/500\n",
      "22/22 [==============================] - 0s 6ms/step - loss: 605.7609 - val_loss: 1028.5253\n",
      "Epoch 72/500\n",
      "22/22 [==============================] - 0s 5ms/step - loss: 589.1144 - val_loss: 1033.7638\n",
      "Epoch 73/500\n",
      "22/22 [==============================] - 0s 5ms/step - loss: 573.0129 - val_loss: 1039.2714\n",
      "Epoch 74/500\n",
      "22/22 [==============================] - 0s 5ms/step - loss: 557.4443 - val_loss: 1045.0350\n",
      "Epoch 75/500\n",
      "22/22 [==============================] - 0s 6ms/step - loss: 542.3962 - val_loss: 1051.0433\n",
      "Epoch 76/500\n",
      "22/22 [==============================] - 0s 5ms/step - loss: 527.8564 - val_loss: 1057.2841\n",
      "Epoch 77/500\n",
      "22/22 [==============================] - 0s 5ms/step - loss: 513.8133 - val_loss: 1063.7454\n",
      "Epoch 78/500\n",
      "22/22 [==============================] - 0s 5ms/step - loss: 500.2548 - val_loss: 1070.4161\n",
      "Epoch 79/500\n",
      "22/22 [==============================] - 0s 5ms/step - loss: 487.1691 - val_loss: 1077.2842\n",
      "Epoch 80/500\n",
      "22/22 [==============================] - 0s 5ms/step - loss: 474.5449 - val_loss: 1084.3389\n",
      "Epoch 81/500\n",
      "22/22 [==============================] - 0s 6ms/step - loss: 462.3704 - val_loss: 1091.5686\n",
      "Epoch 82/500\n",
      "22/22 [==============================] - 0s 6ms/step - loss: 450.6345 - val_loss: 1098.9628\n",
      "Epoch 83/500\n",
      "22/22 [==============================] - 0s 6ms/step - loss: 439.3260 - val_loss: 1106.5101\n",
      "Epoch 84/500\n",
      "22/22 [==============================] - 0s 6ms/step - loss: 428.4337 - val_loss: 1114.1998\n",
      "Epoch 85/500\n",
      "22/22 [==============================] - 0s 5ms/step - loss: 417.9469 - val_loss: 1122.0219\n",
      "Epoch 86/500\n",
      "22/22 [==============================] - 0s 5ms/step - loss: 407.8546 - val_loss: 1129.9664\n",
      "Epoch 87/500\n",
      "22/22 [==============================] - 0s 5ms/step - loss: 398.1461 - val_loss: 1138.0217\n",
      "Epoch 88/500\n",
      "22/22 [==============================] - 0s 5ms/step - loss: 388.8113 - val_loss: 1146.1793\n",
      "Epoch 89/500\n",
      "22/22 [==============================] - 0s 5ms/step - loss: 379.8393 - val_loss: 1154.4281\n",
      "Epoch 90/500\n",
      "22/22 [==============================] - 0s 6ms/step - loss: 371.2202 - val_loss: 1162.7598\n",
      "Epoch 91/500\n",
      "22/22 [==============================] - 0s 6ms/step - loss: 362.9441 - val_loss: 1171.1637\n",
      "Epoch 92/500\n",
      "22/22 [==============================] - 0s 6ms/step - loss: 355.0005 - val_loss: 1179.6312\n",
      "Epoch 93/500\n",
      "22/22 [==============================] - 0s 5ms/step - loss: 347.3801 - val_loss: 1188.1537\n",
      "Epoch 94/500\n",
      "22/22 [==============================] - 0s 5ms/step - loss: 340.0731 - val_loss: 1196.7214\n",
      "Epoch 95/500\n",
      "22/22 [==============================] - 0s 5ms/step - loss: 333.0699 - val_loss: 1205.3259\n",
      "Epoch 96/500\n",
      "22/22 [==============================] - 0s 5ms/step - loss: 326.3613 - val_loss: 1213.9592\n",
      "Epoch 97/500\n",
      "22/22 [==============================] - 0s 5ms/step - loss: 319.9381 - val_loss: 1222.6128\n",
      "Epoch 98/500\n",
      "22/22 [==============================] - 0s 5ms/step - loss: 313.7912 - val_loss: 1231.2784\n",
      "Epoch 99/500\n",
      "22/22 [==============================] - 0s 5ms/step - loss: 307.9118 - val_loss: 1239.9482\n",
      "Epoch 100/500\n",
      "22/22 [==============================] - 0s 5ms/step - loss: 302.2911 - val_loss: 1248.6146\n",
      "Epoch 101/500\n",
      "22/22 [==============================] - 0s 5ms/step - loss: 296.9206 - val_loss: 1257.2705\n",
      "Epoch 102/500\n",
      "22/22 [==============================] - 0s 5ms/step - loss: 291.7919 - val_loss: 1265.9076\n",
      "Epoch 103/500\n",
      "22/22 [==============================] - 0s 5ms/step - loss: 286.8967 - val_loss: 1274.5206\n",
      "Epoch 104/500\n",
      "22/22 [==============================] - 0s 7ms/step - loss: 282.2270 - val_loss: 1283.1013\n",
      "Epoch 105/500\n",
      "22/22 [==============================] - 0s 6ms/step - loss: 277.7748 - val_loss: 1291.6439\n",
      "Epoch 106/500\n",
      "22/22 [==============================] - 0s 6ms/step - loss: 273.5323 - val_loss: 1300.1416\n",
      "Epoch 107/500\n",
      "22/22 [==============================] - 0s 6ms/step - loss: 269.4920 - val_loss: 1308.5887\n",
      "Epoch 108/500\n",
      "22/22 [==============================] - 0s 6ms/step - loss: 265.6465 - val_loss: 1316.9785\n",
      "Epoch 109/500\n",
      "22/22 [==============================] - 0s 7ms/step - loss: 261.9886 - val_loss: 1325.3065\n",
      "Epoch 110/500\n",
      "22/22 [==============================] - 0s 7ms/step - loss: 258.5111 - val_loss: 1333.5667\n",
      "Epoch 111/500\n",
      "22/22 [==============================] - 0s 8ms/step - loss: 255.2070 - val_loss: 1341.7535\n",
      "Epoch 112/500\n",
      "22/22 [==============================] - 0s 7ms/step - loss: 252.0695 - val_loss: 1349.8628\n",
      "Epoch 113/500\n",
      "22/22 [==============================] - 0s 6ms/step - loss: 249.0921 - val_loss: 1357.8888\n",
      "Epoch 114/500\n",
      "22/22 [==============================] - 0s 6ms/step - loss: 246.2684 - val_loss: 1365.8281\n",
      "Epoch 115/500\n",
      "22/22 [==============================] - 0s 7ms/step - loss: 243.5921 - val_loss: 1373.6752\n",
      "Epoch 116/500\n",
      "22/22 [==============================] - 0s 7ms/step - loss: 241.0572 - val_loss: 1381.4279\n",
      "Epoch 117/500\n",
      "22/22 [==============================] - 0s 9ms/step - loss: 238.6575 - val_loss: 1389.0800\n",
      "Epoch 118/500\n",
      "22/22 [==============================] - 0s 8ms/step - loss: 236.3875 - val_loss: 1396.6290\n",
      "Epoch 119/500\n",
      "22/22 [==============================] - 0s 7ms/step - loss: 234.2414 - val_loss: 1404.0718\n",
      "Epoch 120/500\n",
      "22/22 [==============================] - 0s 7ms/step - loss: 232.2138 - val_loss: 1411.4054\n",
      "Epoch 121/500\n",
      "22/22 [==============================] - 0s 7ms/step - loss: 230.2995 - val_loss: 1418.6265\n",
      "Epoch 122/500\n",
      "22/22 [==============================] - 0s 7ms/step - loss: 228.4933 - val_loss: 1425.7321\n",
      "Epoch 123/500\n",
      "22/22 [==============================] - 0s 7ms/step - loss: 226.7902 - val_loss: 1432.7194\n",
      "Epoch 124/500\n",
      "22/22 [==============================] - 0s 6ms/step - loss: 225.1856 - val_loss: 1439.5869\n",
      "Epoch 125/500\n",
      "22/22 [==============================] - 0s 7ms/step - loss: 223.6746 - val_loss: 1446.3320\n",
      "Epoch 126/500\n",
      "22/22 [==============================] - 0s 8ms/step - loss: 222.2529 - val_loss: 1452.9535\n",
      "Epoch 127/500\n",
      "22/22 [==============================] - 0s 8ms/step - loss: 220.9160 - val_loss: 1459.4490\n",
      "Epoch 128/500\n",
      "22/22 [==============================] - 0s 8ms/step - loss: 219.6599 - val_loss: 1465.8181\n",
      "Epoch 129/500\n",
      "22/22 [==============================] - 0s 8ms/step - loss: 218.4803 - val_loss: 1472.0579\n",
      "Epoch 130/500\n",
      "22/22 [==============================] - 0s 7ms/step - loss: 217.3736 - val_loss: 1478.1691\n",
      "Epoch 131/500\n",
      "22/22 [==============================] - 0s 8ms/step - loss: 216.3358 - val_loss: 1484.1494\n",
      "Epoch 132/500\n",
      "22/22 [==============================] - 0s 8ms/step - loss: 215.3635 - val_loss: 1489.9993\n",
      "Epoch 133/500\n",
      "22/22 [==============================] - 0s 7ms/step - loss: 214.4532 - val_loss: 1495.7173\n",
      "Epoch 134/500\n",
      "22/22 [==============================] - 0s 11ms/step - loss: 213.6014 - val_loss: 1501.3032\n",
      "Epoch 135/500\n",
      "22/22 [==============================] - 0s 16ms/step - loss: 212.8051 - val_loss: 1506.7570\n",
      "Epoch 136/500\n",
      "22/22 [==============================] - 0s 7ms/step - loss: 212.0613 - val_loss: 1512.0796\n",
      "Epoch 137/500\n",
      "22/22 [==============================] - 0s 6ms/step - loss: 211.3668 - val_loss: 1517.2698\n",
      "Epoch 138/500\n",
      "22/22 [==============================] - 0s 6ms/step - loss: 210.7191 - val_loss: 1522.3284\n",
      "Epoch 139/500\n",
      "22/22 [==============================] - 0s 5ms/step - loss: 210.1153 - val_loss: 1527.2565\n",
      "Epoch 140/500\n",
      "22/22 [==============================] - 0s 5ms/step - loss: 209.5530 - val_loss: 1532.0537\n",
      "Epoch 141/500\n",
      "22/22 [==============================] - 0s 5ms/step - loss: 209.0295 - val_loss: 1536.7217\n",
      "Epoch 142/500\n",
      "22/22 [==============================] - 0s 5ms/step - loss: 208.5428 - val_loss: 1541.2610\n",
      "Epoch 143/500\n",
      "22/22 [==============================] - 0s 5ms/step - loss: 208.0905 - val_loss: 1545.6726\n",
      "Epoch 144/500\n",
      "22/22 [==============================] - 0s 5ms/step - loss: 207.6705 - val_loss: 1549.9575\n",
      "Epoch 145/500\n",
      "22/22 [==============================] - 0s 5ms/step - loss: 207.2808 - val_loss: 1554.1177\n",
      "Epoch 146/500\n",
      "22/22 [==============================] - 0s 5ms/step - loss: 206.9195 - val_loss: 1558.1531\n",
      "Epoch 147/500\n",
      "22/22 [==============================] - 0s 5ms/step - loss: 206.5848 - val_loss: 1562.0664\n",
      "Epoch 148/500\n",
      "22/22 [==============================] - 0s 5ms/step - loss: 206.2751 - val_loss: 1565.8586\n",
      "Epoch 149/500\n",
      "22/22 [==============================] - 0s 5ms/step - loss: 205.9886 - val_loss: 1569.5320\n",
      "Epoch 150/500\n",
      "22/22 [==============================] - 0s 5ms/step - loss: 205.7237 - val_loss: 1573.0883\n",
      "Epoch 151/500\n",
      "22/22 [==============================] - 0s 5ms/step - loss: 205.4792 - val_loss: 1576.5284\n",
      "Epoch 152/500\n",
      "22/22 [==============================] - 0s 5ms/step - loss: 205.2535 - val_loss: 1579.8547\n",
      "Epoch 153/500\n",
      "22/22 [==============================] - 0s 5ms/step - loss: 205.0455 - val_loss: 1583.0698\n",
      "Epoch 154/500\n",
      "22/22 [==============================] - 0s 5ms/step - loss: 204.8538 - val_loss: 1586.1743\n",
      "Epoch 155/500\n",
      "22/22 [==============================] - 0s 5ms/step - loss: 204.6774 - val_loss: 1589.1716\n",
      "Epoch 156/500\n",
      "22/22 [==============================] - 0s 5ms/step - loss: 204.5151 - val_loss: 1592.0640\n",
      "Epoch 157/500\n",
      "22/22 [==============================] - 0s 5ms/step - loss: 204.3660 - val_loss: 1594.8522\n",
      "Epoch 158/500\n",
      "22/22 [==============================] - 0s 7ms/step - loss: 204.2290 - val_loss: 1597.5396\n",
      "Epoch 159/500\n",
      "22/22 [==============================] - 0s 7ms/step - loss: 204.1033 - val_loss: 1600.1279\n",
      "Epoch 160/500\n",
      "22/22 [==============================] - 0s 7ms/step - loss: 203.9881 - val_loss: 1602.6199\n",
      "Epoch 161/500\n",
      "22/22 [==============================] - 0s 6ms/step - loss: 203.8825 - val_loss: 1605.0177\n",
      "Epoch 162/500\n",
      "22/22 [==============================] - 0s 5ms/step - loss: 203.7859 - val_loss: 1607.3220\n",
      "Epoch 163/500\n",
      "22/22 [==============================] - 0s 6ms/step - loss: 203.6975 - val_loss: 1609.5382\n",
      "Epoch 164/500\n",
      "22/22 [==============================] - 0s 7ms/step - loss: 203.6167 - val_loss: 1611.6665\n",
      "Epoch 165/500\n",
      "22/22 [==============================] - 0s 13ms/step - loss: 203.5430 - val_loss: 1613.7103\n",
      "Epoch 166/500\n",
      "22/22 [==============================] - 0s 6ms/step - loss: 203.4757 - val_loss: 1615.6705\n",
      "Epoch 167/500\n",
      "22/22 [==============================] - 0s 6ms/step - loss: 203.4144 - val_loss: 1617.5508\n",
      "Epoch 168/500\n",
      "22/22 [==============================] - 0s 6ms/step - loss: 203.3585 - val_loss: 1619.3525\n",
      "Epoch 169/500\n",
      "22/22 [==============================] - 0s 6ms/step - loss: 203.3077 - val_loss: 1621.0784\n",
      "Epoch 170/500\n",
      "22/22 [==============================] - 0s 6ms/step - loss: 203.2615 - val_loss: 1622.7319\n",
      "Epoch 171/500\n",
      "22/22 [==============================] - 0s 6ms/step - loss: 203.2195 - val_loss: 1624.3136\n",
      "Epoch 172/500\n",
      "22/22 [==============================] - 0s 7ms/step - loss: 203.1813 - val_loss: 1625.8260\n",
      "Epoch 173/500\n",
      "22/22 [==============================] - 0s 7ms/step - loss: 203.1468 - val_loss: 1627.2728\n",
      "Epoch 174/500\n",
      "22/22 [==============================] - 0s 5ms/step - loss: 203.1154 - val_loss: 1628.6541\n",
      "Epoch 175/500\n",
      "22/22 [==============================] - 0s 5ms/step - loss: 203.0871 - val_loss: 1629.9730\n",
      "Epoch 176/500\n",
      "22/22 [==============================] - 0s 5ms/step - loss: 203.0614 - val_loss: 1631.2323\n",
      "Epoch 177/500\n",
      "22/22 [==============================] - 0s 5ms/step - loss: 203.0383 - val_loss: 1632.4331\n",
      "Epoch 178/500\n",
      "22/22 [==============================] - 0s 5ms/step - loss: 203.0173 - val_loss: 1633.5785\n",
      "Epoch 179/500\n",
      "22/22 [==============================] - 0s 5ms/step - loss: 202.9985 - val_loss: 1634.6689\n",
      "Epoch 180/500\n",
      "22/22 [==============================] - 0s 5ms/step - loss: 202.9815 - val_loss: 1635.7081\n",
      "Epoch 181/500\n",
      "22/22 [==============================] - 0s 5ms/step - loss: 202.9663 - val_loss: 1636.6970\n",
      "Epoch 182/500\n",
      "22/22 [==============================] - 0s 5ms/step - loss: 202.9525 - val_loss: 1637.6377\n",
      "Epoch 183/500\n",
      "22/22 [==============================] - 0s 5ms/step - loss: 202.9402 - val_loss: 1638.5323\n",
      "Epoch 184/500\n",
      "22/22 [==============================] - 0s 5ms/step - loss: 202.9292 - val_loss: 1639.3829\n",
      "Epoch 185/500\n",
      "22/22 [==============================] - 0s 5ms/step - loss: 202.9193 - val_loss: 1640.1908\n",
      "Epoch 186/500\n",
      "22/22 [==============================] - 0s 6ms/step - loss: 202.9105 - val_loss: 1640.9575\n",
      "Epoch 187/500\n",
      "22/22 [==============================] - 0s 5ms/step - loss: 202.9027 - val_loss: 1641.6849\n",
      "Epoch 188/500\n",
      "22/22 [==============================] - 0s 6ms/step - loss: 202.8957 - val_loss: 1642.3750\n",
      "Epoch 189/500\n",
      "22/22 [==============================] - 0s 7ms/step - loss: 202.8895 - val_loss: 1643.0298\n",
      "Epoch 190/500\n",
      "22/22 [==============================] - 0s 6ms/step - loss: 202.8840 - val_loss: 1643.6494\n",
      "Epoch 191/500\n",
      "22/22 [==============================] - 0s 5ms/step - loss: 202.8792 - val_loss: 1644.2368\n",
      "Epoch 192/500\n",
      "22/22 [==============================] - 0s 12ms/step - loss: 202.8749 - val_loss: 1644.7915\n",
      "Epoch 193/500\n",
      "22/22 [==============================] - 0s 6ms/step - loss: 202.8712 - val_loss: 1645.3175\n",
      "Epoch 194/500\n",
      "22/22 [==============================] - 0s 7ms/step - loss: 202.8679 - val_loss: 1645.8138\n",
      "Epoch 195/500\n",
      "22/22 [==============================] - 0s 8ms/step - loss: 202.8651 - val_loss: 1646.2831\n",
      "Epoch 196/500\n",
      "22/22 [==============================] - 0s 6ms/step - loss: 202.8626 - val_loss: 1646.7267\n",
      "Epoch 197/500\n",
      "22/22 [==============================] - 0s 6ms/step - loss: 202.8605 - val_loss: 1647.1456\n",
      "Epoch 198/500\n",
      "22/22 [==============================] - 0s 5ms/step - loss: 202.8587 - val_loss: 1647.5400\n",
      "Epoch 199/500\n",
      "22/22 [==============================] - 0s 5ms/step - loss: 202.8572 - val_loss: 1647.9125\n",
      "Epoch 200/500\n",
      "22/22 [==============================] - 0s 5ms/step - loss: 202.8560 - val_loss: 1648.2639\n",
      "Epoch 201/500\n",
      "22/22 [==============================] - 0s 5ms/step - loss: 202.8550 - val_loss: 1648.5947\n",
      "Epoch 202/500\n",
      "22/22 [==============================] - 0s 5ms/step - loss: 202.8542 - val_loss: 1648.9060\n",
      "Epoch 203/500\n",
      "22/22 [==============================] - 0s 5ms/step - loss: 202.8536 - val_loss: 1649.1989\n",
      "Epoch 204/500\n",
      "22/22 [==============================] - 0s 7ms/step - loss: 202.8531 - val_loss: 1649.4752\n",
      "Epoch 205/500\n",
      "22/22 [==============================] - 0s 7ms/step - loss: 202.8528 - val_loss: 1649.7340\n",
      "Epoch 206/500\n",
      "22/22 [==============================] - 0s 6ms/step - loss: 202.8526 - val_loss: 1649.9775\n",
      "Epoch 207/500\n",
      "22/22 [==============================] - 0s 8ms/step - loss: 202.8526 - val_loss: 1650.2063\n",
      "Epoch 208/500\n",
      "22/22 [==============================] - 0s 7ms/step - loss: 202.8527 - val_loss: 1650.4213\n",
      "Epoch 209/500\n",
      "22/22 [==============================] - 0s 5ms/step - loss: 202.8529 - val_loss: 1650.6228\n",
      "Epoch 210/500\n",
      "22/22 [==============================] - 0s 5ms/step - loss: 202.8531 - val_loss: 1650.8112\n",
      "Epoch 211/500\n",
      "22/22 [==============================] - 0s 5ms/step - loss: 202.8535 - val_loss: 1650.9884\n",
      "Epoch 212/500\n",
      "22/22 [==============================] - 0s 5ms/step - loss: 202.8539 - val_loss: 1651.1538\n",
      "Epoch 213/500\n",
      "22/22 [==============================] - 0s 5ms/step - loss: 202.8544 - val_loss: 1651.3092\n",
      "Epoch 214/500\n",
      "22/22 [==============================] - 0s 5ms/step - loss: 202.8549 - val_loss: 1651.4545\n",
      "Epoch 215/500\n",
      "22/22 [==============================] - 0s 5ms/step - loss: 202.8555 - val_loss: 1651.5902\n",
      "Epoch 216/500\n",
      "22/22 [==============================] - 0s 6ms/step - loss: 202.8561 - val_loss: 1651.7173\n",
      "Epoch 217/500\n",
      "22/22 [==============================] - 0s 8ms/step - loss: 202.8568 - val_loss: 1651.8362\n",
      "Epoch 218/500\n",
      "22/22 [==============================] - 0s 7ms/step - loss: 202.8575 - val_loss: 1651.9467\n",
      "Epoch 219/500\n",
      "22/22 [==============================] - 0s 11ms/step - loss: 202.8583 - val_loss: 1652.0504\n",
      "Epoch 220/500\n",
      "22/22 [==============================] - 0s 7ms/step - loss: 202.8590 - val_loss: 1652.1471\n",
      "Epoch 221/500\n",
      "22/22 [==============================] - 0s 6ms/step - loss: 202.8599 - val_loss: 1652.2361\n",
      "Epoch 222/500\n",
      "22/22 [==============================] - 0s 6ms/step - loss: 202.8607 - val_loss: 1652.3206\n",
      "Epoch 223/500\n",
      "22/22 [==============================] - 0s 6ms/step - loss: 202.8616 - val_loss: 1652.3986\n",
      "Epoch 224/500\n",
      "22/22 [==============================] - 0s 5ms/step - loss: 202.8623 - val_loss: 1652.4706\n",
      "Epoch 225/500\n",
      "22/22 [==============================] - 0s 5ms/step - loss: 202.8633 - val_loss: 1652.5382\n",
      "Epoch 226/500\n",
      "22/22 [==============================] - 0s 5ms/step - loss: 202.8642 - val_loss: 1652.6010\n",
      "Epoch 227/500\n",
      "22/22 [==============================] - 0s 5ms/step - loss: 202.8651 - val_loss: 1652.6592\n",
      "Epoch 228/500\n",
      "22/22 [==============================] - 0s 5ms/step - loss: 202.8660 - val_loss: 1652.7129\n",
      "Epoch 229/500\n",
      "22/22 [==============================] - 0s 6ms/step - loss: 202.8669 - val_loss: 1652.7632\n",
      "Epoch 230/500\n",
      "22/22 [==============================] - 0s 6ms/step - loss: 202.8678 - val_loss: 1652.8096\n",
      "Epoch 231/500\n",
      "22/22 [==============================] - 0s 6ms/step - loss: 202.8687 - val_loss: 1652.8524\n",
      "Epoch 232/500\n",
      "22/22 [==============================] - 0s 7ms/step - loss: 202.8697 - val_loss: 1652.8920\n",
      "Epoch 233/500\n",
      "22/22 [==============================] - 0s 7ms/step - loss: 202.8706 - val_loss: 1652.9287\n",
      "Epoch 234/500\n",
      "22/22 [==============================] - 0s 6ms/step - loss: 202.8715 - val_loss: 1652.9626\n",
      "Epoch 235/500\n",
      "22/22 [==============================] - 0s 5ms/step - loss: 202.8725 - val_loss: 1652.9938\n",
      "Epoch 236/500\n",
      "22/22 [==============================] - 0s 5ms/step - loss: 202.8734 - val_loss: 1653.0226\n",
      "Epoch 237/500\n",
      "22/22 [==============================] - 0s 5ms/step - loss: 202.8744 - val_loss: 1653.0498\n",
      "Epoch 238/500\n",
      "22/22 [==============================] - 0s 5ms/step - loss: 202.8753 - val_loss: 1653.0737\n",
      "Epoch 239/500\n",
      "22/22 [==============================] - 0s 4ms/step - loss: 202.8762 - val_loss: 1653.0967\n",
      "Epoch 240/500\n",
      "22/22 [==============================] - 0s 5ms/step - loss: 202.8771 - val_loss: 1653.1167\n",
      "Epoch 241/500\n",
      "22/22 [==============================] - 0s 5ms/step - loss: 202.8780 - val_loss: 1653.1359\n",
      "Epoch 242/500\n",
      "22/22 [==============================] - 0s 5ms/step - loss: 202.8790 - val_loss: 1653.1534\n",
      "Epoch 243/500\n",
      "22/22 [==============================] - 0s 5ms/step - loss: 202.8799 - val_loss: 1653.1691\n",
      "Epoch 244/500\n",
      "22/22 [==============================] - 0s 5ms/step - loss: 202.8807 - val_loss: 1653.1836\n",
      "Epoch 245/500\n",
      "22/22 [==============================] - 0s 5ms/step - loss: 202.8817 - val_loss: 1653.1965\n",
      "Epoch 246/500\n",
      "22/22 [==============================] - 0s 5ms/step - loss: 202.8826 - val_loss: 1653.2089\n",
      "Epoch 247/500\n",
      "22/22 [==============================] - 0s 6ms/step - loss: 202.8834 - val_loss: 1653.2202\n",
      "Epoch 248/500\n",
      "22/22 [==============================] - 0s 5ms/step - loss: 202.8843 - val_loss: 1653.2301\n",
      "Epoch 249/500\n",
      "22/22 [==============================] - 0s 9ms/step - loss: 202.8851 - val_loss: 1653.2391\n",
      "Epoch 250/500\n",
      "22/22 [==============================] - 0s 7ms/step - loss: 202.8860 - val_loss: 1653.2472\n",
      "Epoch 251/500\n",
      "22/22 [==============================] - 0s 6ms/step - loss: 202.8869 - val_loss: 1653.2544\n",
      "Epoch 252/500\n",
      "22/22 [==============================] - 0s 5ms/step - loss: 202.8877 - val_loss: 1653.2605\n",
      "Epoch 253/500\n",
      "22/22 [==============================] - 0s 5ms/step - loss: 202.8886 - val_loss: 1653.2666\n",
      "Epoch 254/500\n",
      "22/22 [==============================] - 0s 5ms/step - loss: 202.8893 - val_loss: 1653.2722\n",
      "Epoch 255/500\n",
      "22/22 [==============================] - 0s 5ms/step - loss: 202.8902 - val_loss: 1653.2769\n",
      "Epoch 256/500\n",
      "22/22 [==============================] - 0s 4ms/step - loss: 202.8909 - val_loss: 1653.2810\n",
      "Epoch 257/500\n",
      "22/22 [==============================] - 0s 5ms/step - loss: 202.8918 - val_loss: 1653.2845\n",
      "Epoch 258/500\n",
      "22/22 [==============================] - 0s 6ms/step - loss: 202.8925 - val_loss: 1653.2875\n",
      "Epoch 259/500\n",
      "22/22 [==============================] - 0s 5ms/step - loss: 202.8933 - val_loss: 1653.2908\n",
      "Epoch 260/500\n",
      "22/22 [==============================] - 0s 5ms/step - loss: 202.8940 - val_loss: 1653.2926\n",
      "Epoch 261/500\n",
      "22/22 [==============================] - 0s 5ms/step - loss: 202.8948 - val_loss: 1653.2944\n",
      "Epoch 262/500\n",
      "22/22 [==============================] - 0s 5ms/step - loss: 202.8956 - val_loss: 1653.2963\n",
      "Epoch 263/500\n",
      "22/22 [==============================] - 0s 5ms/step - loss: 202.8963 - val_loss: 1653.2976\n",
      "Epoch 264/500\n",
      "22/22 [==============================] - 0s 6ms/step - loss: 202.8970 - val_loss: 1653.2991\n",
      "Epoch 265/500\n",
      "22/22 [==============================] - 0s 5ms/step - loss: 202.8978 - val_loss: 1653.3004\n",
      "Epoch 266/500\n",
      "22/22 [==============================] - 0s 5ms/step - loss: 202.8984 - val_loss: 1653.3008\n",
      "Epoch 267/500\n",
      "22/22 [==============================] - 0s 5ms/step - loss: 202.8991 - val_loss: 1653.3011\n",
      "Epoch 268/500\n",
      "22/22 [==============================] - 0s 6ms/step - loss: 202.8998 - val_loss: 1653.3011\n",
      "Epoch 269/500\n",
      "22/22 [==============================] - 0s 5ms/step - loss: 202.9005 - val_loss: 1653.3011\n",
      "Epoch 270/500\n",
      "22/22 [==============================] - 0s 5ms/step - loss: 202.9012 - val_loss: 1653.3011\n",
      "Epoch 271/500\n",
      "22/22 [==============================] - 0s 5ms/step - loss: 202.9018 - val_loss: 1653.3009\n",
      "Epoch 272/500\n",
      "22/22 [==============================] - 0s 5ms/step - loss: 202.9025 - val_loss: 1653.3008\n",
      "Epoch 273/500\n",
      "22/22 [==============================] - 0s 6ms/step - loss: 202.9031 - val_loss: 1653.3004\n",
      "Epoch 274/500\n",
      "22/22 [==============================] - 0s 5ms/step - loss: 202.9037 - val_loss: 1653.2997\n",
      "Epoch 275/500\n",
      "22/22 [==============================] - 0s 5ms/step - loss: 202.9044 - val_loss: 1653.2990\n",
      "Epoch 276/500\n",
      "22/22 [==============================] - 0s 5ms/step - loss: 202.9050 - val_loss: 1653.2975\n",
      "Epoch 277/500\n",
      "22/22 [==============================] - 0s 5ms/step - loss: 202.9056 - val_loss: 1653.2971\n",
      "Epoch 278/500\n",
      "22/22 [==============================] - 0s 5ms/step - loss: 202.9062 - val_loss: 1653.2954\n",
      "Epoch 279/500\n",
      "22/22 [==============================] - 0s 10ms/step - loss: 202.9067 - val_loss: 1653.2948\n",
      "Epoch 280/500\n",
      "22/22 [==============================] - 0s 6ms/step - loss: 202.9073 - val_loss: 1653.2941\n",
      "Epoch 281/500\n",
      "22/22 [==============================] - 0s 6ms/step - loss: 202.9078 - val_loss: 1653.2928\n",
      "Epoch 282/500\n",
      "22/22 [==============================] - 0s 6ms/step - loss: 202.9084 - val_loss: 1653.2919\n",
      "Epoch 283/500\n",
      "22/22 [==============================] - 0s 6ms/step - loss: 202.9090 - val_loss: 1653.2908\n",
      "Epoch 284/500\n",
      "22/22 [==============================] - 0s 6ms/step - loss: 202.9095 - val_loss: 1653.2897\n",
      "Epoch 285/500\n",
      "22/22 [==============================] - 0s 6ms/step - loss: 202.9099 - val_loss: 1653.2875\n",
      "Epoch 286/500\n",
      "22/22 [==============================] - 0s 5ms/step - loss: 202.9105 - val_loss: 1653.2860\n",
      "Epoch 287/500\n",
      "22/22 [==============================] - 0s 5ms/step - loss: 202.9110 - val_loss: 1653.2853\n",
      "Epoch 288/500\n",
      "22/22 [==============================] - 0s 6ms/step - loss: 202.9115 - val_loss: 1653.2844\n",
      "Epoch 289/500\n",
      "22/22 [==============================] - 0s 6ms/step - loss: 202.9120 - val_loss: 1653.2830\n",
      "Epoch 290/500\n",
      "22/22 [==============================] - 0s 5ms/step - loss: 202.9125 - val_loss: 1653.2820\n",
      "Epoch 291/500\n",
      "22/22 [==============================] - 0s 6ms/step - loss: 202.9129 - val_loss: 1653.2802\n",
      "Epoch 292/500\n",
      "22/22 [==============================] - 0s 5ms/step - loss: 202.9135 - val_loss: 1653.2783\n",
      "Epoch 293/500\n",
      "22/22 [==============================] - 0s 5ms/step - loss: 202.9139 - val_loss: 1653.2773\n",
      "Epoch 294/500\n",
      "22/22 [==============================] - 0s 5ms/step - loss: 202.9143 - val_loss: 1653.2762\n",
      "Epoch 295/500\n",
      "22/22 [==============================] - 0s 5ms/step - loss: 202.9148 - val_loss: 1653.2750\n",
      "Epoch 296/500\n",
      "22/22 [==============================] - 0s 5ms/step - loss: 202.9152 - val_loss: 1653.2740\n",
      "Epoch 297/500\n",
      "22/22 [==============================] - 0s 5ms/step - loss: 202.9156 - val_loss: 1653.2733\n",
      "Epoch 298/500\n",
      "22/22 [==============================] - 0s 6ms/step - loss: 202.9160 - val_loss: 1653.2721\n",
      "Epoch 299/500\n",
      "22/22 [==============================] - 0s 6ms/step - loss: 202.9165 - val_loss: 1653.2695\n",
      "Epoch 300/500\n",
      "22/22 [==============================] - 0s 5ms/step - loss: 202.9169 - val_loss: 1653.2689\n",
      "Epoch 301/500\n",
      "22/22 [==============================] - 0s 5ms/step - loss: 202.9173 - val_loss: 1653.2681\n",
      "Epoch 302/500\n",
      "22/22 [==============================] - 0s 5ms/step - loss: 202.9176 - val_loss: 1653.2667\n",
      "Epoch 303/500\n",
      "22/22 [==============================] - 0s 6ms/step - loss: 202.9180 - val_loss: 1653.2659\n",
      "Epoch 304/500\n",
      "22/22 [==============================] - 0s 5ms/step - loss: 202.9184 - val_loss: 1653.2646\n",
      "Epoch 305/500\n",
      "22/22 [==============================] - 0s 5ms/step - loss: 202.9187 - val_loss: 1653.2635\n",
      "Epoch 306/500\n",
      "22/22 [==============================] - 0s 9ms/step - loss: 202.9191 - val_loss: 1653.2612\n",
      "Epoch 307/500\n",
      "22/22 [==============================] - 0s 6ms/step - loss: 202.9194 - val_loss: 1653.2605\n",
      "Epoch 308/500\n",
      "22/22 [==============================] - 0s 6ms/step - loss: 202.9198 - val_loss: 1653.2599\n",
      "Epoch 309/500\n",
      "22/22 [==============================] - 0s 6ms/step - loss: 202.9201 - val_loss: 1653.2583\n",
      "Epoch 310/500\n",
      "22/22 [==============================] - 0s 5ms/step - loss: 202.9205 - val_loss: 1653.2570\n",
      "Epoch 311/500\n",
      "22/22 [==============================] - 0s 5ms/step - loss: 202.9208 - val_loss: 1653.2566\n",
      "Epoch 312/500\n",
      "22/22 [==============================] - 0s 5ms/step - loss: 202.9211 - val_loss: 1653.2554\n",
      "Epoch 313/500\n",
      "22/22 [==============================] - 0s 5ms/step - loss: 202.9215 - val_loss: 1653.2537\n",
      "Epoch 314/500\n",
      "22/22 [==============================] - 0s 5ms/step - loss: 202.9218 - val_loss: 1653.2529\n",
      "Epoch 315/500\n",
      "22/22 [==============================] - 0s 5ms/step - loss: 202.9221 - val_loss: 1653.2518\n",
      "Epoch 316/500\n",
      "22/22 [==============================] - 0s 5ms/step - loss: 202.9224 - val_loss: 1653.2507\n",
      "Epoch 317/500\n",
      "22/22 [==============================] - 0s 5ms/step - loss: 202.9226 - val_loss: 1653.2496\n",
      "Epoch 318/500\n",
      "22/22 [==============================] - 0s 5ms/step - loss: 202.9229 - val_loss: 1653.2490\n",
      "Epoch 319/500\n",
      "22/22 [==============================] - 0s 5ms/step - loss: 202.9232 - val_loss: 1653.2483\n",
      "Epoch 320/500\n",
      "22/22 [==============================] - 0s 5ms/step - loss: 202.9235 - val_loss: 1653.2476\n",
      "Epoch 321/500\n",
      "22/22 [==============================] - 0s 5ms/step - loss: 202.9237 - val_loss: 1653.2471\n",
      "Epoch 322/500\n",
      "22/22 [==============================] - 0s 5ms/step - loss: 202.9240 - val_loss: 1653.2452\n",
      "Epoch 323/500\n",
      "22/22 [==============================] - 0s 6ms/step - loss: 202.9242 - val_loss: 1653.2441\n",
      "Epoch 324/500\n",
      "22/22 [==============================] - 0s 5ms/step - loss: 202.9245 - val_loss: 1653.2432\n",
      "Epoch 325/500\n",
      "22/22 [==============================] - 0s 5ms/step - loss: 202.9248 - val_loss: 1653.2424\n",
      "Epoch 326/500\n",
      "22/22 [==============================] - 0s 5ms/step - loss: 202.9250 - val_loss: 1653.2417\n",
      "Epoch 327/500\n",
      "22/22 [==============================] - 0s 5ms/step - loss: 202.9252 - val_loss: 1653.2408\n",
      "Epoch 328/500\n",
      "22/22 [==============================] - 0s 5ms/step - loss: 202.9254 - val_loss: 1653.2401\n",
      "Epoch 329/500\n",
      "22/22 [==============================] - 0s 5ms/step - loss: 202.9257 - val_loss: 1653.2397\n",
      "Epoch 330/500\n",
      "22/22 [==============================] - 0s 6ms/step - loss: 202.9259 - val_loss: 1653.2391\n",
      "Epoch 331/500\n",
      "22/22 [==============================] - 0s 5ms/step - loss: 202.9261 - val_loss: 1653.2388\n",
      "Epoch 332/500\n",
      "22/22 [==============================] - 0s 11ms/step - loss: 202.9263 - val_loss: 1653.2375\n",
      "Epoch 333/500\n",
      "22/22 [==============================] - 0s 6ms/step - loss: 202.9266 - val_loss: 1653.2368\n",
      "Epoch 334/500\n",
      "22/22 [==============================] - 0s 6ms/step - loss: 202.9267 - val_loss: 1653.2350\n",
      "Epoch 335/500\n",
      "22/22 [==============================] - 0s 6ms/step - loss: 202.9270 - val_loss: 1653.2347\n",
      "Epoch 336/500\n",
      "22/22 [==============================] - 0s 6ms/step - loss: 202.9272 - val_loss: 1653.2341\n",
      "Epoch 337/500\n",
      "22/22 [==============================] - 0s 5ms/step - loss: 202.9273 - val_loss: 1653.2333\n",
      "Epoch 338/500\n",
      "22/22 [==============================] - 0s 5ms/step - loss: 202.9276 - val_loss: 1653.2327\n",
      "Epoch 339/500\n",
      "22/22 [==============================] - 0s 5ms/step - loss: 202.9278 - val_loss: 1653.2319\n",
      "Epoch 340/500\n",
      "22/22 [==============================] - 0s 5ms/step - loss: 202.9279 - val_loss: 1653.2314\n",
      "Epoch 341/500\n",
      "22/22 [==============================] - 0s 5ms/step - loss: 202.9281 - val_loss: 1653.2305\n",
      "Epoch 342/500\n",
      "22/22 [==============================] - 0s 6ms/step - loss: 202.9283 - val_loss: 1653.2301\n",
      "Epoch 343/500\n",
      "22/22 [==============================] - 0s 5ms/step - loss: 202.9285 - val_loss: 1653.2297\n",
      "Epoch 344/500\n",
      "22/22 [==============================] - 0s 5ms/step - loss: 202.9286 - val_loss: 1653.2286\n",
      "Epoch 345/500\n",
      "22/22 [==============================] - 0s 5ms/step - loss: 202.9288 - val_loss: 1653.2283\n",
      "Epoch 346/500\n",
      "22/22 [==============================] - 0s 5ms/step - loss: 202.9290 - val_loss: 1653.2283\n",
      "Epoch 347/500\n",
      "22/22 [==============================] - 0s 5ms/step - loss: 202.9291 - val_loss: 1653.2268\n",
      "Epoch 348/500\n",
      "22/22 [==============================] - 0s 5ms/step - loss: 202.9293 - val_loss: 1653.2261\n",
      "Epoch 349/500\n",
      "22/22 [==============================] - 0s 5ms/step - loss: 202.9295 - val_loss: 1653.2257\n",
      "Epoch 350/500\n",
      "22/22 [==============================] - 0s 5ms/step - loss: 202.9296 - val_loss: 1653.2253\n",
      "Epoch 351/500\n",
      "22/22 [==============================] - 0s 5ms/step - loss: 202.9297 - val_loss: 1653.2250\n",
      "Epoch 352/500\n",
      "22/22 [==============================] - 0s 5ms/step - loss: 202.9298 - val_loss: 1653.2239\n",
      "Epoch 353/500\n",
      "22/22 [==============================] - 0s 6ms/step - loss: 202.9300 - val_loss: 1653.2234\n",
      "Epoch 354/500\n",
      "22/22 [==============================] - 0s 6ms/step - loss: 202.9300 - val_loss: 1653.2227\n",
      "Epoch 355/500\n",
      "22/22 [==============================] - 0s 5ms/step - loss: 202.9302 - val_loss: 1653.2220\n",
      "Epoch 356/500\n",
      "22/22 [==============================] - 0s 5ms/step - loss: 202.9304 - val_loss: 1653.2220\n",
      "Epoch 357/500\n",
      "22/22 [==============================] - 0s 11ms/step - loss: 202.9305 - val_loss: 1653.2217\n",
      "Epoch 358/500\n",
      "22/22 [==============================] - 0s 6ms/step - loss: 202.9306 - val_loss: 1653.2216\n",
      "Epoch 359/500\n",
      "22/22 [==============================] - 0s 5ms/step - loss: 202.9307 - val_loss: 1653.2213\n",
      "Epoch 360/500\n",
      "22/22 [==============================] - 0s 5ms/step - loss: 202.9308 - val_loss: 1653.2212\n",
      "Epoch 361/500\n",
      "22/22 [==============================] - 0s 5ms/step - loss: 202.9310 - val_loss: 1653.2208\n",
      "Epoch 362/500\n",
      "22/22 [==============================] - 0s 6ms/step - loss: 202.9311 - val_loss: 1653.2202\n",
      "Epoch 363/500\n",
      "22/22 [==============================] - 0s 6ms/step - loss: 202.9312 - val_loss: 1653.2195\n",
      "Epoch 364/500\n",
      "22/22 [==============================] - 0s 5ms/step - loss: 202.9313 - val_loss: 1653.2191\n",
      "Epoch 365/500\n",
      "22/22 [==============================] - 0s 5ms/step - loss: 202.9315 - val_loss: 1653.2188\n",
      "Epoch 366/500\n",
      "22/22 [==============================] - 0s 5ms/step - loss: 202.9315 - val_loss: 1653.2184\n",
      "Epoch 367/500\n",
      "22/22 [==============================] - 0s 5ms/step - loss: 202.9317 - val_loss: 1653.2184\n",
      "Epoch 368/500\n",
      "22/22 [==============================] - 0s 5ms/step - loss: 202.9318 - val_loss: 1653.2178\n",
      "Epoch 369/500\n",
      "22/22 [==============================] - 0s 5ms/step - loss: 202.9319 - val_loss: 1653.2177\n",
      "Epoch 370/500\n",
      "22/22 [==============================] - 0s 5ms/step - loss: 202.9320 - val_loss: 1653.2174\n",
      "Epoch 371/500\n",
      "22/22 [==============================] - 0s 5ms/step - loss: 202.9320 - val_loss: 1653.2166\n",
      "Epoch 372/500\n",
      "22/22 [==============================] - 0s 5ms/step - loss: 202.9322 - val_loss: 1653.2163\n",
      "Epoch 373/500\n",
      "22/22 [==============================] - 0s 5ms/step - loss: 202.9322 - val_loss: 1653.2162\n",
      "Epoch 374/500\n",
      "22/22 [==============================] - 0s 5ms/step - loss: 202.9324 - val_loss: 1653.2159\n",
      "Epoch 375/500\n",
      "22/22 [==============================] - 0s 6ms/step - loss: 202.9325 - val_loss: 1653.2159\n",
      "Epoch 376/500\n",
      "22/22 [==============================] - 0s 5ms/step - loss: 202.9325 - val_loss: 1653.2156\n",
      "Epoch 377/500\n",
      "22/22 [==============================] - 0s 5ms/step - loss: 202.9326 - val_loss: 1653.2152\n",
      "Epoch 378/500\n",
      "22/22 [==============================] - 0s 5ms/step - loss: 202.9327 - val_loss: 1653.2151\n",
      "Epoch 379/500\n",
      "22/22 [==============================] - 0s 5ms/step - loss: 202.9328 - val_loss: 1653.2148\n",
      "Epoch 380/500\n",
      "22/22 [==============================] - 0s 6ms/step - loss: 202.9328 - val_loss: 1653.2144\n",
      "Epoch 381/500\n",
      "22/22 [==============================] - 0s 12ms/step - loss: 202.9330 - val_loss: 1653.2141\n",
      "Epoch 382/500\n",
      "22/22 [==============================] - 0s 6ms/step - loss: 202.9330 - val_loss: 1653.2140\n",
      "Epoch 383/500\n",
      "22/22 [==============================] - 0s 7ms/step - loss: 202.9330 - val_loss: 1653.2130\n",
      "Epoch 384/500\n",
      "22/22 [==============================] - 0s 6ms/step - loss: 202.9332 - val_loss: 1653.2126\n",
      "Epoch 385/500\n",
      "22/22 [==============================] - 0s 6ms/step - loss: 202.9332 - val_loss: 1653.2126\n",
      "Epoch 386/500\n",
      "22/22 [==============================] - 0s 6ms/step - loss: 202.9333 - val_loss: 1653.2125\n",
      "Epoch 387/500\n",
      "22/22 [==============================] - 0s 6ms/step - loss: 202.9334 - val_loss: 1653.2123\n",
      "Epoch 388/500\n",
      "22/22 [==============================] - 0s 6ms/step - loss: 202.9334 - val_loss: 1653.2123\n",
      "Epoch 389/500\n",
      "22/22 [==============================] - 0s 7ms/step - loss: 202.9335 - val_loss: 1653.2119\n",
      "Epoch 390/500\n",
      "22/22 [==============================] - 0s 6ms/step - loss: 202.9335 - val_loss: 1653.2119\n",
      "Epoch 391/500\n",
      "22/22 [==============================] - 0s 6ms/step - loss: 202.9336 - val_loss: 1653.2118\n",
      "Epoch 392/500\n",
      "22/22 [==============================] - 0s 6ms/step - loss: 202.9337 - val_loss: 1653.2115\n",
      "Epoch 393/500\n",
      "22/22 [==============================] - 0s 6ms/step - loss: 202.9337 - val_loss: 1653.2112\n",
      "Epoch 394/500\n",
      "22/22 [==============================] - 0s 6ms/step - loss: 202.9337 - val_loss: 1653.2103\n",
      "Epoch 395/500\n",
      "22/22 [==============================] - 0s 6ms/step - loss: 202.9338 - val_loss: 1653.2103\n",
      "Epoch 396/500\n",
      "22/22 [==============================] - 0s 6ms/step - loss: 202.9339 - val_loss: 1653.2103\n",
      "Epoch 397/500\n",
      "22/22 [==============================] - 0s 10ms/step - loss: 202.9340 - val_loss: 1653.2103\n",
      "Epoch 398/500\n",
      "22/22 [==============================] - 0s 6ms/step - loss: 202.9340 - val_loss: 1653.2101\n",
      "Epoch 399/500\n",
      "22/22 [==============================] - 0s 7ms/step - loss: 202.9341 - val_loss: 1653.2100\n",
      "Epoch 400/500\n",
      "22/22 [==============================] - 0s 6ms/step - loss: 202.9342 - val_loss: 1653.2103\n",
      "Epoch 401/500\n",
      "22/22 [==============================] - 0s 6ms/step - loss: 202.9342 - val_loss: 1653.2096\n",
      "Epoch 402/500\n",
      "22/22 [==============================] - 0s 6ms/step - loss: 202.9342 - val_loss: 1653.2090\n",
      "Epoch 403/500\n",
      "22/22 [==============================] - 0s 6ms/step - loss: 202.9343 - val_loss: 1653.2086\n",
      "Epoch 404/500\n",
      "22/22 [==============================] - 0s 10ms/step - loss: 202.9343 - val_loss: 1653.2083\n",
      "Epoch 405/500\n",
      "22/22 [==============================] - 0s 6ms/step - loss: 202.9344 - val_loss: 1653.2083\n",
      "Epoch 406/500\n",
      "22/22 [==============================] - 0s 6ms/step - loss: 202.9344 - val_loss: 1653.2083\n",
      "Epoch 407/500\n",
      "22/22 [==============================] - 0s 6ms/step - loss: 202.9345 - val_loss: 1653.2083\n",
      "Epoch 408/500\n",
      "22/22 [==============================] - 0s 5ms/step - loss: 202.9345 - val_loss: 1653.2083\n",
      "Epoch 409/500\n",
      "22/22 [==============================] - 0s 5ms/step - loss: 202.9345 - val_loss: 1653.2081\n",
      "Epoch 410/500\n",
      "22/22 [==============================] - 0s 5ms/step - loss: 202.9345 - val_loss: 1653.2081\n",
      "Epoch 411/500\n",
      "22/22 [==============================] - 0s 5ms/step - loss: 202.9346 - val_loss: 1653.2078\n",
      "Epoch 412/500\n",
      "22/22 [==============================] - 0s 6ms/step - loss: 202.9346 - val_loss: 1653.2078\n",
      "Epoch 413/500\n",
      "22/22 [==============================] - 0s 6ms/step - loss: 202.9347 - val_loss: 1653.2078\n",
      "Epoch 414/500\n",
      "22/22 [==============================] - 0s 5ms/step - loss: 202.9347 - val_loss: 1653.2078\n",
      "Epoch 415/500\n",
      "22/22 [==============================] - 0s 5ms/step - loss: 202.9347 - val_loss: 1653.2074\n",
      "Epoch 416/500\n",
      "22/22 [==============================] - 0s 5ms/step - loss: 202.9348 - val_loss: 1653.2078\n",
      "Epoch 417/500\n",
      "22/22 [==============================] - 0s 5ms/step - loss: 202.9348 - val_loss: 1653.2078\n",
      "Epoch 418/500\n",
      "22/22 [==============================] - 0s 5ms/step - loss: 202.9348 - val_loss: 1653.2074\n",
      "Epoch 419/500\n",
      "22/22 [==============================] - 0s 5ms/step - loss: 202.9348 - val_loss: 1653.2072\n",
      "Epoch 420/500\n",
      "22/22 [==============================] - 0s 5ms/step - loss: 202.9349 - val_loss: 1653.2072\n",
      "Epoch 421/500\n",
      "22/22 [==============================] - 0s 5ms/step - loss: 202.9349 - val_loss: 1653.2072\n",
      "Epoch 422/500\n",
      "22/22 [==============================] - 0s 5ms/step - loss: 202.9350 - val_loss: 1653.2074\n",
      "Epoch 423/500\n",
      "22/22 [==============================] - 0s 6ms/step - loss: 202.9350 - val_loss: 1653.2070\n",
      "Epoch 424/500\n",
      "22/22 [==============================] - 0s 5ms/step - loss: 202.9350 - val_loss: 1653.2070\n",
      "Epoch 425/500\n",
      "22/22 [==============================] - 0s 5ms/step - loss: 202.9350 - val_loss: 1653.2070\n",
      "Epoch 426/500\n",
      "22/22 [==============================] - 0s 5ms/step - loss: 202.9350 - val_loss: 1653.2064\n",
      "Epoch 427/500\n",
      "22/22 [==============================] - 0s 5ms/step - loss: 202.9351 - val_loss: 1653.2064\n",
      "Epoch 428/500\n",
      "22/22 [==============================] - 0s 5ms/step - loss: 202.9352 - val_loss: 1653.2070\n",
      "Epoch 429/500\n",
      "22/22 [==============================] - 0s 5ms/step - loss: 202.9352 - val_loss: 1653.2074\n",
      "Epoch 430/500\n",
      "22/22 [==============================] - 0s 10ms/step - loss: 202.9352 - val_loss: 1653.2072\n",
      "Epoch 431/500\n",
      "22/22 [==============================] - 0s 6ms/step - loss: 202.9352 - val_loss: 1653.2072\n",
      "Epoch 432/500\n",
      "22/22 [==============================] - 0s 5ms/step - loss: 202.9352 - val_loss: 1653.2068\n",
      "Epoch 433/500\n",
      "22/22 [==============================] - 0s 5ms/step - loss: 202.9352 - val_loss: 1653.2061\n",
      "Epoch 434/500\n",
      "22/22 [==============================] - 0s 6ms/step - loss: 202.9353 - val_loss: 1653.2057\n",
      "Epoch 435/500\n",
      "22/22 [==============================] - 0s 5ms/step - loss: 202.9353 - val_loss: 1653.2057\n",
      "Epoch 436/500\n",
      "22/22 [==============================] - 0s 5ms/step - loss: 202.9354 - val_loss: 1653.2064\n",
      "Epoch 437/500\n",
      "22/22 [==============================] - 0s 6ms/step - loss: 202.9354 - val_loss: 1653.2068\n",
      "Epoch 438/500\n",
      "22/22 [==============================] - 0s 5ms/step - loss: 202.9354 - val_loss: 1653.2068\n",
      "Epoch 439/500\n",
      "22/22 [==============================] - 0s 5ms/step - loss: 202.9354 - val_loss: 1653.2068\n",
      "Epoch 440/500\n",
      "22/22 [==============================] - 0s 5ms/step - loss: 202.9354 - val_loss: 1653.2061\n",
      "Epoch 441/500\n",
      "22/22 [==============================] - 0s 6ms/step - loss: 202.9354 - val_loss: 1653.2053\n",
      "Epoch 442/500\n",
      "22/22 [==============================] - 0s 5ms/step - loss: 202.9354 - val_loss: 1653.2052\n",
      "Epoch 443/500\n",
      "22/22 [==============================] - 0s 6ms/step - loss: 202.9355 - val_loss: 1653.2052\n",
      "Epoch 444/500\n",
      "22/22 [==============================] - 0s 5ms/step - loss: 202.9355 - val_loss: 1653.2053\n",
      "Epoch 445/500\n",
      "22/22 [==============================] - 0s 5ms/step - loss: 202.9356 - val_loss: 1653.2053\n",
      "Epoch 446/500\n",
      "22/22 [==============================] - 0s 5ms/step - loss: 202.9356 - val_loss: 1653.2061\n",
      "Epoch 447/500\n",
      "22/22 [==============================] - 0s 5ms/step - loss: 202.9356 - val_loss: 1653.2061\n",
      "Epoch 448/500\n",
      "22/22 [==============================] - 0s 5ms/step - loss: 202.9356 - val_loss: 1653.2056\n",
      "Epoch 449/500\n",
      "22/22 [==============================] - 0s 5ms/step - loss: 202.9356 - val_loss: 1653.2052\n",
      "Epoch 450/500\n",
      "22/22 [==============================] - 0s 5ms/step - loss: 202.9356 - val_loss: 1653.2048\n",
      "Epoch 451/500\n",
      "22/22 [==============================] - 0s 6ms/step - loss: 202.9356 - val_loss: 1653.2048\n",
      "Epoch 452/500\n",
      "22/22 [==============================] - 0s 5ms/step - loss: 202.9356 - val_loss: 1653.2045\n",
      "Epoch 453/500\n",
      "22/22 [==============================] - 0s 6ms/step - loss: 202.9356 - val_loss: 1653.2041\n",
      "Epoch 454/500\n",
      "22/22 [==============================] - 0s 11ms/step - loss: 202.9357 - val_loss: 1653.2041\n",
      "Epoch 455/500\n",
      "22/22 [==============================] - 0s 7ms/step - loss: 202.9357 - val_loss: 1653.2037\n",
      "Epoch 456/500\n",
      "22/22 [==============================] - 0s 6ms/step - loss: 202.9358 - val_loss: 1653.2034\n",
      "Epoch 457/500\n",
      "22/22 [==============================] - 0s 5ms/step - loss: 202.9358 - val_loss: 1653.2037\n",
      "Epoch 458/500\n",
      "22/22 [==============================] - 0s 5ms/step - loss: 202.9358 - val_loss: 1653.2041\n",
      "Epoch 459/500\n",
      "22/22 [==============================] - 0s 5ms/step - loss: 202.9358 - val_loss: 1653.2041\n",
      "Epoch 460/500\n",
      "22/22 [==============================] - 0s 5ms/step - loss: 202.9358 - val_loss: 1653.2039\n",
      "Epoch 461/500\n",
      "22/22 [==============================] - 0s 5ms/step - loss: 202.9358 - val_loss: 1653.2039\n",
      "Epoch 462/500\n",
      "22/22 [==============================] - 0s 5ms/step - loss: 202.9358 - val_loss: 1653.2037\n",
      "Epoch 463/500\n",
      "22/22 [==============================] - 0s 8ms/step - loss: 202.9358 - val_loss: 1653.2037\n",
      "Epoch 464/500\n",
      "22/22 [==============================] - 0s 6ms/step - loss: 202.9358 - val_loss: 1653.2037\n",
      "Epoch 465/500\n",
      "22/22 [==============================] - 0s 6ms/step - loss: 202.9358 - val_loss: 1653.2031\n",
      "Epoch 466/500\n",
      "22/22 [==============================] - 0s 5ms/step - loss: 202.9359 - val_loss: 1653.2031\n",
      "Epoch 467/500\n",
      "22/22 [==============================] - 0s 5ms/step - loss: 202.9359 - val_loss: 1653.2031\n",
      "Epoch 468/500\n",
      "22/22 [==============================] - 0s 5ms/step - loss: 202.9359 - val_loss: 1653.2028\n",
      "Epoch 469/500\n",
      "22/22 [==============================] - 0s 6ms/step - loss: 202.9359 - val_loss: 1653.2018\n",
      "Epoch 470/500\n",
      "22/22 [==============================] - 0s 5ms/step - loss: 202.9359 - val_loss: 1653.2018\n",
      "Epoch 471/500\n",
      "22/22 [==============================] - 0s 6ms/step - loss: 202.9359 - val_loss: 1653.2018\n",
      "Epoch 472/500\n",
      "22/22 [==============================] - 0s 5ms/step - loss: 202.9359 - val_loss: 1653.2018\n",
      "Epoch 473/500\n",
      "22/22 [==============================] - 0s 5ms/step - loss: 202.9359 - val_loss: 1653.2018\n",
      "Epoch 474/500\n",
      "22/22 [==============================] - 0s 5ms/step - loss: 202.9360 - val_loss: 1653.2018\n",
      "Epoch 475/500\n",
      "22/22 [==============================] - 0s 5ms/step - loss: 202.9360 - val_loss: 1653.2018\n",
      "Epoch 476/500\n",
      "22/22 [==============================] - 0s 5ms/step - loss: 202.9360 - val_loss: 1653.2018\n",
      "Epoch 477/500\n",
      "22/22 [==============================] - 0s 6ms/step - loss: 202.9360 - val_loss: 1653.2018\n",
      "Epoch 478/500\n",
      "22/22 [==============================] - 0s 11ms/step - loss: 202.9360 - val_loss: 1653.2020\n",
      "Epoch 479/500\n",
      "22/22 [==============================] - 0s 6ms/step - loss: 202.9360 - val_loss: 1653.2020\n",
      "Epoch 480/500\n",
      "22/22 [==============================] - 0s 6ms/step - loss: 202.9360 - val_loss: 1653.2028\n",
      "Epoch 481/500\n",
      "22/22 [==============================] - 0s 6ms/step - loss: 202.9360 - val_loss: 1653.2029\n",
      "Epoch 482/500\n",
      "22/22 [==============================] - 0s 6ms/step - loss: 202.9360 - val_loss: 1653.2029\n",
      "Epoch 483/500\n",
      "22/22 [==============================] - 0s 5ms/step - loss: 202.9361 - val_loss: 1653.2031\n",
      "Epoch 484/500\n",
      "22/22 [==============================] - 0s 5ms/step - loss: 202.9361 - val_loss: 1653.2034\n",
      "Epoch 485/500\n",
      "22/22 [==============================] - 0s 6ms/step - loss: 202.9361 - val_loss: 1653.2037\n",
      "Epoch 486/500\n",
      "22/22 [==============================] - 0s 6ms/step - loss: 202.9361 - val_loss: 1653.2041\n",
      "Epoch 487/500\n",
      "22/22 [==============================] - 0s 5ms/step - loss: 202.9361 - val_loss: 1653.2041\n",
      "Epoch 488/500\n",
      "22/22 [==============================] - 0s 5ms/step - loss: 202.9361 - val_loss: 1653.2041\n",
      "Epoch 489/500\n",
      "22/22 [==============================] - 0s 6ms/step - loss: 202.9361 - val_loss: 1653.2041\n",
      "Epoch 490/500\n",
      "22/22 [==============================] - 0s 5ms/step - loss: 202.9361 - val_loss: 1653.2039\n",
      "Epoch 491/500\n",
      "22/22 [==============================] - 0s 5ms/step - loss: 202.9361 - val_loss: 1653.2039\n",
      "Epoch 492/500\n",
      "22/22 [==============================] - 0s 6ms/step - loss: 202.9361 - val_loss: 1653.2039\n",
      "Epoch 493/500\n",
      "22/22 [==============================] - 0s 5ms/step - loss: 202.9361 - val_loss: 1653.2041\n",
      "Epoch 494/500\n",
      "22/22 [==============================] - 0s 5ms/step - loss: 202.9361 - val_loss: 1653.2041\n",
      "Epoch 495/500\n",
      "22/22 [==============================] - 0s 5ms/step - loss: 202.9361 - val_loss: 1653.2041\n",
      "Epoch 496/500\n",
      "22/22 [==============================] - 0s 5ms/step - loss: 202.9362 - val_loss: 1653.2041\n",
      "Epoch 497/500\n",
      "22/22 [==============================] - 0s 5ms/step - loss: 202.9362 - val_loss: 1653.2041\n",
      "Epoch 498/500\n",
      "22/22 [==============================] - 0s 5ms/step - loss: 202.9362 - val_loss: 1653.2041\n",
      "Epoch 499/500\n",
      "22/22 [==============================] - 0s 6ms/step - loss: 202.9361 - val_loss: 1653.2039\n",
      "Epoch 500/500\n",
      "22/22 [==============================] - 0s 5ms/step - loss: 202.9361 - val_loss: 1653.2039\n"
     ]
    }
   ],
   "source": [
    "C0 = tf.Variable(86.6465, name=\"C0\", trainable=True, dtype=tf.float32)\n",
    "K0 = tf.Variable(-0.0029, name=\"K0\", trainable=True, dtype=tf.float32)\n",
    "K1 = tf.Variable(-0.0003, name=\"K1\", trainable=True, dtype=tf.float32)\n",
    "a = tf.Variable(0.0000, name=\"a\", trainable=True, dtype=tf.float32)\n",
    "b = tf.Variable(0.0168, name=\"b\", trainable=True, dtype=tf.float32)\n",
    "c = tf.Variable(2.3581, name=\"c\", trainable=True, dtype=tf.float32)\n",
    "\n",
    "splitr = 0.8\n",
    "\n",
    "\n",
    "def loss_fn(y_true, y_pred):\n",
    "    squared_difference = tf.square(y_true[:, 0] - y_pred[:, 0])\n",
    "    #squared_difference2 = tf.square(y_true[:, 2]-y_pred[:, 2])\n",
    "    #squared_difference1 = tf.square(y_true[:, 1]-y_pred[:, 1])\n",
    "    epsilon = 1\n",
    "    squared_difference3 = tf.square(\n",
    "        y_pred[:, 1] - (\n",
    "            y_pred[:, 0] * (\n",
    "                K0 - K1 * (\n",
    "                    9 * a * tf.math.log((y_pred[:, 0] + epsilon) / C0) / (K0 - K1 * c)**2 +\n",
    "                    4 * b * tf.math.log((y_pred[:, 0] + epsilon) / C0) / (K0 - K1 * c) + c\n",
    "                )\n",
    "            )\n",
    "        )\n",
    "    )\n",
    "    return tf.reduce_mean(squared_difference, axis=-1) + 0.2*tf.reduce_mean(squared_difference3, axis=-1)\n",
    "model = Sequential()\n",
    "model.add(LSTM(100, input_shape=(trainX.shape[1], trainX.shape[2])))\n",
    "model.add(Dense(60))\n",
    "model.compile(loss=loss_fn, optimizer='adam')\n",
    "history = model.fit(trainX[:int(splitr*trainX.shape[0])], trainy[:int(splitr*trainX.shape[0])], epochs=500, batch_size=64, validation_data=(trainX[int(splitr*trainX.shape[0]):trainX.shape[0]], trainy[int(splitr*trainX.shape[0]):trainX.shape[0]]), shuffle=False)"
   ]
  },
  {
   "cell_type": "code",
   "execution_count": 19,
   "metadata": {
    "colab": {
     "base_uri": "https://localhost:8080/"
    },
    "id": "yJL101rPyuoT",
    "outputId": "239ff2b1-c186-423a-d316-939dfdd7c793"
   },
   "outputs": [
    {
     "name": "stdout",
     "output_type": "stream",
     "text": [
      "1/1 [==============================] - 1s 528ms/step\n"
     ]
    }
   ],
   "source": [
    "forecast_without_mc = forecastX\n",
    "yhat_without_mc = model.predict(forecast_without_mc) # Step Ahead Prediction\n",
    "forecast_without_mc = forecast_without_mc.reshape((forecast_without_mc.shape[0], forecast_without_mc.shape[2])) # Historical Input"
   ]
  },
  {
   "cell_type": "code",
   "execution_count": 20,
   "metadata": {
    "colab": {
     "base_uri": "https://localhost:8080/"
    },
    "id": "g9dQELcJ8wbp",
    "outputId": "4dc7671b-b1a8-48d5-8744-a86f98446109"
   },
   "outputs": [
    {
     "data": {
      "text/plain": [
       "(1, 1, 251)"
      ]
     },
     "execution_count": 20,
     "metadata": {},
     "output_type": "execute_result"
    }
   ],
   "source": [
    "forecastX.shape"
   ]
  },
  {
   "cell_type": "code",
   "execution_count": 21,
   "metadata": {
    "colab": {
     "base_uri": "https://localhost:8080/"
    },
    "id": "IS2kyIKG1Kbr",
    "outputId": "f31b3485-8e26-452f-9298-ea8bf7e80ad1"
   },
   "outputs": [
    {
     "data": {
      "text/plain": [
       "(1, 251)"
      ]
     },
     "execution_count": 21,
     "metadata": {},
     "output_type": "execute_result"
    }
   ],
   "source": [
    "forecast_without_mc.shape"
   ]
  },
  {
   "cell_type": "code",
   "execution_count": 22,
   "metadata": {
    "id": "0u6VIzaDyuoT"
   },
   "outputs": [],
   "source": [
    "inv_yhat_without_mc = np.concatenate((forecast_without_mc, yhat_without_mc), axis=1) # Concatenation of predicted values with Historical Data\n",
    "#inv_yhat_without_mc = scaler.inverse_transform(inv_yhat_without_mc) # Transform labels back to original encoding"
   ]
  },
  {
   "cell_type": "code",
   "execution_count": 23,
   "metadata": {
    "colab": {
     "base_uri": "https://localhost:8080/"
    },
    "id": "EUEcw0LX07oU",
    "outputId": "cfc32397-9c37-4b43-d087-584bb31c3dcc"
   },
   "outputs": [
    {
     "data": {
      "text/plain": [
       "(1, 311)"
      ]
     },
     "execution_count": 23,
     "metadata": {},
     "output_type": "execute_result"
    }
   ],
   "source": [
    "inv_yhat_without_mc.shape"
   ]
  },
  {
   "cell_type": "code",
   "execution_count": 24,
   "metadata": {
    "id": "31OWVbSh_305"
   },
   "outputs": [],
   "source": [
    "fforecast = inv_yhat_without_mc[:,-300:]"
   ]
  },
  {
   "cell_type": "code",
   "execution_count": 25,
   "metadata": {},
   "outputs": [
    {
     "data": {
      "text/plain": [
       "(1, 300)"
      ]
     },
     "execution_count": 25,
     "metadata": {},
     "output_type": "execute_result"
    }
   ],
   "source": [
    "fforecast.shape"
   ]
  },
  {
   "cell_type": "code",
   "execution_count": 26,
   "metadata": {
    "id": "BlpGH2FOAiRF"
   },
   "outputs": [],
   "source": [
    "final_forecast = fforecast[:,0:300:3]"
   ]
  },
  {
   "cell_type": "code",
   "execution_count": 27,
   "metadata": {},
   "outputs": [
    {
     "data": {
      "text/plain": [
       "(1, 300)"
      ]
     },
     "execution_count": 27,
     "metadata": {},
     "output_type": "execute_result"
    }
   ],
   "source": [
    "fforecast.shape"
   ]
  },
  {
   "cell_type": "code",
   "execution_count": 28,
   "metadata": {
    "id": "CXkgkj_LBk_t"
   },
   "outputs": [],
   "source": [
    "# code to replace all negative value with 0\n",
    "final_forecast[final_forecast<0] = 0"
   ]
  },
  {
   "cell_type": "code",
   "execution_count": 29,
   "metadata": {},
   "outputs": [
    {
     "data": {
      "text/plain": [
       "array([[6.43562091e+01, 6.39482026e+01, 6.37717320e+01, 6.35952614e+01,\n",
       "        7.01576080e+01, 0.00000000e+00, 3.46430600e-01, 0.00000000e+00,\n",
       "        5.65112590e-01, 3.09912920e-01, 0.00000000e+00, 6.30238290e-01,\n",
       "        0.00000000e+00, 6.52712418e+01, 6.47670401e+01, 6.42628385e+01,\n",
       "        0.00000000e+00, 1.82196870e-01, 6.62425303e+01, 6.59808590e+01,\n",
       "        6.54766573e+01, 6.49724557e+01, 6.44682540e+01, 6.39874183e+01,\n",
       "        6.38109477e+01, 6.36344771e+01, 6.34580065e+01, 0.00000000e+00,\n",
       "        4.71156840e-01, 6.46736695e+01, 6.41694678e+01, 6.38828431e+01,\n",
       "        6.37063725e+01, 6.35299020e+01, 6.33534314e+01, 6.31418067e+01,\n",
       "        6.29149160e+01, 6.26880252e+01, 0.00000000e+00, 0.00000000e+00,\n",
       "        2.19523504e-01, 0.00000000e+00, 0.00000000e+00, 0.00000000e+00,\n",
       "        0.00000000e+00, 0.00000000e+00, 0.00000000e+00, 6.36736928e+01,\n",
       "        6.34972222e+01, 0.00000000e+00, 3.53158380e-01, 6.47857143e+01,\n",
       "        6.42815126e+01, 6.39220588e+01, 6.37455882e+01, 6.35691177e+01,\n",
       "        6.33926471e+01, 6.31922269e+01, 6.29653361e+01, 6.27384454e+01,\n",
       "        0.00000000e+00, 5.23700950e-01, 6.36410131e+01, 6.34645425e+01,\n",
       "        6.32846639e+01, 6.30577731e+01, 6.28308824e+01, 6.71429739e+01,\n",
       "        6.64479458e+01, 6.53832867e+01, 1.66747361e-01, 7.79817820e-01,\n",
       "        0.00000000e+00, 5.02027245e+01, 0.00000000e+00, 7.84876525e-01,\n",
       "        0.00000000e+00, 0.00000000e+00, 1.17062069e-01, 0.00000000e+00,\n",
       "        6.50290375e+01, 0.00000000e+00, 7.85096586e-02, 0.00000000e+00,\n",
       "        7.30025113e-01, 6.65228516e-02, 6.76276684e-01, 0.00000000e+00,\n",
       "        0.00000000e+00, 0.00000000e+00, 0.00000000e+00, 0.00000000e+00,\n",
       "        5.93823530e-02, 0.00000000e+00, 2.17627078e-01, 1.15207791e-01,\n",
       "        6.18553162e-01, 4.47264045e-01, 8.58413935e-01, 0.00000000e+00]])"
      ]
     },
     "execution_count": 29,
     "metadata": {},
     "output_type": "execute_result"
    }
   ],
   "source": [
    "final_forecast"
   ]
  },
  {
   "cell_type": "code",
   "execution_count": 30,
   "metadata": {},
   "outputs": [
    {
     "data": {
      "text/plain": [
       "(1, 100)"
      ]
     },
     "execution_count": 30,
     "metadata": {},
     "output_type": "execute_result"
    }
   ],
   "source": [
    "final_forecast.shape"
   ]
  },
  {
   "cell_type": "code",
   "execution_count": 31,
   "metadata": {},
   "outputs": [
    {
     "data": {
      "text/plain": [
       "(100,)"
      ]
     },
     "execution_count": 31,
     "metadata": {},
     "output_type": "execute_result"
    }
   ],
   "source": [
    "test.shape"
   ]
  },
  {
   "cell_type": "code",
   "execution_count": 32,
   "metadata": {},
   "outputs": [],
   "source": [
    "training_set = np.array(training_set)\n",
    "test = np.array(test)\n",
    "final_forecast = np.array(final_forecast.squeeze(0))"
   ]
  },
  {
   "cell_type": "code",
   "execution_count": 33,
   "metadata": {},
   "outputs": [
    {
     "data": {
      "text/plain": [
       "array([55.25199153, 55.24324657, 55.23450161, 55.22575664, 55.21701168,\n",
       "       55.20826672, 55.19952176, 55.1907768 , 55.18203184, 55.17328688,\n",
       "       55.16454191, 55.15579695, 55.14705199, 55.13830703, 55.12956207,\n",
       "       55.12081711, 55.11207215, 55.10332718, 55.09458222, 55.08583726,\n",
       "       55.0770923 , 55.06834734, 55.05960238, 55.05085742, 55.04211245,\n",
       "       55.03336749, 55.02462253, 55.01587757, 55.00713261, 54.99838765,\n",
       "       54.98964269, 54.98089772, 54.97215276, 54.9634078 , 54.95466284,\n",
       "       54.94591788, 54.93717292, 54.92842796, 54.919683  , 54.91093803,\n",
       "       54.90219307, 54.89344811, 54.88470315, 54.87595819, 54.86721323,\n",
       "       54.85846827, 54.8497233 , 54.84097834, 54.83223338, 54.82348842,\n",
       "       54.81474346, 54.8059985 , 54.79725354, 54.78850857, 54.77976361,\n",
       "       54.77101865, 54.76227369, 54.75352873, 54.74478377, 54.73603881,\n",
       "       54.72729384, 54.71854888, 54.70980392, 54.70105896, 54.692314  ,\n",
       "       54.68356904, 54.67482408, 54.66607911, 54.65733415, 54.64858919,\n",
       "       54.63984423, 54.63109927, 54.62235431, 54.61360935, 54.60486438,\n",
       "       54.59611942, 54.58737446, 54.5786295 , 54.56988454, 54.56113958,\n",
       "       54.55239462, 54.54364965, 54.53490469, 54.52615973, 54.51741477,\n",
       "       54.50866981, 54.49992485, 54.49117989, 54.48243493, 54.47368996,\n",
       "       54.464945  , 54.45620004, 54.44745508, 54.43871012, 54.42996516,\n",
       "       54.4212202 , 54.41247523, 54.40373027, 54.39498531, 54.38624035])"
      ]
     },
     "execution_count": 33,
     "metadata": {},
     "output_type": "execute_result"
    }
   ],
   "source": [
    "test"
   ]
  },
  {
   "cell_type": "code",
   "execution_count": 34,
   "metadata": {},
   "outputs": [
    {
     "data": {
      "text/plain": [
       "(100,)"
      ]
     },
     "execution_count": 34,
     "metadata": {},
     "output_type": "execute_result"
    }
   ],
   "source": [
    "test.shape"
   ]
  },
  {
   "cell_type": "code",
   "execution_count": 35,
   "metadata": {},
   "outputs": [
    {
     "data": {
      "text/plain": [
       "(100,)"
      ]
     },
     "execution_count": 35,
     "metadata": {},
     "output_type": "execute_result"
    }
   ],
   "source": [
    "final_forecast.shape"
   ]
  },
  {
   "cell_type": "code",
   "execution_count": 36,
   "metadata": {},
   "outputs": [
    {
     "data": {
      "text/plain": [
       "(100,)"
      ]
     },
     "execution_count": 36,
     "metadata": {},
     "output_type": "execute_result"
    }
   ],
   "source": [
    "test.shape"
   ]
  },
  {
   "cell_type": "code",
   "execution_count": 37,
   "metadata": {},
   "outputs": [
    {
     "name": "stdout",
     "output_type": "stream",
     "text": [
      "40.230595707367584\n",
      "33.239257417255814\n"
     ]
    }
   ],
   "source": [
    "import math\n",
    "MSE = np.square(np.subtract(np.array(test),np.array(final_forecast))).mean()   \n",
    "rsme = math.sqrt(MSE)\n",
    "print(rsme)  \n",
    "MAE = np.abs(np.subtract(np.array(test),np.array(final_forecast))).mean()   \n",
    "mae = MAE\n",
    "print(mae)"
   ]
  }
 ],
 "metadata": {
  "colab": {
   "provenance": []
  },
  "kernelspec": {
   "display_name": "Python 3",
   "language": "python",
   "name": "python3"
  },
  "language_info": {
   "codemirror_mode": {
    "name": "ipython",
    "version": 3
   },
   "file_extension": ".py",
   "mimetype": "text/x-python",
   "name": "python",
   "nbconvert_exporter": "python",
   "pygments_lexer": "ipython3",
   "version": "3.9.13"
  }
 },
 "nbformat": 4,
 "nbformat_minor": 0
}
