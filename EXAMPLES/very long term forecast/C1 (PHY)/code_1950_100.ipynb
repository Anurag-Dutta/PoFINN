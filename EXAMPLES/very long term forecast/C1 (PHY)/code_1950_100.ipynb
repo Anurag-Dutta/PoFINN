{
 "cells": [
  {
   "cell_type": "markdown",
   "metadata": {
    "id": "pCGKeZ2gyuoQ"
   },
   "source": [
    "_Importing Required Libraries_"
   ]
  },
  {
   "cell_type": "code",
   "execution_count": 1,
   "metadata": {
    "colab": {
     "base_uri": "https://localhost:8080/"
    },
    "id": "A-6LN-zXiLcM",
    "outputId": "4de610a4-f8b8-4f49-c6c0-89de299ccedc"
   },
   "outputs": [
    {
     "name": "stdout",
     "output_type": "stream",
     "text": [
      "Requirement already satisfied: hampel in c:\\users\\anurag dutta\\appdata\\local\\packages\\pythonsoftwarefoundation.python.3.9_qbz5n2kfra8p0\\localcache\\local-packages\\python39\\site-packages (0.0.5)\n",
      "Requirement already satisfied: numpy in c:\\users\\anurag dutta\\appdata\\local\\packages\\pythonsoftwarefoundation.python.3.9_qbz5n2kfra8p0\\localcache\\local-packages\\python39\\site-packages (from hampel) (1.26.4)\n",
      "Requirement already satisfied: pandas in c:\\users\\anurag dutta\\appdata\\local\\packages\\pythonsoftwarefoundation.python.3.9_qbz5n2kfra8p0\\localcache\\local-packages\\python39\\site-packages (from hampel) (1.5.2)\n",
      "Requirement already satisfied: python-dateutil>=2.8.1 in c:\\users\\anurag dutta\\appdata\\local\\packages\\pythonsoftwarefoundation.python.3.9_qbz5n2kfra8p0\\localcache\\local-packages\\python39\\site-packages (from pandas->hampel) (2.8.2)\n",
      "Requirement already satisfied: pytz>=2020.1 in c:\\users\\anurag dutta\\appdata\\local\\packages\\pythonsoftwarefoundation.python.3.9_qbz5n2kfra8p0\\localcache\\local-packages\\python39\\site-packages (from pandas->hampel) (2023.3.post1)\n",
      "Requirement already satisfied: six>=1.5 in c:\\users\\anurag dutta\\appdata\\local\\packages\\pythonsoftwarefoundation.python.3.9_qbz5n2kfra8p0\\localcache\\local-packages\\python39\\site-packages (from python-dateutil>=2.8.1->pandas->hampel) (1.16.0)\n",
      "Note: you may need to restart the kernel to use updated packages.\n"
     ]
    },
    {
     "name": "stderr",
     "output_type": "stream",
     "text": [
      "\n",
      "[notice] A new release of pip is available: 24.2 -> 24.3.1\n",
      "[notice] To update, run: C:\\Users\\Anurag Dutta\\AppData\\Local\\Microsoft\\WindowsApps\\PythonSoftwareFoundation.Python.3.9_qbz5n2kfra8p0\\python.exe -m pip install --upgrade pip\n"
     ]
    }
   ],
   "source": [
    "pip install hampel"
   ]
  },
  {
   "cell_type": "code",
   "execution_count": 2,
   "metadata": {
    "id": "By_d9uXpaFvZ"
   },
   "outputs": [],
   "source": [
    "from keras.models import Sequential\n",
    "from keras.layers import Dense\n",
    "from keras.layers import LSTM\n",
    "from keras.layers import Dropout\n",
    "import keras\n",
    "import tensorflow as tf\n",
    "from hampel import hampel\n",
    "import numpy as np\n",
    "import matplotlib.pyplot as plt\n",
    "import pandas as pd\n",
    "from sklearn.preprocessing import MinMaxScaler\n",
    "from sklearn.metrics import mean_squared_error, mean_absolute_error\n",
    "from math import sqrt\n",
    "from matplotlib import pyplot\n",
    "from numpy import array"
   ]
  },
  {
   "cell_type": "markdown",
   "metadata": {
    "id": "JyOjBMFayuoR"
   },
   "source": [
    "## Pretraining"
   ]
  },
  {
   "cell_type": "markdown",
   "metadata": {
    "id": "-5QqIY_GyuoR"
   },
   "source": [
    "The `capa_intermittency.dat` feeds the model with the dynamics of the Capacitor"
   ]
  },
  {
   "cell_type": "code",
   "execution_count": 3,
   "metadata": {
    "id": "9dV4a8yfyuoR"
   },
   "outputs": [],
   "source": [
    "data = np.genfromtxt('capa_intermittency.dat')\n",
    "training_set = pd.DataFrame(data).reset_index(drop=True)\n",
    "training_set = training_set.iloc[:,0]"
   ]
  },
  {
   "cell_type": "markdown",
   "metadata": {
    "id": "i7easoxByuoR"
   },
   "source": [
    "## Computing the Gradient"
   ]
  },
  {
   "cell_type": "markdown",
   "metadata": {
    "id": "5SnyolJTyuoR"
   },
   "source": [
    "_Calculating the value of_ $\\frac{dx}{dt}$"
   ]
  },
  {
   "cell_type": "code",
   "execution_count": 4,
   "metadata": {
    "colab": {
     "base_uri": "https://localhost:8080/"
    },
    "id": "wmIbVfIvyuoR",
    "outputId": "aa4e3136-c854-465d-d2e9-81cfd546e440"
   },
   "outputs": [
    {
     "name": "stdout",
     "output_type": "stream",
     "text": [
      "1.0\n",
      "1        0.000298\n",
      "2        0.000298\n",
      "3        0.000297\n",
      "4        0.000297\n",
      "5        0.000297\n",
      "           ...   \n",
      "9996     0.000018\n",
      "9997     0.000018\n",
      "9998     0.000018\n",
      "9999     0.000018\n",
      "10000    0.000018\n",
      "Name: 0, Length: 10000, dtype: float64\n"
     ]
    }
   ],
   "source": [
    "t_diff = 1\n",
    "print(training_set.max())\n",
    "gradient_t = (training_set.diff()/t_diff).iloc[1:] # dx/dt\n",
    "print(gradient_t)"
   ]
  },
  {
   "cell_type": "markdown",
   "metadata": {
    "id": "_2eVeeoxyuoS"
   },
   "source": [
    "## Loading Datasets"
   ]
  },
  {
   "cell_type": "code",
   "execution_count": 5,
   "metadata": {
    "id": "0J-NKyIEyuoS"
   },
   "outputs": [
    {
     "data": {
      "text/plain": [
       "0       89.200000\n",
       "1       88.931092\n",
       "2       88.662185\n",
       "3       88.393277\n",
       "4       88.124370\n",
       "          ...    \n",
       "2045    56.798016\n",
       "2046    56.782143\n",
       "2047    56.766270\n",
       "2048    56.750397\n",
       "2049    56.734524\n",
       "Name: C1, Length: 2050, dtype: float64"
      ]
     },
     "execution_count": 5,
     "metadata": {},
     "output_type": "execute_result"
    }
   ],
   "source": [
    "data = pd.read_csv(\"c1_interpolated_1950_100.csv\")\n",
    "training_set = data.iloc[:, 1]\n",
    "training_set"
   ]
  },
  {
   "cell_type": "code",
   "execution_count": 6,
   "metadata": {
    "colab": {
     "base_uri": "https://localhost:8080/"
    },
    "id": "-CbNUhJ74UqF",
    "outputId": "20f562d8-8247-49cc-b9c3-00eca5e13e2d"
   },
   "outputs": [
    {
     "data": {
      "text/plain": [
       "0       89.200000\n",
       "1       88.931092\n",
       "2       88.662185\n",
       "3       88.393277\n",
       "4       88.124370\n",
       "          ...    \n",
       "1945     0.000000\n",
       "1946     0.000000\n",
       "1947     0.000000\n",
       "1948     0.000000\n",
       "1949     0.000000\n",
       "Name: C1, Length: 1950, dtype: float64"
      ]
     },
     "execution_count": 6,
     "metadata": {},
     "output_type": "execute_result"
    }
   ],
   "source": [
    "test = training_set.tail(100)\n",
    "test\n",
    "training_set = training_set.head(1950)\n",
    "training_set"
   ]
  },
  {
   "cell_type": "code",
   "execution_count": 7,
   "metadata": {
    "colab": {
     "base_uri": "https://localhost:8080/"
    },
    "id": "X0TwTcq0yuoS",
    "outputId": "37252ed8-d88e-4044-fa7a-922411990b5b"
   },
   "outputs": [
    {
     "name": "stdout",
     "output_type": "stream",
     "text": [
      "0       0.000298\n",
      "1       0.000298\n",
      "2       0.000297\n",
      "3       0.000297\n",
      "4       0.000297\n",
      "          ...   \n",
      "9995    0.000018\n",
      "9996    0.000018\n",
      "9997    0.000018\n",
      "9998    0.000018\n",
      "9999    0.000018\n",
      "Name: 0, Length: 10000, dtype: float64\n"
     ]
    }
   ],
   "source": [
    "training_set = training_set.reset_index(drop=True)\n",
    "gradient_t = gradient_t.reset_index(drop=True)\n",
    "print(gradient_t)"
   ]
  },
  {
   "cell_type": "code",
   "execution_count": 8,
   "metadata": {
    "id": "O2biznZQyuoS"
   },
   "outputs": [],
   "source": [
    "df = pd.concat((training_set, gradient_t), axis=1)\n",
    "df.columns = ['y_t', 'grad_t']"
   ]
  },
  {
   "cell_type": "code",
   "execution_count": 9,
   "metadata": {
    "colab": {
     "base_uri": "https://localhost:8080/",
     "height": 423
    },
    "id": "sk_a5v3tyuoS",
    "outputId": "17563625-e550-45ae-faab-fafa353e44da"
   },
   "outputs": [
    {
     "data": {
      "text/html": [
       "<div>\n",
       "<style scoped>\n",
       "    .dataframe tbody tr th:only-of-type {\n",
       "        vertical-align: middle;\n",
       "    }\n",
       "\n",
       "    .dataframe tbody tr th {\n",
       "        vertical-align: top;\n",
       "    }\n",
       "\n",
       "    .dataframe thead th {\n",
       "        text-align: right;\n",
       "    }\n",
       "</style>\n",
       "<table border=\"1\" class=\"dataframe\">\n",
       "  <thead>\n",
       "    <tr style=\"text-align: right;\">\n",
       "      <th></th>\n",
       "      <th>y_t</th>\n",
       "      <th>grad_t</th>\n",
       "    </tr>\n",
       "  </thead>\n",
       "  <tbody>\n",
       "    <tr>\n",
       "      <th>0</th>\n",
       "      <td>89.200000</td>\n",
       "      <td>0.000298</td>\n",
       "    </tr>\n",
       "    <tr>\n",
       "      <th>1</th>\n",
       "      <td>88.931092</td>\n",
       "      <td>0.000298</td>\n",
       "    </tr>\n",
       "    <tr>\n",
       "      <th>2</th>\n",
       "      <td>88.662185</td>\n",
       "      <td>0.000297</td>\n",
       "    </tr>\n",
       "    <tr>\n",
       "      <th>3</th>\n",
       "      <td>88.393277</td>\n",
       "      <td>0.000297</td>\n",
       "    </tr>\n",
       "    <tr>\n",
       "      <th>4</th>\n",
       "      <td>88.124370</td>\n",
       "      <td>0.000297</td>\n",
       "    </tr>\n",
       "    <tr>\n",
       "      <th>...</th>\n",
       "      <td>...</td>\n",
       "      <td>...</td>\n",
       "    </tr>\n",
       "    <tr>\n",
       "      <th>9995</th>\n",
       "      <td>NaN</td>\n",
       "      <td>0.000018</td>\n",
       "    </tr>\n",
       "    <tr>\n",
       "      <th>9996</th>\n",
       "      <td>NaN</td>\n",
       "      <td>0.000018</td>\n",
       "    </tr>\n",
       "    <tr>\n",
       "      <th>9997</th>\n",
       "      <td>NaN</td>\n",
       "      <td>0.000018</td>\n",
       "    </tr>\n",
       "    <tr>\n",
       "      <th>9998</th>\n",
       "      <td>NaN</td>\n",
       "      <td>0.000018</td>\n",
       "    </tr>\n",
       "    <tr>\n",
       "      <th>9999</th>\n",
       "      <td>NaN</td>\n",
       "      <td>0.000018</td>\n",
       "    </tr>\n",
       "  </tbody>\n",
       "</table>\n",
       "<p>10000 rows × 2 columns</p>\n",
       "</div>"
      ],
      "text/plain": [
       "            y_t    grad_t\n",
       "0     89.200000  0.000298\n",
       "1     88.931092  0.000298\n",
       "2     88.662185  0.000297\n",
       "3     88.393277  0.000297\n",
       "4     88.124370  0.000297\n",
       "...         ...       ...\n",
       "9995        NaN  0.000018\n",
       "9996        NaN  0.000018\n",
       "9997        NaN  0.000018\n",
       "9998        NaN  0.000018\n",
       "9999        NaN  0.000018\n",
       "\n",
       "[10000 rows x 2 columns]"
      ]
     },
     "execution_count": 9,
     "metadata": {},
     "output_type": "execute_result"
    }
   ],
   "source": [
    "df"
   ]
  },
  {
   "cell_type": "markdown",
   "metadata": {
    "id": "-5esyHu5aFvg"
   },
   "source": [
    "## Plot of the External Forcing from Chaotic Differential Equation"
   ]
  },
  {
   "cell_type": "code",
   "execution_count": 10,
   "metadata": {
    "colab": {
     "base_uri": "https://localhost:8080/",
     "height": 447
    },
    "id": "hGnE43tOh-4p",
    "outputId": "fc396503-b624-4fa5-dfbe-f460207405c6"
   },
   "outputs": [
    {
     "data": {
      "text/plain": [
       "<Axes: >"
      ]
     },
     "execution_count": 10,
     "metadata": {},
     "output_type": "execute_result"
    },
    {
     "data": {
      "image/png": "[encoded data removed]",
      "text/plain": [
       "<Figure size 432x288 with 1 Axes>"
      ]
     },
     "metadata": {
      "needs_background": "light"
     },
     "output_type": "display_data"
    }
   ],
   "source": [
    "df.iloc[:, 0].plot()"
   ]
  },
  {
   "cell_type": "code",
   "execution_count": 11,
   "metadata": {
    "colab": {
     "base_uri": "https://localhost:8080/",
     "height": 447
    },
    "id": "ym4xWUUxaFvg",
    "outputId": "ae6a3495-8ce9-437e-ba81-3ed31deedeae"
   },
   "outputs": [
    {
     "name": "stderr",
     "output_type": "stream",
     "text": [
      "C:\\Users\\Anurag Dutta\\AppData\\Local\\Packages\\PythonSoftwareFoundation.Python.3.9_qbz5n2kfra8p0\\LocalCache\\local-packages\\Python39\\site-packages\\pandas\\core\\arraylike.py:402: RuntimeWarning: divide by zero encountered in log\n",
      "  result = getattr(ufunc, method)(*inputs, **kwargs)\n"
     ]
    },
    {
     "data": {
      "text/plain": [
       "<Axes: >"
      ]
     },
     "execution_count": 11,
     "metadata": {},
     "output_type": "execute_result"
    },
    {
     "data": {
      "image/png": "[encoded data removed]",
      "text/plain": [
       "<Figure size 432x288 with 1 Axes>"
      ]
     },
     "metadata": {
      "needs_background": "light"
     },
     "output_type": "display_data"
    }
   ],
   "source": [
    "import numpy as np\n",
    "c0 = 86.6465  # Value for C0\n",
    "K0 = -0.0029  # Value for K0\n",
    "K1 = -0.0003  # Value for K1\n",
    "a = 0.0000    # Value for a\n",
    "b = 0.0168    # Value for b\n",
    "c = 2.3581    # Value for c\n",
    "\n",
    "L = np.minimum(c0, (df.iloc[:, 1] - (df.iloc[:, 0] * (K0 - K1 * (9 * a * np.log(df.iloc[:, 0] / c0) / (K0 - K1 * c)**2 + 4 * b * np.log(df.iloc[:, 0] / c0) / (K0 - K1 * c) + c)))))\n",
    "L.plot()"
   ]
  },
  {
   "cell_type": "markdown",
   "metadata": {
    "id": "9VyEywnwaFvh"
   },
   "source": [
    "## Preprocessing the data into supervised learning"
   ]
  },
  {
   "cell_type": "code",
   "execution_count": 12,
   "metadata": {
    "id": "6V9dXqzdaFvh"
   },
   "outputs": [],
   "source": [
    "# split a sequence into samples\n",
    "def Supervised(data, n_in=1, n_out=1, dropnan=True):\n",
    "    n_vars = 1 if type(data) is list else data.shape[1]\n",
    "    df = pd.DataFrame(data)\n",
    "    cols, names = list(), list()\n",
    "    # input sequence (t-n_in, ... t-1)\n",
    "    for i in range(n_in, 0, -1):\n",
    "        cols.append(df.shift(i))\n",
    "        names += [('var%d(t-%d)' % (j+1, i)) for j in range(n_vars)]\n",
    "    # forecast sequence (t, t+1, ... t+n_out)\n",
    "    for i in range(0, n_out):\n",
    "      cols.append(df.shift(-i))\n",
    "      if i == 0:\n",
    "        names += [('var%d(t)' % (j+1)) for j in range(n_vars)]\n",
    "      else:\n",
    "        names += [('var%d(t+%d)' % (j+1, i)) for j in range(n_vars)]\n",
    "    # put it all together\n",
    "    agg = pd.concat(cols, axis=1)\n",
    "    agg.columns = names\n",
    "    # drop rows with NaN values\n",
    "    if dropnan:\n",
    "       agg.dropna(inplace=True)\n",
    "    return agg"
   ]
  },
  {
   "cell_type": "code",
   "execution_count": 13,
   "metadata": {
    "colab": {
     "base_uri": "https://localhost:8080/"
    },
    "id": "CrzSrT1HnyfH",
    "outputId": "7e75f928-3e47-499d-eac1-51908015ef78"
   },
   "outputs": [
    {
     "name": "stdout",
     "output_type": "stream",
     "text": [
      "     var1(t-350)  var1(t-349)  var1(t-348)  var1(t-347)  var1(t-346)  \\\n",
      "350    89.200000    88.931092    88.662185    88.393277    88.124370   \n",
      "351    88.931092    88.662185    88.393277    88.124370    87.855462   \n",
      "352    88.662185    88.393277    88.124370    87.855462    87.586555   \n",
      "353    88.393277    88.124370    87.855462    87.586555    87.317647   \n",
      "354    88.124370    87.855462    87.586555    87.317647    87.048739   \n",
      "\n",
      "     var1(t-345)  var1(t-344)  var1(t-343)  var1(t-342)  var1(t-341)  ...  \\\n",
      "350    87.855462    87.586555    87.317647    87.048739    86.794538  ...   \n",
      "351    87.586555    87.317647    87.048739    86.794538    86.721709  ...   \n",
      "352    87.317647    87.048739    86.794538    86.721709    86.648880  ...   \n",
      "353    87.048739    86.794538    86.721709    86.648880    86.576050  ...   \n",
      "354    86.794538    86.721709    86.648880    86.576050    86.503221  ...   \n",
      "\n",
      "     var1(t+95)  var2(t+95)  var1(t+96)  var2(t+96)  var1(t+97)  var2(t+97)  \\\n",
      "350   73.989683    0.000263   73.957937    0.000263   73.926190    0.000263   \n",
      "351   73.957937    0.000263   73.926190    0.000263   73.894444    0.000262   \n",
      "352   73.926190    0.000263   73.894444    0.000262   73.862698    0.000262   \n",
      "353   73.894444    0.000262   73.862698    0.000262   73.830952    0.000262   \n",
      "354   73.862698    0.000262   73.830952    0.000262   73.799206    0.000262   \n",
      "\n",
      "     var1(t+98)  var2(t+98)  var1(t+99)  var2(t+99)  \n",
      "350   73.894444    0.000262   73.862698    0.000262  \n",
      "351   73.862698    0.000262   73.830952    0.000262  \n",
      "352   73.830952    0.000262   73.799206    0.000262  \n",
      "353   73.799206    0.000262   73.767460    0.000262  \n",
      "354   73.767460    0.000262   73.735714    0.000262  \n",
      "\n",
      "[5 rows x 551 columns]\n",
      "Index(['var1(t-350)', 'var1(t-349)', 'var1(t-348)', 'var1(t-347)',\n",
      "       'var1(t-346)', 'var1(t-345)', 'var1(t-344)', 'var1(t-343)',\n",
      "       'var1(t-342)', 'var1(t-341)',\n",
      "       ...\n",
      "       'var1(t+95)', 'var2(t+95)', 'var1(t+96)', 'var2(t+96)', 'var1(t+97)',\n",
      "       'var2(t+97)', 'var1(t+98)', 'var2(t+98)', 'var1(t+99)', 'var2(t+99)'],\n",
      "      dtype='object', length=551)\n"
     ]
    }
   ],
   "source": [
    "data = Supervised(df.values, n_in = 350, n_out = 100)\n",
    "\n",
    "\n",
    "cols_to_drop = []\n",
    "for i in range(2, 351):\n",
    "    cols_to_drop.extend([f'var2(t-{i})'])\n",
    "\n",
    "data.drop(cols_to_drop, axis=1, inplace=True)\n",
    "\n",
    "print(data.head())\n",
    "print(data.columns)"
   ]
  },
  {
   "cell_type": "code",
   "execution_count": 14,
   "metadata": {
    "id": "AfPf60oy6Pe4"
   },
   "outputs": [],
   "source": [
    "train = np.array(data[0:len(data)-1])\n",
    "forecast = np.array(data.tail(1))"
   ]
  },
  {
   "cell_type": "code",
   "execution_count": 15,
   "metadata": {
    "id": "WSAafzI37KiT"
   },
   "outputs": [],
   "source": [
    "trainy = train[:,-300:]\n",
    "trainX = train[:,:-300]"
   ]
  },
  {
   "cell_type": "code",
   "execution_count": 16,
   "metadata": {
    "id": "2SrOqVJA7f50"
   },
   "outputs": [],
   "source": [
    "forecasty = forecast[:,-300:]\n",
    "forecastX = forecast[:,:-300]"
   ]
  },
  {
   "cell_type": "code",
   "execution_count": 17,
   "metadata": {
    "colab": {
     "base_uri": "https://localhost:8080/"
    },
    "id": "Qno_k8Nw7saY",
    "outputId": "c4a88db5-d8c6-489f-cdb2-06b24e293cff"
   },
   "outputs": [
    {
     "name": "stdout",
     "output_type": "stream",
     "text": [
      "(1500, 1, 251) (1500, 300) (1, 1, 251)\n"
     ]
    }
   ],
   "source": [
    "trainX = trainX.reshape((trainX.shape[0], 1, trainX.shape[1]))\n",
    "forecastX = forecastX.reshape((forecastX.shape[0], 1, forecastX.shape[1]))\n",
    "print(trainX.shape, trainy.shape, forecastX.shape)"
   ]
  },
  {
   "cell_type": "code",
   "execution_count": 18,
   "metadata": {
    "colab": {
     "base_uri": "https://localhost:8080/"
    },
    "id": "b1Jp2DvNuNFx",
    "outputId": "d0e5b3c4-64f1-438c-eade-8dfeaac8e285"
   },
   "outputs": [
    {
     "name": "stdout",
     "output_type": "stream",
     "text": [
      "Epoch 1/500\n",
      "19/19 [==============================] - 3s 32ms/step - loss: 4291.8706 - val_loss: 2874.4358\n",
      "Epoch 2/500\n",
      "19/19 [==============================] - 0s 6ms/step - loss: 4117.5957 - val_loss: 2717.0605\n",
      "Epoch 3/500\n",
      "19/19 [==============================] - 0s 6ms/step - loss: 3988.5767 - val_loss: 2647.2388\n",
      "Epoch 4/500\n",
      "19/19 [==============================] - 0s 6ms/step - loss: 3903.3232 - val_loss: 2591.0513\n",
      "Epoch 5/500\n",
      "19/19 [==============================] - 0s 6ms/step - loss: 3822.5146 - val_loss: 2536.9990\n",
      "Epoch 6/500\n",
      "19/19 [==============================] - 0s 6ms/step - loss: 3744.1621 - val_loss: 2484.6904\n",
      "Epoch 7/500\n",
      "19/19 [==============================] - 0s 6ms/step - loss: 3667.8062 - val_loss: 2433.8416\n",
      "Epoch 8/500\n",
      "19/19 [==============================] - 0s 5ms/step - loss: 3593.1528 - val_loss: 2384.2932\n",
      "Epoch 9/500\n",
      "19/19 [==============================] - 0s 6ms/step - loss: 3520.0259 - val_loss: 2335.9468\n",
      "Epoch 10/500\n",
      "19/19 [==============================] - 0s 6ms/step - loss: 3448.3118 - val_loss: 2288.7351\n",
      "Epoch 11/500\n",
      "19/19 [==============================] - 0s 6ms/step - loss: 3377.9324 - val_loss: 2242.6089\n",
      "Epoch 12/500\n",
      "19/19 [==============================] - 0s 6ms/step - loss: 3308.8286 - val_loss: 2197.5317\n",
      "Epoch 13/500\n",
      "19/19 [==============================] - 0s 6ms/step - loss: 3240.9568 - val_loss: 2153.4746\n",
      "Epoch 14/500\n",
      "19/19 [==============================] - 0s 5ms/step - loss: 3174.2798 - val_loss: 2110.4304\n",
      "Epoch 15/500\n",
      "19/19 [==============================] - 0s 15ms/step - loss: 3108.7676 - val_loss: 2068.8345\n",
      "Epoch 16/500\n",
      "19/19 [==============================] - 0s 6ms/step - loss: 3044.5605 - val_loss: 2026.9740\n",
      "Epoch 17/500\n",
      "19/19 [==============================] - 0s 6ms/step - loss: 2981.1306 - val_loss: 1986.7411\n",
      "Epoch 18/500\n",
      "19/19 [==============================] - 0s 7ms/step - loss: 2918.9644 - val_loss: 1947.4200\n",
      "Epoch 19/500\n",
      "19/19 [==============================] - 0s 6ms/step - loss: 2857.8721 - val_loss: 1908.9935\n",
      "Epoch 20/500\n",
      "19/19 [==============================] - 0s 5ms/step - loss: 2797.8354 - val_loss: 1871.4479\n",
      "Epoch 21/500\n",
      "19/19 [==============================] - 0s 7ms/step - loss: 2738.8391 - val_loss: 1834.7681\n",
      "Epoch 22/500\n",
      "19/19 [==============================] - 0s 6ms/step - loss: 2680.8660 - val_loss: 1798.9408\n",
      "Epoch 23/500\n",
      "19/19 [==============================] - 0s 6ms/step - loss: 2623.9021 - val_loss: 1763.9525\n",
      "Epoch 24/500\n",
      "19/19 [==============================] - 0s 6ms/step - loss: 2567.9314 - val_loss: 1729.7904\n",
      "Epoch 25/500\n",
      "19/19 [==============================] - 0s 7ms/step - loss: 2512.9407 - val_loss: 1696.4421\n",
      "Epoch 26/500\n",
      "19/19 [==============================] - 0s 6ms/step - loss: 2458.9170 - val_loss: 1663.8956\n",
      "Epoch 27/500\n",
      "19/19 [==============================] - 0s 6ms/step - loss: 2405.8467 - val_loss: 1632.1389\n",
      "Epoch 28/500\n",
      "19/19 [==============================] - 0s 5ms/step - loss: 2353.7166 - val_loss: 1601.1602\n",
      "Epoch 29/500\n",
      "19/19 [==============================] - 0s 5ms/step - loss: 2302.5146 - val_loss: 1570.9485\n",
      "Epoch 30/500\n",
      "19/19 [==============================] - 0s 5ms/step - loss: 2252.2285 - val_loss: 1541.4924\n",
      "Epoch 31/500\n",
      "19/19 [==============================] - 0s 5ms/step - loss: 2202.8469 - val_loss: 1512.7808\n",
      "Epoch 32/500\n",
      "19/19 [==============================] - 0s 5ms/step - loss: 2154.3572 - val_loss: 1484.8025\n",
      "Epoch 33/500\n",
      "19/19 [==============================] - 0s 4ms/step - loss: 2106.7478 - val_loss: 1457.5474\n",
      "Epoch 34/500\n",
      "19/19 [==============================] - 0s 4ms/step - loss: 2060.0081 - val_loss: 1431.0045\n",
      "Epoch 35/500\n",
      "19/19 [==============================] - 0s 4ms/step - loss: 2014.1262 - val_loss: 1405.1638\n",
      "Epoch 36/500\n",
      "19/19 [==============================] - 0s 5ms/step - loss: 1969.0917 - val_loss: 1380.0142\n",
      "Epoch 37/500\n",
      "19/19 [==============================] - 0s 4ms/step - loss: 1924.8929 - val_loss: 1355.5461\n",
      "Epoch 38/500\n",
      "19/19 [==============================] - 0s 4ms/step - loss: 1881.5189 - val_loss: 1331.7490\n",
      "Epoch 39/500\n",
      "19/19 [==============================] - 0s 5ms/step - loss: 1838.9604 - val_loss: 1308.6133\n",
      "Epoch 40/500\n",
      "19/19 [==============================] - 0s 4ms/step - loss: 1797.2061 - val_loss: 1286.1285\n",
      "Epoch 41/500\n",
      "19/19 [==============================] - 0s 4ms/step - loss: 1756.2454 - val_loss: 1264.2852\n",
      "Epoch 42/500\n",
      "19/19 [==============================] - 0s 4ms/step - loss: 1716.0684 - val_loss: 1243.0735\n",
      "Epoch 43/500\n",
      "19/19 [==============================] - 0s 5ms/step - loss: 1676.6644 - val_loss: 1222.4834\n",
      "Epoch 44/500\n",
      "19/19 [==============================] - 0s 4ms/step - loss: 1638.0232 - val_loss: 1202.5059\n",
      "Epoch 45/500\n",
      "19/19 [==============================] - 0s 4ms/step - loss: 1600.1355 - val_loss: 1183.1310\n",
      "Epoch 46/500\n",
      "19/19 [==============================] - 0s 5ms/step - loss: 1562.9912 - val_loss: 1164.3491\n",
      "Epoch 47/500\n",
      "19/19 [==============================] - 0s 4ms/step - loss: 1526.5801 - val_loss: 1146.1515\n",
      "Epoch 48/500\n",
      "19/19 [==============================] - 0s 5ms/step - loss: 1490.8931 - val_loss: 1128.5284\n",
      "Epoch 49/500\n",
      "19/19 [==============================] - 0s 4ms/step - loss: 1455.9199 - val_loss: 1111.4711\n",
      "Epoch 50/500\n",
      "19/19 [==============================] - 0s 4ms/step - loss: 1421.6515 - val_loss: 1094.9695\n",
      "Epoch 51/500\n",
      "19/19 [==============================] - 0s 4ms/step - loss: 1388.0778 - val_loss: 1079.0150\n",
      "Epoch 52/500\n",
      "19/19 [==============================] - 0s 5ms/step - loss: 1355.1897 - val_loss: 1063.5990\n",
      "Epoch 53/500\n",
      "19/19 [==============================] - 0s 4ms/step - loss: 1322.9777 - val_loss: 1048.7118\n",
      "Epoch 54/500\n",
      "19/19 [==============================] - 0s 4ms/step - loss: 1291.4329 - val_loss: 1034.3448\n",
      "Epoch 55/500\n",
      "19/19 [==============================] - 0s 5ms/step - loss: 1260.5452 - val_loss: 1020.4894\n",
      "Epoch 56/500\n",
      "19/19 [==============================] - 0s 4ms/step - loss: 1230.3066 - val_loss: 1007.1360\n",
      "Epoch 57/500\n",
      "19/19 [==============================] - 0s 10ms/step - loss: 1200.7076 - val_loss: 994.2764\n",
      "Epoch 58/500\n",
      "19/19 [==============================] - 0s 5ms/step - loss: 1171.7389 - val_loss: 981.9024\n",
      "Epoch 59/500\n",
      "19/19 [==============================] - 0s 4ms/step - loss: 1143.3917 - val_loss: 970.0045\n",
      "Epoch 60/500\n",
      "19/19 [==============================] - 0s 4ms/step - loss: 1115.6573 - val_loss: 958.5745\n",
      "Epoch 61/500\n",
      "19/19 [==============================] - 0s 4ms/step - loss: 1088.5267 - val_loss: 947.6039\n",
      "Epoch 62/500\n",
      "19/19 [==============================] - 0s 4ms/step - loss: 1061.9911 - val_loss: 937.0843\n",
      "Epoch 63/500\n",
      "19/19 [==============================] - 0s 5ms/step - loss: 1036.0424 - val_loss: 927.0071\n",
      "Epoch 64/500\n",
      "19/19 [==============================] - 0s 4ms/step - loss: 1010.6713 - val_loss: 917.3641\n",
      "Epoch 65/500\n",
      "19/19 [==============================] - 0s 4ms/step - loss: 985.8695 - val_loss: 908.1467\n",
      "Epoch 66/500\n",
      "19/19 [==============================] - 0s 4ms/step - loss: 961.6280 - val_loss: 899.3472\n",
      "Epoch 67/500\n",
      "19/19 [==============================] - 0s 4ms/step - loss: 937.9394 - val_loss: 890.9568\n",
      "Epoch 68/500\n",
      "19/19 [==============================] - 0s 3ms/step - loss: 914.7943 - val_loss: 882.9679\n",
      "Epoch 69/500\n",
      "19/19 [==============================] - 0s 5ms/step - loss: 892.1850 - val_loss: 875.3721\n",
      "Epoch 70/500\n",
      "19/19 [==============================] - 0s 5ms/step - loss: 870.1025 - val_loss: 868.1614\n",
      "Epoch 71/500\n",
      "19/19 [==============================] - 0s 5ms/step - loss: 848.5394 - val_loss: 861.3278\n",
      "Epoch 72/500\n",
      "19/19 [==============================] - 0s 5ms/step - loss: 827.4869 - val_loss: 854.8635\n",
      "Epoch 73/500\n",
      "19/19 [==============================] - 0s 4ms/step - loss: 806.9373 - val_loss: 848.7606\n",
      "Epoch 74/500\n",
      "19/19 [==============================] - 0s 4ms/step - loss: 786.8824 - val_loss: 843.0110\n",
      "Epoch 75/500\n",
      "19/19 [==============================] - 0s 4ms/step - loss: 767.3140 - val_loss: 837.6073\n",
      "Epoch 76/500\n",
      "19/19 [==============================] - 0s 4ms/step - loss: 748.2245 - val_loss: 832.5414\n",
      "Epoch 77/500\n",
      "19/19 [==============================] - 0s 4ms/step - loss: 729.6058 - val_loss: 827.8063\n",
      "Epoch 78/500\n",
      "19/19 [==============================] - 0s 4ms/step - loss: 711.4504 - val_loss: 823.3937\n",
      "Epoch 79/500\n",
      "19/19 [==============================] - 0s 4ms/step - loss: 693.7499 - val_loss: 819.2961\n",
      "Epoch 80/500\n",
      "19/19 [==============================] - 0s 4ms/step - loss: 676.4969 - val_loss: 815.5064\n",
      "Epoch 81/500\n",
      "19/19 [==============================] - 0s 5ms/step - loss: 659.6838 - val_loss: 812.0171\n",
      "Epoch 82/500\n",
      "19/19 [==============================] - 0s 4ms/step - loss: 643.3030 - val_loss: 808.8205\n",
      "Epoch 83/500\n",
      "19/19 [==============================] - 0s 4ms/step - loss: 627.3468 - val_loss: 805.9095\n",
      "Epoch 84/500\n",
      "19/19 [==============================] - 0s 5ms/step - loss: 611.8079 - val_loss: 803.2768\n",
      "Epoch 85/500\n",
      "19/19 [==============================] - 0s 4ms/step - loss: 596.6788 - val_loss: 800.9150\n",
      "Epoch 86/500\n",
      "19/19 [==============================] - 0s 4ms/step - loss: 581.9520 - val_loss: 798.8173\n",
      "Epoch 87/500\n",
      "19/19 [==============================] - 0s 4ms/step - loss: 567.6201 - val_loss: 796.9763\n",
      "Epoch 88/500\n",
      "19/19 [==============================] - 0s 4ms/step - loss: 553.6761 - val_loss: 795.3850\n",
      "Epoch 89/500\n",
      "19/19 [==============================] - 0s 5ms/step - loss: 540.1128 - val_loss: 794.0364\n",
      "Epoch 90/500\n",
      "19/19 [==============================] - 0s 4ms/step - loss: 526.9225 - val_loss: 792.9238\n",
      "Epoch 91/500\n",
      "19/19 [==============================] - 0s 4ms/step - loss: 514.0988 - val_loss: 792.0400\n",
      "Epoch 92/500\n",
      "19/19 [==============================] - 0s 5ms/step - loss: 501.6342 - val_loss: 791.3785\n",
      "Epoch 93/500\n",
      "19/19 [==============================] - 0s 4ms/step - loss: 489.5218 - val_loss: 790.9324\n",
      "Epoch 94/500\n",
      "19/19 [==============================] - 0s 9ms/step - loss: 477.7546 - val_loss: 790.6952\n",
      "Epoch 95/500\n",
      "19/19 [==============================] - 0s 5ms/step - loss: 466.3260 - val_loss: 790.6600\n",
      "Epoch 96/500\n",
      "19/19 [==============================] - 0s 4ms/step - loss: 455.2289 - val_loss: 790.8206\n",
      "Epoch 97/500\n",
      "19/19 [==============================] - 0s 5ms/step - loss: 444.4568 - val_loss: 791.1702\n",
      "Epoch 98/500\n",
      "19/19 [==============================] - 0s 4ms/step - loss: 434.0027 - val_loss: 791.7026\n",
      "Epoch 99/500\n",
      "19/19 [==============================] - 0s 5ms/step - loss: 423.8604 - val_loss: 792.4114\n",
      "Epoch 100/500\n",
      "19/19 [==============================] - 0s 5ms/step - loss: 414.0230 - val_loss: 793.2904\n",
      "Epoch 101/500\n",
      "19/19 [==============================] - 0s 4ms/step - loss: 404.4842 - val_loss: 794.3333\n",
      "Epoch 102/500\n",
      "19/19 [==============================] - 0s 4ms/step - loss: 395.2374 - val_loss: 795.5342\n",
      "Epoch 103/500\n",
      "19/19 [==============================] - 0s 4ms/step - loss: 386.2763 - val_loss: 796.8868\n",
      "Epoch 104/500\n",
      "19/19 [==============================] - 0s 6ms/step - loss: 377.5947 - val_loss: 798.3851\n",
      "Epoch 105/500\n",
      "19/19 [==============================] - 0s 7ms/step - loss: 369.1862 - val_loss: 800.0234\n",
      "Epoch 106/500\n",
      "19/19 [==============================] - 0s 4ms/step - loss: 361.0446 - val_loss: 801.7958\n",
      "Epoch 107/500\n",
      "19/19 [==============================] - 0s 6ms/step - loss: 353.1641 - val_loss: 803.6965\n",
      "Epoch 108/500\n",
      "19/19 [==============================] - 0s 6ms/step - loss: 345.5384 - val_loss: 805.7199\n",
      "Epoch 109/500\n",
      "19/19 [==============================] - 0s 5ms/step - loss: 338.1614 - val_loss: 807.8604\n",
      "Epoch 110/500\n",
      "19/19 [==============================] - 0s 5ms/step - loss: 331.0274 - val_loss: 810.1124\n",
      "Epoch 111/500\n",
      "19/19 [==============================] - 0s 5ms/step - loss: 324.1305 - val_loss: 812.4705\n",
      "Epoch 112/500\n",
      "19/19 [==============================] - 0s 5ms/step - loss: 317.4651 - val_loss: 814.9295\n",
      "Epoch 113/500\n",
      "19/19 [==============================] - 0s 5ms/step - loss: 311.0254 - val_loss: 817.4839\n",
      "Epoch 114/500\n",
      "19/19 [==============================] - 0s 5ms/step - loss: 304.8057 - val_loss: 820.1287\n",
      "Epoch 115/500\n",
      "19/19 [==============================] - 0s 5ms/step - loss: 298.8005 - val_loss: 822.8588\n",
      "Epoch 116/500\n",
      "19/19 [==============================] - 0s 4ms/step - loss: 293.0043 - val_loss: 825.6693\n",
      "Epoch 117/500\n",
      "19/19 [==============================] - 0s 4ms/step - loss: 287.4117 - val_loss: 828.5549\n",
      "Epoch 118/500\n",
      "19/19 [==============================] - 0s 5ms/step - loss: 282.0174 - val_loss: 831.5112\n",
      "Epoch 119/500\n",
      "19/19 [==============================] - 0s 5ms/step - loss: 276.8162 - val_loss: 834.5331\n",
      "Epoch 120/500\n",
      "19/19 [==============================] - 0s 4ms/step - loss: 271.8028 - val_loss: 837.6161\n",
      "Epoch 121/500\n",
      "19/19 [==============================] - 0s 4ms/step - loss: 266.9721 - val_loss: 840.7559\n",
      "Epoch 122/500\n",
      "19/19 [==============================] - 0s 6ms/step - loss: 262.3192 - val_loss: 843.9477\n",
      "Epoch 123/500\n",
      "19/19 [==============================] - 0s 11ms/step - loss: 257.8390 - val_loss: 847.1873\n",
      "Epoch 124/500\n",
      "19/19 [==============================] - 0s 10ms/step - loss: 253.5266 - val_loss: 850.4703\n",
      "Epoch 125/500\n",
      "19/19 [==============================] - 0s 6ms/step - loss: 249.3774 - val_loss: 853.7925\n",
      "Epoch 126/500\n",
      "19/19 [==============================] - 0s 6ms/step - loss: 245.3865 - val_loss: 857.1500\n",
      "Epoch 127/500\n",
      "19/19 [==============================] - 0s 7ms/step - loss: 241.5494 - val_loss: 860.5387\n",
      "Epoch 128/500\n",
      "19/19 [==============================] - 0s 6ms/step - loss: 237.8615 - val_loss: 863.9546\n",
      "Epoch 129/500\n",
      "19/19 [==============================] - 0s 6ms/step - loss: 234.3183 - val_loss: 867.3943\n",
      "Epoch 130/500\n",
      "19/19 [==============================] - 0s 7ms/step - loss: 230.9154 - val_loss: 870.8531\n",
      "Epoch 131/500\n",
      "19/19 [==============================] - 0s 5ms/step - loss: 227.6484 - val_loss: 874.3290\n",
      "Epoch 132/500\n",
      "19/19 [==============================] - 0s 4ms/step - loss: 224.5132 - val_loss: 877.8173\n",
      "Epoch 133/500\n",
      "19/19 [==============================] - 0s 5ms/step - loss: 221.5056 - val_loss: 881.3151\n",
      "Epoch 134/500\n",
      "19/19 [==============================] - 0s 5ms/step - loss: 218.6214 - val_loss: 884.8184\n",
      "Epoch 135/500\n",
      "19/19 [==============================] - 0s 6ms/step - loss: 215.8568 - val_loss: 888.3249\n",
      "Epoch 136/500\n",
      "19/19 [==============================] - 0s 5ms/step - loss: 213.2077 - val_loss: 891.8314\n",
      "Epoch 137/500\n",
      "19/19 [==============================] - 0s 5ms/step - loss: 210.6704 - val_loss: 895.3340\n",
      "Epoch 138/500\n",
      "19/19 [==============================] - 0s 4ms/step - loss: 208.2410 - val_loss: 898.8307\n",
      "Epoch 139/500\n",
      "19/19 [==============================] - 0s 4ms/step - loss: 205.9161 - val_loss: 902.3185\n",
      "Epoch 140/500\n",
      "19/19 [==============================] - 0s 5ms/step - loss: 203.6919 - val_loss: 905.7942\n",
      "Epoch 141/500\n",
      "19/19 [==============================] - 0s 7ms/step - loss: 201.5648 - val_loss: 909.2562\n",
      "Epoch 142/500\n",
      "19/19 [==============================] - 0s 8ms/step - loss: 199.5315 - val_loss: 912.7012\n",
      "Epoch 143/500\n",
      "19/19 [==============================] - 0s 8ms/step - loss: 197.5886 - val_loss: 916.1275\n",
      "Epoch 144/500\n",
      "19/19 [==============================] - 0s 6ms/step - loss: 195.7330 - val_loss: 919.5316\n",
      "Epoch 145/500\n",
      "19/19 [==============================] - 0s 14ms/step - loss: 193.9614 - val_loss: 922.9122\n",
      "Epoch 146/500\n",
      "19/19 [==============================] - 0s 7ms/step - loss: 192.2706 - val_loss: 926.2671\n",
      "Epoch 147/500\n",
      "19/19 [==============================] - 0s 6ms/step - loss: 190.6576 - val_loss: 929.5939\n",
      "Epoch 148/500\n",
      "19/19 [==============================] - 0s 6ms/step - loss: 189.1195 - val_loss: 932.8912\n",
      "Epoch 149/500\n",
      "19/19 [==============================] - 0s 5ms/step - loss: 187.6535 - val_loss: 936.1568\n",
      "Epoch 150/500\n",
      "19/19 [==============================] - 0s 5ms/step - loss: 186.2567 - val_loss: 939.3893\n",
      "Epoch 151/500\n",
      "19/19 [==============================] - 0s 4ms/step - loss: 184.9264 - val_loss: 942.5869\n",
      "Epoch 152/500\n",
      "19/19 [==============================] - 0s 5ms/step - loss: 183.6599 - val_loss: 945.7480\n",
      "Epoch 153/500\n",
      "19/19 [==============================] - 0s 6ms/step - loss: 182.4547 - val_loss: 948.8712\n",
      "Epoch 154/500\n",
      "19/19 [==============================] - 0s 7ms/step - loss: 181.3083 - val_loss: 951.9552\n",
      "Epoch 155/500\n",
      "19/19 [==============================] - 0s 7ms/step - loss: 180.2183 - val_loss: 954.9982\n",
      "Epoch 156/500\n",
      "19/19 [==============================] - 0s 6ms/step - loss: 179.1824 - val_loss: 957.9999\n",
      "Epoch 157/500\n",
      "19/19 [==============================] - 0s 7ms/step - loss: 178.1981 - val_loss: 960.9586\n",
      "Epoch 158/500\n",
      "19/19 [==============================] - 0s 8ms/step - loss: 177.2634 - val_loss: 963.8737\n",
      "Epoch 159/500\n",
      "19/19 [==============================] - 0s 8ms/step - loss: 176.3762 - val_loss: 966.7441\n",
      "Epoch 160/500\n",
      "19/19 [==============================] - 0s 7ms/step - loss: 175.5343 - val_loss: 969.5688\n",
      "Epoch 161/500\n",
      "19/19 [==============================] - 0s 7ms/step - loss: 174.7357 - val_loss: 972.3467\n",
      "Epoch 162/500\n",
      "19/19 [==============================] - 0s 6ms/step - loss: 173.9787 - val_loss: 975.0780\n",
      "Epoch 163/500\n",
      "19/19 [==============================] - 0s 5ms/step - loss: 173.2612 - val_loss: 977.7612\n",
      "Epoch 164/500\n",
      "19/19 [==============================] - 0s 5ms/step - loss: 172.5814 - val_loss: 980.3965\n",
      "Epoch 165/500\n",
      "19/19 [==============================] - 0s 5ms/step - loss: 171.9377 - val_loss: 982.9830\n",
      "Epoch 166/500\n",
      "19/19 [==============================] - 0s 4ms/step - loss: 171.3284 - val_loss: 985.5206\n",
      "Epoch 167/500\n",
      "19/19 [==============================] - 0s 5ms/step - loss: 170.7518 - val_loss: 988.0085\n",
      "Epoch 168/500\n",
      "19/19 [==============================] - 0s 5ms/step - loss: 170.2065 - val_loss: 990.4467\n",
      "Epoch 169/500\n",
      "19/19 [==============================] - 0s 6ms/step - loss: 169.6909 - val_loss: 992.8350\n",
      "Epoch 170/500\n",
      "19/19 [==============================] - 0s 6ms/step - loss: 169.2035 - val_loss: 995.1735\n",
      "Epoch 171/500\n",
      "19/19 [==============================] - 0s 5ms/step - loss: 168.7430 - val_loss: 997.4617\n",
      "Epoch 172/500\n",
      "19/19 [==============================] - 0s 5ms/step - loss: 168.3082 - val_loss: 999.6998\n",
      "Epoch 173/500\n",
      "19/19 [==============================] - 0s 5ms/step - loss: 167.8976 - val_loss: 1001.8881\n",
      "Epoch 174/500\n",
      "19/19 [==============================] - 0s 9ms/step - loss: 167.5101 - val_loss: 1004.0264\n",
      "Epoch 175/500\n",
      "19/19 [==============================] - 0s 5ms/step - loss: 167.1445 - val_loss: 1006.1148\n",
      "Epoch 176/500\n",
      "19/19 [==============================] - 0s 5ms/step - loss: 166.7997 - val_loss: 1008.1533\n",
      "Epoch 177/500\n",
      "19/19 [==============================] - 0s 5ms/step - loss: 166.4746 - val_loss: 1010.1427\n",
      "Epoch 178/500\n",
      "19/19 [==============================] - 0s 4ms/step - loss: 166.1683 - val_loss: 1012.0828\n",
      "Epoch 179/500\n",
      "19/19 [==============================] - 0s 6ms/step - loss: 165.8796 - val_loss: 1013.9739\n",
      "Epoch 180/500\n",
      "19/19 [==============================] - 0s 5ms/step - loss: 165.6077 - val_loss: 1015.8173\n",
      "Epoch 181/500\n",
      "19/19 [==============================] - 0s 5ms/step - loss: 165.3517 - val_loss: 1017.6126\n",
      "Epoch 182/500\n",
      "19/19 [==============================] - 0s 4ms/step - loss: 165.1107 - val_loss: 1019.3602\n",
      "Epoch 183/500\n",
      "19/19 [==============================] - 0s 5ms/step - loss: 164.8840 - val_loss: 1021.0606\n",
      "Epoch 184/500\n",
      "19/19 [==============================] - 0s 6ms/step - loss: 164.6706 - val_loss: 1022.7149\n",
      "Epoch 185/500\n",
      "19/19 [==============================] - 0s 5ms/step - loss: 164.4700 - val_loss: 1024.3226\n",
      "Epoch 186/500\n",
      "19/19 [==============================] - 0s 5ms/step - loss: 164.2813 - val_loss: 1025.8857\n",
      "Epoch 187/500\n",
      "19/19 [==============================] - 0s 5ms/step - loss: 164.1039 - val_loss: 1027.4031\n",
      "Epoch 188/500\n",
      "19/19 [==============================] - 0s 6ms/step - loss: 163.9372 - val_loss: 1028.8772\n",
      "Epoch 189/500\n",
      "19/19 [==============================] - 0s 5ms/step - loss: 163.7806 - val_loss: 1030.3079\n",
      "Epoch 190/500\n",
      "19/19 [==============================] - 0s 4ms/step - loss: 163.6334 - val_loss: 1031.6952\n",
      "Epoch 191/500\n",
      "19/19 [==============================] - 0s 5ms/step - loss: 163.4953 - val_loss: 1033.0409\n",
      "Epoch 192/500\n",
      "19/19 [==============================] - 0s 5ms/step - loss: 163.3655 - val_loss: 1034.3450\n",
      "Epoch 193/500\n",
      "19/19 [==============================] - 0s 4ms/step - loss: 163.2437 - val_loss: 1035.6088\n",
      "Epoch 194/500\n",
      "19/19 [==============================] - 0s 12ms/step - loss: 163.1293 - val_loss: 1036.8323\n",
      "Epoch 195/500\n",
      "19/19 [==============================] - 0s 5ms/step - loss: 163.0220 - val_loss: 1038.0168\n",
      "Epoch 196/500\n",
      "19/19 [==============================] - 0s 5ms/step - loss: 162.9213 - val_loss: 1039.1631\n",
      "Epoch 197/500\n",
      "19/19 [==============================] - 0s 5ms/step - loss: 162.8268 - val_loss: 1040.2711\n",
      "Epoch 198/500\n",
      "19/19 [==============================] - 0s 5ms/step - loss: 162.7381 - val_loss: 1041.3430\n",
      "Epoch 199/500\n",
      "19/19 [==============================] - 0s 5ms/step - loss: 162.6549 - val_loss: 1042.3785\n",
      "Epoch 200/500\n",
      "19/19 [==============================] - 0s 5ms/step - loss: 162.5770 - val_loss: 1043.3795\n",
      "Epoch 201/500\n",
      "19/19 [==============================] - 0s 5ms/step - loss: 162.5038 - val_loss: 1044.3453\n",
      "Epoch 202/500\n",
      "19/19 [==============================] - 0s 5ms/step - loss: 162.4352 - val_loss: 1045.2778\n",
      "Epoch 203/500\n",
      "19/19 [==============================] - 0s 4ms/step - loss: 162.3709 - val_loss: 1046.1772\n",
      "Epoch 204/500\n",
      "19/19 [==============================] - 0s 5ms/step - loss: 162.3105 - val_loss: 1047.0449\n",
      "Epoch 205/500\n",
      "19/19 [==============================] - 0s 5ms/step - loss: 162.2540 - val_loss: 1047.8812\n",
      "Epoch 206/500\n",
      "19/19 [==============================] - 0s 5ms/step - loss: 162.2009 - val_loss: 1048.6874\n",
      "Epoch 207/500\n",
      "19/19 [==============================] - 0s 5ms/step - loss: 162.1512 - val_loss: 1049.4637\n",
      "Epoch 208/500\n",
      "19/19 [==============================] - 0s 8ms/step - loss: 162.1045 - val_loss: 1050.2114\n",
      "Epoch 209/500\n",
      "19/19 [==============================] - 0s 4ms/step - loss: 162.0609 - val_loss: 1050.9310\n",
      "Epoch 210/500\n",
      "19/19 [==============================] - 0s 5ms/step - loss: 162.0199 - val_loss: 1051.6227\n",
      "Epoch 211/500\n",
      "19/19 [==============================] - 0s 5ms/step - loss: 161.9815 - val_loss: 1052.2887\n",
      "Epoch 212/500\n",
      "19/19 [==============================] - 0s 5ms/step - loss: 161.9454 - val_loss: 1052.9285\n",
      "Epoch 213/500\n",
      "19/19 [==============================] - 0s 5ms/step - loss: 161.9117 - val_loss: 1053.5437\n",
      "Epoch 214/500\n",
      "19/19 [==============================] - 0s 4ms/step - loss: 161.8799 - val_loss: 1054.1348\n",
      "Epoch 215/500\n",
      "19/19 [==============================] - 0s 4ms/step - loss: 161.8503 - val_loss: 1054.7020\n",
      "Epoch 216/500\n",
      "19/19 [==============================] - 0s 5ms/step - loss: 161.8224 - val_loss: 1055.2466\n",
      "Epoch 217/500\n",
      "19/19 [==============================] - 0s 5ms/step - loss: 161.7962 - val_loss: 1055.7692\n",
      "Epoch 218/500\n",
      "19/19 [==============================] - 0s 5ms/step - loss: 161.7717 - val_loss: 1056.2704\n",
      "Epoch 219/500\n",
      "19/19 [==============================] - 0s 5ms/step - loss: 161.7487 - val_loss: 1056.7512\n",
      "Epoch 220/500\n",
      "19/19 [==============================] - 0s 5ms/step - loss: 161.7271 - val_loss: 1057.2117\n",
      "Epoch 221/500\n",
      "19/19 [==============================] - 0s 5ms/step - loss: 161.7069 - val_loss: 1057.6528\n",
      "Epoch 222/500\n",
      "19/19 [==============================] - 0s 5ms/step - loss: 161.6879 - val_loss: 1058.0753\n",
      "Epoch 223/500\n",
      "19/19 [==============================] - 0s 5ms/step - loss: 161.6702 - val_loss: 1058.4799\n",
      "Epoch 224/500\n",
      "19/19 [==============================] - 0s 4ms/step - loss: 161.6534 - val_loss: 1058.8673\n",
      "Epoch 225/500\n",
      "19/19 [==============================] - 0s 5ms/step - loss: 161.6378 - val_loss: 1059.2371\n",
      "Epoch 226/500\n",
      "19/19 [==============================] - 0s 5ms/step - loss: 161.6230 - val_loss: 1059.5913\n",
      "Epoch 227/500\n",
      "19/19 [==============================] - 0s 6ms/step - loss: 161.6093 - val_loss: 1059.9303\n",
      "Epoch 228/500\n",
      "19/19 [==============================] - 0s 6ms/step - loss: 161.5963 - val_loss: 1060.2535\n",
      "Epoch 229/500\n",
      "19/19 [==============================] - 0s 5ms/step - loss: 161.5842 - val_loss: 1060.5629\n",
      "Epoch 230/500\n",
      "19/19 [==============================] - 0s 7ms/step - loss: 161.5728 - val_loss: 1060.8579\n",
      "Epoch 231/500\n",
      "19/19 [==============================] - 0s 6ms/step - loss: 161.5621 - val_loss: 1061.1399\n",
      "Epoch 232/500\n",
      "19/19 [==============================] - 0s 6ms/step - loss: 161.5521 - val_loss: 1061.4091\n",
      "Epoch 233/500\n",
      "19/19 [==============================] - 0s 6ms/step - loss: 161.5426 - val_loss: 1061.6650\n",
      "Epoch 234/500\n",
      "19/19 [==============================] - 0s 5ms/step - loss: 161.5338 - val_loss: 1061.9097\n",
      "Epoch 235/500\n",
      "19/19 [==============================] - 0s 5ms/step - loss: 161.5255 - val_loss: 1062.1431\n",
      "Epoch 236/500\n",
      "19/19 [==============================] - 0s 5ms/step - loss: 161.5177 - val_loss: 1062.3651\n",
      "Epoch 237/500\n",
      "19/19 [==============================] - 0s 4ms/step - loss: 161.5104 - val_loss: 1062.5769\n",
      "Epoch 238/500\n",
      "19/19 [==============================] - 0s 5ms/step - loss: 161.5036 - val_loss: 1062.7784\n",
      "Epoch 239/500\n",
      "19/19 [==============================] - 0s 6ms/step - loss: 161.4971 - val_loss: 1062.9700\n",
      "Epoch 240/500\n",
      "19/19 [==============================] - 0s 12ms/step - loss: 161.4911 - val_loss: 1063.1531\n",
      "Epoch 241/500\n",
      "19/19 [==============================] - 0s 8ms/step - loss: 161.4855 - val_loss: 1063.3265\n",
      "Epoch 242/500\n",
      "19/19 [==============================] - 0s 7ms/step - loss: 161.4801 - val_loss: 1063.4915\n",
      "Epoch 243/500\n",
      "19/19 [==============================] - 0s 6ms/step - loss: 161.4752 - val_loss: 1063.6487\n",
      "Epoch 244/500\n",
      "19/19 [==============================] - 0s 6ms/step - loss: 161.4706 - val_loss: 1063.7980\n",
      "Epoch 245/500\n",
      "19/19 [==============================] - 0s 6ms/step - loss: 161.4663 - val_loss: 1063.9399\n",
      "Epoch 246/500\n",
      "19/19 [==============================] - 0s 6ms/step - loss: 161.4622 - val_loss: 1064.0742\n",
      "Epoch 247/500\n",
      "19/19 [==============================] - 0s 5ms/step - loss: 161.4584 - val_loss: 1064.2023\n",
      "Epoch 248/500\n",
      "19/19 [==============================] - 0s 5ms/step - loss: 161.4548 - val_loss: 1064.3235\n",
      "Epoch 249/500\n",
      "19/19 [==============================] - 0s 5ms/step - loss: 161.4515 - val_loss: 1064.4386\n",
      "Epoch 250/500\n",
      "19/19 [==============================] - 0s 5ms/step - loss: 161.4484 - val_loss: 1064.5479\n",
      "Epoch 251/500\n",
      "19/19 [==============================] - 0s 4ms/step - loss: 161.4454 - val_loss: 1064.6514\n",
      "Epoch 252/500\n",
      "19/19 [==============================] - 0s 6ms/step - loss: 161.4428 - val_loss: 1064.7496\n",
      "Epoch 253/500\n",
      "19/19 [==============================] - 0s 4ms/step - loss: 161.4402 - val_loss: 1064.8423\n",
      "Epoch 254/500\n",
      "19/19 [==============================] - 0s 6ms/step - loss: 161.4379 - val_loss: 1064.9304\n",
      "Epoch 255/500\n",
      "19/19 [==============================] - 0s 5ms/step - loss: 161.4356 - val_loss: 1065.0139\n",
      "Epoch 256/500\n",
      "19/19 [==============================] - 0s 5ms/step - loss: 161.4335 - val_loss: 1065.0931\n",
      "Epoch 257/500\n",
      "19/19 [==============================] - 0s 6ms/step - loss: 161.4317 - val_loss: 1065.1674\n",
      "Epoch 258/500\n",
      "19/19 [==============================] - 0s 8ms/step - loss: 161.4300 - val_loss: 1065.2383\n",
      "Epoch 259/500\n",
      "19/19 [==============================] - 0s 8ms/step - loss: 161.4283 - val_loss: 1065.3051\n",
      "Epoch 260/500\n",
      "19/19 [==============================] - 0s 7ms/step - loss: 161.4268 - val_loss: 1065.3688\n",
      "Epoch 261/500\n",
      "19/19 [==============================] - 0s 6ms/step - loss: 161.4254 - val_loss: 1065.4285\n",
      "Epoch 262/500\n",
      "19/19 [==============================] - 0s 6ms/step - loss: 161.4240 - val_loss: 1065.4847\n",
      "Epoch 263/500\n",
      "19/19 [==============================] - 0s 6ms/step - loss: 161.4228 - val_loss: 1065.5383\n",
      "Epoch 264/500\n",
      "19/19 [==============================] - 0s 6ms/step - loss: 161.4218 - val_loss: 1065.5885\n",
      "Epoch 265/500\n",
      "19/19 [==============================] - 0s 6ms/step - loss: 161.4208 - val_loss: 1065.6364\n",
      "Epoch 266/500\n",
      "19/19 [==============================] - 0s 5ms/step - loss: 161.4198 - val_loss: 1065.6812\n",
      "Epoch 267/500\n",
      "19/19 [==============================] - 0s 6ms/step - loss: 161.4189 - val_loss: 1065.7236\n",
      "Epoch 268/500\n",
      "19/19 [==============================] - 0s 6ms/step - loss: 161.4182 - val_loss: 1065.7633\n",
      "Epoch 269/500\n",
      "19/19 [==============================] - 0s 6ms/step - loss: 161.4175 - val_loss: 1065.8011\n",
      "Epoch 270/500\n",
      "19/19 [==============================] - 1s 38ms/step - loss: 161.4169 - val_loss: 1065.8362\n",
      "Epoch 271/500\n",
      "19/19 [==============================] - 0s 23ms/step - loss: 161.4163 - val_loss: 1065.8700\n",
      "Epoch 272/500\n",
      "19/19 [==============================] - 0s 10ms/step - loss: 161.4158 - val_loss: 1065.9015\n",
      "Epoch 273/500\n",
      "19/19 [==============================] - 0s 10ms/step - loss: 161.4153 - val_loss: 1065.9315\n",
      "Epoch 274/500\n",
      "19/19 [==============================] - 0s 10ms/step - loss: 161.4149 - val_loss: 1065.9596\n",
      "Epoch 275/500\n",
      "19/19 [==============================] - 0s 9ms/step - loss: 161.4145 - val_loss: 1065.9856\n",
      "Epoch 276/500\n",
      "19/19 [==============================] - 0s 20ms/step - loss: 161.4142 - val_loss: 1066.0103\n",
      "Epoch 277/500\n",
      "19/19 [==============================] - 1s 35ms/step - loss: 161.4139 - val_loss: 1066.0336\n",
      "Epoch 278/500\n",
      "19/19 [==============================] - 1s 31ms/step - loss: 161.4137 - val_loss: 1066.0557\n",
      "Epoch 279/500\n",
      "19/19 [==============================] - 0s 24ms/step - loss: 161.4135 - val_loss: 1066.0760\n",
      "Epoch 280/500\n",
      "19/19 [==============================] - 0s 25ms/step - loss: 161.4133 - val_loss: 1066.0956\n",
      "Epoch 281/500\n",
      "19/19 [==============================] - 0s 16ms/step - loss: 161.4132 - val_loss: 1066.1139\n",
      "Epoch 282/500\n",
      "19/19 [==============================] - 0s 12ms/step - loss: 161.4131 - val_loss: 1066.1309\n",
      "Epoch 283/500\n",
      "19/19 [==============================] - 0s 14ms/step - loss: 161.4130 - val_loss: 1066.1471\n",
      "Epoch 284/500\n",
      "19/19 [==============================] - 0s 12ms/step - loss: 161.4129 - val_loss: 1066.1620\n",
      "Epoch 285/500\n",
      "19/19 [==============================] - 0s 13ms/step - loss: 161.4129 - val_loss: 1066.1765\n",
      "Epoch 286/500\n",
      "19/19 [==============================] - 0s 17ms/step - loss: 161.4129 - val_loss: 1066.1896\n",
      "Epoch 287/500\n",
      "19/19 [==============================] - 0s 25ms/step - loss: 161.4129 - val_loss: 1066.2021\n",
      "Epoch 288/500\n",
      "19/19 [==============================] - 0s 19ms/step - loss: 161.4130 - val_loss: 1066.2137\n",
      "Epoch 289/500\n",
      "19/19 [==============================] - 0s 12ms/step - loss: 161.4130 - val_loss: 1066.2247\n",
      "Epoch 290/500\n",
      "19/19 [==============================] - 1s 42ms/step - loss: 161.4131 - val_loss: 1066.2349\n",
      "Epoch 291/500\n",
      "19/19 [==============================] - 0s 18ms/step - loss: 161.4131 - val_loss: 1066.2446\n",
      "Epoch 292/500\n",
      "19/19 [==============================] - 0s 11ms/step - loss: 161.4133 - val_loss: 1066.2539\n",
      "Epoch 293/500\n",
      "19/19 [==============================] - 0s 15ms/step - loss: 161.4134 - val_loss: 1066.2621\n",
      "Epoch 294/500\n",
      "19/19 [==============================] - 0s 16ms/step - loss: 161.4136 - val_loss: 1066.2703\n",
      "Epoch 295/500\n",
      "19/19 [==============================] - 0s 16ms/step - loss: 161.4137 - val_loss: 1066.2775\n",
      "Epoch 296/500\n",
      "19/19 [==============================] - 0s 13ms/step - loss: 161.4138 - val_loss: 1066.2844\n",
      "Epoch 297/500\n",
      "19/19 [==============================] - 0s 15ms/step - loss: 161.4140 - val_loss: 1066.2909\n",
      "Epoch 298/500\n",
      "19/19 [==============================] - 0s 22ms/step - loss: 161.4142 - val_loss: 1066.2972\n",
      "Epoch 299/500\n",
      "19/19 [==============================] - 0s 19ms/step - loss: 161.4143 - val_loss: 1066.3029\n",
      "Epoch 300/500\n",
      "19/19 [==============================] - 0s 16ms/step - loss: 161.4145 - val_loss: 1066.3083\n",
      "Epoch 301/500\n",
      "19/19 [==============================] - 1s 28ms/step - loss: 161.4147 - val_loss: 1066.3127\n",
      "Epoch 302/500\n",
      "19/19 [==============================] - 0s 11ms/step - loss: 161.4149 - val_loss: 1066.3174\n",
      "Epoch 303/500\n",
      "19/19 [==============================] - 0s 13ms/step - loss: 161.4151 - val_loss: 1066.3221\n",
      "Epoch 304/500\n",
      "19/19 [==============================] - 1s 37ms/step - loss: 161.4153 - val_loss: 1066.3259\n",
      "Epoch 305/500\n",
      "19/19 [==============================] - 0s 14ms/step - loss: 161.4155 - val_loss: 1066.3296\n",
      "Epoch 306/500\n",
      "19/19 [==============================] - 0s 15ms/step - loss: 161.4157 - val_loss: 1066.3333\n",
      "Epoch 307/500\n",
      "19/19 [==============================] - 0s 17ms/step - loss: 161.4160 - val_loss: 1066.3364\n",
      "Epoch 308/500\n",
      "19/19 [==============================] - 0s 12ms/step - loss: 161.4162 - val_loss: 1066.3395\n",
      "Epoch 309/500\n",
      "19/19 [==============================] - 0s 20ms/step - loss: 161.4164 - val_loss: 1066.3422\n",
      "Epoch 310/500\n",
      "19/19 [==============================] - 0s 19ms/step - loss: 161.4167 - val_loss: 1066.3451\n",
      "Epoch 311/500\n",
      "19/19 [==============================] - 0s 14ms/step - loss: 161.4169 - val_loss: 1066.3474\n",
      "Epoch 312/500\n",
      "19/19 [==============================] - 0s 13ms/step - loss: 161.4171 - val_loss: 1066.3497\n",
      "Epoch 313/500\n",
      "19/19 [==============================] - 0s 12ms/step - loss: 161.4173 - val_loss: 1066.3514\n",
      "Epoch 314/500\n",
      "19/19 [==============================] - 0s 13ms/step - loss: 161.4175 - val_loss: 1066.3533\n",
      "Epoch 315/500\n",
      "19/19 [==============================] - 0s 12ms/step - loss: 161.4178 - val_loss: 1066.3552\n",
      "Epoch 316/500\n",
      "19/19 [==============================] - 0s 17ms/step - loss: 161.4180 - val_loss: 1066.3572\n",
      "Epoch 317/500\n",
      "19/19 [==============================] - 0s 11ms/step - loss: 161.4182 - val_loss: 1066.3582\n",
      "Epoch 318/500\n",
      "19/19 [==============================] - 1s 37ms/step - loss: 161.4185 - val_loss: 1066.3597\n",
      "Epoch 319/500\n",
      "19/19 [==============================] - 1s 44ms/step - loss: 161.4187 - val_loss: 1066.3611\n",
      "Epoch 320/500\n",
      "19/19 [==============================] - 1s 31ms/step - loss: 161.4190 - val_loss: 1066.3625\n",
      "Epoch 321/500\n",
      "19/19 [==============================] - 1s 54ms/step - loss: 161.4192 - val_loss: 1066.3633\n",
      "Epoch 322/500\n",
      "19/19 [==============================] - 1s 37ms/step - loss: 161.4194 - val_loss: 1066.3644\n",
      "Epoch 323/500\n",
      "19/19 [==============================] - 1s 60ms/step - loss: 161.4197 - val_loss: 1066.3657\n",
      "Epoch 324/500\n",
      "19/19 [==============================] - 0s 15ms/step - loss: 161.4199 - val_loss: 1066.3665\n",
      "Epoch 325/500\n",
      "19/19 [==============================] - 0s 24ms/step - loss: 161.4201 - val_loss: 1066.3674\n",
      "Epoch 326/500\n",
      "19/19 [==============================] - 0s 10ms/step - loss: 161.4204 - val_loss: 1066.3683\n",
      "Epoch 327/500\n",
      "19/19 [==============================] - 0s 11ms/step - loss: 161.4205 - val_loss: 1066.3688\n",
      "Epoch 328/500\n",
      "19/19 [==============================] - 0s 7ms/step - loss: 161.4208 - val_loss: 1066.3694\n",
      "Epoch 329/500\n",
      "19/19 [==============================] - 0s 7ms/step - loss: 161.4210 - val_loss: 1066.3702\n",
      "Epoch 330/500\n",
      "19/19 [==============================] - 0s 7ms/step - loss: 161.4212 - val_loss: 1066.3705\n",
      "Epoch 331/500\n",
      "19/19 [==============================] - 0s 7ms/step - loss: 161.4214 - val_loss: 1066.3711\n",
      "Epoch 332/500\n",
      "19/19 [==============================] - 0s 7ms/step - loss: 161.4216 - val_loss: 1066.3715\n",
      "Epoch 333/500\n",
      "19/19 [==============================] - 0s 7ms/step - loss: 161.4218 - val_loss: 1066.3717\n",
      "Epoch 334/500\n",
      "19/19 [==============================] - 0s 6ms/step - loss: 161.4221 - val_loss: 1066.3719\n",
      "Epoch 335/500\n",
      "19/19 [==============================] - 0s 5ms/step - loss: 161.4223 - val_loss: 1066.3723\n",
      "Epoch 336/500\n",
      "19/19 [==============================] - 0s 6ms/step - loss: 161.4225 - val_loss: 1066.3732\n",
      "Epoch 337/500\n",
      "19/19 [==============================] - 0s 6ms/step - loss: 161.4227 - val_loss: 1066.3734\n",
      "Epoch 338/500\n",
      "19/19 [==============================] - 0s 5ms/step - loss: 161.4229 - val_loss: 1066.3739\n",
      "Epoch 339/500\n",
      "19/19 [==============================] - 0s 9ms/step - loss: 161.4230 - val_loss: 1066.3739\n",
      "Epoch 340/500\n",
      "19/19 [==============================] - 0s 7ms/step - loss: 161.4232 - val_loss: 1066.3739\n",
      "Epoch 341/500\n",
      "19/19 [==============================] - 0s 10ms/step - loss: 161.4235 - val_loss: 1066.3741\n",
      "Epoch 342/500\n",
      "19/19 [==============================] - 0s 11ms/step - loss: 161.4236 - val_loss: 1066.3741\n",
      "Epoch 343/500\n",
      "19/19 [==============================] - 0s 8ms/step - loss: 161.4238 - val_loss: 1066.3741\n",
      "Epoch 344/500\n",
      "19/19 [==============================] - 0s 10ms/step - loss: 161.4240 - val_loss: 1066.3744\n",
      "Epoch 345/500\n",
      "19/19 [==============================] - 0s 11ms/step - loss: 161.4242 - val_loss: 1066.3746\n",
      "Epoch 346/500\n",
      "19/19 [==============================] - 0s 10ms/step - loss: 161.4244 - val_loss: 1066.3749\n",
      "Epoch 347/500\n",
      "19/19 [==============================] - 0s 10ms/step - loss: 161.4245 - val_loss: 1066.3746\n",
      "Epoch 348/500\n",
      "19/19 [==============================] - 0s 8ms/step - loss: 161.4247 - val_loss: 1066.3746\n",
      "Epoch 349/500\n",
      "19/19 [==============================] - 0s 9ms/step - loss: 161.4249 - val_loss: 1066.3748\n",
      "Epoch 350/500\n",
      "19/19 [==============================] - 0s 8ms/step - loss: 161.4250 - val_loss: 1066.3748\n",
      "Epoch 351/500\n",
      "19/19 [==============================] - 0s 8ms/step - loss: 161.4252 - val_loss: 1066.3748\n",
      "Epoch 352/500\n",
      "19/19 [==============================] - 0s 8ms/step - loss: 161.4254 - val_loss: 1066.3748\n",
      "Epoch 353/500\n",
      "19/19 [==============================] - 0s 7ms/step - loss: 161.4256 - val_loss: 1066.3749\n",
      "Epoch 354/500\n",
      "19/19 [==============================] - 0s 8ms/step - loss: 161.4257 - val_loss: 1066.3746\n",
      "Epoch 355/500\n",
      "19/19 [==============================] - 0s 7ms/step - loss: 161.4259 - val_loss: 1066.3746\n",
      "Epoch 356/500\n",
      "19/19 [==============================] - 0s 6ms/step - loss: 161.4260 - val_loss: 1066.3746\n",
      "Epoch 357/500\n",
      "19/19 [==============================] - 0s 6ms/step - loss: 161.4262 - val_loss: 1066.3748\n",
      "Epoch 358/500\n",
      "19/19 [==============================] - 0s 8ms/step - loss: 161.4264 - val_loss: 1066.3748\n",
      "Epoch 359/500\n",
      "19/19 [==============================] - 0s 6ms/step - loss: 161.4265 - val_loss: 1066.3748\n",
      "Epoch 360/500\n",
      "19/19 [==============================] - 0s 5ms/step - loss: 161.4266 - val_loss: 1066.3748\n",
      "Epoch 361/500\n",
      "19/19 [==============================] - 0s 9ms/step - loss: 161.4267 - val_loss: 1066.3746\n",
      "Epoch 362/500\n",
      "19/19 [==============================] - 0s 13ms/step - loss: 161.4269 - val_loss: 1066.3746\n",
      "Epoch 363/500\n",
      "19/19 [==============================] - 0s 9ms/step - loss: 161.4270 - val_loss: 1066.3746\n",
      "Epoch 364/500\n",
      "19/19 [==============================] - 0s 8ms/step - loss: 161.4272 - val_loss: 1066.3744\n",
      "Epoch 365/500\n",
      "19/19 [==============================] - 0s 7ms/step - loss: 161.4274 - val_loss: 1066.3744\n",
      "Epoch 366/500\n",
      "19/19 [==============================] - 0s 8ms/step - loss: 161.4275 - val_loss: 1066.3745\n",
      "Epoch 367/500\n",
      "19/19 [==============================] - 0s 8ms/step - loss: 161.4276 - val_loss: 1066.3744\n",
      "Epoch 368/500\n",
      "19/19 [==============================] - 0s 7ms/step - loss: 161.4277 - val_loss: 1066.3744\n",
      "Epoch 369/500\n",
      "19/19 [==============================] - 0s 8ms/step - loss: 161.4278 - val_loss: 1066.3745\n",
      "Epoch 370/500\n",
      "19/19 [==============================] - 0s 7ms/step - loss: 161.4279 - val_loss: 1066.3744\n",
      "Epoch 371/500\n",
      "19/19 [==============================] - 0s 7ms/step - loss: 161.4281 - val_loss: 1066.3744\n",
      "Epoch 372/500\n",
      "19/19 [==============================] - 0s 6ms/step - loss: 161.4282 - val_loss: 1066.3743\n",
      "Epoch 373/500\n",
      "19/19 [==============================] - 0s 5ms/step - loss: 161.4284 - val_loss: 1066.3743\n",
      "Epoch 374/500\n",
      "19/19 [==============================] - 0s 7ms/step - loss: 161.4284 - val_loss: 1066.3741\n",
      "Epoch 375/500\n",
      "19/19 [==============================] - 0s 8ms/step - loss: 161.4285 - val_loss: 1066.3739\n",
      "Epoch 376/500\n",
      "19/19 [==============================] - 0s 6ms/step - loss: 161.4287 - val_loss: 1066.3738\n",
      "Epoch 377/500\n",
      "19/19 [==============================] - 0s 6ms/step - loss: 161.4288 - val_loss: 1066.3738\n",
      "Epoch 378/500\n",
      "19/19 [==============================] - 0s 6ms/step - loss: 161.4290 - val_loss: 1066.3737\n",
      "Epoch 379/500\n",
      "19/19 [==============================] - 0s 8ms/step - loss: 161.4290 - val_loss: 1066.3734\n",
      "Epoch 380/500\n",
      "19/19 [==============================] - 0s 6ms/step - loss: 161.4291 - val_loss: 1066.3735\n",
      "Epoch 381/500\n",
      "19/19 [==============================] - 0s 6ms/step - loss: 161.4293 - val_loss: 1066.3738\n",
      "Epoch 382/500\n",
      "19/19 [==============================] - 0s 6ms/step - loss: 161.4293 - val_loss: 1066.3735\n",
      "Epoch 383/500\n",
      "19/19 [==============================] - 0s 8ms/step - loss: 161.4295 - val_loss: 1066.3738\n",
      "Epoch 384/500\n",
      "19/19 [==============================] - 0s 10ms/step - loss: 161.4296 - val_loss: 1066.3732\n",
      "Epoch 385/500\n",
      "19/19 [==============================] - 0s 6ms/step - loss: 161.4297 - val_loss: 1066.3732\n",
      "Epoch 386/500\n",
      "19/19 [==============================] - 0s 6ms/step - loss: 161.4297 - val_loss: 1066.3732\n",
      "Epoch 387/500\n",
      "19/19 [==============================] - 0s 6ms/step - loss: 161.4298 - val_loss: 1066.3733\n",
      "Epoch 388/500\n",
      "19/19 [==============================] - 0s 6ms/step - loss: 161.4299 - val_loss: 1066.3733\n",
      "Epoch 389/500\n",
      "19/19 [==============================] - 0s 5ms/step - loss: 161.4300 - val_loss: 1066.3732\n",
      "Epoch 390/500\n",
      "19/19 [==============================] - 0s 7ms/step - loss: 161.4301 - val_loss: 1066.3732\n",
      "Epoch 391/500\n",
      "19/19 [==============================] - 0s 7ms/step - loss: 161.4302 - val_loss: 1066.3732\n",
      "Epoch 392/500\n",
      "19/19 [==============================] - 0s 7ms/step - loss: 161.4303 - val_loss: 1066.3732\n",
      "Epoch 393/500\n",
      "19/19 [==============================] - 0s 6ms/step - loss: 161.4304 - val_loss: 1066.3732\n",
      "Epoch 394/500\n",
      "19/19 [==============================] - 0s 6ms/step - loss: 161.4305 - val_loss: 1066.3732\n",
      "Epoch 395/500\n",
      "19/19 [==============================] - 0s 7ms/step - loss: 161.4305 - val_loss: 1066.3728\n",
      "Epoch 396/500\n",
      "19/19 [==============================] - 0s 8ms/step - loss: 161.4306 - val_loss: 1066.3729\n",
      "Epoch 397/500\n",
      "19/19 [==============================] - 0s 7ms/step - loss: 161.4307 - val_loss: 1066.3730\n",
      "Epoch 398/500\n",
      "19/19 [==============================] - 0s 12ms/step - loss: 161.4308 - val_loss: 1066.3732\n",
      "Epoch 399/500\n",
      "19/19 [==============================] - 0s 9ms/step - loss: 161.4308 - val_loss: 1066.3730\n",
      "Epoch 400/500\n",
      "19/19 [==============================] - 0s 9ms/step - loss: 161.4309 - val_loss: 1066.3728\n",
      "Epoch 401/500\n",
      "19/19 [==============================] - 0s 8ms/step - loss: 161.4310 - val_loss: 1066.3726\n",
      "Epoch 402/500\n",
      "19/19 [==============================] - 0s 9ms/step - loss: 161.4310 - val_loss: 1066.3726\n",
      "Epoch 403/500\n",
      "19/19 [==============================] - 0s 8ms/step - loss: 161.4311 - val_loss: 1066.3726\n",
      "Epoch 404/500\n",
      "19/19 [==============================] - 0s 15ms/step - loss: 161.4312 - val_loss: 1066.3726\n",
      "Epoch 405/500\n",
      "19/19 [==============================] - 0s 8ms/step - loss: 161.4312 - val_loss: 1066.3726\n",
      "Epoch 406/500\n",
      "19/19 [==============================] - 0s 8ms/step - loss: 161.4313 - val_loss: 1066.3726\n",
      "Epoch 407/500\n",
      "19/19 [==============================] - 0s 8ms/step - loss: 161.4314 - val_loss: 1066.3723\n",
      "Epoch 408/500\n",
      "19/19 [==============================] - 0s 10ms/step - loss: 161.4314 - val_loss: 1066.3721\n",
      "Epoch 409/500\n",
      "19/19 [==============================] - 0s 9ms/step - loss: 161.4315 - val_loss: 1066.3719\n",
      "Epoch 410/500\n",
      "19/19 [==============================] - 0s 9ms/step - loss: 161.4316 - val_loss: 1066.3721\n",
      "Epoch 411/500\n",
      "19/19 [==============================] - 0s 9ms/step - loss: 161.4317 - val_loss: 1066.3718\n",
      "Epoch 412/500\n",
      "19/19 [==============================] - 0s 9ms/step - loss: 161.4317 - val_loss: 1066.3721\n",
      "Epoch 413/500\n",
      "19/19 [==============================] - 0s 10ms/step - loss: 161.4318 - val_loss: 1066.3724\n",
      "Epoch 414/500\n",
      "19/19 [==============================] - 0s 9ms/step - loss: 161.4318 - val_loss: 1066.3723\n",
      "Epoch 415/500\n",
      "19/19 [==============================] - 0s 15ms/step - loss: 161.4318 - val_loss: 1066.3723\n",
      "Epoch 416/500\n",
      "19/19 [==============================] - 0s 13ms/step - loss: 161.4319 - val_loss: 1066.3719\n",
      "Epoch 417/500\n",
      "19/19 [==============================] - 0s 10ms/step - loss: 161.4320 - val_loss: 1066.3719\n",
      "Epoch 418/500\n",
      "19/19 [==============================] - 0s 8ms/step - loss: 161.4321 - val_loss: 1066.3722\n",
      "Epoch 419/500\n",
      "19/19 [==============================] - 0s 6ms/step - loss: 161.4321 - val_loss: 1066.3719\n",
      "Epoch 420/500\n",
      "19/19 [==============================] - 0s 8ms/step - loss: 161.4321 - val_loss: 1066.3718\n",
      "Epoch 421/500\n",
      "19/19 [==============================] - 0s 9ms/step - loss: 161.4322 - val_loss: 1066.3715\n",
      "Epoch 422/500\n",
      "19/19 [==============================] - 0s 7ms/step - loss: 161.4323 - val_loss: 1066.3716\n",
      "Epoch 423/500\n",
      "19/19 [==============================] - 0s 8ms/step - loss: 161.4323 - val_loss: 1066.3711\n",
      "Epoch 424/500\n",
      "19/19 [==============================] - 0s 8ms/step - loss: 161.4324 - val_loss: 1066.3712\n",
      "Epoch 425/500\n",
      "19/19 [==============================] - 0s 5ms/step - loss: 161.4324 - val_loss: 1066.3710\n",
      "Epoch 426/500\n",
      "19/19 [==============================] - 0s 7ms/step - loss: 161.4324 - val_loss: 1066.3708\n",
      "Epoch 427/500\n",
      "19/19 [==============================] - 0s 8ms/step - loss: 161.4325 - val_loss: 1066.3710\n",
      "Epoch 428/500\n",
      "19/19 [==============================] - 0s 6ms/step - loss: 161.4326 - val_loss: 1066.3711\n",
      "Epoch 429/500\n",
      "19/19 [==============================] - 0s 7ms/step - loss: 161.4326 - val_loss: 1066.3710\n",
      "Epoch 430/500\n",
      "19/19 [==============================] - 0s 5ms/step - loss: 161.4326 - val_loss: 1066.3707\n",
      "Epoch 431/500\n",
      "19/19 [==============================] - 0s 6ms/step - loss: 161.4327 - val_loss: 1066.3710\n",
      "Epoch 432/500\n",
      "19/19 [==============================] - 0s 6ms/step - loss: 161.4328 - val_loss: 1066.3710\n",
      "Epoch 433/500\n",
      "19/19 [==============================] - 0s 5ms/step - loss: 161.4328 - val_loss: 1066.3712\n",
      "Epoch 434/500\n",
      "19/19 [==============================] - 0s 13ms/step - loss: 161.4328 - val_loss: 1066.3710\n",
      "Epoch 435/500\n",
      "19/19 [==============================] - 0s 8ms/step - loss: 161.4328 - val_loss: 1066.3708\n",
      "Epoch 436/500\n",
      "19/19 [==============================] - 0s 5ms/step - loss: 161.4329 - val_loss: 1066.3706\n",
      "Epoch 437/500\n",
      "19/19 [==============================] - 0s 6ms/step - loss: 161.4329 - val_loss: 1066.3706\n",
      "Epoch 438/500\n",
      "19/19 [==============================] - 0s 5ms/step - loss: 161.4330 - val_loss: 1066.3706\n",
      "Epoch 439/500\n",
      "19/19 [==============================] - 0s 6ms/step - loss: 161.4330 - val_loss: 1066.3707\n",
      "Epoch 440/500\n",
      "19/19 [==============================] - 0s 6ms/step - loss: 161.4330 - val_loss: 1066.3706\n",
      "Epoch 441/500\n",
      "19/19 [==============================] - 0s 5ms/step - loss: 161.4331 - val_loss: 1066.3708\n",
      "Epoch 442/500\n",
      "19/19 [==============================] - 0s 5ms/step - loss: 161.4331 - val_loss: 1066.3706\n",
      "Epoch 443/500\n",
      "19/19 [==============================] - 0s 5ms/step - loss: 161.4332 - val_loss: 1066.3706\n",
      "Epoch 444/500\n",
      "19/19 [==============================] - 0s 5ms/step - loss: 161.4332 - val_loss: 1066.3705\n",
      "Epoch 445/500\n",
      "19/19 [==============================] - 0s 6ms/step - loss: 161.4333 - val_loss: 1066.3706\n",
      "Epoch 446/500\n",
      "19/19 [==============================] - 0s 5ms/step - loss: 161.4333 - val_loss: 1066.3711\n",
      "Epoch 447/500\n",
      "19/19 [==============================] - 0s 4ms/step - loss: 161.4333 - val_loss: 1066.3708\n",
      "Epoch 448/500\n",
      "19/19 [==============================] - 0s 4ms/step - loss: 161.4333 - val_loss: 1066.3706\n",
      "Epoch 449/500\n",
      "19/19 [==============================] - 0s 5ms/step - loss: 161.4334 - val_loss: 1066.3707\n",
      "Epoch 450/500\n",
      "19/19 [==============================] - 0s 5ms/step - loss: 161.4334 - val_loss: 1066.3706\n",
      "Epoch 451/500\n",
      "19/19 [==============================] - 0s 4ms/step - loss: 161.4334 - val_loss: 1066.3706\n",
      "Epoch 452/500\n",
      "19/19 [==============================] - 0s 5ms/step - loss: 161.4334 - val_loss: 1066.3706\n",
      "Epoch 453/500\n",
      "19/19 [==============================] - 0s 5ms/step - loss: 161.4334 - val_loss: 1066.3704\n",
      "Epoch 454/500\n",
      "19/19 [==============================] - 0s 5ms/step - loss: 161.4335 - val_loss: 1066.3702\n",
      "Epoch 455/500\n",
      "19/19 [==============================] - 0s 5ms/step - loss: 161.4335 - val_loss: 1066.3704\n",
      "Epoch 456/500\n",
      "19/19 [==============================] - 0s 5ms/step - loss: 161.4336 - val_loss: 1066.3704\n",
      "Epoch 457/500\n",
      "19/19 [==============================] - 0s 5ms/step - loss: 161.4336 - val_loss: 1066.3704\n",
      "Epoch 458/500\n",
      "19/19 [==============================] - 0s 6ms/step - loss: 161.4336 - val_loss: 1066.3704\n",
      "Epoch 459/500\n",
      "19/19 [==============================] - 0s 6ms/step - loss: 161.4336 - val_loss: 1066.3704\n",
      "Epoch 460/500\n",
      "19/19 [==============================] - 0s 5ms/step - loss: 161.4336 - val_loss: 1066.3704\n",
      "Epoch 461/500\n",
      "19/19 [==============================] - 0s 6ms/step - loss: 161.4337 - val_loss: 1066.3704\n",
      "Epoch 462/500\n",
      "19/19 [==============================] - 0s 5ms/step - loss: 161.4337 - val_loss: 1066.3702\n",
      "Epoch 463/500\n",
      "19/19 [==============================] - 0s 4ms/step - loss: 161.4337 - val_loss: 1066.3698\n",
      "Epoch 464/500\n",
      "19/19 [==============================] - 0s 5ms/step - loss: 161.4337 - val_loss: 1066.3698\n",
      "Epoch 465/500\n",
      "19/19 [==============================] - 0s 6ms/step - loss: 161.4337 - val_loss: 1066.3698\n",
      "Epoch 466/500\n",
      "19/19 [==============================] - 0s 5ms/step - loss: 161.4337 - val_loss: 1066.3698\n",
      "Epoch 467/500\n",
      "19/19 [==============================] - 0s 5ms/step - loss: 161.4338 - val_loss: 1066.3698\n",
      "Epoch 468/500\n",
      "19/19 [==============================] - 0s 5ms/step - loss: 161.4338 - val_loss: 1066.3696\n",
      "Epoch 469/500\n",
      "19/19 [==============================] - 0s 5ms/step - loss: 161.4338 - val_loss: 1066.3696\n",
      "Epoch 470/500\n",
      "19/19 [==============================] - 0s 5ms/step - loss: 161.4338 - val_loss: 1066.3695\n",
      "Epoch 471/500\n",
      "19/19 [==============================] - 0s 5ms/step - loss: 161.4339 - val_loss: 1066.3695\n",
      "Epoch 472/500\n",
      "19/19 [==============================] - 0s 5ms/step - loss: 161.4339 - val_loss: 1066.3694\n",
      "Epoch 473/500\n",
      "19/19 [==============================] - 0s 4ms/step - loss: 161.4339 - val_loss: 1066.3695\n",
      "Epoch 474/500\n",
      "19/19 [==============================] - 0s 5ms/step - loss: 161.4339 - val_loss: 1066.3694\n",
      "Epoch 475/500\n",
      "19/19 [==============================] - 0s 5ms/step - loss: 161.4339 - val_loss: 1066.3694\n",
      "Epoch 476/500\n",
      "19/19 [==============================] - 0s 5ms/step - loss: 161.4340 - val_loss: 1066.3694\n",
      "Epoch 477/500\n",
      "19/19 [==============================] - 0s 5ms/step - loss: 161.4340 - val_loss: 1066.3694\n",
      "Epoch 478/500\n",
      "19/19 [==============================] - 0s 9ms/step - loss: 161.4340 - val_loss: 1066.3694\n",
      "Epoch 479/500\n",
      "19/19 [==============================] - 0s 6ms/step - loss: 161.4340 - val_loss: 1066.3694\n",
      "Epoch 480/500\n",
      "19/19 [==============================] - 0s 6ms/step - loss: 161.4340 - val_loss: 1066.3694\n",
      "Epoch 481/500\n",
      "19/19 [==============================] - 0s 6ms/step - loss: 161.4340 - val_loss: 1066.3693\n",
      "Epoch 482/500\n",
      "19/19 [==============================] - 0s 5ms/step - loss: 161.4341 - val_loss: 1066.3691\n",
      "Epoch 483/500\n",
      "19/19 [==============================] - 0s 5ms/step - loss: 161.4341 - val_loss: 1066.3694\n",
      "Epoch 484/500\n",
      "19/19 [==============================] - 0s 5ms/step - loss: 161.4341 - val_loss: 1066.3694\n",
      "Epoch 485/500\n",
      "19/19 [==============================] - 0s 4ms/step - loss: 161.4341 - val_loss: 1066.3694\n",
      "Epoch 486/500\n",
      "19/19 [==============================] - 0s 7ms/step - loss: 161.4342 - val_loss: 1066.3694\n",
      "Epoch 487/500\n",
      "19/19 [==============================] - 0s 6ms/step - loss: 161.4342 - val_loss: 1066.3694\n",
      "Epoch 488/500\n",
      "19/19 [==============================] - 0s 5ms/step - loss: 161.4342 - val_loss: 1066.3694\n",
      "Epoch 489/500\n",
      "19/19 [==============================] - 0s 7ms/step - loss: 161.4342 - val_loss: 1066.3694\n",
      "Epoch 490/500\n",
      "19/19 [==============================] - 0s 5ms/step - loss: 161.4342 - val_loss: 1066.3694\n",
      "Epoch 491/500\n",
      "19/19 [==============================] - 0s 4ms/step - loss: 161.4342 - val_loss: 1066.3691\n",
      "Epoch 492/500\n",
      "19/19 [==============================] - 0s 5ms/step - loss: 161.4342 - val_loss: 1066.3690\n",
      "Epoch 493/500\n",
      "19/19 [==============================] - 0s 5ms/step - loss: 161.4342 - val_loss: 1066.3688\n",
      "Epoch 494/500\n",
      "19/19 [==============================] - 0s 6ms/step - loss: 161.4342 - val_loss: 1066.3684\n",
      "Epoch 495/500\n",
      "19/19 [==============================] - 0s 5ms/step - loss: 161.4343 - val_loss: 1066.3684\n",
      "Epoch 496/500\n",
      "19/19 [==============================] - 0s 5ms/step - loss: 161.4343 - val_loss: 1066.3684\n",
      "Epoch 497/500\n",
      "19/19 [==============================] - 0s 5ms/step - loss: 161.4343 - val_loss: 1066.3683\n",
      "Epoch 498/500\n",
      "19/19 [==============================] - 0s 4ms/step - loss: 161.4344 - val_loss: 1066.3684\n",
      "Epoch 499/500\n",
      "19/19 [==============================] - 0s 6ms/step - loss: 161.4344 - val_loss: 1066.3683\n",
      "Epoch 500/500\n",
      "19/19 [==============================] - 0s 4ms/step - loss: 161.4344 - val_loss: 1066.3684\n"
     ]
    }
   ],
   "source": [
    "C0 = tf.Variable(86.6465, name=\"C0\", trainable=True, dtype=tf.float32)\n",
    "K0 = tf.Variable(-0.0029, name=\"K0\", trainable=True, dtype=tf.float32)\n",
    "K1 = tf.Variable(-0.0003, name=\"K1\", trainable=True, dtype=tf.float32)\n",
    "a = tf.Variable(0.0000, name=\"a\", trainable=True, dtype=tf.float32)\n",
    "b = tf.Variable(0.0168, name=\"b\", trainable=True, dtype=tf.float32)\n",
    "c = tf.Variable(2.3581, name=\"c\", trainable=True, dtype=tf.float32)\n",
    "\n",
    "splitr = 0.8\n",
    "\n",
    "\n",
    "def loss_fn(y_true, y_pred):\n",
    "    squared_difference = tf.square(y_true[:, 0] - y_pred[:, 0])\n",
    "    #squared_difference2 = tf.square(y_true[:, 2]-y_pred[:, 2])\n",
    "    #squared_difference1 = tf.square(y_true[:, 1]-y_pred[:, 1])\n",
    "    epsilon = 1\n",
    "    squared_difference3 = tf.square(\n",
    "        y_pred[:, 1] - (\n",
    "            y_pred[:, 0] * (\n",
    "                K0 - K1 * (\n",
    "                    9 * a * tf.math.log((y_pred[:, 0] + epsilon) / C0) / (K0 - K1 * c)**2 +\n",
    "                    4 * b * tf.math.log((y_pred[:, 0] + epsilon) / C0) / (K0 - K1 * c) + c\n",
    "                )\n",
    "            )\n",
    "        )\n",
    "    )\n",
    "    return tf.reduce_mean(squared_difference, axis=-1) + 0.2*tf.reduce_mean(squared_difference3, axis=-1)\n",
    "model = Sequential()\n",
    "model.add(LSTM(100, input_shape=(trainX.shape[1], trainX.shape[2])))\n",
    "model.add(Dense(60))\n",
    "model.compile(loss=loss_fn, optimizer='adam')\n",
    "history = model.fit(trainX[:int(splitr*trainX.shape[0])], trainy[:int(splitr*trainX.shape[0])], epochs=500, batch_size=64, validation_data=(trainX[int(splitr*trainX.shape[0]):trainX.shape[0]], trainy[int(splitr*trainX.shape[0]):trainX.shape[0]]), shuffle=False)"
   ]
  },
  {
   "cell_type": "code",
   "execution_count": 19,
   "metadata": {
    "colab": {
     "base_uri": "https://localhost:8080/"
    },
    "id": "yJL101rPyuoT",
    "outputId": "239ff2b1-c186-423a-d316-939dfdd7c793"
   },
   "outputs": [
    {
     "name": "stdout",
     "output_type": "stream",
     "text": [
      "1/1 [==============================] - 1s 533ms/step\n"
     ]
    }
   ],
   "source": [
    "forecast_without_mc = forecastX\n",
    "yhat_without_mc = model.predict(forecast_without_mc) # Step Ahead Prediction\n",
    "forecast_without_mc = forecast_without_mc.reshape((forecast_without_mc.shape[0], forecast_without_mc.shape[2])) # Historical Input"
   ]
  },
  {
   "cell_type": "code",
   "execution_count": 20,
   "metadata": {
    "colab": {
     "base_uri": "https://localhost:8080/"
    },
    "id": "g9dQELcJ8wbp",
    "outputId": "4dc7671b-b1a8-48d5-8744-a86f98446109"
   },
   "outputs": [
    {
     "data": {
      "text/plain": [
       "(1, 1, 251)"
      ]
     },
     "execution_count": 20,
     "metadata": {},
     "output_type": "execute_result"
    }
   ],
   "source": [
    "forecastX.shape"
   ]
  },
  {
   "cell_type": "code",
   "execution_count": 21,
   "metadata": {
    "colab": {
     "base_uri": "https://localhost:8080/"
    },
    "id": "IS2kyIKG1Kbr",
    "outputId": "f31b3485-8e26-452f-9298-ea8bf7e80ad1"
   },
   "outputs": [
    {
     "data": {
      "text/plain": [
       "(1, 251)"
      ]
     },
     "execution_count": 21,
     "metadata": {},
     "output_type": "execute_result"
    }
   ],
   "source": [
    "forecast_without_mc.shape"
   ]
  },
  {
   "cell_type": "code",
   "execution_count": 22,
   "metadata": {
    "id": "0u6VIzaDyuoT"
   },
   "outputs": [],
   "source": [
    "inv_yhat_without_mc = np.concatenate((forecast_without_mc, yhat_without_mc), axis=1) # Concatenation of predicted values with Historical Data\n",
    "#inv_yhat_without_mc = scaler.inverse_transform(inv_yhat_without_mc) # Transform labels back to original encoding"
   ]
  },
  {
   "cell_type": "code",
   "execution_count": 23,
   "metadata": {
    "colab": {
     "base_uri": "https://localhost:8080/"
    },
    "id": "EUEcw0LX07oU",
    "outputId": "cfc32397-9c37-4b43-d087-584bb31c3dcc"
   },
   "outputs": [
    {
     "data": {
      "text/plain": [
       "(1, 311)"
      ]
     },
     "execution_count": 23,
     "metadata": {},
     "output_type": "execute_result"
    }
   ],
   "source": [
    "inv_yhat_without_mc.shape"
   ]
  },
  {
   "cell_type": "code",
   "execution_count": 24,
   "metadata": {
    "id": "31OWVbSh_305"
   },
   "outputs": [],
   "source": [
    "fforecast = inv_yhat_without_mc[:,-300:]"
   ]
  },
  {
   "cell_type": "code",
   "execution_count": 25,
   "metadata": {},
   "outputs": [
    {
     "data": {
      "text/plain": [
       "(1, 300)"
      ]
     },
     "execution_count": 25,
     "metadata": {},
     "output_type": "execute_result"
    }
   ],
   "source": [
    "fforecast.shape"
   ]
  },
  {
   "cell_type": "code",
   "execution_count": 26,
   "metadata": {
    "id": "BlpGH2FOAiRF"
   },
   "outputs": [],
   "source": [
    "final_forecast = fforecast[:,0:300:3]"
   ]
  },
  {
   "cell_type": "code",
   "execution_count": 27,
   "metadata": {},
   "outputs": [
    {
     "data": {
      "text/plain": [
       "(1, 300)"
      ]
     },
     "execution_count": 27,
     "metadata": {},
     "output_type": "execute_result"
    }
   ],
   "source": [
    "fforecast.shape"
   ]
  },
  {
   "cell_type": "code",
   "execution_count": 28,
   "metadata": {
    "id": "CXkgkj_LBk_t"
   },
   "outputs": [],
   "source": [
    "# code to replace all negative value with 0\n",
    "final_forecast[final_forecast<0] = 0"
   ]
  },
  {
   "cell_type": "code",
   "execution_count": 29,
   "metadata": {},
   "outputs": [
    {
     "data": {
      "text/plain": [
       "array([[6.30913866e+01, 6.30157563e+01, 6.29401261e+01, 6.28644958e+01,\n",
       "        6.27888655e+01, 6.27132353e+01, 6.26376050e+01, 0.00000000e+00,\n",
       "        0.00000000e+00, 0.00000000e+00, 0.00000000e+00, 0.00000000e+00,\n",
       "        0.00000000e+00, 6.36802288e+01, 6.36214052e+01, 6.35625817e+01,\n",
       "        6.35037582e+01, 6.34449346e+01, 6.33861111e+01, 6.33272876e+01,\n",
       "        6.32594538e+01, 6.31838235e+01, 6.31081933e+01, 6.30325630e+01,\n",
       "        6.29569328e+01, 6.28813025e+01, 6.28056723e+01, 6.27300420e+01,\n",
       "        6.26544118e+01, 6.70841503e+01, 6.68681139e+01, 6.66160131e+01,\n",
       "        6.63639122e+01, 6.61118114e+01, 6.57194211e+01, 6.52152194e+01,\n",
       "        6.47110177e+01, 6.74232635e+01, 1.16283670e-01, 0.00000000e+00,\n",
       "        1.64812088e-01, 2.60593474e-01, 5.33040600e-03, 3.57712686e-01,\n",
       "        5.91910720e-01, 3.75749886e-01, 0.00000000e+00, 6.28981092e+01,\n",
       "        6.28224790e+01, 6.27468487e+01, 6.26712185e+01, 6.71821895e+01,\n",
       "        6.70057190e+01, 6.67560691e+01, 6.65039682e+01, 6.62518674e+01,\n",
       "        6.59995332e+01, 6.54953315e+01, 6.49911298e+01, 6.44869281e+01,\n",
       "        0.00000000e+00, 1.20769350e-01, 6.63545752e+01, 6.61024743e+01,\n",
       "        6.57007470e+01, 6.51965453e+01, 6.46923436e+01, 6.41881419e+01,\n",
       "        6.38893791e+01, 6.37129085e+01, 6.35364379e+01, 1.39298870e-01,\n",
       "        5.88601890e-01, 5.86315537e+01, 0.00000000e+00, 1.25890970e-01,\n",
       "        1.78509590e-01, 0.00000000e+00, 3.38448170e-01, 7.85693410e-01,\n",
       "        6.28734245e+01, 1.86294273e-01, 1.93479389e-01, 3.54445040e-01,\n",
       "        2.84742951e-01, 0.00000000e+00, 0.00000000e+00, 0.00000000e+00,\n",
       "        0.00000000e+00, 0.00000000e+00, 0.00000000e+00, 7.78205246e-02,\n",
       "        1.98835447e-01, 6.84436738e-01, 3.81852597e-01, 0.00000000e+00,\n",
       "        0.00000000e+00, 0.00000000e+00, 0.00000000e+00, 4.97031599e-01]])"
      ]
     },
     "execution_count": 29,
     "metadata": {},
     "output_type": "execute_result"
    }
   ],
   "source": [
    "final_forecast"
   ]
  },
  {
   "cell_type": "code",
   "execution_count": 30,
   "metadata": {},
   "outputs": [
    {
     "data": {
      "text/plain": [
       "(1, 100)"
      ]
     },
     "execution_count": 30,
     "metadata": {},
     "output_type": "execute_result"
    }
   ],
   "source": [
    "final_forecast.shape"
   ]
  },
  {
   "cell_type": "code",
   "execution_count": 31,
   "metadata": {},
   "outputs": [
    {
     "data": {
      "text/plain": [
       "(100,)"
      ]
     },
     "execution_count": 31,
     "metadata": {},
     "output_type": "execute_result"
    }
   ],
   "source": [
    "test.shape"
   ]
  },
  {
   "cell_type": "code",
   "execution_count": 32,
   "metadata": {},
   "outputs": [],
   "source": [
    "training_set = np.array(training_set)\n",
    "test = np.array(test)\n",
    "final_forecast = np.array(final_forecast.squeeze(0))"
   ]
  },
  {
   "cell_type": "code",
   "execution_count": 33,
   "metadata": {},
   "outputs": [
    {
     "data": {
      "text/plain": [
       "array([58.30595238, 58.29007937, 58.27420635, 58.25833333, 58.24246032,\n",
       "       58.2265873 , 58.21071429, 58.19484127, 58.17896825, 58.16309524,\n",
       "       58.14722222, 58.13134921, 58.11547619, 58.09960317, 58.08373016,\n",
       "       58.06785714, 58.05198413, 58.03611111, 58.0202381 , 58.00436508,\n",
       "       57.98849206, 57.97261905, 57.95674603, 57.94087302, 57.925     ,\n",
       "       57.90912698, 57.89325397, 57.87738095, 57.86150794, 57.84563492,\n",
       "       57.8297619 , 57.81388889, 57.79801587, 57.78214286, 57.76626984,\n",
       "       57.75039683, 57.73452381, 57.71865079, 57.70277778, 57.68690476,\n",
       "       57.67103175, 57.65515873, 57.63928571, 57.6234127 , 57.60753968,\n",
       "       57.59166667, 57.57579365, 57.55992063, 57.54404762, 57.5281746 ,\n",
       "       57.51230159, 57.49642857, 57.48055556, 57.46468254, 57.44880952,\n",
       "       57.43293651, 57.41706349, 57.40119048, 57.38531746, 57.36944444,\n",
       "       57.35357143, 57.33769841, 57.3218254 , 57.30595238, 57.29007937,\n",
       "       57.27420635, 57.25833333, 57.24246032, 57.2265873 , 57.21071429,\n",
       "       57.19484127, 57.17896825, 57.16309524, 57.14722222, 57.13134921,\n",
       "       57.11547619, 57.09960317, 57.08373016, 57.06785714, 57.05198413,\n",
       "       57.03611111, 57.0202381 , 57.00436508, 56.98849206, 56.97261905,\n",
       "       56.95674603, 56.94087302, 56.925     , 56.90912698, 56.89325397,\n",
       "       56.87738095, 56.86150794, 56.84563492, 56.8297619 , 56.81388889,\n",
       "       56.79801587, 56.78214286, 56.76626984, 56.75039683, 56.73452381])"
      ]
     },
     "execution_count": 33,
     "metadata": {},
     "output_type": "execute_result"
    }
   ],
   "source": [
    "test"
   ]
  },
  {
   "cell_type": "code",
   "execution_count": 34,
   "metadata": {},
   "outputs": [
    {
     "data": {
      "text/plain": [
       "(100,)"
      ]
     },
     "execution_count": 34,
     "metadata": {},
     "output_type": "execute_result"
    }
   ],
   "source": [
    "test.shape"
   ]
  },
  {
   "cell_type": "code",
   "execution_count": 35,
   "metadata": {},
   "outputs": [
    {
     "data": {
      "text/plain": [
       "(100,)"
      ]
     },
     "execution_count": 35,
     "metadata": {},
     "output_type": "execute_result"
    }
   ],
   "source": [
    "final_forecast.shape"
   ]
  },
  {
   "cell_type": "code",
   "execution_count": 36,
   "metadata": {},
   "outputs": [
    {
     "data": {
      "text/plain": [
       "(100,)"
      ]
     },
     "execution_count": 36,
     "metadata": {},
     "output_type": "execute_result"
    }
   ],
   "source": [
    "test.shape"
   ]
  },
  {
   "cell_type": "code",
   "execution_count": 37,
   "metadata": {},
   "outputs": [
    {
     "name": "stdout",
     "output_type": "stream",
     "text": [
      "38.22473073182488\n",
      "28.7883685477014\n"
     ]
    }
   ],
   "source": [
    "import math\n",
    "MSE = np.square(np.subtract(np.array(test),np.array(final_forecast))).mean()   \n",
    "rsme = math.sqrt(MSE)\n",
    "print(rsme)  \n",
    "MAE = np.abs(np.subtract(np.array(test),np.array(final_forecast))).mean()   \n",
    "mae = MAE\n",
    "print(mae)"
   ]
  }
 ],
 "metadata": {
  "colab": {
   "provenance": []
  },
  "kernelspec": {
   "display_name": "Python 3",
   "language": "python",
   "name": "python3"
  },
  "language_info": {
   "codemirror_mode": {
    "name": "ipython",
    "version": 3
   },
   "file_extension": ".py",
   "mimetype": "text/x-python",
   "name": "python",
   "nbconvert_exporter": "python",
   "pygments_lexer": "ipython3",
   "version": "3.9.13"
  }
 },
 "nbformat": 4,
 "nbformat_minor": 0
}
