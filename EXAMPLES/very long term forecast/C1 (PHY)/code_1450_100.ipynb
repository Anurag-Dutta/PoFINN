{
 "cells": [
  {
   "cell_type": "markdown",
   "metadata": {
    "id": "pCGKeZ2gyuoQ"
   },
   "source": [
    "_Importing Required Libraries_"
   ]
  },
  {
   "cell_type": "code",
   "execution_count": 1,
   "metadata": {
    "colab": {
     "base_uri": "https://localhost:8080/"
    },
    "id": "A-6LN-zXiLcM",
    "outputId": "4de610a4-f8b8-4f49-c6c0-89de299ccedc"
   },
   "outputs": [
    {
     "name": "stdout",
     "output_type": "stream",
     "text": [
      "Requirement already satisfied: hampel in c:\\users\\anurag dutta\\appdata\\local\\packages\\pythonsoftwarefoundation.python.3.9_qbz5n2kfra8p0\\localcache\\local-packages\\python39\\site-packages (0.0.5)Note: you may need to restart the kernel to use updated packages.\n",
      "\n"
     ]
    },
    {
     "name": "stderr",
     "output_type": "stream",
     "text": [
      "\n",
      "[notice] A new release of pip is available: 24.2 -> 24.3.1\n",
      "[notice] To update, run: C:\\Users\\Anurag Dutta\\AppData\\Local\\Microsoft\\WindowsApps\\PythonSoftwareFoundation.Python.3.9_qbz5n2kfra8p0\\python.exe -m pip install --upgrade pip\n"
     ]
    },
    {
     "name": "stdout",
     "output_type": "stream",
     "text": [
      "Requirement already satisfied: numpy in c:\\users\\anurag dutta\\appdata\\local\\packages\\pythonsoftwarefoundation.python.3.9_qbz5n2kfra8p0\\localcache\\local-packages\\python39\\site-packages (from hampel) (1.26.4)\n",
      "Requirement already satisfied: pandas in c:\\users\\anurag dutta\\appdata\\local\\packages\\pythonsoftwarefoundation.python.3.9_qbz5n2kfra8p0\\localcache\\local-packages\\python39\\site-packages (from hampel) (1.5.2)\n",
      "Requirement already satisfied: python-dateutil>=2.8.1 in c:\\users\\anurag dutta\\appdata\\local\\packages\\pythonsoftwarefoundation.python.3.9_qbz5n2kfra8p0\\localcache\\local-packages\\python39\\site-packages (from pandas->hampel) (2.8.2)\n",
      "Requirement already satisfied: pytz>=2020.1 in c:\\users\\anurag dutta\\appdata\\local\\packages\\pythonsoftwarefoundation.python.3.9_qbz5n2kfra8p0\\localcache\\local-packages\\python39\\site-packages (from pandas->hampel) (2023.3.post1)\n",
      "Requirement already satisfied: six>=1.5 in c:\\users\\anurag dutta\\appdata\\local\\packages\\pythonsoftwarefoundation.python.3.9_qbz5n2kfra8p0\\localcache\\local-packages\\python39\\site-packages (from python-dateutil>=2.8.1->pandas->hampel) (1.16.0)\n"
     ]
    }
   ],
   "source": [
    "pip install hampel"
   ]
  },
  {
   "cell_type": "code",
   "execution_count": 2,
   "metadata": {
    "id": "By_d9uXpaFvZ"
   },
   "outputs": [],
   "source": [
    "from keras.models import Sequential\n",
    "from keras.layers import Dense\n",
    "from keras.layers import LSTM\n",
    "from keras.layers import Dropout\n",
    "import keras\n",
    "import tensorflow as tf\n",
    "from hampel import hampel\n",
    "import numpy as np\n",
    "import matplotlib.pyplot as plt\n",
    "import pandas as pd\n",
    "from sklearn.preprocessing import MinMaxScaler\n",
    "from sklearn.metrics import mean_squared_error, mean_absolute_error\n",
    "from math import sqrt\n",
    "from matplotlib import pyplot\n",
    "from numpy import array"
   ]
  },
  {
   "cell_type": "markdown",
   "metadata": {
    "id": "JyOjBMFayuoR"
   },
   "source": [
    "## Pretraining"
   ]
  },
  {
   "cell_type": "markdown",
   "metadata": {
    "id": "-5QqIY_GyuoR"
   },
   "source": [
    "The `capa_intermittency.dat` feeds the model with the dynamics of the Capacitor"
   ]
  },
  {
   "cell_type": "code",
   "execution_count": 3,
   "metadata": {
    "id": "9dV4a8yfyuoR"
   },
   "outputs": [],
   "source": [
    "data = np.genfromtxt('capa_intermittency.dat')\n",
    "training_set = pd.DataFrame(data).reset_index(drop=True)\n",
    "training_set = training_set.iloc[:,0]"
   ]
  },
  {
   "cell_type": "markdown",
   "metadata": {
    "id": "i7easoxByuoR"
   },
   "source": [
    "## Computing the Gradient"
   ]
  },
  {
   "cell_type": "markdown",
   "metadata": {
    "id": "5SnyolJTyuoR"
   },
   "source": [
    "_Calculating the value of_ $\\frac{dx}{dt}$"
   ]
  },
  {
   "cell_type": "code",
   "execution_count": 4,
   "metadata": {
    "colab": {
     "base_uri": "https://localhost:8080/"
    },
    "id": "wmIbVfIvyuoR",
    "outputId": "aa4e3136-c854-465d-d2e9-81cfd546e440"
   },
   "outputs": [
    {
     "name": "stdout",
     "output_type": "stream",
     "text": [
      "1.0\n",
      "1        0.000298\n",
      "2        0.000298\n",
      "3        0.000297\n",
      "4        0.000297\n",
      "5        0.000297\n",
      "           ...   \n",
      "9996     0.000018\n",
      "9997     0.000018\n",
      "9998     0.000018\n",
      "9999     0.000018\n",
      "10000    0.000018\n",
      "Name: 0, Length: 10000, dtype: float64\n"
     ]
    }
   ],
   "source": [
    "t_diff = 1\n",
    "print(training_set.max())\n",
    "gradient_t = (training_set.diff()/t_diff).iloc[1:] # dx/dt\n",
    "print(gradient_t)"
   ]
  },
  {
   "cell_type": "markdown",
   "metadata": {
    "id": "_2eVeeoxyuoS"
   },
   "source": [
    "## Loading Datasets"
   ]
  },
  {
   "cell_type": "code",
   "execution_count": 5,
   "metadata": {
    "id": "0J-NKyIEyuoS"
   },
   "outputs": [
    {
     "data": {
      "text/plain": [
       "0       89.200000\n",
       "1       88.931092\n",
       "2       88.662185\n",
       "3       88.393277\n",
       "4       88.124370\n",
       "          ...    \n",
       "1545    61.426905\n",
       "1546    61.423730\n",
       "1547    61.420556\n",
       "1548    61.417381\n",
       "1549    61.414206\n",
       "Name: C1, Length: 1550, dtype: float64"
      ]
     },
     "execution_count": 5,
     "metadata": {},
     "output_type": "execute_result"
    }
   ],
   "source": [
    "data = pd.read_csv(\"c1_interpolated_1450_100.csv\")\n",
    "training_set = data.iloc[:, 1]\n",
    "training_set"
   ]
  },
  {
   "cell_type": "code",
   "execution_count": 6,
   "metadata": {
    "colab": {
     "base_uri": "https://localhost:8080/"
    },
    "id": "-CbNUhJ74UqF",
    "outputId": "20f562d8-8247-49cc-b9c3-00eca5e13e2d"
   },
   "outputs": [
    {
     "data": {
      "text/plain": [
       "0       89.200000\n",
       "1       88.931092\n",
       "2       88.662185\n",
       "3       88.393277\n",
       "4       88.124370\n",
       "          ...    \n",
       "1445     0.000000\n",
       "1446     0.471157\n",
       "1447     0.352841\n",
       "1448     0.346431\n",
       "1449     0.000000\n",
       "Name: C1, Length: 1450, dtype: float64"
      ]
     },
     "execution_count": 6,
     "metadata": {},
     "output_type": "execute_result"
    }
   ],
   "source": [
    "test = training_set.tail(100)\n",
    "test\n",
    "training_set = training_set.head(1450)\n",
    "training_set"
   ]
  },
  {
   "cell_type": "code",
   "execution_count": 7,
   "metadata": {
    "colab": {
     "base_uri": "https://localhost:8080/"
    },
    "id": "X0TwTcq0yuoS",
    "outputId": "37252ed8-d88e-4044-fa7a-922411990b5b"
   },
   "outputs": [
    {
     "name": "stdout",
     "output_type": "stream",
     "text": [
      "0       0.000298\n",
      "1       0.000298\n",
      "2       0.000297\n",
      "3       0.000297\n",
      "4       0.000297\n",
      "          ...   \n",
      "9995    0.000018\n",
      "9996    0.000018\n",
      "9997    0.000018\n",
      "9998    0.000018\n",
      "9999    0.000018\n",
      "Name: 0, Length: 10000, dtype: float64\n"
     ]
    }
   ],
   "source": [
    "training_set = training_set.reset_index(drop=True)\n",
    "gradient_t = gradient_t.reset_index(drop=True)\n",
    "print(gradient_t)"
   ]
  },
  {
   "cell_type": "code",
   "execution_count": 8,
   "metadata": {
    "id": "O2biznZQyuoS"
   },
   "outputs": [],
   "source": [
    "df = pd.concat((training_set, gradient_t), axis=1)\n",
    "df.columns = ['y_t', 'grad_t']"
   ]
  },
  {
   "cell_type": "code",
   "execution_count": 9,
   "metadata": {
    "colab": {
     "base_uri": "https://localhost:8080/",
     "height": 423
    },
    "id": "sk_a5v3tyuoS",
    "outputId": "17563625-e550-45ae-faab-fafa353e44da"
   },
   "outputs": [
    {
     "data": {
      "text/html": [
       "<div>\n",
       "<style scoped>\n",
       "    .dataframe tbody tr th:only-of-type {\n",
       "        vertical-align: middle;\n",
       "    }\n",
       "\n",
       "    .dataframe tbody tr th {\n",
       "        vertical-align: top;\n",
       "    }\n",
       "\n",
       "    .dataframe thead th {\n",
       "        text-align: right;\n",
       "    }\n",
       "</style>\n",
       "<table border=\"1\" class=\"dataframe\">\n",
       "  <thead>\n",
       "    <tr style=\"text-align: right;\">\n",
       "      <th></th>\n",
       "      <th>y_t</th>\n",
       "      <th>grad_t</th>\n",
       "    </tr>\n",
       "  </thead>\n",
       "  <tbody>\n",
       "    <tr>\n",
       "      <th>0</th>\n",
       "      <td>89.200000</td>\n",
       "      <td>0.000298</td>\n",
       "    </tr>\n",
       "    <tr>\n",
       "      <th>1</th>\n",
       "      <td>88.931092</td>\n",
       "      <td>0.000298</td>\n",
       "    </tr>\n",
       "    <tr>\n",
       "      <th>2</th>\n",
       "      <td>88.662185</td>\n",
       "      <td>0.000297</td>\n",
       "    </tr>\n",
       "    <tr>\n",
       "      <th>3</th>\n",
       "      <td>88.393277</td>\n",
       "      <td>0.000297</td>\n",
       "    </tr>\n",
       "    <tr>\n",
       "      <th>4</th>\n",
       "      <td>88.124370</td>\n",
       "      <td>0.000297</td>\n",
       "    </tr>\n",
       "    <tr>\n",
       "      <th>...</th>\n",
       "      <td>...</td>\n",
       "      <td>...</td>\n",
       "    </tr>\n",
       "    <tr>\n",
       "      <th>9995</th>\n",
       "      <td>NaN</td>\n",
       "      <td>0.000018</td>\n",
       "    </tr>\n",
       "    <tr>\n",
       "      <th>9996</th>\n",
       "      <td>NaN</td>\n",
       "      <td>0.000018</td>\n",
       "    </tr>\n",
       "    <tr>\n",
       "      <th>9997</th>\n",
       "      <td>NaN</td>\n",
       "      <td>0.000018</td>\n",
       "    </tr>\n",
       "    <tr>\n",
       "      <th>9998</th>\n",
       "      <td>NaN</td>\n",
       "      <td>0.000018</td>\n",
       "    </tr>\n",
       "    <tr>\n",
       "      <th>9999</th>\n",
       "      <td>NaN</td>\n",
       "      <td>0.000018</td>\n",
       "    </tr>\n",
       "  </tbody>\n",
       "</table>\n",
       "<p>10000 rows × 2 columns</p>\n",
       "</div>"
      ],
      "text/plain": [
       "            y_t    grad_t\n",
       "0     89.200000  0.000298\n",
       "1     88.931092  0.000298\n",
       "2     88.662185  0.000297\n",
       "3     88.393277  0.000297\n",
       "4     88.124370  0.000297\n",
       "...         ...       ...\n",
       "9995        NaN  0.000018\n",
       "9996        NaN  0.000018\n",
       "9997        NaN  0.000018\n",
       "9998        NaN  0.000018\n",
       "9999        NaN  0.000018\n",
       "\n",
       "[10000 rows x 2 columns]"
      ]
     },
     "execution_count": 9,
     "metadata": {},
     "output_type": "execute_result"
    }
   ],
   "source": [
    "df"
   ]
  },
  {
   "cell_type": "markdown",
   "metadata": {
    "id": "-5esyHu5aFvg"
   },
   "source": [
    "## Plot of the External Forcing from Chaotic Differential Equation"
   ]
  },
  {
   "cell_type": "code",
   "execution_count": 10,
   "metadata": {
    "colab": {
     "base_uri": "https://localhost:8080/",
     "height": 447
    },
    "id": "hGnE43tOh-4p",
    "outputId": "fc396503-b624-4fa5-dfbe-f460207405c6"
   },
   "outputs": [
    {
     "data": {
      "text/plain": [
       "<Axes: >"
      ]
     },
     "execution_count": 10,
     "metadata": {},
     "output_type": "execute_result"
    },
    {
     "data": {
      "image/png": "[encoded data removed]",
      "text/plain": [
       "<Figure size 432x288 with 1 Axes>"
      ]
     },
     "metadata": {
      "needs_background": "light"
     },
     "output_type": "display_data"
    }
   ],
   "source": [
    "df.iloc[:, 0].plot()"
   ]
  },
  {
   "cell_type": "code",
   "execution_count": 11,
   "metadata": {
    "colab": {
     "base_uri": "https://localhost:8080/",
     "height": 447
    },
    "id": "ym4xWUUxaFvg",
    "outputId": "ae6a3495-8ce9-437e-ba81-3ed31deedeae"
   },
   "outputs": [
    {
     "name": "stderr",
     "output_type": "stream",
     "text": [
      "C:\\Users\\Anurag Dutta\\AppData\\Local\\Packages\\PythonSoftwareFoundation.Python.3.9_qbz5n2kfra8p0\\LocalCache\\local-packages\\Python39\\site-packages\\pandas\\core\\arraylike.py:402: RuntimeWarning: divide by zero encountered in log\n",
      "  result = getattr(ufunc, method)(*inputs, **kwargs)\n"
     ]
    },
    {
     "data": {
      "text/plain": [
       "<Axes: >"
      ]
     },
     "execution_count": 11,
     "metadata": {},
     "output_type": "execute_result"
    },
    {
     "data": {
      "image/png": "[encoded data removed]",
      "text/plain": [
       "<Figure size 432x288 with 1 Axes>"
      ]
     },
     "metadata": {
      "needs_background": "light"
     },
     "output_type": "display_data"
    }
   ],
   "source": [
    "import numpy as np\n",
    "c0 = 86.6465  # Value for C0\n",
    "K0 = -0.0029  # Value for K0\n",
    "K1 = -0.0003  # Value for K1\n",
    "a = 0.0000    # Value for a\n",
    "b = 0.0168    # Value for b\n",
    "c = 2.3581    # Value for c\n",
    "\n",
    "L = np.minimum(c0, (df.iloc[:, 1] - (df.iloc[:, 0] * (K0 - K1 * (9 * a * np.log(df.iloc[:, 0] / c0) / (K0 - K1 * c)**2 + 4 * b * np.log(df.iloc[:, 0] / c0) / (K0 - K1 * c) + c)))))\n",
    "L.plot()"
   ]
  },
  {
   "cell_type": "markdown",
   "metadata": {
    "id": "9VyEywnwaFvh"
   },
   "source": [
    "## Preprocessing the data into supervised learning"
   ]
  },
  {
   "cell_type": "code",
   "execution_count": 12,
   "metadata": {
    "id": "6V9dXqzdaFvh"
   },
   "outputs": [],
   "source": [
    "# split a sequence into samples\n",
    "def Supervised(data, n_in=1, n_out=1, dropnan=True):\n",
    "    n_vars = 1 if type(data) is list else data.shape[1]\n",
    "    df = pd.DataFrame(data)\n",
    "    cols, names = list(), list()\n",
    "    # input sequence (t-n_in, ... t-1)\n",
    "    for i in range(n_in, 0, -1):\n",
    "        cols.append(df.shift(i))\n",
    "        names += [('var%d(t-%d)' % (j+1, i)) for j in range(n_vars)]\n",
    "    # forecast sequence (t, t+1, ... t+n_out)\n",
    "    for i in range(0, n_out):\n",
    "      cols.append(df.shift(-i))\n",
    "      if i == 0:\n",
    "        names += [('var%d(t)' % (j+1)) for j in range(n_vars)]\n",
    "      else:\n",
    "        names += [('var%d(t+%d)' % (j+1, i)) for j in range(n_vars)]\n",
    "    # put it all together\n",
    "    agg = pd.concat(cols, axis=1)\n",
    "    agg.columns = names\n",
    "    # drop rows with NaN values\n",
    "    if dropnan:\n",
    "       agg.dropna(inplace=True)\n",
    "    return agg"
   ]
  },
  {
   "cell_type": "code",
   "execution_count": 13,
   "metadata": {
    "colab": {
     "base_uri": "https://localhost:8080/"
    },
    "id": "CrzSrT1HnyfH",
    "outputId": "7e75f928-3e47-499d-eac1-51908015ef78"
   },
   "outputs": [
    {
     "name": "stdout",
     "output_type": "stream",
     "text": [
      "     var1(t-350)  var1(t-349)  var1(t-348)  var1(t-347)  var1(t-346)  \\\n",
      "350    89.200000    88.931092    88.662185    88.393277    88.124370   \n",
      "351    88.931092    88.662185    88.393277    88.124370    87.855462   \n",
      "352    88.662185    88.393277    88.124370    87.855462    87.586555   \n",
      "353    88.393277    88.124370    87.855462    87.586555    87.317647   \n",
      "354    88.124370    87.855462    87.586555    87.317647    87.048739   \n",
      "\n",
      "     var1(t-345)  var1(t-344)  var1(t-343)  var1(t-342)  var1(t-341)  ...  \\\n",
      "350    87.855462    87.586555    87.317647    87.048739    86.794538  ...   \n",
      "351    87.586555    87.317647    87.048739    86.794538    86.721709  ...   \n",
      "352    87.317647    87.048739    86.794538    86.721709    86.648880  ...   \n",
      "353    87.048739    86.794538    86.721709    86.648880    86.576050  ...   \n",
      "354    86.794538    86.721709    86.648880    86.576050    86.503221  ...   \n",
      "\n",
      "     var1(t+95)  var2(t+95)  var1(t+96)  var2(t+96)  var1(t+97)  var2(t+97)  \\\n",
      "350   73.989683    0.000263   73.957937    0.000263   73.926190    0.000263   \n",
      "351   73.957937    0.000263   73.926190    0.000263   73.894444    0.000262   \n",
      "352   73.926190    0.000263   73.894444    0.000262   73.862698    0.000262   \n",
      "353   73.894444    0.000262   73.862698    0.000262   73.830952    0.000262   \n",
      "354   73.862698    0.000262   73.830952    0.000262   73.799206    0.000262   \n",
      "\n",
      "     var1(t+98)  var2(t+98)  var1(t+99)  var2(t+99)  \n",
      "350   73.894444    0.000262   73.862698    0.000262  \n",
      "351   73.862698    0.000262   73.830952    0.000262  \n",
      "352   73.830952    0.000262   73.799206    0.000262  \n",
      "353   73.799206    0.000262   73.767460    0.000262  \n",
      "354   73.767460    0.000262   73.735714    0.000262  \n",
      "\n",
      "[5 rows x 551 columns]\n",
      "Index(['var1(t-350)', 'var1(t-349)', 'var1(t-348)', 'var1(t-347)',\n",
      "       'var1(t-346)', 'var1(t-345)', 'var1(t-344)', 'var1(t-343)',\n",
      "       'var1(t-342)', 'var1(t-341)',\n",
      "       ...\n",
      "       'var1(t+95)', 'var2(t+95)', 'var1(t+96)', 'var2(t+96)', 'var1(t+97)',\n",
      "       'var2(t+97)', 'var1(t+98)', 'var2(t+98)', 'var1(t+99)', 'var2(t+99)'],\n",
      "      dtype='object', length=551)\n"
     ]
    }
   ],
   "source": [
    "data = Supervised(df.values, n_in = 350, n_out = 100)\n",
    "\n",
    "\n",
    "cols_to_drop = []\n",
    "for i in range(2, 351):\n",
    "    cols_to_drop.extend([f'var2(t-{i})'])\n",
    "\n",
    "data.drop(cols_to_drop, axis=1, inplace=True)\n",
    "\n",
    "print(data.head())\n",
    "print(data.columns)"
   ]
  },
  {
   "cell_type": "code",
   "execution_count": 14,
   "metadata": {
    "id": "AfPf60oy6Pe4"
   },
   "outputs": [],
   "source": [
    "train = np.array(data[0:len(data)-1])\n",
    "forecast = np.array(data.tail(1))"
   ]
  },
  {
   "cell_type": "code",
   "execution_count": 15,
   "metadata": {
    "id": "WSAafzI37KiT"
   },
   "outputs": [],
   "source": [
    "trainy = train[:,-300:]\n",
    "trainX = train[:,:-300]"
   ]
  },
  {
   "cell_type": "code",
   "execution_count": 16,
   "metadata": {
    "id": "2SrOqVJA7f50"
   },
   "outputs": [],
   "source": [
    "forecasty = forecast[:,-300:]\n",
    "forecastX = forecast[:,:-300]"
   ]
  },
  {
   "cell_type": "code",
   "execution_count": 17,
   "metadata": {
    "colab": {
     "base_uri": "https://localhost:8080/"
    },
    "id": "Qno_k8Nw7saY",
    "outputId": "c4a88db5-d8c6-489f-cdb2-06b24e293cff"
   },
   "outputs": [
    {
     "name": "stdout",
     "output_type": "stream",
     "text": [
      "(1000, 1, 251) (1000, 300) (1, 1, 251)\n"
     ]
    }
   ],
   "source": [
    "trainX = trainX.reshape((trainX.shape[0], 1, trainX.shape[1]))\n",
    "forecastX = forecastX.reshape((forecastX.shape[0], 1, forecastX.shape[1]))\n",
    "print(trainX.shape, trainy.shape, forecastX.shape)"
   ]
  },
  {
   "cell_type": "code",
   "execution_count": 18,
   "metadata": {
    "colab": {
     "base_uri": "https://localhost:8080/"
    },
    "id": "b1Jp2DvNuNFx",
    "outputId": "d0e5b3c4-64f1-438c-eade-8dfeaac8e285"
   },
   "outputs": [
    {
     "name": "stdout",
     "output_type": "stream",
     "text": [
      "Epoch 1/500\n",
      "13/13 [==============================] - 3s 46ms/step - loss: 4730.9717 - val_loss: 3794.1687\n",
      "Epoch 2/500\n",
      "13/13 [==============================] - 0s 7ms/step - loss: 4675.8960 - val_loss: 3753.1230\n",
      "Epoch 3/500\n",
      "13/13 [==============================] - 0s 6ms/step - loss: 4632.8555 - val_loss: 3716.3245\n",
      "Epoch 4/500\n",
      "13/13 [==============================] - 0s 6ms/step - loss: 4580.4185 - val_loss: 3663.0635\n",
      "Epoch 5/500\n",
      "13/13 [==============================] - 0s 5ms/step - loss: 4532.1104 - val_loss: 3625.0774\n",
      "Epoch 6/500\n",
      "13/13 [==============================] - 0s 5ms/step - loss: 4489.9937 - val_loss: 3573.0393\n",
      "Epoch 7/500\n",
      "13/13 [==============================] - 0s 5ms/step - loss: 4431.4756 - val_loss: 3534.0510\n",
      "Epoch 8/500\n",
      "13/13 [==============================] - 0s 5ms/step - loss: 4387.9761 - val_loss: 3495.2102\n",
      "Epoch 9/500\n",
      "13/13 [==============================] - 0s 5ms/step - loss: 4344.9282 - val_loss: 3456.9333\n",
      "Epoch 10/500\n",
      "13/13 [==============================] - 0s 7ms/step - loss: 4302.4731 - val_loss: 3419.1787\n",
      "Epoch 11/500\n",
      "13/13 [==============================] - 0s 6ms/step - loss: 4260.5454 - val_loss: 3381.8831\n",
      "Epoch 12/500\n",
      "13/13 [==============================] - 0s 5ms/step - loss: 4219.0811 - val_loss: 3344.9980\n",
      "Epoch 13/500\n",
      "13/13 [==============================] - 0s 5ms/step - loss: 4178.0366 - val_loss: 3308.4915\n",
      "Epoch 14/500\n",
      "13/13 [==============================] - 0s 5ms/step - loss: 4132.5254 - val_loss: 3266.1130\n",
      "Epoch 15/500\n",
      "13/13 [==============================] - 0s 5ms/step - loss: 4088.7236 - val_loss: 3227.4502\n",
      "Epoch 16/500\n",
      "13/13 [==============================] - 0s 4ms/step - loss: 4045.7458 - val_loss: 3175.8291\n",
      "Epoch 17/500\n",
      "13/13 [==============================] - 0s 5ms/step - loss: 3987.0615 - val_loss: 3135.8040\n",
      "Epoch 18/500\n",
      "13/13 [==============================] - 0s 5ms/step - loss: 3942.1582 - val_loss: 3096.0974\n",
      "Epoch 19/500\n",
      "13/13 [==============================] - 0s 5ms/step - loss: 3898.0132 - val_loss: 3057.2634\n",
      "Epoch 20/500\n",
      "13/13 [==============================] - 0s 6ms/step - loss: 3854.7783 - val_loss: 3019.1997\n",
      "Epoch 21/500\n",
      "13/13 [==============================] - 0s 11ms/step - loss: 3812.3203 - val_loss: 2981.7878\n",
      "Epoch 22/500\n",
      "13/13 [==============================] - 0s 5ms/step - loss: 3770.5220 - val_loss: 2944.9431\n",
      "Epoch 23/500\n",
      "13/13 [==============================] - 0s 5ms/step - loss: 3729.3013 - val_loss: 2908.6057\n",
      "Epoch 24/500\n",
      "13/13 [==============================] - 0s 5ms/step - loss: 3688.6025 - val_loss: 2872.7324\n",
      "Epoch 25/500\n",
      "13/13 [==============================] - 0s 5ms/step - loss: 3648.3838 - val_loss: 2837.2944\n",
      "Epoch 26/500\n",
      "13/13 [==============================] - 0s 6ms/step - loss: 3608.6143 - val_loss: 2802.2668\n",
      "Epoch 27/500\n",
      "13/13 [==============================] - 0s 5ms/step - loss: 3569.2712 - val_loss: 2767.6306\n",
      "Epoch 28/500\n",
      "13/13 [==============================] - 0s 5ms/step - loss: 3530.3340 - val_loss: 2733.3708\n",
      "Epoch 29/500\n",
      "13/13 [==============================] - 0s 7ms/step - loss: 3491.7891 - val_loss: 2699.4758\n",
      "Epoch 30/500\n",
      "13/13 [==============================] - 0s 5ms/step - loss: 3453.6230 - val_loss: 2665.9338\n",
      "Epoch 31/500\n",
      "13/13 [==============================] - 0s 5ms/step - loss: 3415.8245 - val_loss: 2632.7363\n",
      "Epoch 32/500\n",
      "13/13 [==============================] - 0s 6ms/step - loss: 3378.3840 - val_loss: 2599.8755\n",
      "Epoch 33/500\n",
      "13/13 [==============================] - 0s 5ms/step - loss: 3341.2944 - val_loss: 2567.3438\n",
      "Epoch 34/500\n",
      "13/13 [==============================] - 0s 5ms/step - loss: 3304.5471 - val_loss: 2535.1353\n",
      "Epoch 35/500\n",
      "13/13 [==============================] - 0s 5ms/step - loss: 3268.1370 - val_loss: 2503.2441\n",
      "Epoch 36/500\n",
      "13/13 [==============================] - 0s 5ms/step - loss: 3232.0579 - val_loss: 2471.6660\n",
      "Epoch 37/500\n",
      "13/13 [==============================] - 0s 5ms/step - loss: 3196.3035 - val_loss: 2440.3955\n",
      "Epoch 38/500\n",
      "13/13 [==============================] - 0s 5ms/step - loss: 3160.8704 - val_loss: 2409.4292\n",
      "Epoch 39/500\n",
      "13/13 [==============================] - 0s 8ms/step - loss: 3125.7537 - val_loss: 2378.7625\n",
      "Epoch 40/500\n",
      "13/13 [==============================] - 0s 7ms/step - loss: 3090.9490 - val_loss: 2348.3914\n",
      "Epoch 41/500\n",
      "13/13 [==============================] - 0s 5ms/step - loss: 3056.4524 - val_loss: 2318.3127\n",
      "Epoch 42/500\n",
      "13/13 [==============================] - 0s 5ms/step - loss: 3022.2607 - val_loss: 2288.5232\n",
      "Epoch 43/500\n",
      "13/13 [==============================] - 0s 5ms/step - loss: 2988.3701 - val_loss: 2259.0198\n",
      "Epoch 44/500\n",
      "13/13 [==============================] - 0s 5ms/step - loss: 2954.7778 - val_loss: 2229.7993\n",
      "Epoch 45/500\n",
      "13/13 [==============================] - 0s 5ms/step - loss: 2921.4807 - val_loss: 2200.8591\n",
      "Epoch 46/500\n",
      "13/13 [==============================] - 0s 4ms/step - loss: 2888.4753 - val_loss: 2172.1973\n",
      "Epoch 47/500\n",
      "13/13 [==============================] - 0s 5ms/step - loss: 2855.7593 - val_loss: 2143.8096\n",
      "Epoch 48/500\n",
      "13/13 [==============================] - 0s 7ms/step - loss: 2823.3301 - val_loss: 2115.6943\n",
      "Epoch 49/500\n",
      "13/13 [==============================] - 0s 8ms/step - loss: 2791.1846 - val_loss: 2087.8489\n",
      "Epoch 50/500\n",
      "13/13 [==============================] - 0s 7ms/step - loss: 2759.3206 - val_loss: 2060.2720\n",
      "Epoch 51/500\n",
      "13/13 [==============================] - 0s 5ms/step - loss: 2727.7363 - val_loss: 2032.9597\n",
      "Epoch 52/500\n",
      "13/13 [==============================] - 0s 5ms/step - loss: 2696.4285 - val_loss: 2005.9109\n",
      "Epoch 53/500\n",
      "13/13 [==============================] - 0s 8ms/step - loss: 2665.3950 - val_loss: 1979.1232\n",
      "Epoch 54/500\n",
      "13/13 [==============================] - 0s 5ms/step - loss: 2634.6343 - val_loss: 1952.5945\n",
      "Epoch 55/500\n",
      "13/13 [==============================] - 0s 5ms/step - loss: 2604.1440 - val_loss: 1926.3231\n",
      "Epoch 56/500\n",
      "13/13 [==============================] - 0s 14ms/step - loss: 2573.9216 - val_loss: 1900.3063\n",
      "Epoch 57/500\n",
      "13/13 [==============================] - 0s 6ms/step - loss: 2543.9651 - val_loss: 1874.5426\n",
      "Epoch 58/500\n",
      "13/13 [==============================] - 0s 5ms/step - loss: 2514.2732 - val_loss: 1849.0300\n",
      "Epoch 59/500\n",
      "13/13 [==============================] - 0s 6ms/step - loss: 2484.8433 - val_loss: 1823.7668\n",
      "Epoch 60/500\n",
      "13/13 [==============================] - 0s 6ms/step - loss: 2455.6733 - val_loss: 1798.7510\n",
      "Epoch 61/500\n",
      "13/13 [==============================] - 0s 5ms/step - loss: 2426.7625 - val_loss: 1773.9800\n",
      "Epoch 62/500\n",
      "13/13 [==============================] - 0s 5ms/step - loss: 2398.1077 - val_loss: 1749.4539\n",
      "Epoch 63/500\n",
      "13/13 [==============================] - 0s 5ms/step - loss: 2369.7078 - val_loss: 1725.1697\n",
      "Epoch 64/500\n",
      "13/13 [==============================] - 0s 7ms/step - loss: 2341.5615 - val_loss: 1701.1250\n",
      "Epoch 65/500\n",
      "13/13 [==============================] - 0s 5ms/step - loss: 2313.1643 - val_loss: 1665.0054\n",
      "Epoch 66/500\n",
      "13/13 [==============================] - 0s 5ms/step - loss: 2270.0376 - val_loss: 1637.9436\n",
      "Epoch 67/500\n",
      "13/13 [==============================] - 0s 5ms/step - loss: 2238.3743 - val_loss: 1611.1199\n",
      "Epoch 68/500\n",
      "13/13 [==============================] - 0s 6ms/step - loss: 2207.3994 - val_loss: 1585.0950\n",
      "Epoch 69/500\n",
      "13/13 [==============================] - 0s 5ms/step - loss: 2177.2810 - val_loss: 1559.7644\n",
      "Epoch 70/500\n",
      "13/13 [==============================] - 0s 4ms/step - loss: 2147.8774 - val_loss: 1535.0073\n",
      "Epoch 71/500\n",
      "13/13 [==============================] - 0s 4ms/step - loss: 2119.0676 - val_loss: 1510.7393\n",
      "Epoch 72/500\n",
      "13/13 [==============================] - 0s 5ms/step - loss: 2090.7681 - val_loss: 1486.9030\n",
      "Epoch 73/500\n",
      "13/13 [==============================] - 0s 5ms/step - loss: 2062.9211 - val_loss: 1463.4581\n",
      "Epoch 74/500\n",
      "13/13 [==============================] - 0s 5ms/step - loss: 2035.4871 - val_loss: 1440.3767\n",
      "Epoch 75/500\n",
      "13/13 [==============================] - 0s 5ms/step - loss: 2008.4360 - val_loss: 1417.6362\n",
      "Epoch 76/500\n",
      "13/13 [==============================] - 0s 5ms/step - loss: 1981.7468 - val_loss: 1395.2192\n",
      "Epoch 77/500\n",
      "13/13 [==============================] - 0s 5ms/step - loss: 1955.4001 - val_loss: 1373.1122\n",
      "Epoch 78/500\n",
      "13/13 [==============================] - 0s 5ms/step - loss: 1929.3821 - val_loss: 1351.3042\n",
      "Epoch 79/500\n",
      "13/13 [==============================] - 0s 5ms/step - loss: 1903.6807 - val_loss: 1329.7858\n",
      "Epoch 80/500\n",
      "13/13 [==============================] - 0s 5ms/step - loss: 1878.2858 - val_loss: 1308.5481\n",
      "Epoch 81/500\n",
      "13/13 [==============================] - 0s 6ms/step - loss: 1853.1887 - val_loss: 1287.5839\n",
      "Epoch 82/500\n",
      "13/13 [==============================] - 0s 6ms/step - loss: 1828.3822 - val_loss: 1266.8872\n",
      "Epoch 83/500\n",
      "13/13 [==============================] - 0s 5ms/step - loss: 1803.8588 - val_loss: 1246.4526\n",
      "Epoch 84/500\n",
      "13/13 [==============================] - 0s 5ms/step - loss: 1779.6132 - val_loss: 1226.2744\n",
      "Epoch 85/500\n",
      "13/13 [==============================] - 0s 7ms/step - loss: 1755.6396 - val_loss: 1206.3488\n",
      "Epoch 86/500\n",
      "13/13 [==============================] - 0s 5ms/step - loss: 1731.9329 - val_loss: 1186.6703\n",
      "Epoch 87/500\n",
      "13/13 [==============================] - 0s 5ms/step - loss: 1708.4889 - val_loss: 1167.2363\n",
      "Epoch 88/500\n",
      "13/13 [==============================] - 0s 5ms/step - loss: 1685.3040 - val_loss: 1148.0425\n",
      "Epoch 89/500\n",
      "13/13 [==============================] - 0s 5ms/step - loss: 1662.3739 - val_loss: 1129.0854\n",
      "Epoch 90/500\n",
      "13/13 [==============================] - 0s 5ms/step - loss: 1639.6946 - val_loss: 1110.3618\n",
      "Epoch 91/500\n",
      "13/13 [==============================] - 0s 10ms/step - loss: 1617.2628 - val_loss: 1091.8690\n",
      "Epoch 92/500\n",
      "13/13 [==============================] - 0s 5ms/step - loss: 1595.0757 - val_loss: 1073.6042\n",
      "Epoch 93/500\n",
      "13/13 [==============================] - 0s 5ms/step - loss: 1573.1301 - val_loss: 1055.5638\n",
      "Epoch 94/500\n",
      "13/13 [==============================] - 0s 5ms/step - loss: 1551.4230 - val_loss: 1037.7460\n",
      "Epoch 95/500\n",
      "13/13 [==============================] - 0s 6ms/step - loss: 1529.9520 - val_loss: 1020.1484\n",
      "Epoch 96/500\n",
      "13/13 [==============================] - 0s 4ms/step - loss: 1508.7142 - val_loss: 1002.7679\n",
      "Epoch 97/500\n",
      "13/13 [==============================] - 0s 4ms/step - loss: 1487.7069 - val_loss: 985.6025\n",
      "Epoch 98/500\n",
      "13/13 [==============================] - 0s 6ms/step - loss: 1466.9280 - val_loss: 968.6500\n",
      "Epoch 99/500\n",
      "13/13 [==============================] - 0s 6ms/step - loss: 1446.3756 - val_loss: 951.9080\n",
      "Epoch 100/500\n",
      "13/13 [==============================] - 0s 8ms/step - loss: 1426.0465 - val_loss: 935.3744\n",
      "Epoch 101/500\n",
      "13/13 [==============================] - 0s 6ms/step - loss: 1405.9387 - val_loss: 919.0472\n",
      "Epoch 102/500\n",
      "13/13 [==============================] - 0s 7ms/step - loss: 1386.0504 - val_loss: 902.9244\n",
      "Epoch 103/500\n",
      "13/13 [==============================] - 0s 7ms/step - loss: 1366.3789 - val_loss: 887.0042\n",
      "Epoch 104/500\n",
      "13/13 [==============================] - 0s 8ms/step - loss: 1346.9229 - val_loss: 871.2840\n",
      "Epoch 105/500\n",
      "13/13 [==============================] - 0s 8ms/step - loss: 1327.6804 - val_loss: 855.7631\n",
      "Epoch 106/500\n",
      "13/13 [==============================] - 0s 8ms/step - loss: 1308.6492 - val_loss: 840.4390\n",
      "Epoch 107/500\n",
      "13/13 [==============================] - 0s 8ms/step - loss: 1289.8274 - val_loss: 825.3092\n",
      "Epoch 108/500\n",
      "13/13 [==============================] - 0s 8ms/step - loss: 1271.2128 - val_loss: 810.3730\n",
      "Epoch 109/500\n",
      "13/13 [==============================] - 0s 9ms/step - loss: 1252.8046 - val_loss: 795.6288\n",
      "Epoch 110/500\n",
      "13/13 [==============================] - 0s 9ms/step - loss: 1234.6006 - val_loss: 781.0747\n",
      "Epoch 111/500\n",
      "13/13 [==============================] - 0s 8ms/step - loss: 1216.5984 - val_loss: 766.7071\n",
      "Epoch 112/500\n",
      "13/13 [==============================] - 0s 8ms/step - loss: 1198.7968 - val_loss: 752.5271\n",
      "Epoch 113/500\n",
      "13/13 [==============================] - 0s 9ms/step - loss: 1181.1942 - val_loss: 738.5316\n",
      "Epoch 114/500\n",
      "13/13 [==============================] - 0s 9ms/step - loss: 1163.7887 - val_loss: 724.7194\n",
      "Epoch 115/500\n",
      "13/13 [==============================] - 0s 8ms/step - loss: 1146.5791 - val_loss: 711.0887\n",
      "Epoch 116/500\n",
      "13/13 [==============================] - 0s 8ms/step - loss: 1129.5634 - val_loss: 697.6385\n",
      "Epoch 117/500\n",
      "13/13 [==============================] - 0s 17ms/step - loss: 1112.7399 - val_loss: 684.3661\n",
      "Epoch 118/500\n",
      "13/13 [==============================] - 0s 9ms/step - loss: 1096.1078 - val_loss: 671.2710\n",
      "Epoch 119/500\n",
      "13/13 [==============================] - 0s 9ms/step - loss: 1079.6644 - val_loss: 658.3514\n",
      "Epoch 120/500\n",
      "13/13 [==============================] - 0s 8ms/step - loss: 1063.4092 - val_loss: 645.6061\n",
      "Epoch 121/500\n",
      "13/13 [==============================] - 0s 9ms/step - loss: 1047.3402 - val_loss: 633.0328\n",
      "Epoch 122/500\n",
      "13/13 [==============================] - 0s 8ms/step - loss: 1031.4556 - val_loss: 620.6301\n",
      "Epoch 123/500\n",
      "13/13 [==============================] - 0s 9ms/step - loss: 1015.7546 - val_loss: 608.3976\n",
      "Epoch 124/500\n",
      "13/13 [==============================] - 0s 10ms/step - loss: 1000.2353 - val_loss: 596.3331\n",
      "Epoch 125/500\n",
      "13/13 [==============================] - 0s 9ms/step - loss: 984.8967 - val_loss: 584.4349\n",
      "Epoch 126/500\n",
      "13/13 [==============================] - 0s 9ms/step - loss: 969.7368 - val_loss: 572.7022\n",
      "Epoch 127/500\n",
      "13/13 [==============================] - 0s 10ms/step - loss: 954.7542 - val_loss: 561.1335\n",
      "Epoch 128/500\n",
      "13/13 [==============================] - 0s 9ms/step - loss: 939.9479 - val_loss: 549.7271\n",
      "Epoch 129/500\n",
      "13/13 [==============================] - 0s 11ms/step - loss: 925.3164 - val_loss: 538.4816\n",
      "Epoch 130/500\n",
      "13/13 [==============================] - 0s 9ms/step - loss: 910.8582 - val_loss: 527.3956\n",
      "Epoch 131/500\n",
      "13/13 [==============================] - 0s 9ms/step - loss: 896.5715 - val_loss: 516.4675\n",
      "Epoch 132/500\n",
      "13/13 [==============================] - 0s 8ms/step - loss: 882.4554 - val_loss: 505.6975\n",
      "Epoch 133/500\n",
      "13/13 [==============================] - 0s 8ms/step - loss: 868.5092 - val_loss: 495.0825\n",
      "Epoch 134/500\n",
      "13/13 [==============================] - 0s 10ms/step - loss: 854.7303 - val_loss: 484.6215\n",
      "Epoch 135/500\n",
      "13/13 [==============================] - 0s 9ms/step - loss: 841.1180 - val_loss: 474.3130\n",
      "Epoch 136/500\n",
      "13/13 [==============================] - 0s 10ms/step - loss: 827.6707 - val_loss: 464.1575\n",
      "Epoch 137/500\n",
      "13/13 [==============================] - 0s 9ms/step - loss: 814.3876 - val_loss: 454.1515\n",
      "Epoch 138/500\n",
      "13/13 [==============================] - 0s 8ms/step - loss: 801.2673 - val_loss: 444.2940\n",
      "Epoch 139/500\n",
      "13/13 [==============================] - 0s 7ms/step - loss: 788.3079 - val_loss: 434.5848\n",
      "Epoch 140/500\n",
      "13/13 [==============================] - 0s 6ms/step - loss: 775.5087 - val_loss: 425.0211\n",
      "Epoch 141/500\n",
      "13/13 [==============================] - 0s 7ms/step - loss: 762.8678 - val_loss: 415.6031\n",
      "Epoch 142/500\n",
      "13/13 [==============================] - 0s 13ms/step - loss: 750.3842 - val_loss: 406.3291\n",
      "Epoch 143/500\n",
      "13/13 [==============================] - 0s 8ms/step - loss: 738.0570 - val_loss: 397.1968\n",
      "Epoch 144/500\n",
      "13/13 [==============================] - 0s 8ms/step - loss: 725.8848 - val_loss: 388.2066\n",
      "Epoch 145/500\n",
      "13/13 [==============================] - 0s 8ms/step - loss: 713.8660 - val_loss: 379.3555\n",
      "Epoch 146/500\n",
      "13/13 [==============================] - 0s 7ms/step - loss: 701.9996 - val_loss: 370.6433\n",
      "Epoch 147/500\n",
      "13/13 [==============================] - 0s 7ms/step - loss: 690.2844 - val_loss: 362.0690\n",
      "Epoch 148/500\n",
      "13/13 [==============================] - 0s 8ms/step - loss: 678.7189 - val_loss: 353.6303\n",
      "Epoch 149/500\n",
      "13/13 [==============================] - 0s 8ms/step - loss: 667.3019 - val_loss: 345.3268\n",
      "Epoch 150/500\n",
      "13/13 [==============================] - 0s 9ms/step - loss: 656.0325 - val_loss: 337.1575\n",
      "Epoch 151/500\n",
      "13/13 [==============================] - 0s 9ms/step - loss: 644.9095 - val_loss: 329.1203\n",
      "Epoch 152/500\n",
      "13/13 [==============================] - 0s 8ms/step - loss: 633.9313 - val_loss: 321.2142\n",
      "Epoch 153/500\n",
      "13/13 [==============================] - 0s 9ms/step - loss: 623.0967 - val_loss: 313.4384\n",
      "Epoch 154/500\n",
      "13/13 [==============================] - 0s 10ms/step - loss: 612.4048 - val_loss: 305.7915\n",
      "Epoch 155/500\n",
      "13/13 [==============================] - 0s 9ms/step - loss: 601.8546 - val_loss: 298.2722\n",
      "Epoch 156/500\n",
      "13/13 [==============================] - 0s 10ms/step - loss: 591.4445 - val_loss: 290.8792\n",
      "Epoch 157/500\n",
      "13/13 [==============================] - 0s 8ms/step - loss: 581.1732 - val_loss: 283.6118\n",
      "Epoch 158/500\n",
      "13/13 [==============================] - 0s 9ms/step - loss: 571.0398 - val_loss: 276.4679\n",
      "Epoch 159/500\n",
      "13/13 [==============================] - 0s 9ms/step - loss: 561.0432 - val_loss: 269.4474\n",
      "Epoch 160/500\n",
      "13/13 [==============================] - 0s 8ms/step - loss: 551.1819 - val_loss: 262.5481\n",
      "Epoch 161/500\n",
      "13/13 [==============================] - 0s 10ms/step - loss: 541.4550 - val_loss: 255.7692\n",
      "Epoch 162/500\n",
      "13/13 [==============================] - 0s 9ms/step - loss: 531.8610 - val_loss: 249.1105\n",
      "Epoch 163/500\n",
      "13/13 [==============================] - 0s 9ms/step - loss: 522.3994 - val_loss: 242.5690\n",
      "Epoch 164/500\n",
      "13/13 [==============================] - 0s 8ms/step - loss: 513.0681 - val_loss: 236.1444\n",
      "Epoch 165/500\n",
      "13/13 [==============================] - 0s 8ms/step - loss: 503.8666 - val_loss: 229.8358\n",
      "Epoch 166/500\n",
      "13/13 [==============================] - 0s 8ms/step - loss: 494.7937 - val_loss: 223.6417\n",
      "Epoch 167/500\n",
      "13/13 [==============================] - 0s 7ms/step - loss: 485.8480 - val_loss: 217.5615\n",
      "Epoch 168/500\n",
      "13/13 [==============================] - 0s 7ms/step - loss: 477.0288 - val_loss: 211.5930\n",
      "Epoch 169/500\n",
      "13/13 [==============================] - 0s 11ms/step - loss: 468.3346 - val_loss: 205.7357\n",
      "Epoch 170/500\n",
      "13/13 [==============================] - 0s 7ms/step - loss: 459.7645 - val_loss: 199.9888\n",
      "Epoch 171/500\n",
      "13/13 [==============================] - 0s 7ms/step - loss: 451.3171 - val_loss: 194.3506\n",
      "Epoch 172/500\n",
      "13/13 [==============================] - 0s 7ms/step - loss: 442.9916 - val_loss: 188.8199\n",
      "Epoch 173/500\n",
      "13/13 [==============================] - 0s 7ms/step - loss: 434.7867 - val_loss: 183.3960\n",
      "Epoch 174/500\n",
      "13/13 [==============================] - 0s 7ms/step - loss: 426.7011 - val_loss: 178.0776\n",
      "Epoch 175/500\n",
      "13/13 [==============================] - 0s 5ms/step - loss: 418.7340 - val_loss: 172.8632\n",
      "Epoch 176/500\n",
      "13/13 [==============================] - 0s 5ms/step - loss: 410.8841 - val_loss: 167.7522\n",
      "Epoch 177/500\n",
      "13/13 [==============================] - 0s 5ms/step - loss: 403.1505 - val_loss: 162.7431\n",
      "Epoch 178/500\n",
      "13/13 [==============================] - 0s 5ms/step - loss: 395.5320 - val_loss: 157.8350\n",
      "Epoch 179/500\n",
      "13/13 [==============================] - 0s 5ms/step - loss: 388.0272 - val_loss: 153.0271\n",
      "Epoch 180/500\n",
      "13/13 [==============================] - 0s 5ms/step - loss: 380.6358 - val_loss: 148.3171\n",
      "Epoch 181/500\n",
      "13/13 [==============================] - 0s 5ms/step - loss: 373.3558 - val_loss: 143.7054\n",
      "Epoch 182/500\n",
      "13/13 [==============================] - 0s 5ms/step - loss: 366.1866 - val_loss: 139.1900\n",
      "Epoch 183/500\n",
      "13/13 [==============================] - 0s 5ms/step - loss: 359.1272 - val_loss: 134.7702\n",
      "Epoch 184/500\n",
      "13/13 [==============================] - 0s 5ms/step - loss: 352.1765 - val_loss: 130.4444\n",
      "Epoch 185/500\n",
      "13/13 [==============================] - 0s 5ms/step - loss: 345.3330 - val_loss: 126.2119\n",
      "Epoch 186/500\n",
      "13/13 [==============================] - 0s 7ms/step - loss: 338.5961 - val_loss: 122.0717\n",
      "Epoch 187/500\n",
      "13/13 [==============================] - 0s 5ms/step - loss: 331.9646 - val_loss: 118.0224\n",
      "Epoch 188/500\n",
      "13/13 [==============================] - 0s 7ms/step - loss: 325.4372 - val_loss: 114.0630\n",
      "Epoch 189/500\n",
      "13/13 [==============================] - 0s 7ms/step - loss: 319.0132 - val_loss: 110.1926\n",
      "Epoch 190/500\n",
      "13/13 [==============================] - 0s 7ms/step - loss: 312.6915 - val_loss: 106.4100\n",
      "Epoch 191/500\n",
      "13/13 [==============================] - 0s 6ms/step - loss: 306.4709 - val_loss: 102.7143\n",
      "Epoch 192/500\n",
      "13/13 [==============================] - 0s 7ms/step - loss: 300.3504 - val_loss: 99.1041\n",
      "Epoch 193/500\n",
      "13/13 [==============================] - 0s 7ms/step - loss: 294.3289 - val_loss: 95.5783\n",
      "Epoch 194/500\n",
      "13/13 [==============================] - 0s 7ms/step - loss: 288.4054 - val_loss: 92.1363\n",
      "Epoch 195/500\n",
      "13/13 [==============================] - 0s 7ms/step - loss: 282.5788 - val_loss: 88.7766\n",
      "Epoch 196/500\n",
      "13/13 [==============================] - 0s 7ms/step - loss: 276.8482 - val_loss: 85.4986\n",
      "Epoch 197/500\n",
      "13/13 [==============================] - 0s 7ms/step - loss: 271.2128 - val_loss: 82.3009\n",
      "Epoch 198/500\n",
      "13/13 [==============================] - 0s 7ms/step - loss: 265.6711 - val_loss: 79.1824\n",
      "Epoch 199/500\n",
      "13/13 [==============================] - 0s 7ms/step - loss: 260.2222 - val_loss: 76.1423\n",
      "Epoch 200/500\n",
      "13/13 [==============================] - 0s 5ms/step - loss: 254.8654 - val_loss: 73.1793\n",
      "Epoch 201/500\n",
      "13/13 [==============================] - 0s 5ms/step - loss: 249.5993 - val_loss: 70.2929\n",
      "Epoch 202/500\n",
      "13/13 [==============================] - 0s 5ms/step - loss: 244.4231 - val_loss: 67.4816\n",
      "Epoch 203/500\n",
      "13/13 [==============================] - 0s 5ms/step - loss: 239.3358 - val_loss: 64.7444\n",
      "Epoch 204/500\n",
      "13/13 [==============================] - 0s 5ms/step - loss: 234.3362 - val_loss: 62.0803\n",
      "Epoch 205/500\n",
      "13/13 [==============================] - 0s 5ms/step - loss: 229.4236 - val_loss: 59.4884\n",
      "Epoch 206/500\n",
      "13/13 [==============================] - 0s 16ms/step - loss: 224.5968 - val_loss: 56.9677\n",
      "Epoch 207/500\n",
      "13/13 [==============================] - 0s 8ms/step - loss: 219.8547 - val_loss: 54.5170\n",
      "Epoch 208/500\n",
      "13/13 [==============================] - 0s 7ms/step - loss: 215.1965 - val_loss: 52.1354\n",
      "Epoch 209/500\n",
      "13/13 [==============================] - 0s 6ms/step - loss: 210.6214 - val_loss: 49.8220\n",
      "Epoch 210/500\n",
      "13/13 [==============================] - 0s 7ms/step - loss: 206.1282 - val_loss: 47.5757\n",
      "Epoch 211/500\n",
      "13/13 [==============================] - 0s 7ms/step - loss: 201.7157 - val_loss: 45.3955\n",
      "Epoch 212/500\n",
      "13/13 [==============================] - 0s 5ms/step - loss: 197.3834 - val_loss: 43.2806\n",
      "Epoch 213/500\n",
      "13/13 [==============================] - 0s 8ms/step - loss: 193.1302 - val_loss: 41.2296\n",
      "Epoch 214/500\n",
      "13/13 [==============================] - 0s 6ms/step - loss: 188.9550 - val_loss: 39.2420\n",
      "Epoch 215/500\n",
      "13/13 [==============================] - 0s 5ms/step - loss: 184.8567 - val_loss: 37.3165\n",
      "Epoch 216/500\n",
      "13/13 [==============================] - 0s 5ms/step - loss: 180.8345 - val_loss: 35.4521\n",
      "Epoch 217/500\n",
      "13/13 [==============================] - 0s 5ms/step - loss: 176.8876 - val_loss: 33.6482\n",
      "Epoch 218/500\n",
      "13/13 [==============================] - 0s 6ms/step - loss: 173.0149 - val_loss: 31.9035\n",
      "Epoch 219/500\n",
      "13/13 [==============================] - 0s 5ms/step - loss: 169.2154 - val_loss: 30.2170\n",
      "Epoch 220/500\n",
      "13/13 [==============================] - 0s 7ms/step - loss: 165.4883 - val_loss: 28.5880\n",
      "Epoch 221/500\n",
      "13/13 [==============================] - 0s 7ms/step - loss: 161.8327 - val_loss: 27.0155\n",
      "Epoch 222/500\n",
      "13/13 [==============================] - 0s 7ms/step - loss: 158.2474 - val_loss: 25.4985\n",
      "Epoch 223/500\n",
      "13/13 [==============================] - 0s 7ms/step - loss: 154.7319 - val_loss: 24.0361\n",
      "Epoch 224/500\n",
      "13/13 [==============================] - 0s 7ms/step - loss: 151.2851 - val_loss: 22.6273\n",
      "Epoch 225/500\n",
      "13/13 [==============================] - 0s 7ms/step - loss: 147.9059 - val_loss: 21.2711\n",
      "Epoch 226/500\n",
      "13/13 [==============================] - 0s 7ms/step - loss: 144.5936 - val_loss: 19.9668\n",
      "Epoch 227/500\n",
      "13/13 [==============================] - 0s 6ms/step - loss: 141.3469 - val_loss: 18.7134\n",
      "Epoch 228/500\n",
      "13/13 [==============================] - 0s 5ms/step - loss: 138.1655 - val_loss: 17.5098\n",
      "Epoch 229/500\n",
      "13/13 [==============================] - 0s 7ms/step - loss: 135.0480 - val_loss: 16.3555\n",
      "Epoch 230/500\n",
      "13/13 [==============================] - 0s 7ms/step - loss: 131.9940 - val_loss: 15.2494\n",
      "Epoch 231/500\n",
      "13/13 [==============================] - 0s 5ms/step - loss: 129.0023 - val_loss: 14.1904\n",
      "Epoch 232/500\n",
      "13/13 [==============================] - 0s 7ms/step - loss: 126.0721 - val_loss: 13.1778\n",
      "Epoch 233/500\n",
      "13/13 [==============================] - 0s 7ms/step - loss: 123.2024 - val_loss: 12.2109\n",
      "Epoch 234/500\n",
      "13/13 [==============================] - 0s 10ms/step - loss: 120.3926 - val_loss: 11.2885\n",
      "Epoch 235/500\n",
      "13/13 [==============================] - 0s 8ms/step - loss: 117.6415 - val_loss: 10.4098\n",
      "Epoch 236/500\n",
      "13/13 [==============================] - 0s 7ms/step - loss: 114.9485 - val_loss: 9.5741\n",
      "Epoch 237/500\n",
      "13/13 [==============================] - 0s 7ms/step - loss: 112.3127 - val_loss: 8.7804\n",
      "Epoch 238/500\n",
      "13/13 [==============================] - 0s 7ms/step - loss: 109.7332 - val_loss: 8.0280\n",
      "Epoch 239/500\n",
      "13/13 [==============================] - 0s 7ms/step - loss: 107.2091 - val_loss: 7.3158\n",
      "Epoch 240/500\n",
      "13/13 [==============================] - 0s 7ms/step - loss: 104.7396 - val_loss: 6.6432\n",
      "Epoch 241/500\n",
      "13/13 [==============================] - 0s 7ms/step - loss: 102.3241 - val_loss: 6.0092\n",
      "Epoch 242/500\n",
      "13/13 [==============================] - 0s 7ms/step - loss: 99.9613 - val_loss: 5.4130\n",
      "Epoch 243/500\n",
      "13/13 [==============================] - 0s 7ms/step - loss: 97.6507 - val_loss: 4.8539\n",
      "Epoch 244/500\n",
      "13/13 [==============================] - 0s 7ms/step - loss: 95.3915 - val_loss: 4.3310\n",
      "Epoch 245/500\n",
      "13/13 [==============================] - 0s 7ms/step - loss: 93.1827 - val_loss: 3.8435\n",
      "Epoch 246/500\n",
      "13/13 [==============================] - 0s 6ms/step - loss: 91.0236 - val_loss: 3.3906\n",
      "Epoch 247/500\n",
      "13/13 [==============================] - 0s 5ms/step - loss: 88.9134 - val_loss: 2.9714\n",
      "Epoch 248/500\n",
      "13/13 [==============================] - 0s 7ms/step - loss: 86.8514 - val_loss: 2.5854\n",
      "Epoch 249/500\n",
      "13/13 [==============================] - 0s 7ms/step - loss: 84.8368 - val_loss: 2.2315\n",
      "Epoch 250/500\n",
      "13/13 [==============================] - 0s 7ms/step - loss: 82.8687 - val_loss: 1.9092\n",
      "Epoch 251/500\n",
      "13/13 [==============================] - 0s 7ms/step - loss: 80.9464 - val_loss: 1.6175\n",
      "Epoch 252/500\n",
      "13/13 [==============================] - 0s 5ms/step - loss: 79.0690 - val_loss: 1.3557\n",
      "Epoch 253/500\n",
      "13/13 [==============================] - 0s 5ms/step - loss: 77.2359 - val_loss: 1.1232\n",
      "Epoch 254/500\n",
      "13/13 [==============================] - 0s 5ms/step - loss: 75.4463 - val_loss: 0.9191\n",
      "Epoch 255/500\n",
      "13/13 [==============================] - 0s 5ms/step - loss: 73.6993 - val_loss: 0.7427\n",
      "Epoch 256/500\n",
      "13/13 [==============================] - 0s 7ms/step - loss: 71.9945 - val_loss: 0.5933\n",
      "Epoch 257/500\n",
      "13/13 [==============================] - 0s 7ms/step - loss: 70.3309 - val_loss: 0.4701\n",
      "Epoch 258/500\n",
      "13/13 [==============================] - 0s 7ms/step - loss: 68.7078 - val_loss: 0.3725\n",
      "Epoch 259/500\n",
      "13/13 [==============================] - 0s 7ms/step - loss: 67.1245 - val_loss: 0.2998\n",
      "Epoch 260/500\n",
      "13/13 [==============================] - 0s 7ms/step - loss: 65.5804 - val_loss: 0.2511\n",
      "Epoch 261/500\n",
      "13/13 [==============================] - 0s 7ms/step - loss: 64.0745 - val_loss: 0.2259\n",
      "Epoch 262/500\n",
      "13/13 [==============================] - 0s 7ms/step - loss: 62.6063 - val_loss: 0.2235\n",
      "Epoch 263/500\n",
      "13/13 [==============================] - 0s 7ms/step - loss: 61.1752 - val_loss: 0.2432\n",
      "Epoch 264/500\n",
      "13/13 [==============================] - 0s 7ms/step - loss: 59.7803 - val_loss: 0.2843\n",
      "Epoch 265/500\n",
      "13/13 [==============================] - 0s 5ms/step - loss: 58.4209 - val_loss: 0.3461\n",
      "Epoch 266/500\n",
      "13/13 [==============================] - 0s 12ms/step - loss: 57.0965 - val_loss: 0.4281\n",
      "Epoch 267/500\n",
      "13/13 [==============================] - 0s 6ms/step - loss: 55.8063 - val_loss: 0.5295\n",
      "Epoch 268/500\n",
      "13/13 [==============================] - 0s 7ms/step - loss: 54.5498 - val_loss: 0.6497\n",
      "Epoch 269/500\n",
      "13/13 [==============================] - 0s 7ms/step - loss: 53.3262 - val_loss: 0.7882\n",
      "Epoch 270/500\n",
      "13/13 [==============================] - 0s 5ms/step - loss: 52.1348 - val_loss: 0.9443\n",
      "Epoch 271/500\n",
      "13/13 [==============================] - 0s 7ms/step - loss: 50.9750 - val_loss: 1.1173\n",
      "Epoch 272/500\n",
      "13/13 [==============================] - 0s 7ms/step - loss: 49.8464 - val_loss: 1.3066\n",
      "Epoch 273/500\n",
      "13/13 [==============================] - 0s 7ms/step - loss: 48.7481 - val_loss: 1.5118\n",
      "Epoch 274/500\n",
      "13/13 [==============================] - 0s 7ms/step - loss: 47.6796 - val_loss: 1.7322\n",
      "Epoch 275/500\n",
      "13/13 [==============================] - 0s 6ms/step - loss: 46.6402 - val_loss: 1.9671\n",
      "Epoch 276/500\n",
      "13/13 [==============================] - 0s 7ms/step - loss: 45.6293 - val_loss: 2.2162\n",
      "Epoch 277/500\n",
      "13/13 [==============================] - 0s 7ms/step - loss: 44.6463 - val_loss: 2.4788\n",
      "Epoch 278/500\n",
      "13/13 [==============================] - 0s 7ms/step - loss: 43.6907 - val_loss: 2.7542\n",
      "Epoch 279/500\n",
      "13/13 [==============================] - 0s 5ms/step - loss: 42.7619 - val_loss: 3.0421\n",
      "Epoch 280/500\n",
      "13/13 [==============================] - 0s 5ms/step - loss: 41.8592 - val_loss: 3.3418\n",
      "Epoch 281/500\n",
      "13/13 [==============================] - 0s 5ms/step - loss: 40.9822 - val_loss: 3.6529\n",
      "Epoch 282/500\n",
      "13/13 [==============================] - 0s 6ms/step - loss: 40.1302 - val_loss: 3.9747\n",
      "Epoch 283/500\n",
      "13/13 [==============================] - 0s 7ms/step - loss: 39.3028 - val_loss: 4.3070\n",
      "Epoch 284/500\n",
      "13/13 [==============================] - 0s 6ms/step - loss: 38.4992 - val_loss: 4.6490\n",
      "Epoch 285/500\n",
      "13/13 [==============================] - 0s 5ms/step - loss: 37.7192 - val_loss: 5.0004\n",
      "Epoch 286/500\n",
      "13/13 [==============================] - 0s 5ms/step - loss: 36.9619 - val_loss: 5.3606\n",
      "Epoch 287/500\n",
      "13/13 [==============================] - 0s 7ms/step - loss: 36.2270 - val_loss: 5.7292\n",
      "Epoch 288/500\n",
      "13/13 [==============================] - 0s 7ms/step - loss: 35.5138 - val_loss: 6.1058\n",
      "Epoch 289/500\n",
      "13/13 [==============================] - 0s 7ms/step - loss: 34.8220 - val_loss: 6.4898\n",
      "Epoch 290/500\n",
      "13/13 [==============================] - 0s 7ms/step - loss: 34.1511 - val_loss: 6.8809\n",
      "Epoch 291/500\n",
      "13/13 [==============================] - 0s 5ms/step - loss: 33.5005 - val_loss: 7.2784\n",
      "Epoch 292/500\n",
      "13/13 [==============================] - 0s 5ms/step - loss: 32.8697 - val_loss: 7.6822\n",
      "Epoch 293/500\n",
      "13/13 [==============================] - 0s 5ms/step - loss: 32.2583 - val_loss: 8.0917\n",
      "Epoch 294/500\n",
      "13/13 [==============================] - 0s 5ms/step - loss: 31.6658 - val_loss: 8.5066\n",
      "Epoch 295/500\n",
      "13/13 [==============================] - 0s 11ms/step - loss: 31.0917 - val_loss: 8.9264\n",
      "Epoch 296/500\n",
      "13/13 [==============================] - 0s 6ms/step - loss: 30.5355 - val_loss: 9.3508\n",
      "Epoch 297/500\n",
      "13/13 [==============================] - 0s 8ms/step - loss: 29.9969 - val_loss: 9.7791\n",
      "Epoch 298/500\n",
      "13/13 [==============================] - 0s 8ms/step - loss: 29.4754 - val_loss: 10.2114\n",
      "Epoch 299/500\n",
      "13/13 [==============================] - 0s 7ms/step - loss: 28.9704 - val_loss: 10.6471\n",
      "Epoch 300/500\n",
      "13/13 [==============================] - 0s 7ms/step - loss: 28.4818 - val_loss: 11.0858\n",
      "Epoch 301/500\n",
      "13/13 [==============================] - 0s 6ms/step - loss: 28.0088 - val_loss: 11.5273\n",
      "Epoch 302/500\n",
      "13/13 [==============================] - 0s 5ms/step - loss: 27.5512 - val_loss: 11.9711\n",
      "Epoch 303/500\n",
      "13/13 [==============================] - 0s 7ms/step - loss: 27.1086 - val_loss: 12.4169\n",
      "Epoch 304/500\n",
      "13/13 [==============================] - 0s 5ms/step - loss: 26.6807 - val_loss: 12.8644\n",
      "Epoch 305/500\n",
      "13/13 [==============================] - 0s 7ms/step - loss: 26.2669 - val_loss: 13.3135\n",
      "Epoch 306/500\n",
      "13/13 [==============================] - 0s 7ms/step - loss: 25.8668 - val_loss: 13.7634\n",
      "Epoch 307/500\n",
      "13/13 [==============================] - 0s 7ms/step - loss: 25.4803 - val_loss: 14.2143\n",
      "Epoch 308/500\n",
      "13/13 [==============================] - 0s 7ms/step - loss: 25.1067 - val_loss: 14.6658\n",
      "Epoch 309/500\n",
      "13/13 [==============================] - 0s 7ms/step - loss: 24.7458 - val_loss: 15.1173\n",
      "Epoch 310/500\n",
      "13/13 [==============================] - 0s 7ms/step - loss: 24.3973 - val_loss: 15.5688\n",
      "Epoch 311/500\n",
      "13/13 [==============================] - 0s 7ms/step - loss: 24.0608 - val_loss: 16.0201\n",
      "Epoch 312/500\n",
      "13/13 [==============================] - 0s 7ms/step - loss: 23.7359 - val_loss: 16.4708\n",
      "Epoch 313/500\n",
      "13/13 [==============================] - 0s 7ms/step - loss: 23.4223 - val_loss: 16.9208\n",
      "Epoch 314/500\n",
      "13/13 [==============================] - 0s 7ms/step - loss: 23.1197 - val_loss: 17.3697\n",
      "Epoch 315/500\n",
      "13/13 [==============================] - 0s 5ms/step - loss: 22.8277 - val_loss: 17.8174\n",
      "Epoch 316/500\n",
      "13/13 [==============================] - 0s 5ms/step - loss: 22.5461 - val_loss: 18.2634\n",
      "Epoch 317/500\n",
      "13/13 [==============================] - 0s 5ms/step - loss: 22.2745 - val_loss: 18.7078\n",
      "Epoch 318/500\n",
      "13/13 [==============================] - 0s 7ms/step - loss: 22.0127 - val_loss: 19.1501\n",
      "Epoch 319/500\n",
      "13/13 [==============================] - 0s 7ms/step - loss: 21.7604 - val_loss: 19.5905\n",
      "Epoch 320/500\n",
      "13/13 [==============================] - 0s 11ms/step - loss: 21.5171 - val_loss: 20.0285\n",
      "Epoch 321/500\n",
      "13/13 [==============================] - 0s 10ms/step - loss: 21.2828 - val_loss: 20.4640\n",
      "Epoch 322/500\n",
      "13/13 [==============================] - 0s 7ms/step - loss: 21.0571 - val_loss: 20.8967\n",
      "Epoch 323/500\n",
      "13/13 [==============================] - 0s 7ms/step - loss: 20.8397 - val_loss: 21.3267\n",
      "Epoch 324/500\n",
      "13/13 [==============================] - 0s 7ms/step - loss: 20.6304 - val_loss: 21.7537\n",
      "Epoch 325/500\n",
      "13/13 [==============================] - 0s 7ms/step - loss: 20.4288 - val_loss: 22.1775\n",
      "Epoch 326/500\n",
      "13/13 [==============================] - 0s 5ms/step - loss: 20.2349 - val_loss: 22.5979\n",
      "Epoch 327/500\n",
      "13/13 [==============================] - 0s 5ms/step - loss: 20.0483 - val_loss: 23.0149\n",
      "Epoch 328/500\n",
      "13/13 [==============================] - 0s 7ms/step - loss: 19.8688 - val_loss: 23.4283\n",
      "Epoch 329/500\n",
      "13/13 [==============================] - 0s 7ms/step - loss: 19.6961 - val_loss: 23.8381\n",
      "Epoch 330/500\n",
      "13/13 [==============================] - 0s 7ms/step - loss: 19.5300 - val_loss: 24.2437\n",
      "Epoch 331/500\n",
      "13/13 [==============================] - 0s 7ms/step - loss: 19.3704 - val_loss: 24.6456\n",
      "Epoch 332/500\n",
      "13/13 [==============================] - 0s 7ms/step - loss: 19.2169 - val_loss: 25.0433\n",
      "Epoch 333/500\n",
      "13/13 [==============================] - 0s 7ms/step - loss: 19.0695 - val_loss: 25.4369\n",
      "Epoch 334/500\n",
      "13/13 [==============================] - 0s 9ms/step - loss: 18.9278 - val_loss: 25.8263\n",
      "Epoch 335/500\n",
      "13/13 [==============================] - 0s 8ms/step - loss: 18.7917 - val_loss: 26.2113\n",
      "Epoch 336/500\n",
      "13/13 [==============================] - 0s 7ms/step - loss: 18.6610 - val_loss: 26.5919\n",
      "Epoch 337/500\n",
      "13/13 [==============================] - 0s 5ms/step - loss: 18.5355 - val_loss: 26.9677\n",
      "Epoch 338/500\n",
      "13/13 [==============================] - 0s 5ms/step - loss: 18.4151 - val_loss: 27.3391\n",
      "Epoch 339/500\n",
      "13/13 [==============================] - 0s 5ms/step - loss: 18.2994 - val_loss: 27.7057\n",
      "Epoch 340/500\n",
      "13/13 [==============================] - 0s 7ms/step - loss: 18.1885 - val_loss: 28.0676\n",
      "Epoch 341/500\n",
      "13/13 [==============================] - 0s 7ms/step - loss: 18.0821 - val_loss: 28.4248\n",
      "Epoch 342/500\n",
      "13/13 [==============================] - 0s 7ms/step - loss: 17.9800 - val_loss: 28.7771\n",
      "Epoch 343/500\n",
      "13/13 [==============================] - 0s 13ms/step - loss: 17.8821 - val_loss: 29.1243\n",
      "Epoch 344/500\n",
      "13/13 [==============================] - 0s 7ms/step - loss: 17.7882 - val_loss: 29.4668\n",
      "Epoch 345/500\n",
      "13/13 [==============================] - 0s 7ms/step - loss: 17.6982 - val_loss: 29.8044\n",
      "Epoch 346/500\n",
      "13/13 [==============================] - 0s 7ms/step - loss: 17.6119 - val_loss: 30.1369\n",
      "Epoch 347/500\n",
      "13/13 [==============================] - 0s 6ms/step - loss: 17.5293 - val_loss: 30.4644\n",
      "Epoch 348/500\n",
      "13/13 [==============================] - 0s 6ms/step - loss: 17.4501 - val_loss: 30.7867\n",
      "Epoch 349/500\n",
      "13/13 [==============================] - 0s 7ms/step - loss: 17.3743 - val_loss: 31.1041\n",
      "Epoch 350/500\n",
      "13/13 [==============================] - 0s 7ms/step - loss: 17.3016 - val_loss: 31.4161\n",
      "Epoch 351/500\n",
      "13/13 [==============================] - 0s 7ms/step - loss: 17.2321 - val_loss: 31.7231\n",
      "Epoch 352/500\n",
      "13/13 [==============================] - 0s 7ms/step - loss: 17.1655 - val_loss: 32.0249\n",
      "Epoch 353/500\n",
      "13/13 [==============================] - 0s 8ms/step - loss: 17.1018 - val_loss: 32.3220\n",
      "Epoch 354/500\n",
      "13/13 [==============================] - 0s 7ms/step - loss: 17.0408 - val_loss: 32.6137\n",
      "Epoch 355/500\n",
      "13/13 [==============================] - 0s 7ms/step - loss: 16.9825 - val_loss: 32.9003\n",
      "Epoch 356/500\n",
      "13/13 [==============================] - 0s 7ms/step - loss: 16.9266 - val_loss: 33.1818\n",
      "Epoch 357/500\n",
      "13/13 [==============================] - 0s 8ms/step - loss: 16.8732 - val_loss: 33.4581\n",
      "Epoch 358/500\n",
      "13/13 [==============================] - 0s 8ms/step - loss: 16.8222 - val_loss: 33.7294\n",
      "Epoch 359/500\n",
      "13/13 [==============================] - 0s 7ms/step - loss: 16.7734 - val_loss: 33.9956\n",
      "Epoch 360/500\n",
      "13/13 [==============================] - 0s 7ms/step - loss: 16.7267 - val_loss: 34.2567\n",
      "Epoch 361/500\n",
      "13/13 [==============================] - 0s 8ms/step - loss: 16.6821 - val_loss: 34.5130\n",
      "Epoch 362/500\n",
      "13/13 [==============================] - 0s 7ms/step - loss: 16.6395 - val_loss: 34.7641\n",
      "Epoch 363/500\n",
      "13/13 [==============================] - 0s 7ms/step - loss: 16.5987 - val_loss: 35.0104\n",
      "Epoch 364/500\n",
      "13/13 [==============================] - 0s 12ms/step - loss: 16.5598 - val_loss: 35.2517\n",
      "Epoch 365/500\n",
      "13/13 [==============================] - 0s 9ms/step - loss: 16.5226 - val_loss: 35.4879\n",
      "Epoch 366/500\n",
      "13/13 [==============================] - 0s 7ms/step - loss: 16.4871 - val_loss: 35.7193\n",
      "Epoch 367/500\n",
      "13/13 [==============================] - 0s 8ms/step - loss: 16.4532 - val_loss: 35.9459\n",
      "Epoch 368/500\n",
      "13/13 [==============================] - 0s 7ms/step - loss: 16.4208 - val_loss: 36.1675\n",
      "Epoch 369/500\n",
      "13/13 [==============================] - 0s 7ms/step - loss: 16.3899 - val_loss: 36.3847\n",
      "Epoch 370/500\n",
      "13/13 [==============================] - 0s 7ms/step - loss: 16.3603 - val_loss: 36.5970\n",
      "Epoch 371/500\n",
      "13/13 [==============================] - 0s 7ms/step - loss: 16.3322 - val_loss: 36.8046\n",
      "Epoch 372/500\n",
      "13/13 [==============================] - 0s 7ms/step - loss: 16.3053 - val_loss: 37.0076\n",
      "Epoch 373/500\n",
      "13/13 [==============================] - 0s 7ms/step - loss: 16.2796 - val_loss: 37.2061\n",
      "Epoch 374/500\n",
      "13/13 [==============================] - 0s 7ms/step - loss: 16.2551 - val_loss: 37.4001\n",
      "Epoch 375/500\n",
      "13/13 [==============================] - 0s 7ms/step - loss: 16.2318 - val_loss: 37.5897\n",
      "Epoch 376/500\n",
      "13/13 [==============================] - 0s 7ms/step - loss: 16.2095 - val_loss: 37.7747\n",
      "Epoch 377/500\n",
      "13/13 [==============================] - 0s 8ms/step - loss: 16.1882 - val_loss: 37.9555\n",
      "Epoch 378/500\n",
      "13/13 [==============================] - 0s 10ms/step - loss: 16.1679 - val_loss: 38.1318\n",
      "Epoch 379/500\n",
      "13/13 [==============================] - 0s 8ms/step - loss: 16.1486 - val_loss: 38.3041\n",
      "Epoch 380/500\n",
      "13/13 [==============================] - 0s 8ms/step - loss: 16.1301 - val_loss: 38.4720\n",
      "Epoch 381/500\n",
      "13/13 [==============================] - 0s 8ms/step - loss: 16.1125 - val_loss: 38.6356\n",
      "Epoch 382/500\n",
      "13/13 [==============================] - 0s 9ms/step - loss: 16.0957 - val_loss: 38.7954\n",
      "Epoch 383/500\n",
      "13/13 [==============================] - 0s 10ms/step - loss: 16.0797 - val_loss: 38.9512\n",
      "Epoch 384/500\n",
      "13/13 [==============================] - 0s 10ms/step - loss: 16.0644 - val_loss: 39.1027\n",
      "Epoch 385/500\n",
      "13/13 [==============================] - 0s 19ms/step - loss: 16.0500 - val_loss: 39.2508\n",
      "Epoch 386/500\n",
      "13/13 [==============================] - 0s 14ms/step - loss: 16.0361 - val_loss: 39.3950\n",
      "Epoch 387/500\n",
      "13/13 [==============================] - 0s 11ms/step - loss: 16.0228 - val_loss: 39.5353\n",
      "Epoch 388/500\n",
      "13/13 [==============================] - 0s 12ms/step - loss: 16.0103 - val_loss: 39.6721\n",
      "Epoch 389/500\n",
      "13/13 [==============================] - 0s 11ms/step - loss: 15.9982 - val_loss: 39.8050\n",
      "Epoch 390/500\n",
      "13/13 [==============================] - 0s 11ms/step - loss: 15.9868 - val_loss: 39.9345\n",
      "Epoch 391/500\n",
      "13/13 [==============================] - 0s 10ms/step - loss: 15.9758 - val_loss: 40.0601\n",
      "Epoch 392/500\n",
      "13/13 [==============================] - 0s 10ms/step - loss: 15.9655 - val_loss: 40.1826\n",
      "Epoch 393/500\n",
      "13/13 [==============================] - 0s 12ms/step - loss: 15.9556 - val_loss: 40.3017\n",
      "Epoch 394/500\n",
      "13/13 [==============================] - 0s 9ms/step - loss: 15.9461 - val_loss: 40.4174\n",
      "Epoch 395/500\n",
      "13/13 [==============================] - 0s 13ms/step - loss: 15.9371 - val_loss: 40.5299\n",
      "Epoch 396/500\n",
      "13/13 [==============================] - 0s 16ms/step - loss: 15.9285 - val_loss: 40.6389\n",
      "Epoch 397/500\n",
      "13/13 [==============================] - 0s 11ms/step - loss: 15.9204 - val_loss: 40.7453\n",
      "Epoch 398/500\n",
      "13/13 [==============================] - 0s 10ms/step - loss: 15.9125 - val_loss: 40.8481\n",
      "Epoch 399/500\n",
      "13/13 [==============================] - 0s 8ms/step - loss: 15.9051 - val_loss: 40.9481\n",
      "Epoch 400/500\n",
      "13/13 [==============================] - 0s 8ms/step - loss: 15.8981 - val_loss: 41.0452\n",
      "Epoch 401/500\n",
      "13/13 [==============================] - 0s 7ms/step - loss: 15.8913 - val_loss: 41.1398\n",
      "Epoch 402/500\n",
      "13/13 [==============================] - 0s 7ms/step - loss: 15.8849 - val_loss: 41.2309\n",
      "Epoch 403/500\n",
      "13/13 [==============================] - 0s 8ms/step - loss: 15.8788 - val_loss: 41.3195\n",
      "Epoch 404/500\n",
      "13/13 [==============================] - 0s 7ms/step - loss: 15.8730 - val_loss: 41.4058\n",
      "Epoch 405/500\n",
      "13/13 [==============================] - 0s 7ms/step - loss: 15.8674 - val_loss: 41.4890\n",
      "Epoch 406/500\n",
      "13/13 [==============================] - 0s 9ms/step - loss: 15.8621 - val_loss: 41.5699\n",
      "Epoch 407/500\n",
      "13/13 [==============================] - 0s 8ms/step - loss: 15.8570 - val_loss: 41.6479\n",
      "Epoch 408/500\n",
      "13/13 [==============================] - 0s 8ms/step - loss: 15.8523 - val_loss: 41.7237\n",
      "Epoch 409/500\n",
      "13/13 [==============================] - 0s 9ms/step - loss: 15.8476 - val_loss: 41.7968\n",
      "Epoch 410/500\n",
      "13/13 [==============================] - 0s 10ms/step - loss: 15.8433 - val_loss: 41.8681\n",
      "Epoch 411/500\n",
      "13/13 [==============================] - 0s 7ms/step - loss: 15.8391 - val_loss: 41.9367\n",
      "Epoch 412/500\n",
      "13/13 [==============================] - 0s 7ms/step - loss: 15.8351 - val_loss: 42.0032\n",
      "Epoch 413/500\n",
      "13/13 [==============================] - 0s 7ms/step - loss: 15.8314 - val_loss: 42.0677\n",
      "Epoch 414/500\n",
      "13/13 [==============================] - 0s 7ms/step - loss: 15.8278 - val_loss: 42.1296\n",
      "Epoch 415/500\n",
      "13/13 [==============================] - 0s 9ms/step - loss: 15.8243 - val_loss: 42.1902\n",
      "Epoch 416/500\n",
      "13/13 [==============================] - 0s 8ms/step - loss: 15.8211 - val_loss: 42.2481\n",
      "Epoch 417/500\n",
      "13/13 [==============================] - 0s 8ms/step - loss: 15.8180 - val_loss: 42.3043\n",
      "Epoch 418/500\n",
      "13/13 [==============================] - 0s 13ms/step - loss: 15.8150 - val_loss: 42.3585\n",
      "Epoch 419/500\n",
      "13/13 [==============================] - 0s 8ms/step - loss: 15.8122 - val_loss: 42.4108\n",
      "Epoch 420/500\n",
      "13/13 [==============================] - 0s 7ms/step - loss: 15.8095 - val_loss: 42.4615\n",
      "Epoch 421/500\n",
      "13/13 [==============================] - 0s 7ms/step - loss: 15.8070 - val_loss: 42.5105\n",
      "Epoch 422/500\n",
      "13/13 [==============================] - 0s 8ms/step - loss: 15.8045 - val_loss: 42.5574\n",
      "Epoch 423/500\n",
      "13/13 [==============================] - 0s 9ms/step - loss: 15.8022 - val_loss: 42.6029\n",
      "Epoch 424/500\n",
      "13/13 [==============================] - 0s 7ms/step - loss: 15.8000 - val_loss: 42.6467\n",
      "Epoch 425/500\n",
      "13/13 [==============================] - 0s 5ms/step - loss: 15.7979 - val_loss: 42.6891\n",
      "Epoch 426/500\n",
      "13/13 [==============================] - 0s 7ms/step - loss: 15.7959 - val_loss: 42.7298\n",
      "Epoch 427/500\n",
      "13/13 [==============================] - 0s 7ms/step - loss: 15.7940 - val_loss: 42.7690\n",
      "Epoch 428/500\n",
      "13/13 [==============================] - 0s 5ms/step - loss: 15.7922 - val_loss: 42.8070\n",
      "Epoch 429/500\n",
      "13/13 [==============================] - 0s 6ms/step - loss: 15.7905 - val_loss: 42.8432\n",
      "Epoch 430/500\n",
      "13/13 [==============================] - 0s 7ms/step - loss: 15.7889 - val_loss: 42.8783\n",
      "Epoch 431/500\n",
      "13/13 [==============================] - 0s 7ms/step - loss: 15.7873 - val_loss: 42.9120\n",
      "Epoch 432/500\n",
      "13/13 [==============================] - 0s 5ms/step - loss: 15.7858 - val_loss: 42.9447\n",
      "Epoch 433/500\n",
      "13/13 [==============================] - 0s 5ms/step - loss: 15.7844 - val_loss: 42.9761\n",
      "Epoch 434/500\n",
      "13/13 [==============================] - 0s 6ms/step - loss: 15.7831 - val_loss: 43.0062\n",
      "Epoch 435/500\n",
      "13/13 [==============================] - 0s 7ms/step - loss: 15.7818 - val_loss: 43.0351\n",
      "Epoch 436/500\n",
      "13/13 [==============================] - 0s 9ms/step - loss: 15.7806 - val_loss: 43.0627\n",
      "Epoch 437/500\n",
      "13/13 [==============================] - 0s 5ms/step - loss: 15.7795 - val_loss: 43.0895\n",
      "Epoch 438/500\n",
      "13/13 [==============================] - 0s 7ms/step - loss: 15.7783 - val_loss: 43.1154\n",
      "Epoch 439/500\n",
      "13/13 [==============================] - 0s 7ms/step - loss: 15.7773 - val_loss: 43.1400\n",
      "Epoch 440/500\n",
      "13/13 [==============================] - 0s 5ms/step - loss: 15.7764 - val_loss: 43.1637\n",
      "Epoch 441/500\n",
      "13/13 [==============================] - 0s 6ms/step - loss: 15.7754 - val_loss: 43.1864\n",
      "Epoch 442/500\n",
      "13/13 [==============================] - 0s 7ms/step - loss: 15.7746 - val_loss: 43.2083\n",
      "Epoch 443/500\n",
      "13/13 [==============================] - 0s 7ms/step - loss: 15.7737 - val_loss: 43.2294\n",
      "Epoch 444/500\n",
      "13/13 [==============================] - 0s 6ms/step - loss: 15.7729 - val_loss: 43.2492\n",
      "Epoch 445/500\n",
      "13/13 [==============================] - 0s 7ms/step - loss: 15.7722 - val_loss: 43.2685\n",
      "Epoch 446/500\n",
      "13/13 [==============================] - 0s 5ms/step - loss: 15.7715 - val_loss: 43.2870\n",
      "Epoch 447/500\n",
      "13/13 [==============================] - 0s 5ms/step - loss: 15.7708 - val_loss: 43.3048\n",
      "Epoch 448/500\n",
      "13/13 [==============================] - 0s 6ms/step - loss: 15.7702 - val_loss: 43.3218\n",
      "Epoch 449/500\n",
      "13/13 [==============================] - 0s 5ms/step - loss: 15.7697 - val_loss: 43.3379\n",
      "Epoch 450/500\n",
      "13/13 [==============================] - 0s 5ms/step - loss: 15.7691 - val_loss: 43.3536\n",
      "Epoch 451/500\n",
      "13/13 [==============================] - 0s 6ms/step - loss: 15.7685 - val_loss: 43.3683\n",
      "Epoch 452/500\n",
      "13/13 [==============================] - 0s 6ms/step - loss: 15.7681 - val_loss: 43.3825\n",
      "Epoch 453/500\n",
      "13/13 [==============================] - 0s 7ms/step - loss: 15.7676 - val_loss: 43.3961\n",
      "Epoch 454/500\n",
      "13/13 [==============================] - 0s 6ms/step - loss: 15.7672 - val_loss: 43.4092\n",
      "Epoch 455/500\n",
      "13/13 [==============================] - 0s 7ms/step - loss: 15.7668 - val_loss: 43.4218\n",
      "Epoch 456/500\n",
      "13/13 [==============================] - 0s 6ms/step - loss: 15.7664 - val_loss: 43.4338\n",
      "Epoch 457/500\n",
      "13/13 [==============================] - 0s 7ms/step - loss: 15.7660 - val_loss: 43.4452\n",
      "Epoch 458/500\n",
      "13/13 [==============================] - 0s 6ms/step - loss: 15.7657 - val_loss: 43.4562\n",
      "Epoch 459/500\n",
      "13/13 [==============================] - 0s 7ms/step - loss: 15.7654 - val_loss: 43.4664\n",
      "Epoch 460/500\n",
      "13/13 [==============================] - 0s 7ms/step - loss: 15.7651 - val_loss: 43.4764\n",
      "Epoch 461/500\n",
      "13/13 [==============================] - 0s 14ms/step - loss: 15.7648 - val_loss: 43.4856\n",
      "Epoch 462/500\n",
      "13/13 [==============================] - 0s 9ms/step - loss: 15.7646 - val_loss: 43.4946\n",
      "Epoch 463/500\n",
      "13/13 [==============================] - 0s 9ms/step - loss: 15.7644 - val_loss: 43.5033\n",
      "Epoch 464/500\n",
      "13/13 [==============================] - 0s 9ms/step - loss: 15.7642 - val_loss: 43.5115\n",
      "Epoch 465/500\n",
      "13/13 [==============================] - 0s 9ms/step - loss: 15.7640 - val_loss: 43.5193\n",
      "Epoch 466/500\n",
      "13/13 [==============================] - 0s 11ms/step - loss: 15.7639 - val_loss: 43.5267\n",
      "Epoch 467/500\n",
      "13/13 [==============================] - 0s 20ms/step - loss: 15.7637 - val_loss: 43.5337\n",
      "Epoch 468/500\n",
      "13/13 [==============================] - 0s 10ms/step - loss: 15.7636 - val_loss: 43.5405\n",
      "Epoch 469/500\n",
      "13/13 [==============================] - 0s 10ms/step - loss: 15.7634 - val_loss: 43.5470\n",
      "Epoch 470/500\n",
      "13/13 [==============================] - 0s 9ms/step - loss: 15.7633 - val_loss: 43.5530\n",
      "Epoch 471/500\n",
      "13/13 [==============================] - 0s 10ms/step - loss: 15.7632 - val_loss: 43.5587\n",
      "Epoch 472/500\n",
      "13/13 [==============================] - 0s 12ms/step - loss: 15.7632 - val_loss: 43.5641\n",
      "Epoch 473/500\n",
      "13/13 [==============================] - 0s 11ms/step - loss: 15.7631 - val_loss: 43.5694\n",
      "Epoch 474/500\n",
      "13/13 [==============================] - 0s 12ms/step - loss: 15.7630 - val_loss: 43.5745\n",
      "Epoch 475/500\n",
      "13/13 [==============================] - 0s 10ms/step - loss: 15.7630 - val_loss: 43.5792\n",
      "Epoch 476/500\n",
      "13/13 [==============================] - 0s 9ms/step - loss: 15.7629 - val_loss: 43.5837\n",
      "Epoch 477/500\n",
      "13/13 [==============================] - 0s 8ms/step - loss: 15.7629 - val_loss: 43.5878\n",
      "Epoch 478/500\n",
      "13/13 [==============================] - 0s 9ms/step - loss: 15.7629 - val_loss: 43.5920\n",
      "Epoch 479/500\n",
      "13/13 [==============================] - 0s 6ms/step - loss: 15.7629 - val_loss: 43.5956\n",
      "Epoch 480/500\n",
      "13/13 [==============================] - 0s 7ms/step - loss: 15.7629 - val_loss: 43.5993\n",
      "Epoch 481/500\n",
      "13/13 [==============================] - 0s 10ms/step - loss: 15.7629 - val_loss: 43.6028\n",
      "Epoch 482/500\n",
      "13/13 [==============================] - 0s 12ms/step - loss: 15.7629 - val_loss: 43.6059\n",
      "Epoch 483/500\n",
      "13/13 [==============================] - 0s 9ms/step - loss: 15.7629 - val_loss: 43.6089\n",
      "Epoch 484/500\n",
      "13/13 [==============================] - 0s 19ms/step - loss: 15.7630 - val_loss: 43.6118\n",
      "Epoch 485/500\n",
      "13/13 [==============================] - 0s 9ms/step - loss: 15.7630 - val_loss: 43.6145\n",
      "Epoch 486/500\n",
      "13/13 [==============================] - 0s 10ms/step - loss: 15.7631 - val_loss: 43.6171\n",
      "Epoch 487/500\n",
      "13/13 [==============================] - 0s 9ms/step - loss: 15.7631 - val_loss: 43.6194\n",
      "Epoch 488/500\n",
      "13/13 [==============================] - 0s 6ms/step - loss: 15.7631 - val_loss: 43.6217\n",
      "Epoch 489/500\n",
      "13/13 [==============================] - 0s 8ms/step - loss: 15.7632 - val_loss: 43.6235\n",
      "Epoch 490/500\n",
      "13/13 [==============================] - 0s 8ms/step - loss: 15.7633 - val_loss: 43.6255\n",
      "Epoch 491/500\n",
      "13/13 [==============================] - 0s 9ms/step - loss: 15.7633 - val_loss: 43.6272\n",
      "Epoch 492/500\n",
      "13/13 [==============================] - 0s 6ms/step - loss: 15.7634 - val_loss: 43.6287\n",
      "Epoch 493/500\n",
      "13/13 [==============================] - 0s 7ms/step - loss: 15.7636 - val_loss: 43.6307\n",
      "Epoch 494/500\n",
      "13/13 [==============================] - 0s 9ms/step - loss: 15.7636 - val_loss: 43.6320\n",
      "Epoch 495/500\n",
      "13/13 [==============================] - 0s 8ms/step - loss: 15.7637 - val_loss: 43.6335\n",
      "Epoch 496/500\n",
      "13/13 [==============================] - 0s 7ms/step - loss: 15.7639 - val_loss: 43.6350\n",
      "Epoch 497/500\n",
      "13/13 [==============================] - 0s 7ms/step - loss: 15.7639 - val_loss: 43.6363\n",
      "Epoch 498/500\n",
      "13/13 [==============================] - 0s 7ms/step - loss: 15.7640 - val_loss: 43.6375\n",
      "Epoch 499/500\n",
      "13/13 [==============================] - 0s 7ms/step - loss: 15.7641 - val_loss: 43.6386\n",
      "Epoch 500/500\n",
      "13/13 [==============================] - 0s 7ms/step - loss: 15.7642 - val_loss: 43.6396\n"
     ]
    }
   ],
   "source": [
    "C0 = tf.Variable(86.6465, name=\"C0\", trainable=True, dtype=tf.float32)\n",
    "K0 = tf.Variable(-0.0029, name=\"K0\", trainable=True, dtype=tf.float32)\n",
    "K1 = tf.Variable(-0.0003, name=\"K1\", trainable=True, dtype=tf.float32)\n",
    "a = tf.Variable(0.0000, name=\"a\", trainable=True, dtype=tf.float32)\n",
    "b = tf.Variable(0.0168, name=\"b\", trainable=True, dtype=tf.float32)\n",
    "c = tf.Variable(2.3581, name=\"c\", trainable=True, dtype=tf.float32)\n",
    "\n",
    "splitr = 0.8\n",
    "\n",
    "\n",
    "def loss_fn(y_true, y_pred):\n",
    "    squared_difference = tf.square(y_true[:, 0] - y_pred[:, 0])\n",
    "    #squared_difference2 = tf.square(y_true[:, 2]-y_pred[:, 2])\n",
    "    #squared_difference1 = tf.square(y_true[:, 1]-y_pred[:, 1])\n",
    "    epsilon = 0.1\n",
    "    squared_difference3 = tf.square(\n",
    "        y_pred[:, 1] - (\n",
    "            y_pred[:, 0] * (\n",
    "                K0 - K1 * (\n",
    "                    9 * a * tf.math.log((y_pred[:, 0] + epsilon) / C0) / (K0 - K1 * c)**2 +\n",
    "                    4 * b * tf.math.log((y_pred[:, 0] + epsilon) / C0) / (K0 - K1 * c) + c\n",
    "                )\n",
    "            )\n",
    "        )\n",
    "    )\n",
    "    return tf.reduce_mean(squared_difference, axis=-1) + 0.2*tf.reduce_mean(squared_difference3, axis=-1)\n",
    "model = Sequential()\n",
    "model.add(LSTM(100, input_shape=(trainX.shape[1], trainX.shape[2])))\n",
    "model.add(Dense(60))\n",
    "model.compile(loss=loss_fn, optimizer='adam')\n",
    "history = model.fit(trainX[:int(splitr*trainX.shape[0])], trainy[:int(splitr*trainX.shape[0])], epochs=500, batch_size=64, validation_data=(trainX[int(splitr*trainX.shape[0]):trainX.shape[0]], trainy[int(splitr*trainX.shape[0]):trainX.shape[0]]), shuffle=False)"
   ]
  },
  {
   "cell_type": "code",
   "execution_count": 19,
   "metadata": {
    "colab": {
     "base_uri": "https://localhost:8080/"
    },
    "id": "yJL101rPyuoT",
    "outputId": "239ff2b1-c186-423a-d316-939dfdd7c793"
   },
   "outputs": [
    {
     "name": "stdout",
     "output_type": "stream",
     "text": [
      "1/1 [==============================] - 0s 409ms/step\n"
     ]
    }
   ],
   "source": [
    "forecast_without_mc = forecastX\n",
    "yhat_without_mc = model.predict(forecast_without_mc) # Step Ahead Prediction\n",
    "forecast_without_mc = forecast_without_mc.reshape((forecast_without_mc.shape[0], forecast_without_mc.shape[2])) # Historical Input"
   ]
  },
  {
   "cell_type": "code",
   "execution_count": 20,
   "metadata": {
    "colab": {
     "base_uri": "https://localhost:8080/"
    },
    "id": "g9dQELcJ8wbp",
    "outputId": "4dc7671b-b1a8-48d5-8744-a86f98446109"
   },
   "outputs": [
    {
     "data": {
      "text/plain": [
       "(1, 1, 251)"
      ]
     },
     "execution_count": 20,
     "metadata": {},
     "output_type": "execute_result"
    }
   ],
   "source": [
    "forecastX.shape"
   ]
  },
  {
   "cell_type": "code",
   "execution_count": 21,
   "metadata": {
    "colab": {
     "base_uri": "https://localhost:8080/"
    },
    "id": "IS2kyIKG1Kbr",
    "outputId": "f31b3485-8e26-452f-9298-ea8bf7e80ad1"
   },
   "outputs": [
    {
     "data": {
      "text/plain": [
       "(1, 251)"
      ]
     },
     "execution_count": 21,
     "metadata": {},
     "output_type": "execute_result"
    }
   ],
   "source": [
    "forecast_without_mc.shape"
   ]
  },
  {
   "cell_type": "code",
   "execution_count": 22,
   "metadata": {
    "id": "0u6VIzaDyuoT"
   },
   "outputs": [],
   "source": [
    "inv_yhat_without_mc = np.concatenate((forecast_without_mc, yhat_without_mc), axis=1) # Concatenation of predicted values with Historical Data\n",
    "#inv_yhat_without_mc = scaler.inverse_transform(inv_yhat_without_mc) # Transform labels back to original encoding"
   ]
  },
  {
   "cell_type": "code",
   "execution_count": 23,
   "metadata": {
    "colab": {
     "base_uri": "https://localhost:8080/"
    },
    "id": "EUEcw0LX07oU",
    "outputId": "cfc32397-9c37-4b43-d087-584bb31c3dcc"
   },
   "outputs": [
    {
     "data": {
      "text/plain": [
       "(1, 311)"
      ]
     },
     "execution_count": 23,
     "metadata": {},
     "output_type": "execute_result"
    }
   ],
   "source": [
    "inv_yhat_without_mc.shape"
   ]
  },
  {
   "cell_type": "code",
   "execution_count": 24,
   "metadata": {
    "id": "31OWVbSh_305"
   },
   "outputs": [],
   "source": [
    "fforecast = inv_yhat_without_mc[:,-300:]"
   ]
  },
  {
   "cell_type": "code",
   "execution_count": 25,
   "metadata": {},
   "outputs": [
    {
     "data": {
      "text/plain": [
       "(1, 300)"
      ]
     },
     "execution_count": 25,
     "metadata": {},
     "output_type": "execute_result"
    }
   ],
   "source": [
    "fforecast.shape"
   ]
  },
  {
   "cell_type": "code",
   "execution_count": 26,
   "metadata": {
    "id": "BlpGH2FOAiRF"
   },
   "outputs": [],
   "source": [
    "final_forecast = fforecast[:,0:300:3]"
   ]
  },
  {
   "cell_type": "code",
   "execution_count": 27,
   "metadata": {},
   "outputs": [
    {
     "data": {
      "text/plain": [
       "(1, 300)"
      ]
     },
     "execution_count": 27,
     "metadata": {},
     "output_type": "execute_result"
    }
   ],
   "source": [
    "fforecast.shape"
   ]
  },
  {
   "cell_type": "code",
   "execution_count": 28,
   "metadata": {
    "id": "CXkgkj_LBk_t"
   },
   "outputs": [],
   "source": [
    "# code to replace all negative value with 0\n",
    "final_forecast[final_forecast<0] = 0"
   ]
  },
  {
   "cell_type": "code",
   "execution_count": 29,
   "metadata": {},
   "outputs": [
    {
     "data": {
      "text/plain": [
       "array([[6.49537815e+01, 6.48977591e+01, 6.48417367e+01, 6.47857143e+01,\n",
       "        6.47296919e+01, 6.46736695e+01, 6.46176471e+01, 6.45616246e+01,\n",
       "        6.45056022e+01, 6.44495798e+01, 6.43935574e+01, 6.43375350e+01,\n",
       "        6.42815126e+01, 6.42254902e+01, 6.41694678e+01, 6.41134454e+01,\n",
       "        6.40574230e+01, 6.40014006e+01, 6.39808824e+01, 6.39612745e+01,\n",
       "        6.39416667e+01, 6.39220588e+01, 6.39024510e+01, 6.38828431e+01,\n",
       "        6.38632353e+01, 6.38436274e+01, 6.38240196e+01, 6.38044118e+01,\n",
       "        6.37848039e+01, 6.37651961e+01, 6.37455882e+01, 6.37259804e+01,\n",
       "        6.37063725e+01, 6.36867647e+01, 6.36671569e+01, 6.36475490e+01,\n",
       "        6.36279412e+01, 6.36083333e+01, 6.35887255e+01, 6.35691177e+01,\n",
       "        6.35495098e+01, 6.35299020e+01, 6.35102941e+01, 6.34906863e+01,\n",
       "        6.34710784e+01, 6.34514706e+01, 6.34318628e+01, 6.34122549e+01,\n",
       "        6.33926471e+01, 6.33730392e+01, 6.33534314e+01, 6.33338235e+01,\n",
       "        6.33142157e+01, 6.32930672e+01, 6.32678571e+01, 6.32426471e+01,\n",
       "        6.32174370e+01, 6.31922269e+01, 6.31670168e+01, 6.31418067e+01,\n",
       "        6.31165966e+01, 6.30913866e+01, 6.30661765e+01, 6.30409664e+01,\n",
       "        6.30157563e+01, 6.29905462e+01, 6.29653361e+01, 6.29401261e+01,\n",
       "        6.29149160e+01, 6.28897059e+01, 6.28644958e+01, 6.28392857e+01,\n",
       "        6.28140756e+01, 6.27888655e+01, 6.27636555e+01, 6.27384454e+01,\n",
       "        6.27132353e+01, 6.26880252e+01, 6.26628151e+01, 6.26376050e+01,\n",
       "        7.00034103e+01, 0.00000000e+00, 0.00000000e+00, 1.69796750e-01,\n",
       "        2.26345703e-01, 4.73187238e-01, 2.75125384e-01, 0.00000000e+00,\n",
       "        0.00000000e+00, 2.17714518e-01, 3.69451851e-01, 0.00000000e+00,\n",
       "        4.59393412e-01, 8.40820149e-02, 0.00000000e+00, 0.00000000e+00,\n",
       "        0.00000000e+00, 4.59561169e-01, 6.64002374e-02, 1.25769787e-02]])"
      ]
     },
     "execution_count": 29,
     "metadata": {},
     "output_type": "execute_result"
    }
   ],
   "source": [
    "final_forecast"
   ]
  },
  {
   "cell_type": "code",
   "execution_count": 30,
   "metadata": {},
   "outputs": [
    {
     "data": {
      "text/plain": [
       "(1, 100)"
      ]
     },
     "execution_count": 30,
     "metadata": {},
     "output_type": "execute_result"
    }
   ],
   "source": [
    "final_forecast.shape"
   ]
  },
  {
   "cell_type": "code",
   "execution_count": 31,
   "metadata": {},
   "outputs": [
    {
     "data": {
      "text/plain": [
       "(100,)"
      ]
     },
     "execution_count": 31,
     "metadata": {},
     "output_type": "execute_result"
    }
   ],
   "source": [
    "test.shape"
   ]
  },
  {
   "cell_type": "code",
   "execution_count": 32,
   "metadata": {},
   "outputs": [],
   "source": [
    "training_set = np.array(training_set)\n",
    "test = np.array(test)\n",
    "final_forecast = np.array(final_forecast.squeeze(0))"
   ]
  },
  {
   "cell_type": "code",
   "execution_count": 33,
   "metadata": {},
   "outputs": [
    {
     "data": {
      "text/plain": [
       "array([61.86454248, 61.85800654, 61.85147059, 61.84493464, 61.83839869,\n",
       "       61.83186275, 61.8253268 , 61.81879085, 61.8122549 , 61.80571895,\n",
       "       61.79918301, 61.79264706, 61.78611111, 61.77957516, 61.77303922,\n",
       "       61.76650327, 61.75996732, 61.75343137, 61.74689542, 61.74035948,\n",
       "       61.73382353, 61.72728758, 61.72075163, 61.71421569, 61.70767974,\n",
       "       61.70114379, 61.69460784, 61.6880719 , 61.68153595, 61.675     ,\n",
       "       61.66846405, 61.6619281 , 61.65539216, 61.64885621, 61.64232026,\n",
       "       61.63578431, 61.62924837, 61.62271242, 61.61617647, 61.60964052,\n",
       "       61.60310458, 61.59833333, 61.59515873, 61.59198413, 61.58880952,\n",
       "       61.58563492, 61.58246032, 61.57928571, 61.57611111, 61.57293651,\n",
       "       61.5697619 , 61.5665873 , 61.5634127 , 61.5602381 , 61.55706349,\n",
       "       61.55388889, 61.55071429, 61.54753968, 61.54436508, 61.54119048,\n",
       "       61.53801587, 61.53484127, 61.53166667, 61.52849206, 61.52531746,\n",
       "       61.52214286, 61.51896825, 61.51579365, 61.51261905, 61.50944444,\n",
       "       61.50626984, 61.50309524, 61.49992063, 61.49674603, 61.49357143,\n",
       "       61.49039683, 61.48722222, 61.48404762, 61.48087302, 61.47769841,\n",
       "       61.47452381, 61.47134921, 61.4681746 , 61.465     , 61.4618254 ,\n",
       "       61.45865079, 61.45547619, 61.45230159, 61.44912698, 61.44595238,\n",
       "       61.44277778, 61.43960317, 61.43642857, 61.43325397, 61.43007937,\n",
       "       61.42690476, 61.42373016, 61.42055556, 61.41738095, 61.41420635])"
      ]
     },
     "execution_count": 33,
     "metadata": {},
     "output_type": "execute_result"
    }
   ],
   "source": [
    "test"
   ]
  },
  {
   "cell_type": "code",
   "execution_count": 34,
   "metadata": {},
   "outputs": [
    {
     "data": {
      "text/plain": [
       "(100,)"
      ]
     },
     "execution_count": 34,
     "metadata": {},
     "output_type": "execute_result"
    }
   ],
   "source": [
    "test.shape"
   ]
  },
  {
   "cell_type": "code",
   "execution_count": 35,
   "metadata": {},
   "outputs": [
    {
     "data": {
      "text/plain": [
       "(100,)"
      ]
     },
     "execution_count": 35,
     "metadata": {},
     "output_type": "execute_result"
    }
   ],
   "source": [
    "final_forecast.shape"
   ]
  },
  {
   "cell_type": "code",
   "execution_count": 36,
   "metadata": {},
   "outputs": [
    {
     "data": {
      "text/plain": [
       "(100,)"
      ]
     },
     "execution_count": 36,
     "metadata": {},
     "output_type": "execute_result"
    }
   ],
   "source": [
    "test.shape"
   ]
  },
  {
   "cell_type": "code",
   "execution_count": 37,
   "metadata": {},
   "outputs": [
    {
     "name": "stdout",
     "output_type": "stream",
     "text": [
      "26.792740410492407\n",
      "13.303835752732141\n"
     ]
    }
   ],
   "source": [
    "import math\n",
    "MSE = np.square(np.subtract(np.array(test),np.array(final_forecast))).mean()   \n",
    "rsme = math.sqrt(MSE)\n",
    "print(rsme)  \n",
    "MAE = np.abs(np.subtract(np.array(test),np.array(final_forecast))).mean()   \n",
    "mae = MAE\n",
    "print(mae)"
   ]
  }
 ],
 "metadata": {
  "colab": {
   "provenance": []
  },
  "kernelspec": {
   "display_name": "Python 3",
   "language": "python",
   "name": "python3"
  },
  "language_info": {
   "codemirror_mode": {
    "name": "ipython",
    "version": 3
   },
   "file_extension": ".py",
   "mimetype": "text/x-python",
   "name": "python",
   "nbconvert_exporter": "python",
   "pygments_lexer": "ipython3",
   "version": "3.9.13"
  }
 },
 "nbformat": 4,
 "nbformat_minor": 0
}
