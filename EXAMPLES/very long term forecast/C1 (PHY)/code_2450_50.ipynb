{
 "cells": [
  {
   "cell_type": "markdown",
   "metadata": {
    "id": "pCGKeZ2gyuoQ"
   },
   "source": [
    "_Importing Required Libraries_"
   ]
  },
  {
   "cell_type": "code",
   "execution_count": 1,
   "metadata": {
    "colab": {
     "base_uri": "https://localhost:8080/"
    },
    "id": "A-6LN-zXiLcM",
    "outputId": "4de610a4-f8b8-4f49-c6c0-89de299ccedc"
   },
   "outputs": [
    {
     "name": "stdout",
     "output_type": "stream",
     "text": [
      "Requirement already satisfied: hampel in c:\\users\\anurag dutta\\appdata\\local\\packages\\pythonsoftwarefoundation.python.3.9_qbz5n2kfra8p0\\localcache\\local-packages\\python39\\site-packages (0.0.5)\n",
      "Requirement already satisfied: numpy in c:\\users\\anurag dutta\\appdata\\local\\packages\\pythonsoftwarefoundation.python.3.9_qbz5n2kfra8p0\\localcache\\local-packages\\python39\\site-packages (from hampel) (1.26.4)\n",
      "Requirement already satisfied: pandas in c:\\users\\anurag dutta\\appdata\\local\\packages\\pythonsoftwarefoundation.python.3.9_qbz5n2kfra8p0\\localcache\\local-packages\\python39\\site-packages (from hampel) (1.5.2)\n",
      "Requirement already satisfied: python-dateutil>=2.8.1 in c:\\users\\anurag dutta\\appdata\\local\\packages\\pythonsoftwarefoundation.python.3.9_qbz5n2kfra8p0\\localcache\\local-packages\\python39\\site-packages (from pandas->hampel) (2.8.2)\n",
      "Requirement already satisfied: pytz>=2020.1 in c:\\users\\anurag dutta\\appdata\\local\\packages\\pythonsoftwarefoundation.python.3.9_qbz5n2kfra8p0\\localcache\\local-packages\\python39\\site-packages (from pandas->hampel) (2023.3.post1)\n",
      "Requirement already satisfied: six>=1.5 in c:\\users\\anurag dutta\\appdata\\local\\packages\\pythonsoftwarefoundation.python.3.9_qbz5n2kfra8p0\\localcache\\local-packages\\python39\\site-packages (from python-dateutil>=2.8.1->pandas->hampel) (1.16.0)\n",
      "Note: you may need to restart the kernel to use updated packages.\n"
     ]
    },
    {
     "name": "stderr",
     "output_type": "stream",
     "text": [
      "\n",
      "[notice] A new release of pip is available: 24.2 -> 24.3.1\n",
      "[notice] To update, run: C:\\Users\\Anurag Dutta\\AppData\\Local\\Microsoft\\WindowsApps\\PythonSoftwareFoundation.Python.3.9_qbz5n2kfra8p0\\python.exe -m pip install --upgrade pip\n"
     ]
    }
   ],
   "source": [
    "pip install hampel"
   ]
  },
  {
   "cell_type": "code",
   "execution_count": 2,
   "metadata": {
    "id": "By_d9uXpaFvZ"
   },
   "outputs": [],
   "source": [
    "from keras.models import Sequential\n",
    "from keras.layers import Dense\n",
    "from keras.layers import LSTM\n",
    "from keras.layers import Dropout\n",
    "import keras\n",
    "import tensorflow as tf\n",
    "from hampel import hampel\n",
    "import numpy as np\n",
    "import matplotlib.pyplot as plt\n",
    "import pandas as pd\n",
    "from sklearn.preprocessing import MinMaxScaler\n",
    "from sklearn.metrics import mean_squared_error, mean_absolute_error\n",
    "from math import sqrt\n",
    "from matplotlib import pyplot\n",
    "from numpy import array"
   ]
  },
  {
   "cell_type": "markdown",
   "metadata": {
    "id": "JyOjBMFayuoR"
   },
   "source": [
    "## Pretraining"
   ]
  },
  {
   "cell_type": "markdown",
   "metadata": {
    "id": "-5QqIY_GyuoR"
   },
   "source": [
    "The `capa_intermittency.dat` feeds the model with the dynamics of the Capacitor"
   ]
  },
  {
   "cell_type": "code",
   "execution_count": 3,
   "metadata": {
    "id": "9dV4a8yfyuoR"
   },
   "outputs": [],
   "source": [
    "data = np.genfromtxt('capa_intermittency.dat')\n",
    "training_set = pd.DataFrame(data).reset_index(drop=True)\n",
    "training_set = training_set.iloc[:,0]"
   ]
  },
  {
   "cell_type": "markdown",
   "metadata": {
    "id": "i7easoxByuoR"
   },
   "source": [
    "## Computing the Gradient"
   ]
  },
  {
   "cell_type": "markdown",
   "metadata": {
    "id": "5SnyolJTyuoR"
   },
   "source": [
    "_Calculating the value of_ $\\frac{dx}{dt}$"
   ]
  },
  {
   "cell_type": "code",
   "execution_count": 4,
   "metadata": {
    "colab": {
     "base_uri": "https://localhost:8080/"
    },
    "id": "wmIbVfIvyuoR",
    "outputId": "aa4e3136-c854-465d-d2e9-81cfd546e440"
   },
   "outputs": [
    {
     "name": "stdout",
     "output_type": "stream",
     "text": [
      "1.0\n",
      "1        0.000298\n",
      "2        0.000298\n",
      "3        0.000297\n",
      "4        0.000297\n",
      "5        0.000297\n",
      "           ...   \n",
      "9996     0.000018\n",
      "9997     0.000018\n",
      "9998     0.000018\n",
      "9999     0.000018\n",
      "10000    0.000018\n",
      "Name: 0, Length: 10000, dtype: float64\n"
     ]
    }
   ],
   "source": [
    "t_diff = 1\n",
    "print(training_set.max())\n",
    "gradient_t = (training_set.diff()/t_diff).iloc[1:] # dx/dt\n",
    "print(gradient_t)"
   ]
  },
  {
   "cell_type": "markdown",
   "metadata": {
    "id": "_2eVeeoxyuoS"
   },
   "source": [
    "## Loading Datasets"
   ]
  },
  {
   "cell_type": "code",
   "execution_count": 5,
   "metadata": {
    "id": "0J-NKyIEyuoS"
   },
   "outputs": [
    {
     "data": {
      "text/plain": [
       "0       89.200000\n",
       "1       88.931092\n",
       "2       88.662185\n",
       "3       88.393277\n",
       "4       88.124370\n",
       "          ...    \n",
       "2495    52.234980\n",
       "2496    52.226235\n",
       "2497    52.217490\n",
       "2498    52.208745\n",
       "2499    52.200000\n",
       "Name: C1, Length: 2500, dtype: float64"
      ]
     },
     "execution_count": 5,
     "metadata": {},
     "output_type": "execute_result"
    }
   ],
   "source": [
    "data = pd.read_csv(\"c1_interpolated_2450_50.csv\")\n",
    "training_set = data.iloc[:, 1]\n",
    "training_set"
   ]
  },
  {
   "cell_type": "code",
   "execution_count": 6,
   "metadata": {
    "colab": {
     "base_uri": "https://localhost:8080/"
    },
    "id": "-CbNUhJ74UqF",
    "outputId": "20f562d8-8247-49cc-b9c3-00eca5e13e2d"
   },
   "outputs": [
    {
     "data": {
      "text/plain": [
       "0       89.200000\n",
       "1       88.931092\n",
       "2       88.662185\n",
       "3       88.393277\n",
       "4       88.124370\n",
       "          ...    \n",
       "2445     0.000000\n",
       "2446     0.000000\n",
       "2447     0.167600\n",
       "2448     0.000000\n",
       "2449     0.893680\n",
       "Name: C1, Length: 2450, dtype: float64"
      ]
     },
     "execution_count": 6,
     "metadata": {},
     "output_type": "execute_result"
    }
   ],
   "source": [
    "test = training_set.tail(50)\n",
    "test\n",
    "training_set = training_set.head(2450)\n",
    "training_set"
   ]
  },
  {
   "cell_type": "code",
   "execution_count": 7,
   "metadata": {
    "colab": {
     "base_uri": "https://localhost:8080/"
    },
    "id": "X0TwTcq0yuoS",
    "outputId": "37252ed8-d88e-4044-fa7a-922411990b5b"
   },
   "outputs": [
    {
     "name": "stdout",
     "output_type": "stream",
     "text": [
      "0       0.000298\n",
      "1       0.000298\n",
      "2       0.000297\n",
      "3       0.000297\n",
      "4       0.000297\n",
      "          ...   \n",
      "9995    0.000018\n",
      "9996    0.000018\n",
      "9997    0.000018\n",
      "9998    0.000018\n",
      "9999    0.000018\n",
      "Name: 0, Length: 10000, dtype: float64\n"
     ]
    }
   ],
   "source": [
    "training_set = training_set.reset_index(drop=True)\n",
    "gradient_t = gradient_t.reset_index(drop=True)\n",
    "print(gradient_t)"
   ]
  },
  {
   "cell_type": "code",
   "execution_count": 8,
   "metadata": {
    "id": "O2biznZQyuoS"
   },
   "outputs": [],
   "source": [
    "df = pd.concat((training_set, gradient_t), axis=1)\n",
    "df.columns = ['y_t', 'grad_t']"
   ]
  },
  {
   "cell_type": "code",
   "execution_count": 9,
   "metadata": {
    "colab": {
     "base_uri": "https://localhost:8080/",
     "height": 423
    },
    "id": "sk_a5v3tyuoS",
    "outputId": "17563625-e550-45ae-faab-fafa353e44da"
   },
   "outputs": [
    {
     "data": {
      "text/html": [
       "<div>\n",
       "<style scoped>\n",
       "    .dataframe tbody tr th:only-of-type {\n",
       "        vertical-align: middle;\n",
       "    }\n",
       "\n",
       "    .dataframe tbody tr th {\n",
       "        vertical-align: top;\n",
       "    }\n",
       "\n",
       "    .dataframe thead th {\n",
       "        text-align: right;\n",
       "    }\n",
       "</style>\n",
       "<table border=\"1\" class=\"dataframe\">\n",
       "  <thead>\n",
       "    <tr style=\"text-align: right;\">\n",
       "      <th></th>\n",
       "      <th>y_t</th>\n",
       "      <th>grad_t</th>\n",
       "    </tr>\n",
       "  </thead>\n",
       "  <tbody>\n",
       "    <tr>\n",
       "      <th>0</th>\n",
       "      <td>89.200000</td>\n",
       "      <td>0.000298</td>\n",
       "    </tr>\n",
       "    <tr>\n",
       "      <th>1</th>\n",
       "      <td>88.931092</td>\n",
       "      <td>0.000298</td>\n",
       "    </tr>\n",
       "    <tr>\n",
       "      <th>2</th>\n",
       "      <td>88.662185</td>\n",
       "      <td>0.000297</td>\n",
       "    </tr>\n",
       "    <tr>\n",
       "      <th>3</th>\n",
       "      <td>88.393277</td>\n",
       "      <td>0.000297</td>\n",
       "    </tr>\n",
       "    <tr>\n",
       "      <th>4</th>\n",
       "      <td>88.124370</td>\n",
       "      <td>0.000297</td>\n",
       "    </tr>\n",
       "    <tr>\n",
       "      <th>...</th>\n",
       "      <td>...</td>\n",
       "      <td>...</td>\n",
       "    </tr>\n",
       "    <tr>\n",
       "      <th>9995</th>\n",
       "      <td>NaN</td>\n",
       "      <td>0.000018</td>\n",
       "    </tr>\n",
       "    <tr>\n",
       "      <th>9996</th>\n",
       "      <td>NaN</td>\n",
       "      <td>0.000018</td>\n",
       "    </tr>\n",
       "    <tr>\n",
       "      <th>9997</th>\n",
       "      <td>NaN</td>\n",
       "      <td>0.000018</td>\n",
       "    </tr>\n",
       "    <tr>\n",
       "      <th>9998</th>\n",
       "      <td>NaN</td>\n",
       "      <td>0.000018</td>\n",
       "    </tr>\n",
       "    <tr>\n",
       "      <th>9999</th>\n",
       "      <td>NaN</td>\n",
       "      <td>0.000018</td>\n",
       "    </tr>\n",
       "  </tbody>\n",
       "</table>\n",
       "<p>10000 rows × 2 columns</p>\n",
       "</div>"
      ],
      "text/plain": [
       "            y_t    grad_t\n",
       "0     89.200000  0.000298\n",
       "1     88.931092  0.000298\n",
       "2     88.662185  0.000297\n",
       "3     88.393277  0.000297\n",
       "4     88.124370  0.000297\n",
       "...         ...       ...\n",
       "9995        NaN  0.000018\n",
       "9996        NaN  0.000018\n",
       "9997        NaN  0.000018\n",
       "9998        NaN  0.000018\n",
       "9999        NaN  0.000018\n",
       "\n",
       "[10000 rows x 2 columns]"
      ]
     },
     "execution_count": 9,
     "metadata": {},
     "output_type": "execute_result"
    }
   ],
   "source": [
    "df"
   ]
  },
  {
   "cell_type": "markdown",
   "metadata": {
    "id": "-5esyHu5aFvg"
   },
   "source": [
    "## Plot of the External Forcing from Chaotic Differential Equation"
   ]
  },
  {
   "cell_type": "code",
   "execution_count": 10,
   "metadata": {
    "colab": {
     "base_uri": "https://localhost:8080/",
     "height": 447
    },
    "id": "hGnE43tOh-4p",
    "outputId": "fc396503-b624-4fa5-dfbe-f460207405c6"
   },
   "outputs": [
    {
     "data": {
      "text/plain": [
       "<Axes: >"
      ]
     },
     "execution_count": 10,
     "metadata": {},
     "output_type": "execute_result"
    },
    {
     "data": {
      "image/png": "[encoded data removed]",
      "text/plain": [
       "<Figure size 432x288 with 1 Axes>"
      ]
     },
     "metadata": {
      "needs_background": "light"
     },
     "output_type": "display_data"
    }
   ],
   "source": [
    "df.iloc[:, 0].plot()"
   ]
  },
  {
   "cell_type": "code",
   "execution_count": 11,
   "metadata": {
    "colab": {
     "base_uri": "https://localhost:8080/",
     "height": 447
    },
    "id": "ym4xWUUxaFvg",
    "outputId": "ae6a3495-8ce9-437e-ba81-3ed31deedeae"
   },
   "outputs": [
    {
     "name": "stderr",
     "output_type": "stream",
     "text": [
      "C:\\Users\\Anurag Dutta\\AppData\\Local\\Packages\\PythonSoftwareFoundation.Python.3.9_qbz5n2kfra8p0\\LocalCache\\local-packages\\Python39\\site-packages\\pandas\\core\\arraylike.py:402: RuntimeWarning: divide by zero encountered in log\n",
      "  result = getattr(ufunc, method)(*inputs, **kwargs)\n"
     ]
    },
    {
     "data": {
      "text/plain": [
       "<Axes: >"
      ]
     },
     "execution_count": 11,
     "metadata": {},
     "output_type": "execute_result"
    },
    {
     "data": {
      "image/png": "[encoded data removed]",
      "text/plain": [
       "<Figure size 432x288 with 1 Axes>"
      ]
     },
     "metadata": {
      "needs_background": "light"
     },
     "output_type": "display_data"
    }
   ],
   "source": [
    "import numpy as np\n",
    "c0 = 86.6465  # Value for C0\n",
    "K0 = -0.0029  # Value for K0\n",
    "K1 = -0.0003  # Value for K1\n",
    "a = 0.0000    # Value for a\n",
    "b = 0.0168    # Value for b\n",
    "c = 2.3581    # Value for c\n",
    "\n",
    "L = np.minimum(c0, (df.iloc[:, 1] - (df.iloc[:, 0] * (K0 - K1 * (9 * a * np.log(df.iloc[:, 0] / c0) / (K0 - K1 * c)**2 + 4 * b * np.log(df.iloc[:, 0] / c0) / (K0 - K1 * c) + c)))))\n",
    "L.plot()"
   ]
  },
  {
   "cell_type": "markdown",
   "metadata": {
    "id": "9VyEywnwaFvh"
   },
   "source": [
    "## Preprocessing the data into supervised learning"
   ]
  },
  {
   "cell_type": "code",
   "execution_count": 12,
   "metadata": {
    "id": "6V9dXqzdaFvh"
   },
   "outputs": [],
   "source": [
    "# split a sequence into samples\n",
    "def Supervised(data, n_in=1, n_out=1, dropnan=True):\n",
    "    n_vars = 1 if type(data) is list else data.shape[1]\n",
    "    df = pd.DataFrame(data)\n",
    "    cols, names = list(), list()\n",
    "    # input sequence (t-n_in, ... t-1)\n",
    "    for i in range(n_in, 0, -1):\n",
    "        cols.append(df.shift(i))\n",
    "        names += [('var%d(t-%d)' % (j+1, i)) for j in range(n_vars)]\n",
    "    # forecast sequence (t, t+1, ... t+n_out)\n",
    "    for i in range(0, n_out):\n",
    "      cols.append(df.shift(-i))\n",
    "      if i == 0:\n",
    "        names += [('var%d(t)' % (j+1)) for j in range(n_vars)]\n",
    "      else:\n",
    "        names += [('var%d(t+%d)' % (j+1, i)) for j in range(n_vars)]\n",
    "    # put it all together\n",
    "    agg = pd.concat(cols, axis=1)\n",
    "    agg.columns = names\n",
    "    # drop rows with NaN values\n",
    "    if dropnan:\n",
    "       agg.dropna(inplace=True)\n",
    "    return agg"
   ]
  },
  {
   "cell_type": "code",
   "execution_count": 13,
   "metadata": {
    "colab": {
     "base_uri": "https://localhost:8080/"
    },
    "id": "CrzSrT1HnyfH",
    "outputId": "7e75f928-3e47-499d-eac1-51908015ef78"
   },
   "outputs": [
    {
     "name": "stdout",
     "output_type": "stream",
     "text": [
      "     var1(t-175)  var1(t-174)  var1(t-173)  var1(t-172)  var1(t-171)  \\\n",
      "175    89.200000    88.931092    88.662185    88.393277    88.124370   \n",
      "176    88.931092    88.662185    88.393277    88.124370    87.855462   \n",
      "177    88.662185    88.393277    88.124370    87.855462    87.586555   \n",
      "178    88.393277    88.124370    87.855462    87.586555    87.317647   \n",
      "179    88.124370    87.855462    87.586555    87.317647    87.048739   \n",
      "\n",
      "     var1(t-170)  var1(t-169)  var1(t-168)  var1(t-167)  var1(t-166)  ...  \\\n",
      "175    87.855462    87.586555    87.317647    87.048739    86.794538  ...   \n",
      "176    87.586555    87.317647    87.048739    86.794538    86.721709  ...   \n",
      "177    87.317647    87.048739    86.794538    86.721709    86.648880  ...   \n",
      "178    87.048739    86.794538    86.721709    86.648880    86.576050  ...   \n",
      "179    86.794538    86.721709    86.648880    86.576050    86.503221  ...   \n",
      "\n",
      "     var1(t+45)  var2(t+45)  var1(t+46)  var2(t+46)  var1(t+47)  var2(t+47)  \\\n",
      "175   78.583777    0.000280   78.562302    0.000280   78.540826    0.000280   \n",
      "176   78.562302    0.000280   78.540826    0.000280   78.519351    0.000280   \n",
      "177   78.540826    0.000280   78.519351    0.000280   78.497876    0.000279   \n",
      "178   78.519351    0.000280   78.497876    0.000279   78.476401    0.000279   \n",
      "179   78.497876    0.000279   78.476401    0.000279   78.454925    0.000279   \n",
      "\n",
      "     var1(t+48)  var2(t+48)  var1(t+49)  var2(t+49)  \n",
      "175   78.519351    0.000280   78.497876    0.000279  \n",
      "176   78.497876    0.000279   78.476401    0.000279  \n",
      "177   78.476401    0.000279   78.454925    0.000279  \n",
      "178   78.454925    0.000279   78.433450    0.000279  \n",
      "179   78.433450    0.000279   78.411975    0.000279  \n",
      "\n",
      "[5 rows x 276 columns]\n",
      "Index(['var1(t-175)', 'var1(t-174)', 'var1(t-173)', 'var1(t-172)',\n",
      "       'var1(t-171)', 'var1(t-170)', 'var1(t-169)', 'var1(t-168)',\n",
      "       'var1(t-167)', 'var1(t-166)',\n",
      "       ...\n",
      "       'var1(t+45)', 'var2(t+45)', 'var1(t+46)', 'var2(t+46)', 'var1(t+47)',\n",
      "       'var2(t+47)', 'var1(t+48)', 'var2(t+48)', 'var1(t+49)', 'var2(t+49)'],\n",
      "      dtype='object', length=276)\n"
     ]
    }
   ],
   "source": [
    "data = Supervised(df.values, n_in = 175, n_out = 50)\n",
    "\n",
    "\n",
    "cols_to_drop = []\n",
    "for i in range(2, 176):\n",
    "    cols_to_drop.extend([f'var2(t-{i})'])\n",
    "\n",
    "data.drop(cols_to_drop, axis=1, inplace=True)\n",
    "\n",
    "print(data.head())\n",
    "print(data.columns)"
   ]
  },
  {
   "cell_type": "code",
   "execution_count": 14,
   "metadata": {
    "id": "AfPf60oy6Pe4"
   },
   "outputs": [],
   "source": [
    "train = np.array(data[0:len(data)-1])\n",
    "forecast = np.array(data.tail(1))"
   ]
  },
  {
   "cell_type": "code",
   "execution_count": 15,
   "metadata": {
    "id": "WSAafzI37KiT"
   },
   "outputs": [],
   "source": [
    "trainy = train[:,-150:]\n",
    "trainX = train[:,:-150]"
   ]
  },
  {
   "cell_type": "code",
   "execution_count": 16,
   "metadata": {
    "id": "2SrOqVJA7f50"
   },
   "outputs": [],
   "source": [
    "forecasty = forecast[:,-150:]\n",
    "forecastX = forecast[:,:-150]"
   ]
  },
  {
   "cell_type": "code",
   "execution_count": 17,
   "metadata": {
    "colab": {
     "base_uri": "https://localhost:8080/"
    },
    "id": "Qno_k8Nw7saY",
    "outputId": "c4a88db5-d8c6-489f-cdb2-06b24e293cff"
   },
   "outputs": [
    {
     "name": "stdout",
     "output_type": "stream",
     "text": [
      "(2225, 1, 126) (2225, 150) (1, 1, 126)\n"
     ]
    }
   ],
   "source": [
    "trainX = trainX.reshape((trainX.shape[0], 1, trainX.shape[1]))\n",
    "forecastX = forecastX.reshape((forecastX.shape[0], 1, forecastX.shape[1]))\n",
    "print(trainX.shape, trainy.shape, forecastX.shape)"
   ]
  },
  {
   "cell_type": "code",
   "execution_count": 18,
   "metadata": {
    "colab": {
     "base_uri": "https://localhost:8080/"
    },
    "id": "b1Jp2DvNuNFx",
    "outputId": "d0e5b3c4-64f1-438c-eade-8dfeaac8e285"
   },
   "outputs": [
    {
     "name": "stdout",
     "output_type": "stream",
     "text": [
      "Epoch 1/500\n",
      "28/28 [==============================] - 3s 23ms/step - loss: 4115.7036 - val_loss: 1855.7629\n",
      "Epoch 2/500\n",
      "28/28 [==============================] - 0s 4ms/step - loss: 3760.2446 - val_loss: 1697.7341\n",
      "Epoch 3/500\n",
      "28/28 [==============================] - 0s 4ms/step - loss: 3512.8501 - val_loss: 1604.4830\n",
      "Epoch 4/500\n",
      "28/28 [==============================] - 0s 4ms/step - loss: 3340.0112 - val_loss: 1529.7628\n",
      "Epoch 5/500\n",
      "28/28 [==============================] - 0s 4ms/step - loss: 3180.6846 - val_loss: 1462.4877\n",
      "Epoch 6/500\n",
      "28/28 [==============================] - 0s 7ms/step - loss: 3028.2717 - val_loss: 1402.4806\n",
      "Epoch 7/500\n",
      "28/28 [==============================] - 0s 8ms/step - loss: 2890.0276 - val_loss: 1347.3933\n",
      "Epoch 8/500\n",
      "28/28 [==============================] - 0s 6ms/step - loss: 2758.5042 - val_loss: 1295.9573\n",
      "Epoch 9/500\n",
      "28/28 [==============================] - 0s 7ms/step - loss: 2622.2236 - val_loss: 1246.8405\n",
      "Epoch 10/500\n",
      "28/28 [==============================] - 0s 7ms/step - loss: 2495.3962 - val_loss: 1200.4584\n",
      "Epoch 11/500\n",
      "28/28 [==============================] - 0s 6ms/step - loss: 2374.5471 - val_loss: 1157.9194\n",
      "Epoch 12/500\n",
      "28/28 [==============================] - 0s 6ms/step - loss: 2262.7258 - val_loss: 1121.7941\n",
      "Epoch 13/500\n",
      "28/28 [==============================] - 0s 9ms/step - loss: 2152.6375 - val_loss: 1078.0565\n",
      "Epoch 14/500\n",
      "28/28 [==============================] - 0s 8ms/step - loss: 2051.6648 - val_loss: 1047.0297\n",
      "Epoch 15/500\n",
      "28/28 [==============================] - 0s 7ms/step - loss: 1946.8597 - val_loss: 1010.1339\n",
      "Epoch 16/500\n",
      "28/28 [==============================] - 0s 6ms/step - loss: 1842.6653 - val_loss: 978.7379\n",
      "Epoch 17/500\n",
      "28/28 [==============================] - 0s 6ms/step - loss: 1753.3508 - val_loss: 950.2209\n",
      "Epoch 18/500\n",
      "28/28 [==============================] - 0s 10ms/step - loss: 1653.2559 - val_loss: 922.8981\n",
      "Epoch 19/500\n",
      "28/28 [==============================] - 0s 7ms/step - loss: 1564.7222 - val_loss: 892.7189\n",
      "Epoch 20/500\n",
      "28/28 [==============================] - 0s 7ms/step - loss: 1481.2633 - val_loss: 866.3590\n",
      "Epoch 21/500\n",
      "28/28 [==============================] - 0s 6ms/step - loss: 1403.3995 - val_loss: 844.1777\n",
      "Epoch 22/500\n",
      "28/28 [==============================] - 0s 6ms/step - loss: 1330.1190 - val_loss: 828.3615\n",
      "Epoch 23/500\n",
      "28/28 [==============================] - 0s 6ms/step - loss: 1260.7629 - val_loss: 804.5861\n",
      "Epoch 24/500\n",
      "28/28 [==============================] - 0s 6ms/step - loss: 1192.4056 - val_loss: 790.8828\n",
      "Epoch 25/500\n",
      "28/28 [==============================] - 0s 10ms/step - loss: 1131.0820 - val_loss: 774.9792\n",
      "Epoch 26/500\n",
      "28/28 [==============================] - 0s 9ms/step - loss: 1099.0629 - val_loss: 760.9617\n",
      "Epoch 27/500\n",
      "28/28 [==============================] - 0s 6ms/step - loss: 1059.3018 - val_loss: 750.8607\n",
      "Epoch 28/500\n",
      "28/28 [==============================] - 0s 6ms/step - loss: 980.0410 - val_loss: 739.8941\n",
      "Epoch 29/500\n",
      "28/28 [==============================] - 0s 5ms/step - loss: 915.2334 - val_loss: 742.6578\n",
      "Epoch 30/500\n",
      "28/28 [==============================] - 0s 5ms/step - loss: 864.0425 - val_loss: 733.9926\n",
      "Epoch 31/500\n",
      "28/28 [==============================] - 0s 5ms/step - loss: 818.3782 - val_loss: 721.9268\n",
      "Epoch 32/500\n",
      "28/28 [==============================] - 0s 5ms/step - loss: 777.6402 - val_loss: 727.2256\n",
      "Epoch 33/500\n",
      "28/28 [==============================] - 0s 5ms/step - loss: 737.0098 - val_loss: 724.9153\n",
      "Epoch 34/500\n",
      "28/28 [==============================] - 0s 6ms/step - loss: 695.8070 - val_loss: 722.8298\n",
      "Epoch 35/500\n",
      "28/28 [==============================] - 0s 6ms/step - loss: 655.0817 - val_loss: 714.6328\n",
      "Epoch 36/500\n",
      "28/28 [==============================] - 0s 6ms/step - loss: 641.5344 - val_loss: 709.4822\n",
      "Epoch 37/500\n",
      "28/28 [==============================] - 0s 7ms/step - loss: 668.6331 - val_loss: 782.9105\n",
      "Epoch 38/500\n",
      "28/28 [==============================] - 0s 13ms/step - loss: 593.1967 - val_loss: 784.3264\n",
      "Epoch 39/500\n",
      "28/28 [==============================] - 0s 9ms/step - loss: 688.8460 - val_loss: 775.2187\n",
      "Epoch 40/500\n",
      "28/28 [==============================] - 0s 9ms/step - loss: 582.9750 - val_loss: 779.6698\n",
      "Epoch 41/500\n",
      "28/28 [==============================] - 0s 7ms/step - loss: 549.2748 - val_loss: 792.6165\n",
      "Epoch 42/500\n",
      "28/28 [==============================] - 0s 6ms/step - loss: 524.3885 - val_loss: 800.9175\n",
      "Epoch 43/500\n",
      "28/28 [==============================] - 0s 7ms/step - loss: 575.1900 - val_loss: 839.3444\n",
      "Epoch 44/500\n",
      "28/28 [==============================] - 0s 13ms/step - loss: 517.5277 - val_loss: 826.9838\n",
      "Epoch 45/500\n",
      "28/28 [==============================] - 0s 9ms/step - loss: 473.8054 - val_loss: 865.5027\n",
      "Epoch 46/500\n",
      "28/28 [==============================] - 0s 7ms/step - loss: 467.2908 - val_loss: 909.5695\n",
      "Epoch 47/500\n",
      "28/28 [==============================] - 0s 6ms/step - loss: 435.1131 - val_loss: 887.4568\n",
      "Epoch 48/500\n",
      "28/28 [==============================] - 0s 6ms/step - loss: 436.9540 - val_loss: 896.9039\n",
      "Epoch 49/500\n",
      "28/28 [==============================] - 0s 6ms/step - loss: 413.2632 - val_loss: 897.7184\n",
      "Epoch 50/500\n",
      "28/28 [==============================] - 0s 6ms/step - loss: 384.4363 - val_loss: 921.0662\n",
      "Epoch 51/500\n",
      "28/28 [==============================] - 0s 6ms/step - loss: 381.1919 - val_loss: 966.4562\n",
      "Epoch 52/500\n",
      "28/28 [==============================] - 0s 5ms/step - loss: 378.2021 - val_loss: 1020.1124\n",
      "Epoch 53/500\n",
      "28/28 [==============================] - 0s 6ms/step - loss: 362.7216 - val_loss: 1009.8813\n",
      "Epoch 54/500\n",
      "28/28 [==============================] - 0s 5ms/step - loss: 348.8586 - val_loss: 997.8210\n",
      "Epoch 55/500\n",
      "28/28 [==============================] - 0s 5ms/step - loss: 355.3334 - val_loss: 994.8003\n",
      "Epoch 56/500\n",
      "28/28 [==============================] - 0s 5ms/step - loss: 343.8766 - val_loss: 1000.3065\n",
      "Epoch 57/500\n",
      "28/28 [==============================] - 0s 5ms/step - loss: 392.5555 - val_loss: 999.2629\n",
      "Epoch 58/500\n",
      "28/28 [==============================] - 0s 5ms/step - loss: 357.0406 - val_loss: 1007.1139\n",
      "Epoch 59/500\n",
      "28/28 [==============================] - 0s 5ms/step - loss: 312.6077 - val_loss: 987.2944\n",
      "Epoch 60/500\n",
      "28/28 [==============================] - 0s 5ms/step - loss: 305.8351 - val_loss: 972.1046\n",
      "Epoch 61/500\n",
      "28/28 [==============================] - 0s 5ms/step - loss: 299.9935 - val_loss: 974.9120\n",
      "Epoch 62/500\n",
      "28/28 [==============================] - 0s 5ms/step - loss: 281.2830 - val_loss: 996.7239\n",
      "Epoch 63/500\n",
      "28/28 [==============================] - 0s 5ms/step - loss: 288.2414 - val_loss: 984.2408\n",
      "Epoch 64/500\n",
      "28/28 [==============================] - 0s 6ms/step - loss: 318.4102 - val_loss: 1025.9578\n",
      "Epoch 65/500\n",
      "28/28 [==============================] - 0s 6ms/step - loss: 292.5880 - val_loss: 1026.4381\n",
      "Epoch 66/500\n",
      "28/28 [==============================] - 0s 6ms/step - loss: 272.7968 - val_loss: 1066.7113\n",
      "Epoch 67/500\n",
      "28/28 [==============================] - 0s 5ms/step - loss: 259.7498 - val_loss: 1063.7515\n",
      "Epoch 68/500\n",
      "28/28 [==============================] - 0s 5ms/step - loss: 262.2016 - val_loss: 1093.1967\n",
      "Epoch 69/500\n",
      "28/28 [==============================] - 0s 5ms/step - loss: 258.7020 - val_loss: 1073.8665\n",
      "Epoch 70/500\n",
      "28/28 [==============================] - 0s 5ms/step - loss: 279.4475 - val_loss: 1028.1975\n",
      "Epoch 71/500\n",
      "28/28 [==============================] - 0s 10ms/step - loss: 287.5009 - val_loss: 991.1320\n",
      "Epoch 72/500\n",
      "28/28 [==============================] - 0s 6ms/step - loss: 294.6597 - val_loss: 1020.4834\n",
      "Epoch 73/500\n",
      "28/28 [==============================] - 0s 5ms/step - loss: 284.2728 - val_loss: 1016.5933\n",
      "Epoch 74/500\n",
      "28/28 [==============================] - 0s 5ms/step - loss: 276.1156 - val_loss: 1013.4042\n",
      "Epoch 75/500\n",
      "28/28 [==============================] - 0s 5ms/step - loss: 278.4354 - val_loss: 1078.5292\n",
      "Epoch 76/500\n",
      "28/28 [==============================] - 0s 6ms/step - loss: 269.3703 - val_loss: 1072.4690\n",
      "Epoch 77/500\n",
      "28/28 [==============================] - 0s 5ms/step - loss: 260.3721 - val_loss: 1158.8918\n",
      "Epoch 78/500\n",
      "28/28 [==============================] - 0s 5ms/step - loss: 250.9120 - val_loss: 1114.3307\n",
      "Epoch 79/500\n",
      "28/28 [==============================] - 0s 5ms/step - loss: 269.4719 - val_loss: 1117.7402\n",
      "Epoch 80/500\n",
      "28/28 [==============================] - 0s 5ms/step - loss: 265.4593 - val_loss: 1121.5116\n",
      "Epoch 81/500\n",
      "28/28 [==============================] - 0s 5ms/step - loss: 271.1306 - val_loss: 1163.6025\n",
      "Epoch 82/500\n",
      "28/28 [==============================] - 0s 5ms/step - loss: 282.4009 - val_loss: 1156.6537\n",
      "Epoch 83/500\n",
      "28/28 [==============================] - 0s 5ms/step - loss: 276.7728 - val_loss: 1146.3695\n",
      "Epoch 84/500\n",
      "28/28 [==============================] - 0s 5ms/step - loss: 268.5082 - val_loss: 1134.9641\n",
      "Epoch 85/500\n",
      "28/28 [==============================] - 0s 5ms/step - loss: 263.9391 - val_loss: 1114.2086\n",
      "Epoch 86/500\n",
      "28/28 [==============================] - 0s 5ms/step - loss: 310.9317 - val_loss: 1121.3915\n",
      "Epoch 87/500\n",
      "28/28 [==============================] - 0s 5ms/step - loss: 295.1413 - val_loss: 1140.0814\n",
      "Epoch 88/500\n",
      "28/28 [==============================] - 0s 5ms/step - loss: 286.0121 - val_loss: 1152.6516\n",
      "Epoch 89/500\n",
      "28/28 [==============================] - 0s 5ms/step - loss: 255.9153 - val_loss: 1150.9597\n",
      "Epoch 90/500\n",
      "28/28 [==============================] - 0s 5ms/step - loss: 252.2647 - val_loss: 1144.3103\n",
      "Epoch 91/500\n",
      "28/28 [==============================] - 0s 6ms/step - loss: 258.5892 - val_loss: 1180.3944\n",
      "Epoch 92/500\n",
      "28/28 [==============================] - 0s 7ms/step - loss: 256.0814 - val_loss: 1182.2235\n",
      "Epoch 93/500\n",
      "28/28 [==============================] - 0s 7ms/step - loss: 254.6743 - val_loss: 1186.7665\n",
      "Epoch 94/500\n",
      "28/28 [==============================] - 0s 7ms/step - loss: 253.4772 - val_loss: 1184.0326\n",
      "Epoch 95/500\n",
      "28/28 [==============================] - 0s 6ms/step - loss: 254.9935 - val_loss: 1199.0974\n",
      "Epoch 96/500\n",
      "28/28 [==============================] - 0s 6ms/step - loss: 253.6332 - val_loss: 1198.7865\n",
      "Epoch 97/500\n",
      "28/28 [==============================] - 0s 6ms/step - loss: 252.3640 - val_loss: 1191.3890\n",
      "Epoch 98/500\n",
      "28/28 [==============================] - 0s 6ms/step - loss: 257.5719 - val_loss: 1204.6305\n",
      "Epoch 99/500\n",
      "28/28 [==============================] - 0s 7ms/step - loss: 249.2898 - val_loss: 1137.2559\n",
      "Epoch 100/500\n",
      "28/28 [==============================] - 0s 7ms/step - loss: 255.0887 - val_loss: 1124.1726\n",
      "Epoch 101/500\n",
      "28/28 [==============================] - 0s 6ms/step - loss: 252.1590 - val_loss: 1125.7079\n",
      "Epoch 102/500\n",
      "28/28 [==============================] - 0s 8ms/step - loss: 249.0110 - val_loss: 1128.1790\n",
      "Epoch 103/500\n",
      "28/28 [==============================] - 0s 6ms/step - loss: 251.6613 - val_loss: 1146.3495\n",
      "Epoch 104/500\n",
      "28/28 [==============================] - 0s 6ms/step - loss: 244.9538 - val_loss: 1126.4910\n",
      "Epoch 105/500\n",
      "28/28 [==============================] - 0s 16ms/step - loss: 251.5878 - val_loss: 1154.8224\n",
      "Epoch 106/500\n",
      "28/28 [==============================] - 0s 8ms/step - loss: 242.5454 - val_loss: 1135.8339\n",
      "Epoch 107/500\n",
      "28/28 [==============================] - 0s 7ms/step - loss: 236.7040 - val_loss: 1124.3959\n",
      "Epoch 108/500\n",
      "28/28 [==============================] - 0s 7ms/step - loss: 233.9447 - val_loss: 1118.3915\n",
      "Epoch 109/500\n",
      "28/28 [==============================] - 0s 7ms/step - loss: 241.5493 - val_loss: 1149.8337\n",
      "Epoch 110/500\n",
      "28/28 [==============================] - 0s 7ms/step - loss: 239.2952 - val_loss: 1150.0234\n",
      "Epoch 111/500\n",
      "28/28 [==============================] - 0s 6ms/step - loss: 237.0456 - val_loss: 1146.1049\n",
      "Epoch 112/500\n",
      "28/28 [==============================] - 0s 6ms/step - loss: 232.8659 - val_loss: 1137.8673\n",
      "Epoch 113/500\n",
      "28/28 [==============================] - 0s 6ms/step - loss: 242.9254 - val_loss: 1172.7587\n",
      "Epoch 114/500\n",
      "28/28 [==============================] - 0s 6ms/step - loss: 238.1349 - val_loss: 1152.2247\n",
      "Epoch 115/500\n",
      "28/28 [==============================] - 0s 6ms/step - loss: 232.5632 - val_loss: 1138.2968\n",
      "Epoch 116/500\n",
      "28/28 [==============================] - 0s 6ms/step - loss: 224.4619 - val_loss: 1102.0171\n",
      "Epoch 117/500\n",
      "28/28 [==============================] - 0s 6ms/step - loss: 223.7282 - val_loss: 1106.2834\n",
      "Epoch 118/500\n",
      "28/28 [==============================] - 0s 6ms/step - loss: 217.9616 - val_loss: 1091.5369\n",
      "Epoch 119/500\n",
      "28/28 [==============================] - 0s 6ms/step - loss: 215.9235 - val_loss: 1068.7112\n",
      "Epoch 120/500\n",
      "28/28 [==============================] - 0s 6ms/step - loss: 222.1792 - val_loss: 1063.6851\n",
      "Epoch 121/500\n",
      "28/28 [==============================] - 0s 5ms/step - loss: 221.3378 - val_loss: 1063.0128\n",
      "Epoch 122/500\n",
      "28/28 [==============================] - 0s 4ms/step - loss: 224.7070 - val_loss: 1083.5459\n",
      "Epoch 123/500\n",
      "28/28 [==============================] - 0s 5ms/step - loss: 229.3601 - val_loss: 1105.9102\n",
      "Epoch 124/500\n",
      "28/28 [==============================] - 0s 5ms/step - loss: 221.0236 - val_loss: 1076.9775\n",
      "Epoch 125/500\n",
      "28/28 [==============================] - 0s 5ms/step - loss: 215.8904 - val_loss: 1060.6323\n",
      "Epoch 126/500\n",
      "28/28 [==============================] - 0s 6ms/step - loss: 213.5471 - val_loss: 1054.3445\n",
      "Epoch 127/500\n",
      "28/28 [==============================] - 0s 5ms/step - loss: 235.2372 - val_loss: 1056.9556\n",
      "Epoch 128/500\n",
      "28/28 [==============================] - 0s 5ms/step - loss: 233.0927 - val_loss: 1058.4327\n",
      "Epoch 129/500\n",
      "28/28 [==============================] - 0s 5ms/step - loss: 230.4016 - val_loss: 1047.6838\n",
      "Epoch 130/500\n",
      "28/28 [==============================] - 0s 5ms/step - loss: 240.8081 - val_loss: 1033.6487\n",
      "Epoch 131/500\n",
      "28/28 [==============================] - 0s 5ms/step - loss: 257.4710 - val_loss: 1042.2465\n",
      "Epoch 132/500\n",
      "28/28 [==============================] - 0s 5ms/step - loss: 251.2844 - val_loss: 1048.1964\n",
      "Epoch 133/500\n",
      "28/28 [==============================] - 0s 5ms/step - loss: 241.9846 - val_loss: 1088.5476\n",
      "Epoch 134/500\n",
      "28/28 [==============================] - 0s 5ms/step - loss: 238.3307 - val_loss: 1092.1890\n",
      "Epoch 135/500\n",
      "28/28 [==============================] - 0s 5ms/step - loss: 240.5251 - val_loss: 1112.9944\n",
      "Epoch 136/500\n",
      "28/28 [==============================] - 0s 8ms/step - loss: 237.7567 - val_loss: 1109.5365\n",
      "Epoch 137/500\n",
      "28/28 [==============================] - 0s 7ms/step - loss: 235.2167 - val_loss: 1107.5150\n",
      "Epoch 138/500\n",
      "28/28 [==============================] - 0s 11ms/step - loss: 233.4214 - val_loss: 1108.3755\n",
      "Epoch 139/500\n",
      "28/28 [==============================] - 0s 6ms/step - loss: 230.0631 - val_loss: 1074.2261\n",
      "Epoch 140/500\n",
      "28/28 [==============================] - 0s 6ms/step - loss: 233.7295 - val_loss: 1074.7660\n",
      "Epoch 141/500\n",
      "28/28 [==============================] - 0s 6ms/step - loss: 231.3135 - val_loss: 1074.2115\n",
      "Epoch 142/500\n",
      "28/28 [==============================] - 0s 5ms/step - loss: 228.3356 - val_loss: 1075.0839\n",
      "Epoch 143/500\n",
      "28/28 [==============================] - 0s 5ms/step - loss: 225.9254 - val_loss: 1073.0146\n",
      "Epoch 144/500\n",
      "28/28 [==============================] - 0s 5ms/step - loss: 223.1331 - val_loss: 1069.7179\n",
      "Epoch 145/500\n",
      "28/28 [==============================] - 0s 5ms/step - loss: 224.8932 - val_loss: 1076.8318\n",
      "Epoch 146/500\n",
      "28/28 [==============================] - 0s 6ms/step - loss: 229.8263 - val_loss: 1077.1923\n",
      "Epoch 147/500\n",
      "28/28 [==============================] - 0s 7ms/step - loss: 228.0334 - val_loss: 1069.5048\n",
      "Epoch 148/500\n",
      "28/28 [==============================] - 0s 5ms/step - loss: 224.6617 - val_loss: 1079.9685\n",
      "Epoch 149/500\n",
      "28/28 [==============================] - 0s 5ms/step - loss: 220.9741 - val_loss: 1069.2036\n",
      "Epoch 150/500\n",
      "28/28 [==============================] - 0s 5ms/step - loss: 225.2514 - val_loss: 1090.1377\n",
      "Epoch 151/500\n",
      "28/28 [==============================] - 0s 6ms/step - loss: 221.7990 - val_loss: 1055.2435\n",
      "Epoch 152/500\n",
      "28/28 [==============================] - 0s 8ms/step - loss: 223.2052 - val_loss: 1047.6527\n",
      "Epoch 153/500\n",
      "28/28 [==============================] - 0s 8ms/step - loss: 229.6350 - val_loss: 1086.3030\n",
      "Epoch 154/500\n",
      "28/28 [==============================] - 0s 8ms/step - loss: 226.1666 - val_loss: 1061.2858\n",
      "Epoch 155/500\n",
      "28/28 [==============================] - 0s 7ms/step - loss: 239.6692 - val_loss: 1073.1223\n",
      "Epoch 156/500\n",
      "28/28 [==============================] - 0s 7ms/step - loss: 236.3736 - val_loss: 1070.7410\n",
      "Epoch 157/500\n",
      "28/28 [==============================] - 0s 6ms/step - loss: 231.9106 - val_loss: 1066.8706\n",
      "Epoch 158/500\n",
      "28/28 [==============================] - 0s 6ms/step - loss: 227.6784 - val_loss: 1063.0193\n",
      "Epoch 159/500\n",
      "28/28 [==============================] - 0s 7ms/step - loss: 222.6506 - val_loss: 1060.1500\n",
      "Epoch 160/500\n",
      "28/28 [==============================] - 0s 8ms/step - loss: 220.3429 - val_loss: 1057.3663\n",
      "Epoch 161/500\n",
      "28/28 [==============================] - 0s 8ms/step - loss: 218.0786 - val_loss: 1055.5496\n",
      "Epoch 162/500\n",
      "28/28 [==============================] - 1s 19ms/step - loss: 215.8247 - val_loss: 1050.6243\n",
      "Epoch 163/500\n",
      "28/28 [==============================] - 0s 10ms/step - loss: 213.5857 - val_loss: 1046.5565\n",
      "Epoch 164/500\n",
      "28/28 [==============================] - 0s 8ms/step - loss: 214.5015 - val_loss: 1054.6931\n",
      "Epoch 165/500\n",
      "28/28 [==============================] - 0s 8ms/step - loss: 212.1789 - val_loss: 1060.2733\n",
      "Epoch 166/500\n",
      "28/28 [==============================] - 0s 12ms/step - loss: 210.9760 - val_loss: 1054.8431\n",
      "Epoch 167/500\n",
      "28/28 [==============================] - 0s 9ms/step - loss: 209.6152 - val_loss: 1057.6105\n",
      "Epoch 168/500\n",
      "28/28 [==============================] - 0s 9ms/step - loss: 208.9222 - val_loss: 1052.6978\n",
      "Epoch 169/500\n",
      "28/28 [==============================] - 0s 8ms/step - loss: 210.5237 - val_loss: 1060.8884\n",
      "Epoch 170/500\n",
      "28/28 [==============================] - 0s 8ms/step - loss: 208.5289 - val_loss: 1053.3142\n",
      "Epoch 171/500\n",
      "28/28 [==============================] - 0s 15ms/step - loss: 206.3313 - val_loss: 1045.7422\n",
      "Epoch 172/500\n",
      "28/28 [==============================] - 0s 12ms/step - loss: 205.5187 - val_loss: 1047.9684\n",
      "Epoch 173/500\n",
      "28/28 [==============================] - 0s 7ms/step - loss: 212.9807 - val_loss: 1052.2239\n",
      "Epoch 174/500\n",
      "28/28 [==============================] - 0s 5ms/step - loss: 227.1592 - val_loss: 1054.0836\n",
      "Epoch 175/500\n",
      "28/28 [==============================] - 0s 5ms/step - loss: 212.4968 - val_loss: 1061.3765\n",
      "Epoch 176/500\n",
      "28/28 [==============================] - 0s 5ms/step - loss: 210.6167 - val_loss: 1058.0442\n",
      "Epoch 177/500\n",
      "28/28 [==============================] - 0s 4ms/step - loss: 209.0149 - val_loss: 1053.4894\n",
      "Epoch 178/500\n",
      "28/28 [==============================] - 0s 4ms/step - loss: 207.5456 - val_loss: 1045.8241\n",
      "Epoch 179/500\n",
      "28/28 [==============================] - 0s 5ms/step - loss: 216.2311 - val_loss: 1009.8914\n",
      "Epoch 180/500\n",
      "28/28 [==============================] - 0s 5ms/step - loss: 209.5633 - val_loss: 1001.7036\n",
      "Epoch 181/500\n",
      "28/28 [==============================] - 0s 5ms/step - loss: 208.2982 - val_loss: 1011.4182\n",
      "Epoch 182/500\n",
      "28/28 [==============================] - 0s 5ms/step - loss: 204.6170 - val_loss: 1009.5594\n",
      "Epoch 183/500\n",
      "28/28 [==============================] - 0s 5ms/step - loss: 202.4053 - val_loss: 1005.0509\n",
      "Epoch 184/500\n",
      "28/28 [==============================] - 0s 4ms/step - loss: 200.0506 - val_loss: 977.2234\n",
      "Epoch 185/500\n",
      "28/28 [==============================] - 0s 4ms/step - loss: 210.6798 - val_loss: 992.1747\n",
      "Epoch 186/500\n",
      "28/28 [==============================] - 0s 4ms/step - loss: 207.2648 - val_loss: 1008.7488\n",
      "Epoch 187/500\n",
      "28/28 [==============================] - 0s 5ms/step - loss: 204.9641 - val_loss: 1009.5760\n",
      "Epoch 188/500\n",
      "28/28 [==============================] - 0s 4ms/step - loss: 213.0878 - val_loss: 1054.3552\n",
      "Epoch 189/500\n",
      "28/28 [==============================] - 0s 5ms/step - loss: 207.5037 - val_loss: 1032.3618\n",
      "Epoch 190/500\n",
      "28/28 [==============================] - 0s 4ms/step - loss: 204.1031 - val_loss: 1024.1711\n",
      "Epoch 191/500\n",
      "28/28 [==============================] - 0s 5ms/step - loss: 212.0375 - val_loss: 1022.3114\n",
      "Epoch 192/500\n",
      "28/28 [==============================] - 0s 4ms/step - loss: 210.2263 - val_loss: 1025.2319\n",
      "Epoch 193/500\n",
      "28/28 [==============================] - 0s 4ms/step - loss: 208.6185 - val_loss: 1026.9368\n",
      "Epoch 194/500\n",
      "28/28 [==============================] - 0s 5ms/step - loss: 205.5428 - val_loss: 1025.3910\n",
      "Epoch 195/500\n",
      "28/28 [==============================] - 0s 5ms/step - loss: 203.2900 - val_loss: 1023.8614\n",
      "Epoch 196/500\n",
      "28/28 [==============================] - 0s 4ms/step - loss: 201.7896 - val_loss: 1028.6626\n",
      "Epoch 197/500\n",
      "28/28 [==============================] - 0s 5ms/step - loss: 200.2271 - val_loss: 1027.6027\n",
      "Epoch 198/500\n",
      "28/28 [==============================] - 0s 4ms/step - loss: 199.3185 - val_loss: 1023.5095\n",
      "Epoch 199/500\n",
      "28/28 [==============================] - 0s 4ms/step - loss: 198.2509 - val_loss: 1026.1654\n",
      "Epoch 200/500\n",
      "28/28 [==============================] - 0s 5ms/step - loss: 197.3862 - val_loss: 1023.1746\n",
      "Epoch 201/500\n",
      "28/28 [==============================] - 0s 5ms/step - loss: 196.7667 - val_loss: 1019.4646\n",
      "Epoch 202/500\n",
      "28/28 [==============================] - 0s 5ms/step - loss: 196.0357 - val_loss: 1018.7709\n",
      "Epoch 203/500\n",
      "28/28 [==============================] - 0s 5ms/step - loss: 195.3362 - val_loss: 1022.3763\n",
      "Epoch 204/500\n",
      "28/28 [==============================] - 0s 4ms/step - loss: 195.5303 - val_loss: 1027.4844\n",
      "Epoch 205/500\n",
      "28/28 [==============================] - 0s 5ms/step - loss: 194.3855 - val_loss: 1022.0826\n",
      "Epoch 206/500\n",
      "28/28 [==============================] - 0s 5ms/step - loss: 193.9042 - val_loss: 1015.1520\n",
      "Epoch 207/500\n",
      "28/28 [==============================] - 0s 4ms/step - loss: 192.2553 - val_loss: 1016.9339\n",
      "Epoch 208/500\n",
      "28/28 [==============================] - 0s 4ms/step - loss: 190.8645 - val_loss: 1016.3635\n",
      "Epoch 209/500\n",
      "28/28 [==============================] - 0s 4ms/step - loss: 189.7943 - val_loss: 1012.6202\n",
      "Epoch 210/500\n",
      "28/28 [==============================] - 0s 4ms/step - loss: 196.5384 - val_loss: 1045.6302\n",
      "Epoch 211/500\n",
      "28/28 [==============================] - 0s 4ms/step - loss: 194.7493 - val_loss: 1042.6115\n",
      "Epoch 212/500\n",
      "28/28 [==============================] - 0s 5ms/step - loss: 192.8260 - val_loss: 1029.7471\n",
      "Epoch 213/500\n",
      "28/28 [==============================] - 0s 5ms/step - loss: 207.0995 - val_loss: 1028.6072\n",
      "Epoch 214/500\n",
      "28/28 [==============================] - 0s 5ms/step - loss: 205.9029 - val_loss: 1029.6461\n",
      "Epoch 215/500\n",
      "28/28 [==============================] - 0s 5ms/step - loss: 204.5166 - val_loss: 1030.7758\n",
      "Epoch 216/500\n",
      "28/28 [==============================] - 0s 5ms/step - loss: 203.3961 - val_loss: 1031.1892\n",
      "Epoch 217/500\n",
      "28/28 [==============================] - 0s 5ms/step - loss: 202.3786 - val_loss: 1032.4178\n",
      "Epoch 218/500\n",
      "28/28 [==============================] - 0s 12ms/step - loss: 201.3563 - val_loss: 1031.0477\n",
      "Epoch 219/500\n",
      "28/28 [==============================] - 0s 8ms/step - loss: 200.1344 - val_loss: 1028.2834\n",
      "Epoch 220/500\n",
      "28/28 [==============================] - 0s 6ms/step - loss: 199.1730 - val_loss: 1019.9216\n",
      "Epoch 221/500\n",
      "28/28 [==============================] - 0s 5ms/step - loss: 208.7528 - val_loss: 1051.9761\n",
      "Epoch 222/500\n",
      "28/28 [==============================] - 0s 6ms/step - loss: 203.7929 - val_loss: 1038.0737\n",
      "Epoch 223/500\n",
      "28/28 [==============================] - 0s 8ms/step - loss: 201.2853 - val_loss: 1032.5833\n",
      "Epoch 224/500\n",
      "28/28 [==============================] - 0s 6ms/step - loss: 200.2959 - val_loss: 1028.0308\n",
      "Epoch 225/500\n",
      "28/28 [==============================] - 0s 6ms/step - loss: 199.4306 - val_loss: 1022.2886\n",
      "Epoch 226/500\n",
      "28/28 [==============================] - 0s 6ms/step - loss: 198.6871 - val_loss: 1017.6068\n",
      "Epoch 227/500\n",
      "28/28 [==============================] - 0s 5ms/step - loss: 188.6751 - val_loss: 942.5709\n",
      "Epoch 228/500\n",
      "28/28 [==============================] - 0s 5ms/step - loss: 199.2883 - val_loss: 946.1482\n",
      "Epoch 229/500\n",
      "28/28 [==============================] - 0s 5ms/step - loss: 197.7068 - val_loss: 949.9001\n",
      "Epoch 230/500\n",
      "28/28 [==============================] - 0s 4ms/step - loss: 195.2111 - val_loss: 953.0550\n",
      "Epoch 231/500\n",
      "28/28 [==============================] - 0s 5ms/step - loss: 193.5758 - val_loss: 957.0983\n",
      "Epoch 232/500\n",
      "28/28 [==============================] - 0s 5ms/step - loss: 192.5117 - val_loss: 957.5763\n",
      "Epoch 233/500\n",
      "28/28 [==============================] - 0s 4ms/step - loss: 215.3223 - val_loss: 993.2790\n",
      "Epoch 234/500\n",
      "28/28 [==============================] - 0s 5ms/step - loss: 192.4271 - val_loss: 959.8144\n",
      "Epoch 235/500\n",
      "28/28 [==============================] - 0s 4ms/step - loss: 197.4177 - val_loss: 943.7371\n",
      "Epoch 236/500\n",
      "28/28 [==============================] - 0s 4ms/step - loss: 191.9101 - val_loss: 937.2240\n",
      "Epoch 237/500\n",
      "28/28 [==============================] - 0s 5ms/step - loss: 189.7300 - val_loss: 938.9249\n",
      "Epoch 238/500\n",
      "28/28 [==============================] - 0s 5ms/step - loss: 186.2798 - val_loss: 933.0247\n",
      "Epoch 239/500\n",
      "28/28 [==============================] - 0s 5ms/step - loss: 183.8922 - val_loss: 932.5685\n",
      "Epoch 240/500\n",
      "28/28 [==============================] - 0s 5ms/step - loss: 182.4756 - val_loss: 932.1179\n",
      "Epoch 241/500\n",
      "28/28 [==============================] - 0s 4ms/step - loss: 189.3611 - val_loss: 964.2313\n",
      "Epoch 242/500\n",
      "28/28 [==============================] - 0s 5ms/step - loss: 190.4956 - val_loss: 1007.3932\n",
      "Epoch 243/500\n",
      "28/28 [==============================] - 0s 5ms/step - loss: 185.0444 - val_loss: 944.4749\n",
      "Epoch 244/500\n",
      "28/28 [==============================] - 0s 5ms/step - loss: 171.5673 - val_loss: 904.6388\n",
      "Epoch 245/500\n",
      "28/28 [==============================] - 0s 4ms/step - loss: 179.5456 - val_loss: 950.3071\n",
      "Epoch 246/500\n",
      "28/28 [==============================] - 0s 5ms/step - loss: 179.0242 - val_loss: 946.6939\n",
      "Epoch 247/500\n",
      "28/28 [==============================] - 0s 11ms/step - loss: 179.6479 - val_loss: 951.8288\n",
      "Epoch 248/500\n",
      "28/28 [==============================] - 0s 5ms/step - loss: 178.8188 - val_loss: 929.4221\n",
      "Epoch 249/500\n",
      "28/28 [==============================] - 0s 6ms/step - loss: 198.4025 - val_loss: 923.9752\n",
      "Epoch 250/500\n",
      "28/28 [==============================] - 0s 6ms/step - loss: 195.8971 - val_loss: 929.7329\n",
      "Epoch 251/500\n",
      "28/28 [==============================] - 0s 5ms/step - loss: 194.2013 - val_loss: 936.0401\n",
      "Epoch 252/500\n",
      "28/28 [==============================] - 0s 6ms/step - loss: 192.3118 - val_loss: 939.1871\n",
      "Epoch 253/500\n",
      "28/28 [==============================] - 0s 4ms/step - loss: 190.8796 - val_loss: 943.9595\n",
      "Epoch 254/500\n",
      "28/28 [==============================] - 0s 4ms/step - loss: 189.6168 - val_loss: 949.0149\n",
      "Epoch 255/500\n",
      "28/28 [==============================] - 0s 5ms/step - loss: 188.5330 - val_loss: 951.7573\n",
      "Epoch 256/500\n",
      "28/28 [==============================] - 0s 4ms/step - loss: 187.5551 - val_loss: 955.1530\n",
      "Epoch 257/500\n",
      "28/28 [==============================] - 0s 5ms/step - loss: 187.6050 - val_loss: 946.6606\n",
      "Epoch 258/500\n",
      "28/28 [==============================] - 0s 4ms/step - loss: 242.3431 - val_loss: 1146.1732\n",
      "Epoch 259/500\n",
      "28/28 [==============================] - 0s 4ms/step - loss: 216.1336 - val_loss: 1034.0796\n",
      "Epoch 260/500\n",
      "28/28 [==============================] - 0s 4ms/step - loss: 333.5884 - val_loss: 1005.9037\n",
      "Epoch 261/500\n",
      "28/28 [==============================] - 0s 4ms/step - loss: 319.6316 - val_loss: 1035.9840\n",
      "Epoch 262/500\n",
      "28/28 [==============================] - 0s 4ms/step - loss: 306.3346 - val_loss: 1064.9542\n",
      "Epoch 263/500\n",
      "28/28 [==============================] - 0s 4ms/step - loss: 296.2180 - val_loss: 1093.3701\n",
      "Epoch 264/500\n",
      "28/28 [==============================] - 0s 4ms/step - loss: 288.5788 - val_loss: 1116.1537\n",
      "Epoch 265/500\n",
      "28/28 [==============================] - 0s 4ms/step - loss: 281.7427 - val_loss: 1140.5796\n",
      "Epoch 266/500\n",
      "28/28 [==============================] - 0s 5ms/step - loss: 276.4627 - val_loss: 1159.1794\n",
      "Epoch 267/500\n",
      "28/28 [==============================] - 0s 4ms/step - loss: 272.0999 - val_loss: 1177.3270\n",
      "Epoch 268/500\n",
      "28/28 [==============================] - 0s 5ms/step - loss: 269.1318 - val_loss: 1192.5870\n",
      "Epoch 269/500\n",
      "28/28 [==============================] - 0s 4ms/step - loss: 266.7537 - val_loss: 1207.2847\n",
      "Epoch 270/500\n",
      "28/28 [==============================] - 0s 5ms/step - loss: 264.0100 - val_loss: 1204.1046\n",
      "Epoch 271/500\n",
      "28/28 [==============================] - 0s 4ms/step - loss: 262.1418 - val_loss: 1214.7612\n",
      "Epoch 272/500\n",
      "28/28 [==============================] - 0s 4ms/step - loss: 260.4771 - val_loss: 1223.9045\n",
      "Epoch 273/500\n",
      "28/28 [==============================] - 0s 4ms/step - loss: 259.1119 - val_loss: 1232.0494\n",
      "Epoch 274/500\n",
      "28/28 [==============================] - 0s 5ms/step - loss: 257.9305 - val_loss: 1236.9646\n",
      "Epoch 275/500\n",
      "28/28 [==============================] - 0s 4ms/step - loss: 256.9928 - val_loss: 1242.6270\n",
      "Epoch 276/500\n",
      "28/28 [==============================] - 0s 4ms/step - loss: 274.0314 - val_loss: 1303.2037\n",
      "Epoch 277/500\n",
      "28/28 [==============================] - 0s 9ms/step - loss: 265.2491 - val_loss: 1278.4620\n",
      "Epoch 278/500\n",
      "28/28 [==============================] - 0s 5ms/step - loss: 258.6948 - val_loss: 1262.8969\n",
      "Epoch 279/500\n",
      "28/28 [==============================] - 0s 5ms/step - loss: 256.0399 - val_loss: 1248.8293\n",
      "Epoch 280/500\n",
      "28/28 [==============================] - 0s 5ms/step - loss: 251.2917 - val_loss: 1234.8331\n",
      "Epoch 281/500\n",
      "28/28 [==============================] - 0s 5ms/step - loss: 246.4875 - val_loss: 1218.7079\n",
      "Epoch 282/500\n",
      "28/28 [==============================] - 0s 4ms/step - loss: 271.4808 - val_loss: 1228.3265\n",
      "Epoch 283/500\n",
      "28/28 [==============================] - 0s 4ms/step - loss: 269.6124 - val_loss: 1236.8711\n",
      "Epoch 284/500\n",
      "28/28 [==============================] - 0s 4ms/step - loss: 267.4746 - val_loss: 1237.7723\n",
      "Epoch 285/500\n",
      "28/28 [==============================] - 0s 5ms/step - loss: 265.9746 - val_loss: 1244.9918\n",
      "Epoch 286/500\n",
      "28/28 [==============================] - 0s 4ms/step - loss: 264.7922 - val_loss: 1249.3784\n",
      "Epoch 287/500\n",
      "28/28 [==============================] - 0s 5ms/step - loss: 263.7798 - val_loss: 1256.7037\n",
      "Epoch 288/500\n",
      "28/28 [==============================] - 0s 5ms/step - loss: 262.7020 - val_loss: 1258.1526\n",
      "Epoch 289/500\n",
      "28/28 [==============================] - 0s 4ms/step - loss: 261.1512 - val_loss: 1258.0616\n",
      "Epoch 290/500\n",
      "28/28 [==============================] - 0s 5ms/step - loss: 261.3257 - val_loss: 1258.6401\n",
      "Epoch 291/500\n",
      "28/28 [==============================] - 0s 4ms/step - loss: 269.0171 - val_loss: 1289.2325\n",
      "Epoch 292/500\n",
      "28/28 [==============================] - 0s 4ms/step - loss: 265.9510 - val_loss: 1275.8342\n",
      "Epoch 293/500\n",
      "28/28 [==============================] - 0s 4ms/step - loss: 262.8868 - val_loss: 1212.9329\n",
      "Epoch 294/500\n",
      "28/28 [==============================] - 0s 4ms/step - loss: 262.0985 - val_loss: 1246.3043\n",
      "Epoch 295/500\n",
      "28/28 [==============================] - 0s 5ms/step - loss: 284.5363 - val_loss: 1243.4756\n",
      "Epoch 296/500\n",
      "28/28 [==============================] - 0s 4ms/step - loss: 280.3936 - val_loss: 1253.9451\n",
      "Epoch 297/500\n",
      "28/28 [==============================] - 0s 4ms/step - loss: 278.3687 - val_loss: 1264.0278\n",
      "Epoch 298/500\n",
      "28/28 [==============================] - 0s 5ms/step - loss: 276.1880 - val_loss: 1273.5056\n",
      "Epoch 299/500\n",
      "28/28 [==============================] - 0s 5ms/step - loss: 274.7226 - val_loss: 1281.6925\n",
      "Epoch 300/500\n",
      "28/28 [==============================] - 0s 4ms/step - loss: 273.2759 - val_loss: 1288.7804\n",
      "Epoch 301/500\n",
      "28/28 [==============================] - 0s 4ms/step - loss: 272.0130 - val_loss: 1297.5907\n",
      "Epoch 302/500\n",
      "28/28 [==============================] - 0s 4ms/step - loss: 270.9679 - val_loss: 1302.7629\n",
      "Epoch 303/500\n",
      "28/28 [==============================] - 0s 5ms/step - loss: 270.1699 - val_loss: 1304.4495\n",
      "Epoch 304/500\n",
      "28/28 [==============================] - 0s 4ms/step - loss: 269.3025 - val_loss: 1309.1819\n",
      "Epoch 305/500\n",
      "28/28 [==============================] - 0s 4ms/step - loss: 268.5181 - val_loss: 1313.5326\n",
      "Epoch 306/500\n",
      "28/28 [==============================] - 0s 5ms/step - loss: 267.6437 - val_loss: 1315.5208\n",
      "Epoch 307/500\n",
      "28/28 [==============================] - 0s 4ms/step - loss: 267.0807 - val_loss: 1294.9275\n",
      "Epoch 308/500\n",
      "28/28 [==============================] - 0s 10ms/step - loss: 266.6170 - val_loss: 1298.7941\n",
      "Epoch 309/500\n",
      "28/28 [==============================] - 0s 5ms/step - loss: 265.9284 - val_loss: 1302.7500\n",
      "Epoch 310/500\n",
      "28/28 [==============================] - 0s 6ms/step - loss: 265.2373 - val_loss: 1305.8542\n",
      "Epoch 311/500\n",
      "28/28 [==============================] - 0s 5ms/step - loss: 264.5934 - val_loss: 1307.0540\n",
      "Epoch 312/500\n",
      "28/28 [==============================] - 0s 5ms/step - loss: 263.9932 - val_loss: 1310.8179\n",
      "Epoch 313/500\n",
      "28/28 [==============================] - 0s 5ms/step - loss: 263.4227 - val_loss: 1312.6031\n",
      "Epoch 314/500\n",
      "28/28 [==============================] - 0s 5ms/step - loss: 262.8802 - val_loss: 1313.9707\n",
      "Epoch 315/500\n",
      "28/28 [==============================] - 0s 4ms/step - loss: 262.3601 - val_loss: 1315.0343\n",
      "Epoch 316/500\n",
      "28/28 [==============================] - 0s 4ms/step - loss: 261.8577 - val_loss: 1315.8855\n",
      "Epoch 317/500\n",
      "28/28 [==============================] - 0s 5ms/step - loss: 261.3699 - val_loss: 1316.4226\n",
      "Epoch 318/500\n",
      "28/28 [==============================] - 0s 4ms/step - loss: 260.8944 - val_loss: 1316.7957\n",
      "Epoch 319/500\n",
      "28/28 [==============================] - 0s 4ms/step - loss: 260.4288 - val_loss: 1316.9060\n",
      "Epoch 320/500\n",
      "28/28 [==============================] - 0s 5ms/step - loss: 259.9719 - val_loss: 1316.8701\n",
      "Epoch 321/500\n",
      "28/28 [==============================] - 0s 4ms/step - loss: 259.5215 - val_loss: 1316.6326\n",
      "Epoch 322/500\n",
      "28/28 [==============================] - 0s 5ms/step - loss: 259.0763 - val_loss: 1316.2258\n",
      "Epoch 323/500\n",
      "28/28 [==============================] - 0s 5ms/step - loss: 258.6351 - val_loss: 1315.6958\n",
      "Epoch 324/500\n",
      "28/28 [==============================] - 0s 4ms/step - loss: 258.1988 - val_loss: 1315.1333\n",
      "Epoch 325/500\n",
      "28/28 [==============================] - 0s 4ms/step - loss: 257.7661 - val_loss: 1314.4224\n",
      "Epoch 326/500\n",
      "28/28 [==============================] - 0s 5ms/step - loss: 257.3367 - val_loss: 1313.6652\n",
      "Epoch 327/500\n",
      "28/28 [==============================] - 0s 4ms/step - loss: 256.9099 - val_loss: 1312.8234\n",
      "Epoch 328/500\n",
      "28/28 [==============================] - 0s 4ms/step - loss: 256.4849 - val_loss: 1311.9170\n",
      "Epoch 329/500\n",
      "28/28 [==============================] - 0s 4ms/step - loss: 256.0618 - val_loss: 1310.9535\n",
      "Epoch 330/500\n",
      "28/28 [==============================] - 0s 5ms/step - loss: 255.6400 - val_loss: 1309.9293\n",
      "Epoch 331/500\n",
      "28/28 [==============================] - 0s 4ms/step - loss: 255.2195 - val_loss: 1308.8370\n",
      "Epoch 332/500\n",
      "28/28 [==============================] - 0s 4ms/step - loss: 254.7998 - val_loss: 1307.6818\n",
      "Epoch 333/500\n",
      "28/28 [==============================] - 0s 5ms/step - loss: 254.3810 - val_loss: 1306.4658\n",
      "Epoch 334/500\n",
      "28/28 [==============================] - 0s 4ms/step - loss: 253.9628 - val_loss: 1305.2090\n",
      "Epoch 335/500\n",
      "28/28 [==============================] - 0s 4ms/step - loss: 253.5452 - val_loss: 1303.8986\n",
      "Epoch 336/500\n",
      "28/28 [==============================] - 0s 5ms/step - loss: 253.1277 - val_loss: 1302.5269\n",
      "Epoch 337/500\n",
      "28/28 [==============================] - 0s 10ms/step - loss: 252.7111 - val_loss: 1300.9850\n",
      "Epoch 338/500\n",
      "28/28 [==============================] - 0s 5ms/step - loss: 252.2950 - val_loss: 1299.3103\n",
      "Epoch 339/500\n",
      "28/28 [==============================] - 0s 5ms/step - loss: 251.8850 - val_loss: 1295.6874\n",
      "Epoch 340/500\n",
      "28/28 [==============================] - 0s 5ms/step - loss: 251.5075 - val_loss: 1290.0712\n",
      "Epoch 341/500\n",
      "28/28 [==============================] - 0s 5ms/step - loss: 251.4463 - val_loss: 1276.3778\n",
      "Epoch 342/500\n",
      "28/28 [==============================] - 0s 5ms/step - loss: 290.4689 - val_loss: 1286.6246\n",
      "Epoch 343/500\n",
      "28/28 [==============================] - 0s 5ms/step - loss: 288.3076 - val_loss: 1314.2429\n",
      "Epoch 344/500\n",
      "28/28 [==============================] - 0s 4ms/step - loss: 259.4832 - val_loss: 1332.5708\n",
      "Epoch 345/500\n",
      "28/28 [==============================] - 0s 5ms/step - loss: 264.7879 - val_loss: 1343.2694\n",
      "Epoch 346/500\n",
      "28/28 [==============================] - 0s 4ms/step - loss: 248.5060 - val_loss: 1296.4156\n",
      "Epoch 347/500\n",
      "28/28 [==============================] - 0s 4ms/step - loss: 251.1460 - val_loss: 1305.7683\n",
      "Epoch 348/500\n",
      "28/28 [==============================] - 0s 5ms/step - loss: 248.5901 - val_loss: 1291.8354\n",
      "Epoch 349/500\n",
      "28/28 [==============================] - 0s 4ms/step - loss: 246.6783 - val_loss: 1286.3169\n",
      "Epoch 350/500\n",
      "28/28 [==============================] - 0s 6ms/step - loss: 246.2754 - val_loss: 1283.8309\n",
      "Epoch 351/500\n",
      "28/28 [==============================] - 0s 5ms/step - loss: 245.9487 - val_loss: 1280.7445\n",
      "Epoch 352/500\n",
      "28/28 [==============================] - 0s 5ms/step - loss: 245.6521 - val_loss: 1276.8180\n",
      "Epoch 353/500\n",
      "28/28 [==============================] - 0s 5ms/step - loss: 278.2423 - val_loss: 1321.7079\n",
      "Epoch 354/500\n",
      "28/28 [==============================] - 0s 5ms/step - loss: 254.9988 - val_loss: 1320.8535\n",
      "Epoch 355/500\n",
      "28/28 [==============================] - 0s 4ms/step - loss: 248.2454 - val_loss: 1273.0641\n",
      "Epoch 356/500\n",
      "28/28 [==============================] - 0s 4ms/step - loss: 261.1643 - val_loss: 1351.4927\n",
      "Epoch 357/500\n",
      "28/28 [==============================] - 0s 4ms/step - loss: 257.3279 - val_loss: 1342.2683\n",
      "Epoch 358/500\n",
      "28/28 [==============================] - 0s 4ms/step - loss: 256.5754 - val_loss: 1328.8364\n",
      "Epoch 359/500\n",
      "28/28 [==============================] - 0s 4ms/step - loss: 244.4727 - val_loss: 1237.5208\n",
      "Epoch 360/500\n",
      "28/28 [==============================] - 0s 5ms/step - loss: 252.8301 - val_loss: 1230.9197\n",
      "Epoch 361/500\n",
      "28/28 [==============================] - 0s 4ms/step - loss: 252.0899 - val_loss: 1227.1705\n",
      "Epoch 362/500\n",
      "28/28 [==============================] - 0s 5ms/step - loss: 271.2116 - val_loss: 1282.6051\n",
      "Epoch 363/500\n",
      "28/28 [==============================] - 0s 4ms/step - loss: 255.5501 - val_loss: 1251.5265\n",
      "Epoch 364/500\n",
      "28/28 [==============================] - 0s 4ms/step - loss: 249.0209 - val_loss: 1234.8556\n",
      "Epoch 365/500\n",
      "28/28 [==============================] - 0s 8ms/step - loss: 246.0200 - val_loss: 1224.7288\n",
      "Epoch 366/500\n",
      "28/28 [==============================] - 0s 7ms/step - loss: 242.5133 - val_loss: 1216.5577\n",
      "Epoch 367/500\n",
      "28/28 [==============================] - 0s 6ms/step - loss: 240.3503 - val_loss: 1212.7791\n",
      "Epoch 368/500\n",
      "28/28 [==============================] - 0s 5ms/step - loss: 238.9924 - val_loss: 1211.5757\n",
      "Epoch 369/500\n",
      "28/28 [==============================] - 0s 5ms/step - loss: 238.4928 - val_loss: 1212.4302\n",
      "Epoch 370/500\n",
      "28/28 [==============================] - 0s 5ms/step - loss: 237.9954 - val_loss: 1212.8732\n",
      "Epoch 371/500\n",
      "28/28 [==============================] - 0s 5ms/step - loss: 237.5381 - val_loss: 1213.3562\n",
      "Epoch 372/500\n",
      "28/28 [==============================] - 0s 6ms/step - loss: 237.0366 - val_loss: 1214.3256\n",
      "Epoch 373/500\n",
      "28/28 [==============================] - 0s 5ms/step - loss: 236.5545 - val_loss: 1214.9502\n",
      "Epoch 374/500\n",
      "28/28 [==============================] - 0s 5ms/step - loss: 236.1291 - val_loss: 1214.4309\n",
      "Epoch 375/500\n",
      "28/28 [==============================] - 0s 7ms/step - loss: 235.6612 - val_loss: 1215.0232\n",
      "Epoch 376/500\n",
      "28/28 [==============================] - 0s 6ms/step - loss: 235.2242 - val_loss: 1214.5959\n",
      "Epoch 377/500\n",
      "28/28 [==============================] - 0s 6ms/step - loss: 234.8117 - val_loss: 1213.1924\n",
      "Epoch 378/500\n",
      "28/28 [==============================] - 0s 5ms/step - loss: 234.3661 - val_loss: 1213.5637\n",
      "Epoch 379/500\n",
      "28/28 [==============================] - 0s 7ms/step - loss: 233.9540 - val_loss: 1211.8704\n",
      "Epoch 380/500\n",
      "28/28 [==============================] - 0s 5ms/step - loss: 233.5238 - val_loss: 1211.9292\n",
      "Epoch 381/500\n",
      "28/28 [==============================] - 0s 5ms/step - loss: 233.1204 - val_loss: 1210.9000\n",
      "Epoch 382/500\n",
      "28/28 [==============================] - 0s 5ms/step - loss: 232.7075 - val_loss: 1211.4857\n",
      "Epoch 383/500\n",
      "28/28 [==============================] - 0s 5ms/step - loss: 232.2974 - val_loss: 1210.1395\n",
      "Epoch 384/500\n",
      "28/28 [==============================] - 0s 4ms/step - loss: 231.8839 - val_loss: 1209.2650\n",
      "Epoch 385/500\n",
      "28/28 [==============================] - 0s 4ms/step - loss: 231.4559 - val_loss: 1208.6571\n",
      "Epoch 386/500\n",
      "28/28 [==============================] - 0s 4ms/step - loss: 231.0464 - val_loss: 1207.9039\n",
      "Epoch 387/500\n",
      "28/28 [==============================] - 0s 4ms/step - loss: 230.4932 - val_loss: 1205.8485\n",
      "Epoch 388/500\n",
      "28/28 [==============================] - 0s 4ms/step - loss: 230.1673 - val_loss: 1204.3407\n",
      "Epoch 389/500\n",
      "28/28 [==============================] - 0s 4ms/step - loss: 229.6649 - val_loss: 1205.0563\n",
      "Epoch 390/500\n",
      "28/28 [==============================] - 0s 4ms/step - loss: 229.1682 - val_loss: 1203.1901\n",
      "Epoch 391/500\n",
      "28/28 [==============================] - 0s 4ms/step - loss: 228.7897 - val_loss: 1202.4919\n",
      "Epoch 392/500\n",
      "28/28 [==============================] - 0s 12ms/step - loss: 228.3844 - val_loss: 1200.3823\n",
      "Epoch 393/500\n",
      "28/28 [==============================] - 0s 8ms/step - loss: 228.1120 - val_loss: 1198.8340\n",
      "Epoch 394/500\n",
      "28/28 [==============================] - 0s 5ms/step - loss: 227.5816 - val_loss: 1197.8389\n",
      "Epoch 395/500\n",
      "28/28 [==============================] - 0s 6ms/step - loss: 227.2301 - val_loss: 1197.3065\n",
      "Epoch 396/500\n",
      "28/28 [==============================] - 0s 7ms/step - loss: 227.4197 - val_loss: 1183.4192\n",
      "Epoch 397/500\n",
      "28/28 [==============================] - 0s 6ms/step - loss: 276.7132 - val_loss: 1367.8617\n",
      "Epoch 398/500\n",
      "28/28 [==============================] - 0s 5ms/step - loss: 263.7706 - val_loss: 1365.3254\n",
      "Epoch 399/500\n",
      "28/28 [==============================] - 0s 5ms/step - loss: 263.3858 - val_loss: 1361.5601\n",
      "Epoch 400/500\n",
      "28/28 [==============================] - 0s 5ms/step - loss: 262.9477 - val_loss: 1357.8225\n",
      "Epoch 401/500\n",
      "28/28 [==============================] - 0s 6ms/step - loss: 262.7209 - val_loss: 1353.4148\n",
      "Epoch 402/500\n",
      "28/28 [==============================] - 0s 7ms/step - loss: 262.1676 - val_loss: 1351.5986\n",
      "Epoch 403/500\n",
      "28/28 [==============================] - 0s 6ms/step - loss: 261.7806 - val_loss: 1348.5509\n",
      "Epoch 404/500\n",
      "28/28 [==============================] - 0s 5ms/step - loss: 261.4076 - val_loss: 1345.5496\n",
      "Epoch 405/500\n",
      "28/28 [==============================] - 0s 5ms/step - loss: 261.0315 - val_loss: 1342.9655\n",
      "Epoch 406/500\n",
      "28/28 [==============================] - 0s 4ms/step - loss: 260.6591 - val_loss: 1340.2228\n",
      "Epoch 407/500\n",
      "28/28 [==============================] - 0s 5ms/step - loss: 260.2883 - val_loss: 1337.8131\n",
      "Epoch 408/500\n",
      "28/28 [==============================] - 0s 4ms/step - loss: 259.9182 - val_loss: 1335.3193\n",
      "Epoch 409/500\n",
      "28/28 [==============================] - 0s 4ms/step - loss: 259.5487 - val_loss: 1332.7186\n",
      "Epoch 410/500\n",
      "28/28 [==============================] - 0s 4ms/step - loss: 259.1791 - val_loss: 1330.8685\n",
      "Epoch 411/500\n",
      "28/28 [==============================] - 0s 5ms/step - loss: 258.8093 - val_loss: 1328.8385\n",
      "Epoch 412/500\n",
      "28/28 [==============================] - 0s 4ms/step - loss: 258.4397 - val_loss: 1326.8054\n",
      "Epoch 413/500\n",
      "28/28 [==============================] - 0s 4ms/step - loss: 258.0703 - val_loss: 1324.7394\n",
      "Epoch 414/500\n",
      "28/28 [==============================] - 0s 10ms/step - loss: 257.7010 - val_loss: 1322.7899\n",
      "Epoch 415/500\n",
      "28/28 [==============================] - 0s 5ms/step - loss: 257.3318 - val_loss: 1320.9817\n",
      "Epoch 416/500\n",
      "28/28 [==============================] - 0s 5ms/step - loss: 256.9629 - val_loss: 1319.3213\n",
      "Epoch 417/500\n",
      "28/28 [==============================] - 0s 5ms/step - loss: 256.5941 - val_loss: 1317.4108\n",
      "Epoch 418/500\n",
      "28/28 [==============================] - 0s 5ms/step - loss: 256.2258 - val_loss: 1316.0850\n",
      "Epoch 419/500\n",
      "28/28 [==============================] - 0s 5ms/step - loss: 255.8576 - val_loss: 1314.0414\n",
      "Epoch 420/500\n",
      "28/28 [==============================] - 0s 5ms/step - loss: 255.4900 - val_loss: 1312.3562\n",
      "Epoch 421/500\n",
      "28/28 [==============================] - 0s 5ms/step - loss: 255.1227 - val_loss: 1310.7025\n",
      "Epoch 422/500\n",
      "28/28 [==============================] - 0s 5ms/step - loss: 254.7558 - val_loss: 1309.0328\n",
      "Epoch 423/500\n",
      "28/28 [==============================] - 0s 4ms/step - loss: 254.3892 - val_loss: 1307.3301\n",
      "Epoch 424/500\n",
      "28/28 [==============================] - 0s 4ms/step - loss: 254.0234 - val_loss: 1305.7791\n",
      "Epoch 425/500\n",
      "28/28 [==============================] - 0s 4ms/step - loss: 253.6580 - val_loss: 1304.4658\n",
      "Epoch 426/500\n",
      "28/28 [==============================] - 0s 5ms/step - loss: 253.2931 - val_loss: 1303.1425\n",
      "Epoch 427/500\n",
      "28/28 [==============================] - 0s 5ms/step - loss: 252.9288 - val_loss: 1301.6858\n",
      "Epoch 428/500\n",
      "28/28 [==============================] - 0s 5ms/step - loss: 252.5646 - val_loss: 1299.6477\n",
      "Epoch 429/500\n",
      "28/28 [==============================] - 0s 4ms/step - loss: 252.2012 - val_loss: 1298.7502\n",
      "Epoch 430/500\n",
      "28/28 [==============================] - 0s 4ms/step - loss: 251.8375 - val_loss: 1297.1594\n",
      "Epoch 431/500\n",
      "28/28 [==============================] - 0s 5ms/step - loss: 251.4756 - val_loss: 1294.7256\n",
      "Epoch 432/500\n",
      "28/28 [==============================] - 0s 5ms/step - loss: 251.1123 - val_loss: 1292.9238\n",
      "Epoch 433/500\n",
      "28/28 [==============================] - 0s 4ms/step - loss: 250.7523 - val_loss: 1291.3217\n",
      "Epoch 434/500\n",
      "28/28 [==============================] - 0s 4ms/step - loss: 250.3907 - val_loss: 1289.9596\n",
      "Epoch 435/500\n",
      "28/28 [==============================] - 0s 5ms/step - loss: 250.0302 - val_loss: 1288.5146\n",
      "Epoch 436/500\n",
      "28/28 [==============================] - 0s 4ms/step - loss: 249.6705 - val_loss: 1287.0184\n",
      "Epoch 437/500\n",
      "28/28 [==============================] - 0s 4ms/step - loss: 249.3116 - val_loss: 1285.5066\n",
      "Epoch 438/500\n",
      "28/28 [==============================] - 0s 5ms/step - loss: 248.9533 - val_loss: 1284.0315\n",
      "Epoch 439/500\n",
      "28/28 [==============================] - 0s 10ms/step - loss: 248.5955 - val_loss: 1282.5812\n",
      "Epoch 440/500\n",
      "28/28 [==============================] - 0s 6ms/step - loss: 248.2382 - val_loss: 1281.1266\n",
      "Epoch 441/500\n",
      "28/28 [==============================] - 0s 5ms/step - loss: 247.8816 - val_loss: 1279.6831\n",
      "Epoch 442/500\n",
      "28/28 [==============================] - 0s 5ms/step - loss: 247.5255 - val_loss: 1278.2461\n",
      "Epoch 443/500\n",
      "28/28 [==============================] - 0s 5ms/step - loss: 247.1701 - val_loss: 1276.8240\n",
      "Epoch 444/500\n",
      "28/28 [==============================] - 0s 5ms/step - loss: 246.8152 - val_loss: 1275.3862\n",
      "Epoch 445/500\n",
      "28/28 [==============================] - 0s 4ms/step - loss: 246.4610 - val_loss: 1273.9061\n",
      "Epoch 446/500\n",
      "28/28 [==============================] - 0s 5ms/step - loss: 246.1076 - val_loss: 1272.4803\n",
      "Epoch 447/500\n",
      "28/28 [==============================] - 0s 5ms/step - loss: 245.7546 - val_loss: 1271.0654\n",
      "Epoch 448/500\n",
      "28/28 [==============================] - 0s 9ms/step - loss: 245.4021 - val_loss: 1269.6604\n",
      "Epoch 449/500\n",
      "28/28 [==============================] - 0s 6ms/step - loss: 245.0503 - val_loss: 1268.2286\n",
      "Epoch 450/500\n",
      "28/28 [==============================] - 0s 5ms/step - loss: 244.6991 - val_loss: 1266.7959\n",
      "Epoch 451/500\n",
      "28/28 [==============================] - 0s 5ms/step - loss: 244.3486 - val_loss: 1265.3754\n",
      "Epoch 452/500\n",
      "28/28 [==============================] - 0s 5ms/step - loss: 243.9986 - val_loss: 1263.9185\n",
      "Epoch 453/500\n",
      "28/28 [==============================] - 0s 4ms/step - loss: 243.6493 - val_loss: 1262.5081\n",
      "Epoch 454/500\n",
      "28/28 [==============================] - 0s 5ms/step - loss: 243.3006 - val_loss: 1261.1136\n",
      "Epoch 455/500\n",
      "28/28 [==============================] - 0s 5ms/step - loss: 242.9522 - val_loss: 1259.7249\n",
      "Epoch 456/500\n",
      "28/28 [==============================] - 0s 4ms/step - loss: 242.6046 - val_loss: 1258.3048\n",
      "Epoch 457/500\n",
      "28/28 [==============================] - 0s 4ms/step - loss: 242.2576 - val_loss: 1256.8436\n",
      "Epoch 458/500\n",
      "28/28 [==============================] - 0s 5ms/step - loss: 241.9114 - val_loss: 1255.4441\n",
      "Epoch 459/500\n",
      "28/28 [==============================] - 0s 5ms/step - loss: 241.5657 - val_loss: 1254.0447\n",
      "Epoch 460/500\n",
      "28/28 [==============================] - 0s 5ms/step - loss: 241.2204 - val_loss: 1252.6522\n",
      "Epoch 461/500\n",
      "28/28 [==============================] - 0s 5ms/step - loss: 240.8757 - val_loss: 1251.2620\n",
      "Epoch 462/500\n",
      "28/28 [==============================] - 0s 5ms/step - loss: 240.5316 - val_loss: 1249.8771\n",
      "Epoch 463/500\n",
      "28/28 [==============================] - 0s 5ms/step - loss: 240.1881 - val_loss: 1248.5074\n",
      "Epoch 464/500\n",
      "28/28 [==============================] - 0s 5ms/step - loss: 239.8451 - val_loss: 1247.0955\n",
      "Epoch 465/500\n",
      "28/28 [==============================] - 0s 11ms/step - loss: 239.5029 - val_loss: 1245.6410\n",
      "Epoch 466/500\n",
      "28/28 [==============================] - 0s 10ms/step - loss: 239.1612 - val_loss: 1244.2330\n",
      "Epoch 467/500\n",
      "28/28 [==============================] - 0s 6ms/step - loss: 238.8202 - val_loss: 1242.8621\n",
      "Epoch 468/500\n",
      "28/28 [==============================] - 0s 5ms/step - loss: 238.4794 - val_loss: 1241.4427\n",
      "Epoch 469/500\n",
      "28/28 [==============================] - 0s 5ms/step - loss: 238.1397 - val_loss: 1240.0922\n",
      "Epoch 470/500\n",
      "28/28 [==============================] - 0s 5ms/step - loss: 237.7998 - val_loss: 1238.6415\n",
      "Epoch 471/500\n",
      "28/28 [==============================] - 0s 5ms/step - loss: 237.4616 - val_loss: 1237.3267\n",
      "Epoch 472/500\n",
      "28/28 [==============================] - 0s 5ms/step - loss: 237.1226 - val_loss: 1235.8115\n",
      "Epoch 473/500\n",
      "28/28 [==============================] - 0s 5ms/step - loss: 236.7860 - val_loss: 1234.5548\n",
      "Epoch 474/500\n",
      "28/28 [==============================] - 0s 4ms/step - loss: 236.4475 - val_loss: 1232.9169\n",
      "Epoch 475/500\n",
      "28/28 [==============================] - 0s 4ms/step - loss: 236.1130 - val_loss: 1231.7087\n",
      "Epoch 476/500\n",
      "28/28 [==============================] - 0s 5ms/step - loss: 235.7755 - val_loss: 1230.1400\n",
      "Epoch 477/500\n",
      "28/28 [==============================] - 0s 5ms/step - loss: 235.4417 - val_loss: 1229.0044\n",
      "Epoch 478/500\n",
      "28/28 [==============================] - 0s 5ms/step - loss: 235.1055 - val_loss: 1227.5649\n",
      "Epoch 479/500\n",
      "28/28 [==============================] - 0s 7ms/step - loss: 234.7719 - val_loss: 1226.0907\n",
      "Epoch 480/500\n",
      "28/28 [==============================] - 0s 5ms/step - loss: 234.4701 - val_loss: 1220.3688\n",
      "Epoch 481/500\n",
      "28/28 [==============================] - 0s 5ms/step - loss: 241.7570 - val_loss: 1235.7671\n",
      "Epoch 482/500\n",
      "28/28 [==============================] - 0s 5ms/step - loss: 248.8109 - val_loss: 1264.7263\n",
      "Epoch 483/500\n",
      "28/28 [==============================] - 0s 8ms/step - loss: 242.5053 - val_loss: 1247.9163\n",
      "Epoch 484/500\n",
      "28/28 [==============================] - 0s 6ms/step - loss: 239.9631 - val_loss: 1233.7433\n",
      "Epoch 485/500\n",
      "28/28 [==============================] - 0s 6ms/step - loss: 234.5322 - val_loss: 1209.7645\n",
      "Epoch 486/500\n",
      "28/28 [==============================] - 0s 5ms/step - loss: 248.1660 - val_loss: 1215.5524\n",
      "Epoch 487/500\n",
      "28/28 [==============================] - 0s 5ms/step - loss: 307.9590 - val_loss: 1209.3759\n",
      "Epoch 488/500\n",
      "28/28 [==============================] - 0s 6ms/step - loss: 303.6506 - val_loss: 1284.7781\n",
      "Epoch 489/500\n",
      "28/28 [==============================] - 0s 11ms/step - loss: 258.3307 - val_loss: 1242.6960\n",
      "Epoch 490/500\n",
      "28/28 [==============================] - 0s 5ms/step - loss: 294.3357 - val_loss: 1254.4933\n",
      "Epoch 491/500\n",
      "28/28 [==============================] - 0s 6ms/step - loss: 280.7318 - val_loss: 1272.6633\n",
      "Epoch 492/500\n",
      "28/28 [==============================] - 0s 6ms/step - loss: 259.7932 - val_loss: 1251.3206\n",
      "Epoch 493/500\n",
      "28/28 [==============================] - 0s 6ms/step - loss: 289.3672 - val_loss: 1259.9351\n",
      "Epoch 494/500\n",
      "28/28 [==============================] - 0s 6ms/step - loss: 370.4266 - val_loss: 1272.0052\n",
      "Epoch 495/500\n",
      "28/28 [==============================] - 0s 6ms/step - loss: 358.8796 - val_loss: 1313.5565\n",
      "Epoch 496/500\n",
      "28/28 [==============================] - 0s 6ms/step - loss: 313.5382 - val_loss: 1430.4526\n",
      "Epoch 497/500\n",
      "28/28 [==============================] - 0s 7ms/step - loss: 277.4836 - val_loss: 1376.2261\n",
      "Epoch 498/500\n",
      "28/28 [==============================] - 0s 6ms/step - loss: 268.6517 - val_loss: 1349.0842\n",
      "Epoch 499/500\n",
      "28/28 [==============================] - 0s 5ms/step - loss: 264.7339 - val_loss: 1334.7585\n",
      "Epoch 500/500\n",
      "28/28 [==============================] - 0s 5ms/step - loss: 257.8221 - val_loss: 1314.3984\n"
     ]
    }
   ],
   "source": [
    "C0 = tf.Variable(86.6465, name=\"C0\", trainable=True, dtype=tf.float32)\n",
    "K0 = tf.Variable(-0.0029, name=\"K0\", trainable=True, dtype=tf.float32)\n",
    "K1 = tf.Variable(-0.0003, name=\"K1\", trainable=True, dtype=tf.float32)\n",
    "a = tf.Variable(0.0000, name=\"a\", trainable=True, dtype=tf.float32)\n",
    "b = tf.Variable(0.0168, name=\"b\", trainable=True, dtype=tf.float32)\n",
    "c = tf.Variable(2.3581, name=\"c\", trainable=True, dtype=tf.float32)\n",
    "\n",
    "splitr = 0.8\n",
    "\n",
    "\n",
    "def loss_fn(y_true, y_pred):\n",
    "    squared_difference = tf.square(y_true[:, 0] - y_pred[:, 0])\n",
    "    #squared_difference2 = tf.square(y_true[:, 2]-y_pred[:, 2])\n",
    "    #squared_difference1 = tf.square(y_true[:, 1]-y_pred[:, 1])\n",
    "    epsilon = 1.5\n",
    "    squared_difference3 = tf.square(\n",
    "        y_pred[:, 1] - (\n",
    "            y_pred[:, 0] * (\n",
    "                K0 - K1 * (\n",
    "                    9 * a * tf.math.log((y_pred[:, 0] + epsilon) / C0) / (K0 - K1 * c)**2 +\n",
    "                    4 * b * tf.math.log((y_pred[:, 0] + epsilon) / C0) / (K0 - K1 * c) + c\n",
    "                )\n",
    "            )\n",
    "        )\n",
    "    )\n",
    "    return tf.reduce_mean(squared_difference, axis=-1) + 0.2*tf.reduce_mean(squared_difference3, axis=-1)\n",
    "model = Sequential()\n",
    "model.add(LSTM(100, input_shape=(trainX.shape[1], trainX.shape[2])))\n",
    "model.add(Dense(60))\n",
    "model.compile(loss=loss_fn, optimizer='adam')\n",
    "history = model.fit(trainX[:int(splitr*trainX.shape[0])], trainy[:int(splitr*trainX.shape[0])], epochs=500, batch_size=64, validation_data=(trainX[int(splitr*trainX.shape[0]):trainX.shape[0]], trainy[int(splitr*trainX.shape[0]):trainX.shape[0]]), shuffle=False)"
   ]
  },
  {
   "cell_type": "code",
   "execution_count": 19,
   "metadata": {
    "colab": {
     "base_uri": "https://localhost:8080/"
    },
    "id": "yJL101rPyuoT",
    "outputId": "239ff2b1-c186-423a-d316-939dfdd7c793"
   },
   "outputs": [
    {
     "name": "stdout",
     "output_type": "stream",
     "text": [
      "1/1 [==============================] - 0s 414ms/step\n"
     ]
    }
   ],
   "source": [
    "forecast_without_mc = forecastX\n",
    "yhat_without_mc = model.predict(forecast_without_mc) # Step Ahead Prediction\n",
    "forecast_without_mc = forecast_without_mc.reshape((forecast_without_mc.shape[0], forecast_without_mc.shape[2])) # Historical Input"
   ]
  },
  {
   "cell_type": "code",
   "execution_count": 20,
   "metadata": {
    "colab": {
     "base_uri": "https://localhost:8080/"
    },
    "id": "g9dQELcJ8wbp",
    "outputId": "4dc7671b-b1a8-48d5-8744-a86f98446109"
   },
   "outputs": [
    {
     "data": {
      "text/plain": [
       "(1, 1, 126)"
      ]
     },
     "execution_count": 20,
     "metadata": {},
     "output_type": "execute_result"
    }
   ],
   "source": [
    "forecastX.shape"
   ]
  },
  {
   "cell_type": "code",
   "execution_count": 21,
   "metadata": {
    "colab": {
     "base_uri": "https://localhost:8080/"
    },
    "id": "IS2kyIKG1Kbr",
    "outputId": "f31b3485-8e26-452f-9298-ea8bf7e80ad1"
   },
   "outputs": [
    {
     "data": {
      "text/plain": [
       "(1, 126)"
      ]
     },
     "execution_count": 21,
     "metadata": {},
     "output_type": "execute_result"
    }
   ],
   "source": [
    "forecast_without_mc.shape"
   ]
  },
  {
   "cell_type": "code",
   "execution_count": 22,
   "metadata": {
    "id": "0u6VIzaDyuoT"
   },
   "outputs": [],
   "source": [
    "inv_yhat_without_mc = np.concatenate((forecast_without_mc, yhat_without_mc), axis=1) # Concatenation of predicted values with Historical Data\n",
    "#inv_yhat_without_mc = scaler.inverse_transform(inv_yhat_without_mc) # Transform labels back to original encoding"
   ]
  },
  {
   "cell_type": "code",
   "execution_count": 23,
   "metadata": {
    "colab": {
     "base_uri": "https://localhost:8080/"
    },
    "id": "EUEcw0LX07oU",
    "outputId": "cfc32397-9c37-4b43-d087-584bb31c3dcc"
   },
   "outputs": [
    {
     "data": {
      "text/plain": [
       "(1, 186)"
      ]
     },
     "execution_count": 23,
     "metadata": {},
     "output_type": "execute_result"
    }
   ],
   "source": [
    "inv_yhat_without_mc.shape"
   ]
  },
  {
   "cell_type": "code",
   "execution_count": 24,
   "metadata": {
    "id": "31OWVbSh_305"
   },
   "outputs": [],
   "source": [
    "fforecast = inv_yhat_without_mc[:,-150:]"
   ]
  },
  {
   "cell_type": "code",
   "execution_count": 25,
   "metadata": {},
   "outputs": [
    {
     "data": {
      "text/plain": [
       "(1, 150)"
      ]
     },
     "execution_count": 25,
     "metadata": {},
     "output_type": "execute_result"
    }
   ],
   "source": [
    "fforecast.shape"
   ]
  },
  {
   "cell_type": "code",
   "execution_count": 26,
   "metadata": {
    "id": "BlpGH2FOAiRF"
   },
   "outputs": [],
   "source": [
    "final_forecast = fforecast[:,0:150:3]"
   ]
  },
  {
   "cell_type": "code",
   "execution_count": 27,
   "metadata": {},
   "outputs": [
    {
     "data": {
      "text/plain": [
       "(1, 150)"
      ]
     },
     "execution_count": 27,
     "metadata": {},
     "output_type": "execute_result"
    }
   ],
   "source": [
    "fforecast.shape"
   ]
  },
  {
   "cell_type": "code",
   "execution_count": 28,
   "metadata": {
    "id": "CXkgkj_LBk_t"
   },
   "outputs": [],
   "source": [
    "# code to replace all negative value with 0\n",
    "final_forecast[final_forecast<0] = 0"
   ]
  },
  {
   "cell_type": "code",
   "execution_count": 29,
   "metadata": {},
   "outputs": [
    {
     "data": {
      "text/plain": [
       "array([[1.91372931e-01, 6.36148693e+01, 3.52840840e-01, 6.38632353e+01,\n",
       "        6.33338235e+01, 6.26628151e+01, 6.35821895e+01, 6.29821429e+01,\n",
       "        6.61958450e+01, 2.18141124e-01, 0.00000000e+00, 6.09642267e-01,\n",
       "        6.29401261e+01, 0.00000000e+00, 6.32594538e+01, 6.70841503e+01,\n",
       "        1.16283670e-01, 6.28981092e+01, 6.59995332e+01, 6.51965453e+01,\n",
       "        0.00000000e+00, 6.29707634e-01, 4.72842395e-01, 6.11293449e+01,\n",
       "        5.11414289e-01, 0.00000000e+00, 1.14511445e-01, 0.00000000e+00,\n",
       "        6.39725149e-01, 0.00000000e+00, 6.53355255e+01, 0.00000000e+00,\n",
       "        6.64865434e-01, 8.29325318e-02, 2.93089747e-01, 0.00000000e+00,\n",
       "        0.00000000e+00, 2.36826524e-01, 5.58850646e-01, 1.12211037e+00,\n",
       "        7.26901472e-01, 0.00000000e+00, 3.54576170e-01, 6.38848767e-02,\n",
       "        0.00000000e+00, 3.65966231e-01, 0.00000000e+00, 0.00000000e+00,\n",
       "        8.96569669e-01, 0.00000000e+00]])"
      ]
     },
     "execution_count": 29,
     "metadata": {},
     "output_type": "execute_result"
    }
   ],
   "source": [
    "final_forecast"
   ]
  },
  {
   "cell_type": "code",
   "execution_count": 30,
   "metadata": {},
   "outputs": [
    {
     "data": {
      "text/plain": [
       "(1, 50)"
      ]
     },
     "execution_count": 30,
     "metadata": {},
     "output_type": "execute_result"
    }
   ],
   "source": [
    "final_forecast.shape"
   ]
  },
  {
   "cell_type": "code",
   "execution_count": 31,
   "metadata": {},
   "outputs": [
    {
     "data": {
      "text/plain": [
       "(50,)"
      ]
     },
     "execution_count": 31,
     "metadata": {},
     "output_type": "execute_result"
    }
   ],
   "source": [
    "test.shape"
   ]
  },
  {
   "cell_type": "code",
   "execution_count": 32,
   "metadata": {},
   "outputs": [],
   "source": [
    "training_set = np.array(training_set)\n",
    "test = np.array(test)\n",
    "final_forecast = np.array(final_forecast.squeeze(0))"
   ]
  },
  {
   "cell_type": "code",
   "execution_count": 33,
   "metadata": {},
   "outputs": [
    {
     "data": {
      "text/plain": [
       "array([52.62850311, 52.61975815, 52.61101319, 52.60226822, 52.59352326,\n",
       "       52.5847783 , 52.57603334, 52.56728838, 52.55854342, 52.54979846,\n",
       "       52.54105349, 52.53230853, 52.52356357, 52.51481861, 52.50607365,\n",
       "       52.49732869, 52.48858373, 52.47983876, 52.4710938 , 52.46234884,\n",
       "       52.45360388, 52.44485892, 52.43611396, 52.427369  , 52.41862403,\n",
       "       52.40987907, 52.40113411, 52.39238915, 52.38364419, 52.37489923,\n",
       "       52.36615427, 52.35740931, 52.34866434, 52.33991938, 52.33117442,\n",
       "       52.32242946, 52.3136845 , 52.30493954, 52.29619458, 52.28744961,\n",
       "       52.27870465, 52.26995969, 52.26121473, 52.25246977, 52.24372481,\n",
       "       52.23497985, 52.22623488, 52.21748992, 52.20874496, 52.2       ])"
      ]
     },
     "execution_count": 33,
     "metadata": {},
     "output_type": "execute_result"
    }
   ],
   "source": [
    "test"
   ]
  },
  {
   "cell_type": "code",
   "execution_count": 34,
   "metadata": {},
   "outputs": [
    {
     "data": {
      "text/plain": [
       "(50,)"
      ]
     },
     "execution_count": 34,
     "metadata": {},
     "output_type": "execute_result"
    }
   ],
   "source": [
    "test.shape"
   ]
  },
  {
   "cell_type": "code",
   "execution_count": 35,
   "metadata": {},
   "outputs": [
    {
     "data": {
      "text/plain": [
       "(50,)"
      ]
     },
     "execution_count": 35,
     "metadata": {},
     "output_type": "execute_result"
    }
   ],
   "source": [
    "final_forecast.shape"
   ]
  },
  {
   "cell_type": "code",
   "execution_count": 36,
   "metadata": {},
   "outputs": [
    {
     "data": {
      "text/plain": [
       "(50,)"
      ]
     },
     "execution_count": 36,
     "metadata": {},
     "output_type": "execute_result"
    }
   ],
   "source": [
    "test.shape"
   ]
  },
  {
   "cell_type": "code",
   "execution_count": 37,
   "metadata": {},
   "outputs": [
    {
     "name": "stdout",
     "output_type": "stream",
     "text": [
      "44.05427126957838\n",
      "39.91790607819358\n"
     ]
    }
   ],
   "source": [
    "import math\n",
    "MSE = np.square(np.subtract(np.array(test),np.array(final_forecast))).mean()   \n",
    "rsme = math.sqrt(MSE)\n",
    "print(rsme)  \n",
    "MAE = np.abs(np.subtract(np.array(test),np.array(final_forecast))).mean()   \n",
    "mae = MAE\n",
    "print(mae)"
   ]
  }
 ],
 "metadata": {
  "colab": {
   "provenance": []
  },
  "kernelspec": {
   "display_name": "Python 3",
   "language": "python",
   "name": "python3"
  },
  "language_info": {
   "codemirror_mode": {
    "name": "ipython",
    "version": 3
   },
   "file_extension": ".py",
   "mimetype": "text/x-python",
   "name": "python",
   "nbconvert_exporter": "python",
   "pygments_lexer": "ipython3",
   "version": "3.9.13"
  }
 },
 "nbformat": 4,
 "nbformat_minor": 0
}
