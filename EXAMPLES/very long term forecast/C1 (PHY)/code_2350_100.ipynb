{
 "cells": [
  {
   "cell_type": "markdown",
   "metadata": {
    "id": "pCGKeZ2gyuoQ"
   },
   "source": [
    "_Importing Required Libraries_"
   ]
  },
  {
   "cell_type": "code",
   "execution_count": 1,
   "metadata": {
    "colab": {
     "base_uri": "https://localhost:8080/"
    },
    "id": "A-6LN-zXiLcM",
    "outputId": "4de610a4-f8b8-4f49-c6c0-89de299ccedc"
   },
   "outputs": [
    {
     "name": "stdout",
     "output_type": "stream",
     "text": [
      "Requirement already satisfied: hampel in c:\\users\\anurag dutta\\appdata\\local\\packages\\pythonsoftwarefoundation.python.3.9_qbz5n2kfra8p0\\localcache\\local-packages\\python39\\site-packages (0.0.5)\n",
      "Requirement already satisfied: numpy in c:\\users\\anurag dutta\\appdata\\local\\packages\\pythonsoftwarefoundation.python.3.9_qbz5n2kfra8p0\\localcache\\local-packages\\python39\\site-packages (from hampel) (1.26.4)\n",
      "Requirement already satisfied: pandas in c:\\users\\anurag dutta\\appdata\\local\\packages\\pythonsoftwarefoundation.python.3.9_qbz5n2kfra8p0\\localcache\\local-packages\\python39\\site-packages (from hampel) (1.5.2)\n",
      "Requirement already satisfied: python-dateutil>=2.8.1 in c:\\users\\anurag dutta\\appdata\\local\\packages\\pythonsoftwarefoundation.python.3.9_qbz5n2kfra8p0\\localcache\\local-packages\\python39\\site-packages (from pandas->hampel) (2.8.2)\n",
      "Requirement already satisfied: pytz>=2020.1 in c:\\users\\anurag dutta\\appdata\\local\\packages\\pythonsoftwarefoundation.python.3.9_qbz5n2kfra8p0\\localcache\\local-packages\\python39\\site-packages (from pandas->hampel) (2023.3.post1)\n",
      "Requirement already satisfied: six>=1.5 in c:\\users\\anurag dutta\\appdata\\local\\packages\\pythonsoftwarefoundation.python.3.9_qbz5n2kfra8p0\\localcache\\local-packages\\python39\\site-packages (from python-dateutil>=2.8.1->pandas->hampel) (1.16.0)\n",
      "Note: you may need to restart the kernel to use updated packages.\n"
     ]
    },
    {
     "name": "stderr",
     "output_type": "stream",
     "text": [
      "\n",
      "[notice] A new release of pip is available: 24.2 -> 24.3.1\n",
      "[notice] To update, run: C:\\Users\\Anurag Dutta\\AppData\\Local\\Microsoft\\WindowsApps\\PythonSoftwareFoundation.Python.3.9_qbz5n2kfra8p0\\python.exe -m pip install --upgrade pip\n"
     ]
    }
   ],
   "source": [
    "pip install hampel"
   ]
  },
  {
   "cell_type": "code",
   "execution_count": 2,
   "metadata": {
    "id": "By_d9uXpaFvZ"
   },
   "outputs": [],
   "source": [
    "from keras.models import Sequential\n",
    "from keras.layers import Dense\n",
    "from keras.layers import LSTM\n",
    "from keras.layers import Dropout\n",
    "import keras\n",
    "import tensorflow as tf\n",
    "from hampel import hampel\n",
    "import numpy as np\n",
    "import matplotlib.pyplot as plt\n",
    "import pandas as pd\n",
    "from sklearn.preprocessing import MinMaxScaler\n",
    "from sklearn.metrics import mean_squared_error, mean_absolute_error\n",
    "from math import sqrt\n",
    "from matplotlib import pyplot\n",
    "from numpy import array"
   ]
  },
  {
   "cell_type": "markdown",
   "metadata": {
    "id": "JyOjBMFayuoR"
   },
   "source": [
    "## Pretraining"
   ]
  },
  {
   "cell_type": "markdown",
   "metadata": {
    "id": "-5QqIY_GyuoR"
   },
   "source": [
    "The `capa_intermittency.dat` feeds the model with the dynamics of the Capacitor"
   ]
  },
  {
   "cell_type": "code",
   "execution_count": 3,
   "metadata": {
    "id": "9dV4a8yfyuoR"
   },
   "outputs": [],
   "source": [
    "data = np.genfromtxt('capa_intermittency.dat')\n",
    "training_set = pd.DataFrame(data).reset_index(drop=True)\n",
    "training_set = training_set.iloc[:,0]"
   ]
  },
  {
   "cell_type": "markdown",
   "metadata": {
    "id": "i7easoxByuoR"
   },
   "source": [
    "## Computing the Gradient"
   ]
  },
  {
   "cell_type": "markdown",
   "metadata": {
    "id": "5SnyolJTyuoR"
   },
   "source": [
    "_Calculating the value of_ $\\frac{dx}{dt}$"
   ]
  },
  {
   "cell_type": "code",
   "execution_count": 4,
   "metadata": {
    "colab": {
     "base_uri": "https://localhost:8080/"
    },
    "id": "wmIbVfIvyuoR",
    "outputId": "aa4e3136-c854-465d-d2e9-81cfd546e440"
   },
   "outputs": [
    {
     "name": "stdout",
     "output_type": "stream",
     "text": [
      "1.0\n",
      "1        0.000298\n",
      "2        0.000298\n",
      "3        0.000297\n",
      "4        0.000297\n",
      "5        0.000297\n",
      "           ...   \n",
      "9996     0.000018\n",
      "9997     0.000018\n",
      "9998     0.000018\n",
      "9999     0.000018\n",
      "10000    0.000018\n",
      "Name: 0, Length: 10000, dtype: float64\n"
     ]
    }
   ],
   "source": [
    "t_diff = 1\n",
    "print(training_set.max())\n",
    "gradient_t = (training_set.diff()/t_diff).iloc[1:] # dx/dt\n",
    "print(gradient_t)"
   ]
  },
  {
   "cell_type": "markdown",
   "metadata": {
    "id": "_2eVeeoxyuoS"
   },
   "source": [
    "## Loading Datasets"
   ]
  },
  {
   "cell_type": "code",
   "execution_count": null,
   "metadata": {
    "id": "0J-NKyIEyuoS"
   },
   "outputs": [
    {
     "data": {
      "text/plain": [
       "0       89.200000\n",
       "1       88.931092\n",
       "2       88.662185\n",
       "3       88.393277\n",
       "4       88.124370\n",
       "          ...    \n",
       "2445    52.672228\n",
       "2446    52.663483\n",
       "2447    52.654738\n",
       "2448    52.645993\n",
       "2449    52.637248\n",
       "Name: C1, Length: 2450, dtype: float64"
      ]
     },
     "execution_count": 5,
     "metadata": {},
     "output_type": "execute_result"
    }
   ],
   "source": [
    "data = pd.read_csv(\"c1_interpolated_2350_100.csv\")\n",
    "training_set = data.iloc[:, 1]\n",
    "training_set"
   ]
  },
  {
   "cell_type": "code",
   "execution_count": 6,
   "metadata": {
    "colab": {
     "base_uri": "https://localhost:8080/"
    },
    "id": "-CbNUhJ74UqF",
    "outputId": "20f562d8-8247-49cc-b9c3-00eca5e13e2d"
   },
   "outputs": [
    {
     "data": {
      "text/plain": [
       "0       89.200000\n",
       "1       88.931092\n",
       "2       88.662185\n",
       "3       88.393277\n",
       "4       88.124370\n",
       "          ...    \n",
       "2345     0.247131\n",
       "2346     0.199062\n",
       "2347     0.000000\n",
       "2348     0.381435\n",
       "2349     0.125272\n",
       "Name: C1, Length: 2350, dtype: float64"
      ]
     },
     "execution_count": 6,
     "metadata": {},
     "output_type": "execute_result"
    }
   ],
   "source": [
    "test = training_set.tail(100)\n",
    "test\n",
    "training_set = training_set.head(2350)\n",
    "training_set"
   ]
  },
  {
   "cell_type": "code",
   "execution_count": 7,
   "metadata": {
    "colab": {
     "base_uri": "https://localhost:8080/"
    },
    "id": "X0TwTcq0yuoS",
    "outputId": "37252ed8-d88e-4044-fa7a-922411990b5b"
   },
   "outputs": [
    {
     "name": "stdout",
     "output_type": "stream",
     "text": [
      "0       0.000298\n",
      "1       0.000298\n",
      "2       0.000297\n",
      "3       0.000297\n",
      "4       0.000297\n",
      "          ...   \n",
      "9995    0.000018\n",
      "9996    0.000018\n",
      "9997    0.000018\n",
      "9998    0.000018\n",
      "9999    0.000018\n",
      "Name: 0, Length: 10000, dtype: float64\n"
     ]
    }
   ],
   "source": [
    "training_set = training_set.reset_index(drop=True)\n",
    "gradient_t = gradient_t.reset_index(drop=True)\n",
    "print(gradient_t)"
   ]
  },
  {
   "cell_type": "code",
   "execution_count": 8,
   "metadata": {
    "id": "O2biznZQyuoS"
   },
   "outputs": [],
   "source": [
    "df = pd.concat((training_set, gradient_t), axis=1)\n",
    "df.columns = ['y_t', 'grad_t']"
   ]
  },
  {
   "cell_type": "code",
   "execution_count": 9,
   "metadata": {
    "colab": {
     "base_uri": "https://localhost:8080/",
     "height": 423
    },
    "id": "sk_a5v3tyuoS",
    "outputId": "17563625-e550-45ae-faab-fafa353e44da"
   },
   "outputs": [
    {
     "data": {
      "text/html": [
       "<div>\n",
       "<style scoped>\n",
       "    .dataframe tbody tr th:only-of-type {\n",
       "        vertical-align: middle;\n",
       "    }\n",
       "\n",
       "    .dataframe tbody tr th {\n",
       "        vertical-align: top;\n",
       "    }\n",
       "\n",
       "    .dataframe thead th {\n",
       "        text-align: right;\n",
       "    }\n",
       "</style>\n",
       "<table border=\"1\" class=\"dataframe\">\n",
       "  <thead>\n",
       "    <tr style=\"text-align: right;\">\n",
       "      <th></th>\n",
       "      <th>y_t</th>\n",
       "      <th>grad_t</th>\n",
       "    </tr>\n",
       "  </thead>\n",
       "  <tbody>\n",
       "    <tr>\n",
       "      <th>0</th>\n",
       "      <td>89.200000</td>\n",
       "      <td>0.000298</td>\n",
       "    </tr>\n",
       "    <tr>\n",
       "      <th>1</th>\n",
       "      <td>88.931092</td>\n",
       "      <td>0.000298</td>\n",
       "    </tr>\n",
       "    <tr>\n",
       "      <th>2</th>\n",
       "      <td>88.662185</td>\n",
       "      <td>0.000297</td>\n",
       "    </tr>\n",
       "    <tr>\n",
       "      <th>3</th>\n",
       "      <td>88.393277</td>\n",
       "      <td>0.000297</td>\n",
       "    </tr>\n",
       "    <tr>\n",
       "      <th>4</th>\n",
       "      <td>88.124370</td>\n",
       "      <td>0.000297</td>\n",
       "    </tr>\n",
       "    <tr>\n",
       "      <th>...</th>\n",
       "      <td>...</td>\n",
       "      <td>...</td>\n",
       "    </tr>\n",
       "    <tr>\n",
       "      <th>9995</th>\n",
       "      <td>NaN</td>\n",
       "      <td>0.000018</td>\n",
       "    </tr>\n",
       "    <tr>\n",
       "      <th>9996</th>\n",
       "      <td>NaN</td>\n",
       "      <td>0.000018</td>\n",
       "    </tr>\n",
       "    <tr>\n",
       "      <th>9997</th>\n",
       "      <td>NaN</td>\n",
       "      <td>0.000018</td>\n",
       "    </tr>\n",
       "    <tr>\n",
       "      <th>9998</th>\n",
       "      <td>NaN</td>\n",
       "      <td>0.000018</td>\n",
       "    </tr>\n",
       "    <tr>\n",
       "      <th>9999</th>\n",
       "      <td>NaN</td>\n",
       "      <td>0.000018</td>\n",
       "    </tr>\n",
       "  </tbody>\n",
       "</table>\n",
       "<p>10000 rows × 2 columns</p>\n",
       "</div>"
      ],
      "text/plain": [
       "            y_t    grad_t\n",
       "0     89.200000  0.000298\n",
       "1     88.931092  0.000298\n",
       "2     88.662185  0.000297\n",
       "3     88.393277  0.000297\n",
       "4     88.124370  0.000297\n",
       "...         ...       ...\n",
       "9995        NaN  0.000018\n",
       "9996        NaN  0.000018\n",
       "9997        NaN  0.000018\n",
       "9998        NaN  0.000018\n",
       "9999        NaN  0.000018\n",
       "\n",
       "[10000 rows x 2 columns]"
      ]
     },
     "execution_count": 9,
     "metadata": {},
     "output_type": "execute_result"
    }
   ],
   "source": [
    "df"
   ]
  },
  {
   "cell_type": "markdown",
   "metadata": {
    "id": "-5esyHu5aFvg"
   },
   "source": [
    "## Plot of the External Forcing from Chaotic Differential Equation"
   ]
  },
  {
   "cell_type": "code",
   "execution_count": null,
   "metadata": {
    "colab": {
     "base_uri": "https://localhost:8080/",
     "height": 447
    },
    "id": "hGnE43tOh-4p",
    "outputId": "fc396503-b624-4fa5-dfbe-f460207405c6"
   },
   "outputs": [
    {
     "data": {
      "text/plain": [
       "<Axes: >"
      ]
     },
     "execution_count": 10,
     "metadata": {},
     "output_type": "execute_result"
    },
    {
     "data": {
      "image/png": "[encoded data removed]",
      "text/plain": [
       "<Figure size 432x288 with 1 Axes>"
      ]
     },
     "metadata": {
      "needs_background": "light"
     },
     "output_type": "display_data"
    }
   ],
   "source": [
    "df.iloc[:, 0].plot()"
   ]
  },
  {
   "cell_type": "code",
   "execution_count": null,
   "metadata": {
    "colab": {
     "base_uri": "https://localhost:8080/",
     "height": 447
    },
    "id": "ym4xWUUxaFvg",
    "outputId": "ae6a3495-8ce9-437e-ba81-3ed31deedeae"
   },
   "outputs": [
    {
     "name": "stderr",
     "output_type": "stream",
     "text": [
      "C:\\Users\\Anurag Dutta\\AppData\\Local\\Packages\\PythonSoftwareFoundation.Python.3.9_qbz5n2kfra8p0\\LocalCache\\local-packages\\Python39\\site-packages\\pandas\\core\\arraylike.py:402: RuntimeWarning: divide by zero encountered in log\n",
      "  result = getattr(ufunc, method)(*inputs, **kwargs)\n"
     ]
    },
    {
     "data": {
      "text/plain": [
       "<Axes: >"
      ]
     },
     "execution_count": 11,
     "metadata": {},
     "output_type": "execute_result"
    },
    {
     "data": {
      "image/png": "[encoded data removed]",
      "text/plain": [
       "<Figure size 432x288 with 1 Axes>"
      ]
     },
     "metadata": {
      "needs_background": "light"
     },
     "output_type": "display_data"
    }
   ],
   "source": [
    "import numpy as np\n",
    "c0 = 86.6465  # Value for C0\n",
    "K0 = -0.0029  # Value for K0\n",
    "K1 = -0.0003  # Value for K1\n",
    "a = 0.0000    # Value for a\n",
    "b = 0.0168    # Value for b\n",
    "c = 2.3581    # Value for c\n",
    "\n",
    "L = np.minimum(c0, (df.iloc[:, 1] - (df.iloc[:, 0] * (K0 - K1 * (9 * a * np.log(df.iloc[:, 0] / c0) / (K0 - K1 * c)**2 + 4 * b * np.log(df.iloc[:, 0] / c0) / (K0 - K1 * c) + c)))))\n",
    "L.plot()"
   ]
  },
  {
   "cell_type": "markdown",
   "metadata": {
    "id": "9VyEywnwaFvh"
   },
   "source": [
    "## Preprocessing the data into supervised learning"
   ]
  },
  {
   "cell_type": "code",
   "execution_count": 12,
   "metadata": {
    "id": "6V9dXqzdaFvh"
   },
   "outputs": [],
   "source": [
    "# split a sequence into samples\n",
    "def Supervised(data, n_in=1, n_out=1, dropnan=True):\n",
    "    n_vars = 1 if type(data) is list else data.shape[1]\n",
    "    df = pd.DataFrame(data)\n",
    "    cols, names = list(), list()\n",
    "    # input sequence (t-n_in, ... t-1)\n",
    "    for i in range(n_in, 0, -1):\n",
    "        cols.append(df.shift(i))\n",
    "        names += [('var%d(t-%d)' % (j+1, i)) for j in range(n_vars)]\n",
    "    # forecast sequence (t, t+1, ... t+n_out)\n",
    "    for i in range(0, n_out):\n",
    "      cols.append(df.shift(-i))\n",
    "      if i == 0:\n",
    "        names += [('var%d(t)' % (j+1)) for j in range(n_vars)]\n",
    "      else:\n",
    "        names += [('var%d(t+%d)' % (j+1, i)) for j in range(n_vars)]\n",
    "    # put it all together\n",
    "    agg = pd.concat(cols, axis=1)\n",
    "    agg.columns = names\n",
    "    # drop rows with NaN values\n",
    "    if dropnan:\n",
    "       agg.dropna(inplace=True)\n",
    "    return agg"
   ]
  },
  {
   "cell_type": "code",
   "execution_count": 13,
   "metadata": {
    "colab": {
     "base_uri": "https://localhost:8080/"
    },
    "id": "CrzSrT1HnyfH",
    "outputId": "7e75f928-3e47-499d-eac1-51908015ef78"
   },
   "outputs": [
    {
     "name": "stdout",
     "output_type": "stream",
     "text": [
      "     var1(t-350)  var1(t-349)  var1(t-348)  var1(t-347)  var1(t-346)  \\\n",
      "350    89.200000    88.931092    88.662185    88.393277    88.124370   \n",
      "351    88.931092    88.662185    88.393277    88.124370    87.855462   \n",
      "352    88.662185    88.393277    88.124370    87.855462    87.586555   \n",
      "353    88.393277    88.124370    87.855462    87.586555    87.317647   \n",
      "354    88.124370    87.855462    87.586555    87.317647    87.048739   \n",
      "\n",
      "     var1(t-345)  var1(t-344)  var1(t-343)  var1(t-342)  var1(t-341)  ...  \\\n",
      "350    87.855462    87.586555    87.317647    87.048739    86.794538  ...   \n",
      "351    87.586555    87.317647    87.048739    86.794538    86.721709  ...   \n",
      "352    87.317647    87.048739    86.794538    86.721709    86.648880  ...   \n",
      "353    87.048739    86.794538    86.721709    86.648880    86.576050  ...   \n",
      "354    86.794538    86.721709    86.648880    86.576050    86.503221  ...   \n",
      "\n",
      "     var1(t+95)  var2(t+95)  var1(t+96)  var2(t+96)  var1(t+97)  var2(t+97)  \\\n",
      "350   73.989683    0.000263   73.957937    0.000263   73.926190    0.000263   \n",
      "351   73.957937    0.000263   73.926190    0.000263   73.894444    0.000262   \n",
      "352   73.926190    0.000263   73.894444    0.000262   73.862698    0.000262   \n",
      "353   73.894444    0.000262   73.862698    0.000262   73.830952    0.000262   \n",
      "354   73.862698    0.000262   73.830952    0.000262   73.799206    0.000262   \n",
      "\n",
      "     var1(t+98)  var2(t+98)  var1(t+99)  var2(t+99)  \n",
      "350   73.894444    0.000262   73.862698    0.000262  \n",
      "351   73.862698    0.000262   73.830952    0.000262  \n",
      "352   73.830952    0.000262   73.799206    0.000262  \n",
      "353   73.799206    0.000262   73.767460    0.000262  \n",
      "354   73.767460    0.000262   73.735714    0.000262  \n",
      "\n",
      "[5 rows x 551 columns]\n",
      "Index(['var1(t-350)', 'var1(t-349)', 'var1(t-348)', 'var1(t-347)',\n",
      "       'var1(t-346)', 'var1(t-345)', 'var1(t-344)', 'var1(t-343)',\n",
      "       'var1(t-342)', 'var1(t-341)',\n",
      "       ...\n",
      "       'var1(t+95)', 'var2(t+95)', 'var1(t+96)', 'var2(t+96)', 'var1(t+97)',\n",
      "       'var2(t+97)', 'var1(t+98)', 'var2(t+98)', 'var1(t+99)', 'var2(t+99)'],\n",
      "      dtype='object', length=551)\n"
     ]
    }
   ],
   "source": [
    "data = Supervised(df.values, n_in = 350, n_out = 100)\n",
    "\n",
    "\n",
    "cols_to_drop = []\n",
    "for i in range(2, 351):\n",
    "    cols_to_drop.extend([f'var2(t-{i})'])\n",
    "\n",
    "data.drop(cols_to_drop, axis=1, inplace=True)\n",
    "\n",
    "print(data.head())\n",
    "print(data.columns)"
   ]
  },
  {
   "cell_type": "code",
   "execution_count": 14,
   "metadata": {
    "id": "AfPf60oy6Pe4"
   },
   "outputs": [],
   "source": [
    "train = np.array(data[0:len(data)-1])\n",
    "forecast = np.array(data.tail(1))"
   ]
  },
  {
   "cell_type": "code",
   "execution_count": 15,
   "metadata": {
    "id": "WSAafzI37KiT"
   },
   "outputs": [],
   "source": [
    "trainy = train[:,-300:]\n",
    "trainX = train[:,:-300]"
   ]
  },
  {
   "cell_type": "code",
   "execution_count": 16,
   "metadata": {
    "id": "2SrOqVJA7f50"
   },
   "outputs": [],
   "source": [
    "forecasty = forecast[:,-300:]\n",
    "forecastX = forecast[:,:-300]"
   ]
  },
  {
   "cell_type": "code",
   "execution_count": 17,
   "metadata": {
    "colab": {
     "base_uri": "https://localhost:8080/"
    },
    "id": "Qno_k8Nw7saY",
    "outputId": "c4a88db5-d8c6-489f-cdb2-06b24e293cff"
   },
   "outputs": [
    {
     "name": "stdout",
     "output_type": "stream",
     "text": [
      "(1900, 1, 251) (1900, 300) (1, 1, 251)\n"
     ]
    }
   ],
   "source": [
    "trainX = trainX.reshape((trainX.shape[0], 1, trainX.shape[1]))\n",
    "forecastX = forecastX.reshape((forecastX.shape[0], 1, forecastX.shape[1]))\n",
    "print(trainX.shape, trainy.shape, forecastX.shape)"
   ]
  },
  {
   "cell_type": "code",
   "execution_count": 18,
   "metadata": {
    "colab": {
     "base_uri": "https://localhost:8080/"
    },
    "id": "b1Jp2DvNuNFx",
    "outputId": "d0e5b3c4-64f1-438c-eade-8dfeaac8e285"
   },
   "outputs": [
    {
     "name": "stdout",
     "output_type": "stream",
     "text": [
      "Epoch 1/500\n",
      "24/24 [==============================] - 3s 24ms/step - loss: 4097.8726 - val_loss: 2153.1353\n",
      "Epoch 2/500\n",
      "24/24 [==============================] - 0s 5ms/step - loss: 3820.8694 - val_loss: 2022.5312\n",
      "Epoch 3/500\n",
      "24/24 [==============================] - 0s 5ms/step - loss: 3686.6731 - val_loss: 1959.2837\n",
      "Epoch 4/500\n",
      "24/24 [==============================] - 0s 5ms/step - loss: 3582.6433 - val_loss: 1907.2992\n",
      "Epoch 5/500\n",
      "24/24 [==============================] - 0s 5ms/step - loss: 3484.1516 - val_loss: 1855.1752\n",
      "Epoch 6/500\n",
      "24/24 [==============================] - 0s 5ms/step - loss: 3389.7964 - val_loss: 1807.2408\n",
      "Epoch 7/500\n",
      "24/24 [==============================] - 0s 6ms/step - loss: 3299.0295 - val_loss: 1761.6898\n",
      "Epoch 8/500\n",
      "24/24 [==============================] - 0s 6ms/step - loss: 3199.3521 - val_loss: 1708.9602\n",
      "Epoch 9/500\n",
      "24/24 [==============================] - 0s 8ms/step - loss: 3104.7415 - val_loss: 1665.2797\n",
      "Epoch 10/500\n",
      "24/24 [==============================] - 0s 5ms/step - loss: 3017.8052 - val_loss: 1623.8315\n",
      "Epoch 11/500\n",
      "24/24 [==============================] - 0s 5ms/step - loss: 2933.8335 - val_loss: 1584.3453\n",
      "Epoch 12/500\n",
      "24/24 [==============================] - 0s 5ms/step - loss: 2852.4233 - val_loss: 1546.6511\n",
      "Epoch 13/500\n",
      "24/24 [==============================] - 0s 5ms/step - loss: 2773.3425 - val_loss: 1510.6415\n",
      "Epoch 14/500\n",
      "24/24 [==============================] - 0s 5ms/step - loss: 2696.4412 - val_loss: 1476.2373\n",
      "Epoch 15/500\n",
      "24/24 [==============================] - 0s 6ms/step - loss: 2621.6138 - val_loss: 1443.3755\n",
      "Epoch 16/500\n",
      "24/24 [==============================] - 0s 5ms/step - loss: 2548.7766 - val_loss: 1412.0034\n",
      "Epoch 17/500\n",
      "24/24 [==============================] - 0s 4ms/step - loss: 2477.8621 - val_loss: 1382.0739\n",
      "Epoch 18/500\n",
      "24/24 [==============================] - 0s 5ms/step - loss: 2408.8110 - val_loss: 1353.5447\n",
      "Epoch 19/500\n",
      "24/24 [==============================] - 0s 4ms/step - loss: 2341.5723 - val_loss: 1326.3763\n",
      "Epoch 20/500\n",
      "24/24 [==============================] - 0s 4ms/step - loss: 2276.0981 - val_loss: 1300.5321\n",
      "Epoch 21/500\n",
      "24/24 [==============================] - 0s 5ms/step - loss: 2212.3459 - val_loss: 1275.9769\n",
      "Epoch 22/500\n",
      "24/24 [==============================] - 0s 4ms/step - loss: 2150.2754 - val_loss: 1252.6776\n",
      "Epoch 23/500\n",
      "24/24 [==============================] - 0s 4ms/step - loss: 2089.8491 - val_loss: 1230.6014\n",
      "Epoch 24/500\n",
      "24/24 [==============================] - 0s 5ms/step - loss: 2031.0303 - val_loss: 1209.7172\n",
      "Epoch 25/500\n",
      "24/24 [==============================] - 0s 5ms/step - loss: 1973.7856 - val_loss: 1189.9928\n",
      "Epoch 26/500\n",
      "24/24 [==============================] - 0s 5ms/step - loss: 1918.0792 - val_loss: 1171.3727\n",
      "Epoch 27/500\n",
      "24/24 [==============================] - 0s 5ms/step - loss: 1863.8489 - val_loss: 1153.8354\n",
      "Epoch 28/500\n",
      "24/24 [==============================] - 0s 5ms/step - loss: 1810.8176 - val_loss: 1136.7695\n",
      "Epoch 29/500\n",
      "24/24 [==============================] - 0s 5ms/step - loss: 1759.2562 - val_loss: 1120.5706\n",
      "Epoch 30/500\n",
      "24/24 [==============================] - 0s 6ms/step - loss: 1710.0398 - val_loss: 1106.3597\n",
      "Epoch 31/500\n",
      "24/24 [==============================] - 0s 9ms/step - loss: 1660.5956 - val_loss: 1091.1306\n",
      "Epoch 32/500\n",
      "24/24 [==============================] - 0s 8ms/step - loss: 1613.0551 - val_loss: 1078.2721\n",
      "Epoch 33/500\n",
      "24/24 [==============================] - 0s 9ms/step - loss: 1568.4266 - val_loss: 1071.0024\n",
      "Epoch 34/500\n",
      "24/24 [==============================] - 0s 7ms/step - loss: 1516.8689 - val_loss: 1058.3219\n",
      "Epoch 35/500\n",
      "24/24 [==============================] - 0s 8ms/step - loss: 1469.4987 - val_loss: 1047.8365\n",
      "Epoch 36/500\n",
      "24/24 [==============================] - 0s 8ms/step - loss: 1424.7788 - val_loss: 1038.6113\n",
      "Epoch 37/500\n",
      "24/24 [==============================] - 0s 9ms/step - loss: 1381.8628 - val_loss: 1030.5339\n",
      "Epoch 38/500\n",
      "24/24 [==============================] - 0s 11ms/step - loss: 1340.5789 - val_loss: 1023.4216\n",
      "Epoch 39/500\n",
      "24/24 [==============================] - 0s 11ms/step - loss: 1300.7975 - val_loss: 1017.2076\n",
      "Epoch 40/500\n",
      "24/24 [==============================] - 0s 10ms/step - loss: 1262.4265 - val_loss: 1011.8476\n",
      "Epoch 41/500\n",
      "24/24 [==============================] - 0s 19ms/step - loss: 1225.3954 - val_loss: 1007.3030\n",
      "Epoch 42/500\n",
      "24/24 [==============================] - 0s 14ms/step - loss: 1189.6456 - val_loss: 1003.5394\n",
      "Epoch 43/500\n",
      "24/24 [==============================] - 0s 11ms/step - loss: 1155.1282 - val_loss: 1000.5245\n",
      "Epoch 44/500\n",
      "24/24 [==============================] - 0s 8ms/step - loss: 1121.7993 - val_loss: 998.2279\n",
      "Epoch 45/500\n",
      "24/24 [==============================] - 0s 7ms/step - loss: 1089.6199 - val_loss: 996.6205\n",
      "Epoch 46/500\n",
      "24/24 [==============================] - 0s 6ms/step - loss: 1058.5531 - val_loss: 995.6740\n",
      "Epoch 47/500\n",
      "24/24 [==============================] - 0s 8ms/step - loss: 1028.5654 - val_loss: 995.3615\n",
      "Epoch 48/500\n",
      "24/24 [==============================] - 0s 7ms/step - loss: 999.6248 - val_loss: 995.6555\n",
      "Epoch 49/500\n",
      "24/24 [==============================] - 0s 7ms/step - loss: 971.6969 - val_loss: 996.4391\n",
      "Epoch 50/500\n",
      "24/24 [==============================] - 0s 7ms/step - loss: 944.7649 - val_loss: 997.9650\n",
      "Epoch 51/500\n",
      "24/24 [==============================] - 0s 9ms/step - loss: 918.7884 - val_loss: 999.9257\n",
      "Epoch 52/500\n",
      "24/24 [==============================] - 0s 6ms/step - loss: 893.7446 - val_loss: 1002.3911\n",
      "Epoch 53/500\n",
      "24/24 [==============================] - 0s 7ms/step - loss: 869.6072 - val_loss: 1005.3372\n",
      "Epoch 54/500\n",
      "24/24 [==============================] - 0s 7ms/step - loss: 846.3524 - val_loss: 1009.2309\n",
      "Epoch 55/500\n",
      "24/24 [==============================] - 0s 6ms/step - loss: 823.9529 - val_loss: 1014.1253\n",
      "Epoch 56/500\n",
      "24/24 [==============================] - 0s 6ms/step - loss: 802.3812 - val_loss: 1018.5137\n",
      "Epoch 57/500\n",
      "24/24 [==============================] - 0s 6ms/step - loss: 781.5875 - val_loss: 1023.0800\n",
      "Epoch 58/500\n",
      "24/24 [==============================] - 0s 9ms/step - loss: 761.5646 - val_loss: 1027.8357\n",
      "Epoch 59/500\n",
      "24/24 [==============================] - 0s 13ms/step - loss: 742.1265 - val_loss: 1032.7452\n",
      "Epoch 60/500\n",
      "24/24 [==============================] - 0s 7ms/step - loss: 723.6031 - val_loss: 1037.9982\n",
      "Epoch 61/500\n",
      "24/24 [==============================] - 0s 6ms/step - loss: 705.8522 - val_loss: 1043.3448\n",
      "Epoch 62/500\n",
      "24/24 [==============================] - 0s 6ms/step - loss: 689.0526 - val_loss: 1047.6536\n",
      "Epoch 63/500\n",
      "24/24 [==============================] - 0s 6ms/step - loss: 671.2383 - val_loss: 1049.1562\n",
      "Epoch 64/500\n",
      "24/24 [==============================] - 0s 6ms/step - loss: 653.8762 - val_loss: 1052.1017\n",
      "Epoch 65/500\n",
      "24/24 [==============================] - 0s 6ms/step - loss: 637.1807 - val_loss: 1055.1218\n",
      "Epoch 66/500\n",
      "24/24 [==============================] - 0s 6ms/step - loss: 621.4949 - val_loss: 1046.6803\n",
      "Epoch 67/500\n",
      "24/24 [==============================] - 0s 6ms/step - loss: 667.3001 - val_loss: 1059.2290\n",
      "Epoch 68/500\n",
      "24/24 [==============================] - 0s 6ms/step - loss: 623.9438 - val_loss: 1061.3118\n",
      "Epoch 69/500\n",
      "24/24 [==============================] - 0s 6ms/step - loss: 585.2114 - val_loss: 1091.3217\n",
      "Epoch 70/500\n",
      "24/24 [==============================] - 0s 6ms/step - loss: 567.3823 - val_loss: 1099.0265\n",
      "Epoch 71/500\n",
      "24/24 [==============================] - 0s 7ms/step - loss: 556.2531 - val_loss: 1101.6078\n",
      "Epoch 72/500\n",
      "24/24 [==============================] - 0s 13ms/step - loss: 580.0532 - val_loss: 1114.1870\n",
      "Epoch 73/500\n",
      "24/24 [==============================] - 0s 6ms/step - loss: 568.1824 - val_loss: 1124.9623\n",
      "Epoch 74/500\n",
      "24/24 [==============================] - 0s 6ms/step - loss: 556.6896 - val_loss: 1133.4583\n",
      "Epoch 75/500\n",
      "24/24 [==============================] - 0s 5ms/step - loss: 545.7225 - val_loss: 1141.6372\n",
      "Epoch 76/500\n",
      "24/24 [==============================] - 0s 6ms/step - loss: 535.2278 - val_loss: 1150.5701\n",
      "Epoch 77/500\n",
      "24/24 [==============================] - 0s 6ms/step - loss: 525.2347 - val_loss: 1159.0371\n",
      "Epoch 78/500\n",
      "24/24 [==============================] - 0s 6ms/step - loss: 515.6424 - val_loss: 1168.1415\n",
      "Epoch 79/500\n",
      "24/24 [==============================] - 0s 6ms/step - loss: 515.1827 - val_loss: 1177.7327\n",
      "Epoch 80/500\n",
      "24/24 [==============================] - 0s 5ms/step - loss: 498.0960 - val_loss: 1186.9618\n",
      "Epoch 81/500\n",
      "24/24 [==============================] - 0s 5ms/step - loss: 489.7006 - val_loss: 1196.4651\n",
      "Epoch 82/500\n",
      "24/24 [==============================] - 0s 7ms/step - loss: 481.8026 - val_loss: 1205.4764\n",
      "Epoch 83/500\n",
      "24/24 [==============================] - 0s 8ms/step - loss: 474.2989 - val_loss: 1214.5457\n",
      "Epoch 84/500\n",
      "24/24 [==============================] - 0s 6ms/step - loss: 467.1735 - val_loss: 1223.7023\n",
      "Epoch 85/500\n",
      "24/24 [==============================] - 0s 8ms/step - loss: 460.4021 - val_loss: 1232.2451\n",
      "Epoch 86/500\n",
      "24/24 [==============================] - 0s 8ms/step - loss: 453.6317 - val_loss: 1241.6017\n",
      "Epoch 87/500\n",
      "24/24 [==============================] - 0s 11ms/step - loss: 448.0168 - val_loss: 1250.9880\n",
      "Epoch 88/500\n",
      "24/24 [==============================] - 0s 14ms/step - loss: 441.8481 - val_loss: 1259.6665\n",
      "Epoch 89/500\n",
      "24/24 [==============================] - 0s 12ms/step - loss: 445.4235 - val_loss: 1269.4764\n",
      "Epoch 90/500\n",
      "24/24 [==============================] - 0s 10ms/step - loss: 437.8778 - val_loss: 1280.5840\n",
      "Epoch 91/500\n",
      "24/24 [==============================] - 0s 10ms/step - loss: 426.7657 - val_loss: 1289.2352\n",
      "Epoch 92/500\n",
      "24/24 [==============================] - 0s 7ms/step - loss: 421.3485 - val_loss: 1296.6564\n",
      "Epoch 93/500\n",
      "24/24 [==============================] - 0s 6ms/step - loss: 416.8265 - val_loss: 1305.2926\n",
      "Epoch 94/500\n",
      "24/24 [==============================] - 0s 6ms/step - loss: 412.6427 - val_loss: 1313.5465\n",
      "Epoch 95/500\n",
      "24/24 [==============================] - 0s 6ms/step - loss: 408.6129 - val_loss: 1322.3917\n",
      "Epoch 96/500\n",
      "24/24 [==============================] - 0s 6ms/step - loss: 404.9148 - val_loss: 1330.0787\n",
      "Epoch 97/500\n",
      "24/24 [==============================] - 0s 6ms/step - loss: 409.6862 - val_loss: 1338.4819\n",
      "Epoch 98/500\n",
      "24/24 [==============================] - 0s 6ms/step - loss: 405.8544 - val_loss: 1347.7859\n",
      "Epoch 99/500\n",
      "24/24 [==============================] - 0s 6ms/step - loss: 402.1749 - val_loss: 1356.9583\n",
      "Epoch 100/500\n",
      "24/24 [==============================] - 0s 6ms/step - loss: 398.7253 - val_loss: 1365.9554\n",
      "Epoch 101/500\n",
      "24/24 [==============================] - 0s 6ms/step - loss: 395.4979 - val_loss: 1374.7854\n",
      "Epoch 102/500\n",
      "24/24 [==============================] - 0s 7ms/step - loss: 392.4789 - val_loss: 1383.4386\n",
      "Epoch 103/500\n",
      "24/24 [==============================] - 0s 6ms/step - loss: 389.6558 - val_loss: 1391.9222\n",
      "Epoch 104/500\n",
      "24/24 [==============================] - 0s 6ms/step - loss: 387.0162 - val_loss: 1400.2272\n",
      "Epoch 105/500\n",
      "24/24 [==============================] - 0s 6ms/step - loss: 384.5489 - val_loss: 1408.3541\n",
      "Epoch 106/500\n",
      "24/24 [==============================] - 0s 6ms/step - loss: 382.2434 - val_loss: 1416.3003\n",
      "Epoch 107/500\n",
      "24/24 [==============================] - 0s 12ms/step - loss: 380.0898 - val_loss: 1424.0609\n",
      "Epoch 108/500\n",
      "24/24 [==============================] - 0s 7ms/step - loss: 378.0789 - val_loss: 1431.6350\n",
      "Epoch 109/500\n",
      "24/24 [==============================] - 0s 6ms/step - loss: 376.2020 - val_loss: 1439.0114\n",
      "Epoch 110/500\n",
      "24/24 [==============================] - 0s 6ms/step - loss: 374.4506 - val_loss: 1446.1606\n",
      "Epoch 111/500\n",
      "24/24 [==============================] - 0s 6ms/step - loss: 372.8170 - val_loss: 1452.5811\n",
      "Epoch 112/500\n",
      "24/24 [==============================] - 0s 6ms/step - loss: 368.9173 - val_loss: 1422.5715\n",
      "Epoch 113/500\n",
      "24/24 [==============================] - 0s 6ms/step - loss: 381.7042 - val_loss: 1417.4568\n",
      "Epoch 114/500\n",
      "24/24 [==============================] - 0s 7ms/step - loss: 379.6644 - val_loss: 1420.9337\n",
      "Epoch 115/500\n",
      "24/24 [==============================] - 0s 7ms/step - loss: 377.6364 - val_loss: 1435.9666\n",
      "Epoch 116/500\n",
      "24/24 [==============================] - 0s 6ms/step - loss: 375.7374 - val_loss: 1443.5853\n",
      "Epoch 117/500\n",
      "24/24 [==============================] - 0s 6ms/step - loss: 373.9696 - val_loss: 1451.0027\n",
      "Epoch 118/500\n",
      "24/24 [==============================] - 0s 6ms/step - loss: 372.3251 - val_loss: 1458.2267\n",
      "Epoch 119/500\n",
      "24/24 [==============================] - 0s 6ms/step - loss: 370.7959 - val_loss: 1465.2472\n",
      "Epoch 120/500\n",
      "24/24 [==============================] - 0s 5ms/step - loss: 369.3745 - val_loss: 1472.0754\n",
      "Epoch 121/500\n",
      "24/24 [==============================] - 0s 5ms/step - loss: 368.0540 - val_loss: 1478.7168\n",
      "Epoch 122/500\n",
      "24/24 [==============================] - 0s 5ms/step - loss: 366.8275 - val_loss: 1485.1577\n",
      "Epoch 123/500\n",
      "24/24 [==============================] - 0s 5ms/step - loss: 365.6888 - val_loss: 1491.4073\n",
      "Epoch 124/500\n",
      "24/24 [==============================] - 0s 5ms/step - loss: 364.6321 - val_loss: 1497.4741\n",
      "Epoch 125/500\n",
      "24/24 [==============================] - 0s 5ms/step - loss: 363.6519 - val_loss: 1503.3536\n",
      "Epoch 126/500\n",
      "24/24 [==============================] - 0s 5ms/step - loss: 362.7429 - val_loss: 1509.0472\n",
      "Epoch 127/500\n",
      "24/24 [==============================] - 0s 5ms/step - loss: 361.9002 - val_loss: 1514.5576\n",
      "Epoch 128/500\n",
      "24/24 [==============================] - 0s 5ms/step - loss: 361.1194 - val_loss: 1519.8878\n",
      "Epoch 129/500\n",
      "24/24 [==============================] - 0s 6ms/step - loss: 360.3960 - val_loss: 1525.0459\n",
      "Epoch 130/500\n",
      "24/24 [==============================] - 0s 7ms/step - loss: 359.7262 - val_loss: 1530.0219\n",
      "Epoch 131/500\n",
      "24/24 [==============================] - 0s 5ms/step - loss: 359.1061 - val_loss: 1534.8239\n",
      "Epoch 132/500\n",
      "24/24 [==============================] - 0s 5ms/step - loss: 358.5321 - val_loss: 1539.4672\n",
      "Epoch 133/500\n",
      "24/24 [==============================] - 0s 6ms/step - loss: 358.0011 - val_loss: 1543.9357\n",
      "Epoch 134/500\n",
      "24/24 [==============================] - 0s 6ms/step - loss: 357.5099 - val_loss: 1548.2527\n",
      "Epoch 135/500\n",
      "24/24 [==============================] - 0s 6ms/step - loss: 357.0558 - val_loss: 1552.4133\n",
      "Epoch 136/500\n",
      "24/24 [==============================] - 0s 5ms/step - loss: 356.6359 - val_loss: 1556.4064\n",
      "Epoch 137/500\n",
      "24/24 [==============================] - 0s 5ms/step - loss: 356.2477 - val_loss: 1560.2694\n",
      "Epoch 138/500\n",
      "24/24 [==============================] - 0s 5ms/step - loss: 355.8889 - val_loss: 1563.9764\n",
      "Epoch 139/500\n",
      "24/24 [==============================] - 0s 4ms/step - loss: 355.5574 - val_loss: 1567.5408\n",
      "Epoch 140/500\n",
      "24/24 [==============================] - 0s 5ms/step - loss: 355.2512 - val_loss: 1570.9703\n",
      "Epoch 141/500\n",
      "24/24 [==============================] - 0s 5ms/step - loss: 354.9684 - val_loss: 1574.2676\n",
      "Epoch 142/500\n",
      "24/24 [==============================] - 0s 5ms/step - loss: 354.7072 - val_loss: 1577.4268\n",
      "Epoch 143/500\n",
      "24/24 [==============================] - 0s 5ms/step - loss: 354.4659 - val_loss: 1580.4585\n",
      "Epoch 144/500\n",
      "24/24 [==============================] - 0s 11ms/step - loss: 354.2430 - val_loss: 1583.3740\n",
      "Epoch 145/500\n",
      "24/24 [==============================] - 0s 6ms/step - loss: 354.0373 - val_loss: 1586.1605\n",
      "Epoch 146/500\n",
      "24/24 [==============================] - 0s 6ms/step - loss: 353.8474 - val_loss: 1588.8372\n",
      "Epoch 147/500\n",
      "24/24 [==============================] - 0s 6ms/step - loss: 353.6720 - val_loss: 1591.3955\n",
      "Epoch 148/500\n",
      "24/24 [==============================] - 0s 5ms/step - loss: 353.5101 - val_loss: 1593.8381\n",
      "Epoch 149/500\n",
      "24/24 [==============================] - 0s 7ms/step - loss: 353.3605 - val_loss: 1596.1902\n",
      "Epoch 150/500\n",
      "24/24 [==============================] - 0s 8ms/step - loss: 353.2225 - val_loss: 1598.4447\n",
      "Epoch 151/500\n",
      "24/24 [==============================] - 0s 7ms/step - loss: 353.0950 - val_loss: 1600.5873\n",
      "Epoch 152/500\n",
      "24/24 [==============================] - 0s 7ms/step - loss: 352.9772 - val_loss: 1602.6216\n",
      "Epoch 153/500\n",
      "24/24 [==============================] - 0s 8ms/step - loss: 352.8685 - val_loss: 1604.5696\n",
      "Epoch 154/500\n",
      "24/24 [==============================] - 0s 8ms/step - loss: 352.7680 - val_loss: 1606.4418\n",
      "Epoch 155/500\n",
      "24/24 [==============================] - 0s 8ms/step - loss: 352.6752 - val_loss: 1608.2264\n",
      "Epoch 156/500\n",
      "24/24 [==============================] - 0s 7ms/step - loss: 352.5894 - val_loss: 1609.9176\n",
      "Epoch 157/500\n",
      "24/24 [==============================] - 0s 7ms/step - loss: 352.5102 - val_loss: 1611.5380\n",
      "Epoch 158/500\n",
      "24/24 [==============================] - 0s 7ms/step - loss: 352.4369 - val_loss: 1613.0759\n",
      "Epoch 159/500\n",
      "24/24 [==============================] - 0s 8ms/step - loss: 352.3692 - val_loss: 1614.5299\n",
      "Epoch 160/500\n",
      "24/24 [==============================] - 0s 8ms/step - loss: 352.3067 - val_loss: 1615.9321\n",
      "Epoch 161/500\n",
      "24/24 [==============================] - 0s 7ms/step - loss: 352.2487 - val_loss: 1617.2617\n",
      "Epoch 162/500\n",
      "24/24 [==============================] - 0s 7ms/step - loss: 352.1951 - val_loss: 1618.5297\n",
      "Epoch 163/500\n",
      "24/24 [==============================] - 0s 7ms/step - loss: 352.1456 - val_loss: 1619.7306\n",
      "Epoch 164/500\n",
      "24/24 [==============================] - 0s 7ms/step - loss: 352.0997 - val_loss: 1620.8734\n",
      "Epoch 165/500\n",
      "24/24 [==============================] - 0s 7ms/step - loss: 352.0573 - val_loss: 1621.9703\n",
      "Epoch 166/500\n",
      "24/24 [==============================] - 0s 6ms/step - loss: 352.0180 - val_loss: 1623.0085\n",
      "Epoch 167/500\n",
      "24/24 [==============================] - 0s 5ms/step - loss: 351.9816 - val_loss: 1623.9999\n",
      "Epoch 168/500\n",
      "24/24 [==============================] - 0s 5ms/step - loss: 351.9478 - val_loss: 1624.9332\n",
      "Epoch 169/500\n",
      "24/24 [==============================] - 0s 6ms/step - loss: 351.9165 - val_loss: 1625.8257\n",
      "Epoch 170/500\n",
      "24/24 [==============================] - 0s 5ms/step - loss: 351.8877 - val_loss: 1626.6718\n",
      "Epoch 171/500\n",
      "24/24 [==============================] - 0s 6ms/step - loss: 351.8609 - val_loss: 1627.4749\n",
      "Epoch 172/500\n",
      "24/24 [==============================] - 0s 6ms/step - loss: 351.8359 - val_loss: 1628.2428\n",
      "Epoch 173/500\n",
      "24/24 [==============================] - 0s 6ms/step - loss: 351.8129 - val_loss: 1628.9692\n",
      "Epoch 174/500\n",
      "24/24 [==============================] - 0s 5ms/step - loss: 351.7915 - val_loss: 1629.6482\n",
      "Epoch 175/500\n",
      "24/24 [==============================] - 0s 12ms/step - loss: 351.7717 - val_loss: 1630.2845\n",
      "Epoch 176/500\n",
      "24/24 [==============================] - 0s 6ms/step - loss: 351.7533 - val_loss: 1630.8929\n",
      "Epoch 177/500\n",
      "24/24 [==============================] - 0s 9ms/step - loss: 351.7362 - val_loss: 1631.4679\n",
      "Epoch 178/500\n",
      "24/24 [==============================] - 0s 7ms/step - loss: 351.7204 - val_loss: 1632.0120\n",
      "Epoch 179/500\n",
      "24/24 [==============================] - 0s 7ms/step - loss: 351.7057 - val_loss: 1632.5184\n",
      "Epoch 180/500\n",
      "24/24 [==============================] - 0s 6ms/step - loss: 351.6920 - val_loss: 1632.9989\n",
      "Epoch 181/500\n",
      "24/24 [==============================] - 0s 5ms/step - loss: 351.6794 - val_loss: 1633.4740\n",
      "Epoch 182/500\n",
      "24/24 [==============================] - 0s 5ms/step - loss: 351.6677 - val_loss: 1633.9025\n",
      "Epoch 183/500\n",
      "24/24 [==============================] - 0s 5ms/step - loss: 351.6568 - val_loss: 1634.3273\n",
      "Epoch 184/500\n",
      "24/24 [==============================] - 0s 5ms/step - loss: 351.6467 - val_loss: 1634.7148\n",
      "Epoch 185/500\n",
      "24/24 [==============================] - 0s 6ms/step - loss: 351.6373 - val_loss: 1635.0873\n",
      "Epoch 186/500\n",
      "24/24 [==============================] - 0s 5ms/step - loss: 351.6286 - val_loss: 1635.4414\n",
      "Epoch 187/500\n",
      "24/24 [==============================] - 0s 6ms/step - loss: 351.6205 - val_loss: 1635.7892\n",
      "Epoch 188/500\n",
      "24/24 [==============================] - 0s 5ms/step - loss: 351.6130 - val_loss: 1636.0823\n",
      "Epoch 189/500\n",
      "24/24 [==============================] - 0s 5ms/step - loss: 351.6061 - val_loss: 1636.3859\n",
      "Epoch 190/500\n",
      "24/24 [==============================] - 0s 5ms/step - loss: 351.5997 - val_loss: 1636.6730\n",
      "Epoch 191/500\n",
      "24/24 [==============================] - 0s 5ms/step - loss: 351.5937 - val_loss: 1636.9431\n",
      "Epoch 192/500\n",
      "24/24 [==============================] - 0s 6ms/step - loss: 351.5882 - val_loss: 1637.1985\n",
      "Epoch 193/500\n",
      "24/24 [==============================] - 0s 6ms/step - loss: 351.5831 - val_loss: 1637.4484\n",
      "Epoch 194/500\n",
      "24/24 [==============================] - 0s 7ms/step - loss: 351.5784 - val_loss: 1637.6696\n",
      "Epoch 195/500\n",
      "24/24 [==============================] - 0s 6ms/step - loss: 351.5740 - val_loss: 1637.8510\n",
      "Epoch 196/500\n",
      "24/24 [==============================] - 0s 5ms/step - loss: 351.5700 - val_loss: 1638.0480\n",
      "Epoch 197/500\n",
      "24/24 [==============================] - 0s 5ms/step - loss: 351.5663 - val_loss: 1638.2366\n",
      "Epoch 198/500\n",
      "24/24 [==============================] - 0s 5ms/step - loss: 351.5628 - val_loss: 1638.4210\n",
      "Epoch 199/500\n",
      "24/24 [==============================] - 0s 5ms/step - loss: 351.5597 - val_loss: 1638.5865\n",
      "Epoch 200/500\n",
      "24/24 [==============================] - 0s 5ms/step - loss: 351.5567 - val_loss: 1638.7423\n",
      "Epoch 201/500\n",
      "24/24 [==============================] - 0s 5ms/step - loss: 351.5540 - val_loss: 1638.8877\n",
      "Epoch 202/500\n",
      "24/24 [==============================] - 0s 6ms/step - loss: 351.5516 - val_loss: 1639.0250\n",
      "Epoch 203/500\n",
      "24/24 [==============================] - 0s 5ms/step - loss: 351.5493 - val_loss: 1639.1420\n",
      "Epoch 204/500\n",
      "24/24 [==============================] - 0s 6ms/step - loss: 351.5472 - val_loss: 1639.2627\n",
      "Epoch 205/500\n",
      "24/24 [==============================] - 0s 13ms/step - loss: 351.5453 - val_loss: 1639.3702\n",
      "Epoch 206/500\n",
      "24/24 [==============================] - 0s 8ms/step - loss: 351.5435 - val_loss: 1639.4457\n",
      "Epoch 207/500\n",
      "24/24 [==============================] - 0s 7ms/step - loss: 351.5419 - val_loss: 1639.5820\n",
      "Epoch 208/500\n",
      "24/24 [==============================] - 0s 7ms/step - loss: 351.5405 - val_loss: 1639.7083\n",
      "Epoch 209/500\n",
      "24/24 [==============================] - 0s 8ms/step - loss: 351.5392 - val_loss: 1639.7766\n",
      "Epoch 210/500\n",
      "24/24 [==============================] - 0s 6ms/step - loss: 351.5380 - val_loss: 1639.8882\n",
      "Epoch 211/500\n",
      "24/24 [==============================] - 0s 5ms/step - loss: 351.5369 - val_loss: 1639.9427\n",
      "Epoch 212/500\n",
      "24/24 [==============================] - 0s 5ms/step - loss: 351.5359 - val_loss: 1640.0446\n",
      "Epoch 213/500\n",
      "24/24 [==============================] - 0s 5ms/step - loss: 351.5350 - val_loss: 1640.0895\n",
      "Epoch 214/500\n",
      "24/24 [==============================] - 0s 6ms/step - loss: 351.5342 - val_loss: 1640.1781\n",
      "Epoch 215/500\n",
      "24/24 [==============================] - 0s 5ms/step - loss: 351.5335 - val_loss: 1640.1891\n",
      "Epoch 216/500\n",
      "24/24 [==============================] - 0s 6ms/step - loss: 351.5329 - val_loss: 1640.2831\n",
      "Epoch 217/500\n",
      "24/24 [==============================] - 0s 5ms/step - loss: 351.5323 - val_loss: 1640.3696\n",
      "Epoch 218/500\n",
      "24/24 [==============================] - 0s 5ms/step - loss: 351.5319 - val_loss: 1640.4102\n",
      "Epoch 219/500\n",
      "24/24 [==============================] - 0s 5ms/step - loss: 351.5315 - val_loss: 1640.4380\n",
      "Epoch 220/500\n",
      "24/24 [==============================] - 0s 5ms/step - loss: 351.5312 - val_loss: 1640.5070\n",
      "Epoch 221/500\n",
      "24/24 [==============================] - 0s 5ms/step - loss: 351.5309 - val_loss: 1640.5039\n",
      "Epoch 222/500\n",
      "24/24 [==============================] - 0s 5ms/step - loss: 351.5306 - val_loss: 1640.5759\n",
      "Epoch 223/500\n",
      "24/24 [==============================] - 0s 5ms/step - loss: 351.5304 - val_loss: 1640.6439\n",
      "Epoch 224/500\n",
      "24/24 [==============================] - 0s 5ms/step - loss: 351.5303 - val_loss: 1640.6316\n",
      "Epoch 225/500\n",
      "24/24 [==============================] - 0s 5ms/step - loss: 351.5301 - val_loss: 1640.6941\n",
      "Epoch 226/500\n",
      "24/24 [==============================] - 0s 5ms/step - loss: 351.5300 - val_loss: 1640.7500\n",
      "Epoch 227/500\n",
      "24/24 [==============================] - 0s 5ms/step - loss: 351.5300 - val_loss: 1640.7260\n",
      "Epoch 228/500\n",
      "24/24 [==============================] - 0s 5ms/step - loss: 351.5300 - val_loss: 1640.7828\n",
      "Epoch 229/500\n",
      "24/24 [==============================] - 0s 5ms/step - loss: 351.5300 - val_loss: 1640.8361\n",
      "Epoch 230/500\n",
      "24/24 [==============================] - 0s 5ms/step - loss: 351.5300 - val_loss: 1640.8362\n",
      "Epoch 231/500\n",
      "24/24 [==============================] - 0s 5ms/step - loss: 351.5300 - val_loss: 1640.8826\n",
      "Epoch 232/500\n",
      "24/24 [==============================] - 0s 5ms/step - loss: 351.5302 - val_loss: 1640.8912\n",
      "Epoch 233/500\n",
      "24/24 [==============================] - 0s 5ms/step - loss: 351.5303 - val_loss: 1640.9380\n",
      "Epoch 234/500\n",
      "24/24 [==============================] - 0s 8ms/step - loss: 351.5303 - val_loss: 1640.9379\n",
      "Epoch 235/500\n",
      "24/24 [==============================] - 0s 8ms/step - loss: 351.5305 - val_loss: 1640.9246\n",
      "Epoch 236/500\n",
      "24/24 [==============================] - 0s 6ms/step - loss: 351.5306 - val_loss: 1640.9734\n",
      "Epoch 237/500\n",
      "24/24 [==============================] - 0s 6ms/step - loss: 351.5308 - val_loss: 1641.0162\n",
      "Epoch 238/500\n",
      "24/24 [==============================] - 0s 5ms/step - loss: 351.5310 - val_loss: 1641.0085\n",
      "Epoch 239/500\n",
      "24/24 [==============================] - 0s 6ms/step - loss: 351.5312 - val_loss: 1641.0016\n",
      "Epoch 240/500\n",
      "24/24 [==============================] - 0s 6ms/step - loss: 351.5313 - val_loss: 1641.0394\n",
      "Epoch 241/500\n",
      "24/24 [==============================] - 0s 5ms/step - loss: 351.5315 - val_loss: 1641.0336\n",
      "Epoch 242/500\n",
      "24/24 [==============================] - 0s 5ms/step - loss: 351.5317 - val_loss: 1641.0676\n",
      "Epoch 243/500\n",
      "24/24 [==============================] - 0s 5ms/step - loss: 351.5320 - val_loss: 1641.0446\n",
      "Epoch 244/500\n",
      "24/24 [==============================] - 0s 5ms/step - loss: 351.5322 - val_loss: 1641.0858\n",
      "Epoch 245/500\n",
      "24/24 [==============================] - 0s 5ms/step - loss: 351.5324 - val_loss: 1641.1212\n",
      "Epoch 246/500\n",
      "24/24 [==============================] - 0s 5ms/step - loss: 351.5327 - val_loss: 1641.1095\n",
      "Epoch 247/500\n",
      "24/24 [==============================] - 0s 5ms/step - loss: 351.5329 - val_loss: 1641.1359\n",
      "Epoch 248/500\n",
      "24/24 [==============================] - 0s 6ms/step - loss: 351.5332 - val_loss: 1641.1047\n",
      "Epoch 249/500\n",
      "24/24 [==============================] - 0s 6ms/step - loss: 351.5334 - val_loss: 1641.1401\n",
      "Epoch 250/500\n",
      "24/24 [==============================] - 0s 5ms/step - loss: 351.5336 - val_loss: 1641.1709\n",
      "Epoch 251/500\n",
      "24/24 [==============================] - 0s 5ms/step - loss: 351.5338 - val_loss: 1641.1539\n",
      "Epoch 252/500\n",
      "24/24 [==============================] - 0s 5ms/step - loss: 351.5341 - val_loss: 1641.1746\n",
      "Epoch 253/500\n",
      "24/24 [==============================] - 0s 5ms/step - loss: 351.5343 - val_loss: 1641.0977\n",
      "Epoch 254/500\n",
      "24/24 [==============================] - 0s 5ms/step - loss: 351.5345 - val_loss: 1641.1299\n",
      "Epoch 255/500\n",
      "24/24 [==============================] - 0s 6ms/step - loss: 351.5349 - val_loss: 1641.1715\n",
      "Epoch 256/500\n",
      "24/24 [==============================] - 0s 5ms/step - loss: 351.5351 - val_loss: 1641.2004\n",
      "Epoch 257/500\n",
      "24/24 [==============================] - 0s 5ms/step - loss: 351.5353 - val_loss: 1641.1609\n",
      "Epoch 258/500\n",
      "24/24 [==============================] - 0s 6ms/step - loss: 351.5356 - val_loss: 1641.1917\n",
      "Epoch 259/500\n",
      "24/24 [==============================] - 0s 5ms/step - loss: 351.5358 - val_loss: 1641.2192\n",
      "Epoch 260/500\n",
      "24/24 [==============================] - 0s 5ms/step - loss: 351.5361 - val_loss: 1641.1924\n",
      "Epoch 261/500\n",
      "24/24 [==============================] - 0s 5ms/step - loss: 351.5363 - val_loss: 1641.2250\n",
      "Epoch 262/500\n",
      "24/24 [==============================] - 0s 6ms/step - loss: 351.5364 - val_loss: 1641.2472\n",
      "Epoch 263/500\n",
      "24/24 [==============================] - 0s 5ms/step - loss: 351.5367 - val_loss: 1641.1964\n",
      "Epoch 264/500\n",
      "24/24 [==============================] - 0s 5ms/step - loss: 351.5369 - val_loss: 1641.2250\n",
      "Epoch 265/500\n",
      "24/24 [==============================] - 0s 10ms/step - loss: 351.5372 - val_loss: 1641.2496\n",
      "Epoch 266/500\n",
      "24/24 [==============================] - 0s 6ms/step - loss: 351.5374 - val_loss: 1641.1949\n",
      "Epoch 267/500\n",
      "24/24 [==============================] - 0s 6ms/step - loss: 351.5376 - val_loss: 1641.2253\n",
      "Epoch 268/500\n",
      "24/24 [==============================] - 0s 6ms/step - loss: 351.5378 - val_loss: 1641.2609\n",
      "Epoch 269/500\n",
      "24/24 [==============================] - 0s 6ms/step - loss: 351.5380 - val_loss: 1641.2860\n",
      "Epoch 270/500\n",
      "24/24 [==============================] - 0s 5ms/step - loss: 351.5381 - val_loss: 1641.2527\n",
      "Epoch 271/500\n",
      "24/24 [==============================] - 0s 5ms/step - loss: 351.5384 - val_loss: 1641.2797\n",
      "Epoch 272/500\n",
      "24/24 [==============================] - 0s 5ms/step - loss: 351.5386 - val_loss: 1641.3033\n",
      "Epoch 273/500\n",
      "24/24 [==============================] - 0s 5ms/step - loss: 351.5388 - val_loss: 1641.2633\n",
      "Epoch 274/500\n",
      "24/24 [==============================] - 0s 5ms/step - loss: 351.5390 - val_loss: 1641.2882\n",
      "Epoch 275/500\n",
      "24/24 [==============================] - 0s 5ms/step - loss: 351.5392 - val_loss: 1641.3033\n",
      "Epoch 276/500\n",
      "24/24 [==============================] - 0s 5ms/step - loss: 351.5393 - val_loss: 1641.1913\n",
      "Epoch 277/500\n",
      "24/24 [==============================] - 0s 5ms/step - loss: 351.5395 - val_loss: 1641.2188\n",
      "Epoch 278/500\n",
      "24/24 [==============================] - 0s 5ms/step - loss: 351.5397 - val_loss: 1641.2524\n",
      "Epoch 279/500\n",
      "24/24 [==============================] - 0s 5ms/step - loss: 351.5400 - val_loss: 1641.2826\n",
      "Epoch 280/500\n",
      "24/24 [==============================] - 0s 5ms/step - loss: 351.5400 - val_loss: 1641.3148\n",
      "Epoch 281/500\n",
      "24/24 [==============================] - 0s 5ms/step - loss: 351.5402 - val_loss: 1641.3309\n",
      "Epoch 282/500\n",
      "24/24 [==============================] - 0s 5ms/step - loss: 351.5404 - val_loss: 1641.2603\n",
      "Epoch 283/500\n",
      "24/24 [==============================] - 0s 5ms/step - loss: 351.5406 - val_loss: 1641.2828\n",
      "Epoch 284/500\n",
      "24/24 [==============================] - 0s 5ms/step - loss: 351.5408 - val_loss: 1641.3115\n",
      "Epoch 285/500\n",
      "24/24 [==============================] - 0s 5ms/step - loss: 351.5409 - val_loss: 1641.3300\n",
      "Epoch 286/500\n",
      "24/24 [==============================] - 0s 5ms/step - loss: 351.5410 - val_loss: 1641.2828\n",
      "Epoch 287/500\n",
      "24/24 [==============================] - 0s 5ms/step - loss: 351.5412 - val_loss: 1641.3087\n",
      "Epoch 288/500\n",
      "24/24 [==============================] - 0s 6ms/step - loss: 351.5413 - val_loss: 1641.3357\n",
      "Epoch 289/500\n",
      "24/24 [==============================] - 0s 5ms/step - loss: 351.5415 - val_loss: 1641.3411\n",
      "Epoch 290/500\n",
      "24/24 [==============================] - 0s 5ms/step - loss: 351.5416 - val_loss: 1641.2053\n",
      "Epoch 291/500\n",
      "24/24 [==============================] - 0s 6ms/step - loss: 351.5417 - val_loss: 1641.2319\n",
      "Epoch 292/500\n",
      "24/24 [==============================] - 0s 5ms/step - loss: 351.5419 - val_loss: 1641.2678\n",
      "Epoch 293/500\n",
      "24/24 [==============================] - 0s 5ms/step - loss: 351.5420 - val_loss: 1641.3018\n",
      "Epoch 294/500\n",
      "24/24 [==============================] - 0s 9ms/step - loss: 351.5422 - val_loss: 1641.3329\n",
      "Epoch 295/500\n",
      "24/24 [==============================] - 0s 9ms/step - loss: 351.5422 - val_loss: 1641.3628\n",
      "Epoch 296/500\n",
      "24/24 [==============================] - 0s 6ms/step - loss: 351.5424 - val_loss: 1641.3820\n",
      "Epoch 297/500\n",
      "24/24 [==============================] - 0s 5ms/step - loss: 351.5425 - val_loss: 1641.3250\n",
      "Epoch 298/500\n",
      "24/24 [==============================] - 0s 6ms/step - loss: 351.5427 - val_loss: 1641.3484\n",
      "Epoch 299/500\n",
      "24/24 [==============================] - 0s 5ms/step - loss: 351.5427 - val_loss: 1641.3706\n",
      "Epoch 300/500\n",
      "24/24 [==============================] - 0s 5ms/step - loss: 351.5428 - val_loss: 1641.3798\n",
      "Epoch 301/500\n",
      "24/24 [==============================] - 0s 5ms/step - loss: 351.5429 - val_loss: 1641.2837\n",
      "Epoch 302/500\n",
      "24/24 [==============================] - 0s 5ms/step - loss: 351.5430 - val_loss: 1641.3033\n",
      "Epoch 303/500\n",
      "24/24 [==============================] - 0s 5ms/step - loss: 351.5431 - val_loss: 1641.3304\n",
      "Epoch 304/500\n",
      "24/24 [==============================] - 0s 5ms/step - loss: 351.5432 - val_loss: 1641.3616\n",
      "Epoch 305/500\n",
      "24/24 [==============================] - 0s 5ms/step - loss: 351.5433 - val_loss: 1641.3888\n",
      "Epoch 306/500\n",
      "24/24 [==============================] - 0s 5ms/step - loss: 351.5434 - val_loss: 1641.4020\n",
      "Epoch 307/500\n",
      "24/24 [==============================] - 0s 5ms/step - loss: 351.5435 - val_loss: 1641.3325\n",
      "Epoch 308/500\n",
      "24/24 [==============================] - 0s 5ms/step - loss: 351.5437 - val_loss: 1641.3491\n",
      "Epoch 309/500\n",
      "24/24 [==============================] - 0s 5ms/step - loss: 351.5436 - val_loss: 1641.3717\n",
      "Epoch 310/500\n",
      "24/24 [==============================] - 0s 5ms/step - loss: 351.5438 - val_loss: 1641.3954\n",
      "Epoch 311/500\n",
      "24/24 [==============================] - 0s 5ms/step - loss: 351.5439 - val_loss: 1641.4034\n",
      "Epoch 312/500\n",
      "24/24 [==============================] - 0s 5ms/step - loss: 351.5439 - val_loss: 1641.2930\n",
      "Epoch 313/500\n",
      "24/24 [==============================] - 0s 5ms/step - loss: 351.5439 - val_loss: 1641.3083\n",
      "Epoch 314/500\n",
      "24/24 [==============================] - 0s 5ms/step - loss: 351.5441 - val_loss: 1641.3357\n",
      "Epoch 315/500\n",
      "24/24 [==============================] - 0s 6ms/step - loss: 351.5442 - val_loss: 1641.3618\n",
      "Epoch 316/500\n",
      "24/24 [==============================] - 0s 6ms/step - loss: 351.5442 - val_loss: 1641.3870\n",
      "Epoch 317/500\n",
      "24/24 [==============================] - 0s 6ms/step - loss: 351.5443 - val_loss: 1641.4076\n",
      "Epoch 318/500\n",
      "24/24 [==============================] - 0s 6ms/step - loss: 351.5444 - val_loss: 1641.4110\n",
      "Epoch 319/500\n",
      "24/24 [==============================] - 0s 7ms/step - loss: 351.5444 - val_loss: 1641.2883\n",
      "Epoch 320/500\n",
      "24/24 [==============================] - 0s 7ms/step - loss: 351.5444 - val_loss: 1641.3109\n",
      "Epoch 321/500\n",
      "24/24 [==============================] - 0s 6ms/step - loss: 351.5446 - val_loss: 1641.3441\n",
      "Epoch 322/500\n",
      "24/24 [==============================] - 0s 13ms/step - loss: 351.5446 - val_loss: 1641.3756\n",
      "Epoch 323/500\n",
      "24/24 [==============================] - 0s 9ms/step - loss: 351.5446 - val_loss: 1641.3993\n",
      "Epoch 324/500\n",
      "24/24 [==============================] - 0s 8ms/step - loss: 351.5447 - val_loss: 1641.4215\n",
      "Epoch 325/500\n",
      "24/24 [==============================] - 0s 7ms/step - loss: 351.5448 - val_loss: 1641.4281\n",
      "Epoch 326/500\n",
      "24/24 [==============================] - 0s 6ms/step - loss: 351.5448 - val_loss: 1641.3356\n",
      "Epoch 327/500\n",
      "24/24 [==============================] - 0s 6ms/step - loss: 351.5449 - val_loss: 1641.3513\n",
      "Epoch 328/500\n",
      "24/24 [==============================] - 0s 6ms/step - loss: 351.5449 - val_loss: 1641.3744\n",
      "Epoch 329/500\n",
      "24/24 [==============================] - 0s 7ms/step - loss: 351.5450 - val_loss: 1641.4003\n",
      "Epoch 330/500\n",
      "24/24 [==============================] - 0s 7ms/step - loss: 351.5450 - val_loss: 1641.4263\n",
      "Epoch 331/500\n",
      "24/24 [==============================] - 0s 7ms/step - loss: 351.5452 - val_loss: 1641.4388\n",
      "Epoch 332/500\n",
      "24/24 [==============================] - 0s 7ms/step - loss: 351.5451 - val_loss: 1641.3442\n",
      "Epoch 333/500\n",
      "24/24 [==============================] - 0s 6ms/step - loss: 351.5451 - val_loss: 1641.3663\n",
      "Epoch 334/500\n",
      "24/24 [==============================] - 0s 6ms/step - loss: 351.5451 - val_loss: 1641.3895\n",
      "Epoch 335/500\n",
      "24/24 [==============================] - 0s 7ms/step - loss: 351.5453 - val_loss: 1641.4147\n",
      "Epoch 336/500\n",
      "24/24 [==============================] - 0s 8ms/step - loss: 351.5453 - val_loss: 1641.4379\n",
      "Epoch 337/500\n",
      "24/24 [==============================] - 0s 6ms/step - loss: 351.5453 - val_loss: 1641.4429\n",
      "Epoch 338/500\n",
      "24/24 [==============================] - 0s 7ms/step - loss: 351.5453 - val_loss: 1641.3295\n",
      "Epoch 339/500\n",
      "24/24 [==============================] - 0s 6ms/step - loss: 351.5454 - val_loss: 1641.3441\n",
      "Epoch 340/500\n",
      "24/24 [==============================] - 0s 7ms/step - loss: 351.5454 - val_loss: 1641.3696\n",
      "Epoch 341/500\n",
      "24/24 [==============================] - 0s 7ms/step - loss: 351.5454 - val_loss: 1641.3971\n",
      "Epoch 342/500\n",
      "24/24 [==============================] - 0s 7ms/step - loss: 351.5455 - val_loss: 1641.4241\n",
      "Epoch 343/500\n",
      "24/24 [==============================] - 0s 7ms/step - loss: 351.5455 - val_loss: 1641.4485\n",
      "Epoch 344/500\n",
      "24/24 [==============================] - 0s 7ms/step - loss: 351.5455 - val_loss: 1641.4622\n",
      "Epoch 345/500\n",
      "24/24 [==============================] - 0s 6ms/step - loss: 351.5456 - val_loss: 1641.4369\n",
      "Epoch 346/500\n",
      "24/24 [==============================] - 0s 6ms/step - loss: 351.5455 - val_loss: 1641.1578\n",
      "Epoch 347/500\n",
      "24/24 [==============================] - 0s 10ms/step - loss: 351.5455 - val_loss: 1641.1803\n",
      "Epoch 348/500\n",
      "24/24 [==============================] - 0s 8ms/step - loss: 351.5456 - val_loss: 1641.2174\n",
      "Epoch 349/500\n",
      "24/24 [==============================] - 0s 5ms/step - loss: 351.5456 - val_loss: 1641.2556\n",
      "Epoch 350/500\n",
      "24/24 [==============================] - 0s 5ms/step - loss: 351.5457 - val_loss: 1641.2911\n",
      "Epoch 351/500\n",
      "24/24 [==============================] - 0s 5ms/step - loss: 351.5456 - val_loss: 1641.3252\n",
      "Epoch 352/500\n",
      "24/24 [==============================] - 0s 5ms/step - loss: 351.5457 - val_loss: 1641.3470\n",
      "Epoch 353/500\n",
      "24/24 [==============================] - 0s 5ms/step - loss: 351.5457 - val_loss: 1641.3788\n",
      "Epoch 354/500\n",
      "24/24 [==============================] - 0s 5ms/step - loss: 351.5457 - val_loss: 1641.4023\n",
      "Epoch 355/500\n",
      "24/24 [==============================] - 0s 5ms/step - loss: 351.5457 - val_loss: 1641.4095\n",
      "Epoch 356/500\n",
      "24/24 [==============================] - 0s 5ms/step - loss: 351.5458 - val_loss: 1641.4233\n",
      "Epoch 357/500\n",
      "24/24 [==============================] - 0s 5ms/step - loss: 351.5458 - val_loss: 1641.4332\n",
      "Epoch 358/500\n",
      "24/24 [==============================] - 0s 6ms/step - loss: 351.5458 - val_loss: 1641.4329\n",
      "Epoch 359/500\n",
      "24/24 [==============================] - 0s 5ms/step - loss: 351.5458 - val_loss: 1641.4318\n",
      "Epoch 360/500\n",
      "24/24 [==============================] - 0s 5ms/step - loss: 351.5457 - val_loss: 1641.4303\n",
      "Epoch 361/500\n",
      "24/24 [==============================] - 0s 5ms/step - loss: 351.5457 - val_loss: 1641.4283\n",
      "Epoch 362/500\n",
      "24/24 [==============================] - 0s 5ms/step - loss: 351.5458 - val_loss: 1641.4261\n",
      "Epoch 363/500\n",
      "24/24 [==============================] - 0s 5ms/step - loss: 351.5459 - val_loss: 1641.4248\n",
      "Epoch 364/500\n",
      "24/24 [==============================] - 0s 5ms/step - loss: 351.5460 - val_loss: 1641.4238\n",
      "Epoch 365/500\n",
      "24/24 [==============================] - 0s 5ms/step - loss: 351.5458 - val_loss: 1641.4235\n",
      "Epoch 366/500\n",
      "24/24 [==============================] - 0s 5ms/step - loss: 351.5459 - val_loss: 1641.4218\n",
      "Epoch 367/500\n",
      "24/24 [==============================] - 0s 5ms/step - loss: 351.5461 - val_loss: 1641.4208\n",
      "Epoch 368/500\n",
      "24/24 [==============================] - 0s 5ms/step - loss: 351.5459 - val_loss: 1641.4196\n",
      "Epoch 369/500\n",
      "24/24 [==============================] - 0s 6ms/step - loss: 351.5458 - val_loss: 1641.4191\n",
      "Epoch 370/500\n",
      "24/24 [==============================] - 0s 5ms/step - loss: 351.5459 - val_loss: 1641.4176\n",
      "Epoch 371/500\n",
      "24/24 [==============================] - 0s 5ms/step - loss: 351.5460 - val_loss: 1641.4163\n",
      "Epoch 372/500\n",
      "24/24 [==============================] - 0s 6ms/step - loss: 351.5459 - val_loss: 1641.4154\n",
      "Epoch 373/500\n",
      "24/24 [==============================] - 0s 5ms/step - loss: 351.5459 - val_loss: 1641.4147\n",
      "Epoch 374/500\n",
      "24/24 [==============================] - 0s 12ms/step - loss: 351.5460 - val_loss: 1641.4135\n",
      "Epoch 375/500\n",
      "24/24 [==============================] - 0s 6ms/step - loss: 351.5460 - val_loss: 1641.4128\n",
      "Epoch 376/500\n",
      "24/24 [==============================] - 0s 6ms/step - loss: 351.5459 - val_loss: 1641.4125\n",
      "Epoch 377/500\n",
      "24/24 [==============================] - 0s 6ms/step - loss: 351.5459 - val_loss: 1641.4105\n",
      "Epoch 378/500\n",
      "24/24 [==============================] - 0s 6ms/step - loss: 351.5460 - val_loss: 1641.4089\n",
      "Epoch 379/500\n",
      "24/24 [==============================] - 0s 5ms/step - loss: 351.5459 - val_loss: 1641.4071\n",
      "Epoch 380/500\n",
      "24/24 [==============================] - 0s 5ms/step - loss: 351.5458 - val_loss: 1641.4059\n",
      "Epoch 381/500\n",
      "24/24 [==============================] - 0s 7ms/step - loss: 351.5458 - val_loss: 1641.4048\n",
      "Epoch 382/500\n",
      "24/24 [==============================] - 0s 6ms/step - loss: 351.5459 - val_loss: 1641.4026\n",
      "Epoch 383/500\n",
      "24/24 [==============================] - 0s 6ms/step - loss: 351.5460 - val_loss: 1641.4016\n",
      "Epoch 384/500\n",
      "24/24 [==============================] - 0s 5ms/step - loss: 351.5459 - val_loss: 1641.4006\n",
      "Epoch 385/500\n",
      "24/24 [==============================] - 0s 7ms/step - loss: 351.5458 - val_loss: 1641.4001\n",
      "Epoch 386/500\n",
      "24/24 [==============================] - 0s 7ms/step - loss: 351.5459 - val_loss: 1641.3982\n",
      "Epoch 387/500\n",
      "24/24 [==============================] - 0s 6ms/step - loss: 351.5460 - val_loss: 1641.3973\n",
      "Epoch 388/500\n",
      "24/24 [==============================] - 0s 6ms/step - loss: 351.5460 - val_loss: 1641.3971\n",
      "Epoch 389/500\n",
      "24/24 [==============================] - 0s 6ms/step - loss: 351.5459 - val_loss: 1641.3955\n",
      "Epoch 390/500\n",
      "24/24 [==============================] - 0s 5ms/step - loss: 351.5460 - val_loss: 1641.3944\n",
      "Epoch 391/500\n",
      "24/24 [==============================] - 0s 5ms/step - loss: 351.5459 - val_loss: 1641.3934\n",
      "Epoch 392/500\n",
      "24/24 [==============================] - 0s 4ms/step - loss: 351.5459 - val_loss: 1641.3928\n",
      "Epoch 393/500\n",
      "24/24 [==============================] - 0s 5ms/step - loss: 351.5458 - val_loss: 1641.3906\n",
      "Epoch 394/500\n",
      "24/24 [==============================] - 0s 5ms/step - loss: 351.5459 - val_loss: 1641.3888\n",
      "Epoch 395/500\n",
      "24/24 [==============================] - 0s 5ms/step - loss: 351.5458 - val_loss: 1641.3875\n",
      "Epoch 396/500\n",
      "24/24 [==============================] - 0s 6ms/step - loss: 351.5458 - val_loss: 1641.3860\n",
      "Epoch 397/500\n",
      "24/24 [==============================] - 0s 5ms/step - loss: 351.5458 - val_loss: 1641.3845\n",
      "Epoch 398/500\n",
      "24/24 [==============================] - 0s 5ms/step - loss: 351.5457 - val_loss: 1641.3822\n",
      "Epoch 399/500\n",
      "24/24 [==============================] - 0s 5ms/step - loss: 351.5458 - val_loss: 1641.3802\n",
      "Epoch 400/500\n",
      "24/24 [==============================] - 0s 5ms/step - loss: 351.5458 - val_loss: 1641.3784\n",
      "Epoch 401/500\n",
      "24/24 [==============================] - 0s 5ms/step - loss: 351.5458 - val_loss: 1641.3763\n",
      "Epoch 402/500\n",
      "24/24 [==============================] - 0s 5ms/step - loss: 351.5459 - val_loss: 1641.3759\n",
      "Epoch 403/500\n",
      "24/24 [==============================] - 0s 12ms/step - loss: 351.5458 - val_loss: 1641.3740\n",
      "Epoch 404/500\n",
      "24/24 [==============================] - 0s 5ms/step - loss: 351.5459 - val_loss: 1641.3728\n",
      "Epoch 405/500\n",
      "24/24 [==============================] - 0s 6ms/step - loss: 351.5459 - val_loss: 1641.3713\n",
      "Epoch 406/500\n",
      "24/24 [==============================] - 0s 5ms/step - loss: 351.5458 - val_loss: 1641.3713\n",
      "Epoch 407/500\n",
      "24/24 [==============================] - 0s 5ms/step - loss: 351.5458 - val_loss: 1641.3698\n",
      "Epoch 408/500\n",
      "24/24 [==============================] - 0s 6ms/step - loss: 351.5459 - val_loss: 1641.3690\n",
      "Epoch 409/500\n",
      "24/24 [==============================] - 0s 5ms/step - loss: 351.5459 - val_loss: 1641.3689\n",
      "Epoch 410/500\n",
      "24/24 [==============================] - 0s 5ms/step - loss: 351.5458 - val_loss: 1641.3680\n",
      "Epoch 411/500\n",
      "24/24 [==============================] - 0s 5ms/step - loss: 351.5458 - val_loss: 1641.3671\n",
      "Epoch 412/500\n",
      "24/24 [==============================] - 0s 5ms/step - loss: 351.5458 - val_loss: 1641.3669\n",
      "Epoch 413/500\n",
      "24/24 [==============================] - 0s 5ms/step - loss: 351.5458 - val_loss: 1641.3661\n",
      "Epoch 414/500\n",
      "24/24 [==============================] - 0s 5ms/step - loss: 351.5457 - val_loss: 1641.3646\n",
      "Epoch 415/500\n",
      "24/24 [==============================] - 0s 5ms/step - loss: 351.5457 - val_loss: 1641.3632\n",
      "Epoch 416/500\n",
      "24/24 [==============================] - 0s 5ms/step - loss: 351.5457 - val_loss: 1641.3623\n",
      "Epoch 417/500\n",
      "24/24 [==============================] - 0s 6ms/step - loss: 351.5456 - val_loss: 1641.3607\n",
      "Epoch 418/500\n",
      "24/24 [==============================] - 0s 5ms/step - loss: 351.5456 - val_loss: 1641.3588\n",
      "Epoch 419/500\n",
      "24/24 [==============================] - 0s 4ms/step - loss: 351.5457 - val_loss: 1641.3572\n",
      "Epoch 420/500\n",
      "24/24 [==============================] - 0s 5ms/step - loss: 351.5457 - val_loss: 1641.3557\n",
      "Epoch 421/500\n",
      "24/24 [==============================] - 0s 4ms/step - loss: 351.5456 - val_loss: 1641.3545\n",
      "Epoch 422/500\n",
      "24/24 [==============================] - 0s 5ms/step - loss: 351.5455 - val_loss: 1641.3524\n",
      "Epoch 423/500\n",
      "24/24 [==============================] - 0s 4ms/step - loss: 351.5455 - val_loss: 1641.3503\n",
      "Epoch 424/500\n",
      "24/24 [==============================] - 0s 4ms/step - loss: 351.5456 - val_loss: 1641.3489\n",
      "Epoch 425/500\n",
      "24/24 [==============================] - 0s 4ms/step - loss: 351.5456 - val_loss: 1641.3475\n",
      "Epoch 426/500\n",
      "24/24 [==============================] - 0s 5ms/step - loss: 351.5456 - val_loss: 1641.3461\n",
      "Epoch 427/500\n",
      "24/24 [==============================] - 0s 11ms/step - loss: 351.5455 - val_loss: 1641.3441\n",
      "Epoch 428/500\n",
      "24/24 [==============================] - 0s 5ms/step - loss: 351.5456 - val_loss: 1641.3422\n",
      "Epoch 429/500\n",
      "24/24 [==============================] - 0s 6ms/step - loss: 351.5455 - val_loss: 1641.3406\n",
      "Epoch 430/500\n",
      "24/24 [==============================] - 0s 6ms/step - loss: 351.5455 - val_loss: 1641.3391\n",
      "Epoch 431/500\n",
      "24/24 [==============================] - 0s 5ms/step - loss: 351.5456 - val_loss: 1641.3384\n",
      "Epoch 432/500\n",
      "24/24 [==============================] - 0s 4ms/step - loss: 351.5454 - val_loss: 1641.3361\n",
      "Epoch 433/500\n",
      "24/24 [==============================] - 0s 5ms/step - loss: 351.5455 - val_loss: 1641.3342\n",
      "Epoch 434/500\n",
      "24/24 [==============================] - 0s 5ms/step - loss: 351.5455 - val_loss: 1641.3328\n",
      "Epoch 435/500\n",
      "24/24 [==============================] - 0s 5ms/step - loss: 351.5454 - val_loss: 1641.3313\n",
      "Epoch 436/500\n",
      "24/24 [==============================] - 0s 5ms/step - loss: 351.5454 - val_loss: 1641.3303\n",
      "Epoch 437/500\n",
      "24/24 [==============================] - 0s 5ms/step - loss: 351.5454 - val_loss: 1641.3276\n",
      "Epoch 438/500\n",
      "24/24 [==============================] - 0s 5ms/step - loss: 351.5455 - val_loss: 1641.3267\n",
      "Epoch 439/500\n",
      "24/24 [==============================] - 0s 5ms/step - loss: 351.5455 - val_loss: 1641.3253\n",
      "Epoch 440/500\n",
      "24/24 [==============================] - 0s 5ms/step - loss: 351.5455 - val_loss: 1641.3243\n",
      "Epoch 441/500\n",
      "24/24 [==============================] - 0s 5ms/step - loss: 351.5453 - val_loss: 1641.3221\n",
      "Epoch 442/500\n",
      "24/24 [==============================] - 0s 4ms/step - loss: 351.5454 - val_loss: 1641.3204\n",
      "Epoch 443/500\n",
      "24/24 [==============================] - 0s 5ms/step - loss: 351.5454 - val_loss: 1641.3191\n",
      "Epoch 444/500\n",
      "24/24 [==============================] - 0s 5ms/step - loss: 351.5454 - val_loss: 1641.3181\n",
      "Epoch 445/500\n",
      "24/24 [==============================] - 0s 5ms/step - loss: 351.5454 - val_loss: 1641.3171\n",
      "Epoch 446/500\n",
      "24/24 [==============================] - 0s 5ms/step - loss: 351.5453 - val_loss: 1641.3154\n",
      "Epoch 447/500\n",
      "24/24 [==============================] - 0s 5ms/step - loss: 351.5454 - val_loss: 1641.3143\n",
      "Epoch 448/500\n",
      "24/24 [==============================] - 0s 5ms/step - loss: 351.5454 - val_loss: 1641.3140\n",
      "Epoch 449/500\n",
      "24/24 [==============================] - 0s 5ms/step - loss: 351.5453 - val_loss: 1641.3119\n",
      "Epoch 450/500\n",
      "24/24 [==============================] - 0s 5ms/step - loss: 351.5453 - val_loss: 1641.3105\n",
      "Epoch 451/500\n",
      "24/24 [==============================] - 0s 5ms/step - loss: 351.5453 - val_loss: 1641.3093\n",
      "Epoch 452/500\n",
      "24/24 [==============================] - 0s 12ms/step - loss: 351.5453 - val_loss: 1641.3088\n",
      "Epoch 453/500\n",
      "24/24 [==============================] - 0s 6ms/step - loss: 351.5451 - val_loss: 1641.3065\n",
      "Epoch 454/500\n",
      "24/24 [==============================] - 0s 5ms/step - loss: 351.5452 - val_loss: 1641.3055\n",
      "Epoch 455/500\n",
      "24/24 [==============================] - 0s 5ms/step - loss: 351.5452 - val_loss: 1641.3046\n",
      "Epoch 456/500\n",
      "24/24 [==============================] - 0s 5ms/step - loss: 351.5452 - val_loss: 1641.3040\n",
      "Epoch 457/500\n",
      "24/24 [==============================] - 0s 5ms/step - loss: 351.5451 - val_loss: 1641.3021\n",
      "Epoch 458/500\n",
      "24/24 [==============================] - 0s 5ms/step - loss: 351.5451 - val_loss: 1641.3013\n",
      "Epoch 459/500\n",
      "24/24 [==============================] - 0s 5ms/step - loss: 351.5451 - val_loss: 1641.3003\n",
      "Epoch 460/500\n",
      "24/24 [==============================] - 0s 4ms/step - loss: 351.5451 - val_loss: 1641.2987\n",
      "Epoch 461/500\n",
      "24/24 [==============================] - 0s 5ms/step - loss: 351.5451 - val_loss: 1641.2970\n",
      "Epoch 462/500\n",
      "24/24 [==============================] - 0s 5ms/step - loss: 351.5451 - val_loss: 1641.2959\n",
      "Epoch 463/500\n",
      "24/24 [==============================] - 0s 5ms/step - loss: 351.5450 - val_loss: 1641.2954\n",
      "Epoch 464/500\n",
      "24/24 [==============================] - 0s 5ms/step - loss: 351.5450 - val_loss: 1641.2930\n",
      "Epoch 465/500\n",
      "24/24 [==============================] - 0s 5ms/step - loss: 351.5450 - val_loss: 1641.2911\n",
      "Epoch 466/500\n",
      "24/24 [==============================] - 0s 5ms/step - loss: 351.5450 - val_loss: 1641.2899\n",
      "Epoch 467/500\n",
      "24/24 [==============================] - 0s 4ms/step - loss: 351.5449 - val_loss: 1641.2887\n",
      "Epoch 468/500\n",
      "24/24 [==============================] - 0s 5ms/step - loss: 351.5449 - val_loss: 1641.2869\n",
      "Epoch 469/500\n",
      "24/24 [==============================] - 0s 5ms/step - loss: 351.5449 - val_loss: 1641.2850\n",
      "Epoch 470/500\n",
      "24/24 [==============================] - 0s 5ms/step - loss: 351.5449 - val_loss: 1641.2836\n",
      "Epoch 471/500\n",
      "24/24 [==============================] - 0s 5ms/step - loss: 351.5449 - val_loss: 1641.2822\n",
      "Epoch 472/500\n",
      "24/24 [==============================] - 0s 5ms/step - loss: 351.5449 - val_loss: 1641.2806\n",
      "Epoch 473/500\n",
      "24/24 [==============================] - 0s 5ms/step - loss: 351.5448 - val_loss: 1641.2783\n",
      "Epoch 474/500\n",
      "24/24 [==============================] - 0s 5ms/step - loss: 351.5448 - val_loss: 1641.2769\n",
      "Epoch 475/500\n",
      "24/24 [==============================] - 0s 5ms/step - loss: 351.5449 - val_loss: 1641.2756\n",
      "Epoch 476/500\n",
      "24/24 [==============================] - 0s 12ms/step - loss: 351.5448 - val_loss: 1641.2740\n",
      "Epoch 477/500\n",
      "24/24 [==============================] - 0s 6ms/step - loss: 351.5447 - val_loss: 1641.2717\n",
      "Epoch 478/500\n",
      "24/24 [==============================] - 0s 6ms/step - loss: 351.5447 - val_loss: 1641.2699\n",
      "Epoch 479/500\n",
      "24/24 [==============================] - 0s 6ms/step - loss: 351.5447 - val_loss: 1641.2683\n",
      "Epoch 480/500\n",
      "24/24 [==============================] - 0s 5ms/step - loss: 351.5447 - val_loss: 1641.2671\n",
      "Epoch 481/500\n",
      "24/24 [==============================] - 0s 6ms/step - loss: 351.5446 - val_loss: 1641.2643\n",
      "Epoch 482/500\n",
      "24/24 [==============================] - 0s 5ms/step - loss: 351.5446 - val_loss: 1641.2625\n",
      "Epoch 483/500\n",
      "24/24 [==============================] - 0s 5ms/step - loss: 351.5446 - val_loss: 1641.2605\n",
      "Epoch 484/500\n",
      "24/24 [==============================] - 0s 4ms/step - loss: 351.5446 - val_loss: 1641.2589\n",
      "Epoch 485/500\n",
      "24/24 [==============================] - 0s 5ms/step - loss: 351.5446 - val_loss: 1641.2567\n",
      "Epoch 486/500\n",
      "24/24 [==============================] - 0s 5ms/step - loss: 351.5445 - val_loss: 1641.2542\n",
      "Epoch 487/500\n",
      "24/24 [==============================] - 0s 5ms/step - loss: 351.5446 - val_loss: 1641.2522\n",
      "Epoch 488/500\n",
      "24/24 [==============================] - 0s 4ms/step - loss: 351.5446 - val_loss: 1641.2499\n",
      "Epoch 489/500\n",
      "24/24 [==============================] - 0s 4ms/step - loss: 351.5446 - val_loss: 1641.2487\n",
      "Epoch 490/500\n",
      "24/24 [==============================] - 0s 4ms/step - loss: 351.5445 - val_loss: 1641.2457\n",
      "Epoch 491/500\n",
      "24/24 [==============================] - 0s 4ms/step - loss: 351.5445 - val_loss: 1641.2430\n",
      "Epoch 492/500\n",
      "24/24 [==============================] - 0s 4ms/step - loss: 351.5445 - val_loss: 1641.2408\n",
      "Epoch 493/500\n",
      "24/24 [==============================] - 0s 4ms/step - loss: 351.5445 - val_loss: 1641.2386\n",
      "Epoch 494/500\n",
      "24/24 [==============================] - 0s 4ms/step - loss: 351.5445 - val_loss: 1641.2366\n",
      "Epoch 495/500\n",
      "24/24 [==============================] - 0s 4ms/step - loss: 351.5445 - val_loss: 1641.2330\n",
      "Epoch 496/500\n",
      "24/24 [==============================] - 0s 4ms/step - loss: 351.5445 - val_loss: 1641.2302\n",
      "Epoch 497/500\n",
      "24/24 [==============================] - 0s 5ms/step - loss: 351.5445 - val_loss: 1641.2277\n",
      "Epoch 498/500\n",
      "24/24 [==============================] - 0s 5ms/step - loss: 351.5445 - val_loss: 1641.2250\n",
      "Epoch 499/500\n",
      "24/24 [==============================] - 0s 11ms/step - loss: 351.5445 - val_loss: 1641.2220\n",
      "Epoch 500/500\n",
      "24/24 [==============================] - 0s 7ms/step - loss: 351.5444 - val_loss: 1641.2184\n"
     ]
    }
   ],
   "source": [
    "C0 = tf.Variable(86.6465, name=\"C0\", trainable=True, dtype=tf.float32)\n",
    "K0 = tf.Variable(-0.0029, name=\"K0\", trainable=True, dtype=tf.float32)\n",
    "K1 = tf.Variable(-0.0003, name=\"K1\", trainable=True, dtype=tf.float32)\n",
    "a = tf.Variable(0.0000, name=\"a\", trainable=True, dtype=tf.float32)\n",
    "b = tf.Variable(0.0168, name=\"b\", trainable=True, dtype=tf.float32)\n",
    "c = tf.Variable(2.3581, name=\"c\", trainable=True, dtype=tf.float32)\n",
    "\n",
    "splitr = 0.8\n",
    "\n",
    "\n",
    "def loss_fn(y_true, y_pred):\n",
    "    squared_difference = tf.square(y_true[:, 0] - y_pred[:, 0])\n",
    "    #squared_difference2 = tf.square(y_true[:, 2]-y_pred[:, 2])\n",
    "    #squared_difference1 = tf.square(y_true[:, 1]-y_pred[:, 1])\n",
    "    epsilon = 1.5\n",
    "    squared_difference3 = tf.square(\n",
    "        y_pred[:, 1] - (\n",
    "            y_pred[:, 0] * (\n",
    "                K0 - K1 * (\n",
    "                    9 * a * tf.math.log((y_pred[:, 0] + epsilon) / C0) / (K0 - K1 * c)**2 +\n",
    "                    4 * b * tf.math.log((y_pred[:, 0] + epsilon) / C0) / (K0 - K1 * c) + c\n",
    "                )\n",
    "            )\n",
    "        )\n",
    "    )\n",
    "    return tf.reduce_mean(squared_difference, axis=-1) + 0.2*tf.reduce_mean(squared_difference3, axis=-1)\n",
    "model = Sequential()\n",
    "model.add(LSTM(100, input_shape=(trainX.shape[1], trainX.shape[2])))\n",
    "model.add(Dense(60))\n",
    "model.compile(loss=loss_fn, optimizer='adam')\n",
    "history = model.fit(trainX[:int(splitr*trainX.shape[0])], trainy[:int(splitr*trainX.shape[0])], epochs=500, batch_size=64, validation_data=(trainX[int(splitr*trainX.shape[0]):trainX.shape[0]], trainy[int(splitr*trainX.shape[0]):trainX.shape[0]]), shuffle=False)"
   ]
  },
  {
   "cell_type": "code",
   "execution_count": 19,
   "metadata": {
    "colab": {
     "base_uri": "https://localhost:8080/"
    },
    "id": "yJL101rPyuoT",
    "outputId": "239ff2b1-c186-423a-d316-939dfdd7c793"
   },
   "outputs": [
    {
     "name": "stdout",
     "output_type": "stream",
     "text": [
      "1/1 [==============================] - 0s 421ms/step\n"
     ]
    }
   ],
   "source": [
    "forecast_without_mc = forecastX\n",
    "yhat_without_mc = model.predict(forecast_without_mc) # Step Ahead Prediction\n",
    "forecast_without_mc = forecast_without_mc.reshape((forecast_without_mc.shape[0], forecast_without_mc.shape[2])) # Historical Input"
   ]
  },
  {
   "cell_type": "code",
   "execution_count": 20,
   "metadata": {
    "colab": {
     "base_uri": "https://localhost:8080/"
    },
    "id": "g9dQELcJ8wbp",
    "outputId": "4dc7671b-b1a8-48d5-8744-a86f98446109"
   },
   "outputs": [
    {
     "data": {
      "text/plain": [
       "(1, 1, 251)"
      ]
     },
     "execution_count": 20,
     "metadata": {},
     "output_type": "execute_result"
    }
   ],
   "source": [
    "forecastX.shape"
   ]
  },
  {
   "cell_type": "code",
   "execution_count": 21,
   "metadata": {
    "colab": {
     "base_uri": "https://localhost:8080/"
    },
    "id": "IS2kyIKG1Kbr",
    "outputId": "f31b3485-8e26-452f-9298-ea8bf7e80ad1"
   },
   "outputs": [
    {
     "data": {
      "text/plain": [
       "(1, 251)"
      ]
     },
     "execution_count": 21,
     "metadata": {},
     "output_type": "execute_result"
    }
   ],
   "source": [
    "forecast_without_mc.shape"
   ]
  },
  {
   "cell_type": "code",
   "execution_count": 22,
   "metadata": {
    "id": "0u6VIzaDyuoT"
   },
   "outputs": [],
   "source": [
    "inv_yhat_without_mc = np.concatenate((forecast_without_mc, yhat_without_mc), axis=1) # Concatenation of predicted values with Historical Data\n",
    "#inv_yhat_without_mc = scaler.inverse_transform(inv_yhat_without_mc) # Transform labels back to original encoding"
   ]
  },
  {
   "cell_type": "code",
   "execution_count": 23,
   "metadata": {
    "colab": {
     "base_uri": "https://localhost:8080/"
    },
    "id": "EUEcw0LX07oU",
    "outputId": "cfc32397-9c37-4b43-d087-584bb31c3dcc"
   },
   "outputs": [
    {
     "data": {
      "text/plain": [
       "(1, 311)"
      ]
     },
     "execution_count": 23,
     "metadata": {},
     "output_type": "execute_result"
    }
   ],
   "source": [
    "inv_yhat_without_mc.shape"
   ]
  },
  {
   "cell_type": "code",
   "execution_count": 24,
   "metadata": {
    "id": "31OWVbSh_305"
   },
   "outputs": [],
   "source": [
    "fforecast = inv_yhat_without_mc[:,-300:]"
   ]
  },
  {
   "cell_type": "code",
   "execution_count": 25,
   "metadata": {},
   "outputs": [
    {
     "data": {
      "text/plain": [
       "(1, 300)"
      ]
     },
     "execution_count": 25,
     "metadata": {},
     "output_type": "execute_result"
    }
   ],
   "source": [
    "fforecast.shape"
   ]
  },
  {
   "cell_type": "code",
   "execution_count": 26,
   "metadata": {
    "id": "BlpGH2FOAiRF"
   },
   "outputs": [],
   "source": [
    "final_forecast = fforecast[:,0:300:3]"
   ]
  },
  {
   "cell_type": "code",
   "execution_count": 27,
   "metadata": {},
   "outputs": [
    {
     "data": {
      "text/plain": [
       "(1, 300)"
      ]
     },
     "execution_count": 27,
     "metadata": {},
     "output_type": "execute_result"
    }
   ],
   "source": [
    "fforecast.shape"
   ]
  },
  {
   "cell_type": "code",
   "execution_count": 28,
   "metadata": {
    "id": "CXkgkj_LBk_t"
   },
   "outputs": [],
   "source": [
    "# code to replace all negative value with 0\n",
    "final_forecast[final_forecast<0] = 0"
   ]
  },
  {
   "cell_type": "code",
   "execution_count": 29,
   "metadata": {},
   "outputs": [
    {
     "data": {
      "text/plain": [
       "array([[6.26796218e+01, 6.67000467e+01, 6.58874883e+01, 6.43748833e+01,\n",
       "        0.00000000e+00, 7.77567625e-01, 2.24165514e-01, 0.00000000e+00,\n",
       "        0.00000000e+00, 0.00000000e+00, 2.73955500e-02, 9.40269887e-01,\n",
       "        0.00000000e+00, 6.30913866e+01, 6.28644958e+01, 6.26376050e+01,\n",
       "        0.00000000e+00, 0.00000000e+00, 6.35625817e+01, 6.33861111e+01,\n",
       "        6.31838235e+01, 6.29569328e+01, 6.27300420e+01, 6.68681139e+01,\n",
       "        6.61118114e+01, 6.47110177e+01, 0.00000000e+00, 5.33040600e-03,\n",
       "        3.75749886e-01, 6.28224790e+01, 6.71821895e+01, 6.65039682e+01,\n",
       "        6.54953315e+01, 0.00000000e+00, 6.61024743e+01, 6.46923436e+01,\n",
       "        6.37129085e+01, 5.88601890e-01, 1.25890970e-01, 3.38448170e-01,\n",
       "        0.00000000e+00, 0.00000000e+00, 1.07296932e+00, 0.00000000e+00,\n",
       "        0.00000000e+00, 0.00000000e+00, 0.00000000e+00, 6.50471522e+01,\n",
       "        0.00000000e+00, 0.00000000e+00, 1.07869007e-01, 6.28728992e+01,\n",
       "        6.26460084e+01, 6.66720355e+01, 6.58314659e+01, 6.43188609e+01,\n",
       "        6.62705416e+01, 6.50284781e+01, 6.38305556e+01, 4.98692630e-01,\n",
       "        1.79073750e-01, 5.79469680e-01, 6.49351074e+01, 3.30429226e-01,\n",
       "        6.56447246e+01, 6.41321195e+01, 6.35168301e+01, 6.48417367e+01,\n",
       "        6.37651961e+01, 6.32174370e+01, 0.00000000e+00, 3.13404799e-01,\n",
       "        9.37583506e-01, 6.24092255e+01, 4.13899481e-01, 0.00000000e+00,\n",
       "        0.00000000e+00, 0.00000000e+00, 3.63043845e-01, 7.33780205e-01,\n",
       "        6.18610115e+01, 8.37967932e-01, 4.07031417e-01, 2.19893903e-01,\n",
       "        0.00000000e+00, 3.90545547e-01, 8.58127698e-02, 0.00000000e+00,\n",
       "        2.23327562e-01, 1.85593998e+00, 9.63781238e-01, 0.00000000e+00,\n",
       "        0.00000000e+00, 0.00000000e+00, 1.67599946e-01, 0.00000000e+00,\n",
       "        8.93679619e-01, 0.00000000e+00, 2.47046500e-01, 1.65574551e-01]])"
      ]
     },
     "execution_count": 29,
     "metadata": {},
     "output_type": "execute_result"
    }
   ],
   "source": [
    "final_forecast"
   ]
  },
  {
   "cell_type": "code",
   "execution_count": 30,
   "metadata": {},
   "outputs": [
    {
     "data": {
      "text/plain": [
       "(1, 100)"
      ]
     },
     "execution_count": 30,
     "metadata": {},
     "output_type": "execute_result"
    }
   ],
   "source": [
    "final_forecast.shape"
   ]
  },
  {
   "cell_type": "code",
   "execution_count": 31,
   "metadata": {},
   "outputs": [
    {
     "data": {
      "text/plain": [
       "(100,)"
      ]
     },
     "execution_count": 31,
     "metadata": {},
     "output_type": "execute_result"
    }
   ],
   "source": [
    "test.shape"
   ]
  },
  {
   "cell_type": "code",
   "execution_count": 32,
   "metadata": {},
   "outputs": [],
   "source": [
    "training_set = np.array(training_set)\n",
    "test = np.array(test)\n",
    "final_forecast = np.array(final_forecast.squeeze(0))"
   ]
  },
  {
   "cell_type": "code",
   "execution_count": 33,
   "metadata": {},
   "outputs": [
    {
     "data": {
      "text/plain": [
       "array([53.50299925, 53.49425429, 53.48550933, 53.47676436, 53.4680194 ,\n",
       "       53.45927444, 53.45052948, 53.44178452, 53.43303956, 53.4242946 ,\n",
       "       53.41554963, 53.40680467, 53.39805971, 53.38931475, 53.38056979,\n",
       "       53.37182483, 53.36307987, 53.3543349 , 53.34558994, 53.33684498,\n",
       "       53.32810002, 53.31935506, 53.3106101 , 53.30186514, 53.29312017,\n",
       "       53.28437521, 53.27563025, 53.26688529, 53.25814033, 53.24939537,\n",
       "       53.24065041, 53.23190545, 53.22316048, 53.21441552, 53.20567056,\n",
       "       53.1969256 , 53.18818064, 53.17943568, 53.17069072, 53.16194575,\n",
       "       53.15320079, 53.14445583, 53.13571087, 53.12696591, 53.11822095,\n",
       "       53.10947599, 53.10073102, 53.09198606, 53.0832411 , 53.07449614,\n",
       "       53.06575118, 53.05700622, 53.04826126, 53.03951629, 53.03077133,\n",
       "       53.02202637, 53.01328141, 53.00453645, 52.99579149, 52.98704653,\n",
       "       52.97830156, 52.9695566 , 52.96081164, 52.95206668, 52.94332172,\n",
       "       52.93457676, 52.9258318 , 52.91708683, 52.90834187, 52.89959691,\n",
       "       52.89085195, 52.88210699, 52.87336203, 52.86461707, 52.8558721 ,\n",
       "       52.84712714, 52.83838218, 52.82963722, 52.82089226, 52.8121473 ,\n",
       "       52.80340234, 52.79465738, 52.78591241, 52.77716745, 52.76842249,\n",
       "       52.75967753, 52.75093257, 52.74218761, 52.73344265, 52.72469768,\n",
       "       52.71595272, 52.70720776, 52.6984628 , 52.68971784, 52.68097288,\n",
       "       52.67222792, 52.66348295, 52.65473799, 52.64599303, 52.63724807])"
      ]
     },
     "execution_count": 33,
     "metadata": {},
     "output_type": "execute_result"
    }
   ],
   "source": [
    "test"
   ]
  },
  {
   "cell_type": "code",
   "execution_count": 34,
   "metadata": {},
   "outputs": [
    {
     "data": {
      "text/plain": [
       "(100,)"
      ]
     },
     "execution_count": 34,
     "metadata": {},
     "output_type": "execute_result"
    }
   ],
   "source": [
    "test.shape"
   ]
  },
  {
   "cell_type": "code",
   "execution_count": 35,
   "metadata": {},
   "outputs": [
    {
     "data": {
      "text/plain": [
       "(100,)"
      ]
     },
     "execution_count": 35,
     "metadata": {},
     "output_type": "execute_result"
    }
   ],
   "source": [
    "final_forecast.shape"
   ]
  },
  {
   "cell_type": "code",
   "execution_count": 36,
   "metadata": {},
   "outputs": [
    {
     "data": {
      "text/plain": [
       "(100,)"
      ]
     },
     "execution_count": 36,
     "metadata": {},
     "output_type": "execute_result"
    }
   ],
   "source": [
    "test.shape"
   ]
  },
  {
   "cell_type": "code",
   "execution_count": 37,
   "metadata": {},
   "outputs": [
    {
     "name": "stdout",
     "output_type": "stream",
     "text": [
      "41.48291450868057\n",
      "36.134840725093255\n"
     ]
    }
   ],
   "source": [
    "import math\n",
    "MSE = np.square(np.subtract(np.array(test),np.array(final_forecast))).mean()   \n",
    "rsme = math.sqrt(MSE)\n",
    "print(rsme)  \n",
    "MAE = np.abs(np.subtract(np.array(test),np.array(final_forecast))).mean()   \n",
    "mae = MAE\n",
    "print(mae)"
   ]
  }
 ],
 "metadata": {
  "colab": {
   "provenance": []
  },
  "kernelspec": {
   "display_name": "Python 3",
   "language": "python",
   "name": "python3"
  },
  "language_info": {
   "codemirror_mode": {
    "name": "ipython",
    "version": 3
   },
   "file_extension": ".py",
   "mimetype": "text/x-python",
   "name": "python",
   "nbconvert_exporter": "python",
   "pygments_lexer": "ipython3",
   "version": "3.9.13"
  }
 },
 "nbformat": 4,
 "nbformat_minor": 0
}
