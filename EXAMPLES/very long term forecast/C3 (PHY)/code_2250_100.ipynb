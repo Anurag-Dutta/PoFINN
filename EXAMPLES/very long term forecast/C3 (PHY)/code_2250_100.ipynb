{
 "cells": [
  {
   "cell_type": "markdown",
   "metadata": {
    "id": "pCGKeZ2gyuoQ"
   },
   "source": [
    "_Importing Required Libraries_"
   ]
  },
  {
   "cell_type": "code",
   "execution_count": 1,
   "metadata": {
    "colab": {
     "base_uri": "https://localhost:8080/"
    },
    "id": "A-6LN-zXiLcM",
    "outputId": "4de610a4-f8b8-4f49-c6c0-89de299ccedc"
   },
   "outputs": [
    {
     "name": "stdout",
     "output_type": "stream",
     "text": [
      "Requirement already satisfied: hampel in c:\\users\\anurag dutta\\appdata\\local\\packages\\pythonsoftwarefoundation.python.3.9_qbz5n2kfra8p0\\localcache\\local-packages\\python39\\site-packages (0.0.5)\n",
      "Requirement already satisfied: numpy in c:\\users\\anurag dutta\\appdata\\local\\packages\\pythonsoftwarefoundation.python.3.9_qbz5n2kfra8p0\\localcache\\local-packages\\python39\\site-packages (from hampel) (1.26.4)\n",
      "Requirement already satisfied: pandas in c:\\users\\anurag dutta\\appdata\\local\\packages\\pythonsoftwarefoundation.python.3.9_qbz5n2kfra8p0\\localcache\\local-packages\\python39\\site-packages (from hampel) (1.5.2)\n",
      "Requirement already satisfied: python-dateutil>=2.8.1 in c:\\users\\anurag dutta\\appdata\\local\\packages\\pythonsoftwarefoundation.python.3.9_qbz5n2kfra8p0\\localcache\\local-packages\\python39\\site-packages (from pandas->hampel) (2.8.2)\n",
      "Requirement already satisfied: pytz>=2020.1 in c:\\users\\anurag dutta\\appdata\\local\\packages\\pythonsoftwarefoundation.python.3.9_qbz5n2kfra8p0\\localcache\\local-packages\\python39\\site-packages (from pandas->hampel) (2023.3.post1)\n",
      "Requirement already satisfied: six>=1.5 in c:\\users\\anurag dutta\\appdata\\local\\packages\\pythonsoftwarefoundation.python.3.9_qbz5n2kfra8p0\\localcache\\local-packages\\python39\\site-packages (from python-dateutil>=2.8.1->pandas->hampel) (1.16.0)\n",
      "Note: you may need to restart the kernel to use updated packages.\n"
     ]
    },
    {
     "name": "stderr",
     "output_type": "stream",
     "text": [
      "\n",
      "[notice] A new release of pip is available: 24.2 -> 24.3.1\n",
      "[notice] To update, run: C:\\Users\\Anurag Dutta\\AppData\\Local\\Microsoft\\WindowsApps\\PythonSoftwareFoundation.Python.3.9_qbz5n2kfra8p0\\python.exe -m pip install --upgrade pip\n"
     ]
    }
   ],
   "source": [
    "pip install hampel"
   ]
  },
  {
   "cell_type": "code",
   "execution_count": 2,
   "metadata": {
    "id": "By_d9uXpaFvZ"
   },
   "outputs": [],
   "source": [
    "from keras.models import Sequential\n",
    "from keras.layers import Dense\n",
    "from keras.layers import LSTM\n",
    "from keras.layers import Dropout\n",
    "import keras\n",
    "import tensorflow as tf\n",
    "from hampel import hampel\n",
    "import numpy as np\n",
    "import matplotlib.pyplot as plt\n",
    "import pandas as pd\n",
    "from sklearn.preprocessing import MinMaxScaler\n",
    "from sklearn.metrics import mean_squared_error, mean_absolute_error\n",
    "from math import sqrt\n",
    "from matplotlib import pyplot\n",
    "from numpy import array"
   ]
  },
  {
   "cell_type": "markdown",
   "metadata": {
    "id": "JyOjBMFayuoR"
   },
   "source": [
    "## Pretraining"
   ]
  },
  {
   "cell_type": "markdown",
   "metadata": {
    "id": "-5QqIY_GyuoR"
   },
   "source": [
    "The `capa_intermittency.dat` feeds the model with the dynamics of the Capacitor"
   ]
  },
  {
   "cell_type": "code",
   "execution_count": 3,
   "metadata": {
    "id": "9dV4a8yfyuoR"
   },
   "outputs": [],
   "source": [
    "data = np.genfromtxt('capa_intermittency.dat')\n",
    "training_set = pd.DataFrame(data).reset_index(drop=True)\n",
    "training_set = training_set.iloc[:,0]"
   ]
  },
  {
   "cell_type": "markdown",
   "metadata": {
    "id": "i7easoxByuoR"
   },
   "source": [
    "## Computing the Gradient"
   ]
  },
  {
   "cell_type": "markdown",
   "metadata": {
    "id": "5SnyolJTyuoR"
   },
   "source": [
    "_Calculating the value of_ $\\frac{dx}{dt}$"
   ]
  },
  {
   "cell_type": "code",
   "execution_count": 4,
   "metadata": {
    "colab": {
     "base_uri": "https://localhost:8080/"
    },
    "id": "wmIbVfIvyuoR",
    "outputId": "aa4e3136-c854-465d-d2e9-81cfd546e440"
   },
   "outputs": [
    {
     "name": "stdout",
     "output_type": "stream",
     "text": [
      "1.0\n",
      "1        0.000298\n",
      "2        0.000298\n",
      "3        0.000297\n",
      "4        0.000297\n",
      "5        0.000297\n",
      "           ...   \n",
      "9996     0.000018\n",
      "9997     0.000018\n",
      "9998     0.000018\n",
      "9999     0.000018\n",
      "10000    0.000018\n",
      "Name: 0, Length: 10000, dtype: float64\n"
     ]
    }
   ],
   "source": [
    "t_diff = 1\n",
    "print(training_set.max())\n",
    "gradient_t = (training_set.diff()/t_diff).iloc[1:] # dx/dt\n",
    "print(gradient_t)"
   ]
  },
  {
   "cell_type": "markdown",
   "metadata": {
    "id": "_2eVeeoxyuoS"
   },
   "source": [
    "## Loading Datasets"
   ]
  },
  {
   "cell_type": "code",
   "execution_count": 5,
   "metadata": {
    "id": "0J-NKyIEyuoS"
   },
   "outputs": [
    {
     "data": {
      "text/plain": [
       "0       91.100000\n",
       "1       90.875910\n",
       "2       90.651821\n",
       "3       90.427731\n",
       "4       90.203641\n",
       "          ...    \n",
       "2345    67.967958\n",
       "2346    67.961672\n",
       "2347    67.955387\n",
       "2348    67.949102\n",
       "2349    67.942816\n",
       "Name: C3, Length: 2350, dtype: float64"
      ]
     },
     "execution_count": 5,
     "metadata": {},
     "output_type": "execute_result"
    }
   ],
   "source": [
    "data = pd.read_csv(\"c3_interpolated_2250_100.csv\")\n",
    "training_set = data.iloc[:, 1]\n",
    "training_set"
   ]
  },
  {
   "cell_type": "code",
   "execution_count": 6,
   "metadata": {
    "colab": {
     "base_uri": "https://localhost:8080/"
    },
    "id": "-CbNUhJ74UqF",
    "outputId": "20f562d8-8247-49cc-b9c3-00eca5e13e2d"
   },
   "outputs": [
    {
     "data": {
      "text/plain": [
       "0       91.100000\n",
       "1       90.875910\n",
       "2       90.651821\n",
       "3       90.427731\n",
       "4       90.203641\n",
       "          ...    \n",
       "2245     0.000000\n",
       "2246     0.000000\n",
       "2247     0.059959\n",
       "2248     0.000000\n",
       "2249     0.965788\n",
       "Name: C3, Length: 2250, dtype: float64"
      ]
     },
     "execution_count": 6,
     "metadata": {},
     "output_type": "execute_result"
    }
   ],
   "source": [
    "test = training_set.tail(100)\n",
    "test\n",
    "training_set = training_set.head(2250)\n",
    "training_set"
   ]
  },
  {
   "cell_type": "code",
   "execution_count": 7,
   "metadata": {
    "colab": {
     "base_uri": "https://localhost:8080/"
    },
    "id": "X0TwTcq0yuoS",
    "outputId": "37252ed8-d88e-4044-fa7a-922411990b5b"
   },
   "outputs": [
    {
     "name": "stdout",
     "output_type": "stream",
     "text": [
      "0       0.000298\n",
      "1       0.000298\n",
      "2       0.000297\n",
      "3       0.000297\n",
      "4       0.000297\n",
      "          ...   \n",
      "9995    0.000018\n",
      "9996    0.000018\n",
      "9997    0.000018\n",
      "9998    0.000018\n",
      "9999    0.000018\n",
      "Name: 0, Length: 10000, dtype: float64\n"
     ]
    }
   ],
   "source": [
    "training_set = training_set.reset_index(drop=True)\n",
    "gradient_t = gradient_t.reset_index(drop=True)\n",
    "print(gradient_t)"
   ]
  },
  {
   "cell_type": "code",
   "execution_count": 8,
   "metadata": {
    "id": "O2biznZQyuoS"
   },
   "outputs": [],
   "source": [
    "df = pd.concat((training_set, gradient_t), axis=1)\n",
    "df.columns = ['y_t', 'grad_t']"
   ]
  },
  {
   "cell_type": "code",
   "execution_count": 9,
   "metadata": {
    "colab": {
     "base_uri": "https://localhost:8080/",
     "height": 423
    },
    "id": "sk_a5v3tyuoS",
    "outputId": "17563625-e550-45ae-faab-fafa353e44da"
   },
   "outputs": [
    {
     "data": {
      "text/html": [
       "<div>\n",
       "<style scoped>\n",
       "    .dataframe tbody tr th:only-of-type {\n",
       "        vertical-align: middle;\n",
       "    }\n",
       "\n",
       "    .dataframe tbody tr th {\n",
       "        vertical-align: top;\n",
       "    }\n",
       "\n",
       "    .dataframe thead th {\n",
       "        text-align: right;\n",
       "    }\n",
       "</style>\n",
       "<table border=\"1\" class=\"dataframe\">\n",
       "  <thead>\n",
       "    <tr style=\"text-align: right;\">\n",
       "      <th></th>\n",
       "      <th>y_t</th>\n",
       "      <th>grad_t</th>\n",
       "    </tr>\n",
       "  </thead>\n",
       "  <tbody>\n",
       "    <tr>\n",
       "      <th>0</th>\n",
       "      <td>91.100000</td>\n",
       "      <td>0.000298</td>\n",
       "    </tr>\n",
       "    <tr>\n",
       "      <th>1</th>\n",
       "      <td>90.875910</td>\n",
       "      <td>0.000298</td>\n",
       "    </tr>\n",
       "    <tr>\n",
       "      <th>2</th>\n",
       "      <td>90.651821</td>\n",
       "      <td>0.000297</td>\n",
       "    </tr>\n",
       "    <tr>\n",
       "      <th>3</th>\n",
       "      <td>90.427731</td>\n",
       "      <td>0.000297</td>\n",
       "    </tr>\n",
       "    <tr>\n",
       "      <th>4</th>\n",
       "      <td>90.203641</td>\n",
       "      <td>0.000297</td>\n",
       "    </tr>\n",
       "    <tr>\n",
       "      <th>...</th>\n",
       "      <td>...</td>\n",
       "      <td>...</td>\n",
       "    </tr>\n",
       "    <tr>\n",
       "      <th>9995</th>\n",
       "      <td>NaN</td>\n",
       "      <td>0.000018</td>\n",
       "    </tr>\n",
       "    <tr>\n",
       "      <th>9996</th>\n",
       "      <td>NaN</td>\n",
       "      <td>0.000018</td>\n",
       "    </tr>\n",
       "    <tr>\n",
       "      <th>9997</th>\n",
       "      <td>NaN</td>\n",
       "      <td>0.000018</td>\n",
       "    </tr>\n",
       "    <tr>\n",
       "      <th>9998</th>\n",
       "      <td>NaN</td>\n",
       "      <td>0.000018</td>\n",
       "    </tr>\n",
       "    <tr>\n",
       "      <th>9999</th>\n",
       "      <td>NaN</td>\n",
       "      <td>0.000018</td>\n",
       "    </tr>\n",
       "  </tbody>\n",
       "</table>\n",
       "<p>10000 rows × 2 columns</p>\n",
       "</div>"
      ],
      "text/plain": [
       "            y_t    grad_t\n",
       "0     91.100000  0.000298\n",
       "1     90.875910  0.000298\n",
       "2     90.651821  0.000297\n",
       "3     90.427731  0.000297\n",
       "4     90.203641  0.000297\n",
       "...         ...       ...\n",
       "9995        NaN  0.000018\n",
       "9996        NaN  0.000018\n",
       "9997        NaN  0.000018\n",
       "9998        NaN  0.000018\n",
       "9999        NaN  0.000018\n",
       "\n",
       "[10000 rows x 2 columns]"
      ]
     },
     "execution_count": 9,
     "metadata": {},
     "output_type": "execute_result"
    }
   ],
   "source": [
    "df"
   ]
  },
  {
   "cell_type": "markdown",
   "metadata": {
    "id": "-5esyHu5aFvg"
   },
   "source": [
    "## Plot of the External Forcing from Chaotic Differential Equation"
   ]
  },
  {
   "cell_type": "code",
   "execution_count": 10,
   "metadata": {
    "colab": {
     "base_uri": "https://localhost:8080/",
     "height": 447
    },
    "id": "hGnE43tOh-4p",
    "outputId": "fc396503-b624-4fa5-dfbe-f460207405c6"
   },
   "outputs": [
    {
     "data": {
      "text/plain": [
       "<Axes: >"
      ]
     },
     "execution_count": 10,
     "metadata": {},
     "output_type": "execute_result"
    },
    {
     "data": {
      "image/png": "[encoded data removed]",
      "text/plain": [
       "<Figure size 432x288 with 1 Axes>"
      ]
     },
     "metadata": {
      "needs_background": "light"
     },
     "output_type": "display_data"
    }
   ],
   "source": [
    "df.iloc[:, 0].plot()"
   ]
  },
  {
   "cell_type": "code",
   "execution_count": 11,
   "metadata": {
    "colab": {
     "base_uri": "https://localhost:8080/",
     "height": 447
    },
    "id": "ym4xWUUxaFvg",
    "outputId": "ae6a3495-8ce9-437e-ba81-3ed31deedeae"
   },
   "outputs": [
    {
     "name": "stderr",
     "output_type": "stream",
     "text": [
      "C:\\Users\\Anurag Dutta\\AppData\\Local\\Packages\\PythonSoftwareFoundation.Python.3.9_qbz5n2kfra8p0\\LocalCache\\local-packages\\Python39\\site-packages\\pandas\\core\\arraylike.py:402: RuntimeWarning: divide by zero encountered in log\n",
      "  result = getattr(ufunc, method)(*inputs, **kwargs)\n"
     ]
    },
    {
     "data": {
      "text/plain": [
       "<Axes: >"
      ]
     },
     "execution_count": 11,
     "metadata": {},
     "output_type": "execute_result"
    },
    {
     "data": {
      "image/png": "[encoded data removed]",
      "text/plain": [
       "<Figure size 432x288 with 1 Axes>"
      ]
     },
     "metadata": {
      "needs_background": "light"
     },
     "output_type": "display_data"
    }
   ],
   "source": [
    "import numpy as np\n",
    "c0 = 88.0403  # Value for C0\n",
    "K0 = -0.0012  # Value for K0\n",
    "K1 = -0.0001  # Value for K1\n",
    "a = 0.0000    # Value for a\n",
    "b = 0.0120    # Value for b\n",
    "c = 2.0334    # Value for c\n",
    "\n",
    "L = np.minimum(c0, (df.iloc[:, 1] - (df.iloc[:, 0] * (K0 - K1 * (9 * a * np.log(df.iloc[:, 0] / c0) / (K0 - K1 * c)**2 + 4 * b * np.log(df.iloc[:, 0] / c0) / (K0 - K1 * c) + c)))))\n",
    "L.plot()"
   ]
  },
  {
   "cell_type": "markdown",
   "metadata": {
    "id": "9VyEywnwaFvh"
   },
   "source": [
    "## Preprocessing the data into supervised learning"
   ]
  },
  {
   "cell_type": "code",
   "execution_count": 12,
   "metadata": {
    "id": "6V9dXqzdaFvh"
   },
   "outputs": [],
   "source": [
    "# split a sequence into samples\n",
    "def Supervised(data, n_in=1, n_out=1, dropnan=True):\n",
    "    n_vars = 1 if type(data) is list else data.shape[1]\n",
    "    df = pd.DataFrame(data)\n",
    "    cols, names = list(), list()\n",
    "    # input sequence (t-n_in, ... t-1)\n",
    "    for i in range(n_in, 0, -1):\n",
    "        cols.append(df.shift(i))\n",
    "        names += [('var%d(t-%d)' % (j+1, i)) for j in range(n_vars)]\n",
    "    # forecast sequence (t, t+1, ... t+n_out)\n",
    "    for i in range(0, n_out):\n",
    "      cols.append(df.shift(-i))\n",
    "      if i == 0:\n",
    "        names += [('var%d(t)' % (j+1)) for j in range(n_vars)]\n",
    "      else:\n",
    "        names += [('var%d(t+%d)' % (j+1, i)) for j in range(n_vars)]\n",
    "    # put it all together\n",
    "    agg = pd.concat(cols, axis=1)\n",
    "    agg.columns = names\n",
    "    # drop rows with NaN values\n",
    "    if dropnan:\n",
    "       agg.dropna(inplace=True)\n",
    "    return agg"
   ]
  },
  {
   "cell_type": "code",
   "execution_count": 13,
   "metadata": {
    "colab": {
     "base_uri": "https://localhost:8080/"
    },
    "id": "CrzSrT1HnyfH",
    "outputId": "7e75f928-3e47-499d-eac1-51908015ef78"
   },
   "outputs": [
    {
     "name": "stdout",
     "output_type": "stream",
     "text": [
      "     var1(t-350)  var1(t-349)  var1(t-348)  var1(t-347)  var1(t-346)  \\\n",
      "350    91.100000    90.875910    90.651821    90.427731    90.203641   \n",
      "351    90.875910    90.651821    90.427731    90.203641    89.979552   \n",
      "352    90.651821    90.427731    90.203641    89.979552    89.755462   \n",
      "353    90.427731    90.203641    89.979552    89.755462    89.531373   \n",
      "354    90.203641    89.979552    89.755462    89.531373    89.307283   \n",
      "\n",
      "     var1(t-345)  var1(t-344)  var1(t-343)  var1(t-342)  var1(t-341)  ...  \\\n",
      "350    89.979552    89.755462    89.531373    89.307283    89.094118  ...   \n",
      "351    89.755462    89.531373    89.307283    89.094118    89.015686  ...   \n",
      "352    89.531373    89.307283    89.094118    89.015686    88.937255  ...   \n",
      "353    89.307283    89.094118    89.015686    88.937255    88.858824  ...   \n",
      "354    89.094118    89.015686    88.937255    88.858824    88.780392  ...   \n",
      "\n",
      "     var1(t+95)  var2(t+95)  var1(t+96)  var2(t+96)  var1(t+97)  var2(t+97)  \\\n",
      "350   81.423343    0.000263   81.404669    0.000263   81.385994    0.000263   \n",
      "351   81.404669    0.000263   81.385994    0.000263   81.367320    0.000262   \n",
      "352   81.385994    0.000263   81.367320    0.000262   81.348646    0.000262   \n",
      "353   81.367320    0.000262   81.348646    0.000262   81.329972    0.000262   \n",
      "354   81.348646    0.000262   81.329972    0.000262   81.311298    0.000262   \n",
      "\n",
      "     var1(t+98)  var2(t+98)  var1(t+99)  var2(t+99)  \n",
      "350   81.367320    0.000262   81.348646    0.000262  \n",
      "351   81.348646    0.000262   81.329972    0.000262  \n",
      "352   81.329972    0.000262   81.311298    0.000262  \n",
      "353   81.311298    0.000262   81.292624    0.000262  \n",
      "354   81.292624    0.000262   81.273950    0.000262  \n",
      "\n",
      "[5 rows x 551 columns]\n",
      "Index(['var1(t-350)', 'var1(t-349)', 'var1(t-348)', 'var1(t-347)',\n",
      "       'var1(t-346)', 'var1(t-345)', 'var1(t-344)', 'var1(t-343)',\n",
      "       'var1(t-342)', 'var1(t-341)',\n",
      "       ...\n",
      "       'var1(t+95)', 'var2(t+95)', 'var1(t+96)', 'var2(t+96)', 'var1(t+97)',\n",
      "       'var2(t+97)', 'var1(t+98)', 'var2(t+98)', 'var1(t+99)', 'var2(t+99)'],\n",
      "      dtype='object', length=551)\n"
     ]
    }
   ],
   "source": [
    "data = Supervised(df.values, n_in = 350, n_out = 100)\n",
    "\n",
    "\n",
    "cols_to_drop = []\n",
    "for i in range(2, 351):\n",
    "    cols_to_drop.extend([f'var2(t-{i})'])\n",
    "\n",
    "data.drop(cols_to_drop, axis=1, inplace=True)\n",
    "\n",
    "print(data.head())\n",
    "print(data.columns)"
   ]
  },
  {
   "cell_type": "code",
   "execution_count": 14,
   "metadata": {
    "id": "AfPf60oy6Pe4"
   },
   "outputs": [],
   "source": [
    "train = np.array(data[0:len(data)-1])\n",
    "forecast = np.array(data.tail(1))"
   ]
  },
  {
   "cell_type": "code",
   "execution_count": 15,
   "metadata": {
    "id": "WSAafzI37KiT"
   },
   "outputs": [],
   "source": [
    "trainy = train[:,-300:]\n",
    "trainX = train[:,:-300]"
   ]
  },
  {
   "cell_type": "code",
   "execution_count": 16,
   "metadata": {
    "id": "2SrOqVJA7f50"
   },
   "outputs": [],
   "source": [
    "forecasty = forecast[:,-300:]\n",
    "forecastX = forecast[:,:-300]"
   ]
  },
  {
   "cell_type": "code",
   "execution_count": 17,
   "metadata": {
    "colab": {
     "base_uri": "https://localhost:8080/"
    },
    "id": "Qno_k8Nw7saY",
    "outputId": "c4a88db5-d8c6-489f-cdb2-06b24e293cff"
   },
   "outputs": [
    {
     "name": "stdout",
     "output_type": "stream",
     "text": [
      "(1800, 1, 251) (1800, 300) (1, 1, 251)\n"
     ]
    }
   ],
   "source": [
    "trainX = trainX.reshape((trainX.shape[0], 1, trainX.shape[1]))\n",
    "forecastX = forecastX.reshape((forecastX.shape[0], 1, forecastX.shape[1]))\n",
    "print(trainX.shape, trainy.shape, forecastX.shape)"
   ]
  },
  {
   "cell_type": "code",
   "execution_count": 18,
   "metadata": {
    "colab": {
     "base_uri": "https://localhost:8080/"
    },
    "id": "b1Jp2DvNuNFx",
    "outputId": "d0e5b3c4-64f1-438c-eade-8dfeaac8e285"
   },
   "outputs": [
    {
     "name": "stdout",
     "output_type": "stream",
     "text": [
      "Epoch 1/500\n",
      "23/23 [==============================] - 3s 25ms/step - loss: 5649.3247 - val_loss: 3103.7927\n",
      "Epoch 2/500\n",
      "23/23 [==============================] - 0s 4ms/step - loss: 5259.4741 - val_loss: 2956.8472\n",
      "Epoch 3/500\n",
      "23/23 [==============================] - 0s 4ms/step - loss: 5105.6851 - val_loss: 2887.7681\n",
      "Epoch 4/500\n",
      "23/23 [==============================] - 0s 5ms/step - loss: 4993.9883 - val_loss: 2827.3877\n",
      "Epoch 5/500\n",
      "23/23 [==============================] - 0s 6ms/step - loss: 4890.2705 - val_loss: 2770.9246\n",
      "Epoch 6/500\n",
      "23/23 [==============================] - 0s 5ms/step - loss: 4790.3013 - val_loss: 2716.7507\n",
      "Epoch 7/500\n",
      "23/23 [==============================] - 0s 5ms/step - loss: 4693.2651 - val_loss: 2664.4441\n",
      "Epoch 8/500\n",
      "23/23 [==============================] - 0s 5ms/step - loss: 4598.6265 - val_loss: 2613.6157\n",
      "Epoch 9/500\n",
      "23/23 [==============================] - 0s 4ms/step - loss: 4506.0781 - val_loss: 2564.6663\n",
      "Epoch 10/500\n",
      "23/23 [==============================] - 0s 4ms/step - loss: 4415.4312 - val_loss: 2516.9375\n",
      "Epoch 11/500\n",
      "23/23 [==============================] - 0s 4ms/step - loss: 4326.5596 - val_loss: 2470.5544\n",
      "Epoch 12/500\n",
      "23/23 [==============================] - 0s 4ms/step - loss: 4239.3696 - val_loss: 2425.4656\n",
      "Epoch 13/500\n",
      "23/23 [==============================] - 0s 5ms/step - loss: 4153.7915 - val_loss: 2381.6284\n",
      "Epoch 14/500\n",
      "23/23 [==============================] - 0s 4ms/step - loss: 4069.7683 - val_loss: 2339.0073\n",
      "Epoch 15/500\n",
      "23/23 [==============================] - 0s 4ms/step - loss: 3987.2532 - val_loss: 2297.5713\n",
      "Epoch 16/500\n",
      "23/23 [==============================] - 0s 4ms/step - loss: 3906.2070 - val_loss: 2257.2937\n",
      "Epoch 17/500\n",
      "23/23 [==============================] - 0s 5ms/step - loss: 3826.5940 - val_loss: 2218.1494\n",
      "Epoch 18/500\n",
      "23/23 [==============================] - 0s 4ms/step - loss: 3748.3857 - val_loss: 2180.1157\n",
      "Epoch 19/500\n",
      "23/23 [==============================] - 0s 4ms/step - loss: 3671.5513 - val_loss: 2143.1721\n",
      "Epoch 20/500\n",
      "23/23 [==============================] - 0s 5ms/step - loss: 3596.0681 - val_loss: 2107.2979\n",
      "Epoch 21/500\n",
      "23/23 [==============================] - 0s 4ms/step - loss: 3521.9106 - val_loss: 2072.4746\n",
      "Epoch 22/500\n",
      "23/23 [==============================] - 0s 4ms/step - loss: 3449.0581 - val_loss: 2038.6841\n",
      "Epoch 23/500\n",
      "23/23 [==============================] - 0s 4ms/step - loss: 3377.4888 - val_loss: 2005.9088\n",
      "Epoch 24/500\n",
      "23/23 [==============================] - 0s 4ms/step - loss: 3307.1826 - val_loss: 1974.1327\n",
      "Epoch 25/500\n",
      "23/23 [==============================] - 0s 4ms/step - loss: 3238.1211 - val_loss: 1943.3381\n",
      "Epoch 26/500\n",
      "23/23 [==============================] - 0s 4ms/step - loss: 3170.2861 - val_loss: 1913.5106\n",
      "Epoch 27/500\n",
      "23/23 [==============================] - 0s 4ms/step - loss: 3103.6597 - val_loss: 1884.6342\n",
      "Epoch 28/500\n",
      "23/23 [==============================] - 0s 4ms/step - loss: 3038.2253 - val_loss: 1856.6937\n",
      "Epoch 29/500\n",
      "23/23 [==============================] - 0s 5ms/step - loss: 2973.9653 - val_loss: 1829.6747\n",
      "Epoch 30/500\n",
      "23/23 [==============================] - 0s 4ms/step - loss: 2910.8650 - val_loss: 1803.5618\n",
      "Epoch 31/500\n",
      "23/23 [==============================] - 0s 4ms/step - loss: 2848.9075 - val_loss: 1778.3417\n",
      "Epoch 32/500\n",
      "23/23 [==============================] - 0s 4ms/step - loss: 2788.0781 - val_loss: 1754.0000\n",
      "Epoch 33/500\n",
      "23/23 [==============================] - 0s 4ms/step - loss: 2728.3616 - val_loss: 1730.5226\n",
      "Epoch 34/500\n",
      "23/23 [==============================] - 0s 4ms/step - loss: 2669.7432 - val_loss: 1707.8964\n",
      "Epoch 35/500\n",
      "23/23 [==============================] - 0s 4ms/step - loss: 2612.2083 - val_loss: 1686.1073\n",
      "Epoch 36/500\n",
      "23/23 [==============================] - 0s 4ms/step - loss: 2555.7424 - val_loss: 1665.1423\n",
      "Epoch 37/500\n",
      "23/23 [==============================] - 0s 4ms/step - loss: 2500.3320 - val_loss: 1644.9884\n",
      "Epoch 38/500\n",
      "23/23 [==============================] - 0s 5ms/step - loss: 2445.9636 - val_loss: 1625.6324\n",
      "Epoch 39/500\n",
      "23/23 [==============================] - 0s 4ms/step - loss: 2392.6228 - val_loss: 1607.0618\n",
      "Epoch 40/500\n",
      "23/23 [==============================] - 0s 4ms/step - loss: 2340.2964 - val_loss: 1589.2628\n",
      "Epoch 41/500\n",
      "23/23 [==============================] - 0s 4ms/step - loss: 2288.9712 - val_loss: 1572.2240\n",
      "Epoch 42/500\n",
      "23/23 [==============================] - 0s 4ms/step - loss: 2238.6343 - val_loss: 1555.9321\n",
      "Epoch 43/500\n",
      "23/23 [==============================] - 0s 4ms/step - loss: 2189.2727 - val_loss: 1540.3750\n",
      "Epoch 44/500\n",
      "23/23 [==============================] - 0s 4ms/step - loss: 2140.8733 - val_loss: 1525.5403\n",
      "Epoch 45/500\n",
      "23/23 [==============================] - 0s 4ms/step - loss: 2093.4241 - val_loss: 1511.4158\n",
      "Epoch 46/500\n",
      "23/23 [==============================] - 0s 5ms/step - loss: 2046.9111 - val_loss: 1497.9897\n",
      "Epoch 47/500\n",
      "23/23 [==============================] - 0s 5ms/step - loss: 2001.3241 - val_loss: 1485.2496\n",
      "Epoch 48/500\n",
      "23/23 [==============================] - 0s 7ms/step - loss: 1956.6493 - val_loss: 1473.1838\n",
      "Epoch 49/500\n",
      "23/23 [==============================] - 0s 5ms/step - loss: 1912.8750 - val_loss: 1461.7802\n",
      "Epoch 50/500\n",
      "23/23 [==============================] - 0s 5ms/step - loss: 1869.9896 - val_loss: 1451.0276\n",
      "Epoch 51/500\n",
      "23/23 [==============================] - 0s 4ms/step - loss: 1827.9807 - val_loss: 1440.9136\n",
      "Epoch 52/500\n",
      "23/23 [==============================] - 0s 12ms/step - loss: 1786.8363 - val_loss: 1431.4271\n",
      "Epoch 53/500\n",
      "23/23 [==============================] - 0s 7ms/step - loss: 1746.5452 - val_loss: 1422.5566\n",
      "Epoch 54/500\n",
      "23/23 [==============================] - 0s 6ms/step - loss: 1707.0957 - val_loss: 1414.2905\n",
      "Epoch 55/500\n",
      "23/23 [==============================] - 0s 6ms/step - loss: 1668.4764 - val_loss: 1406.6176\n",
      "Epoch 56/500\n",
      "23/23 [==============================] - 0s 5ms/step - loss: 1630.6752 - val_loss: 1399.5262\n",
      "Epoch 57/500\n",
      "23/23 [==============================] - 0s 4ms/step - loss: 1593.6813 - val_loss: 1393.0055\n",
      "Epoch 58/500\n",
      "23/23 [==============================] - 0s 5ms/step - loss: 1557.4840 - val_loss: 1387.0441\n",
      "Epoch 59/500\n",
      "23/23 [==============================] - 0s 5ms/step - loss: 1522.0714 - val_loss: 1381.6310\n",
      "Epoch 60/500\n",
      "23/23 [==============================] - 0s 5ms/step - loss: 1487.4325 - val_loss: 1376.7550\n",
      "Epoch 61/500\n",
      "23/23 [==============================] - 0s 5ms/step - loss: 1453.5569 - val_loss: 1372.4055\n",
      "Epoch 62/500\n",
      "23/23 [==============================] - 0s 5ms/step - loss: 1420.4332 - val_loss: 1368.5710\n",
      "Epoch 63/500\n",
      "23/23 [==============================] - 0s 6ms/step - loss: 1388.0509 - val_loss: 1365.2413\n",
      "Epoch 64/500\n",
      "23/23 [==============================] - 0s 5ms/step - loss: 1356.3992 - val_loss: 1362.4052\n",
      "Epoch 65/500\n",
      "23/23 [==============================] - 0s 5ms/step - loss: 1325.4668 - val_loss: 1360.0520\n",
      "Epoch 66/500\n",
      "23/23 [==============================] - 0s 4ms/step - loss: 1295.2440 - val_loss: 1358.1710\n",
      "Epoch 67/500\n",
      "23/23 [==============================] - 0s 4ms/step - loss: 1265.7198 - val_loss: 1356.7517\n",
      "Epoch 68/500\n",
      "23/23 [==============================] - 0s 4ms/step - loss: 1236.8839 - val_loss: 1355.7834\n",
      "Epoch 69/500\n",
      "23/23 [==============================] - 0s 5ms/step - loss: 1208.7256 - val_loss: 1355.2559\n",
      "Epoch 70/500\n",
      "23/23 [==============================] - 0s 4ms/step - loss: 1181.2352 - val_loss: 1355.1584\n",
      "Epoch 71/500\n",
      "23/23 [==============================] - 0s 4ms/step - loss: 1154.4023 - val_loss: 1355.4807\n",
      "Epoch 72/500\n",
      "23/23 [==============================] - 0s 4ms/step - loss: 1128.2164 - val_loss: 1356.2123\n",
      "Epoch 73/500\n",
      "23/23 [==============================] - 0s 4ms/step - loss: 1102.6680 - val_loss: 1357.3429\n",
      "Epoch 74/500\n",
      "23/23 [==============================] - 0s 4ms/step - loss: 1077.7465 - val_loss: 1358.8623\n",
      "Epoch 75/500\n",
      "23/23 [==============================] - 0s 4ms/step - loss: 1053.4420 - val_loss: 1360.7604\n",
      "Epoch 76/500\n",
      "23/23 [==============================] - 0s 4ms/step - loss: 1029.7448 - val_loss: 1363.0272\n",
      "Epoch 77/500\n",
      "23/23 [==============================] - 0s 4ms/step - loss: 1006.6450 - val_loss: 1365.6523\n",
      "Epoch 78/500\n",
      "23/23 [==============================] - 0s 5ms/step - loss: 984.1326 - val_loss: 1368.6259\n",
      "Epoch 79/500\n",
      "23/23 [==============================] - 0s 4ms/step - loss: 962.1982 - val_loss: 1371.9380\n",
      "Epoch 80/500\n",
      "23/23 [==============================] - 0s 4ms/step - loss: 940.8318 - val_loss: 1375.5787\n",
      "Epoch 81/500\n",
      "23/23 [==============================] - 0s 4ms/step - loss: 920.0241 - val_loss: 1379.5382\n",
      "Epoch 82/500\n",
      "23/23 [==============================] - 0s 4ms/step - loss: 899.7657 - val_loss: 1383.8066\n",
      "Epoch 83/500\n",
      "23/23 [==============================] - 0s 4ms/step - loss: 880.0468 - val_loss: 1388.3743\n",
      "Epoch 84/500\n",
      "23/23 [==============================] - 0s 4ms/step - loss: 860.8578 - val_loss: 1393.2316\n",
      "Epoch 85/500\n",
      "23/23 [==============================] - 0s 4ms/step - loss: 842.1899 - val_loss: 1398.3688\n",
      "Epoch 86/500\n",
      "23/23 [==============================] - 0s 4ms/step - loss: 824.0337 - val_loss: 1403.7764\n",
      "Epoch 87/500\n",
      "23/23 [==============================] - 0s 4ms/step - loss: 806.3795 - val_loss: 1409.4448\n",
      "Epoch 88/500\n",
      "23/23 [==============================] - 0s 4ms/step - loss: 789.2185 - val_loss: 1415.3647\n",
      "Epoch 89/500\n",
      "23/23 [==============================] - 0s 5ms/step - loss: 772.5419 - val_loss: 1421.5269\n",
      "Epoch 90/500\n",
      "23/23 [==============================] - 0s 6ms/step - loss: 756.3401 - val_loss: 1427.9220\n",
      "Epoch 91/500\n",
      "23/23 [==============================] - 0s 5ms/step - loss: 740.6044 - val_loss: 1434.5408\n",
      "Epoch 92/500\n",
      "23/23 [==============================] - 0s 8ms/step - loss: 725.3256 - val_loss: 1441.3738\n",
      "Epoch 93/500\n",
      "23/23 [==============================] - 0s 8ms/step - loss: 710.4951 - val_loss: 1448.4124\n",
      "Epoch 94/500\n",
      "23/23 [==============================] - 0s 4ms/step - loss: 696.1041 - val_loss: 1455.6473\n",
      "Epoch 95/500\n",
      "23/23 [==============================] - 0s 4ms/step - loss: 682.1440 - val_loss: 1463.0699\n",
      "Epoch 96/500\n",
      "23/23 [==============================] - 0s 4ms/step - loss: 668.6059 - val_loss: 1470.6708\n",
      "Epoch 97/500\n",
      "23/23 [==============================] - 0s 4ms/step - loss: 655.4814 - val_loss: 1478.4417\n",
      "Epoch 98/500\n",
      "23/23 [==============================] - 0s 4ms/step - loss: 642.7618 - val_loss: 1486.3737\n",
      "Epoch 99/500\n",
      "23/23 [==============================] - 0s 4ms/step - loss: 630.4386 - val_loss: 1494.4580\n",
      "Epoch 100/500\n",
      "23/23 [==============================] - 0s 4ms/step - loss: 618.5037 - val_loss: 1502.6862\n",
      "Epoch 101/500\n",
      "23/23 [==============================] - 0s 4ms/step - loss: 606.9485 - val_loss: 1511.0500\n",
      "Epoch 102/500\n",
      "23/23 [==============================] - 0s 6ms/step - loss: 595.7650 - val_loss: 1519.5410\n",
      "Epoch 103/500\n",
      "23/23 [==============================] - 0s 5ms/step - loss: 584.9447 - val_loss: 1528.1506\n",
      "Epoch 104/500\n",
      "23/23 [==============================] - 0s 5ms/step - loss: 574.4796 - val_loss: 1536.8716\n",
      "Epoch 105/500\n",
      "23/23 [==============================] - 0s 5ms/step - loss: 564.3618 - val_loss: 1545.6941\n",
      "Epoch 106/500\n",
      "23/23 [==============================] - 0s 5ms/step - loss: 554.5834 - val_loss: 1554.6119\n",
      "Epoch 107/500\n",
      "23/23 [==============================] - 0s 5ms/step - loss: 545.1362 - val_loss: 1563.6160\n",
      "Epoch 108/500\n",
      "23/23 [==============================] - 0s 5ms/step - loss: 536.0126 - val_loss: 1572.6987\n",
      "Epoch 109/500\n",
      "23/23 [==============================] - 0s 6ms/step - loss: 527.2047 - val_loss: 1581.8533\n",
      "Epoch 110/500\n",
      "23/23 [==============================] - 0s 6ms/step - loss: 518.7051 - val_loss: 1591.0715\n",
      "Epoch 111/500\n",
      "23/23 [==============================] - 0s 6ms/step - loss: 510.5059 - val_loss: 1600.3459\n",
      "Epoch 112/500\n",
      "23/23 [==============================] - 0s 5ms/step - loss: 502.5997 - val_loss: 1609.6687\n",
      "Epoch 113/500\n",
      "23/23 [==============================] - 0s 5ms/step - loss: 494.9795 - val_loss: 1619.0333\n",
      "Epoch 114/500\n",
      "23/23 [==============================] - 0s 6ms/step - loss: 487.6375 - val_loss: 1628.4325\n",
      "Epoch 115/500\n",
      "23/23 [==============================] - 0s 6ms/step - loss: 480.5665 - val_loss: 1637.8589\n",
      "Epoch 116/500\n",
      "23/23 [==============================] - 0s 6ms/step - loss: 473.7595 - val_loss: 1647.3058\n",
      "Epoch 117/500\n",
      "23/23 [==============================] - 0s 5ms/step - loss: 467.2094 - val_loss: 1656.7660\n",
      "Epoch 118/500\n",
      "23/23 [==============================] - 0s 5ms/step - loss: 460.9092 - val_loss: 1666.2343\n",
      "Epoch 119/500\n",
      "23/23 [==============================] - 0s 5ms/step - loss: 454.8520 - val_loss: 1675.7031\n",
      "Epoch 120/500\n",
      "23/23 [==============================] - 0s 5ms/step - loss: 449.0309 - val_loss: 1685.1661\n",
      "Epoch 121/500\n",
      "23/23 [==============================] - 0s 6ms/step - loss: 443.4393 - val_loss: 1694.6177\n",
      "Epoch 122/500\n",
      "23/23 [==============================] - 0s 5ms/step - loss: 438.0706 - val_loss: 1704.0513\n",
      "Epoch 123/500\n",
      "23/23 [==============================] - 0s 6ms/step - loss: 432.9183 - val_loss: 1713.4601\n",
      "Epoch 124/500\n",
      "23/23 [==============================] - 0s 5ms/step - loss: 427.9758 - val_loss: 1722.8397\n",
      "Epoch 125/500\n",
      "23/23 [==============================] - 0s 5ms/step - loss: 423.2371 - val_loss: 1732.1838\n",
      "Epoch 126/500\n",
      "23/23 [==============================] - 0s 4ms/step - loss: 418.6956 - val_loss: 1741.4875\n",
      "Epoch 127/500\n",
      "23/23 [==============================] - 0s 4ms/step - loss: 414.3456 - val_loss: 1750.7451\n",
      "Epoch 128/500\n",
      "23/23 [==============================] - 0s 4ms/step - loss: 410.1805 - val_loss: 1759.9506\n",
      "Epoch 129/500\n",
      "23/23 [==============================] - 0s 10ms/step - loss: 406.1950 - val_loss: 1769.1002\n",
      "Epoch 130/500\n",
      "23/23 [==============================] - 0s 4ms/step - loss: 402.3828 - val_loss: 1778.1879\n",
      "Epoch 131/500\n",
      "23/23 [==============================] - 0s 5ms/step - loss: 398.7385 - val_loss: 1787.2101\n",
      "Epoch 132/500\n",
      "23/23 [==============================] - 0s 5ms/step - loss: 395.2564 - val_loss: 1796.1613\n",
      "Epoch 133/500\n",
      "23/23 [==============================] - 0s 4ms/step - loss: 391.9309 - val_loss: 1805.0377\n",
      "Epoch 134/500\n",
      "23/23 [==============================] - 0s 5ms/step - loss: 388.7569 - val_loss: 1813.8347\n",
      "Epoch 135/500\n",
      "23/23 [==============================] - 0s 4ms/step - loss: 385.7286 - val_loss: 1822.5485\n",
      "Epoch 136/500\n",
      "23/23 [==============================] - 0s 4ms/step - loss: 382.8414 - val_loss: 1831.1752\n",
      "Epoch 137/500\n",
      "23/23 [==============================] - 0s 4ms/step - loss: 380.0899 - val_loss: 1839.7108\n",
      "Epoch 138/500\n",
      "23/23 [==============================] - 0s 4ms/step - loss: 377.4691 - val_loss: 1848.1516\n",
      "Epoch 139/500\n",
      "23/23 [==============================] - 0s 5ms/step - loss: 374.9744 - val_loss: 1856.4946\n",
      "Epoch 140/500\n",
      "23/23 [==============================] - 0s 4ms/step - loss: 372.6009 - val_loss: 1864.7357\n",
      "Epoch 141/500\n",
      "23/23 [==============================] - 0s 5ms/step - loss: 370.3440 - val_loss: 1872.8734\n",
      "Epoch 142/500\n",
      "23/23 [==============================] - 0s 4ms/step - loss: 368.1991 - val_loss: 1880.9033\n",
      "Epoch 143/500\n",
      "23/23 [==============================] - 0s 4ms/step - loss: 366.1620 - val_loss: 1888.8235\n",
      "Epoch 144/500\n",
      "23/23 [==============================] - 0s 4ms/step - loss: 364.2283 - val_loss: 1896.6312\n",
      "Epoch 145/500\n",
      "23/23 [==============================] - 0s 4ms/step - loss: 362.3937 - val_loss: 1904.3241\n",
      "Epoch 146/500\n",
      "23/23 [==============================] - 0s 4ms/step - loss: 360.6544 - val_loss: 1911.8998\n",
      "Epoch 147/500\n",
      "23/23 [==============================] - 0s 4ms/step - loss: 359.0062 - val_loss: 1919.3562\n",
      "Epoch 148/500\n",
      "23/23 [==============================] - 0s 4ms/step - loss: 357.4453 - val_loss: 1926.6915\n",
      "Epoch 149/500\n",
      "23/23 [==============================] - 0s 6ms/step - loss: 355.9681 - val_loss: 1933.9041\n",
      "Epoch 150/500\n",
      "23/23 [==============================] - 0s 5ms/step - loss: 354.5706 - val_loss: 1940.9929\n",
      "Epoch 151/500\n",
      "23/23 [==============================] - 0s 5ms/step - loss: 353.2499 - val_loss: 1947.9548\n",
      "Epoch 152/500\n",
      "23/23 [==============================] - 0s 4ms/step - loss: 352.0020 - val_loss: 1954.7911\n",
      "Epoch 153/500\n",
      "23/23 [==============================] - 0s 4ms/step - loss: 350.8238 - val_loss: 1961.4987\n",
      "Epoch 154/500\n",
      "23/23 [==============================] - 0s 4ms/step - loss: 349.7122 - val_loss: 1968.0770\n",
      "Epoch 155/500\n",
      "23/23 [==============================] - 0s 5ms/step - loss: 348.6639 - val_loss: 1974.5259\n",
      "Epoch 156/500\n",
      "23/23 [==============================] - 0s 4ms/step - loss: 347.6762 - val_loss: 1980.8445\n",
      "Epoch 157/500\n",
      "23/23 [==============================] - 0s 5ms/step - loss: 346.7458 - val_loss: 1987.0320\n",
      "Epoch 158/500\n",
      "23/23 [==============================] - 0s 4ms/step - loss: 345.8703 - val_loss: 1993.0889\n",
      "Epoch 159/500\n",
      "23/23 [==============================] - 0s 4ms/step - loss: 345.0468 - val_loss: 1999.0135\n",
      "Epoch 160/500\n",
      "23/23 [==============================] - 0s 4ms/step - loss: 344.2727 - val_loss: 2004.8064\n",
      "Epoch 161/500\n",
      "23/23 [==============================] - 0s 5ms/step - loss: 343.5456 - val_loss: 2010.4692\n",
      "Epoch 162/500\n",
      "23/23 [==============================] - 0s 5ms/step - loss: 342.8630 - val_loss: 2015.9996\n",
      "Epoch 163/500\n",
      "23/23 [==============================] - 0s 10ms/step - loss: 342.2227 - val_loss: 2021.4010\n",
      "Epoch 164/500\n",
      "23/23 [==============================] - 0s 6ms/step - loss: 341.6223 - val_loss: 2026.6711\n",
      "Epoch 165/500\n",
      "23/23 [==============================] - 0s 7ms/step - loss: 341.0597 - val_loss: 2031.8108\n",
      "Epoch 166/500\n",
      "23/23 [==============================] - 0s 6ms/step - loss: 340.5330 - val_loss: 2036.8231\n",
      "Epoch 167/500\n",
      "23/23 [==============================] - 0s 6ms/step - loss: 340.0402 - val_loss: 2041.7068\n",
      "Epoch 168/500\n",
      "23/23 [==============================] - 0s 6ms/step - loss: 339.5795 - val_loss: 2046.4620\n",
      "Epoch 169/500\n",
      "23/23 [==============================] - 0s 6ms/step - loss: 339.1489 - val_loss: 2051.0916\n",
      "Epoch 170/500\n",
      "23/23 [==============================] - 0s 5ms/step - loss: 338.7468 - val_loss: 2055.5977\n",
      "Epoch 171/500\n",
      "23/23 [==============================] - 0s 5ms/step - loss: 338.3715 - val_loss: 2059.9788\n",
      "Epoch 172/500\n",
      "23/23 [==============================] - 0s 6ms/step - loss: 338.0216 - val_loss: 2064.2373\n",
      "Epoch 173/500\n",
      "23/23 [==============================] - 0s 6ms/step - loss: 337.6955 - val_loss: 2068.3752\n",
      "Epoch 174/500\n",
      "23/23 [==============================] - 0s 6ms/step - loss: 337.3917 - val_loss: 2072.3931\n",
      "Epoch 175/500\n",
      "23/23 [==============================] - 0s 6ms/step - loss: 337.1090 - val_loss: 2076.2922\n",
      "Epoch 176/500\n",
      "23/23 [==============================] - 0s 6ms/step - loss: 336.8460 - val_loss: 2080.0769\n",
      "Epoch 177/500\n",
      "23/23 [==============================] - 0s 7ms/step - loss: 336.6016 - val_loss: 2083.7461\n",
      "Epoch 178/500\n",
      "23/23 [==============================] - 0s 9ms/step - loss: 336.3746 - val_loss: 2087.3015\n",
      "Epoch 179/500\n",
      "23/23 [==============================] - 0s 8ms/step - loss: 336.1638 - val_loss: 2090.7463\n",
      "Epoch 180/500\n",
      "23/23 [==============================] - 0s 8ms/step - loss: 335.9683 - val_loss: 2094.0815\n",
      "Epoch 181/500\n",
      "23/23 [==============================] - 0s 8ms/step - loss: 335.7871 - val_loss: 2097.3105\n",
      "Epoch 182/500\n",
      "23/23 [==============================] - 0s 10ms/step - loss: 335.6192 - val_loss: 2100.4329\n",
      "Epoch 183/500\n",
      "23/23 [==============================] - 0s 12ms/step - loss: 335.4637 - val_loss: 2103.4526\n",
      "Epoch 184/500\n",
      "23/23 [==============================] - 0s 8ms/step - loss: 335.3200 - val_loss: 2106.3711\n",
      "Epoch 185/500\n",
      "23/23 [==============================] - 0s 9ms/step - loss: 335.1870 - val_loss: 2109.1902\n",
      "Epoch 186/500\n",
      "23/23 [==============================] - 0s 9ms/step - loss: 335.0640 - val_loss: 2111.9114\n",
      "Epoch 187/500\n",
      "23/23 [==============================] - 0s 11ms/step - loss: 334.9506 - val_loss: 2114.5386\n",
      "Epoch 188/500\n",
      "23/23 [==============================] - 0s 10ms/step - loss: 334.8458 - val_loss: 2117.0718\n",
      "Epoch 189/500\n",
      "23/23 [==============================] - 0s 9ms/step - loss: 334.7495 - val_loss: 2119.5149\n",
      "Epoch 190/500\n",
      "23/23 [==============================] - 0s 7ms/step - loss: 334.6604 - val_loss: 2121.8694\n",
      "Epoch 191/500\n",
      "23/23 [==============================] - 0s 7ms/step - loss: 334.5784 - val_loss: 2124.1365\n",
      "Epoch 192/500\n",
      "23/23 [==============================] - 0s 6ms/step - loss: 334.5031 - val_loss: 2126.3213\n",
      "Epoch 193/500\n",
      "23/23 [==============================] - 0s 7ms/step - loss: 334.4336 - val_loss: 2128.4226\n",
      "Epoch 194/500\n",
      "23/23 [==============================] - 0s 8ms/step - loss: 334.3699 - val_loss: 2130.4438\n",
      "Epoch 195/500\n",
      "23/23 [==============================] - 0s 8ms/step - loss: 334.3113 - val_loss: 2132.3884\n",
      "Epoch 196/500\n",
      "23/23 [==============================] - 0s 20ms/step - loss: 334.2574 - val_loss: 2134.2568\n",
      "Epoch 197/500\n",
      "23/23 [==============================] - 0s 9ms/step - loss: 334.2081 - val_loss: 2136.0513\n",
      "Epoch 198/500\n",
      "23/23 [==============================] - 0s 6ms/step - loss: 334.1629 - val_loss: 2137.7712\n",
      "Epoch 199/500\n",
      "23/23 [==============================] - 0s 6ms/step - loss: 334.1221 - val_loss: 2139.4297\n",
      "Epoch 200/500\n",
      "23/23 [==============================] - 0s 7ms/step - loss: 334.0834 - val_loss: 2141.0164\n",
      "Epoch 201/500\n",
      "23/23 [==============================] - 0s 7ms/step - loss: 334.0487 - val_loss: 2142.5388\n",
      "Epoch 202/500\n",
      "23/23 [==============================] - 0s 7ms/step - loss: 334.0169 - val_loss: 2143.9973\n",
      "Epoch 203/500\n",
      "23/23 [==============================] - 0s 7ms/step - loss: 333.9879 - val_loss: 2145.3950\n",
      "Epoch 204/500\n",
      "23/23 [==============================] - 0s 8ms/step - loss: 333.9614 - val_loss: 2146.7336\n",
      "Epoch 205/500\n",
      "23/23 [==============================] - 0s 8ms/step - loss: 333.9371 - val_loss: 2148.0154\n",
      "Epoch 206/500\n",
      "23/23 [==============================] - 0s 6ms/step - loss: 333.9152 - val_loss: 2149.2419\n",
      "Epoch 207/500\n",
      "23/23 [==============================] - 0s 7ms/step - loss: 333.8950 - val_loss: 2150.4136\n",
      "Epoch 208/500\n",
      "23/23 [==============================] - 0s 8ms/step - loss: 333.8767 - val_loss: 2151.5356\n",
      "Epoch 209/500\n",
      "23/23 [==============================] - 0s 6ms/step - loss: 333.8600 - val_loss: 2152.6067\n",
      "Epoch 210/500\n",
      "23/23 [==============================] - 0s 5ms/step - loss: 333.8449 - val_loss: 2153.6304\n",
      "Epoch 211/500\n",
      "23/23 [==============================] - 0s 8ms/step - loss: 333.8311 - val_loss: 2154.6084\n",
      "Epoch 212/500\n",
      "23/23 [==============================] - 0s 6ms/step - loss: 333.8186 - val_loss: 2155.5405\n",
      "Epoch 213/500\n",
      "23/23 [==============================] - 0s 5ms/step - loss: 333.8073 - val_loss: 2156.4304\n",
      "Epoch 214/500\n",
      "23/23 [==============================] - 0s 5ms/step - loss: 333.7971 - val_loss: 2157.2795\n",
      "Epoch 215/500\n",
      "23/23 [==============================] - 0s 7ms/step - loss: 333.7878 - val_loss: 2158.0884\n",
      "Epoch 216/500\n",
      "23/23 [==============================] - 0s 8ms/step - loss: 333.7794 - val_loss: 2158.8591\n",
      "Epoch 217/500\n",
      "23/23 [==============================] - 0s 5ms/step - loss: 333.7718 - val_loss: 2159.5938\n",
      "Epoch 218/500\n",
      "23/23 [==============================] - 0s 5ms/step - loss: 333.7650 - val_loss: 2160.2920\n",
      "Epoch 219/500\n",
      "23/23 [==============================] - 0s 5ms/step - loss: 333.7589 - val_loss: 2160.9575\n",
      "Epoch 220/500\n",
      "23/23 [==============================] - 0s 5ms/step - loss: 333.7534 - val_loss: 2161.5903\n",
      "Epoch 221/500\n",
      "23/23 [==============================] - 0s 5ms/step - loss: 333.7485 - val_loss: 2162.1926\n",
      "Epoch 222/500\n",
      "23/23 [==============================] - 0s 4ms/step - loss: 333.7440 - val_loss: 2162.7649\n",
      "Epoch 223/500\n",
      "23/23 [==============================] - 0s 5ms/step - loss: 333.7401 - val_loss: 2163.3093\n",
      "Epoch 224/500\n",
      "23/23 [==============================] - 0s 5ms/step - loss: 333.7366 - val_loss: 2163.8257\n",
      "Epoch 225/500\n",
      "23/23 [==============================] - 0s 5ms/step - loss: 333.7335 - val_loss: 2164.3159\n",
      "Epoch 226/500\n",
      "23/23 [==============================] - 0s 5ms/step - loss: 333.7306 - val_loss: 2164.7815\n",
      "Epoch 227/500\n",
      "23/23 [==============================] - 0s 5ms/step - loss: 333.7282 - val_loss: 2165.2239\n",
      "Epoch 228/500\n",
      "23/23 [==============================] - 0s 5ms/step - loss: 333.7261 - val_loss: 2165.6428\n",
      "Epoch 229/500\n",
      "23/23 [==============================] - 0s 5ms/step - loss: 333.7242 - val_loss: 2166.0400\n",
      "Epoch 230/500\n",
      "23/23 [==============================] - 0s 4ms/step - loss: 333.7227 - val_loss: 2166.4167\n",
      "Epoch 231/500\n",
      "23/23 [==============================] - 0s 5ms/step - loss: 333.7212 - val_loss: 2166.7729\n",
      "Epoch 232/500\n",
      "23/23 [==============================] - 0s 5ms/step - loss: 333.7200 - val_loss: 2167.1118\n",
      "Epoch 233/500\n",
      "23/23 [==============================] - 0s 5ms/step - loss: 333.7191 - val_loss: 2167.4319\n",
      "Epoch 234/500\n",
      "23/23 [==============================] - 0s 5ms/step - loss: 333.7182 - val_loss: 2167.7351\n",
      "Epoch 235/500\n",
      "23/23 [==============================] - 0s 5ms/step - loss: 333.7175 - val_loss: 2168.0220\n",
      "Epoch 236/500\n",
      "23/23 [==============================] - 0s 4ms/step - loss: 333.7169 - val_loss: 2168.2920\n",
      "Epoch 237/500\n",
      "23/23 [==============================] - 0s 5ms/step - loss: 333.7165 - val_loss: 2168.5479\n",
      "Epoch 238/500\n",
      "23/23 [==============================] - 0s 5ms/step - loss: 333.7162 - val_loss: 2168.7905\n",
      "Epoch 239/500\n",
      "23/23 [==============================] - 0s 5ms/step - loss: 333.7161 - val_loss: 2169.0200\n",
      "Epoch 240/500\n",
      "23/23 [==============================] - 0s 5ms/step - loss: 333.7160 - val_loss: 2169.2361\n",
      "Epoch 241/500\n",
      "23/23 [==============================] - 0s 5ms/step - loss: 333.7159 - val_loss: 2169.4399\n",
      "Epoch 242/500\n",
      "23/23 [==============================] - 0s 6ms/step - loss: 333.7159 - val_loss: 2169.6321\n",
      "Epoch 243/500\n",
      "23/23 [==============================] - 0s 5ms/step - loss: 333.7161 - val_loss: 2169.8140\n",
      "Epoch 244/500\n",
      "23/23 [==============================] - 0s 5ms/step - loss: 333.7163 - val_loss: 2169.9846\n",
      "Epoch 245/500\n",
      "23/23 [==============================] - 0s 5ms/step - loss: 333.7165 - val_loss: 2170.1462\n",
      "Epoch 246/500\n",
      "23/23 [==============================] - 0s 5ms/step - loss: 333.7168 - val_loss: 2170.2983\n",
      "Epoch 247/500\n",
      "23/23 [==============================] - 0s 4ms/step - loss: 333.7173 - val_loss: 2170.4417\n",
      "Epoch 248/500\n",
      "23/23 [==============================] - 0s 4ms/step - loss: 333.7176 - val_loss: 2170.5762\n",
      "Epoch 249/500\n",
      "23/23 [==============================] - 0s 6ms/step - loss: 333.7181 - val_loss: 2170.7041\n",
      "Epoch 250/500\n",
      "23/23 [==============================] - 0s 6ms/step - loss: 333.7186 - val_loss: 2170.8247\n",
      "Epoch 251/500\n",
      "23/23 [==============================] - 0s 5ms/step - loss: 333.7191 - val_loss: 2170.9368\n",
      "Epoch 252/500\n",
      "23/23 [==============================] - 0s 5ms/step - loss: 333.7195 - val_loss: 2171.0430\n",
      "Epoch 253/500\n",
      "23/23 [==============================] - 0s 4ms/step - loss: 333.7202 - val_loss: 2171.1426\n",
      "Epoch 254/500\n",
      "23/23 [==============================] - 0s 12ms/step - loss: 333.7206 - val_loss: 2171.2354\n",
      "Epoch 255/500\n",
      "23/23 [==============================] - 0s 8ms/step - loss: 333.7213 - val_loss: 2171.3230\n",
      "Epoch 256/500\n",
      "23/23 [==============================] - 0s 7ms/step - loss: 333.7220 - val_loss: 2171.4065\n",
      "Epoch 257/500\n",
      "23/23 [==============================] - 0s 5ms/step - loss: 333.7225 - val_loss: 2171.4834\n",
      "Epoch 258/500\n",
      "23/23 [==============================] - 0s 6ms/step - loss: 333.7231 - val_loss: 2171.5557\n",
      "Epoch 259/500\n",
      "23/23 [==============================] - 0s 5ms/step - loss: 333.7238 - val_loss: 2171.6226\n",
      "Epoch 260/500\n",
      "23/23 [==============================] - 0s 5ms/step - loss: 333.7245 - val_loss: 2171.6868\n",
      "Epoch 261/500\n",
      "23/23 [==============================] - 0s 5ms/step - loss: 333.7251 - val_loss: 2171.7463\n",
      "Epoch 262/500\n",
      "23/23 [==============================] - 0s 5ms/step - loss: 333.7258 - val_loss: 2171.8013\n",
      "Epoch 263/500\n",
      "23/23 [==============================] - 0s 6ms/step - loss: 333.7264 - val_loss: 2171.8530\n",
      "Epoch 264/500\n",
      "23/23 [==============================] - 0s 5ms/step - loss: 333.7271 - val_loss: 2171.8994\n",
      "Epoch 265/500\n",
      "23/23 [==============================] - 0s 5ms/step - loss: 333.7278 - val_loss: 2171.9409\n",
      "Epoch 266/500\n",
      "23/23 [==============================] - 0s 5ms/step - loss: 333.7285 - val_loss: 2171.9417\n",
      "Epoch 267/500\n",
      "23/23 [==============================] - 0s 5ms/step - loss: 333.7292 - val_loss: 2172.0725\n",
      "Epoch 268/500\n",
      "23/23 [==============================] - 0s 5ms/step - loss: 333.7299 - val_loss: 2172.1116\n",
      "Epoch 269/500\n",
      "23/23 [==============================] - 0s 4ms/step - loss: 333.7305 - val_loss: 2172.1465\n",
      "Epoch 270/500\n",
      "23/23 [==============================] - 0s 5ms/step - loss: 333.7313 - val_loss: 2172.1807\n",
      "Epoch 271/500\n",
      "23/23 [==============================] - 0s 5ms/step - loss: 333.7319 - val_loss: 2172.2109\n",
      "Epoch 272/500\n",
      "23/23 [==============================] - 0s 5ms/step - loss: 333.7326 - val_loss: 2172.2410\n",
      "Epoch 273/500\n",
      "23/23 [==============================] - 0s 5ms/step - loss: 333.7331 - val_loss: 2172.2666\n",
      "Epoch 274/500\n",
      "23/23 [==============================] - 0s 5ms/step - loss: 333.7339 - val_loss: 2172.2922\n",
      "Epoch 275/500\n",
      "23/23 [==============================] - 0s 5ms/step - loss: 333.7346 - val_loss: 2172.3159\n",
      "Epoch 276/500\n",
      "23/23 [==============================] - 0s 4ms/step - loss: 333.7352 - val_loss: 2172.3364\n",
      "Epoch 277/500\n",
      "23/23 [==============================] - 0s 8ms/step - loss: 333.7359 - val_loss: 2172.3586\n",
      "Epoch 278/500\n",
      "23/23 [==============================] - 0s 5ms/step - loss: 333.7365 - val_loss: 2172.3774\n",
      "Epoch 279/500\n",
      "23/23 [==============================] - 0s 5ms/step - loss: 333.7371 - val_loss: 2172.3950\n",
      "Epoch 280/500\n",
      "23/23 [==============================] - 0s 5ms/step - loss: 333.7377 - val_loss: 2172.4111\n",
      "Epoch 281/500\n",
      "23/23 [==============================] - 0s 5ms/step - loss: 333.7383 - val_loss: 2172.4253\n",
      "Epoch 282/500\n",
      "23/23 [==============================] - 0s 15ms/step - loss: 333.7390 - val_loss: 2172.4387\n",
      "Epoch 283/500\n",
      "23/23 [==============================] - 0s 7ms/step - loss: 333.7396 - val_loss: 2172.4512\n",
      "Epoch 284/500\n",
      "23/23 [==============================] - 0s 7ms/step - loss: 333.7402 - val_loss: 2172.4636\n",
      "Epoch 285/500\n",
      "23/23 [==============================] - 0s 6ms/step - loss: 333.7408 - val_loss: 2172.4753\n",
      "Epoch 286/500\n",
      "23/23 [==============================] - 0s 5ms/step - loss: 333.7414 - val_loss: 2172.4849\n",
      "Epoch 287/500\n",
      "23/23 [==============================] - 0s 5ms/step - loss: 333.7419 - val_loss: 2172.4941\n",
      "Epoch 288/500\n",
      "23/23 [==============================] - 0s 5ms/step - loss: 333.7425 - val_loss: 2172.5022\n",
      "Epoch 289/500\n",
      "23/23 [==============================] - 0s 5ms/step - loss: 333.7431 - val_loss: 2172.5093\n",
      "Epoch 290/500\n",
      "23/23 [==============================] - 0s 5ms/step - loss: 333.7437 - val_loss: 2172.5154\n",
      "Epoch 291/500\n",
      "23/23 [==============================] - 0s 5ms/step - loss: 333.7442 - val_loss: 2172.5222\n",
      "Epoch 292/500\n",
      "23/23 [==============================] - 0s 5ms/step - loss: 333.7448 - val_loss: 2172.5278\n",
      "Epoch 293/500\n",
      "23/23 [==============================] - 0s 6ms/step - loss: 333.7454 - val_loss: 2172.5339\n",
      "Epoch 294/500\n",
      "23/23 [==============================] - 0s 7ms/step - loss: 333.7458 - val_loss: 2172.5369\n",
      "Epoch 295/500\n",
      "23/23 [==============================] - 0s 7ms/step - loss: 333.7463 - val_loss: 2172.5400\n",
      "Epoch 296/500\n",
      "23/23 [==============================] - 0s 6ms/step - loss: 333.7469 - val_loss: 2172.5444\n",
      "Epoch 297/500\n",
      "23/23 [==============================] - 0s 5ms/step - loss: 333.7473 - val_loss: 2172.5461\n",
      "Epoch 298/500\n",
      "23/23 [==============================] - 0s 5ms/step - loss: 333.7478 - val_loss: 2172.5476\n",
      "Epoch 299/500\n",
      "23/23 [==============================] - 0s 5ms/step - loss: 333.7482 - val_loss: 2172.5486\n",
      "Epoch 300/500\n",
      "23/23 [==============================] - 0s 5ms/step - loss: 333.7487 - val_loss: 2172.5500\n",
      "Epoch 301/500\n",
      "23/23 [==============================] - 0s 5ms/step - loss: 333.7493 - val_loss: 2172.5508\n",
      "Epoch 302/500\n",
      "23/23 [==============================] - 0s 5ms/step - loss: 333.7496 - val_loss: 2172.5505\n",
      "Epoch 303/500\n",
      "23/23 [==============================] - 0s 4ms/step - loss: 333.7502 - val_loss: 2172.5496\n",
      "Epoch 304/500\n",
      "23/23 [==============================] - 0s 4ms/step - loss: 333.7506 - val_loss: 2172.5503\n",
      "Epoch 305/500\n",
      "23/23 [==============================] - 0s 5ms/step - loss: 333.7509 - val_loss: 2172.5491\n",
      "Epoch 306/500\n",
      "23/23 [==============================] - 0s 5ms/step - loss: 333.7514 - val_loss: 2172.5459\n",
      "Epoch 307/500\n",
      "23/23 [==============================] - 0s 5ms/step - loss: 333.7518 - val_loss: 2172.5442\n",
      "Epoch 308/500\n",
      "23/23 [==============================] - 0s 5ms/step - loss: 333.7523 - val_loss: 2172.5405\n",
      "Epoch 309/500\n",
      "23/23 [==============================] - 0s 11ms/step - loss: 333.7527 - val_loss: 2172.5366\n",
      "Epoch 310/500\n",
      "23/23 [==============================] - 0s 7ms/step - loss: 333.7531 - val_loss: 2172.5322\n",
      "Epoch 311/500\n",
      "23/23 [==============================] - 0s 6ms/step - loss: 333.7534 - val_loss: 2172.5264\n",
      "Epoch 312/500\n",
      "23/23 [==============================] - 0s 5ms/step - loss: 333.7538 - val_loss: 2172.5195\n",
      "Epoch 313/500\n",
      "23/23 [==============================] - 0s 5ms/step - loss: 333.7543 - val_loss: 2172.5134\n",
      "Epoch 314/500\n",
      "23/23 [==============================] - 0s 5ms/step - loss: 333.7546 - val_loss: 2172.5059\n",
      "Epoch 315/500\n",
      "23/23 [==============================] - 0s 5ms/step - loss: 333.7550 - val_loss: 2172.4993\n",
      "Epoch 316/500\n",
      "23/23 [==============================] - 0s 4ms/step - loss: 333.7553 - val_loss: 2172.4907\n",
      "Epoch 317/500\n",
      "23/23 [==============================] - 0s 5ms/step - loss: 333.7558 - val_loss: 2172.4805\n",
      "Epoch 318/500\n",
      "23/23 [==============================] - 0s 5ms/step - loss: 333.7560 - val_loss: 2172.4673\n",
      "Epoch 319/500\n",
      "23/23 [==============================] - 0s 5ms/step - loss: 333.7564 - val_loss: 2172.4529\n",
      "Epoch 320/500\n",
      "23/23 [==============================] - 0s 5ms/step - loss: 333.7567 - val_loss: 2172.4368\n",
      "Epoch 321/500\n",
      "23/23 [==============================] - 0s 5ms/step - loss: 333.7569 - val_loss: 2172.4185\n",
      "Epoch 322/500\n",
      "23/23 [==============================] - 0s 5ms/step - loss: 333.7573 - val_loss: 2172.3975\n",
      "Epoch 323/500\n",
      "23/23 [==============================] - 0s 5ms/step - loss: 333.7576 - val_loss: 2172.3723\n",
      "Epoch 324/500\n",
      "23/23 [==============================] - 0s 5ms/step - loss: 333.7579 - val_loss: 2172.3416\n",
      "Epoch 325/500\n",
      "23/23 [==============================] - 0s 5ms/step - loss: 333.7583 - val_loss: 2172.3042\n",
      "Epoch 326/500\n",
      "23/23 [==============================] - 0s 4ms/step - loss: 333.7586 - val_loss: 2172.2593\n",
      "Epoch 327/500\n",
      "23/23 [==============================] - 0s 5ms/step - loss: 333.7588 - val_loss: 2172.2026\n",
      "Epoch 328/500\n",
      "23/23 [==============================] - 0s 5ms/step - loss: 333.7591 - val_loss: 2172.1313\n",
      "Epoch 329/500\n",
      "23/23 [==============================] - 0s 5ms/step - loss: 333.7595 - val_loss: 2172.0413\n",
      "Epoch 330/500\n",
      "23/23 [==============================] - 0s 5ms/step - loss: 333.7596 - val_loss: 2171.9229\n",
      "Epoch 331/500\n",
      "23/23 [==============================] - 0s 5ms/step - loss: 333.7599 - val_loss: 2171.7712\n",
      "Epoch 332/500\n",
      "23/23 [==============================] - 0s 5ms/step - loss: 333.7601 - val_loss: 2171.5833\n",
      "Epoch 333/500\n",
      "23/23 [==============================] - 0s 5ms/step - loss: 333.7603 - val_loss: 2171.3550\n",
      "Epoch 334/500\n",
      "23/23 [==============================] - 0s 5ms/step - loss: 333.7606 - val_loss: 2167.9617\n",
      "Epoch 335/500\n",
      "23/23 [==============================] - 0s 4ms/step - loss: 326.0220 - val_loss: 1993.3190\n",
      "Epoch 336/500\n",
      "23/23 [==============================] - 0s 5ms/step - loss: 345.8669 - val_loss: 1998.9462\n",
      "Epoch 337/500\n",
      "23/23 [==============================] - 0s 4ms/step - loss: 344.7604 - val_loss: 2010.2024\n",
      "Epoch 338/500\n",
      "23/23 [==============================] - 0s 5ms/step - loss: 343.3691 - val_loss: 2021.0991\n",
      "Epoch 339/500\n",
      "23/23 [==============================] - 0s 10ms/step - loss: 342.1231 - val_loss: 2031.3408\n",
      "Epoch 340/500\n",
      "23/23 [==============================] - 0s 6ms/step - loss: 341.0392 - val_loss: 2040.9319\n",
      "Epoch 341/500\n",
      "23/23 [==============================] - 0s 6ms/step - loss: 340.0987 - val_loss: 2049.9119\n",
      "Epoch 342/500\n",
      "23/23 [==============================] - 0s 5ms/step - loss: 339.2825 - val_loss: 2058.3120\n",
      "Epoch 343/500\n",
      "23/23 [==============================] - 0s 5ms/step - loss: 338.5740 - val_loss: 2066.1680\n",
      "Epoch 344/500\n",
      "23/23 [==============================] - 0s 5ms/step - loss: 337.9587 - val_loss: 2073.5115\n",
      "Epoch 345/500\n",
      "23/23 [==============================] - 0s 5ms/step - loss: 337.4243 - val_loss: 2080.3748\n",
      "Epoch 346/500\n",
      "23/23 [==============================] - 0s 6ms/step - loss: 336.9598 - val_loss: 2086.7839\n",
      "Epoch 347/500\n",
      "23/23 [==============================] - 0s 5ms/step - loss: 336.5562 - val_loss: 2092.7703\n",
      "Epoch 348/500\n",
      "23/23 [==============================] - 0s 5ms/step - loss: 336.2051 - val_loss: 2098.3584\n",
      "Epoch 349/500\n",
      "23/23 [==============================] - 0s 6ms/step - loss: 335.8996 - val_loss: 2103.5750\n",
      "Epoch 350/500\n",
      "23/23 [==============================] - 0s 5ms/step - loss: 335.6338 - val_loss: 2108.4419\n",
      "Epoch 351/500\n",
      "23/23 [==============================] - 0s 5ms/step - loss: 335.4022 - val_loss: 2112.9817\n",
      "Epoch 352/500\n",
      "23/23 [==============================] - 0s 5ms/step - loss: 335.2006 - val_loss: 2117.2144\n",
      "Epoch 353/500\n",
      "23/23 [==============================] - 0s 5ms/step - loss: 335.0247 - val_loss: 2121.1606\n",
      "Epoch 354/500\n",
      "23/23 [==============================] - 0s 4ms/step - loss: 334.8716 - val_loss: 2124.8401\n",
      "Epoch 355/500\n",
      "23/23 [==============================] - 0s 5ms/step - loss: 334.7378 - val_loss: 2128.2678\n",
      "Epoch 356/500\n",
      "23/23 [==============================] - 0s 4ms/step - loss: 334.6210 - val_loss: 2131.4614\n",
      "Epoch 357/500\n",
      "23/23 [==============================] - 0s 4ms/step - loss: 334.5190 - val_loss: 2134.4360\n",
      "Epoch 358/500\n",
      "23/23 [==============================] - 0s 5ms/step - loss: 334.4300 - val_loss: 2137.2070\n",
      "Epoch 359/500\n",
      "23/23 [==============================] - 0s 5ms/step - loss: 334.3521 - val_loss: 2139.7876\n",
      "Epoch 360/500\n",
      "23/23 [==============================] - 0s 5ms/step - loss: 334.2838 - val_loss: 2142.1892\n",
      "Epoch 361/500\n",
      "23/23 [==============================] - 0s 4ms/step - loss: 334.2241 - val_loss: 2144.4260\n",
      "Epoch 362/500\n",
      "23/23 [==============================] - 0s 5ms/step - loss: 334.1717 - val_loss: 2146.5083\n",
      "Epoch 363/500\n",
      "23/23 [==============================] - 0s 5ms/step - loss: 334.1256 - val_loss: 2148.4456\n",
      "Epoch 364/500\n",
      "23/23 [==============================] - 0s 11ms/step - loss: 334.0854 - val_loss: 2150.2473\n",
      "Epoch 365/500\n",
      "23/23 [==============================] - 0s 5ms/step - loss: 334.0498 - val_loss: 2151.9246\n",
      "Epoch 366/500\n",
      "23/23 [==============================] - 0s 5ms/step - loss: 334.0186 - val_loss: 2153.4849\n",
      "Epoch 367/500\n",
      "23/23 [==============================] - 0s 5ms/step - loss: 333.9912 - val_loss: 2154.9355\n",
      "Epoch 368/500\n",
      "23/23 [==============================] - 0s 4ms/step - loss: 333.9671 - val_loss: 2156.2856\n",
      "Epoch 369/500\n",
      "23/23 [==============================] - 0s 4ms/step - loss: 333.9457 - val_loss: 2157.5405\n",
      "Epoch 370/500\n",
      "23/23 [==============================] - 0s 5ms/step - loss: 333.9269 - val_loss: 2158.7083\n",
      "Epoch 371/500\n",
      "23/23 [==============================] - 0s 5ms/step - loss: 333.9101 - val_loss: 2159.7942\n",
      "Epoch 372/500\n",
      "23/23 [==============================] - 0s 5ms/step - loss: 333.8954 - val_loss: 2160.8032\n",
      "Epoch 373/500\n",
      "23/23 [==============================] - 0s 5ms/step - loss: 333.8823 - val_loss: 2161.7417\n",
      "Epoch 374/500\n",
      "23/23 [==============================] - 0s 4ms/step - loss: 333.8707 - val_loss: 2162.6133\n",
      "Epoch 375/500\n",
      "23/23 [==============================] - 0s 4ms/step - loss: 333.8605 - val_loss: 2163.4246\n",
      "Epoch 376/500\n",
      "23/23 [==============================] - 0s 4ms/step - loss: 333.8513 - val_loss: 2164.1782\n",
      "Epoch 377/500\n",
      "23/23 [==============================] - 0s 4ms/step - loss: 333.8430 - val_loss: 2164.8772\n",
      "Epoch 378/500\n",
      "23/23 [==============================] - 0s 5ms/step - loss: 333.8359 - val_loss: 2165.5281\n",
      "Epoch 379/500\n",
      "23/23 [==============================] - 0s 5ms/step - loss: 333.8292 - val_loss: 2166.1318\n",
      "Epoch 380/500\n",
      "23/23 [==============================] - 0s 5ms/step - loss: 333.8236 - val_loss: 2166.6934\n",
      "Epoch 381/500\n",
      "23/23 [==============================] - 0s 5ms/step - loss: 333.8183 - val_loss: 2167.2148\n",
      "Epoch 382/500\n",
      "23/23 [==============================] - 0s 5ms/step - loss: 333.8138 - val_loss: 2167.7000\n",
      "Epoch 383/500\n",
      "23/23 [==============================] - 0s 5ms/step - loss: 333.8097 - val_loss: 2168.1519\n",
      "Epoch 384/500\n",
      "23/23 [==============================] - 0s 5ms/step - loss: 333.8058 - val_loss: 2168.5701\n",
      "Epoch 385/500\n",
      "23/23 [==============================] - 0s 5ms/step - loss: 333.8025 - val_loss: 2168.9595\n",
      "Epoch 386/500\n",
      "23/23 [==============================] - 0s 5ms/step - loss: 333.7993 - val_loss: 2169.3201\n",
      "Epoch 387/500\n",
      "23/23 [==============================] - 0s 5ms/step - loss: 333.7967 - val_loss: 2169.6562\n",
      "Epoch 388/500\n",
      "23/23 [==============================] - 0s 5ms/step - loss: 333.7943 - val_loss: 2169.9678\n",
      "Epoch 389/500\n",
      "23/23 [==============================] - 0s 5ms/step - loss: 333.7921 - val_loss: 2170.2581\n",
      "Epoch 390/500\n",
      "23/23 [==============================] - 0s 11ms/step - loss: 333.7900 - val_loss: 2170.5271\n",
      "Epoch 391/500\n",
      "23/23 [==============================] - 0s 5ms/step - loss: 333.7882 - val_loss: 2170.7764\n",
      "Epoch 392/500\n",
      "23/23 [==============================] - 0s 5ms/step - loss: 333.7867 - val_loss: 2171.0083\n",
      "Epoch 393/500\n",
      "23/23 [==============================] - 0s 5ms/step - loss: 333.7851 - val_loss: 2171.2227\n",
      "Epoch 394/500\n",
      "23/23 [==============================] - 0s 5ms/step - loss: 333.7839 - val_loss: 2171.4231\n",
      "Epoch 395/500\n",
      "23/23 [==============================] - 0s 5ms/step - loss: 333.7827 - val_loss: 2171.6091\n",
      "Epoch 396/500\n",
      "23/23 [==============================] - 0s 6ms/step - loss: 333.7815 - val_loss: 2171.7812\n",
      "Epoch 397/500\n",
      "23/23 [==============================] - 0s 5ms/step - loss: 333.7805 - val_loss: 2171.9414\n",
      "Epoch 398/500\n",
      "23/23 [==============================] - 0s 5ms/step - loss: 333.7796 - val_loss: 2172.0903\n",
      "Epoch 399/500\n",
      "23/23 [==============================] - 0s 5ms/step - loss: 333.7788 - val_loss: 2172.2278\n",
      "Epoch 400/500\n",
      "23/23 [==============================] - 0s 5ms/step - loss: 333.7780 - val_loss: 2172.3577\n",
      "Epoch 401/500\n",
      "23/23 [==============================] - 0s 5ms/step - loss: 333.7773 - val_loss: 2172.4751\n",
      "Epoch 402/500\n",
      "23/23 [==============================] - 0s 5ms/step - loss: 333.7766 - val_loss: 2172.5859\n",
      "Epoch 403/500\n",
      "23/23 [==============================] - 0s 5ms/step - loss: 333.7762 - val_loss: 2172.6887\n",
      "Epoch 404/500\n",
      "23/23 [==============================] - 0s 5ms/step - loss: 333.7756 - val_loss: 2172.7844\n",
      "Epoch 405/500\n",
      "23/23 [==============================] - 0s 5ms/step - loss: 333.7752 - val_loss: 2172.8735\n",
      "Epoch 406/500\n",
      "23/23 [==============================] - 0s 5ms/step - loss: 333.7747 - val_loss: 2172.9541\n",
      "Epoch 407/500\n",
      "23/23 [==============================] - 0s 5ms/step - loss: 333.7744 - val_loss: 2173.0315\n",
      "Epoch 408/500\n",
      "23/23 [==============================] - 0s 5ms/step - loss: 333.7739 - val_loss: 2173.0996\n",
      "Epoch 409/500\n",
      "23/23 [==============================] - 0s 5ms/step - loss: 333.7736 - val_loss: 2173.1650\n",
      "Epoch 410/500\n",
      "23/23 [==============================] - 0s 5ms/step - loss: 333.7735 - val_loss: 2173.2275\n",
      "Epoch 411/500\n",
      "23/23 [==============================] - 0s 5ms/step - loss: 333.7730 - val_loss: 2173.2837\n",
      "Epoch 412/500\n",
      "23/23 [==============================] - 0s 5ms/step - loss: 333.7728 - val_loss: 2173.3350\n",
      "Epoch 413/500\n",
      "23/23 [==============================] - 0s 5ms/step - loss: 333.7726 - val_loss: 2173.3840\n",
      "Epoch 414/500\n",
      "23/23 [==============================] - 0s 5ms/step - loss: 333.7725 - val_loss: 2173.4302\n",
      "Epoch 415/500\n",
      "23/23 [==============================] - 0s 11ms/step - loss: 333.7723 - val_loss: 2173.4717\n",
      "Epoch 416/500\n",
      "23/23 [==============================] - 0s 6ms/step - loss: 333.7720 - val_loss: 2173.5100\n",
      "Epoch 417/500\n",
      "23/23 [==============================] - 0s 6ms/step - loss: 333.7719 - val_loss: 2173.5457\n",
      "Epoch 418/500\n",
      "23/23 [==============================] - 0s 5ms/step - loss: 333.7718 - val_loss: 2173.5791\n",
      "Epoch 419/500\n",
      "23/23 [==============================] - 0s 5ms/step - loss: 333.7718 - val_loss: 2173.6108\n",
      "Epoch 420/500\n",
      "23/23 [==============================] - 0s 5ms/step - loss: 333.7715 - val_loss: 2173.6396\n",
      "Epoch 421/500\n",
      "23/23 [==============================] - 0s 5ms/step - loss: 333.7715 - val_loss: 2173.6663\n",
      "Epoch 422/500\n",
      "23/23 [==============================] - 0s 5ms/step - loss: 333.7713 - val_loss: 2173.6912\n",
      "Epoch 423/500\n",
      "23/23 [==============================] - 0s 5ms/step - loss: 333.7714 - val_loss: 2173.7144\n",
      "Epoch 424/500\n",
      "23/23 [==============================] - 0s 5ms/step - loss: 333.7712 - val_loss: 2173.7358\n",
      "Epoch 425/500\n",
      "23/23 [==============================] - 0s 5ms/step - loss: 333.7712 - val_loss: 2173.7559\n",
      "Epoch 426/500\n",
      "23/23 [==============================] - 0s 5ms/step - loss: 333.7711 - val_loss: 2173.7744\n",
      "Epoch 427/500\n",
      "23/23 [==============================] - 0s 5ms/step - loss: 333.7711 - val_loss: 2173.7915\n",
      "Epoch 428/500\n",
      "23/23 [==============================] - 0s 5ms/step - loss: 333.7711 - val_loss: 2173.8076\n",
      "Epoch 429/500\n",
      "23/23 [==============================] - 0s 6ms/step - loss: 333.7711 - val_loss: 2173.8218\n",
      "Epoch 430/500\n",
      "23/23 [==============================] - 0s 5ms/step - loss: 333.7710 - val_loss: 2173.8362\n",
      "Epoch 431/500\n",
      "23/23 [==============================] - 0s 5ms/step - loss: 333.7709 - val_loss: 2173.8496\n",
      "Epoch 432/500\n",
      "23/23 [==============================] - 0s 5ms/step - loss: 333.7709 - val_loss: 2173.8616\n",
      "Epoch 433/500\n",
      "23/23 [==============================] - 0s 5ms/step - loss: 333.7709 - val_loss: 2173.8716\n",
      "Epoch 434/500\n",
      "23/23 [==============================] - 0s 5ms/step - loss: 333.7708 - val_loss: 2173.8818\n",
      "Epoch 435/500\n",
      "23/23 [==============================] - 0s 5ms/step - loss: 333.7708 - val_loss: 2173.8906\n",
      "Epoch 436/500\n",
      "23/23 [==============================] - 0s 5ms/step - loss: 333.7708 - val_loss: 2173.8987\n",
      "Epoch 437/500\n",
      "23/23 [==============================] - 0s 5ms/step - loss: 333.7709 - val_loss: 2173.9072\n",
      "Epoch 438/500\n",
      "23/23 [==============================] - 0s 12ms/step - loss: 333.7708 - val_loss: 2173.9143\n",
      "Epoch 439/500\n",
      "23/23 [==============================] - 0s 5ms/step - loss: 333.7709 - val_loss: 2173.9211\n",
      "Epoch 440/500\n",
      "23/23 [==============================] - 0s 6ms/step - loss: 333.7708 - val_loss: 2173.9268\n",
      "Epoch 441/500\n",
      "23/23 [==============================] - 0s 5ms/step - loss: 333.7708 - val_loss: 2173.9309\n",
      "Epoch 442/500\n",
      "23/23 [==============================] - 0s 5ms/step - loss: 333.7708 - val_loss: 2173.9363\n",
      "Epoch 443/500\n",
      "23/23 [==============================] - 0s 5ms/step - loss: 333.7708 - val_loss: 2173.9407\n",
      "Epoch 444/500\n",
      "23/23 [==============================] - 0s 5ms/step - loss: 333.7708 - val_loss: 2173.9431\n",
      "Epoch 445/500\n",
      "23/23 [==============================] - 0s 5ms/step - loss: 333.7708 - val_loss: 2173.9446\n",
      "Epoch 446/500\n",
      "23/23 [==============================] - 0s 5ms/step - loss: 333.7709 - val_loss: 2173.9365\n",
      "Epoch 447/500\n",
      "23/23 [==============================] - 0s 5ms/step - loss: 333.7717 - val_loss: 2173.9658\n",
      "Epoch 448/500\n",
      "23/23 [==============================] - 0s 5ms/step - loss: 333.7709 - val_loss: 2173.9829\n",
      "Epoch 449/500\n",
      "23/23 [==============================] - 0s 5ms/step - loss: 333.7708 - val_loss: 2173.9871\n",
      "Epoch 450/500\n",
      "23/23 [==============================] - 0s 5ms/step - loss: 333.7708 - val_loss: 2173.9907\n",
      "Epoch 451/500\n",
      "23/23 [==============================] - 0s 5ms/step - loss: 333.7708 - val_loss: 2173.9932\n",
      "Epoch 452/500\n",
      "23/23 [==============================] - 0s 5ms/step - loss: 333.7709 - val_loss: 2173.9961\n",
      "Epoch 453/500\n",
      "23/23 [==============================] - 0s 5ms/step - loss: 333.7709 - val_loss: 2173.9983\n",
      "Epoch 454/500\n",
      "23/23 [==============================] - 0s 5ms/step - loss: 333.7709 - val_loss: 2174.0002\n",
      "Epoch 455/500\n",
      "23/23 [==============================] - 0s 5ms/step - loss: 333.7709 - val_loss: 2174.0022\n",
      "Epoch 456/500\n",
      "23/23 [==============================] - 0s 4ms/step - loss: 333.7709 - val_loss: 2174.0039\n",
      "Epoch 457/500\n",
      "23/23 [==============================] - 0s 5ms/step - loss: 333.7710 - val_loss: 2174.0059\n",
      "Epoch 458/500\n",
      "23/23 [==============================] - 0s 5ms/step - loss: 333.7710 - val_loss: 2174.0083\n",
      "Epoch 459/500\n",
      "23/23 [==============================] - 0s 5ms/step - loss: 333.7710 - val_loss: 2174.0100\n",
      "Epoch 460/500\n",
      "23/23 [==============================] - 0s 5ms/step - loss: 333.7711 - val_loss: 2174.0112\n",
      "Epoch 461/500\n",
      "23/23 [==============================] - 0s 10ms/step - loss: 333.7710 - val_loss: 2174.0125\n",
      "Epoch 462/500\n",
      "23/23 [==============================] - 0s 5ms/step - loss: 333.7710 - val_loss: 2174.0132\n",
      "Epoch 463/500\n",
      "23/23 [==============================] - 0s 5ms/step - loss: 333.7710 - val_loss: 2174.0139\n",
      "Epoch 464/500\n",
      "23/23 [==============================] - 0s 6ms/step - loss: 333.7710 - val_loss: 2174.0149\n",
      "Epoch 465/500\n",
      "23/23 [==============================] - 0s 5ms/step - loss: 333.7711 - val_loss: 2174.0166\n",
      "Epoch 466/500\n",
      "23/23 [==============================] - 0s 5ms/step - loss: 333.7711 - val_loss: 2174.0178\n",
      "Epoch 467/500\n",
      "23/23 [==============================] - 0s 5ms/step - loss: 333.7711 - val_loss: 2174.0181\n",
      "Epoch 468/500\n",
      "23/23 [==============================] - 0s 5ms/step - loss: 333.7711 - val_loss: 2174.0183\n",
      "Epoch 469/500\n",
      "23/23 [==============================] - 0s 5ms/step - loss: 333.7711 - val_loss: 2174.0183\n",
      "Epoch 470/500\n",
      "23/23 [==============================] - 0s 5ms/step - loss: 333.7711 - val_loss: 2174.0188\n",
      "Epoch 471/500\n",
      "23/23 [==============================] - 0s 6ms/step - loss: 333.7711 - val_loss: 2174.0198\n",
      "Epoch 472/500\n",
      "23/23 [==============================] - 0s 5ms/step - loss: 333.7711 - val_loss: 2174.0205\n",
      "Epoch 473/500\n",
      "23/23 [==============================] - 0s 5ms/step - loss: 333.7711 - val_loss: 2174.0212\n",
      "Epoch 474/500\n",
      "23/23 [==============================] - 0s 5ms/step - loss: 333.7711 - val_loss: 2174.0220\n",
      "Epoch 475/500\n",
      "23/23 [==============================] - 0s 5ms/step - loss: 333.7711 - val_loss: 2174.0229\n",
      "Epoch 476/500\n",
      "23/23 [==============================] - 0s 4ms/step - loss: 333.7712 - val_loss: 2174.0237\n",
      "Epoch 477/500\n",
      "23/23 [==============================] - 0s 5ms/step - loss: 333.7712 - val_loss: 2174.0232\n",
      "Epoch 478/500\n",
      "23/23 [==============================] - 0s 5ms/step - loss: 333.7712 - val_loss: 2174.0232\n",
      "Epoch 479/500\n",
      "23/23 [==============================] - 0s 5ms/step - loss: 333.7711 - val_loss: 2174.0229\n",
      "Epoch 480/500\n",
      "23/23 [==============================] - 0s 5ms/step - loss: 333.7712 - val_loss: 2174.0225\n",
      "Epoch 481/500\n",
      "23/23 [==============================] - 0s 5ms/step - loss: 333.7712 - val_loss: 2174.0225\n",
      "Epoch 482/500\n",
      "23/23 [==============================] - 0s 5ms/step - loss: 333.7712 - val_loss: 2174.0227\n",
      "Epoch 483/500\n",
      "23/23 [==============================] - 0s 12ms/step - loss: 333.7713 - val_loss: 2174.0229\n",
      "Epoch 484/500\n",
      "23/23 [==============================] - 0s 6ms/step - loss: 333.7713 - val_loss: 2174.0232\n",
      "Epoch 485/500\n",
      "23/23 [==============================] - 0s 6ms/step - loss: 333.7713 - val_loss: 2174.0232\n",
      "Epoch 486/500\n",
      "23/23 [==============================] - 0s 5ms/step - loss: 333.7713 - val_loss: 2174.0237\n",
      "Epoch 487/500\n",
      "23/23 [==============================] - 0s 5ms/step - loss: 333.7713 - val_loss: 2174.0249\n",
      "Epoch 488/500\n",
      "23/23 [==============================] - 0s 5ms/step - loss: 333.7713 - val_loss: 2174.0254\n",
      "Epoch 489/500\n",
      "23/23 [==============================] - 0s 6ms/step - loss: 333.7714 - val_loss: 2174.0266\n",
      "Epoch 490/500\n",
      "23/23 [==============================] - 0s 5ms/step - loss: 333.7715 - val_loss: 2174.0278\n",
      "Epoch 491/500\n",
      "23/23 [==============================] - 0s 4ms/step - loss: 333.7715 - val_loss: 2174.0286\n",
      "Epoch 492/500\n",
      "23/23 [==============================] - 0s 4ms/step - loss: 333.7715 - val_loss: 2174.0291\n",
      "Epoch 493/500\n",
      "23/23 [==============================] - 0s 5ms/step - loss: 333.7715 - val_loss: 2174.0300\n",
      "Epoch 494/500\n",
      "23/23 [==============================] - 0s 5ms/step - loss: 333.7715 - val_loss: 2174.0322\n",
      "Epoch 495/500\n",
      "23/23 [==============================] - 0s 5ms/step - loss: 333.7715 - val_loss: 2174.0332\n",
      "Epoch 496/500\n",
      "23/23 [==============================] - 0s 5ms/step - loss: 333.7715 - val_loss: 2174.0334\n",
      "Epoch 497/500\n",
      "23/23 [==============================] - 0s 5ms/step - loss: 333.7715 - val_loss: 2174.0334\n",
      "Epoch 498/500\n",
      "23/23 [==============================] - 0s 5ms/step - loss: 333.7715 - val_loss: 2174.0327\n",
      "Epoch 499/500\n",
      "23/23 [==============================] - 0s 5ms/step - loss: 333.7715 - val_loss: 2174.0327\n",
      "Epoch 500/500\n",
      "23/23 [==============================] - 0s 5ms/step - loss: 333.7715 - val_loss: 2174.0315\n"
     ]
    }
   ],
   "source": [
    "C0 = tf.Variable(88.0403, name=\"C0\", trainable=True, dtype=tf.float32)\n",
    "K0 = tf.Variable(-0.0012, name=\"K0\", trainable=True, dtype=tf.float32)\n",
    "K1 = tf.Variable(-0.0001, name=\"K1\", trainable=True, dtype=tf.float32)\n",
    "a = tf.Variable(0.0000, name=\"a\", trainable=True, dtype=tf.float32)\n",
    "b = tf.Variable(0.0120, name=\"b\", trainable=True, dtype=tf.float32)\n",
    "c = tf.Variable(2.0334, name=\"c\", trainable=True, dtype=tf.float32)\n",
    "\n",
    "splitr = 0.8\n",
    "\n",
    "\n",
    "def loss_fn(y_true, y_pred):\n",
    "    squared_difference = tf.square(y_true[:, 0] - y_pred[:, 0])\n",
    "    #squared_difference2 = tf.square(y_true[:, 2]-y_pred[:, 2])\n",
    "    #squared_difference1 = tf.square(y_true[:, 1]-y_pred[:, 1])\n",
    "    epsilon = 1\n",
    "    squared_difference3 = tf.square(\n",
    "        y_pred[:, 1] - (\n",
    "            y_pred[:, 0] * (\n",
    "                K0 - K1 * (\n",
    "                    9 * a * tf.math.log((y_pred[:, 0] + epsilon) / C0) / (K0 - K1 * c)**2 +\n",
    "                    4 * b * tf.math.log((y_pred[:, 0] + epsilon) / C0) / (K0 - K1 * c) + c\n",
    "                )\n",
    "            )\n",
    "        )\n",
    "    )\n",
    "    return tf.reduce_mean(squared_difference, axis=-1) + 0.2*tf.reduce_mean(squared_difference3, axis=-1)\n",
    "model = Sequential()\n",
    "model.add(LSTM(100, input_shape=(trainX.shape[1], trainX.shape[2])))\n",
    "model.add(Dense(60))\n",
    "model.compile(loss=loss_fn, optimizer='adam')\n",
    "history = model.fit(trainX[:int(splitr*trainX.shape[0])], trainy[:int(splitr*trainX.shape[0])], epochs=500, batch_size=64, validation_data=(trainX[int(splitr*trainX.shape[0]):trainX.shape[0]], trainy[int(splitr*trainX.shape[0]):trainX.shape[0]]), shuffle=False)"
   ]
  },
  {
   "cell_type": "code",
   "execution_count": 19,
   "metadata": {
    "colab": {
     "base_uri": "https://localhost:8080/"
    },
    "id": "yJL101rPyuoT",
    "outputId": "239ff2b1-c186-423a-d316-939dfdd7c793"
   },
   "outputs": [
    {
     "name": "stdout",
     "output_type": "stream",
     "text": [
      "1/1 [==============================] - 0s 406ms/step\n"
     ]
    }
   ],
   "source": [
    "forecast_without_mc = forecastX\n",
    "yhat_without_mc = model.predict(forecast_without_mc) # Step Ahead Prediction\n",
    "forecast_without_mc = forecast_without_mc.reshape((forecast_without_mc.shape[0], forecast_without_mc.shape[2])) # Historical Input"
   ]
  },
  {
   "cell_type": "code",
   "execution_count": 20,
   "metadata": {
    "colab": {
     "base_uri": "https://localhost:8080/"
    },
    "id": "g9dQELcJ8wbp",
    "outputId": "4dc7671b-b1a8-48d5-8744-a86f98446109"
   },
   "outputs": [
    {
     "data": {
      "text/plain": [
       "(1, 1, 251)"
      ]
     },
     "execution_count": 20,
     "metadata": {},
     "output_type": "execute_result"
    }
   ],
   "source": [
    "forecastX.shape"
   ]
  },
  {
   "cell_type": "code",
   "execution_count": 21,
   "metadata": {
    "colab": {
     "base_uri": "https://localhost:8080/"
    },
    "id": "IS2kyIKG1Kbr",
    "outputId": "f31b3485-8e26-452f-9298-ea8bf7e80ad1"
   },
   "outputs": [
    {
     "data": {
      "text/plain": [
       "(1, 251)"
      ]
     },
     "execution_count": 21,
     "metadata": {},
     "output_type": "execute_result"
    }
   ],
   "source": [
    "forecast_without_mc.shape"
   ]
  },
  {
   "cell_type": "code",
   "execution_count": 22,
   "metadata": {
    "id": "0u6VIzaDyuoT"
   },
   "outputs": [],
   "source": [
    "inv_yhat_without_mc = np.concatenate((forecast_without_mc, yhat_without_mc), axis=1) # Concatenation of predicted values with Historical Data\n",
    "#inv_yhat_without_mc = scaler.inverse_transform(inv_yhat_without_mc) # Transform labels back to original encoding"
   ]
  },
  {
   "cell_type": "code",
   "execution_count": 23,
   "metadata": {
    "colab": {
     "base_uri": "https://localhost:8080/"
    },
    "id": "EUEcw0LX07oU",
    "outputId": "cfc32397-9c37-4b43-d087-584bb31c3dcc"
   },
   "outputs": [
    {
     "data": {
      "text/plain": [
       "(1, 311)"
      ]
     },
     "execution_count": 23,
     "metadata": {},
     "output_type": "execute_result"
    }
   ],
   "source": [
    "inv_yhat_without_mc.shape"
   ]
  },
  {
   "cell_type": "code",
   "execution_count": 24,
   "metadata": {
    "id": "31OWVbSh_305"
   },
   "outputs": [],
   "source": [
    "fforecast = inv_yhat_without_mc[:,-300:]"
   ]
  },
  {
   "cell_type": "code",
   "execution_count": 25,
   "metadata": {},
   "outputs": [
    {
     "data": {
      "text/plain": [
       "(1, 300)"
      ]
     },
     "execution_count": 25,
     "metadata": {},
     "output_type": "execute_result"
    }
   ],
   "source": [
    "fforecast.shape"
   ]
  },
  {
   "cell_type": "code",
   "execution_count": 26,
   "metadata": {
    "id": "BlpGH2FOAiRF"
   },
   "outputs": [],
   "source": [
    "final_forecast = fforecast[:,0:300:3]"
   ]
  },
  {
   "cell_type": "code",
   "execution_count": 27,
   "metadata": {},
   "outputs": [
    {
     "data": {
      "text/plain": [
       "(1, 300)"
      ]
     },
     "execution_count": 27,
     "metadata": {},
     "output_type": "execute_result"
    }
   ],
   "source": [
    "fforecast.shape"
   ]
  },
  {
   "cell_type": "code",
   "execution_count": 28,
   "metadata": {
    "id": "CXkgkj_LBk_t"
   },
   "outputs": [],
   "source": [
    "# code to replace all negative value with 0\n",
    "final_forecast[final_forecast<0] = 0"
   ]
  },
  {
   "cell_type": "code",
   "execution_count": 29,
   "metadata": {},
   "outputs": [
    {
     "data": {
      "text/plain": [
       "array([[7.47897339e+01, 7.45579972e+01, 7.44924510e+01, 7.44269048e+01,\n",
       "        7.92353516e+01, 0.00000000e+00, 0.00000000e+00, 5.85864365e-01,\n",
       "        3.53939682e-01, 1.07423425e+00, 2.92525411e-01, 0.00000000e+00,\n",
       "        2.52372533e-01, 7.52197992e+01, 7.49828245e+01, 7.47458497e+01,\n",
       "        3.00090790e-01, 0.00000000e+00, 7.57470588e+01, 7.55453782e+01,\n",
       "        7.53163445e+01, 7.50793697e+01, 7.48423950e+01, 7.46054202e+01,\n",
       "        7.45070168e+01, 7.44414706e+01, 7.43759244e+01, 0.00000000e+00,\n",
       "        2.42449280e-01, 7.49389402e+01, 7.47019655e+01, 7.45337208e+01,\n",
       "        7.44681746e+01, 7.44026284e+01, 7.79325630e+01, 7.67478058e+01,\n",
       "        7.59188609e+01, 0.00000000e+00, 4.78058785e-01, 0.00000000e+00,\n",
       "        4.87217605e-01, 5.77322320e-02, 0.00000000e+00, 0.00000000e+00,\n",
       "        7.82079101e-01, 0.00000000e+00, 0.00000000e+00, 7.44556364e+01,\n",
       "        7.43904902e+01, 0.00000000e+00, 5.08463920e-01, 7.49916013e+01,\n",
       "        7.47546265e+01, 7.45482866e+01, 7.44827404e+01, 7.44171942e+01,\n",
       "        7.80838235e+01, 7.70167134e+01, 7.60533147e+01, 9.95775300e-03,\n",
       "        0.00000000e+00, 3.95178497e-01, 7.44438982e+01, 7.43783520e+01,\n",
       "        7.75097105e+01, 7.62998133e+01, 7.56947712e+01, 7.68673203e+01,\n",
       "        7.59786181e+01, 7.53514519e+01, 5.90972530e-02, 5.18556535e+01,\n",
       "        0.00000000e+00, 6.85069580e+01, 3.11801523e-01, 0.00000000e+00,\n",
       "        0.00000000e+00, 0.00000000e+00, 0.00000000e+00, 0.00000000e+00,\n",
       "        7.14011917e+01, 0.00000000e+00, 1.32718444e+00, 0.00000000e+00,\n",
       "        0.00000000e+00, 0.00000000e+00, 0.00000000e+00, 0.00000000e+00,\n",
       "        1.98814183e-01, 0.00000000e+00, 1.20423712e-01, 0.00000000e+00,\n",
       "        0.00000000e+00, 2.94432819e-01, 0.00000000e+00, 3.83667201e-01,\n",
       "        5.83870232e-01, 5.99391997e-01, 9.58728909e-01, 0.00000000e+00]])"
      ]
     },
     "execution_count": 29,
     "metadata": {},
     "output_type": "execute_result"
    }
   ],
   "source": [
    "final_forecast"
   ]
  },
  {
   "cell_type": "code",
   "execution_count": 30,
   "metadata": {},
   "outputs": [
    {
     "data": {
      "text/plain": [
       "(1, 100)"
      ]
     },
     "execution_count": 30,
     "metadata": {},
     "output_type": "execute_result"
    }
   ],
   "source": [
    "final_forecast.shape"
   ]
  },
  {
   "cell_type": "code",
   "execution_count": 31,
   "metadata": {},
   "outputs": [
    {
     "data": {
      "text/plain": [
       "(100,)"
      ]
     },
     "execution_count": 31,
     "metadata": {},
     "output_type": "execute_result"
    }
   ],
   "source": [
    "test.shape"
   ]
  },
  {
   "cell_type": "code",
   "execution_count": 32,
   "metadata": {},
   "outputs": [],
   "source": [
    "training_set = np.array(training_set)\n",
    "test = np.array(test)\n",
    "final_forecast = np.array(final_forecast.squeeze(0))"
   ]
  },
  {
   "cell_type": "code",
   "execution_count": 33,
   "metadata": {},
   "outputs": [
    {
     "data": {
      "text/plain": [
       "array([68.56507481, 68.55878937, 68.55250393, 68.54621849, 68.53993305,\n",
       "       68.53364761, 68.52736216, 68.52107672, 68.51479128, 68.50850584,\n",
       "       68.5022204 , 68.49593496, 68.48964952, 68.48336408, 68.47707864,\n",
       "       68.4707932 , 68.46450775, 68.45822231, 68.45193687, 68.44565143,\n",
       "       68.43936599, 68.43308055, 68.42679511, 68.42050967, 68.41422423,\n",
       "       68.40793879, 68.40165334, 68.3953679 , 68.38908246, 68.38279702,\n",
       "       68.37651158, 68.37022614, 68.3639407 , 68.35765526, 68.35136982,\n",
       "       68.34508438, 68.33879893, 68.33251349, 68.32622805, 68.31994261,\n",
       "       68.31365717, 68.30737173, 68.30108629, 68.29480085, 68.28851541,\n",
       "       68.28222997, 68.27594452, 68.26965908, 68.26337364, 68.2570882 ,\n",
       "       68.25080276, 68.24451732, 68.23823188, 68.23194644, 68.225661  ,\n",
       "       68.21937556, 68.21309011, 68.20680467, 68.20051923, 68.19423379,\n",
       "       68.18794835, 68.18166291, 68.17537747, 68.16909203, 68.16280659,\n",
       "       68.15652115, 68.1502357 , 68.14395026, 68.13766482, 68.13137938,\n",
       "       68.12509394, 68.1188085 , 68.11252306, 68.10623762, 68.09995218,\n",
       "       68.09366673, 68.08738129, 68.08109585, 68.07481041, 68.06852497,\n",
       "       68.06223953, 68.05595409, 68.04966865, 68.04338321, 68.03709777,\n",
       "       68.03081232, 68.02452688, 68.01824144, 68.011956  , 68.00567056,\n",
       "       67.99938512, 67.99309968, 67.98681424, 67.9805288 , 67.97424336,\n",
       "       67.96795791, 67.96167247, 67.95538703, 67.94910159, 67.94281615])"
      ]
     },
     "execution_count": 33,
     "metadata": {},
     "output_type": "execute_result"
    }
   ],
   "source": [
    "test"
   ]
  },
  {
   "cell_type": "code",
   "execution_count": 34,
   "metadata": {},
   "outputs": [
    {
     "data": {
      "text/plain": [
       "(100,)"
      ]
     },
     "execution_count": 34,
     "metadata": {},
     "output_type": "execute_result"
    }
   ],
   "source": [
    "test.shape"
   ]
  },
  {
   "cell_type": "code",
   "execution_count": 35,
   "metadata": {},
   "outputs": [
    {
     "data": {
      "text/plain": [
       "(100,)"
      ]
     },
     "execution_count": 35,
     "metadata": {},
     "output_type": "execute_result"
    }
   ],
   "source": [
    "final_forecast.shape"
   ]
  },
  {
   "cell_type": "code",
   "execution_count": 36,
   "metadata": {},
   "outputs": [
    {
     "data": {
      "text/plain": [
       "(100,)"
      ]
     },
     "execution_count": 36,
     "metadata": {},
     "output_type": "execute_result"
    }
   ],
   "source": [
    "test.shape"
   ]
  },
  {
   "cell_type": "code",
   "execution_count": 37,
   "metadata": {},
   "outputs": [
    {
     "name": "stdout",
     "output_type": "stream",
     "text": [
      "50.21528326438763\n",
      "39.93803822089259\n"
     ]
    }
   ],
   "source": [
    "import math\n",
    "MSE = np.square(np.subtract(np.array(test),np.array(final_forecast))).mean()   \n",
    "rsme = math.sqrt(MSE)\n",
    "print(rsme)  \n",
    "MAE = np.abs(np.subtract(np.array(test),np.array(final_forecast))).mean()   \n",
    "mae = MAE\n",
    "print(mae)"
   ]
  }
 ],
 "metadata": {
  "colab": {
   "provenance": []
  },
  "kernelspec": {
   "display_name": "Python 3",
   "language": "python",
   "name": "python3"
  },
  "language_info": {
   "codemirror_mode": {
    "name": "ipython",
    "version": 3
   },
   "file_extension": ".py",
   "mimetype": "text/x-python",
   "name": "python",
   "nbconvert_exporter": "python",
   "pygments_lexer": "ipython3",
   "version": "3.9.13"
  }
 },
 "nbformat": 4,
 "nbformat_minor": 0
}
