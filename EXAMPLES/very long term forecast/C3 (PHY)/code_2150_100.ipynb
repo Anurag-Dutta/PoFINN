{
 "cells": [
  {
   "cell_type": "markdown",
   "metadata": {
    "id": "pCGKeZ2gyuoQ"
   },
   "source": [
    "_Importing Required Libraries_"
   ]
  },
  {
   "cell_type": "code",
   "execution_count": 1,
   "metadata": {
    "colab": {
     "base_uri": "https://localhost:8080/"
    },
    "id": "A-6LN-zXiLcM",
    "outputId": "4de610a4-f8b8-4f49-c6c0-89de299ccedc"
   },
   "outputs": [
    {
     "name": "stdout",
     "output_type": "stream",
     "text": [
      "Requirement already satisfied: hampel in c:\\users\\anurag dutta\\appdata\\local\\packages\\pythonsoftwarefoundation.python.3.9_qbz5n2kfra8p0\\localcache\\local-packages\\python39\\site-packages (0.0.5)\n",
      "Requirement already satisfied: numpy in c:\\users\\anurag dutta\\appdata\\local\\packages\\pythonsoftwarefoundation.python.3.9_qbz5n2kfra8p0\\localcache\\local-packages\\python39\\site-packages (from hampel) (1.26.4)\n",
      "Requirement already satisfied: pandas in c:\\users\\anurag dutta\\appdata\\local\\packages\\pythonsoftwarefoundation.python.3.9_qbz5n2kfra8p0\\localcache\\local-packages\\python39\\site-packages (from hampel) (1.5.2)\n",
      "Requirement already satisfied: python-dateutil>=2.8.1 in c:\\users\\anurag dutta\\appdata\\local\\packages\\pythonsoftwarefoundation.python.3.9_qbz5n2kfra8p0\\localcache\\local-packages\\python39\\site-packages (from pandas->hampel) (2.8.2)\n",
      "Requirement already satisfied: pytz>=2020.1 in c:\\users\\anurag dutta\\appdata\\local\\packages\\pythonsoftwarefoundation.python.3.9_qbz5n2kfra8p0\\localcache\\local-packages\\python39\\site-packages (from pandas->hampel) (2023.3.post1)\n",
      "Requirement already satisfied: six>=1.5 in c:\\users\\anurag dutta\\appdata\\local\\packages\\pythonsoftwarefoundation.python.3.9_qbz5n2kfra8p0\\localcache\\local-packages\\python39\\site-packages (from python-dateutil>=2.8.1->pandas->hampel) (1.16.0)\n",
      "Note: you may need to restart the kernel to use updated packages.\n"
     ]
    },
    {
     "name": "stderr",
     "output_type": "stream",
     "text": [
      "\n",
      "[notice] A new release of pip is available: 24.2 -> 24.3.1\n",
      "[notice] To update, run: C:\\Users\\Anurag Dutta\\AppData\\Local\\Microsoft\\WindowsApps\\PythonSoftwareFoundation.Python.3.9_qbz5n2kfra8p0\\python.exe -m pip install --upgrade pip\n"
     ]
    }
   ],
   "source": [
    "pip install hampel"
   ]
  },
  {
   "cell_type": "code",
   "execution_count": 2,
   "metadata": {
    "id": "By_d9uXpaFvZ"
   },
   "outputs": [],
   "source": [
    "from keras.models import Sequential\n",
    "from keras.layers import Dense\n",
    "from keras.layers import LSTM\n",
    "from keras.layers import Dropout\n",
    "import keras\n",
    "import tensorflow as tf\n",
    "from hampel import hampel\n",
    "import numpy as np\n",
    "import matplotlib.pyplot as plt\n",
    "import pandas as pd\n",
    "from sklearn.preprocessing import MinMaxScaler\n",
    "from sklearn.metrics import mean_squared_error, mean_absolute_error\n",
    "from math import sqrt\n",
    "from matplotlib import pyplot\n",
    "from numpy import array"
   ]
  },
  {
   "cell_type": "markdown",
   "metadata": {
    "id": "JyOjBMFayuoR"
   },
   "source": [
    "## Pretraining"
   ]
  },
  {
   "cell_type": "markdown",
   "metadata": {
    "id": "-5QqIY_GyuoR"
   },
   "source": [
    "The `capa_intermittency.dat` feeds the model with the dynamics of the Capacitor"
   ]
  },
  {
   "cell_type": "code",
   "execution_count": 3,
   "metadata": {
    "id": "9dV4a8yfyuoR"
   },
   "outputs": [],
   "source": [
    "data = np.genfromtxt('capa_intermittency.dat')\n",
    "training_set = pd.DataFrame(data).reset_index(drop=True)\n",
    "training_set = training_set.iloc[:,0]"
   ]
  },
  {
   "cell_type": "markdown",
   "metadata": {
    "id": "i7easoxByuoR"
   },
   "source": [
    "## Computing the Gradient"
   ]
  },
  {
   "cell_type": "markdown",
   "metadata": {
    "id": "5SnyolJTyuoR"
   },
   "source": [
    "_Calculating the value of_ $\\frac{dx}{dt}$"
   ]
  },
  {
   "cell_type": "code",
   "execution_count": 4,
   "metadata": {
    "colab": {
     "base_uri": "https://localhost:8080/"
    },
    "id": "wmIbVfIvyuoR",
    "outputId": "aa4e3136-c854-465d-d2e9-81cfd546e440"
   },
   "outputs": [
    {
     "name": "stdout",
     "output_type": "stream",
     "text": [
      "1.0\n",
      "1        0.000298\n",
      "2        0.000298\n",
      "3        0.000297\n",
      "4        0.000297\n",
      "5        0.000297\n",
      "           ...   \n",
      "9996     0.000018\n",
      "9997     0.000018\n",
      "9998     0.000018\n",
      "9999     0.000018\n",
      "10000    0.000018\n",
      "Name: 0, Length: 10000, dtype: float64\n"
     ]
    }
   ],
   "source": [
    "t_diff = 1\n",
    "print(training_set.max())\n",
    "gradient_t = (training_set.diff()/t_diff).iloc[1:] # dx/dt\n",
    "print(gradient_t)"
   ]
  },
  {
   "cell_type": "markdown",
   "metadata": {
    "id": "_2eVeeoxyuoS"
   },
   "source": [
    "## Loading Datasets"
   ]
  },
  {
   "cell_type": "code",
   "execution_count": 5,
   "metadata": {
    "id": "0J-NKyIEyuoS"
   },
   "outputs": [
    {
     "data": {
      "text/plain": [
       "0       91.100000\n",
       "1       90.875910\n",
       "2       90.651821\n",
       "3       90.427731\n",
       "4       90.203641\n",
       "          ...    \n",
       "2245    68.596502\n",
       "2246    68.590217\n",
       "2247    68.583931\n",
       "2248    68.577646\n",
       "2249    68.571360\n",
       "Name: C3, Length: 2250, dtype: float64"
      ]
     },
     "execution_count": 5,
     "metadata": {},
     "output_type": "execute_result"
    }
   ],
   "source": [
    "data = pd.read_csv(\"c3_interpolated_2150_100.csv\")\n",
    "training_set = data.iloc[:, 1]\n",
    "training_set"
   ]
  },
  {
   "cell_type": "code",
   "execution_count": 6,
   "metadata": {
    "colab": {
     "base_uri": "https://localhost:8080/"
    },
    "id": "-CbNUhJ74UqF",
    "outputId": "20f562d8-8247-49cc-b9c3-00eca5e13e2d"
   },
   "outputs": [
    {
     "data": {
      "text/plain": [
       "0       91.100000\n",
       "1       90.875910\n",
       "2       90.651821\n",
       "3       90.427731\n",
       "4       90.203641\n",
       "          ...    \n",
       "2145     0.000000\n",
       "2146     0.000000\n",
       "2147     0.000000\n",
       "2148     0.574664\n",
       "2149     0.000000\n",
       "Name: C3, Length: 2150, dtype: float64"
      ]
     },
     "execution_count": 6,
     "metadata": {},
     "output_type": "execute_result"
    }
   ],
   "source": [
    "test = training_set.tail(100)\n",
    "test\n",
    "training_set = training_set.head(2150)\n",
    "training_set"
   ]
  },
  {
   "cell_type": "code",
   "execution_count": 7,
   "metadata": {
    "colab": {
     "base_uri": "https://localhost:8080/"
    },
    "id": "X0TwTcq0yuoS",
    "outputId": "37252ed8-d88e-4044-fa7a-922411990b5b"
   },
   "outputs": [
    {
     "name": "stdout",
     "output_type": "stream",
     "text": [
      "0       0.000298\n",
      "1       0.000298\n",
      "2       0.000297\n",
      "3       0.000297\n",
      "4       0.000297\n",
      "          ...   \n",
      "9995    0.000018\n",
      "9996    0.000018\n",
      "9997    0.000018\n",
      "9998    0.000018\n",
      "9999    0.000018\n",
      "Name: 0, Length: 10000, dtype: float64\n"
     ]
    }
   ],
   "source": [
    "training_set = training_set.reset_index(drop=True)\n",
    "gradient_t = gradient_t.reset_index(drop=True)\n",
    "print(gradient_t)"
   ]
  },
  {
   "cell_type": "code",
   "execution_count": 8,
   "metadata": {
    "id": "O2biznZQyuoS"
   },
   "outputs": [],
   "source": [
    "df = pd.concat((training_set, gradient_t), axis=1)\n",
    "df.columns = ['y_t', 'grad_t']"
   ]
  },
  {
   "cell_type": "code",
   "execution_count": 9,
   "metadata": {
    "colab": {
     "base_uri": "https://localhost:8080/",
     "height": 423
    },
    "id": "sk_a5v3tyuoS",
    "outputId": "17563625-e550-45ae-faab-fafa353e44da"
   },
   "outputs": [
    {
     "data": {
      "text/html": [
       "<div>\n",
       "<style scoped>\n",
       "    .dataframe tbody tr th:only-of-type {\n",
       "        vertical-align: middle;\n",
       "    }\n",
       "\n",
       "    .dataframe tbody tr th {\n",
       "        vertical-align: top;\n",
       "    }\n",
       "\n",
       "    .dataframe thead th {\n",
       "        text-align: right;\n",
       "    }\n",
       "</style>\n",
       "<table border=\"1\" class=\"dataframe\">\n",
       "  <thead>\n",
       "    <tr style=\"text-align: right;\">\n",
       "      <th></th>\n",
       "      <th>y_t</th>\n",
       "      <th>grad_t</th>\n",
       "    </tr>\n",
       "  </thead>\n",
       "  <tbody>\n",
       "    <tr>\n",
       "      <th>0</th>\n",
       "      <td>91.100000</td>\n",
       "      <td>0.000298</td>\n",
       "    </tr>\n",
       "    <tr>\n",
       "      <th>1</th>\n",
       "      <td>90.875910</td>\n",
       "      <td>0.000298</td>\n",
       "    </tr>\n",
       "    <tr>\n",
       "      <th>2</th>\n",
       "      <td>90.651821</td>\n",
       "      <td>0.000297</td>\n",
       "    </tr>\n",
       "    <tr>\n",
       "      <th>3</th>\n",
       "      <td>90.427731</td>\n",
       "      <td>0.000297</td>\n",
       "    </tr>\n",
       "    <tr>\n",
       "      <th>4</th>\n",
       "      <td>90.203641</td>\n",
       "      <td>0.000297</td>\n",
       "    </tr>\n",
       "    <tr>\n",
       "      <th>...</th>\n",
       "      <td>...</td>\n",
       "      <td>...</td>\n",
       "    </tr>\n",
       "    <tr>\n",
       "      <th>9995</th>\n",
       "      <td>NaN</td>\n",
       "      <td>0.000018</td>\n",
       "    </tr>\n",
       "    <tr>\n",
       "      <th>9996</th>\n",
       "      <td>NaN</td>\n",
       "      <td>0.000018</td>\n",
       "    </tr>\n",
       "    <tr>\n",
       "      <th>9997</th>\n",
       "      <td>NaN</td>\n",
       "      <td>0.000018</td>\n",
       "    </tr>\n",
       "    <tr>\n",
       "      <th>9998</th>\n",
       "      <td>NaN</td>\n",
       "      <td>0.000018</td>\n",
       "    </tr>\n",
       "    <tr>\n",
       "      <th>9999</th>\n",
       "      <td>NaN</td>\n",
       "      <td>0.000018</td>\n",
       "    </tr>\n",
       "  </tbody>\n",
       "</table>\n",
       "<p>10000 rows × 2 columns</p>\n",
       "</div>"
      ],
      "text/plain": [
       "            y_t    grad_t\n",
       "0     91.100000  0.000298\n",
       "1     90.875910  0.000298\n",
       "2     90.651821  0.000297\n",
       "3     90.427731  0.000297\n",
       "4     90.203641  0.000297\n",
       "...         ...       ...\n",
       "9995        NaN  0.000018\n",
       "9996        NaN  0.000018\n",
       "9997        NaN  0.000018\n",
       "9998        NaN  0.000018\n",
       "9999        NaN  0.000018\n",
       "\n",
       "[10000 rows x 2 columns]"
      ]
     },
     "execution_count": 9,
     "metadata": {},
     "output_type": "execute_result"
    }
   ],
   "source": [
    "df"
   ]
  },
  {
   "cell_type": "markdown",
   "metadata": {
    "id": "-5esyHu5aFvg"
   },
   "source": [
    "## Plot of the External Forcing from Chaotic Differential Equation"
   ]
  },
  {
   "cell_type": "code",
   "execution_count": 10,
   "metadata": {
    "colab": {
     "base_uri": "https://localhost:8080/",
     "height": 447
    },
    "id": "hGnE43tOh-4p",
    "outputId": "fc396503-b624-4fa5-dfbe-f460207405c6"
   },
   "outputs": [
    {
     "data": {
      "text/plain": [
       "<Axes: >"
      ]
     },
     "execution_count": 10,
     "metadata": {},
     "output_type": "execute_result"
    },
    {
     "data": {
      "image/png": "[encoded data removed]",
      "text/plain": [
       "<Figure size 432x288 with 1 Axes>"
      ]
     },
     "metadata": {
      "needs_background": "light"
     },
     "output_type": "display_data"
    }
   ],
   "source": [
    "df.iloc[:, 0].plot()"
   ]
  },
  {
   "cell_type": "code",
   "execution_count": 11,
   "metadata": {
    "colab": {
     "base_uri": "https://localhost:8080/",
     "height": 447
    },
    "id": "ym4xWUUxaFvg",
    "outputId": "ae6a3495-8ce9-437e-ba81-3ed31deedeae"
   },
   "outputs": [
    {
     "name": "stderr",
     "output_type": "stream",
     "text": [
      "C:\\Users\\Anurag Dutta\\AppData\\Local\\Packages\\PythonSoftwareFoundation.Python.3.9_qbz5n2kfra8p0\\LocalCache\\local-packages\\Python39\\site-packages\\pandas\\core\\arraylike.py:402: RuntimeWarning: divide by zero encountered in log\n",
      "  result = getattr(ufunc, method)(*inputs, **kwargs)\n"
     ]
    },
    {
     "data": {
      "text/plain": [
       "<Axes: >"
      ]
     },
     "execution_count": 11,
     "metadata": {},
     "output_type": "execute_result"
    },
    {
     "data": {
      "image/png": "[encoded data removed]",
      "text/plain": [
       "<Figure size 432x288 with 1 Axes>"
      ]
     },
     "metadata": {
      "needs_background": "light"
     },
     "output_type": "display_data"
    }
   ],
   "source": [
    "import numpy as np\n",
    "c0 = 88.0403  # Value for C0\n",
    "K0 = -0.0012  # Value for K0\n",
    "K1 = -0.0001  # Value for K1\n",
    "a = 0.0000    # Value for a\n",
    "b = 0.0120    # Value for b\n",
    "c = 2.0334    # Value for c\n",
    "\n",
    "L = np.minimum(c0, (df.iloc[:, 1] - (df.iloc[:, 0] * (K0 - K1 * (9 * a * np.log(df.iloc[:, 0] / c0) / (K0 - K1 * c)**2 + 4 * b * np.log(df.iloc[:, 0] / c0) / (K0 - K1 * c) + c)))))\n",
    "L.plot()"
   ]
  },
  {
   "cell_type": "markdown",
   "metadata": {
    "id": "9VyEywnwaFvh"
   },
   "source": [
    "## Preprocessing the data into supervised learning"
   ]
  },
  {
   "cell_type": "code",
   "execution_count": 12,
   "metadata": {
    "id": "6V9dXqzdaFvh"
   },
   "outputs": [],
   "source": [
    "# split a sequence into samples\n",
    "def Supervised(data, n_in=1, n_out=1, dropnan=True):\n",
    "    n_vars = 1 if type(data) is list else data.shape[1]\n",
    "    df = pd.DataFrame(data)\n",
    "    cols, names = list(), list()\n",
    "    # input sequence (t-n_in, ... t-1)\n",
    "    for i in range(n_in, 0, -1):\n",
    "        cols.append(df.shift(i))\n",
    "        names += [('var%d(t-%d)' % (j+1, i)) for j in range(n_vars)]\n",
    "    # forecast sequence (t, t+1, ... t+n_out)\n",
    "    for i in range(0, n_out):\n",
    "      cols.append(df.shift(-i))\n",
    "      if i == 0:\n",
    "        names += [('var%d(t)' % (j+1)) for j in range(n_vars)]\n",
    "      else:\n",
    "        names += [('var%d(t+%d)' % (j+1, i)) for j in range(n_vars)]\n",
    "    # put it all together\n",
    "    agg = pd.concat(cols, axis=1)\n",
    "    agg.columns = names\n",
    "    # drop rows with NaN values\n",
    "    if dropnan:\n",
    "       agg.dropna(inplace=True)\n",
    "    return agg"
   ]
  },
  {
   "cell_type": "code",
   "execution_count": 13,
   "metadata": {
    "colab": {
     "base_uri": "https://localhost:8080/"
    },
    "id": "CrzSrT1HnyfH",
    "outputId": "7e75f928-3e47-499d-eac1-51908015ef78"
   },
   "outputs": [
    {
     "name": "stdout",
     "output_type": "stream",
     "text": [
      "     var1(t-350)  var1(t-349)  var1(t-348)  var1(t-347)  var1(t-346)  \\\n",
      "350    91.100000    90.875910    90.651821    90.427731    90.203641   \n",
      "351    90.875910    90.651821    90.427731    90.203641    89.979552   \n",
      "352    90.651821    90.427731    90.203641    89.979552    89.755462   \n",
      "353    90.427731    90.203641    89.979552    89.755462    89.531373   \n",
      "354    90.203641    89.979552    89.755462    89.531373    89.307283   \n",
      "\n",
      "     var1(t-345)  var1(t-344)  var1(t-343)  var1(t-342)  var1(t-341)  ...  \\\n",
      "350    89.979552    89.755462    89.531373    89.307283    89.094118  ...   \n",
      "351    89.755462    89.531373    89.307283    89.094118    89.015686  ...   \n",
      "352    89.531373    89.307283    89.094118    89.015686    88.937255  ...   \n",
      "353    89.307283    89.094118    89.015686    88.937255    88.858824  ...   \n",
      "354    89.094118    89.015686    88.937255    88.858824    88.780392  ...   \n",
      "\n",
      "     var1(t+95)  var2(t+95)  var1(t+96)  var2(t+96)  var1(t+97)  var2(t+97)  \\\n",
      "350   81.423343    0.000263   81.404669    0.000263   81.385994    0.000263   \n",
      "351   81.404669    0.000263   81.385994    0.000263   81.367320    0.000262   \n",
      "352   81.385994    0.000263   81.367320    0.000262   81.348646    0.000262   \n",
      "353   81.367320    0.000262   81.348646    0.000262   81.329972    0.000262   \n",
      "354   81.348646    0.000262   81.329972    0.000262   81.311298    0.000262   \n",
      "\n",
      "     var1(t+98)  var2(t+98)  var1(t+99)  var2(t+99)  \n",
      "350   81.367320    0.000262   81.348646    0.000262  \n",
      "351   81.348646    0.000262   81.329972    0.000262  \n",
      "352   81.329972    0.000262   81.311298    0.000262  \n",
      "353   81.311298    0.000262   81.292624    0.000262  \n",
      "354   81.292624    0.000262   81.273950    0.000262  \n",
      "\n",
      "[5 rows x 551 columns]\n",
      "Index(['var1(t-350)', 'var1(t-349)', 'var1(t-348)', 'var1(t-347)',\n",
      "       'var1(t-346)', 'var1(t-345)', 'var1(t-344)', 'var1(t-343)',\n",
      "       'var1(t-342)', 'var1(t-341)',\n",
      "       ...\n",
      "       'var1(t+95)', 'var2(t+95)', 'var1(t+96)', 'var2(t+96)', 'var1(t+97)',\n",
      "       'var2(t+97)', 'var1(t+98)', 'var2(t+98)', 'var1(t+99)', 'var2(t+99)'],\n",
      "      dtype='object', length=551)\n"
     ]
    }
   ],
   "source": [
    "data = Supervised(df.values, n_in = 350, n_out = 100)\n",
    "\n",
    "\n",
    "cols_to_drop = []\n",
    "for i in range(2, 351):\n",
    "    cols_to_drop.extend([f'var2(t-{i})'])\n",
    "\n",
    "data.drop(cols_to_drop, axis=1, inplace=True)\n",
    "\n",
    "print(data.head())\n",
    "print(data.columns)"
   ]
  },
  {
   "cell_type": "code",
   "execution_count": 14,
   "metadata": {
    "id": "AfPf60oy6Pe4"
   },
   "outputs": [],
   "source": [
    "train = np.array(data[0:len(data)-1])\n",
    "forecast = np.array(data.tail(1))"
   ]
  },
  {
   "cell_type": "code",
   "execution_count": 15,
   "metadata": {
    "id": "WSAafzI37KiT"
   },
   "outputs": [],
   "source": [
    "trainy = train[:,-300:]\n",
    "trainX = train[:,:-300]"
   ]
  },
  {
   "cell_type": "code",
   "execution_count": 16,
   "metadata": {
    "id": "2SrOqVJA7f50"
   },
   "outputs": [],
   "source": [
    "forecasty = forecast[:,-300:]\n",
    "forecastX = forecast[:,:-300]"
   ]
  },
  {
   "cell_type": "code",
   "execution_count": 17,
   "metadata": {
    "colab": {
     "base_uri": "https://localhost:8080/"
    },
    "id": "Qno_k8Nw7saY",
    "outputId": "c4a88db5-d8c6-489f-cdb2-06b24e293cff"
   },
   "outputs": [
    {
     "name": "stdout",
     "output_type": "stream",
     "text": [
      "(1700, 1, 251) (1700, 300) (1, 1, 251)\n"
     ]
    }
   ],
   "source": [
    "trainX = trainX.reshape((trainX.shape[0], 1, trainX.shape[1]))\n",
    "forecastX = forecastX.reshape((forecastX.shape[0], 1, forecastX.shape[1]))\n",
    "print(trainX.shape, trainy.shape, forecastX.shape)"
   ]
  },
  {
   "cell_type": "code",
   "execution_count": 18,
   "metadata": {
    "colab": {
     "base_uri": "https://localhost:8080/"
    },
    "id": "b1Jp2DvNuNFx",
    "outputId": "d0e5b3c4-64f1-438c-eade-8dfeaac8e285"
   },
   "outputs": [
    {
     "name": "stdout",
     "output_type": "stream",
     "text": [
      "Epoch 1/500\n",
      "22/22 [==============================] - 3s 27ms/step - loss: 5555.4829 - val_loss: 3200.3154\n",
      "Epoch 2/500\n",
      "22/22 [==============================] - 0s 5ms/step - loss: 5297.0464 - val_loss: 3075.8025\n",
      "Epoch 3/500\n",
      "22/22 [==============================] - 0s 9ms/step - loss: 5167.3535 - val_loss: 3002.8484\n",
      "Epoch 4/500\n",
      "22/22 [==============================] - 0s 5ms/step - loss: 5039.3867 - val_loss: 2931.3997\n",
      "Epoch 5/500\n",
      "22/22 [==============================] - 0s 5ms/step - loss: 4929.3447 - val_loss: 2869.3389\n",
      "Epoch 6/500\n",
      "22/22 [==============================] - 0s 5ms/step - loss: 4826.7695 - val_loss: 2812.2217\n",
      "Epoch 7/500\n",
      "22/22 [==============================] - 0s 5ms/step - loss: 4727.3750 - val_loss: 2757.1443\n",
      "Epoch 8/500\n",
      "22/22 [==============================] - 0s 5ms/step - loss: 4630.5483 - val_loss: 2703.8091\n",
      "Epoch 9/500\n",
      "22/22 [==============================] - 0s 5ms/step - loss: 4535.9224 - val_loss: 2652.0552\n",
      "Epoch 10/500\n",
      "22/22 [==============================] - 0s 4ms/step - loss: 4443.2700 - val_loss: 2601.9043\n",
      "Epoch 11/500\n",
      "22/22 [==============================] - 0s 5ms/step - loss: 4352.4087 - val_loss: 2553.3035\n",
      "Epoch 12/500\n",
      "22/22 [==============================] - 0s 5ms/step - loss: 4263.5254 - val_loss: 2505.2544\n",
      "Epoch 13/500\n",
      "22/22 [==============================] - 0s 5ms/step - loss: 4175.9219 - val_loss: 2459.0454\n",
      "Epoch 14/500\n",
      "22/22 [==============================] - 0s 5ms/step - loss: 4090.0676 - val_loss: 2414.0347\n",
      "Epoch 15/500\n",
      "22/22 [==============================] - 0s 6ms/step - loss: 4005.7507 - val_loss: 2370.2434\n",
      "Epoch 16/500\n",
      "22/22 [==============================] - 0s 4ms/step - loss: 3922.9302 - val_loss: 2327.6418\n",
      "Epoch 17/500\n",
      "22/22 [==============================] - 0s 5ms/step - loss: 3841.5684 - val_loss: 2286.2046\n",
      "Epoch 18/500\n",
      "22/22 [==============================] - 0s 5ms/step - loss: 3761.6350 - val_loss: 2245.9082\n",
      "Epoch 19/500\n",
      "22/22 [==============================] - 0s 5ms/step - loss: 3683.0996 - val_loss: 2206.7305\n",
      "Epoch 20/500\n",
      "22/22 [==============================] - 0s 10ms/step - loss: 3605.9375 - val_loss: 2168.6506\n",
      "Epoch 21/500\n",
      "22/22 [==============================] - 0s 4ms/step - loss: 3530.1216 - val_loss: 2131.6499\n",
      "Epoch 22/500\n",
      "22/22 [==============================] - 0s 4ms/step - loss: 3455.6316 - val_loss: 2095.7095\n",
      "Epoch 23/500\n",
      "22/22 [==============================] - 0s 5ms/step - loss: 3382.4468 - val_loss: 2060.8118\n",
      "Epoch 24/500\n",
      "22/22 [==============================] - 0s 5ms/step - loss: 3310.5442 - val_loss: 2026.9404\n",
      "Epoch 25/500\n",
      "22/22 [==============================] - 0s 4ms/step - loss: 3239.9067 - val_loss: 1993.3943\n",
      "Epoch 26/500\n",
      "22/22 [==============================] - 0s 5ms/step - loss: 3156.7927 - val_loss: 1953.4069\n",
      "Epoch 27/500\n",
      "22/22 [==============================] - 0s 5ms/step - loss: 3080.6714 - val_loss: 1919.9615\n",
      "Epoch 28/500\n",
      "22/22 [==============================] - 0s 5ms/step - loss: 3008.5132 - val_loss: 1888.1937\n",
      "Epoch 29/500\n",
      "22/22 [==============================] - 0s 5ms/step - loss: 2938.7153 - val_loss: 1857.8248\n",
      "Epoch 30/500\n",
      "22/22 [==============================] - 0s 5ms/step - loss: 2870.8359 - val_loss: 1828.6969\n",
      "Epoch 31/500\n",
      "22/22 [==============================] - 0s 5ms/step - loss: 2804.6333 - val_loss: 1800.7162\n",
      "Epoch 32/500\n",
      "22/22 [==============================] - 0s 4ms/step - loss: 2739.9626 - val_loss: 1773.8198\n",
      "Epoch 33/500\n",
      "22/22 [==============================] - 0s 5ms/step - loss: 2676.7288 - val_loss: 1747.9619\n",
      "Epoch 34/500\n",
      "22/22 [==============================] - 0s 5ms/step - loss: 2614.8621 - val_loss: 1723.1047\n",
      "Epoch 35/500\n",
      "22/22 [==============================] - 0s 5ms/step - loss: 2554.3083 - val_loss: 1699.2184\n",
      "Epoch 36/500\n",
      "22/22 [==============================] - 0s 5ms/step - loss: 2495.0242 - val_loss: 1676.2748\n",
      "Epoch 37/500\n",
      "22/22 [==============================] - 0s 5ms/step - loss: 2436.9724 - val_loss: 1654.2513\n",
      "Epoch 38/500\n",
      "22/22 [==============================] - 0s 5ms/step - loss: 2380.1213 - val_loss: 1633.1252\n",
      "Epoch 39/500\n",
      "22/22 [==============================] - 0s 5ms/step - loss: 2324.4431 - val_loss: 1612.8763\n",
      "Epoch 40/500\n",
      "22/22 [==============================] - 0s 6ms/step - loss: 2269.9111 - val_loss: 1593.4858\n",
      "Epoch 41/500\n",
      "22/22 [==============================] - 0s 5ms/step - loss: 2216.5027 - val_loss: 1574.9358\n",
      "Epoch 42/500\n",
      "22/22 [==============================] - 0s 5ms/step - loss: 2164.1953 - val_loss: 1557.2085\n",
      "Epoch 43/500\n",
      "22/22 [==============================] - 0s 5ms/step - loss: 2112.9692 - val_loss: 1540.2874\n",
      "Epoch 44/500\n",
      "22/22 [==============================] - 0s 5ms/step - loss: 2062.8047 - val_loss: 1524.1565\n",
      "Epoch 45/500\n",
      "22/22 [==============================] - 0s 5ms/step - loss: 2013.6824 - val_loss: 1508.8004\n",
      "Epoch 46/500\n",
      "22/22 [==============================] - 0s 5ms/step - loss: 1965.5858 - val_loss: 1494.2037\n",
      "Epoch 47/500\n",
      "22/22 [==============================] - 0s 5ms/step - loss: 1918.4978 - val_loss: 1480.3516\n",
      "Epoch 48/500\n",
      "22/22 [==============================] - 0s 5ms/step - loss: 1872.4012 - val_loss: 1467.2294\n",
      "Epoch 49/500\n",
      "22/22 [==============================] - 0s 6ms/step - loss: 1827.2809 - val_loss: 1454.8231\n",
      "Epoch 50/500\n",
      "22/22 [==============================] - 0s 5ms/step - loss: 1783.1206 - val_loss: 1443.1185\n",
      "Epoch 51/500\n",
      "22/22 [==============================] - 0s 5ms/step - loss: 1739.9059 - val_loss: 1432.1022\n",
      "Epoch 52/500\n",
      "22/22 [==============================] - 0s 5ms/step - loss: 1697.6218 - val_loss: 1421.7600\n",
      "Epoch 53/500\n",
      "22/22 [==============================] - 0s 5ms/step - loss: 1656.2537 - val_loss: 1412.0791\n",
      "Epoch 54/500\n",
      "22/22 [==============================] - 0s 7ms/step - loss: 1615.7877 - val_loss: 1403.0455\n",
      "Epoch 55/500\n",
      "22/22 [==============================] - 0s 6ms/step - loss: 1576.2096 - val_loss: 1394.6467\n",
      "Epoch 56/500\n",
      "22/22 [==============================] - 0s 15ms/step - loss: 1537.5057 - val_loss: 1386.8700\n",
      "Epoch 57/500\n",
      "22/22 [==============================] - 0s 7ms/step - loss: 1499.6631 - val_loss: 1379.7018\n",
      "Epoch 58/500\n",
      "22/22 [==============================] - 0s 6ms/step - loss: 1462.6678 - val_loss: 1373.1301\n",
      "Epoch 59/500\n",
      "22/22 [==============================] - 0s 6ms/step - loss: 1426.5076 - val_loss: 1367.1420\n",
      "Epoch 60/500\n",
      "22/22 [==============================] - 0s 6ms/step - loss: 1391.1689 - val_loss: 1361.7252\n",
      "Epoch 61/500\n",
      "22/22 [==============================] - 0s 5ms/step - loss: 1356.6392 - val_loss: 1356.8672\n",
      "Epoch 62/500\n",
      "22/22 [==============================] - 0s 6ms/step - loss: 1322.9064 - val_loss: 1352.5562\n",
      "Epoch 63/500\n",
      "22/22 [==============================] - 0s 5ms/step - loss: 1289.9572 - val_loss: 1348.7797\n",
      "Epoch 64/500\n",
      "22/22 [==============================] - 0s 5ms/step - loss: 1257.7800 - val_loss: 1345.5255\n",
      "Epoch 65/500\n",
      "22/22 [==============================] - 0s 5ms/step - loss: 1226.3625 - val_loss: 1342.7822\n",
      "Epoch 66/500\n",
      "22/22 [==============================] - 0s 6ms/step - loss: 1195.6929 - val_loss: 1340.5377\n",
      "Epoch 67/500\n",
      "22/22 [==============================] - 0s 5ms/step - loss: 1165.7590 - val_loss: 1338.7803\n",
      "Epoch 68/500\n",
      "22/22 [==============================] - 0s 5ms/step - loss: 1136.5491 - val_loss: 1337.4982\n",
      "Epoch 69/500\n",
      "22/22 [==============================] - 0s 5ms/step - loss: 1108.0515 - val_loss: 1336.6799\n",
      "Epoch 70/500\n",
      "22/22 [==============================] - 0s 5ms/step - loss: 1080.2548 - val_loss: 1336.3138\n",
      "Epoch 71/500\n",
      "22/22 [==============================] - 0s 5ms/step - loss: 1053.1476 - val_loss: 1336.3888\n",
      "Epoch 72/500\n",
      "22/22 [==============================] - 0s 5ms/step - loss: 1026.7183 - val_loss: 1336.8931\n",
      "Epoch 73/500\n",
      "22/22 [==============================] - 0s 5ms/step - loss: 1000.9562 - val_loss: 1337.8157\n",
      "Epoch 74/500\n",
      "22/22 [==============================] - 0s 6ms/step - loss: 975.8492 - val_loss: 1339.1453\n",
      "Epoch 75/500\n",
      "22/22 [==============================] - 0s 5ms/step - loss: 951.3868 - val_loss: 1340.8707\n",
      "Epoch 76/500\n",
      "22/22 [==============================] - 0s 6ms/step - loss: 927.5582 - val_loss: 1342.9814\n",
      "Epoch 77/500\n",
      "22/22 [==============================] - 0s 5ms/step - loss: 904.3522 - val_loss: 1345.4658\n",
      "Epoch 78/500\n",
      "22/22 [==============================] - 0s 5ms/step - loss: 881.7582 - val_loss: 1348.3131\n",
      "Epoch 79/500\n",
      "22/22 [==============================] - 0s 5ms/step - loss: 859.7656 - val_loss: 1351.5128\n",
      "Epoch 80/500\n",
      "22/22 [==============================] - 0s 5ms/step - loss: 838.3633 - val_loss: 1355.0541\n",
      "Epoch 81/500\n",
      "22/22 [==============================] - 0s 5ms/step - loss: 817.5416 - val_loss: 1358.9261\n",
      "Epoch 82/500\n",
      "22/22 [==============================] - 0s 6ms/step - loss: 797.2892 - val_loss: 1363.1185\n",
      "Epoch 83/500\n",
      "22/22 [==============================] - 0s 6ms/step - loss: 777.5961 - val_loss: 1367.6202\n",
      "Epoch 84/500\n",
      "22/22 [==============================] - 0s 6ms/step - loss: 758.4518 - val_loss: 1372.4216\n",
      "Epoch 85/500\n",
      "22/22 [==============================] - 0s 6ms/step - loss: 739.8465 - val_loss: 1377.5117\n",
      "Epoch 86/500\n",
      "22/22 [==============================] - 0s 6ms/step - loss: 721.7697 - val_loss: 1382.8806\n",
      "Epoch 87/500\n",
      "22/22 [==============================] - 0s 5ms/step - loss: 704.2115 - val_loss: 1388.5181\n",
      "Epoch 88/500\n",
      "22/22 [==============================] - 0s 5ms/step - loss: 687.1617 - val_loss: 1394.4137\n",
      "Epoch 89/500\n",
      "22/22 [==============================] - 0s 5ms/step - loss: 670.6110 - val_loss: 1400.5577\n",
      "Epoch 90/500\n",
      "22/22 [==============================] - 0s 13ms/step - loss: 654.5490 - val_loss: 1406.9401\n",
      "Epoch 91/500\n",
      "22/22 [==============================] - 0s 7ms/step - loss: 638.9662 - val_loss: 1413.5511\n",
      "Epoch 92/500\n",
      "22/22 [==============================] - 0s 7ms/step - loss: 623.8530 - val_loss: 1420.3806\n",
      "Epoch 93/500\n",
      "22/22 [==============================] - 0s 5ms/step - loss: 609.1995 - val_loss: 1427.4194\n",
      "Epoch 94/500\n",
      "22/22 [==============================] - 0s 6ms/step - loss: 594.9966 - val_loss: 1434.6577\n",
      "Epoch 95/500\n",
      "22/22 [==============================] - 0s 5ms/step - loss: 581.2347 - val_loss: 1442.0856\n",
      "Epoch 96/500\n",
      "22/22 [==============================] - 0s 5ms/step - loss: 567.9047 - val_loss: 1449.6940\n",
      "Epoch 97/500\n",
      "22/22 [==============================] - 0s 5ms/step - loss: 554.9972 - val_loss: 1457.4738\n",
      "Epoch 98/500\n",
      "22/22 [==============================] - 0s 5ms/step - loss: 542.5028 - val_loss: 1465.4153\n",
      "Epoch 99/500\n",
      "22/22 [==============================] - 0s 5ms/step - loss: 530.4125 - val_loss: 1473.5103\n",
      "Epoch 100/500\n",
      "22/22 [==============================] - 0s 6ms/step - loss: 518.7176 - val_loss: 1481.7483\n",
      "Epoch 101/500\n",
      "22/22 [==============================] - 0s 5ms/step - loss: 507.4091 - val_loss: 1490.1217\n",
      "Epoch 102/500\n",
      "22/22 [==============================] - 0s 5ms/step - loss: 496.4779 - val_loss: 1498.6207\n",
      "Epoch 103/500\n",
      "22/22 [==============================] - 0s 5ms/step - loss: 485.9157 - val_loss: 1507.2375\n",
      "Epoch 104/500\n",
      "22/22 [==============================] - 0s 6ms/step - loss: 475.7133 - val_loss: 1515.9633\n",
      "Epoch 105/500\n",
      "22/22 [==============================] - 0s 6ms/step - loss: 465.8625 - val_loss: 1524.7887\n",
      "Epoch 106/500\n",
      "22/22 [==============================] - 0s 5ms/step - loss: 456.3547 - val_loss: 1533.7067\n",
      "Epoch 107/500\n",
      "22/22 [==============================] - 0s 5ms/step - loss: 447.1816 - val_loss: 1542.7081\n",
      "Epoch 108/500\n",
      "22/22 [==============================] - 0s 5ms/step - loss: 438.3349 - val_loss: 1551.7848\n",
      "Epoch 109/500\n",
      "22/22 [==============================] - 0s 5ms/step - loss: 429.8062 - val_loss: 1560.9294\n",
      "Epoch 110/500\n",
      "22/22 [==============================] - 0s 5ms/step - loss: 421.5878 - val_loss: 1570.1333\n",
      "Epoch 111/500\n",
      "22/22 [==============================] - 0s 5ms/step - loss: 413.6712 - val_loss: 1579.3896\n",
      "Epoch 112/500\n",
      "22/22 [==============================] - 0s 5ms/step - loss: 406.0488 - val_loss: 1588.6897\n",
      "Epoch 113/500\n",
      "22/22 [==============================] - 0s 4ms/step - loss: 398.7128 - val_loss: 1598.0266\n",
      "Epoch 114/500\n",
      "22/22 [==============================] - 0s 5ms/step - loss: 391.6553 - val_loss: 1607.3931\n",
      "Epoch 115/500\n",
      "22/22 [==============================] - 0s 5ms/step - loss: 384.8688 - val_loss: 1616.7816\n",
      "Epoch 116/500\n",
      "22/22 [==============================] - 0s 5ms/step - loss: 378.3457 - val_loss: 1626.1853\n",
      "Epoch 117/500\n",
      "22/22 [==============================] - 0s 5ms/step - loss: 372.0788 - val_loss: 1635.5973\n",
      "Epoch 118/500\n",
      "22/22 [==============================] - 0s 5ms/step - loss: 366.0607 - val_loss: 1645.0103\n",
      "Epoch 119/500\n",
      "22/22 [==============================] - 0s 4ms/step - loss: 360.2837 - val_loss: 1654.4186\n",
      "Epoch 120/500\n",
      "22/22 [==============================] - 0s 5ms/step - loss: 354.7414 - val_loss: 1663.8151\n",
      "Epoch 121/500\n",
      "22/22 [==============================] - 0s 11ms/step - loss: 349.4265 - val_loss: 1673.1934\n",
      "Epoch 122/500\n",
      "22/22 [==============================] - 0s 4ms/step - loss: 344.3320 - val_loss: 1682.5479\n",
      "Epoch 123/500\n",
      "22/22 [==============================] - 0s 5ms/step - loss: 339.4512 - val_loss: 1691.8718\n",
      "Epoch 124/500\n",
      "22/22 [==============================] - 0s 5ms/step - loss: 334.7776 - val_loss: 1701.1592\n",
      "Epoch 125/500\n",
      "22/22 [==============================] - 0s 5ms/step - loss: 330.3046 - val_loss: 1710.4052\n",
      "Epoch 126/500\n",
      "22/22 [==============================] - 0s 6ms/step - loss: 326.0257 - val_loss: 1719.6040\n",
      "Epoch 127/500\n",
      "22/22 [==============================] - 0s 6ms/step - loss: 321.9346 - val_loss: 1728.7496\n",
      "Epoch 128/500\n",
      "22/22 [==============================] - 0s 5ms/step - loss: 318.0251 - val_loss: 1737.8379\n",
      "Epoch 129/500\n",
      "22/22 [==============================] - 0s 6ms/step - loss: 314.2910 - val_loss: 1746.8619\n",
      "Epoch 130/500\n",
      "22/22 [==============================] - 0s 6ms/step - loss: 310.7264 - val_loss: 1755.8198\n",
      "Epoch 131/500\n",
      "22/22 [==============================] - 0s 6ms/step - loss: 307.3255 - val_loss: 1764.7041\n",
      "Epoch 132/500\n",
      "22/22 [==============================] - 0s 6ms/step - loss: 304.0825 - val_loss: 1773.5117\n",
      "Epoch 133/500\n",
      "22/22 [==============================] - 0s 6ms/step - loss: 300.9918 - val_loss: 1782.2377\n",
      "Epoch 134/500\n",
      "22/22 [==============================] - 0s 5ms/step - loss: 298.0479 - val_loss: 1790.8783\n",
      "Epoch 135/500\n",
      "22/22 [==============================] - 0s 5ms/step - loss: 295.2454 - val_loss: 1799.4292\n",
      "Epoch 136/500\n",
      "22/22 [==============================] - 0s 6ms/step - loss: 292.5790 - val_loss: 1807.8871\n",
      "Epoch 137/500\n",
      "22/22 [==============================] - 0s 6ms/step - loss: 290.0436 - val_loss: 1816.2479\n",
      "Epoch 138/500\n",
      "22/22 [==============================] - 0s 6ms/step - loss: 287.6342 - val_loss: 1824.5081\n",
      "Epoch 139/500\n",
      "22/22 [==============================] - 0s 5ms/step - loss: 285.3458 - val_loss: 1832.6650\n",
      "Epoch 140/500\n",
      "22/22 [==============================] - 0s 7ms/step - loss: 283.1739 - val_loss: 1840.7145\n",
      "Epoch 141/500\n",
      "22/22 [==============================] - 0s 5ms/step - loss: 281.1134 - val_loss: 1848.6542\n",
      "Epoch 142/500\n",
      "22/22 [==============================] - 0s 5ms/step - loss: 279.1602 - val_loss: 1856.4819\n",
      "Epoch 143/500\n",
      "22/22 [==============================] - 0s 6ms/step - loss: 277.3095 - val_loss: 1864.1951\n",
      "Epoch 144/500\n",
      "22/22 [==============================] - 0s 5ms/step - loss: 275.5573 - val_loss: 1871.7900\n",
      "Epoch 145/500\n",
      "22/22 [==============================] - 0s 5ms/step - loss: 273.8992 - val_loss: 1879.2662\n",
      "Epoch 146/500\n",
      "22/22 [==============================] - 0s 6ms/step - loss: 272.3312 - val_loss: 1886.6199\n",
      "Epoch 147/500\n",
      "22/22 [==============================] - 0s 6ms/step - loss: 270.8495 - val_loss: 1893.8500\n",
      "Epoch 148/500\n",
      "22/22 [==============================] - 0s 6ms/step - loss: 269.4502 - val_loss: 1900.9557\n",
      "Epoch 149/500\n",
      "22/22 [==============================] - 0s 6ms/step - loss: 268.1295 - val_loss: 1907.9346\n",
      "Epoch 150/500\n",
      "22/22 [==============================] - 0s 5ms/step - loss: 266.8838 - val_loss: 1914.7845\n",
      "Epoch 151/500\n",
      "22/22 [==============================] - 0s 5ms/step - loss: 265.7099 - val_loss: 1921.5066\n",
      "Epoch 152/500\n",
      "22/22 [==============================] - 0s 5ms/step - loss: 264.6040 - val_loss: 1928.0970\n",
      "Epoch 153/500\n",
      "22/22 [==============================] - 0s 5ms/step - loss: 263.5632 - val_loss: 1934.5579\n",
      "Epoch 154/500\n",
      "22/22 [==============================] - 0s 5ms/step - loss: 262.5841 - val_loss: 1940.8849\n",
      "Epoch 155/500\n",
      "22/22 [==============================] - 0s 5ms/step - loss: 261.6640 - val_loss: 1947.0791\n",
      "Epoch 156/500\n",
      "22/22 [==============================] - 0s 6ms/step - loss: 260.7998 - val_loss: 1953.1420\n",
      "Epoch 157/500\n",
      "22/22 [==============================] - 0s 6ms/step - loss: 259.9887 - val_loss: 1959.0717\n",
      "Epoch 158/500\n",
      "22/22 [==============================] - 0s 14ms/step - loss: 259.2278 - val_loss: 1964.8680\n",
      "Epoch 159/500\n",
      "22/22 [==============================] - 0s 4ms/step - loss: 258.5147 - val_loss: 1970.5322\n",
      "Epoch 160/500\n",
      "22/22 [==============================] - 0s 5ms/step - loss: 257.8468 - val_loss: 1976.0629\n",
      "Epoch 161/500\n",
      "22/22 [==============================] - 0s 5ms/step - loss: 257.2218 - val_loss: 1981.4596\n",
      "Epoch 162/500\n",
      "22/22 [==============================] - 0s 5ms/step - loss: 256.6372 - val_loss: 1986.7260\n",
      "Epoch 163/500\n",
      "22/22 [==============================] - 0s 5ms/step - loss: 256.0911 - val_loss: 1991.8600\n",
      "Epoch 164/500\n",
      "22/22 [==============================] - 0s 5ms/step - loss: 255.5810 - val_loss: 1996.8634\n",
      "Epoch 165/500\n",
      "22/22 [==============================] - 0s 4ms/step - loss: 255.1050 - val_loss: 2001.7361\n",
      "Epoch 166/500\n",
      "22/22 [==============================] - 0s 4ms/step - loss: 254.6613 - val_loss: 2006.4794\n",
      "Epoch 167/500\n",
      "22/22 [==============================] - 0s 5ms/step - loss: 254.2480 - val_loss: 2011.0956\n",
      "Epoch 168/500\n",
      "22/22 [==============================] - 0s 5ms/step - loss: 253.8632 - val_loss: 2015.5844\n",
      "Epoch 169/500\n",
      "22/22 [==============================] - 0s 4ms/step - loss: 253.5052 - val_loss: 2019.9467\n",
      "Epoch 170/500\n",
      "22/22 [==============================] - 0s 5ms/step - loss: 253.1726 - val_loss: 2024.1854\n",
      "Epoch 171/500\n",
      "22/22 [==============================] - 0s 4ms/step - loss: 252.8635 - val_loss: 2028.3004\n",
      "Epoch 172/500\n",
      "22/22 [==============================] - 0s 4ms/step - loss: 252.5769 - val_loss: 2032.2939\n",
      "Epoch 173/500\n",
      "22/22 [==============================] - 0s 5ms/step - loss: 252.3110 - val_loss: 2036.1676\n",
      "Epoch 174/500\n",
      "22/22 [==============================] - 0s 5ms/step - loss: 252.0647 - val_loss: 2039.9229\n",
      "Epoch 175/500\n",
      "22/22 [==============================] - 0s 4ms/step - loss: 251.8367 - val_loss: 2043.5619\n",
      "Epoch 176/500\n",
      "22/22 [==============================] - 0s 5ms/step - loss: 251.6259 - val_loss: 2047.0862\n",
      "Epoch 177/500\n",
      "22/22 [==============================] - 0s 4ms/step - loss: 251.4310 - val_loss: 2050.4980\n",
      "Epoch 178/500\n",
      "22/22 [==============================] - 0s 5ms/step - loss: 251.2510 - val_loss: 2053.7981\n",
      "Epoch 179/500\n",
      "22/22 [==============================] - 0s 4ms/step - loss: 251.0850 - val_loss: 2056.9888\n",
      "Epoch 180/500\n",
      "22/22 [==============================] - 0s 4ms/step - loss: 250.9320 - val_loss: 2060.0728\n",
      "Epoch 181/500\n",
      "22/22 [==============================] - 0s 5ms/step - loss: 250.7910 - val_loss: 2063.0522\n",
      "Epoch 182/500\n",
      "22/22 [==============================] - 0s 5ms/step - loss: 250.6613 - val_loss: 2065.9275\n",
      "Epoch 183/500\n",
      "22/22 [==============================] - 0s 5ms/step - loss: 250.5421 - val_loss: 2068.7026\n",
      "Epoch 184/500\n",
      "22/22 [==============================] - 0s 5ms/step - loss: 250.4326 - val_loss: 2071.3792\n",
      "Epoch 185/500\n",
      "22/22 [==============================] - 0s 5ms/step - loss: 250.3320 - val_loss: 2073.9600\n",
      "Epoch 186/500\n",
      "22/22 [==============================] - 0s 4ms/step - loss: 250.2399 - val_loss: 2076.4458\n",
      "Epoch 187/500\n",
      "22/22 [==============================] - 0s 4ms/step - loss: 250.1554 - val_loss: 2078.8391\n",
      "Epoch 188/500\n",
      "22/22 [==============================] - 0s 4ms/step - loss: 250.0781 - val_loss: 2081.1428\n",
      "Epoch 189/500\n",
      "22/22 [==============================] - 0s 5ms/step - loss: 250.0075 - val_loss: 2083.3594\n",
      "Epoch 190/500\n",
      "22/22 [==============================] - 0s 11ms/step - loss: 249.9429 - val_loss: 2085.4897\n",
      "Epoch 191/500\n",
      "22/22 [==============================] - 0s 4ms/step - loss: 249.8840 - val_loss: 2087.5376\n",
      "Epoch 192/500\n",
      "22/22 [==============================] - 0s 4ms/step - loss: 249.8304 - val_loss: 2089.5054\n",
      "Epoch 193/500\n",
      "22/22 [==============================] - 0s 5ms/step - loss: 249.7814 - val_loss: 2091.3938\n",
      "Epoch 194/500\n",
      "22/22 [==============================] - 0s 4ms/step - loss: 249.7369 - val_loss: 2093.2056\n",
      "Epoch 195/500\n",
      "22/22 [==============================] - 0s 5ms/step - loss: 249.6965 - val_loss: 2094.9426\n",
      "Epoch 196/500\n",
      "22/22 [==============================] - 0s 5ms/step - loss: 249.6598 - val_loss: 2096.6104\n",
      "Epoch 197/500\n",
      "22/22 [==============================] - 0s 5ms/step - loss: 249.6264 - val_loss: 2098.2058\n",
      "Epoch 198/500\n",
      "22/22 [==============================] - 0s 7ms/step - loss: 249.5963 - val_loss: 2099.7339\n",
      "Epoch 199/500\n",
      "22/22 [==============================] - 0s 5ms/step - loss: 249.5689 - val_loss: 2101.1958\n",
      "Epoch 200/500\n",
      "22/22 [==============================] - 0s 5ms/step - loss: 249.5443 - val_loss: 2102.5959\n",
      "Epoch 201/500\n",
      "22/22 [==============================] - 0s 4ms/step - loss: 249.5221 - val_loss: 2103.9338\n",
      "Epoch 202/500\n",
      "22/22 [==============================] - 0s 5ms/step - loss: 249.5020 - val_loss: 2105.2109\n",
      "Epoch 203/500\n",
      "22/22 [==============================] - 0s 5ms/step - loss: 249.4839 - val_loss: 2106.4333\n",
      "Epoch 204/500\n",
      "22/22 [==============================] - 0s 5ms/step - loss: 249.4677 - val_loss: 2107.5996\n",
      "Epoch 205/500\n",
      "22/22 [==============================] - 0s 5ms/step - loss: 249.4531 - val_loss: 2108.7112\n",
      "Epoch 206/500\n",
      "22/22 [==============================] - 0s 5ms/step - loss: 249.4401 - val_loss: 2109.7725\n",
      "Epoch 207/500\n",
      "22/22 [==============================] - 0s 4ms/step - loss: 249.4285 - val_loss: 2110.7827\n",
      "Epoch 208/500\n",
      "22/22 [==============================] - 0s 5ms/step - loss: 249.4180 - val_loss: 2111.7468\n",
      "Epoch 209/500\n",
      "22/22 [==============================] - 0s 5ms/step - loss: 249.4087 - val_loss: 2112.6648\n",
      "Epoch 210/500\n",
      "22/22 [==============================] - 0s 5ms/step - loss: 249.4005 - val_loss: 2113.5383\n",
      "Epoch 211/500\n",
      "22/22 [==============================] - 0s 5ms/step - loss: 249.3932 - val_loss: 2114.3687\n",
      "Epoch 212/500\n",
      "22/22 [==============================] - 0s 6ms/step - loss: 249.3867 - val_loss: 2115.1584\n",
      "Epoch 213/500\n",
      "22/22 [==============================] - 0s 7ms/step - loss: 249.3811 - val_loss: 2115.9082\n",
      "Epoch 214/500\n",
      "22/22 [==============================] - 0s 5ms/step - loss: 249.3760 - val_loss: 2116.6211\n",
      "Epoch 215/500\n",
      "22/22 [==============================] - 0s 5ms/step - loss: 249.3717 - val_loss: 2117.2988\n",
      "Epoch 216/500\n",
      "22/22 [==============================] - 0s 5ms/step - loss: 249.3680 - val_loss: 2117.9409\n",
      "Epoch 217/500\n",
      "22/22 [==============================] - 0s 5ms/step - loss: 249.3646 - val_loss: 2118.5508\n",
      "Epoch 218/500\n",
      "22/22 [==============================] - 0s 13ms/step - loss: 249.3618 - val_loss: 2119.1287\n",
      "Epoch 219/500\n",
      "22/22 [==============================] - 0s 6ms/step - loss: 249.3593 - val_loss: 2119.6760\n",
      "Epoch 220/500\n",
      "22/22 [==============================] - 0s 4ms/step - loss: 249.3573 - val_loss: 2120.1938\n",
      "Epoch 221/500\n",
      "22/22 [==============================] - 0s 5ms/step - loss: 249.3557 - val_loss: 2120.6851\n",
      "Epoch 222/500\n",
      "22/22 [==============================] - 0s 4ms/step - loss: 249.3542 - val_loss: 2121.1492\n",
      "Epoch 223/500\n",
      "22/22 [==============================] - 0s 5ms/step - loss: 249.3531 - val_loss: 2121.5894\n",
      "Epoch 224/500\n",
      "22/22 [==============================] - 0s 5ms/step - loss: 249.3521 - val_loss: 2122.0039\n",
      "Epoch 225/500\n",
      "22/22 [==============================] - 0s 5ms/step - loss: 249.3515 - val_loss: 2122.3955\n",
      "Epoch 226/500\n",
      "22/22 [==============================] - 0s 5ms/step - loss: 249.3510 - val_loss: 2122.7666\n",
      "Epoch 227/500\n",
      "22/22 [==============================] - 0s 4ms/step - loss: 249.3506 - val_loss: 2123.1160\n",
      "Epoch 228/500\n",
      "22/22 [==============================] - 0s 6ms/step - loss: 249.3505 - val_loss: 2123.4451\n",
      "Epoch 229/500\n",
      "22/22 [==============================] - 0s 8ms/step - loss: 249.3505 - val_loss: 2123.7556\n",
      "Epoch 230/500\n",
      "22/22 [==============================] - 0s 7ms/step - loss: 249.3506 - val_loss: 2124.0493\n",
      "Epoch 231/500\n",
      "22/22 [==============================] - 0s 7ms/step - loss: 249.3508 - val_loss: 2124.3245\n",
      "Epoch 232/500\n",
      "22/22 [==============================] - 0s 7ms/step - loss: 249.3511 - val_loss: 2124.5845\n",
      "Epoch 233/500\n",
      "22/22 [==============================] - 0s 14ms/step - loss: 249.3515 - val_loss: 2124.8291\n",
      "Epoch 234/500\n",
      "22/22 [==============================] - 0s 11ms/step - loss: 249.3519 - val_loss: 2125.0598\n",
      "Epoch 235/500\n",
      "22/22 [==============================] - 0s 5ms/step - loss: 249.3524 - val_loss: 2125.2751\n",
      "Epoch 236/500\n",
      "22/22 [==============================] - 0s 7ms/step - loss: 249.3530 - val_loss: 2125.4785\n",
      "Epoch 237/500\n",
      "22/22 [==============================] - 0s 7ms/step - loss: 249.3537 - val_loss: 2125.6694\n",
      "Epoch 238/500\n",
      "22/22 [==============================] - 0s 6ms/step - loss: 249.3543 - val_loss: 2125.8481\n",
      "Epoch 239/500\n",
      "22/22 [==============================] - 0s 6ms/step - loss: 249.3551 - val_loss: 2126.0151\n",
      "Epoch 240/500\n",
      "22/22 [==============================] - 0s 5ms/step - loss: 249.3559 - val_loss: 2126.1731\n",
      "Epoch 241/500\n",
      "22/22 [==============================] - 0s 5ms/step - loss: 249.3566 - val_loss: 2126.3198\n",
      "Epoch 242/500\n",
      "22/22 [==============================] - 0s 5ms/step - loss: 249.3575 - val_loss: 2126.4580\n",
      "Epoch 243/500\n",
      "22/22 [==============================] - 0s 5ms/step - loss: 249.3584 - val_loss: 2126.5874\n",
      "Epoch 244/500\n",
      "22/22 [==============================] - 0s 6ms/step - loss: 249.3592 - val_loss: 2126.7092\n",
      "Epoch 245/500\n",
      "22/22 [==============================] - 0s 6ms/step - loss: 249.3600 - val_loss: 2126.8223\n",
      "Epoch 246/500\n",
      "22/22 [==============================] - 0s 5ms/step - loss: 249.3609 - val_loss: 2126.9277\n",
      "Epoch 247/500\n",
      "22/22 [==============================] - 0s 5ms/step - loss: 249.3619 - val_loss: 2127.0266\n",
      "Epoch 248/500\n",
      "22/22 [==============================] - 0s 4ms/step - loss: 249.3628 - val_loss: 2127.1199\n",
      "Epoch 249/500\n",
      "22/22 [==============================] - 0s 5ms/step - loss: 249.3637 - val_loss: 2127.2053\n",
      "Epoch 250/500\n",
      "22/22 [==============================] - 0s 4ms/step - loss: 249.3647 - val_loss: 2127.2869\n",
      "Epoch 251/500\n",
      "22/22 [==============================] - 0s 5ms/step - loss: 249.3656 - val_loss: 2127.3613\n",
      "Epoch 252/500\n",
      "22/22 [==============================] - 0s 5ms/step - loss: 249.3666 - val_loss: 2127.4309\n",
      "Epoch 253/500\n",
      "22/22 [==============================] - 0s 5ms/step - loss: 249.3675 - val_loss: 2127.4963\n",
      "Epoch 254/500\n",
      "22/22 [==============================] - 0s 11ms/step - loss: 249.3685 - val_loss: 2127.5569\n",
      "Epoch 255/500\n",
      "22/22 [==============================] - 0s 5ms/step - loss: 249.3694 - val_loss: 2127.6130\n",
      "Epoch 256/500\n",
      "22/22 [==============================] - 0s 6ms/step - loss: 249.3704 - val_loss: 2127.6658\n",
      "Epoch 257/500\n",
      "22/22 [==============================] - 0s 6ms/step - loss: 249.3712 - val_loss: 2127.7151\n",
      "Epoch 258/500\n",
      "22/22 [==============================] - 0s 5ms/step - loss: 249.3722 - val_loss: 2127.7605\n",
      "Epoch 259/500\n",
      "22/22 [==============================] - 0s 5ms/step - loss: 249.3731 - val_loss: 2127.8027\n",
      "Epoch 260/500\n",
      "22/22 [==============================] - 0s 5ms/step - loss: 249.3741 - val_loss: 2127.8413\n",
      "Epoch 261/500\n",
      "22/22 [==============================] - 0s 5ms/step - loss: 249.3750 - val_loss: 2127.8779\n",
      "Epoch 262/500\n",
      "22/22 [==============================] - 0s 5ms/step - loss: 249.3759 - val_loss: 2127.9111\n",
      "Epoch 263/500\n",
      "22/22 [==============================] - 0s 4ms/step - loss: 249.3768 - val_loss: 2127.9424\n",
      "Epoch 264/500\n",
      "22/22 [==============================] - 0s 5ms/step - loss: 249.3778 - val_loss: 2127.9712\n",
      "Epoch 265/500\n",
      "22/22 [==============================] - 0s 5ms/step - loss: 249.3786 - val_loss: 2127.9973\n",
      "Epoch 266/500\n",
      "22/22 [==============================] - 0s 7ms/step - loss: 249.3795 - val_loss: 2128.0217\n",
      "Epoch 267/500\n",
      "22/22 [==============================] - 0s 6ms/step - loss: 249.3804 - val_loss: 2128.0439\n",
      "Epoch 268/500\n",
      "22/22 [==============================] - 0s 6ms/step - loss: 249.3813 - val_loss: 2128.0645\n",
      "Epoch 269/500\n",
      "22/22 [==============================] - 0s 6ms/step - loss: 249.3821 - val_loss: 2128.0825\n",
      "Epoch 270/500\n",
      "22/22 [==============================] - 0s 6ms/step - loss: 249.3830 - val_loss: 2128.0996\n",
      "Epoch 271/500\n",
      "22/22 [==============================] - 0s 4ms/step - loss: 249.3839 - val_loss: 2128.1150\n",
      "Epoch 272/500\n",
      "22/22 [==============================] - 0s 5ms/step - loss: 249.3847 - val_loss: 2128.1304\n",
      "Epoch 273/500\n",
      "22/22 [==============================] - 0s 5ms/step - loss: 249.3856 - val_loss: 2128.1438\n",
      "Epoch 274/500\n",
      "22/22 [==============================] - 0s 6ms/step - loss: 249.3864 - val_loss: 2128.1558\n",
      "Epoch 275/500\n",
      "22/22 [==============================] - 0s 7ms/step - loss: 249.3872 - val_loss: 2128.1663\n",
      "Epoch 276/500\n",
      "22/22 [==============================] - 0s 6ms/step - loss: 249.3880 - val_loss: 2128.1770\n",
      "Epoch 277/500\n",
      "22/22 [==============================] - 0s 4ms/step - loss: 249.3889 - val_loss: 2128.1860\n",
      "Epoch 278/500\n",
      "22/22 [==============================] - 0s 4ms/step - loss: 249.3896 - val_loss: 2128.1943\n",
      "Epoch 279/500\n",
      "22/22 [==============================] - 0s 4ms/step - loss: 249.3904 - val_loss: 2128.2004\n",
      "Epoch 280/500\n",
      "22/22 [==============================] - 0s 4ms/step - loss: 249.3912 - val_loss: 2128.2078\n",
      "Epoch 281/500\n",
      "22/22 [==============================] - 0s 5ms/step - loss: 249.3919 - val_loss: 2128.2134\n",
      "Epoch 282/500\n",
      "22/22 [==============================] - 0s 5ms/step - loss: 249.3927 - val_loss: 2128.2188\n",
      "Epoch 283/500\n",
      "22/22 [==============================] - 0s 5ms/step - loss: 249.3934 - val_loss: 2128.2234\n",
      "Epoch 284/500\n",
      "22/22 [==============================] - 0s 5ms/step - loss: 249.3942 - val_loss: 2128.2266\n",
      "Epoch 285/500\n",
      "22/22 [==============================] - 0s 4ms/step - loss: 249.3949 - val_loss: 2128.2295\n",
      "Epoch 286/500\n",
      "22/22 [==============================] - 0s 4ms/step - loss: 249.3957 - val_loss: 2128.2349\n",
      "Epoch 287/500\n",
      "22/22 [==============================] - 0s 4ms/step - loss: 249.3963 - val_loss: 2128.2363\n",
      "Epoch 288/500\n",
      "22/22 [==============================] - 0s 4ms/step - loss: 249.3970 - val_loss: 2128.2375\n",
      "Epoch 289/500\n",
      "22/22 [==============================] - 0s 5ms/step - loss: 249.3977 - val_loss: 2128.2395\n",
      "Epoch 290/500\n",
      "22/22 [==============================] - 0s 5ms/step - loss: 249.3984 - val_loss: 2128.2407\n",
      "Epoch 291/500\n",
      "22/22 [==============================] - 0s 5ms/step - loss: 249.3991 - val_loss: 2128.2415\n",
      "Epoch 292/500\n",
      "22/22 [==============================] - 0s 5ms/step - loss: 249.3997 - val_loss: 2128.2437\n",
      "Epoch 293/500\n",
      "22/22 [==============================] - 0s 4ms/step - loss: 249.4003 - val_loss: 2128.2441\n",
      "Epoch 294/500\n",
      "22/22 [==============================] - 0s 11ms/step - loss: 249.4010 - val_loss: 2128.2429\n",
      "Epoch 295/500\n",
      "22/22 [==============================] - 0s 4ms/step - loss: 249.4017 - val_loss: 2128.2437\n",
      "Epoch 296/500\n",
      "22/22 [==============================] - 0s 5ms/step - loss: 249.4023 - val_loss: 2128.2429\n",
      "Epoch 297/500\n",
      "22/22 [==============================] - 0s 4ms/step - loss: 249.4029 - val_loss: 2128.2429\n",
      "Epoch 298/500\n",
      "22/22 [==============================] - 0s 4ms/step - loss: 249.4035 - val_loss: 2128.2419\n",
      "Epoch 299/500\n",
      "22/22 [==============================] - 0s 5ms/step - loss: 249.4042 - val_loss: 2128.2415\n",
      "Epoch 300/500\n",
      "22/22 [==============================] - 0s 5ms/step - loss: 249.4047 - val_loss: 2128.2407\n",
      "Epoch 301/500\n",
      "22/22 [==============================] - 0s 5ms/step - loss: 249.4052 - val_loss: 2128.2385\n",
      "Epoch 302/500\n",
      "22/22 [==============================] - 0s 4ms/step - loss: 249.4059 - val_loss: 2128.2380\n",
      "Epoch 303/500\n",
      "22/22 [==============================] - 0s 4ms/step - loss: 249.4064 - val_loss: 2128.2371\n",
      "Epoch 304/500\n",
      "22/22 [==============================] - 0s 4ms/step - loss: 249.4069 - val_loss: 2128.2356\n",
      "Epoch 305/500\n",
      "22/22 [==============================] - 0s 4ms/step - loss: 249.4074 - val_loss: 2128.2339\n",
      "Epoch 306/500\n",
      "22/22 [==============================] - 0s 4ms/step - loss: 249.4080 - val_loss: 2128.2317\n",
      "Epoch 307/500\n",
      "22/22 [==============================] - 0s 5ms/step - loss: 249.4085 - val_loss: 2128.2302\n",
      "Epoch 308/500\n",
      "22/22 [==============================] - 0s 4ms/step - loss: 249.4090 - val_loss: 2128.2275\n",
      "Epoch 309/500\n",
      "22/22 [==============================] - 0s 4ms/step - loss: 249.4095 - val_loss: 2128.2258\n",
      "Epoch 310/500\n",
      "22/22 [==============================] - 0s 5ms/step - loss: 249.4101 - val_loss: 2128.2239\n",
      "Epoch 311/500\n",
      "22/22 [==============================] - 0s 4ms/step - loss: 249.4105 - val_loss: 2128.2212\n",
      "Epoch 312/500\n",
      "22/22 [==============================] - 0s 5ms/step - loss: 249.4110 - val_loss: 2128.2180\n",
      "Epoch 313/500\n",
      "22/22 [==============================] - 0s 4ms/step - loss: 249.4115 - val_loss: 2128.2158\n",
      "Epoch 314/500\n",
      "22/22 [==============================] - 0s 5ms/step - loss: 249.4120 - val_loss: 2128.2139\n",
      "Epoch 315/500\n",
      "22/22 [==============================] - 0s 5ms/step - loss: 249.4124 - val_loss: 2128.2109\n",
      "Epoch 316/500\n",
      "22/22 [==============================] - 0s 5ms/step - loss: 249.4129 - val_loss: 2128.2080\n",
      "Epoch 317/500\n",
      "22/22 [==============================] - 0s 4ms/step - loss: 249.4133 - val_loss: 2128.2053\n",
      "Epoch 318/500\n",
      "22/22 [==============================] - 0s 4ms/step - loss: 249.4137 - val_loss: 2128.2031\n",
      "Epoch 319/500\n",
      "22/22 [==============================] - 0s 4ms/step - loss: 249.4142 - val_loss: 2128.2000\n",
      "Epoch 320/500\n",
      "22/22 [==============================] - 0s 4ms/step - loss: 249.4146 - val_loss: 2128.1978\n",
      "Epoch 321/500\n",
      "22/22 [==============================] - 0s 4ms/step - loss: 249.4150 - val_loss: 2128.1948\n",
      "Epoch 322/500\n",
      "22/22 [==============================] - 0s 5ms/step - loss: 249.4154 - val_loss: 2128.1924\n",
      "Epoch 323/500\n",
      "22/22 [==============================] - 0s 4ms/step - loss: 249.4158 - val_loss: 2128.1877\n",
      "Epoch 324/500\n",
      "22/22 [==============================] - 0s 4ms/step - loss: 249.4162 - val_loss: 2128.1841\n",
      "Epoch 325/500\n",
      "22/22 [==============================] - 0s 4ms/step - loss: 249.4166 - val_loss: 2128.1807\n",
      "Epoch 326/500\n",
      "22/22 [==============================] - 0s 4ms/step - loss: 249.4169 - val_loss: 2128.1768\n",
      "Epoch 327/500\n",
      "22/22 [==============================] - 0s 4ms/step - loss: 249.4173 - val_loss: 2128.1738\n",
      "Epoch 328/500\n",
      "22/22 [==============================] - 0s 5ms/step - loss: 249.4177 - val_loss: 2128.1702\n",
      "Epoch 329/500\n",
      "22/22 [==============================] - 0s 5ms/step - loss: 249.4181 - val_loss: 2128.1677\n",
      "Epoch 330/500\n",
      "22/22 [==============================] - 0s 4ms/step - loss: 249.4184 - val_loss: 2128.1646\n",
      "Epoch 331/500\n",
      "22/22 [==============================] - 0s 4ms/step - loss: 249.4187 - val_loss: 2128.1599\n",
      "Epoch 332/500\n",
      "22/22 [==============================] - 0s 4ms/step - loss: 249.4191 - val_loss: 2128.1562\n",
      "Epoch 333/500\n",
      "22/22 [==============================] - 0s 4ms/step - loss: 249.4194 - val_loss: 2128.1526\n",
      "Epoch 334/500\n",
      "22/22 [==============================] - 0s 4ms/step - loss: 249.4196 - val_loss: 2128.1484\n",
      "Epoch 335/500\n",
      "22/22 [==============================] - 0s 4ms/step - loss: 249.4200 - val_loss: 2128.1440\n",
      "Epoch 336/500\n",
      "22/22 [==============================] - 0s 4ms/step - loss: 249.4203 - val_loss: 2128.1399\n",
      "Epoch 337/500\n",
      "22/22 [==============================] - 0s 4ms/step - loss: 249.4207 - val_loss: 2128.1362\n",
      "Epoch 338/500\n",
      "22/22 [==============================] - 0s 4ms/step - loss: 249.4209 - val_loss: 2128.1306\n",
      "Epoch 339/500\n",
      "22/22 [==============================] - 0s 4ms/step - loss: 249.4212 - val_loss: 2128.1267\n",
      "Epoch 340/500\n",
      "22/22 [==============================] - 0s 4ms/step - loss: 249.4216 - val_loss: 2128.1228\n",
      "Epoch 341/500\n",
      "22/22 [==============================] - 0s 5ms/step - loss: 249.4218 - val_loss: 2128.1187\n",
      "Epoch 342/500\n",
      "22/22 [==============================] - 0s 4ms/step - loss: 249.4221 - val_loss: 2128.1150\n",
      "Epoch 343/500\n",
      "22/22 [==============================] - 0s 5ms/step - loss: 249.4223 - val_loss: 2128.1104\n",
      "Epoch 344/500\n",
      "22/22 [==============================] - 0s 5ms/step - loss: 249.4226 - val_loss: 2128.1047\n",
      "Epoch 345/500\n",
      "22/22 [==============================] - 0s 4ms/step - loss: 249.4228 - val_loss: 2128.1003\n",
      "Epoch 346/500\n",
      "22/22 [==============================] - 0s 5ms/step - loss: 249.4232 - val_loss: 2128.0959\n",
      "Epoch 347/500\n",
      "22/22 [==============================] - 0s 5ms/step - loss: 249.4233 - val_loss: 2128.0903\n",
      "Epoch 348/500\n",
      "22/22 [==============================] - 0s 5ms/step - loss: 249.4236 - val_loss: 2128.0852\n",
      "Epoch 349/500\n",
      "22/22 [==============================] - 0s 4ms/step - loss: 249.4239 - val_loss: 2128.0801\n",
      "Epoch 350/500\n",
      "22/22 [==============================] - 0s 4ms/step - loss: 249.4241 - val_loss: 2128.0747\n",
      "Epoch 351/500\n",
      "22/22 [==============================] - 0s 5ms/step - loss: 249.4243 - val_loss: 2128.0686\n",
      "Epoch 352/500\n",
      "22/22 [==============================] - 0s 5ms/step - loss: 249.4246 - val_loss: 2128.0630\n",
      "Epoch 353/500\n",
      "22/22 [==============================] - 0s 9ms/step - loss: 249.4248 - val_loss: 2128.0566\n",
      "Epoch 354/500\n",
      "22/22 [==============================] - 0s 7ms/step - loss: 249.4251 - val_loss: 2128.0510\n",
      "Epoch 355/500\n",
      "22/22 [==============================] - 0s 5ms/step - loss: 249.4252 - val_loss: 2128.0437\n",
      "Epoch 356/500\n",
      "22/22 [==============================] - 0s 4ms/step - loss: 249.4255 - val_loss: 2128.0376\n",
      "Epoch 357/500\n",
      "22/22 [==============================] - 0s 5ms/step - loss: 249.4257 - val_loss: 2128.0312\n",
      "Epoch 358/500\n",
      "22/22 [==============================] - 0s 4ms/step - loss: 249.4259 - val_loss: 2128.0251\n",
      "Epoch 359/500\n",
      "22/22 [==============================] - 0s 5ms/step - loss: 249.4261 - val_loss: 2128.0186\n",
      "Epoch 360/500\n",
      "22/22 [==============================] - 0s 5ms/step - loss: 249.4263 - val_loss: 2128.0125\n",
      "Epoch 361/500\n",
      "22/22 [==============================] - 0s 5ms/step - loss: 249.4265 - val_loss: 2128.0056\n",
      "Epoch 362/500\n",
      "22/22 [==============================] - 0s 5ms/step - loss: 249.4267 - val_loss: 2127.9988\n",
      "Epoch 363/500\n",
      "22/22 [==============================] - 0s 5ms/step - loss: 249.4268 - val_loss: 2127.9915\n",
      "Epoch 364/500\n",
      "22/22 [==============================] - 0s 5ms/step - loss: 249.4271 - val_loss: 2127.9849\n",
      "Epoch 365/500\n",
      "22/22 [==============================] - 0s 4ms/step - loss: 249.4272 - val_loss: 2127.9763\n",
      "Epoch 366/500\n",
      "22/22 [==============================] - 0s 4ms/step - loss: 249.4274 - val_loss: 2127.9683\n",
      "Epoch 367/500\n",
      "22/22 [==============================] - 0s 5ms/step - loss: 249.4275 - val_loss: 2127.9595\n",
      "Epoch 368/500\n",
      "22/22 [==============================] - 0s 5ms/step - loss: 249.4277 - val_loss: 2127.9512\n",
      "Epoch 369/500\n",
      "22/22 [==============================] - 0s 5ms/step - loss: 249.4278 - val_loss: 2127.9421\n",
      "Epoch 370/500\n",
      "22/22 [==============================] - 0s 5ms/step - loss: 249.4279 - val_loss: 2127.9321\n",
      "Epoch 371/500\n",
      "22/22 [==============================] - 0s 5ms/step - loss: 249.4281 - val_loss: 2127.9221\n",
      "Epoch 372/500\n",
      "22/22 [==============================] - 0s 5ms/step - loss: 249.4284 - val_loss: 2127.9119\n",
      "Epoch 373/500\n",
      "22/22 [==============================] - 0s 4ms/step - loss: 249.4285 - val_loss: 2127.9011\n",
      "Epoch 374/500\n",
      "22/22 [==============================] - 0s 6ms/step - loss: 249.4286 - val_loss: 2127.8901\n",
      "Epoch 375/500\n",
      "22/22 [==============================] - 0s 4ms/step - loss: 249.4287 - val_loss: 2127.8787\n",
      "Epoch 376/500\n",
      "22/22 [==============================] - 0s 4ms/step - loss: 249.4288 - val_loss: 2127.8665\n",
      "Epoch 377/500\n",
      "22/22 [==============================] - 0s 6ms/step - loss: 249.4290 - val_loss: 2127.8528\n",
      "Epoch 378/500\n",
      "22/22 [==============================] - 0s 14ms/step - loss: 249.4292 - val_loss: 2127.8386\n",
      "Epoch 379/500\n",
      "22/22 [==============================] - 0s 4ms/step - loss: 249.4293 - val_loss: 2127.8235\n",
      "Epoch 380/500\n",
      "22/22 [==============================] - 0s 5ms/step - loss: 249.4294 - val_loss: 2127.8074\n",
      "Epoch 381/500\n",
      "22/22 [==============================] - 0s 4ms/step - loss: 249.4295 - val_loss: 2127.7905\n",
      "Epoch 382/500\n",
      "22/22 [==============================] - 0s 4ms/step - loss: 249.4297 - val_loss: 2127.7727\n",
      "Epoch 383/500\n",
      "22/22 [==============================] - 0s 8ms/step - loss: 249.4298 - val_loss: 2127.7542\n",
      "Epoch 384/500\n",
      "22/22 [==============================] - 0s 6ms/step - loss: 249.4300 - val_loss: 2127.7336\n",
      "Epoch 385/500\n",
      "22/22 [==============================] - 0s 5ms/step - loss: 249.4300 - val_loss: 2127.7102\n",
      "Epoch 386/500\n",
      "22/22 [==============================] - 0s 5ms/step - loss: 249.4301 - val_loss: 2127.6848\n",
      "Epoch 387/500\n",
      "22/22 [==============================] - 0s 6ms/step - loss: 249.4303 - val_loss: 2127.6575\n",
      "Epoch 388/500\n",
      "22/22 [==============================] - 0s 5ms/step - loss: 249.4303 - val_loss: 2127.6267\n",
      "Epoch 389/500\n",
      "22/22 [==============================] - 0s 5ms/step - loss: 249.4304 - val_loss: 2127.5911\n",
      "Epoch 390/500\n",
      "22/22 [==============================] - 0s 5ms/step - loss: 249.4306 - val_loss: 2127.5518\n",
      "Epoch 391/500\n",
      "22/22 [==============================] - 0s 5ms/step - loss: 249.4306 - val_loss: 2127.5061\n",
      "Epoch 392/500\n",
      "22/22 [==============================] - 0s 4ms/step - loss: 249.4306 - val_loss: 2127.4500\n",
      "Epoch 393/500\n",
      "22/22 [==============================] - 0s 5ms/step - loss: 249.4309 - val_loss: 2127.3835\n",
      "Epoch 394/500\n",
      "22/22 [==============================] - 0s 5ms/step - loss: 249.4310 - val_loss: 2127.2981\n",
      "Epoch 395/500\n",
      "22/22 [==============================] - 0s 5ms/step - loss: 249.4311 - val_loss: 2127.1787\n",
      "Epoch 396/500\n",
      "22/22 [==============================] - 0s 6ms/step - loss: 249.4311 - val_loss: 2126.9937\n",
      "Epoch 397/500\n",
      "22/22 [==============================] - 0s 5ms/step - loss: 249.4312 - val_loss: 2126.6396\n",
      "Epoch 398/500\n",
      "22/22 [==============================] - 0s 5ms/step - loss: 249.4312 - val_loss: 2124.4885\n",
      "Epoch 399/500\n",
      "22/22 [==============================] - 0s 5ms/step - loss: 248.3211 - val_loss: 2068.2473\n",
      "Epoch 400/500\n",
      "22/22 [==============================] - 0s 4ms/step - loss: 249.6003 - val_loss: 2136.8457\n",
      "Epoch 401/500\n",
      "22/22 [==============================] - 0s 5ms/step - loss: 249.4319 - val_loss: 2136.8445\n",
      "Epoch 402/500\n",
      "22/22 [==============================] - 0s 4ms/step - loss: 249.4314 - val_loss: 2136.8350\n",
      "Epoch 403/500\n",
      "22/22 [==============================] - 0s 5ms/step - loss: 249.4314 - val_loss: 2136.8252\n",
      "Epoch 404/500\n",
      "22/22 [==============================] - 0s 11ms/step - loss: 249.4316 - val_loss: 2136.8159\n",
      "Epoch 405/500\n",
      "22/22 [==============================] - 0s 5ms/step - loss: 249.4317 - val_loss: 2136.8083\n",
      "Epoch 406/500\n",
      "22/22 [==============================] - 0s 4ms/step - loss: 249.4317 - val_loss: 2136.8008\n",
      "Epoch 407/500\n",
      "22/22 [==============================] - 0s 5ms/step - loss: 249.4319 - val_loss: 2136.7944\n",
      "Epoch 408/500\n",
      "22/22 [==============================] - 0s 5ms/step - loss: 249.4320 - val_loss: 2136.7891\n",
      "Epoch 409/500\n",
      "22/22 [==============================] - 0s 5ms/step - loss: 249.4320 - val_loss: 2136.7820\n",
      "Epoch 410/500\n",
      "22/22 [==============================] - 0s 5ms/step - loss: 249.4321 - val_loss: 2136.7769\n",
      "Epoch 411/500\n",
      "22/22 [==============================] - 0s 5ms/step - loss: 249.4321 - val_loss: 2136.7717\n",
      "Epoch 412/500\n",
      "22/22 [==============================] - 0s 5ms/step - loss: 249.4323 - val_loss: 2136.7664\n",
      "Epoch 413/500\n",
      "22/22 [==============================] - 0s 4ms/step - loss: 249.4324 - val_loss: 2136.7617\n",
      "Epoch 414/500\n",
      "22/22 [==============================] - 0s 5ms/step - loss: 249.4324 - val_loss: 2136.7585\n",
      "Epoch 415/500\n",
      "22/22 [==============================] - 0s 5ms/step - loss: 249.4325 - val_loss: 2136.7559\n",
      "Epoch 416/500\n",
      "22/22 [==============================] - 0s 5ms/step - loss: 249.4325 - val_loss: 2136.7532\n",
      "Epoch 417/500\n",
      "22/22 [==============================] - 0s 6ms/step - loss: 249.4326 - val_loss: 2136.7488\n",
      "Epoch 418/500\n",
      "22/22 [==============================] - 0s 4ms/step - loss: 249.4327 - val_loss: 2136.7461\n",
      "Epoch 419/500\n",
      "22/22 [==============================] - 0s 5ms/step - loss: 249.4327 - val_loss: 2136.7429\n",
      "Epoch 420/500\n",
      "22/22 [==============================] - 0s 4ms/step - loss: 249.4328 - val_loss: 2136.7405\n",
      "Epoch 421/500\n",
      "22/22 [==============================] - 0s 5ms/step - loss: 249.4329 - val_loss: 2136.7390\n",
      "Epoch 422/500\n",
      "22/22 [==============================] - 0s 5ms/step - loss: 249.4330 - val_loss: 2136.7383\n",
      "Epoch 423/500\n",
      "22/22 [==============================] - 0s 5ms/step - loss: 249.4330 - val_loss: 2136.7371\n",
      "Epoch 424/500\n",
      "22/22 [==============================] - 0s 5ms/step - loss: 249.4330 - val_loss: 2136.7349\n",
      "Epoch 425/500\n",
      "22/22 [==============================] - 0s 5ms/step - loss: 249.4330 - val_loss: 2136.7339\n",
      "Epoch 426/500\n",
      "22/22 [==============================] - 0s 5ms/step - loss: 249.4331 - val_loss: 2136.7324\n",
      "Epoch 427/500\n",
      "22/22 [==============================] - 0s 5ms/step - loss: 249.4332 - val_loss: 2136.7310\n",
      "Epoch 428/500\n",
      "22/22 [==============================] - 0s 5ms/step - loss: 249.4332 - val_loss: 2136.7302\n",
      "Epoch 429/500\n",
      "22/22 [==============================] - 0s 4ms/step - loss: 249.4333 - val_loss: 2136.7295\n",
      "Epoch 430/500\n",
      "22/22 [==============================] - 0s 15ms/step - loss: 249.4333 - val_loss: 2136.7288\n",
      "Epoch 431/500\n",
      "22/22 [==============================] - 0s 5ms/step - loss: 249.4334 - val_loss: 2136.7278\n",
      "Epoch 432/500\n",
      "22/22 [==============================] - 0s 5ms/step - loss: 249.4334 - val_loss: 2136.7266\n",
      "Epoch 433/500\n",
      "22/22 [==============================] - 0s 5ms/step - loss: 249.4335 - val_loss: 2136.7256\n",
      "Epoch 434/500\n",
      "22/22 [==============================] - 0s 5ms/step - loss: 249.4335 - val_loss: 2136.7256\n",
      "Epoch 435/500\n",
      "22/22 [==============================] - 0s 5ms/step - loss: 249.4336 - val_loss: 2136.7251\n",
      "Epoch 436/500\n",
      "22/22 [==============================] - 0s 4ms/step - loss: 249.4337 - val_loss: 2136.7256\n",
      "Epoch 437/500\n",
      "22/22 [==============================] - 0s 5ms/step - loss: 249.4337 - val_loss: 2136.7268\n",
      "Epoch 438/500\n",
      "22/22 [==============================] - 0s 5ms/step - loss: 249.4338 - val_loss: 2136.7266\n",
      "Epoch 439/500\n",
      "22/22 [==============================] - 0s 5ms/step - loss: 249.4338 - val_loss: 2136.7261\n",
      "Epoch 440/500\n",
      "22/22 [==============================] - 0s 5ms/step - loss: 249.4337 - val_loss: 2136.7251\n",
      "Epoch 441/500\n",
      "22/22 [==============================] - 0s 5ms/step - loss: 249.4337 - val_loss: 2136.7249\n",
      "Epoch 442/500\n",
      "22/22 [==============================] - 0s 5ms/step - loss: 249.4338 - val_loss: 2136.7239\n",
      "Epoch 443/500\n",
      "22/22 [==============================] - 0s 5ms/step - loss: 249.4338 - val_loss: 2136.7231\n",
      "Epoch 444/500\n",
      "22/22 [==============================] - 0s 4ms/step - loss: 249.4338 - val_loss: 2136.7229\n",
      "Epoch 445/500\n",
      "22/22 [==============================] - 0s 5ms/step - loss: 249.4339 - val_loss: 2136.7207\n",
      "Epoch 446/500\n",
      "22/22 [==============================] - 0s 5ms/step - loss: 249.4339 - val_loss: 2136.7192\n",
      "Epoch 447/500\n",
      "22/22 [==============================] - 0s 5ms/step - loss: 249.4340 - val_loss: 2136.7192\n",
      "Epoch 448/500\n",
      "22/22 [==============================] - 0s 4ms/step - loss: 249.4341 - val_loss: 2136.7200\n",
      "Epoch 449/500\n",
      "22/22 [==============================] - 0s 5ms/step - loss: 249.4341 - val_loss: 2136.7202\n",
      "Epoch 450/500\n",
      "22/22 [==============================] - 0s 4ms/step - loss: 249.4341 - val_loss: 2136.7207\n",
      "Epoch 451/500\n",
      "22/22 [==============================] - 0s 4ms/step - loss: 249.4341 - val_loss: 2136.7207\n",
      "Epoch 452/500\n",
      "22/22 [==============================] - 0s 5ms/step - loss: 249.4341 - val_loss: 2136.7202\n",
      "Epoch 453/500\n",
      "22/22 [==============================] - 0s 5ms/step - loss: 249.4342 - val_loss: 2136.7200\n",
      "Epoch 454/500\n",
      "22/22 [==============================] - 0s 10ms/step - loss: 249.4342 - val_loss: 2136.7195\n",
      "Epoch 455/500\n",
      "22/22 [==============================] - 0s 7ms/step - loss: 249.4342 - val_loss: 2136.7192\n",
      "Epoch 456/500\n",
      "22/22 [==============================] - 0s 6ms/step - loss: 249.4342 - val_loss: 2136.7192\n",
      "Epoch 457/500\n",
      "22/22 [==============================] - 0s 5ms/step - loss: 249.4342 - val_loss: 2136.7188\n",
      "Epoch 458/500\n",
      "22/22 [==============================] - 0s 5ms/step - loss: 249.4343 - val_loss: 2136.7185\n",
      "Epoch 459/500\n",
      "22/22 [==============================] - 0s 5ms/step - loss: 249.4343 - val_loss: 2136.7183\n",
      "Epoch 460/500\n",
      "22/22 [==============================] - 0s 5ms/step - loss: 249.4343 - val_loss: 2136.7175\n",
      "Epoch 461/500\n",
      "22/22 [==============================] - 0s 5ms/step - loss: 249.4343 - val_loss: 2136.7175\n",
      "Epoch 462/500\n",
      "22/22 [==============================] - 0s 6ms/step - loss: 249.4344 - val_loss: 2136.7185\n",
      "Epoch 463/500\n",
      "22/22 [==============================] - 0s 6ms/step - loss: 249.4344 - val_loss: 2136.7192\n",
      "Epoch 464/500\n",
      "22/22 [==============================] - 0s 6ms/step - loss: 249.4345 - val_loss: 2136.7192\n",
      "Epoch 465/500\n",
      "22/22 [==============================] - 0s 6ms/step - loss: 249.4345 - val_loss: 2136.7192\n",
      "Epoch 466/500\n",
      "22/22 [==============================] - 0s 6ms/step - loss: 249.4345 - val_loss: 2136.7207\n",
      "Epoch 467/500\n",
      "22/22 [==============================] - 0s 6ms/step - loss: 249.4345 - val_loss: 2136.7214\n",
      "Epoch 468/500\n",
      "22/22 [==============================] - 0s 6ms/step - loss: 249.4345 - val_loss: 2136.7229\n",
      "Epoch 469/500\n",
      "22/22 [==============================] - 0s 6ms/step - loss: 249.4345 - val_loss: 2136.7236\n",
      "Epoch 470/500\n",
      "22/22 [==============================] - 0s 6ms/step - loss: 249.4345 - val_loss: 2136.7244\n",
      "Epoch 471/500\n",
      "22/22 [==============================] - 0s 6ms/step - loss: 249.4346 - val_loss: 2136.7246\n",
      "Epoch 472/500\n",
      "22/22 [==============================] - 0s 6ms/step - loss: 249.4346 - val_loss: 2136.7246\n",
      "Epoch 473/500\n",
      "22/22 [==============================] - 0s 6ms/step - loss: 249.4345 - val_loss: 2136.7239\n",
      "Epoch 474/500\n",
      "22/22 [==============================] - 0s 7ms/step - loss: 249.4345 - val_loss: 2136.7229\n",
      "Epoch 475/500\n",
      "22/22 [==============================] - 0s 5ms/step - loss: 249.4345 - val_loss: 2136.7227\n",
      "Epoch 476/500\n",
      "22/22 [==============================] - 0s 11ms/step - loss: 249.4345 - val_loss: 2136.7214\n",
      "Epoch 477/500\n",
      "22/22 [==============================] - 0s 6ms/step - loss: 249.4345 - val_loss: 2136.7190\n",
      "Epoch 478/500\n",
      "22/22 [==============================] - 0s 4ms/step - loss: 249.4346 - val_loss: 2136.7183\n",
      "Epoch 479/500\n",
      "22/22 [==============================] - 0s 5ms/step - loss: 249.4346 - val_loss: 2136.7175\n",
      "Epoch 480/500\n",
      "22/22 [==============================] - 0s 5ms/step - loss: 249.4346 - val_loss: 2136.7153\n",
      "Epoch 481/500\n",
      "22/22 [==============================] - 0s 4ms/step - loss: 249.4346 - val_loss: 2136.7144\n",
      "Epoch 482/500\n",
      "22/22 [==============================] - 0s 5ms/step - loss: 249.4346 - val_loss: 2136.7122\n",
      "Epoch 483/500\n",
      "22/22 [==============================] - 0s 6ms/step - loss: 249.4347 - val_loss: 2136.7122\n",
      "Epoch 484/500\n",
      "22/22 [==============================] - 0s 7ms/step - loss: 249.4348 - val_loss: 2136.7129\n",
      "Epoch 485/500\n",
      "22/22 [==============================] - 0s 6ms/step - loss: 249.4348 - val_loss: 2136.7146\n",
      "Epoch 486/500\n",
      "22/22 [==============================] - 0s 6ms/step - loss: 249.4349 - val_loss: 2136.7151\n",
      "Epoch 487/500\n",
      "22/22 [==============================] - 0s 5ms/step - loss: 249.4349 - val_loss: 2136.7153\n",
      "Epoch 488/500\n",
      "22/22 [==============================] - 0s 5ms/step - loss: 249.4349 - val_loss: 2136.7168\n",
      "Epoch 489/500\n",
      "22/22 [==============================] - 0s 5ms/step - loss: 249.4348 - val_loss: 2136.7180\n",
      "Epoch 490/500\n",
      "22/22 [==============================] - 0s 5ms/step - loss: 249.4348 - val_loss: 2136.7183\n",
      "Epoch 491/500\n",
      "22/22 [==============================] - 0s 5ms/step - loss: 249.4349 - val_loss: 2136.7188\n",
      "Epoch 492/500\n",
      "22/22 [==============================] - 0s 5ms/step - loss: 249.4348 - val_loss: 2136.7188\n",
      "Epoch 493/500\n",
      "22/22 [==============================] - 0s 5ms/step - loss: 249.4349 - val_loss: 2136.7190\n",
      "Epoch 494/500\n",
      "22/22 [==============================] - 0s 5ms/step - loss: 249.4349 - val_loss: 2136.7200\n",
      "Epoch 495/500\n",
      "22/22 [==============================] - 0s 4ms/step - loss: 249.4350 - val_loss: 2136.7207\n",
      "Epoch 496/500\n",
      "22/22 [==============================] - 0s 5ms/step - loss: 249.4350 - val_loss: 2136.7209\n",
      "Epoch 497/500\n",
      "22/22 [==============================] - 0s 5ms/step - loss: 249.4350 - val_loss: 2136.7214\n",
      "Epoch 498/500\n",
      "22/22 [==============================] - 0s 5ms/step - loss: 249.4350 - val_loss: 2136.7222\n",
      "Epoch 499/500\n",
      "22/22 [==============================] - 0s 9ms/step - loss: 249.4349 - val_loss: 2136.7214\n",
      "Epoch 500/500\n",
      "22/22 [==============================] - 0s 6ms/step - loss: 249.4350 - val_loss: 2136.7209\n"
     ]
    }
   ],
   "source": [
    "C0 = tf.Variable(88.0403, name=\"C0\", trainable=True, dtype=tf.float32)\n",
    "K0 = tf.Variable(-0.0012, name=\"K0\", trainable=True, dtype=tf.float32)\n",
    "K1 = tf.Variable(-0.0001, name=\"K1\", trainable=True, dtype=tf.float32)\n",
    "a = tf.Variable(0.0000, name=\"a\", trainable=True, dtype=tf.float32)\n",
    "b = tf.Variable(0.0120, name=\"b\", trainable=True, dtype=tf.float32)\n",
    "c = tf.Variable(2.0334, name=\"c\", trainable=True, dtype=tf.float32)\n",
    "\n",
    "splitr = 0.8\n",
    "\n",
    "\n",
    "def loss_fn(y_true, y_pred):\n",
    "    squared_difference = tf.square(y_true[:, 0] - y_pred[:, 0])\n",
    "    #squared_difference2 = tf.square(y_true[:, 2]-y_pred[:, 2])\n",
    "    #squared_difference1 = tf.square(y_true[:, 1]-y_pred[:, 1])\n",
    "    epsilon = 1\n",
    "    squared_difference3 = tf.square(\n",
    "        y_pred[:, 1] - (\n",
    "            y_pred[:, 0] * (\n",
    "                K0 - K1 * (\n",
    "                    9 * a * tf.math.log((y_pred[:, 0] + epsilon) / C0) / (K0 - K1 * c)**2 +\n",
    "                    4 * b * tf.math.log((y_pred[:, 0] + epsilon) / C0) / (K0 - K1 * c) + c\n",
    "                )\n",
    "            )\n",
    "        )\n",
    "    )\n",
    "    return tf.reduce_mean(squared_difference, axis=-1) + 0.2*tf.reduce_mean(squared_difference3, axis=-1)\n",
    "model = Sequential()\n",
    "model.add(LSTM(100, input_shape=(trainX.shape[1], trainX.shape[2])))\n",
    "model.add(Dense(60))\n",
    "model.compile(loss=loss_fn, optimizer='adam')\n",
    "history = model.fit(trainX[:int(splitr*trainX.shape[0])], trainy[:int(splitr*trainX.shape[0])], epochs=500, batch_size=64, validation_data=(trainX[int(splitr*trainX.shape[0]):trainX.shape[0]], trainy[int(splitr*trainX.shape[0]):trainX.shape[0]]), shuffle=False)"
   ]
  },
  {
   "cell_type": "code",
   "execution_count": 19,
   "metadata": {
    "colab": {
     "base_uri": "https://localhost:8080/"
    },
    "id": "yJL101rPyuoT",
    "outputId": "239ff2b1-c186-423a-d316-939dfdd7c793"
   },
   "outputs": [
    {
     "name": "stdout",
     "output_type": "stream",
     "text": [
      "1/1 [==============================] - 0s 366ms/step\n"
     ]
    }
   ],
   "source": [
    "forecast_without_mc = forecastX\n",
    "yhat_without_mc = model.predict(forecast_without_mc) # Step Ahead Prediction\n",
    "forecast_without_mc = forecast_without_mc.reshape((forecast_without_mc.shape[0], forecast_without_mc.shape[2])) # Historical Input"
   ]
  },
  {
   "cell_type": "code",
   "execution_count": 20,
   "metadata": {
    "colab": {
     "base_uri": "https://localhost:8080/"
    },
    "id": "g9dQELcJ8wbp",
    "outputId": "4dc7671b-b1a8-48d5-8744-a86f98446109"
   },
   "outputs": [
    {
     "data": {
      "text/plain": [
       "(1, 1, 251)"
      ]
     },
     "execution_count": 20,
     "metadata": {},
     "output_type": "execute_result"
    }
   ],
   "source": [
    "forecastX.shape"
   ]
  },
  {
   "cell_type": "code",
   "execution_count": 21,
   "metadata": {
    "colab": {
     "base_uri": "https://localhost:8080/"
    },
    "id": "IS2kyIKG1Kbr",
    "outputId": "f31b3485-8e26-452f-9298-ea8bf7e80ad1"
   },
   "outputs": [
    {
     "data": {
      "text/plain": [
       "(1, 251)"
      ]
     },
     "execution_count": 21,
     "metadata": {},
     "output_type": "execute_result"
    }
   ],
   "source": [
    "forecast_without_mc.shape"
   ]
  },
  {
   "cell_type": "code",
   "execution_count": 22,
   "metadata": {
    "id": "0u6VIzaDyuoT"
   },
   "outputs": [],
   "source": [
    "inv_yhat_without_mc = np.concatenate((forecast_without_mc, yhat_without_mc), axis=1) # Concatenation of predicted values with Historical Data\n",
    "#inv_yhat_without_mc = scaler.inverse_transform(inv_yhat_without_mc) # Transform labels back to original encoding"
   ]
  },
  {
   "cell_type": "code",
   "execution_count": 23,
   "metadata": {
    "colab": {
     "base_uri": "https://localhost:8080/"
    },
    "id": "EUEcw0LX07oU",
    "outputId": "cfc32397-9c37-4b43-d087-584bb31c3dcc"
   },
   "outputs": [
    {
     "data": {
      "text/plain": [
       "(1, 311)"
      ]
     },
     "execution_count": 23,
     "metadata": {},
     "output_type": "execute_result"
    }
   ],
   "source": [
    "inv_yhat_without_mc.shape"
   ]
  },
  {
   "cell_type": "code",
   "execution_count": 24,
   "metadata": {
    "id": "31OWVbSh_305"
   },
   "outputs": [],
   "source": [
    "fforecast = inv_yhat_without_mc[:,-300:]"
   ]
  },
  {
   "cell_type": "code",
   "execution_count": 25,
   "metadata": {},
   "outputs": [
    {
     "data": {
      "text/plain": [
       "(1, 300)"
      ]
     },
     "execution_count": 25,
     "metadata": {},
     "output_type": "execute_result"
    }
   ],
   "source": [
    "fforecast.shape"
   ]
  },
  {
   "cell_type": "code",
   "execution_count": 26,
   "metadata": {
    "id": "BlpGH2FOAiRF"
   },
   "outputs": [],
   "source": [
    "final_forecast = fforecast[:,0:300:3]"
   ]
  },
  {
   "cell_type": "code",
   "execution_count": 27,
   "metadata": {},
   "outputs": [
    {
     "data": {
      "text/plain": [
       "(1, 300)"
      ]
     },
     "execution_count": 27,
     "metadata": {},
     "output_type": "execute_result"
    }
   ],
   "source": [
    "fforecast.shape"
   ]
  },
  {
   "cell_type": "code",
   "execution_count": 28,
   "metadata": {
    "id": "CXkgkj_LBk_t"
   },
   "outputs": [],
   "source": [
    "# code to replace all negative value with 0\n",
    "final_forecast[final_forecast<0] = 0"
   ]
  },
  {
   "cell_type": "code",
   "execution_count": 29,
   "metadata": {},
   "outputs": [
    {
     "data": {
      "text/plain": [
       "array([[7.56424837e+01, 7.54304435e+01, 7.51934687e+01, 7.49564939e+01,\n",
       "        7.92870941e+01, 6.86986327e-01, 0.00000000e+00, 9.08673465e-01,\n",
       "        1.88238750e-02, 1.82585105e-01, 1.43628478e-01, 4.37101305e-01,\n",
       "        1.37467071e-01, 7.60084967e+01, 7.58068161e+01, 7.56051354e+01,\n",
       "        3.55119079e-01, 0.00000000e+00, 7.66880486e+01, 7.62923436e+01,\n",
       "        7.60906629e+01, 7.58889823e+01, 7.56873016e+01, 7.54831046e+01,\n",
       "        7.52461298e+01, 7.50091550e+01, 7.47721802e+01, 4.43340153e-01,\n",
       "        4.37472165e-01, 7.57694678e+01, 7.55677871e+01, 7.53426751e+01,\n",
       "        7.51057003e+01, 7.48687255e+01, 7.46317507e+01, 7.45142997e+01,\n",
       "        7.44487535e+01, 7.43820723e+01, 3.90890960e-01, 0.00000000e+00,\n",
       "        0.00000000e+00, 0.00000000e+00, 0.00000000e+00, 0.00000000e+00,\n",
       "        6.76755190e-01, 0.00000000e+00, 0.00000000e+00, 7.50618161e+01,\n",
       "        7.48248413e+01, 0.00000000e+00, 1.82285339e-01, 7.58142857e+01,\n",
       "        7.56126050e+01, 7.53953361e+01, 7.51583613e+01, 7.49213865e+01,\n",
       "        7.46844118e+01, 7.45288656e+01, 7.44633193e+01, 7.43977731e+01,\n",
       "        5.16547800e-01, 0.00000000e+00, 7.50179318e+01, 7.47809570e+01,\n",
       "        7.45555696e+01, 7.44900233e+01, 7.44244771e+01, 7.81594538e+01,\n",
       "        7.71511671e+01, 7.61205415e+01, 0.00000000e+00, 6.24775290e-01,\n",
       "        5.50841987e-01, 7.10341339e+01, 0.00000000e+00, 4.21792805e-01,\n",
       "        0.00000000e+00, 3.34997177e-01, 9.17057400e-02, 6.05774283e-01,\n",
       "        7.12472992e+01, 0.00000000e+00, 0.00000000e+00, 3.56297940e-03,\n",
       "        9.07903969e-01, 0.00000000e+00, 1.89784721e-01, 0.00000000e+00,\n",
       "        9.62052822e-01, 5.57508171e-01, 7.73981065e-02, 6.18999958e-01,\n",
       "        0.00000000e+00, 3.14758360e-01, 2.01358795e-01, 0.00000000e+00,\n",
       "        0.00000000e+00, 5.99594712e-02, 0.00000000e+00, 9.65788126e-01]])"
      ]
     },
     "execution_count": 29,
     "metadata": {},
     "output_type": "execute_result"
    }
   ],
   "source": [
    "final_forecast"
   ]
  },
  {
   "cell_type": "code",
   "execution_count": 30,
   "metadata": {},
   "outputs": [
    {
     "data": {
      "text/plain": [
       "(1, 100)"
      ]
     },
     "execution_count": 30,
     "metadata": {},
     "output_type": "execute_result"
    }
   ],
   "source": [
    "final_forecast.shape"
   ]
  },
  {
   "cell_type": "code",
   "execution_count": 31,
   "metadata": {},
   "outputs": [
    {
     "data": {
      "text/plain": [
       "(100,)"
      ]
     },
     "execution_count": 31,
     "metadata": {},
     "output_type": "execute_result"
    }
   ],
   "source": [
    "test.shape"
   ]
  },
  {
   "cell_type": "code",
   "execution_count": 32,
   "metadata": {},
   "outputs": [],
   "source": [
    "training_set = np.array(training_set)\n",
    "test = np.array(test)\n",
    "final_forecast = np.array(final_forecast.squeeze(0))"
   ]
  },
  {
   "cell_type": "code",
   "execution_count": 33,
   "metadata": {},
   "outputs": [
    {
     "data": {
      "text/plain": [
       "array([69.19361891, 69.18733347, 69.18104803, 69.17476259, 69.16847715,\n",
       "       69.16219171, 69.15590626, 69.14962082, 69.14333538, 69.13704994,\n",
       "       69.1307645 , 69.12447906, 69.11819362, 69.11190818, 69.10562274,\n",
       "       69.0993373 , 69.09305185, 69.08676641, 69.08048097, 69.07419553,\n",
       "       69.06791009, 69.06162465, 69.05533921, 69.04905377, 69.04276833,\n",
       "       69.03648289, 69.03019744, 69.023912  , 69.01762656, 69.01134112,\n",
       "       69.00505568, 68.99877024, 68.9924848 , 68.98619936, 68.97991392,\n",
       "       68.97362848, 68.96734303, 68.96105759, 68.95477215, 68.94848671,\n",
       "       68.94220127, 68.93591583, 68.92963039, 68.92334495, 68.91705951,\n",
       "       68.91077407, 68.90448862, 68.89820318, 68.89191774, 68.8856323 ,\n",
       "       68.87934686, 68.87306142, 68.86677598, 68.86049054, 68.8542051 ,\n",
       "       68.84791966, 68.84163421, 68.83534877, 68.82906333, 68.82277789,\n",
       "       68.81649245, 68.81020701, 68.80392157, 68.79763613, 68.79135069,\n",
       "       68.78506525, 68.7787798 , 68.77249436, 68.76620892, 68.75992348,\n",
       "       68.75363804, 68.7473526 , 68.74106716, 68.73478172, 68.72849628,\n",
       "       68.72221084, 68.71592539, 68.70963995, 68.70335451, 68.69706907,\n",
       "       68.69078363, 68.68449819, 68.67821275, 68.67192731, 68.66564187,\n",
       "       68.65935643, 68.65307098, 68.64678554, 68.6405001 , 68.63421466,\n",
       "       68.62792922, 68.62164378, 68.61535834, 68.6090729 , 68.60278746,\n",
       "       68.59650202, 68.59021657, 68.58393113, 68.57764569, 68.57136025])"
      ]
     },
     "execution_count": 33,
     "metadata": {},
     "output_type": "execute_result"
    }
   ],
   "source": [
    "test"
   ]
  },
  {
   "cell_type": "code",
   "execution_count": 34,
   "metadata": {},
   "outputs": [
    {
     "data": {
      "text/plain": [
       "(100,)"
      ]
     },
     "execution_count": 34,
     "metadata": {},
     "output_type": "execute_result"
    }
   ],
   "source": [
    "test.shape"
   ]
  },
  {
   "cell_type": "code",
   "execution_count": 35,
   "metadata": {},
   "outputs": [
    {
     "data": {
      "text/plain": [
       "(100,)"
      ]
     },
     "execution_count": 35,
     "metadata": {},
     "output_type": "execute_result"
    }
   ],
   "source": [
    "final_forecast.shape"
   ]
  },
  {
   "cell_type": "code",
   "execution_count": 36,
   "metadata": {},
   "outputs": [
    {
     "data": {
      "text/plain": [
       "(100,)"
      ]
     },
     "execution_count": 36,
     "metadata": {},
     "output_type": "execute_result"
    }
   ],
   "source": [
    "test.shape"
   ]
  },
  {
   "cell_type": "code",
   "execution_count": 37,
   "metadata": {},
   "outputs": [
    {
     "name": "stdout",
     "output_type": "stream",
     "text": [
      "50.116977425781684\n",
      "39.29409850141126\n"
     ]
    }
   ],
   "source": [
    "import math\n",
    "MSE = np.square(np.subtract(np.array(test),np.array(final_forecast))).mean()   \n",
    "rsme = math.sqrt(MSE)\n",
    "print(rsme)  \n",
    "MAE = np.abs(np.subtract(np.array(test),np.array(final_forecast))).mean()   \n",
    "mae = MAE\n",
    "print(mae)"
   ]
  }
 ],
 "metadata": {
  "colab": {
   "provenance": []
  },
  "kernelspec": {
   "display_name": "Python 3",
   "language": "python",
   "name": "python3"
  },
  "language_info": {
   "codemirror_mode": {
    "name": "ipython",
    "version": 3
   },
   "file_extension": ".py",
   "mimetype": "text/x-python",
   "name": "python",
   "nbconvert_exporter": "python",
   "pygments_lexer": "ipython3",
   "version": "3.9.13"
  }
 },
 "nbformat": 4,
 "nbformat_minor": 0
}
