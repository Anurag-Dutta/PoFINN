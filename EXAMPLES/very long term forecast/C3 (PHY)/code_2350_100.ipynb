{
 "cells": [
  {
   "cell_type": "markdown",
   "metadata": {
    "id": "pCGKeZ2gyuoQ"
   },
   "source": [
    "_Importing Required Libraries_"
   ]
  },
  {
   "cell_type": "code",
   "execution_count": 1,
   "metadata": {
    "colab": {
     "base_uri": "https://localhost:8080/"
    },
    "id": "A-6LN-zXiLcM",
    "outputId": "4de610a4-f8b8-4f49-c6c0-89de299ccedc"
   },
   "outputs": [
    {
     "name": "stdout",
     "output_type": "stream",
     "text": [
      "Requirement already satisfied: hampel in c:\\users\\anurag dutta\\appdata\\local\\packages\\pythonsoftwarefoundation.python.3.9_qbz5n2kfra8p0\\localcache\\local-packages\\python39\\site-packages (0.0.5)\n",
      "Requirement already satisfied: numpy in c:\\users\\anurag dutta\\appdata\\local\\packages\\pythonsoftwarefoundation.python.3.9_qbz5n2kfra8p0\\localcache\\local-packages\\python39\\site-packages (from hampel) (1.26.4)\n",
      "Requirement already satisfied: pandas in c:\\users\\anurag dutta\\appdata\\local\\packages\\pythonsoftwarefoundation.python.3.9_qbz5n2kfra8p0\\localcache\\local-packages\\python39\\site-packages (from hampel) (1.5.2)\n",
      "Requirement already satisfied: python-dateutil>=2.8.1 in c:\\users\\anurag dutta\\appdata\\local\\packages\\pythonsoftwarefoundation.python.3.9_qbz5n2kfra8p0\\localcache\\local-packages\\python39\\site-packages (from pandas->hampel) (2.8.2)\n",
      "Requirement already satisfied: pytz>=2020.1 in c:\\users\\anurag dutta\\appdata\\local\\packages\\pythonsoftwarefoundation.python.3.9_qbz5n2kfra8p0\\localcache\\local-packages\\python39\\site-packages (from pandas->hampel) (2023.3.post1)\n",
      "Requirement already satisfied: six>=1.5 in c:\\users\\anurag dutta\\appdata\\local\\packages\\pythonsoftwarefoundation.python.3.9_qbz5n2kfra8p0\\localcache\\local-packages\\python39\\site-packages (from python-dateutil>=2.8.1->pandas->hampel) (1.16.0)\n",
      "Note: you may need to restart the kernel to use updated packages.\n"
     ]
    },
    {
     "name": "stderr",
     "output_type": "stream",
     "text": [
      "\n",
      "[notice] A new release of pip is available: 24.2 -> 24.3.1\n",
      "[notice] To update, run: C:\\Users\\Anurag Dutta\\AppData\\Local\\Microsoft\\WindowsApps\\PythonSoftwareFoundation.Python.3.9_qbz5n2kfra8p0\\python.exe -m pip install --upgrade pip\n"
     ]
    }
   ],
   "source": [
    "pip install hampel"
   ]
  },
  {
   "cell_type": "code",
   "execution_count": 2,
   "metadata": {
    "id": "By_d9uXpaFvZ"
   },
   "outputs": [],
   "source": [
    "from keras.models import Sequential\n",
    "from keras.layers import Dense\n",
    "from keras.layers import LSTM\n",
    "from keras.layers import Dropout\n",
    "import keras\n",
    "import tensorflow as tf\n",
    "from hampel import hampel\n",
    "import numpy as np\n",
    "import matplotlib.pyplot as plt\n",
    "import pandas as pd\n",
    "from sklearn.preprocessing import MinMaxScaler\n",
    "from sklearn.metrics import mean_squared_error, mean_absolute_error\n",
    "from math import sqrt\n",
    "from matplotlib import pyplot\n",
    "from numpy import array"
   ]
  },
  {
   "cell_type": "markdown",
   "metadata": {
    "id": "JyOjBMFayuoR"
   },
   "source": [
    "## Pretraining"
   ]
  },
  {
   "cell_type": "markdown",
   "metadata": {
    "id": "-5QqIY_GyuoR"
   },
   "source": [
    "The `capa_intermittency.dat` feeds the model with the dynamics of the Capacitor"
   ]
  },
  {
   "cell_type": "code",
   "execution_count": 3,
   "metadata": {
    "id": "9dV4a8yfyuoR"
   },
   "outputs": [],
   "source": [
    "data = np.genfromtxt('capa_intermittency.dat')\n",
    "training_set = pd.DataFrame(data).reset_index(drop=True)\n",
    "training_set = training_set.iloc[:,0]"
   ]
  },
  {
   "cell_type": "markdown",
   "metadata": {
    "id": "i7easoxByuoR"
   },
   "source": [
    "## Computing the Gradient"
   ]
  },
  {
   "cell_type": "markdown",
   "metadata": {
    "id": "5SnyolJTyuoR"
   },
   "source": [
    "_Calculating the value of_ $\\frac{dx}{dt}$"
   ]
  },
  {
   "cell_type": "code",
   "execution_count": 4,
   "metadata": {
    "colab": {
     "base_uri": "https://localhost:8080/"
    },
    "id": "wmIbVfIvyuoR",
    "outputId": "aa4e3136-c854-465d-d2e9-81cfd546e440"
   },
   "outputs": [
    {
     "name": "stdout",
     "output_type": "stream",
     "text": [
      "1.0\n",
      "1        0.000298\n",
      "2        0.000298\n",
      "3        0.000297\n",
      "4        0.000297\n",
      "5        0.000297\n",
      "           ...   \n",
      "9996     0.000018\n",
      "9997     0.000018\n",
      "9998     0.000018\n",
      "9999     0.000018\n",
      "10000    0.000018\n",
      "Name: 0, Length: 10000, dtype: float64\n"
     ]
    }
   ],
   "source": [
    "t_diff = 1\n",
    "print(training_set.max())\n",
    "gradient_t = (training_set.diff()/t_diff).iloc[1:] # dx/dt\n",
    "print(gradient_t)"
   ]
  },
  {
   "cell_type": "markdown",
   "metadata": {
    "id": "_2eVeeoxyuoS"
   },
   "source": [
    "## Loading Datasets"
   ]
  },
  {
   "cell_type": "code",
   "execution_count": 5,
   "metadata": {
    "id": "0J-NKyIEyuoS"
   },
   "outputs": [
    {
     "data": {
      "text/plain": [
       "0       91.100000\n",
       "1       90.875910\n",
       "2       90.651821\n",
       "3       90.427731\n",
       "4       90.203641\n",
       "          ...    \n",
       "2445    67.339414\n",
       "2446    67.333128\n",
       "2447    67.326843\n",
       "2448    67.320557\n",
       "2449    67.314272\n",
       "Name: C3, Length: 2450, dtype: float64"
      ]
     },
     "execution_count": 5,
     "metadata": {},
     "output_type": "execute_result"
    }
   ],
   "source": [
    "data = pd.read_csv(\"c3_interpolated_2350_100.csv\")\n",
    "training_set = data.iloc[:, 1]\n",
    "training_set"
   ]
  },
  {
   "cell_type": "code",
   "execution_count": 6,
   "metadata": {
    "colab": {
     "base_uri": "https://localhost:8080/"
    },
    "id": "-CbNUhJ74UqF",
    "outputId": "20f562d8-8247-49cc-b9c3-00eca5e13e2d"
   },
   "outputs": [
    {
     "data": {
      "text/plain": [
       "0       91.100000\n",
       "1       90.875910\n",
       "2       90.651821\n",
       "3       90.427731\n",
       "4       90.203641\n",
       "          ...    \n",
       "2345     0.383667\n",
       "2346     0.583870\n",
       "2347     0.599392\n",
       "2348     0.958729\n",
       "2349     0.000000\n",
       "Name: C3, Length: 2350, dtype: float64"
      ]
     },
     "execution_count": 6,
     "metadata": {},
     "output_type": "execute_result"
    }
   ],
   "source": [
    "test = training_set.tail(100)\n",
    "test\n",
    "training_set = training_set.head(2350)\n",
    "training_set"
   ]
  },
  {
   "cell_type": "code",
   "execution_count": 7,
   "metadata": {
    "colab": {
     "base_uri": "https://localhost:8080/"
    },
    "id": "X0TwTcq0yuoS",
    "outputId": "37252ed8-d88e-4044-fa7a-922411990b5b"
   },
   "outputs": [
    {
     "name": "stdout",
     "output_type": "stream",
     "text": [
      "0       0.000298\n",
      "1       0.000298\n",
      "2       0.000297\n",
      "3       0.000297\n",
      "4       0.000297\n",
      "          ...   \n",
      "9995    0.000018\n",
      "9996    0.000018\n",
      "9997    0.000018\n",
      "9998    0.000018\n",
      "9999    0.000018\n",
      "Name: 0, Length: 10000, dtype: float64\n"
     ]
    }
   ],
   "source": [
    "training_set = training_set.reset_index(drop=True)\n",
    "gradient_t = gradient_t.reset_index(drop=True)\n",
    "print(gradient_t)"
   ]
  },
  {
   "cell_type": "code",
   "execution_count": 8,
   "metadata": {
    "id": "O2biznZQyuoS"
   },
   "outputs": [],
   "source": [
    "df = pd.concat((training_set, gradient_t), axis=1)\n",
    "df.columns = ['y_t', 'grad_t']"
   ]
  },
  {
   "cell_type": "code",
   "execution_count": 9,
   "metadata": {
    "colab": {
     "base_uri": "https://localhost:8080/",
     "height": 423
    },
    "id": "sk_a5v3tyuoS",
    "outputId": "17563625-e550-45ae-faab-fafa353e44da"
   },
   "outputs": [
    {
     "data": {
      "text/html": [
       "<div>\n",
       "<style scoped>\n",
       "    .dataframe tbody tr th:only-of-type {\n",
       "        vertical-align: middle;\n",
       "    }\n",
       "\n",
       "    .dataframe tbody tr th {\n",
       "        vertical-align: top;\n",
       "    }\n",
       "\n",
       "    .dataframe thead th {\n",
       "        text-align: right;\n",
       "    }\n",
       "</style>\n",
       "<table border=\"1\" class=\"dataframe\">\n",
       "  <thead>\n",
       "    <tr style=\"text-align: right;\">\n",
       "      <th></th>\n",
       "      <th>y_t</th>\n",
       "      <th>grad_t</th>\n",
       "    </tr>\n",
       "  </thead>\n",
       "  <tbody>\n",
       "    <tr>\n",
       "      <th>0</th>\n",
       "      <td>91.100000</td>\n",
       "      <td>0.000298</td>\n",
       "    </tr>\n",
       "    <tr>\n",
       "      <th>1</th>\n",
       "      <td>90.875910</td>\n",
       "      <td>0.000298</td>\n",
       "    </tr>\n",
       "    <tr>\n",
       "      <th>2</th>\n",
       "      <td>90.651821</td>\n",
       "      <td>0.000297</td>\n",
       "    </tr>\n",
       "    <tr>\n",
       "      <th>3</th>\n",
       "      <td>90.427731</td>\n",
       "      <td>0.000297</td>\n",
       "    </tr>\n",
       "    <tr>\n",
       "      <th>4</th>\n",
       "      <td>90.203641</td>\n",
       "      <td>0.000297</td>\n",
       "    </tr>\n",
       "    <tr>\n",
       "      <th>...</th>\n",
       "      <td>...</td>\n",
       "      <td>...</td>\n",
       "    </tr>\n",
       "    <tr>\n",
       "      <th>9995</th>\n",
       "      <td>NaN</td>\n",
       "      <td>0.000018</td>\n",
       "    </tr>\n",
       "    <tr>\n",
       "      <th>9996</th>\n",
       "      <td>NaN</td>\n",
       "      <td>0.000018</td>\n",
       "    </tr>\n",
       "    <tr>\n",
       "      <th>9997</th>\n",
       "      <td>NaN</td>\n",
       "      <td>0.000018</td>\n",
       "    </tr>\n",
       "    <tr>\n",
       "      <th>9998</th>\n",
       "      <td>NaN</td>\n",
       "      <td>0.000018</td>\n",
       "    </tr>\n",
       "    <tr>\n",
       "      <th>9999</th>\n",
       "      <td>NaN</td>\n",
       "      <td>0.000018</td>\n",
       "    </tr>\n",
       "  </tbody>\n",
       "</table>\n",
       "<p>10000 rows × 2 columns</p>\n",
       "</div>"
      ],
      "text/plain": [
       "            y_t    grad_t\n",
       "0     91.100000  0.000298\n",
       "1     90.875910  0.000298\n",
       "2     90.651821  0.000297\n",
       "3     90.427731  0.000297\n",
       "4     90.203641  0.000297\n",
       "...         ...       ...\n",
       "9995        NaN  0.000018\n",
       "9996        NaN  0.000018\n",
       "9997        NaN  0.000018\n",
       "9998        NaN  0.000018\n",
       "9999        NaN  0.000018\n",
       "\n",
       "[10000 rows x 2 columns]"
      ]
     },
     "execution_count": 9,
     "metadata": {},
     "output_type": "execute_result"
    }
   ],
   "source": [
    "df"
   ]
  },
  {
   "cell_type": "markdown",
   "metadata": {
    "id": "-5esyHu5aFvg"
   },
   "source": [
    "## Plot of the External Forcing from Chaotic Differential Equation"
   ]
  },
  {
   "cell_type": "code",
   "execution_count": 10,
   "metadata": {
    "colab": {
     "base_uri": "https://localhost:8080/",
     "height": 447
    },
    "id": "hGnE43tOh-4p",
    "outputId": "fc396503-b624-4fa5-dfbe-f460207405c6"
   },
   "outputs": [
    {
     "data": {
      "text/plain": [
       "<Axes: >"
      ]
     },
     "execution_count": 10,
     "metadata": {},
     "output_type": "execute_result"
    },
    {
     "data": {
      "image/png": "[encoded data removed]",
      "text/plain": [
       "<Figure size 432x288 with 1 Axes>"
      ]
     },
     "metadata": {
      "needs_background": "light"
     },
     "output_type": "display_data"
    }
   ],
   "source": [
    "df.iloc[:, 0].plot()"
   ]
  },
  {
   "cell_type": "code",
   "execution_count": 11,
   "metadata": {
    "colab": {
     "base_uri": "https://localhost:8080/",
     "height": 447
    },
    "id": "ym4xWUUxaFvg",
    "outputId": "ae6a3495-8ce9-437e-ba81-3ed31deedeae"
   },
   "outputs": [
    {
     "name": "stderr",
     "output_type": "stream",
     "text": [
      "C:\\Users\\Anurag Dutta\\AppData\\Local\\Packages\\PythonSoftwareFoundation.Python.3.9_qbz5n2kfra8p0\\LocalCache\\local-packages\\Python39\\site-packages\\pandas\\core\\arraylike.py:402: RuntimeWarning: divide by zero encountered in log\n",
      "  result = getattr(ufunc, method)(*inputs, **kwargs)\n"
     ]
    },
    {
     "data": {
      "text/plain": [
       "<Axes: >"
      ]
     },
     "execution_count": 11,
     "metadata": {},
     "output_type": "execute_result"
    },
    {
     "data": {
      "image/png": "[encoded data removed]",
      "text/plain": [
       "<Figure size 432x288 with 1 Axes>"
      ]
     },
     "metadata": {
      "needs_background": "light"
     },
     "output_type": "display_data"
    }
   ],
   "source": [
    "import numpy as np\n",
    "c0 = 88.0403  # Value for C0\n",
    "K0 = -0.0012  # Value for K0\n",
    "K1 = -0.0001  # Value for K1\n",
    "a = 0.0000    # Value for a\n",
    "b = 0.0120    # Value for b\n",
    "c = 2.0334    # Value for c\n",
    "\n",
    "L = np.minimum(c0, (df.iloc[:, 1] - (df.iloc[:, 0] * (K0 - K1 * (9 * a * np.log(df.iloc[:, 0] / c0) / (K0 - K1 * c)**2 + 4 * b * np.log(df.iloc[:, 0] / c0) / (K0 - K1 * c) + c)))))\n",
    "L.plot()"
   ]
  },
  {
   "cell_type": "markdown",
   "metadata": {
    "id": "9VyEywnwaFvh"
   },
   "source": [
    "## Preprocessing the data into supervised learning"
   ]
  },
  {
   "cell_type": "code",
   "execution_count": 12,
   "metadata": {
    "id": "6V9dXqzdaFvh"
   },
   "outputs": [],
   "source": [
    "# split a sequence into samples\n",
    "def Supervised(data, n_in=1, n_out=1, dropnan=True):\n",
    "    n_vars = 1 if type(data) is list else data.shape[1]\n",
    "    df = pd.DataFrame(data)\n",
    "    cols, names = list(), list()\n",
    "    # input sequence (t-n_in, ... t-1)\n",
    "    for i in range(n_in, 0, -1):\n",
    "        cols.append(df.shift(i))\n",
    "        names += [('var%d(t-%d)' % (j+1, i)) for j in range(n_vars)]\n",
    "    # forecast sequence (t, t+1, ... t+n_out)\n",
    "    for i in range(0, n_out):\n",
    "      cols.append(df.shift(-i))\n",
    "      if i == 0:\n",
    "        names += [('var%d(t)' % (j+1)) for j in range(n_vars)]\n",
    "      else:\n",
    "        names += [('var%d(t+%d)' % (j+1, i)) for j in range(n_vars)]\n",
    "    # put it all together\n",
    "    agg = pd.concat(cols, axis=1)\n",
    "    agg.columns = names\n",
    "    # drop rows with NaN values\n",
    "    if dropnan:\n",
    "       agg.dropna(inplace=True)\n",
    "    return agg"
   ]
  },
  {
   "cell_type": "code",
   "execution_count": 13,
   "metadata": {
    "colab": {
     "base_uri": "https://localhost:8080/"
    },
    "id": "CrzSrT1HnyfH",
    "outputId": "7e75f928-3e47-499d-eac1-51908015ef78"
   },
   "outputs": [
    {
     "name": "stdout",
     "output_type": "stream",
     "text": [
      "     var1(t-350)  var1(t-349)  var1(t-348)  var1(t-347)  var1(t-346)  \\\n",
      "350    91.100000    90.875910    90.651821    90.427731    90.203641   \n",
      "351    90.875910    90.651821    90.427731    90.203641    89.979552   \n",
      "352    90.651821    90.427731    90.203641    89.979552    89.755462   \n",
      "353    90.427731    90.203641    89.979552    89.755462    89.531373   \n",
      "354    90.203641    89.979552    89.755462    89.531373    89.307283   \n",
      "\n",
      "     var1(t-345)  var1(t-344)  var1(t-343)  var1(t-342)  var1(t-341)  ...  \\\n",
      "350    89.979552    89.755462    89.531373    89.307283    89.094118  ...   \n",
      "351    89.755462    89.531373    89.307283    89.094118    89.015686  ...   \n",
      "352    89.531373    89.307283    89.094118    89.015686    88.937255  ...   \n",
      "353    89.307283    89.094118    89.015686    88.937255    88.858824  ...   \n",
      "354    89.094118    89.015686    88.937255    88.858824    88.780392  ...   \n",
      "\n",
      "     var1(t+95)  var2(t+95)  var1(t+96)  var2(t+96)  var1(t+97)  var2(t+97)  \\\n",
      "350   81.423343    0.000263   81.404669    0.000263   81.385994    0.000263   \n",
      "351   81.404669    0.000263   81.385994    0.000263   81.367320    0.000262   \n",
      "352   81.385994    0.000263   81.367320    0.000262   81.348646    0.000262   \n",
      "353   81.367320    0.000262   81.348646    0.000262   81.329972    0.000262   \n",
      "354   81.348646    0.000262   81.329972    0.000262   81.311298    0.000262   \n",
      "\n",
      "     var1(t+98)  var2(t+98)  var1(t+99)  var2(t+99)  \n",
      "350   81.367320    0.000262   81.348646    0.000262  \n",
      "351   81.348646    0.000262   81.329972    0.000262  \n",
      "352   81.329972    0.000262   81.311298    0.000262  \n",
      "353   81.311298    0.000262   81.292624    0.000262  \n",
      "354   81.292624    0.000262   81.273950    0.000262  \n",
      "\n",
      "[5 rows x 551 columns]\n",
      "Index(['var1(t-350)', 'var1(t-349)', 'var1(t-348)', 'var1(t-347)',\n",
      "       'var1(t-346)', 'var1(t-345)', 'var1(t-344)', 'var1(t-343)',\n",
      "       'var1(t-342)', 'var1(t-341)',\n",
      "       ...\n",
      "       'var1(t+95)', 'var2(t+95)', 'var1(t+96)', 'var2(t+96)', 'var1(t+97)',\n",
      "       'var2(t+97)', 'var1(t+98)', 'var2(t+98)', 'var1(t+99)', 'var2(t+99)'],\n",
      "      dtype='object', length=551)\n"
     ]
    }
   ],
   "source": [
    "data = Supervised(df.values, n_in = 350, n_out = 100)\n",
    "\n",
    "\n",
    "cols_to_drop = []\n",
    "for i in range(2, 351):\n",
    "    cols_to_drop.extend([f'var2(t-{i})'])\n",
    "\n",
    "data.drop(cols_to_drop, axis=1, inplace=True)\n",
    "\n",
    "print(data.head())\n",
    "print(data.columns)"
   ]
  },
  {
   "cell_type": "code",
   "execution_count": 14,
   "metadata": {
    "id": "AfPf60oy6Pe4"
   },
   "outputs": [],
   "source": [
    "train = np.array(data[0:len(data)-1])\n",
    "forecast = np.array(data.tail(1))"
   ]
  },
  {
   "cell_type": "code",
   "execution_count": 15,
   "metadata": {
    "id": "WSAafzI37KiT"
   },
   "outputs": [],
   "source": [
    "trainy = train[:,-300:]\n",
    "trainX = train[:,:-300]"
   ]
  },
  {
   "cell_type": "code",
   "execution_count": 16,
   "metadata": {
    "id": "2SrOqVJA7f50"
   },
   "outputs": [],
   "source": [
    "forecasty = forecast[:,-300:]\n",
    "forecastX = forecast[:,:-300]"
   ]
  },
  {
   "cell_type": "code",
   "execution_count": 17,
   "metadata": {
    "colab": {
     "base_uri": "https://localhost:8080/"
    },
    "id": "Qno_k8Nw7saY",
    "outputId": "c4a88db5-d8c6-489f-cdb2-06b24e293cff"
   },
   "outputs": [
    {
     "name": "stdout",
     "output_type": "stream",
     "text": [
      "(1900, 1, 251) (1900, 300) (1, 1, 251)\n"
     ]
    }
   ],
   "source": [
    "trainX = trainX.reshape((trainX.shape[0], 1, trainX.shape[1]))\n",
    "forecastX = forecastX.reshape((forecastX.shape[0], 1, forecastX.shape[1]))\n",
    "print(trainX.shape, trainy.shape, forecastX.shape)"
   ]
  },
  {
   "cell_type": "code",
   "execution_count": 18,
   "metadata": {
    "colab": {
     "base_uri": "https://localhost:8080/"
    },
    "id": "b1Jp2DvNuNFx",
    "outputId": "d0e5b3c4-64f1-438c-eade-8dfeaac8e285"
   },
   "outputs": [
    {
     "name": "stdout",
     "output_type": "stream",
     "text": [
      "Epoch 1/500\n",
      "24/24 [==============================] - 3s 23ms/step - loss: 5487.4512 - val_loss: 3039.0193\n",
      "Epoch 2/500\n",
      "24/24 [==============================] - 0s 4ms/step - loss: 5095.9644 - val_loss: 2854.2356\n",
      "Epoch 3/500\n",
      "24/24 [==============================] - 0s 4ms/step - loss: 4908.3970 - val_loss: 2778.2014\n",
      "Epoch 4/500\n",
      "24/24 [==============================] - 0s 4ms/step - loss: 4791.5845 - val_loss: 2712.5117\n",
      "Epoch 5/500\n",
      "24/24 [==============================] - 0s 4ms/step - loss: 4665.8394 - val_loss: 2646.6572\n",
      "Epoch 6/500\n",
      "24/24 [==============================] - 0s 4ms/step - loss: 4557.3765 - val_loss: 2589.0481\n",
      "Epoch 7/500\n",
      "24/24 [==============================] - 0s 4ms/step - loss: 4452.9790 - val_loss: 2533.9524\n",
      "Epoch 8/500\n",
      "24/24 [==============================] - 0s 4ms/step - loss: 4351.8550 - val_loss: 2480.9849\n",
      "Epoch 9/500\n",
      "24/24 [==============================] - 0s 4ms/step - loss: 4253.4839 - val_loss: 2429.9214\n",
      "Epoch 10/500\n",
      "24/24 [==============================] - 0s 3ms/step - loss: 4157.5610 - val_loss: 2380.6196\n",
      "Epoch 11/500\n",
      "24/24 [==============================] - 0s 3ms/step - loss: 4063.8892 - val_loss: 2332.9795\n",
      "Epoch 12/500\n",
      "24/24 [==============================] - 0s 3ms/step - loss: 3972.3306 - val_loss: 2286.9255\n",
      "Epoch 13/500\n",
      "24/24 [==============================] - 0s 4ms/step - loss: 3882.7812 - val_loss: 2242.3967\n",
      "Epoch 14/500\n",
      "24/24 [==============================] - 0s 4ms/step - loss: 3795.1592 - val_loss: 2199.3425\n",
      "Epoch 15/500\n",
      "24/24 [==============================] - 0s 4ms/step - loss: 3709.3970 - val_loss: 2157.7185\n",
      "Epoch 16/500\n",
      "24/24 [==============================] - 0s 4ms/step - loss: 3625.4385 - val_loss: 2117.4780\n",
      "Epoch 17/500\n",
      "24/24 [==============================] - 0s 4ms/step - loss: 3543.2295 - val_loss: 2078.5427\n",
      "Epoch 18/500\n",
      "24/24 [==============================] - 0s 4ms/step - loss: 3462.7322 - val_loss: 2040.8882\n",
      "Epoch 19/500\n",
      "24/24 [==============================] - 0s 5ms/step - loss: 3383.9099 - val_loss: 2004.6398\n",
      "Epoch 20/500\n",
      "24/24 [==============================] - 0s 3ms/step - loss: 3306.7224 - val_loss: 1969.9688\n",
      "Epoch 21/500\n",
      "24/24 [==============================] - 0s 4ms/step - loss: 3231.1714 - val_loss: 1935.0092\n",
      "Epoch 22/500\n",
      "24/24 [==============================] - 0s 4ms/step - loss: 3157.1191 - val_loss: 1902.1846\n",
      "Epoch 23/500\n",
      "24/24 [==============================] - 0s 6ms/step - loss: 3084.5669 - val_loss: 1870.0087\n",
      "Epoch 24/500\n",
      "24/24 [==============================] - 0s 5ms/step - loss: 3013.4795 - val_loss: 1838.7799\n",
      "Epoch 25/500\n",
      "24/24 [==============================] - 0s 4ms/step - loss: 2943.9016 - val_loss: 1809.2869\n",
      "Epoch 26/500\n",
      "24/24 [==============================] - 0s 4ms/step - loss: 2875.8289 - val_loss: 1781.3411\n",
      "Epoch 27/500\n",
      "24/24 [==============================] - 0s 4ms/step - loss: 2809.2834 - val_loss: 1754.3948\n",
      "Epoch 28/500\n",
      "24/24 [==============================] - 0s 5ms/step - loss: 2744.1267 - val_loss: 1727.6790\n",
      "Epoch 29/500\n",
      "24/24 [==============================] - 0s 6ms/step - loss: 2680.5029 - val_loss: 1705.1064\n",
      "Epoch 30/500\n",
      "24/24 [==============================] - 0s 6ms/step - loss: 2617.6003 - val_loss: 1679.0643\n",
      "Epoch 31/500\n",
      "24/24 [==============================] - 0s 4ms/step - loss: 2556.1379 - val_loss: 1654.6851\n",
      "Epoch 32/500\n",
      "24/24 [==============================] - 0s 5ms/step - loss: 2496.3923 - val_loss: 1630.0894\n",
      "Epoch 33/500\n",
      "24/24 [==============================] - 0s 5ms/step - loss: 2439.4514 - val_loss: 1618.6218\n",
      "Epoch 34/500\n",
      "24/24 [==============================] - 0s 6ms/step - loss: 2381.8293 - val_loss: 1598.9537\n",
      "Epoch 35/500\n",
      "24/24 [==============================] - 0s 6ms/step - loss: 2325.9656 - val_loss: 1580.2283\n",
      "Epoch 36/500\n",
      "24/24 [==============================] - 0s 6ms/step - loss: 2271.3450 - val_loss: 1562.4255\n",
      "Epoch 37/500\n",
      "24/24 [==============================] - 0s 6ms/step - loss: 2217.9468 - val_loss: 1545.5259\n",
      "Epoch 38/500\n",
      "24/24 [==============================] - 0s 7ms/step - loss: 2165.7517 - val_loss: 1529.5118\n",
      "Epoch 39/500\n",
      "24/24 [==============================] - 0s 6ms/step - loss: 2114.7412 - val_loss: 1514.3646\n",
      "Epoch 40/500\n",
      "24/24 [==============================] - 0s 6ms/step - loss: 2064.8960 - val_loss: 1500.0654\n",
      "Epoch 41/500\n",
      "24/24 [==============================] - 0s 8ms/step - loss: 2016.1975 - val_loss: 1486.5962\n",
      "Epoch 42/500\n",
      "24/24 [==============================] - 0s 8ms/step - loss: 1968.6273 - val_loss: 1473.9459\n",
      "Epoch 43/500\n",
      "24/24 [==============================] - 0s 8ms/step - loss: 1922.1249 - val_loss: 1459.6234\n",
      "Epoch 44/500\n",
      "24/24 [==============================] - 0s 9ms/step - loss: 1922.5378 - val_loss: 1464.0094\n",
      "Epoch 45/500\n",
      "24/24 [==============================] - 0s 8ms/step - loss: 1883.4139 - val_loss: 1452.9926\n",
      "Epoch 46/500\n",
      "24/24 [==============================] - 0s 7ms/step - loss: 1839.6193 - val_loss: 1442.7150\n",
      "Epoch 47/500\n",
      "24/24 [==============================] - 0s 8ms/step - loss: 1796.8502 - val_loss: 1433.1654\n",
      "Epoch 48/500\n",
      "24/24 [==============================] - 0s 8ms/step - loss: 1755.1003 - val_loss: 1424.3281\n",
      "Epoch 49/500\n",
      "24/24 [==============================] - 0s 7ms/step - loss: 1714.3524 - val_loss: 1416.1870\n",
      "Epoch 50/500\n",
      "24/24 [==============================] - 0s 8ms/step - loss: 1674.5901 - val_loss: 1408.7257\n",
      "Epoch 51/500\n",
      "24/24 [==============================] - 0s 6ms/step - loss: 1635.7968 - val_loss: 1401.9281\n",
      "Epoch 52/500\n",
      "24/24 [==============================] - 0s 6ms/step - loss: 1597.9550 - val_loss: 1395.7786\n",
      "Epoch 53/500\n",
      "24/24 [==============================] - 0s 5ms/step - loss: 1561.0491 - val_loss: 1390.2614\n",
      "Epoch 54/500\n",
      "24/24 [==============================] - 0s 6ms/step - loss: 1525.0620 - val_loss: 1385.2257\n",
      "Epoch 55/500\n",
      "24/24 [==============================] - 0s 6ms/step - loss: 1487.3210 - val_loss: 1380.3541\n",
      "Epoch 56/500\n",
      "24/24 [==============================] - 0s 7ms/step - loss: 1447.8376 - val_loss: 1376.3147\n",
      "Epoch 57/500\n",
      "24/24 [==============================] - 0s 6ms/step - loss: 1410.6378 - val_loss: 1373.0815\n",
      "Epoch 58/500\n",
      "24/24 [==============================] - 0s 6ms/step - loss: 1375.2500 - val_loss: 1370.5526\n",
      "Epoch 59/500\n",
      "24/24 [==============================] - 0s 6ms/step - loss: 1341.3124 - val_loss: 1368.6753\n",
      "Epoch 60/500\n",
      "24/24 [==============================] - 0s 6ms/step - loss: 1308.6312 - val_loss: 1367.4094\n",
      "Epoch 61/500\n",
      "24/24 [==============================] - 0s 6ms/step - loss: 1277.0884 - val_loss: 1366.7236\n",
      "Epoch 62/500\n",
      "24/24 [==============================] - 0s 5ms/step - loss: 1246.6029 - val_loss: 1366.5903\n",
      "Epoch 63/500\n",
      "24/24 [==============================] - 0s 4ms/step - loss: 1217.1145 - val_loss: 1366.9847\n",
      "Epoch 64/500\n",
      "24/24 [==============================] - 0s 4ms/step - loss: 1188.5748 - val_loss: 1367.8838\n",
      "Epoch 65/500\n",
      "24/24 [==============================] - 0s 5ms/step - loss: 1160.9440 - val_loss: 1369.2644\n",
      "Epoch 66/500\n",
      "24/24 [==============================] - 0s 7ms/step - loss: 1134.1877 - val_loss: 1371.1029\n",
      "Epoch 67/500\n",
      "24/24 [==============================] - 0s 10ms/step - loss: 1108.2750 - val_loss: 1373.3727\n",
      "Epoch 68/500\n",
      "24/24 [==============================] - 0s 6ms/step - loss: 1083.1792 - val_loss: 1376.0354\n",
      "Epoch 69/500\n",
      "24/24 [==============================] - 0s 5ms/step - loss: 1058.8745 - val_loss: 1379.0084\n",
      "Epoch 70/500\n",
      "24/24 [==============================] - 0s 5ms/step - loss: 1035.3330 - val_loss: 1381.1093\n",
      "Epoch 71/500\n",
      "24/24 [==============================] - 0s 4ms/step - loss: 1009.6795 - val_loss: 1369.3657\n",
      "Epoch 72/500\n",
      "24/24 [==============================] - 0s 4ms/step - loss: 1046.0404 - val_loss: 1385.1885\n",
      "Epoch 73/500\n",
      "24/24 [==============================] - 0s 4ms/step - loss: 1023.1776 - val_loss: 1389.1971\n",
      "Epoch 74/500\n",
      "24/24 [==============================] - 0s 4ms/step - loss: 1000.8890 - val_loss: 1393.4507\n",
      "Epoch 75/500\n",
      "24/24 [==============================] - 0s 5ms/step - loss: 979.2999 - val_loss: 1398.0468\n",
      "Epoch 76/500\n",
      "24/24 [==============================] - 0s 4ms/step - loss: 958.4036 - val_loss: 1402.9840\n",
      "Epoch 77/500\n",
      "24/24 [==============================] - 0s 4ms/step - loss: 938.1816 - val_loss: 1408.2496\n",
      "Epoch 78/500\n",
      "24/24 [==============================] - 0s 4ms/step - loss: 918.6169 - val_loss: 1413.8286\n",
      "Epoch 79/500\n",
      "24/24 [==============================] - 0s 4ms/step - loss: 899.6920 - val_loss: 1419.7069\n",
      "Epoch 80/500\n",
      "24/24 [==============================] - 0s 6ms/step - loss: 881.3899 - val_loss: 1425.8706\n",
      "Epoch 81/500\n",
      "24/24 [==============================] - 0s 5ms/step - loss: 863.6946 - val_loss: 1432.3059\n",
      "Epoch 82/500\n",
      "24/24 [==============================] - 0s 5ms/step - loss: 846.5900 - val_loss: 1438.9996\n",
      "Epoch 83/500\n",
      "24/24 [==============================] - 0s 4ms/step - loss: 830.0612 - val_loss: 1445.9379\n",
      "Epoch 84/500\n",
      "24/24 [==============================] - 0s 5ms/step - loss: 814.0927 - val_loss: 1453.1088\n",
      "Epoch 85/500\n",
      "24/24 [==============================] - 0s 5ms/step - loss: 798.6697 - val_loss: 1460.4985\n",
      "Epoch 86/500\n",
      "24/24 [==============================] - 0s 4ms/step - loss: 783.7784 - val_loss: 1468.0953\n",
      "Epoch 87/500\n",
      "24/24 [==============================] - 0s 4ms/step - loss: 769.4044 - val_loss: 1475.8868\n",
      "Epoch 88/500\n",
      "24/24 [==============================] - 0s 4ms/step - loss: 755.5337 - val_loss: 1483.8607\n",
      "Epoch 89/500\n",
      "24/24 [==============================] - 0s 4ms/step - loss: 742.1532 - val_loss: 1492.0054\n",
      "Epoch 90/500\n",
      "24/24 [==============================] - 0s 5ms/step - loss: 729.2496 - val_loss: 1500.3092\n",
      "Epoch 91/500\n",
      "24/24 [==============================] - 0s 4ms/step - loss: 716.8099 - val_loss: 1508.7605\n",
      "Epoch 92/500\n",
      "24/24 [==============================] - 0s 6ms/step - loss: 704.8217 - val_loss: 1517.3485\n",
      "Epoch 93/500\n",
      "24/24 [==============================] - 0s 7ms/step - loss: 693.2717 - val_loss: 1526.0620\n",
      "Epoch 94/500\n",
      "24/24 [==============================] - 0s 6ms/step - loss: 682.1487 - val_loss: 1534.8905\n",
      "Epoch 95/500\n",
      "24/24 [==============================] - 0s 6ms/step - loss: 671.4402 - val_loss: 1543.8225\n",
      "Epoch 96/500\n",
      "24/24 [==============================] - 0s 6ms/step - loss: 661.1347 - val_loss: 1552.8489\n",
      "Epoch 97/500\n",
      "24/24 [==============================] - 0s 6ms/step - loss: 651.2202 - val_loss: 1561.9589\n",
      "Epoch 98/500\n",
      "24/24 [==============================] - 0s 4ms/step - loss: 641.6857 - val_loss: 1571.1429\n",
      "Epoch 99/500\n",
      "24/24 [==============================] - 0s 3ms/step - loss: 632.5200 - val_loss: 1580.3910\n",
      "Epoch 100/500\n",
      "24/24 [==============================] - 0s 4ms/step - loss: 623.7122 - val_loss: 1589.6936\n",
      "Epoch 101/500\n",
      "24/24 [==============================] - 0s 4ms/step - loss: 615.2516 - val_loss: 1599.0421\n",
      "Epoch 102/500\n",
      "24/24 [==============================] - 0s 4ms/step - loss: 607.1277 - val_loss: 1608.4268\n",
      "Epoch 103/500\n",
      "24/24 [==============================] - 0s 6ms/step - loss: 599.3302 - val_loss: 1617.8386\n",
      "Epoch 104/500\n",
      "24/24 [==============================] - 0s 5ms/step - loss: 591.8489 - val_loss: 1627.2700\n",
      "Epoch 105/500\n",
      "24/24 [==============================] - 0s 4ms/step - loss: 584.6740 - val_loss: 1636.7125\n",
      "Epoch 106/500\n",
      "24/24 [==============================] - 0s 4ms/step - loss: 577.7957 - val_loss: 1646.1571\n",
      "Epoch 107/500\n",
      "24/24 [==============================] - 0s 4ms/step - loss: 571.2043 - val_loss: 1655.5964\n",
      "Epoch 108/500\n",
      "24/24 [==============================] - 0s 4ms/step - loss: 564.8910 - val_loss: 1665.0223\n",
      "Epoch 109/500\n",
      "24/24 [==============================] - 0s 4ms/step - loss: 558.8462 - val_loss: 1674.4280\n",
      "Epoch 110/500\n",
      "24/24 [==============================] - 0s 11ms/step - loss: 553.0609 - val_loss: 1683.8063\n",
      "Epoch 111/500\n",
      "24/24 [==============================] - 0s 4ms/step - loss: 547.5265 - val_loss: 1693.1497\n",
      "Epoch 112/500\n",
      "24/24 [==============================] - 0s 4ms/step - loss: 542.2346 - val_loss: 1702.4520\n",
      "Epoch 113/500\n",
      "24/24 [==============================] - 0s 4ms/step - loss: 537.1763 - val_loss: 1711.7063\n",
      "Epoch 114/500\n",
      "24/24 [==============================] - 0s 4ms/step - loss: 532.3441 - val_loss: 1720.9066\n",
      "Epoch 115/500\n",
      "24/24 [==============================] - 0s 4ms/step - loss: 527.7294 - val_loss: 1730.0468\n",
      "Epoch 116/500\n",
      "24/24 [==============================] - 0s 4ms/step - loss: 523.3246 - val_loss: 1739.1204\n",
      "Epoch 117/500\n",
      "24/24 [==============================] - 0s 4ms/step - loss: 519.1219 - val_loss: 1748.1227\n",
      "Epoch 118/500\n",
      "24/24 [==============================] - 0s 4ms/step - loss: 515.1141 - val_loss: 1757.0482\n",
      "Epoch 119/500\n",
      "24/24 [==============================] - 0s 4ms/step - loss: 511.2936 - val_loss: 1765.8922\n",
      "Epoch 120/500\n",
      "24/24 [==============================] - 0s 4ms/step - loss: 507.6536 - val_loss: 1774.6483\n",
      "Epoch 121/500\n",
      "24/24 [==============================] - 0s 4ms/step - loss: 504.1870 - val_loss: 1783.3143\n",
      "Epoch 122/500\n",
      "24/24 [==============================] - 0s 3ms/step - loss: 500.8871 - val_loss: 1791.8835\n",
      "Epoch 123/500\n",
      "24/24 [==============================] - 0s 4ms/step - loss: 497.7473 - val_loss: 1800.3536\n",
      "Epoch 124/500\n",
      "24/24 [==============================] - 0s 4ms/step - loss: 494.7613 - val_loss: 1808.7197\n",
      "Epoch 125/500\n",
      "24/24 [==============================] - 0s 3ms/step - loss: 491.9228 - val_loss: 1816.9783\n",
      "Epoch 126/500\n",
      "24/24 [==============================] - 0s 4ms/step - loss: 489.2258 - val_loss: 1825.1254\n",
      "Epoch 127/500\n",
      "24/24 [==============================] - 0s 4ms/step - loss: 486.6643 - val_loss: 1833.1589\n",
      "Epoch 128/500\n",
      "24/24 [==============================] - 0s 4ms/step - loss: 484.2328 - val_loss: 1841.0748\n",
      "Epoch 129/500\n",
      "24/24 [==============================] - 0s 4ms/step - loss: 481.9259 - val_loss: 1848.8707\n",
      "Epoch 130/500\n",
      "24/24 [==============================] - 0s 4ms/step - loss: 479.7380 - val_loss: 1856.5444\n",
      "Epoch 131/500\n",
      "24/24 [==============================] - 0s 4ms/step - loss: 477.6640 - val_loss: 1864.0941\n",
      "Epoch 132/500\n",
      "24/24 [==============================] - 0s 4ms/step - loss: 475.6987 - val_loss: 1871.5161\n",
      "Epoch 133/500\n",
      "24/24 [==============================] - 0s 4ms/step - loss: 473.8376 - val_loss: 1878.8097\n",
      "Epoch 134/500\n",
      "24/24 [==============================] - 0s 5ms/step - loss: 472.0757 - val_loss: 1885.9724\n",
      "Epoch 135/500\n",
      "24/24 [==============================] - 0s 4ms/step - loss: 470.4088 - val_loss: 1893.0028\n",
      "Epoch 136/500\n",
      "24/24 [==============================] - 0s 4ms/step - loss: 468.8320 - val_loss: 1899.9009\n",
      "Epoch 137/500\n",
      "24/24 [==============================] - 0s 4ms/step - loss: 467.3416 - val_loss: 1906.6638\n",
      "Epoch 138/500\n",
      "24/24 [==============================] - 0s 4ms/step - loss: 465.9331 - val_loss: 1913.2917\n",
      "Epoch 139/500\n",
      "24/24 [==============================] - 0s 4ms/step - loss: 464.6028 - val_loss: 1919.7841\n",
      "Epoch 140/500\n",
      "24/24 [==============================] - 0s 4ms/step - loss: 463.3468 - val_loss: 1926.1395\n",
      "Epoch 141/500\n",
      "24/24 [==============================] - 0s 4ms/step - loss: 462.1617 - val_loss: 1932.3580\n",
      "Epoch 142/500\n",
      "24/24 [==============================] - 0s 4ms/step - loss: 461.0437 - val_loss: 1938.4395\n",
      "Epoch 143/500\n",
      "24/24 [==============================] - 0s 4ms/step - loss: 459.9896 - val_loss: 1944.3842\n",
      "Epoch 144/500\n",
      "24/24 [==============================] - 0s 4ms/step - loss: 458.9961 - val_loss: 1950.1919\n",
      "Epoch 145/500\n",
      "24/24 [==============================] - 0s 4ms/step - loss: 458.0601 - val_loss: 1955.8641\n",
      "Epoch 146/500\n",
      "24/24 [==============================] - 0s 4ms/step - loss: 457.1786 - val_loss: 1961.3982\n",
      "Epoch 147/500\n",
      "24/24 [==============================] - 0s 4ms/step - loss: 456.3489 - val_loss: 1966.7974\n",
      "Epoch 148/500\n",
      "24/24 [==============================] - 0s 3ms/step - loss: 455.5681 - val_loss: 1972.0620\n",
      "Epoch 149/500\n",
      "24/24 [==============================] - 0s 4ms/step - loss: 454.8338 - val_loss: 1977.1931\n",
      "Epoch 150/500\n",
      "24/24 [==============================] - 0s 4ms/step - loss: 454.1432 - val_loss: 1982.1904\n",
      "Epoch 151/500\n",
      "24/24 [==============================] - 0s 3ms/step - loss: 453.4942 - val_loss: 1987.0563\n",
      "Epoch 152/500\n",
      "24/24 [==============================] - 0s 4ms/step - loss: 452.8844 - val_loss: 1991.7916\n",
      "Epoch 153/500\n",
      "24/24 [==============================] - 0s 4ms/step - loss: 452.3115 - val_loss: 1996.3976\n",
      "Epoch 154/500\n",
      "24/24 [==============================] - 0s 4ms/step - loss: 451.7736 - val_loss: 2000.8756\n",
      "Epoch 155/500\n",
      "24/24 [==============================] - 0s 4ms/step - loss: 451.2687 - val_loss: 2005.2273\n",
      "Epoch 156/500\n",
      "24/24 [==============================] - 0s 10ms/step - loss: 450.7951 - val_loss: 2009.4540\n",
      "Epoch 157/500\n",
      "24/24 [==============================] - 0s 4ms/step - loss: 450.3506 - val_loss: 2013.5577\n",
      "Epoch 158/500\n",
      "24/24 [==============================] - 0s 4ms/step - loss: 449.9338 - val_loss: 2017.5406\n",
      "Epoch 159/500\n",
      "24/24 [==============================] - 0s 4ms/step - loss: 449.5431 - val_loss: 2021.4036\n",
      "Epoch 160/500\n",
      "24/24 [==============================] - 0s 5ms/step - loss: 449.1770 - val_loss: 2025.1488\n",
      "Epoch 161/500\n",
      "24/24 [==============================] - 0s 4ms/step - loss: 448.8338 - val_loss: 2028.7797\n",
      "Epoch 162/500\n",
      "24/24 [==============================] - 0s 3ms/step - loss: 448.5122 - val_loss: 2032.2965\n",
      "Epoch 163/500\n",
      "24/24 [==============================] - 0s 4ms/step - loss: 448.2110 - val_loss: 2035.7013\n",
      "Epoch 164/500\n",
      "24/24 [==============================] - 0s 3ms/step - loss: 447.9291 - val_loss: 2038.9968\n",
      "Epoch 165/500\n",
      "24/24 [==============================] - 0s 3ms/step - loss: 447.6650 - val_loss: 2042.1857\n",
      "Epoch 166/500\n",
      "24/24 [==============================] - 0s 4ms/step - loss: 447.4179 - val_loss: 2045.2683\n",
      "Epoch 167/500\n",
      "24/24 [==============================] - 0s 4ms/step - loss: 447.1868 - val_loss: 2048.2498\n",
      "Epoch 168/500\n",
      "24/24 [==============================] - 0s 5ms/step - loss: 446.9703 - val_loss: 2051.1304\n",
      "Epoch 169/500\n",
      "24/24 [==============================] - 0s 4ms/step - loss: 446.7677 - val_loss: 2053.9116\n",
      "Epoch 170/500\n",
      "24/24 [==============================] - 0s 4ms/step - loss: 446.5782 - val_loss: 2056.5972\n",
      "Epoch 171/500\n",
      "24/24 [==============================] - 0s 4ms/step - loss: 446.4011 - val_loss: 2059.1887\n",
      "Epoch 172/500\n",
      "24/24 [==============================] - 0s 3ms/step - loss: 446.2353 - val_loss: 2061.6887\n",
      "Epoch 173/500\n",
      "24/24 [==============================] - 0s 4ms/step - loss: 446.0804 - val_loss: 2064.1001\n",
      "Epoch 174/500\n",
      "24/24 [==============================] - 0s 4ms/step - loss: 445.9353 - val_loss: 2066.4241\n",
      "Epoch 175/500\n",
      "24/24 [==============================] - 0s 4ms/step - loss: 445.7999 - val_loss: 2068.6628\n",
      "Epoch 176/500\n",
      "24/24 [==============================] - 0s 4ms/step - loss: 445.6731 - val_loss: 2070.8208\n",
      "Epoch 177/500\n",
      "24/24 [==============================] - 0s 3ms/step - loss: 445.5545 - val_loss: 2072.8970\n",
      "Epoch 178/500\n",
      "24/24 [==============================] - 0s 4ms/step - loss: 445.4436 - val_loss: 2074.8962\n",
      "Epoch 179/500\n",
      "24/24 [==============================] - 0s 4ms/step - loss: 445.3400 - val_loss: 2076.8198\n",
      "Epoch 180/500\n",
      "24/24 [==============================] - 0s 5ms/step - loss: 445.2430 - val_loss: 2078.6685\n",
      "Epoch 181/500\n",
      "24/24 [==============================] - 0s 5ms/step - loss: 445.1524 - val_loss: 2080.4470\n",
      "Epoch 182/500\n",
      "24/24 [==============================] - 0s 4ms/step - loss: 445.0677 - val_loss: 2082.1570\n",
      "Epoch 183/500\n",
      "24/24 [==============================] - 0s 5ms/step - loss: 444.9884 - val_loss: 2083.7986\n",
      "Epoch 184/500\n",
      "24/24 [==============================] - 0s 4ms/step - loss: 444.9143 - val_loss: 2085.3757\n",
      "Epoch 185/500\n",
      "24/24 [==============================] - 0s 5ms/step - loss: 444.8448 - val_loss: 2086.8894\n",
      "Epoch 186/500\n",
      "24/24 [==============================] - 0s 5ms/step - loss: 444.7800 - val_loss: 2088.3416\n",
      "Epoch 187/500\n",
      "24/24 [==============================] - 0s 5ms/step - loss: 444.7194 - val_loss: 2089.7363\n",
      "Epoch 188/500\n",
      "24/24 [==============================] - 0s 5ms/step - loss: 444.6626 - val_loss: 2091.0723\n",
      "Epoch 189/500\n",
      "24/24 [==============================] - 0s 5ms/step - loss: 444.6095 - val_loss: 2092.3535\n",
      "Epoch 190/500\n",
      "24/24 [==============================] - 0s 5ms/step - loss: 444.5599 - val_loss: 2093.5830\n",
      "Epoch 191/500\n",
      "24/24 [==============================] - 0s 11ms/step - loss: 444.5133 - val_loss: 2094.7605\n",
      "Epoch 192/500\n",
      "24/24 [==============================] - 0s 5ms/step - loss: 444.4698 - val_loss: 2095.8879\n",
      "Epoch 193/500\n",
      "24/24 [==============================] - 0s 5ms/step - loss: 444.4290 - val_loss: 2096.9670\n",
      "Epoch 194/500\n",
      "24/24 [==============================] - 0s 5ms/step - loss: 444.3909 - val_loss: 2098.0012\n",
      "Epoch 195/500\n",
      "24/24 [==============================] - 0s 5ms/step - loss: 444.3551 - val_loss: 2098.9893\n",
      "Epoch 196/500\n",
      "24/24 [==============================] - 0s 5ms/step - loss: 444.3216 - val_loss: 2099.9370\n",
      "Epoch 197/500\n",
      "24/24 [==============================] - 0s 5ms/step - loss: 444.2903 - val_loss: 2100.8416\n",
      "Epoch 198/500\n",
      "24/24 [==============================] - 0s 5ms/step - loss: 444.2609 - val_loss: 2101.7070\n",
      "Epoch 199/500\n",
      "24/24 [==============================] - 0s 5ms/step - loss: 444.2334 - val_loss: 2102.5342\n",
      "Epoch 200/500\n",
      "24/24 [==============================] - 0s 5ms/step - loss: 444.2076 - val_loss: 2103.3245\n",
      "Epoch 201/500\n",
      "24/24 [==============================] - 0s 5ms/step - loss: 444.1834 - val_loss: 2104.0791\n",
      "Epoch 202/500\n",
      "24/24 [==============================] - 0s 4ms/step - loss: 444.1608 - val_loss: 2104.7996\n",
      "Epoch 203/500\n",
      "24/24 [==============================] - 0s 4ms/step - loss: 444.1396 - val_loss: 2105.4883\n",
      "Epoch 204/500\n",
      "24/24 [==============================] - 0s 4ms/step - loss: 444.1198 - val_loss: 2106.1455\n",
      "Epoch 205/500\n",
      "24/24 [==============================] - 0s 5ms/step - loss: 444.1010 - val_loss: 2106.7734\n",
      "Epoch 206/500\n",
      "24/24 [==============================] - 0s 5ms/step - loss: 444.0836 - val_loss: 2107.3718\n",
      "Epoch 207/500\n",
      "24/24 [==============================] - 0s 5ms/step - loss: 444.0671 - val_loss: 2107.9421\n",
      "Epoch 208/500\n",
      "24/24 [==============================] - 0s 4ms/step - loss: 444.0517 - val_loss: 2108.4868\n",
      "Epoch 209/500\n",
      "24/24 [==============================] - 0s 5ms/step - loss: 444.0373 - val_loss: 2109.0054\n",
      "Epoch 210/500\n",
      "24/24 [==============================] - 0s 4ms/step - loss: 444.0238 - val_loss: 2109.4995\n",
      "Epoch 211/500\n",
      "24/24 [==============================] - 0s 4ms/step - loss: 444.0110 - val_loss: 2109.9714\n",
      "Epoch 212/500\n",
      "24/24 [==============================] - 0s 4ms/step - loss: 443.9993 - val_loss: 2110.4204\n",
      "Epoch 213/500\n",
      "24/24 [==============================] - 0s 5ms/step - loss: 443.9881 - val_loss: 2110.8486\n",
      "Epoch 214/500\n",
      "24/24 [==============================] - 0s 5ms/step - loss: 443.9775 - val_loss: 2111.2559\n",
      "Epoch 215/500\n",
      "24/24 [==============================] - 0s 5ms/step - loss: 443.9677 - val_loss: 2111.6433\n",
      "Epoch 216/500\n",
      "24/24 [==============================] - 0s 4ms/step - loss: 443.9585 - val_loss: 2112.0132\n",
      "Epoch 217/500\n",
      "24/24 [==============================] - 0s 4ms/step - loss: 443.9499 - val_loss: 2112.3643\n",
      "Epoch 218/500\n",
      "24/24 [==============================] - 0s 4ms/step - loss: 443.9418 - val_loss: 2112.6987\n",
      "Epoch 219/500\n",
      "24/24 [==============================] - 0s 4ms/step - loss: 443.9341 - val_loss: 2113.0164\n",
      "Epoch 220/500\n",
      "24/24 [==============================] - 0s 4ms/step - loss: 443.9271 - val_loss: 2113.3188\n",
      "Epoch 221/500\n",
      "24/24 [==============================] - 0s 5ms/step - loss: 443.9202 - val_loss: 2113.6062\n",
      "Epoch 222/500\n",
      "24/24 [==============================] - 0s 5ms/step - loss: 443.9140 - val_loss: 2113.8799\n",
      "Epoch 223/500\n",
      "24/24 [==============================] - 0s 11ms/step - loss: 443.9081 - val_loss: 2114.1394\n",
      "Epoch 224/500\n",
      "24/24 [==============================] - 0s 6ms/step - loss: 443.9026 - val_loss: 2114.3855\n",
      "Epoch 225/500\n",
      "24/24 [==============================] - 0s 5ms/step - loss: 443.8975 - val_loss: 2114.6213\n",
      "Epoch 226/500\n",
      "24/24 [==============================] - 0s 5ms/step - loss: 443.8927 - val_loss: 2114.8455\n",
      "Epoch 227/500\n",
      "24/24 [==============================] - 0s 5ms/step - loss: 443.8882 - val_loss: 2115.0566\n",
      "Epoch 228/500\n",
      "24/24 [==============================] - 0s 4ms/step - loss: 443.8839 - val_loss: 2115.2568\n",
      "Epoch 229/500\n",
      "24/24 [==============================] - 0s 4ms/step - loss: 443.8799 - val_loss: 2115.4478\n",
      "Epoch 230/500\n",
      "24/24 [==============================] - 0s 5ms/step - loss: 443.8762 - val_loss: 2115.6304\n",
      "Epoch 231/500\n",
      "24/24 [==============================] - 0s 4ms/step - loss: 443.8727 - val_loss: 2115.8005\n",
      "Epoch 232/500\n",
      "24/24 [==============================] - 0s 5ms/step - loss: 443.8694 - val_loss: 2115.9639\n",
      "Epoch 233/500\n",
      "24/24 [==============================] - 0s 4ms/step - loss: 443.8665 - val_loss: 2116.1194\n",
      "Epoch 234/500\n",
      "24/24 [==============================] - 0s 5ms/step - loss: 443.8636 - val_loss: 2116.2656\n",
      "Epoch 235/500\n",
      "24/24 [==============================] - 0s 5ms/step - loss: 443.8610 - val_loss: 2116.4060\n",
      "Epoch 236/500\n",
      "24/24 [==============================] - 0s 4ms/step - loss: 443.8585 - val_loss: 2116.5376\n",
      "Epoch 237/500\n",
      "24/24 [==============================] - 0s 4ms/step - loss: 443.8563 - val_loss: 2116.6636\n",
      "Epoch 238/500\n",
      "24/24 [==============================] - 0s 5ms/step - loss: 443.8540 - val_loss: 2116.7817\n",
      "Epoch 239/500\n",
      "24/24 [==============================] - 0s 5ms/step - loss: 443.8521 - val_loss: 2116.8945\n",
      "Epoch 240/500\n",
      "24/24 [==============================] - 0s 4ms/step - loss: 443.8503 - val_loss: 2117.0017\n",
      "Epoch 241/500\n",
      "24/24 [==============================] - 0s 4ms/step - loss: 443.8485 - val_loss: 2117.1028\n",
      "Epoch 242/500\n",
      "24/24 [==============================] - 0s 4ms/step - loss: 443.8469 - val_loss: 2117.1992\n",
      "Epoch 243/500\n",
      "24/24 [==============================] - 0s 5ms/step - loss: 443.8455 - val_loss: 2117.2905\n",
      "Epoch 244/500\n",
      "24/24 [==============================] - 0s 4ms/step - loss: 443.8440 - val_loss: 2117.3762\n",
      "Epoch 245/500\n",
      "24/24 [==============================] - 0s 4ms/step - loss: 443.8428 - val_loss: 2117.4578\n",
      "Epoch 246/500\n",
      "24/24 [==============================] - 0s 4ms/step - loss: 443.8416 - val_loss: 2117.5364\n",
      "Epoch 247/500\n",
      "24/24 [==============================] - 0s 8ms/step - loss: 443.8404 - val_loss: 2117.6089\n",
      "Epoch 248/500\n",
      "24/24 [==============================] - 0s 5ms/step - loss: 443.8394 - val_loss: 2117.6775\n",
      "Epoch 249/500\n",
      "24/24 [==============================] - 0s 5ms/step - loss: 443.8384 - val_loss: 2117.7427\n",
      "Epoch 250/500\n",
      "24/24 [==============================] - 0s 5ms/step - loss: 443.8377 - val_loss: 2117.8047\n",
      "Epoch 251/500\n",
      "24/24 [==============================] - 0s 4ms/step - loss: 443.8369 - val_loss: 2117.8625\n",
      "Epoch 252/500\n",
      "24/24 [==============================] - 0s 11ms/step - loss: 443.8362 - val_loss: 2117.9189\n",
      "Epoch 253/500\n",
      "24/24 [==============================] - 0s 5ms/step - loss: 443.8355 - val_loss: 2117.9719\n",
      "Epoch 254/500\n",
      "24/24 [==============================] - 0s 5ms/step - loss: 443.8349 - val_loss: 2118.0215\n",
      "Epoch 255/500\n",
      "24/24 [==============================] - 0s 5ms/step - loss: 443.8344 - val_loss: 2118.0693\n",
      "Epoch 256/500\n",
      "24/24 [==============================] - 0s 5ms/step - loss: 443.8340 - val_loss: 2118.1143\n",
      "Epoch 257/500\n",
      "24/24 [==============================] - 0s 5ms/step - loss: 443.8335 - val_loss: 2118.1560\n",
      "Epoch 258/500\n",
      "24/24 [==============================] - 0s 5ms/step - loss: 443.8331 - val_loss: 2118.1965\n",
      "Epoch 259/500\n",
      "24/24 [==============================] - 0s 4ms/step - loss: 443.8326 - val_loss: 2118.2341\n",
      "Epoch 260/500\n",
      "24/24 [==============================] - 0s 4ms/step - loss: 443.8324 - val_loss: 2118.2700\n",
      "Epoch 261/500\n",
      "24/24 [==============================] - 0s 5ms/step - loss: 443.8322 - val_loss: 2118.3052\n",
      "Epoch 262/500\n",
      "24/24 [==============================] - 0s 4ms/step - loss: 443.8318 - val_loss: 2118.3364\n",
      "Epoch 263/500\n",
      "24/24 [==============================] - 0s 5ms/step - loss: 443.8315 - val_loss: 2118.3665\n",
      "Epoch 264/500\n",
      "24/24 [==============================] - 0s 4ms/step - loss: 443.8313 - val_loss: 2118.3955\n",
      "Epoch 265/500\n",
      "24/24 [==============================] - 0s 5ms/step - loss: 443.8313 - val_loss: 2118.4229\n",
      "Epoch 266/500\n",
      "24/24 [==============================] - 0s 4ms/step - loss: 443.8312 - val_loss: 2118.4490\n",
      "Epoch 267/500\n",
      "24/24 [==============================] - 0s 5ms/step - loss: 443.8309 - val_loss: 2118.4731\n",
      "Epoch 268/500\n",
      "24/24 [==============================] - 0s 4ms/step - loss: 443.8308 - val_loss: 2118.4963\n",
      "Epoch 269/500\n",
      "24/24 [==============================] - 0s 5ms/step - loss: 443.8307 - val_loss: 2118.5178\n",
      "Epoch 270/500\n",
      "24/24 [==============================] - 0s 5ms/step - loss: 443.8308 - val_loss: 2118.5388\n",
      "Epoch 271/500\n",
      "24/24 [==============================] - 0s 5ms/step - loss: 443.8308 - val_loss: 2118.5588\n",
      "Epoch 272/500\n",
      "24/24 [==============================] - 0s 6ms/step - loss: 443.8306 - val_loss: 2118.5767\n",
      "Epoch 273/500\n",
      "24/24 [==============================] - 0s 6ms/step - loss: 443.8307 - val_loss: 2118.5938\n",
      "Epoch 274/500\n",
      "24/24 [==============================] - 0s 5ms/step - loss: 443.8307 - val_loss: 2118.6099\n",
      "Epoch 275/500\n",
      "24/24 [==============================] - 0s 5ms/step - loss: 443.8307 - val_loss: 2118.6260\n",
      "Epoch 276/500\n",
      "24/24 [==============================] - 0s 6ms/step - loss: 443.8307 - val_loss: 2118.6401\n",
      "Epoch 277/500\n",
      "24/24 [==============================] - 0s 6ms/step - loss: 443.8308 - val_loss: 2118.6545\n",
      "Epoch 278/500\n",
      "24/24 [==============================] - 0s 11ms/step - loss: 443.8308 - val_loss: 2118.6670\n",
      "Epoch 279/500\n",
      "24/24 [==============================] - 0s 6ms/step - loss: 443.8309 - val_loss: 2118.6797\n",
      "Epoch 280/500\n",
      "24/24 [==============================] - 0s 5ms/step - loss: 443.8310 - val_loss: 2118.6912\n",
      "Epoch 281/500\n",
      "24/24 [==============================] - 0s 4ms/step - loss: 443.8311 - val_loss: 2118.7019\n",
      "Epoch 282/500\n",
      "24/24 [==============================] - 0s 4ms/step - loss: 443.8311 - val_loss: 2118.7117\n",
      "Epoch 283/500\n",
      "24/24 [==============================] - 0s 4ms/step - loss: 443.8313 - val_loss: 2118.7222\n",
      "Epoch 284/500\n",
      "24/24 [==============================] - 0s 5ms/step - loss: 443.8314 - val_loss: 2118.7322\n",
      "Epoch 285/500\n",
      "24/24 [==============================] - 0s 5ms/step - loss: 443.8314 - val_loss: 2118.7407\n",
      "Epoch 286/500\n",
      "24/24 [==============================] - 0s 5ms/step - loss: 443.8315 - val_loss: 2118.7493\n",
      "Epoch 287/500\n",
      "24/24 [==============================] - 0s 4ms/step - loss: 443.8318 - val_loss: 2118.7573\n",
      "Epoch 288/500\n",
      "24/24 [==============================] - 0s 5ms/step - loss: 443.8319 - val_loss: 2118.7639\n",
      "Epoch 289/500\n",
      "24/24 [==============================] - 0s 4ms/step - loss: 443.8319 - val_loss: 2118.7710\n",
      "Epoch 290/500\n",
      "24/24 [==============================] - 0s 4ms/step - loss: 443.8322 - val_loss: 2118.7781\n",
      "Epoch 291/500\n",
      "24/24 [==============================] - 0s 5ms/step - loss: 443.8322 - val_loss: 2118.7842\n",
      "Epoch 292/500\n",
      "24/24 [==============================] - 0s 4ms/step - loss: 443.8323 - val_loss: 2118.7900\n",
      "Epoch 293/500\n",
      "24/24 [==============================] - 0s 5ms/step - loss: 443.8325 - val_loss: 2118.7961\n",
      "Epoch 294/500\n",
      "24/24 [==============================] - 0s 5ms/step - loss: 443.8327 - val_loss: 2118.8020\n",
      "Epoch 295/500\n",
      "24/24 [==============================] - 0s 5ms/step - loss: 443.8327 - val_loss: 2118.8071\n",
      "Epoch 296/500\n",
      "24/24 [==============================] - 0s 5ms/step - loss: 443.8329 - val_loss: 2118.8113\n",
      "Epoch 297/500\n",
      "24/24 [==============================] - 0s 5ms/step - loss: 443.8330 - val_loss: 2118.8159\n",
      "Epoch 298/500\n",
      "24/24 [==============================] - 0s 4ms/step - loss: 443.8331 - val_loss: 2118.8196\n",
      "Epoch 299/500\n",
      "24/24 [==============================] - 0s 4ms/step - loss: 443.8332 - val_loss: 2118.8240\n",
      "Epoch 300/500\n",
      "24/24 [==============================] - 0s 5ms/step - loss: 443.8334 - val_loss: 2118.8269\n",
      "Epoch 301/500\n",
      "24/24 [==============================] - 0s 4ms/step - loss: 443.8336 - val_loss: 2118.8298\n",
      "Epoch 302/500\n",
      "24/24 [==============================] - 0s 5ms/step - loss: 443.8338 - val_loss: 2118.8335\n",
      "Epoch 303/500\n",
      "24/24 [==============================] - 0s 5ms/step - loss: 443.8339 - val_loss: 2118.8369\n",
      "Epoch 304/500\n",
      "24/24 [==============================] - 0s 4ms/step - loss: 443.8340 - val_loss: 2118.8406\n",
      "Epoch 305/500\n",
      "24/24 [==============================] - 0s 4ms/step - loss: 443.8342 - val_loss: 2118.8425\n",
      "Epoch 306/500\n",
      "24/24 [==============================] - 0s 5ms/step - loss: 443.8343 - val_loss: 2118.8457\n",
      "Epoch 307/500\n",
      "24/24 [==============================] - 0s 4ms/step - loss: 443.8344 - val_loss: 2118.8489\n",
      "Epoch 308/500\n",
      "24/24 [==============================] - 0s 4ms/step - loss: 443.8346 - val_loss: 2118.8516\n",
      "Epoch 309/500\n",
      "24/24 [==============================] - 0s 4ms/step - loss: 443.8346 - val_loss: 2118.8545\n",
      "Epoch 310/500\n",
      "24/24 [==============================] - 0s 4ms/step - loss: 443.8348 - val_loss: 2118.8567\n",
      "Epoch 311/500\n",
      "24/24 [==============================] - 0s 10ms/step - loss: 443.8350 - val_loss: 2118.8591\n",
      "Epoch 312/500\n",
      "24/24 [==============================] - 0s 5ms/step - loss: 443.8351 - val_loss: 2118.8611\n",
      "Epoch 313/500\n",
      "24/24 [==============================] - 0s 8ms/step - loss: 443.8352 - val_loss: 2118.8623\n",
      "Epoch 314/500\n",
      "24/24 [==============================] - 0s 5ms/step - loss: 443.8354 - val_loss: 2118.8647\n",
      "Epoch 315/500\n",
      "24/24 [==============================] - 0s 5ms/step - loss: 443.8354 - val_loss: 2118.8662\n",
      "Epoch 316/500\n",
      "24/24 [==============================] - 0s 4ms/step - loss: 443.8355 - val_loss: 2118.8679\n",
      "Epoch 317/500\n",
      "24/24 [==============================] - 0s 4ms/step - loss: 443.8356 - val_loss: 2118.8691\n",
      "Epoch 318/500\n",
      "24/24 [==============================] - 0s 5ms/step - loss: 443.8358 - val_loss: 2118.8704\n",
      "Epoch 319/500\n",
      "24/24 [==============================] - 0s 6ms/step - loss: 443.8358 - val_loss: 2118.8723\n",
      "Epoch 320/500\n",
      "24/24 [==============================] - 0s 4ms/step - loss: 443.8360 - val_loss: 2118.8733\n",
      "Epoch 321/500\n",
      "24/24 [==============================] - 0s 5ms/step - loss: 443.8362 - val_loss: 2118.8750\n",
      "Epoch 322/500\n",
      "24/24 [==============================] - 0s 5ms/step - loss: 443.8363 - val_loss: 2118.8774\n",
      "Epoch 323/500\n",
      "24/24 [==============================] - 0s 5ms/step - loss: 443.8363 - val_loss: 2118.8787\n",
      "Epoch 324/500\n",
      "24/24 [==============================] - 0s 4ms/step - loss: 443.8363 - val_loss: 2118.8799\n",
      "Epoch 325/500\n",
      "24/24 [==============================] - 0s 5ms/step - loss: 443.8365 - val_loss: 2118.8809\n",
      "Epoch 326/500\n",
      "24/24 [==============================] - 0s 5ms/step - loss: 443.8366 - val_loss: 2118.8816\n",
      "Epoch 327/500\n",
      "24/24 [==============================] - 0s 4ms/step - loss: 443.8368 - val_loss: 2118.8828\n",
      "Epoch 328/500\n",
      "24/24 [==============================] - 0s 4ms/step - loss: 443.8368 - val_loss: 2118.8833\n",
      "Epoch 329/500\n",
      "24/24 [==============================] - 0s 5ms/step - loss: 443.8370 - val_loss: 2118.8843\n",
      "Epoch 330/500\n",
      "24/24 [==============================] - 0s 5ms/step - loss: 443.8371 - val_loss: 2118.8857\n",
      "Epoch 331/500\n",
      "24/24 [==============================] - 0s 5ms/step - loss: 443.8371 - val_loss: 2118.8877\n",
      "Epoch 332/500\n",
      "24/24 [==============================] - 0s 4ms/step - loss: 443.8372 - val_loss: 2118.8899\n",
      "Epoch 333/500\n",
      "24/24 [==============================] - 0s 5ms/step - loss: 443.8373 - val_loss: 2118.8926\n",
      "Epoch 334/500\n",
      "24/24 [==============================] - 0s 5ms/step - loss: 443.8374 - val_loss: 2118.8984\n",
      "Epoch 335/500\n",
      "24/24 [==============================] - 0s 4ms/step - loss: 443.8375 - val_loss: 2118.9126\n",
      "Epoch 336/500\n",
      "24/24 [==============================] - 0s 4ms/step - loss: 443.8376 - val_loss: 2118.2109\n",
      "Epoch 337/500\n",
      "24/24 [==============================] - 0s 5ms/step - loss: 441.0645 - val_loss: 2107.8069\n",
      "Epoch 338/500\n",
      "24/24 [==============================] - 0s 5ms/step - loss: 444.1631 - val_loss: 2107.9026\n",
      "Epoch 339/500\n",
      "24/24 [==============================] - 0s 4ms/step - loss: 444.1840 - val_loss: 2108.5745\n",
      "Epoch 340/500\n",
      "24/24 [==============================] - 0s 11ms/step - loss: 444.1569 - val_loss: 2109.2300\n",
      "Epoch 341/500\n",
      "24/24 [==============================] - 0s 5ms/step - loss: 444.1317 - val_loss: 2109.8394\n",
      "Epoch 342/500\n",
      "24/24 [==============================] - 0s 5ms/step - loss: 444.1099 - val_loss: 2110.4041\n",
      "Epoch 343/500\n",
      "24/24 [==============================] - 0s 5ms/step - loss: 444.0906 - val_loss: 2110.9321\n",
      "Epoch 344/500\n",
      "24/24 [==============================] - 0s 5ms/step - loss: 444.0734 - val_loss: 2111.4243\n",
      "Epoch 345/500\n",
      "24/24 [==============================] - 0s 4ms/step - loss: 444.0576 - val_loss: 2111.8848\n",
      "Epoch 346/500\n",
      "24/24 [==============================] - 0s 5ms/step - loss: 444.0432 - val_loss: 2112.3145\n",
      "Epoch 347/500\n",
      "24/24 [==============================] - 0s 4ms/step - loss: 444.0303 - val_loss: 2112.7180\n",
      "Epoch 348/500\n",
      "24/24 [==============================] - 0s 4ms/step - loss: 444.0183 - val_loss: 2113.0957\n",
      "Epoch 349/500\n",
      "24/24 [==============================] - 0s 4ms/step - loss: 444.0071 - val_loss: 2113.4504\n",
      "Epoch 350/500\n",
      "24/24 [==============================] - 0s 5ms/step - loss: 443.9969 - val_loss: 2113.7827\n",
      "Epoch 351/500\n",
      "24/24 [==============================] - 0s 5ms/step - loss: 443.9873 - val_loss: 2114.0942\n",
      "Epoch 352/500\n",
      "24/24 [==============================] - 0s 4ms/step - loss: 443.9787 - val_loss: 2114.3884\n",
      "Epoch 353/500\n",
      "24/24 [==============================] - 0s 4ms/step - loss: 443.9704 - val_loss: 2114.6628\n",
      "Epoch 354/500\n",
      "24/24 [==============================] - 0s 5ms/step - loss: 443.9627 - val_loss: 2114.9194\n",
      "Epoch 355/500\n",
      "24/24 [==============================] - 0s 5ms/step - loss: 443.9558 - val_loss: 2115.1614\n",
      "Epoch 356/500\n",
      "24/24 [==============================] - 0s 4ms/step - loss: 443.9491 - val_loss: 2115.3887\n",
      "Epoch 357/500\n",
      "24/24 [==============================] - 0s 4ms/step - loss: 443.9430 - val_loss: 2115.6013\n",
      "Epoch 358/500\n",
      "24/24 [==============================] - 0s 5ms/step - loss: 443.9375 - val_loss: 2115.8010\n",
      "Epoch 359/500\n",
      "24/24 [==============================] - 0s 5ms/step - loss: 443.9321 - val_loss: 2115.9902\n",
      "Epoch 360/500\n",
      "24/24 [==============================] - 0s 4ms/step - loss: 443.9271 - val_loss: 2116.1665\n",
      "Epoch 361/500\n",
      "24/24 [==============================] - 0s 4ms/step - loss: 443.9225 - val_loss: 2116.3333\n",
      "Epoch 362/500\n",
      "24/24 [==============================] - 0s 5ms/step - loss: 443.9181 - val_loss: 2116.4893\n",
      "Epoch 363/500\n",
      "24/24 [==============================] - 0s 4ms/step - loss: 443.9141 - val_loss: 2116.6362\n",
      "Epoch 364/500\n",
      "24/24 [==============================] - 0s 4ms/step - loss: 443.9103 - val_loss: 2116.7737\n",
      "Epoch 365/500\n",
      "24/24 [==============================] - 0s 6ms/step - loss: 443.9068 - val_loss: 2116.9036\n",
      "Epoch 366/500\n",
      "24/24 [==============================] - 0s 5ms/step - loss: 443.9035 - val_loss: 2117.0239\n",
      "Epoch 367/500\n",
      "24/24 [==============================] - 0s 11ms/step - loss: 443.9002 - val_loss: 2117.1362\n",
      "Epoch 368/500\n",
      "24/24 [==============================] - 0s 5ms/step - loss: 443.8975 - val_loss: 2117.2444\n",
      "Epoch 369/500\n",
      "24/24 [==============================] - 0s 4ms/step - loss: 443.8947 - val_loss: 2117.3455\n",
      "Epoch 370/500\n",
      "24/24 [==============================] - 0s 4ms/step - loss: 443.8922 - val_loss: 2117.4387\n",
      "Epoch 371/500\n",
      "24/24 [==============================] - 0s 5ms/step - loss: 443.8898 - val_loss: 2117.5269\n",
      "Epoch 372/500\n",
      "24/24 [==============================] - 0s 4ms/step - loss: 443.8877 - val_loss: 2117.6106\n",
      "Epoch 373/500\n",
      "24/24 [==============================] - 0s 4ms/step - loss: 443.8854 - val_loss: 2117.6882\n",
      "Epoch 374/500\n",
      "24/24 [==============================] - 0s 5ms/step - loss: 443.8835 - val_loss: 2117.7607\n",
      "Epoch 375/500\n",
      "24/24 [==============================] - 0s 4ms/step - loss: 443.8819 - val_loss: 2117.8315\n",
      "Epoch 376/500\n",
      "24/24 [==============================] - 0s 4ms/step - loss: 443.8800 - val_loss: 2117.8955\n",
      "Epoch 377/500\n",
      "24/24 [==============================] - 0s 4ms/step - loss: 443.8784 - val_loss: 2117.9558\n",
      "Epoch 378/500\n",
      "24/24 [==============================] - 0s 4ms/step - loss: 443.8770 - val_loss: 2118.0146\n",
      "Epoch 379/500\n",
      "24/24 [==============================] - 0s 4ms/step - loss: 443.8755 - val_loss: 2118.0688\n",
      "Epoch 380/500\n",
      "24/24 [==============================] - 0s 5ms/step - loss: 443.8741 - val_loss: 2118.1187\n",
      "Epoch 381/500\n",
      "24/24 [==============================] - 0s 4ms/step - loss: 443.8729 - val_loss: 2118.1667\n",
      "Epoch 382/500\n",
      "24/24 [==============================] - 0s 4ms/step - loss: 443.8717 - val_loss: 2118.2112\n",
      "Epoch 383/500\n",
      "24/24 [==============================] - 0s 5ms/step - loss: 443.8705 - val_loss: 2118.2539\n",
      "Epoch 384/500\n",
      "24/24 [==============================] - 0s 4ms/step - loss: 443.8696 - val_loss: 2118.2939\n",
      "Epoch 385/500\n",
      "24/24 [==============================] - 0s 4ms/step - loss: 443.8685 - val_loss: 2118.3301\n",
      "Epoch 386/500\n",
      "24/24 [==============================] - 0s 5ms/step - loss: 443.8676 - val_loss: 2118.3657\n",
      "Epoch 387/500\n",
      "24/24 [==============================] - 0s 4ms/step - loss: 443.8667 - val_loss: 2118.3970\n",
      "Epoch 388/500\n",
      "24/24 [==============================] - 0s 4ms/step - loss: 443.8661 - val_loss: 2118.4287\n",
      "Epoch 389/500\n",
      "24/24 [==============================] - 0s 5ms/step - loss: 443.8652 - val_loss: 2118.4580\n",
      "Epoch 390/500\n",
      "24/24 [==============================] - 0s 4ms/step - loss: 443.8645 - val_loss: 2118.4851\n",
      "Epoch 391/500\n",
      "24/24 [==============================] - 0s 4ms/step - loss: 443.8639 - val_loss: 2118.5110\n",
      "Epoch 392/500\n",
      "24/24 [==============================] - 0s 4ms/step - loss: 443.8632 - val_loss: 2118.5339\n",
      "Epoch 393/500\n",
      "24/24 [==============================] - 0s 10ms/step - loss: 443.8627 - val_loss: 2118.5583\n",
      "Epoch 394/500\n",
      "24/24 [==============================] - 0s 6ms/step - loss: 443.8621 - val_loss: 2118.5786\n",
      "Epoch 395/500\n",
      "24/24 [==============================] - 0s 5ms/step - loss: 443.8615 - val_loss: 2118.5986\n",
      "Epoch 396/500\n",
      "24/24 [==============================] - 0s 5ms/step - loss: 443.8611 - val_loss: 2118.6167\n",
      "Epoch 397/500\n",
      "24/24 [==============================] - 0s 6ms/step - loss: 443.8607 - val_loss: 2118.6350\n",
      "Epoch 398/500\n",
      "24/24 [==============================] - 0s 5ms/step - loss: 443.8602 - val_loss: 2118.6519\n",
      "Epoch 399/500\n",
      "24/24 [==============================] - 0s 4ms/step - loss: 443.8596 - val_loss: 2118.6682\n",
      "Epoch 400/500\n",
      "24/24 [==============================] - 0s 4ms/step - loss: 443.8593 - val_loss: 2118.6826\n",
      "Epoch 401/500\n",
      "24/24 [==============================] - 0s 5ms/step - loss: 443.8590 - val_loss: 2118.6968\n",
      "Epoch 402/500\n",
      "24/24 [==============================] - 0s 5ms/step - loss: 443.8586 - val_loss: 2118.7083\n",
      "Epoch 403/500\n",
      "24/24 [==============================] - 0s 4ms/step - loss: 443.8583 - val_loss: 2118.7205\n",
      "Epoch 404/500\n",
      "24/24 [==============================] - 0s 4ms/step - loss: 443.8579 - val_loss: 2118.7314\n",
      "Epoch 405/500\n",
      "24/24 [==============================] - 0s 5ms/step - loss: 443.8577 - val_loss: 2118.7424\n",
      "Epoch 406/500\n",
      "24/24 [==============================] - 0s 5ms/step - loss: 443.8575 - val_loss: 2118.7517\n",
      "Epoch 407/500\n",
      "24/24 [==============================] - 0s 4ms/step - loss: 443.8572 - val_loss: 2118.7620\n",
      "Epoch 408/500\n",
      "24/24 [==============================] - 0s 4ms/step - loss: 443.8570 - val_loss: 2118.7708\n",
      "Epoch 409/500\n",
      "24/24 [==============================] - 0s 5ms/step - loss: 443.8568 - val_loss: 2118.7791\n",
      "Epoch 410/500\n",
      "24/24 [==============================] - 0s 4ms/step - loss: 443.8565 - val_loss: 2118.7866\n",
      "Epoch 411/500\n",
      "24/24 [==============================] - 0s 4ms/step - loss: 443.8563 - val_loss: 2118.7932\n",
      "Epoch 412/500\n",
      "24/24 [==============================] - 0s 4ms/step - loss: 443.8563 - val_loss: 2118.8003\n",
      "Epoch 413/500\n",
      "24/24 [==============================] - 0s 4ms/step - loss: 443.8561 - val_loss: 2118.8081\n",
      "Epoch 414/500\n",
      "24/24 [==============================] - 0s 5ms/step - loss: 443.8559 - val_loss: 2118.8154\n",
      "Epoch 415/500\n",
      "24/24 [==============================] - 0s 4ms/step - loss: 443.8556 - val_loss: 2118.8208\n",
      "Epoch 416/500\n",
      "24/24 [==============================] - 0s 4ms/step - loss: 443.8556 - val_loss: 2118.8267\n",
      "Epoch 417/500\n",
      "24/24 [==============================] - 0s 4ms/step - loss: 443.8554 - val_loss: 2118.8330\n",
      "Epoch 418/500\n",
      "24/24 [==============================] - 0s 5ms/step - loss: 443.8553 - val_loss: 2118.8379\n",
      "Epoch 419/500\n",
      "24/24 [==============================] - 0s 4ms/step - loss: 443.8552 - val_loss: 2118.8425\n",
      "Epoch 420/500\n",
      "24/24 [==============================] - 0s 10ms/step - loss: 443.8550 - val_loss: 2118.8455\n",
      "Epoch 421/500\n",
      "24/24 [==============================] - 0s 5ms/step - loss: 443.8549 - val_loss: 2118.8494\n",
      "Epoch 422/500\n",
      "24/24 [==============================] - 0s 5ms/step - loss: 443.8547 - val_loss: 2118.8535\n",
      "Epoch 423/500\n",
      "24/24 [==============================] - 0s 5ms/step - loss: 443.8546 - val_loss: 2118.8557\n",
      "Epoch 424/500\n",
      "24/24 [==============================] - 0s 5ms/step - loss: 443.8546 - val_loss: 2118.8591\n",
      "Epoch 425/500\n",
      "24/24 [==============================] - 0s 5ms/step - loss: 443.8545 - val_loss: 2118.8621\n",
      "Epoch 426/500\n",
      "24/24 [==============================] - 0s 5ms/step - loss: 443.8545 - val_loss: 2118.8647\n",
      "Epoch 427/500\n",
      "24/24 [==============================] - 0s 4ms/step - loss: 443.8544 - val_loss: 2118.8682\n",
      "Epoch 428/500\n",
      "24/24 [==============================] - 0s 4ms/step - loss: 443.8544 - val_loss: 2118.8713\n",
      "Epoch 429/500\n",
      "24/24 [==============================] - 0s 5ms/step - loss: 443.8542 - val_loss: 2118.8738\n",
      "Epoch 430/500\n",
      "24/24 [==============================] - 0s 4ms/step - loss: 443.8542 - val_loss: 2118.8767\n",
      "Epoch 431/500\n",
      "24/24 [==============================] - 0s 4ms/step - loss: 443.8541 - val_loss: 2118.8801\n",
      "Epoch 432/500\n",
      "24/24 [==============================] - 0s 5ms/step - loss: 443.8541 - val_loss: 2118.8818\n",
      "Epoch 433/500\n",
      "24/24 [==============================] - 0s 5ms/step - loss: 443.8540 - val_loss: 2118.8843\n",
      "Epoch 434/500\n",
      "24/24 [==============================] - 0s 5ms/step - loss: 443.8539 - val_loss: 2118.8860\n",
      "Epoch 435/500\n",
      "24/24 [==============================] - 0s 5ms/step - loss: 443.8539 - val_loss: 2118.8884\n",
      "Epoch 436/500\n",
      "24/24 [==============================] - 0s 5ms/step - loss: 443.8538 - val_loss: 2118.8889\n",
      "Epoch 437/500\n",
      "24/24 [==============================] - 0s 4ms/step - loss: 443.8538 - val_loss: 2118.8909\n",
      "Epoch 438/500\n",
      "24/24 [==============================] - 0s 4ms/step - loss: 443.8537 - val_loss: 2118.8918\n",
      "Epoch 439/500\n",
      "24/24 [==============================] - 0s 5ms/step - loss: 443.8537 - val_loss: 2118.8938\n",
      "Epoch 440/500\n",
      "24/24 [==============================] - 0s 5ms/step - loss: 443.8536 - val_loss: 2118.8948\n",
      "Epoch 441/500\n",
      "24/24 [==============================] - 0s 4ms/step - loss: 443.8536 - val_loss: 2118.8955\n",
      "Epoch 442/500\n",
      "24/24 [==============================] - 0s 4ms/step - loss: 443.8536 - val_loss: 2118.8965\n",
      "Epoch 443/500\n",
      "24/24 [==============================] - 0s 5ms/step - loss: 443.8535 - val_loss: 2118.8975\n",
      "Epoch 444/500\n",
      "24/24 [==============================] - 0s 11ms/step - loss: 443.8535 - val_loss: 2118.8977\n",
      "Epoch 445/500\n",
      "24/24 [==============================] - 0s 5ms/step - loss: 443.8535 - val_loss: 2118.8984\n",
      "Epoch 446/500\n",
      "24/24 [==============================] - 0s 4ms/step - loss: 443.8535 - val_loss: 2118.8994\n",
      "Epoch 447/500\n",
      "24/24 [==============================] - 0s 4ms/step - loss: 443.8535 - val_loss: 2118.8999\n",
      "Epoch 448/500\n",
      "24/24 [==============================] - 0s 4ms/step - loss: 443.8534 - val_loss: 2118.9006\n",
      "Epoch 449/500\n",
      "24/24 [==============================] - 0s 4ms/step - loss: 443.8534 - val_loss: 2118.9019\n",
      "Epoch 450/500\n",
      "24/24 [==============================] - 0s 5ms/step - loss: 443.8533 - val_loss: 2118.9021\n",
      "Epoch 451/500\n",
      "24/24 [==============================] - 0s 5ms/step - loss: 443.8533 - val_loss: 2118.9031\n",
      "Epoch 452/500\n",
      "24/24 [==============================] - 0s 4ms/step - loss: 443.8533 - val_loss: 2118.9031\n",
      "Epoch 453/500\n",
      "24/24 [==============================] - 0s 4ms/step - loss: 443.8533 - val_loss: 2118.9033\n",
      "Epoch 454/500\n",
      "24/24 [==============================] - 0s 5ms/step - loss: 443.8533 - val_loss: 2118.9033\n",
      "Epoch 455/500\n",
      "24/24 [==============================] - 0s 5ms/step - loss: 443.8532 - val_loss: 2118.9031\n",
      "Epoch 456/500\n",
      "24/24 [==============================] - 0s 4ms/step - loss: 443.8533 - val_loss: 2118.9031\n",
      "Epoch 457/500\n",
      "24/24 [==============================] - 0s 5ms/step - loss: 443.8533 - val_loss: 2118.9031\n",
      "Epoch 458/500\n",
      "24/24 [==============================] - 0s 4ms/step - loss: 443.8533 - val_loss: 2118.9031\n",
      "Epoch 459/500\n",
      "24/24 [==============================] - 0s 5ms/step - loss: 443.8533 - val_loss: 2118.9031\n",
      "Epoch 460/500\n",
      "24/24 [==============================] - 0s 4ms/step - loss: 443.8533 - val_loss: 2118.9031\n",
      "Epoch 461/500\n",
      "24/24 [==============================] - 0s 4ms/step - loss: 443.8533 - val_loss: 2118.9033\n",
      "Epoch 462/500\n",
      "24/24 [==============================] - 0s 5ms/step - loss: 443.8532 - val_loss: 2118.9033\n",
      "Epoch 463/500\n",
      "24/24 [==============================] - 0s 5ms/step - loss: 443.8532 - val_loss: 2118.9031\n",
      "Epoch 464/500\n",
      "24/24 [==============================] - 0s 5ms/step - loss: 443.8532 - val_loss: 2118.9031\n",
      "Epoch 465/500\n",
      "24/24 [==============================] - 0s 4ms/step - loss: 443.8533 - val_loss: 2118.9033\n",
      "Epoch 466/500\n",
      "24/24 [==============================] - 0s 4ms/step - loss: 443.8534 - val_loss: 2118.9033\n",
      "Epoch 467/500\n",
      "24/24 [==============================] - 0s 5ms/step - loss: 443.8533 - val_loss: 2118.9036\n",
      "Epoch 468/500\n",
      "24/24 [==============================] - 0s 4ms/step - loss: 443.8533 - val_loss: 2118.9036\n",
      "Epoch 469/500\n",
      "24/24 [==============================] - 0s 10ms/step - loss: 443.8534 - val_loss: 2118.9045\n",
      "Epoch 470/500\n",
      "24/24 [==============================] - 0s 6ms/step - loss: 443.8533 - val_loss: 2118.9060\n",
      "Epoch 471/500\n",
      "24/24 [==============================] - 0s 5ms/step - loss: 443.8532 - val_loss: 2118.9067\n",
      "Epoch 472/500\n",
      "24/24 [==============================] - 0s 5ms/step - loss: 443.8532 - val_loss: 2118.9070\n",
      "Epoch 473/500\n",
      "24/24 [==============================] - 0s 5ms/step - loss: 443.8532 - val_loss: 2118.9070\n",
      "Epoch 474/500\n",
      "24/24 [==============================] - 0s 4ms/step - loss: 443.8532 - val_loss: 2118.9075\n",
      "Epoch 475/500\n",
      "24/24 [==============================] - 0s 5ms/step - loss: 443.8532 - val_loss: 2118.9080\n",
      "Epoch 476/500\n",
      "24/24 [==============================] - 0s 5ms/step - loss: 443.8532 - val_loss: 2118.9080\n",
      "Epoch 477/500\n",
      "24/24 [==============================] - 0s 4ms/step - loss: 443.8532 - val_loss: 2118.9084\n",
      "Epoch 478/500\n",
      "24/24 [==============================] - 0s 4ms/step - loss: 443.8532 - val_loss: 2118.9089\n",
      "Epoch 479/500\n",
      "24/24 [==============================] - 0s 5ms/step - loss: 443.8532 - val_loss: 2118.9092\n",
      "Epoch 480/500\n",
      "24/24 [==============================] - 0s 5ms/step - loss: 443.8532 - val_loss: 2118.9094\n",
      "Epoch 481/500\n",
      "24/24 [==============================] - 0s 4ms/step - loss: 443.8532 - val_loss: 2118.9099\n",
      "Epoch 482/500\n",
      "24/24 [==============================] - 0s 4ms/step - loss: 443.8531 - val_loss: 2118.9102\n",
      "Epoch 483/500\n",
      "24/24 [==============================] - 0s 5ms/step - loss: 443.8531 - val_loss: 2118.9111\n",
      "Epoch 484/500\n",
      "24/24 [==============================] - 0s 5ms/step - loss: 443.8531 - val_loss: 2118.9111\n",
      "Epoch 485/500\n",
      "24/24 [==============================] - 0s 4ms/step - loss: 443.8532 - val_loss: 2118.9124\n",
      "Epoch 486/500\n",
      "24/24 [==============================] - 0s 4ms/step - loss: 443.8531 - val_loss: 2118.9126\n",
      "Epoch 487/500\n",
      "24/24 [==============================] - 0s 5ms/step - loss: 443.8532 - val_loss: 2118.9128\n",
      "Epoch 488/500\n",
      "24/24 [==============================] - 0s 5ms/step - loss: 443.8531 - val_loss: 2118.9136\n",
      "Epoch 489/500\n",
      "24/24 [==============================] - 0s 4ms/step - loss: 443.8531 - val_loss: 2118.9141\n",
      "Epoch 490/500\n",
      "24/24 [==============================] - 0s 4ms/step - loss: 443.8531 - val_loss: 2118.9146\n",
      "Epoch 491/500\n",
      "24/24 [==============================] - 0s 5ms/step - loss: 443.8531 - val_loss: 2118.9155\n",
      "Epoch 492/500\n",
      "24/24 [==============================] - 0s 5ms/step - loss: 443.8531 - val_loss: 2118.9155\n",
      "Epoch 493/500\n",
      "24/24 [==============================] - 0s 5ms/step - loss: 443.8531 - val_loss: 2118.9165\n",
      "Epoch 494/500\n",
      "24/24 [==============================] - 0s 10ms/step - loss: 443.8531 - val_loss: 2118.9170\n",
      "Epoch 495/500\n",
      "24/24 [==============================] - 0s 7ms/step - loss: 443.8531 - val_loss: 2118.9182\n",
      "Epoch 496/500\n",
      "24/24 [==============================] - 0s 5ms/step - loss: 443.8531 - val_loss: 2118.9194\n",
      "Epoch 497/500\n",
      "24/24 [==============================] - 0s 4ms/step - loss: 443.8530 - val_loss: 2118.9199\n",
      "Epoch 498/500\n",
      "24/24 [==============================] - 0s 4ms/step - loss: 443.8531 - val_loss: 2118.9211\n",
      "Epoch 499/500\n",
      "24/24 [==============================] - 0s 4ms/step - loss: 443.8530 - val_loss: 2118.9221\n",
      "Epoch 500/500\n",
      "24/24 [==============================] - 0s 5ms/step - loss: 443.8530 - val_loss: 2118.9221\n"
     ]
    }
   ],
   "source": [
    "C0 = tf.Variable(88.0403, name=\"C0\", trainable=True, dtype=tf.float32)\n",
    "K0 = tf.Variable(-0.0012, name=\"K0\", trainable=True, dtype=tf.float32)\n",
    "K1 = tf.Variable(-0.0001, name=\"K1\", trainable=True, dtype=tf.float32)\n",
    "a = tf.Variable(0.0000, name=\"a\", trainable=True, dtype=tf.float32)\n",
    "b = tf.Variable(0.0120, name=\"b\", trainable=True, dtype=tf.float32)\n",
    "c = tf.Variable(2.0334, name=\"c\", trainable=True, dtype=tf.float32)\n",
    "\n",
    "splitr = 0.8\n",
    "\n",
    "\n",
    "def loss_fn(y_true, y_pred):\n",
    "    squared_difference = tf.square(y_true[:, 0] - y_pred[:, 0])\n",
    "    #squared_difference2 = tf.square(y_true[:, 2]-y_pred[:, 2])\n",
    "    #squared_difference1 = tf.square(y_true[:, 1]-y_pred[:, 1])\n",
    "    epsilon = 1\n",
    "    squared_difference3 = tf.square(\n",
    "        y_pred[:, 1] - (\n",
    "            y_pred[:, 0] * (\n",
    "                K0 - K1 * (\n",
    "                    9 * a * tf.math.log((y_pred[:, 0] + epsilon) / C0) / (K0 - K1 * c)**2 +\n",
    "                    4 * b * tf.math.log((y_pred[:, 0] + epsilon) / C0) / (K0 - K1 * c) + c\n",
    "                )\n",
    "            )\n",
    "        )\n",
    "    )\n",
    "    return tf.reduce_mean(squared_difference, axis=-1) + 0.2*tf.reduce_mean(squared_difference3, axis=-1)\n",
    "model = Sequential()\n",
    "model.add(LSTM(100, input_shape=(trainX.shape[1], trainX.shape[2])))\n",
    "model.add(Dense(60))\n",
    "model.compile(loss=loss_fn, optimizer='adam')\n",
    "history = model.fit(trainX[:int(splitr*trainX.shape[0])], trainy[:int(splitr*trainX.shape[0])], epochs=500, batch_size=64, validation_data=(trainX[int(splitr*trainX.shape[0]):trainX.shape[0]], trainy[int(splitr*trainX.shape[0]):trainX.shape[0]]), shuffle=False)"
   ]
  },
  {
   "cell_type": "code",
   "execution_count": 19,
   "metadata": {
    "colab": {
     "base_uri": "https://localhost:8080/"
    },
    "id": "yJL101rPyuoT",
    "outputId": "239ff2b1-c186-423a-d316-939dfdd7c793"
   },
   "outputs": [
    {
     "name": "stdout",
     "output_type": "stream",
     "text": [
      "1/1 [==============================] - 0s 413ms/step\n"
     ]
    }
   ],
   "source": [
    "forecast_without_mc = forecastX\n",
    "yhat_without_mc = model.predict(forecast_without_mc) # Step Ahead Prediction\n",
    "forecast_without_mc = forecast_without_mc.reshape((forecast_without_mc.shape[0], forecast_without_mc.shape[2])) # Historical Input"
   ]
  },
  {
   "cell_type": "code",
   "execution_count": 20,
   "metadata": {
    "colab": {
     "base_uri": "https://localhost:8080/"
    },
    "id": "g9dQELcJ8wbp",
    "outputId": "4dc7671b-b1a8-48d5-8744-a86f98446109"
   },
   "outputs": [
    {
     "data": {
      "text/plain": [
       "(1, 1, 251)"
      ]
     },
     "execution_count": 20,
     "metadata": {},
     "output_type": "execute_result"
    }
   ],
   "source": [
    "forecastX.shape"
   ]
  },
  {
   "cell_type": "code",
   "execution_count": 21,
   "metadata": {
    "colab": {
     "base_uri": "https://localhost:8080/"
    },
    "id": "IS2kyIKG1Kbr",
    "outputId": "f31b3485-8e26-452f-9298-ea8bf7e80ad1"
   },
   "outputs": [
    {
     "data": {
      "text/plain": [
       "(1, 251)"
      ]
     },
     "execution_count": 21,
     "metadata": {},
     "output_type": "execute_result"
    }
   ],
   "source": [
    "forecast_without_mc.shape"
   ]
  },
  {
   "cell_type": "code",
   "execution_count": 22,
   "metadata": {
    "id": "0u6VIzaDyuoT"
   },
   "outputs": [],
   "source": [
    "inv_yhat_without_mc = np.concatenate((forecast_without_mc, yhat_without_mc), axis=1) # Concatenation of predicted values with Historical Data\n",
    "#inv_yhat_without_mc = scaler.inverse_transform(inv_yhat_without_mc) # Transform labels back to original encoding"
   ]
  },
  {
   "cell_type": "code",
   "execution_count": 23,
   "metadata": {
    "colab": {
     "base_uri": "https://localhost:8080/"
    },
    "id": "EUEcw0LX07oU",
    "outputId": "cfc32397-9c37-4b43-d087-584bb31c3dcc"
   },
   "outputs": [
    {
     "data": {
      "text/plain": [
       "(1, 311)"
      ]
     },
     "execution_count": 23,
     "metadata": {},
     "output_type": "execute_result"
    }
   ],
   "source": [
    "inv_yhat_without_mc.shape"
   ]
  },
  {
   "cell_type": "code",
   "execution_count": 24,
   "metadata": {
    "id": "31OWVbSh_305"
   },
   "outputs": [],
   "source": [
    "fforecast = inv_yhat_without_mc[:,-300:]"
   ]
  },
  {
   "cell_type": "code",
   "execution_count": 25,
   "metadata": {},
   "outputs": [
    {
     "data": {
      "text/plain": [
       "(1, 300)"
      ]
     },
     "execution_count": 25,
     "metadata": {},
     "output_type": "execute_result"
    }
   ],
   "source": [
    "fforecast.shape"
   ]
  },
  {
   "cell_type": "code",
   "execution_count": 26,
   "metadata": {
    "id": "BlpGH2FOAiRF"
   },
   "outputs": [],
   "source": [
    "final_forecast = fforecast[:,0:300:3]"
   ]
  },
  {
   "cell_type": "code",
   "execution_count": 27,
   "metadata": {},
   "outputs": [
    {
     "data": {
      "text/plain": [
       "(1, 300)"
      ]
     },
     "execution_count": 27,
     "metadata": {},
     "output_type": "execute_result"
    }
   ],
   "source": [
    "fforecast.shape"
   ]
  },
  {
   "cell_type": "code",
   "execution_count": 28,
   "metadata": {
    "id": "CXkgkj_LBk_t"
   },
   "outputs": [],
   "source": [
    "# code to replace all negative value with 0\n",
    "final_forecast[final_forecast<0] = 0"
   ]
  },
  {
   "cell_type": "code",
   "execution_count": 29,
   "metadata": {},
   "outputs": [
    {
     "data": {
      "text/plain": [
       "array([[74.3807796 , 77.5545285 , 76.3444444 , 75.7171802 , 71.0170059 ,\n",
       "         0.58186775,  0.93843311,  0.48236462,  0.39528209,  0.33446464,\n",
       "         0.        ,  0.        ,  0.        , 74.4997339 , 74.4341877 ,\n",
       "        74.3686415 ,  0.        ,  0.        , 74.9126097 , 74.6756349 ,\n",
       "        74.5264379 , 74.4608917 , 74.3953455 , 77.823436  , 76.613352  ,\n",
       "        75.851634  ,  0.        ,  0.14702138,  1.04638457, 74.4220495 ,\n",
       "        78.1342437 , 77.1063492 , 76.0981326 ,  0.        , 76.4639589 ,\n",
       "        75.7769374 , 75.1144771 ,  0.44711974, 24.9879092 ,  0.22026402,\n",
       "         0.        ,  0.5758512 ,  1.63416767,  0.        ,  0.        ,\n",
       "         0.77963716,  1.18474197, 75.9860878 ,  0.        ,  0.        ,\n",
       "         0.94946706, 74.4366153 , 74.3710691 , 77.3752568 , 76.2325864 ,\n",
       "        75.6275443 , 76.7328665 , 75.9113912 , 75.2724603 ,  0.38277531,\n",
       "         0.        ,  0.51323855, 75.874043  ,  1.19662857, 76.1578898 ,\n",
       "        75.5528478 , 74.8511718 , 75.8366947 , 75.1846919 , 74.5361485 ,\n",
       "         0.        ,  0.2913605 ,  0.        , 73.8344498 ,  0.        ,\n",
       "         0.        ,  0.        ,  0.        ,  0.        ,  0.57466406,\n",
       "        67.83885193,  0.        ,  0.35322338,  0.        ,  0.0803013 ,\n",
       "         0.        ,  0.        ,  0.        ,  0.        ,  0.        ,\n",
       "         0.69430047,  1.04173553,  0.10474031,  0.85554153,  0.        ,\n",
       "         0.        ,  0.79572785,  0.        ,  0.        ,  0.36300284]])"
      ]
     },
     "execution_count": 29,
     "metadata": {},
     "output_type": "execute_result"
    }
   ],
   "source": [
    "final_forecast"
   ]
  },
  {
   "cell_type": "code",
   "execution_count": 30,
   "metadata": {},
   "outputs": [
    {
     "data": {
      "text/plain": [
       "(1, 100)"
      ]
     },
     "execution_count": 30,
     "metadata": {},
     "output_type": "execute_result"
    }
   ],
   "source": [
    "final_forecast.shape"
   ]
  },
  {
   "cell_type": "code",
   "execution_count": 31,
   "metadata": {},
   "outputs": [
    {
     "data": {
      "text/plain": [
       "(100,)"
      ]
     },
     "execution_count": 31,
     "metadata": {},
     "output_type": "execute_result"
    }
   ],
   "source": [
    "test.shape"
   ]
  },
  {
   "cell_type": "code",
   "execution_count": 32,
   "metadata": {},
   "outputs": [],
   "source": [
    "training_set = np.array(training_set)\n",
    "test = np.array(test)\n",
    "final_forecast = np.array(final_forecast.squeeze(0))"
   ]
  },
  {
   "cell_type": "code",
   "execution_count": 33,
   "metadata": {},
   "outputs": [
    {
     "data": {
      "text/plain": [
       "array([67.93653071, 67.93024527, 67.92395983, 67.91767439, 67.91138895,\n",
       "       67.9051035 , 67.89881806, 67.89253262, 67.88624718, 67.87996174,\n",
       "       67.8736763 , 67.86739086, 67.86110542, 67.85481998, 67.84853454,\n",
       "       67.84224909, 67.83596365, 67.82967821, 67.82339277, 67.81710733,\n",
       "       67.81082189, 67.80453645, 67.79825101, 67.79196557, 67.78568013,\n",
       "       67.77939468, 67.77310924, 67.7668238 , 67.76053836, 67.75425292,\n",
       "       67.74796748, 67.74168204, 67.7353966 , 67.72911116, 67.72282572,\n",
       "       67.71654027, 67.71025483, 67.70396939, 67.69768395, 67.69139851,\n",
       "       67.68511307, 67.67882763, 67.67254219, 67.66625675, 67.65997131,\n",
       "       67.65368586, 67.64740042, 67.64111498, 67.63482954, 67.6285441 ,\n",
       "       67.62225866, 67.61597322, 67.60968778, 67.60340234, 67.5971169 ,\n",
       "       67.59083145, 67.58454601, 67.57826057, 67.57197513, 67.56568969,\n",
       "       67.55940425, 67.55311881, 67.54683337, 67.54054793, 67.53426249,\n",
       "       67.52797704, 67.5216916 , 67.51540616, 67.50912072, 67.50283528,\n",
       "       67.49654984, 67.4902644 , 67.48397896, 67.47769352, 67.47140808,\n",
       "       67.46512263, 67.45883719, 67.45255175, 67.44626631, 67.43998087,\n",
       "       67.43369543, 67.42740999, 67.42112455, 67.41483911, 67.40855367,\n",
       "       67.40226822, 67.39598278, 67.38969734, 67.3834119 , 67.37712646,\n",
       "       67.37084102, 67.36455558, 67.35827014, 67.3519847 , 67.34569926,\n",
       "       67.33941381, 67.33312837, 67.32684293, 67.32055749, 67.31427205])"
      ]
     },
     "execution_count": 33,
     "metadata": {},
     "output_type": "execute_result"
    }
   ],
   "source": [
    "test"
   ]
  },
  {
   "cell_type": "code",
   "execution_count": 34,
   "metadata": {},
   "outputs": [
    {
     "data": {
      "text/plain": [
       "(100,)"
      ]
     },
     "execution_count": 34,
     "metadata": {},
     "output_type": "execute_result"
    }
   ],
   "source": [
    "test.shape"
   ]
  },
  {
   "cell_type": "code",
   "execution_count": 35,
   "metadata": {},
   "outputs": [
    {
     "data": {
      "text/plain": [
       "(100,)"
      ]
     },
     "execution_count": 35,
     "metadata": {},
     "output_type": "execute_result"
    }
   ],
   "source": [
    "final_forecast.shape"
   ]
  },
  {
   "cell_type": "code",
   "execution_count": 36,
   "metadata": {},
   "outputs": [
    {
     "data": {
      "text/plain": [
       "(100,)"
      ]
     },
     "execution_count": 36,
     "metadata": {},
     "output_type": "execute_result"
    }
   ],
   "source": [
    "test.shape"
   ]
  },
  {
   "cell_type": "code",
   "execution_count": 37,
   "metadata": {},
   "outputs": [
    {
     "name": "stdout",
     "output_type": "stream",
     "text": [
      "51.65733451927069\n",
      "42.555567874607895\n"
     ]
    }
   ],
   "source": [
    "import math\n",
    "MSE = np.square(np.subtract(np.array(test),np.array(final_forecast))).mean()   \n",
    "rsme = math.sqrt(MSE)\n",
    "print(rsme)  \n",
    "MAE = np.abs(np.subtract(np.array(test),np.array(final_forecast))).mean()   \n",
    "mae = MAE\n",
    "print(mae)"
   ]
  }
 ],
 "metadata": {
  "colab": {
   "provenance": []
  },
  "kernelspec": {
   "display_name": "Python 3",
   "language": "python",
   "name": "python3"
  },
  "language_info": {
   "codemirror_mode": {
    "name": "ipython",
    "version": 3
   },
   "file_extension": ".py",
   "mimetype": "text/x-python",
   "name": "python",
   "nbconvert_exporter": "python",
   "pygments_lexer": "ipython3",
   "version": "3.9.13"
  }
 },
 "nbformat": 4,
 "nbformat_minor": 0
}
