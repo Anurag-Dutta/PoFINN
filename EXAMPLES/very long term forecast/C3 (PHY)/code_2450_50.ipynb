{
 "cells": [
  {
   "cell_type": "markdown",
   "metadata": {
    "id": "pCGKeZ2gyuoQ"
   },
   "source": [
    "_Importing Required Libraries_"
   ]
  },
  {
   "cell_type": "code",
   "execution_count": 1,
   "metadata": {
    "colab": {
     "base_uri": "https://localhost:8080/"
    },
    "id": "A-6LN-zXiLcM",
    "outputId": "4de610a4-f8b8-4f49-c6c0-89de299ccedc"
   },
   "outputs": [
    {
     "name": "stdout",
     "output_type": "stream",
     "text": [
      "Requirement already satisfied: hampel in c:\\users\\anurag dutta\\appdata\\local\\packages\\pythonsoftwarefoundation.python.3.9_qbz5n2kfra8p0\\localcache\\local-packages\\python39\\site-packages (0.0.5)\n",
      "Requirement already satisfied: numpy in c:\\users\\anurag dutta\\appdata\\local\\packages\\pythonsoftwarefoundation.python.3.9_qbz5n2kfra8p0\\localcache\\local-packages\\python39\\site-packages (from hampel) (1.26.4)\n",
      "Requirement already satisfied: pandas in c:\\users\\anurag dutta\\appdata\\local\\packages\\pythonsoftwarefoundation.python.3.9_qbz5n2kfra8p0\\localcache\\local-packages\\python39\\site-packages (from hampel) (1.5.2)\n",
      "Requirement already satisfied: python-dateutil>=2.8.1 in c:\\users\\anurag dutta\\appdata\\local\\packages\\pythonsoftwarefoundation.python.3.9_qbz5n2kfra8p0\\localcache\\local-packages\\python39\\site-packages (from pandas->hampel) (2.8.2)\n",
      "Requirement already satisfied: pytz>=2020.1 in c:\\users\\anurag dutta\\appdata\\local\\packages\\pythonsoftwarefoundation.python.3.9_qbz5n2kfra8p0\\localcache\\local-packages\\python39\\site-packages (from pandas->hampel) (2023.3.post1)\n",
      "Requirement already satisfied: six>=1.5 in c:\\users\\anurag dutta\\appdata\\local\\packages\\pythonsoftwarefoundation.python.3.9_qbz5n2kfra8p0\\localcache\\local-packages\\python39\\site-packages (from python-dateutil>=2.8.1->pandas->hampel) (1.16.0)\n",
      "Note: you may need to restart the kernel to use updated packages.\n"
     ]
    },
    {
     "name": "stderr",
     "output_type": "stream",
     "text": [
      "\n",
      "[notice] A new release of pip is available: 24.2 -> 24.3.1\n",
      "[notice] To update, run: C:\\Users\\Anurag Dutta\\AppData\\Local\\Microsoft\\WindowsApps\\PythonSoftwareFoundation.Python.3.9_qbz5n2kfra8p0\\python.exe -m pip install --upgrade pip\n"
     ]
    }
   ],
   "source": [
    "pip install hampel"
   ]
  },
  {
   "cell_type": "code",
   "execution_count": 2,
   "metadata": {
    "id": "By_d9uXpaFvZ"
   },
   "outputs": [],
   "source": [
    "from keras.models import Sequential\n",
    "from keras.layers import Dense\n",
    "from keras.layers import LSTM\n",
    "from keras.layers import Dropout\n",
    "import keras\n",
    "import tensorflow as tf\n",
    "from hampel import hampel\n",
    "import numpy as np\n",
    "import matplotlib.pyplot as plt\n",
    "import pandas as pd\n",
    "from sklearn.preprocessing import MinMaxScaler\n",
    "from sklearn.metrics import mean_squared_error, mean_absolute_error\n",
    "from math import sqrt\n",
    "from matplotlib import pyplot\n",
    "from numpy import array"
   ]
  },
  {
   "cell_type": "markdown",
   "metadata": {
    "id": "JyOjBMFayuoR"
   },
   "source": [
    "## Pretraining"
   ]
  },
  {
   "cell_type": "markdown",
   "metadata": {
    "id": "-5QqIY_GyuoR"
   },
   "source": [
    "The `capa_intermittency.dat` feeds the model with the dynamics of the Capacitor"
   ]
  },
  {
   "cell_type": "code",
   "execution_count": 3,
   "metadata": {
    "id": "9dV4a8yfyuoR"
   },
   "outputs": [],
   "source": [
    "data = np.genfromtxt('capa_intermittency.dat')\n",
    "training_set = pd.DataFrame(data).reset_index(drop=True)\n",
    "training_set = training_set.iloc[:,0]"
   ]
  },
  {
   "cell_type": "markdown",
   "metadata": {
    "id": "i7easoxByuoR"
   },
   "source": [
    "## Computing the Gradient"
   ]
  },
  {
   "cell_type": "markdown",
   "metadata": {
    "id": "5SnyolJTyuoR"
   },
   "source": [
    "_Calculating the value of_ $\\frac{dx}{dt}$"
   ]
  },
  {
   "cell_type": "code",
   "execution_count": 4,
   "metadata": {
    "colab": {
     "base_uri": "https://localhost:8080/"
    },
    "id": "wmIbVfIvyuoR",
    "outputId": "aa4e3136-c854-465d-d2e9-81cfd546e440"
   },
   "outputs": [
    {
     "name": "stdout",
     "output_type": "stream",
     "text": [
      "1.0\n",
      "1        0.000298\n",
      "2        0.000298\n",
      "3        0.000297\n",
      "4        0.000297\n",
      "5        0.000297\n",
      "           ...   \n",
      "9996     0.000018\n",
      "9997     0.000018\n",
      "9998     0.000018\n",
      "9999     0.000018\n",
      "10000    0.000018\n",
      "Name: 0, Length: 10000, dtype: float64\n"
     ]
    }
   ],
   "source": [
    "t_diff = 1\n",
    "print(training_set.max())\n",
    "gradient_t = (training_set.diff()/t_diff).iloc[1:] # dx/dt\n",
    "print(gradient_t)"
   ]
  },
  {
   "cell_type": "markdown",
   "metadata": {
    "id": "_2eVeeoxyuoS"
   },
   "source": [
    "## Loading Datasets"
   ]
  },
  {
   "cell_type": "code",
   "execution_count": null,
   "metadata": {
    "id": "0J-NKyIEyuoS"
   },
   "outputs": [
    {
     "data": {
      "text/plain": [
       "0       90.500000\n",
       "1       90.275910\n",
       "2       90.051821\n",
       "3       89.827731\n",
       "4       89.603641\n",
       "          ...    \n",
       "2495    52.162308\n",
       "2496    52.146731\n",
       "2497    52.131154\n",
       "2498    52.115577\n",
       "2499    52.100000\n",
       "Name: C2, Length: 2500, dtype: float64"
      ]
     },
     "execution_count": 5,
     "metadata": {},
     "output_type": "execute_result"
    }
   ],
   "source": [
    "data = pd.read_csv(\"c3_interpolated_2450_50.csv\")\n",
    "training_set = data.iloc[:, 1]\n",
    "training_set"
   ]
  },
  {
   "cell_type": "code",
   "execution_count": 6,
   "metadata": {
    "colab": {
     "base_uri": "https://localhost:8080/"
    },
    "id": "-CbNUhJ74UqF",
    "outputId": "20f562d8-8247-49cc-b9c3-00eca5e13e2d"
   },
   "outputs": [
    {
     "data": {
      "text/plain": [
       "0       90.500000\n",
       "1       90.275910\n",
       "2       90.051821\n",
       "3       89.827731\n",
       "4       89.603641\n",
       "          ...    \n",
       "2445     0.000000\n",
       "2446     0.000000\n",
       "2447     0.000000\n",
       "2448     0.116940\n",
       "2449     0.000000\n",
       "Name: C2, Length: 2450, dtype: float64"
      ]
     },
     "execution_count": 6,
     "metadata": {},
     "output_type": "execute_result"
    }
   ],
   "source": [
    "test = training_set.tail(50)\n",
    "test\n",
    "training_set = training_set.head(2450)\n",
    "training_set"
   ]
  },
  {
   "cell_type": "code",
   "execution_count": 7,
   "metadata": {
    "colab": {
     "base_uri": "https://localhost:8080/"
    },
    "id": "X0TwTcq0yuoS",
    "outputId": "37252ed8-d88e-4044-fa7a-922411990b5b"
   },
   "outputs": [
    {
     "name": "stdout",
     "output_type": "stream",
     "text": [
      "0       0.000298\n",
      "1       0.000298\n",
      "2       0.000297\n",
      "3       0.000297\n",
      "4       0.000297\n",
      "          ...   \n",
      "9995    0.000018\n",
      "9996    0.000018\n",
      "9997    0.000018\n",
      "9998    0.000018\n",
      "9999    0.000018\n",
      "Name: 0, Length: 10000, dtype: float64\n"
     ]
    }
   ],
   "source": [
    "training_set = training_set.reset_index(drop=True)\n",
    "gradient_t = gradient_t.reset_index(drop=True)\n",
    "print(gradient_t)"
   ]
  },
  {
   "cell_type": "code",
   "execution_count": 8,
   "metadata": {
    "id": "O2biznZQyuoS"
   },
   "outputs": [],
   "source": [
    "df = pd.concat((training_set, gradient_t), axis=1)\n",
    "df.columns = ['y_t', 'grad_t']"
   ]
  },
  {
   "cell_type": "code",
   "execution_count": 9,
   "metadata": {
    "colab": {
     "base_uri": "https://localhost:8080/",
     "height": 423
    },
    "id": "sk_a5v3tyuoS",
    "outputId": "17563625-e550-45ae-faab-fafa353e44da"
   },
   "outputs": [
    {
     "data": {
      "text/html": [
       "<div>\n",
       "<style scoped>\n",
       "    .dataframe tbody tr th:only-of-type {\n",
       "        vertical-align: middle;\n",
       "    }\n",
       "\n",
       "    .dataframe tbody tr th {\n",
       "        vertical-align: top;\n",
       "    }\n",
       "\n",
       "    .dataframe thead th {\n",
       "        text-align: right;\n",
       "    }\n",
       "</style>\n",
       "<table border=\"1\" class=\"dataframe\">\n",
       "  <thead>\n",
       "    <tr style=\"text-align: right;\">\n",
       "      <th></th>\n",
       "      <th>y_t</th>\n",
       "      <th>grad_t</th>\n",
       "    </tr>\n",
       "  </thead>\n",
       "  <tbody>\n",
       "    <tr>\n",
       "      <th>0</th>\n",
       "      <td>90.500000</td>\n",
       "      <td>0.000298</td>\n",
       "    </tr>\n",
       "    <tr>\n",
       "      <th>1</th>\n",
       "      <td>90.275910</td>\n",
       "      <td>0.000298</td>\n",
       "    </tr>\n",
       "    <tr>\n",
       "      <th>2</th>\n",
       "      <td>90.051821</td>\n",
       "      <td>0.000297</td>\n",
       "    </tr>\n",
       "    <tr>\n",
       "      <th>3</th>\n",
       "      <td>89.827731</td>\n",
       "      <td>0.000297</td>\n",
       "    </tr>\n",
       "    <tr>\n",
       "      <th>4</th>\n",
       "      <td>89.603641</td>\n",
       "      <td>0.000297</td>\n",
       "    </tr>\n",
       "    <tr>\n",
       "      <th>...</th>\n",
       "      <td>...</td>\n",
       "      <td>...</td>\n",
       "    </tr>\n",
       "    <tr>\n",
       "      <th>9995</th>\n",
       "      <td>NaN</td>\n",
       "      <td>0.000018</td>\n",
       "    </tr>\n",
       "    <tr>\n",
       "      <th>9996</th>\n",
       "      <td>NaN</td>\n",
       "      <td>0.000018</td>\n",
       "    </tr>\n",
       "    <tr>\n",
       "      <th>9997</th>\n",
       "      <td>NaN</td>\n",
       "      <td>0.000018</td>\n",
       "    </tr>\n",
       "    <tr>\n",
       "      <th>9998</th>\n",
       "      <td>NaN</td>\n",
       "      <td>0.000018</td>\n",
       "    </tr>\n",
       "    <tr>\n",
       "      <th>9999</th>\n",
       "      <td>NaN</td>\n",
       "      <td>0.000018</td>\n",
       "    </tr>\n",
       "  </tbody>\n",
       "</table>\n",
       "<p>10000 rows × 2 columns</p>\n",
       "</div>"
      ],
      "text/plain": [
       "            y_t    grad_t\n",
       "0     90.500000  0.000298\n",
       "1     90.275910  0.000298\n",
       "2     90.051821  0.000297\n",
       "3     89.827731  0.000297\n",
       "4     89.603641  0.000297\n",
       "...         ...       ...\n",
       "9995        NaN  0.000018\n",
       "9996        NaN  0.000018\n",
       "9997        NaN  0.000018\n",
       "9998        NaN  0.000018\n",
       "9999        NaN  0.000018\n",
       "\n",
       "[10000 rows x 2 columns]"
      ]
     },
     "execution_count": 9,
     "metadata": {},
     "output_type": "execute_result"
    }
   ],
   "source": [
    "df"
   ]
  },
  {
   "cell_type": "markdown",
   "metadata": {
    "id": "-5esyHu5aFvg"
   },
   "source": [
    "## Plot of the External Forcing from Chaotic Differential Equation"
   ]
  },
  {
   "cell_type": "code",
   "execution_count": 10,
   "metadata": {
    "colab": {
     "base_uri": "https://localhost:8080/",
     "height": 447
    },
    "id": "hGnE43tOh-4p",
    "outputId": "fc396503-b624-4fa5-dfbe-f460207405c6"
   },
   "outputs": [
    {
     "data": {
      "text/plain": [
       "<Axes: >"
      ]
     },
     "execution_count": 10,
     "metadata": {},
     "output_type": "execute_result"
    },
    {
     "data": {
      "image/png": "[encoded data removed]",
      "text/plain": [
       "<Figure size 432x288 with 1 Axes>"
      ]
     },
     "metadata": {
      "needs_background": "light"
     },
     "output_type": "display_data"
    }
   ],
   "source": [
    "df.iloc[:, 0].plot()"
   ]
  },
  {
   "cell_type": "code",
   "execution_count": 11,
   "metadata": {
    "colab": {
     "base_uri": "https://localhost:8080/",
     "height": 447
    },
    "id": "ym4xWUUxaFvg",
    "outputId": "ae6a3495-8ce9-437e-ba81-3ed31deedeae"
   },
   "outputs": [
    {
     "name": "stderr",
     "output_type": "stream",
     "text": [
      "C:\\Users\\Anurag Dutta\\AppData\\Local\\Packages\\PythonSoftwareFoundation.Python.3.9_qbz5n2kfra8p0\\LocalCache\\local-packages\\Python39\\site-packages\\pandas\\core\\arraylike.py:402: RuntimeWarning: divide by zero encountered in log\n",
      "  result = getattr(ufunc, method)(*inputs, **kwargs)\n"
     ]
    },
    {
     "data": {
      "text/plain": [
       "<Axes: >"
      ]
     },
     "execution_count": 11,
     "metadata": {},
     "output_type": "execute_result"
    },
    {
     "data": {
      "image/png": "[encoded data removed]",
      "text/plain": [
       "<Figure size 432x288 with 1 Axes>"
      ]
     },
     "metadata": {
      "needs_background": "light"
     },
     "output_type": "display_data"
    }
   ],
   "source": [
    "import numpy as np\n",
    "c0 = 88.0403  # Value for C0\n",
    "K0 = -0.0012  # Value for K0\n",
    "K1 = -0.0001  # Value for K1\n",
    "a = 0.0000    # Value for a\n",
    "b = 0.0120    # Value for b\n",
    "c = 2.0334    # Value for c\n",
    "\n",
    "L = np.minimum(c0, (df.iloc[:, 1] - (df.iloc[:, 0] * (K0 - K1 * (9 * a * np.log(df.iloc[:, 0] / c0) / (K0 - K1 * c)**2 + 4 * b * np.log(df.iloc[:, 0] / c0) / (K0 - K1 * c) + c)))))\n",
    "L.plot()"
   ]
  },
  {
   "cell_type": "markdown",
   "metadata": {
    "id": "9VyEywnwaFvh"
   },
   "source": [
    "## Preprocessing the data into supervised learning"
   ]
  },
  {
   "cell_type": "code",
   "execution_count": 12,
   "metadata": {
    "id": "6V9dXqzdaFvh"
   },
   "outputs": [],
   "source": [
    "# split a sequence into samples\n",
    "def Supervised(data, n_in=1, n_out=1, dropnan=True):\n",
    "    n_vars = 1 if type(data) is list else data.shape[1]\n",
    "    df = pd.DataFrame(data)\n",
    "    cols, names = list(), list()\n",
    "    # input sequence (t-n_in, ... t-1)\n",
    "    for i in range(n_in, 0, -1):\n",
    "        cols.append(df.shift(i))\n",
    "        names += [('var%d(t-%d)' % (j+1, i)) for j in range(n_vars)]\n",
    "    # forecast sequence (t, t+1, ... t+n_out)\n",
    "    for i in range(0, n_out):\n",
    "      cols.append(df.shift(-i))\n",
    "      if i == 0:\n",
    "        names += [('var%d(t)' % (j+1)) for j in range(n_vars)]\n",
    "      else:\n",
    "        names += [('var%d(t+%d)' % (j+1, i)) for j in range(n_vars)]\n",
    "    # put it all together\n",
    "    agg = pd.concat(cols, axis=1)\n",
    "    agg.columns = names\n",
    "    # drop rows with NaN values\n",
    "    if dropnan:\n",
    "       agg.dropna(inplace=True)\n",
    "    return agg"
   ]
  },
  {
   "cell_type": "code",
   "execution_count": 13,
   "metadata": {
    "colab": {
     "base_uri": "https://localhost:8080/"
    },
    "id": "CrzSrT1HnyfH",
    "outputId": "7e75f928-3e47-499d-eac1-51908015ef78"
   },
   "outputs": [
    {
     "name": "stdout",
     "output_type": "stream",
     "text": [
      "     var1(t-175)  var1(t-174)  var1(t-173)  var1(t-172)  var1(t-171)  \\\n",
      "175    90.500000    90.275910    90.051821    89.827731    89.603641   \n",
      "176    90.275910    90.051821    89.827731    89.603641    89.379552   \n",
      "177    90.051821    89.827731    89.603641    89.379552    89.155462   \n",
      "178    89.827731    89.603641    89.379552    89.155462    88.931373   \n",
      "179    89.603641    89.379552    89.155462    88.931373    88.707283   \n",
      "\n",
      "     var1(t-170)  var1(t-169)  var1(t-168)  var1(t-167)  var1(t-166)  ...  \\\n",
      "175    89.379552    89.155462    88.931373    88.707283    88.494958  ...   \n",
      "176    89.155462    88.931373    88.707283    88.494958    88.427731  ...   \n",
      "177    88.931373    88.707283    88.494958    88.427731    88.360504  ...   \n",
      "178    88.707283    88.494958    88.427731    88.360504    88.293277  ...   \n",
      "179    88.494958    88.427731    88.360504    88.293277    88.226050  ...   \n",
      "\n",
      "     var1(t+45)  var2(t+45)  var1(t+46)  var2(t+46)  var1(t+47)  var2(t+47)  \\\n",
      "175   83.025023    0.000280   83.006349    0.000280   82.987675    0.000280   \n",
      "176   83.006349    0.000280   82.987675    0.000280   82.969001    0.000280   \n",
      "177   82.987675    0.000280   82.969001    0.000280   82.950327    0.000279   \n",
      "178   82.969001    0.000280   82.950327    0.000279   82.931653    0.000279   \n",
      "179   82.950327    0.000279   82.931653    0.000279   82.912979    0.000279   \n",
      "\n",
      "     var1(t+48)  var2(t+48)  var1(t+49)  var2(t+49)  \n",
      "175   82.969001    0.000280   82.950327    0.000279  \n",
      "176   82.950327    0.000279   82.931653    0.000279  \n",
      "177   82.931653    0.000279   82.912979    0.000279  \n",
      "178   82.912979    0.000279   82.894304    0.000279  \n",
      "179   82.894304    0.000279   82.875630    0.000279  \n",
      "\n",
      "[5 rows x 276 columns]\n",
      "Index(['var1(t-175)', 'var1(t-174)', 'var1(t-173)', 'var1(t-172)',\n",
      "       'var1(t-171)', 'var1(t-170)', 'var1(t-169)', 'var1(t-168)',\n",
      "       'var1(t-167)', 'var1(t-166)',\n",
      "       ...\n",
      "       'var1(t+45)', 'var2(t+45)', 'var1(t+46)', 'var2(t+46)', 'var1(t+47)',\n",
      "       'var2(t+47)', 'var1(t+48)', 'var2(t+48)', 'var1(t+49)', 'var2(t+49)'],\n",
      "      dtype='object', length=276)\n"
     ]
    }
   ],
   "source": [
    "data = Supervised(df.values, n_in = 175, n_out = 50)\n",
    "\n",
    "\n",
    "cols_to_drop = []\n",
    "for i in range(2, 176):\n",
    "    cols_to_drop.extend([f'var2(t-{i})'])\n",
    "\n",
    "data.drop(cols_to_drop, axis=1, inplace=True)\n",
    "\n",
    "print(data.head())\n",
    "print(data.columns)"
   ]
  },
  {
   "cell_type": "code",
   "execution_count": 14,
   "metadata": {
    "id": "AfPf60oy6Pe4"
   },
   "outputs": [],
   "source": [
    "train = np.array(data[0:len(data)-1])\n",
    "forecast = np.array(data.tail(1))"
   ]
  },
  {
   "cell_type": "code",
   "execution_count": 15,
   "metadata": {
    "id": "WSAafzI37KiT"
   },
   "outputs": [],
   "source": [
    "trainy = train[:,-150:]\n",
    "trainX = train[:,:-150]"
   ]
  },
  {
   "cell_type": "code",
   "execution_count": 16,
   "metadata": {
    "id": "2SrOqVJA7f50"
   },
   "outputs": [],
   "source": [
    "forecasty = forecast[:,-150:]\n",
    "forecastX = forecast[:,:-150]"
   ]
  },
  {
   "cell_type": "code",
   "execution_count": 17,
   "metadata": {
    "colab": {
     "base_uri": "https://localhost:8080/"
    },
    "id": "Qno_k8Nw7saY",
    "outputId": "c4a88db5-d8c6-489f-cdb2-06b24e293cff"
   },
   "outputs": [
    {
     "name": "stdout",
     "output_type": "stream",
     "text": [
      "(2225, 1, 126) (2225, 150) (1, 1, 126)\n"
     ]
    }
   ],
   "source": [
    "trainX = trainX.reshape((trainX.shape[0], 1, trainX.shape[1]))\n",
    "forecastX = forecastX.reshape((forecastX.shape[0], 1, forecastX.shape[1]))\n",
    "print(trainX.shape, trainy.shape, forecastX.shape)"
   ]
  },
  {
   "cell_type": "code",
   "execution_count": 18,
   "metadata": {
    "colab": {
     "base_uri": "https://localhost:8080/"
    },
    "id": "b1Jp2DvNuNFx",
    "outputId": "d0e5b3c4-64f1-438c-eade-8dfeaac8e285"
   },
   "outputs": [
    {
     "name": "stdout",
     "output_type": "stream",
     "text": [
      "Epoch 1/500\n",
      "28/28 [==============================] - 2s 20ms/step - loss: 4939.2900 - val_loss: 2357.5525\n",
      "Epoch 2/500\n",
      "28/28 [==============================] - 0s 4ms/step - loss: 4580.8779 - val_loss: 2201.0276\n",
      "Epoch 3/500\n",
      "28/28 [==============================] - 0s 4ms/step - loss: 4375.4619 - val_loss: 2106.4685\n",
      "Epoch 4/500\n",
      "28/28 [==============================] - 0s 4ms/step - loss: 4205.2847 - val_loss: 2029.8268\n",
      "Epoch 5/500\n",
      "28/28 [==============================] - 0s 4ms/step - loss: 4058.7615 - val_loss: 1965.5414\n",
      "Epoch 6/500\n",
      "28/28 [==============================] - 0s 4ms/step - loss: 3919.8757 - val_loss: 1904.2506\n",
      "Epoch 7/500\n",
      "28/28 [==============================] - 0s 4ms/step - loss: 3771.5107 - val_loss: 1842.4009\n",
      "Epoch 8/500\n",
      "28/28 [==============================] - 0s 4ms/step - loss: 3637.9890 - val_loss: 1782.5798\n",
      "Epoch 9/500\n",
      "28/28 [==============================] - 0s 4ms/step - loss: 3504.4800 - val_loss: 1726.4110\n",
      "Epoch 10/500\n",
      "28/28 [==============================] - 0s 4ms/step - loss: 3374.8672 - val_loss: 1674.9026\n",
      "Epoch 11/500\n",
      "28/28 [==============================] - 0s 5ms/step - loss: 3243.4460 - val_loss: 1623.1232\n",
      "Epoch 12/500\n",
      "28/28 [==============================] - 0s 5ms/step - loss: 3122.5469 - val_loss: 1574.5101\n",
      "Epoch 13/500\n",
      "28/28 [==============================] - 0s 4ms/step - loss: 3005.3650 - val_loss: 1528.5703\n",
      "Epoch 14/500\n",
      "28/28 [==============================] - 0s 6ms/step - loss: 2893.5015 - val_loss: 1482.3209\n",
      "Epoch 15/500\n",
      "28/28 [==============================] - 0s 4ms/step - loss: 2785.2209 - val_loss: 1437.3724\n",
      "Epoch 16/500\n",
      "28/28 [==============================] - 0s 4ms/step - loss: 2667.8848 - val_loss: 1391.8118\n",
      "Epoch 17/500\n",
      "28/28 [==============================] - 0s 4ms/step - loss: 2562.0115 - val_loss: 1355.6309\n",
      "Epoch 18/500\n",
      "28/28 [==============================] - 0s 4ms/step - loss: 2460.6865 - val_loss: 1313.4500\n",
      "Epoch 19/500\n",
      "28/28 [==============================] - 0s 4ms/step - loss: 2362.6392 - val_loss: 1276.3849\n",
      "Epoch 20/500\n",
      "28/28 [==============================] - 0s 4ms/step - loss: 2270.2314 - val_loss: 1241.0067\n",
      "Epoch 21/500\n",
      "28/28 [==============================] - 0s 4ms/step - loss: 2182.6709 - val_loss: 1213.6947\n",
      "Epoch 22/500\n",
      "28/28 [==============================] - 0s 4ms/step - loss: 2113.5349 - val_loss: 1188.0642\n",
      "Epoch 23/500\n",
      "28/28 [==============================] - 0s 4ms/step - loss: 2016.6251 - val_loss: 1162.4430\n",
      "Epoch 24/500\n",
      "28/28 [==============================] - 0s 3ms/step - loss: 1935.4797 - val_loss: 1137.4556\n",
      "Epoch 25/500\n",
      "28/28 [==============================] - 0s 5ms/step - loss: 1888.0635 - val_loss: 1116.3525\n",
      "Epoch 26/500\n",
      "28/28 [==============================] - 0s 5ms/step - loss: 1783.8126 - val_loss: 1088.6205\n",
      "Epoch 27/500\n",
      "28/28 [==============================] - 0s 5ms/step - loss: 1711.3563 - val_loss: 1064.2939\n",
      "Epoch 28/500\n",
      "28/28 [==============================] - 0s 5ms/step - loss: 1716.7296 - val_loss: 1035.3564\n",
      "Epoch 29/500\n",
      "28/28 [==============================] - 0s 5ms/step - loss: 1576.8434 - val_loss: 1025.2000\n",
      "Epoch 30/500\n",
      "28/28 [==============================] - 0s 6ms/step - loss: 1510.5463 - val_loss: 1003.6995\n",
      "Epoch 31/500\n",
      "28/28 [==============================] - 0s 7ms/step - loss: 1468.3503 - val_loss: 1014.6492\n",
      "Epoch 32/500\n",
      "28/28 [==============================] - 0s 7ms/step - loss: 1397.7429 - val_loss: 1000.2772\n",
      "Epoch 33/500\n",
      "28/28 [==============================] - 0s 7ms/step - loss: 1343.6951 - val_loss: 1002.5186\n",
      "Epoch 34/500\n",
      "28/28 [==============================] - 0s 7ms/step - loss: 1336.0308 - val_loss: 1009.3556\n",
      "Epoch 35/500\n",
      "28/28 [==============================] - 0s 6ms/step - loss: 1241.9642 - val_loss: 1008.8235\n",
      "Epoch 36/500\n",
      "28/28 [==============================] - 0s 5ms/step - loss: 1190.8250 - val_loss: 995.0699\n",
      "Epoch 37/500\n",
      "28/28 [==============================] - 0s 5ms/step - loss: 1152.0549 - val_loss: 992.0521\n",
      "Epoch 38/500\n",
      "28/28 [==============================] - 0s 5ms/step - loss: 1142.6389 - val_loss: 1017.5923\n",
      "Epoch 39/500\n",
      "28/28 [==============================] - 0s 6ms/step - loss: 1060.2709 - val_loss: 996.6874\n",
      "Epoch 40/500\n",
      "28/28 [==============================] - 0s 7ms/step - loss: 1028.7819 - val_loss: 1023.4532\n",
      "Epoch 41/500\n",
      "28/28 [==============================] - 0s 6ms/step - loss: 1072.8398 - val_loss: 1049.6019\n",
      "Epoch 42/500\n",
      "28/28 [==============================] - 0s 6ms/step - loss: 980.6453 - val_loss: 1115.6552\n",
      "Epoch 43/500\n",
      "28/28 [==============================] - 0s 5ms/step - loss: 924.9823 - val_loss: 1099.1852\n",
      "Epoch 44/500\n",
      "28/28 [==============================] - 0s 5ms/step - loss: 881.0713 - val_loss: 1080.6593\n",
      "Epoch 45/500\n",
      "28/28 [==============================] - 0s 6ms/step - loss: 842.9885 - val_loss: 1064.7534\n",
      "Epoch 46/500\n",
      "28/28 [==============================] - 0s 6ms/step - loss: 823.5577 - val_loss: 1105.3025\n",
      "Epoch 47/500\n",
      "28/28 [==============================] - 0s 6ms/step - loss: 796.0372 - val_loss: 1087.9111\n",
      "Epoch 48/500\n",
      "28/28 [==============================] - 0s 6ms/step - loss: 768.3154 - val_loss: 1145.6927\n",
      "Epoch 49/500\n",
      "28/28 [==============================] - 0s 6ms/step - loss: 738.8929 - val_loss: 1156.9409\n",
      "Epoch 50/500\n",
      "28/28 [==============================] - 0s 6ms/step - loss: 732.7927 - val_loss: 1178.4443\n",
      "Epoch 51/500\n",
      "28/28 [==============================] - 0s 6ms/step - loss: 691.2673 - val_loss: 1184.8041\n",
      "Epoch 52/500\n",
      "28/28 [==============================] - 0s 5ms/step - loss: 666.6842 - val_loss: 1185.7888\n",
      "Epoch 53/500\n",
      "28/28 [==============================] - 0s 5ms/step - loss: 643.5763 - val_loss: 1184.5824\n",
      "Epoch 54/500\n",
      "28/28 [==============================] - 0s 5ms/step - loss: 673.3236 - val_loss: 1201.5609\n",
      "Epoch 55/500\n",
      "28/28 [==============================] - 0s 5ms/step - loss: 603.6765 - val_loss: 1196.4414\n",
      "Epoch 56/500\n",
      "28/28 [==============================] - 0s 5ms/step - loss: 598.2089 - val_loss: 1245.9794\n",
      "Epoch 57/500\n",
      "28/28 [==============================] - 0s 5ms/step - loss: 599.5829 - val_loss: 1236.9872\n",
      "Epoch 58/500\n",
      "28/28 [==============================] - 0s 5ms/step - loss: 567.9650 - val_loss: 1251.3501\n",
      "Epoch 59/500\n",
      "28/28 [==============================] - 0s 4ms/step - loss: 569.2786 - val_loss: 1270.0146\n",
      "Epoch 60/500\n",
      "28/28 [==============================] - 0s 5ms/step - loss: 529.8386 - val_loss: 1271.5081\n",
      "Epoch 61/500\n",
      "28/28 [==============================] - 0s 4ms/step - loss: 511.4838 - val_loss: 1272.3789\n",
      "Epoch 62/500\n",
      "28/28 [==============================] - 0s 5ms/step - loss: 506.0832 - val_loss: 1261.7406\n",
      "Epoch 63/500\n",
      "28/28 [==============================] - 0s 6ms/step - loss: 504.4764 - val_loss: 1284.4871\n",
      "Epoch 64/500\n",
      "28/28 [==============================] - 0s 7ms/step - loss: 481.0022 - val_loss: 1262.2433\n",
      "Epoch 65/500\n",
      "28/28 [==============================] - 0s 6ms/step - loss: 484.9865 - val_loss: 1287.7583\n",
      "Epoch 66/500\n",
      "28/28 [==============================] - 0s 7ms/step - loss: 548.3465 - val_loss: 1331.7755\n",
      "Epoch 67/500\n",
      "28/28 [==============================] - 0s 17ms/step - loss: 487.3277 - val_loss: 1391.8927\n",
      "Epoch 68/500\n",
      "28/28 [==============================] - 0s 8ms/step - loss: 442.2448 - val_loss: 1397.4568\n",
      "Epoch 69/500\n",
      "28/28 [==============================] - 0s 6ms/step - loss: 452.8179 - val_loss: 1383.3524\n",
      "Epoch 70/500\n",
      "28/28 [==============================] - 0s 6ms/step - loss: 460.3981 - val_loss: 1375.9556\n",
      "Epoch 71/500\n",
      "28/28 [==============================] - 0s 5ms/step - loss: 425.2875 - val_loss: 1389.0538\n",
      "Epoch 72/500\n",
      "28/28 [==============================] - 0s 5ms/step - loss: 396.0445 - val_loss: 1376.0979\n",
      "Epoch 73/500\n",
      "28/28 [==============================] - 0s 5ms/step - loss: 414.4284 - val_loss: 1400.7957\n",
      "Epoch 74/500\n",
      "28/28 [==============================] - 0s 5ms/step - loss: 401.3905 - val_loss: 1382.9176\n",
      "Epoch 75/500\n",
      "28/28 [==============================] - 0s 5ms/step - loss: 395.7203 - val_loss: 1395.7506\n",
      "Epoch 76/500\n",
      "28/28 [==============================] - 0s 5ms/step - loss: 392.0302 - val_loss: 1440.3646\n",
      "Epoch 77/500\n",
      "28/28 [==============================] - 0s 5ms/step - loss: 371.7700 - val_loss: 1443.5404\n",
      "Epoch 78/500\n",
      "28/28 [==============================] - 0s 6ms/step - loss: 364.3514 - val_loss: 1438.5884\n",
      "Epoch 79/500\n",
      "28/28 [==============================] - 0s 9ms/step - loss: 376.6682 - val_loss: 1438.5979\n",
      "Epoch 80/500\n",
      "28/28 [==============================] - 0s 7ms/step - loss: 372.7687 - val_loss: 1451.3726\n",
      "Epoch 81/500\n",
      "28/28 [==============================] - 0s 7ms/step - loss: 354.6978 - val_loss: 1432.8380\n",
      "Epoch 82/500\n",
      "28/28 [==============================] - 0s 6ms/step - loss: 361.8807 - val_loss: 1438.7274\n",
      "Epoch 83/500\n",
      "28/28 [==============================] - 0s 5ms/step - loss: 355.9019 - val_loss: 1430.9310\n",
      "Epoch 84/500\n",
      "28/28 [==============================] - 0s 5ms/step - loss: 353.9290 - val_loss: 1449.0699\n",
      "Epoch 85/500\n",
      "28/28 [==============================] - 0s 5ms/step - loss: 365.6507 - val_loss: 1446.8392\n",
      "Epoch 86/500\n",
      "28/28 [==============================] - 0s 5ms/step - loss: 361.1874 - val_loss: 1455.1028\n",
      "Epoch 87/500\n",
      "28/28 [==============================] - 0s 5ms/step - loss: 357.5139 - val_loss: 1459.2070\n",
      "Epoch 88/500\n",
      "28/28 [==============================] - 0s 5ms/step - loss: 352.9989 - val_loss: 1464.7048\n",
      "Epoch 89/500\n",
      "28/28 [==============================] - 0s 5ms/step - loss: 350.1045 - val_loss: 1491.8276\n",
      "Epoch 90/500\n",
      "28/28 [==============================] - 0s 5ms/step - loss: 350.2216 - val_loss: 1546.6158\n",
      "Epoch 91/500\n",
      "28/28 [==============================] - 0s 5ms/step - loss: 345.4933 - val_loss: 1548.8794\n",
      "Epoch 92/500\n",
      "28/28 [==============================] - 0s 5ms/step - loss: 344.8544 - val_loss: 1559.5657\n",
      "Epoch 93/500\n",
      "28/28 [==============================] - 0s 5ms/step - loss: 342.6750 - val_loss: 1559.8408\n",
      "Epoch 94/500\n",
      "28/28 [==============================] - 0s 5ms/step - loss: 339.3251 - val_loss: 1551.7385\n",
      "Epoch 95/500\n",
      "28/28 [==============================] - 0s 5ms/step - loss: 338.0486 - val_loss: 1557.4048\n",
      "Epoch 96/500\n",
      "28/28 [==============================] - 0s 5ms/step - loss: 330.6667 - val_loss: 1545.2991\n",
      "Epoch 97/500\n",
      "28/28 [==============================] - 0s 6ms/step - loss: 327.8366 - val_loss: 1541.1841\n",
      "Epoch 98/500\n",
      "28/28 [==============================] - 0s 5ms/step - loss: 331.3111 - val_loss: 1571.9830\n",
      "Epoch 99/500\n",
      "28/28 [==============================] - 0s 5ms/step - loss: 329.3295 - val_loss: 1566.4266\n",
      "Epoch 100/500\n",
      "28/28 [==============================] - 0s 5ms/step - loss: 330.3662 - val_loss: 1574.7889\n",
      "Epoch 101/500\n",
      "28/28 [==============================] - 0s 5ms/step - loss: 325.0128 - val_loss: 1564.0161\n",
      "Epoch 102/500\n",
      "28/28 [==============================] - 0s 5ms/step - loss: 323.3058 - val_loss: 1557.0413\n",
      "Epoch 103/500\n",
      "28/28 [==============================] - 0s 11ms/step - loss: 336.1646 - val_loss: 1550.5880\n",
      "Epoch 104/500\n",
      "28/28 [==============================] - 0s 6ms/step - loss: 334.1616 - val_loss: 1555.0073\n",
      "Epoch 105/500\n",
      "28/28 [==============================] - 0s 7ms/step - loss: 317.1977 - val_loss: 1561.9087\n",
      "Epoch 106/500\n",
      "28/28 [==============================] - 0s 6ms/step - loss: 314.9612 - val_loss: 1557.4104\n",
      "Epoch 107/500\n",
      "28/28 [==============================] - 0s 6ms/step - loss: 313.7096 - val_loss: 1555.7739\n",
      "Epoch 108/500\n",
      "28/28 [==============================] - 0s 5ms/step - loss: 312.8560 - val_loss: 1553.0989\n",
      "Epoch 109/500\n",
      "28/28 [==============================] - 0s 5ms/step - loss: 323.7986 - val_loss: 1551.6222\n",
      "Epoch 110/500\n",
      "28/28 [==============================] - 0s 5ms/step - loss: 322.0106 - val_loss: 1551.0634\n",
      "Epoch 111/500\n",
      "28/28 [==============================] - 0s 5ms/step - loss: 327.8915 - val_loss: 1585.7719\n",
      "Epoch 112/500\n",
      "28/28 [==============================] - 0s 5ms/step - loss: 324.2705 - val_loss: 1572.9679\n",
      "Epoch 113/500\n",
      "28/28 [==============================] - 0s 6ms/step - loss: 323.7372 - val_loss: 1555.6787\n",
      "Epoch 114/500\n",
      "28/28 [==============================] - 0s 5ms/step - loss: 320.0818 - val_loss: 1544.3314\n",
      "Epoch 115/500\n",
      "28/28 [==============================] - 0s 5ms/step - loss: 310.8514 - val_loss: 1543.6530\n",
      "Epoch 116/500\n",
      "28/28 [==============================] - 0s 5ms/step - loss: 317.6183 - val_loss: 1577.5161\n",
      "Epoch 117/500\n",
      "28/28 [==============================] - 0s 5ms/step - loss: 312.1797 - val_loss: 1564.1963\n",
      "Epoch 118/500\n",
      "28/28 [==============================] - 0s 5ms/step - loss: 322.2576 - val_loss: 1553.1993\n",
      "Epoch 119/500\n",
      "28/28 [==============================] - 0s 5ms/step - loss: 315.1230 - val_loss: 1528.8076\n",
      "Epoch 120/500\n",
      "28/28 [==============================] - 0s 5ms/step - loss: 308.9789 - val_loss: 1514.0645\n",
      "Epoch 121/500\n",
      "28/28 [==============================] - 0s 5ms/step - loss: 307.8153 - val_loss: 1518.8953\n",
      "Epoch 122/500\n",
      "28/28 [==============================] - 0s 5ms/step - loss: 305.6667 - val_loss: 1516.2224\n",
      "Epoch 123/500\n",
      "28/28 [==============================] - 0s 5ms/step - loss: 303.3351 - val_loss: 1543.6405\n",
      "Epoch 124/500\n",
      "28/28 [==============================] - 0s 5ms/step - loss: 296.0551 - val_loss: 1517.6897\n",
      "Epoch 125/500\n",
      "28/28 [==============================] - 0s 5ms/step - loss: 304.6138 - val_loss: 1507.4039\n",
      "Epoch 126/500\n",
      "28/28 [==============================] - 0s 5ms/step - loss: 308.7197 - val_loss: 1536.9326\n",
      "Epoch 127/500\n",
      "28/28 [==============================] - 0s 5ms/step - loss: 305.8321 - val_loss: 1533.9224\n",
      "Epoch 128/500\n",
      "28/28 [==============================] - 0s 5ms/step - loss: 292.6976 - val_loss: 1521.8787\n",
      "Epoch 129/500\n",
      "28/28 [==============================] - 0s 5ms/step - loss: 290.7808 - val_loss: 1508.4640\n",
      "Epoch 130/500\n",
      "28/28 [==============================] - 0s 5ms/step - loss: 289.7911 - val_loss: 1503.4922\n",
      "Epoch 131/500\n",
      "28/28 [==============================] - 0s 5ms/step - loss: 288.7920 - val_loss: 1497.5553\n",
      "Epoch 132/500\n",
      "28/28 [==============================] - 0s 5ms/step - loss: 287.7743 - val_loss: 1495.9795\n",
      "Epoch 133/500\n",
      "28/28 [==============================] - 0s 5ms/step - loss: 286.6876 - val_loss: 1489.8340\n",
      "Epoch 134/500\n",
      "28/28 [==============================] - 0s 5ms/step - loss: 285.2749 - val_loss: 1484.3126\n",
      "Epoch 135/500\n",
      "28/28 [==============================] - 0s 5ms/step - loss: 284.2191 - val_loss: 1477.0614\n",
      "Epoch 136/500\n",
      "28/28 [==============================] - 0s 6ms/step - loss: 282.8841 - val_loss: 1471.9293\n",
      "Epoch 137/500\n",
      "28/28 [==============================] - 0s 5ms/step - loss: 281.2017 - val_loss: 1464.7699\n",
      "Epoch 138/500\n",
      "28/28 [==============================] - 0s 5ms/step - loss: 276.9593 - val_loss: 1438.8468\n",
      "Epoch 139/500\n",
      "28/28 [==============================] - 0s 5ms/step - loss: 281.4247 - val_loss: 1422.3617\n",
      "Epoch 140/500\n",
      "28/28 [==============================] - 0s 5ms/step - loss: 286.1016 - val_loss: 1444.5974\n",
      "Epoch 141/500\n",
      "28/28 [==============================] - 0s 14ms/step - loss: 283.0881 - val_loss: 1435.4154\n",
      "Epoch 142/500\n",
      "28/28 [==============================] - 0s 6ms/step - loss: 279.8540 - val_loss: 1419.6884\n",
      "Epoch 143/500\n",
      "28/28 [==============================] - 0s 5ms/step - loss: 289.8171 - val_loss: 1417.8850\n",
      "Epoch 144/500\n",
      "28/28 [==============================] - 0s 5ms/step - loss: 291.4094 - val_loss: 1458.6775\n",
      "Epoch 145/500\n",
      "28/28 [==============================] - 0s 5ms/step - loss: 297.2425 - val_loss: 1525.9254\n",
      "Epoch 146/500\n",
      "28/28 [==============================] - 0s 5ms/step - loss: 303.6495 - val_loss: 1500.1187\n",
      "Epoch 147/500\n",
      "28/28 [==============================] - 0s 5ms/step - loss: 305.5133 - val_loss: 1509.4386\n",
      "Epoch 148/500\n",
      "28/28 [==============================] - 0s 5ms/step - loss: 292.8488 - val_loss: 1482.8994\n",
      "Epoch 149/500\n",
      "28/28 [==============================] - 0s 5ms/step - loss: 280.7429 - val_loss: 1450.8972\n",
      "Epoch 150/500\n",
      "28/28 [==============================] - 0s 5ms/step - loss: 275.9744 - val_loss: 1433.9247\n",
      "Epoch 151/500\n",
      "28/28 [==============================] - 0s 5ms/step - loss: 274.4810 - val_loss: 1429.9500\n",
      "Epoch 152/500\n",
      "28/28 [==============================] - 0s 5ms/step - loss: 272.1015 - val_loss: 1414.8125\n",
      "Epoch 153/500\n",
      "28/28 [==============================] - 0s 6ms/step - loss: 270.8527 - val_loss: 1409.9495\n",
      "Epoch 154/500\n",
      "28/28 [==============================] - 0s 5ms/step - loss: 268.9501 - val_loss: 1376.1377\n",
      "Epoch 155/500\n",
      "28/28 [==============================] - 0s 5ms/step - loss: 277.2730 - val_loss: 1427.3738\n",
      "Epoch 156/500\n",
      "28/28 [==============================] - 0s 6ms/step - loss: 270.5130 - val_loss: 1400.4791\n",
      "Epoch 157/500\n",
      "28/28 [==============================] - 0s 5ms/step - loss: 264.2263 - val_loss: 1386.7109\n",
      "Epoch 158/500\n",
      "28/28 [==============================] - 0s 6ms/step - loss: 263.1208 - val_loss: 1383.8789\n",
      "Epoch 159/500\n",
      "28/28 [==============================] - 0s 6ms/step - loss: 262.0656 - val_loss: 1382.0743\n",
      "Epoch 160/500\n",
      "28/28 [==============================] - 0s 5ms/step - loss: 261.3109 - val_loss: 1376.0123\n",
      "Epoch 161/500\n",
      "28/28 [==============================] - 0s 5ms/step - loss: 260.2469 - val_loss: 1374.3630\n",
      "Epoch 162/500\n",
      "28/28 [==============================] - 0s 5ms/step - loss: 259.1591 - val_loss: 1373.4751\n",
      "Epoch 163/500\n",
      "28/28 [==============================] - 0s 5ms/step - loss: 258.3517 - val_loss: 1366.5242\n",
      "Epoch 164/500\n",
      "28/28 [==============================] - 0s 5ms/step - loss: 269.4205 - val_loss: 1365.0697\n",
      "Epoch 165/500\n",
      "28/28 [==============================] - 0s 5ms/step - loss: 268.1930 - val_loss: 1367.0690\n",
      "Epoch 166/500\n",
      "28/28 [==============================] - 0s 5ms/step - loss: 267.4542 - val_loss: 1365.0918\n",
      "Epoch 167/500\n",
      "28/28 [==============================] - 0s 5ms/step - loss: 266.0134 - val_loss: 1365.3276\n",
      "Epoch 168/500\n",
      "28/28 [==============================] - 0s 5ms/step - loss: 267.0911 - val_loss: 1402.4978\n",
      "Epoch 169/500\n",
      "28/28 [==============================] - 0s 5ms/step - loss: 262.6768 - val_loss: 1397.5319\n",
      "Epoch 170/500\n",
      "28/28 [==============================] - 0s 5ms/step - loss: 258.9001 - val_loss: 1380.6235\n",
      "Epoch 171/500\n",
      "28/28 [==============================] - 0s 4ms/step - loss: 254.7385 - val_loss: 1358.2135\n",
      "Epoch 172/500\n",
      "28/28 [==============================] - 0s 5ms/step - loss: 264.9609 - val_loss: 1350.5344\n",
      "Epoch 173/500\n",
      "28/28 [==============================] - 0s 5ms/step - loss: 263.6528 - val_loss: 1349.3075\n",
      "Epoch 174/500\n",
      "28/28 [==============================] - 0s 5ms/step - loss: 261.1735 - val_loss: 1333.1471\n",
      "Epoch 175/500\n",
      "28/28 [==============================] - 0s 11ms/step - loss: 258.2693 - val_loss: 1331.6688\n",
      "Epoch 176/500\n",
      "28/28 [==============================] - 0s 7ms/step - loss: 257.3293 - val_loss: 1328.4495\n",
      "Epoch 177/500\n",
      "28/28 [==============================] - 0s 5ms/step - loss: 263.3824 - val_loss: 1335.1338\n",
      "Epoch 178/500\n",
      "28/28 [==============================] - 0s 5ms/step - loss: 254.8340 - val_loss: 1329.0289\n",
      "Epoch 179/500\n",
      "28/28 [==============================] - 0s 6ms/step - loss: 253.5442 - val_loss: 1329.4498\n",
      "Epoch 180/500\n",
      "28/28 [==============================] - 0s 5ms/step - loss: 252.5883 - val_loss: 1329.6879\n",
      "Epoch 181/500\n",
      "28/28 [==============================] - 0s 5ms/step - loss: 251.4523 - val_loss: 1326.8771\n",
      "Epoch 182/500\n",
      "28/28 [==============================] - 0s 5ms/step - loss: 250.6902 - val_loss: 1321.5242\n",
      "Epoch 183/500\n",
      "28/28 [==============================] - 0s 5ms/step - loss: 250.0098 - val_loss: 1318.5743\n",
      "Epoch 184/500\n",
      "28/28 [==============================] - 0s 5ms/step - loss: 265.1841 - val_loss: 1320.8696\n",
      "Epoch 185/500\n",
      "28/28 [==============================] - 0s 5ms/step - loss: 266.2646 - val_loss: 1382.9703\n",
      "Epoch 186/500\n",
      "28/28 [==============================] - 0s 5ms/step - loss: 261.0262 - val_loss: 1378.2098\n",
      "Epoch 187/500\n",
      "28/28 [==============================] - 0s 5ms/step - loss: 259.8724 - val_loss: 1365.7139\n",
      "Epoch 188/500\n",
      "28/28 [==============================] - 0s 5ms/step - loss: 259.0180 - val_loss: 1361.7703\n",
      "Epoch 189/500\n",
      "28/28 [==============================] - 0s 5ms/step - loss: 257.9013 - val_loss: 1362.2982\n",
      "Epoch 190/500\n",
      "28/28 [==============================] - 0s 6ms/step - loss: 256.9963 - val_loss: 1343.5840\n",
      "Epoch 191/500\n",
      "28/28 [==============================] - 0s 5ms/step - loss: 275.0960 - val_loss: 1338.3752\n",
      "Epoch 192/500\n",
      "28/28 [==============================] - 0s 6ms/step - loss: 273.8289 - val_loss: 1340.8564\n",
      "Epoch 193/500\n",
      "28/28 [==============================] - 0s 6ms/step - loss: 264.3808 - val_loss: 1298.9008\n",
      "Epoch 194/500\n",
      "28/28 [==============================] - 0s 5ms/step - loss: 275.0824 - val_loss: 1295.9330\n",
      "Epoch 195/500\n",
      "28/28 [==============================] - 0s 5ms/step - loss: 268.0087 - val_loss: 1300.1625\n",
      "Epoch 196/500\n",
      "28/28 [==============================] - 0s 6ms/step - loss: 267.0127 - val_loss: 1307.2255\n",
      "Epoch 197/500\n",
      "28/28 [==============================] - 0s 6ms/step - loss: 264.4941 - val_loss: 1306.0219\n",
      "Epoch 198/500\n",
      "28/28 [==============================] - 0s 5ms/step - loss: 288.8329 - val_loss: 1307.4275\n",
      "Epoch 199/500\n",
      "28/28 [==============================] - 0s 5ms/step - loss: 286.7172 - val_loss: 1311.3486\n",
      "Epoch 200/500\n",
      "28/28 [==============================] - 0s 5ms/step - loss: 286.5214 - val_loss: 1322.6801\n",
      "Epoch 201/500\n",
      "28/28 [==============================] - 0s 5ms/step - loss: 280.8969 - val_loss: 1321.6318\n",
      "Epoch 202/500\n",
      "28/28 [==============================] - 0s 5ms/step - loss: 256.7676 - val_loss: 1329.0156\n",
      "Epoch 203/500\n",
      "28/28 [==============================] - 0s 4ms/step - loss: 255.3999 - val_loss: 1319.7424\n",
      "Epoch 204/500\n",
      "28/28 [==============================] - 0s 5ms/step - loss: 254.5201 - val_loss: 1316.9191\n",
      "Epoch 205/500\n",
      "28/28 [==============================] - 0s 5ms/step - loss: 253.2964 - val_loss: 1315.8401\n",
      "Epoch 206/500\n",
      "28/28 [==============================] - 0s 5ms/step - loss: 252.8790 - val_loss: 1316.5857\n",
      "Epoch 207/500\n",
      "28/28 [==============================] - 0s 5ms/step - loss: 251.4289 - val_loss: 1302.9318\n",
      "Epoch 208/500\n",
      "28/28 [==============================] - 0s 5ms/step - loss: 282.8393 - val_loss: 1335.4537\n",
      "Epoch 209/500\n",
      "28/28 [==============================] - 0s 11ms/step - loss: 273.4395 - val_loss: 1316.6755\n",
      "Epoch 210/500\n",
      "28/28 [==============================] - 0s 6ms/step - loss: 267.1337 - val_loss: 1303.7573\n",
      "Epoch 211/500\n",
      "28/28 [==============================] - 0s 5ms/step - loss: 264.6717 - val_loss: 1293.6678\n",
      "Epoch 212/500\n",
      "28/28 [==============================] - 0s 5ms/step - loss: 263.1173 - val_loss: 1300.3917\n",
      "Epoch 213/500\n",
      "28/28 [==============================] - 0s 5ms/step - loss: 261.8554 - val_loss: 1293.4918\n",
      "Epoch 214/500\n",
      "28/28 [==============================] - 0s 5ms/step - loss: 300.0418 - val_loss: 1367.0812\n",
      "Epoch 215/500\n",
      "28/28 [==============================] - 0s 5ms/step - loss: 326.1635 - val_loss: 1386.1136\n",
      "Epoch 216/500\n",
      "28/28 [==============================] - 0s 5ms/step - loss: 313.3889 - val_loss: 1395.1241\n",
      "Epoch 217/500\n",
      "28/28 [==============================] - 0s 5ms/step - loss: 293.3224 - val_loss: 1398.7362\n",
      "Epoch 218/500\n",
      "28/28 [==============================] - 0s 5ms/step - loss: 286.4549 - val_loss: 1386.5603\n",
      "Epoch 219/500\n",
      "28/28 [==============================] - 0s 5ms/step - loss: 309.3038 - val_loss: 1381.8073\n",
      "Epoch 220/500\n",
      "28/28 [==============================] - 0s 4ms/step - loss: 307.9184 - val_loss: 1436.7500\n",
      "Epoch 221/500\n",
      "28/28 [==============================] - 0s 4ms/step - loss: 284.7282 - val_loss: 1428.8031\n",
      "Epoch 222/500\n",
      "28/28 [==============================] - 0s 5ms/step - loss: 276.4681 - val_loss: 1405.1388\n",
      "Epoch 223/500\n",
      "28/28 [==============================] - 0s 5ms/step - loss: 290.5723 - val_loss: 1442.6729\n",
      "Epoch 224/500\n",
      "28/28 [==============================] - 0s 5ms/step - loss: 277.6547 - val_loss: 1392.2510\n",
      "Epoch 225/500\n",
      "28/28 [==============================] - 0s 4ms/step - loss: 287.4815 - val_loss: 1360.6913\n",
      "Epoch 226/500\n",
      "28/28 [==============================] - 0s 5ms/step - loss: 280.0964 - val_loss: 1341.2679\n",
      "Epoch 227/500\n",
      "28/28 [==============================] - 0s 5ms/step - loss: 276.1998 - val_loss: 1335.6940\n",
      "Epoch 228/500\n",
      "28/28 [==============================] - 0s 5ms/step - loss: 272.0927 - val_loss: 1324.7701\n",
      "Epoch 229/500\n",
      "28/28 [==============================] - 0s 5ms/step - loss: 239.0890 - val_loss: 1239.4985\n",
      "Epoch 230/500\n",
      "28/28 [==============================] - 0s 5ms/step - loss: 252.4219 - val_loss: 1242.7133\n",
      "Epoch 231/500\n",
      "28/28 [==============================] - 0s 4ms/step - loss: 255.7880 - val_loss: 1280.3188\n",
      "Epoch 232/500\n",
      "28/28 [==============================] - 0s 5ms/step - loss: 253.9676 - val_loss: 1275.2750\n",
      "Epoch 233/500\n",
      "28/28 [==============================] - 0s 5ms/step - loss: 252.6507 - val_loss: 1279.9185\n",
      "Epoch 234/500\n",
      "28/28 [==============================] - 0s 5ms/step - loss: 250.9133 - val_loss: 1276.8815\n",
      "Epoch 235/500\n",
      "28/28 [==============================] - 0s 5ms/step - loss: 249.3092 - val_loss: 1273.4086\n",
      "Epoch 236/500\n",
      "28/28 [==============================] - 0s 5ms/step - loss: 244.8982 - val_loss: 1261.1555\n",
      "Epoch 237/500\n",
      "28/28 [==============================] - 0s 5ms/step - loss: 247.6861 - val_loss: 1275.0820\n",
      "Epoch 238/500\n",
      "28/28 [==============================] - 0s 5ms/step - loss: 253.1456 - val_loss: 1301.1331\n",
      "Epoch 239/500\n",
      "28/28 [==============================] - 0s 5ms/step - loss: 246.9657 - val_loss: 1294.4390\n",
      "Epoch 240/500\n",
      "28/28 [==============================] - 0s 5ms/step - loss: 245.4612 - val_loss: 1285.0775\n",
      "Epoch 241/500\n",
      "28/28 [==============================] - 0s 10ms/step - loss: 260.5987 - val_loss: 1337.6996\n",
      "Epoch 242/500\n",
      "28/28 [==============================] - 0s 6ms/step - loss: 253.5385 - val_loss: 1327.7096\n",
      "Epoch 243/500\n",
      "28/28 [==============================] - 0s 5ms/step - loss: 250.6350 - val_loss: 1311.7753\n",
      "Epoch 244/500\n",
      "28/28 [==============================] - 0s 5ms/step - loss: 247.8346 - val_loss: 1298.7352\n",
      "Epoch 245/500\n",
      "28/28 [==============================] - 0s 5ms/step - loss: 245.2694 - val_loss: 1285.9723\n",
      "Epoch 246/500\n",
      "28/28 [==============================] - 0s 5ms/step - loss: 242.2989 - val_loss: 1273.7394\n",
      "Epoch 247/500\n",
      "28/28 [==============================] - 0s 5ms/step - loss: 238.8291 - val_loss: 1252.8500\n",
      "Epoch 248/500\n",
      "28/28 [==============================] - 0s 5ms/step - loss: 244.1448 - val_loss: 1282.7711\n",
      "Epoch 249/500\n",
      "28/28 [==============================] - 0s 5ms/step - loss: 237.1888 - val_loss: 1258.0870\n",
      "Epoch 250/500\n",
      "28/28 [==============================] - 0s 4ms/step - loss: 234.4376 - val_loss: 1242.3705\n",
      "Epoch 251/500\n",
      "28/28 [==============================] - 0s 5ms/step - loss: 230.7046 - val_loss: 1236.0244\n",
      "Epoch 252/500\n",
      "28/28 [==============================] - 0s 5ms/step - loss: 229.6253 - val_loss: 1231.6759\n",
      "Epoch 253/500\n",
      "28/28 [==============================] - 0s 5ms/step - loss: 228.4016 - val_loss: 1228.4005\n",
      "Epoch 254/500\n",
      "28/28 [==============================] - 0s 5ms/step - loss: 241.7621 - val_loss: 1270.3918\n",
      "Epoch 255/500\n",
      "28/28 [==============================] - 0s 5ms/step - loss: 234.8792 - val_loss: 1264.6716\n",
      "Epoch 256/500\n",
      "28/28 [==============================] - 0s 5ms/step - loss: 232.1521 - val_loss: 1250.6184\n",
      "Epoch 257/500\n",
      "28/28 [==============================] - 0s 5ms/step - loss: 230.9480 - val_loss: 1245.2976\n",
      "Epoch 258/500\n",
      "28/28 [==============================] - 0s 5ms/step - loss: 230.1454 - val_loss: 1241.8073\n",
      "Epoch 259/500\n",
      "28/28 [==============================] - 0s 5ms/step - loss: 229.1244 - val_loss: 1237.6539\n",
      "Epoch 260/500\n",
      "28/28 [==============================] - 0s 5ms/step - loss: 228.1568 - val_loss: 1232.8956\n",
      "Epoch 261/500\n",
      "28/28 [==============================] - 0s 5ms/step - loss: 227.2838 - val_loss: 1227.4640\n",
      "Epoch 262/500\n",
      "28/28 [==============================] - 0s 5ms/step - loss: 226.5041 - val_loss: 1224.1105\n",
      "Epoch 263/500\n",
      "28/28 [==============================] - 0s 5ms/step - loss: 225.7127 - val_loss: 1220.5911\n",
      "Epoch 264/500\n",
      "28/28 [==============================] - 0s 5ms/step - loss: 225.5244 - val_loss: 1223.7783\n",
      "Epoch 265/500\n",
      "28/28 [==============================] - 0s 5ms/step - loss: 225.5921 - val_loss: 1239.2048\n",
      "Epoch 266/500\n",
      "28/28 [==============================] - 0s 5ms/step - loss: 230.8709 - val_loss: 1241.9733\n",
      "Epoch 267/500\n",
      "28/28 [==============================] - 0s 5ms/step - loss: 225.0553 - val_loss: 1180.6840\n",
      "Epoch 268/500\n",
      "28/28 [==============================] - 0s 5ms/step - loss: 296.0933 - val_loss: 1172.8599\n",
      "Epoch 269/500\n",
      "28/28 [==============================] - 0s 5ms/step - loss: 287.6812 - val_loss: 1192.3973\n",
      "Epoch 270/500\n",
      "28/28 [==============================] - 0s 5ms/step - loss: 281.0819 - val_loss: 1204.5188\n",
      "Epoch 271/500\n",
      "28/28 [==============================] - 0s 4ms/step - loss: 280.2408 - val_loss: 1233.6401\n",
      "Epoch 272/500\n",
      "28/28 [==============================] - 0s 5ms/step - loss: 268.0721 - val_loss: 1236.4626\n",
      "Epoch 273/500\n",
      "28/28 [==============================] - 0s 5ms/step - loss: 267.2686 - val_loss: 1257.8560\n",
      "Epoch 274/500\n",
      "28/28 [==============================] - 0s 5ms/step - loss: 260.6051 - val_loss: 1268.7642\n",
      "Epoch 275/500\n",
      "28/28 [==============================] - 0s 9ms/step - loss: 238.1290 - val_loss: 1266.1306\n",
      "Epoch 276/500\n",
      "28/28 [==============================] - 0s 7ms/step - loss: 256.2297 - val_loss: 1271.5771\n",
      "Epoch 277/500\n",
      "28/28 [==============================] - 0s 5ms/step - loss: 254.8037 - val_loss: 1275.5913\n",
      "Epoch 278/500\n",
      "28/28 [==============================] - 0s 5ms/step - loss: 253.6669 - val_loss: 1265.9135\n",
      "Epoch 279/500\n",
      "28/28 [==============================] - 0s 5ms/step - loss: 251.4783 - val_loss: 1271.7683\n",
      "Epoch 280/500\n",
      "28/28 [==============================] - 0s 5ms/step - loss: 249.8710 - val_loss: 1277.5967\n",
      "Epoch 281/500\n",
      "28/28 [==============================] - 0s 5ms/step - loss: 248.5031 - val_loss: 1283.5640\n",
      "Epoch 282/500\n",
      "28/28 [==============================] - 0s 5ms/step - loss: 247.3254 - val_loss: 1286.6334\n",
      "Epoch 283/500\n",
      "28/28 [==============================] - 0s 6ms/step - loss: 246.2628 - val_loss: 1289.1603\n",
      "Epoch 284/500\n",
      "28/28 [==============================] - 0s 6ms/step - loss: 245.5145 - val_loss: 1287.9458\n",
      "Epoch 285/500\n",
      "28/28 [==============================] - 0s 6ms/step - loss: 260.9540 - val_loss: 1331.2913\n",
      "Epoch 286/500\n",
      "28/28 [==============================] - 0s 7ms/step - loss: 248.3763 - val_loss: 1299.7241\n",
      "Epoch 287/500\n",
      "28/28 [==============================] - 0s 7ms/step - loss: 243.3957 - val_loss: 1283.7605\n",
      "Epoch 288/500\n",
      "28/28 [==============================] - 0s 6ms/step - loss: 248.0775 - val_loss: 1305.3511\n",
      "Epoch 289/500\n",
      "28/28 [==============================] - 0s 5ms/step - loss: 245.2350 - val_loss: 1297.3175\n",
      "Epoch 290/500\n",
      "28/28 [==============================] - 0s 5ms/step - loss: 241.0702 - val_loss: 1289.4550\n",
      "Epoch 291/500\n",
      "28/28 [==============================] - 0s 5ms/step - loss: 239.7376 - val_loss: 1281.5292\n",
      "Epoch 292/500\n",
      "28/28 [==============================] - 0s 5ms/step - loss: 240.1103 - val_loss: 1270.1218\n",
      "Epoch 293/500\n",
      "28/28 [==============================] - 0s 5ms/step - loss: 270.8289 - val_loss: 1254.0793\n",
      "Epoch 294/500\n",
      "28/28 [==============================] - 0s 5ms/step - loss: 273.4800 - val_loss: 1254.7571\n",
      "Epoch 295/500\n",
      "28/28 [==============================] - 0s 5ms/step - loss: 236.9704 - val_loss: 1256.3160\n",
      "Epoch 296/500\n",
      "28/28 [==============================] - 0s 5ms/step - loss: 236.1929 - val_loss: 1253.3270\n",
      "Epoch 297/500\n",
      "28/28 [==============================] - 0s 5ms/step - loss: 236.8099 - val_loss: 1242.6188\n",
      "Epoch 298/500\n",
      "28/28 [==============================] - 0s 5ms/step - loss: 269.4781 - val_loss: 1242.0352\n",
      "Epoch 299/500\n",
      "28/28 [==============================] - 0s 5ms/step - loss: 266.4724 - val_loss: 1259.0211\n",
      "Epoch 300/500\n",
      "28/28 [==============================] - 0s 5ms/step - loss: 263.6787 - val_loss: 1272.9060\n",
      "Epoch 301/500\n",
      "28/28 [==============================] - 0s 5ms/step - loss: 261.0539 - val_loss: 1287.0671\n",
      "Epoch 302/500\n",
      "28/28 [==============================] - 0s 5ms/step - loss: 258.9055 - val_loss: 1296.9553\n",
      "Epoch 303/500\n",
      "28/28 [==============================] - 0s 5ms/step - loss: 258.2925 - val_loss: 1297.6455\n",
      "Epoch 304/500\n",
      "28/28 [==============================] - 0s 4ms/step - loss: 256.6460 - val_loss: 1304.2780\n",
      "Epoch 305/500\n",
      "28/28 [==============================] - 0s 5ms/step - loss: 255.2685 - val_loss: 1312.1144\n",
      "Epoch 306/500\n",
      "28/28 [==============================] - 0s 8ms/step - loss: 254.2244 - val_loss: 1317.0463\n",
      "Epoch 307/500\n",
      "28/28 [==============================] - 0s 8ms/step - loss: 253.5800 - val_loss: 1303.4994\n",
      "Epoch 308/500\n",
      "28/28 [==============================] - 0s 6ms/step - loss: 253.6979 - val_loss: 1292.9713\n",
      "Epoch 309/500\n",
      "28/28 [==============================] - 0s 5ms/step - loss: 251.5867 - val_loss: 1303.7545\n",
      "Epoch 310/500\n",
      "28/28 [==============================] - 0s 5ms/step - loss: 250.5745 - val_loss: 1307.1399\n",
      "Epoch 311/500\n",
      "28/28 [==============================] - 0s 5ms/step - loss: 249.7083 - val_loss: 1308.5140\n",
      "Epoch 312/500\n",
      "28/28 [==============================] - 0s 6ms/step - loss: 248.7872 - val_loss: 1308.1495\n",
      "Epoch 313/500\n",
      "28/28 [==============================] - 0s 5ms/step - loss: 248.4485 - val_loss: 1308.7864\n",
      "Epoch 314/500\n",
      "28/28 [==============================] - 0s 5ms/step - loss: 247.5370 - val_loss: 1310.3282\n",
      "Epoch 315/500\n",
      "28/28 [==============================] - 0s 5ms/step - loss: 246.7598 - val_loss: 1305.3864\n",
      "Epoch 316/500\n",
      "28/28 [==============================] - 0s 5ms/step - loss: 246.2993 - val_loss: 1309.6144\n",
      "Epoch 317/500\n",
      "28/28 [==============================] - 0s 8ms/step - loss: 245.0074 - val_loss: 1308.0653\n",
      "Epoch 318/500\n",
      "28/28 [==============================] - 0s 7ms/step - loss: 244.2964 - val_loss: 1306.4236\n",
      "Epoch 319/500\n",
      "28/28 [==============================] - 0s 6ms/step - loss: 243.5625 - val_loss: 1305.3916\n",
      "Epoch 320/500\n",
      "28/28 [==============================] - 0s 6ms/step - loss: 242.8805 - val_loss: 1304.6631\n",
      "Epoch 321/500\n",
      "28/28 [==============================] - 0s 7ms/step - loss: 242.2079 - val_loss: 1304.3274\n",
      "Epoch 322/500\n",
      "28/28 [==============================] - 0s 8ms/step - loss: 241.5397 - val_loss: 1303.6804\n",
      "Epoch 323/500\n",
      "28/28 [==============================] - 0s 8ms/step - loss: 240.8828 - val_loss: 1302.4767\n",
      "Epoch 324/500\n",
      "28/28 [==============================] - 0s 7ms/step - loss: 240.3033 - val_loss: 1301.8263\n",
      "Epoch 325/500\n",
      "28/28 [==============================] - 0s 9ms/step - loss: 239.6048 - val_loss: 1300.5883\n",
      "Epoch 326/500\n",
      "28/28 [==============================] - 0s 9ms/step - loss: 238.9716 - val_loss: 1299.0138\n",
      "Epoch 327/500\n",
      "28/28 [==============================] - 0s 11ms/step - loss: 238.3459 - val_loss: 1297.5031\n",
      "Epoch 328/500\n",
      "28/28 [==============================] - 0s 8ms/step - loss: 237.7260 - val_loss: 1295.5488\n",
      "Epoch 329/500\n",
      "28/28 [==============================] - 0s 8ms/step - loss: 237.1060 - val_loss: 1294.0378\n",
      "Epoch 330/500\n",
      "28/28 [==============================] - 0s 8ms/step - loss: 236.4888 - val_loss: 1292.1052\n",
      "Epoch 331/500\n",
      "28/28 [==============================] - 0s 8ms/step - loss: 235.8768 - val_loss: 1290.2007\n",
      "Epoch 332/500\n",
      "28/28 [==============================] - 0s 8ms/step - loss: 235.2672 - val_loss: 1288.0895\n",
      "Epoch 333/500\n",
      "28/28 [==============================] - 0s 8ms/step - loss: 234.6607 - val_loss: 1286.0067\n",
      "Epoch 334/500\n",
      "28/28 [==============================] - 0s 6ms/step - loss: 234.0383 - val_loss: 1282.8611\n",
      "Epoch 335/500\n",
      "28/28 [==============================] - 0s 6ms/step - loss: 233.1295 - val_loss: 1278.4548\n",
      "Epoch 336/500\n",
      "28/28 [==============================] - 0s 7ms/step - loss: 232.4846 - val_loss: 1278.6599\n",
      "Epoch 337/500\n",
      "28/28 [==============================] - 0s 6ms/step - loss: 247.0350 - val_loss: 1313.8673\n",
      "Epoch 338/500\n",
      "28/28 [==============================] - 0s 7ms/step - loss: 231.2398 - val_loss: 1272.9052\n",
      "Epoch 339/500\n",
      "28/28 [==============================] - 0s 6ms/step - loss: 230.9627 - val_loss: 1262.5118\n",
      "Epoch 340/500\n",
      "28/28 [==============================] - 0s 5ms/step - loss: 265.6439 - val_loss: 1272.5203\n",
      "Epoch 341/500\n",
      "28/28 [==============================] - 0s 5ms/step - loss: 249.4238 - val_loss: 1278.3827\n",
      "Epoch 342/500\n",
      "28/28 [==============================] - 0s 5ms/step - loss: 247.7126 - val_loss: 1336.4905\n",
      "Epoch 343/500\n",
      "28/28 [==============================] - 0s 10ms/step - loss: 233.8532 - val_loss: 1281.5626\n",
      "Epoch 344/500\n",
      "28/28 [==============================] - 0s 5ms/step - loss: 227.7376 - val_loss: 1267.5476\n",
      "Epoch 345/500\n",
      "28/28 [==============================] - 0s 5ms/step - loss: 227.1851 - val_loss: 1259.9755\n",
      "Epoch 346/500\n",
      "28/28 [==============================] - 0s 5ms/step - loss: 261.0287 - val_loss: 1268.2552\n",
      "Epoch 347/500\n",
      "28/28 [==============================] - 0s 5ms/step - loss: 258.7319 - val_loss: 1291.8816\n",
      "Epoch 348/500\n",
      "28/28 [==============================] - 0s 5ms/step - loss: 227.9108 - val_loss: 1279.8285\n",
      "Epoch 349/500\n",
      "28/28 [==============================] - 0s 5ms/step - loss: 225.0344 - val_loss: 1265.9407\n",
      "Epoch 350/500\n",
      "28/28 [==============================] - 0s 5ms/step - loss: 224.4560 - val_loss: 1262.3875\n",
      "Epoch 351/500\n",
      "28/28 [==============================] - 0s 5ms/step - loss: 223.8700 - val_loss: 1257.2600\n",
      "Epoch 352/500\n",
      "28/28 [==============================] - 0s 5ms/step - loss: 223.2898 - val_loss: 1253.0245\n",
      "Epoch 353/500\n",
      "28/28 [==============================] - 0s 5ms/step - loss: 222.7216 - val_loss: 1249.2870\n",
      "Epoch 354/500\n",
      "28/28 [==============================] - 0s 4ms/step - loss: 222.1471 - val_loss: 1245.0227\n",
      "Epoch 355/500\n",
      "28/28 [==============================] - 0s 4ms/step - loss: 221.5884 - val_loss: 1244.0712\n",
      "Epoch 356/500\n",
      "28/28 [==============================] - 0s 5ms/step - loss: 220.9218 - val_loss: 1238.6547\n",
      "Epoch 357/500\n",
      "28/28 [==============================] - 0s 5ms/step - loss: 226.3305 - val_loss: 1235.2236\n",
      "Epoch 358/500\n",
      "28/28 [==============================] - 0s 5ms/step - loss: 254.4867 - val_loss: 1237.0155\n",
      "Epoch 359/500\n",
      "28/28 [==============================] - 0s 5ms/step - loss: 252.4848 - val_loss: 1251.7128\n",
      "Epoch 360/500\n",
      "28/28 [==============================] - 0s 5ms/step - loss: 250.1596 - val_loss: 1264.0442\n",
      "Epoch 361/500\n",
      "28/28 [==============================] - 0s 5ms/step - loss: 248.2623 - val_loss: 1270.5563\n",
      "Epoch 362/500\n",
      "28/28 [==============================] - 0s 5ms/step - loss: 245.1067 - val_loss: 1277.4232\n",
      "Epoch 363/500\n",
      "28/28 [==============================] - 0s 5ms/step - loss: 219.3932 - val_loss: 1267.5814\n",
      "Epoch 364/500\n",
      "28/28 [==============================] - 0s 5ms/step - loss: 217.5010 - val_loss: 1255.6958\n",
      "Epoch 365/500\n",
      "28/28 [==============================] - 0s 5ms/step - loss: 228.6609 - val_loss: 1297.5826\n",
      "Epoch 366/500\n",
      "28/28 [==============================] - 0s 4ms/step - loss: 224.1122 - val_loss: 1273.3647\n",
      "Epoch 367/500\n",
      "28/28 [==============================] - 0s 5ms/step - loss: 222.8040 - val_loss: 1256.8564\n",
      "Epoch 368/500\n",
      "28/28 [==============================] - 0s 5ms/step - loss: 215.7575 - val_loss: 1229.1924\n",
      "Epoch 369/500\n",
      "28/28 [==============================] - 0s 4ms/step - loss: 213.8534 - val_loss: 1222.6924\n",
      "Epoch 370/500\n",
      "28/28 [==============================] - 0s 4ms/step - loss: 213.2883 - val_loss: 1218.7115\n",
      "Epoch 371/500\n",
      "28/28 [==============================] - 0s 10ms/step - loss: 212.7065 - val_loss: 1215.2932\n",
      "Epoch 372/500\n",
      "28/28 [==============================] - 0s 5ms/step - loss: 212.1108 - val_loss: 1212.3872\n",
      "Epoch 373/500\n",
      "28/28 [==============================] - 0s 5ms/step - loss: 211.5466 - val_loss: 1208.3761\n",
      "Epoch 374/500\n",
      "28/28 [==============================] - 0s 5ms/step - loss: 210.9935 - val_loss: 1205.0308\n",
      "Epoch 375/500\n",
      "28/28 [==============================] - 0s 5ms/step - loss: 210.4364 - val_loss: 1201.4565\n",
      "Epoch 376/500\n",
      "28/28 [==============================] - 0s 4ms/step - loss: 209.8806 - val_loss: 1198.3418\n",
      "Epoch 377/500\n",
      "28/28 [==============================] - 0s 5ms/step - loss: 209.3119 - val_loss: 1195.7666\n",
      "Epoch 378/500\n",
      "28/28 [==============================] - 0s 5ms/step - loss: 208.7289 - val_loss: 1192.9056\n",
      "Epoch 379/500\n",
      "28/28 [==============================] - 0s 5ms/step - loss: 208.1625 - val_loss: 1189.9359\n",
      "Epoch 380/500\n",
      "28/28 [==============================] - 0s 5ms/step - loss: 207.5921 - val_loss: 1187.0306\n",
      "Epoch 381/500\n",
      "28/28 [==============================] - 0s 5ms/step - loss: 207.0231 - val_loss: 1184.2083\n",
      "Epoch 382/500\n",
      "28/28 [==============================] - 0s 5ms/step - loss: 206.5926 - val_loss: 1178.2957\n",
      "Epoch 383/500\n",
      "28/28 [==============================] - 0s 4ms/step - loss: 205.7552 - val_loss: 1171.0128\n",
      "Epoch 384/500\n",
      "28/28 [==============================] - 0s 4ms/step - loss: 205.2947 - val_loss: 1167.6344\n",
      "Epoch 385/500\n",
      "28/28 [==============================] - 0s 4ms/step - loss: 204.4088 - val_loss: 1159.9819\n",
      "Epoch 386/500\n",
      "28/28 [==============================] - 0s 4ms/step - loss: 203.6509 - val_loss: 1151.3673\n",
      "Epoch 387/500\n",
      "28/28 [==============================] - 0s 4ms/step - loss: 203.2760 - val_loss: 1146.2411\n",
      "Epoch 388/500\n",
      "28/28 [==============================] - 0s 5ms/step - loss: 202.5638 - val_loss: 1152.4624\n",
      "Epoch 389/500\n",
      "28/28 [==============================] - 0s 5ms/step - loss: 201.9769 - val_loss: 1150.0487\n",
      "Epoch 390/500\n",
      "28/28 [==============================] - 0s 5ms/step - loss: 201.3631 - val_loss: 1140.8278\n",
      "Epoch 391/500\n",
      "28/28 [==============================] - 0s 5ms/step - loss: 200.9469 - val_loss: 1134.8604\n",
      "Epoch 392/500\n",
      "28/28 [==============================] - 0s 5ms/step - loss: 200.2301 - val_loss: 1136.7977\n",
      "Epoch 393/500\n",
      "28/28 [==============================] - 0s 4ms/step - loss: 199.8105 - val_loss: 1129.7263\n",
      "Epoch 394/500\n",
      "28/28 [==============================] - 0s 5ms/step - loss: 201.6816 - val_loss: 1147.2638\n",
      "Epoch 395/500\n",
      "28/28 [==============================] - 0s 5ms/step - loss: 198.6400 - val_loss: 1126.7217\n",
      "Epoch 396/500\n",
      "28/28 [==============================] - 0s 11ms/step - loss: 198.1388 - val_loss: 1129.8259\n",
      "Epoch 397/500\n",
      "28/28 [==============================] - 0s 5ms/step - loss: 197.3944 - val_loss: 1122.2781\n",
      "Epoch 398/500\n",
      "28/28 [==============================] - 0s 5ms/step - loss: 196.8371 - val_loss: 1120.6742\n",
      "Epoch 399/500\n",
      "28/28 [==============================] - 0s 5ms/step - loss: 196.2858 - val_loss: 1118.9048\n",
      "Epoch 400/500\n",
      "28/28 [==============================] - 0s 5ms/step - loss: 195.7372 - val_loss: 1116.3026\n",
      "Epoch 401/500\n",
      "28/28 [==============================] - 0s 5ms/step - loss: 195.1947 - val_loss: 1113.7021\n",
      "Epoch 402/500\n",
      "28/28 [==============================] - 0s 5ms/step - loss: 194.6465 - val_loss: 1111.9648\n",
      "Epoch 403/500\n",
      "28/28 [==============================] - 0s 5ms/step - loss: 194.0637 - val_loss: 1111.4435\n",
      "Epoch 404/500\n",
      "28/28 [==============================] - 0s 5ms/step - loss: 193.6668 - val_loss: 1115.0276\n",
      "Epoch 405/500\n",
      "28/28 [==============================] - 0s 5ms/step - loss: 193.0830 - val_loss: 1113.6526\n",
      "Epoch 406/500\n",
      "28/28 [==============================] - 0s 5ms/step - loss: 192.5402 - val_loss: 1111.0646\n",
      "Epoch 407/500\n",
      "28/28 [==============================] - 0s 5ms/step - loss: 192.0028 - val_loss: 1108.9277\n",
      "Epoch 408/500\n",
      "28/28 [==============================] - 0s 5ms/step - loss: 191.4585 - val_loss: 1107.0822\n",
      "Epoch 409/500\n",
      "28/28 [==============================] - 0s 5ms/step - loss: 190.9207 - val_loss: 1104.2175\n",
      "Epoch 410/500\n",
      "28/28 [==============================] - 0s 5ms/step - loss: 190.3905 - val_loss: 1101.3804\n",
      "Epoch 411/500\n",
      "28/28 [==============================] - 0s 4ms/step - loss: 189.8575 - val_loss: 1099.3137\n",
      "Epoch 412/500\n",
      "28/28 [==============================] - 0s 4ms/step - loss: 189.3196 - val_loss: 1097.2686\n",
      "Epoch 413/500\n",
      "28/28 [==============================] - 0s 6ms/step - loss: 188.7878 - val_loss: 1095.0571\n",
      "Epoch 414/500\n",
      "28/28 [==============================] - 0s 10ms/step - loss: 188.2567 - val_loss: 1092.5366\n",
      "Epoch 415/500\n",
      "28/28 [==============================] - 0s 7ms/step - loss: 187.7332 - val_loss: 1090.1125\n",
      "Epoch 416/500\n",
      "28/28 [==============================] - 0s 5ms/step - loss: 187.2013 - val_loss: 1088.3177\n",
      "Epoch 417/500\n",
      "28/28 [==============================] - 0s 5ms/step - loss: 186.6741 - val_loss: 1085.6129\n",
      "Epoch 418/500\n",
      "28/28 [==============================] - 0s 5ms/step - loss: 186.1565 - val_loss: 1082.5173\n",
      "Epoch 419/500\n",
      "28/28 [==============================] - 0s 5ms/step - loss: 185.6320 - val_loss: 1080.4209\n",
      "Epoch 420/500\n",
      "28/28 [==============================] - 0s 5ms/step - loss: 185.1067 - val_loss: 1078.4491\n",
      "Epoch 421/500\n",
      "28/28 [==============================] - 0s 5ms/step - loss: 184.5794 - val_loss: 1075.5708\n",
      "Epoch 422/500\n",
      "28/28 [==============================] - 0s 4ms/step - loss: 184.0661 - val_loss: 1074.1588\n",
      "Epoch 423/500\n",
      "28/28 [==============================] - 0s 4ms/step - loss: 183.5423 - val_loss: 1072.3678\n",
      "Epoch 424/500\n",
      "28/28 [==============================] - 0s 5ms/step - loss: 183.0254 - val_loss: 1069.5161\n",
      "Epoch 425/500\n",
      "28/28 [==============================] - 0s 4ms/step - loss: 182.4622 - val_loss: 1061.9877\n",
      "Epoch 426/500\n",
      "28/28 [==============================] - 0s 4ms/step - loss: 175.4172 - val_loss: 1027.3934\n",
      "Epoch 427/500\n",
      "28/28 [==============================] - 0s 5ms/step - loss: 181.7954 - val_loss: 1025.6104\n",
      "Epoch 428/500\n",
      "28/28 [==============================] - 0s 5ms/step - loss: 181.0691 - val_loss: 1028.5671\n",
      "Epoch 429/500\n",
      "28/28 [==============================] - 0s 5ms/step - loss: 180.3023 - val_loss: 1029.4806\n",
      "Epoch 430/500\n",
      "28/28 [==============================] - 0s 4ms/step - loss: 179.5987 - val_loss: 1025.4078\n",
      "Epoch 431/500\n",
      "28/28 [==============================] - 0s 4ms/step - loss: 172.0646 - val_loss: 978.2318\n",
      "Epoch 432/500\n",
      "28/28 [==============================] - 0s 5ms/step - loss: 183.0730 - val_loss: 998.9536\n",
      "Epoch 433/500\n",
      "28/28 [==============================] - 0s 4ms/step - loss: 178.4839 - val_loss: 1002.9436\n",
      "Epoch 434/500\n",
      "28/28 [==============================] - 0s 4ms/step - loss: 177.4428 - val_loss: 1008.7405\n",
      "Epoch 435/500\n",
      "28/28 [==============================] - 0s 4ms/step - loss: 176.5748 - val_loss: 1011.5751\n",
      "Epoch 436/500\n",
      "28/28 [==============================] - 0s 4ms/step - loss: 175.8138 - val_loss: 1012.0164\n",
      "Epoch 437/500\n",
      "28/28 [==============================] - 0s 5ms/step - loss: 175.1057 - val_loss: 1012.9036\n",
      "Epoch 438/500\n",
      "28/28 [==============================] - 0s 5ms/step - loss: 174.4467 - val_loss: 1014.6507\n",
      "Epoch 439/500\n",
      "28/28 [==============================] - 0s 11ms/step - loss: 173.8265 - val_loss: 1015.9536\n",
      "Epoch 440/500\n",
      "28/28 [==============================] - 0s 5ms/step - loss: 173.2388 - val_loss: 1016.3640\n",
      "Epoch 441/500\n",
      "28/28 [==============================] - 0s 6ms/step - loss: 172.6799 - val_loss: 1016.2357\n",
      "Epoch 442/500\n",
      "28/28 [==============================] - 0s 5ms/step - loss: 172.1401 - val_loss: 1015.8220\n",
      "Epoch 443/500\n",
      "28/28 [==============================] - 0s 5ms/step - loss: 171.6144 - val_loss: 1015.2032\n",
      "Epoch 444/500\n",
      "28/28 [==============================] - 0s 4ms/step - loss: 171.1155 - val_loss: 1012.5698\n",
      "Epoch 445/500\n",
      "28/28 [==============================] - 0s 4ms/step - loss: 170.6098 - val_loss: 1011.2728\n",
      "Epoch 446/500\n",
      "28/28 [==============================] - 0s 5ms/step - loss: 170.1088 - val_loss: 1011.2107\n",
      "Epoch 447/500\n",
      "28/28 [==============================] - 0s 4ms/step - loss: 169.6175 - val_loss: 1011.1049\n",
      "Epoch 448/500\n",
      "28/28 [==============================] - 0s 4ms/step - loss: 169.2997 - val_loss: 1009.0510\n",
      "Epoch 449/500\n",
      "28/28 [==============================] - 0s 4ms/step - loss: 168.7172 - val_loss: 1008.0344\n",
      "Epoch 450/500\n",
      "28/28 [==============================] - 0s 4ms/step - loss: 168.2072 - val_loss: 1000.2939\n",
      "Epoch 451/500\n",
      "28/28 [==============================] - 0s 4ms/step - loss: 183.2663 - val_loss: 1043.9023\n",
      "Epoch 452/500\n",
      "28/28 [==============================] - 0s 5ms/step - loss: 174.3145 - val_loss: 1018.7592\n",
      "Epoch 453/500\n",
      "28/28 [==============================] - 0s 4ms/step - loss: 167.4807 - val_loss: 1000.1102\n",
      "Epoch 454/500\n",
      "28/28 [==============================] - 0s 5ms/step - loss: 166.6803 - val_loss: 996.0812\n",
      "Epoch 455/500\n",
      "28/28 [==============================] - 0s 4ms/step - loss: 165.9035 - val_loss: 994.2223\n",
      "Epoch 456/500\n",
      "28/28 [==============================] - 0s 4ms/step - loss: 165.4486 - val_loss: 993.0351\n",
      "Epoch 457/500\n",
      "28/28 [==============================] - 0s 4ms/step - loss: 164.9909 - val_loss: 990.3615\n",
      "Epoch 458/500\n",
      "28/28 [==============================] - 0s 4ms/step - loss: 164.5450 - val_loss: 992.7180\n",
      "Epoch 459/500\n",
      "28/28 [==============================] - 0s 4ms/step - loss: 164.2126 - val_loss: 975.8469\n",
      "Epoch 460/500\n",
      "28/28 [==============================] - 0s 4ms/step - loss: 209.7900 - val_loss: 966.9115\n",
      "Epoch 461/500\n",
      "28/28 [==============================] - 0s 4ms/step - loss: 206.3364 - val_loss: 955.9666\n",
      "Epoch 462/500\n",
      "28/28 [==============================] - 0s 4ms/step - loss: 276.6733 - val_loss: 997.0925\n",
      "Epoch 463/500\n",
      "28/28 [==============================] - 0s 10ms/step - loss: 197.6410 - val_loss: 995.9362\n",
      "Epoch 464/500\n",
      "28/28 [==============================] - 0s 5ms/step - loss: 259.5665 - val_loss: 1018.2173\n",
      "Epoch 465/500\n",
      "28/28 [==============================] - 0s 6ms/step - loss: 210.3721 - val_loss: 1029.8705\n",
      "Epoch 466/500\n",
      "28/28 [==============================] - 0s 5ms/step - loss: 247.1316 - val_loss: 1048.8103\n",
      "Epoch 467/500\n",
      "28/28 [==============================] - 0s 5ms/step - loss: 228.6252 - val_loss: 1178.7690\n",
      "Epoch 468/500\n",
      "28/28 [==============================] - 0s 8ms/step - loss: 209.2390 - val_loss: 1176.8430\n",
      "Epoch 469/500\n",
      "28/28 [==============================] - 0s 5ms/step - loss: 207.3569 - val_loss: 1160.1934\n",
      "Epoch 470/500\n",
      "28/28 [==============================] - 0s 5ms/step - loss: 202.5524 - val_loss: 1136.3591\n",
      "Epoch 471/500\n",
      "28/28 [==============================] - 0s 5ms/step - loss: 198.9515 - val_loss: 1116.4512\n",
      "Epoch 472/500\n",
      "28/28 [==============================] - 0s 4ms/step - loss: 196.2409 - val_loss: 1103.5894\n",
      "Epoch 473/500\n",
      "28/28 [==============================] - 0s 4ms/step - loss: 194.9483 - val_loss: 1095.0627\n",
      "Epoch 474/500\n",
      "28/28 [==============================] - 0s 4ms/step - loss: 194.2528 - val_loss: 1092.0496\n",
      "Epoch 475/500\n",
      "28/28 [==============================] - 0s 5ms/step - loss: 193.6551 - val_loss: 1089.2860\n",
      "Epoch 476/500\n",
      "28/28 [==============================] - 0s 4ms/step - loss: 189.8275 - val_loss: 1067.9469\n",
      "Epoch 477/500\n",
      "28/28 [==============================] - 0s 5ms/step - loss: 184.3804 - val_loss: 1065.8958\n",
      "Epoch 478/500\n",
      "28/28 [==============================] - 0s 4ms/step - loss: 184.2514 - val_loss: 1060.7166\n",
      "Epoch 479/500\n",
      "28/28 [==============================] - 0s 4ms/step - loss: 184.2451 - val_loss: 1059.5585\n",
      "Epoch 480/500\n",
      "28/28 [==============================] - 0s 5ms/step - loss: 206.0118 - val_loss: 1137.8926\n",
      "Epoch 481/500\n",
      "28/28 [==============================] - 0s 4ms/step - loss: 193.9213 - val_loss: 1103.6946\n",
      "Epoch 482/500\n",
      "28/28 [==============================] - 0s 4ms/step - loss: 190.2791 - val_loss: 1065.1854\n",
      "Epoch 483/500\n",
      "28/28 [==============================] - 0s 4ms/step - loss: 181.9196 - val_loss: 1047.3414\n",
      "Epoch 484/500\n",
      "28/28 [==============================] - 0s 4ms/step - loss: 181.0330 - val_loss: 1042.2762\n",
      "Epoch 485/500\n",
      "28/28 [==============================] - 0s 10ms/step - loss: 200.0195 - val_loss: 1103.7140\n",
      "Epoch 486/500\n",
      "28/28 [==============================] - 0s 6ms/step - loss: 253.5990 - val_loss: 1119.1654\n",
      "Epoch 487/500\n",
      "28/28 [==============================] - 0s 5ms/step - loss: 245.4705 - val_loss: 1148.4410\n",
      "Epoch 488/500\n",
      "28/28 [==============================] - 0s 5ms/step - loss: 229.5154 - val_loss: 1249.3636\n",
      "Epoch 489/500\n",
      "28/28 [==============================] - 0s 4ms/step - loss: 211.5730 - val_loss: 1162.3391\n",
      "Epoch 490/500\n",
      "28/28 [==============================] - 0s 5ms/step - loss: 201.7664 - val_loss: 1127.3989\n",
      "Epoch 491/500\n",
      "28/28 [==============================] - 0s 4ms/step - loss: 198.0818 - val_loss: 1095.8010\n",
      "Epoch 492/500\n",
      "28/28 [==============================] - 0s 4ms/step - loss: 182.6987 - val_loss: 1050.5692\n",
      "Epoch 493/500\n",
      "28/28 [==============================] - 0s 5ms/step - loss: 179.0040 - val_loss: 1036.5789\n",
      "Epoch 494/500\n",
      "28/28 [==============================] - 0s 4ms/step - loss: 177.8955 - val_loss: 1034.9271\n",
      "Epoch 495/500\n",
      "28/28 [==============================] - 0s 5ms/step - loss: 177.7072 - val_loss: 1031.8623\n",
      "Epoch 496/500\n",
      "28/28 [==============================] - 0s 4ms/step - loss: 176.4286 - val_loss: 1027.7908\n",
      "Epoch 497/500\n",
      "28/28 [==============================] - 0s 4ms/step - loss: 176.4790 - val_loss: 1029.3145\n",
      "Epoch 498/500\n",
      "28/28 [==============================] - 0s 5ms/step - loss: 175.5077 - val_loss: 1031.8827\n",
      "Epoch 499/500\n",
      "28/28 [==============================] - 0s 5ms/step - loss: 175.0285 - val_loss: 1032.2823\n",
      "Epoch 500/500\n",
      "28/28 [==============================] - 0s 4ms/step - loss: 174.4124 - val_loss: 1032.5704\n"
     ]
    }
   ],
   "source": [
    "C0 = tf.Variable(88.0403, name=\"C0\", trainable=True, dtype=tf.float32)\n",
    "K0 = tf.Variable(-0.0012, name=\"K0\", trainable=True, dtype=tf.float32)\n",
    "K1 = tf.Variable(-0.0001, name=\"K1\", trainable=True, dtype=tf.float32)\n",
    "a = tf.Variable(0.0000, name=\"a\", trainable=True, dtype=tf.float32)\n",
    "b = tf.Variable(0.0120, name=\"b\", trainable=True, dtype=tf.float32)\n",
    "c = tf.Variable(2.0334, name=\"c\", trainable=True, dtype=tf.float32)\n",
    "\n",
    "splitr = 0.8\n",
    "\n",
    "\n",
    "def loss_fn(y_true, y_pred):\n",
    "    squared_difference = tf.square(y_true[:, 0] - y_pred[:, 0])\n",
    "    #squared_difference2 = tf.square(y_true[:, 2]-y_pred[:, 2])\n",
    "    #squared_difference1 = tf.square(y_true[:, 1]-y_pred[:, 1])\n",
    "    epsilon = 1\n",
    "    squared_difference3 = tf.square(\n",
    "        y_pred[:, 1] - (\n",
    "            y_pred[:, 0] * (\n",
    "                K0 - K1 * (\n",
    "                    9 * a * tf.math.log((y_pred[:, 0] + epsilon) / C0) / (K0 - K1 * c)**2 +\n",
    "                    4 * b * tf.math.log((y_pred[:, 0] + epsilon) / C0) / (K0 - K1 * c) + c\n",
    "                )\n",
    "            )\n",
    "        )\n",
    "    )\n",
    "    return tf.reduce_mean(squared_difference, axis=-1) + 0.2*tf.reduce_mean(squared_difference3, axis=-1)\n",
    "model = Sequential()\n",
    "model.add(LSTM(100, input_shape=(trainX.shape[1], trainX.shape[2])))\n",
    "model.add(Dense(60))\n",
    "model.compile(loss=loss_fn, optimizer='adam')\n",
    "history = model.fit(trainX[:int(splitr*trainX.shape[0])], trainy[:int(splitr*trainX.shape[0])], epochs=500, batch_size=64, validation_data=(trainX[int(splitr*trainX.shape[0]):trainX.shape[0]], trainy[int(splitr*trainX.shape[0]):trainX.shape[0]]), shuffle=False)"
   ]
  },
  {
   "cell_type": "code",
   "execution_count": 19,
   "metadata": {
    "colab": {
     "base_uri": "https://localhost:8080/"
    },
    "id": "yJL101rPyuoT",
    "outputId": "239ff2b1-c186-423a-d316-939dfdd7c793"
   },
   "outputs": [
    {
     "name": "stdout",
     "output_type": "stream",
     "text": [
      "1/1 [==============================] - 0s 455ms/step\n"
     ]
    }
   ],
   "source": [
    "forecast_without_mc = forecastX\n",
    "yhat_without_mc = model.predict(forecast_without_mc) # Step Ahead Prediction\n",
    "forecast_without_mc = forecast_without_mc.reshape((forecast_without_mc.shape[0], forecast_without_mc.shape[2])) # Historical Input"
   ]
  },
  {
   "cell_type": "code",
   "execution_count": 20,
   "metadata": {
    "colab": {
     "base_uri": "https://localhost:8080/"
    },
    "id": "g9dQELcJ8wbp",
    "outputId": "4dc7671b-b1a8-48d5-8744-a86f98446109"
   },
   "outputs": [
    {
     "data": {
      "text/plain": [
       "(1, 1, 126)"
      ]
     },
     "execution_count": 20,
     "metadata": {},
     "output_type": "execute_result"
    }
   ],
   "source": [
    "forecastX.shape"
   ]
  },
  {
   "cell_type": "code",
   "execution_count": 21,
   "metadata": {
    "colab": {
     "base_uri": "https://localhost:8080/"
    },
    "id": "IS2kyIKG1Kbr",
    "outputId": "f31b3485-8e26-452f-9298-ea8bf7e80ad1"
   },
   "outputs": [
    {
     "data": {
      "text/plain": [
       "(1, 126)"
      ]
     },
     "execution_count": 21,
     "metadata": {},
     "output_type": "execute_result"
    }
   ],
   "source": [
    "forecast_without_mc.shape"
   ]
  },
  {
   "cell_type": "code",
   "execution_count": 22,
   "metadata": {
    "id": "0u6VIzaDyuoT"
   },
   "outputs": [],
   "source": [
    "inv_yhat_without_mc = np.concatenate((forecast_without_mc, yhat_without_mc), axis=1) # Concatenation of predicted values with Historical Data\n",
    "#inv_yhat_without_mc = scaler.inverse_transform(inv_yhat_without_mc) # Transform labels back to original encoding"
   ]
  },
  {
   "cell_type": "code",
   "execution_count": 23,
   "metadata": {
    "colab": {
     "base_uri": "https://localhost:8080/"
    },
    "id": "EUEcw0LX07oU",
    "outputId": "cfc32397-9c37-4b43-d087-584bb31c3dcc"
   },
   "outputs": [
    {
     "data": {
      "text/plain": [
       "(1, 186)"
      ]
     },
     "execution_count": 23,
     "metadata": {},
     "output_type": "execute_result"
    }
   ],
   "source": [
    "inv_yhat_without_mc.shape"
   ]
  },
  {
   "cell_type": "code",
   "execution_count": 24,
   "metadata": {
    "id": "31OWVbSh_305"
   },
   "outputs": [],
   "source": [
    "fforecast = inv_yhat_without_mc[:,-150:]"
   ]
  },
  {
   "cell_type": "code",
   "execution_count": 25,
   "metadata": {},
   "outputs": [
    {
     "data": {
      "text/plain": [
       "(1, 150)"
      ]
     },
     "execution_count": 25,
     "metadata": {},
     "output_type": "execute_result"
    }
   ],
   "source": [
    "fforecast.shape"
   ]
  },
  {
   "cell_type": "code",
   "execution_count": 26,
   "metadata": {
    "id": "BlpGH2FOAiRF"
   },
   "outputs": [],
   "source": [
    "final_forecast = fforecast[:,0:150:3]"
   ]
  },
  {
   "cell_type": "code",
   "execution_count": 27,
   "metadata": {},
   "outputs": [
    {
     "data": {
      "text/plain": [
       "(1, 150)"
      ]
     },
     "execution_count": 27,
     "metadata": {},
     "output_type": "execute_result"
    }
   ],
   "source": [
    "fforecast.shape"
   ]
  },
  {
   "cell_type": "code",
   "execution_count": 28,
   "metadata": {
    "id": "CXkgkj_LBk_t"
   },
   "outputs": [],
   "source": [
    "# code to replace all negative value with 0\n",
    "final_forecast[final_forecast<0] = 0"
   ]
  },
  {
   "cell_type": "code",
   "execution_count": 29,
   "metadata": {},
   "outputs": [
    {
     "data": {
      "text/plain": [
       "array([[0.00000000e+00, 7.18643137e+01, 0.00000000e+00, 7.24603922e+01,\n",
       "        7.12142484e+01, 7.09722316e+01, 7.17858823e+01, 7.10857703e+01,\n",
       "        7.08472689e+01, 1.45036131e-01, 0.00000000e+00, 0.00000000e+00,\n",
       "        7.07800420e+01, 3.02265940e-02, 7.08864846e+01, 7.44450980e+01,\n",
       "        8.38599100e-02, 7.07660364e+01, 7.28996078e+01, 7.22250980e+01,\n",
       "        4.22481810e-01, 1.26242206e-01, 0.00000000e+00, 6.96443939e+01,\n",
       "        3.49589199e-01, 0.00000000e+00, 6.50203168e-01, 0.00000000e+00,\n",
       "        0.00000000e+00, 0.00000000e+00, 7.18185272e+01, 0.00000000e+00,\n",
       "        0.00000000e+00, 8.81361067e-01, 1.09871614e+00, 2.54559070e-01,\n",
       "        0.00000000e+00, 0.00000000e+00, 1.05257757e-01, 3.85178387e-01,\n",
       "        0.00000000e+00, 0.00000000e+00, 1.19857386e-01, 0.00000000e+00,\n",
       "        0.00000000e+00, 0.00000000e+00, 0.00000000e+00, 1.03389311e+00,\n",
       "        9.91878286e-02, 8.78415287e-01]])"
      ]
     },
     "execution_count": 29,
     "metadata": {},
     "output_type": "execute_result"
    }
   ],
   "source": [
    "final_forecast"
   ]
  },
  {
   "cell_type": "code",
   "execution_count": 30,
   "metadata": {},
   "outputs": [
    {
     "data": {
      "text/plain": [
       "(1, 50)"
      ]
     },
     "execution_count": 30,
     "metadata": {},
     "output_type": "execute_result"
    }
   ],
   "source": [
    "final_forecast.shape"
   ]
  },
  {
   "cell_type": "code",
   "execution_count": 31,
   "metadata": {},
   "outputs": [
    {
     "data": {
      "text/plain": [
       "(50,)"
      ]
     },
     "execution_count": 31,
     "metadata": {},
     "output_type": "execute_result"
    }
   ],
   "source": [
    "test.shape"
   ]
  },
  {
   "cell_type": "code",
   "execution_count": 32,
   "metadata": {},
   "outputs": [],
   "source": [
    "training_set = np.array(training_set)\n",
    "test = np.array(test)\n",
    "final_forecast = np.array(final_forecast.squeeze(0))"
   ]
  },
  {
   "cell_type": "code",
   "execution_count": 33,
   "metadata": {},
   "outputs": [
    {
     "data": {
      "text/plain": [
       "array([52.86327116, 52.8476942 , 52.83211724, 52.81654027, 52.80096331,\n",
       "       52.78538635, 52.76980939, 52.75423242, 52.73865546, 52.7230785 ,\n",
       "       52.70750154, 52.69192457, 52.67634761, 52.66077065, 52.64519369,\n",
       "       52.62961672, 52.61403976, 52.5984628 , 52.58288584, 52.56730887,\n",
       "       52.55173191, 52.53615495, 52.52057799, 52.50500102, 52.48942406,\n",
       "       52.4738471 , 52.45827014, 52.44269317, 52.42711621, 52.41153925,\n",
       "       52.39596229, 52.38038532, 52.36480836, 52.3492314 , 52.33365444,\n",
       "       52.31807747, 52.30250051, 52.28692355, 52.27134659, 52.25576962,\n",
       "       52.24019266, 52.2246157 , 52.20903874, 52.19346177, 52.17788481,\n",
       "       52.16230785, 52.14673089, 52.13115392, 52.11557696, 52.1       ])"
      ]
     },
     "execution_count": 33,
     "metadata": {},
     "output_type": "execute_result"
    }
   ],
   "source": [
    "test"
   ]
  },
  {
   "cell_type": "code",
   "execution_count": 34,
   "metadata": {},
   "outputs": [
    {
     "data": {
      "text/plain": [
       "(50,)"
      ]
     },
     "execution_count": 34,
     "metadata": {},
     "output_type": "execute_result"
    }
   ],
   "source": [
    "test.shape"
   ]
  },
  {
   "cell_type": "code",
   "execution_count": 35,
   "metadata": {},
   "outputs": [
    {
     "data": {
      "text/plain": [
       "(50,)"
      ]
     },
     "execution_count": 35,
     "metadata": {},
     "output_type": "execute_result"
    }
   ],
   "source": [
    "final_forecast.shape"
   ]
  },
  {
   "cell_type": "code",
   "execution_count": 36,
   "metadata": {},
   "outputs": [
    {
     "data": {
      "text/plain": [
       "(50,)"
      ]
     },
     "execution_count": 36,
     "metadata": {},
     "output_type": "execute_result"
    }
   ],
   "source": [
    "test.shape"
   ]
  },
  {
   "cell_type": "code",
   "execution_count": 37,
   "metadata": {},
   "outputs": [
    {
     "name": "stdout",
     "output_type": "stream",
     "text": [
      "44.89696543202543\n",
      "42.21769977586564\n"
     ]
    }
   ],
   "source": [
    "import math\n",
    "MSE = np.square(np.subtract(np.array(test),np.array(final_forecast))).mean()   \n",
    "rsme = math.sqrt(MSE)\n",
    "print(rsme)  \n",
    "MAE = np.abs(np.subtract(np.array(test),np.array(final_forecast))).mean()   \n",
    "mae = MAE\n",
    "print(mae)"
   ]
  }
 ],
 "metadata": {
  "colab": {
   "provenance": []
  },
  "kernelspec": {
   "display_name": "Python 3",
   "language": "python",
   "name": "python3"
  },
  "language_info": {
   "codemirror_mode": {
    "name": "ipython",
    "version": 3
   },
   "file_extension": ".py",
   "mimetype": "text/x-python",
   "name": "python",
   "nbconvert_exporter": "python",
   "pygments_lexer": "ipython3",
   "version": "3.9.13"
  }
 },
 "nbformat": 4,
 "nbformat_minor": 0
}
