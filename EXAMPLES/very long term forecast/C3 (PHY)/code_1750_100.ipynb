{
 "cells": [
  {
   "cell_type": "markdown",
   "metadata": {
    "id": "pCGKeZ2gyuoQ"
   },
   "source": [
    "_Importing Required Libraries_"
   ]
  },
  {
   "cell_type": "code",
   "execution_count": 1,
   "metadata": {
    "colab": {
     "base_uri": "https://localhost:8080/"
    },
    "id": "A-6LN-zXiLcM",
    "outputId": "4de610a4-f8b8-4f49-c6c0-89de299ccedc"
   },
   "outputs": [
    {
     "name": "stdout",
     "output_type": "stream",
     "text": [
      "Requirement already satisfied: hampel in c:\\users\\anurag dutta\\appdata\\local\\packages\\pythonsoftwarefoundation.python.3.9_qbz5n2kfra8p0\\localcache\\local-packages\\python39\\site-packages (0.0.5)\n",
      "Requirement already satisfied: numpy in c:\\users\\anurag dutta\\appdata\\local\\packages\\pythonsoftwarefoundation.python.3.9_qbz5n2kfra8p0\\localcache\\local-packages\\python39\\site-packages (from hampel) (1.26.4)\n",
      "Requirement already satisfied: pandas in c:\\users\\anurag dutta\\appdata\\local\\packages\\pythonsoftwarefoundation.python.3.9_qbz5n2kfra8p0\\localcache\\local-packages\\python39\\site-packages (from hampel) (1.5.2)\n",
      "Requirement already satisfied: python-dateutil>=2.8.1 in c:\\users\\anurag dutta\\appdata\\local\\packages\\pythonsoftwarefoundation.python.3.9_qbz5n2kfra8p0\\localcache\\local-packages\\python39\\site-packages (from pandas->hampel) (2.8.2)\n",
      "Requirement already satisfied: pytz>=2020.1 in c:\\users\\anurag dutta\\appdata\\local\\packages\\pythonsoftwarefoundation.python.3.9_qbz5n2kfra8p0\\localcache\\local-packages\\python39\\site-packages (from pandas->hampel) (2023.3.post1)\n",
      "Requirement already satisfied: six>=1.5 in c:\\users\\anurag dutta\\appdata\\local\\packages\\pythonsoftwarefoundation.python.3.9_qbz5n2kfra8p0\\localcache\\local-packages\\python39\\site-packages (from python-dateutil>=2.8.1->pandas->hampel) (1.16.0)\n",
      "Note: you may need to restart the kernel to use updated packages.\n"
     ]
    },
    {
     "name": "stderr",
     "output_type": "stream",
     "text": [
      "\n",
      "[notice] A new release of pip is available: 24.2 -> 24.3.1\n",
      "[notice] To update, run: C:\\Users\\Anurag Dutta\\AppData\\Local\\Microsoft\\WindowsApps\\PythonSoftwareFoundation.Python.3.9_qbz5n2kfra8p0\\python.exe -m pip install --upgrade pip\n"
     ]
    }
   ],
   "source": [
    "pip install hampel"
   ]
  },
  {
   "cell_type": "code",
   "execution_count": 2,
   "metadata": {
    "id": "By_d9uXpaFvZ"
   },
   "outputs": [],
   "source": [
    "from keras.models import Sequential\n",
    "from keras.layers import Dense\n",
    "from keras.layers import LSTM\n",
    "from keras.layers import Dropout\n",
    "import keras\n",
    "import tensorflow as tf\n",
    "from hampel import hampel\n",
    "import numpy as np\n",
    "import matplotlib.pyplot as plt\n",
    "import pandas as pd\n",
    "from sklearn.preprocessing import MinMaxScaler\n",
    "from sklearn.metrics import mean_squared_error, mean_absolute_error\n",
    "from math import sqrt\n",
    "from matplotlib import pyplot\n",
    "from numpy import array"
   ]
  },
  {
   "cell_type": "markdown",
   "metadata": {
    "id": "JyOjBMFayuoR"
   },
   "source": [
    "## Pretraining"
   ]
  },
  {
   "cell_type": "markdown",
   "metadata": {
    "id": "-5QqIY_GyuoR"
   },
   "source": [
    "The `capa_intermittency.dat` feeds the model with the dynamics of the Capacitor"
   ]
  },
  {
   "cell_type": "code",
   "execution_count": 3,
   "metadata": {
    "id": "9dV4a8yfyuoR"
   },
   "outputs": [],
   "source": [
    "data = np.genfromtxt('capa_intermittency.dat')\n",
    "training_set = pd.DataFrame(data).reset_index(drop=True)\n",
    "training_set = training_set.iloc[:,0]"
   ]
  },
  {
   "cell_type": "markdown",
   "metadata": {
    "id": "i7easoxByuoR"
   },
   "source": [
    "## Computing the Gradient"
   ]
  },
  {
   "cell_type": "markdown",
   "metadata": {
    "id": "5SnyolJTyuoR"
   },
   "source": [
    "_Calculating the value of_ $\\frac{dx}{dt}$"
   ]
  },
  {
   "cell_type": "code",
   "execution_count": 4,
   "metadata": {
    "colab": {
     "base_uri": "https://localhost:8080/"
    },
    "id": "wmIbVfIvyuoR",
    "outputId": "aa4e3136-c854-465d-d2e9-81cfd546e440"
   },
   "outputs": [
    {
     "name": "stdout",
     "output_type": "stream",
     "text": [
      "1.0\n",
      "1        0.000298\n",
      "2        0.000298\n",
      "3        0.000297\n",
      "4        0.000297\n",
      "5        0.000297\n",
      "           ...   \n",
      "9996     0.000018\n",
      "9997     0.000018\n",
      "9998     0.000018\n",
      "9999     0.000018\n",
      "10000    0.000018\n",
      "Name: 0, Length: 10000, dtype: float64\n"
     ]
    }
   ],
   "source": [
    "t_diff = 1\n",
    "print(training_set.max())\n",
    "gradient_t = (training_set.diff()/t_diff).iloc[1:] # dx/dt\n",
    "print(gradient_t)"
   ]
  },
  {
   "cell_type": "markdown",
   "metadata": {
    "id": "_2eVeeoxyuoS"
   },
   "source": [
    "## Loading Datasets"
   ]
  },
  {
   "cell_type": "code",
   "execution_count": 5,
   "metadata": {
    "id": "0J-NKyIEyuoS"
   },
   "outputs": [
    {
     "data": {
      "text/plain": [
       "0       91.100000\n",
       "1       90.875910\n",
       "2       90.651821\n",
       "3       90.427731\n",
       "4       90.203641\n",
       "          ...    \n",
       "1845    70.951821\n",
       "1846    70.944351\n",
       "1847    70.936881\n",
       "1848    70.929412\n",
       "1849    70.921942\n",
       "Name: C3, Length: 1850, dtype: float64"
      ]
     },
     "execution_count": 5,
     "metadata": {},
     "output_type": "execute_result"
    }
   ],
   "source": [
    "data = pd.read_csv(\"c3_interpolated_1750_100.csv\")\n",
    "training_set = data.iloc[:, 1]\n",
    "training_set"
   ]
  },
  {
   "cell_type": "code",
   "execution_count": 6,
   "metadata": {
    "colab": {
     "base_uri": "https://localhost:8080/"
    },
    "id": "-CbNUhJ74UqF",
    "outputId": "20f562d8-8247-49cc-b9c3-00eca5e13e2d"
   },
   "outputs": [
    {
     "data": {
      "text/plain": [
       "0       91.100000\n",
       "1       90.875910\n",
       "2       90.651821\n",
       "3       90.427731\n",
       "4       90.203641\n",
       "          ...    \n",
       "1745     0.220264\n",
       "1746     0.000000\n",
       "1747     0.137467\n",
       "1748     0.000000\n",
       "1749     0.585592\n",
       "Name: C3, Length: 1750, dtype: float64"
      ]
     },
     "execution_count": 6,
     "metadata": {},
     "output_type": "execute_result"
    }
   ],
   "source": [
    "test = training_set.tail(100)\n",
    "test\n",
    "training_set = training_set.head(1750)\n",
    "training_set"
   ]
  },
  {
   "cell_type": "code",
   "execution_count": 7,
   "metadata": {
    "colab": {
     "base_uri": "https://localhost:8080/"
    },
    "id": "X0TwTcq0yuoS",
    "outputId": "37252ed8-d88e-4044-fa7a-922411990b5b"
   },
   "outputs": [
    {
     "name": "stdout",
     "output_type": "stream",
     "text": [
      "0       0.000298\n",
      "1       0.000298\n",
      "2       0.000297\n",
      "3       0.000297\n",
      "4       0.000297\n",
      "          ...   \n",
      "9995    0.000018\n",
      "9996    0.000018\n",
      "9997    0.000018\n",
      "9998    0.000018\n",
      "9999    0.000018\n",
      "Name: 0, Length: 10000, dtype: float64\n"
     ]
    }
   ],
   "source": [
    "training_set = training_set.reset_index(drop=True)\n",
    "gradient_t = gradient_t.reset_index(drop=True)\n",
    "print(gradient_t)"
   ]
  },
  {
   "cell_type": "code",
   "execution_count": 8,
   "metadata": {
    "id": "O2biznZQyuoS"
   },
   "outputs": [],
   "source": [
    "df = pd.concat((training_set, gradient_t), axis=1)\n",
    "df.columns = ['y_t', 'grad_t']"
   ]
  },
  {
   "cell_type": "code",
   "execution_count": 9,
   "metadata": {
    "colab": {
     "base_uri": "https://localhost:8080/",
     "height": 423
    },
    "id": "sk_a5v3tyuoS",
    "outputId": "17563625-e550-45ae-faab-fafa353e44da"
   },
   "outputs": [
    {
     "data": {
      "text/html": [
       "<div>\n",
       "<style scoped>\n",
       "    .dataframe tbody tr th:only-of-type {\n",
       "        vertical-align: middle;\n",
       "    }\n",
       "\n",
       "    .dataframe tbody tr th {\n",
       "        vertical-align: top;\n",
       "    }\n",
       "\n",
       "    .dataframe thead th {\n",
       "        text-align: right;\n",
       "    }\n",
       "</style>\n",
       "<table border=\"1\" class=\"dataframe\">\n",
       "  <thead>\n",
       "    <tr style=\"text-align: right;\">\n",
       "      <th></th>\n",
       "      <th>y_t</th>\n",
       "      <th>grad_t</th>\n",
       "    </tr>\n",
       "  </thead>\n",
       "  <tbody>\n",
       "    <tr>\n",
       "      <th>0</th>\n",
       "      <td>91.100000</td>\n",
       "      <td>0.000298</td>\n",
       "    </tr>\n",
       "    <tr>\n",
       "      <th>1</th>\n",
       "      <td>90.875910</td>\n",
       "      <td>0.000298</td>\n",
       "    </tr>\n",
       "    <tr>\n",
       "      <th>2</th>\n",
       "      <td>90.651821</td>\n",
       "      <td>0.000297</td>\n",
       "    </tr>\n",
       "    <tr>\n",
       "      <th>3</th>\n",
       "      <td>90.427731</td>\n",
       "      <td>0.000297</td>\n",
       "    </tr>\n",
       "    <tr>\n",
       "      <th>4</th>\n",
       "      <td>90.203641</td>\n",
       "      <td>0.000297</td>\n",
       "    </tr>\n",
       "    <tr>\n",
       "      <th>...</th>\n",
       "      <td>...</td>\n",
       "      <td>...</td>\n",
       "    </tr>\n",
       "    <tr>\n",
       "      <th>9995</th>\n",
       "      <td>NaN</td>\n",
       "      <td>0.000018</td>\n",
       "    </tr>\n",
       "    <tr>\n",
       "      <th>9996</th>\n",
       "      <td>NaN</td>\n",
       "      <td>0.000018</td>\n",
       "    </tr>\n",
       "    <tr>\n",
       "      <th>9997</th>\n",
       "      <td>NaN</td>\n",
       "      <td>0.000018</td>\n",
       "    </tr>\n",
       "    <tr>\n",
       "      <th>9998</th>\n",
       "      <td>NaN</td>\n",
       "      <td>0.000018</td>\n",
       "    </tr>\n",
       "    <tr>\n",
       "      <th>9999</th>\n",
       "      <td>NaN</td>\n",
       "      <td>0.000018</td>\n",
       "    </tr>\n",
       "  </tbody>\n",
       "</table>\n",
       "<p>10000 rows × 2 columns</p>\n",
       "</div>"
      ],
      "text/plain": [
       "            y_t    grad_t\n",
       "0     91.100000  0.000298\n",
       "1     90.875910  0.000298\n",
       "2     90.651821  0.000297\n",
       "3     90.427731  0.000297\n",
       "4     90.203641  0.000297\n",
       "...         ...       ...\n",
       "9995        NaN  0.000018\n",
       "9996        NaN  0.000018\n",
       "9997        NaN  0.000018\n",
       "9998        NaN  0.000018\n",
       "9999        NaN  0.000018\n",
       "\n",
       "[10000 rows x 2 columns]"
      ]
     },
     "execution_count": 9,
     "metadata": {},
     "output_type": "execute_result"
    }
   ],
   "source": [
    "df"
   ]
  },
  {
   "cell_type": "markdown",
   "metadata": {
    "id": "-5esyHu5aFvg"
   },
   "source": [
    "## Plot of the External Forcing from Chaotic Differential Equation"
   ]
  },
  {
   "cell_type": "code",
   "execution_count": 10,
   "metadata": {
    "colab": {
     "base_uri": "https://localhost:8080/",
     "height": 447
    },
    "id": "hGnE43tOh-4p",
    "outputId": "fc396503-b624-4fa5-dfbe-f460207405c6"
   },
   "outputs": [
    {
     "data": {
      "text/plain": [
       "<Axes: >"
      ]
     },
     "execution_count": 10,
     "metadata": {},
     "output_type": "execute_result"
    },
    {
     "data": {
      "image/png": "[encoded data removed]",
      "text/plain": [
       "<Figure size 432x288 with 1 Axes>"
      ]
     },
     "metadata": {
      "needs_background": "light"
     },
     "output_type": "display_data"
    }
   ],
   "source": [
    "df.iloc[:, 0].plot()"
   ]
  },
  {
   "cell_type": "code",
   "execution_count": 11,
   "metadata": {
    "colab": {
     "base_uri": "https://localhost:8080/",
     "height": 447
    },
    "id": "ym4xWUUxaFvg",
    "outputId": "ae6a3495-8ce9-437e-ba81-3ed31deedeae"
   },
   "outputs": [
    {
     "name": "stderr",
     "output_type": "stream",
     "text": [
      "C:\\Users\\Anurag Dutta\\AppData\\Local\\Packages\\PythonSoftwareFoundation.Python.3.9_qbz5n2kfra8p0\\LocalCache\\local-packages\\Python39\\site-packages\\pandas\\core\\arraylike.py:402: RuntimeWarning: divide by zero encountered in log\n",
      "  result = getattr(ufunc, method)(*inputs, **kwargs)\n"
     ]
    },
    {
     "data": {
      "text/plain": [
       "<Axes: >"
      ]
     },
     "execution_count": 11,
     "metadata": {},
     "output_type": "execute_result"
    },
    {
     "data": {
      "image/png": "[encoded data removed]",
      "text/plain": [
       "<Figure size 432x288 with 1 Axes>"
      ]
     },
     "metadata": {
      "needs_background": "light"
     },
     "output_type": "display_data"
    }
   ],
   "source": [
    "import numpy as np\n",
    "c0 = 88.0403  # Value for C0\n",
    "K0 = -0.0012  # Value for K0\n",
    "K1 = -0.0001  # Value for K1\n",
    "a = 0.0000    # Value for a\n",
    "b = 0.0120    # Value for b\n",
    "c = 2.0334    # Value for c\n",
    "\n",
    "L = np.minimum(c0, (df.iloc[:, 1] - (df.iloc[:, 0] * (K0 - K1 * (9 * a * np.log(df.iloc[:, 0] / c0) / (K0 - K1 * c)**2 + 4 * b * np.log(df.iloc[:, 0] / c0) / (K0 - K1 * c) + c)))))\n",
    "L.plot()"
   ]
  },
  {
   "cell_type": "markdown",
   "metadata": {
    "id": "9VyEywnwaFvh"
   },
   "source": [
    "## Preprocessing the data into supervised learning"
   ]
  },
  {
   "cell_type": "code",
   "execution_count": 12,
   "metadata": {
    "id": "6V9dXqzdaFvh"
   },
   "outputs": [],
   "source": [
    "# split a sequence into samples\n",
    "def Supervised(data, n_in=1, n_out=1, dropnan=True):\n",
    "    n_vars = 1 if type(data) is list else data.shape[1]\n",
    "    df = pd.DataFrame(data)\n",
    "    cols, names = list(), list()\n",
    "    # input sequence (t-n_in, ... t-1)\n",
    "    for i in range(n_in, 0, -1):\n",
    "        cols.append(df.shift(i))\n",
    "        names += [('var%d(t-%d)' % (j+1, i)) for j in range(n_vars)]\n",
    "    # forecast sequence (t, t+1, ... t+n_out)\n",
    "    for i in range(0, n_out):\n",
    "      cols.append(df.shift(-i))\n",
    "      if i == 0:\n",
    "        names += [('var%d(t)' % (j+1)) for j in range(n_vars)]\n",
    "      else:\n",
    "        names += [('var%d(t+%d)' % (j+1, i)) for j in range(n_vars)]\n",
    "    # put it all together\n",
    "    agg = pd.concat(cols, axis=1)\n",
    "    agg.columns = names\n",
    "    # drop rows with NaN values\n",
    "    if dropnan:\n",
    "       agg.dropna(inplace=True)\n",
    "    return agg"
   ]
  },
  {
   "cell_type": "code",
   "execution_count": 13,
   "metadata": {
    "colab": {
     "base_uri": "https://localhost:8080/"
    },
    "id": "CrzSrT1HnyfH",
    "outputId": "7e75f928-3e47-499d-eac1-51908015ef78"
   },
   "outputs": [
    {
     "name": "stdout",
     "output_type": "stream",
     "text": [
      "     var1(t-350)  var1(t-349)  var1(t-348)  var1(t-347)  var1(t-346)  \\\n",
      "350    91.100000    90.875910    90.651821    90.427731    90.203641   \n",
      "351    90.875910    90.651821    90.427731    90.203641    89.979552   \n",
      "352    90.651821    90.427731    90.203641    89.979552    89.755462   \n",
      "353    90.427731    90.203641    89.979552    89.755462    89.531373   \n",
      "354    90.203641    89.979552    89.755462    89.531373    89.307283   \n",
      "\n",
      "     var1(t-345)  var1(t-344)  var1(t-343)  var1(t-342)  var1(t-341)  ...  \\\n",
      "350    89.979552    89.755462    89.531373    89.307283    89.094118  ...   \n",
      "351    89.755462    89.531373    89.307283    89.094118    89.015686  ...   \n",
      "352    89.531373    89.307283    89.094118    89.015686    88.937255  ...   \n",
      "353    89.307283    89.094118    89.015686    88.937255    88.858824  ...   \n",
      "354    89.094118    89.015686    88.937255    88.858824    88.780392  ...   \n",
      "\n",
      "     var1(t+95)  var2(t+95)  var1(t+96)  var2(t+96)  var1(t+97)  var2(t+97)  \\\n",
      "350   81.423343    0.000263   81.404669    0.000263   81.385994    0.000263   \n",
      "351   81.404669    0.000263   81.385994    0.000263   81.367320    0.000262   \n",
      "352   81.385994    0.000263   81.367320    0.000262   81.348646    0.000262   \n",
      "353   81.367320    0.000262   81.348646    0.000262   81.329972    0.000262   \n",
      "354   81.348646    0.000262   81.329972    0.000262   81.311298    0.000262   \n",
      "\n",
      "     var1(t+98)  var2(t+98)  var1(t+99)  var2(t+99)  \n",
      "350   81.367320    0.000262   81.348646    0.000262  \n",
      "351   81.348646    0.000262   81.329972    0.000262  \n",
      "352   81.329972    0.000262   81.311298    0.000262  \n",
      "353   81.311298    0.000262   81.292624    0.000262  \n",
      "354   81.292624    0.000262   81.273950    0.000262  \n",
      "\n",
      "[5 rows x 551 columns]\n",
      "Index(['var1(t-350)', 'var1(t-349)', 'var1(t-348)', 'var1(t-347)',\n",
      "       'var1(t-346)', 'var1(t-345)', 'var1(t-344)', 'var1(t-343)',\n",
      "       'var1(t-342)', 'var1(t-341)',\n",
      "       ...\n",
      "       'var1(t+95)', 'var2(t+95)', 'var1(t+96)', 'var2(t+96)', 'var1(t+97)',\n",
      "       'var2(t+97)', 'var1(t+98)', 'var2(t+98)', 'var1(t+99)', 'var2(t+99)'],\n",
      "      dtype='object', length=551)\n"
     ]
    }
   ],
   "source": [
    "data = Supervised(df.values, n_in = 350, n_out = 100)\n",
    "\n",
    "\n",
    "cols_to_drop = []\n",
    "for i in range(2, 351):\n",
    "    cols_to_drop.extend([f'var2(t-{i})'])\n",
    "\n",
    "data.drop(cols_to_drop, axis=1, inplace=True)\n",
    "\n",
    "print(data.head())\n",
    "print(data.columns)"
   ]
  },
  {
   "cell_type": "code",
   "execution_count": 14,
   "metadata": {
    "id": "AfPf60oy6Pe4"
   },
   "outputs": [],
   "source": [
    "train = np.array(data[0:len(data)-1])\n",
    "forecast = np.array(data.tail(1))"
   ]
  },
  {
   "cell_type": "code",
   "execution_count": 15,
   "metadata": {
    "id": "WSAafzI37KiT"
   },
   "outputs": [],
   "source": [
    "trainy = train[:,-300:]\n",
    "trainX = train[:,:-300]"
   ]
  },
  {
   "cell_type": "code",
   "execution_count": 16,
   "metadata": {
    "id": "2SrOqVJA7f50"
   },
   "outputs": [],
   "source": [
    "forecasty = forecast[:,-300:]\n",
    "forecastX = forecast[:,:-300]"
   ]
  },
  {
   "cell_type": "code",
   "execution_count": 17,
   "metadata": {
    "colab": {
     "base_uri": "https://localhost:8080/"
    },
    "id": "Qno_k8Nw7saY",
    "outputId": "c4a88db5-d8c6-489f-cdb2-06b24e293cff"
   },
   "outputs": [
    {
     "name": "stdout",
     "output_type": "stream",
     "text": [
      "(1300, 1, 251) (1300, 300) (1, 1, 251)\n"
     ]
    }
   ],
   "source": [
    "trainX = trainX.reshape((trainX.shape[0], 1, trainX.shape[1]))\n",
    "forecastX = forecastX.reshape((forecastX.shape[0], 1, forecastX.shape[1]))\n",
    "print(trainX.shape, trainy.shape, forecastX.shape)"
   ]
  },
  {
   "cell_type": "code",
   "execution_count": 18,
   "metadata": {
    "colab": {
     "base_uri": "https://localhost:8080/"
    },
    "id": "b1Jp2DvNuNFx",
    "outputId": "d0e5b3c4-64f1-438c-eade-8dfeaac8e285"
   },
   "outputs": [
    {
     "name": "stdout",
     "output_type": "stream",
     "text": [
      "Epoch 1/500\n",
      "17/17 [==============================] - 2s 35ms/step - loss: 6103.6807 - val_loss: 4370.9150\n",
      "Epoch 2/500\n",
      "17/17 [==============================] - 0s 6ms/step - loss: 6021.6943 - val_loss: 4324.2817\n",
      "Epoch 3/500\n",
      "17/17 [==============================] - 0s 8ms/step - loss: 5952.5601 - val_loss: 4279.3501\n",
      "Epoch 4/500\n",
      "17/17 [==============================] - 0s 13ms/step - loss: 5883.9185 - val_loss: 4234.9790\n",
      "Epoch 5/500\n",
      "17/17 [==============================] - 0s 6ms/step - loss: 5816.0249 - val_loss: 4191.1436\n",
      "Epoch 6/500\n",
      "17/17 [==============================] - 0s 6ms/step - loss: 5748.8398 - val_loss: 4147.8027\n",
      "Epoch 7/500\n",
      "17/17 [==============================] - 0s 5ms/step - loss: 5682.3198 - val_loss: 4104.9292\n",
      "Epoch 8/500\n",
      "17/17 [==============================] - 0s 4ms/step - loss: 5616.4302 - val_loss: 4062.5059\n",
      "Epoch 9/500\n",
      "17/17 [==============================] - 0s 4ms/step - loss: 5551.1548 - val_loss: 4020.5198\n",
      "Epoch 10/500\n",
      "17/17 [==============================] - 0s 4ms/step - loss: 5486.4766 - val_loss: 3978.9619\n",
      "Epoch 11/500\n",
      "17/17 [==============================] - 0s 4ms/step - loss: 5422.3838 - val_loss: 3937.8257\n",
      "Epoch 12/500\n",
      "17/17 [==============================] - 0s 5ms/step - loss: 5358.8682 - val_loss: 3897.1047\n",
      "Epoch 13/500\n",
      "17/17 [==============================] - 0s 5ms/step - loss: 5295.9219 - val_loss: 3856.7939\n",
      "Epoch 14/500\n",
      "17/17 [==============================] - 0s 6ms/step - loss: 5233.5396 - val_loss: 3816.8892\n",
      "Epoch 15/500\n",
      "17/17 [==============================] - 0s 9ms/step - loss: 5171.7134 - val_loss: 3777.3855\n",
      "Epoch 16/500\n",
      "17/17 [==============================] - 0s 5ms/step - loss: 5110.4404 - val_loss: 3738.2805\n",
      "Epoch 17/500\n",
      "17/17 [==============================] - 0s 5ms/step - loss: 5049.7134 - val_loss: 3699.5693\n",
      "Epoch 18/500\n",
      "17/17 [==============================] - 0s 4ms/step - loss: 4989.5288 - val_loss: 3661.2490\n",
      "Epoch 19/500\n",
      "17/17 [==============================] - 0s 4ms/step - loss: 4929.8818 - val_loss: 3623.3169\n",
      "Epoch 20/500\n",
      "17/17 [==============================] - 0s 5ms/step - loss: 4870.7686 - val_loss: 3585.7688\n",
      "Epoch 21/500\n",
      "17/17 [==============================] - 0s 4ms/step - loss: 4812.1846 - val_loss: 3548.6023\n",
      "Epoch 22/500\n",
      "17/17 [==============================] - 0s 4ms/step - loss: 4754.1260 - val_loss: 3511.8147\n",
      "Epoch 23/500\n",
      "17/17 [==============================] - 0s 5ms/step - loss: 4696.5898 - val_loss: 3475.4026\n",
      "Epoch 24/500\n",
      "17/17 [==============================] - 0s 5ms/step - loss: 4639.5703 - val_loss: 3439.3635\n",
      "Epoch 25/500\n",
      "17/17 [==============================] - 0s 6ms/step - loss: 4583.0640 - val_loss: 3403.6948\n",
      "Epoch 26/500\n",
      "17/17 [==============================] - 0s 8ms/step - loss: 4527.0688 - val_loss: 3368.3931\n",
      "Epoch 27/500\n",
      "17/17 [==============================] - 0s 8ms/step - loss: 4471.5811 - val_loss: 3333.4563\n",
      "Epoch 28/500\n",
      "17/17 [==============================] - 0s 5ms/step - loss: 4416.5952 - val_loss: 3298.8816\n",
      "Epoch 29/500\n",
      "17/17 [==============================] - 0s 4ms/step - loss: 4362.1094 - val_loss: 3264.6667\n",
      "Epoch 30/500\n",
      "17/17 [==============================] - 0s 5ms/step - loss: 4308.1206 - val_loss: 3230.8086\n",
      "Epoch 31/500\n",
      "17/17 [==============================] - 0s 5ms/step - loss: 4254.6240 - val_loss: 3197.3047\n",
      "Epoch 32/500\n",
      "17/17 [==============================] - 0s 4ms/step - loss: 4201.6172 - val_loss: 3164.1533\n",
      "Epoch 33/500\n",
      "17/17 [==============================] - 0s 4ms/step - loss: 4149.0967 - val_loss: 3131.3516\n",
      "Epoch 34/500\n",
      "17/17 [==============================] - 0s 4ms/step - loss: 4097.0586 - val_loss: 3098.8958\n",
      "Epoch 35/500\n",
      "17/17 [==============================] - 0s 5ms/step - loss: 4045.5005 - val_loss: 3066.7856\n",
      "Epoch 36/500\n",
      "17/17 [==============================] - 0s 5ms/step - loss: 3994.4185 - val_loss: 3035.0171\n",
      "Epoch 37/500\n",
      "17/17 [==============================] - 0s 5ms/step - loss: 3943.8103 - val_loss: 3003.5886\n",
      "Epoch 38/500\n",
      "17/17 [==============================] - 0s 4ms/step - loss: 3893.6721 - val_loss: 2972.4976\n",
      "Epoch 39/500\n",
      "17/17 [==============================] - 0s 4ms/step - loss: 3844.0012 - val_loss: 2941.7419\n",
      "Epoch 40/500\n",
      "17/17 [==============================] - 0s 4ms/step - loss: 3794.7939 - val_loss: 2911.3193\n",
      "Epoch 41/500\n",
      "17/17 [==============================] - 0s 5ms/step - loss: 3746.0481 - val_loss: 2881.2261\n",
      "Epoch 42/500\n",
      "17/17 [==============================] - 0s 4ms/step - loss: 3697.7593 - val_loss: 2851.4617\n",
      "Epoch 43/500\n",
      "17/17 [==============================] - 0s 4ms/step - loss: 3649.9253 - val_loss: 2822.0234\n",
      "Epoch 44/500\n",
      "17/17 [==============================] - 0s 4ms/step - loss: 3602.5432 - val_loss: 2792.9084\n",
      "Epoch 45/500\n",
      "17/17 [==============================] - 0s 5ms/step - loss: 3555.6111 - val_loss: 2764.1155\n",
      "Epoch 46/500\n",
      "17/17 [==============================] - 0s 5ms/step - loss: 3509.1238 - val_loss: 2735.6414\n",
      "Epoch 47/500\n",
      "17/17 [==============================] - 0s 4ms/step - loss: 3463.0798 - val_loss: 2707.4844\n",
      "Epoch 48/500\n",
      "17/17 [==============================] - 0s 5ms/step - loss: 3417.4756 - val_loss: 2679.6426\n",
      "Epoch 49/500\n",
      "17/17 [==============================] - 0s 4ms/step - loss: 3372.3091 - val_loss: 2652.1125\n",
      "Epoch 50/500\n",
      "17/17 [==============================] - 0s 5ms/step - loss: 3327.5764 - val_loss: 2624.8938\n",
      "Epoch 51/500\n",
      "17/17 [==============================] - 0s 4ms/step - loss: 3283.2751 - val_loss: 2597.9832\n",
      "Epoch 52/500\n",
      "17/17 [==============================] - 0s 5ms/step - loss: 3239.4031 - val_loss: 2571.3789\n",
      "Epoch 53/500\n",
      "17/17 [==============================] - 0s 5ms/step - loss: 3195.9565 - val_loss: 2545.0786\n",
      "Epoch 54/500\n",
      "17/17 [==============================] - 0s 5ms/step - loss: 3152.9331 - val_loss: 2519.0808\n",
      "Epoch 55/500\n",
      "17/17 [==============================] - 0s 5ms/step - loss: 3110.3303 - val_loss: 2493.3821\n",
      "Epoch 56/500\n",
      "17/17 [==============================] - 0s 10ms/step - loss: 3068.1448 - val_loss: 2467.9819\n",
      "Epoch 57/500\n",
      "17/17 [==============================] - 0s 4ms/step - loss: 3026.3745 - val_loss: 2442.8772\n",
      "Epoch 58/500\n",
      "17/17 [==============================] - 0s 5ms/step - loss: 2985.0154 - val_loss: 2418.0664\n",
      "Epoch 59/500\n",
      "17/17 [==============================] - 0s 5ms/step - loss: 2944.0669 - val_loss: 2393.5469\n",
      "Epoch 60/500\n",
      "17/17 [==============================] - 0s 5ms/step - loss: 2903.5239 - val_loss: 2369.3179\n",
      "Epoch 61/500\n",
      "17/17 [==============================] - 0s 4ms/step - loss: 2863.3860 - val_loss: 2345.3757\n",
      "Epoch 62/500\n",
      "17/17 [==============================] - 0s 4ms/step - loss: 2823.6489 - val_loss: 2321.7195\n",
      "Epoch 63/500\n",
      "17/17 [==============================] - 0s 4ms/step - loss: 2784.3110 - val_loss: 2298.3472\n",
      "Epoch 64/500\n",
      "17/17 [==============================] - 0s 5ms/step - loss: 2745.3694 - val_loss: 2275.2563\n",
      "Epoch 65/500\n",
      "17/17 [==============================] - 0s 7ms/step - loss: 2706.8210 - val_loss: 2252.4453\n",
      "Epoch 66/500\n",
      "17/17 [==============================] - 0s 6ms/step - loss: 2668.6643 - val_loss: 2229.9119\n",
      "Epoch 67/500\n",
      "17/17 [==============================] - 0s 8ms/step - loss: 2630.8958 - val_loss: 2207.6543\n",
      "Epoch 68/500\n",
      "17/17 [==============================] - 0s 7ms/step - loss: 2593.5127 - val_loss: 2185.6704\n",
      "Epoch 69/500\n",
      "17/17 [==============================] - 0s 5ms/step - loss: 2556.5132 - val_loss: 2163.9592\n",
      "Epoch 70/500\n",
      "17/17 [==============================] - 0s 5ms/step - loss: 2519.8955 - val_loss: 2142.5173\n",
      "Epoch 71/500\n",
      "17/17 [==============================] - 0s 5ms/step - loss: 2483.6553 - val_loss: 2121.3438\n",
      "Epoch 72/500\n",
      "17/17 [==============================] - 0s 6ms/step - loss: 2447.7913 - val_loss: 2100.4360\n",
      "Epoch 73/500\n",
      "17/17 [==============================] - 0s 6ms/step - loss: 2412.3008 - val_loss: 2079.7935\n",
      "Epoch 74/500\n",
      "17/17 [==============================] - 0s 6ms/step - loss: 2377.1807 - val_loss: 2059.4131\n",
      "Epoch 75/500\n",
      "17/17 [==============================] - 0s 6ms/step - loss: 2342.4297 - val_loss: 2039.2926\n",
      "Epoch 76/500\n",
      "17/17 [==============================] - 0s 6ms/step - loss: 2308.0447 - val_loss: 2019.4318\n",
      "Epoch 77/500\n",
      "17/17 [==============================] - 0s 6ms/step - loss: 2274.0229 - val_loss: 1999.8269\n",
      "Epoch 78/500\n",
      "17/17 [==============================] - 0s 7ms/step - loss: 2240.3621 - val_loss: 1980.4771\n",
      "Epoch 79/500\n",
      "17/17 [==============================] - 0s 6ms/step - loss: 2207.0601 - val_loss: 1961.3807\n",
      "Epoch 80/500\n",
      "17/17 [==============================] - 0s 5ms/step - loss: 2174.1147 - val_loss: 1942.5358\n",
      "Epoch 81/500\n",
      "17/17 [==============================] - 0s 5ms/step - loss: 2141.5237 - val_loss: 1923.9403\n",
      "Epoch 82/500\n",
      "17/17 [==============================] - 0s 6ms/step - loss: 2109.2837 - val_loss: 1905.5927\n",
      "Epoch 83/500\n",
      "17/17 [==============================] - 0s 6ms/step - loss: 2077.3938 - val_loss: 1887.4902\n",
      "Epoch 84/500\n",
      "17/17 [==============================] - 0s 6ms/step - loss: 2045.8505 - val_loss: 1869.6329\n",
      "Epoch 85/500\n",
      "17/17 [==============================] - 0s 5ms/step - loss: 2014.6523 - val_loss: 1852.0178\n",
      "Epoch 86/500\n",
      "17/17 [==============================] - 0s 7ms/step - loss: 1983.7959 - val_loss: 1834.6426\n",
      "Epoch 87/500\n",
      "17/17 [==============================] - 0s 5ms/step - loss: 1953.2799 - val_loss: 1817.5070\n",
      "Epoch 88/500\n",
      "17/17 [==============================] - 0s 6ms/step - loss: 1923.1016 - val_loss: 1800.6077\n",
      "Epoch 89/500\n",
      "17/17 [==============================] - 0s 6ms/step - loss: 1893.2585 - val_loss: 1783.9445\n",
      "Epoch 90/500\n",
      "17/17 [==============================] - 0s 5ms/step - loss: 1863.7491 - val_loss: 1767.5144\n",
      "Epoch 91/500\n",
      "17/17 [==============================] - 0s 15ms/step - loss: 1834.5703 - val_loss: 1751.3156\n",
      "Epoch 92/500\n",
      "17/17 [==============================] - 0s 5ms/step - loss: 1805.7200 - val_loss: 1735.3470\n",
      "Epoch 93/500\n",
      "17/17 [==============================] - 0s 6ms/step - loss: 1777.1962 - val_loss: 1719.6072\n",
      "Epoch 94/500\n",
      "17/17 [==============================] - 0s 5ms/step - loss: 1748.9966 - val_loss: 1704.0934\n",
      "Epoch 95/500\n",
      "17/17 [==============================] - 0s 6ms/step - loss: 1721.1191 - val_loss: 1688.8048\n",
      "Epoch 96/500\n",
      "17/17 [==============================] - 0s 5ms/step - loss: 1693.5619 - val_loss: 1673.7394\n",
      "Epoch 97/500\n",
      "17/17 [==============================] - 0s 5ms/step - loss: 1666.3220 - val_loss: 1658.8951\n",
      "Epoch 98/500\n",
      "17/17 [==============================] - 0s 5ms/step - loss: 1639.3969 - val_loss: 1644.2706\n",
      "Epoch 99/500\n",
      "17/17 [==============================] - 0s 5ms/step - loss: 1612.7852 - val_loss: 1629.8644\n",
      "Epoch 100/500\n",
      "17/17 [==============================] - 0s 5ms/step - loss: 1586.4844 - val_loss: 1615.6742\n",
      "Epoch 101/500\n",
      "17/17 [==============================] - 0s 6ms/step - loss: 1560.4923 - val_loss: 1601.6989\n",
      "Epoch 102/500\n",
      "17/17 [==============================] - 0s 5ms/step - loss: 1534.8073 - val_loss: 1587.9365\n",
      "Epoch 103/500\n",
      "17/17 [==============================] - 0s 6ms/step - loss: 1509.4269 - val_loss: 1574.3854\n",
      "Epoch 104/500\n",
      "17/17 [==============================] - 0s 4ms/step - loss: 1484.3480 - val_loss: 1561.0441\n",
      "Epoch 105/500\n",
      "17/17 [==============================] - 0s 5ms/step - loss: 1459.5704 - val_loss: 1547.9106\n",
      "Epoch 106/500\n",
      "17/17 [==============================] - 0s 4ms/step - loss: 1435.0901 - val_loss: 1534.9835\n",
      "Epoch 107/500\n",
      "17/17 [==============================] - 0s 4ms/step - loss: 1410.9061 - val_loss: 1522.2611\n",
      "Epoch 108/500\n",
      "17/17 [==============================] - 0s 4ms/step - loss: 1387.0157 - val_loss: 1509.7417\n",
      "Epoch 109/500\n",
      "17/17 [==============================] - 0s 4ms/step - loss: 1363.4176 - val_loss: 1497.4236\n",
      "Epoch 110/500\n",
      "17/17 [==============================] - 0s 4ms/step - loss: 1340.1089 - val_loss: 1485.3054\n",
      "Epoch 111/500\n",
      "17/17 [==============================] - 0s 5ms/step - loss: 1317.0875 - val_loss: 1473.3851\n",
      "Epoch 112/500\n",
      "17/17 [==============================] - 0s 5ms/step - loss: 1294.3516 - val_loss: 1461.6609\n",
      "Epoch 113/500\n",
      "17/17 [==============================] - 0s 5ms/step - loss: 1271.8987 - val_loss: 1450.1320\n",
      "Epoch 114/500\n",
      "17/17 [==============================] - 0s 5ms/step - loss: 1249.7277 - val_loss: 1438.7961\n",
      "Epoch 115/500\n",
      "17/17 [==============================] - 0s 5ms/step - loss: 1227.8357 - val_loss: 1427.6522\n",
      "Epoch 116/500\n",
      "17/17 [==============================] - 0s 6ms/step - loss: 1206.2213 - val_loss: 1416.6981\n",
      "Epoch 117/500\n",
      "17/17 [==============================] - 0s 8ms/step - loss: 1184.8816 - val_loss: 1405.9323\n",
      "Epoch 118/500\n",
      "17/17 [==============================] - 0s 6ms/step - loss: 1163.8152 - val_loss: 1395.3533\n",
      "Epoch 119/500\n",
      "17/17 [==============================] - 0s 5ms/step - loss: 1143.0201 - val_loss: 1384.9594\n",
      "Epoch 120/500\n",
      "17/17 [==============================] - 0s 5ms/step - loss: 1122.4934 - val_loss: 1374.7490\n",
      "Epoch 121/500\n",
      "17/17 [==============================] - 0s 5ms/step - loss: 1102.2340 - val_loss: 1364.7209\n",
      "Epoch 122/500\n",
      "17/17 [==============================] - 0s 5ms/step - loss: 1082.2399 - val_loss: 1354.8730\n",
      "Epoch 123/500\n",
      "17/17 [==============================] - 0s 5ms/step - loss: 1062.5083 - val_loss: 1345.2037\n",
      "Epoch 124/500\n",
      "17/17 [==============================] - 0s 5ms/step - loss: 1043.0377 - val_loss: 1335.7119\n",
      "Epoch 125/500\n",
      "17/17 [==============================] - 0s 5ms/step - loss: 1023.8263 - val_loss: 1326.3958\n",
      "Epoch 126/500\n",
      "17/17 [==============================] - 0s 5ms/step - loss: 1004.8718 - val_loss: 1317.2535\n",
      "Epoch 127/500\n",
      "17/17 [==============================] - 0s 5ms/step - loss: 986.1722 - val_loss: 1308.2836\n",
      "Epoch 128/500\n",
      "17/17 [==============================] - 0s 5ms/step - loss: 967.7256 - val_loss: 1299.4847\n",
      "Epoch 129/500\n",
      "17/17 [==============================] - 0s 11ms/step - loss: 949.5299 - val_loss: 1290.8551\n",
      "Epoch 130/500\n",
      "17/17 [==============================] - 0s 5ms/step - loss: 931.5831 - val_loss: 1282.3933\n",
      "Epoch 131/500\n",
      "17/17 [==============================] - 0s 5ms/step - loss: 913.8831 - val_loss: 1274.0977\n",
      "Epoch 132/500\n",
      "17/17 [==============================] - 0s 5ms/step - loss: 896.4282 - val_loss: 1265.9668\n",
      "Epoch 133/500\n",
      "17/17 [==============================] - 0s 6ms/step - loss: 879.2167 - val_loss: 1257.9985\n",
      "Epoch 134/500\n",
      "17/17 [==============================] - 0s 5ms/step - loss: 862.2463 - val_loss: 1250.1921\n",
      "Epoch 135/500\n",
      "17/17 [==============================] - 0s 5ms/step - loss: 845.5151 - val_loss: 1242.5455\n",
      "Epoch 136/500\n",
      "17/17 [==============================] - 0s 5ms/step - loss: 829.0212 - val_loss: 1235.0576\n",
      "Epoch 137/500\n",
      "17/17 [==============================] - 0s 5ms/step - loss: 812.7627 - val_loss: 1227.7264\n",
      "Epoch 138/500\n",
      "17/17 [==============================] - 0s 5ms/step - loss: 796.7369 - val_loss: 1220.5502\n",
      "Epoch 139/500\n",
      "17/17 [==============================] - 0s 5ms/step - loss: 780.9427 - val_loss: 1213.5278\n",
      "Epoch 140/500\n",
      "17/17 [==============================] - 0s 5ms/step - loss: 765.3779 - val_loss: 1206.6577\n",
      "Epoch 141/500\n",
      "17/17 [==============================] - 0s 5ms/step - loss: 750.0406 - val_loss: 1199.9384\n",
      "Epoch 142/500\n",
      "17/17 [==============================] - 0s 5ms/step - loss: 734.9288 - val_loss: 1193.3679\n",
      "Epoch 143/500\n",
      "17/17 [==============================] - 0s 5ms/step - loss: 720.0408 - val_loss: 1186.9453\n",
      "Epoch 144/500\n",
      "17/17 [==============================] - 0s 5ms/step - loss: 705.3743 - val_loss: 1180.6683\n",
      "Epoch 145/500\n",
      "17/17 [==============================] - 0s 5ms/step - loss: 690.9277 - val_loss: 1174.5363\n",
      "Epoch 146/500\n",
      "17/17 [==============================] - 0s 5ms/step - loss: 676.6992 - val_loss: 1168.5470\n",
      "Epoch 147/500\n",
      "17/17 [==============================] - 0s 5ms/step - loss: 662.6862 - val_loss: 1162.6989\n",
      "Epoch 148/500\n",
      "17/17 [==============================] - 0s 6ms/step - loss: 648.8878 - val_loss: 1156.9912\n",
      "Epoch 149/500\n",
      "17/17 [==============================] - 0s 6ms/step - loss: 635.3016 - val_loss: 1151.4216\n",
      "Epoch 150/500\n",
      "17/17 [==============================] - 0s 5ms/step - loss: 621.9256 - val_loss: 1145.9888\n",
      "Epoch 151/500\n",
      "17/17 [==============================] - 0s 6ms/step - loss: 608.7576 - val_loss: 1140.6915\n",
      "Epoch 152/500\n",
      "17/17 [==============================] - 0s 6ms/step - loss: 595.7964 - val_loss: 1135.5281\n",
      "Epoch 153/500\n",
      "17/17 [==============================] - 0s 6ms/step - loss: 583.0398 - val_loss: 1130.4965\n",
      "Epoch 154/500\n",
      "17/17 [==============================] - 0s 5ms/step - loss: 570.4855 - val_loss: 1125.5959\n",
      "Epoch 155/500\n",
      "17/17 [==============================] - 0s 5ms/step - loss: 558.1320 - val_loss: 1120.8245\n",
      "Epoch 156/500\n",
      "17/17 [==============================] - 0s 6ms/step - loss: 545.9774 - val_loss: 1116.1809\n",
      "Epoch 157/500\n",
      "17/17 [==============================] - 0s 5ms/step - loss: 534.0200 - val_loss: 1111.6637\n",
      "Epoch 158/500\n",
      "17/17 [==============================] - 0s 5ms/step - loss: 522.2578 - val_loss: 1107.2708\n",
      "Epoch 159/500\n",
      "17/17 [==============================] - 0s 4ms/step - loss: 510.6887 - val_loss: 1103.0012\n",
      "Epoch 160/500\n",
      "17/17 [==============================] - 0s 5ms/step - loss: 499.3110 - val_loss: 1098.8534\n",
      "Epoch 161/500\n",
      "17/17 [==============================] - 0s 5ms/step - loss: 488.1229 - val_loss: 1094.8256\n",
      "Epoch 162/500\n",
      "17/17 [==============================] - 0s 5ms/step - loss: 477.1224 - val_loss: 1090.9167\n",
      "Epoch 163/500\n",
      "17/17 [==============================] - 0s 11ms/step - loss: 466.3078 - val_loss: 1087.1249\n",
      "Epoch 164/500\n",
      "17/17 [==============================] - 0s 5ms/step - loss: 455.6770 - val_loss: 1083.4486\n",
      "Epoch 165/500\n",
      "17/17 [==============================] - 0s 4ms/step - loss: 445.2287 - val_loss: 1079.8867\n",
      "Epoch 166/500\n",
      "17/17 [==============================] - 0s 4ms/step - loss: 434.9603 - val_loss: 1076.4371\n",
      "Epoch 167/500\n",
      "17/17 [==============================] - 0s 4ms/step - loss: 424.8704 - val_loss: 1073.0990\n",
      "Epoch 168/500\n",
      "17/17 [==============================] - 0s 4ms/step - loss: 414.9570 - val_loss: 1069.8706\n",
      "Epoch 169/500\n",
      "17/17 [==============================] - 0s 5ms/step - loss: 405.2183 - val_loss: 1066.7501\n",
      "Epoch 170/500\n",
      "17/17 [==============================] - 0s 5ms/step - loss: 395.6524 - val_loss: 1063.7365\n",
      "Epoch 171/500\n",
      "17/17 [==============================] - 0s 5ms/step - loss: 386.2578 - val_loss: 1060.8281\n",
      "Epoch 172/500\n",
      "17/17 [==============================] - 0s 5ms/step - loss: 377.0322 - val_loss: 1058.0233\n",
      "Epoch 173/500\n",
      "17/17 [==============================] - 0s 6ms/step - loss: 367.9741 - val_loss: 1055.3208\n",
      "Epoch 174/500\n",
      "17/17 [==============================] - 0s 6ms/step - loss: 359.0815 - val_loss: 1052.7190\n",
      "Epoch 175/500\n",
      "17/17 [==============================] - 0s 5ms/step - loss: 350.3526 - val_loss: 1050.2167\n",
      "Epoch 176/500\n",
      "17/17 [==============================] - 0s 5ms/step - loss: 341.7856 - val_loss: 1047.8120\n",
      "Epoch 177/500\n",
      "17/17 [==============================] - 0s 6ms/step - loss: 333.3787 - val_loss: 1045.5037\n",
      "Epoch 178/500\n",
      "17/17 [==============================] - 0s 5ms/step - loss: 325.1299 - val_loss: 1043.2902\n",
      "Epoch 179/500\n",
      "17/17 [==============================] - 0s 5ms/step - loss: 317.0379 - val_loss: 1041.1702\n",
      "Epoch 180/500\n",
      "17/17 [==============================] - 0s 5ms/step - loss: 309.1003 - val_loss: 1039.1421\n",
      "Epoch 181/500\n",
      "17/17 [==============================] - 0s 4ms/step - loss: 301.3157 - val_loss: 1037.2043\n",
      "Epoch 182/500\n",
      "17/17 [==============================] - 0s 4ms/step - loss: 293.6821 - val_loss: 1035.3555\n",
      "Epoch 183/500\n",
      "17/17 [==============================] - 0s 5ms/step - loss: 286.1977 - val_loss: 1033.5942\n",
      "Epoch 184/500\n",
      "17/17 [==============================] - 0s 5ms/step - loss: 278.8604 - val_loss: 1031.9191\n",
      "Epoch 185/500\n",
      "17/17 [==============================] - 0s 5ms/step - loss: 271.6690 - val_loss: 1030.3286\n",
      "Epoch 186/500\n",
      "17/17 [==============================] - 0s 5ms/step - loss: 264.6215 - val_loss: 1028.8213\n",
      "Epoch 187/500\n",
      "17/17 [==============================] - 0s 5ms/step - loss: 257.7160 - val_loss: 1027.3956\n",
      "Epoch 188/500\n",
      "17/17 [==============================] - 0s 5ms/step - loss: 250.9508 - val_loss: 1026.0504\n",
      "Epoch 189/500\n",
      "17/17 [==============================] - 0s 5ms/step - loss: 244.3241 - val_loss: 1024.7841\n",
      "Epoch 190/500\n",
      "17/17 [==============================] - 0s 5ms/step - loss: 237.8342 - val_loss: 1023.5950\n",
      "Epoch 191/500\n",
      "17/17 [==============================] - 0s 6ms/step - loss: 231.4796 - val_loss: 1022.4820\n",
      "Epoch 192/500\n",
      "17/17 [==============================] - 0s 5ms/step - loss: 225.2582 - val_loss: 1021.4435\n",
      "Epoch 193/500\n",
      "17/17 [==============================] - 0s 5ms/step - loss: 219.1681 - val_loss: 1020.4781\n",
      "Epoch 194/500\n",
      "17/17 [==============================] - 0s 12ms/step - loss: 213.2079 - val_loss: 1019.5847\n",
      "Epoch 195/500\n",
      "17/17 [==============================] - 0s 5ms/step - loss: 207.3758 - val_loss: 1018.7615\n",
      "Epoch 196/500\n",
      "17/17 [==============================] - 0s 5ms/step - loss: 201.6700 - val_loss: 1018.0073\n",
      "Epoch 197/500\n",
      "17/17 [==============================] - 0s 5ms/step - loss: 196.0886 - val_loss: 1017.3204\n",
      "Epoch 198/500\n",
      "17/17 [==============================] - 0s 5ms/step - loss: 190.6299 - val_loss: 1016.6996\n",
      "Epoch 199/500\n",
      "17/17 [==============================] - 0s 5ms/step - loss: 185.2924 - val_loss: 1016.1436\n",
      "Epoch 200/500\n",
      "17/17 [==============================] - 0s 5ms/step - loss: 180.0744 - val_loss: 1015.6511\n",
      "Epoch 201/500\n",
      "17/17 [==============================] - 0s 5ms/step - loss: 174.9739 - val_loss: 1015.2205\n",
      "Epoch 202/500\n",
      "17/17 [==============================] - 0s 5ms/step - loss: 169.9894 - val_loss: 1014.8503\n",
      "Epoch 203/500\n",
      "17/17 [==============================] - 0s 5ms/step - loss: 165.1190 - val_loss: 1014.5396\n",
      "Epoch 204/500\n",
      "17/17 [==============================] - 0s 5ms/step - loss: 160.3614 - val_loss: 1014.2864\n",
      "Epoch 205/500\n",
      "17/17 [==============================] - 0s 5ms/step - loss: 155.7144 - val_loss: 1014.0898\n",
      "Epoch 206/500\n",
      "17/17 [==============================] - 0s 5ms/step - loss: 151.1764 - val_loss: 1013.9485\n",
      "Epoch 207/500\n",
      "17/17 [==============================] - 0s 4ms/step - loss: 146.7459 - val_loss: 1013.8608\n",
      "Epoch 208/500\n",
      "17/17 [==============================] - 0s 5ms/step - loss: 142.4213 - val_loss: 1013.8257\n",
      "Epoch 209/500\n",
      "17/17 [==============================] - 0s 4ms/step - loss: 138.2011 - val_loss: 1013.8417\n",
      "Epoch 210/500\n",
      "17/17 [==============================] - 0s 4ms/step - loss: 134.0835 - val_loss: 1013.9075\n",
      "Epoch 211/500\n",
      "17/17 [==============================] - 0s 4ms/step - loss: 130.0666 - val_loss: 1014.0217\n",
      "Epoch 212/500\n",
      "17/17 [==============================] - 0s 4ms/step - loss: 126.1491 - val_loss: 1014.1833\n",
      "Epoch 213/500\n",
      "17/17 [==============================] - 0s 4ms/step - loss: 122.3292 - val_loss: 1014.3906\n",
      "Epoch 214/500\n",
      "17/17 [==============================] - 0s 4ms/step - loss: 118.6053 - val_loss: 1014.6426\n",
      "Epoch 215/500\n",
      "17/17 [==============================] - 0s 4ms/step - loss: 114.9757 - val_loss: 1014.9379\n",
      "Epoch 216/500\n",
      "17/17 [==============================] - 0s 4ms/step - loss: 111.4390 - val_loss: 1015.2753\n",
      "Epoch 217/500\n",
      "17/17 [==============================] - 0s 4ms/step - loss: 107.9937 - val_loss: 1015.6533\n",
      "Epoch 218/500\n",
      "17/17 [==============================] - 0s 4ms/step - loss: 104.6379 - val_loss: 1016.0709\n",
      "Epoch 219/500\n",
      "17/17 [==============================] - 0s 4ms/step - loss: 101.3702 - val_loss: 1016.5268\n",
      "Epoch 220/500\n",
      "17/17 [==============================] - 0s 4ms/step - loss: 98.1889 - val_loss: 1017.0198\n",
      "Epoch 221/500\n",
      "17/17 [==============================] - 0s 4ms/step - loss: 95.0925 - val_loss: 1017.5486\n",
      "Epoch 222/500\n",
      "17/17 [==============================] - 0s 4ms/step - loss: 92.0794 - val_loss: 1018.1119\n",
      "Epoch 223/500\n",
      "17/17 [==============================] - 0s 4ms/step - loss: 89.1484 - val_loss: 1018.7087\n",
      "Epoch 224/500\n",
      "17/17 [==============================] - 0s 5ms/step - loss: 86.2977 - val_loss: 1019.3375\n",
      "Epoch 225/500\n",
      "17/17 [==============================] - 0s 6ms/step - loss: 83.5259 - val_loss: 1019.9976\n",
      "Epoch 226/500\n",
      "17/17 [==============================] - 0s 4ms/step - loss: 80.8311 - val_loss: 1020.6875\n",
      "Epoch 227/500\n",
      "17/17 [==============================] - 0s 11ms/step - loss: 78.2123 - val_loss: 1021.4060\n",
      "Epoch 228/500\n",
      "17/17 [==============================] - 0s 5ms/step - loss: 75.6678 - val_loss: 1022.1520\n",
      "Epoch 229/500\n",
      "17/17 [==============================] - 0s 5ms/step - loss: 73.1961 - val_loss: 1022.9245\n",
      "Epoch 230/500\n",
      "17/17 [==============================] - 0s 6ms/step - loss: 70.7958 - val_loss: 1023.7222\n",
      "Epoch 231/500\n",
      "17/17 [==============================] - 0s 5ms/step - loss: 68.4654 - val_loss: 1024.5441\n",
      "Epoch 232/500\n",
      "17/17 [==============================] - 0s 5ms/step - loss: 66.2037 - val_loss: 1025.3890\n",
      "Epoch 233/500\n",
      "17/17 [==============================] - 0s 5ms/step - loss: 64.0090 - val_loss: 1026.2560\n",
      "Epoch 234/500\n",
      "17/17 [==============================] - 0s 5ms/step - loss: 61.8799 - val_loss: 1027.1439\n",
      "Epoch 235/500\n",
      "17/17 [==============================] - 0s 5ms/step - loss: 59.8152 - val_loss: 1028.0514\n",
      "Epoch 236/500\n",
      "17/17 [==============================] - 0s 5ms/step - loss: 57.8134 - val_loss: 1028.9779\n",
      "Epoch 237/500\n",
      "17/17 [==============================] - 0s 6ms/step - loss: 55.8733 - val_loss: 1029.9220\n",
      "Epoch 238/500\n",
      "17/17 [==============================] - 0s 6ms/step - loss: 53.9933 - val_loss: 1030.8829\n",
      "Epoch 239/500\n",
      "17/17 [==============================] - 0s 6ms/step - loss: 52.1722 - val_loss: 1031.8596\n",
      "Epoch 240/500\n",
      "17/17 [==============================] - 0s 5ms/step - loss: 50.4087 - val_loss: 1032.8510\n",
      "Epoch 241/500\n",
      "17/17 [==============================] - 0s 5ms/step - loss: 48.7012 - val_loss: 1033.8561\n",
      "Epoch 242/500\n",
      "17/17 [==============================] - 0s 5ms/step - loss: 47.0488 - val_loss: 1034.8740\n",
      "Epoch 243/500\n",
      "17/17 [==============================] - 0s 6ms/step - loss: 45.4500 - val_loss: 1035.9037\n",
      "Epoch 244/500\n",
      "17/17 [==============================] - 0s 5ms/step - loss: 43.9036 - val_loss: 1036.9443\n",
      "Epoch 245/500\n",
      "17/17 [==============================] - 0s 5ms/step - loss: 42.4083 - val_loss: 1037.9950\n",
      "Epoch 246/500\n",
      "17/17 [==============================] - 0s 5ms/step - loss: 40.9627 - val_loss: 1039.0549\n",
      "Epoch 247/500\n",
      "17/17 [==============================] - 0s 5ms/step - loss: 39.5659 - val_loss: 1040.1228\n",
      "Epoch 248/500\n",
      "17/17 [==============================] - 0s 5ms/step - loss: 38.2166 - val_loss: 1041.1981\n",
      "Epoch 249/500\n",
      "17/17 [==============================] - 0s 5ms/step - loss: 36.9135 - val_loss: 1042.2800\n",
      "Epoch 250/500\n",
      "17/17 [==============================] - 0s 5ms/step - loss: 35.6553 - val_loss: 1043.3677\n",
      "Epoch 251/500\n",
      "17/17 [==============================] - 0s 4ms/step - loss: 34.4411 - val_loss: 1044.4598\n",
      "Epoch 252/500\n",
      "17/17 [==============================] - 0s 10ms/step - loss: 33.2698 - val_loss: 1045.5562\n",
      "Epoch 253/500\n",
      "17/17 [==============================] - 0s 5ms/step - loss: 32.1402 - val_loss: 1046.6558\n",
      "Epoch 254/500\n",
      "17/17 [==============================] - 0s 5ms/step - loss: 31.0509 - val_loss: 1047.7581\n",
      "Epoch 255/500\n",
      "17/17 [==============================] - 0s 5ms/step - loss: 30.0011 - val_loss: 1048.8618\n",
      "Epoch 256/500\n",
      "17/17 [==============================] - 0s 5ms/step - loss: 28.9896 - val_loss: 1049.9664\n",
      "Epoch 257/500\n",
      "17/17 [==============================] - 0s 6ms/step - loss: 28.0155 - val_loss: 1051.0718\n",
      "Epoch 258/500\n",
      "17/17 [==============================] - 0s 5ms/step - loss: 27.0777 - val_loss: 1052.1763\n",
      "Epoch 259/500\n",
      "17/17 [==============================] - 0s 5ms/step - loss: 26.1749 - val_loss: 1053.2798\n",
      "Epoch 260/500\n",
      "17/17 [==============================] - 0s 5ms/step - loss: 25.3064 - val_loss: 1054.3821\n",
      "Epoch 261/500\n",
      "17/17 [==============================] - 0s 5ms/step - loss: 24.4710 - val_loss: 1055.4813\n",
      "Epoch 262/500\n",
      "17/17 [==============================] - 0s 6ms/step - loss: 23.6680 - val_loss: 1056.5776\n",
      "Epoch 263/500\n",
      "17/17 [==============================] - 0s 5ms/step - loss: 22.8962 - val_loss: 1057.6707\n",
      "Epoch 264/500\n",
      "17/17 [==============================] - 0s 5ms/step - loss: 22.1547 - val_loss: 1058.7592\n",
      "Epoch 265/500\n",
      "17/17 [==============================] - 0s 7ms/step - loss: 21.4426 - val_loss: 1059.8428\n",
      "Epoch 266/500\n",
      "17/17 [==============================] - 0s 6ms/step - loss: 20.7591 - val_loss: 1060.9215\n",
      "Epoch 267/500\n",
      "17/17 [==============================] - 0s 6ms/step - loss: 20.1030 - val_loss: 1061.9940\n",
      "Epoch 268/500\n",
      "17/17 [==============================] - 0s 7ms/step - loss: 19.4737 - val_loss: 1063.0601\n",
      "Epoch 269/500\n",
      "17/17 [==============================] - 0s 6ms/step - loss: 18.8702 - val_loss: 1064.1196\n",
      "Epoch 270/500\n",
      "17/17 [==============================] - 0s 6ms/step - loss: 18.2917 - val_loss: 1065.1715\n",
      "Epoch 271/500\n",
      "17/17 [==============================] - 0s 5ms/step - loss: 17.7375 - val_loss: 1066.2156\n",
      "Epoch 272/500\n",
      "17/17 [==============================] - 0s 6ms/step - loss: 17.2067 - val_loss: 1067.2511\n",
      "Epoch 273/500\n",
      "17/17 [==============================] - 0s 6ms/step - loss: 16.6987 - val_loss: 1068.2781\n",
      "Epoch 274/500\n",
      "17/17 [==============================] - 0s 6ms/step - loss: 16.2124 - val_loss: 1069.2961\n",
      "Epoch 275/500\n",
      "17/17 [==============================] - 0s 6ms/step - loss: 15.7472 - val_loss: 1070.3043\n",
      "Epoch 276/500\n",
      "17/17 [==============================] - 0s 6ms/step - loss: 15.3025 - val_loss: 1071.3022\n",
      "Epoch 277/500\n",
      "17/17 [==============================] - 0s 6ms/step - loss: 14.8774 - val_loss: 1072.2904\n",
      "Epoch 278/500\n",
      "17/17 [==============================] - 0s 6ms/step - loss: 14.4712 - val_loss: 1073.2678\n",
      "Epoch 279/500\n",
      "17/17 [==============================] - 0s 6ms/step - loss: 14.0834 - val_loss: 1074.2344\n",
      "Epoch 280/500\n",
      "17/17 [==============================] - 0s 6ms/step - loss: 13.7131 - val_loss: 1075.1896\n",
      "Epoch 281/500\n",
      "17/17 [==============================] - 0s 14ms/step - loss: 13.3597 - val_loss: 1076.1332\n",
      "Epoch 282/500\n",
      "17/17 [==============================] - 0s 12ms/step - loss: 13.0227 - val_loss: 1077.0652\n",
      "Epoch 283/500\n",
      "17/17 [==============================] - 0s 9ms/step - loss: 12.7014 - val_loss: 1077.9847\n",
      "Epoch 284/500\n",
      "17/17 [==============================] - 0s 8ms/step - loss: 12.3953 - val_loss: 1078.8926\n",
      "Epoch 285/500\n",
      "17/17 [==============================] - 0s 8ms/step - loss: 12.1036 - val_loss: 1079.7875\n",
      "Epoch 286/500\n",
      "17/17 [==============================] - 0s 7ms/step - loss: 11.8260 - val_loss: 1080.6697\n",
      "Epoch 287/500\n",
      "17/17 [==============================] - 0s 5ms/step - loss: 11.5616 - val_loss: 1081.5393\n",
      "Epoch 288/500\n",
      "17/17 [==============================] - 0s 6ms/step - loss: 11.3102 - val_loss: 1082.3956\n",
      "Epoch 289/500\n",
      "17/17 [==============================] - 0s 6ms/step - loss: 11.0711 - val_loss: 1083.2386\n",
      "Epoch 290/500\n",
      "17/17 [==============================] - 0s 7ms/step - loss: 10.8439 - val_loss: 1084.0685\n",
      "Epoch 291/500\n",
      "17/17 [==============================] - 0s 7ms/step - loss: 10.6280 - val_loss: 1084.8846\n",
      "Epoch 292/500\n",
      "17/17 [==============================] - 0s 7ms/step - loss: 10.4231 - val_loss: 1085.6871\n",
      "Epoch 293/500\n",
      "17/17 [==============================] - 0s 7ms/step - loss: 10.2285 - val_loss: 1086.4757\n",
      "Epoch 294/500\n",
      "17/17 [==============================] - 0s 7ms/step - loss: 10.0440 - val_loss: 1087.2507\n",
      "Epoch 295/500\n",
      "17/17 [==============================] - 0s 7ms/step - loss: 9.8689 - val_loss: 1088.0118\n",
      "Epoch 296/500\n",
      "17/17 [==============================] - 0s 7ms/step - loss: 9.7030 - val_loss: 1088.7587\n",
      "Epoch 297/500\n",
      "17/17 [==============================] - 0s 6ms/step - loss: 9.5459 - val_loss: 1089.4918\n",
      "Epoch 298/500\n",
      "17/17 [==============================] - 0s 5ms/step - loss: 9.3971 - val_loss: 1090.2109\n",
      "Epoch 299/500\n",
      "17/17 [==============================] - 0s 6ms/step - loss: 9.2562 - val_loss: 1090.9163\n",
      "Epoch 300/500\n",
      "17/17 [==============================] - 0s 7ms/step - loss: 9.1229 - val_loss: 1091.6071\n",
      "Epoch 301/500\n",
      "17/17 [==============================] - 0s 6ms/step - loss: 8.9969 - val_loss: 1092.2837\n",
      "Epoch 302/500\n",
      "17/17 [==============================] - 0s 7ms/step - loss: 8.8778 - val_loss: 1092.9467\n",
      "Epoch 303/500\n",
      "17/17 [==============================] - 0s 6ms/step - loss: 8.7653 - val_loss: 1093.5953\n",
      "Epoch 304/500\n",
      "17/17 [==============================] - 0s 6ms/step - loss: 8.6591 - val_loss: 1094.2301\n",
      "Epoch 305/500\n",
      "17/17 [==============================] - 0s 8ms/step - loss: 8.5588 - val_loss: 1094.8507\n",
      "Epoch 306/500\n",
      "17/17 [==============================] - 0s 10ms/step - loss: 8.4642 - val_loss: 1095.4579\n",
      "Epoch 307/500\n",
      "17/17 [==============================] - 0s 9ms/step - loss: 8.3750 - val_loss: 1096.0510\n",
      "Epoch 308/500\n",
      "17/17 [==============================] - 0s 7ms/step - loss: 8.2909 - val_loss: 1096.6310\n",
      "Epoch 309/500\n",
      "17/17 [==============================] - 0s 6ms/step - loss: 8.2117 - val_loss: 1097.1969\n",
      "Epoch 310/500\n",
      "17/17 [==============================] - 0s 6ms/step - loss: 8.1371 - val_loss: 1097.7494\n",
      "Epoch 311/500\n",
      "17/17 [==============================] - 0s 6ms/step - loss: 8.0669 - val_loss: 1098.2882\n",
      "Epoch 312/500\n",
      "17/17 [==============================] - 0s 6ms/step - loss: 8.0009 - val_loss: 1098.8138\n",
      "Epoch 313/500\n",
      "17/17 [==============================] - 0s 6ms/step - loss: 7.9388 - val_loss: 1099.3263\n",
      "Epoch 314/500\n",
      "17/17 [==============================] - 0s 5ms/step - loss: 7.8805 - val_loss: 1099.8257\n",
      "Epoch 315/500\n",
      "17/17 [==============================] - 0s 6ms/step - loss: 7.8257 - val_loss: 1100.3123\n",
      "Epoch 316/500\n",
      "17/17 [==============================] - 0s 6ms/step - loss: 7.7742 - val_loss: 1100.7858\n",
      "Epoch 317/500\n",
      "17/17 [==============================] - 0s 7ms/step - loss: 7.7260 - val_loss: 1101.2468\n",
      "Epoch 318/500\n",
      "17/17 [==============================] - 0s 6ms/step - loss: 7.6807 - val_loss: 1101.6956\n",
      "Epoch 319/500\n",
      "17/17 [==============================] - 0s 6ms/step - loss: 7.6382 - val_loss: 1102.1317\n",
      "Epoch 320/500\n",
      "17/17 [==============================] - 0s 7ms/step - loss: 7.5984 - val_loss: 1102.5559\n",
      "Epoch 321/500\n",
      "17/17 [==============================] - 0s 6ms/step - loss: 7.5611 - val_loss: 1102.9678\n",
      "Epoch 322/500\n",
      "17/17 [==============================] - 0s 6ms/step - loss: 7.5262 - val_loss: 1103.3683\n",
      "Epoch 323/500\n",
      "17/17 [==============================] - 0s 6ms/step - loss: 7.4935 - val_loss: 1103.7567\n",
      "Epoch 324/500\n",
      "17/17 [==============================] - 0s 7ms/step - loss: 7.4630 - val_loss: 1104.1338\n",
      "Epoch 325/500\n",
      "17/17 [==============================] - 0s 8ms/step - loss: 7.4344 - val_loss: 1104.4998\n",
      "Epoch 326/500\n",
      "17/17 [==============================] - 0s 8ms/step - loss: 7.4077 - val_loss: 1104.8545\n",
      "Epoch 327/500\n",
      "17/17 [==============================] - 0s 8ms/step - loss: 7.3828 - val_loss: 1105.1987\n",
      "Epoch 328/500\n",
      "17/17 [==============================] - 0s 12ms/step - loss: 7.3594 - val_loss: 1105.5320\n",
      "Epoch 329/500\n",
      "17/17 [==============================] - 0s 12ms/step - loss: 7.3377 - val_loss: 1105.8550\n",
      "Epoch 330/500\n",
      "17/17 [==============================] - 0s 7ms/step - loss: 7.3174 - val_loss: 1106.1671\n",
      "Epoch 331/500\n",
      "17/17 [==============================] - 0s 8ms/step - loss: 7.2985 - val_loss: 1106.4697\n",
      "Epoch 332/500\n",
      "17/17 [==============================] - 0s 6ms/step - loss: 7.2808 - val_loss: 1106.7622\n",
      "Epoch 333/500\n",
      "17/17 [==============================] - 0s 6ms/step - loss: 7.2643 - val_loss: 1107.0448\n",
      "Epoch 334/500\n",
      "17/17 [==============================] - 0s 6ms/step - loss: 7.2490 - val_loss: 1107.3182\n",
      "Epoch 335/500\n",
      "17/17 [==============================] - 0s 6ms/step - loss: 7.2348 - val_loss: 1107.5822\n",
      "Epoch 336/500\n",
      "17/17 [==============================] - 0s 5ms/step - loss: 7.2215 - val_loss: 1107.8373\n",
      "Epoch 337/500\n",
      "17/17 [==============================] - 0s 5ms/step - loss: 7.2091 - val_loss: 1108.0830\n",
      "Epoch 338/500\n",
      "17/17 [==============================] - 0s 6ms/step - loss: 7.1976 - val_loss: 1108.3208\n",
      "Epoch 339/500\n",
      "17/17 [==============================] - 0s 6ms/step - loss: 7.1869 - val_loss: 1108.5498\n",
      "Epoch 340/500\n",
      "17/17 [==============================] - 0s 6ms/step - loss: 7.1770 - val_loss: 1108.7703\n",
      "Epoch 341/500\n",
      "17/17 [==============================] - 0s 6ms/step - loss: 7.1678 - val_loss: 1108.9834\n",
      "Epoch 342/500\n",
      "17/17 [==============================] - 0s 6ms/step - loss: 7.1592 - val_loss: 1109.1884\n",
      "Epoch 343/500\n",
      "17/17 [==============================] - 0s 7ms/step - loss: 7.1512 - val_loss: 1109.3856\n",
      "Epoch 344/500\n",
      "17/17 [==============================] - 0s 8ms/step - loss: 7.1438 - val_loss: 1109.5757\n",
      "Epoch 345/500\n",
      "17/17 [==============================] - 0s 9ms/step - loss: 7.1370 - val_loss: 1109.7581\n",
      "Epoch 346/500\n",
      "17/17 [==============================] - 0s 8ms/step - loss: 7.1306 - val_loss: 1109.9337\n",
      "Epoch 347/500\n",
      "17/17 [==============================] - 0s 8ms/step - loss: 7.1247 - val_loss: 1110.1023\n",
      "Epoch 348/500\n",
      "17/17 [==============================] - 0s 7ms/step - loss: 7.1192 - val_loss: 1110.2644\n",
      "Epoch 349/500\n",
      "17/17 [==============================] - 0s 7ms/step - loss: 7.1141 - val_loss: 1110.4202\n",
      "Epoch 350/500\n",
      "17/17 [==============================] - 0s 12ms/step - loss: 7.1094 - val_loss: 1110.5695\n",
      "Epoch 351/500\n",
      "17/17 [==============================] - 0s 9ms/step - loss: 7.1051 - val_loss: 1110.7128\n",
      "Epoch 352/500\n",
      "17/17 [==============================] - 0s 7ms/step - loss: 7.1010 - val_loss: 1110.8502\n",
      "Epoch 353/500\n",
      "17/17 [==============================] - 0s 7ms/step - loss: 7.0973 - val_loss: 1110.9818\n",
      "Epoch 354/500\n",
      "17/17 [==============================] - 0s 6ms/step - loss: 7.0938 - val_loss: 1111.1074\n",
      "Epoch 355/500\n",
      "17/17 [==============================] - 0s 6ms/step - loss: 7.0907 - val_loss: 1111.2281\n",
      "Epoch 356/500\n",
      "17/17 [==============================] - 0s 5ms/step - loss: 7.0877 - val_loss: 1111.3433\n",
      "Epoch 357/500\n",
      "17/17 [==============================] - 0s 5ms/step - loss: 7.0850 - val_loss: 1111.4540\n",
      "Epoch 358/500\n",
      "17/17 [==============================] - 0s 5ms/step - loss: 7.0825 - val_loss: 1111.5597\n",
      "Epoch 359/500\n",
      "17/17 [==============================] - 0s 6ms/step - loss: 7.0801 - val_loss: 1111.6606\n",
      "Epoch 360/500\n",
      "17/17 [==============================] - 0s 5ms/step - loss: 7.0779 - val_loss: 1111.7567\n",
      "Epoch 361/500\n",
      "17/17 [==============================] - 0s 5ms/step - loss: 7.0760 - val_loss: 1111.8488\n",
      "Epoch 362/500\n",
      "17/17 [==============================] - 0s 5ms/step - loss: 7.0741 - val_loss: 1111.9370\n",
      "Epoch 363/500\n",
      "17/17 [==============================] - 0s 5ms/step - loss: 7.0724 - val_loss: 1112.0206\n",
      "Epoch 364/500\n",
      "17/17 [==============================] - 0s 5ms/step - loss: 7.0709 - val_loss: 1112.1003\n",
      "Epoch 365/500\n",
      "17/17 [==============================] - 0s 5ms/step - loss: 7.0694 - val_loss: 1112.1764\n",
      "Epoch 366/500\n",
      "17/17 [==============================] - 0s 6ms/step - loss: 7.0681 - val_loss: 1112.2490\n",
      "Epoch 367/500\n",
      "17/17 [==============================] - 0s 5ms/step - loss: 7.0669 - val_loss: 1112.3180\n",
      "Epoch 368/500\n",
      "17/17 [==============================] - 0s 6ms/step - loss: 7.0657 - val_loss: 1112.3833\n",
      "Epoch 369/500\n",
      "17/17 [==============================] - 0s 5ms/step - loss: 7.0647 - val_loss: 1112.4460\n",
      "Epoch 370/500\n",
      "17/17 [==============================] - 0s 6ms/step - loss: 7.0638 - val_loss: 1112.5049\n",
      "Epoch 371/500\n",
      "17/17 [==============================] - 0s 5ms/step - loss: 7.0629 - val_loss: 1112.5609\n",
      "Epoch 372/500\n",
      "17/17 [==============================] - 0s 6ms/step - loss: 7.0621 - val_loss: 1112.6145\n",
      "Epoch 373/500\n",
      "17/17 [==============================] - 0s 5ms/step - loss: 7.0614 - val_loss: 1112.6650\n",
      "Epoch 374/500\n",
      "17/17 [==============================] - 0s 5ms/step - loss: 7.0608 - val_loss: 1112.7133\n",
      "Epoch 375/500\n",
      "17/17 [==============================] - 0s 5ms/step - loss: 7.0602 - val_loss: 1112.7587\n",
      "Epoch 376/500\n",
      "17/17 [==============================] - 0s 5ms/step - loss: 7.0596 - val_loss: 1112.8018\n",
      "Epoch 377/500\n",
      "17/17 [==============================] - 0s 7ms/step - loss: 7.0591 - val_loss: 1112.8428\n",
      "Epoch 378/500\n",
      "17/17 [==============================] - 0s 7ms/step - loss: 7.0586 - val_loss: 1112.8817\n",
      "Epoch 379/500\n",
      "17/17 [==============================] - 0s 7ms/step - loss: 7.0582 - val_loss: 1112.9181\n",
      "Epoch 380/500\n",
      "17/17 [==============================] - 0s 6ms/step - loss: 7.0579 - val_loss: 1112.9526\n",
      "Epoch 381/500\n",
      "17/17 [==============================] - 0s 7ms/step - loss: 7.0576 - val_loss: 1112.9851\n",
      "Epoch 382/500\n",
      "17/17 [==============================] - 0s 7ms/step - loss: 7.0573 - val_loss: 1113.0161\n",
      "Epoch 383/500\n",
      "17/17 [==============================] - 0s 8ms/step - loss: 7.0571 - val_loss: 1113.0454\n",
      "Epoch 384/500\n",
      "17/17 [==============================] - 0s 7ms/step - loss: 7.0568 - val_loss: 1113.0729\n",
      "Epoch 385/500\n",
      "17/17 [==============================] - 0s 8ms/step - loss: 7.0566 - val_loss: 1113.0981\n",
      "Epoch 386/500\n",
      "17/17 [==============================] - 0s 6ms/step - loss: 7.0564 - val_loss: 1113.1228\n",
      "Epoch 387/500\n",
      "17/17 [==============================] - 0s 8ms/step - loss: 7.0563 - val_loss: 1113.1456\n",
      "Epoch 388/500\n",
      "17/17 [==============================] - 0s 7ms/step - loss: 7.0562 - val_loss: 1113.1670\n",
      "Epoch 389/500\n",
      "17/17 [==============================] - 0s 8ms/step - loss: 7.0561 - val_loss: 1113.1873\n",
      "Epoch 390/500\n",
      "17/17 [==============================] - 0s 8ms/step - loss: 7.0560 - val_loss: 1113.2063\n",
      "Epoch 391/500\n",
      "17/17 [==============================] - 0s 7ms/step - loss: 7.0560 - val_loss: 1113.2240\n",
      "Epoch 392/500\n",
      "17/17 [==============================] - 0s 8ms/step - loss: 7.0560 - val_loss: 1113.2407\n",
      "Epoch 393/500\n",
      "17/17 [==============================] - 0s 11ms/step - loss: 7.0559 - val_loss: 1113.2566\n",
      "Epoch 394/500\n",
      "17/17 [==============================] - 0s 7ms/step - loss: 7.0559 - val_loss: 1113.2709\n",
      "Epoch 395/500\n",
      "17/17 [==============================] - 0s 7ms/step - loss: 7.0559 - val_loss: 1113.2845\n",
      "Epoch 396/500\n",
      "17/17 [==============================] - 0s 7ms/step - loss: 7.0560 - val_loss: 1113.2976\n",
      "Epoch 397/500\n",
      "17/17 [==============================] - 0s 7ms/step - loss: 7.0560 - val_loss: 1113.3091\n",
      "Epoch 398/500\n",
      "17/17 [==============================] - 0s 6ms/step - loss: 7.0561 - val_loss: 1113.3201\n",
      "Epoch 399/500\n",
      "17/17 [==============================] - 0s 11ms/step - loss: 7.0562 - val_loss: 1113.3304\n",
      "Epoch 400/500\n",
      "17/17 [==============================] - 0s 5ms/step - loss: 7.0563 - val_loss: 1113.3402\n",
      "Epoch 401/500\n",
      "17/17 [==============================] - 0s 9ms/step - loss: 7.0563 - val_loss: 1113.3488\n",
      "Epoch 402/500\n",
      "17/17 [==============================] - 0s 8ms/step - loss: 7.0564 - val_loss: 1113.3568\n",
      "Epoch 403/500\n",
      "17/17 [==============================] - 0s 7ms/step - loss: 7.0566 - val_loss: 1113.3646\n",
      "Epoch 404/500\n",
      "17/17 [==============================] - 0s 6ms/step - loss: 7.0567 - val_loss: 1113.3715\n",
      "Epoch 405/500\n",
      "17/17 [==============================] - 0s 5ms/step - loss: 7.0568 - val_loss: 1113.3781\n",
      "Epoch 406/500\n",
      "17/17 [==============================] - 0s 5ms/step - loss: 7.0569 - val_loss: 1113.3842\n",
      "Epoch 407/500\n",
      "17/17 [==============================] - 0s 6ms/step - loss: 7.0571 - val_loss: 1113.3894\n",
      "Epoch 408/500\n",
      "17/17 [==============================] - 0s 8ms/step - loss: 7.0572 - val_loss: 1113.3944\n",
      "Epoch 409/500\n",
      "17/17 [==============================] - 0s 6ms/step - loss: 7.0574 - val_loss: 1113.3990\n",
      "Epoch 410/500\n",
      "17/17 [==============================] - 0s 5ms/step - loss: 7.0576 - val_loss: 1113.4033\n",
      "Epoch 411/500\n",
      "17/17 [==============================] - 0s 5ms/step - loss: 7.0578 - val_loss: 1113.4072\n",
      "Epoch 412/500\n",
      "17/17 [==============================] - 0s 5ms/step - loss: 7.0579 - val_loss: 1113.4105\n",
      "Epoch 413/500\n",
      "17/17 [==============================] - 0s 6ms/step - loss: 7.0581 - val_loss: 1113.4137\n",
      "Epoch 414/500\n",
      "17/17 [==============================] - 0s 6ms/step - loss: 7.0583 - val_loss: 1113.4165\n",
      "Epoch 415/500\n",
      "17/17 [==============================] - 0s 5ms/step - loss: 7.0585 - val_loss: 1113.4192\n",
      "Epoch 416/500\n",
      "17/17 [==============================] - 0s 5ms/step - loss: 7.0587 - val_loss: 1113.4215\n",
      "Epoch 417/500\n",
      "17/17 [==============================] - 0s 5ms/step - loss: 7.0589 - val_loss: 1113.4240\n",
      "Epoch 418/500\n",
      "17/17 [==============================] - 0s 5ms/step - loss: 7.0591 - val_loss: 1113.4257\n",
      "Epoch 419/500\n",
      "17/17 [==============================] - 0s 6ms/step - loss: 7.0593 - val_loss: 1113.4275\n",
      "Epoch 420/500\n",
      "17/17 [==============================] - 0s 6ms/step - loss: 7.0595 - val_loss: 1113.4288\n",
      "Epoch 421/500\n",
      "17/17 [==============================] - 0s 7ms/step - loss: 7.0598 - val_loss: 1113.4299\n",
      "Epoch 422/500\n",
      "17/17 [==============================] - 0s 7ms/step - loss: 7.0600 - val_loss: 1113.4309\n",
      "Epoch 423/500\n",
      "17/17 [==============================] - 0s 6ms/step - loss: 7.0602 - val_loss: 1113.4316\n",
      "Epoch 424/500\n",
      "17/17 [==============================] - 0s 17ms/step - loss: 7.0604 - val_loss: 1113.4326\n",
      "Epoch 425/500\n",
      "17/17 [==============================] - 0s 9ms/step - loss: 7.0607 - val_loss: 1113.4333\n",
      "Epoch 426/500\n",
      "17/17 [==============================] - 0s 8ms/step - loss: 7.0609 - val_loss: 1113.4340\n",
      "Epoch 427/500\n",
      "17/17 [==============================] - 0s 8ms/step - loss: 7.0611 - val_loss: 1113.4340\n",
      "Epoch 428/500\n",
      "17/17 [==============================] - 0s 7ms/step - loss: 7.0613 - val_loss: 1113.4342\n",
      "Epoch 429/500\n",
      "17/17 [==============================] - 0s 8ms/step - loss: 7.0616 - val_loss: 1113.4342\n",
      "Epoch 430/500\n",
      "17/17 [==============================] - 0s 8ms/step - loss: 7.0618 - val_loss: 1113.4342\n",
      "Epoch 431/500\n",
      "17/17 [==============================] - 0s 8ms/step - loss: 7.0621 - val_loss: 1113.4346\n",
      "Epoch 432/500\n",
      "17/17 [==============================] - 0s 8ms/step - loss: 7.0623 - val_loss: 1113.4343\n",
      "Epoch 433/500\n",
      "17/17 [==============================] - 0s 7ms/step - loss: 7.0625 - val_loss: 1113.4340\n",
      "Epoch 434/500\n",
      "17/17 [==============================] - 0s 7ms/step - loss: 7.0628 - val_loss: 1113.4338\n",
      "Epoch 435/500\n",
      "17/17 [==============================] - 0s 7ms/step - loss: 7.0630 - val_loss: 1113.4335\n",
      "Epoch 436/500\n",
      "17/17 [==============================] - 0s 8ms/step - loss: 7.0633 - val_loss: 1113.4332\n",
      "Epoch 437/500\n",
      "17/17 [==============================] - 0s 7ms/step - loss: 7.0635 - val_loss: 1113.4329\n",
      "Epoch 438/500\n",
      "17/17 [==============================] - 0s 6ms/step - loss: 7.0638 - val_loss: 1113.4320\n",
      "Epoch 439/500\n",
      "17/17 [==============================] - 0s 7ms/step - loss: 7.0641 - val_loss: 1113.4316\n",
      "Epoch 440/500\n",
      "17/17 [==============================] - 0s 7ms/step - loss: 7.0643 - val_loss: 1113.4313\n",
      "Epoch 441/500\n",
      "17/17 [==============================] - 0s 7ms/step - loss: 7.0645 - val_loss: 1113.4307\n",
      "Epoch 442/500\n",
      "17/17 [==============================] - 0s 11ms/step - loss: 7.0648 - val_loss: 1113.4298\n",
      "Epoch 443/500\n",
      "17/17 [==============================] - 0s 14ms/step - loss: 7.0651 - val_loss: 1113.4290\n",
      "Epoch 444/500\n",
      "17/17 [==============================] - 0s 8ms/step - loss: 7.0653 - val_loss: 1113.4282\n",
      "Epoch 445/500\n",
      "17/17 [==============================] - 0s 8ms/step - loss: 7.0656 - val_loss: 1113.4274\n",
      "Epoch 446/500\n",
      "17/17 [==============================] - 0s 7ms/step - loss: 7.0658 - val_loss: 1113.4268\n",
      "Epoch 447/500\n",
      "17/17 [==============================] - 0s 8ms/step - loss: 7.0661 - val_loss: 1113.4258\n",
      "Epoch 448/500\n",
      "17/17 [==============================] - 0s 8ms/step - loss: 7.0664 - val_loss: 1113.4250\n",
      "Epoch 449/500\n",
      "17/17 [==============================] - 0s 7ms/step - loss: 7.0666 - val_loss: 1113.4242\n",
      "Epoch 450/500\n",
      "17/17 [==============================] - 0s 7ms/step - loss: 7.0669 - val_loss: 1113.4232\n",
      "Epoch 451/500\n",
      "17/17 [==============================] - 0s 7ms/step - loss: 7.0671 - val_loss: 1113.4221\n",
      "Epoch 452/500\n",
      "17/17 [==============================] - 0s 7ms/step - loss: 7.0674 - val_loss: 1113.4213\n",
      "Epoch 453/500\n",
      "17/17 [==============================] - 0s 6ms/step - loss: 7.0677 - val_loss: 1113.4204\n",
      "Epoch 454/500\n",
      "17/17 [==============================] - 0s 7ms/step - loss: 7.0679 - val_loss: 1113.4198\n",
      "Epoch 455/500\n",
      "17/17 [==============================] - 0s 6ms/step - loss: 7.0682 - val_loss: 1113.4185\n",
      "Epoch 456/500\n",
      "17/17 [==============================] - 0s 5ms/step - loss: 7.0684 - val_loss: 1113.4177\n",
      "Epoch 457/500\n",
      "17/17 [==============================] - 0s 5ms/step - loss: 7.0687 - val_loss: 1113.4165\n",
      "Epoch 458/500\n",
      "17/17 [==============================] - 0s 5ms/step - loss: 7.0690 - val_loss: 1113.4156\n",
      "Epoch 459/500\n",
      "17/17 [==============================] - 0s 5ms/step - loss: 7.0692 - val_loss: 1113.4147\n",
      "Epoch 460/500\n",
      "17/17 [==============================] - 0s 6ms/step - loss: 7.0695 - val_loss: 1113.4137\n",
      "Epoch 461/500\n",
      "17/17 [==============================] - 0s 6ms/step - loss: 7.0697 - val_loss: 1113.4126\n",
      "Epoch 462/500\n",
      "17/17 [==============================] - 0s 11ms/step - loss: 7.0700 - val_loss: 1113.4114\n",
      "Epoch 463/500\n",
      "17/17 [==============================] - 0s 6ms/step - loss: 7.0703 - val_loss: 1113.4103\n",
      "Epoch 464/500\n",
      "17/17 [==============================] - 0s 7ms/step - loss: 7.0705 - val_loss: 1113.4092\n",
      "Epoch 465/500\n",
      "17/17 [==============================] - 0s 6ms/step - loss: 7.0708 - val_loss: 1113.4081\n",
      "Epoch 466/500\n",
      "17/17 [==============================] - 0s 6ms/step - loss: 7.0711 - val_loss: 1113.4073\n",
      "Epoch 467/500\n",
      "17/17 [==============================] - 0s 6ms/step - loss: 7.0713 - val_loss: 1113.4060\n",
      "Epoch 468/500\n",
      "17/17 [==============================] - 0s 5ms/step - loss: 7.0716 - val_loss: 1113.4052\n",
      "Epoch 469/500\n",
      "17/17 [==============================] - 0s 5ms/step - loss: 7.0718 - val_loss: 1113.4041\n",
      "Epoch 470/500\n",
      "17/17 [==============================] - 0s 6ms/step - loss: 7.0721 - val_loss: 1113.4033\n",
      "Epoch 471/500\n",
      "17/17 [==============================] - 0s 5ms/step - loss: 7.0723 - val_loss: 1113.4023\n",
      "Epoch 472/500\n",
      "17/17 [==============================] - 0s 5ms/step - loss: 7.0726 - val_loss: 1113.4012\n",
      "Epoch 473/500\n",
      "17/17 [==============================] - 0s 6ms/step - loss: 7.0728 - val_loss: 1113.4000\n",
      "Epoch 474/500\n",
      "17/17 [==============================] - 0s 5ms/step - loss: 7.0731 - val_loss: 1113.3990\n",
      "Epoch 475/500\n",
      "17/17 [==============================] - 0s 5ms/step - loss: 7.0734 - val_loss: 1113.3981\n",
      "Epoch 476/500\n",
      "17/17 [==============================] - 0s 5ms/step - loss: 7.0736 - val_loss: 1113.3969\n",
      "Epoch 477/500\n",
      "17/17 [==============================] - 0s 5ms/step - loss: 7.0739 - val_loss: 1113.3959\n",
      "Epoch 478/500\n",
      "17/17 [==============================] - 0s 7ms/step - loss: 7.0741 - val_loss: 1113.3948\n",
      "Epoch 479/500\n",
      "17/17 [==============================] - 0s 7ms/step - loss: 7.0744 - val_loss: 1113.3938\n",
      "Epoch 480/500\n",
      "17/17 [==============================] - 0s 6ms/step - loss: 7.0746 - val_loss: 1113.3927\n",
      "Epoch 481/500\n",
      "17/17 [==============================] - 0s 6ms/step - loss: 7.0749 - val_loss: 1113.3916\n",
      "Epoch 482/500\n",
      "17/17 [==============================] - 0s 6ms/step - loss: 7.0752 - val_loss: 1113.3906\n",
      "Epoch 483/500\n",
      "17/17 [==============================] - 0s 6ms/step - loss: 7.0754 - val_loss: 1113.3898\n",
      "Epoch 484/500\n",
      "17/17 [==============================] - 0s 6ms/step - loss: 7.0757 - val_loss: 1113.3885\n",
      "Epoch 485/500\n",
      "17/17 [==============================] - 0s 11ms/step - loss: 7.0759 - val_loss: 1113.3873\n",
      "Epoch 486/500\n",
      "17/17 [==============================] - 0s 6ms/step - loss: 7.0762 - val_loss: 1113.3865\n",
      "Epoch 487/500\n",
      "17/17 [==============================] - 0s 6ms/step - loss: 7.0764 - val_loss: 1113.3853\n",
      "Epoch 488/500\n",
      "17/17 [==============================] - 0s 6ms/step - loss: 7.0766 - val_loss: 1113.3843\n",
      "Epoch 489/500\n",
      "17/17 [==============================] - 0s 6ms/step - loss: 7.0769 - val_loss: 1113.3835\n",
      "Epoch 490/500\n",
      "17/17 [==============================] - 0s 7ms/step - loss: 7.0772 - val_loss: 1113.3824\n",
      "Epoch 491/500\n",
      "17/17 [==============================] - 0s 7ms/step - loss: 7.0774 - val_loss: 1113.3813\n",
      "Epoch 492/500\n",
      "17/17 [==============================] - 0s 5ms/step - loss: 7.0776 - val_loss: 1113.3801\n",
      "Epoch 493/500\n",
      "17/17 [==============================] - 0s 5ms/step - loss: 7.0779 - val_loss: 1113.3792\n",
      "Epoch 494/500\n",
      "17/17 [==============================] - 0s 5ms/step - loss: 7.0781 - val_loss: 1113.3787\n",
      "Epoch 495/500\n",
      "17/17 [==============================] - 0s 6ms/step - loss: 7.0783 - val_loss: 1113.3773\n",
      "Epoch 496/500\n",
      "17/17 [==============================] - 0s 6ms/step - loss: 7.0786 - val_loss: 1113.3763\n",
      "Epoch 497/500\n",
      "17/17 [==============================] - 0s 6ms/step - loss: 7.0789 - val_loss: 1113.3754\n",
      "Epoch 498/500\n",
      "17/17 [==============================] - 0s 6ms/step - loss: 7.0791 - val_loss: 1113.3748\n",
      "Epoch 499/500\n",
      "17/17 [==============================] - 0s 6ms/step - loss: 7.0793 - val_loss: 1113.3739\n",
      "Epoch 500/500\n",
      "17/17 [==============================] - 0s 6ms/step - loss: 7.0796 - val_loss: 1113.3726\n"
     ]
    }
   ],
   "source": [
    "C0 = tf.Variable(88.0403, name=\"C0\", trainable=True, dtype=tf.float32)\n",
    "K0 = tf.Variable(-0.0012, name=\"K0\", trainable=True, dtype=tf.float32)\n",
    "K1 = tf.Variable(-0.0001, name=\"K1\", trainable=True, dtype=tf.float32)\n",
    "a = tf.Variable(0.0000, name=\"a\", trainable=True, dtype=tf.float32)\n",
    "b = tf.Variable(0.0120, name=\"b\", trainable=True, dtype=tf.float32)\n",
    "c = tf.Variable(2.0334, name=\"c\", trainable=True, dtype=tf.float32)\n",
    "\n",
    "splitr = 0.8\n",
    "\n",
    "\n",
    "def loss_fn(y_true, y_pred):\n",
    "    squared_difference = tf.square(y_true[:, 0] - y_pred[:, 0])\n",
    "    #squared_difference2 = tf.square(y_true[:, 2]-y_pred[:, 2])\n",
    "    #squared_difference1 = tf.square(y_true[:, 1]-y_pred[:, 1])\n",
    "    epsilon = 1\n",
    "    squared_difference3 = tf.square(\n",
    "        y_pred[:, 1] - (\n",
    "            y_pred[:, 0] * (\n",
    "                K0 - K1 * (\n",
    "                    9 * a * tf.math.log((y_pred[:, 0] + epsilon) / C0) / (K0 - K1 * c)**2 +\n",
    "                    4 * b * tf.math.log((y_pred[:, 0] + epsilon) / C0) / (K0 - K1 * c) + c\n",
    "                )\n",
    "            )\n",
    "        )\n",
    "    )\n",
    "    return tf.reduce_mean(squared_difference, axis=-1) + 0.2*tf.reduce_mean(squared_difference3, axis=-1)\n",
    "model = Sequential()\n",
    "model.add(LSTM(100, input_shape=(trainX.shape[1], trainX.shape[2])))\n",
    "model.add(Dense(60))\n",
    "model.compile(loss=loss_fn, optimizer='adam')\n",
    "history = model.fit(trainX[:int(splitr*trainX.shape[0])], trainy[:int(splitr*trainX.shape[0])], epochs=500, batch_size=64, validation_data=(trainX[int(splitr*trainX.shape[0]):trainX.shape[0]], trainy[int(splitr*trainX.shape[0]):trainX.shape[0]]), shuffle=False)"
   ]
  },
  {
   "cell_type": "code",
   "execution_count": 19,
   "metadata": {
    "colab": {
     "base_uri": "https://localhost:8080/"
    },
    "id": "yJL101rPyuoT",
    "outputId": "239ff2b1-c186-423a-d316-939dfdd7c793"
   },
   "outputs": [
    {
     "name": "stdout",
     "output_type": "stream",
     "text": [
      "1/1 [==============================] - 0s 442ms/step\n"
     ]
    }
   ],
   "source": [
    "forecast_without_mc = forecastX\n",
    "yhat_without_mc = model.predict(forecast_without_mc) # Step Ahead Prediction\n",
    "forecast_without_mc = forecast_without_mc.reshape((forecast_without_mc.shape[0], forecast_without_mc.shape[2])) # Historical Input"
   ]
  },
  {
   "cell_type": "code",
   "execution_count": 20,
   "metadata": {
    "colab": {
     "base_uri": "https://localhost:8080/"
    },
    "id": "g9dQELcJ8wbp",
    "outputId": "4dc7671b-b1a8-48d5-8744-a86f98446109"
   },
   "outputs": [
    {
     "data": {
      "text/plain": [
       "(1, 1, 251)"
      ]
     },
     "execution_count": 20,
     "metadata": {},
     "output_type": "execute_result"
    }
   ],
   "source": [
    "forecastX.shape"
   ]
  },
  {
   "cell_type": "code",
   "execution_count": 21,
   "metadata": {
    "colab": {
     "base_uri": "https://localhost:8080/"
    },
    "id": "IS2kyIKG1Kbr",
    "outputId": "f31b3485-8e26-452f-9298-ea8bf7e80ad1"
   },
   "outputs": [
    {
     "data": {
      "text/plain": [
       "(1, 251)"
      ]
     },
     "execution_count": 21,
     "metadata": {},
     "output_type": "execute_result"
    }
   ],
   "source": [
    "forecast_without_mc.shape"
   ]
  },
  {
   "cell_type": "code",
   "execution_count": 22,
   "metadata": {
    "id": "0u6VIzaDyuoT"
   },
   "outputs": [],
   "source": [
    "inv_yhat_without_mc = np.concatenate((forecast_without_mc, yhat_without_mc), axis=1) # Concatenation of predicted values with Historical Data\n",
    "#inv_yhat_without_mc = scaler.inverse_transform(inv_yhat_without_mc) # Transform labels back to original encoding"
   ]
  },
  {
   "cell_type": "code",
   "execution_count": 23,
   "metadata": {
    "colab": {
     "base_uri": "https://localhost:8080/"
    },
    "id": "EUEcw0LX07oU",
    "outputId": "cfc32397-9c37-4b43-d087-584bb31c3dcc"
   },
   "outputs": [
    {
     "data": {
      "text/plain": [
       "(1, 311)"
      ]
     },
     "execution_count": 23,
     "metadata": {},
     "output_type": "execute_result"
    }
   ],
   "source": [
    "inv_yhat_without_mc.shape"
   ]
  },
  {
   "cell_type": "code",
   "execution_count": 24,
   "metadata": {
    "id": "31OWVbSh_305"
   },
   "outputs": [],
   "source": [
    "fforecast = inv_yhat_without_mc[:,-300:]"
   ]
  },
  {
   "cell_type": "code",
   "execution_count": 25,
   "metadata": {},
   "outputs": [
    {
     "data": {
      "text/plain": [
       "(1, 300)"
      ]
     },
     "execution_count": 25,
     "metadata": {},
     "output_type": "execute_result"
    }
   ],
   "source": [
    "fforecast.shape"
   ]
  },
  {
   "cell_type": "code",
   "execution_count": 26,
   "metadata": {
    "id": "BlpGH2FOAiRF"
   },
   "outputs": [],
   "source": [
    "final_forecast = fforecast[:,0:300:3]"
   ]
  },
  {
   "cell_type": "code",
   "execution_count": 27,
   "metadata": {},
   "outputs": [
    {
     "data": {
      "text/plain": [
       "(1, 300)"
      ]
     },
     "execution_count": 27,
     "metadata": {},
     "output_type": "execute_result"
    }
   ],
   "source": [
    "fforecast.shape"
   ]
  },
  {
   "cell_type": "code",
   "execution_count": 28,
   "metadata": {
    "id": "CXkgkj_LBk_t"
   },
   "outputs": [],
   "source": [
    "# code to replace all negative value with 0\n",
    "final_forecast[final_forecast<0] = 0"
   ]
  },
  {
   "cell_type": "code",
   "execution_count": 29,
   "metadata": {},
   "outputs": [
    {
     "data": {
      "text/plain": [
       "array([[7.60084967e+01, 7.59412698e+01, 7.58740430e+01, 7.58068161e+01,\n",
       "        7.57395892e+01, 7.56723623e+01, 7.56051354e+01, 0.00000000e+00,\n",
       "        9.74150002e-01, 3.55119079e-01, 7.64558315e-01, 1.19662857e+00,\n",
       "        0.00000000e+00, 7.69569561e+01, 7.68225023e+01, 7.66880486e+01,\n",
       "        7.65535948e+01, 7.64191410e+01, 7.62923436e+01, 7.62251167e+01,\n",
       "        7.61578898e+01, 7.60906629e+01, 7.60234360e+01, 7.59562092e+01,\n",
       "        7.58889823e+01, 7.58217554e+01, 7.57545285e+01, 7.56873016e+01,\n",
       "        7.56200747e+01, 7.55528478e+01, 7.54831046e+01, 7.54041130e+01,\n",
       "        7.53251214e+01, 7.52461298e+01, 7.51671382e+01, 7.50881466e+01,\n",
       "        7.50091550e+01, 7.49301634e+01, 7.48511718e+01, 7.47721802e+01,\n",
       "        0.00000000e+00, 0.00000000e+00, 4.43340153e-01, 2.13404834e-01,\n",
       "        1.30534396e-01, 4.37472165e-01, 0.00000000e+00, 7.58366947e+01,\n",
       "        7.57694678e+01, 7.57022409e+01, 7.56350140e+01, 7.55677871e+01,\n",
       "        7.55005602e+01, 7.54216667e+01, 7.53426751e+01, 7.52636835e+01,\n",
       "        7.51846919e+01, 7.51057003e+01, 7.50267087e+01, 7.49477171e+01,\n",
       "        7.48687255e+01, 7.47897339e+01, 7.47107423e+01, 7.46317507e+01,\n",
       "        7.45579972e+01, 7.45361485e+01, 7.45142997e+01, 7.44924510e+01,\n",
       "        7.44706022e+01, 7.44487535e+01, 7.44269048e+01, 7.44050560e+01,\n",
       "        7.43832073e+01, 7.92353516e+01, 0.00000000e+00, 3.90890960e-01,\n",
       "        0.00000000e+00, 4.63116820e-01, 0.00000000e+00, 0.00000000e+00,\n",
       "        5.43902092e+01, 0.00000000e+00, 5.85864365e-01, 2.91360497e-01,\n",
       "        0.00000000e+00, 3.53939682e-01, 1.08286309e+00, 0.00000000e+00,\n",
       "        1.07423425e+00, 0.00000000e+00, 0.00000000e+00, 2.92525411e-01,\n",
       "        0.00000000e+00, 6.76755190e-01, 0.00000000e+00, 0.00000000e+00,\n",
       "        0.00000000e+00, 2.52372533e-01, 3.91354486e-02, 0.00000000e+00]])"
      ]
     },
     "execution_count": 29,
     "metadata": {},
     "output_type": "execute_result"
    }
   ],
   "source": [
    "final_forecast"
   ]
  },
  {
   "cell_type": "code",
   "execution_count": 30,
   "metadata": {},
   "outputs": [
    {
     "data": {
      "text/plain": [
       "(1, 100)"
      ]
     },
     "execution_count": 30,
     "metadata": {},
     "output_type": "execute_result"
    }
   ],
   "source": [
    "final_forecast.shape"
   ]
  },
  {
   "cell_type": "code",
   "execution_count": 31,
   "metadata": {},
   "outputs": [
    {
     "data": {
      "text/plain": [
       "(100,)"
      ]
     },
     "execution_count": 31,
     "metadata": {},
     "output_type": "execute_result"
    }
   ],
   "source": [
    "test.shape"
   ]
  },
  {
   "cell_type": "code",
   "execution_count": 32,
   "metadata": {},
   "outputs": [],
   "source": [
    "training_set = np.array(training_set)\n",
    "test = np.array(test)\n",
    "final_forecast = np.array(final_forecast.squeeze(0))"
   ]
  },
  {
   "cell_type": "code",
   "execution_count": 33,
   "metadata": {},
   "outputs": [
    {
     "data": {
      "text/plain": [
       "array([71.48839869, 71.48373016, 71.47906162, 71.47439309, 71.46972456,\n",
       "       71.46505602, 71.46038749, 71.45571895, 71.45105042, 71.44638189,\n",
       "       71.44171335, 71.43704482, 71.43237628, 71.42770775, 71.42303922,\n",
       "       71.41837068, 71.41370215, 71.40903361, 71.40436508, 71.39969655,\n",
       "       71.39502801, 71.39035948, 71.38569094, 71.38102241, 71.37635387,\n",
       "       71.37168534, 71.36701681, 71.36234827, 71.35767974, 71.3530112 ,\n",
       "       71.34834267, 71.34367414, 71.3390056 , 71.33433707, 71.32966853,\n",
       "       71.325     , 71.32033147, 71.31566293, 71.3109944 , 71.30632586,\n",
       "       71.30165733, 71.2969888 , 71.29232026, 71.28765173, 71.28298319,\n",
       "       71.27831466, 71.27364613, 71.26897759, 71.26430906, 71.25964052,\n",
       "       71.25497199, 71.25030345, 71.24563492, 71.24096639, 71.23629785,\n",
       "       71.23162932, 71.22696078, 71.22229225, 71.21762372, 71.21295518,\n",
       "       71.20828665, 71.20361811, 71.19831933, 71.19084967, 71.18338002,\n",
       "       71.17591036, 71.16844071, 71.16097106, 71.1535014 , 71.14603175,\n",
       "       71.13856209, 71.13109244, 71.12362278, 71.11615313, 71.10868347,\n",
       "       71.10121382, 71.09374416, 71.08627451, 71.07880486, 71.0713352 ,\n",
       "       71.06386555, 71.05639589, 71.04892624, 71.04145658, 71.03398693,\n",
       "       71.02651727, 71.01904762, 71.01157796, 71.00410831, 70.99663866,\n",
       "       70.989169  , 70.98169935, 70.97422969, 70.96676004, 70.95929038,\n",
       "       70.95182073, 70.94435107, 70.93688142, 70.92941176, 70.92194211])"
      ]
     },
     "execution_count": 33,
     "metadata": {},
     "output_type": "execute_result"
    }
   ],
   "source": [
    "test"
   ]
  },
  {
   "cell_type": "code",
   "execution_count": 34,
   "metadata": {},
   "outputs": [
    {
     "data": {
      "text/plain": [
       "(100,)"
      ]
     },
     "execution_count": 34,
     "metadata": {},
     "output_type": "execute_result"
    }
   ],
   "source": [
    "test.shape"
   ]
  },
  {
   "cell_type": "code",
   "execution_count": 35,
   "metadata": {},
   "outputs": [
    {
     "data": {
      "text/plain": [
       "(100,)"
      ]
     },
     "execution_count": 35,
     "metadata": {},
     "output_type": "execute_result"
    }
   ],
   "source": [
    "final_forecast.shape"
   ]
  },
  {
   "cell_type": "code",
   "execution_count": 36,
   "metadata": {},
   "outputs": [
    {
     "data": {
      "text/plain": [
       "(100,)"
      ]
     },
     "execution_count": 36,
     "metadata": {},
     "output_type": "execute_result"
    }
   ],
   "source": [
    "test.shape"
   ]
  },
  {
   "cell_type": "code",
   "execution_count": 37,
   "metadata": {},
   "outputs": [
    {
     "name": "stdout",
     "output_type": "stream",
     "text": [
      "43.844759493925004\n",
      "29.652178572512852\n"
     ]
    }
   ],
   "source": [
    "import math\n",
    "MSE = np.square(np.subtract(np.array(test),np.array(final_forecast))).mean()   \n",
    "rsme = math.sqrt(MSE)\n",
    "print(rsme)  \n",
    "MAE = np.abs(np.subtract(np.array(test),np.array(final_forecast))).mean()   \n",
    "mae = MAE\n",
    "print(mae)"
   ]
  }
 ],
 "metadata": {
  "colab": {
   "provenance": []
  },
  "kernelspec": {
   "display_name": "Python 3",
   "language": "python",
   "name": "python3"
  },
  "language_info": {
   "codemirror_mode": {
    "name": "ipython",
    "version": 3
   },
   "file_extension": ".py",
   "mimetype": "text/x-python",
   "name": "python",
   "nbconvert_exporter": "python",
   "pygments_lexer": "ipython3",
   "version": "3.9.13"
  }
 },
 "nbformat": 4,
 "nbformat_minor": 0
}
