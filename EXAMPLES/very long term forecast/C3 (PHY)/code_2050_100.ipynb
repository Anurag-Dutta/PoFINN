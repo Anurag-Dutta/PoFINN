{
 "cells": [
  {
   "cell_type": "markdown",
   "metadata": {
    "id": "pCGKeZ2gyuoQ"
   },
   "source": [
    "_Importing Required Libraries_"
   ]
  },
  {
   "cell_type": "code",
   "execution_count": 1,
   "metadata": {
    "colab": {
     "base_uri": "https://localhost:8080/"
    },
    "id": "A-6LN-zXiLcM",
    "outputId": "4de610a4-f8b8-4f49-c6c0-89de299ccedc"
   },
   "outputs": [
    {
     "name": "stdout",
     "output_type": "stream",
     "text": [
      "Requirement already satisfied: hampel in c:\\users\\anurag dutta\\appdata\\local\\packages\\pythonsoftwarefoundation.python.3.9_qbz5n2kfra8p0\\localcache\\local-packages\\python39\\site-packages (0.0.5)\n",
      "Requirement already satisfied: numpy in c:\\users\\anurag dutta\\appdata\\local\\packages\\pythonsoftwarefoundation.python.3.9_qbz5n2kfra8p0\\localcache\\local-packages\\python39\\site-packages (from hampel) (1.26.4)\n",
      "Requirement already satisfied: pandas in c:\\users\\anurag dutta\\appdata\\local\\packages\\pythonsoftwarefoundation.python.3.9_qbz5n2kfra8p0\\localcache\\local-packages\\python39\\site-packages (from hampel) (1.5.2)\n",
      "Requirement already satisfied: python-dateutil>=2.8.1 in c:\\users\\anurag dutta\\appdata\\local\\packages\\pythonsoftwarefoundation.python.3.9_qbz5n2kfra8p0\\localcache\\local-packages\\python39\\site-packages (from pandas->hampel) (2.8.2)\n",
      "Requirement already satisfied: pytz>=2020.1 in c:\\users\\anurag dutta\\appdata\\local\\packages\\pythonsoftwarefoundation.python.3.9_qbz5n2kfra8p0\\localcache\\local-packages\\python39\\site-packages (from pandas->hampel) (2023.3.post1)\n",
      "Requirement already satisfied: six>=1.5 in c:\\users\\anurag dutta\\appdata\\local\\packages\\pythonsoftwarefoundation.python.3.9_qbz5n2kfra8p0\\localcache\\local-packages\\python39\\site-packages (from python-dateutil>=2.8.1->pandas->hampel) (1.16.0)\n",
      "Note: you may need to restart the kernel to use updated packages.\n"
     ]
    },
    {
     "name": "stderr",
     "output_type": "stream",
     "text": [
      "\n",
      "[notice] A new release of pip is available: 24.2 -> 24.3.1\n",
      "[notice] To update, run: C:\\Users\\Anurag Dutta\\AppData\\Local\\Microsoft\\WindowsApps\\PythonSoftwareFoundation.Python.3.9_qbz5n2kfra8p0\\python.exe -m pip install --upgrade pip\n"
     ]
    }
   ],
   "source": [
    "pip install hampel"
   ]
  },
  {
   "cell_type": "code",
   "execution_count": 2,
   "metadata": {
    "id": "By_d9uXpaFvZ"
   },
   "outputs": [],
   "source": [
    "from keras.models import Sequential\n",
    "from keras.layers import Dense\n",
    "from keras.layers import LSTM\n",
    "from keras.layers import Dropout\n",
    "import keras\n",
    "import tensorflow as tf\n",
    "from hampel import hampel\n",
    "import numpy as np\n",
    "import matplotlib.pyplot as plt\n",
    "import pandas as pd\n",
    "from sklearn.preprocessing import MinMaxScaler\n",
    "from sklearn.metrics import mean_squared_error, mean_absolute_error\n",
    "from math import sqrt\n",
    "from matplotlib import pyplot\n",
    "from numpy import array"
   ]
  },
  {
   "cell_type": "markdown",
   "metadata": {
    "id": "JyOjBMFayuoR"
   },
   "source": [
    "## Pretraining"
   ]
  },
  {
   "cell_type": "markdown",
   "metadata": {
    "id": "-5QqIY_GyuoR"
   },
   "source": [
    "The `capa_intermittency.dat` feeds the model with the dynamics of the Capacitor"
   ]
  },
  {
   "cell_type": "code",
   "execution_count": 3,
   "metadata": {
    "id": "9dV4a8yfyuoR"
   },
   "outputs": [],
   "source": [
    "data = np.genfromtxt('capa_intermittency.dat')\n",
    "training_set = pd.DataFrame(data).reset_index(drop=True)\n",
    "training_set = training_set.iloc[:,0]"
   ]
  },
  {
   "cell_type": "markdown",
   "metadata": {
    "id": "i7easoxByuoR"
   },
   "source": [
    "## Computing the Gradient"
   ]
  },
  {
   "cell_type": "markdown",
   "metadata": {
    "id": "5SnyolJTyuoR"
   },
   "source": [
    "_Calculating the value of_ $\\frac{dx}{dt}$"
   ]
  },
  {
   "cell_type": "code",
   "execution_count": 4,
   "metadata": {
    "colab": {
     "base_uri": "https://localhost:8080/"
    },
    "id": "wmIbVfIvyuoR",
    "outputId": "aa4e3136-c854-465d-d2e9-81cfd546e440"
   },
   "outputs": [
    {
     "name": "stdout",
     "output_type": "stream",
     "text": [
      "1.0\n",
      "1        0.000298\n",
      "2        0.000298\n",
      "3        0.000297\n",
      "4        0.000297\n",
      "5        0.000297\n",
      "           ...   \n",
      "9996     0.000018\n",
      "9997     0.000018\n",
      "9998     0.000018\n",
      "9999     0.000018\n",
      "10000    0.000018\n",
      "Name: 0, Length: 10000, dtype: float64\n"
     ]
    }
   ],
   "source": [
    "t_diff = 1\n",
    "print(training_set.max())\n",
    "gradient_t = (training_set.diff()/t_diff).iloc[1:] # dx/dt\n",
    "print(gradient_t)"
   ]
  },
  {
   "cell_type": "markdown",
   "metadata": {
    "id": "_2eVeeoxyuoS"
   },
   "source": [
    "## Loading Datasets"
   ]
  },
  {
   "cell_type": "code",
   "execution_count": 5,
   "metadata": {
    "id": "0J-NKyIEyuoS"
   },
   "outputs": [
    {
     "data": {
      "text/plain": [
       "0       91.100000\n",
       "1       90.875910\n",
       "2       90.651821\n",
       "3       90.427731\n",
       "4       90.203641\n",
       "          ...    \n",
       "2145    69.225046\n",
       "2146    69.218761\n",
       "2147    69.212475\n",
       "2148    69.206190\n",
       "2149    69.199904\n",
       "Name: C3, Length: 2150, dtype: float64"
      ]
     },
     "execution_count": 5,
     "metadata": {},
     "output_type": "execute_result"
    }
   ],
   "source": [
    "data = pd.read_csv(\"c3_interpolated_2050_100.csv\")\n",
    "training_set = data.iloc[:, 1]\n",
    "training_set"
   ]
  },
  {
   "cell_type": "code",
   "execution_count": 6,
   "metadata": {
    "colab": {
     "base_uri": "https://localhost:8080/"
    },
    "id": "-CbNUhJ74UqF",
    "outputId": "20f562d8-8247-49cc-b9c3-00eca5e13e2d"
   },
   "outputs": [
    {
     "data": {
      "text/plain": [
       "0       91.100000\n",
       "1       90.875910\n",
       "2       90.651821\n",
       "3       90.427731\n",
       "4       90.203641\n",
       "          ...    \n",
       "2045     0.000000\n",
       "2046     0.779637\n",
       "2047     0.489243\n",
       "2048     0.000000\n",
       "2049     1.184742\n",
       "Name: C3, Length: 2050, dtype: float64"
      ]
     },
     "execution_count": 6,
     "metadata": {},
     "output_type": "execute_result"
    }
   ],
   "source": [
    "test = training_set.tail(100)\n",
    "test\n",
    "training_set = training_set.head(2050)\n",
    "training_set"
   ]
  },
  {
   "cell_type": "code",
   "execution_count": 7,
   "metadata": {
    "colab": {
     "base_uri": "https://localhost:8080/"
    },
    "id": "X0TwTcq0yuoS",
    "outputId": "37252ed8-d88e-4044-fa7a-922411990b5b"
   },
   "outputs": [
    {
     "name": "stdout",
     "output_type": "stream",
     "text": [
      "0       0.000298\n",
      "1       0.000298\n",
      "2       0.000297\n",
      "3       0.000297\n",
      "4       0.000297\n",
      "          ...   \n",
      "9995    0.000018\n",
      "9996    0.000018\n",
      "9997    0.000018\n",
      "9998    0.000018\n",
      "9999    0.000018\n",
      "Name: 0, Length: 10000, dtype: float64\n"
     ]
    }
   ],
   "source": [
    "training_set = training_set.reset_index(drop=True)\n",
    "gradient_t = gradient_t.reset_index(drop=True)\n",
    "print(gradient_t)"
   ]
  },
  {
   "cell_type": "code",
   "execution_count": 8,
   "metadata": {
    "id": "O2biznZQyuoS"
   },
   "outputs": [],
   "source": [
    "df = pd.concat((training_set, gradient_t), axis=1)\n",
    "df.columns = ['y_t', 'grad_t']"
   ]
  },
  {
   "cell_type": "code",
   "execution_count": 9,
   "metadata": {
    "colab": {
     "base_uri": "https://localhost:8080/",
     "height": 423
    },
    "id": "sk_a5v3tyuoS",
    "outputId": "17563625-e550-45ae-faab-fafa353e44da"
   },
   "outputs": [
    {
     "data": {
      "text/html": [
       "<div>\n",
       "<style scoped>\n",
       "    .dataframe tbody tr th:only-of-type {\n",
       "        vertical-align: middle;\n",
       "    }\n",
       "\n",
       "    .dataframe tbody tr th {\n",
       "        vertical-align: top;\n",
       "    }\n",
       "\n",
       "    .dataframe thead th {\n",
       "        text-align: right;\n",
       "    }\n",
       "</style>\n",
       "<table border=\"1\" class=\"dataframe\">\n",
       "  <thead>\n",
       "    <tr style=\"text-align: right;\">\n",
       "      <th></th>\n",
       "      <th>y_t</th>\n",
       "      <th>grad_t</th>\n",
       "    </tr>\n",
       "  </thead>\n",
       "  <tbody>\n",
       "    <tr>\n",
       "      <th>0</th>\n",
       "      <td>91.100000</td>\n",
       "      <td>0.000298</td>\n",
       "    </tr>\n",
       "    <tr>\n",
       "      <th>1</th>\n",
       "      <td>90.875910</td>\n",
       "      <td>0.000298</td>\n",
       "    </tr>\n",
       "    <tr>\n",
       "      <th>2</th>\n",
       "      <td>90.651821</td>\n",
       "      <td>0.000297</td>\n",
       "    </tr>\n",
       "    <tr>\n",
       "      <th>3</th>\n",
       "      <td>90.427731</td>\n",
       "      <td>0.000297</td>\n",
       "    </tr>\n",
       "    <tr>\n",
       "      <th>4</th>\n",
       "      <td>90.203641</td>\n",
       "      <td>0.000297</td>\n",
       "    </tr>\n",
       "    <tr>\n",
       "      <th>...</th>\n",
       "      <td>...</td>\n",
       "      <td>...</td>\n",
       "    </tr>\n",
       "    <tr>\n",
       "      <th>9995</th>\n",
       "      <td>NaN</td>\n",
       "      <td>0.000018</td>\n",
       "    </tr>\n",
       "    <tr>\n",
       "      <th>9996</th>\n",
       "      <td>NaN</td>\n",
       "      <td>0.000018</td>\n",
       "    </tr>\n",
       "    <tr>\n",
       "      <th>9997</th>\n",
       "      <td>NaN</td>\n",
       "      <td>0.000018</td>\n",
       "    </tr>\n",
       "    <tr>\n",
       "      <th>9998</th>\n",
       "      <td>NaN</td>\n",
       "      <td>0.000018</td>\n",
       "    </tr>\n",
       "    <tr>\n",
       "      <th>9999</th>\n",
       "      <td>NaN</td>\n",
       "      <td>0.000018</td>\n",
       "    </tr>\n",
       "  </tbody>\n",
       "</table>\n",
       "<p>10000 rows × 2 columns</p>\n",
       "</div>"
      ],
      "text/plain": [
       "            y_t    grad_t\n",
       "0     91.100000  0.000298\n",
       "1     90.875910  0.000298\n",
       "2     90.651821  0.000297\n",
       "3     90.427731  0.000297\n",
       "4     90.203641  0.000297\n",
       "...         ...       ...\n",
       "9995        NaN  0.000018\n",
       "9996        NaN  0.000018\n",
       "9997        NaN  0.000018\n",
       "9998        NaN  0.000018\n",
       "9999        NaN  0.000018\n",
       "\n",
       "[10000 rows x 2 columns]"
      ]
     },
     "execution_count": 9,
     "metadata": {},
     "output_type": "execute_result"
    }
   ],
   "source": [
    "df"
   ]
  },
  {
   "cell_type": "markdown",
   "metadata": {
    "id": "-5esyHu5aFvg"
   },
   "source": [
    "## Plot of the External Forcing from Chaotic Differential Equation"
   ]
  },
  {
   "cell_type": "code",
   "execution_count": 10,
   "metadata": {
    "colab": {
     "base_uri": "https://localhost:8080/",
     "height": 447
    },
    "id": "hGnE43tOh-4p",
    "outputId": "fc396503-b624-4fa5-dfbe-f460207405c6"
   },
   "outputs": [
    {
     "data": {
      "text/plain": [
       "<Axes: >"
      ]
     },
     "execution_count": 10,
     "metadata": {},
     "output_type": "execute_result"
    },
    {
     "data": {
      "image/png": "[encoded data removed]",
      "text/plain": [
       "<Figure size 432x288 with 1 Axes>"
      ]
     },
     "metadata": {
      "needs_background": "light"
     },
     "output_type": "display_data"
    }
   ],
   "source": [
    "df.iloc[:, 0].plot()"
   ]
  },
  {
   "cell_type": "code",
   "execution_count": 11,
   "metadata": {
    "colab": {
     "base_uri": "https://localhost:8080/",
     "height": 447
    },
    "id": "ym4xWUUxaFvg",
    "outputId": "ae6a3495-8ce9-437e-ba81-3ed31deedeae"
   },
   "outputs": [
    {
     "name": "stderr",
     "output_type": "stream",
     "text": [
      "C:\\Users\\Anurag Dutta\\AppData\\Local\\Packages\\PythonSoftwareFoundation.Python.3.9_qbz5n2kfra8p0\\LocalCache\\local-packages\\Python39\\site-packages\\pandas\\core\\arraylike.py:402: RuntimeWarning: divide by zero encountered in log\n",
      "  result = getattr(ufunc, method)(*inputs, **kwargs)\n"
     ]
    },
    {
     "data": {
      "text/plain": [
       "<Axes: >"
      ]
     },
     "execution_count": 11,
     "metadata": {},
     "output_type": "execute_result"
    },
    {
     "data": {
      "image/png": "[encoded data removed]",
      "text/plain": [
       "<Figure size 432x288 with 1 Axes>"
      ]
     },
     "metadata": {
      "needs_background": "light"
     },
     "output_type": "display_data"
    }
   ],
   "source": [
    "import numpy as np\n",
    "c0 = 88.0403  # Value for C0\n",
    "K0 = -0.0012  # Value for K0\n",
    "K1 = -0.0001  # Value for K1\n",
    "a = 0.0000    # Value for a\n",
    "b = 0.0120    # Value for b\n",
    "c = 2.0334    # Value for c\n",
    "\n",
    "L = np.minimum(c0, (df.iloc[:, 1] - (df.iloc[:, 0] * (K0 - K1 * (9 * a * np.log(df.iloc[:, 0] / c0) / (K0 - K1 * c)**2 + 4 * b * np.log(df.iloc[:, 0] / c0) / (K0 - K1 * c) + c)))))\n",
    "L.plot()"
   ]
  },
  {
   "cell_type": "markdown",
   "metadata": {
    "id": "9VyEywnwaFvh"
   },
   "source": [
    "## Preprocessing the data into supervised learning"
   ]
  },
  {
   "cell_type": "code",
   "execution_count": 12,
   "metadata": {
    "id": "6V9dXqzdaFvh"
   },
   "outputs": [],
   "source": [
    "# split a sequence into samples\n",
    "def Supervised(data, n_in=1, n_out=1, dropnan=True):\n",
    "    n_vars = 1 if type(data) is list else data.shape[1]\n",
    "    df = pd.DataFrame(data)\n",
    "    cols, names = list(), list()\n",
    "    # input sequence (t-n_in, ... t-1)\n",
    "    for i in range(n_in, 0, -1):\n",
    "        cols.append(df.shift(i))\n",
    "        names += [('var%d(t-%d)' % (j+1, i)) for j in range(n_vars)]\n",
    "    # forecast sequence (t, t+1, ... t+n_out)\n",
    "    for i in range(0, n_out):\n",
    "      cols.append(df.shift(-i))\n",
    "      if i == 0:\n",
    "        names += [('var%d(t)' % (j+1)) for j in range(n_vars)]\n",
    "      else:\n",
    "        names += [('var%d(t+%d)' % (j+1, i)) for j in range(n_vars)]\n",
    "    # put it all together\n",
    "    agg = pd.concat(cols, axis=1)\n",
    "    agg.columns = names\n",
    "    # drop rows with NaN values\n",
    "    if dropnan:\n",
    "       agg.dropna(inplace=True)\n",
    "    return agg"
   ]
  },
  {
   "cell_type": "code",
   "execution_count": 13,
   "metadata": {
    "colab": {
     "base_uri": "https://localhost:8080/"
    },
    "id": "CrzSrT1HnyfH",
    "outputId": "7e75f928-3e47-499d-eac1-51908015ef78"
   },
   "outputs": [
    {
     "name": "stdout",
     "output_type": "stream",
     "text": [
      "     var1(t-350)  var1(t-349)  var1(t-348)  var1(t-347)  var1(t-346)  \\\n",
      "350    91.100000    90.875910    90.651821    90.427731    90.203641   \n",
      "351    90.875910    90.651821    90.427731    90.203641    89.979552   \n",
      "352    90.651821    90.427731    90.203641    89.979552    89.755462   \n",
      "353    90.427731    90.203641    89.979552    89.755462    89.531373   \n",
      "354    90.203641    89.979552    89.755462    89.531373    89.307283   \n",
      "\n",
      "     var1(t-345)  var1(t-344)  var1(t-343)  var1(t-342)  var1(t-341)  ...  \\\n",
      "350    89.979552    89.755462    89.531373    89.307283    89.094118  ...   \n",
      "351    89.755462    89.531373    89.307283    89.094118    89.015686  ...   \n",
      "352    89.531373    89.307283    89.094118    89.015686    88.937255  ...   \n",
      "353    89.307283    89.094118    89.015686    88.937255    88.858824  ...   \n",
      "354    89.094118    89.015686    88.937255    88.858824    88.780392  ...   \n",
      "\n",
      "     var1(t+95)  var2(t+95)  var1(t+96)  var2(t+96)  var1(t+97)  var2(t+97)  \\\n",
      "350   81.423343    0.000263   81.404669    0.000263   81.385994    0.000263   \n",
      "351   81.404669    0.000263   81.385994    0.000263   81.367320    0.000262   \n",
      "352   81.385994    0.000263   81.367320    0.000262   81.348646    0.000262   \n",
      "353   81.367320    0.000262   81.348646    0.000262   81.329972    0.000262   \n",
      "354   81.348646    0.000262   81.329972    0.000262   81.311298    0.000262   \n",
      "\n",
      "     var1(t+98)  var2(t+98)  var1(t+99)  var2(t+99)  \n",
      "350   81.367320    0.000262   81.348646    0.000262  \n",
      "351   81.348646    0.000262   81.329972    0.000262  \n",
      "352   81.329972    0.000262   81.311298    0.000262  \n",
      "353   81.311298    0.000262   81.292624    0.000262  \n",
      "354   81.292624    0.000262   81.273950    0.000262  \n",
      "\n",
      "[5 rows x 551 columns]\n",
      "Index(['var1(t-350)', 'var1(t-349)', 'var1(t-348)', 'var1(t-347)',\n",
      "       'var1(t-346)', 'var1(t-345)', 'var1(t-344)', 'var1(t-343)',\n",
      "       'var1(t-342)', 'var1(t-341)',\n",
      "       ...\n",
      "       'var1(t+95)', 'var2(t+95)', 'var1(t+96)', 'var2(t+96)', 'var1(t+97)',\n",
      "       'var2(t+97)', 'var1(t+98)', 'var2(t+98)', 'var1(t+99)', 'var2(t+99)'],\n",
      "      dtype='object', length=551)\n"
     ]
    }
   ],
   "source": [
    "data = Supervised(df.values, n_in = 350, n_out = 100)\n",
    "\n",
    "\n",
    "cols_to_drop = []\n",
    "for i in range(2, 351):\n",
    "    cols_to_drop.extend([f'var2(t-{i})'])\n",
    "\n",
    "data.drop(cols_to_drop, axis=1, inplace=True)\n",
    "\n",
    "print(data.head())\n",
    "print(data.columns)"
   ]
  },
  {
   "cell_type": "code",
   "execution_count": 14,
   "metadata": {
    "id": "AfPf60oy6Pe4"
   },
   "outputs": [],
   "source": [
    "train = np.array(data[0:len(data)-1])\n",
    "forecast = np.array(data.tail(1))"
   ]
  },
  {
   "cell_type": "code",
   "execution_count": 15,
   "metadata": {
    "id": "WSAafzI37KiT"
   },
   "outputs": [],
   "source": [
    "trainy = train[:,-300:]\n",
    "trainX = train[:,:-300]"
   ]
  },
  {
   "cell_type": "code",
   "execution_count": 16,
   "metadata": {
    "id": "2SrOqVJA7f50"
   },
   "outputs": [],
   "source": [
    "forecasty = forecast[:,-300:]\n",
    "forecastX = forecast[:,:-300]"
   ]
  },
  {
   "cell_type": "code",
   "execution_count": 17,
   "metadata": {
    "colab": {
     "base_uri": "https://localhost:8080/"
    },
    "id": "Qno_k8Nw7saY",
    "outputId": "c4a88db5-d8c6-489f-cdb2-06b24e293cff"
   },
   "outputs": [
    {
     "name": "stdout",
     "output_type": "stream",
     "text": [
      "(1600, 1, 251) (1600, 300) (1, 1, 251)\n"
     ]
    }
   ],
   "source": [
    "trainX = trainX.reshape((trainX.shape[0], 1, trainX.shape[1]))\n",
    "forecastX = forecastX.reshape((forecastX.shape[0], 1, forecastX.shape[1]))\n",
    "print(trainX.shape, trainy.shape, forecastX.shape)"
   ]
  },
  {
   "cell_type": "code",
   "execution_count": 18,
   "metadata": {
    "colab": {
     "base_uri": "https://localhost:8080/"
    },
    "id": "b1Jp2DvNuNFx",
    "outputId": "d0e5b3c4-64f1-438c-eade-8dfeaac8e285"
   },
   "outputs": [
    {
     "name": "stdout",
     "output_type": "stream",
     "text": [
      "Epoch 1/500\n",
      "20/20 [==============================] - 2s 25ms/step - loss: 5751.4541 - val_loss: 3511.1060\n",
      "Epoch 2/500\n",
      "20/20 [==============================] - 0s 4ms/step - loss: 5474.2773 - val_loss: 3349.2974\n",
      "Epoch 3/500\n",
      "20/20 [==============================] - 0s 3ms/step - loss: 5322.1655 - val_loss: 3259.4502\n",
      "Epoch 4/500\n",
      "20/20 [==============================] - 0s 4ms/step - loss: 5217.1548 - val_loss: 3201.0776\n",
      "Epoch 5/500\n",
      "20/20 [==============================] - 0s 4ms/step - loss: 5124.9468 - val_loss: 3146.1218\n",
      "Epoch 6/500\n",
      "20/20 [==============================] - 0s 4ms/step - loss: 5035.7354 - val_loss: 3093.0591\n",
      "Epoch 7/500\n",
      "20/20 [==============================] - 0s 4ms/step - loss: 4948.8418 - val_loss: 3041.5229\n",
      "Epoch 8/500\n",
      "20/20 [==============================] - 0s 4ms/step - loss: 4863.8271 - val_loss: 2991.3057\n",
      "Epoch 9/500\n",
      "20/20 [==============================] - 0s 4ms/step - loss: 4780.4341 - val_loss: 2942.2820\n",
      "Epoch 10/500\n",
      "20/20 [==============================] - 0s 4ms/step - loss: 4698.5044 - val_loss: 2894.3696\n",
      "Epoch 11/500\n",
      "20/20 [==============================] - 0s 4ms/step - loss: 4617.9307 - val_loss: 2847.5093\n",
      "Epoch 12/500\n",
      "20/20 [==============================] - 0s 4ms/step - loss: 4538.6387 - val_loss: 2801.6587\n",
      "Epoch 13/500\n",
      "20/20 [==============================] - 0s 4ms/step - loss: 4460.5693 - val_loss: 2756.7815\n",
      "Epoch 14/500\n",
      "20/20 [==============================] - 0s 4ms/step - loss: 4383.6782 - val_loss: 2712.8596\n",
      "Epoch 15/500\n",
      "20/20 [==============================] - 0s 4ms/step - loss: 4307.8779 - val_loss: 2669.4719\n",
      "Epoch 16/500\n",
      "20/20 [==============================] - 0s 4ms/step - loss: 4228.9678 - val_loss: 2623.2747\n",
      "Epoch 17/500\n",
      "20/20 [==============================] - 0s 4ms/step - loss: 4149.4604 - val_loss: 2579.0200\n",
      "Epoch 18/500\n",
      "20/20 [==============================] - 0s 4ms/step - loss: 4072.1392 - val_loss: 2536.2832\n",
      "Epoch 19/500\n",
      "20/20 [==============================] - 0s 4ms/step - loss: 3996.7473 - val_loss: 2494.8218\n",
      "Epoch 20/500\n",
      "20/20 [==============================] - 0s 4ms/step - loss: 3922.9595 - val_loss: 2454.4895\n",
      "Epoch 21/500\n",
      "20/20 [==============================] - 0s 4ms/step - loss: 3850.5867 - val_loss: 2415.2000\n",
      "Epoch 22/500\n",
      "20/20 [==============================] - 0s 4ms/step - loss: 3779.5137 - val_loss: 2376.8950\n",
      "Epoch 23/500\n",
      "20/20 [==============================] - 0s 4ms/step - loss: 3709.6633 - val_loss: 2339.5322\n",
      "Epoch 24/500\n",
      "20/20 [==============================] - 0s 4ms/step - loss: 3640.9792 - val_loss: 2303.0796\n",
      "Epoch 25/500\n",
      "20/20 [==============================] - 0s 4ms/step - loss: 3573.4172 - val_loss: 2267.5110\n",
      "Epoch 26/500\n",
      "20/20 [==============================] - 0s 3ms/step - loss: 3506.9438 - val_loss: 2232.8030\n",
      "Epoch 27/500\n",
      "20/20 [==============================] - 0s 4ms/step - loss: 3441.5288 - val_loss: 2198.9370\n",
      "Epoch 28/500\n",
      "20/20 [==============================] - 0s 4ms/step - loss: 3377.1477 - val_loss: 2165.8940\n",
      "Epoch 29/500\n",
      "20/20 [==============================] - 0s 4ms/step - loss: 3313.7781 - val_loss: 2133.6602\n",
      "Epoch 30/500\n",
      "20/20 [==============================] - 0s 4ms/step - loss: 3251.4009 - val_loss: 2102.2192\n",
      "Epoch 31/500\n",
      "20/20 [==============================] - 0s 3ms/step - loss: 3189.9968 - val_loss: 2071.5581\n",
      "Epoch 32/500\n",
      "20/20 [==============================] - 0s 4ms/step - loss: 3129.5503 - val_loss: 2041.6637\n",
      "Epoch 33/500\n",
      "20/20 [==============================] - 0s 4ms/step - loss: 3070.0457 - val_loss: 2012.5238\n",
      "Epoch 34/500\n",
      "20/20 [==============================] - 0s 4ms/step - loss: 3011.4688 - val_loss: 1984.1272\n",
      "Epoch 35/500\n",
      "20/20 [==============================] - 0s 3ms/step - loss: 2953.8057 - val_loss: 1956.4617\n",
      "Epoch 36/500\n",
      "20/20 [==============================] - 0s 4ms/step - loss: 2897.0442 - val_loss: 1929.5176\n",
      "Epoch 37/500\n",
      "20/20 [==============================] - 0s 4ms/step - loss: 2841.1704 - val_loss: 1903.2832\n",
      "Epoch 38/500\n",
      "20/20 [==============================] - 0s 4ms/step - loss: 2786.1741 - val_loss: 1877.7493\n",
      "Epoch 39/500\n",
      "20/20 [==============================] - 0s 4ms/step - loss: 2732.0427 - val_loss: 1852.9053\n",
      "Epoch 40/500\n",
      "20/20 [==============================] - 0s 4ms/step - loss: 2678.7659 - val_loss: 1828.7418\n",
      "Epoch 41/500\n",
      "20/20 [==============================] - 0s 4ms/step - loss: 2626.3328 - val_loss: 1805.2496\n",
      "Epoch 42/500\n",
      "20/20 [==============================] - 0s 10ms/step - loss: 2574.7324 - val_loss: 1782.4183\n",
      "Epoch 43/500\n",
      "20/20 [==============================] - 0s 4ms/step - loss: 2523.9553 - val_loss: 1760.2395\n",
      "Epoch 44/500\n",
      "20/20 [==============================] - 0s 4ms/step - loss: 2473.9907 - val_loss: 1738.7043\n",
      "Epoch 45/500\n",
      "20/20 [==============================] - 0s 4ms/step - loss: 2424.8296 - val_loss: 1717.8033\n",
      "Epoch 46/500\n",
      "20/20 [==============================] - 0s 4ms/step - loss: 2376.4622 - val_loss: 1697.5283\n",
      "Epoch 47/500\n",
      "20/20 [==============================] - 0s 4ms/step - loss: 2328.8789 - val_loss: 1677.8704\n",
      "Epoch 48/500\n",
      "20/20 [==============================] - 0s 3ms/step - loss: 2282.0708 - val_loss: 1658.8213\n",
      "Epoch 49/500\n",
      "20/20 [==============================] - 0s 4ms/step - loss: 2236.0295 - val_loss: 1640.3718\n",
      "Epoch 50/500\n",
      "20/20 [==============================] - 0s 4ms/step - loss: 2190.7449 - val_loss: 1622.5146\n",
      "Epoch 51/500\n",
      "20/20 [==============================] - 0s 5ms/step - loss: 2146.2092 - val_loss: 1605.2412\n",
      "Epoch 52/500\n",
      "20/20 [==============================] - 0s 4ms/step - loss: 2102.4126 - val_loss: 1588.5430\n",
      "Epoch 53/500\n",
      "20/20 [==============================] - 0s 4ms/step - loss: 2059.3486 - val_loss: 1572.4124\n",
      "Epoch 54/500\n",
      "20/20 [==============================] - 0s 4ms/step - loss: 2017.0068 - val_loss: 1556.8412\n",
      "Epoch 55/500\n",
      "20/20 [==============================] - 0s 4ms/step - loss: 1975.3801 - val_loss: 1541.8215\n",
      "Epoch 56/500\n",
      "20/20 [==============================] - 0s 4ms/step - loss: 1934.4597 - val_loss: 1527.3453\n",
      "Epoch 57/500\n",
      "20/20 [==============================] - 0s 4ms/step - loss: 1894.2379 - val_loss: 1513.4050\n",
      "Epoch 58/500\n",
      "20/20 [==============================] - 0s 5ms/step - loss: 1854.7063 - val_loss: 1499.9927\n",
      "Epoch 59/500\n",
      "20/20 [==============================] - 0s 5ms/step - loss: 1815.8572 - val_loss: 1487.1006\n",
      "Epoch 60/500\n",
      "20/20 [==============================] - 0s 5ms/step - loss: 1777.6824 - val_loss: 1474.7219\n",
      "Epoch 61/500\n",
      "20/20 [==============================] - 0s 4ms/step - loss: 1740.1750 - val_loss: 1462.8483\n",
      "Epoch 62/500\n",
      "20/20 [==============================] - 0s 5ms/step - loss: 1703.3259 - val_loss: 1451.4724\n",
      "Epoch 63/500\n",
      "20/20 [==============================] - 0s 5ms/step - loss: 1667.1292 - val_loss: 1440.5865\n",
      "Epoch 64/500\n",
      "20/20 [==============================] - 0s 4ms/step - loss: 1631.5758 - val_loss: 1430.1836\n",
      "Epoch 65/500\n",
      "20/20 [==============================] - 0s 5ms/step - loss: 1596.6584 - val_loss: 1420.2559\n",
      "Epoch 66/500\n",
      "20/20 [==============================] - 0s 4ms/step - loss: 1562.3704 - val_loss: 1410.7970\n",
      "Epoch 67/500\n",
      "20/20 [==============================] - 0s 4ms/step - loss: 1528.7037 - val_loss: 1401.7985\n",
      "Epoch 68/500\n",
      "20/20 [==============================] - 0s 5ms/step - loss: 1495.6511 - val_loss: 1393.2535\n",
      "Epoch 69/500\n",
      "20/20 [==============================] - 0s 4ms/step - loss: 1463.2056 - val_loss: 1385.1550\n",
      "Epoch 70/500\n",
      "20/20 [==============================] - 0s 4ms/step - loss: 1431.3600 - val_loss: 1377.4958\n",
      "Epoch 71/500\n",
      "20/20 [==============================] - 0s 4ms/step - loss: 1400.1064 - val_loss: 1370.2689\n",
      "Epoch 72/500\n",
      "20/20 [==============================] - 0s 4ms/step - loss: 1369.4388 - val_loss: 1363.4668\n",
      "Epoch 73/500\n",
      "20/20 [==============================] - 0s 4ms/step - loss: 1339.3494 - val_loss: 1357.0828\n",
      "Epoch 74/500\n",
      "20/20 [==============================] - 0s 4ms/step - loss: 1309.8315 - val_loss: 1351.1096\n",
      "Epoch 75/500\n",
      "20/20 [==============================] - 0s 4ms/step - loss: 1280.8773 - val_loss: 1345.5404\n",
      "Epoch 76/500\n",
      "20/20 [==============================] - 0s 5ms/step - loss: 1252.4813 - val_loss: 1340.3684\n",
      "Epoch 77/500\n",
      "20/20 [==============================] - 0s 4ms/step - loss: 1224.6354 - val_loss: 1335.5862\n",
      "Epoch 78/500\n",
      "20/20 [==============================] - 0s 4ms/step - loss: 1197.3335 - val_loss: 1331.1875\n",
      "Epoch 79/500\n",
      "20/20 [==============================] - 0s 4ms/step - loss: 1170.5684 - val_loss: 1327.1650\n",
      "Epoch 80/500\n",
      "20/20 [==============================] - 0s 5ms/step - loss: 1144.3333 - val_loss: 1323.5120\n",
      "Epoch 81/500\n",
      "20/20 [==============================] - 0s 10ms/step - loss: 1118.6218 - val_loss: 1320.2219\n",
      "Epoch 82/500\n",
      "20/20 [==============================] - 0s 4ms/step - loss: 1093.4272 - val_loss: 1317.2876\n",
      "Epoch 83/500\n",
      "20/20 [==============================] - 0s 4ms/step - loss: 1068.7426 - val_loss: 1314.7026\n",
      "Epoch 84/500\n",
      "20/20 [==============================] - 0s 4ms/step - loss: 1044.5614 - val_loss: 1312.4602\n",
      "Epoch 85/500\n",
      "20/20 [==============================] - 0s 4ms/step - loss: 1020.8773 - val_loss: 1310.5537\n",
      "Epoch 86/500\n",
      "20/20 [==============================] - 0s 4ms/step - loss: 997.6838 - val_loss: 1308.9763\n",
      "Epoch 87/500\n",
      "20/20 [==============================] - 0s 4ms/step - loss: 974.9741 - val_loss: 1307.7217\n",
      "Epoch 88/500\n",
      "20/20 [==============================] - 0s 4ms/step - loss: 952.7420 - val_loss: 1306.7830\n",
      "Epoch 89/500\n",
      "20/20 [==============================] - 0s 4ms/step - loss: 930.9808 - val_loss: 1306.1538\n",
      "Epoch 90/500\n",
      "20/20 [==============================] - 0s 4ms/step - loss: 909.6844 - val_loss: 1305.8275\n",
      "Epoch 91/500\n",
      "20/20 [==============================] - 0s 3ms/step - loss: 888.8468 - val_loss: 1305.7977\n",
      "Epoch 92/500\n",
      "20/20 [==============================] - 0s 4ms/step - loss: 868.4608 - val_loss: 1306.0580\n",
      "Epoch 93/500\n",
      "20/20 [==============================] - 0s 4ms/step - loss: 848.5207 - val_loss: 1306.6018\n",
      "Epoch 94/500\n",
      "20/20 [==============================] - 0s 4ms/step - loss: 829.0202 - val_loss: 1307.4226\n",
      "Epoch 95/500\n",
      "20/20 [==============================] - 0s 4ms/step - loss: 809.9531 - val_loss: 1308.5140\n",
      "Epoch 96/500\n",
      "20/20 [==============================] - 0s 4ms/step - loss: 791.3132 - val_loss: 1309.8699\n",
      "Epoch 97/500\n",
      "20/20 [==============================] - 0s 4ms/step - loss: 773.0940 - val_loss: 1311.4838\n",
      "Epoch 98/500\n",
      "20/20 [==============================] - 0s 3ms/step - loss: 755.2902 - val_loss: 1313.3495\n",
      "Epoch 99/500\n",
      "20/20 [==============================] - 0s 4ms/step - loss: 737.8950 - val_loss: 1315.4606\n",
      "Epoch 100/500\n",
      "20/20 [==============================] - 0s 4ms/step - loss: 720.9025 - val_loss: 1317.8112\n",
      "Epoch 101/500\n",
      "20/20 [==============================] - 0s 4ms/step - loss: 704.3068 - val_loss: 1320.3945\n",
      "Epoch 102/500\n",
      "20/20 [==============================] - 0s 4ms/step - loss: 688.1017 - val_loss: 1323.2045\n",
      "Epoch 103/500\n",
      "20/20 [==============================] - 0s 4ms/step - loss: 672.2816 - val_loss: 1326.2354\n",
      "Epoch 104/500\n",
      "20/20 [==============================] - 0s 4ms/step - loss: 656.8403 - val_loss: 1329.4808\n",
      "Epoch 105/500\n",
      "20/20 [==============================] - 0s 5ms/step - loss: 641.7723 - val_loss: 1332.9347\n",
      "Epoch 106/500\n",
      "20/20 [==============================] - 0s 4ms/step - loss: 627.0714 - val_loss: 1336.5908\n",
      "Epoch 107/500\n",
      "20/20 [==============================] - 0s 4ms/step - loss: 612.7317 - val_loss: 1340.4436\n",
      "Epoch 108/500\n",
      "20/20 [==============================] - 0s 4ms/step - loss: 598.7474 - val_loss: 1344.4866\n",
      "Epoch 109/500\n",
      "20/20 [==============================] - 0s 4ms/step - loss: 585.1131 - val_loss: 1348.7141\n",
      "Epoch 110/500\n",
      "20/20 [==============================] - 0s 4ms/step - loss: 571.8229 - val_loss: 1353.1199\n",
      "Epoch 111/500\n",
      "20/20 [==============================] - 0s 3ms/step - loss: 558.8710 - val_loss: 1357.6985\n",
      "Epoch 112/500\n",
      "20/20 [==============================] - 0s 3ms/step - loss: 546.2516 - val_loss: 1362.4441\n",
      "Epoch 113/500\n",
      "20/20 [==============================] - 0s 4ms/step - loss: 533.9596 - val_loss: 1367.3501\n",
      "Epoch 114/500\n",
      "20/20 [==============================] - 0s 4ms/step - loss: 521.9890 - val_loss: 1372.4115\n",
      "Epoch 115/500\n",
      "20/20 [==============================] - 0s 3ms/step - loss: 510.3343 - val_loss: 1377.6223\n",
      "Epoch 116/500\n",
      "20/20 [==============================] - 0s 4ms/step - loss: 498.9902 - val_loss: 1382.9769\n",
      "Epoch 117/500\n",
      "20/20 [==============================] - 0s 3ms/step - loss: 487.9507 - val_loss: 1388.4696\n",
      "Epoch 118/500\n",
      "20/20 [==============================] - 0s 11ms/step - loss: 477.2109 - val_loss: 1394.0946\n",
      "Epoch 119/500\n",
      "20/20 [==============================] - 0s 4ms/step - loss: 466.7651 - val_loss: 1399.8464\n",
      "Epoch 120/500\n",
      "20/20 [==============================] - 0s 4ms/step - loss: 456.6080 - val_loss: 1405.7196\n",
      "Epoch 121/500\n",
      "20/20 [==============================] - 0s 5ms/step - loss: 446.7340 - val_loss: 1411.7086\n",
      "Epoch 122/500\n",
      "20/20 [==============================] - 0s 5ms/step - loss: 437.1381 - val_loss: 1417.8079\n",
      "Epoch 123/500\n",
      "20/20 [==============================] - 0s 5ms/step - loss: 427.8148 - val_loss: 1424.0123\n",
      "Epoch 124/500\n",
      "20/20 [==============================] - 0s 4ms/step - loss: 418.7591 - val_loss: 1430.3162\n",
      "Epoch 125/500\n",
      "20/20 [==============================] - 0s 4ms/step - loss: 409.9655 - val_loss: 1436.7146\n",
      "Epoch 126/500\n",
      "20/20 [==============================] - 0s 4ms/step - loss: 401.4292 - val_loss: 1443.2020\n",
      "Epoch 127/500\n",
      "20/20 [==============================] - 0s 4ms/step - loss: 393.1448 - val_loss: 1449.7733\n",
      "Epoch 128/500\n",
      "20/20 [==============================] - 0s 4ms/step - loss: 385.1073 - val_loss: 1456.4232\n",
      "Epoch 129/500\n",
      "20/20 [==============================] - 0s 3ms/step - loss: 377.3116 - val_loss: 1463.1467\n",
      "Epoch 130/500\n",
      "20/20 [==============================] - 0s 4ms/step - loss: 369.7528 - val_loss: 1469.9388\n",
      "Epoch 131/500\n",
      "20/20 [==============================] - 0s 4ms/step - loss: 362.4259 - val_loss: 1476.7943\n",
      "Epoch 132/500\n",
      "20/20 [==============================] - 0s 5ms/step - loss: 355.3260 - val_loss: 1483.7087\n",
      "Epoch 133/500\n",
      "20/20 [==============================] - 0s 6ms/step - loss: 348.4479 - val_loss: 1490.6765\n",
      "Epoch 134/500\n",
      "20/20 [==============================] - 0s 6ms/step - loss: 341.7875 - val_loss: 1497.6930\n",
      "Epoch 135/500\n",
      "20/20 [==============================] - 0s 5ms/step - loss: 335.3394 - val_loss: 1504.7546\n",
      "Epoch 136/500\n",
      "20/20 [==============================] - 0s 4ms/step - loss: 329.0991 - val_loss: 1511.8547\n",
      "Epoch 137/500\n",
      "20/20 [==============================] - 0s 6ms/step - loss: 323.0618 - val_loss: 1518.9901\n",
      "Epoch 138/500\n",
      "20/20 [==============================] - 0s 5ms/step - loss: 317.2227 - val_loss: 1526.1558\n",
      "Epoch 139/500\n",
      "20/20 [==============================] - 0s 6ms/step - loss: 311.5775 - val_loss: 1533.3467\n",
      "Epoch 140/500\n",
      "20/20 [==============================] - 0s 6ms/step - loss: 306.1217 - val_loss: 1540.5591\n",
      "Epoch 141/500\n",
      "20/20 [==============================] - 0s 6ms/step - loss: 300.8505 - val_loss: 1547.7889\n",
      "Epoch 142/500\n",
      "20/20 [==============================] - 0s 6ms/step - loss: 295.7595 - val_loss: 1555.0312\n",
      "Epoch 143/500\n",
      "20/20 [==============================] - 0s 14ms/step - loss: 290.8444 - val_loss: 1562.2820\n",
      "Epoch 144/500\n",
      "20/20 [==============================] - 0s 8ms/step - loss: 286.1009 - val_loss: 1569.5369\n",
      "Epoch 145/500\n",
      "20/20 [==============================] - 0s 6ms/step - loss: 281.5244 - val_loss: 1576.7920\n",
      "Epoch 146/500\n",
      "20/20 [==============================] - 0s 6ms/step - loss: 277.1109 - val_loss: 1584.0437\n",
      "Epoch 147/500\n",
      "20/20 [==============================] - 0s 6ms/step - loss: 272.8560 - val_loss: 1591.2874\n",
      "Epoch 148/500\n",
      "20/20 [==============================] - 0s 6ms/step - loss: 268.7558 - val_loss: 1598.5192\n",
      "Epoch 149/500\n",
      "20/20 [==============================] - 0s 6ms/step - loss: 264.8061 - val_loss: 1605.7363\n",
      "Epoch 150/500\n",
      "20/20 [==============================] - 0s 4ms/step - loss: 261.0027 - val_loss: 1612.9343\n",
      "Epoch 151/500\n",
      "20/20 [==============================] - 0s 5ms/step - loss: 257.3417 - val_loss: 1620.1096\n",
      "Epoch 152/500\n",
      "20/20 [==============================] - 0s 5ms/step - loss: 253.8193 - val_loss: 1627.2587\n",
      "Epoch 153/500\n",
      "20/20 [==============================] - 0s 7ms/step - loss: 250.4316 - val_loss: 1634.3785\n",
      "Epoch 154/500\n",
      "20/20 [==============================] - 0s 6ms/step - loss: 247.1746 - val_loss: 1641.4656\n",
      "Epoch 155/500\n",
      "20/20 [==============================] - 0s 4ms/step - loss: 244.0447 - val_loss: 1648.5168\n",
      "Epoch 156/500\n",
      "20/20 [==============================] - 0s 6ms/step - loss: 241.0381 - val_loss: 1655.5277\n",
      "Epoch 157/500\n",
      "20/20 [==============================] - 0s 6ms/step - loss: 238.1513 - val_loss: 1662.4965\n",
      "Epoch 158/500\n",
      "20/20 [==============================] - 0s 6ms/step - loss: 235.3805 - val_loss: 1669.4203\n",
      "Epoch 159/500\n",
      "20/20 [==============================] - 0s 16ms/step - loss: 232.7224 - val_loss: 1676.2953\n",
      "Epoch 160/500\n",
      "20/20 [==============================] - 0s 8ms/step - loss: 230.1736 - val_loss: 1683.1194\n",
      "Epoch 161/500\n",
      "20/20 [==============================] - 0s 8ms/step - loss: 227.7304 - val_loss: 1689.8889\n",
      "Epoch 162/500\n",
      "20/20 [==============================] - 0s 7ms/step - loss: 225.3896 - val_loss: 1696.6028\n",
      "Epoch 163/500\n",
      "20/20 [==============================] - 0s 8ms/step - loss: 223.1479 - val_loss: 1703.2576\n",
      "Epoch 164/500\n",
      "20/20 [==============================] - 0s 8ms/step - loss: 221.0022 - val_loss: 1709.8503\n",
      "Epoch 165/500\n",
      "20/20 [==============================] - 0s 8ms/step - loss: 218.9492 - val_loss: 1716.3792\n",
      "Epoch 166/500\n",
      "20/20 [==============================] - 0s 12ms/step - loss: 216.9860 - val_loss: 1722.8425\n",
      "Epoch 167/500\n",
      "20/20 [==============================] - 0s 7ms/step - loss: 215.1093 - val_loss: 1729.2373\n",
      "Epoch 168/500\n",
      "20/20 [==============================] - 0s 8ms/step - loss: 213.3163 - val_loss: 1735.5609\n",
      "Epoch 169/500\n",
      "20/20 [==============================] - 0s 7ms/step - loss: 211.6039 - val_loss: 1741.8138\n",
      "Epoch 170/500\n",
      "20/20 [==============================] - 0s 8ms/step - loss: 209.9694 - val_loss: 1747.9918\n",
      "Epoch 171/500\n",
      "20/20 [==============================] - 0s 8ms/step - loss: 208.4101 - val_loss: 1754.0945\n",
      "Epoch 172/500\n",
      "20/20 [==============================] - 0s 8ms/step - loss: 206.9231 - val_loss: 1760.1189\n",
      "Epoch 173/500\n",
      "20/20 [==============================] - 0s 8ms/step - loss: 205.5059 - val_loss: 1766.0638\n",
      "Epoch 174/500\n",
      "20/20 [==============================] - 0s 8ms/step - loss: 204.1559 - val_loss: 1771.9290\n",
      "Epoch 175/500\n",
      "20/20 [==============================] - 0s 6ms/step - loss: 202.8705 - val_loss: 1777.7117\n",
      "Epoch 176/500\n",
      "20/20 [==============================] - 0s 6ms/step - loss: 201.6472 - val_loss: 1783.4109\n",
      "Epoch 177/500\n",
      "20/20 [==============================] - 0s 9ms/step - loss: 200.4837 - val_loss: 1789.0254\n",
      "Epoch 178/500\n",
      "20/20 [==============================] - 0s 8ms/step - loss: 199.3777 - val_loss: 1794.5541\n",
      "Epoch 179/500\n",
      "20/20 [==============================] - 0s 7ms/step - loss: 198.3266 - val_loss: 1799.9961\n",
      "Epoch 180/500\n",
      "20/20 [==============================] - 0s 5ms/step - loss: 197.3286 - val_loss: 1805.3508\n",
      "Epoch 181/500\n",
      "20/20 [==============================] - 0s 5ms/step - loss: 196.3813 - val_loss: 1810.6160\n",
      "Epoch 182/500\n",
      "20/20 [==============================] - 0s 5ms/step - loss: 195.4826 - val_loss: 1815.7926\n",
      "Epoch 183/500\n",
      "20/20 [==============================] - 0s 10ms/step - loss: 194.6307 - val_loss: 1820.8793\n",
      "Epoch 184/500\n",
      "20/20 [==============================] - 0s 7ms/step - loss: 193.8233 - val_loss: 1825.8748\n",
      "Epoch 185/500\n",
      "20/20 [==============================] - 0s 5ms/step - loss: 193.0587 - val_loss: 1830.7806\n",
      "Epoch 186/500\n",
      "20/20 [==============================] - 0s 5ms/step - loss: 192.3349 - val_loss: 1835.5938\n",
      "Epoch 187/500\n",
      "20/20 [==============================] - 0s 5ms/step - loss: 191.6503 - val_loss: 1840.3160\n",
      "Epoch 188/500\n",
      "20/20 [==============================] - 0s 5ms/step - loss: 191.0029 - val_loss: 1844.9457\n",
      "Epoch 189/500\n",
      "20/20 [==============================] - 0s 5ms/step - loss: 190.3912 - val_loss: 1849.4834\n",
      "Epoch 190/500\n",
      "20/20 [==============================] - 0s 5ms/step - loss: 189.8135 - val_loss: 1853.9301\n",
      "Epoch 191/500\n",
      "20/20 [==============================] - 0s 4ms/step - loss: 189.2682 - val_loss: 1858.2842\n",
      "Epoch 192/500\n",
      "20/20 [==============================] - 0s 5ms/step - loss: 188.7538 - val_loss: 1862.5465\n",
      "Epoch 193/500\n",
      "20/20 [==============================] - 0s 5ms/step - loss: 188.2688 - val_loss: 1866.7164\n",
      "Epoch 194/500\n",
      "20/20 [==============================] - 0s 4ms/step - loss: 187.8118 - val_loss: 1870.7947\n",
      "Epoch 195/500\n",
      "20/20 [==============================] - 0s 5ms/step - loss: 187.3816 - val_loss: 1874.7816\n",
      "Epoch 196/500\n",
      "20/20 [==============================] - 0s 5ms/step - loss: 186.9766 - val_loss: 1878.6777\n",
      "Epoch 197/500\n",
      "20/20 [==============================] - 0s 4ms/step - loss: 186.5957 - val_loss: 1882.4830\n",
      "Epoch 198/500\n",
      "20/20 [==============================] - 0s 4ms/step - loss: 186.2377 - val_loss: 1886.1985\n",
      "Epoch 199/500\n",
      "20/20 [==============================] - 0s 5ms/step - loss: 185.9014 - val_loss: 1889.8242\n",
      "Epoch 200/500\n",
      "20/20 [==============================] - 0s 5ms/step - loss: 185.5856 - val_loss: 1893.3613\n",
      "Epoch 201/500\n",
      "20/20 [==============================] - 0s 4ms/step - loss: 185.2894 - val_loss: 1896.8105\n",
      "Epoch 202/500\n",
      "20/20 [==============================] - 0s 4ms/step - loss: 185.0116 - val_loss: 1900.1722\n",
      "Epoch 203/500\n",
      "20/20 [==============================] - 0s 5ms/step - loss: 184.7512 - val_loss: 1903.4480\n",
      "Epoch 204/500\n",
      "20/20 [==============================] - 0s 4ms/step - loss: 184.5074 - val_loss: 1906.6375\n",
      "Epoch 205/500\n",
      "20/20 [==============================] - 0s 5ms/step - loss: 184.2791 - val_loss: 1909.7434\n",
      "Epoch 206/500\n",
      "20/20 [==============================] - 0s 5ms/step - loss: 184.0655 - val_loss: 1912.7644\n",
      "Epoch 207/500\n",
      "20/20 [==============================] - 0s 5ms/step - loss: 183.8659 - val_loss: 1915.7024\n",
      "Epoch 208/500\n",
      "20/20 [==============================] - 0s 4ms/step - loss: 183.6794 - val_loss: 1918.5590\n",
      "Epoch 209/500\n",
      "20/20 [==============================] - 0s 5ms/step - loss: 183.5053 - val_loss: 1921.3347\n",
      "Epoch 210/500\n",
      "20/20 [==============================] - 0s 5ms/step - loss: 183.3428 - val_loss: 1924.0305\n",
      "Epoch 211/500\n",
      "20/20 [==============================] - 0s 4ms/step - loss: 183.1913 - val_loss: 1926.6487\n",
      "Epoch 212/500\n",
      "20/20 [==============================] - 0s 4ms/step - loss: 183.0501 - val_loss: 1929.1887\n",
      "Epoch 213/500\n",
      "20/20 [==============================] - 0s 5ms/step - loss: 182.9185 - val_loss: 1931.6531\n",
      "Epoch 214/500\n",
      "20/20 [==============================] - 0s 4ms/step - loss: 182.7962 - val_loss: 1934.0424\n",
      "Epoch 215/500\n",
      "20/20 [==============================] - 0s 5ms/step - loss: 182.6822 - val_loss: 1936.3590\n",
      "Epoch 216/500\n",
      "20/20 [==============================] - 0s 4ms/step - loss: 182.5763 - val_loss: 1938.6019\n",
      "Epoch 217/500\n",
      "20/20 [==============================] - 0s 5ms/step - loss: 182.4780 - val_loss: 1940.7754\n",
      "Epoch 218/500\n",
      "20/20 [==============================] - 0s 4ms/step - loss: 182.3867 - val_loss: 1942.8785\n",
      "Epoch 219/500\n",
      "20/20 [==============================] - 0s 5ms/step - loss: 182.3019 - val_loss: 1944.9128\n",
      "Epoch 220/500\n",
      "20/20 [==============================] - 0s 4ms/step - loss: 182.2233 - val_loss: 1946.8805\n",
      "Epoch 221/500\n",
      "20/20 [==============================] - 0s 4ms/step - loss: 182.1505 - val_loss: 1948.7826\n",
      "Epoch 222/500\n",
      "20/20 [==============================] - 0s 4ms/step - loss: 182.0830 - val_loss: 1950.6211\n",
      "Epoch 223/500\n",
      "20/20 [==============================] - 0s 4ms/step - loss: 182.0205 - val_loss: 1952.3959\n",
      "Epoch 224/500\n",
      "20/20 [==============================] - 0s 4ms/step - loss: 181.9628 - val_loss: 1954.1106\n",
      "Epoch 225/500\n",
      "20/20 [==============================] - 0s 4ms/step - loss: 181.9093 - val_loss: 1955.7637\n",
      "Epoch 226/500\n",
      "20/20 [==============================] - 0s 5ms/step - loss: 181.8601 - val_loss: 1957.3591\n",
      "Epoch 227/500\n",
      "20/20 [==============================] - 0s 4ms/step - loss: 181.8144 - val_loss: 1958.8967\n",
      "Epoch 228/500\n",
      "20/20 [==============================] - 0s 4ms/step - loss: 181.7725 - val_loss: 1960.3789\n",
      "Epoch 229/500\n",
      "20/20 [==============================] - 0s 5ms/step - loss: 181.7337 - val_loss: 1961.8066\n",
      "Epoch 230/500\n",
      "20/20 [==============================] - 0s 5ms/step - loss: 181.6979 - val_loss: 1963.1816\n",
      "Epoch 231/500\n",
      "20/20 [==============================] - 0s 5ms/step - loss: 181.6650 - val_loss: 1964.5046\n",
      "Epoch 232/500\n",
      "20/20 [==============================] - 0s 4ms/step - loss: 181.6347 - val_loss: 1965.7773\n",
      "Epoch 233/500\n",
      "20/20 [==============================] - 0s 4ms/step - loss: 181.6069 - val_loss: 1967.0020\n",
      "Epoch 234/500\n",
      "20/20 [==============================] - 0s 5ms/step - loss: 181.5813 - val_loss: 1968.1787\n",
      "Epoch 235/500\n",
      "20/20 [==============================] - 0s 5ms/step - loss: 181.5577 - val_loss: 1969.3086\n",
      "Epoch 236/500\n",
      "20/20 [==============================] - 0s 4ms/step - loss: 181.5360 - val_loss: 1970.3938\n",
      "Epoch 237/500\n",
      "20/20 [==============================] - 0s 5ms/step - loss: 181.5163 - val_loss: 1971.4359\n",
      "Epoch 238/500\n",
      "20/20 [==============================] - 0s 5ms/step - loss: 181.4981 - val_loss: 1972.4363\n",
      "Epoch 239/500\n",
      "20/20 [==============================] - 0s 5ms/step - loss: 181.4814 - val_loss: 1973.3949\n",
      "Epoch 240/500\n",
      "20/20 [==============================] - 0s 5ms/step - loss: 181.4661 - val_loss: 1974.3145\n",
      "Epoch 241/500\n",
      "20/20 [==============================] - 0s 4ms/step - loss: 181.4521 - val_loss: 1975.1949\n",
      "Epoch 242/500\n",
      "20/20 [==============================] - 0s 4ms/step - loss: 181.4393 - val_loss: 1976.0387\n",
      "Epoch 243/500\n",
      "20/20 [==============================] - 0s 4ms/step - loss: 181.4276 - val_loss: 1976.8467\n",
      "Epoch 244/500\n",
      "20/20 [==============================] - 0s 5ms/step - loss: 181.4169 - val_loss: 1977.6194\n",
      "Epoch 245/500\n",
      "20/20 [==============================] - 0s 4ms/step - loss: 181.4072 - val_loss: 1978.3580\n",
      "Epoch 246/500\n",
      "20/20 [==============================] - 0s 4ms/step - loss: 181.3983 - val_loss: 1979.0657\n",
      "Epoch 247/500\n",
      "20/20 [==============================] - 0s 5ms/step - loss: 181.3902 - val_loss: 1979.7406\n",
      "Epoch 248/500\n",
      "20/20 [==============================] - 0s 11ms/step - loss: 181.3828 - val_loss: 1980.3860\n",
      "Epoch 249/500\n",
      "20/20 [==============================] - 0s 9ms/step - loss: 181.3761 - val_loss: 1981.0016\n",
      "Epoch 250/500\n",
      "20/20 [==============================] - 0s 6ms/step - loss: 181.3701 - val_loss: 1981.5911\n",
      "Epoch 251/500\n",
      "20/20 [==============================] - 0s 4ms/step - loss: 181.3645 - val_loss: 1982.1526\n",
      "Epoch 252/500\n",
      "20/20 [==============================] - 0s 5ms/step - loss: 181.3594 - val_loss: 1982.6875\n",
      "Epoch 253/500\n",
      "20/20 [==============================] - 0s 5ms/step - loss: 181.3549 - val_loss: 1983.1985\n",
      "Epoch 254/500\n",
      "20/20 [==============================] - 0s 5ms/step - loss: 181.3507 - val_loss: 1983.6843\n",
      "Epoch 255/500\n",
      "20/20 [==============================] - 0s 5ms/step - loss: 181.3471 - val_loss: 1984.1475\n",
      "Epoch 256/500\n",
      "20/20 [==============================] - 0s 6ms/step - loss: 181.3437 - val_loss: 1984.5879\n",
      "Epoch 257/500\n",
      "20/20 [==============================] - 0s 6ms/step - loss: 181.3407 - val_loss: 1985.0074\n",
      "Epoch 258/500\n",
      "20/20 [==============================] - 0s 6ms/step - loss: 181.3380 - val_loss: 1985.4060\n",
      "Epoch 259/500\n",
      "20/20 [==============================] - 0s 8ms/step - loss: 181.3355 - val_loss: 1985.7852\n",
      "Epoch 260/500\n",
      "20/20 [==============================] - 0s 7ms/step - loss: 181.3333 - val_loss: 1986.1461\n",
      "Epoch 261/500\n",
      "20/20 [==============================] - 0s 6ms/step - loss: 181.3314 - val_loss: 1986.4879\n",
      "Epoch 262/500\n",
      "20/20 [==============================] - 0s 4ms/step - loss: 181.3296 - val_loss: 1986.8121\n",
      "Epoch 263/500\n",
      "20/20 [==============================] - 0s 5ms/step - loss: 181.3282 - val_loss: 1987.1211\n",
      "Epoch 264/500\n",
      "20/20 [==============================] - 0s 5ms/step - loss: 181.3268 - val_loss: 1987.4137\n",
      "Epoch 265/500\n",
      "20/20 [==============================] - 0s 5ms/step - loss: 181.3255 - val_loss: 1987.6910\n",
      "Epoch 266/500\n",
      "20/20 [==============================] - 0s 5ms/step - loss: 181.3245 - val_loss: 1987.9539\n",
      "Epoch 267/500\n",
      "20/20 [==============================] - 0s 5ms/step - loss: 181.3236 - val_loss: 1988.2024\n",
      "Epoch 268/500\n",
      "20/20 [==============================] - 0s 5ms/step - loss: 181.3229 - val_loss: 1988.4381\n",
      "Epoch 269/500\n",
      "20/20 [==============================] - 0s 6ms/step - loss: 181.3222 - val_loss: 1988.6614\n",
      "Epoch 270/500\n",
      "20/20 [==============================] - 0s 6ms/step - loss: 181.3216 - val_loss: 1988.8730\n",
      "Epoch 271/500\n",
      "20/20 [==============================] - 0s 6ms/step - loss: 181.3211 - val_loss: 1989.0726\n",
      "Epoch 272/500\n",
      "20/20 [==============================] - 0s 5ms/step - loss: 181.3208 - val_loss: 1989.2620\n",
      "Epoch 273/500\n",
      "20/20 [==============================] - 0s 10ms/step - loss: 181.3205 - val_loss: 1989.4407\n",
      "Epoch 274/500\n",
      "20/20 [==============================] - 0s 6ms/step - loss: 181.3203 - val_loss: 1989.6082\n",
      "Epoch 275/500\n",
      "20/20 [==============================] - 0s 5ms/step - loss: 181.3201 - val_loss: 1989.7683\n",
      "Epoch 276/500\n",
      "20/20 [==============================] - 0s 6ms/step - loss: 181.3200 - val_loss: 1989.9180\n",
      "Epoch 277/500\n",
      "20/20 [==============================] - 0s 5ms/step - loss: 181.3201 - val_loss: 1990.0605\n",
      "Epoch 278/500\n",
      "20/20 [==============================] - 0s 4ms/step - loss: 181.3201 - val_loss: 1990.1940\n",
      "Epoch 279/500\n",
      "20/20 [==============================] - 0s 4ms/step - loss: 181.3201 - val_loss: 1990.3207\n",
      "Epoch 280/500\n",
      "20/20 [==============================] - 0s 5ms/step - loss: 181.3203 - val_loss: 1990.4391\n",
      "Epoch 281/500\n",
      "20/20 [==============================] - 0s 5ms/step - loss: 181.3205 - val_loss: 1990.5508\n",
      "Epoch 282/500\n",
      "20/20 [==============================] - 0s 5ms/step - loss: 181.3206 - val_loss: 1990.6566\n",
      "Epoch 283/500\n",
      "20/20 [==============================] - 0s 5ms/step - loss: 181.3208 - val_loss: 1990.7549\n",
      "Epoch 284/500\n",
      "20/20 [==============================] - 0s 4ms/step - loss: 181.3211 - val_loss: 1990.8484\n",
      "Epoch 285/500\n",
      "20/20 [==============================] - 0s 5ms/step - loss: 181.3214 - val_loss: 1990.9368\n",
      "Epoch 286/500\n",
      "20/20 [==============================] - 0s 4ms/step - loss: 181.3217 - val_loss: 1991.0195\n",
      "Epoch 287/500\n",
      "20/20 [==============================] - 0s 4ms/step - loss: 181.3220 - val_loss: 1991.0964\n",
      "Epoch 288/500\n",
      "20/20 [==============================] - 0s 5ms/step - loss: 181.3224 - val_loss: 1991.1689\n",
      "Epoch 289/500\n",
      "20/20 [==============================] - 0s 4ms/step - loss: 181.3228 - val_loss: 1991.2373\n",
      "Epoch 290/500\n",
      "20/20 [==============================] - 0s 4ms/step - loss: 181.3232 - val_loss: 1991.3018\n",
      "Epoch 291/500\n",
      "20/20 [==============================] - 0s 4ms/step - loss: 181.3235 - val_loss: 1991.3617\n",
      "Epoch 292/500\n",
      "20/20 [==============================] - 0s 4ms/step - loss: 181.3239 - val_loss: 1991.4180\n",
      "Epoch 293/500\n",
      "20/20 [==============================] - 0s 4ms/step - loss: 181.3244 - val_loss: 1991.4709\n",
      "Epoch 294/500\n",
      "20/20 [==============================] - 0s 5ms/step - loss: 181.3249 - val_loss: 1991.5203\n",
      "Epoch 295/500\n",
      "20/20 [==============================] - 0s 4ms/step - loss: 181.3253 - val_loss: 1991.5668\n",
      "Epoch 296/500\n",
      "20/20 [==============================] - 0s 4ms/step - loss: 181.3258 - val_loss: 1991.6094\n",
      "Epoch 297/500\n",
      "20/20 [==============================] - 0s 5ms/step - loss: 181.3263 - val_loss: 1991.6504\n",
      "Epoch 298/500\n",
      "20/20 [==============================] - 0s 4ms/step - loss: 181.3267 - val_loss: 1991.6879\n",
      "Epoch 299/500\n",
      "20/20 [==============================] - 0s 5ms/step - loss: 181.3273 - val_loss: 1991.7230\n",
      "Epoch 300/500\n",
      "20/20 [==============================] - 0s 4ms/step - loss: 181.3277 - val_loss: 1991.7565\n",
      "Epoch 301/500\n",
      "20/20 [==============================] - 0s 4ms/step - loss: 181.3282 - val_loss: 1991.7875\n",
      "Epoch 302/500\n",
      "20/20 [==============================] - 0s 4ms/step - loss: 181.3288 - val_loss: 1991.8160\n",
      "Epoch 303/500\n",
      "20/20 [==============================] - 0s 11ms/step - loss: 181.3293 - val_loss: 1991.8425\n",
      "Epoch 304/500\n",
      "20/20 [==============================] - 0s 5ms/step - loss: 181.3298 - val_loss: 1991.8678\n",
      "Epoch 305/500\n",
      "20/20 [==============================] - 0s 5ms/step - loss: 181.3303 - val_loss: 1991.8904\n",
      "Epoch 306/500\n",
      "20/20 [==============================] - 0s 6ms/step - loss: 181.3308 - val_loss: 1991.9127\n",
      "Epoch 307/500\n",
      "20/20 [==============================] - 0s 5ms/step - loss: 181.3313 - val_loss: 1991.9329\n",
      "Epoch 308/500\n",
      "20/20 [==============================] - 0s 5ms/step - loss: 181.3318 - val_loss: 1991.9515\n",
      "Epoch 309/500\n",
      "20/20 [==============================] - 0s 5ms/step - loss: 181.3323 - val_loss: 1991.9688\n",
      "Epoch 310/500\n",
      "20/20 [==============================] - 0s 4ms/step - loss: 181.3329 - val_loss: 1991.9854\n",
      "Epoch 311/500\n",
      "20/20 [==============================] - 0s 4ms/step - loss: 181.3334 - val_loss: 1992.0012\n",
      "Epoch 312/500\n",
      "20/20 [==============================] - 0s 5ms/step - loss: 181.3340 - val_loss: 1992.0159\n",
      "Epoch 313/500\n",
      "20/20 [==============================] - 0s 5ms/step - loss: 181.3344 - val_loss: 1992.0289\n",
      "Epoch 314/500\n",
      "20/20 [==============================] - 0s 5ms/step - loss: 181.3349 - val_loss: 1992.0403\n",
      "Epoch 315/500\n",
      "20/20 [==============================] - 0s 4ms/step - loss: 181.3355 - val_loss: 1992.0520\n",
      "Epoch 316/500\n",
      "20/20 [==============================] - 0s 5ms/step - loss: 181.3360 - val_loss: 1992.0613\n",
      "Epoch 317/500\n",
      "20/20 [==============================] - 0s 5ms/step - loss: 181.3365 - val_loss: 1992.0715\n",
      "Epoch 318/500\n",
      "20/20 [==============================] - 0s 5ms/step - loss: 181.3370 - val_loss: 1992.0804\n",
      "Epoch 319/500\n",
      "20/20 [==============================] - 0s 5ms/step - loss: 181.3376 - val_loss: 1992.0891\n",
      "Epoch 320/500\n",
      "20/20 [==============================] - 0s 5ms/step - loss: 181.3380 - val_loss: 1992.0973\n",
      "Epoch 321/500\n",
      "20/20 [==============================] - 0s 4ms/step - loss: 181.3385 - val_loss: 1992.1035\n",
      "Epoch 322/500\n",
      "20/20 [==============================] - 0s 5ms/step - loss: 181.3390 - val_loss: 1992.1100\n",
      "Epoch 323/500\n",
      "20/20 [==============================] - 0s 5ms/step - loss: 181.3396 - val_loss: 1992.1172\n",
      "Epoch 324/500\n",
      "20/20 [==============================] - 0s 5ms/step - loss: 181.3400 - val_loss: 1992.1224\n",
      "Epoch 325/500\n",
      "20/20 [==============================] - 0s 5ms/step - loss: 181.3405 - val_loss: 1992.1267\n",
      "Epoch 326/500\n",
      "20/20 [==============================] - 0s 4ms/step - loss: 181.3410 - val_loss: 1992.1324\n",
      "Epoch 327/500\n",
      "20/20 [==============================] - 0s 5ms/step - loss: 181.3414 - val_loss: 1992.1348\n",
      "Epoch 328/500\n",
      "20/20 [==============================] - 0s 5ms/step - loss: 181.3419 - val_loss: 1992.1393\n",
      "Epoch 329/500\n",
      "20/20 [==============================] - 0s 5ms/step - loss: 181.3424 - val_loss: 1992.1422\n",
      "Epoch 330/500\n",
      "20/20 [==============================] - 0s 4ms/step - loss: 181.3429 - val_loss: 1992.1465\n",
      "Epoch 331/500\n",
      "20/20 [==============================] - 0s 11ms/step - loss: 181.3433 - val_loss: 1992.1497\n",
      "Epoch 332/500\n",
      "20/20 [==============================] - 0s 6ms/step - loss: 181.3438 - val_loss: 1992.1517\n",
      "Epoch 333/500\n",
      "20/20 [==============================] - 0s 5ms/step - loss: 181.3442 - val_loss: 1992.1550\n",
      "Epoch 334/500\n",
      "20/20 [==============================] - 0s 5ms/step - loss: 181.3447 - val_loss: 1992.1572\n",
      "Epoch 335/500\n",
      "20/20 [==============================] - 0s 5ms/step - loss: 181.3451 - val_loss: 1992.1592\n",
      "Epoch 336/500\n",
      "20/20 [==============================] - 0s 4ms/step - loss: 181.3456 - val_loss: 1992.1617\n",
      "Epoch 337/500\n",
      "20/20 [==============================] - 0s 5ms/step - loss: 181.3460 - val_loss: 1992.1641\n",
      "Epoch 338/500\n",
      "20/20 [==============================] - 0s 4ms/step - loss: 181.3465 - val_loss: 1992.1653\n",
      "Epoch 339/500\n",
      "20/20 [==============================] - 0s 4ms/step - loss: 181.3469 - val_loss: 1992.1666\n",
      "Epoch 340/500\n",
      "20/20 [==============================] - 0s 5ms/step - loss: 181.3474 - val_loss: 1992.1683\n",
      "Epoch 341/500\n",
      "20/20 [==============================] - 0s 5ms/step - loss: 181.3477 - val_loss: 1992.1697\n",
      "Epoch 342/500\n",
      "20/20 [==============================] - 0s 5ms/step - loss: 181.3482 - val_loss: 1992.1707\n",
      "Epoch 343/500\n",
      "20/20 [==============================] - 0s 4ms/step - loss: 181.3486 - val_loss: 1992.1719\n",
      "Epoch 344/500\n",
      "20/20 [==============================] - 0s 4ms/step - loss: 181.3490 - val_loss: 1992.1726\n",
      "Epoch 345/500\n",
      "20/20 [==============================] - 0s 5ms/step - loss: 181.3494 - val_loss: 1992.1735\n",
      "Epoch 346/500\n",
      "20/20 [==============================] - 0s 5ms/step - loss: 181.3497 - val_loss: 1992.1744\n",
      "Epoch 347/500\n",
      "20/20 [==============================] - 0s 4ms/step - loss: 181.3501 - val_loss: 1992.1750\n",
      "Epoch 348/500\n",
      "20/20 [==============================] - 0s 5ms/step - loss: 181.3505 - val_loss: 1992.1752\n",
      "Epoch 349/500\n",
      "20/20 [==============================] - 0s 4ms/step - loss: 181.3509 - val_loss: 1992.1752\n",
      "Epoch 350/500\n",
      "20/20 [==============================] - 0s 5ms/step - loss: 181.3513 - val_loss: 1992.1760\n",
      "Epoch 351/500\n",
      "20/20 [==============================] - 0s 5ms/step - loss: 181.3516 - val_loss: 1992.1761\n",
      "Epoch 352/500\n",
      "20/20 [==============================] - 0s 5ms/step - loss: 181.3519 - val_loss: 1992.1761\n",
      "Epoch 353/500\n",
      "20/20 [==============================] - 0s 5ms/step - loss: 181.3523 - val_loss: 1992.1770\n",
      "Epoch 354/500\n",
      "20/20 [==============================] - 0s 5ms/step - loss: 181.3526 - val_loss: 1992.1770\n",
      "Epoch 355/500\n",
      "20/20 [==============================] - 0s 4ms/step - loss: 181.3531 - val_loss: 1992.1765\n",
      "Epoch 356/500\n",
      "20/20 [==============================] - 0s 4ms/step - loss: 181.3534 - val_loss: 1992.1770\n",
      "Epoch 357/500\n",
      "20/20 [==============================] - 0s 5ms/step - loss: 181.3536 - val_loss: 1992.1765\n",
      "Epoch 358/500\n",
      "20/20 [==============================] - 0s 11ms/step - loss: 181.3540 - val_loss: 1992.1755\n",
      "Epoch 359/500\n",
      "20/20 [==============================] - 0s 6ms/step - loss: 181.3543 - val_loss: 1992.1752\n",
      "Epoch 360/500\n",
      "20/20 [==============================] - 0s 6ms/step - loss: 181.3547 - val_loss: 1992.1748\n",
      "Epoch 361/500\n",
      "20/20 [==============================] - 0s 5ms/step - loss: 181.3550 - val_loss: 1992.1758\n",
      "Epoch 362/500\n",
      "20/20 [==============================] - 0s 6ms/step - loss: 181.3553 - val_loss: 1992.1754\n",
      "Epoch 363/500\n",
      "20/20 [==============================] - 0s 6ms/step - loss: 181.3557 - val_loss: 1992.1754\n",
      "Epoch 364/500\n",
      "20/20 [==============================] - 0s 6ms/step - loss: 181.3559 - val_loss: 1992.1755\n",
      "Epoch 365/500\n",
      "20/20 [==============================] - 0s 6ms/step - loss: 181.3562 - val_loss: 1992.1755\n",
      "Epoch 366/500\n",
      "20/20 [==============================] - 0s 5ms/step - loss: 181.3565 - val_loss: 1992.1754\n",
      "Epoch 367/500\n",
      "20/20 [==============================] - 0s 5ms/step - loss: 181.3568 - val_loss: 1992.1754\n",
      "Epoch 368/500\n",
      "20/20 [==============================] - 0s 6ms/step - loss: 181.3571 - val_loss: 1992.1754\n",
      "Epoch 369/500\n",
      "20/20 [==============================] - 0s 5ms/step - loss: 181.3574 - val_loss: 1992.1758\n",
      "Epoch 370/500\n",
      "20/20 [==============================] - 0s 5ms/step - loss: 181.3577 - val_loss: 1992.1761\n",
      "Epoch 371/500\n",
      "20/20 [==============================] - 0s 5ms/step - loss: 181.3579 - val_loss: 1992.1755\n",
      "Epoch 372/500\n",
      "20/20 [==============================] - 0s 6ms/step - loss: 181.3583 - val_loss: 1992.1758\n",
      "Epoch 373/500\n",
      "20/20 [==============================] - 0s 4ms/step - loss: 181.3585 - val_loss: 1992.1755\n",
      "Epoch 374/500\n",
      "20/20 [==============================] - 0s 5ms/step - loss: 181.3588 - val_loss: 1992.1761\n",
      "Epoch 375/500\n",
      "20/20 [==============================] - 0s 4ms/step - loss: 181.3590 - val_loss: 1992.1764\n",
      "Epoch 376/500\n",
      "20/20 [==============================] - 0s 5ms/step - loss: 181.3593 - val_loss: 1992.1761\n",
      "Epoch 377/500\n",
      "20/20 [==============================] - 0s 5ms/step - loss: 181.3595 - val_loss: 1992.1761\n",
      "Epoch 378/500\n",
      "20/20 [==============================] - 0s 5ms/step - loss: 181.3598 - val_loss: 1992.1758\n",
      "Epoch 379/500\n",
      "20/20 [==============================] - 0s 4ms/step - loss: 181.3600 - val_loss: 1992.1764\n",
      "Epoch 380/500\n",
      "20/20 [==============================] - 0s 4ms/step - loss: 181.3602 - val_loss: 1992.1768\n",
      "Epoch 381/500\n",
      "20/20 [==============================] - 0s 5ms/step - loss: 181.3605 - val_loss: 1992.1771\n",
      "Epoch 382/500\n",
      "20/20 [==============================] - 0s 5ms/step - loss: 181.3607 - val_loss: 1992.1780\n",
      "Epoch 383/500\n",
      "20/20 [==============================] - 0s 11ms/step - loss: 181.3609 - val_loss: 1992.1785\n",
      "Epoch 384/500\n",
      "20/20 [==============================] - 0s 5ms/step - loss: 181.3611 - val_loss: 1992.1781\n",
      "Epoch 385/500\n",
      "20/20 [==============================] - 0s 4ms/step - loss: 181.3614 - val_loss: 1992.1801\n",
      "Epoch 386/500\n",
      "20/20 [==============================] - 0s 4ms/step - loss: 181.3616 - val_loss: 1992.1809\n",
      "Epoch 387/500\n",
      "20/20 [==============================] - 0s 5ms/step - loss: 181.3618 - val_loss: 1992.1816\n",
      "Epoch 388/500\n",
      "20/20 [==============================] - 0s 4ms/step - loss: 181.3620 - val_loss: 1992.1820\n",
      "Epoch 389/500\n",
      "20/20 [==============================] - 0s 5ms/step - loss: 181.3622 - val_loss: 1992.1836\n",
      "Epoch 390/500\n",
      "20/20 [==============================] - 0s 4ms/step - loss: 181.3624 - val_loss: 1992.1858\n",
      "Epoch 391/500\n",
      "20/20 [==============================] - 0s 4ms/step - loss: 181.3626 - val_loss: 1992.1892\n",
      "Epoch 392/500\n",
      "20/20 [==============================] - 0s 4ms/step - loss: 181.3629 - val_loss: 1992.1943\n",
      "Epoch 393/500\n",
      "20/20 [==============================] - 0s 4ms/step - loss: 181.3630 - val_loss: 1992.2008\n",
      "Epoch 394/500\n",
      "20/20 [==============================] - 0s 5ms/step - loss: 181.3631 - val_loss: 1992.2102\n",
      "Epoch 395/500\n",
      "20/20 [==============================] - 0s 5ms/step - loss: 181.3633 - val_loss: 1992.2346\n",
      "Epoch 396/500\n",
      "20/20 [==============================] - 0s 5ms/step - loss: 181.3620 - val_loss: 1992.2820\n",
      "Epoch 397/500\n",
      "20/20 [==============================] - 0s 4ms/step - loss: 181.3451 - val_loss: 1978.3199\n",
      "Epoch 398/500\n",
      "20/20 [==============================] - 0s 5ms/step - loss: 175.2797 - val_loss: 1900.9646\n",
      "Epoch 399/500\n",
      "20/20 [==============================] - 0s 4ms/step - loss: 184.8096 - val_loss: 1906.0808\n",
      "Epoch 400/500\n",
      "20/20 [==============================] - 0s 5ms/step - loss: 184.4648 - val_loss: 1912.6755\n",
      "Epoch 401/500\n",
      "20/20 [==============================] - 0s 4ms/step - loss: 184.0248 - val_loss: 1919.0066\n",
      "Epoch 402/500\n",
      "20/20 [==============================] - 0s 5ms/step - loss: 183.6332 - val_loss: 1924.8756\n",
      "Epoch 403/500\n",
      "20/20 [==============================] - 0s 4ms/step - loss: 183.2990 - val_loss: 1930.2864\n",
      "Epoch 404/500\n",
      "20/20 [==============================] - 0s 5ms/step - loss: 183.0155 - val_loss: 1935.2703\n",
      "Epoch 405/500\n",
      "20/20 [==============================] - 0s 5ms/step - loss: 182.7748 - val_loss: 1939.8574\n",
      "Epoch 406/500\n",
      "20/20 [==============================] - 0s 5ms/step - loss: 182.5707 - val_loss: 1944.0789\n",
      "Epoch 407/500\n",
      "20/20 [==============================] - 0s 7ms/step - loss: 182.3973 - val_loss: 1947.9622\n",
      "Epoch 408/500\n",
      "20/20 [==============================] - 0s 6ms/step - loss: 182.2499 - val_loss: 1951.5338\n",
      "Epoch 409/500\n",
      "20/20 [==============================] - 0s 5ms/step - loss: 182.1246 - val_loss: 1954.8164\n",
      "Epoch 410/500\n",
      "20/20 [==============================] - 0s 11ms/step - loss: 182.0178 - val_loss: 1957.8336\n",
      "Epoch 411/500\n",
      "20/20 [==============================] - 0s 8ms/step - loss: 181.9269 - val_loss: 1960.6067\n",
      "Epoch 412/500\n",
      "20/20 [==============================] - 0s 8ms/step - loss: 181.8493 - val_loss: 1963.1539\n",
      "Epoch 413/500\n",
      "20/20 [==============================] - 0s 8ms/step - loss: 181.7831 - val_loss: 1965.4922\n",
      "Epoch 414/500\n",
      "20/20 [==============================] - 0s 7ms/step - loss: 181.7265 - val_loss: 1967.6390\n",
      "Epoch 415/500\n",
      "20/20 [==============================] - 0s 4ms/step - loss: 181.6779 - val_loss: 1969.6107\n",
      "Epoch 416/500\n",
      "20/20 [==============================] - 0s 4ms/step - loss: 181.6365 - val_loss: 1971.4193\n",
      "Epoch 417/500\n",
      "20/20 [==============================] - 0s 5ms/step - loss: 181.6009 - val_loss: 1973.0798\n",
      "Epoch 418/500\n",
      "20/20 [==============================] - 0s 4ms/step - loss: 181.5703 - val_loss: 1974.6041\n",
      "Epoch 419/500\n",
      "20/20 [==============================] - 0s 5ms/step - loss: 181.5439 - val_loss: 1976.0016\n",
      "Epoch 420/500\n",
      "20/20 [==============================] - 0s 5ms/step - loss: 181.5213 - val_loss: 1977.2828\n",
      "Epoch 421/500\n",
      "20/20 [==============================] - 0s 5ms/step - loss: 181.5017 - val_loss: 1978.4594\n",
      "Epoch 422/500\n",
      "20/20 [==============================] - 0s 6ms/step - loss: 181.4848 - val_loss: 1979.5359\n",
      "Epoch 423/500\n",
      "20/20 [==============================] - 0s 5ms/step - loss: 181.4702 - val_loss: 1980.5240\n",
      "Epoch 424/500\n",
      "20/20 [==============================] - 0s 5ms/step - loss: 181.4575 - val_loss: 1981.4301\n",
      "Epoch 425/500\n",
      "20/20 [==============================] - 0s 4ms/step - loss: 181.4464 - val_loss: 1982.2594\n",
      "Epoch 426/500\n",
      "20/20 [==============================] - 0s 5ms/step - loss: 181.4369 - val_loss: 1983.0195\n",
      "Epoch 427/500\n",
      "20/20 [==============================] - 0s 5ms/step - loss: 181.4285 - val_loss: 1983.7158\n",
      "Epoch 428/500\n",
      "20/20 [==============================] - 0s 5ms/step - loss: 181.4213 - val_loss: 1984.3555\n",
      "Epoch 429/500\n",
      "20/20 [==============================] - 0s 5ms/step - loss: 181.4149 - val_loss: 1984.9398\n",
      "Epoch 430/500\n",
      "20/20 [==============================] - 0s 5ms/step - loss: 181.4092 - val_loss: 1985.4758\n",
      "Epoch 431/500\n",
      "20/20 [==============================] - 0s 4ms/step - loss: 181.4044 - val_loss: 1985.9662\n",
      "Epoch 432/500\n",
      "20/20 [==============================] - 0s 7ms/step - loss: 181.4001 - val_loss: 1986.4176\n",
      "Epoch 433/500\n",
      "20/20 [==============================] - 0s 10ms/step - loss: 181.3963 - val_loss: 1986.8293\n",
      "Epoch 434/500\n",
      "20/20 [==============================] - 0s 9ms/step - loss: 181.3930 - val_loss: 1987.2054\n",
      "Epoch 435/500\n",
      "20/20 [==============================] - 0s 8ms/step - loss: 181.3900 - val_loss: 1987.5511\n",
      "Epoch 436/500\n",
      "20/20 [==============================] - 0s 6ms/step - loss: 181.3874 - val_loss: 1987.8669\n",
      "Epoch 437/500\n",
      "20/20 [==============================] - 0s 6ms/step - loss: 181.3851 - val_loss: 1988.1553\n",
      "Epoch 438/500\n",
      "20/20 [==============================] - 0s 6ms/step - loss: 181.3830 - val_loss: 1988.4199\n",
      "Epoch 439/500\n",
      "20/20 [==============================] - 0s 5ms/step - loss: 181.3812 - val_loss: 1988.6625\n",
      "Epoch 440/500\n",
      "20/20 [==============================] - 0s 5ms/step - loss: 181.3797 - val_loss: 1988.8848\n",
      "Epoch 441/500\n",
      "20/20 [==============================] - 0s 5ms/step - loss: 181.3782 - val_loss: 1989.0873\n",
      "Epoch 442/500\n",
      "20/20 [==============================] - 0s 5ms/step - loss: 181.3769 - val_loss: 1989.2747\n",
      "Epoch 443/500\n",
      "20/20 [==============================] - 0s 5ms/step - loss: 181.3757 - val_loss: 1989.4437\n",
      "Epoch 444/500\n",
      "20/20 [==============================] - 0s 5ms/step - loss: 181.3747 - val_loss: 1989.6000\n",
      "Epoch 445/500\n",
      "20/20 [==============================] - 0s 5ms/step - loss: 181.3737 - val_loss: 1989.7410\n",
      "Epoch 446/500\n",
      "20/20 [==============================] - 0s 4ms/step - loss: 181.3730 - val_loss: 1989.8715\n",
      "Epoch 447/500\n",
      "20/20 [==============================] - 0s 4ms/step - loss: 181.3723 - val_loss: 1989.9916\n",
      "Epoch 448/500\n",
      "20/20 [==============================] - 0s 4ms/step - loss: 181.3716 - val_loss: 1990.1008\n",
      "Epoch 449/500\n",
      "20/20 [==============================] - 0s 4ms/step - loss: 181.3710 - val_loss: 1990.2004\n",
      "Epoch 450/500\n",
      "20/20 [==============================] - 0s 8ms/step - loss: 181.3705 - val_loss: 1990.2930\n",
      "Epoch 451/500\n",
      "20/20 [==============================] - 0s 7ms/step - loss: 181.3701 - val_loss: 1990.3757\n",
      "Epoch 452/500\n",
      "20/20 [==============================] - 0s 5ms/step - loss: 181.3696 - val_loss: 1990.4524\n",
      "Epoch 453/500\n",
      "20/20 [==============================] - 0s 5ms/step - loss: 181.3692 - val_loss: 1990.5219\n",
      "Epoch 454/500\n",
      "20/20 [==============================] - 0s 5ms/step - loss: 181.3689 - val_loss: 1990.5863\n",
      "Epoch 455/500\n",
      "20/20 [==============================] - 0s 4ms/step - loss: 181.3686 - val_loss: 1990.6449\n",
      "Epoch 456/500\n",
      "20/20 [==============================] - 0s 4ms/step - loss: 181.3684 - val_loss: 1990.6976\n",
      "Epoch 457/500\n",
      "20/20 [==============================] - 0s 5ms/step - loss: 181.3680 - val_loss: 1990.7458\n",
      "Epoch 458/500\n",
      "20/20 [==============================] - 0s 4ms/step - loss: 181.3680 - val_loss: 1990.7906\n",
      "Epoch 459/500\n",
      "20/20 [==============================] - 0s 4ms/step - loss: 181.3678 - val_loss: 1990.8324\n",
      "Epoch 460/500\n",
      "20/20 [==============================] - 0s 4ms/step - loss: 181.3675 - val_loss: 1990.8689\n",
      "Epoch 461/500\n",
      "20/20 [==============================] - 0s 4ms/step - loss: 181.3674 - val_loss: 1990.9027\n",
      "Epoch 462/500\n",
      "20/20 [==============================] - 0s 5ms/step - loss: 181.3672 - val_loss: 1990.9340\n",
      "Epoch 463/500\n",
      "20/20 [==============================] - 0s 5ms/step - loss: 181.3671 - val_loss: 1990.9631\n",
      "Epoch 464/500\n",
      "20/20 [==============================] - 0s 5ms/step - loss: 181.3671 - val_loss: 1990.9893\n",
      "Epoch 465/500\n",
      "20/20 [==============================] - 0s 5ms/step - loss: 181.3670 - val_loss: 1991.0131\n",
      "Epoch 466/500\n",
      "20/20 [==============================] - 0s 5ms/step - loss: 181.3669 - val_loss: 1991.0352\n",
      "Epoch 467/500\n",
      "20/20 [==============================] - 0s 4ms/step - loss: 181.3668 - val_loss: 1991.0544\n",
      "Epoch 468/500\n",
      "20/20 [==============================] - 0s 5ms/step - loss: 181.3668 - val_loss: 1991.0729\n",
      "Epoch 469/500\n",
      "20/20 [==============================] - 0s 5ms/step - loss: 181.3667 - val_loss: 1991.0895\n",
      "Epoch 470/500\n",
      "20/20 [==============================] - 0s 5ms/step - loss: 181.3666 - val_loss: 1991.1029\n",
      "Epoch 471/500\n",
      "20/20 [==============================] - 0s 5ms/step - loss: 181.3666 - val_loss: 1991.1172\n",
      "Epoch 472/500\n",
      "20/20 [==============================] - 0s 4ms/step - loss: 181.3666 - val_loss: 1991.1292\n",
      "Epoch 473/500\n",
      "20/20 [==============================] - 0s 8ms/step - loss: 181.3666 - val_loss: 1991.1410\n",
      "Epoch 474/500\n",
      "20/20 [==============================] - 0s 7ms/step - loss: 181.3665 - val_loss: 1991.1511\n",
      "Epoch 475/500\n",
      "20/20 [==============================] - 0s 5ms/step - loss: 181.3665 - val_loss: 1991.1595\n",
      "Epoch 476/500\n",
      "20/20 [==============================] - 0s 5ms/step - loss: 181.3665 - val_loss: 1991.1696\n",
      "Epoch 477/500\n",
      "20/20 [==============================] - 0s 5ms/step - loss: 181.3665 - val_loss: 1991.1761\n",
      "Epoch 478/500\n",
      "20/20 [==============================] - 0s 5ms/step - loss: 181.3666 - val_loss: 1991.1840\n",
      "Epoch 479/500\n",
      "20/20 [==============================] - 0s 4ms/step - loss: 181.3665 - val_loss: 1991.1895\n",
      "Epoch 480/500\n",
      "20/20 [==============================] - 0s 5ms/step - loss: 181.3666 - val_loss: 1991.1957\n",
      "Epoch 481/500\n",
      "20/20 [==============================] - 0s 4ms/step - loss: 181.3666 - val_loss: 1991.2019\n",
      "Epoch 482/500\n",
      "20/20 [==============================] - 0s 4ms/step - loss: 181.3666 - val_loss: 1991.2054\n",
      "Epoch 483/500\n",
      "20/20 [==============================] - 0s 4ms/step - loss: 181.3666 - val_loss: 1991.2113\n",
      "Epoch 484/500\n",
      "20/20 [==============================] - 0s 4ms/step - loss: 181.3667 - val_loss: 1991.2170\n",
      "Epoch 485/500\n",
      "20/20 [==============================] - 0s 4ms/step - loss: 181.3666 - val_loss: 1991.2207\n",
      "Epoch 486/500\n",
      "20/20 [==============================] - 0s 4ms/step - loss: 181.3667 - val_loss: 1991.2252\n",
      "Epoch 487/500\n",
      "20/20 [==============================] - 0s 5ms/step - loss: 181.3667 - val_loss: 1991.2285\n",
      "Epoch 488/500\n",
      "20/20 [==============================] - 0s 4ms/step - loss: 181.3667 - val_loss: 1991.2322\n",
      "Epoch 489/500\n",
      "20/20 [==============================] - 0s 5ms/step - loss: 181.3667 - val_loss: 1991.2347\n",
      "Epoch 490/500\n",
      "20/20 [==============================] - 0s 5ms/step - loss: 181.3667 - val_loss: 1991.2371\n",
      "Epoch 491/500\n",
      "20/20 [==============================] - 0s 4ms/step - loss: 181.3668 - val_loss: 1991.2395\n",
      "Epoch 492/500\n",
      "20/20 [==============================] - 0s 5ms/step - loss: 181.3668 - val_loss: 1991.2422\n",
      "Epoch 493/500\n",
      "20/20 [==============================] - 0s 4ms/step - loss: 181.3668 - val_loss: 1991.2429\n",
      "Epoch 494/500\n",
      "20/20 [==============================] - 0s 11ms/step - loss: 181.3668 - val_loss: 1991.2445\n",
      "Epoch 495/500\n",
      "20/20 [==============================] - 0s 6ms/step - loss: 181.3668 - val_loss: 1991.2463\n",
      "Epoch 496/500\n",
      "20/20 [==============================] - 0s 5ms/step - loss: 181.3668 - val_loss: 1991.2493\n",
      "Epoch 497/500\n",
      "20/20 [==============================] - 0s 5ms/step - loss: 181.3668 - val_loss: 1991.2504\n",
      "Epoch 498/500\n",
      "20/20 [==============================] - 0s 5ms/step - loss: 181.3670 - val_loss: 1991.2513\n",
      "Epoch 499/500\n",
      "20/20 [==============================] - 0s 5ms/step - loss: 181.3669 - val_loss: 1991.2526\n",
      "Epoch 500/500\n",
      "20/20 [==============================] - 0s 4ms/step - loss: 181.3669 - val_loss: 1991.2527\n"
     ]
    }
   ],
   "source": [
    "C0 = tf.Variable(88.0403, name=\"C0\", trainable=True, dtype=tf.float32)\n",
    "K0 = tf.Variable(-0.0012, name=\"K0\", trainable=True, dtype=tf.float32)\n",
    "K1 = tf.Variable(-0.0001, name=\"K1\", trainable=True, dtype=tf.float32)\n",
    "a = tf.Variable(0.0000, name=\"a\", trainable=True, dtype=tf.float32)\n",
    "b = tf.Variable(0.0120, name=\"b\", trainable=True, dtype=tf.float32)\n",
    "c = tf.Variable(2.0334, name=\"c\", trainable=True, dtype=tf.float32)\n",
    "\n",
    "splitr = 0.8\n",
    "\n",
    "\n",
    "def loss_fn(y_true, y_pred):\n",
    "    squared_difference = tf.square(y_true[:, 0] - y_pred[:, 0])\n",
    "    #squared_difference2 = tf.square(y_true[:, 2]-y_pred[:, 2])\n",
    "    #squared_difference1 = tf.square(y_true[:, 1]-y_pred[:, 1])\n",
    "    epsilon = 1\n",
    "    squared_difference3 = tf.square(\n",
    "        y_pred[:, 1] - (\n",
    "            y_pred[:, 0] * (\n",
    "                K0 - K1 * (\n",
    "                    9 * a * tf.math.log((y_pred[:, 0] + epsilon) / C0) / (K0 - K1 * c)**2 +\n",
    "                    4 * b * tf.math.log((y_pred[:, 0] + epsilon) / C0) / (K0 - K1 * c) + c\n",
    "                )\n",
    "            )\n",
    "        )\n",
    "    )\n",
    "    return tf.reduce_mean(squared_difference, axis=-1) + 0.2*tf.reduce_mean(squared_difference3, axis=-1)\n",
    "model = Sequential()\n",
    "model.add(LSTM(100, input_shape=(trainX.shape[1], trainX.shape[2])))\n",
    "model.add(Dense(60))\n",
    "model.compile(loss=loss_fn, optimizer='adam')\n",
    "history = model.fit(trainX[:int(splitr*trainX.shape[0])], trainy[:int(splitr*trainX.shape[0])], epochs=500, batch_size=64, validation_data=(trainX[int(splitr*trainX.shape[0]):trainX.shape[0]], trainy[int(splitr*trainX.shape[0]):trainX.shape[0]]), shuffle=False)"
   ]
  },
  {
   "cell_type": "code",
   "execution_count": 19,
   "metadata": {
    "colab": {
     "base_uri": "https://localhost:8080/"
    },
    "id": "yJL101rPyuoT",
    "outputId": "239ff2b1-c186-423a-d316-939dfdd7c793"
   },
   "outputs": [
    {
     "name": "stdout",
     "output_type": "stream",
     "text": [
      "1/1 [==============================] - 0s 409ms/step\n"
     ]
    }
   ],
   "source": [
    "forecast_without_mc = forecastX\n",
    "yhat_without_mc = model.predict(forecast_without_mc) # Step Ahead Prediction\n",
    "forecast_without_mc = forecast_without_mc.reshape((forecast_without_mc.shape[0], forecast_without_mc.shape[2])) # Historical Input"
   ]
  },
  {
   "cell_type": "code",
   "execution_count": 20,
   "metadata": {
    "colab": {
     "base_uri": "https://localhost:8080/"
    },
    "id": "g9dQELcJ8wbp",
    "outputId": "4dc7671b-b1a8-48d5-8744-a86f98446109"
   },
   "outputs": [
    {
     "data": {
      "text/plain": [
       "(1, 1, 251)"
      ]
     },
     "execution_count": 20,
     "metadata": {},
     "output_type": "execute_result"
    }
   ],
   "source": [
    "forecastX.shape"
   ]
  },
  {
   "cell_type": "code",
   "execution_count": 21,
   "metadata": {
    "colab": {
     "base_uri": "https://localhost:8080/"
    },
    "id": "IS2kyIKG1Kbr",
    "outputId": "f31b3485-8e26-452f-9298-ea8bf7e80ad1"
   },
   "outputs": [
    {
     "data": {
      "text/plain": [
       "(1, 251)"
      ]
     },
     "execution_count": 21,
     "metadata": {},
     "output_type": "execute_result"
    }
   ],
   "source": [
    "forecast_without_mc.shape"
   ]
  },
  {
   "cell_type": "code",
   "execution_count": 22,
   "metadata": {
    "id": "0u6VIzaDyuoT"
   },
   "outputs": [],
   "source": [
    "inv_yhat_without_mc = np.concatenate((forecast_without_mc, yhat_without_mc), axis=1) # Concatenation of predicted values with Historical Data\n",
    "#inv_yhat_without_mc = scaler.inverse_transform(inv_yhat_without_mc) # Transform labels back to original encoding"
   ]
  },
  {
   "cell_type": "code",
   "execution_count": 23,
   "metadata": {
    "colab": {
     "base_uri": "https://localhost:8080/"
    },
    "id": "EUEcw0LX07oU",
    "outputId": "cfc32397-9c37-4b43-d087-584bb31c3dcc"
   },
   "outputs": [
    {
     "data": {
      "text/plain": [
       "(1, 311)"
      ]
     },
     "execution_count": 23,
     "metadata": {},
     "output_type": "execute_result"
    }
   ],
   "source": [
    "inv_yhat_without_mc.shape"
   ]
  },
  {
   "cell_type": "code",
   "execution_count": 24,
   "metadata": {
    "id": "31OWVbSh_305"
   },
   "outputs": [],
   "source": [
    "fforecast = inv_yhat_without_mc[:,-300:]"
   ]
  },
  {
   "cell_type": "code",
   "execution_count": 25,
   "metadata": {},
   "outputs": [
    {
     "data": {
      "text/plain": [
       "(1, 300)"
      ]
     },
     "execution_count": 25,
     "metadata": {},
     "output_type": "execute_result"
    }
   ],
   "source": [
    "fforecast.shape"
   ]
  },
  {
   "cell_type": "code",
   "execution_count": 26,
   "metadata": {
    "id": "BlpGH2FOAiRF"
   },
   "outputs": [],
   "source": [
    "final_forecast = fforecast[:,0:300:3]"
   ]
  },
  {
   "cell_type": "code",
   "execution_count": 27,
   "metadata": {},
   "outputs": [
    {
     "data": {
      "text/plain": [
       "(1, 300)"
      ]
     },
     "execution_count": 27,
     "metadata": {},
     "output_type": "execute_result"
    }
   ],
   "source": [
    "fforecast.shape"
   ]
  },
  {
   "cell_type": "code",
   "execution_count": 28,
   "metadata": {
    "id": "CXkgkj_LBk_t"
   },
   "outputs": [],
   "source": [
    "# code to replace all negative value with 0\n",
    "final_forecast[final_forecast<0] = 0"
   ]
  },
  {
   "cell_type": "code",
   "execution_count": 29,
   "metadata": {},
   "outputs": [
    {
     "data": {
      "text/plain": [
       "array([[7.64788982e+01, 7.61877684e+01, 7.59860878e+01, 7.57844071e+01,\n",
       "        7.54206314e+01, 0.00000000e+00, 0.00000000e+00, 1.08811498e+00,\n",
       "        0.00000000e+00, 2.75084823e-01, 0.00000000e+00, 9.49467063e-01,\n",
       "        0.00000000e+00, 7.44584641e+01, 7.44366153e+01, 7.44147666e+01,\n",
       "        7.43929178e+01, 7.43710691e+01, 7.80586134e+01, 7.77786181e+01,\n",
       "        7.73752568e+01, 7.69718954e+01, 7.65685341e+01, 7.62325864e+01,\n",
       "        7.60309057e+01, 7.58292250e+01, 7.56275443e+01, 3.10590327e-01,\n",
       "        1.07672811e-01, 7.67328665e+01, 7.63295051e+01, 7.61130719e+01,\n",
       "        7.59113912e+01, 7.57097105e+01, 7.55080299e+01, 7.52724603e+01,\n",
       "        7.50354855e+01, 7.47985107e+01, 3.82775307e-01, 0.00000000e+00,\n",
       "        0.00000000e+00, 0.00000000e+00, 0.00000000e+00, 0.00000000e+00,\n",
       "        5.13238549e-01, 0.00000000e+00, 5.85591793e-01, 7.58740430e+01,\n",
       "        7.56723623e+01, 9.74150002e-01, 1.19662857e+00, 7.68225023e+01,\n",
       "        7.64191410e+01, 7.61578898e+01, 7.59562092e+01, 7.57545285e+01,\n",
       "        7.55528478e+01, 7.53251214e+01, 7.50881466e+01, 7.48511718e+01,\n",
       "        0.00000000e+00, 1.30534396e-01, 7.58366947e+01, 7.56350140e+01,\n",
       "        7.54216667e+01, 7.51846919e+01, 7.49477171e+01, 7.47107423e+01,\n",
       "        7.45361485e+01, 7.44706022e+01, 7.44040560e+01, 0.00000000e+00,\n",
       "        4.63116820e-01, 5.43902092e+01, 2.91360497e-01, 1.08286309e+00,\n",
       "        0.00000000e+00, 0.00000000e+00, 0.00000000e+00, 3.91354490e-02,\n",
       "        7.38344498e+01, 1.34486228e-01, 0.00000000e+00, 0.00000000e+00,\n",
       "        4.73844409e-01, 0.00000000e+00, 0.00000000e+00, 0.00000000e+00,\n",
       "        4.74834770e-01, 0.00000000e+00, 4.94680226e-01, 0.00000000e+00,\n",
       "        0.00000000e+00, 3.33389997e-01, 3.08715791e-01, 0.00000000e+00,\n",
       "        0.00000000e+00, 0.00000000e+00, 5.74664056e-01, 0.00000000e+00]])"
      ]
     },
     "execution_count": 29,
     "metadata": {},
     "output_type": "execute_result"
    }
   ],
   "source": [
    "final_forecast"
   ]
  },
  {
   "cell_type": "code",
   "execution_count": 30,
   "metadata": {},
   "outputs": [
    {
     "data": {
      "text/plain": [
       "(1, 100)"
      ]
     },
     "execution_count": 30,
     "metadata": {},
     "output_type": "execute_result"
    }
   ],
   "source": [
    "final_forecast.shape"
   ]
  },
  {
   "cell_type": "code",
   "execution_count": 31,
   "metadata": {},
   "outputs": [
    {
     "data": {
      "text/plain": [
       "(100,)"
      ]
     },
     "execution_count": 31,
     "metadata": {},
     "output_type": "execute_result"
    }
   ],
   "source": [
    "test.shape"
   ]
  },
  {
   "cell_type": "code",
   "execution_count": 32,
   "metadata": {},
   "outputs": [],
   "source": [
    "training_set = np.array(training_set)\n",
    "test = np.array(test)\n",
    "final_forecast = np.array(final_forecast.squeeze(0))"
   ]
  },
  {
   "cell_type": "code",
   "execution_count": 33,
   "metadata": {},
   "outputs": [
    {
     "data": {
      "text/plain": [
       "array([69.72662232, 69.72148693, 69.71635154, 69.71121615, 69.70608077,\n",
       "       69.70094538, 69.69580999, 69.6906746 , 69.68553922, 69.68040383,\n",
       "       69.67526844, 69.67013305, 69.66499767, 69.65986228, 69.65472689,\n",
       "       69.6495915 , 69.64445612, 69.63932073, 69.63418534, 69.62904995,\n",
       "       69.62391457, 69.61877918, 69.61364379, 69.6085084 , 69.60337302,\n",
       "       69.59823763, 69.59310224, 69.58796685, 69.58283147, 69.57769608,\n",
       "       69.57256069, 69.5674253 , 69.56228992, 69.55715453, 69.55201914,\n",
       "       69.54688375, 69.54174837, 69.53661298, 69.53147759, 69.5263422 ,\n",
       "       69.52120682, 69.51607143, 69.51093604, 69.50580065, 69.50066527,\n",
       "       69.49552988, 69.49039449, 69.4852591 , 69.48012372, 69.47498833,\n",
       "       69.46985294, 69.46471755, 69.45958217, 69.45444678, 69.44931139,\n",
       "       69.444176  , 69.43904062, 69.43390523, 69.42876984, 69.42363445,\n",
       "       69.41849907, 69.41336368, 69.40822829, 69.4030929 , 69.39795752,\n",
       "       69.39282213, 69.38768674, 69.38255135, 69.37741597, 69.37228058,\n",
       "       69.36714519, 69.3620098 , 69.35687442, 69.35173903, 69.34660364,\n",
       "       69.34146825, 69.33633287, 69.33119748, 69.32606209, 69.3209267 ,\n",
       "       69.31579132, 69.31065593, 69.30552054, 69.30038515, 69.29418597,\n",
       "       69.28790053, 69.28161509, 69.27532964, 69.2690442 , 69.26275876,\n",
       "       69.25647332, 69.25018788, 69.24390244, 69.237617  , 69.23133156,\n",
       "       69.22504612, 69.21876068, 69.21247523, 69.20618979, 69.19990435])"
      ]
     },
     "execution_count": 33,
     "metadata": {},
     "output_type": "execute_result"
    }
   ],
   "source": [
    "test"
   ]
  },
  {
   "cell_type": "code",
   "execution_count": 34,
   "metadata": {},
   "outputs": [
    {
     "data": {
      "text/plain": [
       "(100,)"
      ]
     },
     "execution_count": 34,
     "metadata": {},
     "output_type": "execute_result"
    }
   ],
   "source": [
    "test.shape"
   ]
  },
  {
   "cell_type": "code",
   "execution_count": 35,
   "metadata": {},
   "outputs": [
    {
     "data": {
      "text/plain": [
       "(100,)"
      ]
     },
     "execution_count": 35,
     "metadata": {},
     "output_type": "execute_result"
    }
   ],
   "source": [
    "final_forecast.shape"
   ]
  },
  {
   "cell_type": "code",
   "execution_count": 36,
   "metadata": {},
   "outputs": [
    {
     "data": {
      "text/plain": [
       "(100,)"
      ]
     },
     "execution_count": 36,
     "metadata": {},
     "output_type": "execute_result"
    }
   ],
   "source": [
    "test.shape"
   ]
  },
  {
   "cell_type": "code",
   "execution_count": 37,
   "metadata": {},
   "outputs": [
    {
     "name": "stdout",
     "output_type": "stream",
     "text": [
      "49.13708400091257\n",
      "37.73513792713743\n"
     ]
    }
   ],
   "source": [
    "import math\n",
    "MSE = np.square(np.subtract(np.array(test),np.array(final_forecast))).mean()   \n",
    "rsme = math.sqrt(MSE)\n",
    "print(rsme)  \n",
    "MAE = np.abs(np.subtract(np.array(test),np.array(final_forecast))).mean()   \n",
    "mae = MAE\n",
    "print(mae)"
   ]
  }
 ],
 "metadata": {
  "colab": {
   "provenance": []
  },
  "kernelspec": {
   "display_name": "Python 3",
   "language": "python",
   "name": "python3"
  },
  "language_info": {
   "codemirror_mode": {
    "name": "ipython",
    "version": 3
   },
   "file_extension": ".py",
   "mimetype": "text/x-python",
   "name": "python",
   "nbconvert_exporter": "python",
   "pygments_lexer": "ipython3",
   "version": "3.9.13"
  }
 },
 "nbformat": 4,
 "nbformat_minor": 0
}
