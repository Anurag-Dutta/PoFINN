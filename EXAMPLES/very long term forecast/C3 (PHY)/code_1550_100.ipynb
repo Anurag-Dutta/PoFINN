{
 "cells": [
  {
   "cell_type": "markdown",
   "metadata": {
    "id": "pCGKeZ2gyuoQ"
   },
   "source": [
    "_Importing Required Libraries_"
   ]
  },
  {
   "cell_type": "code",
   "execution_count": 1,
   "metadata": {
    "colab": {
     "base_uri": "https://localhost:8080/"
    },
    "id": "A-6LN-zXiLcM",
    "outputId": "4de610a4-f8b8-4f49-c6c0-89de299ccedc"
   },
   "outputs": [
    {
     "name": "stdout",
     "output_type": "stream",
     "text": [
      "Requirement already satisfied: hampel in c:\\users\\anurag dutta\\appdata\\local\\packages\\pythonsoftwarefoundation.python.3.9_qbz5n2kfra8p0\\localcache\\local-packages\\python39\\site-packages (0.0.5)\n",
      "Requirement already satisfied: numpy in c:\\users\\anurag dutta\\appdata\\local\\packages\\pythonsoftwarefoundation.python.3.9_qbz5n2kfra8p0\\localcache\\local-packages\\python39\\site-packages (from hampel) (1.26.4)\n",
      "Requirement already satisfied: pandas in c:\\users\\anurag dutta\\appdata\\local\\packages\\pythonsoftwarefoundation.python.3.9_qbz5n2kfra8p0\\localcache\\local-packages\\python39\\site-packages (from hampel) (1.5.2)\n",
      "Requirement already satisfied: python-dateutil>=2.8.1 in c:\\users\\anurag dutta\\appdata\\local\\packages\\pythonsoftwarefoundation.python.3.9_qbz5n2kfra8p0\\localcache\\local-packages\\python39\\site-packages (from pandas->hampel) (2.8.2)\n",
      "Requirement already satisfied: pytz>=2020.1 in c:\\users\\anurag dutta\\appdata\\local\\packages\\pythonsoftwarefoundation.python.3.9_qbz5n2kfra8p0\\localcache\\local-packages\\python39\\site-packages (from pandas->hampel) (2023.3.post1)\n",
      "Requirement already satisfied: six>=1.5 in c:\\users\\anurag dutta\\appdata\\local\\packages\\pythonsoftwarefoundation.python.3.9_qbz5n2kfra8p0\\localcache\\local-packages\\python39\\site-packages (from python-dateutil>=2.8.1->pandas->hampel) (1.16.0)\n",
      "Note: you may need to restart the kernel to use updated packages.\n"
     ]
    },
    {
     "name": "stderr",
     "output_type": "stream",
     "text": [
      "\n",
      "[notice] A new release of pip is available: 24.2 -> 24.3.1\n",
      "[notice] To update, run: C:\\Users\\Anurag Dutta\\AppData\\Local\\Microsoft\\WindowsApps\\PythonSoftwareFoundation.Python.3.9_qbz5n2kfra8p0\\python.exe -m pip install --upgrade pip\n"
     ]
    }
   ],
   "source": [
    "pip install hampel"
   ]
  },
  {
   "cell_type": "code",
   "execution_count": 2,
   "metadata": {
    "id": "By_d9uXpaFvZ"
   },
   "outputs": [],
   "source": [
    "from keras.models import Sequential\n",
    "from keras.layers import Dense\n",
    "from keras.layers import LSTM\n",
    "from keras.layers import Dropout\n",
    "import keras\n",
    "import tensorflow as tf\n",
    "from hampel import hampel\n",
    "import numpy as np\n",
    "import matplotlib.pyplot as plt\n",
    "import pandas as pd\n",
    "from sklearn.preprocessing import MinMaxScaler\n",
    "from sklearn.metrics import mean_squared_error, mean_absolute_error\n",
    "from math import sqrt\n",
    "from matplotlib import pyplot\n",
    "from numpy import array"
   ]
  },
  {
   "cell_type": "markdown",
   "metadata": {
    "id": "JyOjBMFayuoR"
   },
   "source": [
    "## Pretraining"
   ]
  },
  {
   "cell_type": "markdown",
   "metadata": {
    "id": "-5QqIY_GyuoR"
   },
   "source": [
    "The `capa_intermittency.dat` feeds the model with the dynamics of the Capacitor"
   ]
  },
  {
   "cell_type": "code",
   "execution_count": 3,
   "metadata": {
    "id": "9dV4a8yfyuoR"
   },
   "outputs": [],
   "source": [
    "data = np.genfromtxt('capa_intermittency.dat')\n",
    "training_set = pd.DataFrame(data).reset_index(drop=True)\n",
    "training_set = training_set.iloc[:,0]"
   ]
  },
  {
   "cell_type": "markdown",
   "metadata": {
    "id": "i7easoxByuoR"
   },
   "source": [
    "## Computing the Gradient"
   ]
  },
  {
   "cell_type": "markdown",
   "metadata": {
    "id": "5SnyolJTyuoR"
   },
   "source": [
    "_Calculating the value of_ $\\frac{dx}{dt}$"
   ]
  },
  {
   "cell_type": "code",
   "execution_count": 4,
   "metadata": {
    "colab": {
     "base_uri": "https://localhost:8080/"
    },
    "id": "wmIbVfIvyuoR",
    "outputId": "aa4e3136-c854-465d-d2e9-81cfd546e440"
   },
   "outputs": [
    {
     "name": "stdout",
     "output_type": "stream",
     "text": [
      "1.0\n",
      "1        0.000298\n",
      "2        0.000298\n",
      "3        0.000297\n",
      "4        0.000297\n",
      "5        0.000297\n",
      "           ...   \n",
      "9996     0.000018\n",
      "9997     0.000018\n",
      "9998     0.000018\n",
      "9999     0.000018\n",
      "10000    0.000018\n",
      "Name: 0, Length: 10000, dtype: float64\n"
     ]
    }
   ],
   "source": [
    "t_diff = 1\n",
    "print(training_set.max())\n",
    "gradient_t = (training_set.diff()/t_diff).iloc[1:] # dx/dt\n",
    "print(gradient_t)"
   ]
  },
  {
   "cell_type": "markdown",
   "metadata": {
    "id": "_2eVeeoxyuoS"
   },
   "source": [
    "## Loading Datasets"
   ]
  },
  {
   "cell_type": "code",
   "execution_count": 5,
   "metadata": {
    "id": "0J-NKyIEyuoS"
   },
   "outputs": [
    {
     "data": {
      "text/plain": [
       "0       91.100000\n",
       "1       90.875910\n",
       "2       90.651821\n",
       "3       90.427731\n",
       "4       90.203641\n",
       "          ...    \n",
       "1645    71.755719\n",
       "1646    71.754785\n",
       "1647    71.753852\n",
       "1648    71.752918\n",
       "1649    71.751984\n",
       "Name: C3, Length: 1650, dtype: float64"
      ]
     },
     "execution_count": 5,
     "metadata": {},
     "output_type": "execute_result"
    }
   ],
   "source": [
    "data = pd.read_csv(\"c3_interpolated_1550_100.csv\")\n",
    "training_set = data.iloc[:, 1]\n",
    "training_set"
   ]
  },
  {
   "cell_type": "code",
   "execution_count": 6,
   "metadata": {
    "colab": {
     "base_uri": "https://localhost:8080/"
    },
    "id": "-CbNUhJ74UqF",
    "outputId": "20f562d8-8247-49cc-b9c3-00eca5e13e2d"
   },
   "outputs": [
    {
     "data": {
      "text/plain": [
       "0       91.100000\n",
       "1       90.875910\n",
       "2       90.651821\n",
       "3       90.427731\n",
       "4       90.203641\n",
       "          ...    \n",
       "1545     0.000000\n",
       "1546     0.242449\n",
       "1547     0.000000\n",
       "1548     0.000000\n",
       "1549     0.000000\n",
       "Name: C3, Length: 1550, dtype: float64"
      ]
     },
     "execution_count": 6,
     "metadata": {},
     "output_type": "execute_result"
    }
   ],
   "source": [
    "test = training_set.tail(100)\n",
    "test\n",
    "training_set = training_set.head(1550)\n",
    "training_set"
   ]
  },
  {
   "cell_type": "code",
   "execution_count": 7,
   "metadata": {
    "colab": {
     "base_uri": "https://localhost:8080/"
    },
    "id": "X0TwTcq0yuoS",
    "outputId": "37252ed8-d88e-4044-fa7a-922411990b5b"
   },
   "outputs": [
    {
     "name": "stdout",
     "output_type": "stream",
     "text": [
      "0       0.000298\n",
      "1       0.000298\n",
      "2       0.000297\n",
      "3       0.000297\n",
      "4       0.000297\n",
      "          ...   \n",
      "9995    0.000018\n",
      "9996    0.000018\n",
      "9997    0.000018\n",
      "9998    0.000018\n",
      "9999    0.000018\n",
      "Name: 0, Length: 10000, dtype: float64\n"
     ]
    }
   ],
   "source": [
    "training_set = training_set.reset_index(drop=True)\n",
    "gradient_t = gradient_t.reset_index(drop=True)\n",
    "print(gradient_t)"
   ]
  },
  {
   "cell_type": "code",
   "execution_count": 8,
   "metadata": {
    "id": "O2biznZQyuoS"
   },
   "outputs": [],
   "source": [
    "df = pd.concat((training_set, gradient_t), axis=1)\n",
    "df.columns = ['y_t', 'grad_t']"
   ]
  },
  {
   "cell_type": "code",
   "execution_count": 9,
   "metadata": {
    "colab": {
     "base_uri": "https://localhost:8080/",
     "height": 423
    },
    "id": "sk_a5v3tyuoS",
    "outputId": "17563625-e550-45ae-faab-fafa353e44da"
   },
   "outputs": [
    {
     "data": {
      "text/html": [
       "<div>\n",
       "<style scoped>\n",
       "    .dataframe tbody tr th:only-of-type {\n",
       "        vertical-align: middle;\n",
       "    }\n",
       "\n",
       "    .dataframe tbody tr th {\n",
       "        vertical-align: top;\n",
       "    }\n",
       "\n",
       "    .dataframe thead th {\n",
       "        text-align: right;\n",
       "    }\n",
       "</style>\n",
       "<table border=\"1\" class=\"dataframe\">\n",
       "  <thead>\n",
       "    <tr style=\"text-align: right;\">\n",
       "      <th></th>\n",
       "      <th>y_t</th>\n",
       "      <th>grad_t</th>\n",
       "    </tr>\n",
       "  </thead>\n",
       "  <tbody>\n",
       "    <tr>\n",
       "      <th>0</th>\n",
       "      <td>91.100000</td>\n",
       "      <td>0.000298</td>\n",
       "    </tr>\n",
       "    <tr>\n",
       "      <th>1</th>\n",
       "      <td>90.875910</td>\n",
       "      <td>0.000298</td>\n",
       "    </tr>\n",
       "    <tr>\n",
       "      <th>2</th>\n",
       "      <td>90.651821</td>\n",
       "      <td>0.000297</td>\n",
       "    </tr>\n",
       "    <tr>\n",
       "      <th>3</th>\n",
       "      <td>90.427731</td>\n",
       "      <td>0.000297</td>\n",
       "    </tr>\n",
       "    <tr>\n",
       "      <th>4</th>\n",
       "      <td>90.203641</td>\n",
       "      <td>0.000297</td>\n",
       "    </tr>\n",
       "    <tr>\n",
       "      <th>...</th>\n",
       "      <td>...</td>\n",
       "      <td>...</td>\n",
       "    </tr>\n",
       "    <tr>\n",
       "      <th>9995</th>\n",
       "      <td>NaN</td>\n",
       "      <td>0.000018</td>\n",
       "    </tr>\n",
       "    <tr>\n",
       "      <th>9996</th>\n",
       "      <td>NaN</td>\n",
       "      <td>0.000018</td>\n",
       "    </tr>\n",
       "    <tr>\n",
       "      <th>9997</th>\n",
       "      <td>NaN</td>\n",
       "      <td>0.000018</td>\n",
       "    </tr>\n",
       "    <tr>\n",
       "      <th>9998</th>\n",
       "      <td>NaN</td>\n",
       "      <td>0.000018</td>\n",
       "    </tr>\n",
       "    <tr>\n",
       "      <th>9999</th>\n",
       "      <td>NaN</td>\n",
       "      <td>0.000018</td>\n",
       "    </tr>\n",
       "  </tbody>\n",
       "</table>\n",
       "<p>10000 rows × 2 columns</p>\n",
       "</div>"
      ],
      "text/plain": [
       "            y_t    grad_t\n",
       "0     91.100000  0.000298\n",
       "1     90.875910  0.000298\n",
       "2     90.651821  0.000297\n",
       "3     90.427731  0.000297\n",
       "4     90.203641  0.000297\n",
       "...         ...       ...\n",
       "9995        NaN  0.000018\n",
       "9996        NaN  0.000018\n",
       "9997        NaN  0.000018\n",
       "9998        NaN  0.000018\n",
       "9999        NaN  0.000018\n",
       "\n",
       "[10000 rows x 2 columns]"
      ]
     },
     "execution_count": 9,
     "metadata": {},
     "output_type": "execute_result"
    }
   ],
   "source": [
    "df"
   ]
  },
  {
   "cell_type": "markdown",
   "metadata": {
    "id": "-5esyHu5aFvg"
   },
   "source": [
    "## Plot of the External Forcing from Chaotic Differential Equation"
   ]
  },
  {
   "cell_type": "code",
   "execution_count": 10,
   "metadata": {
    "colab": {
     "base_uri": "https://localhost:8080/",
     "height": 447
    },
    "id": "hGnE43tOh-4p",
    "outputId": "fc396503-b624-4fa5-dfbe-f460207405c6"
   },
   "outputs": [
    {
     "data": {
      "text/plain": [
       "<Axes: >"
      ]
     },
     "execution_count": 10,
     "metadata": {},
     "output_type": "execute_result"
    },
    {
     "data": {
      "image/png": "[encoded data removed]",
      "text/plain": [
       "<Figure size 432x288 with 1 Axes>"
      ]
     },
     "metadata": {
      "needs_background": "light"
     },
     "output_type": "display_data"
    }
   ],
   "source": [
    "df.iloc[:, 0].plot()"
   ]
  },
  {
   "cell_type": "code",
   "execution_count": 11,
   "metadata": {
    "colab": {
     "base_uri": "https://localhost:8080/",
     "height": 447
    },
    "id": "ym4xWUUxaFvg",
    "outputId": "ae6a3495-8ce9-437e-ba81-3ed31deedeae"
   },
   "outputs": [
    {
     "name": "stderr",
     "output_type": "stream",
     "text": [
      "C:\\Users\\Anurag Dutta\\AppData\\Local\\Packages\\PythonSoftwareFoundation.Python.3.9_qbz5n2kfra8p0\\LocalCache\\local-packages\\Python39\\site-packages\\pandas\\core\\arraylike.py:402: RuntimeWarning: divide by zero encountered in log\n",
      "  result = getattr(ufunc, method)(*inputs, **kwargs)\n"
     ]
    },
    {
     "data": {
      "text/plain": [
       "<Axes: >"
      ]
     },
     "execution_count": 11,
     "metadata": {},
     "output_type": "execute_result"
    },
    {
     "data": {
      "image/png": "[encoded data removed]",
      "text/plain": [
       "<Figure size 432x288 with 1 Axes>"
      ]
     },
     "metadata": {
      "needs_background": "light"
     },
     "output_type": "display_data"
    }
   ],
   "source": [
    "import numpy as np\n",
    "c0 = 88.0403  # Value for C0\n",
    "K0 = -0.0012  # Value for K0\n",
    "K1 = -0.0001  # Value for K1\n",
    "a = 0.0000    # Value for a\n",
    "b = 0.0120    # Value for b\n",
    "c = 2.0334    # Value for c\n",
    "\n",
    "L = np.minimum(c0, (df.iloc[:, 1] - (df.iloc[:, 0] * (K0 - K1 * (9 * a * np.log(df.iloc[:, 0] / c0) / (K0 - K1 * c)**2 + 4 * b * np.log(df.iloc[:, 0] / c0) / (K0 - K1 * c) + c)))))\n",
    "L.plot()"
   ]
  },
  {
   "cell_type": "markdown",
   "metadata": {
    "id": "9VyEywnwaFvh"
   },
   "source": [
    "## Preprocessing the data into supervised learning"
   ]
  },
  {
   "cell_type": "code",
   "execution_count": 12,
   "metadata": {
    "id": "6V9dXqzdaFvh"
   },
   "outputs": [],
   "source": [
    "# split a sequence into samples\n",
    "def Supervised(data, n_in=1, n_out=1, dropnan=True):\n",
    "    n_vars = 1 if type(data) is list else data.shape[1]\n",
    "    df = pd.DataFrame(data)\n",
    "    cols, names = list(), list()\n",
    "    # input sequence (t-n_in, ... t-1)\n",
    "    for i in range(n_in, 0, -1):\n",
    "        cols.append(df.shift(i))\n",
    "        names += [('var%d(t-%d)' % (j+1, i)) for j in range(n_vars)]\n",
    "    # forecast sequence (t, t+1, ... t+n_out)\n",
    "    for i in range(0, n_out):\n",
    "      cols.append(df.shift(-i))\n",
    "      if i == 0:\n",
    "        names += [('var%d(t)' % (j+1)) for j in range(n_vars)]\n",
    "      else:\n",
    "        names += [('var%d(t+%d)' % (j+1, i)) for j in range(n_vars)]\n",
    "    # put it all together\n",
    "    agg = pd.concat(cols, axis=1)\n",
    "    agg.columns = names\n",
    "    # drop rows with NaN values\n",
    "    if dropnan:\n",
    "       agg.dropna(inplace=True)\n",
    "    return agg"
   ]
  },
  {
   "cell_type": "code",
   "execution_count": 13,
   "metadata": {
    "colab": {
     "base_uri": "https://localhost:8080/"
    },
    "id": "CrzSrT1HnyfH",
    "outputId": "7e75f928-3e47-499d-eac1-51908015ef78"
   },
   "outputs": [
    {
     "name": "stdout",
     "output_type": "stream",
     "text": [
      "     var1(t-350)  var1(t-349)  var1(t-348)  var1(t-347)  var1(t-346)  \\\n",
      "350    91.100000    90.875910    90.651821    90.427731    90.203641   \n",
      "351    90.875910    90.651821    90.427731    90.203641    89.979552   \n",
      "352    90.651821    90.427731    90.203641    89.979552    89.755462   \n",
      "353    90.427731    90.203641    89.979552    89.755462    89.531373   \n",
      "354    90.203641    89.979552    89.755462    89.531373    89.307283   \n",
      "\n",
      "     var1(t-345)  var1(t-344)  var1(t-343)  var1(t-342)  var1(t-341)  ...  \\\n",
      "350    89.979552    89.755462    89.531373    89.307283    89.094118  ...   \n",
      "351    89.755462    89.531373    89.307283    89.094118    89.015686  ...   \n",
      "352    89.531373    89.307283    89.094118    89.015686    88.937255  ...   \n",
      "353    89.307283    89.094118    89.015686    88.937255    88.858824  ...   \n",
      "354    89.094118    89.015686    88.937255    88.858824    88.780392  ...   \n",
      "\n",
      "     var1(t+95)  var2(t+95)  var1(t+96)  var2(t+96)  var1(t+97)  var2(t+97)  \\\n",
      "350   81.423343    0.000263   81.404669    0.000263   81.385994    0.000263   \n",
      "351   81.404669    0.000263   81.385994    0.000263   81.367320    0.000262   \n",
      "352   81.385994    0.000263   81.367320    0.000262   81.348646    0.000262   \n",
      "353   81.367320    0.000262   81.348646    0.000262   81.329972    0.000262   \n",
      "354   81.348646    0.000262   81.329972    0.000262   81.311298    0.000262   \n",
      "\n",
      "     var1(t+98)  var2(t+98)  var1(t+99)  var2(t+99)  \n",
      "350   81.367320    0.000262   81.348646    0.000262  \n",
      "351   81.348646    0.000262   81.329972    0.000262  \n",
      "352   81.329972    0.000262   81.311298    0.000262  \n",
      "353   81.311298    0.000262   81.292624    0.000262  \n",
      "354   81.292624    0.000262   81.273950    0.000262  \n",
      "\n",
      "[5 rows x 551 columns]\n",
      "Index(['var1(t-350)', 'var1(t-349)', 'var1(t-348)', 'var1(t-347)',\n",
      "       'var1(t-346)', 'var1(t-345)', 'var1(t-344)', 'var1(t-343)',\n",
      "       'var1(t-342)', 'var1(t-341)',\n",
      "       ...\n",
      "       'var1(t+95)', 'var2(t+95)', 'var1(t+96)', 'var2(t+96)', 'var1(t+97)',\n",
      "       'var2(t+97)', 'var1(t+98)', 'var2(t+98)', 'var1(t+99)', 'var2(t+99)'],\n",
      "      dtype='object', length=551)\n"
     ]
    }
   ],
   "source": [
    "data = Supervised(df.values, n_in = 350, n_out = 100)\n",
    "\n",
    "\n",
    "cols_to_drop = []\n",
    "for i in range(2, 351):\n",
    "    cols_to_drop.extend([f'var2(t-{i})'])\n",
    "\n",
    "data.drop(cols_to_drop, axis=1, inplace=True)\n",
    "\n",
    "print(data.head())\n",
    "print(data.columns)"
   ]
  },
  {
   "cell_type": "code",
   "execution_count": 14,
   "metadata": {
    "id": "AfPf60oy6Pe4"
   },
   "outputs": [],
   "source": [
    "train = np.array(data[0:len(data)-1])\n",
    "forecast = np.array(data.tail(1))"
   ]
  },
  {
   "cell_type": "code",
   "execution_count": 15,
   "metadata": {
    "id": "WSAafzI37KiT"
   },
   "outputs": [],
   "source": [
    "trainy = train[:,-300:]\n",
    "trainX = train[:,:-300]"
   ]
  },
  {
   "cell_type": "code",
   "execution_count": 16,
   "metadata": {
    "id": "2SrOqVJA7f50"
   },
   "outputs": [],
   "source": [
    "forecasty = forecast[:,-300:]\n",
    "forecastX = forecast[:,:-300]"
   ]
  },
  {
   "cell_type": "code",
   "execution_count": 17,
   "metadata": {
    "colab": {
     "base_uri": "https://localhost:8080/"
    },
    "id": "Qno_k8Nw7saY",
    "outputId": "c4a88db5-d8c6-489f-cdb2-06b24e293cff"
   },
   "outputs": [
    {
     "name": "stdout",
     "output_type": "stream",
     "text": [
      "(1100, 1, 251) (1100, 300) (1, 1, 251)\n"
     ]
    }
   ],
   "source": [
    "trainX = trainX.reshape((trainX.shape[0], 1, trainX.shape[1]))\n",
    "forecastX = forecastX.reshape((forecastX.shape[0], 1, forecastX.shape[1]))\n",
    "print(trainX.shape, trainy.shape, forecastX.shape)"
   ]
  },
  {
   "cell_type": "code",
   "execution_count": 18,
   "metadata": {
    "colab": {
     "base_uri": "https://localhost:8080/"
    },
    "id": "b1Jp2DvNuNFx",
    "outputId": "d0e5b3c4-64f1-438c-eade-8dfeaac8e285"
   },
   "outputs": [
    {
     "name": "stdout",
     "output_type": "stream",
     "text": [
      "Epoch 1/500\n",
      "14/14 [==============================] - 2s 36ms/step - loss: 6012.9521 - val_loss: 4952.4990\n",
      "Epoch 2/500\n",
      "14/14 [==============================] - 0s 4ms/step - loss: 5935.2852 - val_loss: 4900.7148\n",
      "Epoch 3/500\n",
      "14/14 [==============================] - 0s 5ms/step - loss: 5871.9414 - val_loss: 4840.4629\n",
      "Epoch 4/500\n",
      "14/14 [==============================] - 0s 5ms/step - loss: 5805.6362 - val_loss: 4787.4570\n",
      "Epoch 5/500\n",
      "14/14 [==============================] - 0s 5ms/step - loss: 5744.7471 - val_loss: 4734.9331\n",
      "Epoch 6/500\n",
      "14/14 [==============================] - 0s 5ms/step - loss: 5684.4604 - val_loss: 4683.0039\n",
      "Epoch 7/500\n",
      "14/14 [==============================] - 0s 5ms/step - loss: 5624.7949 - val_loss: 4631.6333\n",
      "Epoch 8/500\n",
      "14/14 [==============================] - 0s 5ms/step - loss: 5565.7104 - val_loss: 4580.7856\n",
      "Epoch 9/500\n",
      "14/14 [==============================] - 0s 12ms/step - loss: 5507.1680 - val_loss: 4530.4336\n",
      "Epoch 10/500\n",
      "14/14 [==============================] - 0s 5ms/step - loss: 5449.1436 - val_loss: 4480.5596\n",
      "Epoch 11/500\n",
      "14/14 [==============================] - 0s 6ms/step - loss: 5391.6191 - val_loss: 4431.1504\n",
      "Epoch 12/500\n",
      "14/14 [==============================] - 0s 4ms/step - loss: 5334.5801 - val_loss: 4382.1953\n",
      "Epoch 13/500\n",
      "14/14 [==============================] - 0s 8ms/step - loss: 5278.0195 - val_loss: 4333.6870\n",
      "Epoch 14/500\n",
      "14/14 [==============================] - 0s 5ms/step - loss: 5221.9268 - val_loss: 4285.6201\n",
      "Epoch 15/500\n",
      "14/14 [==============================] - 0s 5ms/step - loss: 5166.2949 - val_loss: 4237.9868\n",
      "Epoch 16/500\n",
      "14/14 [==============================] - 0s 6ms/step - loss: 5111.1216 - val_loss: 4190.7832\n",
      "Epoch 17/500\n",
      "14/14 [==============================] - 0s 5ms/step - loss: 5056.3984 - val_loss: 4144.0049\n",
      "Epoch 18/500\n",
      "14/14 [==============================] - 0s 5ms/step - loss: 5002.1235 - val_loss: 4097.6479\n",
      "Epoch 19/500\n",
      "14/14 [==============================] - 0s 5ms/step - loss: 4948.2891 - val_loss: 4051.7090\n",
      "Epoch 20/500\n",
      "14/14 [==============================] - 0s 5ms/step - loss: 4894.8950 - val_loss: 4006.1843\n",
      "Epoch 21/500\n",
      "14/14 [==============================] - 0s 5ms/step - loss: 4841.9360 - val_loss: 3961.0701\n",
      "Epoch 22/500\n",
      "14/14 [==============================] - 0s 5ms/step - loss: 4789.4102 - val_loss: 3916.3635\n",
      "Epoch 23/500\n",
      "14/14 [==============================] - 0s 5ms/step - loss: 4737.3115 - val_loss: 3872.0623\n",
      "Epoch 24/500\n",
      "14/14 [==============================] - 0s 5ms/step - loss: 4685.6387 - val_loss: 3828.1619\n",
      "Epoch 25/500\n",
      "14/14 [==============================] - 0s 5ms/step - loss: 4634.3882 - val_loss: 3784.6604\n",
      "Epoch 26/500\n",
      "14/14 [==============================] - 0s 5ms/step - loss: 4583.5566 - val_loss: 3741.5552\n",
      "Epoch 27/500\n",
      "14/14 [==============================] - 0s 5ms/step - loss: 4533.1436 - val_loss: 3698.8433\n",
      "Epoch 28/500\n",
      "14/14 [==============================] - 0s 5ms/step - loss: 4483.1426 - val_loss: 3656.5212\n",
      "Epoch 29/500\n",
      "14/14 [==============================] - 0s 5ms/step - loss: 4433.5542 - val_loss: 3614.5881\n",
      "Epoch 30/500\n",
      "14/14 [==============================] - 0s 5ms/step - loss: 4384.3735 - val_loss: 3573.0398\n",
      "Epoch 31/500\n",
      "14/14 [==============================] - 0s 5ms/step - loss: 4335.5986 - val_loss: 3531.8748\n",
      "Epoch 32/500\n",
      "14/14 [==============================] - 0s 5ms/step - loss: 4287.2280 - val_loss: 3491.0898\n",
      "Epoch 33/500\n",
      "14/14 [==============================] - 0s 5ms/step - loss: 4239.2568 - val_loss: 3450.6833\n",
      "Epoch 34/500\n",
      "14/14 [==============================] - 0s 5ms/step - loss: 4191.6846 - val_loss: 3410.6514\n",
      "Epoch 35/500\n",
      "14/14 [==============================] - 0s 5ms/step - loss: 4144.5078 - val_loss: 3370.9932\n",
      "Epoch 36/500\n",
      "14/14 [==============================] - 0s 5ms/step - loss: 4097.7246 - val_loss: 3331.7056\n",
      "Epoch 37/500\n",
      "14/14 [==============================] - 0s 6ms/step - loss: 4051.3323 - val_loss: 3292.7864\n",
      "Epoch 38/500\n",
      "14/14 [==============================] - 0s 5ms/step - loss: 4005.3279 - val_loss: 3254.2327\n",
      "Epoch 39/500\n",
      "14/14 [==============================] - 0s 5ms/step - loss: 3959.7102 - val_loss: 3216.0435\n",
      "Epoch 40/500\n",
      "14/14 [==============================] - 0s 5ms/step - loss: 3914.4756 - val_loss: 3178.2156\n",
      "Epoch 41/500\n",
      "14/14 [==============================] - 0s 5ms/step - loss: 3869.6233 - val_loss: 3140.7461\n",
      "Epoch 42/500\n",
      "14/14 [==============================] - 0s 5ms/step - loss: 3825.1492 - val_loss: 3103.6340\n",
      "Epoch 43/500\n",
      "14/14 [==============================] - 0s 6ms/step - loss: 3781.0520 - val_loss: 3066.8765\n",
      "Epoch 44/500\n",
      "14/14 [==============================] - 0s 5ms/step - loss: 3737.3293 - val_loss: 3030.4709\n",
      "Epoch 45/500\n",
      "14/14 [==============================] - 0s 12ms/step - loss: 3693.9795 - val_loss: 2994.4165\n",
      "Epoch 46/500\n",
      "14/14 [==============================] - 0s 5ms/step - loss: 3650.9995 - val_loss: 2958.7095\n",
      "Epoch 47/500\n",
      "14/14 [==============================] - 0s 4ms/step - loss: 3608.3867 - val_loss: 2923.3484\n",
      "Epoch 48/500\n",
      "14/14 [==============================] - 0s 5ms/step - loss: 3566.1401 - val_loss: 2888.3318\n",
      "Epoch 49/500\n",
      "14/14 [==============================] - 0s 5ms/step - loss: 3524.2573 - val_loss: 2853.6558\n",
      "Epoch 50/500\n",
      "14/14 [==============================] - 0s 5ms/step - loss: 3482.7356 - val_loss: 2819.3196\n",
      "Epoch 51/500\n",
      "14/14 [==============================] - 0s 5ms/step - loss: 3441.5728 - val_loss: 2785.3213\n",
      "Epoch 52/500\n",
      "14/14 [==============================] - 0s 5ms/step - loss: 3400.7671 - val_loss: 2751.6577\n",
      "Epoch 53/500\n",
      "14/14 [==============================] - 0s 5ms/step - loss: 3360.3162 - val_loss: 2718.3279\n",
      "Epoch 54/500\n",
      "14/14 [==============================] - 0s 5ms/step - loss: 3320.2185 - val_loss: 2685.3284\n",
      "Epoch 55/500\n",
      "14/14 [==============================] - 0s 6ms/step - loss: 3280.4707 - val_loss: 2652.6582\n",
      "Epoch 56/500\n",
      "14/14 [==============================] - 0s 5ms/step - loss: 3241.0718 - val_loss: 2620.3149\n",
      "Epoch 57/500\n",
      "14/14 [==============================] - 0s 6ms/step - loss: 3202.0195 - val_loss: 2588.2964\n",
      "Epoch 58/500\n",
      "14/14 [==============================] - 0s 5ms/step - loss: 3163.3120 - val_loss: 2556.6008\n",
      "Epoch 59/500\n",
      "14/14 [==============================] - 0s 5ms/step - loss: 3124.9465 - val_loss: 2525.2268\n",
      "Epoch 60/500\n",
      "14/14 [==============================] - 0s 6ms/step - loss: 3086.9216 - val_loss: 2494.1716\n",
      "Epoch 61/500\n",
      "14/14 [==============================] - 0s 5ms/step - loss: 3049.2349 - val_loss: 2463.4326\n",
      "Epoch 62/500\n",
      "14/14 [==============================] - 0s 5ms/step - loss: 3011.8843 - val_loss: 2433.0088\n",
      "Epoch 63/500\n",
      "14/14 [==============================] - 0s 8ms/step - loss: 2974.8682 - val_loss: 2402.8982\n",
      "Epoch 64/500\n",
      "14/14 [==============================] - 0s 5ms/step - loss: 2938.1846 - val_loss: 2373.0984\n",
      "Epoch 65/500\n",
      "14/14 [==============================] - 0s 5ms/step - loss: 2901.8313 - val_loss: 2343.6079\n",
      "Epoch 66/500\n",
      "14/14 [==============================] - 0s 5ms/step - loss: 2865.8066 - val_loss: 2314.4243\n",
      "Epoch 67/500\n",
      "14/14 [==============================] - 0s 5ms/step - loss: 2830.1079 - val_loss: 2285.5449\n",
      "Epoch 68/500\n",
      "14/14 [==============================] - 0s 4ms/step - loss: 2794.7336 - val_loss: 2256.9700\n",
      "Epoch 69/500\n",
      "14/14 [==============================] - 0s 5ms/step - loss: 2759.6821 - val_loss: 2228.6960\n",
      "Epoch 70/500\n",
      "14/14 [==============================] - 0s 5ms/step - loss: 2724.9507 - val_loss: 2200.7212\n",
      "Epoch 71/500\n",
      "14/14 [==============================] - 0s 5ms/step - loss: 2690.5378 - val_loss: 2173.0444\n",
      "Epoch 72/500\n",
      "14/14 [==============================] - 0s 5ms/step - loss: 2656.4426 - val_loss: 2145.6626\n",
      "Epoch 73/500\n",
      "14/14 [==============================] - 0s 5ms/step - loss: 2622.6621 - val_loss: 2118.5750\n",
      "Epoch 74/500\n",
      "14/14 [==============================] - 0s 12ms/step - loss: 2589.1943 - val_loss: 2091.7793\n",
      "Epoch 75/500\n",
      "14/14 [==============================] - 0s 4ms/step - loss: 2556.0378 - val_loss: 2065.2732\n",
      "Epoch 76/500\n",
      "14/14 [==============================] - 0s 5ms/step - loss: 2523.1904 - val_loss: 2039.0554\n",
      "Epoch 77/500\n",
      "14/14 [==============================] - 0s 5ms/step - loss: 2490.6504 - val_loss: 2013.1239\n",
      "Epoch 78/500\n",
      "14/14 [==============================] - 0s 5ms/step - loss: 2458.4160 - val_loss: 1987.4773\n",
      "Epoch 79/500\n",
      "14/14 [==============================] - 0s 5ms/step - loss: 2426.4858 - val_loss: 1962.1132\n",
      "Epoch 80/500\n",
      "14/14 [==============================] - 0s 5ms/step - loss: 2394.8569 - val_loss: 1937.0295\n",
      "Epoch 81/500\n",
      "14/14 [==============================] - 0s 5ms/step - loss: 2363.5281 - val_loss: 1912.2255\n",
      "Epoch 82/500\n",
      "14/14 [==============================] - 0s 5ms/step - loss: 2332.4976 - val_loss: 1887.6982\n",
      "Epoch 83/500\n",
      "14/14 [==============================] - 0s 4ms/step - loss: 2301.7634 - val_loss: 1863.4473\n",
      "Epoch 84/500\n",
      "14/14 [==============================] - 0s 5ms/step - loss: 2271.3242 - val_loss: 1839.4688\n",
      "Epoch 85/500\n",
      "14/14 [==============================] - 0s 5ms/step - loss: 2241.1770 - val_loss: 1815.7622\n",
      "Epoch 86/500\n",
      "14/14 [==============================] - 0s 5ms/step - loss: 2211.3215 - val_loss: 1792.3264\n",
      "Epoch 87/500\n",
      "14/14 [==============================] - 0s 5ms/step - loss: 2181.7549 - val_loss: 1769.1587\n",
      "Epoch 88/500\n",
      "14/14 [==============================] - 0s 5ms/step - loss: 2152.4763 - val_loss: 1746.2574\n",
      "Epoch 89/500\n",
      "14/14 [==============================] - 0s 5ms/step - loss: 2123.4827 - val_loss: 1723.6205\n",
      "Epoch 90/500\n",
      "14/14 [==============================] - 0s 5ms/step - loss: 2094.7737 - val_loss: 1701.2473\n",
      "Epoch 91/500\n",
      "14/14 [==============================] - 0s 6ms/step - loss: 2066.3467 - val_loss: 1679.1353\n",
      "Epoch 92/500\n",
      "14/14 [==============================] - 0s 5ms/step - loss: 2038.2002 - val_loss: 1657.2827\n",
      "Epoch 93/500\n",
      "14/14 [==============================] - 0s 5ms/step - loss: 2010.3324 - val_loss: 1635.6884\n",
      "Epoch 94/500\n",
      "14/14 [==============================] - 0s 4ms/step - loss: 1982.7416 - val_loss: 1614.3495\n",
      "Epoch 95/500\n",
      "14/14 [==============================] - 0s 5ms/step - loss: 1955.4263 - val_loss: 1593.2657\n",
      "Epoch 96/500\n",
      "14/14 [==============================] - 0s 5ms/step - loss: 1928.3844 - val_loss: 1572.4340\n",
      "Epoch 97/500\n",
      "14/14 [==============================] - 0s 5ms/step - loss: 1901.6146 - val_loss: 1551.8540\n",
      "Epoch 98/500\n",
      "14/14 [==============================] - 0s 5ms/step - loss: 1875.1149 - val_loss: 1531.5232\n",
      "Epoch 99/500\n",
      "14/14 [==============================] - 0s 5ms/step - loss: 1848.8838 - val_loss: 1511.4393\n",
      "Epoch 100/500\n",
      "14/14 [==============================] - 0s 5ms/step - loss: 1822.9192 - val_loss: 1491.6017\n",
      "Epoch 101/500\n",
      "14/14 [==============================] - 0s 5ms/step - loss: 1797.2196 - val_loss: 1472.0079\n",
      "Epoch 102/500\n",
      "14/14 [==============================] - 0s 5ms/step - loss: 1771.7836 - val_loss: 1452.6580\n",
      "Epoch 103/500\n",
      "14/14 [==============================] - 0s 6ms/step - loss: 1746.6097 - val_loss: 1433.5479\n",
      "Epoch 104/500\n",
      "14/14 [==============================] - 0s 5ms/step - loss: 1721.6963 - val_loss: 1414.6772\n",
      "Epoch 105/500\n",
      "14/14 [==============================] - 0s 4ms/step - loss: 1697.0408 - val_loss: 1396.0450\n",
      "Epoch 106/500\n",
      "14/14 [==============================] - 0s 14ms/step - loss: 1672.6427 - val_loss: 1377.6475\n",
      "Epoch 107/500\n",
      "14/14 [==============================] - 0s 5ms/step - loss: 1648.4993 - val_loss: 1359.4850\n",
      "Epoch 108/500\n",
      "14/14 [==============================] - 0s 5ms/step - loss: 1624.6100 - val_loss: 1341.5549\n",
      "Epoch 109/500\n",
      "14/14 [==============================] - 0s 5ms/step - loss: 1600.9719 - val_loss: 1323.8566\n",
      "Epoch 110/500\n",
      "14/14 [==============================] - 0s 5ms/step - loss: 1577.5848 - val_loss: 1306.3866\n",
      "Epoch 111/500\n",
      "14/14 [==============================] - 0s 5ms/step - loss: 1554.4462 - val_loss: 1289.1451\n",
      "Epoch 112/500\n",
      "14/14 [==============================] - 0s 5ms/step - loss: 1531.5553 - val_loss: 1272.1299\n",
      "Epoch 113/500\n",
      "14/14 [==============================] - 0s 4ms/step - loss: 1508.9094 - val_loss: 1255.3386\n",
      "Epoch 114/500\n",
      "14/14 [==============================] - 0s 5ms/step - loss: 1486.5077 - val_loss: 1238.7714\n",
      "Epoch 115/500\n",
      "14/14 [==============================] - 0s 5ms/step - loss: 1464.3483 - val_loss: 1222.4243\n",
      "Epoch 116/500\n",
      "14/14 [==============================] - 0s 5ms/step - loss: 1442.4294 - val_loss: 1206.2977\n",
      "Epoch 117/500\n",
      "14/14 [==============================] - 0s 4ms/step - loss: 1420.7493 - val_loss: 1190.3885\n",
      "Epoch 118/500\n",
      "14/14 [==============================] - 0s 5ms/step - loss: 1399.3070 - val_loss: 1174.6963\n",
      "Epoch 119/500\n",
      "14/14 [==============================] - 0s 5ms/step - loss: 1378.1008 - val_loss: 1159.2191\n",
      "Epoch 120/500\n",
      "14/14 [==============================] - 0s 5ms/step - loss: 1357.1290 - val_loss: 1143.9545\n",
      "Epoch 121/500\n",
      "14/14 [==============================] - 0s 5ms/step - loss: 1336.3900 - val_loss: 1128.9027\n",
      "Epoch 122/500\n",
      "14/14 [==============================] - 0s 5ms/step - loss: 1315.8822 - val_loss: 1114.0602\n",
      "Epoch 123/500\n",
      "14/14 [==============================] - 0s 5ms/step - loss: 1295.6040 - val_loss: 1099.4272\n",
      "Epoch 124/500\n",
      "14/14 [==============================] - 0s 5ms/step - loss: 1275.5543 - val_loss: 1085.0009\n",
      "Epoch 125/500\n",
      "14/14 [==============================] - 0s 5ms/step - loss: 1255.7314 - val_loss: 1070.7800\n",
      "Epoch 126/500\n",
      "14/14 [==============================] - 0s 6ms/step - loss: 1236.1329 - val_loss: 1056.7633\n",
      "Epoch 127/500\n",
      "14/14 [==============================] - 0s 5ms/step - loss: 1216.7587 - val_loss: 1042.9487\n",
      "Epoch 128/500\n",
      "14/14 [==============================] - 0s 5ms/step - loss: 1197.6062 - val_loss: 1029.3352\n",
      "Epoch 129/500\n",
      "14/14 [==============================] - 0s 5ms/step - loss: 1178.6742 - val_loss: 1015.9211\n",
      "Epoch 130/500\n",
      "14/14 [==============================] - 0s 6ms/step - loss: 1159.9611 - val_loss: 1002.7043\n",
      "Epoch 131/500\n",
      "14/14 [==============================] - 0s 5ms/step - loss: 1141.4656 - val_loss: 989.6842\n",
      "Epoch 132/500\n",
      "14/14 [==============================] - 0s 5ms/step - loss: 1123.1860 - val_loss: 976.8586\n",
      "Epoch 133/500\n",
      "14/14 [==============================] - 0s 5ms/step - loss: 1105.1207 - val_loss: 964.2258\n",
      "Epoch 134/500\n",
      "14/14 [==============================] - 0s 5ms/step - loss: 1087.2688 - val_loss: 951.7852\n",
      "Epoch 135/500\n",
      "14/14 [==============================] - 0s 5ms/step - loss: 1069.6278 - val_loss: 939.5346\n",
      "Epoch 136/500\n",
      "14/14 [==============================] - 0s 5ms/step - loss: 1052.1973 - val_loss: 927.4724\n",
      "Epoch 137/500\n",
      "14/14 [==============================] - 0s 5ms/step - loss: 1034.9746 - val_loss: 915.5970\n",
      "Epoch 138/500\n",
      "14/14 [==============================] - 0s 5ms/step - loss: 1017.9592 - val_loss: 903.9072\n",
      "Epoch 139/500\n",
      "14/14 [==============================] - 0s 12ms/step - loss: 1001.1494 - val_loss: 892.4020\n",
      "Epoch 140/500\n",
      "14/14 [==============================] - 0s 6ms/step - loss: 984.5433 - val_loss: 881.0789\n",
      "Epoch 141/500\n",
      "14/14 [==============================] - 0s 5ms/step - loss: 968.1398 - val_loss: 869.9371\n",
      "Epoch 142/500\n",
      "14/14 [==============================] - 0s 6ms/step - loss: 951.9376 - val_loss: 858.9745\n",
      "Epoch 143/500\n",
      "14/14 [==============================] - 0s 4ms/step - loss: 935.9346 - val_loss: 848.1899\n",
      "Epoch 144/500\n",
      "14/14 [==============================] - 0s 5ms/step - loss: 920.1297 - val_loss: 837.5818\n",
      "Epoch 145/500\n",
      "14/14 [==============================] - 0s 5ms/step - loss: 904.5213 - val_loss: 827.1489\n",
      "Epoch 146/500\n",
      "14/14 [==============================] - 0s 4ms/step - loss: 889.1083 - val_loss: 816.8893\n",
      "Epoch 147/500\n",
      "14/14 [==============================] - 0s 5ms/step - loss: 873.8888 - val_loss: 806.8014\n",
      "Epoch 148/500\n",
      "14/14 [==============================] - 0s 5ms/step - loss: 858.8616 - val_loss: 796.8849\n",
      "Epoch 149/500\n",
      "14/14 [==============================] - 0s 4ms/step - loss: 844.0253 - val_loss: 787.1368\n",
      "Epoch 150/500\n",
      "14/14 [==============================] - 0s 5ms/step - loss: 829.3784 - val_loss: 777.5563\n",
      "Epoch 151/500\n",
      "14/14 [==============================] - 0s 5ms/step - loss: 814.9190 - val_loss: 768.1422\n",
      "Epoch 152/500\n",
      "14/14 [==============================] - 0s 6ms/step - loss: 800.6463 - val_loss: 758.8926\n",
      "Epoch 153/500\n",
      "14/14 [==============================] - 0s 5ms/step - loss: 786.5585 - val_loss: 749.8061\n",
      "Epoch 154/500\n",
      "14/14 [==============================] - 0s 5ms/step - loss: 772.6545 - val_loss: 740.8812\n",
      "Epoch 155/500\n",
      "14/14 [==============================] - 0s 4ms/step - loss: 758.9324 - val_loss: 732.1163\n",
      "Epoch 156/500\n",
      "14/14 [==============================] - 0s 5ms/step - loss: 745.3911 - val_loss: 723.5109\n",
      "Epoch 157/500\n",
      "14/14 [==============================] - 0s 5ms/step - loss: 732.0291 - val_loss: 715.0620\n",
      "Epoch 158/500\n",
      "14/14 [==============================] - 0s 5ms/step - loss: 718.8450 - val_loss: 706.7692\n",
      "Epoch 159/500\n",
      "14/14 [==============================] - 0s 4ms/step - loss: 705.8372 - val_loss: 698.6310\n",
      "Epoch 160/500\n",
      "14/14 [==============================] - 0s 5ms/step - loss: 693.0045 - val_loss: 690.6458\n",
      "Epoch 161/500\n",
      "14/14 [==============================] - 0s 5ms/step - loss: 680.3456 - val_loss: 682.8115\n",
      "Epoch 162/500\n",
      "14/14 [==============================] - 0s 4ms/step - loss: 667.8588 - val_loss: 675.1276\n",
      "Epoch 163/500\n",
      "14/14 [==============================] - 0s 5ms/step - loss: 655.5426 - val_loss: 667.5924\n",
      "Epoch 164/500\n",
      "14/14 [==============================] - 0s 5ms/step - loss: 643.3960 - val_loss: 660.2040\n",
      "Epoch 165/500\n",
      "14/14 [==============================] - 0s 8ms/step - loss: 631.4175 - val_loss: 652.9613\n",
      "Epoch 166/500\n",
      "14/14 [==============================] - 0s 6ms/step - loss: 619.6053 - val_loss: 645.8629\n",
      "Epoch 167/500\n",
      "14/14 [==============================] - 0s 5ms/step - loss: 607.9580 - val_loss: 638.9075\n",
      "Epoch 168/500\n",
      "14/14 [==============================] - 0s 6ms/step - loss: 596.4753 - val_loss: 632.0934\n",
      "Epoch 169/500\n",
      "14/14 [==============================] - 0s 5ms/step - loss: 585.1546 - val_loss: 625.4192\n",
      "Epoch 170/500\n",
      "14/14 [==============================] - 0s 5ms/step - loss: 573.9950 - val_loss: 618.8834\n",
      "Epoch 171/500\n",
      "14/14 [==============================] - 0s 10ms/step - loss: 562.9951 - val_loss: 612.4853\n",
      "Epoch 172/500\n",
      "14/14 [==============================] - 0s 4ms/step - loss: 552.1535 - val_loss: 606.2225\n",
      "Epoch 173/500\n",
      "14/14 [==============================] - 0s 5ms/step - loss: 541.4687 - val_loss: 600.0937\n",
      "Epoch 174/500\n",
      "14/14 [==============================] - 0s 5ms/step - loss: 530.9395 - val_loss: 594.0981\n",
      "Epoch 175/500\n",
      "14/14 [==============================] - 0s 5ms/step - loss: 520.5646 - val_loss: 588.2338\n",
      "Epoch 176/500\n",
      "14/14 [==============================] - 0s 5ms/step - loss: 510.3420 - val_loss: 582.4995\n",
      "Epoch 177/500\n",
      "14/14 [==============================] - 0s 5ms/step - loss: 500.2709 - val_loss: 576.8938\n",
      "Epoch 178/500\n",
      "14/14 [==============================] - 0s 5ms/step - loss: 490.3498 - val_loss: 571.4152\n",
      "Epoch 179/500\n",
      "14/14 [==============================] - 0s 5ms/step - loss: 480.5775 - val_loss: 566.0624\n",
      "Epoch 180/500\n",
      "14/14 [==============================] - 0s 5ms/step - loss: 470.9527 - val_loss: 560.8341\n",
      "Epoch 181/500\n",
      "14/14 [==============================] - 0s 6ms/step - loss: 461.4737 - val_loss: 555.7287\n",
      "Epoch 182/500\n",
      "14/14 [==============================] - 0s 5ms/step - loss: 452.1393 - val_loss: 550.7449\n",
      "Epoch 183/500\n",
      "14/14 [==============================] - 0s 5ms/step - loss: 442.9480 - val_loss: 545.8813\n",
      "Epoch 184/500\n",
      "14/14 [==============================] - 0s 5ms/step - loss: 433.8988 - val_loss: 541.1365\n",
      "Epoch 185/500\n",
      "14/14 [==============================] - 0s 5ms/step - loss: 424.9901 - val_loss: 536.5090\n",
      "Epoch 186/500\n",
      "14/14 [==============================] - 0s 5ms/step - loss: 416.2205 - val_loss: 531.9979\n",
      "Epoch 187/500\n",
      "14/14 [==============================] - 0s 6ms/step - loss: 407.5891 - val_loss: 527.6010\n",
      "Epoch 188/500\n",
      "14/14 [==============================] - 0s 5ms/step - loss: 399.0940 - val_loss: 523.3175\n",
      "Epoch 189/500\n",
      "14/14 [==============================] - 0s 5ms/step - loss: 390.7339 - val_loss: 519.1459\n",
      "Epoch 190/500\n",
      "14/14 [==============================] - 0s 5ms/step - loss: 382.5081 - val_loss: 515.0848\n",
      "Epoch 191/500\n",
      "14/14 [==============================] - 0s 6ms/step - loss: 374.4145 - val_loss: 511.1330\n",
      "Epoch 192/500\n",
      "14/14 [==============================] - 0s 5ms/step - loss: 366.4523 - val_loss: 507.2887\n",
      "Epoch 193/500\n",
      "14/14 [==============================] - 0s 5ms/step - loss: 358.6199 - val_loss: 503.5510\n",
      "Epoch 194/500\n",
      "14/14 [==============================] - 0s 5ms/step - loss: 350.9160 - val_loss: 499.9181\n",
      "Epoch 195/500\n",
      "14/14 [==============================] - 0s 5ms/step - loss: 343.3394 - val_loss: 496.3889\n",
      "Epoch 196/500\n",
      "14/14 [==============================] - 0s 5ms/step - loss: 335.8888 - val_loss: 492.9621\n",
      "Epoch 197/500\n",
      "14/14 [==============================] - 0s 6ms/step - loss: 328.5629 - val_loss: 489.6364\n",
      "Epoch 198/500\n",
      "14/14 [==============================] - 0s 5ms/step - loss: 321.3603 - val_loss: 486.4101\n",
      "Epoch 199/500\n",
      "14/14 [==============================] - 0s 12ms/step - loss: 314.2796 - val_loss: 483.2822\n",
      "Epoch 200/500\n",
      "14/14 [==============================] - 0s 5ms/step - loss: 307.3194 - val_loss: 480.2510\n",
      "Epoch 201/500\n",
      "14/14 [==============================] - 0s 5ms/step - loss: 300.4790 - val_loss: 477.3157\n",
      "Epoch 202/500\n",
      "14/14 [==============================] - 0s 5ms/step - loss: 293.7569 - val_loss: 474.4745\n",
      "Epoch 203/500\n",
      "14/14 [==============================] - 0s 4ms/step - loss: 287.1514 - val_loss: 471.7263\n",
      "Epoch 204/500\n",
      "14/14 [==============================] - 0s 5ms/step - loss: 280.6617 - val_loss: 469.0697\n",
      "Epoch 205/500\n",
      "14/14 [==============================] - 0s 6ms/step - loss: 274.2863 - val_loss: 466.5033\n",
      "Epoch 206/500\n",
      "14/14 [==============================] - 0s 5ms/step - loss: 268.0237 - val_loss: 464.0259\n",
      "Epoch 207/500\n",
      "14/14 [==============================] - 0s 7ms/step - loss: 261.8730 - val_loss: 461.6361\n",
      "Epoch 208/500\n",
      "14/14 [==============================] - 0s 6ms/step - loss: 255.8325 - val_loss: 459.3326\n",
      "Epoch 209/500\n",
      "14/14 [==============================] - 0s 5ms/step - loss: 249.9015 - val_loss: 457.1141\n",
      "Epoch 210/500\n",
      "14/14 [==============================] - 0s 6ms/step - loss: 244.0783 - val_loss: 454.9794\n",
      "Epoch 211/500\n",
      "14/14 [==============================] - 0s 6ms/step - loss: 238.3620 - val_loss: 452.9271\n",
      "Epoch 212/500\n",
      "14/14 [==============================] - 0s 8ms/step - loss: 232.7510 - val_loss: 450.9559\n",
      "Epoch 213/500\n",
      "14/14 [==============================] - 0s 5ms/step - loss: 227.2441 - val_loss: 449.0645\n",
      "Epoch 214/500\n",
      "14/14 [==============================] - 0s 5ms/step - loss: 221.8401 - val_loss: 447.2516\n",
      "Epoch 215/500\n",
      "14/14 [==============================] - 0s 5ms/step - loss: 216.5379 - val_loss: 445.5161\n",
      "Epoch 216/500\n",
      "14/14 [==============================] - 0s 5ms/step - loss: 211.3362 - val_loss: 443.8566\n",
      "Epoch 217/500\n",
      "14/14 [==============================] - 0s 4ms/step - loss: 206.2336 - val_loss: 442.2717\n",
      "Epoch 218/500\n",
      "14/14 [==============================] - 0s 5ms/step - loss: 201.2291 - val_loss: 440.7602\n",
      "Epoch 219/500\n",
      "14/14 [==============================] - 0s 8ms/step - loss: 196.3210 - val_loss: 439.3209\n",
      "Epoch 220/500\n",
      "14/14 [==============================] - 0s 6ms/step - loss: 191.5088 - val_loss: 437.9525\n",
      "Epoch 221/500\n",
      "14/14 [==============================] - 0s 6ms/step - loss: 186.7907 - val_loss: 436.6539\n",
      "Epoch 222/500\n",
      "14/14 [==============================] - 0s 7ms/step - loss: 182.1658 - val_loss: 435.4236\n",
      "Epoch 223/500\n",
      "14/14 [==============================] - 0s 5ms/step - loss: 177.6328 - val_loss: 434.2607\n",
      "Epoch 224/500\n",
      "14/14 [==============================] - 0s 5ms/step - loss: 173.1906 - val_loss: 433.1636\n",
      "Epoch 225/500\n",
      "14/14 [==============================] - 0s 5ms/step - loss: 168.8379 - val_loss: 432.1312\n",
      "Epoch 226/500\n",
      "14/14 [==============================] - 0s 4ms/step - loss: 164.5733 - val_loss: 431.1624\n",
      "Epoch 227/500\n",
      "14/14 [==============================] - 0s 5ms/step - loss: 160.3960 - val_loss: 430.2559\n",
      "Epoch 228/500\n",
      "14/14 [==============================] - 0s 5ms/step - loss: 156.3046 - val_loss: 429.4104\n",
      "Epoch 229/500\n",
      "14/14 [==============================] - 0s 13ms/step - loss: 152.2979 - val_loss: 428.6246\n",
      "Epoch 230/500\n",
      "14/14 [==============================] - 0s 5ms/step - loss: 148.3748 - val_loss: 427.8976\n",
      "Epoch 231/500\n",
      "14/14 [==============================] - 0s 7ms/step - loss: 144.5341 - val_loss: 427.2283\n",
      "Epoch 232/500\n",
      "14/14 [==============================] - 0s 5ms/step - loss: 140.7745 - val_loss: 426.6151\n",
      "Epoch 233/500\n",
      "14/14 [==============================] - 0s 6ms/step - loss: 137.0952 - val_loss: 426.0569\n",
      "Epoch 234/500\n",
      "14/14 [==============================] - 0s 5ms/step - loss: 133.4948 - val_loss: 425.5530\n",
      "Epoch 235/500\n",
      "14/14 [==============================] - 0s 7ms/step - loss: 129.9723 - val_loss: 425.1016\n",
      "Epoch 236/500\n",
      "14/14 [==============================] - 0s 6ms/step - loss: 126.5266 - val_loss: 424.7020\n",
      "Epoch 237/500\n",
      "14/14 [==============================] - 0s 5ms/step - loss: 123.1562 - val_loss: 424.3526\n",
      "Epoch 238/500\n",
      "14/14 [==============================] - 0s 6ms/step - loss: 119.8602 - val_loss: 424.0526\n",
      "Epoch 239/500\n",
      "14/14 [==============================] - 0s 6ms/step - loss: 116.6375 - val_loss: 423.8010\n",
      "Epoch 240/500\n",
      "14/14 [==============================] - 0s 7ms/step - loss: 113.4870 - val_loss: 423.5963\n",
      "Epoch 241/500\n",
      "14/14 [==============================] - 0s 7ms/step - loss: 110.4074 - val_loss: 423.4377\n",
      "Epoch 242/500\n",
      "14/14 [==============================] - 0s 6ms/step - loss: 107.3980 - val_loss: 423.3238\n",
      "Epoch 243/500\n",
      "14/14 [==============================] - 0s 6ms/step - loss: 104.4575 - val_loss: 423.2537\n",
      "Epoch 244/500\n",
      "14/14 [==============================] - 0s 6ms/step - loss: 101.5845 - val_loss: 423.2263\n",
      "Epoch 245/500\n",
      "14/14 [==============================] - 0s 9ms/step - loss: 98.7785 - val_loss: 423.2403\n",
      "Epoch 246/500\n",
      "14/14 [==============================] - 0s 6ms/step - loss: 96.0381 - val_loss: 423.2948\n",
      "Epoch 247/500\n",
      "14/14 [==============================] - 0s 7ms/step - loss: 93.3623 - val_loss: 423.3888\n",
      "Epoch 248/500\n",
      "14/14 [==============================] - 0s 7ms/step - loss: 90.7501 - val_loss: 423.5210\n",
      "Epoch 249/500\n",
      "14/14 [==============================] - 0s 7ms/step - loss: 88.2002 - val_loss: 423.6906\n",
      "Epoch 250/500\n",
      "14/14 [==============================] - 0s 7ms/step - loss: 85.7116 - val_loss: 423.8964\n",
      "Epoch 251/500\n",
      "14/14 [==============================] - 0s 6ms/step - loss: 83.2835 - val_loss: 424.1374\n",
      "Epoch 252/500\n",
      "14/14 [==============================] - 0s 7ms/step - loss: 80.9148 - val_loss: 424.4126\n",
      "Epoch 253/500\n",
      "14/14 [==============================] - 0s 14ms/step - loss: 78.6043 - val_loss: 424.7209\n",
      "Epoch 254/500\n",
      "14/14 [==============================] - 0s 6ms/step - loss: 76.3512 - val_loss: 425.0614\n",
      "Epoch 255/500\n",
      "14/14 [==============================] - 0s 6ms/step - loss: 74.1542 - val_loss: 425.4331\n",
      "Epoch 256/500\n",
      "14/14 [==============================] - 0s 7ms/step - loss: 72.0126 - val_loss: 425.8350\n",
      "Epoch 257/500\n",
      "14/14 [==============================] - 0s 7ms/step - loss: 69.9253 - val_loss: 426.2661\n",
      "Epoch 258/500\n",
      "14/14 [==============================] - 0s 7ms/step - loss: 67.8912 - val_loss: 426.7254\n",
      "Epoch 259/500\n",
      "14/14 [==============================] - 0s 6ms/step - loss: 65.9096 - val_loss: 427.2119\n",
      "Epoch 260/500\n",
      "14/14 [==============================] - 0s 7ms/step - loss: 63.9794 - val_loss: 427.7248\n",
      "Epoch 261/500\n",
      "14/14 [==============================] - 0s 7ms/step - loss: 62.0996 - val_loss: 428.2631\n",
      "Epoch 262/500\n",
      "14/14 [==============================] - 0s 7ms/step - loss: 60.2693 - val_loss: 428.8259\n",
      "Epoch 263/500\n",
      "14/14 [==============================] - 0s 7ms/step - loss: 58.4875 - val_loss: 429.4123\n",
      "Epoch 264/500\n",
      "14/14 [==============================] - 0s 7ms/step - loss: 56.7533 - val_loss: 430.0213\n",
      "Epoch 265/500\n",
      "14/14 [==============================] - 0s 7ms/step - loss: 55.0657 - val_loss: 430.6520\n",
      "Epoch 266/500\n",
      "14/14 [==============================] - 0s 6ms/step - loss: 53.4239 - val_loss: 431.3036\n",
      "Epoch 267/500\n",
      "14/14 [==============================] - 0s 5ms/step - loss: 51.8269 - val_loss: 431.9753\n",
      "Epoch 268/500\n",
      "14/14 [==============================] - 0s 6ms/step - loss: 50.2739 - val_loss: 432.6662\n",
      "Epoch 269/500\n",
      "14/14 [==============================] - 0s 7ms/step - loss: 48.7639 - val_loss: 433.3752\n",
      "Epoch 270/500\n",
      "14/14 [==============================] - 0s 5ms/step - loss: 47.2963 - val_loss: 434.1018\n",
      "Epoch 271/500\n",
      "14/14 [==============================] - 0s 6ms/step - loss: 45.8698 - val_loss: 434.8451\n",
      "Epoch 272/500\n",
      "14/14 [==============================] - 0s 7ms/step - loss: 44.4839 - val_loss: 435.6041\n",
      "Epoch 273/500\n",
      "14/14 [==============================] - 0s 6ms/step - loss: 43.1376 - val_loss: 436.3782\n",
      "Epoch 274/500\n",
      "14/14 [==============================] - 0s 8ms/step - loss: 41.8300 - val_loss: 437.1665\n",
      "Epoch 275/500\n",
      "14/14 [==============================] - 0s 13ms/step - loss: 40.5603 - val_loss: 437.9684\n",
      "Epoch 276/500\n",
      "14/14 [==============================] - 0s 6ms/step - loss: 39.3279 - val_loss: 438.7828\n",
      "Epoch 277/500\n",
      "14/14 [==============================] - 0s 8ms/step - loss: 38.1317 - val_loss: 439.6092\n",
      "Epoch 278/500\n",
      "14/14 [==============================] - 0s 6ms/step - loss: 36.9710 - val_loss: 440.4469\n",
      "Epoch 279/500\n",
      "14/14 [==============================] - 0s 9ms/step - loss: 35.8451 - val_loss: 441.2950\n",
      "Epoch 280/500\n",
      "14/14 [==============================] - 0s 8ms/step - loss: 34.7531 - val_loss: 442.1530\n",
      "Epoch 281/500\n",
      "14/14 [==============================] - 0s 6ms/step - loss: 33.6942 - val_loss: 443.0198\n",
      "Epoch 282/500\n",
      "14/14 [==============================] - 0s 6ms/step - loss: 32.6678 - val_loss: 443.8951\n",
      "Epoch 283/500\n",
      "14/14 [==============================] - 0s 8ms/step - loss: 31.6730 - val_loss: 444.7781\n",
      "Epoch 284/500\n",
      "14/14 [==============================] - 0s 7ms/step - loss: 30.7091 - val_loss: 445.6682\n",
      "Epoch 285/500\n",
      "14/14 [==============================] - 0s 6ms/step - loss: 29.7754 - val_loss: 446.5645\n",
      "Epoch 286/500\n",
      "14/14 [==============================] - 0s 7ms/step - loss: 28.8711 - val_loss: 447.4667\n",
      "Epoch 287/500\n",
      "14/14 [==============================] - 0s 6ms/step - loss: 27.9955 - val_loss: 448.3741\n",
      "Epoch 288/500\n",
      "14/14 [==============================] - 0s 7ms/step - loss: 27.1480 - val_loss: 449.2857\n",
      "Epoch 289/500\n",
      "14/14 [==============================] - 0s 7ms/step - loss: 26.3279 - val_loss: 450.2016\n",
      "Epoch 290/500\n",
      "14/14 [==============================] - 0s 5ms/step - loss: 25.5343 - val_loss: 451.1206\n",
      "Epoch 291/500\n",
      "14/14 [==============================] - 0s 5ms/step - loss: 24.7667 - val_loss: 452.0425\n",
      "Epoch 292/500\n",
      "14/14 [==============================] - 0s 5ms/step - loss: 24.0244 - val_loss: 452.9663\n",
      "Epoch 293/500\n",
      "14/14 [==============================] - 0s 6ms/step - loss: 23.3069 - val_loss: 453.8919\n",
      "Epoch 294/500\n",
      "14/14 [==============================] - 0s 7ms/step - loss: 22.6135 - val_loss: 454.8184\n",
      "Epoch 295/500\n",
      "14/14 [==============================] - 0s 6ms/step - loss: 21.9435 - val_loss: 455.7456\n",
      "Epoch 296/500\n",
      "14/14 [==============================] - 0s 6ms/step - loss: 21.2962 - val_loss: 456.6727\n",
      "Epoch 297/500\n",
      "14/14 [==============================] - 0s 5ms/step - loss: 20.6712 - val_loss: 457.5995\n",
      "Epoch 298/500\n",
      "14/14 [==============================] - 0s 5ms/step - loss: 20.0678 - val_loss: 458.5254\n",
      "Epoch 299/500\n",
      "14/14 [==============================] - 0s 14ms/step - loss: 19.4853 - val_loss: 459.4497\n",
      "Epoch 300/500\n",
      "14/14 [==============================] - 0s 6ms/step - loss: 18.9233 - val_loss: 460.3725\n",
      "Epoch 301/500\n",
      "14/14 [==============================] - 0s 8ms/step - loss: 18.3811 - val_loss: 461.2930\n",
      "Epoch 302/500\n",
      "14/14 [==============================] - 0s 7ms/step - loss: 17.8581 - val_loss: 462.2104\n",
      "Epoch 303/500\n",
      "14/14 [==============================] - 0s 6ms/step - loss: 17.3540 - val_loss: 463.1248\n",
      "Epoch 304/500\n",
      "14/14 [==============================] - 0s 7ms/step - loss: 16.8681 - val_loss: 464.0356\n",
      "Epoch 305/500\n",
      "14/14 [==============================] - 0s 5ms/step - loss: 16.3999 - val_loss: 464.9426\n",
      "Epoch 306/500\n",
      "14/14 [==============================] - 0s 7ms/step - loss: 15.9489 - val_loss: 465.8451\n",
      "Epoch 307/500\n",
      "14/14 [==============================] - 0s 6ms/step - loss: 15.5145 - val_loss: 466.7431\n",
      "Epoch 308/500\n",
      "14/14 [==============================] - 0s 6ms/step - loss: 15.0963 - val_loss: 467.6359\n",
      "Epoch 309/500\n",
      "14/14 [==============================] - 0s 5ms/step - loss: 14.6938 - val_loss: 468.5232\n",
      "Epoch 310/500\n",
      "14/14 [==============================] - 0s 6ms/step - loss: 14.3066 - val_loss: 469.4051\n",
      "Epoch 311/500\n",
      "14/14 [==============================] - 0s 6ms/step - loss: 13.9340 - val_loss: 470.2806\n",
      "Epoch 312/500\n",
      "14/14 [==============================] - 0s 7ms/step - loss: 13.5758 - val_loss: 471.1499\n",
      "Epoch 313/500\n",
      "14/14 [==============================] - 0s 5ms/step - loss: 13.2313 - val_loss: 472.0124\n",
      "Epoch 314/500\n",
      "14/14 [==============================] - 0s 6ms/step - loss: 12.9004 - val_loss: 472.8681\n",
      "Epoch 315/500\n",
      "14/14 [==============================] - 0s 6ms/step - loss: 12.5824 - val_loss: 473.7166\n",
      "Epoch 316/500\n",
      "14/14 [==============================] - 0s 8ms/step - loss: 12.2770 - val_loss: 474.5575\n",
      "Epoch 317/500\n",
      "14/14 [==============================] - 0s 7ms/step - loss: 11.9837 - val_loss: 475.3910\n",
      "Epoch 318/500\n",
      "14/14 [==============================] - 0s 7ms/step - loss: 11.7022 - val_loss: 476.2162\n",
      "Epoch 319/500\n",
      "14/14 [==============================] - 0s 5ms/step - loss: 11.4320 - val_loss: 477.0336\n",
      "Epoch 320/500\n",
      "14/14 [==============================] - 0s 7ms/step - loss: 11.1729 - val_loss: 477.8425\n",
      "Epoch 321/500\n",
      "14/14 [==============================] - 0s 9ms/step - loss: 10.9243 - val_loss: 478.6428\n",
      "Epoch 322/500\n",
      "14/14 [==============================] - 0s 11ms/step - loss: 10.6860 - val_loss: 479.4341\n",
      "Epoch 323/500\n",
      "14/14 [==============================] - 0s 7ms/step - loss: 10.4577 - val_loss: 480.2169\n",
      "Epoch 324/500\n",
      "14/14 [==============================] - 0s 5ms/step - loss: 10.2389 - val_loss: 480.9902\n",
      "Epoch 325/500\n",
      "14/14 [==============================] - 0s 7ms/step - loss: 10.0293 - val_loss: 481.7541\n",
      "Epoch 326/500\n",
      "14/14 [==============================] - 0s 7ms/step - loss: 9.8287 - val_loss: 482.5088\n",
      "Epoch 327/500\n",
      "14/14 [==============================] - 0s 5ms/step - loss: 9.6367 - val_loss: 483.2538\n",
      "Epoch 328/500\n",
      "14/14 [==============================] - 0s 6ms/step - loss: 9.4529 - val_loss: 483.9893\n",
      "Epoch 329/500\n",
      "14/14 [==============================] - 0s 7ms/step - loss: 9.2771 - val_loss: 484.7148\n",
      "Epoch 330/500\n",
      "14/14 [==============================] - 0s 6ms/step - loss: 9.1090 - val_loss: 485.4305\n",
      "Epoch 331/500\n",
      "14/14 [==============================] - 0s 7ms/step - loss: 8.9483 - val_loss: 486.1363\n",
      "Epoch 332/500\n",
      "14/14 [==============================] - 0s 5ms/step - loss: 8.7947 - val_loss: 486.8317\n",
      "Epoch 333/500\n",
      "14/14 [==============================] - 0s 6ms/step - loss: 8.6480 - val_loss: 487.5172\n",
      "Epoch 334/500\n",
      "14/14 [==============================] - 0s 6ms/step - loss: 8.5079 - val_loss: 488.1920\n",
      "Epoch 335/500\n",
      "14/14 [==============================] - 0s 6ms/step - loss: 8.3741 - val_loss: 488.8570\n",
      "Epoch 336/500\n",
      "14/14 [==============================] - 0s 7ms/step - loss: 8.2465 - val_loss: 489.5112\n",
      "Epoch 337/500\n",
      "14/14 [==============================] - 0s 7ms/step - loss: 8.1247 - val_loss: 490.1551\n",
      "Epoch 338/500\n",
      "14/14 [==============================] - 0s 7ms/step - loss: 8.0085 - val_loss: 490.7887\n",
      "Epoch 339/500\n",
      "14/14 [==============================] - 0s 7ms/step - loss: 7.8978 - val_loss: 491.4116\n",
      "Epoch 340/500\n",
      "14/14 [==============================] - 0s 5ms/step - loss: 7.7922 - val_loss: 492.0244\n",
      "Epoch 341/500\n",
      "14/14 [==============================] - 0s 6ms/step - loss: 7.6916 - val_loss: 492.6261\n",
      "Epoch 342/500\n",
      "14/14 [==============================] - 0s 7ms/step - loss: 7.5958 - val_loss: 493.2177\n",
      "Epoch 343/500\n",
      "14/14 [==============================] - 0s 7ms/step - loss: 7.5046 - val_loss: 493.7987\n",
      "Epoch 344/500\n",
      "14/14 [==============================] - 0s 12ms/step - loss: 7.4177 - val_loss: 494.3692\n",
      "Epoch 345/500\n",
      "14/14 [==============================] - 0s 9ms/step - loss: 7.3351 - val_loss: 494.9293\n",
      "Epoch 346/500\n",
      "14/14 [==============================] - 0s 8ms/step - loss: 7.2565 - val_loss: 495.4787\n",
      "Epoch 347/500\n",
      "14/14 [==============================] - 0s 9ms/step - loss: 7.1817 - val_loss: 496.0179\n",
      "Epoch 348/500\n",
      "14/14 [==============================] - 0s 8ms/step - loss: 7.1107 - val_loss: 496.5466\n",
      "Epoch 349/500\n",
      "14/14 [==============================] - 0s 7ms/step - loss: 7.0432 - val_loss: 497.0645\n",
      "Epoch 350/500\n",
      "14/14 [==============================] - 0s 6ms/step - loss: 6.9791 - val_loss: 497.5729\n",
      "Epoch 351/500\n",
      "14/14 [==============================] - 0s 6ms/step - loss: 6.9181 - val_loss: 498.0709\n",
      "Epoch 352/500\n",
      "14/14 [==============================] - 0s 7ms/step - loss: 6.8603 - val_loss: 498.5589\n",
      "Epoch 353/500\n",
      "14/14 [==============================] - 0s 6ms/step - loss: 6.8054 - val_loss: 499.0359\n",
      "Epoch 354/500\n",
      "14/14 [==============================] - 0s 6ms/step - loss: 6.7533 - val_loss: 499.5032\n",
      "Epoch 355/500\n",
      "14/14 [==============================] - 0s 6ms/step - loss: 6.7039 - val_loss: 499.9604\n",
      "Epoch 356/500\n",
      "14/14 [==============================] - 0s 7ms/step - loss: 6.6572 - val_loss: 500.4080\n",
      "Epoch 357/500\n",
      "14/14 [==============================] - 0s 6ms/step - loss: 6.6128 - val_loss: 500.8453\n",
      "Epoch 358/500\n",
      "14/14 [==============================] - 0s 6ms/step - loss: 6.5708 - val_loss: 501.2733\n",
      "Epoch 359/500\n",
      "14/14 [==============================] - 0s 5ms/step - loss: 6.5310 - val_loss: 501.6913\n",
      "Epoch 360/500\n",
      "14/14 [==============================] - 0s 6ms/step - loss: 6.4933 - val_loss: 502.0997\n",
      "Epoch 361/500\n",
      "14/14 [==============================] - 0s 5ms/step - loss: 6.4576 - val_loss: 502.4989\n",
      "Epoch 362/500\n",
      "14/14 [==============================] - 0s 5ms/step - loss: 6.4238 - val_loss: 502.8887\n",
      "Epoch 363/500\n",
      "14/14 [==============================] - 0s 5ms/step - loss: 6.3919 - val_loss: 503.2689\n",
      "Epoch 364/500\n",
      "14/14 [==============================] - 0s 5ms/step - loss: 6.3617 - val_loss: 503.6405\n",
      "Epoch 365/500\n",
      "14/14 [==============================] - 0s 5ms/step - loss: 6.3331 - val_loss: 504.0027\n",
      "Epoch 366/500\n",
      "14/14 [==============================] - 0s 6ms/step - loss: 6.3062 - val_loss: 504.3561\n",
      "Epoch 367/500\n",
      "14/14 [==============================] - 0s 12ms/step - loss: 6.2807 - val_loss: 504.7007\n",
      "Epoch 368/500\n",
      "14/14 [==============================] - 0s 6ms/step - loss: 6.2566 - val_loss: 505.0365\n",
      "Epoch 369/500\n",
      "14/14 [==============================] - 0s 7ms/step - loss: 6.2338 - val_loss: 505.3635\n",
      "Epoch 370/500\n",
      "14/14 [==============================] - 0s 7ms/step - loss: 6.2124 - val_loss: 505.6827\n",
      "Epoch 371/500\n",
      "14/14 [==============================] - 0s 6ms/step - loss: 6.1921 - val_loss: 505.9931\n",
      "Epoch 372/500\n",
      "14/14 [==============================] - 0s 6ms/step - loss: 6.1730 - val_loss: 506.2954\n",
      "Epoch 373/500\n",
      "14/14 [==============================] - 0s 7ms/step - loss: 6.1550 - val_loss: 506.5896\n",
      "Epoch 374/500\n",
      "14/14 [==============================] - 0s 9ms/step - loss: 6.1380 - val_loss: 506.8756\n",
      "Epoch 375/500\n",
      "14/14 [==============================] - 0s 7ms/step - loss: 6.1220 - val_loss: 507.1541\n",
      "Epoch 376/500\n",
      "14/14 [==============================] - 0s 8ms/step - loss: 6.1069 - val_loss: 507.4248\n",
      "Epoch 377/500\n",
      "14/14 [==============================] - 0s 8ms/step - loss: 6.0927 - val_loss: 507.6874\n",
      "Epoch 378/500\n",
      "14/14 [==============================] - 0s 6ms/step - loss: 6.0793 - val_loss: 507.9433\n",
      "Epoch 379/500\n",
      "14/14 [==============================] - 0s 7ms/step - loss: 6.0667 - val_loss: 508.1918\n",
      "Epoch 380/500\n",
      "14/14 [==============================] - 0s 5ms/step - loss: 6.0548 - val_loss: 508.4333\n",
      "Epoch 381/500\n",
      "14/14 [==============================] - 0s 6ms/step - loss: 6.0436 - val_loss: 508.6675\n",
      "Epoch 382/500\n",
      "14/14 [==============================] - 0s 6ms/step - loss: 6.0331 - val_loss: 508.8948\n",
      "Epoch 383/500\n",
      "14/14 [==============================] - 0s 6ms/step - loss: 6.0232 - val_loss: 509.1152\n",
      "Epoch 384/500\n",
      "14/14 [==============================] - 0s 7ms/step - loss: 6.0139 - val_loss: 509.3294\n",
      "Epoch 385/500\n",
      "14/14 [==============================] - 0s 6ms/step - loss: 6.0052 - val_loss: 509.5367\n",
      "Epoch 386/500\n",
      "14/14 [==============================] - 0s 6ms/step - loss: 5.9969 - val_loss: 509.7379\n",
      "Epoch 387/500\n",
      "14/14 [==============================] - 0s 7ms/step - loss: 5.9892 - val_loss: 509.9328\n",
      "Epoch 388/500\n",
      "14/14 [==============================] - 0s 10ms/step - loss: 5.9819 - val_loss: 510.1218\n",
      "Epoch 389/500\n",
      "14/14 [==============================] - 0s 9ms/step - loss: 5.9751 - val_loss: 510.3044\n",
      "Epoch 390/500\n",
      "14/14 [==============================] - 0s 7ms/step - loss: 5.9687 - val_loss: 510.4816\n",
      "Epoch 391/500\n",
      "14/14 [==============================] - 0s 6ms/step - loss: 5.9627 - val_loss: 510.6530\n",
      "Epoch 392/500\n",
      "14/14 [==============================] - 0s 7ms/step - loss: 5.9570 - val_loss: 510.8188\n",
      "Epoch 393/500\n",
      "14/14 [==============================] - 0s 7ms/step - loss: 5.9517 - val_loss: 510.9794\n",
      "Epoch 394/500\n",
      "14/14 [==============================] - 0s 6ms/step - loss: 5.9467 - val_loss: 511.1344\n",
      "Epoch 395/500\n",
      "14/14 [==============================] - 0s 7ms/step - loss: 5.9420 - val_loss: 511.2843\n",
      "Epoch 396/500\n",
      "14/14 [==============================] - 0s 6ms/step - loss: 5.9376 - val_loss: 511.4293\n",
      "Epoch 397/500\n",
      "14/14 [==============================] - 0s 7ms/step - loss: 5.9335 - val_loss: 511.5688\n",
      "Epoch 398/500\n",
      "14/14 [==============================] - 0s 10ms/step - loss: 5.9296 - val_loss: 511.7038\n",
      "Epoch 399/500\n",
      "14/14 [==============================] - 0s 7ms/step - loss: 5.9260 - val_loss: 511.8346\n",
      "Epoch 400/500\n",
      "14/14 [==============================] - 0s 6ms/step - loss: 5.9226 - val_loss: 511.9599\n",
      "Epoch 401/500\n",
      "14/14 [==============================] - 0s 7ms/step - loss: 5.9194 - val_loss: 512.0814\n",
      "Epoch 402/500\n",
      "14/14 [==============================] - 0s 6ms/step - loss: 5.9164 - val_loss: 512.1986\n",
      "Epoch 403/500\n",
      "14/14 [==============================] - 0s 6ms/step - loss: 5.9136 - val_loss: 512.3118\n",
      "Epoch 404/500\n",
      "14/14 [==============================] - 0s 6ms/step - loss: 5.9109 - val_loss: 512.4204\n",
      "Epoch 405/500\n",
      "14/14 [==============================] - 0s 7ms/step - loss: 5.9085 - val_loss: 512.5255\n",
      "Epoch 406/500\n",
      "14/14 [==============================] - 0s 5ms/step - loss: 5.9061 - val_loss: 512.6255\n",
      "Epoch 407/500\n",
      "14/14 [==============================] - 0s 5ms/step - loss: 5.9040 - val_loss: 512.7231\n",
      "Epoch 408/500\n",
      "14/14 [==============================] - 0s 13ms/step - loss: 5.9020 - val_loss: 512.8165\n",
      "Epoch 409/500\n",
      "14/14 [==============================] - 0s 7ms/step - loss: 5.9001 - val_loss: 512.9067\n",
      "Epoch 410/500\n",
      "14/14 [==============================] - 0s 7ms/step - loss: 5.8983 - val_loss: 512.9933\n",
      "Epoch 411/500\n",
      "14/14 [==============================] - 0s 7ms/step - loss: 5.8966 - val_loss: 513.0768\n",
      "Epoch 412/500\n",
      "14/14 [==============================] - 0s 6ms/step - loss: 5.8950 - val_loss: 513.1566\n",
      "Epoch 413/500\n",
      "14/14 [==============================] - 0s 7ms/step - loss: 5.8935 - val_loss: 513.2335\n",
      "Epoch 414/500\n",
      "14/14 [==============================] - 0s 6ms/step - loss: 5.8922 - val_loss: 513.3074\n",
      "Epoch 415/500\n",
      "14/14 [==============================] - 0s 6ms/step - loss: 5.8909 - val_loss: 513.3783\n",
      "Epoch 416/500\n",
      "14/14 [==============================] - 0s 7ms/step - loss: 5.8897 - val_loss: 513.4467\n",
      "Epoch 417/500\n",
      "14/14 [==============================] - 0s 6ms/step - loss: 5.8885 - val_loss: 513.5121\n",
      "Epoch 418/500\n",
      "14/14 [==============================] - 0s 6ms/step - loss: 5.8875 - val_loss: 513.5748\n",
      "Epoch 419/500\n",
      "14/14 [==============================] - 0s 7ms/step - loss: 5.8865 - val_loss: 513.6348\n",
      "Epoch 420/500\n",
      "14/14 [==============================] - 0s 6ms/step - loss: 5.8855 - val_loss: 513.6922\n",
      "Epoch 421/500\n",
      "14/14 [==============================] - 0s 6ms/step - loss: 5.8847 - val_loss: 513.7475\n",
      "Epoch 422/500\n",
      "14/14 [==============================] - 0s 7ms/step - loss: 5.8838 - val_loss: 513.7999\n",
      "Epoch 423/500\n",
      "14/14 [==============================] - 0s 9ms/step - loss: 5.8831 - val_loss: 513.8506\n",
      "Epoch 424/500\n",
      "14/14 [==============================] - 0s 6ms/step - loss: 5.8824 - val_loss: 513.8992\n",
      "Epoch 425/500\n",
      "14/14 [==============================] - 0s 7ms/step - loss: 5.8817 - val_loss: 513.9453\n",
      "Epoch 426/500\n",
      "14/14 [==============================] - 0s 7ms/step - loss: 5.8811 - val_loss: 513.9899\n",
      "Epoch 427/500\n",
      "14/14 [==============================] - 0s 13ms/step - loss: 5.8805 - val_loss: 514.0317\n",
      "Epoch 428/500\n",
      "14/14 [==============================] - 0s 8ms/step - loss: 5.8800 - val_loss: 514.0726\n",
      "Epoch 429/500\n",
      "14/14 [==============================] - 0s 7ms/step - loss: 5.8795 - val_loss: 514.1108\n",
      "Epoch 430/500\n",
      "14/14 [==============================] - 0s 8ms/step - loss: 5.8790 - val_loss: 514.1477\n",
      "Epoch 431/500\n",
      "14/14 [==============================] - 0s 9ms/step - loss: 5.8786 - val_loss: 514.1827\n",
      "Epoch 432/500\n",
      "14/14 [==============================] - 0s 6ms/step - loss: 5.8782 - val_loss: 514.2163\n",
      "Epoch 433/500\n",
      "14/14 [==============================] - 0s 6ms/step - loss: 5.8778 - val_loss: 514.2484\n",
      "Epoch 434/500\n",
      "14/14 [==============================] - 0s 5ms/step - loss: 5.8775 - val_loss: 514.2790\n",
      "Epoch 435/500\n",
      "14/14 [==============================] - 0s 5ms/step - loss: 5.8771 - val_loss: 514.3083\n",
      "Epoch 436/500\n",
      "14/14 [==============================] - 0s 6ms/step - loss: 5.8768 - val_loss: 514.3362\n",
      "Epoch 437/500\n",
      "14/14 [==============================] - 0s 6ms/step - loss: 5.8765 - val_loss: 514.3624\n",
      "Epoch 438/500\n",
      "14/14 [==============================] - 0s 7ms/step - loss: 5.8763 - val_loss: 514.3877\n",
      "Epoch 439/500\n",
      "14/14 [==============================] - 0s 7ms/step - loss: 5.8760 - val_loss: 514.4114\n",
      "Epoch 440/500\n",
      "14/14 [==============================] - 0s 7ms/step - loss: 5.8758 - val_loss: 514.4343\n",
      "Epoch 441/500\n",
      "14/14 [==============================] - 0s 7ms/step - loss: 5.8756 - val_loss: 514.4559\n",
      "Epoch 442/500\n",
      "14/14 [==============================] - 0s 6ms/step - loss: 5.8754 - val_loss: 514.4762\n",
      "Epoch 443/500\n",
      "14/14 [==============================] - 0s 7ms/step - loss: 5.8753 - val_loss: 514.4954\n",
      "Epoch 444/500\n",
      "14/14 [==============================] - 0s 7ms/step - loss: 5.8751 - val_loss: 514.5139\n",
      "Epoch 445/500\n",
      "14/14 [==============================] - 0s 8ms/step - loss: 5.8750 - val_loss: 514.5317\n",
      "Epoch 446/500\n",
      "14/14 [==============================] - 0s 5ms/step - loss: 5.8749 - val_loss: 514.5484\n",
      "Epoch 447/500\n",
      "14/14 [==============================] - 0s 6ms/step - loss: 5.8748 - val_loss: 514.5644\n",
      "Epoch 448/500\n",
      "14/14 [==============================] - 0s 13ms/step - loss: 5.8746 - val_loss: 514.5794\n",
      "Epoch 449/500\n",
      "14/14 [==============================] - 0s 8ms/step - loss: 5.8745 - val_loss: 514.5934\n",
      "Epoch 450/500\n",
      "14/14 [==============================] - 0s 7ms/step - loss: 5.8745 - val_loss: 514.6066\n",
      "Epoch 451/500\n",
      "14/14 [==============================] - 0s 8ms/step - loss: 5.8744 - val_loss: 514.6197\n",
      "Epoch 452/500\n",
      "14/14 [==============================] - 0s 8ms/step - loss: 5.8743 - val_loss: 514.6313\n",
      "Epoch 453/500\n",
      "14/14 [==============================] - 0s 6ms/step - loss: 5.8743 - val_loss: 514.6428\n",
      "Epoch 454/500\n",
      "14/14 [==============================] - 0s 7ms/step - loss: 5.8743 - val_loss: 514.6533\n",
      "Epoch 455/500\n",
      "14/14 [==============================] - 0s 7ms/step - loss: 5.8742 - val_loss: 514.6633\n",
      "Epoch 456/500\n",
      "14/14 [==============================] - 0s 6ms/step - loss: 5.8742 - val_loss: 514.6729\n",
      "Epoch 457/500\n",
      "14/14 [==============================] - 0s 7ms/step - loss: 5.8742 - val_loss: 514.6818\n",
      "Epoch 458/500\n",
      "14/14 [==============================] - 0s 5ms/step - loss: 5.8742 - val_loss: 514.6905\n",
      "Epoch 459/500\n",
      "14/14 [==============================] - 0s 6ms/step - loss: 5.8742 - val_loss: 514.6979\n",
      "Epoch 460/500\n",
      "14/14 [==============================] - 0s 7ms/step - loss: 5.8742 - val_loss: 514.7059\n",
      "Epoch 461/500\n",
      "14/14 [==============================] - 0s 6ms/step - loss: 5.8742 - val_loss: 514.7130\n",
      "Epoch 462/500\n",
      "14/14 [==============================] - 0s 5ms/step - loss: 5.8742 - val_loss: 514.7192\n",
      "Epoch 463/500\n",
      "14/14 [==============================] - 0s 7ms/step - loss: 5.8742 - val_loss: 514.7256\n",
      "Epoch 464/500\n",
      "14/14 [==============================] - 0s 6ms/step - loss: 5.8743 - val_loss: 514.7313\n",
      "Epoch 465/500\n",
      "14/14 [==============================] - 0s 5ms/step - loss: 5.8743 - val_loss: 514.7369\n",
      "Epoch 466/500\n",
      "14/14 [==============================] - 0s 12ms/step - loss: 5.8743 - val_loss: 514.7419\n",
      "Epoch 467/500\n",
      "14/14 [==============================] - 0s 10ms/step - loss: 5.8744 - val_loss: 514.7467\n",
      "Epoch 468/500\n",
      "14/14 [==============================] - 0s 7ms/step - loss: 5.8744 - val_loss: 514.7513\n",
      "Epoch 469/500\n",
      "14/14 [==============================] - 0s 7ms/step - loss: 5.8745 - val_loss: 514.7556\n",
      "Epoch 470/500\n",
      "14/14 [==============================] - 0s 7ms/step - loss: 5.8745 - val_loss: 514.7596\n",
      "Epoch 471/500\n",
      "14/14 [==============================] - 0s 7ms/step - loss: 5.8746 - val_loss: 514.7628\n",
      "Epoch 472/500\n",
      "14/14 [==============================] - 0s 7ms/step - loss: 5.8747 - val_loss: 514.7664\n",
      "Epoch 473/500\n",
      "14/14 [==============================] - 0s 7ms/step - loss: 5.8747 - val_loss: 514.7693\n",
      "Epoch 474/500\n",
      "14/14 [==============================] - 0s 5ms/step - loss: 5.8748 - val_loss: 514.7722\n",
      "Epoch 475/500\n",
      "14/14 [==============================] - 0s 6ms/step - loss: 5.8749 - val_loss: 514.7750\n",
      "Epoch 476/500\n",
      "14/14 [==============================] - 0s 7ms/step - loss: 5.8749 - val_loss: 514.7776\n",
      "Epoch 477/500\n",
      "14/14 [==============================] - 0s 6ms/step - loss: 5.8750 - val_loss: 514.7795\n",
      "Epoch 478/500\n",
      "14/14 [==============================] - 0s 7ms/step - loss: 5.8751 - val_loss: 514.7820\n",
      "Epoch 479/500\n",
      "14/14 [==============================] - 0s 6ms/step - loss: 5.8752 - val_loss: 514.7841\n",
      "Epoch 480/500\n",
      "14/14 [==============================] - 0s 7ms/step - loss: 5.8752 - val_loss: 514.7859\n",
      "Epoch 481/500\n",
      "14/14 [==============================] - 0s 7ms/step - loss: 5.8753 - val_loss: 514.7874\n",
      "Epoch 482/500\n",
      "14/14 [==============================] - 0s 6ms/step - loss: 5.8754 - val_loss: 514.7889\n",
      "Epoch 483/500\n",
      "14/14 [==============================] - 0s 6ms/step - loss: 5.8755 - val_loss: 514.7900\n",
      "Epoch 484/500\n",
      "14/14 [==============================] - 0s 7ms/step - loss: 5.8756 - val_loss: 514.7915\n",
      "Epoch 485/500\n",
      "14/14 [==============================] - 0s 13ms/step - loss: 5.8757 - val_loss: 514.7925\n",
      "Epoch 486/500\n",
      "14/14 [==============================] - 0s 10ms/step - loss: 5.8758 - val_loss: 514.7938\n",
      "Epoch 487/500\n",
      "14/14 [==============================] - 0s 7ms/step - loss: 5.8759 - val_loss: 514.7947\n",
      "Epoch 488/500\n",
      "14/14 [==============================] - 0s 7ms/step - loss: 5.8760 - val_loss: 514.7953\n",
      "Epoch 489/500\n",
      "14/14 [==============================] - 0s 6ms/step - loss: 5.8761 - val_loss: 514.7962\n",
      "Epoch 490/500\n",
      "14/14 [==============================] - 0s 7ms/step - loss: 5.8762 - val_loss: 514.7968\n",
      "Epoch 491/500\n",
      "14/14 [==============================] - 0s 8ms/step - loss: 5.8763 - val_loss: 514.7972\n",
      "Epoch 492/500\n",
      "14/14 [==============================] - 0s 6ms/step - loss: 5.8764 - val_loss: 514.7980\n",
      "Epoch 493/500\n",
      "14/14 [==============================] - 0s 6ms/step - loss: 5.8765 - val_loss: 514.7984\n",
      "Epoch 494/500\n",
      "14/14 [==============================] - 0s 6ms/step - loss: 5.8766 - val_loss: 514.7988\n",
      "Epoch 495/500\n",
      "14/14 [==============================] - 0s 6ms/step - loss: 5.8767 - val_loss: 514.7993\n",
      "Epoch 496/500\n",
      "14/14 [==============================] - 0s 7ms/step - loss: 5.8768 - val_loss: 514.7996\n",
      "Epoch 497/500\n",
      "14/14 [==============================] - 0s 6ms/step - loss: 5.8769 - val_loss: 514.7997\n",
      "Epoch 498/500\n",
      "14/14 [==============================] - 0s 7ms/step - loss: 5.8770 - val_loss: 514.8000\n",
      "Epoch 499/500\n",
      "14/14 [==============================] - 0s 6ms/step - loss: 5.8771 - val_loss: 514.8002\n",
      "Epoch 500/500\n",
      "14/14 [==============================] - 0s 6ms/step - loss: 5.8773 - val_loss: 514.8002\n"
     ]
    }
   ],
   "source": [
    "C0 = tf.Variable(88.0403, name=\"C0\", trainable=True, dtype=tf.float32)\n",
    "K0 = tf.Variable(-0.0012, name=\"K0\", trainable=True, dtype=tf.float32)\n",
    "K1 = tf.Variable(-0.0001, name=\"K1\", trainable=True, dtype=tf.float32)\n",
    "a = tf.Variable(0.0000, name=\"a\", trainable=True, dtype=tf.float32)\n",
    "b = tf.Variable(0.0120, name=\"b\", trainable=True, dtype=tf.float32)\n",
    "c = tf.Variable(2.0334, name=\"c\", trainable=True, dtype=tf.float32)\n",
    "\n",
    "splitr = 0.8\n",
    "\n",
    "\n",
    "def loss_fn(y_true, y_pred):\n",
    "    squared_difference = tf.square(y_true[:, 0] - y_pred[:, 0])\n",
    "    #squared_difference2 = tf.square(y_true[:, 2]-y_pred[:, 2])\n",
    "    #squared_difference1 = tf.square(y_true[:, 1]-y_pred[:, 1])\n",
    "    epsilon = 1\n",
    "    squared_difference3 = tf.square(\n",
    "        y_pred[:, 1] - (\n",
    "            y_pred[:, 0] * (\n",
    "                K0 - K1 * (\n",
    "                    9 * a * tf.math.log((y_pred[:, 0] + epsilon) / C0) / (K0 - K1 * c)**2 +\n",
    "                    4 * b * tf.math.log((y_pred[:, 0] + epsilon) / C0) / (K0 - K1 * c) + c\n",
    "                )\n",
    "            )\n",
    "        )\n",
    "    )\n",
    "    return tf.reduce_mean(squared_difference, axis=-1) + 0.2*tf.reduce_mean(squared_difference3, axis=-1)\n",
    "model = Sequential()\n",
    "model.add(LSTM(100, input_shape=(trainX.shape[1], trainX.shape[2])))\n",
    "model.add(Dense(60))\n",
    "model.compile(loss=loss_fn, optimizer='adam')\n",
    "history = model.fit(trainX[:int(splitr*trainX.shape[0])], trainy[:int(splitr*trainX.shape[0])], epochs=500, batch_size=64, validation_data=(trainX[int(splitr*trainX.shape[0]):trainX.shape[0]], trainy[int(splitr*trainX.shape[0]):trainX.shape[0]]), shuffle=False)"
   ]
  },
  {
   "cell_type": "code",
   "execution_count": 19,
   "metadata": {
    "colab": {
     "base_uri": "https://localhost:8080/"
    },
    "id": "yJL101rPyuoT",
    "outputId": "239ff2b1-c186-423a-d316-939dfdd7c793"
   },
   "outputs": [
    {
     "name": "stdout",
     "output_type": "stream",
     "text": [
      "1/1 [==============================] - 0s 410ms/step\n"
     ]
    }
   ],
   "source": [
    "forecast_without_mc = forecastX\n",
    "yhat_without_mc = model.predict(forecast_without_mc) # Step Ahead Prediction\n",
    "forecast_without_mc = forecast_without_mc.reshape((forecast_without_mc.shape[0], forecast_without_mc.shape[2])) # Historical Input"
   ]
  },
  {
   "cell_type": "code",
   "execution_count": 20,
   "metadata": {
    "colab": {
     "base_uri": "https://localhost:8080/"
    },
    "id": "g9dQELcJ8wbp",
    "outputId": "4dc7671b-b1a8-48d5-8744-a86f98446109"
   },
   "outputs": [
    {
     "data": {
      "text/plain": [
       "(1, 1, 251)"
      ]
     },
     "execution_count": 20,
     "metadata": {},
     "output_type": "execute_result"
    }
   ],
   "source": [
    "forecastX.shape"
   ]
  },
  {
   "cell_type": "code",
   "execution_count": 21,
   "metadata": {
    "colab": {
     "base_uri": "https://localhost:8080/"
    },
    "id": "IS2kyIKG1Kbr",
    "outputId": "f31b3485-8e26-452f-9298-ea8bf7e80ad1"
   },
   "outputs": [
    {
     "data": {
      "text/plain": [
       "(1, 251)"
      ]
     },
     "execution_count": 21,
     "metadata": {},
     "output_type": "execute_result"
    }
   ],
   "source": [
    "forecast_without_mc.shape"
   ]
  },
  {
   "cell_type": "code",
   "execution_count": 22,
   "metadata": {
    "id": "0u6VIzaDyuoT"
   },
   "outputs": [],
   "source": [
    "inv_yhat_without_mc = np.concatenate((forecast_without_mc, yhat_without_mc), axis=1) # Concatenation of predicted values with Historical Data\n",
    "#inv_yhat_without_mc = scaler.inverse_transform(inv_yhat_without_mc) # Transform labels back to original encoding"
   ]
  },
  {
   "cell_type": "code",
   "execution_count": 23,
   "metadata": {
    "colab": {
     "base_uri": "https://localhost:8080/"
    },
    "id": "EUEcw0LX07oU",
    "outputId": "cfc32397-9c37-4b43-d087-584bb31c3dcc"
   },
   "outputs": [
    {
     "data": {
      "text/plain": [
       "(1, 311)"
      ]
     },
     "execution_count": 23,
     "metadata": {},
     "output_type": "execute_result"
    }
   ],
   "source": [
    "inv_yhat_without_mc.shape"
   ]
  },
  {
   "cell_type": "code",
   "execution_count": 24,
   "metadata": {
    "id": "31OWVbSh_305"
   },
   "outputs": [],
   "source": [
    "fforecast = inv_yhat_without_mc[:,-300:]"
   ]
  },
  {
   "cell_type": "code",
   "execution_count": 25,
   "metadata": {},
   "outputs": [
    {
     "data": {
      "text/plain": [
       "(1, 300)"
      ]
     },
     "execution_count": 25,
     "metadata": {},
     "output_type": "execute_result"
    }
   ],
   "source": [
    "fforecast.shape"
   ]
  },
  {
   "cell_type": "code",
   "execution_count": 26,
   "metadata": {
    "id": "BlpGH2FOAiRF"
   },
   "outputs": [],
   "source": [
    "final_forecast = fforecast[:,0:300:3]"
   ]
  },
  {
   "cell_type": "code",
   "execution_count": 27,
   "metadata": {},
   "outputs": [
    {
     "data": {
      "text/plain": [
       "(1, 300)"
      ]
     },
     "execution_count": 27,
     "metadata": {},
     "output_type": "execute_result"
    }
   ],
   "source": [
    "fforecast.shape"
   ]
  },
  {
   "cell_type": "code",
   "execution_count": 28,
   "metadata": {
    "id": "CXkgkj_LBk_t"
   },
   "outputs": [],
   "source": [
    "# code to replace all negative value with 0\n",
    "final_forecast[final_forecast<0] = 0"
   ]
  },
  {
   "cell_type": "code",
   "execution_count": 29,
   "metadata": {},
   "outputs": [
    {
     "data": {
      "text/plain": [
       "array([[7.50705929e+01, 7.50442624e+01, 7.50179318e+01, 7.49916013e+01,\n",
       "        7.49652708e+01, 7.49389402e+01, 7.49126097e+01, 7.48862792e+01,\n",
       "        7.48599487e+01, 7.48336181e+01, 7.48072876e+01, 7.47809570e+01,\n",
       "        7.47546265e+01, 7.47282960e+01, 7.47019655e+01, 7.46756349e+01,\n",
       "        7.46493044e+01, 7.46229739e+01, 7.45966433e+01, 7.45703128e+01,\n",
       "        7.45555696e+01, 7.45482866e+01, 7.45410037e+01, 7.45337208e+01,\n",
       "        7.45264379e+01, 7.45191550e+01, 7.45118721e+01, 7.45045892e+01,\n",
       "        7.44973063e+01, 7.44900233e+01, 7.44827404e+01, 7.44754575e+01,\n",
       "        7.44681746e+01, 7.44608917e+01, 7.44536088e+01, 7.44463259e+01,\n",
       "        7.44390430e+01, 7.44317600e+01, 7.44244771e+01, 7.44171942e+01,\n",
       "        7.44099113e+01, 7.44026284e+01, 7.43953455e+01, 7.43880626e+01,\n",
       "        7.43807796e+01, 7.43734967e+01, 7.43662138e+01, 7.81594538e+01,\n",
       "        7.80838235e+01, 7.80081933e+01, 7.79325630e+01, 7.78234360e+01,\n",
       "        7.76889823e+01, 7.75545285e+01, 7.74200747e+01, 7.72856209e+01,\n",
       "        7.71511671e+01, 7.70167134e+01, 7.68822596e+01, 7.67478058e+01,\n",
       "        7.66133520e+01, 7.64788982e+01, 7.63444444e+01, 7.62549953e+01,\n",
       "        7.61877684e+01, 7.61205415e+01, 7.60533147e+01, 7.59860878e+01,\n",
       "        7.59188609e+01, 7.58516340e+01, 7.57844071e+01, 7.57171802e+01,\n",
       "        7.56499533e+01, 7.54206314e+01, 0.00000000e+00, 9.95775300e-03,\n",
       "        0.00000000e+00, 0.00000000e+00, 0.00000000e+00, 0.00000000e+00,\n",
       "        7.10170059e+01, 2.75105417e-01, 1.08811498e+00, 6.24775290e-01,\n",
       "        0.00000000e+00, 0.00000000e+00, 4.78058785e-01, 1.47021383e-01,\n",
       "        2.75084823e-01, 5.81867754e-01, 2.32320845e-01, 0.00000000e+00,\n",
       "        5.50841987e-01, 3.95178497e-01, 9.49467063e-01, 0.00000000e+00,\n",
       "        1.04638457e+00, 0.00000000e+00, 9.38433111e-01, 3.85843426e-01]])"
      ]
     },
     "execution_count": 29,
     "metadata": {},
     "output_type": "execute_result"
    }
   ],
   "source": [
    "final_forecast"
   ]
  },
  {
   "cell_type": "code",
   "execution_count": 30,
   "metadata": {},
   "outputs": [
    {
     "data": {
      "text/plain": [
       "(1, 100)"
      ]
     },
     "execution_count": 30,
     "metadata": {},
     "output_type": "execute_result"
    }
   ],
   "source": [
    "final_forecast.shape"
   ]
  },
  {
   "cell_type": "code",
   "execution_count": 31,
   "metadata": {},
   "outputs": [
    {
     "data": {
      "text/plain": [
       "(100,)"
      ]
     },
     "execution_count": 31,
     "metadata": {},
     "output_type": "execute_result"
    }
   ],
   "source": [
    "test.shape"
   ]
  },
  {
   "cell_type": "code",
   "execution_count": 32,
   "metadata": {},
   "outputs": [],
   "source": [
    "training_set = np.array(training_set)\n",
    "test = np.array(test)\n",
    "final_forecast = np.array(final_forecast.squeeze(0))"
   ]
  },
  {
   "cell_type": "code",
   "execution_count": 33,
   "metadata": {},
   "outputs": [
    {
     "data": {
      "text/plain": [
       "array([72.11094771, 72.10441176, 72.09787582, 72.09133987, 72.08480392,\n",
       "       72.07826797, 72.07173203, 72.06519608, 72.05866013, 72.05212418,\n",
       "       72.04558824, 72.03905229, 72.03251634, 72.02598039, 72.01944444,\n",
       "       72.0129085 , 72.00637255, 71.9998366 , 71.99330065, 71.98676471,\n",
       "       71.98022876, 71.97369281, 71.96715686, 71.96062092, 71.95408497,\n",
       "       71.94754902, 71.94101307, 71.93447712, 71.92794118, 71.92140523,\n",
       "       71.91486928, 71.90833333, 71.90179739, 71.89526144, 71.88872549,\n",
       "       71.88218954, 71.87565359, 71.86911765, 71.8625817 , 71.85604575,\n",
       "       71.8495098 , 71.84297386, 71.83643791, 71.82990196, 71.82336601,\n",
       "       71.81683007, 71.81029412, 71.80375817, 71.79960317, 71.79866947,\n",
       "       71.79773576, 71.79680205, 71.79586835, 71.79493464, 71.79400093,\n",
       "       71.79306723, 71.79213352, 71.79119981, 71.79026611, 71.7893324 ,\n",
       "       71.78839869, 71.78746499, 71.78653128, 71.78559757, 71.78466387,\n",
       "       71.78373016, 71.78279645, 71.78186275, 71.78092904, 71.77999533,\n",
       "       71.77906162, 71.77812792, 71.77719421, 71.7762605 , 71.7753268 ,\n",
       "       71.77439309, 71.77345938, 71.77252568, 71.77159197, 71.77065826,\n",
       "       71.76972456, 71.76879085, 71.76785714, 71.76692344, 71.76598973,\n",
       "       71.76505602, 71.76412232, 71.76318861, 71.7622549 , 71.7613212 ,\n",
       "       71.76038749, 71.75945378, 71.75852007, 71.75758637, 71.75665266,\n",
       "       71.75571895, 71.75478525, 71.75385154, 71.75291783, 71.75198413])"
      ]
     },
     "execution_count": 33,
     "metadata": {},
     "output_type": "execute_result"
    }
   ],
   "source": [
    "test"
   ]
  },
  {
   "cell_type": "code",
   "execution_count": 34,
   "metadata": {},
   "outputs": [
    {
     "data": {
      "text/plain": [
       "(100,)"
      ]
     },
     "execution_count": 34,
     "metadata": {},
     "output_type": "execute_result"
    }
   ],
   "source": [
    "test.shape"
   ]
  },
  {
   "cell_type": "code",
   "execution_count": 35,
   "metadata": {},
   "outputs": [
    {
     "data": {
      "text/plain": [
       "(100,)"
      ]
     },
     "execution_count": 35,
     "metadata": {},
     "output_type": "execute_result"
    }
   ],
   "source": [
    "final_forecast.shape"
   ]
  },
  {
   "cell_type": "code",
   "execution_count": 36,
   "metadata": {},
   "outputs": [
    {
     "data": {
      "text/plain": [
       "(100,)"
      ]
     },
     "execution_count": 36,
     "metadata": {},
     "output_type": "execute_result"
    }
   ],
   "source": [
    "test.shape"
   ]
  },
  {
   "cell_type": "code",
   "execution_count": 37,
   "metadata": {},
   "outputs": [
    {
     "name": "stdout",
     "output_type": "stream",
     "text": [
      "35.86432965232382\n",
      "20.45410235094633\n"
     ]
    }
   ],
   "source": [
    "import math\n",
    "MSE = np.square(np.subtract(np.array(test),np.array(final_forecast))).mean()   \n",
    "rsme = math.sqrt(MSE)\n",
    "print(rsme)  \n",
    "MAE = np.abs(np.subtract(np.array(test),np.array(final_forecast))).mean()   \n",
    "mae = MAE\n",
    "print(mae)"
   ]
  }
 ],
 "metadata": {
  "colab": {
   "provenance": []
  },
  "kernelspec": {
   "display_name": "Python 3",
   "language": "python",
   "name": "python3"
  },
  "language_info": {
   "codemirror_mode": {
    "name": "ipython",
    "version": 3
   },
   "file_extension": ".py",
   "mimetype": "text/x-python",
   "name": "python",
   "nbconvert_exporter": "python",
   "pygments_lexer": "ipython3",
   "version": "3.9.13"
  }
 },
 "nbformat": 4,
 "nbformat_minor": 0
}
