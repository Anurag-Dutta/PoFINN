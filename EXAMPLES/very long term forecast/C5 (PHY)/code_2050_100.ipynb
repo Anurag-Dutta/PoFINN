{
 "cells": [
  {
   "cell_type": "markdown",
   "metadata": {
    "id": "pCGKeZ2gyuoQ"
   },
   "source": [
    "_Importing Required Libraries_"
   ]
  },
  {
   "cell_type": "code",
   "execution_count": 1,
   "metadata": {
    "colab": {
     "base_uri": "https://localhost:8080/"
    },
    "id": "A-6LN-zXiLcM",
    "outputId": "4de610a4-f8b8-4f49-c6c0-89de299ccedc"
   },
   "outputs": [
    {
     "name": "stdout",
     "output_type": "stream",
     "text": [
      "Requirement already satisfied: hampel in c:\\users\\anurag dutta\\appdata\\local\\packages\\pythonsoftwarefoundation.python.3.9_qbz5n2kfra8p0\\localcache\\local-packages\\python39\\site-packages (0.0.5)\n",
      "Requirement already satisfied: numpy in c:\\users\\anurag dutta\\appdata\\local\\packages\\pythonsoftwarefoundation.python.3.9_qbz5n2kfra8p0\\localcache\\local-packages\\python39\\site-packages (from hampel) (1.26.4)\n",
      "Requirement already satisfied: pandas in c:\\users\\anurag dutta\\appdata\\local\\packages\\pythonsoftwarefoundation.python.3.9_qbz5n2kfra8p0\\localcache\\local-packages\\python39\\site-packages (from hampel) (1.5.2)\n",
      "Requirement already satisfied: python-dateutil>=2.8.1 in c:\\users\\anurag dutta\\appdata\\local\\packages\\pythonsoftwarefoundation.python.3.9_qbz5n2kfra8p0\\localcache\\local-packages\\python39\\site-packages (from pandas->hampel) (2.8.2)\n",
      "Requirement already satisfied: pytz>=2020.1 in c:\\users\\anurag dutta\\appdata\\local\\packages\\pythonsoftwarefoundation.python.3.9_qbz5n2kfra8p0\\localcache\\local-packages\\python39\\site-packages (from pandas->hampel) (2023.3.post1)\n",
      "Requirement already satisfied: six>=1.5 in c:\\users\\anurag dutta\\appdata\\local\\packages\\pythonsoftwarefoundation.python.3.9_qbz5n2kfra8p0\\localcache\\local-packages\\python39\\site-packages (from python-dateutil>=2.8.1->pandas->hampel) (1.16.0)\n",
      "Note: you may need to restart the kernel to use updated packages.\n"
     ]
    },
    {
     "name": "stderr",
     "output_type": "stream",
     "text": [
      "\n",
      "[notice] A new release of pip is available: 24.2 -> 24.3.1\n",
      "[notice] To update, run: C:\\Users\\Anurag Dutta\\AppData\\Local\\Microsoft\\WindowsApps\\PythonSoftwareFoundation.Python.3.9_qbz5n2kfra8p0\\python.exe -m pip install --upgrade pip\n"
     ]
    }
   ],
   "source": [
    "pip install hampel"
   ]
  },
  {
   "cell_type": "code",
   "execution_count": 2,
   "metadata": {
    "id": "By_d9uXpaFvZ"
   },
   "outputs": [],
   "source": [
    "from keras.models import Sequential\n",
    "from keras.layers import Dense\n",
    "from keras.layers import LSTM\n",
    "from keras.layers import Dropout\n",
    "import keras\n",
    "import tensorflow as tf\n",
    "from hampel import hampel\n",
    "import numpy as np\n",
    "import matplotlib.pyplot as plt\n",
    "import pandas as pd\n",
    "from sklearn.preprocessing import MinMaxScaler\n",
    "from sklearn.metrics import mean_squared_error, mean_absolute_error\n",
    "from math import sqrt\n",
    "from matplotlib import pyplot\n",
    "from numpy import array"
   ]
  },
  {
   "cell_type": "markdown",
   "metadata": {
    "id": "JyOjBMFayuoR"
   },
   "source": [
    "## Pretraining"
   ]
  },
  {
   "cell_type": "markdown",
   "metadata": {
    "id": "-5QqIY_GyuoR"
   },
   "source": [
    "The `capa_intermittency.dat` feeds the model with the dynamics of the Capacitor"
   ]
  },
  {
   "cell_type": "code",
   "execution_count": 3,
   "metadata": {
    "id": "9dV4a8yfyuoR"
   },
   "outputs": [],
   "source": [
    "data = np.genfromtxt('capa_intermittency.dat')\n",
    "training_set = pd.DataFrame(data).reset_index(drop=True)\n",
    "training_set = training_set.iloc[:,0]"
   ]
  },
  {
   "cell_type": "markdown",
   "metadata": {
    "id": "i7easoxByuoR"
   },
   "source": [
    "## Computing the Gradient"
   ]
  },
  {
   "cell_type": "markdown",
   "metadata": {
    "id": "5SnyolJTyuoR"
   },
   "source": [
    "_Calculating the value of_ $\\frac{dx}{dt}$"
   ]
  },
  {
   "cell_type": "code",
   "execution_count": 4,
   "metadata": {
    "colab": {
     "base_uri": "https://localhost:8080/"
    },
    "id": "wmIbVfIvyuoR",
    "outputId": "aa4e3136-c854-465d-d2e9-81cfd546e440"
   },
   "outputs": [
    {
     "name": "stdout",
     "output_type": "stream",
     "text": [
      "1.0\n",
      "1        0.000298\n",
      "2        0.000298\n",
      "3        0.000297\n",
      "4        0.000297\n",
      "5        0.000297\n",
      "           ...   \n",
      "9996     0.000018\n",
      "9997     0.000018\n",
      "9998     0.000018\n",
      "9999     0.000018\n",
      "10000    0.000018\n",
      "Name: 0, Length: 10000, dtype: float64\n"
     ]
    }
   ],
   "source": [
    "t_diff = 1\n",
    "print(training_set.max())\n",
    "gradient_t = (training_set.diff()/t_diff).iloc[1:] # dx/dt\n",
    "print(gradient_t)"
   ]
  },
  {
   "cell_type": "markdown",
   "metadata": {
    "id": "_2eVeeoxyuoS"
   },
   "source": [
    "## Loading Datasets"
   ]
  },
  {
   "cell_type": "code",
   "execution_count": null,
   "metadata": {
    "id": "0J-NKyIEyuoS"
   },
   "outputs": [
    {
     "data": {
      "text/plain": [
       "0       89.140000\n",
       "1       88.911429\n",
       "2       88.682857\n",
       "3       88.454286\n",
       "4       88.225714\n",
       "          ...    \n",
       "2145    62.405493\n",
       "2146    62.397568\n",
       "2147    62.389643\n",
       "2148    62.381718\n",
       "2149    62.373792\n",
       "Name: C5, Length: 2150, dtype: float64"
      ]
     },
     "execution_count": 5,
     "metadata": {},
     "output_type": "execute_result"
    }
   ],
   "source": [
    "data = pd.read_csv(\"c5_interpolated_2050_100.csv\")\n",
    "training_set = data.iloc[:, 1]\n",
    "training_set"
   ]
  },
  {
   "cell_type": "code",
   "execution_count": 6,
   "metadata": {
    "colab": {
     "base_uri": "https://localhost:8080/"
    },
    "id": "-CbNUhJ74UqF",
    "outputId": "20f562d8-8247-49cc-b9c3-00eca5e13e2d"
   },
   "outputs": [
    {
     "data": {
      "text/plain": [
       "0       89.140000\n",
       "1       88.911429\n",
       "2       88.682857\n",
       "3       88.454286\n",
       "4       88.225714\n",
       "          ...    \n",
       "2045     0.004219\n",
       "2046     0.158435\n",
       "2047     0.000000\n",
       "2048     0.313862\n",
       "2049     0.000000\n",
       "Name: C5, Length: 2050, dtype: float64"
      ]
     },
     "execution_count": 6,
     "metadata": {},
     "output_type": "execute_result"
    }
   ],
   "source": [
    "test = training_set.tail(100)\n",
    "test\n",
    "training_set = training_set.head(2050)\n",
    "training_set"
   ]
  },
  {
   "cell_type": "code",
   "execution_count": 7,
   "metadata": {
    "colab": {
     "base_uri": "https://localhost:8080/"
    },
    "id": "X0TwTcq0yuoS",
    "outputId": "37252ed8-d88e-4044-fa7a-922411990b5b"
   },
   "outputs": [
    {
     "name": "stdout",
     "output_type": "stream",
     "text": [
      "0       0.000298\n",
      "1       0.000298\n",
      "2       0.000297\n",
      "3       0.000297\n",
      "4       0.000297\n",
      "          ...   \n",
      "9995    0.000018\n",
      "9996    0.000018\n",
      "9997    0.000018\n",
      "9998    0.000018\n",
      "9999    0.000018\n",
      "Name: 0, Length: 10000, dtype: float64\n"
     ]
    }
   ],
   "source": [
    "training_set = training_set.reset_index(drop=True)\n",
    "gradient_t = gradient_t.reset_index(drop=True)\n",
    "print(gradient_t)"
   ]
  },
  {
   "cell_type": "code",
   "execution_count": 8,
   "metadata": {
    "id": "O2biznZQyuoS"
   },
   "outputs": [],
   "source": [
    "df = pd.concat((training_set, gradient_t), axis=1)\n",
    "df.columns = ['y_t', 'grad_t']"
   ]
  },
  {
   "cell_type": "code",
   "execution_count": 9,
   "metadata": {
    "colab": {
     "base_uri": "https://localhost:8080/",
     "height": 423
    },
    "id": "sk_a5v3tyuoS",
    "outputId": "17563625-e550-45ae-faab-fafa353e44da"
   },
   "outputs": [
    {
     "data": {
      "text/html": [
       "<div>\n",
       "<style scoped>\n",
       "    .dataframe tbody tr th:only-of-type {\n",
       "        vertical-align: middle;\n",
       "    }\n",
       "\n",
       "    .dataframe tbody tr th {\n",
       "        vertical-align: top;\n",
       "    }\n",
       "\n",
       "    .dataframe thead th {\n",
       "        text-align: right;\n",
       "    }\n",
       "</style>\n",
       "<table border=\"1\" class=\"dataframe\">\n",
       "  <thead>\n",
       "    <tr style=\"text-align: right;\">\n",
       "      <th></th>\n",
       "      <th>y_t</th>\n",
       "      <th>grad_t</th>\n",
       "    </tr>\n",
       "  </thead>\n",
       "  <tbody>\n",
       "    <tr>\n",
       "      <th>0</th>\n",
       "      <td>89.140000</td>\n",
       "      <td>0.000298</td>\n",
       "    </tr>\n",
       "    <tr>\n",
       "      <th>1</th>\n",
       "      <td>88.911429</td>\n",
       "      <td>0.000298</td>\n",
       "    </tr>\n",
       "    <tr>\n",
       "      <th>2</th>\n",
       "      <td>88.682857</td>\n",
       "      <td>0.000297</td>\n",
       "    </tr>\n",
       "    <tr>\n",
       "      <th>3</th>\n",
       "      <td>88.454286</td>\n",
       "      <td>0.000297</td>\n",
       "    </tr>\n",
       "    <tr>\n",
       "      <th>4</th>\n",
       "      <td>88.225714</td>\n",
       "      <td>0.000297</td>\n",
       "    </tr>\n",
       "    <tr>\n",
       "      <th>...</th>\n",
       "      <td>...</td>\n",
       "      <td>...</td>\n",
       "    </tr>\n",
       "    <tr>\n",
       "      <th>9995</th>\n",
       "      <td>NaN</td>\n",
       "      <td>0.000018</td>\n",
       "    </tr>\n",
       "    <tr>\n",
       "      <th>9996</th>\n",
       "      <td>NaN</td>\n",
       "      <td>0.000018</td>\n",
       "    </tr>\n",
       "    <tr>\n",
       "      <th>9997</th>\n",
       "      <td>NaN</td>\n",
       "      <td>0.000018</td>\n",
       "    </tr>\n",
       "    <tr>\n",
       "      <th>9998</th>\n",
       "      <td>NaN</td>\n",
       "      <td>0.000018</td>\n",
       "    </tr>\n",
       "    <tr>\n",
       "      <th>9999</th>\n",
       "      <td>NaN</td>\n",
       "      <td>0.000018</td>\n",
       "    </tr>\n",
       "  </tbody>\n",
       "</table>\n",
       "<p>10000 rows × 2 columns</p>\n",
       "</div>"
      ],
      "text/plain": [
       "            y_t    grad_t\n",
       "0     89.140000  0.000298\n",
       "1     88.911429  0.000298\n",
       "2     88.682857  0.000297\n",
       "3     88.454286  0.000297\n",
       "4     88.225714  0.000297\n",
       "...         ...       ...\n",
       "9995        NaN  0.000018\n",
       "9996        NaN  0.000018\n",
       "9997        NaN  0.000018\n",
       "9998        NaN  0.000018\n",
       "9999        NaN  0.000018\n",
       "\n",
       "[10000 rows x 2 columns]"
      ]
     },
     "execution_count": 9,
     "metadata": {},
     "output_type": "execute_result"
    }
   ],
   "source": [
    "df"
   ]
  },
  {
   "cell_type": "markdown",
   "metadata": {
    "id": "-5esyHu5aFvg"
   },
   "source": [
    "## Plot of the External Forcing from Chaotic Differential Equation"
   ]
  },
  {
   "cell_type": "code",
   "execution_count": 10,
   "metadata": {
    "colab": {
     "base_uri": "https://localhost:8080/",
     "height": 447
    },
    "id": "hGnE43tOh-4p",
    "outputId": "fc396503-b624-4fa5-dfbe-f460207405c6"
   },
   "outputs": [
    {
     "data": {
      "text/plain": [
       "<Axes: >"
      ]
     },
     "execution_count": 10,
     "metadata": {},
     "output_type": "execute_result"
    },
    {
     "data": {
      "image/png": "[encoded data removed]",
      "text/plain": [
       "<Figure size 432x288 with 1 Axes>"
      ]
     },
     "metadata": {
      "needs_background": "light"
     },
     "output_type": "display_data"
    }
   ],
   "source": [
    "df.iloc[:, 0].plot()"
   ]
  },
  {
   "cell_type": "code",
   "execution_count": 11,
   "metadata": {
    "colab": {
     "base_uri": "https://localhost:8080/",
     "height": 447
    },
    "id": "ym4xWUUxaFvg",
    "outputId": "ae6a3495-8ce9-437e-ba81-3ed31deedeae"
   },
   "outputs": [
    {
     "name": "stderr",
     "output_type": "stream",
     "text": [
      "C:\\Users\\Anurag Dutta\\AppData\\Local\\Packages\\PythonSoftwareFoundation.Python.3.9_qbz5n2kfra8p0\\LocalCache\\local-packages\\Python39\\site-packages\\pandas\\core\\arraylike.py:402: RuntimeWarning: divide by zero encountered in log\n",
      "  result = getattr(ufunc, method)(*inputs, **kwargs)\n"
     ]
    },
    {
     "data": {
      "text/plain": [
       "<Axes: >"
      ]
     },
     "execution_count": 11,
     "metadata": {},
     "output_type": "execute_result"
    },
    {
     "data": {
      "image/png": "[encoded data removed]",
      "text/plain": [
       "<Figure size 432x288 with 1 Axes>"
      ]
     },
     "metadata": {
      "needs_background": "light"
     },
     "output_type": "display_data"
    }
   ],
   "source": [
    "import numpy as np\n",
    "c0 = 86.8407  # Value for C0\n",
    "K0 = -0.0015  # Value for K0\n",
    "K1 = -0.0001  # Value for K1\n",
    "a = 0.0000    # Value for a\n",
    "b = 0.0118    # Value for b\n",
    "c = 2.5775    # Value for c\n",
    "\n",
    "L = np.minimum(c0, (df.iloc[:, 1] - (df.iloc[:, 0] * (K0 - K1 * (9 * a * np.log(df.iloc[:, 0] / c0) / (K0 - K1 * c)**2 + 4 * b * np.log(df.iloc[:, 0] / c0) / (K0 - K1 * c) + c)))))\n",
    "L.plot()"
   ]
  },
  {
   "cell_type": "markdown",
   "metadata": {
    "id": "9VyEywnwaFvh"
   },
   "source": [
    "## Preprocessing the data into supervised learning"
   ]
  },
  {
   "cell_type": "code",
   "execution_count": 12,
   "metadata": {
    "id": "6V9dXqzdaFvh"
   },
   "outputs": [],
   "source": [
    "# split a sequence into samples\n",
    "def Supervised(data, n_in=1, n_out=1, dropnan=True):\n",
    "    n_vars = 1 if type(data) is list else data.shape[1]\n",
    "    df = pd.DataFrame(data)\n",
    "    cols, names = list(), list()\n",
    "    # input sequence (t-n_in, ... t-1)\n",
    "    for i in range(n_in, 0, -1):\n",
    "        cols.append(df.shift(i))\n",
    "        names += [('var%d(t-%d)' % (j+1, i)) for j in range(n_vars)]\n",
    "    # forecast sequence (t, t+1, ... t+n_out)\n",
    "    for i in range(0, n_out):\n",
    "      cols.append(df.shift(-i))\n",
    "      if i == 0:\n",
    "        names += [('var%d(t)' % (j+1)) for j in range(n_vars)]\n",
    "      else:\n",
    "        names += [('var%d(t+%d)' % (j+1, i)) for j in range(n_vars)]\n",
    "    # put it all together\n",
    "    agg = pd.concat(cols, axis=1)\n",
    "    agg.columns = names\n",
    "    # drop rows with NaN values\n",
    "    if dropnan:\n",
    "       agg.dropna(inplace=True)\n",
    "    return agg"
   ]
  },
  {
   "cell_type": "code",
   "execution_count": 13,
   "metadata": {
    "colab": {
     "base_uri": "https://localhost:8080/"
    },
    "id": "CrzSrT1HnyfH",
    "outputId": "7e75f928-3e47-499d-eac1-51908015ef78"
   },
   "outputs": [
    {
     "name": "stdout",
     "output_type": "stream",
     "text": [
      "     var1(t-350)  var1(t-349)  var1(t-348)  var1(t-347)  var1(t-346)  \\\n",
      "350    89.140000    88.911429    88.682857    88.454286    88.225714   \n",
      "351    88.911429    88.682857    88.454286    88.225714    87.997143   \n",
      "352    88.682857    88.454286    88.225714    87.997143    87.768571   \n",
      "353    88.454286    88.225714    87.997143    87.768571    87.540000   \n",
      "354    88.225714    87.997143    87.768571    87.540000    87.311429   \n",
      "\n",
      "     var1(t-345)  var1(t-344)  var1(t-343)  var1(t-342)  var1(t-341)  ...  \\\n",
      "350    87.997143    87.768571    87.540000    87.311429    87.095798  ...   \n",
      "351    87.768571    87.540000    87.311429    87.095798    87.039776  ...   \n",
      "352    87.540000    87.311429    87.095798    87.039776    86.983754  ...   \n",
      "353    87.311429    87.095798    87.039776    86.983754    86.927731  ...   \n",
      "354    87.095798    87.039776    86.983754    86.927731    86.871709  ...   \n",
      "\n",
      "     var1(t+95)  var2(t+95)  var1(t+96)  var2(t+96)  var1(t+97)  var2(t+97)  \\\n",
      "350   79.161181    0.000263   79.132236    0.000263   79.103291    0.000263   \n",
      "351   79.132236    0.000263   79.103291    0.000263   79.074346    0.000262   \n",
      "352   79.103291    0.000263   79.074346    0.000262   79.045401    0.000262   \n",
      "353   79.074346    0.000262   79.045401    0.000262   79.016457    0.000262   \n",
      "354   79.045401    0.000262   79.016457    0.000262   78.987512    0.000262   \n",
      "\n",
      "     var1(t+98)  var2(t+98)  var1(t+99)  var2(t+99)  \n",
      "350   79.074346    0.000262   79.045401    0.000262  \n",
      "351   79.045401    0.000262   79.016457    0.000262  \n",
      "352   79.016457    0.000262   78.987512    0.000262  \n",
      "353   78.987512    0.000262   78.958567    0.000262  \n",
      "354   78.958567    0.000262   78.929622    0.000262  \n",
      "\n",
      "[5 rows x 551 columns]\n",
      "Index(['var1(t-350)', 'var1(t-349)', 'var1(t-348)', 'var1(t-347)',\n",
      "       'var1(t-346)', 'var1(t-345)', 'var1(t-344)', 'var1(t-343)',\n",
      "       'var1(t-342)', 'var1(t-341)',\n",
      "       ...\n",
      "       'var1(t+95)', 'var2(t+95)', 'var1(t+96)', 'var2(t+96)', 'var1(t+97)',\n",
      "       'var2(t+97)', 'var1(t+98)', 'var2(t+98)', 'var1(t+99)', 'var2(t+99)'],\n",
      "      dtype='object', length=551)\n"
     ]
    }
   ],
   "source": [
    "data = Supervised(df.values, n_in = 350, n_out = 100)\n",
    "\n",
    "\n",
    "cols_to_drop = []\n",
    "for i in range(2, 351):\n",
    "    cols_to_drop.extend([f'var2(t-{i})'])\n",
    "\n",
    "data.drop(cols_to_drop, axis=1, inplace=True)\n",
    "\n",
    "print(data.head())\n",
    "print(data.columns)"
   ]
  },
  {
   "cell_type": "code",
   "execution_count": 14,
   "metadata": {
    "id": "AfPf60oy6Pe4"
   },
   "outputs": [],
   "source": [
    "train = np.array(data[0:len(data)-1])\n",
    "forecast = np.array(data.tail(1))"
   ]
  },
  {
   "cell_type": "code",
   "execution_count": 15,
   "metadata": {
    "id": "WSAafzI37KiT"
   },
   "outputs": [],
   "source": [
    "trainy = train[:,-300:]\n",
    "trainX = train[:,:-300]"
   ]
  },
  {
   "cell_type": "code",
   "execution_count": 16,
   "metadata": {
    "id": "2SrOqVJA7f50"
   },
   "outputs": [],
   "source": [
    "forecasty = forecast[:,-300:]\n",
    "forecastX = forecast[:,:-300]"
   ]
  },
  {
   "cell_type": "code",
   "execution_count": 17,
   "metadata": {
    "colab": {
     "base_uri": "https://localhost:8080/"
    },
    "id": "Qno_k8Nw7saY",
    "outputId": "c4a88db5-d8c6-489f-cdb2-06b24e293cff"
   },
   "outputs": [
    {
     "name": "stdout",
     "output_type": "stream",
     "text": [
      "(1600, 1, 251) (1600, 300) (1, 1, 251)\n"
     ]
    }
   ],
   "source": [
    "trainX = trainX.reshape((trainX.shape[0], 1, trainX.shape[1]))\n",
    "forecastX = forecastX.reshape((forecastX.shape[0], 1, forecastX.shape[1]))\n",
    "print(trainX.shape, trainy.shape, forecastX.shape)"
   ]
  },
  {
   "cell_type": "code",
   "execution_count": 18,
   "metadata": {
    "colab": {
     "base_uri": "https://localhost:8080/"
    },
    "id": "b1Jp2DvNuNFx",
    "outputId": "d0e5b3c4-64f1-438c-eade-8dfeaac8e285"
   },
   "outputs": [
    {
     "name": "stdout",
     "output_type": "stream",
     "text": [
      "Epoch 1/500\n",
      "20/20 [==============================] - 2s 25ms/step - loss: 5164.3071 - val_loss: 3089.6812\n",
      "Epoch 2/500\n",
      "20/20 [==============================] - 0s 5ms/step - loss: 4957.1592 - val_loss: 2952.6670\n",
      "Epoch 3/500\n",
      "20/20 [==============================] - 0s 3ms/step - loss: 4812.3408 - val_loss: 2878.8181\n",
      "Epoch 4/500\n",
      "20/20 [==============================] - 0s 4ms/step - loss: 4715.6006 - val_loss: 2822.7859\n",
      "Epoch 5/500\n",
      "20/20 [==============================] - 0s 4ms/step - loss: 4625.9834 - val_loss: 2769.0789\n",
      "Epoch 6/500\n",
      "20/20 [==============================] - 0s 5ms/step - loss: 4539.6265 - val_loss: 2717.6580\n",
      "Epoch 7/500\n",
      "20/20 [==============================] - 0s 4ms/step - loss: 4456.3525 - val_loss: 2670.3015\n",
      "Epoch 8/500\n",
      "20/20 [==============================] - 0s 4ms/step - loss: 4374.9194 - val_loss: 2622.4990\n",
      "Epoch 9/500\n",
      "20/20 [==============================] - 0s 4ms/step - loss: 4295.2529 - val_loss: 2575.9607\n",
      "Epoch 10/500\n",
      "20/20 [==============================] - 0s 3ms/step - loss: 4217.1572 - val_loss: 2530.5884\n",
      "Epoch 11/500\n",
      "20/20 [==============================] - 0s 4ms/step - loss: 4140.5029 - val_loss: 2486.3096\n",
      "Epoch 12/500\n",
      "20/20 [==============================] - 0s 5ms/step - loss: 4065.1960 - val_loss: 2443.0708\n",
      "Epoch 13/500\n",
      "20/20 [==============================] - 0s 4ms/step - loss: 3991.1660 - val_loss: 2400.8293\n",
      "Epoch 14/500\n",
      "20/20 [==============================] - 0s 5ms/step - loss: 3918.3579 - val_loss: 2359.5552\n",
      "Epoch 15/500\n",
      "20/20 [==============================] - 0s 4ms/step - loss: 3846.7273 - val_loss: 2319.2207\n",
      "Epoch 16/500\n",
      "20/20 [==============================] - 0s 5ms/step - loss: 3776.2383 - val_loss: 2279.7988\n",
      "Epoch 17/500\n",
      "20/20 [==============================] - 0s 4ms/step - loss: 3706.8594 - val_loss: 2241.2664\n",
      "Epoch 18/500\n",
      "20/20 [==============================] - 0s 4ms/step - loss: 3638.5637 - val_loss: 2203.6089\n",
      "Epoch 19/500\n",
      "20/20 [==============================] - 0s 4ms/step - loss: 3571.3274 - val_loss: 2166.8071\n",
      "Epoch 20/500\n",
      "20/20 [==============================] - 0s 5ms/step - loss: 3505.1277 - val_loss: 2130.8442\n",
      "Epoch 21/500\n",
      "20/20 [==============================] - 0s 4ms/step - loss: 3439.9478 - val_loss: 2095.7065\n",
      "Epoch 22/500\n",
      "20/20 [==============================] - 0s 5ms/step - loss: 3375.7681 - val_loss: 2061.3794\n",
      "Epoch 23/500\n",
      "20/20 [==============================] - 0s 5ms/step - loss: 3312.5723 - val_loss: 2027.8499\n",
      "Epoch 24/500\n",
      "20/20 [==============================] - 0s 4ms/step - loss: 3250.3452 - val_loss: 1995.1058\n",
      "Epoch 25/500\n",
      "20/20 [==============================] - 0s 3ms/step - loss: 3189.0725 - val_loss: 1963.1350\n",
      "Epoch 26/500\n",
      "20/20 [==============================] - 0s 4ms/step - loss: 3128.7402 - val_loss: 1931.9260\n",
      "Epoch 27/500\n",
      "20/20 [==============================] - 0s 5ms/step - loss: 3069.3347 - val_loss: 1901.4674\n",
      "Epoch 28/500\n",
      "20/20 [==============================] - 0s 5ms/step - loss: 3010.8445 - val_loss: 1871.7493\n",
      "Epoch 29/500\n",
      "20/20 [==============================] - 0s 6ms/step - loss: 2953.2563 - val_loss: 1842.7605\n",
      "Epoch 30/500\n",
      "20/20 [==============================] - 0s 4ms/step - loss: 2896.5598 - val_loss: 1814.4915\n",
      "Epoch 31/500\n",
      "20/20 [==============================] - 0s 5ms/step - loss: 2840.7424 - val_loss: 1786.9316\n",
      "Epoch 32/500\n",
      "20/20 [==============================] - 0s 5ms/step - loss: 2785.7935 - val_loss: 1760.0717\n",
      "Epoch 33/500\n",
      "20/20 [==============================] - 0s 4ms/step - loss: 2731.7029 - val_loss: 1733.9020\n",
      "Epoch 34/500\n",
      "20/20 [==============================] - 0s 5ms/step - loss: 2678.4597 - val_loss: 1708.4131\n",
      "Epoch 35/500\n",
      "20/20 [==============================] - 0s 6ms/step - loss: 2626.0542 - val_loss: 1683.5957\n",
      "Epoch 36/500\n",
      "20/20 [==============================] - 0s 5ms/step - loss: 2574.4761 - val_loss: 1659.4420\n",
      "Epoch 37/500\n",
      "20/20 [==============================] - 0s 4ms/step - loss: 2523.7158 - val_loss: 1635.9412\n",
      "Epoch 38/500\n",
      "20/20 [==============================] - 0s 5ms/step - loss: 2473.7634 - val_loss: 1613.0857\n",
      "Epoch 39/500\n",
      "20/20 [==============================] - 0s 4ms/step - loss: 2424.6106 - val_loss: 1590.8665\n",
      "Epoch 40/500\n",
      "20/20 [==============================] - 0s 5ms/step - loss: 2376.2466 - val_loss: 1569.2753\n",
      "Epoch 41/500\n",
      "20/20 [==============================] - 0s 4ms/step - loss: 2328.6641 - val_loss: 1548.3032\n",
      "Epoch 42/500\n",
      "20/20 [==============================] - 0s 5ms/step - loss: 2281.8521 - val_loss: 1527.9424\n",
      "Epoch 43/500\n",
      "20/20 [==============================] - 0s 3ms/step - loss: 2235.8042 - val_loss: 1508.1838\n",
      "Epoch 44/500\n",
      "20/20 [==============================] - 0s 4ms/step - loss: 2190.5093 - val_loss: 1489.0199\n",
      "Epoch 45/500\n",
      "20/20 [==============================] - 0s 13ms/step - loss: 2145.9604 - val_loss: 1470.4426\n",
      "Epoch 46/500\n",
      "20/20 [==============================] - 0s 5ms/step - loss: 2102.1484 - val_loss: 1452.4436\n",
      "Epoch 47/500\n",
      "20/20 [==============================] - 0s 4ms/step - loss: 2059.0649 - val_loss: 1435.0149\n",
      "Epoch 48/500\n",
      "20/20 [==============================] - 0s 5ms/step - loss: 2016.7019 - val_loss: 1418.1487\n",
      "Epoch 49/500\n",
      "20/20 [==============================] - 0s 4ms/step - loss: 1975.0514 - val_loss: 1401.8373\n",
      "Epoch 50/500\n",
      "20/20 [==============================] - 0s 5ms/step - loss: 1934.1049 - val_loss: 1386.0728\n",
      "Epoch 51/500\n",
      "20/20 [==============================] - 0s 5ms/step - loss: 1893.8541 - val_loss: 1370.8475\n",
      "Epoch 52/500\n",
      "20/20 [==============================] - 0s 4ms/step - loss: 1854.2913 - val_loss: 1356.1533\n",
      "Epoch 53/500\n",
      "20/20 [==============================] - 0s 4ms/step - loss: 1815.4088 - val_loss: 1341.9836\n",
      "Epoch 54/500\n",
      "20/20 [==============================] - 0s 4ms/step - loss: 1777.1990 - val_loss: 1328.3303\n",
      "Epoch 55/500\n",
      "20/20 [==============================] - 0s 5ms/step - loss: 1739.6537 - val_loss: 1315.1858\n",
      "Epoch 56/500\n",
      "20/20 [==============================] - 0s 4ms/step - loss: 1702.7654 - val_loss: 1302.5430\n",
      "Epoch 57/500\n",
      "20/20 [==============================] - 0s 4ms/step - loss: 1666.5270 - val_loss: 1290.3942\n",
      "Epoch 58/500\n",
      "20/20 [==============================] - 0s 7ms/step - loss: 1630.9304 - val_loss: 1278.7322\n",
      "Epoch 59/500\n",
      "20/20 [==============================] - 0s 4ms/step - loss: 1595.9679 - val_loss: 1267.5494\n",
      "Epoch 60/500\n",
      "20/20 [==============================] - 0s 4ms/step - loss: 1561.6329 - val_loss: 1256.8391\n",
      "Epoch 61/500\n",
      "20/20 [==============================] - 0s 4ms/step - loss: 1527.9175 - val_loss: 1246.5938\n",
      "Epoch 62/500\n",
      "20/20 [==============================] - 0s 4ms/step - loss: 1494.8146 - val_loss: 1236.8062\n",
      "Epoch 63/500\n",
      "20/20 [==============================] - 0s 4ms/step - loss: 1462.3167 - val_loss: 1227.4696\n",
      "Epoch 64/500\n",
      "20/20 [==============================] - 0s 3ms/step - loss: 1430.4167 - val_loss: 1218.5765\n",
      "Epoch 65/500\n",
      "20/20 [==============================] - 0s 4ms/step - loss: 1399.1077 - val_loss: 1210.1199\n",
      "Epoch 66/500\n",
      "20/20 [==============================] - 0s 5ms/step - loss: 1368.3828 - val_loss: 1202.0929\n",
      "Epoch 67/500\n",
      "20/20 [==============================] - 0s 5ms/step - loss: 1338.2343 - val_loss: 1194.4886\n",
      "Epoch 68/500\n",
      "20/20 [==============================] - 0s 5ms/step - loss: 1308.6555 - val_loss: 1187.2998\n",
      "Epoch 69/500\n",
      "20/20 [==============================] - 0s 5ms/step - loss: 1279.6396 - val_loss: 1180.5198\n",
      "Epoch 70/500\n",
      "20/20 [==============================] - 0s 4ms/step - loss: 1251.1796 - val_loss: 1174.1416\n",
      "Epoch 71/500\n",
      "20/20 [==============================] - 0s 4ms/step - loss: 1223.2688 - val_loss: 1168.1587\n",
      "Epoch 72/500\n",
      "20/20 [==============================] - 0s 5ms/step - loss: 1195.9000 - val_loss: 1162.5641\n",
      "Epoch 73/500\n",
      "20/20 [==============================] - 0s 5ms/step - loss: 1169.0670 - val_loss: 1157.3505\n",
      "Epoch 74/500\n",
      "20/20 [==============================] - 0s 5ms/step - loss: 1142.7625 - val_loss: 1152.5120\n",
      "Epoch 75/500\n",
      "20/20 [==============================] - 0s 7ms/step - loss: 1116.9802 - val_loss: 1148.0414\n",
      "Epoch 76/500\n",
      "20/20 [==============================] - 0s 6ms/step - loss: 1091.7131 - val_loss: 1143.9320\n",
      "Epoch 77/500\n",
      "20/20 [==============================] - 0s 4ms/step - loss: 1066.9553 - val_loss: 1140.1776\n",
      "Epoch 78/500\n",
      "20/20 [==============================] - 0s 11ms/step - loss: 1042.6995 - val_loss: 1136.7712\n",
      "Epoch 79/500\n",
      "20/20 [==============================] - 0s 6ms/step - loss: 1018.9393 - val_loss: 1133.7062\n",
      "Epoch 80/500\n",
      "20/20 [==============================] - 0s 5ms/step - loss: 995.6683 - val_loss: 1130.9762\n",
      "Epoch 81/500\n",
      "20/20 [==============================] - 0s 5ms/step - loss: 972.8799 - val_loss: 1128.5745\n",
      "Epoch 82/500\n",
      "20/20 [==============================] - 0s 5ms/step - loss: 950.5682 - val_loss: 1126.4949\n",
      "Epoch 83/500\n",
      "20/20 [==============================] - 0s 5ms/step - loss: 928.7266 - val_loss: 1124.7307\n",
      "Epoch 84/500\n",
      "20/20 [==============================] - 0s 6ms/step - loss: 907.3484 - val_loss: 1123.2756\n",
      "Epoch 85/500\n",
      "20/20 [==============================] - 0s 6ms/step - loss: 886.4276 - val_loss: 1122.1230\n",
      "Epoch 86/500\n",
      "20/20 [==============================] - 0s 6ms/step - loss: 865.9576 - val_loss: 1121.2667\n",
      "Epoch 87/500\n",
      "20/20 [==============================] - 0s 6ms/step - loss: 845.9325 - val_loss: 1120.7003\n",
      "Epoch 88/500\n",
      "20/20 [==============================] - 0s 7ms/step - loss: 826.3461 - val_loss: 1120.4174\n",
      "Epoch 89/500\n",
      "20/20 [==============================] - 0s 7ms/step - loss: 807.1920 - val_loss: 1120.4117\n",
      "Epoch 90/500\n",
      "20/20 [==============================] - 0s 7ms/step - loss: 788.4644 - val_loss: 1120.6772\n",
      "Epoch 91/500\n",
      "20/20 [==============================] - 0s 6ms/step - loss: 770.1567 - val_loss: 1121.2073\n",
      "Epoch 92/500\n",
      "20/20 [==============================] - 0s 6ms/step - loss: 752.2631 - val_loss: 1121.9963\n",
      "Epoch 93/500\n",
      "20/20 [==============================] - 0s 6ms/step - loss: 734.7775 - val_loss: 1123.0374\n",
      "Epoch 94/500\n",
      "20/20 [==============================] - 0s 6ms/step - loss: 717.6942 - val_loss: 1124.3248\n",
      "Epoch 95/500\n",
      "20/20 [==============================] - 0s 6ms/step - loss: 701.0068 - val_loss: 1125.8523\n",
      "Epoch 96/500\n",
      "20/20 [==============================] - 0s 6ms/step - loss: 684.7097 - val_loss: 1127.6139\n",
      "Epoch 97/500\n",
      "20/20 [==============================] - 0s 6ms/step - loss: 668.7964 - val_loss: 1129.6035\n",
      "Epoch 98/500\n",
      "20/20 [==============================] - 0s 6ms/step - loss: 653.2618 - val_loss: 1131.8151\n",
      "Epoch 99/500\n",
      "20/20 [==============================] - 0s 6ms/step - loss: 638.0994 - val_loss: 1134.2426\n",
      "Epoch 100/500\n",
      "20/20 [==============================] - 0s 6ms/step - loss: 623.3038 - val_loss: 1136.8801\n",
      "Epoch 101/500\n",
      "20/20 [==============================] - 0s 6ms/step - loss: 608.8690 - val_loss: 1139.7217\n",
      "Epoch 102/500\n",
      "20/20 [==============================] - 0s 6ms/step - loss: 594.7894 - val_loss: 1142.7617\n",
      "Epoch 103/500\n",
      "20/20 [==============================] - 0s 6ms/step - loss: 581.0592 - val_loss: 1145.9938\n",
      "Epoch 104/500\n",
      "20/20 [==============================] - 0s 6ms/step - loss: 567.6727 - val_loss: 1149.4125\n",
      "Epoch 105/500\n",
      "20/20 [==============================] - 0s 6ms/step - loss: 554.6242 - val_loss: 1153.0118\n",
      "Epoch 106/500\n",
      "20/20 [==============================] - 0s 6ms/step - loss: 541.9083 - val_loss: 1156.7864\n",
      "Epoch 107/500\n",
      "20/20 [==============================] - 0s 6ms/step - loss: 529.5192 - val_loss: 1160.7299\n",
      "Epoch 108/500\n",
      "20/20 [==============================] - 0s 6ms/step - loss: 517.4514 - val_loss: 1164.8368\n",
      "Epoch 109/500\n",
      "20/20 [==============================] - 0s 12ms/step - loss: 505.6995 - val_loss: 1169.1018\n",
      "Epoch 110/500\n",
      "20/20 [==============================] - 0s 6ms/step - loss: 494.2579 - val_loss: 1173.5192\n",
      "Epoch 111/500\n",
      "20/20 [==============================] - 0s 6ms/step - loss: 483.1212 - val_loss: 1178.0833\n",
      "Epoch 112/500\n",
      "20/20 [==============================] - 0s 6ms/step - loss: 472.2838 - val_loss: 1182.7883\n",
      "Epoch 113/500\n",
      "20/20 [==============================] - 0s 6ms/step - loss: 461.7406 - val_loss: 1187.6292\n",
      "Epoch 114/500\n",
      "20/20 [==============================] - 0s 6ms/step - loss: 451.4861 - val_loss: 1192.6003\n",
      "Epoch 115/500\n",
      "20/20 [==============================] - 0s 6ms/step - loss: 441.5151 - val_loss: 1197.6963\n",
      "Epoch 116/500\n",
      "20/20 [==============================] - 0s 6ms/step - loss: 431.8223 - val_loss: 1202.9119\n",
      "Epoch 117/500\n",
      "20/20 [==============================] - 0s 6ms/step - loss: 422.4022 - val_loss: 1208.2415\n",
      "Epoch 118/500\n",
      "20/20 [==============================] - 0s 6ms/step - loss: 413.2502 - val_loss: 1213.6799\n",
      "Epoch 119/500\n",
      "20/20 [==============================] - 0s 6ms/step - loss: 404.3604 - val_loss: 1219.2219\n",
      "Epoch 120/500\n",
      "20/20 [==============================] - 0s 9ms/step - loss: 395.7283 - val_loss: 1224.8625\n",
      "Epoch 121/500\n",
      "20/20 [==============================] - 0s 6ms/step - loss: 387.3486 - val_loss: 1230.5963\n",
      "Epoch 122/500\n",
      "20/20 [==============================] - 0s 6ms/step - loss: 379.2161 - val_loss: 1236.4186\n",
      "Epoch 123/500\n",
      "20/20 [==============================] - 0s 6ms/step - loss: 371.3260 - val_loss: 1242.3240\n",
      "Epoch 124/500\n",
      "20/20 [==============================] - 0s 5ms/step - loss: 363.6733 - val_loss: 1248.3075\n",
      "Epoch 125/500\n",
      "20/20 [==============================] - 0s 5ms/step - loss: 356.2530 - val_loss: 1254.3645\n",
      "Epoch 126/500\n",
      "20/20 [==============================] - 0s 5ms/step - loss: 349.0602 - val_loss: 1260.4899\n",
      "Epoch 127/500\n",
      "20/20 [==============================] - 0s 6ms/step - loss: 342.0902 - val_loss: 1266.6793\n",
      "Epoch 128/500\n",
      "20/20 [==============================] - 0s 5ms/step - loss: 335.3381 - val_loss: 1272.9272\n",
      "Epoch 129/500\n",
      "20/20 [==============================] - 0s 5ms/step - loss: 328.7991 - val_loss: 1279.2294\n",
      "Epoch 130/500\n",
      "20/20 [==============================] - 0s 5ms/step - loss: 322.4688 - val_loss: 1285.5808\n",
      "Epoch 131/500\n",
      "20/20 [==============================] - 0s 5ms/step - loss: 316.3422 - val_loss: 1291.9774\n",
      "Epoch 132/500\n",
      "20/20 [==============================] - 0s 5ms/step - loss: 310.4147 - val_loss: 1298.4148\n",
      "Epoch 133/500\n",
      "20/20 [==============================] - 0s 6ms/step - loss: 304.6819 - val_loss: 1304.8875\n",
      "Epoch 134/500\n",
      "20/20 [==============================] - 0s 6ms/step - loss: 299.1393 - val_loss: 1311.3923\n",
      "Epoch 135/500\n",
      "20/20 [==============================] - 0s 6ms/step - loss: 293.7822 - val_loss: 1317.9241\n",
      "Epoch 136/500\n",
      "20/20 [==============================] - 0s 6ms/step - loss: 288.6063 - val_loss: 1324.4786\n",
      "Epoch 137/500\n",
      "20/20 [==============================] - 0s 6ms/step - loss: 283.6073 - val_loss: 1331.0525\n",
      "Epoch 138/500\n",
      "20/20 [==============================] - 0s 9ms/step - loss: 278.7808 - val_loss: 1337.6409\n",
      "Epoch 139/500\n",
      "20/20 [==============================] - 0s 11ms/step - loss: 274.1225 - val_loss: 1344.2397\n",
      "Epoch 140/500\n",
      "20/20 [==============================] - 0s 7ms/step - loss: 269.6281 - val_loss: 1350.8455\n",
      "Epoch 141/500\n",
      "20/20 [==============================] - 0s 7ms/step - loss: 265.2935 - val_loss: 1357.4539\n",
      "Epoch 142/500\n",
      "20/20 [==============================] - 0s 7ms/step - loss: 261.1147 - val_loss: 1364.0616\n",
      "Epoch 143/500\n",
      "20/20 [==============================] - 0s 8ms/step - loss: 257.0873 - val_loss: 1370.6639\n",
      "Epoch 144/500\n",
      "20/20 [==============================] - 0s 7ms/step - loss: 253.2076 - val_loss: 1377.2576\n",
      "Epoch 145/500\n",
      "20/20 [==============================] - 0s 7ms/step - loss: 249.4715 - val_loss: 1383.8398\n",
      "Epoch 146/500\n",
      "20/20 [==============================] - 0s 5ms/step - loss: 245.8750 - val_loss: 1390.4061\n",
      "Epoch 147/500\n",
      "20/20 [==============================] - 0s 7ms/step - loss: 242.4145 - val_loss: 1396.9534\n",
      "Epoch 148/500\n",
      "20/20 [==============================] - 0s 8ms/step - loss: 239.0859 - val_loss: 1403.4783\n",
      "Epoch 149/500\n",
      "20/20 [==============================] - 0s 15ms/step - loss: 235.8857 - val_loss: 1409.9771\n",
      "Epoch 150/500\n",
      "20/20 [==============================] - 0s 10ms/step - loss: 232.8100 - val_loss: 1416.4476\n",
      "Epoch 151/500\n",
      "20/20 [==============================] - 0s 8ms/step - loss: 229.8554 - val_loss: 1422.8857\n",
      "Epoch 152/500\n",
      "20/20 [==============================] - 0s 6ms/step - loss: 227.0182 - val_loss: 1429.2887\n",
      "Epoch 153/500\n",
      "20/20 [==============================] - 0s 6ms/step - loss: 224.2947 - val_loss: 1435.6543\n",
      "Epoch 154/500\n",
      "20/20 [==============================] - 0s 8ms/step - loss: 221.6816 - val_loss: 1441.9789\n",
      "Epoch 155/500\n",
      "20/20 [==============================] - 0s 5ms/step - loss: 219.1757 - val_loss: 1448.2600\n",
      "Epoch 156/500\n",
      "20/20 [==============================] - 0s 7ms/step - loss: 216.7735 - val_loss: 1454.4945\n",
      "Epoch 157/500\n",
      "20/20 [==============================] - 0s 5ms/step - loss: 214.4716 - val_loss: 1460.6805\n",
      "Epoch 158/500\n",
      "20/20 [==============================] - 0s 5ms/step - loss: 212.2671 - val_loss: 1466.8151\n",
      "Epoch 159/500\n",
      "20/20 [==============================] - 0s 5ms/step - loss: 210.1566 - val_loss: 1472.8959\n",
      "Epoch 160/500\n",
      "20/20 [==============================] - 0s 5ms/step - loss: 208.1369 - val_loss: 1478.9207\n",
      "Epoch 161/500\n",
      "20/20 [==============================] - 0s 5ms/step - loss: 206.2054 - val_loss: 1484.8872\n",
      "Epoch 162/500\n",
      "20/20 [==============================] - 0s 5ms/step - loss: 204.3586 - val_loss: 1490.7936\n",
      "Epoch 163/500\n",
      "20/20 [==============================] - 0s 5ms/step - loss: 202.5940 - val_loss: 1496.6371\n",
      "Epoch 164/500\n",
      "20/20 [==============================] - 0s 6ms/step - loss: 200.9086 - val_loss: 1502.4163\n",
      "Epoch 165/500\n",
      "20/20 [==============================] - 0s 6ms/step - loss: 199.2995 - val_loss: 1508.1299\n",
      "Epoch 166/500\n",
      "20/20 [==============================] - 0s 6ms/step - loss: 197.7642 - val_loss: 1513.7751\n",
      "Epoch 167/500\n",
      "20/20 [==============================] - 0s 6ms/step - loss: 196.3000 - val_loss: 1519.3502\n",
      "Epoch 168/500\n",
      "20/20 [==============================] - 0s 6ms/step - loss: 194.9041 - val_loss: 1524.8547\n",
      "Epoch 169/500\n",
      "20/20 [==============================] - 0s 5ms/step - loss: 193.5741 - val_loss: 1530.2864\n",
      "Epoch 170/500\n",
      "20/20 [==============================] - 0s 6ms/step - loss: 192.3076 - val_loss: 1535.6436\n",
      "Epoch 171/500\n",
      "20/20 [==============================] - 0s 6ms/step - loss: 191.1021 - val_loss: 1540.9254\n",
      "Epoch 172/500\n",
      "20/20 [==============================] - 0s 5ms/step - loss: 189.9552 - val_loss: 1546.1310\n",
      "Epoch 173/500\n",
      "20/20 [==============================] - 0s 12ms/step - loss: 188.8646 - val_loss: 1551.2582\n",
      "Epoch 174/500\n",
      "20/20 [==============================] - 0s 6ms/step - loss: 187.8281 - val_loss: 1556.3066\n",
      "Epoch 175/500\n",
      "20/20 [==============================] - 0s 6ms/step - loss: 186.8436 - val_loss: 1561.2761\n",
      "Epoch 176/500\n",
      "20/20 [==============================] - 0s 5ms/step - loss: 185.9089 - val_loss: 1566.1643\n",
      "Epoch 177/500\n",
      "20/20 [==============================] - 0s 5ms/step - loss: 185.0220 - val_loss: 1570.9717\n",
      "Epoch 178/500\n",
      "20/20 [==============================] - 0s 7ms/step - loss: 184.1809 - val_loss: 1575.6964\n",
      "Epoch 179/500\n",
      "20/20 [==============================] - 0s 5ms/step - loss: 183.3837 - val_loss: 1580.3391\n",
      "Epoch 180/500\n",
      "20/20 [==============================] - 0s 5ms/step - loss: 182.6283 - val_loss: 1584.8987\n",
      "Epoch 181/500\n",
      "20/20 [==============================] - 0s 4ms/step - loss: 181.9131 - val_loss: 1589.3743\n",
      "Epoch 182/500\n",
      "20/20 [==============================] - 0s 5ms/step - loss: 181.2364 - val_loss: 1593.7657\n",
      "Epoch 183/500\n",
      "20/20 [==============================] - 0s 5ms/step - loss: 180.5962 - val_loss: 1598.0734\n",
      "Epoch 184/500\n",
      "20/20 [==============================] - 0s 5ms/step - loss: 179.9912 - val_loss: 1602.2961\n",
      "Epoch 185/500\n",
      "20/20 [==============================] - 0s 5ms/step - loss: 179.4196 - val_loss: 1606.4343\n",
      "Epoch 186/500\n",
      "20/20 [==============================] - 0s 5ms/step - loss: 178.8799 - val_loss: 1610.4878\n",
      "Epoch 187/500\n",
      "20/20 [==============================] - 0s 6ms/step - loss: 178.3705 - val_loss: 1614.4573\n",
      "Epoch 188/500\n",
      "20/20 [==============================] - 0s 7ms/step - loss: 177.8901 - val_loss: 1618.3418\n",
      "Epoch 189/500\n",
      "20/20 [==============================] - 0s 6ms/step - loss: 177.4373 - val_loss: 1622.1423\n",
      "Epoch 190/500\n",
      "20/20 [==============================] - 0s 6ms/step - loss: 177.0107 - val_loss: 1625.8585\n",
      "Epoch 191/500\n",
      "20/20 [==============================] - 0s 6ms/step - loss: 176.6090 - val_loss: 1629.4915\n",
      "Epoch 192/500\n",
      "20/20 [==============================] - 0s 5ms/step - loss: 176.2310 - val_loss: 1633.0406\n",
      "Epoch 193/500\n",
      "20/20 [==============================] - 0s 5ms/step - loss: 175.8755 - val_loss: 1636.5066\n",
      "Epoch 194/500\n",
      "20/20 [==============================] - 0s 5ms/step - loss: 175.5414 - val_loss: 1639.8903\n",
      "Epoch 195/500\n",
      "20/20 [==============================] - 0s 5ms/step - loss: 175.2276 - val_loss: 1643.1917\n",
      "Epoch 196/500\n",
      "20/20 [==============================] - 0s 5ms/step - loss: 174.9330 - val_loss: 1646.4121\n",
      "Epoch 197/500\n",
      "20/20 [==============================] - 0s 5ms/step - loss: 174.6567 - val_loss: 1649.5508\n",
      "Epoch 198/500\n",
      "20/20 [==============================] - 0s 6ms/step - loss: 174.3974 - val_loss: 1652.6110\n",
      "Epoch 199/500\n",
      "20/20 [==============================] - 0s 5ms/step - loss: 174.1545 - val_loss: 1655.5912\n",
      "Epoch 200/500\n",
      "20/20 [==============================] - 0s 6ms/step - loss: 173.9270 - val_loss: 1658.4929\n",
      "Epoch 201/500\n",
      "20/20 [==============================] - 0s 7ms/step - loss: 173.7141 - val_loss: 1661.3180\n",
      "Epoch 202/500\n",
      "20/20 [==============================] - 0s 7ms/step - loss: 173.5148 - val_loss: 1664.0652\n",
      "Epoch 203/500\n",
      "20/20 [==============================] - 0s 6ms/step - loss: 173.3286 - val_loss: 1666.7373\n",
      "Epoch 204/500\n",
      "20/20 [==============================] - 1s 29ms/step - loss: 173.1546 - val_loss: 1669.3340\n",
      "Epoch 205/500\n",
      "20/20 [==============================] - 0s 12ms/step - loss: 172.9921 - val_loss: 1671.8577\n",
      "Epoch 206/500\n",
      "20/20 [==============================] - 0s 7ms/step - loss: 172.8404 - val_loss: 1674.3086\n",
      "Epoch 207/500\n",
      "20/20 [==============================] - 0s 6ms/step - loss: 172.6989 - val_loss: 1676.6882\n",
      "Epoch 208/500\n",
      "20/20 [==============================] - 0s 5ms/step - loss: 172.5671 - val_loss: 1678.9963\n",
      "Epoch 209/500\n",
      "20/20 [==============================] - 0s 6ms/step - loss: 172.4442 - val_loss: 1681.2357\n",
      "Epoch 210/500\n",
      "20/20 [==============================] - 0s 5ms/step - loss: 172.3299 - val_loss: 1683.4069\n",
      "Epoch 211/500\n",
      "20/20 [==============================] - 0s 6ms/step - loss: 172.2235 - val_loss: 1685.5105\n",
      "Epoch 212/500\n",
      "20/20 [==============================] - 0s 6ms/step - loss: 172.1245 - val_loss: 1687.5488\n",
      "Epoch 213/500\n",
      "20/20 [==============================] - 0s 5ms/step - loss: 172.0325 - val_loss: 1689.5225\n",
      "Epoch 214/500\n",
      "20/20 [==============================] - 0s 5ms/step - loss: 171.9471 - val_loss: 1691.4316\n",
      "Epoch 215/500\n",
      "20/20 [==============================] - 0s 4ms/step - loss: 171.8679 - val_loss: 1693.2797\n",
      "Epoch 216/500\n",
      "20/20 [==============================] - 0s 6ms/step - loss: 171.7943 - val_loss: 1695.0664\n",
      "Epoch 217/500\n",
      "20/20 [==============================] - 0s 6ms/step - loss: 171.7261 - val_loss: 1696.7936\n",
      "Epoch 218/500\n",
      "20/20 [==============================] - 0s 8ms/step - loss: 171.6629 - val_loss: 1698.4625\n",
      "Epoch 219/500\n",
      "20/20 [==============================] - 0s 10ms/step - loss: 171.6043 - val_loss: 1700.0739\n",
      "Epoch 220/500\n",
      "20/20 [==============================] - 0s 8ms/step - loss: 171.5502 - val_loss: 1701.6301\n",
      "Epoch 221/500\n",
      "20/20 [==============================] - 0s 5ms/step - loss: 171.5000 - val_loss: 1703.1316\n",
      "Epoch 222/500\n",
      "20/20 [==============================] - 0s 5ms/step - loss: 171.4537 - val_loss: 1704.5795\n",
      "Epoch 223/500\n",
      "20/20 [==============================] - 0s 5ms/step - loss: 171.4108 - val_loss: 1705.9762\n",
      "Epoch 224/500\n",
      "20/20 [==============================] - 0s 5ms/step - loss: 171.3713 - val_loss: 1707.3209\n",
      "Epoch 225/500\n",
      "20/20 [==============================] - 0s 5ms/step - loss: 171.3349 - val_loss: 1708.6168\n",
      "Epoch 226/500\n",
      "20/20 [==============================] - 0s 5ms/step - loss: 171.3011 - val_loss: 1709.8652\n",
      "Epoch 227/500\n",
      "20/20 [==============================] - 0s 5ms/step - loss: 171.2701 - val_loss: 1711.0660\n",
      "Epoch 228/500\n",
      "20/20 [==============================] - 0s 5ms/step - loss: 171.2415 - val_loss: 1712.2211\n",
      "Epoch 229/500\n",
      "20/20 [==============================] - 0s 5ms/step - loss: 171.2152 - val_loss: 1713.3328\n",
      "Epoch 230/500\n",
      "20/20 [==============================] - 0s 7ms/step - loss: 171.1910 - val_loss: 1714.4006\n",
      "Epoch 231/500\n",
      "20/20 [==============================] - 0s 10ms/step - loss: 171.1688 - val_loss: 1715.4277\n",
      "Epoch 232/500\n",
      "20/20 [==============================] - 0s 6ms/step - loss: 171.1482 - val_loss: 1716.4135\n",
      "Epoch 233/500\n",
      "20/20 [==============================] - 0s 6ms/step - loss: 171.1294 - val_loss: 1717.3597\n",
      "Epoch 234/500\n",
      "20/20 [==============================] - 0s 7ms/step - loss: 171.1121 - val_loss: 1718.2670\n",
      "Epoch 235/500\n",
      "20/20 [==============================] - 0s 8ms/step - loss: 171.0963 - val_loss: 1719.1387\n",
      "Epoch 236/500\n",
      "20/20 [==============================] - 0s 7ms/step - loss: 171.0818 - val_loss: 1719.9742\n",
      "Epoch 237/500\n",
      "20/20 [==============================] - 0s 5ms/step - loss: 171.0685 - val_loss: 1720.7747\n",
      "Epoch 238/500\n",
      "20/20 [==============================] - 0s 5ms/step - loss: 171.0562 - val_loss: 1721.5410\n",
      "Epoch 239/500\n",
      "20/20 [==============================] - 0s 5ms/step - loss: 171.0450 - val_loss: 1722.2750\n",
      "Epoch 240/500\n",
      "20/20 [==============================] - 0s 5ms/step - loss: 171.0348 - val_loss: 1722.9769\n",
      "Epoch 241/500\n",
      "20/20 [==============================] - 0s 5ms/step - loss: 171.0255 - val_loss: 1723.6500\n",
      "Epoch 242/500\n",
      "20/20 [==============================] - 0s 4ms/step - loss: 171.0170 - val_loss: 1724.2930\n",
      "Epoch 243/500\n",
      "20/20 [==============================] - 0s 4ms/step - loss: 171.0091 - val_loss: 1724.9072\n",
      "Epoch 244/500\n",
      "20/20 [==============================] - 0s 5ms/step - loss: 171.0021 - val_loss: 1725.4948\n",
      "Epoch 245/500\n",
      "20/20 [==============================] - 0s 5ms/step - loss: 170.9955 - val_loss: 1726.0554\n",
      "Epoch 246/500\n",
      "20/20 [==============================] - 0s 5ms/step - loss: 170.9898 - val_loss: 1726.5905\n",
      "Epoch 247/500\n",
      "20/20 [==============================] - 0s 6ms/step - loss: 170.9844 - val_loss: 1727.1031\n",
      "Epoch 248/500\n",
      "20/20 [==============================] - 0s 5ms/step - loss: 170.9795 - val_loss: 1727.5898\n",
      "Epoch 249/500\n",
      "20/20 [==============================] - 0s 7ms/step - loss: 170.9751 - val_loss: 1728.0547\n",
      "Epoch 250/500\n",
      "20/20 [==============================] - 0s 7ms/step - loss: 170.9710 - val_loss: 1728.4980\n",
      "Epoch 251/500\n",
      "20/20 [==============================] - 0s 6ms/step - loss: 170.9675 - val_loss: 1728.9209\n",
      "Epoch 252/500\n",
      "20/20 [==============================] - 0s 7ms/step - loss: 170.9642 - val_loss: 1729.3219\n",
      "Epoch 253/500\n",
      "20/20 [==============================] - 0s 7ms/step - loss: 170.9612 - val_loss: 1729.7043\n",
      "Epoch 254/500\n",
      "20/20 [==============================] - 0s 6ms/step - loss: 170.9586 - val_loss: 1730.0687\n",
      "Epoch 255/500\n",
      "20/20 [==============================] - 0s 6ms/step - loss: 170.9562 - val_loss: 1730.4148\n",
      "Epoch 256/500\n",
      "20/20 [==============================] - 0s 6ms/step - loss: 170.9541 - val_loss: 1730.7441\n",
      "Epoch 257/500\n",
      "20/20 [==============================] - 0s 6ms/step - loss: 170.9521 - val_loss: 1731.0574\n",
      "Epoch 258/500\n",
      "20/20 [==============================] - 0s 12ms/step - loss: 170.9504 - val_loss: 1731.3531\n",
      "Epoch 259/500\n",
      "20/20 [==============================] - 0s 8ms/step - loss: 170.9489 - val_loss: 1731.6364\n",
      "Epoch 260/500\n",
      "20/20 [==============================] - 0s 9ms/step - loss: 170.9476 - val_loss: 1731.9039\n",
      "Epoch 261/500\n",
      "20/20 [==============================] - 0s 7ms/step - loss: 170.9464 - val_loss: 1732.1578\n",
      "Epoch 262/500\n",
      "20/20 [==============================] - 0s 6ms/step - loss: 170.9453 - val_loss: 1732.3988\n",
      "Epoch 263/500\n",
      "20/20 [==============================] - 0s 6ms/step - loss: 170.9445 - val_loss: 1732.6276\n",
      "Epoch 264/500\n",
      "20/20 [==============================] - 0s 6ms/step - loss: 170.9437 - val_loss: 1732.8431\n",
      "Epoch 265/500\n",
      "20/20 [==============================] - 0s 6ms/step - loss: 170.9431 - val_loss: 1733.0479\n",
      "Epoch 266/500\n",
      "20/20 [==============================] - 0s 6ms/step - loss: 170.9425 - val_loss: 1733.2419\n",
      "Epoch 267/500\n",
      "20/20 [==============================] - 0s 5ms/step - loss: 170.9420 - val_loss: 1733.4252\n",
      "Epoch 268/500\n",
      "20/20 [==============================] - 0s 5ms/step - loss: 170.9417 - val_loss: 1733.5989\n",
      "Epoch 269/500\n",
      "20/20 [==============================] - 0s 6ms/step - loss: 170.9414 - val_loss: 1733.7639\n",
      "Epoch 270/500\n",
      "20/20 [==============================] - 0s 6ms/step - loss: 170.9411 - val_loss: 1733.9187\n",
      "Epoch 271/500\n",
      "20/20 [==============================] - 0s 5ms/step - loss: 170.9410 - val_loss: 1734.0651\n",
      "Epoch 272/500\n",
      "20/20 [==============================] - 0s 5ms/step - loss: 170.9410 - val_loss: 1734.2031\n",
      "Epoch 273/500\n",
      "20/20 [==============================] - 0s 6ms/step - loss: 170.9409 - val_loss: 1734.3344\n",
      "Epoch 274/500\n",
      "20/20 [==============================] - 0s 6ms/step - loss: 170.9409 - val_loss: 1734.4570\n",
      "Epoch 275/500\n",
      "20/20 [==============================] - 0s 6ms/step - loss: 170.9410 - val_loss: 1734.5739\n",
      "Epoch 276/500\n",
      "20/20 [==============================] - 0s 6ms/step - loss: 170.9412 - val_loss: 1734.6833\n",
      "Epoch 277/500\n",
      "20/20 [==============================] - 0s 7ms/step - loss: 170.9413 - val_loss: 1734.7871\n",
      "Epoch 278/500\n",
      "20/20 [==============================] - 0s 7ms/step - loss: 170.9415 - val_loss: 1734.8848\n",
      "Epoch 279/500\n",
      "20/20 [==============================] - 0s 7ms/step - loss: 170.9417 - val_loss: 1734.9756\n",
      "Epoch 280/500\n",
      "20/20 [==============================] - 0s 7ms/step - loss: 170.9420 - val_loss: 1735.0621\n",
      "Epoch 281/500\n",
      "20/20 [==============================] - 0s 6ms/step - loss: 170.9423 - val_loss: 1735.1438\n",
      "Epoch 282/500\n",
      "20/20 [==============================] - 0s 6ms/step - loss: 170.9426 - val_loss: 1735.2200\n",
      "Epoch 283/500\n",
      "20/20 [==============================] - 0s 6ms/step - loss: 170.9429 - val_loss: 1735.2914\n",
      "Epoch 284/500\n",
      "20/20 [==============================] - 0s 13ms/step - loss: 170.9433 - val_loss: 1735.3591\n",
      "Epoch 285/500\n",
      "20/20 [==============================] - 0s 6ms/step - loss: 170.9438 - val_loss: 1735.4232\n",
      "Epoch 286/500\n",
      "20/20 [==============================] - 0s 6ms/step - loss: 170.9441 - val_loss: 1735.4827\n",
      "Epoch 287/500\n",
      "20/20 [==============================] - 0s 6ms/step - loss: 170.9445 - val_loss: 1735.5383\n",
      "Epoch 288/500\n",
      "20/20 [==============================] - 0s 6ms/step - loss: 170.9449 - val_loss: 1735.5902\n",
      "Epoch 289/500\n",
      "20/20 [==============================] - 0s 6ms/step - loss: 170.9454 - val_loss: 1735.6390\n",
      "Epoch 290/500\n",
      "20/20 [==============================] - 0s 5ms/step - loss: 170.9458 - val_loss: 1735.6843\n",
      "Epoch 291/500\n",
      "20/20 [==============================] - 0s 4ms/step - loss: 170.9463 - val_loss: 1735.7272\n",
      "Epoch 292/500\n",
      "20/20 [==============================] - 0s 5ms/step - loss: 170.9468 - val_loss: 1735.7672\n",
      "Epoch 293/500\n",
      "20/20 [==============================] - 0s 5ms/step - loss: 170.9473 - val_loss: 1735.8047\n",
      "Epoch 294/500\n",
      "20/20 [==============================] - 0s 5ms/step - loss: 170.9478 - val_loss: 1735.8398\n",
      "Epoch 295/500\n",
      "20/20 [==============================] - 0s 4ms/step - loss: 170.9483 - val_loss: 1735.8730\n",
      "Epoch 296/500\n",
      "20/20 [==============================] - 0s 4ms/step - loss: 170.9487 - val_loss: 1735.9039\n",
      "Epoch 297/500\n",
      "20/20 [==============================] - 0s 4ms/step - loss: 170.9492 - val_loss: 1735.9324\n",
      "Epoch 298/500\n",
      "20/20 [==============================] - 0s 5ms/step - loss: 170.9498 - val_loss: 1735.9583\n",
      "Epoch 299/500\n",
      "20/20 [==============================] - 0s 4ms/step - loss: 170.9503 - val_loss: 1735.9834\n",
      "Epoch 300/500\n",
      "20/20 [==============================] - 0s 4ms/step - loss: 170.9508 - val_loss: 1736.0066\n",
      "Epoch 301/500\n",
      "20/20 [==============================] - 0s 4ms/step - loss: 170.9513 - val_loss: 1736.0276\n",
      "Epoch 302/500\n",
      "20/20 [==============================] - 0s 4ms/step - loss: 170.9519 - val_loss: 1736.0481\n",
      "Epoch 303/500\n",
      "20/20 [==============================] - 0s 5ms/step - loss: 170.9524 - val_loss: 1736.0670\n",
      "Epoch 304/500\n",
      "20/20 [==============================] - 0s 5ms/step - loss: 170.9530 - val_loss: 1736.0840\n",
      "Epoch 305/500\n",
      "20/20 [==============================] - 0s 6ms/step - loss: 170.9534 - val_loss: 1736.0992\n",
      "Epoch 306/500\n",
      "20/20 [==============================] - 0s 5ms/step - loss: 170.9540 - val_loss: 1736.1149\n",
      "Epoch 307/500\n",
      "20/20 [==============================] - 0s 5ms/step - loss: 170.9546 - val_loss: 1736.1285\n",
      "Epoch 308/500\n",
      "20/20 [==============================] - 0s 6ms/step - loss: 170.9550 - val_loss: 1736.1414\n",
      "Epoch 309/500\n",
      "20/20 [==============================] - 0s 5ms/step - loss: 170.9556 - val_loss: 1736.1536\n",
      "Epoch 310/500\n",
      "20/20 [==============================] - 0s 14ms/step - loss: 170.9561 - val_loss: 1736.1643\n",
      "Epoch 311/500\n",
      "20/20 [==============================] - 0s 6ms/step - loss: 170.9566 - val_loss: 1736.1746\n",
      "Epoch 312/500\n",
      "20/20 [==============================] - 0s 7ms/step - loss: 170.9571 - val_loss: 1736.1838\n",
      "Epoch 313/500\n",
      "20/20 [==============================] - 0s 6ms/step - loss: 170.9577 - val_loss: 1736.1921\n",
      "Epoch 314/500\n",
      "20/20 [==============================] - 0s 8ms/step - loss: 170.9582 - val_loss: 1736.1992\n",
      "Epoch 315/500\n",
      "20/20 [==============================] - 0s 6ms/step - loss: 170.9588 - val_loss: 1736.2068\n",
      "Epoch 316/500\n",
      "20/20 [==============================] - 0s 7ms/step - loss: 170.9592 - val_loss: 1736.2135\n",
      "Epoch 317/500\n",
      "20/20 [==============================] - 0s 6ms/step - loss: 170.9597 - val_loss: 1736.2195\n",
      "Epoch 318/500\n",
      "20/20 [==============================] - 0s 7ms/step - loss: 170.9602 - val_loss: 1736.2252\n",
      "Epoch 319/500\n",
      "20/20 [==============================] - 0s 6ms/step - loss: 170.9607 - val_loss: 1736.2295\n",
      "Epoch 320/500\n",
      "20/20 [==============================] - 0s 7ms/step - loss: 170.9613 - val_loss: 1736.2344\n",
      "Epoch 321/500\n",
      "20/20 [==============================] - 0s 7ms/step - loss: 170.9617 - val_loss: 1736.2389\n",
      "Epoch 322/500\n",
      "20/20 [==============================] - 0s 6ms/step - loss: 170.9622 - val_loss: 1736.2424\n",
      "Epoch 323/500\n",
      "20/20 [==============================] - 0s 7ms/step - loss: 170.9627 - val_loss: 1736.2461\n",
      "Epoch 324/500\n",
      "20/20 [==============================] - 0s 8ms/step - loss: 170.9631 - val_loss: 1736.2488\n",
      "Epoch 325/500\n",
      "20/20 [==============================] - 0s 7ms/step - loss: 170.9636 - val_loss: 1736.2513\n",
      "Epoch 326/500\n",
      "20/20 [==============================] - 0s 7ms/step - loss: 170.9641 - val_loss: 1736.2542\n",
      "Epoch 327/500\n",
      "20/20 [==============================] - 0s 7ms/step - loss: 170.9645 - val_loss: 1736.2555\n",
      "Epoch 328/500\n",
      "20/20 [==============================] - 0s 7ms/step - loss: 170.9650 - val_loss: 1736.2574\n",
      "Epoch 329/500\n",
      "20/20 [==============================] - 0s 6ms/step - loss: 170.9655 - val_loss: 1736.2594\n",
      "Epoch 330/500\n",
      "20/20 [==============================] - 0s 6ms/step - loss: 170.9660 - val_loss: 1736.2610\n",
      "Epoch 331/500\n",
      "20/20 [==============================] - 0s 8ms/step - loss: 170.9664 - val_loss: 1736.2623\n",
      "Epoch 332/500\n",
      "20/20 [==============================] - 0s 8ms/step - loss: 170.9667 - val_loss: 1736.2631\n",
      "Epoch 333/500\n",
      "20/20 [==============================] - 0s 8ms/step - loss: 170.9672 - val_loss: 1736.2644\n",
      "Epoch 334/500\n",
      "20/20 [==============================] - 0s 15ms/step - loss: 170.9677 - val_loss: 1736.2656\n",
      "Epoch 335/500\n",
      "20/20 [==============================] - 0s 10ms/step - loss: 170.9680 - val_loss: 1736.2654\n",
      "Epoch 336/500\n",
      "20/20 [==============================] - 0s 8ms/step - loss: 170.9685 - val_loss: 1736.2660\n",
      "Epoch 337/500\n",
      "20/20 [==============================] - 0s 8ms/step - loss: 170.9689 - val_loss: 1736.2662\n",
      "Epoch 338/500\n",
      "20/20 [==============================] - 0s 7ms/step - loss: 170.9694 - val_loss: 1736.2666\n",
      "Epoch 339/500\n",
      "20/20 [==============================] - 0s 7ms/step - loss: 170.9698 - val_loss: 1736.2664\n",
      "Epoch 340/500\n",
      "20/20 [==============================] - 0s 7ms/step - loss: 170.9701 - val_loss: 1736.2659\n",
      "Epoch 341/500\n",
      "20/20 [==============================] - 0s 8ms/step - loss: 170.9706 - val_loss: 1736.2660\n",
      "Epoch 342/500\n",
      "20/20 [==============================] - 0s 7ms/step - loss: 170.9709 - val_loss: 1736.2666\n",
      "Epoch 343/500\n",
      "20/20 [==============================] - 0s 7ms/step - loss: 170.9713 - val_loss: 1736.2660\n",
      "Epoch 344/500\n",
      "20/20 [==============================] - 0s 7ms/step - loss: 170.9717 - val_loss: 1736.2654\n",
      "Epoch 345/500\n",
      "20/20 [==============================] - 0s 7ms/step - loss: 170.9721 - val_loss: 1736.2653\n",
      "Epoch 346/500\n",
      "20/20 [==============================] - 0s 8ms/step - loss: 170.9725 - val_loss: 1736.2644\n",
      "Epoch 347/500\n",
      "20/20 [==============================] - 0s 7ms/step - loss: 170.9729 - val_loss: 1736.2639\n",
      "Epoch 348/500\n",
      "20/20 [==============================] - 0s 7ms/step - loss: 170.9732 - val_loss: 1736.2625\n",
      "Epoch 349/500\n",
      "20/20 [==============================] - 0s 6ms/step - loss: 170.9735 - val_loss: 1736.2623\n",
      "Epoch 350/500\n",
      "20/20 [==============================] - 0s 7ms/step - loss: 170.9738 - val_loss: 1736.2610\n",
      "Epoch 351/500\n",
      "20/20 [==============================] - 0s 7ms/step - loss: 170.9742 - val_loss: 1736.2604\n",
      "Epoch 352/500\n",
      "20/20 [==============================] - 0s 7ms/step - loss: 170.9745 - val_loss: 1736.2594\n",
      "Epoch 353/500\n",
      "20/20 [==============================] - 0s 7ms/step - loss: 170.9749 - val_loss: 1736.2584\n",
      "Epoch 354/500\n",
      "20/20 [==============================] - 0s 7ms/step - loss: 170.9752 - val_loss: 1736.2574\n",
      "Epoch 355/500\n",
      "20/20 [==============================] - 0s 6ms/step - loss: 170.9756 - val_loss: 1736.2576\n",
      "Epoch 356/500\n",
      "20/20 [==============================] - 0s 7ms/step - loss: 170.9759 - val_loss: 1736.2572\n",
      "Epoch 357/500\n",
      "20/20 [==============================] - 0s 7ms/step - loss: 170.9762 - val_loss: 1736.2559\n",
      "Epoch 358/500\n",
      "20/20 [==============================] - 0s 17ms/step - loss: 170.9765 - val_loss: 1736.2546\n",
      "Epoch 359/500\n",
      "20/20 [==============================] - 0s 7ms/step - loss: 170.9769 - val_loss: 1736.2543\n",
      "Epoch 360/500\n",
      "20/20 [==============================] - 0s 7ms/step - loss: 170.9771 - val_loss: 1736.2535\n",
      "Epoch 361/500\n",
      "20/20 [==============================] - 0s 7ms/step - loss: 170.9774 - val_loss: 1736.2523\n",
      "Epoch 362/500\n",
      "20/20 [==============================] - 0s 6ms/step - loss: 170.9777 - val_loss: 1736.2512\n",
      "Epoch 363/500\n",
      "20/20 [==============================] - 0s 5ms/step - loss: 170.9780 - val_loss: 1736.2500\n",
      "Epoch 364/500\n",
      "20/20 [==============================] - 0s 5ms/step - loss: 170.9782 - val_loss: 1736.2488\n",
      "Epoch 365/500\n",
      "20/20 [==============================] - 0s 5ms/step - loss: 170.9785 - val_loss: 1736.2478\n",
      "Epoch 366/500\n",
      "20/20 [==============================] - 0s 5ms/step - loss: 170.9788 - val_loss: 1736.2473\n",
      "Epoch 367/500\n",
      "20/20 [==============================] - 0s 4ms/step - loss: 170.9791 - val_loss: 1736.2458\n",
      "Epoch 368/500\n",
      "20/20 [==============================] - 0s 4ms/step - loss: 170.9794 - val_loss: 1736.2454\n",
      "Epoch 369/500\n",
      "20/20 [==============================] - 0s 5ms/step - loss: 170.9796 - val_loss: 1736.2434\n",
      "Epoch 370/500\n",
      "20/20 [==============================] - 0s 5ms/step - loss: 170.9798 - val_loss: 1736.2422\n",
      "Epoch 371/500\n",
      "20/20 [==============================] - 0s 5ms/step - loss: 170.9801 - val_loss: 1736.2410\n",
      "Epoch 372/500\n",
      "20/20 [==============================] - 0s 5ms/step - loss: 170.9804 - val_loss: 1736.2396\n",
      "Epoch 373/500\n",
      "20/20 [==============================] - 0s 5ms/step - loss: 170.9806 - val_loss: 1736.2386\n",
      "Epoch 374/500\n",
      "20/20 [==============================] - 0s 4ms/step - loss: 170.9809 - val_loss: 1736.2377\n",
      "Epoch 375/500\n",
      "20/20 [==============================] - 0s 4ms/step - loss: 170.9811 - val_loss: 1736.2363\n",
      "Epoch 376/500\n",
      "20/20 [==============================] - 0s 5ms/step - loss: 170.9813 - val_loss: 1736.2350\n",
      "Epoch 377/500\n",
      "20/20 [==============================] - 0s 6ms/step - loss: 170.9815 - val_loss: 1736.2336\n",
      "Epoch 378/500\n",
      "20/20 [==============================] - 0s 7ms/step - loss: 170.9818 - val_loss: 1736.2324\n",
      "Epoch 379/500\n",
      "20/20 [==============================] - 0s 6ms/step - loss: 170.9821 - val_loss: 1736.2312\n",
      "Epoch 380/500\n",
      "20/20 [==============================] - 0s 6ms/step - loss: 170.9823 - val_loss: 1736.2305\n",
      "Epoch 381/500\n",
      "20/20 [==============================] - 0s 6ms/step - loss: 170.9824 - val_loss: 1736.2295\n",
      "Epoch 382/500\n",
      "20/20 [==============================] - 0s 6ms/step - loss: 170.9826 - val_loss: 1736.2278\n",
      "Epoch 383/500\n",
      "20/20 [==============================] - 0s 9ms/step - loss: 170.9828 - val_loss: 1736.2268\n",
      "Epoch 384/500\n",
      "20/20 [==============================] - 0s 9ms/step - loss: 170.9831 - val_loss: 1736.2260\n",
      "Epoch 385/500\n",
      "20/20 [==============================] - 0s 6ms/step - loss: 170.9832 - val_loss: 1736.2250\n",
      "Epoch 386/500\n",
      "20/20 [==============================] - 0s 6ms/step - loss: 170.9834 - val_loss: 1736.2236\n",
      "Epoch 387/500\n",
      "20/20 [==============================] - 0s 6ms/step - loss: 170.9836 - val_loss: 1736.2224\n",
      "Epoch 388/500\n",
      "20/20 [==============================] - 0s 5ms/step - loss: 170.9838 - val_loss: 1736.2214\n",
      "Epoch 389/500\n",
      "20/20 [==============================] - 0s 5ms/step - loss: 170.9841 - val_loss: 1736.2207\n",
      "Epoch 390/500\n",
      "20/20 [==============================] - 0s 5ms/step - loss: 170.9842 - val_loss: 1736.2200\n",
      "Epoch 391/500\n",
      "20/20 [==============================] - 0s 6ms/step - loss: 170.9844 - val_loss: 1736.2190\n",
      "Epoch 392/500\n",
      "20/20 [==============================] - 0s 5ms/step - loss: 170.9846 - val_loss: 1736.2184\n",
      "Epoch 393/500\n",
      "20/20 [==============================] - 0s 4ms/step - loss: 170.9847 - val_loss: 1736.2158\n",
      "Epoch 394/500\n",
      "20/20 [==============================] - 0s 5ms/step - loss: 170.9849 - val_loss: 1736.2142\n",
      "Epoch 395/500\n",
      "20/20 [==============================] - 0s 5ms/step - loss: 170.9851 - val_loss: 1736.2131\n",
      "Epoch 396/500\n",
      "20/20 [==============================] - 0s 5ms/step - loss: 170.9853 - val_loss: 1736.2122\n",
      "Epoch 397/500\n",
      "20/20 [==============================] - 0s 5ms/step - loss: 170.9854 - val_loss: 1736.2109\n",
      "Epoch 398/500\n",
      "20/20 [==============================] - 0s 6ms/step - loss: 170.9856 - val_loss: 1736.2097\n",
      "Epoch 399/500\n",
      "20/20 [==============================] - 0s 8ms/step - loss: 170.9857 - val_loss: 1736.2087\n",
      "Epoch 400/500\n",
      "20/20 [==============================] - 0s 6ms/step - loss: 170.9859 - val_loss: 1736.2076\n",
      "Epoch 401/500\n",
      "20/20 [==============================] - 0s 6ms/step - loss: 170.9860 - val_loss: 1736.2064\n",
      "Epoch 402/500\n",
      "20/20 [==============================] - 0s 5ms/step - loss: 170.9861 - val_loss: 1736.2043\n",
      "Epoch 403/500\n",
      "20/20 [==============================] - 0s 6ms/step - loss: 170.9863 - val_loss: 1736.2028\n",
      "Epoch 404/500\n",
      "20/20 [==============================] - 0s 5ms/step - loss: 170.9865 - val_loss: 1736.2015\n",
      "Epoch 405/500\n",
      "20/20 [==============================] - 0s 5ms/step - loss: 170.9866 - val_loss: 1736.1996\n",
      "Epoch 406/500\n",
      "20/20 [==============================] - 0s 11ms/step - loss: 170.9867 - val_loss: 1736.1982\n",
      "Epoch 407/500\n",
      "20/20 [==============================] - 0s 6ms/step - loss: 170.9869 - val_loss: 1736.1969\n",
      "Epoch 408/500\n",
      "20/20 [==============================] - 0s 6ms/step - loss: 170.9870 - val_loss: 1736.1959\n",
      "Epoch 409/500\n",
      "20/20 [==============================] - 0s 6ms/step - loss: 170.9872 - val_loss: 1736.1946\n",
      "Epoch 410/500\n",
      "20/20 [==============================] - 0s 5ms/step - loss: 170.9873 - val_loss: 1736.1930\n",
      "Epoch 411/500\n",
      "20/20 [==============================] - 0s 6ms/step - loss: 170.9874 - val_loss: 1736.1920\n",
      "Epoch 412/500\n",
      "20/20 [==============================] - 0s 6ms/step - loss: 170.9875 - val_loss: 1736.1902\n",
      "Epoch 413/500\n",
      "20/20 [==============================] - 0s 5ms/step - loss: 170.9876 - val_loss: 1736.1891\n",
      "Epoch 414/500\n",
      "20/20 [==============================] - 0s 4ms/step - loss: 170.9877 - val_loss: 1736.1873\n",
      "Epoch 415/500\n",
      "20/20 [==============================] - 0s 5ms/step - loss: 170.9878 - val_loss: 1736.1858\n",
      "Epoch 416/500\n",
      "20/20 [==============================] - 0s 5ms/step - loss: 170.9880 - val_loss: 1736.1848\n",
      "Epoch 417/500\n",
      "20/20 [==============================] - 0s 4ms/step - loss: 170.9881 - val_loss: 1736.1832\n",
      "Epoch 418/500\n",
      "20/20 [==============================] - 0s 5ms/step - loss: 170.9883 - val_loss: 1736.1823\n",
      "Epoch 419/500\n",
      "20/20 [==============================] - 0s 4ms/step - loss: 170.9883 - val_loss: 1736.1807\n",
      "Epoch 420/500\n",
      "20/20 [==============================] - 0s 5ms/step - loss: 170.9884 - val_loss: 1736.1781\n",
      "Epoch 421/500\n",
      "20/20 [==============================] - 0s 5ms/step - loss: 170.9885 - val_loss: 1736.1758\n",
      "Epoch 422/500\n",
      "20/20 [==============================] - 0s 4ms/step - loss: 170.9887 - val_loss: 1736.1744\n",
      "Epoch 423/500\n",
      "20/20 [==============================] - 0s 5ms/step - loss: 170.9887 - val_loss: 1736.1726\n",
      "Epoch 424/500\n",
      "20/20 [==============================] - 0s 4ms/step - loss: 170.9888 - val_loss: 1736.1711\n",
      "Epoch 425/500\n",
      "20/20 [==============================] - 0s 4ms/step - loss: 170.9889 - val_loss: 1736.1693\n",
      "Epoch 426/500\n",
      "20/20 [==============================] - 0s 5ms/step - loss: 170.9890 - val_loss: 1736.1672\n",
      "Epoch 427/500\n",
      "20/20 [==============================] - 0s 5ms/step - loss: 170.9891 - val_loss: 1736.1654\n",
      "Epoch 428/500\n",
      "20/20 [==============================] - 0s 4ms/step - loss: 170.9892 - val_loss: 1736.1641\n",
      "Epoch 429/500\n",
      "20/20 [==============================] - 0s 4ms/step - loss: 170.9893 - val_loss: 1736.1627\n",
      "Epoch 430/500\n",
      "20/20 [==============================] - 0s 12ms/step - loss: 170.9894 - val_loss: 1736.1605\n",
      "Epoch 431/500\n",
      "20/20 [==============================] - 0s 8ms/step - loss: 170.9894 - val_loss: 1736.1582\n",
      "Epoch 432/500\n",
      "20/20 [==============================] - 0s 8ms/step - loss: 170.9895 - val_loss: 1736.1556\n",
      "Epoch 433/500\n",
      "20/20 [==============================] - 0s 8ms/step - loss: 170.9897 - val_loss: 1736.1531\n",
      "Epoch 434/500\n",
      "20/20 [==============================] - 0s 7ms/step - loss: 170.9897 - val_loss: 1736.1508\n",
      "Epoch 435/500\n",
      "20/20 [==============================] - 0s 7ms/step - loss: 170.9898 - val_loss: 1736.1492\n",
      "Epoch 436/500\n",
      "20/20 [==============================] - 0s 7ms/step - loss: 170.9899 - val_loss: 1736.1475\n",
      "Epoch 437/500\n",
      "20/20 [==============================] - 0s 6ms/step - loss: 170.9899 - val_loss: 1736.1451\n",
      "Epoch 438/500\n",
      "20/20 [==============================] - 0s 6ms/step - loss: 170.9900 - val_loss: 1736.1428\n",
      "Epoch 439/500\n",
      "20/20 [==============================] - 0s 5ms/step - loss: 170.9901 - val_loss: 1736.1404\n",
      "Epoch 440/500\n",
      "20/20 [==============================] - 0s 5ms/step - loss: 170.9902 - val_loss: 1736.1383\n",
      "Epoch 441/500\n",
      "20/20 [==============================] - 0s 5ms/step - loss: 170.9903 - val_loss: 1736.1360\n",
      "Epoch 442/500\n",
      "20/20 [==============================] - 0s 5ms/step - loss: 170.9904 - val_loss: 1736.1335\n",
      "Epoch 443/500\n",
      "20/20 [==============================] - 0s 4ms/step - loss: 170.9904 - val_loss: 1736.1305\n",
      "Epoch 444/500\n",
      "20/20 [==============================] - 0s 4ms/step - loss: 170.9905 - val_loss: 1736.1277\n",
      "Epoch 445/500\n",
      "20/20 [==============================] - 0s 6ms/step - loss: 170.9906 - val_loss: 1736.1250\n",
      "Epoch 446/500\n",
      "20/20 [==============================] - 0s 5ms/step - loss: 170.9906 - val_loss: 1736.1215\n",
      "Epoch 447/500\n",
      "20/20 [==============================] - 0s 5ms/step - loss: 170.9906 - val_loss: 1736.1179\n",
      "Epoch 448/500\n",
      "20/20 [==============================] - 0s 5ms/step - loss: 170.9907 - val_loss: 1736.1140\n",
      "Epoch 449/500\n",
      "20/20 [==============================] - 0s 4ms/step - loss: 170.9908 - val_loss: 1736.1106\n",
      "Epoch 450/500\n",
      "20/20 [==============================] - 0s 12ms/step - loss: 170.9909 - val_loss: 1736.1071\n",
      "Epoch 451/500\n",
      "20/20 [==============================] - 0s 6ms/step - loss: 170.9909 - val_loss: 1736.1023\n",
      "Epoch 452/500\n",
      "20/20 [==============================] - 0s 6ms/step - loss: 170.9909 - val_loss: 1736.0974\n",
      "Epoch 453/500\n",
      "20/20 [==============================] - 0s 5ms/step - loss: 170.9910 - val_loss: 1736.0922\n",
      "Epoch 454/500\n",
      "20/20 [==============================] - 0s 5ms/step - loss: 170.9911 - val_loss: 1736.0867\n",
      "Epoch 455/500\n",
      "20/20 [==============================] - 0s 5ms/step - loss: 170.9911 - val_loss: 1736.0793\n",
      "Epoch 456/500\n",
      "20/20 [==============================] - 0s 5ms/step - loss: 170.9912 - val_loss: 1736.0723\n",
      "Epoch 457/500\n",
      "20/20 [==============================] - 0s 5ms/step - loss: 170.9913 - val_loss: 1736.0641\n",
      "Epoch 458/500\n",
      "20/20 [==============================] - 0s 4ms/step - loss: 170.9913 - val_loss: 1736.0540\n",
      "Epoch 459/500\n",
      "20/20 [==============================] - 0s 4ms/step - loss: 170.9914 - val_loss: 1736.0414\n",
      "Epoch 460/500\n",
      "20/20 [==============================] - 0s 4ms/step - loss: 170.9914 - val_loss: 1736.0244\n",
      "Epoch 461/500\n",
      "20/20 [==============================] - 0s 4ms/step - loss: 170.9914 - val_loss: 1736.0012\n",
      "Epoch 462/500\n",
      "20/20 [==============================] - 0s 5ms/step - loss: 170.9916 - val_loss: 1735.9642\n",
      "Epoch 463/500\n",
      "20/20 [==============================] - 0s 4ms/step - loss: 170.9916 - val_loss: 1735.8929\n",
      "Epoch 464/500\n",
      "20/20 [==============================] - 0s 5ms/step - loss: 170.9916 - val_loss: 1735.6930\n",
      "Epoch 465/500\n",
      "20/20 [==============================] - 0s 5ms/step - loss: 170.9917 - val_loss: 1732.5334\n",
      "Epoch 466/500\n",
      "20/20 [==============================] - 0s 4ms/step - loss: 170.9917 - val_loss: 1739.0508\n",
      "Epoch 467/500\n",
      "20/20 [==============================] - 0s 4ms/step - loss: 170.9917 - val_loss: 1739.0508\n",
      "Epoch 468/500\n",
      "20/20 [==============================] - 0s 4ms/step - loss: 170.9917 - val_loss: 1739.0504\n",
      "Epoch 469/500\n",
      "20/20 [==============================] - 0s 4ms/step - loss: 170.9918 - val_loss: 1739.0504\n",
      "Epoch 470/500\n",
      "20/20 [==============================] - 0s 5ms/step - loss: 170.9918 - val_loss: 1739.0508\n",
      "Epoch 471/500\n",
      "20/20 [==============================] - 0s 4ms/step - loss: 170.9919 - val_loss: 1739.0508\n",
      "Epoch 472/500\n",
      "20/20 [==============================] - 0s 5ms/step - loss: 170.9919 - val_loss: 1739.0498\n",
      "Epoch 473/500\n",
      "20/20 [==============================] - 0s 5ms/step - loss: 170.9919 - val_loss: 1739.0494\n",
      "Epoch 474/500\n",
      "20/20 [==============================] - 0s 11ms/step - loss: 170.9919 - val_loss: 1739.0491\n",
      "Epoch 475/500\n",
      "20/20 [==============================] - 0s 5ms/step - loss: 170.9920 - val_loss: 1739.0494\n",
      "Epoch 476/500\n",
      "20/20 [==============================] - 0s 8ms/step - loss: 170.9921 - val_loss: 1739.0496\n",
      "Epoch 477/500\n",
      "20/20 [==============================] - 0s 6ms/step - loss: 170.9922 - val_loss: 1739.0508\n",
      "Epoch 478/500\n",
      "20/20 [==============================] - 0s 5ms/step - loss: 170.9922 - val_loss: 1739.0508\n",
      "Epoch 479/500\n",
      "20/20 [==============================] - 0s 4ms/step - loss: 170.9922 - val_loss: 1739.0510\n",
      "Epoch 480/500\n",
      "20/20 [==============================] - 0s 5ms/step - loss: 170.9923 - val_loss: 1739.0514\n",
      "Epoch 481/500\n",
      "20/20 [==============================] - 0s 5ms/step - loss: 170.9922 - val_loss: 1739.0514\n",
      "Epoch 482/500\n",
      "20/20 [==============================] - 0s 5ms/step - loss: 170.9923 - val_loss: 1739.0508\n",
      "Epoch 483/500\n",
      "20/20 [==============================] - 0s 5ms/step - loss: 170.9923 - val_loss: 1739.0505\n",
      "Epoch 484/500\n",
      "20/20 [==============================] - 0s 5ms/step - loss: 170.9923 - val_loss: 1739.0500\n",
      "Epoch 485/500\n",
      "20/20 [==============================] - 0s 5ms/step - loss: 170.9923 - val_loss: 1739.0492\n",
      "Epoch 486/500\n",
      "20/20 [==============================] - 0s 4ms/step - loss: 170.9924 - val_loss: 1739.0485\n",
      "Epoch 487/500\n",
      "20/20 [==============================] - 0s 4ms/step - loss: 170.9924 - val_loss: 1739.0485\n",
      "Epoch 488/500\n",
      "20/20 [==============================] - 0s 4ms/step - loss: 170.9925 - val_loss: 1739.0485\n",
      "Epoch 489/500\n",
      "20/20 [==============================] - 0s 5ms/step - loss: 170.9925 - val_loss: 1739.0482\n",
      "Epoch 490/500\n",
      "20/20 [==============================] - 0s 5ms/step - loss: 170.9925 - val_loss: 1739.0481\n",
      "Epoch 491/500\n",
      "20/20 [==============================] - 0s 5ms/step - loss: 170.9925 - val_loss: 1739.0476\n",
      "Epoch 492/500\n",
      "20/20 [==============================] - 0s 5ms/step - loss: 170.9926 - val_loss: 1739.0476\n",
      "Epoch 493/500\n",
      "20/20 [==============================] - 0s 4ms/step - loss: 170.9925 - val_loss: 1739.0472\n",
      "Epoch 494/500\n",
      "20/20 [==============================] - 0s 4ms/step - loss: 170.9926 - val_loss: 1739.0471\n",
      "Epoch 495/500\n",
      "20/20 [==============================] - 0s 10ms/step - loss: 170.9926 - val_loss: 1739.0472\n",
      "Epoch 496/500\n",
      "20/20 [==============================] - 0s 6ms/step - loss: 170.9927 - val_loss: 1739.0472\n",
      "Epoch 497/500\n",
      "20/20 [==============================] - 0s 5ms/step - loss: 170.9927 - val_loss: 1739.0475\n",
      "Epoch 498/500\n",
      "20/20 [==============================] - 0s 5ms/step - loss: 170.9927 - val_loss: 1739.0475\n",
      "Epoch 499/500\n",
      "20/20 [==============================] - 0s 5ms/step - loss: 170.9927 - val_loss: 1739.0472\n",
      "Epoch 500/500\n",
      "20/20 [==============================] - 0s 5ms/step - loss: 170.9927 - val_loss: 1739.0471\n"
     ]
    }
   ],
   "source": [
    "C0 = tf.Variable(86.8407, name=\"C0\", trainable=True, dtype=tf.float32)\n",
    "K0 = tf.Variable(-0.0015, name=\"K0\", trainable=True, dtype=tf.float32)\n",
    "K1 = tf.Variable(-0.0001, name=\"K1\", trainable=True, dtype=tf.float32)\n",
    "a = tf.Variable(0.0000, name=\"a\", trainable=True, dtype=tf.float32)\n",
    "b = tf.Variable(0.0118, name=\"b\", trainable=True, dtype=tf.float32)\n",
    "c = tf.Variable(2.5775, name=\"c\", trainable=True, dtype=tf.float32)\n",
    "\n",
    "splitr = 0.8\n",
    "\n",
    "\n",
    "def loss_fn(y_true, y_pred):\n",
    "    squared_difference = tf.square(y_true[:, 0] - y_pred[:, 0])\n",
    "    #squared_difference2 = tf.square(y_true[:, 2]-y_pred[:, 2])\n",
    "    #squared_difference1 = tf.square(y_true[:, 1]-y_pred[:, 1])\n",
    "    epsilon = 1\n",
    "    squared_difference3 = tf.square(\n",
    "        y_pred[:, 1] - (\n",
    "            y_pred[:, 0] * (\n",
    "                K0 - K1 * (\n",
    "                    9 * a * tf.math.log((y_pred[:, 0] + epsilon) / C0) / (K0 - K1 * c)**2 +\n",
    "                    4 * b * tf.math.log((y_pred[:, 0] + epsilon) / C0) / (K0 - K1 * c) + c\n",
    "                )\n",
    "            )\n",
    "        )\n",
    "    )\n",
    "    return tf.reduce_mean(squared_difference, axis=-1) + 0.2*tf.reduce_mean(squared_difference3, axis=-1)\n",
    "model = Sequential()\n",
    "model.add(LSTM(100, input_shape=(trainX.shape[1], trainX.shape[2])))\n",
    "model.add(Dense(60))\n",
    "model.compile(loss=loss_fn, optimizer='adam')\n",
    "history = model.fit(trainX[:int(splitr*trainX.shape[0])], trainy[:int(splitr*trainX.shape[0])], epochs=500, batch_size=64, validation_data=(trainX[int(splitr*trainX.shape[0]):trainX.shape[0]], trainy[int(splitr*trainX.shape[0]):trainX.shape[0]]), shuffle=False)"
   ]
  },
  {
   "cell_type": "code",
   "execution_count": 19,
   "metadata": {
    "colab": {
     "base_uri": "https://localhost:8080/"
    },
    "id": "yJL101rPyuoT",
    "outputId": "239ff2b1-c186-423a-d316-939dfdd7c793"
   },
   "outputs": [
    {
     "name": "stdout",
     "output_type": "stream",
     "text": [
      "1/1 [==============================] - 0s 421ms/step\n"
     ]
    }
   ],
   "source": [
    "forecast_without_mc = forecastX\n",
    "yhat_without_mc = model.predict(forecast_without_mc) # Step Ahead Prediction\n",
    "forecast_without_mc = forecast_without_mc.reshape((forecast_without_mc.shape[0], forecast_without_mc.shape[2])) # Historical Input"
   ]
  },
  {
   "cell_type": "code",
   "execution_count": 20,
   "metadata": {
    "colab": {
     "base_uri": "https://localhost:8080/"
    },
    "id": "g9dQELcJ8wbp",
    "outputId": "4dc7671b-b1a8-48d5-8744-a86f98446109"
   },
   "outputs": [
    {
     "data": {
      "text/plain": [
       "(1, 1, 251)"
      ]
     },
     "execution_count": 20,
     "metadata": {},
     "output_type": "execute_result"
    }
   ],
   "source": [
    "forecastX.shape"
   ]
  },
  {
   "cell_type": "code",
   "execution_count": 21,
   "metadata": {
    "colab": {
     "base_uri": "https://localhost:8080/"
    },
    "id": "IS2kyIKG1Kbr",
    "outputId": "f31b3485-8e26-452f-9298-ea8bf7e80ad1"
   },
   "outputs": [
    {
     "data": {
      "text/plain": [
       "(1, 251)"
      ]
     },
     "execution_count": 21,
     "metadata": {},
     "output_type": "execute_result"
    }
   ],
   "source": [
    "forecast_without_mc.shape"
   ]
  },
  {
   "cell_type": "code",
   "execution_count": 22,
   "metadata": {
    "id": "0u6VIzaDyuoT"
   },
   "outputs": [],
   "source": [
    "inv_yhat_without_mc = np.concatenate((forecast_without_mc, yhat_without_mc), axis=1) # Concatenation of predicted values with Historical Data\n",
    "#inv_yhat_without_mc = scaler.inverse_transform(inv_yhat_without_mc) # Transform labels back to original encoding"
   ]
  },
  {
   "cell_type": "code",
   "execution_count": 23,
   "metadata": {
    "colab": {
     "base_uri": "https://localhost:8080/"
    },
    "id": "EUEcw0LX07oU",
    "outputId": "cfc32397-9c37-4b43-d087-584bb31c3dcc"
   },
   "outputs": [
    {
     "data": {
      "text/plain": [
       "(1, 311)"
      ]
     },
     "execution_count": 23,
     "metadata": {},
     "output_type": "execute_result"
    }
   ],
   "source": [
    "inv_yhat_without_mc.shape"
   ]
  },
  {
   "cell_type": "code",
   "execution_count": 24,
   "metadata": {
    "id": "31OWVbSh_305"
   },
   "outputs": [],
   "source": [
    "fforecast = inv_yhat_without_mc[:,-300:]"
   ]
  },
  {
   "cell_type": "code",
   "execution_count": 25,
   "metadata": {},
   "outputs": [
    {
     "data": {
      "text/plain": [
       "(1, 300)"
      ]
     },
     "execution_count": 25,
     "metadata": {},
     "output_type": "execute_result"
    }
   ],
   "source": [
    "fforecast.shape"
   ]
  },
  {
   "cell_type": "code",
   "execution_count": 26,
   "metadata": {
    "id": "BlpGH2FOAiRF"
   },
   "outputs": [],
   "source": [
    "final_forecast = fforecast[:,0:300:3]"
   ]
  },
  {
   "cell_type": "code",
   "execution_count": 27,
   "metadata": {},
   "outputs": [
    {
     "data": {
      "text/plain": [
       "(1, 300)"
      ]
     },
     "execution_count": 27,
     "metadata": {},
     "output_type": "execute_result"
    }
   ],
   "source": [
    "fforecast.shape"
   ]
  },
  {
   "cell_type": "code",
   "execution_count": 28,
   "metadata": {
    "id": "CXkgkj_LBk_t"
   },
   "outputs": [],
   "source": [
    "# code to replace all negative value with 0\n",
    "final_forecast[final_forecast<0] = 0"
   ]
  },
  {
   "cell_type": "code",
   "execution_count": 29,
   "metadata": {},
   "outputs": [
    {
     "data": {
      "text/plain": [
       "array([[7.19565360e+01, 7.15334500e+01, 7.10544584e+01, 7.05754668e+01,\n",
       "        7.58221130e+01, 5.90062680e-01, 7.21140860e-01, 0.00000000e+00,\n",
       "        4.86090900e-02, 8.43163490e-01, 3.09046450e-01, 2.68616620e-01,\n",
       "        1.84291290e-01, 6.95437908e+01, 6.95101774e+01, 6.94765640e+01,\n",
       "        6.94429505e+01, 6.94093371e+01, 7.34467320e+01, 7.30937909e+01,\n",
       "        7.27408497e+01, 7.23879085e+01, 7.20349673e+01, 7.16398926e+01,\n",
       "        7.11609010e+01, 7.06819094e+01, 7.02029178e+01, 0.00000000e+00,\n",
       "        1.01878700e-01, 7.21787582e+01, 7.21825817e+01, 7.21356046e+01,\n",
       "        7.20877054e+01, 7.20398063e+01, 7.19919071e+01, 7.19851587e+01,\n",
       "        7.19801167e+01, 7.19750747e+01, 0.00000000e+00, 0.00000000e+00,\n",
       "        0.00000000e+00, 4.58358000e-02, 2.37724400e-01, 2.55735100e-01,\n",
       "        1.01991730e+00, 0.00000000e+00, 4.14305900e-01, 7.07883520e+01,\n",
       "        7.03093604e+01, 0.00000000e+00, 6.92471800e-01, 7.22571895e+01,\n",
       "        7.21904248e+01, 7.21462488e+01, 7.20983497e+01, 7.20504505e+01,\n",
       "        7.20025514e+01, 7.19862792e+01, 7.19812372e+01, 7.19761951e+01,\n",
       "        0.00000000e+00, 7.14013500e-02, 7.06996499e+01, 7.02206583e+01,\n",
       "        6.98833333e+01, 6.98329132e+01, 6.97824930e+01, 6.97320728e+01,\n",
       "        6.96633053e+01, 6.95624650e+01, 6.94616247e+01, 0.00000000e+00,\n",
       "        3.06524250e-01, 5.02924500e+01, 1.83462664e-01, 5.88962555e-01,\n",
       "        0.00000000e+00, 1.80295736e-01, 7.35146046e-01, 2.31354252e-01,\n",
       "        6.97791977e+01, 0.00000000e+00, 0.00000000e+00, 4.33316790e-02,\n",
       "        5.23703456e-01, 7.78131634e-02, 2.76984185e-01, 0.00000000e+00,\n",
       "        0.00000000e+00, 0.00000000e+00, 0.00000000e+00, 2.99492747e-01,\n",
       "        0.00000000e+00, 7.22501874e-01, 0.00000000e+00, 0.00000000e+00,\n",
       "        5.87591290e-01, 0.00000000e+00, 1.15061365e-01, 0.00000000e+00]])"
      ]
     },
     "execution_count": 29,
     "metadata": {},
     "output_type": "execute_result"
    }
   ],
   "source": [
    "final_forecast"
   ]
  },
  {
   "cell_type": "code",
   "execution_count": 30,
   "metadata": {},
   "outputs": [
    {
     "data": {
      "text/plain": [
       "(1, 100)"
      ]
     },
     "execution_count": 30,
     "metadata": {},
     "output_type": "execute_result"
    }
   ],
   "source": [
    "final_forecast.shape"
   ]
  },
  {
   "cell_type": "code",
   "execution_count": 31,
   "metadata": {},
   "outputs": [
    {
     "data": {
      "text/plain": [
       "(100,)"
      ]
     },
     "execution_count": 31,
     "metadata": {},
     "output_type": "execute_result"
    }
   ],
   "source": [
    "test.shape"
   ]
  },
  {
   "cell_type": "code",
   "execution_count": 32,
   "metadata": {},
   "outputs": [],
   "source": [
    "training_set = np.array(training_set)\n",
    "test = np.array(test)\n",
    "final_forecast = np.array(final_forecast.squeeze(0))"
   ]
  },
  {
   "cell_type": "code",
   "execution_count": 33,
   "metadata": {},
   "outputs": [
    {
     "data": {
      "text/plain": [
       "array([63.0817577 , 63.0747549 , 63.0677521 , 63.0607493 , 63.0537465 ,\n",
       "       63.0467437 , 63.0397409 , 63.0327381 , 63.02573529, 63.01873249,\n",
       "       63.01172969, 63.00472689, 62.99772409, 62.99072129, 62.98371849,\n",
       "       62.97671569, 62.96971289, 62.96271008, 62.95570728, 62.94870448,\n",
       "       62.94170168, 62.93469888, 62.92769608, 62.92069328, 62.91369048,\n",
       "       62.90668768, 62.89968487, 62.89268207, 62.88567927, 62.87867647,\n",
       "       62.87167367, 62.86467087, 62.85766807, 62.85066527, 62.84366246,\n",
       "       62.83665966, 62.82965686, 62.82265406, 62.81565126, 62.80864846,\n",
       "       62.80164566, 62.79464286, 62.78764006, 62.78063725, 62.77363445,\n",
       "       62.76663165, 62.75962885, 62.75262605, 62.74562325, 62.73862045,\n",
       "       62.73161765, 62.72461485, 62.71761204, 62.71060924, 62.70360644,\n",
       "       62.69660364, 62.68960084, 62.68259804, 62.67559524, 62.66859244,\n",
       "       62.66158964, 62.65458683, 62.64758403, 62.64058123, 62.63357843,\n",
       "       62.62657563, 62.61957283, 62.61257003, 62.60556723, 62.59856443,\n",
       "       62.59156162, 62.58455882, 62.57755602, 62.57055322, 62.56355042,\n",
       "       62.55654762, 62.54954482, 62.54254202, 62.53553922, 62.52853641,\n",
       "       62.52153361, 62.51453081, 62.50752801, 62.50052521, 62.49266926,\n",
       "       62.48474414, 62.47681902, 62.4688939 , 62.46096878, 62.45304366,\n",
       "       62.44511854, 62.43719341, 62.42926829, 62.42134317, 62.41341805,\n",
       "       62.40549293, 62.39756781, 62.38964269, 62.38171757, 62.37379244])"
      ]
     },
     "execution_count": 33,
     "metadata": {},
     "output_type": "execute_result"
    }
   ],
   "source": [
    "test"
   ]
  },
  {
   "cell_type": "code",
   "execution_count": 34,
   "metadata": {},
   "outputs": [
    {
     "data": {
      "text/plain": [
       "(100,)"
      ]
     },
     "execution_count": 34,
     "metadata": {},
     "output_type": "execute_result"
    }
   ],
   "source": [
    "test.shape"
   ]
  },
  {
   "cell_type": "code",
   "execution_count": 35,
   "metadata": {},
   "outputs": [
    {
     "data": {
      "text/plain": [
       "(100,)"
      ]
     },
     "execution_count": 35,
     "metadata": {},
     "output_type": "execute_result"
    }
   ],
   "source": [
    "final_forecast.shape"
   ]
  },
  {
   "cell_type": "code",
   "execution_count": 36,
   "metadata": {},
   "outputs": [
    {
     "data": {
      "text/plain": [
       "(100,)"
      ]
     },
     "execution_count": 36,
     "metadata": {},
     "output_type": "execute_result"
    }
   ],
   "source": [
    "test.shape"
   ]
  },
  {
   "cell_type": "code",
   "execution_count": 37,
   "metadata": {},
   "outputs": [
    {
     "name": "stdout",
     "output_type": "stream",
     "text": [
      "44.5743803811046\n",
      "35.48908553940506\n"
     ]
    }
   ],
   "source": [
    "import math\n",
    "MSE = np.square(np.subtract(np.array(test),np.array(final_forecast))).mean()   \n",
    "rsme = math.sqrt(MSE)\n",
    "print(rsme)  \n",
    "MAE = np.abs(np.subtract(np.array(test),np.array(final_forecast))).mean()   \n",
    "mae = MAE\n",
    "print(mae)"
   ]
  }
 ],
 "metadata": {
  "colab": {
   "provenance": []
  },
  "kernelspec": {
   "display_name": "Python 3",
   "language": "python",
   "name": "python3"
  },
  "language_info": {
   "codemirror_mode": {
    "name": "ipython",
    "version": 3
   },
   "file_extension": ".py",
   "mimetype": "text/x-python",
   "name": "python",
   "nbconvert_exporter": "python",
   "pygments_lexer": "ipython3",
   "version": "3.9.13"
  }
 },
 "nbformat": 4,
 "nbformat_minor": 0
}
