{
 "cells": [
  {
   "cell_type": "markdown",
   "metadata": {
    "id": "pCGKeZ2gyuoQ"
   },
   "source": [
    "_Importing Required Libraries_"
   ]
  },
  {
   "cell_type": "code",
   "execution_count": 1,
   "metadata": {
    "colab": {
     "base_uri": "https://localhost:8080/"
    },
    "id": "A-6LN-zXiLcM",
    "outputId": "4de610a4-f8b8-4f49-c6c0-89de299ccedc"
   },
   "outputs": [
    {
     "name": "stdout",
     "output_type": "stream",
     "text": [
      "Requirement already satisfied: hampel in c:\\users\\anurag dutta\\appdata\\local\\packages\\pythonsoftwarefoundation.python.3.9_qbz5n2kfra8p0\\localcache\\local-packages\\python39\\site-packages (0.0.5)Note: you may need to restart the kernel to use updated packages.\n",
      "Requirement already satisfied: numpy in c:\\users\\anurag dutta\\appdata\\local\\packages\\pythonsoftwarefoundation.python.3.9_qbz5n2kfra8p0\\localcache\\local-packages\\python39\\site-packages (from hampel) (1.26.4)\n",
      "Requirement already satisfied: pandas in c:\\users\\anurag dutta\\appdata\\local\\packages\\pythonsoftwarefoundation.python.3.9_qbz5n2kfra8p0\\localcache\\local-packages\\python39\\site-packages (from hampel) (1.5.2)\n",
      "Requirement already satisfied: python-dateutil>=2.8.1 in c:\\users\\anurag dutta\\appdata\\local\\packages\\pythonsoftwarefoundation.python.3.9_qbz5n2kfra8p0\\localcache\\local-packages\\python39\\site-packages (from pandas->hampel) (2.8.2)\n",
      "Requirement already satisfied: pytz>=2020.1 in c:\\users\\anurag dutta\\appdata\\local\\packages\\pythonsoftwarefoundation.python.3.9_qbz5n2kfra8p0\\localcache\\local-packages\\python39\\site-packages (from pandas->hampel) (2023.3.post1)\n",
      "Requirement already satisfied: six>=1.5 in c:\\users\\anurag dutta\\appdata\\local\\packages\\pythonsoftwarefoundation.python.3.9_qbz5n2kfra8p0\\localcache\\local-packages\\python39\\site-packages (from python-dateutil>=2.8.1->pandas->hampel) (1.16.0)\n",
      "\n"
     ]
    },
    {
     "name": "stderr",
     "output_type": "stream",
     "text": [
      "\n",
      "[notice] A new release of pip is available: 24.2 -> 24.3.1\n",
      "[notice] To update, run: C:\\Users\\Anurag Dutta\\AppData\\Local\\Microsoft\\WindowsApps\\PythonSoftwareFoundation.Python.3.9_qbz5n2kfra8p0\\python.exe -m pip install --upgrade pip\n"
     ]
    }
   ],
   "source": [
    "pip install hampel"
   ]
  },
  {
   "cell_type": "code",
   "execution_count": 2,
   "metadata": {
    "id": "By_d9uXpaFvZ"
   },
   "outputs": [],
   "source": [
    "from keras.models import Sequential\n",
    "from keras.layers import Dense\n",
    "from keras.layers import LSTM\n",
    "from keras.layers import Dropout\n",
    "import keras\n",
    "import tensorflow as tf\n",
    "from hampel import hampel\n",
    "import numpy as np\n",
    "import matplotlib.pyplot as plt\n",
    "import pandas as pd\n",
    "from sklearn.preprocessing import MinMaxScaler\n",
    "from sklearn.metrics import mean_squared_error, mean_absolute_error\n",
    "from math import sqrt\n",
    "from matplotlib import pyplot\n",
    "from numpy import array"
   ]
  },
  {
   "cell_type": "markdown",
   "metadata": {
    "id": "JyOjBMFayuoR"
   },
   "source": [
    "## Pretraining"
   ]
  },
  {
   "cell_type": "markdown",
   "metadata": {
    "id": "-5QqIY_GyuoR"
   },
   "source": [
    "The `capa_intermittency.dat` feeds the model with the dynamics of the Capacitor"
   ]
  },
  {
   "cell_type": "code",
   "execution_count": 3,
   "metadata": {
    "id": "9dV4a8yfyuoR"
   },
   "outputs": [],
   "source": [
    "data = np.genfromtxt('capa_intermittency.dat')\n",
    "training_set = pd.DataFrame(data).reset_index(drop=True)\n",
    "training_set = training_set.iloc[:,0]"
   ]
  },
  {
   "cell_type": "markdown",
   "metadata": {
    "id": "i7easoxByuoR"
   },
   "source": [
    "## Computing the Gradient"
   ]
  },
  {
   "cell_type": "markdown",
   "metadata": {
    "id": "5SnyolJTyuoR"
   },
   "source": [
    "_Calculating the value of_ $\\frac{dx}{dt}$"
   ]
  },
  {
   "cell_type": "code",
   "execution_count": 4,
   "metadata": {
    "colab": {
     "base_uri": "https://localhost:8080/"
    },
    "id": "wmIbVfIvyuoR",
    "outputId": "aa4e3136-c854-465d-d2e9-81cfd546e440"
   },
   "outputs": [
    {
     "name": "stdout",
     "output_type": "stream",
     "text": [
      "1.0\n",
      "1        0.000298\n",
      "2        0.000298\n",
      "3        0.000297\n",
      "4        0.000297\n",
      "5        0.000297\n",
      "           ...   \n",
      "9996     0.000018\n",
      "9997     0.000018\n",
      "9998     0.000018\n",
      "9999     0.000018\n",
      "10000    0.000018\n",
      "Name: 0, Length: 10000, dtype: float64\n"
     ]
    }
   ],
   "source": [
    "t_diff = 1\n",
    "print(training_set.max())\n",
    "gradient_t = (training_set.diff()/t_diff).iloc[1:] # dx/dt\n",
    "print(gradient_t)"
   ]
  },
  {
   "cell_type": "markdown",
   "metadata": {
    "id": "_2eVeeoxyuoS"
   },
   "source": [
    "## Loading Datasets"
   ]
  },
  {
   "cell_type": "code",
   "execution_count": 5,
   "metadata": {
    "id": "0J-NKyIEyuoS"
   },
   "outputs": [
    {
     "data": {
      "text/plain": [
       "0       89.140000\n",
       "1       88.911429\n",
       "2       88.682857\n",
       "3       88.454286\n",
       "4       88.225714\n",
       "          ...    \n",
       "1945    63.817052\n",
       "1946    63.810049\n",
       "1947    63.803046\n",
       "1948    63.796043\n",
       "1949    63.789041\n",
       "Name: C5, Length: 1950, dtype: float64"
      ]
     },
     "execution_count": 5,
     "metadata": {},
     "output_type": "execute_result"
    }
   ],
   "source": [
    "data = pd.read_csv(\"c5_interpolated_1850_100.csv\")\n",
    "training_set = data.iloc[:, 1]\n",
    "training_set"
   ]
  },
  {
   "cell_type": "code",
   "execution_count": 6,
   "metadata": {
    "colab": {
     "base_uri": "https://localhost:8080/"
    },
    "id": "-CbNUhJ74UqF",
    "outputId": "20f562d8-8247-49cc-b9c3-00eca5e13e2d"
   },
   "outputs": [
    {
     "data": {
      "text/plain": [
       "0       89.140000\n",
       "1       88.911429\n",
       "2       88.682857\n",
       "3       88.454286\n",
       "4       88.225714\n",
       "          ...    \n",
       "1845     0.735146\n",
       "1846     0.000000\n",
       "1847     0.359862\n",
       "1848     0.231354\n",
       "1849     0.513536\n",
       "Name: C5, Length: 1850, dtype: float64"
      ]
     },
     "execution_count": 6,
     "metadata": {},
     "output_type": "execute_result"
    }
   ],
   "source": [
    "test = training_set.tail(100)\n",
    "test\n",
    "training_set = training_set.head(1850)\n",
    "training_set"
   ]
  },
  {
   "cell_type": "code",
   "execution_count": 7,
   "metadata": {
    "colab": {
     "base_uri": "https://localhost:8080/"
    },
    "id": "X0TwTcq0yuoS",
    "outputId": "37252ed8-d88e-4044-fa7a-922411990b5b"
   },
   "outputs": [
    {
     "name": "stdout",
     "output_type": "stream",
     "text": [
      "0       0.000298\n",
      "1       0.000298\n",
      "2       0.000297\n",
      "3       0.000297\n",
      "4       0.000297\n",
      "          ...   \n",
      "9995    0.000018\n",
      "9996    0.000018\n",
      "9997    0.000018\n",
      "9998    0.000018\n",
      "9999    0.000018\n",
      "Name: 0, Length: 10000, dtype: float64\n"
     ]
    }
   ],
   "source": [
    "training_set = training_set.reset_index(drop=True)\n",
    "gradient_t = gradient_t.reset_index(drop=True)\n",
    "print(gradient_t)"
   ]
  },
  {
   "cell_type": "code",
   "execution_count": 8,
   "metadata": {
    "id": "O2biznZQyuoS"
   },
   "outputs": [],
   "source": [
    "df = pd.concat((training_set, gradient_t), axis=1)\n",
    "df.columns = ['y_t', 'grad_t']"
   ]
  },
  {
   "cell_type": "code",
   "execution_count": 9,
   "metadata": {
    "colab": {
     "base_uri": "https://localhost:8080/",
     "height": 423
    },
    "id": "sk_a5v3tyuoS",
    "outputId": "17563625-e550-45ae-faab-fafa353e44da"
   },
   "outputs": [
    {
     "data": {
      "text/html": [
       "<div>\n",
       "<style scoped>\n",
       "    .dataframe tbody tr th:only-of-type {\n",
       "        vertical-align: middle;\n",
       "    }\n",
       "\n",
       "    .dataframe tbody tr th {\n",
       "        vertical-align: top;\n",
       "    }\n",
       "\n",
       "    .dataframe thead th {\n",
       "        text-align: right;\n",
       "    }\n",
       "</style>\n",
       "<table border=\"1\" class=\"dataframe\">\n",
       "  <thead>\n",
       "    <tr style=\"text-align: right;\">\n",
       "      <th></th>\n",
       "      <th>y_t</th>\n",
       "      <th>grad_t</th>\n",
       "    </tr>\n",
       "  </thead>\n",
       "  <tbody>\n",
       "    <tr>\n",
       "      <th>0</th>\n",
       "      <td>89.140000</td>\n",
       "      <td>0.000298</td>\n",
       "    </tr>\n",
       "    <tr>\n",
       "      <th>1</th>\n",
       "      <td>88.911429</td>\n",
       "      <td>0.000298</td>\n",
       "    </tr>\n",
       "    <tr>\n",
       "      <th>2</th>\n",
       "      <td>88.682857</td>\n",
       "      <td>0.000297</td>\n",
       "    </tr>\n",
       "    <tr>\n",
       "      <th>3</th>\n",
       "      <td>88.454286</td>\n",
       "      <td>0.000297</td>\n",
       "    </tr>\n",
       "    <tr>\n",
       "      <th>4</th>\n",
       "      <td>88.225714</td>\n",
       "      <td>0.000297</td>\n",
       "    </tr>\n",
       "    <tr>\n",
       "      <th>...</th>\n",
       "      <td>...</td>\n",
       "      <td>...</td>\n",
       "    </tr>\n",
       "    <tr>\n",
       "      <th>9995</th>\n",
       "      <td>NaN</td>\n",
       "      <td>0.000018</td>\n",
       "    </tr>\n",
       "    <tr>\n",
       "      <th>9996</th>\n",
       "      <td>NaN</td>\n",
       "      <td>0.000018</td>\n",
       "    </tr>\n",
       "    <tr>\n",
       "      <th>9997</th>\n",
       "      <td>NaN</td>\n",
       "      <td>0.000018</td>\n",
       "    </tr>\n",
       "    <tr>\n",
       "      <th>9998</th>\n",
       "      <td>NaN</td>\n",
       "      <td>0.000018</td>\n",
       "    </tr>\n",
       "    <tr>\n",
       "      <th>9999</th>\n",
       "      <td>NaN</td>\n",
       "      <td>0.000018</td>\n",
       "    </tr>\n",
       "  </tbody>\n",
       "</table>\n",
       "<p>10000 rows × 2 columns</p>\n",
       "</div>"
      ],
      "text/plain": [
       "            y_t    grad_t\n",
       "0     89.140000  0.000298\n",
       "1     88.911429  0.000298\n",
       "2     88.682857  0.000297\n",
       "3     88.454286  0.000297\n",
       "4     88.225714  0.000297\n",
       "...         ...       ...\n",
       "9995        NaN  0.000018\n",
       "9996        NaN  0.000018\n",
       "9997        NaN  0.000018\n",
       "9998        NaN  0.000018\n",
       "9999        NaN  0.000018\n",
       "\n",
       "[10000 rows x 2 columns]"
      ]
     },
     "execution_count": 9,
     "metadata": {},
     "output_type": "execute_result"
    }
   ],
   "source": [
    "df"
   ]
  },
  {
   "cell_type": "markdown",
   "metadata": {
    "id": "-5esyHu5aFvg"
   },
   "source": [
    "## Plot of the External Forcing from Chaotic Differential Equation"
   ]
  },
  {
   "cell_type": "code",
   "execution_count": 10,
   "metadata": {
    "colab": {
     "base_uri": "https://localhost:8080/",
     "height": 447
    },
    "id": "hGnE43tOh-4p",
    "outputId": "fc396503-b624-4fa5-dfbe-f460207405c6"
   },
   "outputs": [
    {
     "data": {
      "text/plain": [
       "<Axes: >"
      ]
     },
     "execution_count": 10,
     "metadata": {},
     "output_type": "execute_result"
    },
    {
     "data": {
      "image/png": "[encoded data removed]",
      "text/plain": [
       "<Figure size 432x288 with 1 Axes>"
      ]
     },
     "metadata": {
      "needs_background": "light"
     },
     "output_type": "display_data"
    }
   ],
   "source": [
    "df.iloc[:, 0].plot()"
   ]
  },
  {
   "cell_type": "code",
   "execution_count": 11,
   "metadata": {
    "colab": {
     "base_uri": "https://localhost:8080/",
     "height": 447
    },
    "id": "ym4xWUUxaFvg",
    "outputId": "ae6a3495-8ce9-437e-ba81-3ed31deedeae"
   },
   "outputs": [
    {
     "name": "stderr",
     "output_type": "stream",
     "text": [
      "C:\\Users\\Anurag Dutta\\AppData\\Local\\Packages\\PythonSoftwareFoundation.Python.3.9_qbz5n2kfra8p0\\LocalCache\\local-packages\\Python39\\site-packages\\pandas\\core\\arraylike.py:402: RuntimeWarning: divide by zero encountered in log\n",
      "  result = getattr(ufunc, method)(*inputs, **kwargs)\n"
     ]
    },
    {
     "data": {
      "text/plain": [
       "<Axes: >"
      ]
     },
     "execution_count": 11,
     "metadata": {},
     "output_type": "execute_result"
    },
    {
     "data": {
      "image/png": "[encoded data removed]",
      "text/plain": [
       "<Figure size 432x288 with 1 Axes>"
      ]
     },
     "metadata": {
      "needs_background": "light"
     },
     "output_type": "display_data"
    }
   ],
   "source": [
    "import numpy as np\n",
    "c0 = 86.8407  # Value for C0\n",
    "K0 = -0.0015  # Value for K0\n",
    "K1 = -0.0001  # Value for K1\n",
    "a = 0.0000    # Value for a\n",
    "b = 0.0118    # Value for b\n",
    "c = 2.5775    # Value for c\n",
    "\n",
    "L = np.minimum(c0, (df.iloc[:, 1] - (df.iloc[:, 0] * (K0 - K1 * (9 * a * np.log(df.iloc[:, 0] / c0) / (K0 - K1 * c)**2 + 4 * b * np.log(df.iloc[:, 0] / c0) / (K0 - K1 * c) + c)))))\n",
    "L.plot()"
   ]
  },
  {
   "cell_type": "markdown",
   "metadata": {
    "id": "9VyEywnwaFvh"
   },
   "source": [
    "## Preprocessing the data into supervised learning"
   ]
  },
  {
   "cell_type": "code",
   "execution_count": 12,
   "metadata": {
    "id": "6V9dXqzdaFvh"
   },
   "outputs": [],
   "source": [
    "# split a sequence into samples\n",
    "def Supervised(data, n_in=1, n_out=1, dropnan=True):\n",
    "    n_vars = 1 if type(data) is list else data.shape[1]\n",
    "    df = pd.DataFrame(data)\n",
    "    cols, names = list(), list()\n",
    "    # input sequence (t-n_in, ... t-1)\n",
    "    for i in range(n_in, 0, -1):\n",
    "        cols.append(df.shift(i))\n",
    "        names += [('var%d(t-%d)' % (j+1, i)) for j in range(n_vars)]\n",
    "    # forecast sequence (t, t+1, ... t+n_out)\n",
    "    for i in range(0, n_out):\n",
    "      cols.append(df.shift(-i))\n",
    "      if i == 0:\n",
    "        names += [('var%d(t)' % (j+1)) for j in range(n_vars)]\n",
    "      else:\n",
    "        names += [('var%d(t+%d)' % (j+1, i)) for j in range(n_vars)]\n",
    "    # put it all together\n",
    "    agg = pd.concat(cols, axis=1)\n",
    "    agg.columns = names\n",
    "    # drop rows with NaN values\n",
    "    if dropnan:\n",
    "       agg.dropna(inplace=True)\n",
    "    return agg"
   ]
  },
  {
   "cell_type": "code",
   "execution_count": 13,
   "metadata": {
    "colab": {
     "base_uri": "https://localhost:8080/"
    },
    "id": "CrzSrT1HnyfH",
    "outputId": "7e75f928-3e47-499d-eac1-51908015ef78"
   },
   "outputs": [
    {
     "name": "stdout",
     "output_type": "stream",
     "text": [
      "     var1(t-350)  var1(t-349)  var1(t-348)  var1(t-347)  var1(t-346)  \\\n",
      "350    89.140000    88.911429    88.682857    88.454286    88.225714   \n",
      "351    88.911429    88.682857    88.454286    88.225714    87.997143   \n",
      "352    88.682857    88.454286    88.225714    87.997143    87.768571   \n",
      "353    88.454286    88.225714    87.997143    87.768571    87.540000   \n",
      "354    88.225714    87.997143    87.768571    87.540000    87.311429   \n",
      "\n",
      "     var1(t-345)  var1(t-344)  var1(t-343)  var1(t-342)  var1(t-341)  ...  \\\n",
      "350    87.997143    87.768571    87.540000    87.311429    87.095798  ...   \n",
      "351    87.768571    87.540000    87.311429    87.095798    87.039776  ...   \n",
      "352    87.540000    87.311429    87.095798    87.039776    86.983754  ...   \n",
      "353    87.311429    87.095798    87.039776    86.983754    86.927731  ...   \n",
      "354    87.095798    87.039776    86.983754    86.927731    86.871709  ...   \n",
      "\n",
      "     var1(t+95)  var2(t+95)  var1(t+96)  var2(t+96)  var1(t+97)  var2(t+97)  \\\n",
      "350   79.161181    0.000263   79.132236    0.000263   79.103291    0.000263   \n",
      "351   79.132236    0.000263   79.103291    0.000263   79.074346    0.000262   \n",
      "352   79.103291    0.000263   79.074346    0.000262   79.045401    0.000262   \n",
      "353   79.074346    0.000262   79.045401    0.000262   79.016457    0.000262   \n",
      "354   79.045401    0.000262   79.016457    0.000262   78.987512    0.000262   \n",
      "\n",
      "     var1(t+98)  var2(t+98)  var1(t+99)  var2(t+99)  \n",
      "350   79.074346    0.000262   79.045401    0.000262  \n",
      "351   79.045401    0.000262   79.016457    0.000262  \n",
      "352   79.016457    0.000262   78.987512    0.000262  \n",
      "353   78.987512    0.000262   78.958567    0.000262  \n",
      "354   78.958567    0.000262   78.929622    0.000262  \n",
      "\n",
      "[5 rows x 551 columns]\n",
      "Index(['var1(t-350)', 'var1(t-349)', 'var1(t-348)', 'var1(t-347)',\n",
      "       'var1(t-346)', 'var1(t-345)', 'var1(t-344)', 'var1(t-343)',\n",
      "       'var1(t-342)', 'var1(t-341)',\n",
      "       ...\n",
      "       'var1(t+95)', 'var2(t+95)', 'var1(t+96)', 'var2(t+96)', 'var1(t+97)',\n",
      "       'var2(t+97)', 'var1(t+98)', 'var2(t+98)', 'var1(t+99)', 'var2(t+99)'],\n",
      "      dtype='object', length=551)\n"
     ]
    }
   ],
   "source": [
    "data = Supervised(df.values, n_in = 350, n_out = 100)\n",
    "\n",
    "\n",
    "cols_to_drop = []\n",
    "for i in range(2, 351):\n",
    "    cols_to_drop.extend([f'var2(t-{i})'])\n",
    "\n",
    "data.drop(cols_to_drop, axis=1, inplace=True)\n",
    "\n",
    "print(data.head())\n",
    "print(data.columns)"
   ]
  },
  {
   "cell_type": "code",
   "execution_count": 14,
   "metadata": {
    "id": "AfPf60oy6Pe4"
   },
   "outputs": [],
   "source": [
    "train = np.array(data[0:len(data)-1])\n",
    "forecast = np.array(data.tail(1))"
   ]
  },
  {
   "cell_type": "code",
   "execution_count": 15,
   "metadata": {
    "id": "WSAafzI37KiT"
   },
   "outputs": [],
   "source": [
    "trainy = train[:,-300:]\n",
    "trainX = train[:,:-300]"
   ]
  },
  {
   "cell_type": "code",
   "execution_count": 16,
   "metadata": {
    "id": "2SrOqVJA7f50"
   },
   "outputs": [],
   "source": [
    "forecasty = forecast[:,-300:]\n",
    "forecastX = forecast[:,:-300]"
   ]
  },
  {
   "cell_type": "code",
   "execution_count": 17,
   "metadata": {
    "colab": {
     "base_uri": "https://localhost:8080/"
    },
    "id": "Qno_k8Nw7saY",
    "outputId": "c4a88db5-d8c6-489f-cdb2-06b24e293cff"
   },
   "outputs": [
    {
     "name": "stdout",
     "output_type": "stream",
     "text": [
      "(1400, 1, 251) (1400, 300) (1, 1, 251)\n"
     ]
    }
   ],
   "source": [
    "trainX = trainX.reshape((trainX.shape[0], 1, trainX.shape[1]))\n",
    "forecastX = forecastX.reshape((forecastX.shape[0], 1, forecastX.shape[1]))\n",
    "print(trainX.shape, trainy.shape, forecastX.shape)"
   ]
  },
  {
   "cell_type": "code",
   "execution_count": 18,
   "metadata": {
    "colab": {
     "base_uri": "https://localhost:8080/"
    },
    "id": "b1Jp2DvNuNFx",
    "outputId": "d0e5b3c4-64f1-438c-eade-8dfeaac8e285"
   },
   "outputs": [
    {
     "name": "stdout",
     "output_type": "stream",
     "text": [
      "Epoch 1/500\n",
      "18/18 [==============================] - 3s 28ms/step - loss: 5293.2090 - val_loss: 3719.1985\n",
      "Epoch 2/500\n",
      "18/18 [==============================] - 0s 6ms/step - loss: 5165.7266 - val_loss: 3631.2688\n",
      "Epoch 3/500\n",
      "18/18 [==============================] - 0s 5ms/step - loss: 5096.4155 - val_loss: 3585.4119\n",
      "Epoch 4/500\n",
      "18/18 [==============================] - 0s 6ms/step - loss: 5025.9863 - val_loss: 3537.9138\n",
      "Epoch 5/500\n",
      "18/18 [==============================] - 0s 5ms/step - loss: 4959.7324 - val_loss: 3493.0654\n",
      "Epoch 6/500\n",
      "18/18 [==============================] - 0s 6ms/step - loss: 4894.3662 - val_loss: 3448.7683\n",
      "Epoch 7/500\n",
      "18/18 [==============================] - 0s 5ms/step - loss: 4829.9546 - val_loss: 3405.3516\n",
      "Epoch 8/500\n",
      "18/18 [==============================] - 0s 9ms/step - loss: 4766.3892 - val_loss: 3362.5706\n",
      "Epoch 9/500\n",
      "18/18 [==============================] - 0s 13ms/step - loss: 4703.5962 - val_loss: 3320.3696\n",
      "Epoch 10/500\n",
      "18/18 [==============================] - 0s 6ms/step - loss: 4641.5298 - val_loss: 3278.7217\n",
      "Epoch 11/500\n",
      "18/18 [==============================] - 0s 5ms/step - loss: 4580.1592 - val_loss: 3237.6074\n",
      "Epoch 12/500\n",
      "18/18 [==============================] - 0s 5ms/step - loss: 4519.4624 - val_loss: 3197.0125\n",
      "Epoch 13/500\n",
      "18/18 [==============================] - 0s 4ms/step - loss: 4459.4243 - val_loss: 3156.9250\n",
      "Epoch 14/500\n",
      "18/18 [==============================] - 0s 4ms/step - loss: 4400.0288 - val_loss: 3117.3364\n",
      "Epoch 15/500\n",
      "18/18 [==============================] - 0s 4ms/step - loss: 4341.2681 - val_loss: 3078.2388\n",
      "Epoch 16/500\n",
      "18/18 [==============================] - 0s 5ms/step - loss: 4283.1304 - val_loss: 3039.6245\n",
      "Epoch 17/500\n",
      "18/18 [==============================] - 0s 5ms/step - loss: 4225.6084 - val_loss: 3001.4883\n",
      "Epoch 18/500\n",
      "18/18 [==============================] - 0s 5ms/step - loss: 4168.6943 - val_loss: 2963.8237\n",
      "Epoch 19/500\n",
      "18/18 [==============================] - 0s 4ms/step - loss: 4112.3813 - val_loss: 2926.6260\n",
      "Epoch 20/500\n",
      "18/18 [==============================] - 0s 4ms/step - loss: 4056.6628 - val_loss: 2889.8894\n",
      "Epoch 21/500\n",
      "18/18 [==============================] - 0s 4ms/step - loss: 4001.5330 - val_loss: 2853.6094\n",
      "Epoch 22/500\n",
      "18/18 [==============================] - 0s 4ms/step - loss: 3946.9854 - val_loss: 2817.7825\n",
      "Epoch 23/500\n",
      "18/18 [==============================] - 0s 4ms/step - loss: 3893.0151 - val_loss: 2782.4050\n",
      "Epoch 24/500\n",
      "18/18 [==============================] - 0s 4ms/step - loss: 3839.6179 - val_loss: 2747.5005\n",
      "Epoch 25/500\n",
      "18/18 [==============================] - 0s 5ms/step - loss: 3786.7861 - val_loss: 2712.9663\n",
      "Epoch 26/500\n",
      "18/18 [==============================] - 0s 4ms/step - loss: 3734.5166 - val_loss: 2678.9038\n",
      "Epoch 27/500\n",
      "18/18 [==============================] - 0s 4ms/step - loss: 3682.8040 - val_loss: 2645.2737\n",
      "Epoch 28/500\n",
      "18/18 [==============================] - 0s 4ms/step - loss: 3631.6433 - val_loss: 2612.0710\n",
      "Epoch 29/500\n",
      "18/18 [==============================] - 0s 5ms/step - loss: 3581.0308 - val_loss: 2579.2922\n",
      "Epoch 30/500\n",
      "18/18 [==============================] - 0s 5ms/step - loss: 3530.9619 - val_loss: 2546.9336\n",
      "Epoch 31/500\n",
      "18/18 [==============================] - 0s 6ms/step - loss: 3481.4309 - val_loss: 2514.9922\n",
      "Epoch 32/500\n",
      "18/18 [==============================] - 0s 6ms/step - loss: 3432.4341 - val_loss: 2483.4631\n",
      "Epoch 33/500\n",
      "18/18 [==============================] - 0s 8ms/step - loss: 3383.9670 - val_loss: 2452.3440\n",
      "Epoch 34/500\n",
      "18/18 [==============================] - 0s 7ms/step - loss: 3336.0264 - val_loss: 2421.6311\n",
      "Epoch 35/500\n",
      "18/18 [==============================] - 0s 7ms/step - loss: 3288.6069 - val_loss: 2391.3203\n",
      "Epoch 36/500\n",
      "18/18 [==============================] - 0s 9ms/step - loss: 3241.7043 - val_loss: 2361.4089\n",
      "Epoch 37/500\n",
      "18/18 [==============================] - 0s 13ms/step - loss: 3195.3159 - val_loss: 2331.8936\n",
      "Epoch 38/500\n",
      "18/18 [==============================] - 0s 11ms/step - loss: 3149.4363 - val_loss: 2302.7705\n",
      "Epoch 39/500\n",
      "18/18 [==============================] - 0s 9ms/step - loss: 3104.0615 - val_loss: 2274.0371\n",
      "Epoch 40/500\n",
      "18/18 [==============================] - 0s 8ms/step - loss: 3059.1887 - val_loss: 2245.6897\n",
      "Epoch 41/500\n",
      "18/18 [==============================] - 0s 8ms/step - loss: 3014.8132 - val_loss: 2217.7249\n",
      "Epoch 42/500\n",
      "18/18 [==============================] - 0s 10ms/step - loss: 2970.9309 - val_loss: 2190.1396\n",
      "Epoch 43/500\n",
      "18/18 [==============================] - 0s 9ms/step - loss: 2927.5381 - val_loss: 2162.9312\n",
      "Epoch 44/500\n",
      "18/18 [==============================] - 0s 9ms/step - loss: 2884.6318 - val_loss: 2136.0957\n",
      "Epoch 45/500\n",
      "18/18 [==============================] - 0s 27ms/step - loss: 2842.2070 - val_loss: 2109.6306\n",
      "Epoch 46/500\n",
      "18/18 [==============================] - 0s 15ms/step - loss: 2800.2610 - val_loss: 2083.5325\n",
      "Epoch 47/500\n",
      "18/18 [==============================] - 0s 16ms/step - loss: 2758.7898 - val_loss: 2057.7986\n",
      "Epoch 48/500\n",
      "18/18 [==============================] - 0s 14ms/step - loss: 2717.7888 - val_loss: 2032.4254\n",
      "Epoch 49/500\n",
      "18/18 [==============================] - 0s 13ms/step - loss: 2677.2549 - val_loss: 2007.4105\n",
      "Epoch 50/500\n",
      "18/18 [==============================] - 0s 16ms/step - loss: 2637.1858 - val_loss: 1982.7505\n",
      "Epoch 51/500\n",
      "18/18 [==============================] - 0s 12ms/step - loss: 2597.5767 - val_loss: 1958.4429\n",
      "Epoch 52/500\n",
      "18/18 [==============================] - 0s 10ms/step - loss: 2558.4238 - val_loss: 1934.4839\n",
      "Epoch 53/500\n",
      "18/18 [==============================] - 0s 11ms/step - loss: 2519.7239 - val_loss: 1910.8712\n",
      "Epoch 54/500\n",
      "18/18 [==============================] - 0s 9ms/step - loss: 2481.4736 - val_loss: 1887.6016\n",
      "Epoch 55/500\n",
      "18/18 [==============================] - 0s 11ms/step - loss: 2443.6697 - val_loss: 1864.6725\n",
      "Epoch 56/500\n",
      "18/18 [==============================] - 0s 9ms/step - loss: 2406.3081 - val_loss: 1842.0804\n",
      "Epoch 57/500\n",
      "18/18 [==============================] - 0s 9ms/step - loss: 2369.3855 - val_loss: 1819.8235\n",
      "Epoch 58/500\n",
      "18/18 [==============================] - 0s 8ms/step - loss: 2332.8984 - val_loss: 1797.8978\n",
      "Epoch 59/500\n",
      "18/18 [==============================] - 0s 7ms/step - loss: 2296.8442 - val_loss: 1776.3014\n",
      "Epoch 60/500\n",
      "18/18 [==============================] - 0s 7ms/step - loss: 2261.2190 - val_loss: 1755.0309\n",
      "Epoch 61/500\n",
      "18/18 [==============================] - 0s 7ms/step - loss: 2226.0186 - val_loss: 1734.0836\n",
      "Epoch 62/500\n",
      "18/18 [==============================] - 0s 8ms/step - loss: 2191.2412 - val_loss: 1713.4572\n",
      "Epoch 63/500\n",
      "18/18 [==============================] - 0s 7ms/step - loss: 2156.8831 - val_loss: 1693.1482\n",
      "Epoch 64/500\n",
      "18/18 [==============================] - 0s 7ms/step - loss: 2122.9404 - val_loss: 1673.1543\n",
      "Epoch 65/500\n",
      "18/18 [==============================] - 0s 7ms/step - loss: 2089.4102 - val_loss: 1653.4729\n",
      "Epoch 66/500\n",
      "18/18 [==============================] - 0s 7ms/step - loss: 2056.2888 - val_loss: 1634.1010\n",
      "Epoch 67/500\n",
      "18/18 [==============================] - 0s 7ms/step - loss: 2023.5739 - val_loss: 1615.0359\n",
      "Epoch 68/500\n",
      "18/18 [==============================] - 0s 8ms/step - loss: 1991.2621 - val_loss: 1596.2753\n",
      "Epoch 69/500\n",
      "18/18 [==============================] - 0s 7ms/step - loss: 1959.3494 - val_loss: 1577.8157\n",
      "Epoch 70/500\n",
      "18/18 [==============================] - 0s 6ms/step - loss: 1927.8333 - val_loss: 1559.6553\n",
      "Epoch 71/500\n",
      "18/18 [==============================] - 0s 7ms/step - loss: 1896.7107 - val_loss: 1541.7913\n",
      "Epoch 72/500\n",
      "18/18 [==============================] - 0s 7ms/step - loss: 1865.9785 - val_loss: 1524.2206\n",
      "Epoch 73/500\n",
      "18/18 [==============================] - 0s 13ms/step - loss: 1835.6333 - val_loss: 1506.9408\n",
      "Epoch 74/500\n",
      "18/18 [==============================] - 0s 7ms/step - loss: 1805.6721 - val_loss: 1489.9495\n",
      "Epoch 75/500\n",
      "18/18 [==============================] - 0s 7ms/step - loss: 1776.0914 - val_loss: 1473.2438\n",
      "Epoch 76/500\n",
      "18/18 [==============================] - 0s 7ms/step - loss: 1746.8887 - val_loss: 1456.8214\n",
      "Epoch 77/500\n",
      "18/18 [==============================] - 0s 6ms/step - loss: 1718.0609 - val_loss: 1440.6794\n",
      "Epoch 78/500\n",
      "18/18 [==============================] - 0s 8ms/step - loss: 1689.6049 - val_loss: 1424.8157\n",
      "Epoch 79/500\n",
      "18/18 [==============================] - 0s 7ms/step - loss: 1661.5179 - val_loss: 1409.2274\n",
      "Epoch 80/500\n",
      "18/18 [==============================] - 0s 6ms/step - loss: 1633.7964 - val_loss: 1393.9121\n",
      "Epoch 81/500\n",
      "18/18 [==============================] - 0s 7ms/step - loss: 1606.4377 - val_loss: 1378.8674\n",
      "Epoch 82/500\n",
      "18/18 [==============================] - 0s 7ms/step - loss: 1579.4392 - val_loss: 1364.0905\n",
      "Epoch 83/500\n",
      "18/18 [==============================] - 0s 7ms/step - loss: 1552.7972 - val_loss: 1349.5789\n",
      "Epoch 84/500\n",
      "18/18 [==============================] - 0s 5ms/step - loss: 1526.5093 - val_loss: 1335.3301\n",
      "Epoch 85/500\n",
      "18/18 [==============================] - 0s 6ms/step - loss: 1500.5723 - val_loss: 1321.3419\n",
      "Epoch 86/500\n",
      "18/18 [==============================] - 0s 6ms/step - loss: 1474.9835 - val_loss: 1307.6116\n",
      "Epoch 87/500\n",
      "18/18 [==============================] - 0s 6ms/step - loss: 1449.7400 - val_loss: 1294.1366\n",
      "Epoch 88/500\n",
      "18/18 [==============================] - 0s 7ms/step - loss: 1424.8385 - val_loss: 1280.9147\n",
      "Epoch 89/500\n",
      "18/18 [==============================] - 0s 6ms/step - loss: 1400.2765 - val_loss: 1267.9434\n",
      "Epoch 90/500\n",
      "18/18 [==============================] - 0s 6ms/step - loss: 1376.0514 - val_loss: 1255.2201\n",
      "Epoch 91/500\n",
      "18/18 [==============================] - 0s 6ms/step - loss: 1352.1593 - val_loss: 1242.7426\n",
      "Epoch 92/500\n",
      "18/18 [==============================] - 0s 6ms/step - loss: 1328.5986 - val_loss: 1230.5082\n",
      "Epoch 93/500\n",
      "18/18 [==============================] - 0s 6ms/step - loss: 1305.3660 - val_loss: 1218.5148\n",
      "Epoch 94/500\n",
      "18/18 [==============================] - 0s 5ms/step - loss: 1282.4585 - val_loss: 1206.7598\n",
      "Epoch 95/500\n",
      "18/18 [==============================] - 0s 6ms/step - loss: 1259.8738 - val_loss: 1195.2410\n",
      "Epoch 96/500\n",
      "18/18 [==============================] - 0s 6ms/step - loss: 1237.6088 - val_loss: 1183.9557\n",
      "Epoch 97/500\n",
      "18/18 [==============================] - 0s 5ms/step - loss: 1215.6604 - val_loss: 1172.9017\n",
      "Epoch 98/500\n",
      "18/18 [==============================] - 0s 6ms/step - loss: 1194.0265 - val_loss: 1162.0767\n",
      "Epoch 99/500\n",
      "18/18 [==============================] - 0s 6ms/step - loss: 1172.7037 - val_loss: 1151.4779\n",
      "Epoch 100/500\n",
      "18/18 [==============================] - 0s 6ms/step - loss: 1151.6896 - val_loss: 1141.1038\n",
      "Epoch 101/500\n",
      "18/18 [==============================] - 0s 10ms/step - loss: 1130.9813 - val_loss: 1130.9508\n",
      "Epoch 102/500\n",
      "18/18 [==============================] - 0s 7ms/step - loss: 1110.5762 - val_loss: 1121.0176\n",
      "Epoch 103/500\n",
      "18/18 [==============================] - 0s 7ms/step - loss: 1090.4717 - val_loss: 1111.3015\n",
      "Epoch 104/500\n",
      "18/18 [==============================] - 0s 7ms/step - loss: 1070.6650 - val_loss: 1101.8004\n",
      "Epoch 105/500\n",
      "18/18 [==============================] - 0s 6ms/step - loss: 1051.1534 - val_loss: 1092.5114\n",
      "Epoch 106/500\n",
      "18/18 [==============================] - 0s 7ms/step - loss: 1031.9338 - val_loss: 1083.4326\n",
      "Epoch 107/500\n",
      "18/18 [==============================] - 0s 7ms/step - loss: 1013.0042 - val_loss: 1074.5618\n",
      "Epoch 108/500\n",
      "18/18 [==============================] - 0s 8ms/step - loss: 994.3619 - val_loss: 1065.8964\n",
      "Epoch 109/500\n",
      "18/18 [==============================] - 0s 7ms/step - loss: 976.0036 - val_loss: 1057.4342\n",
      "Epoch 110/500\n",
      "18/18 [==============================] - 0s 8ms/step - loss: 957.9274 - val_loss: 1049.1730\n",
      "Epoch 111/500\n",
      "18/18 [==============================] - 0s 7ms/step - loss: 940.1300 - val_loss: 1041.1102\n",
      "Epoch 112/500\n",
      "18/18 [==============================] - 0s 7ms/step - loss: 922.6093 - val_loss: 1033.2441\n",
      "Epoch 113/500\n",
      "18/18 [==============================] - 0s 10ms/step - loss: 905.3624 - val_loss: 1025.5719\n",
      "Epoch 114/500\n",
      "18/18 [==============================] - 0s 8ms/step - loss: 888.3867 - val_loss: 1018.0915\n",
      "Epoch 115/500\n",
      "18/18 [==============================] - 0s 8ms/step - loss: 871.6798 - val_loss: 1010.8008\n",
      "Epoch 116/500\n",
      "18/18 [==============================] - 0s 7ms/step - loss: 855.2387 - val_loss: 1003.6971\n",
      "Epoch 117/500\n",
      "18/18 [==============================] - 0s 7ms/step - loss: 839.0613 - val_loss: 996.7786\n",
      "Epoch 118/500\n",
      "18/18 [==============================] - 0s 7ms/step - loss: 823.1448 - val_loss: 990.0427\n",
      "Epoch 119/500\n",
      "18/18 [==============================] - 0s 8ms/step - loss: 807.4865 - val_loss: 983.4873\n",
      "Epoch 120/500\n",
      "18/18 [==============================] - 0s 7ms/step - loss: 792.0837 - val_loss: 977.1100\n",
      "Epoch 121/500\n",
      "18/18 [==============================] - 0s 8ms/step - loss: 776.9346 - val_loss: 970.9092\n",
      "Epoch 122/500\n",
      "18/18 [==============================] - 0s 9ms/step - loss: 762.0359 - val_loss: 964.8817\n",
      "Epoch 123/500\n",
      "18/18 [==============================] - 0s 8ms/step - loss: 747.3853 - val_loss: 959.0257\n",
      "Epoch 124/500\n",
      "18/18 [==============================] - 0s 8ms/step - loss: 732.9804 - val_loss: 953.3384\n",
      "Epoch 125/500\n",
      "18/18 [==============================] - 0s 9ms/step - loss: 718.8185 - val_loss: 947.8373\n",
      "Epoch 126/500\n",
      "18/18 [==============================] - 0s 8ms/step - loss: 704.8970 - val_loss: 942.5745\n",
      "Epoch 127/500\n",
      "18/18 [==============================] - 0s 8ms/step - loss: 691.2135 - val_loss: 937.3846\n",
      "Epoch 128/500\n",
      "18/18 [==============================] - 0s 19ms/step - loss: 677.7657 - val_loss: 932.3548\n",
      "Epoch 129/500\n",
      "18/18 [==============================] - 0s 11ms/step - loss: 664.5510 - val_loss: 927.4839\n",
      "Epoch 130/500\n",
      "18/18 [==============================] - 0s 10ms/step - loss: 651.5667 - val_loss: 922.7687\n",
      "Epoch 131/500\n",
      "18/18 [==============================] - 0s 10ms/step - loss: 638.8105 - val_loss: 918.2076\n",
      "Epoch 132/500\n",
      "18/18 [==============================] - 0s 10ms/step - loss: 626.2802 - val_loss: 913.7988\n",
      "Epoch 133/500\n",
      "18/18 [==============================] - 0s 11ms/step - loss: 613.9727 - val_loss: 909.5395\n",
      "Epoch 134/500\n",
      "18/18 [==============================] - 0s 10ms/step - loss: 601.8859 - val_loss: 905.4276\n",
      "Epoch 135/500\n",
      "18/18 [==============================] - 0s 10ms/step - loss: 590.0173 - val_loss: 901.4611\n",
      "Epoch 136/500\n",
      "18/18 [==============================] - 0s 10ms/step - loss: 578.3644 - val_loss: 897.6379\n",
      "Epoch 137/500\n",
      "18/18 [==============================] - 0s 9ms/step - loss: 566.9249 - val_loss: 893.9556\n",
      "Epoch 138/500\n",
      "18/18 [==============================] - 0s 9ms/step - loss: 555.6963 - val_loss: 890.4123\n",
      "Epoch 139/500\n",
      "18/18 [==============================] - 0s 8ms/step - loss: 544.6761 - val_loss: 887.0057\n",
      "Epoch 140/500\n",
      "18/18 [==============================] - 0s 7ms/step - loss: 533.8621 - val_loss: 883.7338\n",
      "Epoch 141/500\n",
      "18/18 [==============================] - 0s 8ms/step - loss: 523.2515 - val_loss: 880.5946\n",
      "Epoch 142/500\n",
      "18/18 [==============================] - 0s 8ms/step - loss: 512.8422 - val_loss: 877.5855\n",
      "Epoch 143/500\n",
      "18/18 [==============================] - 0s 7ms/step - loss: 502.6319 - val_loss: 874.7049\n",
      "Epoch 144/500\n",
      "18/18 [==============================] - 0s 8ms/step - loss: 492.6178 - val_loss: 871.9504\n",
      "Epoch 145/500\n",
      "18/18 [==============================] - 0s 8ms/step - loss: 482.7978 - val_loss: 869.3200\n",
      "Epoch 146/500\n",
      "18/18 [==============================] - 0s 8ms/step - loss: 473.1696 - val_loss: 866.8117\n",
      "Epoch 147/500\n",
      "18/18 [==============================] - 0s 8ms/step - loss: 463.7308 - val_loss: 864.4232\n",
      "Epoch 148/500\n",
      "18/18 [==============================] - 0s 8ms/step - loss: 454.4789 - val_loss: 862.1525\n",
      "Epoch 149/500\n",
      "18/18 [==============================] - 0s 7ms/step - loss: 445.4114 - val_loss: 859.9976\n",
      "Epoch 150/500\n",
      "18/18 [==============================] - 0s 8ms/step - loss: 436.5262 - val_loss: 857.9562\n",
      "Epoch 151/500\n",
      "18/18 [==============================] - 0s 6ms/step - loss: 427.8211 - val_loss: 856.0265\n",
      "Epoch 152/500\n",
      "18/18 [==============================] - 0s 7ms/step - loss: 419.2935 - val_loss: 854.2065\n",
      "Epoch 153/500\n",
      "18/18 [==============================] - 0s 13ms/step - loss: 410.9410 - val_loss: 852.4938\n",
      "Epoch 154/500\n",
      "18/18 [==============================] - 0s 10ms/step - loss: 402.7617 - val_loss: 850.8867\n",
      "Epoch 155/500\n",
      "18/18 [==============================] - 0s 7ms/step - loss: 394.7530 - val_loss: 849.3829\n",
      "Epoch 156/500\n",
      "18/18 [==============================] - 0s 7ms/step - loss: 386.9128 - val_loss: 847.9806\n",
      "Epoch 157/500\n",
      "18/18 [==============================] - 0s 7ms/step - loss: 379.2383 - val_loss: 846.6776\n",
      "Epoch 158/500\n",
      "18/18 [==============================] - 0s 6ms/step - loss: 371.7278 - val_loss: 845.4721\n",
      "Epoch 159/500\n",
      "18/18 [==============================] - 0s 6ms/step - loss: 364.3788 - val_loss: 844.3618\n",
      "Epoch 160/500\n",
      "18/18 [==============================] - 0s 7ms/step - loss: 357.1890 - val_loss: 843.3450\n",
      "Epoch 161/500\n",
      "18/18 [==============================] - 0s 6ms/step - loss: 350.1561 - val_loss: 842.4196\n",
      "Epoch 162/500\n",
      "18/18 [==============================] - 0s 6ms/step - loss: 343.2781 - val_loss: 841.5836\n",
      "Epoch 163/500\n",
      "18/18 [==============================] - 0s 6ms/step - loss: 336.5524 - val_loss: 840.8350\n",
      "Epoch 164/500\n",
      "18/18 [==============================] - 0s 7ms/step - loss: 329.9770 - val_loss: 840.1719\n",
      "Epoch 165/500\n",
      "18/18 [==============================] - 0s 6ms/step - loss: 323.5498 - val_loss: 839.5924\n",
      "Epoch 166/500\n",
      "18/18 [==============================] - 0s 6ms/step - loss: 317.2686 - val_loss: 839.0944\n",
      "Epoch 167/500\n",
      "18/18 [==============================] - 0s 6ms/step - loss: 311.1310 - val_loss: 838.6762\n",
      "Epoch 168/500\n",
      "18/18 [==============================] - 0s 6ms/step - loss: 305.1347 - val_loss: 838.3358\n",
      "Epoch 169/500\n",
      "18/18 [==============================] - 0s 5ms/step - loss: 299.2778 - val_loss: 838.0713\n",
      "Epoch 170/500\n",
      "18/18 [==============================] - 0s 6ms/step - loss: 293.5582 - val_loss: 837.8807\n",
      "Epoch 171/500\n",
      "18/18 [==============================] - 0s 5ms/step - loss: 287.9735 - val_loss: 837.7620\n",
      "Epoch 172/500\n",
      "18/18 [==============================] - 0s 6ms/step - loss: 282.5217 - val_loss: 837.7138\n",
      "Epoch 173/500\n",
      "18/18 [==============================] - 0s 6ms/step - loss: 277.2005 - val_loss: 837.7337\n",
      "Epoch 174/500\n",
      "18/18 [==============================] - 0s 6ms/step - loss: 272.0080 - val_loss: 837.8203\n",
      "Epoch 175/500\n",
      "18/18 [==============================] - 0s 5ms/step - loss: 266.9418 - val_loss: 837.9714\n",
      "Epoch 176/500\n",
      "18/18 [==============================] - 0s 5ms/step - loss: 261.9999 - val_loss: 838.1855\n",
      "Epoch 177/500\n",
      "18/18 [==============================] - 0s 6ms/step - loss: 257.1803 - val_loss: 838.4605\n",
      "Epoch 178/500\n",
      "18/18 [==============================] - 0s 7ms/step - loss: 252.4808 - val_loss: 838.7949\n",
      "Epoch 179/500\n",
      "18/18 [==============================] - 0s 6ms/step - loss: 247.8996 - val_loss: 839.1866\n",
      "Epoch 180/500\n",
      "18/18 [==============================] - 0s 6ms/step - loss: 243.4344 - val_loss: 839.6341\n",
      "Epoch 181/500\n",
      "18/18 [==============================] - 0s 7ms/step - loss: 239.0834 - val_loss: 840.1354\n",
      "Epoch 182/500\n",
      "18/18 [==============================] - 0s 7ms/step - loss: 234.8446 - val_loss: 840.6890\n",
      "Epoch 183/500\n",
      "18/18 [==============================] - 0s 7ms/step - loss: 230.7154 - val_loss: 841.2930\n",
      "Epoch 184/500\n",
      "18/18 [==============================] - 0s 8ms/step - loss: 226.6946 - val_loss: 841.9456\n",
      "Epoch 185/500\n",
      "18/18 [==============================] - 0s 9ms/step - loss: 222.7797 - val_loss: 842.6455\n",
      "Epoch 186/500\n",
      "18/18 [==============================] - 0s 7ms/step - loss: 218.9689 - val_loss: 843.3907\n",
      "Epoch 187/500\n",
      "18/18 [==============================] - 0s 6ms/step - loss: 215.2601 - val_loss: 844.1796\n",
      "Epoch 188/500\n",
      "18/18 [==============================] - 0s 6ms/step - loss: 211.6516 - val_loss: 845.0106\n",
      "Epoch 189/500\n",
      "18/18 [==============================] - 0s 6ms/step - loss: 208.1414 - val_loss: 845.8820\n",
      "Epoch 190/500\n",
      "18/18 [==============================] - 0s 6ms/step - loss: 204.7276 - val_loss: 846.7922\n",
      "Epoch 191/500\n",
      "18/18 [==============================] - 0s 7ms/step - loss: 201.4081 - val_loss: 847.7397\n",
      "Epoch 192/500\n",
      "18/18 [==============================] - 0s 6ms/step - loss: 198.1814 - val_loss: 848.7228\n",
      "Epoch 193/500\n",
      "18/18 [==============================] - 0s 7ms/step - loss: 195.0453 - val_loss: 849.7400\n",
      "Epoch 194/500\n",
      "18/18 [==============================] - 0s 7ms/step - loss: 191.9980 - val_loss: 850.7899\n",
      "Epoch 195/500\n",
      "18/18 [==============================] - 0s 10ms/step - loss: 189.0378 - val_loss: 851.8708\n",
      "Epoch 196/500\n",
      "18/18 [==============================] - 0s 9ms/step - loss: 186.1630 - val_loss: 852.9810\n",
      "Epoch 197/500\n",
      "18/18 [==============================] - 0s 8ms/step - loss: 183.3715 - val_loss: 854.1196\n",
      "Epoch 198/500\n",
      "18/18 [==============================] - 0s 8ms/step - loss: 180.6616 - val_loss: 855.2846\n",
      "Epoch 199/500\n",
      "18/18 [==============================] - 0s 6ms/step - loss: 178.0318 - val_loss: 856.4748\n",
      "Epoch 200/500\n",
      "18/18 [==============================] - 0s 6ms/step - loss: 175.4802 - val_loss: 857.6888\n",
      "Epoch 201/500\n",
      "18/18 [==============================] - 0s 5ms/step - loss: 173.0051 - val_loss: 858.9251\n",
      "Epoch 202/500\n",
      "18/18 [==============================] - 0s 6ms/step - loss: 170.6046 - val_loss: 860.1825\n",
      "Epoch 203/500\n",
      "18/18 [==============================] - 0s 6ms/step - loss: 168.2771 - val_loss: 861.4594\n",
      "Epoch 204/500\n",
      "18/18 [==============================] - 0s 6ms/step - loss: 166.0211 - val_loss: 862.7545\n",
      "Epoch 205/500\n",
      "18/18 [==============================] - 0s 5ms/step - loss: 163.8350 - val_loss: 864.0667\n",
      "Epoch 206/500\n",
      "18/18 [==============================] - 0s 5ms/step - loss: 161.7169 - val_loss: 865.3947\n",
      "Epoch 207/500\n",
      "18/18 [==============================] - 0s 6ms/step - loss: 159.6655 - val_loss: 866.7369\n",
      "Epoch 208/500\n",
      "18/18 [==============================] - 0s 6ms/step - loss: 157.6788 - val_loss: 868.0922\n",
      "Epoch 209/500\n",
      "18/18 [==============================] - 0s 11ms/step - loss: 155.7557 - val_loss: 869.4597\n",
      "Epoch 210/500\n",
      "18/18 [==============================] - 0s 7ms/step - loss: 153.8944 - val_loss: 870.8380\n",
      "Epoch 211/500\n",
      "18/18 [==============================] - 0s 6ms/step - loss: 152.0933 - val_loss: 872.2256\n",
      "Epoch 212/500\n",
      "18/18 [==============================] - 0s 6ms/step - loss: 150.3513 - val_loss: 873.6216\n",
      "Epoch 213/500\n",
      "18/18 [==============================] - 0s 7ms/step - loss: 148.6664 - val_loss: 875.0251\n",
      "Epoch 214/500\n",
      "18/18 [==============================] - 0s 6ms/step - loss: 147.0373 - val_loss: 876.4348\n",
      "Epoch 215/500\n",
      "18/18 [==============================] - 0s 5ms/step - loss: 145.4629 - val_loss: 877.8495\n",
      "Epoch 216/500\n",
      "18/18 [==============================] - 0s 6ms/step - loss: 143.9413 - val_loss: 879.2683\n",
      "Epoch 217/500\n",
      "18/18 [==============================] - 0s 6ms/step - loss: 142.4715 - val_loss: 880.6903\n",
      "Epoch 218/500\n",
      "18/18 [==============================] - 0s 6ms/step - loss: 141.0517 - val_loss: 882.1144\n",
      "Epoch 219/500\n",
      "18/18 [==============================] - 0s 5ms/step - loss: 139.6807 - val_loss: 883.5395\n",
      "Epoch 220/500\n",
      "18/18 [==============================] - 0s 5ms/step - loss: 138.3574 - val_loss: 884.9647\n",
      "Epoch 221/500\n",
      "18/18 [==============================] - 0s 5ms/step - loss: 137.0803 - val_loss: 886.3890\n",
      "Epoch 222/500\n",
      "18/18 [==============================] - 0s 6ms/step - loss: 135.8482 - val_loss: 887.8116\n",
      "Epoch 223/500\n",
      "18/18 [==============================] - 0s 6ms/step - loss: 134.6598 - val_loss: 889.2316\n",
      "Epoch 224/500\n",
      "18/18 [==============================] - 0s 5ms/step - loss: 133.5138 - val_loss: 890.6485\n",
      "Epoch 225/500\n",
      "18/18 [==============================] - 0s 5ms/step - loss: 132.4091 - val_loss: 892.0610\n",
      "Epoch 226/500\n",
      "18/18 [==============================] - 0s 6ms/step - loss: 131.3444 - val_loss: 893.4685\n",
      "Epoch 227/500\n",
      "18/18 [==============================] - 0s 6ms/step - loss: 130.3185 - val_loss: 894.8700\n",
      "Epoch 228/500\n",
      "18/18 [==============================] - 0s 5ms/step - loss: 129.3303 - val_loss: 896.2650\n",
      "Epoch 229/500\n",
      "18/18 [==============================] - 0s 5ms/step - loss: 128.3786 - val_loss: 897.6525\n",
      "Epoch 230/500\n",
      "18/18 [==============================] - 0s 5ms/step - loss: 127.4624 - val_loss: 899.0322\n",
      "Epoch 231/500\n",
      "18/18 [==============================] - 0s 5ms/step - loss: 126.5807 - val_loss: 900.4033\n",
      "Epoch 232/500\n",
      "18/18 [==============================] - 0s 5ms/step - loss: 125.7321 - val_loss: 901.7651\n",
      "Epoch 233/500\n",
      "18/18 [==============================] - 0s 7ms/step - loss: 124.9157 - val_loss: 903.1169\n",
      "Epoch 234/500\n",
      "18/18 [==============================] - 0s 7ms/step - loss: 124.1307 - val_loss: 904.4584\n",
      "Epoch 235/500\n",
      "18/18 [==============================] - 0s 6ms/step - loss: 123.3759 - val_loss: 905.7885\n",
      "Epoch 236/500\n",
      "18/18 [==============================] - 0s 5ms/step - loss: 122.6503 - val_loss: 907.1073\n",
      "Epoch 237/500\n",
      "18/18 [==============================] - 0s 5ms/step - loss: 121.9530 - val_loss: 908.4137\n",
      "Epoch 238/500\n",
      "18/18 [==============================] - 0s 5ms/step - loss: 121.2832 - val_loss: 909.7075\n",
      "Epoch 239/500\n",
      "18/18 [==============================] - 0s 11ms/step - loss: 120.6398 - val_loss: 910.9882\n",
      "Epoch 240/500\n",
      "18/18 [==============================] - 0s 6ms/step - loss: 120.0219 - val_loss: 912.2554\n",
      "Epoch 241/500\n",
      "18/18 [==============================] - 0s 7ms/step - loss: 119.4288 - val_loss: 913.5085\n",
      "Epoch 242/500\n",
      "18/18 [==============================] - 0s 6ms/step - loss: 118.8596 - val_loss: 914.7473\n",
      "Epoch 243/500\n",
      "18/18 [==============================] - 0s 6ms/step - loss: 118.3134 - val_loss: 915.9714\n",
      "Epoch 244/500\n",
      "18/18 [==============================] - 0s 6ms/step - loss: 117.7893 - val_loss: 917.1805\n",
      "Epoch 245/500\n",
      "18/18 [==============================] - 0s 5ms/step - loss: 117.2868 - val_loss: 918.3740\n",
      "Epoch 246/500\n",
      "18/18 [==============================] - 0s 5ms/step - loss: 116.8049 - val_loss: 919.5517\n",
      "Epoch 247/500\n",
      "18/18 [==============================] - 0s 6ms/step - loss: 116.3430 - val_loss: 920.7136\n",
      "Epoch 248/500\n",
      "18/18 [==============================] - 0s 6ms/step - loss: 115.9004 - val_loss: 921.8591\n",
      "Epoch 249/500\n",
      "18/18 [==============================] - 0s 5ms/step - loss: 115.4761 - val_loss: 922.9881\n",
      "Epoch 250/500\n",
      "18/18 [==============================] - 0s 6ms/step - loss: 115.0697 - val_loss: 924.1003\n",
      "Epoch 251/500\n",
      "18/18 [==============================] - 0s 5ms/step - loss: 114.6806 - val_loss: 925.1956\n",
      "Epoch 252/500\n",
      "18/18 [==============================] - 0s 5ms/step - loss: 114.3081 - val_loss: 926.2737\n",
      "Epoch 253/500\n",
      "18/18 [==============================] - 0s 6ms/step - loss: 113.9514 - val_loss: 927.3345\n",
      "Epoch 254/500\n",
      "18/18 [==============================] - 0s 5ms/step - loss: 113.6100 - val_loss: 928.3782\n",
      "Epoch 255/500\n",
      "18/18 [==============================] - 0s 5ms/step - loss: 113.2832 - val_loss: 929.4040\n",
      "Epoch 256/500\n",
      "18/18 [==============================] - 0s 6ms/step - loss: 112.9707 - val_loss: 930.4125\n",
      "Epoch 257/500\n",
      "18/18 [==============================] - 0s 5ms/step - loss: 112.6717 - val_loss: 931.4029\n",
      "Epoch 258/500\n",
      "18/18 [==============================] - 0s 5ms/step - loss: 112.3859 - val_loss: 932.3758\n",
      "Epoch 259/500\n",
      "18/18 [==============================] - 0s 6ms/step - loss: 112.1125 - val_loss: 933.3306\n",
      "Epoch 260/500\n",
      "18/18 [==============================] - 0s 5ms/step - loss: 111.8512 - val_loss: 934.2675\n",
      "Epoch 261/500\n",
      "18/18 [==============================] - 0s 5ms/step - loss: 111.6015 - val_loss: 935.1868\n",
      "Epoch 262/500\n",
      "18/18 [==============================] - 0s 5ms/step - loss: 111.3628 - val_loss: 936.0882\n",
      "Epoch 263/500\n",
      "18/18 [==============================] - 0s 4ms/step - loss: 111.1348 - val_loss: 936.9717\n",
      "Epoch 264/500\n",
      "18/18 [==============================] - 0s 5ms/step - loss: 110.9169 - val_loss: 937.8374\n",
      "Epoch 265/500\n",
      "18/18 [==============================] - 0s 8ms/step - loss: 110.7088 - val_loss: 938.6855\n",
      "Epoch 266/500\n",
      "18/18 [==============================] - 0s 5ms/step - loss: 110.5101 - val_loss: 939.5156\n",
      "Epoch 267/500\n",
      "18/18 [==============================] - 0s 6ms/step - loss: 110.3204 - val_loss: 940.3281\n",
      "Epoch 268/500\n",
      "18/18 [==============================] - 0s 5ms/step - loss: 110.1392 - val_loss: 941.1229\n",
      "Epoch 269/500\n",
      "18/18 [==============================] - 0s 6ms/step - loss: 109.9662 - val_loss: 941.9005\n",
      "Epoch 270/500\n",
      "18/18 [==============================] - 0s 6ms/step - loss: 109.8012 - val_loss: 942.6607\n",
      "Epoch 271/500\n",
      "18/18 [==============================] - 0s 6ms/step - loss: 109.6438 - val_loss: 943.4034\n",
      "Epoch 272/500\n",
      "18/18 [==============================] - 0s 5ms/step - loss: 109.4935 - val_loss: 944.1293\n",
      "Epoch 273/500\n",
      "18/18 [==============================] - 0s 5ms/step - loss: 109.3501 - val_loss: 944.8383\n",
      "Epoch 274/500\n",
      "18/18 [==============================] - 0s 6ms/step - loss: 109.2132 - val_loss: 945.5303\n",
      "Epoch 275/500\n",
      "18/18 [==============================] - 0s 5ms/step - loss: 109.0828 - val_loss: 946.2056\n",
      "Epoch 276/500\n",
      "18/18 [==============================] - 0s 5ms/step - loss: 108.9583 - val_loss: 946.8644\n",
      "Epoch 277/500\n",
      "18/18 [==============================] - 0s 6ms/step - loss: 108.8397 - val_loss: 947.5068\n",
      "Epoch 278/500\n",
      "18/18 [==============================] - 0s 5ms/step - loss: 108.7265 - val_loss: 948.1332\n",
      "Epoch 279/500\n",
      "18/18 [==============================] - 0s 6ms/step - loss: 108.6185 - val_loss: 948.7440\n",
      "Epoch 280/500\n",
      "18/18 [==============================] - 0s 5ms/step - loss: 108.5156 - val_loss: 949.3387\n",
      "Epoch 281/500\n",
      "18/18 [==============================] - 0s 5ms/step - loss: 108.4175 - val_loss: 949.9178\n",
      "Epoch 282/500\n",
      "18/18 [==============================] - 0s 4ms/step - loss: 108.3240 - val_loss: 950.4816\n",
      "Epoch 283/500\n",
      "18/18 [==============================] - 0s 5ms/step - loss: 108.2349 - val_loss: 951.0309\n",
      "Epoch 284/500\n",
      "18/18 [==============================] - 0s 5ms/step - loss: 108.1499 - val_loss: 951.5649\n",
      "Epoch 285/500\n",
      "18/18 [==============================] - 0s 5ms/step - loss: 108.0688 - val_loss: 952.0844\n",
      "Epoch 286/500\n",
      "18/18 [==============================] - 0s 5ms/step - loss: 107.9916 - val_loss: 952.5893\n",
      "Epoch 287/500\n",
      "18/18 [==============================] - 0s 5ms/step - loss: 107.9180 - val_loss: 953.0801\n",
      "Epoch 288/500\n",
      "18/18 [==============================] - 0s 5ms/step - loss: 107.8478 - val_loss: 953.5569\n",
      "Epoch 289/500\n",
      "18/18 [==============================] - 0s 6ms/step - loss: 107.7809 - val_loss: 954.0200\n",
      "Epoch 290/500\n",
      "18/18 [==============================] - 0s 10ms/step - loss: 107.7173 - val_loss: 954.4698\n",
      "Epoch 291/500\n",
      "18/18 [==============================] - 0s 6ms/step - loss: 107.6566 - val_loss: 954.9065\n",
      "Epoch 292/500\n",
      "18/18 [==============================] - 0s 6ms/step - loss: 107.5987 - val_loss: 955.3301\n",
      "Epoch 293/500\n",
      "18/18 [==============================] - 0s 5ms/step - loss: 107.5435 - val_loss: 955.7412\n",
      "Epoch 294/500\n",
      "18/18 [==============================] - 0s 6ms/step - loss: 107.4909 - val_loss: 956.1397\n",
      "Epoch 295/500\n",
      "18/18 [==============================] - 0s 5ms/step - loss: 107.4408 - val_loss: 956.5257\n",
      "Epoch 296/500\n",
      "18/18 [==============================] - 0s 5ms/step - loss: 107.3931 - val_loss: 956.9003\n",
      "Epoch 297/500\n",
      "18/18 [==============================] - 0s 6ms/step - loss: 107.3476 - val_loss: 957.2627\n",
      "Epoch 298/500\n",
      "18/18 [==============================] - 0s 6ms/step - loss: 107.3043 - val_loss: 957.6143\n",
      "Epoch 299/500\n",
      "18/18 [==============================] - 0s 5ms/step - loss: 107.2629 - val_loss: 957.9545\n",
      "Epoch 300/500\n",
      "18/18 [==============================] - 0s 4ms/step - loss: 107.2235 - val_loss: 958.2834\n",
      "Epoch 301/500\n",
      "18/18 [==============================] - 0s 5ms/step - loss: 107.1861 - val_loss: 958.6019\n",
      "Epoch 302/500\n",
      "18/18 [==============================] - 0s 6ms/step - loss: 107.1503 - val_loss: 958.9102\n",
      "Epoch 303/500\n",
      "18/18 [==============================] - 0s 5ms/step - loss: 107.1162 - val_loss: 959.2080\n",
      "Epoch 304/500\n",
      "18/18 [==============================] - 0s 5ms/step - loss: 107.0838 - val_loss: 959.4963\n",
      "Epoch 305/500\n",
      "18/18 [==============================] - 0s 6ms/step - loss: 107.0527 - val_loss: 959.7745\n",
      "Epoch 306/500\n",
      "18/18 [==============================] - 0s 11ms/step - loss: 107.0233 - val_loss: 960.0434\n",
      "Epoch 307/500\n",
      "18/18 [==============================] - 0s 6ms/step - loss: 106.9951 - val_loss: 960.3031\n",
      "Epoch 308/500\n",
      "18/18 [==============================] - 0s 6ms/step - loss: 106.9683 - val_loss: 960.5538\n",
      "Epoch 309/500\n",
      "18/18 [==============================] - 0s 6ms/step - loss: 106.9428 - val_loss: 960.7959\n",
      "Epoch 310/500\n",
      "18/18 [==============================] - 0s 5ms/step - loss: 106.9184 - val_loss: 961.0296\n",
      "Epoch 311/500\n",
      "18/18 [==============================] - 0s 6ms/step - loss: 106.8952 - val_loss: 961.2548\n",
      "Epoch 312/500\n",
      "18/18 [==============================] - 0s 6ms/step - loss: 106.8731 - val_loss: 961.4720\n",
      "Epoch 313/500\n",
      "18/18 [==============================] - 0s 5ms/step - loss: 106.8521 - val_loss: 961.6815\n",
      "Epoch 314/500\n",
      "18/18 [==============================] - 0s 5ms/step - loss: 106.8319 - val_loss: 961.8834\n",
      "Epoch 315/500\n",
      "18/18 [==============================] - 0s 5ms/step - loss: 106.8128 - val_loss: 962.0784\n",
      "Epoch 316/500\n",
      "18/18 [==============================] - 0s 5ms/step - loss: 106.7945 - val_loss: 962.2656\n",
      "Epoch 317/500\n",
      "18/18 [==============================] - 0s 5ms/step - loss: 106.7771 - val_loss: 962.4462\n",
      "Epoch 318/500\n",
      "18/18 [==============================] - 0s 5ms/step - loss: 106.7605 - val_loss: 962.6200\n",
      "Epoch 319/500\n",
      "18/18 [==============================] - 0s 6ms/step - loss: 106.7447 - val_loss: 962.7877\n",
      "Epoch 320/500\n",
      "18/18 [==============================] - 0s 5ms/step - loss: 106.7296 - val_loss: 962.9487\n",
      "Epoch 321/500\n",
      "18/18 [==============================] - 0s 5ms/step - loss: 106.7152 - val_loss: 963.1031\n",
      "Epoch 322/500\n",
      "18/18 [==============================] - 0s 5ms/step - loss: 106.7016 - val_loss: 963.2520\n",
      "Epoch 323/500\n",
      "18/18 [==============================] - 0s 5ms/step - loss: 106.6886 - val_loss: 963.3948\n",
      "Epoch 324/500\n",
      "18/18 [==============================] - 0s 5ms/step - loss: 106.6761 - val_loss: 963.5323\n",
      "Epoch 325/500\n",
      "18/18 [==============================] - 0s 5ms/step - loss: 106.6643 - val_loss: 963.6645\n",
      "Epoch 326/500\n",
      "18/18 [==============================] - 0s 6ms/step - loss: 106.6531 - val_loss: 963.7916\n",
      "Epoch 327/500\n",
      "18/18 [==============================] - 0s 5ms/step - loss: 106.6423 - val_loss: 963.9134\n",
      "Epoch 328/500\n",
      "18/18 [==============================] - 0s 9ms/step - loss: 106.6321 - val_loss: 964.0302\n",
      "Epoch 329/500\n",
      "18/18 [==============================] - 0s 6ms/step - loss: 106.6223 - val_loss: 964.1426\n",
      "Epoch 330/500\n",
      "18/18 [==============================] - 0s 6ms/step - loss: 106.6131 - val_loss: 964.2504\n",
      "Epoch 331/500\n",
      "18/18 [==============================] - 0s 5ms/step - loss: 106.6042 - val_loss: 964.3538\n",
      "Epoch 332/500\n",
      "18/18 [==============================] - 0s 6ms/step - loss: 106.5957 - val_loss: 964.4528\n",
      "Epoch 333/500\n",
      "18/18 [==============================] - 0s 5ms/step - loss: 106.5877 - val_loss: 964.5478\n",
      "Epoch 334/500\n",
      "18/18 [==============================] - 0s 6ms/step - loss: 106.5801 - val_loss: 964.6390\n",
      "Epoch 335/500\n",
      "18/18 [==============================] - 0s 5ms/step - loss: 106.5728 - val_loss: 964.7263\n",
      "Epoch 336/500\n",
      "18/18 [==============================] - 0s 6ms/step - loss: 106.5659 - val_loss: 964.8101\n",
      "Epoch 337/500\n",
      "18/18 [==============================] - 0s 5ms/step - loss: 106.5593 - val_loss: 964.8902\n",
      "Epoch 338/500\n",
      "18/18 [==============================] - 0s 5ms/step - loss: 106.5530 - val_loss: 964.9671\n",
      "Epoch 339/500\n",
      "18/18 [==============================] - 0s 6ms/step - loss: 106.5471 - val_loss: 965.0406\n",
      "Epoch 340/500\n",
      "18/18 [==============================] - 0s 6ms/step - loss: 106.5414 - val_loss: 965.1110\n",
      "Epoch 341/500\n",
      "18/18 [==============================] - 0s 5ms/step - loss: 106.5360 - val_loss: 965.1785\n",
      "Epoch 342/500\n",
      "18/18 [==============================] - 0s 4ms/step - loss: 106.5308 - val_loss: 965.2430\n",
      "Epoch 343/500\n",
      "18/18 [==============================] - 0s 5ms/step - loss: 106.5260 - val_loss: 965.3044\n",
      "Epoch 344/500\n",
      "18/18 [==============================] - 0s 6ms/step - loss: 106.5213 - val_loss: 965.3633\n",
      "Epoch 345/500\n",
      "18/18 [==============================] - 0s 5ms/step - loss: 106.5169 - val_loss: 965.4196\n",
      "Epoch 346/500\n",
      "18/18 [==============================] - 0s 6ms/step - loss: 106.5127 - val_loss: 965.4736\n",
      "Epoch 347/500\n",
      "18/18 [==============================] - 0s 7ms/step - loss: 106.5087 - val_loss: 965.5250\n",
      "Epoch 348/500\n",
      "18/18 [==============================] - 0s 4ms/step - loss: 106.5049 - val_loss: 965.5742\n",
      "Epoch 349/500\n",
      "18/18 [==============================] - 0s 5ms/step - loss: 106.5013 - val_loss: 965.6208\n",
      "Epoch 350/500\n",
      "18/18 [==============================] - 0s 5ms/step - loss: 106.4979 - val_loss: 965.6660\n",
      "Epoch 351/500\n",
      "18/18 [==============================] - 0s 5ms/step - loss: 106.4946 - val_loss: 965.7087\n",
      "Epoch 352/500\n",
      "18/18 [==============================] - 0s 10ms/step - loss: 106.4916 - val_loss: 965.7493\n",
      "Epoch 353/500\n",
      "18/18 [==============================] - 0s 6ms/step - loss: 106.4886 - val_loss: 965.7881\n",
      "Epoch 354/500\n",
      "18/18 [==============================] - 0s 5ms/step - loss: 106.4859 - val_loss: 965.8252\n",
      "Epoch 355/500\n",
      "18/18 [==============================] - 0s 6ms/step - loss: 106.4833 - val_loss: 965.8607\n",
      "Epoch 356/500\n",
      "18/18 [==============================] - 0s 6ms/step - loss: 106.4808 - val_loss: 965.8944\n",
      "Epoch 357/500\n",
      "18/18 [==============================] - 0s 5ms/step - loss: 106.4784 - val_loss: 965.9267\n",
      "Epoch 358/500\n",
      "18/18 [==============================] - 0s 5ms/step - loss: 106.4762 - val_loss: 965.9575\n",
      "Epoch 359/500\n",
      "18/18 [==============================] - 0s 6ms/step - loss: 106.4740 - val_loss: 965.9866\n",
      "Epoch 360/500\n",
      "18/18 [==============================] - 0s 5ms/step - loss: 106.4721 - val_loss: 966.0145\n",
      "Epoch 361/500\n",
      "18/18 [==============================] - 0s 5ms/step - loss: 106.4702 - val_loss: 966.0408\n",
      "Epoch 362/500\n",
      "18/18 [==============================] - 0s 6ms/step - loss: 106.4684 - val_loss: 966.0661\n",
      "Epoch 363/500\n",
      "18/18 [==============================] - 0s 5ms/step - loss: 106.4667 - val_loss: 966.0901\n",
      "Epoch 364/500\n",
      "18/18 [==============================] - 0s 6ms/step - loss: 106.4651 - val_loss: 966.1133\n",
      "Epoch 365/500\n",
      "18/18 [==============================] - 0s 5ms/step - loss: 106.4635 - val_loss: 966.1351\n",
      "Epoch 366/500\n",
      "18/18 [==============================] - 0s 4ms/step - loss: 106.4621 - val_loss: 966.1560\n",
      "Epoch 367/500\n",
      "18/18 [==============================] - 0s 5ms/step - loss: 106.4608 - val_loss: 966.1757\n",
      "Epoch 368/500\n",
      "18/18 [==============================] - 0s 6ms/step - loss: 106.4595 - val_loss: 966.1945\n",
      "Epoch 369/500\n",
      "18/18 [==============================] - 0s 6ms/step - loss: 106.4583 - val_loss: 966.2119\n",
      "Epoch 370/500\n",
      "18/18 [==============================] - 0s 5ms/step - loss: 106.4572 - val_loss: 966.2290\n",
      "Epoch 371/500\n",
      "18/18 [==============================] - 0s 4ms/step - loss: 106.4561 - val_loss: 966.2449\n",
      "Epoch 372/500\n",
      "18/18 [==============================] - 0s 5ms/step - loss: 106.4551 - val_loss: 966.2601\n",
      "Epoch 373/500\n",
      "18/18 [==============================] - 0s 6ms/step - loss: 106.4542 - val_loss: 966.2745\n",
      "Epoch 374/500\n",
      "18/18 [==============================] - 0s 5ms/step - loss: 106.4534 - val_loss: 966.2886\n",
      "Epoch 375/500\n",
      "18/18 [==============================] - 0s 8ms/step - loss: 106.4525 - val_loss: 966.3018\n",
      "Epoch 376/500\n",
      "18/18 [==============================] - 0s 6ms/step - loss: 106.4517 - val_loss: 966.3143\n",
      "Epoch 377/500\n",
      "18/18 [==============================] - 0s 6ms/step - loss: 106.4510 - val_loss: 966.3264\n",
      "Epoch 378/500\n",
      "18/18 [==============================] - 0s 6ms/step - loss: 106.4503 - val_loss: 966.3377\n",
      "Epoch 379/500\n",
      "18/18 [==============================] - 0s 5ms/step - loss: 106.4496 - val_loss: 966.3481\n",
      "Epoch 380/500\n",
      "18/18 [==============================] - 0s 5ms/step - loss: 106.4490 - val_loss: 966.3580\n",
      "Epoch 381/500\n",
      "18/18 [==============================] - 0s 5ms/step - loss: 106.4485 - val_loss: 966.3677\n",
      "Epoch 382/500\n",
      "18/18 [==============================] - 0s 6ms/step - loss: 106.4480 - val_loss: 966.3769\n",
      "Epoch 383/500\n",
      "18/18 [==============================] - 0s 6ms/step - loss: 106.4475 - val_loss: 966.3854\n",
      "Epoch 384/500\n",
      "18/18 [==============================] - 0s 5ms/step - loss: 106.4470 - val_loss: 966.3936\n",
      "Epoch 385/500\n",
      "18/18 [==============================] - 0s 5ms/step - loss: 106.4466 - val_loss: 966.4016\n",
      "Epoch 386/500\n",
      "18/18 [==============================] - 0s 4ms/step - loss: 106.4462 - val_loss: 966.4089\n",
      "Epoch 387/500\n",
      "18/18 [==============================] - 0s 5ms/step - loss: 106.4458 - val_loss: 966.4158\n",
      "Epoch 388/500\n",
      "18/18 [==============================] - 0s 6ms/step - loss: 106.4455 - val_loss: 966.4227\n",
      "Epoch 389/500\n",
      "18/18 [==============================] - 0s 6ms/step - loss: 106.4451 - val_loss: 966.4287\n",
      "Epoch 390/500\n",
      "18/18 [==============================] - 0s 5ms/step - loss: 106.4449 - val_loss: 966.4344\n",
      "Epoch 391/500\n",
      "18/18 [==============================] - 0s 5ms/step - loss: 106.4447 - val_loss: 966.4402\n",
      "Epoch 392/500\n",
      "18/18 [==============================] - 0s 5ms/step - loss: 106.4444 - val_loss: 966.4456\n",
      "Epoch 393/500\n",
      "18/18 [==============================] - 0s 5ms/step - loss: 106.4442 - val_loss: 966.4504\n",
      "Epoch 394/500\n",
      "18/18 [==============================] - 0s 6ms/step - loss: 106.4440 - val_loss: 966.4553\n",
      "Epoch 395/500\n",
      "18/18 [==============================] - 0s 6ms/step - loss: 106.4438 - val_loss: 966.4600\n",
      "Epoch 396/500\n",
      "18/18 [==============================] - 0s 9ms/step - loss: 106.4436 - val_loss: 966.4639\n",
      "Epoch 397/500\n",
      "18/18 [==============================] - 0s 6ms/step - loss: 106.4435 - val_loss: 966.4681\n",
      "Epoch 398/500\n",
      "18/18 [==============================] - 0s 5ms/step - loss: 106.4433 - val_loss: 966.4717\n",
      "Epoch 399/500\n",
      "18/18 [==============================] - 0s 5ms/step - loss: 106.4432 - val_loss: 966.4755\n",
      "Epoch 400/500\n",
      "18/18 [==============================] - 0s 6ms/step - loss: 106.4431 - val_loss: 966.4790\n",
      "Epoch 401/500\n",
      "18/18 [==============================] - 0s 5ms/step - loss: 106.4430 - val_loss: 966.4819\n",
      "Epoch 402/500\n",
      "18/18 [==============================] - 0s 5ms/step - loss: 106.4429 - val_loss: 966.4847\n",
      "Epoch 403/500\n",
      "18/18 [==============================] - 0s 5ms/step - loss: 106.4429 - val_loss: 966.4875\n",
      "Epoch 404/500\n",
      "18/18 [==============================] - 0s 5ms/step - loss: 106.4428 - val_loss: 966.4902\n",
      "Epoch 405/500\n",
      "18/18 [==============================] - 0s 5ms/step - loss: 106.4428 - val_loss: 966.4927\n",
      "Epoch 406/500\n",
      "18/18 [==============================] - 0s 5ms/step - loss: 106.4427 - val_loss: 966.4954\n",
      "Epoch 407/500\n",
      "18/18 [==============================] - 0s 5ms/step - loss: 106.4427 - val_loss: 966.4977\n",
      "Epoch 408/500\n",
      "18/18 [==============================] - 0s 6ms/step - loss: 106.4426 - val_loss: 966.5002\n",
      "Epoch 409/500\n",
      "18/18 [==============================] - 0s 5ms/step - loss: 106.4426 - val_loss: 966.5023\n",
      "Epoch 410/500\n",
      "18/18 [==============================] - 0s 5ms/step - loss: 106.4426 - val_loss: 966.5042\n",
      "Epoch 411/500\n",
      "18/18 [==============================] - 0s 6ms/step - loss: 106.4426 - val_loss: 966.5059\n",
      "Epoch 412/500\n",
      "18/18 [==============================] - 0s 5ms/step - loss: 106.4426 - val_loss: 966.5071\n",
      "Epoch 413/500\n",
      "18/18 [==============================] - 0s 6ms/step - loss: 106.4426 - val_loss: 966.5087\n",
      "Epoch 414/500\n",
      "18/18 [==============================] - 0s 6ms/step - loss: 106.4427 - val_loss: 966.5101\n",
      "Epoch 415/500\n",
      "18/18 [==============================] - 0s 5ms/step - loss: 106.4427 - val_loss: 966.5120\n",
      "Epoch 416/500\n",
      "18/18 [==============================] - 0s 5ms/step - loss: 106.4427 - val_loss: 966.5132\n",
      "Epoch 417/500\n",
      "18/18 [==============================] - 0s 4ms/step - loss: 106.4427 - val_loss: 966.5150\n",
      "Epoch 418/500\n",
      "18/18 [==============================] - 0s 5ms/step - loss: 106.4428 - val_loss: 966.5161\n",
      "Epoch 419/500\n",
      "18/18 [==============================] - 0s 6ms/step - loss: 106.4428 - val_loss: 966.5174\n",
      "Epoch 420/500\n",
      "18/18 [==============================] - 0s 5ms/step - loss: 106.4428 - val_loss: 966.5184\n",
      "Epoch 421/500\n",
      "18/18 [==============================] - 0s 6ms/step - loss: 106.4428 - val_loss: 966.5194\n",
      "Epoch 422/500\n",
      "18/18 [==============================] - 0s 9ms/step - loss: 106.4429 - val_loss: 966.5202\n",
      "Epoch 423/500\n",
      "18/18 [==============================] - 0s 6ms/step - loss: 106.4429 - val_loss: 966.5210\n",
      "Epoch 424/500\n",
      "18/18 [==============================] - 0s 5ms/step - loss: 106.4430 - val_loss: 966.5219\n",
      "Epoch 425/500\n",
      "18/18 [==============================] - 0s 5ms/step - loss: 106.4431 - val_loss: 966.5228\n",
      "Epoch 426/500\n",
      "18/18 [==============================] - 0s 6ms/step - loss: 106.4431 - val_loss: 966.5233\n",
      "Epoch 427/500\n",
      "18/18 [==============================] - 0s 9ms/step - loss: 106.4432 - val_loss: 966.5240\n",
      "Epoch 428/500\n",
      "18/18 [==============================] - 0s 6ms/step - loss: 106.4433 - val_loss: 966.5248\n",
      "Epoch 429/500\n",
      "18/18 [==============================] - 0s 6ms/step - loss: 106.4433 - val_loss: 966.5256\n",
      "Epoch 430/500\n",
      "18/18 [==============================] - 0s 5ms/step - loss: 106.4433 - val_loss: 966.5259\n",
      "Epoch 431/500\n",
      "18/18 [==============================] - 0s 5ms/step - loss: 106.4434 - val_loss: 966.5262\n",
      "Epoch 432/500\n",
      "18/18 [==============================] - 0s 5ms/step - loss: 106.4435 - val_loss: 966.5268\n",
      "Epoch 433/500\n",
      "18/18 [==============================] - 0s 8ms/step - loss: 106.4435 - val_loss: 966.5273\n",
      "Epoch 434/500\n",
      "18/18 [==============================] - 0s 6ms/step - loss: 106.4437 - val_loss: 966.5279\n",
      "Epoch 435/500\n",
      "18/18 [==============================] - 0s 6ms/step - loss: 106.4437 - val_loss: 966.5281\n",
      "Epoch 436/500\n",
      "18/18 [==============================] - 0s 6ms/step - loss: 106.4437 - val_loss: 966.5286\n",
      "Epoch 437/500\n",
      "18/18 [==============================] - 0s 6ms/step - loss: 106.4437 - val_loss: 966.5288\n",
      "Epoch 438/500\n",
      "18/18 [==============================] - 0s 6ms/step - loss: 106.4439 - val_loss: 966.5289\n",
      "Epoch 439/500\n",
      "18/18 [==============================] - 0s 5ms/step - loss: 106.4440 - val_loss: 966.5292\n",
      "Epoch 440/500\n",
      "18/18 [==============================] - 0s 5ms/step - loss: 106.4441 - val_loss: 966.5299\n",
      "Epoch 441/500\n",
      "18/18 [==============================] - 0s 6ms/step - loss: 106.4441 - val_loss: 966.5303\n",
      "Epoch 442/500\n",
      "18/18 [==============================] - 0s 6ms/step - loss: 106.4442 - val_loss: 966.5305\n",
      "Epoch 443/500\n",
      "18/18 [==============================] - 0s 9ms/step - loss: 106.4443 - val_loss: 966.5308\n",
      "Epoch 444/500\n",
      "18/18 [==============================] - 0s 6ms/step - loss: 106.4443 - val_loss: 966.5311\n",
      "Epoch 445/500\n",
      "18/18 [==============================] - 0s 6ms/step - loss: 106.4444 - val_loss: 966.5314\n",
      "Epoch 446/500\n",
      "18/18 [==============================] - 0s 6ms/step - loss: 106.4445 - val_loss: 966.5314\n",
      "Epoch 447/500\n",
      "18/18 [==============================] - 0s 7ms/step - loss: 106.4445 - val_loss: 966.5318\n",
      "Epoch 448/500\n",
      "18/18 [==============================] - 0s 7ms/step - loss: 106.4446 - val_loss: 966.5322\n",
      "Epoch 449/500\n",
      "18/18 [==============================] - 0s 6ms/step - loss: 106.4447 - val_loss: 966.5325\n",
      "Epoch 450/500\n",
      "18/18 [==============================] - 0s 6ms/step - loss: 106.4446 - val_loss: 966.5322\n",
      "Epoch 451/500\n",
      "18/18 [==============================] - 0s 6ms/step - loss: 106.4448 - val_loss: 966.5325\n",
      "Epoch 452/500\n",
      "18/18 [==============================] - 0s 7ms/step - loss: 106.4448 - val_loss: 966.5325\n",
      "Epoch 453/500\n",
      "18/18 [==============================] - 0s 6ms/step - loss: 106.4449 - val_loss: 966.5328\n",
      "Epoch 454/500\n",
      "18/18 [==============================] - 0s 6ms/step - loss: 106.4450 - val_loss: 966.5328\n",
      "Epoch 455/500\n",
      "18/18 [==============================] - 0s 7ms/step - loss: 106.4450 - val_loss: 966.5328\n",
      "Epoch 456/500\n",
      "18/18 [==============================] - 0s 7ms/step - loss: 106.4451 - val_loss: 966.5330\n",
      "Epoch 457/500\n",
      "18/18 [==============================] - 0s 6ms/step - loss: 106.4452 - val_loss: 966.5334\n",
      "Epoch 458/500\n",
      "18/18 [==============================] - 0s 6ms/step - loss: 106.4453 - val_loss: 966.5335\n",
      "Epoch 459/500\n",
      "18/18 [==============================] - 0s 6ms/step - loss: 106.4453 - val_loss: 966.5337\n",
      "Epoch 460/500\n",
      "18/18 [==============================] - 0s 7ms/step - loss: 106.4453 - val_loss: 966.5338\n",
      "Epoch 461/500\n",
      "18/18 [==============================] - 0s 7ms/step - loss: 106.4454 - val_loss: 966.5342\n",
      "Epoch 462/500\n",
      "18/18 [==============================] - 0s 12ms/step - loss: 106.4454 - val_loss: 966.5339\n",
      "Epoch 463/500\n",
      "18/18 [==============================] - 0s 7ms/step - loss: 106.4455 - val_loss: 966.5342\n",
      "Epoch 464/500\n",
      "18/18 [==============================] - 0s 6ms/step - loss: 106.4455 - val_loss: 966.5337\n",
      "Epoch 465/500\n",
      "18/18 [==============================] - 0s 9ms/step - loss: 106.4456 - val_loss: 966.5337\n",
      "Epoch 466/500\n",
      "18/18 [==============================] - 0s 10ms/step - loss: 106.4457 - val_loss: 966.5335\n",
      "Epoch 467/500\n",
      "18/18 [==============================] - 0s 9ms/step - loss: 106.4458 - val_loss: 966.5335\n",
      "Epoch 468/500\n",
      "18/18 [==============================] - 0s 10ms/step - loss: 106.4459 - val_loss: 966.5337\n",
      "Epoch 469/500\n",
      "18/18 [==============================] - 0s 9ms/step - loss: 106.4459 - val_loss: 966.5336\n",
      "Epoch 470/500\n",
      "18/18 [==============================] - 0s 8ms/step - loss: 106.4460 - val_loss: 966.5338\n",
      "Epoch 471/500\n",
      "18/18 [==============================] - 0s 7ms/step - loss: 106.4460 - val_loss: 966.5342\n",
      "Epoch 472/500\n",
      "18/18 [==============================] - 0s 7ms/step - loss: 106.4461 - val_loss: 966.5345\n",
      "Epoch 473/500\n",
      "18/18 [==============================] - 0s 7ms/step - loss: 106.4460 - val_loss: 966.5344\n",
      "Epoch 474/500\n",
      "18/18 [==============================] - 0s 7ms/step - loss: 106.4461 - val_loss: 966.5344\n",
      "Epoch 475/500\n",
      "18/18 [==============================] - 0s 7ms/step - loss: 106.4462 - val_loss: 966.5346\n",
      "Epoch 476/500\n",
      "18/18 [==============================] - 0s 7ms/step - loss: 106.4461 - val_loss: 966.5344\n",
      "Epoch 477/500\n",
      "18/18 [==============================] - 0s 7ms/step - loss: 106.4462 - val_loss: 966.5342\n",
      "Epoch 478/500\n",
      "18/18 [==============================] - 0s 7ms/step - loss: 106.4464 - val_loss: 966.5342\n",
      "Epoch 479/500\n",
      "18/18 [==============================] - 0s 14ms/step - loss: 106.4464 - val_loss: 966.5342\n",
      "Epoch 480/500\n",
      "18/18 [==============================] - 0s 8ms/step - loss: 106.4464 - val_loss: 966.5342\n",
      "Epoch 481/500\n",
      "18/18 [==============================] - 0s 8ms/step - loss: 106.4465 - val_loss: 966.5339\n",
      "Epoch 482/500\n",
      "18/18 [==============================] - 0s 8ms/step - loss: 106.4466 - val_loss: 966.5339\n",
      "Epoch 483/500\n",
      "18/18 [==============================] - 0s 6ms/step - loss: 106.4466 - val_loss: 966.5341\n",
      "Epoch 484/500\n",
      "18/18 [==============================] - 0s 7ms/step - loss: 106.4466 - val_loss: 966.5342\n",
      "Epoch 485/500\n",
      "18/18 [==============================] - 0s 8ms/step - loss: 106.4467 - val_loss: 966.5341\n",
      "Epoch 486/500\n",
      "18/18 [==============================] - 0s 8ms/step - loss: 106.4468 - val_loss: 966.5342\n",
      "Epoch 487/500\n",
      "18/18 [==============================] - 0s 7ms/step - loss: 106.4468 - val_loss: 966.5342\n",
      "Epoch 488/500\n",
      "18/18 [==============================] - 0s 6ms/step - loss: 106.4468 - val_loss: 966.5344\n",
      "Epoch 489/500\n",
      "18/18 [==============================] - 0s 6ms/step - loss: 106.4468 - val_loss: 966.5344\n",
      "Epoch 490/500\n",
      "18/18 [==============================] - 0s 6ms/step - loss: 106.4469 - val_loss: 966.5344\n",
      "Epoch 491/500\n",
      "18/18 [==============================] - 0s 5ms/step - loss: 106.4469 - val_loss: 966.5346\n",
      "Epoch 492/500\n",
      "18/18 [==============================] - 0s 5ms/step - loss: 106.4470 - val_loss: 966.5346\n",
      "Epoch 493/500\n",
      "18/18 [==============================] - 0s 5ms/step - loss: 106.4470 - val_loss: 966.5346\n",
      "Epoch 494/500\n",
      "18/18 [==============================] - 0s 6ms/step - loss: 106.4470 - val_loss: 966.5346\n",
      "Epoch 495/500\n",
      "18/18 [==============================] - 0s 6ms/step - loss: 106.4471 - val_loss: 966.5346\n",
      "Epoch 496/500\n",
      "18/18 [==============================] - 0s 6ms/step - loss: 106.4471 - val_loss: 966.5345\n",
      "Epoch 497/500\n",
      "18/18 [==============================] - 0s 5ms/step - loss: 106.4472 - val_loss: 966.5346\n",
      "Epoch 498/500\n",
      "18/18 [==============================] - 0s 11ms/step - loss: 106.4472 - val_loss: 966.5349\n",
      "Epoch 499/500\n",
      "18/18 [==============================] - 0s 6ms/step - loss: 106.4472 - val_loss: 966.5345\n",
      "Epoch 500/500\n",
      "18/18 [==============================] - 0s 6ms/step - loss: 106.4472 - val_loss: 966.5345\n"
     ]
    }
   ],
   "source": [
    "C0 = tf.Variable(86.8407, name=\"C0\", trainable=True, dtype=tf.float32)\n",
    "K0 = tf.Variable(-0.0015, name=\"K0\", trainable=True, dtype=tf.float32)\n",
    "K1 = tf.Variable(-0.0001, name=\"K1\", trainable=True, dtype=tf.float32)\n",
    "a = tf.Variable(0.0000, name=\"a\", trainable=True, dtype=tf.float32)\n",
    "b = tf.Variable(0.0118, name=\"b\", trainable=True, dtype=tf.float32)\n",
    "c = tf.Variable(2.5775, name=\"c\", trainable=True, dtype=tf.float32)\n",
    "\n",
    "splitr = 0.8\n",
    "\n",
    "\n",
    "def loss_fn(y_true, y_pred):\n",
    "    squared_difference = tf.square(y_true[:, 0] - y_pred[:, 0])\n",
    "    #squared_difference2 = tf.square(y_true[:, 2]-y_pred[:, 2])\n",
    "    #squared_difference1 = tf.square(y_true[:, 1]-y_pred[:, 1])\n",
    "    epsilon = 1\n",
    "    squared_difference3 = tf.square(\n",
    "        y_pred[:, 1] - (\n",
    "            y_pred[:, 0] * (\n",
    "                K0 - K1 * (\n",
    "                    9 * a * tf.math.log((y_pred[:, 0] + epsilon) / C0) / (K0 - K1 * c)**2 +\n",
    "                    4 * b * tf.math.log((y_pred[:, 0] + epsilon) / C0) / (K0 - K1 * c) + c\n",
    "                )\n",
    "            )\n",
    "        )\n",
    "    )\n",
    "    return tf.reduce_mean(squared_difference, axis=-1) + 0.2*tf.reduce_mean(squared_difference3, axis=-1)\n",
    "model = Sequential()\n",
    "model.add(LSTM(100, input_shape=(trainX.shape[1], trainX.shape[2])))\n",
    "model.add(Dense(60))\n",
    "model.compile(loss=loss_fn, optimizer='adam')\n",
    "history = model.fit(trainX[:int(splitr*trainX.shape[0])], trainy[:int(splitr*trainX.shape[0])], epochs=500, batch_size=64, validation_data=(trainX[int(splitr*trainX.shape[0]):trainX.shape[0]], trainy[int(splitr*trainX.shape[0]):trainX.shape[0]]), shuffle=False)"
   ]
  },
  {
   "cell_type": "code",
   "execution_count": 19,
   "metadata": {
    "colab": {
     "base_uri": "https://localhost:8080/"
    },
    "id": "yJL101rPyuoT",
    "outputId": "239ff2b1-c186-423a-d316-939dfdd7c793"
   },
   "outputs": [
    {
     "name": "stdout",
     "output_type": "stream",
     "text": [
      "1/1 [==============================] - 0s 410ms/step\n"
     ]
    }
   ],
   "source": [
    "forecast_without_mc = forecastX\n",
    "yhat_without_mc = model.predict(forecast_without_mc) # Step Ahead Prediction\n",
    "forecast_without_mc = forecast_without_mc.reshape((forecast_without_mc.shape[0], forecast_without_mc.shape[2])) # Historical Input"
   ]
  },
  {
   "cell_type": "code",
   "execution_count": 20,
   "metadata": {
    "colab": {
     "base_uri": "https://localhost:8080/"
    },
    "id": "g9dQELcJ8wbp",
    "outputId": "4dc7671b-b1a8-48d5-8744-a86f98446109"
   },
   "outputs": [
    {
     "data": {
      "text/plain": [
       "(1, 1, 251)"
      ]
     },
     "execution_count": 20,
     "metadata": {},
     "output_type": "execute_result"
    }
   ],
   "source": [
    "forecastX.shape"
   ]
  },
  {
   "cell_type": "code",
   "execution_count": 21,
   "metadata": {
    "colab": {
     "base_uri": "https://localhost:8080/"
    },
    "id": "IS2kyIKG1Kbr",
    "outputId": "f31b3485-8e26-452f-9298-ea8bf7e80ad1"
   },
   "outputs": [
    {
     "data": {
      "text/plain": [
       "(1, 251)"
      ]
     },
     "execution_count": 21,
     "metadata": {},
     "output_type": "execute_result"
    }
   ],
   "source": [
    "forecast_without_mc.shape"
   ]
  },
  {
   "cell_type": "code",
   "execution_count": 22,
   "metadata": {
    "id": "0u6VIzaDyuoT"
   },
   "outputs": [],
   "source": [
    "inv_yhat_without_mc = np.concatenate((forecast_without_mc, yhat_without_mc), axis=1) # Concatenation of predicted values with Historical Data\n",
    "#inv_yhat_without_mc = scaler.inverse_transform(inv_yhat_without_mc) # Transform labels back to original encoding"
   ]
  },
  {
   "cell_type": "code",
   "execution_count": 23,
   "metadata": {
    "colab": {
     "base_uri": "https://localhost:8080/"
    },
    "id": "EUEcw0LX07oU",
    "outputId": "cfc32397-9c37-4b43-d087-584bb31c3dcc"
   },
   "outputs": [
    {
     "data": {
      "text/plain": [
       "(1, 311)"
      ]
     },
     "execution_count": 23,
     "metadata": {},
     "output_type": "execute_result"
    }
   ],
   "source": [
    "inv_yhat_without_mc.shape"
   ]
  },
  {
   "cell_type": "code",
   "execution_count": 24,
   "metadata": {
    "id": "31OWVbSh_305"
   },
   "outputs": [],
   "source": [
    "fforecast = inv_yhat_without_mc[:,-300:]"
   ]
  },
  {
   "cell_type": "code",
   "execution_count": 25,
   "metadata": {},
   "outputs": [
    {
     "data": {
      "text/plain": [
       "(1, 300)"
      ]
     },
     "execution_count": 25,
     "metadata": {},
     "output_type": "execute_result"
    }
   ],
   "source": [
    "fforecast.shape"
   ]
  },
  {
   "cell_type": "code",
   "execution_count": 26,
   "metadata": {
    "id": "BlpGH2FOAiRF"
   },
   "outputs": [],
   "source": [
    "final_forecast = fforecast[:,0:300:3]"
   ]
  },
  {
   "cell_type": "code",
   "execution_count": 27,
   "metadata": {},
   "outputs": [
    {
     "data": {
      "text/plain": [
       "(1, 300)"
      ]
     },
     "execution_count": 27,
     "metadata": {},
     "output_type": "execute_result"
    }
   ],
   "source": [
    "fforecast.shape"
   ]
  },
  {
   "cell_type": "code",
   "execution_count": 28,
   "metadata": {
    "id": "CXkgkj_LBk_t"
   },
   "outputs": [],
   "source": [
    "# code to replace all negative value with 0\n",
    "final_forecast[final_forecast<0] = 0"
   ]
  },
  {
   "cell_type": "code",
   "execution_count": 29,
   "metadata": {},
   "outputs": [
    {
     "data": {
      "text/plain": [
       "array([[71.98403828, 71.98235761, 71.98067694, 71.97899627, 71.97731559,\n",
       "        71.97563492, 71.97395425,  0.34942961,  0.11630931,  0.6117962 ,\n",
       "         0.28030139,  0.        ,  0.        , 70.80609244, 70.64642857,\n",
       "        70.48676471, 70.32710084, 70.16743697, 70.00777311, 69.89453782,\n",
       "        69.87773109, 69.86092437, 69.84411765, 69.82731092, 69.8105042 ,\n",
       "        69.79369748, 69.77689076, 69.76008403, 69.74327731, 69.72647059,\n",
       "        69.70966387, 69.68571429, 69.65210084, 69.61848739, 69.58487395,\n",
       "        69.5512605 , 69.51764706, 69.48403361, 69.45042017, 69.41680672,\n",
       "         0.        ,  0.13426104,  0.        ,  0.14823352,  0.50972205,\n",
       "         0.53856009,  0.        , 69.7974323 , 69.7806256 , 69.7638189 ,\n",
       "        69.7470121 , 69.7302054 , 69.7133987 , 69.6931839 , 69.6595705 ,\n",
       "        69.625957  , 69.5923436 , 69.5587302 , 69.5251167 , 69.4915033 ,\n",
       "        69.4578898 , 69.4242764 , 73.6035948 , 73.2506536 , 72.8977124 ,\n",
       "        72.5447712 , 72.1918301 , 71.8388889 , 71.3737862 , 70.8947946 ,\n",
       "        70.415803  ,  0.80223095,  0.        , 62.5980949 ,  0.        ,\n",
       "         0.        ,  0.8044464 ,  0.        ,  0.38358027,  0.24783403,\n",
       "        57.98768234,  0.        ,  0.41181234,  0.        ,  0.34376931,\n",
       "         0.        ,  0.52995253,  0.23915488,  0.60191435,  0.5051949 ,\n",
       "         0.        ,  0.4855347 ,  0.        ,  0.66150808,  0.23557684,\n",
       "         0.33713156,  0.        ,  0.94196904,  0.69549203,  0.        ]])"
      ]
     },
     "execution_count": 29,
     "metadata": {},
     "output_type": "execute_result"
    }
   ],
   "source": [
    "final_forecast"
   ]
  },
  {
   "cell_type": "code",
   "execution_count": 30,
   "metadata": {},
   "outputs": [
    {
     "data": {
      "text/plain": [
       "(1, 100)"
      ]
     },
     "execution_count": 30,
     "metadata": {},
     "output_type": "execute_result"
    }
   ],
   "source": [
    "final_forecast.shape"
   ]
  },
  {
   "cell_type": "code",
   "execution_count": 31,
   "metadata": {},
   "outputs": [
    {
     "data": {
      "text/plain": [
       "(100,)"
      ]
     },
     "execution_count": 31,
     "metadata": {},
     "output_type": "execute_result"
    }
   ],
   "source": [
    "test.shape"
   ]
  },
  {
   "cell_type": "code",
   "execution_count": 32,
   "metadata": {},
   "outputs": [],
   "source": [
    "training_set = np.array(training_set)\n",
    "test = np.array(test)\n",
    "final_forecast = np.array(final_forecast.squeeze(0))"
   ]
  },
  {
   "cell_type": "code",
   "execution_count": 33,
   "metadata": {},
   "outputs": [
    {
     "data": {
      "text/plain": [
       "array([64.70739963, 64.69712885, 64.68685808, 64.6765873 , 64.66631653,\n",
       "       64.65604575, 64.64577498, 64.6355042 , 64.62523343, 64.61496265,\n",
       "       64.60469188, 64.5944211 , 64.58415033, 64.57387955, 64.56360878,\n",
       "       64.553338  , 64.54306723, 64.53279645, 64.52252568, 64.5122549 ,\n",
       "       64.50198413, 64.49171335, 64.48144258, 64.4711718 , 64.46090103,\n",
       "       64.45063025, 64.44035948, 64.4300887 , 64.41981793, 64.40954715,\n",
       "       64.39927638, 64.3890056 , 64.37873483, 64.36846405, 64.35819328,\n",
       "       64.3479225 , 64.33765173, 64.32738095, 64.31711018, 64.3068394 ,\n",
       "       64.29656863, 64.28629785, 64.27602708, 64.2657563 , 64.25548553,\n",
       "       64.24521475, 64.23494398, 64.2246732 , 64.21440243, 64.20413165,\n",
       "       64.19386088, 64.1835901 , 64.17331933, 64.16304855, 64.15277778,\n",
       "       64.142507  , 64.13223623, 64.12196545, 64.11169468, 64.1014239 ,\n",
       "       64.09115313, 64.08088235, 64.07061158, 64.0603408 , 64.05007003,\n",
       "       64.03979925, 64.02952848, 64.0192577 , 64.00898693, 63.99912465,\n",
       "       63.99212185, 63.98511905, 63.97811625, 63.97111345, 63.96411064,\n",
       "       63.95710784, 63.95010504, 63.94310224, 63.93609944, 63.92909664,\n",
       "       63.92209384, 63.91509104, 63.90808824, 63.90108543, 63.89408263,\n",
       "       63.88707983, 63.88007703, 63.87307423, 63.86607143, 63.85906863,\n",
       "       63.85206583, 63.84506303, 63.83806022, 63.83105742, 63.82405462,\n",
       "       63.81705182, 63.81004902, 63.80304622, 63.79604342, 63.78904062])"
      ]
     },
     "execution_count": 33,
     "metadata": {},
     "output_type": "execute_result"
    }
   ],
   "source": [
    "test"
   ]
  },
  {
   "cell_type": "code",
   "execution_count": 34,
   "metadata": {},
   "outputs": [
    {
     "data": {
      "text/plain": [
       "(100,)"
      ]
     },
     "execution_count": 34,
     "metadata": {},
     "output_type": "execute_result"
    }
   ],
   "source": [
    "test.shape"
   ]
  },
  {
   "cell_type": "code",
   "execution_count": 35,
   "metadata": {},
   "outputs": [
    {
     "data": {
      "text/plain": [
       "(100,)"
      ]
     },
     "execution_count": 35,
     "metadata": {},
     "output_type": "execute_result"
    }
   ],
   "source": [
    "final_forecast.shape"
   ]
  },
  {
   "cell_type": "code",
   "execution_count": 36,
   "metadata": {},
   "outputs": [
    {
     "data": {
      "text/plain": [
       "(100,)"
      ]
     },
     "execution_count": 36,
     "metadata": {},
     "output_type": "execute_result"
    }
   ],
   "source": [
    "test.shape"
   ]
  },
  {
   "cell_type": "code",
   "execution_count": 37,
   "metadata": {},
   "outputs": [
    {
     "name": "stdout",
     "output_type": "stream",
     "text": [
      "40.62072180646135\n",
      "29.110097795808393\n"
     ]
    }
   ],
   "source": [
    "import math\n",
    "MSE = np.square(np.subtract(np.array(test),np.array(final_forecast))).mean()   \n",
    "rsme = math.sqrt(MSE)\n",
    "print(rsme)  \n",
    "MAE = np.abs(np.subtract(np.array(test),np.array(final_forecast))).mean()   \n",
    "mae = MAE\n",
    "print(mae)"
   ]
  }
 ],
 "metadata": {
  "colab": {
   "provenance": []
  },
  "kernelspec": {
   "display_name": "Python 3",
   "language": "python",
   "name": "python3"
  },
  "language_info": {
   "codemirror_mode": {
    "name": "ipython",
    "version": 3
   },
   "file_extension": ".py",
   "mimetype": "text/x-python",
   "name": "python",
   "nbconvert_exporter": "python",
   "pygments_lexer": "ipython3",
   "version": "3.9.13"
  }
 },
 "nbformat": 4,
 "nbformat_minor": 0
}
