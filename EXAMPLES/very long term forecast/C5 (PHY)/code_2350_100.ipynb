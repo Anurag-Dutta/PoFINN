{
 "cells": [
  {
   "cell_type": "markdown",
   "metadata": {
    "id": "pCGKeZ2gyuoQ"
   },
   "source": [
    "_Importing Required Libraries_"
   ]
  },
  {
   "cell_type": "code",
   "execution_count": 1,
   "metadata": {
    "colab": {
     "base_uri": "https://localhost:8080/"
    },
    "id": "A-6LN-zXiLcM",
    "outputId": "4de610a4-f8b8-4f49-c6c0-89de299ccedc"
   },
   "outputs": [
    {
     "name": "stdout",
     "output_type": "stream",
     "text": [
      "Requirement already satisfied: hampel in c:\\users\\anurag dutta\\appdata\\local\\packages\\pythonsoftwarefoundation.python.3.9_qbz5n2kfra8p0\\localcache\\local-packages\\python39\\site-packages (0.0.5)\n",
      "Requirement already satisfied: numpy in c:\\users\\anurag dutta\\appdata\\local\\packages\\pythonsoftwarefoundation.python.3.9_qbz5n2kfra8p0\\localcache\\local-packages\\python39\\site-packages (from hampel) (1.26.4)\n",
      "Requirement already satisfied: pandas in c:\\users\\anurag dutta\\appdata\\local\\packages\\pythonsoftwarefoundation.python.3.9_qbz5n2kfra8p0\\localcache\\local-packages\\python39\\site-packages (from hampel) (1.5.2)\n",
      "Requirement already satisfied: python-dateutil>=2.8.1 in c:\\users\\anurag dutta\\appdata\\local\\packages\\pythonsoftwarefoundation.python.3.9_qbz5n2kfra8p0\\localcache\\local-packages\\python39\\site-packages (from pandas->hampel) (2.8.2)\n",
      "Requirement already satisfied: pytz>=2020.1 in c:\\users\\anurag dutta\\appdata\\local\\packages\\pythonsoftwarefoundation.python.3.9_qbz5n2kfra8p0\\localcache\\local-packages\\python39\\site-packages (from pandas->hampel) (2023.3.post1)\n",
      "Requirement already satisfied: six>=1.5 in c:\\users\\anurag dutta\\appdata\\local\\packages\\pythonsoftwarefoundation.python.3.9_qbz5n2kfra8p0\\localcache\\local-packages\\python39\\site-packages (from python-dateutil>=2.8.1->pandas->hampel) (1.16.0)\n",
      "Note: you may need to restart the kernel to use updated packages.\n"
     ]
    },
    {
     "name": "stderr",
     "output_type": "stream",
     "text": [
      "\n",
      "[notice] A new release of pip is available: 24.2 -> 24.3.1\n",
      "[notice] To update, run: C:\\Users\\Anurag Dutta\\AppData\\Local\\Microsoft\\WindowsApps\\PythonSoftwareFoundation.Python.3.9_qbz5n2kfra8p0\\python.exe -m pip install --upgrade pip\n"
     ]
    }
   ],
   "source": [
    "pip install hampel"
   ]
  },
  {
   "cell_type": "code",
   "execution_count": 2,
   "metadata": {
    "id": "By_d9uXpaFvZ"
   },
   "outputs": [],
   "source": [
    "from keras.models import Sequential\n",
    "from keras.layers import Dense\n",
    "from keras.layers import LSTM\n",
    "from keras.layers import Dropout\n",
    "import keras\n",
    "import tensorflow as tf\n",
    "from hampel import hampel\n",
    "import numpy as np\n",
    "import matplotlib.pyplot as plt\n",
    "import pandas as pd\n",
    "from sklearn.preprocessing import MinMaxScaler\n",
    "from sklearn.metrics import mean_squared_error, mean_absolute_error\n",
    "from math import sqrt\n",
    "from matplotlib import pyplot\n",
    "from numpy import array"
   ]
  },
  {
   "cell_type": "markdown",
   "metadata": {
    "id": "JyOjBMFayuoR"
   },
   "source": [
    "## Pretraining"
   ]
  },
  {
   "cell_type": "markdown",
   "metadata": {
    "id": "-5QqIY_GyuoR"
   },
   "source": [
    "The `capa_intermittency.dat` feeds the model with the dynamics of the Capacitor"
   ]
  },
  {
   "cell_type": "code",
   "execution_count": 3,
   "metadata": {
    "id": "9dV4a8yfyuoR"
   },
   "outputs": [],
   "source": [
    "data = np.genfromtxt('capa_intermittency.dat')\n",
    "training_set = pd.DataFrame(data).reset_index(drop=True)\n",
    "training_set = training_set.iloc[:,0]"
   ]
  },
  {
   "cell_type": "markdown",
   "metadata": {
    "id": "i7easoxByuoR"
   },
   "source": [
    "## Computing the Gradient"
   ]
  },
  {
   "cell_type": "markdown",
   "metadata": {
    "id": "5SnyolJTyuoR"
   },
   "source": [
    "_Calculating the value of_ $\\frac{dx}{dt}$"
   ]
  },
  {
   "cell_type": "code",
   "execution_count": 4,
   "metadata": {
    "colab": {
     "base_uri": "https://localhost:8080/"
    },
    "id": "wmIbVfIvyuoR",
    "outputId": "aa4e3136-c854-465d-d2e9-81cfd546e440"
   },
   "outputs": [
    {
     "name": "stdout",
     "output_type": "stream",
     "text": [
      "1.0\n",
      "1        0.000298\n",
      "2        0.000298\n",
      "3        0.000297\n",
      "4        0.000297\n",
      "5        0.000297\n",
      "           ...   \n",
      "9996     0.000018\n",
      "9997     0.000018\n",
      "9998     0.000018\n",
      "9999     0.000018\n",
      "10000    0.000018\n",
      "Name: 0, Length: 10000, dtype: float64\n"
     ]
    }
   ],
   "source": [
    "t_diff = 1\n",
    "print(training_set.max())\n",
    "gradient_t = (training_set.diff()/t_diff).iloc[1:] # dx/dt\n",
    "print(gradient_t)"
   ]
  },
  {
   "cell_type": "markdown",
   "metadata": {
    "id": "_2eVeeoxyuoS"
   },
   "source": [
    "## Loading Datasets"
   ]
  },
  {
   "cell_type": "code",
   "execution_count": 5,
   "metadata": {
    "id": "0J-NKyIEyuoS"
   },
   "outputs": [
    {
     "data": {
      "text/plain": [
       "0       89.140000\n",
       "1       88.911429\n",
       "2       88.682857\n",
       "3       88.454286\n",
       "4       88.225714\n",
       "          ...    \n",
       "2445    60.027957\n",
       "2446    60.020031\n",
       "2447    60.012106\n",
       "2448    60.004181\n",
       "2449    59.996256\n",
       "Name: C5, Length: 2450, dtype: float64"
      ]
     },
     "execution_count": 5,
     "metadata": {},
     "output_type": "execute_result"
    }
   ],
   "source": [
    "data = pd.read_csv(\"c5_interpolated_2350_100.csv\")\n",
    "training_set = data.iloc[:, 1]\n",
    "training_set"
   ]
  },
  {
   "cell_type": "code",
   "execution_count": 6,
   "metadata": {
    "colab": {
     "base_uri": "https://localhost:8080/"
    },
    "id": "-CbNUhJ74UqF",
    "outputId": "20f562d8-8247-49cc-b9c3-00eca5e13e2d"
   },
   "outputs": [
    {
     "data": {
      "text/plain": [
       "0       89.140000\n",
       "1       88.911429\n",
       "2       88.682857\n",
       "3       88.454286\n",
       "4       88.225714\n",
       "          ...    \n",
       "2345     0.688693\n",
       "2346     0.000000\n",
       "2347     0.642658\n",
       "2348     0.296472\n",
       "2349     0.000000\n",
       "Name: C5, Length: 2350, dtype: float64"
      ]
     },
     "execution_count": 6,
     "metadata": {},
     "output_type": "execute_result"
    }
   ],
   "source": [
    "test = training_set.tail(100)\n",
    "test\n",
    "training_set = training_set.head(2350)\n",
    "training_set"
   ]
  },
  {
   "cell_type": "code",
   "execution_count": 7,
   "metadata": {
    "colab": {
     "base_uri": "https://localhost:8080/"
    },
    "id": "X0TwTcq0yuoS",
    "outputId": "37252ed8-d88e-4044-fa7a-922411990b5b"
   },
   "outputs": [
    {
     "name": "stdout",
     "output_type": "stream",
     "text": [
      "0       0.000298\n",
      "1       0.000298\n",
      "2       0.000297\n",
      "3       0.000297\n",
      "4       0.000297\n",
      "          ...   \n",
      "9995    0.000018\n",
      "9996    0.000018\n",
      "9997    0.000018\n",
      "9998    0.000018\n",
      "9999    0.000018\n",
      "Name: 0, Length: 10000, dtype: float64\n"
     ]
    }
   ],
   "source": [
    "training_set = training_set.reset_index(drop=True)\n",
    "gradient_t = gradient_t.reset_index(drop=True)\n",
    "print(gradient_t)"
   ]
  },
  {
   "cell_type": "code",
   "execution_count": 8,
   "metadata": {
    "id": "O2biznZQyuoS"
   },
   "outputs": [],
   "source": [
    "df = pd.concat((training_set, gradient_t), axis=1)\n",
    "df.columns = ['y_t', 'grad_t']"
   ]
  },
  {
   "cell_type": "code",
   "execution_count": 9,
   "metadata": {
    "colab": {
     "base_uri": "https://localhost:8080/",
     "height": 423
    },
    "id": "sk_a5v3tyuoS",
    "outputId": "17563625-e550-45ae-faab-fafa353e44da"
   },
   "outputs": [
    {
     "data": {
      "text/html": [
       "<div>\n",
       "<style scoped>\n",
       "    .dataframe tbody tr th:only-of-type {\n",
       "        vertical-align: middle;\n",
       "    }\n",
       "\n",
       "    .dataframe tbody tr th {\n",
       "        vertical-align: top;\n",
       "    }\n",
       "\n",
       "    .dataframe thead th {\n",
       "        text-align: right;\n",
       "    }\n",
       "</style>\n",
       "<table border=\"1\" class=\"dataframe\">\n",
       "  <thead>\n",
       "    <tr style=\"text-align: right;\">\n",
       "      <th></th>\n",
       "      <th>y_t</th>\n",
       "      <th>grad_t</th>\n",
       "    </tr>\n",
       "  </thead>\n",
       "  <tbody>\n",
       "    <tr>\n",
       "      <th>0</th>\n",
       "      <td>89.140000</td>\n",
       "      <td>0.000298</td>\n",
       "    </tr>\n",
       "    <tr>\n",
       "      <th>1</th>\n",
       "      <td>88.911429</td>\n",
       "      <td>0.000298</td>\n",
       "    </tr>\n",
       "    <tr>\n",
       "      <th>2</th>\n",
       "      <td>88.682857</td>\n",
       "      <td>0.000297</td>\n",
       "    </tr>\n",
       "    <tr>\n",
       "      <th>3</th>\n",
       "      <td>88.454286</td>\n",
       "      <td>0.000297</td>\n",
       "    </tr>\n",
       "    <tr>\n",
       "      <th>4</th>\n",
       "      <td>88.225714</td>\n",
       "      <td>0.000297</td>\n",
       "    </tr>\n",
       "    <tr>\n",
       "      <th>...</th>\n",
       "      <td>...</td>\n",
       "      <td>...</td>\n",
       "    </tr>\n",
       "    <tr>\n",
       "      <th>9995</th>\n",
       "      <td>NaN</td>\n",
       "      <td>0.000018</td>\n",
       "    </tr>\n",
       "    <tr>\n",
       "      <th>9996</th>\n",
       "      <td>NaN</td>\n",
       "      <td>0.000018</td>\n",
       "    </tr>\n",
       "    <tr>\n",
       "      <th>9997</th>\n",
       "      <td>NaN</td>\n",
       "      <td>0.000018</td>\n",
       "    </tr>\n",
       "    <tr>\n",
       "      <th>9998</th>\n",
       "      <td>NaN</td>\n",
       "      <td>0.000018</td>\n",
       "    </tr>\n",
       "    <tr>\n",
       "      <th>9999</th>\n",
       "      <td>NaN</td>\n",
       "      <td>0.000018</td>\n",
       "    </tr>\n",
       "  </tbody>\n",
       "</table>\n",
       "<p>10000 rows × 2 columns</p>\n",
       "</div>"
      ],
      "text/plain": [
       "            y_t    grad_t\n",
       "0     89.140000  0.000298\n",
       "1     88.911429  0.000298\n",
       "2     88.682857  0.000297\n",
       "3     88.454286  0.000297\n",
       "4     88.225714  0.000297\n",
       "...         ...       ...\n",
       "9995        NaN  0.000018\n",
       "9996        NaN  0.000018\n",
       "9997        NaN  0.000018\n",
       "9998        NaN  0.000018\n",
       "9999        NaN  0.000018\n",
       "\n",
       "[10000 rows x 2 columns]"
      ]
     },
     "execution_count": 9,
     "metadata": {},
     "output_type": "execute_result"
    }
   ],
   "source": [
    "df"
   ]
  },
  {
   "cell_type": "markdown",
   "metadata": {
    "id": "-5esyHu5aFvg"
   },
   "source": [
    "## Plot of the External Forcing from Chaotic Differential Equation"
   ]
  },
  {
   "cell_type": "code",
   "execution_count": 10,
   "metadata": {
    "colab": {
     "base_uri": "https://localhost:8080/",
     "height": 447
    },
    "id": "hGnE43tOh-4p",
    "outputId": "fc396503-b624-4fa5-dfbe-f460207405c6"
   },
   "outputs": [
    {
     "data": {
      "text/plain": [
       "<Axes: >"
      ]
     },
     "execution_count": 10,
     "metadata": {},
     "output_type": "execute_result"
    },
    {
     "data": {
      "image/png": "[encoded data removed]",
      "text/plain": [
       "<Figure size 432x288 with 1 Axes>"
      ]
     },
     "metadata": {
      "needs_background": "light"
     },
     "output_type": "display_data"
    }
   ],
   "source": [
    "df.iloc[:, 0].plot()"
   ]
  },
  {
   "cell_type": "code",
   "execution_count": 11,
   "metadata": {
    "colab": {
     "base_uri": "https://localhost:8080/",
     "height": 447
    },
    "id": "ym4xWUUxaFvg",
    "outputId": "ae6a3495-8ce9-437e-ba81-3ed31deedeae"
   },
   "outputs": [
    {
     "name": "stderr",
     "output_type": "stream",
     "text": [
      "C:\\Users\\Anurag Dutta\\AppData\\Local\\Packages\\PythonSoftwareFoundation.Python.3.9_qbz5n2kfra8p0\\LocalCache\\local-packages\\Python39\\site-packages\\pandas\\core\\arraylike.py:402: RuntimeWarning: divide by zero encountered in log\n",
      "  result = getattr(ufunc, method)(*inputs, **kwargs)\n"
     ]
    },
    {
     "data": {
      "text/plain": [
       "<Axes: >"
      ]
     },
     "execution_count": 11,
     "metadata": {},
     "output_type": "execute_result"
    },
    {
     "data": {
      "image/png": "[encoded data removed]",
      "text/plain": [
       "<Figure size 432x288 with 1 Axes>"
      ]
     },
     "metadata": {
      "needs_background": "light"
     },
     "output_type": "display_data"
    }
   ],
   "source": [
    "import numpy as np\n",
    "c0 = 86.8407  # Value for C0\n",
    "K0 = -0.0015  # Value for K0\n",
    "K1 = -0.0001  # Value for K1\n",
    "a = 0.0000    # Value for a\n",
    "b = 0.0118    # Value for b\n",
    "c = 2.5775    # Value for c\n",
    "\n",
    "L = np.minimum(c0, (df.iloc[:, 1] - (df.iloc[:, 0] * (K0 - K1 * (9 * a * np.log(df.iloc[:, 0] / c0) / (K0 - K1 * c)**2 + 4 * b * np.log(df.iloc[:, 0] / c0) / (K0 - K1 * c) + c)))))\n",
    "L.plot()"
   ]
  },
  {
   "cell_type": "markdown",
   "metadata": {
    "id": "9VyEywnwaFvh"
   },
   "source": [
    "## Preprocessing the data into supervised learning"
   ]
  },
  {
   "cell_type": "code",
   "execution_count": 12,
   "metadata": {
    "id": "6V9dXqzdaFvh"
   },
   "outputs": [],
   "source": [
    "# split a sequence into samples\n",
    "def Supervised(data, n_in=1, n_out=1, dropnan=True):\n",
    "    n_vars = 1 if type(data) is list else data.shape[1]\n",
    "    df = pd.DataFrame(data)\n",
    "    cols, names = list(), list()\n",
    "    # input sequence (t-n_in, ... t-1)\n",
    "    for i in range(n_in, 0, -1):\n",
    "        cols.append(df.shift(i))\n",
    "        names += [('var%d(t-%d)' % (j+1, i)) for j in range(n_vars)]\n",
    "    # forecast sequence (t, t+1, ... t+n_out)\n",
    "    for i in range(0, n_out):\n",
    "      cols.append(df.shift(-i))\n",
    "      if i == 0:\n",
    "        names += [('var%d(t)' % (j+1)) for j in range(n_vars)]\n",
    "      else:\n",
    "        names += [('var%d(t+%d)' % (j+1, i)) for j in range(n_vars)]\n",
    "    # put it all together\n",
    "    agg = pd.concat(cols, axis=1)\n",
    "    agg.columns = names\n",
    "    # drop rows with NaN values\n",
    "    if dropnan:\n",
    "       agg.dropna(inplace=True)\n",
    "    return agg"
   ]
  },
  {
   "cell_type": "code",
   "execution_count": 13,
   "metadata": {
    "colab": {
     "base_uri": "https://localhost:8080/"
    },
    "id": "CrzSrT1HnyfH",
    "outputId": "7e75f928-3e47-499d-eac1-51908015ef78"
   },
   "outputs": [
    {
     "name": "stdout",
     "output_type": "stream",
     "text": [
      "     var1(t-350)  var1(t-349)  var1(t-348)  var1(t-347)  var1(t-346)  \\\n",
      "350    89.140000    88.911429    88.682857    88.454286    88.225714   \n",
      "351    88.911429    88.682857    88.454286    88.225714    87.997143   \n",
      "352    88.682857    88.454286    88.225714    87.997143    87.768571   \n",
      "353    88.454286    88.225714    87.997143    87.768571    87.540000   \n",
      "354    88.225714    87.997143    87.768571    87.540000    87.311429   \n",
      "\n",
      "     var1(t-345)  var1(t-344)  var1(t-343)  var1(t-342)  var1(t-341)  ...  \\\n",
      "350    87.997143    87.768571    87.540000    87.311429    87.095798  ...   \n",
      "351    87.768571    87.540000    87.311429    87.095798    87.039776  ...   \n",
      "352    87.540000    87.311429    87.095798    87.039776    86.983754  ...   \n",
      "353    87.311429    87.095798    87.039776    86.983754    86.927731  ...   \n",
      "354    87.095798    87.039776    86.983754    86.927731    86.871709  ...   \n",
      "\n",
      "     var1(t+95)  var2(t+95)  var1(t+96)  var2(t+96)  var1(t+97)  var2(t+97)  \\\n",
      "350   79.161181    0.000263   79.132236    0.000263   79.103291    0.000263   \n",
      "351   79.132236    0.000263   79.103291    0.000263   79.074346    0.000262   \n",
      "352   79.103291    0.000263   79.074346    0.000262   79.045401    0.000262   \n",
      "353   79.074346    0.000262   79.045401    0.000262   79.016457    0.000262   \n",
      "354   79.045401    0.000262   79.016457    0.000262   78.987512    0.000262   \n",
      "\n",
      "     var1(t+98)  var2(t+98)  var1(t+99)  var2(t+99)  \n",
      "350   79.074346    0.000262   79.045401    0.000262  \n",
      "351   79.045401    0.000262   79.016457    0.000262  \n",
      "352   79.016457    0.000262   78.987512    0.000262  \n",
      "353   78.987512    0.000262   78.958567    0.000262  \n",
      "354   78.958567    0.000262   78.929622    0.000262  \n",
      "\n",
      "[5 rows x 551 columns]\n",
      "Index(['var1(t-350)', 'var1(t-349)', 'var1(t-348)', 'var1(t-347)',\n",
      "       'var1(t-346)', 'var1(t-345)', 'var1(t-344)', 'var1(t-343)',\n",
      "       'var1(t-342)', 'var1(t-341)',\n",
      "       ...\n",
      "       'var1(t+95)', 'var2(t+95)', 'var1(t+96)', 'var2(t+96)', 'var1(t+97)',\n",
      "       'var2(t+97)', 'var1(t+98)', 'var2(t+98)', 'var1(t+99)', 'var2(t+99)'],\n",
      "      dtype='object', length=551)\n"
     ]
    }
   ],
   "source": [
    "data = Supervised(df.values, n_in = 350, n_out = 100)\n",
    "\n",
    "\n",
    "cols_to_drop = []\n",
    "for i in range(2, 351):\n",
    "    cols_to_drop.extend([f'var2(t-{i})'])\n",
    "\n",
    "data.drop(cols_to_drop, axis=1, inplace=True)\n",
    "\n",
    "print(data.head())\n",
    "print(data.columns)"
   ]
  },
  {
   "cell_type": "code",
   "execution_count": 14,
   "metadata": {
    "id": "AfPf60oy6Pe4"
   },
   "outputs": [],
   "source": [
    "train = np.array(data[0:len(data)-1])\n",
    "forecast = np.array(data.tail(1))"
   ]
  },
  {
   "cell_type": "code",
   "execution_count": 15,
   "metadata": {
    "id": "WSAafzI37KiT"
   },
   "outputs": [],
   "source": [
    "trainy = train[:,-300:]\n",
    "trainX = train[:,:-300]"
   ]
  },
  {
   "cell_type": "code",
   "execution_count": 16,
   "metadata": {
    "id": "2SrOqVJA7f50"
   },
   "outputs": [],
   "source": [
    "forecasty = forecast[:,-300:]\n",
    "forecastX = forecast[:,:-300]"
   ]
  },
  {
   "cell_type": "code",
   "execution_count": 17,
   "metadata": {
    "colab": {
     "base_uri": "https://localhost:8080/"
    },
    "id": "Qno_k8Nw7saY",
    "outputId": "c4a88db5-d8c6-489f-cdb2-06b24e293cff"
   },
   "outputs": [
    {
     "name": "stdout",
     "output_type": "stream",
     "text": [
      "(1900, 1, 251) (1900, 300) (1, 1, 251)\n"
     ]
    }
   ],
   "source": [
    "trainX = trainX.reshape((trainX.shape[0], 1, trainX.shape[1]))\n",
    "forecastX = forecastX.reshape((forecastX.shape[0], 1, forecastX.shape[1]))\n",
    "print(trainX.shape, trainy.shape, forecastX.shape)"
   ]
  },
  {
   "cell_type": "code",
   "execution_count": 18,
   "metadata": {
    "colab": {
     "base_uri": "https://localhost:8080/"
    },
    "id": "b1Jp2DvNuNFx",
    "outputId": "d0e5b3c4-64f1-438c-eade-8dfeaac8e285"
   },
   "outputs": [
    {
     "name": "stdout",
     "output_type": "stream",
     "text": [
      "Epoch 1/500\n",
      "24/24 [==============================] - 2s 23ms/step - loss: 4850.1577 - val_loss: 2584.5220\n",
      "Epoch 2/500\n",
      "24/24 [==============================] - 0s 4ms/step - loss: 4498.5449 - val_loss: 2447.1838\n",
      "Epoch 3/500\n",
      "24/24 [==============================] - 0s 4ms/step - loss: 4310.1274 - val_loss: 2365.5249\n",
      "Epoch 4/500\n",
      "24/24 [==============================] - 0s 3ms/step - loss: 4182.7124 - val_loss: 2295.9795\n",
      "Epoch 5/500\n",
      "24/24 [==============================] - 0s 4ms/step - loss: 4054.0369 - val_loss: 2232.0886\n",
      "Epoch 6/500\n",
      "24/24 [==============================] - 0s 5ms/step - loss: 3936.8804 - val_loss: 2172.2065\n",
      "Epoch 7/500\n",
      "24/24 [==============================] - 0s 6ms/step - loss: 3824.5691 - val_loss: 2115.3848\n",
      "Epoch 8/500\n",
      "24/24 [==============================] - 0s 5ms/step - loss: 3716.2502 - val_loss: 2061.1562\n",
      "Epoch 9/500\n",
      "24/24 [==============================] - 0s 5ms/step - loss: 3611.3325 - val_loss: 2009.2781\n",
      "Epoch 10/500\n",
      "24/24 [==============================] - 0s 5ms/step - loss: 3509.5376 - val_loss: 1959.5474\n",
      "Epoch 11/500\n",
      "24/24 [==============================] - 0s 4ms/step - loss: 3410.6304 - val_loss: 1912.1998\n",
      "Epoch 12/500\n",
      "24/24 [==============================] - 0s 4ms/step - loss: 3314.4458 - val_loss: 1866.9106\n",
      "Epoch 13/500\n",
      "24/24 [==============================] - 0s 4ms/step - loss: 3220.8611 - val_loss: 1823.5891\n",
      "Epoch 14/500\n",
      "24/24 [==============================] - 0s 3ms/step - loss: 3129.7759 - val_loss: 1782.1670\n",
      "Epoch 15/500\n",
      "24/24 [==============================] - 0s 3ms/step - loss: 3041.1079 - val_loss: 1742.5818\n",
      "Epoch 16/500\n",
      "24/24 [==============================] - 0s 4ms/step - loss: 2954.7834 - val_loss: 1704.7771\n",
      "Epoch 17/500\n",
      "24/24 [==============================] - 0s 4ms/step - loss: 2870.7349 - val_loss: 1668.7003\n",
      "Epoch 18/500\n",
      "24/24 [==============================] - 0s 4ms/step - loss: 2788.9075 - val_loss: 1634.2935\n",
      "Epoch 19/500\n",
      "24/24 [==============================] - 0s 5ms/step - loss: 2709.2439 - val_loss: 1601.5227\n",
      "Epoch 20/500\n",
      "24/24 [==============================] - 0s 4ms/step - loss: 2631.6877 - val_loss: 1570.3459\n",
      "Epoch 21/500\n",
      "24/24 [==============================] - 0s 3ms/step - loss: 2556.1960 - val_loss: 1540.7527\n",
      "Epoch 22/500\n",
      "24/24 [==============================] - 0s 3ms/step - loss: 2482.7202 - val_loss: 1512.7549\n",
      "Epoch 23/500\n",
      "24/24 [==============================] - 0s 3ms/step - loss: 2411.2253 - val_loss: 1486.2418\n",
      "Epoch 24/500\n",
      "24/24 [==============================] - 0s 3ms/step - loss: 2341.6848 - val_loss: 1461.1421\n",
      "Epoch 25/500\n",
      "24/24 [==============================] - 0s 4ms/step - loss: 2274.0386 - val_loss: 1437.4493\n",
      "Epoch 26/500\n",
      "24/24 [==============================] - 0s 4ms/step - loss: 2208.2493 - val_loss: 1415.1320\n",
      "Epoch 27/500\n",
      "24/24 [==============================] - 0s 4ms/step - loss: 2144.2810 - val_loss: 1394.1572\n",
      "Epoch 28/500\n",
      "24/24 [==============================] - 0s 4ms/step - loss: 2082.0969 - val_loss: 1374.4800\n",
      "Epoch 29/500\n",
      "24/24 [==============================] - 0s 4ms/step - loss: 2021.6592 - val_loss: 1356.0422\n",
      "Epoch 30/500\n",
      "24/24 [==============================] - 0s 3ms/step - loss: 1962.9359 - val_loss: 1338.9537\n",
      "Epoch 31/500\n",
      "24/24 [==============================] - 0s 5ms/step - loss: 1905.9147 - val_loss: 1323.0105\n",
      "Epoch 32/500\n",
      "24/24 [==============================] - 0s 3ms/step - loss: 1850.4875 - val_loss: 1308.1727\n",
      "Epoch 33/500\n",
      "24/24 [==============================] - 0s 5ms/step - loss: 1796.6818 - val_loss: 1294.5377\n",
      "Epoch 34/500\n",
      "24/24 [==============================] - 0s 5ms/step - loss: 1744.4691 - val_loss: 1281.9958\n",
      "Epoch 35/500\n",
      "24/24 [==============================] - 0s 5ms/step - loss: 1693.7709 - val_loss: 1270.4979\n",
      "Epoch 36/500\n",
      "24/24 [==============================] - 0s 6ms/step - loss: 1644.5682 - val_loss: 1259.9276\n",
      "Epoch 37/500\n",
      "24/24 [==============================] - 0s 10ms/step - loss: 1596.9736 - val_loss: 1250.3138\n",
      "Epoch 38/500\n",
      "24/24 [==============================] - 0s 10ms/step - loss: 1550.6665 - val_loss: 1241.9104\n",
      "Epoch 39/500\n",
      "24/24 [==============================] - 0s 6ms/step - loss: 1505.8512 - val_loss: 1234.3892\n",
      "Epoch 40/500\n",
      "24/24 [==============================] - 0s 5ms/step - loss: 1462.3556 - val_loss: 1227.8673\n",
      "Epoch 41/500\n",
      "24/24 [==============================] - 0s 5ms/step - loss: 1420.2539 - val_loss: 1222.2159\n",
      "Epoch 42/500\n",
      "24/24 [==============================] - 0s 5ms/step - loss: 1379.4840 - val_loss: 1217.4303\n",
      "Epoch 43/500\n",
      "24/24 [==============================] - 0s 4ms/step - loss: 1340.0153 - val_loss: 1213.4818\n",
      "Epoch 44/500\n",
      "24/24 [==============================] - 0s 4ms/step - loss: 1301.8170 - val_loss: 1208.9719\n",
      "Epoch 45/500\n",
      "24/24 [==============================] - 0s 5ms/step - loss: 1264.8269 - val_loss: 1207.4053\n",
      "Epoch 46/500\n",
      "24/24 [==============================] - 0s 5ms/step - loss: 1229.1729 - val_loss: 1206.3346\n",
      "Epoch 47/500\n",
      "24/24 [==============================] - 0s 5ms/step - loss: 1194.6484 - val_loss: 1205.3053\n",
      "Epoch 48/500\n",
      "24/24 [==============================] - 0s 4ms/step - loss: 1161.9772 - val_loss: 1209.9360\n",
      "Epoch 49/500\n",
      "24/24 [==============================] - 0s 3ms/step - loss: 1119.4192 - val_loss: 1209.0953\n",
      "Epoch 50/500\n",
      "24/24 [==============================] - 0s 4ms/step - loss: 1086.2023 - val_loss: 1210.7799\n",
      "Epoch 51/500\n",
      "24/24 [==============================] - 0s 5ms/step - loss: 1054.3336 - val_loss: 1213.1855\n",
      "Epoch 52/500\n",
      "24/24 [==============================] - 0s 6ms/step - loss: 1023.9150 - val_loss: 1216.2419\n",
      "Epoch 53/500\n",
      "24/24 [==============================] - 0s 6ms/step - loss: 994.8303 - val_loss: 1219.9095\n",
      "Epoch 54/500\n",
      "24/24 [==============================] - 0s 5ms/step - loss: 966.9865 - val_loss: 1223.8376\n",
      "Epoch 55/500\n",
      "24/24 [==============================] - 0s 4ms/step - loss: 940.0144 - val_loss: 1218.8071\n",
      "Epoch 56/500\n",
      "24/24 [==============================] - 0s 4ms/step - loss: 948.5043 - val_loss: 1227.0857\n",
      "Epoch 57/500\n",
      "24/24 [==============================] - 0s 4ms/step - loss: 927.9313 - val_loss: 1232.1034\n",
      "Epoch 58/500\n",
      "24/24 [==============================] - 0s 5ms/step - loss: 903.0828 - val_loss: 1237.6251\n",
      "Epoch 59/500\n",
      "24/24 [==============================] - 0s 4ms/step - loss: 879.2392 - val_loss: 1243.6178\n",
      "Epoch 60/500\n",
      "24/24 [==============================] - 0s 4ms/step - loss: 856.3743 - val_loss: 1250.0543\n",
      "Epoch 61/500\n",
      "24/24 [==============================] - 0s 4ms/step - loss: 834.4524 - val_loss: 1256.9081\n",
      "Epoch 62/500\n",
      "24/24 [==============================] - 0s 4ms/step - loss: 813.4394 - val_loss: 1264.1541\n",
      "Epoch 63/500\n",
      "24/24 [==============================] - 0s 4ms/step - loss: 793.3023 - val_loss: 1271.7675\n",
      "Epoch 64/500\n",
      "24/24 [==============================] - 0s 4ms/step - loss: 774.0101 - val_loss: 1279.7245\n",
      "Epoch 65/500\n",
      "24/24 [==============================] - 0s 4ms/step - loss: 755.5337 - val_loss: 1288.0016\n",
      "Epoch 66/500\n",
      "24/24 [==============================] - 0s 4ms/step - loss: 737.8440 - val_loss: 1296.5763\n",
      "Epoch 67/500\n",
      "24/24 [==============================] - 0s 4ms/step - loss: 720.9138 - val_loss: 1305.4258\n",
      "Epoch 68/500\n",
      "24/24 [==============================] - 0s 4ms/step - loss: 704.7169 - val_loss: 1314.5298\n",
      "Epoch 69/500\n",
      "24/24 [==============================] - 0s 5ms/step - loss: 689.2273 - val_loss: 1323.8661\n",
      "Epoch 70/500\n",
      "24/24 [==============================] - 0s 5ms/step - loss: 674.4204 - val_loss: 1333.4144\n",
      "Epoch 71/500\n",
      "24/24 [==============================] - 0s 4ms/step - loss: 660.2725 - val_loss: 1343.1558\n",
      "Epoch 72/500\n",
      "24/24 [==============================] - 0s 4ms/step - loss: 646.7596 - val_loss: 1353.0698\n",
      "Epoch 73/500\n",
      "24/24 [==============================] - 0s 5ms/step - loss: 633.8594 - val_loss: 1363.1379\n",
      "Epoch 74/500\n",
      "24/24 [==============================] - 0s 4ms/step - loss: 621.5499 - val_loss: 1373.3420\n",
      "Epoch 75/500\n",
      "24/24 [==============================] - 0s 4ms/step - loss: 609.8091 - val_loss: 1383.6638\n",
      "Epoch 76/500\n",
      "24/24 [==============================] - 0s 7ms/step - loss: 598.6168 - val_loss: 1394.0861\n",
      "Epoch 77/500\n",
      "24/24 [==============================] - 0s 8ms/step - loss: 587.9521 - val_loss: 1404.5924\n",
      "Epoch 78/500\n",
      "24/24 [==============================] - 0s 4ms/step - loss: 577.7955 - val_loss: 1415.1656\n",
      "Epoch 79/500\n",
      "24/24 [==============================] - 0s 5ms/step - loss: 568.1277 - val_loss: 1425.7904\n",
      "Epoch 80/500\n",
      "24/24 [==============================] - 0s 4ms/step - loss: 558.9298 - val_loss: 1436.4508\n",
      "Epoch 81/500\n",
      "24/24 [==============================] - 0s 4ms/step - loss: 550.1838 - val_loss: 1447.1316\n",
      "Epoch 82/500\n",
      "24/24 [==============================] - 0s 4ms/step - loss: 541.8715 - val_loss: 1457.8174\n",
      "Epoch 83/500\n",
      "24/24 [==============================] - 0s 4ms/step - loss: 533.9761 - val_loss: 1468.4938\n",
      "Epoch 84/500\n",
      "24/24 [==============================] - 0s 4ms/step - loss: 526.4806 - val_loss: 1479.1444\n",
      "Epoch 85/500\n",
      "24/24 [==============================] - 0s 4ms/step - loss: 519.3685 - val_loss: 1489.7533\n",
      "Epoch 86/500\n",
      "24/24 [==============================] - 0s 5ms/step - loss: 512.6242 - val_loss: 1500.3029\n",
      "Epoch 87/500\n",
      "24/24 [==============================] - 0s 4ms/step - loss: 506.2321 - val_loss: 1510.7700\n",
      "Epoch 88/500\n",
      "24/24 [==============================] - 0s 4ms/step - loss: 500.1772 - val_loss: 1521.1188\n",
      "Epoch 89/500\n",
      "24/24 [==============================] - 0s 4ms/step - loss: 494.4452 - val_loss: 1530.8920\n",
      "Epoch 90/500\n",
      "24/24 [==============================] - 0s 4ms/step - loss: 486.2241 - val_loss: 1508.8787\n",
      "Epoch 91/500\n",
      "24/24 [==============================] - 0s 4ms/step - loss: 505.3608 - val_loss: 1519.0483\n",
      "Epoch 92/500\n",
      "24/24 [==============================] - 0s 4ms/step - loss: 499.3859 - val_loss: 1529.7786\n",
      "Epoch 93/500\n",
      "24/24 [==============================] - 0s 4ms/step - loss: 493.6139 - val_loss: 1540.4553\n",
      "Epoch 94/500\n",
      "24/24 [==============================] - 0s 4ms/step - loss: 488.1510 - val_loss: 1551.0402\n",
      "Epoch 95/500\n",
      "24/24 [==============================] - 0s 4ms/step - loss: 482.9926 - val_loss: 1561.5219\n",
      "Epoch 96/500\n",
      "24/24 [==============================] - 0s 4ms/step - loss: 478.1247 - val_loss: 1571.8905\n",
      "Epoch 97/500\n",
      "24/24 [==============================] - 0s 4ms/step - loss: 473.5339 - val_loss: 1582.1388\n",
      "Epoch 98/500\n",
      "24/24 [==============================] - 0s 4ms/step - loss: 469.2067 - val_loss: 1592.2577\n",
      "Epoch 99/500\n",
      "24/24 [==============================] - 0s 3ms/step - loss: 465.1302 - val_loss: 1602.2416\n",
      "Epoch 100/500\n",
      "24/24 [==============================] - 0s 3ms/step - loss: 461.2923 - val_loss: 1612.0830\n",
      "Epoch 101/500\n",
      "24/24 [==============================] - 0s 4ms/step - loss: 457.6808 - val_loss: 1621.7747\n",
      "Epoch 102/500\n",
      "24/24 [==============================] - 0s 3ms/step - loss: 454.2845 - val_loss: 1631.3126\n",
      "Epoch 103/500\n",
      "24/24 [==============================] - 0s 4ms/step - loss: 451.0921 - val_loss: 1640.6912\n",
      "Epoch 104/500\n",
      "24/24 [==============================] - 0s 4ms/step - loss: 448.0932 - val_loss: 1649.9052\n",
      "Epoch 105/500\n",
      "24/24 [==============================] - 0s 4ms/step - loss: 445.2779 - val_loss: 1658.9508\n",
      "Epoch 106/500\n",
      "24/24 [==============================] - 0s 4ms/step - loss: 442.6359 - val_loss: 1667.8234\n",
      "Epoch 107/500\n",
      "24/24 [==============================] - 0s 4ms/step - loss: 440.1585 - val_loss: 1676.5208\n",
      "Epoch 108/500\n",
      "24/24 [==============================] - 0s 4ms/step - loss: 437.8365 - val_loss: 1685.0392\n",
      "Epoch 109/500\n",
      "24/24 [==============================] - 0s 4ms/step - loss: 435.6614 - val_loss: 1693.3761\n",
      "Epoch 110/500\n",
      "24/24 [==============================] - 0s 4ms/step - loss: 433.6249 - val_loss: 1701.5306\n",
      "Epoch 111/500\n",
      "24/24 [==============================] - 0s 4ms/step - loss: 431.7194 - val_loss: 1709.4994\n",
      "Epoch 112/500\n",
      "24/24 [==============================] - 0s 4ms/step - loss: 429.9374 - val_loss: 1717.2819\n",
      "Epoch 113/500\n",
      "24/24 [==============================] - 0s 4ms/step - loss: 428.2717 - val_loss: 1724.8777\n",
      "Epoch 114/500\n",
      "24/24 [==============================] - 0s 4ms/step - loss: 426.7155 - val_loss: 1732.2841\n",
      "Epoch 115/500\n",
      "24/24 [==============================] - 0s 4ms/step - loss: 425.2627 - val_loss: 1739.5028\n",
      "Epoch 116/500\n",
      "24/24 [==============================] - 0s 10ms/step - loss: 423.9066 - val_loss: 1746.5336\n",
      "Epoch 117/500\n",
      "24/24 [==============================] - 0s 6ms/step - loss: 422.6419 - val_loss: 1753.3759\n",
      "Epoch 118/500\n",
      "24/24 [==============================] - 0s 6ms/step - loss: 421.4628 - val_loss: 1760.0308\n",
      "Epoch 119/500\n",
      "24/24 [==============================] - 0s 6ms/step - loss: 420.3641 - val_loss: 1766.4994\n",
      "Epoch 120/500\n",
      "24/24 [==============================] - 0s 7ms/step - loss: 419.3408 - val_loss: 1772.7831\n",
      "Epoch 121/500\n",
      "24/24 [==============================] - 0s 5ms/step - loss: 418.3880 - val_loss: 1778.8821\n",
      "Epoch 122/500\n",
      "24/24 [==============================] - 0s 6ms/step - loss: 417.5016 - val_loss: 1784.7991\n",
      "Epoch 123/500\n",
      "24/24 [==============================] - 0s 4ms/step - loss: 416.6771 - val_loss: 1790.5354\n",
      "Epoch 124/500\n",
      "24/24 [==============================] - 0s 4ms/step - loss: 415.9105 - val_loss: 1796.0938\n",
      "Epoch 125/500\n",
      "24/24 [==============================] - 0s 5ms/step - loss: 415.1982 - val_loss: 1801.4758\n",
      "Epoch 126/500\n",
      "24/24 [==============================] - 0s 4ms/step - loss: 414.5364 - val_loss: 1806.6836\n",
      "Epoch 127/500\n",
      "24/24 [==============================] - 0s 4ms/step - loss: 413.9219 - val_loss: 1811.7212\n",
      "Epoch 128/500\n",
      "24/24 [==============================] - 0s 4ms/step - loss: 413.3516 - val_loss: 1816.5898\n",
      "Epoch 129/500\n",
      "24/24 [==============================] - 0s 4ms/step - loss: 412.8222 - val_loss: 1821.2932\n",
      "Epoch 130/500\n",
      "24/24 [==============================] - 0s 4ms/step - loss: 412.3313 - val_loss: 1825.8335\n",
      "Epoch 131/500\n",
      "24/24 [==============================] - 0s 4ms/step - loss: 411.8761 - val_loss: 1830.2145\n",
      "Epoch 132/500\n",
      "24/24 [==============================] - 0s 4ms/step - loss: 411.4541 - val_loss: 1834.4393\n",
      "Epoch 133/500\n",
      "24/24 [==============================] - 0s 4ms/step - loss: 411.0630 - val_loss: 1838.5109\n",
      "Epoch 134/500\n",
      "24/24 [==============================] - 0s 4ms/step - loss: 410.7007 - val_loss: 1842.4326\n",
      "Epoch 135/500\n",
      "24/24 [==============================] - 0s 4ms/step - loss: 410.3652 - val_loss: 1846.2087\n",
      "Epoch 136/500\n",
      "24/24 [==============================] - 0s 4ms/step - loss: 410.0544 - val_loss: 1849.8414\n",
      "Epoch 137/500\n",
      "24/24 [==============================] - 0s 4ms/step - loss: 409.7666 - val_loss: 1853.3346\n",
      "Epoch 138/500\n",
      "24/24 [==============================] - 0s 4ms/step - loss: 409.5002 - val_loss: 1856.6926\n",
      "Epoch 139/500\n",
      "24/24 [==============================] - 0s 5ms/step - loss: 409.2538 - val_loss: 1859.9181\n",
      "Epoch 140/500\n",
      "24/24 [==============================] - 0s 4ms/step - loss: 409.0256 - val_loss: 1863.0148\n",
      "Epoch 141/500\n",
      "24/24 [==============================] - 0s 5ms/step - loss: 408.8145 - val_loss: 1865.9872\n",
      "Epoch 142/500\n",
      "24/24 [==============================] - 0s 4ms/step - loss: 408.6192 - val_loss: 1868.8380\n",
      "Epoch 143/500\n",
      "24/24 [==============================] - 0s 4ms/step - loss: 408.4386 - val_loss: 1871.5704\n",
      "Epoch 144/500\n",
      "24/24 [==============================] - 0s 4ms/step - loss: 408.2714 - val_loss: 1874.1888\n",
      "Epoch 145/500\n",
      "24/24 [==============================] - 0s 4ms/step - loss: 408.1169 - val_loss: 1876.6967\n",
      "Epoch 146/500\n",
      "24/24 [==============================] - 0s 5ms/step - loss: 407.9738 - val_loss: 1879.0970\n",
      "Epoch 147/500\n",
      "24/24 [==============================] - 0s 4ms/step - loss: 407.8415 - val_loss: 1881.3938\n",
      "Epoch 148/500\n",
      "24/24 [==============================] - 0s 5ms/step - loss: 407.7192 - val_loss: 1883.5905\n",
      "Epoch 149/500\n",
      "24/24 [==============================] - 0s 5ms/step - loss: 407.6060 - val_loss: 1885.6895\n",
      "Epoch 150/500\n",
      "24/24 [==============================] - 0s 11ms/step - loss: 407.5012 - val_loss: 1887.6951\n",
      "Epoch 151/500\n",
      "24/24 [==============================] - 0s 4ms/step - loss: 407.4044 - val_loss: 1889.6107\n",
      "Epoch 152/500\n",
      "24/24 [==============================] - 0s 5ms/step - loss: 407.3148 - val_loss: 1891.4391\n",
      "Epoch 153/500\n",
      "24/24 [==============================] - 0s 5ms/step - loss: 407.2319 - val_loss: 1893.1824\n",
      "Epoch 154/500\n",
      "24/24 [==============================] - 0s 5ms/step - loss: 407.1552 - val_loss: 1894.8467\n",
      "Epoch 155/500\n",
      "24/24 [==============================] - 0s 6ms/step - loss: 407.0842 - val_loss: 1896.4324\n",
      "Epoch 156/500\n",
      "24/24 [==============================] - 0s 5ms/step - loss: 407.0184 - val_loss: 1897.9437\n",
      "Epoch 157/500\n",
      "24/24 [==============================] - 0s 7ms/step - loss: 406.9576 - val_loss: 1899.3831\n",
      "Epoch 158/500\n",
      "24/24 [==============================] - 0s 5ms/step - loss: 406.9012 - val_loss: 1900.7529\n",
      "Epoch 159/500\n",
      "24/24 [==============================] - 0s 5ms/step - loss: 406.8490 - val_loss: 1902.0569\n",
      "Epoch 160/500\n",
      "24/24 [==============================] - 0s 4ms/step - loss: 406.8008 - val_loss: 1903.2972\n",
      "Epoch 161/500\n",
      "24/24 [==============================] - 0s 4ms/step - loss: 406.7560 - val_loss: 1904.4767\n",
      "Epoch 162/500\n",
      "24/24 [==============================] - 0s 4ms/step - loss: 406.7145 - val_loss: 1905.5974\n",
      "Epoch 163/500\n",
      "24/24 [==============================] - 0s 4ms/step - loss: 406.6761 - val_loss: 1906.6630\n",
      "Epoch 164/500\n",
      "24/24 [==============================] - 0s 4ms/step - loss: 406.6404 - val_loss: 1907.6741\n",
      "Epoch 165/500\n",
      "24/24 [==============================] - 0s 4ms/step - loss: 406.6075 - val_loss: 1908.6339\n",
      "Epoch 166/500\n",
      "24/24 [==============================] - 0s 4ms/step - loss: 406.5768 - val_loss: 1909.5450\n",
      "Epoch 167/500\n",
      "24/24 [==============================] - 0s 5ms/step - loss: 406.5485 - val_loss: 1910.4097\n",
      "Epoch 168/500\n",
      "24/24 [==============================] - 0s 4ms/step - loss: 406.5223 - val_loss: 1911.2290\n",
      "Epoch 169/500\n",
      "24/24 [==============================] - 0s 4ms/step - loss: 406.4979 - val_loss: 1912.0062\n",
      "Epoch 170/500\n",
      "24/24 [==============================] - 0s 5ms/step - loss: 406.4753 - val_loss: 1912.7421\n",
      "Epoch 171/500\n",
      "24/24 [==============================] - 0s 5ms/step - loss: 406.4543 - val_loss: 1913.4395\n",
      "Epoch 172/500\n",
      "24/24 [==============================] - 0s 5ms/step - loss: 406.4349 - val_loss: 1914.1005\n",
      "Epoch 173/500\n",
      "24/24 [==============================] - 0s 5ms/step - loss: 406.4169 - val_loss: 1914.7250\n",
      "Epoch 174/500\n",
      "24/24 [==============================] - 0s 5ms/step - loss: 406.4002 - val_loss: 1915.3171\n",
      "Epoch 175/500\n",
      "24/24 [==============================] - 0s 4ms/step - loss: 406.3847 - val_loss: 1915.8760\n",
      "Epoch 176/500\n",
      "24/24 [==============================] - 0s 4ms/step - loss: 406.3703 - val_loss: 1916.4052\n",
      "Epoch 177/500\n",
      "24/24 [==============================] - 0s 5ms/step - loss: 406.3571 - val_loss: 1916.9053\n",
      "Epoch 178/500\n",
      "24/24 [==============================] - 0s 4ms/step - loss: 406.3447 - val_loss: 1917.3779\n",
      "Epoch 179/500\n",
      "24/24 [==============================] - 0s 4ms/step - loss: 406.3333 - val_loss: 1917.8242\n",
      "Epoch 180/500\n",
      "24/24 [==============================] - 0s 4ms/step - loss: 406.3227 - val_loss: 1918.2463\n",
      "Epoch 181/500\n",
      "24/24 [==============================] - 0s 7ms/step - loss: 406.3128 - val_loss: 1918.6436\n",
      "Epoch 182/500\n",
      "24/24 [==============================] - 0s 5ms/step - loss: 406.3037 - val_loss: 1919.0195\n",
      "Epoch 183/500\n",
      "24/24 [==============================] - 0s 4ms/step - loss: 406.2953 - val_loss: 1919.3745\n",
      "Epoch 184/500\n",
      "24/24 [==============================] - 0s 5ms/step - loss: 406.2876 - val_loss: 1919.7083\n",
      "Epoch 185/500\n",
      "24/24 [==============================] - 0s 4ms/step - loss: 406.2803 - val_loss: 1920.0242\n",
      "Epoch 186/500\n",
      "24/24 [==============================] - 0s 4ms/step - loss: 406.2736 - val_loss: 1920.3219\n",
      "Epoch 187/500\n",
      "24/24 [==============================] - 0s 5ms/step - loss: 406.2675 - val_loss: 1920.6018\n",
      "Epoch 188/500\n",
      "24/24 [==============================] - 0s 5ms/step - loss: 406.2618 - val_loss: 1920.8660\n",
      "Epoch 189/500\n",
      "24/24 [==============================] - 0s 4ms/step - loss: 406.2566 - val_loss: 1921.1136\n",
      "Epoch 190/500\n",
      "24/24 [==============================] - 0s 7ms/step - loss: 406.2518 - val_loss: 1921.3480\n",
      "Epoch 191/500\n",
      "24/24 [==============================] - 0s 12ms/step - loss: 406.2473 - val_loss: 1921.5687\n",
      "Epoch 192/500\n",
      "24/24 [==============================] - 0s 5ms/step - loss: 406.2432 - val_loss: 1921.7756\n",
      "Epoch 193/500\n",
      "24/24 [==============================] - 0s 4ms/step - loss: 406.2394 - val_loss: 1921.9711\n",
      "Epoch 194/500\n",
      "24/24 [==============================] - 0s 4ms/step - loss: 406.2360 - val_loss: 1922.1547\n",
      "Epoch 195/500\n",
      "24/24 [==============================] - 0s 5ms/step - loss: 406.2327 - val_loss: 1922.3275\n",
      "Epoch 196/500\n",
      "24/24 [==============================] - 0s 4ms/step - loss: 406.2299 - val_loss: 1922.4905\n",
      "Epoch 197/500\n",
      "24/24 [==============================] - 0s 4ms/step - loss: 406.2272 - val_loss: 1922.6428\n",
      "Epoch 198/500\n",
      "24/24 [==============================] - 0s 4ms/step - loss: 406.2248 - val_loss: 1922.7856\n",
      "Epoch 199/500\n",
      "24/24 [==============================] - 0s 4ms/step - loss: 406.2226 - val_loss: 1922.9210\n",
      "Epoch 200/500\n",
      "24/24 [==============================] - 0s 4ms/step - loss: 406.2206 - val_loss: 1923.0470\n",
      "Epoch 201/500\n",
      "24/24 [==============================] - 0s 5ms/step - loss: 406.2188 - val_loss: 1923.1652\n",
      "Epoch 202/500\n",
      "24/24 [==============================] - 0s 4ms/step - loss: 406.2171 - val_loss: 1923.2776\n",
      "Epoch 203/500\n",
      "24/24 [==============================] - 0s 4ms/step - loss: 406.2156 - val_loss: 1923.3817\n",
      "Epoch 204/500\n",
      "24/24 [==============================] - 0s 5ms/step - loss: 406.2144 - val_loss: 1923.4810\n",
      "Epoch 205/500\n",
      "24/24 [==============================] - 0s 4ms/step - loss: 406.2132 - val_loss: 1923.5730\n",
      "Epoch 206/500\n",
      "24/24 [==============================] - 0s 4ms/step - loss: 406.2121 - val_loss: 1923.6594\n",
      "Epoch 207/500\n",
      "24/24 [==============================] - 0s 5ms/step - loss: 406.2112 - val_loss: 1923.7406\n",
      "Epoch 208/500\n",
      "24/24 [==============================] - 0s 4ms/step - loss: 406.2103 - val_loss: 1923.8158\n",
      "Epoch 209/500\n",
      "24/24 [==============================] - 0s 4ms/step - loss: 406.2096 - val_loss: 1923.8870\n",
      "Epoch 210/500\n",
      "24/24 [==============================] - 0s 5ms/step - loss: 406.2090 - val_loss: 1923.9542\n",
      "Epoch 211/500\n",
      "24/24 [==============================] - 0s 4ms/step - loss: 406.2085 - val_loss: 1924.0171\n",
      "Epoch 212/500\n",
      "24/24 [==============================] - 0s 4ms/step - loss: 406.2081 - val_loss: 1924.0758\n",
      "Epoch 213/500\n",
      "24/24 [==============================] - 0s 4ms/step - loss: 406.2076 - val_loss: 1924.1312\n",
      "Epoch 214/500\n",
      "24/24 [==============================] - 0s 3ms/step - loss: 406.2073 - val_loss: 1924.1823\n",
      "Epoch 215/500\n",
      "24/24 [==============================] - 0s 4ms/step - loss: 406.2070 - val_loss: 1924.2306\n",
      "Epoch 216/500\n",
      "24/24 [==============================] - 0s 4ms/step - loss: 406.2069 - val_loss: 1924.2756\n",
      "Epoch 217/500\n",
      "24/24 [==============================] - 0s 4ms/step - loss: 406.2068 - val_loss: 1924.3181\n",
      "Epoch 218/500\n",
      "24/24 [==============================] - 0s 4ms/step - loss: 406.2067 - val_loss: 1924.3584\n",
      "Epoch 219/500\n",
      "24/24 [==============================] - 0s 4ms/step - loss: 406.2067 - val_loss: 1924.3950\n",
      "Epoch 220/500\n",
      "24/24 [==============================] - 0s 5ms/step - loss: 406.2067 - val_loss: 1924.4299\n",
      "Epoch 221/500\n",
      "24/24 [==============================] - 0s 4ms/step - loss: 406.2068 - val_loss: 1924.4622\n",
      "Epoch 222/500\n",
      "24/24 [==============================] - 0s 4ms/step - loss: 406.2068 - val_loss: 1924.4928\n",
      "Epoch 223/500\n",
      "24/24 [==============================] - 0s 10ms/step - loss: 406.2069 - val_loss: 1924.5204\n",
      "Epoch 224/500\n",
      "24/24 [==============================] - 0s 4ms/step - loss: 406.2071 - val_loss: 1924.5475\n",
      "Epoch 225/500\n",
      "24/24 [==============================] - 0s 4ms/step - loss: 406.2073 - val_loss: 1924.5717\n",
      "Epoch 226/500\n",
      "24/24 [==============================] - 0s 4ms/step - loss: 406.2075 - val_loss: 1924.5951\n",
      "Epoch 227/500\n",
      "24/24 [==============================] - 0s 5ms/step - loss: 406.2077 - val_loss: 1924.6163\n",
      "Epoch 228/500\n",
      "24/24 [==============================] - 0s 4ms/step - loss: 406.2080 - val_loss: 1924.6373\n",
      "Epoch 229/500\n",
      "24/24 [==============================] - 0s 4ms/step - loss: 406.2082 - val_loss: 1924.6559\n",
      "Epoch 230/500\n",
      "24/24 [==============================] - 0s 5ms/step - loss: 406.2086 - val_loss: 1924.6735\n",
      "Epoch 231/500\n",
      "24/24 [==============================] - 0s 4ms/step - loss: 406.2089 - val_loss: 1924.6895\n",
      "Epoch 232/500\n",
      "24/24 [==============================] - 0s 4ms/step - loss: 406.2092 - val_loss: 1924.7054\n",
      "Epoch 233/500\n",
      "24/24 [==============================] - 0s 5ms/step - loss: 406.2096 - val_loss: 1924.7201\n",
      "Epoch 234/500\n",
      "24/24 [==============================] - 0s 5ms/step - loss: 406.2098 - val_loss: 1924.7335\n",
      "Epoch 235/500\n",
      "24/24 [==============================] - 0s 4ms/step - loss: 406.2102 - val_loss: 1924.7461\n",
      "Epoch 236/500\n",
      "24/24 [==============================] - 0s 4ms/step - loss: 406.2105 - val_loss: 1924.7577\n",
      "Epoch 237/500\n",
      "24/24 [==============================] - 0s 4ms/step - loss: 406.2109 - val_loss: 1924.7681\n",
      "Epoch 238/500\n",
      "24/24 [==============================] - 0s 5ms/step - loss: 406.2113 - val_loss: 1924.7780\n",
      "Epoch 239/500\n",
      "24/24 [==============================] - 0s 5ms/step - loss: 406.2116 - val_loss: 1924.7878\n",
      "Epoch 240/500\n",
      "24/24 [==============================] - 0s 5ms/step - loss: 406.2120 - val_loss: 1924.7965\n",
      "Epoch 241/500\n",
      "24/24 [==============================] - 0s 4ms/step - loss: 406.2124 - val_loss: 1924.8041\n",
      "Epoch 242/500\n",
      "24/24 [==============================] - 0s 5ms/step - loss: 406.2129 - val_loss: 1924.8119\n",
      "Epoch 243/500\n",
      "24/24 [==============================] - 0s 5ms/step - loss: 406.2132 - val_loss: 1924.8192\n",
      "Epoch 244/500\n",
      "24/24 [==============================] - 0s 5ms/step - loss: 406.2136 - val_loss: 1924.8262\n",
      "Epoch 245/500\n",
      "24/24 [==============================] - 0s 6ms/step - loss: 406.2139 - val_loss: 1924.8323\n",
      "Epoch 246/500\n",
      "24/24 [==============================] - 0s 5ms/step - loss: 406.2144 - val_loss: 1924.8389\n",
      "Epoch 247/500\n",
      "24/24 [==============================] - 0s 5ms/step - loss: 406.2147 - val_loss: 1924.8436\n",
      "Epoch 248/500\n",
      "24/24 [==============================] - 0s 4ms/step - loss: 406.2152 - val_loss: 1924.8495\n",
      "Epoch 249/500\n",
      "24/24 [==============================] - 0s 4ms/step - loss: 406.2154 - val_loss: 1924.8531\n",
      "Epoch 250/500\n",
      "24/24 [==============================] - 0s 4ms/step - loss: 406.2158 - val_loss: 1924.8584\n",
      "Epoch 251/500\n",
      "24/24 [==============================] - 0s 4ms/step - loss: 406.2162 - val_loss: 1924.8621\n",
      "Epoch 252/500\n",
      "24/24 [==============================] - 0s 4ms/step - loss: 406.2166 - val_loss: 1924.8655\n",
      "Epoch 253/500\n",
      "24/24 [==============================] - 0s 5ms/step - loss: 406.2169 - val_loss: 1924.8690\n",
      "Epoch 254/500\n",
      "24/24 [==============================] - 0s 15ms/step - loss: 406.2173 - val_loss: 1924.8723\n",
      "Epoch 255/500\n",
      "24/24 [==============================] - 0s 5ms/step - loss: 406.2176 - val_loss: 1924.8746\n",
      "Epoch 256/500\n",
      "24/24 [==============================] - 0s 5ms/step - loss: 406.2180 - val_loss: 1924.8779\n",
      "Epoch 257/500\n",
      "24/24 [==============================] - 0s 5ms/step - loss: 406.2184 - val_loss: 1924.8816\n",
      "Epoch 258/500\n",
      "24/24 [==============================] - 0s 5ms/step - loss: 406.2188 - val_loss: 1924.8834\n",
      "Epoch 259/500\n",
      "24/24 [==============================] - 0s 6ms/step - loss: 406.2191 - val_loss: 1924.8855\n",
      "Epoch 260/500\n",
      "24/24 [==============================] - 0s 7ms/step - loss: 406.2194 - val_loss: 1924.8879\n",
      "Epoch 261/500\n",
      "24/24 [==============================] - 0s 6ms/step - loss: 406.2197 - val_loss: 1924.8901\n",
      "Epoch 262/500\n",
      "24/24 [==============================] - 0s 5ms/step - loss: 406.2201 - val_loss: 1924.8921\n",
      "Epoch 263/500\n",
      "24/24 [==============================] - 0s 5ms/step - loss: 406.2204 - val_loss: 1924.8934\n",
      "Epoch 264/500\n",
      "24/24 [==============================] - 0s 6ms/step - loss: 406.2207 - val_loss: 1924.8948\n",
      "Epoch 265/500\n",
      "24/24 [==============================] - 0s 5ms/step - loss: 406.2210 - val_loss: 1924.8962\n",
      "Epoch 266/500\n",
      "24/24 [==============================] - 0s 5ms/step - loss: 406.2213 - val_loss: 1924.8977\n",
      "Epoch 267/500\n",
      "24/24 [==============================] - 0s 5ms/step - loss: 406.2217 - val_loss: 1924.8987\n",
      "Epoch 268/500\n",
      "24/24 [==============================] - 0s 5ms/step - loss: 406.2218 - val_loss: 1924.9000\n",
      "Epoch 269/500\n",
      "24/24 [==============================] - 0s 5ms/step - loss: 406.2222 - val_loss: 1924.9010\n",
      "Epoch 270/500\n",
      "24/24 [==============================] - 0s 4ms/step - loss: 406.2224 - val_loss: 1924.9020\n",
      "Epoch 271/500\n",
      "24/24 [==============================] - 0s 4ms/step - loss: 406.2228 - val_loss: 1924.9030\n",
      "Epoch 272/500\n",
      "24/24 [==============================] - 0s 5ms/step - loss: 406.2231 - val_loss: 1924.9041\n",
      "Epoch 273/500\n",
      "24/24 [==============================] - 0s 5ms/step - loss: 406.2234 - val_loss: 1924.9048\n",
      "Epoch 274/500\n",
      "24/24 [==============================] - 0s 4ms/step - loss: 406.2236 - val_loss: 1924.9053\n",
      "Epoch 275/500\n",
      "24/24 [==============================] - 0s 4ms/step - loss: 406.2238 - val_loss: 1924.9058\n",
      "Epoch 276/500\n",
      "24/24 [==============================] - 0s 4ms/step - loss: 406.2242 - val_loss: 1924.9062\n",
      "Epoch 277/500\n",
      "24/24 [==============================] - 0s 5ms/step - loss: 406.2244 - val_loss: 1924.9067\n",
      "Epoch 278/500\n",
      "24/24 [==============================] - 0s 6ms/step - loss: 406.2247 - val_loss: 1924.9078\n",
      "Epoch 279/500\n",
      "24/24 [==============================] - 0s 5ms/step - loss: 406.2248 - val_loss: 1924.9087\n",
      "Epoch 280/500\n",
      "24/24 [==============================] - 0s 5ms/step - loss: 406.2251 - val_loss: 1924.9089\n",
      "Epoch 281/500\n",
      "24/24 [==============================] - 0s 5ms/step - loss: 406.2254 - val_loss: 1924.9097\n",
      "Epoch 282/500\n",
      "24/24 [==============================] - 0s 13ms/step - loss: 406.2256 - val_loss: 1924.9102\n",
      "Epoch 283/500\n",
      "24/24 [==============================] - 0s 5ms/step - loss: 406.2258 - val_loss: 1924.9111\n",
      "Epoch 284/500\n",
      "24/24 [==============================] - 0s 6ms/step - loss: 406.2260 - val_loss: 1924.9115\n",
      "Epoch 285/500\n",
      "24/24 [==============================] - 0s 5ms/step - loss: 406.2262 - val_loss: 1924.9119\n",
      "Epoch 286/500\n",
      "24/24 [==============================] - 0s 6ms/step - loss: 406.2263 - val_loss: 1924.9120\n",
      "Epoch 287/500\n",
      "24/24 [==============================] - 0s 6ms/step - loss: 406.2266 - val_loss: 1924.9124\n",
      "Epoch 288/500\n",
      "24/24 [==============================] - 0s 5ms/step - loss: 406.2268 - val_loss: 1924.9124\n",
      "Epoch 289/500\n",
      "24/24 [==============================] - 0s 4ms/step - loss: 406.2271 - val_loss: 1924.9128\n",
      "Epoch 290/500\n",
      "24/24 [==============================] - 0s 4ms/step - loss: 406.2273 - val_loss: 1924.9132\n",
      "Epoch 291/500\n",
      "24/24 [==============================] - 0s 5ms/step - loss: 406.2274 - val_loss: 1924.9135\n",
      "Epoch 292/500\n",
      "24/24 [==============================] - 0s 5ms/step - loss: 406.2277 - val_loss: 1924.9139\n",
      "Epoch 293/500\n",
      "24/24 [==============================] - 0s 5ms/step - loss: 406.2278 - val_loss: 1924.9143\n",
      "Epoch 294/500\n",
      "24/24 [==============================] - 0s 4ms/step - loss: 406.2280 - val_loss: 1924.9144\n",
      "Epoch 295/500\n",
      "24/24 [==============================] - 0s 5ms/step - loss: 406.2281 - val_loss: 1924.9149\n",
      "Epoch 296/500\n",
      "24/24 [==============================] - 0s 4ms/step - loss: 406.2283 - val_loss: 1924.9149\n",
      "Epoch 297/500\n",
      "24/24 [==============================] - 0s 4ms/step - loss: 406.2285 - val_loss: 1924.9149\n",
      "Epoch 298/500\n",
      "24/24 [==============================] - 0s 4ms/step - loss: 406.2286 - val_loss: 1924.9148\n",
      "Epoch 299/500\n",
      "24/24 [==============================] - 0s 4ms/step - loss: 406.2288 - val_loss: 1924.9148\n",
      "Epoch 300/500\n",
      "24/24 [==============================] - 0s 5ms/step - loss: 406.2290 - val_loss: 1924.9148\n",
      "Epoch 301/500\n",
      "24/24 [==============================] - 0s 4ms/step - loss: 406.2292 - val_loss: 1924.9148\n",
      "Epoch 302/500\n",
      "24/24 [==============================] - 0s 5ms/step - loss: 406.2293 - val_loss: 1924.9148\n",
      "Epoch 303/500\n",
      "24/24 [==============================] - 0s 5ms/step - loss: 406.2294 - val_loss: 1924.9147\n",
      "Epoch 304/500\n",
      "24/24 [==============================] - 0s 5ms/step - loss: 406.2296 - val_loss: 1924.9148\n",
      "Epoch 305/500\n",
      "24/24 [==============================] - 0s 5ms/step - loss: 406.2297 - val_loss: 1924.9147\n",
      "Epoch 306/500\n",
      "24/24 [==============================] - 0s 4ms/step - loss: 406.2299 - val_loss: 1924.9148\n",
      "Epoch 307/500\n",
      "24/24 [==============================] - 0s 4ms/step - loss: 406.2299 - val_loss: 1924.9153\n",
      "Epoch 308/500\n",
      "24/24 [==============================] - 0s 5ms/step - loss: 406.2300 - val_loss: 1924.9154\n",
      "Epoch 309/500\n",
      "24/24 [==============================] - 0s 4ms/step - loss: 406.2301 - val_loss: 1924.9161\n",
      "Epoch 310/500\n",
      "24/24 [==============================] - 0s 13ms/step - loss: 406.2303 - val_loss: 1924.9165\n",
      "Epoch 311/500\n",
      "24/24 [==============================] - 0s 5ms/step - loss: 406.2303 - val_loss: 1924.9165\n",
      "Epoch 312/500\n",
      "24/24 [==============================] - 0s 5ms/step - loss: 406.2306 - val_loss: 1924.9167\n",
      "Epoch 313/500\n",
      "24/24 [==============================] - 0s 5ms/step - loss: 406.2307 - val_loss: 1924.9170\n",
      "Epoch 314/500\n",
      "24/24 [==============================] - 0s 5ms/step - loss: 406.2308 - val_loss: 1924.9171\n",
      "Epoch 315/500\n",
      "24/24 [==============================] - 0s 5ms/step - loss: 406.2309 - val_loss: 1924.9171\n",
      "Epoch 316/500\n",
      "24/24 [==============================] - 0s 4ms/step - loss: 406.2310 - val_loss: 1924.9170\n",
      "Epoch 317/500\n",
      "24/24 [==============================] - 0s 5ms/step - loss: 406.2312 - val_loss: 1924.9175\n",
      "Epoch 318/500\n",
      "24/24 [==============================] - 0s 5ms/step - loss: 406.2313 - val_loss: 1924.9176\n",
      "Epoch 319/500\n",
      "24/24 [==============================] - 0s 5ms/step - loss: 406.2313 - val_loss: 1924.9172\n",
      "Epoch 320/500\n",
      "24/24 [==============================] - 0s 4ms/step - loss: 406.2315 - val_loss: 1924.9177\n",
      "Epoch 321/500\n",
      "24/24 [==============================] - 0s 4ms/step - loss: 406.2315 - val_loss: 1924.9181\n",
      "Epoch 322/500\n",
      "24/24 [==============================] - 0s 5ms/step - loss: 406.2315 - val_loss: 1924.9180\n",
      "Epoch 323/500\n",
      "24/24 [==============================] - 0s 5ms/step - loss: 406.2317 - val_loss: 1924.9181\n",
      "Epoch 324/500\n",
      "24/24 [==============================] - 0s 5ms/step - loss: 406.2318 - val_loss: 1924.9182\n",
      "Epoch 325/500\n",
      "24/24 [==============================] - 0s 5ms/step - loss: 406.2319 - val_loss: 1924.9185\n",
      "Epoch 326/500\n",
      "24/24 [==============================] - 0s 4ms/step - loss: 406.2320 - val_loss: 1924.9186\n",
      "Epoch 327/500\n",
      "24/24 [==============================] - 0s 6ms/step - loss: 406.2321 - val_loss: 1924.9185\n",
      "Epoch 328/500\n",
      "24/24 [==============================] - 0s 6ms/step - loss: 406.2321 - val_loss: 1924.9187\n",
      "Epoch 329/500\n",
      "24/24 [==============================] - 0s 5ms/step - loss: 406.2322 - val_loss: 1924.9191\n",
      "Epoch 330/500\n",
      "24/24 [==============================] - 0s 5ms/step - loss: 406.2324 - val_loss: 1924.9194\n",
      "Epoch 331/500\n",
      "24/24 [==============================] - 0s 5ms/step - loss: 406.2324 - val_loss: 1924.9197\n",
      "Epoch 332/500\n",
      "24/24 [==============================] - 0s 5ms/step - loss: 406.2325 - val_loss: 1924.9197\n",
      "Epoch 333/500\n",
      "24/24 [==============================] - 0s 5ms/step - loss: 406.2325 - val_loss: 1924.9200\n",
      "Epoch 334/500\n",
      "24/24 [==============================] - 0s 6ms/step - loss: 406.2326 - val_loss: 1924.9200\n",
      "Epoch 335/500\n",
      "24/24 [==============================] - 0s 5ms/step - loss: 406.2326 - val_loss: 1924.9204\n",
      "Epoch 336/500\n",
      "24/24 [==============================] - 0s 5ms/step - loss: 406.2328 - val_loss: 1924.9205\n",
      "Epoch 337/500\n",
      "24/24 [==============================] - 0s 11ms/step - loss: 406.2329 - val_loss: 1924.9210\n",
      "Epoch 338/500\n",
      "24/24 [==============================] - 0s 6ms/step - loss: 406.2329 - val_loss: 1924.9214\n",
      "Epoch 339/500\n",
      "24/24 [==============================] - 0s 6ms/step - loss: 406.2329 - val_loss: 1924.9218\n",
      "Epoch 340/500\n",
      "24/24 [==============================] - 0s 5ms/step - loss: 406.2329 - val_loss: 1924.9219\n",
      "Epoch 341/500\n",
      "24/24 [==============================] - 0s 4ms/step - loss: 406.2331 - val_loss: 1924.9220\n",
      "Epoch 342/500\n",
      "24/24 [==============================] - 0s 4ms/step - loss: 406.2332 - val_loss: 1924.9229\n",
      "Epoch 343/500\n",
      "24/24 [==============================] - 0s 5ms/step - loss: 406.2332 - val_loss: 1924.9233\n",
      "Epoch 344/500\n",
      "24/24 [==============================] - 0s 5ms/step - loss: 406.2332 - val_loss: 1924.9238\n",
      "Epoch 345/500\n",
      "24/24 [==============================] - 0s 8ms/step - loss: 406.2332 - val_loss: 1924.9241\n",
      "Epoch 346/500\n",
      "24/24 [==============================] - 0s 7ms/step - loss: 406.2332 - val_loss: 1924.9243\n",
      "Epoch 347/500\n",
      "24/24 [==============================] - 0s 6ms/step - loss: 406.2333 - val_loss: 1924.9247\n",
      "Epoch 348/500\n",
      "24/24 [==============================] - 0s 6ms/step - loss: 406.2334 - val_loss: 1924.9255\n",
      "Epoch 349/500\n",
      "24/24 [==============================] - 0s 8ms/step - loss: 406.2334 - val_loss: 1924.9260\n",
      "Epoch 350/500\n",
      "24/24 [==============================] - 0s 6ms/step - loss: 406.2334 - val_loss: 1924.9268\n",
      "Epoch 351/500\n",
      "24/24 [==============================] - 0s 5ms/step - loss: 406.2334 - val_loss: 1924.9279\n",
      "Epoch 352/500\n",
      "24/24 [==============================] - 0s 6ms/step - loss: 406.2335 - val_loss: 1924.9286\n",
      "Epoch 353/500\n",
      "24/24 [==============================] - 0s 5ms/step - loss: 406.2336 - val_loss: 1924.9296\n",
      "Epoch 354/500\n",
      "24/24 [==============================] - 0s 5ms/step - loss: 406.2336 - val_loss: 1924.9303\n",
      "Epoch 355/500\n",
      "24/24 [==============================] - 0s 5ms/step - loss: 406.2337 - val_loss: 1924.9301\n",
      "Epoch 356/500\n",
      "24/24 [==============================] - 0s 5ms/step - loss: 406.2338 - val_loss: 1924.9185\n",
      "Epoch 357/500\n",
      "24/24 [==============================] - 0s 5ms/step - loss: 406.2338 - val_loss: 1923.7671\n",
      "Epoch 358/500\n",
      "24/24 [==============================] - 0s 5ms/step - loss: 406.3240 - val_loss: 1927.2511\n",
      "Epoch 359/500\n",
      "24/24 [==============================] - 0s 11ms/step - loss: 406.2346 - val_loss: 1927.2627\n",
      "Epoch 360/500\n",
      "24/24 [==============================] - 0s 6ms/step - loss: 406.2334 - val_loss: 1927.2623\n",
      "Epoch 361/500\n",
      "24/24 [==============================] - 0s 5ms/step - loss: 406.2334 - val_loss: 1927.2615\n",
      "Epoch 362/500\n",
      "24/24 [==============================] - 0s 5ms/step - loss: 406.2335 - val_loss: 1927.2589\n",
      "Epoch 363/500\n",
      "24/24 [==============================] - 0s 5ms/step - loss: 406.2336 - val_loss: 1927.2570\n",
      "Epoch 364/500\n",
      "24/24 [==============================] - 0s 4ms/step - loss: 406.2336 - val_loss: 1927.2552\n",
      "Epoch 365/500\n",
      "24/24 [==============================] - 0s 4ms/step - loss: 406.2337 - val_loss: 1927.2548\n",
      "Epoch 366/500\n",
      "24/24 [==============================] - 0s 4ms/step - loss: 406.2336 - val_loss: 1927.2529\n",
      "Epoch 367/500\n",
      "24/24 [==============================] - 0s 5ms/step - loss: 406.2337 - val_loss: 1927.2522\n",
      "Epoch 368/500\n",
      "24/24 [==============================] - 0s 5ms/step - loss: 406.2338 - val_loss: 1927.2506\n",
      "Epoch 369/500\n",
      "24/24 [==============================] - 0s 5ms/step - loss: 406.2339 - val_loss: 1927.2496\n",
      "Epoch 370/500\n",
      "24/24 [==============================] - 0s 5ms/step - loss: 406.2340 - val_loss: 1927.2484\n",
      "Epoch 371/500\n",
      "24/24 [==============================] - 0s 4ms/step - loss: 406.2340 - val_loss: 1927.2473\n",
      "Epoch 372/500\n",
      "24/24 [==============================] - 0s 4ms/step - loss: 406.2340 - val_loss: 1927.2467\n",
      "Epoch 373/500\n",
      "24/24 [==============================] - 0s 5ms/step - loss: 406.2341 - val_loss: 1927.2457\n",
      "Epoch 374/500\n",
      "24/24 [==============================] - 0s 4ms/step - loss: 406.2342 - val_loss: 1927.2451\n",
      "Epoch 375/500\n",
      "24/24 [==============================] - 0s 5ms/step - loss: 406.2342 - val_loss: 1927.2446\n",
      "Epoch 376/500\n",
      "24/24 [==============================] - 0s 4ms/step - loss: 406.2342 - val_loss: 1927.2439\n",
      "Epoch 377/500\n",
      "24/24 [==============================] - 0s 4ms/step - loss: 406.2343 - val_loss: 1927.2433\n",
      "Epoch 378/500\n",
      "24/24 [==============================] - 0s 4ms/step - loss: 406.2343 - val_loss: 1927.2428\n",
      "Epoch 379/500\n",
      "24/24 [==============================] - 0s 5ms/step - loss: 406.2343 - val_loss: 1927.2418\n",
      "Epoch 380/500\n",
      "24/24 [==============================] - 0s 5ms/step - loss: 406.2343 - val_loss: 1927.2411\n",
      "Epoch 381/500\n",
      "24/24 [==============================] - 0s 4ms/step - loss: 406.2343 - val_loss: 1927.2401\n",
      "Epoch 382/500\n",
      "24/24 [==============================] - 0s 5ms/step - loss: 406.2345 - val_loss: 1927.2396\n",
      "Epoch 383/500\n",
      "24/24 [==============================] - 0s 4ms/step - loss: 406.2345 - val_loss: 1927.2391\n",
      "Epoch 384/500\n",
      "24/24 [==============================] - 0s 8ms/step - loss: 406.2345 - val_loss: 1927.2388\n",
      "Epoch 385/500\n",
      "24/24 [==============================] - 0s 6ms/step - loss: 406.2345 - val_loss: 1927.2388\n",
      "Epoch 386/500\n",
      "24/24 [==============================] - 0s 5ms/step - loss: 406.2345 - val_loss: 1927.2388\n",
      "Epoch 387/500\n",
      "24/24 [==============================] - 0s 5ms/step - loss: 406.2346 - val_loss: 1927.2391\n",
      "Epoch 388/500\n",
      "24/24 [==============================] - 0s 4ms/step - loss: 406.2346 - val_loss: 1927.2385\n",
      "Epoch 389/500\n",
      "24/24 [==============================] - 0s 4ms/step - loss: 406.2346 - val_loss: 1927.2380\n",
      "Epoch 390/500\n",
      "24/24 [==============================] - 0s 4ms/step - loss: 406.2347 - val_loss: 1927.2373\n",
      "Epoch 391/500\n",
      "24/24 [==============================] - 0s 4ms/step - loss: 406.2348 - val_loss: 1927.2363\n",
      "Epoch 392/500\n",
      "24/24 [==============================] - 0s 4ms/step - loss: 406.2348 - val_loss: 1927.2362\n",
      "Epoch 393/500\n",
      "24/24 [==============================] - 0s 4ms/step - loss: 406.2348 - val_loss: 1927.2358\n",
      "Epoch 394/500\n",
      "24/24 [==============================] - 0s 4ms/step - loss: 406.2349 - val_loss: 1927.2358\n",
      "Epoch 395/500\n",
      "24/24 [==============================] - 0s 5ms/step - loss: 406.2349 - val_loss: 1927.2362\n",
      "Epoch 396/500\n",
      "24/24 [==============================] - 0s 4ms/step - loss: 406.2349 - val_loss: 1927.2360\n",
      "Epoch 397/500\n",
      "24/24 [==============================] - 0s 4ms/step - loss: 406.2350 - val_loss: 1927.2362\n",
      "Epoch 398/500\n",
      "24/24 [==============================] - 0s 4ms/step - loss: 406.2350 - val_loss: 1927.2366\n",
      "Epoch 399/500\n",
      "24/24 [==============================] - 0s 4ms/step - loss: 406.2350 - val_loss: 1927.2366\n",
      "Epoch 400/500\n",
      "24/24 [==============================] - 0s 4ms/step - loss: 406.2350 - val_loss: 1927.2362\n",
      "Epoch 401/500\n",
      "24/24 [==============================] - 0s 4ms/step - loss: 406.2350 - val_loss: 1927.2358\n",
      "Epoch 402/500\n",
      "24/24 [==============================] - 0s 4ms/step - loss: 406.2350 - val_loss: 1927.2357\n",
      "Epoch 403/500\n",
      "24/24 [==============================] - 0s 4ms/step - loss: 406.2350 - val_loss: 1927.2355\n",
      "Epoch 404/500\n",
      "24/24 [==============================] - 0s 4ms/step - loss: 406.2350 - val_loss: 1927.2355\n",
      "Epoch 405/500\n",
      "24/24 [==============================] - 0s 4ms/step - loss: 406.2350 - val_loss: 1927.2358\n",
      "Epoch 406/500\n",
      "24/24 [==============================] - 0s 4ms/step - loss: 406.2350 - val_loss: 1927.2362\n",
      "Epoch 407/500\n",
      "24/24 [==============================] - 0s 4ms/step - loss: 406.2350 - val_loss: 1927.2366\n",
      "Epoch 408/500\n",
      "24/24 [==============================] - 0s 4ms/step - loss: 406.2350 - val_loss: 1927.2366\n",
      "Epoch 409/500\n",
      "24/24 [==============================] - 0s 10ms/step - loss: 406.2350 - val_loss: 1927.2362\n",
      "Epoch 410/500\n",
      "24/24 [==============================] - 0s 7ms/step - loss: 406.2350 - val_loss: 1927.2362\n",
      "Epoch 411/500\n",
      "24/24 [==============================] - 0s 5ms/step - loss: 406.2350 - val_loss: 1927.2362\n",
      "Epoch 412/500\n",
      "24/24 [==============================] - 0s 4ms/step - loss: 406.2351 - val_loss: 1927.2362\n",
      "Epoch 413/500\n",
      "24/24 [==============================] - 0s 4ms/step - loss: 406.2350 - val_loss: 1927.2363\n",
      "Epoch 414/500\n",
      "24/24 [==============================] - 0s 4ms/step - loss: 406.2351 - val_loss: 1927.2367\n",
      "Epoch 415/500\n",
      "24/24 [==============================] - 0s 4ms/step - loss: 406.2351 - val_loss: 1927.2368\n",
      "Epoch 416/500\n",
      "24/24 [==============================] - 0s 4ms/step - loss: 406.2351 - val_loss: 1927.2377\n",
      "Epoch 417/500\n",
      "24/24 [==============================] - 0s 4ms/step - loss: 406.2351 - val_loss: 1927.2380\n",
      "Epoch 418/500\n",
      "24/24 [==============================] - 0s 4ms/step - loss: 406.2350 - val_loss: 1927.2378\n",
      "Epoch 419/500\n",
      "24/24 [==============================] - 0s 4ms/step - loss: 406.2350 - val_loss: 1927.2378\n",
      "Epoch 420/500\n",
      "24/24 [==============================] - 0s 4ms/step - loss: 406.2350 - val_loss: 1927.2378\n",
      "Epoch 421/500\n",
      "24/24 [==============================] - 0s 4ms/step - loss: 406.2351 - val_loss: 1927.2378\n",
      "Epoch 422/500\n",
      "24/24 [==============================] - 0s 4ms/step - loss: 406.2352 - val_loss: 1927.2377\n",
      "Epoch 423/500\n",
      "24/24 [==============================] - 0s 4ms/step - loss: 406.2352 - val_loss: 1927.2377\n",
      "Epoch 424/500\n",
      "24/24 [==============================] - 0s 4ms/step - loss: 406.2352 - val_loss: 1927.2372\n",
      "Epoch 425/500\n",
      "24/24 [==============================] - 0s 4ms/step - loss: 406.2351 - val_loss: 1927.2367\n",
      "Epoch 426/500\n",
      "24/24 [==============================] - 0s 4ms/step - loss: 406.2352 - val_loss: 1927.2362\n",
      "Epoch 427/500\n",
      "24/24 [==============================] - 0s 4ms/step - loss: 406.2352 - val_loss: 1927.2357\n",
      "Epoch 428/500\n",
      "24/24 [==============================] - 0s 4ms/step - loss: 406.2352 - val_loss: 1927.2354\n",
      "Epoch 429/500\n",
      "24/24 [==============================] - 0s 4ms/step - loss: 406.2351 - val_loss: 1927.2345\n",
      "Epoch 430/500\n",
      "24/24 [==============================] - 0s 4ms/step - loss: 406.2352 - val_loss: 1927.2335\n",
      "Epoch 431/500\n",
      "24/24 [==============================] - 0s 4ms/step - loss: 406.2352 - val_loss: 1927.2335\n",
      "Epoch 432/500\n",
      "24/24 [==============================] - 0s 7ms/step - loss: 406.2353 - val_loss: 1927.2334\n",
      "Epoch 433/500\n",
      "24/24 [==============================] - 0s 7ms/step - loss: 406.2353 - val_loss: 1927.2330\n",
      "Epoch 434/500\n",
      "24/24 [==============================] - 0s 5ms/step - loss: 406.2352 - val_loss: 1927.2329\n",
      "Epoch 435/500\n",
      "24/24 [==============================] - 0s 5ms/step - loss: 406.2353 - val_loss: 1927.2324\n",
      "Epoch 436/500\n",
      "24/24 [==============================] - 0s 4ms/step - loss: 406.2353 - val_loss: 1927.2322\n",
      "Epoch 437/500\n",
      "24/24 [==============================] - 0s 4ms/step - loss: 406.2353 - val_loss: 1927.2324\n",
      "Epoch 438/500\n",
      "24/24 [==============================] - 0s 4ms/step - loss: 406.2353 - val_loss: 1927.2322\n",
      "Epoch 439/500\n",
      "24/24 [==============================] - 0s 4ms/step - loss: 406.2353 - val_loss: 1927.2322\n",
      "Epoch 440/500\n",
      "24/24 [==============================] - 0s 4ms/step - loss: 406.2353 - val_loss: 1927.2322\n",
      "Epoch 441/500\n",
      "24/24 [==============================] - 0s 4ms/step - loss: 406.2353 - val_loss: 1927.2319\n",
      "Epoch 442/500\n",
      "24/24 [==============================] - 0s 4ms/step - loss: 406.2353 - val_loss: 1927.2319\n",
      "Epoch 443/500\n",
      "24/24 [==============================] - 0s 4ms/step - loss: 406.2353 - val_loss: 1927.2311\n",
      "Epoch 444/500\n",
      "24/24 [==============================] - 0s 4ms/step - loss: 406.2353 - val_loss: 1927.2307\n",
      "Epoch 445/500\n",
      "24/24 [==============================] - 0s 4ms/step - loss: 406.2353 - val_loss: 1927.2300\n",
      "Epoch 446/500\n",
      "24/24 [==============================] - 0s 5ms/step - loss: 406.2353 - val_loss: 1927.2295\n",
      "Epoch 447/500\n",
      "24/24 [==============================] - 0s 4ms/step - loss: 406.2353 - val_loss: 1927.2290\n",
      "Epoch 448/500\n",
      "24/24 [==============================] - 0s 4ms/step - loss: 406.2353 - val_loss: 1927.2286\n",
      "Epoch 449/500\n",
      "24/24 [==============================] - 0s 4ms/step - loss: 406.2354 - val_loss: 1927.2283\n",
      "Epoch 450/500\n",
      "24/24 [==============================] - 0s 4ms/step - loss: 406.2354 - val_loss: 1927.2279\n",
      "Epoch 451/500\n",
      "24/24 [==============================] - 0s 4ms/step - loss: 406.2354 - val_loss: 1927.2277\n",
      "Epoch 452/500\n",
      "24/24 [==============================] - 0s 4ms/step - loss: 406.2354 - val_loss: 1927.2277\n",
      "Epoch 453/500\n",
      "24/24 [==============================] - 0s 4ms/step - loss: 406.2354 - val_loss: 1927.2272\n",
      "Epoch 454/500\n",
      "24/24 [==============================] - 0s 4ms/step - loss: 406.2354 - val_loss: 1927.2272\n",
      "Epoch 455/500\n",
      "24/24 [==============================] - 0s 4ms/step - loss: 406.2354 - val_loss: 1927.2269\n",
      "Epoch 456/500\n",
      "24/24 [==============================] - 0s 10ms/step - loss: 406.2354 - val_loss: 1927.2269\n",
      "Epoch 457/500\n",
      "24/24 [==============================] - 0s 5ms/step - loss: 406.2354 - val_loss: 1927.2267\n",
      "Epoch 458/500\n",
      "24/24 [==============================] - 0s 5ms/step - loss: 406.2354 - val_loss: 1927.2267\n",
      "Epoch 459/500\n",
      "24/24 [==============================] - 0s 4ms/step - loss: 406.2354 - val_loss: 1927.2269\n",
      "Epoch 460/500\n",
      "24/24 [==============================] - 0s 4ms/step - loss: 406.2354 - val_loss: 1927.2272\n",
      "Epoch 461/500\n",
      "24/24 [==============================] - 0s 4ms/step - loss: 406.2354 - val_loss: 1927.2274\n",
      "Epoch 462/500\n",
      "24/24 [==============================] - 0s 4ms/step - loss: 406.2354 - val_loss: 1927.2274\n",
      "Epoch 463/500\n",
      "24/24 [==============================] - 0s 4ms/step - loss: 406.2354 - val_loss: 1927.2279\n",
      "Epoch 464/500\n",
      "24/24 [==============================] - 0s 4ms/step - loss: 406.2354 - val_loss: 1927.2283\n",
      "Epoch 465/500\n",
      "24/24 [==============================] - 0s 4ms/step - loss: 406.2354 - val_loss: 1927.2281\n",
      "Epoch 466/500\n",
      "24/24 [==============================] - 0s 4ms/step - loss: 406.2354 - val_loss: 1927.2283\n",
      "Epoch 467/500\n",
      "24/24 [==============================] - 0s 4ms/step - loss: 406.2354 - val_loss: 1927.2283\n",
      "Epoch 468/500\n",
      "24/24 [==============================] - 0s 4ms/step - loss: 406.2354 - val_loss: 1927.2286\n",
      "Epoch 469/500\n",
      "24/24 [==============================] - 0s 4ms/step - loss: 406.2354 - val_loss: 1927.2288\n",
      "Epoch 470/500\n",
      "24/24 [==============================] - 0s 4ms/step - loss: 406.2354 - val_loss: 1927.2286\n",
      "Epoch 471/500\n",
      "24/24 [==============================] - 0s 4ms/step - loss: 406.2354 - val_loss: 1927.2286\n",
      "Epoch 472/500\n",
      "24/24 [==============================] - 0s 4ms/step - loss: 406.2354 - val_loss: 1927.2283\n",
      "Epoch 473/500\n",
      "24/24 [==============================] - 0s 4ms/step - loss: 406.2354 - val_loss: 1927.2283\n",
      "Epoch 474/500\n",
      "24/24 [==============================] - 0s 4ms/step - loss: 406.2354 - val_loss: 1927.2279\n",
      "Epoch 475/500\n",
      "24/24 [==============================] - 0s 4ms/step - loss: 406.2354 - val_loss: 1927.2278\n",
      "Epoch 476/500\n",
      "24/24 [==============================] - 0s 4ms/step - loss: 406.2354 - val_loss: 1927.2277\n",
      "Epoch 477/500\n",
      "24/24 [==============================] - 0s 4ms/step - loss: 406.2354 - val_loss: 1927.2274\n",
      "Epoch 478/500\n",
      "24/24 [==============================] - 0s 4ms/step - loss: 406.2354 - val_loss: 1927.2273\n",
      "Epoch 479/500\n",
      "24/24 [==============================] - 0s 4ms/step - loss: 406.2354 - val_loss: 1927.2277\n",
      "Epoch 480/500\n",
      "24/24 [==============================] - 0s 9ms/step - loss: 406.2354 - val_loss: 1927.2274\n",
      "Epoch 481/500\n",
      "24/24 [==============================] - 0s 4ms/step - loss: 406.2354 - val_loss: 1927.2272\n",
      "Epoch 482/500\n",
      "24/24 [==============================] - 0s 4ms/step - loss: 406.2354 - val_loss: 1927.2269\n",
      "Epoch 483/500\n",
      "24/24 [==============================] - 0s 5ms/step - loss: 406.2354 - val_loss: 1927.2269\n",
      "Epoch 484/500\n",
      "24/24 [==============================] - 0s 5ms/step - loss: 406.2354 - val_loss: 1927.2269\n",
      "Epoch 485/500\n",
      "24/24 [==============================] - 0s 4ms/step - loss: 406.2354 - val_loss: 1927.2267\n",
      "Epoch 486/500\n",
      "24/24 [==============================] - 0s 4ms/step - loss: 406.2354 - val_loss: 1927.2268\n",
      "Epoch 487/500\n",
      "24/24 [==============================] - 0s 4ms/step - loss: 406.2355 - val_loss: 1927.2269\n",
      "Epoch 488/500\n",
      "24/24 [==============================] - 0s 4ms/step - loss: 406.2354 - val_loss: 1927.2273\n",
      "Epoch 489/500\n",
      "24/24 [==============================] - 0s 4ms/step - loss: 406.2354 - val_loss: 1927.2269\n",
      "Epoch 490/500\n",
      "24/24 [==============================] - 0s 4ms/step - loss: 406.2354 - val_loss: 1927.2273\n",
      "Epoch 491/500\n",
      "24/24 [==============================] - 0s 4ms/step - loss: 406.2354 - val_loss: 1927.2274\n",
      "Epoch 492/500\n",
      "24/24 [==============================] - 0s 4ms/step - loss: 406.2355 - val_loss: 1927.2274\n",
      "Epoch 493/500\n",
      "24/24 [==============================] - 0s 5ms/step - loss: 406.2355 - val_loss: 1927.2269\n",
      "Epoch 494/500\n",
      "24/24 [==============================] - 0s 4ms/step - loss: 406.2355 - val_loss: 1927.2269\n",
      "Epoch 495/500\n",
      "24/24 [==============================] - 0s 4ms/step - loss: 406.2355 - val_loss: 1927.2268\n",
      "Epoch 496/500\n",
      "24/24 [==============================] - 0s 4ms/step - loss: 406.2355 - val_loss: 1927.2267\n",
      "Epoch 497/500\n",
      "24/24 [==============================] - 0s 4ms/step - loss: 406.2355 - val_loss: 1927.2263\n",
      "Epoch 498/500\n",
      "24/24 [==============================] - 0s 4ms/step - loss: 406.2355 - val_loss: 1927.2260\n",
      "Epoch 499/500\n",
      "24/24 [==============================] - 0s 4ms/step - loss: 406.2355 - val_loss: 1927.2258\n",
      "Epoch 500/500\n",
      "24/24 [==============================] - 0s 4ms/step - loss: 406.2355 - val_loss: 1927.2258\n"
     ]
    }
   ],
   "source": [
    "C0 = tf.Variable(86.8407, name=\"C0\", trainable=True, dtype=tf.float32)\n",
    "K0 = tf.Variable(-0.0015, name=\"K0\", trainable=True, dtype=tf.float32)\n",
    "K1 = tf.Variable(-0.0001, name=\"K1\", trainable=True, dtype=tf.float32)\n",
    "a = tf.Variable(0.0000, name=\"a\", trainable=True, dtype=tf.float32)\n",
    "b = tf.Variable(0.0118, name=\"b\", trainable=True, dtype=tf.float32)\n",
    "c = tf.Variable(2.5775, name=\"c\", trainable=True, dtype=tf.float32)\n",
    "\n",
    "splitr = 0.8\n",
    "\n",
    "\n",
    "def loss_fn(y_true, y_pred):\n",
    "    squared_difference = tf.square(y_true[:, 0] - y_pred[:, 0])\n",
    "    #squared_difference2 = tf.square(y_true[:, 2]-y_pred[:, 2])\n",
    "    #squared_difference1 = tf.square(y_true[:, 1]-y_pred[:, 1])\n",
    "    epsilon = 1\n",
    "    squared_difference3 = tf.square(\n",
    "        y_pred[:, 1] - (\n",
    "            y_pred[:, 0] * (\n",
    "                K0 - K1 * (\n",
    "                    9 * a * tf.math.log((y_pred[:, 0] + epsilon) / C0) / (K0 - K1 * c)**2 +\n",
    "                    4 * b * tf.math.log((y_pred[:, 0] + epsilon) / C0) / (K0 - K1 * c) + c\n",
    "                )\n",
    "            )\n",
    "        )\n",
    "    )\n",
    "    return tf.reduce_mean(squared_difference, axis=-1) + 0.2*tf.reduce_mean(squared_difference3, axis=-1)\n",
    "model = Sequential()\n",
    "model.add(LSTM(100, input_shape=(trainX.shape[1], trainX.shape[2])))\n",
    "model.add(Dense(60))\n",
    "model.compile(loss=loss_fn, optimizer='adam')\n",
    "history = model.fit(trainX[:int(splitr*trainX.shape[0])], trainy[:int(splitr*trainX.shape[0])], epochs=500, batch_size=64, validation_data=(trainX[int(splitr*trainX.shape[0]):trainX.shape[0]], trainy[int(splitr*trainX.shape[0]):trainX.shape[0]]), shuffle=False)"
   ]
  },
  {
   "cell_type": "code",
   "execution_count": 19,
   "metadata": {
    "colab": {
     "base_uri": "https://localhost:8080/"
    },
    "id": "yJL101rPyuoT",
    "outputId": "239ff2b1-c186-423a-d316-939dfdd7c793"
   },
   "outputs": [
    {
     "name": "stdout",
     "output_type": "stream",
     "text": [
      "1/1 [==============================] - 0s 348ms/step\n"
     ]
    }
   ],
   "source": [
    "forecast_without_mc = forecastX\n",
    "yhat_without_mc = model.predict(forecast_without_mc) # Step Ahead Prediction\n",
    "forecast_without_mc = forecast_without_mc.reshape((forecast_without_mc.shape[0], forecast_without_mc.shape[2])) # Historical Input"
   ]
  },
  {
   "cell_type": "code",
   "execution_count": 20,
   "metadata": {
    "colab": {
     "base_uri": "https://localhost:8080/"
    },
    "id": "g9dQELcJ8wbp",
    "outputId": "4dc7671b-b1a8-48d5-8744-a86f98446109"
   },
   "outputs": [
    {
     "data": {
      "text/plain": [
       "(1, 1, 251)"
      ]
     },
     "execution_count": 20,
     "metadata": {},
     "output_type": "execute_result"
    }
   ],
   "source": [
    "forecastX.shape"
   ]
  },
  {
   "cell_type": "code",
   "execution_count": 21,
   "metadata": {
    "colab": {
     "base_uri": "https://localhost:8080/"
    },
    "id": "IS2kyIKG1Kbr",
    "outputId": "f31b3485-8e26-452f-9298-ea8bf7e80ad1"
   },
   "outputs": [
    {
     "data": {
      "text/plain": [
       "(1, 251)"
      ]
     },
     "execution_count": 21,
     "metadata": {},
     "output_type": "execute_result"
    }
   ],
   "source": [
    "forecast_without_mc.shape"
   ]
  },
  {
   "cell_type": "code",
   "execution_count": 22,
   "metadata": {
    "id": "0u6VIzaDyuoT"
   },
   "outputs": [],
   "source": [
    "inv_yhat_without_mc = np.concatenate((forecast_without_mc, yhat_without_mc), axis=1) # Concatenation of predicted values with Historical Data\n",
    "#inv_yhat_without_mc = scaler.inverse_transform(inv_yhat_without_mc) # Transform labels back to original encoding"
   ]
  },
  {
   "cell_type": "code",
   "execution_count": 23,
   "metadata": {
    "colab": {
     "base_uri": "https://localhost:8080/"
    },
    "id": "EUEcw0LX07oU",
    "outputId": "cfc32397-9c37-4b43-d087-584bb31c3dcc"
   },
   "outputs": [
    {
     "data": {
      "text/plain": [
       "(1, 311)"
      ]
     },
     "execution_count": 23,
     "metadata": {},
     "output_type": "execute_result"
    }
   ],
   "source": [
    "inv_yhat_without_mc.shape"
   ]
  },
  {
   "cell_type": "code",
   "execution_count": 24,
   "metadata": {
    "id": "31OWVbSh_305"
   },
   "outputs": [],
   "source": [
    "fforecast = inv_yhat_without_mc[:,-300:]"
   ]
  },
  {
   "cell_type": "code",
   "execution_count": 25,
   "metadata": {},
   "outputs": [
    {
     "data": {
      "text/plain": [
       "(1, 300)"
      ]
     },
     "execution_count": 25,
     "metadata": {},
     "output_type": "execute_result"
    }
   ],
   "source": [
    "fforecast.shape"
   ]
  },
  {
   "cell_type": "code",
   "execution_count": 26,
   "metadata": {
    "id": "BlpGH2FOAiRF"
   },
   "outputs": [],
   "source": [
    "final_forecast = fforecast[:,0:300:3]"
   ]
  },
  {
   "cell_type": "code",
   "execution_count": 27,
   "metadata": {},
   "outputs": [
    {
     "data": {
      "text/plain": [
       "(1, 300)"
      ]
     },
     "execution_count": 27,
     "metadata": {},
     "output_type": "execute_result"
    }
   ],
   "source": [
    "fforecast.shape"
   ]
  },
  {
   "cell_type": "code",
   "execution_count": 28,
   "metadata": {
    "id": "CXkgkj_LBk_t"
   },
   "outputs": [],
   "source": [
    "# code to replace all negative value with 0\n",
    "final_forecast[final_forecast<0] = 0"
   ]
  },
  {
   "cell_type": "code",
   "execution_count": 29,
   "metadata": {},
   "outputs": [
    {
     "data": {
      "text/plain": [
       "array([[6.94242764e+01, 7.28977124e+01, 7.18388889e+01, 7.04158030e+01,\n",
       "        6.25980949e+01, 8.04446400e-01, 2.47834030e-01, 4.11812340e-01,\n",
       "        0.00000000e+00, 6.01914350e-01, 4.85534700e-01, 2.35576840e-01,\n",
       "        9.41969040e-01, 6.96072829e+01, 6.95064426e+01, 6.94056022e+01,\n",
       "        0.00000000e+00, 0.00000000e+00, 6.97750233e+01, 6.97246032e+01,\n",
       "        6.96483660e+01, 6.95475257e+01, 6.94466853e+01, 7.31330065e+01,\n",
       "        7.20741830e+01, 7.07351307e+01, 0.00000000e+00, 7.42734310e-01,\n",
       "        0.00000000e+00, 6.94877684e+01, 7.35643791e+01, 7.25055556e+01,\n",
       "        7.13205649e+01, 0.00000000e+00, 7.21943464e+01, 7.20557726e+01,\n",
       "        7.19817974e+01, 0.00000000e+00, 0.00000000e+00, 0.00000000e+00,\n",
       "        3.91468704e-01, 0.00000000e+00, 0.00000000e+00, 4.02240872e-01,\n",
       "        0.00000000e+00, 1.58435494e-01, 0.00000000e+00, 7.10544584e+01,\n",
       "        5.90062680e-01, 4.86090900e-02, 2.68616620e-01, 6.95101774e+01,\n",
       "        6.94093371e+01, 7.27408497e+01, 7.16398926e+01, 7.02029178e+01,\n",
       "        7.21787582e+01, 7.20877054e+01, 7.19851587e+01, 0.00000000e+00,\n",
       "        4.58358000e-02, 1.01991730e+00, 7.07883520e+01, 6.92471800e-01,\n",
       "        7.21462488e+01, 7.20025514e+01, 7.19761951e+01, 7.06996499e+01,\n",
       "        6.98329132e+01, 6.96633053e+01, 0.00000000e+00, 1.83462664e-01,\n",
       "        1.80295736e-01, 6.97791977e+01, 4.33316790e-02, 2.76984185e-01,\n",
       "        0.00000000e+00, 0.00000000e+00, 0.00000000e+00, 1.15061365e-01,\n",
       "        6.74576645e+01, 3.17864716e-02, 0.00000000e+00, 1.05877459e+00,\n",
       "        5.00756085e-01, 7.56137595e-02, 5.32933950e-01, 0.00000000e+00,\n",
       "        1.97986156e-01, 4.17415589e-01, 2.65129864e-01, 0.00000000e+00,\n",
       "        2.81868353e-02, 0.00000000e+00, 0.00000000e+00, 1.72987401e-01,\n",
       "        0.00000000e+00, 0.00000000e+00, 0.00000000e+00, 2.40530819e-04]])"
      ]
     },
     "execution_count": 29,
     "metadata": {},
     "output_type": "execute_result"
    }
   ],
   "source": [
    "final_forecast"
   ]
  },
  {
   "cell_type": "code",
   "execution_count": 30,
   "metadata": {},
   "outputs": [
    {
     "data": {
      "text/plain": [
       "(1, 100)"
      ]
     },
     "execution_count": 30,
     "metadata": {},
     "output_type": "execute_result"
    }
   ],
   "source": [
    "final_forecast.shape"
   ]
  },
  {
   "cell_type": "code",
   "execution_count": 31,
   "metadata": {},
   "outputs": [
    {
     "data": {
      "text/plain": [
       "(100,)"
      ]
     },
     "execution_count": 31,
     "metadata": {},
     "output_type": "execute_result"
    }
   ],
   "source": [
    "test.shape"
   ]
  },
  {
   "cell_type": "code",
   "execution_count": 32,
   "metadata": {},
   "outputs": [],
   "source": [
    "training_set = np.array(training_set)\n",
    "test = np.array(test)\n",
    "final_forecast = np.array(final_forecast.squeeze(0))"
   ]
  },
  {
   "cell_type": "code",
   "execution_count": 33,
   "metadata": {},
   "outputs": [
    {
     "data": {
      "text/plain": [
       "array([60.78084307, 60.77291795, 60.76499283, 60.75706771, 60.74914258,\n",
       "       60.74121746, 60.73329234, 60.72536722, 60.7174421 , 60.70951698,\n",
       "       60.70159186, 60.69366673, 60.68574161, 60.67781649, 60.66989137,\n",
       "       60.66196625, 60.65404113, 60.64611601, 60.63819089, 60.63026576,\n",
       "       60.62234064, 60.61441552, 60.6064904 , 60.59856528, 60.59064016,\n",
       "       60.58271504, 60.57478992, 60.56686479, 60.55893967, 60.55101455,\n",
       "       60.54308943, 60.53516431, 60.52723919, 60.51931407, 60.51138895,\n",
       "       60.50346382, 60.4955387 , 60.48761358, 60.47968846, 60.47176334,\n",
       "       60.46383822, 60.4559131 , 60.44798798, 60.44006285, 60.43213773,\n",
       "       60.42421261, 60.41628749, 60.40836237, 60.40043725, 60.39251213,\n",
       "       60.38458701, 60.37666188, 60.36873676, 60.36081164, 60.35288652,\n",
       "       60.3449614 , 60.33703628, 60.32911116, 60.32118604, 60.31326091,\n",
       "       60.30533579, 60.29741067, 60.28948555, 60.28156043, 60.27363531,\n",
       "       60.26571019, 60.25778507, 60.24985994, 60.24193482, 60.2340097 ,\n",
       "       60.22608458, 60.21815946, 60.21023434, 60.20230922, 60.1943841 ,\n",
       "       60.18645897, 60.17853385, 60.17060873, 60.16268361, 60.15475849,\n",
       "       60.14683337, 60.13890825, 60.13098312, 60.123058  , 60.11513288,\n",
       "       60.10720776, 60.09928264, 60.09135752, 60.0834324 , 60.07550728,\n",
       "       60.06758215, 60.05965703, 60.05173191, 60.04380679, 60.03588167,\n",
       "       60.02795655, 60.02003143, 60.01210631, 60.00418118, 59.99625606])"
      ]
     },
     "execution_count": 33,
     "metadata": {},
     "output_type": "execute_result"
    }
   ],
   "source": [
    "test"
   ]
  },
  {
   "cell_type": "code",
   "execution_count": 34,
   "metadata": {},
   "outputs": [
    {
     "data": {
      "text/plain": [
       "(100,)"
      ]
     },
     "execution_count": 34,
     "metadata": {},
     "output_type": "execute_result"
    }
   ],
   "source": [
    "test.shape"
   ]
  },
  {
   "cell_type": "code",
   "execution_count": 35,
   "metadata": {},
   "outputs": [
    {
     "data": {
      "text/plain": [
       "(100,)"
      ]
     },
     "execution_count": 35,
     "metadata": {},
     "output_type": "execute_result"
    }
   ],
   "source": [
    "final_forecast.shape"
   ]
  },
  {
   "cell_type": "code",
   "execution_count": 36,
   "metadata": {},
   "outputs": [
    {
     "data": {
      "text/plain": [
       "(100,)"
      ]
     },
     "execution_count": 36,
     "metadata": {},
     "output_type": "execute_result"
    }
   ],
   "source": [
    "test.shape"
   ]
  },
  {
   "cell_type": "code",
   "execution_count": 37,
   "metadata": {},
   "outputs": [
    {
     "name": "stdout",
     "output_type": "stream",
     "text": [
      "46.653638601487394\n",
      "39.652357177471366\n"
     ]
    }
   ],
   "source": [
    "import math\n",
    "MSE = np.square(np.subtract(np.array(test),np.array(final_forecast))).mean()   \n",
    "rsme = math.sqrt(MSE)\n",
    "print(rsme)  \n",
    "MAE = np.abs(np.subtract(np.array(test),np.array(final_forecast))).mean()   \n",
    "mae = MAE\n",
    "print(mae)"
   ]
  }
 ],
 "metadata": {
  "colab": {
   "provenance": []
  },
  "kernelspec": {
   "display_name": "Python 3",
   "language": "python",
   "name": "python3"
  },
  "language_info": {
   "codemirror_mode": {
    "name": "ipython",
    "version": 3
   },
   "file_extension": ".py",
   "mimetype": "text/x-python",
   "name": "python",
   "nbconvert_exporter": "python",
   "pygments_lexer": "ipython3",
   "version": "3.9.13"
  }
 },
 "nbformat": 4,
 "nbformat_minor": 0
}
