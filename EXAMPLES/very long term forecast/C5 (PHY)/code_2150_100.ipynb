{
 "cells": [
  {
   "cell_type": "markdown",
   "metadata": {
    "id": "pCGKeZ2gyuoQ"
   },
   "source": [
    "_Importing Required Libraries_"
   ]
  },
  {
   "cell_type": "code",
   "execution_count": 1,
   "metadata": {
    "colab": {
     "base_uri": "https://localhost:8080/"
    },
    "id": "A-6LN-zXiLcM",
    "outputId": "4de610a4-f8b8-4f49-c6c0-89de299ccedc"
   },
   "outputs": [
    {
     "name": "stdout",
     "output_type": "stream",
     "text": [
      "Requirement already satisfied: hampel in c:\\users\\anurag dutta\\appdata\\local\\packages\\pythonsoftwarefoundation.python.3.9_qbz5n2kfra8p0\\localcache\\local-packages\\python39\\site-packages (0.0.5)\n",
      "Requirement already satisfied: numpy in c:\\users\\anurag dutta\\appdata\\local\\packages\\pythonsoftwarefoundation.python.3.9_qbz5n2kfra8p0\\localcache\\local-packages\\python39\\site-packages (from hampel) (1.26.4)\n",
      "Requirement already satisfied: pandas in c:\\users\\anurag dutta\\appdata\\local\\packages\\pythonsoftwarefoundation.python.3.9_qbz5n2kfra8p0\\localcache\\local-packages\\python39\\site-packages (from hampel) (1.5.2)\n",
      "Requirement already satisfied: python-dateutil>=2.8.1 in c:\\users\\anurag dutta\\appdata\\local\\packages\\pythonsoftwarefoundation.python.3.9_qbz5n2kfra8p0\\localcache\\local-packages\\python39\\site-packages (from pandas->hampel) (2.8.2)\n",
      "Requirement already satisfied: pytz>=2020.1 in c:\\users\\anurag dutta\\appdata\\local\\packages\\pythonsoftwarefoundation.python.3.9_qbz5n2kfra8p0\\localcache\\local-packages\\python39\\site-packages (from pandas->hampel) (2023.3.post1)\n",
      "Requirement already satisfied: six>=1.5 in c:\\users\\anurag dutta\\appdata\\local\\packages\\pythonsoftwarefoundation.python.3.9_qbz5n2kfra8p0\\localcache\\local-packages\\python39\\site-packages (from python-dateutil>=2.8.1->pandas->hampel) (1.16.0)\n",
      "Note: you may need to restart the kernel to use updated packages.\n"
     ]
    },
    {
     "name": "stderr",
     "output_type": "stream",
     "text": [
      "\n",
      "[notice] A new release of pip is available: 24.2 -> 24.3.1\n",
      "[notice] To update, run: C:\\Users\\Anurag Dutta\\AppData\\Local\\Microsoft\\WindowsApps\\PythonSoftwareFoundation.Python.3.9_qbz5n2kfra8p0\\python.exe -m pip install --upgrade pip\n"
     ]
    }
   ],
   "source": [
    "pip install hampel"
   ]
  },
  {
   "cell_type": "code",
   "execution_count": 2,
   "metadata": {
    "id": "By_d9uXpaFvZ"
   },
   "outputs": [],
   "source": [
    "from keras.models import Sequential\n",
    "from keras.layers import Dense\n",
    "from keras.layers import LSTM\n",
    "from keras.layers import Dropout\n",
    "import keras\n",
    "import tensorflow as tf\n",
    "from hampel import hampel\n",
    "import numpy as np\n",
    "import matplotlib.pyplot as plt\n",
    "import pandas as pd\n",
    "from sklearn.preprocessing import MinMaxScaler\n",
    "from sklearn.metrics import mean_squared_error, mean_absolute_error\n",
    "from math import sqrt\n",
    "from matplotlib import pyplot\n",
    "from numpy import array"
   ]
  },
  {
   "cell_type": "markdown",
   "metadata": {
    "id": "JyOjBMFayuoR"
   },
   "source": [
    "## Pretraining"
   ]
  },
  {
   "cell_type": "markdown",
   "metadata": {
    "id": "-5QqIY_GyuoR"
   },
   "source": [
    "The `capa_intermittency.dat` feeds the model with the dynamics of the Capacitor"
   ]
  },
  {
   "cell_type": "code",
   "execution_count": 3,
   "metadata": {
    "id": "9dV4a8yfyuoR"
   },
   "outputs": [],
   "source": [
    "data = np.genfromtxt('capa_intermittency.dat')\n",
    "training_set = pd.DataFrame(data).reset_index(drop=True)\n",
    "training_set = training_set.iloc[:,0]"
   ]
  },
  {
   "cell_type": "markdown",
   "metadata": {
    "id": "i7easoxByuoR"
   },
   "source": [
    "## Computing the Gradient"
   ]
  },
  {
   "cell_type": "markdown",
   "metadata": {
    "id": "5SnyolJTyuoR"
   },
   "source": [
    "_Calculating the value of_ $\\frac{dx}{dt}$"
   ]
  },
  {
   "cell_type": "code",
   "execution_count": 4,
   "metadata": {
    "colab": {
     "base_uri": "https://localhost:8080/"
    },
    "id": "wmIbVfIvyuoR",
    "outputId": "aa4e3136-c854-465d-d2e9-81cfd546e440"
   },
   "outputs": [
    {
     "name": "stdout",
     "output_type": "stream",
     "text": [
      "1.0\n",
      "1        0.000298\n",
      "2        0.000298\n",
      "3        0.000297\n",
      "4        0.000297\n",
      "5        0.000297\n",
      "           ...   \n",
      "9996     0.000018\n",
      "9997     0.000018\n",
      "9998     0.000018\n",
      "9999     0.000018\n",
      "10000    0.000018\n",
      "Name: 0, Length: 10000, dtype: float64\n"
     ]
    }
   ],
   "source": [
    "t_diff = 1\n",
    "print(training_set.max())\n",
    "gradient_t = (training_set.diff()/t_diff).iloc[1:] # dx/dt\n",
    "print(gradient_t)"
   ]
  },
  {
   "cell_type": "markdown",
   "metadata": {
    "id": "_2eVeeoxyuoS"
   },
   "source": [
    "## Loading Datasets"
   ]
  },
  {
   "cell_type": "code",
   "execution_count": 5,
   "metadata": {
    "id": "0J-NKyIEyuoS"
   },
   "outputs": [
    {
     "data": {
      "text/plain": [
       "0       89.140000\n",
       "1       88.911429\n",
       "2       88.682857\n",
       "3       88.454286\n",
       "4       88.225714\n",
       "          ...    \n",
       "2245    61.612981\n",
       "2246    61.605056\n",
       "2247    61.597131\n",
       "2248    61.589205\n",
       "2249    61.581280\n",
       "Name: C5, Length: 2250, dtype: float64"
      ]
     },
     "execution_count": 5,
     "metadata": {},
     "output_type": "execute_result"
    }
   ],
   "source": [
    "data = pd.read_csv(\"c5_interpolated_2150_100.csv\")\n",
    "training_set = data.iloc[:, 1]\n",
    "training_set"
   ]
  },
  {
   "cell_type": "code",
   "execution_count": 6,
   "metadata": {
    "colab": {
     "base_uri": "https://localhost:8080/"
    },
    "id": "-CbNUhJ74UqF",
    "outputId": "20f562d8-8247-49cc-b9c3-00eca5e13e2d"
   },
   "outputs": [
    {
     "data": {
      "text/plain": [
       "0       89.140000\n",
       "1       88.911429\n",
       "2       88.682857\n",
       "3       88.454286\n",
       "4       88.225714\n",
       "          ...    \n",
       "2145     0.000000\n",
       "2146     0.587591\n",
       "2147     0.000000\n",
       "2148     0.115061\n",
       "2149     0.000000\n",
       "Name: C5, Length: 2150, dtype: float64"
      ]
     },
     "execution_count": 6,
     "metadata": {},
     "output_type": "execute_result"
    }
   ],
   "source": [
    "test = training_set.tail(100)\n",
    "test\n",
    "training_set = training_set.head(2150)\n",
    "training_set"
   ]
  },
  {
   "cell_type": "code",
   "execution_count": 7,
   "metadata": {
    "colab": {
     "base_uri": "https://localhost:8080/"
    },
    "id": "X0TwTcq0yuoS",
    "outputId": "37252ed8-d88e-4044-fa7a-922411990b5b"
   },
   "outputs": [
    {
     "name": "stdout",
     "output_type": "stream",
     "text": [
      "0       0.000298\n",
      "1       0.000298\n",
      "2       0.000297\n",
      "3       0.000297\n",
      "4       0.000297\n",
      "          ...   \n",
      "9995    0.000018\n",
      "9996    0.000018\n",
      "9997    0.000018\n",
      "9998    0.000018\n",
      "9999    0.000018\n",
      "Name: 0, Length: 10000, dtype: float64\n"
     ]
    }
   ],
   "source": [
    "training_set = training_set.reset_index(drop=True)\n",
    "gradient_t = gradient_t.reset_index(drop=True)\n",
    "print(gradient_t)"
   ]
  },
  {
   "cell_type": "code",
   "execution_count": 8,
   "metadata": {
    "id": "O2biznZQyuoS"
   },
   "outputs": [],
   "source": [
    "df = pd.concat((training_set, gradient_t), axis=1)\n",
    "df.columns = ['y_t', 'grad_t']"
   ]
  },
  {
   "cell_type": "code",
   "execution_count": 9,
   "metadata": {
    "colab": {
     "base_uri": "https://localhost:8080/",
     "height": 423
    },
    "id": "sk_a5v3tyuoS",
    "outputId": "17563625-e550-45ae-faab-fafa353e44da"
   },
   "outputs": [
    {
     "data": {
      "text/html": [
       "<div>\n",
       "<style scoped>\n",
       "    .dataframe tbody tr th:only-of-type {\n",
       "        vertical-align: middle;\n",
       "    }\n",
       "\n",
       "    .dataframe tbody tr th {\n",
       "        vertical-align: top;\n",
       "    }\n",
       "\n",
       "    .dataframe thead th {\n",
       "        text-align: right;\n",
       "    }\n",
       "</style>\n",
       "<table border=\"1\" class=\"dataframe\">\n",
       "  <thead>\n",
       "    <tr style=\"text-align: right;\">\n",
       "      <th></th>\n",
       "      <th>y_t</th>\n",
       "      <th>grad_t</th>\n",
       "    </tr>\n",
       "  </thead>\n",
       "  <tbody>\n",
       "    <tr>\n",
       "      <th>0</th>\n",
       "      <td>89.140000</td>\n",
       "      <td>0.000298</td>\n",
       "    </tr>\n",
       "    <tr>\n",
       "      <th>1</th>\n",
       "      <td>88.911429</td>\n",
       "      <td>0.000298</td>\n",
       "    </tr>\n",
       "    <tr>\n",
       "      <th>2</th>\n",
       "      <td>88.682857</td>\n",
       "      <td>0.000297</td>\n",
       "    </tr>\n",
       "    <tr>\n",
       "      <th>3</th>\n",
       "      <td>88.454286</td>\n",
       "      <td>0.000297</td>\n",
       "    </tr>\n",
       "    <tr>\n",
       "      <th>4</th>\n",
       "      <td>88.225714</td>\n",
       "      <td>0.000297</td>\n",
       "    </tr>\n",
       "    <tr>\n",
       "      <th>...</th>\n",
       "      <td>...</td>\n",
       "      <td>...</td>\n",
       "    </tr>\n",
       "    <tr>\n",
       "      <th>9995</th>\n",
       "      <td>NaN</td>\n",
       "      <td>0.000018</td>\n",
       "    </tr>\n",
       "    <tr>\n",
       "      <th>9996</th>\n",
       "      <td>NaN</td>\n",
       "      <td>0.000018</td>\n",
       "    </tr>\n",
       "    <tr>\n",
       "      <th>9997</th>\n",
       "      <td>NaN</td>\n",
       "      <td>0.000018</td>\n",
       "    </tr>\n",
       "    <tr>\n",
       "      <th>9998</th>\n",
       "      <td>NaN</td>\n",
       "      <td>0.000018</td>\n",
       "    </tr>\n",
       "    <tr>\n",
       "      <th>9999</th>\n",
       "      <td>NaN</td>\n",
       "      <td>0.000018</td>\n",
       "    </tr>\n",
       "  </tbody>\n",
       "</table>\n",
       "<p>10000 rows × 2 columns</p>\n",
       "</div>"
      ],
      "text/plain": [
       "            y_t    grad_t\n",
       "0     89.140000  0.000298\n",
       "1     88.911429  0.000298\n",
       "2     88.682857  0.000297\n",
       "3     88.454286  0.000297\n",
       "4     88.225714  0.000297\n",
       "...         ...       ...\n",
       "9995        NaN  0.000018\n",
       "9996        NaN  0.000018\n",
       "9997        NaN  0.000018\n",
       "9998        NaN  0.000018\n",
       "9999        NaN  0.000018\n",
       "\n",
       "[10000 rows x 2 columns]"
      ]
     },
     "execution_count": 9,
     "metadata": {},
     "output_type": "execute_result"
    }
   ],
   "source": [
    "df"
   ]
  },
  {
   "cell_type": "markdown",
   "metadata": {
    "id": "-5esyHu5aFvg"
   },
   "source": [
    "## Plot of the External Forcing from Chaotic Differential Equation"
   ]
  },
  {
   "cell_type": "code",
   "execution_count": 10,
   "metadata": {
    "colab": {
     "base_uri": "https://localhost:8080/",
     "height": 447
    },
    "id": "hGnE43tOh-4p",
    "outputId": "fc396503-b624-4fa5-dfbe-f460207405c6"
   },
   "outputs": [
    {
     "data": {
      "text/plain": [
       "<Axes: >"
      ]
     },
     "execution_count": 10,
     "metadata": {},
     "output_type": "execute_result"
    },
    {
     "data": {
      "image/png": "[encoded data removed]",
      "text/plain": [
       "<Figure size 432x288 with 1 Axes>"
      ]
     },
     "metadata": {
      "needs_background": "light"
     },
     "output_type": "display_data"
    }
   ],
   "source": [
    "df.iloc[:, 0].plot()"
   ]
  },
  {
   "cell_type": "code",
   "execution_count": 11,
   "metadata": {
    "colab": {
     "base_uri": "https://localhost:8080/",
     "height": 447
    },
    "id": "ym4xWUUxaFvg",
    "outputId": "ae6a3495-8ce9-437e-ba81-3ed31deedeae"
   },
   "outputs": [
    {
     "name": "stderr",
     "output_type": "stream",
     "text": [
      "C:\\Users\\Anurag Dutta\\AppData\\Local\\Packages\\PythonSoftwareFoundation.Python.3.9_qbz5n2kfra8p0\\LocalCache\\local-packages\\Python39\\site-packages\\pandas\\core\\arraylike.py:402: RuntimeWarning: divide by zero encountered in log\n",
      "  result = getattr(ufunc, method)(*inputs, **kwargs)\n"
     ]
    },
    {
     "data": {
      "text/plain": [
       "<Axes: >"
      ]
     },
     "execution_count": 11,
     "metadata": {},
     "output_type": "execute_result"
    },
    {
     "data": {
      "image/png": "[encoded data removed]",
      "text/plain": [
       "<Figure size 432x288 with 1 Axes>"
      ]
     },
     "metadata": {
      "needs_background": "light"
     },
     "output_type": "display_data"
    }
   ],
   "source": [
    "import numpy as np\n",
    "c0 = 86.8407  # Value for C0\n",
    "K0 = -0.0015  # Value for K0\n",
    "K1 = -0.0001  # Value for K1\n",
    "a = 0.0000    # Value for a\n",
    "b = 0.0118    # Value for b\n",
    "c = 2.5775    # Value for c\n",
    "\n",
    "L = np.minimum(c0, (df.iloc[:, 1] - (df.iloc[:, 0] * (K0 - K1 * (9 * a * np.log(df.iloc[:, 0] / c0) / (K0 - K1 * c)**2 + 4 * b * np.log(df.iloc[:, 0] / c0) / (K0 - K1 * c) + c)))))\n",
    "L.plot()"
   ]
  },
  {
   "cell_type": "markdown",
   "metadata": {
    "id": "9VyEywnwaFvh"
   },
   "source": [
    "## Preprocessing the data into supervised learning"
   ]
  },
  {
   "cell_type": "code",
   "execution_count": 12,
   "metadata": {
    "id": "6V9dXqzdaFvh"
   },
   "outputs": [],
   "source": [
    "# split a sequence into samples\n",
    "def Supervised(data, n_in=1, n_out=1, dropnan=True):\n",
    "    n_vars = 1 if type(data) is list else data.shape[1]\n",
    "    df = pd.DataFrame(data)\n",
    "    cols, names = list(), list()\n",
    "    # input sequence (t-n_in, ... t-1)\n",
    "    for i in range(n_in, 0, -1):\n",
    "        cols.append(df.shift(i))\n",
    "        names += [('var%d(t-%d)' % (j+1, i)) for j in range(n_vars)]\n",
    "    # forecast sequence (t, t+1, ... t+n_out)\n",
    "    for i in range(0, n_out):\n",
    "      cols.append(df.shift(-i))\n",
    "      if i == 0:\n",
    "        names += [('var%d(t)' % (j+1)) for j in range(n_vars)]\n",
    "      else:\n",
    "        names += [('var%d(t+%d)' % (j+1, i)) for j in range(n_vars)]\n",
    "    # put it all together\n",
    "    agg = pd.concat(cols, axis=1)\n",
    "    agg.columns = names\n",
    "    # drop rows with NaN values\n",
    "    if dropnan:\n",
    "       agg.dropna(inplace=True)\n",
    "    return agg"
   ]
  },
  {
   "cell_type": "code",
   "execution_count": 13,
   "metadata": {
    "colab": {
     "base_uri": "https://localhost:8080/"
    },
    "id": "CrzSrT1HnyfH",
    "outputId": "7e75f928-3e47-499d-eac1-51908015ef78"
   },
   "outputs": [
    {
     "name": "stdout",
     "output_type": "stream",
     "text": [
      "     var1(t-350)  var1(t-349)  var1(t-348)  var1(t-347)  var1(t-346)  \\\n",
      "350    89.140000    88.911429    88.682857    88.454286    88.225714   \n",
      "351    88.911429    88.682857    88.454286    88.225714    87.997143   \n",
      "352    88.682857    88.454286    88.225714    87.997143    87.768571   \n",
      "353    88.454286    88.225714    87.997143    87.768571    87.540000   \n",
      "354    88.225714    87.997143    87.768571    87.540000    87.311429   \n",
      "\n",
      "     var1(t-345)  var1(t-344)  var1(t-343)  var1(t-342)  var1(t-341)  ...  \\\n",
      "350    87.997143    87.768571    87.540000    87.311429    87.095798  ...   \n",
      "351    87.768571    87.540000    87.311429    87.095798    87.039776  ...   \n",
      "352    87.540000    87.311429    87.095798    87.039776    86.983754  ...   \n",
      "353    87.311429    87.095798    87.039776    86.983754    86.927731  ...   \n",
      "354    87.095798    87.039776    86.983754    86.927731    86.871709  ...   \n",
      "\n",
      "     var1(t+95)  var2(t+95)  var1(t+96)  var2(t+96)  var1(t+97)  var2(t+97)  \\\n",
      "350   79.161181    0.000263   79.132236    0.000263   79.103291    0.000263   \n",
      "351   79.132236    0.000263   79.103291    0.000263   79.074346    0.000262   \n",
      "352   79.103291    0.000263   79.074346    0.000262   79.045401    0.000262   \n",
      "353   79.074346    0.000262   79.045401    0.000262   79.016457    0.000262   \n",
      "354   79.045401    0.000262   79.016457    0.000262   78.987512    0.000262   \n",
      "\n",
      "     var1(t+98)  var2(t+98)  var1(t+99)  var2(t+99)  \n",
      "350   79.074346    0.000262   79.045401    0.000262  \n",
      "351   79.045401    0.000262   79.016457    0.000262  \n",
      "352   79.016457    0.000262   78.987512    0.000262  \n",
      "353   78.987512    0.000262   78.958567    0.000262  \n",
      "354   78.958567    0.000262   78.929622    0.000262  \n",
      "\n",
      "[5 rows x 551 columns]\n",
      "Index(['var1(t-350)', 'var1(t-349)', 'var1(t-348)', 'var1(t-347)',\n",
      "       'var1(t-346)', 'var1(t-345)', 'var1(t-344)', 'var1(t-343)',\n",
      "       'var1(t-342)', 'var1(t-341)',\n",
      "       ...\n",
      "       'var1(t+95)', 'var2(t+95)', 'var1(t+96)', 'var2(t+96)', 'var1(t+97)',\n",
      "       'var2(t+97)', 'var1(t+98)', 'var2(t+98)', 'var1(t+99)', 'var2(t+99)'],\n",
      "      dtype='object', length=551)\n"
     ]
    }
   ],
   "source": [
    "data = Supervised(df.values, n_in = 350, n_out = 100)\n",
    "\n",
    "\n",
    "cols_to_drop = []\n",
    "for i in range(2, 351):\n",
    "    cols_to_drop.extend([f'var2(t-{i})'])\n",
    "\n",
    "data.drop(cols_to_drop, axis=1, inplace=True)\n",
    "\n",
    "print(data.head())\n",
    "print(data.columns)"
   ]
  },
  {
   "cell_type": "code",
   "execution_count": 14,
   "metadata": {
    "id": "AfPf60oy6Pe4"
   },
   "outputs": [],
   "source": [
    "train = np.array(data[0:len(data)-1])\n",
    "forecast = np.array(data.tail(1))"
   ]
  },
  {
   "cell_type": "code",
   "execution_count": 15,
   "metadata": {
    "id": "WSAafzI37KiT"
   },
   "outputs": [],
   "source": [
    "trainy = train[:,-300:]\n",
    "trainX = train[:,:-300]"
   ]
  },
  {
   "cell_type": "code",
   "execution_count": 16,
   "metadata": {
    "id": "2SrOqVJA7f50"
   },
   "outputs": [],
   "source": [
    "forecasty = forecast[:,-300:]\n",
    "forecastX = forecast[:,:-300]"
   ]
  },
  {
   "cell_type": "code",
   "execution_count": 17,
   "metadata": {
    "colab": {
     "base_uri": "https://localhost:8080/"
    },
    "id": "Qno_k8Nw7saY",
    "outputId": "c4a88db5-d8c6-489f-cdb2-06b24e293cff"
   },
   "outputs": [
    {
     "name": "stdout",
     "output_type": "stream",
     "text": [
      "(1700, 1, 251) (1700, 300) (1, 1, 251)\n"
     ]
    }
   ],
   "source": [
    "trainX = trainX.reshape((trainX.shape[0], 1, trainX.shape[1]))\n",
    "forecastX = forecastX.reshape((forecastX.shape[0], 1, forecastX.shape[1]))\n",
    "print(trainX.shape, trainy.shape, forecastX.shape)"
   ]
  },
  {
   "cell_type": "code",
   "execution_count": 18,
   "metadata": {
    "colab": {
     "base_uri": "https://localhost:8080/"
    },
    "id": "b1Jp2DvNuNFx",
    "outputId": "d0e5b3c4-64f1-438c-eade-8dfeaac8e285"
   },
   "outputs": [
    {
     "name": "stdout",
     "output_type": "stream",
     "text": [
      "Epoch 1/500\n",
      "22/22 [==============================] - 3s 28ms/step - loss: 5042.0752 - val_loss: 2818.8203\n",
      "Epoch 2/500\n",
      "22/22 [==============================] - 0s 5ms/step - loss: 4719.2114 - val_loss: 2652.3767\n",
      "Epoch 3/500\n",
      "22/22 [==============================] - 0s 5ms/step - loss: 4542.3906 - val_loss: 2576.2058\n",
      "Epoch 4/500\n",
      "22/22 [==============================] - 0s 5ms/step - loss: 4422.0127 - val_loss: 2509.3015\n",
      "Epoch 5/500\n",
      "22/22 [==============================] - 0s 5ms/step - loss: 4307.6641 - val_loss: 2446.5867\n",
      "Epoch 6/500\n",
      "22/22 [==============================] - 0s 5ms/step - loss: 4187.5132 - val_loss: 2380.2195\n",
      "Epoch 7/500\n",
      "22/22 [==============================] - 0s 5ms/step - loss: 4075.5518 - val_loss: 2321.3840\n",
      "Epoch 8/500\n",
      "22/22 [==============================] - 0s 4ms/step - loss: 3968.9753 - val_loss: 2265.0554\n",
      "Epoch 9/500\n",
      "22/22 [==============================] - 0s 4ms/step - loss: 3865.6895 - val_loss: 2210.9680\n",
      "Epoch 10/500\n",
      "22/22 [==============================] - 0s 5ms/step - loss: 3765.2559 - val_loss: 2158.9260\n",
      "Epoch 11/500\n",
      "22/22 [==============================] - 0s 5ms/step - loss: 3667.4055 - val_loss: 2108.8015\n",
      "Epoch 12/500\n",
      "22/22 [==============================] - 0s 5ms/step - loss: 3571.9602 - val_loss: 2060.4995\n",
      "Epoch 13/500\n",
      "22/22 [==============================] - 0s 4ms/step - loss: 3478.7957 - val_loss: 2013.9476\n",
      "Epoch 14/500\n",
      "22/22 [==============================] - 0s 4ms/step - loss: 3387.8110 - val_loss: 1969.0853\n",
      "Epoch 15/500\n",
      "22/22 [==============================] - 0s 4ms/step - loss: 3298.9287 - val_loss: 1925.8611\n",
      "Epoch 16/500\n",
      "22/22 [==============================] - 0s 4ms/step - loss: 3212.0830 - val_loss: 1884.2289\n",
      "Epoch 17/500\n",
      "22/22 [==============================] - 0s 7ms/step - loss: 3127.2173 - val_loss: 1844.1475\n",
      "Epoch 18/500\n",
      "22/22 [==============================] - 0s 5ms/step - loss: 3044.2798 - val_loss: 1805.5791\n",
      "Epoch 19/500\n",
      "22/22 [==============================] - 0s 4ms/step - loss: 2963.2256 - val_loss: 1768.4872\n",
      "Epoch 20/500\n",
      "22/22 [==============================] - 0s 7ms/step - loss: 2884.0129 - val_loss: 1732.8398\n",
      "Epoch 21/500\n",
      "22/22 [==============================] - 0s 5ms/step - loss: 2806.6030 - val_loss: 1698.6036\n",
      "Epoch 22/500\n",
      "22/22 [==============================] - 0s 5ms/step - loss: 2730.9600 - val_loss: 1665.7490\n",
      "Epoch 23/500\n",
      "22/22 [==============================] - 0s 5ms/step - loss: 2657.0491 - val_loss: 1634.2460\n",
      "Epoch 24/500\n",
      "22/22 [==============================] - 0s 5ms/step - loss: 2584.8372 - val_loss: 1604.0654\n",
      "Epoch 25/500\n",
      "22/22 [==============================] - 0s 4ms/step - loss: 2514.2930 - val_loss: 1575.1809\n",
      "Epoch 26/500\n",
      "22/22 [==============================] - 0s 5ms/step - loss: 2445.3672 - val_loss: 1546.1776\n",
      "Epoch 27/500\n",
      "22/22 [==============================] - 0s 4ms/step - loss: 2378.3606 - val_loss: 1521.1887\n",
      "Epoch 28/500\n",
      "22/22 [==============================] - 0s 4ms/step - loss: 2312.3694 - val_loss: 1496.0291\n",
      "Epoch 29/500\n",
      "22/22 [==============================] - 0s 5ms/step - loss: 2248.2041 - val_loss: 1472.0604\n",
      "Epoch 30/500\n",
      "22/22 [==============================] - 0s 5ms/step - loss: 2185.5649 - val_loss: 1449.2568\n",
      "Epoch 31/500\n",
      "22/22 [==============================] - 0s 4ms/step - loss: 2124.4250 - val_loss: 1427.5935\n",
      "Epoch 32/500\n",
      "22/22 [==============================] - 0s 5ms/step - loss: 2064.7581 - val_loss: 1407.0471\n",
      "Epoch 33/500\n",
      "22/22 [==============================] - 0s 5ms/step - loss: 2006.5397 - val_loss: 1387.5950\n",
      "Epoch 34/500\n",
      "22/22 [==============================] - 0s 4ms/step - loss: 1949.7443 - val_loss: 1369.1857\n",
      "Epoch 35/500\n",
      "22/22 [==============================] - 0s 5ms/step - loss: 1894.3480 - val_loss: 1351.8422\n",
      "Epoch 36/500\n",
      "22/22 [==============================] - 0s 4ms/step - loss: 1840.3263 - val_loss: 1335.5206\n",
      "Epoch 37/500\n",
      "22/22 [==============================] - 0s 4ms/step - loss: 1787.6559 - val_loss: 1320.1985\n",
      "Epoch 38/500\n",
      "22/22 [==============================] - 0s 6ms/step - loss: 1736.3132 - val_loss: 1305.8529\n",
      "Epoch 39/500\n",
      "22/22 [==============================] - 0s 5ms/step - loss: 1686.2755 - val_loss: 1292.4612\n",
      "Epoch 40/500\n",
      "22/22 [==============================] - 0s 6ms/step - loss: 1637.5197 - val_loss: 1280.0018\n",
      "Epoch 41/500\n",
      "22/22 [==============================] - 0s 6ms/step - loss: 1590.0233 - val_loss: 1268.4524\n",
      "Epoch 42/500\n",
      "22/22 [==============================] - 0s 5ms/step - loss: 1543.7646 - val_loss: 1257.7917\n",
      "Epoch 43/500\n",
      "22/22 [==============================] - 0s 5ms/step - loss: 1498.7207 - val_loss: 1247.9976\n",
      "Epoch 44/500\n",
      "22/22 [==============================] - 0s 5ms/step - loss: 1454.8707 - val_loss: 1239.0491\n",
      "Epoch 45/500\n",
      "22/22 [==============================] - 0s 5ms/step - loss: 1412.1931 - val_loss: 1230.9250\n",
      "Epoch 46/500\n",
      "22/22 [==============================] - 0s 5ms/step - loss: 1370.6664 - val_loss: 1223.6045\n",
      "Epoch 47/500\n",
      "22/22 [==============================] - 0s 5ms/step - loss: 1330.2697 - val_loss: 1217.0668\n",
      "Epoch 48/500\n",
      "22/22 [==============================] - 0s 7ms/step - loss: 1290.9823 - val_loss: 1211.2911\n",
      "Epoch 49/500\n",
      "22/22 [==============================] - 0s 4ms/step - loss: 1252.7830 - val_loss: 1206.2572\n",
      "Epoch 50/500\n",
      "22/22 [==============================] - 0s 5ms/step - loss: 1215.6523 - val_loss: 1201.9449\n",
      "Epoch 51/500\n",
      "22/22 [==============================] - 0s 5ms/step - loss: 1179.5702 - val_loss: 1198.3342\n",
      "Epoch 52/500\n",
      "22/22 [==============================] - 0s 5ms/step - loss: 1144.5151 - val_loss: 1195.4049\n",
      "Epoch 53/500\n",
      "22/22 [==============================] - 0s 5ms/step - loss: 1110.4686 - val_loss: 1193.1378\n",
      "Epoch 54/500\n",
      "22/22 [==============================] - 0s 5ms/step - loss: 1077.4109 - val_loss: 1191.5132\n",
      "Epoch 55/500\n",
      "22/22 [==============================] - 0s 5ms/step - loss: 1045.3223 - val_loss: 1190.5112\n",
      "Epoch 56/500\n",
      "22/22 [==============================] - 0s 5ms/step - loss: 1014.1835 - val_loss: 1190.1134\n",
      "Epoch 57/500\n",
      "22/22 [==============================] - 0s 5ms/step - loss: 983.9755 - val_loss: 1190.3005\n",
      "Epoch 58/500\n",
      "22/22 [==============================] - 0s 6ms/step - loss: 954.6797 - val_loss: 1191.0536\n",
      "Epoch 59/500\n",
      "22/22 [==============================] - 0s 5ms/step - loss: 926.2771 - val_loss: 1192.3540\n",
      "Epoch 60/500\n",
      "22/22 [==============================] - 0s 5ms/step - loss: 898.7493 - val_loss: 1194.1835\n",
      "Epoch 61/500\n",
      "22/22 [==============================] - 0s 7ms/step - loss: 872.0778 - val_loss: 1196.5234\n",
      "Epoch 62/500\n",
      "22/22 [==============================] - 0s 5ms/step - loss: 846.2445 - val_loss: 1199.3558\n",
      "Epoch 63/500\n",
      "22/22 [==============================] - 0s 6ms/step - loss: 821.2311 - val_loss: 1202.6627\n",
      "Epoch 64/500\n",
      "22/22 [==============================] - 0s 5ms/step - loss: 797.0203 - val_loss: 1206.4264\n",
      "Epoch 65/500\n",
      "22/22 [==============================] - 0s 6ms/step - loss: 773.5941 - val_loss: 1210.6293\n",
      "Epoch 66/500\n",
      "22/22 [==============================] - 0s 6ms/step - loss: 750.9350 - val_loss: 1215.2537\n",
      "Epoch 67/500\n",
      "22/22 [==============================] - 0s 6ms/step - loss: 729.0259 - val_loss: 1220.2830\n",
      "Epoch 68/500\n",
      "22/22 [==============================] - 0s 6ms/step - loss: 707.8496 - val_loss: 1225.6993\n",
      "Epoch 69/500\n",
      "22/22 [==============================] - 0s 7ms/step - loss: 687.3891 - val_loss: 1231.4868\n",
      "Epoch 70/500\n",
      "22/22 [==============================] - 0s 8ms/step - loss: 667.6276 - val_loss: 1237.6282\n",
      "Epoch 71/500\n",
      "22/22 [==============================] - 0s 7ms/step - loss: 648.5482 - val_loss: 1244.1072\n",
      "Epoch 72/500\n",
      "22/22 [==============================] - 0s 8ms/step - loss: 630.1351 - val_loss: 1250.9077\n",
      "Epoch 73/500\n",
      "22/22 [==============================] - 0s 7ms/step - loss: 612.3716 - val_loss: 1258.0135\n",
      "Epoch 74/500\n",
      "22/22 [==============================] - 0s 7ms/step - loss: 595.2417 - val_loss: 1265.4091\n",
      "Epoch 75/500\n",
      "22/22 [==============================] - 0s 6ms/step - loss: 578.7296 - val_loss: 1273.0784\n",
      "Epoch 76/500\n",
      "22/22 [==============================] - 0s 6ms/step - loss: 562.8198 - val_loss: 1281.0065\n",
      "Epoch 77/500\n",
      "22/22 [==============================] - 0s 6ms/step - loss: 547.4963 - val_loss: 1289.1776\n",
      "Epoch 78/500\n",
      "22/22 [==============================] - 0s 6ms/step - loss: 532.7443 - val_loss: 1297.5779\n",
      "Epoch 79/500\n",
      "22/22 [==============================] - 0s 5ms/step - loss: 518.5480 - val_loss: 1306.1915\n",
      "Epoch 80/500\n",
      "22/22 [==============================] - 0s 6ms/step - loss: 504.8931 - val_loss: 1315.0048\n",
      "Epoch 81/500\n",
      "22/22 [==============================] - 0s 6ms/step - loss: 491.7646 - val_loss: 1324.0032\n",
      "Epoch 82/500\n",
      "22/22 [==============================] - 0s 6ms/step - loss: 479.1478 - val_loss: 1333.1724\n",
      "Epoch 83/500\n",
      "22/22 [==============================] - 0s 5ms/step - loss: 467.0285 - val_loss: 1342.4989\n",
      "Epoch 84/500\n",
      "22/22 [==============================] - 0s 6ms/step - loss: 455.3927 - val_loss: 1351.9692\n",
      "Epoch 85/500\n",
      "22/22 [==============================] - 0s 6ms/step - loss: 444.2261 - val_loss: 1361.5712\n",
      "Epoch 86/500\n",
      "22/22 [==============================] - 0s 6ms/step - loss: 433.5150 - val_loss: 1371.2897\n",
      "Epoch 87/500\n",
      "22/22 [==============================] - 0s 7ms/step - loss: 423.2460 - val_loss: 1381.1136\n",
      "Epoch 88/500\n",
      "22/22 [==============================] - 0s 6ms/step - loss: 413.4057 - val_loss: 1391.0298\n",
      "Epoch 89/500\n",
      "22/22 [==============================] - 0s 6ms/step - loss: 403.9808 - val_loss: 1401.0264\n",
      "Epoch 90/500\n",
      "22/22 [==============================] - 0s 6ms/step - loss: 394.9586 - val_loss: 1411.0913\n",
      "Epoch 91/500\n",
      "22/22 [==============================] - 0s 5ms/step - loss: 386.3262 - val_loss: 1421.2129\n",
      "Epoch 92/500\n",
      "22/22 [==============================] - 0s 6ms/step - loss: 378.0713 - val_loss: 1431.3800\n",
      "Epoch 93/500\n",
      "22/22 [==============================] - 0s 6ms/step - loss: 370.1815 - val_loss: 1441.5814\n",
      "Epoch 94/500\n",
      "22/22 [==============================] - 0s 6ms/step - loss: 362.6447 - val_loss: 1451.8060\n",
      "Epoch 95/500\n",
      "22/22 [==============================] - 0s 6ms/step - loss: 355.4490 - val_loss: 1462.0443\n",
      "Epoch 96/500\n",
      "22/22 [==============================] - 0s 5ms/step - loss: 348.5829 - val_loss: 1472.2850\n",
      "Epoch 97/500\n",
      "22/22 [==============================] - 0s 5ms/step - loss: 342.0352 - val_loss: 1482.5192\n",
      "Epoch 98/500\n",
      "22/22 [==============================] - 0s 13ms/step - loss: 335.7941 - val_loss: 1492.7361\n",
      "Epoch 99/500\n",
      "22/22 [==============================] - 0s 6ms/step - loss: 329.8492 - val_loss: 1502.9275\n",
      "Epoch 100/500\n",
      "22/22 [==============================] - 0s 6ms/step - loss: 324.1897 - val_loss: 1513.0834\n",
      "Epoch 101/500\n",
      "22/22 [==============================] - 0s 7ms/step - loss: 318.8050 - val_loss: 1523.1958\n",
      "Epoch 102/500\n",
      "22/22 [==============================] - 0s 8ms/step - loss: 313.6848 - val_loss: 1533.2572\n",
      "Epoch 103/500\n",
      "22/22 [==============================] - 0s 7ms/step - loss: 308.8192 - val_loss: 1543.2573\n",
      "Epoch 104/500\n",
      "22/22 [==============================] - 0s 6ms/step - loss: 304.1982 - val_loss: 1553.1907\n",
      "Epoch 105/500\n",
      "22/22 [==============================] - 0s 6ms/step - loss: 299.8125 - val_loss: 1563.0482\n",
      "Epoch 106/500\n",
      "22/22 [==============================] - 0s 6ms/step - loss: 295.6526 - val_loss: 1572.8237\n",
      "Epoch 107/500\n",
      "22/22 [==============================] - 0s 5ms/step - loss: 291.7094 - val_loss: 1582.5106\n",
      "Epoch 108/500\n",
      "22/22 [==============================] - 0s 6ms/step - loss: 287.9742 - val_loss: 1592.1014\n",
      "Epoch 109/500\n",
      "22/22 [==============================] - 0s 6ms/step - loss: 284.4379 - val_loss: 1601.5901\n",
      "Epoch 110/500\n",
      "22/22 [==============================] - 0s 6ms/step - loss: 281.0927 - val_loss: 1610.9720\n",
      "Epoch 111/500\n",
      "22/22 [==============================] - 0s 6ms/step - loss: 277.9299 - val_loss: 1620.2401\n",
      "Epoch 112/500\n",
      "22/22 [==============================] - 0s 5ms/step - loss: 274.9419 - val_loss: 1629.3903\n",
      "Epoch 113/500\n",
      "22/22 [==============================] - 0s 6ms/step - loss: 272.1208 - val_loss: 1638.4175\n",
      "Epoch 114/500\n",
      "22/22 [==============================] - 0s 6ms/step - loss: 269.4592 - val_loss: 1647.3162\n",
      "Epoch 115/500\n",
      "22/22 [==============================] - 0s 5ms/step - loss: 266.9499 - val_loss: 1656.0828\n",
      "Epoch 116/500\n",
      "22/22 [==============================] - 0s 5ms/step - loss: 264.5857 - val_loss: 1664.7133\n",
      "Epoch 117/500\n",
      "22/22 [==============================] - 0s 6ms/step - loss: 262.3599 - val_loss: 1673.2042\n",
      "Epoch 118/500\n",
      "22/22 [==============================] - 0s 5ms/step - loss: 260.2658 - val_loss: 1681.5513\n",
      "Epoch 119/500\n",
      "22/22 [==============================] - 0s 5ms/step - loss: 258.2972 - val_loss: 1689.7524\n",
      "Epoch 120/500\n",
      "22/22 [==============================] - 0s 5ms/step - loss: 256.4479 - val_loss: 1697.8044\n",
      "Epoch 121/500\n",
      "22/22 [==============================] - 0s 4ms/step - loss: 254.7120 - val_loss: 1705.7045\n",
      "Epoch 122/500\n",
      "22/22 [==============================] - 0s 5ms/step - loss: 253.0835 - val_loss: 1713.4506\n",
      "Epoch 123/500\n",
      "22/22 [==============================] - 0s 5ms/step - loss: 251.5572 - val_loss: 1721.0411\n",
      "Epoch 124/500\n",
      "22/22 [==============================] - 0s 5ms/step - loss: 250.1275 - val_loss: 1728.4741\n",
      "Epoch 125/500\n",
      "22/22 [==============================] - 0s 5ms/step - loss: 248.7897 - val_loss: 1735.7471\n",
      "Epoch 126/500\n",
      "22/22 [==============================] - 0s 5ms/step - loss: 247.5386 - val_loss: 1742.8611\n",
      "Epoch 127/500\n",
      "22/22 [==============================] - 0s 6ms/step - loss: 246.3694 - val_loss: 1749.8129\n",
      "Epoch 128/500\n",
      "22/22 [==============================] - 0s 5ms/step - loss: 245.2778 - val_loss: 1756.6033\n",
      "Epoch 129/500\n",
      "22/22 [==============================] - 0s 5ms/step - loss: 244.2594 - val_loss: 1763.2314\n",
      "Epoch 130/500\n",
      "22/22 [==============================] - 0s 5ms/step - loss: 243.3101 - val_loss: 1769.6963\n",
      "Epoch 131/500\n",
      "22/22 [==============================] - 0s 11ms/step - loss: 242.4258 - val_loss: 1776.0010\n",
      "Epoch 132/500\n",
      "22/22 [==============================] - 0s 7ms/step - loss: 241.6027 - val_loss: 1782.1409\n",
      "Epoch 133/500\n",
      "22/22 [==============================] - 0s 7ms/step - loss: 240.8373 - val_loss: 1788.1206\n",
      "Epoch 134/500\n",
      "22/22 [==============================] - 0s 6ms/step - loss: 240.1261 - val_loss: 1793.9377\n",
      "Epoch 135/500\n",
      "22/22 [==============================] - 0s 6ms/step - loss: 239.4659 - val_loss: 1799.5955\n",
      "Epoch 136/500\n",
      "22/22 [==============================] - 0s 6ms/step - loss: 238.8534 - val_loss: 1805.0930\n",
      "Epoch 137/500\n",
      "22/22 [==============================] - 0s 6ms/step - loss: 238.2857 - val_loss: 1810.4325\n",
      "Epoch 138/500\n",
      "22/22 [==============================] - 0s 5ms/step - loss: 237.7599 - val_loss: 1815.6158\n",
      "Epoch 139/500\n",
      "22/22 [==============================] - 0s 5ms/step - loss: 237.2734 - val_loss: 1820.6432\n",
      "Epoch 140/500\n",
      "22/22 [==============================] - 0s 5ms/step - loss: 236.8236 - val_loss: 1825.5181\n",
      "Epoch 141/500\n",
      "22/22 [==============================] - 0s 5ms/step - loss: 236.4081 - val_loss: 1830.2405\n",
      "Epoch 142/500\n",
      "22/22 [==============================] - 0s 6ms/step - loss: 236.0246 - val_loss: 1834.8125\n",
      "Epoch 143/500\n",
      "22/22 [==============================] - 0s 5ms/step - loss: 235.6711 - val_loss: 1839.2368\n",
      "Epoch 144/500\n",
      "22/22 [==============================] - 0s 6ms/step - loss: 235.3452 - val_loss: 1843.5154\n",
      "Epoch 145/500\n",
      "22/22 [==============================] - 0s 5ms/step - loss: 235.0453 - val_loss: 1847.6508\n",
      "Epoch 146/500\n",
      "22/22 [==============================] - 0s 5ms/step - loss: 234.7694 - val_loss: 1851.6450\n",
      "Epoch 147/500\n",
      "22/22 [==============================] - 0s 6ms/step - loss: 234.5159 - val_loss: 1855.5010\n",
      "Epoch 148/500\n",
      "22/22 [==============================] - 0s 5ms/step - loss: 234.2831 - val_loss: 1859.2209\n",
      "Epoch 149/500\n",
      "22/22 [==============================] - 0s 5ms/step - loss: 234.0696 - val_loss: 1862.8075\n",
      "Epoch 150/500\n",
      "22/22 [==============================] - 0s 7ms/step - loss: 233.8740 - val_loss: 1866.2631\n",
      "Epoch 151/500\n",
      "22/22 [==============================] - 0s 6ms/step - loss: 233.6947 - val_loss: 1869.5909\n",
      "Epoch 152/500\n",
      "22/22 [==============================] - 0s 13ms/step - loss: 233.5308 - val_loss: 1872.7939\n",
      "Epoch 153/500\n",
      "22/22 [==============================] - 0s 7ms/step - loss: 233.3810 - val_loss: 1875.8744\n",
      "Epoch 154/500\n",
      "22/22 [==============================] - 0s 7ms/step - loss: 233.2441 - val_loss: 1878.8358\n",
      "Epoch 155/500\n",
      "22/22 [==============================] - 0s 6ms/step - loss: 233.1193 - val_loss: 1881.6805\n",
      "Epoch 156/500\n",
      "22/22 [==============================] - 0s 5ms/step - loss: 233.0054 - val_loss: 1884.4110\n",
      "Epoch 157/500\n",
      "22/22 [==============================] - 0s 5ms/step - loss: 232.9017 - val_loss: 1887.0333\n",
      "Epoch 158/500\n",
      "22/22 [==============================] - 0s 5ms/step - loss: 232.8074 - val_loss: 1889.5466\n",
      "Epoch 159/500\n",
      "22/22 [==============================] - 0s 5ms/step - loss: 232.7217 - val_loss: 1891.9553\n",
      "Epoch 160/500\n",
      "22/22 [==============================] - 0s 5ms/step - loss: 232.6438 - val_loss: 1894.2631\n",
      "Epoch 161/500\n",
      "22/22 [==============================] - 0s 5ms/step - loss: 232.5731 - val_loss: 1896.4720\n",
      "Epoch 162/500\n",
      "22/22 [==============================] - 0s 5ms/step - loss: 232.5091 - val_loss: 1898.5854\n",
      "Epoch 163/500\n",
      "22/22 [==============================] - 0s 6ms/step - loss: 232.4511 - val_loss: 1900.6057\n",
      "Epoch 164/500\n",
      "22/22 [==============================] - 0s 6ms/step - loss: 232.3986 - val_loss: 1902.5366\n",
      "Epoch 165/500\n",
      "22/22 [==============================] - 0s 6ms/step - loss: 232.3512 - val_loss: 1904.3811\n",
      "Epoch 166/500\n",
      "22/22 [==============================] - 0s 6ms/step - loss: 232.3083 - val_loss: 1906.1400\n",
      "Epoch 167/500\n",
      "22/22 [==============================] - 0s 5ms/step - loss: 232.2698 - val_loss: 1907.8186\n",
      "Epoch 168/500\n",
      "22/22 [==============================] - 0s 5ms/step - loss: 232.2350 - val_loss: 1909.4194\n",
      "Epoch 169/500\n",
      "22/22 [==============================] - 0s 6ms/step - loss: 232.2036 - val_loss: 1910.9441\n",
      "Epoch 170/500\n",
      "22/22 [==============================] - 0s 5ms/step - loss: 232.1756 - val_loss: 1912.3964\n",
      "Epoch 171/500\n",
      "22/22 [==============================] - 0s 6ms/step - loss: 232.1503 - val_loss: 1913.7784\n",
      "Epoch 172/500\n",
      "22/22 [==============================] - 0s 5ms/step - loss: 232.1276 - val_loss: 1915.0928\n",
      "Epoch 173/500\n",
      "22/22 [==============================] - 0s 5ms/step - loss: 232.1073 - val_loss: 1916.3423\n",
      "Epoch 174/500\n",
      "22/22 [==============================] - 0s 5ms/step - loss: 232.0891 - val_loss: 1917.5295\n",
      "Epoch 175/500\n",
      "22/22 [==============================] - 0s 6ms/step - loss: 232.0730 - val_loss: 1918.6556\n",
      "Epoch 176/500\n",
      "22/22 [==============================] - 0s 7ms/step - loss: 232.0585 - val_loss: 1919.7257\n",
      "Epoch 177/500\n",
      "22/22 [==============================] - 0s 6ms/step - loss: 232.0457 - val_loss: 1920.7401\n",
      "Epoch 178/500\n",
      "22/22 [==============================] - 0s 6ms/step - loss: 232.0342 - val_loss: 1921.6996\n",
      "Epoch 179/500\n",
      "22/22 [==============================] - 0s 5ms/step - loss: 232.0241 - val_loss: 1922.6111\n",
      "Epoch 180/500\n",
      "22/22 [==============================] - 0s 6ms/step - loss: 232.0151 - val_loss: 1923.4735\n",
      "Epoch 181/500\n",
      "22/22 [==============================] - 0s 6ms/step - loss: 232.0072 - val_loss: 1924.2885\n",
      "Epoch 182/500\n",
      "22/22 [==============================] - 0s 13ms/step - loss: 232.0003 - val_loss: 1925.0596\n",
      "Epoch 183/500\n",
      "22/22 [==============================] - 0s 6ms/step - loss: 231.9942 - val_loss: 1925.7888\n",
      "Epoch 184/500\n",
      "22/22 [==============================] - 0s 7ms/step - loss: 231.9889 - val_loss: 1926.4764\n",
      "Epoch 185/500\n",
      "22/22 [==============================] - 0s 7ms/step - loss: 231.9843 - val_loss: 1927.1267\n",
      "Epoch 186/500\n",
      "22/22 [==============================] - 0s 6ms/step - loss: 231.9802 - val_loss: 1927.7394\n",
      "Epoch 187/500\n",
      "22/22 [==============================] - 0s 7ms/step - loss: 231.9767 - val_loss: 1928.3179\n",
      "Epoch 188/500\n",
      "22/22 [==============================] - 0s 6ms/step - loss: 231.9738 - val_loss: 1928.8627\n",
      "Epoch 189/500\n",
      "22/22 [==============================] - 0s 8ms/step - loss: 231.9713 - val_loss: 1929.3757\n",
      "Epoch 190/500\n",
      "22/22 [==============================] - 0s 7ms/step - loss: 231.9692 - val_loss: 1929.8583\n",
      "Epoch 191/500\n",
      "22/22 [==============================] - 0s 7ms/step - loss: 231.9674 - val_loss: 1930.3129\n",
      "Epoch 192/500\n",
      "22/22 [==============================] - 0s 7ms/step - loss: 231.9660 - val_loss: 1930.7391\n",
      "Epoch 193/500\n",
      "22/22 [==============================] - 0s 7ms/step - loss: 231.9649 - val_loss: 1931.1400\n",
      "Epoch 194/500\n",
      "22/22 [==============================] - 0s 7ms/step - loss: 231.9642 - val_loss: 1931.5166\n",
      "Epoch 195/500\n",
      "22/22 [==============================] - 0s 8ms/step - loss: 231.9634 - val_loss: 1931.8710\n",
      "Epoch 196/500\n",
      "22/22 [==============================] - 0s 7ms/step - loss: 231.9631 - val_loss: 1932.2025\n",
      "Epoch 197/500\n",
      "22/22 [==============================] - 0s 8ms/step - loss: 231.9628 - val_loss: 1932.5128\n",
      "Epoch 198/500\n",
      "22/22 [==============================] - 0s 7ms/step - loss: 231.9628 - val_loss: 1932.8042\n",
      "Epoch 199/500\n",
      "22/22 [==============================] - 0s 7ms/step - loss: 231.9629 - val_loss: 1933.0770\n",
      "Epoch 200/500\n",
      "22/22 [==============================] - 0s 7ms/step - loss: 231.9631 - val_loss: 1933.3320\n",
      "Epoch 201/500\n",
      "22/22 [==============================] - 0s 7ms/step - loss: 231.9634 - val_loss: 1933.5706\n",
      "Epoch 202/500\n",
      "22/22 [==============================] - 0s 16ms/step - loss: 231.9639 - val_loss: 1933.7939\n",
      "Epoch 203/500\n",
      "22/22 [==============================] - 0s 9ms/step - loss: 231.9644 - val_loss: 1934.0015\n",
      "Epoch 204/500\n",
      "22/22 [==============================] - 0s 8ms/step - loss: 231.9651 - val_loss: 1934.1962\n",
      "Epoch 205/500\n",
      "22/22 [==============================] - 0s 8ms/step - loss: 231.9657 - val_loss: 1934.3765\n",
      "Epoch 206/500\n",
      "22/22 [==============================] - 0s 7ms/step - loss: 231.9666 - val_loss: 1934.5455\n",
      "Epoch 207/500\n",
      "22/22 [==============================] - 0s 8ms/step - loss: 231.9674 - val_loss: 1934.7037\n",
      "Epoch 208/500\n",
      "22/22 [==============================] - 0s 7ms/step - loss: 231.9683 - val_loss: 1934.8506\n",
      "Epoch 209/500\n",
      "22/22 [==============================] - 0s 7ms/step - loss: 231.9692 - val_loss: 1934.9872\n",
      "Epoch 210/500\n",
      "22/22 [==============================] - 0s 7ms/step - loss: 231.9703 - val_loss: 1935.1140\n",
      "Epoch 211/500\n",
      "22/22 [==============================] - 0s 7ms/step - loss: 231.9713 - val_loss: 1935.2314\n",
      "Epoch 212/500\n",
      "22/22 [==============================] - 0s 6ms/step - loss: 231.9724 - val_loss: 1935.3412\n",
      "Epoch 213/500\n",
      "22/22 [==============================] - 0s 8ms/step - loss: 231.9734 - val_loss: 1935.4426\n",
      "Epoch 214/500\n",
      "22/22 [==============================] - 0s 7ms/step - loss: 231.9746 - val_loss: 1935.5360\n",
      "Epoch 215/500\n",
      "22/22 [==============================] - 0s 7ms/step - loss: 231.9757 - val_loss: 1935.6237\n",
      "Epoch 216/500\n",
      "22/22 [==============================] - 0s 7ms/step - loss: 231.9769 - val_loss: 1935.7050\n",
      "Epoch 217/500\n",
      "22/22 [==============================] - 0s 6ms/step - loss: 231.9780 - val_loss: 1935.7792\n",
      "Epoch 218/500\n",
      "22/22 [==============================] - 0s 8ms/step - loss: 231.9792 - val_loss: 1935.8488\n",
      "Epoch 219/500\n",
      "22/22 [==============================] - 0s 7ms/step - loss: 231.9804 - val_loss: 1935.9124\n",
      "Epoch 220/500\n",
      "22/22 [==============================] - 0s 7ms/step - loss: 231.9816 - val_loss: 1935.9709\n",
      "Epoch 221/500\n",
      "22/22 [==============================] - 0s 8ms/step - loss: 231.9829 - val_loss: 1936.0250\n",
      "Epoch 222/500\n",
      "22/22 [==============================] - 0s 8ms/step - loss: 231.9841 - val_loss: 1936.0750\n",
      "Epoch 223/500\n",
      "22/22 [==============================] - 0s 8ms/step - loss: 231.9853 - val_loss: 1936.1213\n",
      "Epoch 224/500\n",
      "22/22 [==============================] - 0s 8ms/step - loss: 231.9866 - val_loss: 1936.1642\n",
      "Epoch 225/500\n",
      "22/22 [==============================] - 0s 7ms/step - loss: 231.9878 - val_loss: 1936.2025\n",
      "Epoch 226/500\n",
      "22/22 [==============================] - 0s 6ms/step - loss: 231.9891 - val_loss: 1936.2391\n",
      "Epoch 227/500\n",
      "22/22 [==============================] - 0s 6ms/step - loss: 231.9903 - val_loss: 1936.2717\n",
      "Epoch 228/500\n",
      "22/22 [==============================] - 0s 6ms/step - loss: 231.9916 - val_loss: 1936.3016\n",
      "Epoch 229/500\n",
      "22/22 [==============================] - 0s 11ms/step - loss: 231.9928 - val_loss: 1936.3295\n",
      "Epoch 230/500\n",
      "22/22 [==============================] - 0s 6ms/step - loss: 231.9940 - val_loss: 1936.3544\n",
      "Epoch 231/500\n",
      "22/22 [==============================] - 0s 6ms/step - loss: 231.9953 - val_loss: 1936.3774\n",
      "Epoch 232/500\n",
      "22/22 [==============================] - 0s 5ms/step - loss: 231.9965 - val_loss: 1936.3979\n",
      "Epoch 233/500\n",
      "22/22 [==============================] - 0s 5ms/step - loss: 231.9977 - val_loss: 1936.4169\n",
      "Epoch 234/500\n",
      "22/22 [==============================] - 0s 5ms/step - loss: 231.9989 - val_loss: 1936.4347\n",
      "Epoch 235/500\n",
      "22/22 [==============================] - 0s 5ms/step - loss: 232.0001 - val_loss: 1936.4492\n",
      "Epoch 236/500\n",
      "22/22 [==============================] - 0s 5ms/step - loss: 232.0013 - val_loss: 1936.4637\n",
      "Epoch 237/500\n",
      "22/22 [==============================] - 0s 5ms/step - loss: 232.0025 - val_loss: 1936.4764\n",
      "Epoch 238/500\n",
      "22/22 [==============================] - 0s 5ms/step - loss: 232.0037 - val_loss: 1936.4884\n",
      "Epoch 239/500\n",
      "22/22 [==============================] - 0s 5ms/step - loss: 232.0048 - val_loss: 1936.4979\n",
      "Epoch 240/500\n",
      "22/22 [==============================] - 0s 5ms/step - loss: 232.0060 - val_loss: 1936.5076\n",
      "Epoch 241/500\n",
      "22/22 [==============================] - 0s 5ms/step - loss: 232.0072 - val_loss: 1936.5162\n",
      "Epoch 242/500\n",
      "22/22 [==============================] - 0s 5ms/step - loss: 232.0083 - val_loss: 1936.5228\n",
      "Epoch 243/500\n",
      "22/22 [==============================] - 0s 5ms/step - loss: 232.0094 - val_loss: 1936.5292\n",
      "Epoch 244/500\n",
      "22/22 [==============================] - 0s 6ms/step - loss: 232.0106 - val_loss: 1936.5353\n",
      "Epoch 245/500\n",
      "22/22 [==============================] - 0s 6ms/step - loss: 232.0117 - val_loss: 1936.5403\n",
      "Epoch 246/500\n",
      "22/22 [==============================] - 0s 7ms/step - loss: 232.0128 - val_loss: 1936.5439\n",
      "Epoch 247/500\n",
      "22/22 [==============================] - 0s 6ms/step - loss: 232.0139 - val_loss: 1936.5494\n",
      "Epoch 248/500\n",
      "22/22 [==============================] - 0s 5ms/step - loss: 232.0149 - val_loss: 1936.5515\n",
      "Epoch 249/500\n",
      "22/22 [==============================] - 0s 5ms/step - loss: 232.0160 - val_loss: 1936.5546\n",
      "Epoch 250/500\n",
      "22/22 [==============================] - 0s 5ms/step - loss: 232.0170 - val_loss: 1936.5559\n",
      "Epoch 251/500\n",
      "22/22 [==============================] - 0s 5ms/step - loss: 232.0181 - val_loss: 1936.5575\n",
      "Epoch 252/500\n",
      "22/22 [==============================] - 0s 6ms/step - loss: 232.0191 - val_loss: 1936.5592\n",
      "Epoch 253/500\n",
      "22/22 [==============================] - 0s 6ms/step - loss: 232.0202 - val_loss: 1936.5599\n",
      "Epoch 254/500\n",
      "22/22 [==============================] - 0s 8ms/step - loss: 232.0212 - val_loss: 1936.5608\n",
      "Epoch 255/500\n",
      "22/22 [==============================] - 0s 6ms/step - loss: 232.0221 - val_loss: 1936.5614\n",
      "Epoch 256/500\n",
      "22/22 [==============================] - 0s 6ms/step - loss: 232.0231 - val_loss: 1936.5615\n",
      "Epoch 257/500\n",
      "22/22 [==============================] - 0s 6ms/step - loss: 232.0241 - val_loss: 1936.5614\n",
      "Epoch 258/500\n",
      "22/22 [==============================] - 0s 11ms/step - loss: 232.0250 - val_loss: 1936.5614\n",
      "Epoch 259/500\n",
      "22/22 [==============================] - 0s 6ms/step - loss: 232.0260 - val_loss: 1936.5608\n",
      "Epoch 260/500\n",
      "22/22 [==============================] - 0s 9ms/step - loss: 232.0269 - val_loss: 1936.5603\n",
      "Epoch 261/500\n",
      "22/22 [==============================] - 0s 8ms/step - loss: 232.0278 - val_loss: 1936.5599\n",
      "Epoch 262/500\n",
      "22/22 [==============================] - 0s 8ms/step - loss: 232.0287 - val_loss: 1936.5588\n",
      "Epoch 263/500\n",
      "22/22 [==============================] - 0s 7ms/step - loss: 232.0296 - val_loss: 1936.5579\n",
      "Epoch 264/500\n",
      "22/22 [==============================] - 0s 6ms/step - loss: 232.0305 - val_loss: 1936.5563\n",
      "Epoch 265/500\n",
      "22/22 [==============================] - 0s 6ms/step - loss: 232.0314 - val_loss: 1936.5549\n",
      "Epoch 266/500\n",
      "22/22 [==============================] - 0s 5ms/step - loss: 232.0322 - val_loss: 1936.5537\n",
      "Epoch 267/500\n",
      "22/22 [==============================] - 0s 4ms/step - loss: 232.0331 - val_loss: 1936.5522\n",
      "Epoch 268/500\n",
      "22/22 [==============================] - 0s 5ms/step - loss: 232.0339 - val_loss: 1936.5515\n",
      "Epoch 269/500\n",
      "22/22 [==============================] - 0s 5ms/step - loss: 232.0347 - val_loss: 1936.5504\n",
      "Epoch 270/500\n",
      "22/22 [==============================] - 0s 5ms/step - loss: 232.0355 - val_loss: 1936.5480\n",
      "Epoch 271/500\n",
      "22/22 [==============================] - 0s 5ms/step - loss: 232.0363 - val_loss: 1936.5463\n",
      "Epoch 272/500\n",
      "22/22 [==============================] - 0s 5ms/step - loss: 232.0370 - val_loss: 1936.5443\n",
      "Epoch 273/500\n",
      "22/22 [==============================] - 0s 5ms/step - loss: 232.0379 - val_loss: 1936.5422\n",
      "Epoch 274/500\n",
      "22/22 [==============================] - 0s 5ms/step - loss: 232.0387 - val_loss: 1936.5403\n",
      "Epoch 275/500\n",
      "22/22 [==============================] - 0s 5ms/step - loss: 232.0393 - val_loss: 1936.5393\n",
      "Epoch 276/500\n",
      "22/22 [==============================] - 0s 5ms/step - loss: 232.0401 - val_loss: 1936.5378\n",
      "Epoch 277/500\n",
      "22/22 [==============================] - 0s 5ms/step - loss: 232.0407 - val_loss: 1936.5364\n",
      "Epoch 278/500\n",
      "22/22 [==============================] - 0s 5ms/step - loss: 232.0415 - val_loss: 1936.5348\n",
      "Epoch 279/500\n",
      "22/22 [==============================] - 0s 5ms/step - loss: 232.0422 - val_loss: 1936.5326\n",
      "Epoch 280/500\n",
      "22/22 [==============================] - 0s 5ms/step - loss: 232.0429 - val_loss: 1936.5302\n",
      "Epoch 281/500\n",
      "22/22 [==============================] - 0s 5ms/step - loss: 232.0435 - val_loss: 1936.5291\n",
      "Epoch 282/500\n",
      "22/22 [==============================] - 0s 8ms/step - loss: 232.0441 - val_loss: 1936.5277\n",
      "Epoch 283/500\n",
      "22/22 [==============================] - 0s 8ms/step - loss: 232.0449 - val_loss: 1936.5262\n",
      "Epoch 284/500\n",
      "22/22 [==============================] - 0s 6ms/step - loss: 232.0455 - val_loss: 1936.5239\n",
      "Epoch 285/500\n",
      "22/22 [==============================] - 0s 6ms/step - loss: 232.0461 - val_loss: 1936.5217\n",
      "Epoch 286/500\n",
      "22/22 [==============================] - 0s 6ms/step - loss: 232.0468 - val_loss: 1936.5197\n",
      "Epoch 287/500\n",
      "22/22 [==============================] - 0s 5ms/step - loss: 232.0474 - val_loss: 1936.5181\n",
      "Epoch 288/500\n",
      "22/22 [==============================] - 0s 5ms/step - loss: 232.0480 - val_loss: 1936.5171\n",
      "Epoch 289/500\n",
      "22/22 [==============================] - 0s 5ms/step - loss: 232.0486 - val_loss: 1936.5159\n",
      "Epoch 290/500\n",
      "22/22 [==============================] - 0s 5ms/step - loss: 232.0491 - val_loss: 1936.5135\n",
      "Epoch 291/500\n",
      "22/22 [==============================] - 0s 5ms/step - loss: 232.0497 - val_loss: 1936.5125\n",
      "Epoch 292/500\n",
      "22/22 [==============================] - 0s 5ms/step - loss: 232.0503 - val_loss: 1936.5109\n",
      "Epoch 293/500\n",
      "22/22 [==============================] - 0s 5ms/step - loss: 232.0509 - val_loss: 1936.5095\n",
      "Epoch 294/500\n",
      "22/22 [==============================] - 0s 5ms/step - loss: 232.0514 - val_loss: 1936.5081\n",
      "Epoch 295/500\n",
      "22/22 [==============================] - 0s 5ms/step - loss: 232.0519 - val_loss: 1936.5070\n",
      "Epoch 296/500\n",
      "22/22 [==============================] - 0s 5ms/step - loss: 232.0524 - val_loss: 1936.5061\n",
      "Epoch 297/500\n",
      "22/22 [==============================] - 0s 5ms/step - loss: 232.0529 - val_loss: 1936.5040\n",
      "Epoch 298/500\n",
      "22/22 [==============================] - 0s 5ms/step - loss: 232.0534 - val_loss: 1936.5015\n",
      "Epoch 299/500\n",
      "22/22 [==============================] - 0s 5ms/step - loss: 232.0540 - val_loss: 1936.5007\n",
      "Epoch 300/500\n",
      "22/22 [==============================] - 0s 6ms/step - loss: 232.0544 - val_loss: 1936.4990\n",
      "Epoch 301/500\n",
      "22/22 [==============================] - 0s 5ms/step - loss: 232.0549 - val_loss: 1936.4972\n",
      "Epoch 302/500\n",
      "22/22 [==============================] - 0s 5ms/step - loss: 232.0554 - val_loss: 1936.4965\n",
      "Epoch 303/500\n",
      "22/22 [==============================] - 0s 5ms/step - loss: 232.0558 - val_loss: 1936.4954\n",
      "Epoch 304/500\n",
      "22/22 [==============================] - 0s 5ms/step - loss: 232.0563 - val_loss: 1936.4938\n",
      "Epoch 305/500\n",
      "22/22 [==============================] - 0s 6ms/step - loss: 232.0568 - val_loss: 1936.4927\n",
      "Epoch 306/500\n",
      "22/22 [==============================] - 0s 5ms/step - loss: 232.0572 - val_loss: 1936.4917\n",
      "Epoch 307/500\n",
      "22/22 [==============================] - 0s 5ms/step - loss: 232.0576 - val_loss: 1936.4901\n",
      "Epoch 308/500\n",
      "22/22 [==============================] - 0s 12ms/step - loss: 232.0580 - val_loss: 1936.4890\n",
      "Epoch 309/500\n",
      "22/22 [==============================] - 0s 6ms/step - loss: 232.0584 - val_loss: 1936.4875\n",
      "Epoch 310/500\n",
      "22/22 [==============================] - 0s 6ms/step - loss: 232.0588 - val_loss: 1936.4865\n",
      "Epoch 311/500\n",
      "22/22 [==============================] - 0s 5ms/step - loss: 232.0592 - val_loss: 1936.4854\n",
      "Epoch 312/500\n",
      "22/22 [==============================] - 0s 5ms/step - loss: 232.0596 - val_loss: 1936.4846\n",
      "Epoch 313/500\n",
      "22/22 [==============================] - 0s 6ms/step - loss: 232.0600 - val_loss: 1936.4836\n",
      "Epoch 314/500\n",
      "22/22 [==============================] - 0s 6ms/step - loss: 232.0604 - val_loss: 1936.4822\n",
      "Epoch 315/500\n",
      "22/22 [==============================] - 0s 5ms/step - loss: 232.0607 - val_loss: 1936.4808\n",
      "Epoch 316/500\n",
      "22/22 [==============================] - 0s 5ms/step - loss: 232.0610 - val_loss: 1936.4797\n",
      "Epoch 317/500\n",
      "22/22 [==============================] - 0s 5ms/step - loss: 232.0614 - val_loss: 1936.4783\n",
      "Epoch 318/500\n",
      "22/22 [==============================] - 0s 6ms/step - loss: 232.0617 - val_loss: 1936.4774\n",
      "Epoch 319/500\n",
      "22/22 [==============================] - 0s 5ms/step - loss: 232.0621 - val_loss: 1936.4764\n",
      "Epoch 320/500\n",
      "22/22 [==============================] - 0s 5ms/step - loss: 232.0624 - val_loss: 1936.4756\n",
      "Epoch 321/500\n",
      "22/22 [==============================] - 0s 5ms/step - loss: 232.0627 - val_loss: 1936.4746\n",
      "Epoch 322/500\n",
      "22/22 [==============================] - 0s 5ms/step - loss: 232.0630 - val_loss: 1936.4734\n",
      "Epoch 323/500\n",
      "22/22 [==============================] - 0s 5ms/step - loss: 232.0633 - val_loss: 1936.4734\n",
      "Epoch 324/500\n",
      "22/22 [==============================] - 0s 5ms/step - loss: 232.0636 - val_loss: 1936.4727\n",
      "Epoch 325/500\n",
      "22/22 [==============================] - 0s 6ms/step - loss: 232.0640 - val_loss: 1936.4723\n",
      "Epoch 326/500\n",
      "22/22 [==============================] - 0s 5ms/step - loss: 232.0642 - val_loss: 1936.4708\n",
      "Epoch 327/500\n",
      "22/22 [==============================] - 0s 5ms/step - loss: 232.0646 - val_loss: 1936.4695\n",
      "Epoch 328/500\n",
      "22/22 [==============================] - 0s 5ms/step - loss: 232.0649 - val_loss: 1936.4680\n",
      "Epoch 329/500\n",
      "22/22 [==============================] - 0s 6ms/step - loss: 232.0651 - val_loss: 1936.4677\n",
      "Epoch 330/500\n",
      "22/22 [==============================] - 0s 5ms/step - loss: 232.0654 - val_loss: 1936.4666\n",
      "Epoch 331/500\n",
      "22/22 [==============================] - 0s 6ms/step - loss: 232.0656 - val_loss: 1936.4656\n",
      "Epoch 332/500\n",
      "22/22 [==============================] - 0s 11ms/step - loss: 232.0659 - val_loss: 1936.4656\n",
      "Epoch 333/500\n",
      "22/22 [==============================] - 0s 6ms/step - loss: 232.0661 - val_loss: 1936.4648\n",
      "Epoch 334/500\n",
      "22/22 [==============================] - 0s 6ms/step - loss: 232.0664 - val_loss: 1936.4640\n",
      "Epoch 335/500\n",
      "22/22 [==============================] - 0s 6ms/step - loss: 232.0667 - val_loss: 1936.4633\n",
      "Epoch 336/500\n",
      "22/22 [==============================] - 0s 6ms/step - loss: 232.0670 - val_loss: 1936.4629\n",
      "Epoch 337/500\n",
      "22/22 [==============================] - 0s 5ms/step - loss: 232.0671 - val_loss: 1936.4615\n",
      "Epoch 338/500\n",
      "22/22 [==============================] - 0s 5ms/step - loss: 232.0674 - val_loss: 1936.4612\n",
      "Epoch 339/500\n",
      "22/22 [==============================] - 0s 5ms/step - loss: 232.0675 - val_loss: 1936.4596\n",
      "Epoch 340/500\n",
      "22/22 [==============================] - 0s 6ms/step - loss: 232.0678 - val_loss: 1936.4589\n",
      "Epoch 341/500\n",
      "22/22 [==============================] - 0s 5ms/step - loss: 232.0680 - val_loss: 1936.4581\n",
      "Epoch 342/500\n",
      "22/22 [==============================] - 0s 5ms/step - loss: 232.0683 - val_loss: 1936.4575\n",
      "Epoch 343/500\n",
      "22/22 [==============================] - 0s 5ms/step - loss: 232.0684 - val_loss: 1936.4567\n",
      "Epoch 344/500\n",
      "22/22 [==============================] - 0s 5ms/step - loss: 232.0687 - val_loss: 1936.4563\n",
      "Epoch 345/500\n",
      "22/22 [==============================] - 0s 6ms/step - loss: 232.0688 - val_loss: 1936.4552\n",
      "Epoch 346/500\n",
      "22/22 [==============================] - 0s 5ms/step - loss: 232.0690 - val_loss: 1936.4548\n",
      "Epoch 347/500\n",
      "22/22 [==============================] - 0s 6ms/step - loss: 232.0692 - val_loss: 1936.4542\n",
      "Epoch 348/500\n",
      "22/22 [==============================] - 0s 5ms/step - loss: 232.0694 - val_loss: 1936.4541\n",
      "Epoch 349/500\n",
      "22/22 [==============================] - 0s 5ms/step - loss: 232.0696 - val_loss: 1936.4539\n",
      "Epoch 350/500\n",
      "22/22 [==============================] - 0s 5ms/step - loss: 232.0698 - val_loss: 1936.4537\n",
      "Epoch 351/500\n",
      "22/22 [==============================] - 0s 5ms/step - loss: 232.0700 - val_loss: 1936.4525\n",
      "Epoch 352/500\n",
      "22/22 [==============================] - 0s 5ms/step - loss: 232.0702 - val_loss: 1936.4517\n",
      "Epoch 353/500\n",
      "22/22 [==============================] - 0s 5ms/step - loss: 232.0704 - val_loss: 1936.4517\n",
      "Epoch 354/500\n",
      "22/22 [==============================] - 0s 5ms/step - loss: 232.0705 - val_loss: 1936.4514\n",
      "Epoch 355/500\n",
      "22/22 [==============================] - 0s 11ms/step - loss: 232.0707 - val_loss: 1936.4514\n",
      "Epoch 356/500\n",
      "22/22 [==============================] - 0s 6ms/step - loss: 232.0709 - val_loss: 1936.4513\n",
      "Epoch 357/500\n",
      "22/22 [==============================] - 0s 5ms/step - loss: 232.0710 - val_loss: 1936.4507\n",
      "Epoch 358/500\n",
      "22/22 [==============================] - 0s 5ms/step - loss: 232.0711 - val_loss: 1936.4506\n",
      "Epoch 359/500\n",
      "22/22 [==============================] - 0s 5ms/step - loss: 232.0713 - val_loss: 1936.4502\n",
      "Epoch 360/500\n",
      "22/22 [==============================] - 0s 5ms/step - loss: 232.0714 - val_loss: 1936.4492\n",
      "Epoch 361/500\n",
      "22/22 [==============================] - 0s 5ms/step - loss: 232.0715 - val_loss: 1936.4492\n",
      "Epoch 362/500\n",
      "22/22 [==============================] - 0s 5ms/step - loss: 232.0716 - val_loss: 1936.4485\n",
      "Epoch 363/500\n",
      "22/22 [==============================] - 0s 6ms/step - loss: 232.0718 - val_loss: 1936.4481\n",
      "Epoch 364/500\n",
      "22/22 [==============================] - 0s 5ms/step - loss: 232.0720 - val_loss: 1936.4481\n",
      "Epoch 365/500\n",
      "22/22 [==============================] - 0s 5ms/step - loss: 232.0721 - val_loss: 1936.4478\n",
      "Epoch 366/500\n",
      "22/22 [==============================] - 0s 6ms/step - loss: 232.0721 - val_loss: 1936.4469\n",
      "Epoch 367/500\n",
      "22/22 [==============================] - 0s 5ms/step - loss: 232.0724 - val_loss: 1936.4469\n",
      "Epoch 368/500\n",
      "22/22 [==============================] - 0s 5ms/step - loss: 232.0724 - val_loss: 1936.4462\n",
      "Epoch 369/500\n",
      "22/22 [==============================] - 0s 5ms/step - loss: 232.0726 - val_loss: 1936.4462\n",
      "Epoch 370/500\n",
      "22/22 [==============================] - 0s 5ms/step - loss: 232.0727 - val_loss: 1936.4462\n",
      "Epoch 371/500\n",
      "22/22 [==============================] - 0s 6ms/step - loss: 232.0728 - val_loss: 1936.4459\n",
      "Epoch 372/500\n",
      "22/22 [==============================] - 0s 5ms/step - loss: 232.0729 - val_loss: 1936.4458\n",
      "Epoch 373/500\n",
      "22/22 [==============================] - 0s 5ms/step - loss: 232.0730 - val_loss: 1936.4456\n",
      "Epoch 374/500\n",
      "22/22 [==============================] - 0s 5ms/step - loss: 232.0731 - val_loss: 1936.4452\n",
      "Epoch 375/500\n",
      "22/22 [==============================] - 0s 5ms/step - loss: 232.0732 - val_loss: 1936.4447\n",
      "Epoch 376/500\n",
      "22/22 [==============================] - 0s 5ms/step - loss: 232.0733 - val_loss: 1936.4441\n",
      "Epoch 377/500\n",
      "22/22 [==============================] - 0s 5ms/step - loss: 232.0734 - val_loss: 1936.4437\n",
      "Epoch 378/500\n",
      "22/22 [==============================] - 0s 5ms/step - loss: 232.0735 - val_loss: 1936.4436\n",
      "Epoch 379/500\n",
      "22/22 [==============================] - 0s 11ms/step - loss: 232.0735 - val_loss: 1936.4430\n",
      "Epoch 380/500\n",
      "22/22 [==============================] - 0s 6ms/step - loss: 232.0737 - val_loss: 1936.4430\n",
      "Epoch 381/500\n",
      "22/22 [==============================] - 0s 6ms/step - loss: 232.0738 - val_loss: 1936.4423\n",
      "Epoch 382/500\n",
      "22/22 [==============================] - 0s 6ms/step - loss: 232.0739 - val_loss: 1936.4423\n",
      "Epoch 383/500\n",
      "22/22 [==============================] - 0s 6ms/step - loss: 232.0740 - val_loss: 1936.4421\n",
      "Epoch 384/500\n",
      "22/22 [==============================] - 0s 6ms/step - loss: 232.0742 - val_loss: 1936.4421\n",
      "Epoch 385/500\n",
      "22/22 [==============================] - 0s 5ms/step - loss: 232.0742 - val_loss: 1936.4415\n",
      "Epoch 386/500\n",
      "22/22 [==============================] - 0s 5ms/step - loss: 232.0743 - val_loss: 1936.4415\n",
      "Epoch 387/500\n",
      "22/22 [==============================] - 0s 5ms/step - loss: 232.0744 - val_loss: 1936.4412\n",
      "Epoch 388/500\n",
      "22/22 [==============================] - 0s 5ms/step - loss: 232.0744 - val_loss: 1936.4396\n",
      "Epoch 389/500\n",
      "22/22 [==============================] - 0s 6ms/step - loss: 232.0746 - val_loss: 1936.4396\n",
      "Epoch 390/500\n",
      "22/22 [==============================] - 0s 5ms/step - loss: 232.0746 - val_loss: 1936.4392\n",
      "Epoch 391/500\n",
      "22/22 [==============================] - 0s 5ms/step - loss: 232.0747 - val_loss: 1936.4392\n",
      "Epoch 392/500\n",
      "22/22 [==============================] - 0s 5ms/step - loss: 232.0748 - val_loss: 1936.4388\n",
      "Epoch 393/500\n",
      "22/22 [==============================] - 0s 5ms/step - loss: 232.0749 - val_loss: 1936.4385\n",
      "Epoch 394/500\n",
      "22/22 [==============================] - 0s 5ms/step - loss: 232.0750 - val_loss: 1936.4385\n",
      "Epoch 395/500\n",
      "22/22 [==============================] - 0s 5ms/step - loss: 232.0750 - val_loss: 1936.4381\n",
      "Epoch 396/500\n",
      "22/22 [==============================] - 0s 6ms/step - loss: 232.0750 - val_loss: 1936.4375\n",
      "Epoch 397/500\n",
      "22/22 [==============================] - 0s 5ms/step - loss: 232.0751 - val_loss: 1936.4373\n",
      "Epoch 398/500\n",
      "22/22 [==============================] - 0s 5ms/step - loss: 232.0752 - val_loss: 1936.4373\n",
      "Epoch 399/500\n",
      "22/22 [==============================] - 0s 5ms/step - loss: 232.0753 - val_loss: 1936.4373\n",
      "Epoch 400/500\n",
      "22/22 [==============================] - 0s 5ms/step - loss: 232.0754 - val_loss: 1936.4373\n",
      "Epoch 401/500\n",
      "22/22 [==============================] - 0s 5ms/step - loss: 232.0754 - val_loss: 1936.4369\n",
      "Epoch 402/500\n",
      "22/22 [==============================] - 0s 6ms/step - loss: 232.0754 - val_loss: 1936.4368\n",
      "Epoch 403/500\n",
      "22/22 [==============================] - 0s 5ms/step - loss: 232.0755 - val_loss: 1936.4360\n",
      "Epoch 404/500\n",
      "22/22 [==============================] - 0s 9ms/step - loss: 232.0755 - val_loss: 1936.4360\n",
      "Epoch 405/500\n",
      "22/22 [==============================] - 0s 6ms/step - loss: 232.0756 - val_loss: 1936.4360\n",
      "Epoch 406/500\n",
      "22/22 [==============================] - 0s 5ms/step - loss: 232.0757 - val_loss: 1936.4360\n",
      "Epoch 407/500\n",
      "22/22 [==============================] - 0s 6ms/step - loss: 232.0758 - val_loss: 1936.4360\n",
      "Epoch 408/500\n",
      "22/22 [==============================] - 0s 6ms/step - loss: 232.0758 - val_loss: 1936.4360\n",
      "Epoch 409/500\n",
      "22/22 [==============================] - 0s 5ms/step - loss: 232.0758 - val_loss: 1936.4360\n",
      "Epoch 410/500\n",
      "22/22 [==============================] - 0s 5ms/step - loss: 232.0759 - val_loss: 1936.4360\n",
      "Epoch 411/500\n",
      "22/22 [==============================] - 0s 5ms/step - loss: 232.0759 - val_loss: 1936.4353\n",
      "Epoch 412/500\n",
      "22/22 [==============================] - 0s 5ms/step - loss: 232.0760 - val_loss: 1936.4349\n",
      "Epoch 413/500\n",
      "22/22 [==============================] - 0s 5ms/step - loss: 232.0760 - val_loss: 1936.4353\n",
      "Epoch 414/500\n",
      "22/22 [==============================] - 0s 5ms/step - loss: 232.0761 - val_loss: 1936.4353\n",
      "Epoch 415/500\n",
      "22/22 [==============================] - 0s 6ms/step - loss: 232.0762 - val_loss: 1936.4353\n",
      "Epoch 416/500\n",
      "22/22 [==============================] - 0s 5ms/step - loss: 232.0762 - val_loss: 1936.4351\n",
      "Epoch 417/500\n",
      "22/22 [==============================] - 0s 5ms/step - loss: 232.0762 - val_loss: 1936.4349\n",
      "Epoch 418/500\n",
      "22/22 [==============================] - 0s 5ms/step - loss: 232.0762 - val_loss: 1936.4349\n",
      "Epoch 419/500\n",
      "22/22 [==============================] - 0s 5ms/step - loss: 232.0763 - val_loss: 1936.4353\n",
      "Epoch 420/500\n",
      "22/22 [==============================] - 0s 5ms/step - loss: 232.0764 - val_loss: 1936.4353\n",
      "Epoch 421/500\n",
      "22/22 [==============================] - 0s 5ms/step - loss: 232.0764 - val_loss: 1936.4349\n",
      "Epoch 422/500\n",
      "22/22 [==============================] - 0s 6ms/step - loss: 232.0764 - val_loss: 1936.4349\n",
      "Epoch 423/500\n",
      "22/22 [==============================] - 0s 5ms/step - loss: 232.0764 - val_loss: 1936.4349\n",
      "Epoch 424/500\n",
      "22/22 [==============================] - 0s 5ms/step - loss: 232.0765 - val_loss: 1936.4351\n",
      "Epoch 425/500\n",
      "22/22 [==============================] - 0s 5ms/step - loss: 232.0765 - val_loss: 1936.4358\n",
      "Epoch 426/500\n",
      "22/22 [==============================] - 0s 6ms/step - loss: 232.0765 - val_loss: 1936.4362\n",
      "Epoch 427/500\n",
      "22/22 [==============================] - 0s 12ms/step - loss: 232.0765 - val_loss: 1936.4365\n",
      "Epoch 428/500\n",
      "22/22 [==============================] - 0s 5ms/step - loss: 232.0766 - val_loss: 1936.4364\n",
      "Epoch 429/500\n",
      "22/22 [==============================] - 0s 6ms/step - loss: 232.0766 - val_loss: 1936.4364\n",
      "Epoch 430/500\n",
      "22/22 [==============================] - 0s 6ms/step - loss: 232.0766 - val_loss: 1936.4362\n",
      "Epoch 431/500\n",
      "22/22 [==============================] - 0s 5ms/step - loss: 232.0766 - val_loss: 1936.4360\n",
      "Epoch 432/500\n",
      "22/22 [==============================] - 0s 6ms/step - loss: 232.0766 - val_loss: 1936.4354\n",
      "Epoch 433/500\n",
      "22/22 [==============================] - 0s 5ms/step - loss: 232.0767 - val_loss: 1936.4354\n",
      "Epoch 434/500\n",
      "22/22 [==============================] - 0s 5ms/step - loss: 232.0767 - val_loss: 1936.4353\n",
      "Epoch 435/500\n",
      "22/22 [==============================] - 0s 6ms/step - loss: 232.0767 - val_loss: 1936.4351\n",
      "Epoch 436/500\n",
      "22/22 [==============================] - 0s 5ms/step - loss: 232.0768 - val_loss: 1936.4360\n",
      "Epoch 437/500\n",
      "22/22 [==============================] - 0s 5ms/step - loss: 232.0769 - val_loss: 1936.4362\n",
      "Epoch 438/500\n",
      "22/22 [==============================] - 0s 5ms/step - loss: 232.0769 - val_loss: 1936.4357\n",
      "Epoch 439/500\n",
      "22/22 [==============================] - 0s 5ms/step - loss: 232.0769 - val_loss: 1936.4357\n",
      "Epoch 440/500\n",
      "22/22 [==============================] - 0s 5ms/step - loss: 232.0769 - val_loss: 1936.4353\n",
      "Epoch 441/500\n",
      "22/22 [==============================] - 0s 5ms/step - loss: 232.0770 - val_loss: 1936.4353\n",
      "Epoch 442/500\n",
      "22/22 [==============================] - 0s 5ms/step - loss: 232.0770 - val_loss: 1936.4354\n",
      "Epoch 443/500\n",
      "22/22 [==============================] - 0s 5ms/step - loss: 232.0770 - val_loss: 1936.4354\n",
      "Epoch 444/500\n",
      "22/22 [==============================] - 0s 5ms/step - loss: 232.0771 - val_loss: 1936.4354\n",
      "Epoch 445/500\n",
      "22/22 [==============================] - 0s 5ms/step - loss: 232.0770 - val_loss: 1936.4354\n",
      "Epoch 446/500\n",
      "22/22 [==============================] - 0s 6ms/step - loss: 232.0770 - val_loss: 1936.4353\n",
      "Epoch 447/500\n",
      "22/22 [==============================] - 0s 5ms/step - loss: 232.0771 - val_loss: 1936.4353\n",
      "Epoch 448/500\n",
      "22/22 [==============================] - 0s 5ms/step - loss: 232.0771 - val_loss: 1936.4349\n",
      "Epoch 449/500\n",
      "22/22 [==============================] - 0s 11ms/step - loss: 232.0771 - val_loss: 1936.4349\n",
      "Epoch 450/500\n",
      "22/22 [==============================] - 0s 6ms/step - loss: 232.0772 - val_loss: 1936.4347\n",
      "Epoch 451/500\n",
      "22/22 [==============================] - 0s 5ms/step - loss: 232.0772 - val_loss: 1936.4349\n",
      "Epoch 452/500\n",
      "22/22 [==============================] - 0s 7ms/step - loss: 232.0772 - val_loss: 1936.4346\n",
      "Epoch 453/500\n",
      "22/22 [==============================] - 0s 6ms/step - loss: 232.0772 - val_loss: 1936.4338\n",
      "Epoch 454/500\n",
      "22/22 [==============================] - 0s 5ms/step - loss: 232.0772 - val_loss: 1936.4342\n",
      "Epoch 455/500\n",
      "22/22 [==============================] - 0s 5ms/step - loss: 232.0773 - val_loss: 1936.4343\n",
      "Epoch 456/500\n",
      "22/22 [==============================] - 0s 5ms/step - loss: 232.0773 - val_loss: 1936.4347\n",
      "Epoch 457/500\n",
      "22/22 [==============================] - 0s 5ms/step - loss: 232.0773 - val_loss: 1936.4347\n",
      "Epoch 458/500\n",
      "22/22 [==============================] - 0s 5ms/step - loss: 232.0773 - val_loss: 1936.4338\n",
      "Epoch 459/500\n",
      "22/22 [==============================] - 0s 5ms/step - loss: 232.0773 - val_loss: 1936.4340\n",
      "Epoch 460/500\n",
      "22/22 [==============================] - 0s 5ms/step - loss: 232.0773 - val_loss: 1936.4340\n",
      "Epoch 461/500\n",
      "22/22 [==============================] - 0s 5ms/step - loss: 232.0774 - val_loss: 1936.4346\n",
      "Epoch 462/500\n",
      "22/22 [==============================] - 0s 6ms/step - loss: 232.0775 - val_loss: 1936.4354\n",
      "Epoch 463/500\n",
      "22/22 [==============================] - 0s 5ms/step - loss: 232.0775 - val_loss: 1936.4357\n",
      "Epoch 464/500\n",
      "22/22 [==============================] - 0s 5ms/step - loss: 232.0775 - val_loss: 1936.4362\n",
      "Epoch 465/500\n",
      "22/22 [==============================] - 0s 6ms/step - loss: 232.0775 - val_loss: 1936.4364\n",
      "Epoch 466/500\n",
      "22/22 [==============================] - 0s 5ms/step - loss: 232.0775 - val_loss: 1936.4364\n",
      "Epoch 467/500\n",
      "22/22 [==============================] - 0s 5ms/step - loss: 232.0775 - val_loss: 1936.4364\n",
      "Epoch 468/500\n",
      "22/22 [==============================] - 0s 5ms/step - loss: 232.0775 - val_loss: 1936.4365\n",
      "Epoch 469/500\n",
      "22/22 [==============================] - 0s 5ms/step - loss: 232.0776 - val_loss: 1936.4365\n",
      "Epoch 470/500\n",
      "22/22 [==============================] - 0s 5ms/step - loss: 232.0775 - val_loss: 1936.4358\n",
      "Epoch 471/500\n",
      "22/22 [==============================] - 0s 5ms/step - loss: 232.0775 - val_loss: 1936.4358\n",
      "Epoch 472/500\n",
      "22/22 [==============================] - 0s 5ms/step - loss: 232.0775 - val_loss: 1936.4351\n",
      "Epoch 473/500\n",
      "22/22 [==============================] - 0s 11ms/step - loss: 232.0775 - val_loss: 1936.4346\n",
      "Epoch 474/500\n",
      "22/22 [==============================] - 0s 6ms/step - loss: 232.0775 - val_loss: 1936.4347\n",
      "Epoch 475/500\n",
      "22/22 [==============================] - 0s 6ms/step - loss: 232.0775 - val_loss: 1936.4343\n",
      "Epoch 476/500\n",
      "22/22 [==============================] - 0s 6ms/step - loss: 232.0776 - val_loss: 1936.4346\n",
      "Epoch 477/500\n",
      "22/22 [==============================] - 0s 6ms/step - loss: 232.0776 - val_loss: 1936.4346\n",
      "Epoch 478/500\n",
      "22/22 [==============================] - 0s 5ms/step - loss: 232.0776 - val_loss: 1936.4346\n",
      "Epoch 479/500\n",
      "22/22 [==============================] - 0s 5ms/step - loss: 232.0777 - val_loss: 1936.4349\n",
      "Epoch 480/500\n",
      "22/22 [==============================] - 0s 5ms/step - loss: 232.0777 - val_loss: 1936.4351\n",
      "Epoch 481/500\n",
      "22/22 [==============================] - 0s 6ms/step - loss: 232.0777 - val_loss: 1936.4351\n",
      "Epoch 482/500\n",
      "22/22 [==============================] - 0s 5ms/step - loss: 232.0777 - val_loss: 1936.4353\n",
      "Epoch 483/500\n",
      "22/22 [==============================] - 0s 5ms/step - loss: 232.0778 - val_loss: 1936.4365\n",
      "Epoch 484/500\n",
      "22/22 [==============================] - 0s 5ms/step - loss: 232.0777 - val_loss: 1936.4365\n",
      "Epoch 485/500\n",
      "22/22 [==============================] - 0s 5ms/step - loss: 232.0778 - val_loss: 1936.4377\n",
      "Epoch 486/500\n",
      "22/22 [==============================] - 0s 5ms/step - loss: 232.0778 - val_loss: 1936.4381\n",
      "Epoch 487/500\n",
      "22/22 [==============================] - 0s 5ms/step - loss: 232.0777 - val_loss: 1936.4386\n",
      "Epoch 488/500\n",
      "22/22 [==============================] - 0s 6ms/step - loss: 232.0777 - val_loss: 1936.4388\n",
      "Epoch 489/500\n",
      "22/22 [==============================] - 0s 5ms/step - loss: 232.0778 - val_loss: 1936.4390\n",
      "Epoch 490/500\n",
      "22/22 [==============================] - 0s 5ms/step - loss: 232.0777 - val_loss: 1936.4390\n",
      "Epoch 491/500\n",
      "22/22 [==============================] - 0s 5ms/step - loss: 232.0777 - val_loss: 1936.4390\n",
      "Epoch 492/500\n",
      "22/22 [==============================] - 0s 5ms/step - loss: 232.0777 - val_loss: 1936.4390\n",
      "Epoch 493/500\n",
      "22/22 [==============================] - 0s 5ms/step - loss: 232.0777 - val_loss: 1936.4385\n",
      "Epoch 494/500\n",
      "22/22 [==============================] - 0s 10ms/step - loss: 232.0778 - val_loss: 1936.4382\n",
      "Epoch 495/500\n",
      "22/22 [==============================] - 0s 6ms/step - loss: 232.0778 - val_loss: 1936.4379\n",
      "Epoch 496/500\n",
      "22/22 [==============================] - 0s 6ms/step - loss: 232.0777 - val_loss: 1936.4375\n",
      "Epoch 497/500\n",
      "22/22 [==============================] - 0s 5ms/step - loss: 232.0778 - val_loss: 1936.4373\n",
      "Epoch 498/500\n",
      "22/22 [==============================] - 0s 6ms/step - loss: 232.0778 - val_loss: 1936.4368\n",
      "Epoch 499/500\n",
      "22/22 [==============================] - 0s 5ms/step - loss: 232.0778 - val_loss: 1936.4365\n",
      "Epoch 500/500\n",
      "22/22 [==============================] - 0s 5ms/step - loss: 232.0778 - val_loss: 1936.4365\n"
     ]
    }
   ],
   "source": [
    "C0 = tf.Variable(86.8407, name=\"C0\", trainable=True, dtype=tf.float32)\n",
    "K0 = tf.Variable(-0.0015, name=\"K0\", trainable=True, dtype=tf.float32)\n",
    "K1 = tf.Variable(-0.0001, name=\"K1\", trainable=True, dtype=tf.float32)\n",
    "a = tf.Variable(0.0000, name=\"a\", trainable=True, dtype=tf.float32)\n",
    "b = tf.Variable(0.0118, name=\"b\", trainable=True, dtype=tf.float32)\n",
    "c = tf.Variable(2.5775, name=\"c\", trainable=True, dtype=tf.float32)\n",
    "\n",
    "splitr = 0.8\n",
    "\n",
    "\n",
    "def loss_fn(y_true, y_pred):\n",
    "    squared_difference = tf.square(y_true[:, 0] - y_pred[:, 0])\n",
    "    #squared_difference2 = tf.square(y_true[:, 2]-y_pred[:, 2])\n",
    "    #squared_difference1 = tf.square(y_true[:, 1]-y_pred[:, 1])\n",
    "    epsilon = 1\n",
    "    squared_difference3 = tf.square(\n",
    "        y_pred[:, 1] - (\n",
    "            y_pred[:, 0] * (\n",
    "                K0 - K1 * (\n",
    "                    9 * a * tf.math.log((y_pred[:, 0] + epsilon) / C0) / (K0 - K1 * c)**2 +\n",
    "                    4 * b * tf.math.log((y_pred[:, 0] + epsilon) / C0) / (K0 - K1 * c) + c\n",
    "                )\n",
    "            )\n",
    "        )\n",
    "    )\n",
    "    return tf.reduce_mean(squared_difference, axis=-1) + 0.2*tf.reduce_mean(squared_difference3, axis=-1)\n",
    "model = Sequential()\n",
    "model.add(LSTM(100, input_shape=(trainX.shape[1], trainX.shape[2])))\n",
    "model.add(Dense(60))\n",
    "model.compile(loss=loss_fn, optimizer='adam')\n",
    "history = model.fit(trainX[:int(splitr*trainX.shape[0])], trainy[:int(splitr*trainX.shape[0])], epochs=500, batch_size=64, validation_data=(trainX[int(splitr*trainX.shape[0]):trainX.shape[0]], trainy[int(splitr*trainX.shape[0]):trainX.shape[0]]), shuffle=False)"
   ]
  },
  {
   "cell_type": "code",
   "execution_count": 19,
   "metadata": {
    "colab": {
     "base_uri": "https://localhost:8080/"
    },
    "id": "yJL101rPyuoT",
    "outputId": "239ff2b1-c186-423a-d316-939dfdd7c793"
   },
   "outputs": [
    {
     "name": "stdout",
     "output_type": "stream",
     "text": [
      "1/1 [==============================] - 0s 417ms/step\n"
     ]
    }
   ],
   "source": [
    "forecast_without_mc = forecastX\n",
    "yhat_without_mc = model.predict(forecast_without_mc) # Step Ahead Prediction\n",
    "forecast_without_mc = forecast_without_mc.reshape((forecast_without_mc.shape[0], forecast_without_mc.shape[2])) # Historical Input"
   ]
  },
  {
   "cell_type": "code",
   "execution_count": 20,
   "metadata": {
    "colab": {
     "base_uri": "https://localhost:8080/"
    },
    "id": "g9dQELcJ8wbp",
    "outputId": "4dc7671b-b1a8-48d5-8744-a86f98446109"
   },
   "outputs": [
    {
     "data": {
      "text/plain": [
       "(1, 1, 251)"
      ]
     },
     "execution_count": 20,
     "metadata": {},
     "output_type": "execute_result"
    }
   ],
   "source": [
    "forecastX.shape"
   ]
  },
  {
   "cell_type": "code",
   "execution_count": 21,
   "metadata": {
    "colab": {
     "base_uri": "https://localhost:8080/"
    },
    "id": "IS2kyIKG1Kbr",
    "outputId": "f31b3485-8e26-452f-9298-ea8bf7e80ad1"
   },
   "outputs": [
    {
     "data": {
      "text/plain": [
       "(1, 251)"
      ]
     },
     "execution_count": 21,
     "metadata": {},
     "output_type": "execute_result"
    }
   ],
   "source": [
    "forecast_without_mc.shape"
   ]
  },
  {
   "cell_type": "code",
   "execution_count": 22,
   "metadata": {
    "id": "0u6VIzaDyuoT"
   },
   "outputs": [],
   "source": [
    "inv_yhat_without_mc = np.concatenate((forecast_without_mc, yhat_without_mc), axis=1) # Concatenation of predicted values with Historical Data\n",
    "#inv_yhat_without_mc = scaler.inverse_transform(inv_yhat_without_mc) # Transform labels back to original encoding"
   ]
  },
  {
   "cell_type": "code",
   "execution_count": 23,
   "metadata": {
    "colab": {
     "base_uri": "https://localhost:8080/"
    },
    "id": "EUEcw0LX07oU",
    "outputId": "cfc32397-9c37-4b43-d087-584bb31c3dcc"
   },
   "outputs": [
    {
     "data": {
      "text/plain": [
       "(1, 311)"
      ]
     },
     "execution_count": 23,
     "metadata": {},
     "output_type": "execute_result"
    }
   ],
   "source": [
    "inv_yhat_without_mc.shape"
   ]
  },
  {
   "cell_type": "code",
   "execution_count": 24,
   "metadata": {
    "id": "31OWVbSh_305"
   },
   "outputs": [],
   "source": [
    "fforecast = inv_yhat_without_mc[:,-300:]"
   ]
  },
  {
   "cell_type": "code",
   "execution_count": 25,
   "metadata": {},
   "outputs": [
    {
     "data": {
      "text/plain": [
       "(1, 300)"
      ]
     },
     "execution_count": 25,
     "metadata": {},
     "output_type": "execute_result"
    }
   ],
   "source": [
    "fforecast.shape"
   ]
  },
  {
   "cell_type": "code",
   "execution_count": 26,
   "metadata": {
    "id": "BlpGH2FOAiRF"
   },
   "outputs": [],
   "source": [
    "final_forecast = fforecast[:,0:300:3]"
   ]
  },
  {
   "cell_type": "code",
   "execution_count": 27,
   "metadata": {},
   "outputs": [
    {
     "data": {
      "text/plain": [
       "(1, 300)"
      ]
     },
     "execution_count": 27,
     "metadata": {},
     "output_type": "execute_result"
    }
   ],
   "source": [
    "fforecast.shape"
   ]
  },
  {
   "cell_type": "code",
   "execution_count": 28,
   "metadata": {
    "id": "CXkgkj_LBk_t"
   },
   "outputs": [],
   "source": [
    "# code to replace all negative value with 0\n",
    "final_forecast[final_forecast<0] = 0"
   ]
  },
  {
   "cell_type": "code",
   "execution_count": 29,
   "metadata": {},
   "outputs": [
    {
     "data": {
      "text/plain": [
       "array([[7.20238399e+01, 7.19885201e+01, 7.19834781e+01, 7.19784360e+01,\n",
       "        7.56149979e+01, 2.89798900e-01, 1.37733400e-01, 2.77729900e-01,\n",
       "        0.00000000e+00, 3.91463600e-01, 7.28807400e-01, 7.58990900e-01,\n",
       "        0.00000000e+00, 7.11076797e+01, 7.06286881e+01, 7.01496966e+01,\n",
       "        2.25165040e-01, 0.00000000e+00, 7.21395425e+01, 7.21781816e+01,\n",
       "        7.21302824e+01, 7.20823833e+01, 7.20344841e+01, 7.19896405e+01,\n",
       "        7.19845985e+01, 7.19795565e+01, 7.19745145e+01, 2.65566498e-01,\n",
       "        0.00000000e+00, 7.05399860e+01, 7.00609944e+01, 6.98665266e+01,\n",
       "        6.98161064e+01, 6.97656863e+01, 6.97152661e+01, 6.96296919e+01,\n",
       "        6.95288515e+01, 6.94280112e+01, 2.17869090e-01, 4.19610080e-01,\n",
       "        0.00000000e+00, 0.00000000e+00, 0.00000000e+00, 1.16979480e+00,\n",
       "        4.87971902e-01, 0.00000000e+00, 5.13536215e-01, 7.19806769e+01,\n",
       "        7.19756349e+01, 1.16309310e-01, 0.00000000e+00, 7.06464286e+01,\n",
       "        7.01674370e+01, 6.98777311e+01, 6.98273109e+01, 6.97768908e+01,\n",
       "        6.97264706e+01, 6.96521008e+01, 6.95512605e+01, 6.94504202e+01,\n",
       "        1.34261040e-01, 5.09722050e-01, 6.97974323e+01, 6.97470121e+01,\n",
       "        6.96931839e+01, 6.95923436e+01, 6.94915033e+01, 7.36035948e+01,\n",
       "        7.25447712e+01, 7.13737862e+01, 8.02230950e-01, 0.00000000e+00,\n",
       "        0.00000000e+00, 5.79876823e+01, 0.00000000e+00, 5.29952530e-01,\n",
       "        5.05194900e-01, 0.00000000e+00, 3.37131560e-01, 6.95492030e-01,\n",
       "        6.77056122e+01, 1.37401927e+00, 4.34671760e-01, 4.09106225e-01,\n",
       "        0.00000000e+00, 6.56156003e-01, 0.00000000e+00, 0.00000000e+00,\n",
       "        2.22253948e-02, 0.00000000e+00, 0.00000000e+00, 1.13979042e+00,\n",
       "        0.00000000e+00, 9.15276885e-01, 5.86904168e-01, 6.88693345e-01,\n",
       "        0.00000000e+00, 6.42658234e-01, 2.96472371e-01, 0.00000000e+00]])"
      ]
     },
     "execution_count": 29,
     "metadata": {},
     "output_type": "execute_result"
    }
   ],
   "source": [
    "final_forecast"
   ]
  },
  {
   "cell_type": "code",
   "execution_count": 30,
   "metadata": {},
   "outputs": [
    {
     "data": {
      "text/plain": [
       "(1, 100)"
      ]
     },
     "execution_count": 30,
     "metadata": {},
     "output_type": "execute_result"
    }
   ],
   "source": [
    "final_forecast.shape"
   ]
  },
  {
   "cell_type": "code",
   "execution_count": 31,
   "metadata": {},
   "outputs": [
    {
     "data": {
      "text/plain": [
       "(100,)"
      ]
     },
     "execution_count": 31,
     "metadata": {},
     "output_type": "execute_result"
    }
   ],
   "source": [
    "test.shape"
   ]
  },
  {
   "cell_type": "code",
   "execution_count": 32,
   "metadata": {},
   "outputs": [],
   "source": [
    "training_set = np.array(training_set)\n",
    "test = np.array(test)\n",
    "final_forecast = np.array(final_forecast.squeeze(0))"
   ]
  },
  {
   "cell_type": "code",
   "execution_count": 33,
   "metadata": {},
   "outputs": [
    {
     "data": {
      "text/plain": [
       "array([62.36586732, 62.3579422 , 62.35001708, 62.34209196, 62.33416684,\n",
       "       62.32624172, 62.31831659, 62.31039147, 62.30246635, 62.29454123,\n",
       "       62.28661611, 62.27869099, 62.27076587, 62.26284075, 62.25491562,\n",
       "       62.2469905 , 62.23906538, 62.23114026, 62.22321514, 62.21529002,\n",
       "       62.2073649 , 62.19943978, 62.19151465, 62.18358953, 62.17566441,\n",
       "       62.16773929, 62.15981417, 62.15188905, 62.14396393, 62.13603881,\n",
       "       62.12811368, 62.12018856, 62.11226344, 62.10433832, 62.0964132 ,\n",
       "       62.08848808, 62.08056296, 62.07263784, 62.06471271, 62.05678759,\n",
       "       62.04886247, 62.04093735, 62.03301223, 62.02508711, 62.01716199,\n",
       "       62.00923687, 62.00131174, 61.99338662, 61.9854615 , 61.97753638,\n",
       "       61.96961126, 61.96168614, 61.95376102, 61.9458359 , 61.93791077,\n",
       "       61.92998565, 61.92206053, 61.91413541, 61.90621029, 61.89828517,\n",
       "       61.89036005, 61.88243493, 61.8745098 , 61.86658468, 61.85865956,\n",
       "       61.85073444, 61.84280932, 61.8348842 , 61.82695908, 61.81903396,\n",
       "       61.81110883, 61.80318371, 61.79525859, 61.78733347, 61.77940835,\n",
       "       61.77148323, 61.76355811, 61.75563298, 61.74770786, 61.73978274,\n",
       "       61.73185762, 61.7239325 , 61.71600738, 61.70808226, 61.70015714,\n",
       "       61.69223201, 61.68430689, 61.67638177, 61.66845665, 61.66053153,\n",
       "       61.65260641, 61.64468129, 61.63675617, 61.62883104, 61.62090592,\n",
       "       61.6129808 , 61.60505568, 61.59713056, 61.58920544, 61.58128032])"
      ]
     },
     "execution_count": 33,
     "metadata": {},
     "output_type": "execute_result"
    }
   ],
   "source": [
    "test"
   ]
  },
  {
   "cell_type": "code",
   "execution_count": 34,
   "metadata": {},
   "outputs": [
    {
     "data": {
      "text/plain": [
       "(100,)"
      ]
     },
     "execution_count": 34,
     "metadata": {},
     "output_type": "execute_result"
    }
   ],
   "source": [
    "test.shape"
   ]
  },
  {
   "cell_type": "code",
   "execution_count": 35,
   "metadata": {},
   "outputs": [
    {
     "data": {
      "text/plain": [
       "(100,)"
      ]
     },
     "execution_count": 35,
     "metadata": {},
     "output_type": "execute_result"
    }
   ],
   "source": [
    "final_forecast.shape"
   ]
  },
  {
   "cell_type": "code",
   "execution_count": 36,
   "metadata": {},
   "outputs": [
    {
     "data": {
      "text/plain": [
       "(100,)"
      ]
     },
     "execution_count": 36,
     "metadata": {},
     "output_type": "execute_result"
    }
   ],
   "source": [
    "test.shape"
   ]
  },
  {
   "cell_type": "code",
   "execution_count": 37,
   "metadata": {},
   "outputs": [
    {
     "name": "stdout",
     "output_type": "stream",
     "text": [
      "45.2373591779954\n",
      "36.71126114601956\n"
     ]
    }
   ],
   "source": [
    "import math\n",
    "MSE = np.square(np.subtract(np.array(test),np.array(final_forecast))).mean()   \n",
    "rsme = math.sqrt(MSE)\n",
    "print(rsme)  \n",
    "MAE = np.abs(np.subtract(np.array(test),np.array(final_forecast))).mean()   \n",
    "mae = MAE\n",
    "print(mae)"
   ]
  }
 ],
 "metadata": {
  "colab": {
   "provenance": []
  },
  "kernelspec": {
   "display_name": "Python 3",
   "language": "python",
   "name": "python3"
  },
  "language_info": {
   "codemirror_mode": {
    "name": "ipython",
    "version": 3
   },
   "file_extension": ".py",
   "mimetype": "text/x-python",
   "name": "python",
   "nbconvert_exporter": "python",
   "pygments_lexer": "ipython3",
   "version": "3.9.13"
  }
 },
 "nbformat": 4,
 "nbformat_minor": 0
}
