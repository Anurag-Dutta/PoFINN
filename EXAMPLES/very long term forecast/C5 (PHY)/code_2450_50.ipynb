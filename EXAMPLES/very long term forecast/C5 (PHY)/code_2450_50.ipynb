{
 "cells": [
  {
   "cell_type": "markdown",
   "metadata": {
    "id": "pCGKeZ2gyuoQ"
   },
   "source": [
    "_Importing Required Libraries_"
   ]
  },
  {
   "cell_type": "code",
   "execution_count": 1,
   "metadata": {
    "colab": {
     "base_uri": "https://localhost:8080/"
    },
    "id": "A-6LN-zXiLcM",
    "outputId": "4de610a4-f8b8-4f49-c6c0-89de299ccedc"
   },
   "outputs": [
    {
     "name": "stdout",
     "output_type": "stream",
     "text": [
      "Requirement already satisfied: hampel in c:\\users\\anurag dutta\\appdata\\local\\packages\\pythonsoftwarefoundation.python.3.9_qbz5n2kfra8p0\\localcache\\local-packages\\python39\\site-packages (0.0.5)\n",
      "Requirement already satisfied: numpy in c:\\users\\anurag dutta\\appdata\\local\\packages\\pythonsoftwarefoundation.python.3.9_qbz5n2kfra8p0\\localcache\\local-packages\\python39\\site-packages (from hampel) (1.26.4)\n",
      "Requirement already satisfied: pandas in c:\\users\\anurag dutta\\appdata\\local\\packages\\pythonsoftwarefoundation.python.3.9_qbz5n2kfra8p0\\localcache\\local-packages\\python39\\site-packages (from hampel) (1.5.2)\n",
      "Requirement already satisfied: python-dateutil>=2.8.1 in c:\\users\\anurag dutta\\appdata\\local\\packages\\pythonsoftwarefoundation.python.3.9_qbz5n2kfra8p0\\localcache\\local-packages\\python39\\site-packages (from pandas->hampel) (2.8.2)\n",
      "Requirement already satisfied: pytz>=2020.1 in c:\\users\\anurag dutta\\appdata\\local\\packages\\pythonsoftwarefoundation.python.3.9_qbz5n2kfra8p0\\localcache\\local-packages\\python39\\site-packages (from pandas->hampel) (2023.3.post1)\n",
      "Requirement already satisfied: six>=1.5 in c:\\users\\anurag dutta\\appdata\\local\\packages\\pythonsoftwarefoundation.python.3.9_qbz5n2kfra8p0\\localcache\\local-packages\\python39\\site-packages (from python-dateutil>=2.8.1->pandas->hampel) (1.16.0)\n",
      "Note: you may need to restart the kernel to use updated packages.\n"
     ]
    },
    {
     "name": "stderr",
     "output_type": "stream",
     "text": [
      "\n",
      "[notice] A new release of pip is available: 24.2 -> 24.3.1\n",
      "[notice] To update, run: C:\\Users\\Anurag Dutta\\AppData\\Local\\Microsoft\\WindowsApps\\PythonSoftwareFoundation.Python.3.9_qbz5n2kfra8p0\\python.exe -m pip install --upgrade pip\n"
     ]
    }
   ],
   "source": [
    "pip install hampel"
   ]
  },
  {
   "cell_type": "code",
   "execution_count": 2,
   "metadata": {
    "id": "By_d9uXpaFvZ"
   },
   "outputs": [],
   "source": [
    "from keras.models import Sequential\n",
    "from keras.layers import Dense\n",
    "from keras.layers import LSTM\n",
    "from keras.layers import Dropout\n",
    "import keras\n",
    "import tensorflow as tf\n",
    "from hampel import hampel\n",
    "import numpy as np\n",
    "import matplotlib.pyplot as plt\n",
    "import pandas as pd\n",
    "from sklearn.preprocessing import MinMaxScaler\n",
    "from sklearn.metrics import mean_squared_error, mean_absolute_error\n",
    "from math import sqrt\n",
    "from matplotlib import pyplot\n",
    "from numpy import array"
   ]
  },
  {
   "cell_type": "markdown",
   "metadata": {
    "id": "JyOjBMFayuoR"
   },
   "source": [
    "## Pretraining"
   ]
  },
  {
   "cell_type": "markdown",
   "metadata": {
    "id": "-5QqIY_GyuoR"
   },
   "source": [
    "The `capa_intermittency.dat` feeds the model with the dynamics of the Capacitor"
   ]
  },
  {
   "cell_type": "code",
   "execution_count": 3,
   "metadata": {
    "id": "9dV4a8yfyuoR"
   },
   "outputs": [],
   "source": [
    "data = np.genfromtxt('capa_intermittency.dat')\n",
    "training_set = pd.DataFrame(data).reset_index(drop=True)\n",
    "training_set = training_set.iloc[:,0]"
   ]
  },
  {
   "cell_type": "markdown",
   "metadata": {
    "id": "i7easoxByuoR"
   },
   "source": [
    "## Computing the Gradient"
   ]
  },
  {
   "cell_type": "markdown",
   "metadata": {
    "id": "5SnyolJTyuoR"
   },
   "source": [
    "_Calculating the value of_ $\\frac{dx}{dt}$"
   ]
  },
  {
   "cell_type": "code",
   "execution_count": 4,
   "metadata": {
    "colab": {
     "base_uri": "https://localhost:8080/"
    },
    "id": "wmIbVfIvyuoR",
    "outputId": "aa4e3136-c854-465d-d2e9-81cfd546e440"
   },
   "outputs": [
    {
     "name": "stdout",
     "output_type": "stream",
     "text": [
      "1.0\n",
      "1        0.000298\n",
      "2        0.000298\n",
      "3        0.000297\n",
      "4        0.000297\n",
      "5        0.000297\n",
      "           ...   \n",
      "9996     0.000018\n",
      "9997     0.000018\n",
      "9998     0.000018\n",
      "9999     0.000018\n",
      "10000    0.000018\n",
      "Name: 0, Length: 10000, dtype: float64\n"
     ]
    }
   ],
   "source": [
    "t_diff = 1\n",
    "print(training_set.max())\n",
    "gradient_t = (training_set.diff()/t_diff).iloc[1:] # dx/dt\n",
    "print(gradient_t)"
   ]
  },
  {
   "cell_type": "markdown",
   "metadata": {
    "id": "_2eVeeoxyuoS"
   },
   "source": [
    "## Loading Datasets"
   ]
  },
  {
   "cell_type": "code",
   "execution_count": 5,
   "metadata": {
    "id": "0J-NKyIEyuoS"
   },
   "outputs": [
    {
     "data": {
      "text/plain": [
       "0       89.140000\n",
       "1       88.911429\n",
       "2       88.682857\n",
       "3       88.454286\n",
       "4       88.225714\n",
       "          ...    \n",
       "2495    59.631700\n",
       "2496    59.623775\n",
       "2497    59.615850\n",
       "2498    59.607925\n",
       "2499    59.600000\n",
       "Name: C5, Length: 2500, dtype: float64"
      ]
     },
     "execution_count": 5,
     "metadata": {},
     "output_type": "execute_result"
    }
   ],
   "source": [
    "data = pd.read_csv(\"c5_interpolated_2450_50.csv\")\n",
    "training_set = data.iloc[:, 1]\n",
    "training_set"
   ]
  },
  {
   "cell_type": "code",
   "execution_count": 6,
   "metadata": {
    "colab": {
     "base_uri": "https://localhost:8080/"
    },
    "id": "-CbNUhJ74UqF",
    "outputId": "20f562d8-8247-49cc-b9c3-00eca5e13e2d"
   },
   "outputs": [
    {
     "data": {
      "text/plain": [
       "0       89.140000\n",
       "1       88.911429\n",
       "2       88.682857\n",
       "3       88.454286\n",
       "4       88.225714\n",
       "          ...    \n",
       "2445     0.000000\n",
       "2446     0.172987\n",
       "2447     0.000000\n",
       "2448     0.000000\n",
       "2449     0.000000\n",
       "Name: C5, Length: 2450, dtype: float64"
      ]
     },
     "execution_count": 6,
     "metadata": {},
     "output_type": "execute_result"
    }
   ],
   "source": [
    "test = training_set.tail(50)\n",
    "test\n",
    "training_set = training_set.head(2450)\n",
    "training_set"
   ]
  },
  {
   "cell_type": "code",
   "execution_count": 7,
   "metadata": {
    "colab": {
     "base_uri": "https://localhost:8080/"
    },
    "id": "X0TwTcq0yuoS",
    "outputId": "37252ed8-d88e-4044-fa7a-922411990b5b"
   },
   "outputs": [
    {
     "name": "stdout",
     "output_type": "stream",
     "text": [
      "0       0.000298\n",
      "1       0.000298\n",
      "2       0.000297\n",
      "3       0.000297\n",
      "4       0.000297\n",
      "          ...   \n",
      "9995    0.000018\n",
      "9996    0.000018\n",
      "9997    0.000018\n",
      "9998    0.000018\n",
      "9999    0.000018\n",
      "Name: 0, Length: 10000, dtype: float64\n"
     ]
    }
   ],
   "source": [
    "training_set = training_set.reset_index(drop=True)\n",
    "gradient_t = gradient_t.reset_index(drop=True)\n",
    "print(gradient_t)"
   ]
  },
  {
   "cell_type": "code",
   "execution_count": 8,
   "metadata": {
    "id": "O2biznZQyuoS"
   },
   "outputs": [],
   "source": [
    "df = pd.concat((training_set, gradient_t), axis=1)\n",
    "df.columns = ['y_t', 'grad_t']"
   ]
  },
  {
   "cell_type": "code",
   "execution_count": 9,
   "metadata": {
    "colab": {
     "base_uri": "https://localhost:8080/",
     "height": 423
    },
    "id": "sk_a5v3tyuoS",
    "outputId": "17563625-e550-45ae-faab-fafa353e44da"
   },
   "outputs": [
    {
     "data": {
      "text/html": [
       "<div>\n",
       "<style scoped>\n",
       "    .dataframe tbody tr th:only-of-type {\n",
       "        vertical-align: middle;\n",
       "    }\n",
       "\n",
       "    .dataframe tbody tr th {\n",
       "        vertical-align: top;\n",
       "    }\n",
       "\n",
       "    .dataframe thead th {\n",
       "        text-align: right;\n",
       "    }\n",
       "</style>\n",
       "<table border=\"1\" class=\"dataframe\">\n",
       "  <thead>\n",
       "    <tr style=\"text-align: right;\">\n",
       "      <th></th>\n",
       "      <th>y_t</th>\n",
       "      <th>grad_t</th>\n",
       "    </tr>\n",
       "  </thead>\n",
       "  <tbody>\n",
       "    <tr>\n",
       "      <th>0</th>\n",
       "      <td>89.140000</td>\n",
       "      <td>0.000298</td>\n",
       "    </tr>\n",
       "    <tr>\n",
       "      <th>1</th>\n",
       "      <td>88.911429</td>\n",
       "      <td>0.000298</td>\n",
       "    </tr>\n",
       "    <tr>\n",
       "      <th>2</th>\n",
       "      <td>88.682857</td>\n",
       "      <td>0.000297</td>\n",
       "    </tr>\n",
       "    <tr>\n",
       "      <th>3</th>\n",
       "      <td>88.454286</td>\n",
       "      <td>0.000297</td>\n",
       "    </tr>\n",
       "    <tr>\n",
       "      <th>4</th>\n",
       "      <td>88.225714</td>\n",
       "      <td>0.000297</td>\n",
       "    </tr>\n",
       "    <tr>\n",
       "      <th>...</th>\n",
       "      <td>...</td>\n",
       "      <td>...</td>\n",
       "    </tr>\n",
       "    <tr>\n",
       "      <th>9995</th>\n",
       "      <td>NaN</td>\n",
       "      <td>0.000018</td>\n",
       "    </tr>\n",
       "    <tr>\n",
       "      <th>9996</th>\n",
       "      <td>NaN</td>\n",
       "      <td>0.000018</td>\n",
       "    </tr>\n",
       "    <tr>\n",
       "      <th>9997</th>\n",
       "      <td>NaN</td>\n",
       "      <td>0.000018</td>\n",
       "    </tr>\n",
       "    <tr>\n",
       "      <th>9998</th>\n",
       "      <td>NaN</td>\n",
       "      <td>0.000018</td>\n",
       "    </tr>\n",
       "    <tr>\n",
       "      <th>9999</th>\n",
       "      <td>NaN</td>\n",
       "      <td>0.000018</td>\n",
       "    </tr>\n",
       "  </tbody>\n",
       "</table>\n",
       "<p>10000 rows × 2 columns</p>\n",
       "</div>"
      ],
      "text/plain": [
       "            y_t    grad_t\n",
       "0     89.140000  0.000298\n",
       "1     88.911429  0.000298\n",
       "2     88.682857  0.000297\n",
       "3     88.454286  0.000297\n",
       "4     88.225714  0.000297\n",
       "...         ...       ...\n",
       "9995        NaN  0.000018\n",
       "9996        NaN  0.000018\n",
       "9997        NaN  0.000018\n",
       "9998        NaN  0.000018\n",
       "9999        NaN  0.000018\n",
       "\n",
       "[10000 rows x 2 columns]"
      ]
     },
     "execution_count": 9,
     "metadata": {},
     "output_type": "execute_result"
    }
   ],
   "source": [
    "df"
   ]
  },
  {
   "cell_type": "markdown",
   "metadata": {
    "id": "-5esyHu5aFvg"
   },
   "source": [
    "## Plot of the External Forcing from Chaotic Differential Equation"
   ]
  },
  {
   "cell_type": "code",
   "execution_count": 10,
   "metadata": {
    "colab": {
     "base_uri": "https://localhost:8080/",
     "height": 447
    },
    "id": "hGnE43tOh-4p",
    "outputId": "fc396503-b624-4fa5-dfbe-f460207405c6"
   },
   "outputs": [
    {
     "data": {
      "text/plain": [
       "<Axes: >"
      ]
     },
     "execution_count": 10,
     "metadata": {},
     "output_type": "execute_result"
    },
    {
     "data": {
      "image/png": "[encoded data removed]",
      "text/plain": [
       "<Figure size 432x288 with 1 Axes>"
      ]
     },
     "metadata": {
      "needs_background": "light"
     },
     "output_type": "display_data"
    }
   ],
   "source": [
    "df.iloc[:, 0].plot()"
   ]
  },
  {
   "cell_type": "code",
   "execution_count": 11,
   "metadata": {
    "colab": {
     "base_uri": "https://localhost:8080/",
     "height": 447
    },
    "id": "ym4xWUUxaFvg",
    "outputId": "ae6a3495-8ce9-437e-ba81-3ed31deedeae"
   },
   "outputs": [
    {
     "name": "stderr",
     "output_type": "stream",
     "text": [
      "C:\\Users\\Anurag Dutta\\AppData\\Local\\Packages\\PythonSoftwareFoundation.Python.3.9_qbz5n2kfra8p0\\LocalCache\\local-packages\\Python39\\site-packages\\pandas\\core\\arraylike.py:402: RuntimeWarning: divide by zero encountered in log\n",
      "  result = getattr(ufunc, method)(*inputs, **kwargs)\n"
     ]
    },
    {
     "data": {
      "text/plain": [
       "<Axes: >"
      ]
     },
     "execution_count": 11,
     "metadata": {},
     "output_type": "execute_result"
    },
    {
     "data": {
      "image/png": "[encoded data removed]",
      "text/plain": [
       "<Figure size 432x288 with 1 Axes>"
      ]
     },
     "metadata": {
      "needs_background": "light"
     },
     "output_type": "display_data"
    }
   ],
   "source": [
    "import numpy as np\n",
    "c0 = 86.8407  # Value for C0\n",
    "K0 = -0.0015  # Value for K0\n",
    "K1 = -0.0001  # Value for K1\n",
    "a = 0.0000    # Value for a\n",
    "b = 0.0118    # Value for b\n",
    "c = 2.5775    # Value for c\n",
    "\n",
    "L = np.minimum(c0, (df.iloc[:, 1] - (df.iloc[:, 0] * (K0 - K1 * (9 * a * np.log(df.iloc[:, 0] / c0) / (K0 - K1 * c)**2 + 4 * b * np.log(df.iloc[:, 0] / c0) / (K0 - K1 * c) + c)))))\n",
    "L.plot()"
   ]
  },
  {
   "cell_type": "markdown",
   "metadata": {
    "id": "9VyEywnwaFvh"
   },
   "source": [
    "## Preprocessing the data into supervised learning"
   ]
  },
  {
   "cell_type": "code",
   "execution_count": 12,
   "metadata": {
    "id": "6V9dXqzdaFvh"
   },
   "outputs": [],
   "source": [
    "# split a sequence into samples\n",
    "def Supervised(data, n_in=1, n_out=1, dropnan=True):\n",
    "    n_vars = 1 if type(data) is list else data.shape[1]\n",
    "    df = pd.DataFrame(data)\n",
    "    cols, names = list(), list()\n",
    "    # input sequence (t-n_in, ... t-1)\n",
    "    for i in range(n_in, 0, -1):\n",
    "        cols.append(df.shift(i))\n",
    "        names += [('var%d(t-%d)' % (j+1, i)) for j in range(n_vars)]\n",
    "    # forecast sequence (t, t+1, ... t+n_out)\n",
    "    for i in range(0, n_out):\n",
    "      cols.append(df.shift(-i))\n",
    "      if i == 0:\n",
    "        names += [('var%d(t)' % (j+1)) for j in range(n_vars)]\n",
    "      else:\n",
    "        names += [('var%d(t+%d)' % (j+1, i)) for j in range(n_vars)]\n",
    "    # put it all together\n",
    "    agg = pd.concat(cols, axis=1)\n",
    "    agg.columns = names\n",
    "    # drop rows with NaN values\n",
    "    if dropnan:\n",
    "       agg.dropna(inplace=True)\n",
    "    return agg"
   ]
  },
  {
   "cell_type": "code",
   "execution_count": 13,
   "metadata": {
    "colab": {
     "base_uri": "https://localhost:8080/"
    },
    "id": "CrzSrT1HnyfH",
    "outputId": "7e75f928-3e47-499d-eac1-51908015ef78"
   },
   "outputs": [
    {
     "name": "stdout",
     "output_type": "stream",
     "text": [
      "     var1(t-175)  var1(t-174)  var1(t-173)  var1(t-172)  var1(t-171)  \\\n",
      "175    89.140000    88.911429    88.682857    88.454286    88.225714   \n",
      "176    88.911429    88.682857    88.454286    88.225714    87.997143   \n",
      "177    88.682857    88.454286    88.225714    87.997143    87.768571   \n",
      "178    88.454286    88.225714    87.997143    87.768571    87.540000   \n",
      "179    88.225714    87.997143    87.768571    87.540000    87.311429   \n",
      "\n",
      "     var1(t-170)  var1(t-169)  var1(t-168)  var1(t-167)  var1(t-166)  ...  \\\n",
      "175    87.997143    87.768571    87.540000    87.311429    87.095798  ...   \n",
      "176    87.768571    87.540000    87.311429    87.095798    87.039776  ...   \n",
      "177    87.540000    87.311429    87.095798    87.039776    86.983754  ...   \n",
      "178    87.311429    87.095798    87.039776    86.983754    86.927731  ...   \n",
      "179    87.095798    87.039776    86.983754    86.927731    86.871709  ...   \n",
      "\n",
      "     var1(t+45)  var2(t+45)  var1(t+46)  var2(t+46)  var1(t+47)  var2(t+47)  \\\n",
      "175   82.338772    0.000280   82.321032    0.000280   82.303291    0.000280   \n",
      "176   82.321032    0.000280   82.303291    0.000280   82.285551    0.000280   \n",
      "177   82.303291    0.000280   82.285551    0.000280   82.267810    0.000279   \n",
      "178   82.285551    0.000280   82.267810    0.000279   82.250070    0.000279   \n",
      "179   82.267810    0.000279   82.250070    0.000279   82.232330    0.000279   \n",
      "\n",
      "     var1(t+48)  var2(t+48)  var1(t+49)  var2(t+49)  \n",
      "175   82.285551    0.000280   82.267810    0.000279  \n",
      "176   82.267810    0.000279   82.250070    0.000279  \n",
      "177   82.250070    0.000279   82.232330    0.000279  \n",
      "178   82.232330    0.000279   82.214589    0.000279  \n",
      "179   82.214589    0.000279   82.196849    0.000279  \n",
      "\n",
      "[5 rows x 276 columns]\n",
      "Index(['var1(t-175)', 'var1(t-174)', 'var1(t-173)', 'var1(t-172)',\n",
      "       'var1(t-171)', 'var1(t-170)', 'var1(t-169)', 'var1(t-168)',\n",
      "       'var1(t-167)', 'var1(t-166)',\n",
      "       ...\n",
      "       'var1(t+45)', 'var2(t+45)', 'var1(t+46)', 'var2(t+46)', 'var1(t+47)',\n",
      "       'var2(t+47)', 'var1(t+48)', 'var2(t+48)', 'var1(t+49)', 'var2(t+49)'],\n",
      "      dtype='object', length=276)\n"
     ]
    }
   ],
   "source": [
    "data = Supervised(df.values, n_in = 175, n_out = 50)\n",
    "\n",
    "\n",
    "cols_to_drop = []\n",
    "for i in range(2, 176):\n",
    "    cols_to_drop.extend([f'var2(t-{i})'])\n",
    "\n",
    "data.drop(cols_to_drop, axis=1, inplace=True)\n",
    "\n",
    "print(data.head())\n",
    "print(data.columns)"
   ]
  },
  {
   "cell_type": "code",
   "execution_count": 14,
   "metadata": {
    "id": "AfPf60oy6Pe4"
   },
   "outputs": [],
   "source": [
    "train = np.array(data[0:len(data)-1])\n",
    "forecast = np.array(data.tail(1))"
   ]
  },
  {
   "cell_type": "code",
   "execution_count": 15,
   "metadata": {
    "id": "WSAafzI37KiT"
   },
   "outputs": [],
   "source": [
    "trainy = train[:,-150:]\n",
    "trainX = train[:,:-150]"
   ]
  },
  {
   "cell_type": "code",
   "execution_count": 16,
   "metadata": {
    "id": "2SrOqVJA7f50"
   },
   "outputs": [],
   "source": [
    "forecasty = forecast[:,-150:]\n",
    "forecastX = forecast[:,:-150]"
   ]
  },
  {
   "cell_type": "code",
   "execution_count": 17,
   "metadata": {
    "colab": {
     "base_uri": "https://localhost:8080/"
    },
    "id": "Qno_k8Nw7saY",
    "outputId": "c4a88db5-d8c6-489f-cdb2-06b24e293cff"
   },
   "outputs": [
    {
     "name": "stdout",
     "output_type": "stream",
     "text": [
      "(2225, 1, 126) (2225, 150) (1, 1, 126)\n"
     ]
    }
   ],
   "source": [
    "trainX = trainX.reshape((trainX.shape[0], 1, trainX.shape[1]))\n",
    "forecastX = forecastX.reshape((forecastX.shape[0], 1, forecastX.shape[1]))\n",
    "print(trainX.shape, trainy.shape, forecastX.shape)"
   ]
  },
  {
   "cell_type": "code",
   "execution_count": 18,
   "metadata": {
    "colab": {
     "base_uri": "https://localhost:8080/"
    },
    "id": "b1Jp2DvNuNFx",
    "outputId": "d0e5b3c4-64f1-438c-eade-8dfeaac8e285"
   },
   "outputs": [
    {
     "name": "stdout",
     "output_type": "stream",
     "text": [
      "Epoch 1/500\n",
      "28/28 [==============================] - 3s 35ms/step - loss: 4832.6089 - val_loss: 2285.2261\n",
      "Epoch 2/500\n",
      "28/28 [==============================] - 0s 5ms/step - loss: 4479.4116 - val_loss: 2122.0168\n",
      "Epoch 3/500\n",
      "28/28 [==============================] - 0s 4ms/step - loss: 4233.0459 - val_loss: 2019.9558\n",
      "Epoch 4/500\n",
      "28/28 [==============================] - 0s 4ms/step - loss: 4024.3743 - val_loss: 1934.3790\n",
      "Epoch 5/500\n",
      "28/28 [==============================] - 0s 4ms/step - loss: 3842.0022 - val_loss: 1842.4773\n",
      "Epoch 6/500\n",
      "28/28 [==============================] - 0s 4ms/step - loss: 3633.9148 - val_loss: 1758.8378\n",
      "Epoch 7/500\n",
      "28/28 [==============================] - 0s 4ms/step - loss: 3451.2095 - val_loss: 1683.3995\n",
      "Epoch 8/500\n",
      "28/28 [==============================] - 0s 4ms/step - loss: 3283.5994 - val_loss: 1616.5380\n",
      "Epoch 9/500\n",
      "28/28 [==============================] - 0s 4ms/step - loss: 3118.7366 - val_loss: 1555.0348\n",
      "Epoch 10/500\n",
      "28/28 [==============================] - 0s 4ms/step - loss: 2971.3662 - val_loss: 1499.3577\n",
      "Epoch 11/500\n",
      "28/28 [==============================] - 0s 4ms/step - loss: 2831.7686 - val_loss: 1447.3805\n",
      "Epoch 12/500\n",
      "28/28 [==============================] - 0s 4ms/step - loss: 2702.3064 - val_loss: 1398.8472\n",
      "Epoch 13/500\n",
      "28/28 [==============================] - 0s 4ms/step - loss: 2574.2246 - val_loss: 1353.5554\n",
      "Epoch 14/500\n",
      "28/28 [==============================] - 0s 5ms/step - loss: 2446.5081 - val_loss: 1307.7311\n",
      "Epoch 15/500\n",
      "28/28 [==============================] - 0s 6ms/step - loss: 2325.9878 - val_loss: 1276.4739\n",
      "Epoch 16/500\n",
      "28/28 [==============================] - 0s 7ms/step - loss: 2260.6926 - val_loss: 1233.6788\n",
      "Epoch 17/500\n",
      "28/28 [==============================] - 0s 5ms/step - loss: 2110.8621 - val_loss: 1210.0717\n",
      "Epoch 18/500\n",
      "28/28 [==============================] - 0s 4ms/step - loss: 2006.6151 - val_loss: 1170.8667\n",
      "Epoch 19/500\n",
      "28/28 [==============================] - 0s 5ms/step - loss: 1909.9742 - val_loss: 1146.0054\n",
      "Epoch 20/500\n",
      "28/28 [==============================] - 0s 4ms/step - loss: 1820.8033 - val_loss: 1128.1411\n",
      "Epoch 21/500\n",
      "28/28 [==============================] - 0s 4ms/step - loss: 1732.8534 - val_loss: 1102.5094\n",
      "Epoch 22/500\n",
      "28/28 [==============================] - 0s 4ms/step - loss: 1648.9047 - val_loss: 1080.0898\n",
      "Epoch 23/500\n",
      "28/28 [==============================] - 0s 4ms/step - loss: 1569.3287 - val_loss: 1049.4025\n",
      "Epoch 24/500\n",
      "28/28 [==============================] - 0s 4ms/step - loss: 1480.6576 - val_loss: 1022.3016\n",
      "Epoch 25/500\n",
      "28/28 [==============================] - 0s 5ms/step - loss: 1406.3588 - val_loss: 1001.6760\n",
      "Epoch 26/500\n",
      "28/28 [==============================] - 0s 4ms/step - loss: 1415.1271 - val_loss: 993.5593\n",
      "Epoch 27/500\n",
      "28/28 [==============================] - 0s 5ms/step - loss: 1297.5216 - val_loss: 984.4294\n",
      "Epoch 28/500\n",
      "28/28 [==============================] - 0s 4ms/step - loss: 1220.0382 - val_loss: 949.9100\n",
      "Epoch 29/500\n",
      "28/28 [==============================] - 0s 4ms/step - loss: 1158.8054 - val_loss: 949.2879\n",
      "Epoch 30/500\n",
      "28/28 [==============================] - 0s 4ms/step - loss: 1111.1002 - val_loss: 972.8536\n",
      "Epoch 31/500\n",
      "28/28 [==============================] - 0s 4ms/step - loss: 1047.2224 - val_loss: 948.2652\n",
      "Epoch 32/500\n",
      "28/28 [==============================] - 0s 4ms/step - loss: 1000.4854 - val_loss: 943.5041\n",
      "Epoch 33/500\n",
      "28/28 [==============================] - 0s 4ms/step - loss: 1011.1365 - val_loss: 974.9012\n",
      "Epoch 34/500\n",
      "28/28 [==============================] - 0s 5ms/step - loss: 907.7784 - val_loss: 976.6678\n",
      "Epoch 35/500\n",
      "28/28 [==============================] - 0s 4ms/step - loss: 916.0825 - val_loss: 942.5135\n",
      "Epoch 36/500\n",
      "28/28 [==============================] - 0s 4ms/step - loss: 874.6753 - val_loss: 981.6998\n",
      "Epoch 37/500\n",
      "28/28 [==============================] - 0s 4ms/step - loss: 776.0272 - val_loss: 978.8008\n",
      "Epoch 38/500\n",
      "28/28 [==============================] - 0s 5ms/step - loss: 735.7685 - val_loss: 976.8255\n",
      "Epoch 39/500\n",
      "28/28 [==============================] - 0s 4ms/step - loss: 697.8114 - val_loss: 978.8949\n",
      "Epoch 40/500\n",
      "28/28 [==============================] - 0s 4ms/step - loss: 675.6671 - val_loss: 1029.8057\n",
      "Epoch 41/500\n",
      "28/28 [==============================] - 0s 4ms/step - loss: 674.7954 - val_loss: 1023.5370\n",
      "Epoch 42/500\n",
      "28/28 [==============================] - 0s 4ms/step - loss: 672.5195 - val_loss: 1017.9681\n",
      "Epoch 43/500\n",
      "28/28 [==============================] - 0s 4ms/step - loss: 631.3089 - val_loss: 1096.9489\n",
      "Epoch 44/500\n",
      "28/28 [==============================] - 0s 4ms/step - loss: 620.4045 - val_loss: 1152.7164\n",
      "Epoch 45/500\n",
      "28/28 [==============================] - 0s 4ms/step - loss: 585.8072 - val_loss: 1138.9553\n",
      "Epoch 46/500\n",
      "28/28 [==============================] - 0s 5ms/step - loss: 588.8502 - val_loss: 1140.4727\n",
      "Epoch 47/500\n",
      "28/28 [==============================] - 0s 4ms/step - loss: 553.2359 - val_loss: 1207.3115\n",
      "Epoch 48/500\n",
      "28/28 [==============================] - 0s 4ms/step - loss: 538.2870 - val_loss: 1228.5990\n",
      "Epoch 49/500\n",
      "28/28 [==============================] - 0s 4ms/step - loss: 493.6154 - val_loss: 1241.3719\n",
      "Epoch 50/500\n",
      "28/28 [==============================] - 0s 4ms/step - loss: 470.4161 - val_loss: 1217.1674\n",
      "Epoch 51/500\n",
      "28/28 [==============================] - 0s 4ms/step - loss: 494.3356 - val_loss: 1204.4717\n",
      "Epoch 52/500\n",
      "28/28 [==============================] - 0s 7ms/step - loss: 475.4310 - val_loss: 1272.1083\n",
      "Epoch 53/500\n",
      "28/28 [==============================] - 0s 4ms/step - loss: 431.2670 - val_loss: 1281.5125\n",
      "Epoch 54/500\n",
      "28/28 [==============================] - 0s 4ms/step - loss: 416.7381 - val_loss: 1255.3358\n",
      "Epoch 55/500\n",
      "28/28 [==============================] - 0s 4ms/step - loss: 431.7184 - val_loss: 1296.8843\n",
      "Epoch 56/500\n",
      "28/28 [==============================] - 0s 5ms/step - loss: 419.3736 - val_loss: 1304.1823\n",
      "Epoch 57/500\n",
      "28/28 [==============================] - 0s 8ms/step - loss: 412.5872 - val_loss: 1322.2310\n",
      "Epoch 58/500\n",
      "28/28 [==============================] - 0s 3ms/step - loss: 401.1554 - val_loss: 1317.8208\n",
      "Epoch 59/500\n",
      "28/28 [==============================] - 0s 4ms/step - loss: 387.9599 - val_loss: 1309.8090\n",
      "Epoch 60/500\n",
      "28/28 [==============================] - 0s 4ms/step - loss: 422.3981 - val_loss: 1346.3033\n",
      "Epoch 61/500\n",
      "28/28 [==============================] - 0s 4ms/step - loss: 414.5295 - val_loss: 1361.2303\n",
      "Epoch 62/500\n",
      "28/28 [==============================] - 0s 4ms/step - loss: 403.9142 - val_loss: 1352.3051\n",
      "Epoch 63/500\n",
      "28/28 [==============================] - 0s 4ms/step - loss: 395.1412 - val_loss: 1370.8582\n",
      "Epoch 64/500\n",
      "28/28 [==============================] - 0s 4ms/step - loss: 372.9289 - val_loss: 1304.0460\n",
      "Epoch 65/500\n",
      "28/28 [==============================] - 0s 4ms/step - loss: 403.0354 - val_loss: 1312.6921\n",
      "Epoch 66/500\n",
      "28/28 [==============================] - 0s 5ms/step - loss: 363.2459 - val_loss: 1314.7593\n",
      "Epoch 67/500\n",
      "28/28 [==============================] - 0s 6ms/step - loss: 367.8094 - val_loss: 1376.7020\n",
      "Epoch 68/500\n",
      "28/28 [==============================] - 0s 7ms/step - loss: 375.9184 - val_loss: 1384.1588\n",
      "Epoch 69/500\n",
      "28/28 [==============================] - 0s 6ms/step - loss: 368.1765 - val_loss: 1370.5050\n",
      "Epoch 70/500\n",
      "28/28 [==============================] - 0s 7ms/step - loss: 380.8864 - val_loss: 1365.7867\n",
      "Epoch 71/500\n",
      "28/28 [==============================] - 0s 6ms/step - loss: 366.2643 - val_loss: 1349.2900\n",
      "Epoch 72/500\n",
      "28/28 [==============================] - 0s 6ms/step - loss: 372.8905 - val_loss: 1342.2494\n",
      "Epoch 73/500\n",
      "28/28 [==============================] - 0s 6ms/step - loss: 364.5157 - val_loss: 1351.8636\n",
      "Epoch 74/500\n",
      "28/28 [==============================] - 0s 9ms/step - loss: 355.9835 - val_loss: 1385.0293\n",
      "Epoch 75/500\n",
      "28/28 [==============================] - 0s 6ms/step - loss: 338.8880 - val_loss: 1373.0905\n",
      "Epoch 76/500\n",
      "28/28 [==============================] - 0s 5ms/step - loss: 330.7395 - val_loss: 1367.4988\n",
      "Epoch 77/500\n",
      "28/28 [==============================] - 0s 5ms/step - loss: 322.5092 - val_loss: 1356.4086\n",
      "Epoch 78/500\n",
      "28/28 [==============================] - 0s 5ms/step - loss: 319.0961 - val_loss: 1351.7729\n",
      "Epoch 79/500\n",
      "28/28 [==============================] - 0s 5ms/step - loss: 328.0399 - val_loss: 1354.6835\n",
      "Epoch 80/500\n",
      "28/28 [==============================] - 0s 5ms/step - loss: 322.1005 - val_loss: 1366.0706\n",
      "Epoch 81/500\n",
      "28/28 [==============================] - 0s 5ms/step - loss: 313.7032 - val_loss: 1404.4467\n",
      "Epoch 82/500\n",
      "28/28 [==============================] - 0s 5ms/step - loss: 323.7867 - val_loss: 1459.7177\n",
      "Epoch 83/500\n",
      "28/28 [==============================] - 0s 5ms/step - loss: 312.0874 - val_loss: 1464.1047\n",
      "Epoch 84/500\n",
      "28/28 [==============================] - 0s 6ms/step - loss: 299.0492 - val_loss: 1458.0475\n",
      "Epoch 85/500\n",
      "28/28 [==============================] - 0s 5ms/step - loss: 297.2396 - val_loss: 1449.3436\n",
      "Epoch 86/500\n",
      "28/28 [==============================] - 0s 5ms/step - loss: 293.6891 - val_loss: 1432.4622\n",
      "Epoch 87/500\n",
      "28/28 [==============================] - 0s 5ms/step - loss: 303.6414 - val_loss: 1423.9315\n",
      "Epoch 88/500\n",
      "28/28 [==============================] - 0s 5ms/step - loss: 305.4771 - val_loss: 1409.6864\n",
      "Epoch 89/500\n",
      "28/28 [==============================] - 0s 5ms/step - loss: 304.9298 - val_loss: 1394.5345\n",
      "Epoch 90/500\n",
      "28/28 [==============================] - 0s 5ms/step - loss: 301.0810 - val_loss: 1394.7916\n",
      "Epoch 91/500\n",
      "28/28 [==============================] - 0s 5ms/step - loss: 297.2046 - val_loss: 1387.7289\n",
      "Epoch 92/500\n",
      "28/28 [==============================] - 0s 5ms/step - loss: 295.6529 - val_loss: 1391.0234\n",
      "Epoch 93/500\n",
      "28/28 [==============================] - 0s 10ms/step - loss: 294.1263 - val_loss: 1391.9647\n",
      "Epoch 94/500\n",
      "28/28 [==============================] - 0s 7ms/step - loss: 291.8708 - val_loss: 1391.1162\n",
      "Epoch 95/500\n",
      "28/28 [==============================] - 0s 6ms/step - loss: 292.3107 - val_loss: 1380.9718\n",
      "Epoch 96/500\n",
      "28/28 [==============================] - 0s 6ms/step - loss: 300.0510 - val_loss: 1377.4148\n",
      "Epoch 97/500\n",
      "28/28 [==============================] - 0s 6ms/step - loss: 296.7055 - val_loss: 1376.7512\n",
      "Epoch 98/500\n",
      "28/28 [==============================] - 0s 6ms/step - loss: 294.0654 - val_loss: 1375.5968\n",
      "Epoch 99/500\n",
      "28/28 [==============================] - 0s 6ms/step - loss: 291.8365 - val_loss: 1376.8341\n",
      "Epoch 100/500\n",
      "28/28 [==============================] - 0s 6ms/step - loss: 289.8475 - val_loss: 1377.2480\n",
      "Epoch 101/500\n",
      "28/28 [==============================] - 0s 6ms/step - loss: 287.9950 - val_loss: 1380.7185\n",
      "Epoch 102/500\n",
      "28/28 [==============================] - 0s 6ms/step - loss: 287.1747 - val_loss: 1382.0854\n",
      "Epoch 103/500\n",
      "28/28 [==============================] - 0s 6ms/step - loss: 284.9456 - val_loss: 1381.1658\n",
      "Epoch 104/500\n",
      "28/28 [==============================] - 0s 5ms/step - loss: 283.0174 - val_loss: 1376.5137\n",
      "Epoch 105/500\n",
      "28/28 [==============================] - 0s 5ms/step - loss: 276.0061 - val_loss: 1353.2240\n",
      "Epoch 106/500\n",
      "28/28 [==============================] - 0s 5ms/step - loss: 268.9892 - val_loss: 1337.2412\n",
      "Epoch 107/500\n",
      "28/28 [==============================] - 0s 5ms/step - loss: 294.5975 - val_loss: 1350.4730\n",
      "Epoch 108/500\n",
      "28/28 [==============================] - 0s 5ms/step - loss: 288.8063 - val_loss: 1346.6630\n",
      "Epoch 109/500\n",
      "28/28 [==============================] - 0s 5ms/step - loss: 283.0490 - val_loss: 1332.6116\n",
      "Epoch 110/500\n",
      "28/28 [==============================] - 0s 4ms/step - loss: 280.3401 - val_loss: 1322.9583\n",
      "Epoch 111/500\n",
      "28/28 [==============================] - 0s 5ms/step - loss: 289.3026 - val_loss: 1373.8916\n",
      "Epoch 112/500\n",
      "28/28 [==============================] - 0s 5ms/step - loss: 286.5562 - val_loss: 1370.8875\n",
      "Epoch 113/500\n",
      "28/28 [==============================] - 0s 5ms/step - loss: 279.9188 - val_loss: 1321.1661\n",
      "Epoch 114/500\n",
      "28/28 [==============================] - 0s 5ms/step - loss: 295.1384 - val_loss: 1375.5039\n",
      "Epoch 115/500\n",
      "28/28 [==============================] - 0s 6ms/step - loss: 286.1004 - val_loss: 1373.0018\n",
      "Epoch 116/500\n",
      "28/28 [==============================] - 0s 5ms/step - loss: 284.2272 - val_loss: 1371.5249\n",
      "Epoch 117/500\n",
      "28/28 [==============================] - 0s 5ms/step - loss: 280.8619 - val_loss: 1352.7410\n",
      "Epoch 118/500\n",
      "28/28 [==============================] - 0s 5ms/step - loss: 275.2270 - val_loss: 1334.8809\n",
      "Epoch 119/500\n",
      "28/28 [==============================] - 0s 5ms/step - loss: 268.6330 - val_loss: 1324.1299\n",
      "Epoch 120/500\n",
      "28/28 [==============================] - 0s 5ms/step - loss: 265.0647 - val_loss: 1310.6185\n",
      "Epoch 121/500\n",
      "28/28 [==============================] - 0s 5ms/step - loss: 270.5171 - val_loss: 1288.4156\n",
      "Epoch 122/500\n",
      "28/28 [==============================] - 0s 5ms/step - loss: 265.2139 - val_loss: 1273.6772\n",
      "Epoch 123/500\n",
      "28/28 [==============================] - 0s 5ms/step - loss: 277.7976 - val_loss: 1273.3806\n",
      "Epoch 124/500\n",
      "28/28 [==============================] - 0s 5ms/step - loss: 274.4663 - val_loss: 1282.6674\n",
      "Epoch 125/500\n",
      "28/28 [==============================] - 0s 5ms/step - loss: 257.0869 - val_loss: 1284.2062\n",
      "Epoch 126/500\n",
      "28/28 [==============================] - 0s 5ms/step - loss: 258.3198 - val_loss: 1290.6838\n",
      "Epoch 127/500\n",
      "28/28 [==============================] - 0s 5ms/step - loss: 254.2229 - val_loss: 1284.2180\n",
      "Epoch 128/500\n",
      "28/28 [==============================] - 0s 5ms/step - loss: 252.6371 - val_loss: 1279.8274\n",
      "Epoch 129/500\n",
      "28/28 [==============================] - 0s 9ms/step - loss: 251.0058 - val_loss: 1269.2319\n",
      "Epoch 130/500\n",
      "28/28 [==============================] - 0s 5ms/step - loss: 241.9831 - val_loss: 1240.4120\n",
      "Epoch 131/500\n",
      "28/28 [==============================] - 0s 5ms/step - loss: 276.7740 - val_loss: 1240.1854\n",
      "Epoch 132/500\n",
      "28/28 [==============================] - 0s 5ms/step - loss: 272.9419 - val_loss: 1245.3778\n",
      "Epoch 133/500\n",
      "28/28 [==============================] - 0s 5ms/step - loss: 269.4447 - val_loss: 1253.2645\n",
      "Epoch 134/500\n",
      "28/28 [==============================] - 0s 5ms/step - loss: 273.8879 - val_loss: 1257.5149\n",
      "Epoch 135/500\n",
      "28/28 [==============================] - 0s 5ms/step - loss: 265.4043 - val_loss: 1292.7588\n",
      "Epoch 136/500\n",
      "28/28 [==============================] - 0s 4ms/step - loss: 270.6487 - val_loss: 1313.6338\n",
      "Epoch 137/500\n",
      "28/28 [==============================] - 0s 5ms/step - loss: 260.7310 - val_loss: 1263.6720\n",
      "Epoch 138/500\n",
      "28/28 [==============================] - 0s 5ms/step - loss: 265.0401 - val_loss: 1304.1542\n",
      "Epoch 139/500\n",
      "28/28 [==============================] - 0s 5ms/step - loss: 261.9210 - val_loss: 1303.7620\n",
      "Epoch 140/500\n",
      "28/28 [==============================] - 0s 5ms/step - loss: 265.2806 - val_loss: 1275.6437\n",
      "Epoch 141/500\n",
      "28/28 [==============================] - 0s 5ms/step - loss: 269.3048 - val_loss: 1258.4250\n",
      "Epoch 142/500\n",
      "28/28 [==============================] - 0s 5ms/step - loss: 264.2676 - val_loss: 1262.5828\n",
      "Epoch 143/500\n",
      "28/28 [==============================] - 0s 5ms/step - loss: 259.8151 - val_loss: 1262.6238\n",
      "Epoch 144/500\n",
      "28/28 [==============================] - 0s 5ms/step - loss: 255.7263 - val_loss: 1257.8602\n",
      "Epoch 145/500\n",
      "28/28 [==============================] - 0s 5ms/step - loss: 253.6348 - val_loss: 1258.3123\n",
      "Epoch 146/500\n",
      "28/28 [==============================] - 0s 5ms/step - loss: 250.7229 - val_loss: 1260.7988\n",
      "Epoch 147/500\n",
      "28/28 [==============================] - 0s 5ms/step - loss: 248.0634 - val_loss: 1260.7291\n",
      "Epoch 148/500\n",
      "28/28 [==============================] - 0s 5ms/step - loss: 246.3474 - val_loss: 1263.7404\n",
      "Epoch 149/500\n",
      "28/28 [==============================] - 0s 5ms/step - loss: 245.1358 - val_loss: 1271.6305\n",
      "Epoch 150/500\n",
      "28/28 [==============================] - 0s 5ms/step - loss: 235.8406 - val_loss: 1253.0166\n",
      "Epoch 151/500\n",
      "28/28 [==============================] - 0s 5ms/step - loss: 251.4882 - val_loss: 1264.6743\n",
      "Epoch 152/500\n",
      "28/28 [==============================] - 0s 5ms/step - loss: 245.8677 - val_loss: 1251.6351\n",
      "Epoch 153/500\n",
      "28/28 [==============================] - 0s 5ms/step - loss: 242.8892 - val_loss: 1252.6700\n",
      "Epoch 154/500\n",
      "28/28 [==============================] - 0s 4ms/step - loss: 241.2589 - val_loss: 1252.1649\n",
      "Epoch 155/500\n",
      "28/28 [==============================] - 0s 5ms/step - loss: 239.5512 - val_loss: 1250.9895\n",
      "Epoch 156/500\n",
      "28/28 [==============================] - 0s 5ms/step - loss: 251.5833 - val_loss: 1290.8900\n",
      "Epoch 157/500\n",
      "28/28 [==============================] - 0s 5ms/step - loss: 238.2666 - val_loss: 1232.8396\n",
      "Epoch 158/500\n",
      "28/28 [==============================] - 0s 5ms/step - loss: 240.7387 - val_loss: 1223.5486\n",
      "Epoch 159/500\n",
      "28/28 [==============================] - 0s 5ms/step - loss: 238.9241 - val_loss: 1225.3955\n",
      "Epoch 160/500\n",
      "28/28 [==============================] - 0s 5ms/step - loss: 237.5440 - val_loss: 1227.3291\n",
      "Epoch 161/500\n",
      "28/28 [==============================] - 0s 4ms/step - loss: 236.0256 - val_loss: 1228.3690\n",
      "Epoch 162/500\n",
      "28/28 [==============================] - 0s 4ms/step - loss: 234.5022 - val_loss: 1228.1652\n",
      "Epoch 163/500\n",
      "28/28 [==============================] - 0s 8ms/step - loss: 258.7141 - val_loss: 1318.3560\n",
      "Epoch 164/500\n",
      "28/28 [==============================] - 0s 8ms/step - loss: 258.2589 - val_loss: 1327.7115\n",
      "Epoch 165/500\n",
      "28/28 [==============================] - 0s 5ms/step - loss: 256.0640 - val_loss: 1321.0629\n",
      "Epoch 166/500\n",
      "28/28 [==============================] - 0s 5ms/step - loss: 253.8914 - val_loss: 1297.4066\n",
      "Epoch 167/500\n",
      "28/28 [==============================] - 0s 5ms/step - loss: 250.4672 - val_loss: 1274.8547\n",
      "Epoch 168/500\n",
      "28/28 [==============================] - 0s 5ms/step - loss: 250.3559 - val_loss: 1231.6672\n",
      "Epoch 169/500\n",
      "28/28 [==============================] - 0s 5ms/step - loss: 241.9706 - val_loss: 1208.4329\n",
      "Epoch 170/500\n",
      "28/28 [==============================] - 0s 5ms/step - loss: 291.1675 - val_loss: 1205.6863\n",
      "Epoch 171/500\n",
      "28/28 [==============================] - 0s 5ms/step - loss: 234.5297 - val_loss: 1215.3879\n",
      "Epoch 172/500\n",
      "28/28 [==============================] - 0s 5ms/step - loss: 237.1088 - val_loss: 1243.8240\n",
      "Epoch 173/500\n",
      "28/28 [==============================] - 0s 5ms/step - loss: 233.2642 - val_loss: 1233.0385\n",
      "Epoch 174/500\n",
      "28/28 [==============================] - 0s 4ms/step - loss: 230.8740 - val_loss: 1223.1479\n",
      "Epoch 175/500\n",
      "28/28 [==============================] - 0s 5ms/step - loss: 228.9532 - val_loss: 1212.8340\n",
      "Epoch 176/500\n",
      "28/28 [==============================] - 0s 5ms/step - loss: 225.7529 - val_loss: 1195.9696\n",
      "Epoch 177/500\n",
      "28/28 [==============================] - 0s 5ms/step - loss: 221.3493 - val_loss: 1183.9667\n",
      "Epoch 178/500\n",
      "28/28 [==============================] - 0s 5ms/step - loss: 217.5598 - val_loss: 1177.1528\n",
      "Epoch 179/500\n",
      "28/28 [==============================] - 0s 4ms/step - loss: 215.6116 - val_loss: 1173.7285\n",
      "Epoch 180/500\n",
      "28/28 [==============================] - 0s 4ms/step - loss: 255.5293 - val_loss: 1178.5757\n",
      "Epoch 181/500\n",
      "28/28 [==============================] - 0s 4ms/step - loss: 250.7901 - val_loss: 1186.7345\n",
      "Epoch 182/500\n",
      "28/28 [==============================] - 0s 5ms/step - loss: 247.4821 - val_loss: 1197.9766\n",
      "Epoch 183/500\n",
      "28/28 [==============================] - 0s 5ms/step - loss: 244.8395 - val_loss: 1205.7982\n",
      "Epoch 184/500\n",
      "28/28 [==============================] - 0s 5ms/step - loss: 242.5159 - val_loss: 1213.6274\n",
      "Epoch 185/500\n",
      "28/28 [==============================] - 0s 5ms/step - loss: 240.7419 - val_loss: 1214.1453\n",
      "Epoch 186/500\n",
      "28/28 [==============================] - 0s 4ms/step - loss: 238.7534 - val_loss: 1223.7322\n",
      "Epoch 187/500\n",
      "28/28 [==============================] - 0s 4ms/step - loss: 237.5681 - val_loss: 1214.8206\n",
      "Epoch 188/500\n",
      "28/28 [==============================] - 0s 4ms/step - loss: 245.3149 - val_loss: 1235.6366\n",
      "Epoch 189/500\n",
      "28/28 [==============================] - 0s 4ms/step - loss: 238.2488 - val_loss: 1232.7050\n",
      "Epoch 190/500\n",
      "28/28 [==============================] - 0s 5ms/step - loss: 233.6326 - val_loss: 1227.1060\n",
      "Epoch 191/500\n",
      "28/28 [==============================] - 0s 5ms/step - loss: 251.2638 - val_loss: 1224.7157\n",
      "Epoch 192/500\n",
      "28/28 [==============================] - 0s 5ms/step - loss: 248.8048 - val_loss: 1223.0457\n",
      "Epoch 193/500\n",
      "28/28 [==============================] - 0s 5ms/step - loss: 259.6689 - val_loss: 1272.8472\n",
      "Epoch 194/500\n",
      "28/28 [==============================] - 0s 5ms/step - loss: 253.3829 - val_loss: 1276.4309\n",
      "Epoch 195/500\n",
      "28/28 [==============================] - 0s 5ms/step - loss: 222.6117 - val_loss: 1254.9354\n",
      "Epoch 196/500\n",
      "28/28 [==============================] - 0s 4ms/step - loss: 217.4122 - val_loss: 1215.8323\n",
      "Epoch 197/500\n",
      "28/28 [==============================] - 0s 4ms/step - loss: 243.3898 - val_loss: 1199.2108\n",
      "Epoch 198/500\n",
      "28/28 [==============================] - 0s 4ms/step - loss: 239.1076 - val_loss: 1185.2418\n",
      "Epoch 199/500\n",
      "28/28 [==============================] - 0s 4ms/step - loss: 236.4075 - val_loss: 1184.2834\n",
      "Epoch 200/500\n",
      "28/28 [==============================] - 0s 4ms/step - loss: 233.4834 - val_loss: 1183.4993\n",
      "Epoch 201/500\n",
      "28/28 [==============================] - 0s 10ms/step - loss: 230.4725 - val_loss: 1173.5321\n",
      "Epoch 202/500\n",
      "28/28 [==============================] - 0s 5ms/step - loss: 244.4780 - val_loss: 1239.5685\n",
      "Epoch 203/500\n",
      "28/28 [==============================] - 0s 5ms/step - loss: 241.4241 - val_loss: 1236.9944\n",
      "Epoch 204/500\n",
      "28/28 [==============================] - 0s 5ms/step - loss: 240.2548 - val_loss: 1239.4266\n",
      "Epoch 205/500\n",
      "28/28 [==============================] - 0s 5ms/step - loss: 239.2575 - val_loss: 1234.9525\n",
      "Epoch 206/500\n",
      "28/28 [==============================] - 0s 5ms/step - loss: 251.7021 - val_loss: 1282.0240\n",
      "Epoch 207/500\n",
      "28/28 [==============================] - 0s 5ms/step - loss: 249.9689 - val_loss: 1278.3846\n",
      "Epoch 208/500\n",
      "28/28 [==============================] - 0s 5ms/step - loss: 248.2055 - val_loss: 1266.0432\n",
      "Epoch 209/500\n",
      "28/28 [==============================] - 0s 5ms/step - loss: 291.2200 - val_loss: 1267.0291\n",
      "Epoch 210/500\n",
      "28/28 [==============================] - 0s 5ms/step - loss: 274.8856 - val_loss: 1269.5349\n",
      "Epoch 211/500\n",
      "28/28 [==============================] - 0s 5ms/step - loss: 236.2656 - val_loss: 1238.9459\n",
      "Epoch 212/500\n",
      "28/28 [==============================] - 0s 5ms/step - loss: 226.2907 - val_loss: 1174.5802\n",
      "Epoch 213/500\n",
      "28/28 [==============================] - 0s 5ms/step - loss: 250.0183 - val_loss: 1300.9320\n",
      "Epoch 214/500\n",
      "28/28 [==============================] - 0s 5ms/step - loss: 245.0526 - val_loss: 1291.8511\n",
      "Epoch 215/500\n",
      "28/28 [==============================] - 0s 5ms/step - loss: 243.0969 - val_loss: 1282.0250\n",
      "Epoch 216/500\n",
      "28/28 [==============================] - 0s 5ms/step - loss: 239.2297 - val_loss: 1269.9424\n",
      "Epoch 217/500\n",
      "28/28 [==============================] - 0s 5ms/step - loss: 237.6886 - val_loss: 1264.6119\n",
      "Epoch 218/500\n",
      "28/28 [==============================] - 0s 5ms/step - loss: 235.7056 - val_loss: 1256.8330\n",
      "Epoch 219/500\n",
      "28/28 [==============================] - 0s 5ms/step - loss: 234.6103 - val_loss: 1254.8921\n",
      "Epoch 220/500\n",
      "28/28 [==============================] - 0s 5ms/step - loss: 233.6302 - val_loss: 1251.3900\n",
      "Epoch 221/500\n",
      "28/28 [==============================] - 0s 5ms/step - loss: 232.7510 - val_loss: 1246.7518\n",
      "Epoch 222/500\n",
      "28/28 [==============================] - 0s 5ms/step - loss: 231.8894 - val_loss: 1244.7081\n",
      "Epoch 223/500\n",
      "28/28 [==============================] - 0s 5ms/step - loss: 230.8376 - val_loss: 1241.1925\n",
      "Epoch 224/500\n",
      "28/28 [==============================] - 0s 5ms/step - loss: 231.0029 - val_loss: 1238.9540\n",
      "Epoch 225/500\n",
      "28/28 [==============================] - 0s 5ms/step - loss: 230.0046 - val_loss: 1232.0469\n",
      "Epoch 226/500\n",
      "28/28 [==============================] - 0s 5ms/step - loss: 227.9910 - val_loss: 1216.4486\n",
      "Epoch 227/500\n",
      "28/28 [==============================] - 0s 5ms/step - loss: 229.3234 - val_loss: 1187.5314\n",
      "Epoch 228/500\n",
      "28/28 [==============================] - 0s 5ms/step - loss: 295.6028 - val_loss: 1172.5721\n",
      "Epoch 229/500\n",
      "28/28 [==============================] - 0s 7ms/step - loss: 287.3138 - val_loss: 1185.3115\n",
      "Epoch 230/500\n",
      "28/28 [==============================] - 0s 6ms/step - loss: 275.6095 - val_loss: 1149.9554\n",
      "Epoch 231/500\n",
      "28/28 [==============================] - 0s 5ms/step - loss: 267.2711 - val_loss: 1168.5884\n",
      "Epoch 232/500\n",
      "28/28 [==============================] - 0s 11ms/step - loss: 262.4018 - val_loss: 1174.8052\n",
      "Epoch 233/500\n",
      "28/28 [==============================] - 0s 5ms/step - loss: 287.2490 - val_loss: 1184.9899\n",
      "Epoch 234/500\n",
      "28/28 [==============================] - 0s 5ms/step - loss: 281.0579 - val_loss: 1217.5997\n",
      "Epoch 235/500\n",
      "28/28 [==============================] - 0s 5ms/step - loss: 258.0437 - val_loss: 1262.1676\n",
      "Epoch 236/500\n",
      "28/28 [==============================] - 0s 5ms/step - loss: 254.7357 - val_loss: 1269.0865\n",
      "Epoch 237/500\n",
      "28/28 [==============================] - 0s 5ms/step - loss: 252.8977 - val_loss: 1264.7419\n",
      "Epoch 238/500\n",
      "28/28 [==============================] - 0s 5ms/step - loss: 249.9614 - val_loss: 1262.3162\n",
      "Epoch 239/500\n",
      "28/28 [==============================] - 0s 5ms/step - loss: 247.2748 - val_loss: 1258.6547\n",
      "Epoch 240/500\n",
      "28/28 [==============================] - 0s 5ms/step - loss: 245.3042 - val_loss: 1247.6215\n",
      "Epoch 241/500\n",
      "28/28 [==============================] - 0s 6ms/step - loss: 244.1510 - val_loss: 1249.3435\n",
      "Epoch 242/500\n",
      "28/28 [==============================] - 0s 6ms/step - loss: 241.8206 - val_loss: 1251.1018\n",
      "Epoch 243/500\n",
      "28/28 [==============================] - 0s 7ms/step - loss: 254.0067 - val_loss: 1304.2578\n",
      "Epoch 244/500\n",
      "28/28 [==============================] - 0s 7ms/step - loss: 247.6069 - val_loss: 1276.6071\n",
      "Epoch 245/500\n",
      "28/28 [==============================] - 0s 6ms/step - loss: 279.3102 - val_loss: 1407.7256\n",
      "Epoch 246/500\n",
      "28/28 [==============================] - 0s 5ms/step - loss: 278.4120 - val_loss: 1390.7789\n",
      "Epoch 247/500\n",
      "28/28 [==============================] - 0s 5ms/step - loss: 292.0117 - val_loss: 1374.0854\n",
      "Epoch 248/500\n",
      "28/28 [==============================] - 0s 6ms/step - loss: 282.2212 - val_loss: 1356.0176\n",
      "Epoch 249/500\n",
      "28/28 [==============================] - 0s 5ms/step - loss: 287.2960 - val_loss: 1389.8798\n",
      "Epoch 250/500\n",
      "28/28 [==============================] - 0s 5ms/step - loss: 279.3847 - val_loss: 1359.0006\n",
      "Epoch 251/500\n",
      "28/28 [==============================] - 0s 7ms/step - loss: 274.9817 - val_loss: 1342.5724\n",
      "Epoch 252/500\n",
      "28/28 [==============================] - 0s 7ms/step - loss: 271.7610 - val_loss: 1330.2554\n",
      "Epoch 253/500\n",
      "28/28 [==============================] - 0s 6ms/step - loss: 247.7233 - val_loss: 1301.9374\n",
      "Epoch 254/500\n",
      "28/28 [==============================] - 0s 5ms/step - loss: 252.4319 - val_loss: 1312.2783\n",
      "Epoch 255/500\n",
      "28/28 [==============================] - 0s 5ms/step - loss: 243.5059 - val_loss: 1295.5140\n",
      "Epoch 256/500\n",
      "28/28 [==============================] - 0s 5ms/step - loss: 239.0088 - val_loss: 1282.6321\n",
      "Epoch 257/500\n",
      "28/28 [==============================] - 0s 5ms/step - loss: 234.7900 - val_loss: 1266.3346\n",
      "Epoch 258/500\n",
      "28/28 [==============================] - 0s 5ms/step - loss: 231.7714 - val_loss: 1250.5432\n",
      "Epoch 259/500\n",
      "28/28 [==============================] - 0s 5ms/step - loss: 222.7406 - val_loss: 1196.1216\n",
      "Epoch 260/500\n",
      "28/28 [==============================] - 0s 14ms/step - loss: 230.4903 - val_loss: 1194.8398\n",
      "Epoch 261/500\n",
      "28/28 [==============================] - 0s 5ms/step - loss: 229.0746 - val_loss: 1195.2017\n",
      "Epoch 262/500\n",
      "28/28 [==============================] - 0s 6ms/step - loss: 228.0249 - val_loss: 1196.1821\n",
      "Epoch 263/500\n",
      "28/28 [==============================] - 0s 6ms/step - loss: 227.0126 - val_loss: 1196.8992\n",
      "Epoch 264/500\n",
      "28/28 [==============================] - 0s 5ms/step - loss: 226.0488 - val_loss: 1197.6111\n",
      "Epoch 265/500\n",
      "28/28 [==============================] - 0s 4ms/step - loss: 225.1426 - val_loss: 1197.9485\n",
      "Epoch 266/500\n",
      "28/28 [==============================] - 0s 5ms/step - loss: 224.2683 - val_loss: 1197.5923\n",
      "Epoch 267/500\n",
      "28/28 [==============================] - 0s 5ms/step - loss: 223.3881 - val_loss: 1197.0688\n",
      "Epoch 268/500\n",
      "28/28 [==============================] - 0s 4ms/step - loss: 222.6279 - val_loss: 1195.5056\n",
      "Epoch 269/500\n",
      "28/28 [==============================] - 0s 5ms/step - loss: 221.7623 - val_loss: 1194.4419\n",
      "Epoch 270/500\n",
      "28/28 [==============================] - 0s 5ms/step - loss: 220.3167 - val_loss: 1189.1788\n",
      "Epoch 271/500\n",
      "28/28 [==============================] - 0s 4ms/step - loss: 218.8813 - val_loss: 1186.6893\n",
      "Epoch 272/500\n",
      "28/28 [==============================] - 0s 6ms/step - loss: 217.8443 - val_loss: 1185.6071\n",
      "Epoch 273/500\n",
      "28/28 [==============================] - 0s 5ms/step - loss: 217.2021 - val_loss: 1184.8589\n",
      "Epoch 274/500\n",
      "28/28 [==============================] - 0s 5ms/step - loss: 216.1323 - val_loss: 1184.8877\n",
      "Epoch 275/500\n",
      "28/28 [==============================] - 0s 5ms/step - loss: 216.0716 - val_loss: 1182.7456\n",
      "Epoch 276/500\n",
      "28/28 [==============================] - 0s 5ms/step - loss: 214.4718 - val_loss: 1181.4138\n",
      "Epoch 277/500\n",
      "28/28 [==============================] - 0s 4ms/step - loss: 213.7230 - val_loss: 1179.0338\n",
      "Epoch 278/500\n",
      "28/28 [==============================] - 0s 5ms/step - loss: 212.9743 - val_loss: 1176.7368\n",
      "Epoch 279/500\n",
      "28/28 [==============================] - 0s 5ms/step - loss: 212.2429 - val_loss: 1174.0841\n",
      "Epoch 280/500\n",
      "28/28 [==============================] - 0s 5ms/step - loss: 211.5097 - val_loss: 1172.0752\n",
      "Epoch 281/500\n",
      "28/28 [==============================] - 0s 5ms/step - loss: 210.7881 - val_loss: 1169.5023\n",
      "Epoch 282/500\n",
      "28/28 [==============================] - 0s 5ms/step - loss: 210.0566 - val_loss: 1166.9089\n",
      "Epoch 283/500\n",
      "28/28 [==============================] - 0s 5ms/step - loss: 205.6082 - val_loss: 1118.2201\n",
      "Epoch 284/500\n",
      "28/28 [==============================] - 0s 5ms/step - loss: 209.0455 - val_loss: 1119.8430\n",
      "Epoch 285/500\n",
      "28/28 [==============================] - 0s 5ms/step - loss: 208.1579 - val_loss: 1122.4103\n",
      "Epoch 286/500\n",
      "28/28 [==============================] - 0s 4ms/step - loss: 207.0971 - val_loss: 1123.7675\n",
      "Epoch 287/500\n",
      "28/28 [==============================] - 0s 5ms/step - loss: 206.1592 - val_loss: 1123.7759\n",
      "Epoch 288/500\n",
      "28/28 [==============================] - 0s 5ms/step - loss: 205.2771 - val_loss: 1125.4517\n",
      "Epoch 289/500\n",
      "28/28 [==============================] - 0s 5ms/step - loss: 204.4026 - val_loss: 1125.6541\n",
      "Epoch 290/500\n",
      "28/28 [==============================] - 0s 10ms/step - loss: 203.5755 - val_loss: 1124.6791\n",
      "Epoch 291/500\n",
      "28/28 [==============================] - 0s 6ms/step - loss: 202.8639 - val_loss: 1126.0056\n",
      "Epoch 292/500\n",
      "28/28 [==============================] - 0s 5ms/step - loss: 202.0014 - val_loss: 1124.0035\n",
      "Epoch 293/500\n",
      "28/28 [==============================] - 0s 5ms/step - loss: 201.2669 - val_loss: 1121.9377\n",
      "Epoch 294/500\n",
      "28/28 [==============================] - 0s 5ms/step - loss: 200.5216 - val_loss: 1122.1617\n",
      "Epoch 295/500\n",
      "28/28 [==============================] - 0s 5ms/step - loss: 199.7937 - val_loss: 1120.6730\n",
      "Epoch 296/500\n",
      "28/28 [==============================] - 0s 4ms/step - loss: 199.0755 - val_loss: 1118.7365\n",
      "Epoch 297/500\n",
      "28/28 [==============================] - 0s 5ms/step - loss: 198.3645 - val_loss: 1118.4807\n",
      "Epoch 298/500\n",
      "28/28 [==============================] - 0s 5ms/step - loss: 197.6602 - val_loss: 1116.4156\n",
      "Epoch 299/500\n",
      "28/28 [==============================] - 0s 5ms/step - loss: 197.0111 - val_loss: 1113.0320\n",
      "Epoch 300/500\n",
      "28/28 [==============================] - 0s 5ms/step - loss: 193.8995 - val_loss: 1092.6766\n",
      "Epoch 301/500\n",
      "28/28 [==============================] - 0s 5ms/step - loss: 191.1966 - val_loss: 1090.5669\n",
      "Epoch 302/500\n",
      "28/28 [==============================] - 0s 5ms/step - loss: 211.2686 - val_loss: 1091.9604\n",
      "Epoch 303/500\n",
      "28/28 [==============================] - 0s 5ms/step - loss: 210.5238 - val_loss: 1102.4254\n",
      "Epoch 304/500\n",
      "28/28 [==============================] - 0s 5ms/step - loss: 208.3023 - val_loss: 1107.2520\n",
      "Epoch 305/500\n",
      "28/28 [==============================] - 0s 4ms/step - loss: 206.8112 - val_loss: 1109.6532\n",
      "Epoch 306/500\n",
      "28/28 [==============================] - 0s 5ms/step - loss: 205.5422 - val_loss: 1119.6492\n",
      "Epoch 307/500\n",
      "28/28 [==============================] - 0s 5ms/step - loss: 204.4031 - val_loss: 1113.0836\n",
      "Epoch 308/500\n",
      "28/28 [==============================] - 0s 5ms/step - loss: 203.3619 - val_loss: 1114.5850\n",
      "Epoch 309/500\n",
      "28/28 [==============================] - 0s 5ms/step - loss: 202.4372 - val_loss: 1110.5085\n",
      "Epoch 310/500\n",
      "28/28 [==============================] - 0s 5ms/step - loss: 201.2894 - val_loss: 1105.4181\n",
      "Epoch 311/500\n",
      "28/28 [==============================] - 0s 5ms/step - loss: 200.4418 - val_loss: 1103.6757\n",
      "Epoch 312/500\n",
      "28/28 [==============================] - 0s 5ms/step - loss: 199.5618 - val_loss: 1109.6985\n",
      "Epoch 313/500\n",
      "28/28 [==============================] - 0s 5ms/step - loss: 198.9069 - val_loss: 1096.9629\n",
      "Epoch 314/500\n",
      "28/28 [==============================] - 0s 5ms/step - loss: 227.9206 - val_loss: 1097.9717\n",
      "Epoch 315/500\n",
      "28/28 [==============================] - 0s 5ms/step - loss: 224.8709 - val_loss: 1113.7899\n",
      "Epoch 316/500\n",
      "28/28 [==============================] - 0s 5ms/step - loss: 197.1722 - val_loss: 1099.5795\n",
      "Epoch 317/500\n",
      "28/28 [==============================] - 0s 5ms/step - loss: 221.6365 - val_loss: 1088.0378\n",
      "Epoch 318/500\n",
      "28/28 [==============================] - 0s 5ms/step - loss: 219.4854 - val_loss: 1100.2531\n",
      "Epoch 319/500\n",
      "28/28 [==============================] - 0s 5ms/step - loss: 216.8949 - val_loss: 1103.5131\n",
      "Epoch 320/500\n",
      "28/28 [==============================] - 0s 10ms/step - loss: 202.5832 - val_loss: 1058.1382\n",
      "Epoch 321/500\n",
      "28/28 [==============================] - 0s 6ms/step - loss: 197.4899 - val_loss: 1025.5543\n",
      "Epoch 322/500\n",
      "28/28 [==============================] - 0s 7ms/step - loss: 224.4884 - val_loss: 1028.0454\n",
      "Epoch 323/500\n",
      "28/28 [==============================] - 0s 7ms/step - loss: 220.0729 - val_loss: 1047.4708\n",
      "Epoch 324/500\n",
      "28/28 [==============================] - 0s 6ms/step - loss: 215.8250 - val_loss: 1067.3207\n",
      "Epoch 325/500\n",
      "28/28 [==============================] - 0s 6ms/step - loss: 190.8180 - val_loss: 1073.2539\n",
      "Epoch 326/500\n",
      "28/28 [==============================] - 0s 7ms/step - loss: 182.3773 - val_loss: 1018.8322\n",
      "Epoch 327/500\n",
      "28/28 [==============================] - 0s 6ms/step - loss: 194.2235 - val_loss: 1024.9177\n",
      "Epoch 328/500\n",
      "28/28 [==============================] - 0s 6ms/step - loss: 192.9581 - val_loss: 1038.1646\n",
      "Epoch 329/500\n",
      "28/28 [==============================] - 0s 6ms/step - loss: 188.2141 - val_loss: 1040.1831\n",
      "Epoch 330/500\n",
      "28/28 [==============================] - 0s 8ms/step - loss: 186.9712 - val_loss: 1038.3674\n",
      "Epoch 331/500\n",
      "28/28 [==============================] - 0s 7ms/step - loss: 185.8093 - val_loss: 1035.7106\n",
      "Epoch 332/500\n",
      "28/28 [==============================] - 0s 6ms/step - loss: 185.7067 - val_loss: 1040.6370\n",
      "Epoch 333/500\n",
      "28/28 [==============================] - 0s 5ms/step - loss: 184.2514 - val_loss: 1038.6953\n",
      "Epoch 334/500\n",
      "28/28 [==============================] - 0s 6ms/step - loss: 183.6610 - val_loss: 1038.6775\n",
      "Epoch 335/500\n",
      "28/28 [==============================] - 0s 6ms/step - loss: 183.5761 - val_loss: 1048.8108\n",
      "Epoch 336/500\n",
      "28/28 [==============================] - 0s 5ms/step - loss: 182.6450 - val_loss: 1048.1190\n",
      "Epoch 337/500\n",
      "28/28 [==============================] - 0s 6ms/step - loss: 181.6211 - val_loss: 1043.5115\n",
      "Epoch 338/500\n",
      "28/28 [==============================] - 0s 6ms/step - loss: 181.1379 - val_loss: 1042.7494\n",
      "Epoch 339/500\n",
      "28/28 [==============================] - 0s 5ms/step - loss: 180.4131 - val_loss: 1036.7466\n",
      "Epoch 340/500\n",
      "28/28 [==============================] - 0s 7ms/step - loss: 179.3841 - val_loss: 1033.9709\n",
      "Epoch 341/500\n",
      "28/28 [==============================] - 0s 7ms/step - loss: 178.8997 - val_loss: 1022.0674\n",
      "Epoch 342/500\n",
      "28/28 [==============================] - 0s 10ms/step - loss: 197.2446 - val_loss: 1053.5505\n",
      "Epoch 343/500\n",
      "28/28 [==============================] - 0s 11ms/step - loss: 177.5715 - val_loss: 1025.6957\n",
      "Epoch 344/500\n",
      "28/28 [==============================] - 0s 6ms/step - loss: 177.2717 - val_loss: 1028.1514\n",
      "Epoch 345/500\n",
      "28/28 [==============================] - 0s 7ms/step - loss: 176.6461 - val_loss: 1026.9377\n",
      "Epoch 346/500\n",
      "28/28 [==============================] - 0s 6ms/step - loss: 176.2297 - val_loss: 1026.8909\n",
      "Epoch 347/500\n",
      "28/28 [==============================] - 0s 6ms/step - loss: 175.1184 - val_loss: 1018.4680\n",
      "Epoch 348/500\n",
      "28/28 [==============================] - 0s 6ms/step - loss: 174.9669 - val_loss: 1018.7476\n",
      "Epoch 349/500\n",
      "28/28 [==============================] - 0s 6ms/step - loss: 199.4788 - val_loss: 1021.4734\n",
      "Epoch 350/500\n",
      "28/28 [==============================] - 0s 5ms/step - loss: 203.1399 - val_loss: 1047.6484\n",
      "Epoch 351/500\n",
      "28/28 [==============================] - 0s 5ms/step - loss: 175.1552 - val_loss: 1022.6783\n",
      "Epoch 352/500\n",
      "28/28 [==============================] - 0s 5ms/step - loss: 172.0833 - val_loss: 1024.6461\n",
      "Epoch 353/500\n",
      "28/28 [==============================] - 0s 7ms/step - loss: 171.3194 - val_loss: 1026.4946\n",
      "Epoch 354/500\n",
      "28/28 [==============================] - 0s 9ms/step - loss: 171.3250 - val_loss: 1017.1998\n",
      "Epoch 355/500\n",
      "28/28 [==============================] - 0s 8ms/step - loss: 170.2753 - val_loss: 1005.6991\n",
      "Epoch 356/500\n",
      "28/28 [==============================] - 0s 7ms/step - loss: 198.4790 - val_loss: 1105.9133\n",
      "Epoch 357/500\n",
      "28/28 [==============================] - 0s 7ms/step - loss: 195.2666 - val_loss: 1099.5164\n",
      "Epoch 358/500\n",
      "28/28 [==============================] - 0s 16ms/step - loss: 218.4863 - val_loss: 1095.7915\n",
      "Epoch 359/500\n",
      "28/28 [==============================] - 0s 8ms/step - loss: 217.1269 - val_loss: 1095.2650\n",
      "Epoch 360/500\n",
      "28/28 [==============================] - 0s 8ms/step - loss: 215.7365 - val_loss: 1102.7893\n",
      "Epoch 361/500\n",
      "28/28 [==============================] - 0s 8ms/step - loss: 214.4418 - val_loss: 1109.0326\n",
      "Epoch 362/500\n",
      "28/28 [==============================] - 0s 7ms/step - loss: 214.2112 - val_loss: 1110.0411\n",
      "Epoch 363/500\n",
      "28/28 [==============================] - 0s 7ms/step - loss: 239.1830 - val_loss: 1202.6556\n",
      "Epoch 364/500\n",
      "28/28 [==============================] - 0s 7ms/step - loss: 229.3261 - val_loss: 1178.8800\n",
      "Epoch 365/500\n",
      "28/28 [==============================] - 0s 6ms/step - loss: 224.9075 - val_loss: 1154.8776\n",
      "Epoch 366/500\n",
      "28/28 [==============================] - 0s 7ms/step - loss: 223.0125 - val_loss: 1147.2679\n",
      "Epoch 367/500\n",
      "28/28 [==============================] - 0s 6ms/step - loss: 220.0775 - val_loss: 1127.1605\n",
      "Epoch 368/500\n",
      "28/28 [==============================] - 0s 6ms/step - loss: 215.4789 - val_loss: 1113.7227\n",
      "Epoch 369/500\n",
      "28/28 [==============================] - 0s 6ms/step - loss: 210.7643 - val_loss: 1096.6785\n",
      "Epoch 370/500\n",
      "28/28 [==============================] - 0s 7ms/step - loss: 203.5095 - val_loss: 1055.2678\n",
      "Epoch 371/500\n",
      "28/28 [==============================] - 0s 7ms/step - loss: 190.3879 - val_loss: 1025.9388\n",
      "Epoch 372/500\n",
      "28/28 [==============================] - 0s 6ms/step - loss: 189.1323 - val_loss: 1027.9614\n",
      "Epoch 373/500\n",
      "28/28 [==============================] - 0s 7ms/step - loss: 180.1541 - val_loss: 1015.7351\n",
      "Epoch 374/500\n",
      "28/28 [==============================] - 0s 6ms/step - loss: 178.9987 - val_loss: 1015.8222\n",
      "Epoch 375/500\n",
      "28/28 [==============================] - 0s 6ms/step - loss: 178.2773 - val_loss: 1018.3624\n",
      "Epoch 376/500\n",
      "28/28 [==============================] - 0s 7ms/step - loss: 177.5883 - val_loss: 1018.6296\n",
      "Epoch 377/500\n",
      "28/28 [==============================] - 0s 7ms/step - loss: 176.8174 - val_loss: 1016.3051\n",
      "Epoch 378/500\n",
      "28/28 [==============================] - 0s 6ms/step - loss: 176.1203 - val_loss: 1017.3842\n",
      "Epoch 379/500\n",
      "28/28 [==============================] - 0s 14ms/step - loss: 175.4449 - val_loss: 1016.2505\n",
      "Epoch 380/500\n",
      "28/28 [==============================] - 0s 9ms/step - loss: 174.7762 - val_loss: 1009.2587\n",
      "Epoch 381/500\n",
      "28/28 [==============================] - 0s 8ms/step - loss: 170.8964 - val_loss: 1004.8571\n",
      "Epoch 382/500\n",
      "28/28 [==============================] - 0s 6ms/step - loss: 170.2727 - val_loss: 1001.2342\n",
      "Epoch 383/500\n",
      "28/28 [==============================] - 0s 6ms/step - loss: 169.6861 - val_loss: 999.8467\n",
      "Epoch 384/500\n",
      "28/28 [==============================] - 0s 6ms/step - loss: 168.0970 - val_loss: 989.5524\n",
      "Epoch 385/500\n",
      "28/28 [==============================] - 0s 5ms/step - loss: 196.4043 - val_loss: 995.6918\n",
      "Epoch 386/500\n",
      "28/28 [==============================] - 0s 5ms/step - loss: 194.1885 - val_loss: 1007.1998\n",
      "Epoch 387/500\n",
      "28/28 [==============================] - 0s 5ms/step - loss: 192.2429 - val_loss: 1018.0028\n",
      "Epoch 388/500\n",
      "28/28 [==============================] - 0s 5ms/step - loss: 190.4170 - val_loss: 1021.9476\n",
      "Epoch 389/500\n",
      "28/28 [==============================] - 0s 5ms/step - loss: 175.1022 - val_loss: 1021.8923\n",
      "Epoch 390/500\n",
      "28/28 [==============================] - 0s 5ms/step - loss: 166.0207 - val_loss: 1020.8829\n",
      "Epoch 391/500\n",
      "28/28 [==============================] - 0s 5ms/step - loss: 164.2590 - val_loss: 1006.4239\n",
      "Epoch 392/500\n",
      "28/28 [==============================] - 0s 5ms/step - loss: 188.3823 - val_loss: 991.1153\n",
      "Epoch 393/500\n",
      "28/28 [==============================] - 0s 5ms/step - loss: 185.9883 - val_loss: 991.8730\n",
      "Epoch 394/500\n",
      "28/28 [==============================] - 0s 5ms/step - loss: 184.8164 - val_loss: 996.8564\n",
      "Epoch 395/500\n",
      "28/28 [==============================] - 0s 5ms/step - loss: 183.1218 - val_loss: 1002.5231\n",
      "Epoch 396/500\n",
      "28/28 [==============================] - 0s 5ms/step - loss: 182.1489 - val_loss: 1004.0490\n",
      "Epoch 397/500\n",
      "28/28 [==============================] - 0s 5ms/step - loss: 180.5140 - val_loss: 1012.6274\n",
      "Epoch 398/500\n",
      "28/28 [==============================] - 0s 5ms/step - loss: 179.2600 - val_loss: 983.5043\n",
      "Epoch 399/500\n",
      "28/28 [==============================] - 0s 5ms/step - loss: 219.3245 - val_loss: 978.8506\n",
      "Epoch 400/500\n",
      "28/28 [==============================] - 0s 4ms/step - loss: 214.9147 - val_loss: 996.5150\n",
      "Epoch 401/500\n",
      "28/28 [==============================] - 0s 5ms/step - loss: 210.6404 - val_loss: 1001.0247\n",
      "Epoch 402/500\n",
      "28/28 [==============================] - 0s 5ms/step - loss: 207.5821 - val_loss: 1018.9574\n",
      "Epoch 403/500\n",
      "28/28 [==============================] - 0s 5ms/step - loss: 204.5836 - val_loss: 1027.7274\n",
      "Epoch 404/500\n",
      "28/28 [==============================] - 0s 11ms/step - loss: 202.1268 - val_loss: 1038.9370\n",
      "Epoch 405/500\n",
      "28/28 [==============================] - 0s 6ms/step - loss: 200.4928 - val_loss: 1043.5477\n",
      "Epoch 406/500\n",
      "28/28 [==============================] - 0s 6ms/step - loss: 198.6400 - val_loss: 1054.6520\n",
      "Epoch 407/500\n",
      "28/28 [==============================] - 0s 6ms/step - loss: 197.5184 - val_loss: 1059.4608\n",
      "Epoch 408/500\n",
      "28/28 [==============================] - 0s 8ms/step - loss: 196.3689 - val_loss: 1063.9349\n",
      "Epoch 409/500\n",
      "28/28 [==============================] - 0s 7ms/step - loss: 195.0728 - val_loss: 1069.3546\n",
      "Epoch 410/500\n",
      "28/28 [==============================] - 0s 7ms/step - loss: 194.6922 - val_loss: 1070.1747\n",
      "Epoch 411/500\n",
      "28/28 [==============================] - 0s 6ms/step - loss: 200.8913 - val_loss: 1073.6621\n",
      "Epoch 412/500\n",
      "28/28 [==============================] - 0s 5ms/step - loss: 192.6423 - val_loss: 1055.3005\n",
      "Epoch 413/500\n",
      "28/28 [==============================] - 0s 5ms/step - loss: 190.6053 - val_loss: 1058.5410\n",
      "Epoch 414/500\n",
      "28/28 [==============================] - 0s 5ms/step - loss: 235.7482 - val_loss: 1070.8346\n",
      "Epoch 415/500\n",
      "28/28 [==============================] - 0s 5ms/step - loss: 227.9353 - val_loss: 1123.3701\n",
      "Epoch 416/500\n",
      "28/28 [==============================] - 0s 5ms/step - loss: 199.0253 - val_loss: 1122.1982\n",
      "Epoch 417/500\n",
      "28/28 [==============================] - 0s 6ms/step - loss: 199.1441 - val_loss: 1091.9359\n",
      "Epoch 418/500\n",
      "28/28 [==============================] - 0s 5ms/step - loss: 242.9932 - val_loss: 1089.9652\n",
      "Epoch 419/500\n",
      "28/28 [==============================] - 0s 5ms/step - loss: 215.9236 - val_loss: 1091.7023\n",
      "Epoch 420/500\n",
      "28/28 [==============================] - 0s 5ms/step - loss: 216.2359 - val_loss: 1164.5981\n",
      "Epoch 421/500\n",
      "28/28 [==============================] - 0s 5ms/step - loss: 207.2741 - val_loss: 1119.1653\n",
      "Epoch 422/500\n",
      "28/28 [==============================] - 0s 5ms/step - loss: 194.7822 - val_loss: 1083.1904\n",
      "Epoch 423/500\n",
      "28/28 [==============================] - 0s 5ms/step - loss: 186.6384 - val_loss: 1072.6758\n",
      "Epoch 424/500\n",
      "28/28 [==============================] - 0s 5ms/step - loss: 184.9888 - val_loss: 1067.4850\n",
      "Epoch 425/500\n",
      "28/28 [==============================] - 0s 10ms/step - loss: 184.3506 - val_loss: 1066.2605\n",
      "Epoch 426/500\n",
      "28/28 [==============================] - 0s 6ms/step - loss: 183.7784 - val_loss: 1063.1149\n",
      "Epoch 427/500\n",
      "28/28 [==============================] - 0s 5ms/step - loss: 183.1758 - val_loss: 1059.2983\n",
      "Epoch 428/500\n",
      "28/28 [==============================] - 0s 5ms/step - loss: 182.6337 - val_loss: 1057.0161\n",
      "Epoch 429/500\n",
      "28/28 [==============================] - 0s 5ms/step - loss: 182.3010 - val_loss: 1052.9971\n",
      "Epoch 430/500\n",
      "28/28 [==============================] - 0s 5ms/step - loss: 181.8634 - val_loss: 1051.0938\n",
      "Epoch 431/500\n",
      "28/28 [==============================] - 0s 5ms/step - loss: 181.5285 - val_loss: 1045.8035\n",
      "Epoch 432/500\n",
      "28/28 [==============================] - 0s 5ms/step - loss: 180.9874 - val_loss: 1045.8781\n",
      "Epoch 433/500\n",
      "28/28 [==============================] - 0s 5ms/step - loss: 180.3181 - val_loss: 1046.8577\n",
      "Epoch 434/500\n",
      "28/28 [==============================] - 0s 5ms/step - loss: 179.8145 - val_loss: 1045.6633\n",
      "Epoch 435/500\n",
      "28/28 [==============================] - 0s 5ms/step - loss: 179.3304 - val_loss: 1044.0682\n",
      "Epoch 436/500\n",
      "28/28 [==============================] - 0s 5ms/step - loss: 178.7506 - val_loss: 1042.6136\n",
      "Epoch 437/500\n",
      "28/28 [==============================] - 0s 5ms/step - loss: 178.2743 - val_loss: 1040.2170\n",
      "Epoch 438/500\n",
      "28/28 [==============================] - 0s 5ms/step - loss: 177.8067 - val_loss: 1037.3408\n",
      "Epoch 439/500\n",
      "28/28 [==============================] - 0s 5ms/step - loss: 177.3310 - val_loss: 1036.3193\n",
      "Epoch 440/500\n",
      "28/28 [==============================] - 0s 5ms/step - loss: 176.8293 - val_loss: 1034.2739\n",
      "Epoch 441/500\n",
      "28/28 [==============================] - 0s 5ms/step - loss: 176.3605 - val_loss: 1032.5753\n",
      "Epoch 442/500\n",
      "28/28 [==============================] - 0s 5ms/step - loss: 175.8980 - val_loss: 1030.1942\n",
      "Epoch 443/500\n",
      "28/28 [==============================] - 0s 4ms/step - loss: 175.4376 - val_loss: 1028.4844\n",
      "Epoch 444/500\n",
      "28/28 [==============================] - 0s 4ms/step - loss: 174.9763 - val_loss: 1026.4901\n",
      "Epoch 445/500\n",
      "28/28 [==============================] - 0s 5ms/step - loss: 174.5174 - val_loss: 1024.6337\n",
      "Epoch 446/500\n",
      "28/28 [==============================] - 0s 5ms/step - loss: 174.0591 - val_loss: 1022.8478\n",
      "Epoch 447/500\n",
      "28/28 [==============================] - 0s 4ms/step - loss: 173.6017 - val_loss: 1021.0736\n",
      "Epoch 448/500\n",
      "28/28 [==============================] - 0s 4ms/step - loss: 173.1484 - val_loss: 1017.2472\n",
      "Epoch 449/500\n",
      "28/28 [==============================] - 0s 4ms/step - loss: 172.6928 - val_loss: 1018.0615\n",
      "Epoch 450/500\n",
      "28/28 [==============================] - 0s 10ms/step - loss: 177.4473 - val_loss: 986.3845\n",
      "Epoch 451/500\n",
      "28/28 [==============================] - 0s 5ms/step - loss: 343.0303 - val_loss: 1106.5160\n",
      "Epoch 452/500\n",
      "28/28 [==============================] - 0s 5ms/step - loss: 173.0683 - val_loss: 1023.1058\n",
      "Epoch 453/500\n",
      "28/28 [==============================] - 0s 5ms/step - loss: 172.3384 - val_loss: 1020.5361\n",
      "Epoch 454/500\n",
      "28/28 [==============================] - 0s 6ms/step - loss: 165.7001 - val_loss: 982.8003\n",
      "Epoch 455/500\n",
      "28/28 [==============================] - 0s 5ms/step - loss: 224.1285 - val_loss: 996.9553\n",
      "Epoch 456/500\n",
      "28/28 [==============================] - 0s 5ms/step - loss: 217.0942 - val_loss: 1038.1736\n",
      "Epoch 457/500\n",
      "28/28 [==============================] - 0s 4ms/step - loss: 172.2033 - val_loss: 979.7858\n",
      "Epoch 458/500\n",
      "28/28 [==============================] - 0s 5ms/step - loss: 351.3363 - val_loss: 1008.3736\n",
      "Epoch 459/500\n",
      "28/28 [==============================] - 0s 5ms/step - loss: 267.6435 - val_loss: 1138.3584\n",
      "Epoch 460/500\n",
      "28/28 [==============================] - 0s 5ms/step - loss: 198.6041 - val_loss: 1134.2970\n",
      "Epoch 461/500\n",
      "28/28 [==============================] - 0s 6ms/step - loss: 197.6910 - val_loss: 1120.1222\n",
      "Epoch 462/500\n",
      "28/28 [==============================] - 0s 6ms/step - loss: 194.5345 - val_loss: 1100.4740\n",
      "Epoch 463/500\n",
      "28/28 [==============================] - 0s 6ms/step - loss: 188.4625 - val_loss: 1071.7263\n",
      "Epoch 464/500\n",
      "28/28 [==============================] - 0s 9ms/step - loss: 166.5737 - val_loss: 987.8912\n",
      "Epoch 465/500\n",
      "28/28 [==============================] - 0s 6ms/step - loss: 169.4084 - val_loss: 930.8090\n",
      "Epoch 466/500\n",
      "28/28 [==============================] - 0s 6ms/step - loss: 182.6764 - val_loss: 1015.8721\n",
      "Epoch 467/500\n",
      "28/28 [==============================] - 0s 5ms/step - loss: 170.0217 - val_loss: 994.4204\n",
      "Epoch 468/500\n",
      "28/28 [==============================] - 0s 5ms/step - loss: 169.0101 - val_loss: 1003.4702\n",
      "Epoch 469/500\n",
      "28/28 [==============================] - 0s 5ms/step - loss: 168.0583 - val_loss: 955.4116\n",
      "Epoch 470/500\n",
      "28/28 [==============================] - 0s 4ms/step - loss: 170.8664 - val_loss: 920.7858\n",
      "Epoch 471/500\n",
      "28/28 [==============================] - 0s 4ms/step - loss: 173.9375 - val_loss: 935.4125\n",
      "Epoch 472/500\n",
      "28/28 [==============================] - 0s 10ms/step - loss: 172.5784 - val_loss: 948.6827\n",
      "Epoch 473/500\n",
      "28/28 [==============================] - 0s 6ms/step - loss: 171.2344 - val_loss: 958.0773\n",
      "Epoch 474/500\n",
      "28/28 [==============================] - 0s 6ms/step - loss: 174.8565 - val_loss: 946.2905\n",
      "Epoch 475/500\n",
      "28/28 [==============================] - 0s 5ms/step - loss: 168.0857 - val_loss: 927.5428\n",
      "Epoch 476/500\n",
      "28/28 [==============================] - 0s 5ms/step - loss: 167.9957 - val_loss: 923.2559\n",
      "Epoch 477/500\n",
      "28/28 [==============================] - 0s 4ms/step - loss: 167.8025 - val_loss: 928.1468\n",
      "Epoch 478/500\n",
      "28/28 [==============================] - 0s 5ms/step - loss: 165.0095 - val_loss: 939.7635\n",
      "Epoch 479/500\n",
      "28/28 [==============================] - 0s 4ms/step - loss: 163.6338 - val_loss: 947.4869\n",
      "Epoch 480/500\n",
      "28/28 [==============================] - 0s 4ms/step - loss: 164.0338 - val_loss: 940.4077\n",
      "Epoch 481/500\n",
      "28/28 [==============================] - 0s 5ms/step - loss: 163.4792 - val_loss: 958.2231\n",
      "Epoch 482/500\n",
      "28/28 [==============================] - 0s 4ms/step - loss: 163.7563 - val_loss: 989.0448\n",
      "Epoch 483/500\n",
      "28/28 [==============================] - 0s 4ms/step - loss: 161.2389 - val_loss: 965.4399\n",
      "Epoch 484/500\n",
      "28/28 [==============================] - 0s 4ms/step - loss: 160.1404 - val_loss: 932.9199\n",
      "Epoch 485/500\n",
      "28/28 [==============================] - 0s 5ms/step - loss: 161.9091 - val_loss: 938.4045\n",
      "Epoch 486/500\n",
      "28/28 [==============================] - 0s 4ms/step - loss: 160.7559 - val_loss: 944.6682\n",
      "Epoch 487/500\n",
      "28/28 [==============================] - 0s 4ms/step - loss: 159.8155 - val_loss: 947.2119\n",
      "Epoch 488/500\n",
      "28/28 [==============================] - 0s 4ms/step - loss: 159.0070 - val_loss: 951.0628\n",
      "Epoch 489/500\n",
      "28/28 [==============================] - 0s 5ms/step - loss: 158.2917 - val_loss: 954.2412\n",
      "Epoch 490/500\n",
      "28/28 [==============================] - 0s 4ms/step - loss: 157.6493 - val_loss: 956.7834\n",
      "Epoch 491/500\n",
      "28/28 [==============================] - 0s 4ms/step - loss: 157.0635 - val_loss: 958.8045\n",
      "Epoch 492/500\n",
      "28/28 [==============================] - 0s 5ms/step - loss: 156.5220 - val_loss: 960.3809\n",
      "Epoch 493/500\n",
      "28/28 [==============================] - 0s 10ms/step - loss: 156.0154 - val_loss: 961.5694\n",
      "Epoch 494/500\n",
      "28/28 [==============================] - 0s 5ms/step - loss: 155.5362 - val_loss: 962.4199\n",
      "Epoch 495/500\n",
      "28/28 [==============================] - 0s 6ms/step - loss: 155.0788 - val_loss: 962.9756\n",
      "Epoch 496/500\n",
      "28/28 [==============================] - 0s 5ms/step - loss: 154.6388 - val_loss: 963.2730\n",
      "Epoch 497/500\n",
      "28/28 [==============================] - 0s 5ms/step - loss: 154.2125 - val_loss: 963.3452\n",
      "Epoch 498/500\n",
      "28/28 [==============================] - 0s 5ms/step - loss: 153.7972 - val_loss: 963.2205\n",
      "Epoch 499/500\n",
      "28/28 [==============================] - 0s 4ms/step - loss: 153.3909 - val_loss: 962.9240\n",
      "Epoch 500/500\n",
      "28/28 [==============================] - 0s 4ms/step - loss: 152.9919 - val_loss: 962.4774\n"
     ]
    }
   ],
   "source": [
    "C0 = tf.Variable(86.8407, name=\"C0\", trainable=True, dtype=tf.float32)\n",
    "K0 = tf.Variable(-0.0015, name=\"K0\", trainable=True, dtype=tf.float32)\n",
    "K1 = tf.Variable(-0.0001, name=\"K1\", trainable=True, dtype=tf.float32)\n",
    "a = tf.Variable(0.0000, name=\"a\", trainable=True, dtype=tf.float32)\n",
    "b = tf.Variable(0.0118, name=\"b\", trainable=True, dtype=tf.float32)\n",
    "c = tf.Variable(2.5775, name=\"c\", trainable=True, dtype=tf.float32)\n",
    "\n",
    "splitr = 0.8\n",
    "\n",
    "\n",
    "def loss_fn(y_true, y_pred):\n",
    "    squared_difference = tf.square(y_true[:, 0] - y_pred[:, 0])\n",
    "    #squared_difference2 = tf.square(y_true[:, 2]-y_pred[:, 2])\n",
    "    #squared_difference1 = tf.square(y_true[:, 1]-y_pred[:, 1])\n",
    "    epsilon = 1\n",
    "    squared_difference3 = tf.square(\n",
    "        y_pred[:, 1] - (\n",
    "            y_pred[:, 0] * (\n",
    "                K0 - K1 * (\n",
    "                    9 * a * tf.math.log((y_pred[:, 0] + epsilon) / C0) / (K0 - K1 * c)**2 +\n",
    "                    4 * b * tf.math.log((y_pred[:, 0] + epsilon) / C0) / (K0 - K1 * c) + c\n",
    "                )\n",
    "            )\n",
    "        )\n",
    "    )\n",
    "    return tf.reduce_mean(squared_difference, axis=-1) + 0.2*tf.reduce_mean(squared_difference3, axis=-1)\n",
    "model = Sequential()\n",
    "model.add(LSTM(100, input_shape=(trainX.shape[1], trainX.shape[2])))\n",
    "model.add(Dense(60))\n",
    "model.compile(loss=loss_fn, optimizer='adam')\n",
    "history = model.fit(trainX[:int(splitr*trainX.shape[0])], trainy[:int(splitr*trainX.shape[0])], epochs=500, batch_size=64, validation_data=(trainX[int(splitr*trainX.shape[0]):trainX.shape[0]], trainy[int(splitr*trainX.shape[0]):trainX.shape[0]]), shuffle=False)"
   ]
  },
  {
   "cell_type": "code",
   "execution_count": 19,
   "metadata": {
    "colab": {
     "base_uri": "https://localhost:8080/"
    },
    "id": "yJL101rPyuoT",
    "outputId": "239ff2b1-c186-423a-d316-939dfdd7c793"
   },
   "outputs": [
    {
     "name": "stdout",
     "output_type": "stream",
     "text": [
      "1/1 [==============================] - 0s 428ms/step\n"
     ]
    }
   ],
   "source": [
    "forecast_without_mc = forecastX\n",
    "yhat_without_mc = model.predict(forecast_without_mc) # Step Ahead Prediction\n",
    "forecast_without_mc = forecast_without_mc.reshape((forecast_without_mc.shape[0], forecast_without_mc.shape[2])) # Historical Input"
   ]
  },
  {
   "cell_type": "code",
   "execution_count": 20,
   "metadata": {
    "colab": {
     "base_uri": "https://localhost:8080/"
    },
    "id": "g9dQELcJ8wbp",
    "outputId": "4dc7671b-b1a8-48d5-8744-a86f98446109"
   },
   "outputs": [
    {
     "data": {
      "text/plain": [
       "(1, 1, 126)"
      ]
     },
     "execution_count": 20,
     "metadata": {},
     "output_type": "execute_result"
    }
   ],
   "source": [
    "forecastX.shape"
   ]
  },
  {
   "cell_type": "code",
   "execution_count": 21,
   "metadata": {
    "colab": {
     "base_uri": "https://localhost:8080/"
    },
    "id": "IS2kyIKG1Kbr",
    "outputId": "f31b3485-8e26-452f-9298-ea8bf7e80ad1"
   },
   "outputs": [
    {
     "data": {
      "text/plain": [
       "(1, 126)"
      ]
     },
     "execution_count": 21,
     "metadata": {},
     "output_type": "execute_result"
    }
   ],
   "source": [
    "forecast_without_mc.shape"
   ]
  },
  {
   "cell_type": "code",
   "execution_count": 22,
   "metadata": {
    "id": "0u6VIzaDyuoT"
   },
   "outputs": [],
   "source": [
    "inv_yhat_without_mc = np.concatenate((forecast_without_mc, yhat_without_mc), axis=1) # Concatenation of predicted values with Historical Data\n",
    "#inv_yhat_without_mc = scaler.inverse_transform(inv_yhat_without_mc) # Transform labels back to original encoding"
   ]
  },
  {
   "cell_type": "code",
   "execution_count": 23,
   "metadata": {
    "colab": {
     "base_uri": "https://localhost:8080/"
    },
    "id": "EUEcw0LX07oU",
    "outputId": "cfc32397-9c37-4b43-d087-584bb31c3dcc"
   },
   "outputs": [
    {
     "data": {
      "text/plain": [
       "(1, 186)"
      ]
     },
     "execution_count": 23,
     "metadata": {},
     "output_type": "execute_result"
    }
   ],
   "source": [
    "inv_yhat_without_mc.shape"
   ]
  },
  {
   "cell_type": "code",
   "execution_count": 24,
   "metadata": {
    "id": "31OWVbSh_305"
   },
   "outputs": [],
   "source": [
    "fforecast = inv_yhat_without_mc[:,-150:]"
   ]
  },
  {
   "cell_type": "code",
   "execution_count": 25,
   "metadata": {},
   "outputs": [
    {
     "data": {
      "text/plain": [
       "(1, 150)"
      ]
     },
     "execution_count": 25,
     "metadata": {},
     "output_type": "execute_result"
    }
   ],
   "source": [
    "fforecast.shape"
   ]
  },
  {
   "cell_type": "code",
   "execution_count": 26,
   "metadata": {
    "id": "BlpGH2FOAiRF"
   },
   "outputs": [],
   "source": [
    "final_forecast = fforecast[:,0:150:3]"
   ]
  },
  {
   "cell_type": "code",
   "execution_count": 27,
   "metadata": {},
   "outputs": [
    {
     "data": {
      "text/plain": [
       "(1, 150)"
      ]
     },
     "execution_count": 27,
     "metadata": {},
     "output_type": "execute_result"
    }
   ],
   "source": [
    "fforecast.shape"
   ]
  },
  {
   "cell_type": "code",
   "execution_count": 28,
   "metadata": {
    "id": "CXkgkj_LBk_t"
   },
   "outputs": [],
   "source": [
    "# code to replace all negative value with 0\n",
    "final_forecast[final_forecast<0] = 0"
   ]
  },
  {
   "cell_type": "code",
   "execution_count": 29,
   "metadata": {},
   "outputs": [
    {
     "data": {
      "text/plain": [
       "array([[7.58990900e-01, 7.06286881e+01, 0.00000000e+00, 7.21302824e+01,\n",
       "        7.19896405e+01, 7.19745145e+01, 7.05399860e+01, 6.88161064e+01,\n",
       "        6.86296919e+01, 2.17869090e-01, 0.00000000e+00, 4.87971902e-01,\n",
       "        7.19806769e+01, 0.00000000e+00, 6.88777311e+01, 6.87264706e+01,\n",
       "        6.84504202e+01, 6.97974323e+01, 6.95923436e+01, 7.25447712e+01,\n",
       "        0.00000000e+00, 0.00000000e+00, 0.00000000e+00, 6.77056122e+01,\n",
       "        4.09106225e-01, 0.00000000e+00, 0.00000000e+00, 0.00000000e+00,\n",
       "        6.88693345e-01, 2.96472371e-01, 7.07135010e+01, 0.00000000e+00,\n",
       "        4.31632370e-01, 3.56152862e-01, 0.00000000e+00, 5.43183088e-02,\n",
       "        0.00000000e+00, 0.00000000e+00, 5.01769543e-01, 5.98370969e-01,\n",
       "        0.00000000e+00, 0.00000000e+00, 0.00000000e+00, 7.41544664e-01,\n",
       "        1.39974523e+00, 0.00000000e+00, 0.00000000e+00, 1.56289890e-01,\n",
       "        0.00000000e+00, 0.00000000e+00]])"
      ]
     },
     "execution_count": 29,
     "metadata": {},
     "output_type": "execute_result"
    }
   ],
   "source": [
    "final_forecast"
   ]
  },
  {
   "cell_type": "code",
   "execution_count": 30,
   "metadata": {},
   "outputs": [
    {
     "data": {
      "text/plain": [
       "(1, 50)"
      ]
     },
     "execution_count": 30,
     "metadata": {},
     "output_type": "execute_result"
    }
   ],
   "source": [
    "final_forecast.shape"
   ]
  },
  {
   "cell_type": "code",
   "execution_count": 31,
   "metadata": {},
   "outputs": [
    {
     "data": {
      "text/plain": [
       "(50,)"
      ]
     },
     "execution_count": 31,
     "metadata": {},
     "output_type": "execute_result"
    }
   ],
   "source": [
    "test.shape"
   ]
  },
  {
   "cell_type": "code",
   "execution_count": 32,
   "metadata": {},
   "outputs": [],
   "source": [
    "training_set = np.array(training_set)\n",
    "test = np.array(test)\n",
    "final_forecast = np.array(final_forecast.squeeze(0))"
   ]
  },
  {
   "cell_type": "code",
   "execution_count": 33,
   "metadata": {},
   "outputs": [
    {
     "data": {
      "text/plain": [
       "array([59.98833094, 59.98040582, 59.9724807 , 59.96455558, 59.95663046,\n",
       "       59.94870534, 59.94078021, 59.93285509, 59.92492997, 59.91700485,\n",
       "       59.90907973, 59.90115461, 59.89322949, 59.88530437, 59.87737924,\n",
       "       59.86945412, 59.861529  , 59.85360388, 59.84567876, 59.83775364,\n",
       "       59.82982852, 59.8219034 , 59.81397827, 59.80605315, 59.79812803,\n",
       "       59.79020291, 59.78227779, 59.77435267, 59.76642755, 59.75850243,\n",
       "       59.7505773 , 59.74265218, 59.73472706, 59.72680194, 59.71887682,\n",
       "       59.7109517 , 59.70302658, 59.69510146, 59.68717633, 59.67925121,\n",
       "       59.67132609, 59.66340097, 59.65547585, 59.64755073, 59.63962561,\n",
       "       59.63170049, 59.62377536, 59.61585024, 59.60792512, 59.6       ])"
      ]
     },
     "execution_count": 33,
     "metadata": {},
     "output_type": "execute_result"
    }
   ],
   "source": [
    "test"
   ]
  },
  {
   "cell_type": "code",
   "execution_count": 34,
   "metadata": {},
   "outputs": [
    {
     "data": {
      "text/plain": [
       "(50,)"
      ]
     },
     "execution_count": 34,
     "metadata": {},
     "output_type": "execute_result"
    }
   ],
   "source": [
    "test.shape"
   ]
  },
  {
   "cell_type": "code",
   "execution_count": 35,
   "metadata": {},
   "outputs": [
    {
     "data": {
      "text/plain": [
       "(50,)"
      ]
     },
     "execution_count": 35,
     "metadata": {},
     "output_type": "execute_result"
    }
   ],
   "source": [
    "final_forecast.shape"
   ]
  },
  {
   "cell_type": "code",
   "execution_count": 36,
   "metadata": {},
   "outputs": [
    {
     "data": {
      "text/plain": [
       "(50,)"
      ]
     },
     "execution_count": 36,
     "metadata": {},
     "output_type": "execute_result"
    }
   ],
   "source": [
    "test.shape"
   ]
  },
  {
   "cell_type": "code",
   "execution_count": 37,
   "metadata": {},
   "outputs": [
    {
     "name": "stdout",
     "output_type": "stream",
     "text": [
      "49.451001262018124\n",
      "43.78437945340908\n"
     ]
    }
   ],
   "source": [
    "import math\n",
    "MSE = np.square(np.subtract(np.array(test),np.array(final_forecast))).mean()   \n",
    "rsme = math.sqrt(MSE)\n",
    "print(rsme)  \n",
    "MAE = np.abs(np.subtract(np.array(test),np.array(final_forecast))).mean()   \n",
    "mae = MAE\n",
    "print(mae)"
   ]
  }
 ],
 "metadata": {
  "colab": {
   "provenance": []
  },
  "kernelspec": {
   "display_name": "Python 3",
   "language": "python",
   "name": "python3"
  },
  "language_info": {
   "codemirror_mode": {
    "name": "ipython",
    "version": 3
   },
   "file_extension": ".py",
   "mimetype": "text/x-python",
   "name": "python",
   "nbconvert_exporter": "python",
   "pygments_lexer": "ipython3",
   "version": "3.9.13"
  }
 },
 "nbformat": 4,
 "nbformat_minor": 0
}
