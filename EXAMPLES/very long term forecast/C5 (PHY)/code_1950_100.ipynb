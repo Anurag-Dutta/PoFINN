{
 "cells": [
  {
   "cell_type": "markdown",
   "metadata": {
    "id": "pCGKeZ2gyuoQ"
   },
   "source": [
    "_Importing Required Libraries_"
   ]
  },
  {
   "cell_type": "code",
   "execution_count": 1,
   "metadata": {
    "colab": {
     "base_uri": "https://localhost:8080/"
    },
    "id": "A-6LN-zXiLcM",
    "outputId": "4de610a4-f8b8-4f49-c6c0-89de299ccedc"
   },
   "outputs": [
    {
     "name": "stdout",
     "output_type": "stream",
     "text": [
      "Requirement already satisfied: hampel in c:\\users\\anurag dutta\\appdata\\local\\packages\\pythonsoftwarefoundation.python.3.9_qbz5n2kfra8p0\\localcache\\local-packages\\python39\\site-packages (0.0.5)\n",
      "Requirement already satisfied: numpy in c:\\users\\anurag dutta\\appdata\\local\\packages\\pythonsoftwarefoundation.python.3.9_qbz5n2kfra8p0\\localcache\\local-packages\\python39\\site-packages (from hampel) (1.26.4)\n",
      "Requirement already satisfied: pandas in c:\\users\\anurag dutta\\appdata\\local\\packages\\pythonsoftwarefoundation.python.3.9_qbz5n2kfra8p0\\localcache\\local-packages\\python39\\site-packages (from hampel) (1.5.2)\n",
      "Requirement already satisfied: python-dateutil>=2.8.1 in c:\\users\\anurag dutta\\appdata\\local\\packages\\pythonsoftwarefoundation.python.3.9_qbz5n2kfra8p0\\localcache\\local-packages\\python39\\site-packages (from pandas->hampel) (2.8.2)\n",
      "Requirement already satisfied: pytz>=2020.1 in c:\\users\\anurag dutta\\appdata\\local\\packages\\pythonsoftwarefoundation.python.3.9_qbz5n2kfra8p0\\localcache\\local-packages\\python39\\site-packages (from pandas->hampel) (2023.3.post1)\n",
      "Requirement already satisfied: six>=1.5 in c:\\users\\anurag dutta\\appdata\\local\\packages\\pythonsoftwarefoundation.python.3.9_qbz5n2kfra8p0\\localcache\\local-packages\\python39\\site-packages (from python-dateutil>=2.8.1->pandas->hampel) (1.16.0)\n",
      "Note: you may need to restart the kernel to use updated packages.\n"
     ]
    },
    {
     "name": "stderr",
     "output_type": "stream",
     "text": [
      "\n",
      "[notice] A new release of pip is available: 24.2 -> 24.3.1\n",
      "[notice] To update, run: C:\\Users\\Anurag Dutta\\AppData\\Local\\Microsoft\\WindowsApps\\PythonSoftwareFoundation.Python.3.9_qbz5n2kfra8p0\\python.exe -m pip install --upgrade pip\n"
     ]
    }
   ],
   "source": [
    "pip install hampel"
   ]
  },
  {
   "cell_type": "code",
   "execution_count": 2,
   "metadata": {
    "id": "By_d9uXpaFvZ"
   },
   "outputs": [],
   "source": [
    "from keras.models import Sequential\n",
    "from keras.layers import Dense\n",
    "from keras.layers import LSTM\n",
    "from keras.layers import Dropout\n",
    "import keras\n",
    "import tensorflow as tf\n",
    "from hampel import hampel\n",
    "import numpy as np\n",
    "import matplotlib.pyplot as plt\n",
    "import pandas as pd\n",
    "from sklearn.preprocessing import MinMaxScaler\n",
    "from sklearn.metrics import mean_squared_error, mean_absolute_error\n",
    "from math import sqrt\n",
    "from matplotlib import pyplot\n",
    "from numpy import array"
   ]
  },
  {
   "cell_type": "markdown",
   "metadata": {
    "id": "JyOjBMFayuoR"
   },
   "source": [
    "## Pretraining"
   ]
  },
  {
   "cell_type": "markdown",
   "metadata": {
    "id": "-5QqIY_GyuoR"
   },
   "source": [
    "The `capa_intermittency.dat` feeds the model with the dynamics of the Capacitor"
   ]
  },
  {
   "cell_type": "code",
   "execution_count": 3,
   "metadata": {
    "id": "9dV4a8yfyuoR"
   },
   "outputs": [],
   "source": [
    "data = np.genfromtxt('capa_intermittency.dat')\n",
    "training_set = pd.DataFrame(data).reset_index(drop=True)\n",
    "training_set = training_set.iloc[:,0]"
   ]
  },
  {
   "cell_type": "markdown",
   "metadata": {
    "id": "i7easoxByuoR"
   },
   "source": [
    "## Computing the Gradient"
   ]
  },
  {
   "cell_type": "markdown",
   "metadata": {
    "id": "5SnyolJTyuoR"
   },
   "source": [
    "_Calculating the value of_ $\\frac{dx}{dt}$"
   ]
  },
  {
   "cell_type": "code",
   "execution_count": 4,
   "metadata": {
    "colab": {
     "base_uri": "https://localhost:8080/"
    },
    "id": "wmIbVfIvyuoR",
    "outputId": "aa4e3136-c854-465d-d2e9-81cfd546e440"
   },
   "outputs": [
    {
     "name": "stdout",
     "output_type": "stream",
     "text": [
      "1.0\n",
      "1        0.000298\n",
      "2        0.000298\n",
      "3        0.000297\n",
      "4        0.000297\n",
      "5        0.000297\n",
      "           ...   \n",
      "9996     0.000018\n",
      "9997     0.000018\n",
      "9998     0.000018\n",
      "9999     0.000018\n",
      "10000    0.000018\n",
      "Name: 0, Length: 10000, dtype: float64\n"
     ]
    }
   ],
   "source": [
    "t_diff = 1\n",
    "print(training_set.max())\n",
    "gradient_t = (training_set.diff()/t_diff).iloc[1:] # dx/dt\n",
    "print(gradient_t)"
   ]
  },
  {
   "cell_type": "markdown",
   "metadata": {
    "id": "_2eVeeoxyuoS"
   },
   "source": [
    "## Loading Datasets"
   ]
  },
  {
   "cell_type": "code",
   "execution_count": 5,
   "metadata": {
    "id": "0J-NKyIEyuoS"
   },
   "outputs": [
    {
     "data": {
      "text/plain": [
       "0       89.140000\n",
       "1       88.911429\n",
       "2       88.682857\n",
       "3       88.454286\n",
       "4       88.225714\n",
       "          ...    \n",
       "2045    63.116772\n",
       "2046    63.109769\n",
       "2047    63.102766\n",
       "2048    63.095763\n",
       "2049    63.088760\n",
       "Name: C5, Length: 2050, dtype: float64"
      ]
     },
     "execution_count": 5,
     "metadata": {},
     "output_type": "execute_result"
    }
   ],
   "source": [
    "data = pd.read_csv(\"c5_interpolated_1950_100.csv\")\n",
    "training_set = data.iloc[:, 1]\n",
    "training_set"
   ]
  },
  {
   "cell_type": "code",
   "execution_count": 6,
   "metadata": {
    "colab": {
     "base_uri": "https://localhost:8080/"
    },
    "id": "-CbNUhJ74UqF",
    "outputId": "20f562d8-8247-49cc-b9c3-00eca5e13e2d"
   },
   "outputs": [
    {
     "data": {
      "text/plain": [
       "0       89.140000\n",
       "1       88.911429\n",
       "2       88.682857\n",
       "3       88.454286\n",
       "4       88.225714\n",
       "          ...    \n",
       "1945     0.337132\n",
       "1946     0.000000\n",
       "1947     0.941969\n",
       "1948     0.695492\n",
       "1949     0.000000\n",
       "Name: C5, Length: 1950, dtype: float64"
      ]
     },
     "execution_count": 6,
     "metadata": {},
     "output_type": "execute_result"
    }
   ],
   "source": [
    "test = training_set.tail(100)\n",
    "test\n",
    "training_set = training_set.head(1950)\n",
    "training_set"
   ]
  },
  {
   "cell_type": "code",
   "execution_count": 7,
   "metadata": {
    "colab": {
     "base_uri": "https://localhost:8080/"
    },
    "id": "X0TwTcq0yuoS",
    "outputId": "37252ed8-d88e-4044-fa7a-922411990b5b"
   },
   "outputs": [
    {
     "name": "stdout",
     "output_type": "stream",
     "text": [
      "0       0.000298\n",
      "1       0.000298\n",
      "2       0.000297\n",
      "3       0.000297\n",
      "4       0.000297\n",
      "          ...   \n",
      "9995    0.000018\n",
      "9996    0.000018\n",
      "9997    0.000018\n",
      "9998    0.000018\n",
      "9999    0.000018\n",
      "Name: 0, Length: 10000, dtype: float64\n"
     ]
    }
   ],
   "source": [
    "training_set = training_set.reset_index(drop=True)\n",
    "gradient_t = gradient_t.reset_index(drop=True)\n",
    "print(gradient_t)"
   ]
  },
  {
   "cell_type": "code",
   "execution_count": 8,
   "metadata": {
    "id": "O2biznZQyuoS"
   },
   "outputs": [],
   "source": [
    "df = pd.concat((training_set, gradient_t), axis=1)\n",
    "df.columns = ['y_t', 'grad_t']"
   ]
  },
  {
   "cell_type": "code",
   "execution_count": 9,
   "metadata": {
    "colab": {
     "base_uri": "https://localhost:8080/",
     "height": 423
    },
    "id": "sk_a5v3tyuoS",
    "outputId": "17563625-e550-45ae-faab-fafa353e44da"
   },
   "outputs": [
    {
     "data": {
      "text/html": [
       "<div>\n",
       "<style scoped>\n",
       "    .dataframe tbody tr th:only-of-type {\n",
       "        vertical-align: middle;\n",
       "    }\n",
       "\n",
       "    .dataframe tbody tr th {\n",
       "        vertical-align: top;\n",
       "    }\n",
       "\n",
       "    .dataframe thead th {\n",
       "        text-align: right;\n",
       "    }\n",
       "</style>\n",
       "<table border=\"1\" class=\"dataframe\">\n",
       "  <thead>\n",
       "    <tr style=\"text-align: right;\">\n",
       "      <th></th>\n",
       "      <th>y_t</th>\n",
       "      <th>grad_t</th>\n",
       "    </tr>\n",
       "  </thead>\n",
       "  <tbody>\n",
       "    <tr>\n",
       "      <th>0</th>\n",
       "      <td>89.140000</td>\n",
       "      <td>0.000298</td>\n",
       "    </tr>\n",
       "    <tr>\n",
       "      <th>1</th>\n",
       "      <td>88.911429</td>\n",
       "      <td>0.000298</td>\n",
       "    </tr>\n",
       "    <tr>\n",
       "      <th>2</th>\n",
       "      <td>88.682857</td>\n",
       "      <td>0.000297</td>\n",
       "    </tr>\n",
       "    <tr>\n",
       "      <th>3</th>\n",
       "      <td>88.454286</td>\n",
       "      <td>0.000297</td>\n",
       "    </tr>\n",
       "    <tr>\n",
       "      <th>4</th>\n",
       "      <td>88.225714</td>\n",
       "      <td>0.000297</td>\n",
       "    </tr>\n",
       "    <tr>\n",
       "      <th>...</th>\n",
       "      <td>...</td>\n",
       "      <td>...</td>\n",
       "    </tr>\n",
       "    <tr>\n",
       "      <th>9995</th>\n",
       "      <td>NaN</td>\n",
       "      <td>0.000018</td>\n",
       "    </tr>\n",
       "    <tr>\n",
       "      <th>9996</th>\n",
       "      <td>NaN</td>\n",
       "      <td>0.000018</td>\n",
       "    </tr>\n",
       "    <tr>\n",
       "      <th>9997</th>\n",
       "      <td>NaN</td>\n",
       "      <td>0.000018</td>\n",
       "    </tr>\n",
       "    <tr>\n",
       "      <th>9998</th>\n",
       "      <td>NaN</td>\n",
       "      <td>0.000018</td>\n",
       "    </tr>\n",
       "    <tr>\n",
       "      <th>9999</th>\n",
       "      <td>NaN</td>\n",
       "      <td>0.000018</td>\n",
       "    </tr>\n",
       "  </tbody>\n",
       "</table>\n",
       "<p>10000 rows × 2 columns</p>\n",
       "</div>"
      ],
      "text/plain": [
       "            y_t    grad_t\n",
       "0     89.140000  0.000298\n",
       "1     88.911429  0.000298\n",
       "2     88.682857  0.000297\n",
       "3     88.454286  0.000297\n",
       "4     88.225714  0.000297\n",
       "...         ...       ...\n",
       "9995        NaN  0.000018\n",
       "9996        NaN  0.000018\n",
       "9997        NaN  0.000018\n",
       "9998        NaN  0.000018\n",
       "9999        NaN  0.000018\n",
       "\n",
       "[10000 rows x 2 columns]"
      ]
     },
     "execution_count": 9,
     "metadata": {},
     "output_type": "execute_result"
    }
   ],
   "source": [
    "df"
   ]
  },
  {
   "cell_type": "markdown",
   "metadata": {
    "id": "-5esyHu5aFvg"
   },
   "source": [
    "## Plot of the External Forcing from Chaotic Differential Equation"
   ]
  },
  {
   "cell_type": "code",
   "execution_count": 10,
   "metadata": {
    "colab": {
     "base_uri": "https://localhost:8080/",
     "height": 447
    },
    "id": "hGnE43tOh-4p",
    "outputId": "fc396503-b624-4fa5-dfbe-f460207405c6"
   },
   "outputs": [
    {
     "data": {
      "text/plain": [
       "<Axes: >"
      ]
     },
     "execution_count": 10,
     "metadata": {},
     "output_type": "execute_result"
    },
    {
     "data": {
      "image/png": "[encoded data removed]",
      "text/plain": [
       "<Figure size 432x288 with 1 Axes>"
      ]
     },
     "metadata": {
      "needs_background": "light"
     },
     "output_type": "display_data"
    }
   ],
   "source": [
    "df.iloc[:, 0].plot()"
   ]
  },
  {
   "cell_type": "code",
   "execution_count": 11,
   "metadata": {
    "colab": {
     "base_uri": "https://localhost:8080/",
     "height": 447
    },
    "id": "ym4xWUUxaFvg",
    "outputId": "ae6a3495-8ce9-437e-ba81-3ed31deedeae"
   },
   "outputs": [
    {
     "name": "stderr",
     "output_type": "stream",
     "text": [
      "C:\\Users\\Anurag Dutta\\AppData\\Local\\Packages\\PythonSoftwareFoundation.Python.3.9_qbz5n2kfra8p0\\LocalCache\\local-packages\\Python39\\site-packages\\pandas\\core\\arraylike.py:402: RuntimeWarning: divide by zero encountered in log\n",
      "  result = getattr(ufunc, method)(*inputs, **kwargs)\n"
     ]
    },
    {
     "data": {
      "text/plain": [
       "<Axes: >"
      ]
     },
     "execution_count": 11,
     "metadata": {},
     "output_type": "execute_result"
    },
    {
     "data": {
      "image/png": "[encoded data removed]",
      "text/plain": [
       "<Figure size 432x288 with 1 Axes>"
      ]
     },
     "metadata": {
      "needs_background": "light"
     },
     "output_type": "display_data"
    }
   ],
   "source": [
    "import numpy as np\n",
    "c0 = 86.8407  # Value for C0\n",
    "K0 = -0.0015  # Value for K0\n",
    "K1 = -0.0001  # Value for K1\n",
    "a = 0.0000    # Value for a\n",
    "b = 0.0118    # Value for b\n",
    "c = 2.5775    # Value for c\n",
    "\n",
    "L = np.minimum(c0, (df.iloc[:, 1] - (df.iloc[:, 0] * (K0 - K1 * (9 * a * np.log(df.iloc[:, 0] / c0) / (K0 - K1 * c)**2 + 4 * b * np.log(df.iloc[:, 0] / c0) / (K0 - K1 * c) + c)))))\n",
    "L.plot()"
   ]
  },
  {
   "cell_type": "markdown",
   "metadata": {
    "id": "9VyEywnwaFvh"
   },
   "source": [
    "## Preprocessing the data into supervised learning"
   ]
  },
  {
   "cell_type": "code",
   "execution_count": 12,
   "metadata": {
    "id": "6V9dXqzdaFvh"
   },
   "outputs": [],
   "source": [
    "# split a sequence into samples\n",
    "def Supervised(data, n_in=1, n_out=1, dropnan=True):\n",
    "    n_vars = 1 if type(data) is list else data.shape[1]\n",
    "    df = pd.DataFrame(data)\n",
    "    cols, names = list(), list()\n",
    "    # input sequence (t-n_in, ... t-1)\n",
    "    for i in range(n_in, 0, -1):\n",
    "        cols.append(df.shift(i))\n",
    "        names += [('var%d(t-%d)' % (j+1, i)) for j in range(n_vars)]\n",
    "    # forecast sequence (t, t+1, ... t+n_out)\n",
    "    for i in range(0, n_out):\n",
    "      cols.append(df.shift(-i))\n",
    "      if i == 0:\n",
    "        names += [('var%d(t)' % (j+1)) for j in range(n_vars)]\n",
    "      else:\n",
    "        names += [('var%d(t+%d)' % (j+1, i)) for j in range(n_vars)]\n",
    "    # put it all together\n",
    "    agg = pd.concat(cols, axis=1)\n",
    "    agg.columns = names\n",
    "    # drop rows with NaN values\n",
    "    if dropnan:\n",
    "       agg.dropna(inplace=True)\n",
    "    return agg"
   ]
  },
  {
   "cell_type": "code",
   "execution_count": 13,
   "metadata": {
    "colab": {
     "base_uri": "https://localhost:8080/"
    },
    "id": "CrzSrT1HnyfH",
    "outputId": "7e75f928-3e47-499d-eac1-51908015ef78"
   },
   "outputs": [
    {
     "name": "stdout",
     "output_type": "stream",
     "text": [
      "     var1(t-350)  var1(t-349)  var1(t-348)  var1(t-347)  var1(t-346)  \\\n",
      "350    89.140000    88.911429    88.682857    88.454286    88.225714   \n",
      "351    88.911429    88.682857    88.454286    88.225714    87.997143   \n",
      "352    88.682857    88.454286    88.225714    87.997143    87.768571   \n",
      "353    88.454286    88.225714    87.997143    87.768571    87.540000   \n",
      "354    88.225714    87.997143    87.768571    87.540000    87.311429   \n",
      "\n",
      "     var1(t-345)  var1(t-344)  var1(t-343)  var1(t-342)  var1(t-341)  ...  \\\n",
      "350    87.997143    87.768571    87.540000    87.311429    87.095798  ...   \n",
      "351    87.768571    87.540000    87.311429    87.095798    87.039776  ...   \n",
      "352    87.540000    87.311429    87.095798    87.039776    86.983754  ...   \n",
      "353    87.311429    87.095798    87.039776    86.983754    86.927731  ...   \n",
      "354    87.095798    87.039776    86.983754    86.927731    86.871709  ...   \n",
      "\n",
      "     var1(t+95)  var2(t+95)  var1(t+96)  var2(t+96)  var1(t+97)  var2(t+97)  \\\n",
      "350   79.161181    0.000263   79.132236    0.000263   79.103291    0.000263   \n",
      "351   79.132236    0.000263   79.103291    0.000263   79.074346    0.000262   \n",
      "352   79.103291    0.000263   79.074346    0.000262   79.045401    0.000262   \n",
      "353   79.074346    0.000262   79.045401    0.000262   79.016457    0.000262   \n",
      "354   79.045401    0.000262   79.016457    0.000262   78.987512    0.000262   \n",
      "\n",
      "     var1(t+98)  var2(t+98)  var1(t+99)  var2(t+99)  \n",
      "350   79.074346    0.000262   79.045401    0.000262  \n",
      "351   79.045401    0.000262   79.016457    0.000262  \n",
      "352   79.016457    0.000262   78.987512    0.000262  \n",
      "353   78.987512    0.000262   78.958567    0.000262  \n",
      "354   78.958567    0.000262   78.929622    0.000262  \n",
      "\n",
      "[5 rows x 551 columns]\n",
      "Index(['var1(t-350)', 'var1(t-349)', 'var1(t-348)', 'var1(t-347)',\n",
      "       'var1(t-346)', 'var1(t-345)', 'var1(t-344)', 'var1(t-343)',\n",
      "       'var1(t-342)', 'var1(t-341)',\n",
      "       ...\n",
      "       'var1(t+95)', 'var2(t+95)', 'var1(t+96)', 'var2(t+96)', 'var1(t+97)',\n",
      "       'var2(t+97)', 'var1(t+98)', 'var2(t+98)', 'var1(t+99)', 'var2(t+99)'],\n",
      "      dtype='object', length=551)\n"
     ]
    }
   ],
   "source": [
    "data = Supervised(df.values, n_in = 350, n_out = 100)\n",
    "\n",
    "\n",
    "cols_to_drop = []\n",
    "for i in range(2, 351):\n",
    "    cols_to_drop.extend([f'var2(t-{i})'])\n",
    "\n",
    "data.drop(cols_to_drop, axis=1, inplace=True)\n",
    "\n",
    "print(data.head())\n",
    "print(data.columns)"
   ]
  },
  {
   "cell_type": "code",
   "execution_count": 14,
   "metadata": {
    "id": "AfPf60oy6Pe4"
   },
   "outputs": [],
   "source": [
    "train = np.array(data[0:len(data)-1])\n",
    "forecast = np.array(data.tail(1))"
   ]
  },
  {
   "cell_type": "code",
   "execution_count": 15,
   "metadata": {
    "id": "WSAafzI37KiT"
   },
   "outputs": [],
   "source": [
    "trainy = train[:,-300:]\n",
    "trainX = train[:,:-300]"
   ]
  },
  {
   "cell_type": "code",
   "execution_count": 16,
   "metadata": {
    "id": "2SrOqVJA7f50"
   },
   "outputs": [],
   "source": [
    "forecasty = forecast[:,-300:]\n",
    "forecastX = forecast[:,:-300]"
   ]
  },
  {
   "cell_type": "code",
   "execution_count": 17,
   "metadata": {
    "colab": {
     "base_uri": "https://localhost:8080/"
    },
    "id": "Qno_k8Nw7saY",
    "outputId": "c4a88db5-d8c6-489f-cdb2-06b24e293cff"
   },
   "outputs": [
    {
     "name": "stdout",
     "output_type": "stream",
     "text": [
      "(1500, 1, 251) (1500, 300) (1, 1, 251)\n"
     ]
    }
   ],
   "source": [
    "trainX = trainX.reshape((trainX.shape[0], 1, trainX.shape[1]))\n",
    "forecastX = forecastX.reshape((forecastX.shape[0], 1, forecastX.shape[1]))\n",
    "print(trainX.shape, trainy.shape, forecastX.shape)"
   ]
  },
  {
   "cell_type": "code",
   "execution_count": 18,
   "metadata": {
    "colab": {
     "base_uri": "https://localhost:8080/"
    },
    "id": "b1Jp2DvNuNFx",
    "outputId": "d0e5b3c4-64f1-438c-eade-8dfeaac8e285"
   },
   "outputs": [
    {
     "name": "stdout",
     "output_type": "stream",
     "text": [
      "Epoch 1/500\n",
      "19/19 [==============================] - 2s 31ms/step - loss: 5235.6450 - val_loss: 3586.0259\n",
      "Epoch 2/500\n",
      "19/19 [==============================] - 0s 5ms/step - loss: 5032.4185 - val_loss: 3458.3894\n",
      "Epoch 3/500\n",
      "19/19 [==============================] - 0s 5ms/step - loss: 4952.9790 - val_loss: 3403.1516\n",
      "Epoch 4/500\n",
      "19/19 [==============================] - 0s 4ms/step - loss: 4892.1294 - val_loss: 3362.6641\n",
      "Epoch 5/500\n",
      "19/19 [==============================] - 0s 4ms/step - loss: 4826.9268 - val_loss: 3310.8928\n",
      "Epoch 6/500\n",
      "19/19 [==============================] - 0s 5ms/step - loss: 4785.4150 - val_loss: 3282.5864\n",
      "Epoch 7/500\n",
      "19/19 [==============================] - 0s 5ms/step - loss: 4727.7910 - val_loss: 3240.6584\n",
      "Epoch 8/500\n",
      "19/19 [==============================] - 0s 4ms/step - loss: 4669.1279 - val_loss: 3199.4736\n",
      "Epoch 9/500\n",
      "19/19 [==============================] - 0s 4ms/step - loss: 4611.5225 - val_loss: 3158.9832\n",
      "Epoch 10/500\n",
      "19/19 [==============================] - 0s 4ms/step - loss: 4554.8628 - val_loss: 3120.0173\n",
      "Epoch 11/500\n",
      "19/19 [==============================] - 0s 5ms/step - loss: 4499.0356 - val_loss: 3081.0735\n",
      "Epoch 12/500\n",
      "19/19 [==============================] - 0s 10ms/step - loss: 4443.9590 - val_loss: 3042.7322\n",
      "Epoch 13/500\n",
      "19/19 [==============================] - 0s 4ms/step - loss: 4389.5781 - val_loss: 3004.9224\n",
      "Epoch 14/500\n",
      "19/19 [==============================] - 0s 4ms/step - loss: 4335.8169 - val_loss: 2966.4995\n",
      "Epoch 15/500\n",
      "19/19 [==============================] - 0s 5ms/step - loss: 4278.3853 - val_loss: 2925.8857\n",
      "Epoch 16/500\n",
      "19/19 [==============================] - 0s 6ms/step - loss: 4220.4272 - val_loss: 2886.2925\n",
      "Epoch 17/500\n",
      "19/19 [==============================] - 0s 6ms/step - loss: 4163.9409 - val_loss: 2847.8359\n",
      "Epoch 18/500\n",
      "19/19 [==============================] - 0s 5ms/step - loss: 4108.7852 - val_loss: 2810.2849\n",
      "Epoch 19/500\n",
      "19/19 [==============================] - 0s 5ms/step - loss: 4054.6846 - val_loss: 2773.4958\n",
      "Epoch 20/500\n",
      "19/19 [==============================] - 0s 4ms/step - loss: 4001.4746 - val_loss: 2737.3823\n",
      "Epoch 21/500\n",
      "19/19 [==============================] - 0s 4ms/step - loss: 3949.0547 - val_loss: 2701.8896\n",
      "Epoch 22/500\n",
      "19/19 [==============================] - 0s 4ms/step - loss: 3897.3608 - val_loss: 2666.9790\n",
      "Epoch 23/500\n",
      "19/19 [==============================] - 0s 4ms/step - loss: 3846.3450 - val_loss: 2632.6230\n",
      "Epoch 24/500\n",
      "19/19 [==============================] - 0s 4ms/step - loss: 3795.9746 - val_loss: 2598.7996\n",
      "Epoch 25/500\n",
      "19/19 [==============================] - 0s 4ms/step - loss: 3746.2222 - val_loss: 2565.4907\n",
      "Epoch 26/500\n",
      "19/19 [==============================] - 0s 4ms/step - loss: 3697.0647 - val_loss: 2532.6824\n",
      "Epoch 27/500\n",
      "19/19 [==============================] - 0s 5ms/step - loss: 3648.4863 - val_loss: 2500.3618\n",
      "Epoch 28/500\n",
      "19/19 [==============================] - 0s 4ms/step - loss: 3600.4709 - val_loss: 2468.5181\n",
      "Epoch 29/500\n",
      "19/19 [==============================] - 0s 4ms/step - loss: 3553.0042 - val_loss: 2437.1416\n",
      "Epoch 30/500\n",
      "19/19 [==============================] - 0s 4ms/step - loss: 3506.0759 - val_loss: 2406.2244\n",
      "Epoch 31/500\n",
      "19/19 [==============================] - 0s 5ms/step - loss: 3459.6760 - val_loss: 2375.7578\n",
      "Epoch 32/500\n",
      "19/19 [==============================] - 0s 4ms/step - loss: 3413.7947 - val_loss: 2345.7354\n",
      "Epoch 33/500\n",
      "19/19 [==============================] - 0s 4ms/step - loss: 3368.4229 - val_loss: 2316.1501\n",
      "Epoch 34/500\n",
      "19/19 [==============================] - 0s 4ms/step - loss: 3323.5535 - val_loss: 2286.9963\n",
      "Epoch 35/500\n",
      "19/19 [==============================] - 0s 4ms/step - loss: 3279.1790 - val_loss: 2258.2681\n",
      "Epoch 36/500\n",
      "19/19 [==============================] - 0s 4ms/step - loss: 3235.2930 - val_loss: 2229.9597\n",
      "Epoch 37/500\n",
      "19/19 [==============================] - 0s 4ms/step - loss: 3191.8892 - val_loss: 2202.0662\n",
      "Epoch 38/500\n",
      "19/19 [==============================] - 0s 4ms/step - loss: 3148.9612 - val_loss: 2174.5828\n",
      "Epoch 39/500\n",
      "19/19 [==============================] - 0s 4ms/step - loss: 3106.5039 - val_loss: 2147.5042\n",
      "Epoch 40/500\n",
      "19/19 [==============================] - 0s 6ms/step - loss: 3064.5110 - val_loss: 2120.8264\n",
      "Epoch 41/500\n",
      "19/19 [==============================] - 0s 4ms/step - loss: 3022.9788 - val_loss: 2094.5447\n",
      "Epoch 42/500\n",
      "19/19 [==============================] - 0s 4ms/step - loss: 2981.9011 - val_loss: 2068.6550\n",
      "Epoch 43/500\n",
      "19/19 [==============================] - 0s 4ms/step - loss: 2941.2747 - val_loss: 2043.1533\n",
      "Epoch 44/500\n",
      "19/19 [==============================] - 0s 4ms/step - loss: 2901.0925 - val_loss: 2018.0359\n",
      "Epoch 45/500\n",
      "19/19 [==============================] - 0s 4ms/step - loss: 2861.3521 - val_loss: 1993.2980\n",
      "Epoch 46/500\n",
      "19/19 [==============================] - 0s 4ms/step - loss: 2822.0483 - val_loss: 1968.9364\n",
      "Epoch 47/500\n",
      "19/19 [==============================] - 0s 4ms/step - loss: 2783.1782 - val_loss: 1944.9475\n",
      "Epoch 48/500\n",
      "19/19 [==============================] - 0s 6ms/step - loss: 2744.7361 - val_loss: 1921.3273\n",
      "Epoch 49/500\n",
      "19/19 [==============================] - 0s 5ms/step - loss: 2706.7192 - val_loss: 1898.0723\n",
      "Epoch 50/500\n",
      "19/19 [==============================] - 0s 4ms/step - loss: 2669.1226 - val_loss: 1875.1792\n",
      "Epoch 51/500\n",
      "19/19 [==============================] - 0s 4ms/step - loss: 2631.9436 - val_loss: 1852.6448\n",
      "Epoch 52/500\n",
      "19/19 [==============================] - 0s 9ms/step - loss: 2595.1777 - val_loss: 1830.4652\n",
      "Epoch 53/500\n",
      "19/19 [==============================] - 0s 4ms/step - loss: 2558.8218 - val_loss: 1808.6373\n",
      "Epoch 54/500\n",
      "19/19 [==============================] - 0s 3ms/step - loss: 2522.8721 - val_loss: 1787.1577\n",
      "Epoch 55/500\n",
      "19/19 [==============================] - 0s 4ms/step - loss: 2487.3254 - val_loss: 1766.0239\n",
      "Epoch 56/500\n",
      "19/19 [==============================] - 0s 4ms/step - loss: 2452.1780 - val_loss: 1745.2319\n",
      "Epoch 57/500\n",
      "19/19 [==============================] - 0s 4ms/step - loss: 2417.4263 - val_loss: 1724.7791\n",
      "Epoch 58/500\n",
      "19/19 [==============================] - 0s 4ms/step - loss: 2383.0674 - val_loss: 1704.6621\n",
      "Epoch 59/500\n",
      "19/19 [==============================] - 0s 4ms/step - loss: 2349.0981 - val_loss: 1684.8777\n",
      "Epoch 60/500\n",
      "19/19 [==============================] - 0s 4ms/step - loss: 2315.5151 - val_loss: 1665.4232\n",
      "Epoch 61/500\n",
      "19/19 [==============================] - 0s 4ms/step - loss: 2282.3152 - val_loss: 1646.2957\n",
      "Epoch 62/500\n",
      "19/19 [==============================] - 0s 4ms/step - loss: 2249.4949 - val_loss: 1627.4918\n",
      "Epoch 63/500\n",
      "19/19 [==============================] - 0s 5ms/step - loss: 2217.0513 - val_loss: 1609.0089\n",
      "Epoch 64/500\n",
      "19/19 [==============================] - 0s 4ms/step - loss: 2184.9817 - val_loss: 1590.8441\n",
      "Epoch 65/500\n",
      "19/19 [==============================] - 0s 5ms/step - loss: 2153.2827 - val_loss: 1572.9948\n",
      "Epoch 66/500\n",
      "19/19 [==============================] - 0s 6ms/step - loss: 2121.9512 - val_loss: 1555.4574\n",
      "Epoch 67/500\n",
      "19/19 [==============================] - 0s 4ms/step - loss: 2090.9851 - val_loss: 1538.2297\n",
      "Epoch 68/500\n",
      "19/19 [==============================] - 0s 5ms/step - loss: 2060.3804 - val_loss: 1521.3086\n",
      "Epoch 69/500\n",
      "19/19 [==============================] - 0s 8ms/step - loss: 2030.1350 - val_loss: 1504.6918\n",
      "Epoch 70/500\n",
      "19/19 [==============================] - 0s 13ms/step - loss: 2000.2456 - val_loss: 1488.3761\n",
      "Epoch 71/500\n",
      "19/19 [==============================] - 0s 9ms/step - loss: 1970.7096 - val_loss: 1472.3585\n",
      "Epoch 72/500\n",
      "19/19 [==============================] - 0s 7ms/step - loss: 1941.5242 - val_loss: 1456.6375\n",
      "Epoch 73/500\n",
      "19/19 [==============================] - 0s 6ms/step - loss: 1912.6864 - val_loss: 1441.2090\n",
      "Epoch 74/500\n",
      "19/19 [==============================] - 0s 7ms/step - loss: 1884.1935 - val_loss: 1426.0708\n",
      "Epoch 75/500\n",
      "19/19 [==============================] - 0s 7ms/step - loss: 1856.0430 - val_loss: 1411.2211\n",
      "Epoch 76/500\n",
      "19/19 [==============================] - 0s 7ms/step - loss: 1828.2319 - val_loss: 1396.6562\n",
      "Epoch 77/500\n",
      "19/19 [==============================] - 0s 7ms/step - loss: 1800.7579 - val_loss: 1382.3739\n",
      "Epoch 78/500\n",
      "19/19 [==============================] - 0s 8ms/step - loss: 1773.6179 - val_loss: 1368.3715\n",
      "Epoch 79/500\n",
      "19/19 [==============================] - 0s 7ms/step - loss: 1746.8097 - val_loss: 1354.6462\n",
      "Epoch 80/500\n",
      "19/19 [==============================] - 0s 8ms/step - loss: 1720.3303 - val_loss: 1341.1963\n",
      "Epoch 81/500\n",
      "19/19 [==============================] - 0s 7ms/step - loss: 1694.1775 - val_loss: 1328.0182\n",
      "Epoch 82/500\n",
      "19/19 [==============================] - 0s 8ms/step - loss: 1668.3484 - val_loss: 1315.1100\n",
      "Epoch 83/500\n",
      "19/19 [==============================] - 0s 7ms/step - loss: 1642.8408 - val_loss: 1302.4690\n",
      "Epoch 84/500\n",
      "19/19 [==============================] - 0s 10ms/step - loss: 1617.6514 - val_loss: 1290.0925\n",
      "Epoch 85/500\n",
      "19/19 [==============================] - 0s 14ms/step - loss: 1592.7784 - val_loss: 1277.9783\n",
      "Epoch 86/500\n",
      "19/19 [==============================] - 0s 12ms/step - loss: 1568.2190 - val_loss: 1266.1237\n",
      "Epoch 87/500\n",
      "19/19 [==============================] - 0s 8ms/step - loss: 1543.9706 - val_loss: 1254.5264\n",
      "Epoch 88/500\n",
      "19/19 [==============================] - 0s 15ms/step - loss: 1520.0315 - val_loss: 1243.1840\n",
      "Epoch 89/500\n",
      "19/19 [==============================] - 0s 8ms/step - loss: 1496.3983 - val_loss: 1232.0934\n",
      "Epoch 90/500\n",
      "19/19 [==============================] - 0s 8ms/step - loss: 1473.0690 - val_loss: 1221.2528\n",
      "Epoch 91/500\n",
      "19/19 [==============================] - 0s 8ms/step - loss: 1450.0409 - val_loss: 1210.6600\n",
      "Epoch 92/500\n",
      "19/19 [==============================] - 0s 7ms/step - loss: 1427.3116 - val_loss: 1200.3119\n",
      "Epoch 93/500\n",
      "19/19 [==============================] - 0s 8ms/step - loss: 1404.8790 - val_loss: 1190.2065\n",
      "Epoch 94/500\n",
      "19/19 [==============================] - 0s 7ms/step - loss: 1382.7406 - val_loss: 1180.3412\n",
      "Epoch 95/500\n",
      "19/19 [==============================] - 0s 9ms/step - loss: 1360.8943 - val_loss: 1170.7136\n",
      "Epoch 96/500\n",
      "19/19 [==============================] - 0s 7ms/step - loss: 1339.3370 - val_loss: 1161.3214\n",
      "Epoch 97/500\n",
      "19/19 [==============================] - 0s 6ms/step - loss: 1318.0669 - val_loss: 1152.1624\n",
      "Epoch 98/500\n",
      "19/19 [==============================] - 0s 7ms/step - loss: 1297.0815 - val_loss: 1143.2340\n",
      "Epoch 99/500\n",
      "19/19 [==============================] - 0s 6ms/step - loss: 1276.3784 - val_loss: 1134.5339\n",
      "Epoch 100/500\n",
      "19/19 [==============================] - 0s 6ms/step - loss: 1255.9559 - val_loss: 1126.0596\n",
      "Epoch 101/500\n",
      "19/19 [==============================] - 0s 5ms/step - loss: 1235.8107 - val_loss: 1117.8092\n",
      "Epoch 102/500\n",
      "19/19 [==============================] - 0s 5ms/step - loss: 1215.9413 - val_loss: 1109.7798\n",
      "Epoch 103/500\n",
      "19/19 [==============================] - 0s 6ms/step - loss: 1196.3447 - val_loss: 1101.9694\n",
      "Epoch 104/500\n",
      "19/19 [==============================] - 0s 6ms/step - loss: 1177.0194 - val_loss: 1094.3754\n",
      "Epoch 105/500\n",
      "19/19 [==============================] - 0s 6ms/step - loss: 1157.9628 - val_loss: 1086.9961\n",
      "Epoch 106/500\n",
      "19/19 [==============================] - 0s 8ms/step - loss: 1139.1722 - val_loss: 1079.8284\n",
      "Epoch 107/500\n",
      "19/19 [==============================] - 0s 8ms/step - loss: 1120.6460 - val_loss: 1072.8704\n",
      "Epoch 108/500\n",
      "19/19 [==============================] - 0s 8ms/step - loss: 1102.3820 - val_loss: 1066.1198\n",
      "Epoch 109/500\n",
      "19/19 [==============================] - 0s 7ms/step - loss: 1084.3774 - val_loss: 1059.5743\n",
      "Epoch 110/500\n",
      "19/19 [==============================] - 0s 7ms/step - loss: 1066.6305 - val_loss: 1053.2316\n",
      "Epoch 111/500\n",
      "19/19 [==============================] - 0s 6ms/step - loss: 1049.1388 - val_loss: 1047.0894\n",
      "Epoch 112/500\n",
      "19/19 [==============================] - 0s 6ms/step - loss: 1031.9003 - val_loss: 1041.1453\n",
      "Epoch 113/500\n",
      "19/19 [==============================] - 0s 6ms/step - loss: 1014.9125 - val_loss: 1035.3973\n",
      "Epoch 114/500\n",
      "19/19 [==============================] - 0s 6ms/step - loss: 998.1738 - val_loss: 1029.8430\n",
      "Epoch 115/500\n",
      "19/19 [==============================] - 0s 6ms/step - loss: 981.6813 - val_loss: 1024.4800\n",
      "Epoch 116/500\n",
      "19/19 [==============================] - 0s 7ms/step - loss: 965.4334 - val_loss: 1019.3060\n",
      "Epoch 117/500\n",
      "19/19 [==============================] - 0s 18ms/step - loss: 949.4277 - val_loss: 1014.3193\n",
      "Epoch 118/500\n",
      "19/19 [==============================] - 0s 9ms/step - loss: 933.6619 - val_loss: 1009.5168\n",
      "Epoch 119/500\n",
      "19/19 [==============================] - 0s 7ms/step - loss: 918.1340 - val_loss: 1004.8969\n",
      "Epoch 120/500\n",
      "19/19 [==============================] - 0s 7ms/step - loss: 902.8419 - val_loss: 1000.4570\n",
      "Epoch 121/500\n",
      "19/19 [==============================] - 0s 6ms/step - loss: 887.7836 - val_loss: 996.1952\n",
      "Epoch 122/500\n",
      "19/19 [==============================] - 0s 6ms/step - loss: 872.9565 - val_loss: 992.1089\n",
      "Epoch 123/500\n",
      "19/19 [==============================] - 0s 5ms/step - loss: 858.3592 - val_loss: 988.1962\n",
      "Epoch 124/500\n",
      "19/19 [==============================] - 0s 6ms/step - loss: 843.9890 - val_loss: 984.4546\n",
      "Epoch 125/500\n",
      "19/19 [==============================] - 0s 9ms/step - loss: 829.8439 - val_loss: 980.8821\n",
      "Epoch 126/500\n",
      "19/19 [==============================] - 0s 8ms/step - loss: 815.9219 - val_loss: 977.4763\n",
      "Epoch 127/500\n",
      "19/19 [==============================] - 0s 7ms/step - loss: 802.2209 - val_loss: 974.2350\n",
      "Epoch 128/500\n",
      "19/19 [==============================] - 0s 7ms/step - loss: 788.7389 - val_loss: 971.1564\n",
      "Epoch 129/500\n",
      "19/19 [==============================] - 0s 6ms/step - loss: 775.4737 - val_loss: 968.2375\n",
      "Epoch 130/500\n",
      "19/19 [==============================] - 0s 6ms/step - loss: 762.4230 - val_loss: 965.4767\n",
      "Epoch 131/500\n",
      "19/19 [==============================] - 0s 6ms/step - loss: 749.5850 - val_loss: 962.8715\n",
      "Epoch 132/500\n",
      "19/19 [==============================] - 0s 6ms/step - loss: 736.9575 - val_loss: 960.4198\n",
      "Epoch 133/500\n",
      "19/19 [==============================] - 0s 5ms/step - loss: 724.5386 - val_loss: 958.1196\n",
      "Epoch 134/500\n",
      "19/19 [==============================] - 0s 6ms/step - loss: 712.3260 - val_loss: 955.9683\n",
      "Epoch 135/500\n",
      "19/19 [==============================] - 0s 5ms/step - loss: 700.3179 - val_loss: 953.9642\n",
      "Epoch 136/500\n",
      "19/19 [==============================] - 0s 5ms/step - loss: 688.5124 - val_loss: 952.1045\n",
      "Epoch 137/500\n",
      "19/19 [==============================] - 0s 7ms/step - loss: 676.9068 - val_loss: 950.3875\n",
      "Epoch 138/500\n",
      "19/19 [==============================] - 0s 7ms/step - loss: 665.4996 - val_loss: 948.8109\n",
      "Epoch 139/500\n",
      "19/19 [==============================] - 0s 6ms/step - loss: 654.2885 - val_loss: 947.3723\n",
      "Epoch 140/500\n",
      "19/19 [==============================] - 0s 6ms/step - loss: 643.2715 - val_loss: 946.0699\n",
      "Epoch 141/500\n",
      "19/19 [==============================] - 0s 5ms/step - loss: 632.4470 - val_loss: 944.9012\n",
      "Epoch 142/500\n",
      "19/19 [==============================] - 0s 6ms/step - loss: 621.8125 - val_loss: 943.8642\n",
      "Epoch 143/500\n",
      "19/19 [==============================] - 0s 6ms/step - loss: 611.3661 - val_loss: 942.9568\n",
      "Epoch 144/500\n",
      "19/19 [==============================] - 0s 9ms/step - loss: 601.1060 - val_loss: 942.1766\n",
      "Epoch 145/500\n",
      "19/19 [==============================] - 0s 10ms/step - loss: 591.0300 - val_loss: 941.5215\n",
      "Epoch 146/500\n",
      "19/19 [==============================] - 0s 7ms/step - loss: 581.1362 - val_loss: 940.9896\n",
      "Epoch 147/500\n",
      "19/19 [==============================] - 0s 6ms/step - loss: 571.4223 - val_loss: 940.5783\n",
      "Epoch 148/500\n",
      "19/19 [==============================] - 0s 6ms/step - loss: 561.8865 - val_loss: 940.2858\n",
      "Epoch 149/500\n",
      "19/19 [==============================] - 0s 6ms/step - loss: 552.5269 - val_loss: 940.1099\n",
      "Epoch 150/500\n",
      "19/19 [==============================] - 0s 5ms/step - loss: 543.3414 - val_loss: 940.0483\n",
      "Epoch 151/500\n",
      "19/19 [==============================] - 0s 5ms/step - loss: 534.3281 - val_loss: 940.0989\n",
      "Epoch 152/500\n",
      "19/19 [==============================] - 0s 6ms/step - loss: 525.4848 - val_loss: 940.2598\n",
      "Epoch 153/500\n",
      "19/19 [==============================] - 0s 6ms/step - loss: 516.8098 - val_loss: 940.5286\n",
      "Epoch 154/500\n",
      "19/19 [==============================] - 0s 5ms/step - loss: 508.3011 - val_loss: 940.9033\n",
      "Epoch 155/500\n",
      "19/19 [==============================] - 0s 5ms/step - loss: 499.9567 - val_loss: 941.3816\n",
      "Epoch 156/500\n",
      "19/19 [==============================] - 0s 4ms/step - loss: 491.7745 - val_loss: 941.9615\n",
      "Epoch 157/500\n",
      "19/19 [==============================] - 0s 5ms/step - loss: 483.7529 - val_loss: 942.6409\n",
      "Epoch 158/500\n",
      "19/19 [==============================] - 0s 6ms/step - loss: 475.8895 - val_loss: 943.4179\n",
      "Epoch 159/500\n",
      "19/19 [==============================] - 0s 5ms/step - loss: 468.1826 - val_loss: 944.2899\n",
      "Epoch 160/500\n",
      "19/19 [==============================] - 0s 5ms/step - loss: 460.6304 - val_loss: 945.2551\n",
      "Epoch 161/500\n",
      "19/19 [==============================] - 0s 5ms/step - loss: 453.2308 - val_loss: 946.3116\n",
      "Epoch 162/500\n",
      "19/19 [==============================] - 0s 5ms/step - loss: 445.9818 - val_loss: 947.4568\n",
      "Epoch 163/500\n",
      "19/19 [==============================] - 0s 5ms/step - loss: 438.8817 - val_loss: 948.6890\n",
      "Epoch 164/500\n",
      "19/19 [==============================] - 0s 5ms/step - loss: 431.9284 - val_loss: 950.0059\n",
      "Epoch 165/500\n",
      "19/19 [==============================] - 0s 5ms/step - loss: 425.1200 - val_loss: 951.4057\n",
      "Epoch 166/500\n",
      "19/19 [==============================] - 0s 5ms/step - loss: 418.4547 - val_loss: 952.8860\n",
      "Epoch 167/500\n",
      "19/19 [==============================] - 0s 5ms/step - loss: 411.9302 - val_loss: 954.4452\n",
      "Epoch 168/500\n",
      "19/19 [==============================] - 0s 5ms/step - loss: 405.5449 - val_loss: 956.0807\n",
      "Epoch 169/500\n",
      "19/19 [==============================] - 0s 6ms/step - loss: 399.2970 - val_loss: 957.7908\n",
      "Epoch 170/500\n",
      "19/19 [==============================] - 0s 11ms/step - loss: 393.1845 - val_loss: 959.5735\n",
      "Epoch 171/500\n",
      "19/19 [==============================] - 0s 7ms/step - loss: 387.2057 - val_loss: 961.4265\n",
      "Epoch 172/500\n",
      "19/19 [==============================] - 0s 7ms/step - loss: 381.3585 - val_loss: 963.3479\n",
      "Epoch 173/500\n",
      "19/19 [==============================] - 0s 7ms/step - loss: 375.6411 - val_loss: 965.3356\n",
      "Epoch 174/500\n",
      "19/19 [==============================] - 0s 6ms/step - loss: 370.0518 - val_loss: 967.3878\n",
      "Epoch 175/500\n",
      "19/19 [==============================] - 0s 7ms/step - loss: 364.5885 - val_loss: 969.5024\n",
      "Epoch 176/500\n",
      "19/19 [==============================] - 0s 6ms/step - loss: 359.2494 - val_loss: 971.6773\n",
      "Epoch 177/500\n",
      "19/19 [==============================] - 0s 6ms/step - loss: 354.0329 - val_loss: 973.9107\n",
      "Epoch 178/500\n",
      "19/19 [==============================] - 0s 7ms/step - loss: 348.9369 - val_loss: 976.2006\n",
      "Epoch 179/500\n",
      "19/19 [==============================] - 0s 6ms/step - loss: 343.9594 - val_loss: 978.5450\n",
      "Epoch 180/500\n",
      "19/19 [==============================] - 0s 7ms/step - loss: 339.0991 - val_loss: 980.9418\n",
      "Epoch 181/500\n",
      "19/19 [==============================] - 0s 6ms/step - loss: 334.3538 - val_loss: 983.3893\n",
      "Epoch 182/500\n",
      "19/19 [==============================] - 0s 6ms/step - loss: 329.7218 - val_loss: 985.8855\n",
      "Epoch 183/500\n",
      "19/19 [==============================] - 0s 6ms/step - loss: 325.2016 - val_loss: 988.4283\n",
      "Epoch 184/500\n",
      "19/19 [==============================] - 0s 6ms/step - loss: 320.7909 - val_loss: 991.0161\n",
      "Epoch 185/500\n",
      "19/19 [==============================] - 0s 6ms/step - loss: 316.4882 - val_loss: 993.6470\n",
      "Epoch 186/500\n",
      "19/19 [==============================] - 0s 6ms/step - loss: 312.2916 - val_loss: 996.3188\n",
      "Epoch 187/500\n",
      "19/19 [==============================] - 0s 5ms/step - loss: 308.1995 - val_loss: 999.0299\n",
      "Epoch 188/500\n",
      "19/19 [==============================] - 0s 5ms/step - loss: 304.2101 - val_loss: 1001.7784\n",
      "Epoch 189/500\n",
      "19/19 [==============================] - 0s 8ms/step - loss: 300.3215 - val_loss: 1004.5625\n",
      "Epoch 190/500\n",
      "19/19 [==============================] - 0s 7ms/step - loss: 296.5321 - val_loss: 1007.3802\n",
      "Epoch 191/500\n",
      "19/19 [==============================] - 0s 6ms/step - loss: 292.8401 - val_loss: 1010.2299\n",
      "Epoch 192/500\n",
      "19/19 [==============================] - 0s 7ms/step - loss: 289.2440 - val_loss: 1013.1098\n",
      "Epoch 193/500\n",
      "19/19 [==============================] - 0s 8ms/step - loss: 285.7419 - val_loss: 1016.0179\n",
      "Epoch 194/500\n",
      "19/19 [==============================] - 0s 9ms/step - loss: 282.3321 - val_loss: 1018.9528\n",
      "Epoch 195/500\n",
      "19/19 [==============================] - 0s 11ms/step - loss: 279.0131 - val_loss: 1021.9125\n",
      "Epoch 196/500\n",
      "19/19 [==============================] - 0s 7ms/step - loss: 275.7828 - val_loss: 1024.8954\n",
      "Epoch 197/500\n",
      "19/19 [==============================] - 0s 7ms/step - loss: 272.6401 - val_loss: 1027.8995\n",
      "Epoch 198/500\n",
      "19/19 [==============================] - 0s 7ms/step - loss: 269.5829 - val_loss: 1030.9237\n",
      "Epoch 199/500\n",
      "19/19 [==============================] - 0s 7ms/step - loss: 266.6100 - val_loss: 1033.9655\n",
      "Epoch 200/500\n",
      "19/19 [==============================] - 0s 9ms/step - loss: 263.7194 - val_loss: 1037.0239\n",
      "Epoch 201/500\n",
      "19/19 [==============================] - 0s 9ms/step - loss: 260.9096 - val_loss: 1040.0973\n",
      "Epoch 202/500\n",
      "19/19 [==============================] - 0s 9ms/step - loss: 258.1790 - val_loss: 1043.1837\n",
      "Epoch 203/500\n",
      "19/19 [==============================] - 0s 7ms/step - loss: 255.5261 - val_loss: 1046.2819\n",
      "Epoch 204/500\n",
      "19/19 [==============================] - 0s 7ms/step - loss: 252.9491 - val_loss: 1049.3899\n",
      "Epoch 205/500\n",
      "19/19 [==============================] - 0s 7ms/step - loss: 250.4467 - val_loss: 1052.5067\n",
      "Epoch 206/500\n",
      "19/19 [==============================] - 0s 7ms/step - loss: 248.0173 - val_loss: 1055.6302\n",
      "Epoch 207/500\n",
      "19/19 [==============================] - 0s 7ms/step - loss: 245.6592 - val_loss: 1058.7592\n",
      "Epoch 208/500\n",
      "19/19 [==============================] - 0s 8ms/step - loss: 243.3711 - val_loss: 1061.8923\n",
      "Epoch 209/500\n",
      "19/19 [==============================] - 0s 10ms/step - loss: 241.1514 - val_loss: 1065.0280\n",
      "Epoch 210/500\n",
      "19/19 [==============================] - 0s 10ms/step - loss: 238.9984 - val_loss: 1068.1644\n",
      "Epoch 211/500\n",
      "19/19 [==============================] - 0s 7ms/step - loss: 236.9109 - val_loss: 1071.3007\n",
      "Epoch 212/500\n",
      "19/19 [==============================] - 0s 7ms/step - loss: 234.8875 - val_loss: 1074.4353\n",
      "Epoch 213/500\n",
      "19/19 [==============================] - 0s 7ms/step - loss: 232.9265 - val_loss: 1077.5668\n",
      "Epoch 214/500\n",
      "19/19 [==============================] - 0s 6ms/step - loss: 231.0268 - val_loss: 1080.6937\n",
      "Epoch 215/500\n",
      "19/19 [==============================] - 0s 6ms/step - loss: 229.1867 - val_loss: 1083.8151\n",
      "Epoch 216/500\n",
      "19/19 [==============================] - 0s 7ms/step - loss: 227.4047 - val_loss: 1086.9293\n",
      "Epoch 217/500\n",
      "19/19 [==============================] - 0s 7ms/step - loss: 225.6798 - val_loss: 1090.0359\n",
      "Epoch 218/500\n",
      "19/19 [==============================] - 0s 8ms/step - loss: 224.0104 - val_loss: 1093.1324\n",
      "Epoch 219/500\n",
      "19/19 [==============================] - 0s 7ms/step - loss: 222.3951 - val_loss: 1096.2186\n",
      "Epoch 220/500\n",
      "19/19 [==============================] - 0s 9ms/step - loss: 220.8327 - val_loss: 1099.2925\n",
      "Epoch 221/500\n",
      "19/19 [==============================] - 0s 10ms/step - loss: 219.3219 - val_loss: 1102.3535\n",
      "Epoch 222/500\n",
      "19/19 [==============================] - 0s 18ms/step - loss: 217.8614 - val_loss: 1105.4004\n",
      "Epoch 223/500\n",
      "19/19 [==============================] - 0s 6ms/step - loss: 216.4499 - val_loss: 1108.4321\n",
      "Epoch 224/500\n",
      "19/19 [==============================] - 0s 5ms/step - loss: 215.0861 - val_loss: 1111.4475\n",
      "Epoch 225/500\n",
      "19/19 [==============================] - 0s 6ms/step - loss: 213.7688 - val_loss: 1114.4456\n",
      "Epoch 226/500\n",
      "19/19 [==============================] - 0s 6ms/step - loss: 212.4967 - val_loss: 1117.4254\n",
      "Epoch 227/500\n",
      "19/19 [==============================] - 0s 6ms/step - loss: 211.2686 - val_loss: 1120.3860\n",
      "Epoch 228/500\n",
      "19/19 [==============================] - 0s 6ms/step - loss: 210.0835 - val_loss: 1123.3262\n",
      "Epoch 229/500\n",
      "19/19 [==============================] - 0s 5ms/step - loss: 208.9401 - val_loss: 1126.2449\n",
      "Epoch 230/500\n",
      "19/19 [==============================] - 0s 5ms/step - loss: 207.8372 - val_loss: 1129.1418\n",
      "Epoch 231/500\n",
      "19/19 [==============================] - 0s 7ms/step - loss: 206.7737 - val_loss: 1132.0160\n",
      "Epoch 232/500\n",
      "19/19 [==============================] - 0s 7ms/step - loss: 205.7486 - val_loss: 1134.8658\n",
      "Epoch 233/500\n",
      "19/19 [==============================] - 0s 7ms/step - loss: 204.7607 - val_loss: 1137.6920\n",
      "Epoch 234/500\n",
      "19/19 [==============================] - 0s 8ms/step - loss: 203.8089 - val_loss: 1140.4919\n",
      "Epoch 235/500\n",
      "19/19 [==============================] - 0s 7ms/step - loss: 202.8923 - val_loss: 1143.2667\n",
      "Epoch 236/500\n",
      "19/19 [==============================] - 0s 7ms/step - loss: 202.0095 - val_loss: 1146.0142\n",
      "Epoch 237/500\n",
      "19/19 [==============================] - 0s 8ms/step - loss: 201.1599 - val_loss: 1148.7341\n",
      "Epoch 238/500\n",
      "19/19 [==============================] - 0s 7ms/step - loss: 200.3424 - val_loss: 1151.4261\n",
      "Epoch 239/500\n",
      "19/19 [==============================] - 0s 7ms/step - loss: 199.5560 - val_loss: 1154.0894\n",
      "Epoch 240/500\n",
      "19/19 [==============================] - 0s 6ms/step - loss: 198.7996 - val_loss: 1156.7235\n",
      "Epoch 241/500\n",
      "19/19 [==============================] - 0s 6ms/step - loss: 198.0724 - val_loss: 1159.3278\n",
      "Epoch 242/500\n",
      "19/19 [==============================] - 0s 5ms/step - loss: 197.3734 - val_loss: 1161.9016\n",
      "Epoch 243/500\n",
      "19/19 [==============================] - 0s 6ms/step - loss: 196.7018 - val_loss: 1164.4448\n",
      "Epoch 244/500\n",
      "19/19 [==============================] - 0s 6ms/step - loss: 196.0566 - val_loss: 1166.9564\n",
      "Epoch 245/500\n",
      "19/19 [==============================] - 0s 5ms/step - loss: 195.4371 - val_loss: 1169.4365\n",
      "Epoch 246/500\n",
      "19/19 [==============================] - 0s 5ms/step - loss: 194.8423 - val_loss: 1171.8844\n",
      "Epoch 247/500\n",
      "19/19 [==============================] - 0s 5ms/step - loss: 194.2714 - val_loss: 1174.2996\n",
      "Epoch 248/500\n",
      "19/19 [==============================] - 0s 5ms/step - loss: 193.7237 - val_loss: 1176.6820\n",
      "Epoch 249/500\n",
      "19/19 [==============================] - 0s 11ms/step - loss: 193.1984 - val_loss: 1179.0311\n",
      "Epoch 250/500\n",
      "19/19 [==============================] - 0s 8ms/step - loss: 192.6946 - val_loss: 1181.3467\n",
      "Epoch 251/500\n",
      "19/19 [==============================] - 0s 7ms/step - loss: 192.2117 - val_loss: 1183.6285\n",
      "Epoch 252/500\n",
      "19/19 [==============================] - 0s 6ms/step - loss: 191.7489 - val_loss: 1185.8768\n",
      "Epoch 253/500\n",
      "19/19 [==============================] - 0s 6ms/step - loss: 191.3054 - val_loss: 1188.0911\n",
      "Epoch 254/500\n",
      "19/19 [==============================] - 0s 5ms/step - loss: 190.8806 - val_loss: 1190.2703\n",
      "Epoch 255/500\n",
      "19/19 [==============================] - 0s 6ms/step - loss: 190.4739 - val_loss: 1192.4154\n",
      "Epoch 256/500\n",
      "19/19 [==============================] - 0s 5ms/step - loss: 190.0845 - val_loss: 1194.5259\n",
      "Epoch 257/500\n",
      "19/19 [==============================] - 0s 5ms/step - loss: 189.7119 - val_loss: 1196.6018\n",
      "Epoch 258/500\n",
      "19/19 [==============================] - 0s 6ms/step - loss: 189.3554 - val_loss: 1198.6431\n",
      "Epoch 259/500\n",
      "19/19 [==============================] - 0s 5ms/step - loss: 189.0143 - val_loss: 1200.6489\n",
      "Epoch 260/500\n",
      "19/19 [==============================] - 0s 6ms/step - loss: 188.6882 - val_loss: 1202.6199\n",
      "Epoch 261/500\n",
      "19/19 [==============================] - 0s 6ms/step - loss: 188.3766 - val_loss: 1204.5563\n",
      "Epoch 262/500\n",
      "19/19 [==============================] - 0s 6ms/step - loss: 188.0785 - val_loss: 1206.4581\n",
      "Epoch 263/500\n",
      "19/19 [==============================] - 0s 6ms/step - loss: 187.7939 - val_loss: 1208.3243\n",
      "Epoch 264/500\n",
      "19/19 [==============================] - 0s 6ms/step - loss: 187.5219 - val_loss: 1210.1566\n",
      "Epoch 265/500\n",
      "19/19 [==============================] - 0s 6ms/step - loss: 187.2622 - val_loss: 1211.9535\n",
      "Epoch 266/500\n",
      "19/19 [==============================] - 0s 5ms/step - loss: 187.0143 - val_loss: 1213.7164\n",
      "Epoch 267/500\n",
      "19/19 [==============================] - 0s 9ms/step - loss: 186.7776 - val_loss: 1215.4451\n",
      "Epoch 268/500\n",
      "19/19 [==============================] - 0s 9ms/step - loss: 186.5517 - val_loss: 1217.1388\n",
      "Epoch 269/500\n",
      "19/19 [==============================] - 0s 9ms/step - loss: 186.3362 - val_loss: 1218.7993\n",
      "Epoch 270/500\n",
      "19/19 [==============================] - 0s 8ms/step - loss: 186.1306 - val_loss: 1220.4250\n",
      "Epoch 271/500\n",
      "19/19 [==============================] - 0s 8ms/step - loss: 185.9347 - val_loss: 1222.0177\n",
      "Epoch 272/500\n",
      "19/19 [==============================] - 0s 8ms/step - loss: 185.7478 - val_loss: 1223.5764\n",
      "Epoch 273/500\n",
      "19/19 [==============================] - 0s 10ms/step - loss: 185.5696 - val_loss: 1225.1021\n",
      "Epoch 274/500\n",
      "19/19 [==============================] - 0s 11ms/step - loss: 185.3998 - val_loss: 1226.5947\n",
      "Epoch 275/500\n",
      "19/19 [==============================] - 0s 7ms/step - loss: 185.2381 - val_loss: 1228.0546\n",
      "Epoch 276/500\n",
      "19/19 [==============================] - 0s 7ms/step - loss: 185.0841 - val_loss: 1229.4827\n",
      "Epoch 277/500\n",
      "19/19 [==============================] - 0s 6ms/step - loss: 184.9372 - val_loss: 1230.8781\n",
      "Epoch 278/500\n",
      "19/19 [==============================] - 0s 6ms/step - loss: 184.7975 - val_loss: 1232.2423\n",
      "Epoch 279/500\n",
      "19/19 [==============================] - 0s 6ms/step - loss: 184.6644 - val_loss: 1233.5742\n",
      "Epoch 280/500\n",
      "19/19 [==============================] - 0s 6ms/step - loss: 184.5378 - val_loss: 1234.8756\n",
      "Epoch 281/500\n",
      "19/19 [==============================] - 0s 6ms/step - loss: 184.4173 - val_loss: 1236.1460\n",
      "Epoch 282/500\n",
      "19/19 [==============================] - 0s 5ms/step - loss: 184.3025 - val_loss: 1237.3867\n",
      "Epoch 283/500\n",
      "19/19 [==============================] - 0s 5ms/step - loss: 184.1934 - val_loss: 1238.5967\n",
      "Epoch 284/500\n",
      "19/19 [==============================] - 0s 5ms/step - loss: 184.0896 - val_loss: 1239.7771\n",
      "Epoch 285/500\n",
      "19/19 [==============================] - 0s 5ms/step - loss: 183.9909 - val_loss: 1240.9290\n",
      "Epoch 286/500\n",
      "19/19 [==============================] - 0s 5ms/step - loss: 183.8969 - val_loss: 1242.0515\n",
      "Epoch 287/500\n",
      "19/19 [==============================] - 0s 5ms/step - loss: 183.8077 - val_loss: 1243.1453\n",
      "Epoch 288/500\n",
      "19/19 [==============================] - 0s 6ms/step - loss: 183.7227 - val_loss: 1244.2117\n",
      "Epoch 289/500\n",
      "19/19 [==============================] - 0s 5ms/step - loss: 183.6420 - val_loss: 1245.2504\n",
      "Epoch 290/500\n",
      "19/19 [==============================] - 0s 5ms/step - loss: 183.5654 - val_loss: 1246.2617\n",
      "Epoch 291/500\n",
      "19/19 [==============================] - 0s 5ms/step - loss: 183.4924 - val_loss: 1247.2467\n",
      "Epoch 292/500\n",
      "19/19 [==============================] - 0s 5ms/step - loss: 183.4231 - val_loss: 1248.2050\n",
      "Epoch 293/500\n",
      "19/19 [==============================] - 0s 5ms/step - loss: 183.3573 - val_loss: 1249.1375\n",
      "Epoch 294/500\n",
      "19/19 [==============================] - 0s 5ms/step - loss: 183.2947 - val_loss: 1250.0446\n",
      "Epoch 295/500\n",
      "19/19 [==============================] - 0s 5ms/step - loss: 183.2353 - val_loss: 1250.9269\n",
      "Epoch 296/500\n",
      "19/19 [==============================] - 0s 6ms/step - loss: 183.1788 - val_loss: 1251.7844\n",
      "Epoch 297/500\n",
      "19/19 [==============================] - 0s 5ms/step - loss: 183.1252 - val_loss: 1252.6185\n",
      "Epoch 298/500\n",
      "19/19 [==============================] - 0s 5ms/step - loss: 183.0742 - val_loss: 1253.4283\n",
      "Epoch 299/500\n",
      "19/19 [==============================] - 0s 5ms/step - loss: 183.0258 - val_loss: 1254.2152\n",
      "Epoch 300/500\n",
      "19/19 [==============================] - 0s 12ms/step - loss: 182.9799 - val_loss: 1254.9797\n",
      "Epoch 301/500\n",
      "19/19 [==============================] - 0s 5ms/step - loss: 182.9362 - val_loss: 1255.7218\n",
      "Epoch 302/500\n",
      "19/19 [==============================] - 0s 6ms/step - loss: 182.8947 - val_loss: 1256.4419\n",
      "Epoch 303/500\n",
      "19/19 [==============================] - 0s 6ms/step - loss: 182.8553 - val_loss: 1257.1411\n",
      "Epoch 304/500\n",
      "19/19 [==============================] - 0s 5ms/step - loss: 182.8179 - val_loss: 1257.8190\n",
      "Epoch 305/500\n",
      "19/19 [==============================] - 0s 5ms/step - loss: 182.7824 - val_loss: 1258.4769\n",
      "Epoch 306/500\n",
      "19/19 [==============================] - 0s 6ms/step - loss: 182.7486 - val_loss: 1259.1145\n",
      "Epoch 307/500\n",
      "19/19 [==============================] - 0s 6ms/step - loss: 182.7166 - val_loss: 1259.7325\n",
      "Epoch 308/500\n",
      "19/19 [==============================] - 0s 5ms/step - loss: 182.6861 - val_loss: 1260.3318\n",
      "Epoch 309/500\n",
      "19/19 [==============================] - 0s 5ms/step - loss: 182.6573 - val_loss: 1260.9126\n",
      "Epoch 310/500\n",
      "19/19 [==============================] - 0s 5ms/step - loss: 182.6298 - val_loss: 1261.4742\n",
      "Epoch 311/500\n",
      "19/19 [==============================] - 0s 5ms/step - loss: 182.6037 - val_loss: 1262.0189\n",
      "Epoch 312/500\n",
      "19/19 [==============================] - 0s 5ms/step - loss: 182.5789 - val_loss: 1262.5463\n",
      "Epoch 313/500\n",
      "19/19 [==============================] - 0s 5ms/step - loss: 182.5554 - val_loss: 1263.0565\n",
      "Epoch 314/500\n",
      "19/19 [==============================] - 0s 5ms/step - loss: 182.5331 - val_loss: 1263.5507\n",
      "Epoch 315/500\n",
      "19/19 [==============================] - 0s 5ms/step - loss: 182.5118 - val_loss: 1264.0283\n",
      "Epoch 316/500\n",
      "19/19 [==============================] - 0s 5ms/step - loss: 182.4916 - val_loss: 1264.4900\n",
      "Epoch 317/500\n",
      "19/19 [==============================] - 0s 6ms/step - loss: 182.4725 - val_loss: 1264.9369\n",
      "Epoch 318/500\n",
      "19/19 [==============================] - 0s 6ms/step - loss: 182.4544 - val_loss: 1265.3690\n",
      "Epoch 319/500\n",
      "19/19 [==============================] - 0s 5ms/step - loss: 182.4370 - val_loss: 1265.7864\n",
      "Epoch 320/500\n",
      "19/19 [==============================] - 0s 5ms/step - loss: 182.4206 - val_loss: 1266.1898\n",
      "Epoch 321/500\n",
      "19/19 [==============================] - 0s 5ms/step - loss: 182.4049 - val_loss: 1266.5795\n",
      "Epoch 322/500\n",
      "19/19 [==============================] - 0s 5ms/step - loss: 182.3901 - val_loss: 1266.9562\n",
      "Epoch 323/500\n",
      "19/19 [==============================] - 0s 5ms/step - loss: 182.3760 - val_loss: 1267.3195\n",
      "Epoch 324/500\n",
      "19/19 [==============================] - 0s 12ms/step - loss: 182.3626 - val_loss: 1267.6707\n",
      "Epoch 325/500\n",
      "19/19 [==============================] - 0s 5ms/step - loss: 182.3499 - val_loss: 1268.0092\n",
      "Epoch 326/500\n",
      "19/19 [==============================] - 0s 9ms/step - loss: 182.3377 - val_loss: 1268.3361\n",
      "Epoch 327/500\n",
      "19/19 [==============================] - 0s 6ms/step - loss: 182.3262 - val_loss: 1268.6514\n",
      "Epoch 328/500\n",
      "19/19 [==============================] - 0s 6ms/step - loss: 182.3153 - val_loss: 1268.9553\n",
      "Epoch 329/500\n",
      "19/19 [==============================] - 0s 6ms/step - loss: 182.3049 - val_loss: 1269.2489\n",
      "Epoch 330/500\n",
      "19/19 [==============================] - 0s 6ms/step - loss: 182.2950 - val_loss: 1269.5316\n",
      "Epoch 331/500\n",
      "19/19 [==============================] - 0s 5ms/step - loss: 182.2856 - val_loss: 1269.8040\n",
      "Epoch 332/500\n",
      "19/19 [==============================] - 0s 6ms/step - loss: 182.2766 - val_loss: 1270.0667\n",
      "Epoch 333/500\n",
      "19/19 [==============================] - 0s 5ms/step - loss: 182.2681 - val_loss: 1270.3199\n",
      "Epoch 334/500\n",
      "19/19 [==============================] - 0s 6ms/step - loss: 182.2599 - val_loss: 1270.5635\n",
      "Epoch 335/500\n",
      "19/19 [==============================] - 0s 6ms/step - loss: 182.2523 - val_loss: 1270.7986\n",
      "Epoch 336/500\n",
      "19/19 [==============================] - 0s 6ms/step - loss: 182.2449 - val_loss: 1271.0244\n",
      "Epoch 337/500\n",
      "19/19 [==============================] - 0s 6ms/step - loss: 182.2380 - val_loss: 1271.2424\n",
      "Epoch 338/500\n",
      "19/19 [==============================] - 0s 5ms/step - loss: 182.2314 - val_loss: 1271.4520\n",
      "Epoch 339/500\n",
      "19/19 [==============================] - 0s 5ms/step - loss: 182.2251 - val_loss: 1271.6539\n",
      "Epoch 340/500\n",
      "19/19 [==============================] - 0s 5ms/step - loss: 182.2191 - val_loss: 1271.8483\n",
      "Epoch 341/500\n",
      "19/19 [==============================] - 0s 5ms/step - loss: 182.2133 - val_loss: 1272.0343\n",
      "Epoch 342/500\n",
      "19/19 [==============================] - 0s 5ms/step - loss: 182.2080 - val_loss: 1272.2136\n",
      "Epoch 343/500\n",
      "19/19 [==============================] - 0s 6ms/step - loss: 182.2028 - val_loss: 1272.3864\n",
      "Epoch 344/500\n",
      "19/19 [==============================] - 0s 6ms/step - loss: 182.1979 - val_loss: 1272.5526\n",
      "Epoch 345/500\n",
      "19/19 [==============================] - 0s 6ms/step - loss: 182.1932 - val_loss: 1272.7118\n",
      "Epoch 346/500\n",
      "19/19 [==============================] - 0s 12ms/step - loss: 182.1888 - val_loss: 1272.8647\n",
      "Epoch 347/500\n",
      "19/19 [==============================] - 0s 6ms/step - loss: 182.1845 - val_loss: 1273.0121\n",
      "Epoch 348/500\n",
      "19/19 [==============================] - 0s 6ms/step - loss: 182.1805 - val_loss: 1273.1533\n",
      "Epoch 349/500\n",
      "19/19 [==============================] - 0s 6ms/step - loss: 182.1767 - val_loss: 1273.2894\n",
      "Epoch 350/500\n",
      "19/19 [==============================] - 0s 6ms/step - loss: 182.1731 - val_loss: 1273.4197\n",
      "Epoch 351/500\n",
      "19/19 [==============================] - 0s 6ms/step - loss: 182.1696 - val_loss: 1273.5450\n",
      "Epoch 352/500\n",
      "19/19 [==============================] - 0s 5ms/step - loss: 182.1663 - val_loss: 1273.6650\n",
      "Epoch 353/500\n",
      "19/19 [==============================] - 0s 6ms/step - loss: 182.1633 - val_loss: 1273.7806\n",
      "Epoch 354/500\n",
      "19/19 [==============================] - 0s 5ms/step - loss: 182.1602 - val_loss: 1273.8917\n",
      "Epoch 355/500\n",
      "19/19 [==============================] - 0s 5ms/step - loss: 182.1574 - val_loss: 1273.9984\n",
      "Epoch 356/500\n",
      "19/19 [==============================] - 0s 5ms/step - loss: 182.1546 - val_loss: 1274.1006\n",
      "Epoch 357/500\n",
      "19/19 [==============================] - 0s 5ms/step - loss: 182.1521 - val_loss: 1274.1985\n",
      "Epoch 358/500\n",
      "19/19 [==============================] - 0s 5ms/step - loss: 182.1497 - val_loss: 1274.2920\n",
      "Epoch 359/500\n",
      "19/19 [==============================] - 0s 5ms/step - loss: 182.1474 - val_loss: 1274.3817\n",
      "Epoch 360/500\n",
      "19/19 [==============================] - 0s 5ms/step - loss: 182.1452 - val_loss: 1274.4684\n",
      "Epoch 361/500\n",
      "19/19 [==============================] - 0s 5ms/step - loss: 182.1431 - val_loss: 1274.5510\n",
      "Epoch 362/500\n",
      "19/19 [==============================] - 0s 6ms/step - loss: 182.1411 - val_loss: 1274.6306\n",
      "Epoch 363/500\n",
      "19/19 [==============================] - 0s 6ms/step - loss: 182.1392 - val_loss: 1274.7063\n",
      "Epoch 364/500\n",
      "19/19 [==============================] - 0s 5ms/step - loss: 182.1374 - val_loss: 1274.7788\n",
      "Epoch 365/500\n",
      "19/19 [==============================] - 0s 6ms/step - loss: 182.1357 - val_loss: 1274.8485\n",
      "Epoch 366/500\n",
      "19/19 [==============================] - 0s 5ms/step - loss: 182.1341 - val_loss: 1274.9148\n",
      "Epoch 367/500\n",
      "19/19 [==============================] - 0s 5ms/step - loss: 182.1326 - val_loss: 1274.9794\n",
      "Epoch 368/500\n",
      "19/19 [==============================] - 0s 12ms/step - loss: 182.1311 - val_loss: 1275.0402\n",
      "Epoch 369/500\n",
      "19/19 [==============================] - 0s 6ms/step - loss: 182.1297 - val_loss: 1275.0988\n",
      "Epoch 370/500\n",
      "19/19 [==============================] - 0s 6ms/step - loss: 182.1284 - val_loss: 1275.1544\n",
      "Epoch 371/500\n",
      "19/19 [==============================] - 0s 6ms/step - loss: 182.1272 - val_loss: 1275.2087\n",
      "Epoch 372/500\n",
      "19/19 [==============================] - 0s 6ms/step - loss: 182.1260 - val_loss: 1275.2603\n",
      "Epoch 373/500\n",
      "19/19 [==============================] - 0s 6ms/step - loss: 182.1249 - val_loss: 1275.3092\n",
      "Epoch 374/500\n",
      "19/19 [==============================] - 0s 6ms/step - loss: 182.1238 - val_loss: 1275.3562\n",
      "Epoch 375/500\n",
      "19/19 [==============================] - 0s 5ms/step - loss: 182.1228 - val_loss: 1275.4010\n",
      "Epoch 376/500\n",
      "19/19 [==============================] - 0s 5ms/step - loss: 182.1219 - val_loss: 1275.4437\n",
      "Epoch 377/500\n",
      "19/19 [==============================] - 0s 5ms/step - loss: 182.1209 - val_loss: 1275.4849\n",
      "Epoch 378/500\n",
      "19/19 [==============================] - 0s 5ms/step - loss: 182.1202 - val_loss: 1275.5245\n",
      "Epoch 379/500\n",
      "19/19 [==============================] - 0s 5ms/step - loss: 182.1194 - val_loss: 1275.5623\n",
      "Epoch 380/500\n",
      "19/19 [==============================] - 0s 6ms/step - loss: 182.1186 - val_loss: 1275.5985\n",
      "Epoch 381/500\n",
      "19/19 [==============================] - 0s 6ms/step - loss: 182.1178 - val_loss: 1275.6329\n",
      "Epoch 382/500\n",
      "19/19 [==============================] - 0s 6ms/step - loss: 182.1171 - val_loss: 1275.6659\n",
      "Epoch 383/500\n",
      "19/19 [==============================] - 0s 6ms/step - loss: 182.1165 - val_loss: 1275.6969\n",
      "Epoch 384/500\n",
      "19/19 [==============================] - 0s 6ms/step - loss: 182.1160 - val_loss: 1275.7277\n",
      "Epoch 385/500\n",
      "19/19 [==============================] - 0s 5ms/step - loss: 182.1153 - val_loss: 1275.7560\n",
      "Epoch 386/500\n",
      "19/19 [==============================] - 0s 5ms/step - loss: 182.1148 - val_loss: 1275.7831\n",
      "Epoch 387/500\n",
      "19/19 [==============================] - 0s 6ms/step - loss: 182.1143 - val_loss: 1275.8092\n",
      "Epoch 388/500\n",
      "19/19 [==============================] - 0s 6ms/step - loss: 182.1138 - val_loss: 1275.8341\n",
      "Epoch 389/500\n",
      "19/19 [==============================] - 0s 6ms/step - loss: 182.1134 - val_loss: 1275.8582\n",
      "Epoch 390/500\n",
      "19/19 [==============================] - 0s 6ms/step - loss: 182.1129 - val_loss: 1275.8806\n",
      "Epoch 391/500\n",
      "19/19 [==============================] - 0s 11ms/step - loss: 182.1125 - val_loss: 1275.9023\n",
      "Epoch 392/500\n",
      "19/19 [==============================] - 0s 6ms/step - loss: 182.1122 - val_loss: 1275.9227\n",
      "Epoch 393/500\n",
      "19/19 [==============================] - 0s 6ms/step - loss: 182.1119 - val_loss: 1275.9430\n",
      "Epoch 394/500\n",
      "19/19 [==============================] - 0s 6ms/step - loss: 182.1115 - val_loss: 1275.9620\n",
      "Epoch 395/500\n",
      "19/19 [==============================] - 0s 5ms/step - loss: 182.1112 - val_loss: 1275.9803\n",
      "Epoch 396/500\n",
      "19/19 [==============================] - 0s 6ms/step - loss: 182.1109 - val_loss: 1275.9976\n",
      "Epoch 397/500\n",
      "19/19 [==============================] - 0s 6ms/step - loss: 182.1107 - val_loss: 1276.0140\n",
      "Epoch 398/500\n",
      "19/19 [==============================] - 0s 6ms/step - loss: 182.1104 - val_loss: 1276.0304\n",
      "Epoch 399/500\n",
      "19/19 [==============================] - 0s 6ms/step - loss: 182.1101 - val_loss: 1276.0446\n",
      "Epoch 400/500\n",
      "19/19 [==============================] - 0s 6ms/step - loss: 182.1100 - val_loss: 1276.0593\n",
      "Epoch 401/500\n",
      "19/19 [==============================] - 0s 8ms/step - loss: 182.1097 - val_loss: 1276.0731\n",
      "Epoch 402/500\n",
      "19/19 [==============================] - 0s 6ms/step - loss: 182.1095 - val_loss: 1276.0862\n",
      "Epoch 403/500\n",
      "19/19 [==============================] - 0s 5ms/step - loss: 182.1094 - val_loss: 1276.0986\n",
      "Epoch 404/500\n",
      "19/19 [==============================] - 0s 5ms/step - loss: 182.1092 - val_loss: 1276.1102\n",
      "Epoch 405/500\n",
      "19/19 [==============================] - 0s 5ms/step - loss: 182.1091 - val_loss: 1276.1221\n",
      "Epoch 406/500\n",
      "19/19 [==============================] - 0s 5ms/step - loss: 182.1089 - val_loss: 1276.1324\n",
      "Epoch 407/500\n",
      "19/19 [==============================] - 0s 8ms/step - loss: 182.1088 - val_loss: 1276.1431\n",
      "Epoch 408/500\n",
      "19/19 [==============================] - 0s 5ms/step - loss: 182.1086 - val_loss: 1276.1526\n",
      "Epoch 409/500\n",
      "19/19 [==============================] - 0s 6ms/step - loss: 182.1086 - val_loss: 1276.1617\n",
      "Epoch 410/500\n",
      "19/19 [==============================] - 0s 6ms/step - loss: 182.1085 - val_loss: 1276.1713\n",
      "Epoch 411/500\n",
      "19/19 [==============================] - 0s 6ms/step - loss: 182.1083 - val_loss: 1276.1794\n",
      "Epoch 412/500\n",
      "19/19 [==============================] - 0s 6ms/step - loss: 182.1083 - val_loss: 1276.1873\n",
      "Epoch 413/500\n",
      "19/19 [==============================] - 0s 11ms/step - loss: 182.1082 - val_loss: 1276.1949\n",
      "Epoch 414/500\n",
      "19/19 [==============================] - 0s 6ms/step - loss: 182.1082 - val_loss: 1276.2020\n",
      "Epoch 415/500\n",
      "19/19 [==============================] - 0s 6ms/step - loss: 182.1081 - val_loss: 1276.2091\n",
      "Epoch 416/500\n",
      "19/19 [==============================] - 0s 6ms/step - loss: 182.1081 - val_loss: 1276.2156\n",
      "Epoch 417/500\n",
      "19/19 [==============================] - 0s 6ms/step - loss: 182.1081 - val_loss: 1276.2223\n",
      "Epoch 418/500\n",
      "19/19 [==============================] - 0s 6ms/step - loss: 182.1080 - val_loss: 1276.2284\n",
      "Epoch 419/500\n",
      "19/19 [==============================] - 0s 5ms/step - loss: 182.1079 - val_loss: 1276.2340\n",
      "Epoch 420/500\n",
      "19/19 [==============================] - 0s 5ms/step - loss: 182.1079 - val_loss: 1276.2397\n",
      "Epoch 421/500\n",
      "19/19 [==============================] - 0s 5ms/step - loss: 182.1079 - val_loss: 1276.2446\n",
      "Epoch 422/500\n",
      "19/19 [==============================] - 0s 5ms/step - loss: 182.1079 - val_loss: 1276.2494\n",
      "Epoch 423/500\n",
      "19/19 [==============================] - 0s 5ms/step - loss: 182.1079 - val_loss: 1276.2545\n",
      "Epoch 424/500\n",
      "19/19 [==============================] - 0s 5ms/step - loss: 182.1078 - val_loss: 1276.2589\n",
      "Epoch 425/500\n",
      "19/19 [==============================] - 0s 6ms/step - loss: 182.1079 - val_loss: 1276.2632\n",
      "Epoch 426/500\n",
      "19/19 [==============================] - 0s 6ms/step - loss: 182.1079 - val_loss: 1276.2671\n",
      "Epoch 427/500\n",
      "19/19 [==============================] - 0s 6ms/step - loss: 182.1078 - val_loss: 1276.2698\n",
      "Epoch 428/500\n",
      "19/19 [==============================] - 0s 12ms/step - loss: 182.1079 - val_loss: 1276.2742\n",
      "Epoch 429/500\n",
      "19/19 [==============================] - 0s 6ms/step - loss: 182.1079 - val_loss: 1276.2780\n",
      "Epoch 430/500\n",
      "19/19 [==============================] - 0s 6ms/step - loss: 182.1079 - val_loss: 1276.2816\n",
      "Epoch 431/500\n",
      "19/19 [==============================] - 0s 7ms/step - loss: 182.1079 - val_loss: 1276.2844\n",
      "Epoch 432/500\n",
      "19/19 [==============================] - 0s 6ms/step - loss: 182.1080 - val_loss: 1276.2874\n",
      "Epoch 433/500\n",
      "19/19 [==============================] - 0s 6ms/step - loss: 182.1080 - val_loss: 1276.2909\n",
      "Epoch 434/500\n",
      "19/19 [==============================] - 0s 6ms/step - loss: 182.1080 - val_loss: 1276.2931\n",
      "Epoch 435/500\n",
      "19/19 [==============================] - 0s 6ms/step - loss: 182.1080 - val_loss: 1276.2955\n",
      "Epoch 436/500\n",
      "19/19 [==============================] - 0s 5ms/step - loss: 182.1080 - val_loss: 1276.2983\n",
      "Epoch 437/500\n",
      "19/19 [==============================] - 0s 6ms/step - loss: 182.1080 - val_loss: 1276.3005\n",
      "Epoch 438/500\n",
      "19/19 [==============================] - 0s 5ms/step - loss: 182.1081 - val_loss: 1276.3029\n",
      "Epoch 439/500\n",
      "19/19 [==============================] - 0s 6ms/step - loss: 182.1082 - val_loss: 1276.3051\n",
      "Epoch 440/500\n",
      "19/19 [==============================] - 0s 5ms/step - loss: 182.1082 - val_loss: 1276.3073\n",
      "Epoch 441/500\n",
      "19/19 [==============================] - 0s 6ms/step - loss: 182.1082 - val_loss: 1276.3096\n",
      "Epoch 442/500\n",
      "19/19 [==============================] - 0s 5ms/step - loss: 182.1082 - val_loss: 1276.3113\n",
      "Epoch 443/500\n",
      "19/19 [==============================] - 0s 5ms/step - loss: 182.1083 - val_loss: 1276.3130\n",
      "Epoch 444/500\n",
      "19/19 [==============================] - 0s 5ms/step - loss: 182.1083 - val_loss: 1276.3149\n",
      "Epoch 445/500\n",
      "19/19 [==============================] - 0s 5ms/step - loss: 182.1083 - val_loss: 1276.3163\n",
      "Epoch 446/500\n",
      "19/19 [==============================] - 0s 5ms/step - loss: 182.1083 - val_loss: 1276.3173\n",
      "Epoch 447/500\n",
      "19/19 [==============================] - 0s 5ms/step - loss: 182.1084 - val_loss: 1276.3188\n",
      "Epoch 448/500\n",
      "19/19 [==============================] - 0s 5ms/step - loss: 182.1085 - val_loss: 1276.3199\n",
      "Epoch 449/500\n",
      "19/19 [==============================] - 0s 5ms/step - loss: 182.1085 - val_loss: 1276.3208\n",
      "Epoch 450/500\n",
      "19/19 [==============================] - 0s 10ms/step - loss: 182.1085 - val_loss: 1276.3230\n",
      "Epoch 451/500\n",
      "19/19 [==============================] - 0s 6ms/step - loss: 182.1086 - val_loss: 1276.3241\n",
      "Epoch 452/500\n",
      "19/19 [==============================] - 0s 6ms/step - loss: 182.1086 - val_loss: 1276.3246\n",
      "Epoch 453/500\n",
      "19/19 [==============================] - 0s 6ms/step - loss: 182.1087 - val_loss: 1276.3254\n",
      "Epoch 454/500\n",
      "19/19 [==============================] - 0s 6ms/step - loss: 182.1087 - val_loss: 1276.3267\n",
      "Epoch 455/500\n",
      "19/19 [==============================] - 0s 6ms/step - loss: 182.1087 - val_loss: 1276.3275\n",
      "Epoch 456/500\n",
      "19/19 [==============================] - 0s 6ms/step - loss: 182.1088 - val_loss: 1276.3287\n",
      "Epoch 457/500\n",
      "19/19 [==============================] - 0s 5ms/step - loss: 182.1088 - val_loss: 1276.3298\n",
      "Epoch 458/500\n",
      "19/19 [==============================] - 0s 5ms/step - loss: 182.1088 - val_loss: 1276.3306\n",
      "Epoch 459/500\n",
      "19/19 [==============================] - 0s 6ms/step - loss: 182.1089 - val_loss: 1276.3315\n",
      "Epoch 460/500\n",
      "19/19 [==============================] - 0s 6ms/step - loss: 182.1089 - val_loss: 1276.3323\n",
      "Epoch 461/500\n",
      "19/19 [==============================] - 0s 6ms/step - loss: 182.1090 - val_loss: 1276.3328\n",
      "Epoch 462/500\n",
      "19/19 [==============================] - 0s 6ms/step - loss: 182.1090 - val_loss: 1276.3335\n",
      "Epoch 463/500\n",
      "19/19 [==============================] - 0s 5ms/step - loss: 182.1091 - val_loss: 1276.3345\n",
      "Epoch 464/500\n",
      "19/19 [==============================] - 0s 5ms/step - loss: 182.1091 - val_loss: 1276.3350\n",
      "Epoch 465/500\n",
      "19/19 [==============================] - 0s 6ms/step - loss: 182.1091 - val_loss: 1276.3358\n",
      "Epoch 466/500\n",
      "19/19 [==============================] - 0s 5ms/step - loss: 182.1091 - val_loss: 1276.3361\n",
      "Epoch 467/500\n",
      "19/19 [==============================] - 0s 6ms/step - loss: 182.1092 - val_loss: 1276.3363\n",
      "Epoch 468/500\n",
      "19/19 [==============================] - 0s 6ms/step - loss: 182.1093 - val_loss: 1276.3367\n",
      "Epoch 469/500\n",
      "19/19 [==============================] - 0s 6ms/step - loss: 182.1093 - val_loss: 1276.3374\n",
      "Epoch 470/500\n",
      "19/19 [==============================] - 0s 12ms/step - loss: 182.1093 - val_loss: 1276.3378\n",
      "Epoch 471/500\n",
      "19/19 [==============================] - 0s 7ms/step - loss: 182.1094 - val_loss: 1276.3387\n",
      "Epoch 472/500\n",
      "19/19 [==============================] - 0s 6ms/step - loss: 182.1094 - val_loss: 1276.3391\n",
      "Epoch 473/500\n",
      "19/19 [==============================] - 0s 6ms/step - loss: 182.1095 - val_loss: 1276.3398\n",
      "Epoch 474/500\n",
      "19/19 [==============================] - 0s 6ms/step - loss: 182.1095 - val_loss: 1276.3398\n",
      "Epoch 475/500\n",
      "19/19 [==============================] - 0s 6ms/step - loss: 182.1096 - val_loss: 1276.3400\n",
      "Epoch 476/500\n",
      "19/19 [==============================] - 0s 5ms/step - loss: 182.1096 - val_loss: 1276.3405\n",
      "Epoch 477/500\n",
      "19/19 [==============================] - 0s 5ms/step - loss: 182.1096 - val_loss: 1276.3411\n",
      "Epoch 478/500\n",
      "19/19 [==============================] - 0s 5ms/step - loss: 182.1096 - val_loss: 1276.3413\n",
      "Epoch 479/500\n",
      "19/19 [==============================] - 0s 4ms/step - loss: 182.1096 - val_loss: 1276.3413\n",
      "Epoch 480/500\n",
      "19/19 [==============================] - 0s 6ms/step - loss: 182.1097 - val_loss: 1276.3414\n",
      "Epoch 481/500\n",
      "19/19 [==============================] - 0s 6ms/step - loss: 182.1097 - val_loss: 1276.3416\n",
      "Epoch 482/500\n",
      "19/19 [==============================] - 0s 6ms/step - loss: 182.1098 - val_loss: 1276.3420\n",
      "Epoch 483/500\n",
      "19/19 [==============================] - 0s 5ms/step - loss: 182.1098 - val_loss: 1276.3423\n",
      "Epoch 484/500\n",
      "19/19 [==============================] - 0s 6ms/step - loss: 182.1099 - val_loss: 1276.3427\n",
      "Epoch 485/500\n",
      "19/19 [==============================] - 0s 5ms/step - loss: 182.1099 - val_loss: 1276.3429\n",
      "Epoch 486/500\n",
      "19/19 [==============================] - 0s 5ms/step - loss: 182.1099 - val_loss: 1276.3434\n",
      "Epoch 487/500\n",
      "19/19 [==============================] - 0s 5ms/step - loss: 182.1099 - val_loss: 1276.3438\n",
      "Epoch 488/500\n",
      "19/19 [==============================] - 0s 6ms/step - loss: 182.1099 - val_loss: 1276.3440\n",
      "Epoch 489/500\n",
      "19/19 [==============================] - 0s 5ms/step - loss: 182.1099 - val_loss: 1276.3440\n",
      "Epoch 490/500\n",
      "19/19 [==============================] - 0s 12ms/step - loss: 182.1100 - val_loss: 1276.3440\n",
      "Epoch 491/500\n",
      "19/19 [==============================] - 0s 6ms/step - loss: 182.1100 - val_loss: 1276.3440\n",
      "Epoch 492/500\n",
      "19/19 [==============================] - 0s 6ms/step - loss: 182.1101 - val_loss: 1276.3441\n",
      "Epoch 493/500\n",
      "19/19 [==============================] - 0s 6ms/step - loss: 182.1101 - val_loss: 1276.3441\n",
      "Epoch 494/500\n",
      "19/19 [==============================] - 0s 6ms/step - loss: 182.1101 - val_loss: 1276.3444\n",
      "Epoch 495/500\n",
      "19/19 [==============================] - 0s 6ms/step - loss: 182.1102 - val_loss: 1276.3446\n",
      "Epoch 496/500\n",
      "19/19 [==============================] - 0s 5ms/step - loss: 182.1102 - val_loss: 1276.3448\n",
      "Epoch 497/500\n",
      "19/19 [==============================] - 0s 5ms/step - loss: 182.1103 - val_loss: 1276.3455\n",
      "Epoch 498/500\n",
      "19/19 [==============================] - 0s 5ms/step - loss: 182.1103 - val_loss: 1276.3456\n",
      "Epoch 499/500\n",
      "19/19 [==============================] - 0s 5ms/step - loss: 182.1103 - val_loss: 1276.3461\n",
      "Epoch 500/500\n",
      "19/19 [==============================] - 0s 5ms/step - loss: 182.1103 - val_loss: 1276.3466\n"
     ]
    }
   ],
   "source": [
    "C0 = tf.Variable(86.8407, name=\"C0\", trainable=True, dtype=tf.float32)\n",
    "K0 = tf.Variable(-0.0015, name=\"K0\", trainable=True, dtype=tf.float32)\n",
    "K1 = tf.Variable(-0.0001, name=\"K1\", trainable=True, dtype=tf.float32)\n",
    "a = tf.Variable(0.0000, name=\"a\", trainable=True, dtype=tf.float32)\n",
    "b = tf.Variable(0.0118, name=\"b\", trainable=True, dtype=tf.float32)\n",
    "c = tf.Variable(2.5775, name=\"c\", trainable=True, dtype=tf.float32)\n",
    "\n",
    "splitr = 0.8\n",
    "\n",
    "\n",
    "def loss_fn(y_true, y_pred):\n",
    "    squared_difference = tf.square(y_true[:, 0] - y_pred[:, 0])\n",
    "    #squared_difference2 = tf.square(y_true[:, 2]-y_pred[:, 2])\n",
    "    #squared_difference1 = tf.square(y_true[:, 1]-y_pred[:, 1])\n",
    "    epsilon = 1\n",
    "    squared_difference3 = tf.square(\n",
    "        y_pred[:, 1] - (\n",
    "            y_pred[:, 0] * (\n",
    "                K0 - K1 * (\n",
    "                    9 * a * tf.math.log((y_pred[:, 0] + epsilon) / C0) / (K0 - K1 * c)**2 +\n",
    "                    4 * b * tf.math.log((y_pred[:, 0] + epsilon) / C0) / (K0 - K1 * c) + c\n",
    "                )\n",
    "            )\n",
    "        )\n",
    "    )\n",
    "    return tf.reduce_mean(squared_difference, axis=-1) + 0.2*tf.reduce_mean(squared_difference3, axis=-1)\n",
    "model = Sequential()\n",
    "model.add(LSTM(100, input_shape=(trainX.shape[1], trainX.shape[2])))\n",
    "model.add(Dense(60))\n",
    "model.compile(loss=loss_fn, optimizer='adam')\n",
    "history = model.fit(trainX[:int(splitr*trainX.shape[0])], trainy[:int(splitr*trainX.shape[0])], epochs=500, batch_size=64, validation_data=(trainX[int(splitr*trainX.shape[0]):trainX.shape[0]], trainy[int(splitr*trainX.shape[0]):trainX.shape[0]]), shuffle=False)"
   ]
  },
  {
   "cell_type": "code",
   "execution_count": 19,
   "metadata": {
    "colab": {
     "base_uri": "https://localhost:8080/"
    },
    "id": "yJL101rPyuoT",
    "outputId": "239ff2b1-c186-423a-d316-939dfdd7c793"
   },
   "outputs": [
    {
     "name": "stdout",
     "output_type": "stream",
     "text": [
      "1/1 [==============================] - 0s 400ms/step\n"
     ]
    }
   ],
   "source": [
    "forecast_without_mc = forecastX\n",
    "yhat_without_mc = model.predict(forecast_without_mc) # Step Ahead Prediction\n",
    "forecast_without_mc = forecast_without_mc.reshape((forecast_without_mc.shape[0], forecast_without_mc.shape[2])) # Historical Input"
   ]
  },
  {
   "cell_type": "code",
   "execution_count": 20,
   "metadata": {
    "colab": {
     "base_uri": "https://localhost:8080/"
    },
    "id": "g9dQELcJ8wbp",
    "outputId": "4dc7671b-b1a8-48d5-8744-a86f98446109"
   },
   "outputs": [
    {
     "data": {
      "text/plain": [
       "(1, 1, 251)"
      ]
     },
     "execution_count": 20,
     "metadata": {},
     "output_type": "execute_result"
    }
   ],
   "source": [
    "forecastX.shape"
   ]
  },
  {
   "cell_type": "code",
   "execution_count": 21,
   "metadata": {
    "colab": {
     "base_uri": "https://localhost:8080/"
    },
    "id": "IS2kyIKG1Kbr",
    "outputId": "f31b3485-8e26-452f-9298-ea8bf7e80ad1"
   },
   "outputs": [
    {
     "data": {
      "text/plain": [
       "(1, 251)"
      ]
     },
     "execution_count": 21,
     "metadata": {},
     "output_type": "execute_result"
    }
   ],
   "source": [
    "forecast_without_mc.shape"
   ]
  },
  {
   "cell_type": "code",
   "execution_count": 22,
   "metadata": {
    "id": "0u6VIzaDyuoT"
   },
   "outputs": [],
   "source": [
    "inv_yhat_without_mc = np.concatenate((forecast_without_mc, yhat_without_mc), axis=1) # Concatenation of predicted values with Historical Data\n",
    "#inv_yhat_without_mc = scaler.inverse_transform(inv_yhat_without_mc) # Transform labels back to original encoding"
   ]
  },
  {
   "cell_type": "code",
   "execution_count": 23,
   "metadata": {
    "colab": {
     "base_uri": "https://localhost:8080/"
    },
    "id": "EUEcw0LX07oU",
    "outputId": "cfc32397-9c37-4b43-d087-584bb31c3dcc"
   },
   "outputs": [
    {
     "data": {
      "text/plain": [
       "(1, 311)"
      ]
     },
     "execution_count": 23,
     "metadata": {},
     "output_type": "execute_result"
    }
   ],
   "source": [
    "inv_yhat_without_mc.shape"
   ]
  },
  {
   "cell_type": "code",
   "execution_count": 24,
   "metadata": {
    "id": "31OWVbSh_305"
   },
   "outputs": [],
   "source": [
    "fforecast = inv_yhat_without_mc[:,-300:]"
   ]
  },
  {
   "cell_type": "code",
   "execution_count": 25,
   "metadata": {},
   "outputs": [
    {
     "data": {
      "text/plain": [
       "(1, 300)"
      ]
     },
     "execution_count": 25,
     "metadata": {},
     "output_type": "execute_result"
    }
   ],
   "source": [
    "fforecast.shape"
   ]
  },
  {
   "cell_type": "code",
   "execution_count": 26,
   "metadata": {
    "id": "BlpGH2FOAiRF"
   },
   "outputs": [],
   "source": [
    "final_forecast = fforecast[:,0:300:3]"
   ]
  },
  {
   "cell_type": "code",
   "execution_count": 27,
   "metadata": {},
   "outputs": [
    {
     "data": {
      "text/plain": [
       "(1, 300)"
      ]
     },
     "execution_count": 27,
     "metadata": {},
     "output_type": "execute_result"
    }
   ],
   "source": [
    "fforecast.shape"
   ]
  },
  {
   "cell_type": "code",
   "execution_count": 28,
   "metadata": {
    "id": "CXkgkj_LBk_t"
   },
   "outputs": [],
   "source": [
    "# code to replace all negative value with 0\n",
    "final_forecast[final_forecast<0] = 0"
   ]
  },
  {
   "cell_type": "code",
   "execution_count": 29,
   "metadata": {},
   "outputs": [
    {
     "data": {
      "text/plain": [
       "array([[6.96072829e+01, 6.95736695e+01, 6.95400560e+01, 6.95064426e+01,\n",
       "        6.94728291e+01, 6.94392157e+01, 6.94056022e+01, 0.00000000e+00,\n",
       "        0.00000000e+00, 0.00000000e+00, 0.00000000e+00, 0.00000000e+00,\n",
       "        0.00000000e+00, 6.98086368e+01, 6.97918301e+01, 6.97750233e+01,\n",
       "        6.97582166e+01, 6.97414099e+01, 6.97246032e+01, 6.97077965e+01,\n",
       "        6.96819795e+01, 6.96483660e+01, 6.96147526e+01, 6.95811391e+01,\n",
       "        6.95475257e+01, 6.95139122e+01, 6.94802988e+01, 6.94466853e+01,\n",
       "        6.94130719e+01, 7.34859477e+01, 7.31330065e+01, 7.27800654e+01,\n",
       "        7.24271242e+01, 7.20741830e+01, 7.16931139e+01, 7.12141223e+01,\n",
       "        7.07351307e+01, 7.02561391e+01, 0.00000000e+00, 0.00000000e+00,\n",
       "        0.00000000e+00, 2.06821650e-01, 7.42734310e-01, 2.95681090e-01,\n",
       "        0.00000000e+00, 0.00000000e+00, 1.34163260e-01, 6.95213819e+01,\n",
       "        6.94877684e+01, 6.94541550e+01, 6.94205415e+01, 7.35643791e+01,\n",
       "        7.32114379e+01, 7.28584967e+01, 7.25055556e+01, 7.21526144e+01,\n",
       "        7.17995565e+01, 7.13205649e+01, 7.08415733e+01, 7.03625817e+01,\n",
       "        0.00000000e+00, 3.97199300e-01, 7.22964052e+01, 7.21943464e+01,\n",
       "        7.21515710e+01, 7.21036718e+01, 7.20557726e+01, 7.20078735e+01,\n",
       "        7.19868394e+01, 7.19817974e+01, 7.19767554e+01, 0.00000000e+00,\n",
       "        0.00000000e+00, 6.67380219e+01, 3.09567900e-01, 0.00000000e+00,\n",
       "        2.54072500e-01, 4.72652300e-01, 0.00000000e+00, 3.07554300e-01,\n",
       "        6.92632141e+01, 3.91468704e-01, 2.20068976e-01, 1.20388903e-01,\n",
       "        0.00000000e+00, 7.15430319e-01, 0.00000000e+00, 0.00000000e+00,\n",
       "        7.43483782e-01, 0.00000000e+00, 4.02240872e-01, 1.85419559e-01,\n",
       "        0.00000000e+00, 0.00000000e+00, 0.00000000e+00, 4.21908498e-03,\n",
       "        1.58435494e-01, 0.00000000e+00, 3.13862383e-01, 0.00000000e+00]])"
      ]
     },
     "execution_count": 29,
     "metadata": {},
     "output_type": "execute_result"
    }
   ],
   "source": [
    "final_forecast"
   ]
  },
  {
   "cell_type": "code",
   "execution_count": 30,
   "metadata": {},
   "outputs": [
    {
     "data": {
      "text/plain": [
       "(1, 100)"
      ]
     },
     "execution_count": 30,
     "metadata": {},
     "output_type": "execute_result"
    }
   ],
   "source": [
    "final_forecast.shape"
   ]
  },
  {
   "cell_type": "code",
   "execution_count": 31,
   "metadata": {},
   "outputs": [
    {
     "data": {
      "text/plain": [
       "(100,)"
      ]
     },
     "execution_count": 31,
     "metadata": {},
     "output_type": "execute_result"
    }
   ],
   "source": [
    "test.shape"
   ]
  },
  {
   "cell_type": "code",
   "execution_count": 32,
   "metadata": {},
   "outputs": [],
   "source": [
    "training_set = np.array(training_set)\n",
    "test = np.array(test)\n",
    "final_forecast = np.array(final_forecast.squeeze(0))"
   ]
  },
  {
   "cell_type": "code",
   "execution_count": 33,
   "metadata": {},
   "outputs": [
    {
     "data": {
      "text/plain": [
       "array([63.78203782, 63.77503501, 63.76803221, 63.76102941, 63.75402661,\n",
       "       63.74702381, 63.74002101, 63.73301821, 63.72601541, 63.71901261,\n",
       "       63.7120098 , 63.705007  , 63.6980042 , 63.6910014 , 63.6839986 ,\n",
       "       63.6769958 , 63.669993  , 63.6629902 , 63.65598739, 63.64898459,\n",
       "       63.64198179, 63.63497899, 63.62797619, 63.62097339, 63.61397059,\n",
       "       63.60696779, 63.59996499, 63.59296218, 63.58595938, 63.57895658,\n",
       "       63.57195378, 63.56495098, 63.55794818, 63.55094538, 63.54394258,\n",
       "       63.53693978, 63.52993697, 63.52293417, 63.51593137, 63.50892857,\n",
       "       63.50192577, 63.49492297, 63.48792017, 63.48091737, 63.47391457,\n",
       "       63.46691176, 63.45990896, 63.45290616, 63.44590336, 63.43890056,\n",
       "       63.43189776, 63.42489496, 63.41789216, 63.41088936, 63.40388655,\n",
       "       63.39688375, 63.38988095, 63.38287815, 63.37587535, 63.36887255,\n",
       "       63.36186975, 63.35486695, 63.34786415, 63.34086134, 63.33385854,\n",
       "       63.32685574, 63.31985294, 63.31285014, 63.30584734, 63.29884454,\n",
       "       63.29184174, 63.28483894, 63.27783613, 63.27083333, 63.26383053,\n",
       "       63.25682773, 63.24982493, 63.24282213, 63.23581933, 63.22881653,\n",
       "       63.22181373, 63.21481092, 63.20780812, 63.20080532, 63.19380252,\n",
       "       63.18679972, 63.17979692, 63.17279412, 63.16579132, 63.15878852,\n",
       "       63.15178571, 63.14478291, 63.13778011, 63.13077731, 63.12377451,\n",
       "       63.11677171, 63.10976891, 63.10276611, 63.09576331, 63.0887605 ])"
      ]
     },
     "execution_count": 33,
     "metadata": {},
     "output_type": "execute_result"
    }
   ],
   "source": [
    "test"
   ]
  },
  {
   "cell_type": "code",
   "execution_count": 34,
   "metadata": {},
   "outputs": [
    {
     "data": {
      "text/plain": [
       "(100,)"
      ]
     },
     "execution_count": 34,
     "metadata": {},
     "output_type": "execute_result"
    }
   ],
   "source": [
    "test.shape"
   ]
  },
  {
   "cell_type": "code",
   "execution_count": 35,
   "metadata": {},
   "outputs": [
    {
     "data": {
      "text/plain": [
       "(100,)"
      ]
     },
     "execution_count": 35,
     "metadata": {},
     "output_type": "execute_result"
    }
   ],
   "source": [
    "final_forecast.shape"
   ]
  },
  {
   "cell_type": "code",
   "execution_count": 36,
   "metadata": {},
   "outputs": [
    {
     "data": {
      "text/plain": [
       "(100,)"
      ]
     },
     "execution_count": 36,
     "metadata": {},
     "output_type": "execute_result"
    }
   ],
   "source": [
    "test.shape"
   ]
  },
  {
   "cell_type": "code",
   "execution_count": 37,
   "metadata": {},
   "outputs": [
    {
     "name": "stdout",
     "output_type": "stream",
     "text": [
      "42.269457366682886\n",
      "31.825719338235377\n"
     ]
    }
   ],
   "source": [
    "import math\n",
    "MSE = np.square(np.subtract(np.array(test),np.array(final_forecast))).mean()   \n",
    "rsme = math.sqrt(MSE)\n",
    "print(rsme)  \n",
    "MAE = np.abs(np.subtract(np.array(test),np.array(final_forecast))).mean()   \n",
    "mae = MAE\n",
    "print(mae)"
   ]
  }
 ],
 "metadata": {
  "colab": {
   "provenance": []
  },
  "kernelspec": {
   "display_name": "Python 3",
   "language": "python",
   "name": "python3"
  },
  "language_info": {
   "codemirror_mode": {
    "name": "ipython",
    "version": 3
   },
   "file_extension": ".py",
   "mimetype": "text/x-python",
   "name": "python",
   "nbconvert_exporter": "python",
   "pygments_lexer": "ipython3",
   "version": "3.9.13"
  }
 },
 "nbformat": 4,
 "nbformat_minor": 0
}
