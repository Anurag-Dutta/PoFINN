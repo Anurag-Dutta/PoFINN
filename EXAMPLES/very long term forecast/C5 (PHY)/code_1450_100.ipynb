{
 "cells": [
  {
   "cell_type": "markdown",
   "metadata": {
    "id": "pCGKeZ2gyuoQ"
   },
   "source": [
    "_Importing Required Libraries_"
   ]
  },
  {
   "cell_type": "code",
   "execution_count": 1,
   "metadata": {
    "colab": {
     "base_uri": "https://localhost:8080/"
    },
    "id": "A-6LN-zXiLcM",
    "outputId": "4de610a4-f8b8-4f49-c6c0-89de299ccedc"
   },
   "outputs": [
    {
     "name": "stdout",
     "output_type": "stream",
     "text": [
      "Requirement already satisfied: hampel in c:\\users\\anurag dutta\\appdata\\local\\packages\\pythonsoftwarefoundation.python.3.9_qbz5n2kfra8p0\\localcache\\local-packages\\python39\\site-packages (0.0.5)\n",
      "Requirement already satisfied: numpy in c:\\users\\anurag dutta\\appdata\\local\\packages\\pythonsoftwarefoundation.python.3.9_qbz5n2kfra8p0\\localcache\\local-packages\\python39\\site-packages (from hampel) (1.26.4)\n",
      "Requirement already satisfied: pandas in c:\\users\\anurag dutta\\appdata\\local\\packages\\pythonsoftwarefoundation.python.3.9_qbz5n2kfra8p0\\localcache\\local-packages\\python39\\site-packages (from hampel) (1.5.2)\n",
      "Requirement already satisfied: python-dateutil>=2.8.1 in c:\\users\\anurag dutta\\appdata\\local\\packages\\pythonsoftwarefoundation.python.3.9_qbz5n2kfra8p0\\localcache\\local-packages\\python39\\site-packages (from pandas->hampel) (2.8.2)\n",
      "Requirement already satisfied: pytz>=2020.1 in c:\\users\\anurag dutta\\appdata\\local\\packages\\pythonsoftwarefoundation.python.3.9_qbz5n2kfra8p0\\localcache\\local-packages\\python39\\site-packages (from pandas->hampel) (2023.3.post1)\n",
      "Requirement already satisfied: six>=1.5 in c:\\users\\anurag dutta\\appdata\\local\\packages\\pythonsoftwarefoundation.python.3.9_qbz5n2kfra8p0\\localcache\\local-packages\\python39\\site-packages (from python-dateutil>=2.8.1->pandas->hampel) (1.16.0)\n",
      "Note: you may need to restart the kernel to use updated packages.\n"
     ]
    },
    {
     "name": "stderr",
     "output_type": "stream",
     "text": [
      "\n",
      "[notice] A new release of pip is available: 24.2 -> 24.3.1\n",
      "[notice] To update, run: C:\\Users\\Anurag Dutta\\AppData\\Local\\Microsoft\\WindowsApps\\PythonSoftwareFoundation.Python.3.9_qbz5n2kfra8p0\\python.exe -m pip install --upgrade pip\n"
     ]
    }
   ],
   "source": [
    "pip install hampel"
   ]
  },
  {
   "cell_type": "code",
   "execution_count": 2,
   "metadata": {
    "id": "By_d9uXpaFvZ"
   },
   "outputs": [],
   "source": [
    "from keras.models import Sequential\n",
    "from keras.layers import Dense\n",
    "from keras.layers import LSTM\n",
    "from keras.layers import Dropout\n",
    "import keras\n",
    "import tensorflow as tf\n",
    "from hampel import hampel\n",
    "import numpy as np\n",
    "import matplotlib.pyplot as plt\n",
    "import pandas as pd\n",
    "from sklearn.preprocessing import MinMaxScaler\n",
    "from sklearn.metrics import mean_squared_error, mean_absolute_error\n",
    "from math import sqrt\n",
    "from matplotlib import pyplot\n",
    "from numpy import array"
   ]
  },
  {
   "cell_type": "markdown",
   "metadata": {
    "id": "JyOjBMFayuoR"
   },
   "source": [
    "## Pretraining"
   ]
  },
  {
   "cell_type": "markdown",
   "metadata": {
    "id": "-5QqIY_GyuoR"
   },
   "source": [
    "The `capa_intermittency.dat` feeds the model with the dynamics of the Capacitor"
   ]
  },
  {
   "cell_type": "code",
   "execution_count": 3,
   "metadata": {
    "id": "9dV4a8yfyuoR"
   },
   "outputs": [],
   "source": [
    "data = np.genfromtxt('capa_intermittency.dat')\n",
    "training_set = pd.DataFrame(data).reset_index(drop=True)\n",
    "training_set = training_set.iloc[:,0]"
   ]
  },
  {
   "cell_type": "markdown",
   "metadata": {
    "id": "i7easoxByuoR"
   },
   "source": [
    "## Computing the Gradient"
   ]
  },
  {
   "cell_type": "markdown",
   "metadata": {
    "id": "5SnyolJTyuoR"
   },
   "source": [
    "_Calculating the value of_ $\\frac{dx}{dt}$"
   ]
  },
  {
   "cell_type": "code",
   "execution_count": 4,
   "metadata": {
    "colab": {
     "base_uri": "https://localhost:8080/"
    },
    "id": "wmIbVfIvyuoR",
    "outputId": "aa4e3136-c854-465d-d2e9-81cfd546e440"
   },
   "outputs": [
    {
     "name": "stdout",
     "output_type": "stream",
     "text": [
      "1.0\n",
      "1        0.000298\n",
      "2        0.000298\n",
      "3        0.000297\n",
      "4        0.000297\n",
      "5        0.000297\n",
      "           ...   \n",
      "9996     0.000018\n",
      "9997     0.000018\n",
      "9998     0.000018\n",
      "9999     0.000018\n",
      "10000    0.000018\n",
      "Name: 0, Length: 10000, dtype: float64\n"
     ]
    }
   ],
   "source": [
    "t_diff = 1\n",
    "print(training_set.max())\n",
    "gradient_t = (training_set.diff()/t_diff).iloc[1:] # dx/dt\n",
    "print(gradient_t)"
   ]
  },
  {
   "cell_type": "markdown",
   "metadata": {
    "id": "_2eVeeoxyuoS"
   },
   "source": [
    "## Loading Datasets"
   ]
  },
  {
   "cell_type": "code",
   "execution_count": 5,
   "metadata": {
    "id": "0J-NKyIEyuoS"
   },
   "outputs": [
    {
     "data": {
      "text/plain": [
       "0       89.140000\n",
       "1       88.911429\n",
       "2       88.682857\n",
       "3       88.454286\n",
       "4       88.225714\n",
       "          ...    \n",
       "1545    66.292717\n",
       "1546    66.285247\n",
       "1547    66.277778\n",
       "1548    66.270308\n",
       "1549    66.262838\n",
       "Name: C5, Length: 1550, dtype: float64"
      ]
     },
     "execution_count": 5,
     "metadata": {},
     "output_type": "execute_result"
    }
   ],
   "source": [
    "data = pd.read_csv(\"c5_interpolated_1450_100.csv\")\n",
    "training_set = data.iloc[:, 1]\n",
    "training_set"
   ]
  },
  {
   "cell_type": "code",
   "execution_count": 6,
   "metadata": {
    "colab": {
     "base_uri": "https://localhost:8080/"
    },
    "id": "-CbNUhJ74UqF",
    "outputId": "20f562d8-8247-49cc-b9c3-00eca5e13e2d"
   },
   "outputs": [
    {
     "data": {
      "text/plain": [
       "0       89.140000\n",
       "1       88.911429\n",
       "2       88.682857\n",
       "3       88.454286\n",
       "4       88.225714\n",
       "          ...    \n",
       "1445     0.000000\n",
       "1446     0.000000\n",
       "1447     0.000000\n",
       "1448     0.137733\n",
       "1449     0.000000\n",
       "Name: C5, Length: 1450, dtype: float64"
      ]
     },
     "execution_count": 6,
     "metadata": {},
     "output_type": "execute_result"
    }
   ],
   "source": [
    "test = training_set.tail(100)\n",
    "test\n",
    "training_set = training_set.head(1450)\n",
    "training_set"
   ]
  },
  {
   "cell_type": "code",
   "execution_count": 7,
   "metadata": {
    "colab": {
     "base_uri": "https://localhost:8080/"
    },
    "id": "X0TwTcq0yuoS",
    "outputId": "37252ed8-d88e-4044-fa7a-922411990b5b"
   },
   "outputs": [
    {
     "name": "stdout",
     "output_type": "stream",
     "text": [
      "0       0.000298\n",
      "1       0.000298\n",
      "2       0.000297\n",
      "3       0.000297\n",
      "4       0.000297\n",
      "          ...   \n",
      "9995    0.000018\n",
      "9996    0.000018\n",
      "9997    0.000018\n",
      "9998    0.000018\n",
      "9999    0.000018\n",
      "Name: 0, Length: 10000, dtype: float64\n"
     ]
    }
   ],
   "source": [
    "training_set = training_set.reset_index(drop=True)\n",
    "gradient_t = gradient_t.reset_index(drop=True)\n",
    "print(gradient_t)"
   ]
  },
  {
   "cell_type": "code",
   "execution_count": 8,
   "metadata": {
    "id": "O2biznZQyuoS"
   },
   "outputs": [],
   "source": [
    "df = pd.concat((training_set, gradient_t), axis=1)\n",
    "df.columns = ['y_t', 'grad_t']"
   ]
  },
  {
   "cell_type": "code",
   "execution_count": 9,
   "metadata": {
    "colab": {
     "base_uri": "https://localhost:8080/",
     "height": 423
    },
    "id": "sk_a5v3tyuoS",
    "outputId": "17563625-e550-45ae-faab-fafa353e44da"
   },
   "outputs": [
    {
     "data": {
      "text/html": [
       "<div>\n",
       "<style scoped>\n",
       "    .dataframe tbody tr th:only-of-type {\n",
       "        vertical-align: middle;\n",
       "    }\n",
       "\n",
       "    .dataframe tbody tr th {\n",
       "        vertical-align: top;\n",
       "    }\n",
       "\n",
       "    .dataframe thead th {\n",
       "        text-align: right;\n",
       "    }\n",
       "</style>\n",
       "<table border=\"1\" class=\"dataframe\">\n",
       "  <thead>\n",
       "    <tr style=\"text-align: right;\">\n",
       "      <th></th>\n",
       "      <th>y_t</th>\n",
       "      <th>grad_t</th>\n",
       "    </tr>\n",
       "  </thead>\n",
       "  <tbody>\n",
       "    <tr>\n",
       "      <th>0</th>\n",
       "      <td>89.140000</td>\n",
       "      <td>0.000298</td>\n",
       "    </tr>\n",
       "    <tr>\n",
       "      <th>1</th>\n",
       "      <td>88.911429</td>\n",
       "      <td>0.000298</td>\n",
       "    </tr>\n",
       "    <tr>\n",
       "      <th>2</th>\n",
       "      <td>88.682857</td>\n",
       "      <td>0.000297</td>\n",
       "    </tr>\n",
       "    <tr>\n",
       "      <th>3</th>\n",
       "      <td>88.454286</td>\n",
       "      <td>0.000297</td>\n",
       "    </tr>\n",
       "    <tr>\n",
       "      <th>4</th>\n",
       "      <td>88.225714</td>\n",
       "      <td>0.000297</td>\n",
       "    </tr>\n",
       "    <tr>\n",
       "      <th>...</th>\n",
       "      <td>...</td>\n",
       "      <td>...</td>\n",
       "    </tr>\n",
       "    <tr>\n",
       "      <th>9995</th>\n",
       "      <td>NaN</td>\n",
       "      <td>0.000018</td>\n",
       "    </tr>\n",
       "    <tr>\n",
       "      <th>9996</th>\n",
       "      <td>NaN</td>\n",
       "      <td>0.000018</td>\n",
       "    </tr>\n",
       "    <tr>\n",
       "      <th>9997</th>\n",
       "      <td>NaN</td>\n",
       "      <td>0.000018</td>\n",
       "    </tr>\n",
       "    <tr>\n",
       "      <th>9998</th>\n",
       "      <td>NaN</td>\n",
       "      <td>0.000018</td>\n",
       "    </tr>\n",
       "    <tr>\n",
       "      <th>9999</th>\n",
       "      <td>NaN</td>\n",
       "      <td>0.000018</td>\n",
       "    </tr>\n",
       "  </tbody>\n",
       "</table>\n",
       "<p>10000 rows × 2 columns</p>\n",
       "</div>"
      ],
      "text/plain": [
       "            y_t    grad_t\n",
       "0     89.140000  0.000298\n",
       "1     88.911429  0.000298\n",
       "2     88.682857  0.000297\n",
       "3     88.454286  0.000297\n",
       "4     88.225714  0.000297\n",
       "...         ...       ...\n",
       "9995        NaN  0.000018\n",
       "9996        NaN  0.000018\n",
       "9997        NaN  0.000018\n",
       "9998        NaN  0.000018\n",
       "9999        NaN  0.000018\n",
       "\n",
       "[10000 rows x 2 columns]"
      ]
     },
     "execution_count": 9,
     "metadata": {},
     "output_type": "execute_result"
    }
   ],
   "source": [
    "df"
   ]
  },
  {
   "cell_type": "markdown",
   "metadata": {
    "id": "-5esyHu5aFvg"
   },
   "source": [
    "## Plot of the External Forcing from Chaotic Differential Equation"
   ]
  },
  {
   "cell_type": "code",
   "execution_count": 10,
   "metadata": {
    "colab": {
     "base_uri": "https://localhost:8080/",
     "height": 447
    },
    "id": "hGnE43tOh-4p",
    "outputId": "fc396503-b624-4fa5-dfbe-f460207405c6"
   },
   "outputs": [
    {
     "data": {
      "text/plain": [
       "<Axes: >"
      ]
     },
     "execution_count": 10,
     "metadata": {},
     "output_type": "execute_result"
    },
    {
     "data": {
      "image/png": "[encoded data removed]",
      "text/plain": [
       "<Figure size 432x288 with 1 Axes>"
      ]
     },
     "metadata": {
      "needs_background": "light"
     },
     "output_type": "display_data"
    }
   ],
   "source": [
    "df.iloc[:, 0].plot()"
   ]
  },
  {
   "cell_type": "code",
   "execution_count": 11,
   "metadata": {
    "colab": {
     "base_uri": "https://localhost:8080/",
     "height": 447
    },
    "id": "ym4xWUUxaFvg",
    "outputId": "ae6a3495-8ce9-437e-ba81-3ed31deedeae"
   },
   "outputs": [
    {
     "name": "stderr",
     "output_type": "stream",
     "text": [
      "C:\\Users\\Anurag Dutta\\AppData\\Local\\Packages\\PythonSoftwareFoundation.Python.3.9_qbz5n2kfra8p0\\LocalCache\\local-packages\\Python39\\site-packages\\pandas\\core\\arraylike.py:402: RuntimeWarning: divide by zero encountered in log\n",
      "  result = getattr(ufunc, method)(*inputs, **kwargs)\n"
     ]
    },
    {
     "data": {
      "text/plain": [
       "<Axes: >"
      ]
     },
     "execution_count": 11,
     "metadata": {},
     "output_type": "execute_result"
    },
    {
     "data": {
      "image/png": "[encoded data removed]",
      "text/plain": [
       "<Figure size 432x288 with 1 Axes>"
      ]
     },
     "metadata": {
      "needs_background": "light"
     },
     "output_type": "display_data"
    }
   ],
   "source": [
    "import numpy as np\n",
    "c0 = 86.8407  # Value for C0\n",
    "K0 = -0.0015  # Value for K0\n",
    "K1 = -0.0001  # Value for K1\n",
    "a = 0.0000    # Value for a\n",
    "b = 0.0118    # Value for b\n",
    "c = 2.5775    # Value for c\n",
    "\n",
    "L = np.minimum(c0, (df.iloc[:, 1] - (df.iloc[:, 0] * (K0 - K1 * (9 * a * np.log(df.iloc[:, 0] / c0) / (K0 - K1 * c)**2 + 4 * b * np.log(df.iloc[:, 0] / c0) / (K0 - K1 * c) + c)))))\n",
    "L.plot()"
   ]
  },
  {
   "cell_type": "markdown",
   "metadata": {
    "id": "9VyEywnwaFvh"
   },
   "source": [
    "## Preprocessing the data into supervised learning"
   ]
  },
  {
   "cell_type": "code",
   "execution_count": 12,
   "metadata": {
    "id": "6V9dXqzdaFvh"
   },
   "outputs": [],
   "source": [
    "# split a sequence into samples\n",
    "def Supervised(data, n_in=1, n_out=1, dropnan=True):\n",
    "    n_vars = 1 if type(data) is list else data.shape[1]\n",
    "    df = pd.DataFrame(data)\n",
    "    cols, names = list(), list()\n",
    "    # input sequence (t-n_in, ... t-1)\n",
    "    for i in range(n_in, 0, -1):\n",
    "        cols.append(df.shift(i))\n",
    "        names += [('var%d(t-%d)' % (j+1, i)) for j in range(n_vars)]\n",
    "    # forecast sequence (t, t+1, ... t+n_out)\n",
    "    for i in range(0, n_out):\n",
    "      cols.append(df.shift(-i))\n",
    "      if i == 0:\n",
    "        names += [('var%d(t)' % (j+1)) for j in range(n_vars)]\n",
    "      else:\n",
    "        names += [('var%d(t+%d)' % (j+1, i)) for j in range(n_vars)]\n",
    "    # put it all together\n",
    "    agg = pd.concat(cols, axis=1)\n",
    "    agg.columns = names\n",
    "    # drop rows with NaN values\n",
    "    if dropnan:\n",
    "       agg.dropna(inplace=True)\n",
    "    return agg"
   ]
  },
  {
   "cell_type": "code",
   "execution_count": 13,
   "metadata": {
    "colab": {
     "base_uri": "https://localhost:8080/"
    },
    "id": "CrzSrT1HnyfH",
    "outputId": "7e75f928-3e47-499d-eac1-51908015ef78"
   },
   "outputs": [
    {
     "name": "stdout",
     "output_type": "stream",
     "text": [
      "     var1(t-350)  var1(t-349)  var1(t-348)  var1(t-347)  var1(t-346)  \\\n",
      "350    89.140000    88.911429    88.682857    88.454286    88.225714   \n",
      "351    88.911429    88.682857    88.454286    88.225714    87.997143   \n",
      "352    88.682857    88.454286    88.225714    87.997143    87.768571   \n",
      "353    88.454286    88.225714    87.997143    87.768571    87.540000   \n",
      "354    88.225714    87.997143    87.768571    87.540000    87.311429   \n",
      "\n",
      "     var1(t-345)  var1(t-344)  var1(t-343)  var1(t-342)  var1(t-341)  ...  \\\n",
      "350    87.997143    87.768571    87.540000    87.311429    87.095798  ...   \n",
      "351    87.768571    87.540000    87.311429    87.095798    87.039776  ...   \n",
      "352    87.540000    87.311429    87.095798    87.039776    86.983754  ...   \n",
      "353    87.311429    87.095798    87.039776    86.983754    86.927731  ...   \n",
      "354    87.095798    87.039776    86.983754    86.927731    86.871709  ...   \n",
      "\n",
      "     var1(t+95)  var2(t+95)  var1(t+96)  var2(t+96)  var1(t+97)  var2(t+97)  \\\n",
      "350   79.161181    0.000263   79.132236    0.000263   79.103291    0.000263   \n",
      "351   79.132236    0.000263   79.103291    0.000263   79.074346    0.000262   \n",
      "352   79.103291    0.000263   79.074346    0.000262   79.045401    0.000262   \n",
      "353   79.074346    0.000262   79.045401    0.000262   79.016457    0.000262   \n",
      "354   79.045401    0.000262   79.016457    0.000262   78.987512    0.000262   \n",
      "\n",
      "     var1(t+98)  var2(t+98)  var1(t+99)  var2(t+99)  \n",
      "350   79.074346    0.000262   79.045401    0.000262  \n",
      "351   79.045401    0.000262   79.016457    0.000262  \n",
      "352   79.016457    0.000262   78.987512    0.000262  \n",
      "353   78.987512    0.000262   78.958567    0.000262  \n",
      "354   78.958567    0.000262   78.929622    0.000262  \n",
      "\n",
      "[5 rows x 551 columns]\n",
      "Index(['var1(t-350)', 'var1(t-349)', 'var1(t-348)', 'var1(t-347)',\n",
      "       'var1(t-346)', 'var1(t-345)', 'var1(t-344)', 'var1(t-343)',\n",
      "       'var1(t-342)', 'var1(t-341)',\n",
      "       ...\n",
      "       'var1(t+95)', 'var2(t+95)', 'var1(t+96)', 'var2(t+96)', 'var1(t+97)',\n",
      "       'var2(t+97)', 'var1(t+98)', 'var2(t+98)', 'var1(t+99)', 'var2(t+99)'],\n",
      "      dtype='object', length=551)\n"
     ]
    }
   ],
   "source": [
    "data = Supervised(df.values, n_in = 350, n_out = 100)\n",
    "\n",
    "\n",
    "cols_to_drop = []\n",
    "for i in range(2, 351):\n",
    "    cols_to_drop.extend([f'var2(t-{i})'])\n",
    "\n",
    "data.drop(cols_to_drop, axis=1, inplace=True)\n",
    "\n",
    "print(data.head())\n",
    "print(data.columns)"
   ]
  },
  {
   "cell_type": "code",
   "execution_count": 14,
   "metadata": {
    "id": "AfPf60oy6Pe4"
   },
   "outputs": [],
   "source": [
    "train = np.array(data[0:len(data)-1])\n",
    "forecast = np.array(data.tail(1))"
   ]
  },
  {
   "cell_type": "code",
   "execution_count": 15,
   "metadata": {
    "id": "WSAafzI37KiT"
   },
   "outputs": [],
   "source": [
    "trainy = train[:,-300:]\n",
    "trainX = train[:,:-300]"
   ]
  },
  {
   "cell_type": "code",
   "execution_count": 16,
   "metadata": {
    "id": "2SrOqVJA7f50"
   },
   "outputs": [],
   "source": [
    "forecasty = forecast[:,-300:]\n",
    "forecastX = forecast[:,:-300]"
   ]
  },
  {
   "cell_type": "code",
   "execution_count": 17,
   "metadata": {
    "colab": {
     "base_uri": "https://localhost:8080/"
    },
    "id": "Qno_k8Nw7saY",
    "outputId": "c4a88db5-d8c6-489f-cdb2-06b24e293cff"
   },
   "outputs": [
    {
     "name": "stdout",
     "output_type": "stream",
     "text": [
      "(1000, 1, 251) (1000, 300) (1, 1, 251)\n"
     ]
    }
   ],
   "source": [
    "trainX = trainX.reshape((trainX.shape[0], 1, trainX.shape[1]))\n",
    "forecastX = forecastX.reshape((forecastX.shape[0], 1, forecastX.shape[1]))\n",
    "print(trainX.shape, trainy.shape, forecastX.shape)"
   ]
  },
  {
   "cell_type": "code",
   "execution_count": 18,
   "metadata": {
    "colab": {
     "base_uri": "https://localhost:8080/"
    },
    "id": "b1Jp2DvNuNFx",
    "outputId": "d0e5b3c4-64f1-438c-eade-8dfeaac8e285"
   },
   "outputs": [
    {
     "name": "stdout",
     "output_type": "stream",
     "text": [
      "Epoch 1/500\n",
      "13/13 [==============================] - 2s 38ms/step - loss: 5586.1465 - val_loss: 4644.7246\n",
      "Epoch 2/500\n",
      "13/13 [==============================] - 0s 4ms/step - loss: 5507.9233 - val_loss: 4588.4692\n",
      "Epoch 3/500\n",
      "13/13 [==============================] - 0s 5ms/step - loss: 5460.2832 - val_loss: 4547.4829\n",
      "Epoch 4/500\n",
      "13/13 [==============================] - 0s 4ms/step - loss: 5415.6475 - val_loss: 4506.7896\n",
      "Epoch 5/500\n",
      "13/13 [==============================] - 0s 5ms/step - loss: 5371.3550 - val_loss: 4466.4478\n",
      "Epoch 6/500\n",
      "13/13 [==============================] - 0s 5ms/step - loss: 5317.5840 - val_loss: 4409.8887\n",
      "Epoch 7/500\n",
      "13/13 [==============================] - 0s 5ms/step - loss: 5264.6475 - val_loss: 4367.8955\n",
      "Epoch 8/500\n",
      "13/13 [==============================] - 0s 6ms/step - loss: 5218.9102 - val_loss: 4326.3672\n",
      "Epoch 9/500\n",
      "13/13 [==============================] - 0s 5ms/step - loss: 5173.7061 - val_loss: 4285.3477\n",
      "Epoch 10/500\n",
      "13/13 [==============================] - 0s 7ms/step - loss: 5129.0137 - val_loss: 4244.7764\n",
      "Epoch 11/500\n",
      "13/13 [==============================] - 0s 7ms/step - loss: 5084.7705 - val_loss: 4204.6055\n",
      "Epoch 12/500\n",
      "13/13 [==============================] - 0s 5ms/step - loss: 5040.9292 - val_loss: 4164.8008\n",
      "Epoch 13/500\n",
      "13/13 [==============================] - 0s 8ms/step - loss: 4997.4575 - val_loss: 4125.3359\n",
      "Epoch 14/500\n",
      "13/13 [==============================] - 0s 5ms/step - loss: 4954.3325 - val_loss: 4086.1946\n",
      "Epoch 15/500\n",
      "13/13 [==============================] - 0s 5ms/step - loss: 4911.5386 - val_loss: 4047.3643\n",
      "Epoch 16/500\n",
      "13/13 [==============================] - 0s 5ms/step - loss: 4869.0640 - val_loss: 4008.8359\n",
      "Epoch 17/500\n",
      "13/13 [==============================] - 0s 5ms/step - loss: 4826.8979 - val_loss: 3970.6018\n",
      "Epoch 18/500\n",
      "13/13 [==============================] - 0s 6ms/step - loss: 4785.0332 - val_loss: 3932.6550\n",
      "Epoch 19/500\n",
      "13/13 [==============================] - 0s 9ms/step - loss: 4743.4644 - val_loss: 3894.9910\n",
      "Epoch 20/500\n",
      "13/13 [==============================] - 0s 10ms/step - loss: 4702.1860 - val_loss: 3857.6047\n",
      "Epoch 21/500\n",
      "13/13 [==============================] - 0s 6ms/step - loss: 4661.1934 - val_loss: 3820.4932\n",
      "Epoch 22/500\n",
      "13/13 [==============================] - 0s 5ms/step - loss: 4620.4839 - val_loss: 3783.6526\n",
      "Epoch 23/500\n",
      "13/13 [==============================] - 0s 5ms/step - loss: 4580.0527 - val_loss: 3747.0789\n",
      "Epoch 24/500\n",
      "13/13 [==============================] - 0s 5ms/step - loss: 4539.8965 - val_loss: 3710.7712\n",
      "Epoch 25/500\n",
      "13/13 [==============================] - 0s 4ms/step - loss: 4500.0137 - val_loss: 3674.7256\n",
      "Epoch 26/500\n",
      "13/13 [==============================] - 0s 5ms/step - loss: 4460.4004 - val_loss: 3638.9404\n",
      "Epoch 27/500\n",
      "13/13 [==============================] - 0s 5ms/step - loss: 4421.0552 - val_loss: 3603.4131\n",
      "Epoch 28/500\n",
      "13/13 [==============================] - 0s 4ms/step - loss: 4381.9756 - val_loss: 3568.1406\n",
      "Epoch 29/500\n",
      "13/13 [==============================] - 0s 5ms/step - loss: 4343.1597 - val_loss: 3533.1230\n",
      "Epoch 30/500\n",
      "13/13 [==============================] - 0s 5ms/step - loss: 4304.6045 - val_loss: 3498.3574\n",
      "Epoch 31/500\n",
      "13/13 [==============================] - 0s 5ms/step - loss: 4266.3086 - val_loss: 3463.8408\n",
      "Epoch 32/500\n",
      "13/13 [==============================] - 0s 6ms/step - loss: 4228.2705 - val_loss: 3429.5732\n",
      "Epoch 33/500\n",
      "13/13 [==============================] - 0s 4ms/step - loss: 4190.4883 - val_loss: 3395.5525\n",
      "Epoch 34/500\n",
      "13/13 [==============================] - 0s 5ms/step - loss: 4152.9600 - val_loss: 3361.7766\n",
      "Epoch 35/500\n",
      "13/13 [==============================] - 0s 5ms/step - loss: 4115.6846 - val_loss: 3328.2441\n",
      "Epoch 36/500\n",
      "13/13 [==============================] - 0s 5ms/step - loss: 4078.6594 - val_loss: 3294.9543\n",
      "Epoch 37/500\n",
      "13/13 [==============================] - 0s 13ms/step - loss: 4041.8840 - val_loss: 3261.9043\n",
      "Epoch 38/500\n",
      "13/13 [==============================] - 0s 5ms/step - loss: 4005.3569 - val_loss: 3229.0938\n",
      "Epoch 39/500\n",
      "13/13 [==============================] - 0s 5ms/step - loss: 3969.0750 - val_loss: 3196.5203\n",
      "Epoch 40/500\n",
      "13/13 [==============================] - 0s 5ms/step - loss: 3933.0393 - val_loss: 3164.1838\n",
      "Epoch 41/500\n",
      "13/13 [==============================] - 0s 5ms/step - loss: 3897.2463 - val_loss: 3132.0815\n",
      "Epoch 42/500\n",
      "13/13 [==============================] - 0s 4ms/step - loss: 3861.6953 - val_loss: 3100.2131\n",
      "Epoch 43/500\n",
      "13/13 [==============================] - 0s 5ms/step - loss: 3826.3853 - val_loss: 3068.5774\n",
      "Epoch 44/500\n",
      "13/13 [==============================] - 0s 5ms/step - loss: 3791.3149 - val_loss: 3037.1721\n",
      "Epoch 45/500\n",
      "13/13 [==============================] - 0s 5ms/step - loss: 3756.4822 - val_loss: 3005.9971\n",
      "Epoch 46/500\n",
      "13/13 [==============================] - 0s 6ms/step - loss: 3721.8865 - val_loss: 2975.0498\n",
      "Epoch 47/500\n",
      "13/13 [==============================] - 0s 5ms/step - loss: 3687.5266 - val_loss: 2944.3293\n",
      "Epoch 48/500\n",
      "13/13 [==============================] - 0s 5ms/step - loss: 3653.4004 - val_loss: 2913.8357\n",
      "Epoch 49/500\n",
      "13/13 [==============================] - 0s 5ms/step - loss: 3619.5078 - val_loss: 2883.5657\n",
      "Epoch 50/500\n",
      "13/13 [==============================] - 0s 5ms/step - loss: 3585.8462 - val_loss: 2853.5203\n",
      "Epoch 51/500\n",
      "13/13 [==============================] - 0s 5ms/step - loss: 3552.4160 - val_loss: 2823.6960\n",
      "Epoch 52/500\n",
      "13/13 [==============================] - 0s 5ms/step - loss: 3519.2146 - val_loss: 2794.0935\n",
      "Epoch 53/500\n",
      "13/13 [==============================] - 0s 5ms/step - loss: 3486.2412 - val_loss: 2764.7109\n",
      "Epoch 54/500\n",
      "13/13 [==============================] - 0s 5ms/step - loss: 3453.4954 - val_loss: 2735.5476\n",
      "Epoch 55/500\n",
      "13/13 [==============================] - 0s 5ms/step - loss: 3420.9751 - val_loss: 2706.6006\n",
      "Epoch 56/500\n",
      "13/13 [==============================] - 0s 5ms/step - loss: 3388.6790 - val_loss: 2677.8706\n",
      "Epoch 57/500\n",
      "13/13 [==============================] - 0s 5ms/step - loss: 3356.6069 - val_loss: 2649.3564\n",
      "Epoch 58/500\n",
      "13/13 [==============================] - 0s 5ms/step - loss: 3324.7568 - val_loss: 2621.0562\n",
      "Epoch 59/500\n",
      "13/13 [==============================] - 0s 4ms/step - loss: 3293.1282 - val_loss: 2592.9697\n",
      "Epoch 60/500\n",
      "13/13 [==============================] - 0s 5ms/step - loss: 3261.7200 - val_loss: 2565.0945\n",
      "Epoch 61/500\n",
      "13/13 [==============================] - 0s 5ms/step - loss: 3230.5305 - val_loss: 2537.4307\n",
      "Epoch 62/500\n",
      "13/13 [==============================] - 0s 5ms/step - loss: 3199.5593 - val_loss: 2509.9766\n",
      "Epoch 63/500\n",
      "13/13 [==============================] - 0s 5ms/step - loss: 3168.8044 - val_loss: 2482.7314\n",
      "Epoch 64/500\n",
      "13/13 [==============================] - 0s 5ms/step - loss: 3138.2654 - val_loss: 2455.6943\n",
      "Epoch 65/500\n",
      "13/13 [==============================] - 0s 4ms/step - loss: 3107.9407 - val_loss: 2428.8625\n",
      "Epoch 66/500\n",
      "13/13 [==============================] - 0s 5ms/step - loss: 3077.8306 - val_loss: 2402.2375\n",
      "Epoch 67/500\n",
      "13/13 [==============================] - 0s 5ms/step - loss: 3047.9321 - val_loss: 2375.8171\n",
      "Epoch 68/500\n",
      "13/13 [==============================] - 0s 5ms/step - loss: 3018.2458 - val_loss: 2349.6001\n",
      "Epoch 69/500\n",
      "13/13 [==============================] - 0s 5ms/step - loss: 2988.7698 - val_loss: 2323.5857\n",
      "Epoch 70/500\n",
      "13/13 [==============================] - 0s 5ms/step - loss: 2959.5022 - val_loss: 2297.7725\n",
      "Epoch 71/500\n",
      "13/13 [==============================] - 0s 10ms/step - loss: 2930.4443 - val_loss: 2272.1599\n",
      "Epoch 72/500\n",
      "13/13 [==============================] - 0s 5ms/step - loss: 2901.5930 - val_loss: 2246.7466\n",
      "Epoch 73/500\n",
      "13/13 [==============================] - 0s 5ms/step - loss: 2872.9487 - val_loss: 2221.5322\n",
      "Epoch 74/500\n",
      "13/13 [==============================] - 0s 5ms/step - loss: 2844.5090 - val_loss: 2196.5154\n",
      "Epoch 75/500\n",
      "13/13 [==============================] - 0s 5ms/step - loss: 2816.2742 - val_loss: 2171.6938\n",
      "Epoch 76/500\n",
      "13/13 [==============================] - 0s 5ms/step - loss: 2788.2424 - val_loss: 2147.0688\n",
      "Epoch 77/500\n",
      "13/13 [==============================] - 0s 6ms/step - loss: 2760.4131 - val_loss: 2122.6377\n",
      "Epoch 78/500\n",
      "13/13 [==============================] - 0s 6ms/step - loss: 2732.7847 - val_loss: 2098.4009\n",
      "Epoch 79/500\n",
      "13/13 [==============================] - 0s 5ms/step - loss: 2705.3572 - val_loss: 2074.3562\n",
      "Epoch 80/500\n",
      "13/13 [==============================] - 0s 5ms/step - loss: 2678.1287 - val_loss: 2050.5020\n",
      "Epoch 81/500\n",
      "13/13 [==============================] - 0s 5ms/step - loss: 2651.0986 - val_loss: 2026.8395\n",
      "Epoch 82/500\n",
      "13/13 [==============================] - 0s 6ms/step - loss: 2624.2664 - val_loss: 2003.3667\n",
      "Epoch 83/500\n",
      "13/13 [==============================] - 0s 6ms/step - loss: 2597.6299 - val_loss: 1980.0824\n",
      "Epoch 84/500\n",
      "13/13 [==============================] - 0s 5ms/step - loss: 2571.1897 - val_loss: 1956.9860\n",
      "Epoch 85/500\n",
      "13/13 [==============================] - 0s 7ms/step - loss: 2544.9436 - val_loss: 1934.0759\n",
      "Epoch 86/500\n",
      "13/13 [==============================] - 0s 7ms/step - loss: 2518.8914 - val_loss: 1911.3519\n",
      "Epoch 87/500\n",
      "13/13 [==============================] - 0s 5ms/step - loss: 2493.0315 - val_loss: 1888.8126\n",
      "Epoch 88/500\n",
      "13/13 [==============================] - 0s 6ms/step - loss: 2467.3638 - val_loss: 1866.4574\n",
      "Epoch 89/500\n",
      "13/13 [==============================] - 0s 7ms/step - loss: 2441.8865 - val_loss: 1844.2853\n",
      "Epoch 90/500\n",
      "13/13 [==============================] - 0s 6ms/step - loss: 2416.5996 - val_loss: 1822.2959\n",
      "Epoch 91/500\n",
      "13/13 [==============================] - 0s 6ms/step - loss: 2391.5010 - val_loss: 1800.4871\n",
      "Epoch 92/500\n",
      "13/13 [==============================] - 0s 6ms/step - loss: 2366.5906 - val_loss: 1778.8586\n",
      "Epoch 93/500\n",
      "13/13 [==============================] - 0s 5ms/step - loss: 2341.8672 - val_loss: 1757.4097\n",
      "Epoch 94/500\n",
      "13/13 [==============================] - 0s 5ms/step - loss: 2317.3306 - val_loss: 1736.1395\n",
      "Epoch 95/500\n",
      "13/13 [==============================] - 0s 5ms/step - loss: 2292.9785 - val_loss: 1715.0465\n",
      "Epoch 96/500\n",
      "13/13 [==============================] - 0s 5ms/step - loss: 2268.8115 - val_loss: 1694.1301\n",
      "Epoch 97/500\n",
      "13/13 [==============================] - 0s 5ms/step - loss: 2244.8279 - val_loss: 1673.3899\n",
      "Epoch 98/500\n",
      "13/13 [==============================] - 0s 5ms/step - loss: 2221.0266 - val_loss: 1652.8239\n",
      "Epoch 99/500\n",
      "13/13 [==============================] - 0s 5ms/step - loss: 2197.4070 - val_loss: 1632.4325\n",
      "Epoch 100/500\n",
      "13/13 [==============================] - 0s 5ms/step - loss: 2173.9690 - val_loss: 1612.2144\n",
      "Epoch 101/500\n",
      "13/13 [==============================] - 0s 5ms/step - loss: 2150.7107 - val_loss: 1592.1691\n",
      "Epoch 102/500\n",
      "13/13 [==============================] - 0s 9ms/step - loss: 2127.6311 - val_loss: 1572.2944\n",
      "Epoch 103/500\n",
      "13/13 [==============================] - 0s 5ms/step - loss: 2104.7300 - val_loss: 1552.5900\n",
      "Epoch 104/500\n",
      "13/13 [==============================] - 0s 5ms/step - loss: 2082.0061 - val_loss: 1533.0563\n",
      "Epoch 105/500\n",
      "13/13 [==============================] - 0s 4ms/step - loss: 2059.4590 - val_loss: 1513.6903\n",
      "Epoch 106/500\n",
      "13/13 [==============================] - 0s 5ms/step - loss: 2037.0869 - val_loss: 1494.4923\n",
      "Epoch 107/500\n",
      "13/13 [==============================] - 0s 5ms/step - loss: 2014.8903 - val_loss: 1475.4617\n",
      "Epoch 108/500\n",
      "13/13 [==============================] - 0s 5ms/step - loss: 1992.8672 - val_loss: 1456.5983\n",
      "Epoch 109/500\n",
      "13/13 [==============================] - 0s 5ms/step - loss: 1971.0175 - val_loss: 1437.8990\n",
      "Epoch 110/500\n",
      "13/13 [==============================] - 0s 5ms/step - loss: 1949.3397 - val_loss: 1419.3649\n",
      "Epoch 111/500\n",
      "13/13 [==============================] - 0s 5ms/step - loss: 1927.8336 - val_loss: 1400.9939\n",
      "Epoch 112/500\n",
      "13/13 [==============================] - 0s 5ms/step - loss: 1906.4979 - val_loss: 1382.7867\n",
      "Epoch 113/500\n",
      "13/13 [==============================] - 0s 4ms/step - loss: 1885.3320 - val_loss: 1364.7405\n",
      "Epoch 114/500\n",
      "13/13 [==============================] - 0s 5ms/step - loss: 1864.3342 - val_loss: 1346.8558\n",
      "Epoch 115/500\n",
      "13/13 [==============================] - 0s 5ms/step - loss: 1843.5051 - val_loss: 1329.1316\n",
      "Epoch 116/500\n",
      "13/13 [==============================] - 0s 5ms/step - loss: 1822.8430 - val_loss: 1311.5664\n",
      "Epoch 117/500\n",
      "13/13 [==============================] - 0s 6ms/step - loss: 1802.3473 - val_loss: 1294.1606\n",
      "Epoch 118/500\n",
      "13/13 [==============================] - 0s 5ms/step - loss: 1782.0172 - val_loss: 1276.9122\n",
      "Epoch 119/500\n",
      "13/13 [==============================] - 0s 4ms/step - loss: 1761.8517 - val_loss: 1259.8210\n",
      "Epoch 120/500\n",
      "13/13 [==============================] - 0s 4ms/step - loss: 1741.8505 - val_loss: 1242.8861\n",
      "Epoch 121/500\n",
      "13/13 [==============================] - 0s 4ms/step - loss: 1722.0117 - val_loss: 1226.1067\n",
      "Epoch 122/500\n",
      "13/13 [==============================] - 0s 4ms/step - loss: 1702.3358 - val_loss: 1209.4814\n",
      "Epoch 123/500\n",
      "13/13 [==============================] - 0s 4ms/step - loss: 1682.8213 - val_loss: 1193.0105\n",
      "Epoch 124/500\n",
      "13/13 [==============================] - 0s 4ms/step - loss: 1663.4677 - val_loss: 1176.6924\n",
      "Epoch 125/500\n",
      "13/13 [==============================] - 0s 4ms/step - loss: 1644.2738 - val_loss: 1160.5264\n",
      "Epoch 126/500\n",
      "13/13 [==============================] - 0s 4ms/step - loss: 1625.2388 - val_loss: 1144.5118\n",
      "Epoch 127/500\n",
      "13/13 [==============================] - 0s 4ms/step - loss: 1606.3627 - val_loss: 1128.6483\n",
      "Epoch 128/500\n",
      "13/13 [==============================] - 0s 4ms/step - loss: 1587.6434 - val_loss: 1112.9340\n",
      "Epoch 129/500\n",
      "13/13 [==============================] - 0s 5ms/step - loss: 1569.0811 - val_loss: 1097.3690\n",
      "Epoch 130/500\n",
      "13/13 [==============================] - 0s 7ms/step - loss: 1550.6748 - val_loss: 1081.9519\n",
      "Epoch 131/500\n",
      "13/13 [==============================] - 0s 13ms/step - loss: 1532.4237 - val_loss: 1066.6827\n",
      "Epoch 132/500\n",
      "13/13 [==============================] - 0s 5ms/step - loss: 1514.3269 - val_loss: 1051.5597\n",
      "Epoch 133/500\n",
      "13/13 [==============================] - 0s 5ms/step - loss: 1496.3838 - val_loss: 1036.5831\n",
      "Epoch 134/500\n",
      "13/13 [==============================] - 0s 4ms/step - loss: 1478.5938 - val_loss: 1021.7508\n",
      "Epoch 135/500\n",
      "13/13 [==============================] - 0s 5ms/step - loss: 1460.9552 - val_loss: 1007.0641\n",
      "Epoch 136/500\n",
      "13/13 [==============================] - 0s 5ms/step - loss: 1443.4681 - val_loss: 992.5192\n",
      "Epoch 137/500\n",
      "13/13 [==============================] - 0s 4ms/step - loss: 1426.1313 - val_loss: 978.1177\n",
      "Epoch 138/500\n",
      "13/13 [==============================] - 0s 4ms/step - loss: 1408.9446 - val_loss: 963.8585\n",
      "Epoch 139/500\n",
      "13/13 [==============================] - 0s 4ms/step - loss: 1391.9066 - val_loss: 949.7400\n",
      "Epoch 140/500\n",
      "13/13 [==============================] - 0s 5ms/step - loss: 1375.0168 - val_loss: 935.7621\n",
      "Epoch 141/500\n",
      "13/13 [==============================] - 0s 5ms/step - loss: 1358.2747 - val_loss: 921.9238\n",
      "Epoch 142/500\n",
      "13/13 [==============================] - 0s 5ms/step - loss: 1341.6787 - val_loss: 908.2243\n",
      "Epoch 143/500\n",
      "13/13 [==============================] - 0s 5ms/step - loss: 1325.2292 - val_loss: 894.6633\n",
      "Epoch 144/500\n",
      "13/13 [==============================] - 0s 6ms/step - loss: 1308.9249 - val_loss: 881.2396\n",
      "Epoch 145/500\n",
      "13/13 [==============================] - 0s 4ms/step - loss: 1292.7651 - val_loss: 867.9526\n",
      "Epoch 146/500\n",
      "13/13 [==============================] - 0s 7ms/step - loss: 1276.7488 - val_loss: 854.8011\n",
      "Epoch 147/500\n",
      "13/13 [==============================] - 0s 7ms/step - loss: 1260.8752 - val_loss: 841.7848\n",
      "Epoch 148/500\n",
      "13/13 [==============================] - 0s 7ms/step - loss: 1245.1438 - val_loss: 828.9027\n",
      "Epoch 149/500\n",
      "13/13 [==============================] - 0s 7ms/step - loss: 1229.5540 - val_loss: 816.1543\n",
      "Epoch 150/500\n",
      "13/13 [==============================] - 0s 5ms/step - loss: 1214.1050 - val_loss: 803.5390\n",
      "Epoch 151/500\n",
      "13/13 [==============================] - 0s 4ms/step - loss: 1198.7957 - val_loss: 791.0559\n",
      "Epoch 152/500\n",
      "13/13 [==============================] - 0s 5ms/step - loss: 1183.6260 - val_loss: 778.7029\n",
      "Epoch 153/500\n",
      "13/13 [==============================] - 0s 5ms/step - loss: 1168.5945 - val_loss: 766.4819\n",
      "Epoch 154/500\n",
      "13/13 [==============================] - 0s 6ms/step - loss: 1153.7007 - val_loss: 754.3904\n",
      "Epoch 155/500\n",
      "13/13 [==============================] - 0s 5ms/step - loss: 1138.9441 - val_loss: 742.4274\n",
      "Epoch 156/500\n",
      "13/13 [==============================] - 0s 5ms/step - loss: 1124.3235 - val_loss: 730.5930\n",
      "Epoch 157/500\n",
      "13/13 [==============================] - 0s 5ms/step - loss: 1109.8386 - val_loss: 718.8862\n",
      "Epoch 158/500\n",
      "13/13 [==============================] - 0s 4ms/step - loss: 1095.4885 - val_loss: 707.3067\n",
      "Epoch 159/500\n",
      "13/13 [==============================] - 0s 4ms/step - loss: 1081.2723 - val_loss: 695.8530\n",
      "Epoch 160/500\n",
      "13/13 [==============================] - 0s 10ms/step - loss: 1067.1897 - val_loss: 684.5248\n",
      "Epoch 161/500\n",
      "13/13 [==============================] - 0s 4ms/step - loss: 1053.2397 - val_loss: 673.3210\n",
      "Epoch 162/500\n",
      "13/13 [==============================] - 0s 4ms/step - loss: 1039.4218 - val_loss: 662.2415\n",
      "Epoch 163/500\n",
      "13/13 [==============================] - 0s 5ms/step - loss: 1025.7349 - val_loss: 651.2847\n",
      "Epoch 164/500\n",
      "13/13 [==============================] - 0s 5ms/step - loss: 1012.1785 - val_loss: 640.4508\n",
      "Epoch 165/500\n",
      "13/13 [==============================] - 0s 5ms/step - loss: 998.7519 - val_loss: 629.7380\n",
      "Epoch 166/500\n",
      "13/13 [==============================] - 0s 4ms/step - loss: 985.4542 - val_loss: 619.1464\n",
      "Epoch 167/500\n",
      "13/13 [==============================] - 0s 4ms/step - loss: 972.2851 - val_loss: 608.6760\n",
      "Epoch 168/500\n",
      "13/13 [==============================] - 0s 4ms/step - loss: 959.2438 - val_loss: 598.3246\n",
      "Epoch 169/500\n",
      "13/13 [==============================] - 0s 4ms/step - loss: 946.3290 - val_loss: 588.0918\n",
      "Epoch 170/500\n",
      "13/13 [==============================] - 0s 4ms/step - loss: 933.5405 - val_loss: 577.9775\n",
      "Epoch 171/500\n",
      "13/13 [==============================] - 0s 4ms/step - loss: 920.8777 - val_loss: 567.9798\n",
      "Epoch 172/500\n",
      "13/13 [==============================] - 0s 4ms/step - loss: 908.3392 - val_loss: 558.0991\n",
      "Epoch 173/500\n",
      "13/13 [==============================] - 0s 4ms/step - loss: 895.9250 - val_loss: 548.3348\n",
      "Epoch 174/500\n",
      "13/13 [==============================] - 0s 4ms/step - loss: 883.6346 - val_loss: 538.6856\n",
      "Epoch 175/500\n",
      "13/13 [==============================] - 0s 4ms/step - loss: 871.4665 - val_loss: 529.1506\n",
      "Epoch 176/500\n",
      "13/13 [==============================] - 0s 5ms/step - loss: 859.4204 - val_loss: 519.7296\n",
      "Epoch 177/500\n",
      "13/13 [==============================] - 0s 4ms/step - loss: 847.4955 - val_loss: 510.4212\n",
      "Epoch 178/500\n",
      "13/13 [==============================] - 0s 5ms/step - loss: 835.6914 - val_loss: 501.2256\n",
      "Epoch 179/500\n",
      "13/13 [==============================] - 0s 5ms/step - loss: 824.0071 - val_loss: 492.1417\n",
      "Epoch 180/500\n",
      "13/13 [==============================] - 0s 5ms/step - loss: 812.4419 - val_loss: 483.1685\n",
      "Epoch 181/500\n",
      "13/13 [==============================] - 0s 5ms/step - loss: 800.9954 - val_loss: 474.3057\n",
      "Epoch 182/500\n",
      "13/13 [==============================] - 0s 5ms/step - loss: 789.6665 - val_loss: 465.5525\n",
      "Epoch 183/500\n",
      "13/13 [==============================] - 0s 5ms/step - loss: 778.4548 - val_loss: 456.9080\n",
      "Epoch 184/500\n",
      "13/13 [==============================] - 0s 5ms/step - loss: 767.3594 - val_loss: 448.3710\n",
      "Epoch 185/500\n",
      "13/13 [==============================] - 0s 5ms/step - loss: 756.3798 - val_loss: 439.9427\n",
      "Epoch 186/500\n",
      "13/13 [==============================] - 0s 5ms/step - loss: 745.5151 - val_loss: 431.6201\n",
      "Epoch 187/500\n",
      "13/13 [==============================] - 0s 5ms/step - loss: 734.7649 - val_loss: 423.4035\n",
      "Epoch 188/500\n",
      "13/13 [==============================] - 0s 10ms/step - loss: 724.1284 - val_loss: 415.2923\n",
      "Epoch 189/500\n",
      "13/13 [==============================] - 0s 5ms/step - loss: 713.6049 - val_loss: 407.2855\n",
      "Epoch 190/500\n",
      "13/13 [==============================] - 0s 5ms/step - loss: 703.1934 - val_loss: 399.3831\n",
      "Epoch 191/500\n",
      "13/13 [==============================] - 0s 5ms/step - loss: 692.8937 - val_loss: 391.5836\n",
      "Epoch 192/500\n",
      "13/13 [==============================] - 0s 5ms/step - loss: 682.7050 - val_loss: 383.8859\n",
      "Epoch 193/500\n",
      "13/13 [==============================] - 0s 5ms/step - loss: 672.6262 - val_loss: 376.2905\n",
      "Epoch 194/500\n",
      "13/13 [==============================] - 0s 5ms/step - loss: 662.6571 - val_loss: 368.7959\n",
      "Epoch 195/500\n",
      "13/13 [==============================] - 0s 5ms/step - loss: 652.7968 - val_loss: 361.4021\n",
      "Epoch 196/500\n",
      "13/13 [==============================] - 0s 5ms/step - loss: 643.0447 - val_loss: 354.1073\n",
      "Epoch 197/500\n",
      "13/13 [==============================] - 0s 5ms/step - loss: 633.4000 - val_loss: 346.9117\n",
      "Epoch 198/500\n",
      "13/13 [==============================] - 0s 5ms/step - loss: 623.8621 - val_loss: 339.8142\n",
      "Epoch 199/500\n",
      "13/13 [==============================] - 0s 5ms/step - loss: 614.4303 - val_loss: 332.8143\n",
      "Epoch 200/500\n",
      "13/13 [==============================] - 0s 5ms/step - loss: 605.1041 - val_loss: 325.9115\n",
      "Epoch 201/500\n",
      "13/13 [==============================] - 0s 5ms/step - loss: 595.8826 - val_loss: 319.1045\n",
      "Epoch 202/500\n",
      "13/13 [==============================] - 0s 5ms/step - loss: 586.7653 - val_loss: 312.3932\n",
      "Epoch 203/500\n",
      "13/13 [==============================] - 0s 4ms/step - loss: 577.7512 - val_loss: 305.7762\n",
      "Epoch 204/500\n",
      "13/13 [==============================] - 0s 5ms/step - loss: 568.8400 - val_loss: 299.2533\n",
      "Epoch 205/500\n",
      "13/13 [==============================] - 0s 5ms/step - loss: 560.0308 - val_loss: 292.8242\n",
      "Epoch 206/500\n",
      "13/13 [==============================] - 0s 5ms/step - loss: 551.3231 - val_loss: 286.4873\n",
      "Epoch 207/500\n",
      "13/13 [==============================] - 0s 4ms/step - loss: 542.7158 - val_loss: 280.2424\n",
      "Epoch 208/500\n",
      "13/13 [==============================] - 0s 4ms/step - loss: 534.2088 - val_loss: 274.0887\n",
      "Epoch 209/500\n",
      "13/13 [==============================] - 0s 4ms/step - loss: 525.8010 - val_loss: 268.0259\n",
      "Epoch 210/500\n",
      "13/13 [==============================] - 0s 4ms/step - loss: 517.4921 - val_loss: 262.0528\n",
      "Epoch 211/500\n",
      "13/13 [==============================] - 0s 4ms/step - loss: 509.2812 - val_loss: 256.1690\n",
      "Epoch 212/500\n",
      "13/13 [==============================] - 0s 4ms/step - loss: 501.1677 - val_loss: 250.3737\n",
      "Epoch 213/500\n",
      "13/13 [==============================] - 0s 4ms/step - loss: 493.1511 - val_loss: 244.6664\n",
      "Epoch 214/500\n",
      "13/13 [==============================] - 0s 4ms/step - loss: 485.2302 - val_loss: 239.0455\n",
      "Epoch 215/500\n",
      "13/13 [==============================] - 0s 10ms/step - loss: 477.4047 - val_loss: 233.5115\n",
      "Epoch 216/500\n",
      "13/13 [==============================] - 0s 5ms/step - loss: 469.6740 - val_loss: 228.0633\n",
      "Epoch 217/500\n",
      "13/13 [==============================] - 0s 5ms/step - loss: 462.0374 - val_loss: 222.7001\n",
      "Epoch 218/500\n",
      "13/13 [==============================] - 0s 5ms/step - loss: 454.4941 - val_loss: 217.4210\n",
      "Epoch 219/500\n",
      "13/13 [==============================] - 0s 5ms/step - loss: 447.0433 - val_loss: 212.2260\n",
      "Epoch 220/500\n",
      "13/13 [==============================] - 0s 5ms/step - loss: 439.6849 - val_loss: 207.1135\n",
      "Epoch 221/500\n",
      "13/13 [==============================] - 0s 5ms/step - loss: 432.4177 - val_loss: 202.0835\n",
      "Epoch 222/500\n",
      "13/13 [==============================] - 0s 5ms/step - loss: 425.2411 - val_loss: 197.1351\n",
      "Epoch 223/500\n",
      "13/13 [==============================] - 0s 5ms/step - loss: 418.1545 - val_loss: 192.2675\n",
      "Epoch 224/500\n",
      "13/13 [==============================] - 0s 5ms/step - loss: 411.1575 - val_loss: 187.4803\n",
      "Epoch 225/500\n",
      "13/13 [==============================] - 0s 5ms/step - loss: 404.2490 - val_loss: 182.7728\n",
      "Epoch 226/500\n",
      "13/13 [==============================] - 0s 5ms/step - loss: 397.4287 - val_loss: 178.1440\n",
      "Epoch 227/500\n",
      "13/13 [==============================] - 0s 5ms/step - loss: 390.6960 - val_loss: 173.5931\n",
      "Epoch 228/500\n",
      "13/13 [==============================] - 0s 5ms/step - loss: 384.0498 - val_loss: 169.1202\n",
      "Epoch 229/500\n",
      "13/13 [==============================] - 0s 5ms/step - loss: 377.4896 - val_loss: 164.7236\n",
      "Epoch 230/500\n",
      "13/13 [==============================] - 0s 5ms/step - loss: 371.0152 - val_loss: 160.4037\n",
      "Epoch 231/500\n",
      "13/13 [==============================] - 0s 5ms/step - loss: 364.6254 - val_loss: 156.1591\n",
      "Epoch 232/500\n",
      "13/13 [==============================] - 0s 5ms/step - loss: 358.3198 - val_loss: 151.9890\n",
      "Epoch 233/500\n",
      "13/13 [==============================] - 0s 5ms/step - loss: 352.0974 - val_loss: 147.8932\n",
      "Epoch 234/500\n",
      "13/13 [==============================] - 0s 5ms/step - loss: 345.9579 - val_loss: 143.8707\n",
      "Epoch 235/500\n",
      "13/13 [==============================] - 0s 4ms/step - loss: 339.9006 - val_loss: 139.9206\n",
      "Epoch 236/500\n",
      "13/13 [==============================] - 0s 4ms/step - loss: 333.9247 - val_loss: 136.0432\n",
      "Epoch 237/500\n",
      "13/13 [==============================] - 0s 5ms/step - loss: 328.0298 - val_loss: 132.2371\n",
      "Epoch 238/500\n",
      "13/13 [==============================] - 0s 4ms/step - loss: 322.2150 - val_loss: 128.5014\n",
      "Epoch 239/500\n",
      "13/13 [==============================] - 0s 5ms/step - loss: 316.4798 - val_loss: 124.8360\n",
      "Epoch 240/500\n",
      "13/13 [==============================] - 0s 11ms/step - loss: 310.8236 - val_loss: 121.2397\n",
      "Epoch 241/500\n",
      "13/13 [==============================] - 0s 5ms/step - loss: 305.2455 - val_loss: 117.7123\n",
      "Epoch 242/500\n",
      "13/13 [==============================] - 0s 5ms/step - loss: 299.7451 - val_loss: 114.2529\n",
      "Epoch 243/500\n",
      "13/13 [==============================] - 0s 5ms/step - loss: 294.3216 - val_loss: 110.8606\n",
      "Epoch 244/500\n",
      "13/13 [==============================] - 0s 5ms/step - loss: 288.9741 - val_loss: 107.5349\n",
      "Epoch 245/500\n",
      "13/13 [==============================] - 0s 5ms/step - loss: 283.7023 - val_loss: 104.2751\n",
      "Epoch 246/500\n",
      "13/13 [==============================] - 0s 4ms/step - loss: 278.5056 - val_loss: 101.0809\n",
      "Epoch 247/500\n",
      "13/13 [==============================] - 0s 5ms/step - loss: 273.3833 - val_loss: 97.9513\n",
      "Epoch 248/500\n",
      "13/13 [==============================] - 0s 5ms/step - loss: 268.3347 - val_loss: 94.8855\n",
      "Epoch 249/500\n",
      "13/13 [==============================] - 0s 5ms/step - loss: 263.3591 - val_loss: 91.8833\n",
      "Epoch 250/500\n",
      "13/13 [==============================] - 0s 6ms/step - loss: 258.4561 - val_loss: 88.9436\n",
      "Epoch 251/500\n",
      "13/13 [==============================] - 0s 6ms/step - loss: 253.6249 - val_loss: 86.0658\n",
      "Epoch 252/500\n",
      "13/13 [==============================] - 0s 5ms/step - loss: 248.8647 - val_loss: 83.2493\n",
      "Epoch 253/500\n",
      "13/13 [==============================] - 0s 4ms/step - loss: 244.1751 - val_loss: 80.4935\n",
      "Epoch 254/500\n",
      "13/13 [==============================] - 0s 4ms/step - loss: 239.5551 - val_loss: 77.7976\n",
      "Epoch 255/500\n",
      "13/13 [==============================] - 0s 5ms/step - loss: 235.0046 - val_loss: 75.1611\n",
      "Epoch 256/500\n",
      "13/13 [==============================] - 0s 5ms/step - loss: 230.5227 - val_loss: 72.5831\n",
      "Epoch 257/500\n",
      "13/13 [==============================] - 0s 5ms/step - loss: 226.1085 - val_loss: 70.0634\n",
      "Epoch 258/500\n",
      "13/13 [==============================] - 0s 4ms/step - loss: 221.7617 - val_loss: 67.6007\n",
      "Epoch 259/500\n",
      "13/13 [==============================] - 0s 4ms/step - loss: 217.4817 - val_loss: 65.1948\n",
      "Epoch 260/500\n",
      "13/13 [==============================] - 0s 5ms/step - loss: 213.2676 - val_loss: 62.8450\n",
      "Epoch 261/500\n",
      "13/13 [==============================] - 0s 5ms/step - loss: 209.1191 - val_loss: 60.5502\n",
      "Epoch 262/500\n",
      "13/13 [==============================] - 0s 5ms/step - loss: 205.0352 - val_loss: 58.3103\n",
      "Epoch 263/500\n",
      "13/13 [==============================] - 0s 5ms/step - loss: 201.0154 - val_loss: 56.1245\n",
      "Epoch 264/500\n",
      "13/13 [==============================] - 0s 14ms/step - loss: 197.0592 - val_loss: 53.9921\n",
      "Epoch 265/500\n",
      "13/13 [==============================] - 0s 7ms/step - loss: 193.1659 - val_loss: 51.9124\n",
      "Epoch 266/500\n",
      "13/13 [==============================] - 0s 7ms/step - loss: 189.3349 - val_loss: 49.8845\n",
      "Epoch 267/500\n",
      "13/13 [==============================] - 0s 7ms/step - loss: 185.5654 - val_loss: 47.9085\n",
      "Epoch 268/500\n",
      "13/13 [==============================] - 0s 7ms/step - loss: 181.8572 - val_loss: 45.9831\n",
      "Epoch 269/500\n",
      "13/13 [==============================] - 0s 7ms/step - loss: 178.2092 - val_loss: 44.1078\n",
      "Epoch 270/500\n",
      "13/13 [==============================] - 0s 6ms/step - loss: 174.6209 - val_loss: 42.2821\n",
      "Epoch 271/500\n",
      "13/13 [==============================] - 0s 6ms/step - loss: 171.0918 - val_loss: 40.5053\n",
      "Epoch 272/500\n",
      "13/13 [==============================] - 0s 6ms/step - loss: 167.6212 - val_loss: 38.7764\n",
      "Epoch 273/500\n",
      "13/13 [==============================] - 0s 7ms/step - loss: 164.2083 - val_loss: 37.0953\n",
      "Epoch 274/500\n",
      "13/13 [==============================] - 0s 7ms/step - loss: 160.8530 - val_loss: 35.4610\n",
      "Epoch 275/500\n",
      "13/13 [==============================] - 0s 6ms/step - loss: 157.5542 - val_loss: 33.8732\n",
      "Epoch 276/500\n",
      "13/13 [==============================] - 0s 6ms/step - loss: 154.3115 - val_loss: 32.3310\n",
      "Epoch 277/500\n",
      "13/13 [==============================] - 0s 5ms/step - loss: 151.1243 - val_loss: 30.8337\n",
      "Epoch 278/500\n",
      "13/13 [==============================] - 0s 5ms/step - loss: 147.9919 - val_loss: 29.3810\n",
      "Epoch 279/500\n",
      "13/13 [==============================] - 0s 7ms/step - loss: 144.9138 - val_loss: 27.9721\n",
      "Epoch 280/500\n",
      "13/13 [==============================] - 0s 6ms/step - loss: 141.8893 - val_loss: 26.6061\n",
      "Epoch 281/500\n",
      "13/13 [==============================] - 0s 5ms/step - loss: 138.9179 - val_loss: 25.2829\n",
      "Epoch 282/500\n",
      "13/13 [==============================] - 0s 6ms/step - loss: 135.9989 - val_loss: 24.0015\n",
      "Epoch 283/500\n",
      "13/13 [==============================] - 0s 5ms/step - loss: 133.1317 - val_loss: 22.7613\n",
      "Epoch 284/500\n",
      "13/13 [==============================] - 0s 5ms/step - loss: 130.3156 - val_loss: 21.5619\n",
      "Epoch 285/500\n",
      "13/13 [==============================] - 0s 6ms/step - loss: 127.5503 - val_loss: 20.4025\n",
      "Epoch 286/500\n",
      "13/13 [==============================] - 0s 7ms/step - loss: 124.8350 - val_loss: 19.2824\n",
      "Epoch 287/500\n",
      "13/13 [==============================] - 0s 6ms/step - loss: 122.1690 - val_loss: 18.2013\n",
      "Epoch 288/500\n",
      "13/13 [==============================] - 0s 7ms/step - loss: 119.5519 - val_loss: 17.1583\n",
      "Epoch 289/500\n",
      "13/13 [==============================] - 0s 11ms/step - loss: 116.9831 - val_loss: 16.1530\n",
      "Epoch 290/500\n",
      "13/13 [==============================] - 0s 5ms/step - loss: 114.4620 - val_loss: 15.1846\n",
      "Epoch 291/500\n",
      "13/13 [==============================] - 0s 5ms/step - loss: 111.9879 - val_loss: 14.2526\n",
      "Epoch 292/500\n",
      "13/13 [==============================] - 0s 5ms/step - loss: 109.5602 - val_loss: 13.3565\n",
      "Epoch 293/500\n",
      "13/13 [==============================] - 0s 6ms/step - loss: 107.1785 - val_loss: 12.4955\n",
      "Epoch 294/500\n",
      "13/13 [==============================] - 0s 5ms/step - loss: 104.8421 - val_loss: 11.6692\n",
      "Epoch 295/500\n",
      "13/13 [==============================] - 0s 5ms/step - loss: 102.5505 - val_loss: 10.8768\n",
      "Epoch 296/500\n",
      "13/13 [==============================] - 0s 6ms/step - loss: 100.3031 - val_loss: 10.1178\n",
      "Epoch 297/500\n",
      "13/13 [==============================] - 0s 5ms/step - loss: 98.0992 - val_loss: 9.3918\n",
      "Epoch 298/500\n",
      "13/13 [==============================] - 0s 6ms/step - loss: 95.9384 - val_loss: 8.6979\n",
      "Epoch 299/500\n",
      "13/13 [==============================] - 0s 7ms/step - loss: 93.8200 - val_loss: 8.0358\n",
      "Epoch 300/500\n",
      "13/13 [==============================] - 0s 5ms/step - loss: 91.7435 - val_loss: 7.4047\n",
      "Epoch 301/500\n",
      "13/13 [==============================] - 0s 7ms/step - loss: 89.7084 - val_loss: 6.8042\n",
      "Epoch 302/500\n",
      "13/13 [==============================] - 0s 6ms/step - loss: 87.7140 - val_loss: 6.2336\n",
      "Epoch 303/500\n",
      "13/13 [==============================] - 0s 5ms/step - loss: 85.7598 - val_loss: 5.6924\n",
      "Epoch 304/500\n",
      "13/13 [==============================] - 0s 7ms/step - loss: 83.8454 - val_loss: 5.1801\n",
      "Epoch 305/500\n",
      "13/13 [==============================] - 0s 5ms/step - loss: 81.9700 - val_loss: 4.6960\n",
      "Epoch 306/500\n",
      "13/13 [==============================] - 0s 7ms/step - loss: 80.1333 - val_loss: 4.2395\n",
      "Epoch 307/500\n",
      "13/13 [==============================] - 0s 6ms/step - loss: 78.3344 - val_loss: 3.8103\n",
      "Epoch 308/500\n",
      "13/13 [==============================] - 0s 6ms/step - loss: 76.5730 - val_loss: 3.4077\n",
      "Epoch 309/500\n",
      "13/13 [==============================] - 0s 7ms/step - loss: 74.8487 - val_loss: 3.0311\n",
      "Epoch 310/500\n",
      "13/13 [==============================] - 0s 7ms/step - loss: 73.1608 - val_loss: 2.6800\n",
      "Epoch 311/500\n",
      "13/13 [==============================] - 0s 8ms/step - loss: 71.5088 - val_loss: 2.3539\n",
      "Epoch 312/500\n",
      "13/13 [==============================] - 0s 7ms/step - loss: 69.8920 - val_loss: 2.0522\n",
      "Epoch 313/500\n",
      "13/13 [==============================] - 0s 5ms/step - loss: 68.3101 - val_loss: 1.7745\n",
      "Epoch 314/500\n",
      "13/13 [==============================] - 0s 6ms/step - loss: 66.7624 - val_loss: 1.5200\n",
      "Epoch 315/500\n",
      "13/13 [==============================] - 0s 6ms/step - loss: 65.2484 - val_loss: 1.2885\n",
      "Epoch 316/500\n",
      "13/13 [==============================] - 0s 15ms/step - loss: 63.7677 - val_loss: 1.0793\n",
      "Epoch 317/500\n",
      "13/13 [==============================] - 0s 9ms/step - loss: 62.3198 - val_loss: 0.8919\n",
      "Epoch 318/500\n",
      "13/13 [==============================] - 0s 7ms/step - loss: 60.9040 - val_loss: 0.7258\n",
      "Epoch 319/500\n",
      "13/13 [==============================] - 0s 8ms/step - loss: 59.5199 - val_loss: 0.5805\n",
      "Epoch 320/500\n",
      "13/13 [==============================] - 0s 8ms/step - loss: 58.1673 - val_loss: 0.4555\n",
      "Epoch 321/500\n",
      "13/13 [==============================] - 0s 8ms/step - loss: 56.8452 - val_loss: 0.3503\n",
      "Epoch 322/500\n",
      "13/13 [==============================] - 0s 8ms/step - loss: 55.5533 - val_loss: 0.2643\n",
      "Epoch 323/500\n",
      "13/13 [==============================] - 0s 9ms/step - loss: 54.2911 - val_loss: 0.1972\n",
      "Epoch 324/500\n",
      "13/13 [==============================] - 0s 8ms/step - loss: 53.0582 - val_loss: 0.1484\n",
      "Epoch 325/500\n",
      "13/13 [==============================] - 0s 8ms/step - loss: 51.8539 - val_loss: 0.1174\n",
      "Epoch 326/500\n",
      "13/13 [==============================] - 0s 8ms/step - loss: 50.6779 - val_loss: 0.1038\n",
      "Epoch 327/500\n",
      "13/13 [==============================] - 0s 7ms/step - loss: 49.5296 - val_loss: 0.1071\n",
      "Epoch 328/500\n",
      "13/13 [==============================] - 0s 7ms/step - loss: 48.4087 - val_loss: 0.1268\n",
      "Epoch 329/500\n",
      "13/13 [==============================] - 0s 7ms/step - loss: 47.3145 - val_loss: 0.1624\n",
      "Epoch 330/500\n",
      "13/13 [==============================] - 0s 7ms/step - loss: 46.2467 - val_loss: 0.2135\n",
      "Epoch 331/500\n",
      "13/13 [==============================] - 0s 5ms/step - loss: 45.2048 - val_loss: 0.2797\n",
      "Epoch 332/500\n",
      "13/13 [==============================] - 0s 7ms/step - loss: 44.1883 - val_loss: 0.3605\n",
      "Epoch 333/500\n",
      "13/13 [==============================] - 0s 7ms/step - loss: 43.1967 - val_loss: 0.4554\n",
      "Epoch 334/500\n",
      "13/13 [==============================] - 0s 5ms/step - loss: 42.2298 - val_loss: 0.5641\n",
      "Epoch 335/500\n",
      "13/13 [==============================] - 0s 5ms/step - loss: 41.2869 - val_loss: 0.6860\n",
      "Epoch 336/500\n",
      "13/13 [==============================] - 0s 6ms/step - loss: 40.3676 - val_loss: 0.8208\n",
      "Epoch 337/500\n",
      "13/13 [==============================] - 0s 13ms/step - loss: 39.4715 - val_loss: 0.9679\n",
      "Epoch 338/500\n",
      "13/13 [==============================] - 0s 8ms/step - loss: 38.5982 - val_loss: 1.1271\n",
      "Epoch 339/500\n",
      "13/13 [==============================] - 0s 8ms/step - loss: 37.7473 - val_loss: 1.2979\n",
      "Epoch 340/500\n",
      "13/13 [==============================] - 0s 7ms/step - loss: 36.9182 - val_loss: 1.4799\n",
      "Epoch 341/500\n",
      "13/13 [==============================] - 0s 6ms/step - loss: 36.1106 - val_loss: 1.6727\n",
      "Epoch 342/500\n",
      "13/13 [==============================] - 0s 7ms/step - loss: 35.3240 - val_loss: 1.8758\n",
      "Epoch 343/500\n",
      "13/13 [==============================] - 0s 6ms/step - loss: 34.5581 - val_loss: 2.0889\n",
      "Epoch 344/500\n",
      "13/13 [==============================] - 0s 5ms/step - loss: 33.8125 - val_loss: 2.3117\n",
      "Epoch 345/500\n",
      "13/13 [==============================] - 0s 7ms/step - loss: 33.0866 - val_loss: 2.5437\n",
      "Epoch 346/500\n",
      "13/13 [==============================] - 0s 7ms/step - loss: 32.3802 - val_loss: 2.7845\n",
      "Epoch 347/500\n",
      "13/13 [==============================] - 0s 6ms/step - loss: 31.6929 - val_loss: 3.0337\n",
      "Epoch 348/500\n",
      "13/13 [==============================] - 0s 7ms/step - loss: 31.0242 - val_loss: 3.2911\n",
      "Epoch 349/500\n",
      "13/13 [==============================] - 0s 7ms/step - loss: 30.3738 - val_loss: 3.5563\n",
      "Epoch 350/500\n",
      "13/13 [==============================] - 0s 7ms/step - loss: 29.7412 - val_loss: 3.8289\n",
      "Epoch 351/500\n",
      "13/13 [==============================] - 0s 6ms/step - loss: 29.1261 - val_loss: 4.1085\n",
      "Epoch 352/500\n",
      "13/13 [==============================] - 0s 5ms/step - loss: 28.5282 - val_loss: 4.3948\n",
      "Epoch 353/500\n",
      "13/13 [==============================] - 0s 7ms/step - loss: 27.9471 - val_loss: 4.6875\n",
      "Epoch 354/500\n",
      "13/13 [==============================] - 0s 7ms/step - loss: 27.3823 - val_loss: 4.9863\n",
      "Epoch 355/500\n",
      "13/13 [==============================] - 0s 5ms/step - loss: 26.8336 - val_loss: 5.2907\n",
      "Epoch 356/500\n",
      "13/13 [==============================] - 0s 5ms/step - loss: 26.3006 - val_loss: 5.6006\n",
      "Epoch 357/500\n",
      "13/13 [==============================] - 0s 7ms/step - loss: 25.7828 - val_loss: 5.9156\n",
      "Epoch 358/500\n",
      "13/13 [==============================] - 0s 5ms/step - loss: 25.2802 - val_loss: 6.2353\n",
      "Epoch 359/500\n",
      "13/13 [==============================] - 0s 5ms/step - loss: 24.7921 - val_loss: 6.5594\n",
      "Epoch 360/500\n",
      "13/13 [==============================] - 0s 11ms/step - loss: 24.3184 - val_loss: 6.8879\n",
      "Epoch 361/500\n",
      "13/13 [==============================] - 0s 5ms/step - loss: 23.8586 - val_loss: 7.2202\n",
      "Epoch 362/500\n",
      "13/13 [==============================] - 0s 9ms/step - loss: 23.4126 - val_loss: 7.5560\n",
      "Epoch 363/500\n",
      "13/13 [==============================] - 0s 7ms/step - loss: 22.9798 - val_loss: 7.8952\n",
      "Epoch 364/500\n",
      "13/13 [==============================] - 0s 6ms/step - loss: 22.5601 - val_loss: 8.2375\n",
      "Epoch 365/500\n",
      "13/13 [==============================] - 0s 7ms/step - loss: 22.1531 - val_loss: 8.5824\n",
      "Epoch 366/500\n",
      "13/13 [==============================] - 0s 5ms/step - loss: 21.7586 - val_loss: 8.9300\n",
      "Epoch 367/500\n",
      "13/13 [==============================] - 0s 7ms/step - loss: 21.3761 - val_loss: 9.2797\n",
      "Epoch 368/500\n",
      "13/13 [==============================] - 0s 5ms/step - loss: 21.0055 - val_loss: 9.6315\n",
      "Epoch 369/500\n",
      "13/13 [==============================] - 0s 5ms/step - loss: 20.6464 - val_loss: 9.9851\n",
      "Epoch 370/500\n",
      "13/13 [==============================] - 0s 7ms/step - loss: 20.2985 - val_loss: 10.3401\n",
      "Epoch 371/500\n",
      "13/13 [==============================] - 0s 7ms/step - loss: 19.9616 - val_loss: 10.6965\n",
      "Epoch 372/500\n",
      "13/13 [==============================] - 0s 7ms/step - loss: 19.6353 - val_loss: 11.0540\n",
      "Epoch 373/500\n",
      "13/13 [==============================] - 0s 7ms/step - loss: 19.3194 - val_loss: 11.4123\n",
      "Epoch 374/500\n",
      "13/13 [==============================] - 0s 5ms/step - loss: 19.0137 - val_loss: 11.7712\n",
      "Epoch 375/500\n",
      "13/13 [==============================] - 0s 5ms/step - loss: 18.7178 - val_loss: 12.1306\n",
      "Epoch 376/500\n",
      "13/13 [==============================] - 0s 7ms/step - loss: 18.4315 - val_loss: 12.4901\n",
      "Epoch 377/500\n",
      "13/13 [==============================] - 0s 7ms/step - loss: 18.1546 - val_loss: 12.8497\n",
      "Epoch 378/500\n",
      "13/13 [==============================] - 0s 6ms/step - loss: 17.8868 - val_loss: 13.2091\n",
      "Epoch 379/500\n",
      "13/13 [==============================] - 0s 6ms/step - loss: 17.6278 - val_loss: 13.5682\n",
      "Epoch 380/500\n",
      "13/13 [==============================] - 0s 7ms/step - loss: 17.3774 - val_loss: 13.9266\n",
      "Epoch 381/500\n",
      "13/13 [==============================] - 0s 12ms/step - loss: 17.1355 - val_loss: 14.2844\n",
      "Epoch 382/500\n",
      "13/13 [==============================] - 0s 8ms/step - loss: 16.9017 - val_loss: 14.6412\n",
      "Epoch 383/500\n",
      "13/13 [==============================] - 0s 7ms/step - loss: 16.6757 - val_loss: 14.9971\n",
      "Epoch 384/500\n",
      "13/13 [==============================] - 0s 7ms/step - loss: 16.4576 - val_loss: 15.3516\n",
      "Epoch 385/500\n",
      "13/13 [==============================] - 0s 6ms/step - loss: 16.2468 - val_loss: 15.7049\n",
      "Epoch 386/500\n",
      "13/13 [==============================] - 0s 7ms/step - loss: 16.0433 - val_loss: 16.0566\n",
      "Epoch 387/500\n",
      "13/13 [==============================] - 0s 6ms/step - loss: 15.8469 - val_loss: 16.4065\n",
      "Epoch 388/500\n",
      "13/13 [==============================] - 0s 7ms/step - loss: 15.6574 - val_loss: 16.7547\n",
      "Epoch 389/500\n",
      "13/13 [==============================] - 0s 7ms/step - loss: 15.4745 - val_loss: 17.1008\n",
      "Epoch 390/500\n",
      "13/13 [==============================] - 0s 7ms/step - loss: 15.2980 - val_loss: 17.4448\n",
      "Epoch 391/500\n",
      "13/13 [==============================] - 0s 7ms/step - loss: 15.1279 - val_loss: 17.7868\n",
      "Epoch 392/500\n",
      "13/13 [==============================] - 0s 7ms/step - loss: 14.9638 - val_loss: 18.1263\n",
      "Epoch 393/500\n",
      "13/13 [==============================] - 0s 7ms/step - loss: 14.8056 - val_loss: 18.4635\n",
      "Epoch 394/500\n",
      "13/13 [==============================] - 0s 7ms/step - loss: 14.6530 - val_loss: 18.7980\n",
      "Epoch 395/500\n",
      "13/13 [==============================] - 0s 7ms/step - loss: 14.5061 - val_loss: 19.1299\n",
      "Epoch 396/500\n",
      "13/13 [==============================] - 0s 5ms/step - loss: 14.3645 - val_loss: 19.4592\n",
      "Epoch 397/500\n",
      "13/13 [==============================] - 0s 5ms/step - loss: 14.2281 - val_loss: 19.7856\n",
      "Epoch 398/500\n",
      "13/13 [==============================] - 0s 5ms/step - loss: 14.0967 - val_loss: 20.1089\n",
      "Epoch 399/500\n",
      "13/13 [==============================] - 0s 5ms/step - loss: 13.9702 - val_loss: 20.4291\n",
      "Epoch 400/500\n",
      "13/13 [==============================] - 0s 5ms/step - loss: 13.8485 - val_loss: 20.7463\n",
      "Epoch 401/500\n",
      "13/13 [==============================] - 0s 5ms/step - loss: 13.7313 - val_loss: 21.0604\n",
      "Epoch 402/500\n",
      "13/13 [==============================] - 0s 11ms/step - loss: 13.6185 - val_loss: 21.3710\n",
      "Epoch 403/500\n",
      "13/13 [==============================] - 0s 9ms/step - loss: 13.5100 - val_loss: 21.6785\n",
      "Epoch 404/500\n",
      "13/13 [==============================] - 0s 11ms/step - loss: 13.4056 - val_loss: 21.9825\n",
      "Epoch 405/500\n",
      "13/13 [==============================] - 0s 10ms/step - loss: 13.3052 - val_loss: 22.2830\n",
      "Epoch 406/500\n",
      "13/13 [==============================] - 0s 8ms/step - loss: 13.2087 - val_loss: 22.5802\n",
      "Epoch 407/500\n",
      "13/13 [==============================] - 0s 7ms/step - loss: 13.1159 - val_loss: 22.8735\n",
      "Epoch 408/500\n",
      "13/13 [==============================] - 0s 7ms/step - loss: 13.0267 - val_loss: 23.1634\n",
      "Epoch 409/500\n",
      "13/13 [==============================] - 0s 9ms/step - loss: 12.9410 - val_loss: 23.4495\n",
      "Epoch 410/500\n",
      "13/13 [==============================] - 0s 8ms/step - loss: 12.8587 - val_loss: 23.7321\n",
      "Epoch 411/500\n",
      "13/13 [==============================] - 0s 8ms/step - loss: 12.7796 - val_loss: 24.0106\n",
      "Epoch 412/500\n",
      "13/13 [==============================] - 0s 7ms/step - loss: 12.7037 - val_loss: 24.2856\n",
      "Epoch 413/500\n",
      "13/13 [==============================] - 0s 7ms/step - loss: 12.6307 - val_loss: 24.5567\n",
      "Epoch 414/500\n",
      "13/13 [==============================] - 0s 5ms/step - loss: 12.5607 - val_loss: 24.8240\n",
      "Epoch 415/500\n",
      "13/13 [==============================] - 0s 7ms/step - loss: 12.4935 - val_loss: 25.0872\n",
      "Epoch 416/500\n",
      "13/13 [==============================] - 0s 7ms/step - loss: 12.4290 - val_loss: 25.3468\n",
      "Epoch 417/500\n",
      "13/13 [==============================] - 0s 6ms/step - loss: 12.3671 - val_loss: 25.6024\n",
      "Epoch 418/500\n",
      "13/13 [==============================] - 0s 7ms/step - loss: 12.3078 - val_loss: 25.8540\n",
      "Epoch 419/500\n",
      "13/13 [==============================] - 0s 14ms/step - loss: 12.2508 - val_loss: 26.1017\n",
      "Epoch 420/500\n",
      "13/13 [==============================] - 0s 10ms/step - loss: 12.1963 - val_loss: 26.3455\n",
      "Epoch 421/500\n",
      "13/13 [==============================] - 0s 7ms/step - loss: 12.1439 - val_loss: 26.5853\n",
      "Epoch 422/500\n",
      "13/13 [==============================] - 0s 7ms/step - loss: 12.0937 - val_loss: 26.8212\n",
      "Epoch 423/500\n",
      "13/13 [==============================] - 0s 8ms/step - loss: 12.0456 - val_loss: 27.0530\n",
      "Epoch 424/500\n",
      "13/13 [==============================] - 0s 7ms/step - loss: 11.9996 - val_loss: 27.2808\n",
      "Epoch 425/500\n",
      "13/13 [==============================] - 0s 7ms/step - loss: 11.9555 - val_loss: 27.5049\n",
      "Epoch 426/500\n",
      "13/13 [==============================] - 0s 5ms/step - loss: 11.9132 - val_loss: 27.7247\n",
      "Epoch 427/500\n",
      "13/13 [==============================] - 0s 6ms/step - loss: 11.8727 - val_loss: 27.9410\n",
      "Epoch 428/500\n",
      "13/13 [==============================] - 0s 5ms/step - loss: 11.8338 - val_loss: 28.1532\n",
      "Epoch 429/500\n",
      "13/13 [==============================] - 0s 5ms/step - loss: 11.7967 - val_loss: 28.3614\n",
      "Epoch 430/500\n",
      "13/13 [==============================] - 0s 6ms/step - loss: 11.7612 - val_loss: 28.5660\n",
      "Epoch 431/500\n",
      "13/13 [==============================] - 0s 5ms/step - loss: 11.7271 - val_loss: 28.7664\n",
      "Epoch 432/500\n",
      "13/13 [==============================] - 0s 7ms/step - loss: 11.6945 - val_loss: 28.9629\n",
      "Epoch 433/500\n",
      "13/13 [==============================] - 0s 7ms/step - loss: 11.6634 - val_loss: 29.1558\n",
      "Epoch 434/500\n",
      "13/13 [==============================] - 0s 7ms/step - loss: 11.6335 - val_loss: 29.3449\n",
      "Epoch 435/500\n",
      "13/13 [==============================] - 0s 6ms/step - loss: 11.6050 - val_loss: 29.5301\n",
      "Epoch 436/500\n",
      "13/13 [==============================] - 0s 7ms/step - loss: 11.5777 - val_loss: 29.7117\n",
      "Epoch 437/500\n",
      "13/13 [==============================] - 0s 7ms/step - loss: 11.5516 - val_loss: 29.8893\n",
      "Epoch 438/500\n",
      "13/13 [==============================] - 0s 7ms/step - loss: 11.5266 - val_loss: 30.0635\n",
      "Epoch 439/500\n",
      "13/13 [==============================] - 0s 7ms/step - loss: 11.5027 - val_loss: 30.2338\n",
      "Epoch 440/500\n",
      "13/13 [==============================] - 0s 12ms/step - loss: 11.4799 - val_loss: 30.4006\n",
      "Epoch 441/500\n",
      "13/13 [==============================] - 0s 11ms/step - loss: 11.4581 - val_loss: 30.5636\n",
      "Epoch 442/500\n",
      "13/13 [==============================] - 0s 10ms/step - loss: 11.4372 - val_loss: 30.7233\n",
      "Epoch 443/500\n",
      "13/13 [==============================] - 0s 9ms/step - loss: 11.4173 - val_loss: 30.8795\n",
      "Epoch 444/500\n",
      "13/13 [==============================] - 0s 9ms/step - loss: 11.3982 - val_loss: 31.0322\n",
      "Epoch 445/500\n",
      "13/13 [==============================] - 0s 9ms/step - loss: 11.3800 - val_loss: 31.1813\n",
      "Epoch 446/500\n",
      "13/13 [==============================] - 0s 11ms/step - loss: 11.3626 - val_loss: 31.3271\n",
      "Epoch 447/500\n",
      "13/13 [==============================] - 0s 12ms/step - loss: 11.3460 - val_loss: 31.4694\n",
      "Epoch 448/500\n",
      "13/13 [==============================] - 0s 10ms/step - loss: 11.3301 - val_loss: 31.6085\n",
      "Epoch 449/500\n",
      "13/13 [==============================] - 0s 10ms/step - loss: 11.3149 - val_loss: 31.7444\n",
      "Epoch 450/500\n",
      "13/13 [==============================] - 0s 9ms/step - loss: 11.3004 - val_loss: 31.8770\n",
      "Epoch 451/500\n",
      "13/13 [==============================] - 0s 9ms/step - loss: 11.2865 - val_loss: 32.0062\n",
      "Epoch 452/500\n",
      "13/13 [==============================] - 0s 11ms/step - loss: 11.2733 - val_loss: 32.1324\n",
      "Epoch 453/500\n",
      "13/13 [==============================] - 0s 16ms/step - loss: 11.2607 - val_loss: 32.2554\n",
      "Epoch 454/500\n",
      "13/13 [==============================] - 0s 13ms/step - loss: 11.2486 - val_loss: 32.3753\n",
      "Epoch 455/500\n",
      "13/13 [==============================] - 0s 9ms/step - loss: 11.2372 - val_loss: 32.4924\n",
      "Epoch 456/500\n",
      "13/13 [==============================] - 0s 8ms/step - loss: 11.2261 - val_loss: 32.6064\n",
      "Epoch 457/500\n",
      "13/13 [==============================] - 0s 8ms/step - loss: 11.2156 - val_loss: 32.7175\n",
      "Epoch 458/500\n",
      "13/13 [==============================] - 0s 6ms/step - loss: 11.2056 - val_loss: 32.8260\n",
      "Epoch 459/500\n",
      "13/13 [==============================] - 0s 7ms/step - loss: 11.1960 - val_loss: 32.9313\n",
      "Epoch 460/500\n",
      "13/13 [==============================] - 0s 7ms/step - loss: 11.1869 - val_loss: 33.0339\n",
      "Epoch 461/500\n",
      "13/13 [==============================] - 0s 7ms/step - loss: 11.1782 - val_loss: 33.1336\n",
      "Epoch 462/500\n",
      "13/13 [==============================] - 0s 7ms/step - loss: 11.1699 - val_loss: 33.2309\n",
      "Epoch 463/500\n",
      "13/13 [==============================] - 0s 6ms/step - loss: 11.1619 - val_loss: 33.3255\n",
      "Epoch 464/500\n",
      "13/13 [==============================] - 0s 7ms/step - loss: 11.1543 - val_loss: 33.4176\n",
      "Epoch 465/500\n",
      "13/13 [==============================] - 0s 8ms/step - loss: 11.1471 - val_loss: 33.5068\n",
      "Epoch 466/500\n",
      "13/13 [==============================] - 0s 9ms/step - loss: 11.1402 - val_loss: 33.5939\n",
      "Epoch 467/500\n",
      "13/13 [==============================] - 0s 10ms/step - loss: 11.1336 - val_loss: 33.6784\n",
      "Epoch 468/500\n",
      "13/13 [==============================] - 0s 8ms/step - loss: 11.1273 - val_loss: 33.7606\n",
      "Epoch 469/500\n",
      "13/13 [==============================] - 0s 7ms/step - loss: 11.1213 - val_loss: 33.8401\n",
      "Epoch 470/500\n",
      "13/13 [==============================] - 0s 6ms/step - loss: 11.1155 - val_loss: 33.9177\n",
      "Epoch 471/500\n",
      "13/13 [==============================] - 0s 7ms/step - loss: 11.1101 - val_loss: 33.9928\n",
      "Epoch 472/500\n",
      "13/13 [==============================] - 0s 6ms/step - loss: 11.1049 - val_loss: 34.0659\n",
      "Epoch 473/500\n",
      "13/13 [==============================] - 0s 5ms/step - loss: 11.0998 - val_loss: 34.1367\n",
      "Epoch 474/500\n",
      "13/13 [==============================] - 0s 8ms/step - loss: 11.0951 - val_loss: 34.2057\n",
      "Epoch 475/500\n",
      "13/13 [==============================] - 0s 9ms/step - loss: 11.0905 - val_loss: 34.2723\n",
      "Epoch 476/500\n",
      "13/13 [==============================] - 0s 6ms/step - loss: 11.0862 - val_loss: 34.3370\n",
      "Epoch 477/500\n",
      "13/13 [==============================] - 0s 8ms/step - loss: 11.0821 - val_loss: 34.3996\n",
      "Epoch 478/500\n",
      "13/13 [==============================] - 0s 9ms/step - loss: 11.0781 - val_loss: 34.4602\n",
      "Epoch 479/500\n",
      "13/13 [==============================] - 0s 7ms/step - loss: 11.0744 - val_loss: 34.5191\n",
      "Epoch 480/500\n",
      "13/13 [==============================] - 0s 11ms/step - loss: 11.0707 - val_loss: 34.5761\n",
      "Epoch 481/500\n",
      "13/13 [==============================] - 0s 9ms/step - loss: 11.0673 - val_loss: 34.6313\n",
      "Epoch 482/500\n",
      "13/13 [==============================] - 0s 13ms/step - loss: 11.0641 - val_loss: 34.6848\n",
      "Epoch 483/500\n",
      "13/13 [==============================] - 0s 11ms/step - loss: 11.0609 - val_loss: 34.7366\n",
      "Epoch 484/500\n",
      "13/13 [==============================] - 0s 7ms/step - loss: 11.0579 - val_loss: 34.7864\n",
      "Epoch 485/500\n",
      "13/13 [==============================] - 0s 7ms/step - loss: 11.0551 - val_loss: 34.8350\n",
      "Epoch 486/500\n",
      "13/13 [==============================] - 0s 6ms/step - loss: 11.0524 - val_loss: 34.8817\n",
      "Epoch 487/500\n",
      "13/13 [==============================] - 0s 7ms/step - loss: 11.0498 - val_loss: 34.9270\n",
      "Epoch 488/500\n",
      "13/13 [==============================] - 0s 6ms/step - loss: 11.0473 - val_loss: 34.9709\n",
      "Epoch 489/500\n",
      "13/13 [==============================] - 0s 7ms/step - loss: 11.0450 - val_loss: 35.0132\n",
      "Epoch 490/500\n",
      "13/13 [==============================] - 0s 7ms/step - loss: 11.0427 - val_loss: 35.0541\n",
      "Epoch 491/500\n",
      "13/13 [==============================] - 0s 5ms/step - loss: 11.0405 - val_loss: 35.0936\n",
      "Epoch 492/500\n",
      "13/13 [==============================] - 0s 5ms/step - loss: 11.0385 - val_loss: 35.1318\n",
      "Epoch 493/500\n",
      "13/13 [==============================] - 0s 5ms/step - loss: 11.0365 - val_loss: 35.1687\n",
      "Epoch 494/500\n",
      "13/13 [==============================] - 0s 5ms/step - loss: 11.0347 - val_loss: 35.2040\n",
      "Epoch 495/500\n",
      "13/13 [==============================] - 0s 5ms/step - loss: 11.0329 - val_loss: 35.2385\n",
      "Epoch 496/500\n",
      "13/13 [==============================] - 0s 6ms/step - loss: 11.0312 - val_loss: 35.2715\n",
      "Epoch 497/500\n",
      "13/13 [==============================] - 0s 7ms/step - loss: 11.0296 - val_loss: 35.3032\n",
      "Epoch 498/500\n",
      "13/13 [==============================] - 0s 8ms/step - loss: 11.0281 - val_loss: 35.3339\n",
      "Epoch 499/500\n",
      "13/13 [==============================] - 0s 7ms/step - loss: 11.0266 - val_loss: 35.3636\n",
      "Epoch 500/500\n",
      "13/13 [==============================] - 0s 6ms/step - loss: 11.0252 - val_loss: 35.3921\n"
     ]
    }
   ],
   "source": [
    "C0 = tf.Variable(86.8407, name=\"C0\", trainable=True, dtype=tf.float32)\n",
    "K0 = tf.Variable(-0.0015, name=\"K0\", trainable=True, dtype=tf.float32)\n",
    "K1 = tf.Variable(-0.0001, name=\"K1\", trainable=True, dtype=tf.float32)\n",
    "a = tf.Variable(0.0000, name=\"a\", trainable=True, dtype=tf.float32)\n",
    "b = tf.Variable(0.0118, name=\"b\", trainable=True, dtype=tf.float32)\n",
    "c = tf.Variable(2.5775, name=\"c\", trainable=True, dtype=tf.float32)\n",
    "\n",
    "splitr = 0.8\n",
    "\n",
    "\n",
    "def loss_fn(y_true, y_pred):\n",
    "    squared_difference = tf.square(y_true[:, 0] - y_pred[:, 0])\n",
    "    #squared_difference2 = tf.square(y_true[:, 2]-y_pred[:, 2])\n",
    "    #squared_difference1 = tf.square(y_true[:, 1]-y_pred[:, 1])\n",
    "    epsilon = 1\n",
    "    squared_difference3 = tf.square(\n",
    "        y_pred[:, 1] - (\n",
    "            y_pred[:, 0] * (\n",
    "                K0 - K1 * (\n",
    "                    9 * a * tf.math.log((y_pred[:, 0] + epsilon) / C0) / (K0 - K1 * c)**2 +\n",
    "                    4 * b * tf.math.log((y_pred[:, 0] + epsilon) / C0) / (K0 - K1 * c) + c\n",
    "                )\n",
    "            )\n",
    "        )\n",
    "    )\n",
    "    return tf.reduce_mean(squared_difference, axis=-1) + 0.2*tf.reduce_mean(squared_difference3, axis=-1)\n",
    "model = Sequential()\n",
    "model.add(LSTM(100, input_shape=(trainX.shape[1], trainX.shape[2])))\n",
    "model.add(Dense(60))\n",
    "model.compile(loss=loss_fn, optimizer='adam')\n",
    "history = model.fit(trainX[:int(splitr*trainX.shape[0])], trainy[:int(splitr*trainX.shape[0])], epochs=500, batch_size=64, validation_data=(trainX[int(splitr*trainX.shape[0]):trainX.shape[0]], trainy[int(splitr*trainX.shape[0]):trainX.shape[0]]), shuffle=False)"
   ]
  },
  {
   "cell_type": "code",
   "execution_count": 19,
   "metadata": {
    "colab": {
     "base_uri": "https://localhost:8080/"
    },
    "id": "yJL101rPyuoT",
    "outputId": "239ff2b1-c186-423a-d316-939dfdd7c793"
   },
   "outputs": [
    {
     "name": "stdout",
     "output_type": "stream",
     "text": [
      "1/1 [==============================] - 0s 406ms/step\n"
     ]
    }
   ],
   "source": [
    "forecast_without_mc = forecastX\n",
    "yhat_without_mc = model.predict(forecast_without_mc) # Step Ahead Prediction\n",
    "forecast_without_mc = forecast_without_mc.reshape((forecast_without_mc.shape[0], forecast_without_mc.shape[2])) # Historical Input"
   ]
  },
  {
   "cell_type": "code",
   "execution_count": 20,
   "metadata": {
    "colab": {
     "base_uri": "https://localhost:8080/"
    },
    "id": "g9dQELcJ8wbp",
    "outputId": "4dc7671b-b1a8-48d5-8744-a86f98446109"
   },
   "outputs": [
    {
     "data": {
      "text/plain": [
       "(1, 1, 251)"
      ]
     },
     "execution_count": 20,
     "metadata": {},
     "output_type": "execute_result"
    }
   ],
   "source": [
    "forecastX.shape"
   ]
  },
  {
   "cell_type": "code",
   "execution_count": 21,
   "metadata": {
    "colab": {
     "base_uri": "https://localhost:8080/"
    },
    "id": "IS2kyIKG1Kbr",
    "outputId": "f31b3485-8e26-452f-9298-ea8bf7e80ad1"
   },
   "outputs": [
    {
     "data": {
      "text/plain": [
       "(1, 251)"
      ]
     },
     "execution_count": 21,
     "metadata": {},
     "output_type": "execute_result"
    }
   ],
   "source": [
    "forecast_without_mc.shape"
   ]
  },
  {
   "cell_type": "code",
   "execution_count": 22,
   "metadata": {
    "id": "0u6VIzaDyuoT"
   },
   "outputs": [],
   "source": [
    "inv_yhat_without_mc = np.concatenate((forecast_without_mc, yhat_without_mc), axis=1) # Concatenation of predicted values with Historical Data\n",
    "#inv_yhat_without_mc = scaler.inverse_transform(inv_yhat_without_mc) # Transform labels back to original encoding"
   ]
  },
  {
   "cell_type": "code",
   "execution_count": 23,
   "metadata": {
    "colab": {
     "base_uri": "https://localhost:8080/"
    },
    "id": "EUEcw0LX07oU",
    "outputId": "cfc32397-9c37-4b43-d087-584bb31c3dcc"
   },
   "outputs": [
    {
     "data": {
      "text/plain": [
       "(1, 311)"
      ]
     },
     "execution_count": 23,
     "metadata": {},
     "output_type": "execute_result"
    }
   ],
   "source": [
    "inv_yhat_without_mc.shape"
   ]
  },
  {
   "cell_type": "code",
   "execution_count": 24,
   "metadata": {
    "id": "31OWVbSh_305"
   },
   "outputs": [],
   "source": [
    "fforecast = inv_yhat_without_mc[:,-300:]"
   ]
  },
  {
   "cell_type": "code",
   "execution_count": 25,
   "metadata": {},
   "outputs": [
    {
     "data": {
      "text/plain": [
       "(1, 300)"
      ]
     },
     "execution_count": 25,
     "metadata": {},
     "output_type": "execute_result"
    }
   ],
   "source": [
    "fforecast.shape"
   ]
  },
  {
   "cell_type": "code",
   "execution_count": 26,
   "metadata": {
    "id": "BlpGH2FOAiRF"
   },
   "outputs": [],
   "source": [
    "final_forecast = fforecast[:,0:300:3]"
   ]
  },
  {
   "cell_type": "code",
   "execution_count": 27,
   "metadata": {},
   "outputs": [
    {
     "data": {
      "text/plain": [
       "(1, 300)"
      ]
     },
     "execution_count": 27,
     "metadata": {},
     "output_type": "execute_result"
    }
   ],
   "source": [
    "fforecast.shape"
   ]
  },
  {
   "cell_type": "code",
   "execution_count": 28,
   "metadata": {
    "id": "CXkgkj_LBk_t"
   },
   "outputs": [],
   "source": [
    "# code to replace all negative value with 0\n",
    "final_forecast[final_forecast<0] = 0"
   ]
  },
  {
   "cell_type": "code",
   "execution_count": 29,
   "metadata": {},
   "outputs": [
    {
     "data": {
      "text/plain": [
       "array([[70.80609244, 70.75287115, 70.69964986, 70.64642857, 70.59320728,\n",
       "        70.53998599, 70.48676471, 70.43354342, 70.38032213, 70.32710084,\n",
       "        70.27387955, 70.22065826, 70.16743697, 70.11421569, 70.0609944 ,\n",
       "        70.00777311, 69.95455182, 69.90133053, 69.89453782, 69.88893557,\n",
       "        69.88333333, 69.87773109, 69.87212885, 69.86652661, 69.86092437,\n",
       "        69.85532213, 69.84971989, 69.84411765, 69.83851541, 69.83291317,\n",
       "        69.82731092, 69.82170868, 69.81610644, 69.8105042 , 69.80490196,\n",
       "        69.79929972, 69.79369748, 69.78809524, 69.782493  , 69.77689076,\n",
       "        69.77128852, 69.76568627, 69.76008403, 69.75448179, 69.74887955,\n",
       "        69.74327731, 69.73767507, 69.73207283, 69.72647059, 69.72086835,\n",
       "        69.71526611, 69.70966387, 69.70406162, 69.69691877, 69.68571429,\n",
       "        69.6745098 , 69.66330532, 69.65210084, 69.64089636, 69.62969188,\n",
       "        69.61848739, 69.60728291, 69.59607843, 69.58487395, 69.57366947,\n",
       "        69.56246499, 69.5512605 , 69.54005602, 69.52885154, 69.51764706,\n",
       "        69.50644258, 69.4952381 , 69.48403361, 69.47282913, 69.46162465,\n",
       "        69.45042017, 69.43921569, 69.4280112 , 69.41680672, 69.40560224,\n",
       "        75.67118835,  0.        ,  0.        ,  0.        ,  0.13426104,\n",
       "         0.        ,  0.21786909,  0.        ,  0.        ,  0.        ,\n",
       "         0.14823352,  0.        ,  0.30652425,  0.50972205,  0.        ,\n",
       "         0.41961008,  0.53856009,  0.        ,  0.        ,  0.        ]])"
      ]
     },
     "execution_count": 29,
     "metadata": {},
     "output_type": "execute_result"
    }
   ],
   "source": [
    "final_forecast"
   ]
  },
  {
   "cell_type": "code",
   "execution_count": 30,
   "metadata": {},
   "outputs": [
    {
     "data": {
      "text/plain": [
       "(1, 100)"
      ]
     },
     "execution_count": 30,
     "metadata": {},
     "output_type": "execute_result"
    }
   ],
   "source": [
    "final_forecast.shape"
   ]
  },
  {
   "cell_type": "code",
   "execution_count": 31,
   "metadata": {},
   "outputs": [
    {
     "data": {
      "text/plain": [
       "(100,)"
      ]
     },
     "execution_count": 31,
     "metadata": {},
     "output_type": "execute_result"
    }
   ],
   "source": [
    "test.shape"
   ]
  },
  {
   "cell_type": "code",
   "execution_count": 32,
   "metadata": {},
   "outputs": [],
   "source": [
    "training_set = np.array(training_set)\n",
    "test = np.array(test)\n",
    "final_forecast = np.array(final_forecast.squeeze(0))"
   ]
  },
  {
   "cell_type": "code",
   "execution_count": 33,
   "metadata": {},
   "outputs": [
    {
     "data": {
      "text/plain": [
       "array([67.26687675, 67.25287115, 67.23886555, 67.22485994, 67.21085434,\n",
       "       67.19684874, 67.18284314, 67.16883754, 67.15483193, 67.14082633,\n",
       "       67.12682073, 67.11281513, 67.09880952, 67.08480392, 67.07079832,\n",
       "       67.05679272, 67.04278711, 67.02878151, 67.01477591, 67.00077031,\n",
       "       66.98676471, 66.9727591 , 66.9587535 , 66.9447479 , 66.9307423 ,\n",
       "       66.91673669, 66.90273109, 66.88872549, 66.87471989, 66.86071429,\n",
       "       66.84670868, 66.83270308, 66.81869748, 66.80469188, 66.79068627,\n",
       "       66.77668067, 66.76267507, 66.74866947, 66.73466387, 66.72065826,\n",
       "       66.70665266, 66.69607843, 66.68860878, 66.68113912, 66.67366947,\n",
       "       66.66619981, 66.65873016, 66.6512605 , 66.64379085, 66.6363212 ,\n",
       "       66.62885154, 66.62138189, 66.61391223, 66.60644258, 66.59897292,\n",
       "       66.59150327, 66.58403361, 66.57656396, 66.5690943 , 66.56162465,\n",
       "       66.554155  , 66.54668534, 66.53921569, 66.53174603, 66.52427638,\n",
       "       66.51680672, 66.50933707, 66.50186741, 66.49439776, 66.4869281 ,\n",
       "       66.47945845, 66.4719888 , 66.46451914, 66.45704949, 66.44957983,\n",
       "       66.44211018, 66.43464052, 66.42717087, 66.41970121, 66.41223156,\n",
       "       66.4047619 , 66.39729225, 66.3898226 , 66.38235294, 66.37488329,\n",
       "       66.36741363, 66.35994398, 66.35247432, 66.34500467, 66.33753501,\n",
       "       66.33006536, 66.3225957 , 66.31512605, 66.3076564 , 66.30018674,\n",
       "       66.29271709, 66.28524743, 66.27777778, 66.27030812, 66.26283847])"
      ]
     },
     "execution_count": 33,
     "metadata": {},
     "output_type": "execute_result"
    }
   ],
   "source": [
    "test"
   ]
  },
  {
   "cell_type": "code",
   "execution_count": 34,
   "metadata": {},
   "outputs": [
    {
     "data": {
      "text/plain": [
       "(100,)"
      ]
     },
     "execution_count": 34,
     "metadata": {},
     "output_type": "execute_result"
    }
   ],
   "source": [
    "test.shape"
   ]
  },
  {
   "cell_type": "code",
   "execution_count": 35,
   "metadata": {},
   "outputs": [
    {
     "data": {
      "text/plain": [
       "(100,)"
      ]
     },
     "execution_count": 35,
     "metadata": {},
     "output_type": "execute_result"
    }
   ],
   "source": [
    "final_forecast.shape"
   ]
  },
  {
   "cell_type": "code",
   "execution_count": 36,
   "metadata": {},
   "outputs": [
    {
     "data": {
      "text/plain": [
       "(100,)"
      ]
     },
     "execution_count": 36,
     "metadata": {},
     "output_type": "execute_result"
    }
   ],
   "source": [
    "test.shape"
   ]
  },
  {
   "cell_type": "code",
   "execution_count": 37,
   "metadata": {},
   "outputs": [
    {
     "name": "stdout",
     "output_type": "stream",
     "text": [
      "29.005461534271557\n",
      "15.124198209300662\n"
     ]
    }
   ],
   "source": [
    "import math\n",
    "MSE = np.square(np.subtract(np.array(test),np.array(final_forecast))).mean()   \n",
    "rsme = math.sqrt(MSE)\n",
    "print(rsme)  \n",
    "MAE = np.abs(np.subtract(np.array(test),np.array(final_forecast))).mean()   \n",
    "mae = MAE\n",
    "print(mae)"
   ]
  }
 ],
 "metadata": {
  "colab": {
   "provenance": []
  },
  "kernelspec": {
   "display_name": "Python 3",
   "language": "python",
   "name": "python3"
  },
  "language_info": {
   "codemirror_mode": {
    "name": "ipython",
    "version": 3
   },
   "file_extension": ".py",
   "mimetype": "text/x-python",
   "name": "python",
   "nbconvert_exporter": "python",
   "pygments_lexer": "ipython3",
   "version": "3.9.13"
  }
 },
 "nbformat": 4,
 "nbformat_minor": 0
}
