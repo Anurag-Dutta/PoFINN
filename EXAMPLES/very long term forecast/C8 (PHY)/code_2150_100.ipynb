{
 "cells": [
  {
   "cell_type": "markdown",
   "metadata": {
    "id": "pCGKeZ2gyuoQ"
   },
   "source": [
    "_Importing Required Libraries_"
   ]
  },
  {
   "cell_type": "code",
   "execution_count": 1,
   "metadata": {
    "colab": {
     "base_uri": "https://localhost:8080/"
    },
    "id": "A-6LN-zXiLcM",
    "outputId": "4de610a4-f8b8-4f49-c6c0-89de299ccedc"
   },
   "outputs": [
    {
     "name": "stdout",
     "output_type": "stream",
     "text": [
      "Requirement already satisfied: hampel in c:\\users\\anurag dutta\\appdata\\local\\packages\\pythonsoftwarefoundation.python.3.9_qbz5n2kfra8p0\\localcache\\local-packages\\python39\\site-packages (0.0.5)\n",
      "Requirement already satisfied: numpy in c:\\users\\anurag dutta\\appdata\\local\\packages\\pythonsoftwarefoundation.python.3.9_qbz5n2kfra8p0\\localcache\\local-packages\\python39\\site-packages (from hampel) (1.26.4)\n",
      "Requirement already satisfied: pandas in c:\\users\\anurag dutta\\appdata\\local\\packages\\pythonsoftwarefoundation.python.3.9_qbz5n2kfra8p0\\localcache\\local-packages\\python39\\site-packages (from hampel) (1.5.2)\n",
      "Requirement already satisfied: python-dateutil>=2.8.1 in c:\\users\\anurag dutta\\appdata\\local\\packages\\pythonsoftwarefoundation.python.3.9_qbz5n2kfra8p0\\localcache\\local-packages\\python39\\site-packages (from pandas->hampel) (2.8.2)\n",
      "Requirement already satisfied: pytz>=2020.1 in c:\\users\\anurag dutta\\appdata\\local\\packages\\pythonsoftwarefoundation.python.3.9_qbz5n2kfra8p0\\localcache\\local-packages\\python39\\site-packages (from pandas->hampel) (2023.3.post1)\n",
      "Requirement already satisfied: six>=1.5 in c:\\users\\anurag dutta\\appdata\\local\\packages\\pythonsoftwarefoundation.python.3.9_qbz5n2kfra8p0\\localcache\\local-packages\\python39\\site-packages (from python-dateutil>=2.8.1->pandas->hampel) (1.16.0)\n",
      "Note: you may need to restart the kernel to use updated packages.\n"
     ]
    },
    {
     "name": "stderr",
     "output_type": "stream",
     "text": [
      "\n",
      "[notice] A new release of pip is available: 24.2 -> 24.3.1\n",
      "[notice] To update, run: C:\\Users\\Anurag Dutta\\AppData\\Local\\Microsoft\\WindowsApps\\PythonSoftwareFoundation.Python.3.9_qbz5n2kfra8p0\\python.exe -m pip install --upgrade pip\n"
     ]
    }
   ],
   "source": [
    "pip install hampel"
   ]
  },
  {
   "cell_type": "code",
   "execution_count": 2,
   "metadata": {
    "id": "By_d9uXpaFvZ"
   },
   "outputs": [],
   "source": [
    "from keras.models import Sequential\n",
    "from keras.layers import Dense\n",
    "from keras.layers import LSTM\n",
    "from keras.layers import Dropout\n",
    "import keras\n",
    "import tensorflow as tf\n",
    "from hampel import hampel\n",
    "import numpy as np\n",
    "import matplotlib.pyplot as plt\n",
    "import pandas as pd\n",
    "from sklearn.preprocessing import MinMaxScaler\n",
    "from sklearn.metrics import mean_squared_error, mean_absolute_error\n",
    "from math import sqrt\n",
    "from matplotlib import pyplot\n",
    "from numpy import array"
   ]
  },
  {
   "cell_type": "markdown",
   "metadata": {
    "id": "JyOjBMFayuoR"
   },
   "source": [
    "## Pretraining"
   ]
  },
  {
   "cell_type": "markdown",
   "metadata": {
    "id": "-5QqIY_GyuoR"
   },
   "source": [
    "The `capa_intermittency.dat` feeds the model with the dynamics of the Capacitor"
   ]
  },
  {
   "cell_type": "code",
   "execution_count": 3,
   "metadata": {
    "id": "9dV4a8yfyuoR"
   },
   "outputs": [],
   "source": [
    "data = np.genfromtxt('capa_intermittency.dat')\n",
    "training_set = pd.DataFrame(data).reset_index(drop=True)\n",
    "training_set = training_set.iloc[:,0]"
   ]
  },
  {
   "cell_type": "markdown",
   "metadata": {
    "id": "i7easoxByuoR"
   },
   "source": [
    "## Computing the Gradient"
   ]
  },
  {
   "cell_type": "markdown",
   "metadata": {
    "id": "5SnyolJTyuoR"
   },
   "source": [
    "_Calculating the value of_ $\\frac{dx}{dt}$"
   ]
  },
  {
   "cell_type": "code",
   "execution_count": 4,
   "metadata": {
    "colab": {
     "base_uri": "https://localhost:8080/"
    },
    "id": "wmIbVfIvyuoR",
    "outputId": "aa4e3136-c854-465d-d2e9-81cfd546e440"
   },
   "outputs": [
    {
     "name": "stdout",
     "output_type": "stream",
     "text": [
      "1.0\n",
      "1        0.000298\n",
      "2        0.000298\n",
      "3        0.000297\n",
      "4        0.000297\n",
      "5        0.000297\n",
      "           ...   \n",
      "9996     0.000018\n",
      "9997     0.000018\n",
      "9998     0.000018\n",
      "9999     0.000018\n",
      "10000    0.000018\n",
      "Name: 0, Length: 10000, dtype: float64\n"
     ]
    }
   ],
   "source": [
    "t_diff = 1\n",
    "print(training_set.max())\n",
    "gradient_t = (training_set.diff()/t_diff).iloc[1:] # dx/dt\n",
    "print(gradient_t)"
   ]
  },
  {
   "cell_type": "markdown",
   "metadata": {
    "id": "_2eVeeoxyuoS"
   },
   "source": [
    "## Loading Datasets"
   ]
  },
  {
   "cell_type": "code",
   "execution_count": 5,
   "metadata": {
    "id": "0J-NKyIEyuoS"
   },
   "outputs": [
    {
     "data": {
      "text/plain": [
       "0       88.200000\n",
       "1       87.987115\n",
       "2       87.774230\n",
       "3       87.561345\n",
       "4       87.348459\n",
       "          ...    \n",
       "2245    57.590633\n",
       "2246    57.581615\n",
       "2247    57.572597\n",
       "2248    57.563579\n",
       "2249    57.554560\n",
       "Name: C8, Length: 2250, dtype: float64"
      ]
     },
     "execution_count": 5,
     "metadata": {},
     "output_type": "execute_result"
    }
   ],
   "source": [
    "data = pd.read_csv(\"c8_interpolated_2150_100.csv\")\n",
    "training_set = data.iloc[:, 1]\n",
    "training_set"
   ]
  },
  {
   "cell_type": "code",
   "execution_count": 6,
   "metadata": {
    "colab": {
     "base_uri": "https://localhost:8080/"
    },
    "id": "-CbNUhJ74UqF",
    "outputId": "20f562d8-8247-49cc-b9c3-00eca5e13e2d"
   },
   "outputs": [
    {
     "data": {
      "text/plain": [
       "0       88.200000\n",
       "1       87.987115\n",
       "2       87.774230\n",
       "3       87.561345\n",
       "4       87.348459\n",
       "          ...    \n",
       "2145     0.000000\n",
       "2146     1.116794\n",
       "2147     0.000000\n",
       "2148     0.000000\n",
       "2149     0.056816\n",
       "Name: C8, Length: 2150, dtype: float64"
      ]
     },
     "execution_count": 6,
     "metadata": {},
     "output_type": "execute_result"
    }
   ],
   "source": [
    "test = training_set.tail(100)\n",
    "test\n",
    "training_set = training_set.head(2150)\n",
    "training_set"
   ]
  },
  {
   "cell_type": "code",
   "execution_count": 7,
   "metadata": {
    "colab": {
     "base_uri": "https://localhost:8080/"
    },
    "id": "X0TwTcq0yuoS",
    "outputId": "37252ed8-d88e-4044-fa7a-922411990b5b"
   },
   "outputs": [
    {
     "name": "stdout",
     "output_type": "stream",
     "text": [
      "0       0.000298\n",
      "1       0.000298\n",
      "2       0.000297\n",
      "3       0.000297\n",
      "4       0.000297\n",
      "          ...   \n",
      "9995    0.000018\n",
      "9996    0.000018\n",
      "9997    0.000018\n",
      "9998    0.000018\n",
      "9999    0.000018\n",
      "Name: 0, Length: 10000, dtype: float64\n"
     ]
    }
   ],
   "source": [
    "training_set = training_set.reset_index(drop=True)\n",
    "gradient_t = gradient_t.reset_index(drop=True)\n",
    "print(gradient_t)"
   ]
  },
  {
   "cell_type": "code",
   "execution_count": 8,
   "metadata": {
    "id": "O2biznZQyuoS"
   },
   "outputs": [],
   "source": [
    "df = pd.concat((training_set, gradient_t), axis=1)\n",
    "df.columns = ['y_t', 'grad_t']"
   ]
  },
  {
   "cell_type": "code",
   "execution_count": 9,
   "metadata": {
    "colab": {
     "base_uri": "https://localhost:8080/",
     "height": 423
    },
    "id": "sk_a5v3tyuoS",
    "outputId": "17563625-e550-45ae-faab-fafa353e44da"
   },
   "outputs": [
    {
     "data": {
      "text/html": [
       "<div>\n",
       "<style scoped>\n",
       "    .dataframe tbody tr th:only-of-type {\n",
       "        vertical-align: middle;\n",
       "    }\n",
       "\n",
       "    .dataframe tbody tr th {\n",
       "        vertical-align: top;\n",
       "    }\n",
       "\n",
       "    .dataframe thead th {\n",
       "        text-align: right;\n",
       "    }\n",
       "</style>\n",
       "<table border=\"1\" class=\"dataframe\">\n",
       "  <thead>\n",
       "    <tr style=\"text-align: right;\">\n",
       "      <th></th>\n",
       "      <th>y_t</th>\n",
       "      <th>grad_t</th>\n",
       "    </tr>\n",
       "  </thead>\n",
       "  <tbody>\n",
       "    <tr>\n",
       "      <th>0</th>\n",
       "      <td>88.200000</td>\n",
       "      <td>0.000298</td>\n",
       "    </tr>\n",
       "    <tr>\n",
       "      <th>1</th>\n",
       "      <td>87.987115</td>\n",
       "      <td>0.000298</td>\n",
       "    </tr>\n",
       "    <tr>\n",
       "      <th>2</th>\n",
       "      <td>87.774230</td>\n",
       "      <td>0.000297</td>\n",
       "    </tr>\n",
       "    <tr>\n",
       "      <th>3</th>\n",
       "      <td>87.561345</td>\n",
       "      <td>0.000297</td>\n",
       "    </tr>\n",
       "    <tr>\n",
       "      <th>4</th>\n",
       "      <td>87.348459</td>\n",
       "      <td>0.000297</td>\n",
       "    </tr>\n",
       "    <tr>\n",
       "      <th>...</th>\n",
       "      <td>...</td>\n",
       "      <td>...</td>\n",
       "    </tr>\n",
       "    <tr>\n",
       "      <th>9995</th>\n",
       "      <td>NaN</td>\n",
       "      <td>0.000018</td>\n",
       "    </tr>\n",
       "    <tr>\n",
       "      <th>9996</th>\n",
       "      <td>NaN</td>\n",
       "      <td>0.000018</td>\n",
       "    </tr>\n",
       "    <tr>\n",
       "      <th>9997</th>\n",
       "      <td>NaN</td>\n",
       "      <td>0.000018</td>\n",
       "    </tr>\n",
       "    <tr>\n",
       "      <th>9998</th>\n",
       "      <td>NaN</td>\n",
       "      <td>0.000018</td>\n",
       "    </tr>\n",
       "    <tr>\n",
       "      <th>9999</th>\n",
       "      <td>NaN</td>\n",
       "      <td>0.000018</td>\n",
       "    </tr>\n",
       "  </tbody>\n",
       "</table>\n",
       "<p>10000 rows × 2 columns</p>\n",
       "</div>"
      ],
      "text/plain": [
       "            y_t    grad_t\n",
       "0     88.200000  0.000298\n",
       "1     87.987115  0.000298\n",
       "2     87.774230  0.000297\n",
       "3     87.561345  0.000297\n",
       "4     87.348459  0.000297\n",
       "...         ...       ...\n",
       "9995        NaN  0.000018\n",
       "9996        NaN  0.000018\n",
       "9997        NaN  0.000018\n",
       "9998        NaN  0.000018\n",
       "9999        NaN  0.000018\n",
       "\n",
       "[10000 rows x 2 columns]"
      ]
     },
     "execution_count": 9,
     "metadata": {},
     "output_type": "execute_result"
    }
   ],
   "source": [
    "df"
   ]
  },
  {
   "cell_type": "markdown",
   "metadata": {
    "id": "-5esyHu5aFvg"
   },
   "source": [
    "## Plot of the External Forcing from Chaotic Differential Equation"
   ]
  },
  {
   "cell_type": "code",
   "execution_count": 10,
   "metadata": {
    "colab": {
     "base_uri": "https://localhost:8080/",
     "height": 447
    },
    "id": "hGnE43tOh-4p",
    "outputId": "fc396503-b624-4fa5-dfbe-f460207405c6"
   },
   "outputs": [
    {
     "data": {
      "text/plain": [
       "<Axes: >"
      ]
     },
     "execution_count": 10,
     "metadata": {},
     "output_type": "execute_result"
    },
    {
     "data": {
      "image/png": "[encoded data removed]",
      "text/plain": [
       "<Figure size 432x288 with 1 Axes>"
      ]
     },
     "metadata": {
      "needs_background": "light"
     },
     "output_type": "display_data"
    }
   ],
   "source": [
    "df.iloc[:, 0].plot()"
   ]
  },
  {
   "cell_type": "code",
   "execution_count": 11,
   "metadata": {
    "colab": {
     "base_uri": "https://localhost:8080/",
     "height": 447
    },
    "id": "ym4xWUUxaFvg",
    "outputId": "ae6a3495-8ce9-437e-ba81-3ed31deedeae"
   },
   "outputs": [
    {
     "name": "stderr",
     "output_type": "stream",
     "text": [
      "C:\\Users\\Anurag Dutta\\AppData\\Local\\Packages\\PythonSoftwareFoundation.Python.3.9_qbz5n2kfra8p0\\LocalCache\\local-packages\\Python39\\site-packages\\pandas\\core\\arraylike.py:402: RuntimeWarning: divide by zero encountered in log\n",
      "  result = getattr(ufunc, method)(*inputs, **kwargs)\n"
     ]
    },
    {
     "data": {
      "text/plain": [
       "<Axes: >"
      ]
     },
     "execution_count": 11,
     "metadata": {},
     "output_type": "execute_result"
    },
    {
     "data": {
      "image/png": "[encoded data removed]",
      "text/plain": [
       "<Figure size 432x288 with 1 Axes>"
      ]
     },
     "metadata": {
      "needs_background": "light"
     },
     "output_type": "display_data"
    }
   ],
   "source": [
    "import numpy as np\n",
    "c0 = 85.7336  # Value for C0\n",
    "K0 = -0.0020  # Value for K0\n",
    "K1 = 0.0002  # Value for K1\n",
    "a = 0.0000    # Value for a\n",
    "b = 0.0125    # Value for b\n",
    "c = 2.3008    # Value for c\n",
    "\n",
    "L = np.minimum(c0, (df.iloc[:, 1] - (df.iloc[:, 0] * (K0 - K1 * (9 * a * np.log(df.iloc[:, 0] / c0) / (K0 - K1 * c)**2 + 4 * b * np.log(df.iloc[:, 0] / c0) / (K0 - K1 * c) + c)))))\n",
    "L.plot()"
   ]
  },
  {
   "cell_type": "markdown",
   "metadata": {
    "id": "9VyEywnwaFvh"
   },
   "source": [
    "## Preprocessing the data into supervised learning"
   ]
  },
  {
   "cell_type": "code",
   "execution_count": 12,
   "metadata": {
    "id": "6V9dXqzdaFvh"
   },
   "outputs": [],
   "source": [
    "# split a sequence into samples\n",
    "def Supervised(data, n_in=1, n_out=1, dropnan=True):\n",
    "    n_vars = 1 if type(data) is list else data.shape[1]\n",
    "    df = pd.DataFrame(data)\n",
    "    cols, names = list(), list()\n",
    "    # input sequence (t-n_in, ... t-1)\n",
    "    for i in range(n_in, 0, -1):\n",
    "        cols.append(df.shift(i))\n",
    "        names += [('var%d(t-%d)' % (j+1, i)) for j in range(n_vars)]\n",
    "    # forecast sequence (t, t+1, ... t+n_out)\n",
    "    for i in range(0, n_out):\n",
    "      cols.append(df.shift(-i))\n",
    "      if i == 0:\n",
    "        names += [('var%d(t)' % (j+1)) for j in range(n_vars)]\n",
    "      else:\n",
    "        names += [('var%d(t+%d)' % (j+1, i)) for j in range(n_vars)]\n",
    "    # put it all together\n",
    "    agg = pd.concat(cols, axis=1)\n",
    "    agg.columns = names\n",
    "    # drop rows with NaN values\n",
    "    if dropnan:\n",
    "       agg.dropna(inplace=True)\n",
    "    return agg"
   ]
  },
  {
   "cell_type": "code",
   "execution_count": 13,
   "metadata": {
    "colab": {
     "base_uri": "https://localhost:8080/"
    },
    "id": "CrzSrT1HnyfH",
    "outputId": "7e75f928-3e47-499d-eac1-51908015ef78"
   },
   "outputs": [
    {
     "name": "stdout",
     "output_type": "stream",
     "text": [
      "     var1(t-350)  var1(t-349)  var1(t-348)  var1(t-347)  var1(t-346)  \\\n",
      "350    88.200000    87.987115    87.774230    87.561345    87.348459   \n",
      "351    87.987115    87.774230    87.561345    87.348459    87.135574   \n",
      "352    87.774230    87.561345    87.348459    87.135574    86.922689   \n",
      "353    87.561345    87.348459    87.135574    86.922689    86.709804   \n",
      "354    87.348459    87.135574    86.922689    86.709804    86.496919   \n",
      "\n",
      "     var1(t-345)  var1(t-344)  var1(t-343)  var1(t-342)  var1(t-341)  ...  \\\n",
      "350    87.135574    86.922689    86.709804    86.496919    86.294538  ...   \n",
      "351    86.922689    86.709804    86.496919    86.294538    86.221709  ...   \n",
      "352    86.709804    86.496919    86.294538    86.221709    86.148880  ...   \n",
      "353    86.496919    86.294538    86.221709    86.148880    86.076050  ...   \n",
      "354    86.294538    86.221709    86.148880    86.076050    86.003221  ...   \n",
      "\n",
      "     var1(t+95)  var2(t+95)  var1(t+96)  var2(t+96)  var1(t+97)  var2(t+97)  \\\n",
      "350   76.094351    0.000263   76.058870    0.000263   76.023389    0.000263   \n",
      "351   76.058870    0.000263   76.023389    0.000263   75.987909    0.000262   \n",
      "352   76.023389    0.000263   75.987909    0.000262   75.952428    0.000262   \n",
      "353   75.987909    0.000262   75.952428    0.000262   75.916947    0.000262   \n",
      "354   75.952428    0.000262   75.916947    0.000262   75.881466    0.000262   \n",
      "\n",
      "     var1(t+98)  var2(t+98)  var1(t+99)  var2(t+99)  \n",
      "350   75.987909    0.000262   75.952428    0.000262  \n",
      "351   75.952428    0.000262   75.916947    0.000262  \n",
      "352   75.916947    0.000262   75.881466    0.000262  \n",
      "353   75.881466    0.000262   75.845985    0.000262  \n",
      "354   75.845985    0.000262   75.810504    0.000262  \n",
      "\n",
      "[5 rows x 551 columns]\n",
      "Index(['var1(t-350)', 'var1(t-349)', 'var1(t-348)', 'var1(t-347)',\n",
      "       'var1(t-346)', 'var1(t-345)', 'var1(t-344)', 'var1(t-343)',\n",
      "       'var1(t-342)', 'var1(t-341)',\n",
      "       ...\n",
      "       'var1(t+95)', 'var2(t+95)', 'var1(t+96)', 'var2(t+96)', 'var1(t+97)',\n",
      "       'var2(t+97)', 'var1(t+98)', 'var2(t+98)', 'var1(t+99)', 'var2(t+99)'],\n",
      "      dtype='object', length=551)\n"
     ]
    }
   ],
   "source": [
    "data = Supervised(df.values, n_in = 350, n_out = 100)\n",
    "\n",
    "\n",
    "cols_to_drop = []\n",
    "for i in range(2, 351):\n",
    "    cols_to_drop.extend([f'var2(t-{i})'])\n",
    "\n",
    "data.drop(cols_to_drop, axis=1, inplace=True)\n",
    "\n",
    "print(data.head())\n",
    "print(data.columns)"
   ]
  },
  {
   "cell_type": "code",
   "execution_count": 14,
   "metadata": {
    "id": "AfPf60oy6Pe4"
   },
   "outputs": [],
   "source": [
    "train = np.array(data[0:len(data)-1])\n",
    "forecast = np.array(data.tail(1))"
   ]
  },
  {
   "cell_type": "code",
   "execution_count": 15,
   "metadata": {
    "id": "WSAafzI37KiT"
   },
   "outputs": [],
   "source": [
    "trainy = train[:,-300:]\n",
    "trainX = train[:,:-300]"
   ]
  },
  {
   "cell_type": "code",
   "execution_count": 16,
   "metadata": {
    "id": "2SrOqVJA7f50"
   },
   "outputs": [],
   "source": [
    "forecasty = forecast[:,-300:]\n",
    "forecastX = forecast[:,:-300]"
   ]
  },
  {
   "cell_type": "code",
   "execution_count": 17,
   "metadata": {
    "colab": {
     "base_uri": "https://localhost:8080/"
    },
    "id": "Qno_k8Nw7saY",
    "outputId": "c4a88db5-d8c6-489f-cdb2-06b24e293cff"
   },
   "outputs": [
    {
     "name": "stdout",
     "output_type": "stream",
     "text": [
      "(1700, 1, 251) (1700, 300) (1, 1, 251)\n"
     ]
    }
   ],
   "source": [
    "trainX = trainX.reshape((trainX.shape[0], 1, trainX.shape[1]))\n",
    "forecastX = forecastX.reshape((forecastX.shape[0], 1, forecastX.shape[1]))\n",
    "print(trainX.shape, trainy.shape, forecastX.shape)"
   ]
  },
  {
   "cell_type": "code",
   "execution_count": 18,
   "metadata": {
    "colab": {
     "base_uri": "https://localhost:8080/"
    },
    "id": "b1Jp2DvNuNFx",
    "outputId": "d0e5b3c4-64f1-438c-eade-8dfeaac8e285"
   },
   "outputs": [
    {
     "name": "stdout",
     "output_type": "stream",
     "text": [
      "Epoch 1/500\n",
      "22/22 [==============================] - 2s 24ms/step - loss: 4545.4517 - val_loss: 2587.1187\n",
      "Epoch 2/500\n",
      "22/22 [==============================] - 0s 4ms/step - loss: 4372.2686 - val_loss: 2489.6147\n",
      "Epoch 3/500\n",
      "22/22 [==============================] - 0s 4ms/step - loss: 4248.9004 - val_loss: 2418.9470\n",
      "Epoch 4/500\n",
      "22/22 [==============================] - 0s 5ms/step - loss: 4123.7505 - val_loss: 2344.5981\n",
      "Epoch 5/500\n",
      "22/22 [==============================] - 0s 5ms/step - loss: 4019.7290 - val_loss: 2290.7351\n",
      "Epoch 6/500\n",
      "22/22 [==============================] - 0s 5ms/step - loss: 3928.6089 - val_loss: 2240.3027\n",
      "Epoch 7/500\n",
      "22/22 [==============================] - 0s 4ms/step - loss: 3841.2854 - val_loss: 2192.0659\n",
      "Epoch 8/500\n",
      "22/22 [==============================] - 0s 4ms/step - loss: 3756.7400 - val_loss: 2145.9878\n",
      "Epoch 9/500\n",
      "22/22 [==============================] - 0s 5ms/step - loss: 3674.5762 - val_loss: 2101.2451\n",
      "Epoch 10/500\n",
      "22/22 [==============================] - 0s 4ms/step - loss: 3594.4348 - val_loss: 2057.5742\n",
      "Epoch 11/500\n",
      "22/22 [==============================] - 0s 4ms/step - loss: 3505.5312 - val_loss: 2008.2369\n",
      "Epoch 12/500\n",
      "22/22 [==============================] - 0s 4ms/step - loss: 3422.8918 - val_loss: 1965.3019\n",
      "Epoch 13/500\n",
      "22/22 [==============================] - 0s 5ms/step - loss: 3343.8518 - val_loss: 1924.1475\n",
      "Epoch 14/500\n",
      "22/22 [==============================] - 0s 5ms/step - loss: 3267.1294 - val_loss: 1884.5243\n",
      "Epoch 15/500\n",
      "22/22 [==============================] - 0s 5ms/step - loss: 3192.3716 - val_loss: 1846.2815\n",
      "Epoch 16/500\n",
      "22/22 [==============================] - 0s 5ms/step - loss: 3119.3721 - val_loss: 1809.3256\n",
      "Epoch 17/500\n",
      "22/22 [==============================] - 0s 5ms/step - loss: 3048.0017 - val_loss: 1773.5908\n",
      "Epoch 18/500\n",
      "22/22 [==============================] - 0s 4ms/step - loss: 2978.1692 - val_loss: 1739.0270\n",
      "Epoch 19/500\n",
      "22/22 [==============================] - 0s 4ms/step - loss: 2909.8066 - val_loss: 1705.5940\n",
      "Epoch 20/500\n",
      "22/22 [==============================] - 0s 4ms/step - loss: 2842.8599 - val_loss: 1673.2568\n",
      "Epoch 21/500\n",
      "22/22 [==============================] - 0s 5ms/step - loss: 2777.2832 - val_loss: 1641.9858\n",
      "Epoch 22/500\n",
      "22/22 [==============================] - 0s 6ms/step - loss: 2713.0371 - val_loss: 1611.7540\n",
      "Epoch 23/500\n",
      "22/22 [==============================] - 0s 5ms/step - loss: 2650.0896 - val_loss: 1582.5374\n",
      "Epoch 24/500\n",
      "22/22 [==============================] - 0s 6ms/step - loss: 2588.4082 - val_loss: 1554.3125\n",
      "Epoch 25/500\n",
      "22/22 [==============================] - 0s 5ms/step - loss: 2527.9666 - val_loss: 1527.0583\n",
      "Epoch 26/500\n",
      "22/22 [==============================] - 0s 6ms/step - loss: 2468.7390 - val_loss: 1500.7546\n",
      "Epoch 27/500\n",
      "22/22 [==============================] - 0s 4ms/step - loss: 2410.7012 - val_loss: 1474.8892\n",
      "Epoch 28/500\n",
      "22/22 [==============================] - 0s 4ms/step - loss: 2349.0925 - val_loss: 1447.2627\n",
      "Epoch 29/500\n",
      "22/22 [==============================] - 0s 5ms/step - loss: 2287.3965 - val_loss: 1421.5573\n",
      "Epoch 30/500\n",
      "22/22 [==============================] - 0s 6ms/step - loss: 2228.1958 - val_loss: 1397.3251\n",
      "Epoch 31/500\n",
      "22/22 [==============================] - 0s 5ms/step - loss: 2171.1135 - val_loss: 1374.3351\n",
      "Epoch 32/500\n",
      "22/22 [==============================] - 0s 4ms/step - loss: 2115.7717 - val_loss: 1352.4548\n",
      "Epoch 33/500\n",
      "22/22 [==============================] - 0s 5ms/step - loss: 2061.9595 - val_loss: 1331.6042\n",
      "Epoch 34/500\n",
      "22/22 [==============================] - 0s 5ms/step - loss: 2009.5479 - val_loss: 1311.7263\n",
      "Epoch 35/500\n",
      "22/22 [==============================] - 0s 6ms/step - loss: 1958.4509 - val_loss: 1292.7792\n",
      "Epoch 36/500\n",
      "22/22 [==============================] - 0s 5ms/step - loss: 1908.6033 - val_loss: 1274.7274\n",
      "Epoch 37/500\n",
      "22/22 [==============================] - 0s 4ms/step - loss: 1859.9546 - val_loss: 1257.5421\n",
      "Epoch 38/500\n",
      "22/22 [==============================] - 0s 4ms/step - loss: 1812.4626 - val_loss: 1241.1968\n",
      "Epoch 39/500\n",
      "22/22 [==============================] - 0s 5ms/step - loss: 1766.0923 - val_loss: 1225.6680\n",
      "Epoch 40/500\n",
      "22/22 [==============================] - 0s 5ms/step - loss: 1720.8119 - val_loss: 1210.9337\n",
      "Epoch 41/500\n",
      "22/22 [==============================] - 0s 5ms/step - loss: 1676.5928 - val_loss: 1196.9741\n",
      "Epoch 42/500\n",
      "22/22 [==============================] - 0s 7ms/step - loss: 1633.4113 - val_loss: 1183.7694\n",
      "Epoch 43/500\n",
      "22/22 [==============================] - 0s 6ms/step - loss: 1591.2419 - val_loss: 1171.3019\n",
      "Epoch 44/500\n",
      "22/22 [==============================] - 0s 4ms/step - loss: 1550.0640 - val_loss: 1159.5535\n",
      "Epoch 45/500\n",
      "22/22 [==============================] - 0s 12ms/step - loss: 1509.8562 - val_loss: 1148.5076\n",
      "Epoch 46/500\n",
      "22/22 [==============================] - 0s 10ms/step - loss: 1470.5994 - val_loss: 1138.1477\n",
      "Epoch 47/500\n",
      "22/22 [==============================] - 0s 7ms/step - loss: 1432.2745 - val_loss: 1128.4576\n",
      "Epoch 48/500\n",
      "22/22 [==============================] - 0s 6ms/step - loss: 1394.8633 - val_loss: 1119.4224\n",
      "Epoch 49/500\n",
      "22/22 [==============================] - 0s 7ms/step - loss: 1358.3491 - val_loss: 1111.0261\n",
      "Epoch 50/500\n",
      "22/22 [==============================] - 0s 6ms/step - loss: 1322.7148 - val_loss: 1103.2543\n",
      "Epoch 51/500\n",
      "22/22 [==============================] - 0s 6ms/step - loss: 1287.9443 - val_loss: 1096.0925\n",
      "Epoch 52/500\n",
      "22/22 [==============================] - 0s 6ms/step - loss: 1254.0220 - val_loss: 1089.5261\n",
      "Epoch 53/500\n",
      "22/22 [==============================] - 0s 6ms/step - loss: 1220.9319 - val_loss: 1083.5409\n",
      "Epoch 54/500\n",
      "22/22 [==============================] - 0s 6ms/step - loss: 1188.6594 - val_loss: 1078.1230\n",
      "Epoch 55/500\n",
      "22/22 [==============================] - 0s 6ms/step - loss: 1157.1897 - val_loss: 1073.2590\n",
      "Epoch 56/500\n",
      "22/22 [==============================] - 0s 5ms/step - loss: 1126.5081 - val_loss: 1068.9347\n",
      "Epoch 57/500\n",
      "22/22 [==============================] - 0s 6ms/step - loss: 1096.6010 - val_loss: 1065.1375\n",
      "Epoch 58/500\n",
      "22/22 [==============================] - 0s 8ms/step - loss: 1067.4543 - val_loss: 1061.8539\n",
      "Epoch 59/500\n",
      "22/22 [==============================] - 0s 12ms/step - loss: 1039.0538 - val_loss: 1059.0706\n",
      "Epoch 60/500\n",
      "22/22 [==============================] - 0s 7ms/step - loss: 1011.3868 - val_loss: 1056.7749\n",
      "Epoch 61/500\n",
      "22/22 [==============================] - 0s 4ms/step - loss: 984.4395 - val_loss: 1054.9542\n",
      "Epoch 62/500\n",
      "22/22 [==============================] - 0s 5ms/step - loss: 958.1993 - val_loss: 1053.5956\n",
      "Epoch 63/500\n",
      "22/22 [==============================] - 0s 5ms/step - loss: 932.6528 - val_loss: 1052.6865\n",
      "Epoch 64/500\n",
      "22/22 [==============================] - 0s 5ms/step - loss: 907.7877 - val_loss: 1052.2150\n",
      "Epoch 65/500\n",
      "22/22 [==============================] - 0s 6ms/step - loss: 883.5912 - val_loss: 1052.1683\n",
      "Epoch 66/500\n",
      "22/22 [==============================] - 0s 6ms/step - loss: 860.0510 - val_loss: 1052.5345\n",
      "Epoch 67/500\n",
      "22/22 [==============================] - 0s 5ms/step - loss: 837.1545 - val_loss: 1053.3016\n",
      "Epoch 68/500\n",
      "22/22 [==============================] - 0s 6ms/step - loss: 814.8903 - val_loss: 1054.4575\n",
      "Epoch 69/500\n",
      "22/22 [==============================] - 0s 5ms/step - loss: 793.2458 - val_loss: 1055.9907\n",
      "Epoch 70/500\n",
      "22/22 [==============================] - 0s 4ms/step - loss: 772.2094 - val_loss: 1057.8893\n",
      "Epoch 71/500\n",
      "22/22 [==============================] - 0s 4ms/step - loss: 751.7697 - val_loss: 1060.1416\n",
      "Epoch 72/500\n",
      "22/22 [==============================] - 0s 4ms/step - loss: 731.9144 - val_loss: 1062.7362\n",
      "Epoch 73/500\n",
      "22/22 [==============================] - 0s 5ms/step - loss: 712.6326 - val_loss: 1065.6620\n",
      "Epoch 74/500\n",
      "22/22 [==============================] - 0s 5ms/step - loss: 693.9126 - val_loss: 1068.9072\n",
      "Epoch 75/500\n",
      "22/22 [==============================] - 0s 5ms/step - loss: 675.7435 - val_loss: 1072.4612\n",
      "Epoch 76/500\n",
      "22/22 [==============================] - 0s 5ms/step - loss: 658.1141 - val_loss: 1076.3124\n",
      "Epoch 77/500\n",
      "22/22 [==============================] - 0s 5ms/step - loss: 641.0131 - val_loss: 1080.4503\n",
      "Epoch 78/500\n",
      "22/22 [==============================] - 0s 5ms/step - loss: 624.4298 - val_loss: 1084.8638\n",
      "Epoch 79/500\n",
      "22/22 [==============================] - 0s 4ms/step - loss: 608.3538 - val_loss: 1089.5426\n",
      "Epoch 80/500\n",
      "22/22 [==============================] - 0s 3ms/step - loss: 592.7737 - val_loss: 1094.4755\n",
      "Epoch 81/500\n",
      "22/22 [==============================] - 0s 4ms/step - loss: 577.6795 - val_loss: 1099.6521\n",
      "Epoch 82/500\n",
      "22/22 [==============================] - 0s 4ms/step - loss: 563.0605 - val_loss: 1105.0621\n",
      "Epoch 83/500\n",
      "22/22 [==============================] - 0s 4ms/step - loss: 548.9064 - val_loss: 1110.6954\n",
      "Epoch 84/500\n",
      "22/22 [==============================] - 0s 5ms/step - loss: 535.2069 - val_loss: 1116.5422\n",
      "Epoch 85/500\n",
      "22/22 [==============================] - 0s 4ms/step - loss: 521.9520 - val_loss: 1122.5913\n",
      "Epoch 86/500\n",
      "22/22 [==============================] - 0s 4ms/step - loss: 509.1317 - val_loss: 1128.8342\n",
      "Epoch 87/500\n",
      "22/22 [==============================] - 0s 4ms/step - loss: 496.7357 - val_loss: 1135.2605\n",
      "Epoch 88/500\n",
      "22/22 [==============================] - 0s 4ms/step - loss: 484.7545 - val_loss: 1141.8610\n",
      "Epoch 89/500\n",
      "22/22 [==============================] - 0s 4ms/step - loss: 473.1784 - val_loss: 1148.6274\n",
      "Epoch 90/500\n",
      "22/22 [==============================] - 0s 3ms/step - loss: 461.9977 - val_loss: 1155.5532\n",
      "Epoch 91/500\n",
      "22/22 [==============================] - 0s 4ms/step - loss: 451.2030 - val_loss: 1162.6556\n",
      "Epoch 92/500\n",
      "22/22 [==============================] - 0s 5ms/step - loss: 440.8017 - val_loss: 1169.5037\n",
      "Epoch 93/500\n",
      "22/22 [==============================] - 0s 11ms/step - loss: 430.7339 - val_loss: 1176.8228\n",
      "Epoch 94/500\n",
      "22/22 [==============================] - 0s 5ms/step - loss: 421.0411 - val_loss: 1184.2596\n",
      "Epoch 95/500\n",
      "22/22 [==============================] - 0s 5ms/step - loss: 411.6971 - val_loss: 1191.8053\n",
      "Epoch 96/500\n",
      "22/22 [==============================] - 0s 5ms/step - loss: 402.6932 - val_loss: 1199.4509\n",
      "Epoch 97/500\n",
      "22/22 [==============================] - 0s 4ms/step - loss: 394.0205 - val_loss: 1207.1885\n",
      "Epoch 98/500\n",
      "22/22 [==============================] - 0s 4ms/step - loss: 385.6701 - val_loss: 1215.0084\n",
      "Epoch 99/500\n",
      "22/22 [==============================] - 0s 4ms/step - loss: 377.6336 - val_loss: 1222.9034\n",
      "Epoch 100/500\n",
      "22/22 [==============================] - 0s 4ms/step - loss: 369.9025 - val_loss: 1230.8651\n",
      "Epoch 101/500\n",
      "22/22 [==============================] - 0s 4ms/step - loss: 362.4682 - val_loss: 1238.8856\n",
      "Epoch 102/500\n",
      "22/22 [==============================] - 0s 5ms/step - loss: 355.3226 - val_loss: 1246.9569\n",
      "Epoch 103/500\n",
      "22/22 [==============================] - 0s 5ms/step - loss: 348.4576 - val_loss: 1255.0715\n",
      "Epoch 104/500\n",
      "22/22 [==============================] - 0s 4ms/step - loss: 341.8649 - val_loss: 1263.2217\n",
      "Epoch 105/500\n",
      "22/22 [==============================] - 0s 4ms/step - loss: 335.5368 - val_loss: 1271.4003\n",
      "Epoch 106/500\n",
      "22/22 [==============================] - 0s 4ms/step - loss: 329.4655 - val_loss: 1279.6001\n",
      "Epoch 107/500\n",
      "22/22 [==============================] - 0s 4ms/step - loss: 323.6430 - val_loss: 1287.8142\n",
      "Epoch 108/500\n",
      "22/22 [==============================] - 0s 4ms/step - loss: 318.0622 - val_loss: 1296.0348\n",
      "Epoch 109/500\n",
      "22/22 [==============================] - 0s 4ms/step - loss: 312.7154 - val_loss: 1304.2566\n",
      "Epoch 110/500\n",
      "22/22 [==============================] - 0s 5ms/step - loss: 307.5953 - val_loss: 1312.4724\n",
      "Epoch 111/500\n",
      "22/22 [==============================] - 0s 4ms/step - loss: 302.6947 - val_loss: 1320.6752\n",
      "Epoch 112/500\n",
      "22/22 [==============================] - 0s 5ms/step - loss: 298.0067 - val_loss: 1328.8597\n",
      "Epoch 113/500\n",
      "22/22 [==============================] - 0s 4ms/step - loss: 293.5241 - val_loss: 1337.0203\n",
      "Epoch 114/500\n",
      "22/22 [==============================] - 0s 4ms/step - loss: 289.2402 - val_loss: 1345.1498\n",
      "Epoch 115/500\n",
      "22/22 [==============================] - 0s 5ms/step - loss: 285.1486 - val_loss: 1353.2435\n",
      "Epoch 116/500\n",
      "22/22 [==============================] - 0s 4ms/step - loss: 281.2423 - val_loss: 1361.2959\n",
      "Epoch 117/500\n",
      "22/22 [==============================] - 0s 4ms/step - loss: 277.5152 - val_loss: 1369.3008\n",
      "Epoch 118/500\n",
      "22/22 [==============================] - 0s 4ms/step - loss: 273.9609 - val_loss: 1377.2545\n",
      "Epoch 119/500\n",
      "22/22 [==============================] - 0s 5ms/step - loss: 270.5732 - val_loss: 1385.1509\n",
      "Epoch 120/500\n",
      "22/22 [==============================] - 0s 4ms/step - loss: 267.3461 - val_loss: 1392.9861\n",
      "Epoch 121/500\n",
      "22/22 [==============================] - 0s 4ms/step - loss: 264.2737 - val_loss: 1400.7549\n",
      "Epoch 122/500\n",
      "22/22 [==============================] - 0s 4ms/step - loss: 261.3503 - val_loss: 1408.4529\n",
      "Epoch 123/500\n",
      "22/22 [==============================] - 0s 4ms/step - loss: 258.5703 - val_loss: 1416.0768\n",
      "Epoch 124/500\n",
      "22/22 [==============================] - 0s 4ms/step - loss: 255.9280 - val_loss: 1423.6215\n",
      "Epoch 125/500\n",
      "22/22 [==============================] - 0s 4ms/step - loss: 253.4182 - val_loss: 1431.0839\n",
      "Epoch 126/500\n",
      "22/22 [==============================] - 0s 4ms/step - loss: 251.0358 - val_loss: 1438.4603\n",
      "Epoch 127/500\n",
      "22/22 [==============================] - 0s 4ms/step - loss: 248.7753 - val_loss: 1445.7468\n",
      "Epoch 128/500\n",
      "22/22 [==============================] - 0s 4ms/step - loss: 246.6321 - val_loss: 1452.9403\n",
      "Epoch 129/500\n",
      "22/22 [==============================] - 0s 4ms/step - loss: 244.6013 - val_loss: 1460.0385\n",
      "Epoch 130/500\n",
      "22/22 [==============================] - 0s 5ms/step - loss: 242.6780 - val_loss: 1467.0377\n",
      "Epoch 131/500\n",
      "22/22 [==============================] - 0s 4ms/step - loss: 240.8578 - val_loss: 1473.9357\n",
      "Epoch 132/500\n",
      "22/22 [==============================] - 0s 4ms/step - loss: 239.1362 - val_loss: 1480.7294\n",
      "Epoch 133/500\n",
      "22/22 [==============================] - 0s 4ms/step - loss: 237.5090 - val_loss: 1487.4164\n",
      "Epoch 134/500\n",
      "22/22 [==============================] - 0s 4ms/step - loss: 235.9720 - val_loss: 1493.9939\n",
      "Epoch 135/500\n",
      "22/22 [==============================] - 0s 4ms/step - loss: 234.5210 - val_loss: 1500.3763\n",
      "Epoch 136/500\n",
      "22/22 [==============================] - 0s 4ms/step - loss: 233.1522 - val_loss: 1506.8246\n",
      "Epoch 137/500\n",
      "22/22 [==============================] - 0s 4ms/step - loss: 231.8616 - val_loss: 1513.0684\n",
      "Epoch 138/500\n",
      "22/22 [==============================] - 0s 4ms/step - loss: 230.6458 - val_loss: 1519.1962\n",
      "Epoch 139/500\n",
      "22/22 [==============================] - 0s 5ms/step - loss: 229.5011 - val_loss: 1525.2081\n",
      "Epoch 140/500\n",
      "22/22 [==============================] - 0s 10ms/step - loss: 228.4241 - val_loss: 1531.1021\n",
      "Epoch 141/500\n",
      "22/22 [==============================] - 0s 4ms/step - loss: 227.4115 - val_loss: 1536.8782\n",
      "Epoch 142/500\n",
      "22/22 [==============================] - 0s 5ms/step - loss: 226.4600 - val_loss: 1542.5352\n",
      "Epoch 143/500\n",
      "22/22 [==============================] - 0s 5ms/step - loss: 225.5666 - val_loss: 1548.0720\n",
      "Epoch 144/500\n",
      "22/22 [==============================] - 0s 4ms/step - loss: 224.7283 - val_loss: 1553.4883\n",
      "Epoch 145/500\n",
      "22/22 [==============================] - 0s 5ms/step - loss: 223.9425 - val_loss: 1558.7848\n",
      "Epoch 146/500\n",
      "22/22 [==============================] - 0s 4ms/step - loss: 223.2060 - val_loss: 1563.9600\n",
      "Epoch 147/500\n",
      "22/22 [==============================] - 0s 4ms/step - loss: 222.5166 - val_loss: 1569.0146\n",
      "Epoch 148/500\n",
      "22/22 [==============================] - 0s 4ms/step - loss: 221.8715 - val_loss: 1573.9489\n",
      "Epoch 149/500\n",
      "22/22 [==============================] - 0s 4ms/step - loss: 221.2683 - val_loss: 1578.7623\n",
      "Epoch 150/500\n",
      "22/22 [==============================] - 0s 4ms/step - loss: 220.7048 - val_loss: 1583.4559\n",
      "Epoch 151/500\n",
      "22/22 [==============================] - 0s 4ms/step - loss: 220.1786 - val_loss: 1588.0302\n",
      "Epoch 152/500\n",
      "22/22 [==============================] - 0s 4ms/step - loss: 219.6878 - val_loss: 1592.4851\n",
      "Epoch 153/500\n",
      "22/22 [==============================] - 0s 5ms/step - loss: 219.2303 - val_loss: 1596.8223\n",
      "Epoch 154/500\n",
      "22/22 [==============================] - 0s 4ms/step - loss: 218.8040 - val_loss: 1601.0425\n",
      "Epoch 155/500\n",
      "22/22 [==============================] - 0s 4ms/step - loss: 218.4072 - val_loss: 1605.1461\n",
      "Epoch 156/500\n",
      "22/22 [==============================] - 0s 4ms/step - loss: 218.0383 - val_loss: 1609.1345\n",
      "Epoch 157/500\n",
      "22/22 [==============================] - 0s 4ms/step - loss: 217.6952 - val_loss: 1613.0090\n",
      "Epoch 158/500\n",
      "22/22 [==============================] - 0s 4ms/step - loss: 217.3766 - val_loss: 1616.7704\n",
      "Epoch 159/500\n",
      "22/22 [==============================] - 0s 5ms/step - loss: 217.0809 - val_loss: 1620.4200\n",
      "Epoch 160/500\n",
      "22/22 [==============================] - 0s 4ms/step - loss: 216.8067 - val_loss: 1623.9597\n",
      "Epoch 161/500\n",
      "22/22 [==============================] - 0s 7ms/step - loss: 216.5526 - val_loss: 1627.3909\n",
      "Epoch 162/500\n",
      "22/22 [==============================] - 0s 6ms/step - loss: 216.3174 - val_loss: 1630.7151\n",
      "Epoch 163/500\n",
      "22/22 [==============================] - 0s 6ms/step - loss: 216.0997 - val_loss: 1633.9340\n",
      "Epoch 164/500\n",
      "22/22 [==============================] - 0s 6ms/step - loss: 215.8984 - val_loss: 1637.0483\n",
      "Epoch 165/500\n",
      "22/22 [==============================] - 0s 4ms/step - loss: 215.7125 - val_loss: 1640.0618\n",
      "Epoch 166/500\n",
      "22/22 [==============================] - 0s 5ms/step - loss: 215.5409 - val_loss: 1642.9756\n",
      "Epoch 167/500\n",
      "22/22 [==============================] - 0s 5ms/step - loss: 215.3827 - val_loss: 1645.7899\n",
      "Epoch 168/500\n",
      "22/22 [==============================] - 0s 4ms/step - loss: 215.2368 - val_loss: 1648.5077\n",
      "Epoch 169/500\n",
      "22/22 [==============================] - 0s 5ms/step - loss: 215.1024 - val_loss: 1651.1316\n",
      "Epoch 170/500\n",
      "22/22 [==============================] - 0s 4ms/step - loss: 214.9788 - val_loss: 1653.6628\n",
      "Epoch 171/500\n",
      "22/22 [==============================] - 0s 3ms/step - loss: 214.8652 - val_loss: 1656.1040\n",
      "Epoch 172/500\n",
      "22/22 [==============================] - 0s 4ms/step - loss: 214.7607 - val_loss: 1658.4563\n",
      "Epoch 173/500\n",
      "22/22 [==============================] - 0s 11ms/step - loss: 214.6648 - val_loss: 1660.7217\n",
      "Epoch 174/500\n",
      "22/22 [==============================] - 0s 4ms/step - loss: 214.5769 - val_loss: 1662.9034\n",
      "Epoch 175/500\n",
      "22/22 [==============================] - 0s 4ms/step - loss: 214.4963 - val_loss: 1665.0022\n",
      "Epoch 176/500\n",
      "22/22 [==============================] - 0s 4ms/step - loss: 214.4224 - val_loss: 1667.0200\n",
      "Epoch 177/500\n",
      "22/22 [==============================] - 0s 5ms/step - loss: 214.3550 - val_loss: 1668.9604\n",
      "Epoch 178/500\n",
      "22/22 [==============================] - 0s 4ms/step - loss: 214.2932 - val_loss: 1670.8242\n",
      "Epoch 179/500\n",
      "22/22 [==============================] - 0s 5ms/step - loss: 214.2368 - val_loss: 1672.6145\n",
      "Epoch 180/500\n",
      "22/22 [==============================] - 0s 4ms/step - loss: 214.1853 - val_loss: 1674.3322\n",
      "Epoch 181/500\n",
      "22/22 [==============================] - 0s 4ms/step - loss: 214.1384 - val_loss: 1675.9801\n",
      "Epoch 182/500\n",
      "22/22 [==============================] - 0s 5ms/step - loss: 214.0955 - val_loss: 1677.5607\n",
      "Epoch 183/500\n",
      "22/22 [==============================] - 0s 4ms/step - loss: 214.0566 - val_loss: 1679.0745\n",
      "Epoch 184/500\n",
      "22/22 [==============================] - 0s 5ms/step - loss: 214.0211 - val_loss: 1680.5243\n",
      "Epoch 185/500\n",
      "22/22 [==============================] - 0s 4ms/step - loss: 213.9890 - val_loss: 1681.9132\n",
      "Epoch 186/500\n",
      "22/22 [==============================] - 0s 5ms/step - loss: 213.9597 - val_loss: 1683.2416\n",
      "Epoch 187/500\n",
      "22/22 [==============================] - 0s 5ms/step - loss: 213.9332 - val_loss: 1684.5114\n",
      "Epoch 188/500\n",
      "22/22 [==============================] - 0s 5ms/step - loss: 213.9092 - val_loss: 1685.7263\n",
      "Epoch 189/500\n",
      "22/22 [==============================] - 0s 5ms/step - loss: 213.8874 - val_loss: 1686.8866\n",
      "Epoch 190/500\n",
      "22/22 [==============================] - 0s 4ms/step - loss: 213.8677 - val_loss: 1687.9950\n",
      "Epoch 191/500\n",
      "22/22 [==============================] - 0s 4ms/step - loss: 213.8500 - val_loss: 1689.0533\n",
      "Epoch 192/500\n",
      "22/22 [==============================] - 0s 4ms/step - loss: 213.8339 - val_loss: 1690.0632\n",
      "Epoch 193/500\n",
      "22/22 [==============================] - 0s 4ms/step - loss: 213.8194 - val_loss: 1691.0291\n",
      "Epoch 194/500\n",
      "22/22 [==============================] - 0s 5ms/step - loss: 213.8064 - val_loss: 1691.9651\n",
      "Epoch 195/500\n",
      "22/22 [==============================] - 0s 4ms/step - loss: 213.6853 - val_loss: 1692.7002\n",
      "Epoch 196/500\n",
      "22/22 [==============================] - 0s 5ms/step - loss: 213.7844 - val_loss: 1693.5323\n",
      "Epoch 197/500\n",
      "22/22 [==============================] - 0s 4ms/step - loss: 213.7749 - val_loss: 1694.3231\n",
      "Epoch 198/500\n",
      "22/22 [==============================] - 0s 4ms/step - loss: 213.7664 - val_loss: 1695.0746\n",
      "Epoch 199/500\n",
      "22/22 [==============================] - 0s 5ms/step - loss: 213.7589 - val_loss: 1695.7899\n",
      "Epoch 200/500\n",
      "22/22 [==============================] - 0s 4ms/step - loss: 213.7522 - val_loss: 1696.4684\n",
      "Epoch 201/500\n",
      "22/22 [==============================] - 0s 5ms/step - loss: 213.7463 - val_loss: 1697.1133\n",
      "Epoch 202/500\n",
      "22/22 [==============================] - 0s 5ms/step - loss: 213.7410 - val_loss: 1697.7249\n",
      "Epoch 203/500\n",
      "22/22 [==============================] - 0s 4ms/step - loss: 213.7363 - val_loss: 1698.3053\n",
      "Epoch 204/500\n",
      "22/22 [==============================] - 0s 5ms/step - loss: 213.7322 - val_loss: 1698.8558\n",
      "Epoch 205/500\n",
      "22/22 [==============================] - 0s 4ms/step - loss: 213.7287 - val_loss: 1699.3776\n",
      "Epoch 206/500\n",
      "22/22 [==============================] - 0s 4ms/step - loss: 213.7255 - val_loss: 1699.8717\n",
      "Epoch 207/500\n",
      "22/22 [==============================] - 0s 11ms/step - loss: 213.7227 - val_loss: 1700.3397\n",
      "Epoch 208/500\n",
      "22/22 [==============================] - 0s 4ms/step - loss: 213.7203 - val_loss: 1700.7827\n",
      "Epoch 209/500\n",
      "22/22 [==============================] - 0s 4ms/step - loss: 213.7183 - val_loss: 1701.2024\n",
      "Epoch 210/500\n",
      "22/22 [==============================] - 0s 4ms/step - loss: 213.7166 - val_loss: 1701.5984\n",
      "Epoch 211/500\n",
      "22/22 [==============================] - 0s 5ms/step - loss: 213.7151 - val_loss: 1701.9730\n",
      "Epoch 212/500\n",
      "22/22 [==============================] - 0s 5ms/step - loss: 213.7139 - val_loss: 1702.3264\n",
      "Epoch 213/500\n",
      "22/22 [==============================] - 0s 5ms/step - loss: 213.7129 - val_loss: 1702.6606\n",
      "Epoch 214/500\n",
      "22/22 [==============================] - 0s 5ms/step - loss: 213.7121 - val_loss: 1702.9756\n",
      "Epoch 215/500\n",
      "22/22 [==============================] - 0s 5ms/step - loss: 213.7114 - val_loss: 1703.2728\n",
      "Epoch 216/500\n",
      "22/22 [==============================] - 0s 4ms/step - loss: 213.7110 - val_loss: 1703.5520\n",
      "Epoch 217/500\n",
      "22/22 [==============================] - 0s 4ms/step - loss: 213.7107 - val_loss: 1703.8168\n",
      "Epoch 218/500\n",
      "22/22 [==============================] - 0s 4ms/step - loss: 213.7105 - val_loss: 1704.0651\n",
      "Epoch 219/500\n",
      "22/22 [==============================] - 0s 4ms/step - loss: 213.7105 - val_loss: 1704.2997\n",
      "Epoch 220/500\n",
      "22/22 [==============================] - 0s 5ms/step - loss: 213.7105 - val_loss: 1704.5197\n",
      "Epoch 221/500\n",
      "22/22 [==============================] - 0s 4ms/step - loss: 213.7107 - val_loss: 1704.7267\n",
      "Epoch 222/500\n",
      "22/22 [==============================] - 0s 4ms/step - loss: 213.7109 - val_loss: 1704.9211\n",
      "Epoch 223/500\n",
      "22/22 [==============================] - 0s 5ms/step - loss: 213.7112 - val_loss: 1705.1039\n",
      "Epoch 224/500\n",
      "22/22 [==============================] - 0s 5ms/step - loss: 213.7117 - val_loss: 1705.2761\n",
      "Epoch 225/500\n",
      "22/22 [==============================] - 0s 4ms/step - loss: 213.7121 - val_loss: 1705.4369\n",
      "Epoch 226/500\n",
      "22/22 [==============================] - 0s 4ms/step - loss: 213.7126 - val_loss: 1705.5880\n",
      "Epoch 227/500\n",
      "22/22 [==============================] - 0s 4ms/step - loss: 213.7132 - val_loss: 1705.7296\n",
      "Epoch 228/500\n",
      "22/22 [==============================] - 0s 5ms/step - loss: 213.7138 - val_loss: 1705.8625\n",
      "Epoch 229/500\n",
      "22/22 [==============================] - 0s 4ms/step - loss: 213.7144 - val_loss: 1705.9875\n",
      "Epoch 230/500\n",
      "22/22 [==============================] - 0s 4ms/step - loss: 213.7150 - val_loss: 1706.1039\n",
      "Epoch 231/500\n",
      "22/22 [==============================] - 0s 4ms/step - loss: 213.7157 - val_loss: 1706.2123\n",
      "Epoch 232/500\n",
      "22/22 [==============================] - 0s 4ms/step - loss: 213.7165 - val_loss: 1706.3140\n",
      "Epoch 233/500\n",
      "22/22 [==============================] - 0s 5ms/step - loss: 213.7173 - val_loss: 1706.4088\n",
      "Epoch 234/500\n",
      "22/22 [==============================] - 0s 5ms/step - loss: 213.7180 - val_loss: 1706.4978\n",
      "Epoch 235/500\n",
      "22/22 [==============================] - 0s 5ms/step - loss: 213.7188 - val_loss: 1706.5807\n",
      "Epoch 236/500\n",
      "22/22 [==============================] - 0s 4ms/step - loss: 213.7196 - val_loss: 1706.6570\n",
      "Epoch 237/500\n",
      "22/22 [==============================] - 0s 5ms/step - loss: 213.7204 - val_loss: 1706.7300\n",
      "Epoch 238/500\n",
      "22/22 [==============================] - 0s 10ms/step - loss: 213.7212 - val_loss: 1706.7969\n",
      "Epoch 239/500\n",
      "22/22 [==============================] - 0s 4ms/step - loss: 213.7221 - val_loss: 1706.8591\n",
      "Epoch 240/500\n",
      "22/22 [==============================] - 0s 4ms/step - loss: 213.7230 - val_loss: 1706.9171\n",
      "Epoch 241/500\n",
      "22/22 [==============================] - 0s 4ms/step - loss: 213.7238 - val_loss: 1706.9702\n",
      "Epoch 242/500\n",
      "22/22 [==============================] - 0s 5ms/step - loss: 213.7248 - val_loss: 1707.0210\n",
      "Epoch 243/500\n",
      "22/22 [==============================] - 0s 5ms/step - loss: 213.7256 - val_loss: 1707.0673\n",
      "Epoch 244/500\n",
      "22/22 [==============================] - 0s 5ms/step - loss: 213.7264 - val_loss: 1707.1105\n",
      "Epoch 245/500\n",
      "22/22 [==============================] - 0s 4ms/step - loss: 213.7273 - val_loss: 1707.1494\n",
      "Epoch 246/500\n",
      "22/22 [==============================] - 0s 4ms/step - loss: 213.7282 - val_loss: 1707.1869\n",
      "Epoch 247/500\n",
      "22/22 [==============================] - 0s 4ms/step - loss: 213.7290 - val_loss: 1707.2206\n",
      "Epoch 248/500\n",
      "22/22 [==============================] - 0s 5ms/step - loss: 213.7299 - val_loss: 1707.2518\n",
      "Epoch 249/500\n",
      "22/22 [==============================] - 0s 4ms/step - loss: 213.7308 - val_loss: 1707.2809\n",
      "Epoch 250/500\n",
      "22/22 [==============================] - 0s 4ms/step - loss: 213.7317 - val_loss: 1707.3074\n",
      "Epoch 251/500\n",
      "22/22 [==============================] - 0s 5ms/step - loss: 213.7326 - val_loss: 1707.3317\n",
      "Epoch 252/500\n",
      "22/22 [==============================] - 0s 4ms/step - loss: 213.7334 - val_loss: 1707.3539\n",
      "Epoch 253/500\n",
      "22/22 [==============================] - 0s 4ms/step - loss: 213.7343 - val_loss: 1707.3748\n",
      "Epoch 254/500\n",
      "22/22 [==============================] - 0s 5ms/step - loss: 213.7351 - val_loss: 1707.3939\n",
      "Epoch 255/500\n",
      "22/22 [==============================] - 0s 5ms/step - loss: 213.7360 - val_loss: 1707.4109\n",
      "Epoch 256/500\n",
      "22/22 [==============================] - 0s 5ms/step - loss: 213.7368 - val_loss: 1707.4259\n",
      "Epoch 257/500\n",
      "22/22 [==============================] - 0s 5ms/step - loss: 213.7376 - val_loss: 1707.4404\n",
      "Epoch 258/500\n",
      "22/22 [==============================] - 0s 5ms/step - loss: 213.7385 - val_loss: 1707.4535\n",
      "Epoch 259/500\n",
      "22/22 [==============================] - 0s 4ms/step - loss: 213.7392 - val_loss: 1707.4637\n",
      "Epoch 260/500\n",
      "22/22 [==============================] - 0s 4ms/step - loss: 213.7401 - val_loss: 1707.4749\n",
      "Epoch 261/500\n",
      "22/22 [==============================] - 0s 5ms/step - loss: 213.7409 - val_loss: 1707.4830\n",
      "Epoch 262/500\n",
      "22/22 [==============================] - 0s 5ms/step - loss: 213.7418 - val_loss: 1707.4908\n",
      "Epoch 263/500\n",
      "22/22 [==============================] - 0s 5ms/step - loss: 213.7426 - val_loss: 1707.4990\n",
      "Epoch 264/500\n",
      "22/22 [==============================] - 0s 5ms/step - loss: 213.7433 - val_loss: 1707.5057\n",
      "Epoch 265/500\n",
      "22/22 [==============================] - 0s 4ms/step - loss: 213.7441 - val_loss: 1707.5109\n",
      "Epoch 266/500\n",
      "22/22 [==============================] - 0s 4ms/step - loss: 213.7449 - val_loss: 1707.5146\n",
      "Epoch 267/500\n",
      "22/22 [==============================] - 0s 5ms/step - loss: 213.7456 - val_loss: 1707.5188\n",
      "Epoch 268/500\n",
      "22/22 [==============================] - 0s 10ms/step - loss: 213.7464 - val_loss: 1707.5225\n",
      "Epoch 269/500\n",
      "22/22 [==============================] - 0s 5ms/step - loss: 213.7471 - val_loss: 1707.5240\n",
      "Epoch 270/500\n",
      "22/22 [==============================] - 0s 4ms/step - loss: 213.7478 - val_loss: 1707.5258\n",
      "Epoch 271/500\n",
      "22/22 [==============================] - 0s 4ms/step - loss: 213.7486 - val_loss: 1707.5277\n",
      "Epoch 272/500\n",
      "22/22 [==============================] - 0s 5ms/step - loss: 213.7492 - val_loss: 1707.5276\n",
      "Epoch 273/500\n",
      "22/22 [==============================] - 0s 4ms/step - loss: 213.7500 - val_loss: 1707.5280\n",
      "Epoch 274/500\n",
      "22/22 [==============================] - 0s 4ms/step - loss: 213.7506 - val_loss: 1707.5272\n",
      "Epoch 275/500\n",
      "22/22 [==============================] - 0s 5ms/step - loss: 213.7514 - val_loss: 1707.5261\n",
      "Epoch 276/500\n",
      "22/22 [==============================] - 0s 5ms/step - loss: 213.7520 - val_loss: 1707.5247\n",
      "Epoch 277/500\n",
      "22/22 [==============================] - 0s 5ms/step - loss: 213.7527 - val_loss: 1707.5228\n",
      "Epoch 278/500\n",
      "22/22 [==============================] - 0s 5ms/step - loss: 213.7533 - val_loss: 1707.5203\n",
      "Epoch 279/500\n",
      "22/22 [==============================] - 0s 5ms/step - loss: 213.7540 - val_loss: 1707.5171\n",
      "Epoch 280/500\n",
      "22/22 [==============================] - 0s 5ms/step - loss: 213.7546 - val_loss: 1707.5134\n",
      "Epoch 281/500\n",
      "22/22 [==============================] - 0s 5ms/step - loss: 213.7552 - val_loss: 1707.5099\n",
      "Epoch 282/500\n",
      "22/22 [==============================] - 0s 5ms/step - loss: 213.7559 - val_loss: 1707.5050\n",
      "Epoch 283/500\n",
      "22/22 [==============================] - 0s 5ms/step - loss: 213.7565 - val_loss: 1707.5002\n",
      "Epoch 284/500\n",
      "22/22 [==============================] - 0s 5ms/step - loss: 213.7570 - val_loss: 1707.4949\n",
      "Epoch 285/500\n",
      "22/22 [==============================] - 0s 5ms/step - loss: 213.7576 - val_loss: 1707.4891\n",
      "Epoch 286/500\n",
      "22/22 [==============================] - 0s 5ms/step - loss: 213.7583 - val_loss: 1707.4825\n",
      "Epoch 287/500\n",
      "22/22 [==============================] - 0s 5ms/step - loss: 213.7588 - val_loss: 1707.4753\n",
      "Epoch 288/500\n",
      "22/22 [==============================] - 0s 5ms/step - loss: 213.7594 - val_loss: 1707.4674\n",
      "Epoch 289/500\n",
      "22/22 [==============================] - 0s 5ms/step - loss: 213.7599 - val_loss: 1707.4586\n",
      "Epoch 290/500\n",
      "22/22 [==============================] - 0s 5ms/step - loss: 213.7605 - val_loss: 1707.4489\n",
      "Epoch 291/500\n",
      "22/22 [==============================] - 0s 5ms/step - loss: 213.7610 - val_loss: 1707.4382\n",
      "Epoch 292/500\n",
      "22/22 [==============================] - 0s 5ms/step - loss: 213.7616 - val_loss: 1707.4261\n",
      "Epoch 293/500\n",
      "22/22 [==============================] - 0s 5ms/step - loss: 213.7621 - val_loss: 1707.4121\n",
      "Epoch 294/500\n",
      "22/22 [==============================] - 0s 5ms/step - loss: 213.7626 - val_loss: 1707.3965\n",
      "Epoch 295/500\n",
      "22/22 [==============================] - 0s 14ms/step - loss: 213.7631 - val_loss: 1707.3789\n",
      "Epoch 296/500\n",
      "22/22 [==============================] - 0s 5ms/step - loss: 213.7636 - val_loss: 1707.3566\n",
      "Epoch 297/500\n",
      "22/22 [==============================] - 0s 5ms/step - loss: 213.7641 - val_loss: 1707.3311\n",
      "Epoch 298/500\n",
      "22/22 [==============================] - 0s 5ms/step - loss: 213.7645 - val_loss: 1707.2991\n",
      "Epoch 299/500\n",
      "22/22 [==============================] - 0s 5ms/step - loss: 213.7650 - val_loss: 1707.2572\n",
      "Epoch 300/500\n",
      "22/22 [==============================] - 0s 6ms/step - loss: 213.7655 - val_loss: 1707.2014\n",
      "Epoch 301/500\n",
      "22/22 [==============================] - 0s 6ms/step - loss: 213.7660 - val_loss: 1707.1210\n",
      "Epoch 302/500\n",
      "22/22 [==============================] - 0s 6ms/step - loss: 213.7664 - val_loss: 1706.9928\n",
      "Epoch 303/500\n",
      "22/22 [==============================] - 0s 5ms/step - loss: 213.7668 - val_loss: 1706.7693\n",
      "Epoch 304/500\n",
      "22/22 [==============================] - 0s 5ms/step - loss: 213.7672 - val_loss: 1706.4875\n",
      "Epoch 305/500\n",
      "22/22 [==============================] - 0s 5ms/step - loss: 213.7648 - val_loss: 1698.8427\n",
      "Epoch 306/500\n",
      "22/22 [==============================] - 0s 5ms/step - loss: 213.7717 - val_loss: 1708.0538\n",
      "Epoch 307/500\n",
      "22/22 [==============================] - 0s 5ms/step - loss: 213.7685 - val_loss: 1708.0500\n",
      "Epoch 308/500\n",
      "22/22 [==============================] - 0s 6ms/step - loss: 213.7689 - val_loss: 1708.0450\n",
      "Epoch 309/500\n",
      "22/22 [==============================] - 0s 6ms/step - loss: 213.7693 - val_loss: 1708.0399\n",
      "Epoch 310/500\n",
      "22/22 [==============================] - 0s 7ms/step - loss: 213.7697 - val_loss: 1708.0344\n",
      "Epoch 311/500\n",
      "22/22 [==============================] - 0s 6ms/step - loss: 213.7701 - val_loss: 1708.0284\n",
      "Epoch 312/500\n",
      "22/22 [==============================] - 0s 6ms/step - loss: 213.7705 - val_loss: 1708.0236\n",
      "Epoch 313/500\n",
      "22/22 [==============================] - 0s 7ms/step - loss: 213.7708 - val_loss: 1708.0189\n",
      "Epoch 314/500\n",
      "22/22 [==============================] - 0s 6ms/step - loss: 213.7712 - val_loss: 1708.0132\n",
      "Epoch 315/500\n",
      "22/22 [==============================] - 0s 6ms/step - loss: 213.7715 - val_loss: 1708.0084\n",
      "Epoch 316/500\n",
      "22/22 [==============================] - 0s 6ms/step - loss: 213.7719 - val_loss: 1708.0029\n",
      "Epoch 317/500\n",
      "22/22 [==============================] - 0s 6ms/step - loss: 213.7722 - val_loss: 1707.9963\n",
      "Epoch 318/500\n",
      "22/22 [==============================] - 0s 7ms/step - loss: 213.7725 - val_loss: 1707.9908\n",
      "Epoch 319/500\n",
      "22/22 [==============================] - 0s 6ms/step - loss: 213.7728 - val_loss: 1707.9847\n",
      "Epoch 320/500\n",
      "22/22 [==============================] - 0s 14ms/step - loss: 213.7732 - val_loss: 1707.9786\n",
      "Epoch 321/500\n",
      "22/22 [==============================] - 0s 7ms/step - loss: 213.7735 - val_loss: 1707.9727\n",
      "Epoch 322/500\n",
      "22/22 [==============================] - 0s 6ms/step - loss: 213.7738 - val_loss: 1707.9666\n",
      "Epoch 323/500\n",
      "22/22 [==============================] - 0s 5ms/step - loss: 213.7742 - val_loss: 1707.9597\n",
      "Epoch 324/500\n",
      "22/22 [==============================] - 0s 5ms/step - loss: 213.7744 - val_loss: 1707.9531\n",
      "Epoch 325/500\n",
      "22/22 [==============================] - 0s 5ms/step - loss: 213.7747 - val_loss: 1707.9462\n",
      "Epoch 326/500\n",
      "22/22 [==============================] - 0s 4ms/step - loss: 213.7750 - val_loss: 1707.9388\n",
      "Epoch 327/500\n",
      "22/22 [==============================] - 0s 5ms/step - loss: 213.7753 - val_loss: 1707.9313\n",
      "Epoch 328/500\n",
      "22/22 [==============================] - 0s 4ms/step - loss: 213.7756 - val_loss: 1707.9240\n",
      "Epoch 329/500\n",
      "22/22 [==============================] - 0s 5ms/step - loss: 213.7758 - val_loss: 1707.9165\n",
      "Epoch 330/500\n",
      "22/22 [==============================] - 0s 5ms/step - loss: 213.7761 - val_loss: 1707.9092\n",
      "Epoch 331/500\n",
      "22/22 [==============================] - 0s 5ms/step - loss: 213.7763 - val_loss: 1707.9009\n",
      "Epoch 332/500\n",
      "22/22 [==============================] - 0s 5ms/step - loss: 213.7766 - val_loss: 1707.8921\n",
      "Epoch 333/500\n",
      "22/22 [==============================] - 0s 5ms/step - loss: 213.7769 - val_loss: 1707.8837\n",
      "Epoch 334/500\n",
      "22/22 [==============================] - 0s 5ms/step - loss: 213.7771 - val_loss: 1707.8750\n",
      "Epoch 335/500\n",
      "22/22 [==============================] - 0s 5ms/step - loss: 213.7773 - val_loss: 1707.8655\n",
      "Epoch 336/500\n",
      "22/22 [==============================] - 0s 5ms/step - loss: 213.7776 - val_loss: 1707.8558\n",
      "Epoch 337/500\n",
      "22/22 [==============================] - 0s 5ms/step - loss: 213.7778 - val_loss: 1707.8458\n",
      "Epoch 338/500\n",
      "22/22 [==============================] - 0s 5ms/step - loss: 213.7780 - val_loss: 1707.8358\n",
      "Epoch 339/500\n",
      "22/22 [==============================] - 0s 4ms/step - loss: 213.7782 - val_loss: 1707.8252\n",
      "Epoch 340/500\n",
      "22/22 [==============================] - 0s 5ms/step - loss: 213.7784 - val_loss: 1707.8131\n",
      "Epoch 341/500\n",
      "22/22 [==============================] - 0s 5ms/step - loss: 213.7786 - val_loss: 1707.8015\n",
      "Epoch 342/500\n",
      "22/22 [==============================] - 0s 5ms/step - loss: 213.7788 - val_loss: 1707.7893\n",
      "Epoch 343/500\n",
      "22/22 [==============================] - 0s 5ms/step - loss: 213.7768 - val_loss: 1707.6116\n",
      "Epoch 344/500\n",
      "22/22 [==============================] - 0s 7ms/step - loss: 213.7801 - val_loss: 1707.7568\n",
      "Epoch 345/500\n",
      "22/22 [==============================] - 0s 5ms/step - loss: 213.7795 - val_loss: 1707.7434\n",
      "Epoch 346/500\n",
      "22/22 [==============================] - 0s 5ms/step - loss: 213.7797 - val_loss: 1707.7290\n",
      "Epoch 347/500\n",
      "22/22 [==============================] - 0s 5ms/step - loss: 213.7798 - val_loss: 1707.7136\n",
      "Epoch 348/500\n",
      "22/22 [==============================] - 0s 5ms/step - loss: 213.7800 - val_loss: 1707.6969\n",
      "Epoch 349/500\n",
      "22/22 [==============================] - 0s 5ms/step - loss: 213.7802 - val_loss: 1707.6785\n",
      "Epoch 350/500\n",
      "22/22 [==============================] - 0s 10ms/step - loss: 213.7804 - val_loss: 1707.6602\n",
      "Epoch 351/500\n",
      "22/22 [==============================] - 0s 5ms/step - loss: 213.7806 - val_loss: 1707.6396\n",
      "Epoch 352/500\n",
      "22/22 [==============================] - 0s 5ms/step - loss: 213.7808 - val_loss: 1707.6189\n",
      "Epoch 353/500\n",
      "22/22 [==============================] - 0s 5ms/step - loss: 213.7809 - val_loss: 1707.5956\n",
      "Epoch 354/500\n",
      "22/22 [==============================] - 0s 5ms/step - loss: 213.7811 - val_loss: 1707.5704\n",
      "Epoch 355/500\n",
      "22/22 [==============================] - 0s 4ms/step - loss: 213.7812 - val_loss: 1707.5428\n",
      "Epoch 356/500\n",
      "22/22 [==============================] - 0s 5ms/step - loss: 213.7814 - val_loss: 1707.5121\n",
      "Epoch 357/500\n",
      "22/22 [==============================] - 0s 5ms/step - loss: 213.7816 - val_loss: 1707.4775\n",
      "Epoch 358/500\n",
      "22/22 [==============================] - 0s 5ms/step - loss: 213.7817 - val_loss: 1707.4382\n",
      "Epoch 359/500\n",
      "22/22 [==============================] - 0s 5ms/step - loss: 213.7818 - val_loss: 1707.3925\n",
      "Epoch 360/500\n",
      "22/22 [==============================] - 0s 5ms/step - loss: 213.7820 - val_loss: 1707.3375\n",
      "Epoch 361/500\n",
      "22/22 [==============================] - 0s 4ms/step - loss: 213.7822 - val_loss: 1707.2686\n",
      "Epoch 362/500\n",
      "22/22 [==============================] - 0s 5ms/step - loss: 213.7823 - val_loss: 1707.1763\n",
      "Epoch 363/500\n",
      "22/22 [==============================] - 0s 5ms/step - loss: 213.7824 - val_loss: 1707.0333\n",
      "Epoch 364/500\n",
      "22/22 [==============================] - 0s 5ms/step - loss: 213.7825 - val_loss: 1706.7316\n",
      "Epoch 365/500\n",
      "22/22 [==============================] - 0s 4ms/step - loss: 213.7823 - val_loss: 1696.8688\n",
      "Epoch 366/500\n",
      "22/22 [==============================] - 0s 4ms/step - loss: 207.1122 - val_loss: 1631.4749\n",
      "Epoch 367/500\n",
      "22/22 [==============================] - 0s 4ms/step - loss: 216.4377 - val_loss: 1636.2688\n",
      "Epoch 368/500\n",
      "22/22 [==============================] - 0s 5ms/step - loss: 216.1846 - val_loss: 1642.0524\n",
      "Epoch 369/500\n",
      "22/22 [==============================] - 0s 5ms/step - loss: 215.8441 - val_loss: 1647.5322\n",
      "Epoch 370/500\n",
      "22/22 [==============================] - 0s 5ms/step - loss: 215.5422 - val_loss: 1652.5970\n",
      "Epoch 371/500\n",
      "22/22 [==============================] - 0s 4ms/step - loss: 215.2847 - val_loss: 1657.2645\n",
      "Epoch 372/500\n",
      "22/22 [==============================] - 0s 4ms/step - loss: 215.0660 - val_loss: 1661.5638\n",
      "Epoch 373/500\n",
      "22/22 [==============================] - 0s 5ms/step - loss: 214.8803 - val_loss: 1665.5217\n",
      "Epoch 374/500\n",
      "22/22 [==============================] - 0s 5ms/step - loss: 214.7223 - val_loss: 1669.1639\n",
      "Epoch 375/500\n",
      "22/22 [==============================] - 0s 9ms/step - loss: 214.5882 - val_loss: 1672.5156\n",
      "Epoch 376/500\n",
      "22/22 [==============================] - 0s 5ms/step - loss: 214.4738 - val_loss: 1675.5989\n",
      "Epoch 377/500\n",
      "22/22 [==============================] - 0s 5ms/step - loss: 214.3765 - val_loss: 1678.4351\n",
      "Epoch 378/500\n",
      "22/22 [==============================] - 0s 4ms/step - loss: 214.2934 - val_loss: 1681.0415\n",
      "Epoch 379/500\n",
      "22/22 [==============================] - 0s 5ms/step - loss: 214.2225 - val_loss: 1683.4379\n",
      "Epoch 380/500\n",
      "22/22 [==============================] - 0s 5ms/step - loss: 214.1621 - val_loss: 1685.6412\n",
      "Epoch 381/500\n",
      "22/22 [==============================] - 0s 5ms/step - loss: 214.1103 - val_loss: 1687.6656\n",
      "Epoch 382/500\n",
      "22/22 [==============================] - 0s 5ms/step - loss: 214.0659 - val_loss: 1689.5243\n",
      "Epoch 383/500\n",
      "22/22 [==============================] - 0s 4ms/step - loss: 214.0279 - val_loss: 1691.2330\n",
      "Epoch 384/500\n",
      "22/22 [==============================] - 0s 4ms/step - loss: 213.9953 - val_loss: 1692.8030\n",
      "Epoch 385/500\n",
      "22/22 [==============================] - 0s 5ms/step - loss: 213.9672 - val_loss: 1694.2434\n",
      "Epoch 386/500\n",
      "22/22 [==============================] - 0s 4ms/step - loss: 213.9431 - val_loss: 1695.5668\n",
      "Epoch 387/500\n",
      "22/22 [==============================] - 0s 5ms/step - loss: 213.9224 - val_loss: 1696.7823\n",
      "Epoch 388/500\n",
      "22/22 [==============================] - 0s 5ms/step - loss: 213.9043 - val_loss: 1697.8979\n",
      "Epoch 389/500\n",
      "22/22 [==============================] - 0s 5ms/step - loss: 213.8889 - val_loss: 1698.9225\n",
      "Epoch 390/500\n",
      "22/22 [==============================] - 0s 5ms/step - loss: 213.8754 - val_loss: 1699.8625\n",
      "Epoch 391/500\n",
      "22/22 [==============================] - 0s 4ms/step - loss: 213.8638 - val_loss: 1700.7256\n",
      "Epoch 392/500\n",
      "22/22 [==============================] - 0s 4ms/step - loss: 213.8537 - val_loss: 1701.5177\n",
      "Epoch 393/500\n",
      "22/22 [==============================] - 0s 4ms/step - loss: 213.8449 - val_loss: 1702.2452\n",
      "Epoch 394/500\n",
      "22/22 [==============================] - 0s 5ms/step - loss: 213.8372 - val_loss: 1702.9116\n",
      "Epoch 395/500\n",
      "22/22 [==============================] - 0s 5ms/step - loss: 213.8306 - val_loss: 1703.5237\n",
      "Epoch 396/500\n",
      "22/22 [==============================] - 0s 4ms/step - loss: 213.8247 - val_loss: 1704.0854\n",
      "Epoch 397/500\n",
      "22/22 [==============================] - 0s 4ms/step - loss: 213.8195 - val_loss: 1704.6017\n",
      "Epoch 398/500\n",
      "22/22 [==============================] - 0s 4ms/step - loss: 213.8150 - val_loss: 1705.0737\n",
      "Epoch 399/500\n",
      "22/22 [==============================] - 0s 9ms/step - loss: 213.8111 - val_loss: 1705.5061\n",
      "Epoch 400/500\n",
      "22/22 [==============================] - 0s 5ms/step - loss: 213.8076 - val_loss: 1705.9044\n",
      "Epoch 401/500\n",
      "22/22 [==============================] - 0s 5ms/step - loss: 213.8045 - val_loss: 1706.2681\n",
      "Epoch 402/500\n",
      "22/22 [==============================] - 0s 5ms/step - loss: 213.8018 - val_loss: 1706.6024\n",
      "Epoch 403/500\n",
      "22/22 [==============================] - 0s 5ms/step - loss: 213.7994 - val_loss: 1706.9091\n",
      "Epoch 404/500\n",
      "22/22 [==============================] - 0s 5ms/step - loss: 213.7973 - val_loss: 1707.1910\n",
      "Epoch 405/500\n",
      "22/22 [==============================] - 0s 5ms/step - loss: 213.7954 - val_loss: 1707.4492\n",
      "Epoch 406/500\n",
      "22/22 [==============================] - 0s 5ms/step - loss: 213.7937 - val_loss: 1707.6854\n",
      "Epoch 407/500\n",
      "22/22 [==============================] - 0s 5ms/step - loss: 213.7922 - val_loss: 1707.9020\n",
      "Epoch 408/500\n",
      "22/22 [==============================] - 0s 4ms/step - loss: 213.7908 - val_loss: 1708.1010\n",
      "Epoch 409/500\n",
      "22/22 [==============================] - 0s 5ms/step - loss: 213.7897 - val_loss: 1708.2837\n",
      "Epoch 410/500\n",
      "22/22 [==============================] - 0s 5ms/step - loss: 213.7886 - val_loss: 1708.4496\n",
      "Epoch 411/500\n",
      "22/22 [==============================] - 0s 5ms/step - loss: 213.7877 - val_loss: 1708.6028\n",
      "Epoch 412/500\n",
      "22/22 [==============================] - 0s 5ms/step - loss: 213.7870 - val_loss: 1708.7439\n",
      "Epoch 413/500\n",
      "22/22 [==============================] - 0s 4ms/step - loss: 213.7860 - val_loss: 1708.8724\n",
      "Epoch 414/500\n",
      "22/22 [==============================] - 0s 5ms/step - loss: 213.7853 - val_loss: 1708.9901\n",
      "Epoch 415/500\n",
      "22/22 [==============================] - 0s 4ms/step - loss: 213.7847 - val_loss: 1709.0977\n",
      "Epoch 416/500\n",
      "22/22 [==============================] - 0s 5ms/step - loss: 213.7842 - val_loss: 1709.1963\n",
      "Epoch 417/500\n",
      "22/22 [==============================] - 0s 5ms/step - loss: 213.7838 - val_loss: 1709.2877\n",
      "Epoch 418/500\n",
      "22/22 [==============================] - 0s 4ms/step - loss: 213.7834 - val_loss: 1709.3715\n",
      "Epoch 419/500\n",
      "22/22 [==============================] - 0s 5ms/step - loss: 213.7829 - val_loss: 1709.4474\n",
      "Epoch 420/500\n",
      "22/22 [==============================] - 0s 5ms/step - loss: 213.7826 - val_loss: 1709.5181\n",
      "Epoch 421/500\n",
      "22/22 [==============================] - 0s 5ms/step - loss: 213.7823 - val_loss: 1709.5824\n",
      "Epoch 422/500\n",
      "22/22 [==============================] - 0s 5ms/step - loss: 213.7820 - val_loss: 1709.6410\n",
      "Epoch 423/500\n",
      "22/22 [==============================] - 0s 13ms/step - loss: 213.7817 - val_loss: 1709.6947\n",
      "Epoch 424/500\n",
      "22/22 [==============================] - 0s 7ms/step - loss: 213.7815 - val_loss: 1709.7439\n",
      "Epoch 425/500\n",
      "22/22 [==============================] - 0s 6ms/step - loss: 213.7812 - val_loss: 1709.7896\n",
      "Epoch 426/500\n",
      "22/22 [==============================] - 0s 6ms/step - loss: 213.7810 - val_loss: 1709.8311\n",
      "Epoch 427/500\n",
      "22/22 [==============================] - 0s 6ms/step - loss: 213.7809 - val_loss: 1709.8688\n",
      "Epoch 428/500\n",
      "22/22 [==============================] - 0s 5ms/step - loss: 213.7808 - val_loss: 1709.9045\n",
      "Epoch 429/500\n",
      "22/22 [==============================] - 0s 5ms/step - loss: 213.7806 - val_loss: 1709.9358\n",
      "Epoch 430/500\n",
      "22/22 [==============================] - 0s 5ms/step - loss: 213.7804 - val_loss: 1709.9651\n",
      "Epoch 431/500\n",
      "22/22 [==============================] - 0s 5ms/step - loss: 213.7803 - val_loss: 1709.9912\n",
      "Epoch 432/500\n",
      "22/22 [==============================] - 0s 5ms/step - loss: 213.7803 - val_loss: 1710.0160\n",
      "Epoch 433/500\n",
      "22/22 [==============================] - 0s 5ms/step - loss: 213.7802 - val_loss: 1710.0397\n",
      "Epoch 434/500\n",
      "22/22 [==============================] - 0s 6ms/step - loss: 213.7802 - val_loss: 1710.0608\n",
      "Epoch 435/500\n",
      "22/22 [==============================] - 0s 7ms/step - loss: 213.7800 - val_loss: 1710.0795\n",
      "Epoch 436/500\n",
      "22/22 [==============================] - 0s 7ms/step - loss: 213.7799 - val_loss: 1710.0958\n",
      "Epoch 437/500\n",
      "22/22 [==============================] - 0s 6ms/step - loss: 213.7798 - val_loss: 1710.1112\n",
      "Epoch 438/500\n",
      "22/22 [==============================] - 0s 5ms/step - loss: 213.7798 - val_loss: 1710.1237\n",
      "Epoch 439/500\n",
      "22/22 [==============================] - 0s 5ms/step - loss: 213.7798 - val_loss: 1710.1371\n",
      "Epoch 440/500\n",
      "22/22 [==============================] - 0s 5ms/step - loss: 213.7798 - val_loss: 1710.1493\n",
      "Epoch 441/500\n",
      "22/22 [==============================] - 0s 5ms/step - loss: 213.7799 - val_loss: 1710.1610\n",
      "Epoch 442/500\n",
      "22/22 [==============================] - 0s 6ms/step - loss: 213.7798 - val_loss: 1710.1715\n",
      "Epoch 443/500\n",
      "22/22 [==============================] - 0s 5ms/step - loss: 213.7798 - val_loss: 1710.1810\n",
      "Epoch 444/500\n",
      "22/22 [==============================] - 0s 13ms/step - loss: 213.7799 - val_loss: 1710.1901\n",
      "Epoch 445/500\n",
      "22/22 [==============================] - 0s 8ms/step - loss: 213.7798 - val_loss: 1710.1976\n",
      "Epoch 446/500\n",
      "22/22 [==============================] - 0s 6ms/step - loss: 213.7798 - val_loss: 1710.2056\n",
      "Epoch 447/500\n",
      "22/22 [==============================] - 0s 5ms/step - loss: 213.7798 - val_loss: 1710.2125\n",
      "Epoch 448/500\n",
      "22/22 [==============================] - 0s 5ms/step - loss: 213.7797 - val_loss: 1710.2191\n",
      "Epoch 449/500\n",
      "22/22 [==============================] - 0s 5ms/step - loss: 213.7797 - val_loss: 1710.2246\n",
      "Epoch 450/500\n",
      "22/22 [==============================] - 0s 5ms/step - loss: 213.7797 - val_loss: 1710.2297\n",
      "Epoch 451/500\n",
      "22/22 [==============================] - 0s 5ms/step - loss: 213.7797 - val_loss: 1710.2351\n",
      "Epoch 452/500\n",
      "22/22 [==============================] - 0s 5ms/step - loss: 213.7797 - val_loss: 1710.2395\n",
      "Epoch 453/500\n",
      "22/22 [==============================] - 0s 4ms/step - loss: 213.7797 - val_loss: 1710.2434\n",
      "Epoch 454/500\n",
      "22/22 [==============================] - 0s 5ms/step - loss: 213.7796 - val_loss: 1710.2457\n",
      "Epoch 455/500\n",
      "22/22 [==============================] - 0s 5ms/step - loss: 213.7797 - val_loss: 1710.2487\n",
      "Epoch 456/500\n",
      "22/22 [==============================] - 0s 5ms/step - loss: 213.7797 - val_loss: 1710.2518\n",
      "Epoch 457/500\n",
      "22/22 [==============================] - 0s 4ms/step - loss: 213.7797 - val_loss: 1710.2540\n",
      "Epoch 458/500\n",
      "22/22 [==============================] - 0s 5ms/step - loss: 213.7797 - val_loss: 1710.2566\n",
      "Epoch 459/500\n",
      "22/22 [==============================] - 0s 5ms/step - loss: 213.7797 - val_loss: 1710.2577\n",
      "Epoch 460/500\n",
      "22/22 [==============================] - 0s 4ms/step - loss: 213.7797 - val_loss: 1710.2594\n",
      "Epoch 461/500\n",
      "22/22 [==============================] - 0s 5ms/step - loss: 213.7797 - val_loss: 1710.2606\n",
      "Epoch 462/500\n",
      "22/22 [==============================] - 0s 5ms/step - loss: 213.7797 - val_loss: 1710.2623\n",
      "Epoch 463/500\n",
      "22/22 [==============================] - 0s 5ms/step - loss: 213.7797 - val_loss: 1710.2631\n",
      "Epoch 464/500\n",
      "22/22 [==============================] - 0s 7ms/step - loss: 213.7797 - val_loss: 1710.2646\n",
      "Epoch 465/500\n",
      "22/22 [==============================] - 0s 5ms/step - loss: 213.7798 - val_loss: 1710.2653\n",
      "Epoch 466/500\n",
      "22/22 [==============================] - 0s 14ms/step - loss: 213.7798 - val_loss: 1710.2670\n",
      "Epoch 467/500\n",
      "22/22 [==============================] - 0s 9ms/step - loss: 213.7798 - val_loss: 1710.2686\n",
      "Epoch 468/500\n",
      "22/22 [==============================] - 0s 9ms/step - loss: 213.7798 - val_loss: 1710.2703\n",
      "Epoch 469/500\n",
      "22/22 [==============================] - 0s 7ms/step - loss: 213.7799 - val_loss: 1710.2715\n",
      "Epoch 470/500\n",
      "22/22 [==============================] - 0s 5ms/step - loss: 213.7798 - val_loss: 1710.2728\n",
      "Epoch 471/500\n",
      "22/22 [==============================] - 0s 8ms/step - loss: 213.7798 - val_loss: 1710.2732\n",
      "Epoch 472/500\n",
      "22/22 [==============================] - 0s 7ms/step - loss: 213.7798 - val_loss: 1710.2733\n",
      "Epoch 473/500\n",
      "22/22 [==============================] - 0s 8ms/step - loss: 213.7798 - val_loss: 1710.2732\n",
      "Epoch 474/500\n",
      "22/22 [==============================] - 0s 7ms/step - loss: 213.7799 - val_loss: 1710.2736\n",
      "Epoch 475/500\n",
      "22/22 [==============================] - 0s 7ms/step - loss: 213.7799 - val_loss: 1710.2739\n",
      "Epoch 476/500\n",
      "22/22 [==============================] - 0s 10ms/step - loss: 213.7799 - val_loss: 1710.2743\n",
      "Epoch 477/500\n",
      "22/22 [==============================] - 0s 12ms/step - loss: 213.7799 - val_loss: 1710.2751\n",
      "Epoch 478/500\n",
      "22/22 [==============================] - 0s 10ms/step - loss: 213.7799 - val_loss: 1710.2761\n",
      "Epoch 479/500\n",
      "22/22 [==============================] - 0s 12ms/step - loss: 213.7800 - val_loss: 1710.2770\n",
      "Epoch 480/500\n",
      "22/22 [==============================] - 0s 10ms/step - loss: 213.7799 - val_loss: 1710.2773\n",
      "Epoch 481/500\n",
      "22/22 [==============================] - 0s 10ms/step - loss: 213.7800 - val_loss: 1710.2773\n",
      "Epoch 482/500\n",
      "22/22 [==============================] - 1s 24ms/step - loss: 213.7800 - val_loss: 1710.2773\n",
      "Epoch 483/500\n",
      "22/22 [==============================] - 0s 8ms/step - loss: 213.7800 - val_loss: 1710.2773\n",
      "Epoch 484/500\n",
      "22/22 [==============================] - 0s 8ms/step - loss: 213.7800 - val_loss: 1710.2777\n",
      "Epoch 485/500\n",
      "22/22 [==============================] - 0s 8ms/step - loss: 213.7801 - val_loss: 1710.2781\n",
      "Epoch 486/500\n",
      "22/22 [==============================] - 0s 7ms/step - loss: 213.7800 - val_loss: 1710.2787\n",
      "Epoch 487/500\n",
      "22/22 [==============================] - 0s 7ms/step - loss: 213.7801 - val_loss: 1710.2788\n",
      "Epoch 488/500\n",
      "22/22 [==============================] - 0s 8ms/step - loss: 213.7800 - val_loss: 1710.2795\n",
      "Epoch 489/500\n",
      "22/22 [==============================] - 0s 11ms/step - loss: 213.7800 - val_loss: 1710.2798\n",
      "Epoch 490/500\n",
      "22/22 [==============================] - 0s 10ms/step - loss: 213.7800 - val_loss: 1710.2798\n",
      "Epoch 491/500\n",
      "22/22 [==============================] - 0s 10ms/step - loss: 213.7801 - val_loss: 1710.2803\n",
      "Epoch 492/500\n",
      "22/22 [==============================] - 0s 8ms/step - loss: 213.7801 - val_loss: 1710.2809\n",
      "Epoch 493/500\n",
      "22/22 [==============================] - 0s 6ms/step - loss: 213.7801 - val_loss: 1710.2812\n",
      "Epoch 494/500\n",
      "22/22 [==============================] - 0s 7ms/step - loss: 213.7801 - val_loss: 1710.2820\n",
      "Epoch 495/500\n",
      "22/22 [==============================] - 0s 6ms/step - loss: 213.7801 - val_loss: 1710.2820\n",
      "Epoch 496/500\n",
      "22/22 [==============================] - 0s 7ms/step - loss: 213.7801 - val_loss: 1710.2822\n",
      "Epoch 497/500\n",
      "22/22 [==============================] - 0s 6ms/step - loss: 213.7801 - val_loss: 1710.2823\n",
      "Epoch 498/500\n",
      "22/22 [==============================] - 0s 8ms/step - loss: 213.7802 - val_loss: 1710.2827\n",
      "Epoch 499/500\n",
      "22/22 [==============================] - 0s 8ms/step - loss: 213.7802 - val_loss: 1710.2831\n",
      "Epoch 500/500\n",
      "22/22 [==============================] - 0s 13ms/step - loss: 213.7802 - val_loss: 1710.2841\n"
     ]
    }
   ],
   "source": [
    "C0 = tf.Variable(85.7336, name=\"C0\", trainable=True, dtype=tf.float32)\n",
    "K0 = tf.Variable(-0.0020, name=\"K0\", trainable=True, dtype=tf.float32)\n",
    "K1 = tf.Variable(-0.0002, name=\"K1\", trainable=True, dtype=tf.float32)\n",
    "a = tf.Variable(0.0000, name=\"a\", trainable=True, dtype=tf.float32)\n",
    "b = tf.Variable(0.0125, name=\"b\", trainable=True, dtype=tf.float32)\n",
    "c = tf.Variable(2.3008, name=\"c\", trainable=True, dtype=tf.float32)\n",
    "\n",
    "splitr = 0.8\n",
    "\n",
    "\n",
    "def loss_fn(y_true, y_pred):\n",
    "    squared_difference = tf.square(y_true[:, 0] - y_pred[:, 0])\n",
    "    #squared_difference2 = tf.square(y_true[:, 2]-y_pred[:, 2])\n",
    "    #squared_difference1 = tf.square(y_true[:, 1]-y_pred[:, 1])\n",
    "    epsilon = 1\n",
    "    squared_difference3 = tf.square(\n",
    "        y_pred[:, 1] - (\n",
    "            y_pred[:, 0] * (\n",
    "                K0 - K1 * (\n",
    "                    9 * a * tf.math.log((y_pred[:, 0] + epsilon) / C0) / (K0 - K1 * c)**2 +\n",
    "                    4 * b * tf.math.log((y_pred[:, 0] + epsilon) / C0) / (K0 - K1 * c) + c\n",
    "                )\n",
    "            )\n",
    "        )\n",
    "    )\n",
    "    return tf.reduce_mean(squared_difference, axis=-1) + 0.2*tf.reduce_mean(squared_difference3, axis=-1)\n",
    "model = Sequential()\n",
    "model.add(LSTM(100, input_shape=(trainX.shape[1], trainX.shape[2])))\n",
    "model.add(Dense(60))\n",
    "model.compile(loss=loss_fn, optimizer='adam')\n",
    "history = model.fit(trainX[:int(splitr*trainX.shape[0])], trainy[:int(splitr*trainX.shape[0])], epochs=500, batch_size=64, validation_data=(trainX[int(splitr*trainX.shape[0]):trainX.shape[0]], trainy[int(splitr*trainX.shape[0]):trainX.shape[0]]), shuffle=False)"
   ]
  },
  {
   "cell_type": "code",
   "execution_count": 19,
   "metadata": {
    "colab": {
     "base_uri": "https://localhost:8080/"
    },
    "id": "yJL101rPyuoT",
    "outputId": "239ff2b1-c186-423a-d316-939dfdd7c793"
   },
   "outputs": [
    {
     "name": "stdout",
     "output_type": "stream",
     "text": [
      "1/1 [==============================] - 1s 672ms/step\n"
     ]
    }
   ],
   "source": [
    "forecast_without_mc = forecastX\n",
    "yhat_without_mc = model.predict(forecast_without_mc) # Step Ahead Prediction\n",
    "forecast_without_mc = forecast_without_mc.reshape((forecast_without_mc.shape[0], forecast_without_mc.shape[2])) # Historical Input"
   ]
  },
  {
   "cell_type": "code",
   "execution_count": 20,
   "metadata": {
    "colab": {
     "base_uri": "https://localhost:8080/"
    },
    "id": "g9dQELcJ8wbp",
    "outputId": "4dc7671b-b1a8-48d5-8744-a86f98446109"
   },
   "outputs": [
    {
     "data": {
      "text/plain": [
       "(1, 1, 251)"
      ]
     },
     "execution_count": 20,
     "metadata": {},
     "output_type": "execute_result"
    }
   ],
   "source": [
    "forecastX.shape"
   ]
  },
  {
   "cell_type": "code",
   "execution_count": 21,
   "metadata": {
    "colab": {
     "base_uri": "https://localhost:8080/"
    },
    "id": "IS2kyIKG1Kbr",
    "outputId": "f31b3485-8e26-452f-9298-ea8bf7e80ad1"
   },
   "outputs": [
    {
     "data": {
      "text/plain": [
       "(1, 251)"
      ]
     },
     "execution_count": 21,
     "metadata": {},
     "output_type": "execute_result"
    }
   ],
   "source": [
    "forecast_without_mc.shape"
   ]
  },
  {
   "cell_type": "code",
   "execution_count": 22,
   "metadata": {
    "id": "0u6VIzaDyuoT"
   },
   "outputs": [],
   "source": [
    "inv_yhat_without_mc = np.concatenate((forecast_without_mc, yhat_without_mc), axis=1) # Concatenation of predicted values with Historical Data\n",
    "#inv_yhat_without_mc = scaler.inverse_transform(inv_yhat_without_mc) # Transform labels back to original encoding"
   ]
  },
  {
   "cell_type": "code",
   "execution_count": 23,
   "metadata": {
    "colab": {
     "base_uri": "https://localhost:8080/"
    },
    "id": "EUEcw0LX07oU",
    "outputId": "cfc32397-9c37-4b43-d087-584bb31c3dcc"
   },
   "outputs": [
    {
     "data": {
      "text/plain": [
       "(1, 311)"
      ]
     },
     "execution_count": 23,
     "metadata": {},
     "output_type": "execute_result"
    }
   ],
   "source": [
    "inv_yhat_without_mc.shape"
   ]
  },
  {
   "cell_type": "code",
   "execution_count": 24,
   "metadata": {
    "id": "31OWVbSh_305"
   },
   "outputs": [],
   "source": [
    "fforecast = inv_yhat_without_mc[:,-300:]"
   ]
  },
  {
   "cell_type": "code",
   "execution_count": 25,
   "metadata": {},
   "outputs": [
    {
     "data": {
      "text/plain": [
       "(1, 300)"
      ]
     },
     "execution_count": 25,
     "metadata": {},
     "output_type": "execute_result"
    }
   ],
   "source": [
    "fforecast.shape"
   ]
  },
  {
   "cell_type": "code",
   "execution_count": 26,
   "metadata": {
    "id": "BlpGH2FOAiRF"
   },
   "outputs": [],
   "source": [
    "final_forecast = fforecast[:,0:300:3]"
   ]
  },
  {
   "cell_type": "code",
   "execution_count": 27,
   "metadata": {},
   "outputs": [
    {
     "data": {
      "text/plain": [
       "(1, 300)"
      ]
     },
     "execution_count": 27,
     "metadata": {},
     "output_type": "execute_result"
    }
   ],
   "source": [
    "fforecast.shape"
   ]
  },
  {
   "cell_type": "code",
   "execution_count": 28,
   "metadata": {
    "id": "CXkgkj_LBk_t"
   },
   "outputs": [],
   "source": [
    "# code to replace all negative value with 0\n",
    "final_forecast[final_forecast<0] = 0"
   ]
  },
  {
   "cell_type": "code",
   "execution_count": 29,
   "metadata": {},
   "outputs": [
    {
     "data": {
      "text/plain": [
       "array([[6.77371499e+01, 6.73211835e+01, 6.69052171e+01, 6.65998716e+01,\n",
       "        6.63603758e+01, 6.61208800e+01, 0.00000000e+00, 0.00000000e+00,\n",
       "        5.60244560e+01, 9.38421000e-02, 0.00000000e+00, 1.24350600e-01,\n",
       "        2.88643700e-01, 6.77987745e+01, 6.73828081e+01, 6.69668417e+01,\n",
       "        0.00000000e+00, 0.00000000e+00, 6.89225023e+01, 6.85191410e+01,\n",
       "        6.81068978e+01, 6.76909314e+01, 6.72749650e+01, 6.68589986e+01,\n",
       "        6.65732610e+01, 6.63337652e+01, 6.60942694e+01, 6.57682500e-01,\n",
       "        0.00000000e+00, 6.74444328e+01, 6.70284664e+01, 6.66708333e+01,\n",
       "        6.64313375e+01, 6.61918417e+01, 6.59523459e+01, 6.57174370e+01,\n",
       "        6.54885462e+01, 6.52586555e+01, 0.00000000e+00, 0.00000000e+00,\n",
       "        4.72012482e+01, 3.52068000e-01, 5.54408100e-01, 5.40280900e-01,\n",
       "        0.00000000e+00, 1.18361350e+00, 0.00000000e+00, 6.63071545e+01,\n",
       "        6.60676587e+01, 0.00000000e+00, 0.00000000e+00, 6.73982143e+01,\n",
       "        6.69822479e+01, 6.66442227e+01, 6.64047269e+01, 6.61652311e+01,\n",
       "        6.59257353e+01, 6.56922269e+01, 6.54653361e+01, 6.52384454e+01,\n",
       "        2.91093890e-01, 3.75424710e-01, 6.62628035e+01, 6.60233077e+01,\n",
       "        6.57846639e+01, 6.55577731e+01, 6.53308823e+01, 7.02306256e+01,\n",
       "        6.92511671e+01, 6.80298669e+01, 3.62565640e-01, 7.53456900e-02,\n",
       "        0.00000000e+00, 0.00000000e+00, 1.87698300e-01, 0.00000000e+00,\n",
       "        0.00000000e+00, 3.95085040e-01, 2.89124310e-01, 0.00000000e+00,\n",
       "        6.57625809e+01, 1.06855541e-01, 8.15021634e-01, 4.29208934e-01,\n",
       "        0.00000000e+00, 8.78724456e-01, 1.53553903e-01, 3.42952199e-02,\n",
       "        0.00000000e+00, 3.23673248e-01, 2.98965991e-01, 0.00000000e+00,\n",
       "        6.86178327e-01, 2.85756350e-01, 3.43016058e-01, 1.22737730e+00,\n",
       "        6.77592635e-01, 4.52215970e-01, 0.00000000e+00, 8.57866526e-01]])"
      ]
     },
     "execution_count": 29,
     "metadata": {},
     "output_type": "execute_result"
    }
   ],
   "source": [
    "final_forecast"
   ]
  },
  {
   "cell_type": "code",
   "execution_count": 30,
   "metadata": {},
   "outputs": [
    {
     "data": {
      "text/plain": [
       "(1, 100)"
      ]
     },
     "execution_count": 30,
     "metadata": {},
     "output_type": "execute_result"
    }
   ],
   "source": [
    "final_forecast.shape"
   ]
  },
  {
   "cell_type": "code",
   "execution_count": 31,
   "metadata": {},
   "outputs": [
    {
     "data": {
      "text/plain": [
       "(100,)"
      ]
     },
     "execution_count": 31,
     "metadata": {},
     "output_type": "execute_result"
    }
   ],
   "source": [
    "test.shape"
   ]
  },
  {
   "cell_type": "code",
   "execution_count": 32,
   "metadata": {},
   "outputs": [],
   "source": [
    "training_set = np.array(training_set)\n",
    "test = np.array(test)\n",
    "final_forecast = np.array(final_forecast.squeeze(0))"
   ]
  },
  {
   "cell_type": "code",
   "execution_count": 33,
   "metadata": {},
   "outputs": [
    {
     "data": {
      "text/plain": [
       "array([58.44736626, 58.43834802, 58.42932978, 58.42031154, 58.4112933 ,\n",
       "       58.40227506, 58.39325681, 58.38423857, 58.37522033, 58.36620209,\n",
       "       58.35718385, 58.34816561, 58.33914737, 58.33012912, 58.32111088,\n",
       "       58.31209264, 58.3030744 , 58.29405616, 58.28503792, 58.27601968,\n",
       "       58.26700143, 58.25798319, 58.24896495, 58.23994671, 58.23092847,\n",
       "       58.22191023, 58.21289199, 58.20387374, 58.1948555 , 58.18583726,\n",
       "       58.17681902, 58.16780078, 58.15878254, 58.1497643 , 58.14074605,\n",
       "       58.13172781, 58.12270957, 58.11369133, 58.10467309, 58.09565485,\n",
       "       58.08663661, 58.07761836, 58.06860012, 58.05958188, 58.05056364,\n",
       "       58.0415454 , 58.03252716, 58.02350892, 58.01449067, 58.00547243,\n",
       "       57.99645419, 57.98743595, 57.97841771, 57.96939947, 57.96038123,\n",
       "       57.95136298, 57.94234474, 57.9333265 , 57.92430826, 57.91529002,\n",
       "       57.90627178, 57.89725354, 57.88823529, 57.87921705, 57.87019881,\n",
       "       57.86118057, 57.85216233, 57.84314409, 57.83412585, 57.8251076 ,\n",
       "       57.81608936, 57.80707112, 57.79805288, 57.78903464, 57.7800164 ,\n",
       "       57.77099816, 57.76197991, 57.75296167, 57.74394343, 57.73492519,\n",
       "       57.72590695, 57.71688871, 57.70787047, 57.69885222, 57.68983398,\n",
       "       57.68081574, 57.6717975 , 57.66277926, 57.65376102, 57.64474278,\n",
       "       57.63572453, 57.62670629, 57.61768805, 57.60866981, 57.59965157,\n",
       "       57.59063333, 57.58161509, 57.57259684, 57.5635786 , 57.55456036])"
      ]
     },
     "execution_count": 33,
     "metadata": {},
     "output_type": "execute_result"
    }
   ],
   "source": [
    "test"
   ]
  },
  {
   "cell_type": "code",
   "execution_count": 34,
   "metadata": {},
   "outputs": [
    {
     "data": {
      "text/plain": [
       "(100,)"
      ]
     },
     "execution_count": 34,
     "metadata": {},
     "output_type": "execute_result"
    }
   ],
   "source": [
    "test.shape"
   ]
  },
  {
   "cell_type": "code",
   "execution_count": 35,
   "metadata": {},
   "outputs": [
    {
     "data": {
      "text/plain": [
       "(100,)"
      ]
     },
     "execution_count": 35,
     "metadata": {},
     "output_type": "execute_result"
    }
   ],
   "source": [
    "final_forecast.shape"
   ]
  },
  {
   "cell_type": "code",
   "execution_count": 36,
   "metadata": {},
   "outputs": [
    {
     "data": {
      "text/plain": [
       "(100,)"
      ]
     },
     "execution_count": 36,
     "metadata": {},
     "output_type": "execute_result"
    }
   ],
   "source": [
    "test.shape"
   ]
  },
  {
   "cell_type": "code",
   "execution_count": 37,
   "metadata": {},
   "outputs": [
    {
     "name": "stdout",
     "output_type": "stream",
     "text": [
      "41.59881381252737\n",
      "33.572449691637686\n"
     ]
    }
   ],
   "source": [
    "import math\n",
    "MSE = np.square(np.subtract(np.array(test),np.array(final_forecast))).mean()   \n",
    "rsme = math.sqrt(MSE)\n",
    "print(rsme)  \n",
    "MAE = np.abs(np.subtract(np.array(test),np.array(final_forecast))).mean()   \n",
    "mae = MAE\n",
    "print(mae)"
   ]
  }
 ],
 "metadata": {
  "colab": {
   "provenance": []
  },
  "kernelspec": {
   "display_name": "Python 3",
   "language": "python",
   "name": "python3"
  },
  "language_info": {
   "codemirror_mode": {
    "name": "ipython",
    "version": 3
   },
   "file_extension": ".py",
   "mimetype": "text/x-python",
   "name": "python",
   "nbconvert_exporter": "python",
   "pygments_lexer": "ipython3",
   "version": "3.9.13"
  }
 },
 "nbformat": 4,
 "nbformat_minor": 0
}
