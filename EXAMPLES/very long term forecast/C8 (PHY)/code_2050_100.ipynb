{
 "cells": [
  {
   "cell_type": "markdown",
   "metadata": {
    "id": "pCGKeZ2gyuoQ"
   },
   "source": [
    "_Importing Required Libraries_"
   ]
  },
  {
   "cell_type": "code",
   "execution_count": 1,
   "metadata": {
    "colab": {
     "base_uri": "https://localhost:8080/"
    },
    "id": "A-6LN-zXiLcM",
    "outputId": "4de610a4-f8b8-4f49-c6c0-89de299ccedc"
   },
   "outputs": [
    {
     "name": "stdout",
     "output_type": "stream",
     "text": [
      "Requirement already satisfied: hampel in c:\\users\\anurag dutta\\appdata\\local\\packages\\pythonsoftwarefoundation.python.3.9_qbz5n2kfra8p0\\localcache\\local-packages\\python39\\site-packages (0.0.5)\n",
      "Requirement already satisfied: numpy in c:\\users\\anurag dutta\\appdata\\local\\packages\\pythonsoftwarefoundation.python.3.9_qbz5n2kfra8p0\\localcache\\local-packages\\python39\\site-packages (from hampel) (1.26.4)\n",
      "Requirement already satisfied: pandas in c:\\users\\anurag dutta\\appdata\\local\\packages\\pythonsoftwarefoundation.python.3.9_qbz5n2kfra8p0\\localcache\\local-packages\\python39\\site-packages (from hampel) (1.5.2)\n",
      "Requirement already satisfied: python-dateutil>=2.8.1 in c:\\users\\anurag dutta\\appdata\\local\\packages\\pythonsoftwarefoundation.python.3.9_qbz5n2kfra8p0\\localcache\\local-packages\\python39\\site-packages (from pandas->hampel) (2.8.2)\n",
      "Requirement already satisfied: pytz>=2020.1 in c:\\users\\anurag dutta\\appdata\\local\\packages\\pythonsoftwarefoundation.python.3.9_qbz5n2kfra8p0\\localcache\\local-packages\\python39\\site-packages (from pandas->hampel) (2023.3.post1)\n",
      "Requirement already satisfied: six>=1.5 in c:\\users\\anurag dutta\\appdata\\local\\packages\\pythonsoftwarefoundation.python.3.9_qbz5n2kfra8p0\\localcache\\local-packages\\python39\\site-packages (from python-dateutil>=2.8.1->pandas->hampel) (1.16.0)\n",
      "Note: you may need to restart the kernel to use updated packages.\n"
     ]
    },
    {
     "name": "stderr",
     "output_type": "stream",
     "text": [
      "\n",
      "[notice] A new release of pip is available: 24.2 -> 24.3.1\n",
      "[notice] To update, run: C:\\Users\\Anurag Dutta\\AppData\\Local\\Microsoft\\WindowsApps\\PythonSoftwareFoundation.Python.3.9_qbz5n2kfra8p0\\python.exe -m pip install --upgrade pip\n"
     ]
    }
   ],
   "source": [
    "pip install hampel"
   ]
  },
  {
   "cell_type": "code",
   "execution_count": 2,
   "metadata": {
    "id": "By_d9uXpaFvZ"
   },
   "outputs": [],
   "source": [
    "from keras.models import Sequential\n",
    "from keras.layers import Dense\n",
    "from keras.layers import LSTM\n",
    "from keras.layers import Dropout\n",
    "import keras\n",
    "import tensorflow as tf\n",
    "from hampel import hampel\n",
    "import numpy as np\n",
    "import matplotlib.pyplot as plt\n",
    "import pandas as pd\n",
    "from sklearn.preprocessing import MinMaxScaler\n",
    "from sklearn.metrics import mean_squared_error, mean_absolute_error\n",
    "from math import sqrt\n",
    "from matplotlib import pyplot\n",
    "from numpy import array"
   ]
  },
  {
   "cell_type": "markdown",
   "metadata": {
    "id": "JyOjBMFayuoR"
   },
   "source": [
    "## Pretraining"
   ]
  },
  {
   "cell_type": "markdown",
   "metadata": {
    "id": "-5QqIY_GyuoR"
   },
   "source": [
    "The `capa_intermittency.dat` feeds the model with the dynamics of the Capacitor"
   ]
  },
  {
   "cell_type": "code",
   "execution_count": 3,
   "metadata": {
    "id": "9dV4a8yfyuoR"
   },
   "outputs": [],
   "source": [
    "data = np.genfromtxt('capa_intermittency.dat')\n",
    "training_set = pd.DataFrame(data).reset_index(drop=True)\n",
    "training_set = training_set.iloc[:,0]"
   ]
  },
  {
   "cell_type": "markdown",
   "metadata": {
    "id": "i7easoxByuoR"
   },
   "source": [
    "## Computing the Gradient"
   ]
  },
  {
   "cell_type": "markdown",
   "metadata": {
    "id": "5SnyolJTyuoR"
   },
   "source": [
    "_Calculating the value of_ $\\frac{dx}{dt}$"
   ]
  },
  {
   "cell_type": "code",
   "execution_count": 4,
   "metadata": {
    "colab": {
     "base_uri": "https://localhost:8080/"
    },
    "id": "wmIbVfIvyuoR",
    "outputId": "aa4e3136-c854-465d-d2e9-81cfd546e440"
   },
   "outputs": [
    {
     "name": "stdout",
     "output_type": "stream",
     "text": [
      "1.0\n",
      "1        0.000298\n",
      "2        0.000298\n",
      "3        0.000297\n",
      "4        0.000297\n",
      "5        0.000297\n",
      "           ...   \n",
      "9996     0.000018\n",
      "9997     0.000018\n",
      "9998     0.000018\n",
      "9999     0.000018\n",
      "10000    0.000018\n",
      "Name: 0, Length: 10000, dtype: float64\n"
     ]
    }
   ],
   "source": [
    "t_diff = 1\n",
    "print(training_set.max())\n",
    "gradient_t = (training_set.diff()/t_diff).iloc[1:] # dx/dt\n",
    "print(gradient_t)"
   ]
  },
  {
   "cell_type": "markdown",
   "metadata": {
    "id": "_2eVeeoxyuoS"
   },
   "source": [
    "## Loading Datasets"
   ]
  },
  {
   "cell_type": "code",
   "execution_count": 5,
   "metadata": {
    "id": "0J-NKyIEyuoS"
   },
   "outputs": [
    {
     "data": {
      "text/plain": [
       "0       88.200000\n",
       "1       87.987115\n",
       "2       87.774230\n",
       "3       87.561345\n",
       "4       87.348459\n",
       "          ...    \n",
       "2145    58.492457\n",
       "2146    58.483439\n",
       "2147    58.474421\n",
       "2148    58.465403\n",
       "2149    58.456385\n",
       "Name: C8, Length: 2150, dtype: float64"
      ]
     },
     "execution_count": 5,
     "metadata": {},
     "output_type": "execute_result"
    }
   ],
   "source": [
    "data = pd.read_csv(\"c8_interpolated_2050_100.csv\")\n",
    "training_set = data.iloc[:, 1]\n",
    "training_set"
   ]
  },
  {
   "cell_type": "code",
   "execution_count": 6,
   "metadata": {
    "colab": {
     "base_uri": "https://localhost:8080/"
    },
    "id": "-CbNUhJ74UqF",
    "outputId": "20f562d8-8247-49cc-b9c3-00eca5e13e2d"
   },
   "outputs": [
    {
     "data": {
      "text/plain": [
       "0       88.200000\n",
       "1       87.987115\n",
       "2       87.774230\n",
       "3       87.561345\n",
       "4       87.348459\n",
       "          ...    \n",
       "2045     0.108849\n",
       "2046     0.000000\n",
       "2047     0.000000\n",
       "2048     0.676237\n",
       "2049     0.113051\n",
       "Name: C8, Length: 2050, dtype: float64"
      ]
     },
     "execution_count": 6,
     "metadata": {},
     "output_type": "execute_result"
    }
   ],
   "source": [
    "test = training_set.tail(100)\n",
    "test\n",
    "training_set = training_set.head(2050)\n",
    "training_set"
   ]
  },
  {
   "cell_type": "code",
   "execution_count": 7,
   "metadata": {
    "colab": {
     "base_uri": "https://localhost:8080/"
    },
    "id": "X0TwTcq0yuoS",
    "outputId": "37252ed8-d88e-4044-fa7a-922411990b5b"
   },
   "outputs": [
    {
     "name": "stdout",
     "output_type": "stream",
     "text": [
      "0       0.000298\n",
      "1       0.000298\n",
      "2       0.000297\n",
      "3       0.000297\n",
      "4       0.000297\n",
      "          ...   \n",
      "9995    0.000018\n",
      "9996    0.000018\n",
      "9997    0.000018\n",
      "9998    0.000018\n",
      "9999    0.000018\n",
      "Name: 0, Length: 10000, dtype: float64\n"
     ]
    }
   ],
   "source": [
    "training_set = training_set.reset_index(drop=True)\n",
    "gradient_t = gradient_t.reset_index(drop=True)\n",
    "print(gradient_t)"
   ]
  },
  {
   "cell_type": "code",
   "execution_count": 8,
   "metadata": {
    "id": "O2biznZQyuoS"
   },
   "outputs": [],
   "source": [
    "df = pd.concat((training_set, gradient_t), axis=1)\n",
    "df.columns = ['y_t', 'grad_t']"
   ]
  },
  {
   "cell_type": "code",
   "execution_count": 9,
   "metadata": {
    "colab": {
     "base_uri": "https://localhost:8080/",
     "height": 423
    },
    "id": "sk_a5v3tyuoS",
    "outputId": "17563625-e550-45ae-faab-fafa353e44da"
   },
   "outputs": [
    {
     "data": {
      "text/html": [
       "<div>\n",
       "<style scoped>\n",
       "    .dataframe tbody tr th:only-of-type {\n",
       "        vertical-align: middle;\n",
       "    }\n",
       "\n",
       "    .dataframe tbody tr th {\n",
       "        vertical-align: top;\n",
       "    }\n",
       "\n",
       "    .dataframe thead th {\n",
       "        text-align: right;\n",
       "    }\n",
       "</style>\n",
       "<table border=\"1\" class=\"dataframe\">\n",
       "  <thead>\n",
       "    <tr style=\"text-align: right;\">\n",
       "      <th></th>\n",
       "      <th>y_t</th>\n",
       "      <th>grad_t</th>\n",
       "    </tr>\n",
       "  </thead>\n",
       "  <tbody>\n",
       "    <tr>\n",
       "      <th>0</th>\n",
       "      <td>88.200000</td>\n",
       "      <td>0.000298</td>\n",
       "    </tr>\n",
       "    <tr>\n",
       "      <th>1</th>\n",
       "      <td>87.987115</td>\n",
       "      <td>0.000298</td>\n",
       "    </tr>\n",
       "    <tr>\n",
       "      <th>2</th>\n",
       "      <td>87.774230</td>\n",
       "      <td>0.000297</td>\n",
       "    </tr>\n",
       "    <tr>\n",
       "      <th>3</th>\n",
       "      <td>87.561345</td>\n",
       "      <td>0.000297</td>\n",
       "    </tr>\n",
       "    <tr>\n",
       "      <th>4</th>\n",
       "      <td>87.348459</td>\n",
       "      <td>0.000297</td>\n",
       "    </tr>\n",
       "    <tr>\n",
       "      <th>...</th>\n",
       "      <td>...</td>\n",
       "      <td>...</td>\n",
       "    </tr>\n",
       "    <tr>\n",
       "      <th>9995</th>\n",
       "      <td>NaN</td>\n",
       "      <td>0.000018</td>\n",
       "    </tr>\n",
       "    <tr>\n",
       "      <th>9996</th>\n",
       "      <td>NaN</td>\n",
       "      <td>0.000018</td>\n",
       "    </tr>\n",
       "    <tr>\n",
       "      <th>9997</th>\n",
       "      <td>NaN</td>\n",
       "      <td>0.000018</td>\n",
       "    </tr>\n",
       "    <tr>\n",
       "      <th>9998</th>\n",
       "      <td>NaN</td>\n",
       "      <td>0.000018</td>\n",
       "    </tr>\n",
       "    <tr>\n",
       "      <th>9999</th>\n",
       "      <td>NaN</td>\n",
       "      <td>0.000018</td>\n",
       "    </tr>\n",
       "  </tbody>\n",
       "</table>\n",
       "<p>10000 rows × 2 columns</p>\n",
       "</div>"
      ],
      "text/plain": [
       "            y_t    grad_t\n",
       "0     88.200000  0.000298\n",
       "1     87.987115  0.000298\n",
       "2     87.774230  0.000297\n",
       "3     87.561345  0.000297\n",
       "4     87.348459  0.000297\n",
       "...         ...       ...\n",
       "9995        NaN  0.000018\n",
       "9996        NaN  0.000018\n",
       "9997        NaN  0.000018\n",
       "9998        NaN  0.000018\n",
       "9999        NaN  0.000018\n",
       "\n",
       "[10000 rows x 2 columns]"
      ]
     },
     "execution_count": 9,
     "metadata": {},
     "output_type": "execute_result"
    }
   ],
   "source": [
    "df"
   ]
  },
  {
   "cell_type": "markdown",
   "metadata": {
    "id": "-5esyHu5aFvg"
   },
   "source": [
    "## Plot of the External Forcing from Chaotic Differential Equation"
   ]
  },
  {
   "cell_type": "code",
   "execution_count": 10,
   "metadata": {
    "colab": {
     "base_uri": "https://localhost:8080/",
     "height": 447
    },
    "id": "hGnE43tOh-4p",
    "outputId": "fc396503-b624-4fa5-dfbe-f460207405c6"
   },
   "outputs": [
    {
     "data": {
      "text/plain": [
       "<Axes: >"
      ]
     },
     "execution_count": 10,
     "metadata": {},
     "output_type": "execute_result"
    },
    {
     "data": {
      "image/png": "[encoded data removed]",
      "text/plain": [
       "<Figure size 432x288 with 1 Axes>"
      ]
     },
     "metadata": {
      "needs_background": "light"
     },
     "output_type": "display_data"
    }
   ],
   "source": [
    "df.iloc[:, 0].plot()"
   ]
  },
  {
   "cell_type": "code",
   "execution_count": 11,
   "metadata": {
    "colab": {
     "base_uri": "https://localhost:8080/",
     "height": 447
    },
    "id": "ym4xWUUxaFvg",
    "outputId": "ae6a3495-8ce9-437e-ba81-3ed31deedeae"
   },
   "outputs": [
    {
     "name": "stderr",
     "output_type": "stream",
     "text": [
      "C:\\Users\\Anurag Dutta\\AppData\\Local\\Packages\\PythonSoftwareFoundation.Python.3.9_qbz5n2kfra8p0\\LocalCache\\local-packages\\Python39\\site-packages\\pandas\\core\\arraylike.py:402: RuntimeWarning: divide by zero encountered in log\n",
      "  result = getattr(ufunc, method)(*inputs, **kwargs)\n"
     ]
    },
    {
     "data": {
      "text/plain": [
       "<Axes: >"
      ]
     },
     "execution_count": 11,
     "metadata": {},
     "output_type": "execute_result"
    },
    {
     "data": {
      "image/png": "[encoded data removed]",
      "text/plain": [
       "<Figure size 432x288 with 1 Axes>"
      ]
     },
     "metadata": {
      "needs_background": "light"
     },
     "output_type": "display_data"
    }
   ],
   "source": [
    "import numpy as np\n",
    "c0 = 85.7336  # Value for C0\n",
    "K0 = -0.0020  # Value for K0\n",
    "K1 = 0.0002  # Value for K1\n",
    "a = 0.0000    # Value for a\n",
    "b = 0.0125    # Value for b\n",
    "c = 2.3008    # Value for c\n",
    "\n",
    "L = np.minimum(c0, (df.iloc[:, 1] - (df.iloc[:, 0] * (K0 - K1 * (9 * a * np.log(df.iloc[:, 0] / c0) / (K0 - K1 * c)**2 + 4 * b * np.log(df.iloc[:, 0] / c0) / (K0 - K1 * c) + c)))))\n",
    "L.plot()"
   ]
  },
  {
   "cell_type": "markdown",
   "metadata": {
    "id": "9VyEywnwaFvh"
   },
   "source": [
    "## Preprocessing the data into supervised learning"
   ]
  },
  {
   "cell_type": "code",
   "execution_count": 12,
   "metadata": {
    "id": "6V9dXqzdaFvh"
   },
   "outputs": [],
   "source": [
    "# split a sequence into samples\n",
    "def Supervised(data, n_in=1, n_out=1, dropnan=True):\n",
    "    n_vars = 1 if type(data) is list else data.shape[1]\n",
    "    df = pd.DataFrame(data)\n",
    "    cols, names = list(), list()\n",
    "    # input sequence (t-n_in, ... t-1)\n",
    "    for i in range(n_in, 0, -1):\n",
    "        cols.append(df.shift(i))\n",
    "        names += [('var%d(t-%d)' % (j+1, i)) for j in range(n_vars)]\n",
    "    # forecast sequence (t, t+1, ... t+n_out)\n",
    "    for i in range(0, n_out):\n",
    "      cols.append(df.shift(-i))\n",
    "      if i == 0:\n",
    "        names += [('var%d(t)' % (j+1)) for j in range(n_vars)]\n",
    "      else:\n",
    "        names += [('var%d(t+%d)' % (j+1, i)) for j in range(n_vars)]\n",
    "    # put it all together\n",
    "    agg = pd.concat(cols, axis=1)\n",
    "    agg.columns = names\n",
    "    # drop rows with NaN values\n",
    "    if dropnan:\n",
    "       agg.dropna(inplace=True)\n",
    "    return agg"
   ]
  },
  {
   "cell_type": "code",
   "execution_count": 13,
   "metadata": {
    "colab": {
     "base_uri": "https://localhost:8080/"
    },
    "id": "CrzSrT1HnyfH",
    "outputId": "7e75f928-3e47-499d-eac1-51908015ef78"
   },
   "outputs": [
    {
     "name": "stdout",
     "output_type": "stream",
     "text": [
      "     var1(t-350)  var1(t-349)  var1(t-348)  var1(t-347)  var1(t-346)  \\\n",
      "350    88.200000    87.987115    87.774230    87.561345    87.348459   \n",
      "351    87.987115    87.774230    87.561345    87.348459    87.135574   \n",
      "352    87.774230    87.561345    87.348459    87.135574    86.922689   \n",
      "353    87.561345    87.348459    87.135574    86.922689    86.709804   \n",
      "354    87.348459    87.135574    86.922689    86.709804    86.496919   \n",
      "\n",
      "     var1(t-345)  var1(t-344)  var1(t-343)  var1(t-342)  var1(t-341)  ...  \\\n",
      "350    87.135574    86.922689    86.709804    86.496919    86.294538  ...   \n",
      "351    86.922689    86.709804    86.496919    86.294538    86.221709  ...   \n",
      "352    86.709804    86.496919    86.294538    86.221709    86.148880  ...   \n",
      "353    86.496919    86.294538    86.221709    86.148880    86.076050  ...   \n",
      "354    86.294538    86.221709    86.148880    86.076050    86.003221  ...   \n",
      "\n",
      "     var1(t+95)  var2(t+95)  var1(t+96)  var2(t+96)  var1(t+97)  var2(t+97)  \\\n",
      "350   76.094351    0.000263   76.058870    0.000263   76.023389    0.000263   \n",
      "351   76.058870    0.000263   76.023389    0.000263   75.987909    0.000262   \n",
      "352   76.023389    0.000263   75.987909    0.000262   75.952428    0.000262   \n",
      "353   75.987909    0.000262   75.952428    0.000262   75.916947    0.000262   \n",
      "354   75.952428    0.000262   75.916947    0.000262   75.881466    0.000262   \n",
      "\n",
      "     var1(t+98)  var2(t+98)  var1(t+99)  var2(t+99)  \n",
      "350   75.987909    0.000262   75.952428    0.000262  \n",
      "351   75.952428    0.000262   75.916947    0.000262  \n",
      "352   75.916947    0.000262   75.881466    0.000262  \n",
      "353   75.881466    0.000262   75.845985    0.000262  \n",
      "354   75.845985    0.000262   75.810504    0.000262  \n",
      "\n",
      "[5 rows x 551 columns]\n",
      "Index(['var1(t-350)', 'var1(t-349)', 'var1(t-348)', 'var1(t-347)',\n",
      "       'var1(t-346)', 'var1(t-345)', 'var1(t-344)', 'var1(t-343)',\n",
      "       'var1(t-342)', 'var1(t-341)',\n",
      "       ...\n",
      "       'var1(t+95)', 'var2(t+95)', 'var1(t+96)', 'var2(t+96)', 'var1(t+97)',\n",
      "       'var2(t+97)', 'var1(t+98)', 'var2(t+98)', 'var1(t+99)', 'var2(t+99)'],\n",
      "      dtype='object', length=551)\n"
     ]
    }
   ],
   "source": [
    "data = Supervised(df.values, n_in = 350, n_out = 100)\n",
    "\n",
    "\n",
    "cols_to_drop = []\n",
    "for i in range(2, 351):\n",
    "    cols_to_drop.extend([f'var2(t-{i})'])\n",
    "\n",
    "data.drop(cols_to_drop, axis=1, inplace=True)\n",
    "\n",
    "print(data.head())\n",
    "print(data.columns)"
   ]
  },
  {
   "cell_type": "code",
   "execution_count": 14,
   "metadata": {
    "id": "AfPf60oy6Pe4"
   },
   "outputs": [],
   "source": [
    "train = np.array(data[0:len(data)-1])\n",
    "forecast = np.array(data.tail(1))"
   ]
  },
  {
   "cell_type": "code",
   "execution_count": 15,
   "metadata": {
    "id": "WSAafzI37KiT"
   },
   "outputs": [],
   "source": [
    "trainy = train[:,-300:]\n",
    "trainX = train[:,:-300]"
   ]
  },
  {
   "cell_type": "code",
   "execution_count": 16,
   "metadata": {
    "id": "2SrOqVJA7f50"
   },
   "outputs": [],
   "source": [
    "forecasty = forecast[:,-300:]\n",
    "forecastX = forecast[:,:-300]"
   ]
  },
  {
   "cell_type": "code",
   "execution_count": 17,
   "metadata": {
    "colab": {
     "base_uri": "https://localhost:8080/"
    },
    "id": "Qno_k8Nw7saY",
    "outputId": "c4a88db5-d8c6-489f-cdb2-06b24e293cff"
   },
   "outputs": [
    {
     "name": "stdout",
     "output_type": "stream",
     "text": [
      "(1600, 1, 251) (1600, 300) (1, 1, 251)\n"
     ]
    }
   ],
   "source": [
    "trainX = trainX.reshape((trainX.shape[0], 1, trainX.shape[1]))\n",
    "forecastX = forecastX.reshape((forecastX.shape[0], 1, forecastX.shape[1]))\n",
    "print(trainX.shape, trainy.shape, forecastX.shape)"
   ]
  },
  {
   "cell_type": "code",
   "execution_count": 18,
   "metadata": {
    "colab": {
     "base_uri": "https://localhost:8080/"
    },
    "id": "b1Jp2DvNuNFx",
    "outputId": "d0e5b3c4-64f1-438c-eade-8dfeaac8e285"
   },
   "outputs": [
    {
     "name": "stdout",
     "output_type": "stream",
     "text": [
      "Epoch 1/500\n",
      "20/20 [==============================] - 2s 26ms/step - loss: 4681.4902 - val_loss: 2770.9446\n",
      "Epoch 2/500\n",
      "20/20 [==============================] - 0s 4ms/step - loss: 4393.6650 - val_loss: 2620.4741\n",
      "Epoch 3/500\n",
      "20/20 [==============================] - 0s 4ms/step - loss: 4275.7563 - val_loss: 2557.0105\n",
      "Epoch 4/500\n",
      "20/20 [==============================] - 0s 4ms/step - loss: 4178.2188 - val_loss: 2497.2554\n",
      "Epoch 5/500\n",
      "20/20 [==============================] - 0s 4ms/step - loss: 4083.6387 - val_loss: 2442.1084\n",
      "Epoch 6/500\n",
      "20/20 [==============================] - 0s 4ms/step - loss: 3994.8438 - val_loss: 2389.3213\n",
      "Epoch 7/500\n",
      "20/20 [==============================] - 0s 4ms/step - loss: 3908.6626 - val_loss: 2338.3386\n",
      "Epoch 8/500\n",
      "20/20 [==============================] - 0s 4ms/step - loss: 3824.6777 - val_loss: 2288.9343\n",
      "Epoch 9/500\n",
      "20/20 [==============================] - 0s 4ms/step - loss: 3742.6067 - val_loss: 2240.9666\n",
      "Epoch 10/500\n",
      "20/20 [==============================] - 0s 4ms/step - loss: 3662.2708 - val_loss: 2194.3423\n",
      "Epoch 11/500\n",
      "20/20 [==============================] - 0s 4ms/step - loss: 3583.5515 - val_loss: 2148.9944\n",
      "Epoch 12/500\n",
      "20/20 [==============================] - 0s 4ms/step - loss: 3506.3647 - val_loss: 2104.8735\n",
      "Epoch 13/500\n",
      "20/20 [==============================] - 0s 4ms/step - loss: 3430.6465 - val_loss: 2061.9370\n",
      "Epoch 14/500\n",
      "20/20 [==============================] - 0s 4ms/step - loss: 3356.3442 - val_loss: 2020.1526\n",
      "Epoch 15/500\n",
      "20/20 [==============================] - 0s 5ms/step - loss: 3283.4180 - val_loss: 1979.4896\n",
      "Epoch 16/500\n",
      "20/20 [==============================] - 0s 5ms/step - loss: 3211.8301 - val_loss: 1939.9226\n",
      "Epoch 17/500\n",
      "20/20 [==============================] - 0s 5ms/step - loss: 3141.5503 - val_loss: 1901.4283\n",
      "Epoch 18/500\n",
      "20/20 [==============================] - 0s 4ms/step - loss: 3072.5503 - val_loss: 1863.9847\n",
      "Epoch 19/500\n",
      "20/20 [==============================] - 0s 4ms/step - loss: 3004.8059 - val_loss: 1827.5719\n",
      "Epoch 20/500\n",
      "20/20 [==============================] - 0s 4ms/step - loss: 2938.2935 - val_loss: 1792.1703\n",
      "Epoch 21/500\n",
      "20/20 [==============================] - 0s 4ms/step - loss: 2872.9905 - val_loss: 1757.7629\n",
      "Epoch 22/500\n",
      "20/20 [==============================] - 0s 6ms/step - loss: 2808.8779 - val_loss: 1724.3317\n",
      "Epoch 23/500\n",
      "20/20 [==============================] - 0s 5ms/step - loss: 2745.9363 - val_loss: 1691.8604\n",
      "Epoch 24/500\n",
      "20/20 [==============================] - 0s 4ms/step - loss: 2684.1479 - val_loss: 1660.3330\n",
      "Epoch 25/500\n",
      "20/20 [==============================] - 0s 3ms/step - loss: 2623.4946 - val_loss: 1629.7336\n",
      "Epoch 26/500\n",
      "20/20 [==============================] - 0s 3ms/step - loss: 2563.9595 - val_loss: 1600.0476\n",
      "Epoch 27/500\n",
      "20/20 [==============================] - 0s 3ms/step - loss: 2505.5269 - val_loss: 1571.2598\n",
      "Epoch 28/500\n",
      "20/20 [==============================] - 0s 4ms/step - loss: 2448.1807 - val_loss: 1543.3561\n",
      "Epoch 29/500\n",
      "20/20 [==============================] - 0s 4ms/step - loss: 2391.9058 - val_loss: 1516.3217\n",
      "Epoch 30/500\n",
      "20/20 [==============================] - 0s 4ms/step - loss: 2336.6870 - val_loss: 1490.1431\n",
      "Epoch 31/500\n",
      "20/20 [==============================] - 0s 10ms/step - loss: 2282.5100 - val_loss: 1464.8063\n",
      "Epoch 32/500\n",
      "20/20 [==============================] - 0s 4ms/step - loss: 2229.3604 - val_loss: 1440.2972\n",
      "Epoch 33/500\n",
      "20/20 [==============================] - 0s 3ms/step - loss: 2177.2236 - val_loss: 1416.6042\n",
      "Epoch 34/500\n",
      "20/20 [==============================] - 0s 3ms/step - loss: 2126.0864 - val_loss: 1393.7129\n",
      "Epoch 35/500\n",
      "20/20 [==============================] - 0s 4ms/step - loss: 2075.9351 - val_loss: 1371.6101\n",
      "Epoch 36/500\n",
      "20/20 [==============================] - 0s 4ms/step - loss: 2026.7559 - val_loss: 1350.2836\n",
      "Epoch 37/500\n",
      "20/20 [==============================] - 0s 3ms/step - loss: 1978.5361 - val_loss: 1329.7203\n",
      "Epoch 38/500\n",
      "20/20 [==============================] - 0s 4ms/step - loss: 1931.2625 - val_loss: 1309.9078\n",
      "Epoch 39/500\n",
      "20/20 [==============================] - 0s 4ms/step - loss: 1884.9225 - val_loss: 1290.8337\n",
      "Epoch 40/500\n",
      "20/20 [==============================] - 0s 3ms/step - loss: 1839.5033 - val_loss: 1272.4855\n",
      "Epoch 41/500\n",
      "20/20 [==============================] - 0s 4ms/step - loss: 1794.9919 - val_loss: 1254.8507\n",
      "Epoch 42/500\n",
      "20/20 [==============================] - 0s 3ms/step - loss: 1751.3763 - val_loss: 1237.9176\n",
      "Epoch 43/500\n",
      "20/20 [==============================] - 0s 4ms/step - loss: 1708.6449 - val_loss: 1221.6743\n",
      "Epoch 44/500\n",
      "20/20 [==============================] - 0s 3ms/step - loss: 1666.7849 - val_loss: 1206.1086\n",
      "Epoch 45/500\n",
      "20/20 [==============================] - 0s 3ms/step - loss: 1625.7844 - val_loss: 1191.2090\n",
      "Epoch 46/500\n",
      "20/20 [==============================] - 0s 4ms/step - loss: 1585.6315 - val_loss: 1176.9633\n",
      "Epoch 47/500\n",
      "20/20 [==============================] - 0s 3ms/step - loss: 1546.3147 - val_loss: 1163.3602\n",
      "Epoch 48/500\n",
      "20/20 [==============================] - 0s 4ms/step - loss: 1507.8217 - val_loss: 1150.3882\n",
      "Epoch 49/500\n",
      "20/20 [==============================] - 0s 3ms/step - loss: 1470.1420 - val_loss: 1138.0355\n",
      "Epoch 50/500\n",
      "20/20 [==============================] - 0s 3ms/step - loss: 1433.2634 - val_loss: 1126.2910\n",
      "Epoch 51/500\n",
      "20/20 [==============================] - 0s 4ms/step - loss: 1397.1744 - val_loss: 1115.1433\n",
      "Epoch 52/500\n",
      "20/20 [==============================] - 0s 4ms/step - loss: 1361.8643 - val_loss: 1104.5813\n",
      "Epoch 53/500\n",
      "20/20 [==============================] - 0s 4ms/step - loss: 1327.3220 - val_loss: 1094.5939\n",
      "Epoch 54/500\n",
      "20/20 [==============================] - 0s 4ms/step - loss: 1293.5356 - val_loss: 1085.1696\n",
      "Epoch 55/500\n",
      "20/20 [==============================] - 0s 4ms/step - loss: 1260.4954 - val_loss: 1076.2979\n",
      "Epoch 56/500\n",
      "20/20 [==============================] - 0s 4ms/step - loss: 1228.1892 - val_loss: 1067.9677\n",
      "Epoch 57/500\n",
      "20/20 [==============================] - 0s 4ms/step - loss: 1196.6072 - val_loss: 1060.1680\n",
      "Epoch 58/500\n",
      "20/20 [==============================] - 0s 3ms/step - loss: 1165.7379 - val_loss: 1052.8883\n",
      "Epoch 59/500\n",
      "20/20 [==============================] - 0s 3ms/step - loss: 1135.5712 - val_loss: 1046.1174\n",
      "Epoch 60/500\n",
      "20/20 [==============================] - 0s 4ms/step - loss: 1106.0963 - val_loss: 1039.8455\n",
      "Epoch 61/500\n",
      "20/20 [==============================] - 0s 3ms/step - loss: 1077.3029 - val_loss: 1034.0612\n",
      "Epoch 62/500\n",
      "20/20 [==============================] - 0s 4ms/step - loss: 1049.1804 - val_loss: 1028.7544\n",
      "Epoch 63/500\n",
      "20/20 [==============================] - 0s 3ms/step - loss: 1021.7188 - val_loss: 1023.9144\n",
      "Epoch 64/500\n",
      "20/20 [==============================] - 0s 3ms/step - loss: 994.9074 - val_loss: 1019.5311\n",
      "Epoch 65/500\n",
      "20/20 [==============================] - 0s 4ms/step - loss: 968.7362 - val_loss: 1015.5941\n",
      "Epoch 66/500\n",
      "20/20 [==============================] - 0s 4ms/step - loss: 943.1951 - val_loss: 1012.0931\n",
      "Epoch 67/500\n",
      "20/20 [==============================] - 0s 3ms/step - loss: 918.2739 - val_loss: 1009.0182\n",
      "Epoch 68/500\n",
      "20/20 [==============================] - 0s 3ms/step - loss: 893.9627 - val_loss: 1006.3588\n",
      "Epoch 69/500\n",
      "20/20 [==============================] - 0s 4ms/step - loss: 870.2520 - val_loss: 1004.1053\n",
      "Epoch 70/500\n",
      "20/20 [==============================] - 0s 3ms/step - loss: 847.1313 - val_loss: 1002.2476\n",
      "Epoch 71/500\n",
      "20/20 [==============================] - 0s 4ms/step - loss: 824.5913 - val_loss: 1000.7755\n",
      "Epoch 72/500\n",
      "20/20 [==============================] - 0s 4ms/step - loss: 802.6222 - val_loss: 999.6795\n",
      "Epoch 73/500\n",
      "20/20 [==============================] - 0s 5ms/step - loss: 781.2143 - val_loss: 998.9497\n",
      "Epoch 74/500\n",
      "20/20 [==============================] - 0s 4ms/step - loss: 760.3580 - val_loss: 998.5765\n",
      "Epoch 75/500\n",
      "20/20 [==============================] - 0s 4ms/step - loss: 740.0442 - val_loss: 998.5500\n",
      "Epoch 76/500\n",
      "20/20 [==============================] - 0s 4ms/step - loss: 720.2632 - val_loss: 998.8610\n",
      "Epoch 77/500\n",
      "20/20 [==============================] - 0s 3ms/step - loss: 701.0058 - val_loss: 999.4996\n",
      "Epoch 78/500\n",
      "20/20 [==============================] - 0s 3ms/step - loss: 682.2624 - val_loss: 1000.4567\n",
      "Epoch 79/500\n",
      "20/20 [==============================] - 0s 4ms/step - loss: 664.0238 - val_loss: 1001.7228\n",
      "Epoch 80/500\n",
      "20/20 [==============================] - 0s 4ms/step - loss: 646.2815 - val_loss: 1003.2887\n",
      "Epoch 81/500\n",
      "20/20 [==============================] - 0s 3ms/step - loss: 629.0256 - val_loss: 1005.1449\n",
      "Epoch 82/500\n",
      "20/20 [==============================] - 0s 10ms/step - loss: 612.2479 - val_loss: 1007.2825\n",
      "Epoch 83/500\n",
      "20/20 [==============================] - 0s 4ms/step - loss: 595.9388 - val_loss: 1009.6924\n",
      "Epoch 84/500\n",
      "20/20 [==============================] - 0s 4ms/step - loss: 580.0895 - val_loss: 1012.3655\n",
      "Epoch 85/500\n",
      "20/20 [==============================] - 0s 4ms/step - loss: 564.6915 - val_loss: 1015.2931\n",
      "Epoch 86/500\n",
      "20/20 [==============================] - 0s 4ms/step - loss: 549.7358 - val_loss: 1018.4661\n",
      "Epoch 87/500\n",
      "20/20 [==============================] - 0s 4ms/step - loss: 535.2140 - val_loss: 1021.8759\n",
      "Epoch 88/500\n",
      "20/20 [==============================] - 0s 3ms/step - loss: 521.1172 - val_loss: 1025.5138\n",
      "Epoch 89/500\n",
      "20/20 [==============================] - 0s 4ms/step - loss: 507.4372 - val_loss: 1029.3711\n",
      "Epoch 90/500\n",
      "20/20 [==============================] - 0s 3ms/step - loss: 494.1654 - val_loss: 1033.4392\n",
      "Epoch 91/500\n",
      "20/20 [==============================] - 0s 3ms/step - loss: 481.2936 - val_loss: 1037.7100\n",
      "Epoch 92/500\n",
      "20/20 [==============================] - 0s 3ms/step - loss: 468.8131 - val_loss: 1042.1748\n",
      "Epoch 93/500\n",
      "20/20 [==============================] - 0s 4ms/step - loss: 456.7161 - val_loss: 1046.8256\n",
      "Epoch 94/500\n",
      "20/20 [==============================] - 0s 4ms/step - loss: 444.9942 - val_loss: 1051.6539\n",
      "Epoch 95/500\n",
      "20/20 [==============================] - 0s 3ms/step - loss: 433.6396 - val_loss: 1056.6521\n",
      "Epoch 96/500\n",
      "20/20 [==============================] - 0s 4ms/step - loss: 422.6440 - val_loss: 1061.8118\n",
      "Epoch 97/500\n",
      "20/20 [==============================] - 0s 4ms/step - loss: 411.9994 - val_loss: 1067.1251\n",
      "Epoch 98/500\n",
      "20/20 [==============================] - 0s 4ms/step - loss: 401.6983 - val_loss: 1072.5844\n",
      "Epoch 99/500\n",
      "20/20 [==============================] - 0s 4ms/step - loss: 391.7328 - val_loss: 1078.1816\n",
      "Epoch 100/500\n",
      "20/20 [==============================] - 0s 3ms/step - loss: 382.0952 - val_loss: 1083.9097\n",
      "Epoch 101/500\n",
      "20/20 [==============================] - 0s 4ms/step - loss: 372.7776 - val_loss: 1089.7605\n",
      "Epoch 102/500\n",
      "20/20 [==============================] - 0s 4ms/step - loss: 363.7730 - val_loss: 1095.7272\n",
      "Epoch 103/500\n",
      "20/20 [==============================] - 0s 3ms/step - loss: 355.0737 - val_loss: 1101.8020\n",
      "Epoch 104/500\n",
      "20/20 [==============================] - 0s 5ms/step - loss: 346.6723 - val_loss: 1107.9779\n",
      "Epoch 105/500\n",
      "20/20 [==============================] - 0s 4ms/step - loss: 338.5615 - val_loss: 1114.2480\n",
      "Epoch 106/500\n",
      "20/20 [==============================] - 0s 3ms/step - loss: 330.7342 - val_loss: 1120.6050\n",
      "Epoch 107/500\n",
      "20/20 [==============================] - 0s 3ms/step - loss: 323.1831 - val_loss: 1127.0422\n",
      "Epoch 108/500\n",
      "20/20 [==============================] - 0s 4ms/step - loss: 315.9014 - val_loss: 1133.5522\n",
      "Epoch 109/500\n",
      "20/20 [==============================] - 0s 4ms/step - loss: 308.8822 - val_loss: 1140.1294\n",
      "Epoch 110/500\n",
      "20/20 [==============================] - 0s 4ms/step - loss: 302.1183 - val_loss: 1146.7670\n",
      "Epoch 111/500\n",
      "20/20 [==============================] - 0s 4ms/step - loss: 295.6033 - val_loss: 1153.4578\n",
      "Epoch 112/500\n",
      "20/20 [==============================] - 0s 4ms/step - loss: 289.3304 - val_loss: 1160.1963\n",
      "Epoch 113/500\n",
      "20/20 [==============================] - 0s 3ms/step - loss: 283.2929 - val_loss: 1166.9762\n",
      "Epoch 114/500\n",
      "20/20 [==============================] - 0s 3ms/step - loss: 277.4845 - val_loss: 1173.7908\n",
      "Epoch 115/500\n",
      "20/20 [==============================] - 0s 4ms/step - loss: 271.8987 - val_loss: 1180.6350\n",
      "Epoch 116/500\n",
      "20/20 [==============================] - 0s 4ms/step - loss: 266.5293 - val_loss: 1187.5024\n",
      "Epoch 117/500\n",
      "20/20 [==============================] - 0s 4ms/step - loss: 261.3700 - val_loss: 1194.3876\n",
      "Epoch 118/500\n",
      "20/20 [==============================] - 0s 4ms/step - loss: 256.4146 - val_loss: 1201.2853\n",
      "Epoch 119/500\n",
      "20/20 [==============================] - 0s 3ms/step - loss: 251.6574 - val_loss: 1208.1892\n",
      "Epoch 120/500\n",
      "20/20 [==============================] - 0s 3ms/step - loss: 247.0920 - val_loss: 1215.0950\n",
      "Epoch 121/500\n",
      "20/20 [==============================] - 0s 4ms/step - loss: 242.7131 - val_loss: 1221.9972\n",
      "Epoch 122/500\n",
      "20/20 [==============================] - 0s 11ms/step - loss: 238.5146 - val_loss: 1228.8900\n",
      "Epoch 123/500\n",
      "20/20 [==============================] - 0s 4ms/step - loss: 234.4911 - val_loss: 1235.7700\n",
      "Epoch 124/500\n",
      "20/20 [==============================] - 0s 4ms/step - loss: 230.6369 - val_loss: 1242.6306\n",
      "Epoch 125/500\n",
      "20/20 [==============================] - 0s 4ms/step - loss: 226.9467 - val_loss: 1249.4698\n",
      "Epoch 126/500\n",
      "20/20 [==============================] - 0s 3ms/step - loss: 223.4152 - val_loss: 1256.2805\n",
      "Epoch 127/500\n",
      "20/20 [==============================] - 0s 4ms/step - loss: 220.0371 - val_loss: 1263.0594\n",
      "Epoch 128/500\n",
      "20/20 [==============================] - 0s 3ms/step - loss: 216.8072 - val_loss: 1269.8026\n",
      "Epoch 129/500\n",
      "20/20 [==============================] - 0s 4ms/step - loss: 213.7207 - val_loss: 1276.5062\n",
      "Epoch 130/500\n",
      "20/20 [==============================] - 0s 3ms/step - loss: 210.7725 - val_loss: 1283.1653\n",
      "Epoch 131/500\n",
      "20/20 [==============================] - 0s 3ms/step - loss: 207.9579 - val_loss: 1289.7770\n",
      "Epoch 132/500\n",
      "20/20 [==============================] - 0s 4ms/step - loss: 205.2721 - val_loss: 1296.3374\n",
      "Epoch 133/500\n",
      "20/20 [==============================] - 0s 3ms/step - loss: 202.7105 - val_loss: 1302.8430\n",
      "Epoch 134/500\n",
      "20/20 [==============================] - 0s 4ms/step - loss: 200.2687 - val_loss: 1309.2903\n",
      "Epoch 135/500\n",
      "20/20 [==============================] - 0s 4ms/step - loss: 197.9422 - val_loss: 1315.6764\n",
      "Epoch 136/500\n",
      "20/20 [==============================] - 0s 4ms/step - loss: 195.7268 - val_loss: 1321.9979\n",
      "Epoch 137/500\n",
      "20/20 [==============================] - 0s 5ms/step - loss: 193.6183 - val_loss: 1328.2522\n",
      "Epoch 138/500\n",
      "20/20 [==============================] - 0s 5ms/step - loss: 191.6125 - val_loss: 1334.4365\n",
      "Epoch 139/500\n",
      "20/20 [==============================] - 0s 4ms/step - loss: 189.7055 - val_loss: 1340.5481\n",
      "Epoch 140/500\n",
      "20/20 [==============================] - 0s 3ms/step - loss: 187.8934 - val_loss: 1346.5847\n",
      "Epoch 141/500\n",
      "20/20 [==============================] - 0s 3ms/step - loss: 186.1724 - val_loss: 1352.5436\n",
      "Epoch 142/500\n",
      "20/20 [==============================] - 0s 4ms/step - loss: 184.5388 - val_loss: 1358.4231\n",
      "Epoch 143/500\n",
      "20/20 [==============================] - 0s 4ms/step - loss: 182.9890 - val_loss: 1364.2209\n",
      "Epoch 144/500\n",
      "20/20 [==============================] - 0s 4ms/step - loss: 181.5196 - val_loss: 1369.9351\n",
      "Epoch 145/500\n",
      "20/20 [==============================] - 0s 3ms/step - loss: 180.1272 - val_loss: 1375.5632\n",
      "Epoch 146/500\n",
      "20/20 [==============================] - 0s 3ms/step - loss: 178.8086 - val_loss: 1381.1046\n",
      "Epoch 147/500\n",
      "20/20 [==============================] - 0s 4ms/step - loss: 177.5603 - val_loss: 1386.5574\n",
      "Epoch 148/500\n",
      "20/20 [==============================] - 0s 4ms/step - loss: 176.3797 - val_loss: 1391.9202\n",
      "Epoch 149/500\n",
      "20/20 [==============================] - 0s 3ms/step - loss: 175.2634 - val_loss: 1397.1918\n",
      "Epoch 150/500\n",
      "20/20 [==============================] - 0s 4ms/step - loss: 174.2086 - val_loss: 1402.3708\n",
      "Epoch 151/500\n",
      "20/20 [==============================] - 0s 3ms/step - loss: 173.2125 - val_loss: 1407.4569\n",
      "Epoch 152/500\n",
      "20/20 [==============================] - 0s 4ms/step - loss: 172.2726 - val_loss: 1412.4482\n",
      "Epoch 153/500\n",
      "20/20 [==============================] - 0s 4ms/step - loss: 171.3859 - val_loss: 1417.3445\n",
      "Epoch 154/500\n",
      "20/20 [==============================] - 0s 4ms/step - loss: 170.5502 - val_loss: 1422.1458\n",
      "Epoch 155/500\n",
      "20/20 [==============================] - 0s 4ms/step - loss: 169.7629 - val_loss: 1426.8506\n",
      "Epoch 156/500\n",
      "20/20 [==============================] - 0s 4ms/step - loss: 169.0217 - val_loss: 1431.4584\n",
      "Epoch 157/500\n",
      "20/20 [==============================] - 0s 4ms/step - loss: 168.3242 - val_loss: 1435.9698\n",
      "Epoch 158/500\n",
      "20/20 [==============================] - 0s 10ms/step - loss: 167.6685 - val_loss: 1440.3842\n",
      "Epoch 159/500\n",
      "20/20 [==============================] - 0s 4ms/step - loss: 167.0522 - val_loss: 1444.7014\n",
      "Epoch 160/500\n",
      "20/20 [==============================] - 0s 4ms/step - loss: 166.4734 - val_loss: 1448.9211\n",
      "Epoch 161/500\n",
      "20/20 [==============================] - 0s 4ms/step - loss: 165.9303 - val_loss: 1453.0447\n",
      "Epoch 162/500\n",
      "20/20 [==============================] - 0s 4ms/step - loss: 165.4208 - val_loss: 1457.0709\n",
      "Epoch 163/500\n",
      "20/20 [==============================] - 0s 4ms/step - loss: 164.9432 - val_loss: 1461.0016\n",
      "Epoch 164/500\n",
      "20/20 [==============================] - 0s 4ms/step - loss: 164.4958 - val_loss: 1464.8352\n",
      "Epoch 165/500\n",
      "20/20 [==============================] - 0s 4ms/step - loss: 164.0770 - val_loss: 1468.5740\n",
      "Epoch 166/500\n",
      "20/20 [==============================] - 0s 4ms/step - loss: 163.6851 - val_loss: 1472.2178\n",
      "Epoch 167/500\n",
      "20/20 [==============================] - 0s 4ms/step - loss: 163.3187 - val_loss: 1475.7668\n",
      "Epoch 168/500\n",
      "20/20 [==============================] - 0s 4ms/step - loss: 162.9764 - val_loss: 1479.2227\n",
      "Epoch 169/500\n",
      "20/20 [==============================] - 0s 4ms/step - loss: 162.6568 - val_loss: 1482.5862\n",
      "Epoch 170/500\n",
      "20/20 [==============================] - 0s 4ms/step - loss: 162.3585 - val_loss: 1485.8574\n",
      "Epoch 171/500\n",
      "20/20 [==============================] - 0s 4ms/step - loss: 162.0803 - val_loss: 1489.0378\n",
      "Epoch 172/500\n",
      "20/20 [==============================] - 0s 4ms/step - loss: 161.8211 - val_loss: 1492.1285\n",
      "Epoch 173/500\n",
      "20/20 [==============================] - 0s 4ms/step - loss: 161.5796 - val_loss: 1495.1302\n",
      "Epoch 174/500\n",
      "20/20 [==============================] - 0s 4ms/step - loss: 161.3549 - val_loss: 1498.0446\n",
      "Epoch 175/500\n",
      "20/20 [==============================] - 0s 3ms/step - loss: 161.1459 - val_loss: 1500.8724\n",
      "Epoch 176/500\n",
      "20/20 [==============================] - 0s 4ms/step - loss: 160.9516 - val_loss: 1503.6147\n",
      "Epoch 177/500\n",
      "20/20 [==============================] - 0s 4ms/step - loss: 160.7711 - val_loss: 1506.2742\n",
      "Epoch 178/500\n",
      "20/20 [==============================] - 0s 4ms/step - loss: 160.6035 - val_loss: 1508.8491\n",
      "Epoch 179/500\n",
      "20/20 [==============================] - 0s 3ms/step - loss: 160.4481 - val_loss: 1511.3438\n",
      "Epoch 180/500\n",
      "20/20 [==============================] - 0s 4ms/step - loss: 160.3039 - val_loss: 1513.7592\n",
      "Epoch 181/500\n",
      "20/20 [==============================] - 0s 4ms/step - loss: 160.1704 - val_loss: 1516.0961\n",
      "Epoch 182/500\n",
      "20/20 [==============================] - 0s 4ms/step - loss: 160.0467 - val_loss: 1518.3551\n",
      "Epoch 183/500\n",
      "20/20 [==============================] - 0s 4ms/step - loss: 159.9323 - val_loss: 1520.5388\n",
      "Epoch 184/500\n",
      "20/20 [==============================] - 0s 4ms/step - loss: 159.8265 - val_loss: 1522.6487\n",
      "Epoch 185/500\n",
      "20/20 [==============================] - 0s 4ms/step - loss: 159.7287 - val_loss: 1524.6865\n",
      "Epoch 186/500\n",
      "20/20 [==============================] - 0s 4ms/step - loss: 159.6385 - val_loss: 1526.6530\n",
      "Epoch 187/500\n",
      "20/20 [==============================] - 0s 3ms/step - loss: 159.5551 - val_loss: 1528.5497\n",
      "Epoch 188/500\n",
      "20/20 [==============================] - 0s 4ms/step - loss: 159.4782 - val_loss: 1530.3790\n",
      "Epoch 189/500\n",
      "20/20 [==============================] - 0s 4ms/step - loss: 159.4074 - val_loss: 1532.1418\n",
      "Epoch 190/500\n",
      "20/20 [==============================] - 0s 4ms/step - loss: 159.3421 - val_loss: 1533.8403\n",
      "Epoch 191/500\n",
      "20/20 [==============================] - 0s 4ms/step - loss: 159.2820 - val_loss: 1535.4749\n",
      "Epoch 192/500\n",
      "20/20 [==============================] - 0s 4ms/step - loss: 159.2267 - val_loss: 1537.0486\n",
      "Epoch 193/500\n",
      "20/20 [==============================] - 0s 4ms/step - loss: 159.1759 - val_loss: 1538.5627\n",
      "Epoch 194/500\n",
      "20/20 [==============================] - 0s 4ms/step - loss: 159.1292 - val_loss: 1540.0186\n",
      "Epoch 195/500\n",
      "20/20 [==============================] - 0s 3ms/step - loss: 159.0862 - val_loss: 1541.4176\n",
      "Epoch 196/500\n",
      "20/20 [==============================] - 0s 3ms/step - loss: 159.0468 - val_loss: 1542.7611\n",
      "Epoch 197/500\n",
      "20/20 [==============================] - 0s 4ms/step - loss: 159.0107 - val_loss: 1544.0505\n",
      "Epoch 198/500\n",
      "20/20 [==============================] - 0s 5ms/step - loss: 158.9776 - val_loss: 1545.2888\n",
      "Epoch 199/500\n",
      "20/20 [==============================] - 0s 4ms/step - loss: 158.9472 - val_loss: 1546.4758\n",
      "Epoch 200/500\n",
      "20/20 [==============================] - 0s 10ms/step - loss: 158.9195 - val_loss: 1547.6138\n",
      "Epoch 201/500\n",
      "20/20 [==============================] - 0s 5ms/step - loss: 158.8941 - val_loss: 1548.7047\n",
      "Epoch 202/500\n",
      "20/20 [==============================] - 0s 5ms/step - loss: 158.8708 - val_loss: 1549.7500\n",
      "Epoch 203/500\n",
      "20/20 [==============================] - 0s 4ms/step - loss: 158.8496 - val_loss: 1550.7505\n",
      "Epoch 204/500\n",
      "20/20 [==============================] - 0s 5ms/step - loss: 158.8302 - val_loss: 1551.7073\n",
      "Epoch 205/500\n",
      "20/20 [==============================] - 0s 6ms/step - loss: 158.8125 - val_loss: 1552.6223\n",
      "Epoch 206/500\n",
      "20/20 [==============================] - 0s 5ms/step - loss: 158.7963 - val_loss: 1553.4974\n",
      "Epoch 207/500\n",
      "20/20 [==============================] - 0s 4ms/step - loss: 158.7816 - val_loss: 1554.3342\n",
      "Epoch 208/500\n",
      "20/20 [==============================] - 0s 4ms/step - loss: 158.7682 - val_loss: 1555.1322\n",
      "Epoch 209/500\n",
      "20/20 [==============================] - 0s 4ms/step - loss: 158.7560 - val_loss: 1555.8945\n",
      "Epoch 210/500\n",
      "20/20 [==============================] - 0s 4ms/step - loss: 158.7449 - val_loss: 1556.6219\n",
      "Epoch 211/500\n",
      "20/20 [==============================] - 0s 4ms/step - loss: 158.7348 - val_loss: 1557.3157\n",
      "Epoch 212/500\n",
      "20/20 [==============================] - 0s 4ms/step - loss: 158.7257 - val_loss: 1557.9773\n",
      "Epoch 213/500\n",
      "20/20 [==============================] - 0s 5ms/step - loss: 158.7174 - val_loss: 1558.6066\n",
      "Epoch 214/500\n",
      "20/20 [==============================] - 0s 5ms/step - loss: 158.7099 - val_loss: 1559.2075\n",
      "Epoch 215/500\n",
      "20/20 [==============================] - 0s 4ms/step - loss: 158.7030 - val_loss: 1559.7786\n",
      "Epoch 216/500\n",
      "20/20 [==============================] - 0s 5ms/step - loss: 158.6969 - val_loss: 1560.3214\n",
      "Epoch 217/500\n",
      "20/20 [==============================] - 0s 5ms/step - loss: 158.6913 - val_loss: 1560.8389\n",
      "Epoch 218/500\n",
      "20/20 [==============================] - 0s 4ms/step - loss: 158.6863 - val_loss: 1561.3298\n",
      "Epoch 219/500\n",
      "20/20 [==============================] - 0s 4ms/step - loss: 158.6817 - val_loss: 1561.7969\n",
      "Epoch 220/500\n",
      "20/20 [==============================] - 0s 5ms/step - loss: 158.6777 - val_loss: 1562.2395\n",
      "Epoch 221/500\n",
      "20/20 [==============================] - 0s 4ms/step - loss: 158.6740 - val_loss: 1562.6604\n",
      "Epoch 222/500\n",
      "20/20 [==============================] - 0s 5ms/step - loss: 158.6707 - val_loss: 1563.0597\n",
      "Epoch 223/500\n",
      "20/20 [==============================] - 0s 4ms/step - loss: 158.6678 - val_loss: 1563.4386\n",
      "Epoch 224/500\n",
      "20/20 [==============================] - 0s 5ms/step - loss: 158.6652 - val_loss: 1563.7966\n",
      "Epoch 225/500\n",
      "20/20 [==============================] - 0s 4ms/step - loss: 158.6628 - val_loss: 1564.1364\n",
      "Epoch 226/500\n",
      "20/20 [==============================] - 0s 5ms/step - loss: 158.6608 - val_loss: 1564.4583\n",
      "Epoch 227/500\n",
      "20/20 [==============================] - 0s 4ms/step - loss: 158.6590 - val_loss: 1564.7629\n",
      "Epoch 228/500\n",
      "20/20 [==============================] - 0s 4ms/step - loss: 158.6573 - val_loss: 1565.0507\n",
      "Epoch 229/500\n",
      "20/20 [==============================] - 0s 5ms/step - loss: 158.6560 - val_loss: 1565.3240\n",
      "Epoch 230/500\n",
      "20/20 [==============================] - 0s 5ms/step - loss: 158.6548 - val_loss: 1565.5808\n",
      "Epoch 231/500\n",
      "20/20 [==============================] - 0s 4ms/step - loss: 158.6537 - val_loss: 1565.8248\n",
      "Epoch 232/500\n",
      "20/20 [==============================] - 0s 4ms/step - loss: 158.6528 - val_loss: 1566.0543\n",
      "Epoch 233/500\n",
      "20/20 [==============================] - 0s 4ms/step - loss: 158.6521 - val_loss: 1566.2709\n",
      "Epoch 234/500\n",
      "20/20 [==============================] - 0s 4ms/step - loss: 158.6515 - val_loss: 1566.4755\n",
      "Epoch 235/500\n",
      "20/20 [==============================] - 0s 8ms/step - loss: 158.6509 - val_loss: 1566.6687\n",
      "Epoch 236/500\n",
      "20/20 [==============================] - 0s 5ms/step - loss: 158.6505 - val_loss: 1566.8502\n",
      "Epoch 237/500\n",
      "20/20 [==============================] - 0s 5ms/step - loss: 158.6502 - val_loss: 1567.0212\n",
      "Epoch 238/500\n",
      "20/20 [==============================] - 0s 5ms/step - loss: 158.6500 - val_loss: 1567.1819\n",
      "Epoch 239/500\n",
      "20/20 [==============================] - 0s 5ms/step - loss: 158.6499 - val_loss: 1567.3342\n",
      "Epoch 240/500\n",
      "20/20 [==============================] - 0s 5ms/step - loss: 158.6499 - val_loss: 1567.4763\n",
      "Epoch 241/500\n",
      "20/20 [==============================] - 0s 4ms/step - loss: 158.6499 - val_loss: 1567.6105\n",
      "Epoch 242/500\n",
      "20/20 [==============================] - 0s 4ms/step - loss: 158.6499 - val_loss: 1567.7371\n",
      "Epoch 243/500\n",
      "20/20 [==============================] - 0s 4ms/step - loss: 158.6501 - val_loss: 1567.8547\n",
      "Epoch 244/500\n",
      "20/20 [==============================] - 0s 4ms/step - loss: 158.6503 - val_loss: 1567.9666\n",
      "Epoch 245/500\n",
      "20/20 [==============================] - 0s 4ms/step - loss: 158.6505 - val_loss: 1568.0704\n",
      "Epoch 246/500\n",
      "20/20 [==============================] - 0s 4ms/step - loss: 158.6508 - val_loss: 1568.1677\n",
      "Epoch 247/500\n",
      "20/20 [==============================] - 0s 5ms/step - loss: 158.6511 - val_loss: 1568.2600\n",
      "Epoch 248/500\n",
      "20/20 [==============================] - 0s 5ms/step - loss: 158.6514 - val_loss: 1568.3452\n",
      "Epoch 249/500\n",
      "20/20 [==============================] - 0s 5ms/step - loss: 158.6518 - val_loss: 1568.4260\n",
      "Epoch 250/500\n",
      "20/20 [==============================] - 0s 4ms/step - loss: 158.6522 - val_loss: 1568.5006\n",
      "Epoch 251/500\n",
      "20/20 [==============================] - 0s 4ms/step - loss: 158.6527 - val_loss: 1568.5708\n",
      "Epoch 252/500\n",
      "20/20 [==============================] - 0s 4ms/step - loss: 158.6532 - val_loss: 1568.6370\n",
      "Epoch 253/500\n",
      "20/20 [==============================] - 0s 4ms/step - loss: 158.6536 - val_loss: 1568.6979\n",
      "Epoch 254/500\n",
      "20/20 [==============================] - 0s 4ms/step - loss: 158.6542 - val_loss: 1568.7551\n",
      "Epoch 255/500\n",
      "20/20 [==============================] - 0s 4ms/step - loss: 158.6547 - val_loss: 1568.8091\n",
      "Epoch 256/500\n",
      "20/20 [==============================] - 0s 4ms/step - loss: 158.6552 - val_loss: 1568.8584\n",
      "Epoch 257/500\n",
      "20/20 [==============================] - 0s 4ms/step - loss: 158.6558 - val_loss: 1568.9054\n",
      "Epoch 258/500\n",
      "20/20 [==============================] - 0s 5ms/step - loss: 158.6564 - val_loss: 1568.9480\n",
      "Epoch 259/500\n",
      "20/20 [==============================] - 0s 4ms/step - loss: 158.6570 - val_loss: 1568.9886\n",
      "Epoch 260/500\n",
      "20/20 [==============================] - 0s 4ms/step - loss: 158.6576 - val_loss: 1569.0267\n",
      "Epoch 261/500\n",
      "20/20 [==============================] - 0s 5ms/step - loss: 158.6583 - val_loss: 1569.0615\n",
      "Epoch 262/500\n",
      "20/20 [==============================] - 0s 5ms/step - loss: 158.6589 - val_loss: 1569.0935\n",
      "Epoch 263/500\n",
      "20/20 [==============================] - 0s 4ms/step - loss: 158.6596 - val_loss: 1569.1235\n",
      "Epoch 264/500\n",
      "20/20 [==============================] - 0s 9ms/step - loss: 158.6601 - val_loss: 1569.1520\n",
      "Epoch 265/500\n",
      "20/20 [==============================] - 0s 6ms/step - loss: 158.6608 - val_loss: 1569.1780\n",
      "Epoch 266/500\n",
      "20/20 [==============================] - 0s 5ms/step - loss: 158.6615 - val_loss: 1569.2015\n",
      "Epoch 267/500\n",
      "20/20 [==============================] - 0s 5ms/step - loss: 158.6621 - val_loss: 1569.2244\n",
      "Epoch 268/500\n",
      "20/20 [==============================] - 0s 5ms/step - loss: 158.6628 - val_loss: 1569.2444\n",
      "Epoch 269/500\n",
      "20/20 [==============================] - 0s 5ms/step - loss: 158.6635 - val_loss: 1569.2634\n",
      "Epoch 270/500\n",
      "20/20 [==============================] - 0s 4ms/step - loss: 158.6641 - val_loss: 1569.2809\n",
      "Epoch 271/500\n",
      "20/20 [==============================] - 0s 5ms/step - loss: 158.6647 - val_loss: 1569.2971\n",
      "Epoch 272/500\n",
      "20/20 [==============================] - 0s 5ms/step - loss: 158.6654 - val_loss: 1569.3121\n",
      "Epoch 273/500\n",
      "20/20 [==============================] - 0s 5ms/step - loss: 158.6661 - val_loss: 1569.3252\n",
      "Epoch 274/500\n",
      "20/20 [==============================] - 0s 4ms/step - loss: 158.6668 - val_loss: 1569.3385\n",
      "Epoch 275/500\n",
      "20/20 [==============================] - 0s 4ms/step - loss: 158.6674 - val_loss: 1569.3499\n",
      "Epoch 276/500\n",
      "20/20 [==============================] - 0s 4ms/step - loss: 158.6681 - val_loss: 1569.3600\n",
      "Epoch 277/500\n",
      "20/20 [==============================] - 0s 5ms/step - loss: 158.6688 - val_loss: 1569.3700\n",
      "Epoch 278/500\n",
      "20/20 [==============================] - 0s 4ms/step - loss: 158.6694 - val_loss: 1569.3793\n",
      "Epoch 279/500\n",
      "20/20 [==============================] - 0s 5ms/step - loss: 158.6701 - val_loss: 1569.3871\n",
      "Epoch 280/500\n",
      "20/20 [==============================] - 0s 4ms/step - loss: 158.6707 - val_loss: 1569.3938\n",
      "Epoch 281/500\n",
      "20/20 [==============================] - 0s 4ms/step - loss: 158.6714 - val_loss: 1569.4009\n",
      "Epoch 282/500\n",
      "20/20 [==============================] - 0s 5ms/step - loss: 158.6720 - val_loss: 1569.4069\n",
      "Epoch 283/500\n",
      "20/20 [==============================] - 0s 4ms/step - loss: 158.6727 - val_loss: 1569.4135\n",
      "Epoch 284/500\n",
      "20/20 [==============================] - 0s 5ms/step - loss: 158.6733 - val_loss: 1569.4172\n",
      "Epoch 285/500\n",
      "20/20 [==============================] - 0s 4ms/step - loss: 158.6740 - val_loss: 1569.4221\n",
      "Epoch 286/500\n",
      "20/20 [==============================] - 0s 4ms/step - loss: 158.6746 - val_loss: 1569.4260\n",
      "Epoch 287/500\n",
      "20/20 [==============================] - 0s 4ms/step - loss: 158.6753 - val_loss: 1569.4303\n",
      "Epoch 288/500\n",
      "20/20 [==============================] - 0s 5ms/step - loss: 158.6759 - val_loss: 1569.4330\n",
      "Epoch 289/500\n",
      "20/20 [==============================] - 0s 5ms/step - loss: 158.6765 - val_loss: 1569.4368\n",
      "Epoch 290/500\n",
      "20/20 [==============================] - 0s 4ms/step - loss: 158.6771 - val_loss: 1569.4388\n",
      "Epoch 291/500\n",
      "20/20 [==============================] - 0s 4ms/step - loss: 158.6777 - val_loss: 1569.4407\n",
      "Epoch 292/500\n",
      "20/20 [==============================] - 0s 10ms/step - loss: 158.6784 - val_loss: 1569.4426\n",
      "Epoch 293/500\n",
      "20/20 [==============================] - 0s 6ms/step - loss: 158.6789 - val_loss: 1569.4456\n",
      "Epoch 294/500\n",
      "20/20 [==============================] - 0s 5ms/step - loss: 158.6795 - val_loss: 1569.4469\n",
      "Epoch 295/500\n",
      "20/20 [==============================] - 0s 5ms/step - loss: 158.6801 - val_loss: 1569.4471\n",
      "Epoch 296/500\n",
      "20/20 [==============================] - 0s 4ms/step - loss: 158.6807 - val_loss: 1569.4487\n",
      "Epoch 297/500\n",
      "20/20 [==============================] - 0s 5ms/step - loss: 158.6813 - val_loss: 1569.4497\n",
      "Epoch 298/500\n",
      "20/20 [==============================] - 0s 5ms/step - loss: 158.6818 - val_loss: 1569.4500\n",
      "Epoch 299/500\n",
      "20/20 [==============================] - 0s 5ms/step - loss: 158.6824 - val_loss: 1569.4509\n",
      "Epoch 300/500\n",
      "20/20 [==============================] - 0s 5ms/step - loss: 158.6830 - val_loss: 1569.4509\n",
      "Epoch 301/500\n",
      "20/20 [==============================] - 0s 4ms/step - loss: 158.6835 - val_loss: 1569.4517\n",
      "Epoch 302/500\n",
      "20/20 [==============================] - 0s 4ms/step - loss: 158.6841 - val_loss: 1569.4517\n",
      "Epoch 303/500\n",
      "20/20 [==============================] - 0s 4ms/step - loss: 158.6846 - val_loss: 1569.4514\n",
      "Epoch 304/500\n",
      "20/20 [==============================] - 0s 5ms/step - loss: 158.6852 - val_loss: 1569.4514\n",
      "Epoch 305/500\n",
      "20/20 [==============================] - 0s 4ms/step - loss: 158.6857 - val_loss: 1569.4509\n",
      "Epoch 306/500\n",
      "20/20 [==============================] - 0s 4ms/step - loss: 158.6862 - val_loss: 1569.4509\n",
      "Epoch 307/500\n",
      "20/20 [==============================] - 0s 5ms/step - loss: 158.6868 - val_loss: 1569.4506\n",
      "Epoch 308/500\n",
      "20/20 [==============================] - 0s 4ms/step - loss: 158.6872 - val_loss: 1569.4506\n",
      "Epoch 309/500\n",
      "20/20 [==============================] - 0s 5ms/step - loss: 158.6877 - val_loss: 1569.4497\n",
      "Epoch 310/500\n",
      "20/20 [==============================] - 0s 5ms/step - loss: 158.6883 - val_loss: 1569.4495\n",
      "Epoch 311/500\n",
      "20/20 [==============================] - 0s 6ms/step - loss: 158.6887 - val_loss: 1569.4490\n",
      "Epoch 312/500\n",
      "20/20 [==============================] - 0s 5ms/step - loss: 158.6892 - val_loss: 1569.4480\n",
      "Epoch 313/500\n",
      "20/20 [==============================] - 0s 6ms/step - loss: 158.6897 - val_loss: 1569.4471\n",
      "Epoch 314/500\n",
      "20/20 [==============================] - 0s 6ms/step - loss: 158.6902 - val_loss: 1569.4462\n",
      "Epoch 315/500\n",
      "20/20 [==============================] - 0s 6ms/step - loss: 158.6907 - val_loss: 1569.4458\n",
      "Epoch 316/500\n",
      "20/20 [==============================] - 0s 6ms/step - loss: 158.6911 - val_loss: 1569.4451\n",
      "Epoch 317/500\n",
      "20/20 [==============================] - 0s 6ms/step - loss: 158.6916 - val_loss: 1569.4441\n",
      "Epoch 318/500\n",
      "20/20 [==============================] - 0s 14ms/step - loss: 158.6920 - val_loss: 1569.4437\n",
      "Epoch 319/500\n",
      "20/20 [==============================] - 0s 6ms/step - loss: 158.6924 - val_loss: 1569.4423\n",
      "Epoch 320/500\n",
      "20/20 [==============================] - 0s 6ms/step - loss: 158.6929 - val_loss: 1569.4418\n",
      "Epoch 321/500\n",
      "20/20 [==============================] - 0s 5ms/step - loss: 158.6933 - val_loss: 1569.4410\n",
      "Epoch 322/500\n",
      "20/20 [==============================] - 0s 5ms/step - loss: 158.6938 - val_loss: 1569.4401\n",
      "Epoch 323/500\n",
      "20/20 [==============================] - 0s 5ms/step - loss: 158.6941 - val_loss: 1569.4388\n",
      "Epoch 324/500\n",
      "20/20 [==============================] - 0s 5ms/step - loss: 158.6946 - val_loss: 1569.4387\n",
      "Epoch 325/500\n",
      "20/20 [==============================] - 0s 4ms/step - loss: 158.6950 - val_loss: 1569.4382\n",
      "Epoch 326/500\n",
      "20/20 [==============================] - 0s 5ms/step - loss: 158.6953 - val_loss: 1569.4373\n",
      "Epoch 327/500\n",
      "20/20 [==============================] - 0s 4ms/step - loss: 158.6957 - val_loss: 1569.4359\n",
      "Epoch 328/500\n",
      "20/20 [==============================] - 0s 4ms/step - loss: 158.6962 - val_loss: 1569.4351\n",
      "Epoch 329/500\n",
      "20/20 [==============================] - 0s 5ms/step - loss: 158.6965 - val_loss: 1569.4338\n",
      "Epoch 330/500\n",
      "20/20 [==============================] - 0s 4ms/step - loss: 158.6969 - val_loss: 1569.4332\n",
      "Epoch 331/500\n",
      "20/20 [==============================] - 0s 4ms/step - loss: 158.6973 - val_loss: 1569.4321\n",
      "Epoch 332/500\n",
      "20/20 [==============================] - 0s 4ms/step - loss: 158.6977 - val_loss: 1569.4313\n",
      "Epoch 333/500\n",
      "20/20 [==============================] - 0s 4ms/step - loss: 158.6980 - val_loss: 1569.4305\n",
      "Epoch 334/500\n",
      "20/20 [==============================] - 0s 4ms/step - loss: 158.6983 - val_loss: 1569.4299\n",
      "Epoch 335/500\n",
      "20/20 [==============================] - 0s 4ms/step - loss: 158.6987 - val_loss: 1569.4294\n",
      "Epoch 336/500\n",
      "20/20 [==============================] - 0s 5ms/step - loss: 158.6990 - val_loss: 1569.4281\n",
      "Epoch 337/500\n",
      "20/20 [==============================] - 0s 4ms/step - loss: 158.6994 - val_loss: 1569.4274\n",
      "Epoch 338/500\n",
      "20/20 [==============================] - 0s 5ms/step - loss: 158.6997 - val_loss: 1569.4266\n",
      "Epoch 339/500\n",
      "20/20 [==============================] - 0s 4ms/step - loss: 158.7001 - val_loss: 1569.4252\n",
      "Epoch 340/500\n",
      "20/20 [==============================] - 0s 5ms/step - loss: 158.7004 - val_loss: 1569.4244\n",
      "Epoch 341/500\n",
      "20/20 [==============================] - 0s 4ms/step - loss: 158.7007 - val_loss: 1569.4231\n",
      "Epoch 342/500\n",
      "20/20 [==============================] - 0s 4ms/step - loss: 158.7010 - val_loss: 1569.4226\n",
      "Epoch 343/500\n",
      "20/20 [==============================] - 0s 5ms/step - loss: 158.7013 - val_loss: 1569.4222\n",
      "Epoch 344/500\n",
      "20/20 [==============================] - 0s 10ms/step - loss: 158.7016 - val_loss: 1569.4216\n",
      "Epoch 345/500\n",
      "20/20 [==============================] - 0s 5ms/step - loss: 158.7019 - val_loss: 1569.4208\n",
      "Epoch 346/500\n",
      "20/20 [==============================] - 0s 4ms/step - loss: 158.7022 - val_loss: 1569.4197\n",
      "Epoch 347/500\n",
      "20/20 [==============================] - 0s 5ms/step - loss: 158.7025 - val_loss: 1569.4189\n",
      "Epoch 348/500\n",
      "20/20 [==============================] - 0s 5ms/step - loss: 158.7027 - val_loss: 1569.4181\n",
      "Epoch 349/500\n",
      "20/20 [==============================] - 0s 4ms/step - loss: 158.7030 - val_loss: 1569.4177\n",
      "Epoch 350/500\n",
      "20/20 [==============================] - 0s 5ms/step - loss: 158.7034 - val_loss: 1569.4170\n",
      "Epoch 351/500\n",
      "20/20 [==============================] - 0s 5ms/step - loss: 158.7036 - val_loss: 1569.4165\n",
      "Epoch 352/500\n",
      "20/20 [==============================] - 0s 4ms/step - loss: 158.7039 - val_loss: 1569.4164\n",
      "Epoch 353/500\n",
      "20/20 [==============================] - 0s 5ms/step - loss: 158.7041 - val_loss: 1569.4153\n",
      "Epoch 354/500\n",
      "20/20 [==============================] - 0s 4ms/step - loss: 158.7044 - val_loss: 1569.4149\n",
      "Epoch 355/500\n",
      "20/20 [==============================] - 0s 4ms/step - loss: 158.7046 - val_loss: 1569.4146\n",
      "Epoch 356/500\n",
      "20/20 [==============================] - 0s 5ms/step - loss: 158.7048 - val_loss: 1569.4143\n",
      "Epoch 357/500\n",
      "20/20 [==============================] - 0s 4ms/step - loss: 158.7051 - val_loss: 1569.4132\n",
      "Epoch 358/500\n",
      "20/20 [==============================] - 0s 4ms/step - loss: 158.7054 - val_loss: 1569.4128\n",
      "Epoch 359/500\n",
      "20/20 [==============================] - 0s 5ms/step - loss: 158.7055 - val_loss: 1569.4117\n",
      "Epoch 360/500\n",
      "20/20 [==============================] - 0s 4ms/step - loss: 158.7059 - val_loss: 1569.4110\n",
      "Epoch 361/500\n",
      "20/20 [==============================] - 0s 4ms/step - loss: 158.7061 - val_loss: 1569.4099\n",
      "Epoch 362/500\n",
      "20/20 [==============================] - 0s 5ms/step - loss: 158.7063 - val_loss: 1569.4097\n",
      "Epoch 363/500\n",
      "20/20 [==============================] - 0s 5ms/step - loss: 158.7065 - val_loss: 1569.4089\n",
      "Epoch 364/500\n",
      "20/20 [==============================] - 0s 4ms/step - loss: 158.7067 - val_loss: 1569.4082\n",
      "Epoch 365/500\n",
      "20/20 [==============================] - 0s 4ms/step - loss: 158.7069 - val_loss: 1569.4075\n",
      "Epoch 366/500\n",
      "20/20 [==============================] - 0s 5ms/step - loss: 158.7071 - val_loss: 1569.4070\n",
      "Epoch 367/500\n",
      "20/20 [==============================] - 0s 5ms/step - loss: 158.7073 - val_loss: 1569.4066\n",
      "Epoch 368/500\n",
      "20/20 [==============================] - 0s 4ms/step - loss: 158.7076 - val_loss: 1569.4060\n",
      "Epoch 369/500\n",
      "20/20 [==============================] - 0s 4ms/step - loss: 158.7077 - val_loss: 1569.4059\n",
      "Epoch 370/500\n",
      "20/20 [==============================] - 0s 11ms/step - loss: 158.7079 - val_loss: 1569.4055\n",
      "Epoch 371/500\n",
      "20/20 [==============================] - 0s 5ms/step - loss: 158.7081 - val_loss: 1569.4048\n",
      "Epoch 372/500\n",
      "20/20 [==============================] - 0s 5ms/step - loss: 158.7083 - val_loss: 1569.4043\n",
      "Epoch 373/500\n",
      "20/20 [==============================] - 0s 4ms/step - loss: 158.7085 - val_loss: 1569.4037\n",
      "Epoch 374/500\n",
      "20/20 [==============================] - 0s 4ms/step - loss: 158.7087 - val_loss: 1569.4034\n",
      "Epoch 375/500\n",
      "20/20 [==============================] - 0s 5ms/step - loss: 158.7088 - val_loss: 1569.4031\n",
      "Epoch 376/500\n",
      "20/20 [==============================] - 0s 5ms/step - loss: 158.7090 - val_loss: 1569.4027\n",
      "Epoch 377/500\n",
      "20/20 [==============================] - 0s 4ms/step - loss: 158.7092 - val_loss: 1569.4023\n",
      "Epoch 378/500\n",
      "20/20 [==============================] - 0s 4ms/step - loss: 158.7094 - val_loss: 1569.4016\n",
      "Epoch 379/500\n",
      "20/20 [==============================] - 0s 4ms/step - loss: 158.7095 - val_loss: 1569.4010\n",
      "Epoch 380/500\n",
      "20/20 [==============================] - 0s 4ms/step - loss: 158.7097 - val_loss: 1569.4001\n",
      "Epoch 381/500\n",
      "20/20 [==============================] - 0s 4ms/step - loss: 158.7099 - val_loss: 1569.4004\n",
      "Epoch 382/500\n",
      "20/20 [==============================] - 0s 6ms/step - loss: 158.7100 - val_loss: 1569.3995\n",
      "Epoch 383/500\n",
      "20/20 [==============================] - 0s 5ms/step - loss: 158.7101 - val_loss: 1569.3990\n",
      "Epoch 384/500\n",
      "20/20 [==============================] - 0s 4ms/step - loss: 158.7103 - val_loss: 1569.3981\n",
      "Epoch 385/500\n",
      "20/20 [==============================] - 0s 4ms/step - loss: 158.7105 - val_loss: 1569.3978\n",
      "Epoch 386/500\n",
      "20/20 [==============================] - 0s 4ms/step - loss: 158.7106 - val_loss: 1569.3978\n",
      "Epoch 387/500\n",
      "20/20 [==============================] - 0s 5ms/step - loss: 158.7107 - val_loss: 1569.3972\n",
      "Epoch 388/500\n",
      "20/20 [==============================] - 0s 5ms/step - loss: 158.7109 - val_loss: 1569.3972\n",
      "Epoch 389/500\n",
      "20/20 [==============================] - 0s 4ms/step - loss: 158.7110 - val_loss: 1569.3969\n",
      "Epoch 390/500\n",
      "20/20 [==============================] - 0s 4ms/step - loss: 158.7112 - val_loss: 1569.3966\n",
      "Epoch 391/500\n",
      "20/20 [==============================] - 0s 5ms/step - loss: 158.7113 - val_loss: 1569.3969\n",
      "Epoch 392/500\n",
      "20/20 [==============================] - 0s 11ms/step - loss: 158.7114 - val_loss: 1569.3961\n",
      "Epoch 393/500\n",
      "20/20 [==============================] - 0s 6ms/step - loss: 158.7115 - val_loss: 1569.3955\n",
      "Epoch 394/500\n",
      "20/20 [==============================] - 0s 5ms/step - loss: 158.7117 - val_loss: 1569.3954\n",
      "Epoch 395/500\n",
      "20/20 [==============================] - 0s 5ms/step - loss: 158.7117 - val_loss: 1569.3948\n",
      "Epoch 396/500\n",
      "20/20 [==============================] - 0s 5ms/step - loss: 158.7119 - val_loss: 1569.3944\n",
      "Epoch 397/500\n",
      "20/20 [==============================] - 0s 4ms/step - loss: 158.7120 - val_loss: 1569.3943\n",
      "Epoch 398/500\n",
      "20/20 [==============================] - 0s 4ms/step - loss: 158.7121 - val_loss: 1569.3937\n",
      "Epoch 399/500\n",
      "20/20 [==============================] - 0s 4ms/step - loss: 158.7123 - val_loss: 1569.3933\n",
      "Epoch 400/500\n",
      "20/20 [==============================] - 0s 4ms/step - loss: 158.7124 - val_loss: 1569.3933\n",
      "Epoch 401/500\n",
      "20/20 [==============================] - 0s 5ms/step - loss: 158.7125 - val_loss: 1569.3928\n",
      "Epoch 402/500\n",
      "20/20 [==============================] - 0s 4ms/step - loss: 158.7126 - val_loss: 1569.3922\n",
      "Epoch 403/500\n",
      "20/20 [==============================] - 0s 5ms/step - loss: 158.7127 - val_loss: 1569.3922\n",
      "Epoch 404/500\n",
      "20/20 [==============================] - 0s 5ms/step - loss: 158.7128 - val_loss: 1569.3918\n",
      "Epoch 405/500\n",
      "20/20 [==============================] - 0s 5ms/step - loss: 158.7129 - val_loss: 1569.3915\n",
      "Epoch 406/500\n",
      "20/20 [==============================] - 0s 4ms/step - loss: 158.7130 - val_loss: 1569.3915\n",
      "Epoch 407/500\n",
      "20/20 [==============================] - 0s 4ms/step - loss: 158.7131 - val_loss: 1569.3915\n",
      "Epoch 408/500\n",
      "20/20 [==============================] - 0s 4ms/step - loss: 158.7132 - val_loss: 1569.3912\n",
      "Epoch 409/500\n",
      "20/20 [==============================] - 0s 4ms/step - loss: 158.7133 - val_loss: 1569.3912\n",
      "Epoch 410/500\n",
      "20/20 [==============================] - 0s 4ms/step - loss: 158.7134 - val_loss: 1569.3909\n",
      "Epoch 411/500\n",
      "20/20 [==============================] - 0s 4ms/step - loss: 158.7135 - val_loss: 1569.3904\n",
      "Epoch 412/500\n",
      "20/20 [==============================] - 0s 4ms/step - loss: 158.7135 - val_loss: 1569.3895\n",
      "Epoch 413/500\n",
      "20/20 [==============================] - 0s 4ms/step - loss: 158.7137 - val_loss: 1569.3893\n",
      "Epoch 414/500\n",
      "20/20 [==============================] - 0s 4ms/step - loss: 158.7138 - val_loss: 1569.3893\n",
      "Epoch 415/500\n",
      "20/20 [==============================] - 0s 9ms/step - loss: 158.7138 - val_loss: 1569.3893\n",
      "Epoch 416/500\n",
      "20/20 [==============================] - 0s 5ms/step - loss: 158.7139 - val_loss: 1569.3888\n",
      "Epoch 417/500\n",
      "20/20 [==============================] - 0s 5ms/step - loss: 158.7140 - val_loss: 1569.3887\n",
      "Epoch 418/500\n",
      "20/20 [==============================] - 0s 4ms/step - loss: 158.7141 - val_loss: 1569.3887\n",
      "Epoch 419/500\n",
      "20/20 [==============================] - 0s 4ms/step - loss: 158.7142 - val_loss: 1569.3885\n",
      "Epoch 420/500\n",
      "20/20 [==============================] - 0s 5ms/step - loss: 158.7142 - val_loss: 1569.3885\n",
      "Epoch 421/500\n",
      "20/20 [==============================] - 0s 5ms/step - loss: 158.7143 - val_loss: 1569.3884\n",
      "Epoch 422/500\n",
      "20/20 [==============================] - 0s 5ms/step - loss: 158.7144 - val_loss: 1569.3883\n",
      "Epoch 423/500\n",
      "20/20 [==============================] - 0s 5ms/step - loss: 158.7144 - val_loss: 1569.3878\n",
      "Epoch 424/500\n",
      "20/20 [==============================] - 0s 4ms/step - loss: 158.7145 - val_loss: 1569.3871\n",
      "Epoch 425/500\n",
      "20/20 [==============================] - 0s 4ms/step - loss: 158.7146 - val_loss: 1569.3871\n",
      "Epoch 426/500\n",
      "20/20 [==============================] - 0s 4ms/step - loss: 158.7147 - val_loss: 1569.3871\n",
      "Epoch 427/500\n",
      "20/20 [==============================] - 0s 4ms/step - loss: 158.7148 - val_loss: 1569.3870\n",
      "Epoch 428/500\n",
      "20/20 [==============================] - 0s 4ms/step - loss: 158.7148 - val_loss: 1569.3868\n",
      "Epoch 429/500\n",
      "20/20 [==============================] - 0s 4ms/step - loss: 158.7148 - val_loss: 1569.3868\n",
      "Epoch 430/500\n",
      "20/20 [==============================] - 0s 5ms/step - loss: 158.7149 - val_loss: 1569.3867\n",
      "Epoch 431/500\n",
      "20/20 [==============================] - 0s 4ms/step - loss: 158.7150 - val_loss: 1569.3865\n",
      "Epoch 432/500\n",
      "20/20 [==============================] - 0s 4ms/step - loss: 158.7150 - val_loss: 1569.3857\n",
      "Epoch 433/500\n",
      "20/20 [==============================] - 0s 5ms/step - loss: 158.7151 - val_loss: 1569.3860\n",
      "Epoch 434/500\n",
      "20/20 [==============================] - 0s 4ms/step - loss: 158.7152 - val_loss: 1569.3865\n",
      "Epoch 435/500\n",
      "20/20 [==============================] - 0s 5ms/step - loss: 158.7152 - val_loss: 1569.3865\n",
      "Epoch 436/500\n",
      "20/20 [==============================] - 0s 5ms/step - loss: 158.7153 - val_loss: 1569.3865\n",
      "Epoch 437/500\n",
      "20/20 [==============================] - 0s 5ms/step - loss: 158.7153 - val_loss: 1569.3857\n",
      "Epoch 438/500\n",
      "20/20 [==============================] - 0s 4ms/step - loss: 158.7154 - val_loss: 1569.3857\n",
      "Epoch 439/500\n",
      "20/20 [==============================] - 0s 11ms/step - loss: 158.7155 - val_loss: 1569.3856\n",
      "Epoch 440/500\n",
      "20/20 [==============================] - 0s 5ms/step - loss: 158.7156 - val_loss: 1569.3856\n",
      "Epoch 441/500\n",
      "20/20 [==============================] - 0s 5ms/step - loss: 158.7155 - val_loss: 1569.3853\n",
      "Epoch 442/500\n",
      "20/20 [==============================] - 0s 5ms/step - loss: 158.7156 - val_loss: 1569.3848\n",
      "Epoch 443/500\n",
      "20/20 [==============================] - 0s 5ms/step - loss: 158.7157 - val_loss: 1569.3848\n",
      "Epoch 444/500\n",
      "20/20 [==============================] - 0s 5ms/step - loss: 158.7157 - val_loss: 1569.3839\n",
      "Epoch 445/500\n",
      "20/20 [==============================] - 0s 5ms/step - loss: 158.7157 - val_loss: 1569.3839\n",
      "Epoch 446/500\n",
      "20/20 [==============================] - 0s 4ms/step - loss: 158.7158 - val_loss: 1569.3838\n",
      "Epoch 447/500\n",
      "20/20 [==============================] - 0s 5ms/step - loss: 158.7159 - val_loss: 1569.3839\n",
      "Epoch 448/500\n",
      "20/20 [==============================] - 0s 5ms/step - loss: 158.7159 - val_loss: 1569.3839\n",
      "Epoch 449/500\n",
      "20/20 [==============================] - 0s 4ms/step - loss: 158.7159 - val_loss: 1569.3838\n",
      "Epoch 450/500\n",
      "20/20 [==============================] - 0s 4ms/step - loss: 158.7159 - val_loss: 1569.3835\n",
      "Epoch 451/500\n",
      "20/20 [==============================] - 0s 4ms/step - loss: 158.7160 - val_loss: 1569.3835\n",
      "Epoch 452/500\n",
      "20/20 [==============================] - 0s 4ms/step - loss: 158.7160 - val_loss: 1569.3834\n",
      "Epoch 453/500\n",
      "20/20 [==============================] - 0s 4ms/step - loss: 158.7161 - val_loss: 1569.3832\n",
      "Epoch 454/500\n",
      "20/20 [==============================] - 0s 4ms/step - loss: 158.7161 - val_loss: 1569.3831\n",
      "Epoch 455/500\n",
      "20/20 [==============================] - 0s 5ms/step - loss: 158.7162 - val_loss: 1569.3828\n",
      "Epoch 456/500\n",
      "20/20 [==============================] - 0s 4ms/step - loss: 158.7162 - val_loss: 1569.3824\n",
      "Epoch 457/500\n",
      "20/20 [==============================] - 0s 4ms/step - loss: 158.7162 - val_loss: 1569.3821\n",
      "Epoch 458/500\n",
      "20/20 [==============================] - 0s 4ms/step - loss: 158.7163 - val_loss: 1569.3821\n",
      "Epoch 459/500\n",
      "20/20 [==============================] - 0s 4ms/step - loss: 158.7163 - val_loss: 1569.3817\n",
      "Epoch 460/500\n",
      "20/20 [==============================] - 0s 4ms/step - loss: 158.7163 - val_loss: 1569.3816\n",
      "Epoch 461/500\n",
      "20/20 [==============================] - 0s 11ms/step - loss: 158.7164 - val_loss: 1569.3816\n",
      "Epoch 462/500\n",
      "20/20 [==============================] - 0s 5ms/step - loss: 158.7164 - val_loss: 1569.3811\n",
      "Epoch 463/500\n",
      "20/20 [==============================] - 0s 5ms/step - loss: 158.7164 - val_loss: 1569.3811\n",
      "Epoch 464/500\n",
      "20/20 [==============================] - 0s 5ms/step - loss: 158.7165 - val_loss: 1569.3806\n",
      "Epoch 465/500\n",
      "20/20 [==============================] - 0s 4ms/step - loss: 158.7165 - val_loss: 1569.3809\n",
      "Epoch 466/500\n",
      "20/20 [==============================] - 0s 4ms/step - loss: 158.7166 - val_loss: 1569.3809\n",
      "Epoch 467/500\n",
      "20/20 [==============================] - 0s 4ms/step - loss: 158.7166 - val_loss: 1569.3809\n",
      "Epoch 468/500\n",
      "20/20 [==============================] - 0s 5ms/step - loss: 158.7166 - val_loss: 1569.3816\n",
      "Epoch 469/500\n",
      "20/20 [==============================] - 0s 5ms/step - loss: 158.7166 - val_loss: 1569.3821\n",
      "Epoch 470/500\n",
      "20/20 [==============================] - 0s 4ms/step - loss: 158.7167 - val_loss: 1569.3817\n",
      "Epoch 471/500\n",
      "20/20 [==============================] - 0s 5ms/step - loss: 158.7167 - val_loss: 1569.3816\n",
      "Epoch 472/500\n",
      "20/20 [==============================] - 0s 4ms/step - loss: 158.7168 - val_loss: 1569.3816\n",
      "Epoch 473/500\n",
      "20/20 [==============================] - 0s 5ms/step - loss: 158.7167 - val_loss: 1569.3812\n",
      "Epoch 474/500\n",
      "20/20 [==============================] - 0s 5ms/step - loss: 158.7168 - val_loss: 1569.3812\n",
      "Epoch 475/500\n",
      "20/20 [==============================] - 0s 4ms/step - loss: 158.7168 - val_loss: 1569.3812\n",
      "Epoch 476/500\n",
      "20/20 [==============================] - 0s 4ms/step - loss: 158.7168 - val_loss: 1569.3806\n",
      "Epoch 477/500\n",
      "20/20 [==============================] - 0s 5ms/step - loss: 158.7169 - val_loss: 1569.3809\n",
      "Epoch 478/500\n",
      "20/20 [==============================] - 0s 4ms/step - loss: 158.7169 - val_loss: 1569.3809\n",
      "Epoch 479/500\n",
      "20/20 [==============================] - 0s 4ms/step - loss: 158.7169 - val_loss: 1569.3811\n",
      "Epoch 480/500\n",
      "20/20 [==============================] - 0s 5ms/step - loss: 158.7169 - val_loss: 1569.3809\n",
      "Epoch 481/500\n",
      "20/20 [==============================] - 0s 10ms/step - loss: 158.7170 - val_loss: 1569.3806\n",
      "Epoch 482/500\n",
      "20/20 [==============================] - 0s 6ms/step - loss: 158.7170 - val_loss: 1569.3806\n",
      "Epoch 483/500\n",
      "20/20 [==============================] - 0s 5ms/step - loss: 158.7170 - val_loss: 1569.3806\n",
      "Epoch 484/500\n",
      "20/20 [==============================] - 0s 5ms/step - loss: 158.7170 - val_loss: 1569.3806\n",
      "Epoch 485/500\n",
      "20/20 [==============================] - 0s 5ms/step - loss: 158.7171 - val_loss: 1569.3806\n",
      "Epoch 486/500\n",
      "20/20 [==============================] - 0s 6ms/step - loss: 158.7171 - val_loss: 1569.3809\n",
      "Epoch 487/500\n",
      "20/20 [==============================] - 0s 5ms/step - loss: 158.7171 - val_loss: 1569.3811\n",
      "Epoch 488/500\n",
      "20/20 [==============================] - 0s 5ms/step - loss: 158.7171 - val_loss: 1569.3811\n",
      "Epoch 489/500\n",
      "20/20 [==============================] - 0s 4ms/step - loss: 158.7171 - val_loss: 1569.3812\n",
      "Epoch 490/500\n",
      "20/20 [==============================] - 0s 5ms/step - loss: 158.7172 - val_loss: 1569.3812\n",
      "Epoch 491/500\n",
      "20/20 [==============================] - 0s 4ms/step - loss: 158.7172 - val_loss: 1569.3812\n",
      "Epoch 492/500\n",
      "20/20 [==============================] - 0s 4ms/step - loss: 158.7172 - val_loss: 1569.3816\n",
      "Epoch 493/500\n",
      "20/20 [==============================] - 0s 5ms/step - loss: 158.7172 - val_loss: 1569.3816\n",
      "Epoch 494/500\n",
      "20/20 [==============================] - 0s 4ms/step - loss: 158.7173 - val_loss: 1569.3812\n",
      "Epoch 495/500\n",
      "20/20 [==============================] - 0s 4ms/step - loss: 158.7173 - val_loss: 1569.3817\n",
      "Epoch 496/500\n",
      "20/20 [==============================] - 0s 4ms/step - loss: 158.7173 - val_loss: 1569.3820\n",
      "Epoch 497/500\n",
      "20/20 [==============================] - 0s 4ms/step - loss: 158.7173 - val_loss: 1569.3822\n",
      "Epoch 498/500\n",
      "20/20 [==============================] - 0s 4ms/step - loss: 158.7173 - val_loss: 1569.3822\n",
      "Epoch 499/500\n",
      "20/20 [==============================] - 0s 4ms/step - loss: 158.7173 - val_loss: 1569.3822\n",
      "Epoch 500/500\n",
      "20/20 [==============================] - 0s 4ms/step - loss: 158.7173 - val_loss: 1569.3821\n"
     ]
    }
   ],
   "source": [
    "C0 = tf.Variable(85.7336, name=\"C0\", trainable=True, dtype=tf.float32)\n",
    "K0 = tf.Variable(-0.0020, name=\"K0\", trainable=True, dtype=tf.float32)\n",
    "K1 = tf.Variable(-0.0002, name=\"K1\", trainable=True, dtype=tf.float32)\n",
    "a = tf.Variable(0.0000, name=\"a\", trainable=True, dtype=tf.float32)\n",
    "b = tf.Variable(0.0125, name=\"b\", trainable=True, dtype=tf.float32)\n",
    "c = tf.Variable(2.3008, name=\"c\", trainable=True, dtype=tf.float32)\n",
    "\n",
    "splitr = 0.8\n",
    "\n",
    "\n",
    "def loss_fn(y_true, y_pred):\n",
    "    squared_difference = tf.square(y_true[:, 0] - y_pred[:, 0])\n",
    "    #squared_difference2 = tf.square(y_true[:, 2]-y_pred[:, 2])\n",
    "    #squared_difference1 = tf.square(y_true[:, 1]-y_pred[:, 1])\n",
    "    epsilon = 1\n",
    "    squared_difference3 = tf.square(\n",
    "        y_pred[:, 1] - (\n",
    "            y_pred[:, 0] * (\n",
    "                K0 - K1 * (\n",
    "                    9 * a * tf.math.log((y_pred[:, 0] + epsilon) / C0) / (K0 - K1 * c)**2 +\n",
    "                    4 * b * tf.math.log((y_pred[:, 0] + epsilon) / C0) / (K0 - K1 * c) + c\n",
    "                )\n",
    "            )\n",
    "        )\n",
    "    )\n",
    "    return tf.reduce_mean(squared_difference, axis=-1) + 0.2*tf.reduce_mean(squared_difference3, axis=-1)\n",
    "model = Sequential()\n",
    "model.add(LSTM(100, input_shape=(trainX.shape[1], trainX.shape[2])))\n",
    "model.add(Dense(60))\n",
    "model.compile(loss=loss_fn, optimizer='adam')\n",
    "history = model.fit(trainX[:int(splitr*trainX.shape[0])], trainy[:int(splitr*trainX.shape[0])], epochs=500, batch_size=64, validation_data=(trainX[int(splitr*trainX.shape[0]):trainX.shape[0]], trainy[int(splitr*trainX.shape[0]):trainX.shape[0]]), shuffle=False)"
   ]
  },
  {
   "cell_type": "code",
   "execution_count": 19,
   "metadata": {
    "colab": {
     "base_uri": "https://localhost:8080/"
    },
    "id": "yJL101rPyuoT",
    "outputId": "239ff2b1-c186-423a-d316-939dfdd7c793"
   },
   "outputs": [
    {
     "name": "stdout",
     "output_type": "stream",
     "text": [
      "1/1 [==============================] - 0s 409ms/step\n"
     ]
    }
   ],
   "source": [
    "forecast_without_mc = forecastX\n",
    "yhat_without_mc = model.predict(forecast_without_mc) # Step Ahead Prediction\n",
    "forecast_without_mc = forecast_without_mc.reshape((forecast_without_mc.shape[0], forecast_without_mc.shape[2])) # Historical Input"
   ]
  },
  {
   "cell_type": "code",
   "execution_count": 20,
   "metadata": {
    "colab": {
     "base_uri": "https://localhost:8080/"
    },
    "id": "g9dQELcJ8wbp",
    "outputId": "4dc7671b-b1a8-48d5-8744-a86f98446109"
   },
   "outputs": [
    {
     "data": {
      "text/plain": [
       "(1, 1, 251)"
      ]
     },
     "execution_count": 20,
     "metadata": {},
     "output_type": "execute_result"
    }
   ],
   "source": [
    "forecastX.shape"
   ]
  },
  {
   "cell_type": "code",
   "execution_count": 21,
   "metadata": {
    "colab": {
     "base_uri": "https://localhost:8080/"
    },
    "id": "IS2kyIKG1Kbr",
    "outputId": "f31b3485-8e26-452f-9298-ea8bf7e80ad1"
   },
   "outputs": [
    {
     "data": {
      "text/plain": [
       "(1, 251)"
      ]
     },
     "execution_count": 21,
     "metadata": {},
     "output_type": "execute_result"
    }
   ],
   "source": [
    "forecast_without_mc.shape"
   ]
  },
  {
   "cell_type": "code",
   "execution_count": 22,
   "metadata": {
    "id": "0u6VIzaDyuoT"
   },
   "outputs": [],
   "source": [
    "inv_yhat_without_mc = np.concatenate((forecast_without_mc, yhat_without_mc), axis=1) # Concatenation of predicted values with Historical Data\n",
    "#inv_yhat_without_mc = scaler.inverse_transform(inv_yhat_without_mc) # Transform labels back to original encoding"
   ]
  },
  {
   "cell_type": "code",
   "execution_count": 23,
   "metadata": {
    "colab": {
     "base_uri": "https://localhost:8080/"
    },
    "id": "EUEcw0LX07oU",
    "outputId": "cfc32397-9c37-4b43-d087-584bb31c3dcc"
   },
   "outputs": [
    {
     "data": {
      "text/plain": [
       "(1, 311)"
      ]
     },
     "execution_count": 23,
     "metadata": {},
     "output_type": "execute_result"
    }
   ],
   "source": [
    "inv_yhat_without_mc.shape"
   ]
  },
  {
   "cell_type": "code",
   "execution_count": 24,
   "metadata": {
    "id": "31OWVbSh_305"
   },
   "outputs": [],
   "source": [
    "fforecast = inv_yhat_without_mc[:,-300:]"
   ]
  },
  {
   "cell_type": "code",
   "execution_count": 25,
   "metadata": {},
   "outputs": [
    {
     "data": {
      "text/plain": [
       "(1, 300)"
      ]
     },
     "execution_count": 25,
     "metadata": {},
     "output_type": "execute_result"
    }
   ],
   "source": [
    "fforecast.shape"
   ]
  },
  {
   "cell_type": "code",
   "execution_count": 26,
   "metadata": {
    "id": "BlpGH2FOAiRF"
   },
   "outputs": [],
   "source": [
    "final_forecast = fforecast[:,0:300:3]"
   ]
  },
  {
   "cell_type": "code",
   "execution_count": 27,
   "metadata": {},
   "outputs": [
    {
     "data": {
      "text/plain": [
       "(1, 300)"
      ]
     },
     "execution_count": 27,
     "metadata": {},
     "output_type": "execute_result"
    }
   ],
   "source": [
    "fforecast.shape"
   ]
  },
  {
   "cell_type": "code",
   "execution_count": 28,
   "metadata": {
    "id": "CXkgkj_LBk_t"
   },
   "outputs": [],
   "source": [
    "# code to replace all negative value with 0\n",
    "final_forecast[final_forecast<0] = 0"
   ]
  },
  {
   "cell_type": "code",
   "execution_count": 29,
   "metadata": {},
   "outputs": [
    {
     "data": {
      "text/plain": [
       "array([[6.85788982e+01, 6.81685224e+01, 6.77525560e+01, 6.73365896e+01,\n",
       "        7.34346924e+01, 2.82885670e-01, 5.96743940e-01, 0.00000000e+00,\n",
       "        3.54694840e-01, 1.68832930e-01, 4.47516500e-01, 0.00000000e+00,\n",
       "        0.00000000e+00, 6.54485294e+01, 6.53728992e+01, 6.52972689e+01,\n",
       "        6.52216387e+01, 6.51460084e+01, 7.01409897e+01, 6.88786181e+01,\n",
       "        6.84752568e+01, 6.80718954e+01, 6.76685341e+01, 6.72649594e+01,\n",
       "        6.68499300e+01, 6.64497580e+01, 6.60496337e+01, 6.56503015e+01,\n",
       "        0.00000000e+00, 0.00000000e+00, 1.54181000e-02, 6.86984127e+01,\n",
       "        6.82917717e+01, 6.78758053e+01, 6.74598389e+01, 6.70438726e+01,\n",
       "        6.66797035e+01, 6.64402077e+01, 6.62007119e+01, 7.27177811e+01,\n",
       "        0.00000000e+00, 2.59407600e-01, 8.71023600e-01, 0.00000000e+00,\n",
       "        4.76310400e-01, 1.44706200e-01, 0.00000000e+00, 6.75214636e+01,\n",
       "        6.71054972e+01, 2.61160900e-01, 0.00000000e+00, 6.90569561e+01,\n",
       "        6.86535948e+01, 6.82455532e+01, 6.78295868e+01, 6.74136204e+01,\n",
       "        6.69976541e+01, 6.66530929e+01, 6.64135971e+01, 6.61741013e+01,\n",
       "        0.00000000e+00, 0.00000000e+00, 0.00000000e+00, 6.71671219e+01,\n",
       "        6.67511555e+01, 6.65111695e+01, 6.62716737e+01, 6.60321779e+01,\n",
       "        6.57930672e+01, 6.55651765e+01, 6.53352857e+01, 7.22844544e+01,\n",
       "        0.00000000e+00, 0.00000000e+00, 0.00000000e+00, 0.00000000e+00,\n",
       "        2.54633900e-01, 0.00000000e+00, 0.00000000e+00, 0.00000000e+00,\n",
       "        6.84504166e+01, 0.00000000e+00, 2.92441964e-01, 0.00000000e+00,\n",
       "        5.72015285e-01, 0.00000000e+00, 0.00000000e+00, 3.24066162e-01,\n",
       "        3.17607135e-01, 1.13289070e+00, 1.55798912e+00, 9.74544510e-02,\n",
       "        6.20516658e-01, 0.00000000e+00, 0.00000000e+00, 0.00000000e+00,\n",
       "        1.11679399e+00, 0.00000000e+00, 0.00000000e+00, 5.68162575e-02]])"
      ]
     },
     "execution_count": 29,
     "metadata": {},
     "output_type": "execute_result"
    }
   ],
   "source": [
    "final_forecast"
   ]
  },
  {
   "cell_type": "code",
   "execution_count": 30,
   "metadata": {},
   "outputs": [
    {
     "data": {
      "text/plain": [
       "(1, 100)"
      ]
     },
     "execution_count": 30,
     "metadata": {},
     "output_type": "execute_result"
    }
   ],
   "source": [
    "final_forecast.shape"
   ]
  },
  {
   "cell_type": "code",
   "execution_count": 31,
   "metadata": {},
   "outputs": [
    {
     "data": {
      "text/plain": [
       "(100,)"
      ]
     },
     "execution_count": 31,
     "metadata": {},
     "output_type": "execute_result"
    }
   ],
   "source": [
    "test.shape"
   ]
  },
  {
   "cell_type": "code",
   "execution_count": 32,
   "metadata": {},
   "outputs": [],
   "source": [
    "training_set = np.array(training_set)\n",
    "test = np.array(test)\n",
    "final_forecast = np.array(final_forecast.squeeze(0))"
   ]
  },
  {
   "cell_type": "code",
   "execution_count": 33,
   "metadata": {},
   "outputs": [
    {
     "data": {
      "text/plain": [
       "array([59.02662232, 59.02148693, 59.01635154, 59.01121615, 59.00608077,\n",
       "       59.00094538, 58.99580999, 58.9906746 , 58.98553922, 58.98040383,\n",
       "       58.97526844, 58.97013305, 58.96499767, 58.95986228, 58.95472689,\n",
       "       58.9495915 , 58.94445612, 58.93932073, 58.93418534, 58.92904995,\n",
       "       58.92391457, 58.91877918, 58.91364379, 58.9085084 , 58.90337302,\n",
       "       58.89823763, 58.89310224, 58.88796685, 58.88283147, 58.87769608,\n",
       "       58.87256069, 58.8674253 , 58.86228992, 58.85715453, 58.85201914,\n",
       "       58.84688375, 58.84174837, 58.83661298, 58.83147759, 58.8263422 ,\n",
       "       58.82120682, 58.81607143, 58.81093604, 58.80580065, 58.80066527,\n",
       "       58.79552988, 58.79039449, 58.7852591 , 58.78012372, 58.77498833,\n",
       "       58.76985294, 58.76471755, 58.75958217, 58.75444678, 58.74931139,\n",
       "       58.744176  , 58.73904062, 58.73390523, 58.72876984, 58.72363445,\n",
       "       58.71849907, 58.71336368, 58.70822829, 58.7030929 , 58.69795752,\n",
       "       58.69282213, 58.68768674, 58.68255135, 58.67741597, 58.67228058,\n",
       "       58.66714519, 58.6620098 , 58.65687442, 58.65173903, 58.64660364,\n",
       "       58.64146825, 58.63633287, 58.63119748, 58.62606209, 58.6209267 ,\n",
       "       58.61579132, 58.61065593, 58.60552054, 58.60038515, 58.59165813,\n",
       "       58.58263989, 58.57362164, 58.5646034 , 58.55558516, 58.54656692,\n",
       "       58.53754868, 58.52853044, 58.5195122 , 58.51049395, 58.50147571,\n",
       "       58.49245747, 58.48343923, 58.47442099, 58.46540275, 58.45638451])"
      ]
     },
     "execution_count": 33,
     "metadata": {},
     "output_type": "execute_result"
    }
   ],
   "source": [
    "test"
   ]
  },
  {
   "cell_type": "code",
   "execution_count": 34,
   "metadata": {},
   "outputs": [
    {
     "data": {
      "text/plain": [
       "(100,)"
      ]
     },
     "execution_count": 34,
     "metadata": {},
     "output_type": "execute_result"
    }
   ],
   "source": [
    "test.shape"
   ]
  },
  {
   "cell_type": "code",
   "execution_count": 35,
   "metadata": {},
   "outputs": [
    {
     "data": {
      "text/plain": [
       "(100,)"
      ]
     },
     "execution_count": 35,
     "metadata": {},
     "output_type": "execute_result"
    }
   ],
   "source": [
    "final_forecast.shape"
   ]
  },
  {
   "cell_type": "code",
   "execution_count": 36,
   "metadata": {},
   "outputs": [
    {
     "data": {
      "text/plain": [
       "(100,)"
      ]
     },
     "execution_count": 36,
     "metadata": {},
     "output_type": "execute_result"
    }
   ],
   "source": [
    "test.shape"
   ]
  },
  {
   "cell_type": "code",
   "execution_count": 37,
   "metadata": {},
   "outputs": [
    {
     "name": "stdout",
     "output_type": "stream",
     "text": [
      "41.82761940244944\n",
      "33.542204295103076\n"
     ]
    }
   ],
   "source": [
    "import math\n",
    "MSE = np.square(np.subtract(np.array(test),np.array(final_forecast))).mean()   \n",
    "rsme = math.sqrt(MSE)\n",
    "print(rsme)  \n",
    "MAE = np.abs(np.subtract(np.array(test),np.array(final_forecast))).mean()   \n",
    "mae = MAE\n",
    "print(mae)"
   ]
  }
 ],
 "metadata": {
  "colab": {
   "provenance": []
  },
  "kernelspec": {
   "display_name": "Python 3",
   "language": "python",
   "name": "python3"
  },
  "language_info": {
   "codemirror_mode": {
    "name": "ipython",
    "version": 3
   },
   "file_extension": ".py",
   "mimetype": "text/x-python",
   "name": "python",
   "nbconvert_exporter": "python",
   "pygments_lexer": "ipython3",
   "version": "3.9.13"
  }
 },
 "nbformat": 4,
 "nbformat_minor": 0
}
