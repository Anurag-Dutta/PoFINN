{
 "cells": [
  {
   "cell_type": "markdown",
   "metadata": {
    "id": "pCGKeZ2gyuoQ"
   },
   "source": [
    "_Importing Required Libraries_"
   ]
  },
  {
   "cell_type": "code",
   "execution_count": 1,
   "metadata": {
    "colab": {
     "base_uri": "https://localhost:8080/"
    },
    "id": "A-6LN-zXiLcM",
    "outputId": "4de610a4-f8b8-4f49-c6c0-89de299ccedc"
   },
   "outputs": [
    {
     "name": "stdout",
     "output_type": "stream",
     "text": [
      "Requirement already satisfied: hampel in c:\\users\\anurag dutta\\appdata\\local\\packages\\pythonsoftwarefoundation.python.3.9_qbz5n2kfra8p0\\localcache\\local-packages\\python39\\site-packages (0.0.5)\n",
      "Requirement already satisfied: numpy in c:\\users\\anurag dutta\\appdata\\local\\packages\\pythonsoftwarefoundation.python.3.9_qbz5n2kfra8p0\\localcache\\local-packages\\python39\\site-packages (from hampel) (1.26.4)\n",
      "Requirement already satisfied: pandas in c:\\users\\anurag dutta\\appdata\\local\\packages\\pythonsoftwarefoundation.python.3.9_qbz5n2kfra8p0\\localcache\\local-packages\\python39\\site-packages (from hampel) (1.5.2)\n",
      "Requirement already satisfied: python-dateutil>=2.8.1 in c:\\users\\anurag dutta\\appdata\\local\\packages\\pythonsoftwarefoundation.python.3.9_qbz5n2kfra8p0\\localcache\\local-packages\\python39\\site-packages (from pandas->hampel) (2.8.2)\n",
      "Requirement already satisfied: pytz>=2020.1 in c:\\users\\anurag dutta\\appdata\\local\\packages\\pythonsoftwarefoundation.python.3.9_qbz5n2kfra8p0\\localcache\\local-packages\\python39\\site-packages (from pandas->hampel) (2023.3.post1)\n",
      "Requirement already satisfied: six>=1.5 in c:\\users\\anurag dutta\\appdata\\local\\packages\\pythonsoftwarefoundation.python.3.9_qbz5n2kfra8p0\\localcache\\local-packages\\python39\\site-packages (from python-dateutil>=2.8.1->pandas->hampel) (1.16.0)\n",
      "Note: you may need to restart the kernel to use updated packages.\n"
     ]
    },
    {
     "name": "stderr",
     "output_type": "stream",
     "text": [
      "\n",
      "[notice] A new release of pip is available: 24.2 -> 24.3.1\n",
      "[notice] To update, run: C:\\Users\\Anurag Dutta\\AppData\\Local\\Microsoft\\WindowsApps\\PythonSoftwareFoundation.Python.3.9_qbz5n2kfra8p0\\python.exe -m pip install --upgrade pip\n"
     ]
    }
   ],
   "source": [
    "pip install hampel"
   ]
  },
  {
   "cell_type": "code",
   "execution_count": 2,
   "metadata": {
    "id": "By_d9uXpaFvZ"
   },
   "outputs": [],
   "source": [
    "from keras.models import Sequential\n",
    "from keras.layers import Dense\n",
    "from keras.layers import LSTM\n",
    "from keras.layers import Dropout\n",
    "import keras\n",
    "import tensorflow as tf\n",
    "from hampel import hampel\n",
    "import numpy as np\n",
    "import matplotlib.pyplot as plt\n",
    "import pandas as pd\n",
    "from sklearn.preprocessing import MinMaxScaler\n",
    "from sklearn.metrics import mean_squared_error, mean_absolute_error\n",
    "from math import sqrt\n",
    "from matplotlib import pyplot\n",
    "from numpy import array"
   ]
  },
  {
   "cell_type": "markdown",
   "metadata": {
    "id": "JyOjBMFayuoR"
   },
   "source": [
    "## Pretraining"
   ]
  },
  {
   "cell_type": "markdown",
   "metadata": {
    "id": "-5QqIY_GyuoR"
   },
   "source": [
    "The `capa_intermittency.dat` feeds the model with the dynamics of the Capacitor"
   ]
  },
  {
   "cell_type": "code",
   "execution_count": 3,
   "metadata": {
    "id": "9dV4a8yfyuoR"
   },
   "outputs": [],
   "source": [
    "data = np.genfromtxt('capa_intermittency.dat')\n",
    "training_set = pd.DataFrame(data).reset_index(drop=True)\n",
    "training_set = training_set.iloc[:,0]"
   ]
  },
  {
   "cell_type": "markdown",
   "metadata": {
    "id": "i7easoxByuoR"
   },
   "source": [
    "## Computing the Gradient"
   ]
  },
  {
   "cell_type": "markdown",
   "metadata": {
    "id": "5SnyolJTyuoR"
   },
   "source": [
    "_Calculating the value of_ $\\frac{dx}{dt}$"
   ]
  },
  {
   "cell_type": "code",
   "execution_count": 4,
   "metadata": {
    "colab": {
     "base_uri": "https://localhost:8080/"
    },
    "id": "wmIbVfIvyuoR",
    "outputId": "aa4e3136-c854-465d-d2e9-81cfd546e440"
   },
   "outputs": [
    {
     "name": "stdout",
     "output_type": "stream",
     "text": [
      "1.0\n",
      "1        0.000298\n",
      "2        0.000298\n",
      "3        0.000297\n",
      "4        0.000297\n",
      "5        0.000297\n",
      "           ...   \n",
      "9996     0.000018\n",
      "9997     0.000018\n",
      "9998     0.000018\n",
      "9999     0.000018\n",
      "10000    0.000018\n",
      "Name: 0, Length: 10000, dtype: float64\n"
     ]
    }
   ],
   "source": [
    "t_diff = 1\n",
    "print(training_set.max())\n",
    "gradient_t = (training_set.diff()/t_diff).iloc[1:] # dx/dt\n",
    "print(gradient_t)"
   ]
  },
  {
   "cell_type": "markdown",
   "metadata": {
    "id": "_2eVeeoxyuoS"
   },
   "source": [
    "## Loading Datasets"
   ]
  },
  {
   "cell_type": "code",
   "execution_count": 5,
   "metadata": {
    "id": "0J-NKyIEyuoS"
   },
   "outputs": [
    {
     "data": {
      "text/plain": [
       "0       88.200000\n",
       "1       87.987115\n",
       "2       87.774230\n",
       "3       87.561345\n",
       "4       87.348459\n",
       "          ...    \n",
       "2445    55.786985\n",
       "2446    55.777967\n",
       "2447    55.768949\n",
       "2448    55.759930\n",
       "2449    55.750912\n",
       "Name: C8, Length: 2450, dtype: float64"
      ]
     },
     "execution_count": 5,
     "metadata": {},
     "output_type": "execute_result"
    }
   ],
   "source": [
    "data = pd.read_csv(\"c8_interpolated_2350_100.csv\")\n",
    "training_set = data.iloc[:, 1]\n",
    "training_set"
   ]
  },
  {
   "cell_type": "code",
   "execution_count": 6,
   "metadata": {
    "colab": {
     "base_uri": "https://localhost:8080/"
    },
    "id": "-CbNUhJ74UqF",
    "outputId": "20f562d8-8247-49cc-b9c3-00eca5e13e2d"
   },
   "outputs": [
    {
     "data": {
      "text/plain": [
       "0       88.200000\n",
       "1       87.987115\n",
       "2       87.774230\n",
       "3       87.561345\n",
       "4       87.348459\n",
       "          ...    \n",
       "2345     0.157439\n",
       "2346     0.000000\n",
       "2347     0.000000\n",
       "2348     0.104578\n",
       "2349     0.061171\n",
       "Name: C8, Length: 2350, dtype: float64"
      ]
     },
     "execution_count": 6,
     "metadata": {},
     "output_type": "execute_result"
    }
   ],
   "source": [
    "test = training_set.tail(100)\n",
    "test\n",
    "training_set = training_set.head(2350)\n",
    "training_set"
   ]
  },
  {
   "cell_type": "code",
   "execution_count": 7,
   "metadata": {
    "colab": {
     "base_uri": "https://localhost:8080/"
    },
    "id": "X0TwTcq0yuoS",
    "outputId": "37252ed8-d88e-4044-fa7a-922411990b5b"
   },
   "outputs": [
    {
     "name": "stdout",
     "output_type": "stream",
     "text": [
      "0       0.000298\n",
      "1       0.000298\n",
      "2       0.000297\n",
      "3       0.000297\n",
      "4       0.000297\n",
      "          ...   \n",
      "9995    0.000018\n",
      "9996    0.000018\n",
      "9997    0.000018\n",
      "9998    0.000018\n",
      "9999    0.000018\n",
      "Name: 0, Length: 10000, dtype: float64\n"
     ]
    }
   ],
   "source": [
    "training_set = training_set.reset_index(drop=True)\n",
    "gradient_t = gradient_t.reset_index(drop=True)\n",
    "print(gradient_t)"
   ]
  },
  {
   "cell_type": "code",
   "execution_count": 8,
   "metadata": {
    "id": "O2biznZQyuoS"
   },
   "outputs": [],
   "source": [
    "df = pd.concat((training_set, gradient_t), axis=1)\n",
    "df.columns = ['y_t', 'grad_t']"
   ]
  },
  {
   "cell_type": "code",
   "execution_count": 9,
   "metadata": {
    "colab": {
     "base_uri": "https://localhost:8080/",
     "height": 423
    },
    "id": "sk_a5v3tyuoS",
    "outputId": "17563625-e550-45ae-faab-fafa353e44da"
   },
   "outputs": [
    {
     "data": {
      "text/html": [
       "<div>\n",
       "<style scoped>\n",
       "    .dataframe tbody tr th:only-of-type {\n",
       "        vertical-align: middle;\n",
       "    }\n",
       "\n",
       "    .dataframe tbody tr th {\n",
       "        vertical-align: top;\n",
       "    }\n",
       "\n",
       "    .dataframe thead th {\n",
       "        text-align: right;\n",
       "    }\n",
       "</style>\n",
       "<table border=\"1\" class=\"dataframe\">\n",
       "  <thead>\n",
       "    <tr style=\"text-align: right;\">\n",
       "      <th></th>\n",
       "      <th>y_t</th>\n",
       "      <th>grad_t</th>\n",
       "    </tr>\n",
       "  </thead>\n",
       "  <tbody>\n",
       "    <tr>\n",
       "      <th>0</th>\n",
       "      <td>88.200000</td>\n",
       "      <td>0.000298</td>\n",
       "    </tr>\n",
       "    <tr>\n",
       "      <th>1</th>\n",
       "      <td>87.987115</td>\n",
       "      <td>0.000298</td>\n",
       "    </tr>\n",
       "    <tr>\n",
       "      <th>2</th>\n",
       "      <td>87.774230</td>\n",
       "      <td>0.000297</td>\n",
       "    </tr>\n",
       "    <tr>\n",
       "      <th>3</th>\n",
       "      <td>87.561345</td>\n",
       "      <td>0.000297</td>\n",
       "    </tr>\n",
       "    <tr>\n",
       "      <th>4</th>\n",
       "      <td>87.348459</td>\n",
       "      <td>0.000297</td>\n",
       "    </tr>\n",
       "    <tr>\n",
       "      <th>...</th>\n",
       "      <td>...</td>\n",
       "      <td>...</td>\n",
       "    </tr>\n",
       "    <tr>\n",
       "      <th>9995</th>\n",
       "      <td>NaN</td>\n",
       "      <td>0.000018</td>\n",
       "    </tr>\n",
       "    <tr>\n",
       "      <th>9996</th>\n",
       "      <td>NaN</td>\n",
       "      <td>0.000018</td>\n",
       "    </tr>\n",
       "    <tr>\n",
       "      <th>9997</th>\n",
       "      <td>NaN</td>\n",
       "      <td>0.000018</td>\n",
       "    </tr>\n",
       "    <tr>\n",
       "      <th>9998</th>\n",
       "      <td>NaN</td>\n",
       "      <td>0.000018</td>\n",
       "    </tr>\n",
       "    <tr>\n",
       "      <th>9999</th>\n",
       "      <td>NaN</td>\n",
       "      <td>0.000018</td>\n",
       "    </tr>\n",
       "  </tbody>\n",
       "</table>\n",
       "<p>10000 rows × 2 columns</p>\n",
       "</div>"
      ],
      "text/plain": [
       "            y_t    grad_t\n",
       "0     88.200000  0.000298\n",
       "1     87.987115  0.000298\n",
       "2     87.774230  0.000297\n",
       "3     87.561345  0.000297\n",
       "4     87.348459  0.000297\n",
       "...         ...       ...\n",
       "9995        NaN  0.000018\n",
       "9996        NaN  0.000018\n",
       "9997        NaN  0.000018\n",
       "9998        NaN  0.000018\n",
       "9999        NaN  0.000018\n",
       "\n",
       "[10000 rows x 2 columns]"
      ]
     },
     "execution_count": 9,
     "metadata": {},
     "output_type": "execute_result"
    }
   ],
   "source": [
    "df"
   ]
  },
  {
   "cell_type": "markdown",
   "metadata": {
    "id": "-5esyHu5aFvg"
   },
   "source": [
    "## Plot of the External Forcing from Chaotic Differential Equation"
   ]
  },
  {
   "cell_type": "code",
   "execution_count": 10,
   "metadata": {
    "colab": {
     "base_uri": "https://localhost:8080/",
     "height": 447
    },
    "id": "hGnE43tOh-4p",
    "outputId": "fc396503-b624-4fa5-dfbe-f460207405c6"
   },
   "outputs": [
    {
     "data": {
      "text/plain": [
       "<Axes: >"
      ]
     },
     "execution_count": 10,
     "metadata": {},
     "output_type": "execute_result"
    },
    {
     "data": {
      "image/png": "[encoded data removed]",
      "text/plain": [
       "<Figure size 432x288 with 1 Axes>"
      ]
     },
     "metadata": {
      "needs_background": "light"
     },
     "output_type": "display_data"
    }
   ],
   "source": [
    "df.iloc[:, 0].plot()"
   ]
  },
  {
   "cell_type": "code",
   "execution_count": 11,
   "metadata": {
    "colab": {
     "base_uri": "https://localhost:8080/",
     "height": 447
    },
    "id": "ym4xWUUxaFvg",
    "outputId": "ae6a3495-8ce9-437e-ba81-3ed31deedeae"
   },
   "outputs": [
    {
     "name": "stderr",
     "output_type": "stream",
     "text": [
      "C:\\Users\\Anurag Dutta\\AppData\\Local\\Packages\\PythonSoftwareFoundation.Python.3.9_qbz5n2kfra8p0\\LocalCache\\local-packages\\Python39\\site-packages\\pandas\\core\\arraylike.py:402: RuntimeWarning: divide by zero encountered in log\n",
      "  result = getattr(ufunc, method)(*inputs, **kwargs)\n"
     ]
    },
    {
     "data": {
      "text/plain": [
       "<Axes: >"
      ]
     },
     "execution_count": 11,
     "metadata": {},
     "output_type": "execute_result"
    },
    {
     "data": {
      "image/png": "[encoded data removed]",
      "text/plain": [
       "<Figure size 432x288 with 1 Axes>"
      ]
     },
     "metadata": {
      "needs_background": "light"
     },
     "output_type": "display_data"
    }
   ],
   "source": [
    "import numpy as np\n",
    "c0 = 85.7336  # Value for C0\n",
    "K0 = -0.0020  # Value for K0\n",
    "K1 = 0.0002  # Value for K1\n",
    "a = 0.0000    # Value for a\n",
    "b = 0.0125    # Value for b\n",
    "c = 2.3008    # Value for c\n",
    "\n",
    "L = np.minimum(c0, (df.iloc[:, 1] - (df.iloc[:, 0] * (K0 - K1 * (9 * a * np.log(df.iloc[:, 0] / c0) / (K0 - K1 * c)**2 + 4 * b * np.log(df.iloc[:, 0] / c0) / (K0 - K1 * c) + c)))))\n",
    "L.plot()"
   ]
  },
  {
   "cell_type": "markdown",
   "metadata": {
    "id": "9VyEywnwaFvh"
   },
   "source": [
    "## Preprocessing the data into supervised learning"
   ]
  },
  {
   "cell_type": "code",
   "execution_count": 12,
   "metadata": {
    "id": "6V9dXqzdaFvh"
   },
   "outputs": [],
   "source": [
    "# split a sequence into samples\n",
    "def Supervised(data, n_in=1, n_out=1, dropnan=True):\n",
    "    n_vars = 1 if type(data) is list else data.shape[1]\n",
    "    df = pd.DataFrame(data)\n",
    "    cols, names = list(), list()\n",
    "    # input sequence (t-n_in, ... t-1)\n",
    "    for i in range(n_in, 0, -1):\n",
    "        cols.append(df.shift(i))\n",
    "        names += [('var%d(t-%d)' % (j+1, i)) for j in range(n_vars)]\n",
    "    # forecast sequence (t, t+1, ... t+n_out)\n",
    "    for i in range(0, n_out):\n",
    "      cols.append(df.shift(-i))\n",
    "      if i == 0:\n",
    "        names += [('var%d(t)' % (j+1)) for j in range(n_vars)]\n",
    "      else:\n",
    "        names += [('var%d(t+%d)' % (j+1, i)) for j in range(n_vars)]\n",
    "    # put it all together\n",
    "    agg = pd.concat(cols, axis=1)\n",
    "    agg.columns = names\n",
    "    # drop rows with NaN values\n",
    "    if dropnan:\n",
    "       agg.dropna(inplace=True)\n",
    "    return agg"
   ]
  },
  {
   "cell_type": "code",
   "execution_count": 13,
   "metadata": {
    "colab": {
     "base_uri": "https://localhost:8080/"
    },
    "id": "CrzSrT1HnyfH",
    "outputId": "7e75f928-3e47-499d-eac1-51908015ef78"
   },
   "outputs": [
    {
     "name": "stdout",
     "output_type": "stream",
     "text": [
      "     var1(t-350)  var1(t-349)  var1(t-348)  var1(t-347)  var1(t-346)  \\\n",
      "350    88.200000    87.987115    87.774230    87.561345    87.348459   \n",
      "351    87.987115    87.774230    87.561345    87.348459    87.135574   \n",
      "352    87.774230    87.561345    87.348459    87.135574    86.922689   \n",
      "353    87.561345    87.348459    87.135574    86.922689    86.709804   \n",
      "354    87.348459    87.135574    86.922689    86.709804    86.496919   \n",
      "\n",
      "     var1(t-345)  var1(t-344)  var1(t-343)  var1(t-342)  var1(t-341)  ...  \\\n",
      "350    87.135574    86.922689    86.709804    86.496919    86.294538  ...   \n",
      "351    86.922689    86.709804    86.496919    86.294538    86.221709  ...   \n",
      "352    86.709804    86.496919    86.294538    86.221709    86.148880  ...   \n",
      "353    86.496919    86.294538    86.221709    86.148880    86.076050  ...   \n",
      "354    86.294538    86.221709    86.148880    86.076050    86.003221  ...   \n",
      "\n",
      "     var1(t+95)  var2(t+95)  var1(t+96)  var2(t+96)  var1(t+97)  var2(t+97)  \\\n",
      "350   76.094351    0.000263   76.058870    0.000263   76.023389    0.000263   \n",
      "351   76.058870    0.000263   76.023389    0.000263   75.987909    0.000262   \n",
      "352   76.023389    0.000263   75.987909    0.000262   75.952428    0.000262   \n",
      "353   75.987909    0.000262   75.952428    0.000262   75.916947    0.000262   \n",
      "354   75.952428    0.000262   75.916947    0.000262   75.881466    0.000262   \n",
      "\n",
      "     var1(t+98)  var2(t+98)  var1(t+99)  var2(t+99)  \n",
      "350   75.987909    0.000262   75.952428    0.000262  \n",
      "351   75.952428    0.000262   75.916947    0.000262  \n",
      "352   75.916947    0.000262   75.881466    0.000262  \n",
      "353   75.881466    0.000262   75.845985    0.000262  \n",
      "354   75.845985    0.000262   75.810504    0.000262  \n",
      "\n",
      "[5 rows x 551 columns]\n",
      "Index(['var1(t-350)', 'var1(t-349)', 'var1(t-348)', 'var1(t-347)',\n",
      "       'var1(t-346)', 'var1(t-345)', 'var1(t-344)', 'var1(t-343)',\n",
      "       'var1(t-342)', 'var1(t-341)',\n",
      "       ...\n",
      "       'var1(t+95)', 'var2(t+95)', 'var1(t+96)', 'var2(t+96)', 'var1(t+97)',\n",
      "       'var2(t+97)', 'var1(t+98)', 'var2(t+98)', 'var1(t+99)', 'var2(t+99)'],\n",
      "      dtype='object', length=551)\n"
     ]
    }
   ],
   "source": [
    "data = Supervised(df.values, n_in = 350, n_out = 100)\n",
    "\n",
    "\n",
    "cols_to_drop = []\n",
    "for i in range(2, 351):\n",
    "    cols_to_drop.extend([f'var2(t-{i})'])\n",
    "\n",
    "data.drop(cols_to_drop, axis=1, inplace=True)\n",
    "\n",
    "print(data.head())\n",
    "print(data.columns)"
   ]
  },
  {
   "cell_type": "code",
   "execution_count": 14,
   "metadata": {
    "id": "AfPf60oy6Pe4"
   },
   "outputs": [],
   "source": [
    "train = np.array(data[0:len(data)-1])\n",
    "forecast = np.array(data.tail(1))"
   ]
  },
  {
   "cell_type": "code",
   "execution_count": 15,
   "metadata": {
    "id": "WSAafzI37KiT"
   },
   "outputs": [],
   "source": [
    "trainy = train[:,-300:]\n",
    "trainX = train[:,:-300]"
   ]
  },
  {
   "cell_type": "code",
   "execution_count": 16,
   "metadata": {
    "id": "2SrOqVJA7f50"
   },
   "outputs": [],
   "source": [
    "forecasty = forecast[:,-300:]\n",
    "forecastX = forecast[:,:-300]"
   ]
  },
  {
   "cell_type": "code",
   "execution_count": 17,
   "metadata": {
    "colab": {
     "base_uri": "https://localhost:8080/"
    },
    "id": "Qno_k8Nw7saY",
    "outputId": "c4a88db5-d8c6-489f-cdb2-06b24e293cff"
   },
   "outputs": [
    {
     "name": "stdout",
     "output_type": "stream",
     "text": [
      "(1900, 1, 251) (1900, 300) (1, 1, 251)\n"
     ]
    }
   ],
   "source": [
    "trainX = trainX.reshape((trainX.shape[0], 1, trainX.shape[1]))\n",
    "forecastX = forecastX.reshape((forecastX.shape[0], 1, forecastX.shape[1]))\n",
    "print(trainX.shape, trainy.shape, forecastX.shape)"
   ]
  },
  {
   "cell_type": "code",
   "execution_count": 18,
   "metadata": {
    "colab": {
     "base_uri": "https://localhost:8080/"
    },
    "id": "b1Jp2DvNuNFx",
    "outputId": "d0e5b3c4-64f1-438c-eade-8dfeaac8e285"
   },
   "outputs": [
    {
     "name": "stdout",
     "output_type": "stream",
     "text": [
      "Epoch 1/500\n",
      "24/24 [==============================] - 3s 23ms/step - loss: 4411.1514 - val_loss: 2372.0181\n",
      "Epoch 2/500\n",
      "24/24 [==============================] - 0s 4ms/step - loss: 4166.4766 - val_loss: 2274.2390\n",
      "Epoch 3/500\n",
      "24/24 [==============================] - 0s 4ms/step - loss: 4063.5818 - val_loss: 2211.4885\n",
      "Epoch 4/500\n",
      "24/24 [==============================] - 0s 4ms/step - loss: 3961.9099 - val_loss: 2157.5955\n",
      "Epoch 5/500\n",
      "24/24 [==============================] - 0s 4ms/step - loss: 3859.8843 - val_loss: 2108.4897\n",
      "Epoch 6/500\n",
      "24/24 [==============================] - 0s 7ms/step - loss: 3771.4548 - val_loss: 2061.2136\n",
      "Epoch 7/500\n",
      "24/24 [==============================] - 0s 11ms/step - loss: 3685.9136 - val_loss: 2016.4824\n",
      "Epoch 8/500\n",
      "24/24 [==============================] - 0s 5ms/step - loss: 3602.8230 - val_loss: 1973.4175\n",
      "Epoch 9/500\n",
      "24/24 [==============================] - 0s 5ms/step - loss: 3521.8728 - val_loss: 1931.8665\n",
      "Epoch 10/500\n",
      "24/24 [==============================] - 0s 5ms/step - loss: 3442.8513 - val_loss: 1891.7278\n",
      "Epoch 11/500\n",
      "24/24 [==============================] - 0s 4ms/step - loss: 3365.6167 - val_loss: 1852.9286\n",
      "Epoch 12/500\n",
      "24/24 [==============================] - 0s 4ms/step - loss: 3290.0718 - val_loss: 1815.4143\n",
      "Epoch 13/500\n",
      "24/24 [==============================] - 0s 4ms/step - loss: 3216.1399 - val_loss: 1779.1393\n",
      "Epoch 14/500\n",
      "24/24 [==============================] - 0s 4ms/step - loss: 3143.7615 - val_loss: 1744.0667\n",
      "Epoch 15/500\n",
      "24/24 [==============================] - 0s 4ms/step - loss: 3072.8892 - val_loss: 1710.1632\n",
      "Epoch 16/500\n",
      "24/24 [==============================] - 0s 5ms/step - loss: 3003.4792 - val_loss: 1677.3995\n",
      "Epoch 17/500\n",
      "24/24 [==============================] - 0s 5ms/step - loss: 2935.4954 - val_loss: 1645.7490\n",
      "Epoch 18/500\n",
      "24/24 [==============================] - 0s 4ms/step - loss: 2868.9055 - val_loss: 1615.1870\n",
      "Epoch 19/500\n",
      "24/24 [==============================] - 0s 4ms/step - loss: 2803.6802 - val_loss: 1585.6899\n",
      "Epoch 20/500\n",
      "24/24 [==============================] - 0s 4ms/step - loss: 2739.7915 - val_loss: 1557.2354\n",
      "Epoch 21/500\n",
      "24/24 [==============================] - 0s 4ms/step - loss: 2677.2139 - val_loss: 1529.7977\n",
      "Epoch 22/500\n",
      "24/24 [==============================] - 0s 5ms/step - loss: 2615.9236 - val_loss: 1503.1353\n",
      "Epoch 23/500\n",
      "24/24 [==============================] - 0s 5ms/step - loss: 2548.5576 - val_loss: 1472.9025\n",
      "Epoch 24/500\n",
      "24/24 [==============================] - 0s 4ms/step - loss: 2483.0798 - val_loss: 1446.3428\n",
      "Epoch 25/500\n",
      "24/24 [==============================] - 0s 6ms/step - loss: 2420.9099 - val_loss: 1421.3348\n",
      "Epoch 26/500\n",
      "24/24 [==============================] - 0s 7ms/step - loss: 2360.9897 - val_loss: 1397.6390\n",
      "Epoch 27/500\n",
      "24/24 [==============================] - 0s 5ms/step - loss: 2302.9175 - val_loss: 1375.1176\n",
      "Epoch 28/500\n",
      "24/24 [==============================] - 0s 5ms/step - loss: 2246.4712 - val_loss: 1353.6876\n",
      "Epoch 29/500\n",
      "24/24 [==============================] - 0s 5ms/step - loss: 2191.5178 - val_loss: 1333.2913\n",
      "Epoch 30/500\n",
      "24/24 [==============================] - 0s 5ms/step - loss: 2137.9692 - val_loss: 1313.8868\n",
      "Epoch 31/500\n",
      "24/24 [==============================] - 0s 5ms/step - loss: 2085.7542 - val_loss: 1295.0513\n",
      "Epoch 32/500\n",
      "24/24 [==============================] - 0s 5ms/step - loss: 2039.6857 - val_loss: 1278.4111\n",
      "Epoch 33/500\n",
      "24/24 [==============================] - 0s 4ms/step - loss: 1984.3560 - val_loss: 1259.9956\n",
      "Epoch 34/500\n",
      "24/24 [==============================] - 0s 4ms/step - loss: 1931.1851 - val_loss: 1242.9608\n",
      "Epoch 35/500\n",
      "24/24 [==============================] - 0s 4ms/step - loss: 1880.2220 - val_loss: 1227.1034\n",
      "Epoch 36/500\n",
      "24/24 [==============================] - 0s 4ms/step - loss: 1831.0641 - val_loss: 1212.3031\n",
      "Epoch 37/500\n",
      "24/24 [==============================] - 0s 4ms/step - loss: 1783.4915 - val_loss: 1198.4835\n",
      "Epoch 38/500\n",
      "24/24 [==============================] - 0s 5ms/step - loss: 1737.3665 - val_loss: 1185.5905\n",
      "Epoch 39/500\n",
      "24/24 [==============================] - 0s 5ms/step - loss: 1692.5948 - val_loss: 1173.5800\n",
      "Epoch 40/500\n",
      "24/24 [==============================] - 0s 5ms/step - loss: 1649.1055 - val_loss: 1162.4163\n",
      "Epoch 41/500\n",
      "24/24 [==============================] - 0s 5ms/step - loss: 1606.8409 - val_loss: 1152.0679\n",
      "Epoch 42/500\n",
      "24/24 [==============================] - 0s 4ms/step - loss: 1565.7542 - val_loss: 1142.5062\n",
      "Epoch 43/500\n",
      "24/24 [==============================] - 0s 4ms/step - loss: 1525.8040 - val_loss: 1133.7054\n",
      "Epoch 44/500\n",
      "24/24 [==============================] - 0s 4ms/step - loss: 1486.9541 - val_loss: 1125.6410\n",
      "Epoch 45/500\n",
      "24/24 [==============================] - 0s 4ms/step - loss: 1449.1727 - val_loss: 1118.2906\n",
      "Epoch 46/500\n",
      "24/24 [==============================] - 0s 4ms/step - loss: 1412.4296 - val_loss: 1111.6323\n",
      "Epoch 47/500\n",
      "24/24 [==============================] - 0s 10ms/step - loss: 1376.6978 - val_loss: 1105.6453\n",
      "Epoch 48/500\n",
      "24/24 [==============================] - 0s 5ms/step - loss: 1341.9509 - val_loss: 1100.3099\n",
      "Epoch 49/500\n",
      "24/24 [==============================] - 0s 4ms/step - loss: 1308.1652 - val_loss: 1095.6067\n",
      "Epoch 50/500\n",
      "24/24 [==============================] - 0s 4ms/step - loss: 1275.3179 - val_loss: 1091.5170\n",
      "Epoch 51/500\n",
      "24/24 [==============================] - 0s 5ms/step - loss: 1243.3867 - val_loss: 1088.0225\n",
      "Epoch 52/500\n",
      "24/24 [==============================] - 0s 5ms/step - loss: 1212.3508 - val_loss: 1085.1055\n",
      "Epoch 53/500\n",
      "24/24 [==============================] - 0s 5ms/step - loss: 1182.1901 - val_loss: 1082.7487\n",
      "Epoch 54/500\n",
      "24/24 [==============================] - 0s 7ms/step - loss: 1152.8853 - val_loss: 1080.9351\n",
      "Epoch 55/500\n",
      "24/24 [==============================] - 0s 6ms/step - loss: 1124.4165 - val_loss: 1079.6478\n",
      "Epoch 56/500\n",
      "24/24 [==============================] - 0s 12ms/step - loss: 1096.7657 - val_loss: 1078.8707\n",
      "Epoch 57/500\n",
      "24/24 [==============================] - 0s 6ms/step - loss: 1069.9158 - val_loss: 1078.5875\n",
      "Epoch 58/500\n",
      "24/24 [==============================] - 0s 5ms/step - loss: 1043.8484 - val_loss: 1078.7823\n",
      "Epoch 59/500\n",
      "24/24 [==============================] - 0s 4ms/step - loss: 1018.5468 - val_loss: 1079.4398\n",
      "Epoch 60/500\n",
      "24/24 [==============================] - 0s 4ms/step - loss: 993.9941 - val_loss: 1080.5443\n",
      "Epoch 61/500\n",
      "24/24 [==============================] - 0s 5ms/step - loss: 970.1743 - val_loss: 1082.0808\n",
      "Epoch 62/500\n",
      "24/24 [==============================] - 0s 4ms/step - loss: 947.0710 - val_loss: 1084.0344\n",
      "Epoch 63/500\n",
      "24/24 [==============================] - 0s 5ms/step - loss: 924.6683 - val_loss: 1086.3903\n",
      "Epoch 64/500\n",
      "24/24 [==============================] - 0s 5ms/step - loss: 902.9512 - val_loss: 1089.1339\n",
      "Epoch 65/500\n",
      "24/24 [==============================] - 0s 5ms/step - loss: 881.9043 - val_loss: 1092.2510\n",
      "Epoch 66/500\n",
      "24/24 [==============================] - 0s 5ms/step - loss: 861.5125 - val_loss: 1095.7277\n",
      "Epoch 67/500\n",
      "24/24 [==============================] - 0s 5ms/step - loss: 841.7613 - val_loss: 1099.5494\n",
      "Epoch 68/500\n",
      "24/24 [==============================] - 0s 5ms/step - loss: 822.6359 - val_loss: 1103.7028\n",
      "Epoch 69/500\n",
      "24/24 [==============================] - 0s 6ms/step - loss: 804.1223 - val_loss: 1108.1741\n",
      "Epoch 70/500\n",
      "24/24 [==============================] - 0s 6ms/step - loss: 786.2062 - val_loss: 1112.9500\n",
      "Epoch 71/500\n",
      "24/24 [==============================] - 0s 6ms/step - loss: 768.8742 - val_loss: 1118.0170\n",
      "Epoch 72/500\n",
      "24/24 [==============================] - 0s 5ms/step - loss: 752.1118 - val_loss: 1123.3622\n",
      "Epoch 73/500\n",
      "24/24 [==============================] - 0s 6ms/step - loss: 735.9061 - val_loss: 1128.9727\n",
      "Epoch 74/500\n",
      "24/24 [==============================] - 0s 7ms/step - loss: 720.2438 - val_loss: 1134.8358\n",
      "Epoch 75/500\n",
      "24/24 [==============================] - 0s 11ms/step - loss: 705.1117 - val_loss: 1140.9388\n",
      "Epoch 76/500\n",
      "24/24 [==============================] - 0s 8ms/step - loss: 690.4967 - val_loss: 1147.2695\n",
      "Epoch 77/500\n",
      "24/24 [==============================] - 0s 6ms/step - loss: 676.3863 - val_loss: 1153.8158\n",
      "Epoch 78/500\n",
      "24/24 [==============================] - 0s 5ms/step - loss: 662.7676 - val_loss: 1160.5653\n",
      "Epoch 79/500\n",
      "24/24 [==============================] - 0s 5ms/step - loss: 649.6287 - val_loss: 1167.5063\n",
      "Epoch 80/500\n",
      "24/24 [==============================] - 0s 6ms/step - loss: 636.9568 - val_loss: 1174.6273\n",
      "Epoch 81/500\n",
      "24/24 [==============================] - 0s 6ms/step - loss: 624.7401 - val_loss: 1181.9167\n",
      "Epoch 82/500\n",
      "24/24 [==============================] - 0s 6ms/step - loss: 612.9667 - val_loss: 1189.3632\n",
      "Epoch 83/500\n",
      "24/24 [==============================] - 0s 6ms/step - loss: 601.6249 - val_loss: 1196.9556\n",
      "Epoch 84/500\n",
      "24/24 [==============================] - 0s 12ms/step - loss: 590.7028 - val_loss: 1204.6830\n",
      "Epoch 85/500\n",
      "24/24 [==============================] - 0s 7ms/step - loss: 580.1895 - val_loss: 1212.5342\n",
      "Epoch 86/500\n",
      "24/24 [==============================] - 0s 6ms/step - loss: 570.0735 - val_loss: 1220.4963\n",
      "Epoch 87/500\n",
      "24/24 [==============================] - 0s 7ms/step - loss: 560.3436 - val_loss: 1228.5155\n",
      "Epoch 88/500\n",
      "24/24 [==============================] - 0s 7ms/step - loss: 550.9537 - val_loss: 1236.3225\n",
      "Epoch 89/500\n",
      "24/24 [==============================] - 0s 6ms/step - loss: 538.5010 - val_loss: 1249.0475\n",
      "Epoch 90/500\n",
      "24/24 [==============================] - 0s 6ms/step - loss: 527.8882 - val_loss: 1258.7048\n",
      "Epoch 91/500\n",
      "24/24 [==============================] - 0s 6ms/step - loss: 518.4087 - val_loss: 1268.1495\n",
      "Epoch 92/500\n",
      "24/24 [==============================] - 0s 8ms/step - loss: 509.6500 - val_loss: 1277.4866\n",
      "Epoch 93/500\n",
      "24/24 [==============================] - 0s 6ms/step - loss: 501.4542 - val_loss: 1286.7577\n",
      "Epoch 94/500\n",
      "24/24 [==============================] - 0s 6ms/step - loss: 493.7383 - val_loss: 1295.9805\n",
      "Epoch 95/500\n",
      "24/24 [==============================] - 0s 6ms/step - loss: 486.4500 - val_loss: 1305.1616\n",
      "Epoch 96/500\n",
      "24/24 [==============================] - 0s 5ms/step - loss: 479.5521 - val_loss: 1314.3031\n",
      "Epoch 97/500\n",
      "24/24 [==============================] - 0s 5ms/step - loss: 473.0156 - val_loss: 1323.4036\n",
      "Epoch 98/500\n",
      "24/24 [==============================] - 0s 5ms/step - loss: 466.8169 - val_loss: 1332.4591\n",
      "Epoch 99/500\n",
      "24/24 [==============================] - 0s 6ms/step - loss: 460.9360 - val_loss: 1341.4669\n",
      "Epoch 100/500\n",
      "24/24 [==============================] - 0s 6ms/step - loss: 455.3553 - val_loss: 1350.4222\n",
      "Epoch 101/500\n",
      "24/24 [==============================] - 0s 6ms/step - loss: 450.0586 - val_loss: 1359.3192\n",
      "Epoch 102/500\n",
      "24/24 [==============================] - 0s 8ms/step - loss: 445.0320 - val_loss: 1368.1539\n",
      "Epoch 103/500\n",
      "24/24 [==============================] - 0s 8ms/step - loss: 440.2618 - val_loss: 1376.9208\n",
      "Epoch 104/500\n",
      "24/24 [==============================] - 0s 9ms/step - loss: 435.7359 - val_loss: 1385.6145\n",
      "Epoch 105/500\n",
      "24/24 [==============================] - 0s 6ms/step - loss: 431.4424 - val_loss: 1394.2305\n",
      "Epoch 106/500\n",
      "24/24 [==============================] - 0s 9ms/step - loss: 427.3708 - val_loss: 1402.7637\n",
      "Epoch 107/500\n",
      "24/24 [==============================] - 0s 9ms/step - loss: 423.5104 - val_loss: 1411.2094\n",
      "Epoch 108/500\n",
      "24/24 [==============================] - 0s 7ms/step - loss: 419.8517 - val_loss: 1419.5625\n",
      "Epoch 109/500\n",
      "24/24 [==============================] - 0s 6ms/step - loss: 416.3851 - val_loss: 1427.8197\n",
      "Epoch 110/500\n",
      "24/24 [==============================] - 0s 7ms/step - loss: 413.1020 - val_loss: 1435.9764\n",
      "Epoch 111/500\n",
      "24/24 [==============================] - 0s 7ms/step - loss: 409.9936 - val_loss: 1444.0288\n",
      "Epoch 112/500\n",
      "24/24 [==============================] - 0s 7ms/step - loss: 407.0519 - val_loss: 1451.9725\n",
      "Epoch 113/500\n",
      "24/24 [==============================] - 0s 8ms/step - loss: 404.2690 - val_loss: 1459.8046\n",
      "Epoch 114/500\n",
      "24/24 [==============================] - 0s 7ms/step - loss: 401.6376 - val_loss: 1467.5216\n",
      "Epoch 115/500\n",
      "24/24 [==============================] - 0s 8ms/step - loss: 399.1504 - val_loss: 1475.1212\n",
      "Epoch 116/500\n",
      "24/24 [==============================] - 0s 8ms/step - loss: 396.8008 - val_loss: 1482.5990\n",
      "Epoch 117/500\n",
      "24/24 [==============================] - 0s 7ms/step - loss: 394.5817 - val_loss: 1489.9536\n",
      "Epoch 118/500\n",
      "24/24 [==============================] - 0s 12ms/step - loss: 392.4872 - val_loss: 1497.1829\n",
      "Epoch 119/500\n",
      "24/24 [==============================] - 0s 6ms/step - loss: 390.5110 - val_loss: 1504.2837\n",
      "Epoch 120/500\n",
      "24/24 [==============================] - 0s 5ms/step - loss: 388.6474 - val_loss: 1511.2546\n",
      "Epoch 121/500\n",
      "24/24 [==============================] - 0s 5ms/step - loss: 386.8907 - val_loss: 1518.0946\n",
      "Epoch 122/500\n",
      "24/24 [==============================] - 0s 5ms/step - loss: 385.2357 - val_loss: 1524.8015\n",
      "Epoch 123/500\n",
      "24/24 [==============================] - 0s 6ms/step - loss: 383.6769 - val_loss: 1531.3741\n",
      "Epoch 124/500\n",
      "24/24 [==============================] - 0s 5ms/step - loss: 382.2098 - val_loss: 1537.8114\n",
      "Epoch 125/500\n",
      "24/24 [==============================] - 0s 5ms/step - loss: 380.8294 - val_loss: 1544.1128\n",
      "Epoch 126/500\n",
      "24/24 [==============================] - 0s 5ms/step - loss: 379.5312 - val_loss: 1550.2766\n",
      "Epoch 127/500\n",
      "24/24 [==============================] - 0s 5ms/step - loss: 378.3110 - val_loss: 1556.3036\n",
      "Epoch 128/500\n",
      "24/24 [==============================] - 0s 5ms/step - loss: 377.1644 - val_loss: 1562.1931\n",
      "Epoch 129/500\n",
      "24/24 [==============================] - 0s 5ms/step - loss: 376.0879 - val_loss: 1567.9451\n",
      "Epoch 130/500\n",
      "24/24 [==============================] - 0s 5ms/step - loss: 375.0772 - val_loss: 1573.5597\n",
      "Epoch 131/500\n",
      "24/24 [==============================] - 0s 6ms/step - loss: 374.1289 - val_loss: 1579.0372\n",
      "Epoch 132/500\n",
      "24/24 [==============================] - 0s 5ms/step - loss: 373.2395 - val_loss: 1584.3778\n",
      "Epoch 133/500\n",
      "24/24 [==============================] - 0s 5ms/step - loss: 372.4059 - val_loss: 1589.5814\n",
      "Epoch 134/500\n",
      "24/24 [==============================] - 0s 5ms/step - loss: 371.6245 - val_loss: 1594.6503\n",
      "Epoch 135/500\n",
      "24/24 [==============================] - 0s 5ms/step - loss: 370.8929 - val_loss: 1599.5851\n",
      "Epoch 136/500\n",
      "24/24 [==============================] - 0s 5ms/step - loss: 370.2078 - val_loss: 1604.3857\n",
      "Epoch 137/500\n",
      "24/24 [==============================] - 0s 5ms/step - loss: 369.5668 - val_loss: 1609.0540\n",
      "Epoch 138/500\n",
      "24/24 [==============================] - 0s 5ms/step - loss: 368.9671 - val_loss: 1613.5914\n",
      "Epoch 139/500\n",
      "24/24 [==============================] - 0s 5ms/step - loss: 368.4063 - val_loss: 1617.9984\n",
      "Epoch 140/500\n",
      "24/24 [==============================] - 0s 5ms/step - loss: 367.8821 - val_loss: 1622.2773\n",
      "Epoch 141/500\n",
      "24/24 [==============================] - 0s 6ms/step - loss: 367.3924 - val_loss: 1626.4298\n",
      "Epoch 142/500\n",
      "24/24 [==============================] - 0s 5ms/step - loss: 366.9349 - val_loss: 1630.4570\n",
      "Epoch 143/500\n",
      "24/24 [==============================] - 0s 5ms/step - loss: 366.5078 - val_loss: 1634.3616\n",
      "Epoch 144/500\n",
      "24/24 [==============================] - 0s 5ms/step - loss: 366.1090 - val_loss: 1638.1448\n",
      "Epoch 145/500\n",
      "24/24 [==============================] - 0s 5ms/step - loss: 365.7371 - val_loss: 1641.8076\n",
      "Epoch 146/500\n",
      "24/24 [==============================] - 0s 5ms/step - loss: 365.3900 - val_loss: 1645.3540\n",
      "Epoch 147/500\n",
      "24/24 [==============================] - 0s 5ms/step - loss: 365.0664 - val_loss: 1648.7844\n",
      "Epoch 148/500\n",
      "24/24 [==============================] - 0s 6ms/step - loss: 364.7648 - val_loss: 1652.1019\n",
      "Epoch 149/500\n",
      "24/24 [==============================] - 0s 5ms/step - loss: 364.4836 - val_loss: 1655.3083\n",
      "Epoch 150/500\n",
      "24/24 [==============================] - 0s 6ms/step - loss: 364.2217 - val_loss: 1658.4062\n",
      "Epoch 151/500\n",
      "24/24 [==============================] - 0s 6ms/step - loss: 363.9777 - val_loss: 1661.3973\n",
      "Epoch 152/500\n",
      "24/24 [==============================] - 0s 6ms/step - loss: 363.7505 - val_loss: 1664.2845\n",
      "Epoch 153/500\n",
      "24/24 [==============================] - 0s 6ms/step - loss: 363.5390 - val_loss: 1667.0696\n",
      "Epoch 154/500\n",
      "24/24 [==============================] - 0s 13ms/step - loss: 363.3420 - val_loss: 1669.7554\n",
      "Epoch 155/500\n",
      "24/24 [==============================] - 0s 6ms/step - loss: 363.1587 - val_loss: 1672.3434\n",
      "Epoch 156/500\n",
      "24/24 [==============================] - 0s 5ms/step - loss: 362.9882 - val_loss: 1674.8375\n",
      "Epoch 157/500\n",
      "24/24 [==============================] - 0s 6ms/step - loss: 362.8295 - val_loss: 1677.2388\n",
      "Epoch 158/500\n",
      "24/24 [==============================] - 0s 6ms/step - loss: 362.6818 - val_loss: 1679.5497\n",
      "Epoch 159/500\n",
      "24/24 [==============================] - 0s 6ms/step - loss: 362.5445 - val_loss: 1681.7737\n",
      "Epoch 160/500\n",
      "24/24 [==============================] - 0s 6ms/step - loss: 362.4168 - val_loss: 1683.9120\n",
      "Epoch 161/500\n",
      "24/24 [==============================] - 0s 5ms/step - loss: 362.2980 - val_loss: 1685.9673\n",
      "Epoch 162/500\n",
      "24/24 [==============================] - 0s 5ms/step - loss: 362.1875 - val_loss: 1687.9421\n",
      "Epoch 163/500\n",
      "24/24 [==============================] - 0s 6ms/step - loss: 362.0848 - val_loss: 1689.8391\n",
      "Epoch 164/500\n",
      "24/24 [==============================] - 0s 6ms/step - loss: 361.9893 - val_loss: 1691.6609\n",
      "Epoch 165/500\n",
      "24/24 [==============================] - 0s 6ms/step - loss: 361.9004 - val_loss: 1693.4073\n",
      "Epoch 166/500\n",
      "24/24 [==============================] - 0s 6ms/step - loss: 361.8179 - val_loss: 1695.0835\n",
      "Epoch 167/500\n",
      "24/24 [==============================] - 0s 5ms/step - loss: 361.7411 - val_loss: 1696.6903\n",
      "Epoch 168/500\n",
      "24/24 [==============================] - 0s 5ms/step - loss: 361.6697 - val_loss: 1698.2306\n",
      "Epoch 169/500\n",
      "24/24 [==============================] - 0s 7ms/step - loss: 361.6034 - val_loss: 1699.7068\n",
      "Epoch 170/500\n",
      "24/24 [==============================] - 0s 7ms/step - loss: 361.5415 - val_loss: 1701.1189\n",
      "Epoch 171/500\n",
      "24/24 [==============================] - 0s 5ms/step - loss: 361.4841 - val_loss: 1702.4717\n",
      "Epoch 172/500\n",
      "24/24 [==============================] - 0s 5ms/step - loss: 361.4308 - val_loss: 1703.7665\n",
      "Epoch 173/500\n",
      "24/24 [==============================] - 0s 5ms/step - loss: 361.3811 - val_loss: 1705.0043\n",
      "Epoch 174/500\n",
      "24/24 [==============================] - 0s 6ms/step - loss: 361.3349 - val_loss: 1706.1884\n",
      "Epoch 175/500\n",
      "24/24 [==============================] - 0s 6ms/step - loss: 361.2919 - val_loss: 1707.3199\n",
      "Epoch 176/500\n",
      "24/24 [==============================] - 0s 7ms/step - loss: 361.2520 - val_loss: 1708.4009\n",
      "Epoch 177/500\n",
      "24/24 [==============================] - 0s 7ms/step - loss: 361.2148 - val_loss: 1709.4336\n",
      "Epoch 178/500\n",
      "24/24 [==============================] - 0s 5ms/step - loss: 361.1802 - val_loss: 1710.4194\n",
      "Epoch 179/500\n",
      "24/24 [==============================] - 0s 6ms/step - loss: 361.1480 - val_loss: 1711.3607\n",
      "Epoch 180/500\n",
      "24/24 [==============================] - 0s 6ms/step - loss: 361.1180 - val_loss: 1712.2587\n",
      "Epoch 181/500\n",
      "24/24 [==============================] - 0s 7ms/step - loss: 361.0901 - val_loss: 1713.1145\n",
      "Epoch 182/500\n",
      "24/24 [==============================] - 0s 7ms/step - loss: 361.0641 - val_loss: 1713.9305\n",
      "Epoch 183/500\n",
      "24/24 [==============================] - 0s 8ms/step - loss: 361.0400 - val_loss: 1714.7091\n",
      "Epoch 184/500\n",
      "24/24 [==============================] - 0s 6ms/step - loss: 361.0174 - val_loss: 1715.4498\n",
      "Epoch 185/500\n",
      "24/24 [==============================] - 0s 7ms/step - loss: 360.9965 - val_loss: 1716.1561\n",
      "Epoch 186/500\n",
      "24/24 [==============================] - 0s 14ms/step - loss: 360.9770 - val_loss: 1716.8280\n",
      "Epoch 187/500\n",
      "24/24 [==============================] - 0s 8ms/step - loss: 360.9588 - val_loss: 1717.4681\n",
      "Epoch 188/500\n",
      "24/24 [==============================] - 0s 7ms/step - loss: 360.9419 - val_loss: 1718.0768\n",
      "Epoch 189/500\n",
      "24/24 [==============================] - 0s 8ms/step - loss: 360.9261 - val_loss: 1718.6553\n",
      "Epoch 190/500\n",
      "24/24 [==============================] - 0s 8ms/step - loss: 360.9113 - val_loss: 1719.2061\n",
      "Epoch 191/500\n",
      "24/24 [==============================] - 0s 7ms/step - loss: 360.8977 - val_loss: 1719.7291\n",
      "Epoch 192/500\n",
      "24/24 [==============================] - 0s 8ms/step - loss: 360.8850 - val_loss: 1720.2267\n",
      "Epoch 193/500\n",
      "24/24 [==============================] - 0s 7ms/step - loss: 360.8731 - val_loss: 1720.6997\n",
      "Epoch 194/500\n",
      "24/24 [==============================] - 0s 8ms/step - loss: 360.8621 - val_loss: 1721.1482\n",
      "Epoch 195/500\n",
      "24/24 [==============================] - 0s 7ms/step - loss: 360.8518 - val_loss: 1721.5740\n",
      "Epoch 196/500\n",
      "24/24 [==============================] - 0s 8ms/step - loss: 360.8423 - val_loss: 1721.9784\n",
      "Epoch 197/500\n",
      "24/24 [==============================] - 0s 8ms/step - loss: 360.8334 - val_loss: 1722.3625\n",
      "Epoch 198/500\n",
      "24/24 [==============================] - 0s 9ms/step - loss: 360.8251 - val_loss: 1722.7268\n",
      "Epoch 199/500\n",
      "24/24 [==============================] - 0s 9ms/step - loss: 360.8174 - val_loss: 1723.0719\n",
      "Epoch 200/500\n",
      "24/24 [==============================] - 0s 9ms/step - loss: 360.8102 - val_loss: 1723.3990\n",
      "Epoch 201/500\n",
      "24/24 [==============================] - 0s 8ms/step - loss: 360.8035 - val_loss: 1723.7096\n",
      "Epoch 202/500\n",
      "24/24 [==============================] - 0s 7ms/step - loss: 360.7973 - val_loss: 1724.0033\n",
      "Epoch 203/500\n",
      "24/24 [==============================] - 0s 7ms/step - loss: 360.7915 - val_loss: 1724.2819\n",
      "Epoch 204/500\n",
      "24/24 [==============================] - 0s 7ms/step - loss: 360.7863 - val_loss: 1724.5460\n",
      "Epoch 205/500\n",
      "24/24 [==============================] - 0s 6ms/step - loss: 360.7812 - val_loss: 1724.7964\n",
      "Epoch 206/500\n",
      "24/24 [==============================] - 0s 7ms/step - loss: 360.7766 - val_loss: 1725.0322\n",
      "Epoch 207/500\n",
      "24/24 [==============================] - 0s 7ms/step - loss: 360.7723 - val_loss: 1725.2567\n",
      "Epoch 208/500\n",
      "24/24 [==============================] - 0s 6ms/step - loss: 360.7683 - val_loss: 1725.4678\n",
      "Epoch 209/500\n",
      "24/24 [==============================] - 0s 6ms/step - loss: 360.7646 - val_loss: 1725.6681\n",
      "Epoch 210/500\n",
      "24/24 [==============================] - 0s 9ms/step - loss: 360.7613 - val_loss: 1725.8578\n",
      "Epoch 211/500\n",
      "24/24 [==============================] - 0s 7ms/step - loss: 360.7581 - val_loss: 1726.0365\n",
      "Epoch 212/500\n",
      "24/24 [==============================] - 0s 15ms/step - loss: 360.7552 - val_loss: 1726.2056\n",
      "Epoch 213/500\n",
      "24/24 [==============================] - 0s 8ms/step - loss: 360.7526 - val_loss: 1726.3661\n",
      "Epoch 214/500\n",
      "24/24 [==============================] - 0s 8ms/step - loss: 360.7500 - val_loss: 1726.5171\n",
      "Epoch 215/500\n",
      "24/24 [==============================] - 0s 7ms/step - loss: 360.7478 - val_loss: 1726.6600\n",
      "Epoch 216/500\n",
      "24/24 [==============================] - 0s 6ms/step - loss: 360.7456 - val_loss: 1726.7947\n",
      "Epoch 217/500\n",
      "24/24 [==============================] - 0s 7ms/step - loss: 360.7437 - val_loss: 1726.9215\n",
      "Epoch 218/500\n",
      "24/24 [==============================] - 0s 6ms/step - loss: 360.7420 - val_loss: 1727.0425\n",
      "Epoch 219/500\n",
      "24/24 [==============================] - 0s 8ms/step - loss: 360.7403 - val_loss: 1727.1553\n",
      "Epoch 220/500\n",
      "24/24 [==============================] - 0s 7ms/step - loss: 360.7389 - val_loss: 1727.2623\n",
      "Epoch 221/500\n",
      "24/24 [==============================] - 0s 6ms/step - loss: 360.7376 - val_loss: 1727.3638\n",
      "Epoch 222/500\n",
      "24/24 [==============================] - 0s 7ms/step - loss: 360.7363 - val_loss: 1727.4594\n",
      "Epoch 223/500\n",
      "24/24 [==============================] - 0s 6ms/step - loss: 360.7351 - val_loss: 1727.5485\n",
      "Epoch 224/500\n",
      "24/24 [==============================] - 0s 6ms/step - loss: 360.7342 - val_loss: 1727.6331\n",
      "Epoch 225/500\n",
      "24/24 [==============================] - 0s 5ms/step - loss: 360.7333 - val_loss: 1727.7131\n",
      "Epoch 226/500\n",
      "24/24 [==============================] - 0s 6ms/step - loss: 360.7325 - val_loss: 1727.7888\n",
      "Epoch 227/500\n",
      "24/24 [==============================] - 0s 5ms/step - loss: 360.7317 - val_loss: 1727.8595\n",
      "Epoch 228/500\n",
      "24/24 [==============================] - 0s 5ms/step - loss: 360.7311 - val_loss: 1727.9266\n",
      "Epoch 229/500\n",
      "24/24 [==============================] - 0s 5ms/step - loss: 360.7305 - val_loss: 1727.9896\n",
      "Epoch 230/500\n",
      "24/24 [==============================] - 0s 12ms/step - loss: 360.7300 - val_loss: 1728.0487\n",
      "Epoch 231/500\n",
      "24/24 [==============================] - 0s 8ms/step - loss: 360.7295 - val_loss: 1728.1052\n",
      "Epoch 232/500\n",
      "24/24 [==============================] - 0s 7ms/step - loss: 360.7291 - val_loss: 1728.1576\n",
      "Epoch 233/500\n",
      "24/24 [==============================] - 0s 6ms/step - loss: 360.7289 - val_loss: 1728.2070\n",
      "Epoch 234/500\n",
      "24/24 [==============================] - 0s 6ms/step - loss: 360.7285 - val_loss: 1728.2537\n",
      "Epoch 235/500\n",
      "24/24 [==============================] - 0s 5ms/step - loss: 360.7283 - val_loss: 1728.2970\n",
      "Epoch 236/500\n",
      "24/24 [==============================] - 0s 6ms/step - loss: 360.7281 - val_loss: 1728.3378\n",
      "Epoch 237/500\n",
      "24/24 [==============================] - 0s 5ms/step - loss: 360.7280 - val_loss: 1728.3773\n",
      "Epoch 238/500\n",
      "24/24 [==============================] - 0s 7ms/step - loss: 360.7278 - val_loss: 1728.4128\n",
      "Epoch 239/500\n",
      "24/24 [==============================] - 0s 9ms/step - loss: 360.7279 - val_loss: 1728.4475\n",
      "Epoch 240/500\n",
      "24/24 [==============================] - 0s 6ms/step - loss: 360.7278 - val_loss: 1728.4800\n",
      "Epoch 241/500\n",
      "24/24 [==============================] - 0s 6ms/step - loss: 360.7278 - val_loss: 1728.5104\n",
      "Epoch 242/500\n",
      "24/24 [==============================] - 0s 6ms/step - loss: 360.7278 - val_loss: 1728.5385\n",
      "Epoch 243/500\n",
      "24/24 [==============================] - 0s 5ms/step - loss: 360.7278 - val_loss: 1728.5654\n",
      "Epoch 244/500\n",
      "24/24 [==============================] - 0s 6ms/step - loss: 360.7280 - val_loss: 1728.5909\n",
      "Epoch 245/500\n",
      "24/24 [==============================] - 0s 5ms/step - loss: 360.7281 - val_loss: 1728.6145\n",
      "Epoch 246/500\n",
      "24/24 [==============================] - 0s 5ms/step - loss: 360.7281 - val_loss: 1728.6365\n",
      "Epoch 247/500\n",
      "24/24 [==============================] - 0s 5ms/step - loss: 360.7284 - val_loss: 1728.6581\n",
      "Epoch 248/500\n",
      "24/24 [==============================] - 0s 5ms/step - loss: 360.7285 - val_loss: 1728.6780\n",
      "Epoch 249/500\n",
      "24/24 [==============================] - 0s 5ms/step - loss: 360.7287 - val_loss: 1728.6956\n",
      "Epoch 250/500\n",
      "24/24 [==============================] - 0s 6ms/step - loss: 360.7289 - val_loss: 1728.7128\n",
      "Epoch 251/500\n",
      "24/24 [==============================] - 0s 5ms/step - loss: 360.7290 - val_loss: 1728.7288\n",
      "Epoch 252/500\n",
      "24/24 [==============================] - 0s 5ms/step - loss: 360.7293 - val_loss: 1728.7448\n",
      "Epoch 253/500\n",
      "24/24 [==============================] - 0s 6ms/step - loss: 360.7294 - val_loss: 1728.7594\n",
      "Epoch 254/500\n",
      "24/24 [==============================] - 0s 6ms/step - loss: 360.7297 - val_loss: 1728.7721\n",
      "Epoch 255/500\n",
      "24/24 [==============================] - 0s 6ms/step - loss: 360.7299 - val_loss: 1728.7855\n",
      "Epoch 256/500\n",
      "24/24 [==============================] - 0s 5ms/step - loss: 360.7301 - val_loss: 1728.7963\n",
      "Epoch 257/500\n",
      "24/24 [==============================] - 0s 5ms/step - loss: 360.7303 - val_loss: 1728.8081\n",
      "Epoch 258/500\n",
      "24/24 [==============================] - 0s 5ms/step - loss: 360.7307 - val_loss: 1728.8187\n",
      "Epoch 259/500\n",
      "24/24 [==============================] - 0s 5ms/step - loss: 360.7308 - val_loss: 1728.8281\n",
      "Epoch 260/500\n",
      "24/24 [==============================] - 0s 5ms/step - loss: 360.7311 - val_loss: 1728.8376\n",
      "Epoch 261/500\n",
      "24/24 [==============================] - 0s 6ms/step - loss: 360.7314 - val_loss: 1728.8457\n",
      "Epoch 262/500\n",
      "24/24 [==============================] - 0s 5ms/step - loss: 360.7317 - val_loss: 1728.8536\n",
      "Epoch 263/500\n",
      "24/24 [==============================] - 0s 5ms/step - loss: 360.7320 - val_loss: 1728.8612\n",
      "Epoch 264/500\n",
      "24/24 [==============================] - 0s 5ms/step - loss: 360.7322 - val_loss: 1728.8685\n",
      "Epoch 265/500\n",
      "24/24 [==============================] - 0s 5ms/step - loss: 360.7325 - val_loss: 1728.8749\n",
      "Epoch 266/500\n",
      "24/24 [==============================] - 0s 5ms/step - loss: 360.7328 - val_loss: 1728.8811\n",
      "Epoch 267/500\n",
      "24/24 [==============================] - 0s 5ms/step - loss: 360.7330 - val_loss: 1728.8864\n",
      "Epoch 268/500\n",
      "24/24 [==============================] - 0s 11ms/step - loss: 360.7333 - val_loss: 1728.8921\n",
      "Epoch 269/500\n",
      "24/24 [==============================] - 0s 5ms/step - loss: 360.7335 - val_loss: 1728.8967\n",
      "Epoch 270/500\n",
      "24/24 [==============================] - 0s 5ms/step - loss: 360.7338 - val_loss: 1728.9023\n",
      "Epoch 271/500\n",
      "24/24 [==============================] - 0s 5ms/step - loss: 360.7341 - val_loss: 1728.9059\n",
      "Epoch 272/500\n",
      "24/24 [==============================] - 0s 5ms/step - loss: 360.7344 - val_loss: 1728.9104\n",
      "Epoch 273/500\n",
      "24/24 [==============================] - 0s 5ms/step - loss: 360.7346 - val_loss: 1728.9142\n",
      "Epoch 274/500\n",
      "24/24 [==============================] - 0s 5ms/step - loss: 360.7349 - val_loss: 1728.9180\n",
      "Epoch 275/500\n",
      "24/24 [==============================] - 0s 4ms/step - loss: 360.7352 - val_loss: 1728.9213\n",
      "Epoch 276/500\n",
      "24/24 [==============================] - 0s 5ms/step - loss: 360.7354 - val_loss: 1728.9246\n",
      "Epoch 277/500\n",
      "24/24 [==============================] - 0s 5ms/step - loss: 360.7357 - val_loss: 1728.9279\n",
      "Epoch 278/500\n",
      "24/24 [==============================] - 0s 5ms/step - loss: 360.7359 - val_loss: 1728.9305\n",
      "Epoch 279/500\n",
      "24/24 [==============================] - 0s 5ms/step - loss: 360.7361 - val_loss: 1728.9324\n",
      "Epoch 280/500\n",
      "24/24 [==============================] - 0s 5ms/step - loss: 360.7365 - val_loss: 1728.9352\n",
      "Epoch 281/500\n",
      "24/24 [==============================] - 0s 5ms/step - loss: 360.7368 - val_loss: 1728.9376\n",
      "Epoch 282/500\n",
      "24/24 [==============================] - 0s 4ms/step - loss: 360.7370 - val_loss: 1728.9407\n",
      "Epoch 283/500\n",
      "24/24 [==============================] - 0s 4ms/step - loss: 360.7372 - val_loss: 1728.9423\n",
      "Epoch 284/500\n",
      "24/24 [==============================] - 0s 4ms/step - loss: 360.7374 - val_loss: 1728.9447\n",
      "Epoch 285/500\n",
      "24/24 [==============================] - 0s 4ms/step - loss: 360.7376 - val_loss: 1728.9457\n",
      "Epoch 286/500\n",
      "24/24 [==============================] - 0s 5ms/step - loss: 360.7379 - val_loss: 1728.9479\n",
      "Epoch 287/500\n",
      "24/24 [==============================] - 0s 4ms/step - loss: 360.7381 - val_loss: 1728.9490\n",
      "Epoch 288/500\n",
      "24/24 [==============================] - 0s 4ms/step - loss: 360.7383 - val_loss: 1728.9507\n",
      "Epoch 289/500\n",
      "24/24 [==============================] - 0s 4ms/step - loss: 360.7385 - val_loss: 1728.9523\n",
      "Epoch 290/500\n",
      "24/24 [==============================] - 0s 5ms/step - loss: 360.7387 - val_loss: 1728.9532\n",
      "Epoch 291/500\n",
      "24/24 [==============================] - 0s 5ms/step - loss: 360.7390 - val_loss: 1728.9540\n",
      "Epoch 292/500\n",
      "24/24 [==============================] - 0s 5ms/step - loss: 360.7391 - val_loss: 1728.9546\n",
      "Epoch 293/500\n",
      "24/24 [==============================] - 0s 4ms/step - loss: 360.7394 - val_loss: 1728.9565\n",
      "Epoch 294/500\n",
      "24/24 [==============================] - 0s 5ms/step - loss: 360.7395 - val_loss: 1728.9575\n",
      "Epoch 295/500\n",
      "24/24 [==============================] - 0s 5ms/step - loss: 360.7398 - val_loss: 1728.9585\n",
      "Epoch 296/500\n",
      "24/24 [==============================] - 0s 5ms/step - loss: 360.7399 - val_loss: 1728.9592\n",
      "Epoch 297/500\n",
      "24/24 [==============================] - 0s 9ms/step - loss: 360.7402 - val_loss: 1728.9601\n",
      "Epoch 298/500\n",
      "24/24 [==============================] - 0s 5ms/step - loss: 360.7403 - val_loss: 1728.9611\n",
      "Epoch 299/500\n",
      "24/24 [==============================] - 0s 5ms/step - loss: 360.7404 - val_loss: 1728.9615\n",
      "Epoch 300/500\n",
      "24/24 [==============================] - 0s 5ms/step - loss: 360.7408 - val_loss: 1728.9625\n",
      "Epoch 301/500\n",
      "24/24 [==============================] - 0s 5ms/step - loss: 360.7408 - val_loss: 1728.9628\n",
      "Epoch 302/500\n",
      "24/24 [==============================] - 0s 5ms/step - loss: 360.7410 - val_loss: 1728.9640\n",
      "Epoch 303/500\n",
      "24/24 [==============================] - 0s 5ms/step - loss: 360.7411 - val_loss: 1728.9646\n",
      "Epoch 304/500\n",
      "24/24 [==============================] - 0s 5ms/step - loss: 360.7414 - val_loss: 1728.9653\n",
      "Epoch 305/500\n",
      "24/24 [==============================] - 0s 4ms/step - loss: 360.7415 - val_loss: 1728.9663\n",
      "Epoch 306/500\n",
      "24/24 [==============================] - 0s 5ms/step - loss: 360.7417 - val_loss: 1728.9668\n",
      "Epoch 307/500\n",
      "24/24 [==============================] - 0s 5ms/step - loss: 360.7419 - val_loss: 1728.9673\n",
      "Epoch 308/500\n",
      "24/24 [==============================] - 0s 5ms/step - loss: 360.7421 - val_loss: 1728.9681\n",
      "Epoch 309/500\n",
      "24/24 [==============================] - 0s 5ms/step - loss: 360.7421 - val_loss: 1728.9689\n",
      "Epoch 310/500\n",
      "24/24 [==============================] - 0s 5ms/step - loss: 360.7423 - val_loss: 1728.9702\n",
      "Epoch 311/500\n",
      "24/24 [==============================] - 0s 5ms/step - loss: 360.7424 - val_loss: 1728.9714\n",
      "Epoch 312/500\n",
      "24/24 [==============================] - 0s 4ms/step - loss: 360.7425 - val_loss: 1728.9730\n",
      "Epoch 313/500\n",
      "24/24 [==============================] - 0s 4ms/step - loss: 360.7427 - val_loss: 1728.9755\n",
      "Epoch 314/500\n",
      "24/24 [==============================] - 0s 5ms/step - loss: 360.7429 - val_loss: 1728.9801\n",
      "Epoch 315/500\n",
      "24/24 [==============================] - 0s 5ms/step - loss: 360.7430 - val_loss: 1728.9769\n",
      "Epoch 316/500\n",
      "24/24 [==============================] - 0s 5ms/step - loss: 360.7464 - val_loss: 1727.8352\n",
      "Epoch 317/500\n",
      "24/24 [==============================] - 0s 5ms/step - loss: 361.1567 - val_loss: 1735.1758\n",
      "Epoch 318/500\n",
      "24/24 [==============================] - 0s 4ms/step - loss: 360.6657 - val_loss: 1734.2845\n",
      "Epoch 319/500\n",
      "24/24 [==============================] - 0s 5ms/step - loss: 360.6849 - val_loss: 1734.5074\n",
      "Epoch 320/500\n",
      "24/24 [==============================] - 0s 5ms/step - loss: 360.6777 - val_loss: 1734.1403\n",
      "Epoch 321/500\n",
      "24/24 [==============================] - 0s 5ms/step - loss: 360.6791 - val_loss: 1733.7947\n",
      "Epoch 322/500\n",
      "24/24 [==============================] - 0s 5ms/step - loss: 360.6823 - val_loss: 1733.4734\n",
      "Epoch 323/500\n",
      "24/24 [==============================] - 0s 5ms/step - loss: 360.6858 - val_loss: 1733.1741\n",
      "Epoch 324/500\n",
      "24/24 [==============================] - 0s 5ms/step - loss: 360.6895 - val_loss: 1732.8954\n",
      "Epoch 325/500\n",
      "24/24 [==============================] - 0s 5ms/step - loss: 360.6933 - val_loss: 1732.6355\n",
      "Epoch 326/500\n",
      "24/24 [==============================] - 0s 12ms/step - loss: 360.6970 - val_loss: 1732.3950\n",
      "Epoch 327/500\n",
      "24/24 [==============================] - 0s 5ms/step - loss: 360.7006 - val_loss: 1732.1703\n",
      "Epoch 328/500\n",
      "24/24 [==============================] - 0s 5ms/step - loss: 360.7041 - val_loss: 1731.9603\n",
      "Epoch 329/500\n",
      "24/24 [==============================] - 0s 5ms/step - loss: 360.7074 - val_loss: 1731.7655\n",
      "Epoch 330/500\n",
      "24/24 [==============================] - 0s 5ms/step - loss: 360.7105 - val_loss: 1731.5833\n",
      "Epoch 331/500\n",
      "24/24 [==============================] - 0s 5ms/step - loss: 360.7136 - val_loss: 1731.4135\n",
      "Epoch 332/500\n",
      "24/24 [==============================] - 0s 5ms/step - loss: 360.7166 - val_loss: 1731.2560\n",
      "Epoch 333/500\n",
      "24/24 [==============================] - 0s 5ms/step - loss: 360.7192 - val_loss: 1731.1085\n",
      "Epoch 334/500\n",
      "24/24 [==============================] - 0s 5ms/step - loss: 360.7218 - val_loss: 1730.9711\n",
      "Epoch 335/500\n",
      "24/24 [==============================] - 0s 5ms/step - loss: 360.7242 - val_loss: 1730.8429\n",
      "Epoch 336/500\n",
      "24/24 [==============================] - 0s 5ms/step - loss: 360.7265 - val_loss: 1730.7234\n",
      "Epoch 337/500\n",
      "24/24 [==============================] - 0s 5ms/step - loss: 360.7286 - val_loss: 1730.6122\n",
      "Epoch 338/500\n",
      "24/24 [==============================] - 0s 5ms/step - loss: 360.7306 - val_loss: 1730.5079\n",
      "Epoch 339/500\n",
      "24/24 [==============================] - 0s 5ms/step - loss: 360.7326 - val_loss: 1730.4111\n",
      "Epoch 340/500\n",
      "24/24 [==============================] - 0s 5ms/step - loss: 360.7344 - val_loss: 1730.3209\n",
      "Epoch 341/500\n",
      "24/24 [==============================] - 0s 5ms/step - loss: 360.7361 - val_loss: 1730.2371\n",
      "Epoch 342/500\n",
      "24/24 [==============================] - 0s 6ms/step - loss: 360.7375 - val_loss: 1730.1576\n",
      "Epoch 343/500\n",
      "24/24 [==============================] - 0s 6ms/step - loss: 360.7391 - val_loss: 1730.0846\n",
      "Epoch 344/500\n",
      "24/24 [==============================] - 0s 6ms/step - loss: 360.7405 - val_loss: 1730.0161\n",
      "Epoch 345/500\n",
      "24/24 [==============================] - 0s 5ms/step - loss: 360.7417 - val_loss: 1729.9520\n",
      "Epoch 346/500\n",
      "24/24 [==============================] - 0s 5ms/step - loss: 360.7429 - val_loss: 1729.8925\n",
      "Epoch 347/500\n",
      "24/24 [==============================] - 0s 5ms/step - loss: 360.7440 - val_loss: 1729.8365\n",
      "Epoch 348/500\n",
      "24/24 [==============================] - 0s 5ms/step - loss: 360.7451 - val_loss: 1729.7845\n",
      "Epoch 349/500\n",
      "24/24 [==============================] - 0s 5ms/step - loss: 360.7461 - val_loss: 1729.7358\n",
      "Epoch 350/500\n",
      "24/24 [==============================] - 0s 5ms/step - loss: 360.7471 - val_loss: 1729.6909\n",
      "Epoch 351/500\n",
      "24/24 [==============================] - 0s 5ms/step - loss: 360.7479 - val_loss: 1729.6482\n",
      "Epoch 352/500\n",
      "24/24 [==============================] - 0s 5ms/step - loss: 360.7488 - val_loss: 1729.6090\n",
      "Epoch 353/500\n",
      "24/24 [==============================] - 0s 5ms/step - loss: 360.7495 - val_loss: 1729.5720\n",
      "Epoch 354/500\n",
      "24/24 [==============================] - 0s 4ms/step - loss: 360.7502 - val_loss: 1729.5378\n",
      "Epoch 355/500\n",
      "24/24 [==============================] - 0s 9ms/step - loss: 360.7509 - val_loss: 1729.5054\n",
      "Epoch 356/500\n",
      "24/24 [==============================] - 0s 7ms/step - loss: 360.7515 - val_loss: 1729.4760\n",
      "Epoch 357/500\n",
      "24/24 [==============================] - 0s 6ms/step - loss: 360.7520 - val_loss: 1729.4478\n",
      "Epoch 358/500\n",
      "24/24 [==============================] - 0s 6ms/step - loss: 360.7526 - val_loss: 1729.4215\n",
      "Epoch 359/500\n",
      "24/24 [==============================] - 0s 5ms/step - loss: 360.7532 - val_loss: 1729.3977\n",
      "Epoch 360/500\n",
      "24/24 [==============================] - 0s 5ms/step - loss: 360.7537 - val_loss: 1729.3750\n",
      "Epoch 361/500\n",
      "24/24 [==============================] - 0s 5ms/step - loss: 360.7539 - val_loss: 1729.3536\n",
      "Epoch 362/500\n",
      "24/24 [==============================] - 0s 5ms/step - loss: 360.7544 - val_loss: 1729.3335\n",
      "Epoch 363/500\n",
      "24/24 [==============================] - 0s 5ms/step - loss: 360.7549 - val_loss: 1729.3152\n",
      "Epoch 364/500\n",
      "24/24 [==============================] - 0s 5ms/step - loss: 360.7552 - val_loss: 1729.2977\n",
      "Epoch 365/500\n",
      "24/24 [==============================] - 0s 5ms/step - loss: 360.7555 - val_loss: 1729.2809\n",
      "Epoch 366/500\n",
      "24/24 [==============================] - 0s 5ms/step - loss: 360.7558 - val_loss: 1729.2662\n",
      "Epoch 367/500\n",
      "24/24 [==============================] - 0s 5ms/step - loss: 360.7561 - val_loss: 1729.2522\n",
      "Epoch 368/500\n",
      "24/24 [==============================] - 0s 5ms/step - loss: 360.7564 - val_loss: 1729.2390\n",
      "Epoch 369/500\n",
      "24/24 [==============================] - 0s 4ms/step - loss: 360.7567 - val_loss: 1729.2272\n",
      "Epoch 370/500\n",
      "24/24 [==============================] - 0s 4ms/step - loss: 360.7569 - val_loss: 1729.2161\n",
      "Epoch 371/500\n",
      "24/24 [==============================] - 0s 4ms/step - loss: 360.7571 - val_loss: 1729.2056\n",
      "Epoch 372/500\n",
      "24/24 [==============================] - 0s 5ms/step - loss: 360.7573 - val_loss: 1729.1957\n",
      "Epoch 373/500\n",
      "24/24 [==============================] - 0s 5ms/step - loss: 360.7575 - val_loss: 1729.1865\n",
      "Epoch 374/500\n",
      "24/24 [==============================] - 0s 4ms/step - loss: 360.7577 - val_loss: 1729.1776\n",
      "Epoch 375/500\n",
      "24/24 [==============================] - 0s 5ms/step - loss: 360.7578 - val_loss: 1729.1694\n",
      "Epoch 376/500\n",
      "24/24 [==============================] - 0s 4ms/step - loss: 360.7580 - val_loss: 1729.1616\n",
      "Epoch 377/500\n",
      "24/24 [==============================] - 0s 5ms/step - loss: 360.7581 - val_loss: 1729.1547\n",
      "Epoch 378/500\n",
      "24/24 [==============================] - 0s 5ms/step - loss: 360.7583 - val_loss: 1729.1483\n",
      "Epoch 379/500\n",
      "24/24 [==============================] - 0s 4ms/step - loss: 360.7585 - val_loss: 1729.1431\n",
      "Epoch 380/500\n",
      "24/24 [==============================] - 0s 5ms/step - loss: 360.7585 - val_loss: 1729.1370\n",
      "Epoch 381/500\n",
      "24/24 [==============================] - 0s 5ms/step - loss: 360.7587 - val_loss: 1729.1321\n",
      "Epoch 382/500\n",
      "24/24 [==============================] - 0s 5ms/step - loss: 360.7587 - val_loss: 1729.1273\n",
      "Epoch 383/500\n",
      "24/24 [==============================] - 0s 5ms/step - loss: 360.7589 - val_loss: 1729.1230\n",
      "Epoch 384/500\n",
      "24/24 [==============================] - 0s 11ms/step - loss: 360.7589 - val_loss: 1729.1188\n",
      "Epoch 385/500\n",
      "24/24 [==============================] - 0s 6ms/step - loss: 360.7590 - val_loss: 1729.1147\n",
      "Epoch 386/500\n",
      "24/24 [==============================] - 0s 5ms/step - loss: 360.7590 - val_loss: 1729.1104\n",
      "Epoch 387/500\n",
      "24/24 [==============================] - 0s 5ms/step - loss: 360.7591 - val_loss: 1729.1069\n",
      "Epoch 388/500\n",
      "24/24 [==============================] - 0s 5ms/step - loss: 360.7591 - val_loss: 1729.1031\n",
      "Epoch 389/500\n",
      "24/24 [==============================] - 0s 5ms/step - loss: 360.7593 - val_loss: 1729.1002\n",
      "Epoch 390/500\n",
      "24/24 [==============================] - 0s 5ms/step - loss: 360.7593 - val_loss: 1729.0964\n",
      "Epoch 391/500\n",
      "24/24 [==============================] - 0s 5ms/step - loss: 360.7594 - val_loss: 1729.0934\n",
      "Epoch 392/500\n",
      "24/24 [==============================] - 0s 5ms/step - loss: 360.7595 - val_loss: 1729.0914\n",
      "Epoch 393/500\n",
      "24/24 [==============================] - 0s 5ms/step - loss: 360.7595 - val_loss: 1729.0889\n",
      "Epoch 394/500\n",
      "24/24 [==============================] - 0s 4ms/step - loss: 360.7596 - val_loss: 1729.0865\n",
      "Epoch 395/500\n",
      "24/24 [==============================] - 0s 4ms/step - loss: 360.7596 - val_loss: 1729.0846\n",
      "Epoch 396/500\n",
      "24/24 [==============================] - 0s 4ms/step - loss: 360.7596 - val_loss: 1729.0833\n",
      "Epoch 397/500\n",
      "24/24 [==============================] - 0s 4ms/step - loss: 360.7597 - val_loss: 1729.0814\n",
      "Epoch 398/500\n",
      "24/24 [==============================] - 0s 4ms/step - loss: 360.7597 - val_loss: 1729.0800\n",
      "Epoch 399/500\n",
      "24/24 [==============================] - 0s 5ms/step - loss: 360.7597 - val_loss: 1729.0787\n",
      "Epoch 400/500\n",
      "24/24 [==============================] - 0s 4ms/step - loss: 360.7598 - val_loss: 1729.0776\n",
      "Epoch 401/500\n",
      "24/24 [==============================] - 0s 5ms/step - loss: 360.7597 - val_loss: 1729.0767\n",
      "Epoch 402/500\n",
      "24/24 [==============================] - 0s 5ms/step - loss: 360.7598 - val_loss: 1729.0748\n",
      "Epoch 403/500\n",
      "24/24 [==============================] - 0s 5ms/step - loss: 360.7598 - val_loss: 1729.0735\n",
      "Epoch 404/500\n",
      "24/24 [==============================] - 0s 6ms/step - loss: 360.7599 - val_loss: 1729.0728\n",
      "Epoch 405/500\n",
      "24/24 [==============================] - 0s 6ms/step - loss: 360.7599 - val_loss: 1729.0714\n",
      "Epoch 406/500\n",
      "24/24 [==============================] - 0s 7ms/step - loss: 360.7598 - val_loss: 1729.0704\n",
      "Epoch 407/500\n",
      "24/24 [==============================] - 0s 6ms/step - loss: 360.7599 - val_loss: 1729.0697\n",
      "Epoch 408/500\n",
      "24/24 [==============================] - 0s 6ms/step - loss: 360.7599 - val_loss: 1729.0695\n",
      "Epoch 409/500\n",
      "24/24 [==============================] - 0s 5ms/step - loss: 360.7599 - val_loss: 1729.0687\n",
      "Epoch 410/500\n",
      "24/24 [==============================] - 0s 4ms/step - loss: 360.7599 - val_loss: 1729.0674\n",
      "Epoch 411/500\n",
      "24/24 [==============================] - 0s 11ms/step - loss: 360.7599 - val_loss: 1729.0669\n",
      "Epoch 412/500\n",
      "24/24 [==============================] - 0s 5ms/step - loss: 360.7600 - val_loss: 1729.0658\n",
      "Epoch 413/500\n",
      "24/24 [==============================] - 0s 6ms/step - loss: 360.7600 - val_loss: 1729.0657\n",
      "Epoch 414/500\n",
      "24/24 [==============================] - 0s 6ms/step - loss: 360.7600 - val_loss: 1729.0658\n",
      "Epoch 415/500\n",
      "24/24 [==============================] - 0s 5ms/step - loss: 360.7600 - val_loss: 1729.0654\n",
      "Epoch 416/500\n",
      "24/24 [==============================] - 0s 5ms/step - loss: 360.7600 - val_loss: 1729.0652\n",
      "Epoch 417/500\n",
      "24/24 [==============================] - 0s 5ms/step - loss: 360.7600 - val_loss: 1729.0649\n",
      "Epoch 418/500\n",
      "24/24 [==============================] - 0s 5ms/step - loss: 360.7599 - val_loss: 1729.0645\n",
      "Epoch 419/500\n",
      "24/24 [==============================] - 0s 5ms/step - loss: 360.7599 - val_loss: 1729.0643\n",
      "Epoch 420/500\n",
      "24/24 [==============================] - 0s 5ms/step - loss: 360.7600 - val_loss: 1729.0638\n",
      "Epoch 421/500\n",
      "24/24 [==============================] - 0s 5ms/step - loss: 360.7601 - val_loss: 1729.0645\n",
      "Epoch 422/500\n",
      "24/24 [==============================] - 0s 5ms/step - loss: 360.7600 - val_loss: 1729.0638\n",
      "Epoch 423/500\n",
      "24/24 [==============================] - 0s 5ms/step - loss: 360.7600 - val_loss: 1729.0638\n",
      "Epoch 424/500\n",
      "24/24 [==============================] - 0s 5ms/step - loss: 360.7600 - val_loss: 1729.0635\n",
      "Epoch 425/500\n",
      "24/24 [==============================] - 0s 5ms/step - loss: 360.7600 - val_loss: 1729.0635\n",
      "Epoch 426/500\n",
      "24/24 [==============================] - 0s 5ms/step - loss: 360.7600 - val_loss: 1729.0635\n",
      "Epoch 427/500\n",
      "24/24 [==============================] - 0s 5ms/step - loss: 360.7600 - val_loss: 1729.0626\n",
      "Epoch 428/500\n",
      "24/24 [==============================] - 0s 5ms/step - loss: 360.7601 - val_loss: 1729.0624\n",
      "Epoch 429/500\n",
      "24/24 [==============================] - 0s 5ms/step - loss: 360.7601 - val_loss: 1729.0621\n",
      "Epoch 430/500\n",
      "24/24 [==============================] - 0s 5ms/step - loss: 360.7601 - val_loss: 1729.0619\n",
      "Epoch 431/500\n",
      "24/24 [==============================] - 0s 5ms/step - loss: 360.7601 - val_loss: 1729.0621\n",
      "Epoch 432/500\n",
      "24/24 [==============================] - 0s 5ms/step - loss: 360.7602 - val_loss: 1729.0621\n",
      "Epoch 433/500\n",
      "24/24 [==============================] - 0s 5ms/step - loss: 360.7601 - val_loss: 1729.0625\n",
      "Epoch 434/500\n",
      "24/24 [==============================] - 0s 5ms/step - loss: 360.7601 - val_loss: 1729.0619\n",
      "Epoch 435/500\n",
      "24/24 [==============================] - 0s 12ms/step - loss: 360.7601 - val_loss: 1729.0619\n",
      "Epoch 436/500\n",
      "24/24 [==============================] - 0s 6ms/step - loss: 360.7600 - val_loss: 1729.0619\n",
      "Epoch 437/500\n",
      "24/24 [==============================] - 0s 5ms/step - loss: 360.7601 - val_loss: 1729.0619\n",
      "Epoch 438/500\n",
      "24/24 [==============================] - 0s 5ms/step - loss: 360.7600 - val_loss: 1729.0620\n",
      "Epoch 439/500\n",
      "24/24 [==============================] - 0s 6ms/step - loss: 360.7600 - val_loss: 1729.0620\n",
      "Epoch 440/500\n",
      "24/24 [==============================] - 0s 5ms/step - loss: 360.7601 - val_loss: 1729.0619\n",
      "Epoch 441/500\n",
      "24/24 [==============================] - 0s 5ms/step - loss: 360.7601 - val_loss: 1729.0619\n",
      "Epoch 442/500\n",
      "24/24 [==============================] - 0s 5ms/step - loss: 360.7600 - val_loss: 1729.0619\n",
      "Epoch 443/500\n",
      "24/24 [==============================] - 0s 4ms/step - loss: 360.7600 - val_loss: 1729.0615\n",
      "Epoch 444/500\n",
      "24/24 [==============================] - 0s 4ms/step - loss: 360.7600 - val_loss: 1729.0615\n",
      "Epoch 445/500\n",
      "24/24 [==============================] - 0s 5ms/step - loss: 360.7600 - val_loss: 1729.0612\n",
      "Epoch 446/500\n",
      "24/24 [==============================] - 0s 5ms/step - loss: 360.7600 - val_loss: 1729.0609\n",
      "Epoch 447/500\n",
      "24/24 [==============================] - 0s 5ms/step - loss: 360.7600 - val_loss: 1729.0605\n",
      "Epoch 448/500\n",
      "24/24 [==============================] - 0s 5ms/step - loss: 360.7600 - val_loss: 1729.0602\n",
      "Epoch 449/500\n",
      "24/24 [==============================] - 0s 5ms/step - loss: 360.7601 - val_loss: 1729.0602\n",
      "Epoch 450/500\n",
      "24/24 [==============================] - 0s 5ms/step - loss: 360.7601 - val_loss: 1729.0602\n",
      "Epoch 451/500\n",
      "24/24 [==============================] - 0s 5ms/step - loss: 360.7601 - val_loss: 1729.0610\n",
      "Epoch 452/500\n",
      "24/24 [==============================] - 0s 5ms/step - loss: 360.7601 - val_loss: 1729.0609\n",
      "Epoch 453/500\n",
      "24/24 [==============================] - 0s 5ms/step - loss: 360.7601 - val_loss: 1729.0605\n",
      "Epoch 454/500\n",
      "24/24 [==============================] - 0s 5ms/step - loss: 360.7601 - val_loss: 1729.0605\n",
      "Epoch 455/500\n",
      "24/24 [==============================] - 0s 5ms/step - loss: 360.7601 - val_loss: 1729.0605\n",
      "Epoch 456/500\n",
      "24/24 [==============================] - 0s 5ms/step - loss: 360.7601 - val_loss: 1729.0609\n",
      "Epoch 457/500\n",
      "24/24 [==============================] - 0s 5ms/step - loss: 360.7601 - val_loss: 1729.0607\n",
      "Epoch 458/500\n",
      "24/24 [==============================] - 0s 5ms/step - loss: 360.7600 - val_loss: 1729.0607\n",
      "Epoch 459/500\n",
      "24/24 [==============================] - 0s 9ms/step - loss: 360.7600 - val_loss: 1729.0605\n",
      "Epoch 460/500\n",
      "24/24 [==============================] - 0s 6ms/step - loss: 360.7600 - val_loss: 1729.0598\n",
      "Epoch 461/500\n",
      "24/24 [==============================] - 0s 6ms/step - loss: 360.7600 - val_loss: 1729.0596\n",
      "Epoch 462/500\n",
      "24/24 [==============================] - 0s 5ms/step - loss: 360.7600 - val_loss: 1729.0592\n",
      "Epoch 463/500\n",
      "24/24 [==============================] - 0s 6ms/step - loss: 360.7601 - val_loss: 1729.0588\n",
      "Epoch 464/500\n",
      "24/24 [==============================] - 0s 5ms/step - loss: 360.7601 - val_loss: 1729.0583\n",
      "Epoch 465/500\n",
      "24/24 [==============================] - 0s 5ms/step - loss: 360.7601 - val_loss: 1729.0582\n",
      "Epoch 466/500\n",
      "24/24 [==============================] - 0s 4ms/step - loss: 360.7601 - val_loss: 1729.0581\n",
      "Epoch 467/500\n",
      "24/24 [==============================] - 0s 4ms/step - loss: 360.7601 - val_loss: 1729.0577\n",
      "Epoch 468/500\n",
      "24/24 [==============================] - 0s 4ms/step - loss: 360.7601 - val_loss: 1729.0577\n",
      "Epoch 469/500\n",
      "24/24 [==============================] - 0s 4ms/step - loss: 360.7600 - val_loss: 1729.0574\n",
      "Epoch 470/500\n",
      "24/24 [==============================] - 0s 4ms/step - loss: 360.7601 - val_loss: 1729.0573\n",
      "Epoch 471/500\n",
      "24/24 [==============================] - 0s 5ms/step - loss: 360.7601 - val_loss: 1729.0568\n",
      "Epoch 472/500\n",
      "24/24 [==============================] - 0s 5ms/step - loss: 360.7602 - val_loss: 1729.0565\n",
      "Epoch 473/500\n",
      "24/24 [==============================] - 0s 5ms/step - loss: 360.7602 - val_loss: 1729.0565\n",
      "Epoch 474/500\n",
      "24/24 [==============================] - 0s 5ms/step - loss: 360.7602 - val_loss: 1729.0565\n",
      "Epoch 475/500\n",
      "24/24 [==============================] - 0s 5ms/step - loss: 360.7602 - val_loss: 1729.0565\n",
      "Epoch 476/500\n",
      "24/24 [==============================] - 0s 5ms/step - loss: 360.7602 - val_loss: 1729.0565\n",
      "Epoch 477/500\n",
      "24/24 [==============================] - 0s 5ms/step - loss: 360.7602 - val_loss: 1729.0565\n",
      "Epoch 478/500\n",
      "24/24 [==============================] - 0s 5ms/step - loss: 360.7602 - val_loss: 1729.0565\n",
      "Epoch 479/500\n",
      "24/24 [==============================] - 0s 5ms/step - loss: 360.7601 - val_loss: 1729.0565\n",
      "Epoch 480/500\n",
      "24/24 [==============================] - 0s 5ms/step - loss: 360.7602 - val_loss: 1729.0571\n",
      "Epoch 481/500\n",
      "24/24 [==============================] - 0s 5ms/step - loss: 360.7601 - val_loss: 1729.0569\n",
      "Epoch 482/500\n",
      "24/24 [==============================] - 0s 5ms/step - loss: 360.7601 - val_loss: 1729.0569\n",
      "Epoch 483/500\n",
      "24/24 [==============================] - 0s 11ms/step - loss: 360.7602 - val_loss: 1729.0573\n",
      "Epoch 484/500\n",
      "24/24 [==============================] - 0s 6ms/step - loss: 360.7601 - val_loss: 1729.0574\n",
      "Epoch 485/500\n",
      "24/24 [==============================] - 0s 6ms/step - loss: 360.7601 - val_loss: 1729.0573\n",
      "Epoch 486/500\n",
      "24/24 [==============================] - 0s 6ms/step - loss: 360.7601 - val_loss: 1729.0574\n",
      "Epoch 487/500\n",
      "24/24 [==============================] - 0s 6ms/step - loss: 360.7601 - val_loss: 1729.0574\n",
      "Epoch 488/500\n",
      "24/24 [==============================] - 0s 5ms/step - loss: 360.7601 - val_loss: 1729.0576\n",
      "Epoch 489/500\n",
      "24/24 [==============================] - 0s 5ms/step - loss: 360.7601 - val_loss: 1729.0579\n",
      "Epoch 490/500\n",
      "24/24 [==============================] - 0s 5ms/step - loss: 360.7601 - val_loss: 1729.0582\n",
      "Epoch 491/500\n",
      "24/24 [==============================] - 0s 5ms/step - loss: 360.7602 - val_loss: 1729.0583\n",
      "Epoch 492/500\n",
      "24/24 [==============================] - 0s 5ms/step - loss: 360.7601 - val_loss: 1729.0582\n",
      "Epoch 493/500\n",
      "24/24 [==============================] - 0s 4ms/step - loss: 360.7601 - val_loss: 1729.0582\n",
      "Epoch 494/500\n",
      "24/24 [==============================] - 0s 4ms/step - loss: 360.7602 - val_loss: 1729.0582\n",
      "Epoch 495/500\n",
      "24/24 [==============================] - 0s 5ms/step - loss: 360.7602 - val_loss: 1729.0583\n",
      "Epoch 496/500\n",
      "24/24 [==============================] - 0s 5ms/step - loss: 360.7602 - val_loss: 1729.0586\n",
      "Epoch 497/500\n",
      "24/24 [==============================] - 0s 6ms/step - loss: 360.7602 - val_loss: 1729.0588\n",
      "Epoch 498/500\n",
      "24/24 [==============================] - 0s 5ms/step - loss: 360.7602 - val_loss: 1729.0586\n",
      "Epoch 499/500\n",
      "24/24 [==============================] - 0s 5ms/step - loss: 360.7602 - val_loss: 1729.0582\n",
      "Epoch 500/500\n",
      "24/24 [==============================] - 0s 5ms/step - loss: 360.7602 - val_loss: 1729.0582\n"
     ]
    }
   ],
   "source": [
    "C0 = tf.Variable(85.7336, name=\"C0\", trainable=True, dtype=tf.float32)\n",
    "K0 = tf.Variable(-0.0020, name=\"K0\", trainable=True, dtype=tf.float32)\n",
    "K1 = tf.Variable(-0.0002, name=\"K1\", trainable=True, dtype=tf.float32)\n",
    "a = tf.Variable(0.0000, name=\"a\", trainable=True, dtype=tf.float32)\n",
    "b = tf.Variable(0.0125, name=\"b\", trainable=True, dtype=tf.float32)\n",
    "c = tf.Variable(2.3008, name=\"c\", trainable=True, dtype=tf.float32)\n",
    "\n",
    "splitr = 0.8\n",
    "\n",
    "\n",
    "def loss_fn(y_true, y_pred):\n",
    "    squared_difference = tf.square(y_true[:, 0] - y_pred[:, 0])\n",
    "    #squared_difference2 = tf.square(y_true[:, 2]-y_pred[:, 2])\n",
    "    #squared_difference1 = tf.square(y_true[:, 1]-y_pred[:, 1])\n",
    "    epsilon = 1\n",
    "    squared_difference3 = tf.square(\n",
    "        y_pred[:, 1] - (\n",
    "            y_pred[:, 0] * (\n",
    "                K0 - K1 * (\n",
    "                    9 * a * tf.math.log((y_pred[:, 0] + epsilon) / C0) / (K0 - K1 * c)**2 +\n",
    "                    4 * b * tf.math.log((y_pred[:, 0] + epsilon) / C0) / (K0 - K1 * c) + c\n",
    "                )\n",
    "            )\n",
    "        )\n",
    "    )\n",
    "    return tf.reduce_mean(squared_difference, axis=-1) + 0.2*tf.reduce_mean(squared_difference3, axis=-1)\n",
    "model = Sequential()\n",
    "model.add(LSTM(100, input_shape=(trainX.shape[1], trainX.shape[2])))\n",
    "model.add(Dense(60))\n",
    "model.compile(loss=loss_fn, optimizer='adam')\n",
    "history = model.fit(trainX[:int(splitr*trainX.shape[0])], trainy[:int(splitr*trainX.shape[0])], epochs=500, batch_size=64, validation_data=(trainX[int(splitr*trainX.shape[0]):trainX.shape[0]], trainy[int(splitr*trainX.shape[0]):trainX.shape[0]]), shuffle=False)"
   ]
  },
  {
   "cell_type": "code",
   "execution_count": 19,
   "metadata": {
    "colab": {
     "base_uri": "https://localhost:8080/"
    },
    "id": "yJL101rPyuoT",
    "outputId": "239ff2b1-c186-423a-d316-939dfdd7c793"
   },
   "outputs": [
    {
     "name": "stdout",
     "output_type": "stream",
     "text": [
      "1/1 [==============================] - 0s 410ms/step\n"
     ]
    }
   ],
   "source": [
    "forecast_without_mc = forecastX\n",
    "yhat_without_mc = model.predict(forecast_without_mc) # Step Ahead Prediction\n",
    "forecast_without_mc = forecast_without_mc.reshape((forecast_without_mc.shape[0], forecast_without_mc.shape[2])) # Historical Input"
   ]
  },
  {
   "cell_type": "code",
   "execution_count": 20,
   "metadata": {
    "colab": {
     "base_uri": "https://localhost:8080/"
    },
    "id": "g9dQELcJ8wbp",
    "outputId": "4dc7671b-b1a8-48d5-8744-a86f98446109"
   },
   "outputs": [
    {
     "data": {
      "text/plain": [
       "(1, 1, 251)"
      ]
     },
     "execution_count": 20,
     "metadata": {},
     "output_type": "execute_result"
    }
   ],
   "source": [
    "forecastX.shape"
   ]
  },
  {
   "cell_type": "code",
   "execution_count": 21,
   "metadata": {
    "colab": {
     "base_uri": "https://localhost:8080/"
    },
    "id": "IS2kyIKG1Kbr",
    "outputId": "f31b3485-8e26-452f-9298-ea8bf7e80ad1"
   },
   "outputs": [
    {
     "data": {
      "text/plain": [
       "(1, 251)"
      ]
     },
     "execution_count": 21,
     "metadata": {},
     "output_type": "execute_result"
    }
   ],
   "source": [
    "forecast_without_mc.shape"
   ]
  },
  {
   "cell_type": "code",
   "execution_count": 22,
   "metadata": {
    "id": "0u6VIzaDyuoT"
   },
   "outputs": [],
   "source": [
    "inv_yhat_without_mc = np.concatenate((forecast_without_mc, yhat_without_mc), axis=1) # Concatenation of predicted values with Historical Data\n",
    "#inv_yhat_without_mc = scaler.inverse_transform(inv_yhat_without_mc) # Transform labels back to original encoding"
   ]
  },
  {
   "cell_type": "code",
   "execution_count": 23,
   "metadata": {
    "colab": {
     "base_uri": "https://localhost:8080/"
    },
    "id": "EUEcw0LX07oU",
    "outputId": "cfc32397-9c37-4b43-d087-584bb31c3dcc"
   },
   "outputs": [
    {
     "data": {
      "text/plain": [
       "(1, 311)"
      ]
     },
     "execution_count": 23,
     "metadata": {},
     "output_type": "execute_result"
    }
   ],
   "source": [
    "inv_yhat_without_mc.shape"
   ]
  },
  {
   "cell_type": "code",
   "execution_count": 24,
   "metadata": {
    "id": "31OWVbSh_305"
   },
   "outputs": [],
   "source": [
    "fforecast = inv_yhat_without_mc[:,-300:]"
   ]
  },
  {
   "cell_type": "code",
   "execution_count": 25,
   "metadata": {},
   "outputs": [
    {
     "data": {
      "text/plain": [
       "(1, 300)"
      ]
     },
     "execution_count": 25,
     "metadata": {},
     "output_type": "execute_result"
    }
   ],
   "source": [
    "fforecast.shape"
   ]
  },
  {
   "cell_type": "code",
   "execution_count": 26,
   "metadata": {
    "id": "BlpGH2FOAiRF"
   },
   "outputs": [],
   "source": [
    "final_forecast = fforecast[:,0:300:3]"
   ]
  },
  {
   "cell_type": "code",
   "execution_count": 27,
   "metadata": {},
   "outputs": [
    {
     "data": {
      "text/plain": [
       "(1, 300)"
      ]
     },
     "execution_count": 27,
     "metadata": {},
     "output_type": "execute_result"
    }
   ],
   "source": [
    "fforecast.shape"
   ]
  },
  {
   "cell_type": "code",
   "execution_count": 28,
   "metadata": {
    "id": "CXkgkj_LBk_t"
   },
   "outputs": [],
   "source": [
    "# code to replace all negative value with 0\n",
    "final_forecast[final_forecast<0] = 0"
   ]
  },
  {
   "cell_type": "code",
   "execution_count": 29,
   "metadata": {},
   "outputs": [
    {
     "data": {
      "text/plain": [
       "array([[6.51796219e+01, 6.96545285e+01, 6.84444444e+01, 6.71979342e+01,\n",
       "        6.35367088e+01, 0.00000000e+00, 0.00000000e+00, 4.61061150e-01,\n",
       "        0.00000000e+00, 0.00000000e+00, 0.00000000e+00, 3.45991400e-01,\n",
       "        6.67689680e-01, 6.55913865e+01, 6.53644958e+01, 6.51376050e+01,\n",
       "        5.73102950e-01, 0.00000000e+00, 6.61563609e+01, 6.59168651e+01,\n",
       "        6.56838235e+01, 6.54556933e+01, 6.52300420e+01, 6.99234360e+01,\n",
       "        6.87133520e+01, 6.74752451e+01, 0.00000000e+00, 4.26903900e-01,\n",
       "        1.72087370e-01, 6.53224790e+01, 7.02082166e+01, 6.82063492e+01,\n",
       "        6.69843685e+01, 6.57834080e+01, 1.77785600e-01, 6.80144608e+01,\n",
       "        6.67665616e+01, 6.60410481e+01, 0.00000000e+00, 0.00000000e+00,\n",
       "        6.06198692e+01, 0.00000000e+00, 5.15083492e-01, 1.45723358e-01,\n",
       "        1.05602193e+00, 0.00000000e+00, 1.13051116e-01, 6.77525560e+01,\n",
       "        2.82885670e-01, 3.54694840e-01, 0.00000000e+00, 6.53728992e+01,\n",
       "        6.51460084e+01, 6.84752568e+01, 6.72649594e+01, 6.60496337e+01,\n",
       "        0.00000000e+00, 6.82917717e+01, 6.70438726e+01, 6.62007119e+01,\n",
       "        2.59407600e-01, 4.76310400e-01, 6.75214636e+01, 0.00000000e+00,\n",
       "        6.82455532e+01, 6.69976541e+01, 6.61741013e+01, 0.00000000e+00,\n",
       "        6.65111695e+01, 6.57930672e+01, 7.22844544e+01, 0.00000000e+00,\n",
       "        0.00000000e+00, 6.84504166e+01, 0.00000000e+00, 0.00000000e+00,\n",
       "        1.13289070e+00, 6.20516658e-01, 0.00000000e+00, 0.00000000e+00,\n",
       "        6.41262894e+01, 5.85166156e-01, 1.26371264e+00, 0.00000000e+00,\n",
       "        2.62031943e-01, 0.00000000e+00, 0.00000000e+00, 0.00000000e+00,\n",
       "        1.38526142e-01, 0.00000000e+00, 0.00000000e+00, 0.00000000e+00,\n",
       "        0.00000000e+00, 0.00000000e+00, 3.11877668e-01, 3.39882106e-01,\n",
       "        0.00000000e+00, 0.00000000e+00, 1.15224496e-02, 1.12400830e+00]])"
      ]
     },
     "execution_count": 29,
     "metadata": {},
     "output_type": "execute_result"
    }
   ],
   "source": [
    "final_forecast"
   ]
  },
  {
   "cell_type": "code",
   "execution_count": 30,
   "metadata": {},
   "outputs": [
    {
     "data": {
      "text/plain": [
       "(1, 100)"
      ]
     },
     "execution_count": 30,
     "metadata": {},
     "output_type": "execute_result"
    }
   ],
   "source": [
    "final_forecast.shape"
   ]
  },
  {
   "cell_type": "code",
   "execution_count": 31,
   "metadata": {},
   "outputs": [
    {
     "data": {
      "text/plain": [
       "(100,)"
      ]
     },
     "execution_count": 31,
     "metadata": {},
     "output_type": "execute_result"
    }
   ],
   "source": [
    "test.shape"
   ]
  },
  {
   "cell_type": "code",
   "execution_count": 32,
   "metadata": {},
   "outputs": [],
   "source": [
    "training_set = np.array(training_set)\n",
    "test = np.array(test)\n",
    "final_forecast = np.array(final_forecast.squeeze(0))"
   ]
  },
  {
   "cell_type": "code",
   "execution_count": 33,
   "metadata": {},
   "outputs": [
    {
     "data": {
      "text/plain": [
       "array([56.64371797, 56.63469973, 56.62568149, 56.61666325, 56.60764501,\n",
       "       56.59862677, 56.58960853, 56.58059028, 56.57157204, 56.5625538 ,\n",
       "       56.55353556, 56.54451732, 56.53549908, 56.52648084, 56.51746259,\n",
       "       56.50844435, 56.49942611, 56.49040787, 56.48138963, 56.47237139,\n",
       "       56.46335315, 56.4543349 , 56.44531666, 56.43629842, 56.42728018,\n",
       "       56.41826194, 56.4092437 , 56.40022546, 56.39120721, 56.38218897,\n",
       "       56.37317073, 56.36415249, 56.35513425, 56.34611601, 56.33709777,\n",
       "       56.32807952, 56.31906128, 56.31004304, 56.3010248 , 56.29200656,\n",
       "       56.28298832, 56.27397008, 56.26495183, 56.25593359, 56.24691535,\n",
       "       56.23789711, 56.22887887, 56.21986063, 56.21084239, 56.20182414,\n",
       "       56.1928059 , 56.18378766, 56.17476942, 56.16575118, 56.15673294,\n",
       "       56.1477147 , 56.13869645, 56.12967821, 56.12065997, 56.11164173,\n",
       "       56.10262349, 56.09360525, 56.08458701, 56.07556876, 56.06655052,\n",
       "       56.05753228, 56.04851404, 56.0394958 , 56.03047756, 56.02145932,\n",
       "       56.01244107, 56.00342283, 55.99440459, 55.98538635, 55.97636811,\n",
       "       55.96734987, 55.95833163, 55.94931338, 55.94029514, 55.9312769 ,\n",
       "       55.92225866, 55.91324042, 55.90422218, 55.89520394, 55.88618569,\n",
       "       55.87716745, 55.86814921, 55.85913097, 55.85011273, 55.84109449,\n",
       "       55.83207625, 55.823058  , 55.81403976, 55.80502152, 55.79600328,\n",
       "       55.78698504, 55.7779668 , 55.76894856, 55.75993031, 55.75091207])"
      ]
     },
     "execution_count": 33,
     "metadata": {},
     "output_type": "execute_result"
    }
   ],
   "source": [
    "test"
   ]
  },
  {
   "cell_type": "code",
   "execution_count": 34,
   "metadata": {},
   "outputs": [
    {
     "data": {
      "text/plain": [
       "(100,)"
      ]
     },
     "execution_count": 34,
     "metadata": {},
     "output_type": "execute_result"
    }
   ],
   "source": [
    "test.shape"
   ]
  },
  {
   "cell_type": "code",
   "execution_count": 35,
   "metadata": {},
   "outputs": [
    {
     "data": {
      "text/plain": [
       "(100,)"
      ]
     },
     "execution_count": 35,
     "metadata": {},
     "output_type": "execute_result"
    }
   ],
   "source": [
    "final_forecast.shape"
   ]
  },
  {
   "cell_type": "code",
   "execution_count": 36,
   "metadata": {},
   "outputs": [
    {
     "data": {
      "text/plain": [
       "(100,)"
      ]
     },
     "execution_count": 36,
     "metadata": {},
     "output_type": "execute_result"
    }
   ],
   "source": [
    "test.shape"
   ]
  },
  {
   "cell_type": "code",
   "execution_count": 37,
   "metadata": {},
   "outputs": [
    {
     "name": "stdout",
     "output_type": "stream",
     "text": [
      "42.78553880017365\n",
      "36.36263431357591\n"
     ]
    }
   ],
   "source": [
    "import math\n",
    "MSE = np.square(np.subtract(np.array(test),np.array(final_forecast))).mean()   \n",
    "rsme = math.sqrt(MSE)\n",
    "print(rsme)  \n",
    "MAE = np.abs(np.subtract(np.array(test),np.array(final_forecast))).mean()   \n",
    "mae = MAE\n",
    "print(mae)"
   ]
  }
 ],
 "metadata": {
  "colab": {
   "provenance": []
  },
  "kernelspec": {
   "display_name": "Python 3",
   "language": "python",
   "name": "python3"
  },
  "language_info": {
   "codemirror_mode": {
    "name": "ipython",
    "version": 3
   },
   "file_extension": ".py",
   "mimetype": "text/x-python",
   "name": "python",
   "nbconvert_exporter": "python",
   "pygments_lexer": "ipython3",
   "version": "3.9.13"
  }
 },
 "nbformat": 4,
 "nbformat_minor": 0
}
