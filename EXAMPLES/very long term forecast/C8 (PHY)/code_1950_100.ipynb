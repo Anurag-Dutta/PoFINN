{
 "cells": [
  {
   "cell_type": "markdown",
   "metadata": {
    "id": "pCGKeZ2gyuoQ"
   },
   "source": [
    "_Importing Required Libraries_"
   ]
  },
  {
   "cell_type": "code",
   "execution_count": 1,
   "metadata": {
    "colab": {
     "base_uri": "https://localhost:8080/"
    },
    "id": "A-6LN-zXiLcM",
    "outputId": "4de610a4-f8b8-4f49-c6c0-89de299ccedc"
   },
   "outputs": [
    {
     "name": "stdout",
     "output_type": "stream",
     "text": [
      "Requirement already satisfied: hampel in c:\\users\\anurag dutta\\appdata\\local\\packages\\pythonsoftwarefoundation.python.3.9_qbz5n2kfra8p0\\localcache\\local-packages\\python39\\site-packages (0.0.5)\n",
      "Requirement already satisfied: numpy in c:\\users\\anurag dutta\\appdata\\local\\packages\\pythonsoftwarefoundation.python.3.9_qbz5n2kfra8p0\\localcache\\local-packages\\python39\\site-packages (from hampel) (1.26.4)\n",
      "Requirement already satisfied: pandas in c:\\users\\anurag dutta\\appdata\\local\\packages\\pythonsoftwarefoundation.python.3.9_qbz5n2kfra8p0\\localcache\\local-packages\\python39\\site-packages (from hampel) (1.5.2)\n",
      "Requirement already satisfied: python-dateutil>=2.8.1 in c:\\users\\anurag dutta\\appdata\\local\\packages\\pythonsoftwarefoundation.python.3.9_qbz5n2kfra8p0\\localcache\\local-packages\\python39\\site-packages (from pandas->hampel) (2.8.2)\n",
      "Requirement already satisfied: pytz>=2020.1 in c:\\users\\anurag dutta\\appdata\\local\\packages\\pythonsoftwarefoundation.python.3.9_qbz5n2kfra8p0\\localcache\\local-packages\\python39\\site-packages (from pandas->hampel) (2023.3.post1)\n",
      "Requirement already satisfied: six>=1.5 in c:\\users\\anurag dutta\\appdata\\local\\packages\\pythonsoftwarefoundation.python.3.9_qbz5n2kfra8p0\\localcache\\local-packages\\python39\\site-packages (from python-dateutil>=2.8.1->pandas->hampel) (1.16.0)\n",
      "Note: you may need to restart the kernel to use updated packages.\n"
     ]
    },
    {
     "name": "stderr",
     "output_type": "stream",
     "text": [
      "\n",
      "[notice] A new release of pip is available: 24.2 -> 24.3.1\n",
      "[notice] To update, run: C:\\Users\\Anurag Dutta\\AppData\\Local\\Microsoft\\WindowsApps\\PythonSoftwareFoundation.Python.3.9_qbz5n2kfra8p0\\python.exe -m pip install --upgrade pip\n"
     ]
    }
   ],
   "source": [
    "pip install hampel"
   ]
  },
  {
   "cell_type": "code",
   "execution_count": 2,
   "metadata": {
    "id": "By_d9uXpaFvZ"
   },
   "outputs": [],
   "source": [
    "from keras.models import Sequential\n",
    "from keras.layers import Dense\n",
    "from keras.layers import LSTM\n",
    "from keras.layers import Dropout\n",
    "import keras\n",
    "import tensorflow as tf\n",
    "from hampel import hampel\n",
    "import numpy as np\n",
    "import matplotlib.pyplot as plt\n",
    "import pandas as pd\n",
    "from sklearn.preprocessing import MinMaxScaler\n",
    "from sklearn.metrics import mean_squared_error, mean_absolute_error\n",
    "from math import sqrt\n",
    "from matplotlib import pyplot\n",
    "from numpy import array"
   ]
  },
  {
   "cell_type": "markdown",
   "metadata": {
    "id": "JyOjBMFayuoR"
   },
   "source": [
    "## Pretraining"
   ]
  },
  {
   "cell_type": "markdown",
   "metadata": {
    "id": "-5QqIY_GyuoR"
   },
   "source": [
    "The `capa_intermittency.dat` feeds the model with the dynamics of the Capacitor"
   ]
  },
  {
   "cell_type": "code",
   "execution_count": 3,
   "metadata": {
    "id": "9dV4a8yfyuoR"
   },
   "outputs": [],
   "source": [
    "data = np.genfromtxt('capa_intermittency.dat')\n",
    "training_set = pd.DataFrame(data).reset_index(drop=True)\n",
    "training_set = training_set.iloc[:,0]"
   ]
  },
  {
   "cell_type": "markdown",
   "metadata": {
    "id": "i7easoxByuoR"
   },
   "source": [
    "## Computing the Gradient"
   ]
  },
  {
   "cell_type": "markdown",
   "metadata": {
    "id": "5SnyolJTyuoR"
   },
   "source": [
    "_Calculating the value of_ $\\frac{dx}{dt}$"
   ]
  },
  {
   "cell_type": "code",
   "execution_count": 4,
   "metadata": {
    "colab": {
     "base_uri": "https://localhost:8080/"
    },
    "id": "wmIbVfIvyuoR",
    "outputId": "aa4e3136-c854-465d-d2e9-81cfd546e440"
   },
   "outputs": [
    {
     "name": "stdout",
     "output_type": "stream",
     "text": [
      "1.0\n",
      "1        0.000298\n",
      "2        0.000298\n",
      "3        0.000297\n",
      "4        0.000297\n",
      "5        0.000297\n",
      "           ...   \n",
      "9996     0.000018\n",
      "9997     0.000018\n",
      "9998     0.000018\n",
      "9999     0.000018\n",
      "10000    0.000018\n",
      "Name: 0, Length: 10000, dtype: float64\n"
     ]
    }
   ],
   "source": [
    "t_diff = 1\n",
    "print(training_set.max())\n",
    "gradient_t = (training_set.diff()/t_diff).iloc[1:] # dx/dt\n",
    "print(gradient_t)"
   ]
  },
  {
   "cell_type": "markdown",
   "metadata": {
    "id": "_2eVeeoxyuoS"
   },
   "source": [
    "## Loading Datasets"
   ]
  },
  {
   "cell_type": "code",
   "execution_count": 5,
   "metadata": {
    "id": "0J-NKyIEyuoS"
   },
   "outputs": [
    {
     "data": {
      "text/plain": [
       "0       88.200000\n",
       "1       87.987115\n",
       "2       87.774230\n",
       "3       87.561345\n",
       "4       87.348459\n",
       "          ...    \n",
       "2045    59.052299\n",
       "2046    59.047164\n",
       "2047    59.042028\n",
       "2048    59.036893\n",
       "2049    59.031758\n",
       "Name: C8, Length: 2050, dtype: float64"
      ]
     },
     "execution_count": 5,
     "metadata": {},
     "output_type": "execute_result"
    }
   ],
   "source": [
    "data = pd.read_csv(\"c8_interpolated_1950_100.csv\")\n",
    "training_set = data.iloc[:, 1]\n",
    "training_set"
   ]
  },
  {
   "cell_type": "code",
   "execution_count": 6,
   "metadata": {
    "colab": {
     "base_uri": "https://localhost:8080/"
    },
    "id": "-CbNUhJ74UqF",
    "outputId": "20f562d8-8247-49cc-b9c3-00eca5e13e2d"
   },
   "outputs": [
    {
     "data": {
      "text/plain": [
       "0       88.200000\n",
       "1       87.987115\n",
       "2       87.774230\n",
       "3       87.561345\n",
       "4       87.348459\n",
       "          ...    \n",
       "1945     0.289124\n",
       "1946     0.102327\n",
       "1947     0.667690\n",
       "1948     0.000000\n",
       "1949     0.000000\n",
       "Name: C8, Length: 1950, dtype: float64"
      ]
     },
     "execution_count": 6,
     "metadata": {},
     "output_type": "execute_result"
    }
   ],
   "source": [
    "test = training_set.tail(100)\n",
    "test\n",
    "training_set = training_set.head(1950)\n",
    "training_set"
   ]
  },
  {
   "cell_type": "code",
   "execution_count": 7,
   "metadata": {
    "colab": {
     "base_uri": "https://localhost:8080/"
    },
    "id": "X0TwTcq0yuoS",
    "outputId": "37252ed8-d88e-4044-fa7a-922411990b5b"
   },
   "outputs": [
    {
     "name": "stdout",
     "output_type": "stream",
     "text": [
      "0       0.000298\n",
      "1       0.000298\n",
      "2       0.000297\n",
      "3       0.000297\n",
      "4       0.000297\n",
      "          ...   \n",
      "9995    0.000018\n",
      "9996    0.000018\n",
      "9997    0.000018\n",
      "9998    0.000018\n",
      "9999    0.000018\n",
      "Name: 0, Length: 10000, dtype: float64\n"
     ]
    }
   ],
   "source": [
    "training_set = training_set.reset_index(drop=True)\n",
    "gradient_t = gradient_t.reset_index(drop=True)\n",
    "print(gradient_t)"
   ]
  },
  {
   "cell_type": "code",
   "execution_count": 8,
   "metadata": {
    "id": "O2biznZQyuoS"
   },
   "outputs": [],
   "source": [
    "df = pd.concat((training_set, gradient_t), axis=1)\n",
    "df.columns = ['y_t', 'grad_t']"
   ]
  },
  {
   "cell_type": "code",
   "execution_count": 9,
   "metadata": {
    "colab": {
     "base_uri": "https://localhost:8080/",
     "height": 423
    },
    "id": "sk_a5v3tyuoS",
    "outputId": "17563625-e550-45ae-faab-fafa353e44da"
   },
   "outputs": [
    {
     "data": {
      "text/html": [
       "<div>\n",
       "<style scoped>\n",
       "    .dataframe tbody tr th:only-of-type {\n",
       "        vertical-align: middle;\n",
       "    }\n",
       "\n",
       "    .dataframe tbody tr th {\n",
       "        vertical-align: top;\n",
       "    }\n",
       "\n",
       "    .dataframe thead th {\n",
       "        text-align: right;\n",
       "    }\n",
       "</style>\n",
       "<table border=\"1\" class=\"dataframe\">\n",
       "  <thead>\n",
       "    <tr style=\"text-align: right;\">\n",
       "      <th></th>\n",
       "      <th>y_t</th>\n",
       "      <th>grad_t</th>\n",
       "    </tr>\n",
       "  </thead>\n",
       "  <tbody>\n",
       "    <tr>\n",
       "      <th>0</th>\n",
       "      <td>88.200000</td>\n",
       "      <td>0.000298</td>\n",
       "    </tr>\n",
       "    <tr>\n",
       "      <th>1</th>\n",
       "      <td>87.987115</td>\n",
       "      <td>0.000298</td>\n",
       "    </tr>\n",
       "    <tr>\n",
       "      <th>2</th>\n",
       "      <td>87.774230</td>\n",
       "      <td>0.000297</td>\n",
       "    </tr>\n",
       "    <tr>\n",
       "      <th>3</th>\n",
       "      <td>87.561345</td>\n",
       "      <td>0.000297</td>\n",
       "    </tr>\n",
       "    <tr>\n",
       "      <th>4</th>\n",
       "      <td>87.348459</td>\n",
       "      <td>0.000297</td>\n",
       "    </tr>\n",
       "    <tr>\n",
       "      <th>...</th>\n",
       "      <td>...</td>\n",
       "      <td>...</td>\n",
       "    </tr>\n",
       "    <tr>\n",
       "      <th>9995</th>\n",
       "      <td>NaN</td>\n",
       "      <td>0.000018</td>\n",
       "    </tr>\n",
       "    <tr>\n",
       "      <th>9996</th>\n",
       "      <td>NaN</td>\n",
       "      <td>0.000018</td>\n",
       "    </tr>\n",
       "    <tr>\n",
       "      <th>9997</th>\n",
       "      <td>NaN</td>\n",
       "      <td>0.000018</td>\n",
       "    </tr>\n",
       "    <tr>\n",
       "      <th>9998</th>\n",
       "      <td>NaN</td>\n",
       "      <td>0.000018</td>\n",
       "    </tr>\n",
       "    <tr>\n",
       "      <th>9999</th>\n",
       "      <td>NaN</td>\n",
       "      <td>0.000018</td>\n",
       "    </tr>\n",
       "  </tbody>\n",
       "</table>\n",
       "<p>10000 rows × 2 columns</p>\n",
       "</div>"
      ],
      "text/plain": [
       "            y_t    grad_t\n",
       "0     88.200000  0.000298\n",
       "1     87.987115  0.000298\n",
       "2     87.774230  0.000297\n",
       "3     87.561345  0.000297\n",
       "4     87.348459  0.000297\n",
       "...         ...       ...\n",
       "9995        NaN  0.000018\n",
       "9996        NaN  0.000018\n",
       "9997        NaN  0.000018\n",
       "9998        NaN  0.000018\n",
       "9999        NaN  0.000018\n",
       "\n",
       "[10000 rows x 2 columns]"
      ]
     },
     "execution_count": 9,
     "metadata": {},
     "output_type": "execute_result"
    }
   ],
   "source": [
    "df"
   ]
  },
  {
   "cell_type": "markdown",
   "metadata": {
    "id": "-5esyHu5aFvg"
   },
   "source": [
    "## Plot of the External Forcing from Chaotic Differential Equation"
   ]
  },
  {
   "cell_type": "code",
   "execution_count": 10,
   "metadata": {
    "colab": {
     "base_uri": "https://localhost:8080/",
     "height": 447
    },
    "id": "hGnE43tOh-4p",
    "outputId": "fc396503-b624-4fa5-dfbe-f460207405c6"
   },
   "outputs": [
    {
     "data": {
      "text/plain": [
       "<Axes: >"
      ]
     },
     "execution_count": 10,
     "metadata": {},
     "output_type": "execute_result"
    },
    {
     "data": {
      "image/png": "[encoded data removed]",
      "text/plain": [
       "<Figure size 432x288 with 1 Axes>"
      ]
     },
     "metadata": {
      "needs_background": "light"
     },
     "output_type": "display_data"
    }
   ],
   "source": [
    "df.iloc[:, 0].plot()"
   ]
  },
  {
   "cell_type": "code",
   "execution_count": 11,
   "metadata": {
    "colab": {
     "base_uri": "https://localhost:8080/",
     "height": 447
    },
    "id": "ym4xWUUxaFvg",
    "outputId": "ae6a3495-8ce9-437e-ba81-3ed31deedeae"
   },
   "outputs": [
    {
     "name": "stderr",
     "output_type": "stream",
     "text": [
      "C:\\Users\\Anurag Dutta\\AppData\\Local\\Packages\\PythonSoftwareFoundation.Python.3.9_qbz5n2kfra8p0\\LocalCache\\local-packages\\Python39\\site-packages\\pandas\\core\\arraylike.py:402: RuntimeWarning: divide by zero encountered in log\n",
      "  result = getattr(ufunc, method)(*inputs, **kwargs)\n"
     ]
    },
    {
     "data": {
      "text/plain": [
       "<Axes: >"
      ]
     },
     "execution_count": 11,
     "metadata": {},
     "output_type": "execute_result"
    },
    {
     "data": {
      "image/png": "[encoded data removed]",
      "text/plain": [
       "<Figure size 432x288 with 1 Axes>"
      ]
     },
     "metadata": {
      "needs_background": "light"
     },
     "output_type": "display_data"
    }
   ],
   "source": [
    "import numpy as np\n",
    "c0 = 85.7336  # Value for C0\n",
    "K0 = -0.0020  # Value for K0\n",
    "K1 = 0.0002  # Value for K1\n",
    "a = 0.0000    # Value for a\n",
    "b = 0.0125    # Value for b\n",
    "c = 2.3008    # Value for c\n",
    "\n",
    "L = np.minimum(c0, (df.iloc[:, 1] - (df.iloc[:, 0] * (K0 - K1 * (9 * a * np.log(df.iloc[:, 0] / c0) / (K0 - K1 * c)**2 + 4 * b * np.log(df.iloc[:, 0] / c0) / (K0 - K1 * c) + c)))))\n",
    "L.plot()"
   ]
  },
  {
   "cell_type": "markdown",
   "metadata": {
    "id": "9VyEywnwaFvh"
   },
   "source": [
    "## Preprocessing the data into supervised learning"
   ]
  },
  {
   "cell_type": "code",
   "execution_count": 12,
   "metadata": {
    "id": "6V9dXqzdaFvh"
   },
   "outputs": [],
   "source": [
    "# split a sequence into samples\n",
    "def Supervised(data, n_in=1, n_out=1, dropnan=True):\n",
    "    n_vars = 1 if type(data) is list else data.shape[1]\n",
    "    df = pd.DataFrame(data)\n",
    "    cols, names = list(), list()\n",
    "    # input sequence (t-n_in, ... t-1)\n",
    "    for i in range(n_in, 0, -1):\n",
    "        cols.append(df.shift(i))\n",
    "        names += [('var%d(t-%d)' % (j+1, i)) for j in range(n_vars)]\n",
    "    # forecast sequence (t, t+1, ... t+n_out)\n",
    "    for i in range(0, n_out):\n",
    "      cols.append(df.shift(-i))\n",
    "      if i == 0:\n",
    "        names += [('var%d(t)' % (j+1)) for j in range(n_vars)]\n",
    "      else:\n",
    "        names += [('var%d(t+%d)' % (j+1, i)) for j in range(n_vars)]\n",
    "    # put it all together\n",
    "    agg = pd.concat(cols, axis=1)\n",
    "    agg.columns = names\n",
    "    # drop rows with NaN values\n",
    "    if dropnan:\n",
    "       agg.dropna(inplace=True)\n",
    "    return agg"
   ]
  },
  {
   "cell_type": "code",
   "execution_count": 13,
   "metadata": {
    "colab": {
     "base_uri": "https://localhost:8080/"
    },
    "id": "CrzSrT1HnyfH",
    "outputId": "7e75f928-3e47-499d-eac1-51908015ef78"
   },
   "outputs": [
    {
     "name": "stdout",
     "output_type": "stream",
     "text": [
      "     var1(t-350)  var1(t-349)  var1(t-348)  var1(t-347)  var1(t-346)  \\\n",
      "350    88.200000    87.987115    87.774230    87.561345    87.348459   \n",
      "351    87.987115    87.774230    87.561345    87.348459    87.135574   \n",
      "352    87.774230    87.561345    87.348459    87.135574    86.922689   \n",
      "353    87.561345    87.348459    87.135574    86.922689    86.709804   \n",
      "354    87.348459    87.135574    86.922689    86.709804    86.496919   \n",
      "\n",
      "     var1(t-345)  var1(t-344)  var1(t-343)  var1(t-342)  var1(t-341)  ...  \\\n",
      "350    87.135574    86.922689    86.709804    86.496919    86.294538  ...   \n",
      "351    86.922689    86.709804    86.496919    86.294538    86.221709  ...   \n",
      "352    86.709804    86.496919    86.294538    86.221709    86.148880  ...   \n",
      "353    86.496919    86.294538    86.221709    86.148880    86.076050  ...   \n",
      "354    86.294538    86.221709    86.148880    86.076050    86.003221  ...   \n",
      "\n",
      "     var1(t+95)  var2(t+95)  var1(t+96)  var2(t+96)  var1(t+97)  var2(t+97)  \\\n",
      "350   76.094351    0.000263   76.058870    0.000263   76.023389    0.000263   \n",
      "351   76.058870    0.000263   76.023389    0.000263   75.987909    0.000262   \n",
      "352   76.023389    0.000263   75.987909    0.000262   75.952428    0.000262   \n",
      "353   75.987909    0.000262   75.952428    0.000262   75.916947    0.000262   \n",
      "354   75.952428    0.000262   75.916947    0.000262   75.881466    0.000262   \n",
      "\n",
      "     var1(t+98)  var2(t+98)  var1(t+99)  var2(t+99)  \n",
      "350   75.987909    0.000262   75.952428    0.000262  \n",
      "351   75.952428    0.000262   75.916947    0.000262  \n",
      "352   75.916947    0.000262   75.881466    0.000262  \n",
      "353   75.881466    0.000262   75.845985    0.000262  \n",
      "354   75.845985    0.000262   75.810504    0.000262  \n",
      "\n",
      "[5 rows x 551 columns]\n",
      "Index(['var1(t-350)', 'var1(t-349)', 'var1(t-348)', 'var1(t-347)',\n",
      "       'var1(t-346)', 'var1(t-345)', 'var1(t-344)', 'var1(t-343)',\n",
      "       'var1(t-342)', 'var1(t-341)',\n",
      "       ...\n",
      "       'var1(t+95)', 'var2(t+95)', 'var1(t+96)', 'var2(t+96)', 'var1(t+97)',\n",
      "       'var2(t+97)', 'var1(t+98)', 'var2(t+98)', 'var1(t+99)', 'var2(t+99)'],\n",
      "      dtype='object', length=551)\n"
     ]
    }
   ],
   "source": [
    "data = Supervised(df.values, n_in = 350, n_out = 100)\n",
    "\n",
    "\n",
    "cols_to_drop = []\n",
    "for i in range(2, 351):\n",
    "    cols_to_drop.extend([f'var2(t-{i})'])\n",
    "\n",
    "data.drop(cols_to_drop, axis=1, inplace=True)\n",
    "\n",
    "print(data.head())\n",
    "print(data.columns)"
   ]
  },
  {
   "cell_type": "code",
   "execution_count": 14,
   "metadata": {
    "id": "AfPf60oy6Pe4"
   },
   "outputs": [],
   "source": [
    "train = np.array(data[0:len(data)-1])\n",
    "forecast = np.array(data.tail(1))"
   ]
  },
  {
   "cell_type": "code",
   "execution_count": 15,
   "metadata": {
    "id": "WSAafzI37KiT"
   },
   "outputs": [],
   "source": [
    "trainy = train[:,-300:]\n",
    "trainX = train[:,:-300]"
   ]
  },
  {
   "cell_type": "code",
   "execution_count": 16,
   "metadata": {
    "id": "2SrOqVJA7f50"
   },
   "outputs": [],
   "source": [
    "forecasty = forecast[:,-300:]\n",
    "forecastX = forecast[:,:-300]"
   ]
  },
  {
   "cell_type": "code",
   "execution_count": 17,
   "metadata": {
    "colab": {
     "base_uri": "https://localhost:8080/"
    },
    "id": "Qno_k8Nw7saY",
    "outputId": "c4a88db5-d8c6-489f-cdb2-06b24e293cff"
   },
   "outputs": [
    {
     "name": "stdout",
     "output_type": "stream",
     "text": [
      "(1500, 1, 251) (1500, 300) (1, 1, 251)\n"
     ]
    }
   ],
   "source": [
    "trainX = trainX.reshape((trainX.shape[0], 1, trainX.shape[1]))\n",
    "forecastX = forecastX.reshape((forecastX.shape[0], 1, forecastX.shape[1]))\n",
    "print(trainX.shape, trainy.shape, forecastX.shape)"
   ]
  },
  {
   "cell_type": "code",
   "execution_count": 18,
   "metadata": {
    "colab": {
     "base_uri": "https://localhost:8080/"
    },
    "id": "b1Jp2DvNuNFx",
    "outputId": "d0e5b3c4-64f1-438c-eade-8dfeaac8e285"
   },
   "outputs": [
    {
     "name": "stdout",
     "output_type": "stream",
     "text": [
      "Epoch 1/500\n",
      "19/19 [==============================] - 2s 26ms/step - loss: 4686.0918 - val_loss: 3184.4612\n",
      "Epoch 2/500\n",
      "19/19 [==============================] - 0s 4ms/step - loss: 4439.3931 - val_loss: 3034.9749\n",
      "Epoch 3/500\n",
      "19/19 [==============================] - 0s 4ms/step - loss: 4326.1816 - val_loss: 2970.9609\n",
      "Epoch 4/500\n",
      "19/19 [==============================] - 0s 4ms/step - loss: 4249.0195 - val_loss: 2914.2383\n",
      "Epoch 5/500\n",
      "19/19 [==============================] - 0s 4ms/step - loss: 4172.8330 - val_loss: 2861.8359\n",
      "Epoch 6/500\n",
      "19/19 [==============================] - 0s 4ms/step - loss: 4098.9448 - val_loss: 2810.7366\n",
      "Epoch 7/500\n",
      "19/19 [==============================] - 0s 4ms/step - loss: 4026.5620 - val_loss: 2760.7871\n",
      "Epoch 8/500\n",
      "19/19 [==============================] - 0s 5ms/step - loss: 3955.5049 - val_loss: 2711.8816\n",
      "Epoch 9/500\n",
      "19/19 [==============================] - 0s 4ms/step - loss: 3885.6555 - val_loss: 2663.9524\n",
      "Epoch 10/500\n",
      "19/19 [==============================] - 0s 3ms/step - loss: 3816.9409 - val_loss: 2616.9526\n",
      "Epoch 11/500\n",
      "19/19 [==============================] - 0s 4ms/step - loss: 3749.3059 - val_loss: 2570.8481\n",
      "Epoch 12/500\n",
      "19/19 [==============================] - 0s 4ms/step - loss: 3682.7109 - val_loss: 2525.6116\n",
      "Epoch 13/500\n",
      "19/19 [==============================] - 0s 4ms/step - loss: 3617.1267 - val_loss: 2481.2209\n",
      "Epoch 14/500\n",
      "19/19 [==============================] - 0s 4ms/step - loss: 3552.5259 - val_loss: 2437.6575\n",
      "Epoch 15/500\n",
      "19/19 [==============================] - 0s 5ms/step - loss: 3488.8887 - val_loss: 2394.9053\n",
      "Epoch 16/500\n",
      "19/19 [==============================] - 0s 4ms/step - loss: 3426.1960 - val_loss: 2352.9490\n",
      "Epoch 17/500\n",
      "19/19 [==============================] - 0s 4ms/step - loss: 3364.4309 - val_loss: 2311.7754\n",
      "Epoch 18/500\n",
      "19/19 [==============================] - 0s 4ms/step - loss: 3303.5786 - val_loss: 2271.3728\n",
      "Epoch 19/500\n",
      "19/19 [==============================] - 0s 4ms/step - loss: 3243.6250 - val_loss: 2231.7288\n",
      "Epoch 20/500\n",
      "19/19 [==============================] - 0s 4ms/step - loss: 3184.5579 - val_loss: 2192.8330\n",
      "Epoch 21/500\n",
      "19/19 [==============================] - 0s 4ms/step - loss: 3126.3645 - val_loss: 2154.6755\n",
      "Epoch 22/500\n",
      "19/19 [==============================] - 0s 4ms/step - loss: 3069.0344 - val_loss: 2117.2451\n",
      "Epoch 23/500\n",
      "19/19 [==============================] - 0s 4ms/step - loss: 3012.5544 - val_loss: 2080.5334\n",
      "Epoch 24/500\n",
      "19/19 [==============================] - 0s 4ms/step - loss: 2956.9165 - val_loss: 2044.5304\n",
      "Epoch 25/500\n",
      "19/19 [==============================] - 0s 3ms/step - loss: 2902.1089 - val_loss: 2009.2269\n",
      "Epoch 26/500\n",
      "19/19 [==============================] - 0s 4ms/step - loss: 2848.1226 - val_loss: 1974.6147\n",
      "Epoch 27/500\n",
      "19/19 [==============================] - 0s 4ms/step - loss: 2794.9478 - val_loss: 1940.6848\n",
      "Epoch 28/500\n",
      "19/19 [==============================] - 0s 5ms/step - loss: 2742.5745 - val_loss: 1907.4286\n",
      "Epoch 29/500\n",
      "19/19 [==============================] - 0s 4ms/step - loss: 2690.9946 - val_loss: 1874.8384\n",
      "Epoch 30/500\n",
      "19/19 [==============================] - 0s 4ms/step - loss: 2640.1985 - val_loss: 1842.9052\n",
      "Epoch 31/500\n",
      "19/19 [==============================] - 0s 4ms/step - loss: 2590.1775 - val_loss: 1811.6212\n",
      "Epoch 32/500\n",
      "19/19 [==============================] - 0s 4ms/step - loss: 2540.9236 - val_loss: 1780.9788\n",
      "Epoch 33/500\n",
      "19/19 [==============================] - 0s 5ms/step - loss: 2492.4268 - val_loss: 1750.9700\n",
      "Epoch 34/500\n",
      "19/19 [==============================] - 0s 4ms/step - loss: 2444.6807 - val_loss: 1721.5873\n",
      "Epoch 35/500\n",
      "19/19 [==============================] - 0s 4ms/step - loss: 2397.6755 - val_loss: 1692.8224\n",
      "Epoch 36/500\n",
      "19/19 [==============================] - 0s 4ms/step - loss: 2351.4038 - val_loss: 1664.6683\n",
      "Epoch 37/500\n",
      "19/19 [==============================] - 0s 4ms/step - loss: 2305.8577 - val_loss: 1637.1176\n",
      "Epoch 38/500\n",
      "19/19 [==============================] - 0s 4ms/step - loss: 2261.0288 - val_loss: 1610.1630\n",
      "Epoch 39/500\n",
      "19/19 [==============================] - 0s 4ms/step - loss: 2216.9097 - val_loss: 1583.7966\n",
      "Epoch 40/500\n",
      "19/19 [==============================] - 0s 4ms/step - loss: 2173.4924 - val_loss: 1558.0118\n",
      "Epoch 41/500\n",
      "19/19 [==============================] - 0s 5ms/step - loss: 2130.7690 - val_loss: 1532.8005\n",
      "Epoch 42/500\n",
      "19/19 [==============================] - 0s 4ms/step - loss: 2088.7327 - val_loss: 1508.1567\n",
      "Epoch 43/500\n",
      "19/19 [==============================] - 0s 11ms/step - loss: 2047.3756 - val_loss: 1484.0725\n",
      "Epoch 44/500\n",
      "19/19 [==============================] - 0s 4ms/step - loss: 2006.6896 - val_loss: 1460.5419\n",
      "Epoch 45/500\n",
      "19/19 [==============================] - 0s 4ms/step - loss: 1966.6687 - val_loss: 1437.5565\n",
      "Epoch 46/500\n",
      "19/19 [==============================] - 0s 4ms/step - loss: 1927.3043 - val_loss: 1415.1105\n",
      "Epoch 47/500\n",
      "19/19 [==============================] - 0s 4ms/step - loss: 1888.5898 - val_loss: 1393.1967\n",
      "Epoch 48/500\n",
      "19/19 [==============================] - 0s 4ms/step - loss: 1850.5177 - val_loss: 1371.8085\n",
      "Epoch 49/500\n",
      "19/19 [==============================] - 0s 4ms/step - loss: 1813.0817 - val_loss: 1350.9390\n",
      "Epoch 50/500\n",
      "19/19 [==============================] - 0s 4ms/step - loss: 1776.2738 - val_loss: 1330.5813\n",
      "Epoch 51/500\n",
      "19/19 [==============================] - 0s 4ms/step - loss: 1740.0873 - val_loss: 1310.7292\n",
      "Epoch 52/500\n",
      "19/19 [==============================] - 0s 4ms/step - loss: 1704.5151 - val_loss: 1291.3761\n",
      "Epoch 53/500\n",
      "19/19 [==============================] - 0s 4ms/step - loss: 1669.5505 - val_loss: 1272.5145\n",
      "Epoch 54/500\n",
      "19/19 [==============================] - 0s 4ms/step - loss: 1635.1869 - val_loss: 1254.1392\n",
      "Epoch 55/500\n",
      "19/19 [==============================] - 0s 4ms/step - loss: 1601.4172 - val_loss: 1236.2426\n",
      "Epoch 56/500\n",
      "19/19 [==============================] - 0s 3ms/step - loss: 1568.2341 - val_loss: 1218.8190\n",
      "Epoch 57/500\n",
      "19/19 [==============================] - 0s 4ms/step - loss: 1535.6320 - val_loss: 1201.8618\n",
      "Epoch 58/500\n",
      "19/19 [==============================] - 0s 4ms/step - loss: 1503.6034 - val_loss: 1185.3645\n",
      "Epoch 59/500\n",
      "19/19 [==============================] - 0s 4ms/step - loss: 1472.1422 - val_loss: 1169.3207\n",
      "Epoch 60/500\n",
      "19/19 [==============================] - 0s 4ms/step - loss: 1441.2415 - val_loss: 1153.7241\n",
      "Epoch 61/500\n",
      "19/19 [==============================] - 0s 4ms/step - loss: 1410.8948 - val_loss: 1138.5687\n",
      "Epoch 62/500\n",
      "19/19 [==============================] - 0s 4ms/step - loss: 1381.0956 - val_loss: 1123.8480\n",
      "Epoch 63/500\n",
      "19/19 [==============================] - 0s 4ms/step - loss: 1351.8375 - val_loss: 1109.5565\n",
      "Epoch 64/500\n",
      "19/19 [==============================] - 0s 4ms/step - loss: 1323.1145 - val_loss: 1095.6871\n",
      "Epoch 65/500\n",
      "19/19 [==============================] - 0s 4ms/step - loss: 1294.9197 - val_loss: 1082.2340\n",
      "Epoch 66/500\n",
      "19/19 [==============================] - 0s 4ms/step - loss: 1267.2468 - val_loss: 1069.1912\n",
      "Epoch 67/500\n",
      "19/19 [==============================] - 0s 3ms/step - loss: 1240.0897 - val_loss: 1056.5527\n",
      "Epoch 68/500\n",
      "19/19 [==============================] - 0s 4ms/step - loss: 1213.4423 - val_loss: 1044.3125\n",
      "Epoch 69/500\n",
      "19/19 [==============================] - 0s 4ms/step - loss: 1187.2980 - val_loss: 1032.4644\n",
      "Epoch 70/500\n",
      "19/19 [==============================] - 0s 4ms/step - loss: 1161.6510 - val_loss: 1021.0026\n",
      "Epoch 71/500\n",
      "19/19 [==============================] - 0s 4ms/step - loss: 1136.4948 - val_loss: 1009.9213\n",
      "Epoch 72/500\n",
      "19/19 [==============================] - 0s 4ms/step - loss: 1111.8235 - val_loss: 999.2139\n",
      "Epoch 73/500\n",
      "19/19 [==============================] - 0s 4ms/step - loss: 1087.6310 - val_loss: 988.8754\n",
      "Epoch 74/500\n",
      "19/19 [==============================] - 0s 4ms/step - loss: 1063.9116 - val_loss: 978.8996\n",
      "Epoch 75/500\n",
      "19/19 [==============================] - 0s 4ms/step - loss: 1040.6587 - val_loss: 969.2805\n",
      "Epoch 76/500\n",
      "19/19 [==============================] - 0s 4ms/step - loss: 1017.8666 - val_loss: 960.0126\n",
      "Epoch 77/500\n",
      "19/19 [==============================] - 0s 5ms/step - loss: 995.5296 - val_loss: 951.0901\n",
      "Epoch 78/500\n",
      "19/19 [==============================] - 0s 4ms/step - loss: 973.6412 - val_loss: 942.5071\n",
      "Epoch 79/500\n",
      "19/19 [==============================] - 0s 4ms/step - loss: 952.1962 - val_loss: 934.2582\n",
      "Epoch 80/500\n",
      "19/19 [==============================] - 0s 4ms/step - loss: 931.1881 - val_loss: 926.3372\n",
      "Epoch 81/500\n",
      "19/19 [==============================] - 0s 4ms/step - loss: 910.6118 - val_loss: 918.7391\n",
      "Epoch 82/500\n",
      "19/19 [==============================] - 0s 4ms/step - loss: 890.4611 - val_loss: 911.4578\n",
      "Epoch 83/500\n",
      "19/19 [==============================] - 0s 4ms/step - loss: 870.7302 - val_loss: 904.4881\n",
      "Epoch 84/500\n",
      "19/19 [==============================] - 0s 4ms/step - loss: 851.4139 - val_loss: 897.8242\n",
      "Epoch 85/500\n",
      "19/19 [==============================] - 0s 4ms/step - loss: 832.5059 - val_loss: 891.4606\n",
      "Epoch 86/500\n",
      "19/19 [==============================] - 0s 4ms/step - loss: 814.0010 - val_loss: 885.3918\n",
      "Epoch 87/500\n",
      "19/19 [==============================] - 0s 4ms/step - loss: 795.8936 - val_loss: 879.6125\n",
      "Epoch 88/500\n",
      "19/19 [==============================] - 0s 4ms/step - loss: 778.1776 - val_loss: 874.1170\n",
      "Epoch 89/500\n",
      "19/19 [==============================] - 0s 4ms/step - loss: 760.8481 - val_loss: 868.9000\n",
      "Epoch 90/500\n",
      "19/19 [==============================] - 0s 4ms/step - loss: 743.8990 - val_loss: 863.9561\n",
      "Epoch 91/500\n",
      "19/19 [==============================] - 0s 11ms/step - loss: 727.3253 - val_loss: 859.2800\n",
      "Epoch 92/500\n",
      "19/19 [==============================] - 0s 4ms/step - loss: 711.1213 - val_loss: 854.8665\n",
      "Epoch 93/500\n",
      "19/19 [==============================] - 0s 5ms/step - loss: 695.2817 - val_loss: 850.7098\n",
      "Epoch 94/500\n",
      "19/19 [==============================] - 0s 4ms/step - loss: 679.8010 - val_loss: 846.8052\n",
      "Epoch 95/500\n",
      "19/19 [==============================] - 0s 4ms/step - loss: 664.6738 - val_loss: 843.1501\n",
      "Epoch 96/500\n",
      "19/19 [==============================] - 0s 4ms/step - loss: 649.8919 - val_loss: 839.4689\n",
      "Epoch 97/500\n",
      "19/19 [==============================] - 0s 4ms/step - loss: 633.3931 - val_loss: 834.0622\n",
      "Epoch 98/500\n",
      "19/19 [==============================] - 0s 4ms/step - loss: 616.1271 - val_loss: 832.1133\n",
      "Epoch 99/500\n",
      "19/19 [==============================] - 0s 4ms/step - loss: 599.9039 - val_loss: 829.0588\n",
      "Epoch 100/500\n",
      "19/19 [==============================] - 0s 4ms/step - loss: 584.5920 - val_loss: 826.3643\n",
      "Epoch 101/500\n",
      "19/19 [==============================] - 0s 4ms/step - loss: 569.9865 - val_loss: 823.9842\n",
      "Epoch 102/500\n",
      "19/19 [==============================] - 0s 4ms/step - loss: 555.9714 - val_loss: 821.8902\n",
      "Epoch 103/500\n",
      "19/19 [==============================] - 0s 4ms/step - loss: 542.4760 - val_loss: 820.0617\n",
      "Epoch 104/500\n",
      "19/19 [==============================] - 0s 4ms/step - loss: 529.4529 - val_loss: 818.4828\n",
      "Epoch 105/500\n",
      "19/19 [==============================] - 0s 4ms/step - loss: 516.8677 - val_loss: 817.1406\n",
      "Epoch 106/500\n",
      "19/19 [==============================] - 0s 4ms/step - loss: 504.6942 - val_loss: 816.0237\n",
      "Epoch 107/500\n",
      "19/19 [==============================] - 0s 4ms/step - loss: 492.9104 - val_loss: 815.1222\n",
      "Epoch 108/500\n",
      "19/19 [==============================] - 0s 4ms/step - loss: 481.4987 - val_loss: 814.4269\n",
      "Epoch 109/500\n",
      "19/19 [==============================] - 0s 4ms/step - loss: 470.4439 - val_loss: 813.9294\n",
      "Epoch 110/500\n",
      "19/19 [==============================] - 0s 4ms/step - loss: 459.7319 - val_loss: 813.6220\n",
      "Epoch 111/500\n",
      "19/19 [==============================] - 0s 4ms/step - loss: 449.3510 - val_loss: 813.4973\n",
      "Epoch 112/500\n",
      "19/19 [==============================] - 0s 4ms/step - loss: 439.2899 - val_loss: 813.5481\n",
      "Epoch 113/500\n",
      "19/19 [==============================] - 0s 4ms/step - loss: 429.5387 - val_loss: 813.7679\n",
      "Epoch 114/500\n",
      "19/19 [==============================] - 0s 4ms/step - loss: 420.0876 - val_loss: 814.1500\n",
      "Epoch 115/500\n",
      "19/19 [==============================] - 0s 4ms/step - loss: 410.9282 - val_loss: 814.6884\n",
      "Epoch 116/500\n",
      "19/19 [==============================] - 0s 4ms/step - loss: 402.0518 - val_loss: 815.3769\n",
      "Epoch 117/500\n",
      "19/19 [==============================] - 0s 4ms/step - loss: 393.4505 - val_loss: 816.2097\n",
      "Epoch 118/500\n",
      "19/19 [==============================] - 0s 4ms/step - loss: 385.1169 - val_loss: 817.1808\n",
      "Epoch 119/500\n",
      "19/19 [==============================] - 0s 5ms/step - loss: 377.0438 - val_loss: 818.2851\n",
      "Epoch 120/500\n",
      "19/19 [==============================] - 0s 4ms/step - loss: 369.2241 - val_loss: 819.5170\n",
      "Epoch 121/500\n",
      "19/19 [==============================] - 0s 4ms/step - loss: 361.6512 - val_loss: 820.8711\n",
      "Epoch 122/500\n",
      "19/19 [==============================] - 0s 4ms/step - loss: 354.3186 - val_loss: 822.3425\n",
      "Epoch 123/500\n",
      "19/19 [==============================] - 0s 4ms/step - loss: 347.2199 - val_loss: 823.9260\n",
      "Epoch 124/500\n",
      "19/19 [==============================] - 0s 4ms/step - loss: 340.3493 - val_loss: 825.6175\n",
      "Epoch 125/500\n",
      "19/19 [==============================] - 0s 4ms/step - loss: 333.7007 - val_loss: 827.4169\n",
      "Epoch 126/500\n",
      "19/19 [==============================] - 0s 5ms/step - loss: 327.2466 - val_loss: 829.1887\n",
      "Epoch 127/500\n",
      "19/19 [==============================] - 0s 4ms/step - loss: 321.2387 - val_loss: 831.4118\n",
      "Epoch 128/500\n",
      "19/19 [==============================] - 0s 4ms/step - loss: 313.5993 - val_loss: 833.7198\n",
      "Epoch 129/500\n",
      "19/19 [==============================] - 0s 3ms/step - loss: 306.5305 - val_loss: 836.1075\n",
      "Epoch 130/500\n",
      "19/19 [==============================] - 0s 4ms/step - loss: 299.9661 - val_loss: 838.5712\n",
      "Epoch 131/500\n",
      "19/19 [==============================] - 0s 10ms/step - loss: 293.8016 - val_loss: 841.1075\n",
      "Epoch 132/500\n",
      "19/19 [==============================] - 0s 4ms/step - loss: 287.9729 - val_loss: 843.7123\n",
      "Epoch 133/500\n",
      "19/19 [==============================] - 0s 4ms/step - loss: 282.4393 - val_loss: 846.3810\n",
      "Epoch 134/500\n",
      "19/19 [==============================] - 0s 4ms/step - loss: 277.1721 - val_loss: 849.1094\n",
      "Epoch 135/500\n",
      "19/19 [==============================] - 0s 4ms/step - loss: 272.1501 - val_loss: 851.8923\n",
      "Epoch 136/500\n",
      "19/19 [==============================] - 0s 5ms/step - loss: 267.3562 - val_loss: 854.7252\n",
      "Epoch 137/500\n",
      "19/19 [==============================] - 0s 5ms/step - loss: 262.7764 - val_loss: 857.6041\n",
      "Epoch 138/500\n",
      "19/19 [==============================] - 0s 4ms/step - loss: 258.3985 - val_loss: 860.5240\n",
      "Epoch 139/500\n",
      "19/19 [==============================] - 0s 4ms/step - loss: 254.2120 - val_loss: 863.4813\n",
      "Epoch 140/500\n",
      "19/19 [==============================] - 0s 4ms/step - loss: 250.2075 - val_loss: 866.4717\n",
      "Epoch 141/500\n",
      "19/19 [==============================] - 0s 4ms/step - loss: 246.3764 - val_loss: 869.4911\n",
      "Epoch 142/500\n",
      "19/19 [==============================] - 0s 5ms/step - loss: 242.7109 - val_loss: 872.5361\n",
      "Epoch 143/500\n",
      "19/19 [==============================] - 0s 4ms/step - loss: 239.2038 - val_loss: 875.6029\n",
      "Epoch 144/500\n",
      "19/19 [==============================] - 0s 4ms/step - loss: 235.8483 - val_loss: 878.6876\n",
      "Epoch 145/500\n",
      "19/19 [==============================] - 0s 4ms/step - loss: 232.6381 - val_loss: 881.7871\n",
      "Epoch 146/500\n",
      "19/19 [==============================] - 0s 4ms/step - loss: 229.5673 - val_loss: 884.8980\n",
      "Epoch 147/500\n",
      "19/19 [==============================] - 0s 4ms/step - loss: 226.6302 - val_loss: 888.0175\n",
      "Epoch 148/500\n",
      "19/19 [==============================] - 0s 4ms/step - loss: 223.8213 - val_loss: 891.1420\n",
      "Epoch 149/500\n",
      "19/19 [==============================] - 0s 4ms/step - loss: 221.1356 - val_loss: 894.2686\n",
      "Epoch 150/500\n",
      "19/19 [==============================] - 0s 4ms/step - loss: 218.5682 - val_loss: 897.3949\n",
      "Epoch 151/500\n",
      "19/19 [==============================] - 0s 4ms/step - loss: 216.1144 - val_loss: 900.5176\n",
      "Epoch 152/500\n",
      "19/19 [==============================] - 0s 4ms/step - loss: 213.7697 - val_loss: 903.6347\n",
      "Epoch 153/500\n",
      "19/19 [==============================] - 0s 4ms/step - loss: 211.5299 - val_loss: 906.7429\n",
      "Epoch 154/500\n",
      "19/19 [==============================] - 0s 4ms/step - loss: 209.3908 - val_loss: 909.8403\n",
      "Epoch 155/500\n",
      "19/19 [==============================] - 0s 3ms/step - loss: 207.3483 - val_loss: 912.9248\n",
      "Epoch 156/500\n",
      "19/19 [==============================] - 0s 4ms/step - loss: 205.3988 - val_loss: 915.9933\n",
      "Epoch 157/500\n",
      "19/19 [==============================] - 0s 4ms/step - loss: 203.5385 - val_loss: 919.0448\n",
      "Epoch 158/500\n",
      "19/19 [==============================] - 0s 4ms/step - loss: 201.7638 - val_loss: 922.0765\n",
      "Epoch 159/500\n",
      "19/19 [==============================] - 0s 3ms/step - loss: 200.0712 - val_loss: 925.0865\n",
      "Epoch 160/500\n",
      "19/19 [==============================] - 0s 4ms/step - loss: 198.4576 - val_loss: 928.0729\n",
      "Epoch 161/500\n",
      "19/19 [==============================] - 0s 5ms/step - loss: 196.9196 - val_loss: 931.0342\n",
      "Epoch 162/500\n",
      "19/19 [==============================] - 0s 4ms/step - loss: 195.4544 - val_loss: 933.9689\n",
      "Epoch 163/500\n",
      "19/19 [==============================] - 0s 4ms/step - loss: 194.0585 - val_loss: 936.8752\n",
      "Epoch 164/500\n",
      "19/19 [==============================] - 0s 4ms/step - loss: 192.7295 - val_loss: 939.7515\n",
      "Epoch 165/500\n",
      "19/19 [==============================] - 0s 4ms/step - loss: 191.4645 - val_loss: 942.5961\n",
      "Epoch 166/500\n",
      "19/19 [==============================] - 0s 4ms/step - loss: 190.2607 - val_loss: 945.4086\n",
      "Epoch 167/500\n",
      "19/19 [==============================] - 0s 10ms/step - loss: 189.1156 - val_loss: 948.1872\n",
      "Epoch 168/500\n",
      "19/19 [==============================] - 0s 4ms/step - loss: 188.0268 - val_loss: 950.9308\n",
      "Epoch 169/500\n",
      "19/19 [==============================] - 0s 4ms/step - loss: 186.9916 - val_loss: 953.6383\n",
      "Epoch 170/500\n",
      "19/19 [==============================] - 0s 4ms/step - loss: 186.0080 - val_loss: 956.3087\n",
      "Epoch 171/500\n",
      "19/19 [==============================] - 0s 3ms/step - loss: 185.0736 - val_loss: 958.9412\n",
      "Epoch 172/500\n",
      "19/19 [==============================] - 0s 4ms/step - loss: 184.1863 - val_loss: 961.5347\n",
      "Epoch 173/500\n",
      "19/19 [==============================] - 0s 4ms/step - loss: 183.3439 - val_loss: 964.0883\n",
      "Epoch 174/500\n",
      "19/19 [==============================] - 0s 4ms/step - loss: 182.5445 - val_loss: 966.6019\n",
      "Epoch 175/500\n",
      "19/19 [==============================] - 0s 4ms/step - loss: 181.7861 - val_loss: 969.0743\n",
      "Epoch 176/500\n",
      "19/19 [==============================] - 0s 5ms/step - loss: 181.0670 - val_loss: 971.5054\n",
      "Epoch 177/500\n",
      "19/19 [==============================] - 0s 4ms/step - loss: 180.3851 - val_loss: 973.8943\n",
      "Epoch 178/500\n",
      "19/19 [==============================] - 0s 4ms/step - loss: 179.7389 - val_loss: 976.2410\n",
      "Epoch 179/500\n",
      "19/19 [==============================] - 0s 3ms/step - loss: 179.1268 - val_loss: 978.5451\n",
      "Epoch 180/500\n",
      "19/19 [==============================] - 0s 4ms/step - loss: 178.5469 - val_loss: 980.8058\n",
      "Epoch 181/500\n",
      "19/19 [==============================] - 0s 4ms/step - loss: 177.9980 - val_loss: 983.0229\n",
      "Epoch 182/500\n",
      "19/19 [==============================] - 0s 4ms/step - loss: 177.4784 - val_loss: 985.1962\n",
      "Epoch 183/500\n",
      "19/19 [==============================] - 0s 5ms/step - loss: 176.9868 - val_loss: 987.3260\n",
      "Epoch 184/500\n",
      "19/19 [==============================] - 0s 4ms/step - loss: 176.5219 - val_loss: 989.4120\n",
      "Epoch 185/500\n",
      "19/19 [==============================] - 0s 4ms/step - loss: 176.0823 - val_loss: 991.4537\n",
      "Epoch 186/500\n",
      "19/19 [==============================] - 0s 4ms/step - loss: 175.6667 - val_loss: 993.4515\n",
      "Epoch 187/500\n",
      "19/19 [==============================] - 0s 4ms/step - loss: 175.2741 - val_loss: 995.4057\n",
      "Epoch 188/500\n",
      "19/19 [==============================] - 0s 4ms/step - loss: 174.9032 - val_loss: 997.3160\n",
      "Epoch 189/500\n",
      "19/19 [==============================] - 0s 4ms/step - loss: 174.5528 - val_loss: 999.1827\n",
      "Epoch 190/500\n",
      "19/19 [==============================] - 0s 4ms/step - loss: 174.2221 - val_loss: 1001.0060\n",
      "Epoch 191/500\n",
      "19/19 [==============================] - 0s 4ms/step - loss: 173.9100 - val_loss: 1002.7856\n",
      "Epoch 192/500\n",
      "19/19 [==============================] - 0s 4ms/step - loss: 173.6155 - val_loss: 1004.5231\n",
      "Epoch 193/500\n",
      "19/19 [==============================] - 0s 4ms/step - loss: 173.3376 - val_loss: 1006.2176\n",
      "Epoch 194/500\n",
      "19/19 [==============================] - 0s 4ms/step - loss: 173.0756 - val_loss: 1007.8694\n",
      "Epoch 195/500\n",
      "19/19 [==============================] - 0s 4ms/step - loss: 172.8285 - val_loss: 1009.4796\n",
      "Epoch 196/500\n",
      "19/19 [==============================] - 0s 5ms/step - loss: 172.5957 - val_loss: 1011.0483\n",
      "Epoch 197/500\n",
      "19/19 [==============================] - 0s 5ms/step - loss: 172.3763 - val_loss: 1012.5754\n",
      "Epoch 198/500\n",
      "19/19 [==============================] - 0s 4ms/step - loss: 172.1696 - val_loss: 1014.0621\n",
      "Epoch 199/500\n",
      "19/19 [==============================] - 0s 4ms/step - loss: 171.9749 - val_loss: 1015.5087\n",
      "Epoch 200/500\n",
      "19/19 [==============================] - 0s 9ms/step - loss: 171.7916 - val_loss: 1016.9156\n",
      "Epoch 201/500\n",
      "19/19 [==============================] - 0s 5ms/step - loss: 171.6189 - val_loss: 1018.2833\n",
      "Epoch 202/500\n",
      "19/19 [==============================] - 0s 3ms/step - loss: 171.4564 - val_loss: 1019.6125\n",
      "Epoch 203/500\n",
      "19/19 [==============================] - 0s 4ms/step - loss: 171.3035 - val_loss: 1020.9036\n",
      "Epoch 204/500\n",
      "19/19 [==============================] - 0s 4ms/step - loss: 171.1597 - val_loss: 1022.1570\n",
      "Epoch 205/500\n",
      "19/19 [==============================] - 0s 5ms/step - loss: 171.0242 - val_loss: 1023.3735\n",
      "Epoch 206/500\n",
      "19/19 [==============================] - 0s 5ms/step - loss: 170.8969 - val_loss: 1024.5540\n",
      "Epoch 207/500\n",
      "19/19 [==============================] - 0s 3ms/step - loss: 170.7772 - val_loss: 1025.6989\n",
      "Epoch 208/500\n",
      "19/19 [==============================] - 0s 4ms/step - loss: 170.6645 - val_loss: 1026.8083\n",
      "Epoch 209/500\n",
      "19/19 [==============================] - 0s 5ms/step - loss: 170.5587 - val_loss: 1027.8838\n",
      "Epoch 210/500\n",
      "19/19 [==============================] - 0s 4ms/step - loss: 170.4591 - val_loss: 1028.9252\n",
      "Epoch 211/500\n",
      "19/19 [==============================] - 0s 5ms/step - loss: 170.3656 - val_loss: 1029.9336\n",
      "Epoch 212/500\n",
      "19/19 [==============================] - 0s 3ms/step - loss: 170.2776 - val_loss: 1030.9095\n",
      "Epoch 213/500\n",
      "19/19 [==============================] - 0s 4ms/step - loss: 170.1950 - val_loss: 1031.8538\n",
      "Epoch 214/500\n",
      "19/19 [==============================] - 0s 5ms/step - loss: 170.1174 - val_loss: 1032.7671\n",
      "Epoch 215/500\n",
      "19/19 [==============================] - 0s 5ms/step - loss: 170.0444 - val_loss: 1033.6503\n",
      "Epoch 216/500\n",
      "19/19 [==============================] - 0s 4ms/step - loss: 169.9758 - val_loss: 1034.5037\n",
      "Epoch 217/500\n",
      "19/19 [==============================] - 0s 4ms/step - loss: 169.9114 - val_loss: 1035.3276\n",
      "Epoch 218/500\n",
      "19/19 [==============================] - 0s 5ms/step - loss: 169.8509 - val_loss: 1036.1233\n",
      "Epoch 219/500\n",
      "19/19 [==============================] - 0s 5ms/step - loss: 169.7940 - val_loss: 1036.8914\n",
      "Epoch 220/500\n",
      "19/19 [==============================] - 0s 4ms/step - loss: 169.7406 - val_loss: 1037.6331\n",
      "Epoch 221/500\n",
      "19/19 [==============================] - 0s 4ms/step - loss: 169.6905 - val_loss: 1038.3484\n",
      "Epoch 222/500\n",
      "19/19 [==============================] - 0s 5ms/step - loss: 169.6433 - val_loss: 1039.0381\n",
      "Epoch 223/500\n",
      "19/19 [==============================] - 0s 5ms/step - loss: 169.5990 - val_loss: 1039.7028\n",
      "Epoch 224/500\n",
      "19/19 [==============================] - 0s 4ms/step - loss: 169.5574 - val_loss: 1040.3435\n",
      "Epoch 225/500\n",
      "19/19 [==============================] - 0s 4ms/step - loss: 169.5183 - val_loss: 1040.9602\n",
      "Epoch 226/500\n",
      "19/19 [==============================] - 0s 4ms/step - loss: 169.4815 - val_loss: 1041.5541\n",
      "Epoch 227/500\n",
      "19/19 [==============================] - 0s 4ms/step - loss: 169.4469 - val_loss: 1042.1257\n",
      "Epoch 228/500\n",
      "19/19 [==============================] - 0s 4ms/step - loss: 169.4145 - val_loss: 1042.6758\n",
      "Epoch 229/500\n",
      "19/19 [==============================] - 0s 11ms/step - loss: 169.3841 - val_loss: 1043.2051\n",
      "Epoch 230/500\n",
      "19/19 [==============================] - 0s 6ms/step - loss: 169.3554 - val_loss: 1043.7131\n",
      "Epoch 231/500\n",
      "19/19 [==============================] - 0s 4ms/step - loss: 169.3285 - val_loss: 1044.2020\n",
      "Epoch 232/500\n",
      "19/19 [==============================] - 0s 5ms/step - loss: 169.3032 - val_loss: 1044.6720\n",
      "Epoch 233/500\n",
      "19/19 [==============================] - 0s 4ms/step - loss: 169.2794 - val_loss: 1045.1230\n",
      "Epoch 234/500\n",
      "19/19 [==============================] - 0s 5ms/step - loss: 169.2570 - val_loss: 1045.5558\n",
      "Epoch 235/500\n",
      "19/19 [==============================] - 0s 5ms/step - loss: 169.2361 - val_loss: 1045.9716\n",
      "Epoch 236/500\n",
      "19/19 [==============================] - 0s 5ms/step - loss: 169.2162 - val_loss: 1046.3710\n",
      "Epoch 237/500\n",
      "19/19 [==============================] - 0s 5ms/step - loss: 169.1976 - val_loss: 1046.7527\n",
      "Epoch 238/500\n",
      "19/19 [==============================] - 0s 4ms/step - loss: 169.1803 - val_loss: 1047.1198\n",
      "Epoch 239/500\n",
      "19/19 [==============================] - 0s 4ms/step - loss: 169.1638 - val_loss: 1047.4711\n",
      "Epoch 240/500\n",
      "19/19 [==============================] - 0s 4ms/step - loss: 169.1484 - val_loss: 1047.8079\n",
      "Epoch 241/500\n",
      "19/19 [==============================] - 0s 5ms/step - loss: 169.1339 - val_loss: 1048.1302\n",
      "Epoch 242/500\n",
      "19/19 [==============================] - 0s 5ms/step - loss: 169.1203 - val_loss: 1048.4398\n",
      "Epoch 243/500\n",
      "19/19 [==============================] - 0s 5ms/step - loss: 169.1074 - val_loss: 1048.7354\n",
      "Epoch 244/500\n",
      "19/19 [==============================] - 0s 4ms/step - loss: 169.0953 - val_loss: 1049.0181\n",
      "Epoch 245/500\n",
      "19/19 [==============================] - 0s 4ms/step - loss: 169.0839 - val_loss: 1049.2882\n",
      "Epoch 246/500\n",
      "19/19 [==============================] - 0s 4ms/step - loss: 169.0733 - val_loss: 1049.5468\n",
      "Epoch 247/500\n",
      "19/19 [==============================] - 0s 4ms/step - loss: 169.0633 - val_loss: 1049.7939\n",
      "Epoch 248/500\n",
      "19/19 [==============================] - 0s 5ms/step - loss: 169.0538 - val_loss: 1050.0305\n",
      "Epoch 249/500\n",
      "19/19 [==============================] - 0s 4ms/step - loss: 169.0449 - val_loss: 1050.2567\n",
      "Epoch 250/500\n",
      "19/19 [==============================] - 0s 5ms/step - loss: 169.0365 - val_loss: 1050.4722\n",
      "Epoch 251/500\n",
      "19/19 [==============================] - 0s 4ms/step - loss: 169.0287 - val_loss: 1050.6782\n",
      "Epoch 252/500\n",
      "19/19 [==============================] - 0s 4ms/step - loss: 169.0213 - val_loss: 1050.8750\n",
      "Epoch 253/500\n",
      "19/19 [==============================] - 0s 5ms/step - loss: 169.0144 - val_loss: 1051.0626\n",
      "Epoch 254/500\n",
      "19/19 [==============================] - 0s 4ms/step - loss: 169.0078 - val_loss: 1051.2411\n",
      "Epoch 255/500\n",
      "19/19 [==============================] - 0s 5ms/step - loss: 169.0016 - val_loss: 1051.4113\n",
      "Epoch 256/500\n",
      "19/19 [==============================] - 0s 4ms/step - loss: 168.9959 - val_loss: 1051.5734\n",
      "Epoch 257/500\n",
      "19/19 [==============================] - 0s 4ms/step - loss: 168.9906 - val_loss: 1051.7285\n",
      "Epoch 258/500\n",
      "19/19 [==============================] - 0s 5ms/step - loss: 168.9854 - val_loss: 1051.8761\n",
      "Epoch 259/500\n",
      "19/19 [==============================] - 0s 4ms/step - loss: 168.9806 - val_loss: 1052.0168\n",
      "Epoch 260/500\n",
      "19/19 [==============================] - 0s 10ms/step - loss: 168.9761 - val_loss: 1052.1506\n",
      "Epoch 261/500\n",
      "19/19 [==============================] - 0s 5ms/step - loss: 168.9719 - val_loss: 1052.2777\n",
      "Epoch 262/500\n",
      "19/19 [==============================] - 0s 4ms/step - loss: 168.9679 - val_loss: 1052.3990\n",
      "Epoch 263/500\n",
      "19/19 [==============================] - 0s 4ms/step - loss: 168.9642 - val_loss: 1052.5143\n",
      "Epoch 264/500\n",
      "19/19 [==============================] - 0s 5ms/step - loss: 168.9607 - val_loss: 1052.6238\n",
      "Epoch 265/500\n",
      "19/19 [==============================] - 0s 4ms/step - loss: 168.9574 - val_loss: 1052.7277\n",
      "Epoch 266/500\n",
      "19/19 [==============================] - 0s 5ms/step - loss: 168.9544 - val_loss: 1052.8265\n",
      "Epoch 267/500\n",
      "19/19 [==============================] - 0s 5ms/step - loss: 168.9516 - val_loss: 1052.9208\n",
      "Epoch 268/500\n",
      "19/19 [==============================] - 0s 5ms/step - loss: 168.9489 - val_loss: 1053.0109\n",
      "Epoch 269/500\n",
      "19/19 [==============================] - 0s 4ms/step - loss: 168.9463 - val_loss: 1053.0956\n",
      "Epoch 270/500\n",
      "19/19 [==============================] - 0s 4ms/step - loss: 168.9440 - val_loss: 1053.1760\n",
      "Epoch 271/500\n",
      "19/19 [==============================] - 0s 5ms/step - loss: 168.9417 - val_loss: 1053.2524\n",
      "Epoch 272/500\n",
      "19/19 [==============================] - 0s 5ms/step - loss: 168.9397 - val_loss: 1053.3243\n",
      "Epoch 273/500\n",
      "19/19 [==============================] - 0s 5ms/step - loss: 168.9379 - val_loss: 1053.3936\n",
      "Epoch 274/500\n",
      "19/19 [==============================] - 0s 5ms/step - loss: 168.9360 - val_loss: 1053.4585\n",
      "Epoch 275/500\n",
      "19/19 [==============================] - 0s 4ms/step - loss: 168.9344 - val_loss: 1053.5201\n",
      "Epoch 276/500\n",
      "19/19 [==============================] - 0s 4ms/step - loss: 168.9328 - val_loss: 1053.5789\n",
      "Epoch 277/500\n",
      "19/19 [==============================] - 0s 4ms/step - loss: 168.9314 - val_loss: 1053.6345\n",
      "Epoch 278/500\n",
      "19/19 [==============================] - 0s 5ms/step - loss: 168.9301 - val_loss: 1053.6870\n",
      "Epoch 279/500\n",
      "19/19 [==============================] - 0s 5ms/step - loss: 168.9289 - val_loss: 1053.7371\n",
      "Epoch 280/500\n",
      "19/19 [==============================] - 0s 5ms/step - loss: 168.9277 - val_loss: 1053.7843\n",
      "Epoch 281/500\n",
      "19/19 [==============================] - 0s 5ms/step - loss: 168.9266 - val_loss: 1053.8287\n",
      "Epoch 282/500\n",
      "19/19 [==============================] - 0s 3ms/step - loss: 168.9257 - val_loss: 1053.8707\n",
      "Epoch 283/500\n",
      "19/19 [==============================] - 0s 4ms/step - loss: 168.9248 - val_loss: 1053.9109\n",
      "Epoch 284/500\n",
      "19/19 [==============================] - 0s 4ms/step - loss: 168.9240 - val_loss: 1053.9485\n",
      "Epoch 285/500\n",
      "19/19 [==============================] - 0s 4ms/step - loss: 168.9232 - val_loss: 1053.9846\n",
      "Epoch 286/500\n",
      "19/19 [==============================] - 0s 4ms/step - loss: 168.9225 - val_loss: 1054.0179\n",
      "Epoch 287/500\n",
      "19/19 [==============================] - 0s 4ms/step - loss: 168.9219 - val_loss: 1054.0502\n",
      "Epoch 288/500\n",
      "19/19 [==============================] - 0s 5ms/step - loss: 168.9213 - val_loss: 1054.0802\n",
      "Epoch 289/500\n",
      "19/19 [==============================] - 0s 5ms/step - loss: 168.9208 - val_loss: 1054.1080\n",
      "Epoch 290/500\n",
      "19/19 [==============================] - 0s 4ms/step - loss: 168.9203 - val_loss: 1054.1355\n",
      "Epoch 291/500\n",
      "19/19 [==============================] - 0s 11ms/step - loss: 168.9198 - val_loss: 1054.1606\n",
      "Epoch 292/500\n",
      "19/19 [==============================] - 0s 5ms/step - loss: 168.9195 - val_loss: 1054.1846\n",
      "Epoch 293/500\n",
      "19/19 [==============================] - 0s 4ms/step - loss: 168.9192 - val_loss: 1054.2074\n",
      "Epoch 294/500\n",
      "19/19 [==============================] - 0s 5ms/step - loss: 168.9189 - val_loss: 1054.2285\n",
      "Epoch 295/500\n",
      "19/19 [==============================] - 0s 5ms/step - loss: 168.9186 - val_loss: 1054.2484\n",
      "Epoch 296/500\n",
      "19/19 [==============================] - 0s 4ms/step - loss: 168.9184 - val_loss: 1054.2672\n",
      "Epoch 297/500\n",
      "19/19 [==============================] - 0s 5ms/step - loss: 168.9182 - val_loss: 1054.2852\n",
      "Epoch 298/500\n",
      "19/19 [==============================] - 0s 4ms/step - loss: 168.9180 - val_loss: 1054.3019\n",
      "Epoch 299/500\n",
      "19/19 [==============================] - 0s 5ms/step - loss: 168.9179 - val_loss: 1054.3179\n",
      "Epoch 300/500\n",
      "19/19 [==============================] - 0s 5ms/step - loss: 168.9178 - val_loss: 1054.3325\n",
      "Epoch 301/500\n",
      "19/19 [==============================] - 0s 5ms/step - loss: 168.9177 - val_loss: 1054.3469\n",
      "Epoch 302/500\n",
      "19/19 [==============================] - 0s 4ms/step - loss: 168.9176 - val_loss: 1054.3601\n",
      "Epoch 303/500\n",
      "19/19 [==============================] - 0s 4ms/step - loss: 168.9176 - val_loss: 1054.3723\n",
      "Epoch 304/500\n",
      "19/19 [==============================] - 0s 5ms/step - loss: 168.9177 - val_loss: 1054.3846\n",
      "Epoch 305/500\n",
      "19/19 [==============================] - 0s 4ms/step - loss: 168.9177 - val_loss: 1054.3959\n",
      "Epoch 306/500\n",
      "19/19 [==============================] - 0s 4ms/step - loss: 168.9176 - val_loss: 1054.4059\n",
      "Epoch 307/500\n",
      "19/19 [==============================] - 0s 4ms/step - loss: 168.9177 - val_loss: 1054.4159\n",
      "Epoch 308/500\n",
      "19/19 [==============================] - 0s 4ms/step - loss: 168.9177 - val_loss: 1054.4250\n",
      "Epoch 309/500\n",
      "19/19 [==============================] - 0s 5ms/step - loss: 168.9178 - val_loss: 1054.4337\n",
      "Epoch 310/500\n",
      "19/19 [==============================] - 0s 5ms/step - loss: 168.9179 - val_loss: 1054.4415\n",
      "Epoch 311/500\n",
      "19/19 [==============================] - 0s 4ms/step - loss: 168.9180 - val_loss: 1054.4493\n",
      "Epoch 312/500\n",
      "19/19 [==============================] - 0s 4ms/step - loss: 168.9181 - val_loss: 1054.4564\n",
      "Epoch 313/500\n",
      "19/19 [==============================] - 0s 5ms/step - loss: 168.9182 - val_loss: 1054.4631\n",
      "Epoch 314/500\n",
      "19/19 [==============================] - 0s 5ms/step - loss: 168.9183 - val_loss: 1054.4698\n",
      "Epoch 315/500\n",
      "19/19 [==============================] - 0s 5ms/step - loss: 168.9184 - val_loss: 1054.4753\n",
      "Epoch 316/500\n",
      "19/19 [==============================] - 0s 5ms/step - loss: 168.9186 - val_loss: 1054.4808\n",
      "Epoch 317/500\n",
      "19/19 [==============================] - 0s 4ms/step - loss: 168.9188 - val_loss: 1054.4860\n",
      "Epoch 318/500\n",
      "19/19 [==============================] - 0s 4ms/step - loss: 168.9189 - val_loss: 1054.4908\n",
      "Epoch 319/500\n",
      "19/19 [==============================] - 0s 5ms/step - loss: 168.9191 - val_loss: 1054.4957\n",
      "Epoch 320/500\n",
      "19/19 [==============================] - 0s 11ms/step - loss: 168.9193 - val_loss: 1054.5004\n",
      "Epoch 321/500\n",
      "19/19 [==============================] - 0s 4ms/step - loss: 168.9194 - val_loss: 1054.5048\n",
      "Epoch 322/500\n",
      "19/19 [==============================] - 0s 4ms/step - loss: 168.9196 - val_loss: 1054.5088\n",
      "Epoch 323/500\n",
      "19/19 [==============================] - 0s 4ms/step - loss: 168.9198 - val_loss: 1054.5121\n",
      "Epoch 324/500\n",
      "19/19 [==============================] - 0s 4ms/step - loss: 168.9199 - val_loss: 1054.5153\n",
      "Epoch 325/500\n",
      "19/19 [==============================] - 0s 5ms/step - loss: 168.9202 - val_loss: 1054.5188\n",
      "Epoch 326/500\n",
      "19/19 [==============================] - 0s 5ms/step - loss: 168.9204 - val_loss: 1054.5212\n",
      "Epoch 327/500\n",
      "19/19 [==============================] - 0s 5ms/step - loss: 168.9206 - val_loss: 1054.5240\n",
      "Epoch 328/500\n",
      "19/19 [==============================] - 0s 5ms/step - loss: 168.9207 - val_loss: 1054.5271\n",
      "Epoch 329/500\n",
      "19/19 [==============================] - 0s 5ms/step - loss: 168.9210 - val_loss: 1054.5294\n",
      "Epoch 330/500\n",
      "19/19 [==============================] - 0s 3ms/step - loss: 168.9212 - val_loss: 1054.5319\n",
      "Epoch 331/500\n",
      "19/19 [==============================] - 0s 4ms/step - loss: 168.9213 - val_loss: 1054.5337\n",
      "Epoch 332/500\n",
      "19/19 [==============================] - 0s 4ms/step - loss: 168.9216 - val_loss: 1054.5353\n",
      "Epoch 333/500\n",
      "19/19 [==============================] - 0s 4ms/step - loss: 168.9218 - val_loss: 1054.5376\n",
      "Epoch 334/500\n",
      "19/19 [==============================] - 0s 6ms/step - loss: 168.9220 - val_loss: 1054.5391\n",
      "Epoch 335/500\n",
      "19/19 [==============================] - 0s 4ms/step - loss: 168.9221 - val_loss: 1054.5406\n",
      "Epoch 336/500\n",
      "19/19 [==============================] - 0s 4ms/step - loss: 168.9225 - val_loss: 1054.5427\n",
      "Epoch 337/500\n",
      "19/19 [==============================] - 0s 5ms/step - loss: 168.9226 - val_loss: 1054.5438\n",
      "Epoch 338/500\n",
      "19/19 [==============================] - 0s 5ms/step - loss: 168.9228 - val_loss: 1054.5449\n",
      "Epoch 339/500\n",
      "19/19 [==============================] - 0s 4ms/step - loss: 168.9229 - val_loss: 1054.5459\n",
      "Epoch 340/500\n",
      "19/19 [==============================] - 0s 4ms/step - loss: 168.9232 - val_loss: 1054.5475\n",
      "Epoch 341/500\n",
      "19/19 [==============================] - 0s 4ms/step - loss: 168.9234 - val_loss: 1054.5483\n",
      "Epoch 342/500\n",
      "19/19 [==============================] - 0s 5ms/step - loss: 168.9236 - val_loss: 1054.5493\n",
      "Epoch 343/500\n",
      "19/19 [==============================] - 0s 5ms/step - loss: 168.9238 - val_loss: 1054.5500\n",
      "Epoch 344/500\n",
      "19/19 [==============================] - 0s 5ms/step - loss: 168.9240 - val_loss: 1054.5514\n",
      "Epoch 345/500\n",
      "19/19 [==============================] - 0s 5ms/step - loss: 168.9242 - val_loss: 1054.5524\n",
      "Epoch 346/500\n",
      "19/19 [==============================] - 0s 5ms/step - loss: 168.9243 - val_loss: 1054.5531\n",
      "Epoch 347/500\n",
      "19/19 [==============================] - 0s 3ms/step - loss: 168.9246 - val_loss: 1054.5536\n",
      "Epoch 348/500\n",
      "19/19 [==============================] - 0s 4ms/step - loss: 168.9248 - val_loss: 1054.5543\n",
      "Epoch 349/500\n",
      "19/19 [==============================] - 0s 12ms/step - loss: 168.9249 - val_loss: 1054.5546\n",
      "Epoch 350/500\n",
      "19/19 [==============================] - 0s 5ms/step - loss: 168.9252 - val_loss: 1054.5557\n",
      "Epoch 351/500\n",
      "19/19 [==============================] - 0s 4ms/step - loss: 168.9254 - val_loss: 1054.5565\n",
      "Epoch 352/500\n",
      "19/19 [==============================] - 0s 5ms/step - loss: 168.9255 - val_loss: 1054.5574\n",
      "Epoch 353/500\n",
      "19/19 [==============================] - 0s 4ms/step - loss: 168.9256 - val_loss: 1054.5577\n",
      "Epoch 354/500\n",
      "19/19 [==============================] - 0s 4ms/step - loss: 168.9258 - val_loss: 1054.5576\n",
      "Epoch 355/500\n",
      "19/19 [==============================] - 0s 4ms/step - loss: 168.9261 - val_loss: 1054.5580\n",
      "Epoch 356/500\n",
      "19/19 [==============================] - 0s 4ms/step - loss: 168.9262 - val_loss: 1054.5582\n",
      "Epoch 357/500\n",
      "19/19 [==============================] - 0s 4ms/step - loss: 168.9264 - val_loss: 1054.5583\n",
      "Epoch 358/500\n",
      "19/19 [==============================] - 0s 5ms/step - loss: 168.9266 - val_loss: 1054.5587\n",
      "Epoch 359/500\n",
      "19/19 [==============================] - 0s 4ms/step - loss: 168.9267 - val_loss: 1054.5585\n",
      "Epoch 360/500\n",
      "19/19 [==============================] - 0s 5ms/step - loss: 168.9270 - val_loss: 1054.5593\n",
      "Epoch 361/500\n",
      "19/19 [==============================] - 0s 5ms/step - loss: 168.9271 - val_loss: 1054.5596\n",
      "Epoch 362/500\n",
      "19/19 [==============================] - 0s 5ms/step - loss: 168.9273 - val_loss: 1054.5601\n",
      "Epoch 363/500\n",
      "19/19 [==============================] - 0s 4ms/step - loss: 168.9274 - val_loss: 1054.5603\n",
      "Epoch 364/500\n",
      "19/19 [==============================] - 0s 4ms/step - loss: 168.9275 - val_loss: 1054.5603\n",
      "Epoch 365/500\n",
      "19/19 [==============================] - 0s 5ms/step - loss: 168.9277 - val_loss: 1054.5602\n",
      "Epoch 366/500\n",
      "19/19 [==============================] - 0s 5ms/step - loss: 168.9279 - val_loss: 1054.5607\n",
      "Epoch 367/500\n",
      "19/19 [==============================] - 0s 4ms/step - loss: 168.9281 - val_loss: 1054.5608\n",
      "Epoch 368/500\n",
      "19/19 [==============================] - 0s 5ms/step - loss: 168.9282 - val_loss: 1054.5607\n",
      "Epoch 369/500\n",
      "19/19 [==============================] - 0s 6ms/step - loss: 168.9284 - val_loss: 1054.5608\n",
      "Epoch 370/500\n",
      "19/19 [==============================] - 0s 5ms/step - loss: 168.9285 - val_loss: 1054.5607\n",
      "Epoch 371/500\n",
      "19/19 [==============================] - 0s 5ms/step - loss: 168.9287 - val_loss: 1054.5607\n",
      "Epoch 372/500\n",
      "19/19 [==============================] - 0s 6ms/step - loss: 168.9288 - val_loss: 1054.5610\n",
      "Epoch 373/500\n",
      "19/19 [==============================] - 0s 6ms/step - loss: 168.9289 - val_loss: 1054.5613\n",
      "Epoch 374/500\n",
      "19/19 [==============================] - 0s 5ms/step - loss: 168.9291 - val_loss: 1054.5613\n",
      "Epoch 375/500\n",
      "19/19 [==============================] - 0s 11ms/step - loss: 168.9292 - val_loss: 1054.5613\n",
      "Epoch 376/500\n",
      "19/19 [==============================] - 0s 5ms/step - loss: 168.9294 - val_loss: 1054.5614\n",
      "Epoch 377/500\n",
      "19/19 [==============================] - 0s 4ms/step - loss: 168.9295 - val_loss: 1054.5614\n",
      "Epoch 378/500\n",
      "19/19 [==============================] - 0s 4ms/step - loss: 168.9296 - val_loss: 1054.5613\n",
      "Epoch 379/500\n",
      "19/19 [==============================] - 0s 4ms/step - loss: 168.9298 - val_loss: 1054.5614\n",
      "Epoch 380/500\n",
      "19/19 [==============================] - 0s 4ms/step - loss: 168.9299 - val_loss: 1054.5614\n",
      "Epoch 381/500\n",
      "19/19 [==============================] - 0s 4ms/step - loss: 168.9300 - val_loss: 1054.5614\n",
      "Epoch 382/500\n",
      "19/19 [==============================] - 0s 4ms/step - loss: 168.9301 - val_loss: 1054.5614\n",
      "Epoch 383/500\n",
      "19/19 [==============================] - 0s 4ms/step - loss: 168.9303 - val_loss: 1054.5616\n",
      "Epoch 384/500\n",
      "19/19 [==============================] - 0s 4ms/step - loss: 168.9304 - val_loss: 1054.5618\n",
      "Epoch 385/500\n",
      "19/19 [==============================] - 0s 4ms/step - loss: 168.9305 - val_loss: 1054.5618\n",
      "Epoch 386/500\n",
      "19/19 [==============================] - 0s 5ms/step - loss: 168.9306 - val_loss: 1054.5618\n",
      "Epoch 387/500\n",
      "19/19 [==============================] - 0s 4ms/step - loss: 168.9308 - val_loss: 1054.5623\n",
      "Epoch 388/500\n",
      "19/19 [==============================] - 0s 4ms/step - loss: 168.9308 - val_loss: 1054.5625\n",
      "Epoch 389/500\n",
      "19/19 [==============================] - 0s 5ms/step - loss: 168.9309 - val_loss: 1054.5625\n",
      "Epoch 390/500\n",
      "19/19 [==============================] - 0s 5ms/step - loss: 168.9310 - val_loss: 1054.5625\n",
      "Epoch 391/500\n",
      "19/19 [==============================] - 0s 4ms/step - loss: 168.9312 - val_loss: 1054.5625\n",
      "Epoch 392/500\n",
      "19/19 [==============================] - 0s 4ms/step - loss: 168.9312 - val_loss: 1054.5624\n",
      "Epoch 393/500\n",
      "19/19 [==============================] - 0s 4ms/step - loss: 168.9314 - val_loss: 1054.5625\n",
      "Epoch 394/500\n",
      "19/19 [==============================] - 0s 5ms/step - loss: 168.9315 - val_loss: 1054.5625\n",
      "Epoch 395/500\n",
      "19/19 [==============================] - 0s 4ms/step - loss: 168.9316 - val_loss: 1054.5625\n",
      "Epoch 396/500\n",
      "19/19 [==============================] - 0s 4ms/step - loss: 168.9316 - val_loss: 1054.5623\n",
      "Epoch 397/500\n",
      "19/19 [==============================] - 0s 4ms/step - loss: 168.9317 - val_loss: 1054.5624\n",
      "Epoch 398/500\n",
      "19/19 [==============================] - 0s 4ms/step - loss: 168.9319 - val_loss: 1054.5626\n",
      "Epoch 399/500\n",
      "19/19 [==============================] - 0s 4ms/step - loss: 168.9319 - val_loss: 1054.5627\n",
      "Epoch 400/500\n",
      "19/19 [==============================] - 0s 5ms/step - loss: 168.9320 - val_loss: 1054.5627\n",
      "Epoch 401/500\n",
      "19/19 [==============================] - 0s 4ms/step - loss: 168.9321 - val_loss: 1054.5625\n",
      "Epoch 402/500\n",
      "19/19 [==============================] - 0s 4ms/step - loss: 168.9322 - val_loss: 1054.5625\n",
      "Epoch 403/500\n",
      "19/19 [==============================] - 0s 4ms/step - loss: 168.9323 - val_loss: 1054.5626\n",
      "Epoch 404/500\n",
      "19/19 [==============================] - 0s 4ms/step - loss: 168.9324 - val_loss: 1054.5626\n",
      "Epoch 405/500\n",
      "19/19 [==============================] - 0s 4ms/step - loss: 168.9325 - val_loss: 1054.5626\n",
      "Epoch 406/500\n",
      "19/19 [==============================] - 0s 11ms/step - loss: 168.9326 - val_loss: 1054.5629\n",
      "Epoch 407/500\n",
      "19/19 [==============================] - 0s 4ms/step - loss: 168.9326 - val_loss: 1054.5629\n",
      "Epoch 408/500\n",
      "19/19 [==============================] - 0s 5ms/step - loss: 168.9327 - val_loss: 1054.5627\n",
      "Epoch 409/500\n",
      "19/19 [==============================] - 0s 4ms/step - loss: 168.9328 - val_loss: 1054.5627\n",
      "Epoch 410/500\n",
      "19/19 [==============================] - 0s 5ms/step - loss: 168.9328 - val_loss: 1054.5627\n",
      "Epoch 411/500\n",
      "19/19 [==============================] - 0s 4ms/step - loss: 168.9330 - val_loss: 1054.5634\n",
      "Epoch 412/500\n",
      "19/19 [==============================] - 0s 5ms/step - loss: 168.9329 - val_loss: 1054.5632\n",
      "Epoch 413/500\n",
      "19/19 [==============================] - 0s 4ms/step - loss: 168.9330 - val_loss: 1054.5621\n",
      "Epoch 414/500\n",
      "19/19 [==============================] - 0s 5ms/step - loss: 168.9331 - val_loss: 1054.5621\n",
      "Epoch 415/500\n",
      "19/19 [==============================] - 0s 4ms/step - loss: 168.9332 - val_loss: 1054.5619\n",
      "Epoch 416/500\n",
      "19/19 [==============================] - 0s 5ms/step - loss: 168.9333 - val_loss: 1054.5615\n",
      "Epoch 417/500\n",
      "19/19 [==============================] - 0s 5ms/step - loss: 168.9334 - val_loss: 1054.5614\n",
      "Epoch 418/500\n",
      "19/19 [==============================] - 0s 5ms/step - loss: 168.9335 - val_loss: 1054.5614\n",
      "Epoch 419/500\n",
      "19/19 [==============================] - 0s 4ms/step - loss: 168.9336 - val_loss: 1054.5614\n",
      "Epoch 420/500\n",
      "19/19 [==============================] - 0s 4ms/step - loss: 168.9337 - val_loss: 1054.5618\n",
      "Epoch 421/500\n",
      "19/19 [==============================] - 0s 4ms/step - loss: 168.9338 - val_loss: 1054.5619\n",
      "Epoch 422/500\n",
      "19/19 [==============================] - 0s 5ms/step - loss: 168.9338 - val_loss: 1054.5619\n",
      "Epoch 423/500\n",
      "19/19 [==============================] - 0s 5ms/step - loss: 168.9338 - val_loss: 1054.5623\n",
      "Epoch 424/500\n",
      "19/19 [==============================] - 0s 4ms/step - loss: 168.9339 - val_loss: 1054.5618\n",
      "Epoch 425/500\n",
      "19/19 [==============================] - 0s 5ms/step - loss: 168.9340 - val_loss: 1054.5621\n",
      "Epoch 426/500\n",
      "19/19 [==============================] - 0s 4ms/step - loss: 168.9340 - val_loss: 1054.5624\n",
      "Epoch 427/500\n",
      "19/19 [==============================] - 0s 5ms/step - loss: 168.9340 - val_loss: 1054.5624\n",
      "Epoch 428/500\n",
      "19/19 [==============================] - 0s 5ms/step - loss: 168.9341 - val_loss: 1054.5621\n",
      "Epoch 429/500\n",
      "19/19 [==============================] - 0s 5ms/step - loss: 168.9341 - val_loss: 1054.5629\n",
      "Epoch 430/500\n",
      "19/19 [==============================] - 0s 12ms/step - loss: 168.9341 - val_loss: 1054.5621\n",
      "Epoch 431/500\n",
      "19/19 [==============================] - 0s 4ms/step - loss: 168.9342 - val_loss: 1054.5619\n",
      "Epoch 432/500\n",
      "19/19 [==============================] - 0s 4ms/step - loss: 168.9343 - val_loss: 1054.5621\n",
      "Epoch 433/500\n",
      "19/19 [==============================] - 0s 5ms/step - loss: 168.9343 - val_loss: 1054.5629\n",
      "Epoch 434/500\n",
      "19/19 [==============================] - 0s 5ms/step - loss: 168.9343 - val_loss: 1054.5632\n",
      "Epoch 435/500\n",
      "19/19 [==============================] - 0s 5ms/step - loss: 168.9343 - val_loss: 1054.5631\n",
      "Epoch 436/500\n",
      "19/19 [==============================] - 0s 5ms/step - loss: 168.9344 - val_loss: 1054.5629\n",
      "Epoch 437/500\n",
      "19/19 [==============================] - 0s 5ms/step - loss: 168.9345 - val_loss: 1054.5632\n",
      "Epoch 438/500\n",
      "19/19 [==============================] - 0s 5ms/step - loss: 168.9345 - val_loss: 1054.5632\n",
      "Epoch 439/500\n",
      "19/19 [==============================] - 0s 6ms/step - loss: 168.9345 - val_loss: 1054.5632\n",
      "Epoch 440/500\n",
      "19/19 [==============================] - 0s 6ms/step - loss: 168.9346 - val_loss: 1054.5631\n",
      "Epoch 441/500\n",
      "19/19 [==============================] - 0s 5ms/step - loss: 168.9346 - val_loss: 1054.5625\n",
      "Epoch 442/500\n",
      "19/19 [==============================] - 0s 6ms/step - loss: 168.9347 - val_loss: 1054.5629\n",
      "Epoch 443/500\n",
      "19/19 [==============================] - 0s 5ms/step - loss: 168.9348 - val_loss: 1054.5631\n",
      "Epoch 444/500\n",
      "19/19 [==============================] - 0s 5ms/step - loss: 168.9348 - val_loss: 1054.5634\n",
      "Epoch 445/500\n",
      "19/19 [==============================] - 0s 5ms/step - loss: 168.9349 - val_loss: 1054.5634\n",
      "Epoch 446/500\n",
      "19/19 [==============================] - 0s 5ms/step - loss: 168.9349 - val_loss: 1054.5634\n",
      "Epoch 447/500\n",
      "19/19 [==============================] - 0s 5ms/step - loss: 168.9350 - val_loss: 1054.5634\n",
      "Epoch 448/500\n",
      "19/19 [==============================] - 0s 6ms/step - loss: 168.9350 - val_loss: 1054.5634\n",
      "Epoch 449/500\n",
      "19/19 [==============================] - 0s 5ms/step - loss: 168.9350 - val_loss: 1054.5629\n",
      "Epoch 450/500\n",
      "19/19 [==============================] - 0s 12ms/step - loss: 168.9351 - val_loss: 1054.5632\n",
      "Epoch 451/500\n",
      "19/19 [==============================] - 0s 5ms/step - loss: 168.9351 - val_loss: 1054.5632\n",
      "Epoch 452/500\n",
      "19/19 [==============================] - 0s 5ms/step - loss: 168.9352 - val_loss: 1054.5632\n",
      "Epoch 453/500\n",
      "19/19 [==============================] - 0s 5ms/step - loss: 168.9352 - val_loss: 1054.5632\n",
      "Epoch 454/500\n",
      "19/19 [==============================] - 0s 5ms/step - loss: 168.9351 - val_loss: 1054.5629\n",
      "Epoch 455/500\n",
      "19/19 [==============================] - 0s 5ms/step - loss: 168.9352 - val_loss: 1054.5621\n",
      "Epoch 456/500\n",
      "19/19 [==============================] - 0s 5ms/step - loss: 168.9353 - val_loss: 1054.5623\n",
      "Epoch 457/500\n",
      "19/19 [==============================] - 0s 5ms/step - loss: 168.9353 - val_loss: 1054.5625\n",
      "Epoch 458/500\n",
      "19/19 [==============================] - 0s 4ms/step - loss: 168.9354 - val_loss: 1054.5626\n",
      "Epoch 459/500\n",
      "19/19 [==============================] - 0s 5ms/step - loss: 168.9354 - val_loss: 1054.5629\n",
      "Epoch 460/500\n",
      "19/19 [==============================] - 0s 5ms/step - loss: 168.9355 - val_loss: 1054.5636\n",
      "Epoch 461/500\n",
      "19/19 [==============================] - 0s 7ms/step - loss: 168.9354 - val_loss: 1054.5637\n",
      "Epoch 462/500\n",
      "19/19 [==============================] - 0s 6ms/step - loss: 168.9355 - val_loss: 1054.5640\n",
      "Epoch 463/500\n",
      "19/19 [==============================] - 0s 4ms/step - loss: 168.9355 - val_loss: 1054.5643\n",
      "Epoch 464/500\n",
      "19/19 [==============================] - 0s 5ms/step - loss: 168.9355 - val_loss: 1054.5643\n",
      "Epoch 465/500\n",
      "19/19 [==============================] - 0s 5ms/step - loss: 168.9355 - val_loss: 1054.5643\n",
      "Epoch 466/500\n",
      "19/19 [==============================] - 0s 4ms/step - loss: 168.9355 - val_loss: 1054.5640\n",
      "Epoch 467/500\n",
      "19/19 [==============================] - 0s 5ms/step - loss: 168.9356 - val_loss: 1054.5640\n",
      "Epoch 468/500\n",
      "19/19 [==============================] - 0s 5ms/step - loss: 168.9357 - val_loss: 1054.5643\n",
      "Epoch 469/500\n",
      "19/19 [==============================] - 0s 4ms/step - loss: 168.9357 - val_loss: 1054.5643\n",
      "Epoch 470/500\n",
      "19/19 [==============================] - 0s 4ms/step - loss: 168.9357 - val_loss: 1054.5643\n",
      "Epoch 471/500\n",
      "19/19 [==============================] - 0s 4ms/step - loss: 168.9357 - val_loss: 1054.5640\n",
      "Epoch 472/500\n",
      "19/19 [==============================] - 0s 4ms/step - loss: 168.9357 - val_loss: 1054.5637\n",
      "Epoch 473/500\n",
      "19/19 [==============================] - 0s 12ms/step - loss: 168.9357 - val_loss: 1054.5637\n",
      "Epoch 474/500\n",
      "19/19 [==============================] - 0s 4ms/step - loss: 168.9357 - val_loss: 1054.5637\n",
      "Epoch 475/500\n",
      "19/19 [==============================] - 0s 5ms/step - loss: 168.9358 - val_loss: 1054.5636\n",
      "Epoch 476/500\n",
      "19/19 [==============================] - 0s 5ms/step - loss: 168.9358 - val_loss: 1054.5634\n",
      "Epoch 477/500\n",
      "19/19 [==============================] - 0s 5ms/step - loss: 168.9358 - val_loss: 1054.5634\n",
      "Epoch 478/500\n",
      "19/19 [==============================] - 0s 3ms/step - loss: 168.9359 - val_loss: 1054.5636\n",
      "Epoch 479/500\n",
      "19/19 [==============================] - 0s 4ms/step - loss: 168.9359 - val_loss: 1054.5637\n",
      "Epoch 480/500\n",
      "19/19 [==============================] - 0s 4ms/step - loss: 168.9359 - val_loss: 1054.5634\n",
      "Epoch 481/500\n",
      "19/19 [==============================] - 0s 5ms/step - loss: 168.9359 - val_loss: 1054.5636\n",
      "Epoch 482/500\n",
      "19/19 [==============================] - 0s 5ms/step - loss: 168.9360 - val_loss: 1054.5641\n",
      "Epoch 483/500\n",
      "19/19 [==============================] - 0s 5ms/step - loss: 168.9360 - val_loss: 1054.5643\n",
      "Epoch 484/500\n",
      "19/19 [==============================] - 0s 5ms/step - loss: 168.9360 - val_loss: 1054.5643\n",
      "Epoch 485/500\n",
      "19/19 [==============================] - 0s 5ms/step - loss: 168.9360 - val_loss: 1054.5642\n",
      "Epoch 486/500\n",
      "19/19 [==============================] - 0s 4ms/step - loss: 168.9360 - val_loss: 1054.5641\n",
      "Epoch 487/500\n",
      "19/19 [==============================] - 0s 5ms/step - loss: 168.9360 - val_loss: 1054.5636\n",
      "Epoch 488/500\n",
      "19/19 [==============================] - 0s 5ms/step - loss: 168.9360 - val_loss: 1054.5634\n",
      "Epoch 489/500\n",
      "19/19 [==============================] - 0s 5ms/step - loss: 168.9361 - val_loss: 1054.5634\n",
      "Epoch 490/500\n",
      "19/19 [==============================] - 0s 5ms/step - loss: 168.9361 - val_loss: 1054.5634\n",
      "Epoch 491/500\n",
      "19/19 [==============================] - 0s 5ms/step - loss: 168.9361 - val_loss: 1054.5631\n",
      "Epoch 492/500\n",
      "19/19 [==============================] - 0s 4ms/step - loss: 168.9361 - val_loss: 1054.5631\n",
      "Epoch 493/500\n",
      "19/19 [==============================] - 0s 5ms/step - loss: 168.9361 - val_loss: 1054.5634\n",
      "Epoch 494/500\n",
      "19/19 [==============================] - 0s 5ms/step - loss: 168.9362 - val_loss: 1054.5634\n",
      "Epoch 495/500\n",
      "19/19 [==============================] - 0s 5ms/step - loss: 168.9362 - val_loss: 1054.5636\n",
      "Epoch 496/500\n",
      "19/19 [==============================] - 0s 12ms/step - loss: 168.9362 - val_loss: 1054.5636\n",
      "Epoch 497/500\n",
      "19/19 [==============================] - 0s 5ms/step - loss: 168.9362 - val_loss: 1054.5634\n",
      "Epoch 498/500\n",
      "19/19 [==============================] - 0s 4ms/step - loss: 168.9362 - val_loss: 1054.5630\n",
      "Epoch 499/500\n",
      "19/19 [==============================] - 0s 4ms/step - loss: 168.9362 - val_loss: 1054.5621\n",
      "Epoch 500/500\n",
      "19/19 [==============================] - 0s 4ms/step - loss: 168.9362 - val_loss: 1054.5619\n"
     ]
    }
   ],
   "source": [
    "C0 = tf.Variable(85.7336, name=\"C0\", trainable=True, dtype=tf.float32)\n",
    "K0 = tf.Variable(-0.0020, name=\"K0\", trainable=True, dtype=tf.float32)\n",
    "K1 = tf.Variable(-0.0002, name=\"K1\", trainable=True, dtype=tf.float32)\n",
    "a = tf.Variable(0.0000, name=\"a\", trainable=True, dtype=tf.float32)\n",
    "b = tf.Variable(0.0125, name=\"b\", trainable=True, dtype=tf.float32)\n",
    "c = tf.Variable(2.3008, name=\"c\", trainable=True, dtype=tf.float32)\n",
    "\n",
    "splitr = 0.8\n",
    "\n",
    "\n",
    "def loss_fn(y_true, y_pred):\n",
    "    squared_difference = tf.square(y_true[:, 0] - y_pred[:, 0])\n",
    "    #squared_difference2 = tf.square(y_true[:, 2]-y_pred[:, 2])\n",
    "    #squared_difference1 = tf.square(y_true[:, 1]-y_pred[:, 1])\n",
    "    epsilon = 1\n",
    "    squared_difference3 = tf.square(\n",
    "        y_pred[:, 1] - (\n",
    "            y_pred[:, 0] * (\n",
    "                K0 - K1 * (\n",
    "                    9 * a * tf.math.log((y_pred[:, 0] + epsilon) / C0) / (K0 - K1 * c)**2 +\n",
    "                    4 * b * tf.math.log((y_pred[:, 0] + epsilon) / C0) / (K0 - K1 * c) + c\n",
    "                )\n",
    "            )\n",
    "        )\n",
    "    )\n",
    "    return tf.reduce_mean(squared_difference, axis=-1) + 0.2*tf.reduce_mean(squared_difference3, axis=-1)\n",
    "model = Sequential()\n",
    "model.add(LSTM(100, input_shape=(trainX.shape[1], trainX.shape[2])))\n",
    "model.add(Dense(60))\n",
    "model.compile(loss=loss_fn, optimizer='adam')\n",
    "history = model.fit(trainX[:int(splitr*trainX.shape[0])], trainy[:int(splitr*trainX.shape[0])], epochs=500, batch_size=64, validation_data=(trainX[int(splitr*trainX.shape[0]):trainX.shape[0]], trainy[int(splitr*trainX.shape[0]):trainX.shape[0]]), shuffle=False)"
   ]
  },
  {
   "cell_type": "code",
   "execution_count": 19,
   "metadata": {
    "colab": {
     "base_uri": "https://localhost:8080/"
    },
    "id": "yJL101rPyuoT",
    "outputId": "239ff2b1-c186-423a-d316-939dfdd7c793"
   },
   "outputs": [
    {
     "name": "stdout",
     "output_type": "stream",
     "text": [
      "1/1 [==============================] - 0s 341ms/step\n"
     ]
    }
   ],
   "source": [
    "forecast_without_mc = forecastX\n",
    "yhat_without_mc = model.predict(forecast_without_mc) # Step Ahead Prediction\n",
    "forecast_without_mc = forecast_without_mc.reshape((forecast_without_mc.shape[0], forecast_without_mc.shape[2])) # Historical Input"
   ]
  },
  {
   "cell_type": "code",
   "execution_count": 20,
   "metadata": {
    "colab": {
     "base_uri": "https://localhost:8080/"
    },
    "id": "g9dQELcJ8wbp",
    "outputId": "4dc7671b-b1a8-48d5-8744-a86f98446109"
   },
   "outputs": [
    {
     "data": {
      "text/plain": [
       "(1, 1, 251)"
      ]
     },
     "execution_count": 20,
     "metadata": {},
     "output_type": "execute_result"
    }
   ],
   "source": [
    "forecastX.shape"
   ]
  },
  {
   "cell_type": "code",
   "execution_count": 21,
   "metadata": {
    "colab": {
     "base_uri": "https://localhost:8080/"
    },
    "id": "IS2kyIKG1Kbr",
    "outputId": "f31b3485-8e26-452f-9298-ea8bf7e80ad1"
   },
   "outputs": [
    {
     "data": {
      "text/plain": [
       "(1, 251)"
      ]
     },
     "execution_count": 21,
     "metadata": {},
     "output_type": "execute_result"
    }
   ],
   "source": [
    "forecast_without_mc.shape"
   ]
  },
  {
   "cell_type": "code",
   "execution_count": 22,
   "metadata": {
    "id": "0u6VIzaDyuoT"
   },
   "outputs": [],
   "source": [
    "inv_yhat_without_mc = np.concatenate((forecast_without_mc, yhat_without_mc), axis=1) # Concatenation of predicted values with Historical Data\n",
    "#inv_yhat_without_mc = scaler.inverse_transform(inv_yhat_without_mc) # Transform labels back to original encoding"
   ]
  },
  {
   "cell_type": "code",
   "execution_count": 23,
   "metadata": {
    "colab": {
     "base_uri": "https://localhost:8080/"
    },
    "id": "EUEcw0LX07oU",
    "outputId": "cfc32397-9c37-4b43-d087-584bb31c3dcc"
   },
   "outputs": [
    {
     "data": {
      "text/plain": [
       "(1, 311)"
      ]
     },
     "execution_count": 23,
     "metadata": {},
     "output_type": "execute_result"
    }
   ],
   "source": [
    "inv_yhat_without_mc.shape"
   ]
  },
  {
   "cell_type": "code",
   "execution_count": 24,
   "metadata": {
    "id": "31OWVbSh_305"
   },
   "outputs": [],
   "source": [
    "fforecast = inv_yhat_without_mc[:,-300:]"
   ]
  },
  {
   "cell_type": "code",
   "execution_count": 25,
   "metadata": {},
   "outputs": [
    {
     "data": {
      "text/plain": [
       "(1, 300)"
      ]
     },
     "execution_count": 25,
     "metadata": {},
     "output_type": "execute_result"
    }
   ],
   "source": [
    "fforecast.shape"
   ]
  },
  {
   "cell_type": "code",
   "execution_count": 26,
   "metadata": {
    "id": "BlpGH2FOAiRF"
   },
   "outputs": [],
   "source": [
    "final_forecast = fforecast[:,0:300:3]"
   ]
  },
  {
   "cell_type": "code",
   "execution_count": 27,
   "metadata": {},
   "outputs": [
    {
     "data": {
      "text/plain": [
       "(1, 300)"
      ]
     },
     "execution_count": 27,
     "metadata": {},
     "output_type": "execute_result"
    }
   ],
   "source": [
    "fforecast.shape"
   ]
  },
  {
   "cell_type": "code",
   "execution_count": 28,
   "metadata": {
    "id": "CXkgkj_LBk_t"
   },
   "outputs": [],
   "source": [
    "# code to replace all negative value with 0\n",
    "final_forecast[final_forecast<0] = 0"
   ]
  },
  {
   "cell_type": "code",
   "execution_count": 29,
   "metadata": {},
   "outputs": [
    {
     "data": {
      "text/plain": [
       "array([[6.55913865e+01, 6.55157563e+01, 6.54401261e+01, 6.53644958e+01,\n",
       "        6.52888655e+01, 6.52132353e+01, 6.51376050e+01, 0.00000000e+00,\n",
       "        1.84284000e-01, 5.73102950e-01, 0.00000000e+00, 0.00000000e+00,\n",
       "        0.00000000e+00, 6.63160247e+01, 6.62361928e+01, 6.61563609e+01,\n",
       "        6.60765289e+01, 6.59966970e+01, 6.59168651e+01, 6.58370331e+01,\n",
       "        6.57594538e+01, 6.56838235e+01, 6.56081933e+01, 6.55325630e+01,\n",
       "        6.54569328e+01, 6.53813025e+01, 6.53056723e+01, 6.52300420e+01,\n",
       "        6.51544118e+01, 7.01633987e+01, 6.99234360e+01, 6.95200747e+01,\n",
       "        6.91167133e+01, 6.87133520e+01, 6.83071779e+01, 6.78912115e+01,\n",
       "        6.74752451e+01, 6.70592787e+01, 0.00000000e+00, 0.00000000e+00,\n",
       "        0.00000000e+00, 0.00000000e+00, 4.26903900e-01, 0.00000000e+00,\n",
       "        0.00000000e+00, 1.72087370e-01, 2.66606960e-01, 6.53981092e+01,\n",
       "        6.53224790e+01, 6.52468487e+01, 6.51712185e+01, 7.02082166e+01,\n",
       "        7.00065359e+01, 6.86097106e+01, 6.82063492e+01, 6.78029879e+01,\n",
       "        6.73996149e+01, 6.69843685e+01, 6.65832210e+01, 6.61828499e+01,\n",
       "        6.57834080e+01, 6.53840380e+01, 5.12230400e-01, 1.77785600e-01,\n",
       "        6.88328665e+01, 6.84295051e+01, 6.80144608e+01, 6.75984944e+01,\n",
       "        6.71825280e+01, 6.67665616e+01, 6.65200397e+01, 6.62805439e+01,\n",
       "        6.60410481e+01, 7.32400000e-04, 3.74972600e-01, 0.00000000e+00,\n",
       "        0.00000000e+00, 0.00000000e+00, 0.00000000e+00, 2.29632500e-01,\n",
       "        6.06198692e+01, 0.00000000e+00, 3.20638180e-01, 0.00000000e+00,\n",
       "        1.88546658e-01, 0.00000000e+00, 5.15083492e-01, 4.71665800e-01,\n",
       "        0.00000000e+00, 1.45723358e-01, 2.42086664e-01, 1.39785171e-01,\n",
       "        1.05602193e+00, 4.50234294e-01, 1.08848684e-01, 0.00000000e+00,\n",
       "        0.00000000e+00, 6.76236689e-01, 1.13051116e-01, 6.70922697e-01]])"
      ]
     },
     "execution_count": 29,
     "metadata": {},
     "output_type": "execute_result"
    }
   ],
   "source": [
    "final_forecast"
   ]
  },
  {
   "cell_type": "code",
   "execution_count": 30,
   "metadata": {},
   "outputs": [
    {
     "data": {
      "text/plain": [
       "(1, 100)"
      ]
     },
     "execution_count": 30,
     "metadata": {},
     "output_type": "execute_result"
    }
   ],
   "source": [
    "final_forecast.shape"
   ]
  },
  {
   "cell_type": "code",
   "execution_count": 31,
   "metadata": {},
   "outputs": [
    {
     "data": {
      "text/plain": [
       "(100,)"
      ]
     },
     "execution_count": 31,
     "metadata": {},
     "output_type": "execute_result"
    }
   ],
   "source": [
    "test.shape"
   ]
  },
  {
   "cell_type": "code",
   "execution_count": 32,
   "metadata": {},
   "outputs": [],
   "source": [
    "training_set = np.array(training_set)\n",
    "test = np.array(test)\n",
    "final_forecast = np.array(final_forecast.squeeze(0))"
   ]
  },
  {
   "cell_type": "code",
   "execution_count": 33,
   "metadata": {},
   "outputs": [
    {
     "data": {
      "text/plain": [
       "array([59.54016106, 59.53502568, 59.52989029, 59.5247549 , 59.51961951,\n",
       "       59.51448413, 59.50934874, 59.50421335, 59.49907796, 59.49394258,\n",
       "       59.48880719, 59.4836718 , 59.47853641, 59.47340103, 59.46826564,\n",
       "       59.46313025, 59.45799486, 59.45285948, 59.44772409, 59.4425887 ,\n",
       "       59.43745331, 59.43231793, 59.42718254, 59.42204715, 59.41691176,\n",
       "       59.41177638, 59.40664099, 59.4015056 , 59.39637021, 59.39123483,\n",
       "       59.38609944, 59.38096405, 59.37582866, 59.37069328, 59.36555789,\n",
       "       59.3604225 , 59.35528711, 59.35015173, 59.34501634, 59.33988095,\n",
       "       59.33474556, 59.32961018, 59.32447479, 59.3193394 , 59.31420401,\n",
       "       59.30906863, 59.30393324, 59.29879785, 59.29366246, 59.28852708,\n",
       "       59.28339169, 59.2782563 , 59.27312092, 59.26798553, 59.26285014,\n",
       "       59.25771475, 59.25257937, 59.24744398, 59.24230859, 59.2371732 ,\n",
       "       59.23203782, 59.22690243, 59.22176704, 59.21663165, 59.21149627,\n",
       "       59.20636088, 59.20122549, 59.1960901 , 59.19095472, 59.18581933,\n",
       "       59.18068394, 59.17554855, 59.17041317, 59.16527778, 59.16014239,\n",
       "       59.155007  , 59.14987162, 59.14473623, 59.13960084, 59.13446545,\n",
       "       59.12933007, 59.12419468, 59.11905929, 59.1139239 , 59.10878852,\n",
       "       59.10365313, 59.09851774, 59.09338235, 59.08824697, 59.08311158,\n",
       "       59.07797619, 59.0728408 , 59.06770542, 59.06257003, 59.05743464,\n",
       "       59.05229925, 59.04716387, 59.04202848, 59.03689309, 59.0317577 ])"
      ]
     },
     "execution_count": 33,
     "metadata": {},
     "output_type": "execute_result"
    }
   ],
   "source": [
    "test"
   ]
  },
  {
   "cell_type": "code",
   "execution_count": 34,
   "metadata": {},
   "outputs": [
    {
     "data": {
      "text/plain": [
       "(100,)"
      ]
     },
     "execution_count": 34,
     "metadata": {},
     "output_type": "execute_result"
    }
   ],
   "source": [
    "test.shape"
   ]
  },
  {
   "cell_type": "code",
   "execution_count": 35,
   "metadata": {},
   "outputs": [
    {
     "data": {
      "text/plain": [
       "(100,)"
      ]
     },
     "execution_count": 35,
     "metadata": {},
     "output_type": "execute_result"
    }
   ],
   "source": [
    "final_forecast.shape"
   ]
  },
  {
   "cell_type": "code",
   "execution_count": 36,
   "metadata": {},
   "outputs": [
    {
     "data": {
      "text/plain": [
       "(100,)"
      ]
     },
     "execution_count": 36,
     "metadata": {},
     "output_type": "execute_result"
    }
   ],
   "source": [
    "test.shape"
   ]
  },
  {
   "cell_type": "code",
   "execution_count": 37,
   "metadata": {},
   "outputs": [
    {
     "name": "stdout",
     "output_type": "stream",
     "text": [
      "39.11233867124846\n",
      "29.530073475428136\n"
     ]
    }
   ],
   "source": [
    "import math\n",
    "MSE = np.square(np.subtract(np.array(test),np.array(final_forecast))).mean()   \n",
    "rsme = math.sqrt(MSE)\n",
    "print(rsme)  \n",
    "MAE = np.abs(np.subtract(np.array(test),np.array(final_forecast))).mean()   \n",
    "mae = MAE\n",
    "print(mae)"
   ]
  }
 ],
 "metadata": {
  "colab": {
   "provenance": []
  },
  "kernelspec": {
   "display_name": "Python 3",
   "language": "python",
   "name": "python3"
  },
  "language_info": {
   "codemirror_mode": {
    "name": "ipython",
    "version": 3
   },
   "file_extension": ".py",
   "mimetype": "text/x-python",
   "name": "python",
   "nbconvert_exporter": "python",
   "pygments_lexer": "ipython3",
   "version": "3.9.13"
  }
 },
 "nbformat": 4,
 "nbformat_minor": 0
}
