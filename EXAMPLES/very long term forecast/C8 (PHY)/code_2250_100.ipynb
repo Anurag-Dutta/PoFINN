{
 "cells": [
  {
   "cell_type": "markdown",
   "metadata": {
    "id": "pCGKeZ2gyuoQ"
   },
   "source": [
    "_Importing Required Libraries_"
   ]
  },
  {
   "cell_type": "code",
   "execution_count": 1,
   "metadata": {
    "colab": {
     "base_uri": "https://localhost:8080/"
    },
    "id": "A-6LN-zXiLcM",
    "outputId": "4de610a4-f8b8-4f49-c6c0-89de299ccedc"
   },
   "outputs": [
    {
     "name": "stdout",
     "output_type": "stream",
     "text": [
      "Requirement already satisfied: hampel in c:\\users\\anurag dutta\\appdata\\local\\packages\\pythonsoftwarefoundation.python.3.9_qbz5n2kfra8p0\\localcache\\local-packages\\python39\\site-packages (0.0.5)\n",
      "Requirement already satisfied: numpy in c:\\users\\anurag dutta\\appdata\\local\\packages\\pythonsoftwarefoundation.python.3.9_qbz5n2kfra8p0\\localcache\\local-packages\\python39\\site-packages (from hampel) (1.26.4)\n",
      "Requirement already satisfied: pandas in c:\\users\\anurag dutta\\appdata\\local\\packages\\pythonsoftwarefoundation.python.3.9_qbz5n2kfra8p0\\localcache\\local-packages\\python39\\site-packages (from hampel) (1.5.2)\n",
      "Requirement already satisfied: python-dateutil>=2.8.1 in c:\\users\\anurag dutta\\appdata\\local\\packages\\pythonsoftwarefoundation.python.3.9_qbz5n2kfra8p0\\localcache\\local-packages\\python39\\site-packages (from pandas->hampel) (2.8.2)\n",
      "Requirement already satisfied: pytz>=2020.1 in c:\\users\\anurag dutta\\appdata\\local\\packages\\pythonsoftwarefoundation.python.3.9_qbz5n2kfra8p0\\localcache\\local-packages\\python39\\site-packages (from pandas->hampel) (2023.3.post1)\n",
      "Requirement already satisfied: six>=1.5 in c:\\users\\anurag dutta\\appdata\\local\\packages\\pythonsoftwarefoundation.python.3.9_qbz5n2kfra8p0\\localcache\\local-packages\\python39\\site-packages (from python-dateutil>=2.8.1->pandas->hampel) (1.16.0)\n",
      "Note: you may need to restart the kernel to use updated packages.\n"
     ]
    },
    {
     "name": "stderr",
     "output_type": "stream",
     "text": [
      "\n",
      "[notice] A new release of pip is available: 24.2 -> 24.3.1\n",
      "[notice] To update, run: C:\\Users\\Anurag Dutta\\AppData\\Local\\Microsoft\\WindowsApps\\PythonSoftwareFoundation.Python.3.9_qbz5n2kfra8p0\\python.exe -m pip install --upgrade pip\n"
     ]
    }
   ],
   "source": [
    "pip install hampel"
   ]
  },
  {
   "cell_type": "code",
   "execution_count": 2,
   "metadata": {
    "id": "By_d9uXpaFvZ"
   },
   "outputs": [],
   "source": [
    "from keras.models import Sequential\n",
    "from keras.layers import Dense\n",
    "from keras.layers import LSTM\n",
    "from keras.layers import Dropout\n",
    "import keras\n",
    "import tensorflow as tf\n",
    "from hampel import hampel\n",
    "import numpy as np\n",
    "import matplotlib.pyplot as plt\n",
    "import pandas as pd\n",
    "from sklearn.preprocessing import MinMaxScaler\n",
    "from sklearn.metrics import mean_squared_error, mean_absolute_error\n",
    "from math import sqrt\n",
    "from matplotlib import pyplot\n",
    "from numpy import array"
   ]
  },
  {
   "cell_type": "markdown",
   "metadata": {
    "id": "JyOjBMFayuoR"
   },
   "source": [
    "## Pretraining"
   ]
  },
  {
   "cell_type": "markdown",
   "metadata": {
    "id": "-5QqIY_GyuoR"
   },
   "source": [
    "The `capa_intermittency.dat` feeds the model with the dynamics of the Capacitor"
   ]
  },
  {
   "cell_type": "code",
   "execution_count": 3,
   "metadata": {
    "id": "9dV4a8yfyuoR"
   },
   "outputs": [],
   "source": [
    "data = np.genfromtxt('capa_intermittency.dat')\n",
    "training_set = pd.DataFrame(data).reset_index(drop=True)\n",
    "training_set = training_set.iloc[:,0]"
   ]
  },
  {
   "cell_type": "markdown",
   "metadata": {
    "id": "i7easoxByuoR"
   },
   "source": [
    "## Computing the Gradient"
   ]
  },
  {
   "cell_type": "markdown",
   "metadata": {
    "id": "5SnyolJTyuoR"
   },
   "source": [
    "_Calculating the value of_ $\\frac{dx}{dt}$"
   ]
  },
  {
   "cell_type": "code",
   "execution_count": 4,
   "metadata": {
    "colab": {
     "base_uri": "https://localhost:8080/"
    },
    "id": "wmIbVfIvyuoR",
    "outputId": "aa4e3136-c854-465d-d2e9-81cfd546e440"
   },
   "outputs": [
    {
     "name": "stdout",
     "output_type": "stream",
     "text": [
      "1.0\n",
      "1        0.000298\n",
      "2        0.000298\n",
      "3        0.000297\n",
      "4        0.000297\n",
      "5        0.000297\n",
      "           ...   \n",
      "9996     0.000018\n",
      "9997     0.000018\n",
      "9998     0.000018\n",
      "9999     0.000018\n",
      "10000    0.000018\n",
      "Name: 0, Length: 10000, dtype: float64\n"
     ]
    }
   ],
   "source": [
    "t_diff = 1\n",
    "print(training_set.max())\n",
    "gradient_t = (training_set.diff()/t_diff).iloc[1:] # dx/dt\n",
    "print(gradient_t)"
   ]
  },
  {
   "cell_type": "markdown",
   "metadata": {
    "id": "_2eVeeoxyuoS"
   },
   "source": [
    "## Loading Datasets"
   ]
  },
  {
   "cell_type": "code",
   "execution_count": 5,
   "metadata": {
    "id": "0J-NKyIEyuoS"
   },
   "outputs": [
    {
     "data": {
      "text/plain": [
       "0       88.200000\n",
       "1       87.987115\n",
       "2       87.774230\n",
       "3       87.561345\n",
       "4       87.348459\n",
       "          ...    \n",
       "2345    56.688809\n",
       "2346    56.679791\n",
       "2347    56.670773\n",
       "2348    56.661754\n",
       "2349    56.652736\n",
       "Name: C8, Length: 2350, dtype: float64"
      ]
     },
     "execution_count": 5,
     "metadata": {},
     "output_type": "execute_result"
    }
   ],
   "source": [
    "data = pd.read_csv(\"c8_interpolated_2250_100.csv\")\n",
    "training_set = data.iloc[:, 1]\n",
    "training_set"
   ]
  },
  {
   "cell_type": "code",
   "execution_count": 6,
   "metadata": {
    "colab": {
     "base_uri": "https://localhost:8080/"
    },
    "id": "-CbNUhJ74UqF",
    "outputId": "20f562d8-8247-49cc-b9c3-00eca5e13e2d"
   },
   "outputs": [
    {
     "data": {
      "text/plain": [
       "0       88.200000\n",
       "1       87.987115\n",
       "2       87.774230\n",
       "3       87.561345\n",
       "4       87.348459\n",
       "          ...    \n",
       "2245     1.227377\n",
       "2246     0.677593\n",
       "2247     0.452216\n",
       "2248     0.000000\n",
       "2249     0.857867\n",
       "Name: C8, Length: 2250, dtype: float64"
      ]
     },
     "execution_count": 6,
     "metadata": {},
     "output_type": "execute_result"
    }
   ],
   "source": [
    "test = training_set.tail(100)\n",
    "test\n",
    "training_set = training_set.head(2250)\n",
    "training_set"
   ]
  },
  {
   "cell_type": "code",
   "execution_count": 7,
   "metadata": {
    "colab": {
     "base_uri": "https://localhost:8080/"
    },
    "id": "X0TwTcq0yuoS",
    "outputId": "37252ed8-d88e-4044-fa7a-922411990b5b"
   },
   "outputs": [
    {
     "name": "stdout",
     "output_type": "stream",
     "text": [
      "0       0.000298\n",
      "1       0.000298\n",
      "2       0.000297\n",
      "3       0.000297\n",
      "4       0.000297\n",
      "          ...   \n",
      "9995    0.000018\n",
      "9996    0.000018\n",
      "9997    0.000018\n",
      "9998    0.000018\n",
      "9999    0.000018\n",
      "Name: 0, Length: 10000, dtype: float64\n"
     ]
    }
   ],
   "source": [
    "training_set = training_set.reset_index(drop=True)\n",
    "gradient_t = gradient_t.reset_index(drop=True)\n",
    "print(gradient_t)"
   ]
  },
  {
   "cell_type": "code",
   "execution_count": 8,
   "metadata": {
    "id": "O2biznZQyuoS"
   },
   "outputs": [],
   "source": [
    "df = pd.concat((training_set, gradient_t), axis=1)\n",
    "df.columns = ['y_t', 'grad_t']"
   ]
  },
  {
   "cell_type": "code",
   "execution_count": 9,
   "metadata": {
    "colab": {
     "base_uri": "https://localhost:8080/",
     "height": 423
    },
    "id": "sk_a5v3tyuoS",
    "outputId": "17563625-e550-45ae-faab-fafa353e44da"
   },
   "outputs": [
    {
     "data": {
      "text/html": [
       "<div>\n",
       "<style scoped>\n",
       "    .dataframe tbody tr th:only-of-type {\n",
       "        vertical-align: middle;\n",
       "    }\n",
       "\n",
       "    .dataframe tbody tr th {\n",
       "        vertical-align: top;\n",
       "    }\n",
       "\n",
       "    .dataframe thead th {\n",
       "        text-align: right;\n",
       "    }\n",
       "</style>\n",
       "<table border=\"1\" class=\"dataframe\">\n",
       "  <thead>\n",
       "    <tr style=\"text-align: right;\">\n",
       "      <th></th>\n",
       "      <th>y_t</th>\n",
       "      <th>grad_t</th>\n",
       "    </tr>\n",
       "  </thead>\n",
       "  <tbody>\n",
       "    <tr>\n",
       "      <th>0</th>\n",
       "      <td>88.200000</td>\n",
       "      <td>0.000298</td>\n",
       "    </tr>\n",
       "    <tr>\n",
       "      <th>1</th>\n",
       "      <td>87.987115</td>\n",
       "      <td>0.000298</td>\n",
       "    </tr>\n",
       "    <tr>\n",
       "      <th>2</th>\n",
       "      <td>87.774230</td>\n",
       "      <td>0.000297</td>\n",
       "    </tr>\n",
       "    <tr>\n",
       "      <th>3</th>\n",
       "      <td>87.561345</td>\n",
       "      <td>0.000297</td>\n",
       "    </tr>\n",
       "    <tr>\n",
       "      <th>4</th>\n",
       "      <td>87.348459</td>\n",
       "      <td>0.000297</td>\n",
       "    </tr>\n",
       "    <tr>\n",
       "      <th>...</th>\n",
       "      <td>...</td>\n",
       "      <td>...</td>\n",
       "    </tr>\n",
       "    <tr>\n",
       "      <th>9995</th>\n",
       "      <td>NaN</td>\n",
       "      <td>0.000018</td>\n",
       "    </tr>\n",
       "    <tr>\n",
       "      <th>9996</th>\n",
       "      <td>NaN</td>\n",
       "      <td>0.000018</td>\n",
       "    </tr>\n",
       "    <tr>\n",
       "      <th>9997</th>\n",
       "      <td>NaN</td>\n",
       "      <td>0.000018</td>\n",
       "    </tr>\n",
       "    <tr>\n",
       "      <th>9998</th>\n",
       "      <td>NaN</td>\n",
       "      <td>0.000018</td>\n",
       "    </tr>\n",
       "    <tr>\n",
       "      <th>9999</th>\n",
       "      <td>NaN</td>\n",
       "      <td>0.000018</td>\n",
       "    </tr>\n",
       "  </tbody>\n",
       "</table>\n",
       "<p>10000 rows × 2 columns</p>\n",
       "</div>"
      ],
      "text/plain": [
       "            y_t    grad_t\n",
       "0     88.200000  0.000298\n",
       "1     87.987115  0.000298\n",
       "2     87.774230  0.000297\n",
       "3     87.561345  0.000297\n",
       "4     87.348459  0.000297\n",
       "...         ...       ...\n",
       "9995        NaN  0.000018\n",
       "9996        NaN  0.000018\n",
       "9997        NaN  0.000018\n",
       "9998        NaN  0.000018\n",
       "9999        NaN  0.000018\n",
       "\n",
       "[10000 rows x 2 columns]"
      ]
     },
     "execution_count": 9,
     "metadata": {},
     "output_type": "execute_result"
    }
   ],
   "source": [
    "df"
   ]
  },
  {
   "cell_type": "markdown",
   "metadata": {
    "id": "-5esyHu5aFvg"
   },
   "source": [
    "## Plot of the External Forcing from Chaotic Differential Equation"
   ]
  },
  {
   "cell_type": "code",
   "execution_count": 10,
   "metadata": {
    "colab": {
     "base_uri": "https://localhost:8080/",
     "height": 447
    },
    "id": "hGnE43tOh-4p",
    "outputId": "fc396503-b624-4fa5-dfbe-f460207405c6"
   },
   "outputs": [
    {
     "data": {
      "text/plain": [
       "<Axes: >"
      ]
     },
     "execution_count": 10,
     "metadata": {},
     "output_type": "execute_result"
    },
    {
     "data": {
      "image/png": "[encoded data removed]",
      "text/plain": [
       "<Figure size 432x288 with 1 Axes>"
      ]
     },
     "metadata": {
      "needs_background": "light"
     },
     "output_type": "display_data"
    }
   ],
   "source": [
    "df.iloc[:, 0].plot()"
   ]
  },
  {
   "cell_type": "code",
   "execution_count": 11,
   "metadata": {
    "colab": {
     "base_uri": "https://localhost:8080/",
     "height": 447
    },
    "id": "ym4xWUUxaFvg",
    "outputId": "ae6a3495-8ce9-437e-ba81-3ed31deedeae"
   },
   "outputs": [
    {
     "name": "stderr",
     "output_type": "stream",
     "text": [
      "C:\\Users\\Anurag Dutta\\AppData\\Local\\Packages\\PythonSoftwareFoundation.Python.3.9_qbz5n2kfra8p0\\LocalCache\\local-packages\\Python39\\site-packages\\pandas\\core\\arraylike.py:402: RuntimeWarning: divide by zero encountered in log\n",
      "  result = getattr(ufunc, method)(*inputs, **kwargs)\n"
     ]
    },
    {
     "data": {
      "text/plain": [
       "<Axes: >"
      ]
     },
     "execution_count": 11,
     "metadata": {},
     "output_type": "execute_result"
    },
    {
     "data": {
      "image/png": "[encoded data removed]",
      "text/plain": [
       "<Figure size 432x288 with 1 Axes>"
      ]
     },
     "metadata": {
      "needs_background": "light"
     },
     "output_type": "display_data"
    }
   ],
   "source": [
    "import numpy as np\n",
    "c0 = 85.7336  # Value for C0\n",
    "K0 = -0.0020  # Value for K0\n",
    "K1 = 0.0002  # Value for K1\n",
    "a = 0.0000    # Value for a\n",
    "b = 0.0125    # Value for b\n",
    "c = 2.3008    # Value for c\n",
    "\n",
    "L = np.minimum(c0, (df.iloc[:, 1] - (df.iloc[:, 0] * (K0 - K1 * (9 * a * np.log(df.iloc[:, 0] / c0) / (K0 - K1 * c)**2 + 4 * b * np.log(df.iloc[:, 0] / c0) / (K0 - K1 * c) + c)))))\n",
    "L.plot()"
   ]
  },
  {
   "cell_type": "markdown",
   "metadata": {
    "id": "9VyEywnwaFvh"
   },
   "source": [
    "## Preprocessing the data into supervised learning"
   ]
  },
  {
   "cell_type": "code",
   "execution_count": 12,
   "metadata": {
    "id": "6V9dXqzdaFvh"
   },
   "outputs": [],
   "source": [
    "# split a sequence into samples\n",
    "def Supervised(data, n_in=1, n_out=1, dropnan=True):\n",
    "    n_vars = 1 if type(data) is list else data.shape[1]\n",
    "    df = pd.DataFrame(data)\n",
    "    cols, names = list(), list()\n",
    "    # input sequence (t-n_in, ... t-1)\n",
    "    for i in range(n_in, 0, -1):\n",
    "        cols.append(df.shift(i))\n",
    "        names += [('var%d(t-%d)' % (j+1, i)) for j in range(n_vars)]\n",
    "    # forecast sequence (t, t+1, ... t+n_out)\n",
    "    for i in range(0, n_out):\n",
    "      cols.append(df.shift(-i))\n",
    "      if i == 0:\n",
    "        names += [('var%d(t)' % (j+1)) for j in range(n_vars)]\n",
    "      else:\n",
    "        names += [('var%d(t+%d)' % (j+1, i)) for j in range(n_vars)]\n",
    "    # put it all together\n",
    "    agg = pd.concat(cols, axis=1)\n",
    "    agg.columns = names\n",
    "    # drop rows with NaN values\n",
    "    if dropnan:\n",
    "       agg.dropna(inplace=True)\n",
    "    return agg"
   ]
  },
  {
   "cell_type": "code",
   "execution_count": 13,
   "metadata": {
    "colab": {
     "base_uri": "https://localhost:8080/"
    },
    "id": "CrzSrT1HnyfH",
    "outputId": "7e75f928-3e47-499d-eac1-51908015ef78"
   },
   "outputs": [
    {
     "name": "stdout",
     "output_type": "stream",
     "text": [
      "     var1(t-350)  var1(t-349)  var1(t-348)  var1(t-347)  var1(t-346)  \\\n",
      "350    88.200000    87.987115    87.774230    87.561345    87.348459   \n",
      "351    87.987115    87.774230    87.561345    87.348459    87.135574   \n",
      "352    87.774230    87.561345    87.348459    87.135574    86.922689   \n",
      "353    87.561345    87.348459    87.135574    86.922689    86.709804   \n",
      "354    87.348459    87.135574    86.922689    86.709804    86.496919   \n",
      "\n",
      "     var1(t-345)  var1(t-344)  var1(t-343)  var1(t-342)  var1(t-341)  ...  \\\n",
      "350    87.135574    86.922689    86.709804    86.496919    86.294538  ...   \n",
      "351    86.922689    86.709804    86.496919    86.294538    86.221709  ...   \n",
      "352    86.709804    86.496919    86.294538    86.221709    86.148880  ...   \n",
      "353    86.496919    86.294538    86.221709    86.148880    86.076050  ...   \n",
      "354    86.294538    86.221709    86.148880    86.076050    86.003221  ...   \n",
      "\n",
      "     var1(t+95)  var2(t+95)  var1(t+96)  var2(t+96)  var1(t+97)  var2(t+97)  \\\n",
      "350   76.094351    0.000263   76.058870    0.000263   76.023389    0.000263   \n",
      "351   76.058870    0.000263   76.023389    0.000263   75.987909    0.000262   \n",
      "352   76.023389    0.000263   75.987909    0.000262   75.952428    0.000262   \n",
      "353   75.987909    0.000262   75.952428    0.000262   75.916947    0.000262   \n",
      "354   75.952428    0.000262   75.916947    0.000262   75.881466    0.000262   \n",
      "\n",
      "     var1(t+98)  var2(t+98)  var1(t+99)  var2(t+99)  \n",
      "350   75.987909    0.000262   75.952428    0.000262  \n",
      "351   75.952428    0.000262   75.916947    0.000262  \n",
      "352   75.916947    0.000262   75.881466    0.000262  \n",
      "353   75.881466    0.000262   75.845985    0.000262  \n",
      "354   75.845985    0.000262   75.810504    0.000262  \n",
      "\n",
      "[5 rows x 551 columns]\n",
      "Index(['var1(t-350)', 'var1(t-349)', 'var1(t-348)', 'var1(t-347)',\n",
      "       'var1(t-346)', 'var1(t-345)', 'var1(t-344)', 'var1(t-343)',\n",
      "       'var1(t-342)', 'var1(t-341)',\n",
      "       ...\n",
      "       'var1(t+95)', 'var2(t+95)', 'var1(t+96)', 'var2(t+96)', 'var1(t+97)',\n",
      "       'var2(t+97)', 'var1(t+98)', 'var2(t+98)', 'var1(t+99)', 'var2(t+99)'],\n",
      "      dtype='object', length=551)\n"
     ]
    }
   ],
   "source": [
    "data = Supervised(df.values, n_in = 350, n_out = 100)\n",
    "\n",
    "\n",
    "cols_to_drop = []\n",
    "for i in range(2, 351):\n",
    "    cols_to_drop.extend([f'var2(t-{i})'])\n",
    "\n",
    "data.drop(cols_to_drop, axis=1, inplace=True)\n",
    "\n",
    "print(data.head())\n",
    "print(data.columns)"
   ]
  },
  {
   "cell_type": "code",
   "execution_count": 14,
   "metadata": {
    "id": "AfPf60oy6Pe4"
   },
   "outputs": [],
   "source": [
    "train = np.array(data[0:len(data)-1])\n",
    "forecast = np.array(data.tail(1))"
   ]
  },
  {
   "cell_type": "code",
   "execution_count": 15,
   "metadata": {
    "id": "WSAafzI37KiT"
   },
   "outputs": [],
   "source": [
    "trainy = train[:,-300:]\n",
    "trainX = train[:,:-300]"
   ]
  },
  {
   "cell_type": "code",
   "execution_count": 16,
   "metadata": {
    "id": "2SrOqVJA7f50"
   },
   "outputs": [],
   "source": [
    "forecasty = forecast[:,-300:]\n",
    "forecastX = forecast[:,:-300]"
   ]
  },
  {
   "cell_type": "code",
   "execution_count": 17,
   "metadata": {
    "colab": {
     "base_uri": "https://localhost:8080/"
    },
    "id": "Qno_k8Nw7saY",
    "outputId": "c4a88db5-d8c6-489f-cdb2-06b24e293cff"
   },
   "outputs": [
    {
     "name": "stdout",
     "output_type": "stream",
     "text": [
      "(1800, 1, 251) (1800, 300) (1, 1, 251)\n"
     ]
    }
   ],
   "source": [
    "trainX = trainX.reshape((trainX.shape[0], 1, trainX.shape[1]))\n",
    "forecastX = forecastX.reshape((forecastX.shape[0], 1, forecastX.shape[1]))\n",
    "print(trainX.shape, trainy.shape, forecastX.shape)"
   ]
  },
  {
   "cell_type": "code",
   "execution_count": 18,
   "metadata": {
    "colab": {
     "base_uri": "https://localhost:8080/"
    },
    "id": "b1Jp2DvNuNFx",
    "outputId": "d0e5b3c4-64f1-438c-eade-8dfeaac8e285"
   },
   "outputs": [
    {
     "name": "stdout",
     "output_type": "stream",
     "text": [
      "Epoch 1/500\n",
      "23/23 [==============================] - 3s 24ms/step - loss: 4519.0015 - val_loss: 2455.1340\n",
      "Epoch 2/500\n",
      "23/23 [==============================] - 0s 4ms/step - loss: 4254.3589 - val_loss: 2328.8699\n",
      "Epoch 3/500\n",
      "23/23 [==============================] - 0s 5ms/step - loss: 4115.7241 - val_loss: 2266.8657\n",
      "Epoch 4/500\n",
      "23/23 [==============================] - 0s 7ms/step - loss: 4012.8694 - val_loss: 2211.5879\n",
      "Epoch 5/500\n",
      "23/23 [==============================] - 0s 6ms/step - loss: 3915.1719 - val_loss: 2159.4597\n",
      "Epoch 6/500\n",
      "23/23 [==============================] - 0s 6ms/step - loss: 3821.5552 - val_loss: 2110.2563\n",
      "Epoch 7/500\n",
      "23/23 [==============================] - 0s 5ms/step - loss: 3732.1194 - val_loss: 2060.9651\n",
      "Epoch 8/500\n",
      "23/23 [==============================] - 0s 5ms/step - loss: 3636.4521 - val_loss: 2010.5308\n",
      "Epoch 9/500\n",
      "23/23 [==============================] - 0s 4ms/step - loss: 3545.1787 - val_loss: 1963.9191\n",
      "Epoch 10/500\n",
      "23/23 [==============================] - 0s 5ms/step - loss: 3456.3518 - val_loss: 1914.3264\n",
      "Epoch 11/500\n",
      "23/23 [==============================] - 0s 4ms/step - loss: 3360.6265 - val_loss: 1868.9148\n",
      "Epoch 12/500\n",
      "23/23 [==============================] - 0s 4ms/step - loss: 3273.2632 - val_loss: 1825.7891\n",
      "Epoch 13/500\n",
      "23/23 [==============================] - 0s 5ms/step - loss: 3189.0955 - val_loss: 1784.6730\n",
      "Epoch 14/500\n",
      "23/23 [==============================] - 0s 4ms/step - loss: 3107.5740 - val_loss: 1745.3063\n",
      "Epoch 15/500\n",
      "23/23 [==============================] - 0s 4ms/step - loss: 3028.3374 - val_loss: 1707.5371\n",
      "Epoch 16/500\n",
      "23/23 [==============================] - 0s 5ms/step - loss: 2951.1743 - val_loss: 1671.2667\n",
      "Epoch 17/500\n",
      "23/23 [==============================] - 0s 4ms/step - loss: 2875.9451 - val_loss: 1636.4218\n",
      "Epoch 18/500\n",
      "23/23 [==============================] - 0s 4ms/step - loss: 2802.5481 - val_loss: 1602.9446\n",
      "Epoch 19/500\n",
      "23/23 [==============================] - 0s 4ms/step - loss: 2730.9067 - val_loss: 1570.7878\n",
      "Epoch 20/500\n",
      "23/23 [==============================] - 0s 4ms/step - loss: 2660.9558 - val_loss: 1539.9100\n",
      "Epoch 21/500\n",
      "23/23 [==============================] - 0s 4ms/step - loss: 2592.6416 - val_loss: 1510.2742\n",
      "Epoch 22/500\n",
      "23/23 [==============================] - 0s 4ms/step - loss: 2525.9180 - val_loss: 1481.8466\n",
      "Epoch 23/500\n",
      "23/23 [==============================] - 0s 4ms/step - loss: 2460.7422 - val_loss: 1454.5969\n",
      "Epoch 24/500\n",
      "23/23 [==============================] - 0s 4ms/step - loss: 2397.0769 - val_loss: 1428.4961\n",
      "Epoch 25/500\n",
      "23/23 [==============================] - 0s 4ms/step - loss: 2334.8872 - val_loss: 1403.5165\n",
      "Epoch 26/500\n",
      "23/23 [==============================] - 0s 4ms/step - loss: 2274.1409 - val_loss: 1379.6326\n",
      "Epoch 27/500\n",
      "23/23 [==============================] - 0s 4ms/step - loss: 2214.8081 - val_loss: 1356.8190\n",
      "Epoch 28/500\n",
      "23/23 [==============================] - 0s 4ms/step - loss: 2156.8601 - val_loss: 1335.0521\n",
      "Epoch 29/500\n",
      "23/23 [==============================] - 0s 5ms/step - loss: 2100.2688 - val_loss: 1314.3082\n",
      "Epoch 30/500\n",
      "23/23 [==============================] - 0s 6ms/step - loss: 2045.0095 - val_loss: 1294.5651\n",
      "Epoch 31/500\n",
      "23/23 [==============================] - 0s 4ms/step - loss: 1991.0560 - val_loss: 1275.8007\n",
      "Epoch 32/500\n",
      "23/23 [==============================] - 0s 4ms/step - loss: 1938.3854 - val_loss: 1257.9935\n",
      "Epoch 33/500\n",
      "23/23 [==============================] - 0s 4ms/step - loss: 1886.9724 - val_loss: 1241.1221\n",
      "Epoch 34/500\n",
      "23/23 [==============================] - 0s 4ms/step - loss: 1836.7953 - val_loss: 1225.1661\n",
      "Epoch 35/500\n",
      "23/23 [==============================] - 0s 4ms/step - loss: 1787.8319 - val_loss: 1210.1052\n",
      "Epoch 36/500\n",
      "23/23 [==============================] - 0s 4ms/step - loss: 1740.0609 - val_loss: 1195.9197\n",
      "Epoch 37/500\n",
      "23/23 [==============================] - 0s 4ms/step - loss: 1693.4602 - val_loss: 1182.5897\n",
      "Epoch 38/500\n",
      "23/23 [==============================] - 0s 5ms/step - loss: 1648.0095 - val_loss: 1170.0957\n",
      "Epoch 39/500\n",
      "23/23 [==============================] - 0s 9ms/step - loss: 1603.6888 - val_loss: 1158.4191\n",
      "Epoch 40/500\n",
      "23/23 [==============================] - 0s 4ms/step - loss: 1560.4778 - val_loss: 1147.5405\n",
      "Epoch 41/500\n",
      "23/23 [==============================] - 0s 4ms/step - loss: 1518.3562 - val_loss: 1137.4418\n",
      "Epoch 42/500\n",
      "23/23 [==============================] - 0s 5ms/step - loss: 1477.3059 - val_loss: 1128.1044\n",
      "Epoch 43/500\n",
      "23/23 [==============================] - 0s 4ms/step - loss: 1437.3069 - val_loss: 1119.5098\n",
      "Epoch 44/500\n",
      "23/23 [==============================] - 0s 5ms/step - loss: 1398.3411 - val_loss: 1111.6406\n",
      "Epoch 45/500\n",
      "23/23 [==============================] - 0s 4ms/step - loss: 1360.3893 - val_loss: 1104.4788\n",
      "Epoch 46/500\n",
      "23/23 [==============================] - 0s 7ms/step - loss: 1323.4337 - val_loss: 1098.0067\n",
      "Epoch 47/500\n",
      "23/23 [==============================] - 0s 6ms/step - loss: 1287.4565 - val_loss: 1092.2069\n",
      "Epoch 48/500\n",
      "23/23 [==============================] - 0s 7ms/step - loss: 1252.4395 - val_loss: 1087.0624\n",
      "Epoch 49/500\n",
      "23/23 [==============================] - 0s 5ms/step - loss: 1218.3652 - val_loss: 1082.5558\n",
      "Epoch 50/500\n",
      "23/23 [==============================] - 0s 5ms/step - loss: 1185.2162 - val_loss: 1078.6702\n",
      "Epoch 51/500\n",
      "23/23 [==============================] - 0s 4ms/step - loss: 1152.9756 - val_loss: 1075.3889\n",
      "Epoch 52/500\n",
      "23/23 [==============================] - 0s 4ms/step - loss: 1121.6263 - val_loss: 1072.6954\n",
      "Epoch 53/500\n",
      "23/23 [==============================] - 0s 4ms/step - loss: 1091.1510 - val_loss: 1070.5732\n",
      "Epoch 54/500\n",
      "23/23 [==============================] - 0s 5ms/step - loss: 1061.5338 - val_loss: 1069.0061\n",
      "Epoch 55/500\n",
      "23/23 [==============================] - 0s 5ms/step - loss: 1032.7581 - val_loss: 1067.9777\n",
      "Epoch 56/500\n",
      "23/23 [==============================] - 0s 6ms/step - loss: 1004.8072 - val_loss: 1067.4719\n",
      "Epoch 57/500\n",
      "23/23 [==============================] - 0s 6ms/step - loss: 977.6651 - val_loss: 1067.4731\n",
      "Epoch 58/500\n",
      "23/23 [==============================] - 0s 5ms/step - loss: 951.3162 - val_loss: 1067.9656\n",
      "Epoch 59/500\n",
      "23/23 [==============================] - 0s 4ms/step - loss: 925.7444 - val_loss: 1068.9337\n",
      "Epoch 60/500\n",
      "23/23 [==============================] - 0s 4ms/step - loss: 900.9343 - val_loss: 1070.3621\n",
      "Epoch 61/500\n",
      "23/23 [==============================] - 0s 4ms/step - loss: 876.8702 - val_loss: 1072.2352\n",
      "Epoch 62/500\n",
      "23/23 [==============================] - 0s 4ms/step - loss: 853.5370 - val_loss: 1074.5383\n",
      "Epoch 63/500\n",
      "23/23 [==============================] - 0s 4ms/step - loss: 830.9194 - val_loss: 1077.2561\n",
      "Epoch 64/500\n",
      "23/23 [==============================] - 0s 4ms/step - loss: 809.0024 - val_loss: 1080.3739\n",
      "Epoch 65/500\n",
      "23/23 [==============================] - 0s 4ms/step - loss: 787.7710 - val_loss: 1083.8768\n",
      "Epoch 66/500\n",
      "23/23 [==============================] - 0s 4ms/step - loss: 767.2108 - val_loss: 1087.7505\n",
      "Epoch 67/500\n",
      "23/23 [==============================] - 0s 4ms/step - loss: 747.3069 - val_loss: 1091.9803\n",
      "Epoch 68/500\n",
      "23/23 [==============================] - 0s 4ms/step - loss: 728.0451 - val_loss: 1096.5525\n",
      "Epoch 69/500\n",
      "23/23 [==============================] - 0s 4ms/step - loss: 709.4107 - val_loss: 1101.4523\n",
      "Epoch 70/500\n",
      "23/23 [==============================] - 0s 5ms/step - loss: 691.3901 - val_loss: 1106.6663\n",
      "Epoch 71/500\n",
      "23/23 [==============================] - 0s 4ms/step - loss: 673.9690 - val_loss: 1112.1803\n",
      "Epoch 72/500\n",
      "23/23 [==============================] - 0s 4ms/step - loss: 657.1338 - val_loss: 1117.9807\n",
      "Epoch 73/500\n",
      "23/23 [==============================] - 0s 6ms/step - loss: 640.8702 - val_loss: 1124.0543\n",
      "Epoch 74/500\n",
      "23/23 [==============================] - 0s 9ms/step - loss: 625.1655 - val_loss: 1130.3881\n",
      "Epoch 75/500\n",
      "23/23 [==============================] - 0s 4ms/step - loss: 610.0056 - val_loss: 1136.9681\n",
      "Epoch 76/500\n",
      "23/23 [==============================] - 0s 4ms/step - loss: 595.3776 - val_loss: 1143.7822\n",
      "Epoch 77/500\n",
      "23/23 [==============================] - 0s 4ms/step - loss: 581.2682 - val_loss: 1150.8167\n",
      "Epoch 78/500\n",
      "23/23 [==============================] - 0s 4ms/step - loss: 567.6647 - val_loss: 1158.0594\n",
      "Epoch 79/500\n",
      "23/23 [==============================] - 0s 5ms/step - loss: 554.5541 - val_loss: 1165.4983\n",
      "Epoch 80/500\n",
      "23/23 [==============================] - 0s 5ms/step - loss: 541.9238 - val_loss: 1173.1205\n",
      "Epoch 81/500\n",
      "23/23 [==============================] - 0s 4ms/step - loss: 529.7611 - val_loss: 1180.9143\n",
      "Epoch 82/500\n",
      "23/23 [==============================] - 0s 4ms/step - loss: 518.0540 - val_loss: 1188.8677\n",
      "Epoch 83/500\n",
      "23/23 [==============================] - 0s 4ms/step - loss: 506.7899 - val_loss: 1196.9686\n",
      "Epoch 84/500\n",
      "23/23 [==============================] - 0s 4ms/step - loss: 495.9574 - val_loss: 1205.2061\n",
      "Epoch 85/500\n",
      "23/23 [==============================] - 0s 4ms/step - loss: 485.5438 - val_loss: 1213.5690\n",
      "Epoch 86/500\n",
      "23/23 [==============================] - 0s 4ms/step - loss: 475.5380 - val_loss: 1222.0455\n",
      "Epoch 87/500\n",
      "23/23 [==============================] - 0s 4ms/step - loss: 465.9283 - val_loss: 1230.6250\n",
      "Epoch 88/500\n",
      "23/23 [==============================] - 0s 4ms/step - loss: 456.7031 - val_loss: 1239.2968\n",
      "Epoch 89/500\n",
      "23/23 [==============================] - 0s 4ms/step - loss: 447.8514 - val_loss: 1248.0502\n",
      "Epoch 90/500\n",
      "23/23 [==============================] - 0s 4ms/step - loss: 439.3622 - val_loss: 1256.8757\n",
      "Epoch 91/500\n",
      "23/23 [==============================] - 0s 5ms/step - loss: 431.2245 - val_loss: 1265.7626\n",
      "Epoch 92/500\n",
      "23/23 [==============================] - 0s 4ms/step - loss: 423.4276 - val_loss: 1274.7012\n",
      "Epoch 93/500\n",
      "23/23 [==============================] - 0s 4ms/step - loss: 415.9606 - val_loss: 1283.6818\n",
      "Epoch 94/500\n",
      "23/23 [==============================] - 0s 4ms/step - loss: 408.8139 - val_loss: 1292.6952\n",
      "Epoch 95/500\n",
      "23/23 [==============================] - 0s 4ms/step - loss: 401.9767 - val_loss: 1301.7319\n",
      "Epoch 96/500\n",
      "23/23 [==============================] - 0s 4ms/step - loss: 395.4391 - val_loss: 1310.7832\n",
      "Epoch 97/500\n",
      "23/23 [==============================] - 0s 4ms/step - loss: 389.1914 - val_loss: 1319.8407\n",
      "Epoch 98/500\n",
      "23/23 [==============================] - 0s 4ms/step - loss: 383.2238 - val_loss: 1328.8956\n",
      "Epoch 99/500\n",
      "23/23 [==============================] - 0s 4ms/step - loss: 377.5268 - val_loss: 1337.9398\n",
      "Epoch 100/500\n",
      "23/23 [==============================] - 0s 4ms/step - loss: 372.0912 - val_loss: 1346.9656\n",
      "Epoch 101/500\n",
      "23/23 [==============================] - 0s 4ms/step - loss: 366.9078 - val_loss: 1355.9650\n",
      "Epoch 102/500\n",
      "23/23 [==============================] - 0s 4ms/step - loss: 361.9676 - val_loss: 1364.9302\n",
      "Epoch 103/500\n",
      "23/23 [==============================] - 0s 5ms/step - loss: 357.2621 - val_loss: 1373.8547\n",
      "Epoch 104/500\n",
      "23/23 [==============================] - 0s 5ms/step - loss: 352.7825 - val_loss: 1382.7317\n",
      "Epoch 105/500\n",
      "23/23 [==============================] - 0s 5ms/step - loss: 348.5205 - val_loss: 1391.5536\n",
      "Epoch 106/500\n",
      "23/23 [==============================] - 0s 4ms/step - loss: 344.4678 - val_loss: 1400.3145\n",
      "Epoch 107/500\n",
      "23/23 [==============================] - 0s 5ms/step - loss: 340.6167 - val_loss: 1409.0084\n",
      "Epoch 108/500\n",
      "23/23 [==============================] - 0s 4ms/step - loss: 336.9591 - val_loss: 1417.6290\n",
      "Epoch 109/500\n",
      "23/23 [==============================] - 0s 5ms/step - loss: 333.4875 - val_loss: 1426.1708\n",
      "Epoch 110/500\n",
      "23/23 [==============================] - 0s 6ms/step - loss: 330.1945 - val_loss: 1434.6281\n",
      "Epoch 111/500\n",
      "23/23 [==============================] - 0s 4ms/step - loss: 327.0726 - val_loss: 1442.9962\n",
      "Epoch 112/500\n",
      "23/23 [==============================] - 0s 10ms/step - loss: 324.1150 - val_loss: 1451.2708\n",
      "Epoch 113/500\n",
      "23/23 [==============================] - 0s 4ms/step - loss: 321.3148 - val_loss: 1459.4452\n",
      "Epoch 114/500\n",
      "23/23 [==============================] - 0s 4ms/step - loss: 318.6652 - val_loss: 1467.5173\n",
      "Epoch 115/500\n",
      "23/23 [==============================] - 0s 4ms/step - loss: 316.1598 - val_loss: 1475.4822\n",
      "Epoch 116/500\n",
      "23/23 [==============================] - 0s 4ms/step - loss: 313.7922 - val_loss: 1483.3351\n",
      "Epoch 117/500\n",
      "23/23 [==============================] - 0s 4ms/step - loss: 311.5565 - val_loss: 1491.0736\n",
      "Epoch 118/500\n",
      "23/23 [==============================] - 0s 4ms/step - loss: 309.4465 - val_loss: 1498.6940\n",
      "Epoch 119/500\n",
      "23/23 [==============================] - 0s 4ms/step - loss: 307.4567 - val_loss: 1506.1932\n",
      "Epoch 120/500\n",
      "23/23 [==============================] - 0s 4ms/step - loss: 305.5812 - val_loss: 1513.5682\n",
      "Epoch 121/500\n",
      "23/23 [==============================] - 0s 4ms/step - loss: 303.8150 - val_loss: 1520.8169\n",
      "Epoch 122/500\n",
      "23/23 [==============================] - 0s 4ms/step - loss: 302.1525 - val_loss: 1527.9362\n",
      "Epoch 123/500\n",
      "23/23 [==============================] - 0s 4ms/step - loss: 300.5889 - val_loss: 1534.9241\n",
      "Epoch 124/500\n",
      "23/23 [==============================] - 0s 4ms/step - loss: 299.1194 - val_loss: 1541.7788\n",
      "Epoch 125/500\n",
      "23/23 [==============================] - 0s 4ms/step - loss: 297.7391 - val_loss: 1548.4991\n",
      "Epoch 126/500\n",
      "23/23 [==============================] - 0s 4ms/step - loss: 296.4435 - val_loss: 1555.0834\n",
      "Epoch 127/500\n",
      "23/23 [==============================] - 0s 4ms/step - loss: 295.2284 - val_loss: 1561.5295\n",
      "Epoch 128/500\n",
      "23/23 [==============================] - 0s 4ms/step - loss: 294.0897 - val_loss: 1567.8376\n",
      "Epoch 129/500\n",
      "23/23 [==============================] - 0s 4ms/step - loss: 293.0230 - val_loss: 1574.0066\n",
      "Epoch 130/500\n",
      "23/23 [==============================] - 0s 4ms/step - loss: 292.0248 - val_loss: 1580.0359\n",
      "Epoch 131/500\n",
      "23/23 [==============================] - 0s 4ms/step - loss: 291.0912 - val_loss: 1585.9252\n",
      "Epoch 132/500\n",
      "23/23 [==============================] - 0s 4ms/step - loss: 290.2188 - val_loss: 1591.6738\n",
      "Epoch 133/500\n",
      "23/23 [==============================] - 0s 4ms/step - loss: 289.4040 - val_loss: 1597.2814\n",
      "Epoch 134/500\n",
      "23/23 [==============================] - 0s 4ms/step - loss: 288.6436 - val_loss: 1602.7496\n",
      "Epoch 135/500\n",
      "23/23 [==============================] - 0s 4ms/step - loss: 287.9345 - val_loss: 1608.0778\n",
      "Epoch 136/500\n",
      "23/23 [==============================] - 0s 4ms/step - loss: 287.2738 - val_loss: 1613.2664\n",
      "Epoch 137/500\n",
      "23/23 [==============================] - 0s 4ms/step - loss: 286.6585 - val_loss: 1618.3159\n",
      "Epoch 138/500\n",
      "23/23 [==============================] - 0s 4ms/step - loss: 286.0861 - val_loss: 1623.2288\n",
      "Epoch 139/500\n",
      "23/23 [==============================] - 0s 4ms/step - loss: 285.5538 - val_loss: 1628.0038\n",
      "Epoch 140/500\n",
      "23/23 [==============================] - 0s 4ms/step - loss: 285.0593 - val_loss: 1632.6436\n",
      "Epoch 141/500\n",
      "23/23 [==============================] - 0s 4ms/step - loss: 284.6003 - val_loss: 1637.1486\n",
      "Epoch 142/500\n",
      "23/23 [==============================] - 0s 4ms/step - loss: 284.1743 - val_loss: 1641.5198\n",
      "Epoch 143/500\n",
      "23/23 [==============================] - 0s 4ms/step - loss: 283.7795 - val_loss: 1645.7607\n",
      "Epoch 144/500\n",
      "23/23 [==============================] - 0s 5ms/step - loss: 283.4137 - val_loss: 1649.8712\n",
      "Epoch 145/500\n",
      "23/23 [==============================] - 0s 5ms/step - loss: 283.0752 - val_loss: 1653.8529\n",
      "Epoch 146/500\n",
      "23/23 [==============================] - 0s 11ms/step - loss: 282.7621 - val_loss: 1657.7080\n",
      "Epoch 147/500\n",
      "23/23 [==============================] - 0s 5ms/step - loss: 282.4727 - val_loss: 1661.4392\n",
      "Epoch 148/500\n",
      "23/23 [==============================] - 0s 5ms/step - loss: 282.2054 - val_loss: 1665.0476\n",
      "Epoch 149/500\n",
      "23/23 [==============================] - 0s 5ms/step - loss: 281.9587 - val_loss: 1668.5363\n",
      "Epoch 150/500\n",
      "23/23 [==============================] - 0s 5ms/step - loss: 281.7312 - val_loss: 1671.9052\n",
      "Epoch 151/500\n",
      "23/23 [==============================] - 0s 6ms/step - loss: 281.5215 - val_loss: 1675.1587\n",
      "Epoch 152/500\n",
      "23/23 [==============================] - 0s 6ms/step - loss: 281.3286 - val_loss: 1678.2982\n",
      "Epoch 153/500\n",
      "23/23 [==============================] - 0s 6ms/step - loss: 281.1508 - val_loss: 1681.3268\n",
      "Epoch 154/500\n",
      "23/23 [==============================] - 0s 6ms/step - loss: 280.9875 - val_loss: 1684.2448\n",
      "Epoch 155/500\n",
      "23/23 [==============================] - 0s 6ms/step - loss: 280.8374 - val_loss: 1687.0573\n",
      "Epoch 156/500\n",
      "23/23 [==============================] - 0s 7ms/step - loss: 280.6996 - val_loss: 1689.7656\n",
      "Epoch 157/500\n",
      "23/23 [==============================] - 0s 6ms/step - loss: 280.5732 - val_loss: 1692.3712\n",
      "Epoch 158/500\n",
      "23/23 [==============================] - 0s 6ms/step - loss: 280.4572 - val_loss: 1694.8776\n",
      "Epoch 159/500\n",
      "23/23 [==============================] - 0s 5ms/step - loss: 280.3511 - val_loss: 1697.2874\n",
      "Epoch 160/500\n",
      "23/23 [==============================] - 0s 6ms/step - loss: 280.2539 - val_loss: 1699.6023\n",
      "Epoch 161/500\n",
      "23/23 [==============================] - 0s 6ms/step - loss: 280.1649 - val_loss: 1701.8259\n",
      "Epoch 162/500\n",
      "23/23 [==============================] - 0s 7ms/step - loss: 280.0836 - val_loss: 1703.9597\n",
      "Epoch 163/500\n",
      "23/23 [==============================] - 0s 6ms/step - loss: 280.0094 - val_loss: 1706.0073\n",
      "Epoch 164/500\n",
      "23/23 [==============================] - 0s 6ms/step - loss: 279.9416 - val_loss: 1707.9705\n",
      "Epoch 165/500\n",
      "23/23 [==============================] - 0s 6ms/step - loss: 279.8797 - val_loss: 1709.8514\n",
      "Epoch 166/500\n",
      "23/23 [==============================] - 0s 6ms/step - loss: 279.8233 - val_loss: 1711.6526\n",
      "Epoch 167/500\n",
      "23/23 [==============================] - 0s 6ms/step - loss: 279.7720 - val_loss: 1713.3774\n",
      "Epoch 168/500\n",
      "23/23 [==============================] - 0s 5ms/step - loss: 279.7253 - val_loss: 1715.0281\n",
      "Epoch 169/500\n",
      "23/23 [==============================] - 0s 7ms/step - loss: 279.6827 - val_loss: 1716.6060\n",
      "Epoch 170/500\n",
      "23/23 [==============================] - 0s 4ms/step - loss: 279.6441 - val_loss: 1718.1150\n",
      "Epoch 171/500\n",
      "23/23 [==============================] - 0s 4ms/step - loss: 279.6090 - val_loss: 1719.5559\n",
      "Epoch 172/500\n",
      "23/23 [==============================] - 0s 4ms/step - loss: 279.5771 - val_loss: 1720.9325\n",
      "Epoch 173/500\n",
      "23/23 [==============================] - 0s 6ms/step - loss: 279.5483 - val_loss: 1722.2456\n",
      "Epoch 174/500\n",
      "23/23 [==============================] - 0s 5ms/step - loss: 279.5221 - val_loss: 1723.4980\n",
      "Epoch 175/500\n",
      "23/23 [==============================] - 0s 5ms/step - loss: 279.4984 - val_loss: 1724.6932\n",
      "Epoch 176/500\n",
      "23/23 [==============================] - 0s 7ms/step - loss: 279.4770 - val_loss: 1725.8315\n",
      "Epoch 177/500\n",
      "23/23 [==============================] - 0s 10ms/step - loss: 279.4577 - val_loss: 1726.9160\n",
      "Epoch 178/500\n",
      "23/23 [==============================] - 0s 6ms/step - loss: 279.4402 - val_loss: 1727.9482\n",
      "Epoch 179/500\n",
      "23/23 [==============================] - 0s 6ms/step - loss: 279.4245 - val_loss: 1728.9316\n",
      "Epoch 180/500\n",
      "23/23 [==============================] - 0s 8ms/step - loss: 279.4102 - val_loss: 1729.8656\n",
      "Epoch 181/500\n",
      "23/23 [==============================] - 0s 9ms/step - loss: 279.3975 - val_loss: 1730.7545\n",
      "Epoch 182/500\n",
      "23/23 [==============================] - 0s 10ms/step - loss: 279.3860 - val_loss: 1731.5986\n",
      "Epoch 183/500\n",
      "23/23 [==============================] - 0s 10ms/step - loss: 279.3757 - val_loss: 1732.4005\n",
      "Epoch 184/500\n",
      "23/23 [==============================] - 0s 12ms/step - loss: 279.3665 - val_loss: 1733.1613\n",
      "Epoch 185/500\n",
      "23/23 [==============================] - 0s 10ms/step - loss: 279.3582 - val_loss: 1733.8840\n",
      "Epoch 186/500\n",
      "23/23 [==============================] - 0s 12ms/step - loss: 279.3508 - val_loss: 1734.5682\n",
      "Epoch 187/500\n",
      "23/23 [==============================] - 0s 10ms/step - loss: 279.3442 - val_loss: 1735.2180\n",
      "Epoch 188/500\n",
      "23/23 [==============================] - 0s 9ms/step - loss: 279.3384 - val_loss: 1735.8340\n",
      "Epoch 189/500\n",
      "23/23 [==============================] - 0s 9ms/step - loss: 279.3331 - val_loss: 1736.4169\n",
      "Epoch 190/500\n",
      "23/23 [==============================] - 0s 10ms/step - loss: 279.3286 - val_loss: 1736.9683\n",
      "Epoch 191/500\n",
      "23/23 [==============================] - 0s 10ms/step - loss: 279.3245 - val_loss: 1737.4906\n",
      "Epoch 192/500\n",
      "23/23 [==============================] - 0s 10ms/step - loss: 279.3210 - val_loss: 1737.9845\n",
      "Epoch 193/500\n",
      "23/23 [==============================] - 0s 9ms/step - loss: 279.3178 - val_loss: 1738.4518\n",
      "Epoch 194/500\n",
      "23/23 [==============================] - 0s 9ms/step - loss: 279.3151 - val_loss: 1738.8928\n",
      "Epoch 195/500\n",
      "23/23 [==============================] - 0s 8ms/step - loss: 279.3127 - val_loss: 1739.3096\n",
      "Epoch 196/500\n",
      "23/23 [==============================] - 0s 8ms/step - loss: 279.3107 - val_loss: 1739.7031\n",
      "Epoch 197/500\n",
      "23/23 [==============================] - 0s 9ms/step - loss: 279.3090 - val_loss: 1740.0752\n",
      "Epoch 198/500\n",
      "23/23 [==============================] - 0s 9ms/step - loss: 279.3076 - val_loss: 1740.4253\n",
      "Epoch 199/500\n",
      "23/23 [==============================] - 0s 9ms/step - loss: 279.3063 - val_loss: 1740.7562\n",
      "Epoch 200/500\n",
      "23/23 [==============================] - 0s 9ms/step - loss: 279.3053 - val_loss: 1741.0671\n",
      "Epoch 201/500\n",
      "23/23 [==============================] - 0s 9ms/step - loss: 279.3046 - val_loss: 1741.3605\n",
      "Epoch 202/500\n",
      "23/23 [==============================] - 0s 9ms/step - loss: 279.3040 - val_loss: 1741.6366\n",
      "Epoch 203/500\n",
      "23/23 [==============================] - 0s 14ms/step - loss: 279.3035 - val_loss: 1741.8971\n",
      "Epoch 204/500\n",
      "23/23 [==============================] - 0s 12ms/step - loss: 279.3032 - val_loss: 1742.1420\n",
      "Epoch 205/500\n",
      "23/23 [==============================] - 0s 8ms/step - loss: 279.3031 - val_loss: 1742.3724\n",
      "Epoch 206/500\n",
      "23/23 [==============================] - 0s 7ms/step - loss: 279.3030 - val_loss: 1742.5889\n",
      "Epoch 207/500\n",
      "23/23 [==============================] - 0s 8ms/step - loss: 279.3031 - val_loss: 1742.7922\n",
      "Epoch 208/500\n",
      "23/23 [==============================] - 0s 8ms/step - loss: 279.3032 - val_loss: 1742.9836\n",
      "Epoch 209/500\n",
      "23/23 [==============================] - 0s 6ms/step - loss: 279.3035 - val_loss: 1743.1632\n",
      "Epoch 210/500\n",
      "23/23 [==============================] - 0s 6ms/step - loss: 279.3039 - val_loss: 1743.3311\n",
      "Epoch 211/500\n",
      "23/23 [==============================] - 0s 6ms/step - loss: 279.3043 - val_loss: 1743.4893\n",
      "Epoch 212/500\n",
      "23/23 [==============================] - 0s 6ms/step - loss: 279.3047 - val_loss: 1743.6377\n",
      "Epoch 213/500\n",
      "23/23 [==============================] - 0s 7ms/step - loss: 279.3054 - val_loss: 1743.7767\n",
      "Epoch 214/500\n",
      "23/23 [==============================] - 0s 9ms/step - loss: 279.3058 - val_loss: 1743.9071\n",
      "Epoch 215/500\n",
      "23/23 [==============================] - 0s 8ms/step - loss: 279.3065 - val_loss: 1744.0292\n",
      "Epoch 216/500\n",
      "23/23 [==============================] - 0s 7ms/step - loss: 279.3072 - val_loss: 1744.1428\n",
      "Epoch 217/500\n",
      "23/23 [==============================] - 0s 6ms/step - loss: 279.3079 - val_loss: 1744.2496\n",
      "Epoch 218/500\n",
      "23/23 [==============================] - 0s 6ms/step - loss: 279.3086 - val_loss: 1744.3496\n",
      "Epoch 219/500\n",
      "23/23 [==============================] - 0s 7ms/step - loss: 279.3094 - val_loss: 1744.4431\n",
      "Epoch 220/500\n",
      "23/23 [==============================] - 0s 9ms/step - loss: 279.3102 - val_loss: 1744.5309\n",
      "Epoch 221/500\n",
      "23/23 [==============================] - 0s 8ms/step - loss: 279.3110 - val_loss: 1744.6123\n",
      "Epoch 222/500\n",
      "23/23 [==============================] - 0s 6ms/step - loss: 279.3118 - val_loss: 1744.6884\n",
      "Epoch 223/500\n",
      "23/23 [==============================] - 0s 6ms/step - loss: 279.3127 - val_loss: 1744.7600\n",
      "Epoch 224/500\n",
      "23/23 [==============================] - 0s 6ms/step - loss: 279.3135 - val_loss: 1744.8265\n",
      "Epoch 225/500\n",
      "23/23 [==============================] - 0s 6ms/step - loss: 279.3144 - val_loss: 1744.8885\n",
      "Epoch 226/500\n",
      "23/23 [==============================] - 0s 6ms/step - loss: 279.3154 - val_loss: 1744.9457\n",
      "Epoch 227/500\n",
      "23/23 [==============================] - 0s 6ms/step - loss: 279.3162 - val_loss: 1744.9996\n",
      "Epoch 228/500\n",
      "23/23 [==============================] - 0s 6ms/step - loss: 279.3171 - val_loss: 1745.0505\n",
      "Epoch 229/500\n",
      "23/23 [==============================] - 0s 6ms/step - loss: 279.3180 - val_loss: 1745.0969\n",
      "Epoch 230/500\n",
      "23/23 [==============================] - 0s 13ms/step - loss: 279.3188 - val_loss: 1745.1403\n",
      "Epoch 231/500\n",
      "23/23 [==============================] - 0s 7ms/step - loss: 279.3198 - val_loss: 1745.1810\n",
      "Epoch 232/500\n",
      "23/23 [==============================] - 0s 8ms/step - loss: 279.3207 - val_loss: 1745.2191\n",
      "Epoch 233/500\n",
      "23/23 [==============================] - 0s 7ms/step - loss: 279.3216 - val_loss: 1745.2544\n",
      "Epoch 234/500\n",
      "23/23 [==============================] - 0s 6ms/step - loss: 279.3225 - val_loss: 1745.2865\n",
      "Epoch 235/500\n",
      "23/23 [==============================] - 0s 6ms/step - loss: 279.3235 - val_loss: 1745.3171\n",
      "Epoch 236/500\n",
      "23/23 [==============================] - 0s 6ms/step - loss: 279.3243 - val_loss: 1745.3442\n",
      "Epoch 237/500\n",
      "23/23 [==============================] - 0s 6ms/step - loss: 279.3253 - val_loss: 1745.3708\n",
      "Epoch 238/500\n",
      "23/23 [==============================] - 0s 6ms/step - loss: 279.3262 - val_loss: 1745.3947\n",
      "Epoch 239/500\n",
      "23/23 [==============================] - 0s 6ms/step - loss: 279.3270 - val_loss: 1745.4169\n",
      "Epoch 240/500\n",
      "23/23 [==============================] - 0s 7ms/step - loss: 279.3279 - val_loss: 1745.4375\n",
      "Epoch 241/500\n",
      "23/23 [==============================] - 0s 10ms/step - loss: 279.3288 - val_loss: 1745.4568\n",
      "Epoch 242/500\n",
      "23/23 [==============================] - 0s 9ms/step - loss: 279.3297 - val_loss: 1745.4744\n",
      "Epoch 243/500\n",
      "23/23 [==============================] - 0s 9ms/step - loss: 279.3305 - val_loss: 1745.4905\n",
      "Epoch 244/500\n",
      "23/23 [==============================] - 0s 9ms/step - loss: 279.3314 - val_loss: 1745.5054\n",
      "Epoch 245/500\n",
      "23/23 [==============================] - 0s 7ms/step - loss: 279.3322 - val_loss: 1745.5193\n",
      "Epoch 246/500\n",
      "23/23 [==============================] - 0s 7ms/step - loss: 279.3330 - val_loss: 1745.5321\n",
      "Epoch 247/500\n",
      "23/23 [==============================] - 0s 7ms/step - loss: 279.3339 - val_loss: 1745.5447\n",
      "Epoch 248/500\n",
      "23/23 [==============================] - 0s 8ms/step - loss: 279.3347 - val_loss: 1745.5552\n",
      "Epoch 249/500\n",
      "23/23 [==============================] - 0s 7ms/step - loss: 279.3355 - val_loss: 1745.5653\n",
      "Epoch 250/500\n",
      "23/23 [==============================] - 0s 7ms/step - loss: 279.3363 - val_loss: 1745.5741\n",
      "Epoch 251/500\n",
      "23/23 [==============================] - 0s 7ms/step - loss: 279.3371 - val_loss: 1745.5830\n",
      "Epoch 252/500\n",
      "23/23 [==============================] - 0s 9ms/step - loss: 279.3379 - val_loss: 1745.5908\n",
      "Epoch 253/500\n",
      "23/23 [==============================] - 0s 11ms/step - loss: 279.3386 - val_loss: 1745.5975\n",
      "Epoch 254/500\n",
      "23/23 [==============================] - 0s 10ms/step - loss: 279.3394 - val_loss: 1745.6044\n",
      "Epoch 255/500\n",
      "23/23 [==============================] - 0s 15ms/step - loss: 279.3401 - val_loss: 1745.6099\n",
      "Epoch 256/500\n",
      "23/23 [==============================] - 0s 16ms/step - loss: 279.3409 - val_loss: 1745.6147\n",
      "Epoch 257/500\n",
      "23/23 [==============================] - 0s 9ms/step - loss: 279.3416 - val_loss: 1745.6200\n",
      "Epoch 258/500\n",
      "23/23 [==============================] - 0s 11ms/step - loss: 279.3423 - val_loss: 1745.6246\n",
      "Epoch 259/500\n",
      "23/23 [==============================] - 0s 10ms/step - loss: 279.3430 - val_loss: 1745.6288\n",
      "Epoch 260/500\n",
      "23/23 [==============================] - 0s 8ms/step - loss: 279.3437 - val_loss: 1745.6327\n",
      "Epoch 261/500\n",
      "23/23 [==============================] - 0s 7ms/step - loss: 279.3444 - val_loss: 1745.6362\n",
      "Epoch 262/500\n",
      "23/23 [==============================] - 0s 8ms/step - loss: 279.3450 - val_loss: 1745.6393\n",
      "Epoch 263/500\n",
      "23/23 [==============================] - 0s 8ms/step - loss: 279.3457 - val_loss: 1745.6423\n",
      "Epoch 264/500\n",
      "23/23 [==============================] - 0s 10ms/step - loss: 279.3464 - val_loss: 1745.6447\n",
      "Epoch 265/500\n",
      "23/23 [==============================] - 0s 8ms/step - loss: 279.3470 - val_loss: 1745.6469\n",
      "Epoch 266/500\n",
      "23/23 [==============================] - 0s 9ms/step - loss: 279.3476 - val_loss: 1745.6489\n",
      "Epoch 267/500\n",
      "23/23 [==============================] - 0s 11ms/step - loss: 279.3483 - val_loss: 1745.6504\n",
      "Epoch 268/500\n",
      "23/23 [==============================] - 0s 21ms/step - loss: 279.3488 - val_loss: 1745.6521\n",
      "Epoch 269/500\n",
      "23/23 [==============================] - 0s 15ms/step - loss: 279.3495 - val_loss: 1745.6533\n",
      "Epoch 270/500\n",
      "23/23 [==============================] - 0s 10ms/step - loss: 279.3501 - val_loss: 1745.6545\n",
      "Epoch 271/500\n",
      "23/23 [==============================] - 0s 9ms/step - loss: 279.3506 - val_loss: 1745.6550\n",
      "Epoch 272/500\n",
      "23/23 [==============================] - 0s 10ms/step - loss: 279.3512 - val_loss: 1745.6562\n",
      "Epoch 273/500\n",
      "23/23 [==============================] - 0s 8ms/step - loss: 279.3517 - val_loss: 1745.6575\n",
      "Epoch 274/500\n",
      "23/23 [==============================] - 0s 7ms/step - loss: 279.3523 - val_loss: 1745.6576\n",
      "Epoch 275/500\n",
      "23/23 [==============================] - 0s 6ms/step - loss: 279.3528 - val_loss: 1745.6582\n",
      "Epoch 276/500\n",
      "23/23 [==============================] - 0s 6ms/step - loss: 279.3533 - val_loss: 1745.6583\n",
      "Epoch 277/500\n",
      "23/23 [==============================] - 0s 7ms/step - loss: 279.3539 - val_loss: 1745.6591\n",
      "Epoch 278/500\n",
      "23/23 [==============================] - 0s 8ms/step - loss: 279.3544 - val_loss: 1745.6588\n",
      "Epoch 279/500\n",
      "23/23 [==============================] - 0s 9ms/step - loss: 279.3549 - val_loss: 1745.6591\n",
      "Epoch 280/500\n",
      "23/23 [==============================] - 0s 10ms/step - loss: 279.3554 - val_loss: 1745.6592\n",
      "Epoch 281/500\n",
      "23/23 [==============================] - 0s 9ms/step - loss: 279.3559 - val_loss: 1745.6591\n",
      "Epoch 282/500\n",
      "23/23 [==============================] - 0s 8ms/step - loss: 279.3563 - val_loss: 1745.6591\n",
      "Epoch 283/500\n",
      "23/23 [==============================] - 0s 8ms/step - loss: 279.3568 - val_loss: 1745.6591\n",
      "Epoch 284/500\n",
      "23/23 [==============================] - 0s 7ms/step - loss: 279.3573 - val_loss: 1745.6591\n",
      "Epoch 285/500\n",
      "23/23 [==============================] - 0s 10ms/step - loss: 279.3577 - val_loss: 1745.6587\n",
      "Epoch 286/500\n",
      "23/23 [==============================] - 0s 8ms/step - loss: 279.3582 - val_loss: 1745.6587\n",
      "Epoch 287/500\n",
      "23/23 [==============================] - 0s 7ms/step - loss: 279.3586 - val_loss: 1745.6583\n",
      "Epoch 288/500\n",
      "23/23 [==============================] - 0s 6ms/step - loss: 279.3590 - val_loss: 1745.6575\n",
      "Epoch 289/500\n",
      "23/23 [==============================] - 0s 6ms/step - loss: 279.3595 - val_loss: 1745.6564\n",
      "Epoch 290/500\n",
      "23/23 [==============================] - 0s 6ms/step - loss: 279.3598 - val_loss: 1745.6564\n",
      "Epoch 291/500\n",
      "23/23 [==============================] - 0s 6ms/step - loss: 279.3603 - val_loss: 1745.6561\n",
      "Epoch 292/500\n",
      "23/23 [==============================] - 0s 7ms/step - loss: 279.3606 - val_loss: 1745.6550\n",
      "Epoch 293/500\n",
      "23/23 [==============================] - 0s 7ms/step - loss: 279.3610 - val_loss: 1745.6552\n",
      "Epoch 294/500\n",
      "23/23 [==============================] - 0s 7ms/step - loss: 279.3614 - val_loss: 1745.6552\n",
      "Epoch 295/500\n",
      "23/23 [==============================] - 0s 6ms/step - loss: 279.3618 - val_loss: 1745.6547\n",
      "Epoch 296/500\n",
      "23/23 [==============================] - 0s 6ms/step - loss: 279.3621 - val_loss: 1745.6543\n",
      "Epoch 297/500\n",
      "23/23 [==============================] - 0s 6ms/step - loss: 279.3624 - val_loss: 1745.6538\n",
      "Epoch 298/500\n",
      "23/23 [==============================] - 0s 6ms/step - loss: 279.3628 - val_loss: 1745.6537\n",
      "Epoch 299/500\n",
      "23/23 [==============================] - 0s 5ms/step - loss: 279.3631 - val_loss: 1745.6531\n",
      "Epoch 300/500\n",
      "23/23 [==============================] - 0s 8ms/step - loss: 279.3635 - val_loss: 1745.6531\n",
      "Epoch 301/500\n",
      "23/23 [==============================] - 0s 6ms/step - loss: 279.3638 - val_loss: 1745.6521\n",
      "Epoch 302/500\n",
      "23/23 [==============================] - 0s 6ms/step - loss: 279.3641 - val_loss: 1745.6517\n",
      "Epoch 303/500\n",
      "23/23 [==============================] - 0s 8ms/step - loss: 279.3644 - val_loss: 1745.6516\n",
      "Epoch 304/500\n",
      "23/23 [==============================] - 0s 7ms/step - loss: 279.3647 - val_loss: 1745.6510\n",
      "Epoch 305/500\n",
      "23/23 [==============================] - 0s 6ms/step - loss: 279.3650 - val_loss: 1745.6509\n",
      "Epoch 306/500\n",
      "23/23 [==============================] - 0s 6ms/step - loss: 279.3653 - val_loss: 1745.6504\n",
      "Epoch 307/500\n",
      "23/23 [==============================] - 0s 6ms/step - loss: 279.3656 - val_loss: 1745.6497\n",
      "Epoch 308/500\n",
      "23/23 [==============================] - 0s 7ms/step - loss: 279.3659 - val_loss: 1745.6492\n",
      "Epoch 309/500\n",
      "23/23 [==============================] - 0s 7ms/step - loss: 279.3662 - val_loss: 1745.6486\n",
      "Epoch 310/500\n",
      "23/23 [==============================] - 0s 7ms/step - loss: 279.3664 - val_loss: 1745.6476\n",
      "Epoch 311/500\n",
      "23/23 [==============================] - 0s 6ms/step - loss: 279.3666 - val_loss: 1745.6472\n",
      "Epoch 312/500\n",
      "23/23 [==============================] - 0s 6ms/step - loss: 279.3669 - val_loss: 1745.6472\n",
      "Epoch 313/500\n",
      "23/23 [==============================] - 0s 6ms/step - loss: 279.3671 - val_loss: 1745.6465\n",
      "Epoch 314/500\n",
      "23/23 [==============================] - 0s 6ms/step - loss: 279.3674 - val_loss: 1745.6462\n",
      "Epoch 315/500\n",
      "23/23 [==============================] - 0s 6ms/step - loss: 279.3677 - val_loss: 1745.6455\n",
      "Epoch 316/500\n",
      "23/23 [==============================] - 0s 6ms/step - loss: 279.3679 - val_loss: 1745.6451\n",
      "Epoch 317/500\n",
      "23/23 [==============================] - 0s 6ms/step - loss: 279.3681 - val_loss: 1745.6451\n",
      "Epoch 318/500\n",
      "23/23 [==============================] - 0s 6ms/step - loss: 279.3683 - val_loss: 1745.6448\n",
      "Epoch 319/500\n",
      "23/23 [==============================] - 0s 6ms/step - loss: 279.3686 - val_loss: 1745.6447\n",
      "Epoch 320/500\n",
      "23/23 [==============================] - 0s 9ms/step - loss: 279.3688 - val_loss: 1745.6444\n",
      "Epoch 321/500\n",
      "23/23 [==============================] - 0s 10ms/step - loss: 279.3690 - val_loss: 1745.6440\n",
      "Epoch 322/500\n",
      "23/23 [==============================] - 0s 7ms/step - loss: 279.3692 - val_loss: 1745.6438\n",
      "Epoch 323/500\n",
      "23/23 [==============================] - 0s 6ms/step - loss: 279.3694 - val_loss: 1745.6434\n",
      "Epoch 324/500\n",
      "23/23 [==============================] - 0s 7ms/step - loss: 279.3696 - val_loss: 1745.6426\n",
      "Epoch 325/500\n",
      "23/23 [==============================] - 0s 7ms/step - loss: 279.3698 - val_loss: 1745.6420\n",
      "Epoch 326/500\n",
      "23/23 [==============================] - 0s 6ms/step - loss: 279.3700 - val_loss: 1745.6415\n",
      "Epoch 327/500\n",
      "23/23 [==============================] - 0s 5ms/step - loss: 279.3701 - val_loss: 1745.6410\n",
      "Epoch 328/500\n",
      "23/23 [==============================] - 0s 6ms/step - loss: 279.3703 - val_loss: 1745.6407\n",
      "Epoch 329/500\n",
      "23/23 [==============================] - 0s 6ms/step - loss: 279.3706 - val_loss: 1745.6407\n",
      "Epoch 330/500\n",
      "23/23 [==============================] - 0s 8ms/step - loss: 279.3708 - val_loss: 1745.6403\n",
      "Epoch 331/500\n",
      "23/23 [==============================] - 0s 7ms/step - loss: 279.3709 - val_loss: 1745.6403\n",
      "Epoch 332/500\n",
      "23/23 [==============================] - 0s 6ms/step - loss: 279.3711 - val_loss: 1745.6399\n",
      "Epoch 333/500\n",
      "23/23 [==============================] - 0s 6ms/step - loss: 279.3712 - val_loss: 1745.6393\n",
      "Epoch 334/500\n",
      "23/23 [==============================] - 0s 6ms/step - loss: 279.3713 - val_loss: 1745.6385\n",
      "Epoch 335/500\n",
      "23/23 [==============================] - 0s 6ms/step - loss: 279.3715 - val_loss: 1745.6382\n",
      "Epoch 336/500\n",
      "23/23 [==============================] - 0s 6ms/step - loss: 279.3716 - val_loss: 1745.6378\n",
      "Epoch 337/500\n",
      "23/23 [==============================] - 0s 11ms/step - loss: 279.3719 - val_loss: 1745.6373\n",
      "Epoch 338/500\n",
      "23/23 [==============================] - 0s 10ms/step - loss: 279.3720 - val_loss: 1745.6373\n",
      "Epoch 339/500\n",
      "23/23 [==============================] - 0s 7ms/step - loss: 279.3721 - val_loss: 1745.6368\n",
      "Epoch 340/500\n",
      "23/23 [==============================] - 0s 6ms/step - loss: 279.3723 - val_loss: 1745.6368\n",
      "Epoch 341/500\n",
      "23/23 [==============================] - 0s 6ms/step - loss: 279.3724 - val_loss: 1745.6362\n",
      "Epoch 342/500\n",
      "23/23 [==============================] - 0s 6ms/step - loss: 279.3726 - val_loss: 1745.6361\n",
      "Epoch 343/500\n",
      "23/23 [==============================] - 0s 7ms/step - loss: 279.3727 - val_loss: 1745.6361\n",
      "Epoch 344/500\n",
      "23/23 [==============================] - 0s 6ms/step - loss: 279.3728 - val_loss: 1745.6360\n",
      "Epoch 345/500\n",
      "23/23 [==============================] - 0s 5ms/step - loss: 279.3729 - val_loss: 1745.6357\n",
      "Epoch 346/500\n",
      "23/23 [==============================] - 0s 5ms/step - loss: 279.3731 - val_loss: 1745.6360\n",
      "Epoch 347/500\n",
      "23/23 [==============================] - 0s 6ms/step - loss: 279.3732 - val_loss: 1745.6357\n",
      "Epoch 348/500\n",
      "23/23 [==============================] - 0s 5ms/step - loss: 279.3733 - val_loss: 1745.6357\n",
      "Epoch 349/500\n",
      "23/23 [==============================] - 0s 5ms/step - loss: 279.3734 - val_loss: 1745.6356\n",
      "Epoch 350/500\n",
      "23/23 [==============================] - 0s 5ms/step - loss: 279.3735 - val_loss: 1745.6353\n",
      "Epoch 351/500\n",
      "23/23 [==============================] - 0s 5ms/step - loss: 279.3735 - val_loss: 1745.6345\n",
      "Epoch 352/500\n",
      "23/23 [==============================] - 0s 6ms/step - loss: 279.3737 - val_loss: 1745.6348\n",
      "Epoch 353/500\n",
      "23/23 [==============================] - 0s 5ms/step - loss: 279.3738 - val_loss: 1745.6348\n",
      "Epoch 354/500\n",
      "23/23 [==============================] - 0s 5ms/step - loss: 279.3739 - val_loss: 1745.6344\n",
      "Epoch 355/500\n",
      "23/23 [==============================] - 0s 5ms/step - loss: 279.3740 - val_loss: 1745.6337\n",
      "Epoch 356/500\n",
      "23/23 [==============================] - 0s 4ms/step - loss: 279.3741 - val_loss: 1745.6335\n",
      "Epoch 357/500\n",
      "23/23 [==============================] - 0s 4ms/step - loss: 279.3742 - val_loss: 1745.6329\n",
      "Epoch 358/500\n",
      "23/23 [==============================] - 0s 5ms/step - loss: 279.3743 - val_loss: 1745.6327\n",
      "Epoch 359/500\n",
      "23/23 [==============================] - 0s 5ms/step - loss: 279.3744 - val_loss: 1745.6327\n",
      "Epoch 360/500\n",
      "23/23 [==============================] - 0s 4ms/step - loss: 279.3745 - val_loss: 1745.6327\n",
      "Epoch 361/500\n",
      "23/23 [==============================] - 0s 5ms/step - loss: 279.3746 - val_loss: 1745.6323\n",
      "Epoch 362/500\n",
      "23/23 [==============================] - 0s 4ms/step - loss: 279.3747 - val_loss: 1745.6323\n",
      "Epoch 363/500\n",
      "23/23 [==============================] - 0s 12ms/step - loss: 279.3748 - val_loss: 1745.6320\n",
      "Epoch 364/500\n",
      "23/23 [==============================] - 0s 5ms/step - loss: 279.3748 - val_loss: 1745.6317\n",
      "Epoch 365/500\n",
      "23/23 [==============================] - 0s 6ms/step - loss: 279.3749 - val_loss: 1745.6316\n",
      "Epoch 366/500\n",
      "23/23 [==============================] - 0s 6ms/step - loss: 279.3750 - val_loss: 1745.6316\n",
      "Epoch 367/500\n",
      "23/23 [==============================] - 0s 5ms/step - loss: 279.3750 - val_loss: 1745.6316\n",
      "Epoch 368/500\n",
      "23/23 [==============================] - 0s 6ms/step - loss: 279.3752 - val_loss: 1745.6315\n",
      "Epoch 369/500\n",
      "23/23 [==============================] - 0s 5ms/step - loss: 279.3752 - val_loss: 1745.6315\n",
      "Epoch 370/500\n",
      "23/23 [==============================] - 0s 6ms/step - loss: 279.3752 - val_loss: 1745.6311\n",
      "Epoch 371/500\n",
      "23/23 [==============================] - 0s 6ms/step - loss: 279.3754 - val_loss: 1745.6311\n",
      "Epoch 372/500\n",
      "23/23 [==============================] - 0s 5ms/step - loss: 279.3755 - val_loss: 1745.6306\n",
      "Epoch 373/500\n",
      "23/23 [==============================] - 0s 5ms/step - loss: 279.3755 - val_loss: 1745.6302\n",
      "Epoch 374/500\n",
      "23/23 [==============================] - 0s 5ms/step - loss: 279.3756 - val_loss: 1745.6302\n",
      "Epoch 375/500\n",
      "23/23 [==============================] - 0s 5ms/step - loss: 279.3756 - val_loss: 1745.6299\n",
      "Epoch 376/500\n",
      "23/23 [==============================] - 0s 5ms/step - loss: 279.3757 - val_loss: 1745.6299\n",
      "Epoch 377/500\n",
      "23/23 [==============================] - 0s 5ms/step - loss: 279.3757 - val_loss: 1745.6299\n",
      "Epoch 378/500\n",
      "23/23 [==============================] - 0s 5ms/step - loss: 279.3758 - val_loss: 1745.6296\n",
      "Epoch 379/500\n",
      "23/23 [==============================] - 0s 5ms/step - loss: 279.3759 - val_loss: 1745.6292\n",
      "Epoch 380/500\n",
      "23/23 [==============================] - 0s 5ms/step - loss: 279.3759 - val_loss: 1745.6292\n",
      "Epoch 381/500\n",
      "23/23 [==============================] - 0s 5ms/step - loss: 279.3759 - val_loss: 1745.6288\n",
      "Epoch 382/500\n",
      "23/23 [==============================] - 0s 5ms/step - loss: 279.3760 - val_loss: 1745.6288\n",
      "Epoch 383/500\n",
      "23/23 [==============================] - 0s 5ms/step - loss: 279.3761 - val_loss: 1745.6288\n",
      "Epoch 384/500\n",
      "23/23 [==============================] - 0s 5ms/step - loss: 279.3761 - val_loss: 1745.6290\n",
      "Epoch 385/500\n",
      "23/23 [==============================] - 0s 5ms/step - loss: 279.3762 - val_loss: 1745.6292\n",
      "Epoch 386/500\n",
      "23/23 [==============================] - 0s 4ms/step - loss: 279.3762 - val_loss: 1745.6292\n",
      "Epoch 387/500\n",
      "23/23 [==============================] - 0s 5ms/step - loss: 279.3763 - val_loss: 1745.6288\n",
      "Epoch 388/500\n",
      "23/23 [==============================] - 0s 5ms/step - loss: 279.3763 - val_loss: 1745.6287\n",
      "Epoch 389/500\n",
      "23/23 [==============================] - 0s 9ms/step - loss: 279.3764 - val_loss: 1745.6287\n",
      "Epoch 390/500\n",
      "23/23 [==============================] - 0s 6ms/step - loss: 279.3764 - val_loss: 1745.6287\n",
      "Epoch 391/500\n",
      "23/23 [==============================] - 0s 5ms/step - loss: 279.3764 - val_loss: 1745.6282\n",
      "Epoch 392/500\n",
      "23/23 [==============================] - 0s 5ms/step - loss: 279.3765 - val_loss: 1745.6278\n",
      "Epoch 393/500\n",
      "23/23 [==============================] - 0s 6ms/step - loss: 279.3765 - val_loss: 1745.6276\n",
      "Epoch 394/500\n",
      "23/23 [==============================] - 0s 5ms/step - loss: 279.3766 - val_loss: 1745.6278\n",
      "Epoch 395/500\n",
      "23/23 [==============================] - 0s 5ms/step - loss: 279.3767 - val_loss: 1745.6282\n",
      "Epoch 396/500\n",
      "23/23 [==============================] - 0s 5ms/step - loss: 279.3766 - val_loss: 1745.6282\n",
      "Epoch 397/500\n",
      "23/23 [==============================] - 0s 5ms/step - loss: 279.3766 - val_loss: 1745.6278\n",
      "Epoch 398/500\n",
      "23/23 [==============================] - 0s 5ms/step - loss: 279.3768 - val_loss: 1745.6272\n",
      "Epoch 399/500\n",
      "23/23 [==============================] - 0s 5ms/step - loss: 279.3768 - val_loss: 1745.6274\n",
      "Epoch 400/500\n",
      "23/23 [==============================] - 0s 5ms/step - loss: 279.3768 - val_loss: 1745.6279\n",
      "Epoch 401/500\n",
      "23/23 [==============================] - 0s 5ms/step - loss: 279.3769 - val_loss: 1745.6279\n",
      "Epoch 402/500\n",
      "23/23 [==============================] - 0s 5ms/step - loss: 279.3769 - val_loss: 1745.6278\n",
      "Epoch 403/500\n",
      "23/23 [==============================] - 0s 6ms/step - loss: 279.3770 - val_loss: 1745.6282\n",
      "Epoch 404/500\n",
      "23/23 [==============================] - 0s 5ms/step - loss: 279.3769 - val_loss: 1745.6278\n",
      "Epoch 405/500\n",
      "23/23 [==============================] - 0s 5ms/step - loss: 279.3770 - val_loss: 1745.6278\n",
      "Epoch 406/500\n",
      "23/23 [==============================] - 0s 5ms/step - loss: 279.3770 - val_loss: 1745.6276\n",
      "Epoch 407/500\n",
      "23/23 [==============================] - 0s 5ms/step - loss: 279.3771 - val_loss: 1745.6276\n",
      "Epoch 408/500\n",
      "23/23 [==============================] - 0s 5ms/step - loss: 279.3771 - val_loss: 1745.6276\n",
      "Epoch 409/500\n",
      "23/23 [==============================] - 0s 5ms/step - loss: 279.3771 - val_loss: 1745.6279\n",
      "Epoch 410/500\n",
      "23/23 [==============================] - 0s 5ms/step - loss: 279.3771 - val_loss: 1745.6278\n",
      "Epoch 411/500\n",
      "23/23 [==============================] - 0s 5ms/step - loss: 279.3772 - val_loss: 1745.6274\n",
      "Epoch 412/500\n",
      "23/23 [==============================] - 0s 5ms/step - loss: 279.3772 - val_loss: 1745.6274\n",
      "Epoch 413/500\n",
      "23/23 [==============================] - 0s 11ms/step - loss: 279.3772 - val_loss: 1745.6271\n",
      "Epoch 414/500\n",
      "23/23 [==============================] - 0s 6ms/step - loss: 279.3773 - val_loss: 1745.6271\n",
      "Epoch 415/500\n",
      "23/23 [==============================] - 0s 6ms/step - loss: 279.3773 - val_loss: 1745.6271\n",
      "Epoch 416/500\n",
      "23/23 [==============================] - 0s 5ms/step - loss: 279.3773 - val_loss: 1745.6271\n",
      "Epoch 417/500\n",
      "23/23 [==============================] - 0s 5ms/step - loss: 279.3773 - val_loss: 1745.6270\n",
      "Epoch 418/500\n",
      "23/23 [==============================] - 0s 5ms/step - loss: 279.3773 - val_loss: 1745.6267\n",
      "Epoch 419/500\n",
      "23/23 [==============================] - 0s 5ms/step - loss: 279.3773 - val_loss: 1745.6263\n",
      "Epoch 420/500\n",
      "23/23 [==============================] - 0s 6ms/step - loss: 279.3774 - val_loss: 1745.6270\n",
      "Epoch 421/500\n",
      "23/23 [==============================] - 0s 6ms/step - loss: 279.3774 - val_loss: 1745.6270\n",
      "Epoch 422/500\n",
      "23/23 [==============================] - 0s 6ms/step - loss: 279.3774 - val_loss: 1745.6271\n",
      "Epoch 423/500\n",
      "23/23 [==============================] - 0s 6ms/step - loss: 279.3775 - val_loss: 1745.6270\n",
      "Epoch 424/500\n",
      "23/23 [==============================] - 0s 6ms/step - loss: 279.3775 - val_loss: 1745.6270\n",
      "Epoch 425/500\n",
      "23/23 [==============================] - 0s 6ms/step - loss: 279.3775 - val_loss: 1745.6270\n",
      "Epoch 426/500\n",
      "23/23 [==============================] - 0s 6ms/step - loss: 279.3775 - val_loss: 1745.6270\n",
      "Epoch 427/500\n",
      "23/23 [==============================] - 0s 5ms/step - loss: 279.3776 - val_loss: 1745.6270\n",
      "Epoch 428/500\n",
      "23/23 [==============================] - 0s 5ms/step - loss: 279.3776 - val_loss: 1745.6266\n",
      "Epoch 429/500\n",
      "23/23 [==============================] - 0s 6ms/step - loss: 279.3775 - val_loss: 1745.6266\n",
      "Epoch 430/500\n",
      "23/23 [==============================] - 0s 6ms/step - loss: 279.3776 - val_loss: 1745.6263\n",
      "Epoch 431/500\n",
      "23/23 [==============================] - 0s 6ms/step - loss: 279.3776 - val_loss: 1745.6263\n",
      "Epoch 432/500\n",
      "23/23 [==============================] - 0s 6ms/step - loss: 279.3776 - val_loss: 1745.6263\n",
      "Epoch 433/500\n",
      "23/23 [==============================] - 0s 5ms/step - loss: 279.3777 - val_loss: 1745.6263\n",
      "Epoch 434/500\n",
      "23/23 [==============================] - 0s 5ms/step - loss: 279.3777 - val_loss: 1745.6270\n",
      "Epoch 435/500\n",
      "23/23 [==============================] - 0s 5ms/step - loss: 279.3777 - val_loss: 1745.6270\n",
      "Epoch 436/500\n",
      "23/23 [==============================] - 0s 5ms/step - loss: 279.3777 - val_loss: 1745.6271\n",
      "Epoch 437/500\n",
      "23/23 [==============================] - 0s 11ms/step - loss: 279.3778 - val_loss: 1745.6274\n",
      "Epoch 438/500\n",
      "23/23 [==============================] - 0s 6ms/step - loss: 279.3777 - val_loss: 1745.6274\n",
      "Epoch 439/500\n",
      "23/23 [==============================] - 0s 6ms/step - loss: 279.3777 - val_loss: 1745.6274\n",
      "Epoch 440/500\n",
      "23/23 [==============================] - 0s 5ms/step - loss: 279.3777 - val_loss: 1745.6276\n",
      "Epoch 441/500\n",
      "23/23 [==============================] - 0s 5ms/step - loss: 279.3777 - val_loss: 1745.6272\n",
      "Epoch 442/500\n",
      "23/23 [==============================] - 0s 5ms/step - loss: 279.3778 - val_loss: 1745.6267\n",
      "Epoch 443/500\n",
      "23/23 [==============================] - 0s 5ms/step - loss: 279.3777 - val_loss: 1745.6263\n",
      "Epoch 444/500\n",
      "23/23 [==============================] - 0s 5ms/step - loss: 279.3777 - val_loss: 1745.6255\n",
      "Epoch 445/500\n",
      "23/23 [==============================] - 0s 5ms/step - loss: 279.3778 - val_loss: 1745.6254\n",
      "Epoch 446/500\n",
      "23/23 [==============================] - 0s 5ms/step - loss: 279.3778 - val_loss: 1745.6250\n",
      "Epoch 447/500\n",
      "23/23 [==============================] - 0s 5ms/step - loss: 279.3778 - val_loss: 1745.6250\n",
      "Epoch 448/500\n",
      "23/23 [==============================] - 0s 5ms/step - loss: 279.3778 - val_loss: 1745.6251\n",
      "Epoch 449/500\n",
      "23/23 [==============================] - 0s 5ms/step - loss: 279.3778 - val_loss: 1745.6251\n",
      "Epoch 450/500\n",
      "23/23 [==============================] - 0s 5ms/step - loss: 279.3778 - val_loss: 1745.6251\n",
      "Epoch 451/500\n",
      "23/23 [==============================] - 0s 5ms/step - loss: 279.3779 - val_loss: 1745.6254\n",
      "Epoch 452/500\n",
      "23/23 [==============================] - 0s 5ms/step - loss: 279.3779 - val_loss: 1745.6255\n",
      "Epoch 453/500\n",
      "23/23 [==============================] - 0s 5ms/step - loss: 279.3779 - val_loss: 1745.6255\n",
      "Epoch 454/500\n",
      "23/23 [==============================] - 0s 5ms/step - loss: 279.3779 - val_loss: 1745.6255\n",
      "Epoch 455/500\n",
      "23/23 [==============================] - 0s 5ms/step - loss: 279.3779 - val_loss: 1745.6255\n",
      "Epoch 456/500\n",
      "23/23 [==============================] - 0s 5ms/step - loss: 279.3780 - val_loss: 1745.6257\n",
      "Epoch 457/500\n",
      "23/23 [==============================] - 0s 5ms/step - loss: 279.3780 - val_loss: 1745.6257\n",
      "Epoch 458/500\n",
      "23/23 [==============================] - 0s 5ms/step - loss: 279.3780 - val_loss: 1745.6261\n",
      "Epoch 459/500\n",
      "23/23 [==============================] - 0s 5ms/step - loss: 279.3780 - val_loss: 1745.6259\n",
      "Epoch 460/500\n",
      "23/23 [==============================] - 0s 5ms/step - loss: 279.3781 - val_loss: 1745.6261\n",
      "Epoch 461/500\n",
      "23/23 [==============================] - 0s 11ms/step - loss: 279.3781 - val_loss: 1745.6259\n",
      "Epoch 462/500\n",
      "23/23 [==============================] - 0s 6ms/step - loss: 279.3780 - val_loss: 1745.6255\n",
      "Epoch 463/500\n",
      "23/23 [==============================] - 0s 6ms/step - loss: 279.3781 - val_loss: 1745.6255\n",
      "Epoch 464/500\n",
      "23/23 [==============================] - 0s 5ms/step - loss: 279.3781 - val_loss: 1745.6257\n",
      "Epoch 465/500\n",
      "23/23 [==============================] - 0s 6ms/step - loss: 279.3781 - val_loss: 1745.6259\n",
      "Epoch 466/500\n",
      "23/23 [==============================] - 0s 5ms/step - loss: 279.3781 - val_loss: 1745.6261\n",
      "Epoch 467/500\n",
      "23/23 [==============================] - 0s 5ms/step - loss: 279.3781 - val_loss: 1745.6261\n",
      "Epoch 468/500\n",
      "23/23 [==============================] - 0s 6ms/step - loss: 279.3781 - val_loss: 1745.6262\n",
      "Epoch 469/500\n",
      "23/23 [==============================] - 0s 5ms/step - loss: 279.3781 - val_loss: 1745.6263\n",
      "Epoch 470/500\n",
      "23/23 [==============================] - 0s 5ms/step - loss: 279.3781 - val_loss: 1745.6266\n",
      "Epoch 471/500\n",
      "23/23 [==============================] - 0s 5ms/step - loss: 279.3781 - val_loss: 1745.6267\n",
      "Epoch 472/500\n",
      "23/23 [==============================] - 0s 5ms/step - loss: 279.3781 - val_loss: 1745.6266\n",
      "Epoch 473/500\n",
      "23/23 [==============================] - 0s 5ms/step - loss: 279.3781 - val_loss: 1745.6263\n",
      "Epoch 474/500\n",
      "23/23 [==============================] - 0s 5ms/step - loss: 279.3781 - val_loss: 1745.6259\n",
      "Epoch 475/500\n",
      "23/23 [==============================] - 0s 5ms/step - loss: 279.3781 - val_loss: 1745.6254\n",
      "Epoch 476/500\n",
      "23/23 [==============================] - 0s 5ms/step - loss: 279.3781 - val_loss: 1745.6251\n",
      "Epoch 477/500\n",
      "23/23 [==============================] - 0s 5ms/step - loss: 279.3781 - val_loss: 1745.6250\n",
      "Epoch 478/500\n",
      "23/23 [==============================] - 0s 5ms/step - loss: 279.3781 - val_loss: 1745.6250\n",
      "Epoch 479/500\n",
      "23/23 [==============================] - 0s 5ms/step - loss: 279.3781 - val_loss: 1745.6249\n",
      "Epoch 480/500\n",
      "23/23 [==============================] - 0s 6ms/step - loss: 279.3781 - val_loss: 1745.6245\n",
      "Epoch 481/500\n",
      "23/23 [==============================] - 0s 5ms/step - loss: 279.3781 - val_loss: 1745.6245\n",
      "Epoch 482/500\n",
      "23/23 [==============================] - 0s 5ms/step - loss: 279.3782 - val_loss: 1745.6241\n",
      "Epoch 483/500\n",
      "23/23 [==============================] - 0s 9ms/step - loss: 279.3782 - val_loss: 1745.6239\n",
      "Epoch 484/500\n",
      "23/23 [==============================] - 0s 6ms/step - loss: 279.3782 - val_loss: 1745.6239\n",
      "Epoch 485/500\n",
      "23/23 [==============================] - 0s 5ms/step - loss: 279.3782 - val_loss: 1745.6239\n",
      "Epoch 486/500\n",
      "23/23 [==============================] - 0s 5ms/step - loss: 279.3782 - val_loss: 1745.6239\n",
      "Epoch 487/500\n",
      "23/23 [==============================] - 0s 6ms/step - loss: 279.3782 - val_loss: 1745.6241\n",
      "Epoch 488/500\n",
      "23/23 [==============================] - 0s 5ms/step - loss: 279.3783 - val_loss: 1745.6249\n",
      "Epoch 489/500\n",
      "23/23 [==============================] - 0s 5ms/step - loss: 279.3783 - val_loss: 1745.6250\n",
      "Epoch 490/500\n",
      "23/23 [==============================] - 0s 5ms/step - loss: 279.3782 - val_loss: 1745.6250\n",
      "Epoch 491/500\n",
      "23/23 [==============================] - 0s 5ms/step - loss: 279.3782 - val_loss: 1745.6250\n",
      "Epoch 492/500\n",
      "23/23 [==============================] - 0s 5ms/step - loss: 279.3782 - val_loss: 1745.6251\n",
      "Epoch 493/500\n",
      "23/23 [==============================] - 0s 5ms/step - loss: 279.3782 - val_loss: 1745.6254\n",
      "Epoch 494/500\n",
      "23/23 [==============================] - 0s 5ms/step - loss: 279.3783 - val_loss: 1745.6255\n",
      "Epoch 495/500\n",
      "23/23 [==============================] - 0s 5ms/step - loss: 279.3782 - val_loss: 1745.6255\n",
      "Epoch 496/500\n",
      "23/23 [==============================] - 0s 5ms/step - loss: 279.3782 - val_loss: 1745.6257\n",
      "Epoch 497/500\n",
      "23/23 [==============================] - 0s 5ms/step - loss: 279.3782 - val_loss: 1745.6257\n",
      "Epoch 498/500\n",
      "23/23 [==============================] - 0s 5ms/step - loss: 279.3782 - val_loss: 1745.6255\n",
      "Epoch 499/500\n",
      "23/23 [==============================] - 0s 5ms/step - loss: 279.3782 - val_loss: 1745.6259\n",
      "Epoch 500/500\n",
      "23/23 [==============================] - 0s 5ms/step - loss: 279.3783 - val_loss: 1745.6262\n"
     ]
    }
   ],
   "source": [
    "C0 = tf.Variable(85.7336, name=\"C0\", trainable=True, dtype=tf.float32)\n",
    "K0 = tf.Variable(-0.0020, name=\"K0\", trainable=True, dtype=tf.float32)\n",
    "K1 = tf.Variable(-0.0002, name=\"K1\", trainable=True, dtype=tf.float32)\n",
    "a = tf.Variable(0.0000, name=\"a\", trainable=True, dtype=tf.float32)\n",
    "b = tf.Variable(0.0125, name=\"b\", trainable=True, dtype=tf.float32)\n",
    "c = tf.Variable(2.3008, name=\"c\", trainable=True, dtype=tf.float32)\n",
    "\n",
    "splitr = 0.8\n",
    "\n",
    "\n",
    "def loss_fn(y_true, y_pred):\n",
    "    squared_difference = tf.square(y_true[:, 0] - y_pred[:, 0])\n",
    "    #squared_difference2 = tf.square(y_true[:, 2]-y_pred[:, 2])\n",
    "    #squared_difference1 = tf.square(y_true[:, 1]-y_pred[:, 1])\n",
    "    epsilon = 1\n",
    "    squared_difference3 = tf.square(\n",
    "        y_pred[:, 1] - (\n",
    "            y_pred[:, 0] * (\n",
    "                K0 - K1 * (\n",
    "                    9 * a * tf.math.log((y_pred[:, 0] + epsilon) / C0) / (K0 - K1 * c)**2 +\n",
    "                    4 * b * tf.math.log((y_pred[:, 0] + epsilon) / C0) / (K0 - K1 * c) + c\n",
    "                )\n",
    "            )\n",
    "        )\n",
    "    )\n",
    "    return tf.reduce_mean(squared_difference, axis=-1) + 0.2*tf.reduce_mean(squared_difference3, axis=-1)\n",
    "model = Sequential()\n",
    "model.add(LSTM(100, input_shape=(trainX.shape[1], trainX.shape[2])))\n",
    "model.add(Dense(60))\n",
    "model.compile(loss=loss_fn, optimizer='adam')\n",
    "history = model.fit(trainX[:int(splitr*trainX.shape[0])], trainy[:int(splitr*trainX.shape[0])], epochs=500, batch_size=64, validation_data=(trainX[int(splitr*trainX.shape[0]):trainX.shape[0]], trainy[int(splitr*trainX.shape[0]):trainX.shape[0]]), shuffle=False)"
   ]
  },
  {
   "cell_type": "code",
   "execution_count": 19,
   "metadata": {
    "colab": {
     "base_uri": "https://localhost:8080/"
    },
    "id": "yJL101rPyuoT",
    "outputId": "239ff2b1-c186-423a-d316-939dfdd7c793"
   },
   "outputs": [
    {
     "name": "stdout",
     "output_type": "stream",
     "text": [
      "1/1 [==============================] - 0s 440ms/step\n"
     ]
    }
   ],
   "source": [
    "forecast_without_mc = forecastX\n",
    "yhat_without_mc = model.predict(forecast_without_mc) # Step Ahead Prediction\n",
    "forecast_without_mc = forecast_without_mc.reshape((forecast_without_mc.shape[0], forecast_without_mc.shape[2])) # Historical Input"
   ]
  },
  {
   "cell_type": "code",
   "execution_count": 20,
   "metadata": {
    "colab": {
     "base_uri": "https://localhost:8080/"
    },
    "id": "g9dQELcJ8wbp",
    "outputId": "4dc7671b-b1a8-48d5-8744-a86f98446109"
   },
   "outputs": [
    {
     "data": {
      "text/plain": [
       "(1, 1, 251)"
      ]
     },
     "execution_count": 20,
     "metadata": {},
     "output_type": "execute_result"
    }
   ],
   "source": [
    "forecastX.shape"
   ]
  },
  {
   "cell_type": "code",
   "execution_count": 21,
   "metadata": {
    "colab": {
     "base_uri": "https://localhost:8080/"
    },
    "id": "IS2kyIKG1Kbr",
    "outputId": "f31b3485-8e26-452f-9298-ea8bf7e80ad1"
   },
   "outputs": [
    {
     "data": {
      "text/plain": [
       "(1, 251)"
      ]
     },
     "execution_count": 21,
     "metadata": {},
     "output_type": "execute_result"
    }
   ],
   "source": [
    "forecast_without_mc.shape"
   ]
  },
  {
   "cell_type": "code",
   "execution_count": 22,
   "metadata": {
    "id": "0u6VIzaDyuoT"
   },
   "outputs": [],
   "source": [
    "inv_yhat_without_mc = np.concatenate((forecast_without_mc, yhat_without_mc), axis=1) # Concatenation of predicted values with Historical Data\n",
    "#inv_yhat_without_mc = scaler.inverse_transform(inv_yhat_without_mc) # Transform labels back to original encoding"
   ]
  },
  {
   "cell_type": "code",
   "execution_count": 23,
   "metadata": {
    "colab": {
     "base_uri": "https://localhost:8080/"
    },
    "id": "EUEcw0LX07oU",
    "outputId": "cfc32397-9c37-4b43-d087-584bb31c3dcc"
   },
   "outputs": [
    {
     "data": {
      "text/plain": [
       "(1, 311)"
      ]
     },
     "execution_count": 23,
     "metadata": {},
     "output_type": "execute_result"
    }
   ],
   "source": [
    "inv_yhat_without_mc.shape"
   ]
  },
  {
   "cell_type": "code",
   "execution_count": 24,
   "metadata": {
    "id": "31OWVbSh_305"
   },
   "outputs": [],
   "source": [
    "fforecast = inv_yhat_without_mc[:,-300:]"
   ]
  },
  {
   "cell_type": "code",
   "execution_count": 25,
   "metadata": {},
   "outputs": [
    {
     "data": {
      "text/plain": [
       "(1, 300)"
      ]
     },
     "execution_count": 25,
     "metadata": {},
     "output_type": "execute_result"
    }
   ],
   "source": [
    "fforecast.shape"
   ]
  },
  {
   "cell_type": "code",
   "execution_count": 26,
   "metadata": {
    "id": "BlpGH2FOAiRF"
   },
   "outputs": [],
   "source": [
    "final_forecast = fforecast[:,0:300:3]"
   ]
  },
  {
   "cell_type": "code",
   "execution_count": 27,
   "metadata": {},
   "outputs": [
    {
     "data": {
      "text/plain": [
       "(1, 300)"
      ]
     },
     "execution_count": 27,
     "metadata": {},
     "output_type": "execute_result"
    }
   ],
   "source": [
    "fforecast.shape"
   ]
  },
  {
   "cell_type": "code",
   "execution_count": 28,
   "metadata": {
    "id": "CXkgkj_LBk_t"
   },
   "outputs": [],
   "source": [
    "# code to replace all negative value with 0\n",
    "final_forecast[final_forecast<0] = 0"
   ]
  },
  {
   "cell_type": "code",
   "execution_count": 29,
   "metadata": {},
   "outputs": [
    {
     "data": {
      "text/plain": [
       "array([[6.61120098e+01, 6.58725140e+01, 6.56418067e+01, 6.54119160e+01,\n",
       "        6.51820252e+01, 0.00000000e+00, 9.20709900e-01, 2.56794500e-01,\n",
       "        2.82769000e-02, 4.86232900e-01, 0.00000000e+00, 0.00000000e+00,\n",
       "        7.08772300e-01, 6.64668184e+01, 6.62273226e+01, 6.59788268e+01,\n",
       "        0.00000000e+00, 8.07057600e-02, 6.72595588e+01, 6.68435924e+01,\n",
       "        6.65643908e+01, 6.63248950e+01, 6.60853992e+01, 6.58459034e+01,\n",
       "        6.56165966e+01, 6.53897059e+01, 6.51628151e+01, 0.00000000e+00,\n",
       "        6.26430630e-01, 6.61829715e+01, 6.59434757e+01, 6.57090336e+01,\n",
       "        6.54821429e+01, 6.52552521e+01, 7.00289449e+01, 6.88478058e+01,\n",
       "        6.76139006e+01, 3.52500080e-01, 0.00000000e+00, 0.00000000e+00,\n",
       "        6.55625610e+01, 0.00000000e+00, 0.00000000e+00, 0.00000000e+00,\n",
       "        7.07138500e-02, 1.02327240e-01, 0.00000000e+00, 6.54401261e+01,\n",
       "        6.52132353e+01, 1.84284000e-01, 0.00000000e+00, 6.62361928e+01,\n",
       "        6.59966970e+01, 6.57594538e+01, 6.55325630e+01, 6.53056723e+01,\n",
       "        7.01633987e+01, 6.91167133e+01, 6.78912115e+01, 0.00000000e+00,\n",
       "        0.00000000e+00, 0.00000000e+00, 6.53981092e+01, 6.51712185e+01,\n",
       "        6.86097106e+01, 6.73996149e+01, 6.61828499e+01, 5.12230400e-01,\n",
       "        6.84295051e+01, 6.71825280e+01, 6.62805439e+01, 3.74972600e-01,\n",
       "        0.00000000e+00, 2.29632500e-01, 3.20638180e-01, 0.00000000e+00,\n",
       "        0.00000000e+00, 1.39785171e-01, 1.08848684e-01, 6.76236689e-01,\n",
       "        6.08381004e+01, 3.41572821e-01, 0.00000000e+00, 0.00000000e+00,\n",
       "        6.67996168e-01, 8.15639570e-02, 0.00000000e+00, 1.02618918e-01,\n",
       "        5.90325855e-02, 0.00000000e+00, 0.00000000e+00, 3.11024755e-01,\n",
       "        2.74103492e-01, 0.00000000e+00, 0.00000000e+00, 1.57439277e-01,\n",
       "        0.00000000e+00, 0.00000000e+00, 1.04578055e-01, 6.11705296e-02]])"
      ]
     },
     "execution_count": 29,
     "metadata": {},
     "output_type": "execute_result"
    }
   ],
   "source": [
    "final_forecast"
   ]
  },
  {
   "cell_type": "code",
   "execution_count": 30,
   "metadata": {},
   "outputs": [
    {
     "data": {
      "text/plain": [
       "(1, 100)"
      ]
     },
     "execution_count": 30,
     "metadata": {},
     "output_type": "execute_result"
    }
   ],
   "source": [
    "final_forecast.shape"
   ]
  },
  {
   "cell_type": "code",
   "execution_count": 31,
   "metadata": {},
   "outputs": [
    {
     "data": {
      "text/plain": [
       "(100,)"
      ]
     },
     "execution_count": 31,
     "metadata": {},
     "output_type": "execute_result"
    }
   ],
   "source": [
    "test.shape"
   ]
  },
  {
   "cell_type": "code",
   "execution_count": 32,
   "metadata": {},
   "outputs": [],
   "source": [
    "training_set = np.array(training_set)\n",
    "test = np.array(test)\n",
    "final_forecast = np.array(final_forecast.squeeze(0))"
   ]
  },
  {
   "cell_type": "code",
   "execution_count": 33,
   "metadata": {},
   "outputs": [
    {
     "data": {
      "text/plain": [
       "array([57.54554212, 57.53652388, 57.52750564, 57.51848739, 57.50946915,\n",
       "       57.50045091, 57.49143267, 57.48241443, 57.47339619, 57.46437795,\n",
       "       57.4553597 , 57.44634146, 57.43732322, 57.42830498, 57.41928674,\n",
       "       57.4102685 , 57.40125026, 57.39223201, 57.38321377, 57.37419553,\n",
       "       57.36517729, 57.35615905, 57.34714081, 57.33812257, 57.32910432,\n",
       "       57.32008608, 57.31106784, 57.3020496 , 57.29303136, 57.28401312,\n",
       "       57.27499488, 57.26597663, 57.25695839, 57.24794015, 57.23892191,\n",
       "       57.22990367, 57.22088543, 57.21186719, 57.20284894, 57.1938307 ,\n",
       "       57.18481246, 57.17579422, 57.16677598, 57.15775774, 57.1487395 ,\n",
       "       57.13972125, 57.13070301, 57.12168477, 57.11266653, 57.10364829,\n",
       "       57.09463005, 57.08561181, 57.07659356, 57.06757532, 57.05855708,\n",
       "       57.04953884, 57.0405206 , 57.03150236, 57.02248412, 57.01346587,\n",
       "       57.00444763, 56.99542939, 56.98641115, 56.97739291, 56.96837467,\n",
       "       56.95935643, 56.95033818, 56.94131994, 56.9323017 , 56.92328346,\n",
       "       56.91426522, 56.90524698, 56.89622874, 56.88721049, 56.87819225,\n",
       "       56.86917401, 56.86015577, 56.85113753, 56.84211929, 56.83310105,\n",
       "       56.8240828 , 56.81506456, 56.80604632, 56.79702808, 56.78800984,\n",
       "       56.7789916 , 56.76997336, 56.76095511, 56.75193687, 56.74291863,\n",
       "       56.73390039, 56.72488215, 56.71586391, 56.70684567, 56.69782742,\n",
       "       56.68880918, 56.67979094, 56.6707727 , 56.66175446, 56.65273622])"
      ]
     },
     "execution_count": 33,
     "metadata": {},
     "output_type": "execute_result"
    }
   ],
   "source": [
    "test"
   ]
  },
  {
   "cell_type": "code",
   "execution_count": 34,
   "metadata": {},
   "outputs": [
    {
     "data": {
      "text/plain": [
       "(100,)"
      ]
     },
     "execution_count": 34,
     "metadata": {},
     "output_type": "execute_result"
    }
   ],
   "source": [
    "test.shape"
   ]
  },
  {
   "cell_type": "code",
   "execution_count": 35,
   "metadata": {},
   "outputs": [
    {
     "data": {
      "text/plain": [
       "(100,)"
      ]
     },
     "execution_count": 35,
     "metadata": {},
     "output_type": "execute_result"
    }
   ],
   "source": [
    "final_forecast.shape"
   ]
  },
  {
   "cell_type": "code",
   "execution_count": 36,
   "metadata": {},
   "outputs": [
    {
     "data": {
      "text/plain": [
       "(100,)"
      ]
     },
     "execution_count": 36,
     "metadata": {},
     "output_type": "execute_result"
    }
   ],
   "source": [
    "test.shape"
   ]
  },
  {
   "cell_type": "code",
   "execution_count": 37,
   "metadata": {},
   "outputs": [
    {
     "name": "stdout",
     "output_type": "stream",
     "text": [
      "42.622774564783136\n",
      "35.37679145460413\n"
     ]
    }
   ],
   "source": [
    "import math\n",
    "MSE = np.square(np.subtract(np.array(test),np.array(final_forecast))).mean()   \n",
    "rsme = math.sqrt(MSE)\n",
    "print(rsme)  \n",
    "MAE = np.abs(np.subtract(np.array(test),np.array(final_forecast))).mean()   \n",
    "mae = MAE\n",
    "print(mae)"
   ]
  }
 ],
 "metadata": {
  "colab": {
   "provenance": []
  },
  "kernelspec": {
   "display_name": "Python 3",
   "language": "python",
   "name": "python3"
  },
  "language_info": {
   "codemirror_mode": {
    "name": "ipython",
    "version": 3
   },
   "file_extension": ".py",
   "mimetype": "text/x-python",
   "name": "python",
   "nbconvert_exporter": "python",
   "pygments_lexer": "ipython3",
   "version": "3.9.13"
  }
 },
 "nbformat": 4,
 "nbformat_minor": 0
}
