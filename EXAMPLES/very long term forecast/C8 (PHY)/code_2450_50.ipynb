{
 "cells": [
  {
   "cell_type": "markdown",
   "metadata": {
    "id": "pCGKeZ2gyuoQ"
   },
   "source": [
    "_Importing Required Libraries_"
   ]
  },
  {
   "cell_type": "code",
   "execution_count": 1,
   "metadata": {
    "colab": {
     "base_uri": "https://localhost:8080/"
    },
    "id": "A-6LN-zXiLcM",
    "outputId": "4de610a4-f8b8-4f49-c6c0-89de299ccedc"
   },
   "outputs": [
    {
     "name": "stdout",
     "output_type": "stream",
     "text": [
      "Requirement already satisfied: hampel in c:\\users\\anurag dutta\\appdata\\local\\packages\\pythonsoftwarefoundation.python.3.9_qbz5n2kfra8p0\\localcache\\local-packages\\python39\\site-packages (0.0.5)\n",
      "Requirement already satisfied: numpy in c:\\users\\anurag dutta\\appdata\\local\\packages\\pythonsoftwarefoundation.python.3.9_qbz5n2kfra8p0\\localcache\\local-packages\\python39\\site-packages (from hampel) (1.26.4)\n",
      "Requirement already satisfied: pandas in c:\\users\\anurag dutta\\appdata\\local\\packages\\pythonsoftwarefoundation.python.3.9_qbz5n2kfra8p0\\localcache\\local-packages\\python39\\site-packages (from hampel) (1.5.2)\n",
      "Requirement already satisfied: python-dateutil>=2.8.1 in c:\\users\\anurag dutta\\appdata\\local\\packages\\pythonsoftwarefoundation.python.3.9_qbz5n2kfra8p0\\localcache\\local-packages\\python39\\site-packages (from pandas->hampel) (2.8.2)\n",
      "Requirement already satisfied: pytz>=2020.1 in c:\\users\\anurag dutta\\appdata\\local\\packages\\pythonsoftwarefoundation.python.3.9_qbz5n2kfra8p0\\localcache\\local-packages\\python39\\site-packages (from pandas->hampel) (2023.3.post1)\n",
      "Requirement already satisfied: six>=1.5 in c:\\users\\anurag dutta\\appdata\\local\\packages\\pythonsoftwarefoundation.python.3.9_qbz5n2kfra8p0\\localcache\\local-packages\\python39\\site-packages (from python-dateutil>=2.8.1->pandas->hampel) (1.16.0)Note: you may need to restart the kernel to use updated packages.\n",
      "\n"
     ]
    },
    {
     "name": "stderr",
     "output_type": "stream",
     "text": [
      "\n",
      "[notice] A new release of pip is available: 24.2 -> 24.3.1\n",
      "[notice] To update, run: C:\\Users\\Anurag Dutta\\AppData\\Local\\Microsoft\\WindowsApps\\PythonSoftwareFoundation.Python.3.9_qbz5n2kfra8p0\\python.exe -m pip install --upgrade pip\n"
     ]
    }
   ],
   "source": [
    "pip install hampel"
   ]
  },
  {
   "cell_type": "code",
   "execution_count": 2,
   "metadata": {
    "id": "By_d9uXpaFvZ"
   },
   "outputs": [],
   "source": [
    "from keras.models import Sequential\n",
    "from keras.layers import Dense\n",
    "from keras.layers import LSTM\n",
    "from keras.layers import Dropout\n",
    "import keras\n",
    "import tensorflow as tf\n",
    "from hampel import hampel\n",
    "import numpy as np\n",
    "import matplotlib.pyplot as plt\n",
    "import pandas as pd\n",
    "from sklearn.preprocessing import MinMaxScaler\n",
    "from sklearn.metrics import mean_squared_error, mean_absolute_error\n",
    "from math import sqrt\n",
    "from matplotlib import pyplot\n",
    "from numpy import array"
   ]
  },
  {
   "cell_type": "markdown",
   "metadata": {
    "id": "JyOjBMFayuoR"
   },
   "source": [
    "## Pretraining"
   ]
  },
  {
   "cell_type": "markdown",
   "metadata": {
    "id": "-5QqIY_GyuoR"
   },
   "source": [
    "The `capa_intermittency.dat` feeds the model with the dynamics of the Capacitor"
   ]
  },
  {
   "cell_type": "code",
   "execution_count": 3,
   "metadata": {
    "id": "9dV4a8yfyuoR"
   },
   "outputs": [],
   "source": [
    "data = np.genfromtxt('capa_intermittency.dat')\n",
    "training_set = pd.DataFrame(data).reset_index(drop=True)\n",
    "training_set = training_set.iloc[:,0]"
   ]
  },
  {
   "cell_type": "markdown",
   "metadata": {
    "id": "i7easoxByuoR"
   },
   "source": [
    "## Computing the Gradient"
   ]
  },
  {
   "cell_type": "markdown",
   "metadata": {
    "id": "5SnyolJTyuoR"
   },
   "source": [
    "_Calculating the value of_ $\\frac{dx}{dt}$"
   ]
  },
  {
   "cell_type": "code",
   "execution_count": 4,
   "metadata": {
    "colab": {
     "base_uri": "https://localhost:8080/"
    },
    "id": "wmIbVfIvyuoR",
    "outputId": "aa4e3136-c854-465d-d2e9-81cfd546e440"
   },
   "outputs": [
    {
     "name": "stdout",
     "output_type": "stream",
     "text": [
      "1.0\n",
      "1        0.000298\n",
      "2        0.000298\n",
      "3        0.000297\n",
      "4        0.000297\n",
      "5        0.000297\n",
      "           ...   \n",
      "9996     0.000018\n",
      "9997     0.000018\n",
      "9998     0.000018\n",
      "9999     0.000018\n",
      "10000    0.000018\n",
      "Name: 0, Length: 10000, dtype: float64\n"
     ]
    }
   ],
   "source": [
    "t_diff = 1\n",
    "print(training_set.max())\n",
    "gradient_t = (training_set.diff()/t_diff).iloc[1:] # dx/dt\n",
    "print(gradient_t)"
   ]
  },
  {
   "cell_type": "markdown",
   "metadata": {
    "id": "_2eVeeoxyuoS"
   },
   "source": [
    "## Loading Datasets"
   ]
  },
  {
   "cell_type": "code",
   "execution_count": null,
   "metadata": {
    "id": "0J-NKyIEyuoS"
   },
   "outputs": [
    {
     "data": {
      "text/plain": [
       "0       88.200000\n",
       "1       87.987115\n",
       "2       87.774230\n",
       "3       87.561345\n",
       "4       87.348459\n",
       "          ...    \n",
       "2495    55.336073\n",
       "2496    55.327055\n",
       "2497    55.318036\n",
       "2498    55.309018\n",
       "2499    55.300000\n",
       "Name: C8, Length: 2500, dtype: float64"
      ]
     },
     "execution_count": 5,
     "metadata": {},
     "output_type": "execute_result"
    }
   ],
   "source": [
    "data = pd.read_csv(\"c8_interpolated_2450_50.csv\")\n",
    "training_set = data.iloc[:, 1]\n",
    "training_set"
   ]
  },
  {
   "cell_type": "code",
   "execution_count": 6,
   "metadata": {
    "colab": {
     "base_uri": "https://localhost:8080/"
    },
    "id": "-CbNUhJ74UqF",
    "outputId": "20f562d8-8247-49cc-b9c3-00eca5e13e2d"
   },
   "outputs": [
    {
     "data": {
      "text/plain": [
       "0       88.200000\n",
       "1       87.987115\n",
       "2       87.774230\n",
       "3       87.561345\n",
       "4       87.348459\n",
       "          ...    \n",
       "2445     0.000000\n",
       "2446     0.157439\n",
       "2447     0.000000\n",
       "2448     0.000000\n",
       "2449     0.104578\n",
       "Name: C8, Length: 2450, dtype: float64"
      ]
     },
     "execution_count": 6,
     "metadata": {},
     "output_type": "execute_result"
    }
   ],
   "source": [
    "test = training_set.tail(50)\n",
    "test\n",
    "training_set = training_set.head(2450)\n",
    "training_set"
   ]
  },
  {
   "cell_type": "code",
   "execution_count": 7,
   "metadata": {
    "colab": {
     "base_uri": "https://localhost:8080/"
    },
    "id": "X0TwTcq0yuoS",
    "outputId": "37252ed8-d88e-4044-fa7a-922411990b5b"
   },
   "outputs": [
    {
     "name": "stdout",
     "output_type": "stream",
     "text": [
      "0       0.000298\n",
      "1       0.000298\n",
      "2       0.000297\n",
      "3       0.000297\n",
      "4       0.000297\n",
      "          ...   \n",
      "9995    0.000018\n",
      "9996    0.000018\n",
      "9997    0.000018\n",
      "9998    0.000018\n",
      "9999    0.000018\n",
      "Name: 0, Length: 10000, dtype: float64\n"
     ]
    }
   ],
   "source": [
    "training_set = training_set.reset_index(drop=True)\n",
    "gradient_t = gradient_t.reset_index(drop=True)\n",
    "print(gradient_t)"
   ]
  },
  {
   "cell_type": "code",
   "execution_count": 8,
   "metadata": {
    "id": "O2biznZQyuoS"
   },
   "outputs": [],
   "source": [
    "df = pd.concat((training_set, gradient_t), axis=1)\n",
    "df.columns = ['y_t', 'grad_t']"
   ]
  },
  {
   "cell_type": "code",
   "execution_count": 9,
   "metadata": {
    "colab": {
     "base_uri": "https://localhost:8080/",
     "height": 423
    },
    "id": "sk_a5v3tyuoS",
    "outputId": "17563625-e550-45ae-faab-fafa353e44da"
   },
   "outputs": [
    {
     "data": {
      "text/html": [
       "<div>\n",
       "<style scoped>\n",
       "    .dataframe tbody tr th:only-of-type {\n",
       "        vertical-align: middle;\n",
       "    }\n",
       "\n",
       "    .dataframe tbody tr th {\n",
       "        vertical-align: top;\n",
       "    }\n",
       "\n",
       "    .dataframe thead th {\n",
       "        text-align: right;\n",
       "    }\n",
       "</style>\n",
       "<table border=\"1\" class=\"dataframe\">\n",
       "  <thead>\n",
       "    <tr style=\"text-align: right;\">\n",
       "      <th></th>\n",
       "      <th>y_t</th>\n",
       "      <th>grad_t</th>\n",
       "    </tr>\n",
       "  </thead>\n",
       "  <tbody>\n",
       "    <tr>\n",
       "      <th>0</th>\n",
       "      <td>88.200000</td>\n",
       "      <td>0.000298</td>\n",
       "    </tr>\n",
       "    <tr>\n",
       "      <th>1</th>\n",
       "      <td>87.987115</td>\n",
       "      <td>0.000298</td>\n",
       "    </tr>\n",
       "    <tr>\n",
       "      <th>2</th>\n",
       "      <td>87.774230</td>\n",
       "      <td>0.000297</td>\n",
       "    </tr>\n",
       "    <tr>\n",
       "      <th>3</th>\n",
       "      <td>87.561345</td>\n",
       "      <td>0.000297</td>\n",
       "    </tr>\n",
       "    <tr>\n",
       "      <th>4</th>\n",
       "      <td>87.348459</td>\n",
       "      <td>0.000297</td>\n",
       "    </tr>\n",
       "    <tr>\n",
       "      <th>...</th>\n",
       "      <td>...</td>\n",
       "      <td>...</td>\n",
       "    </tr>\n",
       "    <tr>\n",
       "      <th>9995</th>\n",
       "      <td>NaN</td>\n",
       "      <td>0.000018</td>\n",
       "    </tr>\n",
       "    <tr>\n",
       "      <th>9996</th>\n",
       "      <td>NaN</td>\n",
       "      <td>0.000018</td>\n",
       "    </tr>\n",
       "    <tr>\n",
       "      <th>9997</th>\n",
       "      <td>NaN</td>\n",
       "      <td>0.000018</td>\n",
       "    </tr>\n",
       "    <tr>\n",
       "      <th>9998</th>\n",
       "      <td>NaN</td>\n",
       "      <td>0.000018</td>\n",
       "    </tr>\n",
       "    <tr>\n",
       "      <th>9999</th>\n",
       "      <td>NaN</td>\n",
       "      <td>0.000018</td>\n",
       "    </tr>\n",
       "  </tbody>\n",
       "</table>\n",
       "<p>10000 rows × 2 columns</p>\n",
       "</div>"
      ],
      "text/plain": [
       "            y_t    grad_t\n",
       "0     88.200000  0.000298\n",
       "1     87.987115  0.000298\n",
       "2     87.774230  0.000297\n",
       "3     87.561345  0.000297\n",
       "4     87.348459  0.000297\n",
       "...         ...       ...\n",
       "9995        NaN  0.000018\n",
       "9996        NaN  0.000018\n",
       "9997        NaN  0.000018\n",
       "9998        NaN  0.000018\n",
       "9999        NaN  0.000018\n",
       "\n",
       "[10000 rows x 2 columns]"
      ]
     },
     "execution_count": 9,
     "metadata": {},
     "output_type": "execute_result"
    }
   ],
   "source": [
    "df"
   ]
  },
  {
   "cell_type": "markdown",
   "metadata": {
    "id": "-5esyHu5aFvg"
   },
   "source": [
    "## Plot of the External Forcing from Chaotic Differential Equation"
   ]
  },
  {
   "cell_type": "code",
   "execution_count": 10,
   "metadata": {
    "colab": {
     "base_uri": "https://localhost:8080/",
     "height": 447
    },
    "id": "hGnE43tOh-4p",
    "outputId": "fc396503-b624-4fa5-dfbe-f460207405c6"
   },
   "outputs": [
    {
     "data": {
      "text/plain": [
       "<Axes: >"
      ]
     },
     "execution_count": 10,
     "metadata": {},
     "output_type": "execute_result"
    },
    {
     "data": {
      "image/png": "[encoded data removed]",
      "text/plain": [
       "<Figure size 432x288 with 1 Axes>"
      ]
     },
     "metadata": {
      "needs_background": "light"
     },
     "output_type": "display_data"
    }
   ],
   "source": [
    "df.iloc[:, 0].plot()"
   ]
  },
  {
   "cell_type": "code",
   "execution_count": 11,
   "metadata": {
    "colab": {
     "base_uri": "https://localhost:8080/",
     "height": 447
    },
    "id": "ym4xWUUxaFvg",
    "outputId": "ae6a3495-8ce9-437e-ba81-3ed31deedeae"
   },
   "outputs": [
    {
     "name": "stderr",
     "output_type": "stream",
     "text": [
      "C:\\Users\\Anurag Dutta\\AppData\\Local\\Packages\\PythonSoftwareFoundation.Python.3.9_qbz5n2kfra8p0\\LocalCache\\local-packages\\Python39\\site-packages\\pandas\\core\\arraylike.py:402: RuntimeWarning: divide by zero encountered in log\n",
      "  result = getattr(ufunc, method)(*inputs, **kwargs)\n"
     ]
    },
    {
     "data": {
      "text/plain": [
       "<Axes: >"
      ]
     },
     "execution_count": 11,
     "metadata": {},
     "output_type": "execute_result"
    },
    {
     "data": {
      "image/png": "[encoded data removed]",
      "text/plain": [
       "<Figure size 432x288 with 1 Axes>"
      ]
     },
     "metadata": {
      "needs_background": "light"
     },
     "output_type": "display_data"
    }
   ],
   "source": [
    "import numpy as np\n",
    "c0 = 85.7336  # Value for C0\n",
    "K0 = -0.0020  # Value for K0\n",
    "K1 = 0.0002  # Value for K1\n",
    "a = 0.0000    # Value for a\n",
    "b = 0.0125    # Value for b\n",
    "c = 2.3008    # Value for c\n",
    "\n",
    "L = np.minimum(c0, (df.iloc[:, 1] - (df.iloc[:, 0] * (K0 - K1 * (9 * a * np.log(df.iloc[:, 0] / c0) / (K0 - K1 * c)**2 + 4 * b * np.log(df.iloc[:, 0] / c0) / (K0 - K1 * c) + c)))))\n",
    "L.plot()"
   ]
  },
  {
   "cell_type": "markdown",
   "metadata": {
    "id": "9VyEywnwaFvh"
   },
   "source": [
    "## Preprocessing the data into supervised learning"
   ]
  },
  {
   "cell_type": "code",
   "execution_count": 12,
   "metadata": {
    "id": "6V9dXqzdaFvh"
   },
   "outputs": [],
   "source": [
    "# split a sequence into samples\n",
    "def Supervised(data, n_in=1, n_out=1, dropnan=True):\n",
    "    n_vars = 1 if type(data) is list else data.shape[1]\n",
    "    df = pd.DataFrame(data)\n",
    "    cols, names = list(), list()\n",
    "    # input sequence (t-n_in, ... t-1)\n",
    "    for i in range(n_in, 0, -1):\n",
    "        cols.append(df.shift(i))\n",
    "        names += [('var%d(t-%d)' % (j+1, i)) for j in range(n_vars)]\n",
    "    # forecast sequence (t, t+1, ... t+n_out)\n",
    "    for i in range(0, n_out):\n",
    "      cols.append(df.shift(-i))\n",
    "      if i == 0:\n",
    "        names += [('var%d(t)' % (j+1)) for j in range(n_vars)]\n",
    "      else:\n",
    "        names += [('var%d(t+%d)' % (j+1, i)) for j in range(n_vars)]\n",
    "    # put it all together\n",
    "    agg = pd.concat(cols, axis=1)\n",
    "    agg.columns = names\n",
    "    # drop rows with NaN values\n",
    "    if dropnan:\n",
    "       agg.dropna(inplace=True)\n",
    "    return agg"
   ]
  },
  {
   "cell_type": "code",
   "execution_count": 13,
   "metadata": {
    "colab": {
     "base_uri": "https://localhost:8080/"
    },
    "id": "CrzSrT1HnyfH",
    "outputId": "7e75f928-3e47-499d-eac1-51908015ef78"
   },
   "outputs": [
    {
     "name": "stdout",
     "output_type": "stream",
     "text": [
      "     var1(t-175)  var1(t-174)  var1(t-173)  var1(t-172)  var1(t-171)  \\\n",
      "175    88.200000    87.987115    87.774230    87.561345    87.348459   \n",
      "176    87.987115    87.774230    87.561345    87.348459    87.135574   \n",
      "177    87.774230    87.561345    87.348459    87.135574    86.922689   \n",
      "178    87.561345    87.348459    87.135574    86.922689    86.709804   \n",
      "179    87.348459    87.135574    86.922689    86.709804    86.496919   \n",
      "\n",
      "     var1(t-170)  var1(t-169)  var1(t-168)  var1(t-167)  var1(t-166)  ...  \\\n",
      "175    87.135574    86.922689    86.709804    86.496919    86.294538  ...   \n",
      "176    86.922689    86.709804    86.496919    86.294538    86.221709  ...   \n",
      "177    86.709804    86.496919    86.294538    86.221709    86.148880  ...   \n",
      "178    86.496919    86.294538    86.221709    86.148880    86.076050  ...   \n",
      "179    86.294538    86.221709    86.148880    86.076050    86.003221  ...   \n",
      "\n",
      "     var1(t+45)  var2(t+45)  var1(t+46)  var2(t+46)  var1(t+47)  var2(t+47)  \\\n",
      "175   79.697526    0.000280   79.676984    0.000280   79.656443    0.000280   \n",
      "176   79.676984    0.000280   79.656443    0.000280   79.635901    0.000280   \n",
      "177   79.656443    0.000280   79.635901    0.000280   79.615359    0.000279   \n",
      "178   79.635901    0.000280   79.615359    0.000279   79.594818    0.000279   \n",
      "179   79.615359    0.000279   79.594818    0.000279   79.574276    0.000279   \n",
      "\n",
      "     var1(t+48)  var2(t+48)  var1(t+49)  var2(t+49)  \n",
      "175   79.635901    0.000280   79.615359    0.000279  \n",
      "176   79.615359    0.000279   79.594818    0.000279  \n",
      "177   79.594818    0.000279   79.574276    0.000279  \n",
      "178   79.574276    0.000279   79.553735    0.000279  \n",
      "179   79.553735    0.000279   79.533193    0.000279  \n",
      "\n",
      "[5 rows x 276 columns]\n",
      "Index(['var1(t-175)', 'var1(t-174)', 'var1(t-173)', 'var1(t-172)',\n",
      "       'var1(t-171)', 'var1(t-170)', 'var1(t-169)', 'var1(t-168)',\n",
      "       'var1(t-167)', 'var1(t-166)',\n",
      "       ...\n",
      "       'var1(t+45)', 'var2(t+45)', 'var1(t+46)', 'var2(t+46)', 'var1(t+47)',\n",
      "       'var2(t+47)', 'var1(t+48)', 'var2(t+48)', 'var1(t+49)', 'var2(t+49)'],\n",
      "      dtype='object', length=276)\n"
     ]
    }
   ],
   "source": [
    "data = Supervised(df.values, n_in = 175, n_out = 50)\n",
    "\n",
    "\n",
    "cols_to_drop = []\n",
    "for i in range(2, 176):\n",
    "    cols_to_drop.extend([f'var2(t-{i})'])\n",
    "\n",
    "data.drop(cols_to_drop, axis=1, inplace=True)\n",
    "\n",
    "print(data.head())\n",
    "print(data.columns)"
   ]
  },
  {
   "cell_type": "code",
   "execution_count": 14,
   "metadata": {
    "id": "AfPf60oy6Pe4"
   },
   "outputs": [],
   "source": [
    "train = np.array(data[0:len(data)-1])\n",
    "forecast = np.array(data.tail(1))"
   ]
  },
  {
   "cell_type": "code",
   "execution_count": 15,
   "metadata": {
    "id": "WSAafzI37KiT"
   },
   "outputs": [],
   "source": [
    "trainy = train[:,-150:]\n",
    "trainX = train[:,:-150]"
   ]
  },
  {
   "cell_type": "code",
   "execution_count": 16,
   "metadata": {
    "id": "2SrOqVJA7f50"
   },
   "outputs": [],
   "source": [
    "forecasty = forecast[:,-150:]\n",
    "forecastX = forecast[:,:-150]"
   ]
  },
  {
   "cell_type": "code",
   "execution_count": 17,
   "metadata": {
    "colab": {
     "base_uri": "https://localhost:8080/"
    },
    "id": "Qno_k8Nw7saY",
    "outputId": "c4a88db5-d8c6-489f-cdb2-06b24e293cff"
   },
   "outputs": [
    {
     "name": "stdout",
     "output_type": "stream",
     "text": [
      "(2225, 1, 126) (2225, 150) (1, 1, 126)\n"
     ]
    }
   ],
   "source": [
    "trainX = trainX.reshape((trainX.shape[0], 1, trainX.shape[1]))\n",
    "forecastX = forecastX.reshape((forecastX.shape[0], 1, forecastX.shape[1]))\n",
    "print(trainX.shape, trainy.shape, forecastX.shape)"
   ]
  },
  {
   "cell_type": "code",
   "execution_count": 18,
   "metadata": {
    "colab": {
     "base_uri": "https://localhost:8080/"
    },
    "id": "b1Jp2DvNuNFx",
    "outputId": "d0e5b3c4-64f1-438c-eade-8dfeaac8e285"
   },
   "outputs": [
    {
     "name": "stdout",
     "output_type": "stream",
     "text": [
      "Epoch 1/500\n",
      "28/28 [==============================] - 3s 24ms/step - loss: 4400.3086 - val_loss: 2046.7390\n",
      "Epoch 2/500\n",
      "28/28 [==============================] - 0s 5ms/step - loss: 4066.7661 - val_loss: 1912.1753\n",
      "Epoch 3/500\n",
      "28/28 [==============================] - 0s 4ms/step - loss: 3893.7820 - val_loss: 1822.0918\n",
      "Epoch 4/500\n",
      "28/28 [==============================] - 0s 5ms/step - loss: 3707.5879 - val_loss: 1739.9128\n",
      "Epoch 5/500\n",
      "28/28 [==============================] - 0s 5ms/step - loss: 3526.8967 - val_loss: 1659.2871\n",
      "Epoch 6/500\n",
      "28/28 [==============================] - 0s 5ms/step - loss: 3351.1506 - val_loss: 1586.4135\n",
      "Epoch 7/500\n",
      "28/28 [==============================] - 0s 5ms/step - loss: 3186.4092 - val_loss: 1522.0293\n",
      "Epoch 8/500\n",
      "28/28 [==============================] - 0s 5ms/step - loss: 3038.7573 - val_loss: 1461.9825\n",
      "Epoch 9/500\n",
      "28/28 [==============================] - 0s 6ms/step - loss: 2890.7625 - val_loss: 1408.7698\n",
      "Epoch 10/500\n",
      "28/28 [==============================] - 0s 7ms/step - loss: 2753.6802 - val_loss: 1360.2942\n",
      "Epoch 11/500\n",
      "28/28 [==============================] - 0s 8ms/step - loss: 2623.5891 - val_loss: 1314.1216\n",
      "Epoch 12/500\n",
      "28/28 [==============================] - 0s 8ms/step - loss: 2502.5896 - val_loss: 1273.5432\n",
      "Epoch 13/500\n",
      "28/28 [==============================] - 0s 7ms/step - loss: 2387.9839 - val_loss: 1236.1359\n",
      "Epoch 14/500\n",
      "28/28 [==============================] - 0s 6ms/step - loss: 2279.6987 - val_loss: 1204.9093\n",
      "Epoch 15/500\n",
      "28/28 [==============================] - 0s 6ms/step - loss: 2175.1121 - val_loss: 1171.6497\n",
      "Epoch 16/500\n",
      "28/28 [==============================] - 0s 8ms/step - loss: 2074.4773 - val_loss: 1138.1854\n",
      "Epoch 17/500\n",
      "28/28 [==============================] - 0s 6ms/step - loss: 1979.8263 - val_loss: 1113.1232\n",
      "Epoch 18/500\n",
      "28/28 [==============================] - 0s 6ms/step - loss: 1890.8280 - val_loss: 1094.1965\n",
      "Epoch 19/500\n",
      "28/28 [==============================] - 0s 5ms/step - loss: 1804.1650 - val_loss: 1069.0209\n",
      "Epoch 20/500\n",
      "28/28 [==============================] - 0s 5ms/step - loss: 1721.6730 - val_loss: 1047.3375\n",
      "Epoch 21/500\n",
      "28/28 [==============================] - 0s 5ms/step - loss: 1642.7064 - val_loss: 1030.6038\n",
      "Epoch 22/500\n",
      "28/28 [==============================] - 0s 5ms/step - loss: 1560.8060 - val_loss: 1011.1213\n",
      "Epoch 23/500\n",
      "28/28 [==============================] - 0s 5ms/step - loss: 1482.2549 - val_loss: 996.7925\n",
      "Epoch 24/500\n",
      "28/28 [==============================] - 0s 5ms/step - loss: 1410.5631 - val_loss: 989.2142\n",
      "Epoch 25/500\n",
      "28/28 [==============================] - 0s 5ms/step - loss: 1344.5593 - val_loss: 980.2510\n",
      "Epoch 26/500\n",
      "28/28 [==============================] - 0s 5ms/step - loss: 1282.4794 - val_loss: 975.1470\n",
      "Epoch 27/500\n",
      "28/28 [==============================] - 0s 6ms/step - loss: 1226.5851 - val_loss: 974.5012\n",
      "Epoch 28/500\n",
      "28/28 [==============================] - 0s 5ms/step - loss: 1167.0304 - val_loss: 976.6068\n",
      "Epoch 29/500\n",
      "28/28 [==============================] - 0s 5ms/step - loss: 1114.5532 - val_loss: 976.1733\n",
      "Epoch 30/500\n",
      "28/28 [==============================] - 0s 5ms/step - loss: 1062.9509 - val_loss: 965.7155\n",
      "Epoch 31/500\n",
      "28/28 [==============================] - 0s 5ms/step - loss: 1016.3951 - val_loss: 963.1339\n",
      "Epoch 32/500\n",
      "28/28 [==============================] - 0s 5ms/step - loss: 1042.7932 - val_loss: 983.7658\n",
      "Epoch 33/500\n",
      "28/28 [==============================] - 0s 5ms/step - loss: 927.9119 - val_loss: 986.6836\n",
      "Epoch 34/500\n",
      "28/28 [==============================] - 0s 5ms/step - loss: 890.4209 - val_loss: 973.7412\n",
      "Epoch 35/500\n",
      "28/28 [==============================] - 0s 5ms/step - loss: 932.8250 - val_loss: 1041.4929\n",
      "Epoch 36/500\n",
      "28/28 [==============================] - 0s 5ms/step - loss: 827.7333 - val_loss: 1050.6080\n",
      "Epoch 37/500\n",
      "28/28 [==============================] - 0s 5ms/step - loss: 783.2876 - val_loss: 1058.8801\n",
      "Epoch 38/500\n",
      "28/28 [==============================] - 0s 5ms/step - loss: 748.2940 - val_loss: 1056.9229\n",
      "Epoch 39/500\n",
      "28/28 [==============================] - 0s 5ms/step - loss: 718.0639 - val_loss: 1052.3528\n",
      "Epoch 40/500\n",
      "28/28 [==============================] - 0s 5ms/step - loss: 768.1356 - val_loss: 1057.5679\n",
      "Epoch 41/500\n",
      "28/28 [==============================] - 0s 5ms/step - loss: 755.1064 - val_loss: 1119.5598\n",
      "Epoch 42/500\n",
      "28/28 [==============================] - 0s 5ms/step - loss: 652.1235 - val_loss: 1158.5684\n",
      "Epoch 43/500\n",
      "28/28 [==============================] - 0s 5ms/step - loss: 621.9729 - val_loss: 1161.2688\n",
      "Epoch 44/500\n",
      "28/28 [==============================] - 0s 5ms/step - loss: 611.5593 - val_loss: 1159.0286\n",
      "Epoch 45/500\n",
      "28/28 [==============================] - 0s 6ms/step - loss: 601.1932 - val_loss: 1143.5980\n",
      "Epoch 46/500\n",
      "28/28 [==============================] - 0s 6ms/step - loss: 574.2885 - val_loss: 1144.1758\n",
      "Epoch 47/500\n",
      "28/28 [==============================] - 0s 5ms/step - loss: 550.7158 - val_loss: 1136.6886\n",
      "Epoch 48/500\n",
      "28/28 [==============================] - 0s 6ms/step - loss: 555.1484 - val_loss: 1178.3605\n",
      "Epoch 49/500\n",
      "28/28 [==============================] - 0s 5ms/step - loss: 522.4147 - val_loss: 1186.2224\n",
      "Epoch 50/500\n",
      "28/28 [==============================] - 0s 5ms/step - loss: 515.5472 - val_loss: 1228.4513\n",
      "Epoch 51/500\n",
      "28/28 [==============================] - 0s 5ms/step - loss: 519.9227 - val_loss: 1226.5128\n",
      "Epoch 52/500\n",
      "28/28 [==============================] - 0s 5ms/step - loss: 503.5116 - val_loss: 1226.6688\n",
      "Epoch 53/500\n",
      "28/28 [==============================] - 0s 5ms/step - loss: 530.1720 - val_loss: 1231.2130\n",
      "Epoch 54/500\n",
      "28/28 [==============================] - 0s 4ms/step - loss: 469.5247 - val_loss: 1217.9260\n",
      "Epoch 55/500\n",
      "28/28 [==============================] - 0s 5ms/step - loss: 477.7243 - val_loss: 1214.5671\n",
      "Epoch 56/500\n",
      "28/28 [==============================] - 0s 5ms/step - loss: 465.1379 - val_loss: 1226.3124\n",
      "Epoch 57/500\n",
      "28/28 [==============================] - 0s 5ms/step - loss: 460.3765 - val_loss: 1265.9022\n",
      "Epoch 58/500\n",
      "28/28 [==============================] - 0s 6ms/step - loss: 446.3574 - val_loss: 1254.4899\n",
      "Epoch 59/500\n",
      "28/28 [==============================] - 0s 5ms/step - loss: 456.3020 - val_loss: 1260.8580\n",
      "Epoch 60/500\n",
      "28/28 [==============================] - 0s 4ms/step - loss: 445.3419 - val_loss: 1269.4136\n",
      "Epoch 61/500\n",
      "28/28 [==============================] - 0s 5ms/step - loss: 435.6401 - val_loss: 1268.9227\n",
      "Epoch 62/500\n",
      "28/28 [==============================] - 0s 5ms/step - loss: 419.6087 - val_loss: 1276.5035\n",
      "Epoch 63/500\n",
      "28/28 [==============================] - 0s 5ms/step - loss: 455.9196 - val_loss: 1291.6848\n",
      "Epoch 64/500\n",
      "28/28 [==============================] - 0s 5ms/step - loss: 405.3202 - val_loss: 1305.6519\n",
      "Epoch 65/500\n",
      "28/28 [==============================] - 0s 5ms/step - loss: 398.8671 - val_loss: 1314.5814\n",
      "Epoch 66/500\n",
      "28/28 [==============================] - 0s 5ms/step - loss: 391.3657 - val_loss: 1331.2583\n",
      "Epoch 67/500\n",
      "28/28 [==============================] - 0s 6ms/step - loss: 382.9884 - val_loss: 1336.3982\n",
      "Epoch 68/500\n",
      "28/28 [==============================] - 0s 5ms/step - loss: 395.3035 - val_loss: 1393.2771\n",
      "Epoch 69/500\n",
      "28/28 [==============================] - 0s 5ms/step - loss: 381.7469 - val_loss: 1373.3754\n",
      "Epoch 70/500\n",
      "28/28 [==============================] - 0s 5ms/step - loss: 412.1075 - val_loss: 1377.6104\n",
      "Epoch 71/500\n",
      "28/28 [==============================] - 0s 5ms/step - loss: 384.1777 - val_loss: 1356.0292\n",
      "Epoch 72/500\n",
      "28/28 [==============================] - 0s 5ms/step - loss: 383.9947 - val_loss: 1339.0790\n",
      "Epoch 73/500\n",
      "28/28 [==============================] - 0s 5ms/step - loss: 384.8423 - val_loss: 1359.8252\n",
      "Epoch 74/500\n",
      "28/28 [==============================] - 0s 6ms/step - loss: 373.9705 - val_loss: 1346.6541\n",
      "Epoch 75/500\n",
      "28/28 [==============================] - 0s 7ms/step - loss: 369.0022 - val_loss: 1369.3705\n",
      "Epoch 76/500\n",
      "28/28 [==============================] - 0s 8ms/step - loss: 362.3457 - val_loss: 1385.8594\n",
      "Epoch 77/500\n",
      "28/28 [==============================] - 0s 8ms/step - loss: 332.1656 - val_loss: 1375.5897\n",
      "Epoch 78/500\n",
      "28/28 [==============================] - 0s 7ms/step - loss: 339.1712 - val_loss: 1435.0894\n",
      "Epoch 79/500\n",
      "28/28 [==============================] - 0s 5ms/step - loss: 335.4677 - val_loss: 1438.6250\n",
      "Epoch 80/500\n",
      "28/28 [==============================] - 0s 11ms/step - loss: 333.5420 - val_loss: 1441.3032\n",
      "Epoch 81/500\n",
      "28/28 [==============================] - 0s 8ms/step - loss: 331.1590 - val_loss: 1444.8645\n",
      "Epoch 82/500\n",
      "28/28 [==============================] - 0s 6ms/step - loss: 328.1048 - val_loss: 1449.1219\n",
      "Epoch 83/500\n",
      "28/28 [==============================] - 0s 5ms/step - loss: 326.1294 - val_loss: 1432.1813\n",
      "Epoch 84/500\n",
      "28/28 [==============================] - 0s 5ms/step - loss: 314.5077 - val_loss: 1395.4905\n",
      "Epoch 85/500\n",
      "28/28 [==============================] - 0s 5ms/step - loss: 339.2970 - val_loss: 1400.1121\n",
      "Epoch 86/500\n",
      "28/28 [==============================] - 0s 5ms/step - loss: 336.6613 - val_loss: 1406.5363\n",
      "Epoch 87/500\n",
      "28/28 [==============================] - 0s 5ms/step - loss: 333.9436 - val_loss: 1413.1322\n",
      "Epoch 88/500\n",
      "28/28 [==============================] - 0s 5ms/step - loss: 331.6399 - val_loss: 1420.7144\n",
      "Epoch 89/500\n",
      "28/28 [==============================] - 0s 5ms/step - loss: 329.6179 - val_loss: 1426.8455\n",
      "Epoch 90/500\n",
      "28/28 [==============================] - 0s 5ms/step - loss: 327.6541 - val_loss: 1434.3665\n",
      "Epoch 91/500\n",
      "28/28 [==============================] - 0s 5ms/step - loss: 325.9408 - val_loss: 1439.4700\n",
      "Epoch 92/500\n",
      "28/28 [==============================] - 0s 5ms/step - loss: 324.1621 - val_loss: 1444.2167\n",
      "Epoch 93/500\n",
      "28/28 [==============================] - 0s 5ms/step - loss: 322.4474 - val_loss: 1448.1466\n",
      "Epoch 94/500\n",
      "28/28 [==============================] - 0s 5ms/step - loss: 321.1106 - val_loss: 1452.2954\n",
      "Epoch 95/500\n",
      "28/28 [==============================] - 0s 5ms/step - loss: 319.5780 - val_loss: 1450.7772\n",
      "Epoch 96/500\n",
      "28/28 [==============================] - 0s 5ms/step - loss: 320.3690 - val_loss: 1466.7456\n",
      "Epoch 97/500\n",
      "28/28 [==============================] - 0s 6ms/step - loss: 318.0318 - val_loss: 1469.8551\n",
      "Epoch 98/500\n",
      "28/28 [==============================] - 0s 5ms/step - loss: 317.1132 - val_loss: 1472.9202\n",
      "Epoch 99/500\n",
      "28/28 [==============================] - 0s 5ms/step - loss: 315.5987 - val_loss: 1471.5352\n",
      "Epoch 100/500\n",
      "28/28 [==============================] - 0s 5ms/step - loss: 315.1263 - val_loss: 1477.9824\n",
      "Epoch 101/500\n",
      "28/28 [==============================] - 0s 5ms/step - loss: 313.9368 - val_loss: 1473.4095\n",
      "Epoch 102/500\n",
      "28/28 [==============================] - 0s 4ms/step - loss: 323.4198 - val_loss: 1520.6144\n",
      "Epoch 103/500\n",
      "28/28 [==============================] - 0s 5ms/step - loss: 346.0069 - val_loss: 1604.6400\n",
      "Epoch 104/500\n",
      "28/28 [==============================] - 0s 5ms/step - loss: 334.7157 - val_loss: 1556.9805\n",
      "Epoch 105/500\n",
      "28/28 [==============================] - 0s 6ms/step - loss: 338.8164 - val_loss: 1539.7889\n",
      "Epoch 106/500\n",
      "28/28 [==============================] - 0s 7ms/step - loss: 333.1294 - val_loss: 1531.6360\n",
      "Epoch 107/500\n",
      "28/28 [==============================] - 0s 6ms/step - loss: 331.4505 - val_loss: 1526.0072\n",
      "Epoch 108/500\n",
      "28/28 [==============================] - 0s 5ms/step - loss: 330.2127 - val_loss: 1525.3292\n",
      "Epoch 109/500\n",
      "28/28 [==============================] - 0s 6ms/step - loss: 333.1765 - val_loss: 1545.2548\n",
      "Epoch 110/500\n",
      "28/28 [==============================] - 0s 5ms/step - loss: 336.7045 - val_loss: 1560.1034\n",
      "Epoch 111/500\n",
      "28/28 [==============================] - 0s 5ms/step - loss: 328.1950 - val_loss: 1532.7224\n",
      "Epoch 112/500\n",
      "28/28 [==============================] - 0s 5ms/step - loss: 333.8439 - val_loss: 1570.5562\n",
      "Epoch 113/500\n",
      "28/28 [==============================] - 0s 5ms/step - loss: 332.6664 - val_loss: 1570.4796\n",
      "Epoch 114/500\n",
      "28/28 [==============================] - 0s 5ms/step - loss: 330.1666 - val_loss: 1553.8767\n",
      "Epoch 115/500\n",
      "28/28 [==============================] - 0s 5ms/step - loss: 325.0590 - val_loss: 1540.9059\n",
      "Epoch 116/500\n",
      "28/28 [==============================] - 0s 5ms/step - loss: 323.0472 - val_loss: 1535.2264\n",
      "Epoch 117/500\n",
      "28/28 [==============================] - 0s 5ms/step - loss: 322.4201 - val_loss: 1532.8315\n",
      "Epoch 118/500\n",
      "28/28 [==============================] - 0s 6ms/step - loss: 322.6503 - val_loss: 1542.8645\n",
      "Epoch 119/500\n",
      "28/28 [==============================] - 0s 9ms/step - loss: 320.9455 - val_loss: 1538.7571\n",
      "Epoch 120/500\n",
      "28/28 [==============================] - 0s 7ms/step - loss: 320.2663 - val_loss: 1538.3406\n",
      "Epoch 121/500\n",
      "28/28 [==============================] - 0s 6ms/step - loss: 319.6228 - val_loss: 1537.8954\n",
      "Epoch 122/500\n",
      "28/28 [==============================] - 0s 6ms/step - loss: 318.9434 - val_loss: 1537.6469\n",
      "Epoch 123/500\n",
      "28/28 [==============================] - 0s 5ms/step - loss: 318.2978 - val_loss: 1537.0479\n",
      "Epoch 124/500\n",
      "28/28 [==============================] - 0s 5ms/step - loss: 317.6495 - val_loss: 1535.8815\n",
      "Epoch 125/500\n",
      "28/28 [==============================] - 0s 4ms/step - loss: 317.0092 - val_loss: 1534.6691\n",
      "Epoch 126/500\n",
      "28/28 [==============================] - 0s 5ms/step - loss: 316.1602 - val_loss: 1528.3156\n",
      "Epoch 127/500\n",
      "28/28 [==============================] - 0s 5ms/step - loss: 311.5125 - val_loss: 1513.9131\n",
      "Epoch 128/500\n",
      "28/28 [==============================] - 0s 5ms/step - loss: 308.4989 - val_loss: 1503.5753\n",
      "Epoch 129/500\n",
      "28/28 [==============================] - 0s 5ms/step - loss: 306.0634 - val_loss: 1495.0291\n",
      "Epoch 130/500\n",
      "28/28 [==============================] - 0s 8ms/step - loss: 305.0482 - val_loss: 1487.6837\n",
      "Epoch 131/500\n",
      "28/28 [==============================] - 0s 5ms/step - loss: 304.3671 - val_loss: 1488.3851\n",
      "Epoch 132/500\n",
      "28/28 [==============================] - 0s 5ms/step - loss: 303.2960 - val_loss: 1484.7827\n",
      "Epoch 133/500\n",
      "28/28 [==============================] - 0s 5ms/step - loss: 302.9941 - val_loss: 1490.6500\n",
      "Epoch 134/500\n",
      "28/28 [==============================] - 0s 5ms/step - loss: 302.2971 - val_loss: 1490.4689\n",
      "Epoch 135/500\n",
      "28/28 [==============================] - 0s 5ms/step - loss: 301.6543 - val_loss: 1487.7802\n",
      "Epoch 136/500\n",
      "28/28 [==============================] - 0s 5ms/step - loss: 300.9792 - val_loss: 1487.2314\n",
      "Epoch 137/500\n",
      "28/28 [==============================] - 0s 5ms/step - loss: 300.3319 - val_loss: 1485.2737\n",
      "Epoch 138/500\n",
      "28/28 [==============================] - 0s 5ms/step - loss: 299.6745 - val_loss: 1478.0988\n",
      "Epoch 139/500\n",
      "28/28 [==============================] - 0s 5ms/step - loss: 312.7961 - val_loss: 1472.5935\n",
      "Epoch 140/500\n",
      "28/28 [==============================] - 0s 5ms/step - loss: 311.6303 - val_loss: 1472.6281\n",
      "Epoch 141/500\n",
      "28/28 [==============================] - 0s 5ms/step - loss: 310.7078 - val_loss: 1474.6770\n",
      "Epoch 142/500\n",
      "28/28 [==============================] - 0s 5ms/step - loss: 309.7069 - val_loss: 1478.2227\n",
      "Epoch 143/500\n",
      "28/28 [==============================] - 0s 5ms/step - loss: 308.8165 - val_loss: 1480.7122\n",
      "Epoch 144/500\n",
      "28/28 [==============================] - 0s 5ms/step - loss: 307.8789 - val_loss: 1480.2782\n",
      "Epoch 145/500\n",
      "28/28 [==============================] - 0s 5ms/step - loss: 319.2750 - val_loss: 1534.3909\n",
      "Epoch 146/500\n",
      "28/28 [==============================] - 0s 5ms/step - loss: 318.0081 - val_loss: 1535.9266\n",
      "Epoch 147/500\n",
      "28/28 [==============================] - 0s 5ms/step - loss: 317.3107 - val_loss: 1536.5945\n",
      "Epoch 148/500\n",
      "28/28 [==============================] - 0s 5ms/step - loss: 316.6089 - val_loss: 1536.1569\n",
      "Epoch 149/500\n",
      "28/28 [==============================] - 0s 5ms/step - loss: 317.5907 - val_loss: 1545.3938\n",
      "Epoch 150/500\n",
      "28/28 [==============================] - 0s 5ms/step - loss: 315.3892 - val_loss: 1541.9198\n",
      "Epoch 151/500\n",
      "28/28 [==============================] - 0s 7ms/step - loss: 314.7448 - val_loss: 1541.7462\n",
      "Epoch 152/500\n",
      "28/28 [==============================] - 0s 5ms/step - loss: 314.1097 - val_loss: 1541.0334\n",
      "Epoch 153/500\n",
      "28/28 [==============================] - 0s 5ms/step - loss: 313.5520 - val_loss: 1535.1884\n",
      "Epoch 154/500\n",
      "28/28 [==============================] - 0s 5ms/step - loss: 329.0394 - val_loss: 1533.8370\n",
      "Epoch 155/500\n",
      "28/28 [==============================] - 0s 5ms/step - loss: 321.0407 - val_loss: 1478.8058\n",
      "Epoch 156/500\n",
      "28/28 [==============================] - 0s 5ms/step - loss: 340.7038 - val_loss: 1484.8636\n",
      "Epoch 157/500\n",
      "28/28 [==============================] - 0s 5ms/step - loss: 331.9332 - val_loss: 1541.2932\n",
      "Epoch 158/500\n",
      "28/28 [==============================] - 0s 12ms/step - loss: 324.3672 - val_loss: 1524.4802\n",
      "Epoch 159/500\n",
      "28/28 [==============================] - 0s 6ms/step - loss: 346.2189 - val_loss: 1622.4731\n",
      "Epoch 160/500\n",
      "28/28 [==============================] - 0s 6ms/step - loss: 344.1845 - val_loss: 1614.1351\n",
      "Epoch 161/500\n",
      "28/28 [==============================] - 0s 5ms/step - loss: 339.5415 - val_loss: 1593.5118\n",
      "Epoch 162/500\n",
      "28/28 [==============================] - 0s 5ms/step - loss: 333.4876 - val_loss: 1575.9607\n",
      "Epoch 163/500\n",
      "28/28 [==============================] - 0s 5ms/step - loss: 324.8911 - val_loss: 1548.1857\n",
      "Epoch 164/500\n",
      "28/28 [==============================] - 0s 5ms/step - loss: 322.7257 - val_loss: 1540.8215\n",
      "Epoch 165/500\n",
      "28/28 [==============================] - 0s 5ms/step - loss: 320.9385 - val_loss: 1537.4867\n",
      "Epoch 166/500\n",
      "28/28 [==============================] - 0s 5ms/step - loss: 319.9374 - val_loss: 1530.1873\n",
      "Epoch 167/500\n",
      "28/28 [==============================] - 0s 5ms/step - loss: 326.9330 - val_loss: 1565.3837\n",
      "Epoch 168/500\n",
      "28/28 [==============================] - 0s 5ms/step - loss: 318.0229 - val_loss: 1548.2949\n",
      "Epoch 169/500\n",
      "28/28 [==============================] - 0s 5ms/step - loss: 313.5472 - val_loss: 1524.4308\n",
      "Epoch 170/500\n",
      "28/28 [==============================] - 0s 6ms/step - loss: 326.4897 - val_loss: 1514.2865\n",
      "Epoch 171/500\n",
      "28/28 [==============================] - 0s 6ms/step - loss: 325.3083 - val_loss: 1512.6998\n",
      "Epoch 172/500\n",
      "28/28 [==============================] - 0s 5ms/step - loss: 320.3234 - val_loss: 1502.4247\n",
      "Epoch 173/500\n",
      "28/28 [==============================] - 0s 5ms/step - loss: 318.3214 - val_loss: 1497.3544\n",
      "Epoch 174/500\n",
      "28/28 [==============================] - 0s 5ms/step - loss: 314.9316 - val_loss: 1495.9596\n",
      "Epoch 175/500\n",
      "28/28 [==============================] - 0s 5ms/step - loss: 313.7950 - val_loss: 1497.6344\n",
      "Epoch 176/500\n",
      "28/28 [==============================] - 0s 5ms/step - loss: 312.4723 - val_loss: 1502.7788\n",
      "Epoch 177/500\n",
      "28/28 [==============================] - 0s 5ms/step - loss: 311.9363 - val_loss: 1509.5300\n",
      "Epoch 178/500\n",
      "28/28 [==============================] - 0s 6ms/step - loss: 310.8171 - val_loss: 1518.4446\n",
      "Epoch 179/500\n",
      "28/28 [==============================] - 0s 5ms/step - loss: 310.4480 - val_loss: 1514.7500\n",
      "Epoch 180/500\n",
      "28/28 [==============================] - 0s 5ms/step - loss: 307.7039 - val_loss: 1487.1052\n",
      "Epoch 181/500\n",
      "28/28 [==============================] - 0s 5ms/step - loss: 369.9865 - val_loss: 1491.4718\n",
      "Epoch 182/500\n",
      "28/28 [==============================] - 0s 5ms/step - loss: 379.5536 - val_loss: 1625.3544\n",
      "Epoch 183/500\n",
      "28/28 [==============================] - 0s 5ms/step - loss: 358.0880 - val_loss: 1621.4569\n",
      "Epoch 184/500\n",
      "28/28 [==============================] - 0s 5ms/step - loss: 363.2901 - val_loss: 1703.9655\n",
      "Epoch 185/500\n",
      "28/28 [==============================] - 0s 5ms/step - loss: 325.1466 - val_loss: 1646.2675\n",
      "Epoch 186/500\n",
      "28/28 [==============================] - 0s 5ms/step - loss: 326.2207 - val_loss: 1690.6681\n",
      "Epoch 187/500\n",
      "28/28 [==============================] - 0s 5ms/step - loss: 334.4035 - val_loss: 1655.5524\n",
      "Epoch 188/500\n",
      "28/28 [==============================] - 0s 5ms/step - loss: 325.0117 - val_loss: 1604.2423\n",
      "Epoch 189/500\n",
      "28/28 [==============================] - 0s 5ms/step - loss: 326.4305 - val_loss: 1591.0785\n",
      "Epoch 190/500\n",
      "28/28 [==============================] - 0s 5ms/step - loss: 315.9704 - val_loss: 1546.2974\n",
      "Epoch 191/500\n",
      "28/28 [==============================] - 0s 13ms/step - loss: 376.6068 - val_loss: 1553.1495\n",
      "Epoch 192/500\n",
      "28/28 [==============================] - 0s 6ms/step - loss: 373.0573 - val_loss: 1572.7125\n",
      "Epoch 193/500\n",
      "28/28 [==============================] - 0s 5ms/step - loss: 369.8242 - val_loss: 1589.7657\n",
      "Epoch 194/500\n",
      "28/28 [==============================] - 0s 5ms/step - loss: 367.4037 - val_loss: 1602.7815\n",
      "Epoch 195/500\n",
      "28/28 [==============================] - 0s 5ms/step - loss: 365.1945 - val_loss: 1615.5605\n",
      "Epoch 196/500\n",
      "28/28 [==============================] - 0s 5ms/step - loss: 363.5420 - val_loss: 1624.9545\n",
      "Epoch 197/500\n",
      "28/28 [==============================] - 0s 5ms/step - loss: 362.0401 - val_loss: 1632.1465\n",
      "Epoch 198/500\n",
      "28/28 [==============================] - 0s 5ms/step - loss: 360.3319 - val_loss: 1635.5168\n",
      "Epoch 199/500\n",
      "28/28 [==============================] - 0s 5ms/step - loss: 357.6352 - val_loss: 1637.2297\n",
      "Epoch 200/500\n",
      "28/28 [==============================] - 0s 5ms/step - loss: 356.5989 - val_loss: 1644.5808\n",
      "Epoch 201/500\n",
      "28/28 [==============================] - 0s 5ms/step - loss: 355.4272 - val_loss: 1646.6368\n",
      "Epoch 202/500\n",
      "28/28 [==============================] - 0s 6ms/step - loss: 344.5312 - val_loss: 1590.2241\n",
      "Epoch 203/500\n",
      "28/28 [==============================] - 0s 5ms/step - loss: 357.8381 - val_loss: 1598.7109\n",
      "Epoch 204/500\n",
      "28/28 [==============================] - 0s 5ms/step - loss: 356.1287 - val_loss: 1602.5857\n",
      "Epoch 205/500\n",
      "28/28 [==============================] - 0s 5ms/step - loss: 354.5757 - val_loss: 1611.5946\n",
      "Epoch 206/500\n",
      "28/28 [==============================] - 0s 5ms/step - loss: 352.4742 - val_loss: 1598.0260\n",
      "Epoch 207/500\n",
      "28/28 [==============================] - 0s 5ms/step - loss: 360.1957 - val_loss: 1645.5879\n",
      "Epoch 208/500\n",
      "28/28 [==============================] - 0s 5ms/step - loss: 357.1207 - val_loss: 1650.3875\n",
      "Epoch 209/500\n",
      "28/28 [==============================] - 0s 5ms/step - loss: 352.0708 - val_loss: 1638.6499\n",
      "Epoch 210/500\n",
      "28/28 [==============================] - 0s 5ms/step - loss: 349.8873 - val_loss: 1625.0601\n",
      "Epoch 211/500\n",
      "28/28 [==============================] - 0s 5ms/step - loss: 348.7091 - val_loss: 1574.8937\n",
      "Epoch 212/500\n",
      "28/28 [==============================] - 0s 5ms/step - loss: 349.1055 - val_loss: 1580.2303\n",
      "Epoch 213/500\n",
      "28/28 [==============================] - 0s 6ms/step - loss: 346.8517 - val_loss: 1585.2773\n",
      "Epoch 214/500\n",
      "28/28 [==============================] - 0s 6ms/step - loss: 345.6150 - val_loss: 1592.0034\n",
      "Epoch 215/500\n",
      "28/28 [==============================] - 0s 6ms/step - loss: 344.6223 - val_loss: 1594.3542\n",
      "Epoch 216/500\n",
      "28/28 [==============================] - 0s 6ms/step - loss: 343.4546 - val_loss: 1598.8146\n",
      "Epoch 217/500\n",
      "28/28 [==============================] - 0s 7ms/step - loss: 363.4968 - val_loss: 1590.9888\n",
      "Epoch 218/500\n",
      "28/28 [==============================] - 0s 6ms/step - loss: 360.0702 - val_loss: 1587.7051\n",
      "Epoch 219/500\n",
      "28/28 [==============================] - 0s 6ms/step - loss: 355.1742 - val_loss: 1603.9905\n",
      "Epoch 220/500\n",
      "28/28 [==============================] - 0s 6ms/step - loss: 338.6173 - val_loss: 1576.0878\n",
      "Epoch 221/500\n",
      "28/28 [==============================] - 0s 5ms/step - loss: 341.1980 - val_loss: 1564.5914\n",
      "Epoch 222/500\n",
      "28/28 [==============================] - 0s 5ms/step - loss: 338.2082 - val_loss: 1546.0558\n",
      "Epoch 223/500\n",
      "28/28 [==============================] - 0s 5ms/step - loss: 337.6021 - val_loss: 1560.9907\n",
      "Epoch 224/500\n",
      "28/28 [==============================] - 0s 15ms/step - loss: 330.6787 - val_loss: 1553.4152\n",
      "Epoch 225/500\n",
      "28/28 [==============================] - 0s 6ms/step - loss: 327.5092 - val_loss: 1539.7965\n",
      "Epoch 226/500\n",
      "28/28 [==============================] - 0s 5ms/step - loss: 322.3108 - val_loss: 1514.0967\n",
      "Epoch 227/500\n",
      "28/28 [==============================] - 0s 5ms/step - loss: 321.0353 - val_loss: 1517.9020\n",
      "Epoch 228/500\n",
      "28/28 [==============================] - 0s 5ms/step - loss: 320.3784 - val_loss: 1526.2386\n",
      "Epoch 229/500\n",
      "28/28 [==============================] - 0s 5ms/step - loss: 318.8226 - val_loss: 1519.0562\n",
      "Epoch 230/500\n",
      "28/28 [==============================] - 0s 5ms/step - loss: 316.9934 - val_loss: 1516.1200\n",
      "Epoch 231/500\n",
      "28/28 [==============================] - 0s 4ms/step - loss: 316.2263 - val_loss: 1517.1532\n",
      "Epoch 232/500\n",
      "28/28 [==============================] - 0s 5ms/step - loss: 315.5026 - val_loss: 1520.0948\n",
      "Epoch 233/500\n",
      "28/28 [==============================] - 0s 5ms/step - loss: 314.6023 - val_loss: 1522.4778\n",
      "Epoch 234/500\n",
      "28/28 [==============================] - 0s 5ms/step - loss: 314.0728 - val_loss: 1517.7369\n",
      "Epoch 235/500\n",
      "28/28 [==============================] - 0s 5ms/step - loss: 313.4035 - val_loss: 1526.3706\n",
      "Epoch 236/500\n",
      "28/28 [==============================] - 0s 5ms/step - loss: 312.6718 - val_loss: 1525.2332\n",
      "Epoch 237/500\n",
      "28/28 [==============================] - 0s 5ms/step - loss: 311.9186 - val_loss: 1514.2952\n",
      "Epoch 238/500\n",
      "28/28 [==============================] - 0s 5ms/step - loss: 292.6864 - val_loss: 1409.1014\n",
      "Epoch 239/500\n",
      "28/28 [==============================] - 0s 5ms/step - loss: 317.5155 - val_loss: 1414.2037\n",
      "Epoch 240/500\n",
      "28/28 [==============================] - 0s 5ms/step - loss: 315.9341 - val_loss: 1422.7896\n",
      "Epoch 241/500\n",
      "28/28 [==============================] - 0s 5ms/step - loss: 313.7192 - val_loss: 1434.2042\n",
      "Epoch 242/500\n",
      "28/28 [==============================] - 0s 5ms/step - loss: 312.2320 - val_loss: 1440.7317\n",
      "Epoch 243/500\n",
      "28/28 [==============================] - 0s 5ms/step - loss: 311.5769 - val_loss: 1440.4695\n",
      "Epoch 244/500\n",
      "28/28 [==============================] - 0s 5ms/step - loss: 310.3853 - val_loss: 1448.4198\n",
      "Epoch 245/500\n",
      "28/28 [==============================] - 0s 5ms/step - loss: 309.1252 - val_loss: 1452.2673\n",
      "Epoch 246/500\n",
      "28/28 [==============================] - 0s 5ms/step - loss: 308.0608 - val_loss: 1456.9242\n",
      "Epoch 247/500\n",
      "28/28 [==============================] - 0s 5ms/step - loss: 306.2013 - val_loss: 1462.3286\n",
      "Epoch 248/500\n",
      "28/28 [==============================] - 0s 5ms/step - loss: 301.1617 - val_loss: 1466.0088\n",
      "Epoch 249/500\n",
      "28/28 [==============================] - 0s 5ms/step - loss: 299.2279 - val_loss: 1465.1444\n",
      "Epoch 250/500\n",
      "28/28 [==============================] - 0s 5ms/step - loss: 298.2745 - val_loss: 1467.2222\n",
      "Epoch 251/500\n",
      "28/28 [==============================] - 0s 5ms/step - loss: 297.5849 - val_loss: 1465.3474\n",
      "Epoch 252/500\n",
      "28/28 [==============================] - 0s 5ms/step - loss: 296.7607 - val_loss: 1467.6855\n",
      "Epoch 253/500\n",
      "28/28 [==============================] - 0s 5ms/step - loss: 296.1003 - val_loss: 1473.4347\n",
      "Epoch 254/500\n",
      "28/28 [==============================] - 0s 5ms/step - loss: 295.6714 - val_loss: 1473.0996\n",
      "Epoch 255/500\n",
      "28/28 [==============================] - 0s 5ms/step - loss: 294.6446 - val_loss: 1467.7705\n",
      "Epoch 256/500\n",
      "28/28 [==============================] - 0s 5ms/step - loss: 293.9441 - val_loss: 1469.0983\n",
      "Epoch 257/500\n",
      "28/28 [==============================] - 0s 7ms/step - loss: 293.3045 - val_loss: 1470.5409\n",
      "Epoch 258/500\n",
      "28/28 [==============================] - 0s 8ms/step - loss: 292.7045 - val_loss: 1470.9990\n",
      "Epoch 259/500\n",
      "28/28 [==============================] - 0s 7ms/step - loss: 292.5863 - val_loss: 1475.8553\n",
      "Epoch 260/500\n",
      "28/28 [==============================] - 0s 6ms/step - loss: 292.5128 - val_loss: 1477.7483\n",
      "Epoch 261/500\n",
      "28/28 [==============================] - 0s 5ms/step - loss: 292.1136 - val_loss: 1468.2241\n",
      "Epoch 262/500\n",
      "28/28 [==============================] - 0s 5ms/step - loss: 343.5172 - val_loss: 1481.5427\n",
      "Epoch 263/500\n",
      "28/28 [==============================] - 0s 5ms/step - loss: 341.5508 - val_loss: 1493.2992\n",
      "Epoch 264/500\n",
      "28/28 [==============================] - 0s 5ms/step - loss: 338.5890 - val_loss: 1499.1224\n",
      "Epoch 265/500\n",
      "28/28 [==============================] - 0s 6ms/step - loss: 336.8972 - val_loss: 1507.2745\n",
      "Epoch 266/500\n",
      "28/28 [==============================] - 0s 6ms/step - loss: 319.0720 - val_loss: 1419.4161\n",
      "Epoch 267/500\n",
      "28/28 [==============================] - 0s 6ms/step - loss: 327.6548 - val_loss: 1427.9028\n",
      "Epoch 268/500\n",
      "28/28 [==============================] - 0s 5ms/step - loss: 322.9288 - val_loss: 1430.8621\n",
      "Epoch 269/500\n",
      "28/28 [==============================] - 0s 6ms/step - loss: 317.9180 - val_loss: 1434.6034\n",
      "Epoch 270/500\n",
      "28/28 [==============================] - 0s 6ms/step - loss: 316.1224 - val_loss: 1445.9877\n",
      "Epoch 271/500\n",
      "28/28 [==============================] - 0s 5ms/step - loss: 314.8885 - val_loss: 1451.9872\n",
      "Epoch 272/500\n",
      "28/28 [==============================] - 0s 5ms/step - loss: 313.5118 - val_loss: 1460.9673\n",
      "Epoch 273/500\n",
      "28/28 [==============================] - 0s 5ms/step - loss: 312.4951 - val_loss: 1472.3583\n",
      "Epoch 274/500\n",
      "28/28 [==============================] - 0s 5ms/step - loss: 310.3117 - val_loss: 1478.7429\n",
      "Epoch 275/500\n",
      "28/28 [==============================] - 0s 5ms/step - loss: 298.4289 - val_loss: 1480.6906\n",
      "Epoch 276/500\n",
      "28/28 [==============================] - 0s 5ms/step - loss: 301.0795 - val_loss: 1508.1942\n",
      "Epoch 277/500\n",
      "28/28 [==============================] - 0s 5ms/step - loss: 298.5283 - val_loss: 1494.1110\n",
      "Epoch 278/500\n",
      "28/28 [==============================] - 0s 5ms/step - loss: 297.2654 - val_loss: 1483.1179\n",
      "Epoch 279/500\n",
      "28/28 [==============================] - 0s 5ms/step - loss: 294.2233 - val_loss: 1473.8600\n",
      "Epoch 280/500\n",
      "28/28 [==============================] - 0s 5ms/step - loss: 292.2199 - val_loss: 1468.2758\n",
      "Epoch 281/500\n",
      "28/28 [==============================] - 0s 5ms/step - loss: 308.0297 - val_loss: 1466.4907\n",
      "Epoch 282/500\n",
      "28/28 [==============================] - 0s 5ms/step - loss: 307.3282 - val_loss: 1473.3907\n",
      "Epoch 283/500\n",
      "28/28 [==============================] - 0s 4ms/step - loss: 306.5417 - val_loss: 1479.1156\n",
      "Epoch 284/500\n",
      "28/28 [==============================] - 0s 5ms/step - loss: 305.7973 - val_loss: 1482.1337\n",
      "Epoch 285/500\n",
      "28/28 [==============================] - 0s 5ms/step - loss: 305.1578 - val_loss: 1485.0378\n",
      "Epoch 286/500\n",
      "28/28 [==============================] - 0s 8ms/step - loss: 304.5501 - val_loss: 1487.9337\n",
      "Epoch 287/500\n",
      "28/28 [==============================] - 0s 8ms/step - loss: 304.0095 - val_loss: 1489.3121\n",
      "Epoch 288/500\n",
      "28/28 [==============================] - 0s 6ms/step - loss: 303.4631 - val_loss: 1491.4973\n",
      "Epoch 289/500\n",
      "28/28 [==============================] - 0s 5ms/step - loss: 303.0128 - val_loss: 1491.7020\n",
      "Epoch 290/500\n",
      "28/28 [==============================] - 0s 5ms/step - loss: 302.5499 - val_loss: 1493.0134\n",
      "Epoch 291/500\n",
      "28/28 [==============================] - 0s 5ms/step - loss: 302.0087 - val_loss: 1484.6411\n",
      "Epoch 292/500\n",
      "28/28 [==============================] - 0s 5ms/step - loss: 341.5368 - val_loss: 1490.3463\n",
      "Epoch 293/500\n",
      "28/28 [==============================] - 0s 5ms/step - loss: 340.0084 - val_loss: 1493.5796\n",
      "Epoch 294/500\n",
      "28/28 [==============================] - 0s 5ms/step - loss: 338.3016 - val_loss: 1518.1138\n",
      "Epoch 295/500\n",
      "28/28 [==============================] - 0s 5ms/step - loss: 336.0018 - val_loss: 1545.1902\n",
      "Epoch 296/500\n",
      "28/28 [==============================] - 0s 5ms/step - loss: 299.8799 - val_loss: 1529.6586\n",
      "Epoch 297/500\n",
      "28/28 [==============================] - 0s 5ms/step - loss: 301.2411 - val_loss: 1521.7194\n",
      "Epoch 298/500\n",
      "28/28 [==============================] - 0s 6ms/step - loss: 301.8216 - val_loss: 1514.5280\n",
      "Epoch 299/500\n",
      "28/28 [==============================] - 0s 5ms/step - loss: 324.2741 - val_loss: 1624.5049\n",
      "Epoch 300/500\n",
      "28/28 [==============================] - 0s 5ms/step - loss: 317.2792 - val_loss: 1578.7429\n",
      "Epoch 301/500\n",
      "28/28 [==============================] - 0s 5ms/step - loss: 311.3695 - val_loss: 1528.7192\n",
      "Epoch 302/500\n",
      "28/28 [==============================] - 0s 5ms/step - loss: 311.0818 - val_loss: 1503.7196\n",
      "Epoch 303/500\n",
      "28/28 [==============================] - 0s 5ms/step - loss: 310.1120 - val_loss: 1492.4908\n",
      "Epoch 304/500\n",
      "28/28 [==============================] - 0s 4ms/step - loss: 307.0445 - val_loss: 1476.9598\n",
      "Epoch 305/500\n",
      "28/28 [==============================] - 0s 5ms/step - loss: 302.0864 - val_loss: 1461.5591\n",
      "Epoch 306/500\n",
      "28/28 [==============================] - 0s 5ms/step - loss: 300.2075 - val_loss: 1455.4365\n",
      "Epoch 307/500\n",
      "28/28 [==============================] - 0s 4ms/step - loss: 298.6282 - val_loss: 1455.4611\n",
      "Epoch 308/500\n",
      "28/28 [==============================] - 0s 4ms/step - loss: 295.8457 - val_loss: 1443.0640\n",
      "Epoch 309/500\n",
      "28/28 [==============================] - 0s 5ms/step - loss: 295.6599 - val_loss: 1455.7628\n",
      "Epoch 310/500\n",
      "28/28 [==============================] - 0s 4ms/step - loss: 294.7576 - val_loss: 1458.5715\n",
      "Epoch 311/500\n",
      "28/28 [==============================] - 0s 5ms/step - loss: 294.2727 - val_loss: 1459.8263\n",
      "Epoch 312/500\n",
      "28/28 [==============================] - 0s 5ms/step - loss: 293.7897 - val_loss: 1461.5524\n",
      "Epoch 313/500\n",
      "28/28 [==============================] - 0s 5ms/step - loss: 293.3451 - val_loss: 1461.1903\n",
      "Epoch 314/500\n",
      "28/28 [==============================] - 0s 5ms/step - loss: 292.9229 - val_loss: 1462.1461\n",
      "Epoch 315/500\n",
      "28/28 [==============================] - 0s 5ms/step - loss: 292.4688 - val_loss: 1462.7758\n",
      "Epoch 316/500\n",
      "28/28 [==============================] - 0s 10ms/step - loss: 292.0228 - val_loss: 1462.8435\n",
      "Epoch 317/500\n",
      "28/28 [==============================] - 0s 6ms/step - loss: 291.5912 - val_loss: 1462.6984\n",
      "Epoch 318/500\n",
      "28/28 [==============================] - 0s 5ms/step - loss: 291.1615 - val_loss: 1462.4905\n",
      "Epoch 319/500\n",
      "28/28 [==============================] - 0s 5ms/step - loss: 290.7377 - val_loss: 1462.2621\n",
      "Epoch 320/500\n",
      "28/28 [==============================] - 0s 5ms/step - loss: 290.3245 - val_loss: 1461.7761\n",
      "Epoch 321/500\n",
      "28/28 [==============================] - 0s 5ms/step - loss: 289.9212 - val_loss: 1461.1332\n",
      "Epoch 322/500\n",
      "28/28 [==============================] - 0s 5ms/step - loss: 289.5224 - val_loss: 1460.3972\n",
      "Epoch 323/500\n",
      "28/28 [==============================] - 0s 5ms/step - loss: 289.1200 - val_loss: 1459.5330\n",
      "Epoch 324/500\n",
      "28/28 [==============================] - 0s 4ms/step - loss: 288.7230 - val_loss: 1458.6931\n",
      "Epoch 325/500\n",
      "28/28 [==============================] - 0s 4ms/step - loss: 288.3290 - val_loss: 1457.9629\n",
      "Epoch 326/500\n",
      "28/28 [==============================] - 0s 5ms/step - loss: 287.9288 - val_loss: 1457.6943\n",
      "Epoch 327/500\n",
      "28/28 [==============================] - 0s 5ms/step - loss: 287.6937 - val_loss: 1448.0040\n",
      "Epoch 328/500\n",
      "28/28 [==============================] - 0s 5ms/step - loss: 285.2422 - val_loss: 1439.1198\n",
      "Epoch 329/500\n",
      "28/28 [==============================] - 0s 5ms/step - loss: 282.0428 - val_loss: 1431.8815\n",
      "Epoch 330/500\n",
      "28/28 [==============================] - 0s 5ms/step - loss: 307.1225 - val_loss: 1438.9281\n",
      "Epoch 331/500\n",
      "28/28 [==============================] - 0s 5ms/step - loss: 305.9785 - val_loss: 1441.8771\n",
      "Epoch 332/500\n",
      "28/28 [==============================] - 0s 5ms/step - loss: 303.3394 - val_loss: 1443.6757\n",
      "Epoch 333/500\n",
      "28/28 [==============================] - 0s 5ms/step - loss: 302.6585 - val_loss: 1444.5067\n",
      "Epoch 334/500\n",
      "28/28 [==============================] - 0s 5ms/step - loss: 298.3357 - val_loss: 1434.1344\n",
      "Epoch 335/500\n",
      "28/28 [==============================] - 0s 5ms/step - loss: 297.2460 - val_loss: 1432.1819\n",
      "Epoch 336/500\n",
      "28/28 [==============================] - 0s 5ms/step - loss: 296.2530 - val_loss: 1415.0671\n",
      "Epoch 337/500\n",
      "28/28 [==============================] - 0s 5ms/step - loss: 294.8045 - val_loss: 1410.2079\n",
      "Epoch 338/500\n",
      "28/28 [==============================] - 0s 5ms/step - loss: 293.7755 - val_loss: 1415.6342\n",
      "Epoch 339/500\n",
      "28/28 [==============================] - 0s 7ms/step - loss: 292.9498 - val_loss: 1420.0054\n",
      "Epoch 340/500\n",
      "28/28 [==============================] - 0s 5ms/step - loss: 292.1964 - val_loss: 1423.9614\n",
      "Epoch 341/500\n",
      "28/28 [==============================] - 0s 5ms/step - loss: 291.6612 - val_loss: 1425.9857\n",
      "Epoch 342/500\n",
      "28/28 [==============================] - 0s 5ms/step - loss: 291.0727 - val_loss: 1426.7465\n",
      "Epoch 343/500\n",
      "28/28 [==============================] - 0s 5ms/step - loss: 290.5173 - val_loss: 1425.8118\n",
      "Epoch 344/500\n",
      "28/28 [==============================] - 0s 5ms/step - loss: 289.9150 - val_loss: 1431.9496\n",
      "Epoch 345/500\n",
      "28/28 [==============================] - 0s 5ms/step - loss: 289.4005 - val_loss: 1433.3372\n",
      "Epoch 346/500\n",
      "28/28 [==============================] - 0s 10ms/step - loss: 288.7996 - val_loss: 1428.3628\n",
      "Epoch 347/500\n",
      "28/28 [==============================] - 0s 6ms/step - loss: 279.0812 - val_loss: 1373.5463\n",
      "Epoch 348/500\n",
      "28/28 [==============================] - 0s 5ms/step - loss: 290.5115 - val_loss: 1379.6523\n",
      "Epoch 349/500\n",
      "28/28 [==============================] - 0s 5ms/step - loss: 289.6782 - val_loss: 1384.2372\n",
      "Epoch 350/500\n",
      "28/28 [==============================] - 0s 6ms/step - loss: 288.9800 - val_loss: 1388.4326\n",
      "Epoch 351/500\n",
      "28/28 [==============================] - 0s 6ms/step - loss: 288.1622 - val_loss: 1393.9471\n",
      "Epoch 352/500\n",
      "28/28 [==============================] - 0s 6ms/step - loss: 287.3928 - val_loss: 1398.3553\n",
      "Epoch 353/500\n",
      "28/28 [==============================] - 0s 9ms/step - loss: 286.6705 - val_loss: 1401.8357\n",
      "Epoch 354/500\n",
      "28/28 [==============================] - 0s 7ms/step - loss: 286.0311 - val_loss: 1404.9143\n",
      "Epoch 355/500\n",
      "28/28 [==============================] - 0s 5ms/step - loss: 285.4558 - val_loss: 1407.8042\n",
      "Epoch 356/500\n",
      "28/28 [==============================] - 0s 5ms/step - loss: 285.0026 - val_loss: 1409.3486\n",
      "Epoch 357/500\n",
      "28/28 [==============================] - 0s 5ms/step - loss: 284.5272 - val_loss: 1410.2911\n",
      "Epoch 358/500\n",
      "28/28 [==============================] - 0s 8ms/step - loss: 284.0675 - val_loss: 1411.6847\n",
      "Epoch 359/500\n",
      "28/28 [==============================] - 0s 7ms/step - loss: 283.5898 - val_loss: 1413.0804\n",
      "Epoch 360/500\n",
      "28/28 [==============================] - 0s 6ms/step - loss: 283.1417 - val_loss: 1413.8263\n",
      "Epoch 361/500\n",
      "28/28 [==============================] - 0s 5ms/step - loss: 282.6855 - val_loss: 1414.7843\n",
      "Epoch 362/500\n",
      "28/28 [==============================] - 0s 4ms/step - loss: 282.4150 - val_loss: 1413.8350\n",
      "Epoch 363/500\n",
      "28/28 [==============================] - 0s 5ms/step - loss: 282.0557 - val_loss: 1409.7954\n",
      "Epoch 364/500\n",
      "28/28 [==============================] - 0s 5ms/step - loss: 281.6878 - val_loss: 1410.5989\n",
      "Epoch 365/500\n",
      "28/28 [==============================] - 0s 5ms/step - loss: 281.2597 - val_loss: 1411.2258\n",
      "Epoch 366/500\n",
      "28/28 [==============================] - 0s 5ms/step - loss: 280.8473 - val_loss: 1411.5011\n",
      "Epoch 367/500\n",
      "28/28 [==============================] - 0s 5ms/step - loss: 280.4474 - val_loss: 1411.4686\n",
      "Epoch 368/500\n",
      "28/28 [==============================] - 0s 5ms/step - loss: 280.0566 - val_loss: 1411.2433\n",
      "Epoch 369/500\n",
      "28/28 [==============================] - 0s 5ms/step - loss: 279.6726 - val_loss: 1410.9769\n",
      "Epoch 370/500\n",
      "28/28 [==============================] - 0s 9ms/step - loss: 279.2910 - val_loss: 1410.5796\n",
      "Epoch 371/500\n",
      "28/28 [==============================] - 0s 7ms/step - loss: 278.9142 - val_loss: 1410.1019\n",
      "Epoch 372/500\n",
      "28/28 [==============================] - 0s 6ms/step - loss: 278.5389 - val_loss: 1409.4983\n",
      "Epoch 373/500\n",
      "28/28 [==============================] - 0s 6ms/step - loss: 278.1678 - val_loss: 1408.8163\n",
      "Epoch 374/500\n",
      "28/28 [==============================] - 0s 6ms/step - loss: 277.7986 - val_loss: 1408.0582\n",
      "Epoch 375/500\n",
      "28/28 [==============================] - 0s 6ms/step - loss: 277.4325 - val_loss: 1407.2236\n",
      "Epoch 376/500\n",
      "28/28 [==============================] - 0s 6ms/step - loss: 277.0683 - val_loss: 1406.3265\n",
      "Epoch 377/500\n",
      "28/28 [==============================] - 0s 5ms/step - loss: 276.7060 - val_loss: 1405.3601\n",
      "Epoch 378/500\n",
      "28/28 [==============================] - 0s 5ms/step - loss: 276.3453 - val_loss: 1404.3452\n",
      "Epoch 379/500\n",
      "28/28 [==============================] - 0s 5ms/step - loss: 275.9857 - val_loss: 1403.2695\n",
      "Epoch 380/500\n",
      "28/28 [==============================] - 0s 4ms/step - loss: 275.6274 - val_loss: 1402.1464\n",
      "Epoch 381/500\n",
      "28/28 [==============================] - 0s 5ms/step - loss: 275.2694 - val_loss: 1400.9658\n",
      "Epoch 382/500\n",
      "28/28 [==============================] - 0s 5ms/step - loss: 274.9102 - val_loss: 1399.7697\n",
      "Epoch 383/500\n",
      "28/28 [==============================] - 0s 5ms/step - loss: 274.5529 - val_loss: 1398.1462\n",
      "Epoch 384/500\n",
      "28/28 [==============================] - 0s 5ms/step - loss: 274.2105 - val_loss: 1399.0720\n",
      "Epoch 385/500\n",
      "28/28 [==============================] - 0s 5ms/step - loss: 273.1718 - val_loss: 1371.9698\n",
      "Epoch 386/500\n",
      "28/28 [==============================] - 0s 5ms/step - loss: 308.9884 - val_loss: 1360.1724\n",
      "Epoch 387/500\n",
      "28/28 [==============================] - 0s 5ms/step - loss: 301.1108 - val_loss: 1325.6271\n",
      "Epoch 388/500\n",
      "28/28 [==============================] - 0s 5ms/step - loss: 489.3771 - val_loss: 1327.9443\n",
      "Epoch 389/500\n",
      "28/28 [==============================] - 0s 5ms/step - loss: 452.3068 - val_loss: 1351.9244\n",
      "Epoch 390/500\n",
      "28/28 [==============================] - 0s 5ms/step - loss: 428.6893 - val_loss: 1428.6035\n",
      "Epoch 391/500\n",
      "28/28 [==============================] - 0s 5ms/step - loss: 420.7532 - val_loss: 1760.1545\n",
      "Epoch 392/500\n",
      "28/28 [==============================] - 0s 5ms/step - loss: 359.2403 - val_loss: 1772.2904\n",
      "Epoch 393/500\n",
      "28/28 [==============================] - 0s 6ms/step - loss: 352.7791 - val_loss: 1734.8105\n",
      "Epoch 394/500\n",
      "28/28 [==============================] - 0s 5ms/step - loss: 331.4655 - val_loss: 1633.8417\n",
      "Epoch 395/500\n",
      "28/28 [==============================] - 0s 9ms/step - loss: 317.6374 - val_loss: 1560.7395\n",
      "Epoch 396/500\n",
      "28/28 [==============================] - 0s 7ms/step - loss: 315.7131 - val_loss: 1552.6875\n",
      "Epoch 397/500\n",
      "28/28 [==============================] - 0s 6ms/step - loss: 310.1329 - val_loss: 1545.8402\n",
      "Epoch 398/500\n",
      "28/28 [==============================] - 0s 5ms/step - loss: 298.2239 - val_loss: 1478.9159\n",
      "Epoch 399/500\n",
      "28/28 [==============================] - 0s 5ms/step - loss: 288.6272 - val_loss: 1415.3984\n",
      "Epoch 400/500\n",
      "28/28 [==============================] - 0s 5ms/step - loss: 288.6795 - val_loss: 1416.4550\n",
      "Epoch 401/500\n",
      "28/28 [==============================] - 0s 5ms/step - loss: 288.0596 - val_loss: 1418.4022\n",
      "Epoch 402/500\n",
      "28/28 [==============================] - 0s 5ms/step - loss: 287.7963 - val_loss: 1416.4681\n",
      "Epoch 403/500\n",
      "28/28 [==============================] - 0s 5ms/step - loss: 287.9841 - val_loss: 1418.6198\n",
      "Epoch 404/500\n",
      "28/28 [==============================] - 0s 5ms/step - loss: 290.6654 - val_loss: 1426.2166\n",
      "Epoch 405/500\n",
      "28/28 [==============================] - 0s 5ms/step - loss: 290.4384 - val_loss: 1430.9121\n",
      "Epoch 406/500\n",
      "28/28 [==============================] - 0s 5ms/step - loss: 290.0236 - val_loss: 1429.2501\n",
      "Epoch 407/500\n",
      "28/28 [==============================] - 0s 5ms/step - loss: 289.5231 - val_loss: 1427.6321\n",
      "Epoch 408/500\n",
      "28/28 [==============================] - 0s 5ms/step - loss: 289.1682 - val_loss: 1426.1978\n",
      "Epoch 409/500\n",
      "28/28 [==============================] - 0s 5ms/step - loss: 288.6260 - val_loss: 1429.7461\n",
      "Epoch 410/500\n",
      "28/28 [==============================] - 0s 5ms/step - loss: 288.7558 - val_loss: 1419.1007\n",
      "Epoch 411/500\n",
      "28/28 [==============================] - 0s 5ms/step - loss: 284.4539 - val_loss: 1398.4675\n",
      "Epoch 412/500\n",
      "28/28 [==============================] - 0s 5ms/step - loss: 284.1002 - val_loss: 1398.3080\n",
      "Epoch 413/500\n",
      "28/28 [==============================] - 0s 5ms/step - loss: 283.7397 - val_loss: 1401.2373\n",
      "Epoch 414/500\n",
      "28/28 [==============================] - 0s 5ms/step - loss: 283.3049 - val_loss: 1403.1335\n",
      "Epoch 415/500\n",
      "28/28 [==============================] - 0s 4ms/step - loss: 282.9735 - val_loss: 1401.8516\n",
      "Epoch 416/500\n",
      "28/28 [==============================] - 0s 4ms/step - loss: 282.7645 - val_loss: 1391.4449\n",
      "Epoch 417/500\n",
      "28/28 [==============================] - 0s 5ms/step - loss: 281.9102 - val_loss: 1390.7610\n",
      "Epoch 418/500\n",
      "28/28 [==============================] - 0s 5ms/step - loss: 283.7853 - val_loss: 1410.1332\n",
      "Epoch 419/500\n",
      "28/28 [==============================] - 0s 5ms/step - loss: 285.2124 - val_loss: 1412.2173\n",
      "Epoch 420/500\n",
      "28/28 [==============================] - 0s 5ms/step - loss: 284.8212 - val_loss: 1409.8340\n",
      "Epoch 421/500\n",
      "28/28 [==============================] - 0s 10ms/step - loss: 284.2707 - val_loss: 1407.0363\n",
      "Epoch 422/500\n",
      "28/28 [==============================] - 0s 5ms/step - loss: 279.4216 - val_loss: 1377.8566\n",
      "Epoch 423/500\n",
      "28/28 [==============================] - 0s 5ms/step - loss: 281.6274 - val_loss: 1388.5319\n",
      "Epoch 424/500\n",
      "28/28 [==============================] - 0s 5ms/step - loss: 277.3344 - val_loss: 1377.4878\n",
      "Epoch 425/500\n",
      "28/28 [==============================] - 0s 5ms/step - loss: 276.9193 - val_loss: 1376.5510\n",
      "Epoch 426/500\n",
      "28/28 [==============================] - 0s 5ms/step - loss: 276.5912 - val_loss: 1374.9014\n",
      "Epoch 427/500\n",
      "28/28 [==============================] - 0s 5ms/step - loss: 277.3794 - val_loss: 1379.9335\n",
      "Epoch 428/500\n",
      "28/28 [==============================] - 0s 5ms/step - loss: 275.8683 - val_loss: 1378.6863\n",
      "Epoch 429/500\n",
      "28/28 [==============================] - 0s 5ms/step - loss: 275.7128 - val_loss: 1377.6622\n",
      "Epoch 430/500\n",
      "28/28 [==============================] - 0s 5ms/step - loss: 275.3654 - val_loss: 1376.2538\n",
      "Epoch 431/500\n",
      "28/28 [==============================] - 0s 5ms/step - loss: 275.0074 - val_loss: 1374.7490\n",
      "Epoch 432/500\n",
      "28/28 [==============================] - 0s 5ms/step - loss: 274.6537 - val_loss: 1372.8687\n",
      "Epoch 433/500\n",
      "28/28 [==============================] - 0s 5ms/step - loss: 274.5857 - val_loss: 1370.6174\n",
      "Epoch 434/500\n",
      "28/28 [==============================] - 0s 5ms/step - loss: 326.7100 - val_loss: 1669.2906\n",
      "Epoch 435/500\n",
      "28/28 [==============================] - 0s 5ms/step - loss: 329.2009 - val_loss: 1682.3992\n",
      "Epoch 436/500\n",
      "28/28 [==============================] - 0s 5ms/step - loss: 328.9100 - val_loss: 1676.6652\n",
      "Epoch 437/500\n",
      "28/28 [==============================] - 0s 5ms/step - loss: 328.4627 - val_loss: 1668.2126\n",
      "Epoch 438/500\n",
      "28/28 [==============================] - 0s 5ms/step - loss: 328.5288 - val_loss: 1664.0367\n",
      "Epoch 439/500\n",
      "28/28 [==============================] - 0s 5ms/step - loss: 328.3033 - val_loss: 1659.7063\n",
      "Epoch 440/500\n",
      "28/28 [==============================] - 0s 5ms/step - loss: 328.1137 - val_loss: 1655.1382\n",
      "Epoch 441/500\n",
      "28/28 [==============================] - 0s 5ms/step - loss: 327.9404 - val_loss: 1652.4056\n",
      "Epoch 442/500\n",
      "28/28 [==============================] - 0s 5ms/step - loss: 327.7675 - val_loss: 1648.3458\n",
      "Epoch 443/500\n",
      "28/28 [==============================] - 0s 5ms/step - loss: 327.6047 - val_loss: 1645.9481\n",
      "Epoch 444/500\n",
      "28/28 [==============================] - 0s 5ms/step - loss: 327.4319 - val_loss: 1643.9916\n",
      "Epoch 445/500\n",
      "28/28 [==============================] - 0s 5ms/step - loss: 327.2531 - val_loss: 1634.7196\n",
      "Epoch 446/500\n",
      "28/28 [==============================] - 0s 11ms/step - loss: 315.3138 - val_loss: 1563.4796\n",
      "Epoch 447/500\n",
      "28/28 [==============================] - 0s 6ms/step - loss: 328.6435 - val_loss: 1564.6882\n",
      "Epoch 448/500\n",
      "28/28 [==============================] - 0s 6ms/step - loss: 327.9021 - val_loss: 1571.6056\n",
      "Epoch 449/500\n",
      "28/28 [==============================] - 0s 6ms/step - loss: 327.4517 - val_loss: 1573.5480\n",
      "Epoch 450/500\n",
      "28/28 [==============================] - 0s 5ms/step - loss: 327.2547 - val_loss: 1573.4672\n",
      "Epoch 451/500\n",
      "28/28 [==============================] - 0s 5ms/step - loss: 323.0663 - val_loss: 1546.1288\n",
      "Epoch 452/500\n",
      "28/28 [==============================] - 0s 5ms/step - loss: 313.1969 - val_loss: 1507.3356\n",
      "Epoch 453/500\n",
      "28/28 [==============================] - 0s 5ms/step - loss: 310.7421 - val_loss: 1477.1304\n",
      "Epoch 454/500\n",
      "28/28 [==============================] - 0s 5ms/step - loss: 302.7003 - val_loss: 1441.6714\n",
      "Epoch 455/500\n",
      "28/28 [==============================] - 0s 5ms/step - loss: 302.1659 - val_loss: 1428.3971\n",
      "Epoch 456/500\n",
      "28/28 [==============================] - 0s 5ms/step - loss: 297.5373 - val_loss: 1429.0026\n",
      "Epoch 457/500\n",
      "28/28 [==============================] - 0s 5ms/step - loss: 292.9734 - val_loss: 1417.4204\n",
      "Epoch 458/500\n",
      "28/28 [==============================] - 0s 5ms/step - loss: 284.8456 - val_loss: 1375.3407\n",
      "Epoch 459/500\n",
      "28/28 [==============================] - 0s 5ms/step - loss: 277.1454 - val_loss: 1324.4481\n",
      "Epoch 460/500\n",
      "28/28 [==============================] - 0s 5ms/step - loss: 273.3186 - val_loss: 1318.0422\n",
      "Epoch 461/500\n",
      "28/28 [==============================] - 0s 5ms/step - loss: 270.5032 - val_loss: 1307.6674\n",
      "Epoch 462/500\n",
      "28/28 [==============================] - 0s 6ms/step - loss: 270.1343 - val_loss: 1306.5862\n",
      "Epoch 463/500\n",
      "28/28 [==============================] - 0s 6ms/step - loss: 269.6031 - val_loss: 1306.0913\n",
      "Epoch 464/500\n",
      "28/28 [==============================] - 0s 7ms/step - loss: 265.0012 - val_loss: 1303.1305\n",
      "Epoch 465/500\n",
      "28/28 [==============================] - 0s 7ms/step - loss: 322.1703 - val_loss: 1528.4849\n",
      "Epoch 466/500\n",
      "28/28 [==============================] - 0s 6ms/step - loss: 304.5103 - val_loss: 1506.6938\n",
      "Epoch 467/500\n",
      "28/28 [==============================] - 0s 6ms/step - loss: 297.9341 - val_loss: 1464.7556\n",
      "Epoch 468/500\n",
      "28/28 [==============================] - 0s 12ms/step - loss: 297.1770 - val_loss: 1461.7649\n",
      "Epoch 469/500\n",
      "28/28 [==============================] - 0s 6ms/step - loss: 293.6115 - val_loss: 1451.5778\n",
      "Epoch 470/500\n",
      "28/28 [==============================] - 0s 5ms/step - loss: 286.8445 - val_loss: 1402.9441\n",
      "Epoch 471/500\n",
      "28/28 [==============================] - 0s 5ms/step - loss: 277.2912 - val_loss: 1382.6782\n",
      "Epoch 472/500\n",
      "28/28 [==============================] - 0s 5ms/step - loss: 276.9425 - val_loss: 1377.8645\n",
      "Epoch 473/500\n",
      "28/28 [==============================] - 0s 5ms/step - loss: 276.6356 - val_loss: 1377.9194\n",
      "Epoch 474/500\n",
      "28/28 [==============================] - 0s 5ms/step - loss: 276.3118 - val_loss: 1378.2769\n",
      "Epoch 475/500\n",
      "28/28 [==============================] - 0s 6ms/step - loss: 275.9966 - val_loss: 1376.5092\n",
      "Epoch 476/500\n",
      "28/28 [==============================] - 0s 5ms/step - loss: 275.6943 - val_loss: 1376.5399\n",
      "Epoch 477/500\n",
      "28/28 [==============================] - 0s 5ms/step - loss: 275.3886 - val_loss: 1375.7286\n",
      "Epoch 478/500\n",
      "28/28 [==============================] - 0s 5ms/step - loss: 275.0872 - val_loss: 1374.9150\n",
      "Epoch 479/500\n",
      "28/28 [==============================] - 0s 5ms/step - loss: 274.7855 - val_loss: 1374.1737\n",
      "Epoch 480/500\n",
      "28/28 [==============================] - 0s 8ms/step - loss: 274.4734 - val_loss: 1371.7866\n",
      "Epoch 481/500\n",
      "28/28 [==============================] - 0s 7ms/step - loss: 273.9299 - val_loss: 1371.3239\n",
      "Epoch 482/500\n",
      "28/28 [==============================] - 0s 6ms/step - loss: 273.6385 - val_loss: 1370.2902\n",
      "Epoch 483/500\n",
      "28/28 [==============================] - 0s 5ms/step - loss: 273.3437 - val_loss: 1369.9637\n",
      "Epoch 484/500\n",
      "28/28 [==============================] - 0s 5ms/step - loss: 273.0542 - val_loss: 1368.6010\n",
      "Epoch 485/500\n",
      "28/28 [==============================] - 0s 5ms/step - loss: 272.7678 - val_loss: 1368.1089\n",
      "Epoch 486/500\n",
      "28/28 [==============================] - 0s 5ms/step - loss: 272.4832 - val_loss: 1368.3145\n",
      "Epoch 487/500\n",
      "28/28 [==============================] - 0s 5ms/step - loss: 272.1797 - val_loss: 1365.9691\n",
      "Epoch 488/500\n",
      "28/28 [==============================] - 0s 5ms/step - loss: 271.9038 - val_loss: 1366.3467\n",
      "Epoch 489/500\n",
      "28/28 [==============================] - 0s 5ms/step - loss: 271.6045 - val_loss: 1363.8625\n",
      "Epoch 490/500\n",
      "28/28 [==============================] - 0s 5ms/step - loss: 271.3198 - val_loss: 1363.0819\n",
      "Epoch 491/500\n",
      "28/28 [==============================] - 0s 5ms/step - loss: 271.0357 - val_loss: 1361.7693\n",
      "Epoch 492/500\n",
      "28/28 [==============================] - 0s 9ms/step - loss: 270.7491 - val_loss: 1360.7795\n",
      "Epoch 493/500\n",
      "28/28 [==============================] - 0s 7ms/step - loss: 270.4667 - val_loss: 1359.5981\n",
      "Epoch 494/500\n",
      "28/28 [==============================] - 0s 5ms/step - loss: 270.1866 - val_loss: 1358.7255\n",
      "Epoch 495/500\n",
      "28/28 [==============================] - 0s 5ms/step - loss: 269.9128 - val_loss: 1358.5328\n",
      "Epoch 496/500\n",
      "28/28 [==============================] - 0s 5ms/step - loss: 269.6068 - val_loss: 1356.1116\n",
      "Epoch 497/500\n",
      "28/28 [==============================] - 0s 5ms/step - loss: 269.3433 - val_loss: 1357.2089\n",
      "Epoch 498/500\n",
      "28/28 [==============================] - 0s 5ms/step - loss: 269.0411 - val_loss: 1354.2600\n",
      "Epoch 499/500\n",
      "28/28 [==============================] - 0s 5ms/step - loss: 268.7658 - val_loss: 1353.1080\n",
      "Epoch 500/500\n",
      "28/28 [==============================] - 0s 5ms/step - loss: 268.4800 - val_loss: 1352.9730\n"
     ]
    }
   ],
   "source": [
    "C0 = tf.Variable(85.7336, name=\"C0\", trainable=True, dtype=tf.float32)\n",
    "K0 = tf.Variable(-0.0020, name=\"K0\", trainable=True, dtype=tf.float32)\n",
    "K1 = tf.Variable(-0.0002, name=\"K1\", trainable=True, dtype=tf.float32)\n",
    "a = tf.Variable(0.0000, name=\"a\", trainable=True, dtype=tf.float32)\n",
    "b = tf.Variable(0.0125, name=\"b\", trainable=True, dtype=tf.float32)\n",
    "c = tf.Variable(2.3008, name=\"c\", trainable=True, dtype=tf.float32)\n",
    "\n",
    "splitr = 0.8\n",
    "\n",
    "\n",
    "def loss_fn(y_true, y_pred):\n",
    "    squared_difference = tf.square(y_true[:, 0] - y_pred[:, 0])\n",
    "    #squared_difference2 = tf.square(y_true[:, 2]-y_pred[:, 2])\n",
    "    #squared_difference1 = tf.square(y_true[:, 1]-y_pred[:, 1])\n",
    "    epsilon = 1\n",
    "    squared_difference3 = tf.square(\n",
    "        y_pred[:, 1] - (\n",
    "            y_pred[:, 0] * (\n",
    "                K0 - K1 * (\n",
    "                    9 * a * tf.math.log((y_pred[:, 0] + epsilon) / C0) / (K0 - K1 * c)**2 +\n",
    "                    4 * b * tf.math.log((y_pred[:, 0] + epsilon) / C0) / (K0 - K1 * c) + c\n",
    "                )\n",
    "            )\n",
    "        )\n",
    "    )\n",
    "    return tf.reduce_mean(squared_difference, axis=-1) + 0.2*tf.reduce_mean(squared_difference3, axis=-1)\n",
    "model = Sequential()\n",
    "model.add(LSTM(100, input_shape=(trainX.shape[1], trainX.shape[2])))\n",
    "model.add(Dense(60))\n",
    "model.compile(loss=loss_fn, optimizer='adam')\n",
    "history = model.fit(trainX[:int(splitr*trainX.shape[0])], trainy[:int(splitr*trainX.shape[0])], epochs=500, batch_size=64, validation_data=(trainX[int(splitr*trainX.shape[0]):trainX.shape[0]], trainy[int(splitr*trainX.shape[0]):trainX.shape[0]]), shuffle=False)"
   ]
  },
  {
   "cell_type": "code",
   "execution_count": 19,
   "metadata": {
    "colab": {
     "base_uri": "https://localhost:8080/"
    },
    "id": "yJL101rPyuoT",
    "outputId": "239ff2b1-c186-423a-d316-939dfdd7c793"
   },
   "outputs": [
    {
     "name": "stdout",
     "output_type": "stream",
     "text": [
      "1/1 [==============================] - 0s 402ms/step\n"
     ]
    }
   ],
   "source": [
    "forecast_without_mc = forecastX\n",
    "yhat_without_mc = model.predict(forecast_without_mc) # Step Ahead Prediction\n",
    "forecast_without_mc = forecast_without_mc.reshape((forecast_without_mc.shape[0], forecast_without_mc.shape[2])) # Historical Input"
   ]
  },
  {
   "cell_type": "code",
   "execution_count": 20,
   "metadata": {
    "colab": {
     "base_uri": "https://localhost:8080/"
    },
    "id": "g9dQELcJ8wbp",
    "outputId": "4dc7671b-b1a8-48d5-8744-a86f98446109"
   },
   "outputs": [
    {
     "data": {
      "text/plain": [
       "(1, 1, 126)"
      ]
     },
     "execution_count": 20,
     "metadata": {},
     "output_type": "execute_result"
    }
   ],
   "source": [
    "forecastX.shape"
   ]
  },
  {
   "cell_type": "code",
   "execution_count": 21,
   "metadata": {
    "colab": {
     "base_uri": "https://localhost:8080/"
    },
    "id": "IS2kyIKG1Kbr",
    "outputId": "f31b3485-8e26-452f-9298-ea8bf7e80ad1"
   },
   "outputs": [
    {
     "data": {
      "text/plain": [
       "(1, 126)"
      ]
     },
     "execution_count": 21,
     "metadata": {},
     "output_type": "execute_result"
    }
   ],
   "source": [
    "forecast_without_mc.shape"
   ]
  },
  {
   "cell_type": "code",
   "execution_count": 22,
   "metadata": {
    "id": "0u6VIzaDyuoT"
   },
   "outputs": [],
   "source": [
    "inv_yhat_without_mc = np.concatenate((forecast_without_mc, yhat_without_mc), axis=1) # Concatenation of predicted values with Historical Data\n",
    "#inv_yhat_without_mc = scaler.inverse_transform(inv_yhat_without_mc) # Transform labels back to original encoding"
   ]
  },
  {
   "cell_type": "code",
   "execution_count": 23,
   "metadata": {
    "colab": {
     "base_uri": "https://localhost:8080/"
    },
    "id": "EUEcw0LX07oU",
    "outputId": "cfc32397-9c37-4b43-d087-584bb31c3dcc"
   },
   "outputs": [
    {
     "data": {
      "text/plain": [
       "(1, 186)"
      ]
     },
     "execution_count": 23,
     "metadata": {},
     "output_type": "execute_result"
    }
   ],
   "source": [
    "inv_yhat_without_mc.shape"
   ]
  },
  {
   "cell_type": "code",
   "execution_count": 24,
   "metadata": {
    "id": "31OWVbSh_305"
   },
   "outputs": [],
   "source": [
    "fforecast = inv_yhat_without_mc[:,-150:]"
   ]
  },
  {
   "cell_type": "code",
   "execution_count": 25,
   "metadata": {},
   "outputs": [
    {
     "data": {
      "text/plain": [
       "(1, 150)"
      ]
     },
     "execution_count": 25,
     "metadata": {},
     "output_type": "execute_result"
    }
   ],
   "source": [
    "fforecast.shape"
   ]
  },
  {
   "cell_type": "code",
   "execution_count": 26,
   "metadata": {
    "id": "BlpGH2FOAiRF"
   },
   "outputs": [],
   "source": [
    "final_forecast = fforecast[:,0:150:3]"
   ]
  },
  {
   "cell_type": "code",
   "execution_count": 27,
   "metadata": {},
   "outputs": [
    {
     "data": {
      "text/plain": [
       "(1, 150)"
      ]
     },
     "execution_count": 27,
     "metadata": {},
     "output_type": "execute_result"
    }
   ],
   "source": [
    "fforecast.shape"
   ]
  },
  {
   "cell_type": "code",
   "execution_count": 28,
   "metadata": {
    "id": "CXkgkj_LBk_t"
   },
   "outputs": [],
   "source": [
    "# code to replace all negative value with 0\n",
    "final_forecast[final_forecast<0] = 0"
   ]
  },
  {
   "cell_type": "code",
   "execution_count": 29,
   "metadata": {},
   "outputs": [
    {
     "data": {
      "text/plain": [
       "array([[0.00000000e+00, 6.62273226e+01, 8.07057600e-02, 6.65643908e+01,\n",
       "        6.58459034e+01, 6.51628151e+01, 6.61829715e+01, 6.54821429e+01,\n",
       "        6.88478058e+01, 0.00000000e+00, 0.00000000e+00, 7.07138500e-02,\n",
       "        6.54401261e+01, 0.00000000e+00, 6.57594538e+01, 7.01633987e+01,\n",
       "        0.00000000e+00, 6.53981092e+01, 6.73996149e+01, 6.84295051e+01,\n",
       "        3.74972600e-01, 3.20638180e-01, 1.39785171e-01, 6.08381004e+01,\n",
       "        0.00000000e+00, 0.00000000e+00, 0.00000000e+00, 2.74103492e-01,\n",
       "        1.57439277e-01, 1.04578055e-01, 4.99242020e+01, 0.00000000e+00,\n",
       "        4.56996202e-01, 0.00000000e+00, 0.00000000e+00, 3.30871165e-01,\n",
       "        0.00000000e+00, 0.00000000e+00, 0.00000000e+00, 7.93447495e-01,\n",
       "        0.00000000e+00, 7.96321630e-02, 0.00000000e+00, 6.90334260e-01,\n",
       "        0.00000000e+00, 0.00000000e+00, 6.24377243e-02, 1.17385745e+00,\n",
       "        0.00000000e+00, 4.93547827e-01]])"
      ]
     },
     "execution_count": 29,
     "metadata": {},
     "output_type": "execute_result"
    }
   ],
   "source": [
    "final_forecast"
   ]
  },
  {
   "cell_type": "code",
   "execution_count": 30,
   "metadata": {},
   "outputs": [
    {
     "data": {
      "text/plain": [
       "(1, 50)"
      ]
     },
     "execution_count": 30,
     "metadata": {},
     "output_type": "execute_result"
    }
   ],
   "source": [
    "final_forecast.shape"
   ]
  },
  {
   "cell_type": "code",
   "execution_count": 31,
   "metadata": {},
   "outputs": [
    {
     "data": {
      "text/plain": [
       "(50,)"
      ]
     },
     "execution_count": 31,
     "metadata": {},
     "output_type": "execute_result"
    }
   ],
   "source": [
    "test.shape"
   ]
  },
  {
   "cell_type": "code",
   "execution_count": 32,
   "metadata": {},
   "outputs": [],
   "source": [
    "training_set = np.array(training_set)\n",
    "test = np.array(test)\n",
    "final_forecast = np.array(final_forecast.squeeze(0))"
   ]
  },
  {
   "cell_type": "code",
   "execution_count": 33,
   "metadata": {},
   "outputs": [
    {
     "data": {
      "text/plain": [
       "array([55.74189383, 55.73287559, 55.72385735, 55.71483911, 55.70582086,\n",
       "       55.69680262, 55.68778438, 55.67876614, 55.6697479 , 55.66072966,\n",
       "       55.65171142, 55.64269317, 55.63367493, 55.62465669, 55.61563845,\n",
       "       55.60662021, 55.59760197, 55.58858373, 55.57956548, 55.57054724,\n",
       "       55.561529  , 55.55251076, 55.54349252, 55.53447428, 55.52545604,\n",
       "       55.51643779, 55.50741955, 55.49840131, 55.48938307, 55.48036483,\n",
       "       55.47134659, 55.46232835, 55.4533101 , 55.44429186, 55.43527362,\n",
       "       55.42625538, 55.41723714, 55.4082189 , 55.39920066, 55.39018241,\n",
       "       55.38116417, 55.37214593, 55.36312769, 55.35410945, 55.34509121,\n",
       "       55.33607297, 55.32705472, 55.31803648, 55.30901824, 55.3       ])"
      ]
     },
     "execution_count": 33,
     "metadata": {},
     "output_type": "execute_result"
    }
   ],
   "source": [
    "test"
   ]
  },
  {
   "cell_type": "code",
   "execution_count": 34,
   "metadata": {},
   "outputs": [
    {
     "data": {
      "text/plain": [
       "(50,)"
      ]
     },
     "execution_count": 34,
     "metadata": {},
     "output_type": "execute_result"
    }
   ],
   "source": [
    "test.shape"
   ]
  },
  {
   "cell_type": "code",
   "execution_count": 35,
   "metadata": {},
   "outputs": [
    {
     "data": {
      "text/plain": [
       "(50,)"
      ]
     },
     "execution_count": 35,
     "metadata": {},
     "output_type": "execute_result"
    }
   ],
   "source": [
    "final_forecast.shape"
   ]
  },
  {
   "cell_type": "code",
   "execution_count": 36,
   "metadata": {},
   "outputs": [
    {
     "data": {
      "text/plain": [
       "(50,)"
      ]
     },
     "execution_count": 36,
     "metadata": {},
     "output_type": "execute_result"
    }
   ],
   "source": [
    "test.shape"
   ]
  },
  {
   "cell_type": "code",
   "execution_count": 37,
   "metadata": {},
   "outputs": [
    {
     "name": "stdout",
     "output_type": "stream",
     "text": [
      "46.63875976936617\n",
      "41.80458523145139\n"
     ]
    }
   ],
   "source": [
    "import math\n",
    "MSE = np.square(np.subtract(np.array(test),np.array(final_forecast))).mean()   \n",
    "rsme = math.sqrt(MSE)\n",
    "print(rsme)  \n",
    "MAE = np.abs(np.subtract(np.array(test),np.array(final_forecast))).mean()   \n",
    "mae = MAE\n",
    "print(mae)"
   ]
  }
 ],
 "metadata": {
  "colab": {
   "provenance": []
  },
  "kernelspec": {
   "display_name": "Python 3",
   "language": "python",
   "name": "python3"
  },
  "language_info": {
   "codemirror_mode": {
    "name": "ipython",
    "version": 3
   },
   "file_extension": ".py",
   "mimetype": "text/x-python",
   "name": "python",
   "nbconvert_exporter": "python",
   "pygments_lexer": "ipython3",
   "version": "3.9.13"
  }
 },
 "nbformat": 4,
 "nbformat_minor": 0
}
