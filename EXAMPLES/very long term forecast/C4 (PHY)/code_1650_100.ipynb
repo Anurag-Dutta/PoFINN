{
 "cells": [
  {
   "cell_type": "markdown",
   "metadata": {
    "id": "pCGKeZ2gyuoQ"
   },
   "source": [
    "_Importing Required Libraries_"
   ]
  },
  {
   "cell_type": "code",
   "execution_count": 1,
   "metadata": {
    "colab": {
     "base_uri": "https://localhost:8080/"
    },
    "id": "A-6LN-zXiLcM",
    "outputId": "4de610a4-f8b8-4f49-c6c0-89de299ccedc"
   },
   "outputs": [
    {
     "name": "stdout",
     "output_type": "stream",
     "text": [
      "Requirement already satisfied: hampel in c:\\users\\anurag dutta\\appdata\\local\\packages\\pythonsoftwarefoundation.python.3.9_qbz5n2kfra8p0\\localcache\\local-packages\\python39\\site-packages (0.0.5)Note: you may need to restart the kernel to use updated packages.\n"
     ]
    },
    {
     "name": "stderr",
     "output_type": "stream",
     "text": [
      "\n",
      "[notice] A new release of pip is available: 24.2 -> 24.3.1\n",
      "[notice] To update, run: C:\\Users\\Anurag Dutta\\AppData\\Local\\Microsoft\\WindowsApps\\PythonSoftwareFoundation.Python.3.9_qbz5n2kfra8p0\\python.exe -m pip install --upgrade pip\n"
     ]
    },
    {
     "name": "stdout",
     "output_type": "stream",
     "text": [
      "\n",
      "Requirement already satisfied: numpy in c:\\users\\anurag dutta\\appdata\\local\\packages\\pythonsoftwarefoundation.python.3.9_qbz5n2kfra8p0\\localcache\\local-packages\\python39\\site-packages (from hampel) (1.26.4)\n",
      "Requirement already satisfied: pandas in c:\\users\\anurag dutta\\appdata\\local\\packages\\pythonsoftwarefoundation.python.3.9_qbz5n2kfra8p0\\localcache\\local-packages\\python39\\site-packages (from hampel) (1.5.2)\n",
      "Requirement already satisfied: python-dateutil>=2.8.1 in c:\\users\\anurag dutta\\appdata\\local\\packages\\pythonsoftwarefoundation.python.3.9_qbz5n2kfra8p0\\localcache\\local-packages\\python39\\site-packages (from pandas->hampel) (2.8.2)\n",
      "Requirement already satisfied: pytz>=2020.1 in c:\\users\\anurag dutta\\appdata\\local\\packages\\pythonsoftwarefoundation.python.3.9_qbz5n2kfra8p0\\localcache\\local-packages\\python39\\site-packages (from pandas->hampel) (2023.3.post1)\n",
      "Requirement already satisfied: six>=1.5 in c:\\users\\anurag dutta\\appdata\\local\\packages\\pythonsoftwarefoundation.python.3.9_qbz5n2kfra8p0\\localcache\\local-packages\\python39\\site-packages (from python-dateutil>=2.8.1->pandas->hampel) (1.16.0)\n"
     ]
    }
   ],
   "source": [
    "pip install hampel"
   ]
  },
  {
   "cell_type": "code",
   "execution_count": 2,
   "metadata": {
    "id": "By_d9uXpaFvZ"
   },
   "outputs": [],
   "source": [
    "from keras.models import Sequential\n",
    "from keras.layers import Dense\n",
    "from keras.layers import LSTM\n",
    "from keras.layers import Dropout\n",
    "import keras\n",
    "import tensorflow as tf\n",
    "from hampel import hampel\n",
    "import numpy as np\n",
    "import matplotlib.pyplot as plt\n",
    "import pandas as pd\n",
    "from sklearn.preprocessing import MinMaxScaler\n",
    "from sklearn.metrics import mean_squared_error, mean_absolute_error\n",
    "from math import sqrt\n",
    "from matplotlib import pyplot\n",
    "from numpy import array"
   ]
  },
  {
   "cell_type": "markdown",
   "metadata": {
    "id": "JyOjBMFayuoR"
   },
   "source": [
    "## Pretraining"
   ]
  },
  {
   "cell_type": "markdown",
   "metadata": {
    "id": "-5QqIY_GyuoR"
   },
   "source": [
    "The `capa_intermittency.dat` feeds the model with the dynamics of the Capacitor"
   ]
  },
  {
   "cell_type": "code",
   "execution_count": 3,
   "metadata": {
    "id": "9dV4a8yfyuoR"
   },
   "outputs": [],
   "source": [
    "data = np.genfromtxt('capa_intermittency.dat')\n",
    "training_set = pd.DataFrame(data).reset_index(drop=True)\n",
    "training_set = training_set.iloc[:,0]"
   ]
  },
  {
   "cell_type": "markdown",
   "metadata": {
    "id": "i7easoxByuoR"
   },
   "source": [
    "## Computing the Gradient"
   ]
  },
  {
   "cell_type": "markdown",
   "metadata": {
    "id": "5SnyolJTyuoR"
   },
   "source": [
    "_Calculating the value of_ $\\frac{dx}{dt}$"
   ]
  },
  {
   "cell_type": "code",
   "execution_count": 4,
   "metadata": {
    "colab": {
     "base_uri": "https://localhost:8080/"
    },
    "id": "wmIbVfIvyuoR",
    "outputId": "aa4e3136-c854-465d-d2e9-81cfd546e440"
   },
   "outputs": [
    {
     "name": "stdout",
     "output_type": "stream",
     "text": [
      "1.0\n",
      "1        0.000298\n",
      "2        0.000298\n",
      "3        0.000297\n",
      "4        0.000297\n",
      "5        0.000297\n",
      "           ...   \n",
      "9996     0.000018\n",
      "9997     0.000018\n",
      "9998     0.000018\n",
      "9999     0.000018\n",
      "10000    0.000018\n",
      "Name: 0, Length: 10000, dtype: float64\n"
     ]
    }
   ],
   "source": [
    "t_diff = 1\n",
    "print(training_set.max())\n",
    "gradient_t = (training_set.diff()/t_diff).iloc[1:] # dx/dt\n",
    "print(gradient_t)"
   ]
  },
  {
   "cell_type": "markdown",
   "metadata": {
    "id": "_2eVeeoxyuoS"
   },
   "source": [
    "## Loading Datasets"
   ]
  },
  {
   "cell_type": "code",
   "execution_count": 5,
   "metadata": {
    "id": "0J-NKyIEyuoS"
   },
   "outputs": [
    {
     "data": {
      "text/plain": [
       "0       88.600000\n",
       "1       88.409524\n",
       "2       88.219048\n",
       "3       88.028571\n",
       "4       87.838095\n",
       "          ...    \n",
       "1745    65.261134\n",
       "1746    65.252731\n",
       "1747    65.244328\n",
       "1748    65.235924\n",
       "1749    65.227521\n",
       "Name: C4, Length: 1750, dtype: float64"
      ]
     },
     "execution_count": 5,
     "metadata": {},
     "output_type": "execute_result"
    }
   ],
   "source": [
    "data = pd.read_csv(\"c4_interpolated_1650_100.csv\")\n",
    "training_set = data.iloc[:, 1]\n",
    "training_set"
   ]
  },
  {
   "cell_type": "code",
   "execution_count": 6,
   "metadata": {
    "colab": {
     "base_uri": "https://localhost:8080/"
    },
    "id": "-CbNUhJ74UqF",
    "outputId": "20f562d8-8247-49cc-b9c3-00eca5e13e2d"
   },
   "outputs": [
    {
     "data": {
      "text/plain": [
       "0       88.600000\n",
       "1       88.409524\n",
       "2       88.219048\n",
       "3       88.028571\n",
       "4       87.838095\n",
       "          ...    \n",
       "1645     0.000000\n",
       "1646     0.096587\n",
       "1647     0.157036\n",
       "1648     0.317975\n",
       "1649     0.000000\n",
       "Name: C4, Length: 1650, dtype: float64"
      ]
     },
     "execution_count": 6,
     "metadata": {},
     "output_type": "execute_result"
    }
   ],
   "source": [
    "test = training_set.tail(100)\n",
    "test\n",
    "training_set = training_set.head(1650)\n",
    "training_set"
   ]
  },
  {
   "cell_type": "code",
   "execution_count": 7,
   "metadata": {
    "colab": {
     "base_uri": "https://localhost:8080/"
    },
    "id": "X0TwTcq0yuoS",
    "outputId": "37252ed8-d88e-4044-fa7a-922411990b5b"
   },
   "outputs": [
    {
     "name": "stdout",
     "output_type": "stream",
     "text": [
      "0       0.000298\n",
      "1       0.000298\n",
      "2       0.000297\n",
      "3       0.000297\n",
      "4       0.000297\n",
      "          ...   \n",
      "9995    0.000018\n",
      "9996    0.000018\n",
      "9997    0.000018\n",
      "9998    0.000018\n",
      "9999    0.000018\n",
      "Name: 0, Length: 10000, dtype: float64\n"
     ]
    }
   ],
   "source": [
    "training_set = training_set.reset_index(drop=True)\n",
    "gradient_t = gradient_t.reset_index(drop=True)\n",
    "print(gradient_t)"
   ]
  },
  {
   "cell_type": "code",
   "execution_count": 8,
   "metadata": {
    "id": "O2biznZQyuoS"
   },
   "outputs": [],
   "source": [
    "df = pd.concat((training_set, gradient_t), axis=1)\n",
    "df.columns = ['y_t', 'grad_t']"
   ]
  },
  {
   "cell_type": "code",
   "execution_count": 9,
   "metadata": {
    "colab": {
     "base_uri": "https://localhost:8080/",
     "height": 423
    },
    "id": "sk_a5v3tyuoS",
    "outputId": "17563625-e550-45ae-faab-fafa353e44da"
   },
   "outputs": [
    {
     "data": {
      "text/html": [
       "<div>\n",
       "<style scoped>\n",
       "    .dataframe tbody tr th:only-of-type {\n",
       "        vertical-align: middle;\n",
       "    }\n",
       "\n",
       "    .dataframe tbody tr th {\n",
       "        vertical-align: top;\n",
       "    }\n",
       "\n",
       "    .dataframe thead th {\n",
       "        text-align: right;\n",
       "    }\n",
       "</style>\n",
       "<table border=\"1\" class=\"dataframe\">\n",
       "  <thead>\n",
       "    <tr style=\"text-align: right;\">\n",
       "      <th></th>\n",
       "      <th>y_t</th>\n",
       "      <th>grad_t</th>\n",
       "    </tr>\n",
       "  </thead>\n",
       "  <tbody>\n",
       "    <tr>\n",
       "      <th>0</th>\n",
       "      <td>88.600000</td>\n",
       "      <td>0.000298</td>\n",
       "    </tr>\n",
       "    <tr>\n",
       "      <th>1</th>\n",
       "      <td>88.409524</td>\n",
       "      <td>0.000298</td>\n",
       "    </tr>\n",
       "    <tr>\n",
       "      <th>2</th>\n",
       "      <td>88.219048</td>\n",
       "      <td>0.000297</td>\n",
       "    </tr>\n",
       "    <tr>\n",
       "      <th>3</th>\n",
       "      <td>88.028571</td>\n",
       "      <td>0.000297</td>\n",
       "    </tr>\n",
       "    <tr>\n",
       "      <th>4</th>\n",
       "      <td>87.838095</td>\n",
       "      <td>0.000297</td>\n",
       "    </tr>\n",
       "    <tr>\n",
       "      <th>...</th>\n",
       "      <td>...</td>\n",
       "      <td>...</td>\n",
       "    </tr>\n",
       "    <tr>\n",
       "      <th>9995</th>\n",
       "      <td>NaN</td>\n",
       "      <td>0.000018</td>\n",
       "    </tr>\n",
       "    <tr>\n",
       "      <th>9996</th>\n",
       "      <td>NaN</td>\n",
       "      <td>0.000018</td>\n",
       "    </tr>\n",
       "    <tr>\n",
       "      <th>9997</th>\n",
       "      <td>NaN</td>\n",
       "      <td>0.000018</td>\n",
       "    </tr>\n",
       "    <tr>\n",
       "      <th>9998</th>\n",
       "      <td>NaN</td>\n",
       "      <td>0.000018</td>\n",
       "    </tr>\n",
       "    <tr>\n",
       "      <th>9999</th>\n",
       "      <td>NaN</td>\n",
       "      <td>0.000018</td>\n",
       "    </tr>\n",
       "  </tbody>\n",
       "</table>\n",
       "<p>10000 rows × 2 columns</p>\n",
       "</div>"
      ],
      "text/plain": [
       "            y_t    grad_t\n",
       "0     88.600000  0.000298\n",
       "1     88.409524  0.000298\n",
       "2     88.219048  0.000297\n",
       "3     88.028571  0.000297\n",
       "4     87.838095  0.000297\n",
       "...         ...       ...\n",
       "9995        NaN  0.000018\n",
       "9996        NaN  0.000018\n",
       "9997        NaN  0.000018\n",
       "9998        NaN  0.000018\n",
       "9999        NaN  0.000018\n",
       "\n",
       "[10000 rows x 2 columns]"
      ]
     },
     "execution_count": 9,
     "metadata": {},
     "output_type": "execute_result"
    }
   ],
   "source": [
    "df"
   ]
  },
  {
   "cell_type": "markdown",
   "metadata": {
    "id": "-5esyHu5aFvg"
   },
   "source": [
    "## Plot of the External Forcing from Chaotic Differential Equation"
   ]
  },
  {
   "cell_type": "code",
   "execution_count": 10,
   "metadata": {
    "colab": {
     "base_uri": "https://localhost:8080/",
     "height": 447
    },
    "id": "hGnE43tOh-4p",
    "outputId": "fc396503-b624-4fa5-dfbe-f460207405c6"
   },
   "outputs": [
    {
     "data": {
      "text/plain": [
       "<Axes: >"
      ]
     },
     "execution_count": 10,
     "metadata": {},
     "output_type": "execute_result"
    },
    {
     "data": {
      "image/png": "[encoded data removed]",
      "text/plain": [
       "<Figure size 432x288 with 1 Axes>"
      ]
     },
     "metadata": {
      "needs_background": "light"
     },
     "output_type": "display_data"
    }
   ],
   "source": [
    "df.iloc[:, 0].plot()"
   ]
  },
  {
   "cell_type": "code",
   "execution_count": 11,
   "metadata": {
    "colab": {
     "base_uri": "https://localhost:8080/",
     "height": 447
    },
    "id": "ym4xWUUxaFvg",
    "outputId": "ae6a3495-8ce9-437e-ba81-3ed31deedeae"
   },
   "outputs": [
    {
     "name": "stderr",
     "output_type": "stream",
     "text": [
      "C:\\Users\\Anurag Dutta\\AppData\\Local\\Packages\\PythonSoftwareFoundation.Python.3.9_qbz5n2kfra8p0\\LocalCache\\local-packages\\Python39\\site-packages\\pandas\\core\\arraylike.py:402: RuntimeWarning: divide by zero encountered in log\n",
      "  result = getattr(ufunc, method)(*inputs, **kwargs)\n"
     ]
    },
    {
     "data": {
      "text/plain": [
       "<Axes: >"
      ]
     },
     "execution_count": 11,
     "metadata": {},
     "output_type": "execute_result"
    },
    {
     "data": {
      "image/png": "[encoded data removed]",
      "text/plain": [
       "<Figure size 432x288 with 1 Axes>"
      ]
     },
     "metadata": {
      "needs_background": "light"
     },
     "output_type": "display_data"
    }
   ],
   "source": [
    "import numpy as np\n",
    "c0 = 86.6856  # Value for C0\n",
    "K0 = -0.0008  # Value for K0\n",
    "K1 = -0.0002  # Value for K1\n",
    "a = 0.0000    # Value for a\n",
    "b = 0.0128    # Value for b\n",
    "c = -2.3003    # Value for c\n",
    "\n",
    "L = np.minimum(c0, (df.iloc[:, 1] - (df.iloc[:, 0] * (K0 - K1 * (9 * a * np.log(df.iloc[:, 0] / c0) / (K0 - K1 * c)**2 + 4 * b * np.log(df.iloc[:, 0] / c0) / (K0 - K1 * c) + c)))))\n",
    "L.plot()"
   ]
  },
  {
   "cell_type": "markdown",
   "metadata": {
    "id": "9VyEywnwaFvh"
   },
   "source": [
    "## Preprocessing the data into supervised learning"
   ]
  },
  {
   "cell_type": "code",
   "execution_count": 12,
   "metadata": {
    "id": "6V9dXqzdaFvh"
   },
   "outputs": [],
   "source": [
    "# split a sequence into samples\n",
    "def Supervised(data, n_in=1, n_out=1, dropnan=True):\n",
    "    n_vars = 1 if type(data) is list else data.shape[1]\n",
    "    df = pd.DataFrame(data)\n",
    "    cols, names = list(), list()\n",
    "    # input sequence (t-n_in, ... t-1)\n",
    "    for i in range(n_in, 0, -1):\n",
    "        cols.append(df.shift(i))\n",
    "        names += [('var%d(t-%d)' % (j+1, i)) for j in range(n_vars)]\n",
    "    # forecast sequence (t, t+1, ... t+n_out)\n",
    "    for i in range(0, n_out):\n",
    "      cols.append(df.shift(-i))\n",
    "      if i == 0:\n",
    "        names += [('var%d(t)' % (j+1)) for j in range(n_vars)]\n",
    "      else:\n",
    "        names += [('var%d(t+%d)' % (j+1, i)) for j in range(n_vars)]\n",
    "    # put it all together\n",
    "    agg = pd.concat(cols, axis=1)\n",
    "    agg.columns = names\n",
    "    # drop rows with NaN values\n",
    "    if dropnan:\n",
    "       agg.dropna(inplace=True)\n",
    "    return agg"
   ]
  },
  {
   "cell_type": "code",
   "execution_count": 13,
   "metadata": {
    "colab": {
     "base_uri": "https://localhost:8080/"
    },
    "id": "CrzSrT1HnyfH",
    "outputId": "7e75f928-3e47-499d-eac1-51908015ef78"
   },
   "outputs": [
    {
     "name": "stdout",
     "output_type": "stream",
     "text": [
      "     var1(t-350)  var1(t-349)  var1(t-348)  var1(t-347)  var1(t-346)  \\\n",
      "350    88.600000    88.409524    88.219048    88.028571    87.838095   \n",
      "351    88.409524    88.219048    88.028571    87.838095    87.647619   \n",
      "352    88.219048    88.028571    87.838095    87.647619    87.457143   \n",
      "353    88.028571    87.838095    87.647619    87.457143    87.266667   \n",
      "354    87.838095    87.647619    87.457143    87.266667    87.076190   \n",
      "\n",
      "     var1(t-345)  var1(t-344)  var1(t-343)  var1(t-342)  var1(t-341)  ...  \\\n",
      "350    87.647619    87.457143    87.266667    87.076190    86.896218  ...   \n",
      "351    87.457143    87.266667    87.076190    86.896218    86.845798  ...   \n",
      "352    87.266667    87.076190    86.896218    86.845798    86.795378  ...   \n",
      "353    87.076190    86.896218    86.845798    86.795378    86.744958  ...   \n",
      "354    86.896218    86.845798    86.795378    86.744958    86.694538  ...   \n",
      "\n",
      "     var1(t+95)  var2(t+95)  var1(t+96)  var2(t+96)  var1(t+97)  var2(t+97)  \\\n",
      "350   78.880345    0.000263   78.856069    0.000263   78.831793    0.000263   \n",
      "351   78.856069    0.000263   78.831793    0.000263   78.807516    0.000262   \n",
      "352   78.831793    0.000263   78.807516    0.000262   78.783240    0.000262   \n",
      "353   78.807516    0.000262   78.783240    0.000262   78.758964    0.000262   \n",
      "354   78.783240    0.000262   78.758964    0.000262   78.734687    0.000262   \n",
      "\n",
      "     var1(t+98)  var2(t+98)  var1(t+99)  var2(t+99)  \n",
      "350   78.807516    0.000262   78.783240    0.000262  \n",
      "351   78.783240    0.000262   78.758964    0.000262  \n",
      "352   78.758964    0.000262   78.734687    0.000262  \n",
      "353   78.734687    0.000262   78.710411    0.000262  \n",
      "354   78.710411    0.000262   78.686134    0.000262  \n",
      "\n",
      "[5 rows x 551 columns]\n",
      "Index(['var1(t-350)', 'var1(t-349)', 'var1(t-348)', 'var1(t-347)',\n",
      "       'var1(t-346)', 'var1(t-345)', 'var1(t-344)', 'var1(t-343)',\n",
      "       'var1(t-342)', 'var1(t-341)',\n",
      "       ...\n",
      "       'var1(t+95)', 'var2(t+95)', 'var1(t+96)', 'var2(t+96)', 'var1(t+97)',\n",
      "       'var2(t+97)', 'var1(t+98)', 'var2(t+98)', 'var1(t+99)', 'var2(t+99)'],\n",
      "      dtype='object', length=551)\n"
     ]
    }
   ],
   "source": [
    "data = Supervised(df.values, n_in = 350, n_out = 100)\n",
    "\n",
    "\n",
    "cols_to_drop = []\n",
    "for i in range(2, 351):\n",
    "    cols_to_drop.extend([f'var2(t-{i})'])\n",
    "\n",
    "data.drop(cols_to_drop, axis=1, inplace=True)\n",
    "\n",
    "print(data.head())\n",
    "print(data.columns)"
   ]
  },
  {
   "cell_type": "code",
   "execution_count": 14,
   "metadata": {
    "id": "AfPf60oy6Pe4"
   },
   "outputs": [],
   "source": [
    "train = np.array(data[0:len(data)-1])\n",
    "forecast = np.array(data.tail(1))"
   ]
  },
  {
   "cell_type": "code",
   "execution_count": 15,
   "metadata": {
    "id": "WSAafzI37KiT"
   },
   "outputs": [],
   "source": [
    "trainy = train[:,-300:]\n",
    "trainX = train[:,:-300]"
   ]
  },
  {
   "cell_type": "code",
   "execution_count": 16,
   "metadata": {
    "id": "2SrOqVJA7f50"
   },
   "outputs": [],
   "source": [
    "forecasty = forecast[:,-300:]\n",
    "forecastX = forecast[:,:-300]"
   ]
  },
  {
   "cell_type": "code",
   "execution_count": 17,
   "metadata": {
    "colab": {
     "base_uri": "https://localhost:8080/"
    },
    "id": "Qno_k8Nw7saY",
    "outputId": "c4a88db5-d8c6-489f-cdb2-06b24e293cff"
   },
   "outputs": [
    {
     "name": "stdout",
     "output_type": "stream",
     "text": [
      "(1200, 1, 251) (1200, 300) (1, 1, 251)\n"
     ]
    }
   ],
   "source": [
    "trainX = trainX.reshape((trainX.shape[0], 1, trainX.shape[1]))\n",
    "forecastX = forecastX.reshape((forecastX.shape[0], 1, forecastX.shape[1]))\n",
    "print(trainX.shape, trainy.shape, forecastX.shape)"
   ]
  },
  {
   "cell_type": "code",
   "execution_count": 18,
   "metadata": {
    "colab": {
     "base_uri": "https://localhost:8080/"
    },
    "id": "b1Jp2DvNuNFx",
    "outputId": "d0e5b3c4-64f1-438c-eade-8dfeaac8e285"
   },
   "outputs": [
    {
     "name": "stdout",
     "output_type": "stream",
     "text": [
      "Epoch 1/500\n",
      "15/15 [==============================] - 2s 37ms/step - loss: 5450.1719 - val_loss: 4107.8530\n",
      "Epoch 2/500\n",
      "15/15 [==============================] - 0s 4ms/step - loss: 5350.4263 - val_loss: 4054.4163\n",
      "Epoch 3/500\n",
      "15/15 [==============================] - 0s 5ms/step - loss: 5291.9751 - val_loss: 4010.1184\n",
      "Epoch 4/500\n",
      "15/15 [==============================] - 0s 5ms/step - loss: 5234.6255 - val_loss: 3966.3218\n",
      "Epoch 5/500\n",
      "15/15 [==============================] - 0s 4ms/step - loss: 5177.8916 - val_loss: 3923.0525\n",
      "Epoch 6/500\n",
      "15/15 [==============================] - 0s 4ms/step - loss: 5121.7593 - val_loss: 3880.2725\n",
      "Epoch 7/500\n",
      "15/15 [==============================] - 0s 4ms/step - loss: 5066.1855 - val_loss: 3837.9492\n",
      "Epoch 8/500\n",
      "15/15 [==============================] - 0s 4ms/step - loss: 5011.1343 - val_loss: 3796.0608\n",
      "Epoch 9/500\n",
      "15/15 [==============================] - 0s 5ms/step - loss: 4956.5845 - val_loss: 3754.5911\n",
      "Epoch 10/500\n",
      "15/15 [==============================] - 0s 4ms/step - loss: 4902.5176 - val_loss: 3713.5295\n",
      "Epoch 11/500\n",
      "15/15 [==============================] - 0s 4ms/step - loss: 4848.9219 - val_loss: 3672.8679\n",
      "Epoch 12/500\n",
      "15/15 [==============================] - 0s 4ms/step - loss: 4795.7891 - val_loss: 3632.5979\n",
      "Epoch 13/500\n",
      "15/15 [==============================] - 0s 4ms/step - loss: 4743.1104 - val_loss: 3592.7156\n",
      "Epoch 14/500\n",
      "15/15 [==============================] - 0s 4ms/step - loss: 4690.8804 - val_loss: 3553.2141\n",
      "Epoch 15/500\n",
      "15/15 [==============================] - 0s 4ms/step - loss: 4639.0928 - val_loss: 3514.0908\n",
      "Epoch 16/500\n",
      "15/15 [==============================] - 0s 6ms/step - loss: 4587.7427 - val_loss: 3475.3401\n",
      "Epoch 17/500\n",
      "15/15 [==============================] - 0s 4ms/step - loss: 4536.8271 - val_loss: 3436.9568\n",
      "Epoch 18/500\n",
      "15/15 [==============================] - 0s 12ms/step - loss: 4486.2588 - val_loss: 3398.2148\n",
      "Epoch 19/500\n",
      "15/15 [==============================] - 0s 7ms/step - loss: 4433.3057 - val_loss: 3356.9375\n",
      "Epoch 20/500\n",
      "15/15 [==============================] - 0s 5ms/step - loss: 4379.0068 - val_loss: 3316.2134\n",
      "Epoch 21/500\n",
      "15/15 [==============================] - 0s 5ms/step - loss: 4325.7148 - val_loss: 3276.3955\n",
      "Epoch 22/500\n",
      "15/15 [==============================] - 0s 7ms/step - loss: 4273.4507 - val_loss: 3237.3374\n",
      "Epoch 23/500\n",
      "15/15 [==============================] - 0s 10ms/step - loss: 4222.0386 - val_loss: 3198.9224\n",
      "Epoch 24/500\n",
      "15/15 [==============================] - 0s 11ms/step - loss: 4171.3545 - val_loss: 3161.0730\n",
      "Epoch 25/500\n",
      "15/15 [==============================] - 0s 10ms/step - loss: 4121.3188 - val_loss: 3123.7397\n",
      "Epoch 26/500\n",
      "15/15 [==============================] - 0s 7ms/step - loss: 4071.8762 - val_loss: 3086.8879\n",
      "Epoch 27/500\n",
      "15/15 [==============================] - 0s 7ms/step - loss: 4022.9932 - val_loss: 3050.4932\n",
      "Epoch 28/500\n",
      "15/15 [==============================] - 0s 5ms/step - loss: 3974.6396 - val_loss: 3014.5364\n",
      "Epoch 29/500\n",
      "15/15 [==============================] - 0s 5ms/step - loss: 3926.7952 - val_loss: 2979.0015\n",
      "Epoch 30/500\n",
      "15/15 [==============================] - 0s 4ms/step - loss: 3879.4429 - val_loss: 2943.8762\n",
      "Epoch 31/500\n",
      "15/15 [==============================] - 0s 5ms/step - loss: 3831.7976 - val_loss: 2905.5593\n",
      "Epoch 32/500\n",
      "15/15 [==============================] - 0s 4ms/step - loss: 3779.1023 - val_loss: 2867.1050\n",
      "Epoch 33/500\n",
      "15/15 [==============================] - 0s 4ms/step - loss: 3727.8716 - val_loss: 2829.4111\n",
      "Epoch 34/500\n",
      "15/15 [==============================] - 0s 4ms/step - loss: 3677.8616 - val_loss: 2792.7415\n",
      "Epoch 35/500\n",
      "15/15 [==============================] - 0s 5ms/step - loss: 3629.0200 - val_loss: 2756.9163\n",
      "Epoch 36/500\n",
      "15/15 [==============================] - 0s 4ms/step - loss: 3581.1335 - val_loss: 2721.7957\n",
      "Epoch 37/500\n",
      "15/15 [==============================] - 0s 4ms/step - loss: 3534.0540 - val_loss: 2687.2913\n",
      "Epoch 38/500\n",
      "15/15 [==============================] - 0s 4ms/step - loss: 3487.6863 - val_loss: 2653.3425\n",
      "Epoch 39/500\n",
      "15/15 [==============================] - 0s 4ms/step - loss: 3441.9656 - val_loss: 2619.9089\n",
      "Epoch 40/500\n",
      "15/15 [==============================] - 0s 4ms/step - loss: 3396.8455 - val_loss: 2586.9602\n",
      "Epoch 41/500\n",
      "15/15 [==============================] - 0s 5ms/step - loss: 3352.2935 - val_loss: 2554.4739\n",
      "Epoch 42/500\n",
      "15/15 [==============================] - 0s 4ms/step - loss: 3308.2825 - val_loss: 2522.4304\n",
      "Epoch 43/500\n",
      "15/15 [==============================] - 0s 4ms/step - loss: 3264.7915 - val_loss: 2490.8154\n",
      "Epoch 44/500\n",
      "15/15 [==============================] - 0s 5ms/step - loss: 3221.8030 - val_loss: 2459.6162\n",
      "Epoch 45/500\n",
      "15/15 [==============================] - 0s 5ms/step - loss: 3179.3018 - val_loss: 2428.8213\n",
      "Epoch 46/500\n",
      "15/15 [==============================] - 0s 6ms/step - loss: 3137.2759 - val_loss: 2398.4219\n",
      "Epoch 47/500\n",
      "15/15 [==============================] - 0s 6ms/step - loss: 3095.7141 - val_loss: 2368.4092\n",
      "Epoch 48/500\n",
      "15/15 [==============================] - 0s 9ms/step - loss: 3054.6069 - val_loss: 2338.7766\n",
      "Epoch 49/500\n",
      "15/15 [==============================] - 0s 7ms/step - loss: 3013.9463 - val_loss: 2309.5164\n",
      "Epoch 50/500\n",
      "15/15 [==============================] - 0s 5ms/step - loss: 2973.7231 - val_loss: 2280.6228\n",
      "Epoch 51/500\n",
      "15/15 [==============================] - 0s 4ms/step - loss: 2933.9307 - val_loss: 2252.0901\n",
      "Epoch 52/500\n",
      "15/15 [==============================] - 0s 5ms/step - loss: 2894.5632 - val_loss: 2223.9133\n",
      "Epoch 53/500\n",
      "15/15 [==============================] - 0s 5ms/step - loss: 2855.6138 - val_loss: 2196.0864\n",
      "Epoch 54/500\n",
      "15/15 [==============================] - 0s 5ms/step - loss: 2817.0764 - val_loss: 2168.6057\n",
      "Epoch 55/500\n",
      "15/15 [==============================] - 0s 5ms/step - loss: 2778.9468 - val_loss: 2141.4661\n",
      "Epoch 56/500\n",
      "15/15 [==============================] - 0s 5ms/step - loss: 2741.2188 - val_loss: 2114.6636\n",
      "Epoch 57/500\n",
      "15/15 [==============================] - 0s 5ms/step - loss: 2703.8894 - val_loss: 2088.1921\n",
      "Epoch 58/500\n",
      "15/15 [==============================] - 0s 5ms/step - loss: 2666.9524 - val_loss: 2062.0476\n",
      "Epoch 59/500\n",
      "15/15 [==============================] - 0s 4ms/step - loss: 2630.4036 - val_loss: 2036.2207\n",
      "Epoch 60/500\n",
      "15/15 [==============================] - 0s 4ms/step - loss: 2594.2397 - val_loss: 2010.6779\n",
      "Epoch 61/500\n",
      "15/15 [==============================] - 0s 9ms/step - loss: 2555.1194 - val_loss: 1976.3146\n",
      "Epoch 62/500\n",
      "15/15 [==============================] - 0s 4ms/step - loss: 2506.3213 - val_loss: 1947.5131\n",
      "Epoch 63/500\n",
      "15/15 [==============================] - 0s 4ms/step - loss: 2466.0239 - val_loss: 1919.5339\n",
      "Epoch 64/500\n",
      "15/15 [==============================] - 0s 4ms/step - loss: 2426.9773 - val_loss: 1892.5192\n",
      "Epoch 65/500\n",
      "15/15 [==============================] - 0s 5ms/step - loss: 2389.0671 - val_loss: 1866.2838\n",
      "Epoch 66/500\n",
      "15/15 [==============================] - 0s 5ms/step - loss: 2352.0686 - val_loss: 1840.6925\n",
      "Epoch 67/500\n",
      "15/15 [==============================] - 0s 5ms/step - loss: 2315.8313 - val_loss: 1815.6591\n",
      "Epoch 68/500\n",
      "15/15 [==============================] - 0s 5ms/step - loss: 2280.2573 - val_loss: 1791.1270\n",
      "Epoch 69/500\n",
      "15/15 [==============================] - 0s 5ms/step - loss: 2245.2827 - val_loss: 1767.0564\n",
      "Epoch 70/500\n",
      "15/15 [==============================] - 0s 6ms/step - loss: 2210.8616 - val_loss: 1743.4180\n",
      "Epoch 71/500\n",
      "15/15 [==============================] - 0s 5ms/step - loss: 2176.9580 - val_loss: 1720.1899\n",
      "Epoch 72/500\n",
      "15/15 [==============================] - 0s 6ms/step - loss: 2143.5471 - val_loss: 1697.3544\n",
      "Epoch 73/500\n",
      "15/15 [==============================] - 0s 7ms/step - loss: 2110.6072 - val_loss: 1674.8967\n",
      "Epoch 74/500\n",
      "15/15 [==============================] - 0s 8ms/step - loss: 2078.1201 - val_loss: 1652.8046\n",
      "Epoch 75/500\n",
      "15/15 [==============================] - 0s 7ms/step - loss: 2046.0721 - val_loss: 1631.0676\n",
      "Epoch 76/500\n",
      "15/15 [==============================] - 0s 7ms/step - loss: 2014.4497 - val_loss: 1609.6763\n",
      "Epoch 77/500\n",
      "15/15 [==============================] - 0s 7ms/step - loss: 1983.2423 - val_loss: 1588.6235\n",
      "Epoch 78/500\n",
      "15/15 [==============================] - 0s 7ms/step - loss: 1952.4398 - val_loss: 1567.9004\n",
      "Epoch 79/500\n",
      "15/15 [==============================] - 0s 11ms/step - loss: 1922.0338 - val_loss: 1547.5021\n",
      "Epoch 80/500\n",
      "15/15 [==============================] - 0s 8ms/step - loss: 1892.0168 - val_loss: 1527.4221\n",
      "Epoch 81/500\n",
      "15/15 [==============================] - 0s 7ms/step - loss: 1862.3809 - val_loss: 1507.6542\n",
      "Epoch 82/500\n",
      "15/15 [==============================] - 0s 7ms/step - loss: 1833.1202 - val_loss: 1488.1941\n",
      "Epoch 83/500\n",
      "15/15 [==============================] - 0s 7ms/step - loss: 1804.2280 - val_loss: 1469.0365\n",
      "Epoch 84/500\n",
      "15/15 [==============================] - 0s 7ms/step - loss: 1775.6991 - val_loss: 1450.1769\n",
      "Epoch 85/500\n",
      "15/15 [==============================] - 0s 7ms/step - loss: 1747.5273 - val_loss: 1431.6110\n",
      "Epoch 86/500\n",
      "15/15 [==============================] - 0s 7ms/step - loss: 1719.7084 - val_loss: 1413.3346\n",
      "Epoch 87/500\n",
      "15/15 [==============================] - 0s 7ms/step - loss: 1692.2372 - val_loss: 1395.3444\n",
      "Epoch 88/500\n",
      "15/15 [==============================] - 0s 6ms/step - loss: 1665.1099 - val_loss: 1377.6360\n",
      "Epoch 89/500\n",
      "15/15 [==============================] - 0s 7ms/step - loss: 1638.3215 - val_loss: 1360.2067\n",
      "Epoch 90/500\n",
      "15/15 [==============================] - 0s 6ms/step - loss: 1611.8679 - val_loss: 1343.0526\n",
      "Epoch 91/500\n",
      "15/15 [==============================] - 0s 12ms/step - loss: 1585.7452 - val_loss: 1326.1697\n",
      "Epoch 92/500\n",
      "15/15 [==============================] - 0s 7ms/step - loss: 1559.9500 - val_loss: 1309.5560\n",
      "Epoch 93/500\n",
      "15/15 [==============================] - 0s 7ms/step - loss: 1534.4783 - val_loss: 1293.2075\n",
      "Epoch 94/500\n",
      "15/15 [==============================] - 0s 7ms/step - loss: 1509.3265 - val_loss: 1277.1216\n",
      "Epoch 95/500\n",
      "15/15 [==============================] - 0s 8ms/step - loss: 1484.4910 - val_loss: 1261.2949\n",
      "Epoch 96/500\n",
      "15/15 [==============================] - 0s 7ms/step - loss: 1459.9684 - val_loss: 1245.7252\n",
      "Epoch 97/500\n",
      "15/15 [==============================] - 0s 7ms/step - loss: 1435.7556 - val_loss: 1230.4088\n",
      "Epoch 98/500\n",
      "15/15 [==============================] - 0s 8ms/step - loss: 1411.8492 - val_loss: 1215.3438\n",
      "Epoch 99/500\n",
      "15/15 [==============================] - 0s 7ms/step - loss: 1388.2466 - val_loss: 1200.5270\n",
      "Epoch 100/500\n",
      "15/15 [==============================] - 0s 9ms/step - loss: 1364.9442 - val_loss: 1185.9562\n",
      "Epoch 101/500\n",
      "15/15 [==============================] - 0s 9ms/step - loss: 1341.9398 - val_loss: 1171.6281\n",
      "Epoch 102/500\n",
      "15/15 [==============================] - 0s 7ms/step - loss: 1319.2294 - val_loss: 1157.5408\n",
      "Epoch 103/500\n",
      "15/15 [==============================] - 0s 7ms/step - loss: 1296.8113 - val_loss: 1143.6909\n",
      "Epoch 104/500\n",
      "15/15 [==============================] - 0s 6ms/step - loss: 1274.6814 - val_loss: 1130.0769\n",
      "Epoch 105/500\n",
      "15/15 [==============================] - 0s 7ms/step - loss: 1252.8379 - val_loss: 1116.6960\n",
      "Epoch 106/500\n",
      "15/15 [==============================] - 0s 7ms/step - loss: 1231.2777 - val_loss: 1103.5463\n",
      "Epoch 107/500\n",
      "15/15 [==============================] - 0s 7ms/step - loss: 1209.9985 - val_loss: 1090.6239\n",
      "Epoch 108/500\n",
      "15/15 [==============================] - 0s 13ms/step - loss: 1188.9973 - val_loss: 1077.9282\n",
      "Epoch 109/500\n",
      "15/15 [==============================] - 0s 7ms/step - loss: 1168.2719 - val_loss: 1065.4558\n",
      "Epoch 110/500\n",
      "15/15 [==============================] - 0s 7ms/step - loss: 1147.8192 - val_loss: 1053.2051\n",
      "Epoch 111/500\n",
      "15/15 [==============================] - 0s 6ms/step - loss: 1127.6373 - val_loss: 1041.1737\n",
      "Epoch 112/500\n",
      "15/15 [==============================] - 0s 6ms/step - loss: 1107.7233 - val_loss: 1029.3585\n",
      "Epoch 113/500\n",
      "15/15 [==============================] - 0s 6ms/step - loss: 1088.0743 - val_loss: 1017.7580\n",
      "Epoch 114/500\n",
      "15/15 [==============================] - 0s 6ms/step - loss: 1068.6887 - val_loss: 1006.3699\n",
      "Epoch 115/500\n",
      "15/15 [==============================] - 0s 6ms/step - loss: 1049.5638 - val_loss: 995.1922\n",
      "Epoch 116/500\n",
      "15/15 [==============================] - 0s 6ms/step - loss: 1030.6968 - val_loss: 984.2224\n",
      "Epoch 117/500\n",
      "15/15 [==============================] - 0s 6ms/step - loss: 1012.0858 - val_loss: 973.4583\n",
      "Epoch 118/500\n",
      "15/15 [==============================] - 0s 8ms/step - loss: 993.7283 - val_loss: 962.8983\n",
      "Epoch 119/500\n",
      "15/15 [==============================] - 0s 7ms/step - loss: 975.6223 - val_loss: 952.5399\n",
      "Epoch 120/500\n",
      "15/15 [==============================] - 0s 16ms/step - loss: 957.7651 - val_loss: 942.3810\n",
      "Epoch 121/500\n",
      "15/15 [==============================] - 0s 8ms/step - loss: 940.1545 - val_loss: 932.4196\n",
      "Epoch 122/500\n",
      "15/15 [==============================] - 0s 7ms/step - loss: 922.7883 - val_loss: 922.6536\n",
      "Epoch 123/500\n",
      "15/15 [==============================] - 0s 7ms/step - loss: 905.6643 - val_loss: 913.0810\n",
      "Epoch 124/500\n",
      "15/15 [==============================] - 0s 6ms/step - loss: 888.7800 - val_loss: 903.6993\n",
      "Epoch 125/500\n",
      "15/15 [==============================] - 0s 6ms/step - loss: 872.1334 - val_loss: 894.5074\n",
      "Epoch 126/500\n",
      "15/15 [==============================] - 0s 6ms/step - loss: 855.7227 - val_loss: 885.5027\n",
      "Epoch 127/500\n",
      "15/15 [==============================] - 0s 6ms/step - loss: 839.5450 - val_loss: 876.6833\n",
      "Epoch 128/500\n",
      "15/15 [==============================] - 0s 6ms/step - loss: 823.5991 - val_loss: 868.0468\n",
      "Epoch 129/500\n",
      "15/15 [==============================] - 0s 6ms/step - loss: 807.8818 - val_loss: 859.5922\n",
      "Epoch 130/500\n",
      "15/15 [==============================] - 0s 6ms/step - loss: 792.3917 - val_loss: 851.3167\n",
      "Epoch 131/500\n",
      "15/15 [==============================] - 0s 6ms/step - loss: 777.1265 - val_loss: 843.2187\n",
      "Epoch 132/500\n",
      "15/15 [==============================] - 0s 5ms/step - loss: 762.0838 - val_loss: 835.2961\n",
      "Epoch 133/500\n",
      "15/15 [==============================] - 0s 6ms/step - loss: 747.2621 - val_loss: 827.5468\n",
      "Epoch 134/500\n",
      "15/15 [==============================] - 0s 6ms/step - loss: 732.6586 - val_loss: 819.9692\n",
      "Epoch 135/500\n",
      "15/15 [==============================] - 0s 6ms/step - loss: 718.2717 - val_loss: 812.5613\n",
      "Epoch 136/500\n",
      "15/15 [==============================] - 0s 5ms/step - loss: 704.0996 - val_loss: 805.3214\n",
      "Epoch 137/500\n",
      "15/15 [==============================] - 0s 5ms/step - loss: 690.1400 - val_loss: 798.2469\n",
      "Epoch 138/500\n",
      "15/15 [==============================] - 0s 5ms/step - loss: 676.3906 - val_loss: 791.3366\n",
      "Epoch 139/500\n",
      "15/15 [==============================] - 0s 5ms/step - loss: 662.8492 - val_loss: 784.5881\n",
      "Epoch 140/500\n",
      "15/15 [==============================] - 0s 5ms/step - loss: 649.5147 - val_loss: 778.0004\n",
      "Epoch 141/500\n",
      "15/15 [==============================] - 0s 6ms/step - loss: 636.3846 - val_loss: 771.5705\n",
      "Epoch 142/500\n",
      "15/15 [==============================] - 0s 5ms/step - loss: 623.4567 - val_loss: 765.2972\n",
      "Epoch 143/500\n",
      "15/15 [==============================] - 0s 5ms/step - loss: 610.7294 - val_loss: 759.1784\n",
      "Epoch 144/500\n",
      "15/15 [==============================] - 0s 5ms/step - loss: 598.2003 - val_loss: 753.2126\n",
      "Epoch 145/500\n",
      "15/15 [==============================] - 0s 5ms/step - loss: 585.8678 - val_loss: 747.3976\n",
      "Epoch 146/500\n",
      "15/15 [==============================] - 0s 7ms/step - loss: 573.7297 - val_loss: 741.7315\n",
      "Epoch 147/500\n",
      "15/15 [==============================] - 0s 8ms/step - loss: 561.7842 - val_loss: 736.2129\n",
      "Epoch 148/500\n",
      "15/15 [==============================] - 0s 7ms/step - loss: 550.0296 - val_loss: 730.8398\n",
      "Epoch 149/500\n",
      "15/15 [==============================] - 0s 20ms/step - loss: 538.4638 - val_loss: 725.6102\n",
      "Epoch 150/500\n",
      "15/15 [==============================] - 0s 11ms/step - loss: 527.0845 - val_loss: 720.5225\n",
      "Epoch 151/500\n",
      "15/15 [==============================] - 0s 10ms/step - loss: 515.8903 - val_loss: 715.5748\n",
      "Epoch 152/500\n",
      "15/15 [==============================] - 0s 9ms/step - loss: 504.8792 - val_loss: 710.7655\n",
      "Epoch 153/500\n",
      "15/15 [==============================] - 0s 8ms/step - loss: 494.0491 - val_loss: 706.0923\n",
      "Epoch 154/500\n",
      "15/15 [==============================] - 0s 9ms/step - loss: 483.3980 - val_loss: 701.5541\n",
      "Epoch 155/500\n",
      "15/15 [==============================] - 0s 7ms/step - loss: 472.9245 - val_loss: 697.1486\n",
      "Epoch 156/500\n",
      "15/15 [==============================] - 0s 7ms/step - loss: 462.6264 - val_loss: 692.8741\n",
      "Epoch 157/500\n",
      "15/15 [==============================] - 0s 7ms/step - loss: 452.5018 - val_loss: 688.7294\n",
      "Epoch 158/500\n",
      "15/15 [==============================] - 0s 7ms/step - loss: 442.5491 - val_loss: 684.7120\n",
      "Epoch 159/500\n",
      "15/15 [==============================] - 0s 7ms/step - loss: 432.7665 - val_loss: 680.8207\n",
      "Epoch 160/500\n",
      "15/15 [==============================] - 0s 7ms/step - loss: 423.1517 - val_loss: 677.0531\n",
      "Epoch 161/500\n",
      "15/15 [==============================] - 0s 7ms/step - loss: 413.7033 - val_loss: 673.4083\n",
      "Epoch 162/500\n",
      "15/15 [==============================] - 0s 7ms/step - loss: 404.4193 - val_loss: 669.8842\n",
      "Epoch 163/500\n",
      "15/15 [==============================] - 0s 7ms/step - loss: 395.2977 - val_loss: 666.4789\n",
      "Epoch 164/500\n",
      "15/15 [==============================] - 0s 7ms/step - loss: 386.3372 - val_loss: 663.1908\n",
      "Epoch 165/500\n",
      "15/15 [==============================] - 0s 7ms/step - loss: 377.5356 - val_loss: 660.0184\n",
      "Epoch 166/500\n",
      "15/15 [==============================] - 0s 7ms/step - loss: 368.8910 - val_loss: 656.9597\n",
      "Epoch 167/500\n",
      "15/15 [==============================] - 0s 6ms/step - loss: 360.4019 - val_loss: 654.0129\n",
      "Epoch 168/500\n",
      "15/15 [==============================] - 0s 7ms/step - loss: 352.0663 - val_loss: 651.1768\n",
      "Epoch 169/500\n",
      "15/15 [==============================] - 0s 9ms/step - loss: 343.8827 - val_loss: 648.4493\n",
      "Epoch 170/500\n",
      "15/15 [==============================] - 0s 7ms/step - loss: 335.8490 - val_loss: 645.8290\n",
      "Epoch 171/500\n",
      "15/15 [==============================] - 0s 6ms/step - loss: 327.9637 - val_loss: 643.3138\n",
      "Epoch 172/500\n",
      "15/15 [==============================] - 0s 6ms/step - loss: 320.2248 - val_loss: 640.9026\n",
      "Epoch 173/500\n",
      "15/15 [==============================] - 0s 6ms/step - loss: 312.6308 - val_loss: 638.5934\n",
      "Epoch 174/500\n",
      "15/15 [==============================] - 0s 6ms/step - loss: 305.1798 - val_loss: 636.3846\n",
      "Epoch 175/500\n",
      "15/15 [==============================] - 0s 12ms/step - loss: 297.8700 - val_loss: 634.2743\n",
      "Epoch 176/500\n",
      "15/15 [==============================] - 0s 8ms/step - loss: 290.6996 - val_loss: 632.2614\n",
      "Epoch 177/500\n",
      "15/15 [==============================] - 0s 8ms/step - loss: 283.6674 - val_loss: 630.3438\n",
      "Epoch 178/500\n",
      "15/15 [==============================] - 0s 8ms/step - loss: 276.7714 - val_loss: 628.5203\n",
      "Epoch 179/500\n",
      "15/15 [==============================] - 0s 7ms/step - loss: 270.0097 - val_loss: 626.7887\n",
      "Epoch 180/500\n",
      "15/15 [==============================] - 0s 6ms/step - loss: 263.3807 - val_loss: 625.1478\n",
      "Epoch 181/500\n",
      "15/15 [==============================] - 0s 6ms/step - loss: 256.8827 - val_loss: 623.5959\n",
      "Epoch 182/500\n",
      "15/15 [==============================] - 0s 8ms/step - loss: 250.5140 - val_loss: 622.1315\n",
      "Epoch 183/500\n",
      "15/15 [==============================] - 0s 7ms/step - loss: 244.2731 - val_loss: 620.7529\n",
      "Epoch 184/500\n",
      "15/15 [==============================] - 0s 7ms/step - loss: 238.1580 - val_loss: 619.4583\n",
      "Epoch 185/500\n",
      "15/15 [==============================] - 0s 6ms/step - loss: 232.1673 - val_loss: 618.2466\n",
      "Epoch 186/500\n",
      "15/15 [==============================] - 0s 6ms/step - loss: 226.2993 - val_loss: 617.1160\n",
      "Epoch 187/500\n",
      "15/15 [==============================] - 0s 6ms/step - loss: 220.5523 - val_loss: 616.0646\n",
      "Epoch 188/500\n",
      "15/15 [==============================] - 0s 8ms/step - loss: 214.9245 - val_loss: 615.0914\n",
      "Epoch 189/500\n",
      "15/15 [==============================] - 0s 9ms/step - loss: 209.4145 - val_loss: 614.1944\n",
      "Epoch 190/500\n",
      "15/15 [==============================] - 0s 8ms/step - loss: 204.0206 - val_loss: 613.3724\n",
      "Epoch 191/500\n",
      "15/15 [==============================] - 0s 9ms/step - loss: 198.7412 - val_loss: 612.6237\n",
      "Epoch 192/500\n",
      "15/15 [==============================] - 0s 9ms/step - loss: 193.5746 - val_loss: 611.9468\n",
      "Epoch 193/500\n",
      "15/15 [==============================] - 0s 9ms/step - loss: 188.5194 - val_loss: 611.3402\n",
      "Epoch 194/500\n",
      "15/15 [==============================] - 0s 8ms/step - loss: 183.5739 - val_loss: 610.8025\n",
      "Epoch 195/500\n",
      "15/15 [==============================] - 0s 7ms/step - loss: 178.7365 - val_loss: 610.3319\n",
      "Epoch 196/500\n",
      "15/15 [==============================] - 0s 8ms/step - loss: 174.0057 - val_loss: 609.9271\n",
      "Epoch 197/500\n",
      "15/15 [==============================] - 0s 7ms/step - loss: 169.3795 - val_loss: 609.5867\n",
      "Epoch 198/500\n",
      "15/15 [==============================] - 0s 7ms/step - loss: 164.8567 - val_loss: 609.3091\n",
      "Epoch 199/500\n",
      "15/15 [==============================] - 0s 7ms/step - loss: 160.4360 - val_loss: 609.0929\n",
      "Epoch 200/500\n",
      "15/15 [==============================] - 0s 18ms/step - loss: 156.1154 - val_loss: 608.9366\n",
      "Epoch 201/500\n",
      "15/15 [==============================] - 0s 8ms/step - loss: 151.8935 - val_loss: 608.8387\n",
      "Epoch 202/500\n",
      "15/15 [==============================] - 0s 8ms/step - loss: 147.7688 - val_loss: 608.7980\n",
      "Epoch 203/500\n",
      "15/15 [==============================] - 0s 8ms/step - loss: 143.7398 - val_loss: 608.8128\n",
      "Epoch 204/500\n",
      "15/15 [==============================] - 0s 8ms/step - loss: 139.8049 - val_loss: 608.8819\n",
      "Epoch 205/500\n",
      "15/15 [==============================] - 0s 8ms/step - loss: 135.9625 - val_loss: 609.0038\n",
      "Epoch 206/500\n",
      "15/15 [==============================] - 0s 7ms/step - loss: 132.2115 - val_loss: 609.1770\n",
      "Epoch 207/500\n",
      "15/15 [==============================] - 0s 7ms/step - loss: 128.5501 - val_loss: 609.4004\n",
      "Epoch 208/500\n",
      "15/15 [==============================] - 0s 6ms/step - loss: 124.9771 - val_loss: 609.6722\n",
      "Epoch 209/500\n",
      "15/15 [==============================] - 0s 7ms/step - loss: 121.4906 - val_loss: 609.9915\n",
      "Epoch 210/500\n",
      "15/15 [==============================] - 0s 6ms/step - loss: 118.0894 - val_loss: 610.3567\n",
      "Epoch 211/500\n",
      "15/15 [==============================] - 0s 6ms/step - loss: 114.7722 - val_loss: 610.7665\n",
      "Epoch 212/500\n",
      "15/15 [==============================] - 0s 6ms/step - loss: 111.5373 - val_loss: 611.2195\n",
      "Epoch 213/500\n",
      "15/15 [==============================] - 0s 6ms/step - loss: 108.3835 - val_loss: 611.7146\n",
      "Epoch 214/500\n",
      "15/15 [==============================] - 0s 7ms/step - loss: 105.3091 - val_loss: 612.2502\n",
      "Epoch 215/500\n",
      "15/15 [==============================] - 0s 6ms/step - loss: 102.3131 - val_loss: 612.8251\n",
      "Epoch 216/500\n",
      "15/15 [==============================] - 0s 6ms/step - loss: 99.3936 - val_loss: 613.4383\n",
      "Epoch 217/500\n",
      "15/15 [==============================] - 0s 6ms/step - loss: 96.5495 - val_loss: 614.0881\n",
      "Epoch 218/500\n",
      "15/15 [==============================] - 0s 5ms/step - loss: 93.7795 - val_loss: 614.7736\n",
      "Epoch 219/500\n",
      "15/15 [==============================] - 0s 6ms/step - loss: 91.0823 - val_loss: 615.4934\n",
      "Epoch 220/500\n",
      "15/15 [==============================] - 0s 6ms/step - loss: 88.4563 - val_loss: 616.2463\n",
      "Epoch 221/500\n",
      "15/15 [==============================] - 0s 6ms/step - loss: 85.9003 - val_loss: 617.0310\n",
      "Epoch 222/500\n",
      "15/15 [==============================] - 0s 6ms/step - loss: 83.4130 - val_loss: 617.8464\n",
      "Epoch 223/500\n",
      "15/15 [==============================] - 0s 6ms/step - loss: 80.9929 - val_loss: 618.6912\n",
      "Epoch 224/500\n",
      "15/15 [==============================] - 0s 5ms/step - loss: 78.6390 - val_loss: 619.5643\n",
      "Epoch 225/500\n",
      "15/15 [==============================] - 0s 6ms/step - loss: 76.3498 - val_loss: 620.4646\n",
      "Epoch 226/500\n",
      "15/15 [==============================] - 0s 7ms/step - loss: 74.1241 - val_loss: 621.3909\n",
      "Epoch 227/500\n",
      "15/15 [==============================] - 0s 14ms/step - loss: 71.9606 - val_loss: 622.3419\n",
      "Epoch 228/500\n",
      "15/15 [==============================] - 0s 7ms/step - loss: 69.8579 - val_loss: 623.3168\n",
      "Epoch 229/500\n",
      "15/15 [==============================] - 0s 7ms/step - loss: 67.8150 - val_loss: 624.3142\n",
      "Epoch 230/500\n",
      "15/15 [==============================] - 0s 6ms/step - loss: 65.8307 - val_loss: 625.3332\n",
      "Epoch 231/500\n",
      "15/15 [==============================] - 0s 6ms/step - loss: 63.9033 - val_loss: 626.3727\n",
      "Epoch 232/500\n",
      "15/15 [==============================] - 0s 6ms/step - loss: 62.0321 - val_loss: 627.4315\n",
      "Epoch 233/500\n",
      "15/15 [==============================] - 0s 6ms/step - loss: 60.2158 - val_loss: 628.5086\n",
      "Epoch 234/500\n",
      "15/15 [==============================] - 0s 6ms/step - loss: 58.4534 - val_loss: 629.6032\n",
      "Epoch 235/500\n",
      "15/15 [==============================] - 0s 7ms/step - loss: 56.7432 - val_loss: 630.7139\n",
      "Epoch 236/500\n",
      "15/15 [==============================] - 0s 7ms/step - loss: 55.0844 - val_loss: 631.8400\n",
      "Epoch 237/500\n",
      "15/15 [==============================] - 0s 8ms/step - loss: 53.4760 - val_loss: 632.9803\n",
      "Epoch 238/500\n",
      "15/15 [==============================] - 0s 7ms/step - loss: 51.9166 - val_loss: 634.1341\n",
      "Epoch 239/500\n",
      "15/15 [==============================] - 0s 8ms/step - loss: 50.4052 - val_loss: 635.3002\n",
      "Epoch 240/500\n",
      "15/15 [==============================] - 0s 9ms/step - loss: 48.9407 - val_loss: 636.4778\n",
      "Epoch 241/500\n",
      "15/15 [==============================] - 0s 8ms/step - loss: 47.5219 - val_loss: 637.6658\n",
      "Epoch 242/500\n",
      "15/15 [==============================] - 0s 7ms/step - loss: 46.1479 - val_loss: 638.8636\n",
      "Epoch 243/500\n",
      "15/15 [==============================] - 0s 7ms/step - loss: 44.8176 - val_loss: 640.0701\n",
      "Epoch 244/500\n",
      "15/15 [==============================] - 0s 6ms/step - loss: 43.5299 - val_loss: 641.2844\n",
      "Epoch 245/500\n",
      "15/15 [==============================] - 0s 7ms/step - loss: 42.2838 - val_loss: 642.5057\n",
      "Epoch 246/500\n",
      "15/15 [==============================] - 0s 7ms/step - loss: 41.0783 - val_loss: 643.7333\n",
      "Epoch 247/500\n",
      "15/15 [==============================] - 0s 7ms/step - loss: 39.9125 - val_loss: 644.9661\n",
      "Epoch 248/500\n",
      "15/15 [==============================] - 0s 15ms/step - loss: 38.7851 - val_loss: 646.2037\n",
      "Epoch 249/500\n",
      "15/15 [==============================] - 0s 8ms/step - loss: 37.6954 - val_loss: 647.4449\n",
      "Epoch 250/500\n",
      "15/15 [==============================] - 0s 7ms/step - loss: 36.6423 - val_loss: 648.6891\n",
      "Epoch 251/500\n",
      "15/15 [==============================] - 0s 7ms/step - loss: 35.6251 - val_loss: 649.9355\n",
      "Epoch 252/500\n",
      "15/15 [==============================] - 0s 8ms/step - loss: 34.6426 - val_loss: 651.1835\n",
      "Epoch 253/500\n",
      "15/15 [==============================] - 0s 8ms/step - loss: 33.6939 - val_loss: 652.4320\n",
      "Epoch 254/500\n",
      "15/15 [==============================] - 0s 7ms/step - loss: 32.7784 - val_loss: 653.6807\n",
      "Epoch 255/500\n",
      "15/15 [==============================] - 0s 7ms/step - loss: 31.8949 - val_loss: 654.9289\n",
      "Epoch 256/500\n",
      "15/15 [==============================] - 0s 7ms/step - loss: 31.0425 - val_loss: 656.1759\n",
      "Epoch 257/500\n",
      "15/15 [==============================] - 0s 7ms/step - loss: 30.2206 - val_loss: 657.4208\n",
      "Epoch 258/500\n",
      "15/15 [==============================] - 0s 8ms/step - loss: 29.4283 - val_loss: 658.6631\n",
      "Epoch 259/500\n",
      "15/15 [==============================] - 0s 8ms/step - loss: 28.6647 - val_loss: 659.9022\n",
      "Epoch 260/500\n",
      "15/15 [==============================] - 0s 8ms/step - loss: 27.9290 - val_loss: 661.1376\n",
      "Epoch 261/500\n",
      "15/15 [==============================] - 0s 8ms/step - loss: 27.2203 - val_loss: 662.3687\n",
      "Epoch 262/500\n",
      "15/15 [==============================] - 0s 10ms/step - loss: 26.5379 - val_loss: 663.5950\n",
      "Epoch 263/500\n",
      "15/15 [==============================] - 0s 10ms/step - loss: 25.8810 - val_loss: 664.8160\n",
      "Epoch 264/500\n",
      "15/15 [==============================] - 0s 13ms/step - loss: 25.2488 - val_loss: 666.0306\n",
      "Epoch 265/500\n",
      "15/15 [==============================] - 0s 15ms/step - loss: 24.6408 - val_loss: 667.2388\n",
      "Epoch 266/500\n",
      "15/15 [==============================] - 0s 8ms/step - loss: 24.0561 - val_loss: 668.4401\n",
      "Epoch 267/500\n",
      "15/15 [==============================] - 0s 9ms/step - loss: 23.4941 - val_loss: 669.6340\n",
      "Epoch 268/500\n",
      "15/15 [==============================] - 0s 8ms/step - loss: 22.9539 - val_loss: 670.8196\n",
      "Epoch 269/500\n",
      "15/15 [==============================] - 0s 8ms/step - loss: 22.4350 - val_loss: 671.9972\n",
      "Epoch 270/500\n",
      "15/15 [==============================] - 0s 8ms/step - loss: 21.9367 - val_loss: 673.1659\n",
      "Epoch 271/500\n",
      "15/15 [==============================] - 0s 8ms/step - loss: 21.4582 - val_loss: 674.3253\n",
      "Epoch 272/500\n",
      "15/15 [==============================] - 0s 8ms/step - loss: 20.9990 - val_loss: 675.4750\n",
      "Epoch 273/500\n",
      "15/15 [==============================] - 0s 8ms/step - loss: 20.5585 - val_loss: 676.6151\n",
      "Epoch 274/500\n",
      "15/15 [==============================] - 0s 8ms/step - loss: 20.1360 - val_loss: 677.7445\n",
      "Epoch 275/500\n",
      "15/15 [==============================] - 0s 8ms/step - loss: 19.7309 - val_loss: 678.8635\n",
      "Epoch 276/500\n",
      "15/15 [==============================] - 0s 8ms/step - loss: 19.3427 - val_loss: 679.9716\n",
      "Epoch 277/500\n",
      "15/15 [==============================] - 0s 8ms/step - loss: 18.9708 - val_loss: 681.0681\n",
      "Epoch 278/500\n",
      "15/15 [==============================] - 0s 7ms/step - loss: 18.6146 - val_loss: 682.1530\n",
      "Epoch 279/500\n",
      "15/15 [==============================] - 0s 7ms/step - loss: 18.2736 - val_loss: 683.2260\n",
      "Epoch 280/500\n",
      "15/15 [==============================] - 0s 8ms/step - loss: 17.9472 - val_loss: 684.2870\n",
      "Epoch 281/500\n",
      "15/15 [==============================] - 0s 8ms/step - loss: 17.6350 - val_loss: 685.3357\n",
      "Epoch 282/500\n",
      "15/15 [==============================] - 0s 7ms/step - loss: 17.3364 - val_loss: 686.3718\n",
      "Epoch 283/500\n",
      "15/15 [==============================] - 0s 8ms/step - loss: 17.0509 - val_loss: 687.3947\n",
      "Epoch 284/500\n",
      "15/15 [==============================] - 0s 8ms/step - loss: 16.7782 - val_loss: 688.4045\n",
      "Epoch 285/500\n",
      "15/15 [==============================] - 0s 8ms/step - loss: 16.5176 - val_loss: 689.4013\n",
      "Epoch 286/500\n",
      "15/15 [==============================] - 0s 12ms/step - loss: 16.2688 - val_loss: 690.3844\n",
      "Epoch 287/500\n",
      "15/15 [==============================] - 0s 7ms/step - loss: 16.0313 - val_loss: 691.3541\n",
      "Epoch 288/500\n",
      "15/15 [==============================] - 0s 6ms/step - loss: 15.8047 - val_loss: 692.3101\n",
      "Epoch 289/500\n",
      "15/15 [==============================] - 0s 6ms/step - loss: 15.5886 - val_loss: 693.2522\n",
      "Epoch 290/500\n",
      "15/15 [==============================] - 0s 6ms/step - loss: 15.3824 - val_loss: 694.1802\n",
      "Epoch 291/500\n",
      "15/15 [==============================] - 0s 7ms/step - loss: 15.1860 - val_loss: 695.0940\n",
      "Epoch 292/500\n",
      "15/15 [==============================] - 0s 7ms/step - loss: 14.9989 - val_loss: 695.9940\n",
      "Epoch 293/500\n",
      "15/15 [==============================] - 0s 7ms/step - loss: 14.8207 - val_loss: 696.8795\n",
      "Epoch 294/500\n",
      "15/15 [==============================] - 0s 7ms/step - loss: 14.6510 - val_loss: 697.7507\n",
      "Epoch 295/500\n",
      "15/15 [==============================] - 0s 8ms/step - loss: 14.4896 - val_loss: 698.6074\n",
      "Epoch 296/500\n",
      "15/15 [==============================] - 0s 7ms/step - loss: 14.3361 - val_loss: 699.4496\n",
      "Epoch 297/500\n",
      "15/15 [==============================] - 0s 7ms/step - loss: 14.1901 - val_loss: 700.2773\n",
      "Epoch 298/500\n",
      "15/15 [==============================] - 0s 7ms/step - loss: 14.0513 - val_loss: 701.0904\n",
      "Epoch 299/500\n",
      "15/15 [==============================] - 0s 6ms/step - loss: 13.9196 - val_loss: 701.8892\n",
      "Epoch 300/500\n",
      "15/15 [==============================] - 0s 6ms/step - loss: 13.7944 - val_loss: 702.6732\n",
      "Epoch 301/500\n",
      "15/15 [==============================] - 0s 6ms/step - loss: 13.6756 - val_loss: 703.4429\n",
      "Epoch 302/500\n",
      "15/15 [==============================] - 0s 6ms/step - loss: 13.5628 - val_loss: 704.1980\n",
      "Epoch 303/500\n",
      "15/15 [==============================] - 0s 6ms/step - loss: 13.4559 - val_loss: 704.9384\n",
      "Epoch 304/500\n",
      "15/15 [==============================] - 0s 6ms/step - loss: 13.3546 - val_loss: 705.6649\n",
      "Epoch 305/500\n",
      "15/15 [==============================] - 0s 16ms/step - loss: 13.2585 - val_loss: 706.3766\n",
      "Epoch 306/500\n",
      "15/15 [==============================] - 0s 8ms/step - loss: 13.1675 - val_loss: 707.0739\n",
      "Epoch 307/500\n",
      "15/15 [==============================] - 0s 7ms/step - loss: 13.0813 - val_loss: 707.7574\n",
      "Epoch 308/500\n",
      "15/15 [==============================] - 0s 6ms/step - loss: 12.9997 - val_loss: 708.4263\n",
      "Epoch 309/500\n",
      "15/15 [==============================] - 0s 6ms/step - loss: 12.9226 - val_loss: 709.0812\n",
      "Epoch 310/500\n",
      "15/15 [==============================] - 0s 7ms/step - loss: 12.8496 - val_loss: 709.7219\n",
      "Epoch 311/500\n",
      "15/15 [==============================] - 0s 6ms/step - loss: 12.7807 - val_loss: 710.3489\n",
      "Epoch 312/500\n",
      "15/15 [==============================] - 0s 6ms/step - loss: 12.7155 - val_loss: 710.9617\n",
      "Epoch 313/500\n",
      "15/15 [==============================] - 0s 7ms/step - loss: 12.6540 - val_loss: 711.5612\n",
      "Epoch 314/500\n",
      "15/15 [==============================] - 0s 6ms/step - loss: 12.5959 - val_loss: 712.1467\n",
      "Epoch 315/500\n",
      "15/15 [==============================] - 0s 7ms/step - loss: 12.5411 - val_loss: 712.7189\n",
      "Epoch 316/500\n",
      "15/15 [==============================] - 0s 6ms/step - loss: 12.4894 - val_loss: 713.2776\n",
      "Epoch 317/500\n",
      "15/15 [==============================] - 0s 5ms/step - loss: 12.4406 - val_loss: 713.8234\n",
      "Epoch 318/500\n",
      "15/15 [==============================] - 0s 5ms/step - loss: 12.3947 - val_loss: 714.3563\n",
      "Epoch 319/500\n",
      "15/15 [==============================] - 0s 5ms/step - loss: 12.3514 - val_loss: 714.8759\n",
      "Epoch 320/500\n",
      "15/15 [==============================] - 0s 5ms/step - loss: 12.3107 - val_loss: 715.3827\n",
      "Epoch 321/500\n",
      "15/15 [==============================] - 0s 5ms/step - loss: 12.2723 - val_loss: 715.8768\n",
      "Epoch 322/500\n",
      "15/15 [==============================] - 0s 5ms/step - loss: 12.2363 - val_loss: 716.3585\n",
      "Epoch 323/500\n",
      "15/15 [==============================] - 0s 5ms/step - loss: 12.2024 - val_loss: 716.8281\n",
      "Epoch 324/500\n",
      "15/15 [==============================] - 0s 5ms/step - loss: 12.1705 - val_loss: 717.2852\n",
      "Epoch 325/500\n",
      "15/15 [==============================] - 0s 6ms/step - loss: 12.1406 - val_loss: 717.7303\n",
      "Epoch 326/500\n",
      "15/15 [==============================] - 0s 5ms/step - loss: 12.1125 - val_loss: 718.1635\n",
      "Epoch 327/500\n",
      "15/15 [==============================] - 0s 12ms/step - loss: 12.0861 - val_loss: 718.5855\n",
      "Epoch 328/500\n",
      "15/15 [==============================] - 0s 7ms/step - loss: 12.0614 - val_loss: 718.9957\n",
      "Epoch 329/500\n",
      "15/15 [==============================] - 0s 6ms/step - loss: 12.0381 - val_loss: 719.3947\n",
      "Epoch 330/500\n",
      "15/15 [==============================] - 0s 6ms/step - loss: 12.0164 - val_loss: 719.7825\n",
      "Epoch 331/500\n",
      "15/15 [==============================] - 0s 6ms/step - loss: 11.9960 - val_loss: 720.1602\n",
      "Epoch 332/500\n",
      "15/15 [==============================] - 0s 6ms/step - loss: 11.9769 - val_loss: 720.5264\n",
      "Epoch 333/500\n",
      "15/15 [==============================] - 0s 6ms/step - loss: 11.9591 - val_loss: 720.8824\n",
      "Epoch 334/500\n",
      "15/15 [==============================] - 0s 6ms/step - loss: 11.9423 - val_loss: 721.2278\n",
      "Epoch 335/500\n",
      "15/15 [==============================] - 0s 6ms/step - loss: 11.9267 - val_loss: 721.5635\n",
      "Epoch 336/500\n",
      "15/15 [==============================] - 0s 7ms/step - loss: 11.9121 - val_loss: 721.8888\n",
      "Epoch 337/500\n",
      "15/15 [==============================] - 0s 7ms/step - loss: 11.8984 - val_loss: 722.2042\n",
      "Epoch 338/500\n",
      "15/15 [==============================] - 0s 7ms/step - loss: 11.8857 - val_loss: 722.5099\n",
      "Epoch 339/500\n",
      "15/15 [==============================] - 0s 7ms/step - loss: 11.8738 - val_loss: 722.8069\n",
      "Epoch 340/500\n",
      "15/15 [==============================] - 0s 10ms/step - loss: 11.8627 - val_loss: 723.0942\n",
      "Epoch 341/500\n",
      "15/15 [==============================] - 0s 9ms/step - loss: 11.8523 - val_loss: 723.3727\n",
      "Epoch 342/500\n",
      "15/15 [==============================] - 0s 8ms/step - loss: 11.8427 - val_loss: 723.6426\n",
      "Epoch 343/500\n",
      "15/15 [==============================] - 0s 8ms/step - loss: 11.8336 - val_loss: 723.9035\n",
      "Epoch 344/500\n",
      "15/15 [==============================] - 0s 9ms/step - loss: 11.8253 - val_loss: 724.1560\n",
      "Epoch 345/500\n",
      "15/15 [==============================] - 0s 7ms/step - loss: 11.8174 - val_loss: 724.4003\n",
      "Epoch 346/500\n",
      "15/15 [==============================] - 0s 7ms/step - loss: 11.8102 - val_loss: 724.6366\n",
      "Epoch 347/500\n",
      "15/15 [==============================] - 0s 6ms/step - loss: 11.8034 - val_loss: 724.8647\n",
      "Epoch 348/500\n",
      "15/15 [==============================] - 0s 13ms/step - loss: 11.7972 - val_loss: 725.0858\n",
      "Epoch 349/500\n",
      "15/15 [==============================] - 0s 6ms/step - loss: 11.7914 - val_loss: 725.2993\n",
      "Epoch 350/500\n",
      "15/15 [==============================] - 0s 6ms/step - loss: 11.7859 - val_loss: 725.5051\n",
      "Epoch 351/500\n",
      "15/15 [==============================] - 0s 6ms/step - loss: 11.7809 - val_loss: 725.7040\n",
      "Epoch 352/500\n",
      "15/15 [==============================] - 0s 6ms/step - loss: 11.7762 - val_loss: 725.8962\n",
      "Epoch 353/500\n",
      "15/15 [==============================] - 0s 5ms/step - loss: 11.7719 - val_loss: 726.0811\n",
      "Epoch 354/500\n",
      "15/15 [==============================] - 0s 6ms/step - loss: 11.7679 - val_loss: 726.2599\n",
      "Epoch 355/500\n",
      "15/15 [==============================] - 0s 8ms/step - loss: 11.7641 - val_loss: 726.4319\n",
      "Epoch 356/500\n",
      "15/15 [==============================] - 0s 9ms/step - loss: 11.7607 - val_loss: 726.5978\n",
      "Epoch 357/500\n",
      "15/15 [==============================] - 0s 8ms/step - loss: 11.7575 - val_loss: 726.7574\n",
      "Epoch 358/500\n",
      "15/15 [==============================] - 0s 8ms/step - loss: 11.7545 - val_loss: 726.9112\n",
      "Epoch 359/500\n",
      "15/15 [==============================] - 0s 9ms/step - loss: 11.7518 - val_loss: 727.0595\n",
      "Epoch 360/500\n",
      "15/15 [==============================] - 0s 17ms/step - loss: 11.7493 - val_loss: 727.2021\n",
      "Epoch 361/500\n",
      "15/15 [==============================] - 0s 8ms/step - loss: 11.7470 - val_loss: 727.3395\n",
      "Epoch 362/500\n",
      "15/15 [==============================] - 0s 7ms/step - loss: 11.7448 - val_loss: 727.4715\n",
      "Epoch 363/500\n",
      "15/15 [==============================] - 0s 9ms/step - loss: 11.7429 - val_loss: 727.5986\n",
      "Epoch 364/500\n",
      "15/15 [==============================] - 0s 8ms/step - loss: 11.7410 - val_loss: 727.7203\n",
      "Epoch 365/500\n",
      "15/15 [==============================] - 0s 7ms/step - loss: 11.7393 - val_loss: 727.8373\n",
      "Epoch 366/500\n",
      "15/15 [==============================] - 0s 7ms/step - loss: 11.7378 - val_loss: 727.9498\n",
      "Epoch 367/500\n",
      "15/15 [==============================] - 0s 8ms/step - loss: 11.7364 - val_loss: 728.0578\n",
      "Epoch 368/500\n",
      "15/15 [==============================] - 0s 10ms/step - loss: 11.7350 - val_loss: 728.1614\n",
      "Epoch 369/500\n",
      "15/15 [==============================] - 0s 18ms/step - loss: 11.7338 - val_loss: 728.2607\n",
      "Epoch 370/500\n",
      "15/15 [==============================] - 0s 13ms/step - loss: 11.7327 - val_loss: 728.3561\n",
      "Epoch 371/500\n",
      "15/15 [==============================] - 0s 9ms/step - loss: 11.7317 - val_loss: 728.4473\n",
      "Epoch 372/500\n",
      "15/15 [==============================] - 0s 9ms/step - loss: 11.7308 - val_loss: 728.5346\n",
      "Epoch 373/500\n",
      "15/15 [==============================] - 0s 8ms/step - loss: 11.7299 - val_loss: 728.6188\n",
      "Epoch 374/500\n",
      "15/15 [==============================] - 0s 9ms/step - loss: 11.7292 - val_loss: 728.6989\n",
      "Epoch 375/500\n",
      "15/15 [==============================] - 0s 10ms/step - loss: 11.7285 - val_loss: 728.7756\n",
      "Epoch 376/500\n",
      "15/15 [==============================] - 0s 9ms/step - loss: 11.7278 - val_loss: 728.8491\n",
      "Epoch 377/500\n",
      "15/15 [==============================] - 0s 9ms/step - loss: 11.7272 - val_loss: 728.9193\n",
      "Epoch 378/500\n",
      "15/15 [==============================] - 0s 7ms/step - loss: 11.7267 - val_loss: 728.9865\n",
      "Epoch 379/500\n",
      "15/15 [==============================] - 0s 8ms/step - loss: 11.7262 - val_loss: 729.0507\n",
      "Epoch 380/500\n",
      "15/15 [==============================] - 0s 14ms/step - loss: 11.7258 - val_loss: 729.1121\n",
      "Epoch 381/500\n",
      "15/15 [==============================] - 0s 9ms/step - loss: 11.7254 - val_loss: 729.1707\n",
      "Epoch 382/500\n",
      "15/15 [==============================] - 0s 7ms/step - loss: 11.7251 - val_loss: 729.2266\n",
      "Epoch 383/500\n",
      "15/15 [==============================] - 0s 8ms/step - loss: 11.7248 - val_loss: 729.2801\n",
      "Epoch 384/500\n",
      "15/15 [==============================] - 0s 9ms/step - loss: 11.7245 - val_loss: 729.3307\n",
      "Epoch 385/500\n",
      "15/15 [==============================] - 0s 9ms/step - loss: 11.7242 - val_loss: 729.3793\n",
      "Epoch 386/500\n",
      "15/15 [==============================] - 0s 9ms/step - loss: 11.7241 - val_loss: 729.4258\n",
      "Epoch 387/500\n",
      "15/15 [==============================] - 0s 7ms/step - loss: 11.7239 - val_loss: 729.4698\n",
      "Epoch 388/500\n",
      "15/15 [==============================] - 0s 8ms/step - loss: 11.7237 - val_loss: 729.5114\n",
      "Epoch 389/500\n",
      "15/15 [==============================] - 0s 9ms/step - loss: 11.7236 - val_loss: 729.5518\n",
      "Epoch 390/500\n",
      "15/15 [==============================] - 0s 9ms/step - loss: 11.7234 - val_loss: 729.5894\n",
      "Epoch 391/500\n",
      "15/15 [==============================] - 0s 7ms/step - loss: 11.7234 - val_loss: 729.6254\n",
      "Epoch 392/500\n",
      "15/15 [==============================] - 0s 7ms/step - loss: 11.7233 - val_loss: 729.6603\n",
      "Epoch 393/500\n",
      "15/15 [==============================] - 0s 7ms/step - loss: 11.7232 - val_loss: 729.6924\n",
      "Epoch 394/500\n",
      "15/15 [==============================] - 0s 7ms/step - loss: 11.7232 - val_loss: 729.7237\n",
      "Epoch 395/500\n",
      "15/15 [==============================] - 0s 6ms/step - loss: 11.7232 - val_loss: 729.7535\n",
      "Epoch 396/500\n",
      "15/15 [==============================] - 0s 16ms/step - loss: 11.7232 - val_loss: 729.7811\n",
      "Epoch 397/500\n",
      "15/15 [==============================] - 0s 8ms/step - loss: 11.7232 - val_loss: 729.8077\n",
      "Epoch 398/500\n",
      "15/15 [==============================] - 0s 9ms/step - loss: 11.7232 - val_loss: 729.8326\n",
      "Epoch 399/500\n",
      "15/15 [==============================] - 0s 10ms/step - loss: 11.7232 - val_loss: 729.8565\n",
      "Epoch 400/500\n",
      "15/15 [==============================] - 0s 9ms/step - loss: 11.7233 - val_loss: 729.8790\n",
      "Epoch 401/500\n",
      "15/15 [==============================] - 0s 8ms/step - loss: 11.7233 - val_loss: 729.9001\n",
      "Epoch 402/500\n",
      "15/15 [==============================] - 0s 9ms/step - loss: 11.7234 - val_loss: 729.9202\n",
      "Epoch 403/500\n",
      "15/15 [==============================] - 0s 9ms/step - loss: 11.7235 - val_loss: 729.9395\n",
      "Epoch 404/500\n",
      "15/15 [==============================] - 0s 8ms/step - loss: 11.7236 - val_loss: 729.9573\n",
      "Epoch 405/500\n",
      "15/15 [==============================] - 0s 6ms/step - loss: 11.7236 - val_loss: 729.9744\n",
      "Epoch 406/500\n",
      "15/15 [==============================] - 0s 8ms/step - loss: 11.7237 - val_loss: 729.9902\n",
      "Epoch 407/500\n",
      "15/15 [==============================] - 0s 9ms/step - loss: 11.7238 - val_loss: 730.0051\n",
      "Epoch 408/500\n",
      "15/15 [==============================] - 0s 8ms/step - loss: 11.7240 - val_loss: 730.0197\n",
      "Epoch 409/500\n",
      "15/15 [==============================] - 0s 7ms/step - loss: 11.7240 - val_loss: 730.0330\n",
      "Epoch 410/500\n",
      "15/15 [==============================] - 0s 6ms/step - loss: 11.7242 - val_loss: 730.0457\n",
      "Epoch 411/500\n",
      "15/15 [==============================] - 0s 6ms/step - loss: 11.7243 - val_loss: 730.0574\n",
      "Epoch 412/500\n",
      "15/15 [==============================] - 0s 6ms/step - loss: 11.7245 - val_loss: 730.0687\n",
      "Epoch 413/500\n",
      "15/15 [==============================] - 0s 6ms/step - loss: 11.7246 - val_loss: 730.0790\n",
      "Epoch 414/500\n",
      "15/15 [==============================] - 0s 6ms/step - loss: 11.7247 - val_loss: 730.0892\n",
      "Epoch 415/500\n",
      "15/15 [==============================] - 0s 6ms/step - loss: 11.7249 - val_loss: 730.0983\n",
      "Epoch 416/500\n",
      "15/15 [==============================] - 0s 6ms/step - loss: 11.7250 - val_loss: 730.1073\n",
      "Epoch 417/500\n",
      "15/15 [==============================] - 0s 5ms/step - loss: 11.7252 - val_loss: 730.1154\n",
      "Epoch 418/500\n",
      "15/15 [==============================] - 0s 5ms/step - loss: 11.7254 - val_loss: 730.1229\n",
      "Epoch 419/500\n",
      "15/15 [==============================] - 0s 6ms/step - loss: 11.7255 - val_loss: 730.1303\n",
      "Epoch 420/500\n",
      "15/15 [==============================] - 0s 6ms/step - loss: 11.7257 - val_loss: 730.1367\n",
      "Epoch 421/500\n",
      "15/15 [==============================] - 0s 6ms/step - loss: 11.7259 - val_loss: 730.1430\n",
      "Epoch 422/500\n",
      "15/15 [==============================] - 0s 5ms/step - loss: 11.7260 - val_loss: 730.1488\n",
      "Epoch 423/500\n",
      "15/15 [==============================] - 0s 5ms/step - loss: 11.7262 - val_loss: 730.1544\n",
      "Epoch 424/500\n",
      "15/15 [==============================] - 0s 5ms/step - loss: 11.7264 - val_loss: 730.1591\n",
      "Epoch 425/500\n",
      "15/15 [==============================] - 0s 5ms/step - loss: 11.7266 - val_loss: 730.1638\n",
      "Epoch 426/500\n",
      "15/15 [==============================] - 0s 7ms/step - loss: 11.7267 - val_loss: 730.1681\n",
      "Epoch 427/500\n",
      "15/15 [==============================] - 0s 7ms/step - loss: 11.7269 - val_loss: 730.1722\n",
      "Epoch 428/500\n",
      "15/15 [==============================] - 0s 6ms/step - loss: 11.7271 - val_loss: 730.1758\n",
      "Epoch 429/500\n",
      "15/15 [==============================] - 0s 6ms/step - loss: 11.7273 - val_loss: 730.1794\n",
      "Epoch 430/500\n",
      "15/15 [==============================] - 0s 5ms/step - loss: 11.7275 - val_loss: 730.1824\n",
      "Epoch 431/500\n",
      "15/15 [==============================] - 0s 6ms/step - loss: 11.7277 - val_loss: 730.1857\n",
      "Epoch 432/500\n",
      "15/15 [==============================] - 0s 6ms/step - loss: 11.7279 - val_loss: 730.1880\n",
      "Epoch 433/500\n",
      "15/15 [==============================] - 0s 5ms/step - loss: 11.7281 - val_loss: 730.1905\n",
      "Epoch 434/500\n",
      "15/15 [==============================] - 0s 5ms/step - loss: 11.7283 - val_loss: 730.1927\n",
      "Epoch 435/500\n",
      "15/15 [==============================] - 0s 5ms/step - loss: 11.7285 - val_loss: 730.1951\n",
      "Epoch 436/500\n",
      "15/15 [==============================] - 0s 5ms/step - loss: 11.7287 - val_loss: 730.1970\n",
      "Epoch 437/500\n",
      "15/15 [==============================] - 0s 5ms/step - loss: 11.7289 - val_loss: 730.1989\n",
      "Epoch 438/500\n",
      "15/15 [==============================] - 0s 13ms/step - loss: 11.7291 - val_loss: 730.2003\n",
      "Epoch 439/500\n",
      "15/15 [==============================] - 0s 6ms/step - loss: 11.7293 - val_loss: 730.2020\n",
      "Epoch 440/500\n",
      "15/15 [==============================] - 0s 6ms/step - loss: 11.7295 - val_loss: 730.2031\n",
      "Epoch 441/500\n",
      "15/15 [==============================] - 0s 6ms/step - loss: 11.7297 - val_loss: 730.2044\n",
      "Epoch 442/500\n",
      "15/15 [==============================] - 0s 6ms/step - loss: 11.7299 - val_loss: 730.2052\n",
      "Epoch 443/500\n",
      "15/15 [==============================] - 0s 6ms/step - loss: 11.7301 - val_loss: 730.2061\n",
      "Epoch 444/500\n",
      "15/15 [==============================] - 0s 5ms/step - loss: 11.7303 - val_loss: 730.2073\n",
      "Epoch 445/500\n",
      "15/15 [==============================] - 0s 5ms/step - loss: 11.7305 - val_loss: 730.2078\n",
      "Epoch 446/500\n",
      "15/15 [==============================] - 0s 6ms/step - loss: 11.7308 - val_loss: 730.2084\n",
      "Epoch 447/500\n",
      "15/15 [==============================] - 0s 6ms/step - loss: 11.7310 - val_loss: 730.2089\n",
      "Epoch 448/500\n",
      "15/15 [==============================] - 0s 5ms/step - loss: 11.7312 - val_loss: 730.2095\n",
      "Epoch 449/500\n",
      "15/15 [==============================] - 0s 5ms/step - loss: 11.7314 - val_loss: 730.2098\n",
      "Epoch 450/500\n",
      "15/15 [==============================] - 0s 5ms/step - loss: 11.7316 - val_loss: 730.2099\n",
      "Epoch 451/500\n",
      "15/15 [==============================] - 0s 5ms/step - loss: 11.7318 - val_loss: 730.2101\n",
      "Epoch 452/500\n",
      "15/15 [==============================] - 0s 5ms/step - loss: 11.7320 - val_loss: 730.2103\n",
      "Epoch 453/500\n",
      "15/15 [==============================] - 0s 5ms/step - loss: 11.7322 - val_loss: 730.2103\n",
      "Epoch 454/500\n",
      "15/15 [==============================] - 0s 5ms/step - loss: 11.7324 - val_loss: 730.2104\n",
      "Epoch 455/500\n",
      "15/15 [==============================] - 0s 6ms/step - loss: 11.7326 - val_loss: 730.2104\n",
      "Epoch 456/500\n",
      "15/15 [==============================] - 0s 6ms/step - loss: 11.7329 - val_loss: 730.2103\n",
      "Epoch 457/500\n",
      "15/15 [==============================] - 0s 5ms/step - loss: 11.7331 - val_loss: 730.2103\n",
      "Epoch 458/500\n",
      "15/15 [==============================] - 0s 5ms/step - loss: 11.7333 - val_loss: 730.2101\n",
      "Epoch 459/500\n",
      "15/15 [==============================] - 0s 5ms/step - loss: 11.7335 - val_loss: 730.2097\n",
      "Epoch 460/500\n",
      "15/15 [==============================] - 0s 5ms/step - loss: 11.7337 - val_loss: 730.2093\n",
      "Epoch 461/500\n",
      "15/15 [==============================] - 0s 5ms/step - loss: 11.7339 - val_loss: 730.2089\n",
      "Epoch 462/500\n",
      "15/15 [==============================] - 0s 5ms/step - loss: 11.7341 - val_loss: 730.2086\n",
      "Epoch 463/500\n",
      "15/15 [==============================] - 0s 5ms/step - loss: 11.7343 - val_loss: 730.2080\n",
      "Epoch 464/500\n",
      "15/15 [==============================] - 0s 5ms/step - loss: 11.7345 - val_loss: 730.2078\n",
      "Epoch 465/500\n",
      "15/15 [==============================] - 0s 5ms/step - loss: 11.7348 - val_loss: 730.2073\n",
      "Epoch 466/500\n",
      "15/15 [==============================] - 0s 5ms/step - loss: 11.7350 - val_loss: 730.2064\n",
      "Epoch 467/500\n",
      "15/15 [==============================] - 0s 5ms/step - loss: 11.7352 - val_loss: 730.2061\n",
      "Epoch 468/500\n",
      "15/15 [==============================] - 0s 6ms/step - loss: 11.7354 - val_loss: 730.2053\n",
      "Epoch 469/500\n",
      "15/15 [==============================] - 0s 5ms/step - loss: 11.7356 - val_loss: 730.2050\n",
      "Epoch 470/500\n",
      "15/15 [==============================] - 0s 5ms/step - loss: 11.7358 - val_loss: 730.2048\n",
      "Epoch 471/500\n",
      "15/15 [==============================] - 0s 5ms/step - loss: 11.7360 - val_loss: 730.2042\n",
      "Epoch 472/500\n",
      "15/15 [==============================] - 0s 5ms/step - loss: 11.7362 - val_loss: 730.2037\n",
      "Epoch 473/500\n",
      "15/15 [==============================] - 0s 5ms/step - loss: 11.7364 - val_loss: 730.2031\n",
      "Epoch 474/500\n",
      "15/15 [==============================] - 0s 5ms/step - loss: 11.7367 - val_loss: 730.2025\n",
      "Epoch 475/500\n",
      "15/15 [==============================] - 0s 12ms/step - loss: 11.7369 - val_loss: 730.2020\n",
      "Epoch 476/500\n",
      "15/15 [==============================] - 0s 6ms/step - loss: 11.7371 - val_loss: 730.2012\n",
      "Epoch 477/500\n",
      "15/15 [==============================] - 0s 6ms/step - loss: 11.7373 - val_loss: 730.2008\n",
      "Epoch 478/500\n",
      "15/15 [==============================] - 0s 6ms/step - loss: 11.7375 - val_loss: 730.2001\n",
      "Epoch 479/500\n",
      "15/15 [==============================] - 0s 6ms/step - loss: 11.7377 - val_loss: 730.1992\n",
      "Epoch 480/500\n",
      "15/15 [==============================] - 0s 6ms/step - loss: 11.7379 - val_loss: 730.1990\n",
      "Epoch 481/500\n",
      "15/15 [==============================] - 0s 6ms/step - loss: 11.7381 - val_loss: 730.1984\n",
      "Epoch 482/500\n",
      "15/15 [==============================] - 0s 5ms/step - loss: 11.7383 - val_loss: 730.1976\n",
      "Epoch 483/500\n",
      "15/15 [==============================] - 0s 5ms/step - loss: 11.7385 - val_loss: 730.1974\n",
      "Epoch 484/500\n",
      "15/15 [==============================] - 0s 5ms/step - loss: 11.7388 - val_loss: 730.1970\n",
      "Epoch 485/500\n",
      "15/15 [==============================] - 0s 5ms/step - loss: 11.7390 - val_loss: 730.1961\n",
      "Epoch 486/500\n",
      "15/15 [==============================] - 0s 5ms/step - loss: 11.7392 - val_loss: 730.1957\n",
      "Epoch 487/500\n",
      "15/15 [==============================] - 0s 6ms/step - loss: 11.7394 - val_loss: 730.1952\n",
      "Epoch 488/500\n",
      "15/15 [==============================] - 0s 5ms/step - loss: 11.7395 - val_loss: 730.1943\n",
      "Epoch 489/500\n",
      "15/15 [==============================] - 0s 5ms/step - loss: 11.7397 - val_loss: 730.1939\n",
      "Epoch 490/500\n",
      "15/15 [==============================] - 0s 5ms/step - loss: 11.7399 - val_loss: 730.1931\n",
      "Epoch 491/500\n",
      "15/15 [==============================] - 0s 5ms/step - loss: 11.7402 - val_loss: 730.1927\n",
      "Epoch 492/500\n",
      "15/15 [==============================] - 0s 6ms/step - loss: 11.7403 - val_loss: 730.1917\n",
      "Epoch 493/500\n",
      "15/15 [==============================] - 0s 6ms/step - loss: 11.7405 - val_loss: 730.1911\n",
      "Epoch 494/500\n",
      "15/15 [==============================] - 0s 6ms/step - loss: 11.7408 - val_loss: 730.1905\n",
      "Epoch 495/500\n",
      "15/15 [==============================] - 0s 5ms/step - loss: 11.7409 - val_loss: 730.1898\n",
      "Epoch 496/500\n",
      "15/15 [==============================] - 0s 5ms/step - loss: 11.7411 - val_loss: 730.1891\n",
      "Epoch 497/500\n",
      "15/15 [==============================] - 0s 5ms/step - loss: 11.7413 - val_loss: 730.1882\n",
      "Epoch 498/500\n",
      "15/15 [==============================] - 0s 5ms/step - loss: 11.7415 - val_loss: 730.1874\n",
      "Epoch 499/500\n",
      "15/15 [==============================] - 0s 12ms/step - loss: 11.7417 - val_loss: 730.1871\n",
      "Epoch 500/500\n",
      "15/15 [==============================] - 0s 6ms/step - loss: 11.7419 - val_loss: 730.1868\n"
     ]
    }
   ],
   "source": [
    "C0 = tf.Variable(86.6856, name=\"C0\", trainable=True, dtype=tf.float32)\n",
    "K0 = tf.Variable(-0.0008, name=\"K0\", trainable=True, dtype=tf.float32)\n",
    "K1 = tf.Variable(-0.0002, name=\"K1\", trainable=True, dtype=tf.float32)\n",
    "a = tf.Variable(0.0000, name=\"a\", trainable=True, dtype=tf.float32)\n",
    "b = tf.Variable(0.0128, name=\"b\", trainable=True, dtype=tf.float32)\n",
    "c = tf.Variable(-2.3003, name=\"c\", trainable=True, dtype=tf.float32)\n",
    "\n",
    "splitr = 0.8\n",
    "\n",
    "\n",
    "def loss_fn(y_true, y_pred):\n",
    "    squared_difference = tf.square(y_true[:, 0] - y_pred[:, 0])\n",
    "    #squared_difference2 = tf.square(y_true[:, 2]-y_pred[:, 2])\n",
    "    #squared_difference1 = tf.square(y_true[:, 1]-y_pred[:, 1])\n",
    "    epsilon = 1\n",
    "    squared_difference3 = tf.square(\n",
    "        y_pred[:, 1] - (\n",
    "            y_pred[:, 0] * (\n",
    "                K0 - K1 * (\n",
    "                    9 * a * tf.math.log((y_pred[:, 0] + epsilon) / C0) / (K0 - K1 * c)**2 +\n",
    "                    4 * b * tf.math.log((y_pred[:, 0] + epsilon) / C0) / (K0 - K1 * c) + c\n",
    "                )\n",
    "            )\n",
    "        )\n",
    "    )\n",
    "    return tf.reduce_mean(squared_difference, axis=-1) + 0.2*tf.reduce_mean(squared_difference3, axis=-1)\n",
    "model = Sequential()\n",
    "model.add(LSTM(100, input_shape=(trainX.shape[1], trainX.shape[2])))\n",
    "model.add(Dense(60))\n",
    "model.compile(loss=loss_fn, optimizer='adam')\n",
    "history = model.fit(trainX[:int(splitr*trainX.shape[0])], trainy[:int(splitr*trainX.shape[0])], epochs=500, batch_size=64, validation_data=(trainX[int(splitr*trainX.shape[0]):trainX.shape[0]], trainy[int(splitr*trainX.shape[0]):trainX.shape[0]]), shuffle=False)"
   ]
  },
  {
   "cell_type": "code",
   "execution_count": 19,
   "metadata": {
    "colab": {
     "base_uri": "https://localhost:8080/"
    },
    "id": "yJL101rPyuoT",
    "outputId": "239ff2b1-c186-423a-d316-939dfdd7c793"
   },
   "outputs": [
    {
     "name": "stdout",
     "output_type": "stream",
     "text": [
      "1/1 [==============================] - 0s 453ms/step\n"
     ]
    }
   ],
   "source": [
    "forecast_without_mc = forecastX\n",
    "yhat_without_mc = model.predict(forecast_without_mc) # Step Ahead Prediction\n",
    "forecast_without_mc = forecast_without_mc.reshape((forecast_without_mc.shape[0], forecast_without_mc.shape[2])) # Historical Input"
   ]
  },
  {
   "cell_type": "code",
   "execution_count": 20,
   "metadata": {
    "colab": {
     "base_uri": "https://localhost:8080/"
    },
    "id": "g9dQELcJ8wbp",
    "outputId": "4dc7671b-b1a8-48d5-8744-a86f98446109"
   },
   "outputs": [
    {
     "data": {
      "text/plain": [
       "(1, 1, 251)"
      ]
     },
     "execution_count": 20,
     "metadata": {},
     "output_type": "execute_result"
    }
   ],
   "source": [
    "forecastX.shape"
   ]
  },
  {
   "cell_type": "code",
   "execution_count": 21,
   "metadata": {
    "colab": {
     "base_uri": "https://localhost:8080/"
    },
    "id": "IS2kyIKG1Kbr",
    "outputId": "f31b3485-8e26-452f-9298-ea8bf7e80ad1"
   },
   "outputs": [
    {
     "data": {
      "text/plain": [
       "(1, 251)"
      ]
     },
     "execution_count": 21,
     "metadata": {},
     "output_type": "execute_result"
    }
   ],
   "source": [
    "forecast_without_mc.shape"
   ]
  },
  {
   "cell_type": "code",
   "execution_count": 22,
   "metadata": {
    "id": "0u6VIzaDyuoT"
   },
   "outputs": [],
   "source": [
    "inv_yhat_without_mc = np.concatenate((forecast_without_mc, yhat_without_mc), axis=1) # Concatenation of predicted values with Historical Data\n",
    "#inv_yhat_without_mc = scaler.inverse_transform(inv_yhat_without_mc) # Transform labels back to original encoding"
   ]
  },
  {
   "cell_type": "code",
   "execution_count": 23,
   "metadata": {
    "colab": {
     "base_uri": "https://localhost:8080/"
    },
    "id": "EUEcw0LX07oU",
    "outputId": "cfc32397-9c37-4b43-d087-584bb31c3dcc"
   },
   "outputs": [
    {
     "data": {
      "text/plain": [
       "(1, 311)"
      ]
     },
     "execution_count": 23,
     "metadata": {},
     "output_type": "execute_result"
    }
   ],
   "source": [
    "inv_yhat_without_mc.shape"
   ]
  },
  {
   "cell_type": "code",
   "execution_count": 24,
   "metadata": {
    "id": "31OWVbSh_305"
   },
   "outputs": [],
   "source": [
    "fforecast = inv_yhat_without_mc[:,-300:]"
   ]
  },
  {
   "cell_type": "code",
   "execution_count": 25,
   "metadata": {},
   "outputs": [
    {
     "data": {
      "text/plain": [
       "(1, 300)"
      ]
     },
     "execution_count": 25,
     "metadata": {},
     "output_type": "execute_result"
    }
   ],
   "source": [
    "fforecast.shape"
   ]
  },
  {
   "cell_type": "code",
   "execution_count": 26,
   "metadata": {
    "id": "BlpGH2FOAiRF"
   },
   "outputs": [],
   "source": [
    "final_forecast = fforecast[:,0:300:3]"
   ]
  },
  {
   "cell_type": "code",
   "execution_count": 27,
   "metadata": {},
   "outputs": [
    {
     "data": {
      "text/plain": [
       "(1, 300)"
      ]
     },
     "execution_count": 27,
     "metadata": {},
     "output_type": "execute_result"
    }
   ],
   "source": [
    "fforecast.shape"
   ]
  },
  {
   "cell_type": "code",
   "execution_count": 28,
   "metadata": {
    "id": "CXkgkj_LBk_t"
   },
   "outputs": [],
   "source": [
    "# code to replace all negative value with 0\n",
    "final_forecast[final_forecast<0] = 0"
   ]
  },
  {
   "cell_type": "code",
   "execution_count": 29,
   "metadata": {},
   "outputs": [
    {
     "data": {
      "text/plain": [
       "array([[7.02828431e+01, 7.02744398e+01, 7.02660364e+01, 7.02576330e+01,\n",
       "        7.02492297e+01, 7.02408263e+01, 7.02324230e+01, 7.02240196e+01,\n",
       "        7.02156162e+01, 7.02072129e+01, 7.01988095e+01, 7.01904062e+01,\n",
       "        7.01820028e+01, 7.43443044e+01, 7.42602708e+01, 7.41762372e+01,\n",
       "        7.40922035e+01, 7.40081699e+01, 7.38862045e+01, 7.37601541e+01,\n",
       "        7.36341036e+01, 7.35080532e+01, 7.33820028e+01, 7.32559524e+01,\n",
       "        7.31299020e+01, 7.30038515e+01, 7.28778011e+01, 7.27517507e+01,\n",
       "        7.26257003e+01, 7.24995798e+01, 7.23483193e+01, 7.21970588e+01,\n",
       "        7.20457983e+01, 7.18945378e+01, 7.17432773e+01, 7.15920168e+01,\n",
       "        7.14407563e+01, 7.12894958e+01, 7.11382353e+01, 7.09869748e+01,\n",
       "        4.20791447e-01, 1.00360058e-01, 0.00000000e+00, 6.41931440e-02,\n",
       "        0.00000000e+00, 6.39821112e-01, 2.46869147e-01, 7.30318628e+01,\n",
       "        7.29058123e+01, 7.27797619e+01, 7.26537115e+01, 7.25276611e+01,\n",
       "        7.23819328e+01, 7.22306723e+01, 7.20794118e+01, 7.19281513e+01,\n",
       "        7.17768908e+01, 7.16256303e+01, 7.14743697e+01, 7.13231092e+01,\n",
       "        7.11718487e+01, 7.10205882e+01, 7.08693277e+01, 7.07180672e+01,\n",
       "        7.06778011e+01, 7.06525910e+01, 7.06273810e+01, 7.06021709e+01,\n",
       "        7.05769608e+01, 7.05517507e+01, 7.05265406e+01, 7.05013305e+01,\n",
       "        7.04761204e+01, 7.62993622e+01, 6.53601830e-01, 8.41440100e-02,\n",
       "        3.12900250e-01, 1.33408070e-01, 0.00000000e+00, 2.45064540e-01,\n",
       "        6.51591797e+01, 4.50676084e-01, 0.00000000e+00, 7.42013678e-02,\n",
       "        5.84851563e-01, 0.00000000e+00, 3.12022328e-01, 0.00000000e+00,\n",
       "        4.43458825e-01, 0.00000000e+00, 7.85947621e-01, 1.37494779e+00,\n",
       "        0.00000000e+00, 0.00000000e+00, 2.42258273e-02, 4.34099138e-02,\n",
       "        0.00000000e+00, 4.99962062e-01, 0.00000000e+00, 0.00000000e+00]])"
      ]
     },
     "execution_count": 29,
     "metadata": {},
     "output_type": "execute_result"
    }
   ],
   "source": [
    "final_forecast"
   ]
  },
  {
   "cell_type": "code",
   "execution_count": 30,
   "metadata": {},
   "outputs": [
    {
     "data": {
      "text/plain": [
       "(1, 100)"
      ]
     },
     "execution_count": 30,
     "metadata": {},
     "output_type": "execute_result"
    }
   ],
   "source": [
    "final_forecast.shape"
   ]
  },
  {
   "cell_type": "code",
   "execution_count": 31,
   "metadata": {},
   "outputs": [
    {
     "data": {
      "text/plain": [
       "(100,)"
      ]
     },
     "execution_count": 31,
     "metadata": {},
     "output_type": "execute_result"
    }
   ],
   "source": [
    "test.shape"
   ]
  },
  {
   "cell_type": "code",
   "execution_count": 32,
   "metadata": {},
   "outputs": [],
   "source": [
    "training_set = np.array(training_set)\n",
    "test = np.array(test)\n",
    "final_forecast = np.array(final_forecast.squeeze(0))"
   ]
  },
  {
   "cell_type": "code",
   "execution_count": 33,
   "metadata": {},
   "outputs": [
    {
     "data": {
      "text/plain": [
       "array([66.17686975, 66.16631886, 66.15576797, 66.14521709, 66.1346662 ,\n",
       "       66.12411531, 66.11356443, 66.10301354, 66.09246265, 66.08191176,\n",
       "       66.07136088, 66.06080999, 66.0502591 , 66.03970822, 66.02915733,\n",
       "       66.01860644, 66.00805556, 65.99750467, 65.98695378, 65.97640289,\n",
       "       65.96585201, 65.95530112, 65.94475023, 65.93419935, 65.92364846,\n",
       "       65.91309757, 65.90254669, 65.8919958 , 65.88144491, 65.87089402,\n",
       "       65.86034314, 65.84979225, 65.83924136, 65.82869048, 65.81813959,\n",
       "       65.8075887 , 65.79703782, 65.78648693, 65.77593604, 65.76538515,\n",
       "       65.75483427, 65.74428338, 65.73373249, 65.72318161, 65.71263072,\n",
       "       65.70207983, 65.69152894, 65.68097806, 65.67042717, 65.65987628,\n",
       "       65.6493254 , 65.63877451, 65.62822362, 65.61767274, 65.60712185,\n",
       "       65.59726891, 65.58886555, 65.58046218, 65.57205882, 65.56365546,\n",
       "       65.5552521 , 65.54684874, 65.53844538, 65.53004202, 65.52163866,\n",
       "       65.51323529, 65.50483193, 65.49642857, 65.48802521, 65.47962185,\n",
       "       65.47121849, 65.46281513, 65.45441176, 65.4460084 , 65.43760504,\n",
       "       65.42920168, 65.42079832, 65.41239496, 65.4039916 , 65.39558824,\n",
       "       65.38718487, 65.37878151, 65.37037815, 65.36197479, 65.35357143,\n",
       "       65.34516807, 65.33676471, 65.32836134, 65.31995798, 65.31155462,\n",
       "       65.30315126, 65.2947479 , 65.28634454, 65.27794118, 65.26953782,\n",
       "       65.26113445, 65.25273109, 65.24432773, 65.23592437, 65.22752101])"
      ]
     },
     "execution_count": 33,
     "metadata": {},
     "output_type": "execute_result"
    }
   ],
   "source": [
    "test"
   ]
  },
  {
   "cell_type": "code",
   "execution_count": 34,
   "metadata": {},
   "outputs": [
    {
     "data": {
      "text/plain": [
       "(100,)"
      ]
     },
     "execution_count": 34,
     "metadata": {},
     "output_type": "execute_result"
    }
   ],
   "source": [
    "test.shape"
   ]
  },
  {
   "cell_type": "code",
   "execution_count": 35,
   "metadata": {},
   "outputs": [
    {
     "data": {
      "text/plain": [
       "(100,)"
      ]
     },
     "execution_count": 35,
     "metadata": {},
     "output_type": "execute_result"
    }
   ],
   "source": [
    "final_forecast.shape"
   ]
  },
  {
   "cell_type": "code",
   "execution_count": 36,
   "metadata": {},
   "outputs": [
    {
     "data": {
      "text/plain": [
       "(100,)"
      ]
     },
     "execution_count": 36,
     "metadata": {},
     "output_type": "execute_result"
    }
   ],
   "source": [
    "test.shape"
   ]
  },
  {
   "cell_type": "code",
   "execution_count": 37,
   "metadata": {},
   "outputs": [
    {
     "name": "stdout",
     "output_type": "stream",
     "text": [
      "37.219759608264184\n",
      "24.900312707565078\n"
     ]
    }
   ],
   "source": [
    "import math\n",
    "MSE = np.square(np.subtract(np.array(test),np.array(final_forecast))).mean()   \n",
    "rsme = math.sqrt(MSE)\n",
    "print(rsme)  \n",
    "MAE = np.abs(np.subtract(np.array(test),np.array(final_forecast))).mean()   \n",
    "mae = MAE\n",
    "print(mae)"
   ]
  }
 ],
 "metadata": {
  "colab": {
   "provenance": []
  },
  "kernelspec": {
   "display_name": "Python 3",
   "language": "python",
   "name": "python3"
  },
  "language_info": {
   "codemirror_mode": {
    "name": "ipython",
    "version": 3
   },
   "file_extension": ".py",
   "mimetype": "text/x-python",
   "name": "python",
   "nbconvert_exporter": "python",
   "pygments_lexer": "ipython3",
   "version": "3.9.13"
  }
 },
 "nbformat": 4,
 "nbformat_minor": 0
}
