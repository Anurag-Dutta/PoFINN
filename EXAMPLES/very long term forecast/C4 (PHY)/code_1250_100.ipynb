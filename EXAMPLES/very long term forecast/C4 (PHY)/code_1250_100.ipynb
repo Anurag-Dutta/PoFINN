{
 "cells": [
  {
   "cell_type": "markdown",
   "metadata": {
    "id": "pCGKeZ2gyuoQ"
   },
   "source": [
    "_Importing Required Libraries_"
   ]
  },
  {
   "cell_type": "code",
   "execution_count": 1,
   "metadata": {
    "colab": {
     "base_uri": "https://localhost:8080/"
    },
    "id": "A-6LN-zXiLcM",
    "outputId": "4de610a4-f8b8-4f49-c6c0-89de299ccedc"
   },
   "outputs": [
    {
     "name": "stdout",
     "output_type": "stream",
     "text": [
      "Requirement already satisfied: hampel in c:\\users\\anurag dutta\\appdata\\local\\packages\\pythonsoftwarefoundation.python.3.9_qbz5n2kfra8p0\\localcache\\local-packages\\python39\\site-packages (0.0.5)\n",
      "Requirement already satisfied: numpy in c:\\users\\anurag dutta\\appdata\\local\\packages\\pythonsoftwarefoundation.python.3.9_qbz5n2kfra8p0\\localcache\\local-packages\\python39\\site-packages (from hampel) (1.26.4)\n",
      "Requirement already satisfied: pandas in c:\\users\\anurag dutta\\appdata\\local\\packages\\pythonsoftwarefoundation.python.3.9_qbz5n2kfra8p0\\localcache\\local-packages\\python39\\site-packages (from hampel) (1.5.2)\n",
      "Requirement already satisfied: python-dateutil>=2.8.1 in c:\\users\\anurag dutta\\appdata\\local\\packages\\pythonsoftwarefoundation.python.3.9_qbz5n2kfra8p0\\localcache\\local-packages\\python39\\site-packages (from pandas->hampel) (2.8.2)\n",
      "Requirement already satisfied: pytz>=2020.1 in c:\\users\\anurag dutta\\appdata\\local\\packages\\pythonsoftwarefoundation.python.3.9_qbz5n2kfra8p0\\localcache\\local-packages\\python39\\site-packages (from pandas->hampel) (2023.3.post1)\n",
      "Requirement already satisfied: six>=1.5 in c:\\users\\anurag dutta\\appdata\\local\\packages\\pythonsoftwarefoundation.python.3.9_qbz5n2kfra8p0\\localcache\\local-packages\\python39\\site-packages (from python-dateutil>=2.8.1->pandas->hampel) (1.16.0)\n",
      "Note: you may need to restart the kernel to use updated packages.\n"
     ]
    },
    {
     "name": "stderr",
     "output_type": "stream",
     "text": [
      "\n",
      "[notice] A new release of pip is available: 24.2 -> 24.3.1\n",
      "[notice] To update, run: C:\\Users\\Anurag Dutta\\AppData\\Local\\Microsoft\\WindowsApps\\PythonSoftwareFoundation.Python.3.9_qbz5n2kfra8p0\\python.exe -m pip install --upgrade pip\n"
     ]
    }
   ],
   "source": [
    "pip install hampel"
   ]
  },
  {
   "cell_type": "code",
   "execution_count": 2,
   "metadata": {
    "id": "By_d9uXpaFvZ"
   },
   "outputs": [],
   "source": [
    "from keras.models import Sequential\n",
    "from keras.layers import Dense\n",
    "from keras.layers import LSTM\n",
    "from keras.layers import Dropout\n",
    "import keras\n",
    "import tensorflow as tf\n",
    "from hampel import hampel\n",
    "import numpy as np\n",
    "import matplotlib.pyplot as plt\n",
    "import pandas as pd\n",
    "from sklearn.preprocessing import MinMaxScaler\n",
    "from sklearn.metrics import mean_squared_error, mean_absolute_error\n",
    "from math import sqrt\n",
    "from matplotlib import pyplot\n",
    "from numpy import array"
   ]
  },
  {
   "cell_type": "markdown",
   "metadata": {
    "id": "JyOjBMFayuoR"
   },
   "source": [
    "## Pretraining"
   ]
  },
  {
   "cell_type": "markdown",
   "metadata": {
    "id": "-5QqIY_GyuoR"
   },
   "source": [
    "The `capa_intermittency.dat` feeds the model with the dynamics of the Capacitor"
   ]
  },
  {
   "cell_type": "code",
   "execution_count": 3,
   "metadata": {
    "id": "9dV4a8yfyuoR"
   },
   "outputs": [],
   "source": [
    "data = np.genfromtxt('capa_intermittency.dat')\n",
    "training_set = pd.DataFrame(data).reset_index(drop=True)\n",
    "training_set = training_set.iloc[:,0]"
   ]
  },
  {
   "cell_type": "markdown",
   "metadata": {
    "id": "i7easoxByuoR"
   },
   "source": [
    "## Computing the Gradient"
   ]
  },
  {
   "cell_type": "markdown",
   "metadata": {
    "id": "5SnyolJTyuoR"
   },
   "source": [
    "_Calculating the value of_ $\\frac{dx}{dt}$"
   ]
  },
  {
   "cell_type": "code",
   "execution_count": 4,
   "metadata": {
    "colab": {
     "base_uri": "https://localhost:8080/"
    },
    "id": "wmIbVfIvyuoR",
    "outputId": "aa4e3136-c854-465d-d2e9-81cfd546e440"
   },
   "outputs": [
    {
     "name": "stdout",
     "output_type": "stream",
     "text": [
      "1.0\n",
      "1        0.000298\n",
      "2        0.000298\n",
      "3        0.000297\n",
      "4        0.000297\n",
      "5        0.000297\n",
      "           ...   \n",
      "9996     0.000018\n",
      "9997     0.000018\n",
      "9998     0.000018\n",
      "9999     0.000018\n",
      "10000    0.000018\n",
      "Name: 0, Length: 10000, dtype: float64\n"
     ]
    }
   ],
   "source": [
    "t_diff = 1\n",
    "print(training_set.max())\n",
    "gradient_t = (training_set.diff()/t_diff).iloc[1:] # dx/dt\n",
    "print(gradient_t)"
   ]
  },
  {
   "cell_type": "markdown",
   "metadata": {
    "id": "_2eVeeoxyuoS"
   },
   "source": [
    "## Loading Datasets"
   ]
  },
  {
   "cell_type": "code",
   "execution_count": 5,
   "metadata": {
    "id": "0J-NKyIEyuoS"
   },
   "outputs": [
    {
     "data": {
      "text/plain": [
       "0       88.600000\n",
       "1       88.409524\n",
       "2       88.219048\n",
       "3       88.028571\n",
       "4       87.838095\n",
       "          ...    \n",
       "1345    69.907493\n",
       "1346    69.904692\n",
       "1347    69.901891\n",
       "1348    69.899090\n",
       "1349    69.896289\n",
       "Name: C4, Length: 1350, dtype: float64"
      ]
     },
     "execution_count": 5,
     "metadata": {},
     "output_type": "execute_result"
    }
   ],
   "source": [
    "data = pd.read_csv(\"c4_interpolated_1250_100.csv\")\n",
    "training_set = data.iloc[:, 1]\n",
    "training_set"
   ]
  },
  {
   "cell_type": "code",
   "execution_count": 6,
   "metadata": {
    "colab": {
     "base_uri": "https://localhost:8080/"
    },
    "id": "-CbNUhJ74UqF",
    "outputId": "20f562d8-8247-49cc-b9c3-00eca5e13e2d"
   },
   "outputs": [
    {
     "data": {
      "text/plain": [
       "0       88.600000\n",
       "1       88.409524\n",
       "2       88.219048\n",
       "3       88.028571\n",
       "4       87.838095\n",
       "          ...    \n",
       "1245    70.187605\n",
       "1246    70.184804\n",
       "1247    70.182003\n",
       "1248    70.179202\n",
       "1249    70.176401\n",
       "Name: C4, Length: 1250, dtype: float64"
      ]
     },
     "execution_count": 6,
     "metadata": {},
     "output_type": "execute_result"
    }
   ],
   "source": [
    "test = training_set.tail(100)\n",
    "test\n",
    "training_set = training_set.head(1250)\n",
    "training_set"
   ]
  },
  {
   "cell_type": "code",
   "execution_count": 7,
   "metadata": {
    "colab": {
     "base_uri": "https://localhost:8080/"
    },
    "id": "X0TwTcq0yuoS",
    "outputId": "37252ed8-d88e-4044-fa7a-922411990b5b"
   },
   "outputs": [
    {
     "name": "stdout",
     "output_type": "stream",
     "text": [
      "0       0.000298\n",
      "1       0.000298\n",
      "2       0.000297\n",
      "3       0.000297\n",
      "4       0.000297\n",
      "          ...   \n",
      "9995    0.000018\n",
      "9996    0.000018\n",
      "9997    0.000018\n",
      "9998    0.000018\n",
      "9999    0.000018\n",
      "Name: 0, Length: 10000, dtype: float64\n"
     ]
    }
   ],
   "source": [
    "training_set = training_set.reset_index(drop=True)\n",
    "gradient_t = gradient_t.reset_index(drop=True)\n",
    "print(gradient_t)"
   ]
  },
  {
   "cell_type": "code",
   "execution_count": 8,
   "metadata": {
    "id": "O2biznZQyuoS"
   },
   "outputs": [],
   "source": [
    "df = pd.concat((training_set, gradient_t), axis=1)\n",
    "df.columns = ['y_t', 'grad_t']"
   ]
  },
  {
   "cell_type": "code",
   "execution_count": 9,
   "metadata": {
    "colab": {
     "base_uri": "https://localhost:8080/",
     "height": 423
    },
    "id": "sk_a5v3tyuoS",
    "outputId": "17563625-e550-45ae-faab-fafa353e44da"
   },
   "outputs": [
    {
     "data": {
      "text/html": [
       "<div>\n",
       "<style scoped>\n",
       "    .dataframe tbody tr th:only-of-type {\n",
       "        vertical-align: middle;\n",
       "    }\n",
       "\n",
       "    .dataframe tbody tr th {\n",
       "        vertical-align: top;\n",
       "    }\n",
       "\n",
       "    .dataframe thead th {\n",
       "        text-align: right;\n",
       "    }\n",
       "</style>\n",
       "<table border=\"1\" class=\"dataframe\">\n",
       "  <thead>\n",
       "    <tr style=\"text-align: right;\">\n",
       "      <th></th>\n",
       "      <th>y_t</th>\n",
       "      <th>grad_t</th>\n",
       "    </tr>\n",
       "  </thead>\n",
       "  <tbody>\n",
       "    <tr>\n",
       "      <th>0</th>\n",
       "      <td>88.600000</td>\n",
       "      <td>0.000298</td>\n",
       "    </tr>\n",
       "    <tr>\n",
       "      <th>1</th>\n",
       "      <td>88.409524</td>\n",
       "      <td>0.000298</td>\n",
       "    </tr>\n",
       "    <tr>\n",
       "      <th>2</th>\n",
       "      <td>88.219048</td>\n",
       "      <td>0.000297</td>\n",
       "    </tr>\n",
       "    <tr>\n",
       "      <th>3</th>\n",
       "      <td>88.028571</td>\n",
       "      <td>0.000297</td>\n",
       "    </tr>\n",
       "    <tr>\n",
       "      <th>4</th>\n",
       "      <td>87.838095</td>\n",
       "      <td>0.000297</td>\n",
       "    </tr>\n",
       "    <tr>\n",
       "      <th>...</th>\n",
       "      <td>...</td>\n",
       "      <td>...</td>\n",
       "    </tr>\n",
       "    <tr>\n",
       "      <th>9995</th>\n",
       "      <td>NaN</td>\n",
       "      <td>0.000018</td>\n",
       "    </tr>\n",
       "    <tr>\n",
       "      <th>9996</th>\n",
       "      <td>NaN</td>\n",
       "      <td>0.000018</td>\n",
       "    </tr>\n",
       "    <tr>\n",
       "      <th>9997</th>\n",
       "      <td>NaN</td>\n",
       "      <td>0.000018</td>\n",
       "    </tr>\n",
       "    <tr>\n",
       "      <th>9998</th>\n",
       "      <td>NaN</td>\n",
       "      <td>0.000018</td>\n",
       "    </tr>\n",
       "    <tr>\n",
       "      <th>9999</th>\n",
       "      <td>NaN</td>\n",
       "      <td>0.000018</td>\n",
       "    </tr>\n",
       "  </tbody>\n",
       "</table>\n",
       "<p>10000 rows × 2 columns</p>\n",
       "</div>"
      ],
      "text/plain": [
       "            y_t    grad_t\n",
       "0     88.600000  0.000298\n",
       "1     88.409524  0.000298\n",
       "2     88.219048  0.000297\n",
       "3     88.028571  0.000297\n",
       "4     87.838095  0.000297\n",
       "...         ...       ...\n",
       "9995        NaN  0.000018\n",
       "9996        NaN  0.000018\n",
       "9997        NaN  0.000018\n",
       "9998        NaN  0.000018\n",
       "9999        NaN  0.000018\n",
       "\n",
       "[10000 rows x 2 columns]"
      ]
     },
     "execution_count": 9,
     "metadata": {},
     "output_type": "execute_result"
    }
   ],
   "source": [
    "df"
   ]
  },
  {
   "cell_type": "markdown",
   "metadata": {
    "id": "-5esyHu5aFvg"
   },
   "source": [
    "## Plot of the External Forcing from Chaotic Differential Equation"
   ]
  },
  {
   "cell_type": "code",
   "execution_count": 10,
   "metadata": {
    "colab": {
     "base_uri": "https://localhost:8080/",
     "height": 447
    },
    "id": "hGnE43tOh-4p",
    "outputId": "fc396503-b624-4fa5-dfbe-f460207405c6"
   },
   "outputs": [
    {
     "data": {
      "text/plain": [
       "<Axes: >"
      ]
     },
     "execution_count": 10,
     "metadata": {},
     "output_type": "execute_result"
    },
    {
     "data": {
      "image/png": "[encoded data removed]",
      "text/plain": [
       "<Figure size 432x288 with 1 Axes>"
      ]
     },
     "metadata": {
      "needs_background": "light"
     },
     "output_type": "display_data"
    }
   ],
   "source": [
    "df.iloc[:, 0].plot()"
   ]
  },
  {
   "cell_type": "code",
   "execution_count": 11,
   "metadata": {
    "colab": {
     "base_uri": "https://localhost:8080/",
     "height": 447
    },
    "id": "ym4xWUUxaFvg",
    "outputId": "ae6a3495-8ce9-437e-ba81-3ed31deedeae"
   },
   "outputs": [
    {
     "data": {
      "text/plain": [
       "<Axes: >"
      ]
     },
     "execution_count": 11,
     "metadata": {},
     "output_type": "execute_result"
    },
    {
     "data": {
      "image/png": "[encoded data removed]",
      "text/plain": [
       "<Figure size 432x288 with 1 Axes>"
      ]
     },
     "metadata": {
      "needs_background": "light"
     },
     "output_type": "display_data"
    }
   ],
   "source": [
    "import numpy as np\n",
    "c0 = 86.6856  # Value for C0\n",
    "K0 = -0.0008  # Value for K0\n",
    "K1 = -0.0002  # Value for K1\n",
    "a = 0.0000    # Value for a\n",
    "b = 0.0128    # Value for b\n",
    "c = -2.3003    # Value for c\n",
    "\n",
    "L = np.minimum(c0, (df.iloc[:, 1] - (df.iloc[:, 0] * (K0 - K1 * (9 * a * np.log(df.iloc[:, 0] / c0) / (K0 - K1 * c)**2 + 4 * b * np.log(df.iloc[:, 0] / c0) / (K0 - K1 * c) + c)))))\n",
    "L.plot()"
   ]
  },
  {
   "cell_type": "markdown",
   "metadata": {
    "id": "9VyEywnwaFvh"
   },
   "source": [
    "## Preprocessing the data into supervised learning"
   ]
  },
  {
   "cell_type": "code",
   "execution_count": 12,
   "metadata": {
    "id": "6V9dXqzdaFvh"
   },
   "outputs": [],
   "source": [
    "# split a sequence into samples\n",
    "def Supervised(data, n_in=1, n_out=1, dropnan=True):\n",
    "    n_vars = 1 if type(data) is list else data.shape[1]\n",
    "    df = pd.DataFrame(data)\n",
    "    cols, names = list(), list()\n",
    "    # input sequence (t-n_in, ... t-1)\n",
    "    for i in range(n_in, 0, -1):\n",
    "        cols.append(df.shift(i))\n",
    "        names += [('var%d(t-%d)' % (j+1, i)) for j in range(n_vars)]\n",
    "    # forecast sequence (t, t+1, ... t+n_out)\n",
    "    for i in range(0, n_out):\n",
    "      cols.append(df.shift(-i))\n",
    "      if i == 0:\n",
    "        names += [('var%d(t)' % (j+1)) for j in range(n_vars)]\n",
    "      else:\n",
    "        names += [('var%d(t+%d)' % (j+1, i)) for j in range(n_vars)]\n",
    "    # put it all together\n",
    "    agg = pd.concat(cols, axis=1)\n",
    "    agg.columns = names\n",
    "    # drop rows with NaN values\n",
    "    if dropnan:\n",
    "       agg.dropna(inplace=True)\n",
    "    return agg"
   ]
  },
  {
   "cell_type": "code",
   "execution_count": 13,
   "metadata": {
    "colab": {
     "base_uri": "https://localhost:8080/"
    },
    "id": "CrzSrT1HnyfH",
    "outputId": "7e75f928-3e47-499d-eac1-51908015ef78"
   },
   "outputs": [
    {
     "name": "stdout",
     "output_type": "stream",
     "text": [
      "     var1(t-350)  var1(t-349)  var1(t-348)  var1(t-347)  var1(t-346)  \\\n",
      "350    88.600000    88.409524    88.219048    88.028571    87.838095   \n",
      "351    88.409524    88.219048    88.028571    87.838095    87.647619   \n",
      "352    88.219048    88.028571    87.838095    87.647619    87.457143   \n",
      "353    88.028571    87.838095    87.647619    87.457143    87.266667   \n",
      "354    87.838095    87.647619    87.457143    87.266667    87.076190   \n",
      "\n",
      "     var1(t-345)  var1(t-344)  var1(t-343)  var1(t-342)  var1(t-341)  ...  \\\n",
      "350    87.647619    87.457143    87.266667    87.076190    86.896218  ...   \n",
      "351    87.457143    87.266667    87.076190    86.896218    86.845798  ...   \n",
      "352    87.266667    87.076190    86.896218    86.845798    86.795378  ...   \n",
      "353    87.076190    86.896218    86.845798    86.795378    86.744958  ...   \n",
      "354    86.896218    86.845798    86.795378    86.744958    86.694538  ...   \n",
      "\n",
      "     var1(t+95)  var2(t+95)  var1(t+96)  var2(t+96)  var1(t+97)  var2(t+97)  \\\n",
      "350   78.880345    0.000263   78.856069    0.000263   78.831793    0.000263   \n",
      "351   78.856069    0.000263   78.831793    0.000263   78.807516    0.000262   \n",
      "352   78.831793    0.000263   78.807516    0.000262   78.783240    0.000262   \n",
      "353   78.807516    0.000262   78.783240    0.000262   78.758964    0.000262   \n",
      "354   78.783240    0.000262   78.758964    0.000262   78.734687    0.000262   \n",
      "\n",
      "     var1(t+98)  var2(t+98)  var1(t+99)  var2(t+99)  \n",
      "350   78.807516    0.000262   78.783240    0.000262  \n",
      "351   78.783240    0.000262   78.758964    0.000262  \n",
      "352   78.758964    0.000262   78.734687    0.000262  \n",
      "353   78.734687    0.000262   78.710411    0.000262  \n",
      "354   78.710411    0.000262   78.686134    0.000262  \n",
      "\n",
      "[5 rows x 551 columns]\n",
      "Index(['var1(t-350)', 'var1(t-349)', 'var1(t-348)', 'var1(t-347)',\n",
      "       'var1(t-346)', 'var1(t-345)', 'var1(t-344)', 'var1(t-343)',\n",
      "       'var1(t-342)', 'var1(t-341)',\n",
      "       ...\n",
      "       'var1(t+95)', 'var2(t+95)', 'var1(t+96)', 'var2(t+96)', 'var1(t+97)',\n",
      "       'var2(t+97)', 'var1(t+98)', 'var2(t+98)', 'var1(t+99)', 'var2(t+99)'],\n",
      "      dtype='object', length=551)\n"
     ]
    }
   ],
   "source": [
    "data = Supervised(df.values, n_in = 350, n_out = 100)\n",
    "\n",
    "\n",
    "cols_to_drop = []\n",
    "for i in range(2, 351):\n",
    "    cols_to_drop.extend([f'var2(t-{i})'])\n",
    "\n",
    "data.drop(cols_to_drop, axis=1, inplace=True)\n",
    "\n",
    "print(data.head())\n",
    "print(data.columns)"
   ]
  },
  {
   "cell_type": "code",
   "execution_count": 14,
   "metadata": {
    "id": "AfPf60oy6Pe4"
   },
   "outputs": [],
   "source": [
    "train = np.array(data[0:len(data)-1])\n",
    "forecast = np.array(data.tail(1))"
   ]
  },
  {
   "cell_type": "code",
   "execution_count": 15,
   "metadata": {
    "id": "WSAafzI37KiT"
   },
   "outputs": [],
   "source": [
    "trainy = train[:,-300:]\n",
    "trainX = train[:,:-300]"
   ]
  },
  {
   "cell_type": "code",
   "execution_count": 16,
   "metadata": {
    "id": "2SrOqVJA7f50"
   },
   "outputs": [],
   "source": [
    "forecasty = forecast[:,-300:]\n",
    "forecastX = forecast[:,:-300]"
   ]
  },
  {
   "cell_type": "code",
   "execution_count": 17,
   "metadata": {
    "colab": {
     "base_uri": "https://localhost:8080/"
    },
    "id": "Qno_k8Nw7saY",
    "outputId": "c4a88db5-d8c6-489f-cdb2-06b24e293cff"
   },
   "outputs": [
    {
     "name": "stdout",
     "output_type": "stream",
     "text": [
      "(800, 1, 251) (800, 300) (1, 1, 251)\n"
     ]
    }
   ],
   "source": [
    "trainX = trainX.reshape((trainX.shape[0], 1, trainX.shape[1]))\n",
    "forecastX = forecastX.reshape((forecastX.shape[0], 1, forecastX.shape[1]))\n",
    "print(trainX.shape, trainy.shape, forecastX.shape)"
   ]
  },
  {
   "cell_type": "code",
   "execution_count": 18,
   "metadata": {
    "colab": {
     "base_uri": "https://localhost:8080/"
    },
    "id": "b1Jp2DvNuNFx",
    "outputId": "d0e5b3c4-64f1-438c-eade-8dfeaac8e285"
   },
   "outputs": [
    {
     "name": "stdout",
     "output_type": "stream",
     "text": [
      "Epoch 1/500\n",
      "10/10 [==============================] - 4s 62ms/step - loss: 5770.0835 - val_loss: 4974.7651\n",
      "Epoch 2/500\n",
      "10/10 [==============================] - 0s 7ms/step - loss: 5696.2314 - val_loss: 4938.0947\n",
      "Epoch 3/500\n",
      "10/10 [==============================] - 0s 6ms/step - loss: 5656.8955 - val_loss: 4901.2983\n",
      "Epoch 4/500\n",
      "10/10 [==============================] - 0s 6ms/step - loss: 5617.5088 - val_loss: 4864.6338\n",
      "Epoch 5/500\n",
      "10/10 [==============================] - 0s 6ms/step - loss: 5578.3037 - val_loss: 4828.1860\n",
      "Epoch 6/500\n",
      "10/10 [==============================] - 0s 7ms/step - loss: 5539.3301 - val_loss: 4791.9678\n",
      "Epoch 7/500\n",
      "10/10 [==============================] - 0s 6ms/step - loss: 5500.5947 - val_loss: 4755.9795\n",
      "Epoch 8/500\n",
      "10/10 [==============================] - 0s 15ms/step - loss: 5462.0903 - val_loss: 4720.2134\n",
      "Epoch 9/500\n",
      "10/10 [==============================] - 0s 7ms/step - loss: 5423.8135 - val_loss: 4684.6616\n",
      "Epoch 10/500\n",
      "10/10 [==============================] - 0s 7ms/step - loss: 5385.7549 - val_loss: 4649.3218\n",
      "Epoch 11/500\n",
      "10/10 [==============================] - 0s 7ms/step - loss: 5347.9126 - val_loss: 4614.1895\n",
      "Epoch 12/500\n",
      "10/10 [==============================] - 0s 8ms/step - loss: 5310.2798 - val_loss: 4579.2617\n",
      "Epoch 13/500\n",
      "10/10 [==============================] - 0s 7ms/step - loss: 5272.8560 - val_loss: 4544.5342\n",
      "Epoch 14/500\n",
      "10/10 [==============================] - 0s 9ms/step - loss: 5235.6367 - val_loss: 4510.0059\n",
      "Epoch 15/500\n",
      "10/10 [==============================] - 0s 10ms/step - loss: 5198.6201 - val_loss: 4475.6758\n",
      "Epoch 16/500\n",
      "10/10 [==============================] - 0s 13ms/step - loss: 5161.8062 - val_loss: 4441.5396\n",
      "Epoch 17/500\n",
      "10/10 [==============================] - 0s 13ms/step - loss: 5125.1914 - val_loss: 4407.5977\n",
      "Epoch 18/500\n",
      "10/10 [==============================] - 0s 9ms/step - loss: 5088.7744 - val_loss: 4373.8486\n",
      "Epoch 19/500\n",
      "10/10 [==============================] - 0s 8ms/step - loss: 5052.5542 - val_loss: 4340.2905\n",
      "Epoch 20/500\n",
      "10/10 [==============================] - 0s 8ms/step - loss: 5016.5293 - val_loss: 4306.9233\n",
      "Epoch 21/500\n",
      "10/10 [==============================] - 0s 10ms/step - loss: 4980.6992 - val_loss: 4273.7446\n",
      "Epoch 22/500\n",
      "10/10 [==============================] - 0s 11ms/step - loss: 4945.0620 - val_loss: 4240.7534\n",
      "Epoch 23/500\n",
      "10/10 [==============================] - 0s 12ms/step - loss: 4909.6162 - val_loss: 4207.9497\n",
      "Epoch 24/500\n",
      "10/10 [==============================] - 0s 10ms/step - loss: 4874.3623 - val_loss: 4175.3325\n",
      "Epoch 25/500\n",
      "10/10 [==============================] - 0s 8ms/step - loss: 4839.2988 - val_loss: 4142.8994\n",
      "Epoch 26/500\n",
      "10/10 [==============================] - 0s 8ms/step - loss: 4804.4243 - val_loss: 4110.6509\n",
      "Epoch 27/500\n",
      "10/10 [==============================] - 0s 8ms/step - loss: 4769.7373 - val_loss: 4078.5847\n",
      "Epoch 28/500\n",
      "10/10 [==============================] - 0s 8ms/step - loss: 4735.2378 - val_loss: 4046.7017\n",
      "Epoch 29/500\n",
      "10/10 [==============================] - 0s 8ms/step - loss: 4700.9248 - val_loss: 4015.0000\n",
      "Epoch 30/500\n",
      "10/10 [==============================] - 0s 8ms/step - loss: 4666.7974 - val_loss: 3983.4790\n",
      "Epoch 31/500\n",
      "10/10 [==============================] - 0s 10ms/step - loss: 4632.8545 - val_loss: 3952.1379\n",
      "Epoch 32/500\n",
      "10/10 [==============================] - 0s 19ms/step - loss: 4599.0957 - val_loss: 3920.9758\n",
      "Epoch 33/500\n",
      "10/10 [==============================] - 0s 14ms/step - loss: 4565.5210 - val_loss: 3889.9915\n",
      "Epoch 34/500\n",
      "10/10 [==============================] - 0s 13ms/step - loss: 4532.1274 - val_loss: 3859.1851\n",
      "Epoch 35/500\n",
      "10/10 [==============================] - 0s 10ms/step - loss: 4498.9160 - val_loss: 3828.5559\n",
      "Epoch 36/500\n",
      "10/10 [==============================] - 0s 10ms/step - loss: 4465.8853 - val_loss: 3798.1016\n",
      "Epoch 37/500\n",
      "10/10 [==============================] - 0s 12ms/step - loss: 4433.0342 - val_loss: 3767.8235\n",
      "Epoch 38/500\n",
      "10/10 [==============================] - 0s 10ms/step - loss: 4400.3618 - val_loss: 3737.7192\n",
      "Epoch 39/500\n",
      "10/10 [==============================] - 0s 12ms/step - loss: 4367.8687 - val_loss: 3707.7883\n",
      "Epoch 40/500\n",
      "10/10 [==============================] - 0s 10ms/step - loss: 4335.5532 - val_loss: 3678.0305\n",
      "Epoch 41/500\n",
      "10/10 [==============================] - 0s 11ms/step - loss: 4303.4136 - val_loss: 3648.4453\n",
      "Epoch 42/500\n",
      "10/10 [==============================] - 0s 12ms/step - loss: 4271.4521 - val_loss: 3619.0312\n",
      "Epoch 43/500\n",
      "10/10 [==============================] - 0s 12ms/step - loss: 4239.6646 - val_loss: 3589.7883\n",
      "Epoch 44/500\n",
      "10/10 [==============================] - 0s 10ms/step - loss: 4208.0522 - val_loss: 3560.7148\n",
      "Epoch 45/500\n",
      "10/10 [==============================] - 0s 25ms/step - loss: 4176.6143 - val_loss: 3531.8110\n",
      "Epoch 46/500\n",
      "10/10 [==============================] - 0s 13ms/step - loss: 4145.3496 - val_loss: 3503.0757\n",
      "Epoch 47/500\n",
      "10/10 [==============================] - 0s 10ms/step - loss: 4114.2578 - val_loss: 3474.5085\n",
      "Epoch 48/500\n",
      "10/10 [==============================] - 0s 12ms/step - loss: 4083.3374 - val_loss: 3446.1086\n",
      "Epoch 49/500\n",
      "10/10 [==============================] - 0s 13ms/step - loss: 4052.5874 - val_loss: 3417.8755\n",
      "Epoch 50/500\n",
      "10/10 [==============================] - 0s 9ms/step - loss: 4022.0098 - val_loss: 3389.8074\n",
      "Epoch 51/500\n",
      "10/10 [==============================] - 0s 9ms/step - loss: 3991.6008 - val_loss: 3361.9050\n",
      "Epoch 52/500\n",
      "10/10 [==============================] - 0s 9ms/step - loss: 3961.3608 - val_loss: 3334.1665\n",
      "Epoch 53/500\n",
      "10/10 [==============================] - 0s 8ms/step - loss: 3931.2898 - val_loss: 3306.5923\n",
      "Epoch 54/500\n",
      "10/10 [==============================] - 0s 12ms/step - loss: 3901.3862 - val_loss: 3279.1821\n",
      "Epoch 55/500\n",
      "10/10 [==============================] - 0s 8ms/step - loss: 3871.6499 - val_loss: 3251.9331\n",
      "Epoch 56/500\n",
      "10/10 [==============================] - 0s 8ms/step - loss: 3842.0806 - val_loss: 3224.8464\n",
      "Epoch 57/500\n",
      "10/10 [==============================] - 0s 8ms/step - loss: 3812.6770 - val_loss: 3197.9209\n",
      "Epoch 58/500\n",
      "10/10 [==============================] - 0s 9ms/step - loss: 3783.4375 - val_loss: 3171.1558\n",
      "Epoch 59/500\n",
      "10/10 [==============================] - 0s 12ms/step - loss: 3754.3638 - val_loss: 3144.5510\n",
      "Epoch 60/500\n",
      "10/10 [==============================] - 0s 11ms/step - loss: 3725.4531 - val_loss: 3118.1042\n",
      "Epoch 61/500\n",
      "10/10 [==============================] - 0s 13ms/step - loss: 3696.7051 - val_loss: 3091.8174\n",
      "Epoch 62/500\n",
      "10/10 [==============================] - 0s 10ms/step - loss: 3668.1204 - val_loss: 3065.6877\n",
      "Epoch 63/500\n",
      "10/10 [==============================] - 0s 19ms/step - loss: 3639.6968 - val_loss: 3039.7153\n",
      "Epoch 64/500\n",
      "10/10 [==============================] - 0s 12ms/step - loss: 3611.4355 - val_loss: 3013.8999\n",
      "Epoch 65/500\n",
      "10/10 [==============================] - 0s 12ms/step - loss: 3583.3340 - val_loss: 2988.2400\n",
      "Epoch 66/500\n",
      "10/10 [==============================] - 0s 12ms/step - loss: 3555.3921 - val_loss: 2962.7361\n",
      "Epoch 67/500\n",
      "10/10 [==============================] - 0s 11ms/step - loss: 3527.6106 - val_loss: 2937.3862\n",
      "Epoch 68/500\n",
      "10/10 [==============================] - 0s 8ms/step - loss: 3499.9871 - val_loss: 2912.1909\n",
      "Epoch 69/500\n",
      "10/10 [==============================] - 0s 8ms/step - loss: 3472.5215 - val_loss: 2887.1489\n",
      "Epoch 70/500\n",
      "10/10 [==============================] - 0s 8ms/step - loss: 3445.2134 - val_loss: 2862.2598\n",
      "Epoch 71/500\n",
      "10/10 [==============================] - 0s 8ms/step - loss: 3418.0620 - val_loss: 2837.5222\n",
      "Epoch 72/500\n",
      "10/10 [==============================] - 0s 10ms/step - loss: 3391.0669 - val_loss: 2812.9375\n",
      "Epoch 73/500\n",
      "10/10 [==============================] - 0s 8ms/step - loss: 3364.2271 - val_loss: 2788.5032\n",
      "Epoch 74/500\n",
      "10/10 [==============================] - 0s 8ms/step - loss: 3337.5422 - val_loss: 2764.2192\n",
      "Epoch 75/500\n",
      "10/10 [==============================] - 0s 8ms/step - loss: 3311.0122 - val_loss: 2740.0850\n",
      "Epoch 76/500\n",
      "10/10 [==============================] - 0s 7ms/step - loss: 3284.6355 - val_loss: 2716.1006\n",
      "Epoch 77/500\n",
      "10/10 [==============================] - 0s 7ms/step - loss: 3258.4116 - val_loss: 2692.2642\n",
      "Epoch 78/500\n",
      "10/10 [==============================] - 0s 7ms/step - loss: 3232.3403 - val_loss: 2668.5757\n",
      "Epoch 79/500\n",
      "10/10 [==============================] - 0s 8ms/step - loss: 3206.4214 - val_loss: 2645.0347\n",
      "Epoch 80/500\n",
      "10/10 [==============================] - 0s 7ms/step - loss: 3180.6533 - val_loss: 2621.6404\n",
      "Epoch 81/500\n",
      "10/10 [==============================] - 0s 7ms/step - loss: 3155.0356 - val_loss: 2598.3921\n",
      "Epoch 82/500\n",
      "10/10 [==============================] - 0s 7ms/step - loss: 3129.5688 - val_loss: 2575.2896\n",
      "Epoch 83/500\n",
      "10/10 [==============================] - 0s 7ms/step - loss: 3104.2510 - val_loss: 2552.3325\n",
      "Epoch 84/500\n",
      "10/10 [==============================] - 0s 7ms/step - loss: 3079.0820 - val_loss: 2529.5190\n",
      "Epoch 85/500\n",
      "10/10 [==============================] - 0s 7ms/step - loss: 3054.0610 - val_loss: 2506.8499\n",
      "Epoch 86/500\n",
      "10/10 [==============================] - 0s 7ms/step - loss: 3029.1882 - val_loss: 2484.3237\n",
      "Epoch 87/500\n",
      "10/10 [==============================] - 0s 7ms/step - loss: 3004.4629 - val_loss: 2461.9409\n",
      "Epoch 88/500\n",
      "10/10 [==============================] - 0s 7ms/step - loss: 2979.8835 - val_loss: 2439.6997\n",
      "Epoch 89/500\n",
      "10/10 [==============================] - 0s 7ms/step - loss: 2955.4504 - val_loss: 2417.5994\n",
      "Epoch 90/500\n",
      "10/10 [==============================] - 0s 7ms/step - loss: 2931.1626 - val_loss: 2395.6411\n",
      "Epoch 91/500\n",
      "10/10 [==============================] - 0s 7ms/step - loss: 2907.0198 - val_loss: 2373.8225\n",
      "Epoch 92/500\n",
      "10/10 [==============================] - 0s 7ms/step - loss: 2883.0208 - val_loss: 2352.1440\n",
      "Epoch 93/500\n",
      "10/10 [==============================] - 0s 7ms/step - loss: 2859.1658 - val_loss: 2330.6047\n",
      "Epoch 94/500\n",
      "10/10 [==============================] - 0s 7ms/step - loss: 2835.4539 - val_loss: 2309.2039\n",
      "Epoch 95/500\n",
      "10/10 [==============================] - 0s 6ms/step - loss: 2811.8843 - val_loss: 2287.9414\n",
      "Epoch 96/500\n",
      "10/10 [==============================] - 0s 6ms/step - loss: 2788.4570 - val_loss: 2266.8159\n",
      "Epoch 97/500\n",
      "10/10 [==============================] - 0s 6ms/step - loss: 2765.1707 - val_loss: 2245.8276\n",
      "Epoch 98/500\n",
      "10/10 [==============================] - 0s 6ms/step - loss: 2742.0256 - val_loss: 2224.9763\n",
      "Epoch 99/500\n",
      "10/10 [==============================] - 0s 7ms/step - loss: 2719.0205 - val_loss: 2204.2605\n",
      "Epoch 100/500\n",
      "10/10 [==============================] - 0s 6ms/step - loss: 2696.1555 - val_loss: 2183.6802\n",
      "Epoch 101/500\n",
      "10/10 [==============================] - 0s 7ms/step - loss: 2673.4292 - val_loss: 2163.2339\n",
      "Epoch 102/500\n",
      "10/10 [==============================] - 0s 7ms/step - loss: 2650.8418 - val_loss: 2142.9224\n",
      "Epoch 103/500\n",
      "10/10 [==============================] - 0s 7ms/step - loss: 2628.3928 - val_loss: 2122.7437\n",
      "Epoch 104/500\n",
      "10/10 [==============================] - 0s 6ms/step - loss: 2606.0806 - val_loss: 2102.6990\n",
      "Epoch 105/500\n",
      "10/10 [==============================] - 0s 6ms/step - loss: 2583.9058 - val_loss: 2082.7866\n",
      "Epoch 106/500\n",
      "10/10 [==============================] - 0s 6ms/step - loss: 2561.8677 - val_loss: 2063.0056\n",
      "Epoch 107/500\n",
      "10/10 [==============================] - 0s 6ms/step - loss: 2539.9646 - val_loss: 2043.3571\n",
      "Epoch 108/500\n",
      "10/10 [==============================] - 0s 6ms/step - loss: 2518.1975 - val_loss: 2023.8391\n",
      "Epoch 109/500\n",
      "10/10 [==============================] - 0s 6ms/step - loss: 2496.5649 - val_loss: 2004.4521\n",
      "Epoch 110/500\n",
      "10/10 [==============================] - 0s 6ms/step - loss: 2475.0669 - val_loss: 1985.1936\n",
      "Epoch 111/500\n",
      "10/10 [==============================] - 0s 6ms/step - loss: 2453.7024 - val_loss: 1966.0648\n",
      "Epoch 112/500\n",
      "10/10 [==============================] - 0s 7ms/step - loss: 2432.4712 - val_loss: 1947.0662\n",
      "Epoch 113/500\n",
      "10/10 [==============================] - 0s 7ms/step - loss: 2411.3730 - val_loss: 1928.1949\n",
      "Epoch 114/500\n",
      "10/10 [==============================] - 0s 6ms/step - loss: 2390.4067 - val_loss: 1909.4508\n",
      "Epoch 115/500\n",
      "10/10 [==============================] - 0s 7ms/step - loss: 2369.5720 - val_loss: 1890.8350\n",
      "Epoch 116/500\n",
      "10/10 [==============================] - 0s 6ms/step - loss: 2348.8687 - val_loss: 1872.3447\n",
      "Epoch 117/500\n",
      "10/10 [==============================] - 0s 6ms/step - loss: 2328.2954 - val_loss: 1853.9812\n",
      "Epoch 118/500\n",
      "10/10 [==============================] - 0s 8ms/step - loss: 2307.8521 - val_loss: 1835.7434\n",
      "Epoch 119/500\n",
      "10/10 [==============================] - 0s 7ms/step - loss: 2287.5386 - val_loss: 1817.6301\n",
      "Epoch 120/500\n",
      "10/10 [==============================] - 0s 7ms/step - loss: 2267.3540 - val_loss: 1799.6420\n",
      "Epoch 121/500\n",
      "10/10 [==============================] - 0s 6ms/step - loss: 2247.2976 - val_loss: 1781.7776\n",
      "Epoch 122/500\n",
      "10/10 [==============================] - 0s 6ms/step - loss: 2227.3694 - val_loss: 1764.0367\n",
      "Epoch 123/500\n",
      "10/10 [==============================] - 0s 6ms/step - loss: 2207.5684 - val_loss: 1746.4196\n",
      "Epoch 124/500\n",
      "10/10 [==============================] - 0s 6ms/step - loss: 2187.8948 - val_loss: 1728.9242\n",
      "Epoch 125/500\n",
      "10/10 [==============================] - 0s 6ms/step - loss: 2168.3477 - val_loss: 1711.5510\n",
      "Epoch 126/500\n",
      "10/10 [==============================] - 0s 6ms/step - loss: 2148.9258 - val_loss: 1694.3000\n",
      "Epoch 127/500\n",
      "10/10 [==============================] - 0s 6ms/step - loss: 2129.6296 - val_loss: 1677.1693\n",
      "Epoch 128/500\n",
      "10/10 [==============================] - 0s 6ms/step - loss: 2110.4585 - val_loss: 1660.1595\n",
      "Epoch 129/500\n",
      "10/10 [==============================] - 0s 6ms/step - loss: 2091.4124 - val_loss: 1643.2688\n",
      "Epoch 130/500\n",
      "10/10 [==============================] - 0s 6ms/step - loss: 2072.4890 - val_loss: 1626.4985\n",
      "Epoch 131/500\n",
      "10/10 [==============================] - 0s 7ms/step - loss: 2053.6895 - val_loss: 1609.8474\n",
      "Epoch 132/500\n",
      "10/10 [==============================] - 0s 6ms/step - loss: 2035.0129 - val_loss: 1593.3137\n",
      "Epoch 133/500\n",
      "10/10 [==============================] - 0s 7ms/step - loss: 2016.4586 - val_loss: 1576.8988\n",
      "Epoch 134/500\n",
      "10/10 [==============================] - 0s 7ms/step - loss: 1998.0261 - val_loss: 1560.6008\n",
      "Epoch 135/500\n",
      "10/10 [==============================] - 0s 7ms/step - loss: 1979.7152 - val_loss: 1544.4202\n",
      "Epoch 136/500\n",
      "10/10 [==============================] - 0s 7ms/step - loss: 1961.5250 - val_loss: 1528.3561\n",
      "Epoch 137/500\n",
      "10/10 [==============================] - 0s 6ms/step - loss: 1943.4553 - val_loss: 1512.4080\n",
      "Epoch 138/500\n",
      "10/10 [==============================] - 0s 6ms/step - loss: 1925.5051 - val_loss: 1496.5745\n",
      "Epoch 139/500\n",
      "10/10 [==============================] - 0s 6ms/step - loss: 1907.6738 - val_loss: 1480.8558\n",
      "Epoch 140/500\n",
      "10/10 [==============================] - 0s 6ms/step - loss: 1889.9623 - val_loss: 1465.2533\n",
      "Epoch 141/500\n",
      "10/10 [==============================] - 0s 6ms/step - loss: 1872.3691 - val_loss: 1449.7639\n",
      "Epoch 142/500\n",
      "10/10 [==============================] - 0s 6ms/step - loss: 1854.8942 - val_loss: 1434.3883\n",
      "Epoch 143/500\n",
      "10/10 [==============================] - 0s 6ms/step - loss: 1837.5364 - val_loss: 1419.1254\n",
      "Epoch 144/500\n",
      "10/10 [==============================] - 0s 7ms/step - loss: 1820.2952 - val_loss: 1403.9749\n",
      "Epoch 145/500\n",
      "10/10 [==============================] - 0s 7ms/step - loss: 1803.1707 - val_loss: 1388.9373\n",
      "Epoch 146/500\n",
      "10/10 [==============================] - 0s 7ms/step - loss: 1786.1627 - val_loss: 1374.0109\n",
      "Epoch 147/500\n",
      "10/10 [==============================] - 0s 7ms/step - loss: 1769.2699 - val_loss: 1359.1958\n",
      "Epoch 148/500\n",
      "10/10 [==============================] - 0s 7ms/step - loss: 1752.4924 - val_loss: 1344.4910\n",
      "Epoch 149/500\n",
      "10/10 [==============================] - 0s 7ms/step - loss: 1735.8289 - val_loss: 1329.8961\n",
      "Epoch 150/500\n",
      "10/10 [==============================] - 0s 8ms/step - loss: 1719.2799 - val_loss: 1315.4117\n",
      "Epoch 151/500\n",
      "10/10 [==============================] - 0s 7ms/step - loss: 1702.8447 - val_loss: 1301.0354\n",
      "Epoch 152/500\n",
      "10/10 [==============================] - 0s 8ms/step - loss: 1686.5221 - val_loss: 1286.7686\n",
      "Epoch 153/500\n",
      "10/10 [==============================] - 0s 8ms/step - loss: 1670.3121 - val_loss: 1272.6091\n",
      "Epoch 154/500\n",
      "10/10 [==============================] - 0s 8ms/step - loss: 1654.2142 - val_loss: 1258.5588\n",
      "Epoch 155/500\n",
      "10/10 [==============================] - 0s 11ms/step - loss: 1638.2292 - val_loss: 1244.6147\n",
      "Epoch 156/500\n",
      "10/10 [==============================] - 0s 7ms/step - loss: 1622.3542 - val_loss: 1230.7781\n",
      "Epoch 157/500\n",
      "10/10 [==============================] - 0s 10ms/step - loss: 1606.5906 - val_loss: 1217.0479\n",
      "Epoch 158/500\n",
      "10/10 [==============================] - 0s 18ms/step - loss: 1590.9373 - val_loss: 1203.4231\n",
      "Epoch 159/500\n",
      "10/10 [==============================] - 0s 18ms/step - loss: 1575.3939 - val_loss: 1189.9041\n",
      "Epoch 160/500\n",
      "10/10 [==============================] - 0s 11ms/step - loss: 1559.9596 - val_loss: 1176.4895\n",
      "Epoch 161/500\n",
      "10/10 [==============================] - 0s 9ms/step - loss: 1544.6343 - val_loss: 1163.1798\n",
      "Epoch 162/500\n",
      "10/10 [==============================] - 0s 9ms/step - loss: 1529.4177 - val_loss: 1149.9745\n",
      "Epoch 163/500\n",
      "10/10 [==============================] - 0s 8ms/step - loss: 1514.3090 - val_loss: 1136.8723\n",
      "Epoch 164/500\n",
      "10/10 [==============================] - 0s 11ms/step - loss: 1499.3079 - val_loss: 1123.8733\n",
      "Epoch 165/500\n",
      "10/10 [==============================] - 0s 11ms/step - loss: 1484.4133 - val_loss: 1110.9766\n",
      "Epoch 166/500\n",
      "10/10 [==============================] - 0s 9ms/step - loss: 1469.6262 - val_loss: 1098.1824\n",
      "Epoch 167/500\n",
      "10/10 [==============================] - 0s 10ms/step - loss: 1454.9451 - val_loss: 1085.4897\n",
      "Epoch 168/500\n",
      "10/10 [==============================] - 0s 10ms/step - loss: 1440.3694 - val_loss: 1072.8989\n",
      "Epoch 169/500\n",
      "10/10 [==============================] - 0s 9ms/step - loss: 1425.8992 - val_loss: 1060.4080\n",
      "Epoch 170/500\n",
      "10/10 [==============================] - 0s 8ms/step - loss: 1411.5334 - val_loss: 1048.0183\n",
      "Epoch 171/500\n",
      "10/10 [==============================] - 0s 7ms/step - loss: 1397.2723 - val_loss: 1035.7279\n",
      "Epoch 172/500\n",
      "10/10 [==============================] - 0s 7ms/step - loss: 1383.1152 - val_loss: 1023.5371\n",
      "Epoch 173/500\n",
      "10/10 [==============================] - 0s 7ms/step - loss: 1369.0610 - val_loss: 1011.4452\n",
      "Epoch 174/500\n",
      "10/10 [==============================] - 0s 6ms/step - loss: 1355.1101 - val_loss: 999.4520\n",
      "Epoch 175/500\n",
      "10/10 [==============================] - 0s 7ms/step - loss: 1341.2620 - val_loss: 987.5563\n",
      "Epoch 176/500\n",
      "10/10 [==============================] - 0s 7ms/step - loss: 1327.5160 - val_loss: 975.7590\n",
      "Epoch 177/500\n",
      "10/10 [==============================] - 0s 7ms/step - loss: 1313.8715 - val_loss: 964.0585\n",
      "Epoch 178/500\n",
      "10/10 [==============================] - 0s 7ms/step - loss: 1300.3281 - val_loss: 952.4546\n",
      "Epoch 179/500\n",
      "10/10 [==============================] - 0s 7ms/step - loss: 1286.8854 - val_loss: 940.9471\n",
      "Epoch 180/500\n",
      "10/10 [==============================] - 0s 6ms/step - loss: 1273.5432 - val_loss: 929.5355\n",
      "Epoch 181/500\n",
      "10/10 [==============================] - 0s 6ms/step - loss: 1260.3005 - val_loss: 918.2189\n",
      "Epoch 182/500\n",
      "10/10 [==============================] - 0s 9ms/step - loss: 1247.1580 - val_loss: 906.9979\n",
      "Epoch 183/500\n",
      "10/10 [==============================] - 0s 35ms/step - loss: 1234.1140 - val_loss: 895.8709\n",
      "Epoch 184/500\n",
      "10/10 [==============================] - 0s 9ms/step - loss: 1221.1685 - val_loss: 884.8377\n",
      "Epoch 185/500\n",
      "10/10 [==============================] - 0s 9ms/step - loss: 1208.3212 - val_loss: 873.8987\n",
      "Epoch 186/500\n",
      "10/10 [==============================] - 0s 8ms/step - loss: 1195.5718 - val_loss: 863.0524\n",
      "Epoch 187/500\n",
      "10/10 [==============================] - 0s 8ms/step - loss: 1182.9196 - val_loss: 852.2992\n",
      "Epoch 188/500\n",
      "10/10 [==============================] - 0s 7ms/step - loss: 1170.3640 - val_loss: 841.6382\n",
      "Epoch 189/500\n",
      "10/10 [==============================] - 0s 8ms/step - loss: 1157.9050 - val_loss: 831.0690\n",
      "Epoch 190/500\n",
      "10/10 [==============================] - 0s 8ms/step - loss: 1145.5417 - val_loss: 820.5911\n",
      "Epoch 191/500\n",
      "10/10 [==============================] - 0s 8ms/step - loss: 1133.2742 - val_loss: 810.2040\n",
      "Epoch 192/500\n",
      "10/10 [==============================] - 0s 8ms/step - loss: 1121.1013 - val_loss: 799.9077\n",
      "Epoch 193/500\n",
      "10/10 [==============================] - 0s 8ms/step - loss: 1109.0236 - val_loss: 789.7010\n",
      "Epoch 194/500\n",
      "10/10 [==============================] - 0s 9ms/step - loss: 1097.0398 - val_loss: 779.5843\n",
      "Epoch 195/500\n",
      "10/10 [==============================] - 0s 8ms/step - loss: 1085.1497 - val_loss: 769.5571\n",
      "Epoch 196/500\n",
      "10/10 [==============================] - 0s 8ms/step - loss: 1073.3531 - val_loss: 759.6188\n",
      "Epoch 197/500\n",
      "10/10 [==============================] - 0s 8ms/step - loss: 1061.6495 - val_loss: 749.7679\n",
      "Epoch 198/500\n",
      "10/10 [==============================] - 0s 10ms/step - loss: 1050.0383 - val_loss: 740.0056\n",
      "Epoch 199/500\n",
      "10/10 [==============================] - 0s 9ms/step - loss: 1038.5188 - val_loss: 730.3302\n",
      "Epoch 200/500\n",
      "10/10 [==============================] - 0s 10ms/step - loss: 1027.0912 - val_loss: 720.7423\n",
      "Epoch 201/500\n",
      "10/10 [==============================] - 0s 10ms/step - loss: 1015.7548 - val_loss: 711.2404\n",
      "Epoch 202/500\n",
      "10/10 [==============================] - 0s 9ms/step - loss: 1004.5089 - val_loss: 701.8252\n",
      "Epoch 203/500\n",
      "10/10 [==============================] - 0s 10ms/step - loss: 993.3535 - val_loss: 692.4959\n",
      "Epoch 204/500\n",
      "10/10 [==============================] - 0s 8ms/step - loss: 982.2884 - val_loss: 683.2512\n",
      "Epoch 205/500\n",
      "10/10 [==============================] - 0s 8ms/step - loss: 971.3123 - val_loss: 674.0922\n",
      "Epoch 206/500\n",
      "10/10 [==============================] - 0s 7ms/step - loss: 960.4254 - val_loss: 665.0170\n",
      "Epoch 207/500\n",
      "10/10 [==============================] - 0s 14ms/step - loss: 949.6268 - val_loss: 656.0256\n",
      "Epoch 208/500\n",
      "10/10 [==============================] - 0s 8ms/step - loss: 938.9171 - val_loss: 647.1182\n",
      "Epoch 209/500\n",
      "10/10 [==============================] - 0s 14ms/step - loss: 928.2946 - val_loss: 638.2941\n",
      "Epoch 210/500\n",
      "10/10 [==============================] - 0s 10ms/step - loss: 917.7598 - val_loss: 629.5524\n",
      "Epoch 211/500\n",
      "10/10 [==============================] - 0s 10ms/step - loss: 907.3120 - val_loss: 620.8929\n",
      "Epoch 212/500\n",
      "10/10 [==============================] - 0s 9ms/step - loss: 896.9505 - val_loss: 612.3154\n",
      "Epoch 213/500\n",
      "10/10 [==============================] - 0s 9ms/step - loss: 886.6754 - val_loss: 603.8195\n",
      "Epoch 214/500\n",
      "10/10 [==============================] - 0s 8ms/step - loss: 876.4858 - val_loss: 595.4046\n",
      "Epoch 215/500\n",
      "10/10 [==============================] - 0s 8ms/step - loss: 866.3815 - val_loss: 587.0701\n",
      "Epoch 216/500\n",
      "10/10 [==============================] - 0s 10ms/step - loss: 856.3622 - val_loss: 578.8163\n",
      "Epoch 217/500\n",
      "10/10 [==============================] - 0s 10ms/step - loss: 846.4276 - val_loss: 570.6420\n",
      "Epoch 218/500\n",
      "10/10 [==============================] - 0s 12ms/step - loss: 836.5770 - val_loss: 562.5468\n",
      "Epoch 219/500\n",
      "10/10 [==============================] - 0s 12ms/step - loss: 826.8097 - val_loss: 554.5310\n",
      "Epoch 220/500\n",
      "10/10 [==============================] - 0s 10ms/step - loss: 817.1259 - val_loss: 546.5930\n",
      "Epoch 221/500\n",
      "10/10 [==============================] - 0s 10ms/step - loss: 807.5244 - val_loss: 538.7331\n",
      "Epoch 222/500\n",
      "10/10 [==============================] - 0s 10ms/step - loss: 798.0054 - val_loss: 530.9510\n",
      "Epoch 223/500\n",
      "10/10 [==============================] - 0s 12ms/step - loss: 788.5685 - val_loss: 523.2466\n",
      "Epoch 224/500\n",
      "10/10 [==============================] - 0s 14ms/step - loss: 779.2135 - val_loss: 515.6193\n",
      "Epoch 225/500\n",
      "10/10 [==============================] - 0s 11ms/step - loss: 769.9392 - val_loss: 508.0673\n",
      "Epoch 226/500\n",
      "10/10 [==============================] - 0s 12ms/step - loss: 760.7456 - val_loss: 500.5917\n",
      "Epoch 227/500\n",
      "10/10 [==============================] - 0s 14ms/step - loss: 751.6327 - val_loss: 493.1917\n",
      "Epoch 228/500\n",
      "10/10 [==============================] - 0s 23ms/step - loss: 742.5995 - val_loss: 485.8668\n",
      "Epoch 229/500\n",
      "10/10 [==============================] - 0s 13ms/step - loss: 733.6461 - val_loss: 478.6170\n",
      "Epoch 230/500\n",
      "10/10 [==============================] - 0s 11ms/step - loss: 724.7716 - val_loss: 471.4413\n",
      "Epoch 231/500\n",
      "10/10 [==============================] - 0s 11ms/step - loss: 715.9757 - val_loss: 464.3392\n",
      "Epoch 232/500\n",
      "10/10 [==============================] - 0s 10ms/step - loss: 707.2580 - val_loss: 457.3106\n",
      "Epoch 233/500\n",
      "10/10 [==============================] - 0s 9ms/step - loss: 698.6181 - val_loss: 450.3550\n",
      "Epoch 234/500\n",
      "10/10 [==============================] - 0s 8ms/step - loss: 690.0558 - val_loss: 443.4726\n",
      "Epoch 235/500\n",
      "10/10 [==============================] - 0s 9ms/step - loss: 681.5707 - val_loss: 436.6616\n",
      "Epoch 236/500\n",
      "10/10 [==============================] - 0s 10ms/step - loss: 673.1620 - val_loss: 429.9229\n",
      "Epoch 237/500\n",
      "10/10 [==============================] - 0s 8ms/step - loss: 664.8297 - val_loss: 423.2552\n",
      "Epoch 238/500\n",
      "10/10 [==============================] - 0s 8ms/step - loss: 656.5731 - val_loss: 416.6591\n",
      "Epoch 239/500\n",
      "10/10 [==============================] - 0s 8ms/step - loss: 648.3922 - val_loss: 410.1336\n",
      "Epoch 240/500\n",
      "10/10 [==============================] - 0s 7ms/step - loss: 640.2863 - val_loss: 403.6777\n",
      "Epoch 241/500\n",
      "10/10 [==============================] - 0s 7ms/step - loss: 632.2549 - val_loss: 397.2918\n",
      "Epoch 242/500\n",
      "10/10 [==============================] - 0s 7ms/step - loss: 624.2978 - val_loss: 390.9754\n",
      "Epoch 243/500\n",
      "10/10 [==============================] - 0s 8ms/step - loss: 616.4146 - val_loss: 384.7277\n",
      "Epoch 244/500\n",
      "10/10 [==============================] - 0s 8ms/step - loss: 608.6046 - val_loss: 378.5488\n",
      "Epoch 245/500\n",
      "10/10 [==============================] - 0s 9ms/step - loss: 600.8676 - val_loss: 372.4377\n",
      "Epoch 246/500\n",
      "10/10 [==============================] - 0s 7ms/step - loss: 593.2036 - val_loss: 366.3945\n",
      "Epoch 247/500\n",
      "10/10 [==============================] - 0s 7ms/step - loss: 585.6114 - val_loss: 360.4183\n",
      "Epoch 248/500\n",
      "10/10 [==============================] - 0s 8ms/step - loss: 578.0912 - val_loss: 354.5095\n",
      "Epoch 249/500\n",
      "10/10 [==============================] - 0s 8ms/step - loss: 570.6425 - val_loss: 348.6671\n",
      "Epoch 250/500\n",
      "10/10 [==============================] - 0s 8ms/step - loss: 563.2647 - val_loss: 342.8900\n",
      "Epoch 251/500\n",
      "10/10 [==============================] - 0s 7ms/step - loss: 555.9574 - val_loss: 337.1790\n",
      "Epoch 252/500\n",
      "10/10 [==============================] - 0s 7ms/step - loss: 548.7204 - val_loss: 331.5334\n",
      "Epoch 253/500\n",
      "10/10 [==============================] - 0s 7ms/step - loss: 541.5532 - val_loss: 325.9527\n",
      "Epoch 254/500\n",
      "10/10 [==============================] - 0s 7ms/step - loss: 534.4554 - val_loss: 320.4365\n",
      "Epoch 255/500\n",
      "10/10 [==============================] - 0s 13ms/step - loss: 527.4271 - val_loss: 314.9839\n",
      "Epoch 256/500\n",
      "10/10 [==============================] - 0s 10ms/step - loss: 520.4670 - val_loss: 309.5953\n",
      "Epoch 257/500\n",
      "10/10 [==============================] - 0s 10ms/step - loss: 513.5753 - val_loss: 304.2701\n",
      "Epoch 258/500\n",
      "10/10 [==============================] - 0s 9ms/step - loss: 506.7518 - val_loss: 299.0074\n",
      "Epoch 259/500\n",
      "10/10 [==============================] - 0s 7ms/step - loss: 499.9953 - val_loss: 293.8072\n",
      "Epoch 260/500\n",
      "10/10 [==============================] - 0s 7ms/step - loss: 493.3059 - val_loss: 288.6693\n",
      "Epoch 261/500\n",
      "10/10 [==============================] - 0s 8ms/step - loss: 486.6834 - val_loss: 283.5922\n",
      "Epoch 262/500\n",
      "10/10 [==============================] - 0s 7ms/step - loss: 480.1269 - val_loss: 278.5774\n",
      "Epoch 263/500\n",
      "10/10 [==============================] - 0s 7ms/step - loss: 473.6364 - val_loss: 273.6227\n",
      "Epoch 264/500\n",
      "10/10 [==============================] - 0s 7ms/step - loss: 467.2114 - val_loss: 268.7283\n",
      "Epoch 265/500\n",
      "10/10 [==============================] - 0s 8ms/step - loss: 460.8514 - val_loss: 263.8947\n",
      "Epoch 266/500\n",
      "10/10 [==============================] - 0s 8ms/step - loss: 454.5562 - val_loss: 259.1199\n",
      "Epoch 267/500\n",
      "10/10 [==============================] - 0s 8ms/step - loss: 448.3250 - val_loss: 254.4043\n",
      "Epoch 268/500\n",
      "10/10 [==============================] - 0s 8ms/step - loss: 442.1580 - val_loss: 249.7481\n",
      "Epoch 269/500\n",
      "10/10 [==============================] - 0s 11ms/step - loss: 436.0548 - val_loss: 245.1498\n",
      "Epoch 270/500\n",
      "10/10 [==============================] - 0s 10ms/step - loss: 430.0143 - val_loss: 240.6095\n",
      "Epoch 271/500\n",
      "10/10 [==============================] - 0s 10ms/step - loss: 424.0366 - val_loss: 236.1270\n",
      "Epoch 272/500\n",
      "10/10 [==============================] - 0s 9ms/step - loss: 418.1212 - val_loss: 231.7014\n",
      "Epoch 273/500\n",
      "10/10 [==============================] - 0s 8ms/step - loss: 412.2676 - val_loss: 227.3327\n",
      "Epoch 274/500\n",
      "10/10 [==============================] - 0s 8ms/step - loss: 406.4757 - val_loss: 223.0207\n",
      "Epoch 275/500\n",
      "10/10 [==============================] - 0s 7ms/step - loss: 400.7451 - val_loss: 218.7645\n",
      "Epoch 276/500\n",
      "10/10 [==============================] - 0s 7ms/step - loss: 395.0754 - val_loss: 214.5638\n",
      "Epoch 277/500\n",
      "10/10 [==============================] - 0s 14ms/step - loss: 389.4658 - val_loss: 210.4184\n",
      "Epoch 278/500\n",
      "10/10 [==============================] - 0s 9ms/step - loss: 383.9162 - val_loss: 206.3275\n",
      "Epoch 279/500\n",
      "10/10 [==============================] - 0s 8ms/step - loss: 378.4262 - val_loss: 202.2913\n",
      "Epoch 280/500\n",
      "10/10 [==============================] - 0s 7ms/step - loss: 372.9957 - val_loss: 198.3092\n",
      "Epoch 281/500\n",
      "10/10 [==============================] - 0s 7ms/step - loss: 367.6241 - val_loss: 194.3807\n",
      "Epoch 282/500\n",
      "10/10 [==============================] - 0s 7ms/step - loss: 362.3110 - val_loss: 190.5055\n",
      "Epoch 283/500\n",
      "10/10 [==============================] - 0s 7ms/step - loss: 357.0559 - val_loss: 186.6831\n",
      "Epoch 284/500\n",
      "10/10 [==============================] - 0s 7ms/step - loss: 351.8587 - val_loss: 182.9129\n",
      "Epoch 285/500\n",
      "10/10 [==============================] - 0s 7ms/step - loss: 346.7184 - val_loss: 179.1948\n",
      "Epoch 286/500\n",
      "10/10 [==============================] - 0s 7ms/step - loss: 341.6354 - val_loss: 175.5286\n",
      "Epoch 287/500\n",
      "10/10 [==============================] - 0s 7ms/step - loss: 336.6089 - val_loss: 171.9141\n",
      "Epoch 288/500\n",
      "10/10 [==============================] - 0s 6ms/step - loss: 331.6389 - val_loss: 168.3495\n",
      "Epoch 289/500\n",
      "10/10 [==============================] - 0s 7ms/step - loss: 326.7243 - val_loss: 164.8363\n",
      "Epoch 290/500\n",
      "10/10 [==============================] - 0s 6ms/step - loss: 321.8654 - val_loss: 161.3727\n",
      "Epoch 291/500\n",
      "10/10 [==============================] - 0s 6ms/step - loss: 317.0614 - val_loss: 157.9587\n",
      "Epoch 292/500\n",
      "10/10 [==============================] - 0s 7ms/step - loss: 312.3118 - val_loss: 154.5942\n",
      "Epoch 293/500\n",
      "10/10 [==============================] - 0s 9ms/step - loss: 307.6165 - val_loss: 151.2784\n",
      "Epoch 294/500\n",
      "10/10 [==============================] - 0s 9ms/step - loss: 302.9754 - val_loss: 148.0113\n",
      "Epoch 295/500\n",
      "10/10 [==============================] - 0s 9ms/step - loss: 298.3875 - val_loss: 144.7924\n",
      "Epoch 296/500\n",
      "10/10 [==============================] - 0s 11ms/step - loss: 293.8530 - val_loss: 141.6212\n",
      "Epoch 297/500\n",
      "10/10 [==============================] - 0s 19ms/step - loss: 289.3710 - val_loss: 138.4974\n",
      "Epoch 298/500\n",
      "10/10 [==============================] - 0s 9ms/step - loss: 284.9417 - val_loss: 135.4207\n",
      "Epoch 299/500\n",
      "10/10 [==============================] - 0s 10ms/step - loss: 280.5645 - val_loss: 132.3904\n",
      "Epoch 300/500\n",
      "10/10 [==============================] - 0s 9ms/step - loss: 276.2387 - val_loss: 129.4063\n",
      "Epoch 301/500\n",
      "10/10 [==============================] - 0s 9ms/step - loss: 271.9641 - val_loss: 126.4681\n",
      "Epoch 302/500\n",
      "10/10 [==============================] - 0s 10ms/step - loss: 267.7405 - val_loss: 123.5756\n",
      "Epoch 303/500\n",
      "10/10 [==============================] - 0s 9ms/step - loss: 263.5674 - val_loss: 120.7277\n",
      "Epoch 304/500\n",
      "10/10 [==============================] - 0s 9ms/step - loss: 259.4444 - val_loss: 117.9245\n",
      "Epoch 305/500\n",
      "10/10 [==============================] - 0s 15ms/step - loss: 255.3712 - val_loss: 115.1661\n",
      "Epoch 306/500\n",
      "10/10 [==============================] - 0s 9ms/step - loss: 251.3475 - val_loss: 112.4514\n",
      "Epoch 307/500\n",
      "10/10 [==============================] - 0s 9ms/step - loss: 247.3726 - val_loss: 109.7800\n",
      "Epoch 308/500\n",
      "10/10 [==============================] - 0s 9ms/step - loss: 243.4463 - val_loss: 107.1516\n",
      "Epoch 309/500\n",
      "10/10 [==============================] - 0s 9ms/step - loss: 239.5683 - val_loss: 104.5665\n",
      "Epoch 310/500\n",
      "10/10 [==============================] - 0s 8ms/step - loss: 235.7384 - val_loss: 102.0235\n",
      "Epoch 311/500\n",
      "10/10 [==============================] - 0s 9ms/step - loss: 231.9559 - val_loss: 99.5225\n",
      "Epoch 312/500\n",
      "10/10 [==============================] - 0s 9ms/step - loss: 228.2206 - val_loss: 97.0632\n",
      "Epoch 313/500\n",
      "10/10 [==============================] - 0s 10ms/step - loss: 224.5320 - val_loss: 94.6452\n",
      "Epoch 314/500\n",
      "10/10 [==============================] - 0s 10ms/step - loss: 220.8901 - val_loss: 92.2678\n",
      "Epoch 315/500\n",
      "10/10 [==============================] - 0s 9ms/step - loss: 217.2938 - val_loss: 89.9310\n",
      "Epoch 316/500\n",
      "10/10 [==============================] - 0s 9ms/step - loss: 213.7434 - val_loss: 87.6343\n",
      "Epoch 317/500\n",
      "10/10 [==============================] - 0s 8ms/step - loss: 210.2384 - val_loss: 85.3775\n",
      "Epoch 318/500\n",
      "10/10 [==============================] - 0s 7ms/step - loss: 206.7784 - val_loss: 83.1599\n",
      "Epoch 319/500\n",
      "10/10 [==============================] - 0s 9ms/step - loss: 203.3629 - val_loss: 80.9815\n",
      "Epoch 320/500\n",
      "10/10 [==============================] - 0s 22ms/step - loss: 199.9916 - val_loss: 78.8417\n",
      "Epoch 321/500\n",
      "10/10 [==============================] - 0s 10ms/step - loss: 196.6643 - val_loss: 76.7399\n",
      "Epoch 322/500\n",
      "10/10 [==============================] - 0s 9ms/step - loss: 193.3803 - val_loss: 74.6763\n",
      "Epoch 323/500\n",
      "10/10 [==============================] - 0s 9ms/step - loss: 190.1398 - val_loss: 72.6503\n",
      "Epoch 324/500\n",
      "10/10 [==============================] - 0s 11ms/step - loss: 186.9420 - val_loss: 70.6613\n",
      "Epoch 325/500\n",
      "10/10 [==============================] - 0s 11ms/step - loss: 183.7866 - val_loss: 68.7089\n",
      "Epoch 326/500\n",
      "10/10 [==============================] - 0s 9ms/step - loss: 180.6731 - val_loss: 66.7931\n",
      "Epoch 327/500\n",
      "10/10 [==============================] - 0s 9ms/step - loss: 177.6013 - val_loss: 64.9132\n",
      "Epoch 328/500\n",
      "10/10 [==============================] - 0s 8ms/step - loss: 174.5710 - val_loss: 63.0691\n",
      "Epoch 329/500\n",
      "10/10 [==============================] - 0s 8ms/step - loss: 171.5817 - val_loss: 61.2604\n",
      "Epoch 330/500\n",
      "10/10 [==============================] - 0s 8ms/step - loss: 168.6330 - val_loss: 59.4866\n",
      "Epoch 331/500\n",
      "10/10 [==============================] - 0s 9ms/step - loss: 165.7247 - val_loss: 57.7474\n",
      "Epoch 332/500\n",
      "10/10 [==============================] - 0s 8ms/step - loss: 162.8564 - val_loss: 56.0422\n",
      "Epoch 333/500\n",
      "10/10 [==============================] - 0s 8ms/step - loss: 160.0273 - val_loss: 54.3710\n",
      "Epoch 334/500\n",
      "10/10 [==============================] - 0s 8ms/step - loss: 157.2374 - val_loss: 52.7332\n",
      "Epoch 335/500\n",
      "10/10 [==============================] - 0s 8ms/step - loss: 154.4865 - val_loss: 51.1285\n",
      "Epoch 336/500\n",
      "10/10 [==============================] - 0s 8ms/step - loss: 151.7740 - val_loss: 49.5567\n",
      "Epoch 337/500\n",
      "10/10 [==============================] - 0s 8ms/step - loss: 149.0999 - val_loss: 48.0171\n",
      "Epoch 338/500\n",
      "10/10 [==============================] - 0s 9ms/step - loss: 146.4632 - val_loss: 46.5099\n",
      "Epoch 339/500\n",
      "10/10 [==============================] - 0s 9ms/step - loss: 143.8643 - val_loss: 45.0341\n",
      "Epoch 340/500\n",
      "10/10 [==============================] - 0s 8ms/step - loss: 141.3026 - val_loss: 43.5898\n",
      "Epoch 341/500\n",
      "10/10 [==============================] - 0s 8ms/step - loss: 138.7775 - val_loss: 42.1766\n",
      "Epoch 342/500\n",
      "10/10 [==============================] - 0s 8ms/step - loss: 136.2890 - val_loss: 40.7941\n",
      "Epoch 343/500\n",
      "10/10 [==============================] - 0s 17ms/step - loss: 133.8366 - val_loss: 39.4416\n",
      "Epoch 344/500\n",
      "10/10 [==============================] - 0s 8ms/step - loss: 131.4197 - val_loss: 38.1192\n",
      "Epoch 345/500\n",
      "10/10 [==============================] - 0s 9ms/step - loss: 129.0382 - val_loss: 36.8263\n",
      "Epoch 346/500\n",
      "10/10 [==============================] - 0s 8ms/step - loss: 126.6917 - val_loss: 35.5628\n",
      "Epoch 347/500\n",
      "10/10 [==============================] - 0s 8ms/step - loss: 124.3801 - val_loss: 34.3282\n",
      "Epoch 348/500\n",
      "10/10 [==============================] - 0s 8ms/step - loss: 122.1027 - val_loss: 33.1219\n",
      "Epoch 349/500\n",
      "10/10 [==============================] - 0s 9ms/step - loss: 119.8594 - val_loss: 31.9439\n",
      "Epoch 350/500\n",
      "10/10 [==============================] - 0s 9ms/step - loss: 117.6497 - val_loss: 30.7938\n",
      "Epoch 351/500\n",
      "10/10 [==============================] - 0s 7ms/step - loss: 115.4735 - val_loss: 29.6713\n",
      "Epoch 352/500\n",
      "10/10 [==============================] - 0s 7ms/step - loss: 113.3302 - val_loss: 28.5759\n",
      "Epoch 353/500\n",
      "10/10 [==============================] - 0s 7ms/step - loss: 111.2197 - val_loss: 27.5074\n",
      "Epoch 354/500\n",
      "10/10 [==============================] - 0s 8ms/step - loss: 109.1416 - val_loss: 26.4654\n",
      "Epoch 355/500\n",
      "10/10 [==============================] - 0s 7ms/step - loss: 107.0956 - val_loss: 25.4496\n",
      "Epoch 356/500\n",
      "10/10 [==============================] - 0s 7ms/step - loss: 105.0812 - val_loss: 24.4596\n",
      "Epoch 357/500\n",
      "10/10 [==============================] - 0s 7ms/step - loss: 103.0981 - val_loss: 23.4951\n",
      "Epoch 358/500\n",
      "10/10 [==============================] - 0s 7ms/step - loss: 101.1458 - val_loss: 22.5555\n",
      "Epoch 359/500\n",
      "10/10 [==============================] - 0s 7ms/step - loss: 99.2244 - val_loss: 21.6409\n",
      "Epoch 360/500\n",
      "10/10 [==============================] - 0s 7ms/step - loss: 97.3334 - val_loss: 20.7509\n",
      "Epoch 361/500\n",
      "10/10 [==============================] - 0s 7ms/step - loss: 95.4724 - val_loss: 19.8851\n",
      "Epoch 362/500\n",
      "10/10 [==============================] - 0s 14ms/step - loss: 93.6412 - val_loss: 19.0429\n",
      "Epoch 363/500\n",
      "10/10 [==============================] - 0s 8ms/step - loss: 91.8392 - val_loss: 18.2244\n",
      "Epoch 364/500\n",
      "10/10 [==============================] - 0s 8ms/step - loss: 90.0664 - val_loss: 17.4291\n",
      "Epoch 365/500\n",
      "10/10 [==============================] - 0s 8ms/step - loss: 88.3224 - val_loss: 16.6565\n",
      "Epoch 366/500\n",
      "10/10 [==============================] - 0s 7ms/step - loss: 86.6068 - val_loss: 15.9065\n",
      "Epoch 367/500\n",
      "10/10 [==============================] - 0s 7ms/step - loss: 84.9194 - val_loss: 15.1788\n",
      "Epoch 368/500\n",
      "10/10 [==============================] - 0s 7ms/step - loss: 83.2598 - val_loss: 14.4731\n",
      "Epoch 369/500\n",
      "10/10 [==============================] - 0s 7ms/step - loss: 81.6278 - val_loss: 13.7890\n",
      "Epoch 370/500\n",
      "10/10 [==============================] - 0s 7ms/step - loss: 80.0231 - val_loss: 13.1260\n",
      "Epoch 371/500\n",
      "10/10 [==============================] - 0s 7ms/step - loss: 78.4450 - val_loss: 12.4840\n",
      "Epoch 372/500\n",
      "10/10 [==============================] - 0s 7ms/step - loss: 76.8935 - val_loss: 11.8626\n",
      "Epoch 373/500\n",
      "10/10 [==============================] - 0s 8ms/step - loss: 75.3683 - val_loss: 11.2616\n",
      "Epoch 374/500\n",
      "10/10 [==============================] - 0s 8ms/step - loss: 73.8690 - val_loss: 10.6806\n",
      "Epoch 375/500\n",
      "10/10 [==============================] - 0s 7ms/step - loss: 72.3954 - val_loss: 10.1194\n",
      "Epoch 376/500\n",
      "10/10 [==============================] - 0s 8ms/step - loss: 70.9470 - val_loss: 9.5775\n",
      "Epoch 377/500\n",
      "10/10 [==============================] - 0s 8ms/step - loss: 69.5238 - val_loss: 9.0548\n",
      "Epoch 378/500\n",
      "10/10 [==============================] - 0s 8ms/step - loss: 68.1253 - val_loss: 8.5509\n",
      "Epoch 379/500\n",
      "10/10 [==============================] - 0s 7ms/step - loss: 66.7512 - val_loss: 8.0655\n",
      "Epoch 380/500\n",
      "10/10 [==============================] - 0s 15ms/step - loss: 65.4013 - val_loss: 7.5983\n",
      "Epoch 381/500\n",
      "10/10 [==============================] - 0s 9ms/step - loss: 64.0751 - val_loss: 7.1490\n",
      "Epoch 382/500\n",
      "10/10 [==============================] - 0s 8ms/step - loss: 62.7724 - val_loss: 6.7172\n",
      "Epoch 383/500\n",
      "10/10 [==============================] - 0s 8ms/step - loss: 61.4928 - val_loss: 6.3028\n",
      "Epoch 384/500\n",
      "10/10 [==============================] - 0s 8ms/step - loss: 60.2364 - val_loss: 5.9054\n",
      "Epoch 385/500\n",
      "10/10 [==============================] - 0s 8ms/step - loss: 59.0026 - val_loss: 5.5249\n",
      "Epoch 386/500\n",
      "10/10 [==============================] - 0s 8ms/step - loss: 57.7914 - val_loss: 5.1607\n",
      "Epoch 387/500\n",
      "10/10 [==============================] - 0s 8ms/step - loss: 56.6020 - val_loss: 4.8127\n",
      "Epoch 388/500\n",
      "10/10 [==============================] - 0s 8ms/step - loss: 55.4345 - val_loss: 4.4806\n",
      "Epoch 389/500\n",
      "10/10 [==============================] - 0s 9ms/step - loss: 54.2886 - val_loss: 4.1641\n",
      "Epoch 390/500\n",
      "10/10 [==============================] - 0s 8ms/step - loss: 53.1639 - val_loss: 3.8630\n",
      "Epoch 391/500\n",
      "10/10 [==============================] - 0s 8ms/step - loss: 52.0601 - val_loss: 3.5768\n",
      "Epoch 392/500\n",
      "10/10 [==============================] - 0s 8ms/step - loss: 50.9769 - val_loss: 3.3054\n",
      "Epoch 393/500\n",
      "10/10 [==============================] - 0s 8ms/step - loss: 49.9142 - val_loss: 3.0485\n",
      "Epoch 394/500\n",
      "10/10 [==============================] - 0s 8ms/step - loss: 48.8716 - val_loss: 2.8059\n",
      "Epoch 395/500\n",
      "10/10 [==============================] - 0s 7ms/step - loss: 47.8490 - val_loss: 2.5772\n",
      "Epoch 396/500\n",
      "10/10 [==============================] - 0s 7ms/step - loss: 46.8459 - val_loss: 2.3621\n",
      "Epoch 397/500\n",
      "10/10 [==============================] - 0s 16ms/step - loss: 45.8620 - val_loss: 2.1605\n",
      "Epoch 398/500\n",
      "10/10 [==============================] - 0s 8ms/step - loss: 44.8971 - val_loss: 1.9720\n",
      "Epoch 399/500\n",
      "10/10 [==============================] - 0s 8ms/step - loss: 43.9510 - val_loss: 1.7964\n",
      "Epoch 400/500\n",
      "10/10 [==============================] - 0s 8ms/step - loss: 43.0235 - val_loss: 1.6334\n",
      "Epoch 401/500\n",
      "10/10 [==============================] - 0s 9ms/step - loss: 42.1142 - val_loss: 1.4828\n",
      "Epoch 402/500\n",
      "10/10 [==============================] - 0s 8ms/step - loss: 41.2229 - val_loss: 1.3443\n",
      "Epoch 403/500\n",
      "10/10 [==============================] - 0s 8ms/step - loss: 40.3492 - val_loss: 1.2177\n",
      "Epoch 404/500\n",
      "10/10 [==============================] - 0s 8ms/step - loss: 39.4931 - val_loss: 1.1027\n",
      "Epoch 405/500\n",
      "10/10 [==============================] - 0s 7ms/step - loss: 38.6542 - val_loss: 0.9990\n",
      "Epoch 406/500\n",
      "10/10 [==============================] - 0s 8ms/step - loss: 37.8322 - val_loss: 0.9065\n",
      "Epoch 407/500\n",
      "10/10 [==============================] - 0s 8ms/step - loss: 37.0270 - val_loss: 0.8248\n",
      "Epoch 408/500\n",
      "10/10 [==============================] - 0s 8ms/step - loss: 36.2384 - val_loss: 0.7538\n",
      "Epoch 409/500\n",
      "10/10 [==============================] - 0s 9ms/step - loss: 35.4659 - val_loss: 0.6931\n",
      "Epoch 410/500\n",
      "10/10 [==============================] - 0s 7ms/step - loss: 34.7092 - val_loss: 0.6426\n",
      "Epoch 411/500\n",
      "10/10 [==============================] - 0s 7ms/step - loss: 33.9683 - val_loss: 0.6020\n",
      "Epoch 412/500\n",
      "10/10 [==============================] - 0s 7ms/step - loss: 33.2429 - val_loss: 0.5711\n",
      "Epoch 413/500\n",
      "10/10 [==============================] - 0s 10ms/step - loss: 32.5327 - val_loss: 0.5496\n",
      "Epoch 414/500\n",
      "10/10 [==============================] - 0s 11ms/step - loss: 31.8375 - val_loss: 0.5374\n",
      "Epoch 415/500\n",
      "10/10 [==============================] - 0s 10ms/step - loss: 31.1571 - val_loss: 0.5341\n",
      "Epoch 416/500\n",
      "10/10 [==============================] - 0s 9ms/step - loss: 30.4911 - val_loss: 0.5397\n",
      "Epoch 417/500\n",
      "10/10 [==============================] - 0s 13ms/step - loss: 29.8395 - val_loss: 0.5537\n",
      "Epoch 418/500\n",
      "10/10 [==============================] - 0s 13ms/step - loss: 29.2021 - val_loss: 0.5761\n",
      "Epoch 419/500\n",
      "10/10 [==============================] - 0s 9ms/step - loss: 28.5783 - val_loss: 0.6066\n",
      "Epoch 420/500\n",
      "10/10 [==============================] - 0s 9ms/step - loss: 27.9683 - val_loss: 0.6450\n",
      "Epoch 421/500\n",
      "10/10 [==============================] - 0s 8ms/step - loss: 27.3716 - val_loss: 0.6911\n",
      "Epoch 422/500\n",
      "10/10 [==============================] - 0s 9ms/step - loss: 26.7880 - val_loss: 0.7447\n",
      "Epoch 423/500\n",
      "10/10 [==============================] - 0s 9ms/step - loss: 26.2174 - val_loss: 0.8055\n",
      "Epoch 424/500\n",
      "10/10 [==============================] - 0s 27ms/step - loss: 25.6597 - val_loss: 0.8734\n",
      "Epoch 425/500\n",
      "10/10 [==============================] - 0s 8ms/step - loss: 25.1144 - val_loss: 0.9482\n",
      "Epoch 426/500\n",
      "10/10 [==============================] - 0s 8ms/step - loss: 24.5814 - val_loss: 1.0296\n",
      "Epoch 427/500\n",
      "10/10 [==============================] - 0s 8ms/step - loss: 24.0605 - val_loss: 1.1175\n",
      "Epoch 428/500\n",
      "10/10 [==============================] - 0s 8ms/step - loss: 23.5515 - val_loss: 1.2116\n",
      "Epoch 429/500\n",
      "10/10 [==============================] - 0s 8ms/step - loss: 23.0542 - val_loss: 1.3118\n",
      "Epoch 430/500\n",
      "10/10 [==============================] - 0s 8ms/step - loss: 22.5683 - val_loss: 1.4179\n",
      "Epoch 431/500\n",
      "10/10 [==============================] - 0s 7ms/step - loss: 22.0937 - val_loss: 1.5297\n",
      "Epoch 432/500\n",
      "10/10 [==============================] - 0s 7ms/step - loss: 21.6303 - val_loss: 1.6470\n",
      "Epoch 433/500\n",
      "10/10 [==============================] - 0s 7ms/step - loss: 21.1777 - val_loss: 1.7696\n",
      "Epoch 434/500\n",
      "10/10 [==============================] - 0s 9ms/step - loss: 20.7358 - val_loss: 1.8974\n",
      "Epoch 435/500\n",
      "10/10 [==============================] - 0s 13ms/step - loss: 20.3043 - val_loss: 2.0302\n",
      "Epoch 436/500\n",
      "10/10 [==============================] - 0s 16ms/step - loss: 19.8832 - val_loss: 2.1677\n",
      "Epoch 437/500\n",
      "10/10 [==============================] - 0s 8ms/step - loss: 19.4721 - val_loss: 2.3099\n",
      "Epoch 438/500\n",
      "10/10 [==============================] - 0s 8ms/step - loss: 19.0710 - val_loss: 2.4565\n",
      "Epoch 439/500\n",
      "10/10 [==============================] - 0s 8ms/step - loss: 18.6796 - val_loss: 2.6074\n",
      "Epoch 440/500\n",
      "10/10 [==============================] - 0s 7ms/step - loss: 18.2977 - val_loss: 2.7624\n",
      "Epoch 441/500\n",
      "10/10 [==============================] - 0s 8ms/step - loss: 17.9253 - val_loss: 2.9214\n",
      "Epoch 442/500\n",
      "10/10 [==============================] - 0s 7ms/step - loss: 17.5620 - val_loss: 3.0841\n",
      "Epoch 443/500\n",
      "10/10 [==============================] - 0s 7ms/step - loss: 17.2077 - val_loss: 3.2506\n",
      "Epoch 444/500\n",
      "10/10 [==============================] - 0s 7ms/step - loss: 16.8622 - val_loss: 3.4205\n",
      "Epoch 445/500\n",
      "10/10 [==============================] - 0s 8ms/step - loss: 16.5254 - val_loss: 3.5937\n",
      "Epoch 446/500\n",
      "10/10 [==============================] - 0s 9ms/step - loss: 16.1971 - val_loss: 3.7700\n",
      "Epoch 447/500\n",
      "10/10 [==============================] - 0s 8ms/step - loss: 15.8772 - val_loss: 3.9494\n",
      "Epoch 448/500\n",
      "10/10 [==============================] - 0s 7ms/step - loss: 15.5654 - val_loss: 4.1317\n",
      "Epoch 449/500\n",
      "10/10 [==============================] - 0s 7ms/step - loss: 15.2616 - val_loss: 4.3168\n",
      "Epoch 450/500\n",
      "10/10 [==============================] - 0s 7ms/step - loss: 14.9656 - val_loss: 4.5043\n",
      "Epoch 451/500\n",
      "10/10 [==============================] - 0s 11ms/step - loss: 14.6774 - val_loss: 4.6944\n",
      "Epoch 452/500\n",
      "10/10 [==============================] - 0s 16ms/step - loss: 14.3966 - val_loss: 4.8867\n",
      "Epoch 453/500\n",
      "10/10 [==============================] - 0s 16ms/step - loss: 14.1232 - val_loss: 5.0813\n",
      "Epoch 454/500\n",
      "10/10 [==============================] - 0s 10ms/step - loss: 13.8570 - val_loss: 5.2780\n",
      "Epoch 455/500\n",
      "10/10 [==============================] - 0s 12ms/step - loss: 13.5979 - val_loss: 5.4765\n",
      "Epoch 456/500\n",
      "10/10 [==============================] - 0s 10ms/step - loss: 13.3457 - val_loss: 5.6769\n",
      "Epoch 457/500\n",
      "10/10 [==============================] - 0s 10ms/step - loss: 13.1002 - val_loss: 5.8789\n",
      "Epoch 458/500\n",
      "10/10 [==============================] - 0s 9ms/step - loss: 12.8614 - val_loss: 6.0826\n",
      "Epoch 459/500\n",
      "10/10 [==============================] - 0s 8ms/step - loss: 12.6290 - val_loss: 6.2876\n",
      "Epoch 460/500\n",
      "10/10 [==============================] - 0s 8ms/step - loss: 12.4030 - val_loss: 6.4940\n",
      "Epoch 461/500\n",
      "10/10 [==============================] - 0s 9ms/step - loss: 12.1831 - val_loss: 6.7016\n",
      "Epoch 462/500\n",
      "10/10 [==============================] - 0s 10ms/step - loss: 11.9694 - val_loss: 6.9103\n",
      "Epoch 463/500\n",
      "10/10 [==============================] - 0s 10ms/step - loss: 11.7615 - val_loss: 7.1200\n",
      "Epoch 464/500\n",
      "10/10 [==============================] - 0s 11ms/step - loss: 11.5594 - val_loss: 7.3305\n",
      "Epoch 465/500\n",
      "10/10 [==============================] - 0s 14ms/step - loss: 11.3631 - val_loss: 7.5418\n",
      "Epoch 466/500\n",
      "10/10 [==============================] - 0s 9ms/step - loss: 11.1723 - val_loss: 7.7538\n",
      "Epoch 467/500\n",
      "10/10 [==============================] - 0s 8ms/step - loss: 10.9868 - val_loss: 7.9663\n",
      "Epoch 468/500\n",
      "10/10 [==============================] - 0s 9ms/step - loss: 10.8066 - val_loss: 8.1795\n",
      "Epoch 469/500\n",
      "10/10 [==============================] - 0s 15ms/step - loss: 10.6316 - val_loss: 8.3928\n",
      "Epoch 470/500\n",
      "10/10 [==============================] - 0s 10ms/step - loss: 10.4617 - val_loss: 8.6065\n",
      "Epoch 471/500\n",
      "10/10 [==============================] - 0s 8ms/step - loss: 10.2966 - val_loss: 8.8205\n",
      "Epoch 472/500\n",
      "10/10 [==============================] - 0s 7ms/step - loss: 10.1364 - val_loss: 9.0345\n",
      "Epoch 473/500\n",
      "10/10 [==============================] - 0s 7ms/step - loss: 9.9809 - val_loss: 9.2484\n",
      "Epoch 474/500\n",
      "10/10 [==============================] - 0s 7ms/step - loss: 9.8300 - val_loss: 9.4623\n",
      "Epoch 475/500\n",
      "10/10 [==============================] - 0s 7ms/step - loss: 9.6835 - val_loss: 9.6761\n",
      "Epoch 476/500\n",
      "10/10 [==============================] - 0s 8ms/step - loss: 9.5415 - val_loss: 9.8898\n",
      "Epoch 477/500\n",
      "10/10 [==============================] - 0s 11ms/step - loss: 9.4036 - val_loss: 10.1030\n",
      "Epoch 478/500\n",
      "10/10 [==============================] - 0s 10ms/step - loss: 9.2699 - val_loss: 10.3158\n",
      "Epoch 479/500\n",
      "10/10 [==============================] - 0s 9ms/step - loss: 9.1403 - val_loss: 10.5282\n",
      "Epoch 480/500\n",
      "10/10 [==============================] - 0s 9ms/step - loss: 9.0146 - val_loss: 10.7401\n",
      "Epoch 481/500\n",
      "10/10 [==============================] - 0s 14ms/step - loss: 8.8928 - val_loss: 10.9515\n",
      "Epoch 482/500\n",
      "10/10 [==============================] - 0s 8ms/step - loss: 8.7747 - val_loss: 11.1621\n",
      "Epoch 483/500\n",
      "10/10 [==============================] - 0s 7ms/step - loss: 8.6602 - val_loss: 11.3719\n",
      "Epoch 484/500\n",
      "10/10 [==============================] - 0s 7ms/step - loss: 8.5494 - val_loss: 11.5811\n",
      "Epoch 485/500\n",
      "10/10 [==============================] - 0s 7ms/step - loss: 8.4420 - val_loss: 11.7893\n",
      "Epoch 486/500\n",
      "10/10 [==============================] - 0s 7ms/step - loss: 8.3380 - val_loss: 11.9965\n",
      "Epoch 487/500\n",
      "10/10 [==============================] - 0s 7ms/step - loss: 8.2373 - val_loss: 12.2027\n",
      "Epoch 488/500\n",
      "10/10 [==============================] - 0s 6ms/step - loss: 8.1398 - val_loss: 12.4081\n",
      "Epoch 489/500\n",
      "10/10 [==============================] - 0s 6ms/step - loss: 8.0454 - val_loss: 12.6122\n",
      "Epoch 490/500\n",
      "10/10 [==============================] - 0s 7ms/step - loss: 7.9541 - val_loss: 12.8154\n",
      "Epoch 491/500\n",
      "10/10 [==============================] - 0s 7ms/step - loss: 7.8657 - val_loss: 13.0172\n",
      "Epoch 492/500\n",
      "10/10 [==============================] - 0s 6ms/step - loss: 7.7802 - val_loss: 13.2178\n",
      "Epoch 493/500\n",
      "10/10 [==============================] - 0s 6ms/step - loss: 7.6974 - val_loss: 13.4173\n",
      "Epoch 494/500\n",
      "10/10 [==============================] - 0s 6ms/step - loss: 7.6174 - val_loss: 13.6153\n",
      "Epoch 495/500\n",
      "10/10 [==============================] - 0s 7ms/step - loss: 7.5401 - val_loss: 13.8119\n",
      "Epoch 496/500\n",
      "10/10 [==============================] - 0s 6ms/step - loss: 7.4653 - val_loss: 14.0071\n",
      "Epoch 497/500\n",
      "10/10 [==============================] - 0s 6ms/step - loss: 7.3930 - val_loss: 14.2010\n",
      "Epoch 498/500\n",
      "10/10 [==============================] - 0s 13ms/step - loss: 7.3231 - val_loss: 14.3933\n",
      "Epoch 499/500\n",
      "10/10 [==============================] - 0s 7ms/step - loss: 7.2556 - val_loss: 14.5842\n",
      "Epoch 500/500\n",
      "10/10 [==============================] - 0s 7ms/step - loss: 7.1904 - val_loss: 14.7734\n"
     ]
    }
   ],
   "source": [
    "C0 = tf.Variable(86.6856, name=\"C0\", trainable=True, dtype=tf.float32)\n",
    "K0 = tf.Variable(-0.0008, name=\"K0\", trainable=True, dtype=tf.float32)\n",
    "K1 = tf.Variable(-0.0002, name=\"K1\", trainable=True, dtype=tf.float32)\n",
    "a = tf.Variable(0.0000, name=\"a\", trainable=True, dtype=tf.float32)\n",
    "b = tf.Variable(0.0128, name=\"b\", trainable=True, dtype=tf.float32)\n",
    "c = tf.Variable(-2.3003, name=\"c\", trainable=True, dtype=tf.float32)\n",
    "\n",
    "splitr = 0.8\n",
    "\n",
    "\n",
    "def loss_fn(y_true, y_pred):\n",
    "    squared_difference = tf.square(y_true[:, 0] - y_pred[:, 0])\n",
    "    #squared_difference2 = tf.square(y_true[:, 2]-y_pred[:, 2])\n",
    "    #squared_difference1 = tf.square(y_true[:, 1]-y_pred[:, 1])\n",
    "    epsilon = 1\n",
    "    squared_difference3 = tf.square(\n",
    "        y_pred[:, 1] - (\n",
    "            y_pred[:, 0] * (\n",
    "                K0 - K1 * (\n",
    "                    9 * a * tf.math.log((y_pred[:, 0] + epsilon) / C0) / (K0 - K1 * c)**2 +\n",
    "                    4 * b * tf.math.log((y_pred[:, 0] + epsilon) / C0) / (K0 - K1 * c) + c\n",
    "                )\n",
    "            )\n",
    "        )\n",
    "    )\n",
    "    return tf.reduce_mean(squared_difference, axis=-1) + 0.2*tf.reduce_mean(squared_difference3, axis=-1)\n",
    "model = Sequential()\n",
    "model.add(LSTM(100, input_shape=(trainX.shape[1], trainX.shape[2])))\n",
    "model.add(Dense(60))\n",
    "model.compile(loss=loss_fn, optimizer='adam')\n",
    "history = model.fit(trainX[:int(splitr*trainX.shape[0])], trainy[:int(splitr*trainX.shape[0])], epochs=500, batch_size=64, validation_data=(trainX[int(splitr*trainX.shape[0]):trainX.shape[0]], trainy[int(splitr*trainX.shape[0]):trainX.shape[0]]), shuffle=False)"
   ]
  },
  {
   "cell_type": "code",
   "execution_count": 19,
   "metadata": {
    "colab": {
     "base_uri": "https://localhost:8080/"
    },
    "id": "yJL101rPyuoT",
    "outputId": "239ff2b1-c186-423a-d316-939dfdd7c793"
   },
   "outputs": [
    {
     "name": "stdout",
     "output_type": "stream",
     "text": [
      "1/1 [==============================] - 0s 431ms/step\n"
     ]
    }
   ],
   "source": [
    "forecast_without_mc = forecastX\n",
    "yhat_without_mc = model.predict(forecast_without_mc) # Step Ahead Prediction\n",
    "forecast_without_mc = forecast_without_mc.reshape((forecast_without_mc.shape[0], forecast_without_mc.shape[2])) # Historical Input"
   ]
  },
  {
   "cell_type": "code",
   "execution_count": 20,
   "metadata": {
    "colab": {
     "base_uri": "https://localhost:8080/"
    },
    "id": "g9dQELcJ8wbp",
    "outputId": "4dc7671b-b1a8-48d5-8744-a86f98446109"
   },
   "outputs": [
    {
     "data": {
      "text/plain": [
       "(1, 1, 251)"
      ]
     },
     "execution_count": 20,
     "metadata": {},
     "output_type": "execute_result"
    }
   ],
   "source": [
    "forecastX.shape"
   ]
  },
  {
   "cell_type": "code",
   "execution_count": 21,
   "metadata": {
    "colab": {
     "base_uri": "https://localhost:8080/"
    },
    "id": "IS2kyIKG1Kbr",
    "outputId": "f31b3485-8e26-452f-9298-ea8bf7e80ad1"
   },
   "outputs": [
    {
     "data": {
      "text/plain": [
       "(1, 251)"
      ]
     },
     "execution_count": 21,
     "metadata": {},
     "output_type": "execute_result"
    }
   ],
   "source": [
    "forecast_without_mc.shape"
   ]
  },
  {
   "cell_type": "code",
   "execution_count": 22,
   "metadata": {
    "id": "0u6VIzaDyuoT"
   },
   "outputs": [],
   "source": [
    "inv_yhat_without_mc = np.concatenate((forecast_without_mc, yhat_without_mc), axis=1) # Concatenation of predicted values with Historical Data\n",
    "#inv_yhat_without_mc = scaler.inverse_transform(inv_yhat_without_mc) # Transform labels back to original encoding"
   ]
  },
  {
   "cell_type": "code",
   "execution_count": 23,
   "metadata": {
    "colab": {
     "base_uri": "https://localhost:8080/"
    },
    "id": "EUEcw0LX07oU",
    "outputId": "cfc32397-9c37-4b43-d087-584bb31c3dcc"
   },
   "outputs": [
    {
     "data": {
      "text/plain": [
       "(1, 311)"
      ]
     },
     "execution_count": 23,
     "metadata": {},
     "output_type": "execute_result"
    }
   ],
   "source": [
    "inv_yhat_without_mc.shape"
   ]
  },
  {
   "cell_type": "code",
   "execution_count": 24,
   "metadata": {
    "id": "31OWVbSh_305"
   },
   "outputs": [],
   "source": [
    "fforecast = inv_yhat_without_mc[:,-300:]"
   ]
  },
  {
   "cell_type": "code",
   "execution_count": 25,
   "metadata": {},
   "outputs": [
    {
     "data": {
      "text/plain": [
       "(1, 300)"
      ]
     },
     "execution_count": 25,
     "metadata": {},
     "output_type": "execute_result"
    }
   ],
   "source": [
    "fforecast.shape"
   ]
  },
  {
   "cell_type": "code",
   "execution_count": 26,
   "metadata": {
    "id": "BlpGH2FOAiRF"
   },
   "outputs": [],
   "source": [
    "final_forecast = fforecast[:,0:300:3]"
   ]
  },
  {
   "cell_type": "code",
   "execution_count": 27,
   "metadata": {},
   "outputs": [
    {
     "data": {
      "text/plain": [
       "(1, 300)"
      ]
     },
     "execution_count": 27,
     "metadata": {},
     "output_type": "execute_result"
    }
   ],
   "source": [
    "fforecast.shape"
   ]
  },
  {
   "cell_type": "code",
   "execution_count": 28,
   "metadata": {
    "id": "CXkgkj_LBk_t"
   },
   "outputs": [],
   "source": [
    "# code to replace all negative value with 0\n",
    "final_forecast[final_forecast<0] = 0"
   ]
  },
  {
   "cell_type": "code",
   "execution_count": 29,
   "metadata": {},
   "outputs": [
    {
     "data": {
      "text/plain": [
       "array([[7.43443044e+01, 7.43162932e+01, 7.42882820e+01, 7.42602708e+01,\n",
       "        7.42322596e+01, 7.42042484e+01, 7.41762372e+01, 7.41482260e+01,\n",
       "        7.41202148e+01, 7.40922035e+01, 7.40641923e+01, 7.40361811e+01,\n",
       "        7.40081699e+01, 7.39702381e+01, 7.39282213e+01, 7.38862045e+01,\n",
       "        7.38441877e+01, 7.38021709e+01, 7.37601541e+01, 7.37181372e+01,\n",
       "        7.36761204e+01, 7.36341036e+01, 7.35920868e+01, 7.35500700e+01,\n",
       "        7.35080532e+01, 7.34660364e+01, 7.34240196e+01, 7.33820028e+01,\n",
       "        7.33399860e+01, 7.32979692e+01, 7.32559524e+01, 7.32139356e+01,\n",
       "        7.31719188e+01, 7.31299020e+01, 7.30878852e+01, 7.30458684e+01,\n",
       "        7.30038515e+01, 7.29618347e+01, 7.29198179e+01, 7.28778011e+01,\n",
       "        7.28357843e+01, 7.27937675e+01, 7.27517507e+01, 7.27097339e+01,\n",
       "        7.26677171e+01, 7.26257003e+01, 7.25836835e+01, 7.25416667e+01,\n",
       "        7.24995798e+01, 7.24491597e+01, 7.23987395e+01, 7.23483193e+01,\n",
       "        7.22978992e+01, 7.22474790e+01, 7.21970588e+01, 7.21466387e+01,\n",
       "        7.20962185e+01, 7.20457983e+01, 7.19953781e+01, 7.19449580e+01,\n",
       "        7.18945378e+01, 7.18441177e+01, 7.17936975e+01, 7.17432773e+01,\n",
       "        7.16928571e+01, 7.16424370e+01, 7.15920168e+01, 7.15415966e+01,\n",
       "        7.14911765e+01, 7.14407563e+01, 7.13903361e+01, 7.13399160e+01,\n",
       "        7.12894958e+01, 7.12390756e+01, 7.11886555e+01, 7.11382353e+01,\n",
       "        7.10878151e+01, 7.10373950e+01, 7.09869748e+01, 7.09365546e+01,\n",
       "        7.59762115e+01, 4.20791447e-01, 2.50196904e-02, 0.00000000e+00,\n",
       "        1.00360058e-01, 2.04454392e-01, 0.00000000e+00, 0.00000000e+00,\n",
       "        8.59306455e-02, 4.63057578e-01, 6.41931444e-02, 4.23435479e-01,\n",
       "        2.80094087e-01, 0.00000000e+00, 4.60363358e-01, 0.00000000e+00,\n",
       "        6.39821112e-01, 8.07693124e-01, 3.26410592e-01, 2.46869147e-01]])"
      ]
     },
     "execution_count": 29,
     "metadata": {},
     "output_type": "execute_result"
    }
   ],
   "source": [
    "final_forecast"
   ]
  },
  {
   "cell_type": "code",
   "execution_count": 30,
   "metadata": {},
   "outputs": [
    {
     "data": {
      "text/plain": [
       "(1, 100)"
      ]
     },
     "execution_count": 30,
     "metadata": {},
     "output_type": "execute_result"
    }
   ],
   "source": [
    "final_forecast.shape"
   ]
  },
  {
   "cell_type": "code",
   "execution_count": 31,
   "metadata": {},
   "outputs": [
    {
     "data": {
      "text/plain": [
       "(100,)"
      ]
     },
     "execution_count": 31,
     "metadata": {},
     "output_type": "execute_result"
    }
   ],
   "source": [
    "test.shape"
   ]
  },
  {
   "cell_type": "code",
   "execution_count": 32,
   "metadata": {},
   "outputs": [],
   "source": [
    "training_set = np.array(training_set)\n",
    "test = np.array(test)\n",
    "final_forecast = np.array(final_forecast.squeeze(0))"
   ]
  },
  {
   "cell_type": "code",
   "execution_count": 33,
   "metadata": {},
   "outputs": [
    {
     "data": {
      "text/plain": [
       "array([70.17359944, 70.17079832, 70.1679972 , 70.16519608, 70.16239496,\n",
       "       70.15959384, 70.15679272, 70.1539916 , 70.15119048, 70.14838936,\n",
       "       70.14558824, 70.14278711, 70.13998599, 70.13718487, 70.13438375,\n",
       "       70.13158263, 70.12878151, 70.12598039, 70.12317927, 70.12037815,\n",
       "       70.11757703, 70.11477591, 70.11197479, 70.10917367, 70.10637255,\n",
       "       70.10357143, 70.10077031, 70.09796919, 70.09516807, 70.09236695,\n",
       "       70.08956583, 70.08676471, 70.08396359, 70.08116246, 70.07836134,\n",
       "       70.07556022, 70.0727591 , 70.06995798, 70.06715686, 70.06435574,\n",
       "       70.06155462, 70.0587535 , 70.05595238, 70.05315126, 70.05035014,\n",
       "       70.04754902, 70.0447479 , 70.04194678, 70.03914566, 70.03634454,\n",
       "       70.03354342, 70.0307423 , 70.02794118, 70.02514006, 70.02233894,\n",
       "       70.01953782, 70.01673669, 70.01393557, 70.01113445, 70.00833333,\n",
       "       70.00553221, 70.00273109, 69.99992997, 69.99712885, 69.99432773,\n",
       "       69.99152661, 69.98872549, 69.98592437, 69.98312325, 69.98032213,\n",
       "       69.97752101, 69.97471989, 69.97191877, 69.96911765, 69.96631653,\n",
       "       69.96351541, 69.96071429, 69.95791317, 69.95511204, 69.95231092,\n",
       "       69.9495098 , 69.94670868, 69.94390756, 69.94110644, 69.93830532,\n",
       "       69.9355042 , 69.93270308, 69.92990196, 69.92710084, 69.92429972,\n",
       "       69.9214986 , 69.91869748, 69.91589636, 69.91309524, 69.91029412,\n",
       "       69.907493  , 69.90469188, 69.90189076, 69.89908964, 69.89628852])"
      ]
     },
     "execution_count": 33,
     "metadata": {},
     "output_type": "execute_result"
    }
   ],
   "source": [
    "test"
   ]
  },
  {
   "cell_type": "code",
   "execution_count": 34,
   "metadata": {},
   "outputs": [
    {
     "data": {
      "text/plain": [
       "(100,)"
      ]
     },
     "execution_count": 34,
     "metadata": {},
     "output_type": "execute_result"
    }
   ],
   "source": [
    "test.shape"
   ]
  },
  {
   "cell_type": "code",
   "execution_count": 35,
   "metadata": {},
   "outputs": [
    {
     "data": {
      "text/plain": [
       "(100,)"
      ]
     },
     "execution_count": 35,
     "metadata": {},
     "output_type": "execute_result"
    }
   ],
   "source": [
    "final_forecast.shape"
   ]
  },
  {
   "cell_type": "code",
   "execution_count": 36,
   "metadata": {},
   "outputs": [
    {
     "data": {
      "text/plain": [
       "(100,)"
      ]
     },
     "execution_count": 36,
     "metadata": {},
     "output_type": "execute_result"
    }
   ],
   "source": [
    "test.shape"
   ]
  },
  {
   "cell_type": "code",
   "execution_count": 37,
   "metadata": {},
   "outputs": [
    {
     "name": "stdout",
     "output_type": "stream",
     "text": [
      "30.489576082930753\n",
      "15.481778343831502\n"
     ]
    }
   ],
   "source": [
    "import math\n",
    "MSE = np.square(np.subtract(np.array(test),np.array(final_forecast))).mean()   \n",
    "rsme = math.sqrt(MSE)\n",
    "print(rsme)  \n",
    "MAE = np.abs(np.subtract(np.array(test),np.array(final_forecast))).mean()   \n",
    "mae = MAE\n",
    "print(mae)"
   ]
  }
 ],
 "metadata": {
  "colab": {
   "provenance": []
  },
  "kernelspec": {
   "display_name": "Python 3",
   "language": "python",
   "name": "python3"
  },
  "language_info": {
   "codemirror_mode": {
    "name": "ipython",
    "version": 3
   },
   "file_extension": ".py",
   "mimetype": "text/x-python",
   "name": "python",
   "nbconvert_exporter": "python",
   "pygments_lexer": "ipython3",
   "version": "3.9.13"
  }
 },
 "nbformat": 4,
 "nbformat_minor": 0
}
