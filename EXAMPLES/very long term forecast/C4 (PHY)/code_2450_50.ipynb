{
 "cells": [
  {
   "cell_type": "markdown",
   "metadata": {
    "id": "pCGKeZ2gyuoQ"
   },
   "source": [
    "_Importing Required Libraries_"
   ]
  },
  {
   "cell_type": "code",
   "execution_count": 1,
   "metadata": {
    "colab": {
     "base_uri": "https://localhost:8080/"
    },
    "id": "A-6LN-zXiLcM",
    "outputId": "4de610a4-f8b8-4f49-c6c0-89de299ccedc"
   },
   "outputs": [
    {
     "name": "stdout",
     "output_type": "stream",
     "text": [
      "Requirement already satisfied: hampel in c:\\users\\anurag dutta\\appdata\\local\\packages\\pythonsoftwarefoundation.python.3.9_qbz5n2kfra8p0\\localcache\\local-packages\\python39\\site-packages (0.0.5)Note: you may need to restart the kernel to use updated packages.\n",
      "Requirement already satisfied: numpy in c:\\users\\anurag dutta\\appdata\\local\\packages\\pythonsoftwarefoundation.python.3.9_qbz5n2kfra8p0\\localcache\\local-packages\\python39\\site-packages (from hampel) (1.26.4)\n",
      "Requirement already satisfied: pandas in c:\\users\\anurag dutta\\appdata\\local\\packages\\pythonsoftwarefoundation.python.3.9_qbz5n2kfra8p0\\localcache\\local-packages\\python39\\site-packages (from hampel) (1.5.2)\n",
      "Requirement already satisfied: python-dateutil>=2.8.1 in c:\\users\\anurag dutta\\appdata\\local\\packages\\pythonsoftwarefoundation.python.3.9_qbz5n2kfra8p0\\localcache\\local-packages\\python39\\site-packages (from pandas->hampel) (2.8.2)\n",
      "Requirement already satisfied: pytz>=2020.1 in c:\\users\\anurag dutta\\appdata\\local\\packages\\pythonsoftwarefoundation.python.3.9_qbz5n2kfra8p0\\localcache\\local-packages\\python39\\site-packages (from pandas->hampel) (2023.3.post1)\n",
      "Requirement already satisfied: six>=1.5 in c:\\users\\anurag dutta\\appdata\\local\\packages\\pythonsoftwarefoundation.python.3.9_qbz5n2kfra8p0\\localcache\\local-packages\\python39\\site-packages (from python-dateutil>=2.8.1->pandas->hampel) (1.16.0)\n",
      "\n"
     ]
    },
    {
     "name": "stderr",
     "output_type": "stream",
     "text": [
      "\n",
      "[notice] A new release of pip is available: 24.2 -> 24.3.1\n",
      "[notice] To update, run: C:\\Users\\Anurag Dutta\\AppData\\Local\\Microsoft\\WindowsApps\\PythonSoftwareFoundation.Python.3.9_qbz5n2kfra8p0\\python.exe -m pip install --upgrade pip\n"
     ]
    }
   ],
   "source": [
    "pip install hampel"
   ]
  },
  {
   "cell_type": "code",
   "execution_count": 2,
   "metadata": {
    "id": "By_d9uXpaFvZ"
   },
   "outputs": [],
   "source": [
    "from keras.models import Sequential\n",
    "from keras.layers import Dense\n",
    "from keras.layers import LSTM\n",
    "from keras.layers import Dropout\n",
    "import keras\n",
    "import tensorflow as tf\n",
    "from hampel import hampel\n",
    "import numpy as np\n",
    "import matplotlib.pyplot as plt\n",
    "import pandas as pd\n",
    "from sklearn.preprocessing import MinMaxScaler\n",
    "from sklearn.metrics import mean_squared_error, mean_absolute_error\n",
    "from math import sqrt\n",
    "from matplotlib import pyplot\n",
    "from numpy import array"
   ]
  },
  {
   "cell_type": "markdown",
   "metadata": {
    "id": "JyOjBMFayuoR"
   },
   "source": [
    "## Pretraining"
   ]
  },
  {
   "cell_type": "markdown",
   "metadata": {
    "id": "-5QqIY_GyuoR"
   },
   "source": [
    "The `capa_intermittency.dat` feeds the model with the dynamics of the Capacitor"
   ]
  },
  {
   "cell_type": "code",
   "execution_count": 3,
   "metadata": {
    "id": "9dV4a8yfyuoR"
   },
   "outputs": [],
   "source": [
    "data = np.genfromtxt('capa_intermittency.dat')\n",
    "training_set = pd.DataFrame(data).reset_index(drop=True)\n",
    "training_set = training_set.iloc[:,0]"
   ]
  },
  {
   "cell_type": "markdown",
   "metadata": {
    "id": "i7easoxByuoR"
   },
   "source": [
    "## Computing the Gradient"
   ]
  },
  {
   "cell_type": "markdown",
   "metadata": {
    "id": "5SnyolJTyuoR"
   },
   "source": [
    "_Calculating the value of_ $\\frac{dx}{dt}$"
   ]
  },
  {
   "cell_type": "code",
   "execution_count": 4,
   "metadata": {
    "colab": {
     "base_uri": "https://localhost:8080/"
    },
    "id": "wmIbVfIvyuoR",
    "outputId": "aa4e3136-c854-465d-d2e9-81cfd546e440"
   },
   "outputs": [
    {
     "name": "stdout",
     "output_type": "stream",
     "text": [
      "1.0\n",
      "1        0.000298\n",
      "2        0.000298\n",
      "3        0.000297\n",
      "4        0.000297\n",
      "5        0.000297\n",
      "           ...   \n",
      "9996     0.000018\n",
      "9997     0.000018\n",
      "9998     0.000018\n",
      "9999     0.000018\n",
      "10000    0.000018\n",
      "Name: 0, Length: 10000, dtype: float64\n"
     ]
    }
   ],
   "source": [
    "t_diff = 1\n",
    "print(training_set.max())\n",
    "gradient_t = (training_set.diff()/t_diff).iloc[1:] # dx/dt\n",
    "print(gradient_t)"
   ]
  },
  {
   "cell_type": "markdown",
   "metadata": {
    "id": "_2eVeeoxyuoS"
   },
   "source": [
    "## Loading Datasets"
   ]
  },
  {
   "cell_type": "code",
   "execution_count": null,
   "metadata": {
    "id": "0J-NKyIEyuoS"
   },
   "outputs": [
    {
     "data": {
      "text/plain": [
       "0       91.100000\n",
       "1       90.875910\n",
       "2       90.651821\n",
       "3       90.427731\n",
       "4       90.203641\n",
       "          ...    \n",
       "2495    67.025142\n",
       "2496    67.018856\n",
       "2497    67.012571\n",
       "2498    67.006285\n",
       "2499    67.000000\n",
       "Name: C3, Length: 2500, dtype: float64"
      ]
     },
     "execution_count": 5,
     "metadata": {},
     "output_type": "execute_result"
    }
   ],
   "source": [
    "data = pd.read_csv(\"c4_interpolated_2450_50.csv\")\n",
    "training_set = data.iloc[:, 1]\n",
    "training_set"
   ]
  },
  {
   "cell_type": "code",
   "execution_count": 6,
   "metadata": {
    "colab": {
     "base_uri": "https://localhost:8080/"
    },
    "id": "-CbNUhJ74UqF",
    "outputId": "20f562d8-8247-49cc-b9c3-00eca5e13e2d"
   },
   "outputs": [
    {
     "data": {
      "text/plain": [
       "0       91.100000\n",
       "1       90.875910\n",
       "2       90.651821\n",
       "3       90.427731\n",
       "4       90.203641\n",
       "          ...    \n",
       "2445     0.000000\n",
       "2446     0.000000\n",
       "2447     0.795728\n",
       "2448     0.000000\n",
       "2449     0.000000\n",
       "Name: C3, Length: 2450, dtype: float64"
      ]
     },
     "execution_count": 6,
     "metadata": {},
     "output_type": "execute_result"
    }
   ],
   "source": [
    "test = training_set.tail(50)\n",
    "test\n",
    "training_set = training_set.head(2450)\n",
    "training_set"
   ]
  },
  {
   "cell_type": "code",
   "execution_count": 7,
   "metadata": {
    "colab": {
     "base_uri": "https://localhost:8080/"
    },
    "id": "X0TwTcq0yuoS",
    "outputId": "37252ed8-d88e-4044-fa7a-922411990b5b"
   },
   "outputs": [
    {
     "name": "stdout",
     "output_type": "stream",
     "text": [
      "0       0.000298\n",
      "1       0.000298\n",
      "2       0.000297\n",
      "3       0.000297\n",
      "4       0.000297\n",
      "          ...   \n",
      "9995    0.000018\n",
      "9996    0.000018\n",
      "9997    0.000018\n",
      "9998    0.000018\n",
      "9999    0.000018\n",
      "Name: 0, Length: 10000, dtype: float64\n"
     ]
    }
   ],
   "source": [
    "training_set = training_set.reset_index(drop=True)\n",
    "gradient_t = gradient_t.reset_index(drop=True)\n",
    "print(gradient_t)"
   ]
  },
  {
   "cell_type": "code",
   "execution_count": 8,
   "metadata": {
    "id": "O2biznZQyuoS"
   },
   "outputs": [],
   "source": [
    "df = pd.concat((training_set, gradient_t), axis=1)\n",
    "df.columns = ['y_t', 'grad_t']"
   ]
  },
  {
   "cell_type": "code",
   "execution_count": null,
   "metadata": {
    "colab": {
     "base_uri": "https://localhost:8080/",
     "height": 423
    },
    "id": "sk_a5v3tyuoS",
    "outputId": "17563625-e550-45ae-faab-fafa353e44da"
   },
   "outputs": [
    {
     "data": {
      "text/html": [
       "<div>\n",
       "<style scoped>\n",
       "    .dataframe tbody tr th:only-of-type {\n",
       "        vertical-align: middle;\n",
       "    }\n",
       "\n",
       "    .dataframe tbody tr th {\n",
       "        vertical-align: top;\n",
       "    }\n",
       "\n",
       "    .dataframe thead th {\n",
       "        text-align: right;\n",
       "    }\n",
       "</style>\n",
       "<table border=\"1\" class=\"dataframe\">\n",
       "  <thead>\n",
       "    <tr style=\"text-align: right;\">\n",
       "      <th></th>\n",
       "      <th>y_t</th>\n",
       "      <th>grad_t</th>\n",
       "    </tr>\n",
       "  </thead>\n",
       "  <tbody>\n",
       "    <tr>\n",
       "      <th>0</th>\n",
       "      <td>91.100000</td>\n",
       "      <td>0.000298</td>\n",
       "    </tr>\n",
       "    <tr>\n",
       "      <th>1</th>\n",
       "      <td>90.875910</td>\n",
       "      <td>0.000298</td>\n",
       "    </tr>\n",
       "    <tr>\n",
       "      <th>2</th>\n",
       "      <td>90.651821</td>\n",
       "      <td>0.000297</td>\n",
       "    </tr>\n",
       "    <tr>\n",
       "      <th>3</th>\n",
       "      <td>90.427731</td>\n",
       "      <td>0.000297</td>\n",
       "    </tr>\n",
       "    <tr>\n",
       "      <th>4</th>\n",
       "      <td>90.203641</td>\n",
       "      <td>0.000297</td>\n",
       "    </tr>\n",
       "    <tr>\n",
       "      <th>...</th>\n",
       "      <td>...</td>\n",
       "      <td>...</td>\n",
       "    </tr>\n",
       "    <tr>\n",
       "      <th>9995</th>\n",
       "      <td>NaN</td>\n",
       "      <td>0.000018</td>\n",
       "    </tr>\n",
       "    <tr>\n",
       "      <th>9996</th>\n",
       "      <td>NaN</td>\n",
       "      <td>0.000018</td>\n",
       "    </tr>\n",
       "    <tr>\n",
       "      <th>9997</th>\n",
       "      <td>NaN</td>\n",
       "      <td>0.000018</td>\n",
       "    </tr>\n",
       "    <tr>\n",
       "      <th>9998</th>\n",
       "      <td>NaN</td>\n",
       "      <td>0.000018</td>\n",
       "    </tr>\n",
       "    <tr>\n",
       "      <th>9999</th>\n",
       "      <td>NaN</td>\n",
       "      <td>0.000018</td>\n",
       "    </tr>\n",
       "  </tbody>\n",
       "</table>\n",
       "<p>10000 rows × 2 columns</p>\n",
       "</div>"
      ],
      "text/plain": [
       "            y_t    grad_t\n",
       "0     91.100000  0.000298\n",
       "1     90.875910  0.000298\n",
       "2     90.651821  0.000297\n",
       "3     90.427731  0.000297\n",
       "4     90.203641  0.000297\n",
       "...         ...       ...\n",
       "9995        NaN  0.000018\n",
       "9996        NaN  0.000018\n",
       "9997        NaN  0.000018\n",
       "9998        NaN  0.000018\n",
       "9999        NaN  0.000018\n",
       "\n",
       "[10000 rows x 2 columns]"
      ]
     },
     "execution_count": 9,
     "metadata": {},
     "output_type": "execute_result"
    }
   ],
   "source": [
    "df"
   ]
  },
  {
   "cell_type": "markdown",
   "metadata": {
    "id": "-5esyHu5aFvg"
   },
   "source": [
    "## Plot of the External Forcing from Chaotic Differential Equation"
   ]
  },
  {
   "cell_type": "code",
   "execution_count": 10,
   "metadata": {
    "colab": {
     "base_uri": "https://localhost:8080/",
     "height": 447
    },
    "id": "hGnE43tOh-4p",
    "outputId": "fc396503-b624-4fa5-dfbe-f460207405c6"
   },
   "outputs": [
    {
     "data": {
      "text/plain": [
       "<Axes: >"
      ]
     },
     "execution_count": 10,
     "metadata": {},
     "output_type": "execute_result"
    },
    {
     "data": {
      "image/png": "[encoded data removed]",
      "text/plain": [
       "<Figure size 432x288 with 1 Axes>"
      ]
     },
     "metadata": {
      "needs_background": "light"
     },
     "output_type": "display_data"
    }
   ],
   "source": [
    "df.iloc[:, 0].plot()"
   ]
  },
  {
   "cell_type": "code",
   "execution_count": 11,
   "metadata": {
    "colab": {
     "base_uri": "https://localhost:8080/",
     "height": 447
    },
    "id": "ym4xWUUxaFvg",
    "outputId": "ae6a3495-8ce9-437e-ba81-3ed31deedeae"
   },
   "outputs": [
    {
     "name": "stderr",
     "output_type": "stream",
     "text": [
      "C:\\Users\\Anurag Dutta\\AppData\\Local\\Packages\\PythonSoftwareFoundation.Python.3.9_qbz5n2kfra8p0\\LocalCache\\local-packages\\Python39\\site-packages\\pandas\\core\\arraylike.py:402: RuntimeWarning: divide by zero encountered in log\n",
      "  result = getattr(ufunc, method)(*inputs, **kwargs)\n"
     ]
    },
    {
     "data": {
      "text/plain": [
       "<Axes: >"
      ]
     },
     "execution_count": 11,
     "metadata": {},
     "output_type": "execute_result"
    },
    {
     "data": {
      "image/png": "[encoded data removed]",
      "text/plain": [
       "<Figure size 432x288 with 1 Axes>"
      ]
     },
     "metadata": {
      "needs_background": "light"
     },
     "output_type": "display_data"
    }
   ],
   "source": [
    "import numpy as np\n",
    "c0 = 86.6856  # Value for C0\n",
    "K0 = -0.0008  # Value for K0\n",
    "K1 = -0.0002  # Value for K1\n",
    "a = 0.0000    # Value for a\n",
    "b = 0.0128    # Value for b\n",
    "c = -2.3003    # Value for c\n",
    "\n",
    "L = np.minimum(c0, (df.iloc[:, 1] - (df.iloc[:, 0] * (K0 - K1 * (9 * a * np.log(df.iloc[:, 0] / c0) / (K0 - K1 * c)**2 + 4 * b * np.log(df.iloc[:, 0] / c0) / (K0 - K1 * c) + c)))))\n",
    "L.plot()"
   ]
  },
  {
   "cell_type": "markdown",
   "metadata": {
    "id": "9VyEywnwaFvh"
   },
   "source": [
    "## Preprocessing the data into supervised learning"
   ]
  },
  {
   "cell_type": "code",
   "execution_count": 12,
   "metadata": {
    "id": "6V9dXqzdaFvh"
   },
   "outputs": [],
   "source": [
    "# split a sequence into samples\n",
    "def Supervised(data, n_in=1, n_out=1, dropnan=True):\n",
    "    n_vars = 1 if type(data) is list else data.shape[1]\n",
    "    df = pd.DataFrame(data)\n",
    "    cols, names = list(), list()\n",
    "    # input sequence (t-n_in, ... t-1)\n",
    "    for i in range(n_in, 0, -1):\n",
    "        cols.append(df.shift(i))\n",
    "        names += [('var%d(t-%d)' % (j+1, i)) for j in range(n_vars)]\n",
    "    # forecast sequence (t, t+1, ... t+n_out)\n",
    "    for i in range(0, n_out):\n",
    "      cols.append(df.shift(-i))\n",
    "      if i == 0:\n",
    "        names += [('var%d(t)' % (j+1)) for j in range(n_vars)]\n",
    "      else:\n",
    "        names += [('var%d(t+%d)' % (j+1, i)) for j in range(n_vars)]\n",
    "    # put it all together\n",
    "    agg = pd.concat(cols, axis=1)\n",
    "    agg.columns = names\n",
    "    # drop rows with NaN values\n",
    "    if dropnan:\n",
    "       agg.dropna(inplace=True)\n",
    "    return agg"
   ]
  },
  {
   "cell_type": "code",
   "execution_count": 13,
   "metadata": {
    "colab": {
     "base_uri": "https://localhost:8080/"
    },
    "id": "CrzSrT1HnyfH",
    "outputId": "7e75f928-3e47-499d-eac1-51908015ef78"
   },
   "outputs": [
    {
     "name": "stdout",
     "output_type": "stream",
     "text": [
      "     var1(t-175)  var1(t-174)  var1(t-173)  var1(t-172)  var1(t-171)  \\\n",
      "175    91.100000    90.875910    90.651821    90.427731    90.203641   \n",
      "176    90.875910    90.651821    90.427731    90.203641    89.979552   \n",
      "177    90.651821    90.427731    90.203641    89.979552    89.755462   \n",
      "178    90.427731    90.203641    89.979552    89.755462    89.531373   \n",
      "179    90.203641    89.979552    89.755462    89.531373    89.307283   \n",
      "\n",
      "     var1(t-170)  var1(t-169)  var1(t-168)  var1(t-167)  var1(t-166)  ...  \\\n",
      "175    89.979552    89.755462    89.531373    89.307283    89.094118  ...   \n",
      "176    89.755462    89.531373    89.307283    89.094118    89.015686  ...   \n",
      "177    89.531373    89.307283    89.094118    89.015686    88.937255  ...   \n",
      "178    89.307283    89.094118    89.015686    88.937255    88.858824  ...   \n",
      "179    89.094118    89.015686    88.937255    88.858824    88.780392  ...   \n",
      "\n",
      "     var1(t+45)  var2(t+45)  var1(t+46)  var2(t+46)  var1(t+47)  var2(t+47)  \\\n",
      "175   83.735014    0.000280   83.723810    0.000280   83.712605    0.000280   \n",
      "176   83.723810    0.000280   83.712605    0.000280   83.701401    0.000280   \n",
      "177   83.712605    0.000280   83.701401    0.000280   83.690196    0.000279   \n",
      "178   83.701401    0.000280   83.690196    0.000279   83.678992    0.000279   \n",
      "179   83.690196    0.000279   83.678992    0.000279   83.667787    0.000279   \n",
      "\n",
      "     var1(t+48)  var2(t+48)  var1(t+49)  var2(t+49)  \n",
      "175   83.701401    0.000280   83.690196    0.000279  \n",
      "176   83.690196    0.000279   83.678992    0.000279  \n",
      "177   83.678992    0.000279   83.667787    0.000279  \n",
      "178   83.667787    0.000279   83.656583    0.000279  \n",
      "179   83.656583    0.000279   83.645378    0.000279  \n",
      "\n",
      "[5 rows x 276 columns]\n",
      "Index(['var1(t-175)', 'var1(t-174)', 'var1(t-173)', 'var1(t-172)',\n",
      "       'var1(t-171)', 'var1(t-170)', 'var1(t-169)', 'var1(t-168)',\n",
      "       'var1(t-167)', 'var1(t-166)',\n",
      "       ...\n",
      "       'var1(t+45)', 'var2(t+45)', 'var1(t+46)', 'var2(t+46)', 'var1(t+47)',\n",
      "       'var2(t+47)', 'var1(t+48)', 'var2(t+48)', 'var1(t+49)', 'var2(t+49)'],\n",
      "      dtype='object', length=276)\n"
     ]
    }
   ],
   "source": [
    "data = Supervised(df.values, n_in = 175, n_out = 50)\n",
    "\n",
    "\n",
    "cols_to_drop = []\n",
    "for i in range(2, 176):\n",
    "    cols_to_drop.extend([f'var2(t-{i})'])\n",
    "\n",
    "data.drop(cols_to_drop, axis=1, inplace=True)\n",
    "\n",
    "print(data.head())\n",
    "print(data.columns)"
   ]
  },
  {
   "cell_type": "code",
   "execution_count": 14,
   "metadata": {
    "id": "AfPf60oy6Pe4"
   },
   "outputs": [],
   "source": [
    "train = np.array(data[0:len(data)-1])\n",
    "forecast = np.array(data.tail(1))"
   ]
  },
  {
   "cell_type": "code",
   "execution_count": 15,
   "metadata": {
    "id": "WSAafzI37KiT"
   },
   "outputs": [],
   "source": [
    "trainy = train[:,-150:]\n",
    "trainX = train[:,:-150]"
   ]
  },
  {
   "cell_type": "code",
   "execution_count": 16,
   "metadata": {
    "id": "2SrOqVJA7f50"
   },
   "outputs": [],
   "source": [
    "forecasty = forecast[:,-150:]\n",
    "forecastX = forecast[:,:-150]"
   ]
  },
  {
   "cell_type": "code",
   "execution_count": 17,
   "metadata": {
    "colab": {
     "base_uri": "https://localhost:8080/"
    },
    "id": "Qno_k8Nw7saY",
    "outputId": "c4a88db5-d8c6-489f-cdb2-06b24e293cff"
   },
   "outputs": [
    {
     "name": "stdout",
     "output_type": "stream",
     "text": [
      "(2225, 1, 126) (2225, 150) (1, 1, 126)\n"
     ]
    }
   ],
   "source": [
    "trainX = trainX.reshape((trainX.shape[0], 1, trainX.shape[1]))\n",
    "forecastX = forecastX.reshape((forecastX.shape[0], 1, forecastX.shape[1]))\n",
    "print(trainX.shape, trainy.shape, forecastX.shape)"
   ]
  },
  {
   "cell_type": "code",
   "execution_count": 18,
   "metadata": {
    "colab": {
     "base_uri": "https://localhost:8080/"
    },
    "id": "b1Jp2DvNuNFx",
    "outputId": "d0e5b3c4-64f1-438c-eade-8dfeaac8e285"
   },
   "outputs": [
    {
     "name": "stdout",
     "output_type": "stream",
     "text": [
      "Epoch 1/500\n",
      "28/28 [==============================] - 4s 37ms/step - loss: 5361.7383 - val_loss: 2617.2651\n",
      "Epoch 2/500\n",
      "28/28 [==============================] - 0s 5ms/step - loss: 5051.7866 - val_loss: 2470.4834\n",
      "Epoch 3/500\n",
      "28/28 [==============================] - 0s 5ms/step - loss: 4813.8647 - val_loss: 2357.5527\n",
      "Epoch 4/500\n",
      "28/28 [==============================] - 0s 6ms/step - loss: 4621.6318 - val_loss: 2272.6821\n",
      "Epoch 5/500\n",
      "28/28 [==============================] - 0s 6ms/step - loss: 4439.1255 - val_loss: 2194.6655\n",
      "Epoch 6/500\n",
      "28/28 [==============================] - 0s 6ms/step - loss: 4280.3501 - val_loss: 2122.7439\n",
      "Epoch 7/500\n",
      "28/28 [==============================] - 0s 8ms/step - loss: 4124.0425 - val_loss: 2058.6050\n",
      "Epoch 8/500\n",
      "28/28 [==============================] - 0s 6ms/step - loss: 3981.7561 - val_loss: 1997.1621\n",
      "Epoch 9/500\n",
      "28/28 [==============================] - 0s 6ms/step - loss: 3845.4358 - val_loss: 1938.1764\n",
      "Epoch 10/500\n",
      "28/28 [==============================] - 0s 7ms/step - loss: 3714.3987 - val_loss: 1881.7301\n",
      "Epoch 11/500\n",
      "28/28 [==============================] - 0s 6ms/step - loss: 3646.5339 - val_loss: 1846.2003\n",
      "Epoch 12/500\n",
      "28/28 [==============================] - 0s 6ms/step - loss: 3486.8079 - val_loss: 1785.1630\n",
      "Epoch 13/500\n",
      "28/28 [==============================] - 0s 18ms/step - loss: 3353.9231 - val_loss: 1738.7257\n",
      "Epoch 14/500\n",
      "28/28 [==============================] - 0s 7ms/step - loss: 3241.6382 - val_loss: 1695.2056\n",
      "Epoch 15/500\n",
      "28/28 [==============================] - 0s 6ms/step - loss: 3130.7673 - val_loss: 1652.4274\n",
      "Epoch 16/500\n",
      "28/28 [==============================] - 0s 6ms/step - loss: 3025.0552 - val_loss: 1615.7649\n",
      "Epoch 17/500\n",
      "28/28 [==============================] - 0s 6ms/step - loss: 2923.0872 - val_loss: 1576.7743\n",
      "Epoch 18/500\n",
      "28/28 [==============================] - 0s 7ms/step - loss: 2821.3206 - val_loss: 1540.6857\n",
      "Epoch 19/500\n",
      "28/28 [==============================] - 0s 8ms/step - loss: 2727.6047 - val_loss: 1511.0039\n",
      "Epoch 20/500\n",
      "28/28 [==============================] - 0s 8ms/step - loss: 2629.3240 - val_loss: 1470.7587\n",
      "Epoch 21/500\n",
      "28/28 [==============================] - 0s 7ms/step - loss: 2538.1321 - val_loss: 1434.6699\n",
      "Epoch 22/500\n",
      "28/28 [==============================] - 0s 8ms/step - loss: 2437.6038 - val_loss: 1404.7329\n",
      "Epoch 23/500\n",
      "28/28 [==============================] - 0s 7ms/step - loss: 2345.9072 - val_loss: 1373.2004\n",
      "Epoch 24/500\n",
      "28/28 [==============================] - 0s 6ms/step - loss: 2257.8347 - val_loss: 1349.5146\n",
      "Epoch 25/500\n",
      "28/28 [==============================] - 0s 6ms/step - loss: 2174.0984 - val_loss: 1316.4857\n",
      "Epoch 26/500\n",
      "28/28 [==============================] - 0s 6ms/step - loss: 2090.5432 - val_loss: 1284.3451\n",
      "Epoch 27/500\n",
      "28/28 [==============================] - 0s 6ms/step - loss: 2012.9518 - val_loss: 1262.3408\n",
      "Epoch 28/500\n",
      "28/28 [==============================] - 0s 6ms/step - loss: 1936.7814 - val_loss: 1236.2307\n",
      "Epoch 29/500\n",
      "28/28 [==============================] - 0s 8ms/step - loss: 1865.5134 - val_loss: 1218.0226\n",
      "Epoch 30/500\n",
      "28/28 [==============================] - 0s 6ms/step - loss: 1796.0640 - val_loss: 1198.3678\n",
      "Epoch 31/500\n",
      "28/28 [==============================] - 0s 6ms/step - loss: 1727.3800 - val_loss: 1178.9103\n",
      "Epoch 32/500\n",
      "28/28 [==============================] - 0s 7ms/step - loss: 1664.9374 - val_loss: 1170.3717\n",
      "Epoch 33/500\n",
      "28/28 [==============================] - 0s 7ms/step - loss: 1630.7345 - val_loss: 1169.7140\n",
      "Epoch 34/500\n",
      "28/28 [==============================] - 0s 7ms/step - loss: 1535.2202 - val_loss: 1165.3379\n",
      "Epoch 35/500\n",
      "28/28 [==============================] - 0s 8ms/step - loss: 1473.0776 - val_loss: 1152.5865\n",
      "Epoch 36/500\n",
      "28/28 [==============================] - 0s 6ms/step - loss: 1411.4543 - val_loss: 1124.2708\n",
      "Epoch 37/500\n",
      "28/28 [==============================] - 0s 6ms/step - loss: 1400.1854 - val_loss: 1109.1074\n",
      "Epoch 38/500\n",
      "28/28 [==============================] - 0s 6ms/step - loss: 1353.4227 - val_loss: 1131.2986\n",
      "Epoch 39/500\n",
      "28/28 [==============================] - 0s 6ms/step - loss: 1300.2755 - val_loss: 1117.2787\n",
      "Epoch 40/500\n",
      "28/28 [==============================] - 0s 6ms/step - loss: 1256.1345 - val_loss: 1128.7800\n",
      "Epoch 41/500\n",
      "28/28 [==============================] - 0s 6ms/step - loss: 1246.0278 - val_loss: 1115.7972\n",
      "Epoch 42/500\n",
      "28/28 [==============================] - 0s 6ms/step - loss: 1182.4899 - val_loss: 1179.1913\n",
      "Epoch 43/500\n",
      "28/28 [==============================] - 0s 9ms/step - loss: 1131.1617 - val_loss: 1166.3568\n",
      "Epoch 44/500\n",
      "28/28 [==============================] - 0s 9ms/step - loss: 1088.4359 - val_loss: 1170.7930\n",
      "Epoch 45/500\n",
      "28/28 [==============================] - 0s 6ms/step - loss: 1048.4991 - val_loss: 1162.6975\n",
      "Epoch 46/500\n",
      "28/28 [==============================] - 0s 6ms/step - loss: 1009.1869 - val_loss: 1162.7109\n",
      "Epoch 47/500\n",
      "28/28 [==============================] - 0s 6ms/step - loss: 973.3950 - val_loss: 1160.3099\n",
      "Epoch 48/500\n",
      "28/28 [==============================] - 0s 6ms/step - loss: 942.2634 - val_loss: 1173.6481\n",
      "Epoch 49/500\n",
      "28/28 [==============================] - 0s 6ms/step - loss: 930.1666 - val_loss: 1182.5793\n",
      "Epoch 50/500\n",
      "28/28 [==============================] - 0s 6ms/step - loss: 881.7753 - val_loss: 1178.9677\n",
      "Epoch 51/500\n",
      "28/28 [==============================] - 0s 6ms/step - loss: 919.0895 - val_loss: 1187.9727\n",
      "Epoch 52/500\n",
      "28/28 [==============================] - 0s 6ms/step - loss: 823.2524 - val_loss: 1202.8636\n",
      "Epoch 53/500\n",
      "28/28 [==============================] - 0s 6ms/step - loss: 794.0994 - val_loss: 1198.3501\n",
      "Epoch 54/500\n",
      "28/28 [==============================] - 0s 6ms/step - loss: 808.6402 - val_loss: 1183.4565\n",
      "Epoch 55/500\n",
      "28/28 [==============================] - 0s 6ms/step - loss: 792.5722 - val_loss: 1213.5663\n",
      "Epoch 56/500\n",
      "28/28 [==============================] - 0s 6ms/step - loss: 782.1061 - val_loss: 1218.7378\n",
      "Epoch 57/500\n",
      "28/28 [==============================] - 0s 6ms/step - loss: 697.3806 - val_loss: 1213.9061\n",
      "Epoch 58/500\n",
      "28/28 [==============================] - 0s 6ms/step - loss: 707.5316 - val_loss: 1243.4047\n",
      "Epoch 59/500\n",
      "28/28 [==============================] - 0s 8ms/step - loss: 662.9590 - val_loss: 1273.6527\n",
      "Epoch 60/500\n",
      "28/28 [==============================] - 0s 10ms/step - loss: 638.0526 - val_loss: 1241.7229\n",
      "Epoch 61/500\n",
      "28/28 [==============================] - 0s 9ms/step - loss: 622.5655 - val_loss: 1277.3966\n",
      "Epoch 62/500\n",
      "28/28 [==============================] - 0s 8ms/step - loss: 631.5612 - val_loss: 1247.0155\n",
      "Epoch 63/500\n",
      "28/28 [==============================] - 0s 9ms/step - loss: 661.2929 - val_loss: 1285.6823\n",
      "Epoch 64/500\n",
      "28/28 [==============================] - 0s 12ms/step - loss: 607.9227 - val_loss: 1308.1084\n",
      "Epoch 65/500\n",
      "28/28 [==============================] - 0s 8ms/step - loss: 611.3332 - val_loss: 1306.3707\n",
      "Epoch 66/500\n",
      "28/28 [==============================] - 0s 7ms/step - loss: 555.6535 - val_loss: 1336.6808\n",
      "Epoch 67/500\n",
      "28/28 [==============================] - 0s 7ms/step - loss: 621.5094 - val_loss: 1305.0875\n",
      "Epoch 68/500\n",
      "28/28 [==============================] - 0s 7ms/step - loss: 581.1205 - val_loss: 1315.6646\n",
      "Epoch 69/500\n",
      "28/28 [==============================] - 0s 6ms/step - loss: 547.1385 - val_loss: 1382.2361\n",
      "Epoch 70/500\n",
      "28/28 [==============================] - 0s 5ms/step - loss: 507.1657 - val_loss: 1413.5597\n",
      "Epoch 71/500\n",
      "28/28 [==============================] - 0s 5ms/step - loss: 499.6325 - val_loss: 1425.8126\n",
      "Epoch 72/500\n",
      "28/28 [==============================] - 0s 6ms/step - loss: 486.2361 - val_loss: 1384.4047\n",
      "Epoch 73/500\n",
      "28/28 [==============================] - 0s 15ms/step - loss: 497.7015 - val_loss: 1366.7632\n",
      "Epoch 74/500\n",
      "28/28 [==============================] - 1s 19ms/step - loss: 481.3134 - val_loss: 1361.2410\n",
      "Epoch 75/500\n",
      "28/28 [==============================] - 0s 9ms/step - loss: 522.3405 - val_loss: 1328.2366\n",
      "Epoch 76/500\n",
      "28/28 [==============================] - 0s 10ms/step - loss: 532.3289 - val_loss: 1322.3372\n",
      "Epoch 77/500\n",
      "28/28 [==============================] - 0s 7ms/step - loss: 461.3899 - val_loss: 1321.6835\n",
      "Epoch 78/500\n",
      "28/28 [==============================] - 0s 6ms/step - loss: 483.6035 - val_loss: 1347.8665\n",
      "Epoch 79/500\n",
      "28/28 [==============================] - 0s 6ms/step - loss: 464.3617 - val_loss: 1319.2787\n",
      "Epoch 80/500\n",
      "28/28 [==============================] - 0s 6ms/step - loss: 530.5369 - val_loss: 1359.9590\n",
      "Epoch 81/500\n",
      "28/28 [==============================] - 0s 7ms/step - loss: 529.7563 - val_loss: 1419.7136\n",
      "Epoch 82/500\n",
      "28/28 [==============================] - 0s 6ms/step - loss: 479.6440 - val_loss: 1454.3160\n",
      "Epoch 83/500\n",
      "28/28 [==============================] - 0s 6ms/step - loss: 487.5198 - val_loss: 1465.1670\n",
      "Epoch 84/500\n",
      "28/28 [==============================] - 0s 5ms/step - loss: 446.5134 - val_loss: 1394.9315\n",
      "Epoch 85/500\n",
      "28/28 [==============================] - 0s 6ms/step - loss: 509.1952 - val_loss: 1355.5530\n",
      "Epoch 86/500\n",
      "28/28 [==============================] - 0s 7ms/step - loss: 484.3748 - val_loss: 1351.7443\n",
      "Epoch 87/500\n",
      "28/28 [==============================] - 0s 6ms/step - loss: 490.6880 - val_loss: 1398.3424\n",
      "Epoch 88/500\n",
      "28/28 [==============================] - 0s 6ms/step - loss: 472.4231 - val_loss: 1414.8464\n",
      "Epoch 89/500\n",
      "28/28 [==============================] - 0s 6ms/step - loss: 424.7623 - val_loss: 1518.3127\n",
      "Epoch 90/500\n",
      "28/28 [==============================] - 0s 6ms/step - loss: 411.3016 - val_loss: 1534.8344\n",
      "Epoch 91/500\n",
      "28/28 [==============================] - 0s 6ms/step - loss: 405.5255 - val_loss: 1536.2842\n",
      "Epoch 92/500\n",
      "28/28 [==============================] - 0s 6ms/step - loss: 398.2961 - val_loss: 1531.6639\n",
      "Epoch 93/500\n",
      "28/28 [==============================] - 0s 6ms/step - loss: 400.2192 - val_loss: 1566.6896\n",
      "Epoch 94/500\n",
      "28/28 [==============================] - 0s 8ms/step - loss: 392.0024 - val_loss: 1554.2510\n",
      "Epoch 95/500\n",
      "28/28 [==============================] - 0s 6ms/step - loss: 408.7045 - val_loss: 1550.6448\n",
      "Epoch 96/500\n",
      "28/28 [==============================] - 0s 6ms/step - loss: 401.0048 - val_loss: 1554.7944\n",
      "Epoch 97/500\n",
      "28/28 [==============================] - 0s 5ms/step - loss: 396.3249 - val_loss: 1562.8221\n",
      "Epoch 98/500\n",
      "28/28 [==============================] - 0s 5ms/step - loss: 392.2642 - val_loss: 1559.8505\n",
      "Epoch 99/500\n",
      "28/28 [==============================] - 0s 6ms/step - loss: 405.9577 - val_loss: 1558.4586\n",
      "Epoch 100/500\n",
      "28/28 [==============================] - 0s 6ms/step - loss: 383.4279 - val_loss: 1600.1373\n",
      "Epoch 101/500\n",
      "28/28 [==============================] - 0s 6ms/step - loss: 365.8596 - val_loss: 1591.8673\n",
      "Epoch 102/500\n",
      "28/28 [==============================] - 0s 6ms/step - loss: 379.1891 - val_loss: 1598.1285\n",
      "Epoch 103/500\n",
      "28/28 [==============================] - 0s 12ms/step - loss: 359.4234 - val_loss: 1595.3503\n",
      "Epoch 104/500\n",
      "28/28 [==============================] - 0s 7ms/step - loss: 367.1125 - val_loss: 1648.3245\n",
      "Epoch 105/500\n",
      "28/28 [==============================] - 0s 7ms/step - loss: 365.3364 - val_loss: 1656.0315\n",
      "Epoch 106/500\n",
      "28/28 [==============================] - 0s 6ms/step - loss: 364.4266 - val_loss: 1661.3860\n",
      "Epoch 107/500\n",
      "28/28 [==============================] - 0s 6ms/step - loss: 362.6973 - val_loss: 1664.0872\n",
      "Epoch 108/500\n",
      "28/28 [==============================] - 0s 6ms/step - loss: 361.4786 - val_loss: 1671.4652\n",
      "Epoch 109/500\n",
      "28/28 [==============================] - 0s 6ms/step - loss: 360.3463 - val_loss: 1673.4486\n",
      "Epoch 110/500\n",
      "28/28 [==============================] - 0s 6ms/step - loss: 359.3174 - val_loss: 1678.8397\n",
      "Epoch 111/500\n",
      "28/28 [==============================] - 0s 6ms/step - loss: 358.1889 - val_loss: 1677.2094\n",
      "Epoch 112/500\n",
      "28/28 [==============================] - 0s 6ms/step - loss: 348.7798 - val_loss: 1612.8553\n",
      "Epoch 113/500\n",
      "28/28 [==============================] - 0s 6ms/step - loss: 383.6279 - val_loss: 1614.7572\n",
      "Epoch 114/500\n",
      "28/28 [==============================] - 0s 7ms/step - loss: 380.7718 - val_loss: 1636.4009\n",
      "Epoch 115/500\n",
      "28/28 [==============================] - 0s 6ms/step - loss: 361.8676 - val_loss: 1655.4321\n",
      "Epoch 116/500\n",
      "28/28 [==============================] - 0s 6ms/step - loss: 356.0703 - val_loss: 1640.8629\n",
      "Epoch 117/500\n",
      "28/28 [==============================] - 0s 6ms/step - loss: 360.0391 - val_loss: 1662.1173\n",
      "Epoch 118/500\n",
      "28/28 [==============================] - 0s 6ms/step - loss: 353.7237 - val_loss: 1649.9937\n",
      "Epoch 119/500\n",
      "28/28 [==============================] - 0s 6ms/step - loss: 356.5540 - val_loss: 1670.1893\n",
      "Epoch 120/500\n",
      "28/28 [==============================] - 0s 6ms/step - loss: 351.5507 - val_loss: 1659.3879\n",
      "Epoch 121/500\n",
      "28/28 [==============================] - 0s 6ms/step - loss: 350.3240 - val_loss: 1662.0685\n",
      "Epoch 122/500\n",
      "28/28 [==============================] - 0s 6ms/step - loss: 349.3294 - val_loss: 1662.0685\n",
      "Epoch 123/500\n",
      "28/28 [==============================] - 0s 6ms/step - loss: 347.4186 - val_loss: 1659.0475\n",
      "Epoch 124/500\n",
      "28/28 [==============================] - 0s 6ms/step - loss: 347.6848 - val_loss: 1661.3235\n",
      "Epoch 125/500\n",
      "28/28 [==============================] - 0s 6ms/step - loss: 346.6832 - val_loss: 1662.3937\n",
      "Epoch 126/500\n",
      "28/28 [==============================] - 0s 6ms/step - loss: 345.6238 - val_loss: 1662.7843\n",
      "Epoch 127/500\n",
      "28/28 [==============================] - 0s 6ms/step - loss: 363.9163 - val_loss: 1660.9359\n",
      "Epoch 128/500\n",
      "28/28 [==============================] - 0s 10ms/step - loss: 361.7013 - val_loss: 1673.7699\n",
      "Epoch 129/500\n",
      "28/28 [==============================] - 0s 9ms/step - loss: 359.7852 - val_loss: 1676.9894\n",
      "Epoch 130/500\n",
      "28/28 [==============================] - 0s 7ms/step - loss: 358.4797 - val_loss: 1675.7843\n",
      "Epoch 131/500\n",
      "28/28 [==============================] - 0s 6ms/step - loss: 339.6552 - val_loss: 1572.8861\n",
      "Epoch 132/500\n",
      "28/28 [==============================] - 0s 6ms/step - loss: 347.0108 - val_loss: 1574.5596\n",
      "Epoch 133/500\n",
      "28/28 [==============================] - 0s 6ms/step - loss: 363.8008 - val_loss: 1652.7642\n",
      "Epoch 134/500\n",
      "28/28 [==============================] - 0s 6ms/step - loss: 358.9872 - val_loss: 1660.0211\n",
      "Epoch 135/500\n",
      "28/28 [==============================] - 0s 6ms/step - loss: 357.2062 - val_loss: 1667.5286\n",
      "Epoch 136/500\n",
      "28/28 [==============================] - 0s 6ms/step - loss: 355.8536 - val_loss: 1671.9680\n",
      "Epoch 137/500\n",
      "28/28 [==============================] - 0s 6ms/step - loss: 354.6168 - val_loss: 1675.7632\n",
      "Epoch 138/500\n",
      "28/28 [==============================] - 0s 6ms/step - loss: 353.3761 - val_loss: 1676.1691\n",
      "Epoch 139/500\n",
      "28/28 [==============================] - 0s 6ms/step - loss: 360.6015 - val_loss: 1718.2725\n",
      "Epoch 140/500\n",
      "28/28 [==============================] - 0s 6ms/step - loss: 349.7127 - val_loss: 1653.5404\n",
      "Epoch 141/500\n",
      "28/28 [==============================] - 0s 6ms/step - loss: 358.8059 - val_loss: 1634.7571\n",
      "Epoch 142/500\n",
      "28/28 [==============================] - 0s 6ms/step - loss: 345.6572 - val_loss: 1538.5271\n",
      "Epoch 143/500\n",
      "28/28 [==============================] - 0s 6ms/step - loss: 367.8126 - val_loss: 1493.8982\n",
      "Epoch 144/500\n",
      "28/28 [==============================] - 0s 6ms/step - loss: 379.2736 - val_loss: 1465.4653\n",
      "Epoch 145/500\n",
      "28/28 [==============================] - 0s 10ms/step - loss: 376.0740 - val_loss: 1482.8910\n",
      "Epoch 146/500\n",
      "28/28 [==============================] - 0s 8ms/step - loss: 367.9035 - val_loss: 1520.6157\n",
      "Epoch 147/500\n",
      "28/28 [==============================] - 0s 8ms/step - loss: 361.6443 - val_loss: 1525.4639\n",
      "Epoch 148/500\n",
      "28/28 [==============================] - 0s 6ms/step - loss: 316.2208 - val_loss: 1511.1396\n",
      "Epoch 149/500\n",
      "28/28 [==============================] - 0s 6ms/step - loss: 312.5516 - val_loss: 1506.6239\n",
      "Epoch 150/500\n",
      "28/28 [==============================] - 0s 6ms/step - loss: 310.3265 - val_loss: 1513.1069\n",
      "Epoch 151/500\n",
      "28/28 [==============================] - 0s 8ms/step - loss: 306.6077 - val_loss: 1498.7867\n",
      "Epoch 152/500\n",
      "28/28 [==============================] - 0s 8ms/step - loss: 304.3778 - val_loss: 1497.5576\n",
      "Epoch 153/500\n",
      "28/28 [==============================] - 0s 7ms/step - loss: 306.3030 - val_loss: 1420.7202\n",
      "Epoch 154/500\n",
      "28/28 [==============================] - 0s 7ms/step - loss: 338.3300 - val_loss: 1504.1686\n",
      "Epoch 155/500\n",
      "28/28 [==============================] - 0s 15ms/step - loss: 332.3163 - val_loss: 1509.0691\n",
      "Epoch 156/500\n",
      "28/28 [==============================] - 0s 8ms/step - loss: 328.4410 - val_loss: 1511.4553\n",
      "Epoch 157/500\n",
      "28/28 [==============================] - 0s 6ms/step - loss: 325.9778 - val_loss: 1511.6080\n",
      "Epoch 158/500\n",
      "28/28 [==============================] - 0s 6ms/step - loss: 321.6012 - val_loss: 1516.2086\n",
      "Epoch 159/500\n",
      "28/28 [==============================] - 0s 6ms/step - loss: 318.4999 - val_loss: 1521.6910\n",
      "Epoch 160/500\n",
      "28/28 [==============================] - 0s 6ms/step - loss: 316.3515 - val_loss: 1527.0741\n",
      "Epoch 161/500\n",
      "28/28 [==============================] - 0s 6ms/step - loss: 313.5403 - val_loss: 1528.6298\n",
      "Epoch 162/500\n",
      "28/28 [==============================] - 0s 6ms/step - loss: 310.6996 - val_loss: 1521.4242\n",
      "Epoch 163/500\n",
      "28/28 [==============================] - 0s 6ms/step - loss: 303.4230 - val_loss: 1499.2908\n",
      "Epoch 164/500\n",
      "28/28 [==============================] - 0s 6ms/step - loss: 301.9362 - val_loss: 1501.2770\n",
      "Epoch 165/500\n",
      "28/28 [==============================] - 0s 6ms/step - loss: 300.5324 - val_loss: 1504.0001\n",
      "Epoch 166/500\n",
      "28/28 [==============================] - 0s 6ms/step - loss: 298.8824 - val_loss: 1505.9146\n",
      "Epoch 167/500\n",
      "28/28 [==============================] - 0s 6ms/step - loss: 297.6131 - val_loss: 1508.1011\n",
      "Epoch 168/500\n",
      "28/28 [==============================] - 0s 7ms/step - loss: 296.4526 - val_loss: 1508.6869\n",
      "Epoch 169/500\n",
      "28/28 [==============================] - 0s 7ms/step - loss: 295.3365 - val_loss: 1509.9484\n",
      "Epoch 170/500\n",
      "28/28 [==============================] - 0s 7ms/step - loss: 294.1632 - val_loss: 1508.4661\n",
      "Epoch 171/500\n",
      "28/28 [==============================] - 0s 6ms/step - loss: 297.2130 - val_loss: 1508.5557\n",
      "Epoch 172/500\n",
      "28/28 [==============================] - 0s 6ms/step - loss: 296.1999 - val_loss: 1510.8304\n",
      "Epoch 173/500\n",
      "28/28 [==============================] - 0s 6ms/step - loss: 295.1677 - val_loss: 1513.0736\n",
      "Epoch 174/500\n",
      "28/28 [==============================] - 0s 6ms/step - loss: 294.2621 - val_loss: 1513.6910\n",
      "Epoch 175/500\n",
      "28/28 [==============================] - 0s 8ms/step - loss: 293.3394 - val_loss: 1515.1202\n",
      "Epoch 176/500\n",
      "28/28 [==============================] - 0s 10ms/step - loss: 292.4203 - val_loss: 1516.6941\n",
      "Epoch 177/500\n",
      "28/28 [==============================] - 0s 16ms/step - loss: 291.4678 - val_loss: 1518.2327\n",
      "Epoch 178/500\n",
      "28/28 [==============================] - 0s 13ms/step - loss: 290.6637 - val_loss: 1517.2332\n",
      "Epoch 179/500\n",
      "28/28 [==============================] - 0s 9ms/step - loss: 290.0386 - val_loss: 1514.5000\n",
      "Epoch 180/500\n",
      "28/28 [==============================] - 0s 7ms/step - loss: 289.2496 - val_loss: 1513.9801\n",
      "Epoch 181/500\n",
      "28/28 [==============================] - 0s 10ms/step - loss: 288.4465 - val_loss: 1513.2988\n",
      "Epoch 182/500\n",
      "28/28 [==============================] - 0s 9ms/step - loss: 287.6305 - val_loss: 1513.0920\n",
      "Epoch 183/500\n",
      "28/28 [==============================] - 0s 9ms/step - loss: 285.9879 - val_loss: 1504.7712\n",
      "Epoch 184/500\n",
      "28/28 [==============================] - 0s 7ms/step - loss: 273.8296 - val_loss: 1442.2295\n",
      "Epoch 185/500\n",
      "28/28 [==============================] - 0s 6ms/step - loss: 309.4275 - val_loss: 1455.2714\n",
      "Epoch 186/500\n",
      "28/28 [==============================] - 0s 8ms/step - loss: 306.2433 - val_loss: 1471.1000\n",
      "Epoch 187/500\n",
      "28/28 [==============================] - 0s 10ms/step - loss: 295.3810 - val_loss: 1506.6753\n",
      "Epoch 188/500\n",
      "28/28 [==============================] - 0s 18ms/step - loss: 287.9145 - val_loss: 1575.2788\n",
      "Epoch 189/500\n",
      "28/28 [==============================] - 0s 10ms/step - loss: 287.7134 - val_loss: 1566.4207\n",
      "Epoch 190/500\n",
      "28/28 [==============================] - 0s 15ms/step - loss: 283.8833 - val_loss: 1542.2914\n",
      "Epoch 191/500\n",
      "28/28 [==============================] - 0s 17ms/step - loss: 279.3481 - val_loss: 1515.5992\n",
      "Epoch 192/500\n",
      "28/28 [==============================] - 0s 12ms/step - loss: 276.2563 - val_loss: 1503.2139\n",
      "Epoch 193/500\n",
      "28/28 [==============================] - 0s 7ms/step - loss: 274.8846 - val_loss: 1495.9379\n",
      "Epoch 194/500\n",
      "28/28 [==============================] - 0s 6ms/step - loss: 277.3221 - val_loss: 1481.5790\n",
      "Epoch 195/500\n",
      "28/28 [==============================] - 0s 6ms/step - loss: 271.8917 - val_loss: 1478.5305\n",
      "Epoch 196/500\n",
      "28/28 [==============================] - 0s 6ms/step - loss: 276.6736 - val_loss: 1454.3043\n",
      "Epoch 197/500\n",
      "28/28 [==============================] - 0s 6ms/step - loss: 285.2605 - val_loss: 1424.3810\n",
      "Epoch 198/500\n",
      "28/28 [==============================] - 0s 6ms/step - loss: 280.3760 - val_loss: 1400.7603\n",
      "Epoch 199/500\n",
      "28/28 [==============================] - 0s 6ms/step - loss: 328.0034 - val_loss: 1413.7518\n",
      "Epoch 200/500\n",
      "28/28 [==============================] - 0s 6ms/step - loss: 316.6584 - val_loss: 1423.4274\n",
      "Epoch 201/500\n",
      "28/28 [==============================] - 0s 5ms/step - loss: 311.7657 - val_loss: 1421.0948\n",
      "Epoch 202/500\n",
      "28/28 [==============================] - 0s 6ms/step - loss: 306.9915 - val_loss: 1428.5740\n",
      "Epoch 203/500\n",
      "28/28 [==============================] - 0s 6ms/step - loss: 303.3289 - val_loss: 1422.7888\n",
      "Epoch 204/500\n",
      "28/28 [==============================] - 0s 6ms/step - loss: 327.2689 - val_loss: 1426.6632\n",
      "Epoch 205/500\n",
      "28/28 [==============================] - 0s 6ms/step - loss: 322.0498 - val_loss: 1428.6975\n",
      "Epoch 206/500\n",
      "28/28 [==============================] - 0s 6ms/step - loss: 318.8684 - val_loss: 1453.5166\n",
      "Epoch 207/500\n",
      "28/28 [==============================] - 0s 6ms/step - loss: 318.3943 - val_loss: 1470.7792\n",
      "Epoch 208/500\n",
      "28/28 [==============================] - 0s 5ms/step - loss: 314.6105 - val_loss: 1472.1617\n",
      "Epoch 209/500\n",
      "28/28 [==============================] - 0s 5ms/step - loss: 311.7681 - val_loss: 1475.4216\n",
      "Epoch 210/500\n",
      "28/28 [==============================] - 0s 5ms/step - loss: 309.5036 - val_loss: 1482.2394\n",
      "Epoch 211/500\n",
      "28/28 [==============================] - 0s 6ms/step - loss: 307.1818 - val_loss: 1487.7716\n",
      "Epoch 212/500\n",
      "28/28 [==============================] - 0s 5ms/step - loss: 305.4304 - val_loss: 1494.8304\n",
      "Epoch 213/500\n",
      "28/28 [==============================] - 0s 5ms/step - loss: 304.0876 - val_loss: 1500.4801\n",
      "Epoch 214/500\n",
      "28/28 [==============================] - 0s 6ms/step - loss: 302.5915 - val_loss: 1501.7296\n",
      "Epoch 215/500\n",
      "28/28 [==============================] - 0s 6ms/step - loss: 301.2351 - val_loss: 1504.8328\n",
      "Epoch 216/500\n",
      "28/28 [==============================] - 0s 5ms/step - loss: 300.0022 - val_loss: 1506.5605\n",
      "Epoch 217/500\n",
      "28/28 [==============================] - 0s 5ms/step - loss: 298.8455 - val_loss: 1507.5323\n",
      "Epoch 218/500\n",
      "28/28 [==============================] - 0s 6ms/step - loss: 297.7217 - val_loss: 1507.3549\n",
      "Epoch 219/500\n",
      "28/28 [==============================] - 0s 6ms/step - loss: 296.6578 - val_loss: 1508.5801\n",
      "Epoch 220/500\n",
      "28/28 [==============================] - 0s 5ms/step - loss: 295.4880 - val_loss: 1508.9082\n",
      "Epoch 221/500\n",
      "28/28 [==============================] - 0s 6ms/step - loss: 301.8492 - val_loss: 1512.9037\n",
      "Epoch 222/500\n",
      "28/28 [==============================] - 0s 6ms/step - loss: 298.5615 - val_loss: 1516.3972\n",
      "Epoch 223/500\n",
      "28/28 [==============================] - 0s 5ms/step - loss: 293.4590 - val_loss: 1516.1466\n",
      "Epoch 224/500\n",
      "28/28 [==============================] - 0s 5ms/step - loss: 292.2464 - val_loss: 1515.1128\n",
      "Epoch 225/500\n",
      "28/28 [==============================] - 0s 5ms/step - loss: 291.0233 - val_loss: 1513.5100\n",
      "Epoch 226/500\n",
      "28/28 [==============================] - 0s 5ms/step - loss: 290.1194 - val_loss: 1511.7000\n",
      "Epoch 227/500\n",
      "28/28 [==============================] - 0s 5ms/step - loss: 291.9245 - val_loss: 1515.5693\n",
      "Epoch 228/500\n",
      "28/28 [==============================] - 0s 5ms/step - loss: 289.6985 - val_loss: 1513.2186\n",
      "Epoch 229/500\n",
      "28/28 [==============================] - 0s 5ms/step - loss: 288.0536 - val_loss: 1508.5699\n",
      "Epoch 230/500\n",
      "28/28 [==============================] - 0s 5ms/step - loss: 286.9362 - val_loss: 1506.1672\n",
      "Epoch 231/500\n",
      "28/28 [==============================] - 0s 6ms/step - loss: 286.1138 - val_loss: 1503.8510\n",
      "Epoch 232/500\n",
      "28/28 [==============================] - 0s 6ms/step - loss: 284.9091 - val_loss: 1469.1445\n",
      "Epoch 233/500\n",
      "28/28 [==============================] - 0s 6ms/step - loss: 283.2383 - val_loss: 1431.9008\n",
      "Epoch 234/500\n",
      "28/28 [==============================] - 0s 5ms/step - loss: 284.5967 - val_loss: 1436.1449\n",
      "Epoch 235/500\n",
      "28/28 [==============================] - 0s 5ms/step - loss: 283.3398 - val_loss: 1439.4551\n",
      "Epoch 236/500\n",
      "28/28 [==============================] - 0s 5ms/step - loss: 282.1335 - val_loss: 1439.9755\n",
      "Epoch 237/500\n",
      "28/28 [==============================] - 0s 5ms/step - loss: 296.5437 - val_loss: 1482.6810\n",
      "Epoch 238/500\n",
      "28/28 [==============================] - 0s 5ms/step - loss: 280.5503 - val_loss: 1447.0569\n",
      "Epoch 239/500\n",
      "28/28 [==============================] - 0s 5ms/step - loss: 279.5539 - val_loss: 1446.1797\n",
      "Epoch 240/500\n",
      "28/28 [==============================] - 0s 5ms/step - loss: 278.5533 - val_loss: 1445.8324\n",
      "Epoch 241/500\n",
      "28/28 [==============================] - 0s 5ms/step - loss: 282.9844 - val_loss: 1467.1624\n",
      "Epoch 242/500\n",
      "28/28 [==============================] - 0s 5ms/step - loss: 278.3931 - val_loss: 1447.3312\n",
      "Epoch 243/500\n",
      "28/28 [==============================] - 0s 5ms/step - loss: 275.7010 - val_loss: 1443.9382\n",
      "Epoch 244/500\n",
      "28/28 [==============================] - 0s 6ms/step - loss: 280.4140 - val_loss: 1469.9507\n",
      "Epoch 245/500\n",
      "28/28 [==============================] - 0s 5ms/step - loss: 279.0204 - val_loss: 1467.5494\n",
      "Epoch 246/500\n",
      "28/28 [==============================] - 0s 7ms/step - loss: 277.3942 - val_loss: 1461.0190\n",
      "Epoch 247/500\n",
      "28/28 [==============================] - 0s 6ms/step - loss: 275.6131 - val_loss: 1451.7719\n",
      "Epoch 248/500\n",
      "28/28 [==============================] - 0s 5ms/step - loss: 289.7293 - val_loss: 1523.6654\n",
      "Epoch 249/500\n",
      "28/28 [==============================] - 0s 5ms/step - loss: 285.6365 - val_loss: 1506.0654\n",
      "Epoch 250/500\n",
      "28/28 [==============================] - 0s 5ms/step - loss: 280.1142 - val_loss: 1493.8252\n",
      "Epoch 251/500\n",
      "28/28 [==============================] - 0s 6ms/step - loss: 278.2808 - val_loss: 1484.2227\n",
      "Epoch 252/500\n",
      "28/28 [==============================] - 0s 5ms/step - loss: 276.7451 - val_loss: 1473.4381\n",
      "Epoch 253/500\n",
      "28/28 [==============================] - 0s 5ms/step - loss: 278.7623 - val_loss: 1470.2098\n",
      "Epoch 254/500\n",
      "28/28 [==============================] - 0s 5ms/step - loss: 272.6901 - val_loss: 1449.1567\n",
      "Epoch 255/500\n",
      "28/28 [==============================] - 0s 5ms/step - loss: 270.2087 - val_loss: 1440.3761\n",
      "Epoch 256/500\n",
      "28/28 [==============================] - 0s 12ms/step - loss: 269.3058 - val_loss: 1436.7554\n",
      "Epoch 257/500\n",
      "28/28 [==============================] - 0s 6ms/step - loss: 268.0558 - val_loss: 1429.1454\n",
      "Epoch 258/500\n",
      "28/28 [==============================] - 0s 6ms/step - loss: 265.3311 - val_loss: 1421.7012\n",
      "Epoch 259/500\n",
      "28/28 [==============================] - 0s 6ms/step - loss: 263.6431 - val_loss: 1417.6125\n",
      "Epoch 260/500\n",
      "28/28 [==============================] - 0s 6ms/step - loss: 262.8661 - val_loss: 1415.4998\n",
      "Epoch 261/500\n",
      "28/28 [==============================] - 0s 6ms/step - loss: 262.1190 - val_loss: 1413.7797\n",
      "Epoch 262/500\n",
      "28/28 [==============================] - 0s 6ms/step - loss: 261.3735 - val_loss: 1411.0654\n",
      "Epoch 263/500\n",
      "28/28 [==============================] - 0s 6ms/step - loss: 260.6339 - val_loss: 1408.5048\n",
      "Epoch 264/500\n",
      "28/28 [==============================] - 0s 6ms/step - loss: 259.9001 - val_loss: 1406.0857\n",
      "Epoch 265/500\n",
      "28/28 [==============================] - 0s 5ms/step - loss: 259.1698 - val_loss: 1404.1970\n",
      "Epoch 266/500\n",
      "28/28 [==============================] - 0s 5ms/step - loss: 258.4375 - val_loss: 1401.3169\n",
      "Epoch 267/500\n",
      "28/28 [==============================] - 0s 6ms/step - loss: 257.7079 - val_loss: 1398.5493\n",
      "Epoch 268/500\n",
      "28/28 [==============================] - 0s 6ms/step - loss: 256.9832 - val_loss: 1395.8856\n",
      "Epoch 269/500\n",
      "28/28 [==============================] - 0s 7ms/step - loss: 256.2625 - val_loss: 1393.4474\n",
      "Epoch 270/500\n",
      "28/28 [==============================] - 0s 6ms/step - loss: 255.5382 - val_loss: 1390.5540\n",
      "Epoch 271/500\n",
      "28/28 [==============================] - 0s 5ms/step - loss: 254.8185 - val_loss: 1387.5422\n",
      "Epoch 272/500\n",
      "28/28 [==============================] - 0s 5ms/step - loss: 254.0677 - val_loss: 1382.1366\n",
      "Epoch 273/500\n",
      "28/28 [==============================] - 0s 5ms/step - loss: 248.4072 - val_loss: 1361.7034\n",
      "Epoch 274/500\n",
      "28/28 [==============================] - 0s 5ms/step - loss: 243.3561 - val_loss: 1330.2656\n",
      "Epoch 275/500\n",
      "28/28 [==============================] - 0s 6ms/step - loss: 245.8359 - val_loss: 1345.0295\n",
      "Epoch 276/500\n",
      "28/28 [==============================] - 0s 6ms/step - loss: 242.0206 - val_loss: 1308.7048\n",
      "Epoch 277/500\n",
      "28/28 [==============================] - 0s 6ms/step - loss: 251.1483 - val_loss: 1310.1757\n",
      "Epoch 278/500\n",
      "28/28 [==============================] - 0s 5ms/step - loss: 250.0680 - val_loss: 1314.5746\n",
      "Epoch 279/500\n",
      "28/28 [==============================] - 0s 6ms/step - loss: 248.9867 - val_loss: 1316.0641\n",
      "Epoch 280/500\n",
      "28/28 [==============================] - 0s 6ms/step - loss: 247.9801 - val_loss: 1317.4954\n",
      "Epoch 281/500\n",
      "28/28 [==============================] - 0s 6ms/step - loss: 247.0308 - val_loss: 1318.6155\n",
      "Epoch 282/500\n",
      "28/28 [==============================] - 0s 6ms/step - loss: 246.1289 - val_loss: 1319.3635\n",
      "Epoch 283/500\n",
      "28/28 [==============================] - 0s 12ms/step - loss: 245.2672 - val_loss: 1319.7562\n",
      "Epoch 284/500\n",
      "28/28 [==============================] - 0s 6ms/step - loss: 244.4368 - val_loss: 1320.8445\n",
      "Epoch 285/500\n",
      "28/28 [==============================] - 0s 6ms/step - loss: 243.6304 - val_loss: 1320.9877\n",
      "Epoch 286/500\n",
      "28/28 [==============================] - 0s 6ms/step - loss: 242.8513 - val_loss: 1319.4619\n",
      "Epoch 287/500\n",
      "28/28 [==============================] - 0s 6ms/step - loss: 242.0857 - val_loss: 1318.0267\n",
      "Epoch 288/500\n",
      "28/28 [==============================] - 0s 6ms/step - loss: 241.3359 - val_loss: 1310.4821\n",
      "Epoch 289/500\n",
      "28/28 [==============================] - 0s 6ms/step - loss: 240.6550 - val_loss: 1320.1094\n",
      "Epoch 290/500\n",
      "28/28 [==============================] - 0s 6ms/step - loss: 239.8868 - val_loss: 1318.4017\n",
      "Epoch 291/500\n",
      "28/28 [==============================] - 0s 6ms/step - loss: 231.4200 - val_loss: 1247.8352\n",
      "Epoch 292/500\n",
      "28/28 [==============================] - 0s 5ms/step - loss: 253.8497 - val_loss: 1324.4591\n",
      "Epoch 293/500\n",
      "28/28 [==============================] - 0s 6ms/step - loss: 260.9080 - val_loss: 1323.1583\n",
      "Epoch 294/500\n",
      "28/28 [==============================] - 0s 6ms/step - loss: 243.5325 - val_loss: 1272.4730\n",
      "Epoch 295/500\n",
      "28/28 [==============================] - 0s 6ms/step - loss: 239.3801 - val_loss: 1274.4257\n",
      "Epoch 296/500\n",
      "28/28 [==============================] - 0s 6ms/step - loss: 237.1638 - val_loss: 1271.2268\n",
      "Epoch 297/500\n",
      "28/28 [==============================] - 0s 6ms/step - loss: 236.3277 - val_loss: 1273.0365\n",
      "Epoch 298/500\n",
      "28/28 [==============================] - 0s 6ms/step - loss: 234.8177 - val_loss: 1274.5459\n",
      "Epoch 299/500\n",
      "28/28 [==============================] - 0s 6ms/step - loss: 233.8742 - val_loss: 1272.0734\n",
      "Epoch 300/500\n",
      "28/28 [==============================] - 0s 6ms/step - loss: 232.4382 - val_loss: 1263.6821\n",
      "Epoch 301/500\n",
      "28/28 [==============================] - 0s 5ms/step - loss: 272.7050 - val_loss: 1261.9497\n",
      "Epoch 302/500\n",
      "28/28 [==============================] - 0s 6ms/step - loss: 269.8734 - val_loss: 1279.5548\n",
      "Epoch 303/500\n",
      "28/28 [==============================] - 0s 6ms/step - loss: 267.0282 - val_loss: 1275.6418\n",
      "Epoch 304/500\n",
      "28/28 [==============================] - 0s 6ms/step - loss: 265.2468 - val_loss: 1291.7379\n",
      "Epoch 305/500\n",
      "28/28 [==============================] - 0s 6ms/step - loss: 252.6208 - val_loss: 1339.8245\n",
      "Epoch 306/500\n",
      "28/28 [==============================] - 0s 6ms/step - loss: 246.5032 - val_loss: 1367.9469\n",
      "Epoch 307/500\n",
      "28/28 [==============================] - 0s 6ms/step - loss: 245.3931 - val_loss: 1363.6322\n",
      "Epoch 308/500\n",
      "28/28 [==============================] - 0s 11ms/step - loss: 241.1570 - val_loss: 1339.9606\n",
      "Epoch 309/500\n",
      "28/28 [==============================] - 0s 7ms/step - loss: 237.4760 - val_loss: 1324.3352\n",
      "Epoch 310/500\n",
      "28/28 [==============================] - 0s 6ms/step - loss: 229.0673 - val_loss: 1296.0778\n",
      "Epoch 311/500\n",
      "28/28 [==============================] - 0s 6ms/step - loss: 223.1573 - val_loss: 1278.9508\n",
      "Epoch 312/500\n",
      "28/28 [==============================] - 0s 6ms/step - loss: 229.1823 - val_loss: 1308.0455\n",
      "Epoch 313/500\n",
      "28/28 [==============================] - 0s 5ms/step - loss: 230.0481 - val_loss: 1288.5875\n",
      "Epoch 314/500\n",
      "28/28 [==============================] - 0s 6ms/step - loss: 217.1490 - val_loss: 1228.5345\n",
      "Epoch 315/500\n",
      "28/28 [==============================] - 0s 6ms/step - loss: 223.4155 - val_loss: 1257.0927\n",
      "Epoch 316/500\n",
      "28/28 [==============================] - 0s 5ms/step - loss: 213.6953 - val_loss: 1198.0931\n",
      "Epoch 317/500\n",
      "28/28 [==============================] - 0s 6ms/step - loss: 276.6568 - val_loss: 1200.7649\n",
      "Epoch 318/500\n",
      "28/28 [==============================] - 0s 6ms/step - loss: 232.9579 - val_loss: 1271.0840\n",
      "Epoch 319/500\n",
      "28/28 [==============================] - 0s 6ms/step - loss: 286.1965 - val_loss: 1433.4132\n",
      "Epoch 320/500\n",
      "28/28 [==============================] - 0s 6ms/step - loss: 307.6703 - val_loss: 1384.1995\n",
      "Epoch 321/500\n",
      "28/28 [==============================] - 0s 8ms/step - loss: 323.4274 - val_loss: 1361.2377\n",
      "Epoch 322/500\n",
      "28/28 [==============================] - 0s 6ms/step - loss: 319.2878 - val_loss: 1493.3365\n",
      "Epoch 323/500\n",
      "28/28 [==============================] - 0s 6ms/step - loss: 300.2137 - val_loss: 1492.1362\n",
      "Epoch 324/500\n",
      "28/28 [==============================] - 0s 6ms/step - loss: 295.6211 - val_loss: 1474.6617\n",
      "Epoch 325/500\n",
      "28/28 [==============================] - 0s 6ms/step - loss: 283.7319 - val_loss: 1416.2507\n",
      "Epoch 326/500\n",
      "28/28 [==============================] - 0s 6ms/step - loss: 238.4221 - val_loss: 1178.0686\n",
      "Epoch 327/500\n",
      "28/28 [==============================] - 0s 6ms/step - loss: 330.2000 - val_loss: 1234.3003\n",
      "Epoch 328/500\n",
      "28/28 [==============================] - 0s 6ms/step - loss: 281.1381 - val_loss: 1251.1005\n",
      "Epoch 329/500\n",
      "28/28 [==============================] - 0s 6ms/step - loss: 259.5742 - val_loss: 1180.4753\n",
      "Epoch 330/500\n",
      "28/28 [==============================] - 0s 6ms/step - loss: 240.0283 - val_loss: 1253.7787\n",
      "Epoch 331/500\n",
      "28/28 [==============================] - 0s 12ms/step - loss: 230.1806 - val_loss: 1233.6857\n",
      "Epoch 332/500\n",
      "28/28 [==============================] - 0s 6ms/step - loss: 223.1051 - val_loss: 1216.0455\n",
      "Epoch 333/500\n",
      "28/28 [==============================] - 0s 6ms/step - loss: 220.5116 - val_loss: 1196.8376\n",
      "Epoch 334/500\n",
      "28/28 [==============================] - 0s 6ms/step - loss: 238.6107 - val_loss: 1198.3621\n",
      "Epoch 335/500\n",
      "28/28 [==============================] - 0s 6ms/step - loss: 226.1751 - val_loss: 1187.3982\n",
      "Epoch 336/500\n",
      "28/28 [==============================] - 0s 6ms/step - loss: 234.9788 - val_loss: 1182.1342\n",
      "Epoch 337/500\n",
      "28/28 [==============================] - 0s 6ms/step - loss: 232.4635 - val_loss: 1181.3118\n",
      "Epoch 338/500\n",
      "28/28 [==============================] - 0s 6ms/step - loss: 223.8799 - val_loss: 1160.1278\n",
      "Epoch 339/500\n",
      "28/28 [==============================] - 0s 5ms/step - loss: 218.4549 - val_loss: 1162.1559\n",
      "Epoch 340/500\n",
      "28/28 [==============================] - 0s 6ms/step - loss: 217.8586 - val_loss: 1174.5826\n",
      "Epoch 341/500\n",
      "28/28 [==============================] - 0s 6ms/step - loss: 206.6162 - val_loss: 1156.9397\n",
      "Epoch 342/500\n",
      "28/28 [==============================] - 0s 6ms/step - loss: 196.1234 - val_loss: 1171.8821\n",
      "Epoch 343/500\n",
      "28/28 [==============================] - 0s 5ms/step - loss: 192.4252 - val_loss: 1120.3356\n",
      "Epoch 344/500\n",
      "28/28 [==============================] - 0s 5ms/step - loss: 217.0374 - val_loss: 1104.4674\n",
      "Epoch 345/500\n",
      "28/28 [==============================] - 0s 6ms/step - loss: 230.0584 - val_loss: 1151.2563\n",
      "Epoch 346/500\n",
      "28/28 [==============================] - 0s 5ms/step - loss: 224.6533 - val_loss: 1157.7877\n",
      "Epoch 347/500\n",
      "28/28 [==============================] - 0s 6ms/step - loss: 223.0658 - val_loss: 1162.1702\n",
      "Epoch 348/500\n",
      "28/28 [==============================] - 0s 5ms/step - loss: 221.6632 - val_loss: 1167.2921\n",
      "Epoch 349/500\n",
      "28/28 [==============================] - 0s 5ms/step - loss: 220.4920 - val_loss: 1168.9723\n",
      "Epoch 350/500\n",
      "28/28 [==============================] - 0s 5ms/step - loss: 219.3939 - val_loss: 1168.8457\n",
      "Epoch 351/500\n",
      "28/28 [==============================] - 0s 5ms/step - loss: 217.9687 - val_loss: 1161.5895\n",
      "Epoch 352/500\n",
      "28/28 [==============================] - 0s 6ms/step - loss: 211.6588 - val_loss: 1138.5011\n",
      "Epoch 353/500\n",
      "28/28 [==============================] - 0s 6ms/step - loss: 212.0480 - val_loss: 1150.8372\n",
      "Epoch 354/500\n",
      "28/28 [==============================] - 0s 13ms/step - loss: 208.4963 - val_loss: 1149.5901\n",
      "Epoch 355/500\n",
      "28/28 [==============================] - 0s 7ms/step - loss: 207.0309 - val_loss: 1147.5492\n",
      "Epoch 356/500\n",
      "28/28 [==============================] - 0s 6ms/step - loss: 204.0749 - val_loss: 1147.0594\n",
      "Epoch 357/500\n",
      "28/28 [==============================] - 0s 5ms/step - loss: 203.4418 - val_loss: 1146.7170\n",
      "Epoch 358/500\n",
      "28/28 [==============================] - 0s 6ms/step - loss: 202.7910 - val_loss: 1148.2435\n",
      "Epoch 359/500\n",
      "28/28 [==============================] - 0s 6ms/step - loss: 202.1022 - val_loss: 1148.5424\n",
      "Epoch 360/500\n",
      "28/28 [==============================] - 0s 6ms/step - loss: 201.4336 - val_loss: 1148.4281\n",
      "Epoch 361/500\n",
      "28/28 [==============================] - 0s 6ms/step - loss: 201.0700 - val_loss: 1147.3903\n",
      "Epoch 362/500\n",
      "28/28 [==============================] - 0s 6ms/step - loss: 200.4749 - val_loss: 1147.6410\n",
      "Epoch 363/500\n",
      "28/28 [==============================] - 0s 6ms/step - loss: 199.7237 - val_loss: 1146.9974\n",
      "Epoch 364/500\n",
      "28/28 [==============================] - 0s 6ms/step - loss: 199.2053 - val_loss: 1146.1942\n",
      "Epoch 365/500\n",
      "28/28 [==============================] - 0s 6ms/step - loss: 198.6747 - val_loss: 1145.2332\n",
      "Epoch 366/500\n",
      "28/28 [==============================] - 0s 5ms/step - loss: 198.1849 - val_loss: 1144.1814\n",
      "Epoch 367/500\n",
      "28/28 [==============================] - 0s 6ms/step - loss: 197.6587 - val_loss: 1143.0233\n",
      "Epoch 368/500\n",
      "28/28 [==============================] - 0s 9ms/step - loss: 197.1779 - val_loss: 1141.7720\n",
      "Epoch 369/500\n",
      "28/28 [==============================] - 0s 6ms/step - loss: 196.6604 - val_loss: 1140.4482\n",
      "Epoch 370/500\n",
      "28/28 [==============================] - 0s 6ms/step - loss: 196.1835 - val_loss: 1139.0352\n",
      "Epoch 371/500\n",
      "28/28 [==============================] - 0s 6ms/step - loss: 195.6761 - val_loss: 1137.5743\n",
      "Epoch 372/500\n",
      "28/28 [==============================] - 0s 7ms/step - loss: 195.2009 - val_loss: 1135.9722\n",
      "Epoch 373/500\n",
      "28/28 [==============================] - 0s 7ms/step - loss: 194.6999 - val_loss: 1131.9237\n",
      "Epoch 374/500\n",
      "28/28 [==============================] - 0s 6ms/step - loss: 192.2251 - val_loss: 1139.0258\n",
      "Epoch 375/500\n",
      "28/28 [==============================] - 0s 13ms/step - loss: 187.1533 - val_loss: 1106.4576\n",
      "Epoch 376/500\n",
      "28/28 [==============================] - 0s 6ms/step - loss: 180.7564 - val_loss: 1074.5679\n",
      "Epoch 377/500\n",
      "28/28 [==============================] - 0s 6ms/step - loss: 220.4780 - val_loss: 1063.9653\n",
      "Epoch 378/500\n",
      "28/28 [==============================] - 0s 6ms/step - loss: 227.1427 - val_loss: 1177.2786\n",
      "Epoch 379/500\n",
      "28/28 [==============================] - 0s 6ms/step - loss: 197.2284 - val_loss: 1176.0581\n",
      "Epoch 380/500\n",
      "28/28 [==============================] - 0s 6ms/step - loss: 195.8202 - val_loss: 1164.7559\n",
      "Epoch 381/500\n",
      "28/28 [==============================] - 0s 6ms/step - loss: 193.3348 - val_loss: 1150.6000\n",
      "Epoch 382/500\n",
      "28/28 [==============================] - 0s 6ms/step - loss: 192.1379 - val_loss: 1139.3124\n",
      "Epoch 383/500\n",
      "28/28 [==============================] - 0s 6ms/step - loss: 186.7932 - val_loss: 1088.7175\n",
      "Epoch 384/500\n",
      "28/28 [==============================] - 0s 6ms/step - loss: 174.8669 - val_loss: 1031.2323\n",
      "Epoch 385/500\n",
      "28/28 [==============================] - 0s 5ms/step - loss: 196.7022 - val_loss: 1011.7083\n",
      "Epoch 386/500\n",
      "28/28 [==============================] - 0s 6ms/step - loss: 192.9742 - val_loss: 1003.4901\n",
      "Epoch 387/500\n",
      "28/28 [==============================] - 0s 6ms/step - loss: 187.6008 - val_loss: 993.9970\n",
      "Epoch 388/500\n",
      "28/28 [==============================] - 0s 6ms/step - loss: 238.3503 - val_loss: 983.0722\n",
      "Epoch 389/500\n",
      "28/28 [==============================] - 0s 6ms/step - loss: 230.3228 - val_loss: 996.5341\n",
      "Epoch 390/500\n",
      "28/28 [==============================] - 0s 6ms/step - loss: 222.3358 - val_loss: 1016.8534\n",
      "Epoch 391/500\n",
      "28/28 [==============================] - 0s 5ms/step - loss: 215.9837 - val_loss: 1037.4640\n",
      "Epoch 392/500\n",
      "28/28 [==============================] - 0s 6ms/step - loss: 219.1647 - val_loss: 1155.8965\n",
      "Epoch 393/500\n",
      "28/28 [==============================] - 0s 6ms/step - loss: 188.0345 - val_loss: 1135.6709\n",
      "Epoch 394/500\n",
      "28/28 [==============================] - 0s 6ms/step - loss: 184.3835 - val_loss: 1106.8698\n",
      "Epoch 395/500\n",
      "28/28 [==============================] - 0s 6ms/step - loss: 182.9247 - val_loss: 1099.9718\n",
      "Epoch 396/500\n",
      "28/28 [==============================] - 0s 11ms/step - loss: 181.8236 - val_loss: 1087.3510\n",
      "Epoch 397/500\n",
      "28/28 [==============================] - 0s 6ms/step - loss: 179.4161 - val_loss: 1074.1429\n",
      "Epoch 398/500\n",
      "28/28 [==============================] - 0s 6ms/step - loss: 170.7352 - val_loss: 1046.3511\n",
      "Epoch 399/500\n",
      "28/28 [==============================] - 0s 6ms/step - loss: 166.7134 - val_loss: 1030.4900\n",
      "Epoch 400/500\n",
      "28/28 [==============================] - 0s 5ms/step - loss: 166.2263 - val_loss: 1027.3977\n",
      "Epoch 401/500\n",
      "28/28 [==============================] - 0s 6ms/step - loss: 165.5437 - val_loss: 1026.9691\n",
      "Epoch 402/500\n",
      "28/28 [==============================] - 0s 6ms/step - loss: 165.1687 - val_loss: 1025.8971\n",
      "Epoch 403/500\n",
      "28/28 [==============================] - 0s 5ms/step - loss: 164.7743 - val_loss: 1025.9126\n",
      "Epoch 404/500\n",
      "28/28 [==============================] - 0s 6ms/step - loss: 164.1149 - val_loss: 1024.3208\n",
      "Epoch 405/500\n",
      "28/28 [==============================] - 0s 5ms/step - loss: 163.5265 - val_loss: 1022.7067\n",
      "Epoch 406/500\n",
      "28/28 [==============================] - 0s 6ms/step - loss: 163.0569 - val_loss: 1020.9062\n",
      "Epoch 407/500\n",
      "28/28 [==============================] - 0s 6ms/step - loss: 162.5970 - val_loss: 1019.1985\n",
      "Epoch 408/500\n",
      "28/28 [==============================] - 0s 6ms/step - loss: 162.1528 - val_loss: 1016.5075\n",
      "Epoch 409/500\n",
      "28/28 [==============================] - 0s 5ms/step - loss: 161.9713 - val_loss: 1013.0891\n",
      "Epoch 410/500\n",
      "28/28 [==============================] - 0s 6ms/step - loss: 161.1234 - val_loss: 1011.0797\n",
      "Epoch 411/500\n",
      "28/28 [==============================] - 0s 5ms/step - loss: 160.8037 - val_loss: 1009.3789\n",
      "Epoch 412/500\n",
      "28/28 [==============================] - 0s 6ms/step - loss: 160.1070 - val_loss: 1007.3818\n",
      "Epoch 413/500\n",
      "28/28 [==============================] - 0s 6ms/step - loss: 159.5403 - val_loss: 1006.0003\n",
      "Epoch 414/500\n",
      "28/28 [==============================] - 0s 6ms/step - loss: 159.0876 - val_loss: 1004.7734\n",
      "Epoch 415/500\n",
      "28/28 [==============================] - 0s 6ms/step - loss: 158.6217 - val_loss: 1003.5021\n",
      "Epoch 416/500\n",
      "28/28 [==============================] - 0s 6ms/step - loss: 158.1223 - val_loss: 1002.0891\n",
      "Epoch 417/500\n",
      "28/28 [==============================] - 0s 6ms/step - loss: 155.8567 - val_loss: 995.5748\n",
      "Epoch 418/500\n",
      "28/28 [==============================] - 0s 6ms/step - loss: 154.3041 - val_loss: 990.0055\n",
      "Epoch 419/500\n",
      "28/28 [==============================] - 0s 6ms/step - loss: 154.0549 - val_loss: 988.4866\n",
      "Epoch 420/500\n",
      "28/28 [==============================] - 0s 6ms/step - loss: 153.3355 - val_loss: 986.8153\n",
      "Epoch 421/500\n",
      "28/28 [==============================] - 0s 11ms/step - loss: 152.8798 - val_loss: 985.1088\n",
      "Epoch 422/500\n",
      "28/28 [==============================] - 0s 7ms/step - loss: 152.6638 - val_loss: 982.2653\n",
      "Epoch 423/500\n",
      "28/28 [==============================] - 0s 6ms/step - loss: 154.6589 - val_loss: 996.1776\n",
      "Epoch 424/500\n",
      "28/28 [==============================] - 0s 6ms/step - loss: 152.1161 - val_loss: 980.3083\n",
      "Epoch 425/500\n",
      "28/28 [==============================] - 0s 6ms/step - loss: 151.3761 - val_loss: 978.3810\n",
      "Epoch 426/500\n",
      "28/28 [==============================] - 0s 6ms/step - loss: 150.5791 - val_loss: 978.1903\n",
      "Epoch 427/500\n",
      "28/28 [==============================] - 0s 6ms/step - loss: 150.1174 - val_loss: 976.1572\n",
      "Epoch 428/500\n",
      "28/28 [==============================] - 0s 6ms/step - loss: 149.6935 - val_loss: 974.7254\n",
      "Epoch 429/500\n",
      "28/28 [==============================] - 0s 6ms/step - loss: 149.2521 - val_loss: 973.6861\n",
      "Epoch 430/500\n",
      "28/28 [==============================] - 0s 6ms/step - loss: 148.8199 - val_loss: 971.5261\n",
      "Epoch 431/500\n",
      "28/28 [==============================] - 0s 6ms/step - loss: 148.3964 - val_loss: 969.8541\n",
      "Epoch 432/500\n",
      "28/28 [==============================] - 0s 5ms/step - loss: 147.9726 - val_loss: 968.0632\n",
      "Epoch 433/500\n",
      "28/28 [==============================] - 0s 5ms/step - loss: 147.5525 - val_loss: 965.9518\n",
      "Epoch 434/500\n",
      "28/28 [==============================] - 0s 6ms/step - loss: 147.1342 - val_loss: 964.2896\n",
      "Epoch 435/500\n",
      "28/28 [==============================] - 0s 6ms/step - loss: 146.7185 - val_loss: 962.6693\n",
      "Epoch 436/500\n",
      "28/28 [==============================] - 0s 6ms/step - loss: 146.3042 - val_loss: 961.0634\n",
      "Epoch 437/500\n",
      "28/28 [==============================] - 0s 6ms/step - loss: 145.8917 - val_loss: 959.5047\n",
      "Epoch 438/500\n",
      "28/28 [==============================] - 0s 6ms/step - loss: 145.4810 - val_loss: 957.6606\n",
      "Epoch 439/500\n",
      "28/28 [==============================] - 0s 6ms/step - loss: 145.0726 - val_loss: 953.0948\n",
      "Epoch 440/500\n",
      "28/28 [==============================] - 0s 6ms/step - loss: 148.2725 - val_loss: 943.7521\n",
      "Epoch 441/500\n",
      "28/28 [==============================] - 0s 6ms/step - loss: 157.2267 - val_loss: 990.3882\n",
      "Epoch 442/500\n",
      "28/28 [==============================] - 0s 5ms/step - loss: 154.3496 - val_loss: 977.2141\n",
      "Epoch 443/500\n",
      "28/28 [==============================] - 0s 11ms/step - loss: 144.0213 - val_loss: 943.7850\n",
      "Epoch 444/500\n",
      "28/28 [==============================] - 0s 6ms/step - loss: 142.9684 - val_loss: 944.1093\n",
      "Epoch 445/500\n",
      "28/28 [==============================] - 0s 6ms/step - loss: 142.7187 - val_loss: 937.2452\n",
      "Epoch 446/500\n",
      "28/28 [==============================] - 0s 6ms/step - loss: 142.2495 - val_loss: 938.4658\n",
      "Epoch 447/500\n",
      "28/28 [==============================] - 0s 6ms/step - loss: 141.3059 - val_loss: 931.4024\n",
      "Epoch 448/500\n",
      "28/28 [==============================] - 0s 6ms/step - loss: 140.5919 - val_loss: 918.5659\n",
      "Epoch 449/500\n",
      "28/28 [==============================] - 0s 6ms/step - loss: 133.6848 - val_loss: 866.7663\n",
      "Epoch 450/500\n",
      "28/28 [==============================] - 0s 5ms/step - loss: 241.0842 - val_loss: 863.0279\n",
      "Epoch 451/500\n",
      "28/28 [==============================] - 0s 6ms/step - loss: 219.0850 - val_loss: 892.0084\n",
      "Epoch 452/500\n",
      "28/28 [==============================] - 0s 6ms/step - loss: 206.3475 - val_loss: 902.3195\n",
      "Epoch 453/500\n",
      "28/28 [==============================] - 0s 6ms/step - loss: 206.5546 - val_loss: 974.5251\n",
      "Epoch 454/500\n",
      "28/28 [==============================] - 0s 6ms/step - loss: 222.1981 - val_loss: 1068.8186\n",
      "Epoch 455/500\n",
      "28/28 [==============================] - 0s 6ms/step - loss: 203.3031 - val_loss: 997.0120\n",
      "Epoch 456/500\n",
      "28/28 [==============================] - 0s 6ms/step - loss: 212.5618 - val_loss: 984.2734\n",
      "Epoch 457/500\n",
      "28/28 [==============================] - 0s 6ms/step - loss: 204.0992 - val_loss: 964.8051\n",
      "Epoch 458/500\n",
      "28/28 [==============================] - 0s 6ms/step - loss: 187.8055 - val_loss: 933.4272\n",
      "Epoch 459/500\n",
      "28/28 [==============================] - 0s 10ms/step - loss: 179.4376 - val_loss: 936.0122\n",
      "Epoch 460/500\n",
      "28/28 [==============================] - 0s 16ms/step - loss: 176.0242 - val_loss: 943.9973\n",
      "Epoch 461/500\n",
      "28/28 [==============================] - 0s 10ms/step - loss: 172.0686 - val_loss: 942.4470\n",
      "Epoch 462/500\n",
      "28/28 [==============================] - 0s 14ms/step - loss: 168.9064 - val_loss: 933.9865\n",
      "Epoch 463/500\n",
      "28/28 [==============================] - 0s 7ms/step - loss: 166.3459 - val_loss: 930.3178\n",
      "Epoch 464/500\n",
      "28/28 [==============================] - 0s 6ms/step - loss: 162.9847 - val_loss: 932.1431\n",
      "Epoch 465/500\n",
      "28/28 [==============================] - 0s 6ms/step - loss: 160.5290 - val_loss: 932.6013\n",
      "Epoch 466/500\n",
      "28/28 [==============================] - 0s 6ms/step - loss: 157.0839 - val_loss: 932.3582\n",
      "Epoch 467/500\n",
      "28/28 [==============================] - 0s 6ms/step - loss: 155.6854 - val_loss: 934.8319\n",
      "Epoch 468/500\n",
      "28/28 [==============================] - 0s 6ms/step - loss: 152.8959 - val_loss: 932.2938\n",
      "Epoch 469/500\n",
      "28/28 [==============================] - 0s 6ms/step - loss: 151.4697 - val_loss: 929.3292\n",
      "Epoch 470/500\n",
      "28/28 [==============================] - 0s 6ms/step - loss: 150.1865 - val_loss: 932.5732\n",
      "Epoch 471/500\n",
      "28/28 [==============================] - 0s 6ms/step - loss: 149.1679 - val_loss: 937.4884\n",
      "Epoch 472/500\n",
      "28/28 [==============================] - 0s 6ms/step - loss: 148.3654 - val_loss: 940.9077\n",
      "Epoch 473/500\n",
      "28/28 [==============================] - 0s 6ms/step - loss: 147.6961 - val_loss: 942.5931\n",
      "Epoch 474/500\n",
      "28/28 [==============================] - 0s 7ms/step - loss: 146.9403 - val_loss: 945.5593\n",
      "Epoch 475/500\n",
      "28/28 [==============================] - 0s 6ms/step - loss: 145.8662 - val_loss: 945.5468\n",
      "Epoch 476/500\n",
      "28/28 [==============================] - 0s 5ms/step - loss: 145.0789 - val_loss: 943.0991\n",
      "Epoch 477/500\n",
      "28/28 [==============================] - 0s 5ms/step - loss: 141.7184 - val_loss: 928.6238\n",
      "Epoch 478/500\n",
      "28/28 [==============================] - 0s 5ms/step - loss: 140.4759 - val_loss: 925.0587\n",
      "Epoch 479/500\n",
      "28/28 [==============================] - 0s 5ms/step - loss: 140.4170 - val_loss: 927.9521\n",
      "Epoch 480/500\n",
      "28/28 [==============================] - 0s 5ms/step - loss: 139.3853 - val_loss: 924.4421\n",
      "Epoch 481/500\n",
      "28/28 [==============================] - 0s 6ms/step - loss: 138.7323 - val_loss: 926.2734\n",
      "Epoch 482/500\n",
      "28/28 [==============================] - 0s 6ms/step - loss: 138.4381 - val_loss: 924.0187\n",
      "Epoch 483/500\n",
      "28/28 [==============================] - 0s 6ms/step - loss: 137.9714 - val_loss: 923.5804\n",
      "Epoch 484/500\n",
      "28/28 [==============================] - 0s 13ms/step - loss: 137.3440 - val_loss: 923.9929\n",
      "Epoch 485/500\n",
      "28/28 [==============================] - 0s 7ms/step - loss: 136.8872 - val_loss: 919.4682\n",
      "Epoch 486/500\n",
      "28/28 [==============================] - 0s 6ms/step - loss: 135.9259 - val_loss: 906.9016\n",
      "Epoch 487/500\n",
      "28/28 [==============================] - 0s 5ms/step - loss: 218.7983 - val_loss: 932.3751\n",
      "Epoch 488/500\n",
      "28/28 [==============================] - 0s 5ms/step - loss: 167.8100 - val_loss: 960.9306\n",
      "Epoch 489/500\n",
      "28/28 [==============================] - 0s 6ms/step - loss: 138.6607 - val_loss: 957.2697\n",
      "Epoch 490/500\n",
      "28/28 [==============================] - 0s 6ms/step - loss: 138.4334 - val_loss: 950.8531\n",
      "Epoch 491/500\n",
      "28/28 [==============================] - 0s 6ms/step - loss: 138.7875 - val_loss: 939.0948\n",
      "Epoch 492/500\n",
      "28/28 [==============================] - 0s 6ms/step - loss: 136.7358 - val_loss: 924.5486\n",
      "Epoch 493/500\n",
      "28/28 [==============================] - 0s 6ms/step - loss: 163.1055 - val_loss: 1058.2281\n",
      "Epoch 494/500\n",
      "28/28 [==============================] - 0s 6ms/step - loss: 208.4042 - val_loss: 1067.2808\n",
      "Epoch 495/500\n",
      "28/28 [==============================] - 0s 5ms/step - loss: 201.8085 - val_loss: 1076.4991\n",
      "Epoch 496/500\n",
      "28/28 [==============================] - 0s 6ms/step - loss: 190.9385 - val_loss: 1188.2959\n",
      "Epoch 497/500\n",
      "28/28 [==============================] - 0s 6ms/step - loss: 176.4578 - val_loss: 1162.7589\n",
      "Epoch 498/500\n",
      "28/28 [==============================] - 0s 6ms/step - loss: 174.8919 - val_loss: 1147.6687\n",
      "Epoch 499/500\n",
      "28/28 [==============================] - 0s 6ms/step - loss: 171.9565 - val_loss: 1130.0720\n",
      "Epoch 500/500\n",
      "28/28 [==============================] - 0s 6ms/step - loss: 171.1609 - val_loss: 1118.2572\n"
     ]
    }
   ],
   "source": [
    "C0 = tf.Variable(86.6856, name=\"C0\", trainable=True, dtype=tf.float32)\n",
    "K0 = tf.Variable(-0.0008, name=\"K0\", trainable=True, dtype=tf.float32)\n",
    "K1 = tf.Variable(-0.0002, name=\"K1\", trainable=True, dtype=tf.float32)\n",
    "a = tf.Variable(0.0000, name=\"a\", trainable=True, dtype=tf.float32)\n",
    "b = tf.Variable(0.0128, name=\"b\", trainable=True, dtype=tf.float32)\n",
    "c = tf.Variable(-2.3003, name=\"c\", trainable=True, dtype=tf.float32)\n",
    "\n",
    "splitr = 0.8\n",
    "\n",
    "\n",
    "def loss_fn(y_true, y_pred):\n",
    "    squared_difference = tf.square(y_true[:, 0] - y_pred[:, 0])\n",
    "    #squared_difference2 = tf.square(y_true[:, 2]-y_pred[:, 2])\n",
    "    #squared_difference1 = tf.square(y_true[:, 1]-y_pred[:, 1])\n",
    "    epsilon = 1\n",
    "    squared_difference3 = tf.square(\n",
    "        y_pred[:, 1] - (\n",
    "            y_pred[:, 0] * (\n",
    "                K0 - K1 * (\n",
    "                    9 * a * tf.math.log((y_pred[:, 0] + epsilon) / C0) / (K0 - K1 * c)**2 +\n",
    "                    4 * b * tf.math.log((y_pred[:, 0] + epsilon) / C0) / (K0 - K1 * c) + c\n",
    "                )\n",
    "            )\n",
    "        )\n",
    "    )\n",
    "    return tf.reduce_mean(squared_difference, axis=-1) + 0.2*tf.reduce_mean(squared_difference3, axis=-1)\n",
    "model = Sequential()\n",
    "model.add(LSTM(100, input_shape=(trainX.shape[1], trainX.shape[2])))\n",
    "model.add(Dense(60))\n",
    "model.compile(loss=loss_fn, optimizer='adam')\n",
    "history = model.fit(trainX[:int(splitr*trainX.shape[0])], trainy[:int(splitr*trainX.shape[0])], epochs=500, batch_size=64, validation_data=(trainX[int(splitr*trainX.shape[0]):trainX.shape[0]], trainy[int(splitr*trainX.shape[0]):trainX.shape[0]]), shuffle=False)"
   ]
  },
  {
   "cell_type": "code",
   "execution_count": 19,
   "metadata": {
    "colab": {
     "base_uri": "https://localhost:8080/"
    },
    "id": "yJL101rPyuoT",
    "outputId": "239ff2b1-c186-423a-d316-939dfdd7c793"
   },
   "outputs": [
    {
     "name": "stdout",
     "output_type": "stream",
     "text": [
      "1/1 [==============================] - 0s 480ms/step\n"
     ]
    }
   ],
   "source": [
    "forecast_without_mc = forecastX\n",
    "yhat_without_mc = model.predict(forecast_without_mc) # Step Ahead Prediction\n",
    "forecast_without_mc = forecast_without_mc.reshape((forecast_without_mc.shape[0], forecast_without_mc.shape[2])) # Historical Input"
   ]
  },
  {
   "cell_type": "code",
   "execution_count": 20,
   "metadata": {
    "colab": {
     "base_uri": "https://localhost:8080/"
    },
    "id": "g9dQELcJ8wbp",
    "outputId": "4dc7671b-b1a8-48d5-8744-a86f98446109"
   },
   "outputs": [
    {
     "data": {
      "text/plain": [
       "(1, 1, 126)"
      ]
     },
     "execution_count": 20,
     "metadata": {},
     "output_type": "execute_result"
    }
   ],
   "source": [
    "forecastX.shape"
   ]
  },
  {
   "cell_type": "code",
   "execution_count": 21,
   "metadata": {
    "colab": {
     "base_uri": "https://localhost:8080/"
    },
    "id": "IS2kyIKG1Kbr",
    "outputId": "f31b3485-8e26-452f-9298-ea8bf7e80ad1"
   },
   "outputs": [
    {
     "data": {
      "text/plain": [
       "(1, 126)"
      ]
     },
     "execution_count": 21,
     "metadata": {},
     "output_type": "execute_result"
    }
   ],
   "source": [
    "forecast_without_mc.shape"
   ]
  },
  {
   "cell_type": "code",
   "execution_count": 22,
   "metadata": {
    "id": "0u6VIzaDyuoT"
   },
   "outputs": [],
   "source": [
    "inv_yhat_without_mc = np.concatenate((forecast_without_mc, yhat_without_mc), axis=1) # Concatenation of predicted values with Historical Data\n",
    "#inv_yhat_without_mc = scaler.inverse_transform(inv_yhat_without_mc) # Transform labels back to original encoding"
   ]
  },
  {
   "cell_type": "code",
   "execution_count": 23,
   "metadata": {
    "colab": {
     "base_uri": "https://localhost:8080/"
    },
    "id": "EUEcw0LX07oU",
    "outputId": "cfc32397-9c37-4b43-d087-584bb31c3dcc"
   },
   "outputs": [
    {
     "data": {
      "text/plain": [
       "(1, 186)"
      ]
     },
     "execution_count": 23,
     "metadata": {},
     "output_type": "execute_result"
    }
   ],
   "source": [
    "inv_yhat_without_mc.shape"
   ]
  },
  {
   "cell_type": "code",
   "execution_count": 24,
   "metadata": {
    "id": "31OWVbSh_305"
   },
   "outputs": [],
   "source": [
    "fforecast = inv_yhat_without_mc[:,-150:]"
   ]
  },
  {
   "cell_type": "code",
   "execution_count": 25,
   "metadata": {},
   "outputs": [
    {
     "data": {
      "text/plain": [
       "(1, 150)"
      ]
     },
     "execution_count": 25,
     "metadata": {},
     "output_type": "execute_result"
    }
   ],
   "source": [
    "fforecast.shape"
   ]
  },
  {
   "cell_type": "code",
   "execution_count": 26,
   "metadata": {
    "id": "BlpGH2FOAiRF"
   },
   "outputs": [],
   "source": [
    "final_forecast = fforecast[:,0:150:3]"
   ]
  },
  {
   "cell_type": "code",
   "execution_count": 27,
   "metadata": {},
   "outputs": [
    {
     "data": {
      "text/plain": [
       "(1, 150)"
      ]
     },
     "execution_count": 27,
     "metadata": {},
     "output_type": "execute_result"
    }
   ],
   "source": [
    "fforecast.shape"
   ]
  },
  {
   "cell_type": "code",
   "execution_count": 28,
   "metadata": {
    "id": "CXkgkj_LBk_t"
   },
   "outputs": [],
   "source": [
    "# code to replace all negative value with 0\n",
    "final_forecast[final_forecast<0] = 0"
   ]
  },
  {
   "cell_type": "code",
   "execution_count": 29,
   "metadata": {},
   "outputs": [
    {
     "data": {
      "text/plain": [
       "array([[0.00000000e+00, 7.49828245e+01, 0.00000000e+00, 7.53163445e+01,\n",
       "        7.46054202e+01, 7.43759244e+01, 7.49389402e+01, 7.44681746e+01,\n",
       "        7.67478058e+01, 4.78058785e-01, 5.77322320e-02, 7.82079101e-01,\n",
       "        7.44556364e+01, 5.08463920e-01, 7.45482866e+01, 7.80838235e+01,\n",
       "        9.95775300e-03, 7.44438982e+01, 7.62998133e+01, 7.59786181e+01,\n",
       "        5.18556535e+01, 3.11801523e-01, 0.00000000e+00, 7.14011917e+01,\n",
       "        0.00000000e+00, 0.00000000e+00, 0.00000000e+00, 0.00000000e+00,\n",
       "        3.83667201e-01, 9.58728909e-01, 7.16532059e+01, 0.00000000e+00,\n",
       "        4.29334521e-01, 2.64387727e-01, 0.00000000e+00, 1.47637188e-01,\n",
       "        0.00000000e+00, 4.10679311e-01, 0.00000000e+00, 6.47156954e-01,\n",
       "        7.19510436e-01, 7.76764229e-02, 9.81494784e-04, 7.82730803e-02,\n",
       "        6.29821181e-01, 0.00000000e+00, 0.00000000e+00, 9.27949667e-01,\n",
       "        0.00000000e+00, 0.00000000e+00]])"
      ]
     },
     "execution_count": 29,
     "metadata": {},
     "output_type": "execute_result"
    }
   ],
   "source": [
    "final_forecast"
   ]
  },
  {
   "cell_type": "code",
   "execution_count": 30,
   "metadata": {},
   "outputs": [
    {
     "data": {
      "text/plain": [
       "(1, 50)"
      ]
     },
     "execution_count": 30,
     "metadata": {},
     "output_type": "execute_result"
    }
   ],
   "source": [
    "final_forecast.shape"
   ]
  },
  {
   "cell_type": "code",
   "execution_count": 31,
   "metadata": {},
   "outputs": [
    {
     "data": {
      "text/plain": [
       "(50,)"
      ]
     },
     "execution_count": 31,
     "metadata": {},
     "output_type": "execute_result"
    }
   ],
   "source": [
    "test.shape"
   ]
  },
  {
   "cell_type": "code",
   "execution_count": 32,
   "metadata": {},
   "outputs": [],
   "source": [
    "training_set = np.array(training_set)\n",
    "test = np.array(test)\n",
    "final_forecast = np.array(final_forecast.squeeze(0))"
   ]
  },
  {
   "cell_type": "code",
   "execution_count": 33,
   "metadata": {},
   "outputs": [
    {
     "data": {
      "text/plain": [
       "array([67.30798661, 67.30170117, 67.29541573, 67.28913029, 67.28284485,\n",
       "       67.2765594 , 67.27027396, 67.26398852, 67.25770308, 67.25141764,\n",
       "       67.2451322 , 67.23884676, 67.23256132, 67.22627588, 67.21999044,\n",
       "       67.21370499, 67.20741955, 67.20113411, 67.19484867, 67.18856323,\n",
       "       67.18227779, 67.17599235, 67.16970691, 67.16342147, 67.15713603,\n",
       "       67.15085058, 67.14456514, 67.1382797 , 67.13199426, 67.12570882,\n",
       "       67.11942338, 67.11313794, 67.1068525 , 67.10056706, 67.09428162,\n",
       "       67.08799617, 67.08171073, 67.07542529, 67.06913985, 67.06285441,\n",
       "       67.05656897, 67.05028353, 67.04399809, 67.03771265, 67.03142721,\n",
       "       67.02514176, 67.01885632, 67.01257088, 67.00628544, 67.        ])"
      ]
     },
     "execution_count": 33,
     "metadata": {},
     "output_type": "execute_result"
    }
   ],
   "source": [
    "test"
   ]
  },
  {
   "cell_type": "code",
   "execution_count": 34,
   "metadata": {},
   "outputs": [
    {
     "data": {
      "text/plain": [
       "(50,)"
      ]
     },
     "execution_count": 34,
     "metadata": {},
     "output_type": "execute_result"
    }
   ],
   "source": [
    "test.shape"
   ]
  },
  {
   "cell_type": "code",
   "execution_count": 35,
   "metadata": {},
   "outputs": [
    {
     "data": {
      "text/plain": [
       "(50,)"
      ]
     },
     "execution_count": 35,
     "metadata": {},
     "output_type": "execute_result"
    }
   ],
   "source": [
    "final_forecast.shape"
   ]
  },
  {
   "cell_type": "code",
   "execution_count": 36,
   "metadata": {},
   "outputs": [
    {
     "data": {
      "text/plain": [
       "(50,)"
      ]
     },
     "execution_count": 36,
     "metadata": {},
     "output_type": "execute_result"
    }
   ],
   "source": [
    "test.shape"
   ]
  },
  {
   "cell_type": "code",
   "execution_count": 37,
   "metadata": {},
   "outputs": [
    {
     "name": "stdout",
     "output_type": "stream",
     "text": [
      "55.36448439437551\n",
      "48.06736648908796\n"
     ]
    }
   ],
   "source": [
    "import math\n",
    "MSE = np.square(np.subtract(np.array(test),np.array(final_forecast))).mean()   \n",
    "rsme = math.sqrt(MSE)\n",
    "print(rsme)  \n",
    "MAE = np.abs(np.subtract(np.array(test),np.array(final_forecast))).mean()   \n",
    "mae = MAE\n",
    "print(mae)"
   ]
  }
 ],
 "metadata": {
  "colab": {
   "provenance": []
  },
  "kernelspec": {
   "display_name": "Python 3",
   "language": "python",
   "name": "python3"
  },
  "language_info": {
   "codemirror_mode": {
    "name": "ipython",
    "version": 3
   },
   "file_extension": ".py",
   "mimetype": "text/x-python",
   "name": "python",
   "nbconvert_exporter": "python",
   "pygments_lexer": "ipython3",
   "version": "3.9.13"
  }
 },
 "nbformat": 4,
 "nbformat_minor": 0
}
