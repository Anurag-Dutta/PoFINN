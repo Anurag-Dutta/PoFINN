{
 "cells": [
  {
   "cell_type": "markdown",
   "metadata": {
    "id": "pCGKeZ2gyuoQ"
   },
   "source": [
    "_Importing Required Libraries_"
   ]
  },
  {
   "cell_type": "code",
   "execution_count": 1,
   "metadata": {
    "colab": {
     "base_uri": "https://localhost:8080/"
    },
    "id": "A-6LN-zXiLcM",
    "outputId": "4de610a4-f8b8-4f49-c6c0-89de299ccedc"
   },
   "outputs": [
    {
     "name": "stdout",
     "output_type": "stream",
     "text": [
      "Requirement already satisfied: hampel in c:\\users\\anurag dutta\\appdata\\local\\packages\\pythonsoftwarefoundation.python.3.9_qbz5n2kfra8p0\\localcache\\local-packages\\python39\\site-packages (0.0.5)\n",
      "Requirement already satisfied: numpy in c:\\users\\anurag dutta\\appdata\\local\\packages\\pythonsoftwarefoundation.python.3.9_qbz5n2kfra8p0\\localcache\\local-packages\\python39\\site-packages (from hampel) (1.26.4)\n",
      "Requirement already satisfied: pandas in c:\\users\\anurag dutta\\appdata\\local\\packages\\pythonsoftwarefoundation.python.3.9_qbz5n2kfra8p0\\localcache\\local-packages\\python39\\site-packages (from hampel) (1.5.2)\n",
      "Requirement already satisfied: python-dateutil>=2.8.1 in c:\\users\\anurag dutta\\appdata\\local\\packages\\pythonsoftwarefoundation.python.3.9_qbz5n2kfra8p0\\localcache\\local-packages\\python39\\site-packages (from pandas->hampel) (2.8.2)\n",
      "Requirement already satisfied: pytz>=2020.1 in c:\\users\\anurag dutta\\appdata\\local\\packages\\pythonsoftwarefoundation.python.3.9_qbz5n2kfra8p0\\localcache\\local-packages\\python39\\site-packages (from pandas->hampel) (2023.3.post1)\n",
      "Requirement already satisfied: six>=1.5 in c:\\users\\anurag dutta\\appdata\\local\\packages\\pythonsoftwarefoundation.python.3.9_qbz5n2kfra8p0\\localcache\\local-packages\\python39\\site-packages (from python-dateutil>=2.8.1->pandas->hampel) (1.16.0)\n",
      "Note: you may need to restart the kernel to use updated packages.\n"
     ]
    },
    {
     "name": "stderr",
     "output_type": "stream",
     "text": [
      "\n",
      "[notice] A new release of pip is available: 24.2 -> 24.3.1\n",
      "[notice] To update, run: C:\\Users\\Anurag Dutta\\AppData\\Local\\Microsoft\\WindowsApps\\PythonSoftwareFoundation.Python.3.9_qbz5n2kfra8p0\\python.exe -m pip install --upgrade pip\n"
     ]
    }
   ],
   "source": [
    "pip install hampel"
   ]
  },
  {
   "cell_type": "code",
   "execution_count": 2,
   "metadata": {
    "id": "By_d9uXpaFvZ"
   },
   "outputs": [],
   "source": [
    "from keras.models import Sequential\n",
    "from keras.layers import Dense\n",
    "from keras.layers import LSTM\n",
    "from keras.layers import Dropout\n",
    "import keras\n",
    "import tensorflow as tf\n",
    "from hampel import hampel\n",
    "import numpy as np\n",
    "import matplotlib.pyplot as plt\n",
    "import pandas as pd\n",
    "from sklearn.preprocessing import MinMaxScaler\n",
    "from sklearn.metrics import mean_squared_error, mean_absolute_error\n",
    "from math import sqrt\n",
    "from matplotlib import pyplot\n",
    "from numpy import array"
   ]
  },
  {
   "cell_type": "markdown",
   "metadata": {
    "id": "JyOjBMFayuoR"
   },
   "source": [
    "## Pretraining"
   ]
  },
  {
   "cell_type": "markdown",
   "metadata": {
    "id": "-5QqIY_GyuoR"
   },
   "source": [
    "The `capa_intermittency.dat` feeds the model with the dynamics of the Capacitor"
   ]
  },
  {
   "cell_type": "code",
   "execution_count": 3,
   "metadata": {
    "id": "9dV4a8yfyuoR"
   },
   "outputs": [],
   "source": [
    "data = np.genfromtxt('capa_intermittency.dat')\n",
    "training_set = pd.DataFrame(data).reset_index(drop=True)\n",
    "training_set = training_set.iloc[:,0]"
   ]
  },
  {
   "cell_type": "markdown",
   "metadata": {
    "id": "i7easoxByuoR"
   },
   "source": [
    "## Computing the Gradient"
   ]
  },
  {
   "cell_type": "markdown",
   "metadata": {
    "id": "5SnyolJTyuoR"
   },
   "source": [
    "_Calculating the value of_ $\\frac{dx}{dt}$"
   ]
  },
  {
   "cell_type": "code",
   "execution_count": 4,
   "metadata": {
    "colab": {
     "base_uri": "https://localhost:8080/"
    },
    "id": "wmIbVfIvyuoR",
    "outputId": "aa4e3136-c854-465d-d2e9-81cfd546e440"
   },
   "outputs": [
    {
     "name": "stdout",
     "output_type": "stream",
     "text": [
      "1.0\n",
      "1        0.000298\n",
      "2        0.000298\n",
      "3        0.000297\n",
      "4        0.000297\n",
      "5        0.000297\n",
      "           ...   \n",
      "9996     0.000018\n",
      "9997     0.000018\n",
      "9998     0.000018\n",
      "9999     0.000018\n",
      "10000    0.000018\n",
      "Name: 0, Length: 10000, dtype: float64\n"
     ]
    }
   ],
   "source": [
    "t_diff = 1\n",
    "print(training_set.max())\n",
    "gradient_t = (training_set.diff()/t_diff).iloc[1:] # dx/dt\n",
    "print(gradient_t)"
   ]
  },
  {
   "cell_type": "markdown",
   "metadata": {
    "id": "_2eVeeoxyuoS"
   },
   "source": [
    "## Loading Datasets"
   ]
  },
  {
   "cell_type": "code",
   "execution_count": null,
   "metadata": {
    "id": "0J-NKyIEyuoS"
   },
   "outputs": [
    {
     "data": {
      "text/plain": [
       "0       88.600000\n",
       "1       88.409524\n",
       "2       88.219048\n",
       "3       88.028571\n",
       "4       87.838095\n",
       "          ...    \n",
       "2245    58.123591\n",
       "2246    58.111293\n",
       "2247    58.098996\n",
       "2248    58.086698\n",
       "2249    58.074400\n",
       "Name: C4, Length: 2250, dtype: float64"
      ]
     },
     "execution_count": 5,
     "metadata": {},
     "output_type": "execute_result"
    }
   ],
   "source": [
    "data = pd.read_csv(\"c4_interpolated_2150_100.csv\")\n",
    "training_set = data.iloc[:, 1]\n",
    "training_set"
   ]
  },
  {
   "cell_type": "code",
   "execution_count": 6,
   "metadata": {
    "colab": {
     "base_uri": "https://localhost:8080/"
    },
    "id": "-CbNUhJ74UqF",
    "outputId": "20f562d8-8247-49cc-b9c3-00eca5e13e2d"
   },
   "outputs": [
    {
     "data": {
      "text/plain": [
       "0       88.600000\n",
       "1       88.409524\n",
       "2       88.219048\n",
       "3       88.028571\n",
       "4       87.838095\n",
       "          ...    \n",
       "2145     0.084953\n",
       "2146     0.000000\n",
       "2147     0.179084\n",
       "2148     0.000000\n",
       "2149     0.000000\n",
       "Name: C4, Length: 2150, dtype: float64"
      ]
     },
     "execution_count": 6,
     "metadata": {},
     "output_type": "execute_result"
    }
   ],
   "source": [
    "test = training_set.tail(100)\n",
    "test\n",
    "training_set = training_set.head(2150)\n",
    "training_set"
   ]
  },
  {
   "cell_type": "code",
   "execution_count": 7,
   "metadata": {
    "colab": {
     "base_uri": "https://localhost:8080/"
    },
    "id": "X0TwTcq0yuoS",
    "outputId": "37252ed8-d88e-4044-fa7a-922411990b5b"
   },
   "outputs": [
    {
     "name": "stdout",
     "output_type": "stream",
     "text": [
      "0       0.000298\n",
      "1       0.000298\n",
      "2       0.000297\n",
      "3       0.000297\n",
      "4       0.000297\n",
      "          ...   \n",
      "9995    0.000018\n",
      "9996    0.000018\n",
      "9997    0.000018\n",
      "9998    0.000018\n",
      "9999    0.000018\n",
      "Name: 0, Length: 10000, dtype: float64\n"
     ]
    }
   ],
   "source": [
    "training_set = training_set.reset_index(drop=True)\n",
    "gradient_t = gradient_t.reset_index(drop=True)\n",
    "print(gradient_t)"
   ]
  },
  {
   "cell_type": "code",
   "execution_count": 8,
   "metadata": {
    "id": "O2biznZQyuoS"
   },
   "outputs": [],
   "source": [
    "df = pd.concat((training_set, gradient_t), axis=1)\n",
    "df.columns = ['y_t', 'grad_t']"
   ]
  },
  {
   "cell_type": "code",
   "execution_count": 9,
   "metadata": {
    "colab": {
     "base_uri": "https://localhost:8080/",
     "height": 423
    },
    "id": "sk_a5v3tyuoS",
    "outputId": "17563625-e550-45ae-faab-fafa353e44da"
   },
   "outputs": [
    {
     "data": {
      "text/html": [
       "<div>\n",
       "<style scoped>\n",
       "    .dataframe tbody tr th:only-of-type {\n",
       "        vertical-align: middle;\n",
       "    }\n",
       "\n",
       "    .dataframe tbody tr th {\n",
       "        vertical-align: top;\n",
       "    }\n",
       "\n",
       "    .dataframe thead th {\n",
       "        text-align: right;\n",
       "    }\n",
       "</style>\n",
       "<table border=\"1\" class=\"dataframe\">\n",
       "  <thead>\n",
       "    <tr style=\"text-align: right;\">\n",
       "      <th></th>\n",
       "      <th>y_t</th>\n",
       "      <th>grad_t</th>\n",
       "    </tr>\n",
       "  </thead>\n",
       "  <tbody>\n",
       "    <tr>\n",
       "      <th>0</th>\n",
       "      <td>88.600000</td>\n",
       "      <td>0.000298</td>\n",
       "    </tr>\n",
       "    <tr>\n",
       "      <th>1</th>\n",
       "      <td>88.409524</td>\n",
       "      <td>0.000298</td>\n",
       "    </tr>\n",
       "    <tr>\n",
       "      <th>2</th>\n",
       "      <td>88.219048</td>\n",
       "      <td>0.000297</td>\n",
       "    </tr>\n",
       "    <tr>\n",
       "      <th>3</th>\n",
       "      <td>88.028571</td>\n",
       "      <td>0.000297</td>\n",
       "    </tr>\n",
       "    <tr>\n",
       "      <th>4</th>\n",
       "      <td>87.838095</td>\n",
       "      <td>0.000297</td>\n",
       "    </tr>\n",
       "    <tr>\n",
       "      <th>...</th>\n",
       "      <td>...</td>\n",
       "      <td>...</td>\n",
       "    </tr>\n",
       "    <tr>\n",
       "      <th>9995</th>\n",
       "      <td>NaN</td>\n",
       "      <td>0.000018</td>\n",
       "    </tr>\n",
       "    <tr>\n",
       "      <th>9996</th>\n",
       "      <td>NaN</td>\n",
       "      <td>0.000018</td>\n",
       "    </tr>\n",
       "    <tr>\n",
       "      <th>9997</th>\n",
       "      <td>NaN</td>\n",
       "      <td>0.000018</td>\n",
       "    </tr>\n",
       "    <tr>\n",
       "      <th>9998</th>\n",
       "      <td>NaN</td>\n",
       "      <td>0.000018</td>\n",
       "    </tr>\n",
       "    <tr>\n",
       "      <th>9999</th>\n",
       "      <td>NaN</td>\n",
       "      <td>0.000018</td>\n",
       "    </tr>\n",
       "  </tbody>\n",
       "</table>\n",
       "<p>10000 rows × 2 columns</p>\n",
       "</div>"
      ],
      "text/plain": [
       "            y_t    grad_t\n",
       "0     88.600000  0.000298\n",
       "1     88.409524  0.000298\n",
       "2     88.219048  0.000297\n",
       "3     88.028571  0.000297\n",
       "4     87.838095  0.000297\n",
       "...         ...       ...\n",
       "9995        NaN  0.000018\n",
       "9996        NaN  0.000018\n",
       "9997        NaN  0.000018\n",
       "9998        NaN  0.000018\n",
       "9999        NaN  0.000018\n",
       "\n",
       "[10000 rows x 2 columns]"
      ]
     },
     "execution_count": 9,
     "metadata": {},
     "output_type": "execute_result"
    }
   ],
   "source": [
    "df"
   ]
  },
  {
   "cell_type": "markdown",
   "metadata": {
    "id": "-5esyHu5aFvg"
   },
   "source": [
    "## Plot of the External Forcing from Chaotic Differential Equation"
   ]
  },
  {
   "cell_type": "code",
   "execution_count": 10,
   "metadata": {
    "colab": {
     "base_uri": "https://localhost:8080/",
     "height": 447
    },
    "id": "hGnE43tOh-4p",
    "outputId": "fc396503-b624-4fa5-dfbe-f460207405c6"
   },
   "outputs": [
    {
     "data": {
      "text/plain": [
       "<Axes: >"
      ]
     },
     "execution_count": 10,
     "metadata": {},
     "output_type": "execute_result"
    },
    {
     "data": {
      "image/png": "[encoded data removed]",
      "text/plain": [
       "<Figure size 432x288 with 1 Axes>"
      ]
     },
     "metadata": {
      "needs_background": "light"
     },
     "output_type": "display_data"
    }
   ],
   "source": [
    "df.iloc[:, 0].plot()"
   ]
  },
  {
   "cell_type": "code",
   "execution_count": 11,
   "metadata": {
    "colab": {
     "base_uri": "https://localhost:8080/",
     "height": 447
    },
    "id": "ym4xWUUxaFvg",
    "outputId": "ae6a3495-8ce9-437e-ba81-3ed31deedeae"
   },
   "outputs": [
    {
     "name": "stderr",
     "output_type": "stream",
     "text": [
      "C:\\Users\\Anurag Dutta\\AppData\\Local\\Packages\\PythonSoftwareFoundation.Python.3.9_qbz5n2kfra8p0\\LocalCache\\local-packages\\Python39\\site-packages\\pandas\\core\\arraylike.py:402: RuntimeWarning: divide by zero encountered in log\n",
      "  result = getattr(ufunc, method)(*inputs, **kwargs)\n"
     ]
    },
    {
     "data": {
      "text/plain": [
       "<Axes: >"
      ]
     },
     "execution_count": 11,
     "metadata": {},
     "output_type": "execute_result"
    },
    {
     "data": {
      "image/png": "[encoded data removed]",
      "text/plain": [
       "<Figure size 432x288 with 1 Axes>"
      ]
     },
     "metadata": {
      "needs_background": "light"
     },
     "output_type": "display_data"
    }
   ],
   "source": [
    "import numpy as np\n",
    "c0 = 86.6856  # Value for C0\n",
    "K0 = -0.0008  # Value for K0\n",
    "K1 = -0.0002  # Value for K1\n",
    "a = 0.0000    # Value for a\n",
    "b = 0.0128    # Value for b\n",
    "c = -2.3003    # Value for c\n",
    "\n",
    "L = np.minimum(c0, (df.iloc[:, 1] - (df.iloc[:, 0] * (K0 - K1 * (9 * a * np.log(df.iloc[:, 0] / c0) / (K0 - K1 * c)**2 + 4 * b * np.log(df.iloc[:, 0] / c0) / (K0 - K1 * c) + c)))))\n",
    "L.plot()"
   ]
  },
  {
   "cell_type": "markdown",
   "metadata": {
    "id": "9VyEywnwaFvh"
   },
   "source": [
    "## Preprocessing the data into supervised learning"
   ]
  },
  {
   "cell_type": "code",
   "execution_count": 12,
   "metadata": {
    "id": "6V9dXqzdaFvh"
   },
   "outputs": [],
   "source": [
    "# split a sequence into samples\n",
    "def Supervised(data, n_in=1, n_out=1, dropnan=True):\n",
    "    n_vars = 1 if type(data) is list else data.shape[1]\n",
    "    df = pd.DataFrame(data)\n",
    "    cols, names = list(), list()\n",
    "    # input sequence (t-n_in, ... t-1)\n",
    "    for i in range(n_in, 0, -1):\n",
    "        cols.append(df.shift(i))\n",
    "        names += [('var%d(t-%d)' % (j+1, i)) for j in range(n_vars)]\n",
    "    # forecast sequence (t, t+1, ... t+n_out)\n",
    "    for i in range(0, n_out):\n",
    "      cols.append(df.shift(-i))\n",
    "      if i == 0:\n",
    "        names += [('var%d(t)' % (j+1)) for j in range(n_vars)]\n",
    "      else:\n",
    "        names += [('var%d(t+%d)' % (j+1, i)) for j in range(n_vars)]\n",
    "    # put it all together\n",
    "    agg = pd.concat(cols, axis=1)\n",
    "    agg.columns = names\n",
    "    # drop rows with NaN values\n",
    "    if dropnan:\n",
    "       agg.dropna(inplace=True)\n",
    "    return agg"
   ]
  },
  {
   "cell_type": "code",
   "execution_count": 13,
   "metadata": {
    "colab": {
     "base_uri": "https://localhost:8080/"
    },
    "id": "CrzSrT1HnyfH",
    "outputId": "7e75f928-3e47-499d-eac1-51908015ef78"
   },
   "outputs": [
    {
     "name": "stdout",
     "output_type": "stream",
     "text": [
      "     var1(t-350)  var1(t-349)  var1(t-348)  var1(t-347)  var1(t-346)  \\\n",
      "350    88.600000    88.409524    88.219048    88.028571    87.838095   \n",
      "351    88.409524    88.219048    88.028571    87.838095    87.647619   \n",
      "352    88.219048    88.028571    87.838095    87.647619    87.457143   \n",
      "353    88.028571    87.838095    87.647619    87.457143    87.266667   \n",
      "354    87.838095    87.647619    87.457143    87.266667    87.076190   \n",
      "\n",
      "     var1(t-345)  var1(t-344)  var1(t-343)  var1(t-342)  var1(t-341)  ...  \\\n",
      "350    87.647619    87.457143    87.266667    87.076190    86.896218  ...   \n",
      "351    87.457143    87.266667    87.076190    86.896218    86.845798  ...   \n",
      "352    87.266667    87.076190    86.896218    86.845798    86.795378  ...   \n",
      "353    87.076190    86.896218    86.845798    86.795378    86.744958  ...   \n",
      "354    86.896218    86.845798    86.795378    86.744958    86.694538  ...   \n",
      "\n",
      "     var1(t+95)  var2(t+95)  var1(t+96)  var2(t+96)  var1(t+97)  var2(t+97)  \\\n",
      "350   78.880345    0.000263   78.856069    0.000263   78.831793    0.000263   \n",
      "351   78.856069    0.000263   78.831793    0.000263   78.807516    0.000262   \n",
      "352   78.831793    0.000263   78.807516    0.000262   78.783240    0.000262   \n",
      "353   78.807516    0.000262   78.783240    0.000262   78.758964    0.000262   \n",
      "354   78.783240    0.000262   78.758964    0.000262   78.734687    0.000262   \n",
      "\n",
      "     var1(t+98)  var2(t+98)  var1(t+99)  var2(t+99)  \n",
      "350   78.807516    0.000262   78.783240    0.000262  \n",
      "351   78.783240    0.000262   78.758964    0.000262  \n",
      "352   78.758964    0.000262   78.734687    0.000262  \n",
      "353   78.734687    0.000262   78.710411    0.000262  \n",
      "354   78.710411    0.000262   78.686134    0.000262  \n",
      "\n",
      "[5 rows x 551 columns]\n",
      "Index(['var1(t-350)', 'var1(t-349)', 'var1(t-348)', 'var1(t-347)',\n",
      "       'var1(t-346)', 'var1(t-345)', 'var1(t-344)', 'var1(t-343)',\n",
      "       'var1(t-342)', 'var1(t-341)',\n",
      "       ...\n",
      "       'var1(t+95)', 'var2(t+95)', 'var1(t+96)', 'var2(t+96)', 'var1(t+97)',\n",
      "       'var2(t+97)', 'var1(t+98)', 'var2(t+98)', 'var1(t+99)', 'var2(t+99)'],\n",
      "      dtype='object', length=551)\n"
     ]
    }
   ],
   "source": [
    "data = Supervised(df.values, n_in = 350, n_out = 100)\n",
    "\n",
    "\n",
    "cols_to_drop = []\n",
    "for i in range(2, 351):\n",
    "    cols_to_drop.extend([f'var2(t-{i})'])\n",
    "\n",
    "data.drop(cols_to_drop, axis=1, inplace=True)\n",
    "\n",
    "print(data.head())\n",
    "print(data.columns)"
   ]
  },
  {
   "cell_type": "code",
   "execution_count": 14,
   "metadata": {
    "id": "AfPf60oy6Pe4"
   },
   "outputs": [],
   "source": [
    "train = np.array(data[0:len(data)-1])\n",
    "forecast = np.array(data.tail(1))"
   ]
  },
  {
   "cell_type": "code",
   "execution_count": 15,
   "metadata": {
    "id": "WSAafzI37KiT"
   },
   "outputs": [],
   "source": [
    "trainy = train[:,-300:]\n",
    "trainX = train[:,:-300]"
   ]
  },
  {
   "cell_type": "code",
   "execution_count": 16,
   "metadata": {
    "id": "2SrOqVJA7f50"
   },
   "outputs": [],
   "source": [
    "forecasty = forecast[:,-300:]\n",
    "forecastX = forecast[:,:-300]"
   ]
  },
  {
   "cell_type": "code",
   "execution_count": 17,
   "metadata": {
    "colab": {
     "base_uri": "https://localhost:8080/"
    },
    "id": "Qno_k8Nw7saY",
    "outputId": "c4a88db5-d8c6-489f-cdb2-06b24e293cff"
   },
   "outputs": [
    {
     "name": "stdout",
     "output_type": "stream",
     "text": [
      "(1700, 1, 251) (1700, 300) (1, 1, 251)\n"
     ]
    }
   ],
   "source": [
    "trainX = trainX.reshape((trainX.shape[0], 1, trainX.shape[1]))\n",
    "forecastX = forecastX.reshape((forecastX.shape[0], 1, forecastX.shape[1]))\n",
    "print(trainX.shape, trainy.shape, forecastX.shape)"
   ]
  },
  {
   "cell_type": "code",
   "execution_count": 18,
   "metadata": {
    "colab": {
     "base_uri": "https://localhost:8080/"
    },
    "id": "b1Jp2DvNuNFx",
    "outputId": "d0e5b3c4-64f1-438c-eade-8dfeaac8e285"
   },
   "outputs": [
    {
     "name": "stdout",
     "output_type": "stream",
     "text": [
      "Epoch 1/500\n",
      "22/22 [==============================] - 3s 32ms/step - loss: 5227.1523 - val_loss: 2937.7668\n",
      "Epoch 2/500\n",
      "22/22 [==============================] - 0s 5ms/step - loss: 4947.1152 - val_loss: 2805.7197\n",
      "Epoch 3/500\n",
      "22/22 [==============================] - 0s 4ms/step - loss: 4795.3975 - val_loss: 2734.6426\n",
      "Epoch 4/500\n",
      "22/22 [==============================] - 0s 6ms/step - loss: 4700.0396 - val_loss: 2680.8425\n",
      "Epoch 5/500\n",
      "22/22 [==============================] - 0s 6ms/step - loss: 4608.6104 - val_loss: 2629.8516\n",
      "Epoch 6/500\n",
      "22/22 [==============================] - 0s 6ms/step - loss: 4520.5757 - val_loss: 2580.8301\n",
      "Epoch 7/500\n",
      "22/22 [==============================] - 0s 6ms/step - loss: 4435.0869 - val_loss: 2533.4263\n",
      "Epoch 8/500\n",
      "22/22 [==============================] - 0s 8ms/step - loss: 4351.6577 - val_loss: 2487.4258\n",
      "Epoch 9/500\n",
      "22/22 [==============================] - 0s 7ms/step - loss: 4270.0088 - val_loss: 2442.6992\n",
      "Epoch 10/500\n",
      "22/22 [==============================] - 0s 6ms/step - loss: 4189.9663 - val_loss: 2399.1594\n",
      "Epoch 11/500\n",
      "22/22 [==============================] - 0s 11ms/step - loss: 4111.4092 - val_loss: 2356.7429\n",
      "Epoch 12/500\n",
      "22/22 [==============================] - 0s 11ms/step - loss: 4034.2512 - val_loss: 2315.4016\n",
      "Epoch 13/500\n",
      "22/22 [==============================] - 0s 10ms/step - loss: 3958.4265 - val_loss: 2275.0989\n",
      "Epoch 14/500\n",
      "22/22 [==============================] - 0s 10ms/step - loss: 3883.8845 - val_loss: 2235.8120\n",
      "Epoch 15/500\n",
      "22/22 [==============================] - 0s 10ms/step - loss: 3810.5791 - val_loss: 2197.4050\n",
      "Epoch 16/500\n",
      "22/22 [==============================] - 0s 12ms/step - loss: 3738.4827 - val_loss: 2160.1279\n",
      "Epoch 17/500\n",
      "22/22 [==============================] - 0s 11ms/step - loss: 3667.5583 - val_loss: 2123.7026\n",
      "Epoch 18/500\n",
      "22/22 [==============================] - 0s 10ms/step - loss: 3597.7812 - val_loss: 2088.1924\n",
      "Epoch 19/500\n",
      "22/22 [==============================] - 0s 7ms/step - loss: 3529.1277 - val_loss: 2053.5801\n",
      "Epoch 20/500\n",
      "22/22 [==============================] - 0s 7ms/step - loss: 3461.5769 - val_loss: 2019.8499\n",
      "Epoch 21/500\n",
      "22/22 [==============================] - 0s 7ms/step - loss: 3395.1074 - val_loss: 1986.9862\n",
      "Epoch 22/500\n",
      "22/22 [==============================] - 0s 6ms/step - loss: 3329.7029 - val_loss: 1954.9752\n",
      "Epoch 23/500\n",
      "22/22 [==============================] - 0s 7ms/step - loss: 3265.3445 - val_loss: 1923.8026\n",
      "Epoch 24/500\n",
      "22/22 [==============================] - 0s 6ms/step - loss: 3202.0168 - val_loss: 1893.4556\n",
      "Epoch 25/500\n",
      "22/22 [==============================] - 0s 7ms/step - loss: 3139.7051 - val_loss: 1863.9209\n",
      "Epoch 26/500\n",
      "22/22 [==============================] - 0s 6ms/step - loss: 3078.3948 - val_loss: 1835.1875\n",
      "Epoch 27/500\n",
      "22/22 [==============================] - 0s 6ms/step - loss: 3018.0718 - val_loss: 1807.2424\n",
      "Epoch 28/500\n",
      "22/22 [==============================] - 0s 6ms/step - loss: 2958.7222 - val_loss: 1780.0745\n",
      "Epoch 29/500\n",
      "22/22 [==============================] - 0s 5ms/step - loss: 2900.3333 - val_loss: 1753.6721\n",
      "Epoch 30/500\n",
      "22/22 [==============================] - 0s 6ms/step - loss: 2842.8928 - val_loss: 1728.0250\n",
      "Epoch 31/500\n",
      "22/22 [==============================] - 0s 5ms/step - loss: 2786.3887 - val_loss: 1703.1213\n",
      "Epoch 32/500\n",
      "22/22 [==============================] - 0s 6ms/step - loss: 2730.8086 - val_loss: 1678.9513\n",
      "Epoch 33/500\n",
      "22/22 [==============================] - 0s 6ms/step - loss: 2676.1418 - val_loss: 1655.5040\n",
      "Epoch 34/500\n",
      "22/22 [==============================] - 0s 6ms/step - loss: 2622.3762 - val_loss: 1632.7695\n",
      "Epoch 35/500\n",
      "22/22 [==============================] - 0s 6ms/step - loss: 2569.5007 - val_loss: 1610.7373\n",
      "Epoch 36/500\n",
      "22/22 [==============================] - 0s 16ms/step - loss: 2517.5046 - val_loss: 1589.3979\n",
      "Epoch 37/500\n",
      "22/22 [==============================] - 0s 8ms/step - loss: 2466.3774 - val_loss: 1568.7413\n",
      "Epoch 38/500\n",
      "22/22 [==============================] - 0s 7ms/step - loss: 2416.1089 - val_loss: 1548.7577\n",
      "Epoch 39/500\n",
      "22/22 [==============================] - 0s 6ms/step - loss: 2366.6890 - val_loss: 1529.4377\n",
      "Epoch 40/500\n",
      "22/22 [==============================] - 0s 6ms/step - loss: 2318.1064 - val_loss: 1510.7717\n",
      "Epoch 41/500\n",
      "22/22 [==============================] - 0s 6ms/step - loss: 2270.3523 - val_loss: 1492.7500\n",
      "Epoch 42/500\n",
      "22/22 [==============================] - 0s 6ms/step - loss: 2223.4163 - val_loss: 1475.3638\n",
      "Epoch 43/500\n",
      "22/22 [==============================] - 0s 6ms/step - loss: 2177.2888 - val_loss: 1458.6033\n",
      "Epoch 44/500\n",
      "22/22 [==============================] - 0s 6ms/step - loss: 2131.9597 - val_loss: 1442.4600\n",
      "Epoch 45/500\n",
      "22/22 [==============================] - 0s 6ms/step - loss: 2087.4209 - val_loss: 1426.9248\n",
      "Epoch 46/500\n",
      "22/22 [==============================] - 0s 6ms/step - loss: 2043.6616 - val_loss: 1411.9883\n",
      "Epoch 47/500\n",
      "22/22 [==============================] - 0s 6ms/step - loss: 2000.6732 - val_loss: 1397.6421\n",
      "Epoch 48/500\n",
      "22/22 [==============================] - 0s 6ms/step - loss: 1958.4467 - val_loss: 1383.8767\n",
      "Epoch 49/500\n",
      "22/22 [==============================] - 0s 10ms/step - loss: 1916.9728 - val_loss: 1370.6843\n",
      "Epoch 50/500\n",
      "22/22 [==============================] - 0s 12ms/step - loss: 1876.2424 - val_loss: 1358.0557\n",
      "Epoch 51/500\n",
      "22/22 [==============================] - 0s 10ms/step - loss: 1836.2472 - val_loss: 1345.9823\n",
      "Epoch 52/500\n",
      "22/22 [==============================] - 0s 7ms/step - loss: 1796.9778 - val_loss: 1334.4552\n",
      "Epoch 53/500\n",
      "22/22 [==============================] - 0s 8ms/step - loss: 1758.4259 - val_loss: 1323.4666\n",
      "Epoch 54/500\n",
      "22/22 [==============================] - 0s 9ms/step - loss: 1720.5824 - val_loss: 1313.0076\n",
      "Epoch 55/500\n",
      "22/22 [==============================] - 0s 8ms/step - loss: 1683.4393 - val_loss: 1303.0701\n",
      "Epoch 56/500\n",
      "22/22 [==============================] - 0s 7ms/step - loss: 1646.9880 - val_loss: 1293.6454\n",
      "Epoch 57/500\n",
      "22/22 [==============================] - 0s 7ms/step - loss: 1611.2198 - val_loss: 1284.7253\n",
      "Epoch 58/500\n",
      "22/22 [==============================] - 0s 9ms/step - loss: 1576.1268 - val_loss: 1276.3018\n",
      "Epoch 59/500\n",
      "22/22 [==============================] - 0s 6ms/step - loss: 1541.7002 - val_loss: 1268.3663\n",
      "Epoch 60/500\n",
      "22/22 [==============================] - 0s 7ms/step - loss: 1507.9324 - val_loss: 1260.9113\n",
      "Epoch 61/500\n",
      "22/22 [==============================] - 0s 7ms/step - loss: 1474.8146 - val_loss: 1253.9280\n",
      "Epoch 62/500\n",
      "22/22 [==============================] - 0s 6ms/step - loss: 1442.3392 - val_loss: 1247.4087\n",
      "Epoch 63/500\n",
      "22/22 [==============================] - 0s 6ms/step - loss: 1410.4982 - val_loss: 1241.3455\n",
      "Epoch 64/500\n",
      "22/22 [==============================] - 0s 6ms/step - loss: 1379.2834 - val_loss: 1235.7297\n",
      "Epoch 65/500\n",
      "22/22 [==============================] - 0s 6ms/step - loss: 1348.6871 - val_loss: 1230.5543\n",
      "Epoch 66/500\n",
      "22/22 [==============================] - 0s 6ms/step - loss: 1318.7013 - val_loss: 1225.8109\n",
      "Epoch 67/500\n",
      "22/22 [==============================] - 0s 6ms/step - loss: 1289.3181 - val_loss: 1221.4919\n",
      "Epoch 68/500\n",
      "22/22 [==============================] - 0s 14ms/step - loss: 1260.5303 - val_loss: 1217.5891\n",
      "Epoch 69/500\n",
      "22/22 [==============================] - 0s 7ms/step - loss: 1232.3296 - val_loss: 1214.0951\n",
      "Epoch 70/500\n",
      "22/22 [==============================] - 0s 6ms/step - loss: 1204.7084 - val_loss: 1211.0018\n",
      "Epoch 71/500\n",
      "22/22 [==============================] - 0s 7ms/step - loss: 1177.6594 - val_loss: 1208.3019\n",
      "Epoch 72/500\n",
      "22/22 [==============================] - 0s 7ms/step - loss: 1151.1747 - val_loss: 1205.9874\n",
      "Epoch 73/500\n",
      "22/22 [==============================] - 0s 6ms/step - loss: 1125.2471 - val_loss: 1204.0505\n",
      "Epoch 74/500\n",
      "22/22 [==============================] - 0s 6ms/step - loss: 1099.8689 - val_loss: 1202.4841\n",
      "Epoch 75/500\n",
      "22/22 [==============================] - 0s 6ms/step - loss: 1075.0333 - val_loss: 1201.2804\n",
      "Epoch 76/500\n",
      "22/22 [==============================] - 0s 6ms/step - loss: 1050.7322 - val_loss: 1200.4318\n",
      "Epoch 77/500\n",
      "22/22 [==============================] - 0s 5ms/step - loss: 1026.9585 - val_loss: 1199.9307\n",
      "Epoch 78/500\n",
      "22/22 [==============================] - 0s 5ms/step - loss: 1003.7050 - val_loss: 1199.7698\n",
      "Epoch 79/500\n",
      "22/22 [==============================] - 0s 5ms/step - loss: 980.9644 - val_loss: 1199.9414\n",
      "Epoch 80/500\n",
      "22/22 [==============================] - 0s 5ms/step - loss: 958.7297 - val_loss: 1200.4385\n",
      "Epoch 81/500\n",
      "22/22 [==============================] - 0s 6ms/step - loss: 936.9935 - val_loss: 1201.2534\n",
      "Epoch 82/500\n",
      "22/22 [==============================] - 0s 6ms/step - loss: 915.7487 - val_loss: 1202.3789\n",
      "Epoch 83/500\n",
      "22/22 [==============================] - 0s 6ms/step - loss: 894.9880 - val_loss: 1203.8075\n",
      "Epoch 84/500\n",
      "22/22 [==============================] - 0s 6ms/step - loss: 874.7051 - val_loss: 1205.5320\n",
      "Epoch 85/500\n",
      "22/22 [==============================] - 0s 6ms/step - loss: 854.8921 - val_loss: 1207.5452\n",
      "Epoch 86/500\n",
      "22/22 [==============================] - 0s 6ms/step - loss: 835.5427 - val_loss: 1209.8398\n",
      "Epoch 87/500\n",
      "22/22 [==============================] - 0s 6ms/step - loss: 816.6498 - val_loss: 1212.4089\n",
      "Epoch 88/500\n",
      "22/22 [==============================] - 0s 6ms/step - loss: 798.2062 - val_loss: 1215.2449\n",
      "Epoch 89/500\n",
      "22/22 [==============================] - 0s 6ms/step - loss: 780.2057 - val_loss: 1218.3409\n",
      "Epoch 90/500\n",
      "22/22 [==============================] - 0s 6ms/step - loss: 762.6407 - val_loss: 1221.6897\n",
      "Epoch 91/500\n",
      "22/22 [==============================] - 0s 6ms/step - loss: 745.5052 - val_loss: 1225.2848\n",
      "Epoch 92/500\n",
      "22/22 [==============================] - 0s 6ms/step - loss: 728.7920 - val_loss: 1229.1180\n",
      "Epoch 93/500\n",
      "22/22 [==============================] - 0s 5ms/step - loss: 712.4943 - val_loss: 1233.1833\n",
      "Epoch 94/500\n",
      "22/22 [==============================] - 0s 6ms/step - loss: 696.6057 - val_loss: 1237.4735\n",
      "Epoch 95/500\n",
      "22/22 [==============================] - 0s 5ms/step - loss: 681.1197 - val_loss: 1241.9818\n",
      "Epoch 96/500\n",
      "22/22 [==============================] - 0s 6ms/step - loss: 666.0293 - val_loss: 1246.7007\n",
      "Epoch 97/500\n",
      "22/22 [==============================] - 0s 6ms/step - loss: 651.3283 - val_loss: 1251.6240\n",
      "Epoch 98/500\n",
      "22/22 [==============================] - 0s 6ms/step - loss: 637.0099 - val_loss: 1256.7449\n",
      "Epoch 99/500\n",
      "22/22 [==============================] - 0s 14ms/step - loss: 623.0678 - val_loss: 1262.0560\n",
      "Epoch 100/500\n",
      "22/22 [==============================] - 0s 9ms/step - loss: 609.4956 - val_loss: 1267.5511\n",
      "Epoch 101/500\n",
      "22/22 [==============================] - 0s 8ms/step - loss: 596.2869 - val_loss: 1273.2236\n",
      "Epoch 102/500\n",
      "22/22 [==============================] - 0s 7ms/step - loss: 583.4351 - val_loss: 1279.0665\n",
      "Epoch 103/500\n",
      "22/22 [==============================] - 0s 8ms/step - loss: 570.9341 - val_loss: 1285.0735\n",
      "Epoch 104/500\n",
      "22/22 [==============================] - 0s 6ms/step - loss: 558.7775 - val_loss: 1291.2375\n",
      "Epoch 105/500\n",
      "22/22 [==============================] - 0s 7ms/step - loss: 546.9592 - val_loss: 1297.5526\n",
      "Epoch 106/500\n",
      "22/22 [==============================] - 0s 7ms/step - loss: 535.4728 - val_loss: 1304.0118\n",
      "Epoch 107/500\n",
      "22/22 [==============================] - 0s 6ms/step - loss: 524.3122 - val_loss: 1310.6090\n",
      "Epoch 108/500\n",
      "22/22 [==============================] - 0s 7ms/step - loss: 513.4713 - val_loss: 1317.3378\n",
      "Epoch 109/500\n",
      "22/22 [==============================] - 0s 6ms/step - loss: 502.9440 - val_loss: 1324.1915\n",
      "Epoch 110/500\n",
      "22/22 [==============================] - 0s 7ms/step - loss: 492.7245 - val_loss: 1331.1643\n",
      "Epoch 111/500\n",
      "22/22 [==============================] - 0s 7ms/step - loss: 482.8062 - val_loss: 1338.2499\n",
      "Epoch 112/500\n",
      "22/22 [==============================] - 0s 7ms/step - loss: 473.1837 - val_loss: 1345.4417\n",
      "Epoch 113/500\n",
      "22/22 [==============================] - 0s 7ms/step - loss: 463.8509 - val_loss: 1352.7339\n",
      "Epoch 114/500\n",
      "22/22 [==============================] - 0s 9ms/step - loss: 454.8017 - val_loss: 1360.1204\n",
      "Epoch 115/500\n",
      "22/22 [==============================] - 0s 7ms/step - loss: 446.0305 - val_loss: 1367.5951\n",
      "Epoch 116/500\n",
      "22/22 [==============================] - 0s 8ms/step - loss: 437.5315 - val_loss: 1375.1521\n",
      "Epoch 117/500\n",
      "22/22 [==============================] - 0s 7ms/step - loss: 429.2990 - val_loss: 1382.7855\n",
      "Epoch 118/500\n",
      "22/22 [==============================] - 0s 6ms/step - loss: 421.3271 - val_loss: 1390.4894\n",
      "Epoch 119/500\n",
      "22/22 [==============================] - 0s 6ms/step - loss: 413.6103 - val_loss: 1398.2584\n",
      "Epoch 120/500\n",
      "22/22 [==============================] - 0s 6ms/step - loss: 406.1428 - val_loss: 1406.0865\n",
      "Epoch 121/500\n",
      "22/22 [==============================] - 0s 6ms/step - loss: 398.9193 - val_loss: 1413.9678\n",
      "Epoch 122/500\n",
      "22/22 [==============================] - 0s 6ms/step - loss: 391.9342 - val_loss: 1421.8969\n",
      "Epoch 123/500\n",
      "22/22 [==============================] - 0s 7ms/step - loss: 385.1821 - val_loss: 1429.8685\n",
      "Epoch 124/500\n",
      "22/22 [==============================] - 0s 6ms/step - loss: 378.6575 - val_loss: 1437.8772\n",
      "Epoch 125/500\n",
      "22/22 [==============================] - 0s 8ms/step - loss: 372.3551 - val_loss: 1445.9176\n",
      "Epoch 126/500\n",
      "22/22 [==============================] - 0s 7ms/step - loss: 366.2696 - val_loss: 1453.9841\n",
      "Epoch 127/500\n",
      "22/22 [==============================] - 0s 6ms/step - loss: 360.3958 - val_loss: 1462.0720\n",
      "Epoch 128/500\n",
      "22/22 [==============================] - 0s 13ms/step - loss: 354.7284 - val_loss: 1470.1755\n",
      "Epoch 129/500\n",
      "22/22 [==============================] - 0s 7ms/step - loss: 349.2623 - val_loss: 1478.2904\n",
      "Epoch 130/500\n",
      "22/22 [==============================] - 0s 6ms/step - loss: 343.9926 - val_loss: 1486.4111\n",
      "Epoch 131/500\n",
      "22/22 [==============================] - 0s 6ms/step - loss: 338.9140 - val_loss: 1494.5332\n",
      "Epoch 132/500\n",
      "22/22 [==============================] - 0s 6ms/step - loss: 334.0216 - val_loss: 1502.6514\n",
      "Epoch 133/500\n",
      "22/22 [==============================] - 0s 6ms/step - loss: 329.3107 - val_loss: 1510.7621\n",
      "Epoch 134/500\n",
      "22/22 [==============================] - 0s 6ms/step - loss: 324.7762 - val_loss: 1518.8596\n",
      "Epoch 135/500\n",
      "22/22 [==============================] - 0s 6ms/step - loss: 320.4137 - val_loss: 1526.9391\n",
      "Epoch 136/500\n",
      "22/22 [==============================] - 0s 8ms/step - loss: 316.2181 - val_loss: 1534.9978\n",
      "Epoch 137/500\n",
      "22/22 [==============================] - 0s 6ms/step - loss: 312.1849 - val_loss: 1543.0299\n",
      "Epoch 138/500\n",
      "22/22 [==============================] - 0s 9ms/step - loss: 308.3094 - val_loss: 1551.0319\n",
      "Epoch 139/500\n",
      "22/22 [==============================] - 0s 10ms/step - loss: 304.5872 - val_loss: 1558.9993\n",
      "Epoch 140/500\n",
      "22/22 [==============================] - 0s 8ms/step - loss: 301.0139 - val_loss: 1566.9281\n",
      "Epoch 141/500\n",
      "22/22 [==============================] - 0s 14ms/step - loss: 297.5851 - val_loss: 1574.8147\n",
      "Epoch 142/500\n",
      "22/22 [==============================] - 0s 14ms/step - loss: 294.2963 - val_loss: 1582.6562\n",
      "Epoch 143/500\n",
      "22/22 [==============================] - 0s 11ms/step - loss: 291.1432 - val_loss: 1590.4473\n",
      "Epoch 144/500\n",
      "22/22 [==============================] - 0s 8ms/step - loss: 288.1218 - val_loss: 1598.1846\n",
      "Epoch 145/500\n",
      "22/22 [==============================] - 0s 7ms/step - loss: 285.2279 - val_loss: 1605.8655\n",
      "Epoch 146/500\n",
      "22/22 [==============================] - 0s 7ms/step - loss: 282.4576 - val_loss: 1613.4866\n",
      "Epoch 147/500\n",
      "22/22 [==============================] - 0s 7ms/step - loss: 279.8068 - val_loss: 1621.0437\n",
      "Epoch 148/500\n",
      "22/22 [==============================] - 0s 6ms/step - loss: 277.2715 - val_loss: 1628.5345\n",
      "Epoch 149/500\n",
      "22/22 [==============================] - 0s 7ms/step - loss: 274.8480 - val_loss: 1635.9553\n",
      "Epoch 150/500\n",
      "22/22 [==============================] - 0s 6ms/step - loss: 272.5326 - val_loss: 1643.3042\n",
      "Epoch 151/500\n",
      "22/22 [==============================] - 0s 9ms/step - loss: 270.3215 - val_loss: 1650.5767\n",
      "Epoch 152/500\n",
      "22/22 [==============================] - 0s 11ms/step - loss: 268.2112 - val_loss: 1657.7722\n",
      "Epoch 153/500\n",
      "22/22 [==============================] - 0s 13ms/step - loss: 266.1980 - val_loss: 1664.8871\n",
      "Epoch 154/500\n",
      "22/22 [==============================] - 0s 9ms/step - loss: 264.2784 - val_loss: 1671.9187\n",
      "Epoch 155/500\n",
      "22/22 [==============================] - 0s 7ms/step - loss: 262.4492 - val_loss: 1678.8658\n",
      "Epoch 156/500\n",
      "22/22 [==============================] - 0s 7ms/step - loss: 260.7072 - val_loss: 1685.7249\n",
      "Epoch 157/500\n",
      "22/22 [==============================] - 0s 7ms/step - loss: 259.0488 - val_loss: 1692.4945\n",
      "Epoch 158/500\n",
      "22/22 [==============================] - 0s 7ms/step - loss: 257.4710 - val_loss: 1699.1719\n",
      "Epoch 159/500\n",
      "22/22 [==============================] - 0s 7ms/step - loss: 255.9709 - val_loss: 1705.7570\n",
      "Epoch 160/500\n",
      "22/22 [==============================] - 0s 14ms/step - loss: 254.5452 - val_loss: 1712.2461\n",
      "Epoch 161/500\n",
      "22/22 [==============================] - 0s 8ms/step - loss: 253.1911 - val_loss: 1718.6392\n",
      "Epoch 162/500\n",
      "22/22 [==============================] - 0s 7ms/step - loss: 251.9058 - val_loss: 1724.9335\n",
      "Epoch 163/500\n",
      "22/22 [==============================] - 0s 6ms/step - loss: 250.6864 - val_loss: 1731.1287\n",
      "Epoch 164/500\n",
      "22/22 [==============================] - 0s 7ms/step - loss: 249.5301 - val_loss: 1737.2238\n",
      "Epoch 165/500\n",
      "22/22 [==============================] - 0s 6ms/step - loss: 248.4345 - val_loss: 1743.2155\n",
      "Epoch 166/500\n",
      "22/22 [==============================] - 0s 7ms/step - loss: 247.3970 - val_loss: 1749.1046\n",
      "Epoch 167/500\n",
      "22/22 [==============================] - 0s 10ms/step - loss: 246.4150 - val_loss: 1754.8903\n",
      "Epoch 168/500\n",
      "22/22 [==============================] - 0s 9ms/step - loss: 245.4861 - val_loss: 1760.5709\n",
      "Epoch 169/500\n",
      "22/22 [==============================] - 0s 7ms/step - loss: 244.6081 - val_loss: 1766.1467\n",
      "Epoch 170/500\n",
      "22/22 [==============================] - 0s 8ms/step - loss: 243.7785 - val_loss: 1771.6160\n",
      "Epoch 171/500\n",
      "22/22 [==============================] - 0s 6ms/step - loss: 242.9953 - val_loss: 1776.9794\n",
      "Epoch 172/500\n",
      "22/22 [==============================] - 0s 7ms/step - loss: 242.2563 - val_loss: 1782.2361\n",
      "Epoch 173/500\n",
      "22/22 [==============================] - 0s 7ms/step - loss: 241.5594 - val_loss: 1787.3855\n",
      "Epoch 174/500\n",
      "22/22 [==============================] - 0s 6ms/step - loss: 240.9027 - val_loss: 1792.4280\n",
      "Epoch 175/500\n",
      "22/22 [==============================] - 0s 7ms/step - loss: 240.2842 - val_loss: 1797.3625\n",
      "Epoch 176/500\n",
      "22/22 [==============================] - 0s 6ms/step - loss: 239.7022 - val_loss: 1802.1907\n",
      "Epoch 177/500\n",
      "22/22 [==============================] - 0s 7ms/step - loss: 239.1547 - val_loss: 1806.9125\n",
      "Epoch 178/500\n",
      "22/22 [==============================] - 0s 8ms/step - loss: 238.6400 - val_loss: 1811.5262\n",
      "Epoch 179/500\n",
      "22/22 [==============================] - 0s 8ms/step - loss: 238.1567 - val_loss: 1816.0348\n",
      "Epoch 180/500\n",
      "22/22 [==============================] - 0s 9ms/step - loss: 237.7029 - val_loss: 1820.4369\n",
      "Epoch 181/500\n",
      "22/22 [==============================] - 0s 11ms/step - loss: 237.2772 - val_loss: 1824.7330\n",
      "Epoch 182/500\n",
      "22/22 [==============================] - 0s 9ms/step - loss: 236.8781 - val_loss: 1828.9244\n",
      "Epoch 183/500\n",
      "22/22 [==============================] - 0s 9ms/step - loss: 236.5043 - val_loss: 1833.0116\n",
      "Epoch 184/500\n",
      "22/22 [==============================] - 0s 12ms/step - loss: 236.1543 - val_loss: 1836.9960\n",
      "Epoch 185/500\n",
      "22/22 [==============================] - 0s 8ms/step - loss: 235.8268 - val_loss: 1840.8774\n",
      "Epoch 186/500\n",
      "22/22 [==============================] - 0s 6ms/step - loss: 235.5208 - val_loss: 1844.6572\n",
      "Epoch 187/500\n",
      "22/22 [==============================] - 0s 7ms/step - loss: 235.2347 - val_loss: 1848.3362\n",
      "Epoch 188/500\n",
      "22/22 [==============================] - 0s 6ms/step - loss: 234.9677 - val_loss: 1851.9156\n",
      "Epoch 189/500\n",
      "22/22 [==============================] - 0s 13ms/step - loss: 234.7186 - val_loss: 1855.3956\n",
      "Epoch 190/500\n",
      "22/22 [==============================] - 0s 9ms/step - loss: 234.4864 - val_loss: 1858.7787\n",
      "Epoch 191/500\n",
      "22/22 [==============================] - 0s 11ms/step - loss: 234.2699 - val_loss: 1862.0658\n",
      "Epoch 192/500\n",
      "22/22 [==============================] - 0s 7ms/step - loss: 234.0684 - val_loss: 1865.2577\n",
      "Epoch 193/500\n",
      "22/22 [==============================] - 0s 6ms/step - loss: 233.8810 - val_loss: 1868.3562\n",
      "Epoch 194/500\n",
      "22/22 [==============================] - 0s 7ms/step - loss: 233.7068 - val_loss: 1871.3622\n",
      "Epoch 195/500\n",
      "22/22 [==============================] - 0s 6ms/step - loss: 233.5448 - val_loss: 1874.2781\n",
      "Epoch 196/500\n",
      "22/22 [==============================] - 0s 6ms/step - loss: 233.3945 - val_loss: 1877.1046\n",
      "Epoch 197/500\n",
      "22/22 [==============================] - 0s 6ms/step - loss: 233.2550 - val_loss: 1879.8431\n",
      "Epoch 198/500\n",
      "22/22 [==============================] - 0s 6ms/step - loss: 233.1258 - val_loss: 1882.4946\n",
      "Epoch 199/500\n",
      "22/22 [==============================] - 0s 5ms/step - loss: 233.0060 - val_loss: 1885.0615\n",
      "Epoch 200/500\n",
      "22/22 [==============================] - 0s 6ms/step - loss: 232.8952 - val_loss: 1887.5448\n",
      "Epoch 201/500\n",
      "22/22 [==============================] - 0s 6ms/step - loss: 232.7928 - val_loss: 1889.9474\n",
      "Epoch 202/500\n",
      "22/22 [==============================] - 0s 5ms/step - loss: 232.6979 - val_loss: 1892.2699\n",
      "Epoch 203/500\n",
      "22/22 [==============================] - 0s 6ms/step - loss: 232.6105 - val_loss: 1894.5138\n",
      "Epoch 204/500\n",
      "22/22 [==============================] - 0s 6ms/step - loss: 232.5297 - val_loss: 1896.6798\n",
      "Epoch 205/500\n",
      "22/22 [==============================] - 0s 7ms/step - loss: 232.4552 - val_loss: 1898.7719\n",
      "Epoch 206/500\n",
      "22/22 [==============================] - 0s 6ms/step - loss: 232.3866 - val_loss: 1900.7910\n",
      "Epoch 207/500\n",
      "22/22 [==============================] - 0s 6ms/step - loss: 232.3234 - val_loss: 1902.7386\n",
      "Epoch 208/500\n",
      "22/22 [==============================] - 0s 6ms/step - loss: 232.2653 - val_loss: 1904.6155\n",
      "Epoch 209/500\n",
      "22/22 [==============================] - 0s 6ms/step - loss: 232.2118 - val_loss: 1906.4241\n",
      "Epoch 210/500\n",
      "22/22 [==============================] - 0s 6ms/step - loss: 232.1628 - val_loss: 1908.1665\n",
      "Epoch 211/500\n",
      "22/22 [==============================] - 0s 6ms/step - loss: 232.1177 - val_loss: 1909.8444\n",
      "Epoch 212/500\n",
      "22/22 [==============================] - 0s 6ms/step - loss: 232.0764 - val_loss: 1911.4590\n",
      "Epoch 213/500\n",
      "22/22 [==============================] - 0s 7ms/step - loss: 232.0386 - val_loss: 1913.0121\n",
      "Epoch 214/500\n",
      "22/22 [==============================] - 0s 6ms/step - loss: 232.0039 - val_loss: 1914.5059\n",
      "Epoch 215/500\n",
      "22/22 [==============================] - 0s 6ms/step - loss: 231.9722 - val_loss: 1915.9393\n",
      "Epoch 216/500\n",
      "22/22 [==============================] - 0s 5ms/step - loss: 231.9432 - val_loss: 1917.3190\n",
      "Epoch 217/500\n",
      "22/22 [==============================] - 0s 5ms/step - loss: 231.9168 - val_loss: 1918.6427\n",
      "Epoch 218/500\n",
      "22/22 [==============================] - 0s 5ms/step - loss: 231.8926 - val_loss: 1919.9124\n",
      "Epoch 219/500\n",
      "22/22 [==============================] - 0s 6ms/step - loss: 231.8706 - val_loss: 1921.1316\n",
      "Epoch 220/500\n",
      "22/22 [==============================] - 0s 12ms/step - loss: 231.8506 - val_loss: 1922.3002\n",
      "Epoch 221/500\n",
      "22/22 [==============================] - 0s 7ms/step - loss: 231.8324 - val_loss: 1923.4205\n",
      "Epoch 222/500\n",
      "22/22 [==============================] - 0s 7ms/step - loss: 231.8159 - val_loss: 1924.4938\n",
      "Epoch 223/500\n",
      "22/22 [==============================] - 0s 7ms/step - loss: 231.8008 - val_loss: 1925.5211\n",
      "Epoch 224/500\n",
      "22/22 [==============================] - 0s 6ms/step - loss: 231.7872 - val_loss: 1926.5057\n",
      "Epoch 225/500\n",
      "22/22 [==============================] - 0s 8ms/step - loss: 231.7749 - val_loss: 1927.4470\n",
      "Epoch 226/500\n",
      "22/22 [==============================] - 0s 8ms/step - loss: 231.7637 - val_loss: 1928.3474\n",
      "Epoch 227/500\n",
      "22/22 [==============================] - 0s 7ms/step - loss: 231.7537 - val_loss: 1929.2085\n",
      "Epoch 228/500\n",
      "22/22 [==============================] - 0s 7ms/step - loss: 231.7446 - val_loss: 1930.0312\n",
      "Epoch 229/500\n",
      "22/22 [==============================] - 0s 7ms/step - loss: 231.7365 - val_loss: 1930.8175\n",
      "Epoch 230/500\n",
      "22/22 [==============================] - 0s 6ms/step - loss: 231.7291 - val_loss: 1931.5682\n",
      "Epoch 231/500\n",
      "22/22 [==============================] - 0s 7ms/step - loss: 231.7225 - val_loss: 1932.2844\n",
      "Epoch 232/500\n",
      "22/22 [==============================] - 0s 6ms/step - loss: 231.7166 - val_loss: 1932.9678\n",
      "Epoch 233/500\n",
      "22/22 [==============================] - 0s 9ms/step - loss: 231.7113 - val_loss: 1933.6193\n",
      "Epoch 234/500\n",
      "22/22 [==============================] - 0s 7ms/step - loss: 231.7067 - val_loss: 1934.2412\n",
      "Epoch 235/500\n",
      "22/22 [==============================] - 0s 6ms/step - loss: 231.7025 - val_loss: 1934.8328\n",
      "Epoch 236/500\n",
      "22/22 [==============================] - 0s 6ms/step - loss: 231.6988 - val_loss: 1935.3969\n",
      "Epoch 237/500\n",
      "22/22 [==============================] - 0s 6ms/step - loss: 231.6955 - val_loss: 1935.9340\n",
      "Epoch 238/500\n",
      "22/22 [==============================] - 0s 7ms/step - loss: 231.6926 - val_loss: 1936.4448\n",
      "Epoch 239/500\n",
      "22/22 [==============================] - 0s 6ms/step - loss: 231.6901 - val_loss: 1936.9305\n",
      "Epoch 240/500\n",
      "22/22 [==============================] - 0s 6ms/step - loss: 231.6879 - val_loss: 1937.3934\n",
      "Epoch 241/500\n",
      "22/22 [==============================] - 0s 8ms/step - loss: 231.6860 - val_loss: 1937.8318\n",
      "Epoch 242/500\n",
      "22/22 [==============================] - 0s 8ms/step - loss: 231.6843 - val_loss: 1938.2489\n",
      "Epoch 243/500\n",
      "22/22 [==============================] - 0s 6ms/step - loss: 231.6830 - val_loss: 1938.6456\n",
      "Epoch 244/500\n",
      "22/22 [==============================] - 0s 6ms/step - loss: 231.6818 - val_loss: 1939.0226\n",
      "Epoch 245/500\n",
      "22/22 [==============================] - 0s 5ms/step - loss: 231.6809 - val_loss: 1939.3798\n",
      "Epoch 246/500\n",
      "22/22 [==============================] - 0s 8ms/step - loss: 231.6801 - val_loss: 1939.7190\n",
      "Epoch 247/500\n",
      "22/22 [==============================] - 0s 6ms/step - loss: 231.6794 - val_loss: 1940.0400\n",
      "Epoch 248/500\n",
      "22/22 [==============================] - 0s 12ms/step - loss: 231.6789 - val_loss: 1940.3451\n",
      "Epoch 249/500\n",
      "22/22 [==============================] - 0s 15ms/step - loss: 231.6785 - val_loss: 1940.6329\n",
      "Epoch 250/500\n",
      "22/22 [==============================] - 0s 9ms/step - loss: 231.6783 - val_loss: 1940.9062\n",
      "Epoch 251/500\n",
      "22/22 [==============================] - 0s 9ms/step - loss: 231.6781 - val_loss: 1941.1660\n",
      "Epoch 252/500\n",
      "22/22 [==============================] - 0s 9ms/step - loss: 231.6781 - val_loss: 1941.4105\n",
      "Epoch 253/500\n",
      "22/22 [==============================] - 0s 8ms/step - loss: 231.6781 - val_loss: 1941.6427\n",
      "Epoch 254/500\n",
      "22/22 [==============================] - 0s 7ms/step - loss: 231.6783 - val_loss: 1941.8619\n",
      "Epoch 255/500\n",
      "22/22 [==============================] - 0s 9ms/step - loss: 231.6785 - val_loss: 1942.0693\n",
      "Epoch 256/500\n",
      "22/22 [==============================] - 0s 7ms/step - loss: 231.6787 - val_loss: 1942.2643\n",
      "Epoch 257/500\n",
      "22/22 [==============================] - 0s 6ms/step - loss: 231.6791 - val_loss: 1942.4500\n",
      "Epoch 258/500\n",
      "22/22 [==============================] - 0s 6ms/step - loss: 231.6794 - val_loss: 1942.6246\n",
      "Epoch 259/500\n",
      "22/22 [==============================] - 0s 5ms/step - loss: 231.6798 - val_loss: 1942.7897\n",
      "Epoch 260/500\n",
      "22/22 [==============================] - 0s 6ms/step - loss: 231.6802 - val_loss: 1942.9448\n",
      "Epoch 261/500\n",
      "22/22 [==============================] - 0s 6ms/step - loss: 231.6807 - val_loss: 1943.0913\n",
      "Epoch 262/500\n",
      "22/22 [==============================] - 0s 7ms/step - loss: 231.6812 - val_loss: 1943.2301\n",
      "Epoch 263/500\n",
      "22/22 [==============================] - 0s 7ms/step - loss: 231.6818 - val_loss: 1943.3604\n",
      "Epoch 264/500\n",
      "22/22 [==============================] - 0s 8ms/step - loss: 231.6823 - val_loss: 1943.4838\n",
      "Epoch 265/500\n",
      "22/22 [==============================] - 0s 8ms/step - loss: 231.6829 - val_loss: 1943.5991\n",
      "Epoch 266/500\n",
      "22/22 [==============================] - 0s 7ms/step - loss: 231.6835 - val_loss: 1943.7078\n",
      "Epoch 267/500\n",
      "22/22 [==============================] - 0s 7ms/step - loss: 231.6841 - val_loss: 1943.8101\n",
      "Epoch 268/500\n",
      "22/22 [==============================] - 0s 7ms/step - loss: 231.6847 - val_loss: 1943.9069\n",
      "Epoch 269/500\n",
      "22/22 [==============================] - 0s 6ms/step - loss: 231.6853 - val_loss: 1943.9961\n",
      "Epoch 270/500\n",
      "22/22 [==============================] - 0s 7ms/step - loss: 231.6861 - val_loss: 1944.0825\n",
      "Epoch 271/500\n",
      "22/22 [==============================] - 0s 6ms/step - loss: 231.6867 - val_loss: 1944.1624\n",
      "Epoch 272/500\n",
      "22/22 [==============================] - 0s 15ms/step - loss: 231.6873 - val_loss: 1944.2379\n",
      "Epoch 273/500\n",
      "22/22 [==============================] - 0s 6ms/step - loss: 231.6880 - val_loss: 1944.3081\n",
      "Epoch 274/500\n",
      "22/22 [==============================] - 0s 8ms/step - loss: 231.6887 - val_loss: 1944.3740\n",
      "Epoch 275/500\n",
      "22/22 [==============================] - 0s 8ms/step - loss: 231.6894 - val_loss: 1944.4365\n",
      "Epoch 276/500\n",
      "22/22 [==============================] - 0s 9ms/step - loss: 231.6901 - val_loss: 1944.4950\n",
      "Epoch 277/500\n",
      "22/22 [==============================] - 0s 8ms/step - loss: 231.6907 - val_loss: 1944.5497\n",
      "Epoch 278/500\n",
      "22/22 [==============================] - 0s 9ms/step - loss: 231.6914 - val_loss: 1944.6013\n",
      "Epoch 279/500\n",
      "22/22 [==============================] - 0s 10ms/step - loss: 231.6921 - val_loss: 1944.6500\n",
      "Epoch 280/500\n",
      "22/22 [==============================] - 0s 10ms/step - loss: 231.6927 - val_loss: 1944.6934\n",
      "Epoch 281/500\n",
      "22/22 [==============================] - 0s 8ms/step - loss: 231.6934 - val_loss: 1944.7362\n",
      "Epoch 282/500\n",
      "22/22 [==============================] - 0s 7ms/step - loss: 231.6941 - val_loss: 1944.7758\n",
      "Epoch 283/500\n",
      "22/22 [==============================] - 0s 8ms/step - loss: 231.6948 - val_loss: 1944.8123\n",
      "Epoch 284/500\n",
      "22/22 [==============================] - 0s 7ms/step - loss: 231.6954 - val_loss: 1944.8467\n",
      "Epoch 285/500\n",
      "22/22 [==============================] - 0s 8ms/step - loss: 231.6960 - val_loss: 1944.8787\n",
      "Epoch 286/500\n",
      "22/22 [==============================] - 0s 9ms/step - loss: 231.6968 - val_loss: 1944.9088\n",
      "Epoch 287/500\n",
      "22/22 [==============================] - 0s 8ms/step - loss: 231.6974 - val_loss: 1944.9375\n",
      "Epoch 288/500\n",
      "22/22 [==============================] - 0s 7ms/step - loss: 231.6981 - val_loss: 1944.9644\n",
      "Epoch 289/500\n",
      "22/22 [==============================] - 0s 9ms/step - loss: 231.6987 - val_loss: 1944.9883\n",
      "Epoch 290/500\n",
      "22/22 [==============================] - 0s 9ms/step - loss: 231.6994 - val_loss: 1945.0114\n",
      "Epoch 291/500\n",
      "22/22 [==============================] - 0s 11ms/step - loss: 231.7000 - val_loss: 1945.0331\n",
      "Epoch 292/500\n",
      "22/22 [==============================] - 0s 14ms/step - loss: 231.7006 - val_loss: 1945.0522\n",
      "Epoch 293/500\n",
      "22/22 [==============================] - 1s 33ms/step - loss: 231.7012 - val_loss: 1945.0712\n",
      "Epoch 294/500\n",
      "22/22 [==============================] - 0s 10ms/step - loss: 231.7019 - val_loss: 1945.0887\n",
      "Epoch 295/500\n",
      "22/22 [==============================] - 0s 9ms/step - loss: 231.7025 - val_loss: 1945.1050\n",
      "Epoch 296/500\n",
      "22/22 [==============================] - 0s 8ms/step - loss: 231.7030 - val_loss: 1945.1195\n",
      "Epoch 297/500\n",
      "22/22 [==============================] - 0s 8ms/step - loss: 231.7037 - val_loss: 1945.1329\n",
      "Epoch 298/500\n",
      "22/22 [==============================] - 0s 8ms/step - loss: 231.7042 - val_loss: 1945.1456\n",
      "Epoch 299/500\n",
      "22/22 [==============================] - 0s 7ms/step - loss: 231.7048 - val_loss: 1945.1570\n",
      "Epoch 300/500\n",
      "22/22 [==============================] - 0s 9ms/step - loss: 231.7054 - val_loss: 1945.1686\n",
      "Epoch 301/500\n",
      "22/22 [==============================] - 0s 9ms/step - loss: 231.7060 - val_loss: 1945.1791\n",
      "Epoch 302/500\n",
      "22/22 [==============================] - 0s 8ms/step - loss: 231.7066 - val_loss: 1945.1888\n",
      "Epoch 303/500\n",
      "22/22 [==============================] - 0s 7ms/step - loss: 231.7071 - val_loss: 1945.1981\n",
      "Epoch 304/500\n",
      "22/22 [==============================] - 0s 7ms/step - loss: 231.7076 - val_loss: 1945.2063\n",
      "Epoch 305/500\n",
      "22/22 [==============================] - 0s 6ms/step - loss: 231.7081 - val_loss: 1945.2136\n",
      "Epoch 306/500\n",
      "22/22 [==============================] - 0s 7ms/step - loss: 231.7086 - val_loss: 1945.2201\n",
      "Epoch 307/500\n",
      "22/22 [==============================] - 0s 6ms/step - loss: 231.7092 - val_loss: 1945.2261\n",
      "Epoch 308/500\n",
      "22/22 [==============================] - 0s 6ms/step - loss: 231.7097 - val_loss: 1945.2325\n",
      "Epoch 309/500\n",
      "22/22 [==============================] - 0s 6ms/step - loss: 231.7102 - val_loss: 1945.2380\n",
      "Epoch 310/500\n",
      "22/22 [==============================] - 0s 6ms/step - loss: 231.7107 - val_loss: 1945.2427\n",
      "Epoch 311/500\n",
      "22/22 [==============================] - 0s 6ms/step - loss: 231.7112 - val_loss: 1945.2478\n",
      "Epoch 312/500\n",
      "22/22 [==============================] - 0s 5ms/step - loss: 231.7117 - val_loss: 1945.2513\n",
      "Epoch 313/500\n",
      "22/22 [==============================] - 0s 7ms/step - loss: 231.7122 - val_loss: 1945.2554\n",
      "Epoch 314/500\n",
      "22/22 [==============================] - 0s 6ms/step - loss: 231.7126 - val_loss: 1945.2588\n",
      "Epoch 315/500\n",
      "22/22 [==============================] - 0s 7ms/step - loss: 231.7131 - val_loss: 1945.2627\n",
      "Epoch 316/500\n",
      "22/22 [==============================] - 0s 6ms/step - loss: 231.7135 - val_loss: 1945.2646\n",
      "Epoch 317/500\n",
      "22/22 [==============================] - 0s 16ms/step - loss: 231.7140 - val_loss: 1945.2677\n",
      "Epoch 318/500\n",
      "22/22 [==============================] - 0s 9ms/step - loss: 231.7144 - val_loss: 1945.2706\n",
      "Epoch 319/500\n",
      "22/22 [==============================] - 0s 7ms/step - loss: 231.7149 - val_loss: 1945.2728\n",
      "Epoch 320/500\n",
      "22/22 [==============================] - 0s 7ms/step - loss: 231.7153 - val_loss: 1945.2743\n",
      "Epoch 321/500\n",
      "22/22 [==============================] - 0s 6ms/step - loss: 231.7157 - val_loss: 1945.2761\n",
      "Epoch 322/500\n",
      "22/22 [==============================] - 0s 9ms/step - loss: 231.7162 - val_loss: 1945.2784\n",
      "Epoch 323/500\n",
      "22/22 [==============================] - 0s 7ms/step - loss: 231.7165 - val_loss: 1945.2798\n",
      "Epoch 324/500\n",
      "22/22 [==============================] - 0s 7ms/step - loss: 231.7170 - val_loss: 1945.2805\n",
      "Epoch 325/500\n",
      "22/22 [==============================] - 0s 7ms/step - loss: 231.7174 - val_loss: 1945.2823\n",
      "Epoch 326/500\n",
      "22/22 [==============================] - 0s 6ms/step - loss: 231.7177 - val_loss: 1945.2831\n",
      "Epoch 327/500\n",
      "22/22 [==============================] - 0s 6ms/step - loss: 231.7181 - val_loss: 1945.2838\n",
      "Epoch 328/500\n",
      "22/22 [==============================] - 0s 5ms/step - loss: 231.7185 - val_loss: 1945.2853\n",
      "Epoch 329/500\n",
      "22/22 [==============================] - 0s 6ms/step - loss: 231.7188 - val_loss: 1945.2856\n",
      "Epoch 330/500\n",
      "22/22 [==============================] - 0s 6ms/step - loss: 231.7192 - val_loss: 1945.2866\n",
      "Epoch 331/500\n",
      "22/22 [==============================] - 0s 8ms/step - loss: 231.7196 - val_loss: 1945.2874\n",
      "Epoch 332/500\n",
      "22/22 [==============================] - 0s 7ms/step - loss: 231.7199 - val_loss: 1945.2878\n",
      "Epoch 333/500\n",
      "22/22 [==============================] - 0s 6ms/step - loss: 231.7203 - val_loss: 1945.2885\n",
      "Epoch 334/500\n",
      "22/22 [==============================] - 0s 6ms/step - loss: 231.7206 - val_loss: 1945.2885\n",
      "Epoch 335/500\n",
      "22/22 [==============================] - 0s 6ms/step - loss: 231.7209 - val_loss: 1945.2888\n",
      "Epoch 336/500\n",
      "22/22 [==============================] - 0s 6ms/step - loss: 231.7212 - val_loss: 1945.2888\n",
      "Epoch 337/500\n",
      "22/22 [==============================] - 0s 7ms/step - loss: 231.7216 - val_loss: 1945.2888\n",
      "Epoch 338/500\n",
      "22/22 [==============================] - 0s 15ms/step - loss: 231.7218 - val_loss: 1945.2889\n",
      "Epoch 339/500\n",
      "22/22 [==============================] - 0s 15ms/step - loss: 231.7221 - val_loss: 1945.2893\n",
      "Epoch 340/500\n",
      "22/22 [==============================] - 0s 9ms/step - loss: 231.7225 - val_loss: 1945.2896\n",
      "Epoch 341/500\n",
      "22/22 [==============================] - 0s 8ms/step - loss: 231.7228 - val_loss: 1945.2896\n",
      "Epoch 342/500\n",
      "22/22 [==============================] - 0s 9ms/step - loss: 231.7231 - val_loss: 1945.2897\n",
      "Epoch 343/500\n",
      "22/22 [==============================] - 0s 10ms/step - loss: 231.7233 - val_loss: 1945.2897\n",
      "Epoch 344/500\n",
      "22/22 [==============================] - 0s 8ms/step - loss: 231.7237 - val_loss: 1945.2903\n",
      "Epoch 345/500\n",
      "22/22 [==============================] - 0s 7ms/step - loss: 231.7239 - val_loss: 1945.2903\n",
      "Epoch 346/500\n",
      "22/22 [==============================] - 0s 8ms/step - loss: 231.7242 - val_loss: 1945.2896\n",
      "Epoch 347/500\n",
      "22/22 [==============================] - 0s 11ms/step - loss: 231.7244 - val_loss: 1945.2896\n",
      "Epoch 348/500\n",
      "22/22 [==============================] - 0s 7ms/step - loss: 231.7246 - val_loss: 1945.2889\n",
      "Epoch 349/500\n",
      "22/22 [==============================] - 0s 6ms/step - loss: 231.7249 - val_loss: 1945.2882\n",
      "Epoch 350/500\n",
      "22/22 [==============================] - 0s 7ms/step - loss: 231.7252 - val_loss: 1945.2882\n",
      "Epoch 351/500\n",
      "22/22 [==============================] - 0s 7ms/step - loss: 231.7254 - val_loss: 1945.2875\n",
      "Epoch 352/500\n",
      "22/22 [==============================] - 0s 6ms/step - loss: 231.7257 - val_loss: 1945.2885\n",
      "Epoch 353/500\n",
      "22/22 [==============================] - 0s 6ms/step - loss: 231.7260 - val_loss: 1945.2882\n",
      "Epoch 354/500\n",
      "22/22 [==============================] - 0s 6ms/step - loss: 231.7261 - val_loss: 1945.2882\n",
      "Epoch 355/500\n",
      "22/22 [==============================] - 0s 7ms/step - loss: 231.7263 - val_loss: 1945.2878\n",
      "Epoch 356/500\n",
      "22/22 [==============================] - 0s 6ms/step - loss: 231.7266 - val_loss: 1945.2877\n",
      "Epoch 357/500\n",
      "22/22 [==============================] - 0s 7ms/step - loss: 231.7268 - val_loss: 1945.2877\n",
      "Epoch 358/500\n",
      "22/22 [==============================] - 0s 6ms/step - loss: 231.7270 - val_loss: 1945.2874\n",
      "Epoch 359/500\n",
      "22/22 [==============================] - 0s 7ms/step - loss: 231.7272 - val_loss: 1945.2875\n",
      "Epoch 360/500\n",
      "22/22 [==============================] - 0s 6ms/step - loss: 231.7273 - val_loss: 1945.2870\n",
      "Epoch 361/500\n",
      "22/22 [==============================] - 0s 15ms/step - loss: 231.7275 - val_loss: 1945.2856\n",
      "Epoch 362/500\n",
      "22/22 [==============================] - 0s 8ms/step - loss: 231.7278 - val_loss: 1945.2848\n",
      "Epoch 363/500\n",
      "22/22 [==============================] - 0s 9ms/step - loss: 231.7281 - val_loss: 1945.2849\n",
      "Epoch 364/500\n",
      "22/22 [==============================] - 0s 10ms/step - loss: 231.7282 - val_loss: 1945.2853\n",
      "Epoch 365/500\n",
      "22/22 [==============================] - 0s 8ms/step - loss: 231.7284 - val_loss: 1945.2856\n",
      "Epoch 366/500\n",
      "22/22 [==============================] - 0s 6ms/step - loss: 231.7286 - val_loss: 1945.2853\n",
      "Epoch 367/500\n",
      "22/22 [==============================] - 0s 6ms/step - loss: 231.7287 - val_loss: 1945.2852\n",
      "Epoch 368/500\n",
      "22/22 [==============================] - 0s 6ms/step - loss: 231.7289 - val_loss: 1945.2855\n",
      "Epoch 369/500\n",
      "22/22 [==============================] - 0s 7ms/step - loss: 231.7291 - val_loss: 1945.2855\n",
      "Epoch 370/500\n",
      "22/22 [==============================] - 0s 6ms/step - loss: 231.7292 - val_loss: 1945.2852\n",
      "Epoch 371/500\n",
      "22/22 [==============================] - 0s 6ms/step - loss: 231.7294 - val_loss: 1945.2856\n",
      "Epoch 372/500\n",
      "22/22 [==============================] - 0s 7ms/step - loss: 231.7295 - val_loss: 1945.2859\n",
      "Epoch 373/500\n",
      "22/22 [==============================] - 0s 6ms/step - loss: 231.7297 - val_loss: 1945.2859\n",
      "Epoch 374/500\n",
      "22/22 [==============================] - 0s 7ms/step - loss: 231.7299 - val_loss: 1945.2864\n",
      "Epoch 375/500\n",
      "22/22 [==============================] - 0s 6ms/step - loss: 231.7300 - val_loss: 1945.2864\n",
      "Epoch 376/500\n",
      "22/22 [==============================] - 0s 7ms/step - loss: 231.7302 - val_loss: 1945.2870\n",
      "Epoch 377/500\n",
      "22/22 [==============================] - 0s 6ms/step - loss: 231.7304 - val_loss: 1945.2874\n",
      "Epoch 378/500\n",
      "22/22 [==============================] - 0s 6ms/step - loss: 231.7305 - val_loss: 1945.2878\n",
      "Epoch 379/500\n",
      "22/22 [==============================] - 0s 7ms/step - loss: 231.7306 - val_loss: 1945.2886\n",
      "Epoch 380/500\n",
      "22/22 [==============================] - 0s 6ms/step - loss: 231.7308 - val_loss: 1945.2903\n",
      "Epoch 381/500\n",
      "22/22 [==============================] - 0s 7ms/step - loss: 231.7310 - val_loss: 1945.2921\n",
      "Epoch 382/500\n",
      "22/22 [==============================] - 0s 6ms/step - loss: 231.7310 - val_loss: 1945.2926\n",
      "Epoch 383/500\n",
      "22/22 [==============================] - 0s 16ms/step - loss: 231.7312 - val_loss: 1945.2943\n",
      "Epoch 384/500\n",
      "22/22 [==============================] - 0s 7ms/step - loss: 231.7313 - val_loss: 1945.2947\n",
      "Epoch 385/500\n",
      "22/22 [==============================] - 0s 7ms/step - loss: 231.7314 - val_loss: 1945.2965\n",
      "Epoch 386/500\n",
      "22/22 [==============================] - 0s 6ms/step - loss: 231.7316 - val_loss: 1945.2986\n",
      "Epoch 387/500\n",
      "22/22 [==============================] - 0s 6ms/step - loss: 231.7316 - val_loss: 1945.3005\n",
      "Epoch 388/500\n",
      "22/22 [==============================] - 0s 6ms/step - loss: 231.7317 - val_loss: 1945.3030\n",
      "Epoch 389/500\n",
      "22/22 [==============================] - 0s 6ms/step - loss: 231.7318 - val_loss: 1945.3063\n",
      "Epoch 390/500\n",
      "22/22 [==============================] - 0s 6ms/step - loss: 231.7319 - val_loss: 1945.3104\n",
      "Epoch 391/500\n",
      "22/22 [==============================] - 0s 7ms/step - loss: 231.7321 - val_loss: 1945.3158\n",
      "Epoch 392/500\n",
      "22/22 [==============================] - 0s 6ms/step - loss: 231.7321 - val_loss: 1945.3235\n",
      "Epoch 393/500\n",
      "22/22 [==============================] - 0s 6ms/step - loss: 231.7323 - val_loss: 1945.3346\n",
      "Epoch 394/500\n",
      "22/22 [==============================] - 0s 7ms/step - loss: 231.7323 - val_loss: 1945.6191\n",
      "Epoch 395/500\n",
      "22/22 [==============================] - 0s 6ms/step - loss: 231.7327 - val_loss: 1945.2522\n",
      "Epoch 396/500\n",
      "22/22 [==============================] - 0s 7ms/step - loss: 231.7326 - val_loss: 1945.2522\n",
      "Epoch 397/500\n",
      "22/22 [==============================] - 0s 6ms/step - loss: 231.7327 - val_loss: 1945.2526\n",
      "Epoch 398/500\n",
      "22/22 [==============================] - 0s 6ms/step - loss: 231.7327 - val_loss: 1945.2521\n",
      "Epoch 399/500\n",
      "22/22 [==============================] - 0s 6ms/step - loss: 231.7328 - val_loss: 1945.2510\n",
      "Epoch 400/500\n",
      "22/22 [==============================] - 0s 9ms/step - loss: 231.7330 - val_loss: 1945.2511\n",
      "Epoch 401/500\n",
      "22/22 [==============================] - 0s 7ms/step - loss: 231.7330 - val_loss: 1945.2506\n",
      "Epoch 402/500\n",
      "22/22 [==============================] - 0s 6ms/step - loss: 231.7332 - val_loss: 1945.2500\n",
      "Epoch 403/500\n",
      "22/22 [==============================] - 0s 7ms/step - loss: 231.7332 - val_loss: 1945.2504\n",
      "Epoch 404/500\n",
      "22/22 [==============================] - 0s 22ms/step - loss: 231.7334 - val_loss: 1945.2500\n",
      "Epoch 405/500\n",
      "22/22 [==============================] - 0s 10ms/step - loss: 231.7334 - val_loss: 1945.2498\n",
      "Epoch 406/500\n",
      "22/22 [==============================] - 0s 7ms/step - loss: 231.7334 - val_loss: 1945.2493\n",
      "Epoch 407/500\n",
      "22/22 [==============================] - 0s 8ms/step - loss: 231.7336 - val_loss: 1945.2490\n",
      "Epoch 408/500\n",
      "22/22 [==============================] - 0s 7ms/step - loss: 231.7336 - val_loss: 1945.2498\n",
      "Epoch 409/500\n",
      "22/22 [==============================] - 0s 6ms/step - loss: 231.7337 - val_loss: 1945.2500\n",
      "Epoch 410/500\n",
      "22/22 [==============================] - 0s 6ms/step - loss: 231.7338 - val_loss: 1945.2500\n",
      "Epoch 411/500\n",
      "22/22 [==============================] - 0s 6ms/step - loss: 231.7338 - val_loss: 1945.2500\n",
      "Epoch 412/500\n",
      "22/22 [==============================] - 0s 7ms/step - loss: 231.7339 - val_loss: 1945.2490\n",
      "Epoch 413/500\n",
      "22/22 [==============================] - 0s 7ms/step - loss: 231.7340 - val_loss: 1945.2487\n",
      "Epoch 414/500\n",
      "22/22 [==============================] - 0s 7ms/step - loss: 231.7341 - val_loss: 1945.2483\n",
      "Epoch 415/500\n",
      "22/22 [==============================] - 0s 7ms/step - loss: 231.7342 - val_loss: 1945.2483\n",
      "Epoch 416/500\n",
      "22/22 [==============================] - 0s 7ms/step - loss: 231.7342 - val_loss: 1945.2482\n",
      "Epoch 417/500\n",
      "22/22 [==============================] - 0s 8ms/step - loss: 231.7342 - val_loss: 1945.2471\n",
      "Epoch 418/500\n",
      "22/22 [==============================] - 0s 8ms/step - loss: 231.7342 - val_loss: 1945.2463\n",
      "Epoch 419/500\n",
      "22/22 [==============================] - 0s 7ms/step - loss: 231.7343 - val_loss: 1945.2463\n",
      "Epoch 420/500\n",
      "22/22 [==============================] - 0s 7ms/step - loss: 231.7344 - val_loss: 1945.2467\n",
      "Epoch 421/500\n",
      "22/22 [==============================] - 0s 8ms/step - loss: 231.7345 - val_loss: 1945.2467\n",
      "Epoch 422/500\n",
      "22/22 [==============================] - 0s 7ms/step - loss: 231.7346 - val_loss: 1945.2468\n",
      "Epoch 423/500\n",
      "22/22 [==============================] - 0s 15ms/step - loss: 231.7346 - val_loss: 1945.2471\n",
      "Epoch 424/500\n",
      "22/22 [==============================] - 0s 8ms/step - loss: 231.7346 - val_loss: 1945.2474\n",
      "Epoch 425/500\n",
      "22/22 [==============================] - 0s 7ms/step - loss: 231.7347 - val_loss: 1945.2474\n",
      "Epoch 426/500\n",
      "22/22 [==============================] - 0s 6ms/step - loss: 231.7347 - val_loss: 1945.2471\n",
      "Epoch 427/500\n",
      "22/22 [==============================] - 0s 6ms/step - loss: 231.7348 - val_loss: 1945.2471\n",
      "Epoch 428/500\n",
      "22/22 [==============================] - 0s 7ms/step - loss: 231.7349 - val_loss: 1945.2474\n",
      "Epoch 429/500\n",
      "22/22 [==============================] - 0s 6ms/step - loss: 231.7349 - val_loss: 1945.2474\n",
      "Epoch 430/500\n",
      "22/22 [==============================] - 0s 8ms/step - loss: 231.7349 - val_loss: 1945.2471\n",
      "Epoch 431/500\n",
      "22/22 [==============================] - 0s 7ms/step - loss: 231.7350 - val_loss: 1945.2465\n",
      "Epoch 432/500\n",
      "22/22 [==============================] - 0s 8ms/step - loss: 231.7350 - val_loss: 1945.2456\n",
      "Epoch 433/500\n",
      "22/22 [==============================] - 0s 7ms/step - loss: 231.7350 - val_loss: 1945.2452\n",
      "Epoch 434/500\n",
      "22/22 [==============================] - 0s 7ms/step - loss: 231.7351 - val_loss: 1945.2460\n",
      "Epoch 435/500\n",
      "22/22 [==============================] - 0s 8ms/step - loss: 231.7352 - val_loss: 1945.2463\n",
      "Epoch 436/500\n",
      "22/22 [==============================] - 0s 7ms/step - loss: 231.7353 - val_loss: 1945.2467\n",
      "Epoch 437/500\n",
      "22/22 [==============================] - 0s 7ms/step - loss: 231.7353 - val_loss: 1945.2472\n",
      "Epoch 438/500\n",
      "22/22 [==============================] - 0s 9ms/step - loss: 231.7353 - val_loss: 1945.2474\n",
      "Epoch 439/500\n",
      "22/22 [==============================] - 0s 9ms/step - loss: 231.7352 - val_loss: 1945.2468\n",
      "Epoch 440/500\n",
      "22/22 [==============================] - 0s 9ms/step - loss: 231.7353 - val_loss: 1945.2460\n",
      "Epoch 441/500\n",
      "22/22 [==============================] - 0s 7ms/step - loss: 231.7353 - val_loss: 1945.2445\n",
      "Epoch 442/500\n",
      "22/22 [==============================] - 0s 15ms/step - loss: 231.7354 - val_loss: 1945.2434\n",
      "Epoch 443/500\n",
      "22/22 [==============================] - 0s 8ms/step - loss: 231.7354 - val_loss: 1945.2430\n",
      "Epoch 444/500\n",
      "22/22 [==============================] - 0s 10ms/step - loss: 231.7355 - val_loss: 1945.2430\n",
      "Epoch 445/500\n",
      "22/22 [==============================] - 0s 8ms/step - loss: 231.7355 - val_loss: 1945.2427\n",
      "Epoch 446/500\n",
      "22/22 [==============================] - 0s 9ms/step - loss: 231.7356 - val_loss: 1945.2427\n",
      "Epoch 447/500\n",
      "22/22 [==============================] - 0s 7ms/step - loss: 231.7356 - val_loss: 1945.2427\n",
      "Epoch 448/500\n",
      "22/22 [==============================] - 0s 7ms/step - loss: 231.7356 - val_loss: 1945.2423\n",
      "Epoch 449/500\n",
      "22/22 [==============================] - 0s 7ms/step - loss: 231.7356 - val_loss: 1945.2419\n",
      "Epoch 450/500\n",
      "22/22 [==============================] - 0s 6ms/step - loss: 231.7356 - val_loss: 1945.2410\n",
      "Epoch 451/500\n",
      "22/22 [==============================] - 0s 6ms/step - loss: 231.7357 - val_loss: 1945.2408\n",
      "Epoch 452/500\n",
      "22/22 [==============================] - 0s 6ms/step - loss: 231.7357 - val_loss: 1945.2408\n",
      "Epoch 453/500\n",
      "22/22 [==============================] - 0s 7ms/step - loss: 231.7357 - val_loss: 1945.2416\n",
      "Epoch 454/500\n",
      "22/22 [==============================] - 0s 6ms/step - loss: 231.7358 - val_loss: 1945.2416\n",
      "Epoch 455/500\n",
      "22/22 [==============================] - 0s 6ms/step - loss: 231.7358 - val_loss: 1945.2417\n",
      "Epoch 456/500\n",
      "22/22 [==============================] - 0s 6ms/step - loss: 231.7359 - val_loss: 1945.2417\n",
      "Epoch 457/500\n",
      "22/22 [==============================] - 0s 6ms/step - loss: 231.7359 - val_loss: 1945.2417\n",
      "Epoch 458/500\n",
      "22/22 [==============================] - 0s 6ms/step - loss: 231.7360 - val_loss: 1945.2417\n",
      "Epoch 459/500\n",
      "22/22 [==============================] - 0s 7ms/step - loss: 231.7359 - val_loss: 1945.2417\n",
      "Epoch 460/500\n",
      "22/22 [==============================] - 0s 6ms/step - loss: 231.7359 - val_loss: 1945.2412\n",
      "Epoch 461/500\n",
      "22/22 [==============================] - 0s 6ms/step - loss: 231.7359 - val_loss: 1945.2406\n",
      "Epoch 462/500\n",
      "22/22 [==============================] - 0s 13ms/step - loss: 231.7360 - val_loss: 1945.2406\n",
      "Epoch 463/500\n",
      "22/22 [==============================] - 0s 6ms/step - loss: 231.7360 - val_loss: 1945.2406\n",
      "Epoch 464/500\n",
      "22/22 [==============================] - 0s 11ms/step - loss: 231.7361 - val_loss: 1945.2408\n",
      "Epoch 465/500\n",
      "22/22 [==============================] - 0s 10ms/step - loss: 231.7361 - val_loss: 1945.2408\n",
      "Epoch 466/500\n",
      "22/22 [==============================] - 0s 9ms/step - loss: 231.7362 - val_loss: 1945.2413\n",
      "Epoch 467/500\n",
      "22/22 [==============================] - 0s 7ms/step - loss: 231.7362 - val_loss: 1945.2421\n",
      "Epoch 468/500\n",
      "22/22 [==============================] - 0s 6ms/step - loss: 231.7363 - val_loss: 1945.2434\n",
      "Epoch 469/500\n",
      "22/22 [==============================] - 0s 6ms/step - loss: 231.7363 - val_loss: 1945.2446\n",
      "Epoch 470/500\n",
      "22/22 [==============================] - 0s 6ms/step - loss: 231.7363 - val_loss: 1945.2446\n",
      "Epoch 471/500\n",
      "22/22 [==============================] - 0s 6ms/step - loss: 231.7362 - val_loss: 1945.2441\n",
      "Epoch 472/500\n",
      "22/22 [==============================] - 0s 6ms/step - loss: 231.7363 - val_loss: 1945.2438\n",
      "Epoch 473/500\n",
      "22/22 [==============================] - 0s 7ms/step - loss: 231.7363 - val_loss: 1945.2438\n",
      "Epoch 474/500\n",
      "22/22 [==============================] - 0s 6ms/step - loss: 231.7363 - val_loss: 1945.2438\n",
      "Epoch 475/500\n",
      "22/22 [==============================] - 0s 7ms/step - loss: 231.7363 - val_loss: 1945.2428\n",
      "Epoch 476/500\n",
      "22/22 [==============================] - 0s 6ms/step - loss: 231.7363 - val_loss: 1945.2423\n",
      "Epoch 477/500\n",
      "22/22 [==============================] - 0s 7ms/step - loss: 231.7362 - val_loss: 1945.2417\n",
      "Epoch 478/500\n",
      "22/22 [==============================] - 0s 7ms/step - loss: 231.7363 - val_loss: 1945.2412\n",
      "Epoch 479/500\n",
      "22/22 [==============================] - 0s 6ms/step - loss: 231.7363 - val_loss: 1945.2406\n",
      "Epoch 480/500\n",
      "22/22 [==============================] - 0s 7ms/step - loss: 231.7364 - val_loss: 1945.2405\n",
      "Epoch 481/500\n",
      "22/22 [==============================] - 0s 6ms/step - loss: 231.7364 - val_loss: 1945.2405\n",
      "Epoch 482/500\n",
      "22/22 [==============================] - 0s 13ms/step - loss: 231.7364 - val_loss: 1945.2410\n",
      "Epoch 483/500\n",
      "22/22 [==============================] - 0s 8ms/step - loss: 231.7364 - val_loss: 1945.2413\n",
      "Epoch 484/500\n",
      "22/22 [==============================] - 0s 7ms/step - loss: 231.7365 - val_loss: 1945.2416\n",
      "Epoch 485/500\n",
      "22/22 [==============================] - 0s 7ms/step - loss: 231.7365 - val_loss: 1945.2424\n",
      "Epoch 486/500\n",
      "22/22 [==============================] - 0s 7ms/step - loss: 231.7365 - val_loss: 1945.2424\n",
      "Epoch 487/500\n",
      "22/22 [==============================] - 0s 6ms/step - loss: 231.7366 - val_loss: 1945.2427\n",
      "Epoch 488/500\n",
      "22/22 [==============================] - 0s 6ms/step - loss: 231.7366 - val_loss: 1945.2424\n",
      "Epoch 489/500\n",
      "22/22 [==============================] - 0s 5ms/step - loss: 231.7366 - val_loss: 1945.2427\n",
      "Epoch 490/500\n",
      "22/22 [==============================] - 0s 6ms/step - loss: 231.7366 - val_loss: 1945.2421\n",
      "Epoch 491/500\n",
      "22/22 [==============================] - 0s 6ms/step - loss: 231.7365 - val_loss: 1945.2416\n",
      "Epoch 492/500\n",
      "22/22 [==============================] - 0s 6ms/step - loss: 231.7365 - val_loss: 1945.2410\n",
      "Epoch 493/500\n",
      "22/22 [==============================] - 0s 5ms/step - loss: 231.7365 - val_loss: 1945.2408\n",
      "Epoch 494/500\n",
      "22/22 [==============================] - 0s 6ms/step - loss: 231.7365 - val_loss: 1945.2412\n",
      "Epoch 495/500\n",
      "22/22 [==============================] - 0s 6ms/step - loss: 231.7365 - val_loss: 1945.2412\n",
      "Epoch 496/500\n",
      "22/22 [==============================] - 0s 7ms/step - loss: 231.7365 - val_loss: 1945.2408\n",
      "Epoch 497/500\n",
      "22/22 [==============================] - 0s 6ms/step - loss: 231.7366 - val_loss: 1945.2405\n",
      "Epoch 498/500\n",
      "22/22 [==============================] - 0s 6ms/step - loss: 231.7366 - val_loss: 1945.2401\n",
      "Epoch 499/500\n",
      "22/22 [==============================] - 0s 6ms/step - loss: 231.7366 - val_loss: 1945.2399\n",
      "Epoch 500/500\n",
      "22/22 [==============================] - 0s 6ms/step - loss: 231.7366 - val_loss: 1945.2397\n"
     ]
    }
   ],
   "source": [
    "C0 = tf.Variable(86.6856, name=\"C0\", trainable=True, dtype=tf.float32)\n",
    "K0 = tf.Variable(-0.0008, name=\"K0\", trainable=True, dtype=tf.float32)\n",
    "K1 = tf.Variable(-0.0002, name=\"K1\", trainable=True, dtype=tf.float32)\n",
    "a = tf.Variable(0.0000, name=\"a\", trainable=True, dtype=tf.float32)\n",
    "b = tf.Variable(0.0128, name=\"b\", trainable=True, dtype=tf.float32)\n",
    "c = tf.Variable(-2.3003, name=\"c\", trainable=True, dtype=tf.float32)\n",
    "\n",
    "splitr = 0.8\n",
    "\n",
    "\n",
    "def loss_fn(y_true, y_pred):\n",
    "    squared_difference = tf.square(y_true[:, 0] - y_pred[:, 0])\n",
    "    #squared_difference2 = tf.square(y_true[:, 2]-y_pred[:, 2])\n",
    "    #squared_difference1 = tf.square(y_true[:, 1]-y_pred[:, 1])\n",
    "    epsilon = 1\n",
    "    squared_difference3 = tf.square(\n",
    "        y_pred[:, 1] - (\n",
    "            y_pred[:, 0] * (\n",
    "                K0 - K1 * (\n",
    "                    9 * a * tf.math.log((y_pred[:, 0] + epsilon) / C0) / (K0 - K1 * c)**2 +\n",
    "                    4 * b * tf.math.log((y_pred[:, 0] + epsilon) / C0) / (K0 - K1 * c) + c\n",
    "                )\n",
    "            )\n",
    "        )\n",
    "    )\n",
    "    return tf.reduce_mean(squared_difference, axis=-1) + 0.2*tf.reduce_mean(squared_difference3, axis=-1)\n",
    "model = Sequential()\n",
    "model.add(LSTM(100, input_shape=(trainX.shape[1], trainX.shape[2])))\n",
    "model.add(Dense(60))\n",
    "model.compile(loss=loss_fn, optimizer='adam')\n",
    "history = model.fit(trainX[:int(splitr*trainX.shape[0])], trainy[:int(splitr*trainX.shape[0])], epochs=500, batch_size=64, validation_data=(trainX[int(splitr*trainX.shape[0]):trainX.shape[0]], trainy[int(splitr*trainX.shape[0]):trainX.shape[0]]), shuffle=False)"
   ]
  },
  {
   "cell_type": "code",
   "execution_count": 19,
   "metadata": {
    "colab": {
     "base_uri": "https://localhost:8080/"
    },
    "id": "yJL101rPyuoT",
    "outputId": "239ff2b1-c186-423a-d316-939dfdd7c793"
   },
   "outputs": [
    {
     "name": "stdout",
     "output_type": "stream",
     "text": [
      "1/1 [==============================] - 0s 486ms/step\n"
     ]
    }
   ],
   "source": [
    "forecast_without_mc = forecastX\n",
    "yhat_without_mc = model.predict(forecast_without_mc) # Step Ahead Prediction\n",
    "forecast_without_mc = forecast_without_mc.reshape((forecast_without_mc.shape[0], forecast_without_mc.shape[2])) # Historical Input"
   ]
  },
  {
   "cell_type": "code",
   "execution_count": 20,
   "metadata": {
    "colab": {
     "base_uri": "https://localhost:8080/"
    },
    "id": "g9dQELcJ8wbp",
    "outputId": "4dc7671b-b1a8-48d5-8744-a86f98446109"
   },
   "outputs": [
    {
     "data": {
      "text/plain": [
       "(1, 1, 251)"
      ]
     },
     "execution_count": 20,
     "metadata": {},
     "output_type": "execute_result"
    }
   ],
   "source": [
    "forecastX.shape"
   ]
  },
  {
   "cell_type": "code",
   "execution_count": 21,
   "metadata": {
    "colab": {
     "base_uri": "https://localhost:8080/"
    },
    "id": "IS2kyIKG1Kbr",
    "outputId": "f31b3485-8e26-452f-9298-ea8bf7e80ad1"
   },
   "outputs": [
    {
     "data": {
      "text/plain": [
       "(1, 251)"
      ]
     },
     "execution_count": 21,
     "metadata": {},
     "output_type": "execute_result"
    }
   ],
   "source": [
    "forecast_without_mc.shape"
   ]
  },
  {
   "cell_type": "code",
   "execution_count": 22,
   "metadata": {
    "id": "0u6VIzaDyuoT"
   },
   "outputs": [],
   "source": [
    "inv_yhat_without_mc = np.concatenate((forecast_without_mc, yhat_without_mc), axis=1) # Concatenation of predicted values with Historical Data\n",
    "#inv_yhat_without_mc = scaler.inverse_transform(inv_yhat_without_mc) # Transform labels back to original encoding"
   ]
  },
  {
   "cell_type": "code",
   "execution_count": 23,
   "metadata": {
    "colab": {
     "base_uri": "https://localhost:8080/"
    },
    "id": "EUEcw0LX07oU",
    "outputId": "cfc32397-9c37-4b43-d087-584bb31c3dcc"
   },
   "outputs": [
    {
     "data": {
      "text/plain": [
       "(1, 311)"
      ]
     },
     "execution_count": 23,
     "metadata": {},
     "output_type": "execute_result"
    }
   ],
   "source": [
    "inv_yhat_without_mc.shape"
   ]
  },
  {
   "cell_type": "code",
   "execution_count": 24,
   "metadata": {
    "id": "31OWVbSh_305"
   },
   "outputs": [],
   "source": [
    "fforecast = inv_yhat_without_mc[:,-300:]"
   ]
  },
  {
   "cell_type": "code",
   "execution_count": 25,
   "metadata": {},
   "outputs": [
    {
     "data": {
      "text/plain": [
       "(1, 300)"
      ]
     },
     "execution_count": 25,
     "metadata": {},
     "output_type": "execute_result"
    }
   ],
   "source": [
    "fforecast.shape"
   ]
  },
  {
   "cell_type": "code",
   "execution_count": 26,
   "metadata": {
    "id": "BlpGH2FOAiRF"
   },
   "outputs": [],
   "source": [
    "final_forecast = fforecast[:,0:300:3]"
   ]
  },
  {
   "cell_type": "code",
   "execution_count": 27,
   "metadata": {},
   "outputs": [
    {
     "data": {
      "text/plain": [
       "(1, 300)"
      ]
     },
     "execution_count": 27,
     "metadata": {},
     "output_type": "execute_result"
    }
   ],
   "source": [
    "fforecast.shape"
   ]
  },
  {
   "cell_type": "code",
   "execution_count": 28,
   "metadata": {
    "id": "CXkgkj_LBk_t"
   },
   "outputs": [],
   "source": [
    "# code to replace all negative value with 0\n",
    "final_forecast[final_forecast<0] = 0"
   ]
  },
  {
   "cell_type": "code",
   "execution_count": 29,
   "metadata": {},
   "outputs": [
    {
     "data": {
      "text/plain": [
       "array([[7.10205882e+01, 7.06778011e+01, 7.06021709e+01, 7.05265406e+01,\n",
       "        7.62993622e+01, 3.12900250e-01, 2.45064540e-01, 0.00000000e+00,\n",
       "        0.00000000e+00, 4.43458825e-01, 1.37494779e+00, 2.42258270e-02,\n",
       "        4.99962062e-01, 7.18441177e+01, 7.13903361e+01, 7.09365546e+01,\n",
       "        8.59306460e-02, 8.07693124e-01, 7.28637955e+01, 7.24827731e+01,\n",
       "        7.20289916e+01, 7.15752101e+01, 7.11214286e+01, 7.06946078e+01,\n",
       "        7.06189776e+01, 7.05433473e+01, 7.04677171e+01, 5.48075680e-01,\n",
       "        4.64026210e-01, 7.13063025e+01, 7.08525210e+01, 7.06497899e+01,\n",
       "        7.05741597e+01, 7.04985294e+01, 7.04228992e+01, 7.03472689e+01,\n",
       "        7.02716387e+01, 7.01960084e+01, 3.44524920e-01, 0.00000000e+00,\n",
       "        3.46844375e-01, 6.16381407e-01, 0.00000000e+00, 0.00000000e+00,\n",
       "        0.00000000e+00, 0.00000000e+00, 2.07402796e-01, 7.05601541e+01,\n",
       "        7.04845238e+01, 0.00000000e+00, 0.00000000e+00, 7.14071429e+01,\n",
       "        7.09533613e+01, 7.06665966e+01, 7.05909664e+01, 7.05153361e+01,\n",
       "        7.04397059e+01, 7.03640756e+01, 7.02884454e+01, 7.02128151e+01,\n",
       "        8.42299700e-01, 2.30693817e-01, 7.05461485e+01, 7.04705182e+01,\n",
       "        7.03948880e+01, 7.03192577e+01, 7.02436275e+01, 7.42882820e+01,\n",
       "        7.32979692e+01, 7.20962185e+01, 0.00000000e+00, 4.29049370e-01,\n",
       "        0.00000000e+00, 6.88514404e+01, 0.00000000e+00, 0.00000000e+00,\n",
       "        0.00000000e+00, 1.57392964e-01, 0.00000000e+00, 0.00000000e+00,\n",
       "        6.76550064e+01, 1.17278683e+00, 4.43511516e-01, 1.19287379e-01,\n",
       "        0.00000000e+00, 0.00000000e+00, 0.00000000e+00, 3.12735215e-02,\n",
       "        0.00000000e+00, 0.00000000e+00, 4.99144256e-01, 0.00000000e+00,\n",
       "        1.80860594e-01, 2.04088852e-01, 0.00000000e+00, 4.04535353e-01,\n",
       "        5.88283837e-01, 0.00000000e+00, 0.00000000e+00, 0.00000000e+00]])"
      ]
     },
     "execution_count": 29,
     "metadata": {},
     "output_type": "execute_result"
    }
   ],
   "source": [
    "final_forecast"
   ]
  },
  {
   "cell_type": "code",
   "execution_count": 30,
   "metadata": {},
   "outputs": [
    {
     "data": {
      "text/plain": [
       "(1, 100)"
      ]
     },
     "execution_count": 30,
     "metadata": {},
     "output_type": "execute_result"
    }
   ],
   "source": [
    "final_forecast.shape"
   ]
  },
  {
   "cell_type": "code",
   "execution_count": 31,
   "metadata": {},
   "outputs": [
    {
     "data": {
      "text/plain": [
       "(100,)"
      ]
     },
     "execution_count": 31,
     "metadata": {},
     "output_type": "execute_result"
    }
   ],
   "source": [
    "test.shape"
   ]
  },
  {
   "cell_type": "code",
   "execution_count": 32,
   "metadata": {},
   "outputs": [],
   "source": [
    "training_set = np.array(training_set)\n",
    "test = np.array(test)\n",
    "final_forecast = np.array(final_forecast.squeeze(0))"
   ]
  },
  {
   "cell_type": "code",
   "execution_count": 33,
   "metadata": {},
   "outputs": [
    {
     "data": {
      "text/plain": [
       "array([59.29186309, 59.27956548, 59.26726788, 59.25497028, 59.24267268,\n",
       "       59.23037508, 59.21807747, 59.20577987, 59.19348227, 59.18118467,\n",
       "       59.16888707, 59.15658947, 59.14429186, 59.13199426, 59.11969666,\n",
       "       59.10739906, 59.09510146, 59.08280385, 59.07050625, 59.05820865,\n",
       "       59.04591105, 59.03361345, 59.02131584, 59.00901824, 58.99672064,\n",
       "       58.98442304, 58.97212544, 58.95982783, 58.94753023, 58.93523263,\n",
       "       58.92293503, 58.91063743, 58.89833982, 58.88604222, 58.87374462,\n",
       "       58.86144702, 58.84914942, 58.83685181, 58.82455421, 58.81225661,\n",
       "       58.79995901, 58.78766141, 58.7753638 , 58.7630662 , 58.7507686 ,\n",
       "       58.738471  , 58.7261734 , 58.71387579, 58.70157819, 58.68928059,\n",
       "       58.67698299, 58.66468539, 58.65238778, 58.64009018, 58.62779258,\n",
       "       58.61549498, 58.60319738, 58.59089977, 58.57860217, 58.56630457,\n",
       "       58.55400697, 58.54170937, 58.52941176, 58.51711416, 58.50481656,\n",
       "       58.49251896, 58.48022136, 58.46792375, 58.45562615, 58.44332855,\n",
       "       58.43103095, 58.41873335, 58.40643575, 58.39413814, 58.38184054,\n",
       "       58.36954294, 58.35724534, 58.34494774, 58.33265013, 58.32035253,\n",
       "       58.30805493, 58.29575733, 58.28345973, 58.27116212, 58.25886452,\n",
       "       58.24656692, 58.23426932, 58.22197172, 58.20967411, 58.19737651,\n",
       "       58.18507891, 58.17278131, 58.16048371, 58.1481861 , 58.1358885 ,\n",
       "       58.1235909 , 58.1112933 , 58.0989957 , 58.08669809, 58.07440049])"
      ]
     },
     "execution_count": 33,
     "metadata": {},
     "output_type": "execute_result"
    }
   ],
   "source": [
    "test"
   ]
  },
  {
   "cell_type": "code",
   "execution_count": 34,
   "metadata": {},
   "outputs": [
    {
     "data": {
      "text/plain": [
       "(100,)"
      ]
     },
     "execution_count": 34,
     "metadata": {},
     "output_type": "execute_result"
    }
   ],
   "source": [
    "test.shape"
   ]
  },
  {
   "cell_type": "code",
   "execution_count": 35,
   "metadata": {},
   "outputs": [
    {
     "data": {
      "text/plain": [
       "(100,)"
      ]
     },
     "execution_count": 35,
     "metadata": {},
     "output_type": "execute_result"
    }
   ],
   "source": [
    "final_forecast.shape"
   ]
  },
  {
   "cell_type": "code",
   "execution_count": 36,
   "metadata": {},
   "outputs": [
    {
     "data": {
      "text/plain": [
       "(100,)"
      ]
     },
     "execution_count": 36,
     "metadata": {},
     "output_type": "execute_result"
    }
   ],
   "source": [
    "test.shape"
   ]
  },
  {
   "cell_type": "code",
   "execution_count": 37,
   "metadata": {},
   "outputs": [
    {
     "name": "stdout",
     "output_type": "stream",
     "text": [
      "43.29408894749933\n",
      "36.63329019725546\n"
     ]
    }
   ],
   "source": [
    "import math\n",
    "MSE = np.square(np.subtract(np.array(test),np.array(final_forecast))).mean()   \n",
    "rsme = math.sqrt(MSE)\n",
    "print(rsme)  \n",
    "MAE = np.abs(np.subtract(np.array(test),np.array(final_forecast))).mean()   \n",
    "mae = MAE\n",
    "print(mae)"
   ]
  }
 ],
 "metadata": {
  "colab": {
   "provenance": []
  },
  "kernelspec": {
   "display_name": "Python 3",
   "language": "python",
   "name": "python3"
  },
  "language_info": {
   "codemirror_mode": {
    "name": "ipython",
    "version": 3
   },
   "file_extension": ".py",
   "mimetype": "text/x-python",
   "name": "python",
   "nbconvert_exporter": "python",
   "pygments_lexer": "ipython3",
   "version": "3.9.13"
  }
 },
 "nbformat": 4,
 "nbformat_minor": 0
}
