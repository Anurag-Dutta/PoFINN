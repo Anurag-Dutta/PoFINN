{
 "cells": [
  {
   "cell_type": "markdown",
   "metadata": {
    "id": "pCGKeZ2gyuoQ"
   },
   "source": [
    "_Importing Required Libraries_"
   ]
  },
  {
   "cell_type": "code",
   "execution_count": 1,
   "metadata": {
    "colab": {
     "base_uri": "https://localhost:8080/"
    },
    "id": "A-6LN-zXiLcM",
    "outputId": "4de610a4-f8b8-4f49-c6c0-89de299ccedc"
   },
   "outputs": [
    {
     "name": "stdout",
     "output_type": "stream",
     "text": [
      "Requirement already satisfied: hampel in c:\\users\\anurag dutta\\appdata\\local\\packages\\pythonsoftwarefoundation.python.3.9_qbz5n2kfra8p0\\localcache\\local-packages\\python39\\site-packages (0.0.5)\n",
      "Requirement already satisfied: numpy in c:\\users\\anurag dutta\\appdata\\local\\packages\\pythonsoftwarefoundation.python.3.9_qbz5n2kfra8p0\\localcache\\local-packages\\python39\\site-packages (from hampel) (1.26.4)\n",
      "Requirement already satisfied: pandas in c:\\users\\anurag dutta\\appdata\\local\\packages\\pythonsoftwarefoundation.python.3.9_qbz5n2kfra8p0\\localcache\\local-packages\\python39\\site-packages (from hampel) (1.5.2)\n",
      "Requirement already satisfied: python-dateutil>=2.8.1 in c:\\users\\anurag dutta\\appdata\\local\\packages\\pythonsoftwarefoundation.python.3.9_qbz5n2kfra8p0\\localcache\\local-packages\\python39\\site-packages (from pandas->hampel) (2.8.2)\n",
      "Requirement already satisfied: pytz>=2020.1 in c:\\users\\anurag dutta\\appdata\\local\\packages\\pythonsoftwarefoundation.python.3.9_qbz5n2kfra8p0\\localcache\\local-packages\\python39\\site-packages (from pandas->hampel) (2023.3.post1)\n",
      "Requirement already satisfied: six>=1.5 in c:\\users\\anurag dutta\\appdata\\local\\packages\\pythonsoftwarefoundation.python.3.9_qbz5n2kfra8p0\\localcache\\local-packages\\python39\\site-packages (from python-dateutil>=2.8.1->pandas->hampel) (1.16.0)\n",
      "Note: you may need to restart the kernel to use updated packages.\n"
     ]
    },
    {
     "name": "stderr",
     "output_type": "stream",
     "text": [
      "\n",
      "[notice] A new release of pip is available: 24.2 -> 24.3.1\n",
      "[notice] To update, run: C:\\Users\\Anurag Dutta\\AppData\\Local\\Microsoft\\WindowsApps\\PythonSoftwareFoundation.Python.3.9_qbz5n2kfra8p0\\python.exe -m pip install --upgrade pip\n"
     ]
    }
   ],
   "source": [
    "pip install hampel"
   ]
  },
  {
   "cell_type": "code",
   "execution_count": 2,
   "metadata": {
    "id": "By_d9uXpaFvZ"
   },
   "outputs": [],
   "source": [
    "from keras.models import Sequential\n",
    "from keras.layers import Dense\n",
    "from keras.layers import LSTM\n",
    "from keras.layers import Dropout\n",
    "import keras\n",
    "import tensorflow as tf\n",
    "from hampel import hampel\n",
    "import numpy as np\n",
    "import matplotlib.pyplot as plt\n",
    "import pandas as pd\n",
    "from sklearn.preprocessing import MinMaxScaler\n",
    "from sklearn.metrics import mean_squared_error, mean_absolute_error\n",
    "from math import sqrt\n",
    "from matplotlib import pyplot\n",
    "from numpy import array"
   ]
  },
  {
   "cell_type": "markdown",
   "metadata": {
    "id": "JyOjBMFayuoR"
   },
   "source": [
    "## Pretraining"
   ]
  },
  {
   "cell_type": "markdown",
   "metadata": {
    "id": "-5QqIY_GyuoR"
   },
   "source": [
    "The `capa_intermittency.dat` feeds the model with the dynamics of the Capacitor"
   ]
  },
  {
   "cell_type": "code",
   "execution_count": 3,
   "metadata": {
    "id": "9dV4a8yfyuoR"
   },
   "outputs": [],
   "source": [
    "data = np.genfromtxt('capa_intermittency.dat')\n",
    "training_set = pd.DataFrame(data).reset_index(drop=True)\n",
    "training_set = training_set.iloc[:,0]"
   ]
  },
  {
   "cell_type": "markdown",
   "metadata": {
    "id": "i7easoxByuoR"
   },
   "source": [
    "## Computing the Gradient"
   ]
  },
  {
   "cell_type": "markdown",
   "metadata": {
    "id": "5SnyolJTyuoR"
   },
   "source": [
    "_Calculating the value of_ $\\frac{dx}{dt}$"
   ]
  },
  {
   "cell_type": "code",
   "execution_count": 4,
   "metadata": {
    "colab": {
     "base_uri": "https://localhost:8080/"
    },
    "id": "wmIbVfIvyuoR",
    "outputId": "aa4e3136-c854-465d-d2e9-81cfd546e440"
   },
   "outputs": [
    {
     "name": "stdout",
     "output_type": "stream",
     "text": [
      "1.0\n",
      "1        0.000298\n",
      "2        0.000298\n",
      "3        0.000297\n",
      "4        0.000297\n",
      "5        0.000297\n",
      "           ...   \n",
      "9996     0.000018\n",
      "9997     0.000018\n",
      "9998     0.000018\n",
      "9999     0.000018\n",
      "10000    0.000018\n",
      "Name: 0, Length: 10000, dtype: float64\n"
     ]
    }
   ],
   "source": [
    "t_diff = 1\n",
    "print(training_set.max())\n",
    "gradient_t = (training_set.diff()/t_diff).iloc[1:] # dx/dt\n",
    "print(gradient_t)"
   ]
  },
  {
   "cell_type": "markdown",
   "metadata": {
    "id": "_2eVeeoxyuoS"
   },
   "source": [
    "## Loading Datasets"
   ]
  },
  {
   "cell_type": "code",
   "execution_count": 5,
   "metadata": {
    "id": "0J-NKyIEyuoS"
   },
   "outputs": [
    {
     "data": {
      "text/plain": [
       "0       88.600000\n",
       "1       88.409524\n",
       "2       88.219048\n",
       "3       88.028571\n",
       "4       87.838095\n",
       "          ...    \n",
       "2345    56.893831\n",
       "2346    56.881533\n",
       "2347    56.869236\n",
       "2348    56.856938\n",
       "2349    56.844640\n",
       "Name: C4, Length: 2350, dtype: float64"
      ]
     },
     "execution_count": 5,
     "metadata": {},
     "output_type": "execute_result"
    }
   ],
   "source": [
    "data = pd.read_csv(\"c4_interpolated_2250_100.csv\")\n",
    "training_set = data.iloc[:, 1]\n",
    "training_set"
   ]
  },
  {
   "cell_type": "code",
   "execution_count": 6,
   "metadata": {
    "colab": {
     "base_uri": "https://localhost:8080/"
    },
    "id": "-CbNUhJ74UqF",
    "outputId": "20f562d8-8247-49cc-b9c3-00eca5e13e2d"
   },
   "outputs": [
    {
     "data": {
      "text/plain": [
       "0       88.600000\n",
       "1       88.409524\n",
       "2       88.219048\n",
       "3       88.028571\n",
       "4       87.838095\n",
       "          ...    \n",
       "2245     0.404535\n",
       "2246     0.588284\n",
       "2247     0.000000\n",
       "2248     0.000000\n",
       "2249     0.000000\n",
       "Name: C4, Length: 2250, dtype: float64"
      ]
     },
     "execution_count": 6,
     "metadata": {},
     "output_type": "execute_result"
    }
   ],
   "source": [
    "test = training_set.tail(100)\n",
    "test\n",
    "training_set = training_set.head(2250)\n",
    "training_set"
   ]
  },
  {
   "cell_type": "code",
   "execution_count": 7,
   "metadata": {
    "colab": {
     "base_uri": "https://localhost:8080/"
    },
    "id": "X0TwTcq0yuoS",
    "outputId": "37252ed8-d88e-4044-fa7a-922411990b5b"
   },
   "outputs": [
    {
     "name": "stdout",
     "output_type": "stream",
     "text": [
      "0       0.000298\n",
      "1       0.000298\n",
      "2       0.000297\n",
      "3       0.000297\n",
      "4       0.000297\n",
      "          ...   \n",
      "9995    0.000018\n",
      "9996    0.000018\n",
      "9997    0.000018\n",
      "9998    0.000018\n",
      "9999    0.000018\n",
      "Name: 0, Length: 10000, dtype: float64\n"
     ]
    }
   ],
   "source": [
    "training_set = training_set.reset_index(drop=True)\n",
    "gradient_t = gradient_t.reset_index(drop=True)\n",
    "print(gradient_t)"
   ]
  },
  {
   "cell_type": "code",
   "execution_count": 8,
   "metadata": {
    "id": "O2biznZQyuoS"
   },
   "outputs": [],
   "source": [
    "df = pd.concat((training_set, gradient_t), axis=1)\n",
    "df.columns = ['y_t', 'grad_t']"
   ]
  },
  {
   "cell_type": "code",
   "execution_count": 9,
   "metadata": {
    "colab": {
     "base_uri": "https://localhost:8080/",
     "height": 423
    },
    "id": "sk_a5v3tyuoS",
    "outputId": "17563625-e550-45ae-faab-fafa353e44da"
   },
   "outputs": [
    {
     "data": {
      "text/html": [
       "<div>\n",
       "<style scoped>\n",
       "    .dataframe tbody tr th:only-of-type {\n",
       "        vertical-align: middle;\n",
       "    }\n",
       "\n",
       "    .dataframe tbody tr th {\n",
       "        vertical-align: top;\n",
       "    }\n",
       "\n",
       "    .dataframe thead th {\n",
       "        text-align: right;\n",
       "    }\n",
       "</style>\n",
       "<table border=\"1\" class=\"dataframe\">\n",
       "  <thead>\n",
       "    <tr style=\"text-align: right;\">\n",
       "      <th></th>\n",
       "      <th>y_t</th>\n",
       "      <th>grad_t</th>\n",
       "    </tr>\n",
       "  </thead>\n",
       "  <tbody>\n",
       "    <tr>\n",
       "      <th>0</th>\n",
       "      <td>88.600000</td>\n",
       "      <td>0.000298</td>\n",
       "    </tr>\n",
       "    <tr>\n",
       "      <th>1</th>\n",
       "      <td>88.409524</td>\n",
       "      <td>0.000298</td>\n",
       "    </tr>\n",
       "    <tr>\n",
       "      <th>2</th>\n",
       "      <td>88.219048</td>\n",
       "      <td>0.000297</td>\n",
       "    </tr>\n",
       "    <tr>\n",
       "      <th>3</th>\n",
       "      <td>88.028571</td>\n",
       "      <td>0.000297</td>\n",
       "    </tr>\n",
       "    <tr>\n",
       "      <th>4</th>\n",
       "      <td>87.838095</td>\n",
       "      <td>0.000297</td>\n",
       "    </tr>\n",
       "    <tr>\n",
       "      <th>...</th>\n",
       "      <td>...</td>\n",
       "      <td>...</td>\n",
       "    </tr>\n",
       "    <tr>\n",
       "      <th>9995</th>\n",
       "      <td>NaN</td>\n",
       "      <td>0.000018</td>\n",
       "    </tr>\n",
       "    <tr>\n",
       "      <th>9996</th>\n",
       "      <td>NaN</td>\n",
       "      <td>0.000018</td>\n",
       "    </tr>\n",
       "    <tr>\n",
       "      <th>9997</th>\n",
       "      <td>NaN</td>\n",
       "      <td>0.000018</td>\n",
       "    </tr>\n",
       "    <tr>\n",
       "      <th>9998</th>\n",
       "      <td>NaN</td>\n",
       "      <td>0.000018</td>\n",
       "    </tr>\n",
       "    <tr>\n",
       "      <th>9999</th>\n",
       "      <td>NaN</td>\n",
       "      <td>0.000018</td>\n",
       "    </tr>\n",
       "  </tbody>\n",
       "</table>\n",
       "<p>10000 rows × 2 columns</p>\n",
       "</div>"
      ],
      "text/plain": [
       "            y_t    grad_t\n",
       "0     88.600000  0.000298\n",
       "1     88.409524  0.000298\n",
       "2     88.219048  0.000297\n",
       "3     88.028571  0.000297\n",
       "4     87.838095  0.000297\n",
       "...         ...       ...\n",
       "9995        NaN  0.000018\n",
       "9996        NaN  0.000018\n",
       "9997        NaN  0.000018\n",
       "9998        NaN  0.000018\n",
       "9999        NaN  0.000018\n",
       "\n",
       "[10000 rows x 2 columns]"
      ]
     },
     "execution_count": 9,
     "metadata": {},
     "output_type": "execute_result"
    }
   ],
   "source": [
    "df"
   ]
  },
  {
   "cell_type": "markdown",
   "metadata": {
    "id": "-5esyHu5aFvg"
   },
   "source": [
    "## Plot of the External Forcing from Chaotic Differential Equation"
   ]
  },
  {
   "cell_type": "code",
   "execution_count": 10,
   "metadata": {
    "colab": {
     "base_uri": "https://localhost:8080/",
     "height": 447
    },
    "id": "hGnE43tOh-4p",
    "outputId": "fc396503-b624-4fa5-dfbe-f460207405c6"
   },
   "outputs": [
    {
     "data": {
      "text/plain": [
       "<Axes: >"
      ]
     },
     "execution_count": 10,
     "metadata": {},
     "output_type": "execute_result"
    },
    {
     "data": {
      "image/png": "[encoded data removed]",
      "text/plain": [
       "<Figure size 432x288 with 1 Axes>"
      ]
     },
     "metadata": {
      "needs_background": "light"
     },
     "output_type": "display_data"
    }
   ],
   "source": [
    "df.iloc[:, 0].plot()"
   ]
  },
  {
   "cell_type": "code",
   "execution_count": 11,
   "metadata": {
    "colab": {
     "base_uri": "https://localhost:8080/",
     "height": 447
    },
    "id": "ym4xWUUxaFvg",
    "outputId": "ae6a3495-8ce9-437e-ba81-3ed31deedeae"
   },
   "outputs": [
    {
     "name": "stderr",
     "output_type": "stream",
     "text": [
      "C:\\Users\\Anurag Dutta\\AppData\\Local\\Packages\\PythonSoftwareFoundation.Python.3.9_qbz5n2kfra8p0\\LocalCache\\local-packages\\Python39\\site-packages\\pandas\\core\\arraylike.py:402: RuntimeWarning: divide by zero encountered in log\n",
      "  result = getattr(ufunc, method)(*inputs, **kwargs)\n"
     ]
    },
    {
     "data": {
      "text/plain": [
       "<Axes: >"
      ]
     },
     "execution_count": 11,
     "metadata": {},
     "output_type": "execute_result"
    },
    {
     "data": {
      "image/png": "[encoded data removed]",
      "text/plain": [
       "<Figure size 432x288 with 1 Axes>"
      ]
     },
     "metadata": {
      "needs_background": "light"
     },
     "output_type": "display_data"
    }
   ],
   "source": [
    "import numpy as np\n",
    "c0 = 86.6856  # Value for C0\n",
    "K0 = -0.0008  # Value for K0\n",
    "K1 = -0.0002  # Value for K1\n",
    "a = 0.0000    # Value for a\n",
    "b = 0.0128    # Value for b\n",
    "c = -2.3003    # Value for c\n",
    "\n",
    "L = np.minimum(c0, (df.iloc[:, 1] - (df.iloc[:, 0] * (K0 - K1 * (9 * a * np.log(df.iloc[:, 0] / c0) / (K0 - K1 * c)**2 + 4 * b * np.log(df.iloc[:, 0] / c0) / (K0 - K1 * c) + c)))))\n",
    "L.plot()"
   ]
  },
  {
   "cell_type": "markdown",
   "metadata": {
    "id": "9VyEywnwaFvh"
   },
   "source": [
    "## Preprocessing the data into supervised learning"
   ]
  },
  {
   "cell_type": "code",
   "execution_count": 12,
   "metadata": {
    "id": "6V9dXqzdaFvh"
   },
   "outputs": [],
   "source": [
    "# split a sequence into samples\n",
    "def Supervised(data, n_in=1, n_out=1, dropnan=True):\n",
    "    n_vars = 1 if type(data) is list else data.shape[1]\n",
    "    df = pd.DataFrame(data)\n",
    "    cols, names = list(), list()\n",
    "    # input sequence (t-n_in, ... t-1)\n",
    "    for i in range(n_in, 0, -1):\n",
    "        cols.append(df.shift(i))\n",
    "        names += [('var%d(t-%d)' % (j+1, i)) for j in range(n_vars)]\n",
    "    # forecast sequence (t, t+1, ... t+n_out)\n",
    "    for i in range(0, n_out):\n",
    "      cols.append(df.shift(-i))\n",
    "      if i == 0:\n",
    "        names += [('var%d(t)' % (j+1)) for j in range(n_vars)]\n",
    "      else:\n",
    "        names += [('var%d(t+%d)' % (j+1, i)) for j in range(n_vars)]\n",
    "    # put it all together\n",
    "    agg = pd.concat(cols, axis=1)\n",
    "    agg.columns = names\n",
    "    # drop rows with NaN values\n",
    "    if dropnan:\n",
    "       agg.dropna(inplace=True)\n",
    "    return agg"
   ]
  },
  {
   "cell_type": "code",
   "execution_count": 13,
   "metadata": {
    "colab": {
     "base_uri": "https://localhost:8080/"
    },
    "id": "CrzSrT1HnyfH",
    "outputId": "7e75f928-3e47-499d-eac1-51908015ef78"
   },
   "outputs": [
    {
     "name": "stdout",
     "output_type": "stream",
     "text": [
      "     var1(t-350)  var1(t-349)  var1(t-348)  var1(t-347)  var1(t-346)  \\\n",
      "350    88.600000    88.409524    88.219048    88.028571    87.838095   \n",
      "351    88.409524    88.219048    88.028571    87.838095    87.647619   \n",
      "352    88.219048    88.028571    87.838095    87.647619    87.457143   \n",
      "353    88.028571    87.838095    87.647619    87.457143    87.266667   \n",
      "354    87.838095    87.647619    87.457143    87.266667    87.076190   \n",
      "\n",
      "     var1(t-345)  var1(t-344)  var1(t-343)  var1(t-342)  var1(t-341)  ...  \\\n",
      "350    87.647619    87.457143    87.266667    87.076190    86.896218  ...   \n",
      "351    87.457143    87.266667    87.076190    86.896218    86.845798  ...   \n",
      "352    87.266667    87.076190    86.896218    86.845798    86.795378  ...   \n",
      "353    87.076190    86.896218    86.845798    86.795378    86.744958  ...   \n",
      "354    86.896218    86.845798    86.795378    86.744958    86.694538  ...   \n",
      "\n",
      "     var1(t+95)  var2(t+95)  var1(t+96)  var2(t+96)  var1(t+97)  var2(t+97)  \\\n",
      "350   78.880345    0.000263   78.856069    0.000263   78.831793    0.000263   \n",
      "351   78.856069    0.000263   78.831793    0.000263   78.807516    0.000262   \n",
      "352   78.831793    0.000263   78.807516    0.000262   78.783240    0.000262   \n",
      "353   78.807516    0.000262   78.783240    0.000262   78.758964    0.000262   \n",
      "354   78.783240    0.000262   78.758964    0.000262   78.734687    0.000262   \n",
      "\n",
      "     var1(t+98)  var2(t+98)  var1(t+99)  var2(t+99)  \n",
      "350   78.807516    0.000262   78.783240    0.000262  \n",
      "351   78.783240    0.000262   78.758964    0.000262  \n",
      "352   78.758964    0.000262   78.734687    0.000262  \n",
      "353   78.734687    0.000262   78.710411    0.000262  \n",
      "354   78.710411    0.000262   78.686134    0.000262  \n",
      "\n",
      "[5 rows x 551 columns]\n",
      "Index(['var1(t-350)', 'var1(t-349)', 'var1(t-348)', 'var1(t-347)',\n",
      "       'var1(t-346)', 'var1(t-345)', 'var1(t-344)', 'var1(t-343)',\n",
      "       'var1(t-342)', 'var1(t-341)',\n",
      "       ...\n",
      "       'var1(t+95)', 'var2(t+95)', 'var1(t+96)', 'var2(t+96)', 'var1(t+97)',\n",
      "       'var2(t+97)', 'var1(t+98)', 'var2(t+98)', 'var1(t+99)', 'var2(t+99)'],\n",
      "      dtype='object', length=551)\n"
     ]
    }
   ],
   "source": [
    "data = Supervised(df.values, n_in = 350, n_out = 100)\n",
    "\n",
    "\n",
    "cols_to_drop = []\n",
    "for i in range(2, 351):\n",
    "    cols_to_drop.extend([f'var2(t-{i})'])\n",
    "\n",
    "data.drop(cols_to_drop, axis=1, inplace=True)\n",
    "\n",
    "print(data.head())\n",
    "print(data.columns)"
   ]
  },
  {
   "cell_type": "code",
   "execution_count": 14,
   "metadata": {
    "id": "AfPf60oy6Pe4"
   },
   "outputs": [],
   "source": [
    "train = np.array(data[0:len(data)-1])\n",
    "forecast = np.array(data.tail(1))"
   ]
  },
  {
   "cell_type": "code",
   "execution_count": 15,
   "metadata": {
    "id": "WSAafzI37KiT"
   },
   "outputs": [],
   "source": [
    "trainy = train[:,-300:]\n",
    "trainX = train[:,:-300]"
   ]
  },
  {
   "cell_type": "code",
   "execution_count": 16,
   "metadata": {
    "id": "2SrOqVJA7f50"
   },
   "outputs": [],
   "source": [
    "forecasty = forecast[:,-300:]\n",
    "forecastX = forecast[:,:-300]"
   ]
  },
  {
   "cell_type": "code",
   "execution_count": 17,
   "metadata": {
    "colab": {
     "base_uri": "https://localhost:8080/"
    },
    "id": "Qno_k8Nw7saY",
    "outputId": "c4a88db5-d8c6-489f-cdb2-06b24e293cff"
   },
   "outputs": [
    {
     "name": "stdout",
     "output_type": "stream",
     "text": [
      "(1800, 1, 251) (1800, 300) (1, 1, 251)\n"
     ]
    }
   ],
   "source": [
    "trainX = trainX.reshape((trainX.shape[0], 1, trainX.shape[1]))\n",
    "forecastX = forecastX.reshape((forecastX.shape[0], 1, forecastX.shape[1]))\n",
    "print(trainX.shape, trainy.shape, forecastX.shape)"
   ]
  },
  {
   "cell_type": "code",
   "execution_count": 18,
   "metadata": {
    "colab": {
     "base_uri": "https://localhost:8080/"
    },
    "id": "b1Jp2DvNuNFx",
    "outputId": "d0e5b3c4-64f1-438c-eade-8dfeaac8e285"
   },
   "outputs": [
    {
     "name": "stdout",
     "output_type": "stream",
     "text": [
      "Epoch 1/500\n",
      "23/23 [==============================] - 3s 27ms/step - loss: 5049.8389 - val_loss: 2745.4739\n",
      "Epoch 2/500\n",
      "23/23 [==============================] - 0s 5ms/step - loss: 4741.6709 - val_loss: 2606.5159\n",
      "Epoch 3/500\n",
      "23/23 [==============================] - 0s 6ms/step - loss: 4616.1123 - val_loss: 2541.8535\n",
      "Epoch 4/500\n",
      "23/23 [==============================] - 0s 5ms/step - loss: 4514.8467 - val_loss: 2489.5408\n",
      "Epoch 5/500\n",
      "23/23 [==============================] - 0s 5ms/step - loss: 4422.9092 - val_loss: 2440.7256\n",
      "Epoch 6/500\n",
      "23/23 [==============================] - 0s 5ms/step - loss: 4334.5391 - val_loss: 2393.8352\n",
      "Epoch 7/500\n",
      "23/23 [==============================] - 0s 5ms/step - loss: 4248.7358 - val_loss: 2348.6006\n",
      "Epoch 8/500\n",
      "23/23 [==============================] - 0s 6ms/step - loss: 4165.0591 - val_loss: 2304.7979\n",
      "Epoch 9/500\n",
      "23/23 [==============================] - 0s 5ms/step - loss: 4083.2122 - val_loss: 2261.5562\n",
      "Epoch 10/500\n",
      "23/23 [==============================] - 0s 6ms/step - loss: 3994.6833 - val_loss: 2214.0466\n",
      "Epoch 11/500\n",
      "23/23 [==============================] - 0s 5ms/step - loss: 3908.9756 - val_loss: 2171.2463\n",
      "Epoch 12/500\n",
      "23/23 [==============================] - 0s 6ms/step - loss: 3827.2834 - val_loss: 2128.5576\n",
      "Epoch 13/500\n",
      "23/23 [==============================] - 0s 7ms/step - loss: 3739.6902 - val_loss: 2084.8423\n",
      "Epoch 14/500\n",
      "23/23 [==============================] - 0s 6ms/step - loss: 3656.5425 - val_loss: 2044.1788\n",
      "Epoch 15/500\n",
      "23/23 [==============================] - 0s 8ms/step - loss: 3576.3591 - val_loss: 2005.6327\n",
      "Epoch 16/500\n",
      "23/23 [==============================] - 0s 16ms/step - loss: 3498.5994 - val_loss: 1968.3536\n",
      "Epoch 17/500\n",
      "23/23 [==============================] - 0s 11ms/step - loss: 3422.8691 - val_loss: 1932.4078\n",
      "Epoch 18/500\n",
      "23/23 [==============================] - 0s 10ms/step - loss: 3348.9351 - val_loss: 1897.7159\n",
      "Epoch 19/500\n",
      "23/23 [==============================] - 0s 9ms/step - loss: 3276.6494 - val_loss: 1864.2092\n",
      "Epoch 20/500\n",
      "23/23 [==============================] - 0s 8ms/step - loss: 3205.9104 - val_loss: 1831.8361\n",
      "Epoch 21/500\n",
      "23/23 [==============================] - 0s 7ms/step - loss: 3136.6421 - val_loss: 1800.5530\n",
      "Epoch 22/500\n",
      "23/23 [==============================] - 0s 16ms/step - loss: 3068.7839 - val_loss: 1770.3260\n",
      "Epoch 23/500\n",
      "23/23 [==============================] - 0s 14ms/step - loss: 3002.2871 - val_loss: 1741.1245\n",
      "Epoch 24/500\n",
      "23/23 [==============================] - 0s 12ms/step - loss: 2937.1101 - val_loss: 1712.9219\n",
      "Epoch 25/500\n",
      "23/23 [==============================] - 0s 11ms/step - loss: 2873.2158 - val_loss: 1685.6948\n",
      "Epoch 26/500\n",
      "23/23 [==============================] - 0s 10ms/step - loss: 2810.5732 - val_loss: 1659.4094\n",
      "Epoch 27/500\n",
      "23/23 [==============================] - 0s 9ms/step - loss: 2749.1404 - val_loss: 1633.6296\n",
      "Epoch 28/500\n",
      "23/23 [==============================] - 0s 10ms/step - loss: 2690.1992 - val_loss: 1612.3055\n",
      "Epoch 29/500\n",
      "23/23 [==============================] - 0s 9ms/step - loss: 2629.7083 - val_loss: 1583.8536\n",
      "Epoch 30/500\n",
      "23/23 [==============================] - 0s 9ms/step - loss: 2571.7998 - val_loss: 1560.1467\n",
      "Epoch 31/500\n",
      "23/23 [==============================] - 0s 14ms/step - loss: 2515.0571 - val_loss: 1539.3125\n",
      "Epoch 32/500\n",
      "23/23 [==============================] - 0s 10ms/step - loss: 2459.4749 - val_loss: 1521.6554\n",
      "Epoch 33/500\n",
      "23/23 [==============================] - 0s 10ms/step - loss: 2404.8936 - val_loss: 1501.5834\n",
      "Epoch 34/500\n",
      "23/23 [==============================] - 0s 6ms/step - loss: 2351.3921 - val_loss: 1482.3229\n",
      "Epoch 35/500\n",
      "23/23 [==============================] - 0s 7ms/step - loss: 2298.9456 - val_loss: 1463.8593\n",
      "Epoch 36/500\n",
      "23/23 [==============================] - 0s 6ms/step - loss: 2247.5354 - val_loss: 1446.1776\n",
      "Epoch 37/500\n",
      "23/23 [==============================] - 0s 6ms/step - loss: 2197.1458 - val_loss: 1429.2635\n",
      "Epoch 38/500\n",
      "23/23 [==============================] - 0s 7ms/step - loss: 2147.7605 - val_loss: 1413.1029\n",
      "Epoch 39/500\n",
      "23/23 [==============================] - 0s 7ms/step - loss: 2099.3647 - val_loss: 1397.6823\n",
      "Epoch 40/500\n",
      "23/23 [==============================] - 0s 8ms/step - loss: 2051.9431 - val_loss: 1382.9880\n",
      "Epoch 41/500\n",
      "23/23 [==============================] - 0s 8ms/step - loss: 2005.4807 - val_loss: 1369.0068\n",
      "Epoch 42/500\n",
      "23/23 [==============================] - 0s 8ms/step - loss: 1959.9639 - val_loss: 1355.7252\n",
      "Epoch 43/500\n",
      "23/23 [==============================] - 0s 8ms/step - loss: 1915.3783 - val_loss: 1343.1311\n",
      "Epoch 44/500\n",
      "23/23 [==============================] - 0s 7ms/step - loss: 1871.7106 - val_loss: 1331.2109\n",
      "Epoch 45/500\n",
      "23/23 [==============================] - 0s 8ms/step - loss: 1828.9462 - val_loss: 1319.9524\n",
      "Epoch 46/500\n",
      "23/23 [==============================] - 0s 7ms/step - loss: 1787.0731 - val_loss: 1309.3430\n",
      "Epoch 47/500\n",
      "23/23 [==============================] - 0s 6ms/step - loss: 1746.0773 - val_loss: 1299.3708\n",
      "Epoch 48/500\n",
      "23/23 [==============================] - 0s 7ms/step - loss: 1705.9469 - val_loss: 1290.0229\n",
      "Epoch 49/500\n",
      "23/23 [==============================] - 0s 6ms/step - loss: 1666.6682 - val_loss: 1281.2877\n",
      "Epoch 50/500\n",
      "23/23 [==============================] - 0s 6ms/step - loss: 1628.2290 - val_loss: 1273.1533\n",
      "Epoch 51/500\n",
      "23/23 [==============================] - 0s 6ms/step - loss: 1590.6179 - val_loss: 1265.6079\n",
      "Epoch 52/500\n",
      "23/23 [==============================] - 0s 6ms/step - loss: 1553.8215 - val_loss: 1258.5248\n",
      "Epoch 53/500\n",
      "23/23 [==============================] - 0s 6ms/step - loss: 1517.8286 - val_loss: 1252.2405\n",
      "Epoch 54/500\n",
      "23/23 [==============================] - 0s 6ms/step - loss: 1482.6267 - val_loss: 1246.3915\n",
      "Epoch 55/500\n",
      "23/23 [==============================] - 0s 6ms/step - loss: 1448.2045 - val_loss: 1241.0852\n",
      "Epoch 56/500\n",
      "23/23 [==============================] - 0s 6ms/step - loss: 1414.5504 - val_loss: 1236.3099\n",
      "Epoch 57/500\n",
      "23/23 [==============================] - 0s 7ms/step - loss: 1381.6525 - val_loss: 1232.0548\n",
      "Epoch 58/500\n",
      "23/23 [==============================] - 0s 7ms/step - loss: 1349.4999 - val_loss: 1228.3083\n",
      "Epoch 59/500\n",
      "23/23 [==============================] - 0s 6ms/step - loss: 1318.0808 - val_loss: 1225.0596\n",
      "Epoch 60/500\n",
      "23/23 [==============================] - 0s 6ms/step - loss: 1287.3849 - val_loss: 1222.2972\n",
      "Epoch 61/500\n",
      "23/23 [==============================] - 0s 7ms/step - loss: 1257.4003 - val_loss: 1220.0107\n",
      "Epoch 62/500\n",
      "23/23 [==============================] - 0s 8ms/step - loss: 1228.1163 - val_loss: 1218.1892\n",
      "Epoch 63/500\n",
      "23/23 [==============================] - 0s 14ms/step - loss: 1199.5222 - val_loss: 1216.8215\n",
      "Epoch 64/500\n",
      "23/23 [==============================] - 0s 8ms/step - loss: 1171.6072 - val_loss: 1215.8972\n",
      "Epoch 65/500\n",
      "23/23 [==============================] - 0s 7ms/step - loss: 1144.3607 - val_loss: 1215.4055\n",
      "Epoch 66/500\n",
      "23/23 [==============================] - 0s 6ms/step - loss: 1117.7716 - val_loss: 1215.3361\n",
      "Epoch 67/500\n",
      "23/23 [==============================] - 0s 6ms/step - loss: 1091.8302 - val_loss: 1215.6781\n",
      "Epoch 68/500\n",
      "23/23 [==============================] - 0s 6ms/step - loss: 1066.5256 - val_loss: 1216.4214\n",
      "Epoch 69/500\n",
      "23/23 [==============================] - 0s 6ms/step - loss: 1041.8477 - val_loss: 1217.5552\n",
      "Epoch 70/500\n",
      "23/23 [==============================] - 0s 6ms/step - loss: 1017.7862 - val_loss: 1219.0697\n",
      "Epoch 71/500\n",
      "23/23 [==============================] - 0s 6ms/step - loss: 994.3309 - val_loss: 1220.9543\n",
      "Epoch 72/500\n",
      "23/23 [==============================] - 0s 6ms/step - loss: 971.4719 - val_loss: 1223.1990\n",
      "Epoch 73/500\n",
      "23/23 [==============================] - 0s 6ms/step - loss: 949.1986 - val_loss: 1225.7936\n",
      "Epoch 74/500\n",
      "23/23 [==============================] - 0s 6ms/step - loss: 927.5022 - val_loss: 1228.7279\n",
      "Epoch 75/500\n",
      "23/23 [==============================] - 0s 5ms/step - loss: 906.3717 - val_loss: 1231.9923\n",
      "Epoch 76/500\n",
      "23/23 [==============================] - 0s 6ms/step - loss: 885.7981 - val_loss: 1235.5765\n",
      "Epoch 77/500\n",
      "23/23 [==============================] - 0s 7ms/step - loss: 865.7714 - val_loss: 1239.4708\n",
      "Epoch 78/500\n",
      "23/23 [==============================] - 0s 6ms/step - loss: 846.2819 - val_loss: 1243.6655\n",
      "Epoch 79/500\n",
      "23/23 [==============================] - 0s 6ms/step - loss: 827.3203 - val_loss: 1248.1506\n",
      "Epoch 80/500\n",
      "23/23 [==============================] - 0s 6ms/step - loss: 808.8770 - val_loss: 1252.9169\n",
      "Epoch 81/500\n",
      "23/23 [==============================] - 0s 6ms/step - loss: 790.9424 - val_loss: 1257.9547\n",
      "Epoch 82/500\n",
      "23/23 [==============================] - 0s 6ms/step - loss: 773.5072 - val_loss: 1263.2538\n",
      "Epoch 83/500\n",
      "23/23 [==============================] - 0s 6ms/step - loss: 756.5627 - val_loss: 1268.8057\n",
      "Epoch 84/500\n",
      "23/23 [==============================] - 0s 6ms/step - loss: 740.0987 - val_loss: 1274.6005\n",
      "Epoch 85/500\n",
      "23/23 [==============================] - 0s 6ms/step - loss: 724.1069 - val_loss: 1280.6288\n",
      "Epoch 86/500\n",
      "23/23 [==============================] - 0s 6ms/step - loss: 708.5781 - val_loss: 1286.8817\n",
      "Epoch 87/500\n",
      "23/23 [==============================] - 0s 6ms/step - loss: 693.5029 - val_loss: 1293.3500\n",
      "Epoch 88/500\n",
      "23/23 [==============================] - 0s 5ms/step - loss: 678.8726 - val_loss: 1300.0248\n",
      "Epoch 89/500\n",
      "23/23 [==============================] - 0s 5ms/step - loss: 664.6787 - val_loss: 1306.8965\n",
      "Epoch 90/500\n",
      "23/23 [==============================] - 0s 7ms/step - loss: 650.9118 - val_loss: 1313.9565\n",
      "Epoch 91/500\n",
      "23/23 [==============================] - 0s 6ms/step - loss: 637.5637 - val_loss: 1321.1960\n",
      "Epoch 92/500\n",
      "23/23 [==============================] - 0s 9ms/step - loss: 624.6254 - val_loss: 1328.6061\n",
      "Epoch 93/500\n",
      "23/23 [==============================] - 0s 7ms/step - loss: 612.0887 - val_loss: 1336.1783\n",
      "Epoch 94/500\n",
      "23/23 [==============================] - 0s 7ms/step - loss: 599.9448 - val_loss: 1343.9041\n",
      "Epoch 95/500\n",
      "23/23 [==============================] - 1s 37ms/step - loss: 588.1853 - val_loss: 1351.7743\n",
      "Epoch 96/500\n",
      "23/23 [==============================] - 0s 11ms/step - loss: 576.8022 - val_loss: 1359.7814\n",
      "Epoch 97/500\n",
      "23/23 [==============================] - 0s 8ms/step - loss: 565.7867 - val_loss: 1367.9165\n",
      "Epoch 98/500\n",
      "23/23 [==============================] - 0s 7ms/step - loss: 555.1311 - val_loss: 1376.1714\n",
      "Epoch 99/500\n",
      "23/23 [==============================] - 0s 6ms/step - loss: 544.8270 - val_loss: 1384.5383\n",
      "Epoch 100/500\n",
      "23/23 [==============================] - 0s 6ms/step - loss: 534.8665 - val_loss: 1393.0085\n",
      "Epoch 101/500\n",
      "23/23 [==============================] - 0s 6ms/step - loss: 525.2414 - val_loss: 1401.5750\n",
      "Epoch 102/500\n",
      "23/23 [==============================] - 0s 6ms/step - loss: 515.9440 - val_loss: 1410.2288\n",
      "Epoch 103/500\n",
      "23/23 [==============================] - 0s 6ms/step - loss: 506.9665 - val_loss: 1418.9634\n",
      "Epoch 104/500\n",
      "23/23 [==============================] - 0s 6ms/step - loss: 498.3012 - val_loss: 1427.7700\n",
      "Epoch 105/500\n",
      "23/23 [==============================] - 0s 7ms/step - loss: 489.9404 - val_loss: 1436.6417\n",
      "Epoch 106/500\n",
      "23/23 [==============================] - 0s 18ms/step - loss: 481.8765 - val_loss: 1445.5714\n",
      "Epoch 107/500\n",
      "23/23 [==============================] - 0s 9ms/step - loss: 474.1022 - val_loss: 1454.5516\n",
      "Epoch 108/500\n",
      "23/23 [==============================] - 0s 7ms/step - loss: 466.6098 - val_loss: 1463.5743\n",
      "Epoch 109/500\n",
      "23/23 [==============================] - 0s 6ms/step - loss: 459.3922 - val_loss: 1472.6335\n",
      "Epoch 110/500\n",
      "23/23 [==============================] - 0s 6ms/step - loss: 452.4424 - val_loss: 1481.7217\n",
      "Epoch 111/500\n",
      "23/23 [==============================] - 0s 6ms/step - loss: 445.7528 - val_loss: 1490.8326\n",
      "Epoch 112/500\n",
      "23/23 [==============================] - 0s 6ms/step - loss: 439.3166 - val_loss: 1499.9584\n",
      "Epoch 113/500\n",
      "23/23 [==============================] - 0s 6ms/step - loss: 433.1270 - val_loss: 1509.0938\n",
      "Epoch 114/500\n",
      "23/23 [==============================] - 0s 6ms/step - loss: 427.1769 - val_loss: 1518.2316\n",
      "Epoch 115/500\n",
      "23/23 [==============================] - 0s 6ms/step - loss: 421.4598 - val_loss: 1527.3660\n",
      "Epoch 116/500\n",
      "23/23 [==============================] - 0s 5ms/step - loss: 415.9687 - val_loss: 1536.4908\n",
      "Epoch 117/500\n",
      "23/23 [==============================] - 0s 7ms/step - loss: 410.6972 - val_loss: 1545.6000\n",
      "Epoch 118/500\n",
      "23/23 [==============================] - 0s 6ms/step - loss: 405.6389 - val_loss: 1554.6870\n",
      "Epoch 119/500\n",
      "23/23 [==============================] - 0s 7ms/step - loss: 400.7875 - val_loss: 1563.7467\n",
      "Epoch 120/500\n",
      "23/23 [==============================] - 0s 6ms/step - loss: 396.1365 - val_loss: 1572.7734\n",
      "Epoch 121/500\n",
      "23/23 [==============================] - 0s 10ms/step - loss: 391.6799 - val_loss: 1581.7620\n",
      "Epoch 122/500\n",
      "23/23 [==============================] - 0s 8ms/step - loss: 387.4114 - val_loss: 1590.7069\n",
      "Epoch 123/500\n",
      "23/23 [==============================] - 0s 7ms/step - loss: 383.3254 - val_loss: 1599.6027\n",
      "Epoch 124/500\n",
      "23/23 [==============================] - 0s 7ms/step - loss: 379.4156 - val_loss: 1608.4448\n",
      "Epoch 125/500\n",
      "23/23 [==============================] - 0s 19ms/step - loss: 375.6766 - val_loss: 1617.2285\n",
      "Epoch 126/500\n",
      "23/23 [==============================] - 0s 9ms/step - loss: 372.1026 - val_loss: 1625.9491\n",
      "Epoch 127/500\n",
      "23/23 [==============================] - 0s 8ms/step - loss: 368.6880 - val_loss: 1634.6028\n",
      "Epoch 128/500\n",
      "23/23 [==============================] - 0s 7ms/step - loss: 365.4274 - val_loss: 1643.1835\n",
      "Epoch 129/500\n",
      "23/23 [==============================] - 0s 8ms/step - loss: 362.3156 - val_loss: 1651.6876\n",
      "Epoch 130/500\n",
      "23/23 [==============================] - 0s 10ms/step - loss: 359.3474 - val_loss: 1660.1115\n",
      "Epoch 131/500\n",
      "23/23 [==============================] - 0s 10ms/step - loss: 356.5175 - val_loss: 1668.4518\n",
      "Epoch 132/500\n",
      "23/23 [==============================] - 0s 7ms/step - loss: 353.8208 - val_loss: 1676.7043\n",
      "Epoch 133/500\n",
      "23/23 [==============================] - 0s 6ms/step - loss: 351.2525 - val_loss: 1684.8650\n",
      "Epoch 134/500\n",
      "23/23 [==============================] - 0s 7ms/step - loss: 348.8081 - val_loss: 1692.9314\n",
      "Epoch 135/500\n",
      "23/23 [==============================] - 0s 7ms/step - loss: 346.4827 - val_loss: 1700.9001\n",
      "Epoch 136/500\n",
      "23/23 [==============================] - 0s 6ms/step - loss: 344.2717 - val_loss: 1708.7678\n",
      "Epoch 137/500\n",
      "23/23 [==============================] - 0s 6ms/step - loss: 342.1705 - val_loss: 1716.5323\n",
      "Epoch 138/500\n",
      "23/23 [==============================] - 0s 7ms/step - loss: 340.1751 - val_loss: 1724.1895\n",
      "Epoch 139/500\n",
      "23/23 [==============================] - 0s 11ms/step - loss: 338.2810 - val_loss: 1731.7388\n",
      "Epoch 140/500\n",
      "23/23 [==============================] - 0s 7ms/step - loss: 336.4843 - val_loss: 1739.1760\n",
      "Epoch 141/500\n",
      "23/23 [==============================] - 0s 7ms/step - loss: 334.7809 - val_loss: 1746.5007\n",
      "Epoch 142/500\n",
      "23/23 [==============================] - 0s 10ms/step - loss: 333.1668 - val_loss: 1753.7094\n",
      "Epoch 143/500\n",
      "23/23 [==============================] - 0s 10ms/step - loss: 331.6384 - val_loss: 1760.8018\n",
      "Epoch 144/500\n",
      "23/23 [==============================] - 0s 7ms/step - loss: 330.1918 - val_loss: 1767.7739\n",
      "Epoch 145/500\n",
      "23/23 [==============================] - 0s 9ms/step - loss: 328.8237 - val_loss: 1774.6267\n",
      "Epoch 146/500\n",
      "23/23 [==============================] - 0s 7ms/step - loss: 327.5302 - val_loss: 1781.3572\n",
      "Epoch 147/500\n",
      "23/23 [==============================] - 0s 7ms/step - loss: 326.3084 - val_loss: 1787.9646\n",
      "Epoch 148/500\n",
      "23/23 [==============================] - 0s 6ms/step - loss: 325.1549 - val_loss: 1794.4482\n",
      "Epoch 149/500\n",
      "23/23 [==============================] - 0s 6ms/step - loss: 324.0664 - val_loss: 1800.8066\n",
      "Epoch 150/500\n",
      "23/23 [==============================] - 0s 6ms/step - loss: 323.0401 - val_loss: 1807.0396\n",
      "Epoch 151/500\n",
      "23/23 [==============================] - 0s 9ms/step - loss: 322.0728 - val_loss: 1813.1462\n",
      "Epoch 152/500\n",
      "23/23 [==============================] - 0s 7ms/step - loss: 321.1618 - val_loss: 1819.1261\n",
      "Epoch 153/500\n",
      "23/23 [==============================] - 0s 7ms/step - loss: 320.3046 - val_loss: 1824.9781\n",
      "Epoch 154/500\n",
      "23/23 [==============================] - 0s 6ms/step - loss: 319.4980 - val_loss: 1830.7042\n",
      "Epoch 155/500\n",
      "23/23 [==============================] - 0s 6ms/step - loss: 318.7399 - val_loss: 1836.3022\n",
      "Epoch 156/500\n",
      "23/23 [==============================] - 0s 6ms/step - loss: 318.0278 - val_loss: 1841.7729\n",
      "Epoch 157/500\n",
      "23/23 [==============================] - 0s 6ms/step - loss: 317.3591 - val_loss: 1847.1173\n",
      "Epoch 158/500\n",
      "23/23 [==============================] - 0s 6ms/step - loss: 316.7318 - val_loss: 1852.3348\n",
      "Epoch 159/500\n",
      "23/23 [==============================] - 0s 6ms/step - loss: 316.1436 - val_loss: 1857.4257\n",
      "Epoch 160/500\n",
      "23/23 [==============================] - 0s 6ms/step - loss: 315.5924 - val_loss: 1862.3920\n",
      "Epoch 161/500\n",
      "23/23 [==============================] - 0s 6ms/step - loss: 315.0763 - val_loss: 1867.2327\n",
      "Epoch 162/500\n",
      "23/23 [==============================] - 0s 5ms/step - loss: 314.5932 - val_loss: 1871.9500\n",
      "Epoch 163/500\n",
      "23/23 [==============================] - 0s 6ms/step - loss: 314.1414 - val_loss: 1876.5447\n",
      "Epoch 164/500\n",
      "23/23 [==============================] - 0s 6ms/step - loss: 313.7192 - val_loss: 1881.0161\n",
      "Epoch 165/500\n",
      "23/23 [==============================] - 0s 5ms/step - loss: 313.3249 - val_loss: 1885.3672\n",
      "Epoch 166/500\n",
      "23/23 [==============================] - 0s 6ms/step - loss: 312.9567 - val_loss: 1889.5984\n",
      "Epoch 167/500\n",
      "23/23 [==============================] - 0s 6ms/step - loss: 312.6133 - val_loss: 1893.7111\n",
      "Epoch 168/500\n",
      "23/23 [==============================] - 0s 6ms/step - loss: 312.2932 - val_loss: 1897.7059\n",
      "Epoch 169/500\n",
      "23/23 [==============================] - 0s 6ms/step - loss: 311.9949 - val_loss: 1901.5859\n",
      "Epoch 170/500\n",
      "23/23 [==============================] - 0s 6ms/step - loss: 311.7173 - val_loss: 1905.3521\n",
      "Epoch 171/500\n",
      "23/23 [==============================] - 0s 6ms/step - loss: 311.4589 - val_loss: 1909.0059\n",
      "Epoch 172/500\n",
      "23/23 [==============================] - 0s 15ms/step - loss: 311.2186 - val_loss: 1912.5490\n",
      "Epoch 173/500\n",
      "23/23 [==============================] - 0s 8ms/step - loss: 310.9953 - val_loss: 1915.9824\n",
      "Epoch 174/500\n",
      "23/23 [==============================] - 0s 7ms/step - loss: 310.7879 - val_loss: 1919.3091\n",
      "Epoch 175/500\n",
      "23/23 [==============================] - 0s 7ms/step - loss: 310.5955 - val_loss: 1922.5293\n",
      "Epoch 176/500\n",
      "23/23 [==============================] - 0s 7ms/step - loss: 310.4170 - val_loss: 1925.6471\n",
      "Epoch 177/500\n",
      "23/23 [==============================] - 0s 8ms/step - loss: 310.2516 - val_loss: 1928.6620\n",
      "Epoch 178/500\n",
      "23/23 [==============================] - 0s 8ms/step - loss: 310.0983 - val_loss: 1931.5769\n",
      "Epoch 179/500\n",
      "23/23 [==============================] - 0s 8ms/step - loss: 309.9565 - val_loss: 1934.3953\n",
      "Epoch 180/500\n",
      "23/23 [==============================] - 0s 7ms/step - loss: 309.8252 - val_loss: 1937.1168\n",
      "Epoch 181/500\n",
      "23/23 [==============================] - 0s 7ms/step - loss: 309.7038 - val_loss: 1939.7456\n",
      "Epoch 182/500\n",
      "23/23 [==============================] - 0s 7ms/step - loss: 309.5916 - val_loss: 1942.2812\n",
      "Epoch 183/500\n",
      "23/23 [==============================] - 0s 6ms/step - loss: 309.4881 - val_loss: 1944.7278\n",
      "Epoch 184/500\n",
      "23/23 [==============================] - 0s 6ms/step - loss: 309.3925 - val_loss: 1947.0873\n",
      "Epoch 185/500\n",
      "23/23 [==============================] - 0s 6ms/step - loss: 309.3043 - val_loss: 1949.3616\n",
      "Epoch 186/500\n",
      "23/23 [==============================] - 0s 6ms/step - loss: 309.2230 - val_loss: 1951.5514\n",
      "Epoch 187/500\n",
      "23/23 [==============================] - 0s 7ms/step - loss: 309.1481 - val_loss: 1953.6608\n",
      "Epoch 188/500\n",
      "23/23 [==============================] - 0s 6ms/step - loss: 309.0792 - val_loss: 1955.6909\n",
      "Epoch 189/500\n",
      "23/23 [==============================] - 0s 6ms/step - loss: 309.0157 - val_loss: 1957.6434\n",
      "Epoch 190/500\n",
      "23/23 [==============================] - 0s 6ms/step - loss: 308.9574 - val_loss: 1959.5217\n",
      "Epoch 191/500\n",
      "23/23 [==============================] - 0s 9ms/step - loss: 308.9037 - val_loss: 1961.3260\n",
      "Epoch 192/500\n",
      "23/23 [==============================] - 0s 6ms/step - loss: 308.8545 - val_loss: 1963.0604\n",
      "Epoch 193/500\n",
      "23/23 [==============================] - 0s 6ms/step - loss: 308.8093 - val_loss: 1964.7253\n",
      "Epoch 194/500\n",
      "23/23 [==============================] - 0s 6ms/step - loss: 308.7677 - val_loss: 1966.3240\n",
      "Epoch 195/500\n",
      "23/23 [==============================] - 0s 6ms/step - loss: 308.7297 - val_loss: 1967.8573\n",
      "Epoch 196/500\n",
      "23/23 [==============================] - 0s 6ms/step - loss: 308.6948 - val_loss: 1969.3289\n",
      "Epoch 197/500\n",
      "23/23 [==============================] - 0s 8ms/step - loss: 308.6628 - val_loss: 1970.7382\n",
      "Epoch 198/500\n",
      "23/23 [==============================] - 0s 18ms/step - loss: 308.6336 - val_loss: 1972.0903\n",
      "Epoch 199/500\n",
      "23/23 [==============================] - 0s 8ms/step - loss: 308.6069 - val_loss: 1973.3844\n",
      "Epoch 200/500\n",
      "23/23 [==============================] - 0s 7ms/step - loss: 308.5824 - val_loss: 1974.6237\n",
      "Epoch 201/500\n",
      "23/23 [==============================] - 0s 7ms/step - loss: 308.5602 - val_loss: 1975.8099\n",
      "Epoch 202/500\n",
      "23/23 [==============================] - 0s 8ms/step - loss: 308.5397 - val_loss: 1976.9448\n",
      "Epoch 203/500\n",
      "23/23 [==============================] - 0s 9ms/step - loss: 308.5211 - val_loss: 1978.0295\n",
      "Epoch 204/500\n",
      "23/23 [==============================] - 0s 9ms/step - loss: 308.5041 - val_loss: 1979.0659\n",
      "Epoch 205/500\n",
      "23/23 [==============================] - 0s 9ms/step - loss: 308.4886 - val_loss: 1980.0568\n",
      "Epoch 206/500\n",
      "23/23 [==============================] - 0s 9ms/step - loss: 308.4745 - val_loss: 1981.0034\n",
      "Epoch 207/500\n",
      "23/23 [==============================] - 0s 8ms/step - loss: 308.4617 - val_loss: 1981.9059\n",
      "Epoch 208/500\n",
      "23/23 [==============================] - 0s 8ms/step - loss: 308.4501 - val_loss: 1982.7681\n",
      "Epoch 209/500\n",
      "23/23 [==============================] - 0s 8ms/step - loss: 308.4395 - val_loss: 1983.5906\n",
      "Epoch 210/500\n",
      "23/23 [==============================] - 0s 8ms/step - loss: 308.4298 - val_loss: 1984.3739\n",
      "Epoch 211/500\n",
      "23/23 [==============================] - 0s 8ms/step - loss: 308.4211 - val_loss: 1985.1217\n",
      "Epoch 212/500\n",
      "23/23 [==============================] - 0s 9ms/step - loss: 308.4132 - val_loss: 1985.8337\n",
      "Epoch 213/500\n",
      "23/23 [==============================] - 0s 8ms/step - loss: 308.4061 - val_loss: 1986.5116\n",
      "Epoch 214/500\n",
      "23/23 [==============================] - 0s 8ms/step - loss: 308.3996 - val_loss: 1987.1561\n",
      "Epoch 215/500\n",
      "23/23 [==============================] - 0s 8ms/step - loss: 308.3939 - val_loss: 1987.7714\n",
      "Epoch 216/500\n",
      "23/23 [==============================] - 0s 8ms/step - loss: 308.3886 - val_loss: 1988.3560\n",
      "Epoch 217/500\n",
      "23/23 [==============================] - 0s 8ms/step - loss: 308.3839 - val_loss: 1988.9119\n",
      "Epoch 218/500\n",
      "23/23 [==============================] - 0s 8ms/step - loss: 308.3796 - val_loss: 1989.4399\n",
      "Epoch 219/500\n",
      "23/23 [==============================] - 0s 14ms/step - loss: 308.3759 - val_loss: 1989.9413\n",
      "Epoch 220/500\n",
      "23/23 [==============================] - 0s 14ms/step - loss: 308.3724 - val_loss: 1990.4189\n",
      "Epoch 221/500\n",
      "23/23 [==============================] - 0s 16ms/step - loss: 308.3693 - val_loss: 1990.8716\n",
      "Epoch 222/500\n",
      "23/23 [==============================] - 0s 8ms/step - loss: 308.3667 - val_loss: 1991.3025\n",
      "Epoch 223/500\n",
      "23/23 [==============================] - 0s 9ms/step - loss: 308.3643 - val_loss: 1991.7097\n",
      "Epoch 224/500\n",
      "23/23 [==============================] - 0s 8ms/step - loss: 308.3622 - val_loss: 1992.0972\n",
      "Epoch 225/500\n",
      "23/23 [==============================] - 0s 8ms/step - loss: 308.3603 - val_loss: 1992.4635\n",
      "Epoch 226/500\n",
      "23/23 [==============================] - 0s 8ms/step - loss: 308.3587 - val_loss: 1992.8108\n",
      "Epoch 227/500\n",
      "23/23 [==============================] - 0s 8ms/step - loss: 308.3573 - val_loss: 1993.1411\n",
      "Epoch 228/500\n",
      "23/23 [==============================] - 0s 9ms/step - loss: 308.3561 - val_loss: 1993.4531\n",
      "Epoch 229/500\n",
      "23/23 [==============================] - 0s 9ms/step - loss: 308.3550 - val_loss: 1993.7487\n",
      "Epoch 230/500\n",
      "23/23 [==============================] - 0s 7ms/step - loss: 308.3542 - val_loss: 1994.0283\n",
      "Epoch 231/500\n",
      "23/23 [==============================] - 0s 7ms/step - loss: 308.3534 - val_loss: 1994.2924\n",
      "Epoch 232/500\n",
      "23/23 [==============================] - 0s 7ms/step - loss: 308.3528 - val_loss: 1994.5432\n",
      "Epoch 233/500\n",
      "23/23 [==============================] - 0s 8ms/step - loss: 308.3523 - val_loss: 1994.7799\n",
      "Epoch 234/500\n",
      "23/23 [==============================] - 0s 8ms/step - loss: 308.3520 - val_loss: 1995.0032\n",
      "Epoch 235/500\n",
      "23/23 [==============================] - 0s 9ms/step - loss: 308.3517 - val_loss: 1995.2147\n",
      "Epoch 236/500\n",
      "23/23 [==============================] - 0s 8ms/step - loss: 308.3515 - val_loss: 1995.4141\n",
      "Epoch 237/500\n",
      "23/23 [==============================] - 0s 9ms/step - loss: 308.3514 - val_loss: 1995.6027\n",
      "Epoch 238/500\n",
      "23/23 [==============================] - 0s 9ms/step - loss: 308.3514 - val_loss: 1995.7808\n",
      "Epoch 239/500\n",
      "23/23 [==============================] - 0s 7ms/step - loss: 308.3516 - val_loss: 1995.9498\n",
      "Epoch 240/500\n",
      "23/23 [==============================] - 0s 7ms/step - loss: 308.3516 - val_loss: 1996.1078\n",
      "Epoch 241/500\n",
      "23/23 [==============================] - 0s 7ms/step - loss: 308.3519 - val_loss: 1996.2578\n",
      "Epoch 242/500\n",
      "23/23 [==============================] - 0s 11ms/step - loss: 308.3521 - val_loss: 1996.4000\n",
      "Epoch 243/500\n",
      "23/23 [==============================] - 0s 14ms/step - loss: 308.3524 - val_loss: 1996.5332\n",
      "Epoch 244/500\n",
      "23/23 [==============================] - 0s 7ms/step - loss: 308.3527 - val_loss: 1996.6580\n",
      "Epoch 245/500\n",
      "23/23 [==============================] - 0s 6ms/step - loss: 308.3531 - val_loss: 1996.7764\n",
      "Epoch 246/500\n",
      "23/23 [==============================] - 0s 5ms/step - loss: 308.3534 - val_loss: 1996.8882\n",
      "Epoch 247/500\n",
      "23/23 [==============================] - 0s 7ms/step - loss: 308.3539 - val_loss: 1996.9941\n",
      "Epoch 248/500\n",
      "23/23 [==============================] - 0s 7ms/step - loss: 308.3543 - val_loss: 1997.0913\n",
      "Epoch 249/500\n",
      "23/23 [==============================] - 0s 6ms/step - loss: 308.3548 - val_loss: 1997.1849\n",
      "Epoch 250/500\n",
      "23/23 [==============================] - 0s 6ms/step - loss: 308.3553 - val_loss: 1997.2719\n",
      "Epoch 251/500\n",
      "23/23 [==============================] - 0s 6ms/step - loss: 308.3557 - val_loss: 1997.3535\n",
      "Epoch 252/500\n",
      "23/23 [==============================] - 0s 6ms/step - loss: 308.3564 - val_loss: 1997.4308\n",
      "Epoch 253/500\n",
      "23/23 [==============================] - 0s 6ms/step - loss: 308.3568 - val_loss: 1997.5032\n",
      "Epoch 254/500\n",
      "23/23 [==============================] - 0s 8ms/step - loss: 308.3575 - val_loss: 1997.5712\n",
      "Epoch 255/500\n",
      "23/23 [==============================] - 0s 6ms/step - loss: 308.3581 - val_loss: 1997.6361\n",
      "Epoch 256/500\n",
      "23/23 [==============================] - 0s 6ms/step - loss: 308.3586 - val_loss: 1997.6960\n",
      "Epoch 257/500\n",
      "23/23 [==============================] - 0s 6ms/step - loss: 308.3593 - val_loss: 1997.7513\n",
      "Epoch 258/500\n",
      "23/23 [==============================] - 0s 6ms/step - loss: 308.3599 - val_loss: 1997.8043\n",
      "Epoch 259/500\n",
      "23/23 [==============================] - 0s 8ms/step - loss: 308.3604 - val_loss: 1997.8535\n",
      "Epoch 260/500\n",
      "23/23 [==============================] - 0s 6ms/step - loss: 308.3610 - val_loss: 1997.9000\n",
      "Epoch 261/500\n",
      "23/23 [==============================] - 0s 6ms/step - loss: 308.3617 - val_loss: 1997.9434\n",
      "Epoch 262/500\n",
      "23/23 [==============================] - 0s 8ms/step - loss: 308.3624 - val_loss: 1997.9847\n",
      "Epoch 263/500\n",
      "23/23 [==============================] - 0s 7ms/step - loss: 308.3629 - val_loss: 1998.0233\n",
      "Epoch 264/500\n",
      "23/23 [==============================] - 0s 11ms/step - loss: 308.3635 - val_loss: 1998.0601\n",
      "Epoch 265/500\n",
      "23/23 [==============================] - 0s 7ms/step - loss: 308.3642 - val_loss: 1998.0939\n",
      "Epoch 266/500\n",
      "23/23 [==============================] - 0s 7ms/step - loss: 308.3647 - val_loss: 1998.1239\n",
      "Epoch 267/500\n",
      "23/23 [==============================] - 0s 10ms/step - loss: 308.3654 - val_loss: 1998.1531\n",
      "Epoch 268/500\n",
      "23/23 [==============================] - 1s 23ms/step - loss: 308.3660 - val_loss: 1998.1804\n",
      "Epoch 269/500\n",
      "23/23 [==============================] - 0s 7ms/step - loss: 308.3666 - val_loss: 1998.2063\n",
      "Epoch 270/500\n",
      "23/23 [==============================] - 0s 7ms/step - loss: 308.3672 - val_loss: 1998.2302\n",
      "Epoch 271/500\n",
      "23/23 [==============================] - 0s 7ms/step - loss: 308.3679 - val_loss: 1998.2534\n",
      "Epoch 272/500\n",
      "23/23 [==============================] - 0s 6ms/step - loss: 308.3684 - val_loss: 1998.2738\n",
      "Epoch 273/500\n",
      "23/23 [==============================] - 0s 6ms/step - loss: 308.3690 - val_loss: 1998.2932\n",
      "Epoch 274/500\n",
      "23/23 [==============================] - 0s 6ms/step - loss: 308.3697 - val_loss: 1998.3132\n",
      "Epoch 275/500\n",
      "23/23 [==============================] - 0s 6ms/step - loss: 308.3702 - val_loss: 1998.3298\n",
      "Epoch 276/500\n",
      "23/23 [==============================] - 0s 6ms/step - loss: 308.3708 - val_loss: 1998.3455\n",
      "Epoch 277/500\n",
      "23/23 [==============================] - 0s 6ms/step - loss: 308.3714 - val_loss: 1998.3602\n",
      "Epoch 278/500\n",
      "23/23 [==============================] - 0s 6ms/step - loss: 308.3719 - val_loss: 1998.3733\n",
      "Epoch 279/500\n",
      "23/23 [==============================] - 0s 6ms/step - loss: 308.3725 - val_loss: 1998.3865\n",
      "Epoch 280/500\n",
      "23/23 [==============================] - 0s 7ms/step - loss: 308.3731 - val_loss: 1998.3977\n",
      "Epoch 281/500\n",
      "23/23 [==============================] - 0s 8ms/step - loss: 308.3736 - val_loss: 1998.4095\n",
      "Epoch 282/500\n",
      "23/23 [==============================] - 0s 8ms/step - loss: 308.3742 - val_loss: 1998.4194\n",
      "Epoch 283/500\n",
      "23/23 [==============================] - 0s 6ms/step - loss: 308.3747 - val_loss: 1998.4296\n",
      "Epoch 284/500\n",
      "23/23 [==============================] - 0s 6ms/step - loss: 308.3752 - val_loss: 1998.4386\n",
      "Epoch 285/500\n",
      "23/23 [==============================] - 0s 6ms/step - loss: 308.3757 - val_loss: 1998.4473\n",
      "Epoch 286/500\n",
      "23/23 [==============================] - 0s 7ms/step - loss: 308.3762 - val_loss: 1998.4545\n",
      "Epoch 287/500\n",
      "23/23 [==============================] - 0s 6ms/step - loss: 308.3767 - val_loss: 1998.4622\n",
      "Epoch 288/500\n",
      "23/23 [==============================] - 0s 6ms/step - loss: 308.3772 - val_loss: 1998.4683\n",
      "Epoch 289/500\n",
      "23/23 [==============================] - 0s 6ms/step - loss: 308.3777 - val_loss: 1998.4740\n",
      "Epoch 290/500\n",
      "23/23 [==============================] - 0s 7ms/step - loss: 308.3783 - val_loss: 1998.4788\n",
      "Epoch 291/500\n",
      "23/23 [==============================] - 0s 7ms/step - loss: 308.3788 - val_loss: 1998.4855\n",
      "Epoch 292/500\n",
      "23/23 [==============================] - 0s 14ms/step - loss: 308.3792 - val_loss: 1998.4902\n",
      "Epoch 293/500\n",
      "23/23 [==============================] - 1s 23ms/step - loss: 308.3796 - val_loss: 1998.4944\n",
      "Epoch 294/500\n",
      "23/23 [==============================] - 0s 9ms/step - loss: 308.3802 - val_loss: 1998.4991\n",
      "Epoch 295/500\n",
      "23/23 [==============================] - 0s 8ms/step - loss: 308.3806 - val_loss: 1998.5024\n",
      "Epoch 296/500\n",
      "23/23 [==============================] - 0s 8ms/step - loss: 308.3810 - val_loss: 1998.5066\n",
      "Epoch 297/500\n",
      "23/23 [==============================] - 0s 8ms/step - loss: 308.3814 - val_loss: 1998.5106\n",
      "Epoch 298/500\n",
      "23/23 [==============================] - 0s 7ms/step - loss: 308.3819 - val_loss: 1998.5132\n",
      "Epoch 299/500\n",
      "23/23 [==============================] - 0s 7ms/step - loss: 308.3823 - val_loss: 1998.5155\n",
      "Epoch 300/500\n",
      "23/23 [==============================] - 0s 7ms/step - loss: 308.3827 - val_loss: 1998.5184\n",
      "Epoch 301/500\n",
      "23/23 [==============================] - 0s 7ms/step - loss: 308.3831 - val_loss: 1998.5198\n",
      "Epoch 302/500\n",
      "23/23 [==============================] - 0s 8ms/step - loss: 308.3835 - val_loss: 1998.5219\n",
      "Epoch 303/500\n",
      "23/23 [==============================] - 0s 7ms/step - loss: 308.3839 - val_loss: 1998.5238\n",
      "Epoch 304/500\n",
      "23/23 [==============================] - 0s 7ms/step - loss: 308.3842 - val_loss: 1998.5256\n",
      "Epoch 305/500\n",
      "23/23 [==============================] - 0s 7ms/step - loss: 308.3846 - val_loss: 1998.5262\n",
      "Epoch 306/500\n",
      "23/23 [==============================] - 0s 7ms/step - loss: 308.3851 - val_loss: 1998.5281\n",
      "Epoch 307/500\n",
      "23/23 [==============================] - 0s 6ms/step - loss: 308.3854 - val_loss: 1998.5293\n",
      "Epoch 308/500\n",
      "23/23 [==============================] - 0s 7ms/step - loss: 308.3857 - val_loss: 1998.5305\n",
      "Epoch 309/500\n",
      "23/23 [==============================] - 0s 7ms/step - loss: 308.3861 - val_loss: 1998.5325\n",
      "Epoch 310/500\n",
      "23/23 [==============================] - 0s 7ms/step - loss: 308.3864 - val_loss: 1998.5326\n",
      "Epoch 311/500\n",
      "23/23 [==============================] - 0s 7ms/step - loss: 308.3869 - val_loss: 1998.5333\n",
      "Epoch 312/500\n",
      "23/23 [==============================] - 0s 8ms/step - loss: 308.3871 - val_loss: 1998.5338\n",
      "Epoch 313/500\n",
      "23/23 [==============================] - 0s 8ms/step - loss: 308.3874 - val_loss: 1998.5350\n",
      "Epoch 314/500\n",
      "23/23 [==============================] - 0s 15ms/step - loss: 308.3878 - val_loss: 1998.5374\n",
      "Epoch 315/500\n",
      "23/23 [==============================] - 0s 10ms/step - loss: 308.3880 - val_loss: 1998.5380\n",
      "Epoch 316/500\n",
      "23/23 [==============================] - 0s 7ms/step - loss: 308.3884 - val_loss: 1998.5387\n",
      "Epoch 317/500\n",
      "23/23 [==============================] - 0s 7ms/step - loss: 308.3886 - val_loss: 1998.5387\n",
      "Epoch 318/500\n",
      "23/23 [==============================] - 0s 8ms/step - loss: 308.3889 - val_loss: 1998.5382\n",
      "Epoch 319/500\n",
      "23/23 [==============================] - 0s 8ms/step - loss: 308.3893 - val_loss: 1998.5387\n",
      "Epoch 320/500\n",
      "23/23 [==============================] - 0s 8ms/step - loss: 308.3895 - val_loss: 1998.5391\n",
      "Epoch 321/500\n",
      "23/23 [==============================] - 0s 7ms/step - loss: 308.3897 - val_loss: 1998.5387\n",
      "Epoch 322/500\n",
      "23/23 [==============================] - 0s 6ms/step - loss: 308.3901 - val_loss: 1998.5386\n",
      "Epoch 323/500\n",
      "23/23 [==============================] - 0s 5ms/step - loss: 308.3904 - val_loss: 1998.5382\n",
      "Epoch 324/500\n",
      "23/23 [==============================] - 0s 5ms/step - loss: 308.3906 - val_loss: 1998.5380\n",
      "Epoch 325/500\n",
      "23/23 [==============================] - 0s 6ms/step - loss: 308.3909 - val_loss: 1998.5386\n",
      "Epoch 326/500\n",
      "23/23 [==============================] - 0s 7ms/step - loss: 308.3911 - val_loss: 1998.5383\n",
      "Epoch 327/500\n",
      "23/23 [==============================] - 0s 7ms/step - loss: 308.3914 - val_loss: 1998.5389\n",
      "Epoch 328/500\n",
      "23/23 [==============================] - 0s 7ms/step - loss: 308.3915 - val_loss: 1998.5383\n",
      "Epoch 329/500\n",
      "23/23 [==============================] - 0s 7ms/step - loss: 308.3919 - val_loss: 1998.5383\n",
      "Epoch 330/500\n",
      "23/23 [==============================] - 0s 15ms/step - loss: 308.3920 - val_loss: 1998.5377\n",
      "Epoch 331/500\n",
      "23/23 [==============================] - 0s 8ms/step - loss: 308.3924 - val_loss: 1998.5380\n",
      "Epoch 332/500\n",
      "23/23 [==============================] - 0s 6ms/step - loss: 308.3925 - val_loss: 1998.5371\n",
      "Epoch 333/500\n",
      "23/23 [==============================] - 0s 6ms/step - loss: 308.3928 - val_loss: 1998.5374\n",
      "Epoch 334/500\n",
      "23/23 [==============================] - 0s 6ms/step - loss: 308.3929 - val_loss: 1998.5369\n",
      "Epoch 335/500\n",
      "23/23 [==============================] - 0s 6ms/step - loss: 308.3932 - val_loss: 1998.5371\n",
      "Epoch 336/500\n",
      "23/23 [==============================] - 0s 6ms/step - loss: 308.3932 - val_loss: 1998.5358\n",
      "Epoch 337/500\n",
      "23/23 [==============================] - 0s 6ms/step - loss: 308.3936 - val_loss: 1998.5363\n",
      "Epoch 338/500\n",
      "23/23 [==============================] - 0s 6ms/step - loss: 308.3937 - val_loss: 1998.5359\n",
      "Epoch 339/500\n",
      "23/23 [==============================] - 0s 5ms/step - loss: 308.3940 - val_loss: 1998.5361\n",
      "Epoch 340/500\n",
      "23/23 [==============================] - 0s 5ms/step - loss: 308.3941 - val_loss: 1998.5361\n",
      "Epoch 341/500\n",
      "23/23 [==============================] - 0s 5ms/step - loss: 308.3943 - val_loss: 1998.5347\n",
      "Epoch 342/500\n",
      "23/23 [==============================] - 0s 5ms/step - loss: 308.3945 - val_loss: 1998.5349\n",
      "Epoch 343/500\n",
      "23/23 [==============================] - 0s 5ms/step - loss: 308.3947 - val_loss: 1998.5354\n",
      "Epoch 344/500\n",
      "23/23 [==============================] - 0s 5ms/step - loss: 308.3948 - val_loss: 1998.5344\n",
      "Epoch 345/500\n",
      "23/23 [==============================] - 0s 6ms/step - loss: 308.3950 - val_loss: 1998.5341\n",
      "Epoch 346/500\n",
      "23/23 [==============================] - 0s 5ms/step - loss: 308.3952 - val_loss: 1998.5337\n",
      "Epoch 347/500\n",
      "23/23 [==============================] - 0s 5ms/step - loss: 308.3954 - val_loss: 1998.5337\n",
      "Epoch 348/500\n",
      "23/23 [==============================] - 0s 5ms/step - loss: 308.3955 - val_loss: 1998.5337\n",
      "Epoch 349/500\n",
      "23/23 [==============================] - 0s 5ms/step - loss: 308.3957 - val_loss: 1998.5333\n",
      "Epoch 350/500\n",
      "23/23 [==============================] - 0s 6ms/step - loss: 308.3958 - val_loss: 1998.5337\n",
      "Epoch 351/500\n",
      "23/23 [==============================] - 0s 6ms/step - loss: 308.3959 - val_loss: 1998.5328\n",
      "Epoch 352/500\n",
      "23/23 [==============================] - 0s 7ms/step - loss: 308.3962 - val_loss: 1998.5328\n",
      "Epoch 353/500\n",
      "23/23 [==============================] - 0s 6ms/step - loss: 308.3962 - val_loss: 1998.5326\n",
      "Epoch 354/500\n",
      "23/23 [==============================] - 0s 6ms/step - loss: 308.3964 - val_loss: 1998.5321\n",
      "Epoch 355/500\n",
      "23/23 [==============================] - 0s 6ms/step - loss: 308.3965 - val_loss: 1998.5321\n",
      "Epoch 356/500\n",
      "23/23 [==============================] - 0s 6ms/step - loss: 308.3966 - val_loss: 1998.5316\n",
      "Epoch 357/500\n",
      "23/23 [==============================] - 0s 6ms/step - loss: 308.3968 - val_loss: 1998.5308\n",
      "Epoch 358/500\n",
      "23/23 [==============================] - 0s 5ms/step - loss: 308.3970 - val_loss: 1998.5316\n",
      "Epoch 359/500\n",
      "23/23 [==============================] - 0s 5ms/step - loss: 308.3970 - val_loss: 1998.5314\n",
      "Epoch 360/500\n",
      "23/23 [==============================] - 0s 5ms/step - loss: 308.3971 - val_loss: 1998.5309\n",
      "Epoch 361/500\n",
      "23/23 [==============================] - 0s 5ms/step - loss: 308.3973 - val_loss: 1998.5308\n",
      "Epoch 362/500\n",
      "23/23 [==============================] - 0s 5ms/step - loss: 308.3974 - val_loss: 1998.5308\n",
      "Epoch 363/500\n",
      "23/23 [==============================] - 0s 6ms/step - loss: 308.3975 - val_loss: 1998.5302\n",
      "Epoch 364/500\n",
      "23/23 [==============================] - 0s 6ms/step - loss: 308.3976 - val_loss: 1998.5305\n",
      "Epoch 365/500\n",
      "23/23 [==============================] - 0s 6ms/step - loss: 308.3976 - val_loss: 1998.5291\n",
      "Epoch 366/500\n",
      "23/23 [==============================] - 0s 6ms/step - loss: 308.3977 - val_loss: 1998.5283\n",
      "Epoch 367/500\n",
      "23/23 [==============================] - 0s 6ms/step - loss: 308.3979 - val_loss: 1998.5284\n",
      "Epoch 368/500\n",
      "23/23 [==============================] - 0s 6ms/step - loss: 308.3980 - val_loss: 1998.5280\n",
      "Epoch 369/500\n",
      "23/23 [==============================] - 0s 6ms/step - loss: 308.3980 - val_loss: 1998.5267\n",
      "Epoch 370/500\n",
      "23/23 [==============================] - 0s 5ms/step - loss: 308.3981 - val_loss: 1998.5259\n",
      "Epoch 371/500\n",
      "23/23 [==============================] - 0s 5ms/step - loss: 308.3983 - val_loss: 1998.5260\n",
      "Epoch 372/500\n",
      "23/23 [==============================] - 0s 5ms/step - loss: 308.3986 - val_loss: 1998.5267\n",
      "Epoch 373/500\n",
      "23/23 [==============================] - 0s 5ms/step - loss: 308.3985 - val_loss: 1998.5260\n",
      "Epoch 374/500\n",
      "23/23 [==============================] - 0s 5ms/step - loss: 308.3985 - val_loss: 1998.5254\n",
      "Epoch 375/500\n",
      "23/23 [==============================] - 0s 5ms/step - loss: 308.3986 - val_loss: 1998.5247\n",
      "Epoch 376/500\n",
      "23/23 [==============================] - 0s 6ms/step - loss: 308.3988 - val_loss: 1998.5248\n",
      "Epoch 377/500\n",
      "23/23 [==============================] - 0s 6ms/step - loss: 308.3989 - val_loss: 1998.5247\n",
      "Epoch 378/500\n",
      "23/23 [==============================] - 0s 6ms/step - loss: 308.3989 - val_loss: 1998.5245\n",
      "Epoch 379/500\n",
      "23/23 [==============================] - 0s 5ms/step - loss: 308.3989 - val_loss: 1998.5236\n",
      "Epoch 380/500\n",
      "23/23 [==============================] - 0s 6ms/step - loss: 308.3990 - val_loss: 1998.5227\n",
      "Epoch 381/500\n",
      "23/23 [==============================] - 0s 12ms/step - loss: 308.3991 - val_loss: 1998.5227\n",
      "Epoch 382/500\n",
      "23/23 [==============================] - 0s 7ms/step - loss: 308.3991 - val_loss: 1998.5222\n",
      "Epoch 383/500\n",
      "23/23 [==============================] - 0s 6ms/step - loss: 308.3992 - val_loss: 1998.5217\n",
      "Epoch 384/500\n",
      "23/23 [==============================] - 0s 6ms/step - loss: 308.3992 - val_loss: 1998.5203\n",
      "Epoch 385/500\n",
      "23/23 [==============================] - 0s 6ms/step - loss: 308.3994 - val_loss: 1998.5203\n",
      "Epoch 386/500\n",
      "23/23 [==============================] - 0s 6ms/step - loss: 308.3995 - val_loss: 1998.5201\n",
      "Epoch 387/500\n",
      "23/23 [==============================] - 0s 6ms/step - loss: 308.3996 - val_loss: 1998.5203\n",
      "Epoch 388/500\n",
      "23/23 [==============================] - 0s 6ms/step - loss: 308.3996 - val_loss: 1998.5198\n",
      "Epoch 389/500\n",
      "23/23 [==============================] - 0s 5ms/step - loss: 308.3997 - val_loss: 1998.5194\n",
      "Epoch 390/500\n",
      "23/23 [==============================] - 0s 5ms/step - loss: 308.3997 - val_loss: 1998.5188\n",
      "Epoch 391/500\n",
      "23/23 [==============================] - 0s 5ms/step - loss: 308.3998 - val_loss: 1998.5186\n",
      "Epoch 392/500\n",
      "23/23 [==============================] - 0s 5ms/step - loss: 308.3999 - val_loss: 1998.5184\n",
      "Epoch 393/500\n",
      "23/23 [==============================] - 0s 5ms/step - loss: 308.3999 - val_loss: 1998.5188\n",
      "Epoch 394/500\n",
      "23/23 [==============================] - 0s 5ms/step - loss: 308.4000 - val_loss: 1998.5189\n",
      "Epoch 395/500\n",
      "23/23 [==============================] - 0s 5ms/step - loss: 308.4000 - val_loss: 1998.5194\n",
      "Epoch 396/500\n",
      "23/23 [==============================] - 0s 5ms/step - loss: 308.3999 - val_loss: 1998.5182\n",
      "Epoch 397/500\n",
      "23/23 [==============================] - 0s 5ms/step - loss: 308.4001 - val_loss: 1998.5173\n",
      "Epoch 398/500\n",
      "23/23 [==============================] - 0s 5ms/step - loss: 308.4002 - val_loss: 1998.5167\n",
      "Epoch 399/500\n",
      "23/23 [==============================] - 0s 5ms/step - loss: 308.4003 - val_loss: 1998.5168\n",
      "Epoch 400/500\n",
      "23/23 [==============================] - 0s 5ms/step - loss: 308.4004 - val_loss: 1998.5170\n",
      "Epoch 401/500\n",
      "23/23 [==============================] - 0s 5ms/step - loss: 308.4004 - val_loss: 1998.5167\n",
      "Epoch 402/500\n",
      "23/23 [==============================] - 0s 5ms/step - loss: 308.4005 - val_loss: 1998.5170\n",
      "Epoch 403/500\n",
      "23/23 [==============================] - 0s 5ms/step - loss: 308.4005 - val_loss: 1998.5168\n",
      "Epoch 404/500\n",
      "23/23 [==============================] - 0s 5ms/step - loss: 308.4005 - val_loss: 1998.5164\n",
      "Epoch 405/500\n",
      "23/23 [==============================] - 0s 5ms/step - loss: 308.4006 - val_loss: 1998.5164\n",
      "Epoch 406/500\n",
      "23/23 [==============================] - 0s 13ms/step - loss: 308.4006 - val_loss: 1998.5165\n",
      "Epoch 407/500\n",
      "23/23 [==============================] - 0s 7ms/step - loss: 308.4006 - val_loss: 1998.5161\n",
      "Epoch 408/500\n",
      "23/23 [==============================] - 0s 6ms/step - loss: 308.4007 - val_loss: 1998.5156\n",
      "Epoch 409/500\n",
      "23/23 [==============================] - 0s 5ms/step - loss: 308.4007 - val_loss: 1998.5151\n",
      "Epoch 410/500\n",
      "23/23 [==============================] - 0s 5ms/step - loss: 308.4008 - val_loss: 1998.5153\n",
      "Epoch 411/500\n",
      "23/23 [==============================] - 0s 5ms/step - loss: 308.4008 - val_loss: 1998.5149\n",
      "Epoch 412/500\n",
      "23/23 [==============================] - 0s 5ms/step - loss: 308.4008 - val_loss: 1998.5143\n",
      "Epoch 413/500\n",
      "23/23 [==============================] - 0s 5ms/step - loss: 308.4008 - val_loss: 1998.5132\n",
      "Epoch 414/500\n",
      "23/23 [==============================] - 0s 5ms/step - loss: 308.4009 - val_loss: 1998.5128\n",
      "Epoch 415/500\n",
      "23/23 [==============================] - 0s 5ms/step - loss: 308.4009 - val_loss: 1998.5123\n",
      "Epoch 416/500\n",
      "23/23 [==============================] - 0s 5ms/step - loss: 308.4009 - val_loss: 1998.5116\n",
      "Epoch 417/500\n",
      "23/23 [==============================] - 0s 5ms/step - loss: 308.4010 - val_loss: 1998.5110\n",
      "Epoch 418/500\n",
      "23/23 [==============================] - 0s 5ms/step - loss: 308.4010 - val_loss: 1998.5099\n",
      "Epoch 419/500\n",
      "23/23 [==============================] - 0s 5ms/step - loss: 308.4011 - val_loss: 1998.5092\n",
      "Epoch 420/500\n",
      "23/23 [==============================] - 0s 5ms/step - loss: 308.4010 - val_loss: 1998.5085\n",
      "Epoch 421/500\n",
      "23/23 [==============================] - 0s 5ms/step - loss: 308.4011 - val_loss: 1998.5082\n",
      "Epoch 422/500\n",
      "23/23 [==============================] - 0s 5ms/step - loss: 308.4012 - val_loss: 1998.5087\n",
      "Epoch 423/500\n",
      "23/23 [==============================] - 0s 5ms/step - loss: 308.4012 - val_loss: 1998.5092\n",
      "Epoch 424/500\n",
      "23/23 [==============================] - 0s 5ms/step - loss: 308.4013 - val_loss: 1998.5095\n",
      "Epoch 425/500\n",
      "23/23 [==============================] - 0s 6ms/step - loss: 308.4012 - val_loss: 1998.5095\n",
      "Epoch 426/500\n",
      "23/23 [==============================] - 0s 6ms/step - loss: 308.4013 - val_loss: 1998.5107\n",
      "Epoch 427/500\n",
      "23/23 [==============================] - 0s 5ms/step - loss: 308.4013 - val_loss: 1998.5107\n",
      "Epoch 428/500\n",
      "23/23 [==============================] - 0s 5ms/step - loss: 308.4014 - val_loss: 1998.5115\n",
      "Epoch 429/500\n",
      "23/23 [==============================] - 0s 12ms/step - loss: 308.4013 - val_loss: 1998.5111\n",
      "Epoch 430/500\n",
      "23/23 [==============================] - 0s 7ms/step - loss: 308.4014 - val_loss: 1998.5118\n",
      "Epoch 431/500\n",
      "23/23 [==============================] - 0s 6ms/step - loss: 308.4013 - val_loss: 1998.5120\n",
      "Epoch 432/500\n",
      "23/23 [==============================] - 0s 5ms/step - loss: 308.4014 - val_loss: 1998.5116\n",
      "Epoch 433/500\n",
      "23/23 [==============================] - 0s 6ms/step - loss: 308.4014 - val_loss: 1998.5104\n",
      "Epoch 434/500\n",
      "23/23 [==============================] - 0s 5ms/step - loss: 308.4014 - val_loss: 1998.5094\n",
      "Epoch 435/500\n",
      "23/23 [==============================] - 0s 5ms/step - loss: 308.4013 - val_loss: 1998.5083\n",
      "Epoch 436/500\n",
      "23/23 [==============================] - 0s 5ms/step - loss: 308.4014 - val_loss: 1998.5070\n",
      "Epoch 437/500\n",
      "23/23 [==============================] - 0s 5ms/step - loss: 308.4015 - val_loss: 1998.5065\n",
      "Epoch 438/500\n",
      "23/23 [==============================] - 0s 5ms/step - loss: 308.4015 - val_loss: 1998.5059\n",
      "Epoch 439/500\n",
      "23/23 [==============================] - 0s 5ms/step - loss: 308.4014 - val_loss: 1998.5056\n",
      "Epoch 440/500\n",
      "23/23 [==============================] - 0s 5ms/step - loss: 308.4015 - val_loss: 1998.5046\n",
      "Epoch 441/500\n",
      "23/23 [==============================] - 0s 5ms/step - loss: 308.4016 - val_loss: 1998.5045\n",
      "Epoch 442/500\n",
      "23/23 [==============================] - 0s 5ms/step - loss: 308.4016 - val_loss: 1998.5044\n",
      "Epoch 443/500\n",
      "23/23 [==============================] - 0s 5ms/step - loss: 308.4017 - val_loss: 1998.5045\n",
      "Epoch 444/500\n",
      "23/23 [==============================] - 0s 8ms/step - loss: 308.4017 - val_loss: 1998.5052\n",
      "Epoch 445/500\n",
      "23/23 [==============================] - 0s 6ms/step - loss: 308.4017 - val_loss: 1998.5057\n",
      "Epoch 446/500\n",
      "23/23 [==============================] - 0s 5ms/step - loss: 308.4017 - val_loss: 1998.5062\n",
      "Epoch 447/500\n",
      "23/23 [==============================] - 0s 6ms/step - loss: 308.4017 - val_loss: 1998.5061\n",
      "Epoch 448/500\n",
      "23/23 [==============================] - 0s 5ms/step - loss: 308.4018 - val_loss: 1998.5071\n",
      "Epoch 449/500\n",
      "23/23 [==============================] - 0s 5ms/step - loss: 308.4018 - val_loss: 1998.5073\n",
      "Epoch 450/500\n",
      "23/23 [==============================] - 0s 5ms/step - loss: 308.4017 - val_loss: 1998.5070\n",
      "Epoch 451/500\n",
      "23/23 [==============================] - 0s 5ms/step - loss: 308.4018 - val_loss: 1998.5059\n",
      "Epoch 452/500\n",
      "23/23 [==============================] - 0s 12ms/step - loss: 308.4018 - val_loss: 1998.5050\n",
      "Epoch 453/500\n",
      "23/23 [==============================] - 0s 6ms/step - loss: 308.4017 - val_loss: 1998.5049\n",
      "Epoch 454/500\n",
      "23/23 [==============================] - 0s 6ms/step - loss: 308.4018 - val_loss: 1998.5042\n",
      "Epoch 455/500\n",
      "23/23 [==============================] - 0s 6ms/step - loss: 308.4017 - val_loss: 1998.5028\n",
      "Epoch 456/500\n",
      "23/23 [==============================] - 0s 6ms/step - loss: 308.4017 - val_loss: 1998.5013\n",
      "Epoch 457/500\n",
      "23/23 [==============================] - 0s 5ms/step - loss: 308.4017 - val_loss: 1998.5009\n",
      "Epoch 458/500\n",
      "23/23 [==============================] - 0s 5ms/step - loss: 308.4017 - val_loss: 1998.4988\n",
      "Epoch 459/500\n",
      "23/23 [==============================] - 0s 5ms/step - loss: 308.4018 - val_loss: 1998.4983\n",
      "Epoch 460/500\n",
      "23/23 [==============================] - 0s 6ms/step - loss: 308.4018 - val_loss: 1998.4979\n",
      "Epoch 461/500\n",
      "23/23 [==============================] - 0s 5ms/step - loss: 308.4018 - val_loss: 1998.4971\n",
      "Epoch 462/500\n",
      "23/23 [==============================] - 0s 5ms/step - loss: 308.4019 - val_loss: 1998.4966\n",
      "Epoch 463/500\n",
      "23/23 [==============================] - 0s 5ms/step - loss: 308.4019 - val_loss: 1998.4954\n",
      "Epoch 464/500\n",
      "23/23 [==============================] - 0s 5ms/step - loss: 308.4019 - val_loss: 1998.4944\n",
      "Epoch 465/500\n",
      "23/23 [==============================] - 0s 5ms/step - loss: 308.4019 - val_loss: 1998.4934\n",
      "Epoch 466/500\n",
      "23/23 [==============================] - 0s 5ms/step - loss: 308.4019 - val_loss: 1998.4927\n",
      "Epoch 467/500\n",
      "23/23 [==============================] - 0s 5ms/step - loss: 308.4019 - val_loss: 1998.4922\n",
      "Epoch 468/500\n",
      "23/23 [==============================] - 0s 5ms/step - loss: 308.4020 - val_loss: 1998.4918\n",
      "Epoch 469/500\n",
      "23/23 [==============================] - 0s 5ms/step - loss: 308.4020 - val_loss: 1998.4923\n",
      "Epoch 470/500\n",
      "23/23 [==============================] - 0s 5ms/step - loss: 308.4020 - val_loss: 1998.4927\n",
      "Epoch 471/500\n",
      "23/23 [==============================] - 0s 5ms/step - loss: 308.4020 - val_loss: 1998.4933\n",
      "Epoch 472/500\n",
      "23/23 [==============================] - 0s 5ms/step - loss: 308.4021 - val_loss: 1998.4938\n",
      "Epoch 473/500\n",
      "23/23 [==============================] - 0s 5ms/step - loss: 308.4021 - val_loss: 1998.4941\n",
      "Epoch 474/500\n",
      "23/23 [==============================] - 0s 6ms/step - loss: 308.4022 - val_loss: 1998.4951\n",
      "Epoch 475/500\n",
      "23/23 [==============================] - 0s 12ms/step - loss: 308.4022 - val_loss: 1998.4960\n",
      "Epoch 476/500\n",
      "23/23 [==============================] - 0s 6ms/step - loss: 308.4021 - val_loss: 1998.4972\n",
      "Epoch 477/500\n",
      "23/23 [==============================] - 0s 6ms/step - loss: 308.4021 - val_loss: 1998.4972\n",
      "Epoch 478/500\n",
      "23/23 [==============================] - 0s 6ms/step - loss: 308.4021 - val_loss: 1998.4988\n",
      "Epoch 479/500\n",
      "23/23 [==============================] - 0s 6ms/step - loss: 308.4022 - val_loss: 1998.4993\n",
      "Epoch 480/500\n",
      "23/23 [==============================] - 0s 6ms/step - loss: 308.4022 - val_loss: 1998.4996\n",
      "Epoch 481/500\n",
      "23/23 [==============================] - 0s 5ms/step - loss: 308.4022 - val_loss: 1998.5005\n",
      "Epoch 482/500\n",
      "23/23 [==============================] - 0s 6ms/step - loss: 308.4022 - val_loss: 1998.5011\n",
      "Epoch 483/500\n",
      "23/23 [==============================] - 0s 6ms/step - loss: 308.4022 - val_loss: 1998.5017\n",
      "Epoch 484/500\n",
      "23/23 [==============================] - 0s 6ms/step - loss: 308.4022 - val_loss: 1998.5029\n",
      "Epoch 485/500\n",
      "23/23 [==============================] - 0s 6ms/step - loss: 308.4023 - val_loss: 1998.5037\n",
      "Epoch 486/500\n",
      "23/23 [==============================] - 0s 5ms/step - loss: 308.4023 - val_loss: 1998.5049\n",
      "Epoch 487/500\n",
      "23/23 [==============================] - 0s 5ms/step - loss: 308.4022 - val_loss: 1998.5050\n",
      "Epoch 488/500\n",
      "23/23 [==============================] - 0s 5ms/step - loss: 308.4022 - val_loss: 1998.5054\n",
      "Epoch 489/500\n",
      "23/23 [==============================] - 0s 5ms/step - loss: 308.4022 - val_loss: 1998.5062\n",
      "Epoch 490/500\n",
      "23/23 [==============================] - 0s 5ms/step - loss: 308.4023 - val_loss: 1998.5066\n",
      "Epoch 491/500\n",
      "23/23 [==============================] - 0s 5ms/step - loss: 308.4023 - val_loss: 1998.5077\n",
      "Epoch 492/500\n",
      "23/23 [==============================] - 0s 9ms/step - loss: 308.4023 - val_loss: 1998.5077\n",
      "Epoch 493/500\n",
      "23/23 [==============================] - 0s 9ms/step - loss: 308.4022 - val_loss: 1998.5082\n",
      "Epoch 494/500\n",
      "23/23 [==============================] - 0s 7ms/step - loss: 308.4022 - val_loss: 1998.5079\n",
      "Epoch 495/500\n",
      "23/23 [==============================] - 0s 6ms/step - loss: 308.4022 - val_loss: 1998.5079\n",
      "Epoch 496/500\n",
      "23/23 [==============================] - 0s 6ms/step - loss: 308.4022 - val_loss: 1998.5077\n",
      "Epoch 497/500\n",
      "23/23 [==============================] - 0s 11ms/step - loss: 308.4022 - val_loss: 1998.5077\n",
      "Epoch 498/500\n",
      "23/23 [==============================] - 0s 7ms/step - loss: 308.4022 - val_loss: 1998.5074\n",
      "Epoch 499/500\n",
      "23/23 [==============================] - 0s 6ms/step - loss: 308.4022 - val_loss: 1998.5071\n",
      "Epoch 500/500\n",
      "23/23 [==============================] - 0s 6ms/step - loss: 308.4022 - val_loss: 1998.5070\n"
     ]
    }
   ],
   "source": [
    "C0 = tf.Variable(86.6856, name=\"C0\", trainable=True, dtype=tf.float32)\n",
    "K0 = tf.Variable(-0.0008, name=\"K0\", trainable=True, dtype=tf.float32)\n",
    "K1 = tf.Variable(-0.0002, name=\"K1\", trainable=True, dtype=tf.float32)\n",
    "a = tf.Variable(0.0000, name=\"a\", trainable=True, dtype=tf.float32)\n",
    "b = tf.Variable(0.0128, name=\"b\", trainable=True, dtype=tf.float32)\n",
    "c = tf.Variable(-2.3003, name=\"c\", trainable=True, dtype=tf.float32)\n",
    "\n",
    "splitr = 0.8\n",
    "\n",
    "\n",
    "def loss_fn(y_true, y_pred):\n",
    "    squared_difference = tf.square(y_true[:, 0] - y_pred[:, 0])\n",
    "    #squared_difference2 = tf.square(y_true[:, 2]-y_pred[:, 2])\n",
    "    #squared_difference1 = tf.square(y_true[:, 1]-y_pred[:, 1])\n",
    "    epsilon = 1\n",
    "    squared_difference3 = tf.square(\n",
    "        y_pred[:, 1] - (\n",
    "            y_pred[:, 0] * (\n",
    "                K0 - K1 * (\n",
    "                    9 * a * tf.math.log((y_pred[:, 0] + epsilon) / C0) / (K0 - K1 * c)**2 +\n",
    "                    4 * b * tf.math.log((y_pred[:, 0] + epsilon) / C0) / (K0 - K1 * c) + c\n",
    "                )\n",
    "            )\n",
    "        )\n",
    "    )\n",
    "    return tf.reduce_mean(squared_difference, axis=-1) + 0.2*tf.reduce_mean(squared_difference3, axis=-1)\n",
    "model = Sequential()\n",
    "model.add(LSTM(100, input_shape=(trainX.shape[1], trainX.shape[2])))\n",
    "model.add(Dense(60))\n",
    "model.compile(loss=loss_fn, optimizer='adam')\n",
    "history = model.fit(trainX[:int(splitr*trainX.shape[0])], trainy[:int(splitr*trainX.shape[0])], epochs=500, batch_size=64, validation_data=(trainX[int(splitr*trainX.shape[0]):trainX.shape[0]], trainy[int(splitr*trainX.shape[0]):trainX.shape[0]]), shuffle=False)"
   ]
  },
  {
   "cell_type": "code",
   "execution_count": 19,
   "metadata": {
    "colab": {
     "base_uri": "https://localhost:8080/"
    },
    "id": "yJL101rPyuoT",
    "outputId": "239ff2b1-c186-423a-d316-939dfdd7c793"
   },
   "outputs": [
    {
     "name": "stdout",
     "output_type": "stream",
     "text": [
      "1/1 [==============================] - 1s 501ms/step\n"
     ]
    }
   ],
   "source": [
    "forecast_without_mc = forecastX\n",
    "yhat_without_mc = model.predict(forecast_without_mc) # Step Ahead Prediction\n",
    "forecast_without_mc = forecast_without_mc.reshape((forecast_without_mc.shape[0], forecast_without_mc.shape[2])) # Historical Input"
   ]
  },
  {
   "cell_type": "code",
   "execution_count": 20,
   "metadata": {
    "colab": {
     "base_uri": "https://localhost:8080/"
    },
    "id": "g9dQELcJ8wbp",
    "outputId": "4dc7671b-b1a8-48d5-8744-a86f98446109"
   },
   "outputs": [
    {
     "data": {
      "text/plain": [
       "(1, 1, 251)"
      ]
     },
     "execution_count": 20,
     "metadata": {},
     "output_type": "execute_result"
    }
   ],
   "source": [
    "forecastX.shape"
   ]
  },
  {
   "cell_type": "code",
   "execution_count": 21,
   "metadata": {
    "colab": {
     "base_uri": "https://localhost:8080/"
    },
    "id": "IS2kyIKG1Kbr",
    "outputId": "f31b3485-8e26-452f-9298-ea8bf7e80ad1"
   },
   "outputs": [
    {
     "data": {
      "text/plain": [
       "(1, 251)"
      ]
     },
     "execution_count": 21,
     "metadata": {},
     "output_type": "execute_result"
    }
   ],
   "source": [
    "forecast_without_mc.shape"
   ]
  },
  {
   "cell_type": "code",
   "execution_count": 22,
   "metadata": {
    "id": "0u6VIzaDyuoT"
   },
   "outputs": [],
   "source": [
    "inv_yhat_without_mc = np.concatenate((forecast_without_mc, yhat_without_mc), axis=1) # Concatenation of predicted values with Historical Data\n",
    "#inv_yhat_without_mc = scaler.inverse_transform(inv_yhat_without_mc) # Transform labels back to original encoding"
   ]
  },
  {
   "cell_type": "code",
   "execution_count": 23,
   "metadata": {
    "colab": {
     "base_uri": "https://localhost:8080/"
    },
    "id": "EUEcw0LX07oU",
    "outputId": "cfc32397-9c37-4b43-d087-584bb31c3dcc"
   },
   "outputs": [
    {
     "data": {
      "text/plain": [
       "(1, 311)"
      ]
     },
     "execution_count": 23,
     "metadata": {},
     "output_type": "execute_result"
    }
   ],
   "source": [
    "inv_yhat_without_mc.shape"
   ]
  },
  {
   "cell_type": "code",
   "execution_count": 24,
   "metadata": {
    "id": "31OWVbSh_305"
   },
   "outputs": [],
   "source": [
    "fforecast = inv_yhat_without_mc[:,-300:]"
   ]
  },
  {
   "cell_type": "code",
   "execution_count": 25,
   "metadata": {},
   "outputs": [
    {
     "data": {
      "text/plain": [
       "(1, 300)"
      ]
     },
     "execution_count": 25,
     "metadata": {},
     "output_type": "execute_result"
    }
   ],
   "source": [
    "fforecast.shape"
   ]
  },
  {
   "cell_type": "code",
   "execution_count": 26,
   "metadata": {
    "id": "BlpGH2FOAiRF"
   },
   "outputs": [],
   "source": [
    "final_forecast = fforecast[:,0:300:3]"
   ]
  },
  {
   "cell_type": "code",
   "execution_count": 27,
   "metadata": {},
   "outputs": [
    {
     "data": {
      "text/plain": [
       "(1, 300)"
      ]
     },
     "execution_count": 27,
     "metadata": {},
     "output_type": "execute_result"
    }
   ],
   "source": [
    "fforecast.shape"
   ]
  },
  {
   "cell_type": "code",
   "execution_count": 28,
   "metadata": {
    "id": "CXkgkj_LBk_t"
   },
   "outputs": [],
   "source": [
    "# code to replace all negative value with 0\n",
    "final_forecast[final_forecast<0] = 0"
   ]
  },
  {
   "cell_type": "code",
   "execution_count": 29,
   "metadata": {},
   "outputs": [
    {
     "data": {
      "text/plain": [
       "array([[7.04733193e+01, 7.03976891e+01, 7.03220588e+01, 7.02464286e+01,\n",
       "        7.60199509e+01, 4.52334553e-01, 0.00000000e+00, 0.00000000e+00,\n",
       "        0.00000000e+00, 8.47232521e-01, 6.27414048e-01, 0.00000000e+00,\n",
       "        0.00000000e+00, 7.06105742e+01, 7.05349440e+01, 7.04593137e+01,\n",
       "        0.00000000e+00, 9.55886240e-01, 7.12558823e+01, 7.08021008e+01,\n",
       "        7.06413866e+01, 7.05657563e+01, 7.04901261e+01, 7.04144958e+01,\n",
       "        7.03388655e+01, 7.02632353e+01, 7.01876050e+01, 0.00000000e+00,\n",
       "        7.03150560e-02, 7.05209384e+01, 7.04453081e+01, 7.03696779e+01,\n",
       "        7.02940476e+01, 7.02184174e+01, 7.40361811e+01, 7.29198179e+01,\n",
       "        7.16424370e+01, 2.80094090e-01, 0.00000000e+00, 0.00000000e+00,\n",
       "        4.78183290e-02, 0.00000000e+00, 0.00000000e+00, 0.00000000e+00,\n",
       "        0.00000000e+00, 1.89780742e-01, 2.00733528e-01, 7.02800420e+01,\n",
       "        7.02044118e+01, 4.45066273e-01, 0.00000000e+00, 7.05377451e+01,\n",
       "        7.04621149e+01, 7.03864846e+01, 7.03108543e+01, 7.02352241e+01,\n",
       "        7.42042484e+01, 7.31719188e+01, 7.19449580e+01, 0.00000000e+00,\n",
       "        8.16541190e-01, 0.00000000e+00, 7.02660364e+01, 7.01904062e+01,\n",
       "        7.36341036e+01, 7.24995798e+01, 7.11382353e+01, 7.30318628e+01,\n",
       "        7.17768908e+01, 7.06525910e+01, 6.53601830e-01, 7.42013680e-02,\n",
       "        0.00000000e+00, 7.18918381e+01, 0.00000000e+00, 0.00000000e+00,\n",
       "        0.00000000e+00, 0.00000000e+00, 0.00000000e+00, 0.00000000e+00,\n",
       "        6.82894897e+01, 0.00000000e+00, 0.00000000e+00, 8.52342695e-02,\n",
       "        0.00000000e+00, 2.72075772e-01, 0.00000000e+00, 0.00000000e+00,\n",
       "        0.00000000e+00, 8.05050075e-01, 1.62787922e-02, 1.71003774e-01,\n",
       "        0.00000000e+00, 1.10638225e+00, 1.19919121e+00, 4.49004531e-01,\n",
       "        0.00000000e+00, 1.95731699e-01, 8.11637282e-01, 9.95560586e-01]])"
      ]
     },
     "execution_count": 29,
     "metadata": {},
     "output_type": "execute_result"
    }
   ],
   "source": [
    "final_forecast"
   ]
  },
  {
   "cell_type": "code",
   "execution_count": 30,
   "metadata": {},
   "outputs": [
    {
     "data": {
      "text/plain": [
       "(1, 100)"
      ]
     },
     "execution_count": 30,
     "metadata": {},
     "output_type": "execute_result"
    }
   ],
   "source": [
    "final_forecast.shape"
   ]
  },
  {
   "cell_type": "code",
   "execution_count": 31,
   "metadata": {},
   "outputs": [
    {
     "data": {
      "text/plain": [
       "(100,)"
      ]
     },
     "execution_count": 31,
     "metadata": {},
     "output_type": "execute_result"
    }
   ],
   "source": [
    "test.shape"
   ]
  },
  {
   "cell_type": "code",
   "execution_count": 32,
   "metadata": {},
   "outputs": [],
   "source": [
    "training_set = np.array(training_set)\n",
    "test = np.array(test)\n",
    "final_forecast = np.array(final_forecast.squeeze(0))"
   ]
  },
  {
   "cell_type": "code",
   "execution_count": 33,
   "metadata": {},
   "outputs": [
    {
     "data": {
      "text/plain": [
       "array([58.06210289, 58.04980529, 58.03750769, 58.02521008, 58.01291248,\n",
       "       58.00061488, 57.98831728, 57.97601968, 57.96372207, 57.95142447,\n",
       "       57.93912687, 57.92682927, 57.91453167, 57.90223406, 57.88993646,\n",
       "       57.87763886, 57.86534126, 57.85304366, 57.84074605, 57.82844845,\n",
       "       57.81615085, 57.80385325, 57.79155565, 57.77925804, 57.76696044,\n",
       "       57.75466284, 57.74236524, 57.73006764, 57.71777003, 57.70547243,\n",
       "       57.69317483, 57.68087723, 57.66857963, 57.65628203, 57.64398442,\n",
       "       57.63168682, 57.61938922, 57.60709162, 57.59479402, 57.58249641,\n",
       "       57.57019881, 57.55790121, 57.54560361, 57.53330601, 57.5210084 ,\n",
       "       57.5087108 , 57.4964132 , 57.4841156 , 57.471818  , 57.45952039,\n",
       "       57.44722279, 57.43492519, 57.42262759, 57.41032999, 57.39803238,\n",
       "       57.38573478, 57.37343718, 57.36113958, 57.34884198, 57.33654437,\n",
       "       57.32424677, 57.31194917, 57.29965157, 57.28735397, 57.27505636,\n",
       "       57.26275876, 57.25046116, 57.23816356, 57.22586596, 57.21356835,\n",
       "       57.20127075, 57.18897315, 57.17667555, 57.16437795, 57.15208034,\n",
       "       57.13978274, 57.12748514, 57.11518754, 57.10288994, 57.09059233,\n",
       "       57.07829473, 57.06599713, 57.05369953, 57.04140193, 57.02910432,\n",
       "       57.01680672, 57.00450912, 56.99221152, 56.97991392, 56.96761631,\n",
       "       56.95531871, 56.94302111, 56.93072351, 56.91842591, 56.9061283 ,\n",
       "       56.8938307 , 56.8815331 , 56.8692355 , 56.8569379 , 56.8446403 ])"
      ]
     },
     "execution_count": 33,
     "metadata": {},
     "output_type": "execute_result"
    }
   ],
   "source": [
    "test"
   ]
  },
  {
   "cell_type": "code",
   "execution_count": 34,
   "metadata": {},
   "outputs": [
    {
     "data": {
      "text/plain": [
       "(100,)"
      ]
     },
     "execution_count": 34,
     "metadata": {},
     "output_type": "execute_result"
    }
   ],
   "source": [
    "test.shape"
   ]
  },
  {
   "cell_type": "code",
   "execution_count": 35,
   "metadata": {},
   "outputs": [
    {
     "data": {
      "text/plain": [
       "(100,)"
      ]
     },
     "execution_count": 35,
     "metadata": {},
     "output_type": "execute_result"
    }
   ],
   "source": [
    "final_forecast.shape"
   ]
  },
  {
   "cell_type": "code",
   "execution_count": 36,
   "metadata": {},
   "outputs": [
    {
     "data": {
      "text/plain": [
       "(100,)"
      ]
     },
     "execution_count": 36,
     "metadata": {},
     "output_type": "execute_result"
    }
   ],
   "source": [
    "test.shape"
   ]
  },
  {
   "cell_type": "code",
   "execution_count": 37,
   "metadata": {},
   "outputs": [
    {
     "name": "stdout",
     "output_type": "stream",
     "text": [
      "43.336475766429196\n",
      "37.49813882942636\n"
     ]
    }
   ],
   "source": [
    "import math\n",
    "MSE = np.square(np.subtract(np.array(test),np.array(final_forecast))).mean()   \n",
    "rsme = math.sqrt(MSE)\n",
    "print(rsme)  \n",
    "MAE = np.abs(np.subtract(np.array(test),np.array(final_forecast))).mean()   \n",
    "mae = MAE\n",
    "print(mae)"
   ]
  }
 ],
 "metadata": {
  "colab": {
   "provenance": []
  },
  "kernelspec": {
   "display_name": "Python 3",
   "language": "python",
   "name": "python3"
  },
  "language_info": {
   "codemirror_mode": {
    "name": "ipython",
    "version": 3
   },
   "file_extension": ".py",
   "mimetype": "text/x-python",
   "name": "python",
   "nbconvert_exporter": "python",
   "pygments_lexer": "ipython3",
   "version": "3.9.13"
  }
 },
 "nbformat": 4,
 "nbformat_minor": 0
}
