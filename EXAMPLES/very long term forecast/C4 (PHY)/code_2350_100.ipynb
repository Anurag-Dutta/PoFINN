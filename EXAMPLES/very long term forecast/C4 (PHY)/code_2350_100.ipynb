{
 "cells": [
  {
   "cell_type": "markdown",
   "metadata": {
    "id": "pCGKeZ2gyuoQ"
   },
   "source": [
    "_Importing Required Libraries_"
   ]
  },
  {
   "cell_type": "code",
   "execution_count": 1,
   "metadata": {
    "colab": {
     "base_uri": "https://localhost:8080/"
    },
    "id": "A-6LN-zXiLcM",
    "outputId": "4de610a4-f8b8-4f49-c6c0-89de299ccedc"
   },
   "outputs": [
    {
     "name": "stdout",
     "output_type": "stream",
     "text": [
      "Requirement already satisfied: hampel in c:\\users\\anurag dutta\\appdata\\local\\packages\\pythonsoftwarefoundation.python.3.9_qbz5n2kfra8p0\\localcache\\local-packages\\python39\\site-packages (0.0.5)\n",
      "Requirement already satisfied: numpy in c:\\users\\anurag dutta\\appdata\\local\\packages\\pythonsoftwarefoundation.python.3.9_qbz5n2kfra8p0\\localcache\\local-packages\\python39\\site-packages (from hampel) (1.26.4)\n",
      "Requirement already satisfied: pandas in c:\\users\\anurag dutta\\appdata\\local\\packages\\pythonsoftwarefoundation.python.3.9_qbz5n2kfra8p0\\localcache\\local-packages\\python39\\site-packages (from hampel) (1.5.2)\n",
      "Note: you may need to restart the kernel to use updated packages.\n"
     ]
    },
    {
     "name": "stderr",
     "output_type": "stream",
     "text": [
      "\n",
      "[notice] A new release of pip is available: 24.2 -> 24.3.1\n",
      "[notice] To update, run: C:\\Users\\Anurag Dutta\\AppData\\Local\\Microsoft\\WindowsApps\\PythonSoftwareFoundation.Python.3.9_qbz5n2kfra8p0\\python.exe -m pip install --upgrade pip\n"
     ]
    },
    {
     "name": "stdout",
     "output_type": "stream",
     "text": [
      "Requirement already satisfied: python-dateutil>=2.8.1 in c:\\users\\anurag dutta\\appdata\\local\\packages\\pythonsoftwarefoundation.python.3.9_qbz5n2kfra8p0\\localcache\\local-packages\\python39\\site-packages (from pandas->hampel) (2.8.2)\n",
      "Requirement already satisfied: pytz>=2020.1 in c:\\users\\anurag dutta\\appdata\\local\\packages\\pythonsoftwarefoundation.python.3.9_qbz5n2kfra8p0\\localcache\\local-packages\\python39\\site-packages (from pandas->hampel) (2023.3.post1)\n",
      "Requirement already satisfied: six>=1.5 in c:\\users\\anurag dutta\\appdata\\local\\packages\\pythonsoftwarefoundation.python.3.9_qbz5n2kfra8p0\\localcache\\local-packages\\python39\\site-packages (from python-dateutil>=2.8.1->pandas->hampel) (1.16.0)\n"
     ]
    }
   ],
   "source": [
    "pip install hampel"
   ]
  },
  {
   "cell_type": "code",
   "execution_count": 2,
   "metadata": {
    "id": "By_d9uXpaFvZ"
   },
   "outputs": [],
   "source": [
    "from keras.models import Sequential\n",
    "from keras.layers import Dense\n",
    "from keras.layers import LSTM\n",
    "from keras.layers import Dropout\n",
    "import keras\n",
    "import tensorflow as tf\n",
    "from hampel import hampel\n",
    "import numpy as np\n",
    "import matplotlib.pyplot as plt\n",
    "import pandas as pd\n",
    "from sklearn.preprocessing import MinMaxScaler\n",
    "from sklearn.metrics import mean_squared_error, mean_absolute_error\n",
    "from math import sqrt\n",
    "from matplotlib import pyplot\n",
    "from numpy import array"
   ]
  },
  {
   "cell_type": "markdown",
   "metadata": {
    "id": "JyOjBMFayuoR"
   },
   "source": [
    "## Pretraining"
   ]
  },
  {
   "cell_type": "markdown",
   "metadata": {
    "id": "-5QqIY_GyuoR"
   },
   "source": [
    "The `capa_intermittency.dat` feeds the model with the dynamics of the Capacitor"
   ]
  },
  {
   "cell_type": "code",
   "execution_count": 3,
   "metadata": {
    "id": "9dV4a8yfyuoR"
   },
   "outputs": [],
   "source": [
    "data = np.genfromtxt('capa_intermittency.dat')\n",
    "training_set = pd.DataFrame(data).reset_index(drop=True)\n",
    "training_set = training_set.iloc[:,0]"
   ]
  },
  {
   "cell_type": "markdown",
   "metadata": {
    "id": "i7easoxByuoR"
   },
   "source": [
    "## Computing the Gradient"
   ]
  },
  {
   "cell_type": "markdown",
   "metadata": {
    "id": "5SnyolJTyuoR"
   },
   "source": [
    "_Calculating the value of_ $\\frac{dx}{dt}$"
   ]
  },
  {
   "cell_type": "code",
   "execution_count": 4,
   "metadata": {
    "colab": {
     "base_uri": "https://localhost:8080/"
    },
    "id": "wmIbVfIvyuoR",
    "outputId": "aa4e3136-c854-465d-d2e9-81cfd546e440"
   },
   "outputs": [
    {
     "name": "stdout",
     "output_type": "stream",
     "text": [
      "1.0\n",
      "1        0.000298\n",
      "2        0.000298\n",
      "3        0.000297\n",
      "4        0.000297\n",
      "5        0.000297\n",
      "           ...   \n",
      "9996     0.000018\n",
      "9997     0.000018\n",
      "9998     0.000018\n",
      "9999     0.000018\n",
      "10000    0.000018\n",
      "Name: 0, Length: 10000, dtype: float64\n"
     ]
    }
   ],
   "source": [
    "t_diff = 1\n",
    "print(training_set.max())\n",
    "gradient_t = (training_set.diff()/t_diff).iloc[1:] # dx/dt\n",
    "print(gradient_t)"
   ]
  },
  {
   "cell_type": "markdown",
   "metadata": {
    "id": "_2eVeeoxyuoS"
   },
   "source": [
    "## Loading Datasets"
   ]
  },
  {
   "cell_type": "code",
   "execution_count": 5,
   "metadata": {
    "id": "0J-NKyIEyuoS"
   },
   "outputs": [
    {
     "data": {
      "text/plain": [
       "0       88.600000\n",
       "1       88.409524\n",
       "2       88.219048\n",
       "3       88.028571\n",
       "4       87.838095\n",
       "          ...    \n",
       "2445    55.664071\n",
       "2446    55.651773\n",
       "2447    55.639475\n",
       "2448    55.627178\n",
       "2449    55.614880\n",
       "Name: C4, Length: 2450, dtype: float64"
      ]
     },
     "execution_count": 5,
     "metadata": {},
     "output_type": "execute_result"
    }
   ],
   "source": [
    "data = pd.read_csv(\"c4_interpolated_2350_100.csv\")\n",
    "training_set = data.iloc[:, 1]\n",
    "training_set"
   ]
  },
  {
   "cell_type": "code",
   "execution_count": 6,
   "metadata": {
    "colab": {
     "base_uri": "https://localhost:8080/"
    },
    "id": "-CbNUhJ74UqF",
    "outputId": "20f562d8-8247-49cc-b9c3-00eca5e13e2d"
   },
   "outputs": [
    {
     "data": {
      "text/plain": [
       "0       88.600000\n",
       "1       88.409524\n",
       "2       88.219048\n",
       "3       88.028571\n",
       "4       87.838095\n",
       "          ...    \n",
       "2345     0.449005\n",
       "2346     0.000000\n",
       "2347     0.195732\n",
       "2348     0.811637\n",
       "2349     0.995561\n",
       "Name: C4, Length: 2350, dtype: float64"
      ]
     },
     "execution_count": 6,
     "metadata": {},
     "output_type": "execute_result"
    }
   ],
   "source": [
    "test = training_set.tail(100)\n",
    "test\n",
    "training_set = training_set.head(2350)\n",
    "training_set"
   ]
  },
  {
   "cell_type": "code",
   "execution_count": 7,
   "metadata": {
    "colab": {
     "base_uri": "https://localhost:8080/"
    },
    "id": "X0TwTcq0yuoS",
    "outputId": "37252ed8-d88e-4044-fa7a-922411990b5b"
   },
   "outputs": [
    {
     "name": "stdout",
     "output_type": "stream",
     "text": [
      "0       0.000298\n",
      "1       0.000298\n",
      "2       0.000297\n",
      "3       0.000297\n",
      "4       0.000297\n",
      "          ...   \n",
      "9995    0.000018\n",
      "9996    0.000018\n",
      "9997    0.000018\n",
      "9998    0.000018\n",
      "9999    0.000018\n",
      "Name: 0, Length: 10000, dtype: float64\n"
     ]
    }
   ],
   "source": [
    "training_set = training_set.reset_index(drop=True)\n",
    "gradient_t = gradient_t.reset_index(drop=True)\n",
    "print(gradient_t)"
   ]
  },
  {
   "cell_type": "code",
   "execution_count": 8,
   "metadata": {
    "id": "O2biznZQyuoS"
   },
   "outputs": [],
   "source": [
    "df = pd.concat((training_set, gradient_t), axis=1)\n",
    "df.columns = ['y_t', 'grad_t']"
   ]
  },
  {
   "cell_type": "code",
   "execution_count": 9,
   "metadata": {
    "colab": {
     "base_uri": "https://localhost:8080/",
     "height": 423
    },
    "id": "sk_a5v3tyuoS",
    "outputId": "17563625-e550-45ae-faab-fafa353e44da"
   },
   "outputs": [
    {
     "data": {
      "text/html": [
       "<div>\n",
       "<style scoped>\n",
       "    .dataframe tbody tr th:only-of-type {\n",
       "        vertical-align: middle;\n",
       "    }\n",
       "\n",
       "    .dataframe tbody tr th {\n",
       "        vertical-align: top;\n",
       "    }\n",
       "\n",
       "    .dataframe thead th {\n",
       "        text-align: right;\n",
       "    }\n",
       "</style>\n",
       "<table border=\"1\" class=\"dataframe\">\n",
       "  <thead>\n",
       "    <tr style=\"text-align: right;\">\n",
       "      <th></th>\n",
       "      <th>y_t</th>\n",
       "      <th>grad_t</th>\n",
       "    </tr>\n",
       "  </thead>\n",
       "  <tbody>\n",
       "    <tr>\n",
       "      <th>0</th>\n",
       "      <td>88.600000</td>\n",
       "      <td>0.000298</td>\n",
       "    </tr>\n",
       "    <tr>\n",
       "      <th>1</th>\n",
       "      <td>88.409524</td>\n",
       "      <td>0.000298</td>\n",
       "    </tr>\n",
       "    <tr>\n",
       "      <th>2</th>\n",
       "      <td>88.219048</td>\n",
       "      <td>0.000297</td>\n",
       "    </tr>\n",
       "    <tr>\n",
       "      <th>3</th>\n",
       "      <td>88.028571</td>\n",
       "      <td>0.000297</td>\n",
       "    </tr>\n",
       "    <tr>\n",
       "      <th>4</th>\n",
       "      <td>87.838095</td>\n",
       "      <td>0.000297</td>\n",
       "    </tr>\n",
       "    <tr>\n",
       "      <th>...</th>\n",
       "      <td>...</td>\n",
       "      <td>...</td>\n",
       "    </tr>\n",
       "    <tr>\n",
       "      <th>9995</th>\n",
       "      <td>NaN</td>\n",
       "      <td>0.000018</td>\n",
       "    </tr>\n",
       "    <tr>\n",
       "      <th>9996</th>\n",
       "      <td>NaN</td>\n",
       "      <td>0.000018</td>\n",
       "    </tr>\n",
       "    <tr>\n",
       "      <th>9997</th>\n",
       "      <td>NaN</td>\n",
       "      <td>0.000018</td>\n",
       "    </tr>\n",
       "    <tr>\n",
       "      <th>9998</th>\n",
       "      <td>NaN</td>\n",
       "      <td>0.000018</td>\n",
       "    </tr>\n",
       "    <tr>\n",
       "      <th>9999</th>\n",
       "      <td>NaN</td>\n",
       "      <td>0.000018</td>\n",
       "    </tr>\n",
       "  </tbody>\n",
       "</table>\n",
       "<p>10000 rows × 2 columns</p>\n",
       "</div>"
      ],
      "text/plain": [
       "            y_t    grad_t\n",
       "0     88.600000  0.000298\n",
       "1     88.409524  0.000298\n",
       "2     88.219048  0.000297\n",
       "3     88.028571  0.000297\n",
       "4     87.838095  0.000297\n",
       "...         ...       ...\n",
       "9995        NaN  0.000018\n",
       "9996        NaN  0.000018\n",
       "9997        NaN  0.000018\n",
       "9998        NaN  0.000018\n",
       "9999        NaN  0.000018\n",
       "\n",
       "[10000 rows x 2 columns]"
      ]
     },
     "execution_count": 9,
     "metadata": {},
     "output_type": "execute_result"
    }
   ],
   "source": [
    "df"
   ]
  },
  {
   "cell_type": "markdown",
   "metadata": {
    "id": "-5esyHu5aFvg"
   },
   "source": [
    "## Plot of the External Forcing from Chaotic Differential Equation"
   ]
  },
  {
   "cell_type": "code",
   "execution_count": null,
   "metadata": {
    "colab": {
     "base_uri": "https://localhost:8080/",
     "height": 447
    },
    "id": "hGnE43tOh-4p",
    "outputId": "fc396503-b624-4fa5-dfbe-f460207405c6"
   },
   "outputs": [
    {
     "data": {
      "text/plain": [
       "<Axes: >"
      ]
     },
     "execution_count": 10,
     "metadata": {},
     "output_type": "execute_result"
    },
    {
     "data": {
      "image/png": "[encoded data removed]",
      "text/plain": [
       "<Figure size 432x288 with 1 Axes>"
      ]
     },
     "metadata": {
      "needs_background": "light"
     },
     "output_type": "display_data"
    }
   ],
   "source": [
    "df.iloc[:, 0].plot()"
   ]
  },
  {
   "cell_type": "code",
   "execution_count": null,
   "metadata": {
    "colab": {
     "base_uri": "https://localhost:8080/",
     "height": 447
    },
    "id": "ym4xWUUxaFvg",
    "outputId": "ae6a3495-8ce9-437e-ba81-3ed31deedeae"
   },
   "outputs": [
    {
     "name": "stderr",
     "output_type": "stream",
     "text": [
      "C:\\Users\\Anurag Dutta\\AppData\\Local\\Packages\\PythonSoftwareFoundation.Python.3.9_qbz5n2kfra8p0\\LocalCache\\local-packages\\Python39\\site-packages\\pandas\\core\\arraylike.py:402: RuntimeWarning: divide by zero encountered in log\n",
      "  result = getattr(ufunc, method)(*inputs, **kwargs)\n"
     ]
    },
    {
     "data": {
      "text/plain": [
       "<Axes: >"
      ]
     },
     "execution_count": 11,
     "metadata": {},
     "output_type": "execute_result"
    },
    {
     "data": {
      "image/png": "[encoded data removed]",
      "text/plain": [
       "<Figure size 432x288 with 1 Axes>"
      ]
     },
     "metadata": {
      "needs_background": "light"
     },
     "output_type": "display_data"
    }
   ],
   "source": [
    "import numpy as np\n",
    "c0 = 86.6856  # Value for C0\n",
    "K0 = -0.0008  # Value for K0\n",
    "K1 = -0.0002  # Value for K1\n",
    "a = 0.0000    # Value for a\n",
    "b = 0.0128    # Value for b\n",
    "c = -2.3003    # Value for c\n",
    "\n",
    "L = np.minimum(c0, (df.iloc[:, 1] - (df.iloc[:, 0] * (K0 - K1 * (9 * a * np.log(df.iloc[:, 0] / c0) / (K0 - K1 * c)**2 + 4 * b * np.log(df.iloc[:, 0] / c0) / (K0 - K1 * c) + c)))))\n",
    "L.plot()"
   ]
  },
  {
   "cell_type": "markdown",
   "metadata": {
    "id": "9VyEywnwaFvh"
   },
   "source": [
    "## Preprocessing the data into supervised learning"
   ]
  },
  {
   "cell_type": "code",
   "execution_count": 12,
   "metadata": {
    "id": "6V9dXqzdaFvh"
   },
   "outputs": [],
   "source": [
    "# split a sequence into samples\n",
    "def Supervised(data, n_in=1, n_out=1, dropnan=True):\n",
    "    n_vars = 1 if type(data) is list else data.shape[1]\n",
    "    df = pd.DataFrame(data)\n",
    "    cols, names = list(), list()\n",
    "    # input sequence (t-n_in, ... t-1)\n",
    "    for i in range(n_in, 0, -1):\n",
    "        cols.append(df.shift(i))\n",
    "        names += [('var%d(t-%d)' % (j+1, i)) for j in range(n_vars)]\n",
    "    # forecast sequence (t, t+1, ... t+n_out)\n",
    "    for i in range(0, n_out):\n",
    "      cols.append(df.shift(-i))\n",
    "      if i == 0:\n",
    "        names += [('var%d(t)' % (j+1)) for j in range(n_vars)]\n",
    "      else:\n",
    "        names += [('var%d(t+%d)' % (j+1, i)) for j in range(n_vars)]\n",
    "    # put it all together\n",
    "    agg = pd.concat(cols, axis=1)\n",
    "    agg.columns = names\n",
    "    # drop rows with NaN values\n",
    "    if dropnan:\n",
    "       agg.dropna(inplace=True)\n",
    "    return agg"
   ]
  },
  {
   "cell_type": "code",
   "execution_count": null,
   "metadata": {
    "colab": {
     "base_uri": "https://localhost:8080/"
    },
    "id": "CrzSrT1HnyfH",
    "outputId": "7e75f928-3e47-499d-eac1-51908015ef78"
   },
   "outputs": [
    {
     "name": "stdout",
     "output_type": "stream",
     "text": [
      "     var1(t-350)  var1(t-349)  var1(t-348)  var1(t-347)  var1(t-346)  \\\n",
      "350    88.600000    88.409524    88.219048    88.028571    87.838095   \n",
      "351    88.409524    88.219048    88.028571    87.838095    87.647619   \n",
      "352    88.219048    88.028571    87.838095    87.647619    87.457143   \n",
      "353    88.028571    87.838095    87.647619    87.457143    87.266667   \n",
      "354    87.838095    87.647619    87.457143    87.266667    87.076190   \n",
      "\n",
      "     var1(t-345)  var1(t-344)  var1(t-343)  var1(t-342)  var1(t-341)  ...  \\\n",
      "350    87.647619    87.457143    87.266667    87.076190    86.896218  ...   \n",
      "351    87.457143    87.266667    87.076190    86.896218    86.845798  ...   \n",
      "352    87.266667    87.076190    86.896218    86.845798    86.795378  ...   \n",
      "353    87.076190    86.896218    86.845798    86.795378    86.744958  ...   \n",
      "354    86.896218    86.845798    86.795378    86.744958    86.694538  ...   \n",
      "\n",
      "     var1(t+95)  var2(t+95)  var1(t+96)  var2(t+96)  var1(t+97)  var2(t+97)  \\\n",
      "350   78.880345    0.000263   78.856069    0.000263   78.831793    0.000263   \n",
      "351   78.856069    0.000263   78.831793    0.000263   78.807516    0.000262   \n",
      "352   78.831793    0.000263   78.807516    0.000262   78.783240    0.000262   \n",
      "353   78.807516    0.000262   78.783240    0.000262   78.758964    0.000262   \n",
      "354   78.783240    0.000262   78.758964    0.000262   78.734687    0.000262   \n",
      "\n",
      "     var1(t+98)  var2(t+98)  var1(t+99)  var2(t+99)  \n",
      "350   78.807516    0.000262   78.783240    0.000262  \n",
      "351   78.783240    0.000262   78.758964    0.000262  \n",
      "352   78.758964    0.000262   78.734687    0.000262  \n",
      "353   78.734687    0.000262   78.710411    0.000262  \n",
      "354   78.710411    0.000262   78.686134    0.000262  \n",
      "\n",
      "[5 rows x 551 columns]\n",
      "Index(['var1(t-350)', 'var1(t-349)', 'var1(t-348)', 'var1(t-347)',\n",
      "       'var1(t-346)', 'var1(t-345)', 'var1(t-344)', 'var1(t-343)',\n",
      "       'var1(t-342)', 'var1(t-341)',\n",
      "       ...\n",
      "       'var1(t+95)', 'var2(t+95)', 'var1(t+96)', 'var2(t+96)', 'var1(t+97)',\n",
      "       'var2(t+97)', 'var1(t+98)', 'var2(t+98)', 'var1(t+99)', 'var2(t+99)'],\n",
      "      dtype='object', length=551)\n"
     ]
    }
   ],
   "source": [
    "data = Supervised(df.values, n_in = 350, n_out = 100)\n",
    "\n",
    "\n",
    "cols_to_drop = []\n",
    "for i in range(2, 351):\n",
    "    cols_to_drop.extend([f'var2(t-{i})'])\n",
    "\n",
    "data.drop(cols_to_drop, axis=1, inplace=True)\n",
    "\n",
    "print(data.head())\n",
    "print(data.columns)"
   ]
  },
  {
   "cell_type": "code",
   "execution_count": 14,
   "metadata": {
    "id": "AfPf60oy6Pe4"
   },
   "outputs": [],
   "source": [
    "train = np.array(data[0:len(data)-1])\n",
    "forecast = np.array(data.tail(1))"
   ]
  },
  {
   "cell_type": "code",
   "execution_count": 15,
   "metadata": {
    "id": "WSAafzI37KiT"
   },
   "outputs": [],
   "source": [
    "trainy = train[:,-300:]\n",
    "trainX = train[:,:-300]"
   ]
  },
  {
   "cell_type": "code",
   "execution_count": 16,
   "metadata": {
    "id": "2SrOqVJA7f50"
   },
   "outputs": [],
   "source": [
    "forecasty = forecast[:,-300:]\n",
    "forecastX = forecast[:,:-300]"
   ]
  },
  {
   "cell_type": "code",
   "execution_count": 17,
   "metadata": {
    "colab": {
     "base_uri": "https://localhost:8080/"
    },
    "id": "Qno_k8Nw7saY",
    "outputId": "c4a88db5-d8c6-489f-cdb2-06b24e293cff"
   },
   "outputs": [
    {
     "name": "stdout",
     "output_type": "stream",
     "text": [
      "(1900, 1, 251) (1900, 300) (1, 1, 251)\n"
     ]
    }
   ],
   "source": [
    "trainX = trainX.reshape((trainX.shape[0], 1, trainX.shape[1]))\n",
    "forecastX = forecastX.reshape((forecastX.shape[0], 1, forecastX.shape[1]))\n",
    "print(trainX.shape, trainy.shape, forecastX.shape)"
   ]
  },
  {
   "cell_type": "code",
   "execution_count": 18,
   "metadata": {
    "colab": {
     "base_uri": "https://localhost:8080/"
    },
    "id": "b1Jp2DvNuNFx",
    "outputId": "d0e5b3c4-64f1-438c-eade-8dfeaac8e285"
   },
   "outputs": [
    {
     "name": "stdout",
     "output_type": "stream",
     "text": [
      "Epoch 1/500\n",
      "24/24 [==============================] - 3s 25ms/step - loss: 4931.6377 - val_loss: 2669.9727\n",
      "Epoch 2/500\n",
      "24/24 [==============================] - 0s 4ms/step - loss: 4562.1616 - val_loss: 2476.5542\n",
      "Epoch 3/500\n",
      "24/24 [==============================] - 0s 4ms/step - loss: 4366.5547 - val_loss: 2393.3330\n",
      "Epoch 4/500\n",
      "24/24 [==============================] - 0s 5ms/step - loss: 4225.3350 - val_loss: 2323.4187\n",
      "Epoch 5/500\n",
      "24/24 [==============================] - 0s 5ms/step - loss: 4103.9761 - val_loss: 2263.1277\n",
      "Epoch 6/500\n",
      "24/24 [==============================] - 0s 4ms/step - loss: 3989.4917 - val_loss: 2202.9158\n",
      "Epoch 7/500\n",
      "24/24 [==============================] - 0s 5ms/step - loss: 3879.7424 - val_loss: 2146.3220\n",
      "Epoch 8/500\n",
      "24/24 [==============================] - 0s 4ms/step - loss: 3773.9070 - val_loss: 2093.1914\n",
      "Epoch 9/500\n",
      "24/24 [==============================] - 0s 5ms/step - loss: 3671.3582 - val_loss: 2042.3857\n",
      "Epoch 10/500\n",
      "24/24 [==============================] - 0s 5ms/step - loss: 3571.7954 - val_loss: 1993.7253\n",
      "Epoch 11/500\n",
      "24/24 [==============================] - 0s 4ms/step - loss: 3474.9917 - val_loss: 1947.1117\n",
      "Epoch 12/500\n",
      "24/24 [==============================] - 0s 4ms/step - loss: 3380.7888 - val_loss: 1902.7513\n",
      "Epoch 13/500\n",
      "24/24 [==============================] - 0s 4ms/step - loss: 3289.0642 - val_loss: 1859.9764\n",
      "Epoch 14/500\n",
      "24/24 [==============================] - 0s 4ms/step - loss: 3199.7168 - val_loss: 1818.9796\n",
      "Epoch 15/500\n",
      "24/24 [==============================] - 0s 4ms/step - loss: 3112.6641 - val_loss: 1779.7263\n",
      "Epoch 16/500\n",
      "24/24 [==============================] - 0s 4ms/step - loss: 3027.8335 - val_loss: 1742.1667\n",
      "Epoch 17/500\n",
      "24/24 [==============================] - 0s 4ms/step - loss: 2945.1626 - val_loss: 1706.2538\n",
      "Epoch 18/500\n",
      "24/24 [==============================] - 0s 4ms/step - loss: 2864.5925 - val_loss: 1671.9437\n",
      "Epoch 19/500\n",
      "24/24 [==============================] - 0s 4ms/step - loss: 2786.0737 - val_loss: 1639.1947\n",
      "Epoch 20/500\n",
      "24/24 [==============================] - 0s 4ms/step - loss: 2709.5562 - val_loss: 1607.9608\n",
      "Epoch 21/500\n",
      "24/24 [==============================] - 0s 4ms/step - loss: 2635.0227 - val_loss: 1578.2428\n",
      "Epoch 22/500\n",
      "24/24 [==============================] - 0s 5ms/step - loss: 2562.3511 - val_loss: 1549.9280\n",
      "Epoch 23/500\n",
      "24/24 [==============================] - 0s 5ms/step - loss: 2491.5696 - val_loss: 1523.0417\n",
      "Epoch 24/500\n",
      "24/24 [==============================] - 0s 4ms/step - loss: 2422.6289 - val_loss: 1497.5326\n",
      "Epoch 25/500\n",
      "24/24 [==============================] - 0s 5ms/step - loss: 2355.4839 - val_loss: 1473.3655\n",
      "Epoch 26/500\n",
      "24/24 [==============================] - 0s 4ms/step - loss: 2290.0986 - val_loss: 1450.5071\n",
      "Epoch 27/500\n",
      "24/24 [==============================] - 0s 5ms/step - loss: 2226.4387 - val_loss: 1428.9227\n",
      "Epoch 28/500\n",
      "24/24 [==============================] - 0s 4ms/step - loss: 2164.4695 - val_loss: 1408.5743\n",
      "Epoch 29/500\n",
      "24/24 [==============================] - 0s 5ms/step - loss: 2104.1575 - val_loss: 1389.4062\n",
      "Epoch 30/500\n",
      "24/24 [==============================] - 0s 4ms/step - loss: 2045.4681 - val_loss: 1371.0205\n",
      "Epoch 31/500\n",
      "24/24 [==============================] - 0s 4ms/step - loss: 1988.4990 - val_loss: 1354.6833\n",
      "Epoch 32/500\n",
      "24/24 [==============================] - 0s 5ms/step - loss: 1932.9094 - val_loss: 1339.1064\n",
      "Epoch 33/500\n",
      "24/24 [==============================] - 0s 5ms/step - loss: 1878.9133 - val_loss: 1324.7615\n",
      "Epoch 34/500\n",
      "24/24 [==============================] - 0s 5ms/step - loss: 1826.5107 - val_loss: 1314.1942\n",
      "Epoch 35/500\n",
      "24/24 [==============================] - 0s 5ms/step - loss: 1775.3955 - val_loss: 1301.9902\n",
      "Epoch 36/500\n",
      "24/24 [==============================] - 0s 5ms/step - loss: 1725.8140 - val_loss: 1290.8044\n",
      "Epoch 37/500\n",
      "24/24 [==============================] - 0s 5ms/step - loss: 1677.6455 - val_loss: 1280.6099\n",
      "Epoch 38/500\n",
      "24/24 [==============================] - 0s 4ms/step - loss: 1630.8616 - val_loss: 1271.3788\n",
      "Epoch 39/500\n",
      "24/24 [==============================] - 0s 6ms/step - loss: 1585.4351 - val_loss: 1263.0841\n",
      "Epoch 40/500\n",
      "24/24 [==============================] - 0s 5ms/step - loss: 1541.3380 - val_loss: 1255.6990\n",
      "Epoch 41/500\n",
      "24/24 [==============================] - 0s 5ms/step - loss: 1498.5427 - val_loss: 1249.1965\n",
      "Epoch 42/500\n",
      "24/24 [==============================] - 0s 5ms/step - loss: 1457.0231 - val_loss: 1243.5509\n",
      "Epoch 43/500\n",
      "24/24 [==============================] - 0s 4ms/step - loss: 1416.7524 - val_loss: 1238.7365\n",
      "Epoch 44/500\n",
      "24/24 [==============================] - 0s 5ms/step - loss: 1377.7043 - val_loss: 1234.1339\n",
      "Epoch 45/500\n",
      "24/24 [==============================] - 0s 5ms/step - loss: 1335.6732 - val_loss: 1232.2300\n",
      "Epoch 46/500\n",
      "24/24 [==============================] - 0s 5ms/step - loss: 1311.7004 - val_loss: 1229.4333\n",
      "Epoch 47/500\n",
      "24/24 [==============================] - 0s 5ms/step - loss: 1272.7542 - val_loss: 1227.4336\n",
      "Epoch 48/500\n",
      "24/24 [==============================] - 0s 4ms/step - loss: 1235.2184 - val_loss: 1226.2859\n",
      "Epoch 49/500\n",
      "24/24 [==============================] - 0s 4ms/step - loss: 1199.3356 - val_loss: 1225.9337\n",
      "Epoch 50/500\n",
      "24/24 [==============================] - 0s 5ms/step - loss: 1164.9490 - val_loss: 1226.3300\n",
      "Epoch 51/500\n",
      "24/24 [==============================] - 0s 6ms/step - loss: 1131.9390 - val_loss: 1227.4346\n",
      "Epoch 52/500\n",
      "24/24 [==============================] - 0s 6ms/step - loss: 1100.2175 - val_loss: 1229.2114\n",
      "Epoch 53/500\n",
      "24/24 [==============================] - 0s 5ms/step - loss: 1069.7169 - val_loss: 1231.6282\n",
      "Epoch 54/500\n",
      "24/24 [==============================] - 0s 5ms/step - loss: 1040.3796 - val_loss: 1234.6536\n",
      "Epoch 55/500\n",
      "24/24 [==============================] - 0s 5ms/step - loss: 1012.1581 - val_loss: 1238.2585\n",
      "Epoch 56/500\n",
      "24/24 [==============================] - 0s 6ms/step - loss: 985.0092 - val_loss: 1242.4147\n",
      "Epoch 57/500\n",
      "24/24 [==============================] - 0s 5ms/step - loss: 958.8928 - val_loss: 1247.0955\n",
      "Epoch 58/500\n",
      "24/24 [==============================] - 0s 5ms/step - loss: 933.7731 - val_loss: 1252.2743\n",
      "Epoch 59/500\n",
      "24/24 [==============================] - 0s 5ms/step - loss: 909.6169 - val_loss: 1257.9258\n",
      "Epoch 60/500\n",
      "24/24 [==============================] - 0s 5ms/step - loss: 886.3914 - val_loss: 1264.0253\n",
      "Epoch 61/500\n",
      "24/24 [==============================] - 0s 6ms/step - loss: 864.0672 - val_loss: 1270.5487\n",
      "Epoch 62/500\n",
      "24/24 [==============================] - 0s 5ms/step - loss: 842.6150 - val_loss: 1277.4724\n",
      "Epoch 63/500\n",
      "24/24 [==============================] - 0s 6ms/step - loss: 822.0068 - val_loss: 1284.7736\n",
      "Epoch 64/500\n",
      "24/24 [==============================] - 0s 7ms/step - loss: 802.2164 - val_loss: 1292.4299\n",
      "Epoch 65/500\n",
      "24/24 [==============================] - 0s 7ms/step - loss: 783.2173 - val_loss: 1300.4191\n",
      "Epoch 66/500\n",
      "24/24 [==============================] - 0s 8ms/step - loss: 764.9847 - val_loss: 1308.7201\n",
      "Epoch 67/500\n",
      "24/24 [==============================] - 0s 9ms/step - loss: 747.4943 - val_loss: 1317.3118\n",
      "Epoch 68/500\n",
      "24/24 [==============================] - 0s 8ms/step - loss: 730.7223 - val_loss: 1326.1742\n",
      "Epoch 69/500\n",
      "24/24 [==============================] - 0s 18ms/step - loss: 714.6456 - val_loss: 1335.2869\n",
      "Epoch 70/500\n",
      "24/24 [==============================] - 0s 15ms/step - loss: 699.2419 - val_loss: 1344.6305\n",
      "Epoch 71/500\n",
      "24/24 [==============================] - 0s 10ms/step - loss: 684.4893 - val_loss: 1354.1860\n",
      "Epoch 72/500\n",
      "24/24 [==============================] - 0s 10ms/step - loss: 670.3661 - val_loss: 1363.9351\n",
      "Epoch 73/500\n",
      "24/24 [==============================] - 0s 19ms/step - loss: 656.8519 - val_loss: 1373.8590\n",
      "Epoch 74/500\n",
      "24/24 [==============================] - 0s 10ms/step - loss: 643.9261 - val_loss: 1383.9403\n",
      "Epoch 75/500\n",
      "24/24 [==============================] - 0s 10ms/step - loss: 631.5689 - val_loss: 1394.1622\n",
      "Epoch 76/500\n",
      "24/24 [==============================] - 0s 11ms/step - loss: 619.7606 - val_loss: 1404.5076\n",
      "Epoch 77/500\n",
      "24/24 [==============================] - 0s 13ms/step - loss: 608.4824 - val_loss: 1414.9602\n",
      "Epoch 78/500\n",
      "24/24 [==============================] - 0s 9ms/step - loss: 597.7157 - val_loss: 1425.5048\n",
      "Epoch 79/500\n",
      "24/24 [==============================] - 0s 10ms/step - loss: 587.4426 - val_loss: 1436.1249\n",
      "Epoch 80/500\n",
      "24/24 [==============================] - 0s 19ms/step - loss: 577.6449 - val_loss: 1446.8059\n",
      "Epoch 81/500\n",
      "24/24 [==============================] - 0s 15ms/step - loss: 568.3059 - val_loss: 1457.5341\n",
      "Epoch 82/500\n",
      "24/24 [==============================] - 0s 11ms/step - loss: 559.4084 - val_loss: 1468.2947\n",
      "Epoch 83/500\n",
      "24/24 [==============================] - 0s 10ms/step - loss: 550.9359 - val_loss: 1479.0745\n",
      "Epoch 84/500\n",
      "24/24 [==============================] - 0s 9ms/step - loss: 542.8724 - val_loss: 1489.8600\n",
      "Epoch 85/500\n",
      "24/24 [==============================] - 0s 8ms/step - loss: 535.2025 - val_loss: 1500.6400\n",
      "Epoch 86/500\n",
      "24/24 [==============================] - 0s 8ms/step - loss: 527.9103 - val_loss: 1511.4001\n",
      "Epoch 87/500\n",
      "24/24 [==============================] - 0s 7ms/step - loss: 520.9817 - val_loss: 1522.1310\n",
      "Epoch 88/500\n",
      "24/24 [==============================] - 0s 11ms/step - loss: 514.4017 - val_loss: 1532.8195\n",
      "Epoch 89/500\n",
      "24/24 [==============================] - 0s 8ms/step - loss: 508.1564 - val_loss: 1543.4559\n",
      "Epoch 90/500\n",
      "24/24 [==============================] - 0s 6ms/step - loss: 502.2319 - val_loss: 1554.0304\n",
      "Epoch 91/500\n",
      "24/24 [==============================] - 0s 6ms/step - loss: 496.6148 - val_loss: 1564.5323\n",
      "Epoch 92/500\n",
      "24/24 [==============================] - 0s 5ms/step - loss: 491.2926 - val_loss: 1574.9523\n",
      "Epoch 93/500\n",
      "24/24 [==============================] - 0s 6ms/step - loss: 486.2522 - val_loss: 1585.2821\n",
      "Epoch 94/500\n",
      "24/24 [==============================] - 0s 6ms/step - loss: 481.4817 - val_loss: 1595.5132\n",
      "Epoch 95/500\n",
      "24/24 [==============================] - 0s 7ms/step - loss: 476.9691 - val_loss: 1605.6365\n",
      "Epoch 96/500\n",
      "24/24 [==============================] - 0s 6ms/step - loss: 472.7030 - val_loss: 1615.6464\n",
      "Epoch 97/500\n",
      "24/24 [==============================] - 0s 6ms/step - loss: 468.6722 - val_loss: 1625.5342\n",
      "Epoch 98/500\n",
      "24/24 [==============================] - 0s 7ms/step - loss: 464.8659 - val_loss: 1635.2937\n",
      "Epoch 99/500\n",
      "24/24 [==============================] - 0s 10ms/step - loss: 461.2737 - val_loss: 1644.9192\n",
      "Epoch 100/500\n",
      "24/24 [==============================] - 0s 10ms/step - loss: 457.8856 - val_loss: 1654.4052\n",
      "Epoch 101/500\n",
      "24/24 [==============================] - 0s 12ms/step - loss: 454.6918 - val_loss: 1663.7451\n",
      "Epoch 102/500\n",
      "24/24 [==============================] - 0s 12ms/step - loss: 451.6828 - val_loss: 1672.9353\n",
      "Epoch 103/500\n",
      "24/24 [==============================] - 0s 10ms/step - loss: 448.8497 - val_loss: 1681.9703\n",
      "Epoch 104/500\n",
      "24/24 [==============================] - 0s 7ms/step - loss: 446.1837 - val_loss: 1690.8469\n",
      "Epoch 105/500\n",
      "24/24 [==============================] - 0s 7ms/step - loss: 443.6764 - val_loss: 1699.5610\n",
      "Epoch 106/500\n",
      "24/24 [==============================] - 0s 8ms/step - loss: 441.3197 - val_loss: 1708.1089\n",
      "Epoch 107/500\n",
      "24/24 [==============================] - 0s 8ms/step - loss: 439.1059 - val_loss: 1716.4888\n",
      "Epoch 108/500\n",
      "24/24 [==============================] - 0s 8ms/step - loss: 437.0273 - val_loss: 1724.6970\n",
      "Epoch 109/500\n",
      "24/24 [==============================] - 0s 7ms/step - loss: 435.0771 - val_loss: 1732.7325\n",
      "Epoch 110/500\n",
      "24/24 [==============================] - 0s 6ms/step - loss: 433.2480 - val_loss: 1740.5922\n",
      "Epoch 111/500\n",
      "24/24 [==============================] - 0s 8ms/step - loss: 431.5337 - val_loss: 1748.2753\n",
      "Epoch 112/500\n",
      "24/24 [==============================] - 0s 8ms/step - loss: 429.9278 - val_loss: 1755.7811\n",
      "Epoch 113/500\n",
      "24/24 [==============================] - 0s 7ms/step - loss: 428.4243 - val_loss: 1763.1067\n",
      "Epoch 114/500\n",
      "24/24 [==============================] - 0s 7ms/step - loss: 427.0174 - val_loss: 1770.2552\n",
      "Epoch 115/500\n",
      "24/24 [==============================] - 0s 7ms/step - loss: 425.7015 - val_loss: 1777.2230\n",
      "Epoch 116/500\n",
      "24/24 [==============================] - 0s 6ms/step - loss: 424.4717 - val_loss: 1784.0118\n",
      "Epoch 117/500\n",
      "24/24 [==============================] - 0s 6ms/step - loss: 423.3225 - val_loss: 1790.6216\n",
      "Epoch 118/500\n",
      "24/24 [==============================] - 0s 7ms/step - loss: 422.2495 - val_loss: 1797.0529\n",
      "Epoch 119/500\n",
      "24/24 [==============================] - 0s 6ms/step - loss: 421.2480 - val_loss: 1803.3069\n",
      "Epoch 120/500\n",
      "24/24 [==============================] - 0s 7ms/step - loss: 420.3137 - val_loss: 1809.3850\n",
      "Epoch 121/500\n",
      "24/24 [==============================] - 0s 6ms/step - loss: 419.4425 - val_loss: 1815.2872\n",
      "Epoch 122/500\n",
      "24/24 [==============================] - 0s 7ms/step - loss: 418.6306 - val_loss: 1821.0153\n",
      "Epoch 123/500\n",
      "24/24 [==============================] - 0s 7ms/step - loss: 417.8742 - val_loss: 1826.5724\n",
      "Epoch 124/500\n",
      "24/24 [==============================] - 0s 7ms/step - loss: 417.1699 - val_loss: 1831.9596\n",
      "Epoch 125/500\n",
      "24/24 [==============================] - 0s 7ms/step - loss: 416.5142 - val_loss: 1837.1780\n",
      "Epoch 126/500\n",
      "24/24 [==============================] - 0s 6ms/step - loss: 415.9043 - val_loss: 1842.2307\n",
      "Epoch 127/500\n",
      "24/24 [==============================] - 0s 7ms/step - loss: 415.3370 - val_loss: 1847.1207\n",
      "Epoch 128/500\n",
      "24/24 [==============================] - 0s 6ms/step - loss: 414.8097 - val_loss: 1851.8494\n",
      "Epoch 129/500\n",
      "24/24 [==============================] - 0s 6ms/step - loss: 414.3196 - val_loss: 1856.4203\n",
      "Epoch 130/500\n",
      "24/24 [==============================] - 0s 6ms/step - loss: 413.8643 - val_loss: 1860.8353\n",
      "Epoch 131/500\n",
      "24/24 [==============================] - 0s 6ms/step - loss: 413.4414 - val_loss: 1865.0980\n",
      "Epoch 132/500\n",
      "24/24 [==============================] - 0s 6ms/step - loss: 413.0489 - val_loss: 1869.2107\n",
      "Epoch 133/500\n",
      "24/24 [==============================] - 0s 10ms/step - loss: 412.6844 - val_loss: 1873.1772\n",
      "Epoch 134/500\n",
      "24/24 [==============================] - 0s 11ms/step - loss: 412.3464 - val_loss: 1877.0004\n",
      "Epoch 135/500\n",
      "24/24 [==============================] - 0s 8ms/step - loss: 412.0327 - val_loss: 1880.6836\n",
      "Epoch 136/500\n",
      "24/24 [==============================] - 0s 8ms/step - loss: 411.7419 - val_loss: 1884.2292\n",
      "Epoch 137/500\n",
      "24/24 [==============================] - 0s 7ms/step - loss: 411.4722 - val_loss: 1887.6411\n",
      "Epoch 138/500\n",
      "24/24 [==============================] - 0s 8ms/step - loss: 411.2223 - val_loss: 1890.9233\n",
      "Epoch 139/500\n",
      "24/24 [==============================] - 0s 7ms/step - loss: 410.9905 - val_loss: 1894.0780\n",
      "Epoch 140/500\n",
      "24/24 [==============================] - 0s 6ms/step - loss: 410.7758 - val_loss: 1897.1083\n",
      "Epoch 141/500\n",
      "24/24 [==============================] - 0s 8ms/step - loss: 410.5768 - val_loss: 1900.0184\n",
      "Epoch 142/500\n",
      "24/24 [==============================] - 0s 7ms/step - loss: 410.3925 - val_loss: 1902.8115\n",
      "Epoch 143/500\n",
      "24/24 [==============================] - 0s 7ms/step - loss: 410.2217 - val_loss: 1905.4911\n",
      "Epoch 144/500\n",
      "24/24 [==============================] - 0s 7ms/step - loss: 410.0637 - val_loss: 1908.0605\n",
      "Epoch 145/500\n",
      "24/24 [==============================] - 0s 6ms/step - loss: 409.9170 - val_loss: 1910.5228\n",
      "Epoch 146/500\n",
      "24/24 [==============================] - 0s 5ms/step - loss: 409.7813 - val_loss: 1912.8810\n",
      "Epoch 147/500\n",
      "24/24 [==============================] - 0s 6ms/step - loss: 409.6558 - val_loss: 1915.1384\n",
      "Epoch 148/500\n",
      "24/24 [==============================] - 0s 5ms/step - loss: 409.5393 - val_loss: 1917.2998\n",
      "Epoch 149/500\n",
      "24/24 [==============================] - 0s 9ms/step - loss: 409.4315 - val_loss: 1919.3668\n",
      "Epoch 150/500\n",
      "24/24 [==============================] - 0s 7ms/step - loss: 409.3317 - val_loss: 1921.3427\n",
      "Epoch 151/500\n",
      "24/24 [==============================] - 0s 6ms/step - loss: 409.2391 - val_loss: 1923.2312\n",
      "Epoch 152/500\n",
      "24/24 [==============================] - 0s 7ms/step - loss: 409.1534 - val_loss: 1925.0342\n",
      "Epoch 153/500\n",
      "24/24 [==============================] - 0s 7ms/step - loss: 409.0741 - val_loss: 1926.7566\n",
      "Epoch 154/500\n",
      "24/24 [==============================] - 0s 6ms/step - loss: 409.0006 - val_loss: 1928.4000\n",
      "Epoch 155/500\n",
      "24/24 [==============================] - 0s 7ms/step - loss: 408.9325 - val_loss: 1929.9668\n",
      "Epoch 156/500\n",
      "24/24 [==============================] - 0s 7ms/step - loss: 408.8693 - val_loss: 1931.4620\n",
      "Epoch 157/500\n",
      "24/24 [==============================] - 0s 6ms/step - loss: 408.8109 - val_loss: 1932.8872\n",
      "Epoch 158/500\n",
      "24/24 [==============================] - 0s 7ms/step - loss: 408.7566 - val_loss: 1934.2438\n",
      "Epoch 159/500\n",
      "24/24 [==============================] - 0s 7ms/step - loss: 408.7063 - val_loss: 1935.5361\n",
      "Epoch 160/500\n",
      "24/24 [==============================] - 0s 7ms/step - loss: 408.6598 - val_loss: 1936.7657\n",
      "Epoch 161/500\n",
      "24/24 [==============================] - 0s 9ms/step - loss: 408.6166 - val_loss: 1937.9369\n",
      "Epoch 162/500\n",
      "24/24 [==============================] - 0s 13ms/step - loss: 408.5766 - val_loss: 1939.0496\n",
      "Epoch 163/500\n",
      "24/24 [==============================] - 0s 17ms/step - loss: 408.5395 - val_loss: 1940.1084\n",
      "Epoch 164/500\n",
      "24/24 [==============================] - 0s 10ms/step - loss: 408.5050 - val_loss: 1941.1135\n",
      "Epoch 165/500\n",
      "24/24 [==============================] - 0s 9ms/step - loss: 408.4731 - val_loss: 1942.0690\n",
      "Epoch 166/500\n",
      "24/24 [==============================] - 0s 8ms/step - loss: 408.4435 - val_loss: 1942.9762\n",
      "Epoch 167/500\n",
      "24/24 [==============================] - 0s 8ms/step - loss: 408.4160 - val_loss: 1943.8363\n",
      "Epoch 168/500\n",
      "24/24 [==============================] - 0s 9ms/step - loss: 408.3905 - val_loss: 1944.6539\n",
      "Epoch 169/500\n",
      "24/24 [==============================] - 0s 9ms/step - loss: 408.3669 - val_loss: 1945.4293\n",
      "Epoch 170/500\n",
      "24/24 [==============================] - 0s 9ms/step - loss: 408.3449 - val_loss: 1946.1642\n",
      "Epoch 171/500\n",
      "24/24 [==============================] - 0s 9ms/step - loss: 408.3245 - val_loss: 1946.8599\n",
      "Epoch 172/500\n",
      "24/24 [==============================] - 0s 8ms/step - loss: 408.3056 - val_loss: 1947.5198\n",
      "Epoch 173/500\n",
      "24/24 [==============================] - 0s 7ms/step - loss: 408.2881 - val_loss: 1948.1450\n",
      "Epoch 174/500\n",
      "24/24 [==============================] - 0s 9ms/step - loss: 408.2718 - val_loss: 1948.7363\n",
      "Epoch 175/500\n",
      "24/24 [==============================] - 0s 8ms/step - loss: 408.2567 - val_loss: 1949.2969\n",
      "Epoch 176/500\n",
      "24/24 [==============================] - 0s 8ms/step - loss: 408.2428 - val_loss: 1949.8273\n",
      "Epoch 177/500\n",
      "24/24 [==============================] - 0s 7ms/step - loss: 408.2297 - val_loss: 1950.3280\n",
      "Epoch 178/500\n",
      "24/24 [==============================] - 0s 10ms/step - loss: 408.2178 - val_loss: 1950.8022\n",
      "Epoch 179/500\n",
      "24/24 [==============================] - 0s 8ms/step - loss: 408.2066 - val_loss: 1951.2506\n",
      "Epoch 180/500\n",
      "24/24 [==============================] - 0s 9ms/step - loss: 408.1962 - val_loss: 1951.6732\n",
      "Epoch 181/500\n",
      "24/24 [==============================] - 1s 23ms/step - loss: 408.1867 - val_loss: 1952.0737\n",
      "Epoch 182/500\n",
      "24/24 [==============================] - 0s 12ms/step - loss: 408.1778 - val_loss: 1952.4513\n",
      "Epoch 183/500\n",
      "24/24 [==============================] - 0s 7ms/step - loss: 408.1696 - val_loss: 1952.8076\n",
      "Epoch 184/500\n",
      "24/24 [==============================] - 0s 7ms/step - loss: 408.1620 - val_loss: 1953.1444\n",
      "Epoch 185/500\n",
      "24/24 [==============================] - 0s 6ms/step - loss: 408.1550 - val_loss: 1953.4617\n",
      "Epoch 186/500\n",
      "24/24 [==============================] - 0s 7ms/step - loss: 408.1486 - val_loss: 1953.7607\n",
      "Epoch 187/500\n",
      "24/24 [==============================] - 0s 7ms/step - loss: 408.1425 - val_loss: 1954.0431\n",
      "Epoch 188/500\n",
      "24/24 [==============================] - 0s 11ms/step - loss: 408.1370 - val_loss: 1954.3096\n",
      "Epoch 189/500\n",
      "24/24 [==============================] - 0s 12ms/step - loss: 408.1318 - val_loss: 1954.5602\n",
      "Epoch 190/500\n",
      "24/24 [==============================] - 0s 7ms/step - loss: 408.1271 - val_loss: 1954.7960\n",
      "Epoch 191/500\n",
      "24/24 [==============================] - 0s 7ms/step - loss: 408.1229 - val_loss: 1955.0194\n",
      "Epoch 192/500\n",
      "24/24 [==============================] - 0s 7ms/step - loss: 408.1188 - val_loss: 1955.2290\n",
      "Epoch 193/500\n",
      "24/24 [==============================] - 0s 6ms/step - loss: 408.1152 - val_loss: 1955.4263\n",
      "Epoch 194/500\n",
      "24/24 [==============================] - 0s 6ms/step - loss: 408.1118 - val_loss: 1955.6117\n",
      "Epoch 195/500\n",
      "24/24 [==============================] - 0s 6ms/step - loss: 408.1087 - val_loss: 1955.7869\n",
      "Epoch 196/500\n",
      "24/24 [==============================] - 0s 6ms/step - loss: 408.1059 - val_loss: 1955.9513\n",
      "Epoch 197/500\n",
      "24/24 [==============================] - 0s 8ms/step - loss: 408.1034 - val_loss: 1956.1056\n",
      "Epoch 198/500\n",
      "24/24 [==============================] - 0s 8ms/step - loss: 408.1010 - val_loss: 1956.2513\n",
      "Epoch 199/500\n",
      "24/24 [==============================] - 0s 6ms/step - loss: 408.0988 - val_loss: 1956.3877\n",
      "Epoch 200/500\n",
      "24/24 [==============================] - 0s 6ms/step - loss: 408.0969 - val_loss: 1956.5165\n",
      "Epoch 201/500\n",
      "24/24 [==============================] - 0s 6ms/step - loss: 408.0951 - val_loss: 1956.6370\n",
      "Epoch 202/500\n",
      "24/24 [==============================] - 0s 5ms/step - loss: 408.0936 - val_loss: 1956.7500\n",
      "Epoch 203/500\n",
      "24/24 [==============================] - 0s 6ms/step - loss: 408.0922 - val_loss: 1956.8571\n",
      "Epoch 204/500\n",
      "24/24 [==============================] - 0s 6ms/step - loss: 408.0909 - val_loss: 1956.9564\n",
      "Epoch 205/500\n",
      "24/24 [==============================] - 0s 6ms/step - loss: 408.0898 - val_loss: 1957.0503\n",
      "Epoch 206/500\n",
      "24/24 [==============================] - 0s 6ms/step - loss: 408.0887 - val_loss: 1957.1388\n",
      "Epoch 207/500\n",
      "24/24 [==============================] - 0s 7ms/step - loss: 408.0879 - val_loss: 1957.2214\n",
      "Epoch 208/500\n",
      "24/24 [==============================] - 0s 6ms/step - loss: 408.0871 - val_loss: 1957.2991\n",
      "Epoch 209/500\n",
      "24/24 [==============================] - 0s 6ms/step - loss: 408.0864 - val_loss: 1957.3718\n",
      "Epoch 210/500\n",
      "24/24 [==============================] - 0s 7ms/step - loss: 408.0858 - val_loss: 1957.4402\n",
      "Epoch 211/500\n",
      "24/24 [==============================] - 0s 6ms/step - loss: 408.0854 - val_loss: 1957.5034\n",
      "Epoch 212/500\n",
      "24/24 [==============================] - 0s 7ms/step - loss: 408.0850 - val_loss: 1957.5641\n",
      "Epoch 213/500\n",
      "24/24 [==============================] - 0s 7ms/step - loss: 408.0846 - val_loss: 1957.6199\n",
      "Epoch 214/500\n",
      "24/24 [==============================] - 0s 8ms/step - loss: 408.0844 - val_loss: 1957.6724\n",
      "Epoch 215/500\n",
      "24/24 [==============================] - 0s 7ms/step - loss: 408.0841 - val_loss: 1957.7220\n",
      "Epoch 216/500\n",
      "24/24 [==============================] - 0s 12ms/step - loss: 408.0840 - val_loss: 1957.7681\n",
      "Epoch 217/500\n",
      "24/24 [==============================] - 0s 10ms/step - loss: 408.0840 - val_loss: 1957.8115\n",
      "Epoch 218/500\n",
      "24/24 [==============================] - 0s 7ms/step - loss: 408.0840 - val_loss: 1957.8518\n",
      "Epoch 219/500\n",
      "24/24 [==============================] - 0s 7ms/step - loss: 408.0840 - val_loss: 1957.8898\n",
      "Epoch 220/500\n",
      "24/24 [==============================] - 0s 7ms/step - loss: 408.0840 - val_loss: 1957.9252\n",
      "Epoch 221/500\n",
      "24/24 [==============================] - 0s 7ms/step - loss: 408.0840 - val_loss: 1957.9589\n",
      "Epoch 222/500\n",
      "24/24 [==============================] - 0s 7ms/step - loss: 408.0842 - val_loss: 1957.9897\n",
      "Epoch 223/500\n",
      "24/24 [==============================] - 0s 6ms/step - loss: 408.0844 - val_loss: 1958.0190\n",
      "Epoch 224/500\n",
      "24/24 [==============================] - 0s 7ms/step - loss: 408.0845 - val_loss: 1958.0460\n",
      "Epoch 225/500\n",
      "24/24 [==============================] - 0s 9ms/step - loss: 408.0848 - val_loss: 1958.0714\n",
      "Epoch 226/500\n",
      "24/24 [==============================] - 0s 7ms/step - loss: 408.0851 - val_loss: 1958.0948\n",
      "Epoch 227/500\n",
      "24/24 [==============================] - 0s 6ms/step - loss: 408.0853 - val_loss: 1958.1174\n",
      "Epoch 228/500\n",
      "24/24 [==============================] - 0s 9ms/step - loss: 408.0856 - val_loss: 1958.1384\n",
      "Epoch 229/500\n",
      "24/24 [==============================] - 0s 8ms/step - loss: 408.0859 - val_loss: 1958.1572\n",
      "Epoch 230/500\n",
      "24/24 [==============================] - 0s 6ms/step - loss: 408.0863 - val_loss: 1958.1761\n",
      "Epoch 231/500\n",
      "24/24 [==============================] - 0s 8ms/step - loss: 408.0865 - val_loss: 1958.1932\n",
      "Epoch 232/500\n",
      "24/24 [==============================] - 0s 7ms/step - loss: 408.0869 - val_loss: 1958.2091\n",
      "Epoch 233/500\n",
      "24/24 [==============================] - 0s 6ms/step - loss: 408.0872 - val_loss: 1958.2240\n",
      "Epoch 234/500\n",
      "24/24 [==============================] - 0s 8ms/step - loss: 408.0876 - val_loss: 1958.2371\n",
      "Epoch 235/500\n",
      "24/24 [==============================] - 0s 10ms/step - loss: 408.0881 - val_loss: 1958.2509\n",
      "Epoch 236/500\n",
      "24/24 [==============================] - 0s 10ms/step - loss: 408.0885 - val_loss: 1958.2625\n",
      "Epoch 237/500\n",
      "24/24 [==============================] - 0s 9ms/step - loss: 408.0888 - val_loss: 1958.2740\n",
      "Epoch 238/500\n",
      "24/24 [==============================] - 0s 7ms/step - loss: 408.0891 - val_loss: 1958.2844\n",
      "Epoch 239/500\n",
      "24/24 [==============================] - 0s 7ms/step - loss: 408.0896 - val_loss: 1958.2944\n",
      "Epoch 240/500\n",
      "24/24 [==============================] - 0s 7ms/step - loss: 408.0900 - val_loss: 1958.3035\n",
      "Epoch 241/500\n",
      "24/24 [==============================] - 0s 11ms/step - loss: 408.0904 - val_loss: 1958.3124\n",
      "Epoch 242/500\n",
      "24/24 [==============================] - 0s 11ms/step - loss: 408.0908 - val_loss: 1958.3207\n",
      "Epoch 243/500\n",
      "24/24 [==============================] - 0s 7ms/step - loss: 408.0911 - val_loss: 1958.3281\n",
      "Epoch 244/500\n",
      "24/24 [==============================] - 0s 6ms/step - loss: 408.0916 - val_loss: 1958.3346\n",
      "Epoch 245/500\n",
      "24/24 [==============================] - 0s 6ms/step - loss: 408.0920 - val_loss: 1958.3411\n",
      "Epoch 246/500\n",
      "24/24 [==============================] - 0s 5ms/step - loss: 408.0925 - val_loss: 1958.3472\n",
      "Epoch 247/500\n",
      "24/24 [==============================] - 0s 6ms/step - loss: 408.0929 - val_loss: 1958.3533\n",
      "Epoch 248/500\n",
      "24/24 [==============================] - 0s 5ms/step - loss: 408.0933 - val_loss: 1958.3589\n",
      "Epoch 249/500\n",
      "24/24 [==============================] - 0s 7ms/step - loss: 408.0936 - val_loss: 1958.3635\n",
      "Epoch 250/500\n",
      "24/24 [==============================] - 0s 6ms/step - loss: 408.0940 - val_loss: 1958.3679\n",
      "Epoch 251/500\n",
      "24/24 [==============================] - 0s 5ms/step - loss: 408.0945 - val_loss: 1958.3721\n",
      "Epoch 252/500\n",
      "24/24 [==============================] - 0s 6ms/step - loss: 408.0948 - val_loss: 1958.3768\n",
      "Epoch 253/500\n",
      "24/24 [==============================] - 0s 6ms/step - loss: 408.0952 - val_loss: 1958.3801\n",
      "Epoch 254/500\n",
      "24/24 [==============================] - 0s 6ms/step - loss: 408.0956 - val_loss: 1958.3840\n",
      "Epoch 255/500\n",
      "24/24 [==============================] - 0s 5ms/step - loss: 408.0960 - val_loss: 1958.3868\n",
      "Epoch 256/500\n",
      "24/24 [==============================] - 0s 6ms/step - loss: 408.0963 - val_loss: 1958.3901\n",
      "Epoch 257/500\n",
      "24/24 [==============================] - 0s 5ms/step - loss: 408.0967 - val_loss: 1958.3931\n",
      "Epoch 258/500\n",
      "24/24 [==============================] - 0s 7ms/step - loss: 408.0970 - val_loss: 1958.3959\n",
      "Epoch 259/500\n",
      "24/24 [==============================] - 0s 6ms/step - loss: 408.0974 - val_loss: 1958.3977\n",
      "Epoch 260/500\n",
      "24/24 [==============================] - 0s 5ms/step - loss: 408.0977 - val_loss: 1958.3997\n",
      "Epoch 261/500\n",
      "24/24 [==============================] - 0s 6ms/step - loss: 408.0982 - val_loss: 1958.4016\n",
      "Epoch 262/500\n",
      "24/24 [==============================] - 0s 5ms/step - loss: 408.0984 - val_loss: 1958.4041\n",
      "Epoch 263/500\n",
      "24/24 [==============================] - 0s 6ms/step - loss: 408.0988 - val_loss: 1958.4062\n",
      "Epoch 264/500\n",
      "24/24 [==============================] - 0s 5ms/step - loss: 408.0992 - val_loss: 1958.4078\n",
      "Epoch 265/500\n",
      "24/24 [==============================] - 0s 6ms/step - loss: 408.0995 - val_loss: 1958.4092\n",
      "Epoch 266/500\n",
      "24/24 [==============================] - 0s 5ms/step - loss: 408.0998 - val_loss: 1958.4106\n",
      "Epoch 267/500\n",
      "24/24 [==============================] - 0s 7ms/step - loss: 408.1001 - val_loss: 1958.4120\n",
      "Epoch 268/500\n",
      "24/24 [==============================] - 0s 6ms/step - loss: 408.1004 - val_loss: 1958.4142\n",
      "Epoch 269/500\n",
      "24/24 [==============================] - 0s 5ms/step - loss: 408.1006 - val_loss: 1958.4152\n",
      "Epoch 270/500\n",
      "24/24 [==============================] - 0s 12ms/step - loss: 408.1011 - val_loss: 1958.4165\n",
      "Epoch 271/500\n",
      "24/24 [==============================] - 0s 7ms/step - loss: 408.1013 - val_loss: 1958.4172\n",
      "Epoch 272/500\n",
      "24/24 [==============================] - 0s 6ms/step - loss: 408.1017 - val_loss: 1958.4175\n",
      "Epoch 273/500\n",
      "24/24 [==============================] - 0s 6ms/step - loss: 408.1018 - val_loss: 1958.4186\n",
      "Epoch 274/500\n",
      "24/24 [==============================] - 0s 6ms/step - loss: 408.1022 - val_loss: 1958.4194\n",
      "Epoch 275/500\n",
      "24/24 [==============================] - 0s 6ms/step - loss: 408.1025 - val_loss: 1958.4197\n",
      "Epoch 276/500\n",
      "24/24 [==============================] - 0s 7ms/step - loss: 408.1028 - val_loss: 1958.4197\n",
      "Epoch 277/500\n",
      "24/24 [==============================] - 0s 6ms/step - loss: 408.1031 - val_loss: 1958.4209\n",
      "Epoch 278/500\n",
      "24/24 [==============================] - 0s 6ms/step - loss: 408.1033 - val_loss: 1958.4220\n",
      "Epoch 279/500\n",
      "24/24 [==============================] - 0s 6ms/step - loss: 408.1035 - val_loss: 1958.4224\n",
      "Epoch 280/500\n",
      "24/24 [==============================] - 0s 6ms/step - loss: 408.1038 - val_loss: 1958.4229\n",
      "Epoch 281/500\n",
      "24/24 [==============================] - 0s 7ms/step - loss: 408.1041 - val_loss: 1958.4243\n",
      "Epoch 282/500\n",
      "24/24 [==============================] - 0s 6ms/step - loss: 408.1042 - val_loss: 1958.4250\n",
      "Epoch 283/500\n",
      "24/24 [==============================] - 0s 6ms/step - loss: 408.1044 - val_loss: 1958.4250\n",
      "Epoch 284/500\n",
      "24/24 [==============================] - 0s 7ms/step - loss: 408.1047 - val_loss: 1958.4257\n",
      "Epoch 285/500\n",
      "24/24 [==============================] - 0s 6ms/step - loss: 408.1049 - val_loss: 1958.4260\n",
      "Epoch 286/500\n",
      "24/24 [==============================] - 0s 6ms/step - loss: 408.1052 - val_loss: 1958.4260\n",
      "Epoch 287/500\n",
      "24/24 [==============================] - 0s 6ms/step - loss: 408.1055 - val_loss: 1958.4261\n",
      "Epoch 288/500\n",
      "24/24 [==============================] - 0s 7ms/step - loss: 408.1056 - val_loss: 1958.4266\n",
      "Epoch 289/500\n",
      "24/24 [==============================] - 0s 6ms/step - loss: 408.1058 - val_loss: 1958.4268\n",
      "Epoch 290/500\n",
      "24/24 [==============================] - 0s 6ms/step - loss: 408.1060 - val_loss: 1958.4268\n",
      "Epoch 291/500\n",
      "24/24 [==============================] - 0s 6ms/step - loss: 408.1063 - val_loss: 1958.4268\n",
      "Epoch 292/500\n",
      "24/24 [==============================] - 0s 6ms/step - loss: 408.1064 - val_loss: 1958.4272\n",
      "Epoch 293/500\n",
      "24/24 [==============================] - 0s 6ms/step - loss: 408.1066 - val_loss: 1958.4276\n",
      "Epoch 294/500\n",
      "24/24 [==============================] - 0s 6ms/step - loss: 408.1068 - val_loss: 1958.4276\n",
      "Epoch 295/500\n",
      "24/24 [==============================] - 0s 7ms/step - loss: 408.1070 - val_loss: 1958.4280\n",
      "Epoch 296/500\n",
      "24/24 [==============================] - 0s 6ms/step - loss: 408.1071 - val_loss: 1958.4279\n",
      "Epoch 297/500\n",
      "24/24 [==============================] - 0s 13ms/step - loss: 408.1074 - val_loss: 1958.4280\n",
      "Epoch 298/500\n",
      "24/24 [==============================] - 0s 8ms/step - loss: 408.1075 - val_loss: 1958.4280\n",
      "Epoch 299/500\n",
      "24/24 [==============================] - 0s 6ms/step - loss: 408.1076 - val_loss: 1958.4280\n",
      "Epoch 300/500\n",
      "24/24 [==============================] - 0s 6ms/step - loss: 408.1078 - val_loss: 1958.4280\n",
      "Epoch 301/500\n",
      "24/24 [==============================] - 0s 5ms/step - loss: 408.1080 - val_loss: 1958.4281\n",
      "Epoch 302/500\n",
      "24/24 [==============================] - 0s 7ms/step - loss: 408.1082 - val_loss: 1958.4281\n",
      "Epoch 303/500\n",
      "24/24 [==============================] - 0s 6ms/step - loss: 408.1083 - val_loss: 1958.4281\n",
      "Epoch 304/500\n",
      "24/24 [==============================] - 0s 6ms/step - loss: 408.1084 - val_loss: 1958.4276\n",
      "Epoch 305/500\n",
      "24/24 [==============================] - 0s 6ms/step - loss: 408.1086 - val_loss: 1958.4280\n",
      "Epoch 306/500\n",
      "24/24 [==============================] - 0s 6ms/step - loss: 408.1087 - val_loss: 1958.4280\n",
      "Epoch 307/500\n",
      "24/24 [==============================] - 0s 6ms/step - loss: 408.1089 - val_loss: 1958.4280\n",
      "Epoch 308/500\n",
      "24/24 [==============================] - 0s 5ms/step - loss: 408.1090 - val_loss: 1958.4276\n",
      "Epoch 309/500\n",
      "24/24 [==============================] - 0s 6ms/step - loss: 408.1092 - val_loss: 1958.4276\n",
      "Epoch 310/500\n",
      "24/24 [==============================] - 0s 7ms/step - loss: 408.1093 - val_loss: 1958.4279\n",
      "Epoch 311/500\n",
      "24/24 [==============================] - 0s 6ms/step - loss: 408.1095 - val_loss: 1958.4279\n",
      "Epoch 312/500\n",
      "24/24 [==============================] - 0s 6ms/step - loss: 408.1095 - val_loss: 1958.4279\n",
      "Epoch 313/500\n",
      "24/24 [==============================] - 0s 6ms/step - loss: 408.1097 - val_loss: 1958.4279\n",
      "Epoch 314/500\n",
      "24/24 [==============================] - 0s 6ms/step - loss: 408.1098 - val_loss: 1958.4279\n",
      "Epoch 315/500\n",
      "24/24 [==============================] - 0s 5ms/step - loss: 408.1099 - val_loss: 1958.4279\n",
      "Epoch 316/500\n",
      "24/24 [==============================] - 0s 6ms/step - loss: 408.1100 - val_loss: 1958.4279\n",
      "Epoch 317/500\n",
      "24/24 [==============================] - 0s 6ms/step - loss: 408.1101 - val_loss: 1958.4279\n",
      "Epoch 318/500\n",
      "24/24 [==============================] - 0s 6ms/step - loss: 408.1102 - val_loss: 1958.4280\n",
      "Epoch 319/500\n",
      "24/24 [==============================] - 0s 6ms/step - loss: 408.1103 - val_loss: 1958.4276\n",
      "Epoch 320/500\n",
      "24/24 [==============================] - 0s 5ms/step - loss: 408.1104 - val_loss: 1958.4276\n",
      "Epoch 321/500\n",
      "24/24 [==============================] - 0s 6ms/step - loss: 408.1105 - val_loss: 1958.4276\n",
      "Epoch 322/500\n",
      "24/24 [==============================] - 0s 5ms/step - loss: 408.1106 - val_loss: 1958.4283\n",
      "Epoch 323/500\n",
      "24/24 [==============================] - 0s 6ms/step - loss: 408.1107 - val_loss: 1958.4283\n",
      "Epoch 324/500\n",
      "24/24 [==============================] - 0s 5ms/step - loss: 408.1109 - val_loss: 1958.4285\n",
      "Epoch 325/500\n",
      "24/24 [==============================] - 0s 5ms/step - loss: 408.1109 - val_loss: 1958.4288\n",
      "Epoch 326/500\n",
      "24/24 [==============================] - 0s 13ms/step - loss: 408.1109 - val_loss: 1958.4290\n",
      "Epoch 327/500\n",
      "24/24 [==============================] - 0s 17ms/step - loss: 408.1110 - val_loss: 1958.4290\n",
      "Epoch 328/500\n",
      "24/24 [==============================] - 0s 10ms/step - loss: 408.1112 - val_loss: 1958.4290\n",
      "Epoch 329/500\n",
      "24/24 [==============================] - 0s 6ms/step - loss: 408.1112 - val_loss: 1958.4294\n",
      "Epoch 330/500\n",
      "24/24 [==============================] - 0s 7ms/step - loss: 408.1113 - val_loss: 1958.4290\n",
      "Epoch 331/500\n",
      "24/24 [==============================] - 0s 6ms/step - loss: 408.1113 - val_loss: 1958.4288\n",
      "Epoch 332/500\n",
      "24/24 [==============================] - 0s 6ms/step - loss: 408.1114 - val_loss: 1958.4286\n",
      "Epoch 333/500\n",
      "24/24 [==============================] - 0s 6ms/step - loss: 408.1115 - val_loss: 1958.4283\n",
      "Epoch 334/500\n",
      "24/24 [==============================] - 0s 5ms/step - loss: 408.1116 - val_loss: 1958.4283\n",
      "Epoch 335/500\n",
      "24/24 [==============================] - 0s 7ms/step - loss: 408.1116 - val_loss: 1958.4280\n",
      "Epoch 336/500\n",
      "24/24 [==============================] - 0s 6ms/step - loss: 408.1118 - val_loss: 1958.4275\n",
      "Epoch 337/500\n",
      "24/24 [==============================] - 0s 6ms/step - loss: 408.1118 - val_loss: 1958.4272\n",
      "Epoch 338/500\n",
      "24/24 [==============================] - 0s 6ms/step - loss: 408.1119 - val_loss: 1958.4271\n",
      "Epoch 339/500\n",
      "24/24 [==============================] - 0s 5ms/step - loss: 408.1120 - val_loss: 1958.4272\n",
      "Epoch 340/500\n",
      "24/24 [==============================] - 0s 6ms/step - loss: 408.1121 - val_loss: 1958.4276\n",
      "Epoch 341/500\n",
      "24/24 [==============================] - 0s 5ms/step - loss: 408.1121 - val_loss: 1958.4276\n",
      "Epoch 342/500\n",
      "24/24 [==============================] - 0s 6ms/step - loss: 408.1122 - val_loss: 1958.4280\n",
      "Epoch 343/500\n",
      "24/24 [==============================] - 0s 6ms/step - loss: 408.1122 - val_loss: 1957.5103\n",
      "Epoch 344/500\n",
      "24/24 [==============================] - 0s 8ms/step - loss: 408.2249 - val_loss: 1958.4445\n",
      "Epoch 345/500\n",
      "24/24 [==============================] - 0s 6ms/step - loss: 408.1121 - val_loss: 1958.4446\n",
      "Epoch 346/500\n",
      "24/24 [==============================] - 0s 5ms/step - loss: 408.1121 - val_loss: 1958.4435\n",
      "Epoch 347/500\n",
      "24/24 [==============================] - 0s 6ms/step - loss: 408.1121 - val_loss: 1958.4421\n",
      "Epoch 348/500\n",
      "24/24 [==============================] - 0s 5ms/step - loss: 408.1121 - val_loss: 1958.4403\n",
      "Epoch 349/500\n",
      "24/24 [==============================] - 0s 5ms/step - loss: 408.1122 - val_loss: 1958.4397\n",
      "Epoch 350/500\n",
      "24/24 [==============================] - 0s 5ms/step - loss: 408.1123 - val_loss: 1958.4375\n",
      "Epoch 351/500\n",
      "24/24 [==============================] - 0s 13ms/step - loss: 408.1125 - val_loss: 1958.4366\n",
      "Epoch 352/500\n",
      "24/24 [==============================] - 0s 6ms/step - loss: 408.1126 - val_loss: 1958.4366\n",
      "Epoch 353/500\n",
      "24/24 [==============================] - 0s 6ms/step - loss: 408.1126 - val_loss: 1958.4362\n",
      "Epoch 354/500\n",
      "24/24 [==============================] - 0s 6ms/step - loss: 408.1126 - val_loss: 1958.4355\n",
      "Epoch 355/500\n",
      "24/24 [==============================] - 0s 7ms/step - loss: 408.1127 - val_loss: 1958.4348\n",
      "Epoch 356/500\n",
      "24/24 [==============================] - 0s 7ms/step - loss: 408.1127 - val_loss: 1958.4338\n",
      "Epoch 357/500\n",
      "24/24 [==============================] - 0s 6ms/step - loss: 408.1127 - val_loss: 1958.4333\n",
      "Epoch 358/500\n",
      "24/24 [==============================] - 0s 7ms/step - loss: 408.1128 - val_loss: 1958.4327\n",
      "Epoch 359/500\n",
      "24/24 [==============================] - 0s 7ms/step - loss: 408.1129 - val_loss: 1958.4326\n",
      "Epoch 360/500\n",
      "24/24 [==============================] - 0s 6ms/step - loss: 408.1129 - val_loss: 1958.4319\n",
      "Epoch 361/500\n",
      "24/24 [==============================] - 0s 6ms/step - loss: 408.1130 - val_loss: 1958.4313\n",
      "Epoch 362/500\n",
      "24/24 [==============================] - 0s 5ms/step - loss: 408.1130 - val_loss: 1958.4299\n",
      "Epoch 363/500\n",
      "24/24 [==============================] - 0s 7ms/step - loss: 408.1131 - val_loss: 1958.4290\n",
      "Epoch 364/500\n",
      "24/24 [==============================] - 0s 6ms/step - loss: 408.1132 - val_loss: 1958.4286\n",
      "Epoch 365/500\n",
      "24/24 [==============================] - 0s 6ms/step - loss: 408.1133 - val_loss: 1958.4286\n",
      "Epoch 366/500\n",
      "24/24 [==============================] - 0s 7ms/step - loss: 408.1133 - val_loss: 1958.4283\n",
      "Epoch 367/500\n",
      "24/24 [==============================] - 0s 8ms/step - loss: 408.1133 - val_loss: 1958.4283\n",
      "Epoch 368/500\n",
      "24/24 [==============================] - 0s 6ms/step - loss: 408.1134 - val_loss: 1958.4283\n",
      "Epoch 369/500\n",
      "24/24 [==============================] - 0s 6ms/step - loss: 408.1134 - val_loss: 1958.4293\n",
      "Epoch 370/500\n",
      "24/24 [==============================] - 0s 6ms/step - loss: 408.1134 - val_loss: 1958.4290\n",
      "Epoch 371/500\n",
      "24/24 [==============================] - 0s 7ms/step - loss: 408.1133 - val_loss: 1958.4283\n",
      "Epoch 372/500\n",
      "24/24 [==============================] - 0s 8ms/step - loss: 408.1134 - val_loss: 1958.4279\n",
      "Epoch 373/500\n",
      "24/24 [==============================] - 0s 6ms/step - loss: 408.1135 - val_loss: 1958.4276\n",
      "Epoch 374/500\n",
      "24/24 [==============================] - 0s 7ms/step - loss: 408.1135 - val_loss: 1958.4275\n",
      "Epoch 375/500\n",
      "24/24 [==============================] - 0s 14ms/step - loss: 408.1136 - val_loss: 1958.4270\n",
      "Epoch 376/500\n",
      "24/24 [==============================] - 0s 12ms/step - loss: 408.1136 - val_loss: 1958.4265\n",
      "Epoch 377/500\n",
      "24/24 [==============================] - 0s 7ms/step - loss: 408.1137 - val_loss: 1958.4270\n",
      "Epoch 378/500\n",
      "24/24 [==============================] - 0s 8ms/step - loss: 408.1137 - val_loss: 1958.4268\n",
      "Epoch 379/500\n",
      "24/24 [==============================] - 0s 9ms/step - loss: 408.1137 - val_loss: 1958.4266\n",
      "Epoch 380/500\n",
      "24/24 [==============================] - 0s 9ms/step - loss: 408.1137 - val_loss: 1958.4261\n",
      "Epoch 381/500\n",
      "24/24 [==============================] - 0s 7ms/step - loss: 408.1137 - val_loss: 1958.4257\n",
      "Epoch 382/500\n",
      "24/24 [==============================] - 0s 6ms/step - loss: 408.1138 - val_loss: 1958.4252\n",
      "Epoch 383/500\n",
      "24/24 [==============================] - 0s 6ms/step - loss: 408.1138 - val_loss: 1958.4252\n",
      "Epoch 384/500\n",
      "24/24 [==============================] - 0s 6ms/step - loss: 408.1139 - val_loss: 1958.4257\n",
      "Epoch 385/500\n",
      "24/24 [==============================] - 0s 7ms/step - loss: 408.1139 - val_loss: 1958.4261\n",
      "Epoch 386/500\n",
      "24/24 [==============================] - 0s 6ms/step - loss: 408.1139 - val_loss: 1958.4270\n",
      "Epoch 387/500\n",
      "24/24 [==============================] - 0s 8ms/step - loss: 408.1139 - val_loss: 1958.4272\n",
      "Epoch 388/500\n",
      "24/24 [==============================] - 0s 6ms/step - loss: 408.1139 - val_loss: 1958.4279\n",
      "Epoch 389/500\n",
      "24/24 [==============================] - 0s 5ms/step - loss: 408.1139 - val_loss: 1958.4279\n",
      "Epoch 390/500\n",
      "24/24 [==============================] - 0s 7ms/step - loss: 408.1139 - val_loss: 1958.4279\n",
      "Epoch 391/500\n",
      "24/24 [==============================] - 0s 6ms/step - loss: 408.1139 - val_loss: 1958.4276\n",
      "Epoch 392/500\n",
      "24/24 [==============================] - 0s 6ms/step - loss: 408.1139 - val_loss: 1958.4268\n",
      "Epoch 393/500\n",
      "24/24 [==============================] - 0s 7ms/step - loss: 408.1139 - val_loss: 1958.4268\n",
      "Epoch 394/500\n",
      "24/24 [==============================] - 0s 7ms/step - loss: 408.1140 - val_loss: 1958.4265\n",
      "Epoch 395/500\n",
      "24/24 [==============================] - 0s 8ms/step - loss: 408.1140 - val_loss: 1958.4258\n",
      "Epoch 396/500\n",
      "24/24 [==============================] - 0s 5ms/step - loss: 408.1141 - val_loss: 1958.4258\n",
      "Epoch 397/500\n",
      "24/24 [==============================] - 0s 13ms/step - loss: 408.1141 - val_loss: 1958.4252\n",
      "Epoch 398/500\n",
      "24/24 [==============================] - 0s 6ms/step - loss: 408.1141 - val_loss: 1958.4250\n",
      "Epoch 399/500\n",
      "24/24 [==============================] - 0s 7ms/step - loss: 408.1141 - val_loss: 1958.4252\n",
      "Epoch 400/500\n",
      "24/24 [==============================] - 0s 7ms/step - loss: 408.1141 - val_loss: 1958.4250\n",
      "Epoch 401/500\n",
      "24/24 [==============================] - 0s 6ms/step - loss: 408.1141 - val_loss: 1958.4248\n",
      "Epoch 402/500\n",
      "24/24 [==============================] - 0s 7ms/step - loss: 408.1141 - val_loss: 1958.4248\n",
      "Epoch 403/500\n",
      "24/24 [==============================] - 0s 6ms/step - loss: 408.1142 - val_loss: 1958.4248\n",
      "Epoch 404/500\n",
      "24/24 [==============================] - 0s 6ms/step - loss: 408.1142 - val_loss: 1958.4257\n",
      "Epoch 405/500\n",
      "24/24 [==============================] - 0s 6ms/step - loss: 408.1142 - val_loss: 1958.4260\n",
      "Epoch 406/500\n",
      "24/24 [==============================] - 0s 6ms/step - loss: 408.1141 - val_loss: 1958.4260\n",
      "Epoch 407/500\n",
      "24/24 [==============================] - 0s 6ms/step - loss: 408.1141 - val_loss: 1958.4258\n",
      "Epoch 408/500\n",
      "24/24 [==============================] - 0s 6ms/step - loss: 408.1141 - val_loss: 1958.4258\n",
      "Epoch 409/500\n",
      "24/24 [==============================] - 0s 6ms/step - loss: 408.1142 - val_loss: 1958.4253\n",
      "Epoch 410/500\n",
      "24/24 [==============================] - 0s 6ms/step - loss: 408.1142 - val_loss: 1958.4253\n",
      "Epoch 411/500\n",
      "24/24 [==============================] - 0s 6ms/step - loss: 408.1142 - val_loss: 1958.4250\n",
      "Epoch 412/500\n",
      "24/24 [==============================] - 0s 6ms/step - loss: 408.1142 - val_loss: 1958.4248\n",
      "Epoch 413/500\n",
      "24/24 [==============================] - 0s 6ms/step - loss: 408.1142 - val_loss: 1958.4243\n",
      "Epoch 414/500\n",
      "24/24 [==============================] - 0s 7ms/step - loss: 408.1142 - val_loss: 1958.4238\n",
      "Epoch 415/500\n",
      "24/24 [==============================] - 0s 7ms/step - loss: 408.1142 - val_loss: 1958.4235\n",
      "Epoch 416/500\n",
      "24/24 [==============================] - 0s 5ms/step - loss: 408.1142 - val_loss: 1958.4235\n",
      "Epoch 417/500\n",
      "24/24 [==============================] - 0s 6ms/step - loss: 408.1142 - val_loss: 1958.4233\n",
      "Epoch 418/500\n",
      "24/24 [==============================] - 0s 5ms/step - loss: 408.1143 - val_loss: 1958.4232\n",
      "Epoch 419/500\n",
      "24/24 [==============================] - 0s 10ms/step - loss: 408.1143 - val_loss: 1958.4227\n",
      "Epoch 420/500\n",
      "24/24 [==============================] - 0s 9ms/step - loss: 408.1144 - val_loss: 1958.4225\n",
      "Epoch 421/500\n",
      "24/24 [==============================] - 0s 7ms/step - loss: 408.1144 - val_loss: 1958.4224\n",
      "Epoch 422/500\n",
      "24/24 [==============================] - 0s 6ms/step - loss: 408.1145 - val_loss: 1958.4222\n",
      "Epoch 423/500\n",
      "24/24 [==============================] - 0s 6ms/step - loss: 408.1145 - val_loss: 1958.4222\n",
      "Epoch 424/500\n",
      "24/24 [==============================] - 0s 6ms/step - loss: 408.1145 - val_loss: 1958.4222\n",
      "Epoch 425/500\n",
      "24/24 [==============================] - 0s 7ms/step - loss: 408.1145 - val_loss: 1958.4218\n",
      "Epoch 426/500\n",
      "24/24 [==============================] - 0s 7ms/step - loss: 408.1145 - val_loss: 1958.4218\n",
      "Epoch 427/500\n",
      "24/24 [==============================] - 0s 6ms/step - loss: 408.1145 - val_loss: 1958.4215\n",
      "Epoch 428/500\n",
      "24/24 [==============================] - 0s 5ms/step - loss: 408.1146 - val_loss: 1958.4218\n",
      "Epoch 429/500\n",
      "24/24 [==============================] - 0s 9ms/step - loss: 408.1146 - val_loss: 1958.4219\n",
      "Epoch 430/500\n",
      "24/24 [==============================] - 0s 6ms/step - loss: 408.1146 - val_loss: 1958.4224\n",
      "Epoch 431/500\n",
      "24/24 [==============================] - 0s 6ms/step - loss: 408.1145 - val_loss: 1958.4225\n",
      "Epoch 432/500\n",
      "24/24 [==============================] - 0s 6ms/step - loss: 408.1145 - val_loss: 1958.4237\n",
      "Epoch 433/500\n",
      "24/24 [==============================] - 0s 6ms/step - loss: 408.1145 - val_loss: 1958.4246\n",
      "Epoch 434/500\n",
      "24/24 [==============================] - 0s 6ms/step - loss: 408.1145 - val_loss: 1958.4247\n",
      "Epoch 435/500\n",
      "24/24 [==============================] - 0s 7ms/step - loss: 408.1145 - val_loss: 1958.4253\n",
      "Epoch 436/500\n",
      "24/24 [==============================] - 0s 6ms/step - loss: 408.1145 - val_loss: 1958.4257\n",
      "Epoch 437/500\n",
      "24/24 [==============================] - 0s 6ms/step - loss: 408.1144 - val_loss: 1958.4260\n",
      "Epoch 438/500\n",
      "24/24 [==============================] - 0s 7ms/step - loss: 408.1145 - val_loss: 1958.4261\n",
      "Epoch 439/500\n",
      "24/24 [==============================] - 0s 6ms/step - loss: 408.1144 - val_loss: 1958.4266\n",
      "Epoch 440/500\n",
      "24/24 [==============================] - 0s 6ms/step - loss: 408.1145 - val_loss: 1958.4271\n",
      "Epoch 441/500\n",
      "24/24 [==============================] - 0s 6ms/step - loss: 408.1144 - val_loss: 1958.4271\n",
      "Epoch 442/500\n",
      "24/24 [==============================] - 0s 15ms/step - loss: 408.1144 - val_loss: 1958.4275\n",
      "Epoch 443/500\n",
      "24/24 [==============================] - 0s 7ms/step - loss: 408.1144 - val_loss: 1958.4272\n",
      "Epoch 444/500\n",
      "24/24 [==============================] - 0s 6ms/step - loss: 408.1144 - val_loss: 1958.4272\n",
      "Epoch 445/500\n",
      "24/24 [==============================] - 0s 6ms/step - loss: 408.1144 - val_loss: 1958.4271\n",
      "Epoch 446/500\n",
      "24/24 [==============================] - 0s 6ms/step - loss: 408.1144 - val_loss: 1958.4270\n",
      "Epoch 447/500\n",
      "24/24 [==============================] - 0s 6ms/step - loss: 408.1144 - val_loss: 1958.4270\n",
      "Epoch 448/500\n",
      "24/24 [==============================] - 0s 5ms/step - loss: 408.1145 - val_loss: 1958.4268\n",
      "Epoch 449/500\n",
      "24/24 [==============================] - 0s 8ms/step - loss: 408.1144 - val_loss: 1958.4266\n",
      "Epoch 450/500\n",
      "24/24 [==============================] - 0s 7ms/step - loss: 408.1144 - val_loss: 1958.4263\n",
      "Epoch 451/500\n",
      "24/24 [==============================] - 0s 6ms/step - loss: 408.1144 - val_loss: 1958.4258\n",
      "Epoch 452/500\n",
      "24/24 [==============================] - 0s 5ms/step - loss: 408.1144 - val_loss: 1958.4250\n",
      "Epoch 453/500\n",
      "24/24 [==============================] - 0s 6ms/step - loss: 408.1145 - val_loss: 1958.4243\n",
      "Epoch 454/500\n",
      "24/24 [==============================] - 0s 5ms/step - loss: 408.1145 - val_loss: 1958.4243\n",
      "Epoch 455/500\n",
      "24/24 [==============================] - 0s 7ms/step - loss: 408.1145 - val_loss: 1958.4237\n",
      "Epoch 456/500\n",
      "24/24 [==============================] - 0s 6ms/step - loss: 408.1144 - val_loss: 1958.4235\n",
      "Epoch 457/500\n",
      "24/24 [==============================] - 0s 7ms/step - loss: 408.1145 - val_loss: 1958.4235\n",
      "Epoch 458/500\n",
      "24/24 [==============================] - 0s 7ms/step - loss: 408.1145 - val_loss: 1958.4230\n",
      "Epoch 459/500\n",
      "24/24 [==============================] - 0s 6ms/step - loss: 408.1145 - val_loss: 1958.4227\n",
      "Epoch 460/500\n",
      "24/24 [==============================] - 0s 6ms/step - loss: 408.1145 - val_loss: 1958.4222\n",
      "Epoch 461/500\n",
      "24/24 [==============================] - 0s 6ms/step - loss: 408.1145 - val_loss: 1958.4219\n",
      "Epoch 462/500\n",
      "24/24 [==============================] - 0s 6ms/step - loss: 408.1145 - val_loss: 1958.4218\n",
      "Epoch 463/500\n",
      "24/24 [==============================] - 0s 6ms/step - loss: 408.1145 - val_loss: 1958.4213\n",
      "Epoch 464/500\n",
      "24/24 [==============================] - 0s 13ms/step - loss: 408.1145 - val_loss: 1958.4208\n",
      "Epoch 465/500\n",
      "24/24 [==============================] - 0s 6ms/step - loss: 408.1146 - val_loss: 1958.4203\n",
      "Epoch 466/500\n",
      "24/24 [==============================] - 0s 6ms/step - loss: 408.1146 - val_loss: 1958.4203\n",
      "Epoch 467/500\n",
      "24/24 [==============================] - 0s 7ms/step - loss: 408.1146 - val_loss: 1958.4196\n",
      "Epoch 468/500\n",
      "24/24 [==============================] - 0s 10ms/step - loss: 408.1147 - val_loss: 1958.4191\n",
      "Epoch 469/500\n",
      "24/24 [==============================] - 0s 13ms/step - loss: 408.1147 - val_loss: 1958.4189\n",
      "Epoch 470/500\n",
      "24/24 [==============================] - 0s 7ms/step - loss: 408.1146 - val_loss: 1958.4186\n",
      "Epoch 471/500\n",
      "24/24 [==============================] - 0s 6ms/step - loss: 408.1147 - val_loss: 1958.4185\n",
      "Epoch 472/500\n",
      "24/24 [==============================] - 0s 7ms/step - loss: 408.1147 - val_loss: 1958.4185\n",
      "Epoch 473/500\n",
      "24/24 [==============================] - 0s 7ms/step - loss: 408.1147 - val_loss: 1958.4182\n",
      "Epoch 474/500\n",
      "24/24 [==============================] - 0s 7ms/step - loss: 408.1147 - val_loss: 1958.4182\n",
      "Epoch 475/500\n",
      "24/24 [==============================] - 0s 6ms/step - loss: 408.1148 - val_loss: 1958.4182\n",
      "Epoch 476/500\n",
      "24/24 [==============================] - 0s 6ms/step - loss: 408.1148 - val_loss: 1958.4185\n",
      "Epoch 477/500\n",
      "24/24 [==============================] - 0s 6ms/step - loss: 408.1148 - val_loss: 1958.4185\n",
      "Epoch 478/500\n",
      "24/24 [==============================] - 0s 6ms/step - loss: 408.1148 - val_loss: 1958.4185\n",
      "Epoch 479/500\n",
      "24/24 [==============================] - 0s 6ms/step - loss: 408.1148 - val_loss: 1958.4185\n",
      "Epoch 480/500\n",
      "24/24 [==============================] - 0s 7ms/step - loss: 408.1148 - val_loss: 1958.4182\n",
      "Epoch 481/500\n",
      "24/24 [==============================] - 0s 6ms/step - loss: 408.1148 - val_loss: 1958.4182\n",
      "Epoch 482/500\n",
      "24/24 [==============================] - 0s 6ms/step - loss: 408.1148 - val_loss: 1958.4182\n",
      "Epoch 483/500\n",
      "24/24 [==============================] - 0s 6ms/step - loss: 408.1148 - val_loss: 1958.4185\n",
      "Epoch 484/500\n",
      "24/24 [==============================] - 0s 14ms/step - loss: 408.1148 - val_loss: 1958.4185\n",
      "Epoch 485/500\n",
      "24/24 [==============================] - 0s 6ms/step - loss: 408.1148 - val_loss: 1958.4181\n",
      "Epoch 486/500\n",
      "24/24 [==============================] - 0s 6ms/step - loss: 408.1148 - val_loss: 1958.4181\n",
      "Epoch 487/500\n",
      "24/24 [==============================] - 0s 7ms/step - loss: 408.1148 - val_loss: 1958.4181\n",
      "Epoch 488/500\n",
      "24/24 [==============================] - 0s 6ms/step - loss: 408.1148 - val_loss: 1958.4181\n",
      "Epoch 489/500\n",
      "24/24 [==============================] - 0s 7ms/step - loss: 408.1148 - val_loss: 1958.4182\n",
      "Epoch 490/500\n",
      "24/24 [==============================] - 0s 6ms/step - loss: 408.1148 - val_loss: 1958.4182\n",
      "Epoch 491/500\n",
      "24/24 [==============================] - 0s 7ms/step - loss: 408.1148 - val_loss: 1958.4181\n",
      "Epoch 492/500\n",
      "24/24 [==============================] - 0s 7ms/step - loss: 408.1148 - val_loss: 1958.4181\n",
      "Epoch 493/500\n",
      "24/24 [==============================] - 0s 7ms/step - loss: 408.1148 - val_loss: 1958.4181\n",
      "Epoch 494/500\n",
      "24/24 [==============================] - 0s 7ms/step - loss: 408.1148 - val_loss: 1958.4181\n",
      "Epoch 495/500\n",
      "24/24 [==============================] - 0s 7ms/step - loss: 408.1148 - val_loss: 1958.4181\n",
      "Epoch 496/500\n",
      "24/24 [==============================] - 0s 7ms/step - loss: 408.1148 - val_loss: 1958.4181\n",
      "Epoch 497/500\n",
      "24/24 [==============================] - 0s 7ms/step - loss: 408.1148 - val_loss: 1958.4181\n",
      "Epoch 498/500\n",
      "24/24 [==============================] - 0s 7ms/step - loss: 408.1148 - val_loss: 1958.4180\n",
      "Epoch 499/500\n",
      "24/24 [==============================] - 0s 8ms/step - loss: 408.1148 - val_loss: 1958.4180\n",
      "Epoch 500/500\n",
      "24/24 [==============================] - 0s 10ms/step - loss: 408.1148 - val_loss: 1958.4180\n"
     ]
    }
   ],
   "source": [
    "C0 = tf.Variable(86.6856, name=\"C0\", trainable=True, dtype=tf.float32)\n",
    "K0 = tf.Variable(-0.0008, name=\"K0\", trainable=True, dtype=tf.float32)\n",
    "K1 = tf.Variable(-0.0002, name=\"K1\", trainable=True, dtype=tf.float32)\n",
    "a = tf.Variable(0.0000, name=\"a\", trainable=True, dtype=tf.float32)\n",
    "b = tf.Variable(0.0128, name=\"b\", trainable=True, dtype=tf.float32)\n",
    "c = tf.Variable(-2.3003, name=\"c\", trainable=True, dtype=tf.float32)\n",
    "\n",
    "splitr = 0.8\n",
    "\n",
    "\n",
    "def loss_fn(y_true, y_pred):\n",
    "    squared_difference = tf.square(y_true[:, 0] - y_pred[:, 0])\n",
    "    #squared_difference2 = tf.square(y_true[:, 2]-y_pred[:, 2])\n",
    "    #squared_difference1 = tf.square(y_true[:, 1]-y_pred[:, 1])\n",
    "    epsilon = 1\n",
    "    squared_difference3 = tf.square(\n",
    "        y_pred[:, 1] - (\n",
    "            y_pred[:, 0] * (\n",
    "                K0 - K1 * (\n",
    "                    9 * a * tf.math.log((y_pred[:, 0] + epsilon) / C0) / (K0 - K1 * c)**2 +\n",
    "                    4 * b * tf.math.log((y_pred[:, 0] + epsilon) / C0) / (K0 - K1 * c) + c\n",
    "                )\n",
    "            )\n",
    "        )\n",
    "    )\n",
    "    return tf.reduce_mean(squared_difference, axis=-1) + 0.2*tf.reduce_mean(squared_difference3, axis=-1)\n",
    "model = Sequential()\n",
    "model.add(LSTM(100, input_shape=(trainX.shape[1], trainX.shape[2])))\n",
    "model.add(Dense(60))\n",
    "model.compile(loss=loss_fn, optimizer='adam')\n",
    "history = model.fit(trainX[:int(splitr*trainX.shape[0])], trainy[:int(splitr*trainX.shape[0])], epochs=500, batch_size=64, validation_data=(trainX[int(splitr*trainX.shape[0]):trainX.shape[0]], trainy[int(splitr*trainX.shape[0]):trainX.shape[0]]), shuffle=False)"
   ]
  },
  {
   "cell_type": "code",
   "execution_count": 19,
   "metadata": {
    "colab": {
     "base_uri": "https://localhost:8080/"
    },
    "id": "yJL101rPyuoT",
    "outputId": "239ff2b1-c186-423a-d316-939dfdd7c793"
   },
   "outputs": [
    {
     "name": "stdout",
     "output_type": "stream",
     "text": [
      "1/1 [==============================] - 1s 672ms/step\n"
     ]
    }
   ],
   "source": [
    "forecast_without_mc = forecastX\n",
    "yhat_without_mc = model.predict(forecast_without_mc) # Step Ahead Prediction\n",
    "forecast_without_mc = forecast_without_mc.reshape((forecast_without_mc.shape[0], forecast_without_mc.shape[2])) # Historical Input"
   ]
  },
  {
   "cell_type": "code",
   "execution_count": 20,
   "metadata": {
    "colab": {
     "base_uri": "https://localhost:8080/"
    },
    "id": "g9dQELcJ8wbp",
    "outputId": "4dc7671b-b1a8-48d5-8744-a86f98446109"
   },
   "outputs": [
    {
     "data": {
      "text/plain": [
       "(1, 1, 251)"
      ]
     },
     "execution_count": 20,
     "metadata": {},
     "output_type": "execute_result"
    }
   ],
   "source": [
    "forecastX.shape"
   ]
  },
  {
   "cell_type": "code",
   "execution_count": 21,
   "metadata": {
    "colab": {
     "base_uri": "https://localhost:8080/"
    },
    "id": "IS2kyIKG1Kbr",
    "outputId": "f31b3485-8e26-452f-9298-ea8bf7e80ad1"
   },
   "outputs": [
    {
     "data": {
      "text/plain": [
       "(1, 251)"
      ]
     },
     "execution_count": 21,
     "metadata": {},
     "output_type": "execute_result"
    }
   ],
   "source": [
    "forecast_without_mc.shape"
   ]
  },
  {
   "cell_type": "code",
   "execution_count": 22,
   "metadata": {
    "id": "0u6VIzaDyuoT"
   },
   "outputs": [],
   "source": [
    "inv_yhat_without_mc = np.concatenate((forecast_without_mc, yhat_without_mc), axis=1) # Concatenation of predicted values with Historical Data\n",
    "#inv_yhat_without_mc = scaler.inverse_transform(inv_yhat_without_mc) # Transform labels back to original encoding"
   ]
  },
  {
   "cell_type": "code",
   "execution_count": 23,
   "metadata": {
    "colab": {
     "base_uri": "https://localhost:8080/"
    },
    "id": "EUEcw0LX07oU",
    "outputId": "cfc32397-9c37-4b43-d087-584bb31c3dcc"
   },
   "outputs": [
    {
     "data": {
      "text/plain": [
       "(1, 311)"
      ]
     },
     "execution_count": 23,
     "metadata": {},
     "output_type": "execute_result"
    }
   ],
   "source": [
    "inv_yhat_without_mc.shape"
   ]
  },
  {
   "cell_type": "code",
   "execution_count": 24,
   "metadata": {
    "id": "31OWVbSh_305"
   },
   "outputs": [],
   "source": [
    "fforecast = inv_yhat_without_mc[:,-300:]"
   ]
  },
  {
   "cell_type": "code",
   "execution_count": 25,
   "metadata": {},
   "outputs": [
    {
     "data": {
      "text/plain": [
       "(1, 300)"
      ]
     },
     "execution_count": 25,
     "metadata": {},
     "output_type": "execute_result"
    }
   ],
   "source": [
    "fforecast.shape"
   ]
  },
  {
   "cell_type": "code",
   "execution_count": 26,
   "metadata": {
    "id": "BlpGH2FOAiRF"
   },
   "outputs": [],
   "source": [
    "final_forecast = fforecast[:,0:300:3]"
   ]
  },
  {
   "cell_type": "code",
   "execution_count": 27,
   "metadata": {},
   "outputs": [
    {
     "data": {
      "text/plain": [
       "(1, 300)"
      ]
     },
     "execution_count": 27,
     "metadata": {},
     "output_type": "execute_result"
    }
   ],
   "source": [
    "fforecast.shape"
   ]
  },
  {
   "cell_type": "code",
   "execution_count": 28,
   "metadata": {
    "id": "CXkgkj_LBk_t"
   },
   "outputs": [],
   "source": [
    "# code to replace all negative value with 0\n",
    "final_forecast[final_forecast<0] = 0"
   ]
  },
  {
   "cell_type": "code",
   "execution_count": 29,
   "metadata": {},
   "outputs": [
    {
     "data": {
      "text/plain": [
       "array([[7.01932073e+01, 7.36761204e+01, 7.25416667e+01, 7.11886555e+01,\n",
       "        7.11075211e+01, 4.39326410e-01, 3.17974810e-01, 3.42982888e-01,\n",
       "        2.95476110e-02, 0.00000000e+00, 0.00000000e+00, 0.00000000e+00,\n",
       "        6.43500507e-01, 7.03304622e+01, 7.02548319e+01, 7.01792017e+01,\n",
       "        5.86903811e-01, 0.00000000e+00, 7.05125350e+01, 7.04369048e+01,\n",
       "        7.03612745e+01, 7.02856443e+01, 7.02100140e+01, 7.39282213e+01,\n",
       "        7.27937675e+01, 7.14911765e+01, 0.00000000e+00, 0.00000000e+00,\n",
       "        9.65869900e-02, 7.02408263e+01, 7.42602708e+01, 7.32559524e+01,\n",
       "        7.20457983e+01, 1.00360058e-01, 7.26537115e+01, 7.13231092e+01,\n",
       "        7.05769608e+01, 1.33408070e-01, 3.12022328e-01, 4.34099140e-02,\n",
       "        8.12284648e-01, 0.00000000e+00, 0.00000000e+00, 0.00000000e+00,\n",
       "        0.00000000e+00, 0.00000000e+00, 0.00000000e+00, 7.17936975e+01,\n",
       "        4.63057580e-01, 2.55010930e-01, 0.00000000e+00, 7.02576330e+01,\n",
       "        7.01820028e+01, 7.35080532e+01, 7.23483193e+01, 7.09869748e+01,\n",
       "        7.29058123e+01, 7.16256303e+01, 7.06273810e+01, 8.41440100e-02,\n",
       "        5.84851560e-01, 0.00000000e+00, 7.15415966e+01, 4.60363360e-01,\n",
       "        7.21802521e+01, 7.08189076e+01, 7.04929272e+01, 7.14575630e+01,\n",
       "        7.05993697e+01, 7.03724790e+01, 1.62238000e-01, 1.15270970e-01,\n",
       "        0.00000000e+00, 6.69685440e+01, 5.63798010e-01, 0.00000000e+00,\n",
       "        0.00000000e+00, 0.00000000e+00, 8.49525000e-02, 0.00000000e+00,\n",
       "        6.65316391e+01, 7.21141845e-02, 0.00000000e+00, 0.00000000e+00,\n",
       "        1.63008595e+00, 0.00000000e+00, 0.00000000e+00, 0.00000000e+00,\n",
       "        1.99926808e-01, 0.00000000e+00, 0.00000000e+00, 0.00000000e+00,\n",
       "        1.16610482e-01, 0.00000000e+00, 1.08397090e+00, 0.00000000e+00,\n",
       "        0.00000000e+00, 0.00000000e+00, 9.27636027e-01, 0.00000000e+00]])"
      ]
     },
     "execution_count": 29,
     "metadata": {},
     "output_type": "execute_result"
    }
   ],
   "source": [
    "final_forecast"
   ]
  },
  {
   "cell_type": "code",
   "execution_count": 30,
   "metadata": {},
   "outputs": [
    {
     "data": {
      "text/plain": [
       "(1, 100)"
      ]
     },
     "execution_count": 30,
     "metadata": {},
     "output_type": "execute_result"
    }
   ],
   "source": [
    "final_forecast.shape"
   ]
  },
  {
   "cell_type": "code",
   "execution_count": 31,
   "metadata": {},
   "outputs": [
    {
     "data": {
      "text/plain": [
       "(100,)"
      ]
     },
     "execution_count": 31,
     "metadata": {},
     "output_type": "execute_result"
    }
   ],
   "source": [
    "test.shape"
   ]
  },
  {
   "cell_type": "code",
   "execution_count": 32,
   "metadata": {},
   "outputs": [],
   "source": [
    "training_set = np.array(training_set)\n",
    "test = np.array(test)\n",
    "final_forecast = np.array(final_forecast.squeeze(0))"
   ]
  },
  {
   "cell_type": "code",
   "execution_count": 33,
   "metadata": {},
   "outputs": [
    {
     "data": {
      "text/plain": [
       "array([56.83234269, 56.82004509, 56.80774749, 56.79544989, 56.78315229,\n",
       "       56.77085468, 56.75855708, 56.74625948, 56.73396188, 56.72166428,\n",
       "       56.70936667, 56.69706907, 56.68477147, 56.67247387, 56.66017627,\n",
       "       56.64787866, 56.63558106, 56.62328346, 56.61098586, 56.59868826,\n",
       "       56.58639065, 56.57409305, 56.56179545, 56.54949785, 56.53720025,\n",
       "       56.52490264, 56.51260504, 56.50030744, 56.48800984, 56.47571224,\n",
       "       56.46341463, 56.45111703, 56.43881943, 56.42652183, 56.41422423,\n",
       "       56.40192662, 56.38962902, 56.37733142, 56.36503382, 56.35273622,\n",
       "       56.34043861, 56.32814101, 56.31584341, 56.30354581, 56.29124821,\n",
       "       56.2789506 , 56.266653  , 56.2543554 , 56.2420578 , 56.2297602 ,\n",
       "       56.21746259, 56.20516499, 56.19286739, 56.18056979, 56.16827219,\n",
       "       56.15597458, 56.14367698, 56.13137938, 56.11908178, 56.10678418,\n",
       "       56.09448658, 56.08218897, 56.06989137, 56.05759377, 56.04529617,\n",
       "       56.03299857, 56.02070096, 56.00840336, 55.99610576, 55.98380816,\n",
       "       55.97151056, 55.95921295, 55.94691535, 55.93461775, 55.92232015,\n",
       "       55.91002255, 55.89772494, 55.88542734, 55.87312974, 55.86083214,\n",
       "       55.84853454, 55.83623693, 55.82393933, 55.81164173, 55.79934413,\n",
       "       55.78704653, 55.77474892, 55.76245132, 55.75015372, 55.73785612,\n",
       "       55.72555852, 55.71326091, 55.70096331, 55.68866571, 55.67636811,\n",
       "       55.66407051, 55.6517729 , 55.6394753 , 55.6271777 , 55.6148801 ])"
      ]
     },
     "execution_count": 33,
     "metadata": {},
     "output_type": "execute_result"
    }
   ],
   "source": [
    "test"
   ]
  },
  {
   "cell_type": "code",
   "execution_count": 34,
   "metadata": {},
   "outputs": [
    {
     "data": {
      "text/plain": [
       "(100,)"
      ]
     },
     "execution_count": 34,
     "metadata": {},
     "output_type": "execute_result"
    }
   ],
   "source": [
    "test.shape"
   ]
  },
  {
   "cell_type": "code",
   "execution_count": 35,
   "metadata": {},
   "outputs": [
    {
     "data": {
      "text/plain": [
       "(100,)"
      ]
     },
     "execution_count": 35,
     "metadata": {},
     "output_type": "execute_result"
    }
   ],
   "source": [
    "final_forecast.shape"
   ]
  },
  {
   "cell_type": "code",
   "execution_count": 36,
   "metadata": {},
   "outputs": [
    {
     "data": {
      "text/plain": [
       "(100,)"
      ]
     },
     "execution_count": 36,
     "metadata": {},
     "output_type": "execute_result"
    }
   ],
   "source": [
    "test.shape"
   ]
  },
  {
   "cell_type": "code",
   "execution_count": 37,
   "metadata": {},
   "outputs": [
    {
     "name": "stdout",
     "output_type": "stream",
     "text": [
      "44.01875443647359\n",
      "39.085666916119955\n"
     ]
    }
   ],
   "source": [
    "import math\n",
    "MSE = np.square(np.subtract(np.array(test),np.array(final_forecast))).mean()   \n",
    "rsme = math.sqrt(MSE)\n",
    "print(rsme)  \n",
    "MAE = np.abs(np.subtract(np.array(test),np.array(final_forecast))).mean()   \n",
    "mae = MAE\n",
    "print(mae)"
   ]
  }
 ],
 "metadata": {
  "colab": {
   "provenance": []
  },
  "kernelspec": {
   "display_name": "Python 3",
   "language": "python",
   "name": "python3"
  },
  "language_info": {
   "codemirror_mode": {
    "name": "ipython",
    "version": 3
   },
   "file_extension": ".py",
   "mimetype": "text/x-python",
   "name": "python",
   "nbconvert_exporter": "python",
   "pygments_lexer": "ipython3",
   "version": "3.9.13"
  }
 },
 "nbformat": 4,
 "nbformat_minor": 0
}
