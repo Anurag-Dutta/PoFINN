{
 "cells": [
  {
   "cell_type": "markdown",
   "metadata": {
    "id": "pCGKeZ2gyuoQ"
   },
   "source": [
    "_Importing Required Libraries_"
   ]
  },
  {
   "cell_type": "code",
   "execution_count": 1,
   "metadata": {
    "colab": {
     "base_uri": "https://localhost:8080/"
    },
    "id": "A-6LN-zXiLcM",
    "outputId": "4de610a4-f8b8-4f49-c6c0-89de299ccedc"
   },
   "outputs": [
    {
     "name": "stdout",
     "output_type": "stream",
     "text": [
      "Requirement already satisfied: hampel in c:\\users\\anurag dutta\\appdata\\local\\packages\\pythonsoftwarefoundation.python.3.9_qbz5n2kfra8p0\\localcache\\local-packages\\python39\\site-packages (0.0.5)\n",
      "Requirement already satisfied: numpy in c:\\users\\anurag dutta\\appdata\\local\\packages\\pythonsoftwarefoundation.python.3.9_qbz5n2kfra8p0\\localcache\\local-packages\\python39\\site-packages (from hampel) (1.26.4)\n",
      "Requirement already satisfied: pandas in c:\\users\\anurag dutta\\appdata\\local\\packages\\pythonsoftwarefoundation.python.3.9_qbz5n2kfra8p0\\localcache\\local-packages\\python39\\site-packages (from hampel) (1.5.2)\n",
      "Requirement already satisfied: python-dateutil>=2.8.1 in c:\\users\\anurag dutta\\appdata\\local\\packages\\pythonsoftwarefoundation.python.3.9_qbz5n2kfra8p0\\localcache\\local-packages\\python39\\site-packages (from pandas->hampel) (2.8.2)\n",
      "Requirement already satisfied: pytz>=2020.1 in c:\\users\\anurag dutta\\appdata\\local\\packages\\pythonsoftwarefoundation.python.3.9_qbz5n2kfra8p0\\localcache\\local-packages\\python39\\site-packages (from pandas->hampel) (2023.3.post1)\n",
      "Requirement already satisfied: six>=1.5 in c:\\users\\anurag dutta\\appdata\\local\\packages\\pythonsoftwarefoundation.python.3.9_qbz5n2kfra8p0\\localcache\\local-packages\\python39\\site-packages (from python-dateutil>=2.8.1->pandas->hampel) (1.16.0)\n",
      "Note: you may need to restart the kernel to use updated packages.\n"
     ]
    },
    {
     "name": "stderr",
     "output_type": "stream",
     "text": [
      "\n",
      "[notice] A new release of pip is available: 24.2 -> 24.3.1\n",
      "[notice] To update, run: C:\\Users\\Anurag Dutta\\AppData\\Local\\Microsoft\\WindowsApps\\PythonSoftwareFoundation.Python.3.9_qbz5n2kfra8p0\\python.exe -m pip install --upgrade pip\n"
     ]
    }
   ],
   "source": [
    "pip install hampel"
   ]
  },
  {
   "cell_type": "code",
   "execution_count": 2,
   "metadata": {
    "id": "By_d9uXpaFvZ"
   },
   "outputs": [],
   "source": [
    "from keras.models import Sequential\n",
    "from keras.layers import Dense\n",
    "from keras.layers import LSTM\n",
    "from keras.layers import Dropout\n",
    "import keras\n",
    "import tensorflow as tf\n",
    "from hampel import hampel\n",
    "import numpy as np\n",
    "import matplotlib.pyplot as plt\n",
    "import pandas as pd\n",
    "from sklearn.preprocessing import MinMaxScaler\n",
    "from sklearn.metrics import mean_squared_error, mean_absolute_error\n",
    "from math import sqrt\n",
    "from matplotlib import pyplot\n",
    "from numpy import array"
   ]
  },
  {
   "cell_type": "markdown",
   "metadata": {
    "id": "JyOjBMFayuoR"
   },
   "source": [
    "## Pretraining"
   ]
  },
  {
   "cell_type": "markdown",
   "metadata": {
    "id": "-5QqIY_GyuoR"
   },
   "source": [
    "The `capa_intermittency.dat` feeds the model with the dynamics of the Capacitor"
   ]
  },
  {
   "cell_type": "code",
   "execution_count": 3,
   "metadata": {
    "id": "9dV4a8yfyuoR"
   },
   "outputs": [],
   "source": [
    "data = np.genfromtxt('capa_intermittency.dat')\n",
    "training_set = pd.DataFrame(data).reset_index(drop=True)\n",
    "training_set = training_set.iloc[:,0]"
   ]
  },
  {
   "cell_type": "markdown",
   "metadata": {
    "id": "i7easoxByuoR"
   },
   "source": [
    "## Computing the Gradient"
   ]
  },
  {
   "cell_type": "markdown",
   "metadata": {
    "id": "5SnyolJTyuoR"
   },
   "source": [
    "_Calculating the value of_ $\\frac{dx}{dt}$"
   ]
  },
  {
   "cell_type": "code",
   "execution_count": 4,
   "metadata": {
    "colab": {
     "base_uri": "https://localhost:8080/"
    },
    "id": "wmIbVfIvyuoR",
    "outputId": "aa4e3136-c854-465d-d2e9-81cfd546e440"
   },
   "outputs": [
    {
     "name": "stdout",
     "output_type": "stream",
     "text": [
      "1.0\n",
      "1        0.000298\n",
      "2        0.000298\n",
      "3        0.000297\n",
      "4        0.000297\n",
      "5        0.000297\n",
      "           ...   \n",
      "9996     0.000018\n",
      "9997     0.000018\n",
      "9998     0.000018\n",
      "9999     0.000018\n",
      "10000    0.000018\n",
      "Name: 0, Length: 10000, dtype: float64\n"
     ]
    }
   ],
   "source": [
    "t_diff = 1\n",
    "print(training_set.max())\n",
    "gradient_t = (training_set.diff()/t_diff).iloc[1:] # dx/dt\n",
    "print(gradient_t)"
   ]
  },
  {
   "cell_type": "markdown",
   "metadata": {
    "id": "_2eVeeoxyuoS"
   },
   "source": [
    "## Loading Datasets"
   ]
  },
  {
   "cell_type": "code",
   "execution_count": null,
   "metadata": {
    "id": "0J-NKyIEyuoS"
   },
   "outputs": [
    {
     "data": {
      "text/plain": [
       "0       92.600000\n",
       "1       92.387115\n",
       "2       92.174230\n",
       "3       91.961345\n",
       "4       91.748459\n",
       "          ...    \n",
       "2245    64.343568\n",
       "2246    64.335916\n",
       "2247    64.328264\n",
       "2248    64.320612\n",
       "2249    64.312960\n",
       "Name: C7, Length: 2250, dtype: float64"
      ]
     },
     "execution_count": 5,
     "metadata": {},
     "output_type": "execute_result"
    }
   ],
   "source": [
    "data = pd.read_csv(\"c7_interpolated_2150_100.csv\")\n",
    "training_set = data.iloc[:, 1]\n",
    "training_set"
   ]
  },
  {
   "cell_type": "code",
   "execution_count": 6,
   "metadata": {
    "colab": {
     "base_uri": "https://localhost:8080/"
    },
    "id": "-CbNUhJ74UqF",
    "outputId": "20f562d8-8247-49cc-b9c3-00eca5e13e2d"
   },
   "outputs": [
    {
     "data": {
      "text/plain": [
       "0       92.600000\n",
       "1       92.387115\n",
       "2       92.174230\n",
       "3       91.961345\n",
       "4       91.748459\n",
       "          ...    \n",
       "2145     0.000000\n",
       "2146     1.246034\n",
       "2147     0.482828\n",
       "2148     0.000000\n",
       "2149     0.000000\n",
       "Name: C7, Length: 2150, dtype: float64"
      ]
     },
     "execution_count": 6,
     "metadata": {},
     "output_type": "execute_result"
    }
   ],
   "source": [
    "test = training_set.tail(100)\n",
    "test\n",
    "training_set = training_set.head(2150)\n",
    "training_set"
   ]
  },
  {
   "cell_type": "code",
   "execution_count": 7,
   "metadata": {
    "colab": {
     "base_uri": "https://localhost:8080/"
    },
    "id": "X0TwTcq0yuoS",
    "outputId": "37252ed8-d88e-4044-fa7a-922411990b5b"
   },
   "outputs": [
    {
     "name": "stdout",
     "output_type": "stream",
     "text": [
      "0       0.000298\n",
      "1       0.000298\n",
      "2       0.000297\n",
      "3       0.000297\n",
      "4       0.000297\n",
      "          ...   \n",
      "9995    0.000018\n",
      "9996    0.000018\n",
      "9997    0.000018\n",
      "9998    0.000018\n",
      "9999    0.000018\n",
      "Name: 0, Length: 10000, dtype: float64\n"
     ]
    }
   ],
   "source": [
    "training_set = training_set.reset_index(drop=True)\n",
    "gradient_t = gradient_t.reset_index(drop=True)\n",
    "print(gradient_t)"
   ]
  },
  {
   "cell_type": "code",
   "execution_count": 8,
   "metadata": {
    "id": "O2biznZQyuoS"
   },
   "outputs": [],
   "source": [
    "df = pd.concat((training_set, gradient_t), axis=1)\n",
    "df.columns = ['y_t', 'grad_t']"
   ]
  },
  {
   "cell_type": "code",
   "execution_count": 9,
   "metadata": {
    "colab": {
     "base_uri": "https://localhost:8080/",
     "height": 423
    },
    "id": "sk_a5v3tyuoS",
    "outputId": "17563625-e550-45ae-faab-fafa353e44da"
   },
   "outputs": [
    {
     "data": {
      "text/html": [
       "<div>\n",
       "<style scoped>\n",
       "    .dataframe tbody tr th:only-of-type {\n",
       "        vertical-align: middle;\n",
       "    }\n",
       "\n",
       "    .dataframe tbody tr th {\n",
       "        vertical-align: top;\n",
       "    }\n",
       "\n",
       "    .dataframe thead th {\n",
       "        text-align: right;\n",
       "    }\n",
       "</style>\n",
       "<table border=\"1\" class=\"dataframe\">\n",
       "  <thead>\n",
       "    <tr style=\"text-align: right;\">\n",
       "      <th></th>\n",
       "      <th>y_t</th>\n",
       "      <th>grad_t</th>\n",
       "    </tr>\n",
       "  </thead>\n",
       "  <tbody>\n",
       "    <tr>\n",
       "      <th>0</th>\n",
       "      <td>92.600000</td>\n",
       "      <td>0.000298</td>\n",
       "    </tr>\n",
       "    <tr>\n",
       "      <th>1</th>\n",
       "      <td>92.387115</td>\n",
       "      <td>0.000298</td>\n",
       "    </tr>\n",
       "    <tr>\n",
       "      <th>2</th>\n",
       "      <td>92.174230</td>\n",
       "      <td>0.000297</td>\n",
       "    </tr>\n",
       "    <tr>\n",
       "      <th>3</th>\n",
       "      <td>91.961345</td>\n",
       "      <td>0.000297</td>\n",
       "    </tr>\n",
       "    <tr>\n",
       "      <th>4</th>\n",
       "      <td>91.748459</td>\n",
       "      <td>0.000297</td>\n",
       "    </tr>\n",
       "    <tr>\n",
       "      <th>...</th>\n",
       "      <td>...</td>\n",
       "      <td>...</td>\n",
       "    </tr>\n",
       "    <tr>\n",
       "      <th>9995</th>\n",
       "      <td>NaN</td>\n",
       "      <td>0.000018</td>\n",
       "    </tr>\n",
       "    <tr>\n",
       "      <th>9996</th>\n",
       "      <td>NaN</td>\n",
       "      <td>0.000018</td>\n",
       "    </tr>\n",
       "    <tr>\n",
       "      <th>9997</th>\n",
       "      <td>NaN</td>\n",
       "      <td>0.000018</td>\n",
       "    </tr>\n",
       "    <tr>\n",
       "      <th>9998</th>\n",
       "      <td>NaN</td>\n",
       "      <td>0.000018</td>\n",
       "    </tr>\n",
       "    <tr>\n",
       "      <th>9999</th>\n",
       "      <td>NaN</td>\n",
       "      <td>0.000018</td>\n",
       "    </tr>\n",
       "  </tbody>\n",
       "</table>\n",
       "<p>10000 rows × 2 columns</p>\n",
       "</div>"
      ],
      "text/plain": [
       "            y_t    grad_t\n",
       "0     92.600000  0.000298\n",
       "1     92.387115  0.000298\n",
       "2     92.174230  0.000297\n",
       "3     91.961345  0.000297\n",
       "4     91.748459  0.000297\n",
       "...         ...       ...\n",
       "9995        NaN  0.000018\n",
       "9996        NaN  0.000018\n",
       "9997        NaN  0.000018\n",
       "9998        NaN  0.000018\n",
       "9999        NaN  0.000018\n",
       "\n",
       "[10000 rows x 2 columns]"
      ]
     },
     "execution_count": 9,
     "metadata": {},
     "output_type": "execute_result"
    }
   ],
   "source": [
    "df"
   ]
  },
  {
   "cell_type": "markdown",
   "metadata": {
    "id": "-5esyHu5aFvg"
   },
   "source": [
    "## Plot of the External Forcing from Chaotic Differential Equation"
   ]
  },
  {
   "cell_type": "code",
   "execution_count": 10,
   "metadata": {
    "colab": {
     "base_uri": "https://localhost:8080/",
     "height": 447
    },
    "id": "hGnE43tOh-4p",
    "outputId": "fc396503-b624-4fa5-dfbe-f460207405c6"
   },
   "outputs": [
    {
     "data": {
      "text/plain": [
       "<Axes: >"
      ]
     },
     "execution_count": 10,
     "metadata": {},
     "output_type": "execute_result"
    },
    {
     "data": {
      "image/png": "[encoded data removed]",
      "text/plain": [
       "<Figure size 432x288 with 1 Axes>"
      ]
     },
     "metadata": {
      "needs_background": "light"
     },
     "output_type": "display_data"
    }
   ],
   "source": [
    "df.iloc[:, 0].plot()"
   ]
  },
  {
   "cell_type": "code",
   "execution_count": 11,
   "metadata": {
    "colab": {
     "base_uri": "https://localhost:8080/",
     "height": 447
    },
    "id": "ym4xWUUxaFvg",
    "outputId": "ae6a3495-8ce9-437e-ba81-3ed31deedeae"
   },
   "outputs": [
    {
     "name": "stderr",
     "output_type": "stream",
     "text": [
      "C:\\Users\\Anurag Dutta\\AppData\\Local\\Packages\\PythonSoftwareFoundation.Python.3.9_qbz5n2kfra8p0\\LocalCache\\local-packages\\Python39\\site-packages\\pandas\\core\\arraylike.py:402: RuntimeWarning: divide by zero encountered in log\n",
      "  result = getattr(ufunc, method)(*inputs, **kwargs)\n"
     ]
    },
    {
     "data": {
      "text/plain": [
       "<Axes: >"
      ]
     },
     "execution_count": 11,
     "metadata": {},
     "output_type": "execute_result"
    },
    {
     "data": {
      "image/png": "[encoded data removed]",
      "text/plain": [
       "<Figure size 432x288 with 1 Axes>"
      ]
     },
     "metadata": {
      "needs_background": "light"
     },
     "output_type": "display_data"
    }
   ],
   "source": [
    "import numpy as np\n",
    "c0 = 89.3180  # Value for C0\n",
    "K0 = -0.0010  # Value for K0\n",
    "K1 = 0.0001  # Value for K1\n",
    "a = 0.0000    # Value for a\n",
    "b = -0.0204    # Value for b\n",
    "c = 2.2194    # Value for c\n",
    "\n",
    "L = np.minimum(c0, (df.iloc[:, 1] - (df.iloc[:, 0] * (K0 - K1 * (9 * a * np.log(df.iloc[:, 0] / c0) / (K0 - K1 * c)**2 + 4 * b * np.log(df.iloc[:, 0] / c0) / (K0 - K1 * c) + c)))))\n",
    "L.plot()"
   ]
  },
  {
   "cell_type": "markdown",
   "metadata": {
    "id": "9VyEywnwaFvh"
   },
   "source": [
    "## Preprocessing the data into supervised learning"
   ]
  },
  {
   "cell_type": "code",
   "execution_count": 12,
   "metadata": {
    "id": "6V9dXqzdaFvh"
   },
   "outputs": [],
   "source": [
    "# split a sequence into samples\n",
    "def Supervised(data, n_in=1, n_out=1, dropnan=True):\n",
    "    n_vars = 1 if type(data) is list else data.shape[1]\n",
    "    df = pd.DataFrame(data)\n",
    "    cols, names = list(), list()\n",
    "    # input sequence (t-n_in, ... t-1)\n",
    "    for i in range(n_in, 0, -1):\n",
    "        cols.append(df.shift(i))\n",
    "        names += [('var%d(t-%d)' % (j+1, i)) for j in range(n_vars)]\n",
    "    # forecast sequence (t, t+1, ... t+n_out)\n",
    "    for i in range(0, n_out):\n",
    "      cols.append(df.shift(-i))\n",
    "      if i == 0:\n",
    "        names += [('var%d(t)' % (j+1)) for j in range(n_vars)]\n",
    "      else:\n",
    "        names += [('var%d(t+%d)' % (j+1, i)) for j in range(n_vars)]\n",
    "    # put it all together\n",
    "    agg = pd.concat(cols, axis=1)\n",
    "    agg.columns = names\n",
    "    # drop rows with NaN values\n",
    "    if dropnan:\n",
    "       agg.dropna(inplace=True)\n",
    "    return agg"
   ]
  },
  {
   "cell_type": "code",
   "execution_count": 13,
   "metadata": {
    "colab": {
     "base_uri": "https://localhost:8080/"
    },
    "id": "CrzSrT1HnyfH",
    "outputId": "7e75f928-3e47-499d-eac1-51908015ef78"
   },
   "outputs": [
    {
     "name": "stdout",
     "output_type": "stream",
     "text": [
      "     var1(t-350)  var1(t-349)  var1(t-348)  var1(t-347)  var1(t-346)  \\\n",
      "350    92.600000    92.387115    92.174230    91.961345    91.748459   \n",
      "351    92.387115    92.174230    91.961345    91.748459    91.535574   \n",
      "352    92.174230    91.961345    91.748459    91.535574    91.322689   \n",
      "353    91.961345    91.748459    91.535574    91.322689    91.109804   \n",
      "354    91.748459    91.535574    91.322689    91.109804    90.896919   \n",
      "\n",
      "     var1(t-345)  var1(t-344)  var1(t-343)  var1(t-342)  var1(t-341)  ...  \\\n",
      "350    91.535574    91.322689    91.109804    90.896919    90.691597  ...   \n",
      "351    91.322689    91.109804    90.896919    90.691597    90.579552  ...   \n",
      "352    91.109804    90.896919    90.691597    90.579552    90.467507  ...   \n",
      "353    90.896919    90.691597    90.579552    90.467507    90.355462  ...   \n",
      "354    90.691597    90.579552    90.467507    90.355462    90.243417  ...   \n",
      "\n",
      "     var1(t+95)  var2(t+95)  var1(t+96)  var2(t+96)  var1(t+97)  var2(t+97)  \\\n",
      "350   80.261671    0.000263   80.252334    0.000263   80.242997    0.000263   \n",
      "351   80.252334    0.000263   80.242997    0.000263   80.233660    0.000262   \n",
      "352   80.242997    0.000263   80.233660    0.000262   80.224323    0.000262   \n",
      "353   80.233660    0.000262   80.224323    0.000262   80.214986    0.000262   \n",
      "354   80.224323    0.000262   80.214986    0.000262   80.205649    0.000262   \n",
      "\n",
      "     var1(t+98)  var2(t+98)  var1(t+99)  var2(t+99)  \n",
      "350   80.233660    0.000262   80.224323    0.000262  \n",
      "351   80.224323    0.000262   80.214986    0.000262  \n",
      "352   80.214986    0.000262   80.205649    0.000262  \n",
      "353   80.205649    0.000262   80.196312    0.000262  \n",
      "354   80.196312    0.000262   80.186975    0.000262  \n",
      "\n",
      "[5 rows x 551 columns]\n",
      "Index(['var1(t-350)', 'var1(t-349)', 'var1(t-348)', 'var1(t-347)',\n",
      "       'var1(t-346)', 'var1(t-345)', 'var1(t-344)', 'var1(t-343)',\n",
      "       'var1(t-342)', 'var1(t-341)',\n",
      "       ...\n",
      "       'var1(t+95)', 'var2(t+95)', 'var1(t+96)', 'var2(t+96)', 'var1(t+97)',\n",
      "       'var2(t+97)', 'var1(t+98)', 'var2(t+98)', 'var1(t+99)', 'var2(t+99)'],\n",
      "      dtype='object', length=551)\n"
     ]
    }
   ],
   "source": [
    "data = Supervised(df.values, n_in = 350, n_out = 100)\n",
    "\n",
    "\n",
    "cols_to_drop = []\n",
    "for i in range(2, 351):\n",
    "    cols_to_drop.extend([f'var2(t-{i})'])\n",
    "\n",
    "data.drop(cols_to_drop, axis=1, inplace=True)\n",
    "\n",
    "print(data.head())\n",
    "print(data.columns)"
   ]
  },
  {
   "cell_type": "code",
   "execution_count": 14,
   "metadata": {
    "id": "AfPf60oy6Pe4"
   },
   "outputs": [],
   "source": [
    "train = np.array(data[0:len(data)-1])\n",
    "forecast = np.array(data.tail(1))"
   ]
  },
  {
   "cell_type": "code",
   "execution_count": 15,
   "metadata": {
    "id": "WSAafzI37KiT"
   },
   "outputs": [],
   "source": [
    "trainy = train[:,-300:]\n",
    "trainX = train[:,:-300]"
   ]
  },
  {
   "cell_type": "code",
   "execution_count": 16,
   "metadata": {
    "id": "2SrOqVJA7f50"
   },
   "outputs": [],
   "source": [
    "forecasty = forecast[:,-300:]\n",
    "forecastX = forecast[:,:-300]"
   ]
  },
  {
   "cell_type": "code",
   "execution_count": 17,
   "metadata": {
    "colab": {
     "base_uri": "https://localhost:8080/"
    },
    "id": "Qno_k8Nw7saY",
    "outputId": "c4a88db5-d8c6-489f-cdb2-06b24e293cff"
   },
   "outputs": [
    {
     "name": "stdout",
     "output_type": "stream",
     "text": [
      "(1700, 1, 251) (1700, 300) (1, 1, 251)\n"
     ]
    }
   ],
   "source": [
    "trainX = trainX.reshape((trainX.shape[0], 1, trainX.shape[1]))\n",
    "forecastX = forecastX.reshape((forecastX.shape[0], 1, forecastX.shape[1]))\n",
    "print(trainX.shape, trainy.shape, forecastX.shape)"
   ]
  },
  {
   "cell_type": "code",
   "execution_count": 18,
   "metadata": {
    "colab": {
     "base_uri": "https://localhost:8080/"
    },
    "id": "b1Jp2DvNuNFx",
    "outputId": "d0e5b3c4-64f1-438c-eade-8dfeaac8e285"
   },
   "outputs": [
    {
     "name": "stdout",
     "output_type": "stream",
     "text": [
      "Epoch 1/500\n",
      "22/22 [==============================] - 2s 23ms/step - loss: 5449.5708 - val_loss: 3209.9854\n",
      "Epoch 2/500\n",
      "22/22 [==============================] - 0s 4ms/step - loss: 5229.7563 - val_loss: 3095.5640\n",
      "Epoch 3/500\n",
      "22/22 [==============================] - 0s 4ms/step - loss: 5095.8506 - val_loss: 3028.0933\n",
      "Epoch 4/500\n",
      "22/22 [==============================] - 0s 4ms/step - loss: 4993.6914 - val_loss: 2966.2593\n",
      "Epoch 5/500\n",
      "22/22 [==============================] - 0s 4ms/step - loss: 4894.7573 - val_loss: 2909.3701\n",
      "Epoch 6/500\n",
      "22/22 [==============================] - 0s 4ms/step - loss: 4800.8433 - val_loss: 2854.8879\n",
      "Epoch 7/500\n",
      "22/22 [==============================] - 0s 4ms/step - loss: 4709.9062 - val_loss: 2802.2876\n",
      "Epoch 8/500\n",
      "22/22 [==============================] - 0s 4ms/step - loss: 4621.3076 - val_loss: 2751.2793\n",
      "Epoch 9/500\n",
      "22/22 [==============================] - 0s 4ms/step - loss: 4534.6831 - val_loss: 2701.6921\n",
      "Epoch 10/500\n",
      "22/22 [==============================] - 0s 4ms/step - loss: 4449.8105 - val_loss: 2653.4150\n",
      "Epoch 11/500\n",
      "22/22 [==============================] - 0s 4ms/step - loss: 4366.5444 - val_loss: 2606.3718\n",
      "Epoch 12/500\n",
      "22/22 [==============================] - 0s 5ms/step - loss: 4284.7827 - val_loss: 2560.5037\n",
      "Epoch 13/500\n",
      "22/22 [==============================] - 0s 4ms/step - loss: 4204.4473 - val_loss: 2515.7661\n",
      "Epoch 14/500\n",
      "22/22 [==============================] - 0s 4ms/step - loss: 4125.4814 - val_loss: 2472.1223\n",
      "Epoch 15/500\n",
      "22/22 [==============================] - 0s 4ms/step - loss: 4047.8345 - val_loss: 2429.5408\n",
      "Epoch 16/500\n",
      "22/22 [==============================] - 0s 4ms/step - loss: 3971.4688 - val_loss: 2387.9956\n",
      "Epoch 17/500\n",
      "22/22 [==============================] - 0s 4ms/step - loss: 3896.3494 - val_loss: 2347.4619\n",
      "Epoch 18/500\n",
      "22/22 [==============================] - 0s 4ms/step - loss: 3822.4468 - val_loss: 2307.9202\n",
      "Epoch 19/500\n",
      "22/22 [==============================] - 0s 4ms/step - loss: 3749.7346 - val_loss: 2269.3494\n",
      "Epoch 20/500\n",
      "22/22 [==============================] - 0s 8ms/step - loss: 3678.1902 - val_loss: 2231.7332\n",
      "Epoch 21/500\n",
      "22/22 [==============================] - 0s 4ms/step - loss: 3607.7908 - val_loss: 2195.0532\n",
      "Epoch 22/500\n",
      "22/22 [==============================] - 0s 4ms/step - loss: 3538.5166 - val_loss: 2159.2944\n",
      "Epoch 23/500\n",
      "22/22 [==============================] - 0s 4ms/step - loss: 3470.3503 - val_loss: 2124.4417\n",
      "Epoch 24/500\n",
      "22/22 [==============================] - 0s 4ms/step - loss: 3403.2732 - val_loss: 2090.4810\n",
      "Epoch 25/500\n",
      "22/22 [==============================] - 0s 4ms/step - loss: 3337.2705 - val_loss: 2057.3977\n",
      "Epoch 26/500\n",
      "22/22 [==============================] - 0s 4ms/step - loss: 3272.3254 - val_loss: 2025.1794\n",
      "Epoch 27/500\n",
      "22/22 [==============================] - 0s 4ms/step - loss: 3208.4231 - val_loss: 1993.8127\n",
      "Epoch 28/500\n",
      "22/22 [==============================] - 0s 4ms/step - loss: 3145.5500 - val_loss: 1963.2853\n",
      "Epoch 29/500\n",
      "22/22 [==============================] - 0s 4ms/step - loss: 3083.6919 - val_loss: 1933.5802\n",
      "Epoch 30/500\n",
      "22/22 [==============================] - 0s 4ms/step - loss: 3022.8347 - val_loss: 1904.6996\n",
      "Epoch 31/500\n",
      "22/22 [==============================] - 0s 5ms/step - loss: 2962.9670 - val_loss: 1876.6177\n",
      "Epoch 32/500\n",
      "22/22 [==============================] - 0s 4ms/step - loss: 2904.0747 - val_loss: 1849.3279\n",
      "Epoch 33/500\n",
      "22/22 [==============================] - 0s 4ms/step - loss: 2846.1462 - val_loss: 1822.8184\n",
      "Epoch 34/500\n",
      "22/22 [==============================] - 0s 4ms/step - loss: 2789.1697 - val_loss: 1797.0792\n",
      "Epoch 35/500\n",
      "22/22 [==============================] - 0s 4ms/step - loss: 2733.1326 - val_loss: 1772.0989\n",
      "Epoch 36/500\n",
      "22/22 [==============================] - 0s 4ms/step - loss: 2678.0251 - val_loss: 1747.8666\n",
      "Epoch 37/500\n",
      "22/22 [==============================] - 0s 4ms/step - loss: 2623.8340 - val_loss: 1724.3721\n",
      "Epoch 38/500\n",
      "22/22 [==============================] - 0s 4ms/step - loss: 2570.5503 - val_loss: 1701.6046\n",
      "Epoch 39/500\n",
      "22/22 [==============================] - 0s 4ms/step - loss: 2518.1611 - val_loss: 1679.5542\n",
      "Epoch 40/500\n",
      "22/22 [==============================] - 0s 4ms/step - loss: 2466.6567 - val_loss: 1658.2107\n",
      "Epoch 41/500\n",
      "22/22 [==============================] - 0s 4ms/step - loss: 2416.0269 - val_loss: 1637.5642\n",
      "Epoch 42/500\n",
      "22/22 [==============================] - 0s 4ms/step - loss: 2366.2610 - val_loss: 1617.6042\n",
      "Epoch 43/500\n",
      "22/22 [==============================] - 0s 4ms/step - loss: 2317.3484 - val_loss: 1598.3212\n",
      "Epoch 44/500\n",
      "22/22 [==============================] - 0s 4ms/step - loss: 2269.2786 - val_loss: 1579.7056\n",
      "Epoch 45/500\n",
      "22/22 [==============================] - 0s 4ms/step - loss: 2222.0435 - val_loss: 1561.7476\n",
      "Epoch 46/500\n",
      "22/22 [==============================] - 0s 3ms/step - loss: 2175.6311 - val_loss: 1544.4373\n",
      "Epoch 47/500\n",
      "22/22 [==============================] - 0s 4ms/step - loss: 2130.0332 - val_loss: 1527.7659\n",
      "Epoch 48/500\n",
      "22/22 [==============================] - 0s 4ms/step - loss: 2085.2393 - val_loss: 1511.7236\n",
      "Epoch 49/500\n",
      "22/22 [==============================] - 0s 4ms/step - loss: 2041.2402 - val_loss: 1496.3010\n",
      "Epoch 50/500\n",
      "22/22 [==============================] - 0s 4ms/step - loss: 1998.0262 - val_loss: 1481.4894\n",
      "Epoch 51/500\n",
      "22/22 [==============================] - 0s 4ms/step - loss: 1955.5883 - val_loss: 1467.2784\n",
      "Epoch 52/500\n",
      "22/22 [==============================] - 0s 4ms/step - loss: 1913.9167 - val_loss: 1453.6602\n",
      "Epoch 53/500\n",
      "22/22 [==============================] - 0s 4ms/step - loss: 1873.0033 - val_loss: 1440.6245\n",
      "Epoch 54/500\n",
      "22/22 [==============================] - 0s 5ms/step - loss: 1832.8380 - val_loss: 1428.1635\n",
      "Epoch 55/500\n",
      "22/22 [==============================] - 0s 4ms/step - loss: 1793.4128 - val_loss: 1416.2673\n",
      "Epoch 56/500\n",
      "22/22 [==============================] - 0s 4ms/step - loss: 1754.7174 - val_loss: 1404.9274\n",
      "Epoch 57/500\n",
      "22/22 [==============================] - 0s 3ms/step - loss: 1716.7443 - val_loss: 1394.1349\n",
      "Epoch 58/500\n",
      "22/22 [==============================] - 0s 3ms/step - loss: 1679.4840 - val_loss: 1383.8806\n",
      "Epoch 59/500\n",
      "22/22 [==============================] - 0s 9ms/step - loss: 1642.9281 - val_loss: 1374.1560\n",
      "Epoch 60/500\n",
      "22/22 [==============================] - 0s 5ms/step - loss: 1607.0679 - val_loss: 1364.9515\n",
      "Epoch 61/500\n",
      "22/22 [==============================] - 0s 4ms/step - loss: 1571.8945 - val_loss: 1356.2584\n",
      "Epoch 62/500\n",
      "22/22 [==============================] - 0s 4ms/step - loss: 1537.4000 - val_loss: 1348.0631\n",
      "Epoch 63/500\n",
      "22/22 [==============================] - 0s 4ms/step - loss: 1503.5757 - val_loss: 1340.4548\n",
      "Epoch 64/500\n",
      "22/22 [==============================] - 0s 4ms/step - loss: 1470.4127 - val_loss: 1333.2570\n",
      "Epoch 65/500\n",
      "22/22 [==============================] - 0s 4ms/step - loss: 1437.9036 - val_loss: 1326.5363\n",
      "Epoch 66/500\n",
      "22/22 [==============================] - 0s 4ms/step - loss: 1406.0399 - val_loss: 1320.2856\n",
      "Epoch 67/500\n",
      "22/22 [==============================] - 0s 3ms/step - loss: 1374.8131 - val_loss: 1314.4976\n",
      "Epoch 68/500\n",
      "22/22 [==============================] - 0s 4ms/step - loss: 1344.2152 - val_loss: 1309.1631\n",
      "Epoch 69/500\n",
      "22/22 [==============================] - 0s 4ms/step - loss: 1314.2382 - val_loss: 1304.2743\n",
      "Epoch 70/500\n",
      "22/22 [==============================] - 0s 4ms/step - loss: 1284.8740 - val_loss: 1299.8224\n",
      "Epoch 71/500\n",
      "22/22 [==============================] - 0s 4ms/step - loss: 1256.1145 - val_loss: 1295.7998\n",
      "Epoch 72/500\n",
      "22/22 [==============================] - 0s 4ms/step - loss: 1227.9525 - val_loss: 1292.1981\n",
      "Epoch 73/500\n",
      "22/22 [==============================] - 0s 4ms/step - loss: 1200.3789 - val_loss: 1289.0092\n",
      "Epoch 74/500\n",
      "22/22 [==============================] - 0s 4ms/step - loss: 1173.3864 - val_loss: 1286.2249\n",
      "Epoch 75/500\n",
      "22/22 [==============================] - 0s 4ms/step - loss: 1146.9674 - val_loss: 1283.8372\n",
      "Epoch 76/500\n",
      "22/22 [==============================] - 0s 4ms/step - loss: 1121.1144 - val_loss: 1281.8383\n",
      "Epoch 77/500\n",
      "22/22 [==============================] - 0s 4ms/step - loss: 1095.8190 - val_loss: 1280.2198\n",
      "Epoch 78/500\n",
      "22/22 [==============================] - 0s 4ms/step - loss: 1071.0739 - val_loss: 1278.9745\n",
      "Epoch 79/500\n",
      "22/22 [==============================] - 0s 4ms/step - loss: 1046.8716 - val_loss: 1278.0935\n",
      "Epoch 80/500\n",
      "22/22 [==============================] - 0s 4ms/step - loss: 1023.2043 - val_loss: 1277.5697\n",
      "Epoch 81/500\n",
      "22/22 [==============================] - 0s 3ms/step - loss: 1000.0647 - val_loss: 1277.3950\n",
      "Epoch 82/500\n",
      "22/22 [==============================] - 0s 4ms/step - loss: 977.4451 - val_loss: 1277.5616\n",
      "Epoch 83/500\n",
      "22/22 [==============================] - 0s 4ms/step - loss: 955.3385 - val_loss: 1278.0615\n",
      "Epoch 84/500\n",
      "22/22 [==============================] - 0s 4ms/step - loss: 933.7371 - val_loss: 1278.8876\n",
      "Epoch 85/500\n",
      "22/22 [==============================] - 0s 4ms/step - loss: 912.6335 - val_loss: 1280.0315\n",
      "Epoch 86/500\n",
      "22/22 [==============================] - 0s 4ms/step - loss: 892.0206 - val_loss: 1281.4861\n",
      "Epoch 87/500\n",
      "22/22 [==============================] - 0s 4ms/step - loss: 871.8910 - val_loss: 1283.2430\n",
      "Epoch 88/500\n",
      "22/22 [==============================] - 0s 4ms/step - loss: 852.2377 - val_loss: 1285.2954\n",
      "Epoch 89/500\n",
      "22/22 [==============================] - 0s 5ms/step - loss: 833.0531 - val_loss: 1287.6353\n",
      "Epoch 90/500\n",
      "22/22 [==============================] - 0s 4ms/step - loss: 814.3303 - val_loss: 1290.2554\n",
      "Epoch 91/500\n",
      "22/22 [==============================] - 0s 4ms/step - loss: 796.0621 - val_loss: 1293.1479\n",
      "Epoch 92/500\n",
      "22/22 [==============================] - 0s 4ms/step - loss: 778.2415 - val_loss: 1296.3058\n",
      "Epoch 93/500\n",
      "22/22 [==============================] - 0s 9ms/step - loss: 760.8615 - val_loss: 1299.7209\n",
      "Epoch 94/500\n",
      "22/22 [==============================] - 0s 4ms/step - loss: 743.9150 - val_loss: 1303.3866\n",
      "Epoch 95/500\n",
      "22/22 [==============================] - 0s 4ms/step - loss: 727.3950 - val_loss: 1307.2952\n",
      "Epoch 96/500\n",
      "22/22 [==============================] - 0s 4ms/step - loss: 711.2947 - val_loss: 1311.4396\n",
      "Epoch 97/500\n",
      "22/22 [==============================] - 0s 4ms/step - loss: 695.6071 - val_loss: 1315.8119\n",
      "Epoch 98/500\n",
      "22/22 [==============================] - 0s 4ms/step - loss: 680.3253 - val_loss: 1320.4055\n",
      "Epoch 99/500\n",
      "22/22 [==============================] - 0s 4ms/step - loss: 665.4426 - val_loss: 1325.2130\n",
      "Epoch 100/500\n",
      "22/22 [==============================] - 0s 4ms/step - loss: 650.9525 - val_loss: 1330.2272\n",
      "Epoch 101/500\n",
      "22/22 [==============================] - 0s 4ms/step - loss: 636.8477 - val_loss: 1335.4410\n",
      "Epoch 102/500\n",
      "22/22 [==============================] - 0s 4ms/step - loss: 623.1218 - val_loss: 1340.8474\n",
      "Epoch 103/500\n",
      "22/22 [==============================] - 0s 4ms/step - loss: 609.7682 - val_loss: 1346.4393\n",
      "Epoch 104/500\n",
      "22/22 [==============================] - 0s 5ms/step - loss: 596.7801 - val_loss: 1352.2098\n",
      "Epoch 105/500\n",
      "22/22 [==============================] - 0s 4ms/step - loss: 584.1511 - val_loss: 1358.1516\n",
      "Epoch 106/500\n",
      "22/22 [==============================] - 0s 4ms/step - loss: 571.8747 - val_loss: 1364.2583\n",
      "Epoch 107/500\n",
      "22/22 [==============================] - 0s 4ms/step - loss: 559.9442 - val_loss: 1370.5228\n",
      "Epoch 108/500\n",
      "22/22 [==============================] - 0s 4ms/step - loss: 548.3532 - val_loss: 1376.9384\n",
      "Epoch 109/500\n",
      "22/22 [==============================] - 0s 3ms/step - loss: 537.0955 - val_loss: 1383.4982\n",
      "Epoch 110/500\n",
      "22/22 [==============================] - 0s 3ms/step - loss: 526.1644 - val_loss: 1390.1954\n",
      "Epoch 111/500\n",
      "22/22 [==============================] - 0s 4ms/step - loss: 515.5540 - val_loss: 1397.0237\n",
      "Epoch 112/500\n",
      "22/22 [==============================] - 0s 4ms/step - loss: 505.2576 - val_loss: 1403.9758\n",
      "Epoch 113/500\n",
      "22/22 [==============================] - 0s 4ms/step - loss: 495.2692 - val_loss: 1411.0463\n",
      "Epoch 114/500\n",
      "22/22 [==============================] - 0s 3ms/step - loss: 485.5827 - val_loss: 1418.2281\n",
      "Epoch 115/500\n",
      "22/22 [==============================] - 0s 3ms/step - loss: 476.1915 - val_loss: 1425.5143\n",
      "Epoch 116/500\n",
      "22/22 [==============================] - 0s 4ms/step - loss: 467.0900 - val_loss: 1432.8995\n",
      "Epoch 117/500\n",
      "22/22 [==============================] - 0s 4ms/step - loss: 458.2718 - val_loss: 1440.3771\n",
      "Epoch 118/500\n",
      "22/22 [==============================] - 0s 5ms/step - loss: 449.7313 - val_loss: 1447.9403\n",
      "Epoch 119/500\n",
      "22/22 [==============================] - 0s 5ms/step - loss: 441.4621 - val_loss: 1455.5831\n",
      "Epoch 120/500\n",
      "22/22 [==============================] - 0s 5ms/step - loss: 433.4586 - val_loss: 1463.3002\n",
      "Epoch 121/500\n",
      "22/22 [==============================] - 0s 5ms/step - loss: 425.7148 - val_loss: 1471.0846\n",
      "Epoch 122/500\n",
      "22/22 [==============================] - 0s 5ms/step - loss: 418.2249 - val_loss: 1478.9310\n",
      "Epoch 123/500\n",
      "22/22 [==============================] - 0s 5ms/step - loss: 410.9831 - val_loss: 1486.8333\n",
      "Epoch 124/500\n",
      "22/22 [==============================] - 0s 5ms/step - loss: 403.9838 - val_loss: 1494.7856\n",
      "Epoch 125/500\n",
      "22/22 [==============================] - 0s 11ms/step - loss: 397.2213 - val_loss: 1502.7820\n",
      "Epoch 126/500\n",
      "22/22 [==============================] - 0s 5ms/step - loss: 390.6901 - val_loss: 1510.8171\n",
      "Epoch 127/500\n",
      "22/22 [==============================] - 0s 6ms/step - loss: 384.3846 - val_loss: 1518.8856\n",
      "Epoch 128/500\n",
      "22/22 [==============================] - 0s 6ms/step - loss: 378.2993 - val_loss: 1526.9816\n",
      "Epoch 129/500\n",
      "22/22 [==============================] - 0s 5ms/step - loss: 372.4287 - val_loss: 1535.0997\n",
      "Epoch 130/500\n",
      "22/22 [==============================] - 0s 5ms/step - loss: 366.7676 - val_loss: 1543.2351\n",
      "Epoch 131/500\n",
      "22/22 [==============================] - 0s 5ms/step - loss: 361.3106 - val_loss: 1551.3818\n",
      "Epoch 132/500\n",
      "22/22 [==============================] - 0s 5ms/step - loss: 356.0525 - val_loss: 1559.5353\n",
      "Epoch 133/500\n",
      "22/22 [==============================] - 0s 5ms/step - loss: 350.9880 - val_loss: 1567.6908\n",
      "Epoch 134/500\n",
      "22/22 [==============================] - 0s 6ms/step - loss: 346.1122 - val_loss: 1575.8431\n",
      "Epoch 135/500\n",
      "22/22 [==============================] - 0s 5ms/step - loss: 341.4199 - val_loss: 1583.9719\n",
      "Epoch 136/500\n",
      "22/22 [==============================] - 0s 5ms/step - loss: 336.9061 - val_loss: 1590.9102\n",
      "Epoch 137/500\n",
      "22/22 [==============================] - 0s 6ms/step - loss: 332.5659 - val_loss: 1600.3838\n",
      "Epoch 138/500\n",
      "22/22 [==============================] - 0s 5ms/step - loss: 328.3945 - val_loss: 1608.4753\n",
      "Epoch 139/500\n",
      "22/22 [==============================] - 0s 5ms/step - loss: 324.3870 - val_loss: 1616.5396\n",
      "Epoch 140/500\n",
      "22/22 [==============================] - 0s 5ms/step - loss: 320.5387 - val_loss: 1624.5734\n",
      "Epoch 141/500\n",
      "22/22 [==============================] - 0s 5ms/step - loss: 316.8451 - val_loss: 1632.5713\n",
      "Epoch 142/500\n",
      "22/22 [==============================] - 0s 5ms/step - loss: 313.3014 - val_loss: 1640.5295\n",
      "Epoch 143/500\n",
      "22/22 [==============================] - 0s 4ms/step - loss: 309.9031 - val_loss: 1648.4448\n",
      "Epoch 144/500\n",
      "22/22 [==============================] - 0s 5ms/step - loss: 306.6460 - val_loss: 1656.3125\n",
      "Epoch 145/500\n",
      "22/22 [==============================] - 0s 5ms/step - loss: 303.5254 - val_loss: 1664.1294\n",
      "Epoch 146/500\n",
      "22/22 [==============================] - 0s 5ms/step - loss: 300.5373 - val_loss: 1671.8910\n",
      "Epoch 147/500\n",
      "22/22 [==============================] - 0s 5ms/step - loss: 297.6772 - val_loss: 1679.5941\n",
      "Epoch 148/500\n",
      "22/22 [==============================] - 0s 5ms/step - loss: 294.9412 - val_loss: 1687.2357\n",
      "Epoch 149/500\n",
      "22/22 [==============================] - 0s 5ms/step - loss: 292.3250 - val_loss: 1694.8123\n",
      "Epoch 150/500\n",
      "22/22 [==============================] - 0s 5ms/step - loss: 289.8249 - val_loss: 1702.3201\n",
      "Epoch 151/500\n",
      "22/22 [==============================] - 0s 5ms/step - loss: 287.4368 - val_loss: 1709.7562\n",
      "Epoch 152/500\n",
      "22/22 [==============================] - 0s 5ms/step - loss: 285.1568 - val_loss: 1717.1184\n",
      "Epoch 153/500\n",
      "22/22 [==============================] - 0s 5ms/step - loss: 282.9813 - val_loss: 1724.4026\n",
      "Epoch 154/500\n",
      "22/22 [==============================] - 0s 5ms/step - loss: 280.9065 - val_loss: 1731.6072\n",
      "Epoch 155/500\n",
      "22/22 [==============================] - 0s 6ms/step - loss: 278.9287 - val_loss: 1738.7294\n",
      "Epoch 156/500\n",
      "22/22 [==============================] - 0s 5ms/step - loss: 277.0446 - val_loss: 1745.7670\n",
      "Epoch 157/500\n",
      "22/22 [==============================] - 0s 10ms/step - loss: 275.2505 - val_loss: 1752.7163\n",
      "Epoch 158/500\n",
      "22/22 [==============================] - 0s 5ms/step - loss: 273.5432 - val_loss: 1759.5767\n",
      "Epoch 159/500\n",
      "22/22 [==============================] - 0s 5ms/step - loss: 271.9194 - val_loss: 1766.3455\n",
      "Epoch 160/500\n",
      "22/22 [==============================] - 0s 6ms/step - loss: 270.3759 - val_loss: 1773.0199\n",
      "Epoch 161/500\n",
      "22/22 [==============================] - 0s 6ms/step - loss: 268.9095 - val_loss: 1779.5988\n",
      "Epoch 162/500\n",
      "22/22 [==============================] - 0s 5ms/step - loss: 267.5172 - val_loss: 1786.0807\n",
      "Epoch 163/500\n",
      "22/22 [==============================] - 0s 5ms/step - loss: 266.1959 - val_loss: 1792.4637\n",
      "Epoch 164/500\n",
      "22/22 [==============================] - 0s 5ms/step - loss: 264.9429 - val_loss: 1798.7468\n",
      "Epoch 165/500\n",
      "22/22 [==============================] - 0s 6ms/step - loss: 263.7552 - val_loss: 1804.9285\n",
      "Epoch 166/500\n",
      "22/22 [==============================] - 0s 5ms/step - loss: 262.6301 - val_loss: 1811.0065\n",
      "Epoch 167/500\n",
      "22/22 [==============================] - 0s 5ms/step - loss: 261.5652 - val_loss: 1816.9812\n",
      "Epoch 168/500\n",
      "22/22 [==============================] - 0s 5ms/step - loss: 260.5574 - val_loss: 1822.8510\n",
      "Epoch 169/500\n",
      "22/22 [==============================] - 0s 4ms/step - loss: 259.6046 - val_loss: 1828.6141\n",
      "Epoch 170/500\n",
      "22/22 [==============================] - 0s 5ms/step - loss: 258.7043 - val_loss: 1834.2715\n",
      "Epoch 171/500\n",
      "22/22 [==============================] - 0s 5ms/step - loss: 257.8541 - val_loss: 1839.8212\n",
      "Epoch 172/500\n",
      "22/22 [==============================] - 0s 5ms/step - loss: 257.0516 - val_loss: 1845.2638\n",
      "Epoch 173/500\n",
      "22/22 [==============================] - 0s 5ms/step - loss: 256.2948 - val_loss: 1850.5981\n",
      "Epoch 174/500\n",
      "22/22 [==============================] - 0s 5ms/step - loss: 255.5815 - val_loss: 1855.8241\n",
      "Epoch 175/500\n",
      "22/22 [==============================] - 0s 5ms/step - loss: 254.9094 - val_loss: 1860.9404\n",
      "Epoch 176/500\n",
      "22/22 [==============================] - 0s 5ms/step - loss: 254.2770 - val_loss: 1865.9485\n",
      "Epoch 177/500\n",
      "22/22 [==============================] - 0s 5ms/step - loss: 253.6819 - val_loss: 1870.8481\n",
      "Epoch 178/500\n",
      "22/22 [==============================] - 0s 5ms/step - loss: 253.1224 - val_loss: 1875.6388\n",
      "Epoch 179/500\n",
      "22/22 [==============================] - 0s 5ms/step - loss: 252.5968 - val_loss: 1880.3219\n",
      "Epoch 180/500\n",
      "22/22 [==============================] - 0s 5ms/step - loss: 252.1034 - val_loss: 1884.8967\n",
      "Epoch 181/500\n",
      "22/22 [==============================] - 0s 5ms/step - loss: 251.6404 - val_loss: 1889.3645\n",
      "Epoch 182/500\n",
      "22/22 [==============================] - 0s 5ms/step - loss: 251.2063 - val_loss: 1893.7242\n",
      "Epoch 183/500\n",
      "22/22 [==============================] - 0s 5ms/step - loss: 250.7996 - val_loss: 1897.9778\n",
      "Epoch 184/500\n",
      "22/22 [==============================] - 0s 5ms/step - loss: 250.4188 - val_loss: 1902.1254\n",
      "Epoch 185/500\n",
      "22/22 [==============================] - 0s 5ms/step - loss: 250.0625 - val_loss: 1906.1672\n",
      "Epoch 186/500\n",
      "22/22 [==============================] - 0s 5ms/step - loss: 249.7293 - val_loss: 1910.1057\n",
      "Epoch 187/500\n",
      "22/22 [==============================] - 0s 5ms/step - loss: 249.4181 - val_loss: 1913.9404\n",
      "Epoch 188/500\n",
      "22/22 [==============================] - 0s 5ms/step - loss: 249.1274 - val_loss: 1917.6726\n",
      "Epoch 189/500\n",
      "22/22 [==============================] - 0s 11ms/step - loss: 248.8562 - val_loss: 1921.3041\n",
      "Epoch 190/500\n",
      "22/22 [==============================] - 0s 5ms/step - loss: 248.6034 - val_loss: 1924.8353\n",
      "Epoch 191/500\n",
      "22/22 [==============================] - 0s 5ms/step - loss: 248.3679 - val_loss: 1928.2664\n",
      "Epoch 192/500\n",
      "22/22 [==============================] - 0s 5ms/step - loss: 248.1486 - val_loss: 1931.6006\n",
      "Epoch 193/500\n",
      "22/22 [==============================] - 0s 5ms/step - loss: 247.9446 - val_loss: 1934.8373\n",
      "Epoch 194/500\n",
      "22/22 [==============================] - 0s 6ms/step - loss: 247.7550 - val_loss: 1937.9805\n",
      "Epoch 195/500\n",
      "22/22 [==============================] - 0s 5ms/step - loss: 247.5788 - val_loss: 1941.0284\n",
      "Epoch 196/500\n",
      "22/22 [==============================] - 0s 6ms/step - loss: 247.4152 - val_loss: 1943.9836\n",
      "Epoch 197/500\n",
      "22/22 [==============================] - 0s 5ms/step - loss: 247.2635 - val_loss: 1946.8491\n",
      "Epoch 198/500\n",
      "22/22 [==============================] - 0s 5ms/step - loss: 247.1229 - val_loss: 1949.6243\n",
      "Epoch 199/500\n",
      "22/22 [==============================] - 0s 5ms/step - loss: 246.9928 - val_loss: 1952.3123\n",
      "Epoch 200/500\n",
      "22/22 [==============================] - 0s 4ms/step - loss: 246.8722 - val_loss: 1954.9131\n",
      "Epoch 201/500\n",
      "22/22 [==============================] - 0s 5ms/step - loss: 246.7608 - val_loss: 1957.4303\n",
      "Epoch 202/500\n",
      "22/22 [==============================] - 0s 5ms/step - loss: 246.6579 - val_loss: 1959.8644\n",
      "Epoch 203/500\n",
      "22/22 [==============================] - 0s 5ms/step - loss: 246.5628 - val_loss: 1962.2169\n",
      "Epoch 204/500\n",
      "22/22 [==============================] - 0s 5ms/step - loss: 246.4751 - val_loss: 1964.4895\n",
      "Epoch 205/500\n",
      "22/22 [==============================] - 0s 5ms/step - loss: 246.3943 - val_loss: 1966.6846\n",
      "Epoch 206/500\n",
      "22/22 [==============================] - 0s 5ms/step - loss: 246.3198 - val_loss: 1968.8027\n",
      "Epoch 207/500\n",
      "22/22 [==============================] - 0s 5ms/step - loss: 246.2514 - val_loss: 1970.8470\n",
      "Epoch 208/500\n",
      "22/22 [==============================] - 0s 5ms/step - loss: 246.1883 - val_loss: 1972.8182\n",
      "Epoch 209/500\n",
      "22/22 [==============================] - 0s 5ms/step - loss: 246.1305 - val_loss: 1974.7178\n",
      "Epoch 210/500\n",
      "22/22 [==============================] - 0s 5ms/step - loss: 246.0773 - val_loss: 1976.5490\n",
      "Epoch 211/500\n",
      "22/22 [==============================] - 0s 5ms/step - loss: 246.0287 - val_loss: 1978.3118\n",
      "Epoch 212/500\n",
      "22/22 [==============================] - 0s 5ms/step - loss: 245.9840 - val_loss: 1980.0088\n",
      "Epoch 213/500\n",
      "22/22 [==============================] - 0s 5ms/step - loss: 245.9431 - val_loss: 1981.6412\n",
      "Epoch 214/500\n",
      "22/22 [==============================] - 0s 5ms/step - loss: 245.9058 - val_loss: 1983.2115\n",
      "Epoch 215/500\n",
      "22/22 [==============================] - 0s 5ms/step - loss: 245.8716 - val_loss: 1984.7209\n",
      "Epoch 216/500\n",
      "22/22 [==============================] - 0s 5ms/step - loss: 245.8405 - val_loss: 1986.1716\n",
      "Epoch 217/500\n",
      "22/22 [==============================] - 0s 5ms/step - loss: 245.8120 - val_loss: 1987.5651\n",
      "Epoch 218/500\n",
      "22/22 [==============================] - 0s 5ms/step - loss: 245.7861 - val_loss: 1988.9027\n",
      "Epoch 219/500\n",
      "22/22 [==============================] - 0s 11ms/step - loss: 245.7625 - val_loss: 1990.1875\n",
      "Epoch 220/500\n",
      "22/22 [==============================] - 0s 5ms/step - loss: 245.7410 - val_loss: 1991.4176\n",
      "Epoch 221/500\n",
      "22/22 [==============================] - 0s 6ms/step - loss: 245.7216 - val_loss: 1992.5980\n",
      "Epoch 222/500\n",
      "22/22 [==============================] - 0s 6ms/step - loss: 245.7040 - val_loss: 1993.7290\n",
      "Epoch 223/500\n",
      "22/22 [==============================] - 0s 5ms/step - loss: 245.6880 - val_loss: 1994.8131\n",
      "Epoch 224/500\n",
      "22/22 [==============================] - 0s 5ms/step - loss: 245.6735 - val_loss: 1995.8507\n",
      "Epoch 225/500\n",
      "22/22 [==============================] - 0s 5ms/step - loss: 245.6604 - val_loss: 1996.8445\n",
      "Epoch 226/500\n",
      "22/22 [==============================] - 0s 5ms/step - loss: 245.6487 - val_loss: 1997.7943\n",
      "Epoch 227/500\n",
      "22/22 [==============================] - 0s 5ms/step - loss: 245.6380 - val_loss: 1998.7028\n",
      "Epoch 228/500\n",
      "22/22 [==============================] - 0s 4ms/step - loss: 245.6285 - val_loss: 1999.5717\n",
      "Epoch 229/500\n",
      "22/22 [==============================] - 0s 5ms/step - loss: 245.6199 - val_loss: 2000.4022\n",
      "Epoch 230/500\n",
      "22/22 [==============================] - 0s 5ms/step - loss: 245.6122 - val_loss: 2001.1940\n",
      "Epoch 231/500\n",
      "22/22 [==============================] - 0s 5ms/step - loss: 245.6053 - val_loss: 2001.9506\n",
      "Epoch 232/500\n",
      "22/22 [==============================] - 0s 5ms/step - loss: 245.5993 - val_loss: 2002.6729\n",
      "Epoch 233/500\n",
      "22/22 [==============================] - 0s 5ms/step - loss: 245.5938 - val_loss: 2003.3607\n",
      "Epoch 234/500\n",
      "22/22 [==============================] - 0s 5ms/step - loss: 245.5889 - val_loss: 2004.0170\n",
      "Epoch 235/500\n",
      "22/22 [==============================] - 0s 5ms/step - loss: 245.5847 - val_loss: 2004.6425\n",
      "Epoch 236/500\n",
      "22/22 [==============================] - 0s 5ms/step - loss: 245.5809 - val_loss: 2005.2386\n",
      "Epoch 237/500\n",
      "22/22 [==============================] - 0s 5ms/step - loss: 245.5776 - val_loss: 2005.8059\n",
      "Epoch 238/500\n",
      "22/22 [==============================] - 0s 5ms/step - loss: 245.5748 - val_loss: 2006.3463\n",
      "Epoch 239/500\n",
      "22/22 [==============================] - 0s 5ms/step - loss: 245.5722 - val_loss: 2006.8604\n",
      "Epoch 240/500\n",
      "22/22 [==============================] - 0s 5ms/step - loss: 245.5700 - val_loss: 2007.3489\n",
      "Epoch 241/500\n",
      "22/22 [==============================] - 0s 7ms/step - loss: 245.5682 - val_loss: 2007.8135\n",
      "Epoch 242/500\n",
      "22/22 [==============================] - 0s 6ms/step - loss: 245.5667 - val_loss: 2008.2551\n",
      "Epoch 243/500\n",
      "22/22 [==============================] - 0s 6ms/step - loss: 245.5653 - val_loss: 2008.6744\n",
      "Epoch 244/500\n",
      "22/22 [==============================] - 0s 5ms/step - loss: 245.5642 - val_loss: 2009.0735\n",
      "Epoch 245/500\n",
      "22/22 [==============================] - 0s 5ms/step - loss: 245.5633 - val_loss: 2009.4509\n",
      "Epoch 246/500\n",
      "22/22 [==============================] - 0s 12ms/step - loss: 245.5626 - val_loss: 2009.8096\n",
      "Epoch 247/500\n",
      "22/22 [==============================] - 0s 6ms/step - loss: 245.5622 - val_loss: 2010.1509\n",
      "Epoch 248/500\n",
      "22/22 [==============================] - 0s 6ms/step - loss: 245.5618 - val_loss: 2010.4728\n",
      "Epoch 249/500\n",
      "22/22 [==============================] - 0s 5ms/step - loss: 245.5615 - val_loss: 2010.7791\n",
      "Epoch 250/500\n",
      "22/22 [==============================] - 0s 5ms/step - loss: 245.5614 - val_loss: 2011.0687\n",
      "Epoch 251/500\n",
      "22/22 [==============================] - 0s 6ms/step - loss: 245.5613 - val_loss: 2011.3423\n",
      "Epoch 252/500\n",
      "22/22 [==============================] - 0s 5ms/step - loss: 245.5615 - val_loss: 2011.6014\n",
      "Epoch 253/500\n",
      "22/22 [==============================] - 0s 5ms/step - loss: 245.5617 - val_loss: 2011.8469\n",
      "Epoch 254/500\n",
      "22/22 [==============================] - 0s 5ms/step - loss: 245.5619 - val_loss: 2012.0787\n",
      "Epoch 255/500\n",
      "22/22 [==============================] - 0s 5ms/step - loss: 245.5622 - val_loss: 2012.2979\n",
      "Epoch 256/500\n",
      "22/22 [==============================] - 0s 5ms/step - loss: 245.5626 - val_loss: 2012.5062\n",
      "Epoch 257/500\n",
      "22/22 [==============================] - 0s 5ms/step - loss: 245.5630 - val_loss: 2012.7021\n",
      "Epoch 258/500\n",
      "22/22 [==============================] - 0s 5ms/step - loss: 245.5635 - val_loss: 2012.8871\n",
      "Epoch 259/500\n",
      "22/22 [==============================] - 0s 5ms/step - loss: 245.5640 - val_loss: 2013.0623\n",
      "Epoch 260/500\n",
      "22/22 [==============================] - 0s 5ms/step - loss: 245.5646 - val_loss: 2013.2261\n",
      "Epoch 261/500\n",
      "22/22 [==============================] - 0s 5ms/step - loss: 245.5652 - val_loss: 2013.3823\n",
      "Epoch 262/500\n",
      "22/22 [==============================] - 0s 5ms/step - loss: 245.5658 - val_loss: 2013.5294\n",
      "Epoch 263/500\n",
      "22/22 [==============================] - 0s 5ms/step - loss: 245.5665 - val_loss: 2013.6672\n",
      "Epoch 264/500\n",
      "22/22 [==============================] - 0s 5ms/step - loss: 245.5671 - val_loss: 2013.7972\n",
      "Epoch 265/500\n",
      "22/22 [==============================] - 0s 5ms/step - loss: 245.5678 - val_loss: 2013.9211\n",
      "Epoch 266/500\n",
      "22/22 [==============================] - 0s 5ms/step - loss: 245.5685 - val_loss: 2014.0364\n",
      "Epoch 267/500\n",
      "22/22 [==============================] - 0s 5ms/step - loss: 245.5693 - val_loss: 2014.1449\n",
      "Epoch 268/500\n",
      "22/22 [==============================] - 0s 5ms/step - loss: 245.5701 - val_loss: 2014.2474\n",
      "Epoch 269/500\n",
      "22/22 [==============================] - 0s 5ms/step - loss: 245.5708 - val_loss: 2014.3444\n",
      "Epoch 270/500\n",
      "22/22 [==============================] - 0s 5ms/step - loss: 245.5715 - val_loss: 2014.4346\n",
      "Epoch 271/500\n",
      "22/22 [==============================] - 0s 5ms/step - loss: 245.5723 - val_loss: 2014.5195\n",
      "Epoch 272/500\n",
      "22/22 [==============================] - 0s 10ms/step - loss: 245.5730 - val_loss: 2014.5995\n",
      "Epoch 273/500\n",
      "22/22 [==============================] - 0s 6ms/step - loss: 245.5738 - val_loss: 2014.6750\n",
      "Epoch 274/500\n",
      "22/22 [==============================] - 0s 6ms/step - loss: 245.5745 - val_loss: 2014.7449\n",
      "Epoch 275/500\n",
      "22/22 [==============================] - 0s 6ms/step - loss: 245.5753 - val_loss: 2014.8118\n",
      "Epoch 276/500\n",
      "22/22 [==============================] - 0s 6ms/step - loss: 245.5760 - val_loss: 2014.8732\n",
      "Epoch 277/500\n",
      "22/22 [==============================] - 0s 5ms/step - loss: 245.5768 - val_loss: 2014.9309\n",
      "Epoch 278/500\n",
      "22/22 [==============================] - 0s 5ms/step - loss: 245.5775 - val_loss: 2014.9857\n",
      "Epoch 279/500\n",
      "22/22 [==============================] - 0s 5ms/step - loss: 245.5783 - val_loss: 2015.0367\n",
      "Epoch 280/500\n",
      "22/22 [==============================] - 0s 5ms/step - loss: 245.5790 - val_loss: 2015.0846\n",
      "Epoch 281/500\n",
      "22/22 [==============================] - 0s 5ms/step - loss: 245.5798 - val_loss: 2015.1290\n",
      "Epoch 282/500\n",
      "22/22 [==============================] - 0s 5ms/step - loss: 245.5805 - val_loss: 2015.1713\n",
      "Epoch 283/500\n",
      "22/22 [==============================] - 0s 5ms/step - loss: 245.5813 - val_loss: 2015.2104\n",
      "Epoch 284/500\n",
      "22/22 [==============================] - 0s 5ms/step - loss: 245.5821 - val_loss: 2015.2474\n",
      "Epoch 285/500\n",
      "22/22 [==============================] - 0s 5ms/step - loss: 245.5828 - val_loss: 2015.2820\n",
      "Epoch 286/500\n",
      "22/22 [==============================] - 0s 5ms/step - loss: 245.5835 - val_loss: 2015.3136\n",
      "Epoch 287/500\n",
      "22/22 [==============================] - 0s 5ms/step - loss: 245.5842 - val_loss: 2015.3440\n",
      "Epoch 288/500\n",
      "22/22 [==============================] - 0s 5ms/step - loss: 245.5849 - val_loss: 2015.3717\n",
      "Epoch 289/500\n",
      "22/22 [==============================] - 0s 5ms/step - loss: 245.5856 - val_loss: 2015.3978\n",
      "Epoch 290/500\n",
      "22/22 [==============================] - 0s 5ms/step - loss: 245.5863 - val_loss: 2015.4226\n",
      "Epoch 291/500\n",
      "22/22 [==============================] - 0s 5ms/step - loss: 245.5870 - val_loss: 2015.4452\n",
      "Epoch 292/500\n",
      "22/22 [==============================] - 0s 5ms/step - loss: 245.5877 - val_loss: 2015.4667\n",
      "Epoch 293/500\n",
      "22/22 [==============================] - 0s 5ms/step - loss: 245.5884 - val_loss: 2015.4858\n",
      "Epoch 294/500\n",
      "22/22 [==============================] - 0s 5ms/step - loss: 245.5891 - val_loss: 2015.5044\n",
      "Epoch 295/500\n",
      "22/22 [==============================] - 0s 5ms/step - loss: 245.5897 - val_loss: 2015.5217\n",
      "Epoch 296/500\n",
      "22/22 [==============================] - 0s 5ms/step - loss: 245.5903 - val_loss: 2015.5367\n",
      "Epoch 297/500\n",
      "22/22 [==============================] - 0s 5ms/step - loss: 245.5911 - val_loss: 2015.5519\n",
      "Epoch 298/500\n",
      "22/22 [==============================] - 0s 5ms/step - loss: 245.5917 - val_loss: 2015.5654\n",
      "Epoch 299/500\n",
      "22/22 [==============================] - 0s 5ms/step - loss: 245.5923 - val_loss: 2015.5781\n",
      "Epoch 300/500\n",
      "22/22 [==============================] - 0s 9ms/step - loss: 245.5929 - val_loss: 2015.5906\n",
      "Epoch 301/500\n",
      "22/22 [==============================] - 0s 6ms/step - loss: 245.5936 - val_loss: 2015.6018\n",
      "Epoch 302/500\n",
      "22/22 [==============================] - 0s 6ms/step - loss: 245.5942 - val_loss: 2015.6130\n",
      "Epoch 303/500\n",
      "22/22 [==============================] - 0s 6ms/step - loss: 245.5947 - val_loss: 2015.6221\n",
      "Epoch 304/500\n",
      "22/22 [==============================] - 0s 6ms/step - loss: 245.5954 - val_loss: 2015.6316\n",
      "Epoch 305/500\n",
      "22/22 [==============================] - 0s 6ms/step - loss: 245.5959 - val_loss: 2015.6400\n",
      "Epoch 306/500\n",
      "22/22 [==============================] - 0s 5ms/step - loss: 245.5964 - val_loss: 2015.6460\n",
      "Epoch 307/500\n",
      "22/22 [==============================] - 0s 5ms/step - loss: 245.5971 - val_loss: 2015.6534\n",
      "Epoch 308/500\n",
      "22/22 [==============================] - 0s 5ms/step - loss: 245.5976 - val_loss: 2015.6594\n",
      "Epoch 309/500\n",
      "22/22 [==============================] - 0s 5ms/step - loss: 245.5981 - val_loss: 2015.6661\n",
      "Epoch 310/500\n",
      "22/22 [==============================] - 0s 5ms/step - loss: 245.5987 - val_loss: 2015.6716\n",
      "Epoch 311/500\n",
      "22/22 [==============================] - 0s 5ms/step - loss: 245.5992 - val_loss: 2015.6761\n",
      "Epoch 312/500\n",
      "22/22 [==============================] - 0s 5ms/step - loss: 245.5997 - val_loss: 2015.6803\n",
      "Epoch 313/500\n",
      "22/22 [==============================] - 0s 5ms/step - loss: 245.6003 - val_loss: 2015.6847\n",
      "Epoch 314/500\n",
      "22/22 [==============================] - 0s 5ms/step - loss: 245.6008 - val_loss: 2015.6896\n",
      "Epoch 315/500\n",
      "22/22 [==============================] - 0s 5ms/step - loss: 245.6012 - val_loss: 2015.6923\n",
      "Epoch 316/500\n",
      "22/22 [==============================] - 0s 5ms/step - loss: 245.6018 - val_loss: 2015.6956\n",
      "Epoch 317/500\n",
      "22/22 [==============================] - 0s 5ms/step - loss: 245.6022 - val_loss: 2015.6989\n",
      "Epoch 318/500\n",
      "22/22 [==============================] - 0s 4ms/step - loss: 245.6027 - val_loss: 2015.7018\n",
      "Epoch 319/500\n",
      "22/22 [==============================] - 0s 5ms/step - loss: 245.6032 - val_loss: 2015.7041\n",
      "Epoch 320/500\n",
      "22/22 [==============================] - 0s 5ms/step - loss: 245.6037 - val_loss: 2015.7067\n",
      "Epoch 321/500\n",
      "22/22 [==============================] - 0s 5ms/step - loss: 245.6041 - val_loss: 2015.7079\n",
      "Epoch 322/500\n",
      "22/22 [==============================] - 0s 5ms/step - loss: 245.6045 - val_loss: 2015.7096\n",
      "Epoch 323/500\n",
      "22/22 [==============================] - 0s 5ms/step - loss: 245.6050 - val_loss: 2015.7115\n",
      "Epoch 324/500\n",
      "22/22 [==============================] - 0s 5ms/step - loss: 245.6054 - val_loss: 2015.7136\n",
      "Epoch 325/500\n",
      "22/22 [==============================] - 0s 5ms/step - loss: 245.6058 - val_loss: 2015.7156\n",
      "Epoch 326/500\n",
      "22/22 [==============================] - 0s 9ms/step - loss: 245.6062 - val_loss: 2015.7163\n",
      "Epoch 327/500\n",
      "22/22 [==============================] - 0s 6ms/step - loss: 245.6066 - val_loss: 2015.7170\n",
      "Epoch 328/500\n",
      "22/22 [==============================] - 0s 6ms/step - loss: 245.6071 - val_loss: 2015.7184\n",
      "Epoch 329/500\n",
      "22/22 [==============================] - 0s 5ms/step - loss: 245.6075 - val_loss: 2015.7195\n",
      "Epoch 330/500\n",
      "22/22 [==============================] - 0s 5ms/step - loss: 245.6079 - val_loss: 2015.7194\n",
      "Epoch 331/500\n",
      "22/22 [==============================] - 0s 5ms/step - loss: 245.6082 - val_loss: 2015.7202\n",
      "Epoch 332/500\n",
      "22/22 [==============================] - 0s 5ms/step - loss: 245.6086 - val_loss: 2015.7206\n",
      "Epoch 333/500\n",
      "22/22 [==============================] - 0s 5ms/step - loss: 245.6090 - val_loss: 2015.7206\n",
      "Epoch 334/500\n",
      "22/22 [==============================] - 0s 5ms/step - loss: 245.6093 - val_loss: 2015.7212\n",
      "Epoch 335/500\n",
      "22/22 [==============================] - 0s 5ms/step - loss: 245.6097 - val_loss: 2015.7216\n",
      "Epoch 336/500\n",
      "22/22 [==============================] - 0s 5ms/step - loss: 245.6101 - val_loss: 2015.7219\n",
      "Epoch 337/500\n",
      "22/22 [==============================] - 0s 6ms/step - loss: 245.6104 - val_loss: 2015.7230\n",
      "Epoch 338/500\n",
      "22/22 [==============================] - 0s 5ms/step - loss: 245.6107 - val_loss: 2015.7230\n",
      "Epoch 339/500\n",
      "22/22 [==============================] - 0s 5ms/step - loss: 245.6111 - val_loss: 2015.7235\n",
      "Epoch 340/500\n",
      "22/22 [==============================] - 0s 5ms/step - loss: 245.6114 - val_loss: 2015.7239\n",
      "Epoch 341/500\n",
      "22/22 [==============================] - 0s 5ms/step - loss: 245.6116 - val_loss: 2015.7235\n",
      "Epoch 342/500\n",
      "22/22 [==============================] - 0s 5ms/step - loss: 245.6120 - val_loss: 2015.7235\n",
      "Epoch 343/500\n",
      "22/22 [==============================] - 0s 5ms/step - loss: 245.6123 - val_loss: 2015.7230\n",
      "Epoch 344/500\n",
      "22/22 [==============================] - 0s 5ms/step - loss: 245.6126 - val_loss: 2015.7230\n",
      "Epoch 345/500\n",
      "22/22 [==============================] - 0s 5ms/step - loss: 245.6129 - val_loss: 2015.7235\n",
      "Epoch 346/500\n",
      "22/22 [==============================] - 0s 6ms/step - loss: 245.6133 - val_loss: 2015.7239\n",
      "Epoch 347/500\n",
      "22/22 [==============================] - 0s 5ms/step - loss: 245.6135 - val_loss: 2015.7230\n",
      "Epoch 348/500\n",
      "22/22 [==============================] - 0s 5ms/step - loss: 245.6138 - val_loss: 2015.7228\n",
      "Epoch 349/500\n",
      "22/22 [==============================] - 0s 5ms/step - loss: 245.6140 - val_loss: 2015.7227\n",
      "Epoch 350/500\n",
      "22/22 [==============================] - 0s 5ms/step - loss: 245.6142 - val_loss: 2015.7223\n",
      "Epoch 351/500\n",
      "22/22 [==============================] - 0s 5ms/step - loss: 245.6145 - val_loss: 2015.7216\n",
      "Epoch 352/500\n",
      "22/22 [==============================] - 0s 5ms/step - loss: 245.6148 - val_loss: 2015.7217\n",
      "Epoch 353/500\n",
      "22/22 [==============================] - 0s 10ms/step - loss: 245.6151 - val_loss: 2015.7219\n",
      "Epoch 354/500\n",
      "22/22 [==============================] - 0s 5ms/step - loss: 245.6154 - val_loss: 2015.7217\n",
      "Epoch 355/500\n",
      "22/22 [==============================] - 0s 6ms/step - loss: 245.6155 - val_loss: 2015.7212\n",
      "Epoch 356/500\n",
      "22/22 [==============================] - 0s 6ms/step - loss: 245.6158 - val_loss: 2015.7209\n",
      "Epoch 357/500\n",
      "22/22 [==============================] - 0s 5ms/step - loss: 245.6161 - val_loss: 2015.7219\n",
      "Epoch 358/500\n",
      "22/22 [==============================] - 0s 6ms/step - loss: 245.6162 - val_loss: 2015.7208\n",
      "Epoch 359/500\n",
      "22/22 [==============================] - 0s 6ms/step - loss: 245.6165 - val_loss: 2015.7205\n",
      "Epoch 360/500\n",
      "22/22 [==============================] - 0s 5ms/step - loss: 245.6167 - val_loss: 2015.7202\n",
      "Epoch 361/500\n",
      "22/22 [==============================] - 0s 5ms/step - loss: 245.6170 - val_loss: 2015.7202\n",
      "Epoch 362/500\n",
      "22/22 [==============================] - 0s 5ms/step - loss: 245.6172 - val_loss: 2015.7206\n",
      "Epoch 363/500\n",
      "22/22 [==============================] - 0s 5ms/step - loss: 245.6173 - val_loss: 2015.7190\n",
      "Epoch 364/500\n",
      "22/22 [==============================] - 0s 5ms/step - loss: 245.6176 - val_loss: 2015.7190\n",
      "Epoch 365/500\n",
      "22/22 [==============================] - 0s 5ms/step - loss: 245.6178 - val_loss: 2015.7185\n",
      "Epoch 366/500\n",
      "22/22 [==============================] - 0s 5ms/step - loss: 245.6180 - val_loss: 2015.7180\n",
      "Epoch 367/500\n",
      "22/22 [==============================] - 0s 5ms/step - loss: 245.6182 - val_loss: 2015.7181\n",
      "Epoch 368/500\n",
      "22/22 [==============================] - 0s 5ms/step - loss: 245.6183 - val_loss: 2015.7173\n",
      "Epoch 369/500\n",
      "22/22 [==============================] - 0s 5ms/step - loss: 245.6185 - val_loss: 2015.7159\n",
      "Epoch 370/500\n",
      "22/22 [==============================] - 0s 5ms/step - loss: 245.6187 - val_loss: 2015.7152\n",
      "Epoch 371/500\n",
      "22/22 [==============================] - 0s 5ms/step - loss: 245.6189 - val_loss: 2015.7156\n",
      "Epoch 372/500\n",
      "22/22 [==============================] - 0s 5ms/step - loss: 245.6191 - val_loss: 2015.7156\n",
      "Epoch 373/500\n",
      "22/22 [==============================] - 0s 5ms/step - loss: 245.6193 - val_loss: 2015.7156\n",
      "Epoch 374/500\n",
      "22/22 [==============================] - 0s 5ms/step - loss: 245.6194 - val_loss: 2015.7155\n",
      "Epoch 375/500\n",
      "22/22 [==============================] - 0s 5ms/step - loss: 245.6195 - val_loss: 2015.7141\n",
      "Epoch 376/500\n",
      "22/22 [==============================] - 0s 5ms/step - loss: 245.6198 - val_loss: 2015.7145\n",
      "Epoch 377/500\n",
      "22/22 [==============================] - 0s 5ms/step - loss: 245.6199 - val_loss: 2015.7137\n",
      "Epoch 378/500\n",
      "22/22 [==============================] - 0s 4ms/step - loss: 245.6201 - val_loss: 2015.7133\n",
      "Epoch 379/500\n",
      "22/22 [==============================] - 0s 5ms/step - loss: 245.6201 - val_loss: 2015.7129\n",
      "Epoch 380/500\n",
      "22/22 [==============================] - 0s 10ms/step - loss: 245.6203 - val_loss: 2015.7129\n",
      "Epoch 381/500\n",
      "22/22 [==============================] - 0s 5ms/step - loss: 245.6204 - val_loss: 2015.7119\n",
      "Epoch 382/500\n",
      "22/22 [==============================] - 0s 6ms/step - loss: 245.6206 - val_loss: 2015.7119\n",
      "Epoch 383/500\n",
      "22/22 [==============================] - 0s 5ms/step - loss: 245.6208 - val_loss: 2015.7119\n",
      "Epoch 384/500\n",
      "22/22 [==============================] - 0s 5ms/step - loss: 245.6209 - val_loss: 2015.7125\n",
      "Epoch 385/500\n",
      "22/22 [==============================] - 0s 5ms/step - loss: 245.6210 - val_loss: 2015.7123\n",
      "Epoch 386/500\n",
      "22/22 [==============================] - 0s 5ms/step - loss: 245.6211 - val_loss: 2015.7125\n",
      "Epoch 387/500\n",
      "22/22 [==============================] - 0s 5ms/step - loss: 245.6212 - val_loss: 2015.7125\n",
      "Epoch 388/500\n",
      "22/22 [==============================] - 0s 5ms/step - loss: 245.6214 - val_loss: 2015.7125\n",
      "Epoch 389/500\n",
      "22/22 [==============================] - 0s 5ms/step - loss: 245.6215 - val_loss: 2015.7125\n",
      "Epoch 390/500\n",
      "22/22 [==============================] - 0s 5ms/step - loss: 245.6216 - val_loss: 2015.7119\n",
      "Epoch 391/500\n",
      "22/22 [==============================] - 0s 5ms/step - loss: 245.6218 - val_loss: 2015.7119\n",
      "Epoch 392/500\n",
      "22/22 [==============================] - 0s 5ms/step - loss: 245.6219 - val_loss: 2015.7119\n",
      "Epoch 393/500\n",
      "22/22 [==============================] - 0s 5ms/step - loss: 245.6220 - val_loss: 2015.7119\n",
      "Epoch 394/500\n",
      "22/22 [==============================] - 0s 5ms/step - loss: 245.6221 - val_loss: 2015.7123\n",
      "Epoch 395/500\n",
      "22/22 [==============================] - 0s 5ms/step - loss: 245.6222 - val_loss: 2015.7119\n",
      "Epoch 396/500\n",
      "22/22 [==============================] - 0s 5ms/step - loss: 245.6222 - val_loss: 2015.7115\n",
      "Epoch 397/500\n",
      "22/22 [==============================] - 0s 5ms/step - loss: 245.6224 - val_loss: 2015.7115\n",
      "Epoch 398/500\n",
      "22/22 [==============================] - 0s 5ms/step - loss: 245.6224 - val_loss: 2015.7108\n",
      "Epoch 399/500\n",
      "22/22 [==============================] - 0s 6ms/step - loss: 245.6225 - val_loss: 2015.7103\n",
      "Epoch 400/500\n",
      "22/22 [==============================] - 0s 5ms/step - loss: 245.6227 - val_loss: 2015.7112\n",
      "Epoch 401/500\n",
      "22/22 [==============================] - 0s 5ms/step - loss: 245.6228 - val_loss: 2015.7115\n",
      "Epoch 402/500\n",
      "22/22 [==============================] - 0s 5ms/step - loss: 245.6228 - val_loss: 2015.7115\n",
      "Epoch 403/500\n",
      "22/22 [==============================] - 0s 10ms/step - loss: 245.6230 - val_loss: 2015.7115\n",
      "Epoch 404/500\n",
      "22/22 [==============================] - 0s 5ms/step - loss: 245.6230 - val_loss: 2015.7115\n",
      "Epoch 405/500\n",
      "22/22 [==============================] - 0s 6ms/step - loss: 245.6231 - val_loss: 2015.7115\n",
      "Epoch 406/500\n",
      "22/22 [==============================] - 0s 5ms/step - loss: 245.6232 - val_loss: 2015.7114\n",
      "Epoch 407/500\n",
      "22/22 [==============================] - 0s 6ms/step - loss: 245.6233 - val_loss: 2015.7107\n",
      "Epoch 408/500\n",
      "22/22 [==============================] - 0s 5ms/step - loss: 245.6234 - val_loss: 2015.7103\n",
      "Epoch 409/500\n",
      "22/22 [==============================] - 0s 5ms/step - loss: 245.6235 - val_loss: 2015.7101\n",
      "Epoch 410/500\n",
      "22/22 [==============================] - 0s 5ms/step - loss: 245.6236 - val_loss: 2015.7101\n",
      "Epoch 411/500\n",
      "22/22 [==============================] - 0s 5ms/step - loss: 245.6237 - val_loss: 2015.7103\n",
      "Epoch 412/500\n",
      "22/22 [==============================] - 0s 5ms/step - loss: 245.6237 - val_loss: 2015.7103\n",
      "Epoch 413/500\n",
      "22/22 [==============================] - 0s 5ms/step - loss: 245.6238 - val_loss: 2015.7101\n",
      "Epoch 414/500\n",
      "22/22 [==============================] - 0s 5ms/step - loss: 245.6238 - val_loss: 2015.7101\n",
      "Epoch 415/500\n",
      "22/22 [==============================] - 0s 5ms/step - loss: 245.6239 - val_loss: 2015.7100\n",
      "Epoch 416/500\n",
      "22/22 [==============================] - 0s 5ms/step - loss: 245.6239 - val_loss: 2015.7090\n",
      "Epoch 417/500\n",
      "22/22 [==============================] - 0s 5ms/step - loss: 245.6240 - val_loss: 2015.7092\n",
      "Epoch 418/500\n",
      "22/22 [==============================] - 0s 5ms/step - loss: 245.6241 - val_loss: 2015.7092\n",
      "Epoch 419/500\n",
      "22/22 [==============================] - 0s 5ms/step - loss: 245.6242 - val_loss: 2015.7094\n",
      "Epoch 420/500\n",
      "22/22 [==============================] - 0s 5ms/step - loss: 245.6243 - val_loss: 2015.7085\n",
      "Epoch 421/500\n",
      "22/22 [==============================] - 0s 5ms/step - loss: 245.6243 - val_loss: 2015.7074\n",
      "Epoch 422/500\n",
      "22/22 [==============================] - 0s 5ms/step - loss: 245.6243 - val_loss: 2015.7070\n",
      "Epoch 423/500\n",
      "22/22 [==============================] - 0s 5ms/step - loss: 245.6245 - val_loss: 2015.7070\n",
      "Epoch 424/500\n",
      "22/22 [==============================] - 0s 5ms/step - loss: 245.6245 - val_loss: 2015.7067\n",
      "Epoch 425/500\n",
      "22/22 [==============================] - 0s 6ms/step - loss: 245.6245 - val_loss: 2015.7059\n",
      "Epoch 426/500\n",
      "22/22 [==============================] - 0s 5ms/step - loss: 245.6246 - val_loss: 2015.7057\n",
      "Epoch 427/500\n",
      "22/22 [==============================] - 0s 11ms/step - loss: 245.6247 - val_loss: 2015.7059\n",
      "Epoch 428/500\n",
      "22/22 [==============================] - 0s 5ms/step - loss: 245.6248 - val_loss: 2015.7067\n",
      "Epoch 429/500\n",
      "22/22 [==============================] - 0s 6ms/step - loss: 245.6248 - val_loss: 2015.7057\n",
      "Epoch 430/500\n",
      "22/22 [==============================] - 0s 5ms/step - loss: 245.6249 - val_loss: 2015.7067\n",
      "Epoch 431/500\n",
      "22/22 [==============================] - 0s 6ms/step - loss: 245.6249 - val_loss: 2015.7067\n",
      "Epoch 432/500\n",
      "22/22 [==============================] - 0s 6ms/step - loss: 245.6250 - val_loss: 2015.7072\n",
      "Epoch 433/500\n",
      "22/22 [==============================] - 0s 5ms/step - loss: 245.6250 - val_loss: 2015.7070\n",
      "Epoch 434/500\n",
      "22/22 [==============================] - 0s 5ms/step - loss: 245.6250 - val_loss: 2015.7078\n",
      "Epoch 435/500\n",
      "22/22 [==============================] - 0s 5ms/step - loss: 245.6251 - val_loss: 2015.7078\n",
      "Epoch 436/500\n",
      "22/22 [==============================] - 0s 5ms/step - loss: 245.6251 - val_loss: 2015.7078\n",
      "Epoch 437/500\n",
      "22/22 [==============================] - 0s 5ms/step - loss: 245.6252 - val_loss: 2015.7078\n",
      "Epoch 438/500\n",
      "22/22 [==============================] - 0s 5ms/step - loss: 245.6252 - val_loss: 2015.7070\n",
      "Epoch 439/500\n",
      "22/22 [==============================] - 0s 5ms/step - loss: 245.6253 - val_loss: 2015.7070\n",
      "Epoch 440/500\n",
      "22/22 [==============================] - 0s 5ms/step - loss: 245.6253 - val_loss: 2015.7067\n",
      "Epoch 441/500\n",
      "22/22 [==============================] - 0s 5ms/step - loss: 245.6253 - val_loss: 2015.7064\n",
      "Epoch 442/500\n",
      "22/22 [==============================] - 0s 5ms/step - loss: 245.6254 - val_loss: 2015.7063\n",
      "Epoch 443/500\n",
      "22/22 [==============================] - 0s 5ms/step - loss: 245.6254 - val_loss: 2015.7063\n",
      "Epoch 444/500\n",
      "22/22 [==============================] - 0s 5ms/step - loss: 245.6254 - val_loss: 2015.7048\n",
      "Epoch 445/500\n",
      "22/22 [==============================] - 0s 5ms/step - loss: 245.6254 - val_loss: 2015.7041\n",
      "Epoch 446/500\n",
      "22/22 [==============================] - 0s 5ms/step - loss: 245.6255 - val_loss: 2015.7041\n",
      "Epoch 447/500\n",
      "22/22 [==============================] - 0s 5ms/step - loss: 245.6256 - val_loss: 2015.7042\n",
      "Epoch 448/500\n",
      "22/22 [==============================] - 0s 5ms/step - loss: 245.6257 - val_loss: 2015.7045\n",
      "Epoch 449/500\n",
      "22/22 [==============================] - 0s 5ms/step - loss: 245.6257 - val_loss: 2015.7048\n",
      "Epoch 450/500\n",
      "22/22 [==============================] - 0s 11ms/step - loss: 245.6257 - val_loss: 2015.7048\n",
      "Epoch 451/500\n",
      "22/22 [==============================] - 0s 6ms/step - loss: 245.6257 - val_loss: 2015.7048\n",
      "Epoch 452/500\n",
      "22/22 [==============================] - 0s 6ms/step - loss: 245.6258 - val_loss: 2015.7048\n",
      "Epoch 453/500\n",
      "22/22 [==============================] - 0s 5ms/step - loss: 245.6258 - val_loss: 2015.7048\n",
      "Epoch 454/500\n",
      "22/22 [==============================] - 0s 5ms/step - loss: 245.6258 - val_loss: 2015.7053\n",
      "Epoch 455/500\n",
      "22/22 [==============================] - 0s 6ms/step - loss: 245.6258 - val_loss: 2015.7053\n",
      "Epoch 456/500\n",
      "22/22 [==============================] - 0s 5ms/step - loss: 245.6258 - val_loss: 2015.7067\n",
      "Epoch 457/500\n",
      "22/22 [==============================] - 0s 5ms/step - loss: 245.6259 - val_loss: 2015.7059\n",
      "Epoch 458/500\n",
      "22/22 [==============================] - 0s 5ms/step - loss: 245.6259 - val_loss: 2015.7053\n",
      "Epoch 459/500\n",
      "22/22 [==============================] - 0s 5ms/step - loss: 245.6259 - val_loss: 2015.7052\n",
      "Epoch 460/500\n",
      "22/22 [==============================] - 0s 5ms/step - loss: 245.6259 - val_loss: 2015.7048\n",
      "Epoch 461/500\n",
      "22/22 [==============================] - 0s 5ms/step - loss: 245.6259 - val_loss: 2015.7045\n",
      "Epoch 462/500\n",
      "22/22 [==============================] - 0s 5ms/step - loss: 245.6260 - val_loss: 2015.7042\n",
      "Epoch 463/500\n",
      "22/22 [==============================] - 0s 5ms/step - loss: 245.6260 - val_loss: 2015.7042\n",
      "Epoch 464/500\n",
      "22/22 [==============================] - 0s 5ms/step - loss: 245.6260 - val_loss: 2015.7042\n",
      "Epoch 465/500\n",
      "22/22 [==============================] - 0s 5ms/step - loss: 245.6261 - val_loss: 2015.7045\n",
      "Epoch 466/500\n",
      "22/22 [==============================] - 0s 5ms/step - loss: 245.6261 - val_loss: 2015.7045\n",
      "Epoch 467/500\n",
      "22/22 [==============================] - 0s 6ms/step - loss: 245.6261 - val_loss: 2015.7045\n",
      "Epoch 468/500\n",
      "22/22 [==============================] - 0s 5ms/step - loss: 245.6261 - val_loss: 2015.7042\n",
      "Epoch 469/500\n",
      "22/22 [==============================] - 0s 6ms/step - loss: 245.6261 - val_loss: 2015.7042\n",
      "Epoch 470/500\n",
      "22/22 [==============================] - 0s 5ms/step - loss: 245.6261 - val_loss: 2015.7035\n",
      "Epoch 471/500\n",
      "22/22 [==============================] - 0s 5ms/step - loss: 245.6261 - val_loss: 2015.7034\n",
      "Epoch 472/500\n",
      "22/22 [==============================] - 0s 11ms/step - loss: 245.6261 - val_loss: 2015.7028\n",
      "Epoch 473/500\n",
      "22/22 [==============================] - 0s 6ms/step - loss: 245.6262 - val_loss: 2015.7021\n",
      "Epoch 474/500\n",
      "22/22 [==============================] - 0s 6ms/step - loss: 245.6262 - val_loss: 2015.7013\n",
      "Epoch 475/500\n",
      "22/22 [==============================] - 0s 5ms/step - loss: 245.6263 - val_loss: 2015.7007\n",
      "Epoch 476/500\n",
      "22/22 [==============================] - 0s 6ms/step - loss: 245.6263 - val_loss: 2015.7003\n",
      "Epoch 477/500\n",
      "22/22 [==============================] - 0s 5ms/step - loss: 245.6263 - val_loss: 2015.7000\n",
      "Epoch 478/500\n",
      "22/22 [==============================] - 0s 6ms/step - loss: 245.6263 - val_loss: 2015.6995\n",
      "Epoch 479/500\n",
      "22/22 [==============================] - 0s 5ms/step - loss: 245.6263 - val_loss: 2015.6987\n",
      "Epoch 480/500\n",
      "22/22 [==============================] - 0s 5ms/step - loss: 245.6264 - val_loss: 2015.6978\n",
      "Epoch 481/500\n",
      "22/22 [==============================] - 0s 6ms/step - loss: 245.6264 - val_loss: 2015.6974\n",
      "Epoch 482/500\n",
      "22/22 [==============================] - 0s 5ms/step - loss: 245.6264 - val_loss: 2015.6965\n",
      "Epoch 483/500\n",
      "22/22 [==============================] - 0s 5ms/step - loss: 245.6264 - val_loss: 2015.6958\n",
      "Epoch 484/500\n",
      "22/22 [==============================] - 0s 5ms/step - loss: 245.6264 - val_loss: 2015.6956\n",
      "Epoch 485/500\n",
      "22/22 [==============================] - 0s 5ms/step - loss: 245.6265 - val_loss: 2015.6958\n",
      "Epoch 486/500\n",
      "22/22 [==============================] - 0s 6ms/step - loss: 245.6266 - val_loss: 2015.6965\n",
      "Epoch 487/500\n",
      "22/22 [==============================] - 0s 5ms/step - loss: 245.6266 - val_loss: 2015.6981\n",
      "Epoch 488/500\n",
      "22/22 [==============================] - 0s 5ms/step - loss: 245.6266 - val_loss: 2015.6995\n",
      "Epoch 489/500\n",
      "22/22 [==============================] - 0s 5ms/step - loss: 245.6266 - val_loss: 2015.7006\n",
      "Epoch 490/500\n",
      "22/22 [==============================] - 0s 5ms/step - loss: 245.6266 - val_loss: 2015.7018\n",
      "Epoch 491/500\n",
      "22/22 [==============================] - 0s 6ms/step - loss: 245.6266 - val_loss: 2015.7028\n",
      "Epoch 492/500\n",
      "22/22 [==============================] - 0s 5ms/step - loss: 245.6266 - val_loss: 2015.7031\n",
      "Epoch 493/500\n",
      "22/22 [==============================] - 0s 5ms/step - loss: 245.6266 - val_loss: 2015.7034\n",
      "Epoch 494/500\n",
      "22/22 [==============================] - 0s 11ms/step - loss: 245.6266 - val_loss: 2015.7035\n",
      "Epoch 495/500\n",
      "22/22 [==============================] - 0s 6ms/step - loss: 245.6266 - val_loss: 2015.7039\n",
      "Epoch 496/500\n",
      "22/22 [==============================] - 0s 6ms/step - loss: 245.6267 - val_loss: 2015.7042\n",
      "Epoch 497/500\n",
      "22/22 [==============================] - 0s 6ms/step - loss: 245.6266 - val_loss: 2015.7053\n",
      "Epoch 498/500\n",
      "22/22 [==============================] - 0s 6ms/step - loss: 245.6266 - val_loss: 2015.7059\n",
      "Epoch 499/500\n",
      "22/22 [==============================] - 0s 5ms/step - loss: 245.6266 - val_loss: 2015.7064\n",
      "Epoch 500/500\n",
      "22/22 [==============================] - 0s 5ms/step - loss: 245.6266 - val_loss: 2015.7064\n"
     ]
    }
   ],
   "source": [
    "C0 = tf.Variable(89.3180, name=\"C0\", trainable=True, dtype=tf.float32)\n",
    "K0 = tf.Variable(-0.0010, name=\"K0\", trainable=True, dtype=tf.float32)\n",
    "K1 = tf.Variable(0.0001, name=\"K1\", trainable=True, dtype=tf.float32)\n",
    "a = tf.Variable(0.0000, name=\"a\", trainable=True, dtype=tf.float32)\n",
    "b = tf.Variable(-0.0204, name=\"b\", trainable=True, dtype=tf.float32)\n",
    "c = tf.Variable(2.2194, name=\"c\", trainable=True, dtype=tf.float32)\n",
    "\n",
    "splitr = 0.8\n",
    "\n",
    "\n",
    "def loss_fn(y_true, y_pred):\n",
    "    squared_difference = tf.square(y_true[:, 0] - y_pred[:, 0])\n",
    "    #squared_difference2 = tf.square(y_true[:, 2]-y_pred[:, 2])\n",
    "    #squared_difference1 = tf.square(y_true[:, 1]-y_pred[:, 1])\n",
    "    epsilon = 1\n",
    "    squared_difference3 = tf.square(\n",
    "        y_pred[:, 1] - (\n",
    "            y_pred[:, 0] * (\n",
    "                K0 - K1 * (\n",
    "                    9 * a * tf.math.log((y_pred[:, 0] + epsilon) / C0) / (K0 - K1 * c)**2 +\n",
    "                    4 * b * tf.math.log((y_pred[:, 0] + epsilon) / C0) / (K0 - K1 * c) + c\n",
    "                )\n",
    "            )\n",
    "        )\n",
    "    )\n",
    "    return tf.reduce_mean(squared_difference, axis=-1) + 0.2*tf.reduce_mean(squared_difference3, axis=-1)\n",
    "model = Sequential()\n",
    "model.add(LSTM(100, input_shape=(trainX.shape[1], trainX.shape[2])))\n",
    "model.add(Dense(60))\n",
    "model.compile(loss=loss_fn, optimizer='adam')\n",
    "history = model.fit(trainX[:int(splitr*trainX.shape[0])], trainy[:int(splitr*trainX.shape[0])], epochs=500, batch_size=64, validation_data=(trainX[int(splitr*trainX.shape[0]):trainX.shape[0]], trainy[int(splitr*trainX.shape[0]):trainX.shape[0]]), shuffle=False)"
   ]
  },
  {
   "cell_type": "code",
   "execution_count": 19,
   "metadata": {
    "colab": {
     "base_uri": "https://localhost:8080/"
    },
    "id": "yJL101rPyuoT",
    "outputId": "239ff2b1-c186-423a-d316-939dfdd7c793"
   },
   "outputs": [
    {
     "name": "stdout",
     "output_type": "stream",
     "text": [
      "1/1 [==============================] - 0s 413ms/step\n"
     ]
    }
   ],
   "source": [
    "forecast_without_mc = forecastX\n",
    "yhat_without_mc = model.predict(forecast_without_mc) # Step Ahead Prediction\n",
    "forecast_without_mc = forecast_without_mc.reshape((forecast_without_mc.shape[0], forecast_without_mc.shape[2])) # Historical Input"
   ]
  },
  {
   "cell_type": "code",
   "execution_count": 20,
   "metadata": {
    "colab": {
     "base_uri": "https://localhost:8080/"
    },
    "id": "g9dQELcJ8wbp",
    "outputId": "4dc7671b-b1a8-48d5-8744-a86f98446109"
   },
   "outputs": [
    {
     "data": {
      "text/plain": [
       "(1, 1, 251)"
      ]
     },
     "execution_count": 20,
     "metadata": {},
     "output_type": "execute_result"
    }
   ],
   "source": [
    "forecastX.shape"
   ]
  },
  {
   "cell_type": "code",
   "execution_count": 21,
   "metadata": {
    "colab": {
     "base_uri": "https://localhost:8080/"
    },
    "id": "IS2kyIKG1Kbr",
    "outputId": "f31b3485-8e26-452f-9298-ea8bf7e80ad1"
   },
   "outputs": [
    {
     "data": {
      "text/plain": [
       "(1, 251)"
      ]
     },
     "execution_count": 21,
     "metadata": {},
     "output_type": "execute_result"
    }
   ],
   "source": [
    "forecast_without_mc.shape"
   ]
  },
  {
   "cell_type": "code",
   "execution_count": 22,
   "metadata": {
    "id": "0u6VIzaDyuoT"
   },
   "outputs": [],
   "source": [
    "inv_yhat_without_mc = np.concatenate((forecast_without_mc, yhat_without_mc), axis=1) # Concatenation of predicted values with Historical Data\n",
    "#inv_yhat_without_mc = scaler.inverse_transform(inv_yhat_without_mc) # Transform labels back to original encoding"
   ]
  },
  {
   "cell_type": "code",
   "execution_count": 23,
   "metadata": {
    "colab": {
     "base_uri": "https://localhost:8080/"
    },
    "id": "EUEcw0LX07oU",
    "outputId": "cfc32397-9c37-4b43-d087-584bb31c3dcc"
   },
   "outputs": [
    {
     "data": {
      "text/plain": [
       "(1, 311)"
      ]
     },
     "execution_count": 23,
     "metadata": {},
     "output_type": "execute_result"
    }
   ],
   "source": [
    "inv_yhat_without_mc.shape"
   ]
  },
  {
   "cell_type": "code",
   "execution_count": 24,
   "metadata": {
    "id": "31OWVbSh_305"
   },
   "outputs": [],
   "source": [
    "fforecast = inv_yhat_without_mc[:,-300:]"
   ]
  },
  {
   "cell_type": "code",
   "execution_count": 25,
   "metadata": {},
   "outputs": [
    {
     "data": {
      "text/plain": [
       "(1, 300)"
      ]
     },
     "execution_count": 25,
     "metadata": {},
     "output_type": "execute_result"
    }
   ],
   "source": [
    "fforecast.shape"
   ]
  },
  {
   "cell_type": "code",
   "execution_count": 26,
   "metadata": {
    "id": "BlpGH2FOAiRF"
   },
   "outputs": [],
   "source": [
    "final_forecast = fforecast[:,0:300:3]"
   ]
  },
  {
   "cell_type": "code",
   "execution_count": 27,
   "metadata": {},
   "outputs": [
    {
     "data": {
      "text/plain": [
       "(1, 300)"
      ]
     },
     "execution_count": 27,
     "metadata": {},
     "output_type": "execute_result"
    }
   ],
   "source": [
    "fforecast.shape"
   ]
  },
  {
   "cell_type": "code",
   "execution_count": 28,
   "metadata": {
    "id": "CXkgkj_LBk_t"
   },
   "outputs": [],
   "source": [
    "# code to replace all negative value with 0\n",
    "final_forecast[final_forecast<0] = 0"
   ]
  },
  {
   "cell_type": "code",
   "execution_count": 29,
   "metadata": {},
   "outputs": [
    {
     "data": {
      "text/plain": [
       "array([[7.38918301e+01, 7.33882656e+01, 7.30075934e+01, 7.26269211e+01,\n",
       "        7.86927795e+01, 0.00000000e+00, 2.29425150e-01, 0.00000000e+00,\n",
       "        8.92468990e-01, 3.40304670e-01, 7.85433350e-01, 0.00000000e+00,\n",
       "        0.00000000e+00, 7.18376961e+01, 7.18049230e+01, 7.17721499e+01,\n",
       "        7.17393768e+01, 7.17066036e+01, 7.70233660e+01, 7.68089636e+01,\n",
       "        7.65064426e+01, 7.62039216e+01, 7.59014006e+01, 7.55146125e+01,\n",
       "        7.49599907e+01, 7.44053688e+01, 7.38507470e+01, 2.71232130e-01,\n",
       "        0.00000000e+00, 7.60246499e+01, 7.57221289e+01, 7.51859477e+01,\n",
       "        7.46313259e+01, 7.40767040e+01, 7.35220822e+01, 7.31344841e+01,\n",
       "        7.27538119e+01, 7.23731396e+01, 0.00000000e+00, 1.61724660e-01,\n",
       "        6.12137910e-01, 3.49131940e-01, 6.50809400e-02, 0.00000000e+00,\n",
       "        4.24601470e-01, 1.91040430e-01, 4.31488500e-02, 7.27961088e+01,\n",
       "        7.24154365e+01, 8.33228588e-01, 6.77165926e-01, 7.43642857e+01,\n",
       "        7.38096639e+01, 7.33318697e+01, 7.29511975e+01, 7.25705252e+01,\n",
       "        7.21898529e+01, 7.19432983e+01, 7.18449790e+01, 7.17466597e+01,\n",
       "        0.00000000e+00, 0.00000000e+00, 7.27256139e+01, 7.23449416e+01,\n",
       "        7.19833543e+01, 7.18850350e+01, 7.17867157e+01, 7.71017974e+01,\n",
       "        7.63383754e+01, 7.52064893e+01, 8.65812778e-01, 0.00000000e+00,\n",
       "        0.00000000e+00, 7.12379684e+01, 0.00000000e+00, 4.45122272e-01,\n",
       "        2.75238454e-01, 0.00000000e+00, 0.00000000e+00, 0.00000000e+00,\n",
       "        7.35018997e+01, 0.00000000e+00, 0.00000000e+00, 0.00000000e+00,\n",
       "        0.00000000e+00, 0.00000000e+00, 0.00000000e+00, 8.68930459e-01,\n",
       "        0.00000000e+00, 0.00000000e+00, 4.83581796e-02, 1.02972221e+00,\n",
       "        0.00000000e+00, 0.00000000e+00, 5.80919981e-01, 8.33514750e-01,\n",
       "        5.13072550e-01, 8.80311251e-01, 0.00000000e+00, 4.90560800e-01]])"
      ]
     },
     "execution_count": 29,
     "metadata": {},
     "output_type": "execute_result"
    }
   ],
   "source": [
    "final_forecast"
   ]
  },
  {
   "cell_type": "code",
   "execution_count": 30,
   "metadata": {},
   "outputs": [
    {
     "data": {
      "text/plain": [
       "(1, 100)"
      ]
     },
     "execution_count": 30,
     "metadata": {},
     "output_type": "execute_result"
    }
   ],
   "source": [
    "final_forecast.shape"
   ]
  },
  {
   "cell_type": "code",
   "execution_count": 31,
   "metadata": {},
   "outputs": [
    {
     "data": {
      "text/plain": [
       "(100,)"
      ]
     },
     "execution_count": 31,
     "metadata": {},
     "output_type": "execute_result"
    }
   ],
   "source": [
    "test.shape"
   ]
  },
  {
   "cell_type": "code",
   "execution_count": 32,
   "metadata": {},
   "outputs": [],
   "source": [
    "training_set = np.array(training_set)\n",
    "test = np.array(test)\n",
    "final_forecast = np.array(final_forecast.squeeze(0))"
   ]
  },
  {
   "cell_type": "code",
   "execution_count": 33,
   "metadata": {},
   "outputs": [
    {
     "data": {
      "text/plain": [
       "array([65.07049259, 65.06284075, 65.0551889 , 65.04753706, 65.03988522,\n",
       "       65.03223338, 65.02458154, 65.0169297 , 65.00927786, 65.00162602,\n",
       "       64.99397418, 64.98632233, 64.97867049, 64.97101865, 64.96336681,\n",
       "       64.95571497, 64.94806313, 64.94041129, 64.93275945, 64.9251076 ,\n",
       "       64.91745576, 64.90980392, 64.90215208, 64.89450024, 64.8868484 ,\n",
       "       64.87919656, 64.87154472, 64.86389287, 64.85624103, 64.84858919,\n",
       "       64.84093735, 64.83328551, 64.82563367, 64.81798183, 64.81032999,\n",
       "       64.80267814, 64.7950263 , 64.78737446, 64.77972262, 64.77207078,\n",
       "       64.76441894, 64.7567671 , 64.74911526, 64.74146341, 64.73381157,\n",
       "       64.72615973, 64.71850789, 64.71085605, 64.70320421, 64.69555237,\n",
       "       64.68790053, 64.68024868, 64.67259684, 64.664945  , 64.65729316,\n",
       "       64.64964132, 64.64198948, 64.63433764, 64.6266858 , 64.61903396,\n",
       "       64.61138211, 64.60373027, 64.59607843, 64.58842659, 64.58077475,\n",
       "       64.57312291, 64.56547107, 64.55781923, 64.55016738, 64.54251554,\n",
       "       64.5348637 , 64.52721186, 64.51956002, 64.51190818, 64.50425634,\n",
       "       64.4966045 , 64.48895265, 64.48130081, 64.47364897, 64.46599713,\n",
       "       64.45834529, 64.45069345, 64.44304161, 64.43538977, 64.42773792,\n",
       "       64.42008608, 64.41243424, 64.4047824 , 64.39713056, 64.38947872,\n",
       "       64.38182688, 64.37417504, 64.36652319, 64.35887135, 64.35121951,\n",
       "       64.34356767, 64.33591583, 64.32826399, 64.32061215, 64.31296031])"
      ]
     },
     "execution_count": 33,
     "metadata": {},
     "output_type": "execute_result"
    }
   ],
   "source": [
    "test"
   ]
  },
  {
   "cell_type": "code",
   "execution_count": 34,
   "metadata": {},
   "outputs": [
    {
     "data": {
      "text/plain": [
       "(100,)"
      ]
     },
     "execution_count": 34,
     "metadata": {},
     "output_type": "execute_result"
    }
   ],
   "source": [
    "test.shape"
   ]
  },
  {
   "cell_type": "code",
   "execution_count": 35,
   "metadata": {},
   "outputs": [
    {
     "data": {
      "text/plain": [
       "(100,)"
      ]
     },
     "execution_count": 35,
     "metadata": {},
     "output_type": "execute_result"
    }
   ],
   "source": [
    "final_forecast.shape"
   ]
  },
  {
   "cell_type": "code",
   "execution_count": 36,
   "metadata": {},
   "outputs": [
    {
     "data": {
      "text/plain": [
       "(100,)"
      ]
     },
     "execution_count": 36,
     "metadata": {},
     "output_type": "execute_result"
    }
   ],
   "source": [
    "test.shape"
   ]
  },
  {
   "cell_type": "code",
   "execution_count": 37,
   "metadata": {},
   "outputs": [
    {
     "name": "stdout",
     "output_type": "stream",
     "text": [
      "46.402589861215624\n",
      "37.209658785070154\n"
     ]
    }
   ],
   "source": [
    "import math\n",
    "MSE = np.square(np.subtract(np.array(test),np.array(final_forecast))).mean()   \n",
    "rsme = math.sqrt(MSE)\n",
    "print(rsme)  \n",
    "MAE = np.abs(np.subtract(np.array(test),np.array(final_forecast))).mean()   \n",
    "mae = MAE\n",
    "print(mae)"
   ]
  }
 ],
 "metadata": {
  "colab": {
   "provenance": []
  },
  "kernelspec": {
   "display_name": "Python 3",
   "language": "python",
   "name": "python3"
  },
  "language_info": {
   "codemirror_mode": {
    "name": "ipython",
    "version": 3
   },
   "file_extension": ".py",
   "mimetype": "text/x-python",
   "name": "python",
   "nbconvert_exporter": "python",
   "pygments_lexer": "ipython3",
   "version": "3.9.13"
  }
 },
 "nbformat": 4,
 "nbformat_minor": 0
}
