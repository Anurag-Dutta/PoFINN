{
 "cells": [
  {
   "cell_type": "markdown",
   "metadata": {
    "id": "pCGKeZ2gyuoQ"
   },
   "source": [
    "_Importing Required Libraries_"
   ]
  },
  {
   "cell_type": "code",
   "execution_count": 1,
   "metadata": {
    "colab": {
     "base_uri": "https://localhost:8080/"
    },
    "id": "A-6LN-zXiLcM",
    "outputId": "4de610a4-f8b8-4f49-c6c0-89de299ccedc"
   },
   "outputs": [
    {
     "name": "stdout",
     "output_type": "stream",
     "text": [
      "Requirement already satisfied: hampel in c:\\users\\anurag dutta\\appdata\\local\\packages\\pythonsoftwarefoundation.python.3.9_qbz5n2kfra8p0\\localcache\\local-packages\\python39\\site-packages (0.0.5)\n",
      "Requirement already satisfied: numpy in c:\\users\\anurag dutta\\appdata\\local\\packages\\pythonsoftwarefoundation.python.3.9_qbz5n2kfra8p0\\localcache\\local-packages\\python39\\site-packages (from hampel) (1.26.4)\n",
      "Requirement already satisfied: pandas in c:\\users\\anurag dutta\\appdata\\local\\packages\\pythonsoftwarefoundation.python.3.9_qbz5n2kfra8p0\\localcache\\local-packages\\python39\\site-packages (from hampel) (1.5.2)\n",
      "Requirement already satisfied: python-dateutil>=2.8.1 in c:\\users\\anurag dutta\\appdata\\local\\packages\\pythonsoftwarefoundation.python.3.9_qbz5n2kfra8p0\\localcache\\local-packages\\python39\\site-packages (from pandas->hampel) (2.8.2)\n",
      "Requirement already satisfied: pytz>=2020.1 in c:\\users\\anurag dutta\\appdata\\local\\packages\\pythonsoftwarefoundation.python.3.9_qbz5n2kfra8p0\\localcache\\local-packages\\python39\\site-packages (from pandas->hampel) (2023.3.post1)\n",
      "Requirement already satisfied: six>=1.5 in c:\\users\\anurag dutta\\appdata\\local\\packages\\pythonsoftwarefoundation.python.3.9_qbz5n2kfra8p0\\localcache\\local-packages\\python39\\site-packages (from python-dateutil>=2.8.1->pandas->hampel) (1.16.0)\n",
      "Note: you may need to restart the kernel to use updated packages.\n"
     ]
    },
    {
     "name": "stderr",
     "output_type": "stream",
     "text": [
      "\n",
      "[notice] A new release of pip is available: 24.2 -> 24.3.1\n",
      "[notice] To update, run: C:\\Users\\Anurag Dutta\\AppData\\Local\\Microsoft\\WindowsApps\\PythonSoftwareFoundation.Python.3.9_qbz5n2kfra8p0\\python.exe -m pip install --upgrade pip\n"
     ]
    }
   ],
   "source": [
    "pip install hampel"
   ]
  },
  {
   "cell_type": "code",
   "execution_count": 2,
   "metadata": {
    "id": "By_d9uXpaFvZ"
   },
   "outputs": [],
   "source": [
    "from keras.models import Sequential\n",
    "from keras.layers import Dense\n",
    "from keras.layers import LSTM\n",
    "from keras.layers import Dropout\n",
    "import keras\n",
    "import tensorflow as tf\n",
    "from hampel import hampel\n",
    "import numpy as np\n",
    "import matplotlib.pyplot as plt\n",
    "import pandas as pd\n",
    "from sklearn.preprocessing import MinMaxScaler\n",
    "from sklearn.metrics import mean_squared_error, mean_absolute_error\n",
    "from math import sqrt\n",
    "from matplotlib import pyplot\n",
    "from numpy import array"
   ]
  },
  {
   "cell_type": "markdown",
   "metadata": {
    "id": "JyOjBMFayuoR"
   },
   "source": [
    "## Pretraining"
   ]
  },
  {
   "cell_type": "markdown",
   "metadata": {
    "id": "-5QqIY_GyuoR"
   },
   "source": [
    "The `capa_intermittency.dat` feeds the model with the dynamics of the Capacitor"
   ]
  },
  {
   "cell_type": "code",
   "execution_count": 3,
   "metadata": {
    "id": "9dV4a8yfyuoR"
   },
   "outputs": [],
   "source": [
    "data = np.genfromtxt('capa_intermittency.dat')\n",
    "training_set = pd.DataFrame(data).reset_index(drop=True)\n",
    "training_set = training_set.iloc[:,0]"
   ]
  },
  {
   "cell_type": "markdown",
   "metadata": {
    "id": "i7easoxByuoR"
   },
   "source": [
    "## Computing the Gradient"
   ]
  },
  {
   "cell_type": "markdown",
   "metadata": {
    "id": "5SnyolJTyuoR"
   },
   "source": [
    "_Calculating the value of_ $\\frac{dx}{dt}$"
   ]
  },
  {
   "cell_type": "code",
   "execution_count": 4,
   "metadata": {
    "colab": {
     "base_uri": "https://localhost:8080/"
    },
    "id": "wmIbVfIvyuoR",
    "outputId": "aa4e3136-c854-465d-d2e9-81cfd546e440"
   },
   "outputs": [
    {
     "name": "stdout",
     "output_type": "stream",
     "text": [
      "1.0\n",
      "1        0.000298\n",
      "2        0.000298\n",
      "3        0.000297\n",
      "4        0.000297\n",
      "5        0.000297\n",
      "           ...   \n",
      "9996     0.000018\n",
      "9997     0.000018\n",
      "9998     0.000018\n",
      "9999     0.000018\n",
      "10000    0.000018\n",
      "Name: 0, Length: 10000, dtype: float64\n"
     ]
    }
   ],
   "source": [
    "t_diff = 1\n",
    "print(training_set.max())\n",
    "gradient_t = (training_set.diff()/t_diff).iloc[1:] # dx/dt\n",
    "print(gradient_t)"
   ]
  },
  {
   "cell_type": "markdown",
   "metadata": {
    "id": "_2eVeeoxyuoS"
   },
   "source": [
    "## Loading Datasets"
   ]
  },
  {
   "cell_type": "code",
   "execution_count": 5,
   "metadata": {
    "id": "0J-NKyIEyuoS"
   },
   "outputs": [
    {
     "data": {
      "text/plain": [
       "0       92.600000\n",
       "1       92.387115\n",
       "2       92.174230\n",
       "3       91.961345\n",
       "4       91.748459\n",
       "          ...    \n",
       "1745    68.624697\n",
       "1746    68.622829\n",
       "1747    68.620962\n",
       "1748    68.619094\n",
       "1749    68.617227\n",
       "Name: C7, Length: 1750, dtype: float64"
      ]
     },
     "execution_count": 5,
     "metadata": {},
     "output_type": "execute_result"
    }
   ],
   "source": [
    "data = pd.read_csv(\"c7_interpolated_1650_100.csv\")\n",
    "training_set = data.iloc[:, 1]\n",
    "training_set"
   ]
  },
  {
   "cell_type": "code",
   "execution_count": 6,
   "metadata": {
    "colab": {
     "base_uri": "https://localhost:8080/"
    },
    "id": "-CbNUhJ74UqF",
    "outputId": "20f562d8-8247-49cc-b9c3-00eca5e13e2d"
   },
   "outputs": [
    {
     "data": {
      "text/plain": [
       "0       92.600000\n",
       "1       92.387115\n",
       "2       92.174230\n",
       "3       91.961345\n",
       "4       91.748459\n",
       "          ...    \n",
       "1645     0.000000\n",
       "1646     0.000000\n",
       "1647     0.344058\n",
       "1648     0.765121\n",
       "1649     0.000000\n",
       "Name: C7, Length: 1650, dtype: float64"
      ]
     },
     "execution_count": 6,
     "metadata": {},
     "output_type": "execute_result"
    }
   ],
   "source": [
    "test = training_set.tail(100)\n",
    "test\n",
    "training_set = training_set.head(1650)\n",
    "training_set"
   ]
  },
  {
   "cell_type": "code",
   "execution_count": 7,
   "metadata": {
    "colab": {
     "base_uri": "https://localhost:8080/"
    },
    "id": "X0TwTcq0yuoS",
    "outputId": "37252ed8-d88e-4044-fa7a-922411990b5b"
   },
   "outputs": [
    {
     "name": "stdout",
     "output_type": "stream",
     "text": [
      "0       0.000298\n",
      "1       0.000298\n",
      "2       0.000297\n",
      "3       0.000297\n",
      "4       0.000297\n",
      "          ...   \n",
      "9995    0.000018\n",
      "9996    0.000018\n",
      "9997    0.000018\n",
      "9998    0.000018\n",
      "9999    0.000018\n",
      "Name: 0, Length: 10000, dtype: float64\n"
     ]
    }
   ],
   "source": [
    "training_set = training_set.reset_index(drop=True)\n",
    "gradient_t = gradient_t.reset_index(drop=True)\n",
    "print(gradient_t)"
   ]
  },
  {
   "cell_type": "code",
   "execution_count": 8,
   "metadata": {
    "id": "O2biznZQyuoS"
   },
   "outputs": [],
   "source": [
    "df = pd.concat((training_set, gradient_t), axis=1)\n",
    "df.columns = ['y_t', 'grad_t']"
   ]
  },
  {
   "cell_type": "code",
   "execution_count": 9,
   "metadata": {
    "colab": {
     "base_uri": "https://localhost:8080/",
     "height": 423
    },
    "id": "sk_a5v3tyuoS",
    "outputId": "17563625-e550-45ae-faab-fafa353e44da"
   },
   "outputs": [
    {
     "data": {
      "text/html": [
       "<div>\n",
       "<style scoped>\n",
       "    .dataframe tbody tr th:only-of-type {\n",
       "        vertical-align: middle;\n",
       "    }\n",
       "\n",
       "    .dataframe tbody tr th {\n",
       "        vertical-align: top;\n",
       "    }\n",
       "\n",
       "    .dataframe thead th {\n",
       "        text-align: right;\n",
       "    }\n",
       "</style>\n",
       "<table border=\"1\" class=\"dataframe\">\n",
       "  <thead>\n",
       "    <tr style=\"text-align: right;\">\n",
       "      <th></th>\n",
       "      <th>y_t</th>\n",
       "      <th>grad_t</th>\n",
       "    </tr>\n",
       "  </thead>\n",
       "  <tbody>\n",
       "    <tr>\n",
       "      <th>0</th>\n",
       "      <td>92.600000</td>\n",
       "      <td>0.000298</td>\n",
       "    </tr>\n",
       "    <tr>\n",
       "      <th>1</th>\n",
       "      <td>92.387115</td>\n",
       "      <td>0.000298</td>\n",
       "    </tr>\n",
       "    <tr>\n",
       "      <th>2</th>\n",
       "      <td>92.174230</td>\n",
       "      <td>0.000297</td>\n",
       "    </tr>\n",
       "    <tr>\n",
       "      <th>3</th>\n",
       "      <td>91.961345</td>\n",
       "      <td>0.000297</td>\n",
       "    </tr>\n",
       "    <tr>\n",
       "      <th>4</th>\n",
       "      <td>91.748459</td>\n",
       "      <td>0.000297</td>\n",
       "    </tr>\n",
       "    <tr>\n",
       "      <th>...</th>\n",
       "      <td>...</td>\n",
       "      <td>...</td>\n",
       "    </tr>\n",
       "    <tr>\n",
       "      <th>9995</th>\n",
       "      <td>NaN</td>\n",
       "      <td>0.000018</td>\n",
       "    </tr>\n",
       "    <tr>\n",
       "      <th>9996</th>\n",
       "      <td>NaN</td>\n",
       "      <td>0.000018</td>\n",
       "    </tr>\n",
       "    <tr>\n",
       "      <th>9997</th>\n",
       "      <td>NaN</td>\n",
       "      <td>0.000018</td>\n",
       "    </tr>\n",
       "    <tr>\n",
       "      <th>9998</th>\n",
       "      <td>NaN</td>\n",
       "      <td>0.000018</td>\n",
       "    </tr>\n",
       "    <tr>\n",
       "      <th>9999</th>\n",
       "      <td>NaN</td>\n",
       "      <td>0.000018</td>\n",
       "    </tr>\n",
       "  </tbody>\n",
       "</table>\n",
       "<p>10000 rows × 2 columns</p>\n",
       "</div>"
      ],
      "text/plain": [
       "            y_t    grad_t\n",
       "0     92.600000  0.000298\n",
       "1     92.387115  0.000298\n",
       "2     92.174230  0.000297\n",
       "3     91.961345  0.000297\n",
       "4     91.748459  0.000297\n",
       "...         ...       ...\n",
       "9995        NaN  0.000018\n",
       "9996        NaN  0.000018\n",
       "9997        NaN  0.000018\n",
       "9998        NaN  0.000018\n",
       "9999        NaN  0.000018\n",
       "\n",
       "[10000 rows x 2 columns]"
      ]
     },
     "execution_count": 9,
     "metadata": {},
     "output_type": "execute_result"
    }
   ],
   "source": [
    "df"
   ]
  },
  {
   "cell_type": "markdown",
   "metadata": {
    "id": "-5esyHu5aFvg"
   },
   "source": [
    "## Plot of the External Forcing from Chaotic Differential Equation"
   ]
  },
  {
   "cell_type": "code",
   "execution_count": 10,
   "metadata": {
    "colab": {
     "base_uri": "https://localhost:8080/",
     "height": 447
    },
    "id": "hGnE43tOh-4p",
    "outputId": "fc396503-b624-4fa5-dfbe-f460207405c6"
   },
   "outputs": [
    {
     "data": {
      "text/plain": [
       "<Axes: >"
      ]
     },
     "execution_count": 10,
     "metadata": {},
     "output_type": "execute_result"
    },
    {
     "data": {
      "image/png": "[encoded data removed]",
      "text/plain": [
       "<Figure size 432x288 with 1 Axes>"
      ]
     },
     "metadata": {
      "needs_background": "light"
     },
     "output_type": "display_data"
    }
   ],
   "source": [
    "df.iloc[:, 0].plot()"
   ]
  },
  {
   "cell_type": "code",
   "execution_count": 11,
   "metadata": {
    "colab": {
     "base_uri": "https://localhost:8080/",
     "height": 447
    },
    "id": "ym4xWUUxaFvg",
    "outputId": "ae6a3495-8ce9-437e-ba81-3ed31deedeae"
   },
   "outputs": [
    {
     "name": "stderr",
     "output_type": "stream",
     "text": [
      "C:\\Users\\Anurag Dutta\\AppData\\Local\\Packages\\PythonSoftwareFoundation.Python.3.9_qbz5n2kfra8p0\\LocalCache\\local-packages\\Python39\\site-packages\\pandas\\core\\arraylike.py:402: RuntimeWarning: divide by zero encountered in log\n",
      "  result = getattr(ufunc, method)(*inputs, **kwargs)\n"
     ]
    },
    {
     "data": {
      "text/plain": [
       "<Axes: >"
      ]
     },
     "execution_count": 11,
     "metadata": {},
     "output_type": "execute_result"
    },
    {
     "data": {
      "image/png": "[encoded data removed]",
      "text/plain": [
       "<Figure size 432x288 with 1 Axes>"
      ]
     },
     "metadata": {
      "needs_background": "light"
     },
     "output_type": "display_data"
    }
   ],
   "source": [
    "import numpy as np\n",
    "c0 = 89.3180  # Value for C0\n",
    "K0 = -0.0010  # Value for K0\n",
    "K1 = 0.0001  # Value for K1\n",
    "a = 0.0000    # Value for a\n",
    "b = -0.0204    # Value for b\n",
    "c = 2.2194    # Value for c\n",
    "\n",
    "L = np.minimum(c0, (df.iloc[:, 1] - (df.iloc[:, 0] * (K0 - K1 * (9 * a * np.log(df.iloc[:, 0] / c0) / (K0 - K1 * c)**2 + 4 * b * np.log(df.iloc[:, 0] / c0) / (K0 - K1 * c) + c)))))\n",
    "L.plot()"
   ]
  },
  {
   "cell_type": "markdown",
   "metadata": {
    "id": "9VyEywnwaFvh"
   },
   "source": [
    "## Preprocessing the data into supervised learning"
   ]
  },
  {
   "cell_type": "code",
   "execution_count": 12,
   "metadata": {
    "id": "6V9dXqzdaFvh"
   },
   "outputs": [],
   "source": [
    "# split a sequence into samples\n",
    "def Supervised(data, n_in=1, n_out=1, dropnan=True):\n",
    "    n_vars = 1 if type(data) is list else data.shape[1]\n",
    "    df = pd.DataFrame(data)\n",
    "    cols, names = list(), list()\n",
    "    # input sequence (t-n_in, ... t-1)\n",
    "    for i in range(n_in, 0, -1):\n",
    "        cols.append(df.shift(i))\n",
    "        names += [('var%d(t-%d)' % (j+1, i)) for j in range(n_vars)]\n",
    "    # forecast sequence (t, t+1, ... t+n_out)\n",
    "    for i in range(0, n_out):\n",
    "      cols.append(df.shift(-i))\n",
    "      if i == 0:\n",
    "        names += [('var%d(t)' % (j+1)) for j in range(n_vars)]\n",
    "      else:\n",
    "        names += [('var%d(t+%d)' % (j+1, i)) for j in range(n_vars)]\n",
    "    # put it all together\n",
    "    agg = pd.concat(cols, axis=1)\n",
    "    agg.columns = names\n",
    "    # drop rows with NaN values\n",
    "    if dropnan:\n",
    "       agg.dropna(inplace=True)\n",
    "    return agg"
   ]
  },
  {
   "cell_type": "code",
   "execution_count": 13,
   "metadata": {
    "colab": {
     "base_uri": "https://localhost:8080/"
    },
    "id": "CrzSrT1HnyfH",
    "outputId": "7e75f928-3e47-499d-eac1-51908015ef78"
   },
   "outputs": [
    {
     "name": "stdout",
     "output_type": "stream",
     "text": [
      "     var1(t-350)  var1(t-349)  var1(t-348)  var1(t-347)  var1(t-346)  \\\n",
      "350    92.600000    92.387115    92.174230    91.961345    91.748459   \n",
      "351    92.387115    92.174230    91.961345    91.748459    91.535574   \n",
      "352    92.174230    91.961345    91.748459    91.535574    91.322689   \n",
      "353    91.961345    91.748459    91.535574    91.322689    91.109804   \n",
      "354    91.748459    91.535574    91.322689    91.109804    90.896919   \n",
      "\n",
      "     var1(t-345)  var1(t-344)  var1(t-343)  var1(t-342)  var1(t-341)  ...  \\\n",
      "350    91.535574    91.322689    91.109804    90.896919    90.691597  ...   \n",
      "351    91.322689    91.109804    90.896919    90.691597    90.579552  ...   \n",
      "352    91.109804    90.896919    90.691597    90.579552    90.467507  ...   \n",
      "353    90.896919    90.691597    90.579552    90.467507    90.355462  ...   \n",
      "354    90.691597    90.579552    90.467507    90.355462    90.243417  ...   \n",
      "\n",
      "     var1(t+95)  var2(t+95)  var1(t+96)  var2(t+96)  var1(t+97)  var2(t+97)  \\\n",
      "350   80.261671    0.000263   80.252334    0.000263   80.242997    0.000263   \n",
      "351   80.252334    0.000263   80.242997    0.000263   80.233660    0.000262   \n",
      "352   80.242997    0.000263   80.233660    0.000262   80.224323    0.000262   \n",
      "353   80.233660    0.000262   80.224323    0.000262   80.214986    0.000262   \n",
      "354   80.224323    0.000262   80.214986    0.000262   80.205649    0.000262   \n",
      "\n",
      "     var1(t+98)  var2(t+98)  var1(t+99)  var2(t+99)  \n",
      "350   80.233660    0.000262   80.224323    0.000262  \n",
      "351   80.224323    0.000262   80.214986    0.000262  \n",
      "352   80.214986    0.000262   80.205649    0.000262  \n",
      "353   80.205649    0.000262   80.196312    0.000262  \n",
      "354   80.196312    0.000262   80.186975    0.000262  \n",
      "\n",
      "[5 rows x 551 columns]\n",
      "Index(['var1(t-350)', 'var1(t-349)', 'var1(t-348)', 'var1(t-347)',\n",
      "       'var1(t-346)', 'var1(t-345)', 'var1(t-344)', 'var1(t-343)',\n",
      "       'var1(t-342)', 'var1(t-341)',\n",
      "       ...\n",
      "       'var1(t+95)', 'var2(t+95)', 'var1(t+96)', 'var2(t+96)', 'var1(t+97)',\n",
      "       'var2(t+97)', 'var1(t+98)', 'var2(t+98)', 'var1(t+99)', 'var2(t+99)'],\n",
      "      dtype='object', length=551)\n"
     ]
    }
   ],
   "source": [
    "data = Supervised(df.values, n_in = 350, n_out = 100)\n",
    "\n",
    "\n",
    "cols_to_drop = []\n",
    "for i in range(2, 351):\n",
    "    cols_to_drop.extend([f'var2(t-{i})'])\n",
    "\n",
    "data.drop(cols_to_drop, axis=1, inplace=True)\n",
    "\n",
    "print(data.head())\n",
    "print(data.columns)"
   ]
  },
  {
   "cell_type": "code",
   "execution_count": 14,
   "metadata": {
    "id": "AfPf60oy6Pe4"
   },
   "outputs": [],
   "source": [
    "train = np.array(data[0:len(data)-1])\n",
    "forecast = np.array(data.tail(1))"
   ]
  },
  {
   "cell_type": "code",
   "execution_count": 15,
   "metadata": {
    "id": "WSAafzI37KiT"
   },
   "outputs": [],
   "source": [
    "trainy = train[:,-300:]\n",
    "trainX = train[:,:-300]"
   ]
  },
  {
   "cell_type": "code",
   "execution_count": 16,
   "metadata": {
    "id": "2SrOqVJA7f50"
   },
   "outputs": [],
   "source": [
    "forecasty = forecast[:,-300:]\n",
    "forecastX = forecast[:,:-300]"
   ]
  },
  {
   "cell_type": "code",
   "execution_count": 17,
   "metadata": {
    "colab": {
     "base_uri": "https://localhost:8080/"
    },
    "id": "Qno_k8Nw7saY",
    "outputId": "c4a88db5-d8c6-489f-cdb2-06b24e293cff"
   },
   "outputs": [
    {
     "name": "stdout",
     "output_type": "stream",
     "text": [
      "(1200, 1, 251) (1200, 300) (1, 1, 251)\n"
     ]
    }
   ],
   "source": [
    "trainX = trainX.reshape((trainX.shape[0], 1, trainX.shape[1]))\n",
    "forecastX = forecastX.reshape((forecastX.shape[0], 1, forecastX.shape[1]))\n",
    "print(trainX.shape, trainy.shape, forecastX.shape)"
   ]
  },
  {
   "cell_type": "code",
   "execution_count": 18,
   "metadata": {
    "colab": {
     "base_uri": "https://localhost:8080/"
    },
    "id": "b1Jp2DvNuNFx",
    "outputId": "d0e5b3c4-64f1-438c-eade-8dfeaac8e285"
   },
   "outputs": [
    {
     "name": "stdout",
     "output_type": "stream",
     "text": [
      "Epoch 1/500\n",
      "15/15 [==============================] - 2s 36ms/step - loss: 5759.9795 - val_loss: 4405.3730\n",
      "Epoch 2/500\n",
      "15/15 [==============================] - 0s 5ms/step - loss: 5680.6597 - val_loss: 4366.2915\n",
      "Epoch 3/500\n",
      "15/15 [==============================] - 0s 4ms/step - loss: 5611.4424 - val_loss: 4312.2988\n",
      "Epoch 4/500\n",
      "15/15 [==============================] - 0s 4ms/step - loss: 5557.7349 - val_loss: 4273.1284\n",
      "Epoch 5/500\n",
      "15/15 [==============================] - 0s 5ms/step - loss: 5505.7456 - val_loss: 4234.4141\n",
      "Epoch 6/500\n",
      "15/15 [==============================] - 0s 5ms/step - loss: 5454.3027 - val_loss: 4196.1362\n",
      "Epoch 7/500\n",
      "15/15 [==============================] - 0s 5ms/step - loss: 5397.7866 - val_loss: 4149.7466\n",
      "Epoch 8/500\n",
      "15/15 [==============================] - 0s 5ms/step - loss: 5340.6431 - val_loss: 4109.5430\n",
      "Epoch 9/500\n",
      "15/15 [==============================] - 0s 5ms/step - loss: 5287.3457 - val_loss: 4069.9670\n",
      "Epoch 10/500\n",
      "15/15 [==============================] - 0s 5ms/step - loss: 5234.8442 - val_loss: 4031.0127\n",
      "Epoch 11/500\n",
      "15/15 [==============================] - 0s 5ms/step - loss: 5183.0464 - val_loss: 3992.5869\n",
      "Epoch 12/500\n",
      "15/15 [==============================] - 0s 4ms/step - loss: 5131.8506 - val_loss: 3954.6221\n",
      "Epoch 13/500\n",
      "15/15 [==============================] - 0s 4ms/step - loss: 5081.1870 - val_loss: 3917.0740\n",
      "Epoch 14/500\n",
      "15/15 [==============================] - 0s 4ms/step - loss: 5031.0098 - val_loss: 3879.9148\n",
      "Epoch 15/500\n",
      "15/15 [==============================] - 0s 4ms/step - loss: 4981.2915 - val_loss: 3843.1243\n",
      "Epoch 16/500\n",
      "15/15 [==============================] - 0s 4ms/step - loss: 4932.0083 - val_loss: 3806.6873\n",
      "Epoch 17/500\n",
      "15/15 [==============================] - 0s 4ms/step - loss: 4883.1450 - val_loss: 3770.5923\n",
      "Epoch 18/500\n",
      "15/15 [==============================] - 0s 4ms/step - loss: 4834.6880 - val_loss: 3734.8296\n",
      "Epoch 19/500\n",
      "15/15 [==============================] - 0s 5ms/step - loss: 4786.6270 - val_loss: 3699.3931\n",
      "Epoch 20/500\n",
      "15/15 [==============================] - 0s 6ms/step - loss: 4738.9551 - val_loss: 3664.2744\n",
      "Epoch 21/500\n",
      "15/15 [==============================] - 0s 12ms/step - loss: 4691.6641 - val_loss: 3629.4700\n",
      "Epoch 22/500\n",
      "15/15 [==============================] - 0s 6ms/step - loss: 4644.7476 - val_loss: 3594.9739\n",
      "Epoch 23/500\n",
      "15/15 [==============================] - 0s 9ms/step - loss: 4598.2007 - val_loss: 3560.7825\n",
      "Epoch 24/500\n",
      "15/15 [==============================] - 0s 7ms/step - loss: 4552.0181 - val_loss: 3526.8923\n",
      "Epoch 25/500\n",
      "15/15 [==============================] - 0s 6ms/step - loss: 4506.1953 - val_loss: 3493.2991\n",
      "Epoch 26/500\n",
      "15/15 [==============================] - 0s 5ms/step - loss: 4460.7290 - val_loss: 3459.9995\n",
      "Epoch 27/500\n",
      "15/15 [==============================] - 0s 6ms/step - loss: 4415.6157 - val_loss: 3426.9912\n",
      "Epoch 28/500\n",
      "15/15 [==============================] - 0s 5ms/step - loss: 4370.8506 - val_loss: 3394.2710\n",
      "Epoch 29/500\n",
      "15/15 [==============================] - 0s 5ms/step - loss: 4326.4316 - val_loss: 3361.8369\n",
      "Epoch 30/500\n",
      "15/15 [==============================] - 0s 6ms/step - loss: 4282.3550 - val_loss: 3329.6860\n",
      "Epoch 31/500\n",
      "15/15 [==============================] - 0s 6ms/step - loss: 4238.6196 - val_loss: 3297.8157\n",
      "Epoch 32/500\n",
      "15/15 [==============================] - 0s 4ms/step - loss: 4195.2202 - val_loss: 3266.2239\n",
      "Epoch 33/500\n",
      "15/15 [==============================] - 0s 6ms/step - loss: 4152.1553 - val_loss: 3234.9084\n",
      "Epoch 34/500\n",
      "15/15 [==============================] - 0s 5ms/step - loss: 4109.4219 - val_loss: 3203.8672\n",
      "Epoch 35/500\n",
      "15/15 [==============================] - 0s 5ms/step - loss: 4067.0188 - val_loss: 3173.0984\n",
      "Epoch 36/500\n",
      "15/15 [==============================] - 0s 4ms/step - loss: 4024.9426 - val_loss: 3142.5991\n",
      "Epoch 37/500\n",
      "15/15 [==============================] - 0s 5ms/step - loss: 3983.1912 - val_loss: 3112.3687\n",
      "Epoch 38/500\n",
      "15/15 [==============================] - 0s 5ms/step - loss: 3941.7622 - val_loss: 3082.4053\n",
      "Epoch 39/500\n",
      "15/15 [==============================] - 0s 4ms/step - loss: 3900.6541 - val_loss: 3052.7056\n",
      "Epoch 40/500\n",
      "15/15 [==============================] - 0s 4ms/step - loss: 3859.8647 - val_loss: 3023.2690\n",
      "Epoch 41/500\n",
      "15/15 [==============================] - 0s 4ms/step - loss: 3819.3906 - val_loss: 2994.0930\n",
      "Epoch 42/500\n",
      "15/15 [==============================] - 0s 5ms/step - loss: 3779.2312 - val_loss: 2965.1765\n",
      "Epoch 43/500\n",
      "15/15 [==============================] - 0s 5ms/step - loss: 3739.3838 - val_loss: 2936.5181\n",
      "Epoch 44/500\n",
      "15/15 [==============================] - 0s 4ms/step - loss: 3699.8464 - val_loss: 2908.1147\n",
      "Epoch 45/500\n",
      "15/15 [==============================] - 0s 5ms/step - loss: 3660.6172 - val_loss: 2879.9663\n",
      "Epoch 46/500\n",
      "15/15 [==============================] - 0s 5ms/step - loss: 3621.6948 - val_loss: 2852.0698\n",
      "Epoch 47/500\n",
      "15/15 [==============================] - 0s 6ms/step - loss: 3583.0769 - val_loss: 2824.4253\n",
      "Epoch 48/500\n",
      "15/15 [==============================] - 0s 7ms/step - loss: 3544.7615 - val_loss: 2797.0295\n",
      "Epoch 49/500\n",
      "15/15 [==============================] - 0s 5ms/step - loss: 3506.7466 - val_loss: 2769.8821\n",
      "Epoch 50/500\n",
      "15/15 [==============================] - 0s 4ms/step - loss: 3469.0310 - val_loss: 2742.9812\n",
      "Epoch 51/500\n",
      "15/15 [==============================] - 0s 5ms/step - loss: 3431.6123 - val_loss: 2716.3245\n",
      "Epoch 52/500\n",
      "15/15 [==============================] - 0s 4ms/step - loss: 3394.4888 - val_loss: 2689.9116\n",
      "Epoch 53/500\n",
      "15/15 [==============================] - 0s 5ms/step - loss: 3357.6602 - val_loss: 2663.7400\n",
      "Epoch 54/500\n",
      "15/15 [==============================] - 0s 5ms/step - loss: 3321.1226 - val_loss: 2637.8098\n",
      "Epoch 55/500\n",
      "15/15 [==============================] - 0s 4ms/step - loss: 3284.8750 - val_loss: 2612.1179\n",
      "Epoch 56/500\n",
      "15/15 [==============================] - 0s 4ms/step - loss: 3248.9165 - val_loss: 2586.6638\n",
      "Epoch 57/500\n",
      "15/15 [==============================] - 0s 3ms/step - loss: 3213.2454 - val_loss: 2561.4453\n",
      "Epoch 58/500\n",
      "15/15 [==============================] - 0s 5ms/step - loss: 3177.8591 - val_loss: 2536.4617\n",
      "Epoch 59/500\n",
      "15/15 [==============================] - 0s 5ms/step - loss: 3142.7571 - val_loss: 2511.7114\n",
      "Epoch 60/500\n",
      "15/15 [==============================] - 0s 5ms/step - loss: 3107.9365 - val_loss: 2487.1929\n",
      "Epoch 61/500\n",
      "15/15 [==============================] - 0s 5ms/step - loss: 3073.3962 - val_loss: 2462.9050\n",
      "Epoch 62/500\n",
      "15/15 [==============================] - 0s 4ms/step - loss: 3039.1350 - val_loss: 2438.8464\n",
      "Epoch 63/500\n",
      "15/15 [==============================] - 0s 10ms/step - loss: 3005.1516 - val_loss: 2415.0149\n",
      "Epoch 64/500\n",
      "15/15 [==============================] - 0s 5ms/step - loss: 2971.4431 - val_loss: 2391.4104\n",
      "Epoch 65/500\n",
      "15/15 [==============================] - 0s 4ms/step - loss: 2938.0090 - val_loss: 2368.0305\n",
      "Epoch 66/500\n",
      "15/15 [==============================] - 0s 5ms/step - loss: 2904.8474 - val_loss: 2344.8745\n",
      "Epoch 67/500\n",
      "15/15 [==============================] - 0s 6ms/step - loss: 2871.9568 - val_loss: 2321.9409\n",
      "Epoch 68/500\n",
      "15/15 [==============================] - 0s 5ms/step - loss: 2839.3359 - val_loss: 2299.2280\n",
      "Epoch 69/500\n",
      "15/15 [==============================] - 0s 5ms/step - loss: 2806.9829 - val_loss: 2276.7356\n",
      "Epoch 70/500\n",
      "15/15 [==============================] - 0s 6ms/step - loss: 2774.8970 - val_loss: 2254.4612\n",
      "Epoch 71/500\n",
      "15/15 [==============================] - 0s 7ms/step - loss: 2743.0754 - val_loss: 2232.4041\n",
      "Epoch 72/500\n",
      "15/15 [==============================] - 0s 5ms/step - loss: 2711.5181 - val_loss: 2210.5630\n",
      "Epoch 73/500\n",
      "15/15 [==============================] - 0s 5ms/step - loss: 2680.2222 - val_loss: 2188.9365\n",
      "Epoch 74/500\n",
      "15/15 [==============================] - 0s 3ms/step - loss: 2649.1868 - val_loss: 2167.5234\n",
      "Epoch 75/500\n",
      "15/15 [==============================] - 0s 5ms/step - loss: 2618.4109 - val_loss: 2146.3223\n",
      "Epoch 76/500\n",
      "15/15 [==============================] - 0s 6ms/step - loss: 2587.8923 - val_loss: 2125.3323\n",
      "Epoch 77/500\n",
      "15/15 [==============================] - 0s 6ms/step - loss: 2557.6316 - val_loss: 2104.5518\n",
      "Epoch 78/500\n",
      "15/15 [==============================] - 0s 5ms/step - loss: 2527.6245 - val_loss: 2083.9797\n",
      "Epoch 79/500\n",
      "15/15 [==============================] - 0s 5ms/step - loss: 2497.8713 - val_loss: 2063.6150\n",
      "Epoch 80/500\n",
      "15/15 [==============================] - 0s 5ms/step - loss: 2468.3704 - val_loss: 2043.4565\n",
      "Epoch 81/500\n",
      "15/15 [==============================] - 0s 5ms/step - loss: 2439.1201 - val_loss: 2023.5024\n",
      "Epoch 82/500\n",
      "15/15 [==============================] - 0s 5ms/step - loss: 2410.1187 - val_loss: 2003.7518\n",
      "Epoch 83/500\n",
      "15/15 [==============================] - 0s 5ms/step - loss: 2381.3657 - val_loss: 1984.2035\n",
      "Epoch 84/500\n",
      "15/15 [==============================] - 0s 6ms/step - loss: 2352.8589 - val_loss: 1964.8568\n",
      "Epoch 85/500\n",
      "15/15 [==============================] - 0s 7ms/step - loss: 2324.5977 - val_loss: 1945.7098\n",
      "Epoch 86/500\n",
      "15/15 [==============================] - 0s 5ms/step - loss: 2296.5803 - val_loss: 1926.7615\n",
      "Epoch 87/500\n",
      "15/15 [==============================] - 0s 5ms/step - loss: 2268.8049 - val_loss: 1908.0112\n",
      "Epoch 88/500\n",
      "15/15 [==============================] - 0s 6ms/step - loss: 2241.2712 - val_loss: 1889.4570\n",
      "Epoch 89/500\n",
      "15/15 [==============================] - 0s 4ms/step - loss: 2213.9773 - val_loss: 1871.0981\n",
      "Epoch 90/500\n",
      "15/15 [==============================] - 0s 5ms/step - loss: 2186.9216 - val_loss: 1852.9336\n",
      "Epoch 91/500\n",
      "15/15 [==============================] - 0s 5ms/step - loss: 2160.1033 - val_loss: 1834.9615\n",
      "Epoch 92/500\n",
      "15/15 [==============================] - 0s 5ms/step - loss: 2133.5205 - val_loss: 1817.1816\n",
      "Epoch 93/500\n",
      "15/15 [==============================] - 0s 5ms/step - loss: 2107.1726 - val_loss: 1799.5927\n",
      "Epoch 94/500\n",
      "15/15 [==============================] - 0s 5ms/step - loss: 2081.0581 - val_loss: 1782.1932\n",
      "Epoch 95/500\n",
      "15/15 [==============================] - 0s 5ms/step - loss: 2055.1753 - val_loss: 1764.9816\n",
      "Epoch 96/500\n",
      "15/15 [==============================] - 0s 4ms/step - loss: 2029.5231 - val_loss: 1747.9578\n",
      "Epoch 97/500\n",
      "15/15 [==============================] - 0s 5ms/step - loss: 2004.1001 - val_loss: 1731.1198\n",
      "Epoch 98/500\n",
      "15/15 [==============================] - 0s 5ms/step - loss: 1978.9056 - val_loss: 1714.4669\n",
      "Epoch 99/500\n",
      "15/15 [==============================] - 0s 3ms/step - loss: 1953.9375 - val_loss: 1697.9980\n",
      "Epoch 100/500\n",
      "15/15 [==============================] - 0s 12ms/step - loss: 1929.1953 - val_loss: 1681.7122\n",
      "Epoch 101/500\n",
      "15/15 [==============================] - 0s 5ms/step - loss: 1904.6776 - val_loss: 1665.6077\n",
      "Epoch 102/500\n",
      "15/15 [==============================] - 0s 5ms/step - loss: 1880.3826 - val_loss: 1649.6841\n",
      "Epoch 103/500\n",
      "15/15 [==============================] - 0s 6ms/step - loss: 1856.3098 - val_loss: 1633.9398\n",
      "Epoch 104/500\n",
      "15/15 [==============================] - 0s 5ms/step - loss: 1832.4573 - val_loss: 1618.3741\n",
      "Epoch 105/500\n",
      "15/15 [==============================] - 0s 4ms/step - loss: 1808.8243 - val_loss: 1602.9860\n",
      "Epoch 106/500\n",
      "15/15 [==============================] - 0s 5ms/step - loss: 1785.4094 - val_loss: 1587.7737\n",
      "Epoch 107/500\n",
      "15/15 [==============================] - 0s 5ms/step - loss: 1762.2112 - val_loss: 1572.7368\n",
      "Epoch 108/500\n",
      "15/15 [==============================] - 0s 5ms/step - loss: 1739.2290 - val_loss: 1557.8741\n",
      "Epoch 109/500\n",
      "15/15 [==============================] - 0s 5ms/step - loss: 1716.4613 - val_loss: 1543.1841\n",
      "Epoch 110/500\n",
      "15/15 [==============================] - 0s 4ms/step - loss: 1693.9065 - val_loss: 1528.6666\n",
      "Epoch 111/500\n",
      "15/15 [==============================] - 0s 4ms/step - loss: 1671.5645 - val_loss: 1514.3196\n",
      "Epoch 112/500\n",
      "15/15 [==============================] - 0s 4ms/step - loss: 1649.4325 - val_loss: 1500.1425\n",
      "Epoch 113/500\n",
      "15/15 [==============================] - 0s 5ms/step - loss: 1627.5106 - val_loss: 1486.1345\n",
      "Epoch 114/500\n",
      "15/15 [==============================] - 0s 5ms/step - loss: 1605.7972 - val_loss: 1472.2941\n",
      "Epoch 115/500\n",
      "15/15 [==============================] - 0s 3ms/step - loss: 1584.2909 - val_loss: 1458.6204\n",
      "Epoch 116/500\n",
      "15/15 [==============================] - 0s 5ms/step - loss: 1562.9908 - val_loss: 1445.1127\n",
      "Epoch 117/500\n",
      "15/15 [==============================] - 0s 4ms/step - loss: 1541.8962 - val_loss: 1431.7693\n",
      "Epoch 118/500\n",
      "15/15 [==============================] - 0s 5ms/step - loss: 1521.0051 - val_loss: 1418.5891\n",
      "Epoch 119/500\n",
      "15/15 [==============================] - 0s 5ms/step - loss: 1500.3164 - val_loss: 1405.5718\n",
      "Epoch 120/500\n",
      "15/15 [==============================] - 0s 3ms/step - loss: 1479.8295 - val_loss: 1392.7163\n",
      "Epoch 121/500\n",
      "15/15 [==============================] - 0s 4ms/step - loss: 1459.5425 - val_loss: 1380.0211\n",
      "Epoch 122/500\n",
      "15/15 [==============================] - 0s 5ms/step - loss: 1439.4553 - val_loss: 1367.4855\n",
      "Epoch 123/500\n",
      "15/15 [==============================] - 0s 3ms/step - loss: 1419.5656 - val_loss: 1355.1075\n",
      "Epoch 124/500\n",
      "15/15 [==============================] - 0s 3ms/step - loss: 1399.8724 - val_loss: 1342.8875\n",
      "Epoch 125/500\n",
      "15/15 [==============================] - 0s 5ms/step - loss: 1380.3752 - val_loss: 1330.8242\n",
      "Epoch 126/500\n",
      "15/15 [==============================] - 0s 4ms/step - loss: 1361.0726 - val_loss: 1318.9160\n",
      "Epoch 127/500\n",
      "15/15 [==============================] - 0s 5ms/step - loss: 1341.9635 - val_loss: 1307.1617\n",
      "Epoch 128/500\n",
      "15/15 [==============================] - 0s 5ms/step - loss: 1323.0466 - val_loss: 1295.5614\n",
      "Epoch 129/500\n",
      "15/15 [==============================] - 0s 5ms/step - loss: 1304.3208 - val_loss: 1284.1128\n",
      "Epoch 130/500\n",
      "15/15 [==============================] - 0s 5ms/step - loss: 1285.7852 - val_loss: 1272.8160\n",
      "Epoch 131/500\n",
      "15/15 [==============================] - 0s 5ms/step - loss: 1267.4382 - val_loss: 1261.6693\n",
      "Epoch 132/500\n",
      "15/15 [==============================] - 0s 5ms/step - loss: 1249.2791 - val_loss: 1250.6722\n",
      "Epoch 133/500\n",
      "15/15 [==============================] - 0s 5ms/step - loss: 1231.3068 - val_loss: 1239.8228\n",
      "Epoch 134/500\n",
      "15/15 [==============================] - 0s 3ms/step - loss: 1213.5197 - val_loss: 1229.1213\n",
      "Epoch 135/500\n",
      "15/15 [==============================] - 0s 9ms/step - loss: 1195.9175 - val_loss: 1218.5659\n",
      "Epoch 136/500\n",
      "15/15 [==============================] - 0s 5ms/step - loss: 1178.4983 - val_loss: 1208.1560\n",
      "Epoch 137/500\n",
      "15/15 [==============================] - 0s 5ms/step - loss: 1161.2618 - val_loss: 1197.8904\n",
      "Epoch 138/500\n",
      "15/15 [==============================] - 0s 4ms/step - loss: 1144.2064 - val_loss: 1187.7682\n",
      "Epoch 139/500\n",
      "15/15 [==============================] - 0s 5ms/step - loss: 1127.3307 - val_loss: 1177.7882\n",
      "Epoch 140/500\n",
      "15/15 [==============================] - 0s 4ms/step - loss: 1110.6344 - val_loss: 1167.9497\n",
      "Epoch 141/500\n",
      "15/15 [==============================] - 0s 5ms/step - loss: 1094.1158 - val_loss: 1158.2521\n",
      "Epoch 142/500\n",
      "15/15 [==============================] - 0s 4ms/step - loss: 1077.7742 - val_loss: 1148.6932\n",
      "Epoch 143/500\n",
      "15/15 [==============================] - 0s 5ms/step - loss: 1061.6080 - val_loss: 1139.2732\n",
      "Epoch 144/500\n",
      "15/15 [==============================] - 0s 5ms/step - loss: 1045.6166 - val_loss: 1129.9906\n",
      "Epoch 145/500\n",
      "15/15 [==============================] - 0s 5ms/step - loss: 1029.7987 - val_loss: 1120.8444\n",
      "Epoch 146/500\n",
      "15/15 [==============================] - 0s 5ms/step - loss: 1014.1535 - val_loss: 1111.8336\n",
      "Epoch 147/500\n",
      "15/15 [==============================] - 0s 3ms/step - loss: 998.6793 - val_loss: 1102.9576\n",
      "Epoch 148/500\n",
      "15/15 [==============================] - 0s 3ms/step - loss: 983.3757 - val_loss: 1094.2152\n",
      "Epoch 149/500\n",
      "15/15 [==============================] - 0s 3ms/step - loss: 968.2414 - val_loss: 1085.6052\n",
      "Epoch 150/500\n",
      "15/15 [==============================] - 0s 3ms/step - loss: 953.2753 - val_loss: 1077.1270\n",
      "Epoch 151/500\n",
      "15/15 [==============================] - 0s 5ms/step - loss: 938.4762 - val_loss: 1068.7794\n",
      "Epoch 152/500\n",
      "15/15 [==============================] - 0s 4ms/step - loss: 923.8431 - val_loss: 1060.5616\n",
      "Epoch 153/500\n",
      "15/15 [==============================] - 0s 3ms/step - loss: 909.3751 - val_loss: 1052.4725\n",
      "Epoch 154/500\n",
      "15/15 [==============================] - 0s 4ms/step - loss: 895.0707 - val_loss: 1044.5112\n",
      "Epoch 155/500\n",
      "15/15 [==============================] - 0s 5ms/step - loss: 880.9297 - val_loss: 1036.6769\n",
      "Epoch 156/500\n",
      "15/15 [==============================] - 0s 5ms/step - loss: 866.9500 - val_loss: 1028.9680\n",
      "Epoch 157/500\n",
      "15/15 [==============================] - 0s 4ms/step - loss: 853.1310 - val_loss: 1021.3842\n",
      "Epoch 158/500\n",
      "15/15 [==============================] - 0s 5ms/step - loss: 839.4721 - val_loss: 1013.9246\n",
      "Epoch 159/500\n",
      "15/15 [==============================] - 0s 5ms/step - loss: 825.9718 - val_loss: 1006.5877\n",
      "Epoch 160/500\n",
      "15/15 [==============================] - 0s 5ms/step - loss: 812.6295 - val_loss: 999.3732\n",
      "Epoch 161/500\n",
      "15/15 [==============================] - 0s 5ms/step - loss: 799.4434 - val_loss: 992.2796\n",
      "Epoch 162/500\n",
      "15/15 [==============================] - 0s 5ms/step - loss: 786.4132 - val_loss: 985.3063\n",
      "Epoch 163/500\n",
      "15/15 [==============================] - 0s 4ms/step - loss: 773.5372 - val_loss: 978.4518\n",
      "Epoch 164/500\n",
      "15/15 [==============================] - 0s 4ms/step - loss: 760.8148 - val_loss: 971.7156\n",
      "Epoch 165/500\n",
      "15/15 [==============================] - 0s 5ms/step - loss: 748.2445 - val_loss: 965.0969\n",
      "Epoch 166/500\n",
      "15/15 [==============================] - 0s 5ms/step - loss: 735.8255 - val_loss: 958.5944\n",
      "Epoch 167/500\n",
      "15/15 [==============================] - 0s 5ms/step - loss: 723.5573 - val_loss: 952.2070\n",
      "Epoch 168/500\n",
      "15/15 [==============================] - 0s 4ms/step - loss: 711.4380 - val_loss: 945.9346\n",
      "Epoch 169/500\n",
      "15/15 [==============================] - 0s 5ms/step - loss: 699.4675 - val_loss: 939.7755\n",
      "Epoch 170/500\n",
      "15/15 [==============================] - 0s 5ms/step - loss: 687.6441 - val_loss: 933.7291\n",
      "Epoch 171/500\n",
      "15/15 [==============================] - 0s 5ms/step - loss: 675.9666 - val_loss: 927.7937\n",
      "Epoch 172/500\n",
      "15/15 [==============================] - 0s 17ms/step - loss: 664.4345 - val_loss: 921.9696\n",
      "Epoch 173/500\n",
      "15/15 [==============================] - 0s 5ms/step - loss: 653.0468 - val_loss: 916.2548\n",
      "Epoch 174/500\n",
      "15/15 [==============================] - 0s 4ms/step - loss: 641.8020 - val_loss: 910.6491\n",
      "Epoch 175/500\n",
      "15/15 [==============================] - 0s 5ms/step - loss: 630.6993 - val_loss: 905.1508\n",
      "Epoch 176/500\n",
      "15/15 [==============================] - 0s 6ms/step - loss: 619.7376 - val_loss: 899.7596\n",
      "Epoch 177/500\n",
      "15/15 [==============================] - 0s 6ms/step - loss: 608.9161 - val_loss: 894.4744\n",
      "Epoch 178/500\n",
      "15/15 [==============================] - 0s 5ms/step - loss: 598.2336 - val_loss: 889.2941\n",
      "Epoch 179/500\n",
      "15/15 [==============================] - 0s 6ms/step - loss: 587.6893 - val_loss: 884.2179\n",
      "Epoch 180/500\n",
      "15/15 [==============================] - 0s 5ms/step - loss: 577.2822 - val_loss: 879.2448\n",
      "Epoch 181/500\n",
      "15/15 [==============================] - 0s 5ms/step - loss: 567.0107 - val_loss: 874.3738\n",
      "Epoch 182/500\n",
      "15/15 [==============================] - 0s 6ms/step - loss: 556.8745 - val_loss: 869.6042\n",
      "Epoch 183/500\n",
      "15/15 [==============================] - 0s 5ms/step - loss: 546.8722 - val_loss: 864.9352\n",
      "Epoch 184/500\n",
      "15/15 [==============================] - 0s 5ms/step - loss: 537.0031 - val_loss: 860.3652\n",
      "Epoch 185/500\n",
      "15/15 [==============================] - 0s 5ms/step - loss: 527.2659 - val_loss: 855.8936\n",
      "Epoch 186/500\n",
      "15/15 [==============================] - 0s 6ms/step - loss: 517.6593 - val_loss: 851.5194\n",
      "Epoch 187/500\n",
      "15/15 [==============================] - 0s 5ms/step - loss: 508.1826 - val_loss: 847.2418\n",
      "Epoch 188/500\n",
      "15/15 [==============================] - 0s 7ms/step - loss: 498.8351 - val_loss: 843.0600\n",
      "Epoch 189/500\n",
      "15/15 [==============================] - 0s 6ms/step - loss: 489.6154 - val_loss: 838.9727\n",
      "Epoch 190/500\n",
      "15/15 [==============================] - 0s 5ms/step - loss: 480.5228 - val_loss: 834.9793\n",
      "Epoch 191/500\n",
      "15/15 [==============================] - 0s 5ms/step - loss: 471.5560 - val_loss: 831.0786\n",
      "Epoch 192/500\n",
      "15/15 [==============================] - 0s 5ms/step - loss: 462.7141 - val_loss: 827.2701\n",
      "Epoch 193/500\n",
      "15/15 [==============================] - 0s 5ms/step - loss: 453.9961 - val_loss: 823.5520\n",
      "Epoch 194/500\n",
      "15/15 [==============================] - 0s 5ms/step - loss: 445.4010 - val_loss: 819.9243\n",
      "Epoch 195/500\n",
      "15/15 [==============================] - 0s 5ms/step - loss: 436.9279 - val_loss: 816.3858\n",
      "Epoch 196/500\n",
      "15/15 [==============================] - 0s 5ms/step - loss: 428.5756 - val_loss: 812.9352\n",
      "Epoch 197/500\n",
      "15/15 [==============================] - 0s 3ms/step - loss: 420.3434 - val_loss: 809.5720\n",
      "Epoch 198/500\n",
      "15/15 [==============================] - 0s 3ms/step - loss: 412.2301 - val_loss: 806.2950\n",
      "Epoch 199/500\n",
      "15/15 [==============================] - 0s 5ms/step - loss: 404.2344 - val_loss: 803.1035\n",
      "Epoch 200/500\n",
      "15/15 [==============================] - 0s 5ms/step - loss: 396.3556 - val_loss: 799.9961\n",
      "Epoch 201/500\n",
      "15/15 [==============================] - 0s 6ms/step - loss: 388.5927 - val_loss: 796.9724\n",
      "Epoch 202/500\n",
      "15/15 [==============================] - 0s 7ms/step - loss: 380.9451 - val_loss: 794.0312\n",
      "Epoch 203/500\n",
      "15/15 [==============================] - 0s 6ms/step - loss: 373.4113 - val_loss: 791.1720\n",
      "Epoch 204/500\n",
      "15/15 [==============================] - 0s 6ms/step - loss: 365.9904 - val_loss: 788.3932\n",
      "Epoch 205/500\n",
      "15/15 [==============================] - 0s 7ms/step - loss: 358.6815 - val_loss: 785.6943\n",
      "Epoch 206/500\n",
      "15/15 [==============================] - 0s 14ms/step - loss: 351.4833 - val_loss: 783.0741\n",
      "Epoch 207/500\n",
      "15/15 [==============================] - 0s 7ms/step - loss: 344.3951 - val_loss: 780.5322\n",
      "Epoch 208/500\n",
      "15/15 [==============================] - 0s 6ms/step - loss: 337.4163 - val_loss: 778.0670\n",
      "Epoch 209/500\n",
      "15/15 [==============================] - 0s 7ms/step - loss: 330.5450 - val_loss: 775.6780\n",
      "Epoch 210/500\n",
      "15/15 [==============================] - 0s 4ms/step - loss: 323.7807 - val_loss: 773.3642\n",
      "Epoch 211/500\n",
      "15/15 [==============================] - 0s 7ms/step - loss: 317.1227 - val_loss: 771.1248\n",
      "Epoch 212/500\n",
      "15/15 [==============================] - 0s 6ms/step - loss: 310.5697 - val_loss: 768.9584\n",
      "Epoch 213/500\n",
      "15/15 [==============================] - 0s 5ms/step - loss: 304.1205 - val_loss: 766.8646\n",
      "Epoch 214/500\n",
      "15/15 [==============================] - 0s 6ms/step - loss: 297.7743 - val_loss: 764.8422\n",
      "Epoch 215/500\n",
      "15/15 [==============================] - 0s 4ms/step - loss: 291.5302 - val_loss: 762.8904\n",
      "Epoch 216/500\n",
      "15/15 [==============================] - 0s 6ms/step - loss: 285.3872 - val_loss: 761.0082\n",
      "Epoch 217/500\n",
      "15/15 [==============================] - 0s 6ms/step - loss: 279.3443 - val_loss: 759.1949\n",
      "Epoch 218/500\n",
      "15/15 [==============================] - 0s 5ms/step - loss: 273.4006 - val_loss: 757.4492\n",
      "Epoch 219/500\n",
      "15/15 [==============================] - 0s 6ms/step - loss: 267.5548 - val_loss: 755.7707\n",
      "Epoch 220/500\n",
      "15/15 [==============================] - 0s 6ms/step - loss: 261.8066 - val_loss: 754.1580\n",
      "Epoch 221/500\n",
      "15/15 [==============================] - 0s 5ms/step - loss: 256.1544 - val_loss: 752.6104\n",
      "Epoch 222/500\n",
      "15/15 [==============================] - 0s 6ms/step - loss: 250.5974 - val_loss: 751.1271\n",
      "Epoch 223/500\n",
      "15/15 [==============================] - 0s 5ms/step - loss: 245.1349 - val_loss: 749.7070\n",
      "Epoch 224/500\n",
      "15/15 [==============================] - 0s 6ms/step - loss: 239.7655 - val_loss: 748.3492\n",
      "Epoch 225/500\n",
      "15/15 [==============================] - 0s 6ms/step - loss: 234.4884 - val_loss: 747.0529\n",
      "Epoch 226/500\n",
      "15/15 [==============================] - 0s 6ms/step - loss: 229.3027 - val_loss: 745.8172\n",
      "Epoch 227/500\n",
      "15/15 [==============================] - 0s 6ms/step - loss: 224.2074 - val_loss: 744.6410\n",
      "Epoch 228/500\n",
      "15/15 [==============================] - 0s 6ms/step - loss: 219.2014 - val_loss: 743.5236\n",
      "Epoch 229/500\n",
      "15/15 [==============================] - 0s 5ms/step - loss: 214.2840 - val_loss: 742.4641\n",
      "Epoch 230/500\n",
      "15/15 [==============================] - 0s 5ms/step - loss: 209.4541 - val_loss: 741.4615\n",
      "Epoch 231/500\n",
      "15/15 [==============================] - 0s 5ms/step - loss: 204.7105 - val_loss: 740.5148\n",
      "Epoch 232/500\n",
      "15/15 [==============================] - 0s 6ms/step - loss: 200.0526 - val_loss: 739.6234\n",
      "Epoch 233/500\n",
      "15/15 [==============================] - 0s 4ms/step - loss: 195.4794 - val_loss: 738.7862\n",
      "Epoch 234/500\n",
      "15/15 [==============================] - 0s 5ms/step - loss: 190.9899 - val_loss: 738.0023\n",
      "Epoch 235/500\n",
      "15/15 [==============================] - 0s 5ms/step - loss: 186.5830 - val_loss: 737.2711\n",
      "Epoch 236/500\n",
      "15/15 [==============================] - 0s 6ms/step - loss: 182.2580 - val_loss: 736.5912\n",
      "Epoch 237/500\n",
      "15/15 [==============================] - 0s 14ms/step - loss: 178.0138 - val_loss: 735.9622\n",
      "Epoch 238/500\n",
      "15/15 [==============================] - 0s 7ms/step - loss: 173.8496 - val_loss: 735.3829\n",
      "Epoch 239/500\n",
      "15/15 [==============================] - 0s 5ms/step - loss: 169.7641 - val_loss: 734.8526\n",
      "Epoch 240/500\n",
      "15/15 [==============================] - 0s 6ms/step - loss: 165.7567 - val_loss: 734.3704\n",
      "Epoch 241/500\n",
      "15/15 [==============================] - 0s 6ms/step - loss: 161.8264 - val_loss: 733.9354\n",
      "Epoch 242/500\n",
      "15/15 [==============================] - 0s 5ms/step - loss: 157.9722 - val_loss: 733.5466\n",
      "Epoch 243/500\n",
      "15/15 [==============================] - 0s 6ms/step - loss: 154.1932 - val_loss: 733.2032\n",
      "Epoch 244/500\n",
      "15/15 [==============================] - 0s 6ms/step - loss: 150.4883 - val_loss: 732.9044\n",
      "Epoch 245/500\n",
      "15/15 [==============================] - 0s 6ms/step - loss: 146.8567 - val_loss: 732.6494\n",
      "Epoch 246/500\n",
      "15/15 [==============================] - 0s 6ms/step - loss: 143.2975 - val_loss: 732.4371\n",
      "Epoch 247/500\n",
      "15/15 [==============================] - 0s 6ms/step - loss: 139.8097 - val_loss: 732.2668\n",
      "Epoch 248/500\n",
      "15/15 [==============================] - 0s 6ms/step - loss: 136.3926 - val_loss: 732.1379\n",
      "Epoch 249/500\n",
      "15/15 [==============================] - 0s 4ms/step - loss: 133.0451 - val_loss: 732.0490\n",
      "Epoch 250/500\n",
      "15/15 [==============================] - 0s 5ms/step - loss: 129.7664 - val_loss: 731.9996\n",
      "Epoch 251/500\n",
      "15/15 [==============================] - 0s 4ms/step - loss: 126.5553 - val_loss: 731.9889\n",
      "Epoch 252/500\n",
      "15/15 [==============================] - 0s 5ms/step - loss: 123.4112 - val_loss: 732.0157\n",
      "Epoch 253/500\n",
      "15/15 [==============================] - 0s 5ms/step - loss: 120.3332 - val_loss: 732.0795\n",
      "Epoch 254/500\n",
      "15/15 [==============================] - 0s 5ms/step - loss: 117.3202 - val_loss: 732.1796\n",
      "Epoch 255/500\n",
      "15/15 [==============================] - 0s 5ms/step - loss: 114.3714 - val_loss: 732.3147\n",
      "Epoch 256/500\n",
      "15/15 [==============================] - 0s 5ms/step - loss: 111.4857 - val_loss: 732.4844\n",
      "Epoch 257/500\n",
      "15/15 [==============================] - 0s 5ms/step - loss: 108.6625 - val_loss: 732.6875\n",
      "Epoch 258/500\n",
      "15/15 [==============================] - 0s 5ms/step - loss: 105.9009 - val_loss: 732.9235\n",
      "Epoch 259/500\n",
      "15/15 [==============================] - 0s 5ms/step - loss: 103.1999 - val_loss: 733.1914\n",
      "Epoch 260/500\n",
      "15/15 [==============================] - 0s 5ms/step - loss: 100.5586 - val_loss: 733.4904\n",
      "Epoch 261/500\n",
      "15/15 [==============================] - 0s 3ms/step - loss: 97.9762 - val_loss: 733.8199\n",
      "Epoch 262/500\n",
      "15/15 [==============================] - 0s 5ms/step - loss: 95.4518 - val_loss: 734.1788\n",
      "Epoch 263/500\n",
      "15/15 [==============================] - 0s 5ms/step - loss: 92.9844 - val_loss: 734.5665\n",
      "Epoch 264/500\n",
      "15/15 [==============================] - 0s 5ms/step - loss: 90.5734 - val_loss: 734.9822\n",
      "Epoch 265/500\n",
      "15/15 [==============================] - 0s 5ms/step - loss: 88.2177 - val_loss: 735.4251\n",
      "Epoch 266/500\n",
      "15/15 [==============================] - 0s 12ms/step - loss: 85.9167 - val_loss: 735.8943\n",
      "Epoch 267/500\n",
      "15/15 [==============================] - 0s 5ms/step - loss: 83.6692 - val_loss: 736.3892\n",
      "Epoch 268/500\n",
      "15/15 [==============================] - 0s 5ms/step - loss: 81.4745 - val_loss: 736.9090\n",
      "Epoch 269/500\n",
      "15/15 [==============================] - 0s 5ms/step - loss: 79.3319 - val_loss: 737.4530\n",
      "Epoch 270/500\n",
      "15/15 [==============================] - 0s 5ms/step - loss: 77.2403 - val_loss: 738.0202\n",
      "Epoch 271/500\n",
      "15/15 [==============================] - 0s 8ms/step - loss: 75.1992 - val_loss: 738.6099\n",
      "Epoch 272/500\n",
      "15/15 [==============================] - 0s 5ms/step - loss: 73.2075 - val_loss: 739.2215\n",
      "Epoch 273/500\n",
      "15/15 [==============================] - 0s 5ms/step - loss: 71.2645 - val_loss: 739.8543\n",
      "Epoch 274/500\n",
      "15/15 [==============================] - 0s 5ms/step - loss: 69.3692 - val_loss: 740.5073\n",
      "Epoch 275/500\n",
      "15/15 [==============================] - 0s 4ms/step - loss: 67.5212 - val_loss: 741.1800\n",
      "Epoch 276/500\n",
      "15/15 [==============================] - 0s 4ms/step - loss: 65.7194 - val_loss: 741.8716\n",
      "Epoch 277/500\n",
      "15/15 [==============================] - 0s 5ms/step - loss: 63.9629 - val_loss: 742.5814\n",
      "Epoch 278/500\n",
      "15/15 [==============================] - 0s 6ms/step - loss: 62.2512 - val_loss: 743.3087\n",
      "Epoch 279/500\n",
      "15/15 [==============================] - 0s 5ms/step - loss: 60.5831 - val_loss: 744.0530\n",
      "Epoch 280/500\n",
      "15/15 [==============================] - 0s 5ms/step - loss: 58.9582 - val_loss: 744.8132\n",
      "Epoch 281/500\n",
      "15/15 [==============================] - 0s 4ms/step - loss: 57.3755 - val_loss: 745.5888\n",
      "Epoch 282/500\n",
      "15/15 [==============================] - 0s 4ms/step - loss: 55.8343 - val_loss: 746.3792\n",
      "Epoch 283/500\n",
      "15/15 [==============================] - 0s 6ms/step - loss: 54.3338 - val_loss: 747.1836\n",
      "Epoch 284/500\n",
      "15/15 [==============================] - 0s 4ms/step - loss: 52.8734 - val_loss: 748.0016\n",
      "Epoch 285/500\n",
      "15/15 [==============================] - 0s 3ms/step - loss: 51.4520 - val_loss: 748.8319\n",
      "Epoch 286/500\n",
      "15/15 [==============================] - 0s 5ms/step - loss: 50.0693 - val_loss: 749.6747\n",
      "Epoch 287/500\n",
      "15/15 [==============================] - 0s 4ms/step - loss: 48.7241 - val_loss: 750.5287\n",
      "Epoch 288/500\n",
      "15/15 [==============================] - 0s 5ms/step - loss: 47.4161 - val_loss: 751.3937\n",
      "Epoch 289/500\n",
      "15/15 [==============================] - 0s 5ms/step - loss: 46.1443 - val_loss: 752.2687\n",
      "Epoch 290/500\n",
      "15/15 [==============================] - 0s 4ms/step - loss: 44.9080 - val_loss: 753.1534\n",
      "Epoch 291/500\n",
      "15/15 [==============================] - 0s 5ms/step - loss: 43.7066 - val_loss: 754.0471\n",
      "Epoch 292/500\n",
      "15/15 [==============================] - 0s 5ms/step - loss: 42.5392 - val_loss: 754.9490\n",
      "Epoch 293/500\n",
      "15/15 [==============================] - 0s 11ms/step - loss: 41.4052 - val_loss: 755.8587\n",
      "Epoch 294/500\n",
      "15/15 [==============================] - 0s 6ms/step - loss: 40.3041 - val_loss: 756.7755\n",
      "Epoch 295/500\n",
      "15/15 [==============================] - 0s 5ms/step - loss: 39.2349 - val_loss: 757.6991\n",
      "Epoch 296/500\n",
      "15/15 [==============================] - 0s 5ms/step - loss: 38.1970 - val_loss: 758.6285\n",
      "Epoch 297/500\n",
      "15/15 [==============================] - 0s 5ms/step - loss: 37.1898 - val_loss: 759.5635\n",
      "Epoch 298/500\n",
      "15/15 [==============================] - 0s 5ms/step - loss: 36.2126 - val_loss: 760.5035\n",
      "Epoch 299/500\n",
      "15/15 [==============================] - 0s 6ms/step - loss: 35.2647 - val_loss: 761.4479\n",
      "Epoch 300/500\n",
      "15/15 [==============================] - 0s 6ms/step - loss: 34.3455 - val_loss: 762.3959\n",
      "Epoch 301/500\n",
      "15/15 [==============================] - 0s 6ms/step - loss: 33.4544 - val_loss: 763.3474\n",
      "Epoch 302/500\n",
      "15/15 [==============================] - 0s 5ms/step - loss: 32.5907 - val_loss: 764.3018\n",
      "Epoch 303/500\n",
      "15/15 [==============================] - 0s 6ms/step - loss: 31.7538 - val_loss: 765.2584\n",
      "Epoch 304/500\n",
      "15/15 [==============================] - 0s 6ms/step - loss: 30.9431 - val_loss: 766.2168\n",
      "Epoch 305/500\n",
      "15/15 [==============================] - 0s 6ms/step - loss: 30.1579 - val_loss: 767.1765\n",
      "Epoch 306/500\n",
      "15/15 [==============================] - 0s 5ms/step - loss: 29.3977 - val_loss: 768.1370\n",
      "Epoch 307/500\n",
      "15/15 [==============================] - 0s 6ms/step - loss: 28.6618 - val_loss: 769.0980\n",
      "Epoch 308/500\n",
      "15/15 [==============================] - 0s 9ms/step - loss: 27.9497 - val_loss: 770.0592\n",
      "Epoch 309/500\n",
      "15/15 [==============================] - 0s 7ms/step - loss: 27.2607 - val_loss: 771.0194\n",
      "Epoch 310/500\n",
      "15/15 [==============================] - 0s 6ms/step - loss: 26.5945 - val_loss: 771.9789\n",
      "Epoch 311/500\n",
      "15/15 [==============================] - 0s 6ms/step - loss: 25.9502 - val_loss: 772.9368\n",
      "Epoch 312/500\n",
      "15/15 [==============================] - 0s 5ms/step - loss: 25.3275 - val_loss: 773.8931\n",
      "Epoch 313/500\n",
      "15/15 [==============================] - 0s 5ms/step - loss: 24.7257 - val_loss: 774.8470\n",
      "Epoch 314/500\n",
      "15/15 [==============================] - 0s 4ms/step - loss: 24.1443 - val_loss: 775.7983\n",
      "Epoch 315/500\n",
      "15/15 [==============================] - 0s 6ms/step - loss: 23.5828 - val_loss: 776.7468\n",
      "Epoch 316/500\n",
      "15/15 [==============================] - 0s 6ms/step - loss: 23.0406 - val_loss: 777.6920\n",
      "Epoch 317/500\n",
      "15/15 [==============================] - 0s 5ms/step - loss: 22.5172 - val_loss: 778.6332\n",
      "Epoch 318/500\n",
      "15/15 [==============================] - 0s 5ms/step - loss: 22.0122 - val_loss: 779.5706\n",
      "Epoch 319/500\n",
      "15/15 [==============================] - 0s 5ms/step - loss: 21.5250 - val_loss: 780.5032\n",
      "Epoch 320/500\n",
      "15/15 [==============================] - 0s 5ms/step - loss: 21.0551 - val_loss: 781.4313\n",
      "Epoch 321/500\n",
      "15/15 [==============================] - 0s 6ms/step - loss: 20.6021 - val_loss: 782.3544\n",
      "Epoch 322/500\n",
      "15/15 [==============================] - 0s 5ms/step - loss: 20.1654 - val_loss: 783.2720\n",
      "Epoch 323/500\n",
      "15/15 [==============================] - 0s 13ms/step - loss: 19.7447 - val_loss: 784.1840\n",
      "Epoch 324/500\n",
      "15/15 [==============================] - 0s 6ms/step - loss: 19.3394 - val_loss: 785.0897\n",
      "Epoch 325/500\n",
      "15/15 [==============================] - 0s 5ms/step - loss: 18.9492 - val_loss: 785.9893\n",
      "Epoch 326/500\n",
      "15/15 [==============================] - 0s 6ms/step - loss: 18.5734 - val_loss: 786.8821\n",
      "Epoch 327/500\n",
      "15/15 [==============================] - 0s 5ms/step - loss: 18.2120 - val_loss: 787.7685\n",
      "Epoch 328/500\n",
      "15/15 [==============================] - 0s 4ms/step - loss: 17.8642 - val_loss: 788.6473\n",
      "Epoch 329/500\n",
      "15/15 [==============================] - 0s 5ms/step - loss: 17.5297 - val_loss: 789.5189\n",
      "Epoch 330/500\n",
      "15/15 [==============================] - 0s 4ms/step - loss: 17.2081 - val_loss: 790.3828\n",
      "Epoch 331/500\n",
      "15/15 [==============================] - 0s 5ms/step - loss: 16.8991 - val_loss: 791.2390\n",
      "Epoch 332/500\n",
      "15/15 [==============================] - 0s 5ms/step - loss: 16.6021 - val_loss: 792.0871\n",
      "Epoch 333/500\n",
      "15/15 [==============================] - 0s 6ms/step - loss: 16.3170 - val_loss: 792.9271\n",
      "Epoch 334/500\n",
      "15/15 [==============================] - 0s 8ms/step - loss: 16.0431 - val_loss: 793.7585\n",
      "Epoch 335/500\n",
      "15/15 [==============================] - 0s 6ms/step - loss: 15.7803 - val_loss: 794.5814\n",
      "Epoch 336/500\n",
      "15/15 [==============================] - 0s 6ms/step - loss: 15.5280 - val_loss: 795.3956\n",
      "Epoch 337/500\n",
      "15/15 [==============================] - 0s 5ms/step - loss: 15.2861 - val_loss: 796.2005\n",
      "Epoch 338/500\n",
      "15/15 [==============================] - 0s 6ms/step - loss: 15.0542 - val_loss: 796.9962\n",
      "Epoch 339/500\n",
      "15/15 [==============================] - 0s 5ms/step - loss: 14.8319 - val_loss: 797.7830\n",
      "Epoch 340/500\n",
      "15/15 [==============================] - 0s 5ms/step - loss: 14.6188 - val_loss: 798.5600\n",
      "Epoch 341/500\n",
      "15/15 [==============================] - 0s 5ms/step - loss: 14.4148 - val_loss: 799.3276\n",
      "Epoch 342/500\n",
      "15/15 [==============================] - 0s 5ms/step - loss: 14.2194 - val_loss: 800.0857\n",
      "Epoch 343/500\n",
      "15/15 [==============================] - 0s 6ms/step - loss: 14.0323 - val_loss: 800.8334\n",
      "Epoch 344/500\n",
      "15/15 [==============================] - 0s 5ms/step - loss: 13.8534 - val_loss: 801.5717\n",
      "Epoch 345/500\n",
      "15/15 [==============================] - 0s 5ms/step - loss: 13.6822 - val_loss: 802.2999\n",
      "Epoch 346/500\n",
      "15/15 [==============================] - 0s 5ms/step - loss: 13.5185 - val_loss: 803.0179\n",
      "Epoch 347/500\n",
      "15/15 [==============================] - 0s 5ms/step - loss: 13.3621 - val_loss: 803.7260\n",
      "Epoch 348/500\n",
      "15/15 [==============================] - 0s 6ms/step - loss: 13.2126 - val_loss: 804.4235\n",
      "Epoch 349/500\n",
      "15/15 [==============================] - 0s 5ms/step - loss: 13.0698 - val_loss: 805.1105\n",
      "Epoch 350/500\n",
      "15/15 [==============================] - 0s 6ms/step - loss: 12.9335 - val_loss: 805.7874\n",
      "Epoch 351/500\n",
      "15/15 [==============================] - 0s 7ms/step - loss: 12.8034 - val_loss: 806.4538\n",
      "Epoch 352/500\n",
      "15/15 [==============================] - 0s 6ms/step - loss: 12.6793 - val_loss: 807.1098\n",
      "Epoch 353/500\n",
      "15/15 [==============================] - 0s 5ms/step - loss: 12.5610 - val_loss: 807.7554\n",
      "Epoch 354/500\n",
      "15/15 [==============================] - 0s 6ms/step - loss: 12.4481 - val_loss: 808.3904\n",
      "Epoch 355/500\n",
      "15/15 [==============================] - 0s 12ms/step - loss: 12.3406 - val_loss: 809.0146\n",
      "Epoch 356/500\n",
      "15/15 [==============================] - 0s 5ms/step - loss: 12.2381 - val_loss: 809.6284\n",
      "Epoch 357/500\n",
      "15/15 [==============================] - 0s 6ms/step - loss: 12.1406 - val_loss: 810.2316\n",
      "Epoch 358/500\n",
      "15/15 [==============================] - 0s 6ms/step - loss: 12.0478 - val_loss: 810.8246\n",
      "Epoch 359/500\n",
      "15/15 [==============================] - 0s 4ms/step - loss: 11.9594 - val_loss: 811.4068\n",
      "Epoch 360/500\n",
      "15/15 [==============================] - 0s 4ms/step - loss: 11.8754 - val_loss: 811.9783\n",
      "Epoch 361/500\n",
      "15/15 [==============================] - 0s 5ms/step - loss: 11.7955 - val_loss: 812.5395\n",
      "Epoch 362/500\n",
      "15/15 [==============================] - 0s 4ms/step - loss: 11.7195 - val_loss: 813.0900\n",
      "Epoch 363/500\n",
      "15/15 [==============================] - 0s 5ms/step - loss: 11.6474 - val_loss: 813.6301\n",
      "Epoch 364/500\n",
      "15/15 [==============================] - 0s 5ms/step - loss: 11.5789 - val_loss: 814.1600\n",
      "Epoch 365/500\n",
      "15/15 [==============================] - 0s 5ms/step - loss: 11.5139 - val_loss: 814.6793\n",
      "Epoch 366/500\n",
      "15/15 [==============================] - 0s 5ms/step - loss: 11.4522 - val_loss: 815.1883\n",
      "Epoch 367/500\n",
      "15/15 [==============================] - 0s 5ms/step - loss: 11.3937 - val_loss: 815.6871\n",
      "Epoch 368/500\n",
      "15/15 [==============================] - 0s 5ms/step - loss: 11.3382 - val_loss: 816.1759\n",
      "Epoch 369/500\n",
      "15/15 [==============================] - 0s 5ms/step - loss: 11.2855 - val_loss: 816.6542\n",
      "Epoch 370/500\n",
      "15/15 [==============================] - 0s 3ms/step - loss: 11.2357 - val_loss: 817.1227\n",
      "Epoch 371/500\n",
      "15/15 [==============================] - 0s 4ms/step - loss: 11.1886 - val_loss: 817.5809\n",
      "Epoch 372/500\n",
      "15/15 [==============================] - 0s 5ms/step - loss: 11.1439 - val_loss: 818.0292\n",
      "Epoch 373/500\n",
      "15/15 [==============================] - 0s 4ms/step - loss: 11.1017 - val_loss: 818.4679\n",
      "Epoch 374/500\n",
      "15/15 [==============================] - 0s 4ms/step - loss: 11.0617 - val_loss: 818.8966\n",
      "Epoch 375/500\n",
      "15/15 [==============================] - 0s 4ms/step - loss: 11.0239 - val_loss: 819.3157\n",
      "Epoch 376/500\n",
      "15/15 [==============================] - 0s 5ms/step - loss: 10.9882 - val_loss: 819.7255\n",
      "Epoch 377/500\n",
      "15/15 [==============================] - 0s 4ms/step - loss: 10.9545 - val_loss: 820.1255\n",
      "Epoch 378/500\n",
      "15/15 [==============================] - 0s 3ms/step - loss: 10.9227 - val_loss: 820.5164\n",
      "Epoch 379/500\n",
      "15/15 [==============================] - 0s 5ms/step - loss: 10.8926 - val_loss: 820.8979\n",
      "Epoch 380/500\n",
      "15/15 [==============================] - 0s 5ms/step - loss: 10.8643 - val_loss: 821.2703\n",
      "Epoch 381/500\n",
      "15/15 [==============================] - 0s 5ms/step - loss: 10.8375 - val_loss: 821.6336\n",
      "Epoch 382/500\n",
      "15/15 [==============================] - 0s 5ms/step - loss: 10.8123 - val_loss: 821.9879\n",
      "Epoch 383/500\n",
      "15/15 [==============================] - 0s 5ms/step - loss: 10.7886 - val_loss: 822.3336\n",
      "Epoch 384/500\n",
      "15/15 [==============================] - 0s 5ms/step - loss: 10.7662 - val_loss: 822.6703\n",
      "Epoch 385/500\n",
      "15/15 [==============================] - 0s 5ms/step - loss: 10.7452 - val_loss: 822.9984\n",
      "Epoch 386/500\n",
      "15/15 [==============================] - 0s 4ms/step - loss: 10.7254 - val_loss: 823.3184\n",
      "Epoch 387/500\n",
      "15/15 [==============================] - 0s 4ms/step - loss: 10.7067 - val_loss: 823.6296\n",
      "Epoch 388/500\n",
      "15/15 [==============================] - 0s 5ms/step - loss: 10.6892 - val_loss: 823.9329\n",
      "Epoch 389/500\n",
      "15/15 [==============================] - 0s 4ms/step - loss: 10.6727 - val_loss: 824.2280\n",
      "Epoch 390/500\n",
      "15/15 [==============================] - 0s 9ms/step - loss: 10.6573 - val_loss: 824.5153\n",
      "Epoch 391/500\n",
      "15/15 [==============================] - 0s 4ms/step - loss: 10.6427 - val_loss: 824.7946\n",
      "Epoch 392/500\n",
      "15/15 [==============================] - 0s 3ms/step - loss: 10.6291 - val_loss: 825.0660\n",
      "Epoch 393/500\n",
      "15/15 [==============================] - 0s 4ms/step - loss: 10.6163 - val_loss: 825.3302\n",
      "Epoch 394/500\n",
      "15/15 [==============================] - 0s 5ms/step - loss: 10.6043 - val_loss: 825.5869\n",
      "Epoch 395/500\n",
      "15/15 [==============================] - 0s 5ms/step - loss: 10.5931 - val_loss: 825.8362\n",
      "Epoch 396/500\n",
      "15/15 [==============================] - 0s 5ms/step - loss: 10.5825 - val_loss: 826.0783\n",
      "Epoch 397/500\n",
      "15/15 [==============================] - 0s 5ms/step - loss: 10.5726 - val_loss: 826.3135\n",
      "Epoch 398/500\n",
      "15/15 [==============================] - 0s 4ms/step - loss: 10.5634 - val_loss: 826.5419\n",
      "Epoch 399/500\n",
      "15/15 [==============================] - 0s 5ms/step - loss: 10.5547 - val_loss: 826.7634\n",
      "Epoch 400/500\n",
      "15/15 [==============================] - 0s 4ms/step - loss: 10.5467 - val_loss: 826.9781\n",
      "Epoch 401/500\n",
      "15/15 [==============================] - 0s 5ms/step - loss: 10.5391 - val_loss: 827.1867\n",
      "Epoch 402/500\n",
      "15/15 [==============================] - 0s 5ms/step - loss: 10.5320 - val_loss: 827.3885\n",
      "Epoch 403/500\n",
      "15/15 [==============================] - 0s 3ms/step - loss: 10.5254 - val_loss: 827.5842\n",
      "Epoch 404/500\n",
      "15/15 [==============================] - 0s 4ms/step - loss: 10.5192 - val_loss: 827.7734\n",
      "Epoch 405/500\n",
      "15/15 [==============================] - 0s 5ms/step - loss: 10.5134 - val_loss: 827.9570\n",
      "Epoch 406/500\n",
      "15/15 [==============================] - 0s 5ms/step - loss: 10.5081 - val_loss: 828.1348\n",
      "Epoch 407/500\n",
      "15/15 [==============================] - 0s 5ms/step - loss: 10.5031 - val_loss: 828.3068\n",
      "Epoch 408/500\n",
      "15/15 [==============================] - 0s 4ms/step - loss: 10.4984 - val_loss: 828.4733\n",
      "Epoch 409/500\n",
      "15/15 [==============================] - 0s 4ms/step - loss: 10.4941 - val_loss: 828.6345\n",
      "Epoch 410/500\n",
      "15/15 [==============================] - 0s 5ms/step - loss: 10.4900 - val_loss: 828.7903\n",
      "Epoch 411/500\n",
      "15/15 [==============================] - 0s 4ms/step - loss: 10.4862 - val_loss: 828.9406\n",
      "Epoch 412/500\n",
      "15/15 [==============================] - 0s 4ms/step - loss: 10.4827 - val_loss: 829.0861\n",
      "Epoch 413/500\n",
      "15/15 [==============================] - 0s 4ms/step - loss: 10.4794 - val_loss: 829.2269\n",
      "Epoch 414/500\n",
      "15/15 [==============================] - 0s 5ms/step - loss: 10.4764 - val_loss: 829.3625\n",
      "Epoch 415/500\n",
      "15/15 [==============================] - 0s 5ms/step - loss: 10.4736 - val_loss: 829.4936\n",
      "Epoch 416/500\n",
      "15/15 [==============================] - 0s 5ms/step - loss: 10.4709 - val_loss: 829.6199\n",
      "Epoch 417/500\n",
      "15/15 [==============================] - 0s 12ms/step - loss: 10.4685 - val_loss: 829.7418\n",
      "Epoch 418/500\n",
      "15/15 [==============================] - 0s 5ms/step - loss: 10.4662 - val_loss: 829.8594\n",
      "Epoch 419/500\n",
      "15/15 [==============================] - 0s 5ms/step - loss: 10.4641 - val_loss: 829.9728\n",
      "Epoch 420/500\n",
      "15/15 [==============================] - 0s 5ms/step - loss: 10.4622 - val_loss: 830.0824\n",
      "Epoch 421/500\n",
      "15/15 [==============================] - 0s 4ms/step - loss: 10.4604 - val_loss: 830.1879\n",
      "Epoch 422/500\n",
      "15/15 [==============================] - 0s 4ms/step - loss: 10.4587 - val_loss: 830.2892\n",
      "Epoch 423/500\n",
      "15/15 [==============================] - 0s 4ms/step - loss: 10.4571 - val_loss: 830.3868\n",
      "Epoch 424/500\n",
      "15/15 [==============================] - 0s 5ms/step - loss: 10.4557 - val_loss: 830.4808\n",
      "Epoch 425/500\n",
      "15/15 [==============================] - 0s 4ms/step - loss: 10.4544 - val_loss: 830.5714\n",
      "Epoch 426/500\n",
      "15/15 [==============================] - 0s 4ms/step - loss: 10.4532 - val_loss: 830.6584\n",
      "Epoch 427/500\n",
      "15/15 [==============================] - 0s 5ms/step - loss: 10.4520 - val_loss: 830.7419\n",
      "Epoch 428/500\n",
      "15/15 [==============================] - 0s 5ms/step - loss: 10.4510 - val_loss: 830.8224\n",
      "Epoch 429/500\n",
      "15/15 [==============================] - 0s 4ms/step - loss: 10.4500 - val_loss: 830.8998\n",
      "Epoch 430/500\n",
      "15/15 [==============================] - 0s 4ms/step - loss: 10.4491 - val_loss: 830.9738\n",
      "Epoch 431/500\n",
      "15/15 [==============================] - 0s 5ms/step - loss: 10.4483 - val_loss: 831.0453\n",
      "Epoch 432/500\n",
      "15/15 [==============================] - 0s 5ms/step - loss: 10.4476 - val_loss: 831.1138\n",
      "Epoch 433/500\n",
      "15/15 [==============================] - 0s 3ms/step - loss: 10.4469 - val_loss: 831.1794\n",
      "Epoch 434/500\n",
      "15/15 [==============================] - 0s 5ms/step - loss: 10.4462 - val_loss: 831.2426\n",
      "Epoch 435/500\n",
      "15/15 [==============================] - 0s 5ms/step - loss: 10.4457 - val_loss: 831.3030\n",
      "Epoch 436/500\n",
      "15/15 [==============================] - 0s 4ms/step - loss: 10.4451 - val_loss: 831.3609\n",
      "Epoch 437/500\n",
      "15/15 [==============================] - 0s 4ms/step - loss: 10.4446 - val_loss: 831.4163\n",
      "Epoch 438/500\n",
      "15/15 [==============================] - 0s 4ms/step - loss: 10.4442 - val_loss: 831.4694\n",
      "Epoch 439/500\n",
      "15/15 [==============================] - 0s 5ms/step - loss: 10.4438 - val_loss: 831.5203\n",
      "Epoch 440/500\n",
      "15/15 [==============================] - 0s 4ms/step - loss: 10.4434 - val_loss: 831.5691\n",
      "Epoch 441/500\n",
      "15/15 [==============================] - 0s 4ms/step - loss: 10.4431 - val_loss: 831.6159\n",
      "Epoch 442/500\n",
      "15/15 [==============================] - 0s 4ms/step - loss: 10.4428 - val_loss: 831.6604\n",
      "Epoch 443/500\n",
      "15/15 [==============================] - 0s 4ms/step - loss: 10.4425 - val_loss: 831.7031\n",
      "Epoch 444/500\n",
      "15/15 [==============================] - 0s 4ms/step - loss: 10.4423 - val_loss: 831.7439\n",
      "Epoch 445/500\n",
      "15/15 [==============================] - 0s 11ms/step - loss: 10.4420 - val_loss: 831.7827\n",
      "Epoch 446/500\n",
      "15/15 [==============================] - 0s 5ms/step - loss: 10.4418 - val_loss: 831.8198\n",
      "Epoch 447/500\n",
      "15/15 [==============================] - 0s 5ms/step - loss: 10.4417 - val_loss: 831.8551\n",
      "Epoch 448/500\n",
      "15/15 [==============================] - 0s 5ms/step - loss: 10.4415 - val_loss: 831.8892\n",
      "Epoch 449/500\n",
      "15/15 [==============================] - 0s 5ms/step - loss: 10.4414 - val_loss: 831.9211\n",
      "Epoch 450/500\n",
      "15/15 [==============================] - 0s 4ms/step - loss: 10.4413 - val_loss: 831.9524\n",
      "Epoch 451/500\n",
      "15/15 [==============================] - 0s 4ms/step - loss: 10.4412 - val_loss: 831.9814\n",
      "Epoch 452/500\n",
      "15/15 [==============================] - 0s 4ms/step - loss: 10.4411 - val_loss: 832.0096\n",
      "Epoch 453/500\n",
      "15/15 [==============================] - 0s 5ms/step - loss: 10.4410 - val_loss: 832.0363\n",
      "Epoch 454/500\n",
      "15/15 [==============================] - 0s 4ms/step - loss: 10.4410 - val_loss: 832.0618\n",
      "Epoch 455/500\n",
      "15/15 [==============================] - 0s 3ms/step - loss: 10.4409 - val_loss: 832.0859\n",
      "Epoch 456/500\n",
      "15/15 [==============================] - 0s 5ms/step - loss: 10.4409 - val_loss: 832.1086\n",
      "Epoch 457/500\n",
      "15/15 [==============================] - 0s 5ms/step - loss: 10.4409 - val_loss: 832.1305\n",
      "Epoch 458/500\n",
      "15/15 [==============================] - 0s 5ms/step - loss: 10.4409 - val_loss: 832.1512\n",
      "Epoch 459/500\n",
      "15/15 [==============================] - 0s 4ms/step - loss: 10.4409 - val_loss: 832.1712\n",
      "Epoch 460/500\n",
      "15/15 [==============================] - 0s 4ms/step - loss: 10.4409 - val_loss: 832.1898\n",
      "Epoch 461/500\n",
      "15/15 [==============================] - 0s 4ms/step - loss: 10.4409 - val_loss: 832.2078\n",
      "Epoch 462/500\n",
      "15/15 [==============================] - 0s 5ms/step - loss: 10.4409 - val_loss: 832.2248\n",
      "Epoch 463/500\n",
      "15/15 [==============================] - 0s 3ms/step - loss: 10.4410 - val_loss: 832.2405\n",
      "Epoch 464/500\n",
      "15/15 [==============================] - 0s 4ms/step - loss: 10.4410 - val_loss: 832.2560\n",
      "Epoch 465/500\n",
      "15/15 [==============================] - 0s 4ms/step - loss: 10.4410 - val_loss: 832.2699\n",
      "Epoch 466/500\n",
      "15/15 [==============================] - 0s 4ms/step - loss: 10.4411 - val_loss: 832.2836\n",
      "Epoch 467/500\n",
      "15/15 [==============================] - 0s 5ms/step - loss: 10.4412 - val_loss: 832.2966\n",
      "Epoch 468/500\n",
      "15/15 [==============================] - 0s 5ms/step - loss: 10.4412 - val_loss: 832.3085\n",
      "Epoch 469/500\n",
      "15/15 [==============================] - 0s 4ms/step - loss: 10.4413 - val_loss: 832.3202\n",
      "Epoch 470/500\n",
      "15/15 [==============================] - 0s 4ms/step - loss: 10.4414 - val_loss: 832.3312\n",
      "Epoch 471/500\n",
      "15/15 [==============================] - 0s 4ms/step - loss: 10.4415 - val_loss: 832.3414\n",
      "Epoch 472/500\n",
      "15/15 [==============================] - 0s 5ms/step - loss: 10.4415 - val_loss: 832.3512\n",
      "Epoch 473/500\n",
      "15/15 [==============================] - 0s 4ms/step - loss: 10.4416 - val_loss: 832.3602\n",
      "Epoch 474/500\n",
      "15/15 [==============================] - 0s 3ms/step - loss: 10.4417 - val_loss: 832.3688\n",
      "Epoch 475/500\n",
      "15/15 [==============================] - 0s 4ms/step - loss: 10.4418 - val_loss: 832.3770\n",
      "Epoch 476/500\n",
      "15/15 [==============================] - 0s 4ms/step - loss: 10.4419 - val_loss: 832.3845\n",
      "Epoch 477/500\n",
      "15/15 [==============================] - 0s 12ms/step - loss: 10.4420 - val_loss: 832.3918\n",
      "Epoch 478/500\n",
      "15/15 [==============================] - 0s 5ms/step - loss: 10.4421 - val_loss: 832.3985\n",
      "Epoch 479/500\n",
      "15/15 [==============================] - 0s 6ms/step - loss: 10.4422 - val_loss: 832.4051\n",
      "Epoch 480/500\n",
      "15/15 [==============================] - 0s 4ms/step - loss: 10.4423 - val_loss: 832.4112\n",
      "Epoch 481/500\n",
      "15/15 [==============================] - 0s 4ms/step - loss: 10.4424 - val_loss: 832.4167\n",
      "Epoch 482/500\n",
      "15/15 [==============================] - 0s 5ms/step - loss: 10.4426 - val_loss: 832.4220\n",
      "Epoch 483/500\n",
      "15/15 [==============================] - 0s 4ms/step - loss: 10.4427 - val_loss: 832.4273\n",
      "Epoch 484/500\n",
      "15/15 [==============================] - 0s 4ms/step - loss: 10.4428 - val_loss: 832.4318\n",
      "Epoch 485/500\n",
      "15/15 [==============================] - 0s 4ms/step - loss: 10.4429 - val_loss: 832.4363\n",
      "Epoch 486/500\n",
      "15/15 [==============================] - 0s 4ms/step - loss: 10.4430 - val_loss: 832.4401\n",
      "Epoch 487/500\n",
      "15/15 [==============================] - 0s 5ms/step - loss: 10.4432 - val_loss: 832.4442\n",
      "Epoch 488/500\n",
      "15/15 [==============================] - 0s 5ms/step - loss: 10.4433 - val_loss: 832.4475\n",
      "Epoch 489/500\n",
      "15/15 [==============================] - 0s 4ms/step - loss: 10.4434 - val_loss: 832.4509\n",
      "Epoch 490/500\n",
      "15/15 [==============================] - 0s 5ms/step - loss: 10.4436 - val_loss: 832.4542\n",
      "Epoch 491/500\n",
      "15/15 [==============================] - 0s 4ms/step - loss: 10.4437 - val_loss: 832.4571\n",
      "Epoch 492/500\n",
      "15/15 [==============================] - 0s 5ms/step - loss: 10.4438 - val_loss: 832.4597\n",
      "Epoch 493/500\n",
      "15/15 [==============================] - 0s 4ms/step - loss: 10.4439 - val_loss: 832.4621\n",
      "Epoch 494/500\n",
      "15/15 [==============================] - 0s 4ms/step - loss: 10.4441 - val_loss: 832.4645\n",
      "Epoch 495/500\n",
      "15/15 [==============================] - 0s 5ms/step - loss: 10.4442 - val_loss: 832.4668\n",
      "Epoch 496/500\n",
      "15/15 [==============================] - 0s 5ms/step - loss: 10.4443 - val_loss: 832.4687\n",
      "Epoch 497/500\n",
      "15/15 [==============================] - 0s 4ms/step - loss: 10.4445 - val_loss: 832.4706\n",
      "Epoch 498/500\n",
      "15/15 [==============================] - 0s 4ms/step - loss: 10.4446 - val_loss: 832.4720\n",
      "Epoch 499/500\n",
      "15/15 [==============================] - 0s 4ms/step - loss: 10.4448 - val_loss: 832.4739\n",
      "Epoch 500/500\n",
      "15/15 [==============================] - 0s 4ms/step - loss: 10.4449 - val_loss: 832.4750\n"
     ]
    }
   ],
   "source": [
    "C0 = tf.Variable(89.3180, name=\"C0\", trainable=True, dtype=tf.float32)\n",
    "K0 = tf.Variable(-0.0010, name=\"K0\", trainable=True, dtype=tf.float32)\n",
    "K1 = tf.Variable(0.0001, name=\"K1\", trainable=True, dtype=tf.float32)\n",
    "a = tf.Variable(0.0000, name=\"a\", trainable=True, dtype=tf.float32)\n",
    "b = tf.Variable(-0.0204, name=\"b\", trainable=True, dtype=tf.float32)\n",
    "c = tf.Variable(2.2194, name=\"c\", trainable=True, dtype=tf.float32)\n",
    "\n",
    "splitr = 0.8\n",
    "\n",
    "\n",
    "def loss_fn(y_true, y_pred):\n",
    "    squared_difference = tf.square(y_true[:, 0] - y_pred[:, 0])\n",
    "    #squared_difference2 = tf.square(y_true[:, 2]-y_pred[:, 2])\n",
    "    #squared_difference1 = tf.square(y_true[:, 1]-y_pred[:, 1])\n",
    "    epsilon = 1\n",
    "    squared_difference3 = tf.square(\n",
    "        y_pred[:, 1] - (\n",
    "            y_pred[:, 0] * (\n",
    "                K0 - K1 * (\n",
    "                    9 * a * tf.math.log((y_pred[:, 0] + epsilon) / C0) / (K0 - K1 * c)**2 +\n",
    "                    4 * b * tf.math.log((y_pred[:, 0] + epsilon) / C0) / (K0 - K1 * c) + c\n",
    "                )\n",
    "            )\n",
    "        )\n",
    "    )\n",
    "    return tf.reduce_mean(squared_difference, axis=-1) + 0.2*tf.reduce_mean(squared_difference3, axis=-1)\n",
    "model = Sequential()\n",
    "model.add(LSTM(100, input_shape=(trainX.shape[1], trainX.shape[2])))\n",
    "model.add(Dense(60))\n",
    "model.compile(loss=loss_fn, optimizer='adam')\n",
    "history = model.fit(trainX[:int(splitr*trainX.shape[0])], trainy[:int(splitr*trainX.shape[0])], epochs=500, batch_size=64, validation_data=(trainX[int(splitr*trainX.shape[0]):trainX.shape[0]], trainy[int(splitr*trainX.shape[0]):trainX.shape[0]]), shuffle=False)"
   ]
  },
  {
   "cell_type": "code",
   "execution_count": 19,
   "metadata": {
    "colab": {
     "base_uri": "https://localhost:8080/"
    },
    "id": "yJL101rPyuoT",
    "outputId": "239ff2b1-c186-423a-d316-939dfdd7c793"
   },
   "outputs": [
    {
     "name": "stdout",
     "output_type": "stream",
     "text": [
      "1/1 [==============================] - 0s 478ms/step\n"
     ]
    }
   ],
   "source": [
    "forecast_without_mc = forecastX\n",
    "yhat_without_mc = model.predict(forecast_without_mc) # Step Ahead Prediction\n",
    "forecast_without_mc = forecast_without_mc.reshape((forecast_without_mc.shape[0], forecast_without_mc.shape[2])) # Historical Input"
   ]
  },
  {
   "cell_type": "code",
   "execution_count": 20,
   "metadata": {
    "colab": {
     "base_uri": "https://localhost:8080/"
    },
    "id": "g9dQELcJ8wbp",
    "outputId": "4dc7671b-b1a8-48d5-8744-a86f98446109"
   },
   "outputs": [
    {
     "data": {
      "text/plain": [
       "(1, 1, 251)"
      ]
     },
     "execution_count": 20,
     "metadata": {},
     "output_type": "execute_result"
    }
   ],
   "source": [
    "forecastX.shape"
   ]
  },
  {
   "cell_type": "code",
   "execution_count": 21,
   "metadata": {
    "colab": {
     "base_uri": "https://localhost:8080/"
    },
    "id": "IS2kyIKG1Kbr",
    "outputId": "f31b3485-8e26-452f-9298-ea8bf7e80ad1"
   },
   "outputs": [
    {
     "data": {
      "text/plain": [
       "(1, 251)"
      ]
     },
     "execution_count": 21,
     "metadata": {},
     "output_type": "execute_result"
    }
   ],
   "source": [
    "forecast_without_mc.shape"
   ]
  },
  {
   "cell_type": "code",
   "execution_count": 22,
   "metadata": {
    "id": "0u6VIzaDyuoT"
   },
   "outputs": [],
   "source": [
    "inv_yhat_without_mc = np.concatenate((forecast_without_mc, yhat_without_mc), axis=1) # Concatenation of predicted values with Historical Data\n",
    "#inv_yhat_without_mc = scaler.inverse_transform(inv_yhat_without_mc) # Transform labels back to original encoding"
   ]
  },
  {
   "cell_type": "code",
   "execution_count": 23,
   "metadata": {
    "colab": {
     "base_uri": "https://localhost:8080/"
    },
    "id": "EUEcw0LX07oU",
    "outputId": "cfc32397-9c37-4b43-d087-584bb31c3dcc"
   },
   "outputs": [
    {
     "data": {
      "text/plain": [
       "(1, 311)"
      ]
     },
     "execution_count": 23,
     "metadata": {},
     "output_type": "execute_result"
    }
   ],
   "source": [
    "inv_yhat_without_mc.shape"
   ]
  },
  {
   "cell_type": "code",
   "execution_count": 24,
   "metadata": {
    "id": "31OWVbSh_305"
   },
   "outputs": [],
   "source": [
    "fforecast = inv_yhat_without_mc[:,-300:]"
   ]
  },
  {
   "cell_type": "code",
   "execution_count": 25,
   "metadata": {},
   "outputs": [
    {
     "data": {
      "text/plain": [
       "(1, 300)"
      ]
     },
     "execution_count": 25,
     "metadata": {},
     "output_type": "execute_result"
    }
   ],
   "source": [
    "fforecast.shape"
   ]
  },
  {
   "cell_type": "code",
   "execution_count": 26,
   "metadata": {
    "id": "BlpGH2FOAiRF"
   },
   "outputs": [],
   "source": [
    "final_forecast = fforecast[:,0:300:3]"
   ]
  },
  {
   "cell_type": "code",
   "execution_count": 27,
   "metadata": {},
   "outputs": [
    {
     "data": {
      "text/plain": [
       "(1, 300)"
      ]
     },
     "execution_count": 27,
     "metadata": {},
     "output_type": "execute_result"
    }
   ],
   "source": [
    "fforecast.shape"
   ]
  },
  {
   "cell_type": "code",
   "execution_count": 28,
   "metadata": {
    "id": "CXkgkj_LBk_t"
   },
   "outputs": [],
   "source": [
    "# code to replace all negative value with 0\n",
    "final_forecast[final_forecast<0] = 0"
   ]
  },
  {
   "cell_type": "code",
   "execution_count": 29,
   "metadata": {},
   "outputs": [
    {
     "data": {
      "text/plain": [
       "array([[7.18376961e+01, 7.18267717e+01, 7.18158473e+01, 7.18049230e+01,\n",
       "        7.17939986e+01, 7.17830742e+01, 7.17721499e+01, 7.17612255e+01,\n",
       "        7.17503011e+01, 7.17393768e+01, 7.17284524e+01, 7.17175280e+01,\n",
       "        7.17066036e+01, 7.71410131e+01, 7.70821895e+01, 7.70233660e+01,\n",
       "        7.69645425e+01, 7.69057189e+01, 7.68089636e+01, 7.67081232e+01,\n",
       "        7.66072829e+01, 7.65064426e+01, 7.64056022e+01, 7.63047619e+01,\n",
       "        7.62039216e+01, 7.61030812e+01, 7.60022409e+01, 7.59014006e+01,\n",
       "        7.58005602e+01, 7.56994865e+01, 7.55146125e+01, 7.53297386e+01,\n",
       "        7.51448646e+01, 7.49599907e+01, 7.47751167e+01, 7.45902428e+01,\n",
       "        7.44053688e+01, 7.42204949e+01, 7.40356209e+01, 7.38507470e+01,\n",
       "        5.74235499e-01, 0.00000000e+00, 2.71232128e-01, 0.00000000e+00,\n",
       "        5.77498794e-01, 0.00000000e+00, 4.09462452e-01, 7.61254902e+01,\n",
       "        7.60246499e+01, 7.59238095e+01, 7.58229692e+01, 7.57221289e+01,\n",
       "        7.55556956e+01, 7.53708217e+01, 7.51859477e+01, 7.50010738e+01,\n",
       "        7.48161998e+01, 7.46313259e+01, 7.44464519e+01, 7.42615780e+01,\n",
       "        7.40767040e+01, 7.38918301e+01, 7.37069561e+01, 7.35220822e+01,\n",
       "        7.33882656e+01, 7.32613749e+01, 7.31344841e+01, 7.30075934e+01,\n",
       "        7.28807026e+01, 7.27538119e+01, 7.26269211e+01, 7.25000304e+01,\n",
       "        7.23731396e+01, 7.86927795e+01, 9.90242898e-01, 0.00000000e+00,\n",
       "        0.00000000e+00, 3.66189450e-01, 1.61724657e-01, 2.29425147e-01,\n",
       "        5.78348122e+01, 6.12137914e-01, 6.58183396e-01, 0.00000000e+00,\n",
       "        3.49131942e-01, 0.00000000e+00, 5.57227969e-01, 6.50809407e-02,\n",
       "        0.00000000e+00, 3.87845516e-01, 0.00000000e+00, 0.00000000e+00,\n",
       "        0.00000000e+00, 4.24601465e-01, 1.56603307e-01, 0.00000000e+00,\n",
       "        1.91040426e-01, 0.00000000e+00, 0.00000000e+00, 4.31488492e-02]])"
      ]
     },
     "execution_count": 29,
     "metadata": {},
     "output_type": "execute_result"
    }
   ],
   "source": [
    "final_forecast"
   ]
  },
  {
   "cell_type": "code",
   "execution_count": 30,
   "metadata": {},
   "outputs": [
    {
     "data": {
      "text/plain": [
       "(1, 100)"
      ]
     },
     "execution_count": 30,
     "metadata": {},
     "output_type": "execute_result"
    }
   ],
   "source": [
    "final_forecast.shape"
   ]
  },
  {
   "cell_type": "code",
   "execution_count": 31,
   "metadata": {},
   "outputs": [
    {
     "data": {
      "text/plain": [
       "(100,)"
      ]
     },
     "execution_count": 31,
     "metadata": {},
     "output_type": "execute_result"
    }
   ],
   "source": [
    "test.shape"
   ]
  },
  {
   "cell_type": "code",
   "execution_count": 32,
   "metadata": {},
   "outputs": [],
   "source": [
    "training_set = np.array(training_set)\n",
    "test = np.array(test)\n",
    "final_forecast = np.array(final_forecast.squeeze(0))"
   ]
  },
  {
   "cell_type": "code",
   "execution_count": 33,
   "metadata": {},
   "outputs": [
    {
     "data": {
      "text/plain": [
       "array([68.75105042, 68.75011671, 68.74918301, 68.7482493 , 68.74731559,\n",
       "       68.74638189, 68.74544818, 68.74451447, 68.74358077, 68.74264706,\n",
       "       68.74171335, 68.74077965, 68.73984594, 68.73891223, 68.73797852,\n",
       "       68.73704482, 68.73611111, 68.7351774 , 68.7342437 , 68.73330999,\n",
       "       68.73237628, 68.73144258, 68.73050887, 68.72957516, 68.72864146,\n",
       "       68.72770775, 68.72677404, 68.72584034, 68.72490663, 68.72397292,\n",
       "       68.72303922, 68.72210551, 68.7211718 , 68.7202381 , 68.71930439,\n",
       "       68.71837068, 68.71743697, 68.71650327, 68.71556956, 68.71463585,\n",
       "       68.71370215, 68.71276844, 68.71183473, 68.71090103, 68.70996732,\n",
       "       68.70903361, 68.70809991, 68.7071662 , 68.70623249, 68.70529879,\n",
       "       68.70436508, 68.70343137, 68.70249767, 68.70156396, 68.70063025,\n",
       "       68.69939309, 68.69752568, 68.69565826, 68.69379085, 68.69192344,\n",
       "       68.69005602, 68.68818861, 68.6863212 , 68.68445378, 68.68258637,\n",
       "       68.68071895, 68.67885154, 68.67698413, 68.67511671, 68.6732493 ,\n",
       "       68.67138189, 68.66951447, 68.66764706, 68.66577965, 68.66391223,\n",
       "       68.66204482, 68.6601774 , 68.65830999, 68.65644258, 68.65457516,\n",
       "       68.65270775, 68.65084034, 68.64897292, 68.64710551, 68.6452381 ,\n",
       "       68.64337068, 68.64150327, 68.63963585, 68.63776844, 68.63590103,\n",
       "       68.63403361, 68.6321662 , 68.63029879, 68.62843137, 68.62656396,\n",
       "       68.62469655, 68.62282913, 68.62096172, 68.6190943 , 68.61722689])"
      ]
     },
     "execution_count": 33,
     "metadata": {},
     "output_type": "execute_result"
    }
   ],
   "source": [
    "test"
   ]
  },
  {
   "cell_type": "code",
   "execution_count": 34,
   "metadata": {},
   "outputs": [
    {
     "data": {
      "text/plain": [
       "(100,)"
      ]
     },
     "execution_count": 34,
     "metadata": {},
     "output_type": "execute_result"
    }
   ],
   "source": [
    "test.shape"
   ]
  },
  {
   "cell_type": "code",
   "execution_count": 35,
   "metadata": {},
   "outputs": [
    {
     "data": {
      "text/plain": [
       "(100,)"
      ]
     },
     "execution_count": 35,
     "metadata": {},
     "output_type": "execute_result"
    }
   ],
   "source": [
    "final_forecast.shape"
   ]
  },
  {
   "cell_type": "code",
   "execution_count": 36,
   "metadata": {},
   "outputs": [
    {
     "data": {
      "text/plain": [
       "(100,)"
      ]
     },
     "execution_count": 36,
     "metadata": {},
     "output_type": "execute_result"
    }
   ],
   "source": [
    "test.shape"
   ]
  },
  {
   "cell_type": "code",
   "execution_count": 37,
   "metadata": {},
   "outputs": [
    {
     "name": "stdout",
     "output_type": "stream",
     "text": [
      "39.042128263187195\n",
      "25.855954992455867\n"
     ]
    }
   ],
   "source": [
    "import math\n",
    "MSE = np.square(np.subtract(np.array(test),np.array(final_forecast))).mean()   \n",
    "rsme = math.sqrt(MSE)\n",
    "print(rsme)  \n",
    "MAE = np.abs(np.subtract(np.array(test),np.array(final_forecast))).mean()   \n",
    "mae = MAE\n",
    "print(mae)"
   ]
  }
 ],
 "metadata": {
  "colab": {
   "provenance": []
  },
  "kernelspec": {
   "display_name": "Python 3",
   "language": "python",
   "name": "python3"
  },
  "language_info": {
   "codemirror_mode": {
    "name": "ipython",
    "version": 3
   },
   "file_extension": ".py",
   "mimetype": "text/x-python",
   "name": "python",
   "nbconvert_exporter": "python",
   "pygments_lexer": "ipython3",
   "version": "3.9.13"
  }
 },
 "nbformat": 4,
 "nbformat_minor": 0
}
