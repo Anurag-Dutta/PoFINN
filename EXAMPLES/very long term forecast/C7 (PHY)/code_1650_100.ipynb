{
 "cells": [
  {
   "cell_type": "markdown",
   "metadata": {
    "id": "pCGKeZ2gyuoQ"
   },
   "source": [
    "_Importing Required Libraries_"
   ]
  },
  {
   "cell_type": "code",
   "execution_count": 1,
   "metadata": {
    "colab": {
     "base_uri": "https://localhost:8080/"
    },
    "id": "A-6LN-zXiLcM",
    "outputId": "4de610a4-f8b8-4f49-c6c0-89de299ccedc"
   },
   "outputs": [
    {
     "name": "stdout",
     "output_type": "stream",
     "text": [
      "Requirement already satisfied: hampel in c:\\users\\anurag dutta\\appdata\\local\\packages\\pythonsoftwarefoundation.python.3.9_qbz5n2kfra8p0\\localcache\\local-packages\\python39\\site-packages (0.0.5)\n",
      "Requirement already satisfied: numpy in c:\\users\\anurag dutta\\appdata\\local\\packages\\pythonsoftwarefoundation.python.3.9_qbz5n2kfra8p0\\localcache\\local-packages\\python39\\site-packages (from hampel) (1.26.4)\n",
      "Requirement already satisfied: pandas in c:\\users\\anurag dutta\\appdata\\local\\packages\\pythonsoftwarefoundation.python.3.9_qbz5n2kfra8p0\\localcache\\local-packages\\python39\\site-packages (from hampel) (1.5.2)\n",
      "Requirement already satisfied: python-dateutil>=2.8.1 in c:\\users\\anurag dutta\\appdata\\local\\packages\\pythonsoftwarefoundation.python.3.9_qbz5n2kfra8p0\\localcache\\local-packages\\python39\\site-packages (from pandas->hampel) (2.8.2)\n",
      "Requirement already satisfied: pytz>=2020.1 in c:\\users\\anurag dutta\\appdata\\local\\packages\\pythonsoftwarefoundation.python.3.9_qbz5n2kfra8p0\\localcache\\local-packages\\python39\\site-packages (from pandas->hampel) (2023.3.post1)\n",
      "Requirement already satisfied: six>=1.5 in c:\\users\\anurag dutta\\appdata\\local\\packages\\pythonsoftwarefoundation.python.3.9_qbz5n2kfra8p0\\localcache\\local-packages\\python39\\site-packages (from python-dateutil>=2.8.1->pandas->hampel) (1.16.0)\n",
      "Note: you may need to restart the kernel to use updated packages.\n"
     ]
    },
    {
     "name": "stderr",
     "output_type": "stream",
     "text": [
      "\n",
      "[notice] A new release of pip is available: 24.2 -> 24.3.1\n",
      "[notice] To update, run: C:\\Users\\Anurag Dutta\\AppData\\Local\\Microsoft\\WindowsApps\\PythonSoftwareFoundation.Python.3.9_qbz5n2kfra8p0\\python.exe -m pip install --upgrade pip\n"
     ]
    }
   ],
   "source": [
    "pip install hampel"
   ]
  },
  {
   "cell_type": "code",
   "execution_count": 2,
   "metadata": {
    "id": "By_d9uXpaFvZ"
   },
   "outputs": [],
   "source": [
    "from keras.models import Sequential\n",
    "from keras.layers import Dense\n",
    "from keras.layers import LSTM\n",
    "from keras.layers import Dropout\n",
    "import keras\n",
    "import tensorflow as tf\n",
    "from hampel import hampel\n",
    "import numpy as np\n",
    "import matplotlib.pyplot as plt\n",
    "import pandas as pd\n",
    "from sklearn.preprocessing import MinMaxScaler\n",
    "from sklearn.metrics import mean_squared_error, mean_absolute_error\n",
    "from math import sqrt\n",
    "from matplotlib import pyplot\n",
    "from numpy import array"
   ]
  },
  {
   "cell_type": "markdown",
   "metadata": {
    "id": "JyOjBMFayuoR"
   },
   "source": [
    "## Pretraining"
   ]
  },
  {
   "cell_type": "markdown",
   "metadata": {
    "id": "-5QqIY_GyuoR"
   },
   "source": [
    "The `capa_intermittency.dat` feeds the model with the dynamics of the Capacitor"
   ]
  },
  {
   "cell_type": "code",
   "execution_count": 3,
   "metadata": {
    "id": "9dV4a8yfyuoR"
   },
   "outputs": [],
   "source": [
    "data = np.genfromtxt('capa_intermittency.dat')\n",
    "training_set = pd.DataFrame(data).reset_index(drop=True)\n",
    "training_set = training_set.iloc[:,0]"
   ]
  },
  {
   "cell_type": "markdown",
   "metadata": {
    "id": "i7easoxByuoR"
   },
   "source": [
    "## Computing the Gradient"
   ]
  },
  {
   "cell_type": "markdown",
   "metadata": {
    "id": "5SnyolJTyuoR"
   },
   "source": [
    "_Calculating the value of_ $\\frac{dx}{dt}$"
   ]
  },
  {
   "cell_type": "code",
   "execution_count": 4,
   "metadata": {
    "colab": {
     "base_uri": "https://localhost:8080/"
    },
    "id": "wmIbVfIvyuoR",
    "outputId": "aa4e3136-c854-465d-d2e9-81cfd546e440"
   },
   "outputs": [
    {
     "name": "stdout",
     "output_type": "stream",
     "text": [
      "1.0\n",
      "1        0.000298\n",
      "2        0.000298\n",
      "3        0.000297\n",
      "4        0.000297\n",
      "5        0.000297\n",
      "           ...   \n",
      "9996     0.000018\n",
      "9997     0.000018\n",
      "9998     0.000018\n",
      "9999     0.000018\n",
      "10000    0.000018\n",
      "Name: 0, Length: 10000, dtype: float64\n"
     ]
    }
   ],
   "source": [
    "t_diff = 1\n",
    "print(training_set.max())\n",
    "gradient_t = (training_set.diff()/t_diff).iloc[1:] # dx/dt\n",
    "print(gradient_t)"
   ]
  },
  {
   "cell_type": "markdown",
   "metadata": {
    "id": "_2eVeeoxyuoS"
   },
   "source": [
    "## Loading Datasets"
   ]
  },
  {
   "cell_type": "code",
   "execution_count": 5,
   "metadata": {
    "id": "0J-NKyIEyuoS"
   },
   "outputs": [
    {
     "data": {
      "text/plain": [
       "0       92.600000\n",
       "1       92.387115\n",
       "2       92.174230\n",
       "3       91.961345\n",
       "4       91.748459\n",
       "          ...    \n",
       "1745    68.624697\n",
       "1746    68.622829\n",
       "1747    68.620962\n",
       "1748    68.619094\n",
       "1749    68.617227\n",
       "Name: C7, Length: 1750, dtype: float64"
      ]
     },
     "execution_count": 5,
     "metadata": {},
     "output_type": "execute_result"
    }
   ],
   "source": [
    "data = pd.read_csv(\"c7_interpolated_1650_100.csv\")\n",
    "training_set = data.iloc[:, 1]\n",
    "training_set"
   ]
  },
  {
   "cell_type": "code",
   "execution_count": 6,
   "metadata": {
    "colab": {
     "base_uri": "https://localhost:8080/"
    },
    "id": "-CbNUhJ74UqF",
    "outputId": "20f562d8-8247-49cc-b9c3-00eca5e13e2d"
   },
   "outputs": [
    {
     "data": {
      "text/plain": [
       "0       92.600000\n",
       "1       92.387115\n",
       "2       92.174230\n",
       "3       91.961345\n",
       "4       91.748459\n",
       "          ...    \n",
       "1645     0.000000\n",
       "1646     0.000000\n",
       "1647     0.344058\n",
       "1648     0.765121\n",
       "1649     0.000000\n",
       "Name: C7, Length: 1650, dtype: float64"
      ]
     },
     "execution_count": 6,
     "metadata": {},
     "output_type": "execute_result"
    }
   ],
   "source": [
    "test = training_set.tail(100)\n",
    "test\n",
    "training_set = training_set.head(1650)\n",
    "training_set"
   ]
  },
  {
   "cell_type": "code",
   "execution_count": 7,
   "metadata": {
    "colab": {
     "base_uri": "https://localhost:8080/"
    },
    "id": "X0TwTcq0yuoS",
    "outputId": "37252ed8-d88e-4044-fa7a-922411990b5b"
   },
   "outputs": [
    {
     "name": "stdout",
     "output_type": "stream",
     "text": [
      "0       0.000298\n",
      "1       0.000298\n",
      "2       0.000297\n",
      "3       0.000297\n",
      "4       0.000297\n",
      "          ...   \n",
      "9995    0.000018\n",
      "9996    0.000018\n",
      "9997    0.000018\n",
      "9998    0.000018\n",
      "9999    0.000018\n",
      "Name: 0, Length: 10000, dtype: float64\n"
     ]
    }
   ],
   "source": [
    "training_set = training_set.reset_index(drop=True)\n",
    "gradient_t = gradient_t.reset_index(drop=True)\n",
    "print(gradient_t)"
   ]
  },
  {
   "cell_type": "code",
   "execution_count": 8,
   "metadata": {
    "id": "O2biznZQyuoS"
   },
   "outputs": [],
   "source": [
    "df = pd.concat((training_set, gradient_t), axis=1)\n",
    "df.columns = ['y_t', 'grad_t']"
   ]
  },
  {
   "cell_type": "code",
   "execution_count": 9,
   "metadata": {
    "colab": {
     "base_uri": "https://localhost:8080/",
     "height": 423
    },
    "id": "sk_a5v3tyuoS",
    "outputId": "17563625-e550-45ae-faab-fafa353e44da"
   },
   "outputs": [
    {
     "data": {
      "text/html": [
       "<div>\n",
       "<style scoped>\n",
       "    .dataframe tbody tr th:only-of-type {\n",
       "        vertical-align: middle;\n",
       "    }\n",
       "\n",
       "    .dataframe tbody tr th {\n",
       "        vertical-align: top;\n",
       "    }\n",
       "\n",
       "    .dataframe thead th {\n",
       "        text-align: right;\n",
       "    }\n",
       "</style>\n",
       "<table border=\"1\" class=\"dataframe\">\n",
       "  <thead>\n",
       "    <tr style=\"text-align: right;\">\n",
       "      <th></th>\n",
       "      <th>y_t</th>\n",
       "      <th>grad_t</th>\n",
       "    </tr>\n",
       "  </thead>\n",
       "  <tbody>\n",
       "    <tr>\n",
       "      <th>0</th>\n",
       "      <td>92.600000</td>\n",
       "      <td>0.000298</td>\n",
       "    </tr>\n",
       "    <tr>\n",
       "      <th>1</th>\n",
       "      <td>92.387115</td>\n",
       "      <td>0.000298</td>\n",
       "    </tr>\n",
       "    <tr>\n",
       "      <th>2</th>\n",
       "      <td>92.174230</td>\n",
       "      <td>0.000297</td>\n",
       "    </tr>\n",
       "    <tr>\n",
       "      <th>3</th>\n",
       "      <td>91.961345</td>\n",
       "      <td>0.000297</td>\n",
       "    </tr>\n",
       "    <tr>\n",
       "      <th>4</th>\n",
       "      <td>91.748459</td>\n",
       "      <td>0.000297</td>\n",
       "    </tr>\n",
       "    <tr>\n",
       "      <th>...</th>\n",
       "      <td>...</td>\n",
       "      <td>...</td>\n",
       "    </tr>\n",
       "    <tr>\n",
       "      <th>9995</th>\n",
       "      <td>NaN</td>\n",
       "      <td>0.000018</td>\n",
       "    </tr>\n",
       "    <tr>\n",
       "      <th>9996</th>\n",
       "      <td>NaN</td>\n",
       "      <td>0.000018</td>\n",
       "    </tr>\n",
       "    <tr>\n",
       "      <th>9997</th>\n",
       "      <td>NaN</td>\n",
       "      <td>0.000018</td>\n",
       "    </tr>\n",
       "    <tr>\n",
       "      <th>9998</th>\n",
       "      <td>NaN</td>\n",
       "      <td>0.000018</td>\n",
       "    </tr>\n",
       "    <tr>\n",
       "      <th>9999</th>\n",
       "      <td>NaN</td>\n",
       "      <td>0.000018</td>\n",
       "    </tr>\n",
       "  </tbody>\n",
       "</table>\n",
       "<p>10000 rows × 2 columns</p>\n",
       "</div>"
      ],
      "text/plain": [
       "            y_t    grad_t\n",
       "0     92.600000  0.000298\n",
       "1     92.387115  0.000298\n",
       "2     92.174230  0.000297\n",
       "3     91.961345  0.000297\n",
       "4     91.748459  0.000297\n",
       "...         ...       ...\n",
       "9995        NaN  0.000018\n",
       "9996        NaN  0.000018\n",
       "9997        NaN  0.000018\n",
       "9998        NaN  0.000018\n",
       "9999        NaN  0.000018\n",
       "\n",
       "[10000 rows x 2 columns]"
      ]
     },
     "execution_count": 9,
     "metadata": {},
     "output_type": "execute_result"
    }
   ],
   "source": [
    "df"
   ]
  },
  {
   "cell_type": "markdown",
   "metadata": {
    "id": "-5esyHu5aFvg"
   },
   "source": [
    "## Plot of the External Forcing from Chaotic Differential Equation"
   ]
  },
  {
   "cell_type": "code",
   "execution_count": 10,
   "metadata": {
    "colab": {
     "base_uri": "https://localhost:8080/",
     "height": 447
    },
    "id": "hGnE43tOh-4p",
    "outputId": "fc396503-b624-4fa5-dfbe-f460207405c6"
   },
   "outputs": [
    {
     "data": {
      "text/plain": [
       "<Axes: >"
      ]
     },
     "execution_count": 10,
     "metadata": {},
     "output_type": "execute_result"
    },
    {
     "data": {
      "image/png": "[encoded data removed]",
      "text/plain": [
       "<Figure size 432x288 with 1 Axes>"
      ]
     },
     "metadata": {
      "needs_background": "light"
     },
     "output_type": "display_data"
    }
   ],
   "source": [
    "df.iloc[:, 0].plot()"
   ]
  },
  {
   "cell_type": "code",
   "execution_count": 11,
   "metadata": {
    "colab": {
     "base_uri": "https://localhost:8080/",
     "height": 447
    },
    "id": "ym4xWUUxaFvg",
    "outputId": "ae6a3495-8ce9-437e-ba81-3ed31deedeae"
   },
   "outputs": [
    {
     "name": "stderr",
     "output_type": "stream",
     "text": [
      "C:\\Users\\Anurag Dutta\\AppData\\Local\\Packages\\PythonSoftwareFoundation.Python.3.9_qbz5n2kfra8p0\\LocalCache\\local-packages\\Python39\\site-packages\\pandas\\core\\arraylike.py:402: RuntimeWarning: divide by zero encountered in log\n",
      "  result = getattr(ufunc, method)(*inputs, **kwargs)\n"
     ]
    },
    {
     "data": {
      "text/plain": [
       "<Axes: >"
      ]
     },
     "execution_count": 11,
     "metadata": {},
     "output_type": "execute_result"
    },
    {
     "data": {
      "image/png": "[encoded data removed]",
      "text/plain": [
       "<Figure size 432x288 with 1 Axes>"
      ]
     },
     "metadata": {
      "needs_background": "light"
     },
     "output_type": "display_data"
    }
   ],
   "source": [
    "import numpy as np\n",
    "c0 = 89.3180  # Value for C0\n",
    "K0 = -0.0010  # Value for K0\n",
    "K1 = 0.0001  # Value for K1\n",
    "a = 0.0000    # Value for a\n",
    "b = -0.0204    # Value for b\n",
    "c = 2.2194    # Value for c\n",
    "\n",
    "L = np.minimum(c0, (df.iloc[:, 1] - (df.iloc[:, 0] * (K0 - K1 * (9 * a * np.log(df.iloc[:, 0] / c0) / (K0 - K1 * c)**2 + 4 * b * np.log(df.iloc[:, 0] / c0) / (K0 - K1 * c) + c)))))\n",
    "L.plot()"
   ]
  },
  {
   "cell_type": "markdown",
   "metadata": {
    "id": "9VyEywnwaFvh"
   },
   "source": [
    "## Preprocessing the data into supervised learning"
   ]
  },
  {
   "cell_type": "code",
   "execution_count": 12,
   "metadata": {
    "id": "6V9dXqzdaFvh"
   },
   "outputs": [],
   "source": [
    "# split a sequence into samples\n",
    "def Supervised(data, n_in=1, n_out=1, dropnan=True):\n",
    "    n_vars = 1 if type(data) is list else data.shape[1]\n",
    "    df = pd.DataFrame(data)\n",
    "    cols, names = list(), list()\n",
    "    # input sequence (t-n_in, ... t-1)\n",
    "    for i in range(n_in, 0, -1):\n",
    "        cols.append(df.shift(i))\n",
    "        names += [('var%d(t-%d)' % (j+1, i)) for j in range(n_vars)]\n",
    "    # forecast sequence (t, t+1, ... t+n_out)\n",
    "    for i in range(0, n_out):\n",
    "      cols.append(df.shift(-i))\n",
    "      if i == 0:\n",
    "        names += [('var%d(t)' % (j+1)) for j in range(n_vars)]\n",
    "      else:\n",
    "        names += [('var%d(t+%d)' % (j+1, i)) for j in range(n_vars)]\n",
    "    # put it all together\n",
    "    agg = pd.concat(cols, axis=1)\n",
    "    agg.columns = names\n",
    "    # drop rows with NaN values\n",
    "    if dropnan:\n",
    "       agg.dropna(inplace=True)\n",
    "    return agg"
   ]
  },
  {
   "cell_type": "code",
   "execution_count": 13,
   "metadata": {
    "colab": {
     "base_uri": "https://localhost:8080/"
    },
    "id": "CrzSrT1HnyfH",
    "outputId": "7e75f928-3e47-499d-eac1-51908015ef78"
   },
   "outputs": [
    {
     "name": "stdout",
     "output_type": "stream",
     "text": [
      "     var1(t-350)  var1(t-349)  var1(t-348)  var1(t-347)  var1(t-346)  \\\n",
      "350    92.600000    92.387115    92.174230    91.961345    91.748459   \n",
      "351    92.387115    92.174230    91.961345    91.748459    91.535574   \n",
      "352    92.174230    91.961345    91.748459    91.535574    91.322689   \n",
      "353    91.961345    91.748459    91.535574    91.322689    91.109804   \n",
      "354    91.748459    91.535574    91.322689    91.109804    90.896919   \n",
      "\n",
      "     var1(t-345)  var1(t-344)  var1(t-343)  var1(t-342)  var1(t-341)  ...  \\\n",
      "350    91.535574    91.322689    91.109804    90.896919    90.691597  ...   \n",
      "351    91.322689    91.109804    90.896919    90.691597    90.579552  ...   \n",
      "352    91.109804    90.896919    90.691597    90.579552    90.467507  ...   \n",
      "353    90.896919    90.691597    90.579552    90.467507    90.355462  ...   \n",
      "354    90.691597    90.579552    90.467507    90.355462    90.243417  ...   \n",
      "\n",
      "     var1(t+95)  var2(t+95)  var1(t+96)  var2(t+96)  var1(t+97)  var2(t+97)  \\\n",
      "350   80.261671    0.000263   80.252334    0.000263   80.242997    0.000263   \n",
      "351   80.252334    0.000263   80.242997    0.000263   80.233660    0.000262   \n",
      "352   80.242997    0.000263   80.233660    0.000262   80.224323    0.000262   \n",
      "353   80.233660    0.000262   80.224323    0.000262   80.214986    0.000262   \n",
      "354   80.224323    0.000262   80.214986    0.000262   80.205649    0.000262   \n",
      "\n",
      "     var1(t+98)  var2(t+98)  var1(t+99)  var2(t+99)  \n",
      "350   80.233660    0.000262   80.224323    0.000262  \n",
      "351   80.224323    0.000262   80.214986    0.000262  \n",
      "352   80.214986    0.000262   80.205649    0.000262  \n",
      "353   80.205649    0.000262   80.196312    0.000262  \n",
      "354   80.196312    0.000262   80.186975    0.000262  \n",
      "\n",
      "[5 rows x 551 columns]\n",
      "Index(['var1(t-350)', 'var1(t-349)', 'var1(t-348)', 'var1(t-347)',\n",
      "       'var1(t-346)', 'var1(t-345)', 'var1(t-344)', 'var1(t-343)',\n",
      "       'var1(t-342)', 'var1(t-341)',\n",
      "       ...\n",
      "       'var1(t+95)', 'var2(t+95)', 'var1(t+96)', 'var2(t+96)', 'var1(t+97)',\n",
      "       'var2(t+97)', 'var1(t+98)', 'var2(t+98)', 'var1(t+99)', 'var2(t+99)'],\n",
      "      dtype='object', length=551)\n"
     ]
    }
   ],
   "source": [
    "data = Supervised(df.values, n_in = 350, n_out = 100)\n",
    "\n",
    "\n",
    "cols_to_drop = []\n",
    "for i in range(2, 351):\n",
    "    cols_to_drop.extend([f'var2(t-{i})'])\n",
    "\n",
    "data.drop(cols_to_drop, axis=1, inplace=True)\n",
    "\n",
    "print(data.head())\n",
    "print(data.columns)"
   ]
  },
  {
   "cell_type": "code",
   "execution_count": 14,
   "metadata": {
    "id": "AfPf60oy6Pe4"
   },
   "outputs": [],
   "source": [
    "train = np.array(data[0:len(data)-1])\n",
    "forecast = np.array(data.tail(1))"
   ]
  },
  {
   "cell_type": "code",
   "execution_count": 15,
   "metadata": {
    "id": "WSAafzI37KiT"
   },
   "outputs": [],
   "source": [
    "trainy = train[:,-300:]\n",
    "trainX = train[:,:-300]"
   ]
  },
  {
   "cell_type": "code",
   "execution_count": 16,
   "metadata": {
    "id": "2SrOqVJA7f50"
   },
   "outputs": [],
   "source": [
    "forecasty = forecast[:,-300:]\n",
    "forecastX = forecast[:,:-300]"
   ]
  },
  {
   "cell_type": "code",
   "execution_count": 17,
   "metadata": {
    "colab": {
     "base_uri": "https://localhost:8080/"
    },
    "id": "Qno_k8Nw7saY",
    "outputId": "c4a88db5-d8c6-489f-cdb2-06b24e293cff"
   },
   "outputs": [
    {
     "name": "stdout",
     "output_type": "stream",
     "text": [
      "(1200, 1, 251) (1200, 300) (1, 1, 251)\n"
     ]
    }
   ],
   "source": [
    "trainX = trainX.reshape((trainX.shape[0], 1, trainX.shape[1]))\n",
    "forecastX = forecastX.reshape((forecastX.shape[0], 1, forecastX.shape[1]))\n",
    "print(trainX.shape, trainy.shape, forecastX.shape)"
   ]
  },
  {
   "cell_type": "code",
   "execution_count": 18,
   "metadata": {
    "colab": {
     "base_uri": "https://localhost:8080/"
    },
    "id": "b1Jp2DvNuNFx",
    "outputId": "d0e5b3c4-64f1-438c-eade-8dfeaac8e285"
   },
   "outputs": [
    {
     "name": "stdout",
     "output_type": "stream",
     "text": [
      "Epoch 1/500\n",
      "15/15 [==============================] - 3s 39ms/step - loss: 5983.8628 - val_loss: 4581.8384\n",
      "Epoch 2/500\n",
      "15/15 [==============================] - 0s 5ms/step - loss: 5898.3760 - val_loss: 4518.0225\n",
      "Epoch 3/500\n",
      "15/15 [==============================] - 0s 5ms/step - loss: 5818.2183 - val_loss: 4468.1543\n",
      "Epoch 4/500\n",
      "15/15 [==============================] - 0s 5ms/step - loss: 5752.9189 - val_loss: 4418.6567\n",
      "Epoch 5/500\n",
      "15/15 [==============================] - 0s 5ms/step - loss: 5688.2500 - val_loss: 4369.7446\n",
      "Epoch 6/500\n",
      "15/15 [==============================] - 0s 5ms/step - loss: 5624.2847 - val_loss: 4321.3931\n",
      "Epoch 7/500\n",
      "15/15 [==============================] - 0s 4ms/step - loss: 5560.9795 - val_loss: 4273.5645\n",
      "Epoch 8/500\n",
      "15/15 [==============================] - 0s 5ms/step - loss: 5498.2925 - val_loss: 4226.2329\n",
      "Epoch 9/500\n",
      "15/15 [==============================] - 0s 5ms/step - loss: 5436.1948 - val_loss: 4179.3799\n",
      "Epoch 10/500\n",
      "15/15 [==============================] - 0s 5ms/step - loss: 5374.6665 - val_loss: 4132.9922\n",
      "Epoch 11/500\n",
      "15/15 [==============================] - 0s 4ms/step - loss: 5313.6929 - val_loss: 4087.0610\n",
      "Epoch 12/500\n",
      "15/15 [==============================] - 0s 4ms/step - loss: 5253.2637 - val_loss: 4041.5759\n",
      "Epoch 13/500\n",
      "15/15 [==============================] - 0s 5ms/step - loss: 5193.3682 - val_loss: 3996.5339\n",
      "Epoch 14/500\n",
      "15/15 [==============================] - 0s 5ms/step - loss: 5134.0005 - val_loss: 3951.9268\n",
      "Epoch 15/500\n",
      "15/15 [==============================] - 0s 5ms/step - loss: 5075.1558 - val_loss: 3907.7507\n",
      "Epoch 16/500\n",
      "15/15 [==============================] - 0s 7ms/step - loss: 5016.8252 - val_loss: 3864.0017\n",
      "Epoch 17/500\n",
      "15/15 [==============================] - 0s 6ms/step - loss: 4959.0049 - val_loss: 3820.6753\n",
      "Epoch 18/500\n",
      "15/15 [==============================] - 0s 6ms/step - loss: 4901.6904 - val_loss: 3777.7668\n",
      "Epoch 19/500\n",
      "15/15 [==============================] - 0s 4ms/step - loss: 4844.8765 - val_loss: 3735.2744\n",
      "Epoch 20/500\n",
      "15/15 [==============================] - 0s 5ms/step - loss: 4788.5601 - val_loss: 3693.1931\n",
      "Epoch 21/500\n",
      "15/15 [==============================] - 0s 5ms/step - loss: 4732.7363 - val_loss: 3651.5205\n",
      "Epoch 22/500\n",
      "15/15 [==============================] - 0s 4ms/step - loss: 4677.4014 - val_loss: 3610.2532\n",
      "Epoch 23/500\n",
      "15/15 [==============================] - 0s 5ms/step - loss: 4622.5527 - val_loss: 3569.3879\n",
      "Epoch 24/500\n",
      "15/15 [==============================] - 0s 5ms/step - loss: 4568.1851 - val_loss: 3528.9219\n",
      "Epoch 25/500\n",
      "15/15 [==============================] - 0s 5ms/step - loss: 4514.2959 - val_loss: 3488.8521\n",
      "Epoch 26/500\n",
      "15/15 [==============================] - 0s 5ms/step - loss: 4460.8818 - val_loss: 3449.1758\n",
      "Epoch 27/500\n",
      "15/15 [==============================] - 0s 4ms/step - loss: 4407.9385 - val_loss: 3409.8906\n",
      "Epoch 28/500\n",
      "15/15 [==============================] - 0s 4ms/step - loss: 4355.4644 - val_loss: 3370.9929\n",
      "Epoch 29/500\n",
      "15/15 [==============================] - 0s 5ms/step - loss: 4303.4551 - val_loss: 3332.4802\n",
      "Epoch 30/500\n",
      "15/15 [==============================] - 0s 5ms/step - loss: 4251.9082 - val_loss: 3294.3506\n",
      "Epoch 31/500\n",
      "15/15 [==============================] - 0s 4ms/step - loss: 4200.8198 - val_loss: 3256.6006\n",
      "Epoch 32/500\n",
      "15/15 [==============================] - 0s 5ms/step - loss: 4150.1870 - val_loss: 3219.2278\n",
      "Epoch 33/500\n",
      "15/15 [==============================] - 0s 5ms/step - loss: 4100.0073 - val_loss: 3182.2292\n",
      "Epoch 34/500\n",
      "15/15 [==============================] - 0s 5ms/step - loss: 4050.2771 - val_loss: 3145.6030\n",
      "Epoch 35/500\n",
      "15/15 [==============================] - 0s 5ms/step - loss: 4000.9934 - val_loss: 3109.3464\n",
      "Epoch 36/500\n",
      "15/15 [==============================] - 0s 5ms/step - loss: 3952.1536 - val_loss: 3073.4570\n",
      "Epoch 37/500\n",
      "15/15 [==============================] - 0s 5ms/step - loss: 3903.7551 - val_loss: 3037.9321\n",
      "Epoch 38/500\n",
      "15/15 [==============================] - 0s 4ms/step - loss: 3855.7952 - val_loss: 3002.7693\n",
      "Epoch 39/500\n",
      "15/15 [==============================] - 0s 5ms/step - loss: 3808.2700 - val_loss: 2967.9663\n",
      "Epoch 40/500\n",
      "15/15 [==============================] - 0s 5ms/step - loss: 3761.1772 - val_loss: 2933.5208\n",
      "Epoch 41/500\n",
      "15/15 [==============================] - 0s 5ms/step - loss: 3714.5144 - val_loss: 2899.4302\n",
      "Epoch 42/500\n",
      "15/15 [==============================] - 0s 5ms/step - loss: 3668.2786 - val_loss: 2865.6921\n",
      "Epoch 43/500\n",
      "15/15 [==============================] - 0s 5ms/step - loss: 3622.4666 - val_loss: 2832.3047\n",
      "Epoch 44/500\n",
      "15/15 [==============================] - 0s 4ms/step - loss: 3577.0757 - val_loss: 2799.2642\n",
      "Epoch 45/500\n",
      "15/15 [==============================] - 0s 5ms/step - loss: 3532.1045 - val_loss: 2766.5696\n",
      "Epoch 46/500\n",
      "15/15 [==============================] - 0s 5ms/step - loss: 3487.5486 - val_loss: 2734.2183\n",
      "Epoch 47/500\n",
      "15/15 [==============================] - 0s 5ms/step - loss: 3443.4067 - val_loss: 2702.2080\n",
      "Epoch 48/500\n",
      "15/15 [==============================] - 0s 5ms/step - loss: 3399.6748 - val_loss: 2670.5364\n",
      "Epoch 49/500\n",
      "15/15 [==============================] - 0s 4ms/step - loss: 3356.3511 - val_loss: 2639.2009\n",
      "Epoch 50/500\n",
      "15/15 [==============================] - 0s 4ms/step - loss: 3313.4331 - val_loss: 2608.1995\n",
      "Epoch 51/500\n",
      "15/15 [==============================] - 0s 5ms/step - loss: 3270.9177 - val_loss: 2577.5298\n",
      "Epoch 52/500\n",
      "15/15 [==============================] - 0s 5ms/step - loss: 3228.8032 - val_loss: 2547.1902\n",
      "Epoch 53/500\n",
      "15/15 [==============================] - 0s 5ms/step - loss: 3187.0864 - val_loss: 2517.1780\n",
      "Epoch 54/500\n",
      "15/15 [==============================] - 0s 5ms/step - loss: 3145.7642 - val_loss: 2487.4912\n",
      "Epoch 55/500\n",
      "15/15 [==============================] - 0s 5ms/step - loss: 3104.8359 - val_loss: 2458.1272\n",
      "Epoch 56/500\n",
      "15/15 [==============================] - 0s 5ms/step - loss: 3064.2966 - val_loss: 2429.0845\n",
      "Epoch 57/500\n",
      "15/15 [==============================] - 0s 7ms/step - loss: 3024.1458 - val_loss: 2400.3601\n",
      "Epoch 58/500\n",
      "15/15 [==============================] - 0s 4ms/step - loss: 2984.3799 - val_loss: 2371.9529\n",
      "Epoch 59/500\n",
      "15/15 [==============================] - 0s 4ms/step - loss: 2944.9971 - val_loss: 2343.8594\n",
      "Epoch 60/500\n",
      "15/15 [==============================] - 0s 5ms/step - loss: 2905.9944 - val_loss: 2316.0789\n",
      "Epoch 61/500\n",
      "15/15 [==============================] - 0s 4ms/step - loss: 2867.3689 - val_loss: 2288.6084\n",
      "Epoch 62/500\n",
      "15/15 [==============================] - 0s 5ms/step - loss: 2829.1201 - val_loss: 2261.4463\n",
      "Epoch 63/500\n",
      "15/15 [==============================] - 0s 5ms/step - loss: 2791.2446 - val_loss: 2234.5903\n",
      "Epoch 64/500\n",
      "15/15 [==============================] - 0s 5ms/step - loss: 2753.7393 - val_loss: 2208.0383\n",
      "Epoch 65/500\n",
      "15/15 [==============================] - 0s 5ms/step - loss: 2716.6018 - val_loss: 2181.7881\n",
      "Epoch 66/500\n",
      "15/15 [==============================] - 0s 4ms/step - loss: 2679.8308 - val_loss: 2155.8384\n",
      "Epoch 67/500\n",
      "15/15 [==============================] - 0s 5ms/step - loss: 2643.4233 - val_loss: 2130.1860\n",
      "Epoch 68/500\n",
      "15/15 [==============================] - 0s 5ms/step - loss: 2607.3772 - val_loss: 2104.8293\n",
      "Epoch 69/500\n",
      "15/15 [==============================] - 0s 5ms/step - loss: 2571.6897 - val_loss: 2079.7671\n",
      "Epoch 70/500\n",
      "15/15 [==============================] - 0s 5ms/step - loss: 2536.3589 - val_loss: 2054.9961\n",
      "Epoch 71/500\n",
      "15/15 [==============================] - 0s 4ms/step - loss: 2501.3823 - val_loss: 2030.5154\n",
      "Epoch 72/500\n",
      "15/15 [==============================] - 0s 4ms/step - loss: 2466.7583 - val_loss: 2006.3223\n",
      "Epoch 73/500\n",
      "15/15 [==============================] - 0s 5ms/step - loss: 2432.4839 - val_loss: 1982.4148\n",
      "Epoch 74/500\n",
      "15/15 [==============================] - 0s 5ms/step - loss: 2398.5562 - val_loss: 1958.7910\n",
      "Epoch 75/500\n",
      "15/15 [==============================] - 0s 5ms/step - loss: 2364.9744 - val_loss: 1935.4495\n",
      "Epoch 76/500\n",
      "15/15 [==============================] - 0s 4ms/step - loss: 2331.7356 - val_loss: 1912.3876\n",
      "Epoch 77/500\n",
      "15/15 [==============================] - 0s 5ms/step - loss: 2298.8369 - val_loss: 1889.6041\n",
      "Epoch 78/500\n",
      "15/15 [==============================] - 0s 5ms/step - loss: 2266.2773 - val_loss: 1867.0962\n",
      "Epoch 79/500\n",
      "15/15 [==============================] - 0s 5ms/step - loss: 2234.0542 - val_loss: 1844.8628\n",
      "Epoch 80/500\n",
      "15/15 [==============================] - 0s 5ms/step - loss: 2202.1655 - val_loss: 1822.9019\n",
      "Epoch 81/500\n",
      "15/15 [==============================] - 0s 5ms/step - loss: 2170.6084 - val_loss: 1801.2107\n",
      "Epoch 82/500\n",
      "15/15 [==============================] - 0s 6ms/step - loss: 2139.3811 - val_loss: 1779.7880\n",
      "Epoch 83/500\n",
      "15/15 [==============================] - 0s 4ms/step - loss: 2108.4810 - val_loss: 1758.6317\n",
      "Epoch 84/500\n",
      "15/15 [==============================] - 0s 4ms/step - loss: 2077.9067 - val_loss: 1737.7401\n",
      "Epoch 85/500\n",
      "15/15 [==============================] - 0s 4ms/step - loss: 2047.6549 - val_loss: 1717.1110\n",
      "Epoch 86/500\n",
      "15/15 [==============================] - 0s 6ms/step - loss: 2017.7246 - val_loss: 1696.7423\n",
      "Epoch 87/500\n",
      "15/15 [==============================] - 0s 7ms/step - loss: 1988.1134 - val_loss: 1676.6331\n",
      "Epoch 88/500\n",
      "15/15 [==============================] - 0s 8ms/step - loss: 1958.8186 - val_loss: 1656.7809\n",
      "Epoch 89/500\n",
      "15/15 [==============================] - 0s 6ms/step - loss: 1929.8394 - val_loss: 1637.1837\n",
      "Epoch 90/500\n",
      "15/15 [==============================] - 0s 15ms/step - loss: 1901.1721 - val_loss: 1617.8405\n",
      "Epoch 91/500\n",
      "15/15 [==============================] - 0s 9ms/step - loss: 1872.8153 - val_loss: 1598.7483\n",
      "Epoch 92/500\n",
      "15/15 [==============================] - 0s 6ms/step - loss: 1844.7671 - val_loss: 1579.9059\n",
      "Epoch 93/500\n",
      "15/15 [==============================] - 0s 5ms/step - loss: 1817.0255 - val_loss: 1561.3114\n",
      "Epoch 94/500\n",
      "15/15 [==============================] - 0s 6ms/step - loss: 1789.5879 - val_loss: 1542.9635\n",
      "Epoch 95/500\n",
      "15/15 [==============================] - 0s 6ms/step - loss: 1762.4526 - val_loss: 1524.8591\n",
      "Epoch 96/500\n",
      "15/15 [==============================] - 0s 6ms/step - loss: 1735.6176 - val_loss: 1506.9977\n",
      "Epoch 97/500\n",
      "15/15 [==============================] - 0s 5ms/step - loss: 1709.0808 - val_loss: 1489.3771\n",
      "Epoch 98/500\n",
      "15/15 [==============================] - 0s 4ms/step - loss: 1682.8405 - val_loss: 1471.9950\n",
      "Epoch 99/500\n",
      "15/15 [==============================] - 0s 5ms/step - loss: 1656.8937 - val_loss: 1454.8505\n",
      "Epoch 100/500\n",
      "15/15 [==============================] - 0s 3ms/step - loss: 1631.2390 - val_loss: 1437.9413\n",
      "Epoch 101/500\n",
      "15/15 [==============================] - 0s 4ms/step - loss: 1605.8746 - val_loss: 1421.2657\n",
      "Epoch 102/500\n",
      "15/15 [==============================] - 0s 5ms/step - loss: 1580.7982 - val_loss: 1404.8224\n",
      "Epoch 103/500\n",
      "15/15 [==============================] - 0s 6ms/step - loss: 1556.0077 - val_loss: 1388.6094\n",
      "Epoch 104/500\n",
      "15/15 [==============================] - 0s 6ms/step - loss: 1531.5009 - val_loss: 1372.6287\n",
      "Epoch 105/500\n",
      "15/15 [==============================] - 0s 5ms/step - loss: 1507.1769 - val_loss: 1355.5427\n",
      "Epoch 106/500\n",
      "15/15 [==============================] - 0s 4ms/step - loss: 1479.4490 - val_loss: 1336.8436\n",
      "Epoch 107/500\n",
      "15/15 [==============================] - 0s 11ms/step - loss: 1451.0431 - val_loss: 1318.5333\n",
      "Epoch 108/500\n",
      "15/15 [==============================] - 0s 4ms/step - loss: 1423.5874 - val_loss: 1301.0159\n",
      "Epoch 109/500\n",
      "15/15 [==============================] - 0s 5ms/step - loss: 1397.1359 - val_loss: 1284.1456\n",
      "Epoch 110/500\n",
      "15/15 [==============================] - 0s 5ms/step - loss: 1371.4855 - val_loss: 1267.8015\n",
      "Epoch 111/500\n",
      "15/15 [==============================] - 0s 5ms/step - loss: 1346.4919 - val_loss: 1251.9061\n",
      "Epoch 112/500\n",
      "15/15 [==============================] - 0s 5ms/step - loss: 1322.0625 - val_loss: 1236.4078\n",
      "Epoch 113/500\n",
      "15/15 [==============================] - 0s 5ms/step - loss: 1298.1361 - val_loss: 1221.2723\n",
      "Epoch 114/500\n",
      "15/15 [==============================] - 0s 4ms/step - loss: 1274.6693 - val_loss: 1206.4727\n",
      "Epoch 115/500\n",
      "15/15 [==============================] - 0s 6ms/step - loss: 1251.6292 - val_loss: 1191.9905\n",
      "Epoch 116/500\n",
      "15/15 [==============================] - 0s 5ms/step - loss: 1228.9923 - val_loss: 1177.8104\n",
      "Epoch 117/500\n",
      "15/15 [==============================] - 0s 4ms/step - loss: 1206.7384 - val_loss: 1163.9185\n",
      "Epoch 118/500\n",
      "15/15 [==============================] - 0s 5ms/step - loss: 1184.8514 - val_loss: 1150.3058\n",
      "Epoch 119/500\n",
      "15/15 [==============================] - 0s 5ms/step - loss: 1163.3184 - val_loss: 1136.9618\n",
      "Epoch 120/500\n",
      "15/15 [==============================] - 0s 5ms/step - loss: 1142.1277 - val_loss: 1123.8801\n",
      "Epoch 121/500\n",
      "15/15 [==============================] - 0s 4ms/step - loss: 1121.2692 - val_loss: 1111.0531\n",
      "Epoch 122/500\n",
      "15/15 [==============================] - 0s 5ms/step - loss: 1100.7343 - val_loss: 1098.4738\n",
      "Epoch 123/500\n",
      "15/15 [==============================] - 0s 4ms/step - loss: 1080.5151 - val_loss: 1086.1378\n",
      "Epoch 124/500\n",
      "15/15 [==============================] - 0s 6ms/step - loss: 1060.6049 - val_loss: 1074.0403\n",
      "Epoch 125/500\n",
      "15/15 [==============================] - 0s 3ms/step - loss: 1040.9967 - val_loss: 1062.1749\n",
      "Epoch 126/500\n",
      "15/15 [==============================] - 0s 4ms/step - loss: 1021.6850 - val_loss: 1050.5386\n",
      "Epoch 127/500\n",
      "15/15 [==============================] - 0s 3ms/step - loss: 1002.6646 - val_loss: 1039.1266\n",
      "Epoch 128/500\n",
      "15/15 [==============================] - 0s 4ms/step - loss: 983.9298 - val_loss: 1027.9362\n",
      "Epoch 129/500\n",
      "15/15 [==============================] - 0s 4ms/step - loss: 965.4765 - val_loss: 1016.9618\n",
      "Epoch 130/500\n",
      "15/15 [==============================] - 0s 5ms/step - loss: 947.2995 - val_loss: 1006.2015\n",
      "Epoch 131/500\n",
      "15/15 [==============================] - 0s 4ms/step - loss: 929.3951 - val_loss: 995.6513\n",
      "Epoch 132/500\n",
      "15/15 [==============================] - 0s 5ms/step - loss: 911.7589 - val_loss: 985.3084\n",
      "Epoch 133/500\n",
      "15/15 [==============================] - 0s 3ms/step - loss: 894.3876 - val_loss: 975.1697\n",
      "Epoch 134/500\n",
      "15/15 [==============================] - 0s 5ms/step - loss: 877.2772 - val_loss: 965.2315\n",
      "Epoch 135/500\n",
      "15/15 [==============================] - 0s 5ms/step - loss: 860.4240 - val_loss: 955.4922\n",
      "Epoch 136/500\n",
      "15/15 [==============================] - 0s 4ms/step - loss: 843.8246 - val_loss: 945.9481\n",
      "Epoch 137/500\n",
      "15/15 [==============================] - 0s 5ms/step - loss: 827.4760 - val_loss: 936.5971\n",
      "Epoch 138/500\n",
      "15/15 [==============================] - 0s 4ms/step - loss: 811.3751 - val_loss: 927.4359\n",
      "Epoch 139/500\n",
      "15/15 [==============================] - 0s 6ms/step - loss: 795.5184 - val_loss: 918.4625\n",
      "Epoch 140/500\n",
      "15/15 [==============================] - 0s 5ms/step - loss: 779.9029 - val_loss: 909.6745\n",
      "Epoch 141/500\n",
      "15/15 [==============================] - 0s 5ms/step - loss: 764.5260 - val_loss: 901.0690\n",
      "Epoch 142/500\n",
      "15/15 [==============================] - 0s 5ms/step - loss: 749.3848 - val_loss: 892.6442\n",
      "Epoch 143/500\n",
      "15/15 [==============================] - 0s 6ms/step - loss: 734.4766 - val_loss: 884.3973\n",
      "Epoch 144/500\n",
      "15/15 [==============================] - 0s 6ms/step - loss: 719.7981 - val_loss: 876.3260\n",
      "Epoch 145/500\n",
      "15/15 [==============================] - 0s 5ms/step - loss: 705.3474 - val_loss: 868.4285\n",
      "Epoch 146/500\n",
      "15/15 [==============================] - 0s 6ms/step - loss: 691.1212 - val_loss: 860.7016\n",
      "Epoch 147/500\n",
      "15/15 [==============================] - 0s 6ms/step - loss: 677.1171 - val_loss: 853.1444\n",
      "Epoch 148/500\n",
      "15/15 [==============================] - 0s 6ms/step - loss: 663.3332 - val_loss: 845.7541\n",
      "Epoch 149/500\n",
      "15/15 [==============================] - 0s 5ms/step - loss: 649.7662 - val_loss: 838.5283\n",
      "Epoch 150/500\n",
      "15/15 [==============================] - 0s 6ms/step - loss: 636.4138 - val_loss: 831.4651\n",
      "Epoch 151/500\n",
      "15/15 [==============================] - 0s 6ms/step - loss: 623.2735 - val_loss: 824.5622\n",
      "Epoch 152/500\n",
      "15/15 [==============================] - 0s 13ms/step - loss: 610.3433 - val_loss: 817.8182\n",
      "Epoch 153/500\n",
      "15/15 [==============================] - 0s 7ms/step - loss: 597.6207 - val_loss: 811.2308\n",
      "Epoch 154/500\n",
      "15/15 [==============================] - 0s 5ms/step - loss: 585.1035 - val_loss: 804.7976\n",
      "Epoch 155/500\n",
      "15/15 [==============================] - 0s 5ms/step - loss: 572.7891 - val_loss: 798.5172\n",
      "Epoch 156/500\n",
      "15/15 [==============================] - 0s 6ms/step - loss: 560.6757 - val_loss: 792.3868\n",
      "Epoch 157/500\n",
      "15/15 [==============================] - 0s 6ms/step - loss: 548.7599 - val_loss: 786.4053\n",
      "Epoch 158/500\n",
      "15/15 [==============================] - 0s 5ms/step - loss: 537.0411 - val_loss: 780.5702\n",
      "Epoch 159/500\n",
      "15/15 [==============================] - 0s 6ms/step - loss: 525.5157 - val_loss: 774.8798\n",
      "Epoch 160/500\n",
      "15/15 [==============================] - 0s 5ms/step - loss: 514.1823 - val_loss: 769.3323\n",
      "Epoch 161/500\n",
      "15/15 [==============================] - 0s 6ms/step - loss: 503.0389 - val_loss: 763.9257\n",
      "Epoch 162/500\n",
      "15/15 [==============================] - 0s 6ms/step - loss: 492.0829 - val_loss: 758.6583\n",
      "Epoch 163/500\n",
      "15/15 [==============================] - 0s 5ms/step - loss: 481.3123 - val_loss: 753.5277\n",
      "Epoch 164/500\n",
      "15/15 [==============================] - 0s 4ms/step - loss: 470.7251 - val_loss: 748.5325\n",
      "Epoch 165/500\n",
      "15/15 [==============================] - 0s 5ms/step - loss: 460.3192 - val_loss: 743.6707\n",
      "Epoch 166/500\n",
      "15/15 [==============================] - 0s 5ms/step - loss: 450.0924 - val_loss: 738.9406\n",
      "Epoch 167/500\n",
      "15/15 [==============================] - 0s 6ms/step - loss: 440.0428 - val_loss: 734.3405\n",
      "Epoch 168/500\n",
      "15/15 [==============================] - 0s 6ms/step - loss: 430.1684 - val_loss: 729.8681\n",
      "Epoch 169/500\n",
      "15/15 [==============================] - 0s 7ms/step - loss: 420.4669 - val_loss: 725.5223\n",
      "Epoch 170/500\n",
      "15/15 [==============================] - 0s 7ms/step - loss: 410.9365 - val_loss: 721.3005\n",
      "Epoch 171/500\n",
      "15/15 [==============================] - 0s 5ms/step - loss: 401.5752 - val_loss: 717.2015\n",
      "Epoch 172/500\n",
      "15/15 [==============================] - 0s 6ms/step - loss: 392.3809 - val_loss: 713.2236\n",
      "Epoch 173/500\n",
      "15/15 [==============================] - 0s 5ms/step - loss: 383.3517 - val_loss: 709.3647\n",
      "Epoch 174/500\n",
      "15/15 [==============================] - 0s 5ms/step - loss: 374.4856 - val_loss: 705.6230\n",
      "Epoch 175/500\n",
      "15/15 [==============================] - 0s 5ms/step - loss: 365.7806 - val_loss: 701.9976\n",
      "Epoch 176/500\n",
      "15/15 [==============================] - 0s 6ms/step - loss: 357.2353 - val_loss: 698.4857\n",
      "Epoch 177/500\n",
      "15/15 [==============================] - 0s 6ms/step - loss: 348.8468 - val_loss: 695.0859\n",
      "Epoch 178/500\n",
      "15/15 [==============================] - 0s 5ms/step - loss: 340.6138 - val_loss: 691.7969\n",
      "Epoch 179/500\n",
      "15/15 [==============================] - 0s 9ms/step - loss: 332.5348 - val_loss: 688.6168\n",
      "Epoch 180/500\n",
      "15/15 [==============================] - 0s 6ms/step - loss: 324.6073 - val_loss: 685.5438\n",
      "Epoch 181/500\n",
      "15/15 [==============================] - 0s 6ms/step - loss: 316.8296 - val_loss: 682.5763\n",
      "Epoch 182/500\n",
      "15/15 [==============================] - 0s 6ms/step - loss: 309.2001 - val_loss: 679.7128\n",
      "Epoch 183/500\n",
      "15/15 [==============================] - 0s 6ms/step - loss: 301.7162 - val_loss: 676.9514\n",
      "Epoch 184/500\n",
      "15/15 [==============================] - 0s 5ms/step - loss: 294.3769 - val_loss: 674.2903\n",
      "Epoch 185/500\n",
      "15/15 [==============================] - 0s 5ms/step - loss: 287.1799 - val_loss: 671.7284\n",
      "Epoch 186/500\n",
      "15/15 [==============================] - 0s 5ms/step - loss: 280.1235 - val_loss: 669.2636\n",
      "Epoch 187/500\n",
      "15/15 [==============================] - 0s 5ms/step - loss: 273.2058 - val_loss: 666.8945\n",
      "Epoch 188/500\n",
      "15/15 [==============================] - 0s 6ms/step - loss: 266.4252 - val_loss: 664.6194\n",
      "Epoch 189/500\n",
      "15/15 [==============================] - 0s 5ms/step - loss: 259.7798 - val_loss: 662.4367\n",
      "Epoch 190/500\n",
      "15/15 [==============================] - 0s 5ms/step - loss: 253.2678 - val_loss: 660.3449\n",
      "Epoch 191/500\n",
      "15/15 [==============================] - 0s 5ms/step - loss: 246.8875 - val_loss: 658.3423\n",
      "Epoch 192/500\n",
      "15/15 [==============================] - 0s 5ms/step - loss: 240.6372 - val_loss: 656.4274\n",
      "Epoch 193/500\n",
      "15/15 [==============================] - 0s 6ms/step - loss: 234.5148 - val_loss: 654.5984\n",
      "Epoch 194/500\n",
      "15/15 [==============================] - 0s 6ms/step - loss: 228.5186 - val_loss: 652.8541\n",
      "Epoch 195/500\n",
      "15/15 [==============================] - 0s 4ms/step - loss: 222.6470 - val_loss: 651.1926\n",
      "Epoch 196/500\n",
      "15/15 [==============================] - 0s 4ms/step - loss: 216.8986 - val_loss: 649.6125\n",
      "Epoch 197/500\n",
      "15/15 [==============================] - 0s 5ms/step - loss: 211.2715 - val_loss: 648.1125\n",
      "Epoch 198/500\n",
      "15/15 [==============================] - 0s 5ms/step - loss: 205.7635 - val_loss: 646.6906\n",
      "Epoch 199/500\n",
      "15/15 [==============================] - 0s 5ms/step - loss: 200.3734 - val_loss: 645.3456\n",
      "Epoch 200/500\n",
      "15/15 [==============================] - 0s 5ms/step - loss: 195.0994 - val_loss: 644.0759\n",
      "Epoch 201/500\n",
      "15/15 [==============================] - 0s 5ms/step - loss: 189.9396 - val_loss: 642.8801\n",
      "Epoch 202/500\n",
      "15/15 [==============================] - 0s 5ms/step - loss: 184.8928 - val_loss: 641.7565\n",
      "Epoch 203/500\n",
      "15/15 [==============================] - 0s 5ms/step - loss: 179.9570 - val_loss: 640.7039\n",
      "Epoch 204/500\n",
      "15/15 [==============================] - 0s 5ms/step - loss: 175.1308 - val_loss: 639.7205\n",
      "Epoch 205/500\n",
      "15/15 [==============================] - 0s 6ms/step - loss: 170.4120 - val_loss: 638.8049\n",
      "Epoch 206/500\n",
      "15/15 [==============================] - 0s 4ms/step - loss: 165.7995 - val_loss: 637.9559\n",
      "Epoch 207/500\n",
      "15/15 [==============================] - 0s 4ms/step - loss: 161.2916 - val_loss: 637.1719\n",
      "Epoch 208/500\n",
      "15/15 [==============================] - 0s 11ms/step - loss: 156.8869 - val_loss: 636.4515\n",
      "Epoch 209/500\n",
      "15/15 [==============================] - 0s 5ms/step - loss: 152.5834 - val_loss: 635.7932\n",
      "Epoch 210/500\n",
      "15/15 [==============================] - 0s 6ms/step - loss: 148.3795 - val_loss: 635.1954\n",
      "Epoch 211/500\n",
      "15/15 [==============================] - 0s 6ms/step - loss: 144.2738 - val_loss: 634.6573\n",
      "Epoch 212/500\n",
      "15/15 [==============================] - 0s 5ms/step - loss: 140.2646 - val_loss: 634.1768\n",
      "Epoch 213/500\n",
      "15/15 [==============================] - 0s 5ms/step - loss: 136.3504 - val_loss: 633.7530\n",
      "Epoch 214/500\n",
      "15/15 [==============================] - 0s 5ms/step - loss: 132.5297 - val_loss: 633.3842\n",
      "Epoch 215/500\n",
      "15/15 [==============================] - 0s 5ms/step - loss: 128.8009 - val_loss: 633.0693\n",
      "Epoch 216/500\n",
      "15/15 [==============================] - 0s 5ms/step - loss: 125.1625 - val_loss: 632.8068\n",
      "Epoch 217/500\n",
      "15/15 [==============================] - 0s 5ms/step - loss: 121.6132 - val_loss: 632.5956\n",
      "Epoch 218/500\n",
      "15/15 [==============================] - 0s 6ms/step - loss: 118.1512 - val_loss: 632.4338\n",
      "Epoch 219/500\n",
      "15/15 [==============================] - 0s 7ms/step - loss: 114.7750 - val_loss: 632.3206\n",
      "Epoch 220/500\n",
      "15/15 [==============================] - 0s 6ms/step - loss: 111.4832 - val_loss: 632.2546\n",
      "Epoch 221/500\n",
      "15/15 [==============================] - 0s 6ms/step - loss: 108.2743 - val_loss: 632.2344\n",
      "Epoch 222/500\n",
      "15/15 [==============================] - 0s 6ms/step - loss: 105.1469 - val_loss: 632.2588\n",
      "Epoch 223/500\n",
      "15/15 [==============================] - 0s 6ms/step - loss: 102.0997 - val_loss: 632.3264\n",
      "Epoch 224/500\n",
      "15/15 [==============================] - 0s 5ms/step - loss: 99.1309 - val_loss: 632.4361\n",
      "Epoch 225/500\n",
      "15/15 [==============================] - 0s 5ms/step - loss: 96.2393 - val_loss: 632.5865\n",
      "Epoch 226/500\n",
      "15/15 [==============================] - 0s 6ms/step - loss: 93.4235 - val_loss: 632.7764\n",
      "Epoch 227/500\n",
      "15/15 [==============================] - 0s 6ms/step - loss: 90.6820 - val_loss: 633.0046\n",
      "Epoch 228/500\n",
      "15/15 [==============================] - 0s 5ms/step - loss: 88.0134 - val_loss: 633.2699\n",
      "Epoch 229/500\n",
      "15/15 [==============================] - 0s 5ms/step - loss: 85.4164 - val_loss: 633.5711\n",
      "Epoch 230/500\n",
      "15/15 [==============================] - 0s 5ms/step - loss: 82.8893 - val_loss: 633.9070\n",
      "Epoch 231/500\n",
      "15/15 [==============================] - 0s 5ms/step - loss: 80.4312 - val_loss: 634.2766\n",
      "Epoch 232/500\n",
      "15/15 [==============================] - 0s 4ms/step - loss: 78.0405 - val_loss: 634.6783\n",
      "Epoch 233/500\n",
      "15/15 [==============================] - 0s 4ms/step - loss: 75.7163 - val_loss: 635.1115\n",
      "Epoch 234/500\n",
      "15/15 [==============================] - 0s 5ms/step - loss: 73.4566 - val_loss: 635.5746\n",
      "Epoch 235/500\n",
      "15/15 [==============================] - 0s 6ms/step - loss: 71.2606 - val_loss: 636.0668\n",
      "Epoch 236/500\n",
      "15/15 [==============================] - 0s 5ms/step - loss: 69.1265 - val_loss: 636.5867\n",
      "Epoch 237/500\n",
      "15/15 [==============================] - 0s 5ms/step - loss: 67.0535 - val_loss: 637.1335\n",
      "Epoch 238/500\n",
      "15/15 [==============================] - 0s 6ms/step - loss: 65.0403 - val_loss: 637.7060\n",
      "Epoch 239/500\n",
      "15/15 [==============================] - 0s 5ms/step - loss: 63.0855 - val_loss: 638.3031\n",
      "Epoch 240/500\n",
      "15/15 [==============================] - 0s 11ms/step - loss: 61.1880 - val_loss: 638.9238\n",
      "Epoch 241/500\n",
      "15/15 [==============================] - 0s 7ms/step - loss: 59.3465 - val_loss: 639.5670\n",
      "Epoch 242/500\n",
      "15/15 [==============================] - 0s 5ms/step - loss: 57.5596 - val_loss: 640.2318\n",
      "Epoch 243/500\n",
      "15/15 [==============================] - 0s 6ms/step - loss: 55.8263 - val_loss: 640.9171\n",
      "Epoch 244/500\n",
      "15/15 [==============================] - 0s 5ms/step - loss: 54.1454 - val_loss: 641.6220\n",
      "Epoch 245/500\n",
      "15/15 [==============================] - 0s 5ms/step - loss: 52.5157 - val_loss: 642.3453\n",
      "Epoch 246/500\n",
      "15/15 [==============================] - 0s 5ms/step - loss: 50.9360 - val_loss: 643.0863\n",
      "Epoch 247/500\n",
      "15/15 [==============================] - 0s 5ms/step - loss: 49.4051 - val_loss: 643.8441\n",
      "Epoch 248/500\n",
      "15/15 [==============================] - 0s 5ms/step - loss: 47.9222 - val_loss: 644.6176\n",
      "Epoch 249/500\n",
      "15/15 [==============================] - 0s 6ms/step - loss: 46.4858 - val_loss: 645.4058\n",
      "Epoch 250/500\n",
      "15/15 [==============================] - 0s 5ms/step - loss: 45.0950 - val_loss: 646.2080\n",
      "Epoch 251/500\n",
      "15/15 [==============================] - 0s 5ms/step - loss: 43.7486 - val_loss: 647.0233\n",
      "Epoch 252/500\n",
      "15/15 [==============================] - 0s 5ms/step - loss: 42.4457 - val_loss: 647.8506\n",
      "Epoch 253/500\n",
      "15/15 [==============================] - 0s 5ms/step - loss: 41.1851 - val_loss: 648.6895\n",
      "Epoch 254/500\n",
      "15/15 [==============================] - 0s 5ms/step - loss: 39.9658 - val_loss: 649.5388\n",
      "Epoch 255/500\n",
      "15/15 [==============================] - 0s 5ms/step - loss: 38.7867 - val_loss: 650.3978\n",
      "Epoch 256/500\n",
      "15/15 [==============================] - 0s 6ms/step - loss: 37.6468 - val_loss: 651.2656\n",
      "Epoch 257/500\n",
      "15/15 [==============================] - 0s 6ms/step - loss: 36.5454 - val_loss: 652.1417\n",
      "Epoch 258/500\n",
      "15/15 [==============================] - 0s 6ms/step - loss: 35.4812 - val_loss: 653.0248\n",
      "Epoch 259/500\n",
      "15/15 [==============================] - 0s 5ms/step - loss: 34.4534 - val_loss: 653.9147\n",
      "Epoch 260/500\n",
      "15/15 [==============================] - 0s 5ms/step - loss: 33.4610 - val_loss: 654.8104\n",
      "Epoch 261/500\n",
      "15/15 [==============================] - 0s 6ms/step - loss: 32.5028 - val_loss: 655.7112\n",
      "Epoch 262/500\n",
      "15/15 [==============================] - 0s 5ms/step - loss: 31.5783 - val_loss: 656.6164\n",
      "Epoch 263/500\n",
      "15/15 [==============================] - 0s 5ms/step - loss: 30.6863 - val_loss: 657.5253\n",
      "Epoch 264/500\n",
      "15/15 [==============================] - 0s 5ms/step - loss: 29.8262 - val_loss: 658.4373\n",
      "Epoch 265/500\n",
      "15/15 [==============================] - 0s 5ms/step - loss: 28.9969 - val_loss: 659.3517\n",
      "Epoch 266/500\n",
      "15/15 [==============================] - 0s 11ms/step - loss: 28.1975 - val_loss: 660.2678\n",
      "Epoch 267/500\n",
      "15/15 [==============================] - 0s 6ms/step - loss: 27.4273 - val_loss: 661.1853\n",
      "Epoch 268/500\n",
      "15/15 [==============================] - 0s 6ms/step - loss: 26.6853 - val_loss: 662.1032\n",
      "Epoch 269/500\n",
      "15/15 [==============================] - 0s 6ms/step - loss: 25.9708 - val_loss: 663.0208\n",
      "Epoch 270/500\n",
      "15/15 [==============================] - 0s 6ms/step - loss: 25.2831 - val_loss: 663.9380\n",
      "Epoch 271/500\n",
      "15/15 [==============================] - 0s 5ms/step - loss: 24.6213 - val_loss: 664.8542\n",
      "Epoch 272/500\n",
      "15/15 [==============================] - 0s 4ms/step - loss: 23.9846 - val_loss: 665.7685\n",
      "Epoch 273/500\n",
      "15/15 [==============================] - 0s 5ms/step - loss: 23.3722 - val_loss: 666.6805\n",
      "Epoch 274/500\n",
      "15/15 [==============================] - 0s 6ms/step - loss: 22.7835 - val_loss: 667.5900\n",
      "Epoch 275/500\n",
      "15/15 [==============================] - 0s 6ms/step - loss: 22.2177 - val_loss: 668.4963\n",
      "Epoch 276/500\n",
      "15/15 [==============================] - 0s 4ms/step - loss: 21.6741 - val_loss: 669.3986\n",
      "Epoch 277/500\n",
      "15/15 [==============================] - 0s 5ms/step - loss: 21.1520 - val_loss: 670.2970\n",
      "Epoch 278/500\n",
      "15/15 [==============================] - 0s 6ms/step - loss: 20.6507 - val_loss: 671.1907\n",
      "Epoch 279/500\n",
      "15/15 [==============================] - 0s 6ms/step - loss: 20.1696 - val_loss: 672.0793\n",
      "Epoch 280/500\n",
      "15/15 [==============================] - 0s 6ms/step - loss: 19.7081 - val_loss: 672.9628\n",
      "Epoch 281/500\n",
      "15/15 [==============================] - 0s 6ms/step - loss: 19.2653 - val_loss: 673.8402\n",
      "Epoch 282/500\n",
      "15/15 [==============================] - 0s 6ms/step - loss: 18.8407 - val_loss: 674.7117\n",
      "Epoch 283/500\n",
      "15/15 [==============================] - 0s 5ms/step - loss: 18.4338 - val_loss: 675.5764\n",
      "Epoch 284/500\n",
      "15/15 [==============================] - 0s 6ms/step - loss: 18.0440 - val_loss: 676.4343\n",
      "Epoch 285/500\n",
      "15/15 [==============================] - 0s 5ms/step - loss: 17.6706 - val_loss: 677.2849\n",
      "Epoch 286/500\n",
      "15/15 [==============================] - 0s 6ms/step - loss: 17.3132 - val_loss: 678.1277\n",
      "Epoch 287/500\n",
      "15/15 [==============================] - 0s 5ms/step - loss: 16.9710 - val_loss: 678.9632\n",
      "Epoch 288/500\n",
      "15/15 [==============================] - 0s 5ms/step - loss: 16.6436 - val_loss: 679.7902\n",
      "Epoch 289/500\n",
      "15/15 [==============================] - 0s 6ms/step - loss: 16.3306 - val_loss: 680.6091\n",
      "Epoch 290/500\n",
      "15/15 [==============================] - 0s 11ms/step - loss: 16.0312 - val_loss: 681.4191\n",
      "Epoch 291/500\n",
      "15/15 [==============================] - 0s 5ms/step - loss: 15.7452 - val_loss: 682.2202\n",
      "Epoch 292/500\n",
      "15/15 [==============================] - 0s 6ms/step - loss: 15.4719 - val_loss: 683.0123\n",
      "Epoch 293/500\n",
      "15/15 [==============================] - 0s 5ms/step - loss: 15.2110 - val_loss: 683.7950\n",
      "Epoch 294/500\n",
      "15/15 [==============================] - 0s 4ms/step - loss: 14.9618 - val_loss: 684.5679\n",
      "Epoch 295/500\n",
      "15/15 [==============================] - 0s 5ms/step - loss: 14.7242 - val_loss: 685.3311\n",
      "Epoch 296/500\n",
      "15/15 [==============================] - 0s 6ms/step - loss: 14.4975 - val_loss: 686.0842\n",
      "Epoch 297/500\n",
      "15/15 [==============================] - 0s 5ms/step - loss: 14.2814 - val_loss: 686.8274\n",
      "Epoch 298/500\n",
      "15/15 [==============================] - 0s 5ms/step - loss: 14.0753 - val_loss: 687.5604\n",
      "Epoch 299/500\n",
      "15/15 [==============================] - 0s 6ms/step - loss: 13.8790 - val_loss: 688.2829\n",
      "Epoch 300/500\n",
      "15/15 [==============================] - 0s 4ms/step - loss: 13.6921 - val_loss: 688.9948\n",
      "Epoch 301/500\n",
      "15/15 [==============================] - 0s 5ms/step - loss: 13.5141 - val_loss: 689.6960\n",
      "Epoch 302/500\n",
      "15/15 [==============================] - 0s 5ms/step - loss: 13.3448 - val_loss: 690.3868\n",
      "Epoch 303/500\n",
      "15/15 [==============================] - 0s 6ms/step - loss: 13.1837 - val_loss: 691.0667\n",
      "Epoch 304/500\n",
      "15/15 [==============================] - 0s 5ms/step - loss: 13.0305 - val_loss: 691.7355\n",
      "Epoch 305/500\n",
      "15/15 [==============================] - 0s 5ms/step - loss: 12.8850 - val_loss: 692.3937\n",
      "Epoch 306/500\n",
      "15/15 [==============================] - 0s 5ms/step - loss: 12.7466 - val_loss: 693.0406\n",
      "Epoch 307/500\n",
      "15/15 [==============================] - 0s 6ms/step - loss: 12.6153 - val_loss: 693.6764\n",
      "Epoch 308/500\n",
      "15/15 [==============================] - 0s 5ms/step - loss: 12.4906 - val_loss: 694.3010\n",
      "Epoch 309/500\n",
      "15/15 [==============================] - 0s 5ms/step - loss: 12.3723 - val_loss: 694.9147\n",
      "Epoch 310/500\n",
      "15/15 [==============================] - 0s 5ms/step - loss: 12.2601 - val_loss: 695.5170\n",
      "Epoch 311/500\n",
      "15/15 [==============================] - 0s 5ms/step - loss: 12.1537 - val_loss: 696.1083\n",
      "Epoch 312/500\n",
      "15/15 [==============================] - 0s 4ms/step - loss: 12.0529 - val_loss: 696.6884\n",
      "Epoch 313/500\n",
      "15/15 [==============================] - 0s 5ms/step - loss: 11.9574 - val_loss: 697.2574\n",
      "Epoch 314/500\n",
      "15/15 [==============================] - 0s 6ms/step - loss: 11.8669 - val_loss: 697.8152\n",
      "Epoch 315/500\n",
      "15/15 [==============================] - 0s 5ms/step - loss: 11.7814 - val_loss: 698.3613\n",
      "Epoch 316/500\n",
      "15/15 [==============================] - 0s 4ms/step - loss: 11.7004 - val_loss: 698.8970\n",
      "Epoch 317/500\n",
      "15/15 [==============================] - 0s 5ms/step - loss: 11.6238 - val_loss: 699.4213\n",
      "Epoch 318/500\n",
      "15/15 [==============================] - 0s 5ms/step - loss: 11.5515 - val_loss: 699.9348\n",
      "Epoch 319/500\n",
      "15/15 [==============================] - 0s 5ms/step - loss: 11.4831 - val_loss: 700.4371\n",
      "Epoch 320/500\n",
      "15/15 [==============================] - 0s 4ms/step - loss: 11.4186 - val_loss: 700.9286\n",
      "Epoch 321/500\n",
      "15/15 [==============================] - 0s 6ms/step - loss: 11.3576 - val_loss: 701.4094\n",
      "Epoch 322/500\n",
      "15/15 [==============================] - 0s 5ms/step - loss: 11.3001 - val_loss: 701.8792\n",
      "Epoch 323/500\n",
      "15/15 [==============================] - 0s 12ms/step - loss: 11.2459 - val_loss: 702.3388\n",
      "Epoch 324/500\n",
      "15/15 [==============================] - 0s 5ms/step - loss: 11.1947 - val_loss: 702.7875\n",
      "Epoch 325/500\n",
      "15/15 [==============================] - 0s 5ms/step - loss: 11.1466 - val_loss: 703.2258\n",
      "Epoch 326/500\n",
      "15/15 [==============================] - 0s 5ms/step - loss: 11.1012 - val_loss: 703.6534\n",
      "Epoch 327/500\n",
      "15/15 [==============================] - 0s 6ms/step - loss: 11.0585 - val_loss: 704.0711\n",
      "Epoch 328/500\n",
      "15/15 [==============================] - 0s 4ms/step - loss: 11.0182 - val_loss: 704.4781\n",
      "Epoch 329/500\n",
      "15/15 [==============================] - 0s 5ms/step - loss: 10.9805 - val_loss: 704.8754\n",
      "Epoch 330/500\n",
      "15/15 [==============================] - 0s 5ms/step - loss: 10.9449 - val_loss: 705.2630\n",
      "Epoch 331/500\n",
      "15/15 [==============================] - 0s 6ms/step - loss: 10.9114 - val_loss: 705.6404\n",
      "Epoch 332/500\n",
      "15/15 [==============================] - 0s 5ms/step - loss: 10.8801 - val_loss: 706.0082\n",
      "Epoch 333/500\n",
      "15/15 [==============================] - 0s 5ms/step - loss: 10.8507 - val_loss: 706.3664\n",
      "Epoch 334/500\n",
      "15/15 [==============================] - 0s 5ms/step - loss: 10.8230 - val_loss: 706.7151\n",
      "Epoch 335/500\n",
      "15/15 [==============================] - 0s 5ms/step - loss: 10.7970 - val_loss: 707.0544\n",
      "Epoch 336/500\n",
      "15/15 [==============================] - 0s 5ms/step - loss: 10.7727 - val_loss: 707.3846\n",
      "Epoch 337/500\n",
      "15/15 [==============================] - 0s 5ms/step - loss: 10.7500 - val_loss: 707.7056\n",
      "Epoch 338/500\n",
      "15/15 [==============================] - 0s 5ms/step - loss: 10.7286 - val_loss: 708.0182\n",
      "Epoch 339/500\n",
      "15/15 [==============================] - 0s 5ms/step - loss: 10.7086 - val_loss: 708.3217\n",
      "Epoch 340/500\n",
      "15/15 [==============================] - 0s 5ms/step - loss: 10.6899 - val_loss: 708.6168\n",
      "Epoch 341/500\n",
      "15/15 [==============================] - 0s 5ms/step - loss: 10.6724 - val_loss: 708.9031\n",
      "Epoch 342/500\n",
      "15/15 [==============================] - 0s 6ms/step - loss: 10.6560 - val_loss: 709.1813\n",
      "Epoch 343/500\n",
      "15/15 [==============================] - 0s 5ms/step - loss: 10.6407 - val_loss: 709.4510\n",
      "Epoch 344/500\n",
      "15/15 [==============================] - 0s 5ms/step - loss: 10.6264 - val_loss: 709.7130\n",
      "Epoch 345/500\n",
      "15/15 [==============================] - 0s 5ms/step - loss: 10.6131 - val_loss: 709.9672\n",
      "Epoch 346/500\n",
      "15/15 [==============================] - 0s 5ms/step - loss: 10.6006 - val_loss: 710.2133\n",
      "Epoch 347/500\n",
      "15/15 [==============================] - 0s 5ms/step - loss: 10.5890 - val_loss: 710.4522\n",
      "Epoch 348/500\n",
      "15/15 [==============================] - 0s 5ms/step - loss: 10.5782 - val_loss: 710.6835\n",
      "Epoch 349/500\n",
      "15/15 [==============================] - 0s 5ms/step - loss: 10.5681 - val_loss: 710.9078\n",
      "Epoch 350/500\n",
      "15/15 [==============================] - 0s 5ms/step - loss: 10.5586 - val_loss: 711.1246\n",
      "Epoch 351/500\n",
      "15/15 [==============================] - 0s 5ms/step - loss: 10.5499 - val_loss: 711.3347\n",
      "Epoch 352/500\n",
      "15/15 [==============================] - 0s 5ms/step - loss: 10.5417 - val_loss: 711.5379\n",
      "Epoch 353/500\n",
      "15/15 [==============================] - 0s 6ms/step - loss: 10.5342 - val_loss: 711.7344\n",
      "Epoch 354/500\n",
      "15/15 [==============================] - 0s 12ms/step - loss: 10.5271 - val_loss: 711.9246\n",
      "Epoch 355/500\n",
      "15/15 [==============================] - 0s 6ms/step - loss: 10.5205 - val_loss: 712.1083\n",
      "Epoch 356/500\n",
      "15/15 [==============================] - 0s 5ms/step - loss: 10.5144 - val_loss: 712.2858\n",
      "Epoch 357/500\n",
      "15/15 [==============================] - 0s 5ms/step - loss: 10.5088 - val_loss: 712.4574\n",
      "Epoch 358/500\n",
      "15/15 [==============================] - 0s 6ms/step - loss: 10.5035 - val_loss: 712.6229\n",
      "Epoch 359/500\n",
      "15/15 [==============================] - 0s 6ms/step - loss: 10.4986 - val_loss: 712.7827\n",
      "Epoch 360/500\n",
      "15/15 [==============================] - 0s 4ms/step - loss: 10.4941 - val_loss: 712.9370\n",
      "Epoch 361/500\n",
      "15/15 [==============================] - 0s 6ms/step - loss: 10.4899 - val_loss: 713.0858\n",
      "Epoch 362/500\n",
      "15/15 [==============================] - 0s 5ms/step - loss: 10.4860 - val_loss: 713.2292\n",
      "Epoch 363/500\n",
      "15/15 [==============================] - 0s 6ms/step - loss: 10.4825 - val_loss: 713.3673\n",
      "Epoch 364/500\n",
      "15/15 [==============================] - 0s 4ms/step - loss: 10.4791 - val_loss: 713.5005\n",
      "Epoch 365/500\n",
      "15/15 [==============================] - 0s 6ms/step - loss: 10.4760 - val_loss: 713.6289\n",
      "Epoch 366/500\n",
      "15/15 [==============================] - 0s 5ms/step - loss: 10.4732 - val_loss: 713.7520\n",
      "Epoch 367/500\n",
      "15/15 [==============================] - 0s 6ms/step - loss: 10.4706 - val_loss: 713.8710\n",
      "Epoch 368/500\n",
      "15/15 [==============================] - 0s 4ms/step - loss: 10.4681 - val_loss: 713.9853\n",
      "Epoch 369/500\n",
      "15/15 [==============================] - 0s 5ms/step - loss: 10.4659 - val_loss: 714.0953\n",
      "Epoch 370/500\n",
      "15/15 [==============================] - 0s 5ms/step - loss: 10.4638 - val_loss: 714.2008\n",
      "Epoch 371/500\n",
      "15/15 [==============================] - 0s 5ms/step - loss: 10.4619 - val_loss: 714.3019\n",
      "Epoch 372/500\n",
      "15/15 [==============================] - 0s 5ms/step - loss: 10.4601 - val_loss: 714.3997\n",
      "Epoch 373/500\n",
      "15/15 [==============================] - 0s 5ms/step - loss: 10.4585 - val_loss: 714.4935\n",
      "Epoch 374/500\n",
      "15/15 [==============================] - 0s 5ms/step - loss: 10.4570 - val_loss: 714.5834\n",
      "Epoch 375/500\n",
      "15/15 [==============================] - 0s 5ms/step - loss: 10.4556 - val_loss: 714.6698\n",
      "Epoch 376/500\n",
      "15/15 [==============================] - 0s 5ms/step - loss: 10.4543 - val_loss: 714.7526\n",
      "Epoch 377/500\n",
      "15/15 [==============================] - 0s 5ms/step - loss: 10.4532 - val_loss: 714.8319\n",
      "Epoch 378/500\n",
      "15/15 [==============================] - 0s 8ms/step - loss: 10.4521 - val_loss: 714.9081\n",
      "Epoch 379/500\n",
      "15/15 [==============================] - 0s 14ms/step - loss: 10.4511 - val_loss: 714.9810\n",
      "Epoch 380/500\n",
      "15/15 [==============================] - 0s 5ms/step - loss: 10.4502 - val_loss: 715.0505\n",
      "Epoch 381/500\n",
      "15/15 [==============================] - 0s 5ms/step - loss: 10.4494 - val_loss: 715.1171\n",
      "Epoch 382/500\n",
      "15/15 [==============================] - 0s 6ms/step - loss: 10.4487 - val_loss: 715.1812\n",
      "Epoch 383/500\n",
      "15/15 [==============================] - 0s 6ms/step - loss: 10.4480 - val_loss: 715.2425\n",
      "Epoch 384/500\n",
      "15/15 [==============================] - 0s 5ms/step - loss: 10.4474 - val_loss: 715.3009\n",
      "Epoch 385/500\n",
      "15/15 [==============================] - 0s 6ms/step - loss: 10.4468 - val_loss: 715.3572\n",
      "Epoch 386/500\n",
      "15/15 [==============================] - 0s 5ms/step - loss: 10.4463 - val_loss: 715.4105\n",
      "Epoch 387/500\n",
      "15/15 [==============================] - 0s 6ms/step - loss: 10.4458 - val_loss: 715.4615\n",
      "Epoch 388/500\n",
      "15/15 [==============================] - 0s 6ms/step - loss: 10.4454 - val_loss: 715.5103\n",
      "Epoch 389/500\n",
      "15/15 [==============================] - 0s 5ms/step - loss: 10.4450 - val_loss: 715.5570\n",
      "Epoch 390/500\n",
      "15/15 [==============================] - 0s 5ms/step - loss: 10.4447 - val_loss: 715.6014\n",
      "Epoch 391/500\n",
      "15/15 [==============================] - 0s 6ms/step - loss: 10.4443 - val_loss: 715.6437\n",
      "Epoch 392/500\n",
      "15/15 [==============================] - 0s 5ms/step - loss: 10.4441 - val_loss: 715.6843\n",
      "Epoch 393/500\n",
      "15/15 [==============================] - 0s 5ms/step - loss: 10.4438 - val_loss: 715.7227\n",
      "Epoch 394/500\n",
      "15/15 [==============================] - 0s 5ms/step - loss: 10.4436 - val_loss: 715.7594\n",
      "Epoch 395/500\n",
      "15/15 [==============================] - 0s 5ms/step - loss: 10.4434 - val_loss: 715.7943\n",
      "Epoch 396/500\n",
      "15/15 [==============================] - 0s 5ms/step - loss: 10.4432 - val_loss: 715.8275\n",
      "Epoch 397/500\n",
      "15/15 [==============================] - 0s 6ms/step - loss: 10.4431 - val_loss: 715.8589\n",
      "Epoch 398/500\n",
      "15/15 [==============================] - 0s 5ms/step - loss: 10.4429 - val_loss: 715.8889\n",
      "Epoch 399/500\n",
      "15/15 [==============================] - 0s 6ms/step - loss: 10.4429 - val_loss: 715.9174\n",
      "Epoch 400/500\n",
      "15/15 [==============================] - 0s 5ms/step - loss: 10.4428 - val_loss: 715.9448\n",
      "Epoch 401/500\n",
      "15/15 [==============================] - 0s 6ms/step - loss: 10.4427 - val_loss: 715.9705\n",
      "Epoch 402/500\n",
      "15/15 [==============================] - 0s 5ms/step - loss: 10.4427 - val_loss: 715.9950\n",
      "Epoch 403/500\n",
      "15/15 [==============================] - 0s 11ms/step - loss: 10.4426 - val_loss: 716.0179\n",
      "Epoch 404/500\n",
      "15/15 [==============================] - 0s 5ms/step - loss: 10.4426 - val_loss: 716.0399\n",
      "Epoch 405/500\n",
      "15/15 [==============================] - 0s 5ms/step - loss: 10.4426 - val_loss: 716.0609\n",
      "Epoch 406/500\n",
      "15/15 [==============================] - 0s 5ms/step - loss: 10.4426 - val_loss: 716.0804\n",
      "Epoch 407/500\n",
      "15/15 [==============================] - 0s 6ms/step - loss: 10.4426 - val_loss: 716.0990\n",
      "Epoch 408/500\n",
      "15/15 [==============================] - 0s 6ms/step - loss: 10.4426 - val_loss: 716.1165\n",
      "Epoch 409/500\n",
      "15/15 [==============================] - 0s 5ms/step - loss: 10.4427 - val_loss: 716.1334\n",
      "Epoch 410/500\n",
      "15/15 [==============================] - 0s 6ms/step - loss: 10.4427 - val_loss: 716.1495\n",
      "Epoch 411/500\n",
      "15/15 [==============================] - 0s 5ms/step - loss: 10.4428 - val_loss: 716.1646\n",
      "Epoch 412/500\n",
      "15/15 [==============================] - 0s 5ms/step - loss: 10.4428 - val_loss: 716.1785\n",
      "Epoch 413/500\n",
      "15/15 [==============================] - 0s 7ms/step - loss: 10.4429 - val_loss: 716.1918\n",
      "Epoch 414/500\n",
      "15/15 [==============================] - 0s 7ms/step - loss: 10.4429 - val_loss: 716.2045\n",
      "Epoch 415/500\n",
      "15/15 [==============================] - 0s 7ms/step - loss: 10.4430 - val_loss: 716.2164\n",
      "Epoch 416/500\n",
      "15/15 [==============================] - 0s 7ms/step - loss: 10.4431 - val_loss: 716.2272\n",
      "Epoch 417/500\n",
      "15/15 [==============================] - 0s 7ms/step - loss: 10.4432 - val_loss: 716.2379\n",
      "Epoch 418/500\n",
      "15/15 [==============================] - 0s 7ms/step - loss: 10.4433 - val_loss: 716.2479\n",
      "Epoch 419/500\n",
      "15/15 [==============================] - 0s 6ms/step - loss: 10.4434 - val_loss: 716.2570\n",
      "Epoch 420/500\n",
      "15/15 [==============================] - 0s 5ms/step - loss: 10.4435 - val_loss: 716.2660\n",
      "Epoch 421/500\n",
      "15/15 [==============================] - 0s 6ms/step - loss: 10.4436 - val_loss: 716.2742\n",
      "Epoch 422/500\n",
      "15/15 [==============================] - 0s 5ms/step - loss: 10.4437 - val_loss: 716.2821\n",
      "Epoch 423/500\n",
      "15/15 [==============================] - 0s 5ms/step - loss: 10.4438 - val_loss: 716.2891\n",
      "Epoch 424/500\n",
      "15/15 [==============================] - 0s 5ms/step - loss: 10.4440 - val_loss: 716.2961\n",
      "Epoch 425/500\n",
      "15/15 [==============================] - 0s 4ms/step - loss: 10.4441 - val_loss: 716.3022\n",
      "Epoch 426/500\n",
      "15/15 [==============================] - 0s 5ms/step - loss: 10.4442 - val_loss: 716.3082\n",
      "Epoch 427/500\n",
      "15/15 [==============================] - 0s 6ms/step - loss: 10.4443 - val_loss: 716.3138\n",
      "Epoch 428/500\n",
      "15/15 [==============================] - 0s 5ms/step - loss: 10.4445 - val_loss: 716.3187\n",
      "Epoch 429/500\n",
      "15/15 [==============================] - 0s 5ms/step - loss: 10.4446 - val_loss: 716.3238\n",
      "Epoch 430/500\n",
      "15/15 [==============================] - 0s 11ms/step - loss: 10.4448 - val_loss: 716.3282\n",
      "Epoch 431/500\n",
      "15/15 [==============================] - 0s 5ms/step - loss: 10.4449 - val_loss: 716.3326\n",
      "Epoch 432/500\n",
      "15/15 [==============================] - 0s 6ms/step - loss: 10.4451 - val_loss: 716.3365\n",
      "Epoch 433/500\n",
      "15/15 [==============================] - 0s 5ms/step - loss: 10.4452 - val_loss: 716.3400\n",
      "Epoch 434/500\n",
      "15/15 [==============================] - 0s 6ms/step - loss: 10.4453 - val_loss: 716.3434\n",
      "Epoch 435/500\n",
      "15/15 [==============================] - 0s 6ms/step - loss: 10.4455 - val_loss: 716.3464\n",
      "Epoch 436/500\n",
      "15/15 [==============================] - 0s 5ms/step - loss: 10.4457 - val_loss: 716.3494\n",
      "Epoch 437/500\n",
      "15/15 [==============================] - 0s 5ms/step - loss: 10.4458 - val_loss: 716.3522\n",
      "Epoch 438/500\n",
      "15/15 [==============================] - 0s 5ms/step - loss: 10.4459 - val_loss: 716.3544\n",
      "Epoch 439/500\n",
      "15/15 [==============================] - 0s 5ms/step - loss: 10.4461 - val_loss: 716.3566\n",
      "Epoch 440/500\n",
      "15/15 [==============================] - 0s 6ms/step - loss: 10.4463 - val_loss: 716.3589\n",
      "Epoch 441/500\n",
      "15/15 [==============================] - 0s 5ms/step - loss: 10.4464 - val_loss: 716.3607\n",
      "Epoch 442/500\n",
      "15/15 [==============================] - 0s 5ms/step - loss: 10.4466 - val_loss: 716.3626\n",
      "Epoch 443/500\n",
      "15/15 [==============================] - 0s 5ms/step - loss: 10.4467 - val_loss: 716.3640\n",
      "Epoch 444/500\n",
      "15/15 [==============================] - 0s 6ms/step - loss: 10.4470 - val_loss: 716.3654\n",
      "Epoch 445/500\n",
      "15/15 [==============================] - 0s 5ms/step - loss: 10.4471 - val_loss: 716.3669\n",
      "Epoch 446/500\n",
      "15/15 [==============================] - 0s 5ms/step - loss: 10.4473 - val_loss: 716.3680\n",
      "Epoch 447/500\n",
      "15/15 [==============================] - 0s 5ms/step - loss: 10.4475 - val_loss: 716.3693\n",
      "Epoch 448/500\n",
      "15/15 [==============================] - 0s 6ms/step - loss: 10.4477 - val_loss: 716.3703\n",
      "Epoch 449/500\n",
      "15/15 [==============================] - 0s 6ms/step - loss: 10.4478 - val_loss: 716.3712\n",
      "Epoch 450/500\n",
      "15/15 [==============================] - 0s 5ms/step - loss: 10.4480 - val_loss: 716.3721\n",
      "Epoch 451/500\n",
      "15/15 [==============================] - 0s 6ms/step - loss: 10.4481 - val_loss: 716.3726\n",
      "Epoch 452/500\n",
      "15/15 [==============================] - 0s 5ms/step - loss: 10.4483 - val_loss: 716.3730\n",
      "Epoch 453/500\n",
      "15/15 [==============================] - 0s 6ms/step - loss: 10.4485 - val_loss: 716.3737\n",
      "Epoch 454/500\n",
      "15/15 [==============================] - 0s 5ms/step - loss: 10.4487 - val_loss: 716.3742\n",
      "Epoch 455/500\n",
      "15/15 [==============================] - 0s 5ms/step - loss: 10.4489 - val_loss: 716.3747\n",
      "Epoch 456/500\n",
      "15/15 [==============================] - 0s 8ms/step - loss: 10.4491 - val_loss: 716.3751\n",
      "Epoch 457/500\n",
      "15/15 [==============================] - 0s 6ms/step - loss: 10.4492 - val_loss: 716.3751\n",
      "Epoch 458/500\n",
      "15/15 [==============================] - 0s 5ms/step - loss: 10.4494 - val_loss: 716.3752\n",
      "Epoch 459/500\n",
      "15/15 [==============================] - 0s 6ms/step - loss: 10.4496 - val_loss: 716.3753\n",
      "Epoch 460/500\n",
      "15/15 [==============================] - 0s 5ms/step - loss: 10.4498 - val_loss: 716.3755\n",
      "Epoch 461/500\n",
      "15/15 [==============================] - 0s 5ms/step - loss: 10.4499 - val_loss: 716.3756\n",
      "Epoch 462/500\n",
      "15/15 [==============================] - 0s 6ms/step - loss: 10.4501 - val_loss: 716.3757\n",
      "Epoch 463/500\n",
      "15/15 [==============================] - 0s 4ms/step - loss: 10.4503 - val_loss: 716.3755\n",
      "Epoch 464/500\n",
      "15/15 [==============================] - 0s 5ms/step - loss: 10.4505 - val_loss: 716.3757\n",
      "Epoch 465/500\n",
      "15/15 [==============================] - 0s 5ms/step - loss: 10.4507 - val_loss: 716.3754\n",
      "Epoch 466/500\n",
      "15/15 [==============================] - 0s 6ms/step - loss: 10.4509 - val_loss: 716.3753\n",
      "Epoch 467/500\n",
      "15/15 [==============================] - 0s 4ms/step - loss: 10.4510 - val_loss: 716.3752\n",
      "Epoch 468/500\n",
      "15/15 [==============================] - 0s 6ms/step - loss: 10.4513 - val_loss: 716.3752\n",
      "Epoch 469/500\n",
      "15/15 [==============================] - 0s 5ms/step - loss: 10.4514 - val_loss: 716.3749\n",
      "Epoch 470/500\n",
      "15/15 [==============================] - 0s 6ms/step - loss: 10.4516 - val_loss: 716.3749\n",
      "Epoch 471/500\n",
      "15/15 [==============================] - 0s 4ms/step - loss: 10.4518 - val_loss: 716.3745\n",
      "Epoch 472/500\n",
      "15/15 [==============================] - 0s 6ms/step - loss: 10.4519 - val_loss: 716.3741\n",
      "Epoch 473/500\n",
      "15/15 [==============================] - 0s 5ms/step - loss: 10.4521 - val_loss: 716.3737\n",
      "Epoch 474/500\n",
      "15/15 [==============================] - 0s 5ms/step - loss: 10.4523 - val_loss: 716.3734\n",
      "Epoch 475/500\n",
      "15/15 [==============================] - 0s 4ms/step - loss: 10.4525 - val_loss: 716.3731\n",
      "Epoch 476/500\n",
      "15/15 [==============================] - 0s 6ms/step - loss: 10.4527 - val_loss: 716.3729\n",
      "Epoch 477/500\n",
      "15/15 [==============================] - 0s 5ms/step - loss: 10.4529 - val_loss: 716.3725\n",
      "Epoch 478/500\n",
      "15/15 [==============================] - 0s 5ms/step - loss: 10.4530 - val_loss: 716.3721\n",
      "Epoch 479/500\n",
      "15/15 [==============================] - 0s 6ms/step - loss: 10.4532 - val_loss: 716.3718\n",
      "Epoch 480/500\n",
      "15/15 [==============================] - 0s 5ms/step - loss: 10.4534 - val_loss: 716.3715\n",
      "Epoch 481/500\n",
      "15/15 [==============================] - 0s 5ms/step - loss: 10.4536 - val_loss: 716.3710\n",
      "Epoch 482/500\n",
      "15/15 [==============================] - 0s 6ms/step - loss: 10.4537 - val_loss: 716.3704\n",
      "Epoch 483/500\n",
      "15/15 [==============================] - 0s 5ms/step - loss: 10.4540 - val_loss: 716.3702\n",
      "Epoch 484/500\n",
      "15/15 [==============================] - 0s 4ms/step - loss: 10.4542 - val_loss: 716.3700\n",
      "Epoch 485/500\n",
      "15/15 [==============================] - 0s 11ms/step - loss: 10.4543 - val_loss: 716.3694\n",
      "Epoch 486/500\n",
      "15/15 [==============================] - 0s 6ms/step - loss: 10.4545 - val_loss: 716.3690\n",
      "Epoch 487/500\n",
      "15/15 [==============================] - 0s 6ms/step - loss: 10.4547 - val_loss: 716.3684\n",
      "Epoch 488/500\n",
      "15/15 [==============================] - 0s 6ms/step - loss: 10.4548 - val_loss: 716.3681\n",
      "Epoch 489/500\n",
      "15/15 [==============================] - 0s 5ms/step - loss: 10.4550 - val_loss: 716.3679\n",
      "Epoch 490/500\n",
      "15/15 [==============================] - 0s 5ms/step - loss: 10.4552 - val_loss: 716.3676\n",
      "Epoch 491/500\n",
      "15/15 [==============================] - 0s 6ms/step - loss: 10.4554 - val_loss: 716.3669\n",
      "Epoch 492/500\n",
      "15/15 [==============================] - 0s 5ms/step - loss: 10.4556 - val_loss: 716.3665\n",
      "Epoch 493/500\n",
      "15/15 [==============================] - 0s 5ms/step - loss: 10.4558 - val_loss: 716.3658\n",
      "Epoch 494/500\n",
      "15/15 [==============================] - 0s 4ms/step - loss: 10.4559 - val_loss: 716.3655\n",
      "Epoch 495/500\n",
      "15/15 [==============================] - 0s 5ms/step - loss: 10.4561 - val_loss: 716.3654\n",
      "Epoch 496/500\n",
      "15/15 [==============================] - 0s 4ms/step - loss: 10.4563 - val_loss: 716.3649\n",
      "Epoch 497/500\n",
      "15/15 [==============================] - 0s 5ms/step - loss: 10.4564 - val_loss: 716.3643\n",
      "Epoch 498/500\n",
      "15/15 [==============================] - 0s 4ms/step - loss: 10.4567 - val_loss: 716.3637\n",
      "Epoch 499/500\n",
      "15/15 [==============================] - 0s 5ms/step - loss: 10.4568 - val_loss: 716.3633\n",
      "Epoch 500/500\n",
      "15/15 [==============================] - 0s 6ms/step - loss: 10.4570 - val_loss: 716.3630\n"
     ]
    }
   ],
   "source": [
    "C0 = tf.Variable(89.3180, name=\"C0\", trainable=True, dtype=tf.float32)\n",
    "K0 = tf.Variable(-0.0010, name=\"K0\", trainable=True, dtype=tf.float32)\n",
    "K1 = tf.Variable(0.0001, name=\"K1\", trainable=True, dtype=tf.float32)\n",
    "a = tf.Variable(0.0000, name=\"a\", trainable=True, dtype=tf.float32)\n",
    "b = tf.Variable(-0.0204, name=\"b\", trainable=True, dtype=tf.float32)\n",
    "c = tf.Variable(2.2194, name=\"c\", trainable=True, dtype=tf.float32)\n",
    "\n",
    "splitr = 0.8\n",
    "\n",
    "\n",
    "def loss_fn(y_true, y_pred):\n",
    "    squared_difference = tf.square(y_true[:, 0] - y_pred[:, 0])\n",
    "    #squared_difference2 = tf.square(y_true[:, 2]-y_pred[:, 2])\n",
    "    #squared_difference1 = tf.square(y_true[:, 1]-y_pred[:, 1])\n",
    "    epsilon = 1\n",
    "    squared_difference3 = tf.square(\n",
    "        y_pred[:, 1] - (\n",
    "            y_pred[:, 0] * (\n",
    "                K0 - K1 * (\n",
    "                    9 * a * tf.math.log((y_pred[:, 0] + epsilon) / C0) / (K0 - K1 * c)**2 +\n",
    "                    4 * b * tf.math.log((y_pred[:, 0] + epsilon) / C0) / (K0 - K1 * c) + c\n",
    "                )\n",
    "            )\n",
    "        )\n",
    "    )\n",
    "    return tf.reduce_mean(squared_difference, axis=-1) + 0.2*tf.reduce_mean(squared_difference3, axis=-1)\n",
    "model = Sequential()\n",
    "model.add(LSTM(100, input_shape=(trainX.shape[1], trainX.shape[2])))\n",
    "model.add(Dense(60))\n",
    "model.compile(loss=loss_fn, optimizer='adam')\n",
    "history = model.fit(trainX[:int(splitr*trainX.shape[0])], trainy[:int(splitr*trainX.shape[0])], epochs=500, batch_size=64, validation_data=(trainX[int(splitr*trainX.shape[0]):trainX.shape[0]], trainy[int(splitr*trainX.shape[0]):trainX.shape[0]]), shuffle=False)"
   ]
  },
  {
   "cell_type": "code",
   "execution_count": 19,
   "metadata": {
    "colab": {
     "base_uri": "https://localhost:8080/"
    },
    "id": "yJL101rPyuoT",
    "outputId": "239ff2b1-c186-423a-d316-939dfdd7c793"
   },
   "outputs": [
    {
     "name": "stdout",
     "output_type": "stream",
     "text": [
      "1/1 [==============================] - 0s 434ms/step\n"
     ]
    }
   ],
   "source": [
    "forecast_without_mc = forecastX\n",
    "yhat_without_mc = model.predict(forecast_without_mc) # Step Ahead Prediction\n",
    "forecast_without_mc = forecast_without_mc.reshape((forecast_without_mc.shape[0], forecast_without_mc.shape[2])) # Historical Input"
   ]
  },
  {
   "cell_type": "code",
   "execution_count": 20,
   "metadata": {
    "colab": {
     "base_uri": "https://localhost:8080/"
    },
    "id": "g9dQELcJ8wbp",
    "outputId": "4dc7671b-b1a8-48d5-8744-a86f98446109"
   },
   "outputs": [
    {
     "data": {
      "text/plain": [
       "(1, 1, 251)"
      ]
     },
     "execution_count": 20,
     "metadata": {},
     "output_type": "execute_result"
    }
   ],
   "source": [
    "forecastX.shape"
   ]
  },
  {
   "cell_type": "code",
   "execution_count": 21,
   "metadata": {
    "colab": {
     "base_uri": "https://localhost:8080/"
    },
    "id": "IS2kyIKG1Kbr",
    "outputId": "f31b3485-8e26-452f-9298-ea8bf7e80ad1"
   },
   "outputs": [
    {
     "data": {
      "text/plain": [
       "(1, 251)"
      ]
     },
     "execution_count": 21,
     "metadata": {},
     "output_type": "execute_result"
    }
   ],
   "source": [
    "forecast_without_mc.shape"
   ]
  },
  {
   "cell_type": "code",
   "execution_count": 22,
   "metadata": {
    "id": "0u6VIzaDyuoT"
   },
   "outputs": [],
   "source": [
    "inv_yhat_without_mc = np.concatenate((forecast_without_mc, yhat_without_mc), axis=1) # Concatenation of predicted values with Historical Data\n",
    "#inv_yhat_without_mc = scaler.inverse_transform(inv_yhat_without_mc) # Transform labels back to original encoding"
   ]
  },
  {
   "cell_type": "code",
   "execution_count": 23,
   "metadata": {
    "colab": {
     "base_uri": "https://localhost:8080/"
    },
    "id": "EUEcw0LX07oU",
    "outputId": "cfc32397-9c37-4b43-d087-584bb31c3dcc"
   },
   "outputs": [
    {
     "data": {
      "text/plain": [
       "(1, 311)"
      ]
     },
     "execution_count": 23,
     "metadata": {},
     "output_type": "execute_result"
    }
   ],
   "source": [
    "inv_yhat_without_mc.shape"
   ]
  },
  {
   "cell_type": "code",
   "execution_count": 24,
   "metadata": {
    "id": "31OWVbSh_305"
   },
   "outputs": [],
   "source": [
    "fforecast = inv_yhat_without_mc[:,-300:]"
   ]
  },
  {
   "cell_type": "code",
   "execution_count": 25,
   "metadata": {},
   "outputs": [
    {
     "data": {
      "text/plain": [
       "(1, 300)"
      ]
     },
     "execution_count": 25,
     "metadata": {},
     "output_type": "execute_result"
    }
   ],
   "source": [
    "fforecast.shape"
   ]
  },
  {
   "cell_type": "code",
   "execution_count": 26,
   "metadata": {
    "id": "BlpGH2FOAiRF"
   },
   "outputs": [],
   "source": [
    "final_forecast = fforecast[:,0:300:3]"
   ]
  },
  {
   "cell_type": "code",
   "execution_count": 27,
   "metadata": {},
   "outputs": [
    {
     "data": {
      "text/plain": [
       "(1, 300)"
      ]
     },
     "execution_count": 27,
     "metadata": {},
     "output_type": "execute_result"
    }
   ],
   "source": [
    "fforecast.shape"
   ]
  },
  {
   "cell_type": "code",
   "execution_count": 28,
   "metadata": {
    "id": "CXkgkj_LBk_t"
   },
   "outputs": [],
   "source": [
    "# code to replace all negative value with 0\n",
    "final_forecast[final_forecast<0] = 0"
   ]
  },
  {
   "cell_type": "code",
   "execution_count": 29,
   "metadata": {},
   "outputs": [
    {
     "data": {
      "text/plain": [
       "array([[71.83769608, 71.82677171, 71.81584734, 71.80492297, 71.7939986 ,\n",
       "        71.78307423, 71.77214986, 71.76122549, 71.75030112, 71.73937675,\n",
       "        71.72845238, 71.71752801, 71.70660364, 77.1410131 , 77.0821895 ,\n",
       "        77.023366  , 76.9645425 , 76.9057189 , 76.8089636 , 76.7081232 ,\n",
       "        76.6072829 , 76.5064426 , 76.4056022 , 76.3047619 , 76.2039216 ,\n",
       "        76.1030812 , 76.0022409 , 75.9014006 , 75.8005602 , 75.6994865 ,\n",
       "        75.5146125 , 75.3297386 , 75.1448646 , 74.9599907 , 74.7751167 ,\n",
       "        74.5902428 , 74.4053688 , 74.2204949 , 74.0356209 , 73.850747  ,\n",
       "         0.5742355 ,  0.        ,  0.27123213,  0.        ,  0.57749879,\n",
       "         0.        ,  0.40946245, 76.1254902 , 76.0246499 , 75.9238095 ,\n",
       "        75.8229692 , 75.7221289 , 75.5556956 , 75.3708217 , 75.1859477 ,\n",
       "        75.0010738 , 74.8161998 , 74.6313259 , 74.4464519 , 74.261578  ,\n",
       "        74.076704  , 73.8918301 , 73.7069561 , 73.5220822 , 73.3882656 ,\n",
       "        73.2613749 , 73.1344841 , 73.0075934 , 72.8807026 , 72.7538119 ,\n",
       "        72.6269211 , 72.5000304 , 72.3731396 , 78.6927795 ,  0.9902429 ,\n",
       "         0.        ,  0.        ,  0.36618945,  0.16172466,  0.22942515,\n",
       "        59.2555542 ,  0.        ,  0.        ,  0.        ,  0.        ,\n",
       "         0.89246899,  0.50985813,  0.66019022,  0.34030467,  0.        ,\n",
       "         0.44063538,  0.78543335,  0.46440023,  0.        ,  0.        ,\n",
       "         0.        ,  0.14912394,  0.        ,  0.        ,  0.        ]])"
      ]
     },
     "execution_count": 29,
     "metadata": {},
     "output_type": "execute_result"
    }
   ],
   "source": [
    "final_forecast"
   ]
  },
  {
   "cell_type": "code",
   "execution_count": 30,
   "metadata": {},
   "outputs": [
    {
     "data": {
      "text/plain": [
       "(1, 100)"
      ]
     },
     "execution_count": 30,
     "metadata": {},
     "output_type": "execute_result"
    }
   ],
   "source": [
    "final_forecast.shape"
   ]
  },
  {
   "cell_type": "code",
   "execution_count": 31,
   "metadata": {},
   "outputs": [
    {
     "data": {
      "text/plain": [
       "(100,)"
      ]
     },
     "execution_count": 31,
     "metadata": {},
     "output_type": "execute_result"
    }
   ],
   "source": [
    "test.shape"
   ]
  },
  {
   "cell_type": "code",
   "execution_count": 32,
   "metadata": {},
   "outputs": [],
   "source": [
    "training_set = np.array(training_set)\n",
    "test = np.array(test)\n",
    "final_forecast = np.array(final_forecast.squeeze(0))"
   ]
  },
  {
   "cell_type": "code",
   "execution_count": 33,
   "metadata": {},
   "outputs": [
    {
     "data": {
      "text/plain": [
       "array([68.75105042, 68.75011671, 68.74918301, 68.7482493 , 68.74731559,\n",
       "       68.74638189, 68.74544818, 68.74451447, 68.74358077, 68.74264706,\n",
       "       68.74171335, 68.74077965, 68.73984594, 68.73891223, 68.73797852,\n",
       "       68.73704482, 68.73611111, 68.7351774 , 68.7342437 , 68.73330999,\n",
       "       68.73237628, 68.73144258, 68.73050887, 68.72957516, 68.72864146,\n",
       "       68.72770775, 68.72677404, 68.72584034, 68.72490663, 68.72397292,\n",
       "       68.72303922, 68.72210551, 68.7211718 , 68.7202381 , 68.71930439,\n",
       "       68.71837068, 68.71743697, 68.71650327, 68.71556956, 68.71463585,\n",
       "       68.71370215, 68.71276844, 68.71183473, 68.71090103, 68.70996732,\n",
       "       68.70903361, 68.70809991, 68.7071662 , 68.70623249, 68.70529879,\n",
       "       68.70436508, 68.70343137, 68.70249767, 68.70156396, 68.70063025,\n",
       "       68.69939309, 68.69752568, 68.69565826, 68.69379085, 68.69192344,\n",
       "       68.69005602, 68.68818861, 68.6863212 , 68.68445378, 68.68258637,\n",
       "       68.68071895, 68.67885154, 68.67698413, 68.67511671, 68.6732493 ,\n",
       "       68.67138189, 68.66951447, 68.66764706, 68.66577965, 68.66391223,\n",
       "       68.66204482, 68.6601774 , 68.65830999, 68.65644258, 68.65457516,\n",
       "       68.65270775, 68.65084034, 68.64897292, 68.64710551, 68.6452381 ,\n",
       "       68.64337068, 68.64150327, 68.63963585, 68.63776844, 68.63590103,\n",
       "       68.63403361, 68.6321662 , 68.63029879, 68.62843137, 68.62656396,\n",
       "       68.62469655, 68.62282913, 68.62096172, 68.6190943 , 68.61722689])"
      ]
     },
     "execution_count": 33,
     "metadata": {},
     "output_type": "execute_result"
    }
   ],
   "source": [
    "test"
   ]
  },
  {
   "cell_type": "code",
   "execution_count": 34,
   "metadata": {},
   "outputs": [
    {
     "data": {
      "text/plain": [
       "(100,)"
      ]
     },
     "execution_count": 34,
     "metadata": {},
     "output_type": "execute_result"
    }
   ],
   "source": [
    "test.shape"
   ]
  },
  {
   "cell_type": "code",
   "execution_count": 35,
   "metadata": {},
   "outputs": [
    {
     "data": {
      "text/plain": [
       "(100,)"
      ]
     },
     "execution_count": 35,
     "metadata": {},
     "output_type": "execute_result"
    }
   ],
   "source": [
    "final_forecast.shape"
   ]
  },
  {
   "cell_type": "code",
   "execution_count": 36,
   "metadata": {},
   "outputs": [
    {
     "data": {
      "text/plain": [
       "(100,)"
      ]
     },
     "execution_count": 36,
     "metadata": {},
     "output_type": "execute_result"
    }
   ],
   "source": [
    "test.shape"
   ]
  },
  {
   "cell_type": "code",
   "execution_count": 37,
   "metadata": {},
   "outputs": [
    {
     "name": "stdout",
     "output_type": "stream",
     "text": [
      "39.02456129118098\n",
      "25.8337734401426\n"
     ]
    }
   ],
   "source": [
    "import math\n",
    "MSE = np.square(np.subtract(np.array(test),np.array(final_forecast))).mean()   \n",
    "rsme = math.sqrt(MSE)\n",
    "print(rsme)  \n",
    "MAE = np.abs(np.subtract(np.array(test),np.array(final_forecast))).mean()   \n",
    "mae = MAE\n",
    "print(mae)"
   ]
  }
 ],
 "metadata": {
  "colab": {
   "provenance": []
  },
  "kernelspec": {
   "display_name": "Python 3",
   "language": "python",
   "name": "python3"
  },
  "language_info": {
   "codemirror_mode": {
    "name": "ipython",
    "version": 3
   },
   "file_extension": ".py",
   "mimetype": "text/x-python",
   "name": "python",
   "nbconvert_exporter": "python",
   "pygments_lexer": "ipython3",
   "version": "3.9.13"
  }
 },
 "nbformat": 4,
 "nbformat_minor": 0
}
