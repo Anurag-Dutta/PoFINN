{
 "cells": [
  {
   "cell_type": "markdown",
   "metadata": {
    "id": "pCGKeZ2gyuoQ"
   },
   "source": [
    "_Importing Required Libraries_"
   ]
  },
  {
   "cell_type": "code",
   "execution_count": 1,
   "metadata": {
    "colab": {
     "base_uri": "https://localhost:8080/"
    },
    "id": "A-6LN-zXiLcM",
    "outputId": "4de610a4-f8b8-4f49-c6c0-89de299ccedc"
   },
   "outputs": [
    {
     "name": "stdout",
     "output_type": "stream",
     "text": [
      "Requirement already satisfied: hampel in c:\\users\\anurag dutta\\appdata\\local\\packages\\pythonsoftwarefoundation.python.3.9_qbz5n2kfra8p0\\localcache\\local-packages\\python39\\site-packages (0.0.5)\n",
      "Requirement already satisfied: numpy in c:\\users\\anurag dutta\\appdata\\local\\packages\\pythonsoftwarefoundation.python.3.9_qbz5n2kfra8p0\\localcache\\local-packages\\python39\\site-packages (from hampel) (1.26.4)\n",
      "Requirement already satisfied: pandas in c:\\users\\anurag dutta\\appdata\\local\\packages\\pythonsoftwarefoundation.python.3.9_qbz5n2kfra8p0\\localcache\\local-packages\\python39\\site-packages (from hampel) (1.5.2)\n",
      "Requirement already satisfied: python-dateutil>=2.8.1 in c:\\users\\anurag dutta\\appdata\\local\\packages\\pythonsoftwarefoundation.python.3.9_qbz5n2kfra8p0\\localcache\\local-packages\\python39\\site-packages (from pandas->hampel) (2.8.2)\n",
      "Requirement already satisfied: pytz>=2020.1 in c:\\users\\anurag dutta\\appdata\\local\\packages\\pythonsoftwarefoundation.python.3.9_qbz5n2kfra8p0\\localcache\\local-packages\\python39\\site-packages (from pandas->hampel) (2023.3.post1)\n",
      "Requirement already satisfied: six>=1.5 in c:\\users\\anurag dutta\\appdata\\local\\packages\\pythonsoftwarefoundation.python.3.9_qbz5n2kfra8p0\\localcache\\local-packages\\python39\\site-packages (from python-dateutil>=2.8.1->pandas->hampel) (1.16.0)\n",
      "Note: you may need to restart the kernel to use updated packages.\n"
     ]
    },
    {
     "name": "stderr",
     "output_type": "stream",
     "text": [
      "\n",
      "[notice] A new release of pip is available: 24.2 -> 24.3.1\n",
      "[notice] To update, run: C:\\Users\\Anurag Dutta\\AppData\\Local\\Microsoft\\WindowsApps\\PythonSoftwareFoundation.Python.3.9_qbz5n2kfra8p0\\python.exe -m pip install --upgrade pip\n"
     ]
    }
   ],
   "source": [
    "pip install hampel"
   ]
  },
  {
   "cell_type": "code",
   "execution_count": 2,
   "metadata": {
    "id": "By_d9uXpaFvZ"
   },
   "outputs": [],
   "source": [
    "from keras.models import Sequential\n",
    "from keras.layers import Dense\n",
    "from keras.layers import LSTM\n",
    "from keras.layers import Dropout\n",
    "import keras\n",
    "import tensorflow as tf\n",
    "from hampel import hampel\n",
    "import numpy as np\n",
    "import matplotlib.pyplot as plt\n",
    "import pandas as pd\n",
    "from sklearn.preprocessing import MinMaxScaler\n",
    "from sklearn.metrics import mean_squared_error, mean_absolute_error\n",
    "from math import sqrt\n",
    "from matplotlib import pyplot\n",
    "from numpy import array"
   ]
  },
  {
   "cell_type": "markdown",
   "metadata": {
    "id": "JyOjBMFayuoR"
   },
   "source": [
    "## Pretraining"
   ]
  },
  {
   "cell_type": "markdown",
   "metadata": {
    "id": "-5QqIY_GyuoR"
   },
   "source": [
    "The `capa_intermittency.dat` feeds the model with the dynamics of the Capacitor"
   ]
  },
  {
   "cell_type": "code",
   "execution_count": 3,
   "metadata": {
    "id": "9dV4a8yfyuoR"
   },
   "outputs": [],
   "source": [
    "data = np.genfromtxt('capa_intermittency.dat')\n",
    "training_set = pd.DataFrame(data).reset_index(drop=True)\n",
    "training_set = training_set.iloc[:,0]"
   ]
  },
  {
   "cell_type": "markdown",
   "metadata": {
    "id": "i7easoxByuoR"
   },
   "source": [
    "## Computing the Gradient"
   ]
  },
  {
   "cell_type": "markdown",
   "metadata": {
    "id": "5SnyolJTyuoR"
   },
   "source": [
    "_Calculating the value of_ $\\frac{dx}{dt}$"
   ]
  },
  {
   "cell_type": "code",
   "execution_count": 4,
   "metadata": {
    "colab": {
     "base_uri": "https://localhost:8080/"
    },
    "id": "wmIbVfIvyuoR",
    "outputId": "aa4e3136-c854-465d-d2e9-81cfd546e440"
   },
   "outputs": [
    {
     "name": "stdout",
     "output_type": "stream",
     "text": [
      "1.0\n",
      "1        0.000298\n",
      "2        0.000298\n",
      "3        0.000297\n",
      "4        0.000297\n",
      "5        0.000297\n",
      "           ...   \n",
      "9996     0.000018\n",
      "9997     0.000018\n",
      "9998     0.000018\n",
      "9999     0.000018\n",
      "10000    0.000018\n",
      "Name: 0, Length: 10000, dtype: float64\n"
     ]
    }
   ],
   "source": [
    "t_diff = 1\n",
    "print(training_set.max())\n",
    "gradient_t = (training_set.diff()/t_diff).iloc[1:] # dx/dt\n",
    "print(gradient_t)"
   ]
  },
  {
   "cell_type": "markdown",
   "metadata": {
    "id": "_2eVeeoxyuoS"
   },
   "source": [
    "## Loading Datasets"
   ]
  },
  {
   "cell_type": "code",
   "execution_count": 5,
   "metadata": {
    "id": "0J-NKyIEyuoS"
   },
   "outputs": [
    {
     "data": {
      "text/plain": [
       "0       92.600000\n",
       "1       92.387115\n",
       "2       92.174230\n",
       "3       91.961345\n",
       "4       91.748459\n",
       "          ...    \n",
       "1645    68.755719\n",
       "1646    68.754785\n",
       "1647    68.753852\n",
       "1648    68.752918\n",
       "1649    68.751984\n",
       "Name: C7, Length: 1650, dtype: float64"
      ]
     },
     "execution_count": 5,
     "metadata": {},
     "output_type": "execute_result"
    }
   ],
   "source": [
    "data = pd.read_csv(\"c7_interpolated_1550_100.csv\")\n",
    "training_set = data.iloc[:, 1]\n",
    "training_set"
   ]
  },
  {
   "cell_type": "code",
   "execution_count": 6,
   "metadata": {
    "colab": {
     "base_uri": "https://localhost:8080/"
    },
    "id": "-CbNUhJ74UqF",
    "outputId": "20f562d8-8247-49cc-b9c3-00eca5e13e2d"
   },
   "outputs": [
    {
     "data": {
      "text/plain": [
       "0       92.600000\n",
       "1       92.387115\n",
       "2       92.174230\n",
       "3       91.961345\n",
       "4       91.748459\n",
       "          ...    \n",
       "1545     0.000000\n",
       "1546     0.730837\n",
       "1547     0.000000\n",
       "1548     0.000000\n",
       "1549     1.365777\n",
       "Name: C7, Length: 1550, dtype: float64"
      ]
     },
     "execution_count": 6,
     "metadata": {},
     "output_type": "execute_result"
    }
   ],
   "source": [
    "test = training_set.tail(100)\n",
    "test\n",
    "training_set = training_set.head(1550)\n",
    "training_set"
   ]
  },
  {
   "cell_type": "code",
   "execution_count": 7,
   "metadata": {
    "colab": {
     "base_uri": "https://localhost:8080/"
    },
    "id": "X0TwTcq0yuoS",
    "outputId": "37252ed8-d88e-4044-fa7a-922411990b5b"
   },
   "outputs": [
    {
     "name": "stdout",
     "output_type": "stream",
     "text": [
      "0       0.000298\n",
      "1       0.000298\n",
      "2       0.000297\n",
      "3       0.000297\n",
      "4       0.000297\n",
      "          ...   \n",
      "9995    0.000018\n",
      "9996    0.000018\n",
      "9997    0.000018\n",
      "9998    0.000018\n",
      "9999    0.000018\n",
      "Name: 0, Length: 10000, dtype: float64\n"
     ]
    }
   ],
   "source": [
    "training_set = training_set.reset_index(drop=True)\n",
    "gradient_t = gradient_t.reset_index(drop=True)\n",
    "print(gradient_t)"
   ]
  },
  {
   "cell_type": "code",
   "execution_count": 8,
   "metadata": {
    "id": "O2biznZQyuoS"
   },
   "outputs": [],
   "source": [
    "df = pd.concat((training_set, gradient_t), axis=1)\n",
    "df.columns = ['y_t', 'grad_t']"
   ]
  },
  {
   "cell_type": "code",
   "execution_count": 9,
   "metadata": {
    "colab": {
     "base_uri": "https://localhost:8080/",
     "height": 423
    },
    "id": "sk_a5v3tyuoS",
    "outputId": "17563625-e550-45ae-faab-fafa353e44da"
   },
   "outputs": [
    {
     "data": {
      "text/html": [
       "<div>\n",
       "<style scoped>\n",
       "    .dataframe tbody tr th:only-of-type {\n",
       "        vertical-align: middle;\n",
       "    }\n",
       "\n",
       "    .dataframe tbody tr th {\n",
       "        vertical-align: top;\n",
       "    }\n",
       "\n",
       "    .dataframe thead th {\n",
       "        text-align: right;\n",
       "    }\n",
       "</style>\n",
       "<table border=\"1\" class=\"dataframe\">\n",
       "  <thead>\n",
       "    <tr style=\"text-align: right;\">\n",
       "      <th></th>\n",
       "      <th>y_t</th>\n",
       "      <th>grad_t</th>\n",
       "    </tr>\n",
       "  </thead>\n",
       "  <tbody>\n",
       "    <tr>\n",
       "      <th>0</th>\n",
       "      <td>92.600000</td>\n",
       "      <td>0.000298</td>\n",
       "    </tr>\n",
       "    <tr>\n",
       "      <th>1</th>\n",
       "      <td>92.387115</td>\n",
       "      <td>0.000298</td>\n",
       "    </tr>\n",
       "    <tr>\n",
       "      <th>2</th>\n",
       "      <td>92.174230</td>\n",
       "      <td>0.000297</td>\n",
       "    </tr>\n",
       "    <tr>\n",
       "      <th>3</th>\n",
       "      <td>91.961345</td>\n",
       "      <td>0.000297</td>\n",
       "    </tr>\n",
       "    <tr>\n",
       "      <th>4</th>\n",
       "      <td>91.748459</td>\n",
       "      <td>0.000297</td>\n",
       "    </tr>\n",
       "    <tr>\n",
       "      <th>...</th>\n",
       "      <td>...</td>\n",
       "      <td>...</td>\n",
       "    </tr>\n",
       "    <tr>\n",
       "      <th>9995</th>\n",
       "      <td>NaN</td>\n",
       "      <td>0.000018</td>\n",
       "    </tr>\n",
       "    <tr>\n",
       "      <th>9996</th>\n",
       "      <td>NaN</td>\n",
       "      <td>0.000018</td>\n",
       "    </tr>\n",
       "    <tr>\n",
       "      <th>9997</th>\n",
       "      <td>NaN</td>\n",
       "      <td>0.000018</td>\n",
       "    </tr>\n",
       "    <tr>\n",
       "      <th>9998</th>\n",
       "      <td>NaN</td>\n",
       "      <td>0.000018</td>\n",
       "    </tr>\n",
       "    <tr>\n",
       "      <th>9999</th>\n",
       "      <td>NaN</td>\n",
       "      <td>0.000018</td>\n",
       "    </tr>\n",
       "  </tbody>\n",
       "</table>\n",
       "<p>10000 rows × 2 columns</p>\n",
       "</div>"
      ],
      "text/plain": [
       "            y_t    grad_t\n",
       "0     92.600000  0.000298\n",
       "1     92.387115  0.000298\n",
       "2     92.174230  0.000297\n",
       "3     91.961345  0.000297\n",
       "4     91.748459  0.000297\n",
       "...         ...       ...\n",
       "9995        NaN  0.000018\n",
       "9996        NaN  0.000018\n",
       "9997        NaN  0.000018\n",
       "9998        NaN  0.000018\n",
       "9999        NaN  0.000018\n",
       "\n",
       "[10000 rows x 2 columns]"
      ]
     },
     "execution_count": 9,
     "metadata": {},
     "output_type": "execute_result"
    }
   ],
   "source": [
    "df"
   ]
  },
  {
   "cell_type": "markdown",
   "metadata": {
    "id": "-5esyHu5aFvg"
   },
   "source": [
    "## Plot of the External Forcing from Chaotic Differential Equation"
   ]
  },
  {
   "cell_type": "code",
   "execution_count": 10,
   "metadata": {
    "colab": {
     "base_uri": "https://localhost:8080/",
     "height": 447
    },
    "id": "hGnE43tOh-4p",
    "outputId": "fc396503-b624-4fa5-dfbe-f460207405c6"
   },
   "outputs": [
    {
     "data": {
      "text/plain": [
       "<Axes: >"
      ]
     },
     "execution_count": 10,
     "metadata": {},
     "output_type": "execute_result"
    },
    {
     "data": {
      "image/png": "[encoded data removed]",
      "text/plain": [
       "<Figure size 432x288 with 1 Axes>"
      ]
     },
     "metadata": {
      "needs_background": "light"
     },
     "output_type": "display_data"
    }
   ],
   "source": [
    "df.iloc[:, 0].plot()"
   ]
  },
  {
   "cell_type": "code",
   "execution_count": 11,
   "metadata": {
    "colab": {
     "base_uri": "https://localhost:8080/",
     "height": 447
    },
    "id": "ym4xWUUxaFvg",
    "outputId": "ae6a3495-8ce9-437e-ba81-3ed31deedeae"
   },
   "outputs": [
    {
     "name": "stderr",
     "output_type": "stream",
     "text": [
      "C:\\Users\\Anurag Dutta\\AppData\\Local\\Packages\\PythonSoftwareFoundation.Python.3.9_qbz5n2kfra8p0\\LocalCache\\local-packages\\Python39\\site-packages\\pandas\\core\\arraylike.py:402: RuntimeWarning: divide by zero encountered in log\n",
      "  result = getattr(ufunc, method)(*inputs, **kwargs)\n"
     ]
    },
    {
     "data": {
      "text/plain": [
       "<Axes: >"
      ]
     },
     "execution_count": 11,
     "metadata": {},
     "output_type": "execute_result"
    },
    {
     "data": {
      "image/png": "[encoded data removed]",
      "text/plain": [
       "<Figure size 432x288 with 1 Axes>"
      ]
     },
     "metadata": {
      "needs_background": "light"
     },
     "output_type": "display_data"
    }
   ],
   "source": [
    "import numpy as np\n",
    "c0 = 89.3180  # Value for C0\n",
    "K0 = -0.0010  # Value for K0\n",
    "K1 = 0.0001  # Value for K1\n",
    "a = 0.0000    # Value for a\n",
    "b = -0.0204    # Value for b\n",
    "c = 2.2194    # Value for c\n",
    "\n",
    "L = np.minimum(c0, (df.iloc[:, 1] - (df.iloc[:, 0] * (K0 - K1 * (9 * a * np.log(df.iloc[:, 0] / c0) / (K0 - K1 * c)**2 + 4 * b * np.log(df.iloc[:, 0] / c0) / (K0 - K1 * c) + c)))))\n",
    "L.plot()"
   ]
  },
  {
   "cell_type": "markdown",
   "metadata": {
    "id": "9VyEywnwaFvh"
   },
   "source": [
    "## Preprocessing the data into supervised learning"
   ]
  },
  {
   "cell_type": "code",
   "execution_count": 12,
   "metadata": {
    "id": "6V9dXqzdaFvh"
   },
   "outputs": [],
   "source": [
    "# split a sequence into samples\n",
    "def Supervised(data, n_in=1, n_out=1, dropnan=True):\n",
    "    n_vars = 1 if type(data) is list else data.shape[1]\n",
    "    df = pd.DataFrame(data)\n",
    "    cols, names = list(), list()\n",
    "    # input sequence (t-n_in, ... t-1)\n",
    "    for i in range(n_in, 0, -1):\n",
    "        cols.append(df.shift(i))\n",
    "        names += [('var%d(t-%d)' % (j+1, i)) for j in range(n_vars)]\n",
    "    # forecast sequence (t, t+1, ... t+n_out)\n",
    "    for i in range(0, n_out):\n",
    "      cols.append(df.shift(-i))\n",
    "      if i == 0:\n",
    "        names += [('var%d(t)' % (j+1)) for j in range(n_vars)]\n",
    "      else:\n",
    "        names += [('var%d(t+%d)' % (j+1, i)) for j in range(n_vars)]\n",
    "    # put it all together\n",
    "    agg = pd.concat(cols, axis=1)\n",
    "    agg.columns = names\n",
    "    # drop rows with NaN values\n",
    "    if dropnan:\n",
    "       agg.dropna(inplace=True)\n",
    "    return agg"
   ]
  },
  {
   "cell_type": "code",
   "execution_count": 13,
   "metadata": {
    "colab": {
     "base_uri": "https://localhost:8080/"
    },
    "id": "CrzSrT1HnyfH",
    "outputId": "7e75f928-3e47-499d-eac1-51908015ef78"
   },
   "outputs": [
    {
     "name": "stdout",
     "output_type": "stream",
     "text": [
      "     var1(t-350)  var1(t-349)  var1(t-348)  var1(t-347)  var1(t-346)  \\\n",
      "350    92.600000    92.387115    92.174230    91.961345    91.748459   \n",
      "351    92.387115    92.174230    91.961345    91.748459    91.535574   \n",
      "352    92.174230    91.961345    91.748459    91.535574    91.322689   \n",
      "353    91.961345    91.748459    91.535574    91.322689    91.109804   \n",
      "354    91.748459    91.535574    91.322689    91.109804    90.896919   \n",
      "\n",
      "     var1(t-345)  var1(t-344)  var1(t-343)  var1(t-342)  var1(t-341)  ...  \\\n",
      "350    91.535574    91.322689    91.109804    90.896919    90.691597  ...   \n",
      "351    91.322689    91.109804    90.896919    90.691597    90.579552  ...   \n",
      "352    91.109804    90.896919    90.691597    90.579552    90.467507  ...   \n",
      "353    90.896919    90.691597    90.579552    90.467507    90.355462  ...   \n",
      "354    90.691597    90.579552    90.467507    90.355462    90.243417  ...   \n",
      "\n",
      "     var1(t+95)  var2(t+95)  var1(t+96)  var2(t+96)  var1(t+97)  var2(t+97)  \\\n",
      "350   80.261671    0.000263   80.252334    0.000263   80.242997    0.000263   \n",
      "351   80.252334    0.000263   80.242997    0.000263   80.233660    0.000262   \n",
      "352   80.242997    0.000263   80.233660    0.000262   80.224323    0.000262   \n",
      "353   80.233660    0.000262   80.224323    0.000262   80.214986    0.000262   \n",
      "354   80.224323    0.000262   80.214986    0.000262   80.205649    0.000262   \n",
      "\n",
      "     var1(t+98)  var2(t+98)  var1(t+99)  var2(t+99)  \n",
      "350   80.233660    0.000262   80.224323    0.000262  \n",
      "351   80.224323    0.000262   80.214986    0.000262  \n",
      "352   80.214986    0.000262   80.205649    0.000262  \n",
      "353   80.205649    0.000262   80.196312    0.000262  \n",
      "354   80.196312    0.000262   80.186975    0.000262  \n",
      "\n",
      "[5 rows x 551 columns]\n",
      "Index(['var1(t-350)', 'var1(t-349)', 'var1(t-348)', 'var1(t-347)',\n",
      "       'var1(t-346)', 'var1(t-345)', 'var1(t-344)', 'var1(t-343)',\n",
      "       'var1(t-342)', 'var1(t-341)',\n",
      "       ...\n",
      "       'var1(t+95)', 'var2(t+95)', 'var1(t+96)', 'var2(t+96)', 'var1(t+97)',\n",
      "       'var2(t+97)', 'var1(t+98)', 'var2(t+98)', 'var1(t+99)', 'var2(t+99)'],\n",
      "      dtype='object', length=551)\n"
     ]
    }
   ],
   "source": [
    "data = Supervised(df.values, n_in = 350, n_out = 100)\n",
    "\n",
    "\n",
    "cols_to_drop = []\n",
    "for i in range(2, 351):\n",
    "    cols_to_drop.extend([f'var2(t-{i})'])\n",
    "\n",
    "data.drop(cols_to_drop, axis=1, inplace=True)\n",
    "\n",
    "print(data.head())\n",
    "print(data.columns)"
   ]
  },
  {
   "cell_type": "code",
   "execution_count": 14,
   "metadata": {
    "id": "AfPf60oy6Pe4"
   },
   "outputs": [],
   "source": [
    "train = np.array(data[0:len(data)-1])\n",
    "forecast = np.array(data.tail(1))"
   ]
  },
  {
   "cell_type": "code",
   "execution_count": 15,
   "metadata": {
    "id": "WSAafzI37KiT"
   },
   "outputs": [],
   "source": [
    "trainy = train[:,-300:]\n",
    "trainX = train[:,:-300]"
   ]
  },
  {
   "cell_type": "code",
   "execution_count": 16,
   "metadata": {
    "id": "2SrOqVJA7f50"
   },
   "outputs": [],
   "source": [
    "forecasty = forecast[:,-300:]\n",
    "forecastX = forecast[:,:-300]"
   ]
  },
  {
   "cell_type": "code",
   "execution_count": 17,
   "metadata": {
    "colab": {
     "base_uri": "https://localhost:8080/"
    },
    "id": "Qno_k8Nw7saY",
    "outputId": "c4a88db5-d8c6-489f-cdb2-06b24e293cff"
   },
   "outputs": [
    {
     "name": "stdout",
     "output_type": "stream",
     "text": [
      "(1100, 1, 251) (1100, 300) (1, 1, 251)\n"
     ]
    }
   ],
   "source": [
    "trainX = trainX.reshape((trainX.shape[0], 1, trainX.shape[1]))\n",
    "forecastX = forecastX.reshape((forecastX.shape[0], 1, forecastX.shape[1]))\n",
    "print(trainX.shape, trainy.shape, forecastX.shape)"
   ]
  },
  {
   "cell_type": "code",
   "execution_count": 18,
   "metadata": {
    "colab": {
     "base_uri": "https://localhost:8080/"
    },
    "id": "b1Jp2DvNuNFx",
    "outputId": "d0e5b3c4-64f1-438c-eade-8dfeaac8e285"
   },
   "outputs": [
    {
     "name": "stdout",
     "output_type": "stream",
     "text": [
      "Epoch 1/500\n",
      "14/14 [==============================] - 3s 42ms/step - loss: 5960.3667 - val_loss: 4768.3853\n",
      "Epoch 2/500\n",
      "14/14 [==============================] - 0s 8ms/step - loss: 5885.7407 - val_loss: 4722.0488\n",
      "Epoch 3/500\n",
      "14/14 [==============================] - 0s 8ms/step - loss: 5830.8115 - val_loss: 4660.3828\n",
      "Epoch 4/500\n",
      "14/14 [==============================] - 0s 6ms/step - loss: 5758.9175 - val_loss: 4612.6470\n",
      "Epoch 5/500\n",
      "14/14 [==============================] - 0s 6ms/step - loss: 5703.1084 - val_loss: 4565.0898\n",
      "Epoch 6/500\n",
      "14/14 [==============================] - 0s 6ms/step - loss: 5647.7314 - val_loss: 4518.0547\n",
      "Epoch 7/500\n",
      "14/14 [==============================] - 0s 5ms/step - loss: 5592.9189 - val_loss: 4471.5234\n",
      "Epoch 8/500\n",
      "14/14 [==============================] - 0s 5ms/step - loss: 5538.6294 - val_loss: 4425.4556\n",
      "Epoch 9/500\n",
      "14/14 [==============================] - 0s 7ms/step - loss: 5484.8232 - val_loss: 4371.5371\n",
      "Epoch 10/500\n",
      "14/14 [==============================] - 0s 7ms/step - loss: 5420.4902 - val_loss: 4323.6602\n",
      "Epoch 11/500\n",
      "14/14 [==============================] - 0s 5ms/step - loss: 5364.1460 - val_loss: 4275.9653\n",
      "Epoch 12/500\n",
      "14/14 [==============================] - 0s 5ms/step - loss: 5308.4458 - val_loss: 4229.0322\n",
      "Epoch 13/500\n",
      "14/14 [==============================] - 0s 5ms/step - loss: 5253.5620 - val_loss: 4182.7876\n",
      "Epoch 14/500\n",
      "14/14 [==============================] - 0s 7ms/step - loss: 5199.3882 - val_loss: 4137.1411\n",
      "Epoch 15/500\n",
      "14/14 [==============================] - 0s 8ms/step - loss: 5145.8369 - val_loss: 4092.0308\n",
      "Epoch 16/500\n",
      "14/14 [==============================] - 0s 7ms/step - loss: 5092.8452 - val_loss: 4047.4148\n",
      "Epoch 17/500\n",
      "14/14 [==============================] - 0s 5ms/step - loss: 5040.3735 - val_loss: 4003.2656\n",
      "Epoch 18/500\n",
      "14/14 [==============================] - 0s 7ms/step - loss: 4988.3916 - val_loss: 3959.5613\n",
      "Epoch 19/500\n",
      "14/14 [==============================] - 0s 6ms/step - loss: 4936.8799 - val_loss: 3916.2869\n",
      "Epoch 20/500\n",
      "14/14 [==============================] - 0s 6ms/step - loss: 4885.8208 - val_loss: 3873.4299\n",
      "Epoch 21/500\n",
      "14/14 [==============================] - 0s 12ms/step - loss: 4835.2036 - val_loss: 3830.9802\n",
      "Epoch 22/500\n",
      "14/14 [==============================] - 0s 7ms/step - loss: 4785.0166 - val_loss: 3788.9292\n",
      "Epoch 23/500\n",
      "14/14 [==============================] - 0s 6ms/step - loss: 4735.2515 - val_loss: 3747.2712\n",
      "Epoch 24/500\n",
      "14/14 [==============================] - 0s 7ms/step - loss: 4685.9004 - val_loss: 3705.9983\n",
      "Epoch 25/500\n",
      "14/14 [==============================] - 0s 7ms/step - loss: 4636.9575 - val_loss: 3665.1064\n",
      "Epoch 26/500\n",
      "14/14 [==============================] - 0s 5ms/step - loss: 4588.4160 - val_loss: 3624.5896\n",
      "Epoch 27/500\n",
      "14/14 [==============================] - 0s 7ms/step - loss: 4540.2715 - val_loss: 3584.4446\n",
      "Epoch 28/500\n",
      "14/14 [==============================] - 0s 9ms/step - loss: 4492.5205 - val_loss: 3544.6655\n",
      "Epoch 29/500\n",
      "14/14 [==============================] - 0s 5ms/step - loss: 4445.1572 - val_loss: 3505.2505\n",
      "Epoch 30/500\n",
      "14/14 [==============================] - 0s 6ms/step - loss: 4398.1772 - val_loss: 3466.1946\n",
      "Epoch 31/500\n",
      "14/14 [==============================] - 0s 5ms/step - loss: 4351.5776 - val_loss: 3427.4954\n",
      "Epoch 32/500\n",
      "14/14 [==============================] - 0s 5ms/step - loss: 4305.3555 - val_loss: 3389.1499\n",
      "Epoch 33/500\n",
      "14/14 [==============================] - 0s 7ms/step - loss: 4259.5059 - val_loss: 3351.1541\n",
      "Epoch 34/500\n",
      "14/14 [==============================] - 0s 7ms/step - loss: 4214.0269 - val_loss: 3313.5054\n",
      "Epoch 35/500\n",
      "14/14 [==============================] - 0s 7ms/step - loss: 4168.9146 - val_loss: 3276.2017\n",
      "Epoch 36/500\n",
      "14/14 [==============================] - 0s 6ms/step - loss: 4124.1675 - val_loss: 3239.2390\n",
      "Epoch 37/500\n",
      "14/14 [==============================] - 0s 6ms/step - loss: 4079.7820 - val_loss: 3202.6152\n",
      "Epoch 38/500\n",
      "14/14 [==============================] - 0s 7ms/step - loss: 4035.7551 - val_loss: 3166.3286\n",
      "Epoch 39/500\n",
      "14/14 [==============================] - 0s 10ms/step - loss: 3992.0850 - val_loss: 3130.3765\n",
      "Epoch 40/500\n",
      "14/14 [==============================] - 0s 9ms/step - loss: 3948.7676 - val_loss: 3094.7559\n",
      "Epoch 41/500\n",
      "14/14 [==============================] - 0s 6ms/step - loss: 3905.8018 - val_loss: 3059.4648\n",
      "Epoch 42/500\n",
      "14/14 [==============================] - 0s 8ms/step - loss: 3863.1853 - val_loss: 3024.5002\n",
      "Epoch 43/500\n",
      "14/14 [==============================] - 0s 7ms/step - loss: 3820.9148 - val_loss: 2989.8616\n",
      "Epoch 44/500\n",
      "14/14 [==============================] - 0s 5ms/step - loss: 3778.9885 - val_loss: 2955.5457\n",
      "Epoch 45/500\n",
      "14/14 [==============================] - 0s 5ms/step - loss: 3737.4043 - val_loss: 2921.5498\n",
      "Epoch 46/500\n",
      "14/14 [==============================] - 0s 6ms/step - loss: 3696.1597 - val_loss: 2887.8721\n",
      "Epoch 47/500\n",
      "14/14 [==============================] - 0s 6ms/step - loss: 3655.2529 - val_loss: 2854.5117\n",
      "Epoch 48/500\n",
      "14/14 [==============================] - 0s 6ms/step - loss: 3614.6812 - val_loss: 2821.4651\n",
      "Epoch 49/500\n",
      "14/14 [==============================] - 0s 5ms/step - loss: 3574.4426 - val_loss: 2788.7305\n",
      "Epoch 50/500\n",
      "14/14 [==============================] - 0s 6ms/step - loss: 3534.5349 - val_loss: 2756.3057\n",
      "Epoch 51/500\n",
      "14/14 [==============================] - 0s 5ms/step - loss: 3494.9565 - val_loss: 2724.1890\n",
      "Epoch 52/500\n",
      "14/14 [==============================] - 0s 5ms/step - loss: 3455.7051 - val_loss: 2692.3796\n",
      "Epoch 53/500\n",
      "14/14 [==============================] - 0s 4ms/step - loss: 3416.7793 - val_loss: 2660.8733\n",
      "Epoch 54/500\n",
      "14/14 [==============================] - 0s 5ms/step - loss: 3378.1755 - val_loss: 2629.6699\n",
      "Epoch 55/500\n",
      "14/14 [==============================] - 0s 4ms/step - loss: 3339.8928 - val_loss: 2598.7668\n",
      "Epoch 56/500\n",
      "14/14 [==============================] - 0s 4ms/step - loss: 3301.9294 - val_loss: 2568.1628\n",
      "Epoch 57/500\n",
      "14/14 [==============================] - 0s 5ms/step - loss: 3264.2832 - val_loss: 2537.8542\n",
      "Epoch 58/500\n",
      "14/14 [==============================] - 0s 4ms/step - loss: 3226.9524 - val_loss: 2507.8408\n",
      "Epoch 59/500\n",
      "14/14 [==============================] - 0s 5ms/step - loss: 3189.9346 - val_loss: 2478.1208\n",
      "Epoch 60/500\n",
      "14/14 [==============================] - 0s 6ms/step - loss: 3153.2285 - val_loss: 2448.6912\n",
      "Epoch 61/500\n",
      "14/14 [==============================] - 0s 5ms/step - loss: 3116.8320 - val_loss: 2419.5510\n",
      "Epoch 62/500\n",
      "14/14 [==============================] - 0s 6ms/step - loss: 3080.7434 - val_loss: 2390.6992\n",
      "Epoch 63/500\n",
      "14/14 [==============================] - 0s 5ms/step - loss: 3044.9602 - val_loss: 2362.1321\n",
      "Epoch 64/500\n",
      "14/14 [==============================] - 0s 6ms/step - loss: 3009.4819 - val_loss: 2333.8489\n",
      "Epoch 65/500\n",
      "14/14 [==============================] - 0s 5ms/step - loss: 2974.3057 - val_loss: 2305.8484\n",
      "Epoch 66/500\n",
      "14/14 [==============================] - 0s 5ms/step - loss: 2939.4302 - val_loss: 2278.1282\n",
      "Epoch 67/500\n",
      "14/14 [==============================] - 0s 5ms/step - loss: 2904.8528 - val_loss: 2250.6858\n",
      "Epoch 68/500\n",
      "14/14 [==============================] - 0s 5ms/step - loss: 2870.5730 - val_loss: 2223.5222\n",
      "Epoch 69/500\n",
      "14/14 [==============================] - 0s 5ms/step - loss: 2836.5886 - val_loss: 2196.6326\n",
      "Epoch 70/500\n",
      "14/14 [==============================] - 0s 6ms/step - loss: 2802.8979 - val_loss: 2170.0166\n",
      "Epoch 71/500\n",
      "14/14 [==============================] - 0s 6ms/step - loss: 2769.4988 - val_loss: 2143.6726\n",
      "Epoch 72/500\n",
      "14/14 [==============================] - 0s 4ms/step - loss: 2736.3904 - val_loss: 2117.5991\n",
      "Epoch 73/500\n",
      "14/14 [==============================] - 0s 5ms/step - loss: 2703.5696 - val_loss: 2091.7939\n",
      "Epoch 74/500\n",
      "14/14 [==============================] - 0s 4ms/step - loss: 2671.0359 - val_loss: 2066.2556\n",
      "Epoch 75/500\n",
      "14/14 [==============================] - 0s 5ms/step - loss: 2638.7878 - val_loss: 2040.9821\n",
      "Epoch 76/500\n",
      "14/14 [==============================] - 0s 5ms/step - loss: 2606.8230 - val_loss: 2015.9720\n",
      "Epoch 77/500\n",
      "14/14 [==============================] - 0s 5ms/step - loss: 2575.1394 - val_loss: 1991.2250\n",
      "Epoch 78/500\n",
      "14/14 [==============================] - 0s 6ms/step - loss: 2543.7366 - val_loss: 1966.7369\n",
      "Epoch 79/500\n",
      "14/14 [==============================] - 0s 4ms/step - loss: 2512.6125 - val_loss: 1942.5088\n",
      "Epoch 80/500\n",
      "14/14 [==============================] - 0s 5ms/step - loss: 2481.7649 - val_loss: 1918.5372\n",
      "Epoch 81/500\n",
      "14/14 [==============================] - 0s 5ms/step - loss: 2451.1931 - val_loss: 1894.8215\n",
      "Epoch 82/500\n",
      "14/14 [==============================] - 0s 5ms/step - loss: 2420.8953 - val_loss: 1871.3594\n",
      "Epoch 83/500\n",
      "14/14 [==============================] - 0s 4ms/step - loss: 2390.8687 - val_loss: 1848.1497\n",
      "Epoch 84/500\n",
      "14/14 [==============================] - 0s 5ms/step - loss: 2361.1130 - val_loss: 1825.1903\n",
      "Epoch 85/500\n",
      "14/14 [==============================] - 0s 5ms/step - loss: 2331.6257 - val_loss: 1802.4806\n",
      "Epoch 86/500\n",
      "14/14 [==============================] - 0s 5ms/step - loss: 2302.4070 - val_loss: 1780.0186\n",
      "Epoch 87/500\n",
      "14/14 [==============================] - 0s 5ms/step - loss: 2273.4529 - val_loss: 1757.8022\n",
      "Epoch 88/500\n",
      "14/14 [==============================] - 0s 6ms/step - loss: 2244.7637 - val_loss: 1735.8309\n",
      "Epoch 89/500\n",
      "14/14 [==============================] - 0s 6ms/step - loss: 2216.3372 - val_loss: 1714.1024\n",
      "Epoch 90/500\n",
      "14/14 [==============================] - 0s 6ms/step - loss: 2188.1714 - val_loss: 1692.6149\n",
      "Epoch 91/500\n",
      "14/14 [==============================] - 0s 6ms/step - loss: 2160.2664 - val_loss: 1671.3678\n",
      "Epoch 92/500\n",
      "14/14 [==============================] - 0s 6ms/step - loss: 2132.6189 - val_loss: 1650.3593\n",
      "Epoch 93/500\n",
      "14/14 [==============================] - 0s 5ms/step - loss: 2105.2280 - val_loss: 1629.5875\n",
      "Epoch 94/500\n",
      "14/14 [==============================] - 0s 4ms/step - loss: 2078.0925 - val_loss: 1609.0515\n",
      "Epoch 95/500\n",
      "14/14 [==============================] - 0s 5ms/step - loss: 2051.2104 - val_loss: 1588.7491\n",
      "Epoch 96/500\n",
      "14/14 [==============================] - 0s 5ms/step - loss: 2024.5807 - val_loss: 1568.6790\n",
      "Epoch 97/500\n",
      "14/14 [==============================] - 0s 5ms/step - loss: 1998.2019 - val_loss: 1548.8403\n",
      "Epoch 98/500\n",
      "14/14 [==============================] - 0s 5ms/step - loss: 1972.0714 - val_loss: 1529.2310\n",
      "Epoch 99/500\n",
      "14/14 [==============================] - 0s 5ms/step - loss: 1946.1891 - val_loss: 1509.8490\n",
      "Epoch 100/500\n",
      "14/14 [==============================] - 0s 5ms/step - loss: 1920.5529 - val_loss: 1490.6942\n",
      "Epoch 101/500\n",
      "14/14 [==============================] - 0s 4ms/step - loss: 1895.1620 - val_loss: 1471.7642\n",
      "Epoch 102/500\n",
      "14/14 [==============================] - 0s 5ms/step - loss: 1870.0137 - val_loss: 1453.0579\n",
      "Epoch 103/500\n",
      "14/14 [==============================] - 0s 5ms/step - loss: 1845.1079 - val_loss: 1434.5743\n",
      "Epoch 104/500\n",
      "14/14 [==============================] - 0s 5ms/step - loss: 1820.4421 - val_loss: 1416.3104\n",
      "Epoch 105/500\n",
      "14/14 [==============================] - 0s 4ms/step - loss: 1796.0150 - val_loss: 1398.2662\n",
      "Epoch 106/500\n",
      "14/14 [==============================] - 0s 5ms/step - loss: 1771.8263 - val_loss: 1380.4404\n",
      "Epoch 107/500\n",
      "14/14 [==============================] - 0s 6ms/step - loss: 1747.8733 - val_loss: 1362.8298\n",
      "Epoch 108/500\n",
      "14/14 [==============================] - 0s 5ms/step - loss: 1724.1547 - val_loss: 1345.4347\n",
      "Epoch 109/500\n",
      "14/14 [==============================] - 0s 5ms/step - loss: 1700.6696 - val_loss: 1328.2537\n",
      "Epoch 110/500\n",
      "14/14 [==============================] - 0s 6ms/step - loss: 1677.4167 - val_loss: 1311.2842\n",
      "Epoch 111/500\n",
      "14/14 [==============================] - 0s 15ms/step - loss: 1654.3942 - val_loss: 1294.5260\n",
      "Epoch 112/500\n",
      "14/14 [==============================] - 0s 6ms/step - loss: 1631.6008 - val_loss: 1277.9769\n",
      "Epoch 113/500\n",
      "14/14 [==============================] - 0s 8ms/step - loss: 1609.0353 - val_loss: 1261.6357\n",
      "Epoch 114/500\n",
      "14/14 [==============================] - 0s 10ms/step - loss: 1586.6956 - val_loss: 1245.5006\n",
      "Epoch 115/500\n",
      "14/14 [==============================] - 0s 11ms/step - loss: 1564.5811 - val_loss: 1229.5709\n",
      "Epoch 116/500\n",
      "14/14 [==============================] - 0s 8ms/step - loss: 1542.6903 - val_loss: 1213.8456\n",
      "Epoch 117/500\n",
      "14/14 [==============================] - 0s 7ms/step - loss: 1521.0216 - val_loss: 1198.3221\n",
      "Epoch 118/500\n",
      "14/14 [==============================] - 0s 5ms/step - loss: 1499.5739 - val_loss: 1182.9999\n",
      "Epoch 119/500\n",
      "14/14 [==============================] - 0s 5ms/step - loss: 1478.3455 - val_loss: 1167.8765\n",
      "Epoch 120/500\n",
      "14/14 [==============================] - 0s 5ms/step - loss: 1457.3352 - val_loss: 1152.9517\n",
      "Epoch 121/500\n",
      "14/14 [==============================] - 0s 5ms/step - loss: 1436.5419 - val_loss: 1138.2239\n",
      "Epoch 122/500\n",
      "14/14 [==============================] - 0s 4ms/step - loss: 1415.9641 - val_loss: 1123.6918\n",
      "Epoch 123/500\n",
      "14/14 [==============================] - 0s 4ms/step - loss: 1395.6000 - val_loss: 1109.3535\n",
      "Epoch 124/500\n",
      "14/14 [==============================] - 0s 4ms/step - loss: 1375.4490 - val_loss: 1095.2084\n",
      "Epoch 125/500\n",
      "14/14 [==============================] - 0s 4ms/step - loss: 1355.5089 - val_loss: 1081.2543\n",
      "Epoch 126/500\n",
      "14/14 [==============================] - 0s 5ms/step - loss: 1335.7792 - val_loss: 1067.4901\n",
      "Epoch 127/500\n",
      "14/14 [==============================] - 0s 5ms/step - loss: 1316.2581 - val_loss: 1053.9148\n",
      "Epoch 128/500\n",
      "14/14 [==============================] - 0s 5ms/step - loss: 1296.9449 - val_loss: 1040.5276\n",
      "Epoch 129/500\n",
      "14/14 [==============================] - 0s 5ms/step - loss: 1277.8376 - val_loss: 1027.3256\n",
      "Epoch 130/500\n",
      "14/14 [==============================] - 0s 5ms/step - loss: 1258.9352 - val_loss: 1014.3087\n",
      "Epoch 131/500\n",
      "14/14 [==============================] - 0s 5ms/step - loss: 1240.2362 - val_loss: 1001.4753\n",
      "Epoch 132/500\n",
      "14/14 [==============================] - 0s 5ms/step - loss: 1221.7393 - val_loss: 988.8236\n",
      "Epoch 133/500\n",
      "14/14 [==============================] - 0s 4ms/step - loss: 1203.4434 - val_loss: 976.3530\n",
      "Epoch 134/500\n",
      "14/14 [==============================] - 0s 5ms/step - loss: 1185.3472 - val_loss: 964.0615\n",
      "Epoch 135/500\n",
      "14/14 [==============================] - 0s 5ms/step - loss: 1167.4493 - val_loss: 951.9483\n",
      "Epoch 136/500\n",
      "14/14 [==============================] - 0s 5ms/step - loss: 1149.7484 - val_loss: 940.0113\n",
      "Epoch 137/500\n",
      "14/14 [==============================] - 0s 5ms/step - loss: 1132.2429 - val_loss: 928.2500\n",
      "Epoch 138/500\n",
      "14/14 [==============================] - 0s 5ms/step - loss: 1114.9318 - val_loss: 916.6629\n",
      "Epoch 139/500\n",
      "14/14 [==============================] - 0s 5ms/step - loss: 1097.8140 - val_loss: 905.2485\n",
      "Epoch 140/500\n",
      "14/14 [==============================] - 0s 5ms/step - loss: 1080.8881 - val_loss: 894.0063\n",
      "Epoch 141/500\n",
      "14/14 [==============================] - 0s 5ms/step - loss: 1064.1533 - val_loss: 882.9340\n",
      "Epoch 142/500\n",
      "14/14 [==============================] - 0s 4ms/step - loss: 1047.6074 - val_loss: 872.0303\n",
      "Epoch 143/500\n",
      "14/14 [==============================] - 0s 4ms/step - loss: 1031.2494 - val_loss: 861.2946\n",
      "Epoch 144/500\n",
      "14/14 [==============================] - 0s 5ms/step - loss: 1015.0786 - val_loss: 850.7245\n",
      "Epoch 145/500\n",
      "14/14 [==============================] - 0s 5ms/step - loss: 999.0932 - val_loss: 840.3203\n",
      "Epoch 146/500\n",
      "14/14 [==============================] - 0s 6ms/step - loss: 983.2921 - val_loss: 830.0790\n",
      "Epoch 147/500\n",
      "14/14 [==============================] - 0s 19ms/step - loss: 967.6740 - val_loss: 820.0004\n",
      "Epoch 148/500\n",
      "14/14 [==============================] - 0s 7ms/step - loss: 952.2374 - val_loss: 810.0833\n",
      "Epoch 149/500\n",
      "14/14 [==============================] - 0s 5ms/step - loss: 936.9815 - val_loss: 800.3258\n",
      "Epoch 150/500\n",
      "14/14 [==============================] - 0s 4ms/step - loss: 921.9048 - val_loss: 790.7266\n",
      "Epoch 151/500\n",
      "14/14 [==============================] - 0s 5ms/step - loss: 907.0060 - val_loss: 781.2847\n",
      "Epoch 152/500\n",
      "14/14 [==============================] - 0s 5ms/step - loss: 892.2839 - val_loss: 771.9993\n",
      "Epoch 153/500\n",
      "14/14 [==============================] - 0s 5ms/step - loss: 877.7379 - val_loss: 762.8688\n",
      "Epoch 154/500\n",
      "14/14 [==============================] - 0s 5ms/step - loss: 863.3661 - val_loss: 753.8911\n",
      "Epoch 155/500\n",
      "14/14 [==============================] - 0s 6ms/step - loss: 849.1672 - val_loss: 745.0661\n",
      "Epoch 156/500\n",
      "14/14 [==============================] - 0s 5ms/step - loss: 835.1403 - val_loss: 736.3918\n",
      "Epoch 157/500\n",
      "14/14 [==============================] - 0s 5ms/step - loss: 821.2839 - val_loss: 727.8672\n",
      "Epoch 158/500\n",
      "14/14 [==============================] - 0s 5ms/step - loss: 807.5969 - val_loss: 719.4913\n",
      "Epoch 159/500\n",
      "14/14 [==============================] - 0s 5ms/step - loss: 794.0783 - val_loss: 711.2623\n",
      "Epoch 160/500\n",
      "14/14 [==============================] - 0s 6ms/step - loss: 780.7267 - val_loss: 703.1796\n",
      "Epoch 161/500\n",
      "14/14 [==============================] - 0s 5ms/step - loss: 767.5411 - val_loss: 695.2408\n",
      "Epoch 162/500\n",
      "14/14 [==============================] - 0s 5ms/step - loss: 754.5194 - val_loss: 687.4459\n",
      "Epoch 163/500\n",
      "14/14 [==============================] - 0s 4ms/step - loss: 741.6614 - val_loss: 679.7928\n",
      "Epoch 164/500\n",
      "14/14 [==============================] - 0s 5ms/step - loss: 728.9656 - val_loss: 672.2805\n",
      "Epoch 165/500\n",
      "14/14 [==============================] - 0s 4ms/step - loss: 716.4306 - val_loss: 664.9081\n",
      "Epoch 166/500\n",
      "14/14 [==============================] - 0s 5ms/step - loss: 704.0552 - val_loss: 657.6740\n",
      "Epoch 167/500\n",
      "14/14 [==============================] - 0s 5ms/step - loss: 691.8383 - val_loss: 650.5770\n",
      "Epoch 168/500\n",
      "14/14 [==============================] - 0s 5ms/step - loss: 679.7790 - val_loss: 643.6157\n",
      "Epoch 169/500\n",
      "14/14 [==============================] - 0s 5ms/step - loss: 667.8754 - val_loss: 636.7892\n",
      "Epoch 170/500\n",
      "14/14 [==============================] - 0s 5ms/step - loss: 656.1270 - val_loss: 630.0962\n",
      "Epoch 171/500\n",
      "14/14 [==============================] - 0s 5ms/step - loss: 644.5323 - val_loss: 623.5355\n",
      "Epoch 172/500\n",
      "14/14 [==============================] - 0s 5ms/step - loss: 633.0902 - val_loss: 617.1049\n",
      "Epoch 173/500\n",
      "14/14 [==============================] - 0s 5ms/step - loss: 621.7993 - val_loss: 610.8045\n",
      "Epoch 174/500\n",
      "14/14 [==============================] - 0s 6ms/step - loss: 610.6584 - val_loss: 604.6328\n",
      "Epoch 175/500\n",
      "14/14 [==============================] - 0s 8ms/step - loss: 599.6667 - val_loss: 598.5877\n",
      "Epoch 176/500\n",
      "14/14 [==============================] - 0s 7ms/step - loss: 588.8228 - val_loss: 592.6689\n",
      "Epoch 177/500\n",
      "14/14 [==============================] - 0s 12ms/step - loss: 578.1253 - val_loss: 586.8747\n",
      "Epoch 178/500\n",
      "14/14 [==============================] - 0s 5ms/step - loss: 567.5732 - val_loss: 581.2039\n",
      "Epoch 179/500\n",
      "14/14 [==============================] - 0s 5ms/step - loss: 557.1654 - val_loss: 575.6553\n",
      "Epoch 180/500\n",
      "14/14 [==============================] - 0s 5ms/step - loss: 546.9005 - val_loss: 570.2280\n",
      "Epoch 181/500\n",
      "14/14 [==============================] - 0s 5ms/step - loss: 536.7780 - val_loss: 564.9207\n",
      "Epoch 182/500\n",
      "14/14 [==============================] - 0s 5ms/step - loss: 526.7959 - val_loss: 559.7314\n",
      "Epoch 183/500\n",
      "14/14 [==============================] - 0s 5ms/step - loss: 516.9535 - val_loss: 554.6599\n",
      "Epoch 184/500\n",
      "14/14 [==============================] - 0s 6ms/step - loss: 507.2493 - val_loss: 549.7045\n",
      "Epoch 185/500\n",
      "14/14 [==============================] - 0s 5ms/step - loss: 497.6825 - val_loss: 544.8642\n",
      "Epoch 186/500\n",
      "14/14 [==============================] - 0s 5ms/step - loss: 488.2513 - val_loss: 540.1373\n",
      "Epoch 187/500\n",
      "14/14 [==============================] - 0s 5ms/step - loss: 478.9551 - val_loss: 535.5229\n",
      "Epoch 188/500\n",
      "14/14 [==============================] - 0s 5ms/step - loss: 469.7928 - val_loss: 531.0197\n",
      "Epoch 189/500\n",
      "14/14 [==============================] - 0s 5ms/step - loss: 460.7631 - val_loss: 526.6268\n",
      "Epoch 190/500\n",
      "14/14 [==============================] - 0s 5ms/step - loss: 451.8651 - val_loss: 522.3431\n",
      "Epoch 191/500\n",
      "14/14 [==============================] - 0s 5ms/step - loss: 443.0970 - val_loss: 518.1665\n",
      "Epoch 192/500\n",
      "14/14 [==============================] - 0s 5ms/step - loss: 434.4577 - val_loss: 514.0966\n",
      "Epoch 193/500\n",
      "14/14 [==============================] - 0s 6ms/step - loss: 425.9465 - val_loss: 510.1317\n",
      "Epoch 194/500\n",
      "14/14 [==============================] - 0s 6ms/step - loss: 417.5620 - val_loss: 506.2708\n",
      "Epoch 195/500\n",
      "14/14 [==============================] - 0s 5ms/step - loss: 409.3036 - val_loss: 502.5132\n",
      "Epoch 196/500\n",
      "14/14 [==============================] - 0s 6ms/step - loss: 401.1696 - val_loss: 498.8572\n",
      "Epoch 197/500\n",
      "14/14 [==============================] - 0s 6ms/step - loss: 393.1589 - val_loss: 495.3017\n",
      "Epoch 198/500\n",
      "14/14 [==============================] - 0s 6ms/step - loss: 385.2708 - val_loss: 491.8453\n",
      "Epoch 199/500\n",
      "14/14 [==============================] - 0s 6ms/step - loss: 377.5038 - val_loss: 488.4873\n",
      "Epoch 200/500\n",
      "14/14 [==============================] - 0s 5ms/step - loss: 369.8569 - val_loss: 485.2260\n",
      "Epoch 201/500\n",
      "14/14 [==============================] - 0s 6ms/step - loss: 362.3284 - val_loss: 482.0603\n",
      "Epoch 202/500\n",
      "14/14 [==============================] - 0s 7ms/step - loss: 354.9179 - val_loss: 478.9891\n",
      "Epoch 203/500\n",
      "14/14 [==============================] - 0s 6ms/step - loss: 347.6238 - val_loss: 476.0116\n",
      "Epoch 204/500\n",
      "14/14 [==============================] - 0s 5ms/step - loss: 340.4455 - val_loss: 473.1258\n",
      "Epoch 205/500\n",
      "14/14 [==============================] - 0s 6ms/step - loss: 333.3813 - val_loss: 470.3311\n",
      "Epoch 206/500\n",
      "14/14 [==============================] - 0s 5ms/step - loss: 326.4305 - val_loss: 467.6266\n",
      "Epoch 207/500\n",
      "14/14 [==============================] - 0s 5ms/step - loss: 319.5915 - val_loss: 465.0104\n",
      "Epoch 208/500\n",
      "14/14 [==============================] - 0s 6ms/step - loss: 312.8637 - val_loss: 462.4816\n",
      "Epoch 209/500\n",
      "14/14 [==============================] - 0s 5ms/step - loss: 306.2458 - val_loss: 460.0392\n",
      "Epoch 210/500\n",
      "14/14 [==============================] - 0s 9ms/step - loss: 299.7365 - val_loss: 457.6816\n",
      "Epoch 211/500\n",
      "14/14 [==============================] - 0s 14ms/step - loss: 293.3347 - val_loss: 455.4085\n",
      "Epoch 212/500\n",
      "14/14 [==============================] - 0s 5ms/step - loss: 287.0399 - val_loss: 453.2177\n",
      "Epoch 213/500\n",
      "14/14 [==============================] - 0s 6ms/step - loss: 280.8504 - val_loss: 451.1089\n",
      "Epoch 214/500\n",
      "14/14 [==============================] - 0s 6ms/step - loss: 274.7653 - val_loss: 449.0804\n",
      "Epoch 215/500\n",
      "14/14 [==============================] - 0s 6ms/step - loss: 268.7834 - val_loss: 447.1315\n",
      "Epoch 216/500\n",
      "14/14 [==============================] - 0s 7ms/step - loss: 262.9038 - val_loss: 445.2604\n",
      "Epoch 217/500\n",
      "14/14 [==============================] - 0s 7ms/step - loss: 257.1251 - val_loss: 443.4664\n",
      "Epoch 218/500\n",
      "14/14 [==============================] - 0s 6ms/step - loss: 251.4462 - val_loss: 441.7482\n",
      "Epoch 219/500\n",
      "14/14 [==============================] - 0s 6ms/step - loss: 245.8660 - val_loss: 440.1049\n",
      "Epoch 220/500\n",
      "14/14 [==============================] - 0s 6ms/step - loss: 240.3838 - val_loss: 438.5351\n",
      "Epoch 221/500\n",
      "14/14 [==============================] - 0s 6ms/step - loss: 234.9982 - val_loss: 437.0377\n",
      "Epoch 222/500\n",
      "14/14 [==============================] - 0s 5ms/step - loss: 229.7081 - val_loss: 435.6116\n",
      "Epoch 223/500\n",
      "14/14 [==============================] - 0s 7ms/step - loss: 224.5126 - val_loss: 434.2558\n",
      "Epoch 224/500\n",
      "14/14 [==============================] - 0s 7ms/step - loss: 219.4107 - val_loss: 432.9691\n",
      "Epoch 225/500\n",
      "14/14 [==============================] - 0s 6ms/step - loss: 214.4011 - val_loss: 431.7504\n",
      "Epoch 226/500\n",
      "14/14 [==============================] - 0s 6ms/step - loss: 209.4830 - val_loss: 430.5985\n",
      "Epoch 227/500\n",
      "14/14 [==============================] - 0s 6ms/step - loss: 204.6550 - val_loss: 429.5121\n",
      "Epoch 228/500\n",
      "14/14 [==============================] - 0s 6ms/step - loss: 199.9161 - val_loss: 428.4905\n",
      "Epoch 229/500\n",
      "14/14 [==============================] - 0s 6ms/step - loss: 195.2657 - val_loss: 427.5324\n",
      "Epoch 230/500\n",
      "14/14 [==============================] - 0s 6ms/step - loss: 190.7020 - val_loss: 426.6365\n",
      "Epoch 231/500\n",
      "14/14 [==============================] - 0s 5ms/step - loss: 186.2243 - val_loss: 425.8019\n",
      "Epoch 232/500\n",
      "14/14 [==============================] - 0s 5ms/step - loss: 181.8315 - val_loss: 425.0276\n",
      "Epoch 233/500\n",
      "14/14 [==============================] - 0s 5ms/step - loss: 177.5226 - val_loss: 424.3124\n",
      "Epoch 234/500\n",
      "14/14 [==============================] - 0s 5ms/step - loss: 173.2970 - val_loss: 423.6553\n",
      "Epoch 235/500\n",
      "14/14 [==============================] - 0s 5ms/step - loss: 169.1529 - val_loss: 423.0549\n",
      "Epoch 236/500\n",
      "14/14 [==============================] - 0s 5ms/step - loss: 165.0897 - val_loss: 422.5106\n",
      "Epoch 237/500\n",
      "14/14 [==============================] - 0s 5ms/step - loss: 161.1063 - val_loss: 422.0209\n",
      "Epoch 238/500\n",
      "14/14 [==============================] - 0s 5ms/step - loss: 157.2014 - val_loss: 421.5849\n",
      "Epoch 239/500\n",
      "14/14 [==============================] - 0s 5ms/step - loss: 153.3743 - val_loss: 421.2017\n",
      "Epoch 240/500\n",
      "14/14 [==============================] - 0s 5ms/step - loss: 149.6237 - val_loss: 420.8699\n",
      "Epoch 241/500\n",
      "14/14 [==============================] - 0s 5ms/step - loss: 145.9490 - val_loss: 420.5887\n",
      "Epoch 242/500\n",
      "14/14 [==============================] - 0s 5ms/step - loss: 142.3491 - val_loss: 420.3570\n",
      "Epoch 243/500\n",
      "14/14 [==============================] - 0s 11ms/step - loss: 138.8227 - val_loss: 420.1738\n",
      "Epoch 244/500\n",
      "14/14 [==============================] - 0s 6ms/step - loss: 135.3690 - val_loss: 420.0379\n",
      "Epoch 245/500\n",
      "14/14 [==============================] - 0s 6ms/step - loss: 131.9869 - val_loss: 419.9484\n",
      "Epoch 246/500\n",
      "14/14 [==============================] - 0s 6ms/step - loss: 128.6755 - val_loss: 419.9043\n",
      "Epoch 247/500\n",
      "14/14 [==============================] - 0s 6ms/step - loss: 125.4339 - val_loss: 419.9044\n",
      "Epoch 248/500\n",
      "14/14 [==============================] - 0s 6ms/step - loss: 122.2608 - val_loss: 419.9479\n",
      "Epoch 249/500\n",
      "14/14 [==============================] - 0s 7ms/step - loss: 119.1555 - val_loss: 420.0337\n",
      "Epoch 250/500\n",
      "14/14 [==============================] - 0s 7ms/step - loss: 116.1168 - val_loss: 420.1608\n",
      "Epoch 251/500\n",
      "14/14 [==============================] - 0s 7ms/step - loss: 113.1440 - val_loss: 420.3281\n",
      "Epoch 252/500\n",
      "14/14 [==============================] - 0s 7ms/step - loss: 110.2359 - val_loss: 420.5348\n",
      "Epoch 253/500\n",
      "14/14 [==============================] - 0s 6ms/step - loss: 107.3917 - val_loss: 420.7797\n",
      "Epoch 254/500\n",
      "14/14 [==============================] - 0s 6ms/step - loss: 104.6105 - val_loss: 421.0620\n",
      "Epoch 255/500\n",
      "14/14 [==============================] - 0s 5ms/step - loss: 101.8912 - val_loss: 421.3807\n",
      "Epoch 256/500\n",
      "14/14 [==============================] - 0s 5ms/step - loss: 99.2329 - val_loss: 421.7348\n",
      "Epoch 257/500\n",
      "14/14 [==============================] - 0s 5ms/step - loss: 96.6345 - val_loss: 422.1233\n",
      "Epoch 258/500\n",
      "14/14 [==============================] - 0s 6ms/step - loss: 94.0954 - val_loss: 422.5453\n",
      "Epoch 259/500\n",
      "14/14 [==============================] - 0s 5ms/step - loss: 91.6144 - val_loss: 422.9999\n",
      "Epoch 260/500\n",
      "14/14 [==============================] - 0s 6ms/step - loss: 89.1906 - val_loss: 423.4861\n",
      "Epoch 261/500\n",
      "14/14 [==============================] - 0s 6ms/step - loss: 86.8230 - val_loss: 424.0031\n",
      "Epoch 262/500\n",
      "14/14 [==============================] - 0s 5ms/step - loss: 84.5111 - val_loss: 424.5497\n",
      "Epoch 263/500\n",
      "14/14 [==============================] - 0s 5ms/step - loss: 82.2538 - val_loss: 425.1253\n",
      "Epoch 264/500\n",
      "14/14 [==============================] - 0s 6ms/step - loss: 80.0500 - val_loss: 425.7287\n",
      "Epoch 265/500\n",
      "14/14 [==============================] - 0s 5ms/step - loss: 77.8991 - val_loss: 426.3593\n",
      "Epoch 266/500\n",
      "14/14 [==============================] - 0s 10ms/step - loss: 75.7999 - val_loss: 427.0160\n",
      "Epoch 267/500\n",
      "14/14 [==============================] - 0s 5ms/step - loss: 73.7516 - val_loss: 427.6979\n",
      "Epoch 268/500\n",
      "14/14 [==============================] - 0s 5ms/step - loss: 71.7537 - val_loss: 428.4043\n",
      "Epoch 269/500\n",
      "14/14 [==============================] - 0s 5ms/step - loss: 69.8047 - val_loss: 429.1343\n",
      "Epoch 270/500\n",
      "14/14 [==============================] - 0s 5ms/step - loss: 67.9042 - val_loss: 429.8869\n",
      "Epoch 271/500\n",
      "14/14 [==============================] - 0s 5ms/step - loss: 66.0512 - val_loss: 430.6615\n",
      "Epoch 272/500\n",
      "14/14 [==============================] - 0s 5ms/step - loss: 64.2450 - val_loss: 431.4571\n",
      "Epoch 273/500\n",
      "14/14 [==============================] - 0s 6ms/step - loss: 62.4845 - val_loss: 432.2726\n",
      "Epoch 274/500\n",
      "14/14 [==============================] - 0s 5ms/step - loss: 60.7691 - val_loss: 433.1077\n",
      "Epoch 275/500\n",
      "14/14 [==============================] - 0s 5ms/step - loss: 59.0979 - val_loss: 433.9614\n",
      "Epoch 276/500\n",
      "14/14 [==============================] - 0s 5ms/step - loss: 57.4698 - val_loss: 434.8327\n",
      "Epoch 277/500\n",
      "14/14 [==============================] - 0s 5ms/step - loss: 55.8843 - val_loss: 435.7211\n",
      "Epoch 278/500\n",
      "14/14 [==============================] - 0s 5ms/step - loss: 54.3406 - val_loss: 436.6257\n",
      "Epoch 279/500\n",
      "14/14 [==============================] - 0s 5ms/step - loss: 52.8379 - val_loss: 437.5455\n",
      "Epoch 280/500\n",
      "14/14 [==============================] - 0s 5ms/step - loss: 51.3754 - val_loss: 438.4801\n",
      "Epoch 281/500\n",
      "14/14 [==============================] - 0s 5ms/step - loss: 49.9522 - val_loss: 439.4286\n",
      "Epoch 282/500\n",
      "14/14 [==============================] - 0s 5ms/step - loss: 48.5675 - val_loss: 440.3902\n",
      "Epoch 283/500\n",
      "14/14 [==============================] - 0s 7ms/step - loss: 47.2207 - val_loss: 441.3642\n",
      "Epoch 284/500\n",
      "14/14 [==============================] - 0s 7ms/step - loss: 45.9111 - val_loss: 442.3498\n",
      "Epoch 285/500\n",
      "14/14 [==============================] - 0s 6ms/step - loss: 44.6377 - val_loss: 443.3466\n",
      "Epoch 286/500\n",
      "14/14 [==============================] - 0s 7ms/step - loss: 43.3998 - val_loss: 444.3535\n",
      "Epoch 287/500\n",
      "14/14 [==============================] - 0s 5ms/step - loss: 42.1966 - val_loss: 445.3703\n",
      "Epoch 288/500\n",
      "14/14 [==============================] - 0s 6ms/step - loss: 41.0278 - val_loss: 446.3958\n",
      "Epoch 289/500\n",
      "14/14 [==============================] - 0s 6ms/step - loss: 39.8921 - val_loss: 447.4295\n",
      "Epoch 290/500\n",
      "14/14 [==============================] - 0s 7ms/step - loss: 38.7893 - val_loss: 448.4708\n",
      "Epoch 291/500\n",
      "14/14 [==============================] - 0s 17ms/step - loss: 37.7185 - val_loss: 449.5190\n",
      "Epoch 292/500\n",
      "14/14 [==============================] - 0s 6ms/step - loss: 36.6790 - val_loss: 450.5735\n",
      "Epoch 293/500\n",
      "14/14 [==============================] - 0s 6ms/step - loss: 35.6699 - val_loss: 451.6337\n",
      "Epoch 294/500\n",
      "14/14 [==============================] - 0s 6ms/step - loss: 34.6909 - val_loss: 452.6989\n",
      "Epoch 295/500\n",
      "14/14 [==============================] - 0s 6ms/step - loss: 33.7410 - val_loss: 453.7688\n",
      "Epoch 296/500\n",
      "14/14 [==============================] - 0s 7ms/step - loss: 32.8198 - val_loss: 454.8422\n",
      "Epoch 297/500\n",
      "14/14 [==============================] - 0s 5ms/step - loss: 31.9265 - val_loss: 455.9191\n",
      "Epoch 298/500\n",
      "14/14 [==============================] - 0s 6ms/step - loss: 31.0604 - val_loss: 456.9987\n",
      "Epoch 299/500\n",
      "14/14 [==============================] - 0s 5ms/step - loss: 30.2210 - val_loss: 458.0801\n",
      "Epoch 300/500\n",
      "14/14 [==============================] - 0s 5ms/step - loss: 29.4077 - val_loss: 459.1635\n",
      "Epoch 301/500\n",
      "14/14 [==============================] - 0s 5ms/step - loss: 28.6198 - val_loss: 460.2476\n",
      "Epoch 302/500\n",
      "14/14 [==============================] - 0s 7ms/step - loss: 27.8567 - val_loss: 461.3325\n",
      "Epoch 303/500\n",
      "14/14 [==============================] - 0s 7ms/step - loss: 27.1177 - val_loss: 462.4171\n",
      "Epoch 304/500\n",
      "14/14 [==============================] - 0s 7ms/step - loss: 26.4024 - val_loss: 463.5015\n",
      "Epoch 305/500\n",
      "14/14 [==============================] - 0s 8ms/step - loss: 25.7100 - val_loss: 464.5850\n",
      "Epoch 306/500\n",
      "14/14 [==============================] - 0s 7ms/step - loss: 25.0402 - val_loss: 465.6667\n",
      "Epoch 307/500\n",
      "14/14 [==============================] - 0s 8ms/step - loss: 24.3923 - val_loss: 466.7465\n",
      "Epoch 308/500\n",
      "14/14 [==============================] - 0s 7ms/step - loss: 23.7656 - val_loss: 467.8243\n",
      "Epoch 309/500\n",
      "14/14 [==============================] - 0s 7ms/step - loss: 23.1597 - val_loss: 468.8987\n",
      "Epoch 310/500\n",
      "14/14 [==============================] - 0s 15ms/step - loss: 22.5741 - val_loss: 469.9701\n",
      "Epoch 311/500\n",
      "14/14 [==============================] - 0s 7ms/step - loss: 22.0082 - val_loss: 471.0380\n",
      "Epoch 312/500\n",
      "14/14 [==============================] - 0s 7ms/step - loss: 21.4613 - val_loss: 472.1018\n",
      "Epoch 313/500\n",
      "14/14 [==============================] - 0s 7ms/step - loss: 20.9332 - val_loss: 473.1610\n",
      "Epoch 314/500\n",
      "14/14 [==============================] - 0s 7ms/step - loss: 20.4233 - val_loss: 474.2154\n",
      "Epoch 315/500\n",
      "14/14 [==============================] - 0s 6ms/step - loss: 19.9311 - val_loss: 475.2644\n",
      "Epoch 316/500\n",
      "14/14 [==============================] - 0s 7ms/step - loss: 19.4560 - val_loss: 476.3077\n",
      "Epoch 317/500\n",
      "14/14 [==============================] - 0s 7ms/step - loss: 18.9977 - val_loss: 477.3450\n",
      "Epoch 318/500\n",
      "14/14 [==============================] - 0s 7ms/step - loss: 18.5556 - val_loss: 478.3759\n",
      "Epoch 319/500\n",
      "14/14 [==============================] - 0s 7ms/step - loss: 18.1294 - val_loss: 479.4002\n",
      "Epoch 320/500\n",
      "14/14 [==============================] - 0s 7ms/step - loss: 17.7184 - val_loss: 480.4176\n",
      "Epoch 321/500\n",
      "14/14 [==============================] - 0s 7ms/step - loss: 17.3223 - val_loss: 481.4279\n",
      "Epoch 322/500\n",
      "14/14 [==============================] - 0s 6ms/step - loss: 16.9407 - val_loss: 482.4305\n",
      "Epoch 323/500\n",
      "14/14 [==============================] - 0s 7ms/step - loss: 16.5730 - val_loss: 483.4253\n",
      "Epoch 324/500\n",
      "14/14 [==============================] - 0s 7ms/step - loss: 16.2190 - val_loss: 484.4119\n",
      "Epoch 325/500\n",
      "14/14 [==============================] - 0s 6ms/step - loss: 15.8782 - val_loss: 485.3904\n",
      "Epoch 326/500\n",
      "14/14 [==============================] - 0s 6ms/step - loss: 15.5501 - val_loss: 486.3599\n",
      "Epoch 327/500\n",
      "14/14 [==============================] - 0s 6ms/step - loss: 15.2345 - val_loss: 487.3206\n",
      "Epoch 328/500\n",
      "14/14 [==============================] - 0s 6ms/step - loss: 14.9309 - val_loss: 488.2723\n",
      "Epoch 329/500\n",
      "14/14 [==============================] - 0s 6ms/step - loss: 14.6390 - val_loss: 489.2148\n",
      "Epoch 330/500\n",
      "14/14 [==============================] - 0s 6ms/step - loss: 14.3583 - val_loss: 490.1476\n",
      "Epoch 331/500\n",
      "14/14 [==============================] - 0s 6ms/step - loss: 14.0886 - val_loss: 491.0706\n",
      "Epoch 332/500\n",
      "14/14 [==============================] - 0s 6ms/step - loss: 13.8295 - val_loss: 491.9839\n",
      "Epoch 333/500\n",
      "14/14 [==============================] - 0s 5ms/step - loss: 13.5805 - val_loss: 492.8871\n",
      "Epoch 334/500\n",
      "14/14 [==============================] - 0s 5ms/step - loss: 13.3414 - val_loss: 493.7798\n",
      "Epoch 335/500\n",
      "14/14 [==============================] - 0s 5ms/step - loss: 13.1120 - val_loss: 494.6623\n",
      "Epoch 336/500\n",
      "14/14 [==============================] - 0s 5ms/step - loss: 12.8917 - val_loss: 495.5343\n",
      "Epoch 337/500\n",
      "14/14 [==============================] - 0s 5ms/step - loss: 12.6805 - val_loss: 496.3954\n",
      "Epoch 338/500\n",
      "14/14 [==============================] - 0s 5ms/step - loss: 12.4778 - val_loss: 497.2456\n",
      "Epoch 339/500\n",
      "14/14 [==============================] - 0s 5ms/step - loss: 12.2835 - val_loss: 498.0852\n",
      "Epoch 340/500\n",
      "14/14 [==============================] - 0s 6ms/step - loss: 12.0973 - val_loss: 498.9134\n",
      "Epoch 341/500\n",
      "14/14 [==============================] - 0s 6ms/step - loss: 11.9189 - val_loss: 499.7307\n",
      "Epoch 342/500\n",
      "14/14 [==============================] - 0s 13ms/step - loss: 11.7479 - val_loss: 500.5369\n",
      "Epoch 343/500\n",
      "14/14 [==============================] - 0s 7ms/step - loss: 11.5841 - val_loss: 501.3314\n",
      "Epoch 344/500\n",
      "14/14 [==============================] - 0s 7ms/step - loss: 11.4274 - val_loss: 502.1144\n",
      "Epoch 345/500\n",
      "14/14 [==============================] - 0s 6ms/step - loss: 11.2774 - val_loss: 502.8863\n",
      "Epoch 346/500\n",
      "14/14 [==============================] - 0s 6ms/step - loss: 11.1338 - val_loss: 503.6469\n",
      "Epoch 347/500\n",
      "14/14 [==============================] - 0s 5ms/step - loss: 10.9965 - val_loss: 504.3956\n",
      "Epoch 348/500\n",
      "14/14 [==============================] - 0s 5ms/step - loss: 10.8652 - val_loss: 505.1323\n",
      "Epoch 349/500\n",
      "14/14 [==============================] - 0s 5ms/step - loss: 10.7397 - val_loss: 505.8581\n",
      "Epoch 350/500\n",
      "14/14 [==============================] - 0s 5ms/step - loss: 10.6197 - val_loss: 506.5718\n",
      "Epoch 351/500\n",
      "14/14 [==============================] - 0s 5ms/step - loss: 10.5052 - val_loss: 507.2740\n",
      "Epoch 352/500\n",
      "14/14 [==============================] - 0s 5ms/step - loss: 10.3957 - val_loss: 507.9645\n",
      "Epoch 353/500\n",
      "14/14 [==============================] - 0s 6ms/step - loss: 10.2912 - val_loss: 508.6432\n",
      "Epoch 354/500\n",
      "14/14 [==============================] - 0s 5ms/step - loss: 10.1915 - val_loss: 509.3102\n",
      "Epoch 355/500\n",
      "14/14 [==============================] - 0s 5ms/step - loss: 10.0963 - val_loss: 509.9656\n",
      "Epoch 356/500\n",
      "14/14 [==============================] - 0s 5ms/step - loss: 10.0056 - val_loss: 510.6096\n",
      "Epoch 357/500\n",
      "14/14 [==============================] - 0s 6ms/step - loss: 9.9190 - val_loss: 511.2418\n",
      "Epoch 358/500\n",
      "14/14 [==============================] - 0s 5ms/step - loss: 9.8365 - val_loss: 511.8625\n",
      "Epoch 359/500\n",
      "14/14 [==============================] - 0s 5ms/step - loss: 9.7578 - val_loss: 512.4713\n",
      "Epoch 360/500\n",
      "14/14 [==============================] - 0s 6ms/step - loss: 9.6829 - val_loss: 513.0690\n",
      "Epoch 361/500\n",
      "14/14 [==============================] - 0s 5ms/step - loss: 9.6115 - val_loss: 513.6550\n",
      "Epoch 362/500\n",
      "14/14 [==============================] - 0s 5ms/step - loss: 9.5436 - val_loss: 514.2299\n",
      "Epoch 363/500\n",
      "14/14 [==============================] - 0s 12ms/step - loss: 9.4789 - val_loss: 514.7933\n",
      "Epoch 364/500\n",
      "14/14 [==============================] - 0s 6ms/step - loss: 9.4173 - val_loss: 515.3455\n",
      "Epoch 365/500\n",
      "14/14 [==============================] - 0s 6ms/step - loss: 9.3587 - val_loss: 515.8864\n",
      "Epoch 366/500\n",
      "14/14 [==============================] - 0s 5ms/step - loss: 9.3030 - val_loss: 516.4160\n",
      "Epoch 367/500\n",
      "14/14 [==============================] - 0s 6ms/step - loss: 9.2501 - val_loss: 516.9348\n",
      "Epoch 368/500\n",
      "14/14 [==============================] - 0s 5ms/step - loss: 9.1998 - val_loss: 517.4425\n",
      "Epoch 369/500\n",
      "14/14 [==============================] - 0s 6ms/step - loss: 9.1520 - val_loss: 517.9396\n",
      "Epoch 370/500\n",
      "14/14 [==============================] - 0s 5ms/step - loss: 9.1065 - val_loss: 518.4260\n",
      "Epoch 371/500\n",
      "14/14 [==============================] - 0s 6ms/step - loss: 9.0634 - val_loss: 518.9014\n",
      "Epoch 372/500\n",
      "14/14 [==============================] - 0s 7ms/step - loss: 9.0224 - val_loss: 519.3666\n",
      "Epoch 373/500\n",
      "14/14 [==============================] - 0s 5ms/step - loss: 8.9835 - val_loss: 519.8214\n",
      "Epoch 374/500\n",
      "14/14 [==============================] - 0s 6ms/step - loss: 8.9466 - val_loss: 520.2656\n",
      "Epoch 375/500\n",
      "14/14 [==============================] - 0s 6ms/step - loss: 8.9116 - val_loss: 520.6998\n",
      "Epoch 376/500\n",
      "14/14 [==============================] - 0s 7ms/step - loss: 8.8784 - val_loss: 521.1237\n",
      "Epoch 377/500\n",
      "14/14 [==============================] - 0s 8ms/step - loss: 8.8470 - val_loss: 521.5377\n",
      "Epoch 378/500\n",
      "14/14 [==============================] - 0s 7ms/step - loss: 8.8172 - val_loss: 521.9418\n",
      "Epoch 379/500\n",
      "14/14 [==============================] - 0s 9ms/step - loss: 8.7889 - val_loss: 522.3362\n",
      "Epoch 380/500\n",
      "14/14 [==============================] - 0s 7ms/step - loss: 8.7621 - val_loss: 522.7209\n",
      "Epoch 381/500\n",
      "14/14 [==============================] - 0s 7ms/step - loss: 8.7367 - val_loss: 523.0962\n",
      "Epoch 382/500\n",
      "14/14 [==============================] - 0s 14ms/step - loss: 8.7127 - val_loss: 523.4617\n",
      "Epoch 383/500\n",
      "14/14 [==============================] - 0s 8ms/step - loss: 8.6900 - val_loss: 523.8185\n",
      "Epoch 384/500\n",
      "14/14 [==============================] - 0s 8ms/step - loss: 8.6685 - val_loss: 524.1659\n",
      "Epoch 385/500\n",
      "14/14 [==============================] - 0s 8ms/step - loss: 8.6482 - val_loss: 524.5045\n",
      "Epoch 386/500\n",
      "14/14 [==============================] - 0s 7ms/step - loss: 8.6289 - val_loss: 524.8340\n",
      "Epoch 387/500\n",
      "14/14 [==============================] - 0s 8ms/step - loss: 8.6107 - val_loss: 525.1553\n",
      "Epoch 388/500\n",
      "14/14 [==============================] - 0s 9ms/step - loss: 8.5935 - val_loss: 525.4678\n",
      "Epoch 389/500\n",
      "14/14 [==============================] - 0s 7ms/step - loss: 8.5772 - val_loss: 525.7717\n",
      "Epoch 390/500\n",
      "14/14 [==============================] - 0s 9ms/step - loss: 8.5618 - val_loss: 526.0673\n",
      "Epoch 391/500\n",
      "14/14 [==============================] - 0s 10ms/step - loss: 8.5473 - val_loss: 526.3550\n",
      "Epoch 392/500\n",
      "14/14 [==============================] - 0s 10ms/step - loss: 8.5336 - val_loss: 526.6346\n",
      "Epoch 393/500\n",
      "14/14 [==============================] - 0s 10ms/step - loss: 8.5207 - val_loss: 526.9069\n",
      "Epoch 394/500\n",
      "14/14 [==============================] - 0s 9ms/step - loss: 8.5084 - val_loss: 527.1713\n",
      "Epoch 395/500\n",
      "14/14 [==============================] - 0s 8ms/step - loss: 8.4968 - val_loss: 527.4278\n",
      "Epoch 396/500\n",
      "14/14 [==============================] - 0s 7ms/step - loss: 8.4859 - val_loss: 527.6770\n",
      "Epoch 397/500\n",
      "14/14 [==============================] - 0s 18ms/step - loss: 8.4756 - val_loss: 527.9193\n",
      "Epoch 398/500\n",
      "14/14 [==============================] - 0s 9ms/step - loss: 8.4659 - val_loss: 528.1538\n",
      "Epoch 399/500\n",
      "14/14 [==============================] - 0s 9ms/step - loss: 8.4567 - val_loss: 528.3815\n",
      "Epoch 400/500\n",
      "14/14 [==============================] - 0s 8ms/step - loss: 8.4480 - val_loss: 528.6025\n",
      "Epoch 401/500\n",
      "14/14 [==============================] - 0s 6ms/step - loss: 8.4399 - val_loss: 528.8170\n",
      "Epoch 402/500\n",
      "14/14 [==============================] - 0s 7ms/step - loss: 8.4322 - val_loss: 529.0247\n",
      "Epoch 403/500\n",
      "14/14 [==============================] - 0s 6ms/step - loss: 8.4249 - val_loss: 529.2260\n",
      "Epoch 404/500\n",
      "14/14 [==============================] - 0s 6ms/step - loss: 8.4181 - val_loss: 529.4213\n",
      "Epoch 405/500\n",
      "14/14 [==============================] - 0s 6ms/step - loss: 8.4116 - val_loss: 529.6100\n",
      "Epoch 406/500\n",
      "14/14 [==============================] - 0s 6ms/step - loss: 8.4056 - val_loss: 529.7931\n",
      "Epoch 407/500\n",
      "14/14 [==============================] - 0s 7ms/step - loss: 8.3998 - val_loss: 529.9700\n",
      "Epoch 408/500\n",
      "14/14 [==============================] - 0s 6ms/step - loss: 8.3944 - val_loss: 530.1414\n",
      "Epoch 409/500\n",
      "14/14 [==============================] - 0s 6ms/step - loss: 8.3893 - val_loss: 530.3069\n",
      "Epoch 410/500\n",
      "14/14 [==============================] - 0s 6ms/step - loss: 8.3845 - val_loss: 530.4673\n",
      "Epoch 411/500\n",
      "14/14 [==============================] - 0s 7ms/step - loss: 8.3800 - val_loss: 530.6223\n",
      "Epoch 412/500\n",
      "14/14 [==============================] - 0s 6ms/step - loss: 8.3757 - val_loss: 530.7718\n",
      "Epoch 413/500\n",
      "14/14 [==============================] - 0s 6ms/step - loss: 8.3717 - val_loss: 530.9164\n",
      "Epoch 414/500\n",
      "14/14 [==============================] - 0s 6ms/step - loss: 8.3680 - val_loss: 531.0563\n",
      "Epoch 415/500\n",
      "14/14 [==============================] - 0s 15ms/step - loss: 8.3644 - val_loss: 531.1913\n",
      "Epoch 416/500\n",
      "14/14 [==============================] - 0s 6ms/step - loss: 8.3610 - val_loss: 531.3219\n",
      "Epoch 417/500\n",
      "14/14 [==============================] - 0s 6ms/step - loss: 8.3579 - val_loss: 531.4478\n",
      "Epoch 418/500\n",
      "14/14 [==============================] - 0s 5ms/step - loss: 8.3548 - val_loss: 531.5685\n",
      "Epoch 419/500\n",
      "14/14 [==============================] - 0s 6ms/step - loss: 8.3521 - val_loss: 531.6857\n",
      "Epoch 420/500\n",
      "14/14 [==============================] - 0s 6ms/step - loss: 8.3495 - val_loss: 531.7986\n",
      "Epoch 421/500\n",
      "14/14 [==============================] - 0s 5ms/step - loss: 8.3470 - val_loss: 531.9074\n",
      "Epoch 422/500\n",
      "14/14 [==============================] - 0s 5ms/step - loss: 8.3446 - val_loss: 532.0123\n",
      "Epoch 423/500\n",
      "14/14 [==============================] - 0s 6ms/step - loss: 8.3424 - val_loss: 532.1130\n",
      "Epoch 424/500\n",
      "14/14 [==============================] - 0s 6ms/step - loss: 8.3403 - val_loss: 532.2103\n",
      "Epoch 425/500\n",
      "14/14 [==============================] - 0s 6ms/step - loss: 8.3384 - val_loss: 532.3035\n",
      "Epoch 426/500\n",
      "14/14 [==============================] - 0s 6ms/step - loss: 8.3365 - val_loss: 532.3931\n",
      "Epoch 427/500\n",
      "14/14 [==============================] - 0s 6ms/step - loss: 8.3348 - val_loss: 532.4800\n",
      "Epoch 428/500\n",
      "14/14 [==============================] - 0s 6ms/step - loss: 8.3332 - val_loss: 532.5636\n",
      "Epoch 429/500\n",
      "14/14 [==============================] - 0s 5ms/step - loss: 8.3316 - val_loss: 532.6436\n",
      "Epoch 430/500\n",
      "14/14 [==============================] - 0s 5ms/step - loss: 8.3302 - val_loss: 532.7204\n",
      "Epoch 431/500\n",
      "14/14 [==============================] - 0s 6ms/step - loss: 8.3289 - val_loss: 532.7943\n",
      "Epoch 432/500\n",
      "14/14 [==============================] - 0s 8ms/step - loss: 8.3276 - val_loss: 532.8654\n",
      "Epoch 433/500\n",
      "14/14 [==============================] - 0s 6ms/step - loss: 8.3264 - val_loss: 532.9332\n",
      "Epoch 434/500\n",
      "14/14 [==============================] - 0s 12ms/step - loss: 8.3253 - val_loss: 532.9990\n",
      "Epoch 435/500\n",
      "14/14 [==============================] - 0s 6ms/step - loss: 8.3242 - val_loss: 533.0615\n",
      "Epoch 436/500\n",
      "14/14 [==============================] - 0s 6ms/step - loss: 8.3232 - val_loss: 533.1218\n",
      "Epoch 437/500\n",
      "14/14 [==============================] - 0s 6ms/step - loss: 8.3222 - val_loss: 533.1791\n",
      "Epoch 438/500\n",
      "14/14 [==============================] - 0s 6ms/step - loss: 8.3214 - val_loss: 533.2344\n",
      "Epoch 439/500\n",
      "14/14 [==============================] - 0s 6ms/step - loss: 8.3206 - val_loss: 533.2875\n",
      "Epoch 440/500\n",
      "14/14 [==============================] - 0s 6ms/step - loss: 8.3198 - val_loss: 533.3382\n",
      "Epoch 441/500\n",
      "14/14 [==============================] - 0s 5ms/step - loss: 8.3190 - val_loss: 533.3868\n",
      "Epoch 442/500\n",
      "14/14 [==============================] - 0s 6ms/step - loss: 8.3184 - val_loss: 533.4336\n",
      "Epoch 443/500\n",
      "14/14 [==============================] - 0s 6ms/step - loss: 8.3177 - val_loss: 533.4775\n",
      "Epoch 444/500\n",
      "14/14 [==============================] - 0s 6ms/step - loss: 8.3171 - val_loss: 533.5203\n",
      "Epoch 445/500\n",
      "14/14 [==============================] - 0s 5ms/step - loss: 8.3166 - val_loss: 533.5609\n",
      "Epoch 446/500\n",
      "14/14 [==============================] - 0s 5ms/step - loss: 8.3160 - val_loss: 533.5999\n",
      "Epoch 447/500\n",
      "14/14 [==============================] - 0s 5ms/step - loss: 8.3155 - val_loss: 533.6372\n",
      "Epoch 448/500\n",
      "14/14 [==============================] - 0s 5ms/step - loss: 8.3151 - val_loss: 533.6724\n",
      "Epoch 449/500\n",
      "14/14 [==============================] - 0s 5ms/step - loss: 8.3146 - val_loss: 533.7062\n",
      "Epoch 450/500\n",
      "14/14 [==============================] - 0s 5ms/step - loss: 8.3142 - val_loss: 533.7383\n",
      "Epoch 451/500\n",
      "14/14 [==============================] - 0s 5ms/step - loss: 8.3139 - val_loss: 533.7692\n",
      "Epoch 452/500\n",
      "14/14 [==============================] - 0s 5ms/step - loss: 8.3135 - val_loss: 533.7982\n",
      "Epoch 453/500\n",
      "14/14 [==============================] - 0s 5ms/step - loss: 8.3132 - val_loss: 533.8260\n",
      "Epoch 454/500\n",
      "14/14 [==============================] - 0s 19ms/step - loss: 8.3129 - val_loss: 533.8527\n",
      "Epoch 455/500\n",
      "14/14 [==============================] - 0s 9ms/step - loss: 8.3126 - val_loss: 533.8781\n",
      "Epoch 456/500\n",
      "14/14 [==============================] - 0s 7ms/step - loss: 8.3124 - val_loss: 533.9026\n",
      "Epoch 457/500\n",
      "14/14 [==============================] - 0s 7ms/step - loss: 8.3121 - val_loss: 533.9257\n",
      "Epoch 458/500\n",
      "14/14 [==============================] - 0s 6ms/step - loss: 8.3119 - val_loss: 533.9474\n",
      "Epoch 459/500\n",
      "14/14 [==============================] - 0s 5ms/step - loss: 8.3117 - val_loss: 533.9688\n",
      "Epoch 460/500\n",
      "14/14 [==============================] - 0s 5ms/step - loss: 8.3115 - val_loss: 533.9886\n",
      "Epoch 461/500\n",
      "14/14 [==============================] - 0s 5ms/step - loss: 8.3114 - val_loss: 534.0076\n",
      "Epoch 462/500\n",
      "14/14 [==============================] - 0s 5ms/step - loss: 8.3112 - val_loss: 534.0255\n",
      "Epoch 463/500\n",
      "14/14 [==============================] - 0s 5ms/step - loss: 8.3111 - val_loss: 534.0426\n",
      "Epoch 464/500\n",
      "14/14 [==============================] - 0s 5ms/step - loss: 8.3109 - val_loss: 534.0583\n",
      "Epoch 465/500\n",
      "14/14 [==============================] - 0s 5ms/step - loss: 8.3108 - val_loss: 534.0739\n",
      "Epoch 466/500\n",
      "14/14 [==============================] - 0s 5ms/step - loss: 8.3107 - val_loss: 534.0884\n",
      "Epoch 467/500\n",
      "14/14 [==============================] - 0s 6ms/step - loss: 8.3106 - val_loss: 534.1015\n",
      "Epoch 468/500\n",
      "14/14 [==============================] - 0s 5ms/step - loss: 8.3106 - val_loss: 534.1144\n",
      "Epoch 469/500\n",
      "14/14 [==============================] - 0s 6ms/step - loss: 8.3105 - val_loss: 534.1270\n",
      "Epoch 470/500\n",
      "14/14 [==============================] - 0s 6ms/step - loss: 8.3104 - val_loss: 534.1384\n",
      "Epoch 471/500\n",
      "14/14 [==============================] - 0s 5ms/step - loss: 8.3104 - val_loss: 534.1495\n",
      "Epoch 472/500\n",
      "14/14 [==============================] - 0s 5ms/step - loss: 8.3104 - val_loss: 534.1595\n",
      "Epoch 473/500\n",
      "14/14 [==============================] - 0s 5ms/step - loss: 8.3103 - val_loss: 534.1697\n",
      "Epoch 474/500\n",
      "14/14 [==============================] - 0s 5ms/step - loss: 8.3103 - val_loss: 534.1787\n",
      "Epoch 475/500\n",
      "14/14 [==============================] - 0s 5ms/step - loss: 8.3103 - val_loss: 534.1874\n",
      "Epoch 476/500\n",
      "14/14 [==============================] - 0s 5ms/step - loss: 8.3103 - val_loss: 534.1956\n",
      "Epoch 477/500\n",
      "14/14 [==============================] - 0s 6ms/step - loss: 8.3103 - val_loss: 534.2034\n",
      "Epoch 478/500\n",
      "14/14 [==============================] - 0s 5ms/step - loss: 8.3103 - val_loss: 534.2108\n",
      "Epoch 479/500\n",
      "14/14 [==============================] - 0s 10ms/step - loss: 8.3103 - val_loss: 534.2177\n",
      "Epoch 480/500\n",
      "14/14 [==============================] - 0s 5ms/step - loss: 8.3104 - val_loss: 534.2240\n",
      "Epoch 481/500\n",
      "14/14 [==============================] - 0s 5ms/step - loss: 8.3104 - val_loss: 534.2301\n",
      "Epoch 482/500\n",
      "14/14 [==============================] - 0s 5ms/step - loss: 8.3104 - val_loss: 534.2360\n",
      "Epoch 483/500\n",
      "14/14 [==============================] - 0s 6ms/step - loss: 8.3105 - val_loss: 534.2415\n",
      "Epoch 484/500\n",
      "14/14 [==============================] - 0s 5ms/step - loss: 8.3105 - val_loss: 534.2463\n",
      "Epoch 485/500\n",
      "14/14 [==============================] - 0s 5ms/step - loss: 8.3105 - val_loss: 534.2510\n",
      "Epoch 486/500\n",
      "14/14 [==============================] - 0s 6ms/step - loss: 8.3106 - val_loss: 534.2557\n",
      "Epoch 487/500\n",
      "14/14 [==============================] - 0s 6ms/step - loss: 8.3107 - val_loss: 534.2597\n",
      "Epoch 488/500\n",
      "14/14 [==============================] - 0s 5ms/step - loss: 8.3107 - val_loss: 534.2635\n",
      "Epoch 489/500\n",
      "14/14 [==============================] - 0s 5ms/step - loss: 8.3108 - val_loss: 534.2674\n",
      "Epoch 490/500\n",
      "14/14 [==============================] - 0s 6ms/step - loss: 8.3108 - val_loss: 534.2704\n",
      "Epoch 491/500\n",
      "14/14 [==============================] - 0s 4ms/step - loss: 8.3109 - val_loss: 534.2733\n",
      "Epoch 492/500\n",
      "14/14 [==============================] - 0s 5ms/step - loss: 8.3110 - val_loss: 534.2764\n",
      "Epoch 493/500\n",
      "14/14 [==============================] - 0s 6ms/step - loss: 8.3111 - val_loss: 534.2790\n",
      "Epoch 494/500\n",
      "14/14 [==============================] - 0s 5ms/step - loss: 8.3112 - val_loss: 534.2816\n",
      "Epoch 495/500\n",
      "14/14 [==============================] - 0s 5ms/step - loss: 8.3112 - val_loss: 534.2841\n",
      "Epoch 496/500\n",
      "14/14 [==============================] - 0s 5ms/step - loss: 8.3113 - val_loss: 534.2861\n",
      "Epoch 497/500\n",
      "14/14 [==============================] - 0s 5ms/step - loss: 8.3114 - val_loss: 534.2880\n",
      "Epoch 498/500\n",
      "14/14 [==============================] - 0s 4ms/step - loss: 8.3115 - val_loss: 534.2902\n",
      "Epoch 499/500\n",
      "14/14 [==============================] - 0s 5ms/step - loss: 8.3116 - val_loss: 534.2922\n",
      "Epoch 500/500\n",
      "14/14 [==============================] - 0s 5ms/step - loss: 8.3117 - val_loss: 534.2933\n"
     ]
    }
   ],
   "source": [
    "C0 = tf.Variable(89.3180, name=\"C0\", trainable=True, dtype=tf.float32)\n",
    "K0 = tf.Variable(-0.0010, name=\"K0\", trainable=True, dtype=tf.float32)\n",
    "K1 = tf.Variable(0.0001, name=\"K1\", trainable=True, dtype=tf.float32)\n",
    "a = tf.Variable(0.0000, name=\"a\", trainable=True, dtype=tf.float32)\n",
    "b = tf.Variable(-0.0204, name=\"b\", trainable=True, dtype=tf.float32)\n",
    "c = tf.Variable(2.2194, name=\"c\", trainable=True, dtype=tf.float32)\n",
    "\n",
    "splitr = 0.8\n",
    "\n",
    "\n",
    "def loss_fn(y_true, y_pred):\n",
    "    squared_difference = tf.square(y_true[:, 0] - y_pred[:, 0])\n",
    "    #squared_difference2 = tf.square(y_true[:, 2]-y_pred[:, 2])\n",
    "    #squared_difference1 = tf.square(y_true[:, 1]-y_pred[:, 1])\n",
    "    epsilon = 1\n",
    "    squared_difference3 = tf.square(\n",
    "        y_pred[:, 1] - (\n",
    "            y_pred[:, 0] * (\n",
    "                K0 - K1 * (\n",
    "                    9 * a * tf.math.log((y_pred[:, 0] + epsilon) / C0) / (K0 - K1 * c)**2 +\n",
    "                    4 * b * tf.math.log((y_pred[:, 0] + epsilon) / C0) / (K0 - K1 * c) + c\n",
    "                )\n",
    "            )\n",
    "        )\n",
    "    )\n",
    "    return tf.reduce_mean(squared_difference, axis=-1) + 0.2*tf.reduce_mean(squared_difference3, axis=-1)\n",
    "model = Sequential()\n",
    "model.add(LSTM(100, input_shape=(trainX.shape[1], trainX.shape[2])))\n",
    "model.add(Dense(60))\n",
    "model.compile(loss=loss_fn, optimizer='adam')\n",
    "history = model.fit(trainX[:int(splitr*trainX.shape[0])], trainy[:int(splitr*trainX.shape[0])], epochs=500, batch_size=64, validation_data=(trainX[int(splitr*trainX.shape[0]):trainX.shape[0]], trainy[int(splitr*trainX.shape[0]):trainX.shape[0]]), shuffle=False)"
   ]
  },
  {
   "cell_type": "code",
   "execution_count": 19,
   "metadata": {
    "colab": {
     "base_uri": "https://localhost:8080/"
    },
    "id": "yJL101rPyuoT",
    "outputId": "239ff2b1-c186-423a-d316-939dfdd7c793"
   },
   "outputs": [
    {
     "name": "stdout",
     "output_type": "stream",
     "text": [
      "1/1 [==============================] - 0s 428ms/step\n"
     ]
    }
   ],
   "source": [
    "forecast_without_mc = forecastX\n",
    "yhat_without_mc = model.predict(forecast_without_mc) # Step Ahead Prediction\n",
    "forecast_without_mc = forecast_without_mc.reshape((forecast_without_mc.shape[0], forecast_without_mc.shape[2])) # Historical Input"
   ]
  },
  {
   "cell_type": "code",
   "execution_count": 20,
   "metadata": {
    "colab": {
     "base_uri": "https://localhost:8080/"
    },
    "id": "g9dQELcJ8wbp",
    "outputId": "4dc7671b-b1a8-48d5-8744-a86f98446109"
   },
   "outputs": [
    {
     "data": {
      "text/plain": [
       "(1, 1, 251)"
      ]
     },
     "execution_count": 20,
     "metadata": {},
     "output_type": "execute_result"
    }
   ],
   "source": [
    "forecastX.shape"
   ]
  },
  {
   "cell_type": "code",
   "execution_count": 21,
   "metadata": {
    "colab": {
     "base_uri": "https://localhost:8080/"
    },
    "id": "IS2kyIKG1Kbr",
    "outputId": "f31b3485-8e26-452f-9298-ea8bf7e80ad1"
   },
   "outputs": [
    {
     "data": {
      "text/plain": [
       "(1, 251)"
      ]
     },
     "execution_count": 21,
     "metadata": {},
     "output_type": "execute_result"
    }
   ],
   "source": [
    "forecast_without_mc.shape"
   ]
  },
  {
   "cell_type": "code",
   "execution_count": 22,
   "metadata": {
    "id": "0u6VIzaDyuoT"
   },
   "outputs": [],
   "source": [
    "inv_yhat_without_mc = np.concatenate((forecast_without_mc, yhat_without_mc), axis=1) # Concatenation of predicted values with Historical Data\n",
    "#inv_yhat_without_mc = scaler.inverse_transform(inv_yhat_without_mc) # Transform labels back to original encoding"
   ]
  },
  {
   "cell_type": "code",
   "execution_count": 23,
   "metadata": {
    "colab": {
     "base_uri": "https://localhost:8080/"
    },
    "id": "EUEcw0LX07oU",
    "outputId": "cfc32397-9c37-4b43-d087-584bb31c3dcc"
   },
   "outputs": [
    {
     "data": {
      "text/plain": [
       "(1, 311)"
      ]
     },
     "execution_count": 23,
     "metadata": {},
     "output_type": "execute_result"
    }
   ],
   "source": [
    "inv_yhat_without_mc.shape"
   ]
  },
  {
   "cell_type": "code",
   "execution_count": 24,
   "metadata": {
    "id": "31OWVbSh_305"
   },
   "outputs": [],
   "source": [
    "fforecast = inv_yhat_without_mc[:,-300:]"
   ]
  },
  {
   "cell_type": "code",
   "execution_count": 25,
   "metadata": {},
   "outputs": [
    {
     "data": {
      "text/plain": [
       "(1, 300)"
      ]
     },
     "execution_count": 25,
     "metadata": {},
     "output_type": "execute_result"
    }
   ],
   "source": [
    "fforecast.shape"
   ]
  },
  {
   "cell_type": "code",
   "execution_count": 26,
   "metadata": {
    "id": "BlpGH2FOAiRF"
   },
   "outputs": [],
   "source": [
    "final_forecast = fforecast[:,0:300:3]"
   ]
  },
  {
   "cell_type": "code",
   "execution_count": 27,
   "metadata": {},
   "outputs": [
    {
     "data": {
      "text/plain": [
       "(1, 300)"
      ]
     },
     "execution_count": 27,
     "metadata": {},
     "output_type": "execute_result"
    }
   ],
   "source": [
    "fforecast.shape"
   ]
  },
  {
   "cell_type": "code",
   "execution_count": 28,
   "metadata": {
    "id": "CXkgkj_LBk_t"
   },
   "outputs": [],
   "source": [
    "# code to replace all negative value with 0\n",
    "final_forecast[final_forecast<0] = 0"
   ]
  },
  {
   "cell_type": "code",
   "execution_count": 29,
   "metadata": {},
   "outputs": [
    {
     "data": {
      "text/plain": [
       "array([[7.28102078e+01, 7.27679108e+01, 7.27256139e+01, 7.26833170e+01,\n",
       "        7.26410201e+01, 7.25987232e+01, 7.25564262e+01, 7.25141293e+01,\n",
       "        7.24718324e+01, 7.24295355e+01, 7.23872386e+01, 7.23449416e+01,\n",
       "        7.23026447e+01, 7.22603478e+01, 7.22180509e+01, 7.21757540e+01,\n",
       "        7.21334571e+01, 7.20911601e+01, 7.20488632e+01, 7.20065663e+01,\n",
       "        7.19833543e+01, 7.19724300e+01, 7.19615056e+01, 7.19505812e+01,\n",
       "        7.19396569e+01, 7.19287325e+01, 7.19178081e+01, 7.19068838e+01,\n",
       "        7.18959594e+01, 7.18850350e+01, 7.18741106e+01, 7.18631863e+01,\n",
       "        7.18522619e+01, 7.18413375e+01, 7.18304132e+01, 7.18194888e+01,\n",
       "        7.18085644e+01, 7.17976401e+01, 7.17867157e+01, 7.17757913e+01,\n",
       "        7.17648669e+01, 7.17539426e+01, 7.17430182e+01, 7.17320938e+01,\n",
       "        7.17211695e+01, 7.17102451e+01, 7.16993207e+01, 7.71017974e+01,\n",
       "        7.70429739e+01, 7.69841503e+01, 7.69253268e+01, 7.68425770e+01,\n",
       "        7.67417367e+01, 7.66408964e+01, 7.65400560e+01, 7.64392157e+01,\n",
       "        7.63383754e+01, 7.62375350e+01, 7.61366947e+01, 7.60358543e+01,\n",
       "        7.59350140e+01, 7.58341737e+01, 7.57333333e+01, 7.55762372e+01,\n",
       "        7.53913632e+01, 7.52064893e+01, 7.50216153e+01, 7.48367414e+01,\n",
       "        7.46518674e+01, 7.44669935e+01, 7.42821195e+01, 7.40972456e+01,\n",
       "        7.39123716e+01, 7.85414047e+01, 8.65812778e-01, 4.47440207e-01,\n",
       "        3.89988650e-02, 0.00000000e+00, 0.00000000e+00, 0.00000000e+00,\n",
       "        7.35769043e+01, 4.89240825e-01, 0.00000000e+00, 0.00000000e+00,\n",
       "        0.00000000e+00, 0.00000000e+00, 0.00000000e+00, 6.01749420e-01,\n",
       "        0.00000000e+00, 9.62374210e-01, 0.00000000e+00, 0.00000000e+00,\n",
       "        0.00000000e+00, 3.56811106e-01, 3.91098469e-01, 0.00000000e+00,\n",
       "        0.00000000e+00, 3.44057649e-01, 7.65121341e-01, 0.00000000e+00]])"
      ]
     },
     "execution_count": 29,
     "metadata": {},
     "output_type": "execute_result"
    }
   ],
   "source": [
    "final_forecast"
   ]
  },
  {
   "cell_type": "code",
   "execution_count": 30,
   "metadata": {},
   "outputs": [
    {
     "data": {
      "text/plain": [
       "(1, 100)"
      ]
     },
     "execution_count": 30,
     "metadata": {},
     "output_type": "execute_result"
    }
   ],
   "source": [
    "final_forecast.shape"
   ]
  },
  {
   "cell_type": "code",
   "execution_count": 31,
   "metadata": {},
   "outputs": [
    {
     "data": {
      "text/plain": [
       "(100,)"
      ]
     },
     "execution_count": 31,
     "metadata": {},
     "output_type": "execute_result"
    }
   ],
   "source": [
    "test.shape"
   ]
  },
  {
   "cell_type": "code",
   "execution_count": 32,
   "metadata": {},
   "outputs": [],
   "source": [
    "training_set = np.array(training_set)\n",
    "test = np.array(test)\n",
    "final_forecast = np.array(final_forecast.squeeze(0))"
   ]
  },
  {
   "cell_type": "code",
   "execution_count": 33,
   "metadata": {},
   "outputs": [
    {
     "data": {
      "text/plain": [
       "array([69.11094771, 69.10441176, 69.09787582, 69.09133987, 69.08480392,\n",
       "       69.07826797, 69.07173203, 69.06519608, 69.05866013, 69.05212418,\n",
       "       69.04558824, 69.03905229, 69.03251634, 69.02598039, 69.01944444,\n",
       "       69.0129085 , 69.00637255, 68.9998366 , 68.99330065, 68.98676471,\n",
       "       68.98022876, 68.97369281, 68.96715686, 68.96062092, 68.95408497,\n",
       "       68.94754902, 68.94101307, 68.93447712, 68.92794118, 68.92140523,\n",
       "       68.91486928, 68.90833333, 68.90179739, 68.89526144, 68.88872549,\n",
       "       68.88218954, 68.87565359, 68.86911765, 68.8625817 , 68.85604575,\n",
       "       68.8495098 , 68.84297386, 68.83643791, 68.82990196, 68.82336601,\n",
       "       68.81683007, 68.81029412, 68.80375817, 68.79960317, 68.79866947,\n",
       "       68.79773576, 68.79680205, 68.79586835, 68.79493464, 68.79400093,\n",
       "       68.79306723, 68.79213352, 68.79119981, 68.79026611, 68.7893324 ,\n",
       "       68.78839869, 68.78746499, 68.78653128, 68.78559757, 68.78466387,\n",
       "       68.78373016, 68.78279645, 68.78186275, 68.78092904, 68.77999533,\n",
       "       68.77906162, 68.77812792, 68.77719421, 68.7762605 , 68.7753268 ,\n",
       "       68.77439309, 68.77345938, 68.77252568, 68.77159197, 68.77065826,\n",
       "       68.76972456, 68.76879085, 68.76785714, 68.76692344, 68.76598973,\n",
       "       68.76505602, 68.76412232, 68.76318861, 68.7622549 , 68.7613212 ,\n",
       "       68.76038749, 68.75945378, 68.75852007, 68.75758637, 68.75665266,\n",
       "       68.75571895, 68.75478525, 68.75385154, 68.75291783, 68.75198413])"
      ]
     },
     "execution_count": 33,
     "metadata": {},
     "output_type": "execute_result"
    }
   ],
   "source": [
    "test"
   ]
  },
  {
   "cell_type": "code",
   "execution_count": 34,
   "metadata": {},
   "outputs": [
    {
     "data": {
      "text/plain": [
       "(100,)"
      ]
     },
     "execution_count": 34,
     "metadata": {},
     "output_type": "execute_result"
    }
   ],
   "source": [
    "test.shape"
   ]
  },
  {
   "cell_type": "code",
   "execution_count": 35,
   "metadata": {},
   "outputs": [
    {
     "data": {
      "text/plain": [
       "(100,)"
      ]
     },
     "execution_count": 35,
     "metadata": {},
     "output_type": "execute_result"
    }
   ],
   "source": [
    "final_forecast.shape"
   ]
  },
  {
   "cell_type": "code",
   "execution_count": 36,
   "metadata": {},
   "outputs": [
    {
     "data": {
      "text/plain": [
       "(100,)"
      ]
     },
     "execution_count": 36,
     "metadata": {},
     "output_type": "execute_result"
    }
   ],
   "source": [
    "test.shape"
   ]
  },
  {
   "cell_type": "code",
   "execution_count": 37,
   "metadata": {},
   "outputs": [
    {
     "name": "stdout",
     "output_type": "stream",
     "text": [
      "34.55043833982619\n",
      "20.575686364953484\n"
     ]
    }
   ],
   "source": [
    "import math\n",
    "MSE = np.square(np.subtract(np.array(test),np.array(final_forecast))).mean()   \n",
    "rsme = math.sqrt(MSE)\n",
    "print(rsme)  \n",
    "MAE = np.abs(np.subtract(np.array(test),np.array(final_forecast))).mean()   \n",
    "mae = MAE\n",
    "print(mae)"
   ]
  }
 ],
 "metadata": {
  "colab": {
   "provenance": []
  },
  "kernelspec": {
   "display_name": "Python 3",
   "language": "python",
   "name": "python3"
  },
  "language_info": {
   "codemirror_mode": {
    "name": "ipython",
    "version": 3
   },
   "file_extension": ".py",
   "mimetype": "text/x-python",
   "name": "python",
   "nbconvert_exporter": "python",
   "pygments_lexer": "ipython3",
   "version": "3.9.13"
  }
 },
 "nbformat": 4,
 "nbformat_minor": 0
}
