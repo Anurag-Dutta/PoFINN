{
 "cells": [
  {
   "cell_type": "markdown",
   "metadata": {
    "id": "pCGKeZ2gyuoQ"
   },
   "source": [
    "_Importing Required Libraries_"
   ]
  },
  {
   "cell_type": "code",
   "execution_count": 1,
   "metadata": {
    "colab": {
     "base_uri": "https://localhost:8080/"
    },
    "id": "A-6LN-zXiLcM",
    "outputId": "4de610a4-f8b8-4f49-c6c0-89de299ccedc"
   },
   "outputs": [
    {
     "name": "stdout",
     "output_type": "stream",
     "text": [
      "Requirement already satisfied: hampel in c:\\users\\anurag dutta\\appdata\\local\\packages\\pythonsoftwarefoundation.python.3.9_qbz5n2kfra8p0\\localcache\\local-packages\\python39\\site-packages (0.0.5)\n",
      "Requirement already satisfied: numpy in c:\\users\\anurag dutta\\appdata\\local\\packages\\pythonsoftwarefoundation.python.3.9_qbz5n2kfra8p0\\localcache\\local-packages\\python39\\site-packages (from hampel) (1.26.4)\n",
      "Requirement already satisfied: pandas in c:\\users\\anurag dutta\\appdata\\local\\packages\\pythonsoftwarefoundation.python.3.9_qbz5n2kfra8p0\\localcache\\local-packages\\python39\\site-packages (from hampel) (1.5.2)\n",
      "Requirement already satisfied: python-dateutil>=2.8.1 in c:\\users\\anurag dutta\\appdata\\local\\packages\\pythonsoftwarefoundation.python.3.9_qbz5n2kfra8p0\\localcache\\local-packages\\python39\\site-packages (from pandas->hampel) (2.8.2)\n",
      "Requirement already satisfied: pytz>=2020.1 in c:\\users\\anurag dutta\\appdata\\local\\packages\\pythonsoftwarefoundation.python.3.9_qbz5n2kfra8p0\\localcache\\local-packages\\python39\\site-packages (from pandas->hampel) (2023.3.post1)Note: you may need to restart the kernel to use updated packages.\n"
     ]
    },
    {
     "name": "stderr",
     "output_type": "stream",
     "text": [
      "\n",
      "[notice] A new release of pip is available: 24.2 -> 24.3.1\n",
      "[notice] To update, run: C:\\Users\\Anurag Dutta\\AppData\\Local\\Microsoft\\WindowsApps\\PythonSoftwareFoundation.Python.3.9_qbz5n2kfra8p0\\python.exe -m pip install --upgrade pip\n"
     ]
    },
    {
     "name": "stdout",
     "output_type": "stream",
     "text": [
      "\n",
      "Requirement already satisfied: six>=1.5 in c:\\users\\anurag dutta\\appdata\\local\\packages\\pythonsoftwarefoundation.python.3.9_qbz5n2kfra8p0\\localcache\\local-packages\\python39\\site-packages (from python-dateutil>=2.8.1->pandas->hampel) (1.16.0)\n"
     ]
    }
   ],
   "source": [
    "pip install hampel"
   ]
  },
  {
   "cell_type": "code",
   "execution_count": 2,
   "metadata": {
    "id": "By_d9uXpaFvZ"
   },
   "outputs": [],
   "source": [
    "from keras.models import Sequential\n",
    "from keras.layers import Dense\n",
    "from keras.layers import LSTM\n",
    "from keras.layers import Dropout\n",
    "import keras\n",
    "import tensorflow as tf\n",
    "from hampel import hampel\n",
    "import numpy as np\n",
    "import matplotlib.pyplot as plt\n",
    "import pandas as pd\n",
    "from sklearn.preprocessing import MinMaxScaler\n",
    "from sklearn.metrics import mean_squared_error, mean_absolute_error\n",
    "from math import sqrt\n",
    "from matplotlib import pyplot\n",
    "from numpy import array"
   ]
  },
  {
   "cell_type": "markdown",
   "metadata": {
    "id": "JyOjBMFayuoR"
   },
   "source": [
    "## Pretraining"
   ]
  },
  {
   "cell_type": "markdown",
   "metadata": {
    "id": "-5QqIY_GyuoR"
   },
   "source": [
    "The `capa_intermittency.dat` feeds the model with the dynamics of the Capacitor"
   ]
  },
  {
   "cell_type": "code",
   "execution_count": 3,
   "metadata": {
    "id": "9dV4a8yfyuoR"
   },
   "outputs": [],
   "source": [
    "data = np.genfromtxt('capa_intermittency.dat')\n",
    "training_set = pd.DataFrame(data).reset_index(drop=True)\n",
    "training_set = training_set.iloc[:,0]"
   ]
  },
  {
   "cell_type": "markdown",
   "metadata": {
    "id": "i7easoxByuoR"
   },
   "source": [
    "## Computing the Gradient"
   ]
  },
  {
   "cell_type": "markdown",
   "metadata": {
    "id": "5SnyolJTyuoR"
   },
   "source": [
    "_Calculating the value of_ $\\frac{dx}{dt}$"
   ]
  },
  {
   "cell_type": "code",
   "execution_count": 4,
   "metadata": {
    "colab": {
     "base_uri": "https://localhost:8080/"
    },
    "id": "wmIbVfIvyuoR",
    "outputId": "aa4e3136-c854-465d-d2e9-81cfd546e440"
   },
   "outputs": [
    {
     "name": "stdout",
     "output_type": "stream",
     "text": [
      "1.0\n",
      "1        0.000298\n",
      "2        0.000298\n",
      "3        0.000297\n",
      "4        0.000297\n",
      "5        0.000297\n",
      "           ...   \n",
      "9996     0.000018\n",
      "9997     0.000018\n",
      "9998     0.000018\n",
      "9999     0.000018\n",
      "10000    0.000018\n",
      "Name: 0, Length: 10000, dtype: float64\n"
     ]
    }
   ],
   "source": [
    "t_diff = 1\n",
    "print(training_set.max())\n",
    "gradient_t = (training_set.diff()/t_diff).iloc[1:] # dx/dt\n",
    "print(gradient_t)"
   ]
  },
  {
   "cell_type": "markdown",
   "metadata": {
    "id": "_2eVeeoxyuoS"
   },
   "source": [
    "## Loading Datasets"
   ]
  },
  {
   "cell_type": "code",
   "execution_count": 5,
   "metadata": {
    "id": "0J-NKyIEyuoS"
   },
   "outputs": [
    {
     "data": {
      "text/plain": [
       "0       92.600000\n",
       "1       92.387115\n",
       "2       92.174230\n",
       "3       91.961345\n",
       "4       91.748459\n",
       "          ...    \n",
       "2445    62.813199\n",
       "2446    62.805548\n",
       "2447    62.797896\n",
       "2448    62.790244\n",
       "2449    62.782592\n",
       "Name: C7, Length: 2450, dtype: float64"
      ]
     },
     "execution_count": 5,
     "metadata": {},
     "output_type": "execute_result"
    }
   ],
   "source": [
    "data = pd.read_csv(\"c7_interpolated_2350_100.csv\")\n",
    "training_set = data.iloc[:, 1]\n",
    "training_set"
   ]
  },
  {
   "cell_type": "code",
   "execution_count": 6,
   "metadata": {
    "colab": {
     "base_uri": "https://localhost:8080/"
    },
    "id": "-CbNUhJ74UqF",
    "outputId": "20f562d8-8247-49cc-b9c3-00eca5e13e2d"
   },
   "outputs": [
    {
     "data": {
      "text/plain": [
       "0       92.600000\n",
       "1       92.387115\n",
       "2       92.174230\n",
       "3       91.961345\n",
       "4       91.748459\n",
       "          ...    \n",
       "2345     0.000000\n",
       "2346     0.000000\n",
       "2347     0.766215\n",
       "2348     0.000000\n",
       "2349     0.157711\n",
       "Name: C7, Length: 2350, dtype: float64"
      ]
     },
     "execution_count": 6,
     "metadata": {},
     "output_type": "execute_result"
    }
   ],
   "source": [
    "test = training_set.tail(100)\n",
    "test\n",
    "training_set = training_set.head(2350)\n",
    "training_set"
   ]
  },
  {
   "cell_type": "code",
   "execution_count": 7,
   "metadata": {
    "colab": {
     "base_uri": "https://localhost:8080/"
    },
    "id": "X0TwTcq0yuoS",
    "outputId": "37252ed8-d88e-4044-fa7a-922411990b5b"
   },
   "outputs": [
    {
     "name": "stdout",
     "output_type": "stream",
     "text": [
      "0       0.000298\n",
      "1       0.000298\n",
      "2       0.000297\n",
      "3       0.000297\n",
      "4       0.000297\n",
      "          ...   \n",
      "9995    0.000018\n",
      "9996    0.000018\n",
      "9997    0.000018\n",
      "9998    0.000018\n",
      "9999    0.000018\n",
      "Name: 0, Length: 10000, dtype: float64\n"
     ]
    }
   ],
   "source": [
    "training_set = training_set.reset_index(drop=True)\n",
    "gradient_t = gradient_t.reset_index(drop=True)\n",
    "print(gradient_t)"
   ]
  },
  {
   "cell_type": "code",
   "execution_count": 8,
   "metadata": {
    "id": "O2biznZQyuoS"
   },
   "outputs": [],
   "source": [
    "df = pd.concat((training_set, gradient_t), axis=1)\n",
    "df.columns = ['y_t', 'grad_t']"
   ]
  },
  {
   "cell_type": "code",
   "execution_count": 9,
   "metadata": {
    "colab": {
     "base_uri": "https://localhost:8080/",
     "height": 423
    },
    "id": "sk_a5v3tyuoS",
    "outputId": "17563625-e550-45ae-faab-fafa353e44da"
   },
   "outputs": [
    {
     "data": {
      "text/html": [
       "<div>\n",
       "<style scoped>\n",
       "    .dataframe tbody tr th:only-of-type {\n",
       "        vertical-align: middle;\n",
       "    }\n",
       "\n",
       "    .dataframe tbody tr th {\n",
       "        vertical-align: top;\n",
       "    }\n",
       "\n",
       "    .dataframe thead th {\n",
       "        text-align: right;\n",
       "    }\n",
       "</style>\n",
       "<table border=\"1\" class=\"dataframe\">\n",
       "  <thead>\n",
       "    <tr style=\"text-align: right;\">\n",
       "      <th></th>\n",
       "      <th>y_t</th>\n",
       "      <th>grad_t</th>\n",
       "    </tr>\n",
       "  </thead>\n",
       "  <tbody>\n",
       "    <tr>\n",
       "      <th>0</th>\n",
       "      <td>92.600000</td>\n",
       "      <td>0.000298</td>\n",
       "    </tr>\n",
       "    <tr>\n",
       "      <th>1</th>\n",
       "      <td>92.387115</td>\n",
       "      <td>0.000298</td>\n",
       "    </tr>\n",
       "    <tr>\n",
       "      <th>2</th>\n",
       "      <td>92.174230</td>\n",
       "      <td>0.000297</td>\n",
       "    </tr>\n",
       "    <tr>\n",
       "      <th>3</th>\n",
       "      <td>91.961345</td>\n",
       "      <td>0.000297</td>\n",
       "    </tr>\n",
       "    <tr>\n",
       "      <th>4</th>\n",
       "      <td>91.748459</td>\n",
       "      <td>0.000297</td>\n",
       "    </tr>\n",
       "    <tr>\n",
       "      <th>...</th>\n",
       "      <td>...</td>\n",
       "      <td>...</td>\n",
       "    </tr>\n",
       "    <tr>\n",
       "      <th>9995</th>\n",
       "      <td>NaN</td>\n",
       "      <td>0.000018</td>\n",
       "    </tr>\n",
       "    <tr>\n",
       "      <th>9996</th>\n",
       "      <td>NaN</td>\n",
       "      <td>0.000018</td>\n",
       "    </tr>\n",
       "    <tr>\n",
       "      <th>9997</th>\n",
       "      <td>NaN</td>\n",
       "      <td>0.000018</td>\n",
       "    </tr>\n",
       "    <tr>\n",
       "      <th>9998</th>\n",
       "      <td>NaN</td>\n",
       "      <td>0.000018</td>\n",
       "    </tr>\n",
       "    <tr>\n",
       "      <th>9999</th>\n",
       "      <td>NaN</td>\n",
       "      <td>0.000018</td>\n",
       "    </tr>\n",
       "  </tbody>\n",
       "</table>\n",
       "<p>10000 rows × 2 columns</p>\n",
       "</div>"
      ],
      "text/plain": [
       "            y_t    grad_t\n",
       "0     92.600000  0.000298\n",
       "1     92.387115  0.000298\n",
       "2     92.174230  0.000297\n",
       "3     91.961345  0.000297\n",
       "4     91.748459  0.000297\n",
       "...         ...       ...\n",
       "9995        NaN  0.000018\n",
       "9996        NaN  0.000018\n",
       "9997        NaN  0.000018\n",
       "9998        NaN  0.000018\n",
       "9999        NaN  0.000018\n",
       "\n",
       "[10000 rows x 2 columns]"
      ]
     },
     "execution_count": 9,
     "metadata": {},
     "output_type": "execute_result"
    }
   ],
   "source": [
    "df"
   ]
  },
  {
   "cell_type": "markdown",
   "metadata": {
    "id": "-5esyHu5aFvg"
   },
   "source": [
    "## Plot of the External Forcing from Chaotic Differential Equation"
   ]
  },
  {
   "cell_type": "code",
   "execution_count": 10,
   "metadata": {
    "colab": {
     "base_uri": "https://localhost:8080/",
     "height": 447
    },
    "id": "hGnE43tOh-4p",
    "outputId": "fc396503-b624-4fa5-dfbe-f460207405c6"
   },
   "outputs": [
    {
     "data": {
      "text/plain": [
       "<Axes: >"
      ]
     },
     "execution_count": 10,
     "metadata": {},
     "output_type": "execute_result"
    },
    {
     "data": {
      "image/png": "[encoded data removed]",
      "text/plain": [
       "<Figure size 432x288 with 1 Axes>"
      ]
     },
     "metadata": {
      "needs_background": "light"
     },
     "output_type": "display_data"
    }
   ],
   "source": [
    "df.iloc[:, 0].plot()"
   ]
  },
  {
   "cell_type": "code",
   "execution_count": 11,
   "metadata": {
    "colab": {
     "base_uri": "https://localhost:8080/",
     "height": 447
    },
    "id": "ym4xWUUxaFvg",
    "outputId": "ae6a3495-8ce9-437e-ba81-3ed31deedeae"
   },
   "outputs": [
    {
     "name": "stderr",
     "output_type": "stream",
     "text": [
      "C:\\Users\\Anurag Dutta\\AppData\\Local\\Packages\\PythonSoftwareFoundation.Python.3.9_qbz5n2kfra8p0\\LocalCache\\local-packages\\Python39\\site-packages\\pandas\\core\\arraylike.py:402: RuntimeWarning: divide by zero encountered in log\n",
      "  result = getattr(ufunc, method)(*inputs, **kwargs)\n"
     ]
    },
    {
     "data": {
      "text/plain": [
       "<Axes: >"
      ]
     },
     "execution_count": 11,
     "metadata": {},
     "output_type": "execute_result"
    },
    {
     "data": {
      "image/png": "[encoded data removed]",
      "text/plain": [
       "<Figure size 432x288 with 1 Axes>"
      ]
     },
     "metadata": {
      "needs_background": "light"
     },
     "output_type": "display_data"
    }
   ],
   "source": [
    "import numpy as np\n",
    "c0 = 89.3180  # Value for C0\n",
    "K0 = -0.0010  # Value for K0\n",
    "K1 = 0.0001  # Value for K1\n",
    "a = 0.0000    # Value for a\n",
    "b = -0.0204    # Value for b\n",
    "c = 2.2194    # Value for c\n",
    "\n",
    "L = np.minimum(c0, (df.iloc[:, 1] - (df.iloc[:, 0] * (K0 - K1 * (9 * a * np.log(df.iloc[:, 0] / c0) / (K0 - K1 * c)**2 + 4 * b * np.log(df.iloc[:, 0] / c0) / (K0 - K1 * c) + c)))))\n",
    "L.plot()"
   ]
  },
  {
   "cell_type": "markdown",
   "metadata": {
    "id": "9VyEywnwaFvh"
   },
   "source": [
    "## Preprocessing the data into supervised learning"
   ]
  },
  {
   "cell_type": "code",
   "execution_count": 12,
   "metadata": {
    "id": "6V9dXqzdaFvh"
   },
   "outputs": [],
   "source": [
    "# split a sequence into samples\n",
    "def Supervised(data, n_in=1, n_out=1, dropnan=True):\n",
    "    n_vars = 1 if type(data) is list else data.shape[1]\n",
    "    df = pd.DataFrame(data)\n",
    "    cols, names = list(), list()\n",
    "    # input sequence (t-n_in, ... t-1)\n",
    "    for i in range(n_in, 0, -1):\n",
    "        cols.append(df.shift(i))\n",
    "        names += [('var%d(t-%d)' % (j+1, i)) for j in range(n_vars)]\n",
    "    # forecast sequence (t, t+1, ... t+n_out)\n",
    "    for i in range(0, n_out):\n",
    "      cols.append(df.shift(-i))\n",
    "      if i == 0:\n",
    "        names += [('var%d(t)' % (j+1)) for j in range(n_vars)]\n",
    "      else:\n",
    "        names += [('var%d(t+%d)' % (j+1, i)) for j in range(n_vars)]\n",
    "    # put it all together\n",
    "    agg = pd.concat(cols, axis=1)\n",
    "    agg.columns = names\n",
    "    # drop rows with NaN values\n",
    "    if dropnan:\n",
    "       agg.dropna(inplace=True)\n",
    "    return agg"
   ]
  },
  {
   "cell_type": "code",
   "execution_count": 13,
   "metadata": {
    "colab": {
     "base_uri": "https://localhost:8080/"
    },
    "id": "CrzSrT1HnyfH",
    "outputId": "7e75f928-3e47-499d-eac1-51908015ef78"
   },
   "outputs": [
    {
     "name": "stdout",
     "output_type": "stream",
     "text": [
      "     var1(t-350)  var1(t-349)  var1(t-348)  var1(t-347)  var1(t-346)  \\\n",
      "350    92.600000    92.387115    92.174230    91.961345    91.748459   \n",
      "351    92.387115    92.174230    91.961345    91.748459    91.535574   \n",
      "352    92.174230    91.961345    91.748459    91.535574    91.322689   \n",
      "353    91.961345    91.748459    91.535574    91.322689    91.109804   \n",
      "354    91.748459    91.535574    91.322689    91.109804    90.896919   \n",
      "\n",
      "     var1(t-345)  var1(t-344)  var1(t-343)  var1(t-342)  var1(t-341)  ...  \\\n",
      "350    91.535574    91.322689    91.109804    90.896919    90.691597  ...   \n",
      "351    91.322689    91.109804    90.896919    90.691597    90.579552  ...   \n",
      "352    91.109804    90.896919    90.691597    90.579552    90.467507  ...   \n",
      "353    90.896919    90.691597    90.579552    90.467507    90.355462  ...   \n",
      "354    90.691597    90.579552    90.467507    90.355462    90.243417  ...   \n",
      "\n",
      "     var1(t+95)  var2(t+95)  var1(t+96)  var2(t+96)  var1(t+97)  var2(t+97)  \\\n",
      "350   80.261671    0.000263   80.252334    0.000263   80.242997    0.000263   \n",
      "351   80.252334    0.000263   80.242997    0.000263   80.233660    0.000262   \n",
      "352   80.242997    0.000263   80.233660    0.000262   80.224323    0.000262   \n",
      "353   80.233660    0.000262   80.224323    0.000262   80.214986    0.000262   \n",
      "354   80.224323    0.000262   80.214986    0.000262   80.205649    0.000262   \n",
      "\n",
      "     var1(t+98)  var2(t+98)  var1(t+99)  var2(t+99)  \n",
      "350   80.233660    0.000262   80.224323    0.000262  \n",
      "351   80.224323    0.000262   80.214986    0.000262  \n",
      "352   80.214986    0.000262   80.205649    0.000262  \n",
      "353   80.205649    0.000262   80.196312    0.000262  \n",
      "354   80.196312    0.000262   80.186975    0.000262  \n",
      "\n",
      "[5 rows x 551 columns]\n",
      "Index(['var1(t-350)', 'var1(t-349)', 'var1(t-348)', 'var1(t-347)',\n",
      "       'var1(t-346)', 'var1(t-345)', 'var1(t-344)', 'var1(t-343)',\n",
      "       'var1(t-342)', 'var1(t-341)',\n",
      "       ...\n",
      "       'var1(t+95)', 'var2(t+95)', 'var1(t+96)', 'var2(t+96)', 'var1(t+97)',\n",
      "       'var2(t+97)', 'var1(t+98)', 'var2(t+98)', 'var1(t+99)', 'var2(t+99)'],\n",
      "      dtype='object', length=551)\n"
     ]
    }
   ],
   "source": [
    "data = Supervised(df.values, n_in = 350, n_out = 100)\n",
    "\n",
    "\n",
    "cols_to_drop = []\n",
    "for i in range(2, 351):\n",
    "    cols_to_drop.extend([f'var2(t-{i})'])\n",
    "\n",
    "data.drop(cols_to_drop, axis=1, inplace=True)\n",
    "\n",
    "print(data.head())\n",
    "print(data.columns)"
   ]
  },
  {
   "cell_type": "code",
   "execution_count": 14,
   "metadata": {
    "id": "AfPf60oy6Pe4"
   },
   "outputs": [],
   "source": [
    "train = np.array(data[0:len(data)-1])\n",
    "forecast = np.array(data.tail(1))"
   ]
  },
  {
   "cell_type": "code",
   "execution_count": 15,
   "metadata": {
    "id": "WSAafzI37KiT"
   },
   "outputs": [],
   "source": [
    "trainy = train[:,-300:]\n",
    "trainX = train[:,:-300]"
   ]
  },
  {
   "cell_type": "code",
   "execution_count": 16,
   "metadata": {
    "id": "2SrOqVJA7f50"
   },
   "outputs": [],
   "source": [
    "forecasty = forecast[:,-300:]\n",
    "forecastX = forecast[:,:-300]"
   ]
  },
  {
   "cell_type": "code",
   "execution_count": 17,
   "metadata": {
    "colab": {
     "base_uri": "https://localhost:8080/"
    },
    "id": "Qno_k8Nw7saY",
    "outputId": "c4a88db5-d8c6-489f-cdb2-06b24e293cff"
   },
   "outputs": [
    {
     "name": "stdout",
     "output_type": "stream",
     "text": [
      "(1900, 1, 251) (1900, 300) (1, 1, 251)\n"
     ]
    }
   ],
   "source": [
    "trainX = trainX.reshape((trainX.shape[0], 1, trainX.shape[1]))\n",
    "forecastX = forecastX.reshape((forecastX.shape[0], 1, forecastX.shape[1]))\n",
    "print(trainX.shape, trainy.shape, forecastX.shape)"
   ]
  },
  {
   "cell_type": "code",
   "execution_count": 18,
   "metadata": {
    "colab": {
     "base_uri": "https://localhost:8080/"
    },
    "id": "b1Jp2DvNuNFx",
    "outputId": "d0e5b3c4-64f1-438c-eade-8dfeaac8e285"
   },
   "outputs": [
    {
     "name": "stdout",
     "output_type": "stream",
     "text": [
      "Epoch 1/500\n",
      "24/24 [==============================] - 3s 29ms/step - loss: 5298.4087 - val_loss: 2907.2954\n",
      "Epoch 2/500\n",
      "24/24 [==============================] - 0s 4ms/step - loss: 4938.7256 - val_loss: 2766.8245\n",
      "Epoch 3/500\n",
      "24/24 [==============================] - 0s 4ms/step - loss: 4799.9604 - val_loss: 2701.7722\n",
      "Epoch 4/500\n",
      "24/24 [==============================] - 0s 4ms/step - loss: 4688.4673 - val_loss: 2639.9766\n",
      "Epoch 5/500\n",
      "24/24 [==============================] - 0s 4ms/step - loss: 4582.8076 - val_loss: 2583.7246\n",
      "Epoch 6/500\n",
      "24/24 [==============================] - 0s 4ms/step - loss: 4481.4194 - val_loss: 2530.0461\n",
      "Epoch 7/500\n",
      "24/24 [==============================] - 0s 4ms/step - loss: 4383.2139 - val_loss: 2478.4192\n",
      "Epoch 8/500\n",
      "24/24 [==============================] - 0s 4ms/step - loss: 4287.6426 - val_loss: 2428.5974\n",
      "Epoch 9/500\n",
      "24/24 [==============================] - 0s 5ms/step - loss: 4194.3857 - val_loss: 2380.2827\n",
      "Epoch 10/500\n",
      "24/24 [==============================] - 0s 4ms/step - loss: 4103.2397 - val_loss: 2333.6272\n",
      "Epoch 11/500\n",
      "24/24 [==============================] - 0s 4ms/step - loss: 4014.0688 - val_loss: 2288.3606\n",
      "Epoch 12/500\n",
      "24/24 [==============================] - 0s 5ms/step - loss: 3926.7839 - val_loss: 2244.5076\n",
      "Epoch 13/500\n",
      "24/24 [==============================] - 0s 4ms/step - loss: 3841.2815 - val_loss: 2202.0549\n",
      "Epoch 14/500\n",
      "24/24 [==============================] - 0s 4ms/step - loss: 3757.5112 - val_loss: 2160.9131\n",
      "Epoch 15/500\n",
      "24/24 [==============================] - 0s 4ms/step - loss: 3675.4211 - val_loss: 2121.0552\n",
      "Epoch 16/500\n",
      "24/24 [==============================] - 0s 4ms/step - loss: 3594.9629 - val_loss: 2082.4495\n",
      "Epoch 17/500\n",
      "24/24 [==============================] - 0s 4ms/step - loss: 3516.0974 - val_loss: 2045.0674\n",
      "Epoch 18/500\n",
      "24/24 [==============================] - 0s 4ms/step - loss: 3438.7891 - val_loss: 2008.8821\n",
      "Epoch 19/500\n",
      "24/24 [==============================] - 0s 4ms/step - loss: 3363.0056 - val_loss: 1973.8684\n",
      "Epoch 20/500\n",
      "24/24 [==============================] - 0s 4ms/step - loss: 3288.7170 - val_loss: 1940.0029\n",
      "Epoch 21/500\n",
      "24/24 [==============================] - 0s 4ms/step - loss: 3215.8955 - val_loss: 1907.2625\n",
      "Epoch 22/500\n",
      "24/24 [==============================] - 0s 4ms/step - loss: 3144.5139 - val_loss: 1875.6244\n",
      "Epoch 23/500\n",
      "24/24 [==============================] - 0s 4ms/step - loss: 3074.5464 - val_loss: 1845.0662\n",
      "Epoch 24/500\n",
      "24/24 [==============================] - 0s 9ms/step - loss: 3005.9709 - val_loss: 1815.5652\n",
      "Epoch 25/500\n",
      "24/24 [==============================] - 0s 4ms/step - loss: 2938.7607 - val_loss: 1794.8087\n",
      "Epoch 26/500\n",
      "24/24 [==============================] - 0s 5ms/step - loss: 2913.3794 - val_loss: 1778.7296\n",
      "Epoch 27/500\n",
      "24/24 [==============================] - 0s 4ms/step - loss: 2853.9407 - val_loss: 1752.0038\n",
      "Epoch 28/500\n",
      "24/24 [==============================] - 0s 4ms/step - loss: 2791.0889 - val_loss: 1728.4288\n",
      "Epoch 29/500\n",
      "24/24 [==============================] - 0s 5ms/step - loss: 2729.4358 - val_loss: 1703.8829\n",
      "Epoch 30/500\n",
      "24/24 [==============================] - 0s 5ms/step - loss: 2669.0239 - val_loss: 1680.2371\n",
      "Epoch 31/500\n",
      "24/24 [==============================] - 0s 4ms/step - loss: 2609.8303 - val_loss: 1657.5071\n",
      "Epoch 32/500\n",
      "24/24 [==============================] - 0s 4ms/step - loss: 2551.8354 - val_loss: 1635.6771\n",
      "Epoch 33/500\n",
      "24/24 [==============================] - 0s 4ms/step - loss: 2495.0208 - val_loss: 1614.7306\n",
      "Epoch 34/500\n",
      "24/24 [==============================] - 0s 4ms/step - loss: 2439.3684 - val_loss: 1594.6511\n",
      "Epoch 35/500\n",
      "24/24 [==============================] - 0s 5ms/step - loss: 2384.8604 - val_loss: 1575.4227\n",
      "Epoch 36/500\n",
      "24/24 [==============================] - 0s 4ms/step - loss: 2331.4790 - val_loss: 1557.0302\n",
      "Epoch 37/500\n",
      "24/24 [==============================] - 0s 4ms/step - loss: 2279.2083 - val_loss: 1539.4574\n",
      "Epoch 38/500\n",
      "24/24 [==============================] - 0s 6ms/step - loss: 2228.0310 - val_loss: 1522.6898\n",
      "Epoch 39/500\n",
      "24/24 [==============================] - 0s 6ms/step - loss: 2177.9304 - val_loss: 1506.7120\n",
      "Epoch 40/500\n",
      "24/24 [==============================] - 0s 4ms/step - loss: 2128.8906 - val_loss: 1491.5090\n",
      "Epoch 41/500\n",
      "24/24 [==============================] - 0s 4ms/step - loss: 2080.8960 - val_loss: 1477.0663\n",
      "Epoch 42/500\n",
      "24/24 [==============================] - 0s 5ms/step - loss: 2033.9304 - val_loss: 1463.3696\n",
      "Epoch 43/500\n",
      "24/24 [==============================] - 0s 4ms/step - loss: 1987.9791 - val_loss: 1450.4039\n",
      "Epoch 44/500\n",
      "24/24 [==============================] - 0s 4ms/step - loss: 1943.0261 - val_loss: 1438.1554\n",
      "Epoch 45/500\n",
      "24/24 [==============================] - 0s 4ms/step - loss: 1899.0576 - val_loss: 1426.6100\n",
      "Epoch 46/500\n",
      "24/24 [==============================] - 0s 4ms/step - loss: 1856.0573 - val_loss: 1415.7537\n",
      "Epoch 47/500\n",
      "24/24 [==============================] - 0s 4ms/step - loss: 1814.0112 - val_loss: 1405.5721\n",
      "Epoch 48/500\n",
      "24/24 [==============================] - 0s 5ms/step - loss: 1772.9052 - val_loss: 1396.0525\n",
      "Epoch 49/500\n",
      "24/24 [==============================] - 0s 4ms/step - loss: 1732.7241 - val_loss: 1387.1803\n",
      "Epoch 50/500\n",
      "24/24 [==============================] - 0s 3ms/step - loss: 1693.4551 - val_loss: 1378.9429\n",
      "Epoch 51/500\n",
      "24/24 [==============================] - 0s 4ms/step - loss: 1655.0829 - val_loss: 1371.3262\n",
      "Epoch 52/500\n",
      "24/24 [==============================] - 0s 5ms/step - loss: 1617.5942 - val_loss: 1364.3171\n",
      "Epoch 53/500\n",
      "24/24 [==============================] - 0s 4ms/step - loss: 1580.9755 - val_loss: 1357.9028\n",
      "Epoch 54/500\n",
      "24/24 [==============================] - 0s 5ms/step - loss: 1545.2125 - val_loss: 1352.0698\n",
      "Epoch 55/500\n",
      "24/24 [==============================] - 0s 6ms/step - loss: 1510.2926 - val_loss: 1346.8053\n",
      "Epoch 56/500\n",
      "24/24 [==============================] - 0s 5ms/step - loss: 1476.2020 - val_loss: 1342.0966\n",
      "Epoch 57/500\n",
      "24/24 [==============================] - 0s 6ms/step - loss: 1442.9279 - val_loss: 1337.9303\n",
      "Epoch 58/500\n",
      "24/24 [==============================] - 0s 6ms/step - loss: 1410.4570 - val_loss: 1334.2944\n",
      "Epoch 59/500\n",
      "24/24 [==============================] - 0s 7ms/step - loss: 1378.7760 - val_loss: 1331.1758\n",
      "Epoch 60/500\n",
      "24/24 [==============================] - 0s 4ms/step - loss: 1347.8726 - val_loss: 1328.5621\n",
      "Epoch 61/500\n",
      "24/24 [==============================] - 0s 5ms/step - loss: 1317.7340 - val_loss: 1326.4412\n",
      "Epoch 62/500\n",
      "24/24 [==============================] - 0s 5ms/step - loss: 1288.3469 - val_loss: 1324.8002\n",
      "Epoch 63/500\n",
      "24/24 [==============================] - 0s 5ms/step - loss: 1259.6996 - val_loss: 1323.6271\n",
      "Epoch 64/500\n",
      "24/24 [==============================] - 0s 10ms/step - loss: 1231.7794 - val_loss: 1322.9095\n",
      "Epoch 65/500\n",
      "24/24 [==============================] - 0s 9ms/step - loss: 1204.5740 - val_loss: 1322.6353\n",
      "Epoch 66/500\n",
      "24/24 [==============================] - 0s 6ms/step - loss: 1178.0713 - val_loss: 1322.7925\n",
      "Epoch 67/500\n",
      "24/24 [==============================] - 0s 7ms/step - loss: 1152.2585 - val_loss: 1323.3690\n",
      "Epoch 68/500\n",
      "24/24 [==============================] - 0s 5ms/step - loss: 1127.1245 - val_loss: 1324.3530\n",
      "Epoch 69/500\n",
      "24/24 [==============================] - 0s 5ms/step - loss: 1102.6570 - val_loss: 1325.7324\n",
      "Epoch 70/500\n",
      "24/24 [==============================] - 0s 5ms/step - loss: 1078.8444 - val_loss: 1327.4951\n",
      "Epoch 71/500\n",
      "24/24 [==============================] - 0s 5ms/step - loss: 1055.6744 - val_loss: 1329.6289\n",
      "Epoch 72/500\n",
      "24/24 [==============================] - 0s 7ms/step - loss: 1033.1359 - val_loss: 1332.1211\n",
      "Epoch 73/500\n",
      "24/24 [==============================] - 0s 5ms/step - loss: 1011.2173 - val_loss: 1334.9587\n",
      "Epoch 74/500\n",
      "24/24 [==============================] - 0s 4ms/step - loss: 989.9067 - val_loss: 1338.1259\n",
      "Epoch 75/500\n",
      "24/24 [==============================] - 0s 4ms/step - loss: 969.1934 - val_loss: 1341.5989\n",
      "Epoch 76/500\n",
      "24/24 [==============================] - 0s 4ms/step - loss: 949.0656 - val_loss: 1345.3259\n",
      "Epoch 77/500\n",
      "24/24 [==============================] - 0s 4ms/step - loss: 929.5123 - val_loss: 1349.1050\n",
      "Epoch 78/500\n",
      "24/24 [==============================] - 0s 5ms/step - loss: 910.4836 - val_loss: 1349.2589\n",
      "Epoch 79/500\n",
      "24/24 [==============================] - 0s 4ms/step - loss: 939.5481 - val_loss: 1346.0796\n",
      "Epoch 80/500\n",
      "24/24 [==============================] - 0s 4ms/step - loss: 927.3712 - val_loss: 1350.2491\n",
      "Epoch 81/500\n",
      "24/24 [==============================] - 0s 6ms/step - loss: 908.4747 - val_loss: 1354.7168\n",
      "Epoch 82/500\n",
      "24/24 [==============================] - 0s 4ms/step - loss: 890.1188 - val_loss: 1359.4646\n",
      "Epoch 83/500\n",
      "24/24 [==============================] - 0s 4ms/step - loss: 872.3070 - val_loss: 1364.4816\n",
      "Epoch 84/500\n",
      "24/24 [==============================] - 0s 4ms/step - loss: 855.0287 - val_loss: 1369.7560\n",
      "Epoch 85/500\n",
      "24/24 [==============================] - 0s 4ms/step - loss: 838.2731 - val_loss: 1375.2770\n",
      "Epoch 86/500\n",
      "24/24 [==============================] - 0s 5ms/step - loss: 822.0284 - val_loss: 1381.0342\n",
      "Epoch 87/500\n",
      "24/24 [==============================] - 0s 4ms/step - loss: 806.2836 - val_loss: 1387.0166\n",
      "Epoch 88/500\n",
      "24/24 [==============================] - 0s 5ms/step - loss: 791.0279 - val_loss: 1393.2141\n",
      "Epoch 89/500\n",
      "24/24 [==============================] - 0s 6ms/step - loss: 776.2505 - val_loss: 1399.6151\n",
      "Epoch 90/500\n",
      "24/24 [==============================] - 0s 5ms/step - loss: 761.9405 - val_loss: 1406.2097\n",
      "Epoch 91/500\n",
      "24/24 [==============================] - 0s 5ms/step - loss: 748.0874 - val_loss: 1412.9873\n",
      "Epoch 92/500\n",
      "24/24 [==============================] - 0s 5ms/step - loss: 734.6809 - val_loss: 1419.9370\n",
      "Epoch 93/500\n",
      "24/24 [==============================] - 0s 5ms/step - loss: 721.7103 - val_loss: 1427.0479\n",
      "Epoch 94/500\n",
      "24/24 [==============================] - 0s 4ms/step - loss: 709.1656 - val_loss: 1434.3082\n",
      "Epoch 95/500\n",
      "24/24 [==============================] - 0s 3ms/step - loss: 697.0370 - val_loss: 1441.7061\n",
      "Epoch 96/500\n",
      "24/24 [==============================] - 0s 4ms/step - loss: 685.3143 - val_loss: 1449.2273\n",
      "Epoch 97/500\n",
      "24/24 [==============================] - 0s 4ms/step - loss: 673.9879 - val_loss: 1456.8545\n",
      "Epoch 98/500\n",
      "24/24 [==============================] - 0s 4ms/step - loss: 663.0478 - val_loss: 1464.5626\n",
      "Epoch 99/500\n",
      "24/24 [==============================] - 0s 4ms/step - loss: 652.4848 - val_loss: 1472.3168\n",
      "Epoch 100/500\n",
      "24/24 [==============================] - 0s 6ms/step - loss: 642.2872 - val_loss: 1474.0948\n",
      "Epoch 101/500\n",
      "24/24 [==============================] - 0s 4ms/step - loss: 632.9395 - val_loss: 1490.4551\n",
      "Epoch 102/500\n",
      "24/24 [==============================] - 0s 4ms/step - loss: 622.9602 - val_loss: 1498.7085\n",
      "Epoch 103/500\n",
      "24/24 [==============================] - 0s 9ms/step - loss: 613.8120 - val_loss: 1507.0394\n",
      "Epoch 104/500\n",
      "24/24 [==============================] - 0s 5ms/step - loss: 604.9950 - val_loss: 1515.4398\n",
      "Epoch 105/500\n",
      "24/24 [==============================] - 0s 3ms/step - loss: 596.5003 - val_loss: 1523.9015\n",
      "Epoch 106/500\n",
      "24/24 [==============================] - 0s 4ms/step - loss: 588.3192 - val_loss: 1532.4166\n",
      "Epoch 107/500\n",
      "24/24 [==============================] - 0s 4ms/step - loss: 580.4432 - val_loss: 1540.9781\n",
      "Epoch 108/500\n",
      "24/24 [==============================] - 0s 4ms/step - loss: 572.8636 - val_loss: 1549.5773\n",
      "Epoch 109/500\n",
      "24/24 [==============================] - 0s 4ms/step - loss: 565.5724 - val_loss: 1558.2075\n",
      "Epoch 110/500\n",
      "24/24 [==============================] - 0s 4ms/step - loss: 558.5613 - val_loss: 1566.8613\n",
      "Epoch 111/500\n",
      "24/24 [==============================] - 0s 4ms/step - loss: 551.8221 - val_loss: 1575.5314\n",
      "Epoch 112/500\n",
      "24/24 [==============================] - 0s 4ms/step - loss: 545.3474 - val_loss: 1584.2112\n",
      "Epoch 113/500\n",
      "24/24 [==============================] - 0s 4ms/step - loss: 539.1288 - val_loss: 1592.8936\n",
      "Epoch 114/500\n",
      "24/24 [==============================] - 0s 4ms/step - loss: 533.1588 - val_loss: 1601.5719\n",
      "Epoch 115/500\n",
      "24/24 [==============================] - 0s 4ms/step - loss: 527.4301 - val_loss: 1610.2404\n",
      "Epoch 116/500\n",
      "24/24 [==============================] - 0s 4ms/step - loss: 521.9352 - val_loss: 1618.8917\n",
      "Epoch 117/500\n",
      "24/24 [==============================] - 0s 4ms/step - loss: 516.6666 - val_loss: 1627.5208\n",
      "Epoch 118/500\n",
      "24/24 [==============================] - 0s 4ms/step - loss: 511.6174 - val_loss: 1636.1206\n",
      "Epoch 119/500\n",
      "24/24 [==============================] - 0s 4ms/step - loss: 506.7804 - val_loss: 1644.6864\n",
      "Epoch 120/500\n",
      "24/24 [==============================] - 0s 4ms/step - loss: 502.1488 - val_loss: 1653.2122\n",
      "Epoch 121/500\n",
      "24/24 [==============================] - 0s 4ms/step - loss: 497.7158 - val_loss: 1661.6931\n",
      "Epoch 122/500\n",
      "24/24 [==============================] - 0s 4ms/step - loss: 493.4748 - val_loss: 1670.1228\n",
      "Epoch 123/500\n",
      "24/24 [==============================] - 0s 4ms/step - loss: 489.4195 - val_loss: 1678.4976\n",
      "Epoch 124/500\n",
      "24/24 [==============================] - 0s 4ms/step - loss: 485.5432 - val_loss: 1686.8115\n",
      "Epoch 125/500\n",
      "24/24 [==============================] - 0s 4ms/step - loss: 481.8398 - val_loss: 1695.0603\n",
      "Epoch 126/500\n",
      "24/24 [==============================] - 0s 4ms/step - loss: 478.3033 - val_loss: 1703.2391\n",
      "Epoch 127/500\n",
      "24/24 [==============================] - 0s 4ms/step - loss: 474.9279 - val_loss: 1711.3447\n",
      "Epoch 128/500\n",
      "24/24 [==============================] - 0s 4ms/step - loss: 471.7073 - val_loss: 1719.3722\n",
      "Epoch 129/500\n",
      "24/24 [==============================] - 0s 4ms/step - loss: 468.6362 - val_loss: 1727.3174\n",
      "Epoch 130/500\n",
      "24/24 [==============================] - 0s 4ms/step - loss: 465.7088 - val_loss: 1735.1775\n",
      "Epoch 131/500\n",
      "24/24 [==============================] - 0s 4ms/step - loss: 462.9200 - val_loss: 1742.9478\n",
      "Epoch 132/500\n",
      "24/24 [==============================] - 0s 5ms/step - loss: 460.2641 - val_loss: 1750.6256\n",
      "Epoch 133/500\n",
      "24/24 [==============================] - 0s 5ms/step - loss: 457.7364 - val_loss: 1758.2075\n",
      "Epoch 134/500\n",
      "24/24 [==============================] - 0s 4ms/step - loss: 455.3315 - val_loss: 1765.6914\n",
      "Epoch 135/500\n",
      "24/24 [==============================] - 0s 4ms/step - loss: 453.0445 - val_loss: 1773.0730\n",
      "Epoch 136/500\n",
      "24/24 [==============================] - 0s 4ms/step - loss: 450.8711 - val_loss: 1780.3512\n",
      "Epoch 137/500\n",
      "24/24 [==============================] - 0s 4ms/step - loss: 448.8061 - val_loss: 1787.5227\n",
      "Epoch 138/500\n",
      "24/24 [==============================] - 0s 5ms/step - loss: 446.8454 - val_loss: 1794.5846\n",
      "Epoch 139/500\n",
      "24/24 [==============================] - 0s 11ms/step - loss: 444.9845 - val_loss: 1801.5364\n",
      "Epoch 140/500\n",
      "24/24 [==============================] - 0s 4ms/step - loss: 443.2192 - val_loss: 1808.3745\n",
      "Epoch 141/500\n",
      "24/24 [==============================] - 0s 4ms/step - loss: 441.5455 - val_loss: 1815.0984\n",
      "Epoch 142/500\n",
      "24/24 [==============================] - 0s 4ms/step - loss: 439.9590 - val_loss: 1821.7061\n",
      "Epoch 143/500\n",
      "24/24 [==============================] - 0s 5ms/step - loss: 438.4563 - val_loss: 1828.1959\n",
      "Epoch 144/500\n",
      "24/24 [==============================] - 0s 5ms/step - loss: 437.0335 - val_loss: 1834.5676\n",
      "Epoch 145/500\n",
      "24/24 [==============================] - 0s 5ms/step - loss: 435.6869 - val_loss: 1840.8199\n",
      "Epoch 146/500\n",
      "24/24 [==============================] - 0s 6ms/step - loss: 434.4131 - val_loss: 1846.9507\n",
      "Epoch 147/500\n",
      "24/24 [==============================] - 0s 5ms/step - loss: 433.2088 - val_loss: 1852.9598\n",
      "Epoch 148/500\n",
      "24/24 [==============================] - 0s 4ms/step - loss: 432.0706 - val_loss: 1858.8479\n",
      "Epoch 149/500\n",
      "24/24 [==============================] - 0s 4ms/step - loss: 430.9954 - val_loss: 1864.6122\n",
      "Epoch 150/500\n",
      "24/24 [==============================] - 0s 4ms/step - loss: 429.9803 - val_loss: 1870.2548\n",
      "Epoch 151/500\n",
      "24/24 [==============================] - 0s 4ms/step - loss: 429.0222 - val_loss: 1875.7740\n",
      "Epoch 152/500\n",
      "24/24 [==============================] - 0s 4ms/step - loss: 428.1186 - val_loss: 1881.1705\n",
      "Epoch 153/500\n",
      "24/24 [==============================] - 0s 4ms/step - loss: 427.2663 - val_loss: 1886.4445\n",
      "Epoch 154/500\n",
      "24/24 [==============================] - 0s 4ms/step - loss: 426.4632 - val_loss: 1891.5961\n",
      "Epoch 155/500\n",
      "24/24 [==============================] - 0s 5ms/step - loss: 425.7065 - val_loss: 1896.6254\n",
      "Epoch 156/500\n",
      "24/24 [==============================] - 0s 4ms/step - loss: 424.9940 - val_loss: 1901.5328\n",
      "Epoch 157/500\n",
      "24/24 [==============================] - 0s 4ms/step - loss: 424.3232 - val_loss: 1906.3202\n",
      "Epoch 158/500\n",
      "24/24 [==============================] - 0s 5ms/step - loss: 423.6921 - val_loss: 1910.9868\n",
      "Epoch 159/500\n",
      "24/24 [==============================] - 0s 5ms/step - loss: 423.0984 - val_loss: 1915.5349\n",
      "Epoch 160/500\n",
      "24/24 [==============================] - 0s 6ms/step - loss: 422.5403 - val_loss: 1919.9641\n",
      "Epoch 161/500\n",
      "24/24 [==============================] - 0s 5ms/step - loss: 422.0160 - val_loss: 1924.2756\n",
      "Epoch 162/500\n",
      "24/24 [==============================] - 0s 5ms/step - loss: 421.5232 - val_loss: 1928.4714\n",
      "Epoch 163/500\n",
      "24/24 [==============================] - 0s 5ms/step - loss: 421.0606 - val_loss: 1932.5526\n",
      "Epoch 164/500\n",
      "24/24 [==============================] - 0s 5ms/step - loss: 420.6262 - val_loss: 1936.5190\n",
      "Epoch 165/500\n",
      "24/24 [==============================] - 0s 5ms/step - loss: 420.2187 - val_loss: 1940.3739\n",
      "Epoch 166/500\n",
      "24/24 [==============================] - 0s 5ms/step - loss: 419.8363 - val_loss: 1944.1184\n",
      "Epoch 167/500\n",
      "24/24 [==============================] - 0s 5ms/step - loss: 419.4778 - val_loss: 1947.7529\n",
      "Epoch 168/500\n",
      "24/24 [==============================] - 0s 5ms/step - loss: 419.1417 - val_loss: 1951.2809\n",
      "Epoch 169/500\n",
      "24/24 [==============================] - 0s 5ms/step - loss: 418.8268 - val_loss: 1954.7025\n",
      "Epoch 170/500\n",
      "24/24 [==============================] - 0s 5ms/step - loss: 418.5316 - val_loss: 1958.0198\n",
      "Epoch 171/500\n",
      "24/24 [==============================] - 0s 15ms/step - loss: 418.2552 - val_loss: 1961.2349\n",
      "Epoch 172/500\n",
      "24/24 [==============================] - 0s 6ms/step - loss: 417.9964 - val_loss: 1964.3494\n",
      "Epoch 173/500\n",
      "24/24 [==============================] - 0s 5ms/step - loss: 417.7541 - val_loss: 1967.3636\n",
      "Epoch 174/500\n",
      "24/24 [==============================] - 0s 5ms/step - loss: 417.5273 - val_loss: 1970.2828\n",
      "Epoch 175/500\n",
      "24/24 [==============================] - 0s 5ms/step - loss: 417.3151 - val_loss: 1973.1066\n",
      "Epoch 176/500\n",
      "24/24 [==============================] - 0s 5ms/step - loss: 417.1166 - val_loss: 1975.8368\n",
      "Epoch 177/500\n",
      "24/24 [==============================] - 0s 6ms/step - loss: 416.9310 - val_loss: 1978.4760\n",
      "Epoch 178/500\n",
      "24/24 [==============================] - 0s 5ms/step - loss: 416.7574 - val_loss: 1981.0261\n",
      "Epoch 179/500\n",
      "24/24 [==============================] - 0s 5ms/step - loss: 416.5951 - val_loss: 1983.4888\n",
      "Epoch 180/500\n",
      "24/24 [==============================] - 0s 5ms/step - loss: 416.4435 - val_loss: 1985.8671\n",
      "Epoch 181/500\n",
      "24/24 [==============================] - 0s 4ms/step - loss: 416.3017 - val_loss: 1988.1625\n",
      "Epoch 182/500\n",
      "24/24 [==============================] - 0s 5ms/step - loss: 416.1690 - val_loss: 1990.3765\n",
      "Epoch 183/500\n",
      "24/24 [==============================] - 0s 5ms/step - loss: 416.0453 - val_loss: 1992.5114\n",
      "Epoch 184/500\n",
      "24/24 [==============================] - 0s 5ms/step - loss: 415.9295 - val_loss: 1994.5695\n",
      "Epoch 185/500\n",
      "24/24 [==============================] - 0s 4ms/step - loss: 415.8214 - val_loss: 1996.5522\n",
      "Epoch 186/500\n",
      "24/24 [==============================] - 0s 4ms/step - loss: 415.7205 - val_loss: 1998.4617\n",
      "Epoch 187/500\n",
      "24/24 [==============================] - 0s 5ms/step - loss: 415.6262 - val_loss: 2000.3003\n",
      "Epoch 188/500\n",
      "24/24 [==============================] - 0s 4ms/step - loss: 415.5381 - val_loss: 2002.0697\n",
      "Epoch 189/500\n",
      "24/24 [==============================] - 0s 4ms/step - loss: 415.4558 - val_loss: 2003.7726\n",
      "Epoch 190/500\n",
      "24/24 [==============================] - 0s 4ms/step - loss: 415.3790 - val_loss: 2005.4095\n",
      "Epoch 191/500\n",
      "24/24 [==============================] - 0s 5ms/step - loss: 415.3073 - val_loss: 2006.9834\n",
      "Epoch 192/500\n",
      "24/24 [==============================] - 0s 4ms/step - loss: 415.2402 - val_loss: 2008.4967\n",
      "Epoch 193/500\n",
      "24/24 [==============================] - 0s 4ms/step - loss: 415.1775 - val_loss: 2009.9490\n",
      "Epoch 194/500\n",
      "24/24 [==============================] - 0s 4ms/step - loss: 415.1191 - val_loss: 2011.3451\n",
      "Epoch 195/500\n",
      "24/24 [==============================] - 0s 4ms/step - loss: 415.0644 - val_loss: 2012.6836\n",
      "Epoch 196/500\n",
      "24/24 [==============================] - 0s 5ms/step - loss: 415.0134 - val_loss: 2013.9691\n",
      "Epoch 197/500\n",
      "24/24 [==============================] - 0s 5ms/step - loss: 414.9658 - val_loss: 2015.2020\n",
      "Epoch 198/500\n",
      "24/24 [==============================] - 0s 5ms/step - loss: 414.9213 - val_loss: 2016.3850\n",
      "Epoch 199/500\n",
      "24/24 [==============================] - 0s 5ms/step - loss: 414.8796 - val_loss: 2017.5190\n",
      "Epoch 200/500\n",
      "24/24 [==============================] - 0s 4ms/step - loss: 414.8408 - val_loss: 2018.6046\n",
      "Epoch 201/500\n",
      "24/24 [==============================] - 0s 5ms/step - loss: 414.8046 - val_loss: 2019.6471\n",
      "Epoch 202/500\n",
      "24/24 [==============================] - 0s 4ms/step - loss: 414.7705 - val_loss: 2020.6436\n",
      "Epoch 203/500\n",
      "24/24 [==============================] - 0s 4ms/step - loss: 414.7388 - val_loss: 2021.5985\n",
      "Epoch 204/500\n",
      "24/24 [==============================] - 0s 8ms/step - loss: 414.7092 - val_loss: 2022.5117\n",
      "Epoch 205/500\n",
      "24/24 [==============================] - 0s 6ms/step - loss: 414.6814 - val_loss: 2023.3862\n",
      "Epoch 206/500\n",
      "24/24 [==============================] - 0s 4ms/step - loss: 414.6556 - val_loss: 2024.2224\n",
      "Epoch 207/500\n",
      "24/24 [==============================] - 0s 5ms/step - loss: 414.6313 - val_loss: 2025.0226\n",
      "Epoch 208/500\n",
      "24/24 [==============================] - 0s 4ms/step - loss: 414.6087 - val_loss: 2025.7875\n",
      "Epoch 209/500\n",
      "24/24 [==============================] - 0s 5ms/step - loss: 414.5875 - val_loss: 2026.5183\n",
      "Epoch 210/500\n",
      "24/24 [==============================] - 0s 6ms/step - loss: 414.5676 - val_loss: 2027.2158\n",
      "Epoch 211/500\n",
      "24/24 [==============================] - 0s 5ms/step - loss: 414.5492 - val_loss: 2027.8832\n",
      "Epoch 212/500\n",
      "24/24 [==============================] - 0s 5ms/step - loss: 414.5318 - val_loss: 2028.5195\n",
      "Epoch 213/500\n",
      "24/24 [==============================] - 0s 6ms/step - loss: 414.5155 - val_loss: 2029.1272\n",
      "Epoch 214/500\n",
      "24/24 [==============================] - 0s 8ms/step - loss: 414.5005 - val_loss: 2029.7064\n",
      "Epoch 215/500\n",
      "24/24 [==============================] - 0s 7ms/step - loss: 414.4864 - val_loss: 2030.2605\n",
      "Epoch 216/500\n",
      "24/24 [==============================] - 0s 7ms/step - loss: 414.4729 - val_loss: 2030.7883\n",
      "Epoch 217/500\n",
      "24/24 [==============================] - 0s 6ms/step - loss: 414.4606 - val_loss: 2031.2917\n",
      "Epoch 218/500\n",
      "24/24 [==============================] - 0s 4ms/step - loss: 414.4490 - val_loss: 2031.7719\n",
      "Epoch 219/500\n",
      "24/24 [==============================] - 0s 5ms/step - loss: 414.4381 - val_loss: 2032.2286\n",
      "Epoch 220/500\n",
      "24/24 [==============================] - 0s 5ms/step - loss: 414.4279 - val_loss: 2032.6642\n",
      "Epoch 221/500\n",
      "24/24 [==============================] - 0s 5ms/step - loss: 414.4184 - val_loss: 2033.0797\n",
      "Epoch 222/500\n",
      "24/24 [==============================] - 0s 4ms/step - loss: 414.4095 - val_loss: 2033.4749\n",
      "Epoch 223/500\n",
      "24/24 [==============================] - 0s 4ms/step - loss: 414.4012 - val_loss: 2033.8518\n",
      "Epoch 224/500\n",
      "24/24 [==============================] - 0s 4ms/step - loss: 414.3934 - val_loss: 2034.2102\n",
      "Epoch 225/500\n",
      "24/24 [==============================] - 0s 4ms/step - loss: 414.3861 - val_loss: 2034.5510\n",
      "Epoch 226/500\n",
      "24/24 [==============================] - 0s 6ms/step - loss: 414.3794 - val_loss: 2034.8763\n",
      "Epoch 227/500\n",
      "24/24 [==============================] - 0s 6ms/step - loss: 414.3730 - val_loss: 2035.1848\n",
      "Epoch 228/500\n",
      "24/24 [==============================] - 0s 7ms/step - loss: 414.3670 - val_loss: 2035.4784\n",
      "Epoch 229/500\n",
      "24/24 [==============================] - 0s 7ms/step - loss: 414.3615 - val_loss: 2035.7579\n",
      "Epoch 230/500\n",
      "24/24 [==============================] - 0s 6ms/step - loss: 414.3563 - val_loss: 2036.0232\n",
      "Epoch 231/500\n",
      "24/24 [==============================] - 0s 7ms/step - loss: 414.3514 - val_loss: 2036.2753\n",
      "Epoch 232/500\n",
      "24/24 [==============================] - 0s 12ms/step - loss: 414.3468 - val_loss: 2036.5157\n",
      "Epoch 233/500\n",
      "24/24 [==============================] - 0s 7ms/step - loss: 414.3427 - val_loss: 2036.7418\n",
      "Epoch 234/500\n",
      "24/24 [==============================] - 0s 6ms/step - loss: 414.3388 - val_loss: 2036.9587\n",
      "Epoch 235/500\n",
      "24/24 [==============================] - 0s 6ms/step - loss: 414.3351 - val_loss: 2037.1654\n",
      "Epoch 236/500\n",
      "24/24 [==============================] - 0s 6ms/step - loss: 414.3315 - val_loss: 2037.3597\n",
      "Epoch 237/500\n",
      "24/24 [==============================] - 0s 6ms/step - loss: 414.3284 - val_loss: 2037.5449\n",
      "Epoch 238/500\n",
      "24/24 [==============================] - 0s 6ms/step - loss: 414.3254 - val_loss: 2037.7209\n",
      "Epoch 239/500\n",
      "24/24 [==============================] - 0s 8ms/step - loss: 414.3226 - val_loss: 2037.8884\n",
      "Epoch 240/500\n",
      "24/24 [==============================] - 0s 5ms/step - loss: 414.3201 - val_loss: 2038.0459\n",
      "Epoch 241/500\n",
      "24/24 [==============================] - 0s 7ms/step - loss: 414.3176 - val_loss: 2038.1964\n",
      "Epoch 242/500\n",
      "24/24 [==============================] - 0s 5ms/step - loss: 414.3154 - val_loss: 2038.3395\n",
      "Epoch 243/500\n",
      "24/24 [==============================] - 0s 5ms/step - loss: 414.3133 - val_loss: 2038.4740\n",
      "Epoch 244/500\n",
      "24/24 [==============================] - 0s 5ms/step - loss: 414.3115 - val_loss: 2038.6023\n",
      "Epoch 245/500\n",
      "24/24 [==============================] - 0s 5ms/step - loss: 414.3096 - val_loss: 2038.7240\n",
      "Epoch 246/500\n",
      "24/24 [==============================] - 0s 6ms/step - loss: 414.3080 - val_loss: 2038.8391\n",
      "Epoch 247/500\n",
      "24/24 [==============================] - 0s 7ms/step - loss: 414.3065 - val_loss: 2038.9478\n",
      "Epoch 248/500\n",
      "24/24 [==============================] - 0s 7ms/step - loss: 414.3051 - val_loss: 2039.0511\n",
      "Epoch 249/500\n",
      "24/24 [==============================] - 0s 7ms/step - loss: 414.3038 - val_loss: 2039.1500\n",
      "Epoch 250/500\n",
      "24/24 [==============================] - 0s 7ms/step - loss: 414.3026 - val_loss: 2039.2423\n",
      "Epoch 251/500\n",
      "24/24 [==============================] - 0s 6ms/step - loss: 414.3015 - val_loss: 2039.3306\n",
      "Epoch 252/500\n",
      "24/24 [==============================] - 0s 11ms/step - loss: 414.3005 - val_loss: 2039.4138\n",
      "Epoch 253/500\n",
      "24/24 [==============================] - 0s 11ms/step - loss: 414.2996 - val_loss: 2039.4930\n",
      "Epoch 254/500\n",
      "24/24 [==============================] - 0s 7ms/step - loss: 414.2986 - val_loss: 2039.5669\n",
      "Epoch 255/500\n",
      "24/24 [==============================] - 0s 8ms/step - loss: 414.2978 - val_loss: 2039.6382\n",
      "Epoch 256/500\n",
      "24/24 [==============================] - 0s 6ms/step - loss: 414.2972 - val_loss: 2039.7046\n",
      "Epoch 257/500\n",
      "24/24 [==============================] - 0s 6ms/step - loss: 414.2966 - val_loss: 2039.7684\n",
      "Epoch 258/500\n",
      "24/24 [==============================] - 0s 6ms/step - loss: 414.2961 - val_loss: 2039.8295\n",
      "Epoch 259/500\n",
      "24/24 [==============================] - 0s 6ms/step - loss: 414.2955 - val_loss: 2039.8862\n",
      "Epoch 260/500\n",
      "24/24 [==============================] - 0s 6ms/step - loss: 414.2951 - val_loss: 2039.9402\n",
      "Epoch 261/500\n",
      "24/24 [==============================] - 0s 5ms/step - loss: 414.2946 - val_loss: 2039.9911\n",
      "Epoch 262/500\n",
      "24/24 [==============================] - 0s 4ms/step - loss: 414.2943 - val_loss: 2040.0398\n",
      "Epoch 263/500\n",
      "24/24 [==============================] - 0s 5ms/step - loss: 414.2939 - val_loss: 2040.0844\n",
      "Epoch 264/500\n",
      "24/24 [==============================] - 0s 5ms/step - loss: 414.2937 - val_loss: 2040.1277\n",
      "Epoch 265/500\n",
      "24/24 [==============================] - 0s 5ms/step - loss: 414.2933 - val_loss: 2040.1691\n",
      "Epoch 266/500\n",
      "24/24 [==============================] - 0s 4ms/step - loss: 414.2931 - val_loss: 2040.2074\n",
      "Epoch 267/500\n",
      "24/24 [==============================] - 0s 4ms/step - loss: 414.2930 - val_loss: 2040.2435\n",
      "Epoch 268/500\n",
      "24/24 [==============================] - 0s 5ms/step - loss: 414.2928 - val_loss: 2040.2770\n",
      "Epoch 269/500\n",
      "24/24 [==============================] - 0s 5ms/step - loss: 414.2928 - val_loss: 2040.3096\n",
      "Epoch 270/500\n",
      "24/24 [==============================] - 0s 5ms/step - loss: 414.2927 - val_loss: 2040.3409\n",
      "Epoch 271/500\n",
      "24/24 [==============================] - 0s 5ms/step - loss: 414.2925 - val_loss: 2040.3696\n",
      "Epoch 272/500\n",
      "24/24 [==============================] - 0s 5ms/step - loss: 414.2924 - val_loss: 2040.3971\n",
      "Epoch 273/500\n",
      "24/24 [==============================] - 0s 4ms/step - loss: 414.2926 - val_loss: 2040.4227\n",
      "Epoch 274/500\n",
      "24/24 [==============================] - 0s 4ms/step - loss: 414.2924 - val_loss: 2040.4475\n",
      "Epoch 275/500\n",
      "24/24 [==============================] - 0s 5ms/step - loss: 414.2925 - val_loss: 2040.4702\n",
      "Epoch 276/500\n",
      "24/24 [==============================] - 0s 5ms/step - loss: 414.2926 - val_loss: 2040.4928\n",
      "Epoch 277/500\n",
      "24/24 [==============================] - 0s 5ms/step - loss: 414.2926 - val_loss: 2040.5137\n",
      "Epoch 278/500\n",
      "24/24 [==============================] - 0s 4ms/step - loss: 414.2926 - val_loss: 2040.5323\n",
      "Epoch 279/500\n",
      "24/24 [==============================] - 0s 4ms/step - loss: 414.2927 - val_loss: 2040.5510\n",
      "Epoch 280/500\n",
      "24/24 [==============================] - 0s 5ms/step - loss: 414.2928 - val_loss: 2040.5685\n",
      "Epoch 281/500\n",
      "24/24 [==============================] - 0s 4ms/step - loss: 414.2928 - val_loss: 2040.5837\n",
      "Epoch 282/500\n",
      "24/24 [==============================] - 0s 4ms/step - loss: 414.2931 - val_loss: 2040.5994\n",
      "Epoch 283/500\n",
      "24/24 [==============================] - 0s 5ms/step - loss: 414.2932 - val_loss: 2040.6147\n",
      "Epoch 284/500\n",
      "24/24 [==============================] - 0s 4ms/step - loss: 414.2932 - val_loss: 2040.6283\n",
      "Epoch 285/500\n",
      "24/24 [==============================] - 0s 4ms/step - loss: 414.2934 - val_loss: 2040.6425\n",
      "Epoch 286/500\n",
      "24/24 [==============================] - 0s 5ms/step - loss: 414.2936 - val_loss: 2040.6541\n",
      "Epoch 287/500\n",
      "24/24 [==============================] - 0s 5ms/step - loss: 414.2936 - val_loss: 2040.6659\n",
      "Epoch 288/500\n",
      "24/24 [==============================] - 0s 4ms/step - loss: 414.2938 - val_loss: 2040.6771\n",
      "Epoch 289/500\n",
      "24/24 [==============================] - 0s 5ms/step - loss: 414.2939 - val_loss: 2040.6871\n",
      "Epoch 290/500\n",
      "24/24 [==============================] - 0s 4ms/step - loss: 414.2943 - val_loss: 2040.6984\n",
      "Epoch 291/500\n",
      "24/24 [==============================] - 0s 4ms/step - loss: 414.2942 - val_loss: 2040.7075\n",
      "Epoch 292/500\n",
      "24/24 [==============================] - 0s 5ms/step - loss: 414.2945 - val_loss: 2040.7164\n",
      "Epoch 293/500\n",
      "24/24 [==============================] - 0s 4ms/step - loss: 414.2946 - val_loss: 2040.7241\n",
      "Epoch 294/500\n",
      "24/24 [==============================] - 0s 4ms/step - loss: 414.2949 - val_loss: 2040.7322\n",
      "Epoch 295/500\n",
      "24/24 [==============================] - 0s 5ms/step - loss: 414.2949 - val_loss: 2040.7391\n",
      "Epoch 296/500\n",
      "24/24 [==============================] - 0s 5ms/step - loss: 414.2952 - val_loss: 2040.7461\n",
      "Epoch 297/500\n",
      "24/24 [==============================] - 0s 4ms/step - loss: 414.2953 - val_loss: 2040.7533\n",
      "Epoch 298/500\n",
      "24/24 [==============================] - 0s 5ms/step - loss: 414.2956 - val_loss: 2040.7596\n",
      "Epoch 299/500\n",
      "24/24 [==============================] - 0s 5ms/step - loss: 414.2958 - val_loss: 2040.7657\n",
      "Epoch 300/500\n",
      "24/24 [==============================] - 0s 5ms/step - loss: 414.2959 - val_loss: 2040.7710\n",
      "Epoch 301/500\n",
      "24/24 [==============================] - 0s 5ms/step - loss: 414.2960 - val_loss: 2040.7759\n",
      "Epoch 302/500\n",
      "24/24 [==============================] - 0s 5ms/step - loss: 414.2963 - val_loss: 2040.7809\n",
      "Epoch 303/500\n",
      "24/24 [==============================] - 0s 8ms/step - loss: 414.2964 - val_loss: 2040.7850\n",
      "Epoch 304/500\n",
      "24/24 [==============================] - 0s 5ms/step - loss: 414.2966 - val_loss: 2040.7898\n",
      "Epoch 305/500\n",
      "24/24 [==============================] - 0s 4ms/step - loss: 414.2968 - val_loss: 2040.7939\n",
      "Epoch 306/500\n",
      "24/24 [==============================] - 0s 4ms/step - loss: 414.2970 - val_loss: 2040.7980\n",
      "Epoch 307/500\n",
      "24/24 [==============================] - 0s 5ms/step - loss: 414.2971 - val_loss: 2040.8020\n",
      "Epoch 308/500\n",
      "24/24 [==============================] - 0s 5ms/step - loss: 414.2973 - val_loss: 2040.8058\n",
      "Epoch 309/500\n",
      "24/24 [==============================] - 0s 7ms/step - loss: 414.2974 - val_loss: 2040.8086\n",
      "Epoch 310/500\n",
      "24/24 [==============================] - 0s 4ms/step - loss: 414.2977 - val_loss: 2040.8129\n",
      "Epoch 311/500\n",
      "24/24 [==============================] - 0s 5ms/step - loss: 414.2978 - val_loss: 2040.8153\n",
      "Epoch 312/500\n",
      "24/24 [==============================] - 0s 5ms/step - loss: 414.2980 - val_loss: 2040.8181\n",
      "Epoch 313/500\n",
      "24/24 [==============================] - 0s 5ms/step - loss: 414.2982 - val_loss: 2040.8220\n",
      "Epoch 314/500\n",
      "24/24 [==============================] - 0s 5ms/step - loss: 414.2983 - val_loss: 2040.8237\n",
      "Epoch 315/500\n",
      "24/24 [==============================] - 0s 4ms/step - loss: 414.2984 - val_loss: 2040.8257\n",
      "Epoch 316/500\n",
      "24/24 [==============================] - 0s 4ms/step - loss: 414.2986 - val_loss: 2040.8287\n",
      "Epoch 317/500\n",
      "24/24 [==============================] - 0s 5ms/step - loss: 414.2989 - val_loss: 2040.8315\n",
      "Epoch 318/500\n",
      "24/24 [==============================] - 0s 5ms/step - loss: 414.2989 - val_loss: 2040.8333\n",
      "Epoch 319/500\n",
      "24/24 [==============================] - 0s 4ms/step - loss: 414.2990 - val_loss: 2040.8348\n",
      "Epoch 320/500\n",
      "24/24 [==============================] - 0s 5ms/step - loss: 414.2993 - val_loss: 2040.8378\n",
      "Epoch 321/500\n",
      "24/24 [==============================] - 0s 4ms/step - loss: 414.2993 - val_loss: 2040.8394\n",
      "Epoch 322/500\n",
      "24/24 [==============================] - 0s 4ms/step - loss: 414.2994 - val_loss: 2040.8406\n",
      "Epoch 323/500\n",
      "24/24 [==============================] - 0s 4ms/step - loss: 414.2997 - val_loss: 2040.8418\n",
      "Epoch 324/500\n",
      "24/24 [==============================] - 0s 4ms/step - loss: 414.2998 - val_loss: 2040.8429\n",
      "Epoch 325/500\n",
      "24/24 [==============================] - 0s 4ms/step - loss: 414.3000 - val_loss: 2040.8434\n",
      "Epoch 326/500\n",
      "24/24 [==============================] - 0s 4ms/step - loss: 414.3001 - val_loss: 2040.8451\n",
      "Epoch 327/500\n",
      "24/24 [==============================] - 0s 4ms/step - loss: 414.3002 - val_loss: 2040.8474\n",
      "Epoch 328/500\n",
      "24/24 [==============================] - 0s 5ms/step - loss: 414.3004 - val_loss: 2040.8495\n",
      "Epoch 329/500\n",
      "24/24 [==============================] - 0s 4ms/step - loss: 414.3004 - val_loss: 2040.8508\n",
      "Epoch 330/500\n",
      "24/24 [==============================] - 0s 5ms/step - loss: 414.3006 - val_loss: 2040.8517\n",
      "Epoch 331/500\n",
      "24/24 [==============================] - 0s 5ms/step - loss: 414.3008 - val_loss: 2040.8523\n",
      "Epoch 332/500\n",
      "24/24 [==============================] - 0s 5ms/step - loss: 414.3009 - val_loss: 2040.8536\n",
      "Epoch 333/500\n",
      "24/24 [==============================] - 0s 10ms/step - loss: 414.3010 - val_loss: 2040.8546\n",
      "Epoch 334/500\n",
      "24/24 [==============================] - 0s 5ms/step - loss: 414.3011 - val_loss: 2040.8557\n",
      "Epoch 335/500\n",
      "24/24 [==============================] - 0s 5ms/step - loss: 414.3011 - val_loss: 2040.8566\n",
      "Epoch 336/500\n",
      "24/24 [==============================] - 0s 5ms/step - loss: 414.3013 - val_loss: 2040.8574\n",
      "Epoch 337/500\n",
      "24/24 [==============================] - 0s 4ms/step - loss: 414.3014 - val_loss: 2040.8579\n",
      "Epoch 338/500\n",
      "24/24 [==============================] - 0s 5ms/step - loss: 414.3015 - val_loss: 2040.8574\n",
      "Epoch 339/500\n",
      "24/24 [==============================] - 0s 5ms/step - loss: 414.3016 - val_loss: 2040.8575\n",
      "Epoch 340/500\n",
      "24/24 [==============================] - 0s 5ms/step - loss: 414.3019 - val_loss: 2040.8590\n",
      "Epoch 341/500\n",
      "24/24 [==============================] - 0s 5ms/step - loss: 414.3019 - val_loss: 2040.8595\n",
      "Epoch 342/500\n",
      "24/24 [==============================] - 0s 5ms/step - loss: 414.3020 - val_loss: 2040.8599\n",
      "Epoch 343/500\n",
      "24/24 [==============================] - 0s 5ms/step - loss: 414.3021 - val_loss: 2040.8604\n",
      "Epoch 344/500\n",
      "24/24 [==============================] - 0s 5ms/step - loss: 414.3023 - val_loss: 2040.8613\n",
      "Epoch 345/500\n",
      "24/24 [==============================] - 0s 5ms/step - loss: 414.3025 - val_loss: 2040.8627\n",
      "Epoch 346/500\n",
      "24/24 [==============================] - 0s 4ms/step - loss: 414.3025 - val_loss: 2040.8635\n",
      "Epoch 347/500\n",
      "24/24 [==============================] - 0s 4ms/step - loss: 414.3025 - val_loss: 2040.8643\n",
      "Epoch 348/500\n",
      "24/24 [==============================] - 0s 4ms/step - loss: 414.3026 - val_loss: 2040.8647\n",
      "Epoch 349/500\n",
      "24/24 [==============================] - 0s 4ms/step - loss: 414.3026 - val_loss: 2040.8650\n",
      "Epoch 350/500\n",
      "24/24 [==============================] - 0s 4ms/step - loss: 414.3028 - val_loss: 2040.8654\n",
      "Epoch 351/500\n",
      "24/24 [==============================] - 0s 5ms/step - loss: 414.3029 - val_loss: 2040.8665\n",
      "Epoch 352/500\n",
      "24/24 [==============================] - 0s 4ms/step - loss: 414.3030 - val_loss: 2040.8676\n",
      "Epoch 353/500\n",
      "24/24 [==============================] - 0s 4ms/step - loss: 414.3029 - val_loss: 2040.8680\n",
      "Epoch 354/500\n",
      "24/24 [==============================] - 0s 4ms/step - loss: 414.3030 - val_loss: 2040.8684\n",
      "Epoch 355/500\n",
      "24/24 [==============================] - 0s 4ms/step - loss: 414.3032 - val_loss: 2040.8689\n",
      "Epoch 356/500\n",
      "24/24 [==============================] - 0s 4ms/step - loss: 414.3033 - val_loss: 2040.8698\n",
      "Epoch 357/500\n",
      "24/24 [==============================] - 0s 5ms/step - loss: 414.3033 - val_loss: 2040.8696\n",
      "Epoch 358/500\n",
      "24/24 [==============================] - 0s 4ms/step - loss: 414.3034 - val_loss: 2040.8699\n",
      "Epoch 359/500\n",
      "24/24 [==============================] - 0s 4ms/step - loss: 414.3035 - val_loss: 2040.8704\n",
      "Epoch 360/500\n",
      "24/24 [==============================] - 0s 10ms/step - loss: 414.3036 - val_loss: 2040.8711\n",
      "Epoch 361/500\n",
      "24/24 [==============================] - 0s 5ms/step - loss: 414.3036 - val_loss: 2040.8717\n",
      "Epoch 362/500\n",
      "24/24 [==============================] - 0s 5ms/step - loss: 414.3037 - val_loss: 2040.8721\n",
      "Epoch 363/500\n",
      "24/24 [==============================] - 0s 5ms/step - loss: 414.3037 - val_loss: 2040.8723\n",
      "Epoch 364/500\n",
      "24/24 [==============================] - 0s 4ms/step - loss: 414.3037 - val_loss: 2040.8718\n",
      "Epoch 365/500\n",
      "24/24 [==============================] - 0s 5ms/step - loss: 414.3038 - val_loss: 2040.8718\n",
      "Epoch 366/500\n",
      "24/24 [==============================] - 0s 5ms/step - loss: 414.3040 - val_loss: 2040.8730\n",
      "Epoch 367/500\n",
      "24/24 [==============================] - 0s 5ms/step - loss: 414.3040 - val_loss: 2040.8745\n",
      "Epoch 368/500\n",
      "24/24 [==============================] - 0s 5ms/step - loss: 414.3041 - val_loss: 2040.8770\n",
      "Epoch 369/500\n",
      "24/24 [==============================] - 0s 4ms/step - loss: 414.3043 - val_loss: 2040.8783\n",
      "Epoch 370/500\n",
      "24/24 [==============================] - 0s 4ms/step - loss: 414.3042 - val_loss: 2040.8783\n",
      "Epoch 371/500\n",
      "24/24 [==============================] - 0s 4ms/step - loss: 414.3042 - val_loss: 2040.8788\n",
      "Epoch 372/500\n",
      "24/24 [==============================] - 0s 5ms/step - loss: 414.3043 - val_loss: 2040.8789\n",
      "Epoch 373/500\n",
      "24/24 [==============================] - 0s 4ms/step - loss: 414.3044 - val_loss: 2040.8794\n",
      "Epoch 374/500\n",
      "24/24 [==============================] - 0s 4ms/step - loss: 414.3044 - val_loss: 2040.8793\n",
      "Epoch 375/500\n",
      "24/24 [==============================] - 0s 4ms/step - loss: 414.3044 - val_loss: 2040.8794\n",
      "Epoch 376/500\n",
      "24/24 [==============================] - 0s 5ms/step - loss: 414.3045 - val_loss: 2040.8802\n",
      "Epoch 377/500\n",
      "24/24 [==============================] - 0s 4ms/step - loss: 414.3046 - val_loss: 2040.8810\n",
      "Epoch 378/500\n",
      "24/24 [==============================] - 0s 5ms/step - loss: 414.3046 - val_loss: 2040.8820\n",
      "Epoch 379/500\n",
      "24/24 [==============================] - 0s 4ms/step - loss: 414.3046 - val_loss: 2040.8826\n",
      "Epoch 380/500\n",
      "24/24 [==============================] - 0s 4ms/step - loss: 414.3046 - val_loss: 2040.8827\n",
      "Epoch 381/500\n",
      "24/24 [==============================] - 0s 4ms/step - loss: 414.3047 - val_loss: 2040.8831\n",
      "Epoch 382/500\n",
      "24/24 [==============================] - 0s 4ms/step - loss: 414.3046 - val_loss: 2040.8835\n",
      "Epoch 383/500\n",
      "24/24 [==============================] - 0s 4ms/step - loss: 414.3047 - val_loss: 2040.8832\n",
      "Epoch 384/500\n",
      "24/24 [==============================] - 0s 4ms/step - loss: 414.3048 - val_loss: 2040.8837\n",
      "Epoch 385/500\n",
      "24/24 [==============================] - 0s 4ms/step - loss: 414.3048 - val_loss: 2040.8839\n",
      "Epoch 386/500\n",
      "24/24 [==============================] - 0s 10ms/step - loss: 414.3049 - val_loss: 2040.8849\n",
      "Epoch 387/500\n",
      "24/24 [==============================] - 0s 5ms/step - loss: 414.3049 - val_loss: 2040.8855\n",
      "Epoch 388/500\n",
      "24/24 [==============================] - 0s 5ms/step - loss: 414.3049 - val_loss: 2040.8859\n",
      "Epoch 389/500\n",
      "24/24 [==============================] - 0s 4ms/step - loss: 414.3050 - val_loss: 2040.8867\n",
      "Epoch 390/500\n",
      "24/24 [==============================] - 0s 4ms/step - loss: 414.3050 - val_loss: 2040.8877\n",
      "Epoch 391/500\n",
      "24/24 [==============================] - 0s 4ms/step - loss: 414.3050 - val_loss: 2040.8875\n",
      "Epoch 392/500\n",
      "24/24 [==============================] - 0s 4ms/step - loss: 414.3051 - val_loss: 2040.8879\n",
      "Epoch 393/500\n",
      "24/24 [==============================] - 0s 4ms/step - loss: 414.3051 - val_loss: 2040.8882\n",
      "Epoch 394/500\n",
      "24/24 [==============================] - 0s 4ms/step - loss: 414.3051 - val_loss: 2040.8884\n",
      "Epoch 395/500\n",
      "24/24 [==============================] - 0s 4ms/step - loss: 414.3051 - val_loss: 2040.8895\n",
      "Epoch 396/500\n",
      "24/24 [==============================] - 0s 4ms/step - loss: 414.3051 - val_loss: 2040.8898\n",
      "Epoch 397/500\n",
      "24/24 [==============================] - 0s 5ms/step - loss: 414.3051 - val_loss: 2040.8898\n",
      "Epoch 398/500\n",
      "24/24 [==============================] - 0s 4ms/step - loss: 414.3052 - val_loss: 2040.8903\n",
      "Epoch 399/500\n",
      "24/24 [==============================] - 0s 4ms/step - loss: 414.3053 - val_loss: 2040.8907\n",
      "Epoch 400/500\n",
      "24/24 [==============================] - 0s 4ms/step - loss: 414.3053 - val_loss: 2040.8907\n",
      "Epoch 401/500\n",
      "24/24 [==============================] - 0s 4ms/step - loss: 414.3052 - val_loss: 2040.8915\n",
      "Epoch 402/500\n",
      "24/24 [==============================] - 0s 5ms/step - loss: 414.3052 - val_loss: 2040.8911\n",
      "Epoch 403/500\n",
      "24/24 [==============================] - 0s 4ms/step - loss: 414.3052 - val_loss: 2040.8892\n",
      "Epoch 404/500\n",
      "24/24 [==============================] - 0s 4ms/step - loss: 414.3054 - val_loss: 2040.8882\n",
      "Epoch 405/500\n",
      "24/24 [==============================] - 0s 4ms/step - loss: 414.3054 - val_loss: 2040.8875\n",
      "Epoch 406/500\n",
      "24/24 [==============================] - 0s 4ms/step - loss: 414.3056 - val_loss: 2040.8877\n",
      "Epoch 407/500\n",
      "24/24 [==============================] - 0s 4ms/step - loss: 414.3057 - val_loss: 2040.8883\n",
      "Epoch 408/500\n",
      "24/24 [==============================] - 0s 4ms/step - loss: 414.3056 - val_loss: 2040.8884\n",
      "Epoch 409/500\n",
      "24/24 [==============================] - 0s 4ms/step - loss: 414.3056 - val_loss: 2040.8888\n",
      "Epoch 410/500\n",
      "24/24 [==============================] - 0s 4ms/step - loss: 414.3056 - val_loss: 2040.8887\n",
      "Epoch 411/500\n",
      "24/24 [==============================] - 0s 11ms/step - loss: 414.3056 - val_loss: 2040.8882\n",
      "Epoch 412/500\n",
      "24/24 [==============================] - 0s 5ms/step - loss: 414.3057 - val_loss: 2040.8872\n",
      "Epoch 413/500\n",
      "24/24 [==============================] - 0s 5ms/step - loss: 414.3057 - val_loss: 2040.6819\n",
      "Epoch 414/500\n",
      "24/24 [==============================] - 0s 5ms/step - loss: 414.3550 - val_loss: 2040.9291\n",
      "Epoch 415/500\n",
      "24/24 [==============================] - 0s 4ms/step - loss: 414.3058 - val_loss: 2040.9296\n",
      "Epoch 416/500\n",
      "24/24 [==============================] - 0s 4ms/step - loss: 414.3057 - val_loss: 2040.9296\n",
      "Epoch 417/500\n",
      "24/24 [==============================] - 0s 4ms/step - loss: 414.3057 - val_loss: 2040.9296\n",
      "Epoch 418/500\n",
      "24/24 [==============================] - 0s 4ms/step - loss: 414.3057 - val_loss: 2040.9299\n",
      "Epoch 419/500\n",
      "24/24 [==============================] - 0s 4ms/step - loss: 414.3058 - val_loss: 2040.9301\n",
      "Epoch 420/500\n",
      "24/24 [==============================] - 0s 4ms/step - loss: 414.3058 - val_loss: 2040.9305\n",
      "Epoch 421/500\n",
      "24/24 [==============================] - 0s 4ms/step - loss: 414.3058 - val_loss: 2040.9305\n",
      "Epoch 422/500\n",
      "24/24 [==============================] - 0s 4ms/step - loss: 414.3058 - val_loss: 2040.9305\n",
      "Epoch 423/500\n",
      "24/24 [==============================] - 0s 4ms/step - loss: 414.3058 - val_loss: 2040.9304\n",
      "Epoch 424/500\n",
      "24/24 [==============================] - 0s 4ms/step - loss: 414.3058 - val_loss: 2040.9304\n",
      "Epoch 425/500\n",
      "24/24 [==============================] - 0s 4ms/step - loss: 414.3058 - val_loss: 2040.9303\n",
      "Epoch 426/500\n",
      "24/24 [==============================] - 0s 4ms/step - loss: 414.3058 - val_loss: 2040.9303\n",
      "Epoch 427/500\n",
      "24/24 [==============================] - 0s 4ms/step - loss: 414.3058 - val_loss: 2040.9301\n",
      "Epoch 428/500\n",
      "24/24 [==============================] - 0s 4ms/step - loss: 414.3058 - val_loss: 2040.9299\n",
      "Epoch 429/500\n",
      "24/24 [==============================] - 0s 4ms/step - loss: 414.3058 - val_loss: 2040.9294\n",
      "Epoch 430/500\n",
      "24/24 [==============================] - 0s 4ms/step - loss: 414.3058 - val_loss: 2040.9293\n",
      "Epoch 431/500\n",
      "24/24 [==============================] - 0s 4ms/step - loss: 414.3059 - val_loss: 2040.9298\n",
      "Epoch 432/500\n",
      "24/24 [==============================] - 0s 5ms/step - loss: 414.3060 - val_loss: 2040.9308\n",
      "Epoch 433/500\n",
      "24/24 [==============================] - 0s 4ms/step - loss: 414.3060 - val_loss: 2040.9321\n",
      "Epoch 434/500\n",
      "24/24 [==============================] - 0s 5ms/step - loss: 414.3061 - val_loss: 2040.9326\n",
      "Epoch 435/500\n",
      "24/24 [==============================] - 0s 10ms/step - loss: 414.3060 - val_loss: 2040.9329\n",
      "Epoch 436/500\n",
      "24/24 [==============================] - 0s 5ms/step - loss: 414.3060 - val_loss: 2040.9329\n",
      "Epoch 437/500\n",
      "24/24 [==============================] - 0s 4ms/step - loss: 414.3059 - val_loss: 2040.9326\n",
      "Epoch 438/500\n",
      "24/24 [==============================] - 0s 5ms/step - loss: 414.3060 - val_loss: 2040.9323\n",
      "Epoch 439/500\n",
      "24/24 [==============================] - 0s 5ms/step - loss: 414.3059 - val_loss: 2040.9310\n",
      "Epoch 440/500\n",
      "24/24 [==============================] - 0s 4ms/step - loss: 414.3060 - val_loss: 2040.9305\n",
      "Epoch 441/500\n",
      "24/24 [==============================] - 0s 5ms/step - loss: 414.3059 - val_loss: 2040.9301\n",
      "Epoch 442/500\n",
      "24/24 [==============================] - 0s 4ms/step - loss: 414.3059 - val_loss: 2040.9293\n",
      "Epoch 443/500\n",
      "24/24 [==============================] - 0s 4ms/step - loss: 414.3060 - val_loss: 2040.9293\n",
      "Epoch 444/500\n",
      "24/24 [==============================] - 0s 4ms/step - loss: 414.3060 - val_loss: 2040.9288\n",
      "Epoch 445/500\n",
      "24/24 [==============================] - 0s 5ms/step - loss: 414.3059 - val_loss: 2040.9283\n",
      "Epoch 446/500\n",
      "24/24 [==============================] - 0s 4ms/step - loss: 414.3060 - val_loss: 2040.9280\n",
      "Epoch 447/500\n",
      "24/24 [==============================] - 0s 4ms/step - loss: 414.3060 - val_loss: 2040.9280\n",
      "Epoch 448/500\n",
      "24/24 [==============================] - 0s 4ms/step - loss: 414.3061 - val_loss: 2040.9283\n",
      "Epoch 449/500\n",
      "24/24 [==============================] - 0s 4ms/step - loss: 414.3061 - val_loss: 2040.9283\n",
      "Epoch 450/500\n",
      "24/24 [==============================] - 0s 5ms/step - loss: 414.3061 - val_loss: 2040.9285\n",
      "Epoch 451/500\n",
      "24/24 [==============================] - 0s 5ms/step - loss: 414.3061 - val_loss: 2040.9285\n",
      "Epoch 452/500\n",
      "24/24 [==============================] - 0s 4ms/step - loss: 414.3061 - val_loss: 2040.9288\n",
      "Epoch 453/500\n",
      "24/24 [==============================] - 0s 4ms/step - loss: 414.3061 - val_loss: 2040.9288\n",
      "Epoch 454/500\n",
      "24/24 [==============================] - 0s 4ms/step - loss: 414.3061 - val_loss: 2040.9288\n",
      "Epoch 455/500\n",
      "24/24 [==============================] - 0s 5ms/step - loss: 414.3061 - val_loss: 2040.9286\n",
      "Epoch 456/500\n",
      "24/24 [==============================] - 0s 4ms/step - loss: 414.3061 - val_loss: 2040.9285\n",
      "Epoch 457/500\n",
      "24/24 [==============================] - 0s 4ms/step - loss: 414.3062 - val_loss: 2040.9285\n",
      "Epoch 458/500\n",
      "24/24 [==============================] - 0s 4ms/step - loss: 414.3063 - val_loss: 2040.9290\n",
      "Epoch 459/500\n",
      "24/24 [==============================] - 0s 4ms/step - loss: 414.3063 - val_loss: 2040.9290\n",
      "Epoch 460/500\n",
      "24/24 [==============================] - 0s 9ms/step - loss: 414.3065 - val_loss: 2040.9305\n",
      "Epoch 461/500\n",
      "24/24 [==============================] - 0s 5ms/step - loss: 414.3063 - val_loss: 2040.9314\n",
      "Epoch 462/500\n",
      "24/24 [==============================] - 0s 5ms/step - loss: 414.3062 - val_loss: 2040.9326\n",
      "Epoch 463/500\n",
      "24/24 [==============================] - 0s 4ms/step - loss: 414.3062 - val_loss: 2040.9331\n",
      "Epoch 464/500\n",
      "24/24 [==============================] - 0s 4ms/step - loss: 414.3062 - val_loss: 2040.9333\n",
      "Epoch 465/500\n",
      "24/24 [==============================] - 0s 4ms/step - loss: 414.3061 - val_loss: 2040.9338\n",
      "Epoch 466/500\n",
      "24/24 [==============================] - 0s 4ms/step - loss: 414.3061 - val_loss: 2040.9346\n",
      "Epoch 467/500\n",
      "24/24 [==============================] - 0s 4ms/step - loss: 414.3061 - val_loss: 2040.9353\n",
      "Epoch 468/500\n",
      "24/24 [==============================] - 0s 5ms/step - loss: 414.3062 - val_loss: 2040.9355\n",
      "Epoch 469/500\n",
      "24/24 [==============================] - 0s 4ms/step - loss: 414.3062 - val_loss: 2040.9360\n",
      "Epoch 470/500\n",
      "24/24 [==============================] - 0s 4ms/step - loss: 414.3062 - val_loss: 2040.9370\n",
      "Epoch 471/500\n",
      "24/24 [==============================] - 0s 5ms/step - loss: 414.3062 - val_loss: 2040.9375\n",
      "Epoch 472/500\n",
      "24/24 [==============================] - 0s 4ms/step - loss: 414.3062 - val_loss: 2040.9380\n",
      "Epoch 473/500\n",
      "24/24 [==============================] - 0s 4ms/step - loss: 414.3061 - val_loss: 2040.9385\n",
      "Epoch 474/500\n",
      "24/24 [==============================] - 0s 4ms/step - loss: 414.3061 - val_loss: 2040.9385\n",
      "Epoch 475/500\n",
      "24/24 [==============================] - 0s 4ms/step - loss: 414.3061 - val_loss: 2040.9385\n",
      "Epoch 476/500\n",
      "24/24 [==============================] - 0s 4ms/step - loss: 414.3060 - val_loss: 2040.9375\n",
      "Epoch 477/500\n",
      "24/24 [==============================] - 0s 4ms/step - loss: 414.3062 - val_loss: 2040.9364\n",
      "Epoch 478/500\n",
      "24/24 [==============================] - 0s 4ms/step - loss: 414.3061 - val_loss: 2040.9348\n",
      "Epoch 479/500\n",
      "24/24 [==============================] - 0s 4ms/step - loss: 414.3061 - val_loss: 2040.9346\n",
      "Epoch 480/500\n",
      "24/24 [==============================] - 0s 4ms/step - loss: 414.3061 - val_loss: 2040.9338\n",
      "Epoch 481/500\n",
      "24/24 [==============================] - 0s 4ms/step - loss: 414.3060 - val_loss: 2040.9329\n",
      "Epoch 482/500\n",
      "24/24 [==============================] - 0s 4ms/step - loss: 414.3061 - val_loss: 2040.9324\n",
      "Epoch 483/500\n",
      "24/24 [==============================] - 0s 5ms/step - loss: 414.3061 - val_loss: 2040.9315\n",
      "Epoch 484/500\n",
      "24/24 [==============================] - 0s 10ms/step - loss: 414.3061 - val_loss: 2040.9313\n",
      "Epoch 485/500\n",
      "24/24 [==============================] - 0s 5ms/step - loss: 414.3061 - val_loss: 2040.9303\n",
      "Epoch 486/500\n",
      "24/24 [==============================] - 0s 5ms/step - loss: 414.3062 - val_loss: 2040.9288\n",
      "Epoch 487/500\n",
      "24/24 [==============================] - 0s 5ms/step - loss: 414.3063 - val_loss: 2040.9280\n",
      "Epoch 488/500\n",
      "24/24 [==============================] - 0s 4ms/step - loss: 414.3064 - val_loss: 2040.9272\n",
      "Epoch 489/500\n",
      "24/24 [==============================] - 0s 5ms/step - loss: 414.3065 - val_loss: 2040.9263\n",
      "Epoch 490/500\n",
      "24/24 [==============================] - 0s 5ms/step - loss: 414.3065 - val_loss: 2040.9257\n",
      "Epoch 491/500\n",
      "24/24 [==============================] - 0s 5ms/step - loss: 414.3065 - val_loss: 2040.9257\n",
      "Epoch 492/500\n",
      "24/24 [==============================] - 0s 4ms/step - loss: 414.3064 - val_loss: 2040.9255\n",
      "Epoch 493/500\n",
      "24/24 [==============================] - 0s 4ms/step - loss: 414.3063 - val_loss: 2040.9250\n",
      "Epoch 494/500\n",
      "24/24 [==============================] - 0s 4ms/step - loss: 414.3063 - val_loss: 2040.9246\n",
      "Epoch 495/500\n",
      "24/24 [==============================] - 0s 4ms/step - loss: 414.3063 - val_loss: 2040.9243\n",
      "Epoch 496/500\n",
      "24/24 [==============================] - 0s 5ms/step - loss: 414.3064 - val_loss: 2040.9243\n",
      "Epoch 497/500\n",
      "24/24 [==============================] - 0s 4ms/step - loss: 414.3064 - val_loss: 2040.9242\n",
      "Epoch 498/500\n",
      "24/24 [==============================] - 0s 4ms/step - loss: 414.3064 - val_loss: 2040.9242\n",
      "Epoch 499/500\n",
      "24/24 [==============================] - 0s 5ms/step - loss: 414.3064 - val_loss: 2040.9238\n",
      "Epoch 500/500\n",
      "24/24 [==============================] - 0s 4ms/step - loss: 414.3064 - val_loss: 2040.9241\n"
     ]
    }
   ],
   "source": [
    "C0 = tf.Variable(89.3180, name=\"C0\", trainable=True, dtype=tf.float32)\n",
    "K0 = tf.Variable(-0.0010, name=\"K0\", trainable=True, dtype=tf.float32)\n",
    "K1 = tf.Variable(0.0001, name=\"K1\", trainable=True, dtype=tf.float32)\n",
    "a = tf.Variable(0.0000, name=\"a\", trainable=True, dtype=tf.float32)\n",
    "b = tf.Variable(-0.0204, name=\"b\", trainable=True, dtype=tf.float32)\n",
    "c = tf.Variable(2.2194, name=\"c\", trainable=True, dtype=tf.float32)\n",
    "\n",
    "splitr = 0.8\n",
    "\n",
    "\n",
    "def loss_fn(y_true, y_pred):\n",
    "    squared_difference = tf.square(y_true[:, 0] - y_pred[:, 0])\n",
    "    #squared_difference2 = tf.square(y_true[:, 2]-y_pred[:, 2])\n",
    "    #squared_difference1 = tf.square(y_true[:, 1]-y_pred[:, 1])\n",
    "    epsilon = 1\n",
    "    squared_difference3 = tf.square(\n",
    "        y_pred[:, 1] - (\n",
    "            y_pred[:, 0] * (\n",
    "                K0 - K1 * (\n",
    "                    9 * a * tf.math.log((y_pred[:, 0] + epsilon) / C0) / (K0 - K1 * c)**2 +\n",
    "                    4 * b * tf.math.log((y_pred[:, 0] + epsilon) / C0) / (K0 - K1 * c) + c\n",
    "                )\n",
    "            )\n",
    "        )\n",
    "    )\n",
    "    return tf.reduce_mean(squared_difference, axis=-1) + 0.2*tf.reduce_mean(squared_difference3, axis=-1)\n",
    "model = Sequential()\n",
    "model.add(LSTM(100, input_shape=(trainX.shape[1], trainX.shape[2])))\n",
    "model.add(Dense(60))\n",
    "model.compile(loss=loss_fn, optimizer='adam')\n",
    "history = model.fit(trainX[:int(splitr*trainX.shape[0])], trainy[:int(splitr*trainX.shape[0])], epochs=500, batch_size=64, validation_data=(trainX[int(splitr*trainX.shape[0]):trainX.shape[0]], trainy[int(splitr*trainX.shape[0]):trainX.shape[0]]), shuffle=False)"
   ]
  },
  {
   "cell_type": "code",
   "execution_count": 19,
   "metadata": {
    "colab": {
     "base_uri": "https://localhost:8080/"
    },
    "id": "yJL101rPyuoT",
    "outputId": "239ff2b1-c186-423a-d316-939dfdd7c793"
   },
   "outputs": [
    {
     "name": "stdout",
     "output_type": "stream",
     "text": [
      "1/1 [==============================] - 0s 365ms/step\n"
     ]
    }
   ],
   "source": [
    "forecast_without_mc = forecastX\n",
    "yhat_without_mc = model.predict(forecast_without_mc) # Step Ahead Prediction\n",
    "forecast_without_mc = forecast_without_mc.reshape((forecast_without_mc.shape[0], forecast_without_mc.shape[2])) # Historical Input"
   ]
  },
  {
   "cell_type": "code",
   "execution_count": 20,
   "metadata": {
    "colab": {
     "base_uri": "https://localhost:8080/"
    },
    "id": "g9dQELcJ8wbp",
    "outputId": "4dc7671b-b1a8-48d5-8744-a86f98446109"
   },
   "outputs": [
    {
     "data": {
      "text/plain": [
       "(1, 1, 251)"
      ]
     },
     "execution_count": 20,
     "metadata": {},
     "output_type": "execute_result"
    }
   ],
   "source": [
    "forecastX.shape"
   ]
  },
  {
   "cell_type": "code",
   "execution_count": 21,
   "metadata": {
    "colab": {
     "base_uri": "https://localhost:8080/"
    },
    "id": "IS2kyIKG1Kbr",
    "outputId": "f31b3485-8e26-452f-9298-ea8bf7e80ad1"
   },
   "outputs": [
    {
     "data": {
      "text/plain": [
       "(1, 251)"
      ]
     },
     "execution_count": 21,
     "metadata": {},
     "output_type": "execute_result"
    }
   ],
   "source": [
    "forecast_without_mc.shape"
   ]
  },
  {
   "cell_type": "code",
   "execution_count": 22,
   "metadata": {
    "id": "0u6VIzaDyuoT"
   },
   "outputs": [],
   "source": [
    "inv_yhat_without_mc = np.concatenate((forecast_without_mc, yhat_without_mc), axis=1) # Concatenation of predicted values with Historical Data\n",
    "#inv_yhat_without_mc = scaler.inverse_transform(inv_yhat_without_mc) # Transform labels back to original encoding"
   ]
  },
  {
   "cell_type": "code",
   "execution_count": 23,
   "metadata": {
    "colab": {
     "base_uri": "https://localhost:8080/"
    },
    "id": "EUEcw0LX07oU",
    "outputId": "cfc32397-9c37-4b43-d087-584bb31c3dcc"
   },
   "outputs": [
    {
     "data": {
      "text/plain": [
       "(1, 311)"
      ]
     },
     "execution_count": 23,
     "metadata": {},
     "output_type": "execute_result"
    }
   ],
   "source": [
    "inv_yhat_without_mc.shape"
   ]
  },
  {
   "cell_type": "code",
   "execution_count": 24,
   "metadata": {
    "id": "31OWVbSh_305"
   },
   "outputs": [],
   "source": [
    "fforecast = inv_yhat_without_mc[:,-300:]"
   ]
  },
  {
   "cell_type": "code",
   "execution_count": 25,
   "metadata": {},
   "outputs": [
    {
     "data": {
      "text/plain": [
       "(1, 300)"
      ]
     },
     "execution_count": 25,
     "metadata": {},
     "output_type": "execute_result"
    }
   ],
   "source": [
    "fforecast.shape"
   ]
  },
  {
   "cell_type": "code",
   "execution_count": 26,
   "metadata": {
    "id": "BlpGH2FOAiRF"
   },
   "outputs": [],
   "source": [
    "final_forecast = fforecast[:,0:300:3]"
   ]
  },
  {
   "cell_type": "code",
   "execution_count": 27,
   "metadata": {},
   "outputs": [
    {
     "data": {
      "text/plain": [
       "(1, 300)"
      ]
     },
     "execution_count": 27,
     "metadata": {},
     "output_type": "execute_result"
    }
   ],
   "source": [
    "fforecast.shape"
   ]
  },
  {
   "cell_type": "code",
   "execution_count": 28,
   "metadata": {
    "id": "CXkgkj_LBk_t"
   },
   "outputs": [],
   "source": [
    "# code to replace all negative value with 0\n",
    "final_forecast[final_forecast<0] = 0"
   ]
  },
  {
   "cell_type": "code",
   "execution_count": 29,
   "metadata": {},
   "outputs": [
    {
     "data": {
      "text/plain": [
       "array([[7.17211695e+01, 7.66408964e+01, 7.57333333e+01, 7.40972456e+01,\n",
       "        7.35769043e+01, 9.62374210e-01, 7.65121341e-01, 8.44314990e-02,\n",
       "        0.00000000e+00, 2.25800082e-01, 0.00000000e+00, 0.00000000e+00,\n",
       "        0.00000000e+00, 7.18996008e+01, 7.18012815e+01, 7.17029622e+01,\n",
       "        0.00000000e+00, 0.00000000e+00, 7.25564262e+01, 7.21757540e+01,\n",
       "        7.19396569e+01, 7.18413375e+01, 7.17430182e+01, 7.68425770e+01,\n",
       "        7.59350140e+01, 7.44669935e+01, 0.00000000e+00, 6.01749420e-01,\n",
       "        0.00000000e+00, 7.17830742e+01, 7.70821895e+01, 7.63047619e+01,\n",
       "        7.51448646e+01, 0.00000000e+00, 7.58229692e+01, 7.42615780e+01,\n",
       "        7.28807026e+01, 3.66189450e-01, 5.09858130e-01, 0.00000000e+00,\n",
       "        0.00000000e+00, 6.83598578e-01, 4.31544363e-01, 0.00000000e+00,\n",
       "        5.85887060e-02, 0.00000000e+00, 0.00000000e+00, 7.48367414e+01,\n",
       "        3.89988650e-02, 0.00000000e+00, 3.91098469e-01, 7.18049230e+01,\n",
       "        7.17066036e+01, 7.65064426e+01, 7.55146125e+01, 7.38507470e+01,\n",
       "        7.60246499e+01, 7.46313259e+01, 7.31344841e+01, 0.00000000e+00,\n",
       "        0.00000000e+00, 0.00000000e+00, 7.18158473e+01, 7.17175280e+01,\n",
       "        7.66072829e+01, 7.56994865e+01, 7.40356209e+01, 7.61254902e+01,\n",
       "        7.48161998e+01, 7.32613749e+01, 9.90242900e-01, 0.00000000e+00,\n",
       "        0.00000000e+00, 6.45871735e+01, 0.00000000e+00, 2.21085653e-01,\n",
       "        0.00000000e+00, 0.00000000e+00, 0.00000000e+00, 0.00000000e+00,\n",
       "        6.34683342e+01, 2.66466707e-01, 9.13187861e-04, 2.69750655e-01,\n",
       "        8.54923189e-01, 9.21438217e-01, 9.99061525e-01, 0.00000000e+00,\n",
       "        4.45903242e-01, 3.76942009e-03, 0.00000000e+00, 0.00000000e+00,\n",
       "        0.00000000e+00, 1.98305234e-01, 0.00000000e+00, 0.00000000e+00,\n",
       "        2.34135985e-03, 5.67138970e-01, 3.30811739e-02, 1.57532588e-01]])"
      ]
     },
     "execution_count": 29,
     "metadata": {},
     "output_type": "execute_result"
    }
   ],
   "source": [
    "final_forecast"
   ]
  },
  {
   "cell_type": "code",
   "execution_count": 30,
   "metadata": {},
   "outputs": [
    {
     "data": {
      "text/plain": [
       "(1, 100)"
      ]
     },
     "execution_count": 30,
     "metadata": {},
     "output_type": "execute_result"
    }
   ],
   "source": [
    "final_forecast.shape"
   ]
  },
  {
   "cell_type": "code",
   "execution_count": 31,
   "metadata": {},
   "outputs": [
    {
     "data": {
      "text/plain": [
       "(100,)"
      ]
     },
     "execution_count": 31,
     "metadata": {},
     "output_type": "execute_result"
    }
   ],
   "source": [
    "test.shape"
   ]
  },
  {
   "cell_type": "code",
   "execution_count": 32,
   "metadata": {},
   "outputs": [],
   "source": [
    "training_set = np.array(training_set)\n",
    "test = np.array(test)\n",
    "final_forecast = np.array(final_forecast.squeeze(0))"
   ]
  },
  {
   "cell_type": "code",
   "execution_count": 33,
   "metadata": {},
   "outputs": [
    {
     "data": {
      "text/plain": [
       "array([63.54012434, 63.5324725 , 63.52482066, 63.51716882, 63.50951698,\n",
       "       63.50186514, 63.4942133 , 63.48656145, 63.47890961, 63.47125777,\n",
       "       63.46360593, 63.45595409, 63.44830225, 63.44065041, 63.43299857,\n",
       "       63.42534672, 63.41769488, 63.41004304, 63.4023912 , 63.39473936,\n",
       "       63.38708752, 63.37943568, 63.37178384, 63.36413199, 63.35648015,\n",
       "       63.34882831, 63.34117647, 63.33352463, 63.32587279, 63.31822095,\n",
       "       63.31056911, 63.30291726, 63.29526542, 63.28761358, 63.27996174,\n",
       "       63.2723099 , 63.26465806, 63.25700622, 63.24935438, 63.24170253,\n",
       "       63.23405069, 63.22639885, 63.21874701, 63.21109517, 63.20344333,\n",
       "       63.19579149, 63.18813965, 63.1804878 , 63.17283596, 63.16518412,\n",
       "       63.15753228, 63.14988044, 63.1422286 , 63.13457676, 63.12692492,\n",
       "       63.11927308, 63.11162123, 63.10396939, 63.09631755, 63.08866571,\n",
       "       63.08101387, 63.07336203, 63.06571019, 63.05805835, 63.0504065 ,\n",
       "       63.04275466, 63.03510282, 63.02745098, 63.01979914, 63.0121473 ,\n",
       "       63.00449546, 62.99684362, 62.98919177, 62.98153993, 62.97388809,\n",
       "       62.96623625, 62.95858441, 62.95093257, 62.94328073, 62.93562889,\n",
       "       62.92797704, 62.9203252 , 62.91267336, 62.90502152, 62.89736968,\n",
       "       62.88971784, 62.882066  , 62.87441416, 62.86676231, 62.85911047,\n",
       "       62.85145863, 62.84380679, 62.83615495, 62.82850311, 62.82085127,\n",
       "       62.81319943, 62.80554758, 62.79789574, 62.7902439 , 62.78259206])"
      ]
     },
     "execution_count": 33,
     "metadata": {},
     "output_type": "execute_result"
    }
   ],
   "source": [
    "test"
   ]
  },
  {
   "cell_type": "code",
   "execution_count": 34,
   "metadata": {},
   "outputs": [
    {
     "data": {
      "text/plain": [
       "(100,)"
      ]
     },
     "execution_count": 34,
     "metadata": {},
     "output_type": "execute_result"
    }
   ],
   "source": [
    "test.shape"
   ]
  },
  {
   "cell_type": "code",
   "execution_count": 35,
   "metadata": {},
   "outputs": [
    {
     "data": {
      "text/plain": [
       "(100,)"
      ]
     },
     "execution_count": 35,
     "metadata": {},
     "output_type": "execute_result"
    }
   ],
   "source": [
    "final_forecast.shape"
   ]
  },
  {
   "cell_type": "code",
   "execution_count": 36,
   "metadata": {},
   "outputs": [
    {
     "data": {
      "text/plain": [
       "(100,)"
      ]
     },
     "execution_count": 36,
     "metadata": {},
     "output_type": "execute_result"
    }
   ],
   "source": [
    "test.shape"
   ]
  },
  {
   "cell_type": "code",
   "execution_count": 37,
   "metadata": {},
   "outputs": [
    {
     "name": "stdout",
     "output_type": "stream",
     "text": [
      "48.40508372336258\n",
      "40.804674798044\n"
     ]
    }
   ],
   "source": [
    "import math\n",
    "MSE = np.square(np.subtract(np.array(test),np.array(final_forecast))).mean()   \n",
    "rsme = math.sqrt(MSE)\n",
    "print(rsme)  \n",
    "MAE = np.abs(np.subtract(np.array(test),np.array(final_forecast))).mean()   \n",
    "mae = MAE\n",
    "print(mae)"
   ]
  }
 ],
 "metadata": {
  "colab": {
   "provenance": []
  },
  "kernelspec": {
   "display_name": "Python 3",
   "language": "python",
   "name": "python3"
  },
  "language_info": {
   "codemirror_mode": {
    "name": "ipython",
    "version": 3
   },
   "file_extension": ".py",
   "mimetype": "text/x-python",
   "name": "python",
   "nbconvert_exporter": "python",
   "pygments_lexer": "ipython3",
   "version": "3.9.13"
  }
 },
 "nbformat": 4,
 "nbformat_minor": 0
}
