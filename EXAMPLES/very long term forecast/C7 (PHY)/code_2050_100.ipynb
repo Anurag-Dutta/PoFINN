{
 "cells": [
  {
   "cell_type": "markdown",
   "metadata": {
    "id": "pCGKeZ2gyuoQ"
   },
   "source": [
    "_Importing Required Libraries_"
   ]
  },
  {
   "cell_type": "code",
   "execution_count": 1,
   "metadata": {
    "colab": {
     "base_uri": "https://localhost:8080/"
    },
    "id": "A-6LN-zXiLcM",
    "outputId": "4de610a4-f8b8-4f49-c6c0-89de299ccedc"
   },
   "outputs": [
    {
     "name": "stdout",
     "output_type": "stream",
     "text": [
      "Requirement already satisfied: hampel in c:\\users\\anurag dutta\\appdata\\local\\packages\\pythonsoftwarefoundation.python.3.9_qbz5n2kfra8p0\\localcache\\local-packages\\python39\\site-packages (0.0.5)\n",
      "Requirement already satisfied: numpy in c:\\users\\anurag dutta\\appdata\\local\\packages\\pythonsoftwarefoundation.python.3.9_qbz5n2kfra8p0\\localcache\\local-packages\\python39\\site-packages (from hampel) (1.26.4)\n",
      "Requirement already satisfied: pandas in c:\\users\\anurag dutta\\appdata\\local\\packages\\pythonsoftwarefoundation.python.3.9_qbz5n2kfra8p0\\localcache\\local-packages\\python39\\site-packages (from hampel) (1.5.2)\n",
      "Requirement already satisfied: python-dateutil>=2.8.1 in c:\\users\\anurag dutta\\appdata\\local\\packages\\pythonsoftwarefoundation.python.3.9_qbz5n2kfra8p0\\localcache\\local-packages\\python39\\site-packages (from pandas->hampel) (2.8.2)\n",
      "Requirement already satisfied: pytz>=2020.1 in c:\\users\\anurag dutta\\appdata\\local\\packages\\pythonsoftwarefoundation.python.3.9_qbz5n2kfra8p0\\localcache\\local-packages\\python39\\site-packages (from pandas->hampel) (2023.3.post1)\n",
      "Requirement already satisfied: six>=1.5 in c:\\users\\anurag dutta\\appdata\\local\\packages\\pythonsoftwarefoundation.python.3.9_qbz5n2kfra8p0\\localcache\\local-packages\\python39\\site-packages (from python-dateutil>=2.8.1->pandas->hampel) (1.16.0)\n",
      "Note: you may need to restart the kernel to use updated packages.\n"
     ]
    },
    {
     "name": "stderr",
     "output_type": "stream",
     "text": [
      "\n",
      "[notice] A new release of pip is available: 24.2 -> 24.3.1\n",
      "[notice] To update, run: C:\\Users\\Anurag Dutta\\AppData\\Local\\Microsoft\\WindowsApps\\PythonSoftwareFoundation.Python.3.9_qbz5n2kfra8p0\\python.exe -m pip install --upgrade pip\n"
     ]
    }
   ],
   "source": [
    "pip install hampel"
   ]
  },
  {
   "cell_type": "code",
   "execution_count": 2,
   "metadata": {
    "id": "By_d9uXpaFvZ"
   },
   "outputs": [],
   "source": [
    "from keras.models import Sequential\n",
    "from keras.layers import Dense\n",
    "from keras.layers import LSTM\n",
    "from keras.layers import Dropout\n",
    "import keras\n",
    "import tensorflow as tf\n",
    "from hampel import hampel\n",
    "import numpy as np\n",
    "import matplotlib.pyplot as plt\n",
    "import pandas as pd\n",
    "from sklearn.preprocessing import MinMaxScaler\n",
    "from sklearn.metrics import mean_squared_error, mean_absolute_error\n",
    "from math import sqrt\n",
    "from matplotlib import pyplot\n",
    "from numpy import array"
   ]
  },
  {
   "cell_type": "markdown",
   "metadata": {
    "id": "JyOjBMFayuoR"
   },
   "source": [
    "## Pretraining"
   ]
  },
  {
   "cell_type": "markdown",
   "metadata": {
    "id": "-5QqIY_GyuoR"
   },
   "source": [
    "The `capa_intermittency.dat` feeds the model with the dynamics of the Capacitor"
   ]
  },
  {
   "cell_type": "code",
   "execution_count": 3,
   "metadata": {
    "id": "9dV4a8yfyuoR"
   },
   "outputs": [],
   "source": [
    "data = np.genfromtxt('capa_intermittency.dat')\n",
    "training_set = pd.DataFrame(data).reset_index(drop=True)\n",
    "training_set = training_set.iloc[:,0]"
   ]
  },
  {
   "cell_type": "markdown",
   "metadata": {
    "id": "i7easoxByuoR"
   },
   "source": [
    "## Computing the Gradient"
   ]
  },
  {
   "cell_type": "markdown",
   "metadata": {
    "id": "5SnyolJTyuoR"
   },
   "source": [
    "_Calculating the value of_ $\\frac{dx}{dt}$"
   ]
  },
  {
   "cell_type": "code",
   "execution_count": 4,
   "metadata": {
    "colab": {
     "base_uri": "https://localhost:8080/"
    },
    "id": "wmIbVfIvyuoR",
    "outputId": "aa4e3136-c854-465d-d2e9-81cfd546e440"
   },
   "outputs": [
    {
     "name": "stdout",
     "output_type": "stream",
     "text": [
      "1.0\n",
      "1        0.000298\n",
      "2        0.000298\n",
      "3        0.000297\n",
      "4        0.000297\n",
      "5        0.000297\n",
      "           ...   \n",
      "9996     0.000018\n",
      "9997     0.000018\n",
      "9998     0.000018\n",
      "9999     0.000018\n",
      "10000    0.000018\n",
      "Name: 0, Length: 10000, dtype: float64\n"
     ]
    }
   ],
   "source": [
    "t_diff = 1\n",
    "print(training_set.max())\n",
    "gradient_t = (training_set.diff()/t_diff).iloc[1:] # dx/dt\n",
    "print(gradient_t)"
   ]
  },
  {
   "cell_type": "markdown",
   "metadata": {
    "id": "_2eVeeoxyuoS"
   },
   "source": [
    "## Loading Datasets"
   ]
  },
  {
   "cell_type": "code",
   "execution_count": 5,
   "metadata": {
    "id": "0J-NKyIEyuoS"
   },
   "outputs": [
    {
     "data": {
      "text/plain": [
       "0       92.600000\n",
       "1       92.387115\n",
       "2       92.174230\n",
       "3       91.961345\n",
       "4       91.748459\n",
       "          ...    \n",
       "2145    65.108752\n",
       "2146    65.101100\n",
       "2147    65.093448\n",
       "2148    65.085796\n",
       "2149    65.078144\n",
       "Name: C7, Length: 2150, dtype: float64"
      ]
     },
     "execution_count": 5,
     "metadata": {},
     "output_type": "execute_result"
    }
   ],
   "source": [
    "data = pd.read_csv(\"c7_interpolated_2050_100.csv\")\n",
    "training_set = data.iloc[:, 1]\n",
    "training_set"
   ]
  },
  {
   "cell_type": "code",
   "execution_count": 6,
   "metadata": {
    "colab": {
     "base_uri": "https://localhost:8080/"
    },
    "id": "-CbNUhJ74UqF",
    "outputId": "20f562d8-8247-49cc-b9c3-00eca5e13e2d"
   },
   "outputs": [
    {
     "data": {
      "text/plain": [
       "0       92.600000\n",
       "1       92.387115\n",
       "2       92.174230\n",
       "3       91.961345\n",
       "4       91.748459\n",
       "          ...    \n",
       "2045     0.000000\n",
       "2046     0.000000\n",
       "2047     0.000000\n",
       "2048     0.000000\n",
       "2049     0.000000\n",
       "Name: C7, Length: 2050, dtype: float64"
      ]
     },
     "execution_count": 6,
     "metadata": {},
     "output_type": "execute_result"
    }
   ],
   "source": [
    "test = training_set.tail(100)\n",
    "test\n",
    "training_set = training_set.head(2050)\n",
    "training_set"
   ]
  },
  {
   "cell_type": "code",
   "execution_count": 7,
   "metadata": {
    "colab": {
     "base_uri": "https://localhost:8080/"
    },
    "id": "X0TwTcq0yuoS",
    "outputId": "37252ed8-d88e-4044-fa7a-922411990b5b"
   },
   "outputs": [
    {
     "name": "stdout",
     "output_type": "stream",
     "text": [
      "0       0.000298\n",
      "1       0.000298\n",
      "2       0.000297\n",
      "3       0.000297\n",
      "4       0.000297\n",
      "          ...   \n",
      "9995    0.000018\n",
      "9996    0.000018\n",
      "9997    0.000018\n",
      "9998    0.000018\n",
      "9999    0.000018\n",
      "Name: 0, Length: 10000, dtype: float64\n"
     ]
    }
   ],
   "source": [
    "training_set = training_set.reset_index(drop=True)\n",
    "gradient_t = gradient_t.reset_index(drop=True)\n",
    "print(gradient_t)"
   ]
  },
  {
   "cell_type": "code",
   "execution_count": 8,
   "metadata": {
    "id": "O2biznZQyuoS"
   },
   "outputs": [],
   "source": [
    "df = pd.concat((training_set, gradient_t), axis=1)\n",
    "df.columns = ['y_t', 'grad_t']"
   ]
  },
  {
   "cell_type": "code",
   "execution_count": 9,
   "metadata": {
    "colab": {
     "base_uri": "https://localhost:8080/",
     "height": 423
    },
    "id": "sk_a5v3tyuoS",
    "outputId": "17563625-e550-45ae-faab-fafa353e44da"
   },
   "outputs": [
    {
     "data": {
      "text/html": [
       "<div>\n",
       "<style scoped>\n",
       "    .dataframe tbody tr th:only-of-type {\n",
       "        vertical-align: middle;\n",
       "    }\n",
       "\n",
       "    .dataframe tbody tr th {\n",
       "        vertical-align: top;\n",
       "    }\n",
       "\n",
       "    .dataframe thead th {\n",
       "        text-align: right;\n",
       "    }\n",
       "</style>\n",
       "<table border=\"1\" class=\"dataframe\">\n",
       "  <thead>\n",
       "    <tr style=\"text-align: right;\">\n",
       "      <th></th>\n",
       "      <th>y_t</th>\n",
       "      <th>grad_t</th>\n",
       "    </tr>\n",
       "  </thead>\n",
       "  <tbody>\n",
       "    <tr>\n",
       "      <th>0</th>\n",
       "      <td>92.600000</td>\n",
       "      <td>0.000298</td>\n",
       "    </tr>\n",
       "    <tr>\n",
       "      <th>1</th>\n",
       "      <td>92.387115</td>\n",
       "      <td>0.000298</td>\n",
       "    </tr>\n",
       "    <tr>\n",
       "      <th>2</th>\n",
       "      <td>92.174230</td>\n",
       "      <td>0.000297</td>\n",
       "    </tr>\n",
       "    <tr>\n",
       "      <th>3</th>\n",
       "      <td>91.961345</td>\n",
       "      <td>0.000297</td>\n",
       "    </tr>\n",
       "    <tr>\n",
       "      <th>4</th>\n",
       "      <td>91.748459</td>\n",
       "      <td>0.000297</td>\n",
       "    </tr>\n",
       "    <tr>\n",
       "      <th>...</th>\n",
       "      <td>...</td>\n",
       "      <td>...</td>\n",
       "    </tr>\n",
       "    <tr>\n",
       "      <th>9995</th>\n",
       "      <td>NaN</td>\n",
       "      <td>0.000018</td>\n",
       "    </tr>\n",
       "    <tr>\n",
       "      <th>9996</th>\n",
       "      <td>NaN</td>\n",
       "      <td>0.000018</td>\n",
       "    </tr>\n",
       "    <tr>\n",
       "      <th>9997</th>\n",
       "      <td>NaN</td>\n",
       "      <td>0.000018</td>\n",
       "    </tr>\n",
       "    <tr>\n",
       "      <th>9998</th>\n",
       "      <td>NaN</td>\n",
       "      <td>0.000018</td>\n",
       "    </tr>\n",
       "    <tr>\n",
       "      <th>9999</th>\n",
       "      <td>NaN</td>\n",
       "      <td>0.000018</td>\n",
       "    </tr>\n",
       "  </tbody>\n",
       "</table>\n",
       "<p>10000 rows × 2 columns</p>\n",
       "</div>"
      ],
      "text/plain": [
       "            y_t    grad_t\n",
       "0     92.600000  0.000298\n",
       "1     92.387115  0.000298\n",
       "2     92.174230  0.000297\n",
       "3     91.961345  0.000297\n",
       "4     91.748459  0.000297\n",
       "...         ...       ...\n",
       "9995        NaN  0.000018\n",
       "9996        NaN  0.000018\n",
       "9997        NaN  0.000018\n",
       "9998        NaN  0.000018\n",
       "9999        NaN  0.000018\n",
       "\n",
       "[10000 rows x 2 columns]"
      ]
     },
     "execution_count": 9,
     "metadata": {},
     "output_type": "execute_result"
    }
   ],
   "source": [
    "df"
   ]
  },
  {
   "cell_type": "markdown",
   "metadata": {
    "id": "-5esyHu5aFvg"
   },
   "source": [
    "## Plot of the External Forcing from Chaotic Differential Equation"
   ]
  },
  {
   "cell_type": "code",
   "execution_count": 10,
   "metadata": {
    "colab": {
     "base_uri": "https://localhost:8080/",
     "height": 447
    },
    "id": "hGnE43tOh-4p",
    "outputId": "fc396503-b624-4fa5-dfbe-f460207405c6"
   },
   "outputs": [
    {
     "data": {
      "text/plain": [
       "<Axes: >"
      ]
     },
     "execution_count": 10,
     "metadata": {},
     "output_type": "execute_result"
    },
    {
     "data": {
      "image/png": "[encoded data removed]",
      "text/plain": [
       "<Figure size 432x288 with 1 Axes>"
      ]
     },
     "metadata": {
      "needs_background": "light"
     },
     "output_type": "display_data"
    }
   ],
   "source": [
    "df.iloc[:, 0].plot()"
   ]
  },
  {
   "cell_type": "code",
   "execution_count": 11,
   "metadata": {
    "colab": {
     "base_uri": "https://localhost:8080/",
     "height": 447
    },
    "id": "ym4xWUUxaFvg",
    "outputId": "ae6a3495-8ce9-437e-ba81-3ed31deedeae"
   },
   "outputs": [
    {
     "name": "stderr",
     "output_type": "stream",
     "text": [
      "C:\\Users\\Anurag Dutta\\AppData\\Local\\Packages\\PythonSoftwareFoundation.Python.3.9_qbz5n2kfra8p0\\LocalCache\\local-packages\\Python39\\site-packages\\pandas\\core\\arraylike.py:402: RuntimeWarning: divide by zero encountered in log\n",
      "  result = getattr(ufunc, method)(*inputs, **kwargs)\n"
     ]
    },
    {
     "data": {
      "text/plain": [
       "<Axes: >"
      ]
     },
     "execution_count": 11,
     "metadata": {},
     "output_type": "execute_result"
    },
    {
     "data": {
      "image/png": "[encoded data removed]",
      "text/plain": [
       "<Figure size 432x288 with 1 Axes>"
      ]
     },
     "metadata": {
      "needs_background": "light"
     },
     "output_type": "display_data"
    }
   ],
   "source": [
    "import numpy as np\n",
    "c0 = 89.3180  # Value for C0\n",
    "K0 = -0.0010  # Value for K0\n",
    "K1 = 0.0001  # Value for K1\n",
    "a = 0.0000    # Value for a\n",
    "b = -0.0204    # Value for b\n",
    "c = 2.2194    # Value for c\n",
    "\n",
    "L = np.minimum(c0, (df.iloc[:, 1] - (df.iloc[:, 0] * (K0 - K1 * (9 * a * np.log(df.iloc[:, 0] / c0) / (K0 - K1 * c)**2 + 4 * b * np.log(df.iloc[:, 0] / c0) / (K0 - K1 * c) + c)))))\n",
    "L.plot()"
   ]
  },
  {
   "cell_type": "markdown",
   "metadata": {
    "id": "9VyEywnwaFvh"
   },
   "source": [
    "## Preprocessing the data into supervised learning"
   ]
  },
  {
   "cell_type": "code",
   "execution_count": 12,
   "metadata": {
    "id": "6V9dXqzdaFvh"
   },
   "outputs": [],
   "source": [
    "# split a sequence into samples\n",
    "def Supervised(data, n_in=1, n_out=1, dropnan=True):\n",
    "    n_vars = 1 if type(data) is list else data.shape[1]\n",
    "    df = pd.DataFrame(data)\n",
    "    cols, names = list(), list()\n",
    "    # input sequence (t-n_in, ... t-1)\n",
    "    for i in range(n_in, 0, -1):\n",
    "        cols.append(df.shift(i))\n",
    "        names += [('var%d(t-%d)' % (j+1, i)) for j in range(n_vars)]\n",
    "    # forecast sequence (t, t+1, ... t+n_out)\n",
    "    for i in range(0, n_out):\n",
    "      cols.append(df.shift(-i))\n",
    "      if i == 0:\n",
    "        names += [('var%d(t)' % (j+1)) for j in range(n_vars)]\n",
    "      else:\n",
    "        names += [('var%d(t+%d)' % (j+1, i)) for j in range(n_vars)]\n",
    "    # put it all together\n",
    "    agg = pd.concat(cols, axis=1)\n",
    "    agg.columns = names\n",
    "    # drop rows with NaN values\n",
    "    if dropnan:\n",
    "       agg.dropna(inplace=True)\n",
    "    return agg"
   ]
  },
  {
   "cell_type": "code",
   "execution_count": 13,
   "metadata": {
    "colab": {
     "base_uri": "https://localhost:8080/"
    },
    "id": "CrzSrT1HnyfH",
    "outputId": "7e75f928-3e47-499d-eac1-51908015ef78"
   },
   "outputs": [
    {
     "name": "stdout",
     "output_type": "stream",
     "text": [
      "     var1(t-350)  var1(t-349)  var1(t-348)  var1(t-347)  var1(t-346)  \\\n",
      "350    92.600000    92.387115    92.174230    91.961345    91.748459   \n",
      "351    92.387115    92.174230    91.961345    91.748459    91.535574   \n",
      "352    92.174230    91.961345    91.748459    91.535574    91.322689   \n",
      "353    91.961345    91.748459    91.535574    91.322689    91.109804   \n",
      "354    91.748459    91.535574    91.322689    91.109804    90.896919   \n",
      "\n",
      "     var1(t-345)  var1(t-344)  var1(t-343)  var1(t-342)  var1(t-341)  ...  \\\n",
      "350    91.535574    91.322689    91.109804    90.896919    90.691597  ...   \n",
      "351    91.322689    91.109804    90.896919    90.691597    90.579552  ...   \n",
      "352    91.109804    90.896919    90.691597    90.579552    90.467507  ...   \n",
      "353    90.896919    90.691597    90.579552    90.467507    90.355462  ...   \n",
      "354    90.691597    90.579552    90.467507    90.355462    90.243417  ...   \n",
      "\n",
      "     var1(t+95)  var2(t+95)  var1(t+96)  var2(t+96)  var1(t+97)  var2(t+97)  \\\n",
      "350   80.261671    0.000263   80.252334    0.000263   80.242997    0.000263   \n",
      "351   80.252334    0.000263   80.242997    0.000263   80.233660    0.000262   \n",
      "352   80.242997    0.000263   80.233660    0.000262   80.224323    0.000262   \n",
      "353   80.233660    0.000262   80.224323    0.000262   80.214986    0.000262   \n",
      "354   80.224323    0.000262   80.214986    0.000262   80.205649    0.000262   \n",
      "\n",
      "     var1(t+98)  var2(t+98)  var1(t+99)  var2(t+99)  \n",
      "350   80.233660    0.000262   80.224323    0.000262  \n",
      "351   80.224323    0.000262   80.214986    0.000262  \n",
      "352   80.214986    0.000262   80.205649    0.000262  \n",
      "353   80.205649    0.000262   80.196312    0.000262  \n",
      "354   80.196312    0.000262   80.186975    0.000262  \n",
      "\n",
      "[5 rows x 551 columns]\n",
      "Index(['var1(t-350)', 'var1(t-349)', 'var1(t-348)', 'var1(t-347)',\n",
      "       'var1(t-346)', 'var1(t-345)', 'var1(t-344)', 'var1(t-343)',\n",
      "       'var1(t-342)', 'var1(t-341)',\n",
      "       ...\n",
      "       'var1(t+95)', 'var2(t+95)', 'var1(t+96)', 'var2(t+96)', 'var1(t+97)',\n",
      "       'var2(t+97)', 'var1(t+98)', 'var2(t+98)', 'var1(t+99)', 'var2(t+99)'],\n",
      "      dtype='object', length=551)\n"
     ]
    }
   ],
   "source": [
    "data = Supervised(df.values, n_in = 350, n_out = 100)\n",
    "\n",
    "\n",
    "cols_to_drop = []\n",
    "for i in range(2, 351):\n",
    "    cols_to_drop.extend([f'var2(t-{i})'])\n",
    "\n",
    "data.drop(cols_to_drop, axis=1, inplace=True)\n",
    "\n",
    "print(data.head())\n",
    "print(data.columns)"
   ]
  },
  {
   "cell_type": "code",
   "execution_count": 14,
   "metadata": {
    "id": "AfPf60oy6Pe4"
   },
   "outputs": [],
   "source": [
    "train = np.array(data[0:len(data)-1])\n",
    "forecast = np.array(data.tail(1))"
   ]
  },
  {
   "cell_type": "code",
   "execution_count": 15,
   "metadata": {
    "id": "WSAafzI37KiT"
   },
   "outputs": [],
   "source": [
    "trainy = train[:,-300:]\n",
    "trainX = train[:,:-300]"
   ]
  },
  {
   "cell_type": "code",
   "execution_count": 16,
   "metadata": {
    "id": "2SrOqVJA7f50"
   },
   "outputs": [],
   "source": [
    "forecasty = forecast[:,-300:]\n",
    "forecastX = forecast[:,:-300]"
   ]
  },
  {
   "cell_type": "code",
   "execution_count": 17,
   "metadata": {
    "colab": {
     "base_uri": "https://localhost:8080/"
    },
    "id": "Qno_k8Nw7saY",
    "outputId": "c4a88db5-d8c6-489f-cdb2-06b24e293cff"
   },
   "outputs": [
    {
     "name": "stdout",
     "output_type": "stream",
     "text": [
      "(1600, 1, 251) (1600, 300) (1, 1, 251)\n"
     ]
    }
   ],
   "source": [
    "trainX = trainX.reshape((trainX.shape[0], 1, trainX.shape[1]))\n",
    "forecastX = forecastX.reshape((forecastX.shape[0], 1, forecastX.shape[1]))\n",
    "print(trainX.shape, trainy.shape, forecastX.shape)"
   ]
  },
  {
   "cell_type": "code",
   "execution_count": 18,
   "metadata": {
    "colab": {
     "base_uri": "https://localhost:8080/"
    },
    "id": "b1Jp2DvNuNFx",
    "outputId": "d0e5b3c4-64f1-438c-eade-8dfeaac8e285"
   },
   "outputs": [
    {
     "name": "stdout",
     "output_type": "stream",
     "text": [
      "Epoch 1/500\n",
      "20/20 [==============================] - 2s 26ms/step - loss: 5662.7837 - val_loss: 3512.1746\n",
      "Epoch 2/500\n",
      "20/20 [==============================] - 0s 5ms/step - loss: 5378.6572 - val_loss: 3355.3977\n",
      "Epoch 3/500\n",
      "20/20 [==============================] - 0s 5ms/step - loss: 5248.0400 - val_loss: 3288.5684\n",
      "Epoch 4/500\n",
      "20/20 [==============================] - 0s 4ms/step - loss: 5156.1338 - val_loss: 3229.7690\n",
      "Epoch 5/500\n",
      "20/20 [==============================] - 0s 4ms/step - loss: 5070.6177 - val_loss: 3177.0596\n",
      "Epoch 6/500\n",
      "20/20 [==============================] - 0s 5ms/step - loss: 4987.8579 - val_loss: 3126.4260\n",
      "Epoch 7/500\n",
      "20/20 [==============================] - 0s 7ms/step - loss: 4907.2393 - val_loss: 3077.2393\n",
      "Epoch 8/500\n",
      "20/20 [==============================] - 0s 4ms/step - loss: 4828.3481 - val_loss: 3029.2585\n",
      "Epoch 9/500\n",
      "20/20 [==============================] - 0s 4ms/step - loss: 4750.9385 - val_loss: 2982.3555\n",
      "Epoch 10/500\n",
      "20/20 [==============================] - 0s 3ms/step - loss: 4674.8564 - val_loss: 2936.4473\n",
      "Epoch 11/500\n",
      "20/20 [==============================] - 0s 3ms/step - loss: 4599.9956 - val_loss: 2891.4758\n",
      "Epoch 12/500\n",
      "20/20 [==============================] - 0s 4ms/step - loss: 4526.2822 - val_loss: 2847.3975\n",
      "Epoch 13/500\n",
      "20/20 [==============================] - 0s 4ms/step - loss: 4453.6587 - val_loss: 2804.1790\n",
      "Epoch 14/500\n",
      "20/20 [==============================] - 0s 5ms/step - loss: 4382.0830 - val_loss: 2761.7917\n",
      "Epoch 15/500\n",
      "20/20 [==============================] - 0s 3ms/step - loss: 4311.5181 - val_loss: 2720.2148\n",
      "Epoch 16/500\n",
      "20/20 [==============================] - 0s 4ms/step - loss: 4241.9360 - val_loss: 2679.4270\n",
      "Epoch 17/500\n",
      "20/20 [==============================] - 0s 5ms/step - loss: 4173.3086 - val_loss: 2639.4121\n",
      "Epoch 18/500\n",
      "20/20 [==============================] - 0s 4ms/step - loss: 4105.6182 - val_loss: 2600.1550\n",
      "Epoch 19/500\n",
      "20/20 [==============================] - 0s 4ms/step - loss: 4038.8438 - val_loss: 2561.6411\n",
      "Epoch 20/500\n",
      "20/20 [==============================] - 0s 10ms/step - loss: 3972.9692 - val_loss: 2523.8586\n",
      "Epoch 21/500\n",
      "20/20 [==============================] - 0s 4ms/step - loss: 3907.9778 - val_loss: 2486.7952\n",
      "Epoch 22/500\n",
      "20/20 [==============================] - 0s 3ms/step - loss: 3843.8562 - val_loss: 2450.4404\n",
      "Epoch 23/500\n",
      "20/20 [==============================] - 0s 4ms/step - loss: 3780.5913 - val_loss: 2414.7839\n",
      "Epoch 24/500\n",
      "20/20 [==============================] - 0s 7ms/step - loss: 3718.1704 - val_loss: 2379.8159\n",
      "Epoch 25/500\n",
      "20/20 [==============================] - 0s 4ms/step - loss: 3656.5833 - val_loss: 2345.5271\n",
      "Epoch 26/500\n",
      "20/20 [==============================] - 0s 5ms/step - loss: 3595.8169 - val_loss: 2311.9087\n",
      "Epoch 27/500\n",
      "20/20 [==============================] - 0s 4ms/step - loss: 3535.8621 - val_loss: 2278.9512\n",
      "Epoch 28/500\n",
      "20/20 [==============================] - 0s 4ms/step - loss: 3476.7097 - val_loss: 2246.6477\n",
      "Epoch 29/500\n",
      "20/20 [==============================] - 0s 4ms/step - loss: 3418.3491 - val_loss: 2214.9893\n",
      "Epoch 30/500\n",
      "20/20 [==============================] - 0s 3ms/step - loss: 3360.7715 - val_loss: 2183.9680\n",
      "Epoch 31/500\n",
      "20/20 [==============================] - 0s 4ms/step - loss: 3303.9675 - val_loss: 2153.5767\n",
      "Epoch 32/500\n",
      "20/20 [==============================] - 0s 4ms/step - loss: 3247.9302 - val_loss: 2123.8071\n",
      "Epoch 33/500\n",
      "20/20 [==============================] - 0s 4ms/step - loss: 3192.6489 - val_loss: 2094.6531\n",
      "Epoch 34/500\n",
      "20/20 [==============================] - 0s 3ms/step - loss: 3138.1165 - val_loss: 2066.1062\n",
      "Epoch 35/500\n",
      "20/20 [==============================] - 0s 4ms/step - loss: 3084.3250 - val_loss: 2038.1605\n",
      "Epoch 36/500\n",
      "20/20 [==============================] - 0s 5ms/step - loss: 3031.2666 - val_loss: 2010.8080\n",
      "Epoch 37/500\n",
      "20/20 [==============================] - 0s 5ms/step - loss: 2978.9341 - val_loss: 1984.0427\n",
      "Epoch 38/500\n",
      "20/20 [==============================] - 0s 4ms/step - loss: 2927.3193 - val_loss: 1957.8574\n",
      "Epoch 39/500\n",
      "20/20 [==============================] - 0s 6ms/step - loss: 2876.4153 - val_loss: 1932.2458\n",
      "Epoch 40/500\n",
      "20/20 [==============================] - 0s 5ms/step - loss: 2826.2148 - val_loss: 1907.2012\n",
      "Epoch 41/500\n",
      "20/20 [==============================] - 0s 4ms/step - loss: 2776.7104 - val_loss: 1882.7175\n",
      "Epoch 42/500\n",
      "20/20 [==============================] - 0s 7ms/step - loss: 2727.8955 - val_loss: 1858.7871\n",
      "Epoch 43/500\n",
      "20/20 [==============================] - 0s 4ms/step - loss: 2679.7632 - val_loss: 1835.4053\n",
      "Epoch 44/500\n",
      "20/20 [==============================] - 0s 4ms/step - loss: 2632.3062 - val_loss: 1812.5647\n",
      "Epoch 45/500\n",
      "20/20 [==============================] - 0s 4ms/step - loss: 2585.5183 - val_loss: 1790.2601\n",
      "Epoch 46/500\n",
      "20/20 [==============================] - 0s 4ms/step - loss: 2539.3931 - val_loss: 1768.4840\n",
      "Epoch 47/500\n",
      "20/20 [==============================] - 0s 4ms/step - loss: 2493.9238 - val_loss: 1747.2317\n",
      "Epoch 48/500\n",
      "20/20 [==============================] - 0s 3ms/step - loss: 2449.1040 - val_loss: 1726.4965\n",
      "Epoch 49/500\n",
      "20/20 [==============================] - 0s 4ms/step - loss: 2404.9270 - val_loss: 1706.2728\n",
      "Epoch 50/500\n",
      "20/20 [==============================] - 0s 4ms/step - loss: 2361.3870 - val_loss: 1686.5544\n",
      "Epoch 51/500\n",
      "20/20 [==============================] - 0s 3ms/step - loss: 2318.4773 - val_loss: 1667.3356\n",
      "Epoch 52/500\n",
      "20/20 [==============================] - 0s 3ms/step - loss: 2276.1919 - val_loss: 1648.6106\n",
      "Epoch 53/500\n",
      "20/20 [==============================] - 0s 4ms/step - loss: 2234.5247 - val_loss: 1630.3738\n",
      "Epoch 54/500\n",
      "20/20 [==============================] - 0s 3ms/step - loss: 2193.4697 - val_loss: 1612.6193\n",
      "Epoch 55/500\n",
      "20/20 [==============================] - 0s 3ms/step - loss: 2153.0210 - val_loss: 1595.3411\n",
      "Epoch 56/500\n",
      "20/20 [==============================] - 0s 4ms/step - loss: 2113.1724 - val_loss: 1578.5341\n",
      "Epoch 57/500\n",
      "20/20 [==============================] - 0s 3ms/step - loss: 2073.9185 - val_loss: 1562.1924\n",
      "Epoch 58/500\n",
      "20/20 [==============================] - 0s 4ms/step - loss: 2035.2520 - val_loss: 1546.3109\n",
      "Epoch 59/500\n",
      "20/20 [==============================] - 0s 3ms/step - loss: 1997.1696 - val_loss: 1530.8835\n",
      "Epoch 60/500\n",
      "20/20 [==============================] - 0s 4ms/step - loss: 1959.6631 - val_loss: 1515.9047\n",
      "Epoch 61/500\n",
      "20/20 [==============================] - 0s 3ms/step - loss: 1922.7283 - val_loss: 1501.3696\n",
      "Epoch 62/500\n",
      "20/20 [==============================] - 0s 3ms/step - loss: 1886.3591 - val_loss: 1487.2723\n",
      "Epoch 63/500\n",
      "20/20 [==============================] - 0s 4ms/step - loss: 1850.5500 - val_loss: 1473.6077\n",
      "Epoch 64/500\n",
      "20/20 [==============================] - 0s 9ms/step - loss: 1815.2952 - val_loss: 1460.3701\n",
      "Epoch 65/500\n",
      "20/20 [==============================] - 0s 3ms/step - loss: 1780.5891 - val_loss: 1447.5544\n",
      "Epoch 66/500\n",
      "20/20 [==============================] - 0s 3ms/step - loss: 1746.4270 - val_loss: 1435.1555\n",
      "Epoch 67/500\n",
      "20/20 [==============================] - 0s 4ms/step - loss: 1712.8021 - val_loss: 1423.1676\n",
      "Epoch 68/500\n",
      "20/20 [==============================] - 0s 4ms/step - loss: 1679.7100 - val_loss: 1411.5857\n",
      "Epoch 69/500\n",
      "20/20 [==============================] - 0s 4ms/step - loss: 1647.1453 - val_loss: 1400.4045\n",
      "Epoch 70/500\n",
      "20/20 [==============================] - 0s 3ms/step - loss: 1615.1022 - val_loss: 1389.6190\n",
      "Epoch 71/500\n",
      "20/20 [==============================] - 0s 4ms/step - loss: 1583.5757 - val_loss: 1379.2240\n",
      "Epoch 72/500\n",
      "20/20 [==============================] - 0s 5ms/step - loss: 1552.5603 - val_loss: 1369.2145\n",
      "Epoch 73/500\n",
      "20/20 [==============================] - 0s 4ms/step - loss: 1522.0508 - val_loss: 1359.5847\n",
      "Epoch 74/500\n",
      "20/20 [==============================] - 0s 5ms/step - loss: 1492.0422 - val_loss: 1350.3302\n",
      "Epoch 75/500\n",
      "20/20 [==============================] - 0s 4ms/step - loss: 1462.5294 - val_loss: 1341.4454\n",
      "Epoch 76/500\n",
      "20/20 [==============================] - 0s 5ms/step - loss: 1433.5068 - val_loss: 1332.9255\n",
      "Epoch 77/500\n",
      "20/20 [==============================] - 0s 5ms/step - loss: 1404.9697 - val_loss: 1324.7656\n",
      "Epoch 78/500\n",
      "20/20 [==============================] - 0s 5ms/step - loss: 1376.9130 - val_loss: 1316.9607\n",
      "Epoch 79/500\n",
      "20/20 [==============================] - 0s 5ms/step - loss: 1349.3315 - val_loss: 1309.5052\n",
      "Epoch 80/500\n",
      "20/20 [==============================] - 0s 5ms/step - loss: 1322.2197 - val_loss: 1302.3948\n",
      "Epoch 81/500\n",
      "20/20 [==============================] - 0s 4ms/step - loss: 1295.5732 - val_loss: 1295.6239\n",
      "Epoch 82/500\n",
      "20/20 [==============================] - 0s 3ms/step - loss: 1269.3867 - val_loss: 1289.1881\n",
      "Epoch 83/500\n",
      "20/20 [==============================] - 0s 4ms/step - loss: 1243.6559 - val_loss: 1283.0823\n",
      "Epoch 84/500\n",
      "20/20 [==============================] - 0s 3ms/step - loss: 1218.3749 - val_loss: 1277.3015\n",
      "Epoch 85/500\n",
      "20/20 [==============================] - 0s 4ms/step - loss: 1193.5391 - val_loss: 1271.8408\n",
      "Epoch 86/500\n",
      "20/20 [==============================] - 0s 3ms/step - loss: 1169.1440 - val_loss: 1266.6957\n",
      "Epoch 87/500\n",
      "20/20 [==============================] - 0s 5ms/step - loss: 1145.1846 - val_loss: 1261.8607\n",
      "Epoch 88/500\n",
      "20/20 [==============================] - 0s 4ms/step - loss: 1121.6558 - val_loss: 1257.3317\n",
      "Epoch 89/500\n",
      "20/20 [==============================] - 0s 4ms/step - loss: 1098.5533 - val_loss: 1253.1029\n",
      "Epoch 90/500\n",
      "20/20 [==============================] - 0s 4ms/step - loss: 1075.8713 - val_loss: 1249.1705\n",
      "Epoch 91/500\n",
      "20/20 [==============================] - 0s 3ms/step - loss: 1053.6063 - val_loss: 1245.5289\n",
      "Epoch 92/500\n",
      "20/20 [==============================] - 0s 4ms/step - loss: 1031.7531 - val_loss: 1242.1741\n",
      "Epoch 93/500\n",
      "20/20 [==============================] - 0s 3ms/step - loss: 1010.3066 - val_loss: 1239.1005\n",
      "Epoch 94/500\n",
      "20/20 [==============================] - 0s 4ms/step - loss: 989.2624 - val_loss: 1236.3040\n",
      "Epoch 95/500\n",
      "20/20 [==============================] - 0s 4ms/step - loss: 968.6158 - val_loss: 1233.7795\n",
      "Epoch 96/500\n",
      "20/20 [==============================] - 0s 4ms/step - loss: 948.3620 - val_loss: 1231.5225\n",
      "Epoch 97/500\n",
      "20/20 [==============================] - 0s 4ms/step - loss: 928.4965 - val_loss: 1229.5280\n",
      "Epoch 98/500\n",
      "20/20 [==============================] - 0s 3ms/step - loss: 909.0148 - val_loss: 1227.7916\n",
      "Epoch 99/500\n",
      "20/20 [==============================] - 0s 4ms/step - loss: 889.9121 - val_loss: 1226.3085\n",
      "Epoch 100/500\n",
      "20/20 [==============================] - 0s 5ms/step - loss: 871.1836 - val_loss: 1225.0740\n",
      "Epoch 101/500\n",
      "20/20 [==============================] - 0s 4ms/step - loss: 852.8253 - val_loss: 1224.0836\n",
      "Epoch 102/500\n",
      "20/20 [==============================] - 0s 9ms/step - loss: 834.8323 - val_loss: 1223.3326\n",
      "Epoch 103/500\n",
      "20/20 [==============================] - 0s 4ms/step - loss: 817.2003 - val_loss: 1222.8162\n",
      "Epoch 104/500\n",
      "20/20 [==============================] - 0s 4ms/step - loss: 799.9245 - val_loss: 1222.5299\n",
      "Epoch 105/500\n",
      "20/20 [==============================] - 0s 4ms/step - loss: 783.0005 - val_loss: 1222.4692\n",
      "Epoch 106/500\n",
      "20/20 [==============================] - 0s 4ms/step - loss: 766.4237 - val_loss: 1222.6296\n",
      "Epoch 107/500\n",
      "20/20 [==============================] - 0s 4ms/step - loss: 750.1901 - val_loss: 1223.0062\n",
      "Epoch 108/500\n",
      "20/20 [==============================] - 0s 5ms/step - loss: 734.2950 - val_loss: 1223.5947\n",
      "Epoch 109/500\n",
      "20/20 [==============================] - 0s 5ms/step - loss: 718.7338 - val_loss: 1224.3906\n",
      "Epoch 110/500\n",
      "20/20 [==============================] - 0s 5ms/step - loss: 703.5025 - val_loss: 1225.3890\n",
      "Epoch 111/500\n",
      "20/20 [==============================] - 0s 5ms/step - loss: 688.5962 - val_loss: 1226.5861\n",
      "Epoch 112/500\n",
      "20/20 [==============================] - 0s 3ms/step - loss: 674.0110 - val_loss: 1227.9768\n",
      "Epoch 113/500\n",
      "20/20 [==============================] - 0s 4ms/step - loss: 659.7423 - val_loss: 1229.5566\n",
      "Epoch 114/500\n",
      "20/20 [==============================] - 0s 4ms/step - loss: 645.7863 - val_loss: 1231.3213\n",
      "Epoch 115/500\n",
      "20/20 [==============================] - 0s 3ms/step - loss: 632.1378 - val_loss: 1233.2666\n",
      "Epoch 116/500\n",
      "20/20 [==============================] - 0s 4ms/step - loss: 618.7929 - val_loss: 1235.3877\n",
      "Epoch 117/500\n",
      "20/20 [==============================] - 0s 4ms/step - loss: 605.7477 - val_loss: 1237.6803\n",
      "Epoch 118/500\n",
      "20/20 [==============================] - 0s 4ms/step - loss: 592.9974 - val_loss: 1240.1403\n",
      "Epoch 119/500\n",
      "20/20 [==============================] - 0s 5ms/step - loss: 580.5380 - val_loss: 1242.7628\n",
      "Epoch 120/500\n",
      "20/20 [==============================] - 0s 6ms/step - loss: 568.3653 - val_loss: 1245.5439\n",
      "Epoch 121/500\n",
      "20/20 [==============================] - 0s 5ms/step - loss: 556.4750 - val_loss: 1248.4789\n",
      "Epoch 122/500\n",
      "20/20 [==============================] - 0s 4ms/step - loss: 544.8632 - val_loss: 1251.5637\n",
      "Epoch 123/500\n",
      "20/20 [==============================] - 0s 5ms/step - loss: 533.5255 - val_loss: 1254.7941\n",
      "Epoch 124/500\n",
      "20/20 [==============================] - 0s 3ms/step - loss: 522.4576 - val_loss: 1258.1654\n",
      "Epoch 125/500\n",
      "20/20 [==============================] - 0s 4ms/step - loss: 511.6557 - val_loss: 1261.6736\n",
      "Epoch 126/500\n",
      "20/20 [==============================] - 0s 4ms/step - loss: 501.1153 - val_loss: 1265.3146\n",
      "Epoch 127/500\n",
      "20/20 [==============================] - 0s 4ms/step - loss: 490.8328 - val_loss: 1269.0840\n",
      "Epoch 128/500\n",
      "20/20 [==============================] - 0s 4ms/step - loss: 480.8036 - val_loss: 1272.9773\n",
      "Epoch 129/500\n",
      "20/20 [==============================] - 0s 5ms/step - loss: 471.0241 - val_loss: 1276.9910\n",
      "Epoch 130/500\n",
      "20/20 [==============================] - 0s 5ms/step - loss: 461.4900 - val_loss: 1281.1201\n",
      "Epoch 131/500\n",
      "20/20 [==============================] - 0s 4ms/step - loss: 452.1974 - val_loss: 1285.3611\n",
      "Epoch 132/500\n",
      "20/20 [==============================] - 0s 4ms/step - loss: 443.1422 - val_loss: 1289.7100\n",
      "Epoch 133/500\n",
      "20/20 [==============================] - 0s 4ms/step - loss: 434.3206 - val_loss: 1294.1619\n",
      "Epoch 134/500\n",
      "20/20 [==============================] - 0s 4ms/step - loss: 425.7285 - val_loss: 1298.7136\n",
      "Epoch 135/500\n",
      "20/20 [==============================] - 0s 4ms/step - loss: 417.3619 - val_loss: 1303.3606\n",
      "Epoch 136/500\n",
      "20/20 [==============================] - 0s 4ms/step - loss: 409.2172 - val_loss: 1308.0989\n",
      "Epoch 137/500\n",
      "20/20 [==============================] - 0s 5ms/step - loss: 401.2902 - val_loss: 1312.9243\n",
      "Epoch 138/500\n",
      "20/20 [==============================] - 0s 3ms/step - loss: 393.5772 - val_loss: 1317.8336\n",
      "Epoch 139/500\n",
      "20/20 [==============================] - 0s 4ms/step - loss: 386.0744 - val_loss: 1322.8220\n",
      "Epoch 140/500\n",
      "20/20 [==============================] - 0s 4ms/step - loss: 378.7777 - val_loss: 1327.8865\n",
      "Epoch 141/500\n",
      "20/20 [==============================] - 0s 4ms/step - loss: 371.6837 - val_loss: 1333.0222\n",
      "Epoch 142/500\n",
      "20/20 [==============================] - 0s 4ms/step - loss: 364.7884 - val_loss: 1338.2263\n",
      "Epoch 143/500\n",
      "20/20 [==============================] - 0s 4ms/step - loss: 358.0880 - val_loss: 1343.4940\n",
      "Epoch 144/500\n",
      "20/20 [==============================] - 0s 4ms/step - loss: 351.5790 - val_loss: 1348.8223\n",
      "Epoch 145/500\n",
      "20/20 [==============================] - 0s 10ms/step - loss: 345.2576 - val_loss: 1354.2073\n",
      "Epoch 146/500\n",
      "20/20 [==============================] - 0s 4ms/step - loss: 339.1198 - val_loss: 1359.6453\n",
      "Epoch 147/500\n",
      "20/20 [==============================] - 0s 3ms/step - loss: 333.1625 - val_loss: 1365.1317\n",
      "Epoch 148/500\n",
      "20/20 [==============================] - 0s 4ms/step - loss: 327.3818 - val_loss: 1370.6644\n",
      "Epoch 149/500\n",
      "20/20 [==============================] - 0s 4ms/step - loss: 321.7743 - val_loss: 1376.2389\n",
      "Epoch 150/500\n",
      "20/20 [==============================] - 0s 4ms/step - loss: 316.3361 - val_loss: 1381.8519\n",
      "Epoch 151/500\n",
      "20/20 [==============================] - 0s 3ms/step - loss: 311.0638 - val_loss: 1387.4998\n",
      "Epoch 152/500\n",
      "20/20 [==============================] - 0s 4ms/step - loss: 305.9541 - val_loss: 1393.1792\n",
      "Epoch 153/500\n",
      "20/20 [==============================] - 0s 4ms/step - loss: 301.0033 - val_loss: 1398.8867\n",
      "Epoch 154/500\n",
      "20/20 [==============================] - 0s 5ms/step - loss: 296.2081 - val_loss: 1404.6184\n",
      "Epoch 155/500\n",
      "20/20 [==============================] - 0s 3ms/step - loss: 291.5650 - val_loss: 1410.3717\n",
      "Epoch 156/500\n",
      "20/20 [==============================] - 0s 4ms/step - loss: 287.0705 - val_loss: 1416.1433\n",
      "Epoch 157/500\n",
      "20/20 [==============================] - 0s 4ms/step - loss: 282.7216 - val_loss: 1421.9293\n",
      "Epoch 158/500\n",
      "20/20 [==============================] - 0s 4ms/step - loss: 278.5147 - val_loss: 1427.7272\n",
      "Epoch 159/500\n",
      "20/20 [==============================] - 0s 3ms/step - loss: 274.4465 - val_loss: 1433.5332\n",
      "Epoch 160/500\n",
      "20/20 [==============================] - 0s 4ms/step - loss: 270.5139 - val_loss: 1439.3450\n",
      "Epoch 161/500\n",
      "20/20 [==============================] - 0s 4ms/step - loss: 266.7136 - val_loss: 1445.1584\n",
      "Epoch 162/500\n",
      "20/20 [==============================] - 0s 4ms/step - loss: 263.0425 - val_loss: 1450.9714\n",
      "Epoch 163/500\n",
      "20/20 [==============================] - 0s 3ms/step - loss: 259.4973 - val_loss: 1456.7809\n",
      "Epoch 164/500\n",
      "20/20 [==============================] - 0s 3ms/step - loss: 256.0750 - val_loss: 1462.5834\n",
      "Epoch 165/500\n",
      "20/20 [==============================] - 0s 4ms/step - loss: 252.7725 - val_loss: 1468.3770\n",
      "Epoch 166/500\n",
      "20/20 [==============================] - 0s 4ms/step - loss: 249.5867 - val_loss: 1474.1578\n",
      "Epoch 167/500\n",
      "20/20 [==============================] - 0s 4ms/step - loss: 246.5147 - val_loss: 1479.9236\n",
      "Epoch 168/500\n",
      "20/20 [==============================] - 0s 4ms/step - loss: 243.5535 - val_loss: 1485.6722\n",
      "Epoch 169/500\n",
      "20/20 [==============================] - 0s 4ms/step - loss: 240.7002 - val_loss: 1491.4001\n",
      "Epoch 170/500\n",
      "20/20 [==============================] - 0s 4ms/step - loss: 237.9518 - val_loss: 1497.1055\n",
      "Epoch 171/500\n",
      "20/20 [==============================] - 0s 4ms/step - loss: 235.3056 - val_loss: 1502.7855\n",
      "Epoch 172/500\n",
      "20/20 [==============================] - 0s 4ms/step - loss: 232.7588 - val_loss: 1508.4379\n",
      "Epoch 173/500\n",
      "20/20 [==============================] - 0s 4ms/step - loss: 230.3084 - val_loss: 1514.0599\n",
      "Epoch 174/500\n",
      "20/20 [==============================] - 0s 4ms/step - loss: 227.9521 - val_loss: 1519.6497\n",
      "Epoch 175/500\n",
      "20/20 [==============================] - 0s 3ms/step - loss: 225.6866 - val_loss: 1525.2045\n",
      "Epoch 176/500\n",
      "20/20 [==============================] - 0s 4ms/step - loss: 223.5098 - val_loss: 1530.7224\n",
      "Epoch 177/500\n",
      "20/20 [==============================] - 0s 4ms/step - loss: 221.4189 - val_loss: 1536.2019\n",
      "Epoch 178/500\n",
      "20/20 [==============================] - 0s 4ms/step - loss: 219.4113 - val_loss: 1541.6400\n",
      "Epoch 179/500\n",
      "20/20 [==============================] - 0s 10ms/step - loss: 217.4845 - val_loss: 1547.0356\n",
      "Epoch 180/500\n",
      "20/20 [==============================] - 0s 5ms/step - loss: 215.6359 - val_loss: 1552.3855\n",
      "Epoch 181/500\n",
      "20/20 [==============================] - 0s 3ms/step - loss: 213.8634 - val_loss: 1557.6892\n",
      "Epoch 182/500\n",
      "20/20 [==============================] - 0s 4ms/step - loss: 212.1644 - val_loss: 1562.9440\n",
      "Epoch 183/500\n",
      "20/20 [==============================] - 0s 4ms/step - loss: 210.5365 - val_loss: 1568.1490\n",
      "Epoch 184/500\n",
      "20/20 [==============================] - 0s 4ms/step - loss: 208.9776 - val_loss: 1573.3014\n",
      "Epoch 185/500\n",
      "20/20 [==============================] - 0s 4ms/step - loss: 207.4854 - val_loss: 1578.4010\n",
      "Epoch 186/500\n",
      "20/20 [==============================] - 0s 4ms/step - loss: 206.0574 - val_loss: 1583.4453\n",
      "Epoch 187/500\n",
      "20/20 [==============================] - 0s 4ms/step - loss: 204.6918 - val_loss: 1588.4323\n",
      "Epoch 188/500\n",
      "20/20 [==============================] - 0s 4ms/step - loss: 203.3863 - val_loss: 1593.3617\n",
      "Epoch 189/500\n",
      "20/20 [==============================] - 0s 4ms/step - loss: 202.1389 - val_loss: 1598.2323\n",
      "Epoch 190/500\n",
      "20/20 [==============================] - 0s 4ms/step - loss: 200.9475 - val_loss: 1603.0426\n",
      "Epoch 191/500\n",
      "20/20 [==============================] - 0s 4ms/step - loss: 199.8102 - val_loss: 1607.7908\n",
      "Epoch 192/500\n",
      "20/20 [==============================] - 0s 4ms/step - loss: 198.7250 - val_loss: 1612.4766\n",
      "Epoch 193/500\n",
      "20/20 [==============================] - 0s 4ms/step - loss: 197.6900 - val_loss: 1617.0979\n",
      "Epoch 194/500\n",
      "20/20 [==============================] - 0s 3ms/step - loss: 196.7034 - val_loss: 1621.6548\n",
      "Epoch 195/500\n",
      "20/20 [==============================] - 0s 4ms/step - loss: 195.7635 - val_loss: 1626.1458\n",
      "Epoch 196/500\n",
      "20/20 [==============================] - 0s 4ms/step - loss: 194.8682 - val_loss: 1630.5710\n",
      "Epoch 197/500\n",
      "20/20 [==============================] - 0s 4ms/step - loss: 194.0160 - val_loss: 1634.9287\n",
      "Epoch 198/500\n",
      "20/20 [==============================] - 0s 4ms/step - loss: 193.2053 - val_loss: 1639.2190\n",
      "Epoch 199/500\n",
      "20/20 [==============================] - 0s 4ms/step - loss: 192.4343 - val_loss: 1643.4397\n",
      "Epoch 200/500\n",
      "20/20 [==============================] - 0s 4ms/step - loss: 191.7016 - val_loss: 1647.5918\n",
      "Epoch 201/500\n",
      "20/20 [==============================] - 0s 4ms/step - loss: 191.0055 - val_loss: 1651.6741\n",
      "Epoch 202/500\n",
      "20/20 [==============================] - 0s 4ms/step - loss: 190.3445 - val_loss: 1655.6863\n",
      "Epoch 203/500\n",
      "20/20 [==============================] - 0s 4ms/step - loss: 189.7173 - val_loss: 1659.6283\n",
      "Epoch 204/500\n",
      "20/20 [==============================] - 0s 4ms/step - loss: 189.1224 - val_loss: 1663.4993\n",
      "Epoch 205/500\n",
      "20/20 [==============================] - 0s 4ms/step - loss: 188.5584 - val_loss: 1667.2988\n",
      "Epoch 206/500\n",
      "20/20 [==============================] - 0s 4ms/step - loss: 188.0240 - val_loss: 1671.0281\n",
      "Epoch 207/500\n",
      "20/20 [==============================] - 0s 4ms/step - loss: 187.5179 - val_loss: 1674.6855\n",
      "Epoch 208/500\n",
      "20/20 [==============================] - 0s 4ms/step - loss: 187.0389 - val_loss: 1678.2708\n",
      "Epoch 209/500\n",
      "20/20 [==============================] - 0s 4ms/step - loss: 186.5858 - val_loss: 1681.7859\n",
      "Epoch 210/500\n",
      "20/20 [==============================] - 0s 4ms/step - loss: 186.1573 - val_loss: 1685.2299\n",
      "Epoch 211/500\n",
      "20/20 [==============================] - 0s 4ms/step - loss: 185.7523 - val_loss: 1688.6019\n",
      "Epoch 212/500\n",
      "20/20 [==============================] - 0s 10ms/step - loss: 185.3700 - val_loss: 1691.9036\n",
      "Epoch 213/500\n",
      "20/20 [==============================] - 0s 4ms/step - loss: 185.0089 - val_loss: 1695.1322\n",
      "Epoch 214/500\n",
      "20/20 [==============================] - 0s 4ms/step - loss: 184.6684 - val_loss: 1698.2920\n",
      "Epoch 215/500\n",
      "20/20 [==============================] - 0s 4ms/step - loss: 184.3472 - val_loss: 1701.3812\n",
      "Epoch 216/500\n",
      "20/20 [==============================] - 0s 4ms/step - loss: 184.0445 - val_loss: 1704.4008\n",
      "Epoch 217/500\n",
      "20/20 [==============================] - 0s 5ms/step - loss: 183.7595 - val_loss: 1707.3506\n",
      "Epoch 218/500\n",
      "20/20 [==============================] - 0s 5ms/step - loss: 183.4910 - val_loss: 1710.2311\n",
      "Epoch 219/500\n",
      "20/20 [==============================] - 0s 5ms/step - loss: 183.2385 - val_loss: 1713.0433\n",
      "Epoch 220/500\n",
      "20/20 [==============================] - 0s 5ms/step - loss: 183.0011 - val_loss: 1715.7871\n",
      "Epoch 221/500\n",
      "20/20 [==============================] - 0s 5ms/step - loss: 182.7779 - val_loss: 1718.4631\n",
      "Epoch 222/500\n",
      "20/20 [==============================] - 0s 4ms/step - loss: 182.5683 - val_loss: 1721.0729\n",
      "Epoch 223/500\n",
      "20/20 [==============================] - 0s 5ms/step - loss: 182.3715 - val_loss: 1723.6160\n",
      "Epoch 224/500\n",
      "20/20 [==============================] - 0s 4ms/step - loss: 182.1868 - val_loss: 1726.0935\n",
      "Epoch 225/500\n",
      "20/20 [==============================] - 0s 4ms/step - loss: 182.0136 - val_loss: 1728.5062\n",
      "Epoch 226/500\n",
      "20/20 [==============================] - 0s 4ms/step - loss: 181.8514 - val_loss: 1730.8551\n",
      "Epoch 227/500\n",
      "20/20 [==============================] - 0s 3ms/step - loss: 181.6994 - val_loss: 1733.1410\n",
      "Epoch 228/500\n",
      "20/20 [==============================] - 0s 4ms/step - loss: 181.5572 - val_loss: 1735.3645\n",
      "Epoch 229/500\n",
      "20/20 [==============================] - 0s 3ms/step - loss: 181.4240 - val_loss: 1737.5251\n",
      "Epoch 230/500\n",
      "20/20 [==============================] - 0s 4ms/step - loss: 181.2995 - val_loss: 1739.6257\n",
      "Epoch 231/500\n",
      "20/20 [==============================] - 0s 4ms/step - loss: 181.1831 - val_loss: 1741.6656\n",
      "Epoch 232/500\n",
      "20/20 [==============================] - 0s 5ms/step - loss: 181.0746 - val_loss: 1743.6478\n",
      "Epoch 233/500\n",
      "20/20 [==============================] - 0s 6ms/step - loss: 180.9731 - val_loss: 1745.5715\n",
      "Epoch 234/500\n",
      "20/20 [==============================] - 0s 5ms/step - loss: 180.8784 - val_loss: 1747.4377\n",
      "Epoch 235/500\n",
      "20/20 [==============================] - 0s 4ms/step - loss: 180.7903 - val_loss: 1749.2483\n",
      "Epoch 236/500\n",
      "20/20 [==============================] - 0s 4ms/step - loss: 180.7081 - val_loss: 1751.0032\n",
      "Epoch 237/500\n",
      "20/20 [==============================] - 0s 5ms/step - loss: 180.6315 - val_loss: 1752.7045\n",
      "Epoch 238/500\n",
      "20/20 [==============================] - 0s 10ms/step - loss: 180.5601 - val_loss: 1754.3529\n",
      "Epoch 239/500\n",
      "20/20 [==============================] - 0s 11ms/step - loss: 180.4938 - val_loss: 1755.9489\n",
      "Epoch 240/500\n",
      "20/20 [==============================] - 0s 18ms/step - loss: 180.4320 - val_loss: 1757.4934\n",
      "Epoch 241/500\n",
      "20/20 [==============================] - 0s 6ms/step - loss: 180.3748 - val_loss: 1758.9877\n",
      "Epoch 242/500\n",
      "20/20 [==============================] - 0s 11ms/step - loss: 180.3215 - val_loss: 1760.4333\n",
      "Epoch 243/500\n",
      "20/20 [==============================] - 0s 7ms/step - loss: 180.2721 - val_loss: 1761.8311\n",
      "Epoch 244/500\n",
      "20/20 [==============================] - 0s 6ms/step - loss: 180.2262 - val_loss: 1763.1816\n",
      "Epoch 245/500\n",
      "20/20 [==============================] - 0s 6ms/step - loss: 180.1837 - val_loss: 1764.4867\n",
      "Epoch 246/500\n",
      "20/20 [==============================] - 0s 6ms/step - loss: 180.1442 - val_loss: 1765.7461\n",
      "Epoch 247/500\n",
      "20/20 [==============================] - 0s 5ms/step - loss: 180.1078 - val_loss: 1766.9622\n",
      "Epoch 248/500\n",
      "20/20 [==============================] - 0s 6ms/step - loss: 180.0740 - val_loss: 1768.1364\n",
      "Epoch 249/500\n",
      "20/20 [==============================] - 0s 5ms/step - loss: 180.0427 - val_loss: 1769.2679\n",
      "Epoch 250/500\n",
      "20/20 [==============================] - 0s 7ms/step - loss: 180.0138 - val_loss: 1770.3582\n",
      "Epoch 251/500\n",
      "20/20 [==============================] - 0s 11ms/step - loss: 179.9871 - val_loss: 1771.4104\n",
      "Epoch 252/500\n",
      "20/20 [==============================] - 0s 10ms/step - loss: 179.9624 - val_loss: 1772.4236\n",
      "Epoch 253/500\n",
      "20/20 [==============================] - 0s 6ms/step - loss: 179.9396 - val_loss: 1773.3988\n",
      "Epoch 254/500\n",
      "20/20 [==============================] - 0s 6ms/step - loss: 179.9186 - val_loss: 1774.3383\n",
      "Epoch 255/500\n",
      "20/20 [==============================] - 0s 4ms/step - loss: 179.8991 - val_loss: 1775.2418\n",
      "Epoch 256/500\n",
      "20/20 [==============================] - 0s 4ms/step - loss: 179.8813 - val_loss: 1776.1100\n",
      "Epoch 257/500\n",
      "20/20 [==============================] - 0s 4ms/step - loss: 179.8648 - val_loss: 1776.9457\n",
      "Epoch 258/500\n",
      "20/20 [==============================] - 0s 4ms/step - loss: 179.8496 - val_loss: 1777.7493\n",
      "Epoch 259/500\n",
      "20/20 [==============================] - 0s 4ms/step - loss: 179.8357 - val_loss: 1778.5208\n",
      "Epoch 260/500\n",
      "20/20 [==============================] - 0s 4ms/step - loss: 179.8229 - val_loss: 1779.2617\n",
      "Epoch 261/500\n",
      "20/20 [==============================] - 0s 5ms/step - loss: 179.8110 - val_loss: 1779.9727\n",
      "Epoch 262/500\n",
      "20/20 [==============================] - 0s 5ms/step - loss: 179.8002 - val_loss: 1780.6536\n",
      "Epoch 263/500\n",
      "20/20 [==============================] - 0s 5ms/step - loss: 179.7903 - val_loss: 1781.3088\n",
      "Epoch 264/500\n",
      "20/20 [==============================] - 0s 4ms/step - loss: 179.7812 - val_loss: 1781.9363\n",
      "Epoch 265/500\n",
      "20/20 [==============================] - 0s 4ms/step - loss: 179.7728 - val_loss: 1782.5378\n",
      "Epoch 266/500\n",
      "20/20 [==============================] - 0s 4ms/step - loss: 179.7651 - val_loss: 1783.1130\n",
      "Epoch 267/500\n",
      "20/20 [==============================] - 0s 5ms/step - loss: 179.7581 - val_loss: 1783.6656\n",
      "Epoch 268/500\n",
      "20/20 [==============================] - 0s 5ms/step - loss: 179.7517 - val_loss: 1784.1926\n",
      "Epoch 269/500\n",
      "20/20 [==============================] - 0s 6ms/step - loss: 179.7458 - val_loss: 1784.6986\n",
      "Epoch 270/500\n",
      "20/20 [==============================] - 0s 5ms/step - loss: 179.7404 - val_loss: 1785.1816\n",
      "Epoch 271/500\n",
      "20/20 [==============================] - 0s 4ms/step - loss: 179.7356 - val_loss: 1785.6439\n",
      "Epoch 272/500\n",
      "20/20 [==============================] - 0s 4ms/step - loss: 179.7311 - val_loss: 1786.0852\n",
      "Epoch 273/500\n",
      "20/20 [==============================] - 0s 4ms/step - loss: 179.7271 - val_loss: 1786.5074\n",
      "Epoch 274/500\n",
      "20/20 [==============================] - 0s 5ms/step - loss: 179.7234 - val_loss: 1786.9104\n",
      "Epoch 275/500\n",
      "20/20 [==============================] - 0s 4ms/step - loss: 179.7200 - val_loss: 1787.2955\n",
      "Epoch 276/500\n",
      "20/20 [==============================] - 0s 4ms/step - loss: 179.7170 - val_loss: 1787.6637\n",
      "Epoch 277/500\n",
      "20/20 [==============================] - 0s 4ms/step - loss: 179.7142 - val_loss: 1788.0137\n",
      "Epoch 278/500\n",
      "20/20 [==============================] - 0s 4ms/step - loss: 179.7117 - val_loss: 1788.3477\n",
      "Epoch 279/500\n",
      "20/20 [==============================] - 0s 4ms/step - loss: 179.7095 - val_loss: 1788.6663\n",
      "Epoch 280/500\n",
      "20/20 [==============================] - 0s 4ms/step - loss: 179.7075 - val_loss: 1788.9695\n",
      "Epoch 281/500\n",
      "20/20 [==============================] - 0s 4ms/step - loss: 179.7056 - val_loss: 1789.2588\n",
      "Epoch 282/500\n",
      "20/20 [==============================] - 0s 5ms/step - loss: 179.7040 - val_loss: 1789.5348\n",
      "Epoch 283/500\n",
      "20/20 [==============================] - 0s 4ms/step - loss: 179.7026 - val_loss: 1789.7959\n",
      "Epoch 284/500\n",
      "20/20 [==============================] - 0s 5ms/step - loss: 179.7013 - val_loss: 1790.0461\n",
      "Epoch 285/500\n",
      "20/20 [==============================] - 0s 5ms/step - loss: 179.7000 - val_loss: 1790.2839\n",
      "Epoch 286/500\n",
      "20/20 [==============================] - 0s 4ms/step - loss: 179.6991 - val_loss: 1790.5092\n",
      "Epoch 287/500\n",
      "20/20 [==============================] - 0s 3ms/step - loss: 179.6981 - val_loss: 1790.7227\n",
      "Epoch 288/500\n",
      "20/20 [==============================] - 0s 6ms/step - loss: 179.6974 - val_loss: 1790.9260\n",
      "Epoch 289/500\n",
      "20/20 [==============================] - 0s 8ms/step - loss: 179.6967 - val_loss: 1791.1195\n",
      "Epoch 290/500\n",
      "20/20 [==============================] - 0s 6ms/step - loss: 179.6961 - val_loss: 1791.3031\n",
      "Epoch 291/500\n",
      "20/20 [==============================] - 0s 4ms/step - loss: 179.6957 - val_loss: 1791.4778\n",
      "Epoch 292/500\n",
      "20/20 [==============================] - 0s 4ms/step - loss: 179.6952 - val_loss: 1791.6418\n",
      "Epoch 293/500\n",
      "20/20 [==============================] - 0s 4ms/step - loss: 179.6949 - val_loss: 1791.7982\n",
      "Epoch 294/500\n",
      "20/20 [==============================] - 0s 4ms/step - loss: 179.6947 - val_loss: 1791.9467\n",
      "Epoch 295/500\n",
      "20/20 [==============================] - 0s 4ms/step - loss: 179.6945 - val_loss: 1792.0881\n",
      "Epoch 296/500\n",
      "20/20 [==============================] - 0s 5ms/step - loss: 179.6943 - val_loss: 1792.2217\n",
      "Epoch 297/500\n",
      "20/20 [==============================] - 0s 4ms/step - loss: 179.6943 - val_loss: 1792.3473\n",
      "Epoch 298/500\n",
      "20/20 [==============================] - 0s 4ms/step - loss: 179.6941 - val_loss: 1792.4664\n",
      "Epoch 299/500\n",
      "20/20 [==============================] - 0s 5ms/step - loss: 179.6941 - val_loss: 1792.5798\n",
      "Epoch 300/500\n",
      "20/20 [==============================] - 0s 5ms/step - loss: 179.6942 - val_loss: 1792.6871\n",
      "Epoch 301/500\n",
      "20/20 [==============================] - 0s 4ms/step - loss: 179.6943 - val_loss: 1792.7878\n",
      "Epoch 302/500\n",
      "20/20 [==============================] - 0s 4ms/step - loss: 179.6944 - val_loss: 1792.8840\n",
      "Epoch 303/500\n",
      "20/20 [==============================] - 0s 4ms/step - loss: 179.6945 - val_loss: 1792.9742\n",
      "Epoch 304/500\n",
      "20/20 [==============================] - 0s 4ms/step - loss: 179.6947 - val_loss: 1793.0599\n",
      "Epoch 305/500\n",
      "20/20 [==============================] - 0s 5ms/step - loss: 179.6949 - val_loss: 1793.1403\n",
      "Epoch 306/500\n",
      "20/20 [==============================] - 0s 5ms/step - loss: 179.6952 - val_loss: 1793.2164\n",
      "Epoch 307/500\n",
      "20/20 [==============================] - 0s 5ms/step - loss: 179.6954 - val_loss: 1793.2878\n",
      "Epoch 308/500\n",
      "20/20 [==============================] - 0s 5ms/step - loss: 179.6957 - val_loss: 1793.3561\n",
      "Epoch 309/500\n",
      "20/20 [==============================] - 0s 4ms/step - loss: 179.6960 - val_loss: 1793.4199\n",
      "Epoch 310/500\n",
      "20/20 [==============================] - 0s 4ms/step - loss: 179.6963 - val_loss: 1793.4797\n",
      "Epoch 311/500\n",
      "20/20 [==============================] - 0s 5ms/step - loss: 179.6966 - val_loss: 1793.5367\n",
      "Epoch 312/500\n",
      "20/20 [==============================] - 0s 5ms/step - loss: 179.6969 - val_loss: 1793.5902\n",
      "Epoch 313/500\n",
      "20/20 [==============================] - 0s 5ms/step - loss: 179.6973 - val_loss: 1793.6406\n",
      "Epoch 314/500\n",
      "20/20 [==============================] - 0s 5ms/step - loss: 179.6977 - val_loss: 1793.6881\n",
      "Epoch 315/500\n",
      "20/20 [==============================] - 0s 5ms/step - loss: 179.6981 - val_loss: 1793.7324\n",
      "Epoch 316/500\n",
      "20/20 [==============================] - 0s 5ms/step - loss: 179.6984 - val_loss: 1793.7747\n",
      "Epoch 317/500\n",
      "20/20 [==============================] - 0s 4ms/step - loss: 179.6988 - val_loss: 1793.8145\n",
      "Epoch 318/500\n",
      "20/20 [==============================] - 0s 4ms/step - loss: 179.6992 - val_loss: 1793.8512\n",
      "Epoch 319/500\n",
      "20/20 [==============================] - 0s 13ms/step - loss: 179.6996 - val_loss: 1793.8861\n",
      "Epoch 320/500\n",
      "20/20 [==============================] - 0s 4ms/step - loss: 179.7000 - val_loss: 1793.9177\n",
      "Epoch 321/500\n",
      "20/20 [==============================] - 0s 3ms/step - loss: 179.7004 - val_loss: 1793.9485\n",
      "Epoch 322/500\n",
      "20/20 [==============================] - 0s 4ms/step - loss: 179.7008 - val_loss: 1793.9781\n",
      "Epoch 323/500\n",
      "20/20 [==============================] - 0s 4ms/step - loss: 179.7012 - val_loss: 1794.0049\n",
      "Epoch 324/500\n",
      "20/20 [==============================] - 0s 3ms/step - loss: 179.7017 - val_loss: 1794.0297\n",
      "Epoch 325/500\n",
      "20/20 [==============================] - 0s 4ms/step - loss: 179.7021 - val_loss: 1794.0535\n",
      "Epoch 326/500\n",
      "20/20 [==============================] - 0s 4ms/step - loss: 179.7025 - val_loss: 1794.0756\n",
      "Epoch 327/500\n",
      "20/20 [==============================] - 0s 6ms/step - loss: 179.7030 - val_loss: 1794.0967\n",
      "Epoch 328/500\n",
      "20/20 [==============================] - 0s 5ms/step - loss: 179.7034 - val_loss: 1794.1162\n",
      "Epoch 329/500\n",
      "20/20 [==============================] - 0s 5ms/step - loss: 179.7038 - val_loss: 1794.1348\n",
      "Epoch 330/500\n",
      "20/20 [==============================] - 0s 7ms/step - loss: 179.7043 - val_loss: 1794.1521\n",
      "Epoch 331/500\n",
      "20/20 [==============================] - 0s 7ms/step - loss: 179.7047 - val_loss: 1794.1682\n",
      "Epoch 332/500\n",
      "20/20 [==============================] - 0s 6ms/step - loss: 179.7051 - val_loss: 1794.1832\n",
      "Epoch 333/500\n",
      "20/20 [==============================] - 0s 5ms/step - loss: 179.7056 - val_loss: 1794.1967\n",
      "Epoch 334/500\n",
      "20/20 [==============================] - 0s 5ms/step - loss: 179.7060 - val_loss: 1794.2097\n",
      "Epoch 335/500\n",
      "20/20 [==============================] - 0s 5ms/step - loss: 179.7064 - val_loss: 1794.2211\n",
      "Epoch 336/500\n",
      "20/20 [==============================] - 0s 4ms/step - loss: 179.7069 - val_loss: 1794.2336\n",
      "Epoch 337/500\n",
      "20/20 [==============================] - 0s 5ms/step - loss: 179.7073 - val_loss: 1794.2435\n",
      "Epoch 338/500\n",
      "20/20 [==============================] - 0s 5ms/step - loss: 179.7077 - val_loss: 1794.2539\n",
      "Epoch 339/500\n",
      "20/20 [==============================] - 0s 5ms/step - loss: 179.7081 - val_loss: 1794.2633\n",
      "Epoch 340/500\n",
      "20/20 [==============================] - 0s 5ms/step - loss: 179.7085 - val_loss: 1794.2711\n",
      "Epoch 341/500\n",
      "20/20 [==============================] - 0s 4ms/step - loss: 179.7090 - val_loss: 1794.2797\n",
      "Epoch 342/500\n",
      "20/20 [==============================] - 0s 6ms/step - loss: 179.7094 - val_loss: 1794.2871\n",
      "Epoch 343/500\n",
      "20/20 [==============================] - 0s 4ms/step - loss: 179.7098 - val_loss: 1794.2942\n",
      "Epoch 344/500\n",
      "20/20 [==============================] - 0s 6ms/step - loss: 179.7103 - val_loss: 1794.3004\n",
      "Epoch 345/500\n",
      "20/20 [==============================] - 0s 7ms/step - loss: 179.7106 - val_loss: 1794.3063\n",
      "Epoch 346/500\n",
      "20/20 [==============================] - 0s 7ms/step - loss: 179.7110 - val_loss: 1794.3118\n",
      "Epoch 347/500\n",
      "20/20 [==============================] - 0s 7ms/step - loss: 179.7114 - val_loss: 1794.3171\n",
      "Epoch 348/500\n",
      "20/20 [==============================] - 0s 12ms/step - loss: 179.7118 - val_loss: 1794.3213\n",
      "Epoch 349/500\n",
      "20/20 [==============================] - 0s 12ms/step - loss: 179.7122 - val_loss: 1794.3254\n",
      "Epoch 350/500\n",
      "20/20 [==============================] - 0s 7ms/step - loss: 179.7126 - val_loss: 1794.3293\n",
      "Epoch 351/500\n",
      "20/20 [==============================] - 0s 6ms/step - loss: 179.7130 - val_loss: 1794.3340\n",
      "Epoch 352/500\n",
      "20/20 [==============================] - 0s 6ms/step - loss: 179.7133 - val_loss: 1794.3372\n",
      "Epoch 353/500\n",
      "20/20 [==============================] - 0s 5ms/step - loss: 179.7137 - val_loss: 1794.3402\n",
      "Epoch 354/500\n",
      "20/20 [==============================] - 0s 5ms/step - loss: 179.7141 - val_loss: 1794.3435\n",
      "Epoch 355/500\n",
      "20/20 [==============================] - 0s 5ms/step - loss: 179.7145 - val_loss: 1794.3464\n",
      "Epoch 356/500\n",
      "20/20 [==============================] - 0s 5ms/step - loss: 179.7149 - val_loss: 1794.3492\n",
      "Epoch 357/500\n",
      "20/20 [==============================] - 0s 5ms/step - loss: 179.7152 - val_loss: 1794.3516\n",
      "Epoch 358/500\n",
      "20/20 [==============================] - 0s 5ms/step - loss: 179.7156 - val_loss: 1794.3541\n",
      "Epoch 359/500\n",
      "20/20 [==============================] - 0s 11ms/step - loss: 179.7159 - val_loss: 1794.3562\n",
      "Epoch 360/500\n",
      "20/20 [==============================] - 0s 5ms/step - loss: 179.7162 - val_loss: 1794.3584\n",
      "Epoch 361/500\n",
      "20/20 [==============================] - 0s 4ms/step - loss: 179.7166 - val_loss: 1794.3601\n",
      "Epoch 362/500\n",
      "20/20 [==============================] - 0s 5ms/step - loss: 179.7169 - val_loss: 1794.3607\n",
      "Epoch 363/500\n",
      "20/20 [==============================] - 0s 5ms/step - loss: 179.7173 - val_loss: 1794.3627\n",
      "Epoch 364/500\n",
      "20/20 [==============================] - 0s 6ms/step - loss: 179.7176 - val_loss: 1794.3633\n",
      "Epoch 365/500\n",
      "20/20 [==============================] - 0s 7ms/step - loss: 179.7179 - val_loss: 1794.3658\n",
      "Epoch 366/500\n",
      "20/20 [==============================] - 0s 7ms/step - loss: 179.7182 - val_loss: 1794.3668\n",
      "Epoch 367/500\n",
      "20/20 [==============================] - 0s 10ms/step - loss: 179.7185 - val_loss: 1794.3678\n",
      "Epoch 368/500\n",
      "20/20 [==============================] - 0s 8ms/step - loss: 179.7189 - val_loss: 1794.3684\n",
      "Epoch 369/500\n",
      "20/20 [==============================] - 0s 12ms/step - loss: 179.7191 - val_loss: 1794.3688\n",
      "Epoch 370/500\n",
      "20/20 [==============================] - 0s 7ms/step - loss: 179.7195 - val_loss: 1794.3699\n",
      "Epoch 371/500\n",
      "20/20 [==============================] - 0s 6ms/step - loss: 179.7198 - val_loss: 1794.3707\n",
      "Epoch 372/500\n",
      "20/20 [==============================] - 0s 6ms/step - loss: 179.7201 - val_loss: 1794.3715\n",
      "Epoch 373/500\n",
      "20/20 [==============================] - 0s 5ms/step - loss: 179.7204 - val_loss: 1794.3718\n",
      "Epoch 374/500\n",
      "20/20 [==============================] - 0s 4ms/step - loss: 179.7206 - val_loss: 1794.3718\n",
      "Epoch 375/500\n",
      "20/20 [==============================] - 0s 5ms/step - loss: 179.7210 - val_loss: 1794.3727\n",
      "Epoch 376/500\n",
      "20/20 [==============================] - 0s 5ms/step - loss: 179.7212 - val_loss: 1794.3727\n",
      "Epoch 377/500\n",
      "20/20 [==============================] - 0s 4ms/step - loss: 179.7215 - val_loss: 1794.3727\n",
      "Epoch 378/500\n",
      "20/20 [==============================] - 0s 4ms/step - loss: 179.7218 - val_loss: 1794.3734\n",
      "Epoch 379/500\n",
      "20/20 [==============================] - 0s 4ms/step - loss: 179.7221 - val_loss: 1794.3737\n",
      "Epoch 380/500\n",
      "20/20 [==============================] - 0s 4ms/step - loss: 179.7222 - val_loss: 1794.3734\n",
      "Epoch 381/500\n",
      "20/20 [==============================] - 0s 5ms/step - loss: 179.7226 - val_loss: 1794.3734\n",
      "Epoch 382/500\n",
      "20/20 [==============================] - 0s 5ms/step - loss: 179.7229 - val_loss: 1794.3746\n",
      "Epoch 383/500\n",
      "20/20 [==============================] - 0s 6ms/step - loss: 179.7231 - val_loss: 1794.3746\n",
      "Epoch 384/500\n",
      "20/20 [==============================] - 0s 15ms/step - loss: 179.7233 - val_loss: 1794.3746\n",
      "Epoch 385/500\n",
      "20/20 [==============================] - 0s 7ms/step - loss: 179.7235 - val_loss: 1794.3750\n",
      "Epoch 386/500\n",
      "20/20 [==============================] - 0s 6ms/step - loss: 179.7238 - val_loss: 1794.3744\n",
      "Epoch 387/500\n",
      "20/20 [==============================] - 0s 4ms/step - loss: 179.7240 - val_loss: 1794.3748\n",
      "Epoch 388/500\n",
      "20/20 [==============================] - 0s 5ms/step - loss: 179.7243 - val_loss: 1794.3746\n",
      "Epoch 389/500\n",
      "20/20 [==============================] - 0s 6ms/step - loss: 179.7245 - val_loss: 1794.3734\n",
      "Epoch 390/500\n",
      "20/20 [==============================] - 0s 5ms/step - loss: 179.7247 - val_loss: 1794.3734\n",
      "Epoch 391/500\n",
      "20/20 [==============================] - 0s 9ms/step - loss: 179.7250 - val_loss: 1794.3738\n",
      "Epoch 392/500\n",
      "20/20 [==============================] - 0s 6ms/step - loss: 179.7251 - val_loss: 1794.3738\n",
      "Epoch 393/500\n",
      "20/20 [==============================] - 0s 5ms/step - loss: 179.7253 - val_loss: 1794.3738\n",
      "Epoch 394/500\n",
      "20/20 [==============================] - 0s 5ms/step - loss: 179.7255 - val_loss: 1794.3734\n",
      "Epoch 395/500\n",
      "20/20 [==============================] - 0s 5ms/step - loss: 179.7258 - val_loss: 1794.3734\n",
      "Epoch 396/500\n",
      "20/20 [==============================] - 0s 4ms/step - loss: 179.7260 - val_loss: 1794.3734\n",
      "Epoch 397/500\n",
      "20/20 [==============================] - 0s 4ms/step - loss: 179.7262 - val_loss: 1794.3730\n",
      "Epoch 398/500\n",
      "20/20 [==============================] - 0s 5ms/step - loss: 179.7264 - val_loss: 1794.3730\n",
      "Epoch 399/500\n",
      "20/20 [==============================] - 0s 5ms/step - loss: 179.7265 - val_loss: 1794.3724\n",
      "Epoch 400/500\n",
      "20/20 [==============================] - 0s 6ms/step - loss: 179.7267 - val_loss: 1794.3721\n",
      "Epoch 401/500\n",
      "20/20 [==============================] - 0s 7ms/step - loss: 179.7269 - val_loss: 1794.3718\n",
      "Epoch 402/500\n",
      "20/20 [==============================] - 0s 7ms/step - loss: 179.7272 - val_loss: 1794.3718\n",
      "Epoch 403/500\n",
      "20/20 [==============================] - 0s 7ms/step - loss: 179.7273 - val_loss: 1794.3715\n",
      "Epoch 404/500\n",
      "20/20 [==============================] - 0s 7ms/step - loss: 179.7274 - val_loss: 1794.3715\n",
      "Epoch 405/500\n",
      "20/20 [==============================] - 0s 6ms/step - loss: 179.7276 - val_loss: 1794.3715\n",
      "Epoch 406/500\n",
      "20/20 [==============================] - 0s 6ms/step - loss: 179.7279 - val_loss: 1794.3717\n",
      "Epoch 407/500\n",
      "20/20 [==============================] - 0s 6ms/step - loss: 179.7280 - val_loss: 1794.3715\n",
      "Epoch 408/500\n",
      "20/20 [==============================] - 0s 4ms/step - loss: 179.7281 - val_loss: 1794.3711\n",
      "Epoch 409/500\n",
      "20/20 [==============================] - 0s 4ms/step - loss: 179.7283 - val_loss: 1794.3713\n",
      "Epoch 410/500\n",
      "20/20 [==============================] - 0s 10ms/step - loss: 179.7284 - val_loss: 1794.3705\n",
      "Epoch 411/500\n",
      "20/20 [==============================] - 0s 5ms/step - loss: 179.7286 - val_loss: 1794.3705\n",
      "Epoch 412/500\n",
      "20/20 [==============================] - 0s 5ms/step - loss: 179.7288 - val_loss: 1794.3704\n",
      "Epoch 413/500\n",
      "20/20 [==============================] - 0s 5ms/step - loss: 179.7290 - val_loss: 1794.3701\n",
      "Epoch 414/500\n",
      "20/20 [==============================] - 0s 5ms/step - loss: 179.7292 - val_loss: 1794.3704\n",
      "Epoch 415/500\n",
      "20/20 [==============================] - 0s 5ms/step - loss: 179.7292 - val_loss: 1794.3698\n",
      "Epoch 416/500\n",
      "20/20 [==============================] - 0s 5ms/step - loss: 179.7294 - val_loss: 1794.3698\n",
      "Epoch 417/500\n",
      "20/20 [==============================] - 0s 5ms/step - loss: 179.7295 - val_loss: 1794.3691\n",
      "Epoch 418/500\n",
      "20/20 [==============================] - 0s 4ms/step - loss: 179.7296 - val_loss: 1794.3691\n",
      "Epoch 419/500\n",
      "20/20 [==============================] - 0s 4ms/step - loss: 179.7298 - val_loss: 1794.3694\n",
      "Epoch 420/500\n",
      "20/20 [==============================] - 0s 5ms/step - loss: 179.7299 - val_loss: 1794.3691\n",
      "Epoch 421/500\n",
      "20/20 [==============================] - 0s 5ms/step - loss: 179.7300 - val_loss: 1794.3688\n",
      "Epoch 422/500\n",
      "20/20 [==============================] - 0s 4ms/step - loss: 179.7302 - val_loss: 1794.3684\n",
      "Epoch 423/500\n",
      "20/20 [==============================] - 0s 5ms/step - loss: 179.7303 - val_loss: 1794.3679\n",
      "Epoch 424/500\n",
      "20/20 [==============================] - 0s 4ms/step - loss: 179.7304 - val_loss: 1794.3672\n",
      "Epoch 425/500\n",
      "20/20 [==============================] - 0s 5ms/step - loss: 179.7306 - val_loss: 1794.3672\n",
      "Epoch 426/500\n",
      "20/20 [==============================] - 0s 4ms/step - loss: 179.7307 - val_loss: 1794.3669\n",
      "Epoch 427/500\n",
      "20/20 [==============================] - 0s 5ms/step - loss: 179.7308 - val_loss: 1794.3668\n",
      "Epoch 428/500\n",
      "20/20 [==============================] - 0s 4ms/step - loss: 179.7309 - val_loss: 1794.3665\n",
      "Epoch 429/500\n",
      "20/20 [==============================] - 0s 5ms/step - loss: 179.7310 - val_loss: 1794.3665\n",
      "Epoch 430/500\n",
      "20/20 [==============================] - 0s 4ms/step - loss: 179.7312 - val_loss: 1794.3662\n",
      "Epoch 431/500\n",
      "20/20 [==============================] - 0s 4ms/step - loss: 179.7312 - val_loss: 1794.3660\n",
      "Epoch 432/500\n",
      "20/20 [==============================] - 0s 4ms/step - loss: 179.7314 - val_loss: 1794.3662\n",
      "Epoch 433/500\n",
      "20/20 [==============================] - 0s 4ms/step - loss: 179.7315 - val_loss: 1794.3656\n",
      "Epoch 434/500\n",
      "20/20 [==============================] - 0s 4ms/step - loss: 179.7316 - val_loss: 1794.3652\n",
      "Epoch 435/500\n",
      "20/20 [==============================] - 0s 4ms/step - loss: 179.7317 - val_loss: 1794.3645\n",
      "Epoch 436/500\n",
      "20/20 [==============================] - 0s 10ms/step - loss: 179.7318 - val_loss: 1794.3640\n",
      "Epoch 437/500\n",
      "20/20 [==============================] - 0s 6ms/step - loss: 179.7319 - val_loss: 1794.3645\n",
      "Epoch 438/500\n",
      "20/20 [==============================] - 0s 5ms/step - loss: 179.7320 - val_loss: 1794.3636\n",
      "Epoch 439/500\n",
      "20/20 [==============================] - 0s 5ms/step - loss: 179.7321 - val_loss: 1794.3635\n",
      "Epoch 440/500\n",
      "20/20 [==============================] - 0s 4ms/step - loss: 179.7322 - val_loss: 1794.3633\n",
      "Epoch 441/500\n",
      "20/20 [==============================] - 0s 4ms/step - loss: 179.7322 - val_loss: 1794.3629\n",
      "Epoch 442/500\n",
      "20/20 [==============================] - 0s 4ms/step - loss: 179.7324 - val_loss: 1794.3629\n",
      "Epoch 443/500\n",
      "20/20 [==============================] - 0s 5ms/step - loss: 179.7324 - val_loss: 1794.3625\n",
      "Epoch 444/500\n",
      "20/20 [==============================] - 0s 4ms/step - loss: 179.7325 - val_loss: 1794.3625\n",
      "Epoch 445/500\n",
      "20/20 [==============================] - 0s 4ms/step - loss: 179.7326 - val_loss: 1794.3625\n",
      "Epoch 446/500\n",
      "20/20 [==============================] - 0s 4ms/step - loss: 179.7326 - val_loss: 1794.3621\n",
      "Epoch 447/500\n",
      "20/20 [==============================] - 0s 5ms/step - loss: 179.7327 - val_loss: 1794.3621\n",
      "Epoch 448/500\n",
      "20/20 [==============================] - 0s 6ms/step - loss: 179.7328 - val_loss: 1794.3621\n",
      "Epoch 449/500\n",
      "20/20 [==============================] - 0s 5ms/step - loss: 179.7329 - val_loss: 1794.3617\n",
      "Epoch 450/500\n",
      "20/20 [==============================] - 0s 4ms/step - loss: 179.7331 - val_loss: 1794.3619\n",
      "Epoch 451/500\n",
      "20/20 [==============================] - 0s 4ms/step - loss: 179.7331 - val_loss: 1794.3617\n",
      "Epoch 452/500\n",
      "20/20 [==============================] - 0s 4ms/step - loss: 179.7331 - val_loss: 1794.3606\n",
      "Epoch 453/500\n",
      "20/20 [==============================] - 0s 4ms/step - loss: 179.7332 - val_loss: 1794.3606\n",
      "Epoch 454/500\n",
      "20/20 [==============================] - 0s 4ms/step - loss: 179.7333 - val_loss: 1794.3606\n",
      "Epoch 455/500\n",
      "20/20 [==============================] - 0s 4ms/step - loss: 179.7333 - val_loss: 1794.3601\n",
      "Epoch 456/500\n",
      "20/20 [==============================] - 0s 4ms/step - loss: 179.7334 - val_loss: 1794.3601\n",
      "Epoch 457/500\n",
      "20/20 [==============================] - 0s 4ms/step - loss: 179.7336 - val_loss: 1794.3601\n",
      "Epoch 458/500\n",
      "20/20 [==============================] - 0s 4ms/step - loss: 179.7336 - val_loss: 1794.3600\n",
      "Epoch 459/500\n",
      "20/20 [==============================] - 0s 4ms/step - loss: 179.7336 - val_loss: 1794.3597\n",
      "Epoch 460/500\n",
      "20/20 [==============================] - 0s 4ms/step - loss: 179.7337 - val_loss: 1794.3597\n",
      "Epoch 461/500\n",
      "20/20 [==============================] - 0s 4ms/step - loss: 179.7337 - val_loss: 1794.3594\n",
      "Epoch 462/500\n",
      "20/20 [==============================] - 0s 12ms/step - loss: 179.7338 - val_loss: 1794.3594\n",
      "Epoch 463/500\n",
      "20/20 [==============================] - 0s 7ms/step - loss: 179.7339 - val_loss: 1794.3582\n",
      "Epoch 464/500\n",
      "20/20 [==============================] - 0s 6ms/step - loss: 179.7339 - val_loss: 1794.3578\n",
      "Epoch 465/500\n",
      "20/20 [==============================] - 0s 6ms/step - loss: 179.7341 - val_loss: 1794.3582\n",
      "Epoch 466/500\n",
      "20/20 [==============================] - 0s 7ms/step - loss: 179.7341 - val_loss: 1794.3582\n",
      "Epoch 467/500\n",
      "20/20 [==============================] - 0s 7ms/step - loss: 179.7342 - val_loss: 1794.3590\n",
      "Epoch 468/500\n",
      "20/20 [==============================] - 0s 6ms/step - loss: 179.7342 - val_loss: 1794.3586\n",
      "Epoch 469/500\n",
      "20/20 [==============================] - 0s 5ms/step - loss: 179.7342 - val_loss: 1794.3580\n",
      "Epoch 470/500\n",
      "20/20 [==============================] - 0s 5ms/step - loss: 179.7343 - val_loss: 1794.3574\n",
      "Epoch 471/500\n",
      "20/20 [==============================] - 0s 5ms/step - loss: 179.7343 - val_loss: 1794.3564\n",
      "Epoch 472/500\n",
      "20/20 [==============================] - 0s 5ms/step - loss: 179.7345 - val_loss: 1794.3571\n",
      "Epoch 473/500\n",
      "20/20 [==============================] - 0s 5ms/step - loss: 179.7345 - val_loss: 1794.3568\n",
      "Epoch 474/500\n",
      "20/20 [==============================] - 0s 5ms/step - loss: 179.7345 - val_loss: 1794.3567\n",
      "Epoch 475/500\n",
      "20/20 [==============================] - 0s 6ms/step - loss: 179.7345 - val_loss: 1794.3558\n",
      "Epoch 476/500\n",
      "20/20 [==============================] - 0s 5ms/step - loss: 179.7346 - val_loss: 1794.3549\n",
      "Epoch 477/500\n",
      "20/20 [==============================] - 0s 6ms/step - loss: 179.7346 - val_loss: 1794.3545\n",
      "Epoch 478/500\n",
      "20/20 [==============================] - 0s 6ms/step - loss: 179.7347 - val_loss: 1794.3542\n",
      "Epoch 479/500\n",
      "20/20 [==============================] - 0s 5ms/step - loss: 179.7347 - val_loss: 1794.3545\n",
      "Epoch 480/500\n",
      "20/20 [==============================] - 0s 5ms/step - loss: 179.7348 - val_loss: 1794.3547\n",
      "Epoch 481/500\n",
      "20/20 [==============================] - 0s 6ms/step - loss: 179.7348 - val_loss: 1794.3542\n",
      "Epoch 482/500\n",
      "20/20 [==============================] - 0s 6ms/step - loss: 179.7348 - val_loss: 1794.3542\n",
      "Epoch 483/500\n",
      "20/20 [==============================] - 0s 14ms/step - loss: 179.7349 - val_loss: 1794.3541\n",
      "Epoch 484/500\n",
      "20/20 [==============================] - 0s 7ms/step - loss: 179.7350 - val_loss: 1794.3539\n",
      "Epoch 485/500\n",
      "20/20 [==============================] - 0s 7ms/step - loss: 179.7350 - val_loss: 1794.3538\n",
      "Epoch 486/500\n",
      "20/20 [==============================] - 0s 6ms/step - loss: 179.7350 - val_loss: 1794.3535\n",
      "Epoch 487/500\n",
      "20/20 [==============================] - 0s 6ms/step - loss: 179.7350 - val_loss: 1794.3531\n",
      "Epoch 488/500\n",
      "20/20 [==============================] - 0s 6ms/step - loss: 179.7350 - val_loss: 1794.3519\n",
      "Epoch 489/500\n",
      "20/20 [==============================] - 0s 5ms/step - loss: 179.7351 - val_loss: 1794.3516\n",
      "Epoch 490/500\n",
      "20/20 [==============================] - 0s 5ms/step - loss: 179.7352 - val_loss: 1794.3516\n",
      "Epoch 491/500\n",
      "20/20 [==============================] - 0s 5ms/step - loss: 179.7352 - val_loss: 1794.3516\n",
      "Epoch 492/500\n",
      "20/20 [==============================] - 0s 5ms/step - loss: 179.7352 - val_loss: 1794.3512\n",
      "Epoch 493/500\n",
      "20/20 [==============================] - 0s 7ms/step - loss: 179.7353 - val_loss: 1794.3516\n",
      "Epoch 494/500\n",
      "20/20 [==============================] - 0s 6ms/step - loss: 179.7353 - val_loss: 1794.3516\n",
      "Epoch 495/500\n",
      "20/20 [==============================] - 0s 6ms/step - loss: 179.7353 - val_loss: 1794.3512\n",
      "Epoch 496/500\n",
      "20/20 [==============================] - 0s 6ms/step - loss: 179.7354 - val_loss: 1794.3508\n",
      "Epoch 497/500\n",
      "20/20 [==============================] - 0s 6ms/step - loss: 179.7354 - val_loss: 1794.3502\n",
      "Epoch 498/500\n",
      "20/20 [==============================] - 0s 6ms/step - loss: 179.7354 - val_loss: 1794.3496\n",
      "Epoch 499/500\n",
      "20/20 [==============================] - 0s 5ms/step - loss: 179.7354 - val_loss: 1794.3492\n",
      "Epoch 500/500\n",
      "20/20 [==============================] - 0s 6ms/step - loss: 179.7355 - val_loss: 1794.3492\n"
     ]
    }
   ],
   "source": [
    "C0 = tf.Variable(89.3180, name=\"C0\", trainable=True, dtype=tf.float32)\n",
    "K0 = tf.Variable(-0.0010, name=\"K0\", trainable=True, dtype=tf.float32)\n",
    "K1 = tf.Variable(0.0001, name=\"K1\", trainable=True, dtype=tf.float32)\n",
    "a = tf.Variable(0.0000, name=\"a\", trainable=True, dtype=tf.float32)\n",
    "b = tf.Variable(-0.0204, name=\"b\", trainable=True, dtype=tf.float32)\n",
    "c = tf.Variable(2.2194, name=\"c\", trainable=True, dtype=tf.float32)\n",
    "\n",
    "splitr = 0.8\n",
    "\n",
    "\n",
    "def loss_fn(y_true, y_pred):\n",
    "    squared_difference = tf.square(y_true[:, 0] - y_pred[:, 0])\n",
    "    #squared_difference2 = tf.square(y_true[:, 2]-y_pred[:, 2])\n",
    "    #squared_difference1 = tf.square(y_true[:, 1]-y_pred[:, 1])\n",
    "    epsilon = 1\n",
    "    squared_difference3 = tf.square(\n",
    "        y_pred[:, 1] - (\n",
    "            y_pred[:, 0] * (\n",
    "                K0 - K1 * (\n",
    "                    9 * a * tf.math.log((y_pred[:, 0] + epsilon) / C0) / (K0 - K1 * c)**2 +\n",
    "                    4 * b * tf.math.log((y_pred[:, 0] + epsilon) / C0) / (K0 - K1 * c) + c\n",
    "                )\n",
    "            )\n",
    "        )\n",
    "    )\n",
    "    return tf.reduce_mean(squared_difference, axis=-1) + 0.2*tf.reduce_mean(squared_difference3, axis=-1)\n",
    "model = Sequential()\n",
    "model.add(LSTM(100, input_shape=(trainX.shape[1], trainX.shape[2])))\n",
    "model.add(Dense(60))\n",
    "model.compile(loss=loss_fn, optimizer='adam')\n",
    "history = model.fit(trainX[:int(splitr*trainX.shape[0])], trainy[:int(splitr*trainX.shape[0])], epochs=500, batch_size=64, validation_data=(trainX[int(splitr*trainX.shape[0]):trainX.shape[0]], trainy[int(splitr*trainX.shape[0]):trainX.shape[0]]), shuffle=False)"
   ]
  },
  {
   "cell_type": "code",
   "execution_count": 19,
   "metadata": {
    "colab": {
     "base_uri": "https://localhost:8080/"
    },
    "id": "yJL101rPyuoT",
    "outputId": "239ff2b1-c186-423a-d316-939dfdd7c793"
   },
   "outputs": [
    {
     "name": "stdout",
     "output_type": "stream",
     "text": [
      "1/1 [==============================] - 1s 558ms/step\n"
     ]
    }
   ],
   "source": [
    "forecast_without_mc = forecastX\n",
    "yhat_without_mc = model.predict(forecast_without_mc) # Step Ahead Prediction\n",
    "forecast_without_mc = forecast_without_mc.reshape((forecast_without_mc.shape[0], forecast_without_mc.shape[2])) # Historical Input"
   ]
  },
  {
   "cell_type": "code",
   "execution_count": 20,
   "metadata": {
    "colab": {
     "base_uri": "https://localhost:8080/"
    },
    "id": "g9dQELcJ8wbp",
    "outputId": "4dc7671b-b1a8-48d5-8744-a86f98446109"
   },
   "outputs": [
    {
     "data": {
      "text/plain": [
       "(1, 1, 251)"
      ]
     },
     "execution_count": 20,
     "metadata": {},
     "output_type": "execute_result"
    }
   ],
   "source": [
    "forecastX.shape"
   ]
  },
  {
   "cell_type": "code",
   "execution_count": 21,
   "metadata": {
    "colab": {
     "base_uri": "https://localhost:8080/"
    },
    "id": "IS2kyIKG1Kbr",
    "outputId": "f31b3485-8e26-452f-9298-ea8bf7e80ad1"
   },
   "outputs": [
    {
     "data": {
      "text/plain": [
       "(1, 251)"
      ]
     },
     "execution_count": 21,
     "metadata": {},
     "output_type": "execute_result"
    }
   ],
   "source": [
    "forecast_without_mc.shape"
   ]
  },
  {
   "cell_type": "code",
   "execution_count": 22,
   "metadata": {
    "id": "0u6VIzaDyuoT"
   },
   "outputs": [],
   "source": [
    "inv_yhat_without_mc = np.concatenate((forecast_without_mc, yhat_without_mc), axis=1) # Concatenation of predicted values with Historical Data\n",
    "#inv_yhat_without_mc = scaler.inverse_transform(inv_yhat_without_mc) # Transform labels back to original encoding"
   ]
  },
  {
   "cell_type": "code",
   "execution_count": 23,
   "metadata": {
    "colab": {
     "base_uri": "https://localhost:8080/"
    },
    "id": "EUEcw0LX07oU",
    "outputId": "cfc32397-9c37-4b43-d087-584bb31c3dcc"
   },
   "outputs": [
    {
     "data": {
      "text/plain": [
       "(1, 311)"
      ]
     },
     "execution_count": 23,
     "metadata": {},
     "output_type": "execute_result"
    }
   ],
   "source": [
    "inv_yhat_without_mc.shape"
   ]
  },
  {
   "cell_type": "code",
   "execution_count": 24,
   "metadata": {
    "id": "31OWVbSh_305"
   },
   "outputs": [],
   "source": [
    "fforecast = inv_yhat_without_mc[:,-300:]"
   ]
  },
  {
   "cell_type": "code",
   "execution_count": 25,
   "metadata": {},
   "outputs": [
    {
     "data": {
      "text/plain": [
       "(1, 300)"
      ]
     },
     "execution_count": 25,
     "metadata": {},
     "output_type": "execute_result"
    }
   ],
   "source": [
    "fforecast.shape"
   ]
  },
  {
   "cell_type": "code",
   "execution_count": 26,
   "metadata": {
    "id": "BlpGH2FOAiRF"
   },
   "outputs": [],
   "source": [
    "final_forecast = fforecast[:,0:300:3]"
   ]
  },
  {
   "cell_type": "code",
   "execution_count": 27,
   "metadata": {},
   "outputs": [
    {
     "data": {
      "text/plain": [
       "(1, 300)"
      ]
     },
     "execution_count": 27,
     "metadata": {},
     "output_type": "execute_result"
    }
   ],
   "source": [
    "fforecast.shape"
   ]
  },
  {
   "cell_type": "code",
   "execution_count": 28,
   "metadata": {
    "id": "CXkgkj_LBk_t"
   },
   "outputs": [],
   "source": [
    "# code to replace all negative value with 0\n",
    "final_forecast[final_forecast<0] = 0"
   ]
  },
  {
   "cell_type": "code",
   "execution_count": 29,
   "metadata": {},
   "outputs": [
    {
     "data": {
      "text/plain": [
       "array([[7.58341737e+01, 7.53913632e+01, 7.48367414e+01, 7.42821195e+01,\n",
       "        7.85414047e+01, 3.89988650e-02, 0.00000000e+00, 0.00000000e+00,\n",
       "        0.00000000e+00, 0.00000000e+00, 0.00000000e+00, 3.91098469e-01,\n",
       "        3.44057649e-01, 7.18376961e+01, 7.18049230e+01, 7.17721499e+01,\n",
       "        7.17393768e+01, 7.17066036e+01, 7.70233660e+01, 7.68089636e+01,\n",
       "        7.65064426e+01, 7.62039216e+01, 7.59014006e+01, 7.55146125e+01,\n",
       "        7.49599907e+01, 7.44053688e+01, 7.38507470e+01, 2.71232130e-01,\n",
       "        0.00000000e+00, 7.60246499e+01, 7.57221289e+01, 7.51859477e+01,\n",
       "        7.46313259e+01, 7.40767040e+01, 7.35220822e+01, 7.31344841e+01,\n",
       "        7.27538119e+01, 7.23731396e+01, 0.00000000e+00, 1.61724660e-01,\n",
       "        0.00000000e+00, 0.00000000e+00, 6.60190220e-01, 4.40635380e-01,\n",
       "        0.00000000e+00, 1.49123940e-01, 0.00000000e+00, 7.18158473e+01,\n",
       "        7.17830742e+01, 7.17503011e+01, 7.17175280e+01, 7.70821895e+01,\n",
       "        7.69057189e+01, 7.66072829e+01, 7.63047619e+01, 7.60022409e+01,\n",
       "        7.56994865e+01, 7.51448646e+01, 7.45902428e+01, 7.40356209e+01,\n",
       "        0.00000000e+00, 5.77498790e-01, 7.61254902e+01, 7.58229692e+01,\n",
       "        7.53708217e+01, 7.48161998e+01, 7.42615780e+01, 7.37069561e+01,\n",
       "        7.32613749e+01, 7.28807026e+01, 7.25000304e+01, 9.90242900e-01,\n",
       "        3.66189450e-01, 5.78348122e+01, 0.00000000e+00, 5.57227970e-01,\n",
       "        3.87845520e-01, 0.00000000e+00, 0.00000000e+00, 0.00000000e+00,\n",
       "        6.45871735e+01, 1.16994157e-02, 0.00000000e+00, 0.00000000e+00,\n",
       "        1.24461308e-01, 3.54340434e-01, 2.21085653e-01, 0.00000000e+00,\n",
       "        0.00000000e+00, 0.00000000e+00, 5.27898073e-01, 0.00000000e+00,\n",
       "        0.00000000e+00, 2.08498463e-01, 0.00000000e+00, 0.00000000e+00,\n",
       "        1.24603403e+00, 4.82827842e-01, 0.00000000e+00, 0.00000000e+00]])"
      ]
     },
     "execution_count": 29,
     "metadata": {},
     "output_type": "execute_result"
    }
   ],
   "source": [
    "final_forecast"
   ]
  },
  {
   "cell_type": "code",
   "execution_count": 30,
   "metadata": {},
   "outputs": [
    {
     "data": {
      "text/plain": [
       "(1, 100)"
      ]
     },
     "execution_count": 30,
     "metadata": {},
     "output_type": "execute_result"
    }
   ],
   "source": [
    "final_forecast.shape"
   ]
  },
  {
   "cell_type": "code",
   "execution_count": 31,
   "metadata": {},
   "outputs": [
    {
     "data": {
      "text/plain": [
       "(100,)"
      ]
     },
     "execution_count": 31,
     "metadata": {},
     "output_type": "execute_result"
    }
   ],
   "source": [
    "test.shape"
   ]
  },
  {
   "cell_type": "code",
   "execution_count": 32,
   "metadata": {},
   "outputs": [],
   "source": [
    "training_set = np.array(training_set)\n",
    "test = np.array(test)\n",
    "final_forecast = np.array(final_forecast.squeeze(0))"
   ]
  },
  {
   "cell_type": "code",
   "execution_count": 33,
   "metadata": {},
   "outputs": [
    {
     "data": {
      "text/plain": [
       "array([66.01446078, 66.00465686, 65.99485294, 65.98504902, 65.9752451 ,\n",
       "       65.96544118, 65.95563725, 65.94583333, 65.93602941, 65.92622549,\n",
       "       65.91642157, 65.90661765, 65.89681373, 65.8870098 , 65.87720588,\n",
       "       65.86740196, 65.85759804, 65.84779412, 65.8379902 , 65.82818627,\n",
       "       65.81838235, 65.80857843, 65.79877451, 65.78897059, 65.77916667,\n",
       "       65.76936275, 65.75955882, 65.7497549 , 65.73995098, 65.73014706,\n",
       "       65.72034314, 65.71053922, 65.70073529, 65.69093137, 65.68112745,\n",
       "       65.67132353, 65.66151961, 65.65171569, 65.64191176, 65.63210784,\n",
       "       65.62230392, 65.6125    , 65.60269608, 65.59289216, 65.58308824,\n",
       "       65.57328431, 65.56348039, 65.55367647, 65.54387255, 65.53406863,\n",
       "       65.52426471, 65.51446078, 65.50465686, 65.49485294, 65.48504902,\n",
       "       65.4752451 , 65.46544118, 65.45563725, 65.44583333, 65.43602941,\n",
       "       65.42622549, 65.41642157, 65.40661765, 65.39681373, 65.3870098 ,\n",
       "       65.37720588, 65.36740196, 65.35759804, 65.34779412, 65.3379902 ,\n",
       "       65.32818627, 65.31838235, 65.30857843, 65.29877451, 65.28897059,\n",
       "       65.27916667, 65.26936275, 65.25955882, 65.2497549 , 65.23995098,\n",
       "       65.23014706, 65.22034314, 65.21053922, 65.20073529, 65.19292205,\n",
       "       65.18527021, 65.17761836, 65.16996652, 65.16231468, 65.15466284,\n",
       "       65.147011  , 65.13935916, 65.13170732, 65.12405548, 65.11640363,\n",
       "       65.10875179, 65.10109995, 65.09344811, 65.08579627, 65.07814443])"
      ]
     },
     "execution_count": 33,
     "metadata": {},
     "output_type": "execute_result"
    }
   ],
   "source": [
    "test"
   ]
  },
  {
   "cell_type": "code",
   "execution_count": 34,
   "metadata": {},
   "outputs": [
    {
     "data": {
      "text/plain": [
       "(100,)"
      ]
     },
     "execution_count": 34,
     "metadata": {},
     "output_type": "execute_result"
    }
   ],
   "source": [
    "test.shape"
   ]
  },
  {
   "cell_type": "code",
   "execution_count": 35,
   "metadata": {},
   "outputs": [
    {
     "data": {
      "text/plain": [
       "(100,)"
      ]
     },
     "execution_count": 35,
     "metadata": {},
     "output_type": "execute_result"
    }
   ],
   "source": [
    "final_forecast.shape"
   ]
  },
  {
   "cell_type": "code",
   "execution_count": 36,
   "metadata": {},
   "outputs": [
    {
     "data": {
      "text/plain": [
       "(100,)"
      ]
     },
     "execution_count": 36,
     "metadata": {},
     "output_type": "execute_result"
    }
   ],
   "source": [
    "test.shape"
   ]
  },
  {
   "cell_type": "code",
   "execution_count": 37,
   "metadata": {},
   "outputs": [
    {
     "name": "stdout",
     "output_type": "stream",
     "text": [
      "45.65739048612566\n",
      "35.818861254098245\n"
     ]
    }
   ],
   "source": [
    "import math\n",
    "MSE = np.square(np.subtract(np.array(test),np.array(final_forecast))).mean()   \n",
    "rsme = math.sqrt(MSE)\n",
    "print(rsme)  \n",
    "MAE = np.abs(np.subtract(np.array(test),np.array(final_forecast))).mean()   \n",
    "mae = MAE\n",
    "print(mae)"
   ]
  }
 ],
 "metadata": {
  "colab": {
   "provenance": []
  },
  "kernelspec": {
   "display_name": "Python 3",
   "language": "python",
   "name": "python3"
  },
  "language_info": {
   "codemirror_mode": {
    "name": "ipython",
    "version": 3
   },
   "file_extension": ".py",
   "mimetype": "text/x-python",
   "name": "python",
   "nbconvert_exporter": "python",
   "pygments_lexer": "ipython3",
   "version": "3.9.13"
  }
 },
 "nbformat": 4,
 "nbformat_minor": 0
}
