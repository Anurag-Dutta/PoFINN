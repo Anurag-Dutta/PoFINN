{
 "cells": [
  {
   "cell_type": "markdown",
   "metadata": {
    "id": "pCGKeZ2gyuoQ"
   },
   "source": [
    "_Importing Required Libraries_"
   ]
  },
  {
   "cell_type": "code",
   "execution_count": 1,
   "metadata": {
    "colab": {
     "base_uri": "https://localhost:8080/"
    },
    "id": "A-6LN-zXiLcM",
    "outputId": "4de610a4-f8b8-4f49-c6c0-89de299ccedc"
   },
   "outputs": [
    {
     "name": "stdout",
     "output_type": "stream",
     "text": [
      "Requirement already satisfied: hampel in c:\\users\\anurag dutta\\appdata\\local\\packages\\pythonsoftwarefoundation.python.3.9_qbz5n2kfra8p0\\localcache\\local-packages\\python39\\site-packages (0.0.5)\n",
      "Requirement already satisfied: numpy in c:\\users\\anurag dutta\\appdata\\local\\packages\\pythonsoftwarefoundation.python.3.9_qbz5n2kfra8p0\\localcache\\local-packages\\python39\\site-packages (from hampel) (1.26.4)\n",
      "Requirement already satisfied: pandas in c:\\users\\anurag dutta\\appdata\\local\\packages\\pythonsoftwarefoundation.python.3.9_qbz5n2kfra8p0\\localcache\\local-packages\\python39\\site-packages (from hampel) (1.5.2)\n",
      "Requirement already satisfied: python-dateutil>=2.8.1 in c:\\users\\anurag dutta\\appdata\\local\\packages\\pythonsoftwarefoundation.python.3.9_qbz5n2kfra8p0\\localcache\\local-packages\\python39\\site-packages (from pandas->hampel) (2.8.2)\n",
      "Requirement already satisfied: pytz>=2020.1 in c:\\users\\anurag dutta\\appdata\\local\\packages\\pythonsoftwarefoundation.python.3.9_qbz5n2kfra8p0\\localcache\\local-packages\\python39\\site-packages (from pandas->hampel) (2023.3.post1)\n",
      "Requirement already satisfied: six>=1.5 in c:\\users\\anurag dutta\\appdata\\local\\packages\\pythonsoftwarefoundation.python.3.9_qbz5n2kfra8p0\\localcache\\local-packages\\python39\\site-packages (from python-dateutil>=2.8.1->pandas->hampel) (1.16.0)\n",
      "Note: you may need to restart the kernel to use updated packages.\n"
     ]
    },
    {
     "name": "stderr",
     "output_type": "stream",
     "text": [
      "\n",
      "[notice] A new release of pip is available: 24.2 -> 24.3.1\n",
      "[notice] To update, run: C:\\Users\\Anurag Dutta\\AppData\\Local\\Microsoft\\WindowsApps\\PythonSoftwareFoundation.Python.3.9_qbz5n2kfra8p0\\python.exe -m pip install --upgrade pip\n"
     ]
    }
   ],
   "source": [
    "pip install hampel"
   ]
  },
  {
   "cell_type": "code",
   "execution_count": 2,
   "metadata": {
    "id": "By_d9uXpaFvZ"
   },
   "outputs": [],
   "source": [
    "from keras.models import Sequential\n",
    "from keras.layers import Dense\n",
    "from keras.layers import LSTM\n",
    "from keras.layers import Dropout\n",
    "import keras\n",
    "import tensorflow as tf\n",
    "from hampel import hampel\n",
    "import numpy as np\n",
    "import matplotlib.pyplot as plt\n",
    "import pandas as pd\n",
    "from sklearn.preprocessing import MinMaxScaler\n",
    "from sklearn.metrics import mean_squared_error, mean_absolute_error\n",
    "from math import sqrt\n",
    "from matplotlib import pyplot\n",
    "from numpy import array"
   ]
  },
  {
   "cell_type": "markdown",
   "metadata": {
    "id": "JyOjBMFayuoR"
   },
   "source": [
    "## Pretraining"
   ]
  },
  {
   "cell_type": "markdown",
   "metadata": {
    "id": "-5QqIY_GyuoR"
   },
   "source": [
    "The `capa_intermittency.dat` feeds the model with the dynamics of the Capacitor"
   ]
  },
  {
   "cell_type": "code",
   "execution_count": 3,
   "metadata": {
    "id": "9dV4a8yfyuoR"
   },
   "outputs": [],
   "source": [
    "data = np.genfromtxt('capa_intermittency.dat')\n",
    "training_set = pd.DataFrame(data).reset_index(drop=True)\n",
    "training_set = training_set.iloc[:,0]"
   ]
  },
  {
   "cell_type": "markdown",
   "metadata": {
    "id": "i7easoxByuoR"
   },
   "source": [
    "## Computing the Gradient"
   ]
  },
  {
   "cell_type": "markdown",
   "metadata": {
    "id": "5SnyolJTyuoR"
   },
   "source": [
    "_Calculating the value of_ $\\frac{dx}{dt}$"
   ]
  },
  {
   "cell_type": "code",
   "execution_count": 4,
   "metadata": {
    "colab": {
     "base_uri": "https://localhost:8080/"
    },
    "id": "wmIbVfIvyuoR",
    "outputId": "aa4e3136-c854-465d-d2e9-81cfd546e440"
   },
   "outputs": [
    {
     "name": "stdout",
     "output_type": "stream",
     "text": [
      "1.0\n",
      "1        0.000298\n",
      "2        0.000298\n",
      "3        0.000297\n",
      "4        0.000297\n",
      "5        0.000297\n",
      "           ...   \n",
      "9996     0.000018\n",
      "9997     0.000018\n",
      "9998     0.000018\n",
      "9999     0.000018\n",
      "10000    0.000018\n",
      "Name: 0, Length: 10000, dtype: float64\n"
     ]
    }
   ],
   "source": [
    "t_diff = 1\n",
    "print(training_set.max())\n",
    "gradient_t = (training_set.diff()/t_diff).iloc[1:] # dx/dt\n",
    "print(gradient_t)"
   ]
  },
  {
   "cell_type": "markdown",
   "metadata": {
    "id": "_2eVeeoxyuoS"
   },
   "source": [
    "## Loading Datasets"
   ]
  },
  {
   "cell_type": "code",
   "execution_count": 5,
   "metadata": {
    "id": "0J-NKyIEyuoS"
   },
   "outputs": [
    {
     "data": {
      "text/plain": [
       "0       92.600000\n",
       "1       92.387115\n",
       "2       92.174230\n",
       "3       91.961345\n",
       "4       91.748459\n",
       "          ...    \n",
       "1445    70.094444\n",
       "1446    70.081373\n",
       "1447    70.068301\n",
       "1448    70.055229\n",
       "1449    70.042157\n",
       "Name: C7, Length: 1450, dtype: float64"
      ]
     },
     "execution_count": 5,
     "metadata": {},
     "output_type": "execute_result"
    }
   ],
   "source": [
    "data = pd.read_csv(\"c7_interpolated_1350_100.csv\")\n",
    "training_set = data.iloc[:, 1]\n",
    "training_set"
   ]
  },
  {
   "cell_type": "code",
   "execution_count": 6,
   "metadata": {
    "colab": {
     "base_uri": "https://localhost:8080/"
    },
    "id": "-CbNUhJ74UqF",
    "outputId": "20f562d8-8247-49cc-b9c3-00eca5e13e2d"
   },
   "outputs": [
    {
     "data": {
      "text/plain": [
       "0       92.600000\n",
       "1       92.387115\n",
       "2       92.174230\n",
       "3       91.961345\n",
       "4       91.748459\n",
       "          ...    \n",
       "1345     0.000000\n",
       "1346     0.000000\n",
       "1347     0.428930\n",
       "1348     0.000000\n",
       "1349     0.409462\n",
       "Name: C7, Length: 1350, dtype: float64"
      ]
     },
     "execution_count": 6,
     "metadata": {},
     "output_type": "execute_result"
    }
   ],
   "source": [
    "test = training_set.tail(100)\n",
    "test\n",
    "training_set = training_set.head(1350)\n",
    "training_set"
   ]
  },
  {
   "cell_type": "code",
   "execution_count": 7,
   "metadata": {
    "colab": {
     "base_uri": "https://localhost:8080/"
    },
    "id": "X0TwTcq0yuoS",
    "outputId": "37252ed8-d88e-4044-fa7a-922411990b5b"
   },
   "outputs": [
    {
     "name": "stdout",
     "output_type": "stream",
     "text": [
      "0       0.000298\n",
      "1       0.000298\n",
      "2       0.000297\n",
      "3       0.000297\n",
      "4       0.000297\n",
      "          ...   \n",
      "9995    0.000018\n",
      "9996    0.000018\n",
      "9997    0.000018\n",
      "9998    0.000018\n",
      "9999    0.000018\n",
      "Name: 0, Length: 10000, dtype: float64\n"
     ]
    }
   ],
   "source": [
    "training_set = training_set.reset_index(drop=True)\n",
    "gradient_t = gradient_t.reset_index(drop=True)\n",
    "print(gradient_t)"
   ]
  },
  {
   "cell_type": "code",
   "execution_count": 8,
   "metadata": {
    "id": "O2biznZQyuoS"
   },
   "outputs": [],
   "source": [
    "df = pd.concat((training_set, gradient_t), axis=1)\n",
    "df.columns = ['y_t', 'grad_t']"
   ]
  },
  {
   "cell_type": "code",
   "execution_count": 9,
   "metadata": {
    "colab": {
     "base_uri": "https://localhost:8080/",
     "height": 423
    },
    "id": "sk_a5v3tyuoS",
    "outputId": "17563625-e550-45ae-faab-fafa353e44da"
   },
   "outputs": [
    {
     "data": {
      "text/html": [
       "<div>\n",
       "<style scoped>\n",
       "    .dataframe tbody tr th:only-of-type {\n",
       "        vertical-align: middle;\n",
       "    }\n",
       "\n",
       "    .dataframe tbody tr th {\n",
       "        vertical-align: top;\n",
       "    }\n",
       "\n",
       "    .dataframe thead th {\n",
       "        text-align: right;\n",
       "    }\n",
       "</style>\n",
       "<table border=\"1\" class=\"dataframe\">\n",
       "  <thead>\n",
       "    <tr style=\"text-align: right;\">\n",
       "      <th></th>\n",
       "      <th>y_t</th>\n",
       "      <th>grad_t</th>\n",
       "    </tr>\n",
       "  </thead>\n",
       "  <tbody>\n",
       "    <tr>\n",
       "      <th>0</th>\n",
       "      <td>92.600000</td>\n",
       "      <td>0.000298</td>\n",
       "    </tr>\n",
       "    <tr>\n",
       "      <th>1</th>\n",
       "      <td>92.387115</td>\n",
       "      <td>0.000298</td>\n",
       "    </tr>\n",
       "    <tr>\n",
       "      <th>2</th>\n",
       "      <td>92.174230</td>\n",
       "      <td>0.000297</td>\n",
       "    </tr>\n",
       "    <tr>\n",
       "      <th>3</th>\n",
       "      <td>91.961345</td>\n",
       "      <td>0.000297</td>\n",
       "    </tr>\n",
       "    <tr>\n",
       "      <th>4</th>\n",
       "      <td>91.748459</td>\n",
       "      <td>0.000297</td>\n",
       "    </tr>\n",
       "    <tr>\n",
       "      <th>...</th>\n",
       "      <td>...</td>\n",
       "      <td>...</td>\n",
       "    </tr>\n",
       "    <tr>\n",
       "      <th>9995</th>\n",
       "      <td>NaN</td>\n",
       "      <td>0.000018</td>\n",
       "    </tr>\n",
       "    <tr>\n",
       "      <th>9996</th>\n",
       "      <td>NaN</td>\n",
       "      <td>0.000018</td>\n",
       "    </tr>\n",
       "    <tr>\n",
       "      <th>9997</th>\n",
       "      <td>NaN</td>\n",
       "      <td>0.000018</td>\n",
       "    </tr>\n",
       "    <tr>\n",
       "      <th>9998</th>\n",
       "      <td>NaN</td>\n",
       "      <td>0.000018</td>\n",
       "    </tr>\n",
       "    <tr>\n",
       "      <th>9999</th>\n",
       "      <td>NaN</td>\n",
       "      <td>0.000018</td>\n",
       "    </tr>\n",
       "  </tbody>\n",
       "</table>\n",
       "<p>10000 rows × 2 columns</p>\n",
       "</div>"
      ],
      "text/plain": [
       "            y_t    grad_t\n",
       "0     92.600000  0.000298\n",
       "1     92.387115  0.000298\n",
       "2     92.174230  0.000297\n",
       "3     91.961345  0.000297\n",
       "4     91.748459  0.000297\n",
       "...         ...       ...\n",
       "9995        NaN  0.000018\n",
       "9996        NaN  0.000018\n",
       "9997        NaN  0.000018\n",
       "9998        NaN  0.000018\n",
       "9999        NaN  0.000018\n",
       "\n",
       "[10000 rows x 2 columns]"
      ]
     },
     "execution_count": 9,
     "metadata": {},
     "output_type": "execute_result"
    }
   ],
   "source": [
    "df"
   ]
  },
  {
   "cell_type": "markdown",
   "metadata": {
    "id": "-5esyHu5aFvg"
   },
   "source": [
    "## Plot of the External Forcing from Chaotic Differential Equation"
   ]
  },
  {
   "cell_type": "code",
   "execution_count": 10,
   "metadata": {
    "colab": {
     "base_uri": "https://localhost:8080/",
     "height": 447
    },
    "id": "hGnE43tOh-4p",
    "outputId": "fc396503-b624-4fa5-dfbe-f460207405c6"
   },
   "outputs": [
    {
     "data": {
      "text/plain": [
       "<Axes: >"
      ]
     },
     "execution_count": 10,
     "metadata": {},
     "output_type": "execute_result"
    },
    {
     "data": {
      "image/png": "[encoded data removed]",
      "text/plain": [
       "<Figure size 432x288 with 1 Axes>"
      ]
     },
     "metadata": {
      "needs_background": "light"
     },
     "output_type": "display_data"
    }
   ],
   "source": [
    "df.iloc[:, 0].plot()"
   ]
  },
  {
   "cell_type": "code",
   "execution_count": 11,
   "metadata": {
    "colab": {
     "base_uri": "https://localhost:8080/",
     "height": 447
    },
    "id": "ym4xWUUxaFvg",
    "outputId": "ae6a3495-8ce9-437e-ba81-3ed31deedeae"
   },
   "outputs": [
    {
     "name": "stderr",
     "output_type": "stream",
     "text": [
      "C:\\Users\\Anurag Dutta\\AppData\\Local\\Packages\\PythonSoftwareFoundation.Python.3.9_qbz5n2kfra8p0\\LocalCache\\local-packages\\Python39\\site-packages\\pandas\\core\\arraylike.py:402: RuntimeWarning: divide by zero encountered in log\n",
      "  result = getattr(ufunc, method)(*inputs, **kwargs)\n"
     ]
    },
    {
     "data": {
      "text/plain": [
       "<Axes: >"
      ]
     },
     "execution_count": 11,
     "metadata": {},
     "output_type": "execute_result"
    },
    {
     "data": {
      "image/png": "[encoded data removed]",
      "text/plain": [
       "<Figure size 432x288 with 1 Axes>"
      ]
     },
     "metadata": {
      "needs_background": "light"
     },
     "output_type": "display_data"
    }
   ],
   "source": [
    "import numpy as np\n",
    "c0 = 89.3180  # Value for C0\n",
    "K0 = -0.0010  # Value for K0\n",
    "K1 = 0.0001  # Value for K1\n",
    "a = 0.0000    # Value for a\n",
    "b = -0.0204    # Value for b\n",
    "c = 2.2194    # Value for c\n",
    "\n",
    "L = np.minimum(c0, (df.iloc[:, 1] - (df.iloc[:, 0] * (K0 - K1 * (9 * a * np.log(df.iloc[:, 0] / c0) / (K0 - K1 * c)**2 + 4 * b * np.log(df.iloc[:, 0] / c0) / (K0 - K1 * c) + c)))))\n",
    "L.plot()"
   ]
  },
  {
   "cell_type": "markdown",
   "metadata": {
    "id": "9VyEywnwaFvh"
   },
   "source": [
    "## Preprocessing the data into supervised learning"
   ]
  },
  {
   "cell_type": "code",
   "execution_count": 12,
   "metadata": {
    "id": "6V9dXqzdaFvh"
   },
   "outputs": [],
   "source": [
    "# split a sequence into samples\n",
    "def Supervised(data, n_in=1, n_out=1, dropnan=True):\n",
    "    n_vars = 1 if type(data) is list else data.shape[1]\n",
    "    df = pd.DataFrame(data)\n",
    "    cols, names = list(), list()\n",
    "    # input sequence (t-n_in, ... t-1)\n",
    "    for i in range(n_in, 0, -1):\n",
    "        cols.append(df.shift(i))\n",
    "        names += [('var%d(t-%d)' % (j+1, i)) for j in range(n_vars)]\n",
    "    # forecast sequence (t, t+1, ... t+n_out)\n",
    "    for i in range(0, n_out):\n",
    "      cols.append(df.shift(-i))\n",
    "      if i == 0:\n",
    "        names += [('var%d(t)' % (j+1)) for j in range(n_vars)]\n",
    "      else:\n",
    "        names += [('var%d(t+%d)' % (j+1, i)) for j in range(n_vars)]\n",
    "    # put it all together\n",
    "    agg = pd.concat(cols, axis=1)\n",
    "    agg.columns = names\n",
    "    # drop rows with NaN values\n",
    "    if dropnan:\n",
    "       agg.dropna(inplace=True)\n",
    "    return agg"
   ]
  },
  {
   "cell_type": "code",
   "execution_count": 13,
   "metadata": {
    "colab": {
     "base_uri": "https://localhost:8080/"
    },
    "id": "CrzSrT1HnyfH",
    "outputId": "7e75f928-3e47-499d-eac1-51908015ef78"
   },
   "outputs": [
    {
     "name": "stdout",
     "output_type": "stream",
     "text": [
      "     var1(t-350)  var1(t-349)  var1(t-348)  var1(t-347)  var1(t-346)  \\\n",
      "350    92.600000    92.387115    92.174230    91.961345    91.748459   \n",
      "351    92.387115    92.174230    91.961345    91.748459    91.535574   \n",
      "352    92.174230    91.961345    91.748459    91.535574    91.322689   \n",
      "353    91.961345    91.748459    91.535574    91.322689    91.109804   \n",
      "354    91.748459    91.535574    91.322689    91.109804    90.896919   \n",
      "\n",
      "     var1(t-345)  var1(t-344)  var1(t-343)  var1(t-342)  var1(t-341)  ...  \\\n",
      "350    91.535574    91.322689    91.109804    90.896919    90.691597  ...   \n",
      "351    91.322689    91.109804    90.896919    90.691597    90.579552  ...   \n",
      "352    91.109804    90.896919    90.691597    90.579552    90.467507  ...   \n",
      "353    90.896919    90.691597    90.579552    90.467507    90.355462  ...   \n",
      "354    90.691597    90.579552    90.467507    90.355462    90.243417  ...   \n",
      "\n",
      "     var1(t+95)  var2(t+95)  var1(t+96)  var2(t+96)  var1(t+97)  var2(t+97)  \\\n",
      "350   80.261671    0.000263   80.252334    0.000263   80.242997    0.000263   \n",
      "351   80.252334    0.000263   80.242997    0.000263   80.233660    0.000262   \n",
      "352   80.242997    0.000263   80.233660    0.000262   80.224323    0.000262   \n",
      "353   80.233660    0.000262   80.224323    0.000262   80.214986    0.000262   \n",
      "354   80.224323    0.000262   80.214986    0.000262   80.205649    0.000262   \n",
      "\n",
      "     var1(t+98)  var2(t+98)  var1(t+99)  var2(t+99)  \n",
      "350   80.233660    0.000262   80.224323    0.000262  \n",
      "351   80.224323    0.000262   80.214986    0.000262  \n",
      "352   80.214986    0.000262   80.205649    0.000262  \n",
      "353   80.205649    0.000262   80.196312    0.000262  \n",
      "354   80.196312    0.000262   80.186975    0.000262  \n",
      "\n",
      "[5 rows x 551 columns]\n",
      "Index(['var1(t-350)', 'var1(t-349)', 'var1(t-348)', 'var1(t-347)',\n",
      "       'var1(t-346)', 'var1(t-345)', 'var1(t-344)', 'var1(t-343)',\n",
      "       'var1(t-342)', 'var1(t-341)',\n",
      "       ...\n",
      "       'var1(t+95)', 'var2(t+95)', 'var1(t+96)', 'var2(t+96)', 'var1(t+97)',\n",
      "       'var2(t+97)', 'var1(t+98)', 'var2(t+98)', 'var1(t+99)', 'var2(t+99)'],\n",
      "      dtype='object', length=551)\n"
     ]
    }
   ],
   "source": [
    "data = Supervised(df.values, n_in = 350, n_out = 100)\n",
    "\n",
    "\n",
    "cols_to_drop = []\n",
    "for i in range(2, 351):\n",
    "    cols_to_drop.extend([f'var2(t-{i})'])\n",
    "\n",
    "data.drop(cols_to_drop, axis=1, inplace=True)\n",
    "\n",
    "print(data.head())\n",
    "print(data.columns)"
   ]
  },
  {
   "cell_type": "code",
   "execution_count": 14,
   "metadata": {
    "id": "AfPf60oy6Pe4"
   },
   "outputs": [],
   "source": [
    "train = np.array(data[0:len(data)-1])\n",
    "forecast = np.array(data.tail(1))"
   ]
  },
  {
   "cell_type": "code",
   "execution_count": 15,
   "metadata": {
    "id": "WSAafzI37KiT"
   },
   "outputs": [],
   "source": [
    "trainy = train[:,-300:]\n",
    "trainX = train[:,:-300]"
   ]
  },
  {
   "cell_type": "code",
   "execution_count": 16,
   "metadata": {
    "id": "2SrOqVJA7f50"
   },
   "outputs": [],
   "source": [
    "forecasty = forecast[:,-300:]\n",
    "forecastX = forecast[:,:-300]"
   ]
  },
  {
   "cell_type": "code",
   "execution_count": 17,
   "metadata": {
    "colab": {
     "base_uri": "https://localhost:8080/"
    },
    "id": "Qno_k8Nw7saY",
    "outputId": "c4a88db5-d8c6-489f-cdb2-06b24e293cff"
   },
   "outputs": [
    {
     "name": "stdout",
     "output_type": "stream",
     "text": [
      "(900, 1, 251) (900, 300) (1, 1, 251)\n"
     ]
    }
   ],
   "source": [
    "trainX = trainX.reshape((trainX.shape[0], 1, trainX.shape[1]))\n",
    "forecastX = forecastX.reshape((forecastX.shape[0], 1, forecastX.shape[1]))\n",
    "print(trainX.shape, trainy.shape, forecastX.shape)"
   ]
  },
  {
   "cell_type": "code",
   "execution_count": 18,
   "metadata": {
    "colab": {
     "base_uri": "https://localhost:8080/"
    },
    "id": "b1Jp2DvNuNFx",
    "outputId": "d0e5b3c4-64f1-438c-eade-8dfeaac8e285"
   },
   "outputs": [
    {
     "name": "stdout",
     "output_type": "stream",
     "text": [
      "Epoch 1/500\n",
      "12/12 [==============================] - 3s 46ms/step - loss: 6177.4478 - val_loss: 5310.4834\n",
      "Epoch 2/500\n",
      "12/12 [==============================] - 0s 4ms/step - loss: 6120.2139 - val_loss: 5270.2651\n",
      "Epoch 3/500\n",
      "12/12 [==============================] - 0s 6ms/step - loss: 6077.0269 - val_loss: 5230.1831\n",
      "Epoch 4/500\n",
      "12/12 [==============================] - 0s 4ms/step - loss: 6032.2285 - val_loss: 5174.6348\n",
      "Epoch 5/500\n",
      "12/12 [==============================] - 0s 4ms/step - loss: 5973.4092 - val_loss: 5131.2153\n",
      "Epoch 6/500\n",
      "12/12 [==============================] - 0s 6ms/step - loss: 5925.9956 - val_loss: 5087.8110\n",
      "Epoch 7/500\n",
      "12/12 [==============================] - 0s 5ms/step - loss: 5879.2974 - val_loss: 5044.6201\n",
      "Epoch 8/500\n",
      "12/12 [==============================] - 0s 6ms/step - loss: 5833.0308 - val_loss: 5001.9551\n",
      "Epoch 9/500\n",
      "12/12 [==============================] - 0s 6ms/step - loss: 5787.3076 - val_loss: 4959.7793\n",
      "Epoch 10/500\n",
      "12/12 [==============================] - 0s 4ms/step - loss: 5742.0718 - val_loss: 4918.0366\n",
      "Epoch 11/500\n",
      "12/12 [==============================] - 0s 6ms/step - loss: 5697.2637 - val_loss: 4876.6763\n",
      "Epoch 12/500\n",
      "12/12 [==============================] - 0s 6ms/step - loss: 5652.8384 - val_loss: 4835.6626\n",
      "Epoch 13/500\n",
      "12/12 [==============================] - 0s 4ms/step - loss: 5608.7622 - val_loss: 4794.9741\n",
      "Epoch 14/500\n",
      "12/12 [==============================] - 0s 7ms/step - loss: 5565.0151 - val_loss: 4754.5942\n",
      "Epoch 15/500\n",
      "12/12 [==============================] - 0s 6ms/step - loss: 5521.5791 - val_loss: 4714.5078\n",
      "Epoch 16/500\n",
      "12/12 [==============================] - 0s 8ms/step - loss: 5478.4429 - val_loss: 4674.7061\n",
      "Epoch 17/500\n",
      "12/12 [==============================] - 0s 5ms/step - loss: 5435.5977 - val_loss: 4635.1807\n",
      "Epoch 18/500\n",
      "12/12 [==============================] - 0s 6ms/step - loss: 5393.0337 - val_loss: 4595.9253\n",
      "Epoch 19/500\n",
      "12/12 [==============================] - 0s 4ms/step - loss: 5350.7456 - val_loss: 4556.9346\n",
      "Epoch 20/500\n",
      "12/12 [==============================] - 0s 6ms/step - loss: 5308.7275 - val_loss: 4518.2041\n",
      "Epoch 21/500\n",
      "12/12 [==============================] - 0s 6ms/step - loss: 5266.9766 - val_loss: 4479.7310\n",
      "Epoch 22/500\n",
      "12/12 [==============================] - 0s 4ms/step - loss: 5225.4873 - val_loss: 4441.5103\n",
      "Epoch 23/500\n",
      "12/12 [==============================] - 0s 4ms/step - loss: 5184.2568 - val_loss: 4403.5391\n",
      "Epoch 24/500\n",
      "12/12 [==============================] - 0s 4ms/step - loss: 5143.2817 - val_loss: 4365.8145\n",
      "Epoch 25/500\n",
      "12/12 [==============================] - 0s 5ms/step - loss: 5102.5601 - val_loss: 4328.3350\n",
      "Epoch 26/500\n",
      "12/12 [==============================] - 0s 6ms/step - loss: 5062.0884 - val_loss: 4291.0986\n",
      "Epoch 27/500\n",
      "12/12 [==============================] - 0s 6ms/step - loss: 5021.8652 - val_loss: 4254.1016\n",
      "Epoch 28/500\n",
      "12/12 [==============================] - 0s 8ms/step - loss: 4981.8877 - val_loss: 4217.3433\n",
      "Epoch 29/500\n",
      "12/12 [==============================] - 0s 7ms/step - loss: 4942.1543 - val_loss: 4180.8203\n",
      "Epoch 30/500\n",
      "12/12 [==============================] - 0s 6ms/step - loss: 4902.6631 - val_loss: 4144.5317\n",
      "Epoch 31/500\n",
      "12/12 [==============================] - 0s 12ms/step - loss: 4863.4116 - val_loss: 4108.4775\n",
      "Epoch 32/500\n",
      "12/12 [==============================] - 0s 6ms/step - loss: 4824.3984 - val_loss: 4072.6541\n",
      "Epoch 33/500\n",
      "12/12 [==============================] - 0s 6ms/step - loss: 4785.6226 - val_loss: 4037.0598\n",
      "Epoch 34/500\n",
      "12/12 [==============================] - 0s 6ms/step - loss: 4747.0820 - val_loss: 4001.6941\n",
      "Epoch 35/500\n",
      "12/12 [==============================] - 0s 6ms/step - loss: 4708.7759 - val_loss: 3966.5557\n",
      "Epoch 36/500\n",
      "12/12 [==============================] - 0s 6ms/step - loss: 4670.7012 - val_loss: 3931.6421\n",
      "Epoch 37/500\n",
      "12/12 [==============================] - 0s 6ms/step - loss: 4632.8584 - val_loss: 3896.9531\n",
      "Epoch 38/500\n",
      "12/12 [==============================] - 0s 6ms/step - loss: 4595.2446 - val_loss: 3862.4868\n",
      "Epoch 39/500\n",
      "12/12 [==============================] - 0s 5ms/step - loss: 4557.8599 - val_loss: 3828.2417\n",
      "Epoch 40/500\n",
      "12/12 [==============================] - 0s 6ms/step - loss: 4520.7012 - val_loss: 3794.2173\n",
      "Epoch 41/500\n",
      "12/12 [==============================] - 0s 6ms/step - loss: 4483.7686 - val_loss: 3760.4126\n",
      "Epoch 42/500\n",
      "12/12 [==============================] - 0s 6ms/step - loss: 4447.0605 - val_loss: 3726.8247\n",
      "Epoch 43/500\n",
      "12/12 [==============================] - 0s 9ms/step - loss: 4410.5767 - val_loss: 3693.4546\n",
      "Epoch 44/500\n",
      "12/12 [==============================] - 0s 6ms/step - loss: 4374.3145 - val_loss: 3660.2993\n",
      "Epoch 45/500\n",
      "12/12 [==============================] - 0s 6ms/step - loss: 4338.2734 - val_loss: 3627.3586\n",
      "Epoch 46/500\n",
      "12/12 [==============================] - 0s 4ms/step - loss: 4302.4521 - val_loss: 3594.6318\n",
      "Epoch 47/500\n",
      "12/12 [==============================] - 0s 4ms/step - loss: 4266.8491 - val_loss: 3562.1174\n",
      "Epoch 48/500\n",
      "12/12 [==============================] - 0s 4ms/step - loss: 4231.4658 - val_loss: 3529.8142\n",
      "Epoch 49/500\n",
      "12/12 [==============================] - 0s 4ms/step - loss: 4196.2974 - val_loss: 3497.7209\n",
      "Epoch 50/500\n",
      "12/12 [==============================] - 0s 6ms/step - loss: 4161.3452 - val_loss: 3465.8369\n",
      "Epoch 51/500\n",
      "12/12 [==============================] - 0s 4ms/step - loss: 4126.6064 - val_loss: 3434.1611\n",
      "Epoch 52/500\n",
      "12/12 [==============================] - 0s 4ms/step - loss: 4092.0823 - val_loss: 3402.6917\n",
      "Epoch 53/500\n",
      "12/12 [==============================] - 0s 5ms/step - loss: 4057.7695 - val_loss: 3371.4292\n",
      "Epoch 54/500\n",
      "12/12 [==============================] - 0s 4ms/step - loss: 4023.6692 - val_loss: 3340.3718\n",
      "Epoch 55/500\n",
      "12/12 [==============================] - 0s 6ms/step - loss: 3989.7786 - val_loss: 3309.5178\n",
      "Epoch 56/500\n",
      "12/12 [==============================] - 0s 6ms/step - loss: 3956.0979 - val_loss: 3278.8674\n",
      "Epoch 57/500\n",
      "12/12 [==============================] - 0s 6ms/step - loss: 3922.6250 - val_loss: 3248.4187\n",
      "Epoch 58/500\n",
      "12/12 [==============================] - 0s 6ms/step - loss: 3889.3596 - val_loss: 3218.1716\n",
      "Epoch 59/500\n",
      "12/12 [==============================] - 0s 6ms/step - loss: 3856.3003 - val_loss: 3188.1248\n",
      "Epoch 60/500\n",
      "12/12 [==============================] - 0s 5ms/step - loss: 3823.4475 - val_loss: 3158.2771\n",
      "Epoch 61/500\n",
      "12/12 [==============================] - 0s 4ms/step - loss: 3790.7991 - val_loss: 3128.6277\n",
      "Epoch 62/500\n",
      "12/12 [==============================] - 0s 6ms/step - loss: 3758.3538 - val_loss: 3099.1758\n",
      "Epoch 63/500\n",
      "12/12 [==============================] - 0s 12ms/step - loss: 3726.1111 - val_loss: 3069.9197\n",
      "Epoch 64/500\n",
      "12/12 [==============================] - 0s 4ms/step - loss: 3694.0701 - val_loss: 3040.8596\n",
      "Epoch 65/500\n",
      "12/12 [==============================] - 0s 4ms/step - loss: 3662.2300 - val_loss: 3011.9951\n",
      "Epoch 66/500\n",
      "12/12 [==============================] - 0s 4ms/step - loss: 3630.5898 - val_loss: 2983.3232\n",
      "Epoch 67/500\n",
      "12/12 [==============================] - 0s 6ms/step - loss: 3599.1482 - val_loss: 2954.8440\n",
      "Epoch 68/500\n",
      "12/12 [==============================] - 0s 6ms/step - loss: 3567.9053 - val_loss: 2926.5581\n",
      "Epoch 69/500\n",
      "12/12 [==============================] - 0s 6ms/step - loss: 3536.8594 - val_loss: 2898.4622\n",
      "Epoch 70/500\n",
      "12/12 [==============================] - 0s 5ms/step - loss: 3506.0093 - val_loss: 2870.5574\n",
      "Epoch 71/500\n",
      "12/12 [==============================] - 0s 6ms/step - loss: 3475.3552 - val_loss: 2842.8411\n",
      "Epoch 72/500\n",
      "12/12 [==============================] - 0s 6ms/step - loss: 3444.8955 - val_loss: 2815.3135\n",
      "Epoch 73/500\n",
      "12/12 [==============================] - 0s 6ms/step - loss: 3414.6294 - val_loss: 2787.9731\n",
      "Epoch 74/500\n",
      "12/12 [==============================] - 0s 6ms/step - loss: 3384.5557 - val_loss: 2760.8201\n",
      "Epoch 75/500\n",
      "12/12 [==============================] - 0s 6ms/step - loss: 3354.6741 - val_loss: 2733.8523\n",
      "Epoch 76/500\n",
      "12/12 [==============================] - 0s 6ms/step - loss: 3324.9836 - val_loss: 2707.0698\n",
      "Epoch 77/500\n",
      "12/12 [==============================] - 0s 6ms/step - loss: 3295.4827 - val_loss: 2680.4722\n",
      "Epoch 78/500\n",
      "12/12 [==============================] - 0s 5ms/step - loss: 3266.1719 - val_loss: 2654.0569\n",
      "Epoch 79/500\n",
      "12/12 [==============================] - 0s 4ms/step - loss: 3237.0503 - val_loss: 2627.8250\n",
      "Epoch 80/500\n",
      "12/12 [==============================] - 0s 4ms/step - loss: 3208.1150 - val_loss: 2601.7749\n",
      "Epoch 81/500\n",
      "12/12 [==============================] - 0s 6ms/step - loss: 3179.3677 - val_loss: 2575.9055\n",
      "Epoch 82/500\n",
      "12/12 [==============================] - 0s 4ms/step - loss: 3150.8059 - val_loss: 2550.2156\n",
      "Epoch 83/500\n",
      "12/12 [==============================] - 0s 4ms/step - loss: 3122.4292 - val_loss: 2524.7061\n",
      "Epoch 84/500\n",
      "12/12 [==============================] - 0s 4ms/step - loss: 3094.2371 - val_loss: 2499.3740\n",
      "Epoch 85/500\n",
      "12/12 [==============================] - 0s 6ms/step - loss: 3066.2280 - val_loss: 2474.2197\n",
      "Epoch 86/500\n",
      "12/12 [==============================] - 0s 6ms/step - loss: 3038.4028 - val_loss: 2449.2427\n",
      "Epoch 87/500\n",
      "12/12 [==============================] - 0s 6ms/step - loss: 3010.7588 - val_loss: 2424.4414\n",
      "Epoch 88/500\n",
      "12/12 [==============================] - 0s 4ms/step - loss: 2983.2961 - val_loss: 2399.8157\n",
      "Epoch 89/500\n",
      "12/12 [==============================] - 0s 5ms/step - loss: 2956.0139 - val_loss: 2375.3635\n",
      "Epoch 90/500\n",
      "12/12 [==============================] - 0s 6ms/step - loss: 2928.9106 - val_loss: 2351.0869\n",
      "Epoch 91/500\n",
      "12/12 [==============================] - 0s 5ms/step - loss: 2901.9871 - val_loss: 2326.9817\n",
      "Epoch 92/500\n",
      "12/12 [==============================] - 0s 4ms/step - loss: 2875.2412 - val_loss: 2303.0486\n",
      "Epoch 93/500\n",
      "12/12 [==============================] - 0s 9ms/step - loss: 2848.6719 - val_loss: 2279.2869\n",
      "Epoch 94/500\n",
      "12/12 [==============================] - 0s 6ms/step - loss: 2822.2795 - val_loss: 2255.6963\n",
      "Epoch 95/500\n",
      "12/12 [==============================] - 0s 12ms/step - loss: 2796.0627 - val_loss: 2232.2749\n",
      "Epoch 96/500\n",
      "12/12 [==============================] - 0s 6ms/step - loss: 2770.0212 - val_loss: 2209.0232\n",
      "Epoch 97/500\n",
      "12/12 [==============================] - 0s 6ms/step - loss: 2744.1538 - val_loss: 2185.9397\n",
      "Epoch 98/500\n",
      "12/12 [==============================] - 0s 6ms/step - loss: 2718.4600 - val_loss: 2163.0237\n",
      "Epoch 99/500\n",
      "12/12 [==============================] - 0s 6ms/step - loss: 2692.9385 - val_loss: 2140.2742\n",
      "Epoch 100/500\n",
      "12/12 [==============================] - 0s 6ms/step - loss: 2667.5886 - val_loss: 2117.6909\n",
      "Epoch 101/500\n",
      "12/12 [==============================] - 0s 6ms/step - loss: 2642.4104 - val_loss: 2095.2725\n",
      "Epoch 102/500\n",
      "12/12 [==============================] - 0s 6ms/step - loss: 2617.4021 - val_loss: 2073.0190\n",
      "Epoch 103/500\n",
      "12/12 [==============================] - 0s 6ms/step - loss: 2592.5637 - val_loss: 2050.9299\n",
      "Epoch 104/500\n",
      "12/12 [==============================] - 0s 6ms/step - loss: 2567.8938 - val_loss: 2029.0028\n",
      "Epoch 105/500\n",
      "12/12 [==============================] - 0s 6ms/step - loss: 2543.3921 - val_loss: 2007.2382\n",
      "Epoch 106/500\n",
      "12/12 [==============================] - 0s 6ms/step - loss: 2519.0579 - val_loss: 1985.6350\n",
      "Epoch 107/500\n",
      "12/12 [==============================] - 0s 5ms/step - loss: 2494.8904 - val_loss: 1964.1932\n",
      "Epoch 108/500\n",
      "12/12 [==============================] - 0s 4ms/step - loss: 2470.8892 - val_loss: 1942.9116\n",
      "Epoch 109/500\n",
      "12/12 [==============================] - 0s 6ms/step - loss: 2447.0530 - val_loss: 1921.7896\n",
      "Epoch 110/500\n",
      "12/12 [==============================] - 0s 6ms/step - loss: 2423.3813 - val_loss: 1900.8253\n",
      "Epoch 111/500\n",
      "12/12 [==============================] - 0s 6ms/step - loss: 2399.8733 - val_loss: 1880.0201\n",
      "Epoch 112/500\n",
      "12/12 [==============================] - 0s 5ms/step - loss: 2376.5286 - val_loss: 1859.3718\n",
      "Epoch 113/500\n",
      "12/12 [==============================] - 0s 7ms/step - loss: 2353.3457 - val_loss: 1838.8799\n",
      "Epoch 114/500\n",
      "12/12 [==============================] - 0s 6ms/step - loss: 2330.3247 - val_loss: 1818.5435\n",
      "Epoch 115/500\n",
      "12/12 [==============================] - 0s 6ms/step - loss: 2307.4644 - val_loss: 1798.3622\n",
      "Epoch 116/500\n",
      "12/12 [==============================] - 0s 6ms/step - loss: 2284.7644 - val_loss: 1778.3351\n",
      "Epoch 117/500\n",
      "12/12 [==============================] - 0s 4ms/step - loss: 2262.2241 - val_loss: 1758.4620\n",
      "Epoch 118/500\n",
      "12/12 [==============================] - 0s 6ms/step - loss: 2239.8423 - val_loss: 1738.7418\n",
      "Epoch 119/500\n",
      "12/12 [==============================] - 0s 4ms/step - loss: 2217.6182 - val_loss: 1719.1740\n",
      "Epoch 120/500\n",
      "12/12 [==============================] - 0s 4ms/step - loss: 2195.5522 - val_loss: 1699.7583\n",
      "Epoch 121/500\n",
      "12/12 [==============================] - 0s 4ms/step - loss: 2173.6428 - val_loss: 1680.4929\n",
      "Epoch 122/500\n",
      "12/12 [==============================] - 0s 4ms/step - loss: 2151.8896 - val_loss: 1661.3779\n",
      "Epoch 123/500\n",
      "12/12 [==============================] - 0s 4ms/step - loss: 2130.2915 - val_loss: 1642.4127\n",
      "Epoch 124/500\n",
      "12/12 [==============================] - 0s 6ms/step - loss: 2108.8481 - val_loss: 1623.5967\n",
      "Epoch 125/500\n",
      "12/12 [==============================] - 0s 12ms/step - loss: 2087.5593 - val_loss: 1604.9290\n",
      "Epoch 126/500\n",
      "12/12 [==============================] - 0s 6ms/step - loss: 2066.4236 - val_loss: 1586.4083\n",
      "Epoch 127/500\n",
      "12/12 [==============================] - 0s 6ms/step - loss: 2045.4409 - val_loss: 1568.0347\n",
      "Epoch 128/500\n",
      "12/12 [==============================] - 0s 7ms/step - loss: 2024.6095 - val_loss: 1549.8068\n",
      "Epoch 129/500\n",
      "12/12 [==============================] - 0s 6ms/step - loss: 2003.9296 - val_loss: 1531.7249\n",
      "Epoch 130/500\n",
      "12/12 [==============================] - 0s 6ms/step - loss: 1983.3998 - val_loss: 1513.7869\n",
      "Epoch 131/500\n",
      "12/12 [==============================] - 0s 6ms/step - loss: 1963.0197 - val_loss: 1495.9934\n",
      "Epoch 132/500\n",
      "12/12 [==============================] - 0s 7ms/step - loss: 1942.7892 - val_loss: 1478.3434\n",
      "Epoch 133/500\n",
      "12/12 [==============================] - 0s 6ms/step - loss: 1922.7075 - val_loss: 1460.8363\n",
      "Epoch 134/500\n",
      "12/12 [==============================] - 0s 6ms/step - loss: 1902.7736 - val_loss: 1443.4709\n",
      "Epoch 135/500\n",
      "12/12 [==============================] - 0s 6ms/step - loss: 1882.9868 - val_loss: 1426.2474\n",
      "Epoch 136/500\n",
      "12/12 [==============================] - 0s 6ms/step - loss: 1863.3470 - val_loss: 1409.1650\n",
      "Epoch 137/500\n",
      "12/12 [==============================] - 0s 5ms/step - loss: 1843.8531 - val_loss: 1392.2227\n",
      "Epoch 138/500\n",
      "12/12 [==============================] - 0s 6ms/step - loss: 1824.5046 - val_loss: 1375.4202\n",
      "Epoch 139/500\n",
      "12/12 [==============================] - 0s 7ms/step - loss: 1805.3013 - val_loss: 1358.7565\n",
      "Epoch 140/500\n",
      "12/12 [==============================] - 0s 7ms/step - loss: 1786.2415 - val_loss: 1342.2308\n",
      "Epoch 141/500\n",
      "12/12 [==============================] - 0s 6ms/step - loss: 1767.3256 - val_loss: 1325.8433\n",
      "Epoch 142/500\n",
      "12/12 [==============================] - 0s 6ms/step - loss: 1748.5519 - val_loss: 1309.5916\n",
      "Epoch 143/500\n",
      "12/12 [==============================] - 0s 6ms/step - loss: 1729.9202 - val_loss: 1293.4764\n",
      "Epoch 144/500\n",
      "12/12 [==============================] - 0s 6ms/step - loss: 1711.4298 - val_loss: 1277.4968\n",
      "Epoch 145/500\n",
      "12/12 [==============================] - 0s 6ms/step - loss: 1693.0806 - val_loss: 1261.6526\n",
      "Epoch 146/500\n",
      "12/12 [==============================] - 0s 6ms/step - loss: 1674.8718 - val_loss: 1245.9431\n",
      "Epoch 147/500\n",
      "12/12 [==============================] - 0s 9ms/step - loss: 1656.8021 - val_loss: 1230.3668\n",
      "Epoch 148/500\n",
      "12/12 [==============================] - 0s 6ms/step - loss: 1638.8716 - val_loss: 1214.9231\n",
      "Epoch 149/500\n",
      "12/12 [==============================] - 0s 6ms/step - loss: 1621.0789 - val_loss: 1199.6123\n",
      "Epoch 150/500\n",
      "12/12 [==============================] - 0s 6ms/step - loss: 1603.4243 - val_loss: 1184.4335\n",
      "Epoch 151/500\n",
      "12/12 [==============================] - 0s 7ms/step - loss: 1585.9070 - val_loss: 1169.3853\n",
      "Epoch 152/500\n",
      "12/12 [==============================] - 0s 7ms/step - loss: 1568.5256 - val_loss: 1154.4680\n",
      "Epoch 153/500\n",
      "12/12 [==============================] - 0s 7ms/step - loss: 1551.2800 - val_loss: 1139.6812\n",
      "Epoch 154/500\n",
      "12/12 [==============================] - 0s 6ms/step - loss: 1534.1694 - val_loss: 1125.0223\n",
      "Epoch 155/500\n",
      "12/12 [==============================] - 0s 15ms/step - loss: 1517.1932 - val_loss: 1110.4930\n",
      "Epoch 156/500\n",
      "12/12 [==============================] - 0s 7ms/step - loss: 1500.3511 - val_loss: 1096.0913\n",
      "Epoch 157/500\n",
      "12/12 [==============================] - 0s 6ms/step - loss: 1483.6423 - val_loss: 1081.8174\n",
      "Epoch 158/500\n",
      "12/12 [==============================] - 0s 8ms/step - loss: 1467.0667 - val_loss: 1067.6704\n",
      "Epoch 159/500\n",
      "12/12 [==============================] - 0s 10ms/step - loss: 1450.6227 - val_loss: 1053.6492\n",
      "Epoch 160/500\n",
      "12/12 [==============================] - 0s 8ms/step - loss: 1434.3099 - val_loss: 1039.7537\n",
      "Epoch 161/500\n",
      "12/12 [==============================] - 0s 7ms/step - loss: 1418.1282 - val_loss: 1025.9825\n",
      "Epoch 162/500\n",
      "12/12 [==============================] - 0s 6ms/step - loss: 1402.0765 - val_loss: 1012.3368\n",
      "Epoch 163/500\n",
      "12/12 [==============================] - 0s 7ms/step - loss: 1386.1548 - val_loss: 998.8141\n",
      "Epoch 164/500\n",
      "12/12 [==============================] - 0s 6ms/step - loss: 1370.3619 - val_loss: 985.4141\n",
      "Epoch 165/500\n",
      "12/12 [==============================] - 0s 6ms/step - loss: 1354.6974 - val_loss: 972.1377\n",
      "Epoch 166/500\n",
      "12/12 [==============================] - 0s 7ms/step - loss: 1339.1609 - val_loss: 958.9824\n",
      "Epoch 167/500\n",
      "12/12 [==============================] - 0s 6ms/step - loss: 1323.7516 - val_loss: 945.9484\n",
      "Epoch 168/500\n",
      "12/12 [==============================] - 0s 6ms/step - loss: 1308.4686 - val_loss: 933.0352\n",
      "Epoch 169/500\n",
      "12/12 [==============================] - 0s 6ms/step - loss: 1293.3120 - val_loss: 920.2420\n",
      "Epoch 170/500\n",
      "12/12 [==============================] - 0s 6ms/step - loss: 1278.2802 - val_loss: 907.5684\n",
      "Epoch 171/500\n",
      "12/12 [==============================] - 0s 6ms/step - loss: 1263.3734 - val_loss: 895.0134\n",
      "Epoch 172/500\n",
      "12/12 [==============================] - 0s 7ms/step - loss: 1248.5909 - val_loss: 882.5764\n",
      "Epoch 173/500\n",
      "12/12 [==============================] - 0s 7ms/step - loss: 1233.9319 - val_loss: 870.2578\n",
      "Epoch 174/500\n",
      "12/12 [==============================] - 0s 5ms/step - loss: 1219.3965 - val_loss: 858.0554\n",
      "Epoch 175/500\n",
      "12/12 [==============================] - 0s 6ms/step - loss: 1204.9829 - val_loss: 845.9700\n",
      "Epoch 176/500\n",
      "12/12 [==============================] - 0s 6ms/step - loss: 1190.6913 - val_loss: 834.0002\n",
      "Epoch 177/500\n",
      "12/12 [==============================] - 0s 6ms/step - loss: 1176.5209 - val_loss: 822.1455\n",
      "Epoch 178/500\n",
      "12/12 [==============================] - 0s 7ms/step - loss: 1162.4712 - val_loss: 810.4054\n",
      "Epoch 179/500\n",
      "12/12 [==============================] - 0s 8ms/step - loss: 1148.5416 - val_loss: 798.7798\n",
      "Epoch 180/500\n",
      "12/12 [==============================] - 0s 6ms/step - loss: 1134.7321 - val_loss: 787.2676\n",
      "Epoch 181/500\n",
      "12/12 [==============================] - 0s 5ms/step - loss: 1121.0408 - val_loss: 775.8682\n",
      "Epoch 182/500\n",
      "12/12 [==============================] - 0s 6ms/step - loss: 1107.4679 - val_loss: 764.5804\n",
      "Epoch 183/500\n",
      "12/12 [==============================] - 0s 8ms/step - loss: 1094.0126 - val_loss: 753.4052\n",
      "Epoch 184/500\n",
      "12/12 [==============================] - 0s 6ms/step - loss: 1080.6744 - val_loss: 742.3403\n",
      "Epoch 185/500\n",
      "12/12 [==============================] - 0s 7ms/step - loss: 1067.4529 - val_loss: 731.3861\n",
      "Epoch 186/500\n",
      "12/12 [==============================] - 0s 15ms/step - loss: 1054.3473 - val_loss: 720.5416\n",
      "Epoch 187/500\n",
      "12/12 [==============================] - 0s 8ms/step - loss: 1041.3572 - val_loss: 709.8067\n",
      "Epoch 188/500\n",
      "12/12 [==============================] - 0s 6ms/step - loss: 1028.4819 - val_loss: 699.1802\n",
      "Epoch 189/500\n",
      "12/12 [==============================] - 0s 4ms/step - loss: 1015.7209 - val_loss: 688.6626\n",
      "Epoch 190/500\n",
      "12/12 [==============================] - 0s 6ms/step - loss: 1003.0737 - val_loss: 678.2516\n",
      "Epoch 191/500\n",
      "12/12 [==============================] - 0s 7ms/step - loss: 990.5395 - val_loss: 667.9480\n",
      "Epoch 192/500\n",
      "12/12 [==============================] - 0s 6ms/step - loss: 978.1177 - val_loss: 657.7514\n",
      "Epoch 193/500\n",
      "12/12 [==============================] - 0s 5ms/step - loss: 965.8080 - val_loss: 647.6594\n",
      "Epoch 194/500\n",
      "12/12 [==============================] - 0s 6ms/step - loss: 953.6096 - val_loss: 637.6732\n",
      "Epoch 195/500\n",
      "12/12 [==============================] - 0s 6ms/step - loss: 941.5222 - val_loss: 627.7923\n",
      "Epoch 196/500\n",
      "12/12 [==============================] - 0s 6ms/step - loss: 929.5450 - val_loss: 618.0144\n",
      "Epoch 197/500\n",
      "12/12 [==============================] - 0s 4ms/step - loss: 917.6775 - val_loss: 608.3404\n",
      "Epoch 198/500\n",
      "12/12 [==============================] - 0s 5ms/step - loss: 905.9191 - val_loss: 598.7695\n",
      "Epoch 199/500\n",
      "12/12 [==============================] - 0s 6ms/step - loss: 894.2690 - val_loss: 589.3007\n",
      "Epoch 200/500\n",
      "12/12 [==============================] - 0s 5ms/step - loss: 882.7271 - val_loss: 579.9329\n",
      "Epoch 201/500\n",
      "12/12 [==============================] - 0s 6ms/step - loss: 871.2922 - val_loss: 570.6671\n",
      "Epoch 202/500\n",
      "12/12 [==============================] - 0s 6ms/step - loss: 859.9645 - val_loss: 561.5015\n",
      "Epoch 203/500\n",
      "12/12 [==============================] - 0s 6ms/step - loss: 848.7432 - val_loss: 552.4364\n",
      "Epoch 204/500\n",
      "12/12 [==============================] - 0s 6ms/step - loss: 837.6275 - val_loss: 543.4700\n",
      "Epoch 205/500\n",
      "12/12 [==============================] - 0s 6ms/step - loss: 826.6166 - val_loss: 534.6031\n",
      "Epoch 206/500\n",
      "12/12 [==============================] - 0s 6ms/step - loss: 815.7108 - val_loss: 525.8342\n",
      "Epoch 207/500\n",
      "12/12 [==============================] - 0s 5ms/step - loss: 804.9088 - val_loss: 517.1628\n",
      "Epoch 208/500\n",
      "12/12 [==============================] - 0s 7ms/step - loss: 794.2103 - val_loss: 508.5887\n",
      "Epoch 209/500\n",
      "12/12 [==============================] - 0s 4ms/step - loss: 783.6145 - val_loss: 500.1108\n",
      "Epoch 210/500\n",
      "12/12 [==============================] - 0s 6ms/step - loss: 773.1210 - val_loss: 491.7292\n",
      "Epoch 211/500\n",
      "12/12 [==============================] - 0s 4ms/step - loss: 762.7292 - val_loss: 483.4428\n",
      "Epoch 212/500\n",
      "12/12 [==============================] - 0s 5ms/step - loss: 752.4387 - val_loss: 475.2513\n",
      "Epoch 213/500\n",
      "12/12 [==============================] - 0s 4ms/step - loss: 742.2489 - val_loss: 467.1536\n",
      "Epoch 214/500\n",
      "12/12 [==============================] - 0s 6ms/step - loss: 732.1589 - val_loss: 459.1504\n",
      "Epoch 215/500\n",
      "12/12 [==============================] - 0s 6ms/step - loss: 722.1688 - val_loss: 451.2397\n",
      "Epoch 216/500\n",
      "12/12 [==============================] - 0s 4ms/step - loss: 712.2777 - val_loss: 443.4221\n",
      "Epoch 217/500\n",
      "12/12 [==============================] - 0s 12ms/step - loss: 702.4849 - val_loss: 435.6959\n",
      "Epoch 218/500\n",
      "12/12 [==============================] - 0s 6ms/step - loss: 692.7900 - val_loss: 428.0610\n",
      "Epoch 219/500\n",
      "12/12 [==============================] - 0s 4ms/step - loss: 683.1923 - val_loss: 420.5172\n",
      "Epoch 220/500\n",
      "12/12 [==============================] - 0s 4ms/step - loss: 673.6913 - val_loss: 413.0637\n",
      "Epoch 221/500\n",
      "12/12 [==============================] - 0s 4ms/step - loss: 664.2866 - val_loss: 405.6998\n",
      "Epoch 222/500\n",
      "12/12 [==============================] - 0s 6ms/step - loss: 654.9776 - val_loss: 398.4252\n",
      "Epoch 223/500\n",
      "12/12 [==============================] - 0s 6ms/step - loss: 645.7638 - val_loss: 391.2391\n",
      "Epoch 224/500\n",
      "12/12 [==============================] - 0s 4ms/step - loss: 636.6450 - val_loss: 384.1411\n",
      "Epoch 225/500\n",
      "12/12 [==============================] - 0s 6ms/step - loss: 627.6200 - val_loss: 377.1304\n",
      "Epoch 226/500\n",
      "12/12 [==============================] - 0s 4ms/step - loss: 618.6880 - val_loss: 370.2069\n",
      "Epoch 227/500\n",
      "12/12 [==============================] - 0s 5ms/step - loss: 609.8490 - val_loss: 363.3686\n",
      "Epoch 228/500\n",
      "12/12 [==============================] - 0s 4ms/step - loss: 601.1022 - val_loss: 356.6173\n",
      "Epoch 229/500\n",
      "12/12 [==============================] - 0s 6ms/step - loss: 592.4474 - val_loss: 349.9500\n",
      "Epoch 230/500\n",
      "12/12 [==============================] - 0s 5ms/step - loss: 583.8835 - val_loss: 343.3678\n",
      "Epoch 231/500\n",
      "12/12 [==============================] - 0s 5ms/step - loss: 575.4105 - val_loss: 336.8695\n",
      "Epoch 232/500\n",
      "12/12 [==============================] - 0s 4ms/step - loss: 567.0275 - val_loss: 330.4547\n",
      "Epoch 233/500\n",
      "12/12 [==============================] - 0s 4ms/step - loss: 558.7343 - val_loss: 324.1229\n",
      "Epoch 234/500\n",
      "12/12 [==============================] - 0s 6ms/step - loss: 550.5303 - val_loss: 317.8736\n",
      "Epoch 235/500\n",
      "12/12 [==============================] - 0s 6ms/step - loss: 542.4149 - val_loss: 311.7058\n",
      "Epoch 236/500\n",
      "12/12 [==============================] - 0s 6ms/step - loss: 534.3870 - val_loss: 305.6190\n",
      "Epoch 237/500\n",
      "12/12 [==============================] - 0s 6ms/step - loss: 526.4465 - val_loss: 299.6135\n",
      "Epoch 238/500\n",
      "12/12 [==============================] - 0s 6ms/step - loss: 518.5932 - val_loss: 293.6877\n",
      "Epoch 239/500\n",
      "12/12 [==============================] - 0s 4ms/step - loss: 510.8260 - val_loss: 287.8413\n",
      "Epoch 240/500\n",
      "12/12 [==============================] - 0s 4ms/step - loss: 503.1443 - val_loss: 282.0736\n",
      "Epoch 241/500\n",
      "12/12 [==============================] - 0s 6ms/step - loss: 495.5481 - val_loss: 276.3846\n",
      "Epoch 242/500\n",
      "12/12 [==============================] - 0s 12ms/step - loss: 488.0365 - val_loss: 270.7734\n",
      "Epoch 243/500\n",
      "12/12 [==============================] - 0s 6ms/step - loss: 480.6090 - val_loss: 265.2396\n",
      "Epoch 244/500\n",
      "12/12 [==============================] - 0s 4ms/step - loss: 473.2654 - val_loss: 259.7824\n",
      "Epoch 245/500\n",
      "12/12 [==============================] - 0s 4ms/step - loss: 466.0046 - val_loss: 254.4013\n",
      "Epoch 246/500\n",
      "12/12 [==============================] - 0s 6ms/step - loss: 458.8265 - val_loss: 249.0963\n",
      "Epoch 247/500\n",
      "12/12 [==============================] - 0s 6ms/step - loss: 451.7303 - val_loss: 243.8654\n",
      "Epoch 248/500\n",
      "12/12 [==============================] - 0s 6ms/step - loss: 444.7152 - val_loss: 238.7099\n",
      "Epoch 249/500\n",
      "12/12 [==============================] - 0s 6ms/step - loss: 437.7813 - val_loss: 233.6278\n",
      "Epoch 250/500\n",
      "12/12 [==============================] - 0s 4ms/step - loss: 430.9275 - val_loss: 228.6189\n",
      "Epoch 251/500\n",
      "12/12 [==============================] - 0s 6ms/step - loss: 424.1536 - val_loss: 223.6834\n",
      "Epoch 252/500\n",
      "12/12 [==============================] - 0s 6ms/step - loss: 417.4593 - val_loss: 218.8195\n",
      "Epoch 253/500\n",
      "12/12 [==============================] - 0s 6ms/step - loss: 410.8433 - val_loss: 214.0278\n",
      "Epoch 254/500\n",
      "12/12 [==============================] - 0s 6ms/step - loss: 404.3057 - val_loss: 209.3069\n",
      "Epoch 255/500\n",
      "12/12 [==============================] - 0s 5ms/step - loss: 397.8456 - val_loss: 204.6566\n",
      "Epoch 256/500\n",
      "12/12 [==============================] - 0s 4ms/step - loss: 391.4627 - val_loss: 200.0768\n",
      "Epoch 257/500\n",
      "12/12 [==============================] - 0s 6ms/step - loss: 385.1564 - val_loss: 195.5659\n",
      "Epoch 258/500\n",
      "12/12 [==============================] - 0s 4ms/step - loss: 378.9259 - val_loss: 191.1237\n",
      "Epoch 259/500\n",
      "12/12 [==============================] - 0s 5ms/step - loss: 372.7711 - val_loss: 186.7506\n",
      "Epoch 260/500\n",
      "12/12 [==============================] - 0s 5ms/step - loss: 366.6915 - val_loss: 182.4449\n",
      "Epoch 261/500\n",
      "12/12 [==============================] - 0s 6ms/step - loss: 360.6858 - val_loss: 178.2064\n",
      "Epoch 262/500\n",
      "12/12 [==============================] - 0s 5ms/step - loss: 354.7539 - val_loss: 174.0343\n",
      "Epoch 263/500\n",
      "12/12 [==============================] - 0s 6ms/step - loss: 348.8954 - val_loss: 169.9285\n",
      "Epoch 264/500\n",
      "12/12 [==============================] - 0s 6ms/step - loss: 343.1101 - val_loss: 165.8888\n",
      "Epoch 265/500\n",
      "12/12 [==============================] - 0s 6ms/step - loss: 337.3970 - val_loss: 161.9138\n",
      "Epoch 266/500\n",
      "12/12 [==============================] - 0s 6ms/step - loss: 331.7558 - val_loss: 158.0033\n",
      "Epoch 267/500\n",
      "12/12 [==============================] - 0s 13ms/step - loss: 326.1857 - val_loss: 154.1565\n",
      "Epoch 268/500\n",
      "12/12 [==============================] - 0s 6ms/step - loss: 320.6862 - val_loss: 150.3734\n",
      "Epoch 269/500\n",
      "12/12 [==============================] - 0s 4ms/step - loss: 315.2565 - val_loss: 146.6527\n",
      "Epoch 270/500\n",
      "12/12 [==============================] - 0s 4ms/step - loss: 309.8967 - val_loss: 142.9945\n",
      "Epoch 271/500\n",
      "12/12 [==============================] - 0s 5ms/step - loss: 304.6056 - val_loss: 139.3977\n",
      "Epoch 272/500\n",
      "12/12 [==============================] - 0s 4ms/step - loss: 299.3831 - val_loss: 135.8623\n",
      "Epoch 273/500\n",
      "12/12 [==============================] - 0s 4ms/step - loss: 294.2288 - val_loss: 132.3875\n",
      "Epoch 274/500\n",
      "12/12 [==============================] - 0s 4ms/step - loss: 289.1420 - val_loss: 128.9727\n",
      "Epoch 275/500\n",
      "12/12 [==============================] - 0s 4ms/step - loss: 284.1219 - val_loss: 125.6174\n",
      "Epoch 276/500\n",
      "12/12 [==============================] - 0s 7ms/step - loss: 279.1684 - val_loss: 122.3214\n",
      "Epoch 277/500\n",
      "12/12 [==============================] - 0s 9ms/step - loss: 274.2805 - val_loss: 119.0830\n",
      "Epoch 278/500\n",
      "12/12 [==============================] - 0s 9ms/step - loss: 269.4583 - val_loss: 115.9032\n",
      "Epoch 279/500\n",
      "12/12 [==============================] - 0s 8ms/step - loss: 264.7009 - val_loss: 112.7804\n",
      "Epoch 280/500\n",
      "12/12 [==============================] - 0s 7ms/step - loss: 260.0077 - val_loss: 109.7147\n",
      "Epoch 281/500\n",
      "12/12 [==============================] - 0s 6ms/step - loss: 255.3782 - val_loss: 106.7047\n",
      "Epoch 282/500\n",
      "12/12 [==============================] - 0s 6ms/step - loss: 250.8118 - val_loss: 103.7508\n",
      "Epoch 283/500\n",
      "12/12 [==============================] - 0s 6ms/step - loss: 246.3085 - val_loss: 100.8521\n",
      "Epoch 284/500\n",
      "12/12 [==============================] - 0s 4ms/step - loss: 241.8230 - val_loss: 96.2956\n",
      "Epoch 285/500\n",
      "12/12 [==============================] - 0s 5ms/step - loss: 234.2660 - val_loss: 92.5305\n",
      "Epoch 286/500\n",
      "12/12 [==============================] - 0s 6ms/step - loss: 228.3381 - val_loss: 88.8240\n",
      "Epoch 287/500\n",
      "12/12 [==============================] - 0s 7ms/step - loss: 222.6255 - val_loss: 85.3431\n",
      "Epoch 288/500\n",
      "12/12 [==============================] - 0s 6ms/step - loss: 217.2177 - val_loss: 82.0621\n",
      "Epoch 289/500\n",
      "12/12 [==============================] - 0s 6ms/step - loss: 212.0672 - val_loss: 78.9463\n",
      "Epoch 290/500\n",
      "12/12 [==============================] - 0s 12ms/step - loss: 207.1276 - val_loss: 75.9697\n",
      "Epoch 291/500\n",
      "12/12 [==============================] - 0s 7ms/step - loss: 202.3647 - val_loss: 73.1139\n",
      "Epoch 292/500\n",
      "12/12 [==============================] - 0s 6ms/step - loss: 197.7550 - val_loss: 70.3660\n",
      "Epoch 293/500\n",
      "12/12 [==============================] - 0s 6ms/step - loss: 193.2816 - val_loss: 67.7162\n",
      "Epoch 294/500\n",
      "12/12 [==============================] - 0s 6ms/step - loss: 188.9315 - val_loss: 65.1569\n",
      "Epoch 295/500\n",
      "12/12 [==============================] - 0s 4ms/step - loss: 184.6951 - val_loss: 62.6822\n",
      "Epoch 296/500\n",
      "12/12 [==============================] - 0s 4ms/step - loss: 180.5648 - val_loss: 60.2877\n",
      "Epoch 297/500\n",
      "12/12 [==============================] - 0s 6ms/step - loss: 176.5341 - val_loss: 57.9687\n",
      "Epoch 298/500\n",
      "12/12 [==============================] - 0s 6ms/step - loss: 172.5980 - val_loss: 55.7222\n",
      "Epoch 299/500\n",
      "12/12 [==============================] - 0s 6ms/step - loss: 168.7515 - val_loss: 53.5449\n",
      "Epoch 300/500\n",
      "12/12 [==============================] - 0s 4ms/step - loss: 164.9913 - val_loss: 51.4343\n",
      "Epoch 301/500\n",
      "12/12 [==============================] - 0s 4ms/step - loss: 161.3135 - val_loss: 49.3879\n",
      "Epoch 302/500\n",
      "12/12 [==============================] - 0s 6ms/step - loss: 157.7156 - val_loss: 47.4038\n",
      "Epoch 303/500\n",
      "12/12 [==============================] - 0s 6ms/step - loss: 154.1947 - val_loss: 45.4799\n",
      "Epoch 304/500\n",
      "12/12 [==============================] - 0s 5ms/step - loss: 150.7485 - val_loss: 43.6143\n",
      "Epoch 305/500\n",
      "12/12 [==============================] - 0s 5ms/step - loss: 147.3748 - val_loss: 41.8056\n",
      "Epoch 306/500\n",
      "12/12 [==============================] - 0s 4ms/step - loss: 144.0712 - val_loss: 40.0520\n",
      "Epoch 307/500\n",
      "12/12 [==============================] - 0s 4ms/step - loss: 140.8362 - val_loss: 38.3523\n",
      "Epoch 308/500\n",
      "12/12 [==============================] - 0s 6ms/step - loss: 137.6680 - val_loss: 36.7046\n",
      "Epoch 309/500\n",
      "12/12 [==============================] - 0s 4ms/step - loss: 134.5646 - val_loss: 35.1082\n",
      "Epoch 310/500\n",
      "12/12 [==============================] - 0s 6ms/step - loss: 131.5247 - val_loss: 33.5613\n",
      "Epoch 311/500\n",
      "12/12 [==============================] - 0s 4ms/step - loss: 128.5469 - val_loss: 32.0633\n",
      "Epoch 312/500\n",
      "12/12 [==============================] - 0s 4ms/step - loss: 125.6297 - val_loss: 30.6126\n",
      "Epoch 313/500\n",
      "12/12 [==============================] - 0s 4ms/step - loss: 122.7719 - val_loss: 29.2084\n",
      "Epoch 314/500\n",
      "12/12 [==============================] - 0s 7ms/step - loss: 119.9722 - val_loss: 27.8496\n",
      "Epoch 315/500\n",
      "12/12 [==============================] - 0s 9ms/step - loss: 117.2293 - val_loss: 26.5352\n",
      "Epoch 316/500\n",
      "12/12 [==============================] - 0s 5ms/step - loss: 114.5424 - val_loss: 25.2641\n",
      "Epoch 317/500\n",
      "12/12 [==============================] - 0s 5ms/step - loss: 111.9101 - val_loss: 24.0356\n",
      "Epoch 318/500\n",
      "12/12 [==============================] - 0s 5ms/step - loss: 109.3314 - val_loss: 22.8485\n",
      "Epoch 319/500\n",
      "12/12 [==============================] - 0s 6ms/step - loss: 106.8053 - val_loss: 21.7022\n",
      "Epoch 320/500\n",
      "12/12 [==============================] - 0s 4ms/step - loss: 104.3309 - val_loss: 20.5956\n",
      "Epoch 321/500\n",
      "12/12 [==============================] - 0s 4ms/step - loss: 101.9071 - val_loss: 19.5281\n",
      "Epoch 322/500\n",
      "12/12 [==============================] - 0s 6ms/step - loss: 99.5330 - val_loss: 18.4986\n",
      "Epoch 323/500\n",
      "12/12 [==============================] - 0s 6ms/step - loss: 97.2079 - val_loss: 17.5067\n",
      "Epoch 324/500\n",
      "12/12 [==============================] - 0s 6ms/step - loss: 94.9309 - val_loss: 16.5513\n",
      "Epoch 325/500\n",
      "12/12 [==============================] - 0s 4ms/step - loss: 92.7007 - val_loss: 15.6316\n",
      "Epoch 326/500\n",
      "12/12 [==============================] - 0s 4ms/step - loss: 90.5169 - val_loss: 14.7470\n",
      "Epoch 327/500\n",
      "12/12 [==============================] - 0s 6ms/step - loss: 88.3785 - val_loss: 13.8966\n",
      "Epoch 328/500\n",
      "12/12 [==============================] - 0s 5ms/step - loss: 86.2846 - val_loss: 13.0799\n",
      "Epoch 329/500\n",
      "12/12 [==============================] - 0s 4ms/step - loss: 84.2346 - val_loss: 12.2960\n",
      "Epoch 330/500\n",
      "12/12 [==============================] - 0s 4ms/step - loss: 82.2277 - val_loss: 11.5444\n",
      "Epoch 331/500\n",
      "12/12 [==============================] - 0s 6ms/step - loss: 80.2631 - val_loss: 10.8241\n",
      "Epoch 332/500\n",
      "12/12 [==============================] - 0s 6ms/step - loss: 78.3401 - val_loss: 10.1348\n",
      "Epoch 333/500\n",
      "12/12 [==============================] - 0s 4ms/step - loss: 76.4580 - val_loss: 9.4758\n",
      "Epoch 334/500\n",
      "12/12 [==============================] - 0s 4ms/step - loss: 74.6162 - val_loss: 8.8462\n",
      "Epoch 335/500\n",
      "12/12 [==============================] - 0s 4ms/step - loss: 72.8140 - val_loss: 8.2455\n",
      "Epoch 336/500\n",
      "12/12 [==============================] - 0s 6ms/step - loss: 71.0504 - val_loss: 7.6730\n",
      "Epoch 337/500\n",
      "12/12 [==============================] - 0s 6ms/step - loss: 69.3250 - val_loss: 7.1282\n",
      "Epoch 338/500\n",
      "12/12 [==============================] - 0s 12ms/step - loss: 67.6371 - val_loss: 6.6105\n",
      "Epoch 339/500\n",
      "12/12 [==============================] - 0s 5ms/step - loss: 65.9861 - val_loss: 6.1190\n",
      "Epoch 340/500\n",
      "12/12 [==============================] - 0s 6ms/step - loss: 64.3712 - val_loss: 5.6536\n",
      "Epoch 341/500\n",
      "12/12 [==============================] - 0s 6ms/step - loss: 62.7920 - val_loss: 5.2132\n",
      "Epoch 342/500\n",
      "12/12 [==============================] - 0s 4ms/step - loss: 61.2474 - val_loss: 4.7976\n",
      "Epoch 343/500\n",
      "12/12 [==============================] - 0s 4ms/step - loss: 59.7373 - val_loss: 4.4060\n",
      "Epoch 344/500\n",
      "12/12 [==============================] - 0s 6ms/step - loss: 58.2609 - val_loss: 4.0381\n",
      "Epoch 345/500\n",
      "12/12 [==============================] - 0s 6ms/step - loss: 56.8178 - val_loss: 3.6931\n",
      "Epoch 346/500\n",
      "12/12 [==============================] - 0s 6ms/step - loss: 55.4072 - val_loss: 3.3706\n",
      "Epoch 347/500\n",
      "12/12 [==============================] - 0s 4ms/step - loss: 54.0285 - val_loss: 3.0700\n",
      "Epoch 348/500\n",
      "12/12 [==============================] - 0s 4ms/step - loss: 52.6813 - val_loss: 2.7907\n",
      "Epoch 349/500\n",
      "12/12 [==============================] - 0s 6ms/step - loss: 51.3649 - val_loss: 2.5323\n",
      "Epoch 350/500\n",
      "12/12 [==============================] - 0s 6ms/step - loss: 50.0788 - val_loss: 2.2943\n",
      "Epoch 351/500\n",
      "12/12 [==============================] - 0s 6ms/step - loss: 48.8225 - val_loss: 2.0761\n",
      "Epoch 352/500\n",
      "12/12 [==============================] - 0s 5ms/step - loss: 47.5956 - val_loss: 1.8772\n",
      "Epoch 353/500\n",
      "12/12 [==============================] - 0s 6ms/step - loss: 46.3973 - val_loss: 1.6972\n",
      "Epoch 354/500\n",
      "12/12 [==============================] - 0s 5ms/step - loss: 45.2271 - val_loss: 1.5355\n",
      "Epoch 355/500\n",
      "12/12 [==============================] - 0s 5ms/step - loss: 44.0846 - val_loss: 1.3917\n",
      "Epoch 356/500\n",
      "12/12 [==============================] - 0s 5ms/step - loss: 42.9694 - val_loss: 1.2653\n",
      "Epoch 357/500\n",
      "12/12 [==============================] - 0s 5ms/step - loss: 41.8807 - val_loss: 1.1558\n",
      "Epoch 358/500\n",
      "12/12 [==============================] - 0s 4ms/step - loss: 40.8182 - val_loss: 1.0628\n",
      "Epoch 359/500\n",
      "12/12 [==============================] - 0s 4ms/step - loss: 39.7815 - val_loss: 0.9858\n",
      "Epoch 360/500\n",
      "12/12 [==============================] - 0s 5ms/step - loss: 38.7698 - val_loss: 0.9243\n",
      "Epoch 361/500\n",
      "12/12 [==============================] - 0s 8ms/step - loss: 37.7829 - val_loss: 0.8779\n",
      "Epoch 362/500\n",
      "12/12 [==============================] - 0s 5ms/step - loss: 36.8202 - val_loss: 0.8463\n",
      "Epoch 363/500\n",
      "12/12 [==============================] - 0s 4ms/step - loss: 35.8813 - val_loss: 0.8289\n",
      "Epoch 364/500\n",
      "12/12 [==============================] - 0s 5ms/step - loss: 34.9657 - val_loss: 0.8253\n",
      "Epoch 365/500\n",
      "12/12 [==============================] - 0s 5ms/step - loss: 34.0729 - val_loss: 0.8351\n",
      "Epoch 366/500\n",
      "12/12 [==============================] - 0s 5ms/step - loss: 33.2026 - val_loss: 0.8579\n",
      "Epoch 367/500\n",
      "12/12 [==============================] - 0s 6ms/step - loss: 32.3543 - val_loss: 0.8932\n",
      "Epoch 368/500\n",
      "12/12 [==============================] - 0s 4ms/step - loss: 31.5275 - val_loss: 0.9408\n",
      "Epoch 369/500\n",
      "12/12 [==============================] - 0s 6ms/step - loss: 30.7220 - val_loss: 1.0002\n",
      "Epoch 370/500\n",
      "12/12 [==============================] - 0s 5ms/step - loss: 29.9371 - val_loss: 1.0709\n",
      "Epoch 371/500\n",
      "12/12 [==============================] - 0s 5ms/step - loss: 29.1725 - val_loss: 1.1527\n",
      "Epoch 372/500\n",
      "12/12 [==============================] - 0s 5ms/step - loss: 28.4277 - val_loss: 1.2451\n",
      "Epoch 373/500\n",
      "12/12 [==============================] - 0s 6ms/step - loss: 27.7024 - val_loss: 1.3478\n",
      "Epoch 374/500\n",
      "12/12 [==============================] - 0s 5ms/step - loss: 26.9961 - val_loss: 1.4605\n",
      "Epoch 375/500\n",
      "12/12 [==============================] - 0s 4ms/step - loss: 26.3085 - val_loss: 1.5826\n",
      "Epoch 376/500\n",
      "12/12 [==============================] - 0s 5ms/step - loss: 25.6392 - val_loss: 1.7140\n",
      "Epoch 377/500\n",
      "12/12 [==============================] - 0s 5ms/step - loss: 24.9878 - val_loss: 1.8542\n",
      "Epoch 378/500\n",
      "12/12 [==============================] - 0s 5ms/step - loss: 24.3540 - val_loss: 2.0029\n",
      "Epoch 379/500\n",
      "12/12 [==============================] - 0s 6ms/step - loss: 23.7373 - val_loss: 2.1598\n",
      "Epoch 380/500\n",
      "12/12 [==============================] - 0s 4ms/step - loss: 23.1374 - val_loss: 2.3245\n",
      "Epoch 381/500\n",
      "12/12 [==============================] - 0s 6ms/step - loss: 22.5538 - val_loss: 2.4968\n",
      "Epoch 382/500\n",
      "12/12 [==============================] - 0s 5ms/step - loss: 21.9864 - val_loss: 2.6762\n",
      "Epoch 383/500\n",
      "12/12 [==============================] - 0s 13ms/step - loss: 21.4348 - val_loss: 2.8625\n",
      "Epoch 384/500\n",
      "12/12 [==============================] - 0s 5ms/step - loss: 20.8985 - val_loss: 3.0554\n",
      "Epoch 385/500\n",
      "12/12 [==============================] - 0s 5ms/step - loss: 20.3771 - val_loss: 3.2546\n",
      "Epoch 386/500\n",
      "12/12 [==============================] - 0s 5ms/step - loss: 19.8704 - val_loss: 3.4598\n",
      "Epoch 387/500\n",
      "12/12 [==============================] - 0s 5ms/step - loss: 19.3781 - val_loss: 3.6706\n",
      "Epoch 388/500\n",
      "12/12 [==============================] - 0s 5ms/step - loss: 18.8998 - val_loss: 3.8869\n",
      "Epoch 389/500\n",
      "12/12 [==============================] - 0s 5ms/step - loss: 18.4353 - val_loss: 4.1083\n",
      "Epoch 390/500\n",
      "12/12 [==============================] - 0s 5ms/step - loss: 17.9842 - val_loss: 4.3345\n",
      "Epoch 391/500\n",
      "12/12 [==============================] - 0s 4ms/step - loss: 17.5461 - val_loss: 4.5654\n",
      "Epoch 392/500\n",
      "12/12 [==============================] - 0s 5ms/step - loss: 17.1208 - val_loss: 4.8005\n",
      "Epoch 393/500\n",
      "12/12 [==============================] - 0s 6ms/step - loss: 16.7081 - val_loss: 5.0396\n",
      "Epoch 394/500\n",
      "12/12 [==============================] - 0s 5ms/step - loss: 16.3075 - val_loss: 5.2827\n",
      "Epoch 395/500\n",
      "12/12 [==============================] - 0s 5ms/step - loss: 15.9187 - val_loss: 5.5293\n",
      "Epoch 396/500\n",
      "12/12 [==============================] - 0s 4ms/step - loss: 15.5415 - val_loss: 5.7792\n",
      "Epoch 397/500\n",
      "12/12 [==============================] - 0s 5ms/step - loss: 15.1757 - val_loss: 6.0321\n",
      "Epoch 398/500\n",
      "12/12 [==============================] - 0s 5ms/step - loss: 14.8210 - val_loss: 6.2880\n",
      "Epoch 399/500\n",
      "12/12 [==============================] - 0s 6ms/step - loss: 14.4769 - val_loss: 6.5464\n",
      "Epoch 400/500\n",
      "12/12 [==============================] - 0s 5ms/step - loss: 14.1435 - val_loss: 6.8073\n",
      "Epoch 401/500\n",
      "12/12 [==============================] - 0s 4ms/step - loss: 13.8203 - val_loss: 7.0703\n",
      "Epoch 402/500\n",
      "12/12 [==============================] - 0s 5ms/step - loss: 13.5071 - val_loss: 7.3354\n",
      "Epoch 403/500\n",
      "12/12 [==============================] - 0s 5ms/step - loss: 13.2036 - val_loss: 7.6022\n",
      "Epoch 404/500\n",
      "12/12 [==============================] - 0s 5ms/step - loss: 12.9095 - val_loss: 7.8706\n",
      "Epoch 405/500\n",
      "12/12 [==============================] - 0s 12ms/step - loss: 12.6247 - val_loss: 8.1405\n",
      "Epoch 406/500\n",
      "12/12 [==============================] - 0s 6ms/step - loss: 12.3489 - val_loss: 8.4114\n",
      "Epoch 407/500\n",
      "12/12 [==============================] - 0s 6ms/step - loss: 12.0819 - val_loss: 8.6834\n",
      "Epoch 408/500\n",
      "12/12 [==============================] - 0s 5ms/step - loss: 11.8234 - val_loss: 8.9562\n",
      "Epoch 409/500\n",
      "12/12 [==============================] - 0s 5ms/step - loss: 11.5731 - val_loss: 9.2298\n",
      "Epoch 410/500\n",
      "12/12 [==============================] - 0s 4ms/step - loss: 11.3310 - val_loss: 9.5037\n",
      "Epoch 411/500\n",
      "12/12 [==============================] - 0s 6ms/step - loss: 11.0968 - val_loss: 9.7780\n",
      "Epoch 412/500\n",
      "12/12 [==============================] - 0s 5ms/step - loss: 10.8702 - val_loss: 10.0523\n",
      "Epoch 413/500\n",
      "12/12 [==============================] - 0s 5ms/step - loss: 10.6510 - val_loss: 10.3268\n",
      "Epoch 414/500\n",
      "12/12 [==============================] - 0s 5ms/step - loss: 10.4392 - val_loss: 10.6011\n",
      "Epoch 415/500\n",
      "12/12 [==============================] - 0s 4ms/step - loss: 10.2343 - val_loss: 10.8751\n",
      "Epoch 416/500\n",
      "12/12 [==============================] - 0s 5ms/step - loss: 10.0363 - val_loss: 11.1486\n",
      "Epoch 417/500\n",
      "12/12 [==============================] - 0s 4ms/step - loss: 9.8449 - val_loss: 11.4217\n",
      "Epoch 418/500\n",
      "12/12 [==============================] - 0s 5ms/step - loss: 9.6599 - val_loss: 11.6939\n",
      "Epoch 419/500\n",
      "12/12 [==============================] - 0s 5ms/step - loss: 9.4813 - val_loss: 11.9653\n",
      "Epoch 420/500\n",
      "12/12 [==============================] - 0s 5ms/step - loss: 9.3087 - val_loss: 12.2360\n",
      "Epoch 421/500\n",
      "12/12 [==============================] - 0s 6ms/step - loss: 9.1421 - val_loss: 12.5053\n",
      "Epoch 422/500\n",
      "12/12 [==============================] - 0s 5ms/step - loss: 8.9812 - val_loss: 12.7735\n",
      "Epoch 423/500\n",
      "12/12 [==============================] - 0s 5ms/step - loss: 8.8259 - val_loss: 13.0404\n",
      "Epoch 424/500\n",
      "12/12 [==============================] - 0s 4ms/step - loss: 8.6760 - val_loss: 13.3059\n",
      "Epoch 425/500\n",
      "12/12 [==============================] - 0s 5ms/step - loss: 8.5314 - val_loss: 13.5699\n",
      "Epoch 426/500\n",
      "12/12 [==============================] - 0s 12ms/step - loss: 8.3918 - val_loss: 13.8322\n",
      "Epoch 427/500\n",
      "12/12 [==============================] - 0s 6ms/step - loss: 8.2572 - val_loss: 14.0928\n",
      "Epoch 428/500\n",
      "12/12 [==============================] - 0s 5ms/step - loss: 8.1275 - val_loss: 14.3516\n",
      "Epoch 429/500\n",
      "12/12 [==============================] - 0s 5ms/step - loss: 8.0023 - val_loss: 14.6086\n",
      "Epoch 430/500\n",
      "12/12 [==============================] - 0s 5ms/step - loss: 7.8816 - val_loss: 14.8636\n",
      "Epoch 431/500\n",
      "12/12 [==============================] - 0s 4ms/step - loss: 7.7652 - val_loss: 15.1168\n",
      "Epoch 432/500\n",
      "12/12 [==============================] - 0s 5ms/step - loss: 7.6531 - val_loss: 15.3676\n",
      "Epoch 433/500\n",
      "12/12 [==============================] - 0s 4ms/step - loss: 7.5451 - val_loss: 15.6163\n",
      "Epoch 434/500\n",
      "12/12 [==============================] - 0s 5ms/step - loss: 7.4410 - val_loss: 15.8628\n",
      "Epoch 435/500\n",
      "12/12 [==============================] - 0s 5ms/step - loss: 7.3407 - val_loss: 16.1067\n",
      "Epoch 436/500\n",
      "12/12 [==============================] - 0s 5ms/step - loss: 7.2442 - val_loss: 16.3484\n",
      "Epoch 437/500\n",
      "12/12 [==============================] - 0s 5ms/step - loss: 7.1512 - val_loss: 16.5876\n",
      "Epoch 438/500\n",
      "12/12 [==============================] - 0s 5ms/step - loss: 7.0618 - val_loss: 16.8243\n",
      "Epoch 439/500\n",
      "12/12 [==============================] - 0s 5ms/step - loss: 6.9757 - val_loss: 17.0585\n",
      "Epoch 440/500\n",
      "12/12 [==============================] - 0s 4ms/step - loss: 6.8928 - val_loss: 17.2901\n",
      "Epoch 441/500\n",
      "12/12 [==============================] - 0s 5ms/step - loss: 6.8131 - val_loss: 17.5190\n",
      "Epoch 442/500\n",
      "12/12 [==============================] - 0s 6ms/step - loss: 6.7364 - val_loss: 17.7452\n",
      "Epoch 443/500\n",
      "12/12 [==============================] - 0s 4ms/step - loss: 6.6626 - val_loss: 17.9686\n",
      "Epoch 444/500\n",
      "12/12 [==============================] - 0s 5ms/step - loss: 6.5917 - val_loss: 18.1894\n",
      "Epoch 445/500\n",
      "12/12 [==============================] - 0s 5ms/step - loss: 6.5235 - val_loss: 18.4074\n",
      "Epoch 446/500\n",
      "12/12 [==============================] - 0s 12ms/step - loss: 6.4579 - val_loss: 18.6223\n",
      "Epoch 447/500\n",
      "12/12 [==============================] - 0s 5ms/step - loss: 6.3949 - val_loss: 18.8349\n",
      "Epoch 448/500\n",
      "12/12 [==============================] - 0s 5ms/step - loss: 6.3343 - val_loss: 19.0442\n",
      "Epoch 449/500\n",
      "12/12 [==============================] - 0s 5ms/step - loss: 6.2761 - val_loss: 19.2507\n",
      "Epoch 450/500\n",
      "12/12 [==============================] - 0s 5ms/step - loss: 6.2202 - val_loss: 19.4542\n",
      "Epoch 451/500\n",
      "12/12 [==============================] - 0s 5ms/step - loss: 6.1665 - val_loss: 19.6548\n",
      "Epoch 452/500\n",
      "12/12 [==============================] - 0s 4ms/step - loss: 6.1150 - val_loss: 19.8525\n",
      "Epoch 453/500\n",
      "12/12 [==============================] - 0s 6ms/step - loss: 6.0655 - val_loss: 20.0472\n",
      "Epoch 454/500\n",
      "12/12 [==============================] - 0s 5ms/step - loss: 6.0179 - val_loss: 20.2388\n",
      "Epoch 455/500\n",
      "12/12 [==============================] - 0s 5ms/step - loss: 5.9723 - val_loss: 20.4278\n",
      "Epoch 456/500\n",
      "12/12 [==============================] - 0s 5ms/step - loss: 5.9285 - val_loss: 20.6135\n",
      "Epoch 457/500\n",
      "12/12 [==============================] - 0s 5ms/step - loss: 5.8865 - val_loss: 20.7962\n",
      "Epoch 458/500\n",
      "12/12 [==============================] - 0s 5ms/step - loss: 5.8461 - val_loss: 20.9761\n",
      "Epoch 459/500\n",
      "12/12 [==============================] - 0s 4ms/step - loss: 5.8074 - val_loss: 21.1529\n",
      "Epoch 460/500\n",
      "12/12 [==============================] - 0s 6ms/step - loss: 5.7703 - val_loss: 21.3266\n",
      "Epoch 461/500\n",
      "12/12 [==============================] - 0s 5ms/step - loss: 5.7347 - val_loss: 21.4974\n",
      "Epoch 462/500\n",
      "12/12 [==============================] - 0s 5ms/step - loss: 5.7006 - val_loss: 21.6653\n",
      "Epoch 463/500\n",
      "12/12 [==============================] - 0s 5ms/step - loss: 5.6679 - val_loss: 21.8302\n",
      "Epoch 464/500\n",
      "12/12 [==============================] - 0s 4ms/step - loss: 5.6365 - val_loss: 21.9922\n",
      "Epoch 465/500\n",
      "12/12 [==============================] - 0s 5ms/step - loss: 5.6064 - val_loss: 22.1512\n",
      "Epoch 466/500\n",
      "12/12 [==============================] - 0s 8ms/step - loss: 5.5776 - val_loss: 22.3071\n",
      "Epoch 467/500\n",
      "12/12 [==============================] - 0s 5ms/step - loss: 5.5500 - val_loss: 22.4603\n",
      "Epoch 468/500\n",
      "12/12 [==============================] - 0s 5ms/step - loss: 5.5235 - val_loss: 22.6106\n",
      "Epoch 469/500\n",
      "12/12 [==============================] - 0s 5ms/step - loss: 5.4982 - val_loss: 22.7578\n",
      "Epoch 470/500\n",
      "12/12 [==============================] - 0s 5ms/step - loss: 5.4739 - val_loss: 22.9022\n",
      "Epoch 471/500\n",
      "12/12 [==============================] - 0s 5ms/step - loss: 5.4506 - val_loss: 23.0439\n",
      "Epoch 472/500\n",
      "12/12 [==============================] - 0s 6ms/step - loss: 5.4283 - val_loss: 23.1828\n",
      "Epoch 473/500\n",
      "12/12 [==============================] - 0s 5ms/step - loss: 5.4070 - val_loss: 23.3187\n",
      "Epoch 474/500\n",
      "12/12 [==============================] - 0s 5ms/step - loss: 5.3865 - val_loss: 23.4519\n",
      "Epoch 475/500\n",
      "12/12 [==============================] - 0s 5ms/step - loss: 5.3670 - val_loss: 23.5822\n",
      "Epoch 476/500\n",
      "12/12 [==============================] - 0s 6ms/step - loss: 5.3482 - val_loss: 23.7098\n",
      "Epoch 477/500\n",
      "12/12 [==============================] - 0s 5ms/step - loss: 5.3303 - val_loss: 23.8349\n",
      "Epoch 478/500\n",
      "12/12 [==============================] - 0s 5ms/step - loss: 5.3131 - val_loss: 23.9571\n",
      "Epoch 479/500\n",
      "12/12 [==============================] - 0s 4ms/step - loss: 5.2967 - val_loss: 24.0767\n",
      "Epoch 480/500\n",
      "12/12 [==============================] - 0s 4ms/step - loss: 5.2809 - val_loss: 24.1938\n",
      "Epoch 481/500\n",
      "12/12 [==============================] - 0s 5ms/step - loss: 5.2659 - val_loss: 24.3080\n",
      "Epoch 482/500\n",
      "12/12 [==============================] - 0s 5ms/step - loss: 5.2515 - val_loss: 24.4199\n",
      "Epoch 483/500\n",
      "12/12 [==============================] - 0s 6ms/step - loss: 5.2377 - val_loss: 24.5292\n",
      "Epoch 484/500\n",
      "12/12 [==============================] - 0s 11ms/step - loss: 5.2245 - val_loss: 24.6359\n",
      "Epoch 485/500\n",
      "12/12 [==============================] - 0s 5ms/step - loss: 5.2119 - val_loss: 24.7402\n",
      "Epoch 486/500\n",
      "12/12 [==============================] - 0s 5ms/step - loss: 5.1998 - val_loss: 24.8421\n",
      "Epoch 487/500\n",
      "12/12 [==============================] - 0s 5ms/step - loss: 5.1882 - val_loss: 24.9414\n",
      "Epoch 488/500\n",
      "12/12 [==============================] - 0s 6ms/step - loss: 5.1772 - val_loss: 25.0383\n",
      "Epoch 489/500\n",
      "12/12 [==============================] - 0s 5ms/step - loss: 5.1666 - val_loss: 25.1332\n",
      "Epoch 490/500\n",
      "12/12 [==============================] - 0s 6ms/step - loss: 5.1565 - val_loss: 25.2256\n",
      "Epoch 491/500\n",
      "12/12 [==============================] - 0s 5ms/step - loss: 5.1468 - val_loss: 25.3159\n",
      "Epoch 492/500\n",
      "12/12 [==============================] - 0s 5ms/step - loss: 5.1375 - val_loss: 25.4036\n",
      "Epoch 493/500\n",
      "12/12 [==============================] - 0s 6ms/step - loss: 5.1287 - val_loss: 25.4894\n",
      "Epoch 494/500\n",
      "12/12 [==============================] - 0s 5ms/step - loss: 5.1202 - val_loss: 25.5729\n",
      "Epoch 495/500\n",
      "12/12 [==============================] - 0s 4ms/step - loss: 5.1121 - val_loss: 25.6543\n",
      "Epoch 496/500\n",
      "12/12 [==============================] - 0s 5ms/step - loss: 5.1044 - val_loss: 25.7336\n",
      "Epoch 497/500\n",
      "12/12 [==============================] - 0s 5ms/step - loss: 5.0969 - val_loss: 25.8108\n",
      "Epoch 498/500\n",
      "12/12 [==============================] - 0s 4ms/step - loss: 5.0898 - val_loss: 25.8858\n",
      "Epoch 499/500\n",
      "12/12 [==============================] - 0s 5ms/step - loss: 5.0831 - val_loss: 25.9590\n",
      "Epoch 500/500\n",
      "12/12 [==============================] - 0s 5ms/step - loss: 5.0766 - val_loss: 26.0303\n"
     ]
    }
   ],
   "source": [
    "C0 = tf.Variable(89.3180, name=\"C0\", trainable=True, dtype=tf.float32)\n",
    "K0 = tf.Variable(-0.0010, name=\"K0\", trainable=True, dtype=tf.float32)\n",
    "K1 = tf.Variable(0.0001, name=\"K1\", trainable=True, dtype=tf.float32)\n",
    "a = tf.Variable(0.0000, name=\"a\", trainable=True, dtype=tf.float32)\n",
    "b = tf.Variable(-0.0204, name=\"b\", trainable=True, dtype=tf.float32)\n",
    "c = tf.Variable(2.2194, name=\"c\", trainable=True, dtype=tf.float32)\n",
    "\n",
    "splitr = 0.8\n",
    "\n",
    "\n",
    "def loss_fn(y_true, y_pred):\n",
    "    squared_difference = tf.square(y_true[:, 0] - y_pred[:, 0])\n",
    "    #squared_difference2 = tf.square(y_true[:, 2]-y_pred[:, 2])\n",
    "    #squared_difference1 = tf.square(y_true[:, 1]-y_pred[:, 1])\n",
    "    epsilon = 1\n",
    "    squared_difference3 = tf.square(\n",
    "        y_pred[:, 1] - (\n",
    "            y_pred[:, 0] * (\n",
    "                K0 - K1 * (\n",
    "                    9 * a * tf.math.log((y_pred[:, 0] + epsilon) / C0) / (K0 - K1 * c)**2 +\n",
    "                    4 * b * tf.math.log((y_pred[:, 0] + epsilon) / C0) / (K0 - K1 * c) + c\n",
    "                )\n",
    "            )\n",
    "        )\n",
    "    )\n",
    "    return tf.reduce_mean(squared_difference, axis=-1) + 0.2*tf.reduce_mean(squared_difference3, axis=-1)\n",
    "model = Sequential()\n",
    "model.add(LSTM(100, input_shape=(trainX.shape[1], trainX.shape[2])))\n",
    "model.add(Dense(60))\n",
    "model.compile(loss=loss_fn, optimizer='adam')\n",
    "history = model.fit(trainX[:int(splitr*trainX.shape[0])], trainy[:int(splitr*trainX.shape[0])], epochs=500, batch_size=64, validation_data=(trainX[int(splitr*trainX.shape[0]):trainX.shape[0]], trainy[int(splitr*trainX.shape[0]):trainX.shape[0]]), shuffle=False)"
   ]
  },
  {
   "cell_type": "code",
   "execution_count": 19,
   "metadata": {
    "colab": {
     "base_uri": "https://localhost:8080/"
    },
    "id": "yJL101rPyuoT",
    "outputId": "239ff2b1-c186-423a-d316-939dfdd7c793"
   },
   "outputs": [
    {
     "name": "stdout",
     "output_type": "stream",
     "text": [
      "1/1 [==============================] - 0s 419ms/step\n"
     ]
    }
   ],
   "source": [
    "forecast_without_mc = forecastX\n",
    "yhat_without_mc = model.predict(forecast_without_mc) # Step Ahead Prediction\n",
    "forecast_without_mc = forecast_without_mc.reshape((forecast_without_mc.shape[0], forecast_without_mc.shape[2])) # Historical Input"
   ]
  },
  {
   "cell_type": "code",
   "execution_count": 20,
   "metadata": {
    "colab": {
     "base_uri": "https://localhost:8080/"
    },
    "id": "g9dQELcJ8wbp",
    "outputId": "4dc7671b-b1a8-48d5-8744-a86f98446109"
   },
   "outputs": [
    {
     "data": {
      "text/plain": [
       "(1, 1, 251)"
      ]
     },
     "execution_count": 20,
     "metadata": {},
     "output_type": "execute_result"
    }
   ],
   "source": [
    "forecastX.shape"
   ]
  },
  {
   "cell_type": "code",
   "execution_count": 21,
   "metadata": {
    "colab": {
     "base_uri": "https://localhost:8080/"
    },
    "id": "IS2kyIKG1Kbr",
    "outputId": "f31b3485-8e26-452f-9298-ea8bf7e80ad1"
   },
   "outputs": [
    {
     "data": {
      "text/plain": [
       "(1, 251)"
      ]
     },
     "execution_count": 21,
     "metadata": {},
     "output_type": "execute_result"
    }
   ],
   "source": [
    "forecast_without_mc.shape"
   ]
  },
  {
   "cell_type": "code",
   "execution_count": 22,
   "metadata": {
    "id": "0u6VIzaDyuoT"
   },
   "outputs": [],
   "source": [
    "inv_yhat_without_mc = np.concatenate((forecast_without_mc, yhat_without_mc), axis=1) # Concatenation of predicted values with Historical Data\n",
    "#inv_yhat_without_mc = scaler.inverse_transform(inv_yhat_without_mc) # Transform labels back to original encoding"
   ]
  },
  {
   "cell_type": "code",
   "execution_count": 23,
   "metadata": {
    "colab": {
     "base_uri": "https://localhost:8080/"
    },
    "id": "EUEcw0LX07oU",
    "outputId": "cfc32397-9c37-4b43-d087-584bb31c3dcc"
   },
   "outputs": [
    {
     "data": {
      "text/plain": [
       "(1, 311)"
      ]
     },
     "execution_count": 23,
     "metadata": {},
     "output_type": "execute_result"
    }
   ],
   "source": [
    "inv_yhat_without_mc.shape"
   ]
  },
  {
   "cell_type": "code",
   "execution_count": 24,
   "metadata": {
    "id": "31OWVbSh_305"
   },
   "outputs": [],
   "source": [
    "fforecast = inv_yhat_without_mc[:,-300:]"
   ]
  },
  {
   "cell_type": "code",
   "execution_count": 25,
   "metadata": {},
   "outputs": [
    {
     "data": {
      "text/plain": [
       "(1, 300)"
      ]
     },
     "execution_count": 25,
     "metadata": {},
     "output_type": "execute_result"
    }
   ],
   "source": [
    "fforecast.shape"
   ]
  },
  {
   "cell_type": "code",
   "execution_count": 26,
   "metadata": {
    "id": "BlpGH2FOAiRF"
   },
   "outputs": [],
   "source": [
    "final_forecast = fforecast[:,0:300:3]"
   ]
  },
  {
   "cell_type": "code",
   "execution_count": 27,
   "metadata": {},
   "outputs": [
    {
     "data": {
      "text/plain": [
       "(1, 300)"
      ]
     },
     "execution_count": 27,
     "metadata": {},
     "output_type": "execute_result"
    }
   ],
   "source": [
    "fforecast.shape"
   ]
  },
  {
   "cell_type": "code",
   "execution_count": 28,
   "metadata": {
    "id": "CXkgkj_LBk_t"
   },
   "outputs": [],
   "source": [
    "# code to replace all negative value with 0\n",
    "final_forecast[final_forecast<0] = 0"
   ]
  },
  {
   "cell_type": "code",
   "execution_count": 29,
   "metadata": {},
   "outputs": [
    {
     "data": {
      "text/plain": [
       "array([[7.61927171e+01, 7.61591036e+01, 7.61254902e+01, 7.60918767e+01,\n",
       "        7.60582633e+01, 7.60246499e+01, 7.59910364e+01, 7.59574230e+01,\n",
       "        7.59238095e+01, 7.58901961e+01, 7.58565826e+01, 7.58229692e+01,\n",
       "        7.57893557e+01, 7.57557423e+01, 7.57221289e+01, 7.56789449e+01,\n",
       "        7.56173203e+01, 7.55556956e+01, 7.54940710e+01, 7.54324463e+01,\n",
       "        7.53708217e+01, 7.53091970e+01, 7.52475724e+01, 7.51859477e+01,\n",
       "        7.51243231e+01, 7.50626984e+01, 7.50010738e+01, 7.49394491e+01,\n",
       "        7.48778245e+01, 7.48161998e+01, 7.47545752e+01, 7.46929505e+01,\n",
       "        7.46313259e+01, 7.45697012e+01, 7.45080766e+01, 7.44464519e+01,\n",
       "        7.43848273e+01, 7.43232026e+01, 7.42615780e+01, 7.41999533e+01,\n",
       "        7.41383287e+01, 7.40767040e+01, 7.40150794e+01, 7.39534547e+01,\n",
       "        7.38918301e+01, 7.38302054e+01, 7.37685808e+01, 7.37069561e+01,\n",
       "        7.36453315e+01, 7.35837068e+01, 7.35220822e+01, 7.34728595e+01,\n",
       "        7.34305626e+01, 7.33882656e+01, 7.33459687e+01, 7.33036718e+01,\n",
       "        7.32613749e+01, 7.32190780e+01, 7.31767811e+01, 7.31344841e+01,\n",
       "        7.30921872e+01, 7.30498903e+01, 7.30075934e+01, 7.29652964e+01,\n",
       "        7.29229995e+01, 7.28807026e+01, 7.28384057e+01, 7.27961088e+01,\n",
       "        7.27538119e+01, 7.27115149e+01, 7.26692180e+01, 7.26269211e+01,\n",
       "        7.25846242e+01, 7.25423273e+01, 7.25000304e+01, 7.24577334e+01,\n",
       "        7.24154365e+01, 7.23731396e+01, 7.23308427e+01, 7.22885457e+01,\n",
       "        7.86927795e+01, 7.92028069e-01, 1.89062133e-01, 9.90242898e-01,\n",
       "        2.47076616e-01, 8.33228588e-01, 0.00000000e+00, 2.16494039e-01,\n",
       "        5.38449287e-01, 0.00000000e+00, 7.63942361e-01, 0.00000000e+00,\n",
       "        3.66189450e-01, 0.00000000e+00, 6.77165926e-01, 1.61724657e-01,\n",
       "        0.00000000e+00, 0.00000000e+00, 2.29425147e-01, 1.31299943e-02]])"
      ]
     },
     "execution_count": 29,
     "metadata": {},
     "output_type": "execute_result"
    }
   ],
   "source": [
    "final_forecast"
   ]
  },
  {
   "cell_type": "code",
   "execution_count": 30,
   "metadata": {},
   "outputs": [
    {
     "data": {
      "text/plain": [
       "(1, 100)"
      ]
     },
     "execution_count": 30,
     "metadata": {},
     "output_type": "execute_result"
    }
   ],
   "source": [
    "final_forecast.shape"
   ]
  },
  {
   "cell_type": "code",
   "execution_count": 31,
   "metadata": {},
   "outputs": [
    {
     "data": {
      "text/plain": [
       "(100,)"
      ]
     },
     "execution_count": 31,
     "metadata": {},
     "output_type": "execute_result"
    }
   ],
   "source": [
    "test.shape"
   ]
  },
  {
   "cell_type": "code",
   "execution_count": 32,
   "metadata": {},
   "outputs": [],
   "source": [
    "training_set = np.array(training_set)\n",
    "test = np.array(test)\n",
    "final_forecast = np.array(final_forecast.squeeze(0))"
   ]
  },
  {
   "cell_type": "code",
   "execution_count": 33,
   "metadata": {},
   "outputs": [
    {
     "data": {
      "text/plain": [
       "array([71.11813725, 71.11160131, 71.10506536, 71.09852941, 71.09199346,\n",
       "       71.08545752, 71.07892157, 71.07238562, 71.06584967, 71.05931373,\n",
       "       71.05277778, 71.04624183, 71.03970588, 71.03316993, 71.02663399,\n",
       "       71.02009804, 71.01356209, 71.00702614, 71.0004902 , 70.99395425,\n",
       "       70.9874183 , 70.98088235, 70.97434641, 70.96781046, 70.96127451,\n",
       "       70.95473856, 70.94820261, 70.94166667, 70.93513072, 70.92859477,\n",
       "       70.92205882, 70.91552288, 70.90898693, 70.90245098, 70.89183007,\n",
       "       70.87875817, 70.86568627, 70.85261438, 70.83954248, 70.82647059,\n",
       "       70.81339869, 70.8003268 , 70.7872549 , 70.77418301, 70.76111111,\n",
       "       70.74803922, 70.73496732, 70.72189542, 70.70882353, 70.69575163,\n",
       "       70.68267974, 70.66960784, 70.65653595, 70.64346405, 70.63039216,\n",
       "       70.61732026, 70.60424837, 70.59117647, 70.57810458, 70.56503268,\n",
       "       70.55196078, 70.53888889, 70.52581699, 70.5127451 , 70.4996732 ,\n",
       "       70.48660131, 70.47352941, 70.46045752, 70.44738562, 70.43431373,\n",
       "       70.42124183, 70.40816993, 70.39509804, 70.38202614, 70.36895425,\n",
       "       70.35588235, 70.34281046, 70.32973856, 70.31666667, 70.30359477,\n",
       "       70.29052288, 70.27745098, 70.26437908, 70.25130719, 70.23823529,\n",
       "       70.2251634 , 70.2120915 , 70.19901961, 70.18594771, 70.17287582,\n",
       "       70.15980392, 70.14673203, 70.13366013, 70.12058824, 70.10751634,\n",
       "       70.09444444, 70.08137255, 70.06830065, 70.05522876, 70.04215686])"
      ]
     },
     "execution_count": 33,
     "metadata": {},
     "output_type": "execute_result"
    }
   ],
   "source": [
    "test"
   ]
  },
  {
   "cell_type": "code",
   "execution_count": 34,
   "metadata": {},
   "outputs": [
    {
     "data": {
      "text/plain": [
       "(100,)"
      ]
     },
     "execution_count": 34,
     "metadata": {},
     "output_type": "execute_result"
    }
   ],
   "source": [
    "test.shape"
   ]
  },
  {
   "cell_type": "code",
   "execution_count": 35,
   "metadata": {},
   "outputs": [
    {
     "data": {
      "text/plain": [
       "(100,)"
      ]
     },
     "execution_count": 35,
     "metadata": {},
     "output_type": "execute_result"
    }
   ],
   "source": [
    "final_forecast.shape"
   ]
  },
  {
   "cell_type": "code",
   "execution_count": 36,
   "metadata": {},
   "outputs": [
    {
     "data": {
      "text/plain": [
       "(100,)"
      ]
     },
     "execution_count": 36,
     "metadata": {},
     "output_type": "execute_result"
    }
   ],
   "source": [
    "test.shape"
   ]
  },
  {
   "cell_type": "code",
   "execution_count": 37,
   "metadata": {},
   "outputs": [
    {
     "name": "stdout",
     "output_type": "stream",
     "text": [
      "30.62524447053867\n",
      "16.120958084650372\n"
     ]
    }
   ],
   "source": [
    "import math\n",
    "MSE = np.square(np.subtract(np.array(test),np.array(final_forecast))).mean()   \n",
    "rsme = math.sqrt(MSE)\n",
    "print(rsme)  \n",
    "MAE = np.abs(np.subtract(np.array(test),np.array(final_forecast))).mean()   \n",
    "mae = MAE\n",
    "print(mae)"
   ]
  }
 ],
 "metadata": {
  "colab": {
   "provenance": []
  },
  "kernelspec": {
   "display_name": "Python 3",
   "language": "python",
   "name": "python3"
  },
  "language_info": {
   "codemirror_mode": {
    "name": "ipython",
    "version": 3
   },
   "file_extension": ".py",
   "mimetype": "text/x-python",
   "name": "python",
   "nbconvert_exporter": "python",
   "pygments_lexer": "ipython3",
   "version": "3.9.13"
  }
 },
 "nbformat": 4,
 "nbformat_minor": 0
}
