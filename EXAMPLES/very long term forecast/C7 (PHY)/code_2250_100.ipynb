{
 "cells": [
  {
   "cell_type": "markdown",
   "metadata": {
    "id": "pCGKeZ2gyuoQ"
   },
   "source": [
    "_Importing Required Libraries_"
   ]
  },
  {
   "cell_type": "code",
   "execution_count": 1,
   "metadata": {
    "colab": {
     "base_uri": "https://localhost:8080/"
    },
    "id": "A-6LN-zXiLcM",
    "outputId": "4de610a4-f8b8-4f49-c6c0-89de299ccedc"
   },
   "outputs": [
    {
     "name": "stdout",
     "output_type": "stream",
     "text": [
      "Requirement already satisfied: hampel in c:\\users\\anurag dutta\\appdata\\local\\packages\\pythonsoftwarefoundation.python.3.9_qbz5n2kfra8p0\\localcache\\local-packages\\python39\\site-packages (0.0.5)\n",
      "Requirement already satisfied: numpy in c:\\users\\anurag dutta\\appdata\\local\\packages\\pythonsoftwarefoundation.python.3.9_qbz5n2kfra8p0\\localcache\\local-packages\\python39\\site-packages (from hampel) (1.26.4)\n",
      "Requirement already satisfied: pandas in c:\\users\\anurag dutta\\appdata\\local\\packages\\pythonsoftwarefoundation.python.3.9_qbz5n2kfra8p0\\localcache\\local-packages\\python39\\site-packages (from hampel) (1.5.2)\n",
      "Requirement already satisfied: python-dateutil>=2.8.1 in c:\\users\\anurag dutta\\appdata\\local\\packages\\pythonsoftwarefoundation.python.3.9_qbz5n2kfra8p0\\localcache\\local-packages\\python39\\site-packages (from pandas->hampel) (2.8.2)\n",
      "Requirement already satisfied: pytz>=2020.1 in c:\\users\\anurag dutta\\appdata\\local\\packages\\pythonsoftwarefoundation.python.3.9_qbz5n2kfra8p0\\localcache\\local-packages\\python39\\site-packages (from pandas->hampel) (2023.3.post1)\n",
      "Requirement already satisfied: six>=1.5 in c:\\users\\anurag dutta\\appdata\\local\\packages\\pythonsoftwarefoundation.python.3.9_qbz5n2kfra8p0\\localcache\\local-packages\\python39\\site-packages (from python-dateutil>=2.8.1->pandas->hampel) (1.16.0)\n",
      "Note: you may need to restart the kernel to use updated packages.\n"
     ]
    },
    {
     "name": "stderr",
     "output_type": "stream",
     "text": [
      "\n",
      "[notice] A new release of pip is available: 24.2 -> 24.3.1\n",
      "[notice] To update, run: C:\\Users\\Anurag Dutta\\AppData\\Local\\Microsoft\\WindowsApps\\PythonSoftwareFoundation.Python.3.9_qbz5n2kfra8p0\\python.exe -m pip install --upgrade pip\n"
     ]
    }
   ],
   "source": [
    "pip install hampel"
   ]
  },
  {
   "cell_type": "code",
   "execution_count": 2,
   "metadata": {
    "id": "By_d9uXpaFvZ"
   },
   "outputs": [],
   "source": [
    "from keras.models import Sequential\n",
    "from keras.layers import Dense\n",
    "from keras.layers import LSTM\n",
    "from keras.layers import Dropout\n",
    "import keras\n",
    "import tensorflow as tf\n",
    "from hampel import hampel\n",
    "import numpy as np\n",
    "import matplotlib.pyplot as plt\n",
    "import pandas as pd\n",
    "from sklearn.preprocessing import MinMaxScaler\n",
    "from sklearn.metrics import mean_squared_error, mean_absolute_error\n",
    "from math import sqrt\n",
    "from matplotlib import pyplot\n",
    "from numpy import array"
   ]
  },
  {
   "cell_type": "markdown",
   "metadata": {
    "id": "JyOjBMFayuoR"
   },
   "source": [
    "## Pretraining"
   ]
  },
  {
   "cell_type": "markdown",
   "metadata": {
    "id": "-5QqIY_GyuoR"
   },
   "source": [
    "The `capa_intermittency.dat` feeds the model with the dynamics of the Capacitor"
   ]
  },
  {
   "cell_type": "code",
   "execution_count": 3,
   "metadata": {
    "id": "9dV4a8yfyuoR"
   },
   "outputs": [],
   "source": [
    "data = np.genfromtxt('capa_intermittency.dat')\n",
    "training_set = pd.DataFrame(data).reset_index(drop=True)\n",
    "training_set = training_set.iloc[:,0]"
   ]
  },
  {
   "cell_type": "markdown",
   "metadata": {
    "id": "i7easoxByuoR"
   },
   "source": [
    "## Computing the Gradient"
   ]
  },
  {
   "cell_type": "markdown",
   "metadata": {
    "id": "5SnyolJTyuoR"
   },
   "source": [
    "_Calculating the value of_ $\\frac{dx}{dt}$"
   ]
  },
  {
   "cell_type": "code",
   "execution_count": 4,
   "metadata": {
    "colab": {
     "base_uri": "https://localhost:8080/"
    },
    "id": "wmIbVfIvyuoR",
    "outputId": "aa4e3136-c854-465d-d2e9-81cfd546e440"
   },
   "outputs": [
    {
     "name": "stdout",
     "output_type": "stream",
     "text": [
      "1.0\n",
      "1        0.000298\n",
      "2        0.000298\n",
      "3        0.000297\n",
      "4        0.000297\n",
      "5        0.000297\n",
      "           ...   \n",
      "9996     0.000018\n",
      "9997     0.000018\n",
      "9998     0.000018\n",
      "9999     0.000018\n",
      "10000    0.000018\n",
      "Name: 0, Length: 10000, dtype: float64\n"
     ]
    }
   ],
   "source": [
    "t_diff = 1\n",
    "print(training_set.max())\n",
    "gradient_t = (training_set.diff()/t_diff).iloc[1:] # dx/dt\n",
    "print(gradient_t)"
   ]
  },
  {
   "cell_type": "markdown",
   "metadata": {
    "id": "_2eVeeoxyuoS"
   },
   "source": [
    "## Loading Datasets"
   ]
  },
  {
   "cell_type": "code",
   "execution_count": 5,
   "metadata": {
    "id": "0J-NKyIEyuoS"
   },
   "outputs": [
    {
     "data": {
      "text/plain": [
       "0       84.600000\n",
       "1       84.431933\n",
       "2       84.263866\n",
       "3       84.095798\n",
       "4       83.927731\n",
       "          ...    \n",
       "2345    46.715065\n",
       "2346    46.705226\n",
       "2347    46.695388\n",
       "2348    46.685550\n",
       "2349    46.675712\n",
       "Name: C6, Length: 2350, dtype: float64"
      ]
     },
     "execution_count": 5,
     "metadata": {},
     "output_type": "execute_result"
    }
   ],
   "source": [
    "data = pd.read_csv(\"c7_interpolated_2250_100.csv\")\n",
    "training_set = data.iloc[:, 1]\n",
    "training_set"
   ]
  },
  {
   "cell_type": "code",
   "execution_count": 6,
   "metadata": {
    "colab": {
     "base_uri": "https://localhost:8080/"
    },
    "id": "-CbNUhJ74UqF",
    "outputId": "20f562d8-8247-49cc-b9c3-00eca5e13e2d"
   },
   "outputs": [
    {
     "data": {
      "text/plain": [
       "0       84.600000\n",
       "1       84.431933\n",
       "2       84.263866\n",
       "3       84.095798\n",
       "4       83.927731\n",
       "          ...    \n",
       "2245     0.000000\n",
       "2246     0.300952\n",
       "2247     0.760489\n",
       "2248     0.000000\n",
       "2249     0.126474\n",
       "Name: C6, Length: 2250, dtype: float64"
      ]
     },
     "execution_count": 6,
     "metadata": {},
     "output_type": "execute_result"
    }
   ],
   "source": [
    "test = training_set.tail(100)\n",
    "test\n",
    "training_set = training_set.head(2250)\n",
    "training_set"
   ]
  },
  {
   "cell_type": "code",
   "execution_count": 7,
   "metadata": {
    "colab": {
     "base_uri": "https://localhost:8080/"
    },
    "id": "X0TwTcq0yuoS",
    "outputId": "37252ed8-d88e-4044-fa7a-922411990b5b"
   },
   "outputs": [
    {
     "name": "stdout",
     "output_type": "stream",
     "text": [
      "0       0.000298\n",
      "1       0.000298\n",
      "2       0.000297\n",
      "3       0.000297\n",
      "4       0.000297\n",
      "          ...   \n",
      "9995    0.000018\n",
      "9996    0.000018\n",
      "9997    0.000018\n",
      "9998    0.000018\n",
      "9999    0.000018\n",
      "Name: 0, Length: 10000, dtype: float64\n"
     ]
    }
   ],
   "source": [
    "training_set = training_set.reset_index(drop=True)\n",
    "gradient_t = gradient_t.reset_index(drop=True)\n",
    "print(gradient_t)"
   ]
  },
  {
   "cell_type": "code",
   "execution_count": 8,
   "metadata": {
    "id": "O2biznZQyuoS"
   },
   "outputs": [],
   "source": [
    "df = pd.concat((training_set, gradient_t), axis=1)\n",
    "df.columns = ['y_t', 'grad_t']"
   ]
  },
  {
   "cell_type": "code",
   "execution_count": 9,
   "metadata": {
    "colab": {
     "base_uri": "https://localhost:8080/",
     "height": 423
    },
    "id": "sk_a5v3tyuoS",
    "outputId": "17563625-e550-45ae-faab-fafa353e44da"
   },
   "outputs": [
    {
     "data": {
      "text/html": [
       "<div>\n",
       "<style scoped>\n",
       "    .dataframe tbody tr th:only-of-type {\n",
       "        vertical-align: middle;\n",
       "    }\n",
       "\n",
       "    .dataframe tbody tr th {\n",
       "        vertical-align: top;\n",
       "    }\n",
       "\n",
       "    .dataframe thead th {\n",
       "        text-align: right;\n",
       "    }\n",
       "</style>\n",
       "<table border=\"1\" class=\"dataframe\">\n",
       "  <thead>\n",
       "    <tr style=\"text-align: right;\">\n",
       "      <th></th>\n",
       "      <th>y_t</th>\n",
       "      <th>grad_t</th>\n",
       "    </tr>\n",
       "  </thead>\n",
       "  <tbody>\n",
       "    <tr>\n",
       "      <th>0</th>\n",
       "      <td>84.600000</td>\n",
       "      <td>0.000298</td>\n",
       "    </tr>\n",
       "    <tr>\n",
       "      <th>1</th>\n",
       "      <td>84.431933</td>\n",
       "      <td>0.000298</td>\n",
       "    </tr>\n",
       "    <tr>\n",
       "      <th>2</th>\n",
       "      <td>84.263866</td>\n",
       "      <td>0.000297</td>\n",
       "    </tr>\n",
       "    <tr>\n",
       "      <th>3</th>\n",
       "      <td>84.095798</td>\n",
       "      <td>0.000297</td>\n",
       "    </tr>\n",
       "    <tr>\n",
       "      <th>4</th>\n",
       "      <td>83.927731</td>\n",
       "      <td>0.000297</td>\n",
       "    </tr>\n",
       "    <tr>\n",
       "      <th>...</th>\n",
       "      <td>...</td>\n",
       "      <td>...</td>\n",
       "    </tr>\n",
       "    <tr>\n",
       "      <th>9995</th>\n",
       "      <td>NaN</td>\n",
       "      <td>0.000018</td>\n",
       "    </tr>\n",
       "    <tr>\n",
       "      <th>9996</th>\n",
       "      <td>NaN</td>\n",
       "      <td>0.000018</td>\n",
       "    </tr>\n",
       "    <tr>\n",
       "      <th>9997</th>\n",
       "      <td>NaN</td>\n",
       "      <td>0.000018</td>\n",
       "    </tr>\n",
       "    <tr>\n",
       "      <th>9998</th>\n",
       "      <td>NaN</td>\n",
       "      <td>0.000018</td>\n",
       "    </tr>\n",
       "    <tr>\n",
       "      <th>9999</th>\n",
       "      <td>NaN</td>\n",
       "      <td>0.000018</td>\n",
       "    </tr>\n",
       "  </tbody>\n",
       "</table>\n",
       "<p>10000 rows × 2 columns</p>\n",
       "</div>"
      ],
      "text/plain": [
       "            y_t    grad_t\n",
       "0     84.600000  0.000298\n",
       "1     84.431933  0.000298\n",
       "2     84.263866  0.000297\n",
       "3     84.095798  0.000297\n",
       "4     83.927731  0.000297\n",
       "...         ...       ...\n",
       "9995        NaN  0.000018\n",
       "9996        NaN  0.000018\n",
       "9997        NaN  0.000018\n",
       "9998        NaN  0.000018\n",
       "9999        NaN  0.000018\n",
       "\n",
       "[10000 rows x 2 columns]"
      ]
     },
     "execution_count": 9,
     "metadata": {},
     "output_type": "execute_result"
    }
   ],
   "source": [
    "df"
   ]
  },
  {
   "cell_type": "markdown",
   "metadata": {
    "id": "-5esyHu5aFvg"
   },
   "source": [
    "## Plot of the External Forcing from Chaotic Differential Equation"
   ]
  },
  {
   "cell_type": "code",
   "execution_count": 10,
   "metadata": {
    "colab": {
     "base_uri": "https://localhost:8080/",
     "height": 447
    },
    "id": "hGnE43tOh-4p",
    "outputId": "fc396503-b624-4fa5-dfbe-f460207405c6"
   },
   "outputs": [
    {
     "data": {
      "text/plain": [
       "<Axes: >"
      ]
     },
     "execution_count": 10,
     "metadata": {},
     "output_type": "execute_result"
    },
    {
     "data": {
      "image/png": "[encoded data removed]",
      "text/plain": [
       "<Figure size 432x288 with 1 Axes>"
      ]
     },
     "metadata": {
      "needs_background": "light"
     },
     "output_type": "display_data"
    }
   ],
   "source": [
    "df.iloc[:, 0].plot()"
   ]
  },
  {
   "cell_type": "code",
   "execution_count": 11,
   "metadata": {
    "colab": {
     "base_uri": "https://localhost:8080/",
     "height": 447
    },
    "id": "ym4xWUUxaFvg",
    "outputId": "ae6a3495-8ce9-437e-ba81-3ed31deedeae"
   },
   "outputs": [
    {
     "name": "stderr",
     "output_type": "stream",
     "text": [
      "C:\\Users\\Anurag Dutta\\AppData\\Local\\Packages\\PythonSoftwareFoundation.Python.3.9_qbz5n2kfra8p0\\LocalCache\\local-packages\\Python39\\site-packages\\pandas\\core\\arraylike.py:402: RuntimeWarning: divide by zero encountered in log\n",
      "  result = getattr(ufunc, method)(*inputs, **kwargs)\n"
     ]
    },
    {
     "data": {
      "text/plain": [
       "<Axes: >"
      ]
     },
     "execution_count": 11,
     "metadata": {},
     "output_type": "execute_result"
    },
    {
     "data": {
      "image/png": "[encoded data removed]",
      "text/plain": [
       "<Figure size 432x288 with 1 Axes>"
      ]
     },
     "metadata": {
      "needs_background": "light"
     },
     "output_type": "display_data"
    }
   ],
   "source": [
    "import numpy as np\n",
    "c0 = 89.3180  # Value for C0\n",
    "K0 = -0.0010  # Value for K0\n",
    "K1 = 0.0001  # Value for K1\n",
    "a = 0.0000    # Value for a\n",
    "b = -0.0204    # Value for b\n",
    "c = 2.2194    # Value for c\n",
    "\n",
    "L = np.minimum(c0, (df.iloc[:, 1] - (df.iloc[:, 0] * (K0 - K1 * (9 * a * np.log(df.iloc[:, 0] / c0) / (K0 - K1 * c)**2 + 4 * b * np.log(df.iloc[:, 0] / c0) / (K0 - K1 * c) + c)))))\n",
    "L.plot()"
   ]
  },
  {
   "cell_type": "markdown",
   "metadata": {
    "id": "9VyEywnwaFvh"
   },
   "source": [
    "## Preprocessing the data into supervised learning"
   ]
  },
  {
   "cell_type": "code",
   "execution_count": 12,
   "metadata": {
    "id": "6V9dXqzdaFvh"
   },
   "outputs": [],
   "source": [
    "# split a sequence into samples\n",
    "def Supervised(data, n_in=1, n_out=1, dropnan=True):\n",
    "    n_vars = 1 if type(data) is list else data.shape[1]\n",
    "    df = pd.DataFrame(data)\n",
    "    cols, names = list(), list()\n",
    "    # input sequence (t-n_in, ... t-1)\n",
    "    for i in range(n_in, 0, -1):\n",
    "        cols.append(df.shift(i))\n",
    "        names += [('var%d(t-%d)' % (j+1, i)) for j in range(n_vars)]\n",
    "    # forecast sequence (t, t+1, ... t+n_out)\n",
    "    for i in range(0, n_out):\n",
    "      cols.append(df.shift(-i))\n",
    "      if i == 0:\n",
    "        names += [('var%d(t)' % (j+1)) for j in range(n_vars)]\n",
    "      else:\n",
    "        names += [('var%d(t+%d)' % (j+1, i)) for j in range(n_vars)]\n",
    "    # put it all together\n",
    "    agg = pd.concat(cols, axis=1)\n",
    "    agg.columns = names\n",
    "    # drop rows with NaN values\n",
    "    if dropnan:\n",
    "       agg.dropna(inplace=True)\n",
    "    return agg"
   ]
  },
  {
   "cell_type": "code",
   "execution_count": 13,
   "metadata": {
    "colab": {
     "base_uri": "https://localhost:8080/"
    },
    "id": "CrzSrT1HnyfH",
    "outputId": "7e75f928-3e47-499d-eac1-51908015ef78"
   },
   "outputs": [
    {
     "name": "stdout",
     "output_type": "stream",
     "text": [
      "     var1(t-350)  var1(t-349)  var1(t-348)  var1(t-347)  var1(t-346)  \\\n",
      "350    84.600000    84.431933    84.263866    84.095798    83.927731   \n",
      "351    84.431933    84.263866    84.095798    83.927731    83.759664   \n",
      "352    84.263866    84.095798    83.927731    83.759664    83.591597   \n",
      "353    84.095798    83.927731    83.759664    83.591597    83.423529   \n",
      "354    83.927731    83.759664    83.591597    83.423529    83.255462   \n",
      "\n",
      "     var1(t-345)  var1(t-344)  var1(t-343)  var1(t-342)  var1(t-341)  ...  \\\n",
      "350    83.759664    83.591597    83.423529    83.255462    83.092437  ...   \n",
      "351    83.591597    83.423529    83.255462    83.092437    82.991597  ...   \n",
      "352    83.423529    83.255462    83.092437    82.991597    82.890756  ...   \n",
      "353    83.255462    83.092437    82.991597    82.890756    82.789916  ...   \n",
      "354    83.092437    82.991597    82.890756    82.789916    82.689076  ...   \n",
      "\n",
      "     var1(t+95)  var2(t+95)  var1(t+96)  var2(t+96)  var1(t+97)  var2(t+97)  \\\n",
      "350   70.003688    0.000263   69.960738    0.000263   69.917787    0.000263   \n",
      "351   69.960738    0.000263   69.917787    0.000263   69.874837    0.000262   \n",
      "352   69.917787    0.000263   69.874837    0.000262   69.831886    0.000262   \n",
      "353   69.874837    0.000262   69.831886    0.000262   69.788936    0.000262   \n",
      "354   69.831886    0.000262   69.788936    0.000262   69.745985    0.000262   \n",
      "\n",
      "     var1(t+98)  var2(t+98)  var1(t+99)  var2(t+99)  \n",
      "350   69.874837    0.000262   69.831886    0.000262  \n",
      "351   69.831886    0.000262   69.788936    0.000262  \n",
      "352   69.788936    0.000262   69.745985    0.000262  \n",
      "353   69.745985    0.000262   69.703035    0.000262  \n",
      "354   69.703035    0.000262   69.660084    0.000262  \n",
      "\n",
      "[5 rows x 551 columns]\n",
      "Index(['var1(t-350)', 'var1(t-349)', 'var1(t-348)', 'var1(t-347)',\n",
      "       'var1(t-346)', 'var1(t-345)', 'var1(t-344)', 'var1(t-343)',\n",
      "       'var1(t-342)', 'var1(t-341)',\n",
      "       ...\n",
      "       'var1(t+95)', 'var2(t+95)', 'var1(t+96)', 'var2(t+96)', 'var1(t+97)',\n",
      "       'var2(t+97)', 'var1(t+98)', 'var2(t+98)', 'var1(t+99)', 'var2(t+99)'],\n",
      "      dtype='object', length=551)\n"
     ]
    }
   ],
   "source": [
    "data = Supervised(df.values, n_in = 350, n_out = 100)\n",
    "\n",
    "\n",
    "cols_to_drop = []\n",
    "for i in range(2, 351):\n",
    "    cols_to_drop.extend([f'var2(t-{i})'])\n",
    "\n",
    "data.drop(cols_to_drop, axis=1, inplace=True)\n",
    "\n",
    "print(data.head())\n",
    "print(data.columns)"
   ]
  },
  {
   "cell_type": "code",
   "execution_count": 14,
   "metadata": {
    "id": "AfPf60oy6Pe4"
   },
   "outputs": [],
   "source": [
    "train = np.array(data[0:len(data)-1])\n",
    "forecast = np.array(data.tail(1))"
   ]
  },
  {
   "cell_type": "code",
   "execution_count": 15,
   "metadata": {
    "id": "WSAafzI37KiT"
   },
   "outputs": [],
   "source": [
    "trainy = train[:,-300:]\n",
    "trainX = train[:,:-300]"
   ]
  },
  {
   "cell_type": "code",
   "execution_count": 16,
   "metadata": {
    "id": "2SrOqVJA7f50"
   },
   "outputs": [],
   "source": [
    "forecasty = forecast[:,-300:]\n",
    "forecastX = forecast[:,:-300]"
   ]
  },
  {
   "cell_type": "code",
   "execution_count": 17,
   "metadata": {
    "colab": {
     "base_uri": "https://localhost:8080/"
    },
    "id": "Qno_k8Nw7saY",
    "outputId": "c4a88db5-d8c6-489f-cdb2-06b24e293cff"
   },
   "outputs": [
    {
     "name": "stdout",
     "output_type": "stream",
     "text": [
      "(1800, 1, 251) (1800, 300) (1, 1, 251)\n"
     ]
    }
   ],
   "source": [
    "trainX = trainX.reshape((trainX.shape[0], 1, trainX.shape[1]))\n",
    "forecastX = forecastX.reshape((forecastX.shape[0], 1, forecastX.shape[1]))\n",
    "print(trainX.shape, trainy.shape, forecastX.shape)"
   ]
  },
  {
   "cell_type": "code",
   "execution_count": 18,
   "metadata": {
    "colab": {
     "base_uri": "https://localhost:8080/"
    },
    "id": "b1Jp2DvNuNFx",
    "outputId": "d0e5b3c4-64f1-438c-eade-8dfeaac8e285"
   },
   "outputs": [
    {
     "name": "stdout",
     "output_type": "stream",
     "text": [
      "Epoch 1/500\n",
      "23/23 [==============================] - 2s 23ms/step - loss: 3609.9375 - val_loss: 1852.0476\n",
      "Epoch 2/500\n",
      "23/23 [==============================] - 0s 5ms/step - loss: 3341.1067 - val_loss: 1729.6002\n",
      "Epoch 3/500\n",
      "23/23 [==============================] - 0s 4ms/step - loss: 3191.7112 - val_loss: 1668.2632\n",
      "Epoch 4/500\n",
      "23/23 [==============================] - 0s 4ms/step - loss: 3090.0845 - val_loss: 1615.7229\n",
      "Epoch 5/500\n",
      "23/23 [==============================] - 0s 4ms/step - loss: 2982.5034 - val_loss: 1556.6198\n",
      "Epoch 6/500\n",
      "23/23 [==============================] - 0s 4ms/step - loss: 2880.8198 - val_loss: 1502.0990\n",
      "Epoch 7/500\n",
      "23/23 [==============================] - 0s 4ms/step - loss: 2776.1643 - val_loss: 1454.7245\n",
      "Epoch 8/500\n",
      "23/23 [==============================] - 0s 4ms/step - loss: 2684.5693 - val_loss: 1410.3616\n",
      "Epoch 9/500\n",
      "23/23 [==============================] - 0s 4ms/step - loss: 2597.0820 - val_loss: 1368.4921\n",
      "Epoch 10/500\n",
      "23/23 [==============================] - 0s 4ms/step - loss: 2512.3540 - val_loss: 1324.4720\n",
      "Epoch 11/500\n",
      "23/23 [==============================] - 0s 4ms/step - loss: 2420.7883 - val_loss: 1285.3182\n",
      "Epoch 12/500\n",
      "23/23 [==============================] - 0s 4ms/step - loss: 2338.4060 - val_loss: 1248.4056\n",
      "Epoch 13/500\n",
      "23/23 [==============================] - 0s 4ms/step - loss: 2259.5073 - val_loss: 1213.7477\n",
      "Epoch 14/500\n",
      "23/23 [==============================] - 0s 4ms/step - loss: 2183.6270 - val_loss: 1181.1062\n",
      "Epoch 15/500\n",
      "23/23 [==============================] - 0s 4ms/step - loss: 2110.4194 - val_loss: 1150.3302\n",
      "Epoch 16/500\n",
      "23/23 [==============================] - 0s 4ms/step - loss: 2039.6743 - val_loss: 1121.3138\n",
      "Epoch 17/500\n",
      "23/23 [==============================] - 0s 4ms/step - loss: 1971.2441 - val_loss: 1093.9733\n",
      "Epoch 18/500\n",
      "23/23 [==============================] - 0s 10ms/step - loss: 1905.0155 - val_loss: 1068.2390\n",
      "Epoch 19/500\n",
      "23/23 [==============================] - 0s 4ms/step - loss: 1840.8984 - val_loss: 1044.0491\n",
      "Epoch 20/500\n",
      "23/23 [==============================] - 0s 4ms/step - loss: 1778.8146 - val_loss: 1021.3489\n",
      "Epoch 21/500\n",
      "23/23 [==============================] - 0s 4ms/step - loss: 1718.6964 - val_loss: 1000.0870\n",
      "Epoch 22/500\n",
      "23/23 [==============================] - 0s 4ms/step - loss: 1660.4823 - val_loss: 980.2161\n",
      "Epoch 23/500\n",
      "23/23 [==============================] - 0s 4ms/step - loss: 1604.1161 - val_loss: 961.6904\n",
      "Epoch 24/500\n",
      "23/23 [==============================] - 0s 4ms/step - loss: 1549.5464 - val_loss: 944.4677\n",
      "Epoch 25/500\n",
      "23/23 [==============================] - 0s 4ms/step - loss: 1496.7236 - val_loss: 928.5062\n",
      "Epoch 26/500\n",
      "23/23 [==============================] - 0s 4ms/step - loss: 1445.6019 - val_loss: 913.7662\n",
      "Epoch 27/500\n",
      "23/23 [==============================] - 0s 5ms/step - loss: 1396.1375 - val_loss: 900.2089\n",
      "Epoch 28/500\n",
      "23/23 [==============================] - 0s 4ms/step - loss: 1348.2872 - val_loss: 887.7964\n",
      "Epoch 29/500\n",
      "23/23 [==============================] - 0s 4ms/step - loss: 1302.0110 - val_loss: 876.4924\n",
      "Epoch 30/500\n",
      "23/23 [==============================] - 0s 4ms/step - loss: 1257.2693 - val_loss: 866.2606\n",
      "Epoch 31/500\n",
      "23/23 [==============================] - 0s 4ms/step - loss: 1214.0236 - val_loss: 857.0662\n",
      "Epoch 32/500\n",
      "23/23 [==============================] - 0s 4ms/step - loss: 1172.2366 - val_loss: 848.8741\n",
      "Epoch 33/500\n",
      "23/23 [==============================] - 0s 6ms/step - loss: 1131.8724 - val_loss: 841.6511\n",
      "Epoch 34/500\n",
      "23/23 [==============================] - 0s 4ms/step - loss: 1092.8953 - val_loss: 835.3637\n",
      "Epoch 35/500\n",
      "23/23 [==============================] - 0s 4ms/step - loss: 1055.2703 - val_loss: 829.9792\n",
      "Epoch 36/500\n",
      "23/23 [==============================] - 0s 4ms/step - loss: 1018.9639 - val_loss: 825.4654\n",
      "Epoch 37/500\n",
      "23/23 [==============================] - 0s 4ms/step - loss: 983.9424 - val_loss: 821.7901\n",
      "Epoch 38/500\n",
      "23/23 [==============================] - 0s 4ms/step - loss: 950.1733 - val_loss: 818.9227\n",
      "Epoch 39/500\n",
      "23/23 [==============================] - 0s 4ms/step - loss: 917.6242 - val_loss: 816.8323\n",
      "Epoch 40/500\n",
      "23/23 [==============================] - 0s 4ms/step - loss: 886.2635 - val_loss: 815.4886\n",
      "Epoch 41/500\n",
      "23/23 [==============================] - 0s 5ms/step - loss: 856.0602 - val_loss: 814.8615\n",
      "Epoch 42/500\n",
      "23/23 [==============================] - 0s 5ms/step - loss: 826.9838 - val_loss: 814.9209\n",
      "Epoch 43/500\n",
      "23/23 [==============================] - 0s 5ms/step - loss: 799.0041 - val_loss: 815.6378\n",
      "Epoch 44/500\n",
      "23/23 [==============================] - 0s 4ms/step - loss: 772.0917 - val_loss: 816.9827\n",
      "Epoch 45/500\n",
      "23/23 [==============================] - 0s 4ms/step - loss: 746.2169 - val_loss: 818.9260\n",
      "Epoch 46/500\n",
      "23/23 [==============================] - 0s 5ms/step - loss: 721.3517 - val_loss: 821.4357\n",
      "Epoch 47/500\n",
      "23/23 [==============================] - 0s 4ms/step - loss: 697.4673 - val_loss: 824.4718\n",
      "Epoch 48/500\n",
      "23/23 [==============================] - 0s 4ms/step - loss: 674.5363 - val_loss: 827.9639\n",
      "Epoch 49/500\n",
      "23/23 [==============================] - 0s 4ms/step - loss: 652.5309 - val_loss: 831.6665\n",
      "Epoch 50/500\n",
      "23/23 [==============================] - 0s 6ms/step - loss: 631.3502 - val_loss: 816.4009\n",
      "Epoch 51/500\n",
      "23/23 [==============================] - 0s 6ms/step - loss: 661.5471 - val_loss: 832.4330\n",
      "Epoch 52/500\n",
      "23/23 [==============================] - 0s 5ms/step - loss: 643.0424 - val_loss: 822.8214\n",
      "Epoch 53/500\n",
      "23/23 [==============================] - 0s 5ms/step - loss: 572.3034 - val_loss: 857.5711\n",
      "Epoch 54/500\n",
      "23/23 [==============================] - 0s 4ms/step - loss: 554.4686 - val_loss: 863.8915\n",
      "Epoch 55/500\n",
      "23/23 [==============================] - 0s 4ms/step - loss: 537.5291 - val_loss: 870.5495\n",
      "Epoch 56/500\n",
      "23/23 [==============================] - 0s 9ms/step - loss: 521.3420 - val_loss: 877.5292\n",
      "Epoch 57/500\n",
      "23/23 [==============================] - 0s 4ms/step - loss: 505.8731 - val_loss: 884.8082\n",
      "Epoch 58/500\n",
      "23/23 [==============================] - 0s 4ms/step - loss: 491.0980 - val_loss: 892.3655\n",
      "Epoch 59/500\n",
      "23/23 [==============================] - 0s 4ms/step - loss: 476.9935 - val_loss: 900.1790\n",
      "Epoch 60/500\n",
      "23/23 [==============================] - 0s 4ms/step - loss: 463.5373 - val_loss: 908.2281\n",
      "Epoch 61/500\n",
      "23/23 [==============================] - 0s 4ms/step - loss: 450.7069 - val_loss: 916.4922\n",
      "Epoch 62/500\n",
      "23/23 [==============================] - 0s 4ms/step - loss: 438.4810 - val_loss: 924.9514\n",
      "Epoch 63/500\n",
      "23/23 [==============================] - 0s 6ms/step - loss: 426.8379 - val_loss: 933.5859\n",
      "Epoch 64/500\n",
      "23/23 [==============================] - 0s 5ms/step - loss: 415.7570 - val_loss: 942.3772\n",
      "Epoch 65/500\n",
      "23/23 [==============================] - 0s 5ms/step - loss: 405.2177 - val_loss: 951.3064\n",
      "Epoch 66/500\n",
      "23/23 [==============================] - 0s 6ms/step - loss: 395.2002 - val_loss: 960.3559\n",
      "Epoch 67/500\n",
      "23/23 [==============================] - 0s 6ms/step - loss: 385.6844 - val_loss: 969.5084\n",
      "Epoch 68/500\n",
      "23/23 [==============================] - 0s 5ms/step - loss: 376.6514 - val_loss: 978.7467\n",
      "Epoch 69/500\n",
      "23/23 [==============================] - 0s 6ms/step - loss: 368.0824 - val_loss: 988.0547\n",
      "Epoch 70/500\n",
      "23/23 [==============================] - 0s 5ms/step - loss: 359.9590 - val_loss: 997.4167\n",
      "Epoch 71/500\n",
      "23/23 [==============================] - 0s 5ms/step - loss: 352.2634 - val_loss: 1006.8173\n",
      "Epoch 72/500\n",
      "23/23 [==============================] - 0s 5ms/step - loss: 344.9781 - val_loss: 1016.2418\n",
      "Epoch 73/500\n",
      "23/23 [==============================] - 0s 5ms/step - loss: 338.0860 - val_loss: 1025.6757\n",
      "Epoch 74/500\n",
      "23/23 [==============================] - 0s 5ms/step - loss: 331.5706 - val_loss: 1035.1064\n",
      "Epoch 75/500\n",
      "23/23 [==============================] - 0s 5ms/step - loss: 325.4156 - val_loss: 1044.5200\n",
      "Epoch 76/500\n",
      "23/23 [==============================] - 0s 4ms/step - loss: 319.6055 - val_loss: 1053.9047\n",
      "Epoch 77/500\n",
      "23/23 [==============================] - 0s 5ms/step - loss: 314.1248 - val_loss: 1063.2479\n",
      "Epoch 78/500\n",
      "23/23 [==============================] - 0s 5ms/step - loss: 308.9588 - val_loss: 1072.5385\n",
      "Epoch 79/500\n",
      "23/23 [==============================] - 0s 5ms/step - loss: 304.0930 - val_loss: 1081.7660\n",
      "Epoch 80/500\n",
      "23/23 [==============================] - 0s 5ms/step - loss: 299.5134 - val_loss: 1090.9196\n",
      "Epoch 81/500\n",
      "23/23 [==============================] - 0s 5ms/step - loss: 295.2066 - val_loss: 1099.9900\n",
      "Epoch 82/500\n",
      "23/23 [==============================] - 0s 5ms/step - loss: 291.1593 - val_loss: 1108.9679\n",
      "Epoch 83/500\n",
      "23/23 [==============================] - 0s 5ms/step - loss: 287.3591 - val_loss: 1117.8442\n",
      "Epoch 84/500\n",
      "23/23 [==============================] - 0s 5ms/step - loss: 283.7934 - val_loss: 1126.6118\n",
      "Epoch 85/500\n",
      "23/23 [==============================] - 0s 5ms/step - loss: 280.4506 - val_loss: 1135.2626\n",
      "Epoch 86/500\n",
      "23/23 [==============================] - 0s 5ms/step - loss: 277.3192 - val_loss: 1143.7892\n",
      "Epoch 87/500\n",
      "23/23 [==============================] - 0s 5ms/step - loss: 274.3882 - val_loss: 1152.1858\n",
      "Epoch 88/500\n",
      "23/23 [==============================] - 0s 5ms/step - loss: 271.6470 - val_loss: 1160.4464\n",
      "Epoch 89/500\n",
      "23/23 [==============================] - 0s 5ms/step - loss: 269.0852 - val_loss: 1168.5645\n",
      "Epoch 90/500\n",
      "23/23 [==============================] - 0s 11ms/step - loss: 266.6935 - val_loss: 1176.5361\n",
      "Epoch 91/500\n",
      "23/23 [==============================] - 0s 5ms/step - loss: 264.4620 - val_loss: 1184.3560\n",
      "Epoch 92/500\n",
      "23/23 [==============================] - 0s 5ms/step - loss: 262.3819 - val_loss: 1192.0201\n",
      "Epoch 93/500\n",
      "23/23 [==============================] - 0s 5ms/step - loss: 260.4445 - val_loss: 1199.5254\n",
      "Epoch 94/500\n",
      "23/23 [==============================] - 0s 5ms/step - loss: 258.6416 - val_loss: 1206.8685\n",
      "Epoch 95/500\n",
      "23/23 [==============================] - 0s 5ms/step - loss: 256.9652 - val_loss: 1214.0464\n",
      "Epoch 96/500\n",
      "23/23 [==============================] - 0s 5ms/step - loss: 255.4078 - val_loss: 1221.0568\n",
      "Epoch 97/500\n",
      "23/23 [==============================] - 0s 6ms/step - loss: 253.9621 - val_loss: 1227.8989\n",
      "Epoch 98/500\n",
      "23/23 [==============================] - 0s 6ms/step - loss: 252.6212 - val_loss: 1234.5701\n",
      "Epoch 99/500\n",
      "23/23 [==============================] - 0s 5ms/step - loss: 251.3786 - val_loss: 1241.0692\n",
      "Epoch 100/500\n",
      "23/23 [==============================] - 0s 5ms/step - loss: 250.2282 - val_loss: 1247.3955\n",
      "Epoch 101/500\n",
      "23/23 [==============================] - 0s 5ms/step - loss: 249.1640 - val_loss: 1253.5492\n",
      "Epoch 102/500\n",
      "23/23 [==============================] - 0s 6ms/step - loss: 248.1803 - val_loss: 1259.5294\n",
      "Epoch 103/500\n",
      "23/23 [==============================] - 0s 6ms/step - loss: 247.2718 - val_loss: 1265.3376\n",
      "Epoch 104/500\n",
      "23/23 [==============================] - 0s 6ms/step - loss: 246.4335 - val_loss: 1270.9724\n",
      "Epoch 105/500\n",
      "23/23 [==============================] - 0s 6ms/step - loss: 245.6608 - val_loss: 1276.4369\n",
      "Epoch 106/500\n",
      "23/23 [==============================] - 0s 6ms/step - loss: 244.9489 - val_loss: 1281.7307\n",
      "Epoch 107/500\n",
      "23/23 [==============================] - 0s 6ms/step - loss: 244.2937 - val_loss: 1286.8556\n",
      "Epoch 108/500\n",
      "23/23 [==============================] - 0s 6ms/step - loss: 243.6913 - val_loss: 1291.8136\n",
      "Epoch 109/500\n",
      "23/23 [==============================] - 0s 5ms/step - loss: 243.1377 - val_loss: 1296.6062\n",
      "Epoch 110/500\n",
      "23/23 [==============================] - 0s 5ms/step - loss: 242.6295 - val_loss: 1301.2350\n",
      "Epoch 111/500\n",
      "23/23 [==============================] - 0s 6ms/step - loss: 242.1634 - val_loss: 1305.7030\n",
      "Epoch 112/500\n",
      "23/23 [==============================] - 0s 6ms/step - loss: 241.7361 - val_loss: 1310.0125\n",
      "Epoch 113/500\n",
      "23/23 [==============================] - 0s 6ms/step - loss: 241.3449 - val_loss: 1314.1658\n",
      "Epoch 114/500\n",
      "23/23 [==============================] - 0s 6ms/step - loss: 240.9870 - val_loss: 1318.1665\n",
      "Epoch 115/500\n",
      "23/23 [==============================] - 0s 5ms/step - loss: 240.6596 - val_loss: 1322.0160\n",
      "Epoch 116/500\n",
      "23/23 [==============================] - 0s 5ms/step - loss: 240.3607 - val_loss: 1325.7178\n",
      "Epoch 117/500\n",
      "23/23 [==============================] - 0s 6ms/step - loss: 240.0878 - val_loss: 1329.2762\n",
      "Epoch 118/500\n",
      "23/23 [==============================] - 0s 6ms/step - loss: 239.8389 - val_loss: 1332.6934\n",
      "Epoch 119/500\n",
      "23/23 [==============================] - 0s 6ms/step - loss: 239.6120 - val_loss: 1335.9729\n",
      "Epoch 120/500\n",
      "23/23 [==============================] - 0s 6ms/step - loss: 239.4055 - val_loss: 1339.1177\n",
      "Epoch 121/500\n",
      "23/23 [==============================] - 0s 6ms/step - loss: 239.2175 - val_loss: 1342.1320\n",
      "Epoch 122/500\n",
      "23/23 [==============================] - 0s 6ms/step - loss: 239.0466 - val_loss: 1345.0182\n",
      "Epoch 123/500\n",
      "23/23 [==============================] - 0s 6ms/step - loss: 238.8914 - val_loss: 1347.7811\n",
      "Epoch 124/500\n",
      "23/23 [==============================] - 0s 6ms/step - loss: 238.7504 - val_loss: 1350.4238\n",
      "Epoch 125/500\n",
      "23/23 [==============================] - 0s 6ms/step - loss: 238.6225 - val_loss: 1352.9492\n",
      "Epoch 126/500\n",
      "23/23 [==============================] - 0s 5ms/step - loss: 238.5064 - val_loss: 1355.3613\n",
      "Epoch 127/500\n",
      "23/23 [==============================] - 0s 11ms/step - loss: 238.4014 - val_loss: 1357.6644\n",
      "Epoch 128/500\n",
      "23/23 [==============================] - 0s 8ms/step - loss: 238.3062 - val_loss: 1359.8605\n",
      "Epoch 129/500\n",
      "23/23 [==============================] - 0s 6ms/step - loss: 238.2201 - val_loss: 1361.9547\n",
      "Epoch 130/500\n",
      "23/23 [==============================] - 0s 6ms/step - loss: 238.1423 - val_loss: 1363.9490\n",
      "Epoch 131/500\n",
      "23/23 [==============================] - 0s 6ms/step - loss: 238.0721 - val_loss: 1365.8485\n",
      "Epoch 132/500\n",
      "23/23 [==============================] - 0s 5ms/step - loss: 238.0085 - val_loss: 1367.6547\n",
      "Epoch 133/500\n",
      "23/23 [==============================] - 0s 5ms/step - loss: 237.9513 - val_loss: 1369.3734\n",
      "Epoch 134/500\n",
      "23/23 [==============================] - 0s 8ms/step - loss: 237.8996 - val_loss: 1371.0056\n",
      "Epoch 135/500\n",
      "23/23 [==============================] - 0s 6ms/step - loss: 237.8530 - val_loss: 1372.5558\n",
      "Epoch 136/500\n",
      "23/23 [==============================] - 0s 6ms/step - loss: 237.8111 - val_loss: 1374.0267\n",
      "Epoch 137/500\n",
      "23/23 [==============================] - 0s 5ms/step - loss: 237.7733 - val_loss: 1375.4221\n",
      "Epoch 138/500\n",
      "23/23 [==============================] - 0s 6ms/step - loss: 237.7394 - val_loss: 1376.7448\n",
      "Epoch 139/500\n",
      "23/23 [==============================] - 0s 6ms/step - loss: 237.7090 - val_loss: 1377.9976\n",
      "Epoch 140/500\n",
      "23/23 [==============================] - 0s 6ms/step - loss: 237.6814 - val_loss: 1379.1835\n",
      "Epoch 141/500\n",
      "23/23 [==============================] - 0s 5ms/step - loss: 237.6570 - val_loss: 1380.3069\n",
      "Epoch 142/500\n",
      "23/23 [==============================] - 0s 5ms/step - loss: 237.6349 - val_loss: 1381.3677\n",
      "Epoch 143/500\n",
      "23/23 [==============================] - 0s 5ms/step - loss: 237.6151 - val_loss: 1382.3699\n",
      "Epoch 144/500\n",
      "23/23 [==============================] - 0s 5ms/step - loss: 237.5975 - val_loss: 1383.3169\n",
      "Epoch 145/500\n",
      "23/23 [==============================] - 0s 5ms/step - loss: 237.5816 - val_loss: 1384.2115\n",
      "Epoch 146/500\n",
      "23/23 [==============================] - 0s 5ms/step - loss: 237.5676 - val_loss: 1385.0548\n",
      "Epoch 147/500\n",
      "23/23 [==============================] - 0s 4ms/step - loss: 237.5550 - val_loss: 1385.8495\n",
      "Epoch 148/500\n",
      "23/23 [==============================] - 0s 6ms/step - loss: 237.5437 - val_loss: 1386.5994\n",
      "Epoch 149/500\n",
      "23/23 [==============================] - 0s 9ms/step - loss: 237.5338 - val_loss: 1387.3041\n",
      "Epoch 150/500\n",
      "23/23 [==============================] - 0s 9ms/step - loss: 237.5249 - val_loss: 1387.9686\n",
      "Epoch 151/500\n",
      "23/23 [==============================] - 0s 8ms/step - loss: 237.5170 - val_loss: 1388.5927\n",
      "Epoch 152/500\n",
      "23/23 [==============================] - 0s 10ms/step - loss: 237.5100 - val_loss: 1389.1793\n",
      "Epoch 153/500\n",
      "23/23 [==============================] - 0s 16ms/step - loss: 237.5039 - val_loss: 1389.7307\n",
      "Epoch 154/500\n",
      "23/23 [==============================] - 0s 9ms/step - loss: 237.4985 - val_loss: 1390.2487\n",
      "Epoch 155/500\n",
      "23/23 [==============================] - 0s 7ms/step - loss: 237.4938 - val_loss: 1390.7344\n",
      "Epoch 156/500\n",
      "23/23 [==============================] - 0s 9ms/step - loss: 237.4897 - val_loss: 1391.1903\n",
      "Epoch 157/500\n",
      "23/23 [==============================] - 0s 6ms/step - loss: 237.4861 - val_loss: 1391.6173\n",
      "Epoch 158/500\n",
      "23/23 [==============================] - 0s 6ms/step - loss: 237.4830 - val_loss: 1392.0173\n",
      "Epoch 159/500\n",
      "23/23 [==============================] - 0s 6ms/step - loss: 237.4804 - val_loss: 1392.3925\n",
      "Epoch 160/500\n",
      "23/23 [==============================] - 0s 6ms/step - loss: 237.4781 - val_loss: 1392.7433\n",
      "Epoch 161/500\n",
      "23/23 [==============================] - 0s 7ms/step - loss: 237.4762 - val_loss: 1393.0708\n",
      "Epoch 162/500\n",
      "23/23 [==============================] - 0s 8ms/step - loss: 237.4747 - val_loss: 1393.3772\n",
      "Epoch 163/500\n",
      "23/23 [==============================] - 0s 8ms/step - loss: 237.4734 - val_loss: 1393.6633\n",
      "Epoch 164/500\n",
      "23/23 [==============================] - 0s 8ms/step - loss: 237.4724 - val_loss: 1393.9310\n",
      "Epoch 165/500\n",
      "23/23 [==============================] - 0s 7ms/step - loss: 237.4717 - val_loss: 1394.1810\n",
      "Epoch 166/500\n",
      "23/23 [==============================] - 0s 5ms/step - loss: 237.4710 - val_loss: 1394.4128\n",
      "Epoch 167/500\n",
      "23/23 [==============================] - 0s 5ms/step - loss: 237.4707 - val_loss: 1394.6294\n",
      "Epoch 168/500\n",
      "23/23 [==============================] - 0s 5ms/step - loss: 237.4705 - val_loss: 1394.8319\n",
      "Epoch 169/500\n",
      "23/23 [==============================] - 0s 11ms/step - loss: 237.4705 - val_loss: 1395.0208\n",
      "Epoch 170/500\n",
      "23/23 [==============================] - 0s 13ms/step - loss: 237.4706 - val_loss: 1395.1952\n",
      "Epoch 171/500\n",
      "23/23 [==============================] - 0s 6ms/step - loss: 237.4709 - val_loss: 1395.3578\n",
      "Epoch 172/500\n",
      "23/23 [==============================] - 0s 6ms/step - loss: 237.4713 - val_loss: 1395.5092\n",
      "Epoch 173/500\n",
      "23/23 [==============================] - 0s 6ms/step - loss: 237.4717 - val_loss: 1395.6501\n",
      "Epoch 174/500\n",
      "23/23 [==============================] - 0s 6ms/step - loss: 237.4723 - val_loss: 1395.7802\n",
      "Epoch 175/500\n",
      "23/23 [==============================] - 0s 7ms/step - loss: 237.4730 - val_loss: 1395.9012\n",
      "Epoch 176/500\n",
      "23/23 [==============================] - 0s 8ms/step - loss: 237.4736 - val_loss: 1396.0142\n",
      "Epoch 177/500\n",
      "23/23 [==============================] - 0s 6ms/step - loss: 237.4745 - val_loss: 1396.1180\n",
      "Epoch 178/500\n",
      "23/23 [==============================] - 0s 7ms/step - loss: 237.4753 - val_loss: 1396.2137\n",
      "Epoch 179/500\n",
      "23/23 [==============================] - 0s 7ms/step - loss: 237.4763 - val_loss: 1396.3025\n",
      "Epoch 180/500\n",
      "23/23 [==============================] - 0s 6ms/step - loss: 237.4773 - val_loss: 1396.3854\n",
      "Epoch 181/500\n",
      "23/23 [==============================] - 0s 8ms/step - loss: 237.4782 - val_loss: 1396.4613\n",
      "Epoch 182/500\n",
      "23/23 [==============================] - 0s 6ms/step - loss: 237.4793 - val_loss: 1396.5314\n",
      "Epoch 183/500\n",
      "23/23 [==============================] - 0s 6ms/step - loss: 237.4804 - val_loss: 1396.5963\n",
      "Epoch 184/500\n",
      "23/23 [==============================] - 0s 6ms/step - loss: 237.4814 - val_loss: 1396.6559\n",
      "Epoch 185/500\n",
      "23/23 [==============================] - 0s 5ms/step - loss: 237.4826 - val_loss: 1396.7120\n",
      "Epoch 186/500\n",
      "23/23 [==============================] - 0s 5ms/step - loss: 237.4838 - val_loss: 1396.7618\n",
      "Epoch 187/500\n",
      "23/23 [==============================] - 0s 7ms/step - loss: 237.4849 - val_loss: 1396.8088\n",
      "Epoch 188/500\n",
      "23/23 [==============================] - 0s 6ms/step - loss: 237.4862 - val_loss: 1396.8516\n",
      "Epoch 189/500\n",
      "23/23 [==============================] - 0s 8ms/step - loss: 237.4874 - val_loss: 1396.8914\n",
      "Epoch 190/500\n",
      "23/23 [==============================] - 0s 6ms/step - loss: 237.4886 - val_loss: 1396.9271\n",
      "Epoch 191/500\n",
      "23/23 [==============================] - 0s 6ms/step - loss: 237.4898 - val_loss: 1396.9606\n",
      "Epoch 192/500\n",
      "23/23 [==============================] - 0s 5ms/step - loss: 237.4910 - val_loss: 1396.9913\n",
      "Epoch 193/500\n",
      "23/23 [==============================] - 0s 5ms/step - loss: 237.4923 - val_loss: 1397.0190\n",
      "Epoch 194/500\n",
      "23/23 [==============================] - 0s 5ms/step - loss: 237.4935 - val_loss: 1397.0452\n",
      "Epoch 195/500\n",
      "23/23 [==============================] - 0s 6ms/step - loss: 237.4948 - val_loss: 1397.0687\n",
      "Epoch 196/500\n",
      "23/23 [==============================] - 0s 6ms/step - loss: 237.4960 - val_loss: 1397.0911\n",
      "Epoch 197/500\n",
      "23/23 [==============================] - 0s 5ms/step - loss: 237.4973 - val_loss: 1397.1128\n",
      "Epoch 198/500\n",
      "23/23 [==============================] - 0s 5ms/step - loss: 237.4984 - val_loss: 1397.1339\n",
      "Epoch 199/500\n",
      "23/23 [==============================] - 0s 5ms/step - loss: 237.4209 - val_loss: 1394.6882\n",
      "Epoch 200/500\n",
      "23/23 [==============================] - 0s 6ms/step - loss: 237.7156 - val_loss: 1396.0203\n",
      "Epoch 201/500\n",
      "23/23 [==============================] - 0s 5ms/step - loss: 237.5746 - val_loss: 1396.2220\n",
      "Epoch 202/500\n",
      "23/23 [==============================] - 0s 5ms/step - loss: 237.5565 - val_loss: 1396.3359\n",
      "Epoch 203/500\n",
      "23/23 [==============================] - 0s 5ms/step - loss: 237.5497 - val_loss: 1396.4277\n",
      "Epoch 204/500\n",
      "23/23 [==============================] - 0s 5ms/step - loss: 237.5458 - val_loss: 1396.5077\n",
      "Epoch 205/500\n",
      "23/23 [==============================] - 0s 15ms/step - loss: 237.5433 - val_loss: 1396.5779\n",
      "Epoch 206/500\n",
      "23/23 [==============================] - 0s 6ms/step - loss: 237.5416 - val_loss: 1396.6414\n",
      "Epoch 207/500\n",
      "23/23 [==============================] - 0s 6ms/step - loss: 237.5405 - val_loss: 1396.6979\n",
      "Epoch 208/500\n",
      "23/23 [==============================] - 0s 6ms/step - loss: 237.5397 - val_loss: 1396.7493\n",
      "Epoch 209/500\n",
      "23/23 [==============================] - 0s 6ms/step - loss: 237.5392 - val_loss: 1396.7947\n",
      "Epoch 210/500\n",
      "23/23 [==============================] - 0s 5ms/step - loss: 237.5389 - val_loss: 1396.8364\n",
      "Epoch 211/500\n",
      "23/23 [==============================] - 0s 5ms/step - loss: 237.5388 - val_loss: 1396.8738\n",
      "Epoch 212/500\n",
      "23/23 [==============================] - 0s 5ms/step - loss: 237.5388 - val_loss: 1396.9086\n",
      "Epoch 213/500\n",
      "23/23 [==============================] - 0s 4ms/step - loss: 237.5389 - val_loss: 1396.9382\n",
      "Epoch 214/500\n",
      "23/23 [==============================] - 0s 4ms/step - loss: 237.5392 - val_loss: 1396.9666\n",
      "Epoch 215/500\n",
      "23/23 [==============================] - 0s 5ms/step - loss: 237.5394 - val_loss: 1396.9913\n",
      "Epoch 216/500\n",
      "23/23 [==============================] - 0s 5ms/step - loss: 237.5398 - val_loss: 1397.0149\n",
      "Epoch 217/500\n",
      "23/23 [==============================] - 0s 5ms/step - loss: 237.5402 - val_loss: 1397.0349\n",
      "Epoch 218/500\n",
      "23/23 [==============================] - 0s 5ms/step - loss: 237.5407 - val_loss: 1397.0531\n",
      "Epoch 219/500\n",
      "23/23 [==============================] - 0s 5ms/step - loss: 237.5412 - val_loss: 1397.0708\n",
      "Epoch 220/500\n",
      "23/23 [==============================] - 0s 7ms/step - loss: 237.5416 - val_loss: 1397.0848\n",
      "Epoch 221/500\n",
      "23/23 [==============================] - 0s 6ms/step - loss: 237.5421 - val_loss: 1397.0990\n",
      "Epoch 222/500\n",
      "23/23 [==============================] - 0s 5ms/step - loss: 237.5427 - val_loss: 1397.1113\n",
      "Epoch 223/500\n",
      "23/23 [==============================] - 0s 5ms/step - loss: 237.5432 - val_loss: 1397.1224\n",
      "Epoch 224/500\n",
      "23/23 [==============================] - 0s 6ms/step - loss: 237.5438 - val_loss: 1397.1321\n",
      "Epoch 225/500\n",
      "23/23 [==============================] - 0s 6ms/step - loss: 237.5444 - val_loss: 1397.1407\n",
      "Epoch 226/500\n",
      "23/23 [==============================] - 0s 12ms/step - loss: 237.5451 - val_loss: 1397.1484\n",
      "Epoch 227/500\n",
      "23/23 [==============================] - 0s 6ms/step - loss: 237.5456 - val_loss: 1397.1564\n",
      "Epoch 228/500\n",
      "23/23 [==============================] - 0s 6ms/step - loss: 237.5462 - val_loss: 1397.1617\n",
      "Epoch 229/500\n",
      "23/23 [==============================] - 0s 5ms/step - loss: 237.5468 - val_loss: 1397.1686\n",
      "Epoch 230/500\n",
      "23/23 [==============================] - 0s 5ms/step - loss: 237.5474 - val_loss: 1397.1724\n",
      "Epoch 231/500\n",
      "23/23 [==============================] - 0s 8ms/step - loss: 237.5481 - val_loss: 1397.1772\n",
      "Epoch 232/500\n",
      "23/23 [==============================] - 0s 6ms/step - loss: 237.5487 - val_loss: 1397.1812\n",
      "Epoch 233/500\n",
      "23/23 [==============================] - 0s 5ms/step - loss: 237.5492 - val_loss: 1397.1840\n",
      "Epoch 234/500\n",
      "23/23 [==============================] - 0s 7ms/step - loss: 237.5499 - val_loss: 1397.1875\n",
      "Epoch 235/500\n",
      "23/23 [==============================] - 0s 5ms/step - loss: 237.5505 - val_loss: 1397.1897\n",
      "Epoch 236/500\n",
      "23/23 [==============================] - 0s 5ms/step - loss: 237.5511 - val_loss: 1397.1919\n",
      "Epoch 237/500\n",
      "23/23 [==============================] - 0s 7ms/step - loss: 237.5517 - val_loss: 1397.1935\n",
      "Epoch 238/500\n",
      "23/23 [==============================] - 0s 6ms/step - loss: 237.5524 - val_loss: 1397.1948\n",
      "Epoch 239/500\n",
      "23/23 [==============================] - 0s 6ms/step - loss: 237.5529 - val_loss: 1397.1964\n",
      "Epoch 240/500\n",
      "23/23 [==============================] - 0s 7ms/step - loss: 237.5535 - val_loss: 1397.1975\n",
      "Epoch 241/500\n",
      "23/23 [==============================] - 0s 7ms/step - loss: 237.5541 - val_loss: 1397.1986\n",
      "Epoch 242/500\n",
      "23/23 [==============================] - 0s 6ms/step - loss: 237.5546 - val_loss: 1397.1991\n",
      "Epoch 243/500\n",
      "23/23 [==============================] - 0s 5ms/step - loss: 237.5552 - val_loss: 1397.1995\n",
      "Epoch 244/500\n",
      "23/23 [==============================] - 0s 5ms/step - loss: 237.5557 - val_loss: 1397.1998\n",
      "Epoch 245/500\n",
      "23/23 [==============================] - 0s 5ms/step - loss: 237.5563 - val_loss: 1397.2000\n",
      "Epoch 246/500\n",
      "23/23 [==============================] - 0s 5ms/step - loss: 237.5568 - val_loss: 1397.2002\n",
      "Epoch 247/500\n",
      "23/23 [==============================] - 0s 5ms/step - loss: 237.5573 - val_loss: 1397.2004\n",
      "Epoch 248/500\n",
      "23/23 [==============================] - 0s 5ms/step - loss: 237.5579 - val_loss: 1397.2002\n",
      "Epoch 249/500\n",
      "23/23 [==============================] - 0s 5ms/step - loss: 237.5584 - val_loss: 1397.2002\n",
      "Epoch 250/500\n",
      "23/23 [==============================] - 0s 5ms/step - loss: 237.5589 - val_loss: 1397.1998\n",
      "Epoch 251/500\n",
      "23/23 [==============================] - 0s 5ms/step - loss: 237.5594 - val_loss: 1397.1993\n",
      "Epoch 252/500\n",
      "23/23 [==============================] - 0s 5ms/step - loss: 237.5598 - val_loss: 1397.1992\n",
      "Epoch 253/500\n",
      "23/23 [==============================] - 0s 5ms/step - loss: 237.5604 - val_loss: 1397.1985\n",
      "Epoch 254/500\n",
      "23/23 [==============================] - 0s 5ms/step - loss: 237.5609 - val_loss: 1397.1981\n",
      "Epoch 255/500\n",
      "23/23 [==============================] - 0s 5ms/step - loss: 237.5613 - val_loss: 1397.1976\n",
      "Epoch 256/500\n",
      "23/23 [==============================] - 0s 5ms/step - loss: 237.5618 - val_loss: 1397.1973\n",
      "Epoch 257/500\n",
      "23/23 [==============================] - 0s 5ms/step - loss: 237.5622 - val_loss: 1397.1962\n",
      "Epoch 258/500\n",
      "23/23 [==============================] - 0s 12ms/step - loss: 237.5626 - val_loss: 1397.1954\n",
      "Epoch 259/500\n",
      "23/23 [==============================] - 0s 7ms/step - loss: 237.5631 - val_loss: 1397.1948\n",
      "Epoch 260/500\n",
      "23/23 [==============================] - 0s 6ms/step - loss: 237.5635 - val_loss: 1397.1946\n",
      "Epoch 261/500\n",
      "23/23 [==============================] - 0s 6ms/step - loss: 237.5639 - val_loss: 1397.1940\n",
      "Epoch 262/500\n",
      "23/23 [==============================] - 0s 7ms/step - loss: 237.5644 - val_loss: 1397.1934\n",
      "Epoch 263/500\n",
      "23/23 [==============================] - 0s 7ms/step - loss: 237.5648 - val_loss: 1397.1924\n",
      "Epoch 264/500\n",
      "23/23 [==============================] - 0s 8ms/step - loss: 237.5652 - val_loss: 1397.1921\n",
      "Epoch 265/500\n",
      "23/23 [==============================] - 0s 7ms/step - loss: 237.5656 - val_loss: 1397.1919\n",
      "Epoch 266/500\n",
      "23/23 [==============================] - 0s 6ms/step - loss: 237.5659 - val_loss: 1397.1913\n",
      "Epoch 267/500\n",
      "23/23 [==============================] - 0s 5ms/step - loss: 237.5662 - val_loss: 1397.1904\n",
      "Epoch 268/500\n",
      "23/23 [==============================] - 0s 5ms/step - loss: 237.5666 - val_loss: 1397.1892\n",
      "Epoch 269/500\n",
      "23/23 [==============================] - 0s 5ms/step - loss: 237.5670 - val_loss: 1397.1885\n",
      "Epoch 270/500\n",
      "23/23 [==============================] - 0s 5ms/step - loss: 237.5674 - val_loss: 1397.1877\n",
      "Epoch 271/500\n",
      "23/23 [==============================] - 0s 5ms/step - loss: 237.5677 - val_loss: 1397.1874\n",
      "Epoch 272/500\n",
      "23/23 [==============================] - 0s 6ms/step - loss: 237.5681 - val_loss: 1397.1868\n",
      "Epoch 273/500\n",
      "23/23 [==============================] - 0s 6ms/step - loss: 237.5685 - val_loss: 1397.1855\n",
      "Epoch 274/500\n",
      "23/23 [==============================] - 0s 6ms/step - loss: 237.5687 - val_loss: 1397.1853\n",
      "Epoch 275/500\n",
      "23/23 [==============================] - 0s 5ms/step - loss: 237.5691 - val_loss: 1397.1849\n",
      "Epoch 276/500\n",
      "23/23 [==============================] - 0s 5ms/step - loss: 237.5693 - val_loss: 1397.1848\n",
      "Epoch 277/500\n",
      "23/23 [==============================] - 0s 5ms/step - loss: 237.5696 - val_loss: 1397.1841\n",
      "Epoch 278/500\n",
      "23/23 [==============================] - 0s 5ms/step - loss: 237.5700 - val_loss: 1397.1832\n",
      "Epoch 279/500\n",
      "23/23 [==============================] - 0s 5ms/step - loss: 237.5703 - val_loss: 1397.1826\n",
      "Epoch 280/500\n",
      "23/23 [==============================] - 0s 5ms/step - loss: 237.5706 - val_loss: 1397.1819\n",
      "Epoch 281/500\n",
      "23/23 [==============================] - 0s 6ms/step - loss: 237.5709 - val_loss: 1397.1813\n",
      "Epoch 282/500\n",
      "23/23 [==============================] - 0s 5ms/step - loss: 237.5711 - val_loss: 1397.1809\n",
      "Epoch 283/500\n",
      "23/23 [==============================] - 0s 5ms/step - loss: 237.5714 - val_loss: 1397.1801\n",
      "Epoch 284/500\n",
      "23/23 [==============================] - 0s 11ms/step - loss: 237.5717 - val_loss: 1397.1792\n",
      "Epoch 285/500\n",
      "23/23 [==============================] - 0s 6ms/step - loss: 237.5719 - val_loss: 1397.1782\n",
      "Epoch 286/500\n",
      "23/23 [==============================] - 0s 6ms/step - loss: 237.5722 - val_loss: 1397.1781\n",
      "Epoch 287/500\n",
      "23/23 [==============================] - 0s 5ms/step - loss: 237.5724 - val_loss: 1397.1780\n",
      "Epoch 288/500\n",
      "23/23 [==============================] - 0s 5ms/step - loss: 237.5727 - val_loss: 1397.1777\n",
      "Epoch 289/500\n",
      "23/23 [==============================] - 0s 5ms/step - loss: 237.5728 - val_loss: 1397.1775\n",
      "Epoch 290/500\n",
      "23/23 [==============================] - 0s 5ms/step - loss: 237.5730 - val_loss: 1397.1765\n",
      "Epoch 291/500\n",
      "23/23 [==============================] - 0s 5ms/step - loss: 237.5734 - val_loss: 1397.1765\n",
      "Epoch 292/500\n",
      "23/23 [==============================] - 0s 5ms/step - loss: 237.5736 - val_loss: 1397.1759\n",
      "Epoch 293/500\n",
      "23/23 [==============================] - 0s 5ms/step - loss: 237.5738 - val_loss: 1397.1755\n",
      "Epoch 294/500\n",
      "23/23 [==============================] - 0s 5ms/step - loss: 237.5740 - val_loss: 1397.1749\n",
      "Epoch 295/500\n",
      "23/23 [==============================] - 0s 4ms/step - loss: 237.5743 - val_loss: 1397.1748\n",
      "Epoch 296/500\n",
      "23/23 [==============================] - 0s 5ms/step - loss: 237.5745 - val_loss: 1397.1743\n",
      "Epoch 297/500\n",
      "23/23 [==============================] - 0s 5ms/step - loss: 237.5747 - val_loss: 1397.1736\n",
      "Epoch 298/500\n",
      "23/23 [==============================] - 0s 5ms/step - loss: 237.5749 - val_loss: 1397.1738\n",
      "Epoch 299/500\n",
      "23/23 [==============================] - 0s 5ms/step - loss: 237.5750 - val_loss: 1397.1736\n",
      "Epoch 300/500\n",
      "23/23 [==============================] - 0s 5ms/step - loss: 237.5752 - val_loss: 1397.1725\n",
      "Epoch 301/500\n",
      "23/23 [==============================] - 0s 5ms/step - loss: 237.5754 - val_loss: 1397.1722\n",
      "Epoch 302/500\n",
      "23/23 [==============================] - 0s 4ms/step - loss: 237.5756 - val_loss: 1397.1720\n",
      "Epoch 303/500\n",
      "23/23 [==============================] - 0s 5ms/step - loss: 237.5758 - val_loss: 1397.1720\n",
      "Epoch 304/500\n",
      "23/23 [==============================] - 0s 5ms/step - loss: 237.5760 - val_loss: 1397.1719\n",
      "Epoch 305/500\n",
      "23/23 [==============================] - 0s 5ms/step - loss: 237.5761 - val_loss: 1397.1714\n",
      "Epoch 306/500\n",
      "23/23 [==============================] - 0s 5ms/step - loss: 237.5763 - val_loss: 1397.1707\n",
      "Epoch 307/500\n",
      "23/23 [==============================] - 0s 5ms/step - loss: 237.5765 - val_loss: 1397.1708\n",
      "Epoch 308/500\n",
      "23/23 [==============================] - 0s 5ms/step - loss: 237.5766 - val_loss: 1397.1696\n",
      "Epoch 309/500\n",
      "23/23 [==============================] - 0s 5ms/step - loss: 237.5768 - val_loss: 1397.1694\n",
      "Epoch 310/500\n",
      "23/23 [==============================] - 0s 5ms/step - loss: 237.5770 - val_loss: 1397.1692\n",
      "Epoch 311/500\n",
      "23/23 [==============================] - 0s 11ms/step - loss: 237.5771 - val_loss: 1397.1689\n",
      "Epoch 312/500\n",
      "23/23 [==============================] - 0s 5ms/step - loss: 237.5773 - val_loss: 1397.1691\n",
      "Epoch 313/500\n",
      "23/23 [==============================] - 0s 5ms/step - loss: 237.5774 - val_loss: 1397.1687\n",
      "Epoch 314/500\n",
      "23/23 [==============================] - 0s 5ms/step - loss: 237.5775 - val_loss: 1397.1687\n",
      "Epoch 315/500\n",
      "23/23 [==============================] - 0s 5ms/step - loss: 237.5776 - val_loss: 1397.1685\n",
      "Epoch 316/500\n",
      "23/23 [==============================] - 0s 5ms/step - loss: 237.5778 - val_loss: 1397.1681\n",
      "Epoch 317/500\n",
      "23/23 [==============================] - 0s 5ms/step - loss: 237.5779 - val_loss: 1397.1674\n",
      "Epoch 318/500\n",
      "23/23 [==============================] - 0s 5ms/step - loss: 237.5780 - val_loss: 1397.1675\n",
      "Epoch 319/500\n",
      "23/23 [==============================] - 0s 5ms/step - loss: 237.5782 - val_loss: 1397.1670\n",
      "Epoch 320/500\n",
      "23/23 [==============================] - 0s 5ms/step - loss: 237.5783 - val_loss: 1397.1667\n",
      "Epoch 321/500\n",
      "23/23 [==============================] - 0s 5ms/step - loss: 237.5784 - val_loss: 1397.1666\n",
      "Epoch 322/500\n",
      "23/23 [==============================] - 0s 5ms/step - loss: 237.5785 - val_loss: 1397.1666\n",
      "Epoch 323/500\n",
      "23/23 [==============================] - 0s 6ms/step - loss: 237.5786 - val_loss: 1397.1665\n",
      "Epoch 324/500\n",
      "23/23 [==============================] - 0s 5ms/step - loss: 237.5788 - val_loss: 1397.1665\n",
      "Epoch 325/500\n",
      "23/23 [==============================] - 0s 5ms/step - loss: 237.5788 - val_loss: 1397.1669\n",
      "Epoch 326/500\n",
      "23/23 [==============================] - 0s 5ms/step - loss: 237.5789 - val_loss: 1397.1667\n",
      "Epoch 327/500\n",
      "23/23 [==============================] - 0s 5ms/step - loss: 237.5791 - val_loss: 1397.1666\n",
      "Epoch 328/500\n",
      "23/23 [==============================] - 0s 5ms/step - loss: 237.5792 - val_loss: 1397.1669\n",
      "Epoch 329/500\n",
      "23/23 [==============================] - 0s 5ms/step - loss: 237.5793 - val_loss: 1397.1669\n",
      "Epoch 330/500\n",
      "23/23 [==============================] - 0s 5ms/step - loss: 237.5794 - val_loss: 1397.1663\n",
      "Epoch 331/500\n",
      "23/23 [==============================] - 0s 5ms/step - loss: 237.5794 - val_loss: 1397.1656\n",
      "Epoch 332/500\n",
      "23/23 [==============================] - 0s 5ms/step - loss: 237.5795 - val_loss: 1397.1649\n",
      "Epoch 333/500\n",
      "23/23 [==============================] - 0s 5ms/step - loss: 237.5797 - val_loss: 1397.1652\n",
      "Epoch 334/500\n",
      "23/23 [==============================] - 0s 5ms/step - loss: 237.5797 - val_loss: 1397.1652\n",
      "Epoch 335/500\n",
      "23/23 [==============================] - 0s 5ms/step - loss: 237.5798 - val_loss: 1397.1652\n",
      "Epoch 336/500\n",
      "23/23 [==============================] - 0s 5ms/step - loss: 237.5799 - val_loss: 1397.1653\n",
      "Epoch 337/500\n",
      "23/23 [==============================] - 0s 5ms/step - loss: 237.5800 - val_loss: 1397.1653\n",
      "Epoch 338/500\n",
      "23/23 [==============================] - 0s 5ms/step - loss: 237.5801 - val_loss: 1397.1652\n",
      "Epoch 339/500\n",
      "23/23 [==============================] - 0s 9ms/step - loss: 237.5802 - val_loss: 1397.1653\n",
      "Epoch 340/500\n",
      "23/23 [==============================] - 0s 5ms/step - loss: 237.5802 - val_loss: 1397.1655\n",
      "Epoch 341/500\n",
      "23/23 [==============================] - 0s 5ms/step - loss: 237.5803 - val_loss: 1397.1656\n",
      "Epoch 342/500\n",
      "23/23 [==============================] - 0s 5ms/step - loss: 237.5804 - val_loss: 1397.1653\n",
      "Epoch 343/500\n",
      "23/23 [==============================] - 0s 5ms/step - loss: 237.5804 - val_loss: 1397.1649\n",
      "Epoch 344/500\n",
      "23/23 [==============================] - 0s 5ms/step - loss: 237.5806 - val_loss: 1397.1652\n",
      "Epoch 345/500\n",
      "23/23 [==============================] - 0s 5ms/step - loss: 237.5806 - val_loss: 1397.1653\n",
      "Epoch 346/500\n",
      "23/23 [==============================] - 0s 5ms/step - loss: 237.5806 - val_loss: 1397.1653\n",
      "Epoch 347/500\n",
      "23/23 [==============================] - 0s 5ms/step - loss: 237.5807 - val_loss: 1397.1654\n",
      "Epoch 348/500\n",
      "23/23 [==============================] - 0s 5ms/step - loss: 237.5808 - val_loss: 1397.1654\n",
      "Epoch 349/500\n",
      "23/23 [==============================] - 0s 5ms/step - loss: 237.5808 - val_loss: 1397.1654\n",
      "Epoch 350/500\n",
      "23/23 [==============================] - 0s 5ms/step - loss: 237.5809 - val_loss: 1397.1654\n",
      "Epoch 351/500\n",
      "23/23 [==============================] - 0s 5ms/step - loss: 237.5810 - val_loss: 1397.1656\n",
      "Epoch 352/500\n",
      "23/23 [==============================] - 0s 5ms/step - loss: 237.5811 - val_loss: 1397.1655\n",
      "Epoch 353/500\n",
      "23/23 [==============================] - 0s 5ms/step - loss: 237.5812 - val_loss: 1397.1658\n",
      "Epoch 354/500\n",
      "23/23 [==============================] - 0s 5ms/step - loss: 237.5812 - val_loss: 1397.1658\n",
      "Epoch 355/500\n",
      "23/23 [==============================] - 0s 5ms/step - loss: 237.5813 - val_loss: 1397.1658\n",
      "Epoch 356/500\n",
      "23/23 [==============================] - 0s 5ms/step - loss: 237.5813 - val_loss: 1397.1654\n",
      "Epoch 357/500\n",
      "23/23 [==============================] - 0s 5ms/step - loss: 237.5813 - val_loss: 1397.1652\n",
      "Epoch 358/500\n",
      "23/23 [==============================] - 0s 4ms/step - loss: 237.5814 - val_loss: 1397.1648\n",
      "Epoch 359/500\n",
      "23/23 [==============================] - 0s 5ms/step - loss: 237.5815 - val_loss: 1397.1652\n",
      "Epoch 360/500\n",
      "23/23 [==============================] - 0s 5ms/step - loss: 237.5815 - val_loss: 1397.1647\n",
      "Epoch 361/500\n",
      "23/23 [==============================] - 0s 5ms/step - loss: 237.5816 - val_loss: 1397.1644\n",
      "Epoch 362/500\n",
      "23/23 [==============================] - 0s 5ms/step - loss: 237.5816 - val_loss: 1397.1646\n",
      "Epoch 363/500\n",
      "23/23 [==============================] - 0s 5ms/step - loss: 237.5816 - val_loss: 1397.1647\n",
      "Epoch 364/500\n",
      "23/23 [==============================] - 0s 5ms/step - loss: 237.5817 - val_loss: 1397.1648\n",
      "Epoch 365/500\n",
      "23/23 [==============================] - 0s 5ms/step - loss: 237.5818 - val_loss: 1397.1649\n",
      "Epoch 366/500\n",
      "23/23 [==============================] - 0s 5ms/step - loss: 237.5818 - val_loss: 1397.1652\n",
      "Epoch 367/500\n",
      "23/23 [==============================] - 0s 5ms/step - loss: 237.5818 - val_loss: 1397.1653\n",
      "Epoch 368/500\n",
      "23/23 [==============================] - 0s 11ms/step - loss: 237.5819 - val_loss: 1397.1654\n",
      "Epoch 369/500\n",
      "23/23 [==============================] - 0s 5ms/step - loss: 237.5819 - val_loss: 1397.1654\n",
      "Epoch 370/500\n",
      "23/23 [==============================] - 0s 5ms/step - loss: 237.5819 - val_loss: 1397.1655\n",
      "Epoch 371/500\n",
      "23/23 [==============================] - 0s 5ms/step - loss: 237.5820 - val_loss: 1397.1655\n",
      "Epoch 372/500\n",
      "23/23 [==============================] - 0s 5ms/step - loss: 237.5820 - val_loss: 1397.1656\n",
      "Epoch 373/500\n",
      "23/23 [==============================] - 0s 5ms/step - loss: 237.5820 - val_loss: 1397.1658\n",
      "Epoch 374/500\n",
      "23/23 [==============================] - 0s 5ms/step - loss: 237.5821 - val_loss: 1397.1658\n",
      "Epoch 375/500\n",
      "23/23 [==============================] - 0s 5ms/step - loss: 237.5821 - val_loss: 1397.1658\n",
      "Epoch 376/500\n",
      "23/23 [==============================] - 0s 5ms/step - loss: 237.5821 - val_loss: 1397.1661\n",
      "Epoch 377/500\n",
      "23/23 [==============================] - 0s 5ms/step - loss: 237.5822 - val_loss: 1397.1663\n",
      "Epoch 378/500\n",
      "23/23 [==============================] - 0s 5ms/step - loss: 237.5822 - val_loss: 1397.1663\n",
      "Epoch 379/500\n",
      "23/23 [==============================] - 0s 5ms/step - loss: 237.5822 - val_loss: 1397.1661\n",
      "Epoch 380/500\n",
      "23/23 [==============================] - 0s 4ms/step - loss: 237.5822 - val_loss: 1397.1656\n",
      "Epoch 381/500\n",
      "23/23 [==============================] - 0s 5ms/step - loss: 237.5822 - val_loss: 1397.1658\n",
      "Epoch 382/500\n",
      "23/23 [==============================] - 0s 5ms/step - loss: 237.5823 - val_loss: 1397.1660\n",
      "Epoch 383/500\n",
      "23/23 [==============================] - 0s 4ms/step - loss: 237.5823 - val_loss: 1397.1660\n",
      "Epoch 384/500\n",
      "23/23 [==============================] - 0s 5ms/step - loss: 237.5824 - val_loss: 1397.1661\n",
      "Epoch 385/500\n",
      "23/23 [==============================] - 0s 5ms/step - loss: 237.5824 - val_loss: 1397.1663\n",
      "Epoch 386/500\n",
      "23/23 [==============================] - 0s 5ms/step - loss: 237.5824 - val_loss: 1397.1663\n",
      "Epoch 387/500\n",
      "23/23 [==============================] - 0s 5ms/step - loss: 237.5825 - val_loss: 1397.1663\n",
      "Epoch 388/500\n",
      "23/23 [==============================] - 0s 5ms/step - loss: 237.5825 - val_loss: 1397.1663\n",
      "Epoch 389/500\n",
      "23/23 [==============================] - 0s 4ms/step - loss: 237.5825 - val_loss: 1397.1665\n",
      "Epoch 390/500\n",
      "23/23 [==============================] - 0s 5ms/step - loss: 237.5826 - val_loss: 1397.1666\n",
      "Epoch 391/500\n",
      "23/23 [==============================] - 0s 5ms/step - loss: 237.5826 - val_loss: 1397.1667\n",
      "Epoch 392/500\n",
      "23/23 [==============================] - 0s 5ms/step - loss: 237.5826 - val_loss: 1397.1678\n",
      "Epoch 393/500\n",
      "23/23 [==============================] - 0s 11ms/step - loss: 237.5826 - val_loss: 1397.1678\n",
      "Epoch 394/500\n",
      "23/23 [==============================] - 0s 5ms/step - loss: 237.5826 - val_loss: 1397.1681\n",
      "Epoch 395/500\n",
      "23/23 [==============================] - 0s 5ms/step - loss: 237.5826 - val_loss: 1397.1680\n",
      "Epoch 396/500\n",
      "23/23 [==============================] - 0s 5ms/step - loss: 237.5827 - val_loss: 1397.1681\n",
      "Epoch 397/500\n",
      "23/23 [==============================] - 0s 5ms/step - loss: 237.5827 - val_loss: 1397.1681\n",
      "Epoch 398/500\n",
      "23/23 [==============================] - 0s 5ms/step - loss: 237.5827 - val_loss: 1397.1678\n",
      "Epoch 399/500\n",
      "23/23 [==============================] - 0s 5ms/step - loss: 237.5828 - val_loss: 1397.1677\n",
      "Epoch 400/500\n",
      "23/23 [==============================] - 0s 5ms/step - loss: 237.5828 - val_loss: 1397.1678\n",
      "Epoch 401/500\n",
      "23/23 [==============================] - 0s 5ms/step - loss: 237.5828 - val_loss: 1397.1677\n",
      "Epoch 402/500\n",
      "23/23 [==============================] - 0s 6ms/step - loss: 237.5828 - val_loss: 1397.1677\n",
      "Epoch 403/500\n",
      "23/23 [==============================] - 0s 5ms/step - loss: 237.5828 - val_loss: 1397.1678\n",
      "Epoch 404/500\n",
      "23/23 [==============================] - 0s 5ms/step - loss: 237.5828 - val_loss: 1397.1676\n",
      "Epoch 405/500\n",
      "23/23 [==============================] - 0s 5ms/step - loss: 237.5829 - val_loss: 1397.1677\n",
      "Epoch 406/500\n",
      "23/23 [==============================] - 0s 5ms/step - loss: 237.5829 - val_loss: 1397.1677\n",
      "Epoch 407/500\n",
      "23/23 [==============================] - 0s 5ms/step - loss: 237.5829 - val_loss: 1397.1678\n",
      "Epoch 408/500\n",
      "23/23 [==============================] - 0s 5ms/step - loss: 237.5829 - val_loss: 1397.1678\n",
      "Epoch 409/500\n",
      "23/23 [==============================] - 0s 5ms/step - loss: 237.5829 - val_loss: 1397.1678\n",
      "Epoch 410/500\n",
      "23/23 [==============================] - 0s 5ms/step - loss: 237.5829 - val_loss: 1397.1675\n",
      "Epoch 411/500\n",
      "23/23 [==============================] - 0s 5ms/step - loss: 237.5830 - val_loss: 1397.1674\n",
      "Epoch 412/500\n",
      "23/23 [==============================] - 0s 5ms/step - loss: 237.5830 - val_loss: 1397.1674\n",
      "Epoch 413/500\n",
      "23/23 [==============================] - 0s 5ms/step - loss: 237.5830 - val_loss: 1397.1674\n",
      "Epoch 414/500\n",
      "23/23 [==============================] - 0s 5ms/step - loss: 237.5830 - val_loss: 1397.1675\n",
      "Epoch 415/500\n",
      "23/23 [==============================] - 0s 5ms/step - loss: 237.5830 - val_loss: 1397.1675\n",
      "Epoch 416/500\n",
      "23/23 [==============================] - 0s 5ms/step - loss: 237.5831 - val_loss: 1397.1686\n",
      "Epoch 417/500\n",
      "23/23 [==============================] - 0s 5ms/step - loss: 237.5831 - val_loss: 1397.1691\n",
      "Epoch 418/500\n",
      "23/23 [==============================] - 0s 5ms/step - loss: 237.5831 - val_loss: 1397.1689\n",
      "Epoch 419/500\n",
      "23/23 [==============================] - 0s 5ms/step - loss: 237.5831 - val_loss: 1397.1691\n",
      "Epoch 420/500\n",
      "23/23 [==============================] - 0s 10ms/step - loss: 237.5831 - val_loss: 1397.1691\n",
      "Epoch 421/500\n",
      "23/23 [==============================] - 0s 5ms/step - loss: 237.5831 - val_loss: 1397.1691\n",
      "Epoch 422/500\n",
      "23/23 [==============================] - 0s 5ms/step - loss: 237.5831 - val_loss: 1397.1691\n",
      "Epoch 423/500\n",
      "23/23 [==============================] - 0s 6ms/step - loss: 237.5831 - val_loss: 1397.1691\n",
      "Epoch 424/500\n",
      "23/23 [==============================] - 0s 5ms/step - loss: 237.5831 - val_loss: 1397.1691\n",
      "Epoch 425/500\n",
      "23/23 [==============================] - 0s 5ms/step - loss: 237.5831 - val_loss: 1397.1687\n",
      "Epoch 426/500\n",
      "23/23 [==============================] - 0s 5ms/step - loss: 237.5831 - val_loss: 1397.1685\n",
      "Epoch 427/500\n",
      "23/23 [==============================] - 0s 5ms/step - loss: 237.5831 - val_loss: 1397.1681\n",
      "Epoch 428/500\n",
      "23/23 [==============================] - 0s 5ms/step - loss: 237.5831 - val_loss: 1397.1677\n",
      "Epoch 429/500\n",
      "23/23 [==============================] - 0s 5ms/step - loss: 237.5831 - val_loss: 1397.1672\n",
      "Epoch 430/500\n",
      "23/23 [==============================] - 0s 5ms/step - loss: 237.5832 - val_loss: 1397.1669\n",
      "Epoch 431/500\n",
      "23/23 [==============================] - 0s 5ms/step - loss: 237.5832 - val_loss: 1397.1661\n",
      "Epoch 432/500\n",
      "23/23 [==============================] - 0s 5ms/step - loss: 237.5832 - val_loss: 1397.1660\n",
      "Epoch 433/500\n",
      "23/23 [==============================] - 0s 5ms/step - loss: 237.5832 - val_loss: 1397.1654\n",
      "Epoch 434/500\n",
      "23/23 [==============================] - 0s 5ms/step - loss: 237.5832 - val_loss: 1397.1653\n",
      "Epoch 435/500\n",
      "23/23 [==============================] - 0s 5ms/step - loss: 237.5832 - val_loss: 1397.1652\n",
      "Epoch 436/500\n",
      "23/23 [==============================] - 0s 4ms/step - loss: 237.5833 - val_loss: 1397.1649\n",
      "Epoch 437/500\n",
      "23/23 [==============================] - 0s 5ms/step - loss: 237.5833 - val_loss: 1397.1649\n",
      "Epoch 438/500\n",
      "23/23 [==============================] - 0s 5ms/step - loss: 237.5833 - val_loss: 1397.1646\n",
      "Epoch 439/500\n",
      "23/23 [==============================] - 0s 5ms/step - loss: 237.5833 - val_loss: 1397.1641\n",
      "Epoch 440/500\n",
      "23/23 [==============================] - 0s 5ms/step - loss: 237.5833 - val_loss: 1397.1642\n",
      "Epoch 441/500\n",
      "23/23 [==============================] - 0s 5ms/step - loss: 237.5833 - val_loss: 1397.1642\n",
      "Epoch 442/500\n",
      "23/23 [==============================] - 0s 5ms/step - loss: 237.5833 - val_loss: 1397.1644\n",
      "Epoch 443/500\n",
      "23/23 [==============================] - 0s 5ms/step - loss: 237.5833 - val_loss: 1397.1646\n",
      "Epoch 444/500\n",
      "23/23 [==============================] - 0s 5ms/step - loss: 237.5833 - val_loss: 1397.1647\n",
      "Epoch 445/500\n",
      "23/23 [==============================] - 0s 11ms/step - loss: 237.5833 - val_loss: 1397.1649\n",
      "Epoch 446/500\n",
      "23/23 [==============================] - 0s 6ms/step - loss: 237.5833 - val_loss: 1397.1650\n",
      "Epoch 447/500\n",
      "23/23 [==============================] - 0s 5ms/step - loss: 237.5833 - val_loss: 1397.1650\n",
      "Epoch 448/500\n",
      "23/23 [==============================] - 0s 5ms/step - loss: 237.5833 - val_loss: 1397.1653\n",
      "Epoch 449/500\n",
      "23/23 [==============================] - 0s 5ms/step - loss: 237.5834 - val_loss: 1397.1652\n",
      "Epoch 450/500\n",
      "23/23 [==============================] - 0s 5ms/step - loss: 237.5834 - val_loss: 1397.1652\n",
      "Epoch 451/500\n",
      "23/23 [==============================] - 0s 5ms/step - loss: 237.5834 - val_loss: 1397.1653\n",
      "Epoch 452/500\n",
      "23/23 [==============================] - 0s 5ms/step - loss: 237.5834 - val_loss: 1397.1654\n",
      "Epoch 453/500\n",
      "23/23 [==============================] - 0s 5ms/step - loss: 237.5834 - val_loss: 1397.1654\n",
      "Epoch 454/500\n",
      "23/23 [==============================] - 0s 5ms/step - loss: 237.5834 - val_loss: 1397.1655\n",
      "Epoch 455/500\n",
      "23/23 [==============================] - 0s 5ms/step - loss: 237.5834 - val_loss: 1397.1661\n",
      "Epoch 456/500\n",
      "23/23 [==============================] - 0s 5ms/step - loss: 237.5834 - val_loss: 1397.1660\n",
      "Epoch 457/500\n",
      "23/23 [==============================] - 0s 5ms/step - loss: 237.5834 - val_loss: 1397.1659\n",
      "Epoch 458/500\n",
      "23/23 [==============================] - 0s 4ms/step - loss: 237.5834 - val_loss: 1397.1658\n",
      "Epoch 459/500\n",
      "23/23 [==============================] - 0s 5ms/step - loss: 237.5834 - val_loss: 1397.1656\n",
      "Epoch 460/500\n",
      "23/23 [==============================] - 0s 5ms/step - loss: 237.5834 - val_loss: 1397.1654\n",
      "Epoch 461/500\n",
      "23/23 [==============================] - 0s 5ms/step - loss: 237.5834 - val_loss: 1397.1653\n",
      "Epoch 462/500\n",
      "23/23 [==============================] - 0s 5ms/step - loss: 237.5834 - val_loss: 1397.1652\n",
      "Epoch 463/500\n",
      "23/23 [==============================] - 0s 5ms/step - loss: 237.5834 - val_loss: 1397.1643\n",
      "Epoch 464/500\n",
      "23/23 [==============================] - 0s 5ms/step - loss: 237.5834 - val_loss: 1397.1639\n",
      "Epoch 465/500\n",
      "23/23 [==============================] - 0s 5ms/step - loss: 237.5834 - val_loss: 1397.1636\n",
      "Epoch 466/500\n",
      "23/23 [==============================] - 0s 5ms/step - loss: 237.5834 - val_loss: 1397.1627\n",
      "Epoch 467/500\n",
      "23/23 [==============================] - 0s 10ms/step - loss: 237.5834 - val_loss: 1397.1621\n",
      "Epoch 468/500\n",
      "23/23 [==============================] - 0s 6ms/step - loss: 237.5834 - val_loss: 1397.1620\n",
      "Epoch 469/500\n",
      "23/23 [==============================] - 0s 5ms/step - loss: 237.5834 - val_loss: 1397.1615\n",
      "Epoch 470/500\n",
      "23/23 [==============================] - 0s 5ms/step - loss: 237.5834 - val_loss: 1397.1609\n",
      "Epoch 471/500\n",
      "23/23 [==============================] - 0s 5ms/step - loss: 237.5835 - val_loss: 1397.1604\n",
      "Epoch 472/500\n",
      "23/23 [==============================] - 0s 5ms/step - loss: 237.5835 - val_loss: 1397.1599\n",
      "Epoch 473/500\n",
      "23/23 [==============================] - 0s 5ms/step - loss: 237.5834 - val_loss: 1397.1592\n",
      "Epoch 474/500\n",
      "23/23 [==============================] - 0s 5ms/step - loss: 237.5835 - val_loss: 1397.1588\n",
      "Epoch 475/500\n",
      "23/23 [==============================] - 0s 5ms/step - loss: 237.5835 - val_loss: 1397.1584\n",
      "Epoch 476/500\n",
      "23/23 [==============================] - 0s 5ms/step - loss: 237.5835 - val_loss: 1397.1580\n",
      "Epoch 477/500\n",
      "23/23 [==============================] - 0s 5ms/step - loss: 237.5835 - val_loss: 1397.1573\n",
      "Epoch 478/500\n",
      "23/23 [==============================] - 0s 5ms/step - loss: 237.5835 - val_loss: 1397.1567\n",
      "Epoch 479/500\n",
      "23/23 [==============================] - 0s 5ms/step - loss: 237.5835 - val_loss: 1397.1564\n",
      "Epoch 480/500\n",
      "23/23 [==============================] - 0s 5ms/step - loss: 237.5835 - val_loss: 1397.1561\n",
      "Epoch 481/500\n",
      "23/23 [==============================] - 0s 5ms/step - loss: 237.5835 - val_loss: 1397.1556\n",
      "Epoch 482/500\n",
      "23/23 [==============================] - 0s 5ms/step - loss: 237.5835 - val_loss: 1397.1550\n",
      "Epoch 483/500\n",
      "23/23 [==============================] - 0s 5ms/step - loss: 237.5835 - val_loss: 1397.1538\n",
      "Epoch 484/500\n",
      "23/23 [==============================] - 0s 5ms/step - loss: 237.5835 - val_loss: 1397.1528\n",
      "Epoch 485/500\n",
      "23/23 [==============================] - 0s 5ms/step - loss: 237.5835 - val_loss: 1397.1517\n",
      "Epoch 486/500\n",
      "23/23 [==============================] - 0s 5ms/step - loss: 237.5835 - val_loss: 1397.1509\n",
      "Epoch 487/500\n",
      "23/23 [==============================] - 0s 5ms/step - loss: 237.5836 - val_loss: 1397.1498\n",
      "Epoch 488/500\n",
      "23/23 [==============================] - 0s 11ms/step - loss: 237.5836 - val_loss: 1397.1489\n",
      "Epoch 489/500\n",
      "23/23 [==============================] - 0s 6ms/step - loss: 237.5836 - val_loss: 1397.1481\n",
      "Epoch 490/500\n",
      "23/23 [==============================] - 0s 5ms/step - loss: 237.5836 - val_loss: 1397.1477\n",
      "Epoch 491/500\n",
      "23/23 [==============================] - 0s 5ms/step - loss: 237.5836 - val_loss: 1397.1470\n",
      "Epoch 492/500\n",
      "23/23 [==============================] - 0s 5ms/step - loss: 237.5836 - val_loss: 1397.1459\n",
      "Epoch 493/500\n",
      "23/23 [==============================] - 0s 5ms/step - loss: 237.5836 - val_loss: 1397.1455\n",
      "Epoch 494/500\n",
      "23/23 [==============================] - 0s 5ms/step - loss: 237.5836 - val_loss: 1397.1445\n",
      "Epoch 495/500\n",
      "23/23 [==============================] - 0s 5ms/step - loss: 237.5836 - val_loss: 1397.1407\n",
      "Epoch 496/500\n",
      "23/23 [==============================] - 0s 5ms/step - loss: 237.5276 - val_loss: 1395.6377\n",
      "Epoch 497/500\n",
      "23/23 [==============================] - 0s 5ms/step - loss: 237.7717 - val_loss: 1396.7294\n",
      "Epoch 498/500\n",
      "23/23 [==============================] - 0s 5ms/step - loss: 237.6474 - val_loss: 1396.8446\n",
      "Epoch 499/500\n",
      "23/23 [==============================] - 0s 5ms/step - loss: 237.6297 - val_loss: 1396.8862\n",
      "Epoch 500/500\n",
      "23/23 [==============================] - 0s 5ms/step - loss: 237.6225 - val_loss: 1396.9136\n"
     ]
    }
   ],
   "source": [
    "C0 = tf.Variable(89.3180, name=\"C0\", trainable=True, dtype=tf.float32)\n",
    "K0 = tf.Variable(-0.0010, name=\"K0\", trainable=True, dtype=tf.float32)\n",
    "K1 = tf.Variable(0.0001, name=\"K1\", trainable=True, dtype=tf.float32)\n",
    "a = tf.Variable(0.0000, name=\"a\", trainable=True, dtype=tf.float32)\n",
    "b = tf.Variable(-0.0204, name=\"b\", trainable=True, dtype=tf.float32)\n",
    "c = tf.Variable(2.2194, name=\"c\", trainable=True, dtype=tf.float32)\n",
    "\n",
    "splitr = 0.8\n",
    "\n",
    "\n",
    "def loss_fn(y_true, y_pred):\n",
    "    squared_difference = tf.square(y_true[:, 0] - y_pred[:, 0])\n",
    "    #squared_difference2 = tf.square(y_true[:, 2]-y_pred[:, 2])\n",
    "    #squared_difference1 = tf.square(y_true[:, 1]-y_pred[:, 1])\n",
    "    epsilon = 1\n",
    "    squared_difference3 = tf.square(\n",
    "        y_pred[:, 1] - (\n",
    "            y_pred[:, 0] * (\n",
    "                K0 - K1 * (\n",
    "                    9 * a * tf.math.log((y_pred[:, 0] + epsilon) / C0) / (K0 - K1 * c)**2 +\n",
    "                    4 * b * tf.math.log((y_pred[:, 0] + epsilon) / C0) / (K0 - K1 * c) + c\n",
    "                )\n",
    "            )\n",
    "        )\n",
    "    )\n",
    "    return tf.reduce_mean(squared_difference, axis=-1) + 0.2*tf.reduce_mean(squared_difference3, axis=-1)\n",
    "model = Sequential()\n",
    "model.add(LSTM(100, input_shape=(trainX.shape[1], trainX.shape[2])))\n",
    "model.add(Dense(60))\n",
    "model.compile(loss=loss_fn, optimizer='adam')\n",
    "history = model.fit(trainX[:int(splitr*trainX.shape[0])], trainy[:int(splitr*trainX.shape[0])], epochs=500, batch_size=64, validation_data=(trainX[int(splitr*trainX.shape[0]):trainX.shape[0]], trainy[int(splitr*trainX.shape[0]):trainX.shape[0]]), shuffle=False)"
   ]
  },
  {
   "cell_type": "code",
   "execution_count": 19,
   "metadata": {
    "colab": {
     "base_uri": "https://localhost:8080/"
    },
    "id": "yJL101rPyuoT",
    "outputId": "239ff2b1-c186-423a-d316-939dfdd7c793"
   },
   "outputs": [
    {
     "name": "stdout",
     "output_type": "stream",
     "text": [
      "1/1 [==============================] - 0s 412ms/step\n"
     ]
    }
   ],
   "source": [
    "forecast_without_mc = forecastX\n",
    "yhat_without_mc = model.predict(forecast_without_mc) # Step Ahead Prediction\n",
    "forecast_without_mc = forecast_without_mc.reshape((forecast_without_mc.shape[0], forecast_without_mc.shape[2])) # Historical Input"
   ]
  },
  {
   "cell_type": "code",
   "execution_count": 20,
   "metadata": {
    "colab": {
     "base_uri": "https://localhost:8080/"
    },
    "id": "g9dQELcJ8wbp",
    "outputId": "4dc7671b-b1a8-48d5-8744-a86f98446109"
   },
   "outputs": [
    {
     "data": {
      "text/plain": [
       "(1, 1, 251)"
      ]
     },
     "execution_count": 20,
     "metadata": {},
     "output_type": "execute_result"
    }
   ],
   "source": [
    "forecastX.shape"
   ]
  },
  {
   "cell_type": "code",
   "execution_count": 21,
   "metadata": {
    "colab": {
     "base_uri": "https://localhost:8080/"
    },
    "id": "IS2kyIKG1Kbr",
    "outputId": "f31b3485-8e26-452f-9298-ea8bf7e80ad1"
   },
   "outputs": [
    {
     "data": {
      "text/plain": [
       "(1, 251)"
      ]
     },
     "execution_count": 21,
     "metadata": {},
     "output_type": "execute_result"
    }
   ],
   "source": [
    "forecast_without_mc.shape"
   ]
  },
  {
   "cell_type": "code",
   "execution_count": 22,
   "metadata": {
    "id": "0u6VIzaDyuoT"
   },
   "outputs": [],
   "source": [
    "inv_yhat_without_mc = np.concatenate((forecast_without_mc, yhat_without_mc), axis=1) # Concatenation of predicted values with Historical Data\n",
    "#inv_yhat_without_mc = scaler.inverse_transform(inv_yhat_without_mc) # Transform labels back to original encoding"
   ]
  },
  {
   "cell_type": "code",
   "execution_count": 23,
   "metadata": {
    "colab": {
     "base_uri": "https://localhost:8080/"
    },
    "id": "EUEcw0LX07oU",
    "outputId": "cfc32397-9c37-4b43-d087-584bb31c3dcc"
   },
   "outputs": [
    {
     "data": {
      "text/plain": [
       "(1, 311)"
      ]
     },
     "execution_count": 23,
     "metadata": {},
     "output_type": "execute_result"
    }
   ],
   "source": [
    "inv_yhat_without_mc.shape"
   ]
  },
  {
   "cell_type": "code",
   "execution_count": 24,
   "metadata": {
    "id": "31OWVbSh_305"
   },
   "outputs": [],
   "source": [
    "fforecast = inv_yhat_without_mc[:,-300:]"
   ]
  },
  {
   "cell_type": "code",
   "execution_count": 25,
   "metadata": {},
   "outputs": [
    {
     "data": {
      "text/plain": [
       "(1, 300)"
      ]
     },
     "execution_count": 25,
     "metadata": {},
     "output_type": "execute_result"
    }
   ],
   "source": [
    "fforecast.shape"
   ]
  },
  {
   "cell_type": "code",
   "execution_count": 26,
   "metadata": {
    "id": "BlpGH2FOAiRF"
   },
   "outputs": [],
   "source": [
    "final_forecast = fforecast[:,0:300:3]"
   ]
  },
  {
   "cell_type": "code",
   "execution_count": 27,
   "metadata": {},
   "outputs": [
    {
     "data": {
      "text/plain": [
       "(1, 300)"
      ]
     },
     "execution_count": 27,
     "metadata": {},
     "output_type": "execute_result"
    }
   ],
   "source": [
    "fforecast.shape"
   ]
  },
  {
   "cell_type": "code",
   "execution_count": 28,
   "metadata": {
    "id": "CXkgkj_LBk_t"
   },
   "outputs": [],
   "source": [
    "# code to replace all negative value with 0\n",
    "final_forecast[final_forecast<0] = 0"
   ]
  },
  {
   "cell_type": "code",
   "execution_count": 29,
   "metadata": {},
   "outputs": [
    {
     "data": {
      "text/plain": [
       "array([[5.78221989e+01, 5.76961485e+01, 5.75700980e+01, 5.74440476e+01,\n",
       "        6.55019760e+01, 0.00000000e+00, 0.00000000e+00, 0.00000000e+00,\n",
       "        0.00000000e+00, 0.00000000e+00, 8.44941260e-01, 0.00000000e+00,\n",
       "        1.19966790e-01, 5.80509571e+01, 5.79249066e+01, 5.77988562e+01,\n",
       "        2.20957430e-01, 1.00525665e+00, 5.88176471e+01, 5.83134454e+01,\n",
       "        5.81023109e+01, 5.79762605e+01, 5.78502101e+01, 5.77241597e+01,\n",
       "        5.75978092e+01, 5.74720588e+01, 5.73436084e+01, 0.00000000e+00,\n",
       "        4.05044300e-02, 5.79015640e+01, 5.77755135e+01, 5.76494631e+01,\n",
       "        5.75234127e+01, 5.73973623e+01, 6.27289449e+01, 6.08996966e+01,\n",
       "        5.92471522e+01, 6.19025170e-01, 7.93619275e-01, 0.00000000e+00,\n",
       "        2.83631295e-01, 0.00000000e+00, 2.03480452e-01, 1.01974100e-01,\n",
       "        5.16042829e-01, 0.00000000e+00, 2.68835902e-01, 5.79669234e+01,\n",
       "        5.78408730e+01, 7.16493960e-01, 6.86268800e-02, 5.89857143e+01,\n",
       "        5.84815126e+01, 5.81843277e+01, 5.80182773e+01, 5.78922269e+01,\n",
       "        5.77661765e+01, 5.76401260e+01, 5.75140756e+01, 5.73880252e+01,\n",
       "        0.00000000e+00, 0.00000000e+00, 5.79435808e+01, 5.78175303e+01,\n",
       "        5.76914799e+01, 5.75654295e+01, 5.74393791e+01, 6.29306256e+01,\n",
       "        6.15299487e+01, 5.97513539e+01, 0.00000000e+00, 1.97836610e-02,\n",
       "        4.12894547e-01, 5.67768288e+01, 8.75653630e-02, 0.00000000e+00,\n",
       "        0.00000000e+00, 5.97576737e-01, 6.01354837e-01, 1.08075157e-01,\n",
       "        5.91800957e+01, 0.00000000e+00, 3.20917815e-01, 0.00000000e+00,\n",
       "        9.00549233e-01, 3.64662498e-01, 0.00000000e+00, 0.00000000e+00,\n",
       "        0.00000000e+00, 0.00000000e+00, 0.00000000e+00, 0.00000000e+00,\n",
       "        0.00000000e+00, 2.04139858e-01, 0.00000000e+00, 0.00000000e+00,\n",
       "        7.66215384e-01, 0.00000000e+00, 1.57711029e-01, 2.98421085e-01]])"
      ]
     },
     "execution_count": 29,
     "metadata": {},
     "output_type": "execute_result"
    }
   ],
   "source": [
    "final_forecast"
   ]
  },
  {
   "cell_type": "code",
   "execution_count": 30,
   "metadata": {},
   "outputs": [
    {
     "data": {
      "text/plain": [
       "(1, 100)"
      ]
     },
     "execution_count": 30,
     "metadata": {},
     "output_type": "execute_result"
    }
   ],
   "source": [
    "final_forecast.shape"
   ]
  },
  {
   "cell_type": "code",
   "execution_count": 31,
   "metadata": {},
   "outputs": [
    {
     "data": {
      "text/plain": [
       "(100,)"
      ]
     },
     "execution_count": 31,
     "metadata": {},
     "output_type": "execute_result"
    }
   ],
   "source": [
    "test.shape"
   ]
  },
  {
   "cell_type": "code",
   "execution_count": 32,
   "metadata": {},
   "outputs": [],
   "source": [
    "training_set = np.array(training_set)\n",
    "test = np.array(test)\n",
    "final_forecast = np.array(final_forecast.squeeze(0))"
   ]
  },
  {
   "cell_type": "code",
   "execution_count": 33,
   "metadata": {},
   "outputs": [
    {
     "data": {
      "text/plain": [
       "array([47.64968231, 47.63984423, 47.63000615, 47.62016807, 47.61032999,\n",
       "       47.6004919 , 47.59065382, 47.58081574, 47.57097766, 47.56113958,\n",
       "       47.5513015 , 47.54146341, 47.53162533, 47.52178725, 47.51194917,\n",
       "       47.50211109, 47.49227301, 47.48243493, 47.47259684, 47.46275876,\n",
       "       47.45292068, 47.4430826 , 47.43324452, 47.42340644, 47.41356835,\n",
       "       47.40373027, 47.39389219, 47.38405411, 47.37421603, 47.36437795,\n",
       "       47.35453986, 47.34470178, 47.3348637 , 47.32502562, 47.31518754,\n",
       "       47.30534946, 47.29551138, 47.28567329, 47.27583521, 47.26599713,\n",
       "       47.25615905, 47.24632097, 47.23648289, 47.2266448 , 47.21680672,\n",
       "       47.20696864, 47.19713056, 47.18729248, 47.1774544 , 47.16761631,\n",
       "       47.15777823, 47.14794015, 47.13810207, 47.12826399, 47.11842591,\n",
       "       47.10858783, 47.09874974, 47.08891166, 47.07907358, 47.0692355 ,\n",
       "       47.05939742, 47.04955934, 47.03972125, 47.02988317, 47.02004509,\n",
       "       47.01020701, 47.00036893, 46.99053085, 46.98069276, 46.97085468,\n",
       "       46.9610166 , 46.95117852, 46.94134044, 46.93150236, 46.92166428,\n",
       "       46.91182619, 46.90198811, 46.89215003, 46.88231195, 46.87247387,\n",
       "       46.86263579, 46.8527977 , 46.84295962, 46.83312154, 46.82328346,\n",
       "       46.81344538, 46.8036073 , 46.79376922, 46.78393113, 46.77409305,\n",
       "       46.76425497, 46.75441689, 46.74457881, 46.73474073, 46.72490264,\n",
       "       46.71506456, 46.70522648, 46.6953884 , 46.68555032, 46.67571224])"
      ]
     },
     "execution_count": 33,
     "metadata": {},
     "output_type": "execute_result"
    }
   ],
   "source": [
    "test"
   ]
  },
  {
   "cell_type": "code",
   "execution_count": 34,
   "metadata": {},
   "outputs": [
    {
     "data": {
      "text/plain": [
       "(100,)"
      ]
     },
     "execution_count": 34,
     "metadata": {},
     "output_type": "execute_result"
    }
   ],
   "source": [
    "test.shape"
   ]
  },
  {
   "cell_type": "code",
   "execution_count": 35,
   "metadata": {},
   "outputs": [
    {
     "data": {
      "text/plain": [
       "(100,)"
      ]
     },
     "execution_count": 35,
     "metadata": {},
     "output_type": "execute_result"
    }
   ],
   "source": [
    "final_forecast.shape"
   ]
  },
  {
   "cell_type": "code",
   "execution_count": 36,
   "metadata": {},
   "outputs": [
    {
     "data": {
      "text/plain": [
       "(100,)"
      ]
     },
     "execution_count": 36,
     "metadata": {},
     "output_type": "execute_result"
    }
   ],
   "source": [
    "test.shape"
   ]
  },
  {
   "cell_type": "code",
   "execution_count": 37,
   "metadata": {},
   "outputs": [
    {
     "name": "stdout",
     "output_type": "stream",
     "text": [
      "35.289299749052724\n",
      "30.452545920550175\n"
     ]
    }
   ],
   "source": [
    "import math\n",
    "MSE = np.square(np.subtract(np.array(test),np.array(final_forecast))).mean()   \n",
    "rsme = math.sqrt(MSE)\n",
    "print(rsme)  \n",
    "MAE = np.abs(np.subtract(np.array(test),np.array(final_forecast))).mean()   \n",
    "mae = MAE\n",
    "print(mae)"
   ]
  }
 ],
 "metadata": {
  "colab": {
   "provenance": []
  },
  "kernelspec": {
   "display_name": "Python 3",
   "language": "python",
   "name": "python3"
  },
  "language_info": {
   "codemirror_mode": {
    "name": "ipython",
    "version": 3
   },
   "file_extension": ".py",
   "mimetype": "text/x-python",
   "name": "python",
   "nbconvert_exporter": "python",
   "pygments_lexer": "ipython3",
   "version": "3.9.13"
  }
 },
 "nbformat": 4,
 "nbformat_minor": 0
}
