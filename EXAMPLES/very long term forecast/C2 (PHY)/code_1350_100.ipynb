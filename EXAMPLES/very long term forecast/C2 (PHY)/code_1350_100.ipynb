{
 "cells": [
  {
   "cell_type": "markdown",
   "metadata": {
    "id": "pCGKeZ2gyuoQ"
   },
   "source": [
    "_Importing Required Libraries_"
   ]
  },
  {
   "cell_type": "code",
   "execution_count": 1,
   "metadata": {
    "colab": {
     "base_uri": "https://localhost:8080/"
    },
    "id": "A-6LN-zXiLcM",
    "outputId": "4de610a4-f8b8-4f49-c6c0-89de299ccedc"
   },
   "outputs": [
    {
     "name": "stdout",
     "output_type": "stream",
     "text": [
      "Requirement already satisfied: hampel in c:\\users\\anurag dutta\\appdata\\local\\packages\\pythonsoftwarefoundation.python.3.9_qbz5n2kfra8p0\\localcache\\local-packages\\python39\\site-packages (0.0.5)\n",
      "Requirement already satisfied: numpy in c:\\users\\anurag dutta\\appdata\\local\\packages\\pythonsoftwarefoundation.python.3.9_qbz5n2kfra8p0\\localcache\\local-packages\\python39\\site-packages (from hampel) (1.26.4)\n",
      "Requirement already satisfied: pandas in c:\\users\\anurag dutta\\appdata\\local\\packages\\pythonsoftwarefoundation.python.3.9_qbz5n2kfra8p0\\localcache\\local-packages\\python39\\site-packages (from hampel) (1.5.2)\n",
      "Requirement already satisfied: python-dateutil>=2.8.1 in c:\\users\\anurag dutta\\appdata\\local\\packages\\pythonsoftwarefoundation.python.3.9_qbz5n2kfra8p0\\localcache\\local-packages\\python39\\site-packages (from pandas->hampel) (2.8.2)\n",
      "Requirement already satisfied: pytz>=2020.1 in c:\\users\\anurag dutta\\appdata\\local\\packages\\pythonsoftwarefoundation.python.3.9_qbz5n2kfra8p0\\localcache\\local-packages\\python39\\site-packages (from pandas->hampel) (2023.3.post1)\n",
      "Requirement already satisfied: six>=1.5 in c:\\users\\anurag dutta\\appdata\\local\\packages\\pythonsoftwarefoundation.python.3.9_qbz5n2kfra8p0\\localcache\\local-packages\\python39\\site-packages (from python-dateutil>=2.8.1->pandas->hampel) (1.16.0)\n",
      "Note: you may need to restart the kernel to use updated packages.\n"
     ]
    },
    {
     "name": "stderr",
     "output_type": "stream",
     "text": [
      "\n",
      "[notice] A new release of pip is available: 24.2 -> 24.3.1\n",
      "[notice] To update, run: C:\\Users\\Anurag Dutta\\AppData\\Local\\Microsoft\\WindowsApps\\PythonSoftwareFoundation.Python.3.9_qbz5n2kfra8p0\\python.exe -m pip install --upgrade pip\n"
     ]
    }
   ],
   "source": [
    "pip install hampel"
   ]
  },
  {
   "cell_type": "code",
   "execution_count": 2,
   "metadata": {
    "id": "By_d9uXpaFvZ"
   },
   "outputs": [],
   "source": [
    "from keras.models import Sequential\n",
    "from keras.layers import Dense\n",
    "from keras.layers import LSTM\n",
    "from keras.layers import Dropout\n",
    "import keras\n",
    "import tensorflow as tf\n",
    "from hampel import hampel\n",
    "import numpy as np\n",
    "import matplotlib.pyplot as plt\n",
    "import pandas as pd\n",
    "from sklearn.preprocessing import MinMaxScaler\n",
    "from sklearn.metrics import mean_squared_error, mean_absolute_error\n",
    "from math import sqrt\n",
    "from matplotlib import pyplot\n",
    "from numpy import array"
   ]
  },
  {
   "cell_type": "markdown",
   "metadata": {
    "id": "JyOjBMFayuoR"
   },
   "source": [
    "## Pretraining"
   ]
  },
  {
   "cell_type": "markdown",
   "metadata": {
    "id": "-5QqIY_GyuoR"
   },
   "source": [
    "The `capa_intermittency.dat` feeds the model with the dynamics of the Capacitor"
   ]
  },
  {
   "cell_type": "code",
   "execution_count": 3,
   "metadata": {
    "id": "9dV4a8yfyuoR"
   },
   "outputs": [],
   "source": [
    "data = np.genfromtxt('capa_intermittency.dat')\n",
    "training_set = pd.DataFrame(data).reset_index(drop=True)\n",
    "training_set = training_set.iloc[:,0]"
   ]
  },
  {
   "cell_type": "markdown",
   "metadata": {
    "id": "i7easoxByuoR"
   },
   "source": [
    "## Computing the Gradient"
   ]
  },
  {
   "cell_type": "markdown",
   "metadata": {
    "id": "5SnyolJTyuoR"
   },
   "source": [
    "_Calculating the value of_ $\\frac{dx}{dt}$"
   ]
  },
  {
   "cell_type": "code",
   "execution_count": 4,
   "metadata": {
    "colab": {
     "base_uri": "https://localhost:8080/"
    },
    "id": "wmIbVfIvyuoR",
    "outputId": "aa4e3136-c854-465d-d2e9-81cfd546e440"
   },
   "outputs": [
    {
     "name": "stdout",
     "output_type": "stream",
     "text": [
      "1.0\n",
      "1        0.000298\n",
      "2        0.000298\n",
      "3        0.000297\n",
      "4        0.000297\n",
      "5        0.000297\n",
      "           ...   \n",
      "9996     0.000018\n",
      "9997     0.000018\n",
      "9998     0.000018\n",
      "9999     0.000018\n",
      "10000    0.000018\n",
      "Name: 0, Length: 10000, dtype: float64\n"
     ]
    }
   ],
   "source": [
    "t_diff = 1\n",
    "print(training_set.max())\n",
    "gradient_t = (training_set.diff()/t_diff).iloc[1:] # dx/dt\n",
    "print(gradient_t)"
   ]
  },
  {
   "cell_type": "markdown",
   "metadata": {
    "id": "_2eVeeoxyuoS"
   },
   "source": [
    "## Loading Datasets"
   ]
  },
  {
   "cell_type": "code",
   "execution_count": 5,
   "metadata": {
    "id": "0J-NKyIEyuoS"
   },
   "outputs": [
    {
     "data": {
      "text/plain": [
       "0       90.500000\n",
       "1       90.275910\n",
       "2       90.051821\n",
       "3       89.827731\n",
       "4       89.603641\n",
       "          ...    \n",
       "1445    68.979365\n",
       "1446    68.964426\n",
       "1447    68.949486\n",
       "1448    68.934547\n",
       "1449    68.919608\n",
       "Name: C2, Length: 1450, dtype: float64"
      ]
     },
     "execution_count": 5,
     "metadata": {},
     "output_type": "execute_result"
    }
   ],
   "source": [
    "data = pd.read_csv(\"c2_interpolated_1350_100.csv\")\n",
    "training_set = data.iloc[:, 1]\n",
    "training_set"
   ]
  },
  {
   "cell_type": "code",
   "execution_count": 6,
   "metadata": {
    "colab": {
     "base_uri": "https://localhost:8080/"
    },
    "id": "-CbNUhJ74UqF",
    "outputId": "20f562d8-8247-49cc-b9c3-00eca5e13e2d"
   },
   "outputs": [
    {
     "data": {
      "text/plain": [
       "0       90.500000\n",
       "1       90.275910\n",
       "2       90.051821\n",
       "3       89.827731\n",
       "4       89.603641\n",
       "          ...    \n",
       "1345     0.000000\n",
       "1346     0.000000\n",
       "1347     0.000000\n",
       "1348     0.000000\n",
       "1349     0.099597\n",
       "Name: C2, Length: 1350, dtype: float64"
      ]
     },
     "execution_count": 6,
     "metadata": {},
     "output_type": "execute_result"
    }
   ],
   "source": [
    "test = training_set.tail(100)\n",
    "test\n",
    "training_set = training_set.head(1350)\n",
    "training_set"
   ]
  },
  {
   "cell_type": "code",
   "execution_count": 7,
   "metadata": {
    "colab": {
     "base_uri": "https://localhost:8080/"
    },
    "id": "X0TwTcq0yuoS",
    "outputId": "37252ed8-d88e-4044-fa7a-922411990b5b"
   },
   "outputs": [
    {
     "name": "stdout",
     "output_type": "stream",
     "text": [
      "0       0.000298\n",
      "1       0.000298\n",
      "2       0.000297\n",
      "3       0.000297\n",
      "4       0.000297\n",
      "          ...   \n",
      "9995    0.000018\n",
      "9996    0.000018\n",
      "9997    0.000018\n",
      "9998    0.000018\n",
      "9999    0.000018\n",
      "Name: 0, Length: 10000, dtype: float64\n"
     ]
    }
   ],
   "source": [
    "training_set = training_set.reset_index(drop=True)\n",
    "gradient_t = gradient_t.reset_index(drop=True)\n",
    "print(gradient_t)"
   ]
  },
  {
   "cell_type": "code",
   "execution_count": 8,
   "metadata": {
    "id": "O2biznZQyuoS"
   },
   "outputs": [],
   "source": [
    "df = pd.concat((training_set, gradient_t), axis=1)\n",
    "df.columns = ['y_t', 'grad_t']"
   ]
  },
  {
   "cell_type": "code",
   "execution_count": 9,
   "metadata": {
    "colab": {
     "base_uri": "https://localhost:8080/",
     "height": 423
    },
    "id": "sk_a5v3tyuoS",
    "outputId": "17563625-e550-45ae-faab-fafa353e44da"
   },
   "outputs": [
    {
     "data": {
      "text/html": [
       "<div>\n",
       "<style scoped>\n",
       "    .dataframe tbody tr th:only-of-type {\n",
       "        vertical-align: middle;\n",
       "    }\n",
       "\n",
       "    .dataframe tbody tr th {\n",
       "        vertical-align: top;\n",
       "    }\n",
       "\n",
       "    .dataframe thead th {\n",
       "        text-align: right;\n",
       "    }\n",
       "</style>\n",
       "<table border=\"1\" class=\"dataframe\">\n",
       "  <thead>\n",
       "    <tr style=\"text-align: right;\">\n",
       "      <th></th>\n",
       "      <th>y_t</th>\n",
       "      <th>grad_t</th>\n",
       "    </tr>\n",
       "  </thead>\n",
       "  <tbody>\n",
       "    <tr>\n",
       "      <th>0</th>\n",
       "      <td>90.500000</td>\n",
       "      <td>0.000298</td>\n",
       "    </tr>\n",
       "    <tr>\n",
       "      <th>1</th>\n",
       "      <td>90.275910</td>\n",
       "      <td>0.000298</td>\n",
       "    </tr>\n",
       "    <tr>\n",
       "      <th>2</th>\n",
       "      <td>90.051821</td>\n",
       "      <td>0.000297</td>\n",
       "    </tr>\n",
       "    <tr>\n",
       "      <th>3</th>\n",
       "      <td>89.827731</td>\n",
       "      <td>0.000297</td>\n",
       "    </tr>\n",
       "    <tr>\n",
       "      <th>4</th>\n",
       "      <td>89.603641</td>\n",
       "      <td>0.000297</td>\n",
       "    </tr>\n",
       "    <tr>\n",
       "      <th>...</th>\n",
       "      <td>...</td>\n",
       "      <td>...</td>\n",
       "    </tr>\n",
       "    <tr>\n",
       "      <th>9995</th>\n",
       "      <td>NaN</td>\n",
       "      <td>0.000018</td>\n",
       "    </tr>\n",
       "    <tr>\n",
       "      <th>9996</th>\n",
       "      <td>NaN</td>\n",
       "      <td>0.000018</td>\n",
       "    </tr>\n",
       "    <tr>\n",
       "      <th>9997</th>\n",
       "      <td>NaN</td>\n",
       "      <td>0.000018</td>\n",
       "    </tr>\n",
       "    <tr>\n",
       "      <th>9998</th>\n",
       "      <td>NaN</td>\n",
       "      <td>0.000018</td>\n",
       "    </tr>\n",
       "    <tr>\n",
       "      <th>9999</th>\n",
       "      <td>NaN</td>\n",
       "      <td>0.000018</td>\n",
       "    </tr>\n",
       "  </tbody>\n",
       "</table>\n",
       "<p>10000 rows × 2 columns</p>\n",
       "</div>"
      ],
      "text/plain": [
       "            y_t    grad_t\n",
       "0     90.500000  0.000298\n",
       "1     90.275910  0.000298\n",
       "2     90.051821  0.000297\n",
       "3     89.827731  0.000297\n",
       "4     89.603641  0.000297\n",
       "...         ...       ...\n",
       "9995        NaN  0.000018\n",
       "9996        NaN  0.000018\n",
       "9997        NaN  0.000018\n",
       "9998        NaN  0.000018\n",
       "9999        NaN  0.000018\n",
       "\n",
       "[10000 rows x 2 columns]"
      ]
     },
     "execution_count": 9,
     "metadata": {},
     "output_type": "execute_result"
    }
   ],
   "source": [
    "df"
   ]
  },
  {
   "cell_type": "markdown",
   "metadata": {
    "id": "-5esyHu5aFvg"
   },
   "source": [
    "## Plot of the External Forcing from Chaotic Differential Equation"
   ]
  },
  {
   "cell_type": "code",
   "execution_count": 10,
   "metadata": {
    "colab": {
     "base_uri": "https://localhost:8080/",
     "height": 447
    },
    "id": "hGnE43tOh-4p",
    "outputId": "fc396503-b624-4fa5-dfbe-f460207405c6"
   },
   "outputs": [
    {
     "data": {
      "text/plain": [
       "<Axes: >"
      ]
     },
     "execution_count": 10,
     "metadata": {},
     "output_type": "execute_result"
    },
    {
     "data": {
      "image/png": "[encoded data removed]",
      "text/plain": [
       "<Figure size 432x288 with 1 Axes>"
      ]
     },
     "metadata": {
      "needs_background": "light"
     },
     "output_type": "display_data"
    }
   ],
   "source": [
    "df.iloc[:, 0].plot()"
   ]
  },
  {
   "cell_type": "code",
   "execution_count": 11,
   "metadata": {
    "colab": {
     "base_uri": "https://localhost:8080/",
     "height": 447
    },
    "id": "ym4xWUUxaFvg",
    "outputId": "ae6a3495-8ce9-437e-ba81-3ed31deedeae"
   },
   "outputs": [
    {
     "name": "stderr",
     "output_type": "stream",
     "text": [
      "C:\\Users\\Anurag Dutta\\AppData\\Local\\Packages\\PythonSoftwareFoundation.Python.3.9_qbz5n2kfra8p0\\LocalCache\\local-packages\\Python39\\site-packages\\pandas\\core\\arraylike.py:402: RuntimeWarning: divide by zero encountered in log\n",
      "  result = getattr(ufunc, method)(*inputs, **kwargs)\n"
     ]
    },
    {
     "data": {
      "text/plain": [
       "<Axes: >"
      ]
     },
     "execution_count": 11,
     "metadata": {},
     "output_type": "execute_result"
    },
    {
     "data": {
      "image/png": "[encoded data removed]",
      "text/plain": [
       "<Figure size 432x288 with 1 Axes>"
      ]
     },
     "metadata": {
      "needs_background": "light"
     },
     "output_type": "display_data"
    }
   ],
   "source": [
    "import numpy as np\n",
    "c0 = 88.1552  # Value for C0\n",
    "K0 = -0.0026  # Value for K0\n",
    "K1 = -0.0004  # Value for K1\n",
    "a = 0.0000    # Value for a\n",
    "b = 0.0102    # Value for b\n",
    "c = 2.8734    # Value for c\n",
    "\n",
    "L = np.minimum(c0, (df.iloc[:, 1] - (df.iloc[:, 0] * (K0 - K1 * (9 * a * np.log(df.iloc[:, 0] / c0) / (K0 - K1 * c)**2 + 4 * b * np.log(df.iloc[:, 0] / c0) / (K0 - K1 * c) + c)))))\n",
    "L.plot()"
   ]
  },
  {
   "cell_type": "markdown",
   "metadata": {
    "id": "9VyEywnwaFvh"
   },
   "source": [
    "## Preprocessing the data into supervised learning"
   ]
  },
  {
   "cell_type": "code",
   "execution_count": 12,
   "metadata": {
    "id": "6V9dXqzdaFvh"
   },
   "outputs": [],
   "source": [
    "# split a sequence into samples\n",
    "def Supervised(data, n_in=1, n_out=1, dropnan=True):\n",
    "    n_vars = 1 if type(data) is list else data.shape[1]\n",
    "    df = pd.DataFrame(data)\n",
    "    cols, names = list(), list()\n",
    "    # input sequence (t-n_in, ... t-1)\n",
    "    for i in range(n_in, 0, -1):\n",
    "        cols.append(df.shift(i))\n",
    "        names += [('var%d(t-%d)' % (j+1, i)) for j in range(n_vars)]\n",
    "    # forecast sequence (t, t+1, ... t+n_out)\n",
    "    for i in range(0, n_out):\n",
    "      cols.append(df.shift(-i))\n",
    "      if i == 0:\n",
    "        names += [('var%d(t)' % (j+1)) for j in range(n_vars)]\n",
    "      else:\n",
    "        names += [('var%d(t+%d)' % (j+1, i)) for j in range(n_vars)]\n",
    "    # put it all together\n",
    "    agg = pd.concat(cols, axis=1)\n",
    "    agg.columns = names\n",
    "    # drop rows with NaN values\n",
    "    if dropnan:\n",
    "       agg.dropna(inplace=True)\n",
    "    return agg"
   ]
  },
  {
   "cell_type": "code",
   "execution_count": 13,
   "metadata": {
    "colab": {
     "base_uri": "https://localhost:8080/"
    },
    "id": "CrzSrT1HnyfH",
    "outputId": "7e75f928-3e47-499d-eac1-51908015ef78"
   },
   "outputs": [
    {
     "name": "stdout",
     "output_type": "stream",
     "text": [
      "     var1(t-350)  var1(t-349)  var1(t-348)  var1(t-347)  var1(t-346)  \\\n",
      "350    90.500000    90.275910    90.051821    89.827731    89.603641   \n",
      "351    90.275910    90.051821    89.827731    89.603641    89.379552   \n",
      "352    90.051821    89.827731    89.603641    89.379552    89.155462   \n",
      "353    89.827731    89.603641    89.379552    89.155462    88.931373   \n",
      "354    89.603641    89.379552    89.155462    88.931373    88.707283   \n",
      "\n",
      "     var1(t-345)  var1(t-344)  var1(t-343)  var1(t-342)  var1(t-341)  ...  \\\n",
      "350    89.379552    89.155462    88.931373    88.707283    88.494958  ...   \n",
      "351    89.155462    88.931373    88.707283    88.494958    88.427731  ...   \n",
      "352    88.931373    88.707283    88.494958    88.427731    88.360504  ...   \n",
      "353    88.707283    88.494958    88.427731    88.360504    88.293277  ...   \n",
      "354    88.494958    88.427731    88.360504    88.293277    88.226050  ...   \n",
      "\n",
      "     var1(t+95)  var2(t+95)  var1(t+96)  var2(t+96)  var1(t+97)  var2(t+97)  \\\n",
      "350   79.071008    0.000263   79.054202    0.000263   79.037395    0.000263   \n",
      "351   79.054202    0.000263   79.037395    0.000263   79.020588    0.000262   \n",
      "352   79.037395    0.000263   79.020588    0.000262   79.003782    0.000262   \n",
      "353   79.020588    0.000262   79.003782    0.000262   78.986975    0.000262   \n",
      "354   79.003782    0.000262   78.986975    0.000262   78.970168    0.000262   \n",
      "\n",
      "     var1(t+98)  var2(t+98)  var1(t+99)  var2(t+99)  \n",
      "350   79.020588    0.000262   79.003782    0.000262  \n",
      "351   79.003782    0.000262   78.986975    0.000262  \n",
      "352   78.986975    0.000262   78.970168    0.000262  \n",
      "353   78.970168    0.000262   78.953361    0.000262  \n",
      "354   78.953361    0.000262   78.936555    0.000262  \n",
      "\n",
      "[5 rows x 551 columns]\n",
      "Index(['var1(t-350)', 'var1(t-349)', 'var1(t-348)', 'var1(t-347)',\n",
      "       'var1(t-346)', 'var1(t-345)', 'var1(t-344)', 'var1(t-343)',\n",
      "       'var1(t-342)', 'var1(t-341)',\n",
      "       ...\n",
      "       'var1(t+95)', 'var2(t+95)', 'var1(t+96)', 'var2(t+96)', 'var1(t+97)',\n",
      "       'var2(t+97)', 'var1(t+98)', 'var2(t+98)', 'var1(t+99)', 'var2(t+99)'],\n",
      "      dtype='object', length=551)\n"
     ]
    }
   ],
   "source": [
    "data = Supervised(df.values, n_in = 350, n_out = 100)\n",
    "\n",
    "\n",
    "cols_to_drop = []\n",
    "for i in range(2, 351):\n",
    "    cols_to_drop.extend([f'var2(t-{i})'])\n",
    "\n",
    "data.drop(cols_to_drop, axis=1, inplace=True)\n",
    "\n",
    "print(data.head())\n",
    "print(data.columns)"
   ]
  },
  {
   "cell_type": "code",
   "execution_count": 14,
   "metadata": {
    "id": "AfPf60oy6Pe4"
   },
   "outputs": [],
   "source": [
    "train = np.array(data[0:len(data)-1])\n",
    "forecast = np.array(data.tail(1))"
   ]
  },
  {
   "cell_type": "code",
   "execution_count": 15,
   "metadata": {
    "id": "WSAafzI37KiT"
   },
   "outputs": [],
   "source": [
    "trainy = train[:,-300:]\n",
    "trainX = train[:,:-300]"
   ]
  },
  {
   "cell_type": "code",
   "execution_count": 16,
   "metadata": {
    "id": "2SrOqVJA7f50"
   },
   "outputs": [],
   "source": [
    "forecasty = forecast[:,-300:]\n",
    "forecastX = forecast[:,:-300]"
   ]
  },
  {
   "cell_type": "code",
   "execution_count": 17,
   "metadata": {
    "colab": {
     "base_uri": "https://localhost:8080/"
    },
    "id": "Qno_k8Nw7saY",
    "outputId": "c4a88db5-d8c6-489f-cdb2-06b24e293cff"
   },
   "outputs": [
    {
     "name": "stdout",
     "output_type": "stream",
     "text": [
      "(900, 1, 251) (900, 300) (1, 1, 251)\n"
     ]
    }
   ],
   "source": [
    "trainX = trainX.reshape((trainX.shape[0], 1, trainX.shape[1]))\n",
    "forecastX = forecastX.reshape((forecastX.shape[0], 1, forecastX.shape[1]))\n",
    "print(trainX.shape, trainy.shape, forecastX.shape)"
   ]
  },
  {
   "cell_type": "code",
   "execution_count": 18,
   "metadata": {
    "colab": {
     "base_uri": "https://localhost:8080/"
    },
    "id": "b1Jp2DvNuNFx",
    "outputId": "d0e5b3c4-64f1-438c-eade-8dfeaac8e285"
   },
   "outputs": [
    {
     "name": "stdout",
     "output_type": "stream",
     "text": [
      "Epoch 1/500\n",
      "12/12 [==============================] - 2s 45ms/step - loss: 5912.6216 - val_loss: 5047.2544\n",
      "Epoch 2/500\n",
      "12/12 [==============================] - 0s 6ms/step - loss: 5876.7598 - val_loss: 5022.3105\n",
      "Epoch 3/500\n",
      "12/12 [==============================] - 0s 6ms/step - loss: 5849.8262 - val_loss: 4997.3833\n",
      "Epoch 4/500\n",
      "12/12 [==============================] - 0s 4ms/step - loss: 5822.9395 - val_loss: 4972.5283\n",
      "Epoch 5/500\n",
      "12/12 [==============================] - 0s 4ms/step - loss: 5796.1348 - val_loss: 4947.7617\n",
      "Epoch 6/500\n",
      "12/12 [==============================] - 0s 6ms/step - loss: 5769.4214 - val_loss: 4923.0835\n",
      "Epoch 7/500\n",
      "12/12 [==============================] - 0s 4ms/step - loss: 5742.8013 - val_loss: 4898.4971\n",
      "Epoch 8/500\n",
      "12/12 [==============================] - 0s 4ms/step - loss: 5716.2729 - val_loss: 4874.0010\n",
      "Epoch 9/500\n",
      "12/12 [==============================] - 0s 6ms/step - loss: 5689.8374 - val_loss: 4849.5938\n",
      "Epoch 10/500\n",
      "12/12 [==============================] - 0s 4ms/step - loss: 5663.4941 - val_loss: 4825.2759\n",
      "Epoch 11/500\n",
      "12/12 [==============================] - 0s 6ms/step - loss: 5637.2422 - val_loss: 4801.0474\n",
      "Epoch 12/500\n",
      "12/12 [==============================] - 0s 6ms/step - loss: 5611.0811 - val_loss: 4776.9082\n",
      "Epoch 13/500\n",
      "12/12 [==============================] - 0s 4ms/step - loss: 5585.0103 - val_loss: 4752.8574\n",
      "Epoch 14/500\n",
      "12/12 [==============================] - 0s 4ms/step - loss: 5559.0308 - val_loss: 4728.8931\n",
      "Epoch 15/500\n",
      "12/12 [==============================] - 0s 4ms/step - loss: 5533.1411 - val_loss: 4705.0176\n",
      "Epoch 16/500\n",
      "12/12 [==============================] - 0s 6ms/step - loss: 5507.3408 - val_loss: 4681.2290\n",
      "Epoch 17/500\n",
      "12/12 [==============================] - 0s 6ms/step - loss: 5481.6309 - val_loss: 4657.5278\n",
      "Epoch 18/500\n",
      "12/12 [==============================] - 0s 4ms/step - loss: 5456.0088 - val_loss: 4633.9126\n",
      "Epoch 19/500\n",
      "12/12 [==============================] - 0s 4ms/step - loss: 5430.4771 - val_loss: 4610.3838\n",
      "Epoch 20/500\n",
      "12/12 [==============================] - 0s 5ms/step - loss: 5405.0322 - val_loss: 4586.9424\n",
      "Epoch 21/500\n",
      "12/12 [==============================] - 0s 5ms/step - loss: 5379.6763 - val_loss: 4563.5864\n",
      "Epoch 22/500\n",
      "12/12 [==============================] - 0s 6ms/step - loss: 5354.4092 - val_loss: 4540.3159\n",
      "Epoch 23/500\n",
      "12/12 [==============================] - 0s 4ms/step - loss: 5329.2285 - val_loss: 4517.1304\n",
      "Epoch 24/500\n",
      "12/12 [==============================] - 0s 4ms/step - loss: 5304.1357 - val_loss: 4494.0298\n",
      "Epoch 25/500\n",
      "12/12 [==============================] - 0s 6ms/step - loss: 5277.4380 - val_loss: 4455.8130\n",
      "Epoch 26/500\n",
      "12/12 [==============================] - 0s 6ms/step - loss: 5236.0884 - val_loss: 4429.0825\n",
      "Epoch 27/500\n",
      "12/12 [==============================] - 0s 4ms/step - loss: 5206.9863 - val_loss: 4402.4048\n",
      "Epoch 28/500\n",
      "12/12 [==============================] - 0s 4ms/step - loss: 5178.2920 - val_loss: 4376.2827\n",
      "Epoch 29/500\n",
      "12/12 [==============================] - 0s 4ms/step - loss: 5150.1738 - val_loss: 4350.6494\n",
      "Epoch 30/500\n",
      "12/12 [==============================] - 0s 6ms/step - loss: 5122.5322 - val_loss: 4325.4038\n",
      "Epoch 31/500\n",
      "12/12 [==============================] - 0s 4ms/step - loss: 5095.2700 - val_loss: 4300.4717\n",
      "Epoch 32/500\n",
      "12/12 [==============================] - 0s 4ms/step - loss: 5068.3164 - val_loss: 4275.8013\n",
      "Epoch 33/500\n",
      "12/12 [==============================] - 0s 6ms/step - loss: 5041.6235 - val_loss: 4251.3584\n",
      "Epoch 34/500\n",
      "12/12 [==============================] - 0s 11ms/step - loss: 5015.1582 - val_loss: 4227.1152\n",
      "Epoch 35/500\n",
      "12/12 [==============================] - 0s 5ms/step - loss: 4988.8965 - val_loss: 4203.0547\n",
      "Epoch 36/500\n",
      "12/12 [==============================] - 0s 6ms/step - loss: 4962.8193 - val_loss: 4179.1611\n",
      "Epoch 37/500\n",
      "12/12 [==============================] - 0s 6ms/step - loss: 4936.9126 - val_loss: 4155.4238\n",
      "Epoch 38/500\n",
      "12/12 [==============================] - 0s 6ms/step - loss: 4911.1655 - val_loss: 4131.8335\n",
      "Epoch 39/500\n",
      "12/12 [==============================] - 0s 4ms/step - loss: 4885.5693 - val_loss: 4108.3833\n",
      "Epoch 40/500\n",
      "12/12 [==============================] - 0s 4ms/step - loss: 4860.1162 - val_loss: 4085.0659\n",
      "Epoch 41/500\n",
      "12/12 [==============================] - 0s 6ms/step - loss: 4834.8008 - val_loss: 4061.8784\n",
      "Epoch 42/500\n",
      "12/12 [==============================] - 0s 6ms/step - loss: 4809.6172 - val_loss: 4038.8147\n",
      "Epoch 43/500\n",
      "12/12 [==============================] - 0s 5ms/step - loss: 4784.5610 - val_loss: 4015.8708\n",
      "Epoch 44/500\n",
      "12/12 [==============================] - 0s 4ms/step - loss: 4759.6294 - val_loss: 3993.0452\n",
      "Epoch 45/500\n",
      "12/12 [==============================] - 0s 6ms/step - loss: 4734.8174 - val_loss: 3970.3333\n",
      "Epoch 46/500\n",
      "12/12 [==============================] - 0s 6ms/step - loss: 4710.1235 - val_loss: 3947.7334\n",
      "Epoch 47/500\n",
      "12/12 [==============================] - 0s 4ms/step - loss: 4685.5449 - val_loss: 3925.2432\n",
      "Epoch 48/500\n",
      "12/12 [==============================] - 0s 4ms/step - loss: 4661.0791 - val_loss: 3902.8611\n",
      "Epoch 49/500\n",
      "12/12 [==============================] - 0s 6ms/step - loss: 4636.7241 - val_loss: 3880.5840\n",
      "Epoch 50/500\n",
      "12/12 [==============================] - 0s 4ms/step - loss: 4612.4771 - val_loss: 3858.4114\n",
      "Epoch 51/500\n",
      "12/12 [==============================] - 0s 6ms/step - loss: 4588.3379 - val_loss: 3836.3416\n",
      "Epoch 52/500\n",
      "12/12 [==============================] - 0s 4ms/step - loss: 4564.3037 - val_loss: 3814.3718\n",
      "Epoch 53/500\n",
      "12/12 [==============================] - 0s 5ms/step - loss: 4540.3740 - val_loss: 3792.5034\n",
      "Epoch 54/500\n",
      "12/12 [==============================] - 0s 4ms/step - loss: 4516.5474 - val_loss: 3770.7336\n",
      "Epoch 55/500\n",
      "12/12 [==============================] - 0s 6ms/step - loss: 4492.8218 - val_loss: 3749.0610\n",
      "Epoch 56/500\n",
      "12/12 [==============================] - 0s 6ms/step - loss: 4469.1968 - val_loss: 3727.4854\n",
      "Epoch 57/500\n",
      "12/12 [==============================] - 0s 4ms/step - loss: 4445.6719 - val_loss: 3706.0056\n",
      "Epoch 58/500\n",
      "12/12 [==============================] - 0s 5ms/step - loss: 4422.2446 - val_loss: 3684.6206\n",
      "Epoch 59/500\n",
      "12/12 [==============================] - 0s 5ms/step - loss: 4398.9155 - val_loss: 3663.3291\n",
      "Epoch 60/500\n",
      "12/12 [==============================] - 0s 6ms/step - loss: 4375.6821 - val_loss: 3642.1313\n",
      "Epoch 61/500\n",
      "12/12 [==============================] - 0s 4ms/step - loss: 4352.5454 - val_loss: 3621.0256\n",
      "Epoch 62/500\n",
      "12/12 [==============================] - 0s 6ms/step - loss: 4329.5029 - val_loss: 3600.0122\n",
      "Epoch 63/500\n",
      "12/12 [==============================] - 0s 6ms/step - loss: 4306.5552 - val_loss: 3579.0889\n",
      "Epoch 64/500\n",
      "12/12 [==============================] - 0s 4ms/step - loss: 4283.7007 - val_loss: 3558.2563\n",
      "Epoch 65/500\n",
      "12/12 [==============================] - 0s 4ms/step - loss: 4260.9395 - val_loss: 3537.5139\n",
      "Epoch 66/500\n",
      "12/12 [==============================] - 0s 5ms/step - loss: 4238.2700 - val_loss: 3516.8608\n",
      "Epoch 67/500\n",
      "12/12 [==============================] - 0s 10ms/step - loss: 4215.6929 - val_loss: 3496.2959\n",
      "Epoch 68/500\n",
      "12/12 [==============================] - 0s 5ms/step - loss: 4193.2065 - val_loss: 3475.8191\n",
      "Epoch 69/500\n",
      "12/12 [==============================] - 0s 6ms/step - loss: 4170.8110 - val_loss: 3455.4299\n",
      "Epoch 70/500\n",
      "12/12 [==============================] - 0s 6ms/step - loss: 4148.5049 - val_loss: 3435.1277\n",
      "Epoch 71/500\n",
      "12/12 [==============================] - 0s 4ms/step - loss: 4126.2881 - val_loss: 3414.9119\n",
      "Epoch 72/500\n",
      "12/12 [==============================] - 0s 4ms/step - loss: 4104.1602 - val_loss: 3394.7827\n",
      "Epoch 73/500\n",
      "12/12 [==============================] - 0s 6ms/step - loss: 4082.1211 - val_loss: 3374.7388\n",
      "Epoch 74/500\n",
      "12/12 [==============================] - 0s 6ms/step - loss: 4060.1702 - val_loss: 3354.7798\n",
      "Epoch 75/500\n",
      "12/12 [==============================] - 0s 4ms/step - loss: 4038.3057 - val_loss: 3334.9053\n",
      "Epoch 76/500\n",
      "12/12 [==============================] - 0s 4ms/step - loss: 4016.5288 - val_loss: 3315.1152\n",
      "Epoch 77/500\n",
      "12/12 [==============================] - 0s 4ms/step - loss: 3994.8389 - val_loss: 3295.4097\n",
      "Epoch 78/500\n",
      "12/12 [==============================] - 0s 6ms/step - loss: 3973.2346 - val_loss: 3275.7871\n",
      "Epoch 79/500\n",
      "12/12 [==============================] - 0s 6ms/step - loss: 3951.7161 - val_loss: 3256.2476\n",
      "Epoch 80/500\n",
      "12/12 [==============================] - 0s 6ms/step - loss: 3930.2837 - val_loss: 3236.7910\n",
      "Epoch 81/500\n",
      "12/12 [==============================] - 0s 4ms/step - loss: 3908.9353 - val_loss: 3217.4167\n",
      "Epoch 82/500\n",
      "12/12 [==============================] - 0s 4ms/step - loss: 3887.6716 - val_loss: 3198.1243\n",
      "Epoch 83/500\n",
      "12/12 [==============================] - 0s 5ms/step - loss: 3866.4919 - val_loss: 3178.9131\n",
      "Epoch 84/500\n",
      "12/12 [==============================] - 0s 6ms/step - loss: 3845.3962 - val_loss: 3159.7834\n",
      "Epoch 85/500\n",
      "12/12 [==============================] - 0s 6ms/step - loss: 3824.3840 - val_loss: 3140.7346\n",
      "Epoch 86/500\n",
      "12/12 [==============================] - 0s 5ms/step - loss: 3803.4553 - val_loss: 3121.7664\n",
      "Epoch 87/500\n",
      "12/12 [==============================] - 0s 4ms/step - loss: 3782.6084 - val_loss: 3102.8782\n",
      "Epoch 88/500\n",
      "12/12 [==============================] - 0s 4ms/step - loss: 3761.8447 - val_loss: 3084.0701\n",
      "Epoch 89/500\n",
      "12/12 [==============================] - 0s 6ms/step - loss: 3741.1626 - val_loss: 3065.3416\n",
      "Epoch 90/500\n",
      "12/12 [==============================] - 0s 4ms/step - loss: 3720.5625 - val_loss: 3046.6926\n",
      "Epoch 91/500\n",
      "12/12 [==============================] - 0s 6ms/step - loss: 3700.0435 - val_loss: 3028.1218\n",
      "Epoch 92/500\n",
      "12/12 [==============================] - 0s 6ms/step - loss: 3679.6055 - val_loss: 3009.6306\n",
      "Epoch 93/500\n",
      "12/12 [==============================] - 0s 6ms/step - loss: 3659.2485 - val_loss: 2991.2173\n",
      "Epoch 94/500\n",
      "12/12 [==============================] - 0s 6ms/step - loss: 3638.9727 - val_loss: 2972.8826\n",
      "Epoch 95/500\n",
      "12/12 [==============================] - 0s 6ms/step - loss: 3618.7761 - val_loss: 2954.6248\n",
      "Epoch 96/500\n",
      "12/12 [==============================] - 0s 10ms/step - loss: 3598.6594 - val_loss: 2936.4451\n",
      "Epoch 97/500\n",
      "12/12 [==============================] - 0s 6ms/step - loss: 3578.6226 - val_loss: 2918.3423\n",
      "Epoch 98/500\n",
      "12/12 [==============================] - 0s 4ms/step - loss: 3558.6646 - val_loss: 2900.3162\n",
      "Epoch 99/500\n",
      "12/12 [==============================] - 0s 4ms/step - loss: 3538.7864 - val_loss: 2882.3665\n",
      "Epoch 100/500\n",
      "12/12 [==============================] - 0s 4ms/step - loss: 3518.9866 - val_loss: 2864.4944\n",
      "Epoch 101/500\n",
      "12/12 [==============================] - 0s 6ms/step - loss: 3499.2642 - val_loss: 2846.6968\n",
      "Epoch 102/500\n",
      "12/12 [==============================] - 0s 4ms/step - loss: 3479.6211 - val_loss: 2828.9761\n",
      "Epoch 103/500\n",
      "12/12 [==============================] - 0s 5ms/step - loss: 3460.0557 - val_loss: 2811.3306\n",
      "Epoch 104/500\n",
      "12/12 [==============================] - 0s 4ms/step - loss: 3440.5681 - val_loss: 2793.7612\n",
      "Epoch 105/500\n",
      "12/12 [==============================] - 0s 4ms/step - loss: 3421.1577 - val_loss: 2776.2664\n",
      "Epoch 106/500\n",
      "12/12 [==============================] - 0s 4ms/step - loss: 3401.8242 - val_loss: 2758.8459\n",
      "Epoch 107/500\n",
      "12/12 [==============================] - 0s 4ms/step - loss: 3382.5676 - val_loss: 2741.5000\n",
      "Epoch 108/500\n",
      "12/12 [==============================] - 0s 6ms/step - loss: 3363.3875 - val_loss: 2724.2288\n",
      "Epoch 109/500\n",
      "12/12 [==============================] - 0s 6ms/step - loss: 3344.2837 - val_loss: 2707.0315\n",
      "Epoch 110/500\n",
      "12/12 [==============================] - 0s 4ms/step - loss: 3325.2559 - val_loss: 2689.9082\n",
      "Epoch 111/500\n",
      "12/12 [==============================] - 0s 4ms/step - loss: 3306.3037 - val_loss: 2672.8579\n",
      "Epoch 112/500\n",
      "12/12 [==============================] - 0s 4ms/step - loss: 3287.4270 - val_loss: 2655.8809\n",
      "Epoch 113/500\n",
      "12/12 [==============================] - 0s 6ms/step - loss: 3268.6257 - val_loss: 2638.9775\n",
      "Epoch 114/500\n",
      "12/12 [==============================] - 0s 6ms/step - loss: 3249.8999 - val_loss: 2622.1470\n",
      "Epoch 115/500\n",
      "12/12 [==============================] - 0s 6ms/step - loss: 3231.2490 - val_loss: 2605.3887\n",
      "Epoch 116/500\n",
      "12/12 [==============================] - 0s 6ms/step - loss: 3212.6719 - val_loss: 2588.7029\n",
      "Epoch 117/500\n",
      "12/12 [==============================] - 0s 6ms/step - loss: 3194.1697 - val_loss: 2572.0898\n",
      "Epoch 118/500\n",
      "12/12 [==============================] - 0s 4ms/step - loss: 3175.7419 - val_loss: 2555.5479\n",
      "Epoch 119/500\n",
      "12/12 [==============================] - 0s 6ms/step - loss: 3157.3875 - val_loss: 2539.0779\n",
      "Epoch 120/500\n",
      "12/12 [==============================] - 0s 6ms/step - loss: 3139.1069 - val_loss: 2522.6799\n",
      "Epoch 121/500\n",
      "12/12 [==============================] - 0s 4ms/step - loss: 3120.8999 - val_loss: 2506.3528\n",
      "Epoch 122/500\n",
      "12/12 [==============================] - 0s 4ms/step - loss: 3102.7659 - val_loss: 2490.0962\n",
      "Epoch 123/500\n",
      "12/12 [==============================] - 0s 6ms/step - loss: 3084.7048 - val_loss: 2473.9104\n",
      "Epoch 124/500\n",
      "12/12 [==============================] - 0s 4ms/step - loss: 3066.7163 - val_loss: 2457.7954\n",
      "Epoch 125/500\n",
      "12/12 [==============================] - 0s 10ms/step - loss: 3048.8003 - val_loss: 2441.7507\n",
      "Epoch 126/500\n",
      "12/12 [==============================] - 0s 6ms/step - loss: 3030.9565 - val_loss: 2425.7766\n",
      "Epoch 127/500\n",
      "12/12 [==============================] - 0s 4ms/step - loss: 3013.1853 - val_loss: 2409.8721\n",
      "Epoch 128/500\n",
      "12/12 [==============================] - 0s 4ms/step - loss: 2995.4858 - val_loss: 2394.0376\n",
      "Epoch 129/500\n",
      "12/12 [==============================] - 0s 4ms/step - loss: 2977.8579 - val_loss: 2378.2722\n",
      "Epoch 130/500\n",
      "12/12 [==============================] - 0s 6ms/step - loss: 2960.3010 - val_loss: 2362.5767\n",
      "Epoch 131/500\n",
      "12/12 [==============================] - 0s 4ms/step - loss: 2942.8159 - val_loss: 2346.9497\n",
      "Epoch 132/500\n",
      "12/12 [==============================] - 0s 4ms/step - loss: 2925.4019 - val_loss: 2331.3921\n",
      "Epoch 133/500\n",
      "12/12 [==============================] - 0s 4ms/step - loss: 2908.0586 - val_loss: 2315.9036\n",
      "Epoch 134/500\n",
      "12/12 [==============================] - 0s 5ms/step - loss: 2890.7859 - val_loss: 2300.4827\n",
      "Epoch 135/500\n",
      "12/12 [==============================] - 0s 4ms/step - loss: 2873.5830 - val_loss: 2285.1301\n",
      "Epoch 136/500\n",
      "12/12 [==============================] - 0s 4ms/step - loss: 2856.4507 - val_loss: 2269.8459\n",
      "Epoch 137/500\n",
      "12/12 [==============================] - 0s 6ms/step - loss: 2839.3887 - val_loss: 2254.6299\n",
      "Epoch 138/500\n",
      "12/12 [==============================] - 0s 6ms/step - loss: 2822.3965 - val_loss: 2239.4810\n",
      "Epoch 139/500\n",
      "12/12 [==============================] - 0s 5ms/step - loss: 2805.4734 - val_loss: 2224.4004\n",
      "Epoch 140/500\n",
      "12/12 [==============================] - 0s 6ms/step - loss: 2788.6201 - val_loss: 2200.8057\n",
      "Epoch 141/500\n",
      "12/12 [==============================] - 0s 6ms/step - loss: 2760.4438 - val_loss: 2181.5420\n",
      "Epoch 142/500\n",
      "12/12 [==============================] - 0s 4ms/step - loss: 2738.4143 - val_loss: 2161.9341\n",
      "Epoch 143/500\n",
      "12/12 [==============================] - 0s 4ms/step - loss: 2716.7419 - val_loss: 2143.0198\n",
      "Epoch 144/500\n",
      "12/12 [==============================] - 0s 6ms/step - loss: 2695.8296 - val_loss: 2124.7354\n",
      "Epoch 145/500\n",
      "12/12 [==============================] - 0s 6ms/step - loss: 2675.5510 - val_loss: 2106.9475\n",
      "Epoch 146/500\n",
      "12/12 [==============================] - 0s 4ms/step - loss: 2655.7686 - val_loss: 2089.5525\n",
      "Epoch 147/500\n",
      "12/12 [==============================] - 0s 4ms/step - loss: 2636.3831 - val_loss: 2072.4788\n",
      "Epoch 148/500\n",
      "12/12 [==============================] - 0s 6ms/step - loss: 2617.3254 - val_loss: 2055.6777\n",
      "Epoch 149/500\n",
      "12/12 [==============================] - 0s 6ms/step - loss: 2598.5474 - val_loss: 2039.1135\n",
      "Epoch 150/500\n",
      "12/12 [==============================] - 0s 6ms/step - loss: 2580.0142 - val_loss: 2022.7594\n",
      "Epoch 151/500\n",
      "12/12 [==============================] - 0s 5ms/step - loss: 2561.6995 - val_loss: 2006.5951\n",
      "Epoch 152/500\n",
      "12/12 [==============================] - 0s 4ms/step - loss: 2543.5828 - val_loss: 1990.6057\n",
      "Epoch 153/500\n",
      "12/12 [==============================] - 0s 10ms/step - loss: 2525.6487 - val_loss: 1974.7781\n",
      "Epoch 154/500\n",
      "12/12 [==============================] - 0s 5ms/step - loss: 2507.8838 - val_loss: 1959.1014\n",
      "Epoch 155/500\n",
      "12/12 [==============================] - 0s 4ms/step - loss: 2490.2776 - val_loss: 1943.5686\n",
      "Epoch 156/500\n",
      "12/12 [==============================] - 0s 4ms/step - loss: 2472.8208 - val_loss: 1928.1702\n",
      "Epoch 157/500\n",
      "12/12 [==============================] - 0s 6ms/step - loss: 2455.5061 - val_loss: 1912.9017\n",
      "Epoch 158/500\n",
      "12/12 [==============================] - 0s 6ms/step - loss: 2438.3267 - val_loss: 1897.7571\n",
      "Epoch 159/500\n",
      "12/12 [==============================] - 0s 4ms/step - loss: 2421.2778 - val_loss: 1882.7322\n",
      "Epoch 160/500\n",
      "12/12 [==============================] - 0s 4ms/step - loss: 2404.3538 - val_loss: 1867.8223\n",
      "Epoch 161/500\n",
      "12/12 [==============================] - 0s 6ms/step - loss: 2387.5510 - val_loss: 1853.0242\n",
      "Epoch 162/500\n",
      "12/12 [==============================] - 0s 4ms/step - loss: 2370.8645 - val_loss: 1838.3340\n",
      "Epoch 163/500\n",
      "12/12 [==============================] - 0s 4ms/step - loss: 2354.2920 - val_loss: 1823.7495\n",
      "Epoch 164/500\n",
      "12/12 [==============================] - 0s 5ms/step - loss: 2337.8298 - val_loss: 1809.2681\n",
      "Epoch 165/500\n",
      "12/12 [==============================] - 0s 6ms/step - loss: 2321.4753 - val_loss: 1794.8865\n",
      "Epoch 166/500\n",
      "12/12 [==============================] - 0s 4ms/step - loss: 2305.2258 - val_loss: 1780.6035\n",
      "Epoch 167/500\n",
      "12/12 [==============================] - 0s 6ms/step - loss: 2289.0791 - val_loss: 1766.4174\n",
      "Epoch 168/500\n",
      "12/12 [==============================] - 0s 6ms/step - loss: 2273.0334 - val_loss: 1752.3248\n",
      "Epoch 169/500\n",
      "12/12 [==============================] - 0s 4ms/step - loss: 2257.0864 - val_loss: 1738.3256\n",
      "Epoch 170/500\n",
      "12/12 [==============================] - 0s 4ms/step - loss: 2241.2366 - val_loss: 1724.4181\n",
      "Epoch 171/500\n",
      "12/12 [==============================] - 0s 6ms/step - loss: 2225.4817 - val_loss: 1710.5995\n",
      "Epoch 172/500\n",
      "12/12 [==============================] - 0s 6ms/step - loss: 2209.8208 - val_loss: 1696.8698\n",
      "Epoch 173/500\n",
      "12/12 [==============================] - 0s 5ms/step - loss: 2194.2522 - val_loss: 1683.2274\n",
      "Epoch 174/500\n",
      "12/12 [==============================] - 0s 4ms/step - loss: 2178.7749 - val_loss: 1669.6705\n",
      "Epoch 175/500\n",
      "12/12 [==============================] - 0s 6ms/step - loss: 2163.3872 - val_loss: 1656.1990\n",
      "Epoch 176/500\n",
      "12/12 [==============================] - 0s 6ms/step - loss: 2148.0879 - val_loss: 1642.8109\n",
      "Epoch 177/500\n",
      "12/12 [==============================] - 0s 6ms/step - loss: 2132.8762 - val_loss: 1629.5059\n",
      "Epoch 178/500\n",
      "12/12 [==============================] - 0s 6ms/step - loss: 2117.7507 - val_loss: 1616.2830\n",
      "Epoch 179/500\n",
      "12/12 [==============================] - 0s 6ms/step - loss: 2102.7112 - val_loss: 1603.1410\n",
      "Epoch 180/500\n",
      "12/12 [==============================] - 0s 4ms/step - loss: 2087.7554 - val_loss: 1590.0793\n",
      "Epoch 181/500\n",
      "12/12 [==============================] - 0s 10ms/step - loss: 2072.8838 - val_loss: 1577.0963\n",
      "Epoch 182/500\n",
      "12/12 [==============================] - 0s 5ms/step - loss: 2058.0947 - val_loss: 1564.1927\n",
      "Epoch 183/500\n",
      "12/12 [==============================] - 0s 6ms/step - loss: 2043.3875 - val_loss: 1551.3668\n",
      "Epoch 184/500\n",
      "12/12 [==============================] - 0s 5ms/step - loss: 2028.7615 - val_loss: 1538.6180\n",
      "Epoch 185/500\n",
      "12/12 [==============================] - 0s 4ms/step - loss: 2014.2158 - val_loss: 1525.9454\n",
      "Epoch 186/500\n",
      "12/12 [==============================] - 0s 4ms/step - loss: 1999.7496 - val_loss: 1513.3494\n",
      "Epoch 187/500\n",
      "12/12 [==============================] - 0s 6ms/step - loss: 1985.3628 - val_loss: 1500.8285\n",
      "Epoch 188/500\n",
      "12/12 [==============================] - 0s 6ms/step - loss: 1971.0542 - val_loss: 1488.3820\n",
      "Epoch 189/500\n",
      "12/12 [==============================] - 0s 4ms/step - loss: 1956.8229 - val_loss: 1476.0092\n",
      "Epoch 190/500\n",
      "12/12 [==============================] - 0s 4ms/step - loss: 1942.6697 - val_loss: 1463.7111\n",
      "Epoch 191/500\n",
      "12/12 [==============================] - 0s 4ms/step - loss: 1928.5925 - val_loss: 1451.4854\n",
      "Epoch 192/500\n",
      "12/12 [==============================] - 0s 6ms/step - loss: 1914.5913 - val_loss: 1439.3323\n",
      "Epoch 193/500\n",
      "12/12 [==============================] - 0s 6ms/step - loss: 1900.6658 - val_loss: 1427.2510\n",
      "Epoch 194/500\n",
      "12/12 [==============================] - 0s 6ms/step - loss: 1886.8147 - val_loss: 1415.2413\n",
      "Epoch 195/500\n",
      "12/12 [==============================] - 0s 6ms/step - loss: 1873.0386 - val_loss: 1403.3029\n",
      "Epoch 196/500\n",
      "12/12 [==============================] - 0s 5ms/step - loss: 1859.3359 - val_loss: 1391.4348\n",
      "Epoch 197/500\n",
      "12/12 [==============================] - 0s 4ms/step - loss: 1845.7072 - val_loss: 1379.6371\n",
      "Epoch 198/500\n",
      "12/12 [==============================] - 0s 4ms/step - loss: 1832.1514 - val_loss: 1367.9094\n",
      "Epoch 199/500\n",
      "12/12 [==============================] - 0s 4ms/step - loss: 1818.6681 - val_loss: 1356.2509\n",
      "Epoch 200/500\n",
      "12/12 [==============================] - 0s 6ms/step - loss: 1805.2562 - val_loss: 1344.6611\n",
      "Epoch 201/500\n",
      "12/12 [==============================] - 0s 5ms/step - loss: 1791.9170 - val_loss: 1333.1394\n",
      "Epoch 202/500\n",
      "12/12 [==============================] - 0s 4ms/step - loss: 1778.6483 - val_loss: 1321.6868\n",
      "Epoch 203/500\n",
      "12/12 [==============================] - 0s 4ms/step - loss: 1765.4507 - val_loss: 1310.3007\n",
      "Epoch 204/500\n",
      "12/12 [==============================] - 0s 6ms/step - loss: 1752.3232 - val_loss: 1298.9832\n",
      "Epoch 205/500\n",
      "12/12 [==============================] - 0s 4ms/step - loss: 1739.2664 - val_loss: 1287.7322\n",
      "Epoch 206/500\n",
      "12/12 [==============================] - 0s 4ms/step - loss: 1726.2788 - val_loss: 1276.5476\n",
      "Epoch 207/500\n",
      "12/12 [==============================] - 0s 6ms/step - loss: 1713.3605 - val_loss: 1265.4298\n",
      "Epoch 208/500\n",
      "12/12 [==============================] - 0s 9ms/step - loss: 1700.5112 - val_loss: 1254.3774\n",
      "Epoch 209/500\n",
      "12/12 [==============================] - 0s 6ms/step - loss: 1687.7312 - val_loss: 1243.3911\n",
      "Epoch 210/500\n",
      "12/12 [==============================] - 0s 4ms/step - loss: 1675.0188 - val_loss: 1232.4705\n",
      "Epoch 211/500\n",
      "12/12 [==============================] - 0s 4ms/step - loss: 1662.3743 - val_loss: 1221.6147\n",
      "Epoch 212/500\n",
      "12/12 [==============================] - 0s 6ms/step - loss: 1649.7977 - val_loss: 1210.8236\n",
      "Epoch 213/500\n",
      "12/12 [==============================] - 0s 6ms/step - loss: 1637.2883 - val_loss: 1200.0968\n",
      "Epoch 214/500\n",
      "12/12 [==============================] - 0s 6ms/step - loss: 1624.8466 - val_loss: 1189.4343\n",
      "Epoch 215/500\n",
      "12/12 [==============================] - 0s 6ms/step - loss: 1612.4707 - val_loss: 1178.8351\n",
      "Epoch 216/500\n",
      "12/12 [==============================] - 0s 4ms/step - loss: 1600.1611 - val_loss: 1168.2997\n",
      "Epoch 217/500\n",
      "12/12 [==============================] - 0s 4ms/step - loss: 1587.9174 - val_loss: 1157.8276\n",
      "Epoch 218/500\n",
      "12/12 [==============================] - 0s 6ms/step - loss: 1575.7394 - val_loss: 1147.4185\n",
      "Epoch 219/500\n",
      "12/12 [==============================] - 0s 6ms/step - loss: 1563.6274 - val_loss: 1137.0721\n",
      "Epoch 220/500\n",
      "12/12 [==============================] - 0s 6ms/step - loss: 1551.5806 - val_loss: 1126.7878\n",
      "Epoch 221/500\n",
      "12/12 [==============================] - 0s 4ms/step - loss: 1539.5984 - val_loss: 1116.5663\n",
      "Epoch 222/500\n",
      "12/12 [==============================] - 0s 4ms/step - loss: 1527.6810 - val_loss: 1106.4065\n",
      "Epoch 223/500\n",
      "12/12 [==============================] - 0s 4ms/step - loss: 1515.8286 - val_loss: 1096.3083\n",
      "Epoch 224/500\n",
      "12/12 [==============================] - 0s 4ms/step - loss: 1504.0398 - val_loss: 1086.2714\n",
      "Epoch 225/500\n",
      "12/12 [==============================] - 0s 6ms/step - loss: 1492.3147 - val_loss: 1076.2955\n",
      "Epoch 226/500\n",
      "12/12 [==============================] - 0s 6ms/step - loss: 1480.6537 - val_loss: 1066.3811\n",
      "Epoch 227/500\n",
      "12/12 [==============================] - 0s 4ms/step - loss: 1469.0560 - val_loss: 1056.5269\n",
      "Epoch 228/500\n",
      "12/12 [==============================] - 0s 5ms/step - loss: 1457.5214 - val_loss: 1046.7330\n",
      "Epoch 229/500\n",
      "12/12 [==============================] - 0s 5ms/step - loss: 1446.0494 - val_loss: 1036.9999\n",
      "Epoch 230/500\n",
      "12/12 [==============================] - 0s 6ms/step - loss: 1434.6401 - val_loss: 1027.3259\n",
      "Epoch 231/500\n",
      "12/12 [==============================] - 0s 4ms/step - loss: 1423.2933 - val_loss: 1017.7123\n",
      "Epoch 232/500\n",
      "12/12 [==============================] - 0s 11ms/step - loss: 1412.0085 - val_loss: 1008.1580\n",
      "Epoch 233/500\n",
      "12/12 [==============================] - 0s 6ms/step - loss: 1400.7856 - val_loss: 998.6628\n",
      "Epoch 234/500\n",
      "12/12 [==============================] - 0s 4ms/step - loss: 1389.6241 - val_loss: 989.2263\n",
      "Epoch 235/500\n",
      "12/12 [==============================] - 0s 4ms/step - loss: 1378.5240 - val_loss: 979.8486\n",
      "Epoch 236/500\n",
      "12/12 [==============================] - 0s 6ms/step - loss: 1367.4855 - val_loss: 970.5294\n",
      "Epoch 237/500\n",
      "12/12 [==============================] - 0s 6ms/step - loss: 1356.5079 - val_loss: 961.2690\n",
      "Epoch 238/500\n",
      "12/12 [==============================] - 0s 6ms/step - loss: 1345.5909 - val_loss: 952.0667\n",
      "Epoch 239/500\n",
      "12/12 [==============================] - 0s 6ms/step - loss: 1334.7345 - val_loss: 942.9221\n",
      "Epoch 240/500\n",
      "12/12 [==============================] - 0s 4ms/step - loss: 1323.9384 - val_loss: 933.8351\n",
      "Epoch 241/500\n",
      "12/12 [==============================] - 0s 4ms/step - loss: 1313.2023 - val_loss: 924.8058\n",
      "Epoch 242/500\n",
      "12/12 [==============================] - 0s 4ms/step - loss: 1302.5261 - val_loss: 915.8333\n",
      "Epoch 243/500\n",
      "12/12 [==============================] - 0s 6ms/step - loss: 1291.9093 - val_loss: 906.9177\n",
      "Epoch 244/500\n",
      "12/12 [==============================] - 0s 6ms/step - loss: 1281.3521 - val_loss: 898.0596\n",
      "Epoch 245/500\n",
      "12/12 [==============================] - 0s 8ms/step - loss: 1270.8544 - val_loss: 889.2576\n",
      "Epoch 246/500\n",
      "12/12 [==============================] - 0s 6ms/step - loss: 1260.4154 - val_loss: 880.5124\n",
      "Epoch 247/500\n",
      "12/12 [==============================] - 0s 6ms/step - loss: 1250.0354 - val_loss: 871.8236\n",
      "Epoch 248/500\n",
      "12/12 [==============================] - 0s 9ms/step - loss: 1239.7139 - val_loss: 863.1900\n",
      "Epoch 249/500\n",
      "12/12 [==============================] - 0s 7ms/step - loss: 1229.4509 - val_loss: 854.6127\n",
      "Epoch 250/500\n",
      "12/12 [==============================] - 0s 6ms/step - loss: 1219.2460 - val_loss: 846.0909\n",
      "Epoch 251/500\n",
      "12/12 [==============================] - 0s 6ms/step - loss: 1209.0990 - val_loss: 837.6246\n",
      "Epoch 252/500\n",
      "12/12 [==============================] - 0s 6ms/step - loss: 1199.0100 - val_loss: 829.2134\n",
      "Epoch 253/500\n",
      "12/12 [==============================] - 0s 6ms/step - loss: 1188.9789 - val_loss: 820.8578\n",
      "Epoch 254/500\n",
      "12/12 [==============================] - 0s 9ms/step - loss: 1179.0046 - val_loss: 812.5563\n",
      "Epoch 255/500\n",
      "12/12 [==============================] - 0s 10ms/step - loss: 1169.0879 - val_loss: 804.3100\n",
      "Epoch 256/500\n",
      "12/12 [==============================] - 0s 6ms/step - loss: 1159.2283 - val_loss: 796.1180\n",
      "Epoch 257/500\n",
      "12/12 [==============================] - 0s 6ms/step - loss: 1149.4254 - val_loss: 787.9800\n",
      "Epoch 258/500\n",
      "12/12 [==============================] - 0s 7ms/step - loss: 1139.6796 - val_loss: 779.8962\n",
      "Epoch 259/500\n",
      "12/12 [==============================] - 0s 6ms/step - loss: 1129.9894 - val_loss: 771.8665\n",
      "Epoch 260/500\n",
      "12/12 [==============================] - 0s 6ms/step - loss: 1120.3562 - val_loss: 763.8900\n",
      "Epoch 261/500\n",
      "12/12 [==============================] - 0s 4ms/step - loss: 1110.7786 - val_loss: 755.9670\n",
      "Epoch 262/500\n",
      "12/12 [==============================] - 0s 4ms/step - loss: 1101.2570 - val_loss: 748.0980\n",
      "Epoch 263/500\n",
      "12/12 [==============================] - 0s 6ms/step - loss: 1091.7913 - val_loss: 740.2821\n",
      "Epoch 264/500\n",
      "12/12 [==============================] - 0s 6ms/step - loss: 1082.3815 - val_loss: 732.5189\n",
      "Epoch 265/500\n",
      "12/12 [==============================] - 0s 9ms/step - loss: 1073.0266 - val_loss: 724.8083\n",
      "Epoch 266/500\n",
      "12/12 [==============================] - 0s 9ms/step - loss: 1063.7267 - val_loss: 717.1499\n",
      "Epoch 267/500\n",
      "12/12 [==============================] - 0s 8ms/step - loss: 1054.4822 - val_loss: 709.5449\n",
      "Epoch 268/500\n",
      "12/12 [==============================] - 0s 9ms/step - loss: 1045.2924 - val_loss: 701.9915\n",
      "Epoch 269/500\n",
      "12/12 [==============================] - 0s 10ms/step - loss: 1036.1570 - val_loss: 694.4902\n",
      "Epoch 270/500\n",
      "12/12 [==============================] - 0s 15ms/step - loss: 1027.0760 - val_loss: 687.0408\n",
      "Epoch 271/500\n",
      "12/12 [==============================] - 0s 8ms/step - loss: 1018.0495 - val_loss: 679.6429\n",
      "Epoch 272/500\n",
      "12/12 [==============================] - 0s 8ms/step - loss: 1009.0770 - val_loss: 672.2972\n",
      "Epoch 273/500\n",
      "12/12 [==============================] - 0s 7ms/step - loss: 1000.1591 - val_loss: 665.0022\n",
      "Epoch 274/500\n",
      "12/12 [==============================] - 0s 7ms/step - loss: 991.2938 - val_loss: 657.7584\n",
      "Epoch 275/500\n",
      "12/12 [==============================] - 0s 7ms/step - loss: 982.4829 - val_loss: 650.5659\n",
      "Epoch 276/500\n",
      "12/12 [==============================] - 0s 7ms/step - loss: 973.7250 - val_loss: 643.4235\n",
      "Epoch 277/500\n",
      "12/12 [==============================] - 0s 13ms/step - loss: 965.0208 - val_loss: 636.3326\n",
      "Epoch 278/500\n",
      "12/12 [==============================] - 0s 12ms/step - loss: 956.3697 - val_loss: 629.2925\n",
      "Epoch 279/500\n",
      "12/12 [==============================] - 0s 8ms/step - loss: 947.7716 - val_loss: 622.3018\n",
      "Epoch 280/500\n",
      "12/12 [==============================] - 0s 7ms/step - loss: 939.2257 - val_loss: 615.3618\n",
      "Epoch 281/500\n",
      "12/12 [==============================] - 0s 7ms/step - loss: 930.7327 - val_loss: 608.4716\n",
      "Epoch 282/500\n",
      "12/12 [==============================] - 0s 8ms/step - loss: 922.2922 - val_loss: 601.6312\n",
      "Epoch 283/500\n",
      "12/12 [==============================] - 0s 6ms/step - loss: 913.9040 - val_loss: 594.8401\n",
      "Epoch 284/500\n",
      "12/12 [==============================] - 0s 8ms/step - loss: 905.5677 - val_loss: 588.0986\n",
      "Epoch 285/500\n",
      "12/12 [==============================] - 0s 6ms/step - loss: 897.2833 - val_loss: 581.4066\n",
      "Epoch 286/500\n",
      "12/12 [==============================] - 0s 6ms/step - loss: 889.0504 - val_loss: 574.7633\n",
      "Epoch 287/500\n",
      "12/12 [==============================] - 0s 8ms/step - loss: 880.8693 - val_loss: 568.1692\n",
      "Epoch 288/500\n",
      "12/12 [==============================] - 0s 6ms/step - loss: 872.7395 - val_loss: 561.6240\n",
      "Epoch 289/500\n",
      "12/12 [==============================] - 0s 7ms/step - loss: 864.6611 - val_loss: 555.1271\n",
      "Epoch 290/500\n",
      "12/12 [==============================] - 0s 6ms/step - loss: 856.6335 - val_loss: 548.6786\n",
      "Epoch 291/500\n",
      "12/12 [==============================] - 0s 6ms/step - loss: 848.6572 - val_loss: 542.2786\n",
      "Epoch 292/500\n",
      "12/12 [==============================] - 0s 6ms/step - loss: 840.7311 - val_loss: 535.9261\n",
      "Epoch 293/500\n",
      "12/12 [==============================] - 0s 6ms/step - loss: 832.8559 - val_loss: 529.6221\n",
      "Epoch 294/500\n",
      "12/12 [==============================] - 0s 5ms/step - loss: 825.0311 - val_loss: 523.3655\n",
      "Epoch 295/500\n",
      "12/12 [==============================] - 0s 7ms/step - loss: 817.2563 - val_loss: 517.1569\n",
      "Epoch 296/500\n",
      "12/12 [==============================] - 0s 8ms/step - loss: 809.5318 - val_loss: 510.9952\n",
      "Epoch 297/500\n",
      "12/12 [==============================] - 0s 7ms/step - loss: 801.8573 - val_loss: 504.8813\n",
      "Epoch 298/500\n",
      "12/12 [==============================] - 0s 6ms/step - loss: 794.2325 - val_loss: 498.8139\n",
      "Epoch 299/500\n",
      "12/12 [==============================] - 0s 7ms/step - loss: 786.6572 - val_loss: 492.7938\n",
      "Epoch 300/500\n",
      "12/12 [==============================] - 0s 7ms/step - loss: 779.1312 - val_loss: 486.8199\n",
      "Epoch 301/500\n",
      "12/12 [==============================] - 0s 10ms/step - loss: 771.6547 - val_loss: 480.8932\n",
      "Epoch 302/500\n",
      "12/12 [==============================] - 0s 8ms/step - loss: 764.2274 - val_loss: 475.0130\n",
      "Epoch 303/500\n",
      "12/12 [==============================] - 0s 6ms/step - loss: 756.8493 - val_loss: 469.1788\n",
      "Epoch 304/500\n",
      "12/12 [==============================] - 0s 7ms/step - loss: 749.5199 - val_loss: 463.3907\n",
      "Epoch 305/500\n",
      "12/12 [==============================] - 0s 6ms/step - loss: 742.2389 - val_loss: 457.6490\n",
      "Epoch 306/500\n",
      "12/12 [==============================] - 0s 6ms/step - loss: 735.0068 - val_loss: 451.9526\n",
      "Epoch 307/500\n",
      "12/12 [==============================] - 0s 7ms/step - loss: 727.8226 - val_loss: 446.3017\n",
      "Epoch 308/500\n",
      "12/12 [==============================] - 0s 7ms/step - loss: 720.6865 - val_loss: 440.6961\n",
      "Epoch 309/500\n",
      "12/12 [==============================] - 0s 6ms/step - loss: 713.5986 - val_loss: 435.1362\n",
      "Epoch 310/500\n",
      "12/12 [==============================] - 0s 6ms/step - loss: 706.5585 - val_loss: 429.6208\n",
      "Epoch 311/500\n",
      "12/12 [==============================] - 0s 6ms/step - loss: 699.5660 - val_loss: 424.1509\n",
      "Epoch 312/500\n",
      "12/12 [==============================] - 0s 6ms/step - loss: 692.6210 - val_loss: 418.7253\n",
      "Epoch 313/500\n",
      "12/12 [==============================] - 0s 6ms/step - loss: 685.7234 - val_loss: 413.3445\n",
      "Epoch 314/500\n",
      "12/12 [==============================] - 0s 7ms/step - loss: 678.8732 - val_loss: 408.0081\n",
      "Epoch 315/500\n",
      "12/12 [==============================] - 0s 6ms/step - loss: 672.0701 - val_loss: 402.7159\n",
      "Epoch 316/500\n",
      "12/12 [==============================] - 0s 6ms/step - loss: 665.3137 - val_loss: 397.4685\n",
      "Epoch 317/500\n",
      "12/12 [==============================] - 0s 6ms/step - loss: 658.6045 - val_loss: 392.2645\n",
      "Epoch 318/500\n",
      "12/12 [==============================] - 0s 15ms/step - loss: 651.9416 - val_loss: 387.1042\n",
      "Epoch 319/500\n",
      "12/12 [==============================] - 0s 6ms/step - loss: 645.3250 - val_loss: 381.9878\n",
      "Epoch 320/500\n",
      "12/12 [==============================] - 0s 6ms/step - loss: 638.7549 - val_loss: 376.9147\n",
      "Epoch 321/500\n",
      "12/12 [==============================] - 0s 6ms/step - loss: 632.2306 - val_loss: 371.8850\n",
      "Epoch 322/500\n",
      "12/12 [==============================] - 0s 6ms/step - loss: 625.7526 - val_loss: 366.8984\n",
      "Epoch 323/500\n",
      "12/12 [==============================] - 0s 6ms/step - loss: 619.3205 - val_loss: 361.9546\n",
      "Epoch 324/500\n",
      "12/12 [==============================] - 0s 6ms/step - loss: 612.9339 - val_loss: 357.0540\n",
      "Epoch 325/500\n",
      "12/12 [==============================] - 0s 6ms/step - loss: 606.5928 - val_loss: 352.1959\n",
      "Epoch 326/500\n",
      "12/12 [==============================] - 0s 6ms/step - loss: 600.2971 - val_loss: 347.3800\n",
      "Epoch 327/500\n",
      "12/12 [==============================] - 0s 5ms/step - loss: 594.0462 - val_loss: 342.6062\n",
      "Epoch 328/500\n",
      "12/12 [==============================] - 0s 5ms/step - loss: 587.8404 - val_loss: 337.8751\n",
      "Epoch 329/500\n",
      "12/12 [==============================] - 0s 5ms/step - loss: 581.6796 - val_loss: 333.1857\n",
      "Epoch 330/500\n",
      "12/12 [==============================] - 0s 5ms/step - loss: 575.5637 - val_loss: 328.5384\n",
      "Epoch 331/500\n",
      "12/12 [==============================] - 0s 8ms/step - loss: 569.4922 - val_loss: 323.9325\n",
      "Epoch 332/500\n",
      "12/12 [==============================] - 0s 6ms/step - loss: 563.4652 - val_loss: 319.3682\n",
      "Epoch 333/500\n",
      "12/12 [==============================] - 0s 6ms/step - loss: 557.4822 - val_loss: 314.8449\n",
      "Epoch 334/500\n",
      "12/12 [==============================] - 0s 5ms/step - loss: 551.5435 - val_loss: 310.3630\n",
      "Epoch 335/500\n",
      "12/12 [==============================] - 0s 6ms/step - loss: 545.6486 - val_loss: 305.9219\n",
      "Epoch 336/500\n",
      "12/12 [==============================] - 0s 7ms/step - loss: 539.7973 - val_loss: 301.5219\n",
      "Epoch 337/500\n",
      "12/12 [==============================] - 0s 6ms/step - loss: 533.9902 - val_loss: 297.1624\n",
      "Epoch 338/500\n",
      "12/12 [==============================] - 0s 8ms/step - loss: 528.2262 - val_loss: 292.8434\n",
      "Epoch 339/500\n",
      "12/12 [==============================] - 0s 5ms/step - loss: 522.5054 - val_loss: 288.5648\n",
      "Epoch 340/500\n",
      "12/12 [==============================] - 0s 6ms/step - loss: 516.8278 - val_loss: 284.3260\n",
      "Epoch 341/500\n",
      "12/12 [==============================] - 0s 6ms/step - loss: 511.1931 - val_loss: 280.1280\n",
      "Epoch 342/500\n",
      "12/12 [==============================] - 0s 6ms/step - loss: 505.6014 - val_loss: 275.9691\n",
      "Epoch 343/500\n",
      "12/12 [==============================] - 0s 6ms/step - loss: 500.0523 - val_loss: 271.8500\n",
      "Epoch 344/500\n",
      "12/12 [==============================] - 0s 5ms/step - loss: 494.5457 - val_loss: 267.7705\n",
      "Epoch 345/500\n",
      "12/12 [==============================] - 0s 5ms/step - loss: 489.0815 - val_loss: 263.7304\n",
      "Epoch 346/500\n",
      "12/12 [==============================] - 0s 8ms/step - loss: 483.6595 - val_loss: 259.7292\n",
      "Epoch 347/500\n",
      "12/12 [==============================] - 0s 9ms/step - loss: 478.2794 - val_loss: 255.7670\n",
      "Epoch 348/500\n",
      "12/12 [==============================] - 0s 9ms/step - loss: 472.9413 - val_loss: 251.8439\n",
      "Epoch 349/500\n",
      "12/12 [==============================] - 0s 6ms/step - loss: 467.6447 - val_loss: 247.9594\n",
      "Epoch 350/500\n",
      "12/12 [==============================] - 0s 5ms/step - loss: 462.3899 - val_loss: 244.1130\n",
      "Epoch 351/500\n",
      "12/12 [==============================] - 0s 5ms/step - loss: 457.1764 - val_loss: 240.3052\n",
      "Epoch 352/500\n",
      "12/12 [==============================] - 0s 6ms/step - loss: 452.0042 - val_loss: 236.5357\n",
      "Epoch 353/500\n",
      "12/12 [==============================] - 0s 7ms/step - loss: 446.8730 - val_loss: 232.8041\n",
      "Epoch 354/500\n",
      "12/12 [==============================] - 0s 4ms/step - loss: 441.7828 - val_loss: 229.1101\n",
      "Epoch 355/500\n",
      "12/12 [==============================] - 0s 8ms/step - loss: 436.7335 - val_loss: 225.4542\n",
      "Epoch 356/500\n",
      "12/12 [==============================] - 0s 8ms/step - loss: 431.7247 - val_loss: 221.8353\n",
      "Epoch 357/500\n",
      "12/12 [==============================] - 0s 6ms/step - loss: 426.7563 - val_loss: 218.2538\n",
      "Epoch 358/500\n",
      "12/12 [==============================] - 0s 7ms/step - loss: 421.8284 - val_loss: 214.7097\n",
      "Epoch 359/500\n",
      "12/12 [==============================] - 0s 6ms/step - loss: 416.9405 - val_loss: 211.2023\n",
      "Epoch 360/500\n",
      "12/12 [==============================] - 0s 6ms/step - loss: 412.0924 - val_loss: 207.7321\n",
      "Epoch 361/500\n",
      "12/12 [==============================] - 0s 8ms/step - loss: 407.2846 - val_loss: 204.2983\n",
      "Epoch 362/500\n",
      "12/12 [==============================] - 0s 7ms/step - loss: 402.5163 - val_loss: 200.9010\n",
      "Epoch 363/500\n",
      "12/12 [==============================] - 0s 6ms/step - loss: 397.7875 - val_loss: 197.5399\n",
      "Epoch 364/500\n",
      "12/12 [==============================] - 0s 6ms/step - loss: 393.0980 - val_loss: 194.2149\n",
      "Epoch 365/500\n",
      "12/12 [==============================] - 0s 4ms/step - loss: 388.4476 - val_loss: 190.9260\n",
      "Epoch 366/500\n",
      "12/12 [==============================] - 0s 5ms/step - loss: 383.8363 - val_loss: 187.6728\n",
      "Epoch 367/500\n",
      "12/12 [==============================] - 0s 5ms/step - loss: 379.2638 - val_loss: 184.4550\n",
      "Epoch 368/500\n",
      "12/12 [==============================] - 0s 13ms/step - loss: 374.7298 - val_loss: 181.2728\n",
      "Epoch 369/500\n",
      "12/12 [==============================] - 0s 7ms/step - loss: 370.2347 - val_loss: 178.1258\n",
      "Epoch 370/500\n",
      "12/12 [==============================] - 0s 8ms/step - loss: 365.7776 - val_loss: 175.0140\n",
      "Epoch 371/500\n",
      "12/12 [==============================] - 0s 7ms/step - loss: 361.3590 - val_loss: 171.9370\n",
      "Epoch 372/500\n",
      "12/12 [==============================] - 0s 6ms/step - loss: 356.9785 - val_loss: 168.8949\n",
      "Epoch 373/500\n",
      "12/12 [==============================] - 0s 6ms/step - loss: 352.6356 - val_loss: 165.8871\n",
      "Epoch 374/500\n",
      "12/12 [==============================] - 0s 6ms/step - loss: 348.3304 - val_loss: 162.9137\n",
      "Epoch 375/500\n",
      "12/12 [==============================] - 0s 6ms/step - loss: 344.0629 - val_loss: 159.9747\n",
      "Epoch 376/500\n",
      "12/12 [==============================] - 0s 6ms/step - loss: 339.8328 - val_loss: 157.0696\n",
      "Epoch 377/500\n",
      "12/12 [==============================] - 0s 7ms/step - loss: 335.6399 - val_loss: 154.1987\n",
      "Epoch 378/500\n",
      "12/12 [==============================] - 0s 8ms/step - loss: 331.4845 - val_loss: 151.3613\n",
      "Epoch 379/500\n",
      "12/12 [==============================] - 0s 7ms/step - loss: 327.3656 - val_loss: 148.5574\n",
      "Epoch 380/500\n",
      "12/12 [==============================] - 0s 6ms/step - loss: 323.2834 - val_loss: 145.7867\n",
      "Epoch 381/500\n",
      "12/12 [==============================] - 0s 7ms/step - loss: 319.2379 - val_loss: 143.0493\n",
      "Epoch 382/500\n",
      "12/12 [==============================] - 0s 7ms/step - loss: 315.2289 - val_loss: 140.3449\n",
      "Epoch 383/500\n",
      "12/12 [==============================] - 0s 6ms/step - loss: 311.2562 - val_loss: 137.6734\n",
      "Epoch 384/500\n",
      "12/12 [==============================] - 0s 6ms/step - loss: 307.3194 - val_loss: 135.0346\n",
      "Epoch 385/500\n",
      "12/12 [==============================] - 0s 8ms/step - loss: 303.4187 - val_loss: 132.4279\n",
      "Epoch 386/500\n",
      "12/12 [==============================] - 0s 6ms/step - loss: 299.5535 - val_loss: 129.8537\n",
      "Epoch 387/500\n",
      "12/12 [==============================] - 0s 6ms/step - loss: 295.7239 - val_loss: 127.3114\n",
      "Epoch 388/500\n",
      "12/12 [==============================] - 0s 8ms/step - loss: 291.9297 - val_loss: 124.8012\n",
      "Epoch 389/500\n",
      "12/12 [==============================] - 0s 6ms/step - loss: 288.1710 - val_loss: 122.3225\n",
      "Epoch 390/500\n",
      "12/12 [==============================] - 0s 6ms/step - loss: 284.4472 - val_loss: 119.8759\n",
      "Epoch 391/500\n",
      "12/12 [==============================] - 0s 14ms/step - loss: 280.7585 - val_loss: 117.4604\n",
      "Epoch 392/500\n",
      "12/12 [==============================] - 0s 7ms/step - loss: 277.1046 - val_loss: 115.0762\n",
      "Epoch 393/500\n",
      "12/12 [==============================] - 0s 8ms/step - loss: 273.4851 - val_loss: 112.7229\n",
      "Epoch 394/500\n",
      "12/12 [==============================] - 0s 7ms/step - loss: 269.9001 - val_loss: 110.4004\n",
      "Epoch 395/500\n",
      "12/12 [==============================] - 0s 7ms/step - loss: 266.3495 - val_loss: 108.1089\n",
      "Epoch 396/500\n",
      "12/12 [==============================] - 0s 6ms/step - loss: 262.8331 - val_loss: 105.8476\n",
      "Epoch 397/500\n",
      "12/12 [==============================] - 0s 6ms/step - loss: 259.3503 - val_loss: 103.6164\n",
      "Epoch 398/500\n",
      "12/12 [==============================] - 0s 8ms/step - loss: 255.9013 - val_loss: 101.4157\n",
      "Epoch 399/500\n",
      "12/12 [==============================] - 0s 7ms/step - loss: 252.4859 - val_loss: 99.2447\n",
      "Epoch 400/500\n",
      "12/12 [==============================] - 0s 7ms/step - loss: 249.1039 - val_loss: 97.1036\n",
      "Epoch 401/500\n",
      "12/12 [==============================] - 0s 7ms/step - loss: 245.7552 - val_loss: 94.9921\n",
      "Epoch 402/500\n",
      "12/12 [==============================] - 0s 6ms/step - loss: 242.4398 - val_loss: 92.9101\n",
      "Epoch 403/500\n",
      "12/12 [==============================] - 0s 6ms/step - loss: 239.1571 - val_loss: 90.8571\n",
      "Epoch 404/500\n",
      "12/12 [==============================] - 0s 6ms/step - loss: 235.9073 - val_loss: 88.8332\n",
      "Epoch 405/500\n",
      "12/12 [==============================] - 0s 6ms/step - loss: 232.6900 - val_loss: 86.8382\n",
      "Epoch 406/500\n",
      "12/12 [==============================] - 0s 6ms/step - loss: 229.5049 - val_loss: 84.8718\n",
      "Epoch 407/500\n",
      "12/12 [==============================] - 0s 6ms/step - loss: 226.3524 - val_loss: 82.9341\n",
      "Epoch 408/500\n",
      "12/12 [==============================] - 0s 6ms/step - loss: 223.2320 - val_loss: 81.0246\n",
      "Epoch 409/500\n",
      "12/12 [==============================] - 0s 11ms/step - loss: 220.1433 - val_loss: 79.1432\n",
      "Epoch 410/500\n",
      "12/12 [==============================] - 0s 8ms/step - loss: 217.0864 - val_loss: 77.2895\n",
      "Epoch 411/500\n",
      "12/12 [==============================] - 0s 7ms/step - loss: 214.0608 - val_loss: 75.4639\n",
      "Epoch 412/500\n",
      "12/12 [==============================] - 0s 6ms/step - loss: 211.0668 - val_loss: 73.6656\n",
      "Epoch 413/500\n",
      "12/12 [==============================] - 0s 8ms/step - loss: 208.1041 - val_loss: 71.8947\n",
      "Epoch 414/500\n",
      "12/12 [==============================] - 0s 7ms/step - loss: 205.1721 - val_loss: 70.1512\n",
      "Epoch 415/500\n",
      "12/12 [==============================] - 0s 7ms/step - loss: 202.2714 - val_loss: 68.4346\n",
      "Epoch 416/500\n",
      "12/12 [==============================] - 0s 6ms/step - loss: 199.4012 - val_loss: 66.7446\n",
      "Epoch 417/500\n",
      "12/12 [==============================] - 0s 6ms/step - loss: 196.5614 - val_loss: 65.0815\n",
      "Epoch 418/500\n",
      "12/12 [==============================] - 0s 7ms/step - loss: 193.7522 - val_loss: 63.4446\n",
      "Epoch 419/500\n",
      "12/12 [==============================] - 0s 7ms/step - loss: 190.9729 - val_loss: 61.8341\n",
      "Epoch 420/500\n",
      "12/12 [==============================] - 0s 9ms/step - loss: 188.2238 - val_loss: 60.2496\n",
      "Epoch 421/500\n",
      "12/12 [==============================] - 0s 10ms/step - loss: 185.5045 - val_loss: 58.6911\n",
      "Epoch 422/500\n",
      "12/12 [==============================] - 0s 9ms/step - loss: 182.8148 - val_loss: 57.1582\n",
      "Epoch 423/500\n",
      "12/12 [==============================] - 0s 16ms/step - loss: 180.1546 - val_loss: 55.6508\n",
      "Epoch 424/500\n",
      "12/12 [==============================] - 0s 7ms/step - loss: 177.5236 - val_loss: 54.1687\n",
      "Epoch 425/500\n",
      "12/12 [==============================] - 0s 7ms/step - loss: 174.9219 - val_loss: 52.7117\n",
      "Epoch 426/500\n",
      "12/12 [==============================] - 0s 8ms/step - loss: 172.3491 - val_loss: 51.2797\n",
      "Epoch 427/500\n",
      "12/12 [==============================] - 0s 6ms/step - loss: 169.8051 - val_loss: 49.8725\n",
      "Epoch 428/500\n",
      "12/12 [==============================] - 0s 6ms/step - loss: 167.2897 - val_loss: 48.4897\n",
      "Epoch 429/500\n",
      "12/12 [==============================] - 0s 7ms/step - loss: 164.8025 - val_loss: 47.1315\n",
      "Epoch 430/500\n",
      "12/12 [==============================] - 0s 11ms/step - loss: 162.3438 - val_loss: 45.7971\n",
      "Epoch 431/500\n",
      "12/12 [==============================] - 0s 11ms/step - loss: 159.9131 - val_loss: 44.4868\n",
      "Epoch 432/500\n",
      "12/12 [==============================] - 0s 7ms/step - loss: 157.5101 - val_loss: 43.2003\n",
      "Epoch 433/500\n",
      "12/12 [==============================] - 0s 14ms/step - loss: 155.1351 - val_loss: 41.9374\n",
      "Epoch 434/500\n",
      "12/12 [==============================] - 0s 7ms/step - loss: 152.7875 - val_loss: 40.6980\n",
      "Epoch 435/500\n",
      "12/12 [==============================] - 0s 7ms/step - loss: 150.4673 - val_loss: 39.4816\n",
      "Epoch 436/500\n",
      "12/12 [==============================] - 0s 6ms/step - loss: 148.1742 - val_loss: 38.2884\n",
      "Epoch 437/500\n",
      "12/12 [==============================] - 0s 6ms/step - loss: 145.9082 - val_loss: 37.1179\n",
      "Epoch 438/500\n",
      "12/12 [==============================] - 0s 8ms/step - loss: 143.6690 - val_loss: 35.9701\n",
      "Epoch 439/500\n",
      "12/12 [==============================] - 0s 8ms/step - loss: 141.4565 - val_loss: 34.8449\n",
      "Epoch 440/500\n",
      "12/12 [==============================] - 0s 8ms/step - loss: 139.2706 - val_loss: 33.7417\n",
      "Epoch 441/500\n",
      "12/12 [==============================] - 0s 10ms/step - loss: 137.1108 - val_loss: 32.6607\n",
      "Epoch 442/500\n",
      "12/12 [==============================] - 0s 10ms/step - loss: 134.9771 - val_loss: 31.6016\n",
      "Epoch 443/500\n",
      "12/12 [==============================] - 0s 10ms/step - loss: 132.8693 - val_loss: 30.5640\n",
      "Epoch 444/500\n",
      "12/12 [==============================] - 0s 15ms/step - loss: 130.7873 - val_loss: 29.5479\n",
      "Epoch 445/500\n",
      "12/12 [==============================] - 0s 8ms/step - loss: 128.7311 - val_loss: 28.5532\n",
      "Epoch 446/500\n",
      "12/12 [==============================] - 0s 10ms/step - loss: 126.7001 - val_loss: 27.5796\n",
      "Epoch 447/500\n",
      "12/12 [==============================] - 0s 7ms/step - loss: 124.6943 - val_loss: 26.6267\n",
      "Epoch 448/500\n",
      "12/12 [==============================] - 0s 6ms/step - loss: 122.7133 - val_loss: 25.6946\n",
      "Epoch 449/500\n",
      "12/12 [==============================] - 0s 6ms/step - loss: 120.7574 - val_loss: 24.7831\n",
      "Epoch 450/500\n",
      "12/12 [==============================] - 0s 7ms/step - loss: 118.8263 - val_loss: 23.8918\n",
      "Epoch 451/500\n",
      "12/12 [==============================] - 0s 7ms/step - loss: 116.9196 - val_loss: 23.0207\n",
      "Epoch 452/500\n",
      "12/12 [==============================] - 0s 7ms/step - loss: 115.0373 - val_loss: 22.1695\n",
      "Epoch 453/500\n",
      "12/12 [==============================] - 0s 8ms/step - loss: 113.1789 - val_loss: 21.3380\n",
      "Epoch 454/500\n",
      "12/12 [==============================] - 0s 7ms/step - loss: 111.3446 - val_loss: 20.5261\n",
      "Epoch 455/500\n",
      "12/12 [==============================] - 0s 6ms/step - loss: 109.5343 - val_loss: 19.7335\n",
      "Epoch 456/500\n",
      "12/12 [==============================] - 0s 5ms/step - loss: 107.7475 - val_loss: 18.9602\n",
      "Epoch 457/500\n",
      "12/12 [==============================] - 0s 6ms/step - loss: 105.9842 - val_loss: 18.2058\n",
      "Epoch 458/500\n",
      "12/12 [==============================] - 0s 7ms/step - loss: 104.2442 - val_loss: 17.4701\n",
      "Epoch 459/500\n",
      "12/12 [==============================] - 0s 6ms/step - loss: 102.5272 - val_loss: 16.7530\n",
      "Epoch 460/500\n",
      "12/12 [==============================] - 0s 5ms/step - loss: 100.8329 - val_loss: 16.0543\n",
      "Epoch 461/500\n",
      "12/12 [==============================] - 0s 6ms/step - loss: 99.1614 - val_loss: 15.3738\n",
      "Epoch 462/500\n",
      "12/12 [==============================] - 0s 7ms/step - loss: 97.5128 - val_loss: 14.7112\n",
      "Epoch 463/500\n",
      "12/12 [==============================] - 0s 11ms/step - loss: 95.8862 - val_loss: 14.0665\n",
      "Epoch 464/500\n",
      "12/12 [==============================] - 0s 6ms/step - loss: 94.2819 - val_loss: 13.4393\n",
      "Epoch 465/500\n",
      "12/12 [==============================] - 0s 7ms/step - loss: 92.6995 - val_loss: 12.8296\n",
      "Epoch 466/500\n",
      "12/12 [==============================] - 0s 7ms/step - loss: 91.1389 - val_loss: 12.2371\n",
      "Epoch 467/500\n",
      "12/12 [==============================] - 0s 6ms/step - loss: 89.6000 - val_loss: 11.6615\n",
      "Epoch 468/500\n",
      "12/12 [==============================] - 0s 6ms/step - loss: 88.0825 - val_loss: 11.1029\n",
      "Epoch 469/500\n",
      "12/12 [==============================] - 0s 7ms/step - loss: 86.5864 - val_loss: 10.5608\n",
      "Epoch 470/500\n",
      "12/12 [==============================] - 0s 6ms/step - loss: 85.1113 - val_loss: 10.0351\n",
      "Epoch 471/500\n",
      "12/12 [==============================] - 0s 6ms/step - loss: 83.6569 - val_loss: 9.5256\n",
      "Epoch 472/500\n",
      "12/12 [==============================] - 0s 6ms/step - loss: 82.2233 - val_loss: 9.0322\n",
      "Epoch 473/500\n",
      "12/12 [==============================] - 0s 6ms/step - loss: 80.8100 - val_loss: 8.5546\n",
      "Epoch 474/500\n",
      "12/12 [==============================] - 0s 6ms/step - loss: 79.4172 - val_loss: 8.0928\n",
      "Epoch 475/500\n",
      "12/12 [==============================] - 0s 6ms/step - loss: 78.0447 - val_loss: 7.6463\n",
      "Epoch 476/500\n",
      "12/12 [==============================] - 0s 7ms/step - loss: 76.6922 - val_loss: 7.2152\n",
      "Epoch 477/500\n",
      "12/12 [==============================] - 0s 6ms/step - loss: 75.3594 - val_loss: 6.7993\n",
      "Epoch 478/500\n",
      "12/12 [==============================] - 0s 6ms/step - loss: 74.0465 - val_loss: 6.3981\n",
      "Epoch 479/500\n",
      "12/12 [==============================] - 0s 6ms/step - loss: 72.7529 - val_loss: 6.0116\n",
      "Epoch 480/500\n",
      "12/12 [==============================] - 0s 6ms/step - loss: 71.4785 - val_loss: 5.6396\n",
      "Epoch 481/500\n",
      "12/12 [==============================] - 0s 6ms/step - loss: 70.2232 - val_loss: 5.2819\n",
      "Epoch 482/500\n",
      "12/12 [==============================] - 0s 6ms/step - loss: 68.9868 - val_loss: 4.9384\n",
      "Epoch 483/500\n",
      "12/12 [==============================] - 0s 5ms/step - loss: 67.7693 - val_loss: 4.6088\n",
      "Epoch 484/500\n",
      "12/12 [==============================] - 0s 6ms/step - loss: 66.5704 - val_loss: 4.2930\n",
      "Epoch 485/500\n",
      "12/12 [==============================] - 0s 6ms/step - loss: 65.3896 - val_loss: 3.9906\n",
      "Epoch 486/500\n",
      "12/12 [==============================] - 0s 5ms/step - loss: 64.2270 - val_loss: 3.7017\n",
      "Epoch 487/500\n",
      "12/12 [==============================] - 0s 6ms/step - loss: 63.0827 - val_loss: 3.4260\n",
      "Epoch 488/500\n",
      "12/12 [==============================] - 0s 6ms/step - loss: 61.9563 - val_loss: 3.1632\n",
      "Epoch 489/500\n",
      "12/12 [==============================] - 0s 6ms/step - loss: 60.8476 - val_loss: 2.9134\n",
      "Epoch 490/500\n",
      "12/12 [==============================] - 0s 5ms/step - loss: 59.7564 - val_loss: 2.6760\n",
      "Epoch 491/500\n",
      "12/12 [==============================] - 0s 6ms/step - loss: 58.6826 - val_loss: 2.4511\n",
      "Epoch 492/500\n",
      "12/12 [==============================] - 0s 6ms/step - loss: 57.6258 - val_loss: 2.2384\n",
      "Epoch 493/500\n",
      "12/12 [==============================] - 0s 6ms/step - loss: 56.5859 - val_loss: 2.0378\n",
      "Epoch 494/500\n",
      "12/12 [==============================] - 0s 6ms/step - loss: 55.5629 - val_loss: 1.8491\n",
      "Epoch 495/500\n",
      "12/12 [==============================] - 0s 6ms/step - loss: 54.5565 - val_loss: 1.6720\n",
      "Epoch 496/500\n",
      "12/12 [==============================] - 0s 12ms/step - loss: 53.5665 - val_loss: 1.5064\n",
      "Epoch 497/500\n",
      "12/12 [==============================] - 0s 7ms/step - loss: 52.5929 - val_loss: 1.3520\n",
      "Epoch 498/500\n",
      "12/12 [==============================] - 0s 7ms/step - loss: 51.6352 - val_loss: 1.2089\n",
      "Epoch 499/500\n",
      "12/12 [==============================] - 0s 6ms/step - loss: 50.6935 - val_loss: 1.0767\n",
      "Epoch 500/500\n",
      "12/12 [==============================] - 0s 6ms/step - loss: 49.7678 - val_loss: 0.9552\n"
     ]
    }
   ],
   "source": [
    "C0 = tf.Variable(88.1552, name=\"C0\", trainable=True, dtype=tf.float32)\n",
    "K0 = tf.Variable(-0.0026, name=\"K0\", trainable=True, dtype=tf.float32)\n",
    "K1 = tf.Variable(-0.0004, name=\"K1\", trainable=True, dtype=tf.float32)\n",
    "a = tf.Variable(0.0000, name=\"a\", trainable=True, dtype=tf.float32)\n",
    "b = tf.Variable(0.0102, name=\"b\", trainable=True, dtype=tf.float32)\n",
    "c = tf.Variable(2.8734, name=\"c\", trainable=True, dtype=tf.float32)\n",
    "\n",
    "splitr = 0.8\n",
    "\n",
    "\n",
    "def loss_fn(y_true, y_pred):\n",
    "    squared_difference = tf.square(y_true[:, 0] - y_pred[:, 0])\n",
    "    #squared_difference2 = tf.square(y_true[:, 2]-y_pred[:, 2])\n",
    "    #squared_difference1 = tf.square(y_true[:, 1]-y_pred[:, 1])\n",
    "    epsilon = 1\n",
    "    squared_difference3 = tf.square(\n",
    "        y_pred[:, 1] - (\n",
    "            y_pred[:, 0] * (\n",
    "                K0 - K1 * (\n",
    "                    9 * a * tf.math.log((y_pred[:, 0] + epsilon) / C0) / (K0 - K1 * c)**2 +\n",
    "                    4 * b * tf.math.log((y_pred[:, 0] + epsilon) / C0) / (K0 - K1 * c) + c\n",
    "                )\n",
    "            )\n",
    "        )\n",
    "    )\n",
    "    return tf.reduce_mean(squared_difference, axis=-1) + 0.2*tf.reduce_mean(squared_difference3, axis=-1)\n",
    "model = Sequential()\n",
    "model.add(LSTM(100, input_shape=(trainX.shape[1], trainX.shape[2])))\n",
    "model.add(Dense(60))\n",
    "model.compile(loss=loss_fn, optimizer='adam')\n",
    "history = model.fit(trainX[:int(splitr*trainX.shape[0])], trainy[:int(splitr*trainX.shape[0])], epochs=500, batch_size=64, validation_data=(trainX[int(splitr*trainX.shape[0]):trainX.shape[0]], trainy[int(splitr*trainX.shape[0]):trainX.shape[0]]), shuffle=False)"
   ]
  },
  {
   "cell_type": "code",
   "execution_count": 19,
   "metadata": {
    "colab": {
     "base_uri": "https://localhost:8080/"
    },
    "id": "yJL101rPyuoT",
    "outputId": "239ff2b1-c186-423a-d316-939dfdd7c793"
   },
   "outputs": [
    {
     "name": "stdout",
     "output_type": "stream",
     "text": [
      "1/1 [==============================] - 0s 414ms/step\n"
     ]
    }
   ],
   "source": [
    "forecast_without_mc = forecastX\n",
    "yhat_without_mc = model.predict(forecast_without_mc) # Step Ahead Prediction\n",
    "forecast_without_mc = forecast_without_mc.reshape((forecast_without_mc.shape[0], forecast_without_mc.shape[2])) # Historical Input"
   ]
  },
  {
   "cell_type": "code",
   "execution_count": 20,
   "metadata": {
    "colab": {
     "base_uri": "https://localhost:8080/"
    },
    "id": "g9dQELcJ8wbp",
    "outputId": "4dc7671b-b1a8-48d5-8744-a86f98446109"
   },
   "outputs": [
    {
     "data": {
      "text/plain": [
       "(1, 1, 251)"
      ]
     },
     "execution_count": 20,
     "metadata": {},
     "output_type": "execute_result"
    }
   ],
   "source": [
    "forecastX.shape"
   ]
  },
  {
   "cell_type": "code",
   "execution_count": 21,
   "metadata": {
    "colab": {
     "base_uri": "https://localhost:8080/"
    },
    "id": "IS2kyIKG1Kbr",
    "outputId": "f31b3485-8e26-452f-9298-ea8bf7e80ad1"
   },
   "outputs": [
    {
     "data": {
      "text/plain": [
       "(1, 251)"
      ]
     },
     "execution_count": 21,
     "metadata": {},
     "output_type": "execute_result"
    }
   ],
   "source": [
    "forecast_without_mc.shape"
   ]
  },
  {
   "cell_type": "code",
   "execution_count": 22,
   "metadata": {
    "id": "0u6VIzaDyuoT"
   },
   "outputs": [],
   "source": [
    "inv_yhat_without_mc = np.concatenate((forecast_without_mc, yhat_without_mc), axis=1) # Concatenation of predicted values with Historical Data\n",
    "#inv_yhat_without_mc = scaler.inverse_transform(inv_yhat_without_mc) # Transform labels back to original encoding"
   ]
  },
  {
   "cell_type": "code",
   "execution_count": 23,
   "metadata": {
    "colab": {
     "base_uri": "https://localhost:8080/"
    },
    "id": "EUEcw0LX07oU",
    "outputId": "cfc32397-9c37-4b43-d087-584bb31c3dcc"
   },
   "outputs": [
    {
     "data": {
      "text/plain": [
       "(1, 311)"
      ]
     },
     "execution_count": 23,
     "metadata": {},
     "output_type": "execute_result"
    }
   ],
   "source": [
    "inv_yhat_without_mc.shape"
   ]
  },
  {
   "cell_type": "code",
   "execution_count": 24,
   "metadata": {
    "id": "31OWVbSh_305"
   },
   "outputs": [],
   "source": [
    "fforecast = inv_yhat_without_mc[:,-300:]"
   ]
  },
  {
   "cell_type": "code",
   "execution_count": 25,
   "metadata": {},
   "outputs": [
    {
     "data": {
      "text/plain": [
       "(1, 300)"
      ]
     },
     "execution_count": 25,
     "metadata": {},
     "output_type": "execute_result"
    }
   ],
   "source": [
    "fforecast.shape"
   ]
  },
  {
   "cell_type": "code",
   "execution_count": 26,
   "metadata": {
    "id": "BlpGH2FOAiRF"
   },
   "outputs": [],
   "source": [
    "final_forecast = fforecast[:,0:300:3]"
   ]
  },
  {
   "cell_type": "code",
   "execution_count": 27,
   "metadata": {},
   "outputs": [
    {
     "data": {
      "text/plain": [
       "(1, 300)"
      ]
     },
     "execution_count": 27,
     "metadata": {},
     "output_type": "execute_result"
    }
   ],
   "source": [
    "fforecast.shape"
   ]
  },
  {
   "cell_type": "code",
   "execution_count": 28,
   "metadata": {
    "id": "CXkgkj_LBk_t"
   },
   "outputs": [],
   "source": [
    "# code to replace all negative value with 0\n",
    "final_forecast[final_forecast<0] = 0"
   ]
  },
  {
   "cell_type": "code",
   "execution_count": 29,
   "metadata": {},
   "outputs": [
    {
     "data": {
      "text/plain": [
       "array([[7.34337768e+01, 7.33973623e+01, 7.33609477e+01, 7.33245331e+01,\n",
       "        7.32881186e+01, 7.32517040e+01, 7.32152895e+01, 7.31788749e+01,\n",
       "        7.31424603e+01, 7.31060458e+01, 7.30696312e+01, 7.30332166e+01,\n",
       "        7.29968020e+01, 7.29603875e+01, 7.29239729e+01, 7.28839216e+01,\n",
       "        7.28368627e+01, 7.27898039e+01, 7.27427451e+01, 7.26956863e+01,\n",
       "        7.26486275e+01, 7.26015686e+01, 7.25545098e+01, 7.25074510e+01,\n",
       "        7.24603922e+01, 7.24133333e+01, 7.23662745e+01, 7.23192157e+01,\n",
       "        7.22721569e+01, 7.22250980e+01, 7.21780392e+01, 7.21309804e+01,\n",
       "        7.20839216e+01, 7.20368627e+01, 7.19898039e+01, 7.19427451e+01,\n",
       "        7.18956863e+01, 7.18486274e+01, 7.18015686e+01, 7.17545098e+01,\n",
       "        7.17074510e+01, 7.16603922e+01, 7.16133333e+01, 7.15662745e+01,\n",
       "        7.15192157e+01, 7.14721569e+01, 7.14250980e+01, 7.13780392e+01,\n",
       "        7.13309804e+01, 7.12839216e+01, 7.12368628e+01, 7.12142484e+01,\n",
       "        7.12052848e+01, 7.11963212e+01, 7.11873576e+01, 7.11783940e+01,\n",
       "        7.11694304e+01, 7.11604669e+01, 7.11515033e+01, 7.11425397e+01,\n",
       "        7.11335761e+01, 7.11246125e+01, 7.11156489e+01, 7.11066853e+01,\n",
       "        7.10977218e+01, 7.10887582e+01, 7.10797946e+01, 7.10708310e+01,\n",
       "        7.10618674e+01, 7.10529038e+01, 7.10439402e+01, 7.10349767e+01,\n",
       "        7.10260131e+01, 7.10170495e+01, 7.10080859e+01, 7.09991223e+01,\n",
       "        7.09901587e+01, 7.09811951e+01, 7.09722316e+01, 7.09632680e+01,\n",
       "        7.06933365e+01, 1.22558773e-01, 2.70984024e-01, 0.00000000e+00,\n",
       "        1.08551532e-02, 3.46581131e-01, 1.65300414e-01, 0.00000000e+00,\n",
       "        0.00000000e+00, 2.19670147e-01, 3.29043865e-01, 2.26089701e-01,\n",
       "        0.00000000e+00, 1.52217552e-01, 8.11520636e-01, 0.00000000e+00,\n",
       "        8.18514675e-02, 0.00000000e+00, 8.66116464e-01, 1.72429889e-01]])"
      ]
     },
     "execution_count": 29,
     "metadata": {},
     "output_type": "execute_result"
    }
   ],
   "source": [
    "final_forecast"
   ]
  },
  {
   "cell_type": "code",
   "execution_count": 30,
   "metadata": {},
   "outputs": [
    {
     "data": {
      "text/plain": [
       "(1, 100)"
      ]
     },
     "execution_count": 30,
     "metadata": {},
     "output_type": "execute_result"
    }
   ],
   "source": [
    "final_forecast.shape"
   ]
  },
  {
   "cell_type": "code",
   "execution_count": 31,
   "metadata": {},
   "outputs": [
    {
     "data": {
      "text/plain": [
       "(100,)"
      ]
     },
     "execution_count": 31,
     "metadata": {},
     "output_type": "execute_result"
    }
   ],
   "source": [
    "test.shape"
   ]
  },
  {
   "cell_type": "code",
   "execution_count": 32,
   "metadata": {},
   "outputs": [],
   "source": [
    "training_set = np.array(training_set)\n",
    "test = np.array(test)\n",
    "final_forecast = np.array(final_forecast.squeeze(0))"
   ]
  },
  {
   "cell_type": "code",
   "execution_count": 33,
   "metadata": {},
   "outputs": [
    {
     "data": {
      "text/plain": [
       "array([70.11813725, 70.11160131, 70.10506536, 70.09852941, 70.09199346,\n",
       "       70.08545752, 70.07892157, 70.07238562, 70.06584967, 70.05931373,\n",
       "       70.05277778, 70.04624183, 70.03970588, 70.03316993, 70.02663399,\n",
       "       70.02009804, 70.01356209, 70.00702614, 70.0004902 , 69.99395425,\n",
       "       69.9874183 , 69.98088235, 69.97434641, 69.96781046, 69.96127451,\n",
       "       69.95473856, 69.94820261, 69.94166667, 69.93513072, 69.92859477,\n",
       "       69.92205882, 69.91552288, 69.90898693, 69.90245098, 69.89066293,\n",
       "       69.87572362, 69.86078431, 69.845845  , 69.8309057 , 69.81596639,\n",
       "       69.80102708, 69.78608777, 69.77114846, 69.75620915, 69.74126984,\n",
       "       69.72633053, 69.71139122, 69.69645191, 69.68151261, 69.6665733 ,\n",
       "       69.65163399, 69.63669468, 69.62175537, 69.60681606, 69.59187675,\n",
       "       69.57693744, 69.56199813, 69.54705882, 69.53211951, 69.51718021,\n",
       "       69.5022409 , 69.48730159, 69.47236228, 69.45742297, 69.44248366,\n",
       "       69.42754435, 69.41260504, 69.39766573, 69.38272642, 69.36778711,\n",
       "       69.35284781, 69.3379085 , 69.32296919, 69.30802988, 69.29309057,\n",
       "       69.27815126, 69.26321195, 69.24827264, 69.23333333, 69.21839402,\n",
       "       69.20345472, 69.18851541, 69.1735761 , 69.15863679, 69.14369748,\n",
       "       69.12875817, 69.11381886, 69.09887955, 69.08394024, 69.06900093,\n",
       "       69.05406162, 69.03912232, 69.02418301, 69.0092437 , 68.99430439,\n",
       "       68.97936508, 68.96442577, 68.94948646, 68.93454715, 68.91960784])"
      ]
     },
     "execution_count": 33,
     "metadata": {},
     "output_type": "execute_result"
    }
   ],
   "source": [
    "test"
   ]
  },
  {
   "cell_type": "code",
   "execution_count": 34,
   "metadata": {},
   "outputs": [
    {
     "data": {
      "text/plain": [
       "(100,)"
      ]
     },
     "execution_count": 34,
     "metadata": {},
     "output_type": "execute_result"
    }
   ],
   "source": [
    "test.shape"
   ]
  },
  {
   "cell_type": "code",
   "execution_count": 35,
   "metadata": {},
   "outputs": [
    {
     "data": {
      "text/plain": [
       "(100,)"
      ]
     },
     "execution_count": 35,
     "metadata": {},
     "output_type": "execute_result"
    }
   ],
   "source": [
    "final_forecast.shape"
   ]
  },
  {
   "cell_type": "code",
   "execution_count": 36,
   "metadata": {},
   "outputs": [
    {
     "data": {
      "text/plain": [
       "(100,)"
      ]
     },
     "execution_count": 36,
     "metadata": {},
     "output_type": "execute_result"
    }
   ],
   "source": [
    "test.shape"
   ]
  },
  {
   "cell_type": "code",
   "execution_count": 37,
   "metadata": {},
   "outputs": [
    {
     "name": "stdout",
     "output_type": "stream",
     "text": [
      "30.081008006503097\n",
      "14.833147512698737\n"
     ]
    }
   ],
   "source": [
    "import math\n",
    "MSE = np.square(np.subtract(np.array(test),np.array(final_forecast))).mean()   \n",
    "rsme = math.sqrt(MSE)\n",
    "print(rsme)  \n",
    "MAE = np.abs(np.subtract(np.array(test),np.array(final_forecast))).mean()   \n",
    "mae = MAE\n",
    "print(mae)"
   ]
  }
 ],
 "metadata": {
  "colab": {
   "provenance": []
  },
  "kernelspec": {
   "display_name": "Python 3",
   "language": "python",
   "name": "python3"
  },
  "language_info": {
   "codemirror_mode": {
    "name": "ipython",
    "version": 3
   },
   "file_extension": ".py",
   "mimetype": "text/x-python",
   "name": "python",
   "nbconvert_exporter": "python",
   "pygments_lexer": "ipython3",
   "version": "3.9.13"
  }
 },
 "nbformat": 4,
 "nbformat_minor": 0
}
