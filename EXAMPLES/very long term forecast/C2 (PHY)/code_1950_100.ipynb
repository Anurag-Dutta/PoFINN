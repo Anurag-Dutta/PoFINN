{
 "cells": [
  {
   "cell_type": "markdown",
   "metadata": {
    "id": "pCGKeZ2gyuoQ"
   },
   "source": [
    "_Importing Required Libraries_"
   ]
  },
  {
   "cell_type": "code",
   "execution_count": 1,
   "metadata": {
    "colab": {
     "base_uri": "https://localhost:8080/"
    },
    "id": "A-6LN-zXiLcM",
    "outputId": "4de610a4-f8b8-4f49-c6c0-89de299ccedc"
   },
   "outputs": [
    {
     "name": "stdout",
     "output_type": "stream",
     "text": [
      "Requirement already satisfied: hampel in c:\\users\\anurag dutta\\appdata\\local\\packages\\pythonsoftwarefoundation.python.3.9_qbz5n2kfra8p0\\localcache\\local-packages\\python39\\site-packages (0.0.5)\n",
      "Requirement already satisfied: numpy in c:\\users\\anurag dutta\\appdata\\local\\packages\\pythonsoftwarefoundation.python.3.9_qbz5n2kfra8p0\\localcache\\local-packages\\python39\\site-packages (from hampel) (1.26.4)\n",
      "Requirement already satisfied: pandas in c:\\users\\anurag dutta\\appdata\\local\\packages\\pythonsoftwarefoundation.python.3.9_qbz5n2kfra8p0\\localcache\\local-packages\\python39\\site-packages (from hampel) (1.5.2)\n",
      "Requirement already satisfied: python-dateutil>=2.8.1 in c:\\users\\anurag dutta\\appdata\\local\\packages\\pythonsoftwarefoundation.python.3.9_qbz5n2kfra8p0\\localcache\\local-packages\\python39\\site-packages (from pandas->hampel) (2.8.2)\n",
      "Requirement already satisfied: pytz>=2020.1 in c:\\users\\anurag dutta\\appdata\\local\\packages\\pythonsoftwarefoundation.python.3.9_qbz5n2kfra8p0\\localcache\\local-packages\\python39\\site-packages (from pandas->hampel) (2023.3.post1)\n",
      "Requirement already satisfied: six>=1.5 in c:\\users\\anurag dutta\\appdata\\local\\packages\\pythonsoftwarefoundation.python.3.9_qbz5n2kfra8p0\\localcache\\local-packages\\python39\\site-packages (from python-dateutil>=2.8.1->pandas->hampel) (1.16.0)\n",
      "Note: you may need to restart the kernel to use updated packages.\n"
     ]
    },
    {
     "name": "stderr",
     "output_type": "stream",
     "text": [
      "\n",
      "[notice] A new release of pip is available: 24.2 -> 24.3.1\n",
      "[notice] To update, run: C:\\Users\\Anurag Dutta\\AppData\\Local\\Microsoft\\WindowsApps\\PythonSoftwareFoundation.Python.3.9_qbz5n2kfra8p0\\python.exe -m pip install --upgrade pip\n"
     ]
    }
   ],
   "source": [
    "pip install hampel"
   ]
  },
  {
   "cell_type": "code",
   "execution_count": 2,
   "metadata": {
    "id": "By_d9uXpaFvZ"
   },
   "outputs": [],
   "source": [
    "from keras.models import Sequential\n",
    "from keras.layers import Dense\n",
    "from keras.layers import LSTM\n",
    "from keras.layers import Dropout\n",
    "import keras\n",
    "import tensorflow as tf\n",
    "from hampel import hampel\n",
    "import numpy as np\n",
    "import matplotlib.pyplot as plt\n",
    "import pandas as pd\n",
    "from sklearn.preprocessing import MinMaxScaler\n",
    "from sklearn.metrics import mean_squared_error, mean_absolute_error\n",
    "from math import sqrt\n",
    "from matplotlib import pyplot\n",
    "from numpy import array"
   ]
  },
  {
   "cell_type": "markdown",
   "metadata": {
    "id": "JyOjBMFayuoR"
   },
   "source": [
    "## Pretraining"
   ]
  },
  {
   "cell_type": "markdown",
   "metadata": {
    "id": "-5QqIY_GyuoR"
   },
   "source": [
    "The `capa_intermittency.dat` feeds the model with the dynamics of the Capacitor"
   ]
  },
  {
   "cell_type": "code",
   "execution_count": 3,
   "metadata": {
    "id": "9dV4a8yfyuoR"
   },
   "outputs": [],
   "source": [
    "data = np.genfromtxt('capa_intermittency.dat')\n",
    "training_set = pd.DataFrame(data).reset_index(drop=True)\n",
    "training_set = training_set.iloc[:,0]"
   ]
  },
  {
   "cell_type": "markdown",
   "metadata": {
    "id": "i7easoxByuoR"
   },
   "source": [
    "## Computing the Gradient"
   ]
  },
  {
   "cell_type": "markdown",
   "metadata": {
    "id": "5SnyolJTyuoR"
   },
   "source": [
    "_Calculating the value of_ $\\frac{dx}{dt}$"
   ]
  },
  {
   "cell_type": "code",
   "execution_count": 4,
   "metadata": {
    "colab": {
     "base_uri": "https://localhost:8080/"
    },
    "id": "wmIbVfIvyuoR",
    "outputId": "aa4e3136-c854-465d-d2e9-81cfd546e440"
   },
   "outputs": [
    {
     "name": "stdout",
     "output_type": "stream",
     "text": [
      "1.0\n",
      "1        0.000298\n",
      "2        0.000298\n",
      "3        0.000297\n",
      "4        0.000297\n",
      "5        0.000297\n",
      "           ...   \n",
      "9996     0.000018\n",
      "9997     0.000018\n",
      "9998     0.000018\n",
      "9999     0.000018\n",
      "10000    0.000018\n",
      "Name: 0, Length: 10000, dtype: float64\n"
     ]
    }
   ],
   "source": [
    "t_diff = 1\n",
    "print(training_set.max())\n",
    "gradient_t = (training_set.diff()/t_diff).iloc[1:] # dx/dt\n",
    "print(gradient_t)"
   ]
  },
  {
   "cell_type": "markdown",
   "metadata": {
    "id": "_2eVeeoxyuoS"
   },
   "source": [
    "## Loading Datasets"
   ]
  },
  {
   "cell_type": "code",
   "execution_count": 5,
   "metadata": {
    "id": "0J-NKyIEyuoS"
   },
   "outputs": [
    {
     "data": {
      "text/plain": [
       "0       90.500000\n",
       "1       90.275910\n",
       "2       90.051821\n",
       "3       89.827731\n",
       "4       89.603641\n",
       "          ...    \n",
       "2045    60.143732\n",
       "2046    60.117122\n",
       "2047    60.090511\n",
       "2048    60.063901\n",
       "2049    60.037290\n",
       "Name: C2, Length: 2050, dtype: float64"
      ]
     },
     "execution_count": 5,
     "metadata": {},
     "output_type": "execute_result"
    }
   ],
   "source": [
    "data = pd.read_csv(\"c2_interpolated_1950_100.csv\")\n",
    "training_set = data.iloc[:, 1]\n",
    "training_set"
   ]
  },
  {
   "cell_type": "code",
   "execution_count": 6,
   "metadata": {
    "colab": {
     "base_uri": "https://localhost:8080/"
    },
    "id": "-CbNUhJ74UqF",
    "outputId": "20f562d8-8247-49cc-b9c3-00eca5e13e2d"
   },
   "outputs": [
    {
     "data": {
      "text/plain": [
       "0       90.500000\n",
       "1       90.275910\n",
       "2       90.051821\n",
       "3       89.827731\n",
       "4       89.603641\n",
       "          ...    \n",
       "1945     0.000000\n",
       "1946     0.529399\n",
       "1947     0.120285\n",
       "1948     0.000000\n",
       "1949     0.380662\n",
       "Name: C2, Length: 1950, dtype: float64"
      ]
     },
     "execution_count": 6,
     "metadata": {},
     "output_type": "execute_result"
    }
   ],
   "source": [
    "test = training_set.tail(100)\n",
    "test\n",
    "training_set = training_set.head(1950)\n",
    "training_set"
   ]
  },
  {
   "cell_type": "code",
   "execution_count": 7,
   "metadata": {
    "colab": {
     "base_uri": "https://localhost:8080/"
    },
    "id": "X0TwTcq0yuoS",
    "outputId": "37252ed8-d88e-4044-fa7a-922411990b5b"
   },
   "outputs": [
    {
     "name": "stdout",
     "output_type": "stream",
     "text": [
      "0       0.000298\n",
      "1       0.000298\n",
      "2       0.000297\n",
      "3       0.000297\n",
      "4       0.000297\n",
      "          ...   \n",
      "9995    0.000018\n",
      "9996    0.000018\n",
      "9997    0.000018\n",
      "9998    0.000018\n",
      "9999    0.000018\n",
      "Name: 0, Length: 10000, dtype: float64\n"
     ]
    }
   ],
   "source": [
    "training_set = training_set.reset_index(drop=True)\n",
    "gradient_t = gradient_t.reset_index(drop=True)\n",
    "print(gradient_t)"
   ]
  },
  {
   "cell_type": "code",
   "execution_count": 8,
   "metadata": {
    "id": "O2biznZQyuoS"
   },
   "outputs": [],
   "source": [
    "df = pd.concat((training_set, gradient_t), axis=1)\n",
    "df.columns = ['y_t', 'grad_t']"
   ]
  },
  {
   "cell_type": "code",
   "execution_count": 9,
   "metadata": {
    "colab": {
     "base_uri": "https://localhost:8080/",
     "height": 423
    },
    "id": "sk_a5v3tyuoS",
    "outputId": "17563625-e550-45ae-faab-fafa353e44da"
   },
   "outputs": [
    {
     "data": {
      "text/html": [
       "<div>\n",
       "<style scoped>\n",
       "    .dataframe tbody tr th:only-of-type {\n",
       "        vertical-align: middle;\n",
       "    }\n",
       "\n",
       "    .dataframe tbody tr th {\n",
       "        vertical-align: top;\n",
       "    }\n",
       "\n",
       "    .dataframe thead th {\n",
       "        text-align: right;\n",
       "    }\n",
       "</style>\n",
       "<table border=\"1\" class=\"dataframe\">\n",
       "  <thead>\n",
       "    <tr style=\"text-align: right;\">\n",
       "      <th></th>\n",
       "      <th>y_t</th>\n",
       "      <th>grad_t</th>\n",
       "    </tr>\n",
       "  </thead>\n",
       "  <tbody>\n",
       "    <tr>\n",
       "      <th>0</th>\n",
       "      <td>90.500000</td>\n",
       "      <td>0.000298</td>\n",
       "    </tr>\n",
       "    <tr>\n",
       "      <th>1</th>\n",
       "      <td>90.275910</td>\n",
       "      <td>0.000298</td>\n",
       "    </tr>\n",
       "    <tr>\n",
       "      <th>2</th>\n",
       "      <td>90.051821</td>\n",
       "      <td>0.000297</td>\n",
       "    </tr>\n",
       "    <tr>\n",
       "      <th>3</th>\n",
       "      <td>89.827731</td>\n",
       "      <td>0.000297</td>\n",
       "    </tr>\n",
       "    <tr>\n",
       "      <th>4</th>\n",
       "      <td>89.603641</td>\n",
       "      <td>0.000297</td>\n",
       "    </tr>\n",
       "    <tr>\n",
       "      <th>...</th>\n",
       "      <td>...</td>\n",
       "      <td>...</td>\n",
       "    </tr>\n",
       "    <tr>\n",
       "      <th>9995</th>\n",
       "      <td>NaN</td>\n",
       "      <td>0.000018</td>\n",
       "    </tr>\n",
       "    <tr>\n",
       "      <th>9996</th>\n",
       "      <td>NaN</td>\n",
       "      <td>0.000018</td>\n",
       "    </tr>\n",
       "    <tr>\n",
       "      <th>9997</th>\n",
       "      <td>NaN</td>\n",
       "      <td>0.000018</td>\n",
       "    </tr>\n",
       "    <tr>\n",
       "      <th>9998</th>\n",
       "      <td>NaN</td>\n",
       "      <td>0.000018</td>\n",
       "    </tr>\n",
       "    <tr>\n",
       "      <th>9999</th>\n",
       "      <td>NaN</td>\n",
       "      <td>0.000018</td>\n",
       "    </tr>\n",
       "  </tbody>\n",
       "</table>\n",
       "<p>10000 rows × 2 columns</p>\n",
       "</div>"
      ],
      "text/plain": [
       "            y_t    grad_t\n",
       "0     90.500000  0.000298\n",
       "1     90.275910  0.000298\n",
       "2     90.051821  0.000297\n",
       "3     89.827731  0.000297\n",
       "4     89.603641  0.000297\n",
       "...         ...       ...\n",
       "9995        NaN  0.000018\n",
       "9996        NaN  0.000018\n",
       "9997        NaN  0.000018\n",
       "9998        NaN  0.000018\n",
       "9999        NaN  0.000018\n",
       "\n",
       "[10000 rows x 2 columns]"
      ]
     },
     "execution_count": 9,
     "metadata": {},
     "output_type": "execute_result"
    }
   ],
   "source": [
    "df"
   ]
  },
  {
   "cell_type": "markdown",
   "metadata": {
    "id": "-5esyHu5aFvg"
   },
   "source": [
    "## Plot of the External Forcing from Chaotic Differential Equation"
   ]
  },
  {
   "cell_type": "code",
   "execution_count": 10,
   "metadata": {
    "colab": {
     "base_uri": "https://localhost:8080/",
     "height": 447
    },
    "id": "hGnE43tOh-4p",
    "outputId": "fc396503-b624-4fa5-dfbe-f460207405c6"
   },
   "outputs": [
    {
     "data": {
      "text/plain": [
       "<Axes: >"
      ]
     },
     "execution_count": 10,
     "metadata": {},
     "output_type": "execute_result"
    },
    {
     "data": {
      "image/png": "[encoded data removed]",
      "text/plain": [
       "<Figure size 432x288 with 1 Axes>"
      ]
     },
     "metadata": {
      "needs_background": "light"
     },
     "output_type": "display_data"
    }
   ],
   "source": [
    "df.iloc[:, 0].plot()"
   ]
  },
  {
   "cell_type": "code",
   "execution_count": 11,
   "metadata": {
    "colab": {
     "base_uri": "https://localhost:8080/",
     "height": 447
    },
    "id": "ym4xWUUxaFvg",
    "outputId": "ae6a3495-8ce9-437e-ba81-3ed31deedeae"
   },
   "outputs": [
    {
     "name": "stderr",
     "output_type": "stream",
     "text": [
      "C:\\Users\\Anurag Dutta\\AppData\\Local\\Packages\\PythonSoftwareFoundation.Python.3.9_qbz5n2kfra8p0\\LocalCache\\local-packages\\Python39\\site-packages\\pandas\\core\\arraylike.py:402: RuntimeWarning: divide by zero encountered in log\n",
      "  result = getattr(ufunc, method)(*inputs, **kwargs)\n"
     ]
    },
    {
     "data": {
      "text/plain": [
       "<Axes: >"
      ]
     },
     "execution_count": 11,
     "metadata": {},
     "output_type": "execute_result"
    },
    {
     "data": {
      "image/png": "[encoded data removed]",
      "text/plain": [
       "<Figure size 432x288 with 1 Axes>"
      ]
     },
     "metadata": {
      "needs_background": "light"
     },
     "output_type": "display_data"
    }
   ],
   "source": [
    "import numpy as np\n",
    "c0 = 88.1552  # Value for C0\n",
    "K0 = -0.0026  # Value for K0\n",
    "K1 = -0.0004  # Value for K1\n",
    "a = 0.0000    # Value for a\n",
    "b = 0.0102    # Value for b\n",
    "c = 2.8734    # Value for c\n",
    "\n",
    "L = np.minimum(c0, (df.iloc[:, 1] - (df.iloc[:, 0] * (K0 - K1 * (9 * a * np.log(df.iloc[:, 0] / c0) / (K0 - K1 * c)**2 + 4 * b * np.log(df.iloc[:, 0] / c0) / (K0 - K1 * c) + c)))))\n",
    "L.plot()"
   ]
  },
  {
   "cell_type": "markdown",
   "metadata": {
    "id": "9VyEywnwaFvh"
   },
   "source": [
    "## Preprocessing the data into supervised learning"
   ]
  },
  {
   "cell_type": "code",
   "execution_count": 12,
   "metadata": {
    "id": "6V9dXqzdaFvh"
   },
   "outputs": [],
   "source": [
    "# split a sequence into samples\n",
    "def Supervised(data, n_in=1, n_out=1, dropnan=True):\n",
    "    n_vars = 1 if type(data) is list else data.shape[1]\n",
    "    df = pd.DataFrame(data)\n",
    "    cols, names = list(), list()\n",
    "    # input sequence (t-n_in, ... t-1)\n",
    "    for i in range(n_in, 0, -1):\n",
    "        cols.append(df.shift(i))\n",
    "        names += [('var%d(t-%d)' % (j+1, i)) for j in range(n_vars)]\n",
    "    # forecast sequence (t, t+1, ... t+n_out)\n",
    "    for i in range(0, n_out):\n",
    "      cols.append(df.shift(-i))\n",
    "      if i == 0:\n",
    "        names += [('var%d(t)' % (j+1)) for j in range(n_vars)]\n",
    "      else:\n",
    "        names += [('var%d(t+%d)' % (j+1, i)) for j in range(n_vars)]\n",
    "    # put it all together\n",
    "    agg = pd.concat(cols, axis=1)\n",
    "    agg.columns = names\n",
    "    # drop rows with NaN values\n",
    "    if dropnan:\n",
    "       agg.dropna(inplace=True)\n",
    "    return agg"
   ]
  },
  {
   "cell_type": "code",
   "execution_count": 13,
   "metadata": {
    "colab": {
     "base_uri": "https://localhost:8080/"
    },
    "id": "CrzSrT1HnyfH",
    "outputId": "7e75f928-3e47-499d-eac1-51908015ef78"
   },
   "outputs": [
    {
     "name": "stdout",
     "output_type": "stream",
     "text": [
      "     var1(t-350)  var1(t-349)  var1(t-348)  var1(t-347)  var1(t-346)  \\\n",
      "350    90.500000    90.275910    90.051821    89.827731    89.603641   \n",
      "351    90.275910    90.051821    89.827731    89.603641    89.379552   \n",
      "352    90.051821    89.827731    89.603641    89.379552    89.155462   \n",
      "353    89.827731    89.603641    89.379552    89.155462    88.931373   \n",
      "354    89.603641    89.379552    89.155462    88.931373    88.707283   \n",
      "\n",
      "     var1(t-345)  var1(t-344)  var1(t-343)  var1(t-342)  var1(t-341)  ...  \\\n",
      "350    89.379552    89.155462    88.931373    88.707283    88.494958  ...   \n",
      "351    89.155462    88.931373    88.707283    88.494958    88.427731  ...   \n",
      "352    88.931373    88.707283    88.494958    88.427731    88.360504  ...   \n",
      "353    88.707283    88.494958    88.427731    88.360504    88.293277  ...   \n",
      "354    88.494958    88.427731    88.360504    88.293277    88.226050  ...   \n",
      "\n",
      "     var1(t+95)  var2(t+95)  var1(t+96)  var2(t+96)  var1(t+97)  var2(t+97)  \\\n",
      "350   79.071008    0.000263   79.054202    0.000263   79.037395    0.000263   \n",
      "351   79.054202    0.000263   79.037395    0.000263   79.020588    0.000262   \n",
      "352   79.037395    0.000263   79.020588    0.000262   79.003782    0.000262   \n",
      "353   79.020588    0.000262   79.003782    0.000262   78.986975    0.000262   \n",
      "354   79.003782    0.000262   78.986975    0.000262   78.970168    0.000262   \n",
      "\n",
      "     var1(t+98)  var2(t+98)  var1(t+99)  var2(t+99)  \n",
      "350   79.020588    0.000262   79.003782    0.000262  \n",
      "351   79.003782    0.000262   78.986975    0.000262  \n",
      "352   78.986975    0.000262   78.970168    0.000262  \n",
      "353   78.970168    0.000262   78.953361    0.000262  \n",
      "354   78.953361    0.000262   78.936555    0.000262  \n",
      "\n",
      "[5 rows x 551 columns]\n",
      "Index(['var1(t-350)', 'var1(t-349)', 'var1(t-348)', 'var1(t-347)',\n",
      "       'var1(t-346)', 'var1(t-345)', 'var1(t-344)', 'var1(t-343)',\n",
      "       'var1(t-342)', 'var1(t-341)',\n",
      "       ...\n",
      "       'var1(t+95)', 'var2(t+95)', 'var1(t+96)', 'var2(t+96)', 'var1(t+97)',\n",
      "       'var2(t+97)', 'var1(t+98)', 'var2(t+98)', 'var1(t+99)', 'var2(t+99)'],\n",
      "      dtype='object', length=551)\n"
     ]
    }
   ],
   "source": [
    "data = Supervised(df.values, n_in = 350, n_out = 100)\n",
    "\n",
    "\n",
    "cols_to_drop = []\n",
    "for i in range(2, 351):\n",
    "    cols_to_drop.extend([f'var2(t-{i})'])\n",
    "\n",
    "data.drop(cols_to_drop, axis=1, inplace=True)\n",
    "\n",
    "print(data.head())\n",
    "print(data.columns)"
   ]
  },
  {
   "cell_type": "code",
   "execution_count": 14,
   "metadata": {
    "id": "AfPf60oy6Pe4"
   },
   "outputs": [],
   "source": [
    "train = np.array(data[0:len(data)-1])\n",
    "forecast = np.array(data.tail(1))"
   ]
  },
  {
   "cell_type": "code",
   "execution_count": 15,
   "metadata": {
    "id": "WSAafzI37KiT"
   },
   "outputs": [],
   "source": [
    "trainy = train[:,-300:]\n",
    "trainX = train[:,:-300]"
   ]
  },
  {
   "cell_type": "code",
   "execution_count": 16,
   "metadata": {
    "id": "2SrOqVJA7f50"
   },
   "outputs": [],
   "source": [
    "forecasty = forecast[:,-300:]\n",
    "forecastX = forecast[:,:-300]"
   ]
  },
  {
   "cell_type": "code",
   "execution_count": 17,
   "metadata": {
    "colab": {
     "base_uri": "https://localhost:8080/"
    },
    "id": "Qno_k8Nw7saY",
    "outputId": "c4a88db5-d8c6-489f-cdb2-06b24e293cff"
   },
   "outputs": [
    {
     "name": "stdout",
     "output_type": "stream",
     "text": [
      "(1500, 1, 251) (1500, 300) (1, 1, 251)\n"
     ]
    }
   ],
   "source": [
    "trainX = trainX.reshape((trainX.shape[0], 1, trainX.shape[1]))\n",
    "forecastX = forecastX.reshape((forecastX.shape[0], 1, forecastX.shape[1]))\n",
    "print(trainX.shape, trainy.shape, forecastX.shape)"
   ]
  },
  {
   "cell_type": "code",
   "execution_count": 18,
   "metadata": {
    "colab": {
     "base_uri": "https://localhost:8080/"
    },
    "id": "b1Jp2DvNuNFx",
    "outputId": "d0e5b3c4-64f1-438c-eade-8dfeaac8e285"
   },
   "outputs": [
    {
     "name": "stdout",
     "output_type": "stream",
     "text": [
      "Epoch 1/500\n",
      "19/19 [==============================] - 2s 29ms/step - loss: 5373.5371 - val_loss: 3702.3943\n",
      "Epoch 2/500\n",
      "19/19 [==============================] - 0s 7ms/step - loss: 5083.2407 - val_loss: 3479.0957\n",
      "Epoch 3/500\n",
      "19/19 [==============================] - 0s 6ms/step - loss: 4922.2197 - val_loss: 3399.2712\n",
      "Epoch 4/500\n",
      "19/19 [==============================] - 0s 6ms/step - loss: 4840.4629 - val_loss: 3339.4089\n",
      "Epoch 5/500\n",
      "19/19 [==============================] - 0s 7ms/step - loss: 4751.8516 - val_loss: 3279.7295\n",
      "Epoch 6/500\n",
      "19/19 [==============================] - 0s 6ms/step - loss: 4673.5166 - val_loss: 3225.9297\n",
      "Epoch 7/500\n",
      "19/19 [==============================] - 0s 6ms/step - loss: 4597.3066 - val_loss: 3173.6946\n",
      "Epoch 8/500\n",
      "19/19 [==============================] - 0s 5ms/step - loss: 4522.9248 - val_loss: 3122.7493\n",
      "Epoch 9/500\n",
      "19/19 [==============================] - 0s 5ms/step - loss: 4450.0552 - val_loss: 3072.9238\n",
      "Epoch 10/500\n",
      "19/19 [==============================] - 0s 4ms/step - loss: 4378.5034 - val_loss: 3024.1118\n",
      "Epoch 11/500\n",
      "19/19 [==============================] - 0s 4ms/step - loss: 4308.1465 - val_loss: 2976.2427\n",
      "Epoch 12/500\n",
      "19/19 [==============================] - 0s 4ms/step - loss: 4238.8984 - val_loss: 2929.2654\n",
      "Epoch 13/500\n",
      "19/19 [==============================] - 0s 4ms/step - loss: 4170.6982 - val_loss: 2883.1421\n",
      "Epoch 14/500\n",
      "19/19 [==============================] - 0s 4ms/step - loss: 4103.5005 - val_loss: 2837.8433\n",
      "Epoch 15/500\n",
      "19/19 [==============================] - 0s 4ms/step - loss: 4037.2683 - val_loss: 2793.3438\n",
      "Epoch 16/500\n",
      "19/19 [==============================] - 0s 5ms/step - loss: 3971.9722 - val_loss: 2749.6230\n",
      "Epoch 17/500\n",
      "19/19 [==============================] - 0s 4ms/step - loss: 3907.5867 - val_loss: 2706.6638\n",
      "Epoch 18/500\n",
      "19/19 [==============================] - 0s 5ms/step - loss: 3844.0901 - val_loss: 2664.4495\n",
      "Epoch 19/500\n",
      "19/19 [==============================] - 0s 7ms/step - loss: 3781.4653 - val_loss: 2622.9668\n",
      "Epoch 20/500\n",
      "19/19 [==============================] - 0s 5ms/step - loss: 3719.6938 - val_loss: 2582.2031\n",
      "Epoch 21/500\n",
      "19/19 [==============================] - 0s 6ms/step - loss: 3658.7629 - val_loss: 2542.1462\n",
      "Epoch 22/500\n",
      "19/19 [==============================] - 0s 4ms/step - loss: 3598.6562 - val_loss: 2502.7854\n",
      "Epoch 23/500\n",
      "19/19 [==============================] - 0s 10ms/step - loss: 3539.3633 - val_loss: 2464.1108\n",
      "Epoch 24/500\n",
      "19/19 [==============================] - 0s 6ms/step - loss: 3480.8713 - val_loss: 2426.1125\n",
      "Epoch 25/500\n",
      "19/19 [==============================] - 0s 5ms/step - loss: 3423.1694 - val_loss: 2388.7812\n",
      "Epoch 26/500\n",
      "19/19 [==============================] - 0s 4ms/step - loss: 3366.2471 - val_loss: 2352.1079\n",
      "Epoch 27/500\n",
      "19/19 [==============================] - 0s 4ms/step - loss: 3310.0947 - val_loss: 2316.0850\n",
      "Epoch 28/500\n",
      "19/19 [==============================] - 0s 5ms/step - loss: 3254.7031 - val_loss: 2280.7036\n",
      "Epoch 29/500\n",
      "19/19 [==============================] - 0s 4ms/step - loss: 3200.0618 - val_loss: 2245.9556\n",
      "Epoch 30/500\n",
      "19/19 [==============================] - 0s 4ms/step - loss: 3146.1633 - val_loss: 2211.8342\n",
      "Epoch 31/500\n",
      "19/19 [==============================] - 0s 4ms/step - loss: 3092.9988 - val_loss: 2178.3315\n",
      "Epoch 32/500\n",
      "19/19 [==============================] - 0s 4ms/step - loss: 3040.5596 - val_loss: 2145.4399\n",
      "Epoch 33/500\n",
      "19/19 [==============================] - 0s 4ms/step - loss: 2988.8384 - val_loss: 2113.1531\n",
      "Epoch 34/500\n",
      "19/19 [==============================] - 0s 4ms/step - loss: 2937.8264 - val_loss: 2081.4631\n",
      "Epoch 35/500\n",
      "19/19 [==============================] - 0s 4ms/step - loss: 2887.5176 - val_loss: 2050.3635\n",
      "Epoch 36/500\n",
      "19/19 [==============================] - 0s 5ms/step - loss: 2837.9026 - val_loss: 2019.8484\n",
      "Epoch 37/500\n",
      "19/19 [==============================] - 0s 4ms/step - loss: 2788.9756 - val_loss: 1989.9104\n",
      "Epoch 38/500\n",
      "19/19 [==============================] - 0s 4ms/step - loss: 2740.7288 - val_loss: 1960.5437\n",
      "Epoch 39/500\n",
      "19/19 [==============================] - 0s 4ms/step - loss: 2693.1555 - val_loss: 1931.7291\n",
      "Epoch 40/500\n",
      "19/19 [==============================] - 0s 5ms/step - loss: 2646.2478 - val_loss: 1903.3696\n",
      "Epoch 41/500\n",
      "19/19 [==============================] - 0s 4ms/step - loss: 2600.0002 - val_loss: 1875.6754\n",
      "Epoch 42/500\n",
      "19/19 [==============================] - 0s 5ms/step - loss: 2554.4053 - val_loss: 1848.5265\n",
      "Epoch 43/500\n",
      "19/19 [==============================] - 0s 5ms/step - loss: 2509.4563 - val_loss: 1821.9165\n",
      "Epoch 44/500\n",
      "19/19 [==============================] - 0s 6ms/step - loss: 2465.1472 - val_loss: 1795.8394\n",
      "Epoch 45/500\n",
      "19/19 [==============================] - 0s 5ms/step - loss: 2421.4717 - val_loss: 1770.2896\n",
      "Epoch 46/500\n",
      "19/19 [==============================] - 0s 5ms/step - loss: 2378.4226 - val_loss: 1745.2609\n",
      "Epoch 47/500\n",
      "19/19 [==============================] - 0s 5ms/step - loss: 2335.9949 - val_loss: 1720.7476\n",
      "Epoch 48/500\n",
      "19/19 [==============================] - 0s 4ms/step - loss: 2294.1807 - val_loss: 1696.7432\n",
      "Epoch 49/500\n",
      "19/19 [==============================] - 0s 8ms/step - loss: 2252.9751 - val_loss: 1673.2426\n",
      "Epoch 50/500\n",
      "19/19 [==============================] - 0s 7ms/step - loss: 2212.3713 - val_loss: 1650.2404\n",
      "Epoch 51/500\n",
      "19/19 [==============================] - 0s 5ms/step - loss: 2172.3643 - val_loss: 1627.7299\n",
      "Epoch 52/500\n",
      "19/19 [==============================] - 0s 5ms/step - loss: 2132.9478 - val_loss: 1605.7064\n",
      "Epoch 53/500\n",
      "19/19 [==============================] - 0s 4ms/step - loss: 2094.1152 - val_loss: 1584.1638\n",
      "Epoch 54/500\n",
      "19/19 [==============================] - 0s 4ms/step - loss: 2055.8611 - val_loss: 1563.0970\n",
      "Epoch 55/500\n",
      "19/19 [==============================] - 0s 4ms/step - loss: 2018.1796 - val_loss: 1542.5002\n",
      "Epoch 56/500\n",
      "19/19 [==============================] - 0s 7ms/step - loss: 1981.0649 - val_loss: 1522.3677\n",
      "Epoch 57/500\n",
      "19/19 [==============================] - 0s 6ms/step - loss: 1944.5117 - val_loss: 1502.6945\n",
      "Epoch 58/500\n",
      "19/19 [==============================] - 0s 4ms/step - loss: 1908.5139 - val_loss: 1483.4751\n",
      "Epoch 59/500\n",
      "19/19 [==============================] - 0s 4ms/step - loss: 1873.0660 - val_loss: 1464.7046\n",
      "Epoch 60/500\n",
      "19/19 [==============================] - 0s 4ms/step - loss: 1838.1633 - val_loss: 1446.3768\n",
      "Epoch 61/500\n",
      "19/19 [==============================] - 0s 4ms/step - loss: 1803.7993 - val_loss: 1428.4871\n",
      "Epoch 62/500\n",
      "19/19 [==============================] - 0s 5ms/step - loss: 1769.9685 - val_loss: 1411.0302\n",
      "Epoch 63/500\n",
      "19/19 [==============================] - 0s 6ms/step - loss: 1736.6659 - val_loss: 1394.0004\n",
      "Epoch 64/500\n",
      "19/19 [==============================] - 0s 5ms/step - loss: 1703.8860 - val_loss: 1377.3928\n",
      "Epoch 65/500\n",
      "19/19 [==============================] - 0s 6ms/step - loss: 1671.6232 - val_loss: 1361.2026\n",
      "Epoch 66/500\n",
      "19/19 [==============================] - 0s 6ms/step - loss: 1639.8726 - val_loss: 1345.4241\n",
      "Epoch 67/500\n",
      "19/19 [==============================] - 0s 6ms/step - loss: 1608.6287 - val_loss: 1330.0526\n",
      "Epoch 68/500\n",
      "19/19 [==============================] - 0s 4ms/step - loss: 1577.8865 - val_loss: 1315.0829\n",
      "Epoch 69/500\n",
      "19/19 [==============================] - 0s 5ms/step - loss: 1547.6399 - val_loss: 1300.5103\n",
      "Epoch 70/500\n",
      "19/19 [==============================] - 0s 5ms/step - loss: 1517.8853 - val_loss: 1286.3287\n",
      "Epoch 71/500\n",
      "19/19 [==============================] - 0s 5ms/step - loss: 1488.6158 - val_loss: 1272.5344\n",
      "Epoch 72/500\n",
      "19/19 [==============================] - 0s 5ms/step - loss: 1459.8275 - val_loss: 1259.1221\n",
      "Epoch 73/500\n",
      "19/19 [==============================] - 0s 5ms/step - loss: 1431.5153 - val_loss: 1246.0862\n",
      "Epoch 74/500\n",
      "19/19 [==============================] - 0s 5ms/step - loss: 1403.6731 - val_loss: 1233.4226\n",
      "Epoch 75/500\n",
      "19/19 [==============================] - 0s 5ms/step - loss: 1376.2972 - val_loss: 1221.1257\n",
      "Epoch 76/500\n",
      "19/19 [==============================] - 0s 5ms/step - loss: 1349.3817 - val_loss: 1209.1914\n",
      "Epoch 77/500\n",
      "19/19 [==============================] - 0s 5ms/step - loss: 1322.9220 - val_loss: 1197.6144\n",
      "Epoch 78/500\n",
      "19/19 [==============================] - 0s 4ms/step - loss: 1296.9130 - val_loss: 1186.3899\n",
      "Epoch 79/500\n",
      "19/19 [==============================] - 0s 5ms/step - loss: 1271.3500 - val_loss: 1175.5132\n",
      "Epoch 80/500\n",
      "19/19 [==============================] - 0s 4ms/step - loss: 1246.2284 - val_loss: 1164.9794\n",
      "Epoch 81/500\n",
      "19/19 [==============================] - 0s 5ms/step - loss: 1221.5422 - val_loss: 1154.7837\n",
      "Epoch 82/500\n",
      "19/19 [==============================] - 0s 4ms/step - loss: 1197.2878 - val_loss: 1144.9216\n",
      "Epoch 83/500\n",
      "19/19 [==============================] - 0s 5ms/step - loss: 1173.4598 - val_loss: 1135.3883\n",
      "Epoch 84/500\n",
      "19/19 [==============================] - 0s 4ms/step - loss: 1150.0532 - val_loss: 1126.1793\n",
      "Epoch 85/500\n",
      "19/19 [==============================] - 0s 4ms/step - loss: 1127.0638 - val_loss: 1117.2889\n",
      "Epoch 86/500\n",
      "19/19 [==============================] - 0s 4ms/step - loss: 1104.4866 - val_loss: 1108.7137\n",
      "Epoch 87/500\n",
      "19/19 [==============================] - 0s 4ms/step - loss: 1082.3171 - val_loss: 1100.4487\n",
      "Epoch 88/500\n",
      "19/19 [==============================] - 0s 10ms/step - loss: 1060.5505 - val_loss: 1092.4889\n",
      "Epoch 89/500\n",
      "19/19 [==============================] - 0s 5ms/step - loss: 1039.1821 - val_loss: 1084.8302\n",
      "Epoch 90/500\n",
      "19/19 [==============================] - 0s 6ms/step - loss: 1018.2074 - val_loss: 1077.4677\n",
      "Epoch 91/500\n",
      "19/19 [==============================] - 0s 5ms/step - loss: 997.6216 - val_loss: 1070.3969\n",
      "Epoch 92/500\n",
      "19/19 [==============================] - 0s 5ms/step - loss: 977.4203 - val_loss: 1063.6133\n",
      "Epoch 93/500\n",
      "19/19 [==============================] - 0s 5ms/step - loss: 957.5984 - val_loss: 1057.1124\n",
      "Epoch 94/500\n",
      "19/19 [==============================] - 0s 5ms/step - loss: 938.1521 - val_loss: 1050.8895\n",
      "Epoch 95/500\n",
      "19/19 [==============================] - 0s 6ms/step - loss: 919.0762 - val_loss: 1044.9403\n",
      "Epoch 96/500\n",
      "19/19 [==============================] - 0s 6ms/step - loss: 900.3671 - val_loss: 1039.2604\n",
      "Epoch 97/500\n",
      "19/19 [==============================] - 0s 5ms/step - loss: 882.0195 - val_loss: 1033.8451\n",
      "Epoch 98/500\n",
      "19/19 [==============================] - 0s 5ms/step - loss: 864.0290 - val_loss: 1028.6899\n",
      "Epoch 99/500\n",
      "19/19 [==============================] - 0s 6ms/step - loss: 846.3916 - val_loss: 1023.7910\n",
      "Epoch 100/500\n",
      "19/19 [==============================] - 0s 5ms/step - loss: 829.1028 - val_loss: 1019.1436\n",
      "Epoch 101/500\n",
      "19/19 [==============================] - 0s 5ms/step - loss: 812.1578 - val_loss: 1014.7429\n",
      "Epoch 102/500\n",
      "19/19 [==============================] - 0s 5ms/step - loss: 795.5524 - val_loss: 1010.5848\n",
      "Epoch 103/500\n",
      "19/19 [==============================] - 0s 5ms/step - loss: 779.2825 - val_loss: 1006.6652\n",
      "Epoch 104/500\n",
      "19/19 [==============================] - 0s 4ms/step - loss: 763.3432 - val_loss: 1002.9799\n",
      "Epoch 105/500\n",
      "19/19 [==============================] - 0s 4ms/step - loss: 747.7308 - val_loss: 999.5240\n",
      "Epoch 106/500\n",
      "19/19 [==============================] - 0s 4ms/step - loss: 732.4409 - val_loss: 996.2936\n",
      "Epoch 107/500\n",
      "19/19 [==============================] - 0s 4ms/step - loss: 717.4686 - val_loss: 993.2844\n",
      "Epoch 108/500\n",
      "19/19 [==============================] - 0s 4ms/step - loss: 702.8103 - val_loss: 990.4920\n",
      "Epoch 109/500\n",
      "19/19 [==============================] - 0s 4ms/step - loss: 688.4617 - val_loss: 987.9123\n",
      "Epoch 110/500\n",
      "19/19 [==============================] - 0s 4ms/step - loss: 674.4183 - val_loss: 985.5410\n",
      "Epoch 111/500\n",
      "19/19 [==============================] - 0s 4ms/step - loss: 660.6760 - val_loss: 983.3738\n",
      "Epoch 112/500\n",
      "19/19 [==============================] - 0s 4ms/step - loss: 647.2308 - val_loss: 981.4067\n",
      "Epoch 113/500\n",
      "19/19 [==============================] - 0s 4ms/step - loss: 634.0783 - val_loss: 979.6354\n",
      "Epoch 114/500\n",
      "19/19 [==============================] - 0s 5ms/step - loss: 621.2144 - val_loss: 978.0558\n",
      "Epoch 115/500\n",
      "19/19 [==============================] - 0s 4ms/step - loss: 608.6350 - val_loss: 976.6638\n",
      "Epoch 116/500\n",
      "19/19 [==============================] - 0s 4ms/step - loss: 596.3361 - val_loss: 975.4552\n",
      "Epoch 117/500\n",
      "19/19 [==============================] - 0s 4ms/step - loss: 584.3134 - val_loss: 974.4260\n",
      "Epoch 118/500\n",
      "19/19 [==============================] - 0s 4ms/step - loss: 572.5631 - val_loss: 973.5723\n",
      "Epoch 119/500\n",
      "19/19 [==============================] - 0s 4ms/step - loss: 561.0811 - val_loss: 972.8898\n",
      "Epoch 120/500\n",
      "19/19 [==============================] - 0s 4ms/step - loss: 549.8631 - val_loss: 972.3744\n",
      "Epoch 121/500\n",
      "19/19 [==============================] - 0s 4ms/step - loss: 538.9055 - val_loss: 972.0223\n",
      "Epoch 122/500\n",
      "19/19 [==============================] - 0s 10ms/step - loss: 528.2043 - val_loss: 971.8293\n",
      "Epoch 123/500\n",
      "19/19 [==============================] - 0s 6ms/step - loss: 517.7550 - val_loss: 971.7917\n",
      "Epoch 124/500\n",
      "19/19 [==============================] - 0s 4ms/step - loss: 507.5541 - val_loss: 971.9056\n",
      "Epoch 125/500\n",
      "19/19 [==============================] - 0s 4ms/step - loss: 497.5977 - val_loss: 972.1667\n",
      "Epoch 126/500\n",
      "19/19 [==============================] - 0s 4ms/step - loss: 487.8817 - val_loss: 972.5714\n",
      "Epoch 127/500\n",
      "19/19 [==============================] - 0s 4ms/step - loss: 478.4026 - val_loss: 973.1156\n",
      "Epoch 128/500\n",
      "19/19 [==============================] - 0s 4ms/step - loss: 469.1560 - val_loss: 973.7960\n",
      "Epoch 129/500\n",
      "19/19 [==============================] - 0s 4ms/step - loss: 460.1383 - val_loss: 974.6082\n",
      "Epoch 130/500\n",
      "19/19 [==============================] - 0s 6ms/step - loss: 451.3459 - val_loss: 975.5485\n",
      "Epoch 131/500\n",
      "19/19 [==============================] - 0s 5ms/step - loss: 442.7749 - val_loss: 976.6135\n",
      "Epoch 132/500\n",
      "19/19 [==============================] - 0s 5ms/step - loss: 434.4216 - val_loss: 977.7990\n",
      "Epoch 133/500\n",
      "19/19 [==============================] - 0s 7ms/step - loss: 426.2820 - val_loss: 979.1014\n",
      "Epoch 134/500\n",
      "19/19 [==============================] - 0s 5ms/step - loss: 418.3527 - val_loss: 980.5173\n",
      "Epoch 135/500\n",
      "19/19 [==============================] - 0s 6ms/step - loss: 410.6297 - val_loss: 982.0428\n",
      "Epoch 136/500\n",
      "19/19 [==============================] - 0s 6ms/step - loss: 403.1096 - val_loss: 983.6742\n",
      "Epoch 137/500\n",
      "19/19 [==============================] - 0s 4ms/step - loss: 395.7886 - val_loss: 985.4081\n",
      "Epoch 138/500\n",
      "19/19 [==============================] - 0s 4ms/step - loss: 388.6633 - val_loss: 987.2408\n",
      "Epoch 139/500\n",
      "19/19 [==============================] - 0s 4ms/step - loss: 381.7297 - val_loss: 989.1689\n",
      "Epoch 140/500\n",
      "19/19 [==============================] - 0s 4ms/step - loss: 374.9845 - val_loss: 991.1887\n",
      "Epoch 141/500\n",
      "19/19 [==============================] - 0s 4ms/step - loss: 368.4241 - val_loss: 993.2970\n",
      "Epoch 142/500\n",
      "19/19 [==============================] - 0s 5ms/step - loss: 362.0450 - val_loss: 995.4900\n",
      "Epoch 143/500\n",
      "19/19 [==============================] - 0s 5ms/step - loss: 355.8438 - val_loss: 997.7644\n",
      "Epoch 144/500\n",
      "19/19 [==============================] - 0s 5ms/step - loss: 349.8169 - val_loss: 1000.1170\n",
      "Epoch 145/500\n",
      "19/19 [==============================] - 0s 4ms/step - loss: 343.9611 - val_loss: 1002.5442\n",
      "Epoch 146/500\n",
      "19/19 [==============================] - 0s 4ms/step - loss: 338.2726 - val_loss: 1005.0429\n",
      "Epoch 147/500\n",
      "19/19 [==============================] - 0s 5ms/step - loss: 332.7485 - val_loss: 1007.6100\n",
      "Epoch 148/500\n",
      "19/19 [==============================] - 0s 4ms/step - loss: 327.3851 - val_loss: 1010.2416\n",
      "Epoch 149/500\n",
      "19/19 [==============================] - 0s 10ms/step - loss: 322.1793 - val_loss: 1012.9352\n",
      "Epoch 150/500\n",
      "19/19 [==============================] - 0s 6ms/step - loss: 317.1275 - val_loss: 1015.6874\n",
      "Epoch 151/500\n",
      "19/19 [==============================] - 0s 4ms/step - loss: 312.2268 - val_loss: 1018.4949\n",
      "Epoch 152/500\n",
      "19/19 [==============================] - 0s 4ms/step - loss: 307.4737 - val_loss: 1021.3549\n",
      "Epoch 153/500\n",
      "19/19 [==============================] - 0s 5ms/step - loss: 302.8651 - val_loss: 1024.2644\n",
      "Epoch 154/500\n",
      "19/19 [==============================] - 0s 5ms/step - loss: 298.3978 - val_loss: 1027.2200\n",
      "Epoch 155/500\n",
      "19/19 [==============================] - 0s 7ms/step - loss: 294.0688 - val_loss: 1030.2190\n",
      "Epoch 156/500\n",
      "19/19 [==============================] - 0s 6ms/step - loss: 289.8750 - val_loss: 1033.2584\n",
      "Epoch 157/500\n",
      "19/19 [==============================] - 0s 6ms/step - loss: 285.8131 - val_loss: 1036.3356\n",
      "Epoch 158/500\n",
      "19/19 [==============================] - 0s 5ms/step - loss: 281.8804 - val_loss: 1039.4474\n",
      "Epoch 159/500\n",
      "19/19 [==============================] - 0s 5ms/step - loss: 278.0737 - val_loss: 1042.5913\n",
      "Epoch 160/500\n",
      "19/19 [==============================] - 0s 4ms/step - loss: 274.3900 - val_loss: 1045.7640\n",
      "Epoch 161/500\n",
      "19/19 [==============================] - 0s 6ms/step - loss: 270.8266 - val_loss: 1048.9637\n",
      "Epoch 162/500\n",
      "19/19 [==============================] - 0s 4ms/step - loss: 267.3803 - val_loss: 1052.1871\n",
      "Epoch 163/500\n",
      "19/19 [==============================] - 0s 4ms/step - loss: 264.0486 - val_loss: 1055.4319\n",
      "Epoch 164/500\n",
      "19/19 [==============================] - 0s 5ms/step - loss: 260.8281 - val_loss: 1058.6957\n",
      "Epoch 165/500\n",
      "19/19 [==============================] - 0s 4ms/step - loss: 257.7164 - val_loss: 1061.9755\n",
      "Epoch 166/500\n",
      "19/19 [==============================] - 0s 5ms/step - loss: 254.7108 - val_loss: 1065.2692\n",
      "Epoch 167/500\n",
      "19/19 [==============================] - 0s 4ms/step - loss: 251.8085 - val_loss: 1068.5742\n",
      "Epoch 168/500\n",
      "19/19 [==============================] - 0s 4ms/step - loss: 249.0068 - val_loss: 1071.8882\n",
      "Epoch 169/500\n",
      "19/19 [==============================] - 0s 4ms/step - loss: 246.3031 - val_loss: 1075.2090\n",
      "Epoch 170/500\n",
      "19/19 [==============================] - 0s 5ms/step - loss: 243.6947 - val_loss: 1078.5341\n",
      "Epoch 171/500\n",
      "19/19 [==============================] - 0s 4ms/step - loss: 241.1792 - val_loss: 1081.8617\n",
      "Epoch 172/500\n",
      "19/19 [==============================] - 0s 4ms/step - loss: 238.7539 - val_loss: 1085.1893\n",
      "Epoch 173/500\n",
      "19/19 [==============================] - 0s 4ms/step - loss: 236.4163 - val_loss: 1088.5154\n",
      "Epoch 174/500\n",
      "19/19 [==============================] - 0s 5ms/step - loss: 234.1641 - val_loss: 1091.8373\n",
      "Epoch 175/500\n",
      "19/19 [==============================] - 0s 5ms/step - loss: 231.9949 - val_loss: 1095.1530\n",
      "Epoch 176/500\n",
      "19/19 [==============================] - 0s 5ms/step - loss: 229.9062 - val_loss: 1098.4607\n",
      "Epoch 177/500\n",
      "19/19 [==============================] - 0s 5ms/step - loss: 227.8958 - val_loss: 1101.7589\n",
      "Epoch 178/500\n",
      "19/19 [==============================] - 0s 9ms/step - loss: 225.9613 - val_loss: 1105.0455\n",
      "Epoch 179/500\n",
      "19/19 [==============================] - 0s 4ms/step - loss: 224.1005 - val_loss: 1108.3185\n",
      "Epoch 180/500\n",
      "19/19 [==============================] - 0s 5ms/step - loss: 222.3112 - val_loss: 1111.5763\n",
      "Epoch 181/500\n",
      "19/19 [==============================] - 0s 4ms/step - loss: 220.5914 - val_loss: 1114.8173\n",
      "Epoch 182/500\n",
      "19/19 [==============================] - 0s 5ms/step - loss: 218.9387 - val_loss: 1118.0402\n",
      "Epoch 183/500\n",
      "19/19 [==============================] - 0s 5ms/step - loss: 217.3511 - val_loss: 1121.2428\n",
      "Epoch 184/500\n",
      "19/19 [==============================] - 0s 5ms/step - loss: 215.8265 - val_loss: 1124.4240\n",
      "Epoch 185/500\n",
      "19/19 [==============================] - 0s 5ms/step - loss: 214.3630 - val_loss: 1127.5828\n",
      "Epoch 186/500\n",
      "19/19 [==============================] - 0s 5ms/step - loss: 212.9586 - val_loss: 1130.7169\n",
      "Epoch 187/500\n",
      "19/19 [==============================] - 0s 5ms/step - loss: 211.6113 - val_loss: 1133.8257\n",
      "Epoch 188/500\n",
      "19/19 [==============================] - 0s 6ms/step - loss: 210.3194 - val_loss: 1136.9071\n",
      "Epoch 189/500\n",
      "19/19 [==============================] - 0s 5ms/step - loss: 209.0810 - val_loss: 1139.9606\n",
      "Epoch 190/500\n",
      "19/19 [==============================] - 0s 5ms/step - loss: 207.8942 - val_loss: 1142.9851\n",
      "Epoch 191/500\n",
      "19/19 [==============================] - 0s 4ms/step - loss: 206.7573 - val_loss: 1145.9785\n",
      "Epoch 192/500\n",
      "19/19 [==============================] - 0s 5ms/step - loss: 205.6687 - val_loss: 1148.9413\n",
      "Epoch 193/500\n",
      "19/19 [==============================] - 0s 5ms/step - loss: 204.6265 - val_loss: 1151.8713\n",
      "Epoch 194/500\n",
      "19/19 [==============================] - 0s 5ms/step - loss: 203.6291 - val_loss: 1154.7673\n",
      "Epoch 195/500\n",
      "19/19 [==============================] - 0s 5ms/step - loss: 202.6751 - val_loss: 1157.6296\n",
      "Epoch 196/500\n",
      "19/19 [==============================] - 0s 5ms/step - loss: 201.7627 - val_loss: 1160.4564\n",
      "Epoch 197/500\n",
      "19/19 [==============================] - 0s 5ms/step - loss: 200.8905 - val_loss: 1163.2476\n",
      "Epoch 198/500\n",
      "19/19 [==============================] - 0s 5ms/step - loss: 200.0571 - val_loss: 1166.0018\n",
      "Epoch 199/500\n",
      "19/19 [==============================] - 0s 5ms/step - loss: 199.2609 - val_loss: 1168.7188\n",
      "Epoch 200/500\n",
      "19/19 [==============================] - 0s 5ms/step - loss: 198.5005 - val_loss: 1171.3977\n",
      "Epoch 201/500\n",
      "19/19 [==============================] - 0s 4ms/step - loss: 197.7747 - val_loss: 1174.0380\n",
      "Epoch 202/500\n",
      "19/19 [==============================] - 0s 5ms/step - loss: 197.0819 - val_loss: 1176.6395\n",
      "Epoch 203/500\n",
      "19/19 [==============================] - 0s 5ms/step - loss: 196.4211 - val_loss: 1179.2010\n",
      "Epoch 204/500\n",
      "19/19 [==============================] - 0s 6ms/step - loss: 195.7909 - val_loss: 1181.7223\n",
      "Epoch 205/500\n",
      "19/19 [==============================] - 0s 6ms/step - loss: 195.1901 - val_loss: 1184.2029\n",
      "Epoch 206/500\n",
      "19/19 [==============================] - 0s 11ms/step - loss: 194.6177 - val_loss: 1186.6423\n",
      "Epoch 207/500\n",
      "19/19 [==============================] - 0s 5ms/step - loss: 194.0723 - val_loss: 1189.0416\n",
      "Epoch 208/500\n",
      "19/19 [==============================] - 0s 5ms/step - loss: 193.5528 - val_loss: 1191.3988\n",
      "Epoch 209/500\n",
      "19/19 [==============================] - 0s 4ms/step - loss: 193.0583 - val_loss: 1193.7144\n",
      "Epoch 210/500\n",
      "19/19 [==============================] - 0s 6ms/step - loss: 192.5876 - val_loss: 1195.9879\n",
      "Epoch 211/500\n",
      "19/19 [==============================] - 0s 5ms/step - loss: 192.1398 - val_loss: 1198.2198\n",
      "Epoch 212/500\n",
      "19/19 [==============================] - 0s 6ms/step - loss: 191.7138 - val_loss: 1200.4095\n",
      "Epoch 213/500\n",
      "19/19 [==============================] - 0s 6ms/step - loss: 191.3090 - val_loss: 1202.5566\n",
      "Epoch 214/500\n",
      "19/19 [==============================] - 0s 5ms/step - loss: 190.9240 - val_loss: 1204.6622\n",
      "Epoch 215/500\n",
      "19/19 [==============================] - 0s 5ms/step - loss: 190.5582 - val_loss: 1206.7258\n",
      "Epoch 216/500\n",
      "19/19 [==============================] - 0s 5ms/step - loss: 190.2108 - val_loss: 1208.7468\n",
      "Epoch 217/500\n",
      "19/19 [==============================] - 0s 5ms/step - loss: 189.8808 - val_loss: 1210.7261\n",
      "Epoch 218/500\n",
      "19/19 [==============================] - 0s 6ms/step - loss: 189.5675 - val_loss: 1212.6631\n",
      "Epoch 219/500\n",
      "19/19 [==============================] - 0s 5ms/step - loss: 189.2702 - val_loss: 1214.5586\n",
      "Epoch 220/500\n",
      "19/19 [==============================] - 0s 5ms/step - loss: 188.9881 - val_loss: 1216.4124\n",
      "Epoch 221/500\n",
      "19/19 [==============================] - 0s 5ms/step - loss: 188.7206 - val_loss: 1218.2250\n",
      "Epoch 222/500\n",
      "19/19 [==============================] - 0s 5ms/step - loss: 188.4669 - val_loss: 1219.9966\n",
      "Epoch 223/500\n",
      "19/19 [==============================] - 0s 5ms/step - loss: 188.2263 - val_loss: 1221.7271\n",
      "Epoch 224/500\n",
      "19/19 [==============================] - 0s 5ms/step - loss: 187.9984 - val_loss: 1223.4175\n",
      "Epoch 225/500\n",
      "19/19 [==============================] - 0s 5ms/step - loss: 187.7823 - val_loss: 1225.0677\n",
      "Epoch 226/500\n",
      "19/19 [==============================] - 0s 5ms/step - loss: 187.5777 - val_loss: 1226.6779\n",
      "Epoch 227/500\n",
      "19/19 [==============================] - 0s 5ms/step - loss: 187.3840 - val_loss: 1228.2489\n",
      "Epoch 228/500\n",
      "19/19 [==============================] - 0s 5ms/step - loss: 187.2004 - val_loss: 1229.7810\n",
      "Epoch 229/500\n",
      "19/19 [==============================] - 0s 5ms/step - loss: 187.0266 - val_loss: 1231.2745\n",
      "Epoch 230/500\n",
      "19/19 [==============================] - 0s 6ms/step - loss: 186.8622 - val_loss: 1232.7292\n",
      "Epoch 231/500\n",
      "19/19 [==============================] - 0s 4ms/step - loss: 186.7067 - val_loss: 1234.1469\n",
      "Epoch 232/500\n",
      "19/19 [==============================] - 0s 5ms/step - loss: 186.5595 - val_loss: 1235.5270\n",
      "Epoch 233/500\n",
      "19/19 [==============================] - 0s 4ms/step - loss: 186.4203 - val_loss: 1236.8707\n",
      "Epoch 234/500\n",
      "19/19 [==============================] - 0s 4ms/step - loss: 186.2887 - val_loss: 1238.1772\n",
      "Epoch 235/500\n",
      "19/19 [==============================] - 0s 10ms/step - loss: 186.1642 - val_loss: 1239.4485\n",
      "Epoch 236/500\n",
      "19/19 [==============================] - 0s 5ms/step - loss: 186.0466 - val_loss: 1240.6846\n",
      "Epoch 237/500\n",
      "19/19 [==============================] - 0s 4ms/step - loss: 185.9354 - val_loss: 1241.8857\n",
      "Epoch 238/500\n",
      "19/19 [==============================] - 0s 4ms/step - loss: 185.8303 - val_loss: 1243.0533\n",
      "Epoch 239/500\n",
      "19/19 [==============================] - 0s 4ms/step - loss: 185.7310 - val_loss: 1244.1873\n",
      "Epoch 240/500\n",
      "19/19 [==============================] - 0s 4ms/step - loss: 185.6372 - val_loss: 1245.2881\n",
      "Epoch 241/500\n",
      "19/19 [==============================] - 0s 4ms/step - loss: 185.5486 - val_loss: 1246.3560\n",
      "Epoch 242/500\n",
      "19/19 [==============================] - 0s 5ms/step - loss: 185.4649 - val_loss: 1247.3925\n",
      "Epoch 243/500\n",
      "19/19 [==============================] - 0s 4ms/step - loss: 185.3859 - val_loss: 1248.3981\n",
      "Epoch 244/500\n",
      "19/19 [==============================] - 0s 5ms/step - loss: 185.3113 - val_loss: 1249.3727\n",
      "Epoch 245/500\n",
      "19/19 [==============================] - 0s 5ms/step - loss: 185.2408 - val_loss: 1250.3175\n",
      "Epoch 246/500\n",
      "19/19 [==============================] - 0s 5ms/step - loss: 185.1743 - val_loss: 1251.2328\n",
      "Epoch 247/500\n",
      "19/19 [==============================] - 0s 6ms/step - loss: 185.1115 - val_loss: 1252.1200\n",
      "Epoch 248/500\n",
      "19/19 [==============================] - 0s 5ms/step - loss: 185.0522 - val_loss: 1252.9786\n",
      "Epoch 249/500\n",
      "19/19 [==============================] - 0s 5ms/step - loss: 184.9962 - val_loss: 1253.8096\n",
      "Epoch 250/500\n",
      "19/19 [==============================] - 0s 6ms/step - loss: 184.9433 - val_loss: 1254.6144\n",
      "Epoch 251/500\n",
      "19/19 [==============================] - 0s 6ms/step - loss: 184.8934 - val_loss: 1255.3920\n",
      "Epoch 252/500\n",
      "19/19 [==============================] - 0s 6ms/step - loss: 184.8463 - val_loss: 1256.1439\n",
      "Epoch 253/500\n",
      "19/19 [==============================] - 0s 5ms/step - loss: 184.8019 - val_loss: 1256.8711\n",
      "Epoch 254/500\n",
      "19/19 [==============================] - 0s 6ms/step - loss: 184.7599 - val_loss: 1257.5734\n",
      "Epoch 255/500\n",
      "19/19 [==============================] - 0s 6ms/step - loss: 184.7203 - val_loss: 1258.2518\n",
      "Epoch 256/500\n",
      "19/19 [==============================] - 0s 5ms/step - loss: 184.6829 - val_loss: 1258.9072\n",
      "Epoch 257/500\n",
      "19/19 [==============================] - 0s 5ms/step - loss: 184.6477 - val_loss: 1259.5397\n",
      "Epoch 258/500\n",
      "19/19 [==============================] - 0s 6ms/step - loss: 184.6144 - val_loss: 1260.1506\n",
      "Epoch 259/500\n",
      "19/19 [==============================] - 0s 5ms/step - loss: 184.5829 - val_loss: 1260.7391\n",
      "Epoch 260/500\n",
      "19/19 [==============================] - 0s 6ms/step - loss: 184.5533 - val_loss: 1261.3070\n",
      "Epoch 261/500\n",
      "19/19 [==============================] - 0s 14ms/step - loss: 184.5253 - val_loss: 1261.8544\n",
      "Epoch 262/500\n",
      "19/19 [==============================] - 0s 6ms/step - loss: 184.4989 - val_loss: 1262.3827\n",
      "Epoch 263/500\n",
      "19/19 [==============================] - 0s 6ms/step - loss: 184.4739 - val_loss: 1262.8910\n",
      "Epoch 264/500\n",
      "19/19 [==============================] - 0s 6ms/step - loss: 184.4503 - val_loss: 1263.3805\n",
      "Epoch 265/500\n",
      "19/19 [==============================] - 0s 6ms/step - loss: 184.4281 - val_loss: 1263.8523\n",
      "Epoch 266/500\n",
      "19/19 [==============================] - 0s 6ms/step - loss: 184.4071 - val_loss: 1264.3063\n",
      "Epoch 267/500\n",
      "19/19 [==============================] - 0s 6ms/step - loss: 184.3872 - val_loss: 1264.7432\n",
      "Epoch 268/500\n",
      "19/19 [==============================] - 0s 6ms/step - loss: 184.3685 - val_loss: 1265.1631\n",
      "Epoch 269/500\n",
      "19/19 [==============================] - 0s 6ms/step - loss: 184.3508 - val_loss: 1265.5676\n",
      "Epoch 270/500\n",
      "19/19 [==============================] - 0s 6ms/step - loss: 184.3341 - val_loss: 1265.9564\n",
      "Epoch 271/500\n",
      "19/19 [==============================] - 0s 6ms/step - loss: 184.3184 - val_loss: 1266.3302\n",
      "Epoch 272/500\n",
      "19/19 [==============================] - 0s 6ms/step - loss: 184.3034 - val_loss: 1266.6890\n",
      "Epoch 273/500\n",
      "19/19 [==============================] - 0s 6ms/step - loss: 184.2894 - val_loss: 1267.0336\n",
      "Epoch 274/500\n",
      "19/19 [==============================] - 0s 7ms/step - loss: 184.2760 - val_loss: 1267.3640\n",
      "Epoch 275/500\n",
      "19/19 [==============================] - 0s 6ms/step - loss: 184.2635 - val_loss: 1267.6816\n",
      "Epoch 276/500\n",
      "19/19 [==============================] - 0s 5ms/step - loss: 184.2516 - val_loss: 1267.9863\n",
      "Epoch 277/500\n",
      "19/19 [==============================] - 0s 5ms/step - loss: 184.2404 - val_loss: 1268.2788\n",
      "Epoch 278/500\n",
      "19/19 [==============================] - 0s 5ms/step - loss: 184.2298 - val_loss: 1268.5593\n",
      "Epoch 279/500\n",
      "19/19 [==============================] - 0s 5ms/step - loss: 184.2198 - val_loss: 1268.8278\n",
      "Epoch 280/500\n",
      "19/19 [==============================] - 0s 5ms/step - loss: 184.2105 - val_loss: 1269.0861\n",
      "Epoch 281/500\n",
      "19/19 [==============================] - 0s 5ms/step - loss: 184.2015 - val_loss: 1269.3331\n",
      "Epoch 282/500\n",
      "19/19 [==============================] - 0s 6ms/step - loss: 184.1931 - val_loss: 1269.5696\n",
      "Epoch 283/500\n",
      "19/19 [==============================] - 0s 5ms/step - loss: 184.1852 - val_loss: 1269.7965\n",
      "Epoch 284/500\n",
      "19/19 [==============================] - 0s 7ms/step - loss: 184.1776 - val_loss: 1270.0138\n",
      "Epoch 285/500\n",
      "19/19 [==============================] - 0s 8ms/step - loss: 184.1704 - val_loss: 1270.2214\n",
      "Epoch 286/500\n",
      "19/19 [==============================] - 0s 5ms/step - loss: 184.1638 - val_loss: 1270.4207\n",
      "Epoch 287/500\n",
      "19/19 [==============================] - 0s 4ms/step - loss: 184.1575 - val_loss: 1270.6113\n",
      "Epoch 288/500\n",
      "19/19 [==============================] - 0s 4ms/step - loss: 184.1514 - val_loss: 1270.7933\n",
      "Epoch 289/500\n",
      "19/19 [==============================] - 0s 5ms/step - loss: 184.1458 - val_loss: 1270.9675\n",
      "Epoch 290/500\n",
      "19/19 [==============================] - 0s 5ms/step - loss: 184.1404 - val_loss: 1271.1338\n",
      "Epoch 291/500\n",
      "19/19 [==============================] - 0s 5ms/step - loss: 184.1353 - val_loss: 1271.2925\n",
      "Epoch 292/500\n",
      "19/19 [==============================] - 0s 6ms/step - loss: 184.1306 - val_loss: 1271.4446\n",
      "Epoch 293/500\n",
      "19/19 [==============================] - 0s 5ms/step - loss: 184.1261 - val_loss: 1271.5898\n",
      "Epoch 294/500\n",
      "19/19 [==============================] - 0s 6ms/step - loss: 184.1219 - val_loss: 1271.7290\n",
      "Epoch 295/500\n",
      "19/19 [==============================] - 0s 5ms/step - loss: 184.1179 - val_loss: 1271.8612\n",
      "Epoch 296/500\n",
      "19/19 [==============================] - 0s 5ms/step - loss: 184.1140 - val_loss: 1271.9878\n",
      "Epoch 297/500\n",
      "19/19 [==============================] - 0s 5ms/step - loss: 184.1105 - val_loss: 1272.1084\n",
      "Epoch 298/500\n",
      "19/19 [==============================] - 0s 6ms/step - loss: 184.1072 - val_loss: 1272.2231\n",
      "Epoch 299/500\n",
      "19/19 [==============================] - 0s 5ms/step - loss: 184.1040 - val_loss: 1272.3330\n",
      "Epoch 300/500\n",
      "19/19 [==============================] - 0s 4ms/step - loss: 184.1010 - val_loss: 1272.4385\n",
      "Epoch 301/500\n",
      "19/19 [==============================] - 0s 4ms/step - loss: 184.0982 - val_loss: 1272.5383\n",
      "Epoch 302/500\n",
      "19/19 [==============================] - 0s 4ms/step - loss: 184.0955 - val_loss: 1272.6324\n",
      "Epoch 303/500\n",
      "19/19 [==============================] - 0s 4ms/step - loss: 184.0930 - val_loss: 1272.7233\n",
      "Epoch 304/500\n",
      "19/19 [==============================] - 0s 4ms/step - loss: 184.0907 - val_loss: 1272.8093\n",
      "Epoch 305/500\n",
      "19/19 [==============================] - 0s 5ms/step - loss: 184.0885 - val_loss: 1272.8915\n",
      "Epoch 306/500\n",
      "19/19 [==============================] - 0s 5ms/step - loss: 184.0864 - val_loss: 1272.9696\n",
      "Epoch 307/500\n",
      "19/19 [==============================] - 0s 5ms/step - loss: 184.0845 - val_loss: 1273.0439\n",
      "Epoch 308/500\n",
      "19/19 [==============================] - 0s 4ms/step - loss: 184.0826 - val_loss: 1273.1154\n",
      "Epoch 309/500\n",
      "19/19 [==============================] - 0s 4ms/step - loss: 184.0809 - val_loss: 1273.1826\n",
      "Epoch 310/500\n",
      "19/19 [==============================] - 0s 8ms/step - loss: 184.0793 - val_loss: 1273.2467\n",
      "Epoch 311/500\n",
      "19/19 [==============================] - 0s 6ms/step - loss: 184.0778 - val_loss: 1273.3077\n",
      "Epoch 312/500\n",
      "19/19 [==============================] - 0s 4ms/step - loss: 184.0763 - val_loss: 1273.3661\n",
      "Epoch 313/500\n",
      "19/19 [==============================] - 0s 4ms/step - loss: 184.0750 - val_loss: 1273.4213\n",
      "Epoch 314/500\n",
      "19/19 [==============================] - 0s 5ms/step - loss: 184.0737 - val_loss: 1273.4738\n",
      "Epoch 315/500\n",
      "19/19 [==============================] - 0s 4ms/step - loss: 184.0726 - val_loss: 1273.5237\n",
      "Epoch 316/500\n",
      "19/19 [==============================] - 0s 5ms/step - loss: 184.0715 - val_loss: 1273.5710\n",
      "Epoch 317/500\n",
      "19/19 [==============================] - 0s 4ms/step - loss: 184.0705 - val_loss: 1273.6165\n",
      "Epoch 318/500\n",
      "19/19 [==============================] - 0s 5ms/step - loss: 184.0696 - val_loss: 1273.6594\n",
      "Epoch 319/500\n",
      "19/19 [==============================] - 0s 4ms/step - loss: 184.0687 - val_loss: 1273.7003\n",
      "Epoch 320/500\n",
      "19/19 [==============================] - 0s 5ms/step - loss: 184.0678 - val_loss: 1273.7388\n",
      "Epoch 321/500\n",
      "19/19 [==============================] - 0s 5ms/step - loss: 184.0670 - val_loss: 1273.7755\n",
      "Epoch 322/500\n",
      "19/19 [==============================] - 0s 4ms/step - loss: 184.0664 - val_loss: 1273.8107\n",
      "Epoch 323/500\n",
      "19/19 [==============================] - 0s 4ms/step - loss: 184.0657 - val_loss: 1273.8431\n",
      "Epoch 324/500\n",
      "19/19 [==============================] - 0s 5ms/step - loss: 184.0651 - val_loss: 1273.8739\n",
      "Epoch 325/500\n",
      "19/19 [==============================] - 0s 4ms/step - loss: 184.0646 - val_loss: 1273.9038\n",
      "Epoch 326/500\n",
      "19/19 [==============================] - 0s 4ms/step - loss: 184.0640 - val_loss: 1273.9319\n",
      "Epoch 327/500\n",
      "19/19 [==============================] - 0s 5ms/step - loss: 184.0635 - val_loss: 1273.9581\n",
      "Epoch 328/500\n",
      "19/19 [==============================] - 0s 4ms/step - loss: 184.0632 - val_loss: 1273.9836\n",
      "Epoch 329/500\n",
      "19/19 [==============================] - 0s 5ms/step - loss: 184.0627 - val_loss: 1274.0074\n",
      "Epoch 330/500\n",
      "19/19 [==============================] - 0s 11ms/step - loss: 184.0624 - val_loss: 1274.0302\n",
      "Epoch 331/500\n",
      "19/19 [==============================] - 0s 5ms/step - loss: 184.0620 - val_loss: 1274.0519\n",
      "Epoch 332/500\n",
      "19/19 [==============================] - 0s 5ms/step - loss: 184.0617 - val_loss: 1274.0721\n",
      "Epoch 333/500\n",
      "19/19 [==============================] - 0s 4ms/step - loss: 184.0615 - val_loss: 1274.0917\n",
      "Epoch 334/500\n",
      "19/19 [==============================] - 0s 4ms/step - loss: 184.0612 - val_loss: 1274.1097\n",
      "Epoch 335/500\n",
      "19/19 [==============================] - 0s 5ms/step - loss: 184.0610 - val_loss: 1274.1272\n",
      "Epoch 336/500\n",
      "19/19 [==============================] - 0s 4ms/step - loss: 184.0608 - val_loss: 1274.1439\n",
      "Epoch 337/500\n",
      "19/19 [==============================] - 0s 4ms/step - loss: 184.0607 - val_loss: 1274.1594\n",
      "Epoch 338/500\n",
      "19/19 [==============================] - 0s 4ms/step - loss: 184.0605 - val_loss: 1274.1741\n",
      "Epoch 339/500\n",
      "19/19 [==============================] - 0s 4ms/step - loss: 184.0603 - val_loss: 1274.1871\n",
      "Epoch 340/500\n",
      "19/19 [==============================] - 0s 4ms/step - loss: 184.0603 - val_loss: 1274.2007\n",
      "Epoch 341/500\n",
      "19/19 [==============================] - 0s 5ms/step - loss: 184.0602 - val_loss: 1274.2134\n",
      "Epoch 342/500\n",
      "19/19 [==============================] - 0s 5ms/step - loss: 184.0601 - val_loss: 1274.2250\n",
      "Epoch 343/500\n",
      "19/19 [==============================] - 0s 4ms/step - loss: 184.0600 - val_loss: 1274.2361\n",
      "Epoch 344/500\n",
      "19/19 [==============================] - 0s 4ms/step - loss: 184.0600 - val_loss: 1274.2468\n",
      "Epoch 345/500\n",
      "19/19 [==============================] - 0s 4ms/step - loss: 184.0599 - val_loss: 1274.2567\n",
      "Epoch 346/500\n",
      "19/19 [==============================] - 0s 4ms/step - loss: 184.0600 - val_loss: 1274.2664\n",
      "Epoch 347/500\n",
      "19/19 [==============================] - 0s 5ms/step - loss: 184.0600 - val_loss: 1274.2753\n",
      "Epoch 348/500\n",
      "19/19 [==============================] - 0s 4ms/step - loss: 184.0599 - val_loss: 1274.2837\n",
      "Epoch 349/500\n",
      "19/19 [==============================] - 0s 5ms/step - loss: 184.0600 - val_loss: 1274.2914\n",
      "Epoch 350/500\n",
      "19/19 [==============================] - 0s 5ms/step - loss: 184.0600 - val_loss: 1274.2992\n",
      "Epoch 351/500\n",
      "19/19 [==============================] - 0s 4ms/step - loss: 184.0600 - val_loss: 1274.3063\n",
      "Epoch 352/500\n",
      "19/19 [==============================] - 0s 4ms/step - loss: 184.0601 - val_loss: 1274.3131\n",
      "Epoch 353/500\n",
      "19/19 [==============================] - 0s 4ms/step - loss: 184.0601 - val_loss: 1274.3193\n",
      "Epoch 354/500\n",
      "19/19 [==============================] - 0s 4ms/step - loss: 184.0602 - val_loss: 1274.3257\n",
      "Epoch 355/500\n",
      "19/19 [==============================] - 0s 4ms/step - loss: 184.0603 - val_loss: 1274.3313\n",
      "Epoch 356/500\n",
      "19/19 [==============================] - 0s 5ms/step - loss: 184.0603 - val_loss: 1274.3367\n",
      "Epoch 357/500\n",
      "19/19 [==============================] - 0s 10ms/step - loss: 184.0603 - val_loss: 1274.3413\n",
      "Epoch 358/500\n",
      "19/19 [==============================] - 0s 5ms/step - loss: 184.0605 - val_loss: 1274.3464\n",
      "Epoch 359/500\n",
      "19/19 [==============================] - 0s 4ms/step - loss: 184.0606 - val_loss: 1274.3508\n",
      "Epoch 360/500\n",
      "19/19 [==============================] - 0s 5ms/step - loss: 184.0607 - val_loss: 1274.3555\n",
      "Epoch 361/500\n",
      "19/19 [==============================] - 0s 4ms/step - loss: 184.0607 - val_loss: 1274.3596\n",
      "Epoch 362/500\n",
      "19/19 [==============================] - 0s 4ms/step - loss: 184.0608 - val_loss: 1274.3633\n",
      "Epoch 363/500\n",
      "19/19 [==============================] - 0s 4ms/step - loss: 184.0609 - val_loss: 1274.3668\n",
      "Epoch 364/500\n",
      "19/19 [==============================] - 0s 5ms/step - loss: 184.0610 - val_loss: 1274.3704\n",
      "Epoch 365/500\n",
      "19/19 [==============================] - 0s 5ms/step - loss: 184.0611 - val_loss: 1274.3737\n",
      "Epoch 366/500\n",
      "19/19 [==============================] - 0s 4ms/step - loss: 184.0612 - val_loss: 1274.3768\n",
      "Epoch 367/500\n",
      "19/19 [==============================] - 0s 5ms/step - loss: 184.0613 - val_loss: 1274.3794\n",
      "Epoch 368/500\n",
      "19/19 [==============================] - 0s 4ms/step - loss: 184.0615 - val_loss: 1274.3820\n",
      "Epoch 369/500\n",
      "19/19 [==============================] - 0s 4ms/step - loss: 184.0616 - val_loss: 1274.3844\n",
      "Epoch 370/500\n",
      "19/19 [==============================] - 0s 5ms/step - loss: 184.0618 - val_loss: 1274.3867\n",
      "Epoch 371/500\n",
      "19/19 [==============================] - 0s 5ms/step - loss: 184.0618 - val_loss: 1274.3889\n",
      "Epoch 372/500\n",
      "19/19 [==============================] - 0s 5ms/step - loss: 184.0619 - val_loss: 1274.3912\n",
      "Epoch 373/500\n",
      "19/19 [==============================] - 0s 4ms/step - loss: 184.0620 - val_loss: 1274.3932\n",
      "Epoch 374/500\n",
      "19/19 [==============================] - 0s 5ms/step - loss: 184.0622 - val_loss: 1274.3945\n",
      "Epoch 375/500\n",
      "19/19 [==============================] - 0s 6ms/step - loss: 184.0623 - val_loss: 1274.3965\n",
      "Epoch 376/500\n",
      "19/19 [==============================] - 0s 4ms/step - loss: 184.0624 - val_loss: 1274.3984\n",
      "Epoch 377/500\n",
      "19/19 [==============================] - 0s 4ms/step - loss: 184.0626 - val_loss: 1274.4003\n",
      "Epoch 378/500\n",
      "19/19 [==============================] - 0s 7ms/step - loss: 184.0627 - val_loss: 1274.4017\n",
      "Epoch 379/500\n",
      "19/19 [==============================] - 0s 5ms/step - loss: 184.0628 - val_loss: 1274.4031\n",
      "Epoch 380/500\n",
      "19/19 [==============================] - 0s 4ms/step - loss: 184.0629 - val_loss: 1274.4044\n",
      "Epoch 381/500\n",
      "19/19 [==============================] - 0s 4ms/step - loss: 184.0631 - val_loss: 1274.4059\n",
      "Epoch 382/500\n",
      "19/19 [==============================] - 0s 5ms/step - loss: 184.0631 - val_loss: 1274.4069\n",
      "Epoch 383/500\n",
      "19/19 [==============================] - 0s 9ms/step - loss: 184.0632 - val_loss: 1274.4076\n",
      "Epoch 384/500\n",
      "19/19 [==============================] - 0s 6ms/step - loss: 184.0634 - val_loss: 1274.4081\n",
      "Epoch 385/500\n",
      "19/19 [==============================] - 0s 5ms/step - loss: 184.0636 - val_loss: 1274.4093\n",
      "Epoch 386/500\n",
      "19/19 [==============================] - 0s 5ms/step - loss: 184.0637 - val_loss: 1274.4100\n",
      "Epoch 387/500\n",
      "19/19 [==============================] - 0s 5ms/step - loss: 184.0638 - val_loss: 1274.4106\n",
      "Epoch 388/500\n",
      "19/19 [==============================] - 0s 6ms/step - loss: 184.0639 - val_loss: 1274.4109\n",
      "Epoch 389/500\n",
      "19/19 [==============================] - 0s 7ms/step - loss: 184.0640 - val_loss: 1274.4119\n",
      "Epoch 390/500\n",
      "19/19 [==============================] - 0s 5ms/step - loss: 184.0641 - val_loss: 1274.4125\n",
      "Epoch 391/500\n",
      "19/19 [==============================] - 0s 5ms/step - loss: 184.0642 - val_loss: 1274.4130\n",
      "Epoch 392/500\n",
      "19/19 [==============================] - 0s 6ms/step - loss: 184.0644 - val_loss: 1274.4136\n",
      "Epoch 393/500\n",
      "19/19 [==============================] - 0s 5ms/step - loss: 184.0645 - val_loss: 1274.4144\n",
      "Epoch 394/500\n",
      "19/19 [==============================] - 0s 6ms/step - loss: 184.0646 - val_loss: 1274.4144\n",
      "Epoch 395/500\n",
      "19/19 [==============================] - 0s 5ms/step - loss: 184.0648 - val_loss: 1274.4152\n",
      "Epoch 396/500\n",
      "19/19 [==============================] - 0s 4ms/step - loss: 184.0648 - val_loss: 1274.4156\n",
      "Epoch 397/500\n",
      "19/19 [==============================] - 0s 6ms/step - loss: 184.0649 - val_loss: 1274.4155\n",
      "Epoch 398/500\n",
      "19/19 [==============================] - 0s 7ms/step - loss: 184.0650 - val_loss: 1274.4156\n",
      "Epoch 399/500\n",
      "19/19 [==============================] - 0s 4ms/step - loss: 184.0651 - val_loss: 1274.4159\n",
      "Epoch 400/500\n",
      "19/19 [==============================] - 0s 5ms/step - loss: 184.0652 - val_loss: 1274.4158\n",
      "Epoch 401/500\n",
      "19/19 [==============================] - 0s 6ms/step - loss: 184.0654 - val_loss: 1274.4165\n",
      "Epoch 402/500\n",
      "19/19 [==============================] - 0s 4ms/step - loss: 184.0654 - val_loss: 1274.4165\n",
      "Epoch 403/500\n",
      "19/19 [==============================] - 0s 4ms/step - loss: 184.0655 - val_loss: 1274.4167\n",
      "Epoch 404/500\n",
      "19/19 [==============================] - 0s 11ms/step - loss: 184.0656 - val_loss: 1274.4164\n",
      "Epoch 405/500\n",
      "19/19 [==============================] - 0s 5ms/step - loss: 184.0658 - val_loss: 1274.4169\n",
      "Epoch 406/500\n",
      "19/19 [==============================] - 0s 4ms/step - loss: 184.0658 - val_loss: 1274.4169\n",
      "Epoch 407/500\n",
      "19/19 [==============================] - 0s 4ms/step - loss: 184.0660 - val_loss: 1274.4169\n",
      "Epoch 408/500\n",
      "19/19 [==============================] - 0s 4ms/step - loss: 184.0661 - val_loss: 1274.4171\n",
      "Epoch 409/500\n",
      "19/19 [==============================] - 0s 5ms/step - loss: 184.0661 - val_loss: 1274.4165\n",
      "Epoch 410/500\n",
      "19/19 [==============================] - 0s 5ms/step - loss: 184.0663 - val_loss: 1274.4160\n",
      "Epoch 411/500\n",
      "19/19 [==============================] - 0s 5ms/step - loss: 184.0663 - val_loss: 1274.4156\n",
      "Epoch 412/500\n",
      "19/19 [==============================] - 0s 5ms/step - loss: 184.0664 - val_loss: 1274.4149\n",
      "Epoch 413/500\n",
      "19/19 [==============================] - 0s 4ms/step - loss: 184.0665 - val_loss: 1274.4146\n",
      "Epoch 414/500\n",
      "19/19 [==============================] - 0s 5ms/step - loss: 184.0666 - val_loss: 1274.4135\n",
      "Epoch 415/500\n",
      "19/19 [==============================] - 0s 5ms/step - loss: 184.0666 - val_loss: 1274.4125\n",
      "Epoch 416/500\n",
      "19/19 [==============================] - 0s 5ms/step - loss: 184.0667 - val_loss: 1274.4109\n",
      "Epoch 417/500\n",
      "19/19 [==============================] - 0s 5ms/step - loss: 184.0669 - val_loss: 1274.4094\n",
      "Epoch 418/500\n",
      "19/19 [==============================] - 0s 4ms/step - loss: 184.0670 - val_loss: 1274.4022\n",
      "Epoch 419/500\n",
      "19/19 [==============================] - 0s 5ms/step - loss: 184.0366 - val_loss: 1272.7931\n",
      "Epoch 420/500\n",
      "19/19 [==============================] - 0s 5ms/step - loss: 184.2670 - val_loss: 1274.1304\n",
      "Epoch 421/500\n",
      "19/19 [==============================] - 0s 4ms/step - loss: 184.1094 - val_loss: 1274.2433\n",
      "Epoch 422/500\n",
      "19/19 [==============================] - 0s 6ms/step - loss: 184.0936 - val_loss: 1274.2719\n",
      "Epoch 423/500\n",
      "19/19 [==============================] - 0s 8ms/step - loss: 184.0888 - val_loss: 1274.2880\n",
      "Epoch 424/500\n",
      "19/19 [==============================] - 0s 8ms/step - loss: 184.0863 - val_loss: 1274.3005\n",
      "Epoch 425/500\n",
      "19/19 [==============================] - 0s 10ms/step - loss: 184.0845 - val_loss: 1274.3110\n",
      "Epoch 426/500\n",
      "19/19 [==============================] - 0s 11ms/step - loss: 184.0832 - val_loss: 1274.3204\n",
      "Epoch 427/500\n",
      "19/19 [==============================] - 0s 7ms/step - loss: 184.0822 - val_loss: 1274.3293\n",
      "Epoch 428/500\n",
      "19/19 [==============================] - 0s 5ms/step - loss: 184.0814 - val_loss: 1274.3369\n",
      "Epoch 429/500\n",
      "19/19 [==============================] - 0s 6ms/step - loss: 184.0807 - val_loss: 1274.3444\n",
      "Epoch 430/500\n",
      "19/19 [==============================] - 0s 5ms/step - loss: 184.0801 - val_loss: 1274.3505\n",
      "Epoch 431/500\n",
      "19/19 [==============================] - 0s 5ms/step - loss: 184.0796 - val_loss: 1274.3566\n",
      "Epoch 432/500\n",
      "19/19 [==============================] - 0s 7ms/step - loss: 184.0791 - val_loss: 1274.3622\n",
      "Epoch 433/500\n",
      "19/19 [==============================] - 0s 5ms/step - loss: 184.0787 - val_loss: 1274.3671\n",
      "Epoch 434/500\n",
      "19/19 [==============================] - 0s 7ms/step - loss: 184.0784 - val_loss: 1274.3726\n",
      "Epoch 435/500\n",
      "19/19 [==============================] - 0s 6ms/step - loss: 184.0780 - val_loss: 1274.3768\n",
      "Epoch 436/500\n",
      "19/19 [==============================] - 0s 5ms/step - loss: 184.0778 - val_loss: 1274.3811\n",
      "Epoch 437/500\n",
      "19/19 [==============================] - 0s 8ms/step - loss: 184.0775 - val_loss: 1274.3848\n",
      "Epoch 438/500\n",
      "19/19 [==============================] - 0s 7ms/step - loss: 184.0773 - val_loss: 1274.3881\n",
      "Epoch 439/500\n",
      "19/19 [==============================] - 0s 14ms/step - loss: 184.0771 - val_loss: 1274.3914\n",
      "Epoch 440/500\n",
      "19/19 [==============================] - 0s 6ms/step - loss: 184.0769 - val_loss: 1274.3942\n",
      "Epoch 441/500\n",
      "19/19 [==============================] - 0s 6ms/step - loss: 184.0767 - val_loss: 1274.3970\n",
      "Epoch 442/500\n",
      "19/19 [==============================] - 0s 7ms/step - loss: 184.0765 - val_loss: 1274.3990\n",
      "Epoch 443/500\n",
      "19/19 [==============================] - 0s 7ms/step - loss: 184.0764 - val_loss: 1274.4019\n",
      "Epoch 444/500\n",
      "19/19 [==============================] - 0s 6ms/step - loss: 184.0763 - val_loss: 1274.4043\n",
      "Epoch 445/500\n",
      "19/19 [==============================] - 0s 6ms/step - loss: 184.0761 - val_loss: 1274.4065\n",
      "Epoch 446/500\n",
      "19/19 [==============================] - 0s 7ms/step - loss: 184.0760 - val_loss: 1274.4080\n",
      "Epoch 447/500\n",
      "19/19 [==============================] - 0s 5ms/step - loss: 184.0759 - val_loss: 1274.4094\n",
      "Epoch 448/500\n",
      "19/19 [==============================] - 0s 5ms/step - loss: 184.0759 - val_loss: 1274.4109\n",
      "Epoch 449/500\n",
      "19/19 [==============================] - 0s 6ms/step - loss: 184.0758 - val_loss: 1274.4130\n",
      "Epoch 450/500\n",
      "19/19 [==============================] - 0s 10ms/step - loss: 184.0757 - val_loss: 1274.4146\n",
      "Epoch 451/500\n",
      "19/19 [==============================] - 0s 7ms/step - loss: 184.0757 - val_loss: 1274.4159\n",
      "Epoch 452/500\n",
      "19/19 [==============================] - 0s 7ms/step - loss: 184.0756 - val_loss: 1274.4171\n",
      "Epoch 453/500\n",
      "19/19 [==============================] - 0s 6ms/step - loss: 184.0756 - val_loss: 1274.4180\n",
      "Epoch 454/500\n",
      "19/19 [==============================] - 0s 5ms/step - loss: 184.0754 - val_loss: 1274.4191\n",
      "Epoch 455/500\n",
      "19/19 [==============================] - 0s 5ms/step - loss: 184.0755 - val_loss: 1274.4200\n",
      "Epoch 456/500\n",
      "19/19 [==============================] - 0s 5ms/step - loss: 184.0754 - val_loss: 1274.4207\n",
      "Epoch 457/500\n",
      "19/19 [==============================] - 0s 5ms/step - loss: 184.0753 - val_loss: 1274.4211\n",
      "Epoch 458/500\n",
      "19/19 [==============================] - 0s 5ms/step - loss: 184.0754 - val_loss: 1274.4222\n",
      "Epoch 459/500\n",
      "19/19 [==============================] - 0s 6ms/step - loss: 184.0753 - val_loss: 1274.4230\n",
      "Epoch 460/500\n",
      "19/19 [==============================] - 0s 6ms/step - loss: 184.0753 - val_loss: 1274.4238\n",
      "Epoch 461/500\n",
      "19/19 [==============================] - 0s 14ms/step - loss: 184.0753 - val_loss: 1274.4247\n",
      "Epoch 462/500\n",
      "19/19 [==============================] - 0s 7ms/step - loss: 184.0753 - val_loss: 1274.4250\n",
      "Epoch 463/500\n",
      "19/19 [==============================] - 0s 7ms/step - loss: 184.0752 - val_loss: 1274.4254\n",
      "Epoch 464/500\n",
      "19/19 [==============================] - 0s 7ms/step - loss: 184.0752 - val_loss: 1274.4265\n",
      "Epoch 465/500\n",
      "19/19 [==============================] - 0s 7ms/step - loss: 184.0752 - val_loss: 1274.4269\n",
      "Epoch 466/500\n",
      "19/19 [==============================] - 0s 7ms/step - loss: 184.0751 - val_loss: 1274.4276\n",
      "Epoch 467/500\n",
      "19/19 [==============================] - 0s 6ms/step - loss: 184.0751 - val_loss: 1274.4277\n",
      "Epoch 468/500\n",
      "19/19 [==============================] - 0s 5ms/step - loss: 184.0751 - val_loss: 1274.4279\n",
      "Epoch 469/500\n",
      "19/19 [==============================] - 0s 5ms/step - loss: 184.0751 - val_loss: 1274.4287\n",
      "Epoch 470/500\n",
      "19/19 [==============================] - 0s 6ms/step - loss: 184.0751 - val_loss: 1274.4291\n",
      "Epoch 471/500\n",
      "19/19 [==============================] - 0s 6ms/step - loss: 184.0751 - val_loss: 1274.4292\n",
      "Epoch 472/500\n",
      "19/19 [==============================] - 0s 5ms/step - loss: 184.0751 - val_loss: 1274.4293\n",
      "Epoch 473/500\n",
      "19/19 [==============================] - 0s 6ms/step - loss: 184.0751 - val_loss: 1274.4296\n",
      "Epoch 474/500\n",
      "19/19 [==============================] - 0s 5ms/step - loss: 184.0751 - val_loss: 1274.4304\n",
      "Epoch 475/500\n",
      "19/19 [==============================] - 0s 4ms/step - loss: 184.0751 - val_loss: 1274.4304\n",
      "Epoch 476/500\n",
      "19/19 [==============================] - 0s 4ms/step - loss: 184.0751 - val_loss: 1274.4308\n",
      "Epoch 477/500\n",
      "19/19 [==============================] - 0s 4ms/step - loss: 184.0752 - val_loss: 1274.4315\n",
      "Epoch 478/500\n",
      "19/19 [==============================] - 0s 4ms/step - loss: 184.0751 - val_loss: 1274.4316\n",
      "Epoch 479/500\n",
      "19/19 [==============================] - 0s 4ms/step - loss: 184.0751 - val_loss: 1274.4324\n",
      "Epoch 480/500\n",
      "19/19 [==============================] - 0s 4ms/step - loss: 184.0751 - val_loss: 1274.4321\n",
      "Epoch 481/500\n",
      "19/19 [==============================] - 0s 4ms/step - loss: 184.0751 - val_loss: 1274.4321\n",
      "Epoch 482/500\n",
      "19/19 [==============================] - 0s 4ms/step - loss: 184.0751 - val_loss: 1274.4326\n",
      "Epoch 483/500\n",
      "19/19 [==============================] - 0s 4ms/step - loss: 184.0751 - val_loss: 1274.4325\n",
      "Epoch 484/500\n",
      "19/19 [==============================] - 0s 4ms/step - loss: 184.0751 - val_loss: 1274.4321\n",
      "Epoch 485/500\n",
      "19/19 [==============================] - 0s 4ms/step - loss: 184.0751 - val_loss: 1274.4326\n",
      "Epoch 486/500\n",
      "19/19 [==============================] - 0s 4ms/step - loss: 184.0751 - val_loss: 1274.4327\n",
      "Epoch 487/500\n",
      "19/19 [==============================] - 0s 4ms/step - loss: 184.0751 - val_loss: 1274.4327\n",
      "Epoch 488/500\n",
      "19/19 [==============================] - 0s 4ms/step - loss: 184.0751 - val_loss: 1274.4325\n",
      "Epoch 489/500\n",
      "19/19 [==============================] - 0s 4ms/step - loss: 184.0751 - val_loss: 1274.4325\n",
      "Epoch 490/500\n",
      "19/19 [==============================] - 0s 4ms/step - loss: 184.0751 - val_loss: 1274.4327\n",
      "Epoch 491/500\n",
      "19/19 [==============================] - 0s 4ms/step - loss: 184.0751 - val_loss: 1274.4329\n",
      "Epoch 492/500\n",
      "19/19 [==============================] - 0s 4ms/step - loss: 184.0751 - val_loss: 1274.4327\n",
      "Epoch 493/500\n",
      "19/19 [==============================] - 0s 4ms/step - loss: 184.0751 - val_loss: 1274.4323\n",
      "Epoch 494/500\n",
      "19/19 [==============================] - 0s 4ms/step - loss: 184.0751 - val_loss: 1274.4320\n",
      "Epoch 495/500\n",
      "19/19 [==============================] - 0s 4ms/step - loss: 184.0751 - val_loss: 1274.4318\n",
      "Epoch 496/500\n",
      "19/19 [==============================] - 0s 5ms/step - loss: 184.0751 - val_loss: 1274.4318\n",
      "Epoch 497/500\n",
      "19/19 [==============================] - 0s 4ms/step - loss: 184.0751 - val_loss: 1274.4315\n",
      "Epoch 498/500\n",
      "19/19 [==============================] - 0s 5ms/step - loss: 184.0752 - val_loss: 1274.4318\n",
      "Epoch 499/500\n",
      "19/19 [==============================] - 0s 4ms/step - loss: 184.0752 - val_loss: 1274.4319\n",
      "Epoch 500/500\n",
      "19/19 [==============================] - 0s 4ms/step - loss: 184.0753 - val_loss: 1274.4325\n"
     ]
    }
   ],
   "source": [
    "C0 = tf.Variable(88.1552, name=\"C0\", trainable=True, dtype=tf.float32)\n",
    "K0 = tf.Variable(-0.0026, name=\"K0\", trainable=True, dtype=tf.float32)\n",
    "K1 = tf.Variable(-0.0004, name=\"K1\", trainable=True, dtype=tf.float32)\n",
    "a = tf.Variable(0.0000, name=\"a\", trainable=True, dtype=tf.float32)\n",
    "b = tf.Variable(0.0102, name=\"b\", trainable=True, dtype=tf.float32)\n",
    "c = tf.Variable(2.8734, name=\"c\", trainable=True, dtype=tf.float32)\n",
    "\n",
    "splitr = 0.8\n",
    "\n",
    "\n",
    "def loss_fn(y_true, y_pred):\n",
    "    squared_difference = tf.square(y_true[:, 0] - y_pred[:, 0])\n",
    "    #squared_difference2 = tf.square(y_true[:, 2]-y_pred[:, 2])\n",
    "    #squared_difference1 = tf.square(y_true[:, 1]-y_pred[:, 1])\n",
    "    epsilon = 1\n",
    "    squared_difference3 = tf.square(\n",
    "        y_pred[:, 1] - (\n",
    "            y_pred[:, 0] * (\n",
    "                K0 - K1 * (\n",
    "                    9 * a * tf.math.log((y_pred[:, 0] + epsilon) / C0) / (K0 - K1 * c)**2 +\n",
    "                    4 * b * tf.math.log((y_pred[:, 0] + epsilon) / C0) / (K0 - K1 * c) + c\n",
    "                )\n",
    "            )\n",
    "        )\n",
    "    )\n",
    "    return tf.reduce_mean(squared_difference, axis=-1) + 0.2*tf.reduce_mean(squared_difference3, axis=-1)\n",
    "model = Sequential()\n",
    "model.add(LSTM(100, input_shape=(trainX.shape[1], trainX.shape[2])))\n",
    "model.add(Dense(60))\n",
    "model.compile(loss=loss_fn, optimizer='adam')\n",
    "history = model.fit(trainX[:int(splitr*trainX.shape[0])], trainy[:int(splitr*trainX.shape[0])], epochs=500, batch_size=64, validation_data=(trainX[int(splitr*trainX.shape[0]):trainX.shape[0]], trainy[int(splitr*trainX.shape[0]):trainX.shape[0]]), shuffle=False)"
   ]
  },
  {
   "cell_type": "code",
   "execution_count": 19,
   "metadata": {
    "colab": {
     "base_uri": "https://localhost:8080/"
    },
    "id": "yJL101rPyuoT",
    "outputId": "239ff2b1-c186-423a-d316-939dfdd7c793"
   },
   "outputs": [
    {
     "name": "stdout",
     "output_type": "stream",
     "text": [
      "1/1 [==============================] - 0s 366ms/step\n"
     ]
    }
   ],
   "source": [
    "forecast_without_mc = forecastX\n",
    "yhat_without_mc = model.predict(forecast_without_mc) # Step Ahead Prediction\n",
    "forecast_without_mc = forecast_without_mc.reshape((forecast_without_mc.shape[0], forecast_without_mc.shape[2])) # Historical Input"
   ]
  },
  {
   "cell_type": "code",
   "execution_count": 20,
   "metadata": {
    "colab": {
     "base_uri": "https://localhost:8080/"
    },
    "id": "g9dQELcJ8wbp",
    "outputId": "4dc7671b-b1a8-48d5-8744-a86f98446109"
   },
   "outputs": [
    {
     "data": {
      "text/plain": [
       "(1, 1, 251)"
      ]
     },
     "execution_count": 20,
     "metadata": {},
     "output_type": "execute_result"
    }
   ],
   "source": [
    "forecastX.shape"
   ]
  },
  {
   "cell_type": "code",
   "execution_count": 21,
   "metadata": {
    "colab": {
     "base_uri": "https://localhost:8080/"
    },
    "id": "IS2kyIKG1Kbr",
    "outputId": "f31b3485-8e26-452f-9298-ea8bf7e80ad1"
   },
   "outputs": [
    {
     "data": {
      "text/plain": [
       "(1, 251)"
      ]
     },
     "execution_count": 21,
     "metadata": {},
     "output_type": "execute_result"
    }
   ],
   "source": [
    "forecast_without_mc.shape"
   ]
  },
  {
   "cell_type": "code",
   "execution_count": 22,
   "metadata": {
    "id": "0u6VIzaDyuoT"
   },
   "outputs": [],
   "source": [
    "inv_yhat_without_mc = np.concatenate((forecast_without_mc, yhat_without_mc), axis=1) # Concatenation of predicted values with Historical Data\n",
    "#inv_yhat_without_mc = scaler.inverse_transform(inv_yhat_without_mc) # Transform labels back to original encoding"
   ]
  },
  {
   "cell_type": "code",
   "execution_count": 23,
   "metadata": {
    "colab": {
     "base_uri": "https://localhost:8080/"
    },
    "id": "EUEcw0LX07oU",
    "outputId": "cfc32397-9c37-4b43-d087-584bb31c3dcc"
   },
   "outputs": [
    {
     "data": {
      "text/plain": [
       "(1, 311)"
      ]
     },
     "execution_count": 23,
     "metadata": {},
     "output_type": "execute_result"
    }
   ],
   "source": [
    "inv_yhat_without_mc.shape"
   ]
  },
  {
   "cell_type": "code",
   "execution_count": 24,
   "metadata": {
    "id": "31OWVbSh_305"
   },
   "outputs": [],
   "source": [
    "fforecast = inv_yhat_without_mc[:,-300:]"
   ]
  },
  {
   "cell_type": "code",
   "execution_count": 25,
   "metadata": {},
   "outputs": [
    {
     "data": {
      "text/plain": [
       "(1, 300)"
      ]
     },
     "execution_count": 25,
     "metadata": {},
     "output_type": "execute_result"
    }
   ],
   "source": [
    "fforecast.shape"
   ]
  },
  {
   "cell_type": "code",
   "execution_count": 26,
   "metadata": {
    "id": "BlpGH2FOAiRF"
   },
   "outputs": [],
   "source": [
    "final_forecast = fforecast[:,0:300:3]"
   ]
  },
  {
   "cell_type": "code",
   "execution_count": 27,
   "metadata": {},
   "outputs": [
    {
     "data": {
      "text/plain": [
       "(1, 300)"
      ]
     },
     "execution_count": 27,
     "metadata": {},
     "output_type": "execute_result"
    }
   ],
   "source": [
    "fforecast.shape"
   ]
  },
  {
   "cell_type": "code",
   "execution_count": 28,
   "metadata": {
    "id": "CXkgkj_LBk_t"
   },
   "outputs": [],
   "source": [
    "# code to replace all negative value with 0\n",
    "final_forecast[final_forecast<0] = 0"
   ]
  },
  {
   "cell_type": "code",
   "execution_count": 29,
   "metadata": {},
   "outputs": [
    {
     "data": {
      "text/plain": [
       "array([[7.08304622e+01, 7.08052521e+01, 7.07800420e+01, 7.07548319e+01,\n",
       "        7.07296219e+01, 7.07044118e+01, 7.06792017e+01, 1.01987824e-01,\n",
       "        0.00000000e+00, 0.00000000e+00, 1.04044646e-01, 3.02265940e-02,\n",
       "        2.92133838e-01, 7.10738189e+01, 7.10469281e+01, 7.10200373e+01,\n",
       "        7.09931466e+01, 7.09662558e+01, 7.09393651e+01, 7.09124743e+01,\n",
       "        7.08864846e+01, 7.08612745e+01, 7.08360644e+01, 7.08108543e+01,\n",
       "        7.07856443e+01, 7.07604342e+01, 7.07352241e+01, 7.07100140e+01,\n",
       "        7.06848039e+01, 7.44450980e+01, 7.41377918e+01, 7.38100607e+01,\n",
       "        7.34823296e+01, 7.31545985e+01, 7.28054902e+01, 7.23819608e+01,\n",
       "        7.19584314e+01, 7.15349020e+01, 8.38599100e-02, 0.00000000e+00,\n",
       "        0.00000000e+00, 0.00000000e+00, 0.00000000e+00, 0.00000000e+00,\n",
       "        1.07607710e-01, 3.53423450e-01, 1.16271890e-01, 7.07660364e+01,\n",
       "        7.07408263e+01, 7.07156162e+01, 7.06904062e+01, 7.45123249e+01,\n",
       "        7.42098039e+01, 7.38828898e+01, 7.35551587e+01, 7.32274276e+01,\n",
       "        7.28996078e+01, 7.24760784e+01, 7.20525490e+01, 7.16290196e+01,\n",
       "        3.73652940e-01, 0.00000000e+00, 7.33609477e+01, 7.30332166e+01,\n",
       "        7.26486275e+01, 7.22250980e+01, 7.18015686e+01, 7.13780392e+01,\n",
       "        7.11694304e+01, 7.10887582e+01, 7.10080859e+01, 0.00000000e+00,\n",
       "        0.00000000e+00, 5.07494698e+01, 4.22481810e-01, 0.00000000e+00,\n",
       "        0.00000000e+00, 0.00000000e+00, 0.00000000e+00, 7.50860100e-01,\n",
       "        6.64566879e+01, 0.00000000e+00, 0.00000000e+00, 1.26242206e-01,\n",
       "        0.00000000e+00, 0.00000000e+00, 0.00000000e+00, 8.96524251e-01,\n",
       "        0.00000000e+00, 0.00000000e+00, 9.36779916e-01, 3.38726848e-01,\n",
       "        0.00000000e+00, 2.18388677e-01, 0.00000000e+00, 8.87260556e-01,\n",
       "        0.00000000e+00, 3.64819825e-01, 7.51196519e-02, 0.00000000e+00]])"
      ]
     },
     "execution_count": 29,
     "metadata": {},
     "output_type": "execute_result"
    }
   ],
   "source": [
    "final_forecast"
   ]
  },
  {
   "cell_type": "code",
   "execution_count": 30,
   "metadata": {},
   "outputs": [
    {
     "data": {
      "text/plain": [
       "(1, 100)"
      ]
     },
     "execution_count": 30,
     "metadata": {},
     "output_type": "execute_result"
    }
   ],
   "source": [
    "final_forecast.shape"
   ]
  },
  {
   "cell_type": "code",
   "execution_count": 31,
   "metadata": {},
   "outputs": [
    {
     "data": {
      "text/plain": [
       "(100,)"
      ]
     },
     "execution_count": 31,
     "metadata": {},
     "output_type": "execute_result"
    }
   ],
   "source": [
    "test.shape"
   ]
  },
  {
   "cell_type": "code",
   "execution_count": 32,
   "metadata": {},
   "outputs": [],
   "source": [
    "training_set = np.array(training_set)\n",
    "test = np.array(test)\n",
    "final_forecast = np.array(final_forecast.squeeze(0))"
   ]
  },
  {
   "cell_type": "code",
   "execution_count": 33,
   "metadata": {},
   "outputs": [
    {
     "data": {
      "text/plain": [
       "array([62.6717437 , 62.64513305, 62.61852241, 62.59191176, 62.56530112,\n",
       "       62.53869048, 62.51207983, 62.48546919, 62.45885854, 62.4322479 ,\n",
       "       62.40563725, 62.37902661, 62.35241597, 62.32580532, 62.29919468,\n",
       "       62.27258403, 62.24597339, 62.21936275, 62.1927521 , 62.16614146,\n",
       "       62.13953081, 62.11292017, 62.08630952, 62.05969888, 62.03308824,\n",
       "       62.00647759, 61.97986695, 61.9532563 , 61.92664566, 61.90003501,\n",
       "       61.87342437, 61.84681373, 61.82020308, 61.79359244, 61.76698179,\n",
       "       61.74037115, 61.7137605 , 61.68714986, 61.66053922, 61.63392857,\n",
       "       61.60731793, 61.58070728, 61.55409664, 61.52748599, 61.50087535,\n",
       "       61.47426471, 61.44765406, 61.42104342, 61.39443277, 61.36782213,\n",
       "       61.34121148, 61.31460084, 61.2879902 , 61.26137955, 61.23476891,\n",
       "       61.20815826, 61.18154762, 61.15493697, 61.12832633, 61.10171569,\n",
       "       61.07510504, 61.0484944 , 61.02188375, 60.99527311, 60.96866246,\n",
       "       60.94205182, 60.91544118, 60.88883053, 60.86221989, 60.83560924,\n",
       "       60.8089986 , 60.78238796, 60.75577731, 60.72916667, 60.70255602,\n",
       "       60.67594538, 60.64933473, 60.62272409, 60.59611345, 60.5695028 ,\n",
       "       60.54289216, 60.51628151, 60.48967087, 60.46306022, 60.43644958,\n",
       "       60.40983894, 60.38322829, 60.35661765, 60.330007  , 60.30339636,\n",
       "       60.27678571, 60.25017507, 60.22356443, 60.19695378, 60.17034314,\n",
       "       60.14373249, 60.11712185, 60.0905112 , 60.06390056, 60.03728992])"
      ]
     },
     "execution_count": 33,
     "metadata": {},
     "output_type": "execute_result"
    }
   ],
   "source": [
    "test"
   ]
  },
  {
   "cell_type": "code",
   "execution_count": 34,
   "metadata": {},
   "outputs": [
    {
     "data": {
      "text/plain": [
       "(100,)"
      ]
     },
     "execution_count": 34,
     "metadata": {},
     "output_type": "execute_result"
    }
   ],
   "source": [
    "test.shape"
   ]
  },
  {
   "cell_type": "code",
   "execution_count": 35,
   "metadata": {},
   "outputs": [
    {
     "data": {
      "text/plain": [
       "(100,)"
      ]
     },
     "execution_count": 35,
     "metadata": {},
     "output_type": "execute_result"
    }
   ],
   "source": [
    "final_forecast.shape"
   ]
  },
  {
   "cell_type": "code",
   "execution_count": 36,
   "metadata": {},
   "outputs": [
    {
     "data": {
      "text/plain": [
       "(100,)"
      ]
     },
     "execution_count": 36,
     "metadata": {},
     "output_type": "execute_result"
    }
   ],
   "source": [
    "test.shape"
   ]
  },
  {
   "cell_type": "code",
   "execution_count": 37,
   "metadata": {},
   "outputs": [
    {
     "name": "stdout",
     "output_type": "stream",
     "text": [
      "41.029805837110246\n",
      "32.33697076125174\n"
     ]
    }
   ],
   "source": [
    "import math\n",
    "MSE = np.square(np.subtract(np.array(test),np.array(final_forecast))).mean()   \n",
    "rsme = math.sqrt(MSE)\n",
    "print(rsme)  \n",
    "MAE = np.abs(np.subtract(np.array(test),np.array(final_forecast))).mean()   \n",
    "mae = MAE\n",
    "print(mae)"
   ]
  }
 ],
 "metadata": {
  "colab": {
   "provenance": []
  },
  "kernelspec": {
   "display_name": "Python 3",
   "language": "python",
   "name": "python3"
  },
  "language_info": {
   "codemirror_mode": {
    "name": "ipython",
    "version": 3
   },
   "file_extension": ".py",
   "mimetype": "text/x-python",
   "name": "python",
   "nbconvert_exporter": "python",
   "pygments_lexer": "ipython3",
   "version": "3.9.13"
  }
 },
 "nbformat": 4,
 "nbformat_minor": 0
}
