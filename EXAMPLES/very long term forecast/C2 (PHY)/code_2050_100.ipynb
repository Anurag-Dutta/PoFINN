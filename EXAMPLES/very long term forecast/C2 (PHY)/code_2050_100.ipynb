{
 "cells": [
  {
   "cell_type": "markdown",
   "metadata": {
    "id": "pCGKeZ2gyuoQ"
   },
   "source": [
    "_Importing Required Libraries_"
   ]
  },
  {
   "cell_type": "code",
   "execution_count": 1,
   "metadata": {
    "colab": {
     "base_uri": "https://localhost:8080/"
    },
    "id": "A-6LN-zXiLcM",
    "outputId": "4de610a4-f8b8-4f49-c6c0-89de299ccedc"
   },
   "outputs": [
    {
     "name": "stdout",
     "output_type": "stream",
     "text": [
      "Requirement already satisfied: hampel in c:\\users\\anurag dutta\\appdata\\local\\packages\\pythonsoftwarefoundation.python.3.9_qbz5n2kfra8p0\\localcache\\local-packages\\python39\\site-packages (0.0.5)\n",
      "Requirement already satisfied: numpy in c:\\users\\anurag dutta\\appdata\\local\\packages\\pythonsoftwarefoundation.python.3.9_qbz5n2kfra8p0\\localcache\\local-packages\\python39\\site-packages (from hampel) (1.26.4)\n",
      "Requirement already satisfied: pandas in c:\\users\\anurag dutta\\appdata\\local\\packages\\pythonsoftwarefoundation.python.3.9_qbz5n2kfra8p0\\localcache\\local-packages\\python39\\site-packages (from hampel) (1.5.2)\n",
      "Requirement already satisfied: python-dateutil>=2.8.1 in c:\\users\\anurag dutta\\appdata\\local\\packages\\pythonsoftwarefoundation.python.3.9_qbz5n2kfra8p0\\localcache\\local-packages\\python39\\site-packages (from pandas->hampel) (2.8.2)\n",
      "Requirement already satisfied: pytz>=2020.1 in c:\\users\\anurag dutta\\appdata\\local\\packages\\pythonsoftwarefoundation.python.3.9_qbz5n2kfra8p0\\localcache\\local-packages\\python39\\site-packages (from pandas->hampel) (2023.3.post1)\n",
      "Requirement already satisfied: six>=1.5 in c:\\users\\anurag dutta\\appdata\\local\\packages\\pythonsoftwarefoundation.python.3.9_qbz5n2kfra8p0\\localcache\\local-packages\\python39\\site-packages (from python-dateutil>=2.8.1->pandas->hampel) (1.16.0)\n",
      "Note: you may need to restart the kernel to use updated packages.\n"
     ]
    },
    {
     "name": "stderr",
     "output_type": "stream",
     "text": [
      "\n",
      "[notice] A new release of pip is available: 24.2 -> 24.3.1\n",
      "[notice] To update, run: C:\\Users\\Anurag Dutta\\AppData\\Local\\Microsoft\\WindowsApps\\PythonSoftwareFoundation.Python.3.9_qbz5n2kfra8p0\\python.exe -m pip install --upgrade pip\n"
     ]
    }
   ],
   "source": [
    "pip install hampel"
   ]
  },
  {
   "cell_type": "code",
   "execution_count": 2,
   "metadata": {
    "id": "By_d9uXpaFvZ"
   },
   "outputs": [],
   "source": [
    "from keras.models import Sequential\n",
    "from keras.layers import Dense\n",
    "from keras.layers import LSTM\n",
    "from keras.layers import Dropout\n",
    "import keras\n",
    "import tensorflow as tf\n",
    "from hampel import hampel\n",
    "import numpy as np\n",
    "import matplotlib.pyplot as plt\n",
    "import pandas as pd\n",
    "from sklearn.preprocessing import MinMaxScaler\n",
    "from sklearn.metrics import mean_squared_error, mean_absolute_error\n",
    "from math import sqrt\n",
    "from matplotlib import pyplot\n",
    "from numpy import array"
   ]
  },
  {
   "cell_type": "markdown",
   "metadata": {
    "id": "JyOjBMFayuoR"
   },
   "source": [
    "## Pretraining"
   ]
  },
  {
   "cell_type": "markdown",
   "metadata": {
    "id": "-5QqIY_GyuoR"
   },
   "source": [
    "The `capa_intermittency.dat` feeds the model with the dynamics of the Capacitor"
   ]
  },
  {
   "cell_type": "code",
   "execution_count": 3,
   "metadata": {
    "id": "9dV4a8yfyuoR"
   },
   "outputs": [],
   "source": [
    "data = np.genfromtxt('capa_intermittency.dat')\n",
    "training_set = pd.DataFrame(data).reset_index(drop=True)\n",
    "training_set = training_set.iloc[:,0]"
   ]
  },
  {
   "cell_type": "markdown",
   "metadata": {
    "id": "i7easoxByuoR"
   },
   "source": [
    "## Computing the Gradient"
   ]
  },
  {
   "cell_type": "markdown",
   "metadata": {
    "id": "5SnyolJTyuoR"
   },
   "source": [
    "_Calculating the value of_ $\\frac{dx}{dt}$"
   ]
  },
  {
   "cell_type": "code",
   "execution_count": 4,
   "metadata": {
    "colab": {
     "base_uri": "https://localhost:8080/"
    },
    "id": "wmIbVfIvyuoR",
    "outputId": "aa4e3136-c854-465d-d2e9-81cfd546e440"
   },
   "outputs": [
    {
     "name": "stdout",
     "output_type": "stream",
     "text": [
      "1.0\n",
      "1        0.000298\n",
      "2        0.000298\n",
      "3        0.000297\n",
      "4        0.000297\n",
      "5        0.000297\n",
      "           ...   \n",
      "9996     0.000018\n",
      "9997     0.000018\n",
      "9998     0.000018\n",
      "9999     0.000018\n",
      "10000    0.000018\n",
      "Name: 0, Length: 10000, dtype: float64\n"
     ]
    }
   ],
   "source": [
    "t_diff = 1\n",
    "print(training_set.max())\n",
    "gradient_t = (training_set.diff()/t_diff).iloc[1:] # dx/dt\n",
    "print(gradient_t)"
   ]
  },
  {
   "cell_type": "markdown",
   "metadata": {
    "id": "_2eVeeoxyuoS"
   },
   "source": [
    "## Loading Datasets"
   ]
  },
  {
   "cell_type": "code",
   "execution_count": 5,
   "metadata": {
    "id": "0J-NKyIEyuoS"
   },
   "outputs": [
    {
     "data": {
      "text/plain": [
       "0       90.500000\n",
       "1       90.275910\n",
       "2       90.051821\n",
       "3       89.827731\n",
       "4       89.603641\n",
       "          ...    \n",
       "2145    57.614245\n",
       "2146    57.598668\n",
       "2147    57.583091\n",
       "2148    57.567514\n",
       "2149    57.551937\n",
       "Name: C2, Length: 2150, dtype: float64"
      ]
     },
     "execution_count": 5,
     "metadata": {},
     "output_type": "execute_result"
    }
   ],
   "source": [
    "data = pd.read_csv(\"c2_interpolated_2050_100.csv\")\n",
    "training_set = data.iloc[:, 1]\n",
    "training_set"
   ]
  },
  {
   "cell_type": "code",
   "execution_count": 6,
   "metadata": {
    "colab": {
     "base_uri": "https://localhost:8080/"
    },
    "id": "-CbNUhJ74UqF",
    "outputId": "20f562d8-8247-49cc-b9c3-00eca5e13e2d"
   },
   "outputs": [
    {
     "data": {
      "text/plain": [
       "0       90.500000\n",
       "1       90.275910\n",
       "2       90.051821\n",
       "3       89.827731\n",
       "4       89.603641\n",
       "          ...    \n",
       "2045     0.887261\n",
       "2046     0.000000\n",
       "2047     0.364820\n",
       "2048     0.075120\n",
       "2049     0.000000\n",
       "Name: C2, Length: 2050, dtype: float64"
      ]
     },
     "execution_count": 6,
     "metadata": {},
     "output_type": "execute_result"
    }
   ],
   "source": [
    "test = training_set.tail(100)\n",
    "test\n",
    "training_set = training_set.head(2050)\n",
    "training_set"
   ]
  },
  {
   "cell_type": "code",
   "execution_count": 7,
   "metadata": {
    "colab": {
     "base_uri": "https://localhost:8080/"
    },
    "id": "X0TwTcq0yuoS",
    "outputId": "37252ed8-d88e-4044-fa7a-922411990b5b"
   },
   "outputs": [
    {
     "name": "stdout",
     "output_type": "stream",
     "text": [
      "0       0.000298\n",
      "1       0.000298\n",
      "2       0.000297\n",
      "3       0.000297\n",
      "4       0.000297\n",
      "          ...   \n",
      "9995    0.000018\n",
      "9996    0.000018\n",
      "9997    0.000018\n",
      "9998    0.000018\n",
      "9999    0.000018\n",
      "Name: 0, Length: 10000, dtype: float64\n"
     ]
    }
   ],
   "source": [
    "training_set = training_set.reset_index(drop=True)\n",
    "gradient_t = gradient_t.reset_index(drop=True)\n",
    "print(gradient_t)"
   ]
  },
  {
   "cell_type": "code",
   "execution_count": 8,
   "metadata": {
    "id": "O2biznZQyuoS"
   },
   "outputs": [],
   "source": [
    "df = pd.concat((training_set, gradient_t), axis=1)\n",
    "df.columns = ['y_t', 'grad_t']"
   ]
  },
  {
   "cell_type": "code",
   "execution_count": 9,
   "metadata": {
    "colab": {
     "base_uri": "https://localhost:8080/",
     "height": 423
    },
    "id": "sk_a5v3tyuoS",
    "outputId": "17563625-e550-45ae-faab-fafa353e44da"
   },
   "outputs": [
    {
     "data": {
      "text/html": [
       "<div>\n",
       "<style scoped>\n",
       "    .dataframe tbody tr th:only-of-type {\n",
       "        vertical-align: middle;\n",
       "    }\n",
       "\n",
       "    .dataframe tbody tr th {\n",
       "        vertical-align: top;\n",
       "    }\n",
       "\n",
       "    .dataframe thead th {\n",
       "        text-align: right;\n",
       "    }\n",
       "</style>\n",
       "<table border=\"1\" class=\"dataframe\">\n",
       "  <thead>\n",
       "    <tr style=\"text-align: right;\">\n",
       "      <th></th>\n",
       "      <th>y_t</th>\n",
       "      <th>grad_t</th>\n",
       "    </tr>\n",
       "  </thead>\n",
       "  <tbody>\n",
       "    <tr>\n",
       "      <th>0</th>\n",
       "      <td>90.500000</td>\n",
       "      <td>0.000298</td>\n",
       "    </tr>\n",
       "    <tr>\n",
       "      <th>1</th>\n",
       "      <td>90.275910</td>\n",
       "      <td>0.000298</td>\n",
       "    </tr>\n",
       "    <tr>\n",
       "      <th>2</th>\n",
       "      <td>90.051821</td>\n",
       "      <td>0.000297</td>\n",
       "    </tr>\n",
       "    <tr>\n",
       "      <th>3</th>\n",
       "      <td>89.827731</td>\n",
       "      <td>0.000297</td>\n",
       "    </tr>\n",
       "    <tr>\n",
       "      <th>4</th>\n",
       "      <td>89.603641</td>\n",
       "      <td>0.000297</td>\n",
       "    </tr>\n",
       "    <tr>\n",
       "      <th>...</th>\n",
       "      <td>...</td>\n",
       "      <td>...</td>\n",
       "    </tr>\n",
       "    <tr>\n",
       "      <th>9995</th>\n",
       "      <td>NaN</td>\n",
       "      <td>0.000018</td>\n",
       "    </tr>\n",
       "    <tr>\n",
       "      <th>9996</th>\n",
       "      <td>NaN</td>\n",
       "      <td>0.000018</td>\n",
       "    </tr>\n",
       "    <tr>\n",
       "      <th>9997</th>\n",
       "      <td>NaN</td>\n",
       "      <td>0.000018</td>\n",
       "    </tr>\n",
       "    <tr>\n",
       "      <th>9998</th>\n",
       "      <td>NaN</td>\n",
       "      <td>0.000018</td>\n",
       "    </tr>\n",
       "    <tr>\n",
       "      <th>9999</th>\n",
       "      <td>NaN</td>\n",
       "      <td>0.000018</td>\n",
       "    </tr>\n",
       "  </tbody>\n",
       "</table>\n",
       "<p>10000 rows × 2 columns</p>\n",
       "</div>"
      ],
      "text/plain": [
       "            y_t    grad_t\n",
       "0     90.500000  0.000298\n",
       "1     90.275910  0.000298\n",
       "2     90.051821  0.000297\n",
       "3     89.827731  0.000297\n",
       "4     89.603641  0.000297\n",
       "...         ...       ...\n",
       "9995        NaN  0.000018\n",
       "9996        NaN  0.000018\n",
       "9997        NaN  0.000018\n",
       "9998        NaN  0.000018\n",
       "9999        NaN  0.000018\n",
       "\n",
       "[10000 rows x 2 columns]"
      ]
     },
     "execution_count": 9,
     "metadata": {},
     "output_type": "execute_result"
    }
   ],
   "source": [
    "df"
   ]
  },
  {
   "cell_type": "markdown",
   "metadata": {
    "id": "-5esyHu5aFvg"
   },
   "source": [
    "## Plot of the External Forcing from Chaotic Differential Equation"
   ]
  },
  {
   "cell_type": "code",
   "execution_count": 10,
   "metadata": {
    "colab": {
     "base_uri": "https://localhost:8080/",
     "height": 447
    },
    "id": "hGnE43tOh-4p",
    "outputId": "fc396503-b624-4fa5-dfbe-f460207405c6"
   },
   "outputs": [
    {
     "data": {
      "text/plain": [
       "<Axes: >"
      ]
     },
     "execution_count": 10,
     "metadata": {},
     "output_type": "execute_result"
    },
    {
     "data": {
      "image/png": "[encoded data removed]",
      "text/plain": [
       "<Figure size 432x288 with 1 Axes>"
      ]
     },
     "metadata": {
      "needs_background": "light"
     },
     "output_type": "display_data"
    }
   ],
   "source": [
    "df.iloc[:, 0].plot()"
   ]
  },
  {
   "cell_type": "code",
   "execution_count": 11,
   "metadata": {
    "colab": {
     "base_uri": "https://localhost:8080/",
     "height": 447
    },
    "id": "ym4xWUUxaFvg",
    "outputId": "ae6a3495-8ce9-437e-ba81-3ed31deedeae"
   },
   "outputs": [
    {
     "name": "stderr",
     "output_type": "stream",
     "text": [
      "C:\\Users\\Anurag Dutta\\AppData\\Local\\Packages\\PythonSoftwareFoundation.Python.3.9_qbz5n2kfra8p0\\LocalCache\\local-packages\\Python39\\site-packages\\pandas\\core\\arraylike.py:402: RuntimeWarning: divide by zero encountered in log\n",
      "  result = getattr(ufunc, method)(*inputs, **kwargs)\n"
     ]
    },
    {
     "data": {
      "text/plain": [
       "<Axes: >"
      ]
     },
     "execution_count": 11,
     "metadata": {},
     "output_type": "execute_result"
    },
    {
     "data": {
      "image/png": "[encoded data removed]",
      "text/plain": [
       "<Figure size 432x288 with 1 Axes>"
      ]
     },
     "metadata": {
      "needs_background": "light"
     },
     "output_type": "display_data"
    }
   ],
   "source": [
    "import numpy as np\n",
    "c0 = 88.1552  # Value for C0\n",
    "K0 = -0.0026  # Value for K0\n",
    "K1 = -0.0004  # Value for K1\n",
    "a = 0.0000    # Value for a\n",
    "b = 0.0102    # Value for b\n",
    "c = 2.8734    # Value for c\n",
    "\n",
    "L = np.minimum(c0, (df.iloc[:, 1] - (df.iloc[:, 0] * (K0 - K1 * (9 * a * np.log(df.iloc[:, 0] / c0) / (K0 - K1 * c)**2 + 4 * b * np.log(df.iloc[:, 0] / c0) / (K0 - K1 * c) + c)))))\n",
    "L.plot()"
   ]
  },
  {
   "cell_type": "markdown",
   "metadata": {
    "id": "9VyEywnwaFvh"
   },
   "source": [
    "## Preprocessing the data into supervised learning"
   ]
  },
  {
   "cell_type": "code",
   "execution_count": 12,
   "metadata": {
    "id": "6V9dXqzdaFvh"
   },
   "outputs": [],
   "source": [
    "# split a sequence into samples\n",
    "def Supervised(data, n_in=1, n_out=1, dropnan=True):\n",
    "    n_vars = 1 if type(data) is list else data.shape[1]\n",
    "    df = pd.DataFrame(data)\n",
    "    cols, names = list(), list()\n",
    "    # input sequence (t-n_in, ... t-1)\n",
    "    for i in range(n_in, 0, -1):\n",
    "        cols.append(df.shift(i))\n",
    "        names += [('var%d(t-%d)' % (j+1, i)) for j in range(n_vars)]\n",
    "    # forecast sequence (t, t+1, ... t+n_out)\n",
    "    for i in range(0, n_out):\n",
    "      cols.append(df.shift(-i))\n",
    "      if i == 0:\n",
    "        names += [('var%d(t)' % (j+1)) for j in range(n_vars)]\n",
    "      else:\n",
    "        names += [('var%d(t+%d)' % (j+1, i)) for j in range(n_vars)]\n",
    "    # put it all together\n",
    "    agg = pd.concat(cols, axis=1)\n",
    "    agg.columns = names\n",
    "    # drop rows with NaN values\n",
    "    if dropnan:\n",
    "       agg.dropna(inplace=True)\n",
    "    return agg"
   ]
  },
  {
   "cell_type": "code",
   "execution_count": 13,
   "metadata": {
    "colab": {
     "base_uri": "https://localhost:8080/"
    },
    "id": "CrzSrT1HnyfH",
    "outputId": "7e75f928-3e47-499d-eac1-51908015ef78"
   },
   "outputs": [
    {
     "name": "stdout",
     "output_type": "stream",
     "text": [
      "     var1(t-350)  var1(t-349)  var1(t-348)  var1(t-347)  var1(t-346)  \\\n",
      "350    90.500000    90.275910    90.051821    89.827731    89.603641   \n",
      "351    90.275910    90.051821    89.827731    89.603641    89.379552   \n",
      "352    90.051821    89.827731    89.603641    89.379552    89.155462   \n",
      "353    89.827731    89.603641    89.379552    89.155462    88.931373   \n",
      "354    89.603641    89.379552    89.155462    88.931373    88.707283   \n",
      "\n",
      "     var1(t-345)  var1(t-344)  var1(t-343)  var1(t-342)  var1(t-341)  ...  \\\n",
      "350    89.379552    89.155462    88.931373    88.707283    88.494958  ...   \n",
      "351    89.155462    88.931373    88.707283    88.494958    88.427731  ...   \n",
      "352    88.931373    88.707283    88.494958    88.427731    88.360504  ...   \n",
      "353    88.707283    88.494958    88.427731    88.360504    88.293277  ...   \n",
      "354    88.494958    88.427731    88.360504    88.293277    88.226050  ...   \n",
      "\n",
      "     var1(t+95)  var2(t+95)  var1(t+96)  var2(t+96)  var1(t+97)  var2(t+97)  \\\n",
      "350   79.071008    0.000263   79.054202    0.000263   79.037395    0.000263   \n",
      "351   79.054202    0.000263   79.037395    0.000263   79.020588    0.000262   \n",
      "352   79.037395    0.000263   79.020588    0.000262   79.003782    0.000262   \n",
      "353   79.020588    0.000262   79.003782    0.000262   78.986975    0.000262   \n",
      "354   79.003782    0.000262   78.986975    0.000262   78.970168    0.000262   \n",
      "\n",
      "     var1(t+98)  var2(t+98)  var1(t+99)  var2(t+99)  \n",
      "350   79.020588    0.000262   79.003782    0.000262  \n",
      "351   79.003782    0.000262   78.986975    0.000262  \n",
      "352   78.986975    0.000262   78.970168    0.000262  \n",
      "353   78.970168    0.000262   78.953361    0.000262  \n",
      "354   78.953361    0.000262   78.936555    0.000262  \n",
      "\n",
      "[5 rows x 551 columns]\n",
      "Index(['var1(t-350)', 'var1(t-349)', 'var1(t-348)', 'var1(t-347)',\n",
      "       'var1(t-346)', 'var1(t-345)', 'var1(t-344)', 'var1(t-343)',\n",
      "       'var1(t-342)', 'var1(t-341)',\n",
      "       ...\n",
      "       'var1(t+95)', 'var2(t+95)', 'var1(t+96)', 'var2(t+96)', 'var1(t+97)',\n",
      "       'var2(t+97)', 'var1(t+98)', 'var2(t+98)', 'var1(t+99)', 'var2(t+99)'],\n",
      "      dtype='object', length=551)\n"
     ]
    }
   ],
   "source": [
    "data = Supervised(df.values, n_in = 350, n_out = 100)\n",
    "\n",
    "\n",
    "cols_to_drop = []\n",
    "for i in range(2, 351):\n",
    "    cols_to_drop.extend([f'var2(t-{i})'])\n",
    "\n",
    "data.drop(cols_to_drop, axis=1, inplace=True)\n",
    "\n",
    "print(data.head())\n",
    "print(data.columns)"
   ]
  },
  {
   "cell_type": "code",
   "execution_count": 14,
   "metadata": {
    "id": "AfPf60oy6Pe4"
   },
   "outputs": [],
   "source": [
    "train = np.array(data[0:len(data)-1])\n",
    "forecast = np.array(data.tail(1))"
   ]
  },
  {
   "cell_type": "code",
   "execution_count": 15,
   "metadata": {
    "id": "WSAafzI37KiT"
   },
   "outputs": [],
   "source": [
    "trainy = train[:,-300:]\n",
    "trainX = train[:,:-300]"
   ]
  },
  {
   "cell_type": "code",
   "execution_count": 16,
   "metadata": {
    "id": "2SrOqVJA7f50"
   },
   "outputs": [],
   "source": [
    "forecasty = forecast[:,-300:]\n",
    "forecastX = forecast[:,:-300]"
   ]
  },
  {
   "cell_type": "code",
   "execution_count": 17,
   "metadata": {
    "colab": {
     "base_uri": "https://localhost:8080/"
    },
    "id": "Qno_k8Nw7saY",
    "outputId": "c4a88db5-d8c6-489f-cdb2-06b24e293cff"
   },
   "outputs": [
    {
     "name": "stdout",
     "output_type": "stream",
     "text": [
      "(1600, 1, 251) (1600, 300) (1, 1, 251)\n"
     ]
    }
   ],
   "source": [
    "trainX = trainX.reshape((trainX.shape[0], 1, trainX.shape[1]))\n",
    "forecastX = forecastX.reshape((forecastX.shape[0], 1, forecastX.shape[1]))\n",
    "print(trainX.shape, trainy.shape, forecastX.shape)"
   ]
  },
  {
   "cell_type": "code",
   "execution_count": 18,
   "metadata": {
    "colab": {
     "base_uri": "https://localhost:8080/"
    },
    "id": "b1Jp2DvNuNFx",
    "outputId": "d0e5b3c4-64f1-438c-eade-8dfeaac8e285"
   },
   "outputs": [
    {
     "name": "stdout",
     "output_type": "stream",
     "text": [
      "Epoch 1/500\n",
      "20/20 [==============================] - 2s 30ms/step - loss: 5320.2725 - val_loss: 3182.2231\n",
      "Epoch 2/500\n",
      "20/20 [==============================] - 0s 5ms/step - loss: 5107.6704 - val_loss: 3056.9946\n",
      "Epoch 3/500\n",
      "20/20 [==============================] - 0s 4ms/step - loss: 5011.2563 - val_loss: 3001.1277\n",
      "Epoch 4/500\n",
      "20/20 [==============================] - 0s 5ms/step - loss: 4919.4897 - val_loss: 2952.1260\n",
      "Epoch 5/500\n",
      "20/20 [==============================] - 0s 4ms/step - loss: 4845.6826 - val_loss: 2908.3042\n",
      "Epoch 6/500\n",
      "20/20 [==============================] - 0s 4ms/step - loss: 4774.5674 - val_loss: 2866.1079\n",
      "Epoch 7/500\n",
      "20/20 [==============================] - 0s 4ms/step - loss: 4705.5049 - val_loss: 2825.1592\n",
      "Epoch 8/500\n",
      "20/20 [==============================] - 0s 4ms/step - loss: 4638.0049 - val_loss: 2785.2297\n",
      "Epoch 9/500\n",
      "20/20 [==============================] - 0s 5ms/step - loss: 4571.7837 - val_loss: 2746.1870\n",
      "Epoch 10/500\n",
      "20/20 [==============================] - 0s 4ms/step - loss: 4506.6694 - val_loss: 2707.9468\n",
      "Epoch 11/500\n",
      "20/20 [==============================] - 0s 4ms/step - loss: 4442.5522 - val_loss: 2670.4514\n",
      "Epoch 12/500\n",
      "20/20 [==============================] - 0s 12ms/step - loss: 4379.3604 - val_loss: 2633.6616\n",
      "Epoch 13/500\n",
      "20/20 [==============================] - 0s 4ms/step - loss: 4317.0342 - val_loss: 2597.5452\n",
      "Epoch 14/500\n",
      "20/20 [==============================] - 0s 4ms/step - loss: 4255.5352 - val_loss: 2562.0779\n",
      "Epoch 15/500\n",
      "20/20 [==============================] - 0s 4ms/step - loss: 4194.8286 - val_loss: 2527.2400\n",
      "Epoch 16/500\n",
      "20/20 [==============================] - 0s 4ms/step - loss: 4134.8896 - val_loss: 2493.0146\n",
      "Epoch 17/500\n",
      "20/20 [==============================] - 0s 4ms/step - loss: 4075.6958 - val_loss: 2459.3884\n",
      "Epoch 18/500\n",
      "20/20 [==============================] - 0s 4ms/step - loss: 4017.2280 - val_loss: 2426.3477\n",
      "Epoch 19/500\n",
      "20/20 [==============================] - 0s 3ms/step - loss: 3959.4700 - val_loss: 2393.8823\n",
      "Epoch 20/500\n",
      "20/20 [==============================] - 0s 4ms/step - loss: 3902.4087 - val_loss: 2361.9819\n",
      "Epoch 21/500\n",
      "20/20 [==============================] - 0s 4ms/step - loss: 3846.0293 - val_loss: 2330.6375\n",
      "Epoch 22/500\n",
      "20/20 [==============================] - 0s 4ms/step - loss: 3790.3228 - val_loss: 2299.8403\n",
      "Epoch 23/500\n",
      "20/20 [==============================] - 0s 4ms/step - loss: 3735.2754 - val_loss: 2269.5825\n",
      "Epoch 24/500\n",
      "20/20 [==============================] - 0s 4ms/step - loss: 3680.8816 - val_loss: 2239.8574\n",
      "Epoch 25/500\n",
      "20/20 [==============================] - 0s 4ms/step - loss: 3627.1301 - val_loss: 2210.6572\n",
      "Epoch 26/500\n",
      "20/20 [==============================] - 0s 3ms/step - loss: 3574.0117 - val_loss: 2181.9758\n",
      "Epoch 27/500\n",
      "20/20 [==============================] - 0s 4ms/step - loss: 3521.5200 - val_loss: 2153.8066\n",
      "Epoch 28/500\n",
      "20/20 [==============================] - 0s 3ms/step - loss: 3469.6470 - val_loss: 2126.1438\n",
      "Epoch 29/500\n",
      "20/20 [==============================] - 0s 6ms/step - loss: 3418.3853 - val_loss: 2098.9810\n",
      "Epoch 30/500\n",
      "20/20 [==============================] - 0s 6ms/step - loss: 3367.7278 - val_loss: 2072.3127\n",
      "Epoch 31/500\n",
      "20/20 [==============================] - 0s 7ms/step - loss: 3317.6685 - val_loss: 2046.1342\n",
      "Epoch 32/500\n",
      "20/20 [==============================] - 0s 6ms/step - loss: 3268.2007 - val_loss: 2020.4382\n",
      "Epoch 33/500\n",
      "20/20 [==============================] - 0s 6ms/step - loss: 3219.3191 - val_loss: 1995.2213\n",
      "Epoch 34/500\n",
      "20/20 [==============================] - 0s 14ms/step - loss: 3171.0168 - val_loss: 1970.4778\n",
      "Epoch 35/500\n",
      "20/20 [==============================] - 0s 6ms/step - loss: 3123.2881 - val_loss: 1946.2021\n",
      "Epoch 36/500\n",
      "20/20 [==============================] - 0s 5ms/step - loss: 3076.1270 - val_loss: 1922.3900\n",
      "Epoch 37/500\n",
      "20/20 [==============================] - 0s 6ms/step - loss: 3029.5291 - val_loss: 1899.0365\n",
      "Epoch 38/500\n",
      "20/20 [==============================] - 0s 6ms/step - loss: 2983.4885 - val_loss: 1876.1370\n",
      "Epoch 39/500\n",
      "20/20 [==============================] - 0s 5ms/step - loss: 2937.9993 - val_loss: 1853.6862\n",
      "Epoch 40/500\n",
      "20/20 [==============================] - 0s 7ms/step - loss: 2893.0571 - val_loss: 1831.6801\n",
      "Epoch 41/500\n",
      "20/20 [==============================] - 0s 6ms/step - loss: 2848.6577 - val_loss: 1810.1140\n",
      "Epoch 42/500\n",
      "20/20 [==============================] - 0s 4ms/step - loss: 2804.7942 - val_loss: 1788.9836\n",
      "Epoch 43/500\n",
      "20/20 [==============================] - 0s 6ms/step - loss: 2761.4629 - val_loss: 1768.2845\n",
      "Epoch 44/500\n",
      "20/20 [==============================] - 0s 7ms/step - loss: 2718.6589 - val_loss: 1748.0121\n",
      "Epoch 45/500\n",
      "20/20 [==============================] - 0s 6ms/step - loss: 2676.3774 - val_loss: 1728.1621\n",
      "Epoch 46/500\n",
      "20/20 [==============================] - 0s 5ms/step - loss: 2634.6135 - val_loss: 1708.7305\n",
      "Epoch 47/500\n",
      "20/20 [==============================] - 0s 14ms/step - loss: 2593.3628 - val_loss: 1689.7125\n",
      "Epoch 48/500\n",
      "20/20 [==============================] - 0s 8ms/step - loss: 2552.6211 - val_loss: 1671.1049\n",
      "Epoch 49/500\n",
      "20/20 [==============================] - 0s 5ms/step - loss: 2512.3833 - val_loss: 1652.9030\n",
      "Epoch 50/500\n",
      "20/20 [==============================] - 0s 5ms/step - loss: 2472.6458 - val_loss: 1635.1025\n",
      "Epoch 51/500\n",
      "20/20 [==============================] - 0s 5ms/step - loss: 2433.4038 - val_loss: 1617.7000\n",
      "Epoch 52/500\n",
      "20/20 [==============================] - 0s 6ms/step - loss: 2394.6531 - val_loss: 1600.6908\n",
      "Epoch 53/500\n",
      "20/20 [==============================] - 0s 5ms/step - loss: 2356.3889 - val_loss: 1584.0715\n",
      "Epoch 54/500\n",
      "20/20 [==============================] - 0s 5ms/step - loss: 2318.6084 - val_loss: 1567.8375\n",
      "Epoch 55/500\n",
      "20/20 [==============================] - 0s 6ms/step - loss: 2281.3052 - val_loss: 1551.9857\n",
      "Epoch 56/500\n",
      "20/20 [==============================] - 0s 5ms/step - loss: 2244.4773 - val_loss: 1536.5117\n",
      "Epoch 57/500\n",
      "20/20 [==============================] - 0s 6ms/step - loss: 2208.1199 - val_loss: 1521.4115\n",
      "Epoch 58/500\n",
      "20/20 [==============================] - 0s 6ms/step - loss: 2172.2285 - val_loss: 1506.6819\n",
      "Epoch 59/500\n",
      "20/20 [==============================] - 0s 6ms/step - loss: 2136.7996 - val_loss: 1492.3187\n",
      "Epoch 60/500\n",
      "20/20 [==============================] - 0s 6ms/step - loss: 2101.8296 - val_loss: 1478.3180\n",
      "Epoch 61/500\n",
      "20/20 [==============================] - 0s 6ms/step - loss: 2067.3140 - val_loss: 1464.6763\n",
      "Epoch 62/500\n",
      "20/20 [==============================] - 0s 5ms/step - loss: 2033.2480 - val_loss: 1451.3899\n",
      "Epoch 63/500\n",
      "20/20 [==============================] - 0s 6ms/step - loss: 1999.6296 - val_loss: 1438.4546\n",
      "Epoch 64/500\n",
      "20/20 [==============================] - 0s 5ms/step - loss: 1966.4537 - val_loss: 1425.8674\n",
      "Epoch 65/500\n",
      "20/20 [==============================] - 0s 5ms/step - loss: 1933.7175 - val_loss: 1413.6243\n",
      "Epoch 66/500\n",
      "20/20 [==============================] - 0s 4ms/step - loss: 1901.4160 - val_loss: 1401.7219\n",
      "Epoch 67/500\n",
      "20/20 [==============================] - 0s 5ms/step - loss: 1869.5471 - val_loss: 1390.1561\n",
      "Epoch 68/500\n",
      "20/20 [==============================] - 0s 5ms/step - loss: 1838.1049 - val_loss: 1378.9238\n",
      "Epoch 69/500\n",
      "20/20 [==============================] - 0s 4ms/step - loss: 1807.0872 - val_loss: 1368.0210\n",
      "Epoch 70/500\n",
      "20/20 [==============================] - 0s 4ms/step - loss: 1776.4906 - val_loss: 1357.4446\n",
      "Epoch 71/500\n",
      "20/20 [==============================] - 0s 4ms/step - loss: 1746.3105 - val_loss: 1347.1907\n",
      "Epoch 72/500\n",
      "20/20 [==============================] - 0s 4ms/step - loss: 1716.5437 - val_loss: 1337.2561\n",
      "Epoch 73/500\n",
      "20/20 [==============================] - 0s 4ms/step - loss: 1687.1868 - val_loss: 1327.6370\n",
      "Epoch 74/500\n",
      "20/20 [==============================] - 0s 4ms/step - loss: 1658.2361 - val_loss: 1318.3298\n",
      "Epoch 75/500\n",
      "20/20 [==============================] - 0s 4ms/step - loss: 1629.6881 - val_loss: 1309.3313\n",
      "Epoch 76/500\n",
      "20/20 [==============================] - 0s 10ms/step - loss: 1601.5389 - val_loss: 1300.6381\n",
      "Epoch 77/500\n",
      "20/20 [==============================] - 0s 4ms/step - loss: 1573.7859 - val_loss: 1292.2465\n",
      "Epoch 78/500\n",
      "20/20 [==============================] - 0s 4ms/step - loss: 1546.4247 - val_loss: 1284.1531\n",
      "Epoch 79/500\n",
      "20/20 [==============================] - 0s 5ms/step - loss: 1519.4524 - val_loss: 1276.3547\n",
      "Epoch 80/500\n",
      "20/20 [==============================] - 0s 4ms/step - loss: 1492.8652 - val_loss: 1268.8477\n",
      "Epoch 81/500\n",
      "20/20 [==============================] - 0s 4ms/step - loss: 1466.6602 - val_loss: 1261.6287\n",
      "Epoch 82/500\n",
      "20/20 [==============================] - 0s 3ms/step - loss: 1440.8333 - val_loss: 1254.6943\n",
      "Epoch 83/500\n",
      "20/20 [==============================] - 0s 4ms/step - loss: 1415.3821 - val_loss: 1248.0414\n",
      "Epoch 84/500\n",
      "20/20 [==============================] - 0s 4ms/step - loss: 1390.3025 - val_loss: 1241.6663\n",
      "Epoch 85/500\n",
      "20/20 [==============================] - 0s 3ms/step - loss: 1365.5909 - val_loss: 1235.5657\n",
      "Epoch 86/500\n",
      "20/20 [==============================] - 0s 3ms/step - loss: 1341.2449 - val_loss: 1229.7363\n",
      "Epoch 87/500\n",
      "20/20 [==============================] - 0s 5ms/step - loss: 1317.2604 - val_loss: 1224.1750\n",
      "Epoch 88/500\n",
      "20/20 [==============================] - 0s 5ms/step - loss: 1293.6349 - val_loss: 1218.8784\n",
      "Epoch 89/500\n",
      "20/20 [==============================] - 0s 4ms/step - loss: 1270.3644 - val_loss: 1213.8430\n",
      "Epoch 90/500\n",
      "20/20 [==============================] - 0s 4ms/step - loss: 1247.4459 - val_loss: 1209.0656\n",
      "Epoch 91/500\n",
      "20/20 [==============================] - 0s 4ms/step - loss: 1224.8766 - val_loss: 1204.5426\n",
      "Epoch 92/500\n",
      "20/20 [==============================] - 0s 4ms/step - loss: 1202.6526 - val_loss: 1200.2712\n",
      "Epoch 93/500\n",
      "20/20 [==============================] - 0s 4ms/step - loss: 1180.7708 - val_loss: 1196.2483\n",
      "Epoch 94/500\n",
      "20/20 [==============================] - 0s 4ms/step - loss: 1159.2285 - val_loss: 1192.4700\n",
      "Epoch 95/500\n",
      "20/20 [==============================] - 0s 4ms/step - loss: 1138.0222 - val_loss: 1188.9333\n",
      "Epoch 96/500\n",
      "20/20 [==============================] - 0s 6ms/step - loss: 1117.1483 - val_loss: 1185.6350\n",
      "Epoch 97/500\n",
      "20/20 [==============================] - 0s 5ms/step - loss: 1096.6046 - val_loss: 1182.5720\n",
      "Epoch 98/500\n",
      "20/20 [==============================] - 0s 5ms/step - loss: 1076.3873 - val_loss: 1179.7408\n",
      "Epoch 99/500\n",
      "20/20 [==============================] - 0s 4ms/step - loss: 1056.4935 - val_loss: 1177.1382\n",
      "Epoch 100/500\n",
      "20/20 [==============================] - 0s 4ms/step - loss: 1036.9202 - val_loss: 1174.7612\n",
      "Epoch 101/500\n",
      "20/20 [==============================] - 0s 4ms/step - loss: 1017.6639 - val_loss: 1172.6064\n",
      "Epoch 102/500\n",
      "20/20 [==============================] - 0s 4ms/step - loss: 998.7217 - val_loss: 1170.6707\n",
      "Epoch 103/500\n",
      "20/20 [==============================] - 0s 5ms/step - loss: 980.0907 - val_loss: 1168.9509\n",
      "Epoch 104/500\n",
      "20/20 [==============================] - 0s 4ms/step - loss: 961.7678 - val_loss: 1167.4437\n",
      "Epoch 105/500\n",
      "20/20 [==============================] - 0s 6ms/step - loss: 943.7495 - val_loss: 1166.1459\n",
      "Epoch 106/500\n",
      "20/20 [==============================] - 0s 4ms/step - loss: 926.0333 - val_loss: 1165.0544\n",
      "Epoch 107/500\n",
      "20/20 [==============================] - 0s 5ms/step - loss: 908.6158 - val_loss: 1164.1660\n",
      "Epoch 108/500\n",
      "20/20 [==============================] - 0s 5ms/step - loss: 891.4946 - val_loss: 1163.4778\n",
      "Epoch 109/500\n",
      "20/20 [==============================] - 0s 4ms/step - loss: 874.6657 - val_loss: 1162.9861\n",
      "Epoch 110/500\n",
      "20/20 [==============================] - 0s 4ms/step - loss: 858.1271 - val_loss: 1162.6880\n",
      "Epoch 111/500\n",
      "20/20 [==============================] - 0s 4ms/step - loss: 841.8752 - val_loss: 1162.5803\n",
      "Epoch 112/500\n",
      "20/20 [==============================] - 0s 5ms/step - loss: 825.9070 - val_loss: 1162.6600\n",
      "Epoch 113/500\n",
      "20/20 [==============================] - 0s 3ms/step - loss: 810.2198 - val_loss: 1162.9240\n",
      "Epoch 114/500\n",
      "20/20 [==============================] - 0s 6ms/step - loss: 794.8106 - val_loss: 1163.3689\n",
      "Epoch 115/500\n",
      "20/20 [==============================] - 0s 6ms/step - loss: 779.6764 - val_loss: 1163.9916\n",
      "Epoch 116/500\n",
      "20/20 [==============================] - 0s 5ms/step - loss: 764.8140 - val_loss: 1164.7891\n",
      "Epoch 117/500\n",
      "20/20 [==============================] - 0s 6ms/step - loss: 750.2206 - val_loss: 1165.7582\n",
      "Epoch 118/500\n",
      "20/20 [==============================] - 0s 11ms/step - loss: 735.8937 - val_loss: 1166.8958\n",
      "Epoch 119/500\n",
      "20/20 [==============================] - 0s 11ms/step - loss: 721.8300 - val_loss: 1168.1986\n",
      "Epoch 120/500\n",
      "20/20 [==============================] - 0s 5ms/step - loss: 708.0265 - val_loss: 1169.6641\n",
      "Epoch 121/500\n",
      "20/20 [==============================] - 0s 5ms/step - loss: 694.4805 - val_loss: 1171.2883\n",
      "Epoch 122/500\n",
      "20/20 [==============================] - 0s 4ms/step - loss: 681.1891 - val_loss: 1173.0687\n",
      "Epoch 123/500\n",
      "20/20 [==============================] - 0s 4ms/step - loss: 668.1493 - val_loss: 1175.0023\n",
      "Epoch 124/500\n",
      "20/20 [==============================] - 0s 4ms/step - loss: 655.3582 - val_loss: 1177.0856\n",
      "Epoch 125/500\n",
      "20/20 [==============================] - 0s 4ms/step - loss: 642.8132 - val_loss: 1179.3156\n",
      "Epoch 126/500\n",
      "20/20 [==============================] - 0s 5ms/step - loss: 630.5109 - val_loss: 1181.6892\n",
      "Epoch 127/500\n",
      "20/20 [==============================] - 0s 4ms/step - loss: 618.4492 - val_loss: 1184.2037\n",
      "Epoch 128/500\n",
      "20/20 [==============================] - 0s 5ms/step - loss: 606.6245 - val_loss: 1186.8555\n",
      "Epoch 129/500\n",
      "20/20 [==============================] - 0s 5ms/step - loss: 595.0344 - val_loss: 1189.6418\n",
      "Epoch 130/500\n",
      "20/20 [==============================] - 0s 13ms/step - loss: 583.6761 - val_loss: 1192.5597\n",
      "Epoch 131/500\n",
      "20/20 [==============================] - 0s 4ms/step - loss: 572.5463 - val_loss: 1195.6057\n",
      "Epoch 132/500\n",
      "20/20 [==============================] - 0s 4ms/step - loss: 561.6429 - val_loss: 1198.7771\n",
      "Epoch 133/500\n",
      "20/20 [==============================] - 0s 6ms/step - loss: 550.9626 - val_loss: 1202.0707\n",
      "Epoch 134/500\n",
      "20/20 [==============================] - 0s 6ms/step - loss: 540.5027 - val_loss: 1205.4836\n",
      "Epoch 135/500\n",
      "20/20 [==============================] - 0s 6ms/step - loss: 530.2604 - val_loss: 1209.0127\n",
      "Epoch 136/500\n",
      "20/20 [==============================] - 0s 7ms/step - loss: 520.2330 - val_loss: 1212.6549\n",
      "Epoch 137/500\n",
      "20/20 [==============================] - 0s 9ms/step - loss: 510.4177 - val_loss: 1216.4072\n",
      "Epoch 138/500\n",
      "20/20 [==============================] - 0s 6ms/step - loss: 500.8118 - val_loss: 1220.2665\n",
      "Epoch 139/500\n",
      "20/20 [==============================] - 0s 5ms/step - loss: 491.4124 - val_loss: 1224.2302\n",
      "Epoch 140/500\n",
      "20/20 [==============================] - 0s 5ms/step - loss: 482.2166 - val_loss: 1228.2947\n",
      "Epoch 141/500\n",
      "20/20 [==============================] - 0s 4ms/step - loss: 473.2219 - val_loss: 1232.4576\n",
      "Epoch 142/500\n",
      "20/20 [==============================] - 0s 4ms/step - loss: 464.4255 - val_loss: 1236.7156\n",
      "Epoch 143/500\n",
      "20/20 [==============================] - 0s 4ms/step - loss: 455.8249 - val_loss: 1241.0657\n",
      "Epoch 144/500\n",
      "20/20 [==============================] - 0s 4ms/step - loss: 447.4169 - val_loss: 1245.5050\n",
      "Epoch 145/500\n",
      "20/20 [==============================] - 0s 5ms/step - loss: 439.1991 - val_loss: 1250.0305\n",
      "Epoch 146/500\n",
      "20/20 [==============================] - 0s 5ms/step - loss: 431.1689 - val_loss: 1254.6394\n",
      "Epoch 147/500\n",
      "20/20 [==============================] - 0s 5ms/step - loss: 423.3233 - val_loss: 1259.3287\n",
      "Epoch 148/500\n",
      "20/20 [==============================] - 0s 4ms/step - loss: 415.6599 - val_loss: 1264.0955\n",
      "Epoch 149/500\n",
      "20/20 [==============================] - 0s 4ms/step - loss: 408.1758 - val_loss: 1268.9369\n",
      "Epoch 150/500\n",
      "20/20 [==============================] - 0s 5ms/step - loss: 400.8685 - val_loss: 1273.8496\n",
      "Epoch 151/500\n",
      "20/20 [==============================] - 0s 5ms/step - loss: 393.7352 - val_loss: 1278.8315\n",
      "Epoch 152/500\n",
      "20/20 [==============================] - 0s 4ms/step - loss: 386.7734 - val_loss: 1283.8790\n",
      "Epoch 153/500\n",
      "20/20 [==============================] - 0s 4ms/step - loss: 379.9803 - val_loss: 1288.9896\n",
      "Epoch 154/500\n",
      "20/20 [==============================] - 0s 5ms/step - loss: 373.3535 - val_loss: 1294.1604\n",
      "Epoch 155/500\n",
      "20/20 [==============================] - 0s 5ms/step - loss: 366.8901 - val_loss: 1299.3887\n",
      "Epoch 156/500\n",
      "20/20 [==============================] - 0s 5ms/step - loss: 360.5877 - val_loss: 1304.6711\n",
      "Epoch 157/500\n",
      "20/20 [==============================] - 0s 8ms/step - loss: 354.4439 - val_loss: 1310.0051\n",
      "Epoch 158/500\n",
      "20/20 [==============================] - 0s 5ms/step - loss: 348.4558 - val_loss: 1315.3887\n",
      "Epoch 159/500\n",
      "20/20 [==============================] - 0s 4ms/step - loss: 342.6206 - val_loss: 1320.8181\n",
      "Epoch 160/500\n",
      "20/20 [==============================] - 0s 14ms/step - loss: 336.9362 - val_loss: 1326.2908\n",
      "Epoch 161/500\n",
      "20/20 [==============================] - 0s 6ms/step - loss: 331.4000 - val_loss: 1331.8043\n",
      "Epoch 162/500\n",
      "20/20 [==============================] - 0s 5ms/step - loss: 326.0092 - val_loss: 1337.3557\n",
      "Epoch 163/500\n",
      "20/20 [==============================] - 0s 4ms/step - loss: 320.7615 - val_loss: 1342.9426\n",
      "Epoch 164/500\n",
      "20/20 [==============================] - 0s 4ms/step - loss: 315.6544 - val_loss: 1348.5618\n",
      "Epoch 165/500\n",
      "20/20 [==============================] - 0s 5ms/step - loss: 310.6852 - val_loss: 1354.2107\n",
      "Epoch 166/500\n",
      "20/20 [==============================] - 0s 5ms/step - loss: 305.8516 - val_loss: 1359.8872\n",
      "Epoch 167/500\n",
      "20/20 [==============================] - 0s 4ms/step - loss: 301.1512 - val_loss: 1365.5881\n",
      "Epoch 168/500\n",
      "20/20 [==============================] - 0s 4ms/step - loss: 296.5814 - val_loss: 1371.3113\n",
      "Epoch 169/500\n",
      "20/20 [==============================] - 0s 4ms/step - loss: 292.1396 - val_loss: 1377.0537\n",
      "Epoch 170/500\n",
      "20/20 [==============================] - 0s 4ms/step - loss: 287.8237 - val_loss: 1382.8131\n",
      "Epoch 171/500\n",
      "20/20 [==============================] - 0s 4ms/step - loss: 283.6313 - val_loss: 1388.5868\n",
      "Epoch 172/500\n",
      "20/20 [==============================] - 0s 5ms/step - loss: 279.5597 - val_loss: 1394.3727\n",
      "Epoch 173/500\n",
      "20/20 [==============================] - 0s 3ms/step - loss: 275.6067 - val_loss: 1400.1677\n",
      "Epoch 174/500\n",
      "20/20 [==============================] - 0s 4ms/step - loss: 271.7699 - val_loss: 1405.9701\n",
      "Epoch 175/500\n",
      "20/20 [==============================] - 0s 4ms/step - loss: 268.0470 - val_loss: 1411.7771\n",
      "Epoch 176/500\n",
      "20/20 [==============================] - 0s 4ms/step - loss: 264.4356 - val_loss: 1417.5864\n",
      "Epoch 177/500\n",
      "20/20 [==============================] - 0s 5ms/step - loss: 260.9334 - val_loss: 1423.3951\n",
      "Epoch 178/500\n",
      "20/20 [==============================] - 0s 6ms/step - loss: 257.5384 - val_loss: 1429.2015\n",
      "Epoch 179/500\n",
      "20/20 [==============================] - 0s 4ms/step - loss: 254.2479 - val_loss: 1435.0032\n",
      "Epoch 180/500\n",
      "20/20 [==============================] - 0s 7ms/step - loss: 251.0600 - val_loss: 1440.7975\n",
      "Epoch 181/500\n",
      "20/20 [==============================] - 0s 7ms/step - loss: 247.9724 - val_loss: 1446.5828\n",
      "Epoch 182/500\n",
      "20/20 [==============================] - 0s 6ms/step - loss: 244.9825 - val_loss: 1452.3566\n",
      "Epoch 183/500\n",
      "20/20 [==============================] - 0s 5ms/step - loss: 242.0886 - val_loss: 1458.1165\n",
      "Epoch 184/500\n",
      "20/20 [==============================] - 0s 4ms/step - loss: 239.2883 - val_loss: 1463.8608\n",
      "Epoch 185/500\n",
      "20/20 [==============================] - 0s 5ms/step - loss: 236.5794 - val_loss: 1469.5874\n",
      "Epoch 186/500\n",
      "20/20 [==============================] - 0s 5ms/step - loss: 233.9600 - val_loss: 1475.2938\n",
      "Epoch 187/500\n",
      "20/20 [==============================] - 0s 5ms/step - loss: 231.4277 - val_loss: 1480.9785\n",
      "Epoch 188/500\n",
      "20/20 [==============================] - 0s 5ms/step - loss: 228.9807 - val_loss: 1486.6392\n",
      "Epoch 189/500\n",
      "20/20 [==============================] - 0s 5ms/step - loss: 226.6168 - val_loss: 1492.2740\n",
      "Epoch 190/500\n",
      "20/20 [==============================] - 0s 5ms/step - loss: 224.3339 - val_loss: 1497.8811\n",
      "Epoch 191/500\n",
      "20/20 [==============================] - 0s 21ms/step - loss: 222.1300 - val_loss: 1503.4583\n",
      "Epoch 192/500\n",
      "20/20 [==============================] - 0s 4ms/step - loss: 220.0033 - val_loss: 1509.0045\n",
      "Epoch 193/500\n",
      "20/20 [==============================] - 0s 4ms/step - loss: 217.9515 - val_loss: 1514.5172\n",
      "Epoch 194/500\n",
      "20/20 [==============================] - 0s 5ms/step - loss: 215.9730 - val_loss: 1519.9951\n",
      "Epoch 195/500\n",
      "20/20 [==============================] - 0s 5ms/step - loss: 214.0656 - val_loss: 1525.4359\n",
      "Epoch 196/500\n",
      "20/20 [==============================] - 0s 6ms/step - loss: 212.2277 - val_loss: 1530.8387\n",
      "Epoch 197/500\n",
      "20/20 [==============================] - 0s 5ms/step - loss: 210.4572 - val_loss: 1536.2014\n",
      "Epoch 198/500\n",
      "20/20 [==============================] - 0s 5ms/step - loss: 208.7523 - val_loss: 1541.5229\n",
      "Epoch 199/500\n",
      "20/20 [==============================] - 0s 4ms/step - loss: 207.1112 - val_loss: 1546.8018\n",
      "Epoch 200/500\n",
      "20/20 [==============================] - 0s 5ms/step - loss: 205.5322 - val_loss: 1552.0355\n",
      "Epoch 201/500\n",
      "20/20 [==============================] - 0s 5ms/step - loss: 204.0135 - val_loss: 1557.2234\n",
      "Epoch 202/500\n",
      "20/20 [==============================] - 0s 5ms/step - loss: 202.5532 - val_loss: 1562.3649\n",
      "Epoch 203/500\n",
      "20/20 [==============================] - 0s 3ms/step - loss: 201.1498 - val_loss: 1567.4568\n",
      "Epoch 204/500\n",
      "20/20 [==============================] - 0s 4ms/step - loss: 199.8016 - val_loss: 1572.4991\n",
      "Epoch 205/500\n",
      "20/20 [==============================] - 0s 4ms/step - loss: 198.5068 - val_loss: 1577.4908\n",
      "Epoch 206/500\n",
      "20/20 [==============================] - 0s 5ms/step - loss: 197.2640 - val_loss: 1582.4294\n",
      "Epoch 207/500\n",
      "20/20 [==============================] - 0s 5ms/step - loss: 196.0713 - val_loss: 1587.3151\n",
      "Epoch 208/500\n",
      "20/20 [==============================] - 0s 4ms/step - loss: 194.9275 - val_loss: 1592.1467\n",
      "Epoch 209/500\n",
      "20/20 [==============================] - 0s 4ms/step - loss: 193.8307 - val_loss: 1596.9220\n",
      "Epoch 210/500\n",
      "20/20 [==============================] - 0s 4ms/step - loss: 192.7798 - val_loss: 1601.6414\n",
      "Epoch 211/500\n",
      "20/20 [==============================] - 0s 5ms/step - loss: 191.7729 - val_loss: 1606.3029\n",
      "Epoch 212/500\n",
      "20/20 [==============================] - 0s 4ms/step - loss: 190.8090 - val_loss: 1610.9062\n",
      "Epoch 213/500\n",
      "20/20 [==============================] - 0s 5ms/step - loss: 189.8863 - val_loss: 1615.4496\n",
      "Epoch 214/500\n",
      "20/20 [==============================] - 0s 5ms/step - loss: 189.0036 - val_loss: 1619.9343\n",
      "Epoch 215/500\n",
      "20/20 [==============================] - 0s 5ms/step - loss: 188.1593 - val_loss: 1624.3580\n",
      "Epoch 216/500\n",
      "20/20 [==============================] - 0s 6ms/step - loss: 187.3523 - val_loss: 1628.7203\n",
      "Epoch 217/500\n",
      "20/20 [==============================] - 0s 6ms/step - loss: 186.5813 - val_loss: 1633.0212\n",
      "Epoch 218/500\n",
      "20/20 [==============================] - 0s 5ms/step - loss: 185.8449 - val_loss: 1637.2592\n",
      "Epoch 219/500\n",
      "20/20 [==============================] - 0s 5ms/step - loss: 185.1419 - val_loss: 1641.4333\n",
      "Epoch 220/500\n",
      "20/20 [==============================] - 0s 10ms/step - loss: 184.4711 - val_loss: 1645.5443\n",
      "Epoch 221/500\n",
      "20/20 [==============================] - 0s 5ms/step - loss: 183.8315 - val_loss: 1649.5918\n",
      "Epoch 222/500\n",
      "20/20 [==============================] - 0s 8ms/step - loss: 183.2215 - val_loss: 1653.5746\n",
      "Epoch 223/500\n",
      "20/20 [==============================] - 0s 6ms/step - loss: 182.6404 - val_loss: 1657.4926\n",
      "Epoch 224/500\n",
      "20/20 [==============================] - 0s 8ms/step - loss: 182.0869 - val_loss: 1661.3464\n",
      "Epoch 225/500\n",
      "20/20 [==============================] - 0s 8ms/step - loss: 181.5600 - val_loss: 1665.1348\n",
      "Epoch 226/500\n",
      "20/20 [==============================] - 0s 8ms/step - loss: 181.0586 - val_loss: 1668.8574\n",
      "Epoch 227/500\n",
      "20/20 [==============================] - 0s 7ms/step - loss: 180.5817 - val_loss: 1672.5144\n",
      "Epoch 228/500\n",
      "20/20 [==============================] - 0s 7ms/step - loss: 180.1284 - val_loss: 1676.1058\n",
      "Epoch 229/500\n",
      "20/20 [==============================] - 0s 7ms/step - loss: 179.6976 - val_loss: 1679.6318\n",
      "Epoch 230/500\n",
      "20/20 [==============================] - 0s 9ms/step - loss: 179.2885 - val_loss: 1683.0920\n",
      "Epoch 231/500\n",
      "20/20 [==============================] - 0s 7ms/step - loss: 178.9001 - val_loss: 1686.4860\n",
      "Epoch 232/500\n",
      "20/20 [==============================] - 0s 9ms/step - loss: 178.5317 - val_loss: 1689.8148\n",
      "Epoch 233/500\n",
      "20/20 [==============================] - 0s 8ms/step - loss: 178.1822 - val_loss: 1693.0781\n",
      "Epoch 234/500\n",
      "20/20 [==============================] - 0s 5ms/step - loss: 177.8510 - val_loss: 1696.2760\n",
      "Epoch 235/500\n",
      "20/20 [==============================] - 0s 7ms/step - loss: 177.5371 - val_loss: 1699.4095\n",
      "Epoch 236/500\n",
      "20/20 [==============================] - 0s 8ms/step - loss: 177.2399 - val_loss: 1702.4775\n",
      "Epoch 237/500\n",
      "20/20 [==============================] - 0s 7ms/step - loss: 176.9586 - val_loss: 1705.4807\n",
      "Epoch 238/500\n",
      "20/20 [==============================] - 0s 9ms/step - loss: 176.6925 - val_loss: 1708.4203\n",
      "Epoch 239/500\n",
      "20/20 [==============================] - 0s 9ms/step - loss: 176.4408 - val_loss: 1711.2965\n",
      "Epoch 240/500\n",
      "20/20 [==============================] - 0s 8ms/step - loss: 176.2030 - val_loss: 1714.1082\n",
      "Epoch 241/500\n",
      "20/20 [==============================] - 0s 6ms/step - loss: 175.9783 - val_loss: 1716.8567\n",
      "Epoch 242/500\n",
      "20/20 [==============================] - 0s 7ms/step - loss: 175.7661 - val_loss: 1719.5432\n",
      "Epoch 243/500\n",
      "20/20 [==============================] - 0s 24ms/step - loss: 175.5660 - val_loss: 1722.1664\n",
      "Epoch 244/500\n",
      "20/20 [==============================] - 0s 8ms/step - loss: 175.3132 - val_loss: 1722.6218\n",
      "Epoch 245/500\n",
      "20/20 [==============================] - 0s 7ms/step - loss: 175.4409 - val_loss: 1726.7507\n",
      "Epoch 246/500\n",
      "20/20 [==============================] - 0s 7ms/step - loss: 175.1231 - val_loss: 1730.0668\n",
      "Epoch 247/500\n",
      "20/20 [==============================] - 0s 7ms/step - loss: 174.8963 - val_loss: 1733.0793\n",
      "Epoch 248/500\n",
      "20/20 [==============================] - 0s 7ms/step - loss: 174.7035 - val_loss: 1735.8953\n",
      "Epoch 249/500\n",
      "20/20 [==============================] - 0s 7ms/step - loss: 174.5327 - val_loss: 1738.5596\n",
      "Epoch 250/500\n",
      "20/20 [==============================] - 0s 7ms/step - loss: 174.3789 - val_loss: 1741.0967\n",
      "Epoch 251/500\n",
      "20/20 [==============================] - 0s 6ms/step - loss: 174.2390 - val_loss: 1743.5227\n",
      "Epoch 252/500\n",
      "20/20 [==============================] - 0s 5ms/step - loss: 174.1110 - val_loss: 1745.8474\n",
      "Epoch 253/500\n",
      "20/20 [==============================] - 0s 6ms/step - loss: 173.9937 - val_loss: 1748.0803\n",
      "Epoch 254/500\n",
      "20/20 [==============================] - 0s 6ms/step - loss: 173.8857 - val_loss: 1750.2252\n",
      "Epoch 255/500\n",
      "20/20 [==============================] - 0s 5ms/step - loss: 173.7863 - val_loss: 1752.2885\n",
      "Epoch 256/500\n",
      "20/20 [==============================] - 0s 8ms/step - loss: 173.6946 - val_loss: 1754.2754\n",
      "Epoch 257/500\n",
      "20/20 [==============================] - 0s 7ms/step - loss: 173.6100 - val_loss: 1756.1882\n",
      "Epoch 258/500\n",
      "20/20 [==============================] - 0s 7ms/step - loss: 173.5318 - val_loss: 1758.0320\n",
      "Epoch 259/500\n",
      "20/20 [==============================] - 0s 6ms/step - loss: 173.4595 - val_loss: 1759.8079\n",
      "Epoch 260/500\n",
      "20/20 [==============================] - 0s 6ms/step - loss: 173.3927 - val_loss: 1761.5192\n",
      "Epoch 261/500\n",
      "20/20 [==============================] - 0s 6ms/step - loss: 173.3310 - val_loss: 1763.1680\n",
      "Epoch 262/500\n",
      "20/20 [==============================] - 0s 5ms/step - loss: 173.2739 - val_loss: 1764.7574\n",
      "Epoch 263/500\n",
      "20/20 [==============================] - 0s 5ms/step - loss: 173.2210 - val_loss: 1766.2887\n",
      "Epoch 264/500\n",
      "20/20 [==============================] - 0s 6ms/step - loss: 173.1723 - val_loss: 1767.7634\n",
      "Epoch 265/500\n",
      "20/20 [==============================] - 0s 5ms/step - loss: 173.1272 - val_loss: 1769.1855\n",
      "Epoch 266/500\n",
      "20/20 [==============================] - 0s 12ms/step - loss: 173.0854 - val_loss: 1770.5544\n",
      "Epoch 267/500\n",
      "20/20 [==============================] - 0s 5ms/step - loss: 173.0469 - val_loss: 1771.8737\n",
      "Epoch 268/500\n",
      "20/20 [==============================] - 0s 6ms/step - loss: 173.0113 - val_loss: 1773.1436\n",
      "Epoch 269/500\n",
      "20/20 [==============================] - 0s 5ms/step - loss: 172.9784 - val_loss: 1774.3658\n",
      "Epoch 270/500\n",
      "20/20 [==============================] - 0s 5ms/step - loss: 172.9480 - val_loss: 1775.5430\n",
      "Epoch 271/500\n",
      "20/20 [==============================] - 0s 4ms/step - loss: 172.9198 - val_loss: 1776.6754\n",
      "Epoch 272/500\n",
      "20/20 [==============================] - 0s 5ms/step - loss: 172.8940 - val_loss: 1777.7659\n",
      "Epoch 273/500\n",
      "20/20 [==============================] - 0s 5ms/step - loss: 172.8700 - val_loss: 1778.8151\n",
      "Epoch 274/500\n",
      "20/20 [==============================] - 0s 5ms/step - loss: 172.8479 - val_loss: 1779.8230\n",
      "Epoch 275/500\n",
      "20/20 [==============================] - 0s 5ms/step - loss: 172.8275 - val_loss: 1780.7924\n",
      "Epoch 276/500\n",
      "20/20 [==============================] - 0s 4ms/step - loss: 172.8087 - val_loss: 1781.7242\n",
      "Epoch 277/500\n",
      "20/20 [==============================] - 0s 5ms/step - loss: 172.7914 - val_loss: 1782.6205\n",
      "Epoch 278/500\n",
      "20/20 [==============================] - 0s 5ms/step - loss: 172.7754 - val_loss: 1783.4807\n",
      "Epoch 279/500\n",
      "20/20 [==============================] - 0s 5ms/step - loss: 172.7607 - val_loss: 1784.3074\n",
      "Epoch 280/500\n",
      "20/20 [==============================] - 0s 5ms/step - loss: 172.7471 - val_loss: 1785.1003\n",
      "Epoch 281/500\n",
      "20/20 [==============================] - 0s 5ms/step - loss: 172.7346 - val_loss: 1785.8623\n",
      "Epoch 282/500\n",
      "20/20 [==============================] - 0s 5ms/step - loss: 172.7232 - val_loss: 1786.5935\n",
      "Epoch 283/500\n",
      "20/20 [==============================] - 0s 5ms/step - loss: 172.7126 - val_loss: 1787.2957\n",
      "Epoch 284/500\n",
      "20/20 [==============================] - 0s 7ms/step - loss: 172.7028 - val_loss: 1787.9685\n",
      "Epoch 285/500\n",
      "20/20 [==============================] - 0s 6ms/step - loss: 172.6939 - val_loss: 1788.6143\n",
      "Epoch 286/500\n",
      "20/20 [==============================] - 0s 6ms/step - loss: 172.6856 - val_loss: 1789.2314\n",
      "Epoch 287/500\n",
      "20/20 [==============================] - 0s 5ms/step - loss: 172.6782 - val_loss: 1789.8242\n",
      "Epoch 288/500\n",
      "20/20 [==============================] - 0s 9ms/step - loss: 172.6712 - val_loss: 1790.3923\n",
      "Epoch 289/500\n",
      "20/20 [==============================] - 0s 7ms/step - loss: 172.6649 - val_loss: 1790.9363\n",
      "Epoch 290/500\n",
      "20/20 [==============================] - 0s 12ms/step - loss: 172.6590 - val_loss: 1791.4580\n",
      "Epoch 291/500\n",
      "20/20 [==============================] - 0s 6ms/step - loss: 172.6537 - val_loss: 1791.9564\n",
      "Epoch 292/500\n",
      "20/20 [==============================] - 0s 6ms/step - loss: 172.6487 - val_loss: 1792.4336\n",
      "Epoch 293/500\n",
      "20/20 [==============================] - 0s 6ms/step - loss: 172.6442 - val_loss: 1792.8900\n",
      "Epoch 294/500\n",
      "20/20 [==============================] - 0s 6ms/step - loss: 172.6400 - val_loss: 1793.3264\n",
      "Epoch 295/500\n",
      "20/20 [==============================] - 0s 7ms/step - loss: 172.6363 - val_loss: 1793.7429\n",
      "Epoch 296/500\n",
      "20/20 [==============================] - 0s 7ms/step - loss: 172.6329 - val_loss: 1794.1422\n",
      "Epoch 297/500\n",
      "20/20 [==============================] - 0s 6ms/step - loss: 172.6298 - val_loss: 1794.5234\n",
      "Epoch 298/500\n",
      "20/20 [==============================] - 0s 6ms/step - loss: 172.6269 - val_loss: 1794.8873\n",
      "Epoch 299/500\n",
      "20/20 [==============================] - 0s 6ms/step - loss: 172.6243 - val_loss: 1795.2354\n",
      "Epoch 300/500\n",
      "20/20 [==============================] - 0s 7ms/step - loss: 172.6219 - val_loss: 1795.5681\n",
      "Epoch 301/500\n",
      "20/20 [==============================] - 0s 7ms/step - loss: 172.6197 - val_loss: 1795.8844\n",
      "Epoch 302/500\n",
      "20/20 [==============================] - 0s 7ms/step - loss: 172.6177 - val_loss: 1796.1873\n",
      "Epoch 303/500\n",
      "20/20 [==============================] - 0s 7ms/step - loss: 172.6160 - val_loss: 1796.4756\n",
      "Epoch 304/500\n",
      "20/20 [==============================] - 0s 6ms/step - loss: 172.6143 - val_loss: 1796.7506\n",
      "Epoch 305/500\n",
      "20/20 [==============================] - 0s 6ms/step - loss: 172.6129 - val_loss: 1797.0131\n",
      "Epoch 306/500\n",
      "20/20 [==============================] - 0s 6ms/step - loss: 172.6116 - val_loss: 1797.2633\n",
      "Epoch 307/500\n",
      "20/20 [==============================] - 0s 6ms/step - loss: 172.6104 - val_loss: 1797.5013\n",
      "Epoch 308/500\n",
      "20/20 [==============================] - 0s 5ms/step - loss: 172.6093 - val_loss: 1797.7279\n",
      "Epoch 309/500\n",
      "20/20 [==============================] - 0s 6ms/step - loss: 172.6083 - val_loss: 1797.9431\n",
      "Epoch 310/500\n",
      "20/20 [==============================] - 0s 6ms/step - loss: 172.6076 - val_loss: 1798.1488\n",
      "Epoch 311/500\n",
      "20/20 [==============================] - 0s 5ms/step - loss: 172.6068 - val_loss: 1798.3450\n",
      "Epoch 312/500\n",
      "20/20 [==============================] - 0s 5ms/step - loss: 172.6061 - val_loss: 1798.5310\n",
      "Epoch 313/500\n",
      "20/20 [==============================] - 0s 9ms/step - loss: 172.6055 - val_loss: 1798.7083\n",
      "Epoch 314/500\n",
      "20/20 [==============================] - 0s 10ms/step - loss: 172.6050 - val_loss: 1798.8766\n",
      "Epoch 315/500\n",
      "20/20 [==============================] - 0s 6ms/step - loss: 172.6046 - val_loss: 1799.0359\n",
      "Epoch 316/500\n",
      "20/20 [==============================] - 0s 6ms/step - loss: 172.6042 - val_loss: 1799.1881\n",
      "Epoch 317/500\n",
      "20/20 [==============================] - 0s 6ms/step - loss: 172.6039 - val_loss: 1799.3330\n",
      "Epoch 318/500\n",
      "20/20 [==============================] - 0s 6ms/step - loss: 172.6036 - val_loss: 1799.4697\n",
      "Epoch 319/500\n",
      "20/20 [==============================] - 0s 7ms/step - loss: 172.6034 - val_loss: 1799.6008\n",
      "Epoch 320/500\n",
      "20/20 [==============================] - 0s 5ms/step - loss: 172.6032 - val_loss: 1799.7240\n",
      "Epoch 321/500\n",
      "20/20 [==============================] - 0s 6ms/step - loss: 172.6031 - val_loss: 1799.8411\n",
      "Epoch 322/500\n",
      "20/20 [==============================] - 0s 6ms/step - loss: 172.6030 - val_loss: 1799.9524\n",
      "Epoch 323/500\n",
      "20/20 [==============================] - 0s 7ms/step - loss: 172.6029 - val_loss: 1800.0579\n",
      "Epoch 324/500\n",
      "20/20 [==============================] - 0s 6ms/step - loss: 172.6029 - val_loss: 1800.1576\n",
      "Epoch 325/500\n",
      "20/20 [==============================] - 0s 7ms/step - loss: 172.6029 - val_loss: 1800.2522\n",
      "Epoch 326/500\n",
      "20/20 [==============================] - 0s 7ms/step - loss: 172.6030 - val_loss: 1800.3425\n",
      "Epoch 327/500\n",
      "20/20 [==============================] - 0s 6ms/step - loss: 172.6030 - val_loss: 1800.4283\n",
      "Epoch 328/500\n",
      "20/20 [==============================] - 0s 7ms/step - loss: 172.6031 - val_loss: 1800.5084\n",
      "Epoch 329/500\n",
      "20/20 [==============================] - 0s 6ms/step - loss: 172.6032 - val_loss: 1800.5847\n",
      "Epoch 330/500\n",
      "20/20 [==============================] - 0s 5ms/step - loss: 172.6033 - val_loss: 1800.6572\n",
      "Epoch 331/500\n",
      "20/20 [==============================] - 0s 5ms/step - loss: 172.6035 - val_loss: 1800.7262\n",
      "Epoch 332/500\n",
      "20/20 [==============================] - 0s 4ms/step - loss: 172.6036 - val_loss: 1800.7910\n",
      "Epoch 333/500\n",
      "20/20 [==============================] - 0s 6ms/step - loss: 172.6038 - val_loss: 1800.8525\n",
      "Epoch 334/500\n",
      "20/20 [==============================] - 0s 6ms/step - loss: 172.6039 - val_loss: 1800.9094\n",
      "Epoch 335/500\n",
      "20/20 [==============================] - 0s 5ms/step - loss: 172.6042 - val_loss: 1800.9651\n",
      "Epoch 336/500\n",
      "20/20 [==============================] - 0s 12ms/step - loss: 172.6044 - val_loss: 1801.0162\n",
      "Epoch 337/500\n",
      "20/20 [==============================] - 0s 6ms/step - loss: 172.6046 - val_loss: 1801.0648\n",
      "Epoch 338/500\n",
      "20/20 [==============================] - 0s 6ms/step - loss: 172.6048 - val_loss: 1801.1116\n",
      "Epoch 339/500\n",
      "20/20 [==============================] - 0s 7ms/step - loss: 172.6051 - val_loss: 1801.1555\n",
      "Epoch 340/500\n",
      "20/20 [==============================] - 0s 6ms/step - loss: 172.6053 - val_loss: 1801.1963\n",
      "Epoch 341/500\n",
      "20/20 [==============================] - 0s 7ms/step - loss: 172.6056 - val_loss: 1801.2354\n",
      "Epoch 342/500\n",
      "20/20 [==============================] - 0s 6ms/step - loss: 172.6058 - val_loss: 1801.2719\n",
      "Epoch 343/500\n",
      "20/20 [==============================] - 0s 6ms/step - loss: 172.6061 - val_loss: 1801.3059\n",
      "Epoch 344/500\n",
      "20/20 [==============================] - 0s 6ms/step - loss: 172.6063 - val_loss: 1801.3386\n",
      "Epoch 345/500\n",
      "20/20 [==============================] - 0s 6ms/step - loss: 172.6067 - val_loss: 1801.3701\n",
      "Epoch 346/500\n",
      "20/20 [==============================] - 0s 6ms/step - loss: 172.6069 - val_loss: 1801.3994\n",
      "Epoch 347/500\n",
      "20/20 [==============================] - 0s 6ms/step - loss: 172.6072 - val_loss: 1801.4260\n",
      "Epoch 348/500\n",
      "20/20 [==============================] - 0s 7ms/step - loss: 172.6075 - val_loss: 1801.4514\n",
      "Epoch 349/500\n",
      "20/20 [==============================] - 0s 6ms/step - loss: 172.6078 - val_loss: 1801.4766\n",
      "Epoch 350/500\n",
      "20/20 [==============================] - 0s 6ms/step - loss: 172.6081 - val_loss: 1801.4984\n",
      "Epoch 351/500\n",
      "20/20 [==============================] - 0s 7ms/step - loss: 172.6084 - val_loss: 1801.5201\n",
      "Epoch 352/500\n",
      "20/20 [==============================] - 0s 7ms/step - loss: 172.6087 - val_loss: 1801.5406\n",
      "Epoch 353/500\n",
      "20/20 [==============================] - 0s 7ms/step - loss: 172.6089 - val_loss: 1801.5590\n",
      "Epoch 354/500\n",
      "20/20 [==============================] - 0s 7ms/step - loss: 172.6093 - val_loss: 1801.5762\n",
      "Epoch 355/500\n",
      "20/20 [==============================] - 0s 11ms/step - loss: 172.6095 - val_loss: 1801.5940\n",
      "Epoch 356/500\n",
      "20/20 [==============================] - 0s 7ms/step - loss: 172.6098 - val_loss: 1801.6094\n",
      "Epoch 357/500\n",
      "20/20 [==============================] - 0s 16ms/step - loss: 172.6101 - val_loss: 1801.6240\n",
      "Epoch 358/500\n",
      "20/20 [==============================] - 0s 10ms/step - loss: 172.6104 - val_loss: 1801.6381\n",
      "Epoch 359/500\n",
      "20/20 [==============================] - 0s 8ms/step - loss: 172.6107 - val_loss: 1801.6514\n",
      "Epoch 360/500\n",
      "20/20 [==============================] - 0s 8ms/step - loss: 172.6110 - val_loss: 1801.6638\n",
      "Epoch 361/500\n",
      "20/20 [==============================] - 0s 7ms/step - loss: 172.6113 - val_loss: 1801.6750\n",
      "Epoch 362/500\n",
      "20/20 [==============================] - 0s 7ms/step - loss: 172.6116 - val_loss: 1801.6862\n",
      "Epoch 363/500\n",
      "20/20 [==============================] - 0s 7ms/step - loss: 172.6119 - val_loss: 1801.6963\n",
      "Epoch 364/500\n",
      "20/20 [==============================] - 0s 7ms/step - loss: 172.6122 - val_loss: 1801.7053\n",
      "Epoch 365/500\n",
      "20/20 [==============================] - 0s 7ms/step - loss: 172.6125 - val_loss: 1801.7145\n",
      "Epoch 366/500\n",
      "20/20 [==============================] - 0s 6ms/step - loss: 172.6128 - val_loss: 1801.7233\n",
      "Epoch 367/500\n",
      "20/20 [==============================] - 0s 5ms/step - loss: 172.6130 - val_loss: 1801.7312\n",
      "Epoch 368/500\n",
      "20/20 [==============================] - 0s 5ms/step - loss: 172.6133 - val_loss: 1801.7386\n",
      "Epoch 369/500\n",
      "20/20 [==============================] - 0s 6ms/step - loss: 172.6136 - val_loss: 1801.7455\n",
      "Epoch 370/500\n",
      "20/20 [==============================] - 0s 5ms/step - loss: 172.6138 - val_loss: 1801.7520\n",
      "Epoch 371/500\n",
      "20/20 [==============================] - 0s 5ms/step - loss: 172.6142 - val_loss: 1801.7581\n",
      "Epoch 372/500\n",
      "20/20 [==============================] - 0s 5ms/step - loss: 172.6144 - val_loss: 1801.7633\n",
      "Epoch 373/500\n",
      "20/20 [==============================] - 0s 4ms/step - loss: 172.6147 - val_loss: 1801.7683\n",
      "Epoch 374/500\n",
      "20/20 [==============================] - 0s 4ms/step - loss: 172.6149 - val_loss: 1801.7737\n",
      "Epoch 375/500\n",
      "20/20 [==============================] - 0s 6ms/step - loss: 172.6152 - val_loss: 1801.7780\n",
      "Epoch 376/500\n",
      "20/20 [==============================] - 0s 6ms/step - loss: 172.6155 - val_loss: 1801.7826\n",
      "Epoch 377/500\n",
      "20/20 [==============================] - 0s 5ms/step - loss: 172.6157 - val_loss: 1801.7867\n",
      "Epoch 378/500\n",
      "20/20 [==============================] - 0s 5ms/step - loss: 172.6160 - val_loss: 1801.7903\n",
      "Epoch 379/500\n",
      "20/20 [==============================] - 0s 5ms/step - loss: 172.6162 - val_loss: 1801.7933\n",
      "Epoch 380/500\n",
      "20/20 [==============================] - 0s 11ms/step - loss: 172.6165 - val_loss: 1801.7972\n",
      "Epoch 381/500\n",
      "20/20 [==============================] - 0s 6ms/step - loss: 172.6167 - val_loss: 1801.7998\n",
      "Epoch 382/500\n",
      "20/20 [==============================] - 0s 6ms/step - loss: 172.6170 - val_loss: 1801.8027\n",
      "Epoch 383/500\n",
      "20/20 [==============================] - 0s 6ms/step - loss: 172.6172 - val_loss: 1801.8053\n",
      "Epoch 384/500\n",
      "20/20 [==============================] - 0s 5ms/step - loss: 172.6175 - val_loss: 1801.8076\n",
      "Epoch 385/500\n",
      "20/20 [==============================] - 0s 5ms/step - loss: 172.6177 - val_loss: 1801.8103\n",
      "Epoch 386/500\n",
      "20/20 [==============================] - 0s 6ms/step - loss: 172.6179 - val_loss: 1801.8123\n",
      "Epoch 387/500\n",
      "20/20 [==============================] - 0s 5ms/step - loss: 172.6181 - val_loss: 1801.8138\n",
      "Epoch 388/500\n",
      "20/20 [==============================] - 0s 5ms/step - loss: 172.6184 - val_loss: 1801.8158\n",
      "Epoch 389/500\n",
      "20/20 [==============================] - 0s 5ms/step - loss: 172.6185 - val_loss: 1801.8176\n",
      "Epoch 390/500\n",
      "20/20 [==============================] - 0s 5ms/step - loss: 172.6188 - val_loss: 1801.8190\n",
      "Epoch 391/500\n",
      "20/20 [==============================] - 0s 5ms/step - loss: 172.6190 - val_loss: 1801.8197\n",
      "Epoch 392/500\n",
      "20/20 [==============================] - 0s 5ms/step - loss: 172.6193 - val_loss: 1801.8213\n",
      "Epoch 393/500\n",
      "20/20 [==============================] - 0s 5ms/step - loss: 172.6195 - val_loss: 1801.8230\n",
      "Epoch 394/500\n",
      "20/20 [==============================] - 0s 5ms/step - loss: 172.6196 - val_loss: 1801.8236\n",
      "Epoch 395/500\n",
      "20/20 [==============================] - 0s 7ms/step - loss: 172.6199 - val_loss: 1801.8252\n",
      "Epoch 396/500\n",
      "20/20 [==============================] - 0s 5ms/step - loss: 172.6201 - val_loss: 1801.8259\n",
      "Epoch 397/500\n",
      "20/20 [==============================] - 0s 5ms/step - loss: 172.6203 - val_loss: 1801.8275\n",
      "Epoch 398/500\n",
      "20/20 [==============================] - 0s 5ms/step - loss: 172.6204 - val_loss: 1801.8279\n",
      "Epoch 399/500\n",
      "20/20 [==============================] - 0s 5ms/step - loss: 172.6206 - val_loss: 1801.8289\n",
      "Epoch 400/500\n",
      "20/20 [==============================] - 0s 5ms/step - loss: 172.6208 - val_loss: 1801.8293\n",
      "Epoch 401/500\n",
      "20/20 [==============================] - 0s 10ms/step - loss: 172.6210 - val_loss: 1801.8297\n",
      "Epoch 402/500\n",
      "20/20 [==============================] - 0s 5ms/step - loss: 172.6212 - val_loss: 1801.8297\n",
      "Epoch 403/500\n",
      "20/20 [==============================] - 0s 6ms/step - loss: 172.6214 - val_loss: 1801.8304\n",
      "Epoch 404/500\n",
      "20/20 [==============================] - 0s 5ms/step - loss: 172.6216 - val_loss: 1801.8304\n",
      "Epoch 405/500\n",
      "20/20 [==============================] - 0s 6ms/step - loss: 172.6218 - val_loss: 1801.8311\n",
      "Epoch 406/500\n",
      "20/20 [==============================] - 0s 5ms/step - loss: 172.6219 - val_loss: 1801.8314\n",
      "Epoch 407/500\n",
      "20/20 [==============================] - 0s 7ms/step - loss: 172.6222 - val_loss: 1801.8320\n",
      "Epoch 408/500\n",
      "20/20 [==============================] - 0s 6ms/step - loss: 172.6223 - val_loss: 1801.8320\n",
      "Epoch 409/500\n",
      "20/20 [==============================] - 0s 6ms/step - loss: 172.6224 - val_loss: 1801.8324\n",
      "Epoch 410/500\n",
      "20/20 [==============================] - 0s 7ms/step - loss: 172.6226 - val_loss: 1801.8324\n",
      "Epoch 411/500\n",
      "20/20 [==============================] - 0s 8ms/step - loss: 172.6227 - val_loss: 1801.8323\n",
      "Epoch 412/500\n",
      "20/20 [==============================] - 0s 7ms/step - loss: 172.6230 - val_loss: 1801.8326\n",
      "Epoch 413/500\n",
      "20/20 [==============================] - 0s 5ms/step - loss: 172.6231 - val_loss: 1801.8324\n",
      "Epoch 414/500\n",
      "20/20 [==============================] - 0s 9ms/step - loss: 172.6232 - val_loss: 1801.8324\n",
      "Epoch 415/500\n",
      "20/20 [==============================] - 0s 5ms/step - loss: 172.6234 - val_loss: 1801.8328\n",
      "Epoch 416/500\n",
      "20/20 [==============================] - 0s 5ms/step - loss: 172.6235 - val_loss: 1801.8334\n",
      "Epoch 417/500\n",
      "20/20 [==============================] - 0s 5ms/step - loss: 172.6236 - val_loss: 1801.8328\n",
      "Epoch 418/500\n",
      "20/20 [==============================] - 0s 5ms/step - loss: 172.6239 - val_loss: 1801.8330\n",
      "Epoch 419/500\n",
      "20/20 [==============================] - 0s 6ms/step - loss: 172.6240 - val_loss: 1801.8330\n",
      "Epoch 420/500\n",
      "20/20 [==============================] - 0s 7ms/step - loss: 172.6241 - val_loss: 1801.8336\n",
      "Epoch 421/500\n",
      "20/20 [==============================] - 0s 7ms/step - loss: 172.6242 - val_loss: 1801.8336\n",
      "Epoch 422/500\n",
      "20/20 [==============================] - 0s 11ms/step - loss: 172.6243 - val_loss: 1801.8333\n",
      "Epoch 423/500\n",
      "20/20 [==============================] - 0s 6ms/step - loss: 172.6245 - val_loss: 1801.8337\n",
      "Epoch 424/500\n",
      "20/20 [==============================] - 0s 6ms/step - loss: 172.6246 - val_loss: 1801.8334\n",
      "Epoch 425/500\n",
      "20/20 [==============================] - 0s 8ms/step - loss: 172.6248 - val_loss: 1801.8337\n",
      "Epoch 426/500\n",
      "20/20 [==============================] - 0s 6ms/step - loss: 172.6248 - val_loss: 1801.8337\n",
      "Epoch 427/500\n",
      "20/20 [==============================] - 0s 6ms/step - loss: 172.6250 - val_loss: 1801.8336\n",
      "Epoch 428/500\n",
      "20/20 [==============================] - 0s 6ms/step - loss: 172.6251 - val_loss: 1801.8336\n",
      "Epoch 429/500\n",
      "20/20 [==============================] - 0s 6ms/step - loss: 172.6252 - val_loss: 1801.8336\n",
      "Epoch 430/500\n",
      "20/20 [==============================] - 0s 11ms/step - loss: 172.6253 - val_loss: 1801.8336\n",
      "Epoch 431/500\n",
      "20/20 [==============================] - 0s 8ms/step - loss: 172.6254 - val_loss: 1801.8326\n",
      "Epoch 432/500\n",
      "20/20 [==============================] - 0s 6ms/step - loss: 172.6256 - val_loss: 1801.8326\n",
      "Epoch 433/500\n",
      "20/20 [==============================] - 0s 6ms/step - loss: 172.6257 - val_loss: 1801.8326\n",
      "Epoch 434/500\n",
      "20/20 [==============================] - 0s 6ms/step - loss: 172.6258 - val_loss: 1801.8324\n",
      "Epoch 435/500\n",
      "20/20 [==============================] - 0s 8ms/step - loss: 172.6259 - val_loss: 1801.8324\n",
      "Epoch 436/500\n",
      "20/20 [==============================] - 0s 9ms/step - loss: 172.6259 - val_loss: 1801.8323\n",
      "Epoch 437/500\n",
      "20/20 [==============================] - 0s 7ms/step - loss: 172.6261 - val_loss: 1801.8318\n",
      "Epoch 438/500\n",
      "20/20 [==============================] - 0s 6ms/step - loss: 172.6261 - val_loss: 1801.8318\n",
      "Epoch 439/500\n",
      "20/20 [==============================] - 0s 5ms/step - loss: 172.6263 - val_loss: 1801.8323\n",
      "Epoch 440/500\n",
      "20/20 [==============================] - 0s 6ms/step - loss: 172.6264 - val_loss: 1801.8324\n",
      "Epoch 441/500\n",
      "20/20 [==============================] - 0s 10ms/step - loss: 172.6265 - val_loss: 1801.8318\n",
      "Epoch 442/500\n",
      "20/20 [==============================] - 0s 7ms/step - loss: 172.6265 - val_loss: 1801.8308\n",
      "Epoch 443/500\n",
      "20/20 [==============================] - 0s 7ms/step - loss: 172.6267 - val_loss: 1801.8308\n",
      "Epoch 444/500\n",
      "20/20 [==============================] - 0s 5ms/step - loss: 172.6268 - val_loss: 1801.8313\n",
      "Epoch 445/500\n",
      "20/20 [==============================] - 0s 5ms/step - loss: 172.6268 - val_loss: 1801.8308\n",
      "Epoch 446/500\n",
      "20/20 [==============================] - 0s 6ms/step - loss: 172.6269 - val_loss: 1801.8313\n",
      "Epoch 447/500\n",
      "20/20 [==============================] - 0s 8ms/step - loss: 172.6270 - val_loss: 1801.8311\n",
      "Epoch 448/500\n",
      "20/20 [==============================] - 0s 7ms/step - loss: 172.6270 - val_loss: 1801.8307\n",
      "Epoch 449/500\n",
      "20/20 [==============================] - 0s 8ms/step - loss: 172.6272 - val_loss: 1801.8307\n",
      "Epoch 450/500\n",
      "20/20 [==============================] - 0s 7ms/step - loss: 172.6272 - val_loss: 1801.8307\n",
      "Epoch 451/500\n",
      "20/20 [==============================] - 0s 6ms/step - loss: 172.6273 - val_loss: 1801.8307\n",
      "Epoch 452/500\n",
      "20/20 [==============================] - 0s 6ms/step - loss: 172.6275 - val_loss: 1801.8301\n",
      "Epoch 453/500\n",
      "20/20 [==============================] - 0s 6ms/step - loss: 172.6276 - val_loss: 1801.8307\n",
      "Epoch 454/500\n",
      "20/20 [==============================] - 0s 6ms/step - loss: 172.6275 - val_loss: 1801.8301\n",
      "Epoch 455/500\n",
      "20/20 [==============================] - 0s 7ms/step - loss: 172.6276 - val_loss: 1801.8298\n",
      "Epoch 456/500\n",
      "20/20 [==============================] - 0s 7ms/step - loss: 172.6277 - val_loss: 1801.8301\n",
      "Epoch 457/500\n",
      "20/20 [==============================] - 0s 6ms/step - loss: 172.6278 - val_loss: 1801.8301\n",
      "Epoch 458/500\n",
      "20/20 [==============================] - 0s 6ms/step - loss: 172.6279 - val_loss: 1801.8301\n",
      "Epoch 459/500\n",
      "20/20 [==============================] - 0s 6ms/step - loss: 172.6280 - val_loss: 1801.8303\n",
      "Epoch 460/500\n",
      "20/20 [==============================] - 0s 15ms/step - loss: 172.6280 - val_loss: 1801.8301\n",
      "Epoch 461/500\n",
      "20/20 [==============================] - 0s 6ms/step - loss: 172.6281 - val_loss: 1801.8301\n",
      "Epoch 462/500\n",
      "20/20 [==============================] - 0s 9ms/step - loss: 172.6282 - val_loss: 1801.8311\n",
      "Epoch 463/500\n",
      "20/20 [==============================] - 0s 7ms/step - loss: 172.6282 - val_loss: 1801.8311\n",
      "Epoch 464/500\n",
      "20/20 [==============================] - 0s 7ms/step - loss: 172.6282 - val_loss: 1801.8301\n",
      "Epoch 465/500\n",
      "20/20 [==============================] - 0s 6ms/step - loss: 172.6283 - val_loss: 1801.8293\n",
      "Epoch 466/500\n",
      "20/20 [==============================] - 0s 7ms/step - loss: 172.6283 - val_loss: 1801.8289\n",
      "Epoch 467/500\n",
      "20/20 [==============================] - 0s 6ms/step - loss: 172.6284 - val_loss: 1801.8293\n",
      "Epoch 468/500\n",
      "20/20 [==============================] - 0s 6ms/step - loss: 172.6284 - val_loss: 1801.8289\n",
      "Epoch 469/500\n",
      "20/20 [==============================] - 0s 6ms/step - loss: 172.6285 - val_loss: 1801.8289\n",
      "Epoch 470/500\n",
      "20/20 [==============================] - 0s 5ms/step - loss: 172.6286 - val_loss: 1801.8289\n",
      "Epoch 471/500\n",
      "20/20 [==============================] - 0s 5ms/step - loss: 172.6287 - val_loss: 1801.8301\n",
      "Epoch 472/500\n",
      "20/20 [==============================] - 0s 6ms/step - loss: 172.6287 - val_loss: 1801.8289\n",
      "Epoch 473/500\n",
      "20/20 [==============================] - 0s 5ms/step - loss: 172.6288 - val_loss: 1801.8289\n",
      "Epoch 474/500\n",
      "20/20 [==============================] - 0s 4ms/step - loss: 172.6288 - val_loss: 1801.8284\n",
      "Epoch 475/500\n",
      "20/20 [==============================] - 0s 5ms/step - loss: 172.6288 - val_loss: 1801.8274\n",
      "Epoch 476/500\n",
      "20/20 [==============================] - 0s 4ms/step - loss: 172.6289 - val_loss: 1801.8274\n",
      "Epoch 477/500\n",
      "20/20 [==============================] - 0s 5ms/step - loss: 172.6290 - val_loss: 1801.8274\n",
      "Epoch 478/500\n",
      "20/20 [==============================] - 0s 4ms/step - loss: 172.6290 - val_loss: 1801.8269\n",
      "Epoch 479/500\n",
      "20/20 [==============================] - 0s 4ms/step - loss: 172.6290 - val_loss: 1801.8265\n",
      "Epoch 480/500\n",
      "20/20 [==============================] - 0s 10ms/step - loss: 172.6291 - val_loss: 1801.8265\n",
      "Epoch 481/500\n",
      "20/20 [==============================] - 0s 10ms/step - loss: 172.6291 - val_loss: 1801.8274\n",
      "Epoch 482/500\n",
      "20/20 [==============================] - 0s 6ms/step - loss: 172.6292 - val_loss: 1801.8279\n",
      "Epoch 483/500\n",
      "20/20 [==============================] - 0s 5ms/step - loss: 172.6292 - val_loss: 1801.8279\n",
      "Epoch 484/500\n",
      "20/20 [==============================] - 0s 6ms/step - loss: 172.6292 - val_loss: 1801.8274\n",
      "Epoch 485/500\n",
      "20/20 [==============================] - 0s 5ms/step - loss: 172.6292 - val_loss: 1801.8274\n",
      "Epoch 486/500\n",
      "20/20 [==============================] - 0s 5ms/step - loss: 172.6293 - val_loss: 1801.8274\n",
      "Epoch 487/500\n",
      "20/20 [==============================] - 0s 5ms/step - loss: 172.6294 - val_loss: 1801.8274\n",
      "Epoch 488/500\n",
      "20/20 [==============================] - 0s 5ms/step - loss: 172.6294 - val_loss: 1801.8262\n",
      "Epoch 489/500\n",
      "20/20 [==============================] - 0s 5ms/step - loss: 172.6295 - val_loss: 1801.8262\n",
      "Epoch 490/500\n",
      "20/20 [==============================] - 0s 5ms/step - loss: 172.6295 - val_loss: 1801.8262\n",
      "Epoch 491/500\n",
      "20/20 [==============================] - 0s 5ms/step - loss: 172.6296 - val_loss: 1801.8274\n",
      "Epoch 492/500\n",
      "20/20 [==============================] - 0s 5ms/step - loss: 172.6296 - val_loss: 1801.8279\n",
      "Epoch 493/500\n",
      "20/20 [==============================] - 0s 5ms/step - loss: 172.6295 - val_loss: 1801.8279\n",
      "Epoch 494/500\n",
      "20/20 [==============================] - 0s 6ms/step - loss: 172.6295 - val_loss: 1801.8275\n",
      "Epoch 495/500\n",
      "20/20 [==============================] - 0s 6ms/step - loss: 172.6296 - val_loss: 1801.8256\n",
      "Epoch 496/500\n",
      "20/20 [==============================] - 0s 5ms/step - loss: 172.6297 - val_loss: 1801.8254\n",
      "Epoch 497/500\n",
      "20/20 [==============================] - 0s 6ms/step - loss: 172.6298 - val_loss: 1801.8262\n",
      "Epoch 498/500\n",
      "20/20 [==============================] - 0s 7ms/step - loss: 172.6298 - val_loss: 1801.8269\n",
      "Epoch 499/500\n",
      "20/20 [==============================] - 0s 7ms/step - loss: 172.6298 - val_loss: 1801.8271\n",
      "Epoch 500/500\n",
      "20/20 [==============================] - 0s 8ms/step - loss: 172.6298 - val_loss: 1801.8256\n"
     ]
    }
   ],
   "source": [
    "C0 = tf.Variable(88.1552, name=\"C0\", trainable=True, dtype=tf.float32)\n",
    "K0 = tf.Variable(-0.0026, name=\"K0\", trainable=True, dtype=tf.float32)\n",
    "K1 = tf.Variable(-0.0004, name=\"K1\", trainable=True, dtype=tf.float32)\n",
    "a = tf.Variable(0.0000, name=\"a\", trainable=True, dtype=tf.float32)\n",
    "b = tf.Variable(0.0102, name=\"b\", trainable=True, dtype=tf.float32)\n",
    "c = tf.Variable(2.8734, name=\"c\", trainable=True, dtype=tf.float32)\n",
    "\n",
    "splitr = 0.8\n",
    "\n",
    "\n",
    "def loss_fn(y_true, y_pred):\n",
    "    squared_difference = tf.square(y_true[:, 0] - y_pred[:, 0])\n",
    "    #squared_difference2 = tf.square(y_true[:, 2]-y_pred[:, 2])\n",
    "    #squared_difference1 = tf.square(y_true[:, 1]-y_pred[:, 1])\n",
    "    epsilon = 1\n",
    "    squared_difference3 = tf.square(\n",
    "        y_pred[:, 1] - (\n",
    "            y_pred[:, 0] * (\n",
    "                K0 - K1 * (\n",
    "                    9 * a * tf.math.log((y_pred[:, 0] + epsilon) / C0) / (K0 - K1 * c)**2 +\n",
    "                    4 * b * tf.math.log((y_pred[:, 0] + epsilon) / C0) / (K0 - K1 * c) + c\n",
    "                )\n",
    "            )\n",
    "        )\n",
    "    )\n",
    "    return tf.reduce_mean(squared_difference, axis=-1) + 0.2*tf.reduce_mean(squared_difference3, axis=-1)\n",
    "model = Sequential()\n",
    "model.add(LSTM(100, input_shape=(trainX.shape[1], trainX.shape[2])))\n",
    "model.add(Dense(60))\n",
    "model.compile(loss=loss_fn, optimizer='adam')\n",
    "history = model.fit(trainX[:int(splitr*trainX.shape[0])], trainy[:int(splitr*trainX.shape[0])], epochs=500, batch_size=64, validation_data=(trainX[int(splitr*trainX.shape[0]):trainX.shape[0]], trainy[int(splitr*trainX.shape[0]):trainX.shape[0]]), shuffle=False)"
   ]
  },
  {
   "cell_type": "code",
   "execution_count": 19,
   "metadata": {
    "colab": {
     "base_uri": "https://localhost:8080/"
    },
    "id": "yJL101rPyuoT",
    "outputId": "239ff2b1-c186-423a-d316-939dfdd7c793"
   },
   "outputs": [
    {
     "name": "stdout",
     "output_type": "stream",
     "text": [
      "1/1 [==============================] - 0s 461ms/step\n"
     ]
    }
   ],
   "source": [
    "forecast_without_mc = forecastX\n",
    "yhat_without_mc = model.predict(forecast_without_mc) # Step Ahead Prediction\n",
    "forecast_without_mc = forecast_without_mc.reshape((forecast_without_mc.shape[0], forecast_without_mc.shape[2])) # Historical Input"
   ]
  },
  {
   "cell_type": "code",
   "execution_count": 20,
   "metadata": {
    "colab": {
     "base_uri": "https://localhost:8080/"
    },
    "id": "g9dQELcJ8wbp",
    "outputId": "4dc7671b-b1a8-48d5-8744-a86f98446109"
   },
   "outputs": [
    {
     "data": {
      "text/plain": [
       "(1, 1, 251)"
      ]
     },
     "execution_count": 20,
     "metadata": {},
     "output_type": "execute_result"
    }
   ],
   "source": [
    "forecastX.shape"
   ]
  },
  {
   "cell_type": "code",
   "execution_count": 21,
   "metadata": {
    "colab": {
     "base_uri": "https://localhost:8080/"
    },
    "id": "IS2kyIKG1Kbr",
    "outputId": "f31b3485-8e26-452f-9298-ea8bf7e80ad1"
   },
   "outputs": [
    {
     "data": {
      "text/plain": [
       "(1, 251)"
      ]
     },
     "execution_count": 21,
     "metadata": {},
     "output_type": "execute_result"
    }
   ],
   "source": [
    "forecast_without_mc.shape"
   ]
  },
  {
   "cell_type": "code",
   "execution_count": 22,
   "metadata": {
    "id": "0u6VIzaDyuoT"
   },
   "outputs": [],
   "source": [
    "inv_yhat_without_mc = np.concatenate((forecast_without_mc, yhat_without_mc), axis=1) # Concatenation of predicted values with Historical Data\n",
    "#inv_yhat_without_mc = scaler.inverse_transform(inv_yhat_without_mc) # Transform labels back to original encoding"
   ]
  },
  {
   "cell_type": "code",
   "execution_count": 23,
   "metadata": {
    "colab": {
     "base_uri": "https://localhost:8080/"
    },
    "id": "EUEcw0LX07oU",
    "outputId": "cfc32397-9c37-4b43-d087-584bb31c3dcc"
   },
   "outputs": [
    {
     "data": {
      "text/plain": [
       "(1, 311)"
      ]
     },
     "execution_count": 23,
     "metadata": {},
     "output_type": "execute_result"
    }
   ],
   "source": [
    "inv_yhat_without_mc.shape"
   ]
  },
  {
   "cell_type": "code",
   "execution_count": 24,
   "metadata": {
    "id": "31OWVbSh_305"
   },
   "outputs": [],
   "source": [
    "fforecast = inv_yhat_without_mc[:,-300:]"
   ]
  },
  {
   "cell_type": "code",
   "execution_count": 25,
   "metadata": {},
   "outputs": [
    {
     "data": {
      "text/plain": [
       "(1, 300)"
      ]
     },
     "execution_count": 25,
     "metadata": {},
     "output_type": "execute_result"
    }
   ],
   "source": [
    "fforecast.shape"
   ]
  },
  {
   "cell_type": "code",
   "execution_count": 26,
   "metadata": {
    "id": "BlpGH2FOAiRF"
   },
   "outputs": [],
   "source": [
    "final_forecast = fforecast[:,0:300:3]"
   ]
  },
  {
   "cell_type": "code",
   "execution_count": 27,
   "metadata": {},
   "outputs": [
    {
     "data": {
      "text/plain": [
       "(1, 300)"
      ]
     },
     "execution_count": 27,
     "metadata": {},
     "output_type": "execute_result"
    }
   ],
   "source": [
    "fforecast.shape"
   ]
  },
  {
   "cell_type": "code",
   "execution_count": 28,
   "metadata": {
    "id": "CXkgkj_LBk_t"
   },
   "outputs": [],
   "source": [
    "# code to replace all negative value with 0\n",
    "final_forecast[final_forecast<0] = 0"
   ]
  },
  {
   "cell_type": "code",
   "execution_count": 29,
   "metadata": {},
   "outputs": [
    {
     "data": {
      "text/plain": [
       "array([[7.30453548e+01, 7.26643137e+01, 7.22407843e+01, 7.18172549e+01,\n",
       "        7.25410385e+01, 0.00000000e+00, 0.00000000e+00, 2.12277430e-01,\n",
       "        0.00000000e+00, 0.00000000e+00, 2.35334440e-01, 7.82640300e-02,\n",
       "        4.61028130e-01, 7.07828431e+01, 7.07576330e+01, 7.07324230e+01,\n",
       "        7.07072129e+01, 7.06820028e+01, 7.44114846e+01, 7.41013772e+01,\n",
       "        7.37736461e+01, 7.34459150e+01, 7.31181839e+01, 7.27584314e+01,\n",
       "        7.23349020e+01, 7.19113725e+01, 7.14878431e+01, 0.00000000e+00,\n",
       "        0.00000000e+00, 7.32517040e+01, 7.29239729e+01, 7.25074510e+01,\n",
       "        7.20839216e+01, 7.16603922e+01, 7.12368628e+01, 7.11425397e+01,\n",
       "        7.10618674e+01, 7.09811951e+01, 1.65300410e-01, 0.00000000e+00,\n",
       "        0.00000000e+00, 5.36403780e-01, 9.94302450e-01, 5.25311650e-01,\n",
       "        1.91368850e-01, 0.00000000e+00, 3.70619710e-01, 7.20054902e+01,\n",
       "        7.15819608e+01, 0.00000000e+00, 0.00000000e+00, 7.33245331e+01,\n",
       "        7.29968020e+01, 7.26015686e+01, 7.21780392e+01, 7.17545098e+01,\n",
       "        7.13309804e+01, 7.11604669e+01, 7.10797946e+01, 7.09991223e+01,\n",
       "        1.08551530e-02, 1.52217552e-01, 7.19270588e+01, 7.15035294e+01,\n",
       "        7.11933333e+01, 7.11126611e+01, 7.10319888e+01, 7.09513165e+01,\n",
       "        7.08724790e+01, 7.07968487e+01, 7.07212185e+01, 2.27639120e-02,\n",
       "        0.00000000e+00, 4.54919891e+01, 1.04988220e-02, 3.80814075e-01,\n",
       "        1.42019778e-01, 0.00000000e+00, 0.00000000e+00, 0.00000000e+00,\n",
       "        6.59078369e+01, 3.72164428e-01, 2.53180176e-01, 3.17293674e-01,\n",
       "        0.00000000e+00, 3.66555005e-01, 1.13219619e+00, 0.00000000e+00,\n",
       "        1.67774081e-01, 2.59423435e-01, 1.27596036e-02, 1.06054592e+00,\n",
       "        3.85792702e-02, 2.31640100e-01, 0.00000000e+00, 3.00421208e-01,\n",
       "        0.00000000e+00, 0.00000000e+00, 0.00000000e+00, 0.00000000e+00]])"
      ]
     },
     "execution_count": 29,
     "metadata": {},
     "output_type": "execute_result"
    }
   ],
   "source": [
    "final_forecast"
   ]
  },
  {
   "cell_type": "code",
   "execution_count": 30,
   "metadata": {},
   "outputs": [
    {
     "data": {
      "text/plain": [
       "(1, 100)"
      ]
     },
     "execution_count": 30,
     "metadata": {},
     "output_type": "execute_result"
    }
   ],
   "source": [
    "final_forecast.shape"
   ]
  },
  {
   "cell_type": "code",
   "execution_count": 31,
   "metadata": {},
   "outputs": [
    {
     "data": {
      "text/plain": [
       "(100,)"
      ]
     },
     "execution_count": 31,
     "metadata": {},
     "output_type": "execute_result"
    }
   ],
   "source": [
    "test.shape"
   ]
  },
  {
   "cell_type": "code",
   "execution_count": 32,
   "metadata": {},
   "outputs": [],
   "source": [
    "training_set = np.array(training_set)\n",
    "test = np.array(test)\n",
    "final_forecast = np.array(final_forecast.squeeze(0))"
   ]
  },
  {
   "cell_type": "code",
   "execution_count": 33,
   "metadata": {},
   "outputs": [
    {
     "data": {
      "text/plain": [
       "array([60.01067927, 59.98406863, 59.95745798, 59.93084734, 59.90423669,\n",
       "       59.87762605, 59.85101541, 59.82440476, 59.79779412, 59.77118347,\n",
       "       59.74457283, 59.71796218, 59.69135154, 59.6647409 , 59.63813025,\n",
       "       59.61151961, 59.58490896, 59.55829832, 59.53168768, 59.50507703,\n",
       "       59.47846639, 59.45185574, 59.4252451 , 59.39863445, 59.37202381,\n",
       "       59.34541317, 59.31880252, 59.29219188, 59.26558123, 59.23897059,\n",
       "       59.21235994, 59.1857493 , 59.15913866, 59.13252801, 59.10591737,\n",
       "       59.07930672, 59.05269608, 59.02608543, 58.99947479, 58.97286415,\n",
       "       58.9462535 , 58.91964286, 58.89303221, 58.86642157, 58.83981092,\n",
       "       58.81320028, 58.78658964, 58.75997899, 58.73336835, 58.7067577 ,\n",
       "       58.68014706, 58.65353641, 58.62692577, 58.60031513, 58.57370448,\n",
       "       58.54709384, 58.52048319, 58.49387255, 58.4672619 , 58.44065126,\n",
       "       58.41404062, 58.38742997, 58.36081933, 58.33420868, 58.30759804,\n",
       "       58.28098739, 58.25437675, 58.22776611, 58.20115546, 58.17454482,\n",
       "       58.14793417, 58.12132353, 58.09471289, 58.06810224, 58.0414916 ,\n",
       "       58.01488095, 57.98827031, 57.96165966, 57.93504902, 57.90843838,\n",
       "       57.88182773, 57.85521709, 57.82860644, 57.8019958 , 57.78559131,\n",
       "       57.77001435, 57.75443738, 57.73886042, 57.72328346, 57.7077065 ,\n",
       "       57.69212953, 57.67655257, 57.66097561, 57.64539865, 57.62982168,\n",
       "       57.61424472, 57.59866776, 57.5830908 , 57.56751383, 57.55193687])"
      ]
     },
     "execution_count": 33,
     "metadata": {},
     "output_type": "execute_result"
    }
   ],
   "source": [
    "test"
   ]
  },
  {
   "cell_type": "code",
   "execution_count": 34,
   "metadata": {},
   "outputs": [
    {
     "data": {
      "text/plain": [
       "(100,)"
      ]
     },
     "execution_count": 34,
     "metadata": {},
     "output_type": "execute_result"
    }
   ],
   "source": [
    "test.shape"
   ]
  },
  {
   "cell_type": "code",
   "execution_count": 35,
   "metadata": {},
   "outputs": [
    {
     "data": {
      "text/plain": [
       "(100,)"
      ]
     },
     "execution_count": 35,
     "metadata": {},
     "output_type": "execute_result"
    }
   ],
   "source": [
    "final_forecast.shape"
   ]
  },
  {
   "cell_type": "code",
   "execution_count": 36,
   "metadata": {},
   "outputs": [
    {
     "data": {
      "text/plain": [
       "(100,)"
      ]
     },
     "execution_count": 36,
     "metadata": {},
     "output_type": "execute_result"
    }
   ],
   "source": [
    "test.shape"
   ]
  },
  {
   "cell_type": "code",
   "execution_count": 37,
   "metadata": {},
   "outputs": [
    {
     "name": "stdout",
     "output_type": "stream",
     "text": [
      "42.17590060278566\n",
      "35.506276259010534\n"
     ]
    }
   ],
   "source": [
    "import math\n",
    "MSE = np.square(np.subtract(np.array(test),np.array(final_forecast))).mean()   \n",
    "rsme = math.sqrt(MSE)\n",
    "print(rsme)  \n",
    "MAE = np.abs(np.subtract(np.array(test),np.array(final_forecast))).mean()   \n",
    "mae = MAE\n",
    "print(mae)"
   ]
  }
 ],
 "metadata": {
  "colab": {
   "provenance": []
  },
  "kernelspec": {
   "display_name": "Python 3",
   "language": "python",
   "name": "python3"
  },
  "language_info": {
   "codemirror_mode": {
    "name": "ipython",
    "version": 3
   },
   "file_extension": ".py",
   "mimetype": "text/x-python",
   "name": "python",
   "nbconvert_exporter": "python",
   "pygments_lexer": "ipython3",
   "version": "3.9.13"
  }
 },
 "nbformat": 4,
 "nbformat_minor": 0
}
