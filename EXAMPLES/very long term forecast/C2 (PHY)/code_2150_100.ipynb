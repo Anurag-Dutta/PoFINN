{
 "cells": [
  {
   "cell_type": "markdown",
   "metadata": {
    "id": "pCGKeZ2gyuoQ"
   },
   "source": [
    "_Importing Required Libraries_"
   ]
  },
  {
   "cell_type": "code",
   "execution_count": 1,
   "metadata": {
    "colab": {
     "base_uri": "https://localhost:8080/"
    },
    "id": "A-6LN-zXiLcM",
    "outputId": "4de610a4-f8b8-4f49-c6c0-89de299ccedc"
   },
   "outputs": [
    {
     "name": "stdout",
     "output_type": "stream",
     "text": [
      "Requirement already satisfied: hampel in c:\\users\\anurag dutta\\appdata\\local\\packages\\pythonsoftwarefoundation.python.3.9_qbz5n2kfra8p0\\localcache\\local-packages\\python39\\site-packages (0.0.5)\n",
      "Requirement already satisfied: numpy in c:\\users\\anurag dutta\\appdata\\local\\packages\\pythonsoftwarefoundation.python.3.9_qbz5n2kfra8p0\\localcache\\local-packages\\python39\\site-packages (from hampel) (1.26.4)\n",
      "Requirement already satisfied: pandas in c:\\users\\anurag dutta\\appdata\\local\\packages\\pythonsoftwarefoundation.python.3.9_qbz5n2kfra8p0\\localcache\\local-packages\\python39\\site-packages (from hampel) (1.5.2)\n",
      "Requirement already satisfied: python-dateutil>=2.8.1 in c:\\users\\anurag dutta\\appdata\\local\\packages\\pythonsoftwarefoundation.python.3.9_qbz5n2kfra8p0\\localcache\\local-packages\\python39\\site-packages (from pandas->hampel) (2.8.2)\n",
      "Requirement already satisfied: pytz>=2020.1 in c:\\users\\anurag dutta\\appdata\\local\\packages\\pythonsoftwarefoundation.python.3.9_qbz5n2kfra8p0\\localcache\\local-packages\\python39\\site-packages (from pandas->hampel) (2023.3.post1)\n",
      "Requirement already satisfied: six>=1.5 in c:\\users\\anurag dutta\\appdata\\local\\packages\\pythonsoftwarefoundation.python.3.9_qbz5n2kfra8p0\\localcache\\local-packages\\python39\\site-packages (from python-dateutil>=2.8.1->pandas->hampel) (1.16.0)\n",
      "Note: you may need to restart the kernel to use updated packages.\n"
     ]
    },
    {
     "name": "stderr",
     "output_type": "stream",
     "text": [
      "\n",
      "[notice] A new release of pip is available: 24.2 -> 24.3.1\n",
      "[notice] To update, run: C:\\Users\\Anurag Dutta\\AppData\\Local\\Microsoft\\WindowsApps\\PythonSoftwareFoundation.Python.3.9_qbz5n2kfra8p0\\python.exe -m pip install --upgrade pip\n"
     ]
    }
   ],
   "source": [
    "pip install hampel"
   ]
  },
  {
   "cell_type": "code",
   "execution_count": 2,
   "metadata": {
    "id": "By_d9uXpaFvZ"
   },
   "outputs": [],
   "source": [
    "from keras.models import Sequential\n",
    "from keras.layers import Dense\n",
    "from keras.layers import LSTM\n",
    "from keras.layers import Dropout\n",
    "import keras\n",
    "import tensorflow as tf\n",
    "from hampel import hampel\n",
    "import numpy as np\n",
    "import matplotlib.pyplot as plt\n",
    "import pandas as pd\n",
    "from sklearn.preprocessing import MinMaxScaler\n",
    "from sklearn.metrics import mean_squared_error, mean_absolute_error\n",
    "from math import sqrt\n",
    "from matplotlib import pyplot\n",
    "from numpy import array"
   ]
  },
  {
   "cell_type": "markdown",
   "metadata": {
    "id": "JyOjBMFayuoR"
   },
   "source": [
    "## Pretraining"
   ]
  },
  {
   "cell_type": "markdown",
   "metadata": {
    "id": "-5QqIY_GyuoR"
   },
   "source": [
    "The `capa_intermittency.dat` feeds the model with the dynamics of the Capacitor"
   ]
  },
  {
   "cell_type": "code",
   "execution_count": 3,
   "metadata": {
    "id": "9dV4a8yfyuoR"
   },
   "outputs": [],
   "source": [
    "data = np.genfromtxt('capa_intermittency.dat')\n",
    "training_set = pd.DataFrame(data).reset_index(drop=True)\n",
    "training_set = training_set.iloc[:,0]"
   ]
  },
  {
   "cell_type": "markdown",
   "metadata": {
    "id": "i7easoxByuoR"
   },
   "source": [
    "## Computing the Gradient"
   ]
  },
  {
   "cell_type": "markdown",
   "metadata": {
    "id": "5SnyolJTyuoR"
   },
   "source": [
    "_Calculating the value of_ $\\frac{dx}{dt}$"
   ]
  },
  {
   "cell_type": "code",
   "execution_count": 4,
   "metadata": {
    "colab": {
     "base_uri": "https://localhost:8080/"
    },
    "id": "wmIbVfIvyuoR",
    "outputId": "aa4e3136-c854-465d-d2e9-81cfd546e440"
   },
   "outputs": [
    {
     "name": "stdout",
     "output_type": "stream",
     "text": [
      "1.0\n",
      "1        0.000298\n",
      "2        0.000298\n",
      "3        0.000297\n",
      "4        0.000297\n",
      "5        0.000297\n",
      "           ...   \n",
      "9996     0.000018\n",
      "9997     0.000018\n",
      "9998     0.000018\n",
      "9999     0.000018\n",
      "10000    0.000018\n",
      "Name: 0, Length: 10000, dtype: float64\n"
     ]
    }
   ],
   "source": [
    "t_diff = 1\n",
    "print(training_set.max())\n",
    "gradient_t = (training_set.diff()/t_diff).iloc[1:] # dx/dt\n",
    "print(gradient_t)"
   ]
  },
  {
   "cell_type": "markdown",
   "metadata": {
    "id": "_2eVeeoxyuoS"
   },
   "source": [
    "## Loading Datasets"
   ]
  },
  {
   "cell_type": "code",
   "execution_count": 5,
   "metadata": {
    "id": "0J-NKyIEyuoS"
   },
   "outputs": [
    {
     "data": {
      "text/plain": [
       "0       90.500000\n",
       "1       90.275910\n",
       "2       90.051821\n",
       "3       89.827731\n",
       "4       89.603641\n",
       "          ...    \n",
       "2245    56.056548\n",
       "2246    56.040972\n",
       "2247    56.025395\n",
       "2248    56.009818\n",
       "2249    55.994241\n",
       "Name: C2, Length: 2250, dtype: float64"
      ]
     },
     "execution_count": 5,
     "metadata": {},
     "output_type": "execute_result"
    }
   ],
   "source": [
    "data = pd.read_csv(\"c2_interpolated_2150_100.csv\")\n",
    "training_set = data.iloc[:, 1]\n",
    "training_set"
   ]
  },
  {
   "cell_type": "code",
   "execution_count": 6,
   "metadata": {
    "colab": {
     "base_uri": "https://localhost:8080/"
    },
    "id": "-CbNUhJ74UqF",
    "outputId": "20f562d8-8247-49cc-b9c3-00eca5e13e2d"
   },
   "outputs": [
    {
     "data": {
      "text/plain": [
       "0       90.500000\n",
       "1       90.275910\n",
       "2       90.051821\n",
       "3       89.827731\n",
       "4       89.603641\n",
       "          ...    \n",
       "2145     0.300421\n",
       "2146     0.000000\n",
       "2147     0.000000\n",
       "2148     0.000000\n",
       "2149     0.000000\n",
       "Name: C2, Length: 2150, dtype: float64"
      ]
     },
     "execution_count": 6,
     "metadata": {},
     "output_type": "execute_result"
    }
   ],
   "source": [
    "test = training_set.tail(100)\n",
    "test\n",
    "training_set = training_set.head(2150)\n",
    "training_set"
   ]
  },
  {
   "cell_type": "code",
   "execution_count": 7,
   "metadata": {
    "colab": {
     "base_uri": "https://localhost:8080/"
    },
    "id": "X0TwTcq0yuoS",
    "outputId": "37252ed8-d88e-4044-fa7a-922411990b5b"
   },
   "outputs": [
    {
     "name": "stdout",
     "output_type": "stream",
     "text": [
      "0       0.000298\n",
      "1       0.000298\n",
      "2       0.000297\n",
      "3       0.000297\n",
      "4       0.000297\n",
      "          ...   \n",
      "9995    0.000018\n",
      "9996    0.000018\n",
      "9997    0.000018\n",
      "9998    0.000018\n",
      "9999    0.000018\n",
      "Name: 0, Length: 10000, dtype: float64\n"
     ]
    }
   ],
   "source": [
    "training_set = training_set.reset_index(drop=True)\n",
    "gradient_t = gradient_t.reset_index(drop=True)\n",
    "print(gradient_t)"
   ]
  },
  {
   "cell_type": "code",
   "execution_count": 8,
   "metadata": {
    "id": "O2biznZQyuoS"
   },
   "outputs": [],
   "source": [
    "df = pd.concat((training_set, gradient_t), axis=1)\n",
    "df.columns = ['y_t', 'grad_t']"
   ]
  },
  {
   "cell_type": "code",
   "execution_count": 9,
   "metadata": {
    "colab": {
     "base_uri": "https://localhost:8080/",
     "height": 423
    },
    "id": "sk_a5v3tyuoS",
    "outputId": "17563625-e550-45ae-faab-fafa353e44da"
   },
   "outputs": [
    {
     "data": {
      "text/html": [
       "<div>\n",
       "<style scoped>\n",
       "    .dataframe tbody tr th:only-of-type {\n",
       "        vertical-align: middle;\n",
       "    }\n",
       "\n",
       "    .dataframe tbody tr th {\n",
       "        vertical-align: top;\n",
       "    }\n",
       "\n",
       "    .dataframe thead th {\n",
       "        text-align: right;\n",
       "    }\n",
       "</style>\n",
       "<table border=\"1\" class=\"dataframe\">\n",
       "  <thead>\n",
       "    <tr style=\"text-align: right;\">\n",
       "      <th></th>\n",
       "      <th>y_t</th>\n",
       "      <th>grad_t</th>\n",
       "    </tr>\n",
       "  </thead>\n",
       "  <tbody>\n",
       "    <tr>\n",
       "      <th>0</th>\n",
       "      <td>90.500000</td>\n",
       "      <td>0.000298</td>\n",
       "    </tr>\n",
       "    <tr>\n",
       "      <th>1</th>\n",
       "      <td>90.275910</td>\n",
       "      <td>0.000298</td>\n",
       "    </tr>\n",
       "    <tr>\n",
       "      <th>2</th>\n",
       "      <td>90.051821</td>\n",
       "      <td>0.000297</td>\n",
       "    </tr>\n",
       "    <tr>\n",
       "      <th>3</th>\n",
       "      <td>89.827731</td>\n",
       "      <td>0.000297</td>\n",
       "    </tr>\n",
       "    <tr>\n",
       "      <th>4</th>\n",
       "      <td>89.603641</td>\n",
       "      <td>0.000297</td>\n",
       "    </tr>\n",
       "    <tr>\n",
       "      <th>...</th>\n",
       "      <td>...</td>\n",
       "      <td>...</td>\n",
       "    </tr>\n",
       "    <tr>\n",
       "      <th>9995</th>\n",
       "      <td>NaN</td>\n",
       "      <td>0.000018</td>\n",
       "    </tr>\n",
       "    <tr>\n",
       "      <th>9996</th>\n",
       "      <td>NaN</td>\n",
       "      <td>0.000018</td>\n",
       "    </tr>\n",
       "    <tr>\n",
       "      <th>9997</th>\n",
       "      <td>NaN</td>\n",
       "      <td>0.000018</td>\n",
       "    </tr>\n",
       "    <tr>\n",
       "      <th>9998</th>\n",
       "      <td>NaN</td>\n",
       "      <td>0.000018</td>\n",
       "    </tr>\n",
       "    <tr>\n",
       "      <th>9999</th>\n",
       "      <td>NaN</td>\n",
       "      <td>0.000018</td>\n",
       "    </tr>\n",
       "  </tbody>\n",
       "</table>\n",
       "<p>10000 rows × 2 columns</p>\n",
       "</div>"
      ],
      "text/plain": [
       "            y_t    grad_t\n",
       "0     90.500000  0.000298\n",
       "1     90.275910  0.000298\n",
       "2     90.051821  0.000297\n",
       "3     89.827731  0.000297\n",
       "4     89.603641  0.000297\n",
       "...         ...       ...\n",
       "9995        NaN  0.000018\n",
       "9996        NaN  0.000018\n",
       "9997        NaN  0.000018\n",
       "9998        NaN  0.000018\n",
       "9999        NaN  0.000018\n",
       "\n",
       "[10000 rows x 2 columns]"
      ]
     },
     "execution_count": 9,
     "metadata": {},
     "output_type": "execute_result"
    }
   ],
   "source": [
    "df"
   ]
  },
  {
   "cell_type": "markdown",
   "metadata": {
    "id": "-5esyHu5aFvg"
   },
   "source": [
    "## Plot of the External Forcing from Chaotic Differential Equation"
   ]
  },
  {
   "cell_type": "code",
   "execution_count": 10,
   "metadata": {
    "colab": {
     "base_uri": "https://localhost:8080/",
     "height": 447
    },
    "id": "hGnE43tOh-4p",
    "outputId": "fc396503-b624-4fa5-dfbe-f460207405c6"
   },
   "outputs": [
    {
     "data": {
      "text/plain": [
       "<Axes: >"
      ]
     },
     "execution_count": 10,
     "metadata": {},
     "output_type": "execute_result"
    },
    {
     "data": {
      "image/png": "[encoded data removed]",
      "text/plain": [
       "<Figure size 432x288 with 1 Axes>"
      ]
     },
     "metadata": {
      "needs_background": "light"
     },
     "output_type": "display_data"
    }
   ],
   "source": [
    "df.iloc[:, 0].plot()"
   ]
  },
  {
   "cell_type": "code",
   "execution_count": 11,
   "metadata": {
    "colab": {
     "base_uri": "https://localhost:8080/",
     "height": 447
    },
    "id": "ym4xWUUxaFvg",
    "outputId": "ae6a3495-8ce9-437e-ba81-3ed31deedeae"
   },
   "outputs": [
    {
     "name": "stderr",
     "output_type": "stream",
     "text": [
      "C:\\Users\\Anurag Dutta\\AppData\\Local\\Packages\\PythonSoftwareFoundation.Python.3.9_qbz5n2kfra8p0\\LocalCache\\local-packages\\Python39\\site-packages\\pandas\\core\\arraylike.py:402: RuntimeWarning: divide by zero encountered in log\n",
      "  result = getattr(ufunc, method)(*inputs, **kwargs)\n"
     ]
    },
    {
     "data": {
      "text/plain": [
       "<Axes: >"
      ]
     },
     "execution_count": 11,
     "metadata": {},
     "output_type": "execute_result"
    },
    {
     "data": {
      "image/png": "[encoded data removed]",
      "text/plain": [
       "<Figure size 432x288 with 1 Axes>"
      ]
     },
     "metadata": {
      "needs_background": "light"
     },
     "output_type": "display_data"
    }
   ],
   "source": [
    "import numpy as np\n",
    "c0 = 88.1552  # Value for C0\n",
    "K0 = -0.0026  # Value for K0\n",
    "K1 = -0.0004  # Value for K1\n",
    "a = 0.0000    # Value for a\n",
    "b = 0.0102    # Value for b\n",
    "c = 2.8734    # Value for c\n",
    "\n",
    "L = np.minimum(c0, (df.iloc[:, 1] - (df.iloc[:, 0] * (K0 - K1 * (9 * a * np.log(df.iloc[:, 0] / c0) / (K0 - K1 * c)**2 + 4 * b * np.log(df.iloc[:, 0] / c0) / (K0 - K1 * c) + c)))))\n",
    "L.plot()"
   ]
  },
  {
   "cell_type": "markdown",
   "metadata": {
    "id": "9VyEywnwaFvh"
   },
   "source": [
    "## Preprocessing the data into supervised learning"
   ]
  },
  {
   "cell_type": "code",
   "execution_count": 12,
   "metadata": {
    "id": "6V9dXqzdaFvh"
   },
   "outputs": [],
   "source": [
    "# split a sequence into samples\n",
    "def Supervised(data, n_in=1, n_out=1, dropnan=True):\n",
    "    n_vars = 1 if type(data) is list else data.shape[1]\n",
    "    df = pd.DataFrame(data)\n",
    "    cols, names = list(), list()\n",
    "    # input sequence (t-n_in, ... t-1)\n",
    "    for i in range(n_in, 0, -1):\n",
    "        cols.append(df.shift(i))\n",
    "        names += [('var%d(t-%d)' % (j+1, i)) for j in range(n_vars)]\n",
    "    # forecast sequence (t, t+1, ... t+n_out)\n",
    "    for i in range(0, n_out):\n",
    "      cols.append(df.shift(-i))\n",
    "      if i == 0:\n",
    "        names += [('var%d(t)' % (j+1)) for j in range(n_vars)]\n",
    "      else:\n",
    "        names += [('var%d(t+%d)' % (j+1, i)) for j in range(n_vars)]\n",
    "    # put it all together\n",
    "    agg = pd.concat(cols, axis=1)\n",
    "    agg.columns = names\n",
    "    # drop rows with NaN values\n",
    "    if dropnan:\n",
    "       agg.dropna(inplace=True)\n",
    "    return agg"
   ]
  },
  {
   "cell_type": "code",
   "execution_count": 13,
   "metadata": {
    "colab": {
     "base_uri": "https://localhost:8080/"
    },
    "id": "CrzSrT1HnyfH",
    "outputId": "7e75f928-3e47-499d-eac1-51908015ef78"
   },
   "outputs": [
    {
     "name": "stdout",
     "output_type": "stream",
     "text": [
      "     var1(t-350)  var1(t-349)  var1(t-348)  var1(t-347)  var1(t-346)  \\\n",
      "350    90.500000    90.275910    90.051821    89.827731    89.603641   \n",
      "351    90.275910    90.051821    89.827731    89.603641    89.379552   \n",
      "352    90.051821    89.827731    89.603641    89.379552    89.155462   \n",
      "353    89.827731    89.603641    89.379552    89.155462    88.931373   \n",
      "354    89.603641    89.379552    89.155462    88.931373    88.707283   \n",
      "\n",
      "     var1(t-345)  var1(t-344)  var1(t-343)  var1(t-342)  var1(t-341)  ...  \\\n",
      "350    89.379552    89.155462    88.931373    88.707283    88.494958  ...   \n",
      "351    89.155462    88.931373    88.707283    88.494958    88.427731  ...   \n",
      "352    88.931373    88.707283    88.494958    88.427731    88.360504  ...   \n",
      "353    88.707283    88.494958    88.427731    88.360504    88.293277  ...   \n",
      "354    88.494958    88.427731    88.360504    88.293277    88.226050  ...   \n",
      "\n",
      "     var1(t+95)  var2(t+95)  var1(t+96)  var2(t+96)  var1(t+97)  var2(t+97)  \\\n",
      "350   79.071008    0.000263   79.054202    0.000263   79.037395    0.000263   \n",
      "351   79.054202    0.000263   79.037395    0.000263   79.020588    0.000262   \n",
      "352   79.037395    0.000263   79.020588    0.000262   79.003782    0.000262   \n",
      "353   79.020588    0.000262   79.003782    0.000262   78.986975    0.000262   \n",
      "354   79.003782    0.000262   78.986975    0.000262   78.970168    0.000262   \n",
      "\n",
      "     var1(t+98)  var2(t+98)  var1(t+99)  var2(t+99)  \n",
      "350   79.020588    0.000262   79.003782    0.000262  \n",
      "351   79.003782    0.000262   78.986975    0.000262  \n",
      "352   78.986975    0.000262   78.970168    0.000262  \n",
      "353   78.970168    0.000262   78.953361    0.000262  \n",
      "354   78.953361    0.000262   78.936555    0.000262  \n",
      "\n",
      "[5 rows x 551 columns]\n",
      "Index(['var1(t-350)', 'var1(t-349)', 'var1(t-348)', 'var1(t-347)',\n",
      "       'var1(t-346)', 'var1(t-345)', 'var1(t-344)', 'var1(t-343)',\n",
      "       'var1(t-342)', 'var1(t-341)',\n",
      "       ...\n",
      "       'var1(t+95)', 'var2(t+95)', 'var1(t+96)', 'var2(t+96)', 'var1(t+97)',\n",
      "       'var2(t+97)', 'var1(t+98)', 'var2(t+98)', 'var1(t+99)', 'var2(t+99)'],\n",
      "      dtype='object', length=551)\n"
     ]
    }
   ],
   "source": [
    "data = Supervised(df.values, n_in = 350, n_out = 100)\n",
    "\n",
    "\n",
    "cols_to_drop = []\n",
    "for i in range(2, 351):\n",
    "    cols_to_drop.extend([f'var2(t-{i})'])\n",
    "\n",
    "data.drop(cols_to_drop, axis=1, inplace=True)\n",
    "\n",
    "print(data.head())\n",
    "print(data.columns)"
   ]
  },
  {
   "cell_type": "code",
   "execution_count": 14,
   "metadata": {
    "id": "AfPf60oy6Pe4"
   },
   "outputs": [],
   "source": [
    "train = np.array(data[0:len(data)-1])\n",
    "forecast = np.array(data.tail(1))"
   ]
  },
  {
   "cell_type": "code",
   "execution_count": 15,
   "metadata": {
    "id": "WSAafzI37KiT"
   },
   "outputs": [],
   "source": [
    "trainy = train[:,-300:]\n",
    "trainX = train[:,:-300]"
   ]
  },
  {
   "cell_type": "code",
   "execution_count": 16,
   "metadata": {
    "id": "2SrOqVJA7f50"
   },
   "outputs": [],
   "source": [
    "forecasty = forecast[:,-300:]\n",
    "forecastX = forecast[:,:-300]"
   ]
  },
  {
   "cell_type": "code",
   "execution_count": 17,
   "metadata": {
    "colab": {
     "base_uri": "https://localhost:8080/"
    },
    "id": "Qno_k8Nw7saY",
    "outputId": "c4a88db5-d8c6-489f-cdb2-06b24e293cff"
   },
   "outputs": [
    {
     "name": "stdout",
     "output_type": "stream",
     "text": [
      "(1700, 1, 251) (1700, 300) (1, 1, 251)\n"
     ]
    }
   ],
   "source": [
    "trainX = trainX.reshape((trainX.shape[0], 1, trainX.shape[1]))\n",
    "forecastX = forecastX.reshape((forecastX.shape[0], 1, forecastX.shape[1]))\n",
    "print(trainX.shape, trainy.shape, forecastX.shape)"
   ]
  },
  {
   "cell_type": "code",
   "execution_count": 18,
   "metadata": {
    "colab": {
     "base_uri": "https://localhost:8080/"
    },
    "id": "b1Jp2DvNuNFx",
    "outputId": "d0e5b3c4-64f1-438c-eade-8dfeaac8e285"
   },
   "outputs": [
    {
     "name": "stdout",
     "output_type": "stream",
     "text": [
      "Epoch 1/500\n",
      "22/22 [==============================] - 3s 29ms/step - loss: 5199.3735 - val_loss: 2939.3816\n",
      "Epoch 2/500\n",
      "22/22 [==============================] - 0s 5ms/step - loss: 4923.0415 - val_loss: 2787.1741\n",
      "Epoch 3/500\n",
      "22/22 [==============================] - 0s 4ms/step - loss: 4721.7896 - val_loss: 2700.3245\n",
      "Epoch 4/500\n",
      "22/22 [==============================] - 0s 4ms/step - loss: 4600.4136 - val_loss: 2630.5376\n",
      "Epoch 5/500\n",
      "22/22 [==============================] - 0s 5ms/step - loss: 4479.4180 - val_loss: 2567.2222\n",
      "Epoch 6/500\n",
      "22/22 [==============================] - 0s 4ms/step - loss: 4376.1987 - val_loss: 2510.5083\n",
      "Epoch 7/500\n",
      "22/22 [==============================] - 0s 5ms/step - loss: 4277.1304 - val_loss: 2456.3691\n",
      "Epoch 8/500\n",
      "22/22 [==============================] - 0s 5ms/step - loss: 4181.3281 - val_loss: 2404.3291\n",
      "Epoch 9/500\n",
      "22/22 [==============================] - 0s 6ms/step - loss: 4088.1978 - val_loss: 2354.1165\n",
      "Epoch 10/500\n",
      "22/22 [==============================] - 0s 6ms/step - loss: 3997.3889 - val_loss: 2305.5664\n",
      "Epoch 11/500\n",
      "22/22 [==============================] - 0s 6ms/step - loss: 3908.6802 - val_loss: 2258.5667\n",
      "Epoch 12/500\n",
      "22/22 [==============================] - 0s 6ms/step - loss: 3821.9170 - val_loss: 2213.0339\n",
      "Epoch 13/500\n",
      "22/22 [==============================] - 0s 7ms/step - loss: 3736.9871 - val_loss: 2168.9050\n",
      "Epoch 14/500\n",
      "22/22 [==============================] - 0s 5ms/step - loss: 3653.8040 - val_loss: 2126.1270\n",
      "Epoch 15/500\n",
      "22/22 [==============================] - 0s 6ms/step - loss: 3572.2974 - val_loss: 2084.6567\n",
      "Epoch 16/500\n",
      "22/22 [==============================] - 0s 6ms/step - loss: 3492.4099 - val_loss: 2044.4561\n",
      "Epoch 17/500\n",
      "22/22 [==============================] - 0s 5ms/step - loss: 3414.0930 - val_loss: 2005.4919\n",
      "Epoch 18/500\n",
      "22/22 [==============================] - 0s 5ms/step - loss: 3337.3037 - val_loss: 1967.7346\n",
      "Epoch 19/500\n",
      "22/22 [==============================] - 0s 5ms/step - loss: 3262.0051 - val_loss: 1931.1559\n",
      "Epoch 20/500\n",
      "22/22 [==============================] - 0s 6ms/step - loss: 3188.1636 - val_loss: 1895.7303\n",
      "Epoch 21/500\n",
      "22/22 [==============================] - 0s 6ms/step - loss: 3115.7471 - val_loss: 1861.4346\n",
      "Epoch 22/500\n",
      "22/22 [==============================] - 0s 6ms/step - loss: 3044.7285 - val_loss: 1828.2456\n",
      "Epoch 23/500\n",
      "22/22 [==============================] - 0s 5ms/step - loss: 2975.0801 - val_loss: 1796.1432\n",
      "Epoch 24/500\n",
      "22/22 [==============================] - 0s 6ms/step - loss: 2906.7791 - val_loss: 1765.1053\n",
      "Epoch 25/500\n",
      "22/22 [==============================] - 0s 4ms/step - loss: 2839.8003 - val_loss: 1735.1129\n",
      "Epoch 26/500\n",
      "22/22 [==============================] - 0s 5ms/step - loss: 2774.1211 - val_loss: 1706.1465\n",
      "Epoch 27/500\n",
      "22/22 [==============================] - 0s 6ms/step - loss: 2709.7219 - val_loss: 1678.1882\n",
      "Epoch 28/500\n",
      "22/22 [==============================] - 0s 5ms/step - loss: 2646.5806 - val_loss: 1651.2195\n",
      "Epoch 29/500\n",
      "22/22 [==============================] - 0s 5ms/step - loss: 2584.6775 - val_loss: 1625.2231\n",
      "Epoch 30/500\n",
      "22/22 [==============================] - 0s 5ms/step - loss: 2523.9939 - val_loss: 1600.1814\n",
      "Epoch 31/500\n",
      "22/22 [==============================] - 0s 6ms/step - loss: 2464.5107 - val_loss: 1576.0785\n",
      "Epoch 32/500\n",
      "22/22 [==============================] - 0s 6ms/step - loss: 2406.2109 - val_loss: 1552.8971\n",
      "Epoch 33/500\n",
      "22/22 [==============================] - 0s 6ms/step - loss: 2349.0757 - val_loss: 1530.6208\n",
      "Epoch 34/500\n",
      "22/22 [==============================] - 0s 5ms/step - loss: 2293.0881 - val_loss: 1509.2346\n",
      "Epoch 35/500\n",
      "22/22 [==============================] - 0s 5ms/step - loss: 2238.2317 - val_loss: 1488.7219\n",
      "Epoch 36/500\n",
      "22/22 [==============================] - 0s 5ms/step - loss: 2184.4893 - val_loss: 1469.0677\n",
      "Epoch 37/500\n",
      "22/22 [==============================] - 0s 13ms/step - loss: 2131.8445 - val_loss: 1450.2563\n",
      "Epoch 38/500\n",
      "22/22 [==============================] - 0s 4ms/step - loss: 2080.2817 - val_loss: 1432.2729\n",
      "Epoch 39/500\n",
      "22/22 [==============================] - 0s 4ms/step - loss: 2029.7852 - val_loss: 1415.1028\n",
      "Epoch 40/500\n",
      "22/22 [==============================] - 0s 5ms/step - loss: 1980.3398 - val_loss: 1398.7307\n",
      "Epoch 41/500\n",
      "22/22 [==============================] - 0s 5ms/step - loss: 1931.9294 - val_loss: 1383.1423\n",
      "Epoch 42/500\n",
      "22/22 [==============================] - 0s 5ms/step - loss: 1884.5403 - val_loss: 1368.3230\n",
      "Epoch 43/500\n",
      "22/22 [==============================] - 0s 5ms/step - loss: 1838.1569 - val_loss: 1354.2592\n",
      "Epoch 44/500\n",
      "22/22 [==============================] - 0s 5ms/step - loss: 1792.7638 - val_loss: 1340.9357\n",
      "Epoch 45/500\n",
      "22/22 [==============================] - 0s 5ms/step - loss: 1748.3484 - val_loss: 1328.3390\n",
      "Epoch 46/500\n",
      "22/22 [==============================] - 0s 5ms/step - loss: 1704.8945 - val_loss: 1316.4551\n",
      "Epoch 47/500\n",
      "22/22 [==============================] - 0s 5ms/step - loss: 1662.3888 - val_loss: 1305.2705\n",
      "Epoch 48/500\n",
      "22/22 [==============================] - 0s 5ms/step - loss: 1620.8180 - val_loss: 1294.7711\n",
      "Epoch 49/500\n",
      "22/22 [==============================] - 0s 5ms/step - loss: 1580.1671 - val_loss: 1284.9435\n",
      "Epoch 50/500\n",
      "22/22 [==============================] - 0s 5ms/step - loss: 1540.4231 - val_loss: 1275.7745\n",
      "Epoch 51/500\n",
      "22/22 [==============================] - 0s 5ms/step - loss: 1501.5725 - val_loss: 1267.2504\n",
      "Epoch 52/500\n",
      "22/22 [==============================] - 0s 5ms/step - loss: 1463.6016 - val_loss: 1259.3580\n",
      "Epoch 53/500\n",
      "22/22 [==============================] - 0s 5ms/step - loss: 1426.4974 - val_loss: 1252.0842\n",
      "Epoch 54/500\n",
      "22/22 [==============================] - 0s 5ms/step - loss: 1390.2465 - val_loss: 1245.4160\n",
      "Epoch 55/500\n",
      "22/22 [==============================] - 0s 5ms/step - loss: 1354.8357 - val_loss: 1239.3405\n",
      "Epoch 56/500\n",
      "22/22 [==============================] - 0s 6ms/step - loss: 1320.2528 - val_loss: 1233.8445\n",
      "Epoch 57/500\n",
      "22/22 [==============================] - 0s 7ms/step - loss: 1286.4843 - val_loss: 1228.9154\n",
      "Epoch 58/500\n",
      "22/22 [==============================] - 0s 5ms/step - loss: 1253.5178 - val_loss: 1224.5408\n",
      "Epoch 59/500\n",
      "22/22 [==============================] - 0s 5ms/step - loss: 1221.3406 - val_loss: 1220.7078\n",
      "Epoch 60/500\n",
      "22/22 [==============================] - 0s 5ms/step - loss: 1189.9401 - val_loss: 1217.4038\n",
      "Epoch 61/500\n",
      "22/22 [==============================] - 0s 5ms/step - loss: 1159.3042 - val_loss: 1214.6162\n",
      "Epoch 62/500\n",
      "22/22 [==============================] - 0s 4ms/step - loss: 1129.4205 - val_loss: 1212.3331\n",
      "Epoch 63/500\n",
      "22/22 [==============================] - 0s 5ms/step - loss: 1100.2770 - val_loss: 1210.5419\n",
      "Epoch 64/500\n",
      "22/22 [==============================] - 0s 5ms/step - loss: 1071.8612 - val_loss: 1209.2308\n",
      "Epoch 65/500\n",
      "22/22 [==============================] - 0s 5ms/step - loss: 1044.1614 - val_loss: 1208.3871\n",
      "Epoch 66/500\n",
      "22/22 [==============================] - 0s 5ms/step - loss: 1017.1653 - val_loss: 1207.9990\n",
      "Epoch 67/500\n",
      "22/22 [==============================] - 0s 5ms/step - loss: 990.8616 - val_loss: 1208.0548\n",
      "Epoch 68/500\n",
      "22/22 [==============================] - 0s 5ms/step - loss: 965.2384 - val_loss: 1208.5422\n",
      "Epoch 69/500\n",
      "22/22 [==============================] - 0s 5ms/step - loss: 940.2838 - val_loss: 1209.4498\n",
      "Epoch 70/500\n",
      "22/22 [==============================] - 0s 5ms/step - loss: 915.9863 - val_loss: 1210.7657\n",
      "Epoch 71/500\n",
      "22/22 [==============================] - 0s 5ms/step - loss: 892.3347 - val_loss: 1212.4783\n",
      "Epoch 72/500\n",
      "22/22 [==============================] - 0s 9ms/step - loss: 869.3176 - val_loss: 1214.5758\n",
      "Epoch 73/500\n",
      "22/22 [==============================] - 0s 4ms/step - loss: 846.9235 - val_loss: 1217.0471\n",
      "Epoch 74/500\n",
      "22/22 [==============================] - 0s 5ms/step - loss: 825.1414 - val_loss: 1219.8807\n",
      "Epoch 75/500\n",
      "22/22 [==============================] - 0s 5ms/step - loss: 803.9601 - val_loss: 1223.0651\n",
      "Epoch 76/500\n",
      "22/22 [==============================] - 0s 5ms/step - loss: 783.3687 - val_loss: 1226.5894\n",
      "Epoch 77/500\n",
      "22/22 [==============================] - 0s 5ms/step - loss: 763.3561 - val_loss: 1230.4421\n",
      "Epoch 78/500\n",
      "22/22 [==============================] - 0s 5ms/step - loss: 743.9110 - val_loss: 1234.6122\n",
      "Epoch 79/500\n",
      "22/22 [==============================] - 0s 6ms/step - loss: 725.0236 - val_loss: 1239.0890\n",
      "Epoch 80/500\n",
      "22/22 [==============================] - 0s 6ms/step - loss: 706.6823 - val_loss: 1243.8613\n",
      "Epoch 81/500\n",
      "22/22 [==============================] - 0s 7ms/step - loss: 688.8770 - val_loss: 1248.9186\n",
      "Epoch 82/500\n",
      "22/22 [==============================] - 0s 8ms/step - loss: 671.5969 - val_loss: 1254.2499\n",
      "Epoch 83/500\n",
      "22/22 [==============================] - 0s 8ms/step - loss: 654.8319 - val_loss: 1259.8447\n",
      "Epoch 84/500\n",
      "22/22 [==============================] - 0s 8ms/step - loss: 638.5714 - val_loss: 1265.6926\n",
      "Epoch 85/500\n",
      "22/22 [==============================] - 0s 8ms/step - loss: 622.8049 - val_loss: 1271.7831\n",
      "Epoch 86/500\n",
      "22/22 [==============================] - 0s 9ms/step - loss: 607.5226 - val_loss: 1278.1060\n",
      "Epoch 87/500\n",
      "22/22 [==============================] - 0s 9ms/step - loss: 592.7142 - val_loss: 1284.6504\n",
      "Epoch 88/500\n",
      "22/22 [==============================] - 0s 8ms/step - loss: 578.3698 - val_loss: 1291.4070\n",
      "Epoch 89/500\n",
      "22/22 [==============================] - 0s 7ms/step - loss: 564.4792 - val_loss: 1298.3655\n",
      "Epoch 90/500\n",
      "22/22 [==============================] - 0s 5ms/step - loss: 551.0329 - val_loss: 1305.5156\n",
      "Epoch 91/500\n",
      "22/22 [==============================] - 0s 5ms/step - loss: 538.0209 - val_loss: 1312.8478\n",
      "Epoch 92/500\n",
      "22/22 [==============================] - 0s 5ms/step - loss: 525.4339 - val_loss: 1320.3523\n",
      "Epoch 93/500\n",
      "22/22 [==============================] - 0s 6ms/step - loss: 513.2618 - val_loss: 1328.0199\n",
      "Epoch 94/500\n",
      "22/22 [==============================] - 0s 5ms/step - loss: 501.4954 - val_loss: 1335.8408\n",
      "Epoch 95/500\n",
      "22/22 [==============================] - 0s 5ms/step - loss: 490.1255 - val_loss: 1343.8052\n",
      "Epoch 96/500\n",
      "22/22 [==============================] - 0s 5ms/step - loss: 479.1424 - val_loss: 1351.9039\n",
      "Epoch 97/500\n",
      "22/22 [==============================] - 0s 5ms/step - loss: 468.5373 - val_loss: 1360.1288\n",
      "Epoch 98/500\n",
      "22/22 [==============================] - 0s 6ms/step - loss: 458.3008 - val_loss: 1368.4698\n",
      "Epoch 99/500\n",
      "22/22 [==============================] - 0s 15ms/step - loss: 448.4241 - val_loss: 1376.9183\n",
      "Epoch 100/500\n",
      "22/22 [==============================] - 0s 8ms/step - loss: 438.8982 - val_loss: 1385.4656\n",
      "Epoch 101/500\n",
      "22/22 [==============================] - 0s 8ms/step - loss: 429.7144 - val_loss: 1394.1028\n",
      "Epoch 102/500\n",
      "22/22 [==============================] - 0s 11ms/step - loss: 420.8637 - val_loss: 1402.8220\n",
      "Epoch 103/500\n",
      "22/22 [==============================] - 0s 8ms/step - loss: 412.3378 - val_loss: 1411.6144\n",
      "Epoch 104/500\n",
      "22/22 [==============================] - 0s 8ms/step - loss: 404.1281 - val_loss: 1420.4716\n",
      "Epoch 105/500\n",
      "22/22 [==============================] - 0s 8ms/step - loss: 396.2263 - val_loss: 1429.3854\n",
      "Epoch 106/500\n",
      "22/22 [==============================] - 0s 8ms/step - loss: 388.6239 - val_loss: 1438.3488\n",
      "Epoch 107/500\n",
      "22/22 [==============================] - 0s 8ms/step - loss: 381.3129 - val_loss: 1447.3530\n",
      "Epoch 108/500\n",
      "22/22 [==============================] - 0s 8ms/step - loss: 374.2852 - val_loss: 1456.3911\n",
      "Epoch 109/500\n",
      "22/22 [==============================] - 0s 7ms/step - loss: 367.5328 - val_loss: 1465.4547\n",
      "Epoch 110/500\n",
      "22/22 [==============================] - 0s 6ms/step - loss: 361.0479 - val_loss: 1474.5376\n",
      "Epoch 111/500\n",
      "22/22 [==============================] - 0s 6ms/step - loss: 354.8226 - val_loss: 1483.6313\n",
      "Epoch 112/500\n",
      "22/22 [==============================] - 0s 6ms/step - loss: 348.8495 - val_loss: 1492.7294\n",
      "Epoch 113/500\n",
      "22/22 [==============================] - 0s 5ms/step - loss: 343.1209 - val_loss: 1501.8253\n",
      "Epoch 114/500\n",
      "22/22 [==============================] - 0s 5ms/step - loss: 337.6296 - val_loss: 1510.9120\n",
      "Epoch 115/500\n",
      "22/22 [==============================] - 0s 5ms/step - loss: 332.3683 - val_loss: 1519.9830\n",
      "Epoch 116/500\n",
      "22/22 [==============================] - 0s 5ms/step - loss: 327.3296 - val_loss: 1529.0321\n",
      "Epoch 117/500\n",
      "22/22 [==============================] - 0s 5ms/step - loss: 322.5067 - val_loss: 1538.0525\n",
      "Epoch 118/500\n",
      "22/22 [==============================] - 0s 5ms/step - loss: 317.8927 - val_loss: 1547.0389\n",
      "Epoch 119/500\n",
      "22/22 [==============================] - 0s 5ms/step - loss: 313.4806 - val_loss: 1555.9855\n",
      "Epoch 120/500\n",
      "22/22 [==============================] - 0s 5ms/step - loss: 309.2640 - val_loss: 1564.8860\n",
      "Epoch 121/500\n",
      "22/22 [==============================] - 0s 5ms/step - loss: 305.2361 - val_loss: 1573.7350\n",
      "Epoch 122/500\n",
      "22/22 [==============================] - 0s 5ms/step - loss: 301.3907 - val_loss: 1582.5272\n",
      "Epoch 123/500\n",
      "22/22 [==============================] - 0s 5ms/step - loss: 297.7214 - val_loss: 1591.2583\n",
      "Epoch 124/500\n",
      "22/22 [==============================] - 0s 5ms/step - loss: 294.2220 - val_loss: 1599.9219\n",
      "Epoch 125/500\n",
      "22/22 [==============================] - 0s 5ms/step - loss: 290.8865 - val_loss: 1608.5145\n",
      "Epoch 126/500\n",
      "22/22 [==============================] - 0s 5ms/step - loss: 287.7090 - val_loss: 1617.0305\n",
      "Epoch 127/500\n",
      "22/22 [==============================] - 0s 6ms/step - loss: 284.6838 - val_loss: 1625.4656\n",
      "Epoch 128/500\n",
      "22/22 [==============================] - 0s 13ms/step - loss: 281.8051 - val_loss: 1633.8168\n",
      "Epoch 129/500\n",
      "22/22 [==============================] - 0s 6ms/step - loss: 279.0675 - val_loss: 1642.0796\n",
      "Epoch 130/500\n",
      "22/22 [==============================] - 0s 8ms/step - loss: 276.4654 - val_loss: 1650.2485\n",
      "Epoch 131/500\n",
      "22/22 [==============================] - 0s 7ms/step - loss: 273.9939 - val_loss: 1658.3220\n",
      "Epoch 132/500\n",
      "22/22 [==============================] - 0s 8ms/step - loss: 271.6475 - val_loss: 1666.2958\n",
      "Epoch 133/500\n",
      "22/22 [==============================] - 0s 8ms/step - loss: 269.4213 - val_loss: 1674.1664\n",
      "Epoch 134/500\n",
      "22/22 [==============================] - 0s 8ms/step - loss: 267.3105 - val_loss: 1681.9316\n",
      "Epoch 135/500\n",
      "22/22 [==============================] - 0s 8ms/step - loss: 265.3102 - val_loss: 1689.5869\n",
      "Epoch 136/500\n",
      "22/22 [==============================] - 0s 6ms/step - loss: 263.4160 - val_loss: 1697.1316\n",
      "Epoch 137/500\n",
      "22/22 [==============================] - 0s 6ms/step - loss: 261.6233 - val_loss: 1704.5614\n",
      "Epoch 138/500\n",
      "22/22 [==============================] - 0s 5ms/step - loss: 259.9276 - val_loss: 1711.8750\n",
      "Epoch 139/500\n",
      "22/22 [==============================] - 0s 7ms/step - loss: 258.3248 - val_loss: 1719.0698\n",
      "Epoch 140/500\n",
      "22/22 [==============================] - 0s 6ms/step - loss: 256.8109 - val_loss: 1726.1449\n",
      "Epoch 141/500\n",
      "22/22 [==============================] - 0s 6ms/step - loss: 255.3818 - val_loss: 1733.0963\n",
      "Epoch 142/500\n",
      "22/22 [==============================] - 0s 6ms/step - loss: 254.0336 - val_loss: 1739.9247\n",
      "Epoch 143/500\n",
      "22/22 [==============================] - 0s 5ms/step - loss: 252.7625 - val_loss: 1746.6271\n",
      "Epoch 144/500\n",
      "22/22 [==============================] - 0s 6ms/step - loss: 251.5650 - val_loss: 1753.2028\n",
      "Epoch 145/500\n",
      "22/22 [==============================] - 0s 6ms/step - loss: 250.4377 - val_loss: 1759.6515\n",
      "Epoch 146/500\n",
      "22/22 [==============================] - 0s 8ms/step - loss: 249.3770 - val_loss: 1765.9712\n",
      "Epoch 147/500\n",
      "22/22 [==============================] - 0s 8ms/step - loss: 248.3796 - val_loss: 1772.1624\n",
      "Epoch 148/500\n",
      "22/22 [==============================] - 0s 6ms/step - loss: 247.4427 - val_loss: 1778.2234\n",
      "Epoch 149/500\n",
      "22/22 [==============================] - 0s 7ms/step - loss: 246.5630 - val_loss: 1784.1555\n",
      "Epoch 150/500\n",
      "22/22 [==============================] - 0s 7ms/step - loss: 245.7376 - val_loss: 1789.9579\n",
      "Epoch 151/500\n",
      "22/22 [==============================] - 0s 6ms/step - loss: 244.9637 - val_loss: 1795.2489\n",
      "Epoch 152/500\n",
      "22/22 [==============================] - 0s 5ms/step - loss: 244.2387 - val_loss: 1801.1378\n",
      "Epoch 153/500\n",
      "22/22 [==============================] - 0s 6ms/step - loss: 243.5599 - val_loss: 1806.5425\n",
      "Epoch 154/500\n",
      "22/22 [==============================] - 0s 11ms/step - loss: 242.9249 - val_loss: 1811.8162\n",
      "Epoch 155/500\n",
      "22/22 [==============================] - 0s 6ms/step - loss: 242.3312 - val_loss: 1816.9600\n",
      "Epoch 156/500\n",
      "22/22 [==============================] - 0s 7ms/step - loss: 241.7766 - val_loss: 1821.9742\n",
      "Epoch 157/500\n",
      "22/22 [==============================] - 0s 9ms/step - loss: 241.2589 - val_loss: 1826.8590\n",
      "Epoch 158/500\n",
      "22/22 [==============================] - 0s 7ms/step - loss: 240.7760 - val_loss: 1831.6166\n",
      "Epoch 159/500\n",
      "22/22 [==============================] - 0s 7ms/step - loss: 240.3259 - val_loss: 1836.2463\n",
      "Epoch 160/500\n",
      "22/22 [==============================] - 0s 8ms/step - loss: 239.9066 - val_loss: 1840.7496\n",
      "Epoch 161/500\n",
      "22/22 [==============================] - 0s 7ms/step - loss: 239.5164 - val_loss: 1845.1293\n",
      "Epoch 162/500\n",
      "22/22 [==============================] - 0s 6ms/step - loss: 239.1535 - val_loss: 1849.3838\n",
      "Epoch 163/500\n",
      "22/22 [==============================] - 0s 6ms/step - loss: 238.8163 - val_loss: 1853.5166\n",
      "Epoch 164/500\n",
      "22/22 [==============================] - 0s 6ms/step - loss: 238.5033 - val_loss: 1857.5262\n",
      "Epoch 165/500\n",
      "22/22 [==============================] - 0s 6ms/step - loss: 238.2127 - val_loss: 1861.4191\n",
      "Epoch 166/500\n",
      "22/22 [==============================] - 0s 6ms/step - loss: 237.9434 - val_loss: 1865.1926\n",
      "Epoch 167/500\n",
      "22/22 [==============================] - 0s 6ms/step - loss: 237.6938 - val_loss: 1868.8499\n",
      "Epoch 168/500\n",
      "22/22 [==============================] - 0s 7ms/step - loss: 237.4630 - val_loss: 1872.3917\n",
      "Epoch 169/500\n",
      "22/22 [==============================] - 0s 8ms/step - loss: 237.2492 - val_loss: 1875.8219\n",
      "Epoch 170/500\n",
      "22/22 [==============================] - 0s 8ms/step - loss: 237.0519 - val_loss: 1879.1410\n",
      "Epoch 171/500\n",
      "22/22 [==============================] - 0s 7ms/step - loss: 236.8696 - val_loss: 1882.3500\n",
      "Epoch 172/500\n",
      "22/22 [==============================] - 0s 7ms/step - loss: 236.7013 - val_loss: 1885.4535\n",
      "Epoch 173/500\n",
      "22/22 [==============================] - 0s 7ms/step - loss: 236.5462 - val_loss: 1888.4509\n",
      "Epoch 174/500\n",
      "22/22 [==============================] - 0s 8ms/step - loss: 236.4033 - val_loss: 1891.3448\n",
      "Epoch 175/500\n",
      "22/22 [==============================] - 0s 8ms/step - loss: 236.2719 - val_loss: 1894.1389\n",
      "Epoch 176/500\n",
      "22/22 [==============================] - 0s 7ms/step - loss: 236.1508 - val_loss: 1896.8339\n",
      "Epoch 177/500\n",
      "22/22 [==============================] - 0s 8ms/step - loss: 236.0398 - val_loss: 1899.4321\n",
      "Epoch 178/500\n",
      "22/22 [==============================] - 0s 17ms/step - loss: 235.9377 - val_loss: 1901.9368\n",
      "Epoch 179/500\n",
      "22/22 [==============================] - 0s 9ms/step - loss: 235.8440 - val_loss: 1904.3477\n",
      "Epoch 180/500\n",
      "22/22 [==============================] - 0s 8ms/step - loss: 235.7582 - val_loss: 1906.6683\n",
      "Epoch 181/500\n",
      "22/22 [==============================] - 0s 8ms/step - loss: 235.6796 - val_loss: 1908.9016\n",
      "Epoch 182/500\n",
      "22/22 [==============================] - 0s 8ms/step - loss: 235.6077 - val_loss: 1911.0494\n",
      "Epoch 183/500\n",
      "22/22 [==============================] - 0s 8ms/step - loss: 235.5419 - val_loss: 1913.1138\n",
      "Epoch 184/500\n",
      "22/22 [==============================] - 0s 8ms/step - loss: 235.4818 - val_loss: 1915.0974\n",
      "Epoch 185/500\n",
      "22/22 [==============================] - 0s 8ms/step - loss: 235.4270 - val_loss: 1917.0017\n",
      "Epoch 186/500\n",
      "22/22 [==============================] - 0s 9ms/step - loss: 235.3771 - val_loss: 1918.8291\n",
      "Epoch 187/500\n",
      "22/22 [==============================] - 0s 8ms/step - loss: 235.3315 - val_loss: 1920.5825\n",
      "Epoch 188/500\n",
      "22/22 [==============================] - 0s 8ms/step - loss: 235.2901 - val_loss: 1922.2628\n",
      "Epoch 189/500\n",
      "22/22 [==============================] - 0s 8ms/step - loss: 235.2524 - val_loss: 1923.8733\n",
      "Epoch 190/500\n",
      "22/22 [==============================] - 0s 8ms/step - loss: 235.2182 - val_loss: 1925.4150\n",
      "Epoch 191/500\n",
      "22/22 [==============================] - 0s 7ms/step - loss: 235.1871 - val_loss: 1926.8916\n",
      "Epoch 192/500\n",
      "22/22 [==============================] - 0s 6ms/step - loss: 235.1589 - val_loss: 1928.3052\n",
      "Epoch 193/500\n",
      "22/22 [==============================] - 0s 6ms/step - loss: 235.1334 - val_loss: 1929.6545\n",
      "Epoch 194/500\n",
      "22/22 [==============================] - 0s 5ms/step - loss: 235.1103 - val_loss: 1930.9452\n",
      "Epoch 195/500\n",
      "22/22 [==============================] - 0s 6ms/step - loss: 235.0895 - val_loss: 1932.1791\n",
      "Epoch 196/500\n",
      "22/22 [==============================] - 0s 6ms/step - loss: 235.0707 - val_loss: 1933.3569\n",
      "Epoch 197/500\n",
      "22/22 [==============================] - 0s 6ms/step - loss: 235.0537 - val_loss: 1934.4803\n",
      "Epoch 198/500\n",
      "22/22 [==============================] - 0s 6ms/step - loss: 235.0384 - val_loss: 1935.5522\n",
      "Epoch 199/500\n",
      "22/22 [==============================] - 0s 7ms/step - loss: 235.0247 - val_loss: 1936.5735\n",
      "Epoch 200/500\n",
      "22/22 [==============================] - 0s 7ms/step - loss: 235.0124 - val_loss: 1937.5483\n",
      "Epoch 201/500\n",
      "22/22 [==============================] - 0s 7ms/step - loss: 235.0014 - val_loss: 1938.4757\n",
      "Epoch 202/500\n",
      "22/22 [==============================] - 0s 8ms/step - loss: 234.9915 - val_loss: 1939.3597\n",
      "Epoch 203/500\n",
      "22/22 [==============================] - 0s 13ms/step - loss: 234.9827 - val_loss: 1940.1998\n",
      "Epoch 204/500\n",
      "22/22 [==============================] - 0s 11ms/step - loss: 234.9748 - val_loss: 1940.9985\n",
      "Epoch 205/500\n",
      "22/22 [==============================] - 0s 8ms/step - loss: 234.9678 - val_loss: 1941.7583\n",
      "Epoch 206/500\n",
      "22/22 [==============================] - 0s 8ms/step - loss: 234.9617 - val_loss: 1942.4800\n",
      "Epoch 207/500\n",
      "22/22 [==============================] - 0s 7ms/step - loss: 234.9562 - val_loss: 1943.1656\n",
      "Epoch 208/500\n",
      "22/22 [==============================] - 0s 7ms/step - loss: 234.9513 - val_loss: 1943.8164\n",
      "Epoch 209/500\n",
      "22/22 [==============================] - 0s 6ms/step - loss: 234.9470 - val_loss: 1944.4336\n",
      "Epoch 210/500\n",
      "22/22 [==============================] - 0s 6ms/step - loss: 234.9433 - val_loss: 1945.0189\n",
      "Epoch 211/500\n",
      "22/22 [==============================] - 0s 6ms/step - loss: 234.9401 - val_loss: 1945.5737\n",
      "Epoch 212/500\n",
      "22/22 [==============================] - 0s 6ms/step - loss: 234.9373 - val_loss: 1946.0989\n",
      "Epoch 213/500\n",
      "22/22 [==============================] - 0s 6ms/step - loss: 234.9349 - val_loss: 1946.5956\n",
      "Epoch 214/500\n",
      "22/22 [==============================] - 0s 6ms/step - loss: 234.9328 - val_loss: 1947.0669\n",
      "Epoch 215/500\n",
      "22/22 [==============================] - 0s 5ms/step - loss: 234.9311 - val_loss: 1947.5132\n",
      "Epoch 216/500\n",
      "22/22 [==============================] - 0s 5ms/step - loss: 234.9296 - val_loss: 1947.9342\n",
      "Epoch 217/500\n",
      "22/22 [==============================] - 0s 5ms/step - loss: 234.9284 - val_loss: 1948.3324\n",
      "Epoch 218/500\n",
      "22/22 [==============================] - 0s 5ms/step - loss: 234.9275 - val_loss: 1948.7086\n",
      "Epoch 219/500\n",
      "22/22 [==============================] - 0s 5ms/step - loss: 234.9267 - val_loss: 1949.0640\n",
      "Epoch 220/500\n",
      "22/22 [==============================] - 0s 5ms/step - loss: 234.9261 - val_loss: 1949.3994\n",
      "Epoch 221/500\n",
      "22/22 [==============================] - 0s 5ms/step - loss: 234.9257 - val_loss: 1949.7148\n",
      "Epoch 222/500\n",
      "22/22 [==============================] - 0s 5ms/step - loss: 234.9254 - val_loss: 1950.0125\n",
      "Epoch 223/500\n",
      "22/22 [==============================] - 0s 7ms/step - loss: 234.9253 - val_loss: 1950.2933\n",
      "Epoch 224/500\n",
      "22/22 [==============================] - 0s 6ms/step - loss: 234.9253 - val_loss: 1950.5582\n",
      "Epoch 225/500\n",
      "22/22 [==============================] - 0s 6ms/step - loss: 234.9254 - val_loss: 1950.8074\n",
      "Epoch 226/500\n",
      "22/22 [==============================] - 0s 5ms/step - loss: 234.9256 - val_loss: 1951.0408\n",
      "Epoch 227/500\n",
      "22/22 [==============================] - 0s 5ms/step - loss: 234.9259 - val_loss: 1951.2614\n",
      "Epoch 228/500\n",
      "22/22 [==============================] - 0s 5ms/step - loss: 234.9263 - val_loss: 1951.4688\n",
      "Epoch 229/500\n",
      "22/22 [==============================] - 0s 12ms/step - loss: 234.9268 - val_loss: 1951.6643\n",
      "Epoch 230/500\n",
      "22/22 [==============================] - 0s 7ms/step - loss: 234.9273 - val_loss: 1951.8470\n",
      "Epoch 231/500\n",
      "22/22 [==============================] - 0s 7ms/step - loss: 234.9279 - val_loss: 1952.0188\n",
      "Epoch 232/500\n",
      "22/22 [==============================] - 0s 7ms/step - loss: 234.9285 - val_loss: 1952.1803\n",
      "Epoch 233/500\n",
      "22/22 [==============================] - 0s 7ms/step - loss: 234.9291 - val_loss: 1952.3313\n",
      "Epoch 234/500\n",
      "22/22 [==============================] - 0s 7ms/step - loss: 234.9298 - val_loss: 1952.4728\n",
      "Epoch 235/500\n",
      "22/22 [==============================] - 0s 8ms/step - loss: 234.9306 - val_loss: 1952.6058\n",
      "Epoch 236/500\n",
      "22/22 [==============================] - 0s 9ms/step - loss: 234.9313 - val_loss: 1952.7294\n",
      "Epoch 237/500\n",
      "22/22 [==============================] - 0s 8ms/step - loss: 234.9321 - val_loss: 1952.8459\n",
      "Epoch 238/500\n",
      "22/22 [==============================] - 0s 7ms/step - loss: 234.9329 - val_loss: 1952.9553\n",
      "Epoch 239/500\n",
      "22/22 [==============================] - 0s 6ms/step - loss: 234.9338 - val_loss: 1953.0559\n",
      "Epoch 240/500\n",
      "22/22 [==============================] - 0s 7ms/step - loss: 234.9346 - val_loss: 1953.1522\n",
      "Epoch 241/500\n",
      "22/22 [==============================] - 0s 7ms/step - loss: 234.9355 - val_loss: 1953.2401\n",
      "Epoch 242/500\n",
      "22/22 [==============================] - 0s 6ms/step - loss: 234.9364 - val_loss: 1953.3230\n",
      "Epoch 243/500\n",
      "22/22 [==============================] - 0s 6ms/step - loss: 234.9373 - val_loss: 1953.4005\n",
      "Epoch 244/500\n",
      "22/22 [==============================] - 0s 5ms/step - loss: 234.9382 - val_loss: 1953.4735\n",
      "Epoch 245/500\n",
      "22/22 [==============================] - 0s 5ms/step - loss: 234.9390 - val_loss: 1953.5404\n",
      "Epoch 246/500\n",
      "22/22 [==============================] - 0s 5ms/step - loss: 234.9400 - val_loss: 1953.6033\n",
      "Epoch 247/500\n",
      "22/22 [==============================] - 0s 5ms/step - loss: 234.9410 - val_loss: 1953.6614\n",
      "Epoch 248/500\n",
      "22/22 [==============================] - 0s 5ms/step - loss: 234.9419 - val_loss: 1953.7166\n",
      "Epoch 249/500\n",
      "22/22 [==============================] - 0s 5ms/step - loss: 234.9427 - val_loss: 1953.7677\n",
      "Epoch 250/500\n",
      "22/22 [==============================] - 0s 5ms/step - loss: 234.9437 - val_loss: 1953.8147\n",
      "Epoch 251/500\n",
      "22/22 [==============================] - 0s 5ms/step - loss: 234.9445 - val_loss: 1953.8584\n",
      "Epoch 252/500\n",
      "22/22 [==============================] - 0s 5ms/step - loss: 234.9455 - val_loss: 1953.8983\n",
      "Epoch 253/500\n",
      "22/22 [==============================] - 0s 5ms/step - loss: 234.9465 - val_loss: 1953.9358\n",
      "Epoch 254/500\n",
      "22/22 [==============================] - 0s 6ms/step - loss: 234.9473 - val_loss: 1953.9709\n",
      "Epoch 255/500\n",
      "22/22 [==============================] - 0s 6ms/step - loss: 234.9483 - val_loss: 1954.0040\n",
      "Epoch 256/500\n",
      "22/22 [==============================] - 0s 12ms/step - loss: 234.9491 - val_loss: 1954.0334\n",
      "Epoch 257/500\n",
      "22/22 [==============================] - 0s 7ms/step - loss: 234.9500 - val_loss: 1954.0614\n",
      "Epoch 258/500\n",
      "22/22 [==============================] - 0s 6ms/step - loss: 234.9509 - val_loss: 1954.0872\n",
      "Epoch 259/500\n",
      "22/22 [==============================] - 0s 6ms/step - loss: 234.9518 - val_loss: 1954.1104\n",
      "Epoch 260/500\n",
      "22/22 [==============================] - 0s 6ms/step - loss: 234.9528 - val_loss: 1954.1323\n",
      "Epoch 261/500\n",
      "22/22 [==============================] - 0s 5ms/step - loss: 234.9537 - val_loss: 1954.1526\n",
      "Epoch 262/500\n",
      "22/22 [==============================] - 0s 7ms/step - loss: 234.9545 - val_loss: 1954.1715\n",
      "Epoch 263/500\n",
      "22/22 [==============================] - 0s 8ms/step - loss: 234.9554 - val_loss: 1954.1888\n",
      "Epoch 264/500\n",
      "22/22 [==============================] - 0s 6ms/step - loss: 234.9563 - val_loss: 1954.2046\n",
      "Epoch 265/500\n",
      "22/22 [==============================] - 0s 6ms/step - loss: 234.9571 - val_loss: 1954.2185\n",
      "Epoch 266/500\n",
      "22/22 [==============================] - 0s 6ms/step - loss: 234.9579 - val_loss: 1954.2329\n",
      "Epoch 267/500\n",
      "22/22 [==============================] - 0s 6ms/step - loss: 234.9587 - val_loss: 1954.2449\n",
      "Epoch 268/500\n",
      "22/22 [==============================] - 0s 6ms/step - loss: 234.9596 - val_loss: 1954.2555\n",
      "Epoch 269/500\n",
      "22/22 [==============================] - 0s 6ms/step - loss: 234.9603 - val_loss: 1954.2664\n",
      "Epoch 270/500\n",
      "22/22 [==============================] - 0s 6ms/step - loss: 234.9612 - val_loss: 1954.2750\n",
      "Epoch 271/500\n",
      "22/22 [==============================] - 0s 6ms/step - loss: 234.9619 - val_loss: 1954.2831\n",
      "Epoch 272/500\n",
      "22/22 [==============================] - 0s 6ms/step - loss: 234.9628 - val_loss: 1954.2910\n",
      "Epoch 273/500\n",
      "22/22 [==============================] - 0s 5ms/step - loss: 234.9636 - val_loss: 1954.2987\n",
      "Epoch 274/500\n",
      "22/22 [==============================] - 0s 5ms/step - loss: 234.9644 - val_loss: 1954.3048\n",
      "Epoch 275/500\n",
      "22/22 [==============================] - 0s 5ms/step - loss: 234.9651 - val_loss: 1954.3104\n",
      "Epoch 276/500\n",
      "22/22 [==============================] - 0s 8ms/step - loss: 234.9658 - val_loss: 1954.3165\n",
      "Epoch 277/500\n",
      "22/22 [==============================] - 0s 9ms/step - loss: 234.9666 - val_loss: 1954.3201\n",
      "Epoch 278/500\n",
      "22/22 [==============================] - 0s 9ms/step - loss: 234.9674 - val_loss: 1954.3246\n",
      "Epoch 279/500\n",
      "22/22 [==============================] - 0s 14ms/step - loss: 234.9681 - val_loss: 1954.3274\n",
      "Epoch 280/500\n",
      "22/22 [==============================] - 0s 12ms/step - loss: 234.9688 - val_loss: 1954.3314\n",
      "Epoch 281/500\n",
      "22/22 [==============================] - 0s 9ms/step - loss: 234.9695 - val_loss: 1954.3344\n",
      "Epoch 282/500\n",
      "22/22 [==============================] - 0s 8ms/step - loss: 234.9702 - val_loss: 1954.3373\n",
      "Epoch 283/500\n",
      "22/22 [==============================] - 0s 7ms/step - loss: 234.9709 - val_loss: 1954.3397\n",
      "Epoch 284/500\n",
      "22/22 [==============================] - 0s 8ms/step - loss: 234.9715 - val_loss: 1954.3417\n",
      "Epoch 285/500\n",
      "22/22 [==============================] - 0s 7ms/step - loss: 234.9722 - val_loss: 1954.3434\n",
      "Epoch 286/500\n",
      "22/22 [==============================] - 0s 9ms/step - loss: 234.9728 - val_loss: 1954.3452\n",
      "Epoch 287/500\n",
      "22/22 [==============================] - 0s 13ms/step - loss: 234.9734 - val_loss: 1954.3466\n",
      "Epoch 288/500\n",
      "22/22 [==============================] - 0s 12ms/step - loss: 234.9741 - val_loss: 1954.3470\n",
      "Epoch 289/500\n",
      "22/22 [==============================] - 0s 7ms/step - loss: 234.9747 - val_loss: 1954.3474\n",
      "Epoch 290/500\n",
      "22/22 [==============================] - 0s 7ms/step - loss: 234.9754 - val_loss: 1954.3492\n",
      "Epoch 291/500\n",
      "22/22 [==============================] - 0s 7ms/step - loss: 234.9760 - val_loss: 1954.3499\n",
      "Epoch 292/500\n",
      "22/22 [==============================] - 0s 8ms/step - loss: 234.9766 - val_loss: 1954.3499\n",
      "Epoch 293/500\n",
      "22/22 [==============================] - 0s 9ms/step - loss: 234.9772 - val_loss: 1954.3502\n",
      "Epoch 294/500\n",
      "22/22 [==============================] - 0s 7ms/step - loss: 234.9777 - val_loss: 1954.3500\n",
      "Epoch 295/500\n",
      "22/22 [==============================] - 0s 7ms/step - loss: 234.9783 - val_loss: 1954.3503\n",
      "Epoch 296/500\n",
      "22/22 [==============================] - 0s 9ms/step - loss: 234.9790 - val_loss: 1954.3503\n",
      "Epoch 297/500\n",
      "22/22 [==============================] - 0s 8ms/step - loss: 234.9794 - val_loss: 1954.3496\n",
      "Epoch 298/500\n",
      "22/22 [==============================] - 0s 7ms/step - loss: 234.9800 - val_loss: 1954.3492\n",
      "Epoch 299/500\n",
      "22/22 [==============================] - 0s 8ms/step - loss: 234.9804 - val_loss: 1954.3489\n",
      "Epoch 300/500\n",
      "22/22 [==============================] - 0s 6ms/step - loss: 234.9810 - val_loss: 1954.3485\n",
      "Epoch 301/500\n",
      "22/22 [==============================] - 0s 6ms/step - loss: 234.9816 - val_loss: 1954.3485\n",
      "Epoch 302/500\n",
      "22/22 [==============================] - 0s 7ms/step - loss: 234.9821 - val_loss: 1954.3481\n",
      "Epoch 303/500\n",
      "22/22 [==============================] - 0s 6ms/step - loss: 234.9826 - val_loss: 1954.3477\n",
      "Epoch 304/500\n",
      "22/22 [==============================] - 0s 6ms/step - loss: 234.9830 - val_loss: 1954.3459\n",
      "Epoch 305/500\n",
      "22/22 [==============================] - 0s 6ms/step - loss: 234.9836 - val_loss: 1954.3455\n",
      "Epoch 306/500\n",
      "22/22 [==============================] - 0s 6ms/step - loss: 234.9840 - val_loss: 1954.3445\n",
      "Epoch 307/500\n",
      "22/22 [==============================] - 0s 6ms/step - loss: 234.9845 - val_loss: 1954.3434\n",
      "Epoch 308/500\n",
      "22/22 [==============================] - 0s 5ms/step - loss: 234.9850 - val_loss: 1954.3423\n",
      "Epoch 309/500\n",
      "22/22 [==============================] - 0s 5ms/step - loss: 234.9854 - val_loss: 1954.3423\n",
      "Epoch 310/500\n",
      "22/22 [==============================] - 0s 6ms/step - loss: 234.9858 - val_loss: 1954.3412\n",
      "Epoch 311/500\n",
      "22/22 [==============================] - 0s 8ms/step - loss: 234.9863 - val_loss: 1954.3406\n",
      "Epoch 312/500\n",
      "22/22 [==============================] - 0s 6ms/step - loss: 234.9867 - val_loss: 1954.3397\n",
      "Epoch 313/500\n",
      "22/22 [==============================] - 0s 6ms/step - loss: 234.9872 - val_loss: 1954.3391\n",
      "Epoch 314/500\n",
      "22/22 [==============================] - 0s 6ms/step - loss: 234.9876 - val_loss: 1954.3380\n",
      "Epoch 315/500\n",
      "22/22 [==============================] - 0s 5ms/step - loss: 234.9880 - val_loss: 1954.3372\n",
      "Epoch 316/500\n",
      "22/22 [==============================] - 0s 5ms/step - loss: 234.9884 - val_loss: 1954.3364\n",
      "Epoch 317/500\n",
      "22/22 [==============================] - 0s 6ms/step - loss: 234.9888 - val_loss: 1954.3357\n",
      "Epoch 318/500\n",
      "22/22 [==============================] - 0s 5ms/step - loss: 234.9892 - val_loss: 1954.3350\n",
      "Epoch 319/500\n",
      "22/22 [==============================] - 0s 6ms/step - loss: 234.9895 - val_loss: 1954.3336\n",
      "Epoch 320/500\n",
      "22/22 [==============================] - 0s 6ms/step - loss: 234.9898 - val_loss: 1954.3329\n",
      "Epoch 321/500\n",
      "22/22 [==============================] - 0s 6ms/step - loss: 234.9902 - val_loss: 1954.3318\n",
      "Epoch 322/500\n",
      "22/22 [==============================] - 0s 6ms/step - loss: 234.9905 - val_loss: 1954.3309\n",
      "Epoch 323/500\n",
      "22/22 [==============================] - 0s 6ms/step - loss: 234.9910 - val_loss: 1954.3298\n",
      "Epoch 324/500\n",
      "22/22 [==============================] - 0s 6ms/step - loss: 234.9913 - val_loss: 1954.3287\n",
      "Epoch 325/500\n",
      "22/22 [==============================] - 0s 7ms/step - loss: 234.9917 - val_loss: 1954.3278\n",
      "Epoch 326/500\n",
      "22/22 [==============================] - 0s 6ms/step - loss: 234.9920 - val_loss: 1954.3284\n",
      "Epoch 327/500\n",
      "22/22 [==============================] - 0s 6ms/step - loss: 234.9923 - val_loss: 1954.3274\n",
      "Epoch 328/500\n",
      "22/22 [==============================] - 0s 7ms/step - loss: 234.9926 - val_loss: 1954.3260\n",
      "Epoch 329/500\n",
      "22/22 [==============================] - 0s 6ms/step - loss: 234.9929 - val_loss: 1954.3250\n",
      "Epoch 330/500\n",
      "22/22 [==============================] - 0s 5ms/step - loss: 234.9932 - val_loss: 1954.3239\n",
      "Epoch 331/500\n",
      "22/22 [==============================] - 0s 5ms/step - loss: 234.9935 - val_loss: 1954.3228\n",
      "Epoch 332/500\n",
      "22/22 [==============================] - 0s 5ms/step - loss: 234.9939 - val_loss: 1954.3219\n",
      "Epoch 333/500\n",
      "22/22 [==============================] - 0s 5ms/step - loss: 234.9941 - val_loss: 1954.3215\n",
      "Epoch 334/500\n",
      "22/22 [==============================] - 0s 5ms/step - loss: 234.9944 - val_loss: 1954.3208\n",
      "Epoch 335/500\n",
      "22/22 [==============================] - 0s 9ms/step - loss: 234.9947 - val_loss: 1954.3198\n",
      "Epoch 336/500\n",
      "22/22 [==============================] - 0s 13ms/step - loss: 234.9950 - val_loss: 1954.3191\n",
      "Epoch 337/500\n",
      "22/22 [==============================] - 0s 7ms/step - loss: 234.9952 - val_loss: 1954.3184\n",
      "Epoch 338/500\n",
      "22/22 [==============================] - 0s 9ms/step - loss: 234.9955 - val_loss: 1954.3173\n",
      "Epoch 339/500\n",
      "22/22 [==============================] - 0s 7ms/step - loss: 234.9957 - val_loss: 1954.3162\n",
      "Epoch 340/500\n",
      "22/22 [==============================] - 0s 6ms/step - loss: 234.9960 - val_loss: 1954.3151\n",
      "Epoch 341/500\n",
      "22/22 [==============================] - 0s 5ms/step - loss: 234.9962 - val_loss: 1954.3143\n",
      "Epoch 342/500\n",
      "22/22 [==============================] - 0s 6ms/step - loss: 234.9964 - val_loss: 1954.3132\n",
      "Epoch 343/500\n",
      "22/22 [==============================] - 0s 6ms/step - loss: 234.9967 - val_loss: 1954.3125\n",
      "Epoch 344/500\n",
      "22/22 [==============================] - 0s 5ms/step - loss: 234.9970 - val_loss: 1954.3121\n",
      "Epoch 345/500\n",
      "22/22 [==============================] - 0s 5ms/step - loss: 234.9972 - val_loss: 1954.3118\n",
      "Epoch 346/500\n",
      "22/22 [==============================] - 0s 5ms/step - loss: 234.9974 - val_loss: 1954.3112\n",
      "Epoch 347/500\n",
      "22/22 [==============================] - 0s 6ms/step - loss: 234.9977 - val_loss: 1954.3110\n",
      "Epoch 348/500\n",
      "22/22 [==============================] - 0s 6ms/step - loss: 234.9979 - val_loss: 1954.3101\n",
      "Epoch 349/500\n",
      "22/22 [==============================] - 0s 6ms/step - loss: 234.9980 - val_loss: 1954.3092\n",
      "Epoch 350/500\n",
      "22/22 [==============================] - 0s 6ms/step - loss: 234.9982 - val_loss: 1954.3088\n",
      "Epoch 351/500\n",
      "22/22 [==============================] - 0s 6ms/step - loss: 234.9984 - val_loss: 1954.3077\n",
      "Epoch 352/500\n",
      "22/22 [==============================] - 0s 6ms/step - loss: 234.9986 - val_loss: 1954.3063\n",
      "Epoch 353/500\n",
      "22/22 [==============================] - 0s 6ms/step - loss: 234.9988 - val_loss: 1954.3052\n",
      "Epoch 354/500\n",
      "22/22 [==============================] - 0s 6ms/step - loss: 234.9990 - val_loss: 1954.3041\n",
      "Epoch 355/500\n",
      "22/22 [==============================] - 0s 5ms/step - loss: 234.9992 - val_loss: 1954.3033\n",
      "Epoch 356/500\n",
      "22/22 [==============================] - 0s 5ms/step - loss: 234.9994 - val_loss: 1954.3019\n",
      "Epoch 357/500\n",
      "22/22 [==============================] - 0s 5ms/step - loss: 234.9996 - val_loss: 1954.3015\n",
      "Epoch 358/500\n",
      "22/22 [==============================] - 0s 5ms/step - loss: 234.9997 - val_loss: 1954.3004\n",
      "Epoch 359/500\n",
      "22/22 [==============================] - 0s 10ms/step - loss: 234.9998 - val_loss: 1954.2991\n",
      "Epoch 360/500\n",
      "22/22 [==============================] - 0s 6ms/step - loss: 235.0000 - val_loss: 1954.2983\n",
      "Epoch 361/500\n",
      "22/22 [==============================] - 0s 6ms/step - loss: 235.0002 - val_loss: 1954.2979\n",
      "Epoch 362/500\n",
      "22/22 [==============================] - 0s 5ms/step - loss: 235.0004 - val_loss: 1954.2976\n",
      "Epoch 363/500\n",
      "22/22 [==============================] - 0s 5ms/step - loss: 235.0006 - val_loss: 1954.2966\n",
      "Epoch 364/500\n",
      "22/22 [==============================] - 0s 5ms/step - loss: 235.0008 - val_loss: 1954.2961\n",
      "Epoch 365/500\n",
      "22/22 [==============================] - 0s 6ms/step - loss: 235.0009 - val_loss: 1954.2950\n",
      "Epoch 366/500\n",
      "22/22 [==============================] - 0s 5ms/step - loss: 235.0011 - val_loss: 1954.2939\n",
      "Epoch 367/500\n",
      "22/22 [==============================] - 0s 5ms/step - loss: 235.0011 - val_loss: 1954.2930\n",
      "Epoch 368/500\n",
      "22/22 [==============================] - 0s 5ms/step - loss: 235.0013 - val_loss: 1954.2922\n",
      "Epoch 369/500\n",
      "22/22 [==============================] - 0s 6ms/step - loss: 235.0014 - val_loss: 1954.2908\n",
      "Epoch 370/500\n",
      "22/22 [==============================] - 0s 6ms/step - loss: 235.0015 - val_loss: 1954.2885\n",
      "Epoch 371/500\n",
      "22/22 [==============================] - 0s 5ms/step - loss: 235.0018 - val_loss: 1954.2882\n",
      "Epoch 372/500\n",
      "22/22 [==============================] - 0s 5ms/step - loss: 235.0019 - val_loss: 1954.2878\n",
      "Epoch 373/500\n",
      "22/22 [==============================] - 0s 5ms/step - loss: 235.0020 - val_loss: 1954.2866\n",
      "Epoch 374/500\n",
      "22/22 [==============================] - 0s 5ms/step - loss: 235.0021 - val_loss: 1954.2845\n",
      "Epoch 375/500\n",
      "22/22 [==============================] - 0s 5ms/step - loss: 235.0023 - val_loss: 1954.2833\n",
      "Epoch 376/500\n",
      "22/22 [==============================] - 0s 5ms/step - loss: 235.0024 - val_loss: 1954.2820\n",
      "Epoch 377/500\n",
      "22/22 [==============================] - 0s 5ms/step - loss: 235.0025 - val_loss: 1954.2805\n",
      "Epoch 378/500\n",
      "22/22 [==============================] - 0s 6ms/step - loss: 235.0026 - val_loss: 1954.2788\n",
      "Epoch 379/500\n",
      "22/22 [==============================] - 0s 5ms/step - loss: 235.0026 - val_loss: 1954.2766\n",
      "Epoch 380/500\n",
      "22/22 [==============================] - 0s 5ms/step - loss: 235.0027 - val_loss: 1954.2737\n",
      "Epoch 381/500\n",
      "22/22 [==============================] - 0s 5ms/step - loss: 235.0029 - val_loss: 1954.2722\n",
      "Epoch 382/500\n",
      "22/22 [==============================] - 0s 13ms/step - loss: 235.0030 - val_loss: 1954.2695\n",
      "Epoch 383/500\n",
      "22/22 [==============================] - 0s 7ms/step - loss: 235.0031 - val_loss: 1954.2664\n",
      "Epoch 384/500\n",
      "22/22 [==============================] - 0s 8ms/step - loss: 235.0032 - val_loss: 1954.2632\n",
      "Epoch 385/500\n",
      "22/22 [==============================] - 0s 9ms/step - loss: 235.0034 - val_loss: 1954.2594\n",
      "Epoch 386/500\n",
      "22/22 [==============================] - 0s 7ms/step - loss: 235.0034 - val_loss: 1954.2540\n",
      "Epoch 387/500\n",
      "22/22 [==============================] - 0s 6ms/step - loss: 235.0035 - val_loss: 1954.2461\n",
      "Epoch 388/500\n",
      "22/22 [==============================] - 0s 6ms/step - loss: 235.0036 - val_loss: 1954.2327\n",
      "Epoch 389/500\n",
      "22/22 [==============================] - 0s 5ms/step - loss: 235.0037 - val_loss: 1954.1996\n",
      "Epoch 390/500\n",
      "22/22 [==============================] - 0s 6ms/step - loss: 234.9864 - val_loss: 1949.7366\n",
      "Epoch 391/500\n",
      "22/22 [==============================] - 0s 5ms/step - loss: 235.1612 - val_loss: 1950.9890\n",
      "Epoch 392/500\n",
      "22/22 [==============================] - 0s 5ms/step - loss: 235.0765 - val_loss: 1951.4351\n",
      "Epoch 393/500\n",
      "22/22 [==============================] - 0s 6ms/step - loss: 235.0564 - val_loss: 1951.7379\n",
      "Epoch 394/500\n",
      "22/22 [==============================] - 0s 7ms/step - loss: 235.0480 - val_loss: 1951.9932\n",
      "Epoch 395/500\n",
      "22/22 [==============================] - 0s 8ms/step - loss: 235.0426 - val_loss: 1952.2163\n",
      "Epoch 396/500\n",
      "22/22 [==============================] - 0s 8ms/step - loss: 235.0387 - val_loss: 1952.4156\n",
      "Epoch 397/500\n",
      "22/22 [==============================] - 0s 6ms/step - loss: 235.0358 - val_loss: 1952.5931\n",
      "Epoch 398/500\n",
      "22/22 [==============================] - 0s 5ms/step - loss: 235.0333 - val_loss: 1952.7537\n",
      "Epoch 399/500\n",
      "22/22 [==============================] - 0s 5ms/step - loss: 235.0312 - val_loss: 1952.8967\n",
      "Epoch 400/500\n",
      "22/22 [==============================] - 0s 8ms/step - loss: 235.0296 - val_loss: 1953.0270\n",
      "Epoch 401/500\n",
      "22/22 [==============================] - 0s 14ms/step - loss: 235.0282 - val_loss: 1953.1450\n",
      "Epoch 402/500\n",
      "22/22 [==============================] - 0s 6ms/step - loss: 235.0269 - val_loss: 1953.2500\n",
      "Epoch 403/500\n",
      "22/22 [==============================] - 0s 7ms/step - loss: 235.0258 - val_loss: 1953.3459\n",
      "Epoch 404/500\n",
      "22/22 [==============================] - 0s 7ms/step - loss: 235.0249 - val_loss: 1953.4342\n",
      "Epoch 405/500\n",
      "22/22 [==============================] - 0s 6ms/step - loss: 235.0241 - val_loss: 1953.5128\n",
      "Epoch 406/500\n",
      "22/22 [==============================] - 0s 5ms/step - loss: 235.0233 - val_loss: 1953.5850\n",
      "Epoch 407/500\n",
      "22/22 [==============================] - 0s 5ms/step - loss: 235.0226 - val_loss: 1953.6490\n",
      "Epoch 408/500\n",
      "22/22 [==============================] - 0s 5ms/step - loss: 235.0221 - val_loss: 1953.7100\n",
      "Epoch 409/500\n",
      "22/22 [==============================] - 0s 5ms/step - loss: 235.0215 - val_loss: 1953.7628\n",
      "Epoch 410/500\n",
      "22/22 [==============================] - 0s 5ms/step - loss: 235.0210 - val_loss: 1953.8118\n",
      "Epoch 411/500\n",
      "22/22 [==============================] - 0s 5ms/step - loss: 235.0206 - val_loss: 1953.8568\n",
      "Epoch 412/500\n",
      "22/22 [==============================] - 0s 5ms/step - loss: 235.0202 - val_loss: 1953.8976\n",
      "Epoch 413/500\n",
      "22/22 [==============================] - 0s 5ms/step - loss: 235.0198 - val_loss: 1953.9342\n",
      "Epoch 414/500\n",
      "22/22 [==============================] - 0s 5ms/step - loss: 235.0194 - val_loss: 1953.9673\n",
      "Epoch 415/500\n",
      "22/22 [==============================] - 0s 5ms/step - loss: 235.0192 - val_loss: 1953.9971\n",
      "Epoch 416/500\n",
      "22/22 [==============================] - 0s 5ms/step - loss: 235.0190 - val_loss: 1954.0250\n",
      "Epoch 417/500\n",
      "22/22 [==============================] - 0s 5ms/step - loss: 235.0188 - val_loss: 1954.0511\n",
      "Epoch 418/500\n",
      "22/22 [==============================] - 0s 5ms/step - loss: 235.0185 - val_loss: 1954.0741\n",
      "Epoch 419/500\n",
      "22/22 [==============================] - 0s 5ms/step - loss: 235.0183 - val_loss: 1954.0948\n",
      "Epoch 420/500\n",
      "22/22 [==============================] - 0s 5ms/step - loss: 235.0180 - val_loss: 1954.1134\n",
      "Epoch 421/500\n",
      "22/22 [==============================] - 0s 5ms/step - loss: 235.0179 - val_loss: 1954.1318\n",
      "Epoch 422/500\n",
      "22/22 [==============================] - 0s 5ms/step - loss: 235.0178 - val_loss: 1954.1471\n",
      "Epoch 423/500\n",
      "22/22 [==============================] - 0s 5ms/step - loss: 235.0175 - val_loss: 1954.1617\n",
      "Epoch 424/500\n",
      "22/22 [==============================] - 0s 11ms/step - loss: 235.0174 - val_loss: 1954.1730\n",
      "Epoch 425/500\n",
      "22/22 [==============================] - 0s 6ms/step - loss: 235.0173 - val_loss: 1954.1842\n",
      "Epoch 426/500\n",
      "22/22 [==============================] - 0s 6ms/step - loss: 235.0172 - val_loss: 1954.1948\n",
      "Epoch 427/500\n",
      "22/22 [==============================] - 0s 5ms/step - loss: 235.0171 - val_loss: 1954.2045\n",
      "Epoch 428/500\n",
      "22/22 [==============================] - 0s 5ms/step - loss: 235.0170 - val_loss: 1954.2126\n",
      "Epoch 429/500\n",
      "22/22 [==============================] - 0s 5ms/step - loss: 235.0169 - val_loss: 1954.2216\n",
      "Epoch 430/500\n",
      "22/22 [==============================] - 0s 6ms/step - loss: 235.0168 - val_loss: 1954.2285\n",
      "Epoch 431/500\n",
      "22/22 [==============================] - 0s 5ms/step - loss: 235.0168 - val_loss: 1954.2341\n",
      "Epoch 432/500\n",
      "22/22 [==============================] - 0s 5ms/step - loss: 235.0168 - val_loss: 1954.2413\n",
      "Epoch 433/500\n",
      "22/22 [==============================] - 0s 4ms/step - loss: 235.0167 - val_loss: 1954.2471\n",
      "Epoch 434/500\n",
      "22/22 [==============================] - 0s 5ms/step - loss: 235.0167 - val_loss: 1954.2524\n",
      "Epoch 435/500\n",
      "22/22 [==============================] - 0s 4ms/step - loss: 235.0166 - val_loss: 1954.2568\n",
      "Epoch 436/500\n",
      "22/22 [==============================] - 0s 5ms/step - loss: 235.0165 - val_loss: 1954.2621\n",
      "Epoch 437/500\n",
      "22/22 [==============================] - 0s 5ms/step - loss: 235.0165 - val_loss: 1954.2671\n",
      "Epoch 438/500\n",
      "22/22 [==============================] - 0s 5ms/step - loss: 235.0164 - val_loss: 1954.2717\n",
      "Epoch 439/500\n",
      "22/22 [==============================] - 0s 5ms/step - loss: 235.0163 - val_loss: 1954.2737\n",
      "Epoch 440/500\n",
      "22/22 [==============================] - 0s 5ms/step - loss: 235.0163 - val_loss: 1954.2762\n",
      "Epoch 441/500\n",
      "22/22 [==============================] - 0s 5ms/step - loss: 235.0163 - val_loss: 1954.2791\n",
      "Epoch 442/500\n",
      "22/22 [==============================] - 0s 4ms/step - loss: 235.0163 - val_loss: 1954.2831\n",
      "Epoch 443/500\n",
      "22/22 [==============================] - 0s 5ms/step - loss: 235.0162 - val_loss: 1954.2845\n",
      "Epoch 444/500\n",
      "22/22 [==============================] - 0s 5ms/step - loss: 235.0162 - val_loss: 1954.2859\n",
      "Epoch 445/500\n",
      "22/22 [==============================] - 0s 5ms/step - loss: 235.0162 - val_loss: 1954.2877\n",
      "Epoch 446/500\n",
      "22/22 [==============================] - 0s 11ms/step - loss: 235.0162 - val_loss: 1954.2892\n",
      "Epoch 447/500\n",
      "22/22 [==============================] - 0s 5ms/step - loss: 235.0162 - val_loss: 1954.2914\n",
      "Epoch 448/500\n",
      "22/22 [==============================] - 0s 5ms/step - loss: 235.0161 - val_loss: 1954.2932\n",
      "Epoch 449/500\n",
      "22/22 [==============================] - 0s 5ms/step - loss: 235.0160 - val_loss: 1954.2939\n",
      "Epoch 450/500\n",
      "22/22 [==============================] - 0s 5ms/step - loss: 235.0160 - val_loss: 1954.2941\n",
      "Epoch 451/500\n",
      "22/22 [==============================] - 0s 5ms/step - loss: 235.0161 - val_loss: 1954.2950\n",
      "Epoch 452/500\n",
      "22/22 [==============================] - 0s 5ms/step - loss: 235.0161 - val_loss: 1954.2966\n",
      "Epoch 453/500\n",
      "22/22 [==============================] - 0s 6ms/step - loss: 235.0161 - val_loss: 1954.2983\n",
      "Epoch 454/500\n",
      "22/22 [==============================] - 0s 5ms/step - loss: 235.0160 - val_loss: 1954.2991\n",
      "Epoch 455/500\n",
      "22/22 [==============================] - 0s 5ms/step - loss: 235.0160 - val_loss: 1954.3000\n",
      "Epoch 456/500\n",
      "22/22 [==============================] - 0s 5ms/step - loss: 235.0160 - val_loss: 1954.3016\n",
      "Epoch 457/500\n",
      "22/22 [==============================] - 0s 6ms/step - loss: 235.0159 - val_loss: 1954.3024\n",
      "Epoch 458/500\n",
      "22/22 [==============================] - 0s 6ms/step - loss: 235.0160 - val_loss: 1954.3033\n",
      "Epoch 459/500\n",
      "22/22 [==============================] - 0s 6ms/step - loss: 235.0160 - val_loss: 1954.3037\n",
      "Epoch 460/500\n",
      "22/22 [==============================] - 0s 6ms/step - loss: 235.0159 - val_loss: 1954.3041\n",
      "Epoch 461/500\n",
      "22/22 [==============================] - 0s 6ms/step - loss: 235.0160 - val_loss: 1954.3042\n",
      "Epoch 462/500\n",
      "22/22 [==============================] - 0s 6ms/step - loss: 235.0159 - val_loss: 1954.3042\n",
      "Epoch 463/500\n",
      "22/22 [==============================] - 0s 5ms/step - loss: 235.0159 - val_loss: 1954.3046\n",
      "Epoch 464/500\n",
      "22/22 [==============================] - 0s 5ms/step - loss: 235.0159 - val_loss: 1954.3052\n",
      "Epoch 465/500\n",
      "22/22 [==============================] - 0s 5ms/step - loss: 235.0159 - val_loss: 1954.3053\n",
      "Epoch 466/500\n",
      "22/22 [==============================] - 0s 5ms/step - loss: 235.0159 - val_loss: 1954.3053\n",
      "Epoch 467/500\n",
      "22/22 [==============================] - 0s 5ms/step - loss: 235.0159 - val_loss: 1954.3049\n",
      "Epoch 468/500\n",
      "22/22 [==============================] - 0s 10ms/step - loss: 235.0159 - val_loss: 1954.3052\n",
      "Epoch 469/500\n",
      "22/22 [==============================] - 0s 6ms/step - loss: 235.0159 - val_loss: 1954.3053\n",
      "Epoch 470/500\n",
      "22/22 [==============================] - 0s 5ms/step - loss: 235.0159 - val_loss: 1954.3053\n",
      "Epoch 471/500\n",
      "22/22 [==============================] - 0s 5ms/step - loss: 235.0159 - val_loss: 1954.3059\n",
      "Epoch 472/500\n",
      "22/22 [==============================] - 0s 5ms/step - loss: 235.0159 - val_loss: 1954.3059\n",
      "Epoch 473/500\n",
      "22/22 [==============================] - 0s 6ms/step - loss: 235.0159 - val_loss: 1954.3059\n",
      "Epoch 474/500\n",
      "22/22 [==============================] - 0s 5ms/step - loss: 235.0159 - val_loss: 1954.3068\n",
      "Epoch 475/500\n",
      "22/22 [==============================] - 0s 5ms/step - loss: 235.0159 - val_loss: 1954.3070\n",
      "Epoch 476/500\n",
      "22/22 [==============================] - 0s 6ms/step - loss: 235.0158 - val_loss: 1954.3074\n",
      "Epoch 477/500\n",
      "22/22 [==============================] - 0s 5ms/step - loss: 235.0158 - val_loss: 1954.3081\n",
      "Epoch 478/500\n",
      "22/22 [==============================] - 0s 5ms/step - loss: 235.0158 - val_loss: 1954.3085\n",
      "Epoch 479/500\n",
      "22/22 [==============================] - 0s 5ms/step - loss: 235.0158 - val_loss: 1954.3085\n",
      "Epoch 480/500\n",
      "22/22 [==============================] - 0s 5ms/step - loss: 235.0158 - val_loss: 1954.3085\n",
      "Epoch 481/500\n",
      "22/22 [==============================] - 0s 5ms/step - loss: 235.0158 - val_loss: 1954.3085\n",
      "Epoch 482/500\n",
      "22/22 [==============================] - 0s 5ms/step - loss: 235.0158 - val_loss: 1954.3074\n",
      "Epoch 483/500\n",
      "22/22 [==============================] - 0s 5ms/step - loss: 235.0158 - val_loss: 1954.3070\n",
      "Epoch 484/500\n",
      "22/22 [==============================] - 0s 5ms/step - loss: 235.0158 - val_loss: 1954.3066\n",
      "Epoch 485/500\n",
      "22/22 [==============================] - 0s 5ms/step - loss: 235.0158 - val_loss: 1954.3063\n",
      "Epoch 486/500\n",
      "22/22 [==============================] - 0s 5ms/step - loss: 235.0158 - val_loss: 1954.3066\n",
      "Epoch 487/500\n",
      "22/22 [==============================] - 0s 5ms/step - loss: 235.0159 - val_loss: 1954.3074\n",
      "Epoch 488/500\n",
      "22/22 [==============================] - 0s 10ms/step - loss: 235.0159 - val_loss: 1954.3085\n",
      "Epoch 489/500\n",
      "22/22 [==============================] - 0s 6ms/step - loss: 235.0158 - val_loss: 1954.3090\n",
      "Epoch 490/500\n",
      "22/22 [==============================] - 0s 6ms/step - loss: 235.0158 - val_loss: 1954.3090\n",
      "Epoch 491/500\n",
      "22/22 [==============================] - 0s 5ms/step - loss: 235.0158 - val_loss: 1954.3099\n",
      "Epoch 492/500\n",
      "22/22 [==============================] - 0s 6ms/step - loss: 235.0158 - val_loss: 1954.3107\n",
      "Epoch 493/500\n",
      "22/22 [==============================] - 0s 6ms/step - loss: 235.0158 - val_loss: 1954.3110\n",
      "Epoch 494/500\n",
      "22/22 [==============================] - 0s 5ms/step - loss: 235.0158 - val_loss: 1954.3107\n",
      "Epoch 495/500\n",
      "22/22 [==============================] - 0s 5ms/step - loss: 235.0158 - val_loss: 1954.3101\n",
      "Epoch 496/500\n",
      "22/22 [==============================] - 0s 5ms/step - loss: 235.0158 - val_loss: 1954.3092\n",
      "Epoch 497/500\n",
      "22/22 [==============================] - 0s 5ms/step - loss: 235.0158 - val_loss: 1954.3086\n",
      "Epoch 498/500\n",
      "22/22 [==============================] - 0s 5ms/step - loss: 235.0158 - val_loss: 1954.3085\n",
      "Epoch 499/500\n",
      "22/22 [==============================] - 0s 6ms/step - loss: 235.0158 - val_loss: 1954.3081\n",
      "Epoch 500/500\n",
      "22/22 [==============================] - 0s 5ms/step - loss: 235.0158 - val_loss: 1954.3074\n"
     ]
    }
   ],
   "source": [
    "C0 = tf.Variable(88.1552, name=\"C0\", trainable=True, dtype=tf.float32)\n",
    "K0 = tf.Variable(-0.0026, name=\"K0\", trainable=True, dtype=tf.float32)\n",
    "K1 = tf.Variable(-0.0004, name=\"K1\", trainable=True, dtype=tf.float32)\n",
    "a = tf.Variable(0.0000, name=\"a\", trainable=True, dtype=tf.float32)\n",
    "b = tf.Variable(0.0102, name=\"b\", trainable=True, dtype=tf.float32)\n",
    "c = tf.Variable(2.8734, name=\"c\", trainable=True, dtype=tf.float32)\n",
    "\n",
    "splitr = 0.8\n",
    "\n",
    "\n",
    "def loss_fn(y_true, y_pred):\n",
    "    squared_difference = tf.square(y_true[:, 0] - y_pred[:, 0])\n",
    "    #squared_difference2 = tf.square(y_true[:, 2]-y_pred[:, 2])\n",
    "    #squared_difference1 = tf.square(y_true[:, 1]-y_pred[:, 1])\n",
    "    epsilon = 1\n",
    "    squared_difference3 = tf.square(\n",
    "        y_pred[:, 1] - (\n",
    "            y_pred[:, 0] * (\n",
    "                K0 - K1 * (\n",
    "                    9 * a * tf.math.log((y_pred[:, 0] + epsilon) / C0) / (K0 - K1 * c)**2 +\n",
    "                    4 * b * tf.math.log((y_pred[:, 0] + epsilon) / C0) / (K0 - K1 * c) + c\n",
    "                )\n",
    "            )\n",
    "        )\n",
    "    )\n",
    "    return tf.reduce_mean(squared_difference, axis=-1) + 0.2*tf.reduce_mean(squared_difference3, axis=-1)\n",
    "model = Sequential()\n",
    "model.add(LSTM(100, input_shape=(trainX.shape[1], trainX.shape[2])))\n",
    "model.add(Dense(60))\n",
    "model.compile(loss=loss_fn, optimizer='adam')\n",
    "history = model.fit(trainX[:int(splitr*trainX.shape[0])], trainy[:int(splitr*trainX.shape[0])], epochs=500, batch_size=64, validation_data=(trainX[int(splitr*trainX.shape[0]):trainX.shape[0]], trainy[int(splitr*trainX.shape[0]):trainX.shape[0]]), shuffle=False)"
   ]
  },
  {
   "cell_type": "code",
   "execution_count": 19,
   "metadata": {
    "colab": {
     "base_uri": "https://localhost:8080/"
    },
    "id": "yJL101rPyuoT",
    "outputId": "239ff2b1-c186-423a-d316-939dfdd7c793"
   },
   "outputs": [
    {
     "name": "stdout",
     "output_type": "stream",
     "text": [
      "1/1 [==============================] - 0s 420ms/step\n"
     ]
    }
   ],
   "source": [
    "forecast_without_mc = forecastX\n",
    "yhat_without_mc = model.predict(forecast_without_mc) # Step Ahead Prediction\n",
    "forecast_without_mc = forecast_without_mc.reshape((forecast_without_mc.shape[0], forecast_without_mc.shape[2])) # Historical Input"
   ]
  },
  {
   "cell_type": "code",
   "execution_count": 20,
   "metadata": {
    "colab": {
     "base_uri": "https://localhost:8080/"
    },
    "id": "g9dQELcJ8wbp",
    "outputId": "4dc7671b-b1a8-48d5-8744-a86f98446109"
   },
   "outputs": [
    {
     "data": {
      "text/plain": [
       "(1, 1, 251)"
      ]
     },
     "execution_count": 20,
     "metadata": {},
     "output_type": "execute_result"
    }
   ],
   "source": [
    "forecastX.shape"
   ]
  },
  {
   "cell_type": "code",
   "execution_count": 21,
   "metadata": {
    "colab": {
     "base_uri": "https://localhost:8080/"
    },
    "id": "IS2kyIKG1Kbr",
    "outputId": "f31b3485-8e26-452f-9298-ea8bf7e80ad1"
   },
   "outputs": [
    {
     "data": {
      "text/plain": [
       "(1, 251)"
      ]
     },
     "execution_count": 21,
     "metadata": {},
     "output_type": "execute_result"
    }
   ],
   "source": [
    "forecast_without_mc.shape"
   ]
  },
  {
   "cell_type": "code",
   "execution_count": 22,
   "metadata": {
    "id": "0u6VIzaDyuoT"
   },
   "outputs": [],
   "source": [
    "inv_yhat_without_mc = np.concatenate((forecast_without_mc, yhat_without_mc), axis=1) # Concatenation of predicted values with Historical Data\n",
    "#inv_yhat_without_mc = scaler.inverse_transform(inv_yhat_without_mc) # Transform labels back to original encoding"
   ]
  },
  {
   "cell_type": "code",
   "execution_count": 23,
   "metadata": {
    "colab": {
     "base_uri": "https://localhost:8080/"
    },
    "id": "EUEcw0LX07oU",
    "outputId": "cfc32397-9c37-4b43-d087-584bb31c3dcc"
   },
   "outputs": [
    {
     "data": {
      "text/plain": [
       "(1, 311)"
      ]
     },
     "execution_count": 23,
     "metadata": {},
     "output_type": "execute_result"
    }
   ],
   "source": [
    "inv_yhat_without_mc.shape"
   ]
  },
  {
   "cell_type": "code",
   "execution_count": 24,
   "metadata": {
    "id": "31OWVbSh_305"
   },
   "outputs": [],
   "source": [
    "fforecast = inv_yhat_without_mc[:,-300:]"
   ]
  },
  {
   "cell_type": "code",
   "execution_count": 25,
   "metadata": {},
   "outputs": [
    {
     "data": {
      "text/plain": [
       "(1, 300)"
      ]
     },
     "execution_count": 25,
     "metadata": {},
     "output_type": "execute_result"
    }
   ],
   "source": [
    "fforecast.shape"
   ]
  },
  {
   "cell_type": "code",
   "execution_count": 26,
   "metadata": {
    "id": "BlpGH2FOAiRF"
   },
   "outputs": [],
   "source": [
    "final_forecast = fforecast[:,0:300:3]"
   ]
  },
  {
   "cell_type": "code",
   "execution_count": 27,
   "metadata": {},
   "outputs": [
    {
     "data": {
      "text/plain": [
       "(1, 300)"
      ]
     },
     "execution_count": 27,
     "metadata": {},
     "output_type": "execute_result"
    }
   ],
   "source": [
    "fforecast.shape"
   ]
  },
  {
   "cell_type": "code",
   "execution_count": 28,
   "metadata": {
    "id": "CXkgkj_LBk_t"
   },
   "outputs": [],
   "source": [
    "# code to replace all negative value with 0\n",
    "final_forecast[final_forecast<0] = 0"
   ]
  },
  {
   "cell_type": "code",
   "execution_count": 29,
   "metadata": {},
   "outputs": [
    {
     "data": {
      "text/plain": [
       "array([[7.15192157e+01, 7.11963212e+01, 7.11156489e+01, 7.10349767e+01,\n",
       "        7.06933365e+01, 2.19670150e-01, 8.66116460e-01, 0.00000000e+00,\n",
       "        0.00000000e+00, 4.66660650e-01, 4.91330890e-01, 0.00000000e+00,\n",
       "        6.63506390e-01, 7.22878431e+01, 7.18643137e+01, 7.14407843e+01,\n",
       "        3.64094080e-02, 0.00000000e+00, 7.32152895e+01, 7.28839216e+01,\n",
       "        7.24603922e+01, 7.20368627e+01, 7.16133333e+01, 7.12142484e+01,\n",
       "        7.11335761e+01, 7.10529038e+01, 7.09722316e+01, 0.00000000e+00,\n",
       "        8.18514680e-02, 7.17858823e+01, 7.13623529e+01, 7.11664426e+01,\n",
       "        7.10857703e+01, 7.10050980e+01, 7.09244258e+01, 7.08472689e+01,\n",
       "        7.07716387e+01, 7.06960084e+01, 1.45036131e-01, 5.25366127e-01,\n",
       "        0.00000000e+00, 0.00000000e+00, 0.00000000e+00, 3.91179383e-01,\n",
       "        0.00000000e+00, 5.29398620e-01, 3.80662382e-01, 7.20054902e+01,\n",
       "        7.15819608e+01, 0.00000000e+00, 0.00000000e+00, 7.33245331e+01,\n",
       "        7.29968020e+01, 7.26015686e+01, 7.21780392e+01, 7.17545098e+01,\n",
       "        7.13309804e+01, 7.11604669e+01, 7.10797946e+01, 7.09991223e+01,\n",
       "        1.08551530e-02, 1.52217552e-01, 7.19270588e+01, 7.15035294e+01,\n",
       "        7.11933333e+01, 7.11126611e+01, 7.10319888e+01, 7.09513165e+01,\n",
       "        7.08724790e+01, 7.07968487e+01, 7.07212185e+01, 2.27639120e-02,\n",
       "        0.00000000e+00, 4.54919891e+01, 1.04988220e-02, 3.80814075e-01,\n",
       "        1.42019778e-01, 0.00000000e+00, 0.00000000e+00, 0.00000000e+00,\n",
       "        7.00496521e+01, 0.00000000e+00, 6.35787368e-01, 3.04394513e-01,\n",
       "        5.45300841e-01, 0.00000000e+00, 2.90130377e-01, 8.31156522e-02,\n",
       "        8.85007083e-01, 0.00000000e+00, 1.89214364e-01, 0.00000000e+00,\n",
       "        0.00000000e+00, 1.85397953e-01, 5.12452841e-01, 0.00000000e+00,\n",
       "        0.00000000e+00, 0.00000000e+00, 0.00000000e+00, 0.00000000e+00]])"
      ]
     },
     "execution_count": 29,
     "metadata": {},
     "output_type": "execute_result"
    }
   ],
   "source": [
    "final_forecast"
   ]
  },
  {
   "cell_type": "code",
   "execution_count": 30,
   "metadata": {},
   "outputs": [
    {
     "data": {
      "text/plain": [
       "(1, 100)"
      ]
     },
     "execution_count": 30,
     "metadata": {},
     "output_type": "execute_result"
    }
   ],
   "source": [
    "final_forecast.shape"
   ]
  },
  {
   "cell_type": "code",
   "execution_count": 31,
   "metadata": {},
   "outputs": [
    {
     "data": {
      "text/plain": [
       "(100,)"
      ]
     },
     "execution_count": 31,
     "metadata": {},
     "output_type": "execute_result"
    }
   ],
   "source": [
    "test.shape"
   ]
  },
  {
   "cell_type": "code",
   "execution_count": 32,
   "metadata": {},
   "outputs": [],
   "source": [
    "training_set = np.array(training_set)\n",
    "test = np.array(test)\n",
    "final_forecast = np.array(final_forecast.squeeze(0))"
   ]
  },
  {
   "cell_type": "code",
   "execution_count": 33,
   "metadata": {},
   "outputs": [
    {
     "data": {
      "text/plain": [
       "array([57.53635991, 57.52078295, 57.50520598, 57.48962902, 57.47405206,\n",
       "       57.4584751 , 57.44289813, 57.42732117, 57.41174421, 57.39616725,\n",
       "       57.38059028, 57.36501332, 57.34943636, 57.3338594 , 57.31828243,\n",
       "       57.30270547, 57.28712851, 57.27155155, 57.25597458, 57.24039762,\n",
       "       57.22482066, 57.2092437 , 57.19366673, 57.17808977, 57.16251281,\n",
       "       57.14693585, 57.13135889, 57.11578192, 57.10020496, 57.084628  ,\n",
       "       57.06905104, 57.05347407, 57.03789711, 57.02232015, 57.00674319,\n",
       "       56.99116622, 56.97558926, 56.9600123 , 56.94443534, 56.92885837,\n",
       "       56.91328141, 56.89770445, 56.88212749, 56.86655052, 56.85097356,\n",
       "       56.8353966 , 56.81981964, 56.80424267, 56.78866571, 56.77308875,\n",
       "       56.75751179, 56.74193482, 56.72635786, 56.7107809 , 56.69520394,\n",
       "       56.67962697, 56.66405001, 56.64847305, 56.63289609, 56.61731912,\n",
       "       56.60174216, 56.5861652 , 56.57058824, 56.55501127, 56.53943431,\n",
       "       56.52385735, 56.50828039, 56.49270342, 56.47712646, 56.4615495 ,\n",
       "       56.44597254, 56.43039557, 56.41481861, 56.39924165, 56.38366469,\n",
       "       56.36808772, 56.35251076, 56.3369338 , 56.32135684, 56.30577987,\n",
       "       56.29020291, 56.27462595, 56.25904899, 56.24347202, 56.22789506,\n",
       "       56.2123181 , 56.19674114, 56.18116417, 56.16558721, 56.15001025,\n",
       "       56.13443329, 56.11885632, 56.10327936, 56.0877024 , 56.07212544,\n",
       "       56.05654847, 56.04097151, 56.02539455, 56.00981759, 55.99424062])"
      ]
     },
     "execution_count": 33,
     "metadata": {},
     "output_type": "execute_result"
    }
   ],
   "source": [
    "test"
   ]
  },
  {
   "cell_type": "code",
   "execution_count": 34,
   "metadata": {},
   "outputs": [
    {
     "data": {
      "text/plain": [
       "(100,)"
      ]
     },
     "execution_count": 34,
     "metadata": {},
     "output_type": "execute_result"
    }
   ],
   "source": [
    "test.shape"
   ]
  },
  {
   "cell_type": "code",
   "execution_count": 35,
   "metadata": {},
   "outputs": [
    {
     "data": {
      "text/plain": [
       "(100,)"
      ]
     },
     "execution_count": 35,
     "metadata": {},
     "output_type": "execute_result"
    }
   ],
   "source": [
    "final_forecast.shape"
   ]
  },
  {
   "cell_type": "code",
   "execution_count": 36,
   "metadata": {},
   "outputs": [
    {
     "data": {
      "text/plain": [
       "(100,)"
      ]
     },
     "execution_count": 36,
     "metadata": {},
     "output_type": "execute_result"
    }
   ],
   "source": [
    "test.shape"
   ]
  },
  {
   "cell_type": "code",
   "execution_count": 37,
   "metadata": {},
   "outputs": [
    {
     "name": "stdout",
     "output_type": "stream",
     "text": [
      "41.91975086872039\n",
      "36.284462471463584\n"
     ]
    }
   ],
   "source": [
    "import math\n",
    "MSE = np.square(np.subtract(np.array(test),np.array(final_forecast))).mean()   \n",
    "rsme = math.sqrt(MSE)\n",
    "print(rsme)  \n",
    "MAE = np.abs(np.subtract(np.array(test),np.array(final_forecast))).mean()   \n",
    "mae = MAE\n",
    "print(mae)"
   ]
  }
 ],
 "metadata": {
  "colab": {
   "provenance": []
  },
  "kernelspec": {
   "display_name": "Python 3",
   "language": "python",
   "name": "python3"
  },
  "language_info": {
   "codemirror_mode": {
    "name": "ipython",
    "version": 3
   },
   "file_extension": ".py",
   "mimetype": "text/x-python",
   "name": "python",
   "nbconvert_exporter": "python",
   "pygments_lexer": "ipython3",
   "version": "3.9.13"
  }
 },
 "nbformat": 4,
 "nbformat_minor": 0
}
