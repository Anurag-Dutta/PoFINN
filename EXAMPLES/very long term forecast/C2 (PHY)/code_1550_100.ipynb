{
 "cells": [
  {
   "cell_type": "markdown",
   "metadata": {
    "id": "pCGKeZ2gyuoQ"
   },
   "source": [
    "_Importing Required Libraries_"
   ]
  },
  {
   "cell_type": "code",
   "execution_count": 1,
   "metadata": {
    "colab": {
     "base_uri": "https://localhost:8080/"
    },
    "id": "A-6LN-zXiLcM",
    "outputId": "4de610a4-f8b8-4f49-c6c0-89de299ccedc"
   },
   "outputs": [
    {
     "name": "stdout",
     "output_type": "stream",
     "text": [
      "Requirement already satisfied: hampel in c:\\users\\anurag dutta\\appdata\\local\\packages\\pythonsoftwarefoundation.python.3.9_qbz5n2kfra8p0\\localcache\\local-packages\\python39\\site-packages (0.0.5)\n",
      "Requirement already satisfied: numpy in c:\\users\\anurag dutta\\appdata\\local\\packages\\pythonsoftwarefoundation.python.3.9_qbz5n2kfra8p0\\localcache\\local-packages\\python39\\site-packages (from hampel) (1.26.4)\n",
      "Requirement already satisfied: pandas in c:\\users\\anurag dutta\\appdata\\local\\packages\\pythonsoftwarefoundation.python.3.9_qbz5n2kfra8p0\\localcache\\local-packages\\python39\\site-packages (from hampel) (1.5.2)\n",
      "Requirement already satisfied: python-dateutil>=2.8.1 in c:\\users\\anurag dutta\\appdata\\local\\packages\\pythonsoftwarefoundation.python.3.9_qbz5n2kfra8p0\\localcache\\local-packages\\python39\\site-packages (from pandas->hampel) (2.8.2)\n",
      "Requirement already satisfied: pytz>=2020.1 in c:\\users\\anurag dutta\\appdata\\local\\packages\\pythonsoftwarefoundation.python.3.9_qbz5n2kfra8p0\\localcache\\local-packages\\python39\\site-packages (from pandas->hampel) (2023.3.post1)\n",
      "Requirement already satisfied: six>=1.5 in c:\\users\\anurag dutta\\appdata\\local\\packages\\pythonsoftwarefoundation.python.3.9_qbz5n2kfra8p0\\localcache\\local-packages\\python39\\site-packages (from python-dateutil>=2.8.1->pandas->hampel) (1.16.0)\n",
      "Note: you may need to restart the kernel to use updated packages.\n"
     ]
    },
    {
     "name": "stderr",
     "output_type": "stream",
     "text": [
      "\n",
      "[notice] A new release of pip is available: 24.2 -> 24.3.1\n",
      "[notice] To update, run: C:\\Users\\Anurag Dutta\\AppData\\Local\\Microsoft\\WindowsApps\\PythonSoftwareFoundation.Python.3.9_qbz5n2kfra8p0\\python.exe -m pip install --upgrade pip\n"
     ]
    }
   ],
   "source": [
    "pip install hampel"
   ]
  },
  {
   "cell_type": "code",
   "execution_count": 2,
   "metadata": {
    "id": "By_d9uXpaFvZ"
   },
   "outputs": [],
   "source": [
    "from keras.models import Sequential\n",
    "from keras.layers import Dense\n",
    "from keras.layers import LSTM\n",
    "from keras.layers import Dropout\n",
    "import keras\n",
    "import tensorflow as tf\n",
    "from hampel import hampel\n",
    "import numpy as np\n",
    "import matplotlib.pyplot as plt\n",
    "import pandas as pd\n",
    "from sklearn.preprocessing import MinMaxScaler\n",
    "from sklearn.metrics import mean_squared_error, mean_absolute_error\n",
    "from math import sqrt\n",
    "from matplotlib import pyplot\n",
    "from numpy import array"
   ]
  },
  {
   "cell_type": "markdown",
   "metadata": {
    "id": "JyOjBMFayuoR"
   },
   "source": [
    "## Pretraining"
   ]
  },
  {
   "cell_type": "markdown",
   "metadata": {
    "id": "-5QqIY_GyuoR"
   },
   "source": [
    "The `capa_intermittency.dat` feeds the model with the dynamics of the Capacitor"
   ]
  },
  {
   "cell_type": "code",
   "execution_count": 3,
   "metadata": {
    "id": "9dV4a8yfyuoR"
   },
   "outputs": [],
   "source": [
    "data = np.genfromtxt('capa_intermittency.dat')\n",
    "training_set = pd.DataFrame(data).reset_index(drop=True)\n",
    "training_set = training_set.iloc[:,0]"
   ]
  },
  {
   "cell_type": "markdown",
   "metadata": {
    "id": "i7easoxByuoR"
   },
   "source": [
    "## Computing the Gradient"
   ]
  },
  {
   "cell_type": "markdown",
   "metadata": {
    "id": "5SnyolJTyuoR"
   },
   "source": [
    "_Calculating the value of_ $\\frac{dx}{dt}$"
   ]
  },
  {
   "cell_type": "code",
   "execution_count": 4,
   "metadata": {
    "colab": {
     "base_uri": "https://localhost:8080/"
    },
    "id": "wmIbVfIvyuoR",
    "outputId": "aa4e3136-c854-465d-d2e9-81cfd546e440"
   },
   "outputs": [
    {
     "name": "stdout",
     "output_type": "stream",
     "text": [
      "1.0\n",
      "1        0.000298\n",
      "2        0.000298\n",
      "3        0.000297\n",
      "4        0.000297\n",
      "5        0.000297\n",
      "           ...   \n",
      "9996     0.000018\n",
      "9997     0.000018\n",
      "9998     0.000018\n",
      "9999     0.000018\n",
      "10000    0.000018\n",
      "Name: 0, Length: 10000, dtype: float64\n"
     ]
    }
   ],
   "source": [
    "t_diff = 1\n",
    "print(training_set.max())\n",
    "gradient_t = (training_set.diff()/t_diff).iloc[1:] # dx/dt\n",
    "print(gradient_t)"
   ]
  },
  {
   "cell_type": "markdown",
   "metadata": {
    "id": "_2eVeeoxyuoS"
   },
   "source": [
    "## Loading Datasets"
   ]
  },
  {
   "cell_type": "code",
   "execution_count": 5,
   "metadata": {
    "id": "0J-NKyIEyuoS"
   },
   "outputs": [
    {
     "data": {
      "text/plain": [
       "0       90.500000\n",
       "1       90.275910\n",
       "2       90.051821\n",
       "3       89.827731\n",
       "4       89.603641\n",
       "          ...    \n",
       "1645    67.357190\n",
       "1646    67.347852\n",
       "1647    67.338515\n",
       "1648    67.329178\n",
       "1649    67.319841\n",
       "Name: C2, Length: 1650, dtype: float64"
      ]
     },
     "execution_count": 5,
     "metadata": {},
     "output_type": "execute_result"
    }
   ],
   "source": [
    "data = pd.read_csv(\"c2_interpolated_1550_100.csv\")\n",
    "training_set = data.iloc[:, 1]\n",
    "training_set"
   ]
  },
  {
   "cell_type": "code",
   "execution_count": 6,
   "metadata": {
    "colab": {
     "base_uri": "https://localhost:8080/"
    },
    "id": "-CbNUhJ74UqF",
    "outputId": "20f562d8-8247-49cc-b9c3-00eca5e13e2d"
   },
   "outputs": [
    {
     "data": {
      "text/plain": [
       "0       90.500000\n",
       "1       90.275910\n",
       "2       90.051821\n",
       "3       89.827731\n",
       "4       89.603641\n",
       "          ...    \n",
       "1545     0.525366\n",
       "1546     0.064448\n",
       "1547     0.292134\n",
       "1548     0.000000\n",
       "1549     0.000000\n",
       "Name: C2, Length: 1550, dtype: float64"
      ]
     },
     "execution_count": 6,
     "metadata": {},
     "output_type": "execute_result"
    }
   ],
   "source": [
    "test = training_set.tail(100)\n",
    "test\n",
    "training_set = training_set.head(1550)\n",
    "training_set"
   ]
  },
  {
   "cell_type": "code",
   "execution_count": 7,
   "metadata": {
    "colab": {
     "base_uri": "https://localhost:8080/"
    },
    "id": "X0TwTcq0yuoS",
    "outputId": "37252ed8-d88e-4044-fa7a-922411990b5b"
   },
   "outputs": [
    {
     "name": "stdout",
     "output_type": "stream",
     "text": [
      "0       0.000298\n",
      "1       0.000298\n",
      "2       0.000297\n",
      "3       0.000297\n",
      "4       0.000297\n",
      "          ...   \n",
      "9995    0.000018\n",
      "9996    0.000018\n",
      "9997    0.000018\n",
      "9998    0.000018\n",
      "9999    0.000018\n",
      "Name: 0, Length: 10000, dtype: float64\n"
     ]
    }
   ],
   "source": [
    "training_set = training_set.reset_index(drop=True)\n",
    "gradient_t = gradient_t.reset_index(drop=True)\n",
    "print(gradient_t)"
   ]
  },
  {
   "cell_type": "code",
   "execution_count": 8,
   "metadata": {
    "id": "O2biznZQyuoS"
   },
   "outputs": [],
   "source": [
    "df = pd.concat((training_set, gradient_t), axis=1)\n",
    "df.columns = ['y_t', 'grad_t']"
   ]
  },
  {
   "cell_type": "code",
   "execution_count": 9,
   "metadata": {
    "colab": {
     "base_uri": "https://localhost:8080/",
     "height": 423
    },
    "id": "sk_a5v3tyuoS",
    "outputId": "17563625-e550-45ae-faab-fafa353e44da"
   },
   "outputs": [
    {
     "data": {
      "text/html": [
       "<div>\n",
       "<style scoped>\n",
       "    .dataframe tbody tr th:only-of-type {\n",
       "        vertical-align: middle;\n",
       "    }\n",
       "\n",
       "    .dataframe tbody tr th {\n",
       "        vertical-align: top;\n",
       "    }\n",
       "\n",
       "    .dataframe thead th {\n",
       "        text-align: right;\n",
       "    }\n",
       "</style>\n",
       "<table border=\"1\" class=\"dataframe\">\n",
       "  <thead>\n",
       "    <tr style=\"text-align: right;\">\n",
       "      <th></th>\n",
       "      <th>y_t</th>\n",
       "      <th>grad_t</th>\n",
       "    </tr>\n",
       "  </thead>\n",
       "  <tbody>\n",
       "    <tr>\n",
       "      <th>0</th>\n",
       "      <td>90.500000</td>\n",
       "      <td>0.000298</td>\n",
       "    </tr>\n",
       "    <tr>\n",
       "      <th>1</th>\n",
       "      <td>90.275910</td>\n",
       "      <td>0.000298</td>\n",
       "    </tr>\n",
       "    <tr>\n",
       "      <th>2</th>\n",
       "      <td>90.051821</td>\n",
       "      <td>0.000297</td>\n",
       "    </tr>\n",
       "    <tr>\n",
       "      <th>3</th>\n",
       "      <td>89.827731</td>\n",
       "      <td>0.000297</td>\n",
       "    </tr>\n",
       "    <tr>\n",
       "      <th>4</th>\n",
       "      <td>89.603641</td>\n",
       "      <td>0.000297</td>\n",
       "    </tr>\n",
       "    <tr>\n",
       "      <th>...</th>\n",
       "      <td>...</td>\n",
       "      <td>...</td>\n",
       "    </tr>\n",
       "    <tr>\n",
       "      <th>9995</th>\n",
       "      <td>NaN</td>\n",
       "      <td>0.000018</td>\n",
       "    </tr>\n",
       "    <tr>\n",
       "      <th>9996</th>\n",
       "      <td>NaN</td>\n",
       "      <td>0.000018</td>\n",
       "    </tr>\n",
       "    <tr>\n",
       "      <th>9997</th>\n",
       "      <td>NaN</td>\n",
       "      <td>0.000018</td>\n",
       "    </tr>\n",
       "    <tr>\n",
       "      <th>9998</th>\n",
       "      <td>NaN</td>\n",
       "      <td>0.000018</td>\n",
       "    </tr>\n",
       "    <tr>\n",
       "      <th>9999</th>\n",
       "      <td>NaN</td>\n",
       "      <td>0.000018</td>\n",
       "    </tr>\n",
       "  </tbody>\n",
       "</table>\n",
       "<p>10000 rows × 2 columns</p>\n",
       "</div>"
      ],
      "text/plain": [
       "            y_t    grad_t\n",
       "0     90.500000  0.000298\n",
       "1     90.275910  0.000298\n",
       "2     90.051821  0.000297\n",
       "3     89.827731  0.000297\n",
       "4     89.603641  0.000297\n",
       "...         ...       ...\n",
       "9995        NaN  0.000018\n",
       "9996        NaN  0.000018\n",
       "9997        NaN  0.000018\n",
       "9998        NaN  0.000018\n",
       "9999        NaN  0.000018\n",
       "\n",
       "[10000 rows x 2 columns]"
      ]
     },
     "execution_count": 9,
     "metadata": {},
     "output_type": "execute_result"
    }
   ],
   "source": [
    "df"
   ]
  },
  {
   "cell_type": "markdown",
   "metadata": {
    "id": "-5esyHu5aFvg"
   },
   "source": [
    "## Plot of the External Forcing from Chaotic Differential Equation"
   ]
  },
  {
   "cell_type": "code",
   "execution_count": 10,
   "metadata": {
    "colab": {
     "base_uri": "https://localhost:8080/",
     "height": 447
    },
    "id": "hGnE43tOh-4p",
    "outputId": "fc396503-b624-4fa5-dfbe-f460207405c6"
   },
   "outputs": [
    {
     "data": {
      "text/plain": [
       "<Axes: >"
      ]
     },
     "execution_count": 10,
     "metadata": {},
     "output_type": "execute_result"
    },
    {
     "data": {
      "image/png": "[encoded data removed]",
      "text/plain": [
       "<Figure size 432x288 with 1 Axes>"
      ]
     },
     "metadata": {
      "needs_background": "light"
     },
     "output_type": "display_data"
    }
   ],
   "source": [
    "df.iloc[:, 0].plot()"
   ]
  },
  {
   "cell_type": "code",
   "execution_count": 11,
   "metadata": {
    "colab": {
     "base_uri": "https://localhost:8080/",
     "height": 447
    },
    "id": "ym4xWUUxaFvg",
    "outputId": "ae6a3495-8ce9-437e-ba81-3ed31deedeae"
   },
   "outputs": [
    {
     "name": "stderr",
     "output_type": "stream",
     "text": [
      "C:\\Users\\Anurag Dutta\\AppData\\Local\\Packages\\PythonSoftwareFoundation.Python.3.9_qbz5n2kfra8p0\\LocalCache\\local-packages\\Python39\\site-packages\\pandas\\core\\arraylike.py:402: RuntimeWarning: divide by zero encountered in log\n",
      "  result = getattr(ufunc, method)(*inputs, **kwargs)\n"
     ]
    },
    {
     "data": {
      "text/plain": [
       "<Axes: >"
      ]
     },
     "execution_count": 11,
     "metadata": {},
     "output_type": "execute_result"
    },
    {
     "data": {
      "image/png": "[encoded data removed]",
      "text/plain": [
       "<Figure size 432x288 with 1 Axes>"
      ]
     },
     "metadata": {
      "needs_background": "light"
     },
     "output_type": "display_data"
    }
   ],
   "source": [
    "import numpy as np\n",
    "c0 = 88.1552  # Value for C0\n",
    "K0 = -0.0026  # Value for K0\n",
    "K1 = -0.0004  # Value for K1\n",
    "a = 0.0000    # Value for a\n",
    "b = 0.0102    # Value for b\n",
    "c = 2.8734    # Value for c\n",
    "\n",
    "L = np.minimum(c0, (df.iloc[:, 1] - (df.iloc[:, 0] * (K0 - K1 * (9 * a * np.log(df.iloc[:, 0] / c0) / (K0 - K1 * c)**2 + 4 * b * np.log(df.iloc[:, 0] / c0) / (K0 - K1 * c) + c)))))\n",
    "L.plot()"
   ]
  },
  {
   "cell_type": "markdown",
   "metadata": {
    "id": "9VyEywnwaFvh"
   },
   "source": [
    "## Preprocessing the data into supervised learning"
   ]
  },
  {
   "cell_type": "code",
   "execution_count": 12,
   "metadata": {
    "id": "6V9dXqzdaFvh"
   },
   "outputs": [],
   "source": [
    "# split a sequence into samples\n",
    "def Supervised(data, n_in=1, n_out=1, dropnan=True):\n",
    "    n_vars = 1 if type(data) is list else data.shape[1]\n",
    "    df = pd.DataFrame(data)\n",
    "    cols, names = list(), list()\n",
    "    # input sequence (t-n_in, ... t-1)\n",
    "    for i in range(n_in, 0, -1):\n",
    "        cols.append(df.shift(i))\n",
    "        names += [('var%d(t-%d)' % (j+1, i)) for j in range(n_vars)]\n",
    "    # forecast sequence (t, t+1, ... t+n_out)\n",
    "    for i in range(0, n_out):\n",
    "      cols.append(df.shift(-i))\n",
    "      if i == 0:\n",
    "        names += [('var%d(t)' % (j+1)) for j in range(n_vars)]\n",
    "      else:\n",
    "        names += [('var%d(t+%d)' % (j+1, i)) for j in range(n_vars)]\n",
    "    # put it all together\n",
    "    agg = pd.concat(cols, axis=1)\n",
    "    agg.columns = names\n",
    "    # drop rows with NaN values\n",
    "    if dropnan:\n",
    "       agg.dropna(inplace=True)\n",
    "    return agg"
   ]
  },
  {
   "cell_type": "code",
   "execution_count": 13,
   "metadata": {
    "colab": {
     "base_uri": "https://localhost:8080/"
    },
    "id": "CrzSrT1HnyfH",
    "outputId": "7e75f928-3e47-499d-eac1-51908015ef78"
   },
   "outputs": [
    {
     "name": "stdout",
     "output_type": "stream",
     "text": [
      "     var1(t-350)  var1(t-349)  var1(t-348)  var1(t-347)  var1(t-346)  \\\n",
      "350    90.500000    90.275910    90.051821    89.827731    89.603641   \n",
      "351    90.275910    90.051821    89.827731    89.603641    89.379552   \n",
      "352    90.051821    89.827731    89.603641    89.379552    89.155462   \n",
      "353    89.827731    89.603641    89.379552    89.155462    88.931373   \n",
      "354    89.603641    89.379552    89.155462    88.931373    88.707283   \n",
      "\n",
      "     var1(t-345)  var1(t-344)  var1(t-343)  var1(t-342)  var1(t-341)  ...  \\\n",
      "350    89.379552    89.155462    88.931373    88.707283    88.494958  ...   \n",
      "351    89.155462    88.931373    88.707283    88.494958    88.427731  ...   \n",
      "352    88.931373    88.707283    88.494958    88.427731    88.360504  ...   \n",
      "353    88.707283    88.494958    88.427731    88.360504    88.293277  ...   \n",
      "354    88.494958    88.427731    88.360504    88.293277    88.226050  ...   \n",
      "\n",
      "     var1(t+95)  var2(t+95)  var1(t+96)  var2(t+96)  var1(t+97)  var2(t+97)  \\\n",
      "350   79.071008    0.000263   79.054202    0.000263   79.037395    0.000263   \n",
      "351   79.054202    0.000263   79.037395    0.000263   79.020588    0.000262   \n",
      "352   79.037395    0.000263   79.020588    0.000262   79.003782    0.000262   \n",
      "353   79.020588    0.000262   79.003782    0.000262   78.986975    0.000262   \n",
      "354   79.003782    0.000262   78.986975    0.000262   78.970168    0.000262   \n",
      "\n",
      "     var1(t+98)  var2(t+98)  var1(t+99)  var2(t+99)  \n",
      "350   79.020588    0.000262   79.003782    0.000262  \n",
      "351   79.003782    0.000262   78.986975    0.000262  \n",
      "352   78.986975    0.000262   78.970168    0.000262  \n",
      "353   78.970168    0.000262   78.953361    0.000262  \n",
      "354   78.953361    0.000262   78.936555    0.000262  \n",
      "\n",
      "[5 rows x 551 columns]\n",
      "Index(['var1(t-350)', 'var1(t-349)', 'var1(t-348)', 'var1(t-347)',\n",
      "       'var1(t-346)', 'var1(t-345)', 'var1(t-344)', 'var1(t-343)',\n",
      "       'var1(t-342)', 'var1(t-341)',\n",
      "       ...\n",
      "       'var1(t+95)', 'var2(t+95)', 'var1(t+96)', 'var2(t+96)', 'var1(t+97)',\n",
      "       'var2(t+97)', 'var1(t+98)', 'var2(t+98)', 'var1(t+99)', 'var2(t+99)'],\n",
      "      dtype='object', length=551)\n"
     ]
    }
   ],
   "source": [
    "data = Supervised(df.values, n_in = 350, n_out = 100)\n",
    "\n",
    "\n",
    "cols_to_drop = []\n",
    "for i in range(2, 351):\n",
    "    cols_to_drop.extend([f'var2(t-{i})'])\n",
    "\n",
    "data.drop(cols_to_drop, axis=1, inplace=True)\n",
    "\n",
    "print(data.head())\n",
    "print(data.columns)"
   ]
  },
  {
   "cell_type": "code",
   "execution_count": 14,
   "metadata": {
    "id": "AfPf60oy6Pe4"
   },
   "outputs": [],
   "source": [
    "train = np.array(data[0:len(data)-1])\n",
    "forecast = np.array(data.tail(1))"
   ]
  },
  {
   "cell_type": "code",
   "execution_count": 15,
   "metadata": {
    "id": "WSAafzI37KiT"
   },
   "outputs": [],
   "source": [
    "trainy = train[:,-300:]\n",
    "trainX = train[:,:-300]"
   ]
  },
  {
   "cell_type": "code",
   "execution_count": 16,
   "metadata": {
    "id": "2SrOqVJA7f50"
   },
   "outputs": [],
   "source": [
    "forecasty = forecast[:,-300:]\n",
    "forecastX = forecast[:,:-300]"
   ]
  },
  {
   "cell_type": "code",
   "execution_count": 17,
   "metadata": {
    "colab": {
     "base_uri": "https://localhost:8080/"
    },
    "id": "Qno_k8Nw7saY",
    "outputId": "c4a88db5-d8c6-489f-cdb2-06b24e293cff"
   },
   "outputs": [
    {
     "name": "stdout",
     "output_type": "stream",
     "text": [
      "(1100, 1, 251) (1100, 300) (1, 1, 251)\n"
     ]
    }
   ],
   "source": [
    "trainX = trainX.reshape((trainX.shape[0], 1, trainX.shape[1]))\n",
    "forecastX = forecastX.reshape((forecastX.shape[0], 1, forecastX.shape[1]))\n",
    "print(trainX.shape, trainy.shape, forecastX.shape)"
   ]
  },
  {
   "cell_type": "code",
   "execution_count": 18,
   "metadata": {
    "colab": {
     "base_uri": "https://localhost:8080/"
    },
    "id": "b1Jp2DvNuNFx",
    "outputId": "d0e5b3c4-64f1-438c-eade-8dfeaac8e285"
   },
   "outputs": [
    {
     "name": "stdout",
     "output_type": "stream",
     "text": [
      "Epoch 1/500\n",
      "14/14 [==============================] - 2s 40ms/step - loss: 5555.3462 - val_loss: 4427.3379\n",
      "Epoch 2/500\n",
      "14/14 [==============================] - 0s 5ms/step - loss: 5457.9873 - val_loss: 4381.1016\n",
      "Epoch 3/500\n",
      "14/14 [==============================] - 0s 5ms/step - loss: 5397.6206 - val_loss: 4327.4248\n",
      "Epoch 4/500\n",
      "14/14 [==============================] - 0s 5ms/step - loss: 5340.4585 - val_loss: 4279.8862\n",
      "Epoch 5/500\n",
      "14/14 [==============================] - 0s 5ms/step - loss: 5285.1123 - val_loss: 4232.8804\n",
      "Epoch 6/500\n",
      "14/14 [==============================] - 0s 4ms/step - loss: 5230.3633 - val_loss: 4186.4175\n",
      "Epoch 7/500\n",
      "14/14 [==============================] - 0s 5ms/step - loss: 5176.1846 - val_loss: 4140.4556\n",
      "Epoch 8/500\n",
      "14/14 [==============================] - 0s 7ms/step - loss: 5122.5317 - val_loss: 4094.9634\n",
      "Epoch 9/500\n",
      "14/14 [==============================] - 0s 5ms/step - loss: 5069.3691 - val_loss: 4049.9155\n",
      "Epoch 10/500\n",
      "14/14 [==============================] - 0s 9ms/step - loss: 5016.6758 - val_loss: 4005.2952\n",
      "Epoch 11/500\n",
      "14/14 [==============================] - 0s 5ms/step - loss: 4964.4341 - val_loss: 3961.0898\n",
      "Epoch 12/500\n",
      "14/14 [==============================] - 0s 4ms/step - loss: 4912.6328 - val_loss: 3917.2932\n",
      "Epoch 13/500\n",
      "14/14 [==============================] - 0s 5ms/step - loss: 4861.2627 - val_loss: 3873.8948\n",
      "Epoch 14/500\n",
      "14/14 [==============================] - 0s 5ms/step - loss: 4810.3149 - val_loss: 3830.8901\n",
      "Epoch 15/500\n",
      "14/14 [==============================] - 0s 6ms/step - loss: 4759.7837 - val_loss: 3788.2742\n",
      "Epoch 16/500\n",
      "14/14 [==============================] - 0s 7ms/step - loss: 4709.6641 - val_loss: 3746.0413\n",
      "Epoch 17/500\n",
      "14/14 [==============================] - 0s 5ms/step - loss: 4659.9512 - val_loss: 3704.1877\n",
      "Epoch 18/500\n",
      "14/14 [==============================] - 0s 5ms/step - loss: 4610.6406 - val_loss: 3662.7102\n",
      "Epoch 19/500\n",
      "14/14 [==============================] - 0s 5ms/step - loss: 4561.7285 - val_loss: 3621.6055\n",
      "Epoch 20/500\n",
      "14/14 [==============================] - 0s 5ms/step - loss: 4513.2119 - val_loss: 3580.8696\n",
      "Epoch 21/500\n",
      "14/14 [==============================] - 0s 5ms/step - loss: 4465.0864 - val_loss: 3540.5002\n",
      "Epoch 22/500\n",
      "14/14 [==============================] - 0s 5ms/step - loss: 4417.3496 - val_loss: 3500.4934\n",
      "Epoch 23/500\n",
      "14/14 [==============================] - 0s 5ms/step - loss: 4369.9980 - val_loss: 3460.8477\n",
      "Epoch 24/500\n",
      "14/14 [==============================] - 0s 4ms/step - loss: 4323.0293 - val_loss: 3421.5601\n",
      "Epoch 25/500\n",
      "14/14 [==============================] - 0s 5ms/step - loss: 4276.4399 - val_loss: 3382.6267\n",
      "Epoch 26/500\n",
      "14/14 [==============================] - 0s 5ms/step - loss: 4230.2280 - val_loss: 3344.0461\n",
      "Epoch 27/500\n",
      "14/14 [==============================] - 0s 5ms/step - loss: 4184.3901 - val_loss: 3305.8159\n",
      "Epoch 28/500\n",
      "14/14 [==============================] - 0s 5ms/step - loss: 4138.9248 - val_loss: 3267.9336\n",
      "Epoch 29/500\n",
      "14/14 [==============================] - 0s 5ms/step - loss: 4093.8284 - val_loss: 3230.3972\n",
      "Epoch 30/500\n",
      "14/14 [==============================] - 0s 5ms/step - loss: 4049.0984 - val_loss: 3192.0945\n",
      "Epoch 31/500\n",
      "14/14 [==============================] - 0s 5ms/step - loss: 4001.5784 - val_loss: 3151.4395\n",
      "Epoch 32/500\n",
      "14/14 [==============================] - 0s 5ms/step - loss: 3952.6677 - val_loss: 3110.9517\n",
      "Epoch 33/500\n",
      "14/14 [==============================] - 0s 8ms/step - loss: 3904.5740 - val_loss: 3071.4180\n",
      "Epoch 34/500\n",
      "14/14 [==============================] - 0s 7ms/step - loss: 3857.5159 - val_loss: 3032.7131\n",
      "Epoch 35/500\n",
      "14/14 [==============================] - 0s 6ms/step - loss: 3811.3252 - val_loss: 2994.7000\n",
      "Epoch 36/500\n",
      "14/14 [==============================] - 0s 5ms/step - loss: 3765.8618 - val_loss: 2957.2869\n",
      "Epoch 37/500\n",
      "14/14 [==============================] - 0s 5ms/step - loss: 3721.0342 - val_loss: 2920.4114\n",
      "Epoch 38/500\n",
      "14/14 [==============================] - 0s 5ms/step - loss: 3676.7795 - val_loss: 2884.0317\n",
      "Epoch 39/500\n",
      "14/14 [==============================] - 0s 5ms/step - loss: 3633.0557 - val_loss: 2848.1177\n",
      "Epoch 40/500\n",
      "14/14 [==============================] - 0s 5ms/step - loss: 3589.8301 - val_loss: 2812.6455\n",
      "Epoch 41/500\n",
      "14/14 [==============================] - 0s 5ms/step - loss: 3547.0801 - val_loss: 2777.5979\n",
      "Epoch 42/500\n",
      "14/14 [==============================] - 0s 6ms/step - loss: 3504.7859 - val_loss: 2742.9602\n",
      "Epoch 43/500\n",
      "14/14 [==============================] - 0s 5ms/step - loss: 3462.9319 - val_loss: 2708.7209\n",
      "Epoch 44/500\n",
      "14/14 [==============================] - 0s 11ms/step - loss: 3421.5054 - val_loss: 2674.8699\n",
      "Epoch 45/500\n",
      "14/14 [==============================] - 0s 6ms/step - loss: 3380.4968 - val_loss: 2641.3987\n",
      "Epoch 46/500\n",
      "14/14 [==============================] - 0s 8ms/step - loss: 3339.8948 - val_loss: 2608.2981\n",
      "Epoch 47/500\n",
      "14/14 [==============================] - 0s 5ms/step - loss: 3299.6929 - val_loss: 2575.5637\n",
      "Epoch 48/500\n",
      "14/14 [==============================] - 0s 5ms/step - loss: 3259.8826 - val_loss: 2543.1875\n",
      "Epoch 49/500\n",
      "14/14 [==============================] - 0s 5ms/step - loss: 3220.4580 - val_loss: 2511.1655\n",
      "Epoch 50/500\n",
      "14/14 [==============================] - 0s 6ms/step - loss: 3181.4136 - val_loss: 2479.4917\n",
      "Epoch 51/500\n",
      "14/14 [==============================] - 0s 5ms/step - loss: 3142.7437 - val_loss: 2448.1621\n",
      "Epoch 52/500\n",
      "14/14 [==============================] - 0s 6ms/step - loss: 3104.4431 - val_loss: 2417.1726\n",
      "Epoch 53/500\n",
      "14/14 [==============================] - 0s 5ms/step - loss: 3066.5073 - val_loss: 2386.5193\n",
      "Epoch 54/500\n",
      "14/14 [==============================] - 0s 5ms/step - loss: 3028.9326 - val_loss: 2356.1968\n",
      "Epoch 55/500\n",
      "14/14 [==============================] - 0s 5ms/step - loss: 2991.7136 - val_loss: 2326.2029\n",
      "Epoch 56/500\n",
      "14/14 [==============================] - 0s 6ms/step - loss: 2954.8474 - val_loss: 2296.5339\n",
      "Epoch 57/500\n",
      "14/14 [==============================] - 0s 6ms/step - loss: 2918.3306 - val_loss: 2267.1868\n",
      "Epoch 58/500\n",
      "14/14 [==============================] - 0s 5ms/step - loss: 2882.1597 - val_loss: 2238.1580\n",
      "Epoch 59/500\n",
      "14/14 [==============================] - 0s 5ms/step - loss: 2846.3301 - val_loss: 2209.4441\n",
      "Epoch 60/500\n",
      "14/14 [==============================] - 0s 5ms/step - loss: 2810.8403 - val_loss: 2181.0437\n",
      "Epoch 61/500\n",
      "14/14 [==============================] - 0s 5ms/step - loss: 2775.6858 - val_loss: 2152.9524\n",
      "Epoch 62/500\n",
      "14/14 [==============================] - 0s 5ms/step - loss: 2740.8647 - val_loss: 2125.1685\n",
      "Epoch 63/500\n",
      "14/14 [==============================] - 0s 7ms/step - loss: 2706.3738 - val_loss: 2097.6887\n",
      "Epoch 64/500\n",
      "14/14 [==============================] - 0s 5ms/step - loss: 2672.2104 - val_loss: 2070.5110\n",
      "Epoch 65/500\n",
      "14/14 [==============================] - 0s 5ms/step - loss: 2638.3718 - val_loss: 2043.6324\n",
      "Epoch 66/500\n",
      "14/14 [==============================] - 0s 4ms/step - loss: 2604.8555 - val_loss: 2017.0510\n",
      "Epoch 67/500\n",
      "14/14 [==============================] - 0s 4ms/step - loss: 2571.6582 - val_loss: 1990.7632\n",
      "Epoch 68/500\n",
      "14/14 [==============================] - 0s 6ms/step - loss: 2538.7781 - val_loss: 1964.7682\n",
      "Epoch 69/500\n",
      "14/14 [==============================] - 0s 5ms/step - loss: 2506.2124 - val_loss: 1939.0621\n",
      "Epoch 70/500\n",
      "14/14 [==============================] - 0s 4ms/step - loss: 2473.9590 - val_loss: 1913.6447\n",
      "Epoch 71/500\n",
      "14/14 [==============================] - 0s 5ms/step - loss: 2442.0156 - val_loss: 1888.5120\n",
      "Epoch 72/500\n",
      "14/14 [==============================] - 0s 5ms/step - loss: 2410.3796 - val_loss: 1863.6621\n",
      "Epoch 73/500\n",
      "14/14 [==============================] - 0s 6ms/step - loss: 2379.0488 - val_loss: 1839.0938\n",
      "Epoch 74/500\n",
      "14/14 [==============================] - 0s 8ms/step - loss: 2348.0210 - val_loss: 1814.8035\n",
      "Epoch 75/500\n",
      "14/14 [==============================] - 0s 5ms/step - loss: 2317.2937 - val_loss: 1790.7908\n",
      "Epoch 76/500\n",
      "14/14 [==============================] - 0s 5ms/step - loss: 2286.8655 - val_loss: 1767.0518\n",
      "Epoch 77/500\n",
      "14/14 [==============================] - 0s 5ms/step - loss: 2256.7339 - val_loss: 1743.5857\n",
      "Epoch 78/500\n",
      "14/14 [==============================] - 0s 6ms/step - loss: 2226.8960 - val_loss: 1720.3899\n",
      "Epoch 79/500\n",
      "14/14 [==============================] - 0s 4ms/step - loss: 2197.3508 - val_loss: 1697.4633\n",
      "Epoch 80/500\n",
      "14/14 [==============================] - 0s 11ms/step - loss: 2168.0959 - val_loss: 1674.8024\n",
      "Epoch 81/500\n",
      "14/14 [==============================] - 0s 5ms/step - loss: 2139.1296 - val_loss: 1652.4072\n",
      "Epoch 82/500\n",
      "14/14 [==============================] - 0s 5ms/step - loss: 2110.4495 - val_loss: 1630.2740\n",
      "Epoch 83/500\n",
      "14/14 [==============================] - 0s 6ms/step - loss: 2082.0540 - val_loss: 1608.4016\n",
      "Epoch 84/500\n",
      "14/14 [==============================] - 0s 5ms/step - loss: 2053.9402 - val_loss: 1586.7881\n",
      "Epoch 85/500\n",
      "14/14 [==============================] - 0s 6ms/step - loss: 2026.1068 - val_loss: 1565.4315\n",
      "Epoch 86/500\n",
      "14/14 [==============================] - 0s 7ms/step - loss: 1998.5521 - val_loss: 1544.3298\n",
      "Epoch 87/500\n",
      "14/14 [==============================] - 0s 7ms/step - loss: 1971.2734 - val_loss: 1523.4817\n",
      "Epoch 88/500\n",
      "14/14 [==============================] - 0s 8ms/step - loss: 1944.2697 - val_loss: 1502.8845\n",
      "Epoch 89/500\n",
      "14/14 [==============================] - 0s 5ms/step - loss: 1917.5389 - val_loss: 1482.5372\n",
      "Epoch 90/500\n",
      "14/14 [==============================] - 0s 5ms/step - loss: 1891.0785 - val_loss: 1462.4375\n",
      "Epoch 91/500\n",
      "14/14 [==============================] - 0s 5ms/step - loss: 1864.8878 - val_loss: 1442.5840\n",
      "Epoch 92/500\n",
      "14/14 [==============================] - 0s 4ms/step - loss: 1838.9637 - val_loss: 1422.9746\n",
      "Epoch 93/500\n",
      "14/14 [==============================] - 0s 5ms/step - loss: 1813.3057 - val_loss: 1403.6071\n",
      "Epoch 94/500\n",
      "14/14 [==============================] - 0s 7ms/step - loss: 1787.9114 - val_loss: 1384.4810\n",
      "Epoch 95/500\n",
      "14/14 [==============================] - 0s 11ms/step - loss: 1762.7784 - val_loss: 1365.5927\n",
      "Epoch 96/500\n",
      "14/14 [==============================] - 0s 7ms/step - loss: 1737.9056 - val_loss: 1346.9421\n",
      "Epoch 97/500\n",
      "14/14 [==============================] - 0s 9ms/step - loss: 1713.2916 - val_loss: 1328.5270\n",
      "Epoch 98/500\n",
      "14/14 [==============================] - 0s 9ms/step - loss: 1688.9337 - val_loss: 1310.3456\n",
      "Epoch 99/500\n",
      "14/14 [==============================] - 0s 7ms/step - loss: 1664.8302 - val_loss: 1292.3960\n",
      "Epoch 100/500\n",
      "14/14 [==============================] - 0s 6ms/step - loss: 1640.9806 - val_loss: 1274.6771\n",
      "Epoch 101/500\n",
      "14/14 [==============================] - 0s 5ms/step - loss: 1617.3824 - val_loss: 1257.1864\n",
      "Epoch 102/500\n",
      "14/14 [==============================] - 0s 9ms/step - loss: 1594.0333 - val_loss: 1239.9227\n",
      "Epoch 103/500\n",
      "14/14 [==============================] - 0s 8ms/step - loss: 1570.9325 - val_loss: 1222.8839\n",
      "Epoch 104/500\n",
      "14/14 [==============================] - 0s 8ms/step - loss: 1548.0778 - val_loss: 1206.0691\n",
      "Epoch 105/500\n",
      "14/14 [==============================] - 0s 7ms/step - loss: 1525.4675 - val_loss: 1189.4755\n",
      "Epoch 106/500\n",
      "14/14 [==============================] - 0s 8ms/step - loss: 1503.1008 - val_loss: 1173.1022\n",
      "Epoch 107/500\n",
      "14/14 [==============================] - 0s 8ms/step - loss: 1480.9751 - val_loss: 1156.9481\n",
      "Epoch 108/500\n",
      "14/14 [==============================] - 0s 7ms/step - loss: 1459.0891 - val_loss: 1141.0110\n",
      "Epoch 109/500\n",
      "14/14 [==============================] - 0s 18ms/step - loss: 1437.4410 - val_loss: 1125.2888\n",
      "Epoch 110/500\n",
      "14/14 [==============================] - 0s 7ms/step - loss: 1416.0295 - val_loss: 1109.7808\n",
      "Epoch 111/500\n",
      "14/14 [==============================] - 0s 8ms/step - loss: 1394.8531 - val_loss: 1094.4845\n",
      "Epoch 112/500\n",
      "14/14 [==============================] - 0s 7ms/step - loss: 1373.9098 - val_loss: 1079.3988\n",
      "Epoch 113/500\n",
      "14/14 [==============================] - 0s 9ms/step - loss: 1353.1978 - val_loss: 1064.5221\n",
      "Epoch 114/500\n",
      "14/14 [==============================] - 0s 8ms/step - loss: 1332.7152 - val_loss: 1049.8522\n",
      "Epoch 115/500\n",
      "14/14 [==============================] - 0s 11ms/step - loss: 1312.4612 - val_loss: 1035.3887\n",
      "Epoch 116/500\n",
      "14/14 [==============================] - 0s 8ms/step - loss: 1292.4341 - val_loss: 1021.1289\n",
      "Epoch 117/500\n",
      "14/14 [==============================] - 0s 8ms/step - loss: 1272.6324 - val_loss: 1007.0717\n",
      "Epoch 118/500\n",
      "14/14 [==============================] - 0s 9ms/step - loss: 1253.0537 - val_loss: 993.2158\n",
      "Epoch 119/500\n",
      "14/14 [==============================] - 0s 8ms/step - loss: 1233.6980 - val_loss: 979.5590\n",
      "Epoch 120/500\n",
      "14/14 [==============================] - 0s 10ms/step - loss: 1214.5623 - val_loss: 966.1002\n",
      "Epoch 121/500\n",
      "14/14 [==============================] - 0s 10ms/step - loss: 1195.6458 - val_loss: 952.8380\n",
      "Epoch 122/500\n",
      "14/14 [==============================] - 0s 9ms/step - loss: 1176.9464 - val_loss: 939.7701\n",
      "Epoch 123/500\n",
      "14/14 [==============================] - 0s 9ms/step - loss: 1158.4626 - val_loss: 926.8954\n",
      "Epoch 124/500\n",
      "14/14 [==============================] - 0s 8ms/step - loss: 1140.1937 - val_loss: 914.2128\n",
      "Epoch 125/500\n",
      "14/14 [==============================] - 0s 8ms/step - loss: 1122.1373 - val_loss: 901.7200\n",
      "Epoch 126/500\n",
      "14/14 [==============================] - 0s 8ms/step - loss: 1104.2921 - val_loss: 889.4158\n",
      "Epoch 127/500\n",
      "14/14 [==============================] - 0s 12ms/step - loss: 1086.6566 - val_loss: 877.2993\n",
      "Epoch 128/500\n",
      "14/14 [==============================] - 0s 13ms/step - loss: 1069.2295 - val_loss: 865.3678\n",
      "Epoch 129/500\n",
      "14/14 [==============================] - 0s 15ms/step - loss: 1052.0093 - val_loss: 853.6211\n",
      "Epoch 130/500\n",
      "14/14 [==============================] - 0s 25ms/step - loss: 1034.9941 - val_loss: 842.0563\n",
      "Epoch 131/500\n",
      "14/14 [==============================] - 0s 11ms/step - loss: 1018.1826 - val_loss: 830.6727\n",
      "Epoch 132/500\n",
      "14/14 [==============================] - 0s 18ms/step - loss: 1001.5735 - val_loss: 819.4689\n",
      "Epoch 133/500\n",
      "14/14 [==============================] - 0s 12ms/step - loss: 985.1651 - val_loss: 808.4427\n",
      "Epoch 134/500\n",
      "14/14 [==============================] - 0s 21ms/step - loss: 968.9563 - val_loss: 797.5936\n",
      "Epoch 135/500\n",
      "14/14 [==============================] - 0s 14ms/step - loss: 952.9449 - val_loss: 786.9193\n",
      "Epoch 136/500\n",
      "14/14 [==============================] - 0s 17ms/step - loss: 937.1298 - val_loss: 776.4186\n",
      "Epoch 137/500\n",
      "14/14 [==============================] - 0s 12ms/step - loss: 921.5100 - val_loss: 766.0902\n",
      "Epoch 138/500\n",
      "14/14 [==============================] - 0s 13ms/step - loss: 906.0831 - val_loss: 755.9324\n",
      "Epoch 139/500\n",
      "14/14 [==============================] - 0s 11ms/step - loss: 890.8484 - val_loss: 745.9437\n",
      "Epoch 140/500\n",
      "14/14 [==============================] - 0s 15ms/step - loss: 875.8041 - val_loss: 736.1229\n",
      "Epoch 141/500\n",
      "14/14 [==============================] - 0s 14ms/step - loss: 860.9491 - val_loss: 726.4682\n",
      "Epoch 142/500\n",
      "14/14 [==============================] - 0s 20ms/step - loss: 846.2816 - val_loss: 716.9785\n",
      "Epoch 143/500\n",
      "14/14 [==============================] - 0s 11ms/step - loss: 831.8002 - val_loss: 707.6517\n",
      "Epoch 144/500\n",
      "14/14 [==============================] - 0s 14ms/step - loss: 817.5036 - val_loss: 698.4872\n",
      "Epoch 145/500\n",
      "14/14 [==============================] - 0s 8ms/step - loss: 803.3906 - val_loss: 689.4831\n",
      "Epoch 146/500\n",
      "14/14 [==============================] - 0s 6ms/step - loss: 789.4589 - val_loss: 680.6379\n",
      "Epoch 147/500\n",
      "14/14 [==============================] - 0s 5ms/step - loss: 775.7079 - val_loss: 671.9504\n",
      "Epoch 148/500\n",
      "14/14 [==============================] - 0s 6ms/step - loss: 762.1363 - val_loss: 663.4188\n",
      "Epoch 149/500\n",
      "14/14 [==============================] - 0s 6ms/step - loss: 748.7420 - val_loss: 655.0416\n",
      "Epoch 150/500\n",
      "14/14 [==============================] - 0s 6ms/step - loss: 735.5239 - val_loss: 646.8183\n",
      "Epoch 151/500\n",
      "14/14 [==============================] - 0s 9ms/step - loss: 722.4808 - val_loss: 638.7465\n",
      "Epoch 152/500\n",
      "14/14 [==============================] - 0s 12ms/step - loss: 709.6110 - val_loss: 630.8251\n",
      "Epoch 153/500\n",
      "14/14 [==============================] - 0s 9ms/step - loss: 696.9131 - val_loss: 623.0529\n",
      "Epoch 154/500\n",
      "14/14 [==============================] - 0s 6ms/step - loss: 684.3861 - val_loss: 615.4277\n",
      "Epoch 155/500\n",
      "14/14 [==============================] - 0s 7ms/step - loss: 672.0281 - val_loss: 607.9493\n",
      "Epoch 156/500\n",
      "14/14 [==============================] - 0s 6ms/step - loss: 659.8381 - val_loss: 600.6151\n",
      "Epoch 157/500\n",
      "14/14 [==============================] - 0s 5ms/step - loss: 647.8144 - val_loss: 593.4245\n",
      "Epoch 158/500\n",
      "14/14 [==============================] - 0s 7ms/step - loss: 635.9558 - val_loss: 586.3756\n",
      "Epoch 159/500\n",
      "14/14 [==============================] - 0s 8ms/step - loss: 624.2609 - val_loss: 579.4673\n",
      "Epoch 160/500\n",
      "14/14 [==============================] - 0s 6ms/step - loss: 612.7283 - val_loss: 572.6981\n",
      "Epoch 161/500\n",
      "14/14 [==============================] - 0s 7ms/step - loss: 601.3568 - val_loss: 566.0666\n",
      "Epoch 162/500\n",
      "14/14 [==============================] - 0s 6ms/step - loss: 590.1447 - val_loss: 559.5714\n",
      "Epoch 163/500\n",
      "14/14 [==============================] - 0s 6ms/step - loss: 579.0910 - val_loss: 553.2109\n",
      "Epoch 164/500\n",
      "14/14 [==============================] - 0s 6ms/step - loss: 568.1939 - val_loss: 546.9840\n",
      "Epoch 165/500\n",
      "14/14 [==============================] - 0s 6ms/step - loss: 557.4523 - val_loss: 540.8892\n",
      "Epoch 166/500\n",
      "14/14 [==============================] - 0s 6ms/step - loss: 546.8649 - val_loss: 534.9252\n",
      "Epoch 167/500\n",
      "14/14 [==============================] - 0s 6ms/step - loss: 536.4304 - val_loss: 529.0905\n",
      "Epoch 168/500\n",
      "14/14 [==============================] - 0s 6ms/step - loss: 526.1472 - val_loss: 523.3839\n",
      "Epoch 169/500\n",
      "14/14 [==============================] - 0s 6ms/step - loss: 516.0142 - val_loss: 517.8037\n",
      "Epoch 170/500\n",
      "14/14 [==============================] - 0s 6ms/step - loss: 506.0298 - val_loss: 512.3489\n",
      "Epoch 171/500\n",
      "14/14 [==============================] - 0s 6ms/step - loss: 496.1930 - val_loss: 507.0179\n",
      "Epoch 172/500\n",
      "14/14 [==============================] - 0s 6ms/step - loss: 486.5022 - val_loss: 501.8093\n",
      "Epoch 173/500\n",
      "14/14 [==============================] - 0s 7ms/step - loss: 476.9561 - val_loss: 496.7217\n",
      "Epoch 174/500\n",
      "14/14 [==============================] - 0s 6ms/step - loss: 467.5533 - val_loss: 491.7543\n",
      "Epoch 175/500\n",
      "14/14 [==============================] - 0s 6ms/step - loss: 458.2927 - val_loss: 486.9052\n",
      "Epoch 176/500\n",
      "14/14 [==============================] - 0s 5ms/step - loss: 449.1730 - val_loss: 482.1729\n",
      "Epoch 177/500\n",
      "14/14 [==============================] - 0s 5ms/step - loss: 440.1925 - val_loss: 477.5564\n",
      "Epoch 178/500\n",
      "14/14 [==============================] - 0s 12ms/step - loss: 431.3501 - val_loss: 473.0542\n",
      "Epoch 179/500\n",
      "14/14 [==============================] - 0s 8ms/step - loss: 422.6448 - val_loss: 468.6651\n",
      "Epoch 180/500\n",
      "14/14 [==============================] - 0s 8ms/step - loss: 414.0747 - val_loss: 464.3875\n",
      "Epoch 181/500\n",
      "14/14 [==============================] - 0s 9ms/step - loss: 405.6391 - val_loss: 460.2204\n",
      "Epoch 182/500\n",
      "14/14 [==============================] - 0s 9ms/step - loss: 397.3363 - val_loss: 456.1624\n",
      "Epoch 183/500\n",
      "14/14 [==============================] - 0s 8ms/step - loss: 389.1651 - val_loss: 452.2117\n",
      "Epoch 184/500\n",
      "14/14 [==============================] - 0s 11ms/step - loss: 381.1244 - val_loss: 448.3676\n",
      "Epoch 185/500\n",
      "14/14 [==============================] - 0s 8ms/step - loss: 373.2124 - val_loss: 444.6284\n",
      "Epoch 186/500\n",
      "14/14 [==============================] - 0s 6ms/step - loss: 365.4282 - val_loss: 440.9927\n",
      "Epoch 187/500\n",
      "14/14 [==============================] - 0s 5ms/step - loss: 357.7702 - val_loss: 437.4594\n",
      "Epoch 188/500\n",
      "14/14 [==============================] - 0s 5ms/step - loss: 350.2375 - val_loss: 434.0274\n",
      "Epoch 189/500\n",
      "14/14 [==============================] - 0s 7ms/step - loss: 342.8290 - val_loss: 430.6949\n",
      "Epoch 190/500\n",
      "14/14 [==============================] - 0s 9ms/step - loss: 335.5429 - val_loss: 427.4607\n",
      "Epoch 191/500\n",
      "14/14 [==============================] - 0s 8ms/step - loss: 328.3781 - val_loss: 424.3236\n",
      "Epoch 192/500\n",
      "14/14 [==============================] - 0s 7ms/step - loss: 321.3333 - val_loss: 421.2824\n",
      "Epoch 193/500\n",
      "14/14 [==============================] - 0s 7ms/step - loss: 314.4073 - val_loss: 418.3357\n",
      "Epoch 194/500\n",
      "14/14 [==============================] - 0s 5ms/step - loss: 307.5988 - val_loss: 415.4822\n",
      "Epoch 195/500\n",
      "14/14 [==============================] - 0s 7ms/step - loss: 300.9066 - val_loss: 412.7205\n",
      "Epoch 196/500\n",
      "14/14 [==============================] - 0s 7ms/step - loss: 294.3294 - val_loss: 410.0493\n",
      "Epoch 197/500\n",
      "14/14 [==============================] - 0s 7ms/step - loss: 287.8657 - val_loss: 407.4676\n",
      "Epoch 198/500\n",
      "14/14 [==============================] - 0s 6ms/step - loss: 281.5146 - val_loss: 404.9738\n",
      "Epoch 199/500\n",
      "14/14 [==============================] - 0s 16ms/step - loss: 275.2746 - val_loss: 402.5666\n",
      "Epoch 200/500\n",
      "14/14 [==============================] - 0s 8ms/step - loss: 269.1446 - val_loss: 400.2451\n",
      "Epoch 201/500\n",
      "14/14 [==============================] - 0s 8ms/step - loss: 263.1234 - val_loss: 398.0078\n",
      "Epoch 202/500\n",
      "14/14 [==============================] - 0s 11ms/step - loss: 257.2099 - val_loss: 395.8533\n",
      "Epoch 203/500\n",
      "14/14 [==============================] - 0s 6ms/step - loss: 251.4026 - val_loss: 393.7805\n",
      "Epoch 204/500\n",
      "14/14 [==============================] - 0s 5ms/step - loss: 245.7004 - val_loss: 391.7881\n",
      "Epoch 205/500\n",
      "14/14 [==============================] - 0s 7ms/step - loss: 240.1021 - val_loss: 389.8752\n",
      "Epoch 206/500\n",
      "14/14 [==============================] - 0s 6ms/step - loss: 234.6065 - val_loss: 388.0399\n",
      "Epoch 207/500\n",
      "14/14 [==============================] - 0s 6ms/step - loss: 229.2124 - val_loss: 386.2812\n",
      "Epoch 208/500\n",
      "14/14 [==============================] - 0s 7ms/step - loss: 223.9183 - val_loss: 384.5981\n",
      "Epoch 209/500\n",
      "14/14 [==============================] - 0s 6ms/step - loss: 218.7232 - val_loss: 382.9891\n",
      "Epoch 210/500\n",
      "14/14 [==============================] - 0s 6ms/step - loss: 213.6259 - val_loss: 381.4531\n",
      "Epoch 211/500\n",
      "14/14 [==============================] - 0s 7ms/step - loss: 208.6252 - val_loss: 379.9889\n",
      "Epoch 212/500\n",
      "14/14 [==============================] - 0s 7ms/step - loss: 203.7200 - val_loss: 378.5952\n",
      "Epoch 213/500\n",
      "14/14 [==============================] - 0s 8ms/step - loss: 198.9089 - val_loss: 377.2705\n",
      "Epoch 214/500\n",
      "14/14 [==============================] - 0s 7ms/step - loss: 194.1907 - val_loss: 376.0142\n",
      "Epoch 215/500\n",
      "14/14 [==============================] - 0s 13ms/step - loss: 189.5644 - val_loss: 374.8245\n",
      "Epoch 216/500\n",
      "14/14 [==============================] - 0s 8ms/step - loss: 185.0289 - val_loss: 373.7007\n",
      "Epoch 217/500\n",
      "14/14 [==============================] - 0s 5ms/step - loss: 180.5828 - val_loss: 372.6413\n",
      "Epoch 218/500\n",
      "14/14 [==============================] - 0s 5ms/step - loss: 176.2254 - val_loss: 371.6454\n",
      "Epoch 219/500\n",
      "14/14 [==============================] - 0s 5ms/step - loss: 171.9549 - val_loss: 370.7113\n",
      "Epoch 220/500\n",
      "14/14 [==============================] - 0s 7ms/step - loss: 167.7704 - val_loss: 369.8384\n",
      "Epoch 221/500\n",
      "14/14 [==============================] - 0s 7ms/step - loss: 163.6707 - val_loss: 369.0249\n",
      "Epoch 222/500\n",
      "14/14 [==============================] - 0s 7ms/step - loss: 159.6548 - val_loss: 368.2703\n",
      "Epoch 223/500\n",
      "14/14 [==============================] - 0s 5ms/step - loss: 155.7215 - val_loss: 367.5730\n",
      "Epoch 224/500\n",
      "14/14 [==============================] - 0s 6ms/step - loss: 151.8697 - val_loss: 366.9319\n",
      "Epoch 225/500\n",
      "14/14 [==============================] - 0s 7ms/step - loss: 148.0980 - val_loss: 366.3461\n",
      "Epoch 226/500\n",
      "14/14 [==============================] - 0s 7ms/step - loss: 144.4055 - val_loss: 365.8142\n",
      "Epoch 227/500\n",
      "14/14 [==============================] - 0s 6ms/step - loss: 140.7914 - val_loss: 365.3352\n",
      "Epoch 228/500\n",
      "14/14 [==============================] - 0s 6ms/step - loss: 137.2542 - val_loss: 364.9079\n",
      "Epoch 229/500\n",
      "14/14 [==============================] - 0s 6ms/step - loss: 133.7927 - val_loss: 364.5312\n",
      "Epoch 230/500\n",
      "14/14 [==============================] - 0s 5ms/step - loss: 130.4060 - val_loss: 364.2038\n",
      "Epoch 231/500\n",
      "14/14 [==============================] - 0s 5ms/step - loss: 127.0928 - val_loss: 363.9249\n",
      "Epoch 232/500\n",
      "14/14 [==============================] - 0s 8ms/step - loss: 123.8523 - val_loss: 363.6933\n",
      "Epoch 233/500\n",
      "14/14 [==============================] - 0s 6ms/step - loss: 120.6832 - val_loss: 363.5078\n",
      "Epoch 234/500\n",
      "14/14 [==============================] - 0s 6ms/step - loss: 117.5844 - val_loss: 363.3675\n",
      "Epoch 235/500\n",
      "14/14 [==============================] - 0s 5ms/step - loss: 114.5549 - val_loss: 363.2711\n",
      "Epoch 236/500\n",
      "14/14 [==============================] - 0s 7ms/step - loss: 111.5939 - val_loss: 363.2178\n",
      "Epoch 237/500\n",
      "14/14 [==============================] - 0s 7ms/step - loss: 108.6999 - val_loss: 363.2062\n",
      "Epoch 238/500\n",
      "14/14 [==============================] - 0s 7ms/step - loss: 105.5872 - val_loss: 363.3454\n",
      "Epoch 239/500\n",
      "14/14 [==============================] - 0s 7ms/step - loss: 100.7474 - val_loss: 363.5393\n",
      "Epoch 240/500\n",
      "14/14 [==============================] - 0s 7ms/step - loss: 96.9498 - val_loss: 363.8016\n",
      "Epoch 241/500\n",
      "14/14 [==============================] - 0s 7ms/step - loss: 93.4221 - val_loss: 364.1153\n",
      "Epoch 242/500\n",
      "14/14 [==============================] - 0s 6ms/step - loss: 90.1504 - val_loss: 364.4748\n",
      "Epoch 243/500\n",
      "14/14 [==============================] - 0s 5ms/step - loss: 87.0821 - val_loss: 364.8771\n",
      "Epoch 244/500\n",
      "14/14 [==============================] - 0s 6ms/step - loss: 84.1798 - val_loss: 365.3194\n",
      "Epoch 245/500\n",
      "14/14 [==============================] - 0s 5ms/step - loss: 81.4182 - val_loss: 365.7999\n",
      "Epoch 246/500\n",
      "14/14 [==============================] - 0s 5ms/step - loss: 78.7799 - val_loss: 366.3165\n",
      "Epoch 247/500\n",
      "14/14 [==============================] - 0s 6ms/step - loss: 76.2525 - val_loss: 366.8675\n",
      "Epoch 248/500\n",
      "14/14 [==============================] - 0s 8ms/step - loss: 73.8265 - val_loss: 367.4508\n",
      "Epoch 249/500\n",
      "14/14 [==============================] - 0s 7ms/step - loss: 71.4943 - val_loss: 368.0652\n",
      "Epoch 250/500\n",
      "14/14 [==============================] - 0s 6ms/step - loss: 69.2496 - val_loss: 368.7088\n",
      "Epoch 251/500\n",
      "14/14 [==============================] - 0s 5ms/step - loss: 67.0873 - val_loss: 369.3803\n",
      "Epoch 252/500\n",
      "14/14 [==============================] - 0s 6ms/step - loss: 65.0030 - val_loss: 370.0782\n",
      "Epoch 253/500\n",
      "14/14 [==============================] - 0s 6ms/step - loss: 62.9929 - val_loss: 370.8011\n",
      "Epoch 254/500\n",
      "14/14 [==============================] - 0s 5ms/step - loss: 61.0532 - val_loss: 371.5476\n",
      "Epoch 255/500\n",
      "14/14 [==============================] - 0s 5ms/step - loss: 59.1811 - val_loss: 372.3166\n",
      "Epoch 256/500\n",
      "14/14 [==============================] - 0s 5ms/step - loss: 57.3737 - val_loss: 373.1067\n",
      "Epoch 257/500\n",
      "14/14 [==============================] - 0s 5ms/step - loss: 55.6284 - val_loss: 373.9168\n",
      "Epoch 258/500\n",
      "14/14 [==============================] - 0s 6ms/step - loss: 53.9429 - val_loss: 374.7457\n",
      "Epoch 259/500\n",
      "14/14 [==============================] - 0s 6ms/step - loss: 52.3149 - val_loss: 375.5922\n",
      "Epoch 260/500\n",
      "14/14 [==============================] - 0s 5ms/step - loss: 50.7425 - val_loss: 376.4555\n",
      "Epoch 261/500\n",
      "14/14 [==============================] - 0s 6ms/step - loss: 49.2235 - val_loss: 377.3342\n",
      "Epoch 262/500\n",
      "14/14 [==============================] - 0s 5ms/step - loss: 47.7562 - val_loss: 378.2274\n",
      "Epoch 263/500\n",
      "14/14 [==============================] - 0s 5ms/step - loss: 46.3390 - val_loss: 379.1342\n",
      "Epoch 264/500\n",
      "14/14 [==============================] - 0s 4ms/step - loss: 44.9702 - val_loss: 380.0533\n",
      "Epoch 265/500\n",
      "14/14 [==============================] - 0s 5ms/step - loss: 43.6479 - val_loss: 380.9844\n",
      "Epoch 266/500\n",
      "14/14 [==============================] - 0s 5ms/step - loss: 42.3710 - val_loss: 381.9260\n",
      "Epoch 267/500\n",
      "14/14 [==============================] - 0s 5ms/step - loss: 41.1378 - val_loss: 382.8774\n",
      "Epoch 268/500\n",
      "14/14 [==============================] - 0s 6ms/step - loss: 39.9470 - val_loss: 383.8376\n",
      "Epoch 269/500\n",
      "14/14 [==============================] - 0s 5ms/step - loss: 38.7974 - val_loss: 384.8058\n",
      "Epoch 270/500\n",
      "14/14 [==============================] - 0s 5ms/step - loss: 37.6876 - val_loss: 385.7814\n",
      "Epoch 271/500\n",
      "14/14 [==============================] - 0s 4ms/step - loss: 36.6164 - val_loss: 386.7634\n",
      "Epoch 272/500\n",
      "14/14 [==============================] - 0s 5ms/step - loss: 35.5827 - val_loss: 387.7510\n",
      "Epoch 273/500\n",
      "14/14 [==============================] - 0s 4ms/step - loss: 34.5851 - val_loss: 388.7435\n",
      "Epoch 274/500\n",
      "14/14 [==============================] - 0s 5ms/step - loss: 33.6227 - val_loss: 389.7402\n",
      "Epoch 275/500\n",
      "14/14 [==============================] - 0s 6ms/step - loss: 32.6942 - val_loss: 390.7404\n",
      "Epoch 276/500\n",
      "14/14 [==============================] - 0s 6ms/step - loss: 31.7988 - val_loss: 391.7434\n",
      "Epoch 277/500\n",
      "14/14 [==============================] - 0s 9ms/step - loss: 30.9353 - val_loss: 392.7485\n",
      "Epoch 278/500\n",
      "14/14 [==============================] - 0s 6ms/step - loss: 30.1028 - val_loss: 393.7551\n",
      "Epoch 279/500\n",
      "14/14 [==============================] - 0s 6ms/step - loss: 29.3004 - val_loss: 394.7623\n",
      "Epoch 280/500\n",
      "14/14 [==============================] - 0s 4ms/step - loss: 28.5270 - val_loss: 395.7701\n",
      "Epoch 281/500\n",
      "14/14 [==============================] - 0s 6ms/step - loss: 27.7818 - val_loss: 396.7771\n",
      "Epoch 282/500\n",
      "14/14 [==============================] - 0s 5ms/step - loss: 27.0640 - val_loss: 397.7833\n",
      "Epoch 283/500\n",
      "14/14 [==============================] - 0s 5ms/step - loss: 26.3726 - val_loss: 398.7876\n",
      "Epoch 284/500\n",
      "14/14 [==============================] - 0s 5ms/step - loss: 25.7069 - val_loss: 399.7900\n",
      "Epoch 285/500\n",
      "14/14 [==============================] - 0s 5ms/step - loss: 25.0660 - val_loss: 400.7900\n",
      "Epoch 286/500\n",
      "14/14 [==============================] - 0s 5ms/step - loss: 24.4491 - val_loss: 401.7867\n",
      "Epoch 287/500\n",
      "14/14 [==============================] - 0s 6ms/step - loss: 23.8555 - val_loss: 402.7799\n",
      "Epoch 288/500\n",
      "14/14 [==============================] - 0s 6ms/step - loss: 23.2844 - val_loss: 403.7689\n",
      "Epoch 289/500\n",
      "14/14 [==============================] - 0s 5ms/step - loss: 22.7351 - val_loss: 404.7537\n",
      "Epoch 290/500\n",
      "14/14 [==============================] - 0s 6ms/step - loss: 22.2068 - val_loss: 405.7333\n",
      "Epoch 291/500\n",
      "14/14 [==============================] - 0s 7ms/step - loss: 21.6990 - val_loss: 406.7074\n",
      "Epoch 292/500\n",
      "14/14 [==============================] - 0s 5ms/step - loss: 21.2110 - val_loss: 407.6759\n",
      "Epoch 293/500\n",
      "14/14 [==============================] - 0s 5ms/step - loss: 20.7420 - val_loss: 408.6381\n",
      "Epoch 294/500\n",
      "14/14 [==============================] - 0s 5ms/step - loss: 20.2915 - val_loss: 409.5939\n",
      "Epoch 295/500\n",
      "14/14 [==============================] - 0s 5ms/step - loss: 19.8588 - val_loss: 410.5428\n",
      "Epoch 296/500\n",
      "14/14 [==============================] - 0s 5ms/step - loss: 19.4433 - val_loss: 411.4842\n",
      "Epoch 297/500\n",
      "14/14 [==============================] - 0s 5ms/step - loss: 19.0445 - val_loss: 412.4182\n",
      "Epoch 298/500\n",
      "14/14 [==============================] - 0s 6ms/step - loss: 18.6618 - val_loss: 413.3441\n",
      "Epoch 299/500\n",
      "14/14 [==============================] - 0s 5ms/step - loss: 18.2946 - val_loss: 414.2621\n",
      "Epoch 300/500\n",
      "14/14 [==============================] - 0s 5ms/step - loss: 17.9424 - val_loss: 415.1714\n",
      "Epoch 301/500\n",
      "14/14 [==============================] - 0s 5ms/step - loss: 17.6048 - val_loss: 416.0718\n",
      "Epoch 302/500\n",
      "14/14 [==============================] - 0s 5ms/step - loss: 17.2811 - val_loss: 416.9631\n",
      "Epoch 303/500\n",
      "14/14 [==============================] - 0s 4ms/step - loss: 16.9709 - val_loss: 417.8454\n",
      "Epoch 304/500\n",
      "14/14 [==============================] - 0s 5ms/step - loss: 16.6737 - val_loss: 418.7183\n",
      "Epoch 305/500\n",
      "14/14 [==============================] - 0s 6ms/step - loss: 16.3890 - val_loss: 419.5814\n",
      "Epoch 306/500\n",
      "14/14 [==============================] - 0s 5ms/step - loss: 16.1164 - val_loss: 420.4347\n",
      "Epoch 307/500\n",
      "14/14 [==============================] - 0s 8ms/step - loss: 15.8554 - val_loss: 421.2774\n",
      "Epoch 308/500\n",
      "14/14 [==============================] - 0s 6ms/step - loss: 15.6057 - val_loss: 422.1105\n",
      "Epoch 309/500\n",
      "14/14 [==============================] - 0s 6ms/step - loss: 15.3668 - val_loss: 422.9331\n",
      "Epoch 310/500\n",
      "14/14 [==============================] - 0s 5ms/step - loss: 15.1382 - val_loss: 423.7448\n",
      "Epoch 311/500\n",
      "14/14 [==============================] - 0s 5ms/step - loss: 14.9196 - val_loss: 424.5460\n",
      "Epoch 312/500\n",
      "14/14 [==============================] - 0s 5ms/step - loss: 14.7107 - val_loss: 425.3362\n",
      "Epoch 313/500\n",
      "14/14 [==============================] - 0s 7ms/step - loss: 14.5110 - val_loss: 426.1157\n",
      "Epoch 314/500\n",
      "14/14 [==============================] - 0s 8ms/step - loss: 14.3203 - val_loss: 426.8839\n",
      "Epoch 315/500\n",
      "14/14 [==============================] - 0s 6ms/step - loss: 14.1381 - val_loss: 427.6410\n",
      "Epoch 316/500\n",
      "14/14 [==============================] - 0s 5ms/step - loss: 13.9641 - val_loss: 428.3868\n",
      "Epoch 317/500\n",
      "14/14 [==============================] - 0s 5ms/step - loss: 13.7981 - val_loss: 429.1215\n",
      "Epoch 318/500\n",
      "14/14 [==============================] - 0s 5ms/step - loss: 13.6397 - val_loss: 429.8445\n",
      "Epoch 319/500\n",
      "14/14 [==============================] - 0s 5ms/step - loss: 13.4885 - val_loss: 430.5561\n",
      "Epoch 320/500\n",
      "14/14 [==============================] - 0s 5ms/step - loss: 13.3444 - val_loss: 431.2563\n",
      "Epoch 321/500\n",
      "14/14 [==============================] - 0s 5ms/step - loss: 13.2069 - val_loss: 431.9448\n",
      "Epoch 322/500\n",
      "14/14 [==============================] - 0s 5ms/step - loss: 13.0760 - val_loss: 432.6216\n",
      "Epoch 323/500\n",
      "14/14 [==============================] - 0s 5ms/step - loss: 12.9512 - val_loss: 433.2873\n",
      "Epoch 324/500\n",
      "14/14 [==============================] - 0s 5ms/step - loss: 12.8322 - val_loss: 433.9414\n",
      "Epoch 325/500\n",
      "14/14 [==============================] - 0s 5ms/step - loss: 12.7190 - val_loss: 434.5838\n",
      "Epoch 326/500\n",
      "14/14 [==============================] - 0s 4ms/step - loss: 12.6112 - val_loss: 435.2144\n",
      "Epoch 327/500\n",
      "14/14 [==============================] - 0s 6ms/step - loss: 12.5087 - val_loss: 435.8336\n",
      "Epoch 328/500\n",
      "14/14 [==============================] - 0s 6ms/step - loss: 12.4111 - val_loss: 436.4418\n",
      "Epoch 329/500\n",
      "14/14 [==============================] - 0s 5ms/step - loss: 12.3182 - val_loss: 437.0382\n",
      "Epoch 330/500\n",
      "14/14 [==============================] - 0s 5ms/step - loss: 12.2299 - val_loss: 437.6231\n",
      "Epoch 331/500\n",
      "14/14 [==============================] - 0s 5ms/step - loss: 12.1460 - val_loss: 438.1964\n",
      "Epoch 332/500\n",
      "14/14 [==============================] - 0s 5ms/step - loss: 12.0662 - val_loss: 438.7585\n",
      "Epoch 333/500\n",
      "14/14 [==============================] - 0s 12ms/step - loss: 11.9905 - val_loss: 439.3094\n",
      "Epoch 334/500\n",
      "14/14 [==============================] - 0s 5ms/step - loss: 11.9185 - val_loss: 439.8491\n",
      "Epoch 335/500\n",
      "14/14 [==============================] - 0s 6ms/step - loss: 11.8502 - val_loss: 440.3774\n",
      "Epoch 336/500\n",
      "14/14 [==============================] - 0s 8ms/step - loss: 11.7853 - val_loss: 440.8948\n",
      "Epoch 337/500\n",
      "14/14 [==============================] - 0s 6ms/step - loss: 11.7238 - val_loss: 441.4012\n",
      "Epoch 338/500\n",
      "14/14 [==============================] - 0s 5ms/step - loss: 11.6653 - val_loss: 441.8968\n",
      "Epoch 339/500\n",
      "14/14 [==============================] - 0s 5ms/step - loss: 11.6100 - val_loss: 442.3815\n",
      "Epoch 340/500\n",
      "14/14 [==============================] - 0s 6ms/step - loss: 11.5575 - val_loss: 442.8552\n",
      "Epoch 341/500\n",
      "14/14 [==============================] - 0s 6ms/step - loss: 11.5077 - val_loss: 443.3184\n",
      "Epoch 342/500\n",
      "14/14 [==============================] - 0s 5ms/step - loss: 11.4605 - val_loss: 443.7711\n",
      "Epoch 343/500\n",
      "14/14 [==============================] - 0s 6ms/step - loss: 11.4159 - val_loss: 444.2136\n",
      "Epoch 344/500\n",
      "14/14 [==============================] - 0s 5ms/step - loss: 11.3736 - val_loss: 444.6456\n",
      "Epoch 345/500\n",
      "14/14 [==============================] - 0s 7ms/step - loss: 11.3335 - val_loss: 445.0675\n",
      "Epoch 346/500\n",
      "14/14 [==============================] - 0s 7ms/step - loss: 11.2956 - val_loss: 445.4792\n",
      "Epoch 347/500\n",
      "14/14 [==============================] - 0s 6ms/step - loss: 11.2597 - val_loss: 445.8810\n",
      "Epoch 348/500\n",
      "14/14 [==============================] - 0s 6ms/step - loss: 11.2257 - val_loss: 446.2731\n",
      "Epoch 349/500\n",
      "14/14 [==============================] - 0s 6ms/step - loss: 11.1936 - val_loss: 446.6555\n",
      "Epoch 350/500\n",
      "14/14 [==============================] - 0s 4ms/step - loss: 11.1633 - val_loss: 447.0281\n",
      "Epoch 351/500\n",
      "14/14 [==============================] - 0s 13ms/step - loss: 11.1346 - val_loss: 447.3913\n",
      "Epoch 352/500\n",
      "14/14 [==============================] - 0s 5ms/step - loss: 11.1074 - val_loss: 447.7453\n",
      "Epoch 353/500\n",
      "14/14 [==============================] - 0s 6ms/step - loss: 11.0818 - val_loss: 448.0900\n",
      "Epoch 354/500\n",
      "14/14 [==============================] - 0s 6ms/step - loss: 11.0576 - val_loss: 448.4264\n",
      "Epoch 355/500\n",
      "14/14 [==============================] - 0s 5ms/step - loss: 11.0347 - val_loss: 448.7532\n",
      "Epoch 356/500\n",
      "14/14 [==============================] - 0s 5ms/step - loss: 11.0131 - val_loss: 449.0713\n",
      "Epoch 357/500\n",
      "14/14 [==============================] - 0s 6ms/step - loss: 10.9927 - val_loss: 449.3808\n",
      "Epoch 358/500\n",
      "14/14 [==============================] - 0s 6ms/step - loss: 10.9735 - val_loss: 449.6821\n",
      "Epoch 359/500\n",
      "14/14 [==============================] - 0s 6ms/step - loss: 10.9553 - val_loss: 449.9749\n",
      "Epoch 360/500\n",
      "14/14 [==============================] - 0s 6ms/step - loss: 10.9382 - val_loss: 450.2598\n",
      "Epoch 361/500\n",
      "14/14 [==============================] - 0s 6ms/step - loss: 10.9220 - val_loss: 450.5367\n",
      "Epoch 362/500\n",
      "14/14 [==============================] - 0s 6ms/step - loss: 10.9068 - val_loss: 450.8051\n",
      "Epoch 363/500\n",
      "14/14 [==============================] - 0s 6ms/step - loss: 10.8924 - val_loss: 451.0662\n",
      "Epoch 364/500\n",
      "14/14 [==============================] - 0s 6ms/step - loss: 10.8789 - val_loss: 451.3203\n",
      "Epoch 365/500\n",
      "14/14 [==============================] - 0s 5ms/step - loss: 10.8661 - val_loss: 451.5663\n",
      "Epoch 366/500\n",
      "14/14 [==============================] - 0s 5ms/step - loss: 10.8540 - val_loss: 451.8049\n",
      "Epoch 367/500\n",
      "14/14 [==============================] - 0s 5ms/step - loss: 10.8427 - val_loss: 452.0369\n",
      "Epoch 368/500\n",
      "14/14 [==============================] - 0s 6ms/step - loss: 10.8320 - val_loss: 452.2619\n",
      "Epoch 369/500\n",
      "14/14 [==============================] - 0s 5ms/step - loss: 10.8220 - val_loss: 452.4800\n",
      "Epoch 370/500\n",
      "14/14 [==============================] - 0s 6ms/step - loss: 10.8125 - val_loss: 452.6912\n",
      "Epoch 371/500\n",
      "14/14 [==============================] - 0s 6ms/step - loss: 10.8036 - val_loss: 452.8960\n",
      "Epoch 372/500\n",
      "14/14 [==============================] - 0s 6ms/step - loss: 10.7952 - val_loss: 453.0947\n",
      "Epoch 373/500\n",
      "14/14 [==============================] - 0s 6ms/step - loss: 10.7872 - val_loss: 453.2869\n",
      "Epoch 374/500\n",
      "14/14 [==============================] - 0s 11ms/step - loss: 10.7798 - val_loss: 453.4729\n",
      "Epoch 375/500\n",
      "14/14 [==============================] - 0s 6ms/step - loss: 10.7727 - val_loss: 453.6527\n",
      "Epoch 376/500\n",
      "14/14 [==============================] - 0s 6ms/step - loss: 10.7662 - val_loss: 453.8268\n",
      "Epoch 377/500\n",
      "14/14 [==============================] - 0s 6ms/step - loss: 10.7600 - val_loss: 453.9952\n",
      "Epoch 378/500\n",
      "14/14 [==============================] - 0s 7ms/step - loss: 10.7541 - val_loss: 454.1584\n",
      "Epoch 379/500\n",
      "14/14 [==============================] - 0s 9ms/step - loss: 10.7486 - val_loss: 454.3158\n",
      "Epoch 380/500\n",
      "14/14 [==============================] - 0s 7ms/step - loss: 10.7435 - val_loss: 454.4680\n",
      "Epoch 381/500\n",
      "14/14 [==============================] - 0s 11ms/step - loss: 10.7386 - val_loss: 454.6153\n",
      "Epoch 382/500\n",
      "14/14 [==============================] - 0s 8ms/step - loss: 10.7340 - val_loss: 454.7573\n",
      "Epoch 383/500\n",
      "14/14 [==============================] - 0s 8ms/step - loss: 10.7297 - val_loss: 454.8943\n",
      "Epoch 384/500\n",
      "14/14 [==============================] - 0s 7ms/step - loss: 10.7257 - val_loss: 455.0270\n",
      "Epoch 385/500\n",
      "14/14 [==============================] - 0s 8ms/step - loss: 10.7219 - val_loss: 455.1545\n",
      "Epoch 386/500\n",
      "14/14 [==============================] - 0s 8ms/step - loss: 10.7183 - val_loss: 455.2780\n",
      "Epoch 387/500\n",
      "14/14 [==============================] - 0s 6ms/step - loss: 10.7149 - val_loss: 455.3972\n",
      "Epoch 388/500\n",
      "14/14 [==============================] - 0s 6ms/step - loss: 10.7118 - val_loss: 455.5113\n",
      "Epoch 389/500\n",
      "14/14 [==============================] - 0s 8ms/step - loss: 10.7088 - val_loss: 455.6221\n",
      "Epoch 390/500\n",
      "14/14 [==============================] - 0s 7ms/step - loss: 10.7060 - val_loss: 455.7287\n",
      "Epoch 391/500\n",
      "14/14 [==============================] - 0s 13ms/step - loss: 10.7034 - val_loss: 455.8312\n",
      "Epoch 392/500\n",
      "14/14 [==============================] - 0s 7ms/step - loss: 10.7009 - val_loss: 455.9297\n",
      "Epoch 393/500\n",
      "14/14 [==============================] - 0s 10ms/step - loss: 10.6986 - val_loss: 456.0251\n",
      "Epoch 394/500\n",
      "14/14 [==============================] - 0s 6ms/step - loss: 10.6964 - val_loss: 456.1165\n",
      "Epoch 395/500\n",
      "14/14 [==============================] - 0s 7ms/step - loss: 10.6943 - val_loss: 456.2046\n",
      "Epoch 396/500\n",
      "14/14 [==============================] - 0s 9ms/step - loss: 10.6924 - val_loss: 456.2893\n",
      "Epoch 397/500\n",
      "14/14 [==============================] - 0s 6ms/step - loss: 10.6906 - val_loss: 456.3704\n",
      "Epoch 398/500\n",
      "14/14 [==============================] - 0s 6ms/step - loss: 10.6889 - val_loss: 456.4487\n",
      "Epoch 399/500\n",
      "14/14 [==============================] - 0s 8ms/step - loss: 10.6873 - val_loss: 456.5238\n",
      "Epoch 400/500\n",
      "14/14 [==============================] - 0s 8ms/step - loss: 10.6858 - val_loss: 456.5959\n",
      "Epoch 401/500\n",
      "14/14 [==============================] - 0s 7ms/step - loss: 10.6844 - val_loss: 456.6651\n",
      "Epoch 402/500\n",
      "14/14 [==============================] - 0s 7ms/step - loss: 10.6831 - val_loss: 456.7317\n",
      "Epoch 403/500\n",
      "14/14 [==============================] - 0s 6ms/step - loss: 10.6818 - val_loss: 456.7956\n",
      "Epoch 404/500\n",
      "14/14 [==============================] - 0s 7ms/step - loss: 10.6807 - val_loss: 456.8568\n",
      "Epoch 405/500\n",
      "14/14 [==============================] - 0s 6ms/step - loss: 10.6796 - val_loss: 456.9156\n",
      "Epoch 406/500\n",
      "14/14 [==============================] - 0s 5ms/step - loss: 10.6786 - val_loss: 456.9719\n",
      "Epoch 407/500\n",
      "14/14 [==============================] - 0s 5ms/step - loss: 10.6776 - val_loss: 457.0256\n",
      "Epoch 408/500\n",
      "14/14 [==============================] - 0s 5ms/step - loss: 10.6767 - val_loss: 457.0773\n",
      "Epoch 409/500\n",
      "14/14 [==============================] - 0s 5ms/step - loss: 10.6759 - val_loss: 457.1271\n",
      "Epoch 410/500\n",
      "14/14 [==============================] - 0s 11ms/step - loss: 10.6751 - val_loss: 457.1746\n",
      "Epoch 411/500\n",
      "14/14 [==============================] - 0s 6ms/step - loss: 10.6744 - val_loss: 457.2203\n",
      "Epoch 412/500\n",
      "14/14 [==============================] - 0s 5ms/step - loss: 10.6737 - val_loss: 457.2634\n",
      "Epoch 413/500\n",
      "14/14 [==============================] - 0s 5ms/step - loss: 10.6731 - val_loss: 457.3053\n",
      "Epoch 414/500\n",
      "14/14 [==============================] - 0s 5ms/step - loss: 10.6724 - val_loss: 457.3452\n",
      "Epoch 415/500\n",
      "14/14 [==============================] - 0s 5ms/step - loss: 10.6719 - val_loss: 457.3828\n",
      "Epoch 416/500\n",
      "14/14 [==============================] - 0s 6ms/step - loss: 10.6714 - val_loss: 457.4194\n",
      "Epoch 417/500\n",
      "14/14 [==============================] - 0s 7ms/step - loss: 10.6708 - val_loss: 457.4539\n",
      "Epoch 418/500\n",
      "14/14 [==============================] - 0s 7ms/step - loss: 10.6704 - val_loss: 457.4869\n",
      "Epoch 419/500\n",
      "14/14 [==============================] - 0s 8ms/step - loss: 10.6700 - val_loss: 457.5183\n",
      "Epoch 420/500\n",
      "14/14 [==============================] - 0s 7ms/step - loss: 10.6697 - val_loss: 457.5484\n",
      "Epoch 421/500\n",
      "14/14 [==============================] - 0s 8ms/step - loss: 10.6693 - val_loss: 457.5773\n",
      "Epoch 422/500\n",
      "14/14 [==============================] - 0s 9ms/step - loss: 10.6690 - val_loss: 457.6044\n",
      "Epoch 423/500\n",
      "14/14 [==============================] - 0s 14ms/step - loss: 10.6686 - val_loss: 457.6305\n",
      "Epoch 424/500\n",
      "14/14 [==============================] - 0s 14ms/step - loss: 10.6684 - val_loss: 457.6552\n",
      "Epoch 425/500\n",
      "14/14 [==============================] - 0s 8ms/step - loss: 10.6681 - val_loss: 457.6789\n",
      "Epoch 426/500\n",
      "14/14 [==============================] - 0s 15ms/step - loss: 10.6679 - val_loss: 457.7014\n",
      "Epoch 427/500\n",
      "14/14 [==============================] - 0s 7ms/step - loss: 10.6677 - val_loss: 457.7229\n",
      "Epoch 428/500\n",
      "14/14 [==============================] - 0s 6ms/step - loss: 10.6675 - val_loss: 457.7438\n",
      "Epoch 429/500\n",
      "14/14 [==============================] - 0s 5ms/step - loss: 10.6673 - val_loss: 457.7627\n",
      "Epoch 430/500\n",
      "14/14 [==============================] - 0s 5ms/step - loss: 10.6672 - val_loss: 457.7813\n",
      "Epoch 431/500\n",
      "14/14 [==============================] - 0s 6ms/step - loss: 10.6670 - val_loss: 457.7988\n",
      "Epoch 432/500\n",
      "14/14 [==============================] - 0s 6ms/step - loss: 10.6669 - val_loss: 457.8150\n",
      "Epoch 433/500\n",
      "14/14 [==============================] - 0s 6ms/step - loss: 10.6668 - val_loss: 457.8307\n",
      "Epoch 434/500\n",
      "14/14 [==============================] - 0s 6ms/step - loss: 10.6667 - val_loss: 457.8456\n",
      "Epoch 435/500\n",
      "14/14 [==============================] - 0s 6ms/step - loss: 10.6666 - val_loss: 457.8600\n",
      "Epoch 436/500\n",
      "14/14 [==============================] - 0s 7ms/step - loss: 10.6665 - val_loss: 457.8735\n",
      "Epoch 437/500\n",
      "14/14 [==============================] - 0s 6ms/step - loss: 10.6665 - val_loss: 457.8865\n",
      "Epoch 438/500\n",
      "14/14 [==============================] - 0s 7ms/step - loss: 10.6664 - val_loss: 457.8984\n",
      "Epoch 439/500\n",
      "14/14 [==============================] - 0s 6ms/step - loss: 10.6664 - val_loss: 457.9098\n",
      "Epoch 440/500\n",
      "14/14 [==============================] - 0s 6ms/step - loss: 10.6664 - val_loss: 457.9208\n",
      "Epoch 441/500\n",
      "14/14 [==============================] - 0s 6ms/step - loss: 10.6663 - val_loss: 457.9312\n",
      "Epoch 442/500\n",
      "14/14 [==============================] - 0s 6ms/step - loss: 10.6664 - val_loss: 457.9409\n",
      "Epoch 443/500\n",
      "14/14 [==============================] - 0s 5ms/step - loss: 10.6663 - val_loss: 457.9496\n",
      "Epoch 444/500\n",
      "14/14 [==============================] - 0s 6ms/step - loss: 10.6663 - val_loss: 457.9583\n",
      "Epoch 445/500\n",
      "14/14 [==============================] - 0s 13ms/step - loss: 10.6664 - val_loss: 457.9662\n",
      "Epoch 446/500\n",
      "14/14 [==============================] - 0s 7ms/step - loss: 10.6664 - val_loss: 457.9742\n",
      "Epoch 447/500\n",
      "14/14 [==============================] - 0s 10ms/step - loss: 10.6664 - val_loss: 457.9813\n",
      "Epoch 448/500\n",
      "14/14 [==============================] - 0s 9ms/step - loss: 10.6665 - val_loss: 457.9881\n",
      "Epoch 449/500\n",
      "14/14 [==============================] - 0s 8ms/step - loss: 10.6666 - val_loss: 457.9944\n",
      "Epoch 450/500\n",
      "14/14 [==============================] - 0s 8ms/step - loss: 10.6666 - val_loss: 458.0006\n",
      "Epoch 451/500\n",
      "14/14 [==============================] - 0s 6ms/step - loss: 10.6667 - val_loss: 458.0063\n",
      "Epoch 452/500\n",
      "14/14 [==============================] - 0s 6ms/step - loss: 10.6668 - val_loss: 458.0117\n",
      "Epoch 453/500\n",
      "14/14 [==============================] - 0s 6ms/step - loss: 10.6668 - val_loss: 458.0169\n",
      "Epoch 454/500\n",
      "14/14 [==============================] - 0s 6ms/step - loss: 10.6669 - val_loss: 458.0219\n",
      "Epoch 455/500\n",
      "14/14 [==============================] - 0s 6ms/step - loss: 10.6670 - val_loss: 458.0260\n",
      "Epoch 456/500\n",
      "14/14 [==============================] - 0s 6ms/step - loss: 10.6671 - val_loss: 458.0306\n",
      "Epoch 457/500\n",
      "14/14 [==============================] - 0s 5ms/step - loss: 10.6672 - val_loss: 458.0341\n",
      "Epoch 458/500\n",
      "14/14 [==============================] - 0s 6ms/step - loss: 10.6673 - val_loss: 458.0379\n",
      "Epoch 459/500\n",
      "14/14 [==============================] - 0s 6ms/step - loss: 10.6674 - val_loss: 458.0415\n",
      "Epoch 460/500\n",
      "14/14 [==============================] - 0s 6ms/step - loss: 10.6675 - val_loss: 458.0446\n",
      "Epoch 461/500\n",
      "14/14 [==============================] - 0s 6ms/step - loss: 10.6676 - val_loss: 458.0475\n",
      "Epoch 462/500\n",
      "14/14 [==============================] - 0s 11ms/step - loss: 10.6677 - val_loss: 458.0501\n",
      "Epoch 463/500\n",
      "14/14 [==============================] - 0s 6ms/step - loss: 10.6678 - val_loss: 458.0527\n",
      "Epoch 464/500\n",
      "14/14 [==============================] - 0s 6ms/step - loss: 10.6679 - val_loss: 458.0549\n",
      "Epoch 465/500\n",
      "14/14 [==============================] - 0s 6ms/step - loss: 10.6680 - val_loss: 458.0567\n",
      "Epoch 466/500\n",
      "14/14 [==============================] - 0s 6ms/step - loss: 10.6682 - val_loss: 458.0589\n",
      "Epoch 467/500\n",
      "14/14 [==============================] - 0s 6ms/step - loss: 10.6683 - val_loss: 458.0602\n",
      "Epoch 468/500\n",
      "14/14 [==============================] - 0s 9ms/step - loss: 10.6684 - val_loss: 458.0621\n",
      "Epoch 469/500\n",
      "14/14 [==============================] - 0s 5ms/step - loss: 10.6686 - val_loss: 458.0630\n",
      "Epoch 470/500\n",
      "14/14 [==============================] - 0s 6ms/step - loss: 10.6687 - val_loss: 458.0648\n",
      "Epoch 471/500\n",
      "14/14 [==============================] - 0s 5ms/step - loss: 10.6689 - val_loss: 458.0664\n",
      "Epoch 472/500\n",
      "14/14 [==============================] - 0s 5ms/step - loss: 10.6690 - val_loss: 458.0675\n",
      "Epoch 473/500\n",
      "14/14 [==============================] - 0s 6ms/step - loss: 10.6691 - val_loss: 458.0682\n",
      "Epoch 474/500\n",
      "14/14 [==============================] - 0s 6ms/step - loss: 10.6693 - val_loss: 458.0694\n",
      "Epoch 475/500\n",
      "14/14 [==============================] - 0s 5ms/step - loss: 10.6694 - val_loss: 458.0702\n",
      "Epoch 476/500\n",
      "14/14 [==============================] - 0s 5ms/step - loss: 10.6696 - val_loss: 458.0710\n",
      "Epoch 477/500\n",
      "14/14 [==============================] - 0s 5ms/step - loss: 10.6697 - val_loss: 458.0718\n",
      "Epoch 478/500\n",
      "14/14 [==============================] - 0s 5ms/step - loss: 10.6699 - val_loss: 458.0724\n",
      "Epoch 479/500\n",
      "14/14 [==============================] - 0s 6ms/step - loss: 10.6700 - val_loss: 458.0731\n",
      "Epoch 480/500\n",
      "14/14 [==============================] - 0s 6ms/step - loss: 10.6701 - val_loss: 458.0735\n",
      "Epoch 481/500\n",
      "14/14 [==============================] - 0s 10ms/step - loss: 10.6703 - val_loss: 458.0737\n",
      "Epoch 482/500\n",
      "14/14 [==============================] - 0s 8ms/step - loss: 10.6705 - val_loss: 458.0740\n",
      "Epoch 483/500\n",
      "14/14 [==============================] - 0s 10ms/step - loss: 10.6706 - val_loss: 458.0744\n",
      "Epoch 484/500\n",
      "14/14 [==============================] - 0s 9ms/step - loss: 10.6707 - val_loss: 458.0744\n",
      "Epoch 485/500\n",
      "14/14 [==============================] - 0s 5ms/step - loss: 10.6709 - val_loss: 458.0744\n",
      "Epoch 486/500\n",
      "14/14 [==============================] - 0s 5ms/step - loss: 10.6711 - val_loss: 458.0745\n",
      "Epoch 487/500\n",
      "14/14 [==============================] - 0s 6ms/step - loss: 10.6712 - val_loss: 458.0745\n",
      "Epoch 488/500\n",
      "14/14 [==============================] - 0s 5ms/step - loss: 10.6714 - val_loss: 458.0745\n",
      "Epoch 489/500\n",
      "14/14 [==============================] - 0s 6ms/step - loss: 10.6716 - val_loss: 458.0745\n",
      "Epoch 490/500\n",
      "14/14 [==============================] - 0s 6ms/step - loss: 10.6718 - val_loss: 458.0747\n",
      "Epoch 491/500\n",
      "14/14 [==============================] - 0s 5ms/step - loss: 10.6719 - val_loss: 458.0746\n",
      "Epoch 492/500\n",
      "14/14 [==============================] - 0s 5ms/step - loss: 10.6720 - val_loss: 458.0746\n",
      "Epoch 493/500\n",
      "14/14 [==============================] - 0s 5ms/step - loss: 10.6722 - val_loss: 458.0746\n",
      "Epoch 494/500\n",
      "14/14 [==============================] - 0s 5ms/step - loss: 10.6724 - val_loss: 458.0745\n",
      "Epoch 495/500\n",
      "14/14 [==============================] - 0s 6ms/step - loss: 10.6725 - val_loss: 458.0742\n",
      "Epoch 496/500\n",
      "14/14 [==============================] - 0s 5ms/step - loss: 10.6727 - val_loss: 458.0739\n",
      "Epoch 497/500\n",
      "14/14 [==============================] - 0s 5ms/step - loss: 10.6728 - val_loss: 458.0737\n",
      "Epoch 498/500\n",
      "14/14 [==============================] - 0s 10ms/step - loss: 10.6730 - val_loss: 458.0736\n",
      "Epoch 499/500\n",
      "14/14 [==============================] - 0s 6ms/step - loss: 10.6732 - val_loss: 458.0733\n",
      "Epoch 500/500\n",
      "14/14 [==============================] - 0s 6ms/step - loss: 10.6733 - val_loss: 458.0731\n"
     ]
    }
   ],
   "source": [
    "C0 = tf.Variable(88.1552, name=\"C0\", trainable=True, dtype=tf.float32)\n",
    "K0 = tf.Variable(-0.0026, name=\"K0\", trainable=True, dtype=tf.float32)\n",
    "K1 = tf.Variable(-0.0004, name=\"K1\", trainable=True, dtype=tf.float32)\n",
    "a = tf.Variable(0.0000, name=\"a\", trainable=True, dtype=tf.float32)\n",
    "b = tf.Variable(0.0102, name=\"b\", trainable=True, dtype=tf.float32)\n",
    "c = tf.Variable(2.8734, name=\"c\", trainable=True, dtype=tf.float32)\n",
    "\n",
    "splitr = 0.8\n",
    "\n",
    "\n",
    "def loss_fn(y_true, y_pred):\n",
    "    squared_difference = tf.square(y_true[:, 0] - y_pred[:, 0])\n",
    "    #squared_difference2 = tf.square(y_true[:, 2]-y_pred[:, 2])\n",
    "    #squared_difference1 = tf.square(y_true[:, 1]-y_pred[:, 1])\n",
    "    epsilon = 1\n",
    "    squared_difference3 = tf.square(\n",
    "        y_pred[:, 1] - (\n",
    "            y_pred[:, 0] * (\n",
    "                K0 - K1 * (\n",
    "                    9 * a * tf.math.log((y_pred[:, 0] + epsilon) / C0) / (K0 - K1 * c)**2 +\n",
    "                    4 * b * tf.math.log((y_pred[:, 0] + epsilon) / C0) / (K0 - K1 * c) + c\n",
    "                )\n",
    "            )\n",
    "        )\n",
    "    )\n",
    "    return tf.reduce_mean(squared_difference, axis=-1) + 0.2*tf.reduce_mean(squared_difference3, axis=-1)\n",
    "model = Sequential()\n",
    "model.add(LSTM(100, input_shape=(trainX.shape[1], trainX.shape[2])))\n",
    "model.add(Dense(60))\n",
    "model.compile(loss=loss_fn, optimizer='adam')\n",
    "history = model.fit(trainX[:int(splitr*trainX.shape[0])], trainy[:int(splitr*trainX.shape[0])], epochs=500, batch_size=64, validation_data=(trainX[int(splitr*trainX.shape[0]):trainX.shape[0]], trainy[int(splitr*trainX.shape[0]):trainX.shape[0]]), shuffle=False)"
   ]
  },
  {
   "cell_type": "code",
   "execution_count": 19,
   "metadata": {
    "colab": {
     "base_uri": "https://localhost:8080/"
    },
    "id": "yJL101rPyuoT",
    "outputId": "239ff2b1-c186-423a-d316-939dfdd7c793"
   },
   "outputs": [
    {
     "name": "stdout",
     "output_type": "stream",
     "text": [
      "1/1 [==============================] - 0s 413ms/step\n"
     ]
    }
   ],
   "source": [
    "forecast_without_mc = forecastX\n",
    "yhat_without_mc = model.predict(forecast_without_mc) # Step Ahead Prediction\n",
    "forecast_without_mc = forecast_without_mc.reshape((forecast_without_mc.shape[0], forecast_without_mc.shape[2])) # Historical Input"
   ]
  },
  {
   "cell_type": "code",
   "execution_count": 20,
   "metadata": {
    "colab": {
     "base_uri": "https://localhost:8080/"
    },
    "id": "g9dQELcJ8wbp",
    "outputId": "4dc7671b-b1a8-48d5-8744-a86f98446109"
   },
   "outputs": [
    {
     "data": {
      "text/plain": [
       "(1, 1, 251)"
      ]
     },
     "execution_count": 20,
     "metadata": {},
     "output_type": "execute_result"
    }
   ],
   "source": [
    "forecastX.shape"
   ]
  },
  {
   "cell_type": "code",
   "execution_count": 21,
   "metadata": {
    "colab": {
     "base_uri": "https://localhost:8080/"
    },
    "id": "IS2kyIKG1Kbr",
    "outputId": "f31b3485-8e26-452f-9298-ea8bf7e80ad1"
   },
   "outputs": [
    {
     "data": {
      "text/plain": [
       "(1, 251)"
      ]
     },
     "execution_count": 21,
     "metadata": {},
     "output_type": "execute_result"
    }
   ],
   "source": [
    "forecast_without_mc.shape"
   ]
  },
  {
   "cell_type": "code",
   "execution_count": 22,
   "metadata": {
    "id": "0u6VIzaDyuoT"
   },
   "outputs": [],
   "source": [
    "inv_yhat_without_mc = np.concatenate((forecast_without_mc, yhat_without_mc), axis=1) # Concatenation of predicted values with Historical Data\n",
    "#inv_yhat_without_mc = scaler.inverse_transform(inv_yhat_without_mc) # Transform labels back to original encoding"
   ]
  },
  {
   "cell_type": "code",
   "execution_count": 23,
   "metadata": {
    "colab": {
     "base_uri": "https://localhost:8080/"
    },
    "id": "EUEcw0LX07oU",
    "outputId": "cfc32397-9c37-4b43-d087-584bb31c3dcc"
   },
   "outputs": [
    {
     "data": {
      "text/plain": [
       "(1, 311)"
      ]
     },
     "execution_count": 23,
     "metadata": {},
     "output_type": "execute_result"
    }
   ],
   "source": [
    "inv_yhat_without_mc.shape"
   ]
  },
  {
   "cell_type": "code",
   "execution_count": 24,
   "metadata": {
    "id": "31OWVbSh_305"
   },
   "outputs": [],
   "source": [
    "fforecast = inv_yhat_without_mc[:,-300:]"
   ]
  },
  {
   "cell_type": "code",
   "execution_count": 25,
   "metadata": {},
   "outputs": [
    {
     "data": {
      "text/plain": [
       "(1, 300)"
      ]
     },
     "execution_count": 25,
     "metadata": {},
     "output_type": "execute_result"
    }
   ],
   "source": [
    "fforecast.shape"
   ]
  },
  {
   "cell_type": "code",
   "execution_count": 26,
   "metadata": {
    "id": "BlpGH2FOAiRF"
   },
   "outputs": [],
   "source": [
    "final_forecast = fforecast[:,0:300:3]"
   ]
  },
  {
   "cell_type": "code",
   "execution_count": 27,
   "metadata": {},
   "outputs": [
    {
     "data": {
      "text/plain": [
       "(1, 300)"
      ]
     },
     "execution_count": 27,
     "metadata": {},
     "output_type": "execute_result"
    }
   ],
   "source": [
    "fforecast.shape"
   ]
  },
  {
   "cell_type": "code",
   "execution_count": 28,
   "metadata": {
    "id": "CXkgkj_LBk_t"
   },
   "outputs": [],
   "source": [
    "# code to replace all negative value with 0\n",
    "final_forecast[final_forecast<0] = 0"
   ]
  },
  {
   "cell_type": "code",
   "execution_count": 29,
   "metadata": {},
   "outputs": [
    {
     "data": {
      "text/plain": [
       "array([[71.07381886, 71.06485528, 71.05589169, 71.0469281 , 71.03796452,\n",
       "        71.02900093, 71.02003735, 71.01107376, 71.00211018, 70.99314659,\n",
       "        70.98418301, 70.97521942, 70.96625584, 70.95729225, 70.94832866,\n",
       "        70.93936508, 70.93040149, 70.92143791, 70.91247432, 70.90351074,\n",
       "        70.89488796, 70.88648459, 70.87808123, 70.86967787, 70.86127451,\n",
       "        70.85287115, 70.84446779, 70.83606443, 70.82766106, 70.8192577 ,\n",
       "        70.81085434, 70.80245098, 70.79404762, 70.78564426, 70.7772409 ,\n",
       "        70.76883754, 70.76043417, 70.75203081, 70.74362745, 70.73522409,\n",
       "        70.72682073, 70.71841737, 70.71001401, 70.70161064, 70.69320728,\n",
       "        70.68480392, 70.67640056, 74.5459384 , 74.445098  , 74.3442577 ,\n",
       "        74.2434174 , 74.1377918 , 74.0285481 , 73.9193044 , 73.8100607 ,\n",
       "        73.700817  , 73.5915733 , 73.4823296 , 73.3730859 , 73.2638422 ,\n",
       "        73.1545985 , 73.0453548 , 72.9361111 , 72.8054902 , 72.6643137 ,\n",
       "        72.5231373 , 72.3819608 , 72.2407843 , 72.0996078 , 71.9584314 ,\n",
       "        71.8172549 , 71.6760784 , 71.534902  , 72.5410385 ,  0.10867026,\n",
       "         0.08385991,  0.        ,  0.21000062,  0.        ,  0.        ,\n",
       "        64.88282013,  0.        ,  0.21227743,  0.2956785 ,  0.        ,\n",
       "         0.        ,  0.        ,  0.        ,  0.        ,  0.87252134,\n",
       "         0.        ,  0.23533444,  0.        ,  0.10760771,  0.07826403,\n",
       "         0.        ,  0.35342345,  0.46102813,  0.        ,  0.11627189]])"
      ]
     },
     "execution_count": 29,
     "metadata": {},
     "output_type": "execute_result"
    }
   ],
   "source": [
    "final_forecast"
   ]
  },
  {
   "cell_type": "code",
   "execution_count": 30,
   "metadata": {},
   "outputs": [
    {
     "data": {
      "text/plain": [
       "(1, 100)"
      ]
     },
     "execution_count": 30,
     "metadata": {},
     "output_type": "execute_result"
    }
   ],
   "source": [
    "final_forecast.shape"
   ]
  },
  {
   "cell_type": "code",
   "execution_count": 31,
   "metadata": {},
   "outputs": [
    {
     "data": {
      "text/plain": [
       "(100,)"
      ]
     },
     "execution_count": 31,
     "metadata": {},
     "output_type": "execute_result"
    }
   ],
   "source": [
    "test.shape"
   ]
  },
  {
   "cell_type": "code",
   "execution_count": 32,
   "metadata": {},
   "outputs": [],
   "source": [
    "training_set = np.array(training_set)\n",
    "test = np.array(test)\n",
    "final_forecast = np.array(final_forecast.squeeze(0))"
   ]
  },
  {
   "cell_type": "code",
   "execution_count": 33,
   "metadata": {},
   "outputs": [
    {
     "data": {
      "text/plain": [
       "array([68.02210551, 68.01743697, 68.01276844, 68.00809991, 68.00343137,\n",
       "       67.99876284, 67.9940943 , 67.98942577, 67.98475724, 67.9800887 ,\n",
       "       67.97542017, 67.97075163, 67.9660831 , 67.96141457, 67.95674603,\n",
       "       67.9520775 , 67.94740896, 67.94274043, 67.9380719 , 67.93340336,\n",
       "       67.92873483, 67.92406629, 67.91939776, 67.91472923, 67.91006069,\n",
       "       67.90539216, 67.90072362, 67.89605509, 67.89138655, 67.88671802,\n",
       "       67.88204949, 67.87738095, 67.87271242, 67.86804388, 67.86337535,\n",
       "       67.85870682, 67.85403828, 67.84936975, 67.84470121, 67.84003268,\n",
       "       67.83536415, 67.83069561, 67.82602708, 67.82135854, 67.81669001,\n",
       "       67.81202148, 67.80735294, 67.80268441, 67.79603175, 67.78669468,\n",
       "       67.77735761, 67.76802054, 67.75868347, 67.74934641, 67.74000934,\n",
       "       67.73067227, 67.7213352 , 67.71199813, 67.70266106, 67.693324  ,\n",
       "       67.68398693, 67.67464986, 67.66531279, 67.65597572, 67.64663866,\n",
       "       67.63730159, 67.62796452, 67.61862745, 67.60929038, 67.59995331,\n",
       "       67.59061625, 67.58127918, 67.57194211, 67.56260504, 67.55326797,\n",
       "       67.54393091, 67.53459384, 67.52525677, 67.5159197 , 67.50658263,\n",
       "       67.49724556, 67.4879085 , 67.47857143, 67.46923436, 67.45989729,\n",
       "       67.45056022, 67.44122316, 67.43188609, 67.42254902, 67.41321195,\n",
       "       67.40387488, 67.39453782, 67.38520075, 67.37586368, 67.36652661,\n",
       "       67.35718954, 67.34785247, 67.33851541, 67.32917834, 67.31984127])"
      ]
     },
     "execution_count": 33,
     "metadata": {},
     "output_type": "execute_result"
    }
   ],
   "source": [
    "test"
   ]
  },
  {
   "cell_type": "code",
   "execution_count": 34,
   "metadata": {},
   "outputs": [
    {
     "data": {
      "text/plain": [
       "(100,)"
      ]
     },
     "execution_count": 34,
     "metadata": {},
     "output_type": "execute_result"
    }
   ],
   "source": [
    "test.shape"
   ]
  },
  {
   "cell_type": "code",
   "execution_count": 35,
   "metadata": {},
   "outputs": [
    {
     "data": {
      "text/plain": [
       "(100,)"
      ]
     },
     "execution_count": 35,
     "metadata": {},
     "output_type": "execute_result"
    }
   ],
   "source": [
    "final_forecast.shape"
   ]
  },
  {
   "cell_type": "code",
   "execution_count": 36,
   "metadata": {},
   "outputs": [
    {
     "data": {
      "text/plain": [
       "(100,)"
      ]
     },
     "execution_count": 36,
     "metadata": {},
     "output_type": "execute_result"
    }
   ],
   "source": [
    "test.shape"
   ]
  },
  {
   "cell_type": "code",
   "execution_count": 37,
   "metadata": {},
   "outputs": [
    {
     "name": "stdout",
     "output_type": "stream",
     "text": [
      "33.837424106498574\n",
      "19.711262452373713\n"
     ]
    }
   ],
   "source": [
    "import math\n",
    "MSE = np.square(np.subtract(np.array(test),np.array(final_forecast))).mean()   \n",
    "rsme = math.sqrt(MSE)\n",
    "print(rsme)  \n",
    "MAE = np.abs(np.subtract(np.array(test),np.array(final_forecast))).mean()   \n",
    "mae = MAE\n",
    "print(mae)"
   ]
  }
 ],
 "metadata": {
  "colab": {
   "provenance": []
  },
  "kernelspec": {
   "display_name": "Python 3",
   "language": "python",
   "name": "python3"
  },
  "language_info": {
   "codemirror_mode": {
    "name": "ipython",
    "version": 3
   },
   "file_extension": ".py",
   "mimetype": "text/x-python",
   "name": "python",
   "nbconvert_exporter": "python",
   "pygments_lexer": "ipython3",
   "version": "3.9.13"
  }
 },
 "nbformat": 4,
 "nbformat_minor": 0
}
