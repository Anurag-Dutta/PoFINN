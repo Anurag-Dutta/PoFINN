{
 "cells": [
  {
   "cell_type": "markdown",
   "metadata": {
    "id": "pCGKeZ2gyuoQ"
   },
   "source": [
    "_Importing Required Libraries_"
   ]
  },
  {
   "cell_type": "code",
   "execution_count": 1,
   "metadata": {
    "colab": {
     "base_uri": "https://localhost:8080/"
    },
    "id": "A-6LN-zXiLcM",
    "outputId": "4de610a4-f8b8-4f49-c6c0-89de299ccedc"
   },
   "outputs": [
    {
     "name": "stdout",
     "output_type": "stream",
     "text": [
      "Requirement already satisfied: hampel in c:\\users\\anurag dutta\\appdata\\local\\packages\\pythonsoftwarefoundation.python.3.9_qbz5n2kfra8p0\\localcache\\local-packages\\python39\\site-packages (0.0.5)\n",
      "Requirement already satisfied: numpy in c:\\users\\anurag dutta\\appdata\\local\\packages\\pythonsoftwarefoundation.python.3.9_qbz5n2kfra8p0\\localcache\\local-packages\\python39\\site-packages (from hampel) (1.26.4)\n",
      "Requirement already satisfied: pandas in c:\\users\\anurag dutta\\appdata\\local\\packages\\pythonsoftwarefoundation.python.3.9_qbz5n2kfra8p0\\localcache\\local-packages\\python39\\site-packages (from hampel) (1.5.2)\n",
      "Requirement already satisfied: python-dateutil>=2.8.1 in c:\\users\\anurag dutta\\appdata\\local\\packages\\pythonsoftwarefoundation.python.3.9_qbz5n2kfra8p0\\localcache\\local-packages\\python39\\site-packages (from pandas->hampel) (2.8.2)\n",
      "Requirement already satisfied: pytz>=2020.1 in c:\\users\\anurag dutta\\appdata\\local\\packages\\pythonsoftwarefoundation.python.3.9_qbz5n2kfra8p0\\localcache\\local-packages\\python39\\site-packages (from pandas->hampel) (2023.3.post1)\n",
      "Requirement already satisfied: six>=1.5 in c:\\users\\anurag dutta\\appdata\\local\\packages\\pythonsoftwarefoundation.python.3.9_qbz5n2kfra8p0\\localcache\\local-packages\\python39\\site-packages (from python-dateutil>=2.8.1->pandas->hampel) (1.16.0)\n",
      "Note: you may need to restart the kernel to use updated packages.\n"
     ]
    },
    {
     "name": "stderr",
     "output_type": "stream",
     "text": [
      "\n",
      "[notice] A new release of pip is available: 24.2 -> 24.3.1\n",
      "[notice] To update, run: C:\\Users\\Anurag Dutta\\AppData\\Local\\Microsoft\\WindowsApps\\PythonSoftwareFoundation.Python.3.9_qbz5n2kfra8p0\\python.exe -m pip install --upgrade pip\n"
     ]
    }
   ],
   "source": [
    "pip install hampel"
   ]
  },
  {
   "cell_type": "code",
   "execution_count": 2,
   "metadata": {
    "id": "By_d9uXpaFvZ"
   },
   "outputs": [],
   "source": [
    "from keras.models import Sequential\n",
    "from keras.layers import Dense\n",
    "from keras.layers import LSTM\n",
    "from keras.layers import Dropout\n",
    "import keras\n",
    "import tensorflow as tf\n",
    "from hampel import hampel\n",
    "import numpy as np\n",
    "import matplotlib.pyplot as plt\n",
    "import pandas as pd\n",
    "from sklearn.preprocessing import MinMaxScaler\n",
    "from sklearn.metrics import mean_squared_error, mean_absolute_error\n",
    "from math import sqrt\n",
    "from matplotlib import pyplot\n",
    "from numpy import array"
   ]
  },
  {
   "cell_type": "markdown",
   "metadata": {
    "id": "JyOjBMFayuoR"
   },
   "source": [
    "## Pretraining"
   ]
  },
  {
   "cell_type": "markdown",
   "metadata": {
    "id": "-5QqIY_GyuoR"
   },
   "source": [
    "The `capa_intermittency.dat` feeds the model with the dynamics of the Capacitor"
   ]
  },
  {
   "cell_type": "code",
   "execution_count": 3,
   "metadata": {
    "id": "9dV4a8yfyuoR"
   },
   "outputs": [],
   "source": [
    "data = np.genfromtxt('capa_intermittency.dat')\n",
    "training_set = pd.DataFrame(data).reset_index(drop=True)\n",
    "training_set = training_set.iloc[:,0]"
   ]
  },
  {
   "cell_type": "markdown",
   "metadata": {
    "id": "i7easoxByuoR"
   },
   "source": [
    "## Computing the Gradient"
   ]
  },
  {
   "cell_type": "markdown",
   "metadata": {
    "id": "5SnyolJTyuoR"
   },
   "source": [
    "_Calculating the value of_ $\\frac{dx}{dt}$"
   ]
  },
  {
   "cell_type": "code",
   "execution_count": 4,
   "metadata": {
    "colab": {
     "base_uri": "https://localhost:8080/"
    },
    "id": "wmIbVfIvyuoR",
    "outputId": "aa4e3136-c854-465d-d2e9-81cfd546e440"
   },
   "outputs": [
    {
     "name": "stdout",
     "output_type": "stream",
     "text": [
      "1.0\n",
      "1        0.000298\n",
      "2        0.000298\n",
      "3        0.000297\n",
      "4        0.000297\n",
      "5        0.000297\n",
      "           ...   \n",
      "9996     0.000018\n",
      "9997     0.000018\n",
      "9998     0.000018\n",
      "9999     0.000018\n",
      "10000    0.000018\n",
      "Name: 0, Length: 10000, dtype: float64\n"
     ]
    }
   ],
   "source": [
    "t_diff = 1\n",
    "print(training_set.max())\n",
    "gradient_t = (training_set.diff()/t_diff).iloc[1:] # dx/dt\n",
    "print(gradient_t)"
   ]
  },
  {
   "cell_type": "markdown",
   "metadata": {
    "id": "_2eVeeoxyuoS"
   },
   "source": [
    "## Loading Datasets"
   ]
  },
  {
   "cell_type": "code",
   "execution_count": 5,
   "metadata": {
    "id": "0J-NKyIEyuoS"
   },
   "outputs": [
    {
     "data": {
      "text/plain": [
       "0       90.500000\n",
       "1       90.275910\n",
       "2       90.051821\n",
       "3       89.827731\n",
       "4       89.603641\n",
       "          ...    \n",
       "2495    52.162308\n",
       "2496    52.146731\n",
       "2497    52.131154\n",
       "2498    52.115577\n",
       "2499    52.100000\n",
       "Name: C2, Length: 2500, dtype: float64"
      ]
     },
     "execution_count": 5,
     "metadata": {},
     "output_type": "execute_result"
    }
   ],
   "source": [
    "data = pd.read_csv(\"c2_interpolated_2450_50.csv\")\n",
    "training_set = data.iloc[:, 1]\n",
    "training_set"
   ]
  },
  {
   "cell_type": "code",
   "execution_count": 6,
   "metadata": {
    "colab": {
     "base_uri": "https://localhost:8080/"
    },
    "id": "-CbNUhJ74UqF",
    "outputId": "20f562d8-8247-49cc-b9c3-00eca5e13e2d"
   },
   "outputs": [
    {
     "data": {
      "text/plain": [
       "0       90.500000\n",
       "1       90.275910\n",
       "2       90.051821\n",
       "3       89.827731\n",
       "4       89.603641\n",
       "          ...    \n",
       "2445     0.000000\n",
       "2446     0.000000\n",
       "2447     0.000000\n",
       "2448     0.116940\n",
       "2449     0.000000\n",
       "Name: C2, Length: 2450, dtype: float64"
      ]
     },
     "execution_count": 6,
     "metadata": {},
     "output_type": "execute_result"
    }
   ],
   "source": [
    "test = training_set.tail(50)\n",
    "test\n",
    "training_set = training_set.head(2450)\n",
    "training_set"
   ]
  },
  {
   "cell_type": "code",
   "execution_count": 7,
   "metadata": {
    "colab": {
     "base_uri": "https://localhost:8080/"
    },
    "id": "X0TwTcq0yuoS",
    "outputId": "37252ed8-d88e-4044-fa7a-922411990b5b"
   },
   "outputs": [
    {
     "name": "stdout",
     "output_type": "stream",
     "text": [
      "0       0.000298\n",
      "1       0.000298\n",
      "2       0.000297\n",
      "3       0.000297\n",
      "4       0.000297\n",
      "          ...   \n",
      "9995    0.000018\n",
      "9996    0.000018\n",
      "9997    0.000018\n",
      "9998    0.000018\n",
      "9999    0.000018\n",
      "Name: 0, Length: 10000, dtype: float64\n"
     ]
    }
   ],
   "source": [
    "training_set = training_set.reset_index(drop=True)\n",
    "gradient_t = gradient_t.reset_index(drop=True)\n",
    "print(gradient_t)"
   ]
  },
  {
   "cell_type": "code",
   "execution_count": 8,
   "metadata": {
    "id": "O2biznZQyuoS"
   },
   "outputs": [],
   "source": [
    "df = pd.concat((training_set, gradient_t), axis=1)\n",
    "df.columns = ['y_t', 'grad_t']"
   ]
  },
  {
   "cell_type": "code",
   "execution_count": 9,
   "metadata": {
    "colab": {
     "base_uri": "https://localhost:8080/",
     "height": 423
    },
    "id": "sk_a5v3tyuoS",
    "outputId": "17563625-e550-45ae-faab-fafa353e44da"
   },
   "outputs": [
    {
     "data": {
      "text/html": [
       "<div>\n",
       "<style scoped>\n",
       "    .dataframe tbody tr th:only-of-type {\n",
       "        vertical-align: middle;\n",
       "    }\n",
       "\n",
       "    .dataframe tbody tr th {\n",
       "        vertical-align: top;\n",
       "    }\n",
       "\n",
       "    .dataframe thead th {\n",
       "        text-align: right;\n",
       "    }\n",
       "</style>\n",
       "<table border=\"1\" class=\"dataframe\">\n",
       "  <thead>\n",
       "    <tr style=\"text-align: right;\">\n",
       "      <th></th>\n",
       "      <th>y_t</th>\n",
       "      <th>grad_t</th>\n",
       "    </tr>\n",
       "  </thead>\n",
       "  <tbody>\n",
       "    <tr>\n",
       "      <th>0</th>\n",
       "      <td>90.500000</td>\n",
       "      <td>0.000298</td>\n",
       "    </tr>\n",
       "    <tr>\n",
       "      <th>1</th>\n",
       "      <td>90.275910</td>\n",
       "      <td>0.000298</td>\n",
       "    </tr>\n",
       "    <tr>\n",
       "      <th>2</th>\n",
       "      <td>90.051821</td>\n",
       "      <td>0.000297</td>\n",
       "    </tr>\n",
       "    <tr>\n",
       "      <th>3</th>\n",
       "      <td>89.827731</td>\n",
       "      <td>0.000297</td>\n",
       "    </tr>\n",
       "    <tr>\n",
       "      <th>4</th>\n",
       "      <td>89.603641</td>\n",
       "      <td>0.000297</td>\n",
       "    </tr>\n",
       "    <tr>\n",
       "      <th>...</th>\n",
       "      <td>...</td>\n",
       "      <td>...</td>\n",
       "    </tr>\n",
       "    <tr>\n",
       "      <th>9995</th>\n",
       "      <td>NaN</td>\n",
       "      <td>0.000018</td>\n",
       "    </tr>\n",
       "    <tr>\n",
       "      <th>9996</th>\n",
       "      <td>NaN</td>\n",
       "      <td>0.000018</td>\n",
       "    </tr>\n",
       "    <tr>\n",
       "      <th>9997</th>\n",
       "      <td>NaN</td>\n",
       "      <td>0.000018</td>\n",
       "    </tr>\n",
       "    <tr>\n",
       "      <th>9998</th>\n",
       "      <td>NaN</td>\n",
       "      <td>0.000018</td>\n",
       "    </tr>\n",
       "    <tr>\n",
       "      <th>9999</th>\n",
       "      <td>NaN</td>\n",
       "      <td>0.000018</td>\n",
       "    </tr>\n",
       "  </tbody>\n",
       "</table>\n",
       "<p>10000 rows × 2 columns</p>\n",
       "</div>"
      ],
      "text/plain": [
       "            y_t    grad_t\n",
       "0     90.500000  0.000298\n",
       "1     90.275910  0.000298\n",
       "2     90.051821  0.000297\n",
       "3     89.827731  0.000297\n",
       "4     89.603641  0.000297\n",
       "...         ...       ...\n",
       "9995        NaN  0.000018\n",
       "9996        NaN  0.000018\n",
       "9997        NaN  0.000018\n",
       "9998        NaN  0.000018\n",
       "9999        NaN  0.000018\n",
       "\n",
       "[10000 rows x 2 columns]"
      ]
     },
     "execution_count": 9,
     "metadata": {},
     "output_type": "execute_result"
    }
   ],
   "source": [
    "df"
   ]
  },
  {
   "cell_type": "markdown",
   "metadata": {
    "id": "-5esyHu5aFvg"
   },
   "source": [
    "## Plot of the External Forcing from Chaotic Differential Equation"
   ]
  },
  {
   "cell_type": "code",
   "execution_count": 10,
   "metadata": {
    "colab": {
     "base_uri": "https://localhost:8080/",
     "height": 447
    },
    "id": "hGnE43tOh-4p",
    "outputId": "fc396503-b624-4fa5-dfbe-f460207405c6"
   },
   "outputs": [
    {
     "data": {
      "text/plain": [
       "<Axes: >"
      ]
     },
     "execution_count": 10,
     "metadata": {},
     "output_type": "execute_result"
    },
    {
     "data": {
      "image/png": "[encoded data removed]",
      "text/plain": [
       "<Figure size 432x288 with 1 Axes>"
      ]
     },
     "metadata": {
      "needs_background": "light"
     },
     "output_type": "display_data"
    }
   ],
   "source": [
    "df.iloc[:, 0].plot()"
   ]
  },
  {
   "cell_type": "code",
   "execution_count": 11,
   "metadata": {
    "colab": {
     "base_uri": "https://localhost:8080/",
     "height": 447
    },
    "id": "ym4xWUUxaFvg",
    "outputId": "ae6a3495-8ce9-437e-ba81-3ed31deedeae"
   },
   "outputs": [
    {
     "name": "stderr",
     "output_type": "stream",
     "text": [
      "C:\\Users\\Anurag Dutta\\AppData\\Local\\Packages\\PythonSoftwareFoundation.Python.3.9_qbz5n2kfra8p0\\LocalCache\\local-packages\\Python39\\site-packages\\pandas\\core\\arraylike.py:402: RuntimeWarning: divide by zero encountered in log\n",
      "  result = getattr(ufunc, method)(*inputs, **kwargs)\n"
     ]
    },
    {
     "data": {
      "text/plain": [
       "<Axes: >"
      ]
     },
     "execution_count": 11,
     "metadata": {},
     "output_type": "execute_result"
    },
    {
     "data": {
      "image/png": "[encoded data removed]",
      "text/plain": [
       "<Figure size 432x288 with 1 Axes>"
      ]
     },
     "metadata": {
      "needs_background": "light"
     },
     "output_type": "display_data"
    }
   ],
   "source": [
    "import numpy as np\n",
    "c0 = 88.1552  # Value for C0\n",
    "K0 = -0.0026  # Value for K0\n",
    "K1 = -0.0004  # Value for K1\n",
    "a = 0.0000    # Value for a\n",
    "b = 0.0102    # Value for b\n",
    "c = 2.8734    # Value for c\n",
    "\n",
    "L = np.minimum(c0, (df.iloc[:, 1] - (df.iloc[:, 0] * (K0 - K1 * (9 * a * np.log(df.iloc[:, 0] / c0) / (K0 - K1 * c)**2 + 4 * b * np.log(df.iloc[:, 0] / c0) / (K0 - K1 * c) + c)))))\n",
    "L.plot()"
   ]
  },
  {
   "cell_type": "markdown",
   "metadata": {
    "id": "9VyEywnwaFvh"
   },
   "source": [
    "## Preprocessing the data into supervised learning"
   ]
  },
  {
   "cell_type": "code",
   "execution_count": 12,
   "metadata": {
    "id": "6V9dXqzdaFvh"
   },
   "outputs": [],
   "source": [
    "# split a sequence into samples\n",
    "def Supervised(data, n_in=1, n_out=1, dropnan=True):\n",
    "    n_vars = 1 if type(data) is list else data.shape[1]\n",
    "    df = pd.DataFrame(data)\n",
    "    cols, names = list(), list()\n",
    "    # input sequence (t-n_in, ... t-1)\n",
    "    for i in range(n_in, 0, -1):\n",
    "        cols.append(df.shift(i))\n",
    "        names += [('var%d(t-%d)' % (j+1, i)) for j in range(n_vars)]\n",
    "    # forecast sequence (t, t+1, ... t+n_out)\n",
    "    for i in range(0, n_out):\n",
    "      cols.append(df.shift(-i))\n",
    "      if i == 0:\n",
    "        names += [('var%d(t)' % (j+1)) for j in range(n_vars)]\n",
    "      else:\n",
    "        names += [('var%d(t+%d)' % (j+1, i)) for j in range(n_vars)]\n",
    "    # put it all together\n",
    "    agg = pd.concat(cols, axis=1)\n",
    "    agg.columns = names\n",
    "    # drop rows with NaN values\n",
    "    if dropnan:\n",
    "       agg.dropna(inplace=True)\n",
    "    return agg"
   ]
  },
  {
   "cell_type": "code",
   "execution_count": 13,
   "metadata": {
    "colab": {
     "base_uri": "https://localhost:8080/"
    },
    "id": "CrzSrT1HnyfH",
    "outputId": "7e75f928-3e47-499d-eac1-51908015ef78"
   },
   "outputs": [
    {
     "name": "stdout",
     "output_type": "stream",
     "text": [
      "     var1(t-175)  var1(t-174)  var1(t-173)  var1(t-172)  var1(t-171)  \\\n",
      "175    90.500000    90.275910    90.051821    89.827731    89.603641   \n",
      "176    90.275910    90.051821    89.827731    89.603641    89.379552   \n",
      "177    90.051821    89.827731    89.603641    89.379552    89.155462   \n",
      "178    89.827731    89.603641    89.379552    89.155462    88.931373   \n",
      "179    89.603641    89.379552    89.155462    88.931373    88.707283   \n",
      "\n",
      "     var1(t-170)  var1(t-169)  var1(t-168)  var1(t-167)  var1(t-166)  ...  \\\n",
      "175    89.379552    89.155462    88.931373    88.707283    88.494958  ...   \n",
      "176    89.155462    88.931373    88.707283    88.494958    88.427731  ...   \n",
      "177    88.931373    88.707283    88.494958    88.427731    88.360504  ...   \n",
      "178    88.707283    88.494958    88.427731    88.360504    88.293277  ...   \n",
      "179    88.494958    88.427731    88.360504    88.293277    88.226050  ...   \n",
      "\n",
      "     var1(t+45)  var2(t+45)  var1(t+46)  var2(t+46)  var1(t+47)  var2(t+47)  \\\n",
      "175   83.025023    0.000280   83.006349    0.000280   82.987675    0.000280   \n",
      "176   83.006349    0.000280   82.987675    0.000280   82.969001    0.000280   \n",
      "177   82.987675    0.000280   82.969001    0.000280   82.950327    0.000279   \n",
      "178   82.969001    0.000280   82.950327    0.000279   82.931653    0.000279   \n",
      "179   82.950327    0.000279   82.931653    0.000279   82.912979    0.000279   \n",
      "\n",
      "     var1(t+48)  var2(t+48)  var1(t+49)  var2(t+49)  \n",
      "175   82.969001    0.000280   82.950327    0.000279  \n",
      "176   82.950327    0.000279   82.931653    0.000279  \n",
      "177   82.931653    0.000279   82.912979    0.000279  \n",
      "178   82.912979    0.000279   82.894304    0.000279  \n",
      "179   82.894304    0.000279   82.875630    0.000279  \n",
      "\n",
      "[5 rows x 276 columns]\n",
      "Index(['var1(t-175)', 'var1(t-174)', 'var1(t-173)', 'var1(t-172)',\n",
      "       'var1(t-171)', 'var1(t-170)', 'var1(t-169)', 'var1(t-168)',\n",
      "       'var1(t-167)', 'var1(t-166)',\n",
      "       ...\n",
      "       'var1(t+45)', 'var2(t+45)', 'var1(t+46)', 'var2(t+46)', 'var1(t+47)',\n",
      "       'var2(t+47)', 'var1(t+48)', 'var2(t+48)', 'var1(t+49)', 'var2(t+49)'],\n",
      "      dtype='object', length=276)\n"
     ]
    }
   ],
   "source": [
    "data = Supervised(df.values, n_in = 175, n_out = 50)\n",
    "\n",
    "\n",
    "cols_to_drop = []\n",
    "for i in range(2, 176):\n",
    "    cols_to_drop.extend([f'var2(t-{i})'])\n",
    "\n",
    "data.drop(cols_to_drop, axis=1, inplace=True)\n",
    "\n",
    "print(data.head())\n",
    "print(data.columns)"
   ]
  },
  {
   "cell_type": "code",
   "execution_count": 14,
   "metadata": {
    "id": "AfPf60oy6Pe4"
   },
   "outputs": [],
   "source": [
    "train = np.array(data[0:len(data)-1])\n",
    "forecast = np.array(data.tail(1))"
   ]
  },
  {
   "cell_type": "code",
   "execution_count": 15,
   "metadata": {
    "id": "WSAafzI37KiT"
   },
   "outputs": [],
   "source": [
    "trainy = train[:,-150:]\n",
    "trainX = train[:,:-150]"
   ]
  },
  {
   "cell_type": "code",
   "execution_count": 16,
   "metadata": {
    "id": "2SrOqVJA7f50"
   },
   "outputs": [],
   "source": [
    "forecasty = forecast[:,-150:]\n",
    "forecastX = forecast[:,:-150]"
   ]
  },
  {
   "cell_type": "code",
   "execution_count": 17,
   "metadata": {
    "colab": {
     "base_uri": "https://localhost:8080/"
    },
    "id": "Qno_k8Nw7saY",
    "outputId": "c4a88db5-d8c6-489f-cdb2-06b24e293cff"
   },
   "outputs": [
    {
     "name": "stdout",
     "output_type": "stream",
     "text": [
      "(2225, 1, 126) (2225, 150) (1, 1, 126)\n"
     ]
    }
   ],
   "source": [
    "trainX = trainX.reshape((trainX.shape[0], 1, trainX.shape[1]))\n",
    "forecastX = forecastX.reshape((forecastX.shape[0], 1, forecastX.shape[1]))\n",
    "print(trainX.shape, trainy.shape, forecastX.shape)"
   ]
  },
  {
   "cell_type": "code",
   "execution_count": 18,
   "metadata": {
    "colab": {
     "base_uri": "https://localhost:8080/"
    },
    "id": "b1Jp2DvNuNFx",
    "outputId": "d0e5b3c4-64f1-438c-eade-8dfeaac8e285"
   },
   "outputs": [
    {
     "name": "stdout",
     "output_type": "stream",
     "text": [
      "Epoch 1/500\n",
      "28/28 [==============================] - 2s 19ms/step - loss: 5053.1909 - val_loss: 2404.9949\n",
      "Epoch 2/500\n",
      "28/28 [==============================] - 0s 4ms/step - loss: 4767.2900 - val_loss: 2285.0911\n",
      "Epoch 3/500\n",
      "28/28 [==============================] - 0s 4ms/step - loss: 4539.4556 - val_loss: 2190.6323\n",
      "Epoch 4/500\n",
      "28/28 [==============================] - 0s 4ms/step - loss: 4384.4756 - val_loss: 2105.1890\n",
      "Epoch 5/500\n",
      "28/28 [==============================] - 0s 3ms/step - loss: 4208.5649 - val_loss: 2026.8038\n",
      "Epoch 6/500\n",
      "28/28 [==============================] - 0s 4ms/step - loss: 4044.4783 - val_loss: 1958.0691\n",
      "Epoch 7/500\n",
      "28/28 [==============================] - 0s 4ms/step - loss: 3904.3313 - val_loss: 1900.7426\n",
      "Epoch 8/500\n",
      "28/28 [==============================] - 0s 4ms/step - loss: 3759.8806 - val_loss: 1830.5569\n",
      "Epoch 9/500\n",
      "28/28 [==============================] - 0s 4ms/step - loss: 3610.5339 - val_loss: 1769.6235\n",
      "Epoch 10/500\n",
      "28/28 [==============================] - 0s 4ms/step - loss: 3471.0486 - val_loss: 1717.8822\n",
      "Epoch 11/500\n",
      "28/28 [==============================] - 0s 4ms/step - loss: 3341.6443 - val_loss: 1665.4010\n",
      "Epoch 12/500\n",
      "28/28 [==============================] - 0s 3ms/step - loss: 3218.9890 - val_loss: 1616.6985\n",
      "Epoch 13/500\n",
      "28/28 [==============================] - 0s 4ms/step - loss: 3101.2180 - val_loss: 1566.6370\n",
      "Epoch 14/500\n",
      "28/28 [==============================] - 0s 4ms/step - loss: 2991.9548 - val_loss: 1529.2236\n",
      "Epoch 15/500\n",
      "28/28 [==============================] - 0s 4ms/step - loss: 2872.6248 - val_loss: 1489.4078\n",
      "Epoch 16/500\n",
      "28/28 [==============================] - 0s 4ms/step - loss: 2766.0845 - val_loss: 1453.1595\n",
      "Epoch 17/500\n",
      "28/28 [==============================] - 0s 4ms/step - loss: 2662.8906 - val_loss: 1418.5719\n",
      "Epoch 18/500\n",
      "28/28 [==============================] - 0s 4ms/step - loss: 2565.1965 - val_loss: 1381.5525\n",
      "Epoch 19/500\n",
      "28/28 [==============================] - 0s 4ms/step - loss: 2469.7444 - val_loss: 1348.7926\n",
      "Epoch 20/500\n",
      "28/28 [==============================] - 0s 4ms/step - loss: 2382.6602 - val_loss: 1324.7220\n",
      "Epoch 21/500\n",
      "28/28 [==============================] - 0s 4ms/step - loss: 2291.5615 - val_loss: 1299.1104\n",
      "Epoch 22/500\n",
      "28/28 [==============================] - 0s 4ms/step - loss: 2205.7227 - val_loss: 1266.3411\n",
      "Epoch 23/500\n",
      "28/28 [==============================] - 0s 4ms/step - loss: 2123.7236 - val_loss: 1236.9646\n",
      "Epoch 24/500\n",
      "28/28 [==============================] - 0s 3ms/step - loss: 2044.8582 - val_loss: 1217.8824\n",
      "Epoch 25/500\n",
      "28/28 [==============================] - 0s 4ms/step - loss: 1968.6290 - val_loss: 1192.6520\n",
      "Epoch 26/500\n",
      "28/28 [==============================] - 0s 4ms/step - loss: 1895.3734 - val_loss: 1165.6443\n",
      "Epoch 27/500\n",
      "28/28 [==============================] - 0s 4ms/step - loss: 1822.3263 - val_loss: 1147.3059\n",
      "Epoch 28/500\n",
      "28/28 [==============================] - 0s 4ms/step - loss: 1755.0967 - val_loss: 1133.0157\n",
      "Epoch 29/500\n",
      "28/28 [==============================] - 0s 3ms/step - loss: 1683.9667 - val_loss: 1120.3726\n",
      "Epoch 30/500\n",
      "28/28 [==============================] - 0s 3ms/step - loss: 1609.4198 - val_loss: 1103.0834\n",
      "Epoch 31/500\n",
      "28/28 [==============================] - 0s 4ms/step - loss: 1547.6007 - val_loss: 1095.5837\n",
      "Epoch 32/500\n",
      "28/28 [==============================] - 0s 4ms/step - loss: 1483.3806 - val_loss: 1075.1489\n",
      "Epoch 33/500\n",
      "28/28 [==============================] - 0s 3ms/step - loss: 1422.9978 - val_loss: 1055.8142\n",
      "Epoch 34/500\n",
      "28/28 [==============================] - 0s 4ms/step - loss: 1365.6876 - val_loss: 1052.7013\n",
      "Epoch 35/500\n",
      "28/28 [==============================] - 0s 4ms/step - loss: 1311.0941 - val_loss: 1034.4220\n",
      "Epoch 36/500\n",
      "28/28 [==============================] - 0s 4ms/step - loss: 1273.1272 - val_loss: 1047.2190\n",
      "Epoch 37/500\n",
      "28/28 [==============================] - 0s 4ms/step - loss: 1218.2632 - val_loss: 1050.2205\n",
      "Epoch 38/500\n",
      "28/28 [==============================] - 0s 4ms/step - loss: 1195.0675 - val_loss: 1034.0745\n",
      "Epoch 39/500\n",
      "28/28 [==============================] - 0s 4ms/step - loss: 1118.5026 - val_loss: 1012.5132\n",
      "Epoch 40/500\n",
      "28/28 [==============================] - 0s 3ms/step - loss: 1073.5438 - val_loss: 995.8425\n",
      "Epoch 41/500\n",
      "28/28 [==============================] - 0s 4ms/step - loss: 1074.4958 - val_loss: 996.9747\n",
      "Epoch 42/500\n",
      "28/28 [==============================] - 0s 8ms/step - loss: 988.7115 - val_loss: 977.5192\n",
      "Epoch 43/500\n",
      "28/28 [==============================] - 0s 3ms/step - loss: 1009.5109 - val_loss: 966.2050\n",
      "Epoch 44/500\n",
      "28/28 [==============================] - 0s 3ms/step - loss: 914.1886 - val_loss: 979.5942\n",
      "Epoch 45/500\n",
      "28/28 [==============================] - 0s 3ms/step - loss: 1007.0794 - val_loss: 1063.3859\n",
      "Epoch 46/500\n",
      "28/28 [==============================] - 0s 3ms/step - loss: 924.2975 - val_loss: 1046.8538\n",
      "Epoch 47/500\n",
      "28/28 [==============================] - 0s 4ms/step - loss: 866.0081 - val_loss: 1070.0656\n",
      "Epoch 48/500\n",
      "28/28 [==============================] - 0s 4ms/step - loss: 784.0393 - val_loss: 1064.4961\n",
      "Epoch 49/500\n",
      "28/28 [==============================] - 0s 3ms/step - loss: 760.7663 - val_loss: 1085.4637\n",
      "Epoch 50/500\n",
      "28/28 [==============================] - 0s 3ms/step - loss: 724.0961 - val_loss: 1061.4583\n",
      "Epoch 51/500\n",
      "28/28 [==============================] - 0s 3ms/step - loss: 752.6688 - val_loss: 1058.4707\n",
      "Epoch 52/500\n",
      "28/28 [==============================] - 0s 4ms/step - loss: 737.0612 - val_loss: 1152.3995\n",
      "Epoch 53/500\n",
      "28/28 [==============================] - 0s 4ms/step - loss: 697.4827 - val_loss: 1153.2968\n",
      "Epoch 54/500\n",
      "28/28 [==============================] - 0s 4ms/step - loss: 674.7324 - val_loss: 1154.0956\n",
      "Epoch 55/500\n",
      "28/28 [==============================] - 0s 4ms/step - loss: 673.9948 - val_loss: 1154.4957\n",
      "Epoch 56/500\n",
      "28/28 [==============================] - 0s 4ms/step - loss: 631.2090 - val_loss: 1161.3011\n",
      "Epoch 57/500\n",
      "28/28 [==============================] - 0s 3ms/step - loss: 622.5465 - val_loss: 1176.4120\n",
      "Epoch 58/500\n",
      "28/28 [==============================] - 0s 4ms/step - loss: 593.4677 - val_loss: 1183.2128\n",
      "Epoch 59/500\n",
      "28/28 [==============================] - 0s 4ms/step - loss: 575.8445 - val_loss: 1188.2767\n",
      "Epoch 60/500\n",
      "28/28 [==============================] - 0s 4ms/step - loss: 555.3420 - val_loss: 1187.7656\n",
      "Epoch 61/500\n",
      "28/28 [==============================] - 0s 4ms/step - loss: 547.6922 - val_loss: 1220.0385\n",
      "Epoch 62/500\n",
      "28/28 [==============================] - 0s 4ms/step - loss: 560.9748 - val_loss: 1230.8574\n",
      "Epoch 63/500\n",
      "28/28 [==============================] - 0s 4ms/step - loss: 521.3766 - val_loss: 1253.2422\n",
      "Epoch 64/500\n",
      "28/28 [==============================] - 0s 4ms/step - loss: 504.0040 - val_loss: 1249.1865\n",
      "Epoch 65/500\n",
      "28/28 [==============================] - 0s 4ms/step - loss: 517.1740 - val_loss: 1254.6700\n",
      "Epoch 66/500\n",
      "28/28 [==============================] - 0s 4ms/step - loss: 475.7967 - val_loss: 1238.7524\n",
      "Epoch 67/500\n",
      "28/28 [==============================] - 0s 4ms/step - loss: 465.9165 - val_loss: 1259.6583\n",
      "Epoch 68/500\n",
      "28/28 [==============================] - 0s 4ms/step - loss: 446.8715 - val_loss: 1226.5072\n",
      "Epoch 69/500\n",
      "28/28 [==============================] - 0s 4ms/step - loss: 457.5194 - val_loss: 1230.9403\n",
      "Epoch 70/500\n",
      "28/28 [==============================] - 0s 3ms/step - loss: 428.3946 - val_loss: 1243.0735\n",
      "Epoch 71/500\n",
      "28/28 [==============================] - 0s 3ms/step - loss: 448.4538 - val_loss: 1233.1398\n",
      "Epoch 72/500\n",
      "28/28 [==============================] - 0s 4ms/step - loss: 422.5633 - val_loss: 1253.4315\n",
      "Epoch 73/500\n",
      "28/28 [==============================] - 0s 4ms/step - loss: 391.5338 - val_loss: 1242.6062\n",
      "Epoch 74/500\n",
      "28/28 [==============================] - 0s 4ms/step - loss: 387.7377 - val_loss: 1256.2341\n",
      "Epoch 75/500\n",
      "28/28 [==============================] - 0s 4ms/step - loss: 408.7614 - val_loss: 1262.5691\n",
      "Epoch 76/500\n",
      "28/28 [==============================] - 0s 4ms/step - loss: 417.6630 - val_loss: 1371.8782\n",
      "Epoch 77/500\n",
      "28/28 [==============================] - 0s 4ms/step - loss: 388.3155 - val_loss: 1382.0981\n",
      "Epoch 78/500\n",
      "28/28 [==============================] - 0s 9ms/step - loss: 382.0787 - val_loss: 1393.5708\n",
      "Epoch 79/500\n",
      "28/28 [==============================] - 0s 4ms/step - loss: 374.5385 - val_loss: 1391.1554\n",
      "Epoch 80/500\n",
      "28/28 [==============================] - 0s 4ms/step - loss: 368.5439 - val_loss: 1386.8331\n",
      "Epoch 81/500\n",
      "28/28 [==============================] - 0s 4ms/step - loss: 361.6078 - val_loss: 1349.9365\n",
      "Epoch 82/500\n",
      "28/28 [==============================] - 0s 3ms/step - loss: 364.3403 - val_loss: 1311.8479\n",
      "Epoch 83/500\n",
      "28/28 [==============================] - 0s 4ms/step - loss: 355.0064 - val_loss: 1298.5820\n",
      "Epoch 84/500\n",
      "28/28 [==============================] - 0s 4ms/step - loss: 348.6786 - val_loss: 1311.1946\n",
      "Epoch 85/500\n",
      "28/28 [==============================] - 0s 4ms/step - loss: 324.1777 - val_loss: 1307.2522\n",
      "Epoch 86/500\n",
      "28/28 [==============================] - 0s 4ms/step - loss: 320.2805 - val_loss: 1307.4941\n",
      "Epoch 87/500\n",
      "28/28 [==============================] - 0s 4ms/step - loss: 310.5937 - val_loss: 1297.7444\n",
      "Epoch 88/500\n",
      "28/28 [==============================] - 0s 4ms/step - loss: 323.9831 - val_loss: 1365.0205\n",
      "Epoch 89/500\n",
      "28/28 [==============================] - 0s 4ms/step - loss: 321.4799 - val_loss: 1378.5544\n",
      "Epoch 90/500\n",
      "28/28 [==============================] - 0s 4ms/step - loss: 331.1875 - val_loss: 1349.9625\n",
      "Epoch 91/500\n",
      "28/28 [==============================] - 0s 4ms/step - loss: 331.3202 - val_loss: 1394.6368\n",
      "Epoch 92/500\n",
      "28/28 [==============================] - 0s 4ms/step - loss: 310.3147 - val_loss: 1373.6226\n",
      "Epoch 93/500\n",
      "28/28 [==============================] - 0s 4ms/step - loss: 305.1276 - val_loss: 1368.8687\n",
      "Epoch 94/500\n",
      "28/28 [==============================] - 0s 4ms/step - loss: 319.1153 - val_loss: 1368.4747\n",
      "Epoch 95/500\n",
      "28/28 [==============================] - 0s 4ms/step - loss: 314.2511 - val_loss: 1370.3878\n",
      "Epoch 96/500\n",
      "28/28 [==============================] - 0s 4ms/step - loss: 293.2227 - val_loss: 1353.7126\n",
      "Epoch 97/500\n",
      "28/28 [==============================] - 0s 4ms/step - loss: 291.2922 - val_loss: 1297.4751\n",
      "Epoch 98/500\n",
      "28/28 [==============================] - 0s 4ms/step - loss: 286.8889 - val_loss: 1279.1682\n",
      "Epoch 99/500\n",
      "28/28 [==============================] - 0s 4ms/step - loss: 296.7375 - val_loss: 1257.4989\n",
      "Epoch 100/500\n",
      "28/28 [==============================] - 0s 4ms/step - loss: 298.6948 - val_loss: 1282.1448\n",
      "Epoch 101/500\n",
      "28/28 [==============================] - 0s 4ms/step - loss: 280.0440 - val_loss: 1293.8673\n",
      "Epoch 102/500\n",
      "28/28 [==============================] - 0s 3ms/step - loss: 277.7228 - val_loss: 1292.8781\n",
      "Epoch 103/500\n",
      "28/28 [==============================] - 0s 3ms/step - loss: 275.6196 - val_loss: 1297.6213\n",
      "Epoch 104/500\n",
      "28/28 [==============================] - 0s 3ms/step - loss: 273.9198 - val_loss: 1293.8517\n",
      "Epoch 105/500\n",
      "28/28 [==============================] - 0s 4ms/step - loss: 272.1257 - val_loss: 1301.6871\n",
      "Epoch 106/500\n",
      "28/28 [==============================] - 0s 4ms/step - loss: 270.4418 - val_loss: 1300.5668\n",
      "Epoch 107/500\n",
      "28/28 [==============================] - 0s 4ms/step - loss: 269.4126 - val_loss: 1308.9191\n",
      "Epoch 108/500\n",
      "28/28 [==============================] - 0s 4ms/step - loss: 267.4337 - val_loss: 1310.1345\n",
      "Epoch 109/500\n",
      "28/28 [==============================] - 0s 4ms/step - loss: 265.5502 - val_loss: 1310.2078\n",
      "Epoch 110/500\n",
      "28/28 [==============================] - 0s 4ms/step - loss: 264.3841 - val_loss: 1309.8301\n",
      "Epoch 111/500\n",
      "28/28 [==============================] - 0s 4ms/step - loss: 262.8194 - val_loss: 1309.1520\n",
      "Epoch 112/500\n",
      "28/28 [==============================] - 0s 4ms/step - loss: 260.6560 - val_loss: 1300.7017\n",
      "Epoch 113/500\n",
      "28/28 [==============================] - 0s 4ms/step - loss: 267.1547 - val_loss: 1320.2745\n",
      "Epoch 114/500\n",
      "28/28 [==============================] - 0s 9ms/step - loss: 258.5361 - val_loss: 1315.6425\n",
      "Epoch 115/500\n",
      "28/28 [==============================] - 0s 4ms/step - loss: 256.7191 - val_loss: 1312.2944\n",
      "Epoch 116/500\n",
      "28/28 [==============================] - 0s 4ms/step - loss: 255.3486 - val_loss: 1309.2622\n",
      "Epoch 117/500\n",
      "28/28 [==============================] - 0s 4ms/step - loss: 254.4279 - val_loss: 1310.4260\n",
      "Epoch 118/500\n",
      "28/28 [==============================] - 0s 4ms/step - loss: 253.4593 - val_loss: 1309.5015\n",
      "Epoch 119/500\n",
      "28/28 [==============================] - 0s 4ms/step - loss: 252.2150 - val_loss: 1306.4128\n",
      "Epoch 120/500\n",
      "28/28 [==============================] - 0s 4ms/step - loss: 251.1846 - val_loss: 1307.7471\n",
      "Epoch 121/500\n",
      "28/28 [==============================] - 0s 4ms/step - loss: 255.1809 - val_loss: 1328.8311\n",
      "Epoch 122/500\n",
      "28/28 [==============================] - 0s 5ms/step - loss: 251.4505 - val_loss: 1315.3323\n",
      "Epoch 123/500\n",
      "28/28 [==============================] - 0s 5ms/step - loss: 249.9761 - val_loss: 1311.1648\n",
      "Epoch 124/500\n",
      "28/28 [==============================] - 0s 6ms/step - loss: 249.0227 - val_loss: 1308.9918\n",
      "Epoch 125/500\n",
      "28/28 [==============================] - 0s 6ms/step - loss: 247.7209 - val_loss: 1304.4978\n",
      "Epoch 126/500\n",
      "28/28 [==============================] - 0s 6ms/step - loss: 253.0361 - val_loss: 1323.3582\n",
      "Epoch 127/500\n",
      "28/28 [==============================] - 0s 6ms/step - loss: 250.1446 - val_loss: 1316.2584\n",
      "Epoch 128/500\n",
      "28/28 [==============================] - 0s 6ms/step - loss: 248.5438 - val_loss: 1314.2531\n",
      "Epoch 129/500\n",
      "28/28 [==============================] - 0s 7ms/step - loss: 246.8698 - val_loss: 1306.6403\n",
      "Epoch 130/500\n",
      "28/28 [==============================] - 0s 6ms/step - loss: 245.5322 - val_loss: 1301.4686\n",
      "Epoch 131/500\n",
      "28/28 [==============================] - 0s 5ms/step - loss: 242.7498 - val_loss: 1295.1652\n",
      "Epoch 132/500\n",
      "28/28 [==============================] - 0s 5ms/step - loss: 241.3519 - val_loss: 1293.4978\n",
      "Epoch 133/500\n",
      "28/28 [==============================] - 0s 5ms/step - loss: 240.4582 - val_loss: 1289.7136\n",
      "Epoch 134/500\n",
      "28/28 [==============================] - 0s 6ms/step - loss: 239.5760 - val_loss: 1289.6550\n",
      "Epoch 135/500\n",
      "28/28 [==============================] - 0s 6ms/step - loss: 238.7276 - val_loss: 1278.2158\n",
      "Epoch 136/500\n",
      "28/28 [==============================] - 0s 6ms/step - loss: 238.0932 - val_loss: 1289.7125\n",
      "Epoch 137/500\n",
      "28/28 [==============================] - 0s 5ms/step - loss: 236.0524 - val_loss: 1283.7128\n",
      "Epoch 138/500\n",
      "28/28 [==============================] - 0s 5ms/step - loss: 234.4185 - val_loss: 1281.1453\n",
      "Epoch 139/500\n",
      "28/28 [==============================] - 0s 5ms/step - loss: 233.4043 - val_loss: 1275.8109\n",
      "Epoch 140/500\n",
      "28/28 [==============================] - 0s 5ms/step - loss: 232.5031 - val_loss: 1273.2761\n",
      "Epoch 141/500\n",
      "28/28 [==============================] - 0s 5ms/step - loss: 231.6052 - val_loss: 1270.3298\n",
      "Epoch 142/500\n",
      "28/28 [==============================] - 0s 4ms/step - loss: 230.7066 - val_loss: 1265.7719\n",
      "Epoch 143/500\n",
      "28/28 [==============================] - 0s 4ms/step - loss: 229.5164 - val_loss: 1259.4730\n",
      "Epoch 144/500\n",
      "28/28 [==============================] - 0s 9ms/step - loss: 226.6358 - val_loss: 1248.8203\n",
      "Epoch 145/500\n",
      "28/28 [==============================] - 0s 5ms/step - loss: 226.7308 - val_loss: 1245.6843\n",
      "Epoch 146/500\n",
      "28/28 [==============================] - 0s 5ms/step - loss: 237.8668 - val_loss: 1305.2675\n",
      "Epoch 147/500\n",
      "28/28 [==============================] - 0s 5ms/step - loss: 236.1758 - val_loss: 1298.9493\n",
      "Epoch 148/500\n",
      "28/28 [==============================] - 0s 5ms/step - loss: 235.2415 - val_loss: 1295.7034\n",
      "Epoch 149/500\n",
      "28/28 [==============================] - 0s 4ms/step - loss: 234.2856 - val_loss: 1291.9563\n",
      "Epoch 150/500\n",
      "28/28 [==============================] - 0s 4ms/step - loss: 233.2808 - val_loss: 1287.0662\n",
      "Epoch 151/500\n",
      "28/28 [==============================] - 0s 5ms/step - loss: 233.6575 - val_loss: 1287.2595\n",
      "Epoch 152/500\n",
      "28/28 [==============================] - 0s 5ms/step - loss: 231.4200 - val_loss: 1279.7893\n",
      "Epoch 153/500\n",
      "28/28 [==============================] - 0s 4ms/step - loss: 230.4819 - val_loss: 1276.3610\n",
      "Epoch 154/500\n",
      "28/28 [==============================] - 0s 4ms/step - loss: 229.3866 - val_loss: 1271.2452\n",
      "Epoch 155/500\n",
      "28/28 [==============================] - 0s 5ms/step - loss: 228.4534 - val_loss: 1267.3311\n",
      "Epoch 156/500\n",
      "28/28 [==============================] - 0s 5ms/step - loss: 227.5165 - val_loss: 1263.4124\n",
      "Epoch 157/500\n",
      "28/28 [==============================] - 0s 4ms/step - loss: 226.5792 - val_loss: 1259.4692\n",
      "Epoch 158/500\n",
      "28/28 [==============================] - 0s 4ms/step - loss: 225.6415 - val_loss: 1255.5021\n",
      "Epoch 159/500\n",
      "28/28 [==============================] - 0s 4ms/step - loss: 224.7032 - val_loss: 1251.5060\n",
      "Epoch 160/500\n",
      "28/28 [==============================] - 0s 4ms/step - loss: 223.7640 - val_loss: 1247.4608\n",
      "Epoch 161/500\n",
      "28/28 [==============================] - 0s 4ms/step - loss: 222.8232 - val_loss: 1243.2848\n",
      "Epoch 162/500\n",
      "28/28 [==============================] - 0s 5ms/step - loss: 221.8676 - val_loss: 1238.0280\n",
      "Epoch 163/500\n",
      "28/28 [==============================] - 0s 4ms/step - loss: 220.8417 - val_loss: 1237.3984\n",
      "Epoch 164/500\n",
      "28/28 [==============================] - 0s 4ms/step - loss: 219.9046 - val_loss: 1227.5049\n",
      "Epoch 165/500\n",
      "28/28 [==============================] - 0s 5ms/step - loss: 231.3177 - val_loss: 1276.9457\n",
      "Epoch 166/500\n",
      "28/28 [==============================] - 0s 4ms/step - loss: 226.2334 - val_loss: 1227.1681\n",
      "Epoch 167/500\n",
      "28/28 [==============================] - 0s 4ms/step - loss: 221.8836 - val_loss: 1236.2363\n",
      "Epoch 168/500\n",
      "28/28 [==============================] - 0s 5ms/step - loss: 222.2947 - val_loss: 1226.7659\n",
      "Epoch 169/500\n",
      "28/28 [==============================] - 0s 5ms/step - loss: 219.3165 - val_loss: 1222.4061\n",
      "Epoch 170/500\n",
      "28/28 [==============================] - 0s 4ms/step - loss: 229.8529 - val_loss: 1183.9675\n",
      "Epoch 171/500\n",
      "28/28 [==============================] - 0s 4ms/step - loss: 232.1366 - val_loss: 1209.6576\n",
      "Epoch 172/500\n",
      "28/28 [==============================] - 0s 5ms/step - loss: 232.1669 - val_loss: 1219.1935\n",
      "Epoch 173/500\n",
      "28/28 [==============================] - 0s 4ms/step - loss: 233.2749 - val_loss: 1239.9276\n",
      "Epoch 174/500\n",
      "28/28 [==============================] - 0s 4ms/step - loss: 228.9209 - val_loss: 1215.2609\n",
      "Epoch 175/500\n",
      "28/28 [==============================] - 0s 4ms/step - loss: 224.7073 - val_loss: 1204.3312\n",
      "Epoch 176/500\n",
      "28/28 [==============================] - 0s 5ms/step - loss: 222.3873 - val_loss: 1197.7677\n",
      "Epoch 177/500\n",
      "28/28 [==============================] - 0s 9ms/step - loss: 221.0294 - val_loss: 1192.4795\n",
      "Epoch 178/500\n",
      "28/28 [==============================] - 0s 5ms/step - loss: 223.7257 - val_loss: 1205.5115\n",
      "Epoch 179/500\n",
      "28/28 [==============================] - 0s 5ms/step - loss: 233.0049 - val_loss: 1196.9634\n",
      "Epoch 180/500\n",
      "28/28 [==============================] - 0s 5ms/step - loss: 231.1032 - val_loss: 1195.4850\n",
      "Epoch 181/500\n",
      "28/28 [==============================] - 0s 5ms/step - loss: 228.2971 - val_loss: 1185.3528\n",
      "Epoch 182/500\n",
      "28/28 [==============================] - 0s 5ms/step - loss: 225.4146 - val_loss: 1181.1686\n",
      "Epoch 183/500\n",
      "28/28 [==============================] - 0s 5ms/step - loss: 223.1041 - val_loss: 1178.6641\n",
      "Epoch 184/500\n",
      "28/28 [==============================] - 0s 4ms/step - loss: 221.1974 - val_loss: 1174.8184\n",
      "Epoch 185/500\n",
      "28/28 [==============================] - 0s 4ms/step - loss: 218.6535 - val_loss: 1172.9983\n",
      "Epoch 186/500\n",
      "28/28 [==============================] - 0s 5ms/step - loss: 216.8324 - val_loss: 1168.8755\n",
      "Epoch 187/500\n",
      "28/28 [==============================] - 0s 4ms/step - loss: 213.9733 - val_loss: 1165.5286\n",
      "Epoch 188/500\n",
      "28/28 [==============================] - 0s 4ms/step - loss: 213.1799 - val_loss: 1158.8322\n",
      "Epoch 189/500\n",
      "28/28 [==============================] - 0s 5ms/step - loss: 215.7668 - val_loss: 1179.7765\n",
      "Epoch 190/500\n",
      "28/28 [==============================] - 0s 4ms/step - loss: 237.1031 - val_loss: 1252.5269\n",
      "Epoch 191/500\n",
      "28/28 [==============================] - 0s 5ms/step - loss: 228.9914 - val_loss: 1238.5208\n",
      "Epoch 192/500\n",
      "28/28 [==============================] - 0s 4ms/step - loss: 225.1208 - val_loss: 1218.8402\n",
      "Epoch 193/500\n",
      "28/28 [==============================] - 0s 4ms/step - loss: 218.1632 - val_loss: 1196.8276\n",
      "Epoch 194/500\n",
      "28/28 [==============================] - 0s 5ms/step - loss: 212.9473 - val_loss: 1181.0088\n",
      "Epoch 195/500\n",
      "28/28 [==============================] - 0s 5ms/step - loss: 209.9280 - val_loss: 1169.7844\n",
      "Epoch 196/500\n",
      "28/28 [==============================] - 0s 4ms/step - loss: 207.5182 - val_loss: 1136.3544\n",
      "Epoch 197/500\n",
      "28/28 [==============================] - 0s 5ms/step - loss: 211.9567 - val_loss: 1136.6844\n",
      "Epoch 198/500\n",
      "28/28 [==============================] - 0s 4ms/step - loss: 209.5729 - val_loss: 1130.8397\n",
      "Epoch 199/500\n",
      "28/28 [==============================] - 0s 4ms/step - loss: 205.8330 - val_loss: 1115.8916\n",
      "Epoch 200/500\n",
      "28/28 [==============================] - 0s 4ms/step - loss: 219.4595 - val_loss: 1104.2428\n",
      "Epoch 201/500\n",
      "28/28 [==============================] - 0s 5ms/step - loss: 217.6565 - val_loss: 1111.4559\n",
      "Epoch 202/500\n",
      "28/28 [==============================] - 0s 5ms/step - loss: 213.5100 - val_loss: 1107.1938\n",
      "Epoch 203/500\n",
      "28/28 [==============================] - 0s 4ms/step - loss: 211.5795 - val_loss: 1113.8970\n",
      "Epoch 204/500\n",
      "28/28 [==============================] - 0s 4ms/step - loss: 209.5495 - val_loss: 1103.6387\n",
      "Epoch 205/500\n",
      "28/28 [==============================] - 0s 4ms/step - loss: 207.5711 - val_loss: 1114.5000\n",
      "Epoch 206/500\n",
      "28/28 [==============================] - 0s 5ms/step - loss: 205.3392 - val_loss: 1114.2072\n",
      "Epoch 207/500\n",
      "28/28 [==============================] - 0s 4ms/step - loss: 204.1747 - val_loss: 1114.2173\n",
      "Epoch 208/500\n",
      "28/28 [==============================] - 0s 9ms/step - loss: 214.9922 - val_loss: 1161.8400\n",
      "Epoch 209/500\n",
      "28/28 [==============================] - 0s 5ms/step - loss: 208.7754 - val_loss: 1146.9803\n",
      "Epoch 210/500\n",
      "28/28 [==============================] - 0s 5ms/step - loss: 206.6178 - val_loss: 1133.1672\n",
      "Epoch 211/500\n",
      "28/28 [==============================] - 0s 5ms/step - loss: 204.9025 - val_loss: 1126.2683\n",
      "Epoch 212/500\n",
      "28/28 [==============================] - 0s 4ms/step - loss: 201.0063 - val_loss: 1109.2947\n",
      "Epoch 213/500\n",
      "28/28 [==============================] - 0s 4ms/step - loss: 199.9035 - val_loss: 1106.1476\n",
      "Epoch 214/500\n",
      "28/28 [==============================] - 0s 5ms/step - loss: 198.2830 - val_loss: 1101.7924\n",
      "Epoch 215/500\n",
      "28/28 [==============================] - 0s 4ms/step - loss: 196.1471 - val_loss: 1096.5505\n",
      "Epoch 216/500\n",
      "28/28 [==============================] - 0s 4ms/step - loss: 194.2464 - val_loss: 1088.9463\n",
      "Epoch 217/500\n",
      "28/28 [==============================] - 0s 5ms/step - loss: 192.4626 - val_loss: 1082.1313\n",
      "Epoch 218/500\n",
      "28/28 [==============================] - 0s 5ms/step - loss: 191.3742 - val_loss: 1081.8665\n",
      "Epoch 219/500\n",
      "28/28 [==============================] - 0s 4ms/step - loss: 187.0846 - val_loss: 1032.0624\n",
      "Epoch 220/500\n",
      "28/28 [==============================] - 0s 4ms/step - loss: 214.2580 - val_loss: 1047.6121\n",
      "Epoch 221/500\n",
      "28/28 [==============================] - 0s 4ms/step - loss: 189.2212 - val_loss: 1038.5267\n",
      "Epoch 222/500\n",
      "28/28 [==============================] - 0s 5ms/step - loss: 209.4062 - val_loss: 1003.3268\n",
      "Epoch 223/500\n",
      "28/28 [==============================] - 0s 4ms/step - loss: 300.3209 - val_loss: 999.5261\n",
      "Epoch 224/500\n",
      "28/28 [==============================] - 0s 5ms/step - loss: 284.4279 - val_loss: 997.8395\n",
      "Epoch 225/500\n",
      "28/28 [==============================] - 0s 4ms/step - loss: 283.0872 - val_loss: 1005.4737\n",
      "Epoch 226/500\n",
      "28/28 [==============================] - 0s 5ms/step - loss: 247.9509 - val_loss: 1028.4449\n",
      "Epoch 227/500\n",
      "28/28 [==============================] - 0s 4ms/step - loss: 263.0157 - val_loss: 1043.4519\n",
      "Epoch 228/500\n",
      "28/28 [==============================] - 0s 5ms/step - loss: 233.7774 - val_loss: 1060.6965\n",
      "Epoch 229/500\n",
      "28/28 [==============================] - 0s 4ms/step - loss: 228.5455 - val_loss: 1071.2394\n",
      "Epoch 230/500\n",
      "28/28 [==============================] - 0s 4ms/step - loss: 224.6794 - val_loss: 1080.3418\n",
      "Epoch 231/500\n",
      "28/28 [==============================] - 0s 4ms/step - loss: 231.7210 - val_loss: 1129.5349\n",
      "Epoch 232/500\n",
      "28/28 [==============================] - 0s 4ms/step - loss: 229.1769 - val_loss: 1142.0697\n",
      "Epoch 233/500\n",
      "28/28 [==============================] - 0s 4ms/step - loss: 225.9729 - val_loss: 1144.6631\n",
      "Epoch 234/500\n",
      "28/28 [==============================] - 0s 5ms/step - loss: 217.4883 - val_loss: 1154.5372\n",
      "Epoch 235/500\n",
      "28/28 [==============================] - 0s 4ms/step - loss: 210.1456 - val_loss: 1121.8190\n",
      "Epoch 236/500\n",
      "28/28 [==============================] - 0s 4ms/step - loss: 213.8931 - val_loss: 1112.3301\n",
      "Epoch 237/500\n",
      "28/28 [==============================] - 0s 4ms/step - loss: 216.3523 - val_loss: 1113.5836\n",
      "Epoch 238/500\n",
      "28/28 [==============================] - 0s 5ms/step - loss: 275.7542 - val_loss: 1110.5436\n",
      "Epoch 239/500\n",
      "28/28 [==============================] - 0s 10ms/step - loss: 258.2029 - val_loss: 1198.0548\n",
      "Epoch 240/500\n",
      "28/28 [==============================] - 0s 5ms/step - loss: 207.2073 - val_loss: 1093.9105\n",
      "Epoch 241/500\n",
      "28/28 [==============================] - 0s 5ms/step - loss: 332.9972 - val_loss: 1099.5482\n",
      "Epoch 242/500\n",
      "28/28 [==============================] - 0s 5ms/step - loss: 298.2857 - val_loss: 1228.6843\n",
      "Epoch 243/500\n",
      "28/28 [==============================] - 0s 4ms/step - loss: 287.0312 - val_loss: 1252.9819\n",
      "Epoch 244/500\n",
      "28/28 [==============================] - 0s 5ms/step - loss: 282.8304 - val_loss: 1272.6732\n",
      "Epoch 245/500\n",
      "28/28 [==============================] - 0s 4ms/step - loss: 279.0303 - val_loss: 1310.6160\n",
      "Epoch 246/500\n",
      "28/28 [==============================] - 0s 5ms/step - loss: 223.3041 - val_loss: 1289.2235\n",
      "Epoch 247/500\n",
      "28/28 [==============================] - 0s 4ms/step - loss: 221.0090 - val_loss: 1279.9120\n",
      "Epoch 248/500\n",
      "28/28 [==============================] - 0s 4ms/step - loss: 219.8101 - val_loss: 1233.2079\n",
      "Epoch 249/500\n",
      "28/28 [==============================] - 0s 4ms/step - loss: 274.4490 - val_loss: 1206.4581\n",
      "Epoch 250/500\n",
      "28/28 [==============================] - 0s 4ms/step - loss: 293.1887 - val_loss: 1298.3115\n",
      "Epoch 251/500\n",
      "28/28 [==============================] - 0s 4ms/step - loss: 282.0059 - val_loss: 1297.6530\n",
      "Epoch 252/500\n",
      "28/28 [==============================] - 0s 4ms/step - loss: 277.1313 - val_loss: 1283.1871\n",
      "Epoch 253/500\n",
      "28/28 [==============================] - 0s 4ms/step - loss: 278.6328 - val_loss: 1291.7417\n",
      "Epoch 254/500\n",
      "28/28 [==============================] - 0s 4ms/step - loss: 267.1158 - val_loss: 1267.7657\n",
      "Epoch 255/500\n",
      "28/28 [==============================] - 0s 5ms/step - loss: 275.1468 - val_loss: 1306.4537\n",
      "Epoch 256/500\n",
      "28/28 [==============================] - 0s 5ms/step - loss: 267.4734 - val_loss: 1295.4989\n",
      "Epoch 257/500\n",
      "28/28 [==============================] - 0s 4ms/step - loss: 270.4175 - val_loss: 1337.1299\n",
      "Epoch 258/500\n",
      "28/28 [==============================] - 0s 4ms/step - loss: 266.7558 - val_loss: 1338.5364\n",
      "Epoch 259/500\n",
      "28/28 [==============================] - 0s 4ms/step - loss: 263.0948 - val_loss: 1326.2593\n",
      "Epoch 260/500\n",
      "28/28 [==============================] - 0s 4ms/step - loss: 260.6665 - val_loss: 1324.8898\n",
      "Epoch 261/500\n",
      "28/28 [==============================] - 0s 4ms/step - loss: 258.1715 - val_loss: 1312.8759\n",
      "Epoch 262/500\n",
      "28/28 [==============================] - 0s 5ms/step - loss: 254.0081 - val_loss: 1304.4056\n",
      "Epoch 263/500\n",
      "28/28 [==============================] - 0s 4ms/step - loss: 251.1975 - val_loss: 1305.6331\n",
      "Epoch 264/500\n",
      "28/28 [==============================] - 0s 5ms/step - loss: 250.2327 - val_loss: 1306.0859\n",
      "Epoch 265/500\n",
      "28/28 [==============================] - 0s 4ms/step - loss: 249.3233 - val_loss: 1298.3823\n",
      "Epoch 266/500\n",
      "28/28 [==============================] - 0s 5ms/step - loss: 273.3523 - val_loss: 1408.9819\n",
      "Epoch 267/500\n",
      "28/28 [==============================] - 0s 4ms/step - loss: 270.5319 - val_loss: 1403.7468\n",
      "Epoch 268/500\n",
      "28/28 [==============================] - 0s 4ms/step - loss: 269.1766 - val_loss: 1387.5491\n",
      "Epoch 269/500\n",
      "28/28 [==============================] - 0s 5ms/step - loss: 292.9141 - val_loss: 1378.8907\n",
      "Epoch 270/500\n",
      "28/28 [==============================] - 0s 4ms/step - loss: 282.8850 - val_loss: 1358.7081\n",
      "Epoch 271/500\n",
      "28/28 [==============================] - 0s 10ms/step - loss: 276.1258 - val_loss: 1350.2987\n",
      "Epoch 272/500\n",
      "28/28 [==============================] - 0s 5ms/step - loss: 274.0561 - val_loss: 1344.2985\n",
      "Epoch 273/500\n",
      "28/28 [==============================] - 0s 5ms/step - loss: 271.8841 - val_loss: 1348.1139\n",
      "Epoch 274/500\n",
      "28/28 [==============================] - 0s 5ms/step - loss: 270.5503 - val_loss: 1352.7319\n",
      "Epoch 275/500\n",
      "28/28 [==============================] - 0s 4ms/step - loss: 269.1250 - val_loss: 1358.7854\n",
      "Epoch 276/500\n",
      "28/28 [==============================] - 0s 4ms/step - loss: 266.4612 - val_loss: 1356.5385\n",
      "Epoch 277/500\n",
      "28/28 [==============================] - 0s 5ms/step - loss: 267.6945 - val_loss: 1348.3080\n",
      "Epoch 278/500\n",
      "28/28 [==============================] - 0s 4ms/step - loss: 274.9909 - val_loss: 1392.6323\n",
      "Epoch 279/500\n",
      "28/28 [==============================] - 0s 4ms/step - loss: 268.8970 - val_loss: 1377.6129\n",
      "Epoch 280/500\n",
      "28/28 [==============================] - 0s 4ms/step - loss: 270.5887 - val_loss: 1371.5015\n",
      "Epoch 281/500\n",
      "28/28 [==============================] - 0s 4ms/step - loss: 267.8427 - val_loss: 1361.5367\n",
      "Epoch 282/500\n",
      "28/28 [==============================] - 0s 5ms/step - loss: 263.2723 - val_loss: 1351.1787\n",
      "Epoch 283/500\n",
      "28/28 [==============================] - 0s 4ms/step - loss: 261.3004 - val_loss: 1351.5973\n",
      "Epoch 284/500\n",
      "28/28 [==============================] - 0s 4ms/step - loss: 259.8897 - val_loss: 1349.8740\n",
      "Epoch 285/500\n",
      "28/28 [==============================] - 0s 5ms/step - loss: 257.3800 - val_loss: 1338.3376\n",
      "Epoch 286/500\n",
      "28/28 [==============================] - 0s 5ms/step - loss: 255.0861 - val_loss: 1335.6134\n",
      "Epoch 287/500\n",
      "28/28 [==============================] - 0s 4ms/step - loss: 253.0126 - val_loss: 1336.0171\n",
      "Epoch 288/500\n",
      "28/28 [==============================] - 0s 4ms/step - loss: 251.7626 - val_loss: 1333.4208\n",
      "Epoch 289/500\n",
      "28/28 [==============================] - 0s 4ms/step - loss: 251.1924 - val_loss: 1329.1660\n",
      "Epoch 290/500\n",
      "28/28 [==============================] - 0s 5ms/step - loss: 253.6221 - val_loss: 1347.3435\n",
      "Epoch 291/500\n",
      "28/28 [==============================] - 0s 4ms/step - loss: 253.4681 - val_loss: 1341.8071\n",
      "Epoch 292/500\n",
      "28/28 [==============================] - 0s 4ms/step - loss: 248.9635 - val_loss: 1301.8314\n",
      "Epoch 293/500\n",
      "28/28 [==============================] - 0s 4ms/step - loss: 290.5429 - val_loss: 1339.0393\n",
      "Epoch 294/500\n",
      "28/28 [==============================] - 0s 5ms/step - loss: 284.6259 - val_loss: 1332.8364\n",
      "Epoch 295/500\n",
      "28/28 [==============================] - 0s 4ms/step - loss: 281.8233 - val_loss: 1339.2137\n",
      "Epoch 296/500\n",
      "28/28 [==============================] - 0s 4ms/step - loss: 267.3896 - val_loss: 1386.2656\n",
      "Epoch 297/500\n",
      "28/28 [==============================] - 0s 5ms/step - loss: 264.9300 - val_loss: 1377.8563\n",
      "Epoch 298/500\n",
      "28/28 [==============================] - 0s 5ms/step - loss: 256.4796 - val_loss: 1342.5750\n",
      "Epoch 299/500\n",
      "28/28 [==============================] - 0s 4ms/step - loss: 252.8569 - val_loss: 1325.1315\n",
      "Epoch 300/500\n",
      "28/28 [==============================] - 0s 4ms/step - loss: 245.9426 - val_loss: 1294.4487\n",
      "Epoch 301/500\n",
      "28/28 [==============================] - 0s 9ms/step - loss: 239.7123 - val_loss: 1233.6351\n",
      "Epoch 302/500\n",
      "28/28 [==============================] - 0s 5ms/step - loss: 240.8191 - val_loss: 1237.1486\n",
      "Epoch 303/500\n",
      "28/28 [==============================] - 0s 4ms/step - loss: 239.7550 - val_loss: 1246.8082\n",
      "Epoch 304/500\n",
      "28/28 [==============================] - 0s 4ms/step - loss: 238.5490 - val_loss: 1243.9937\n",
      "Epoch 305/500\n",
      "28/28 [==============================] - 0s 4ms/step - loss: 237.3035 - val_loss: 1247.3208\n",
      "Epoch 306/500\n",
      "28/28 [==============================] - 0s 4ms/step - loss: 239.0840 - val_loss: 1218.2357\n",
      "Epoch 307/500\n",
      "28/28 [==============================] - 0s 5ms/step - loss: 348.2487 - val_loss: 1299.4789\n",
      "Epoch 308/500\n",
      "28/28 [==============================] - 0s 5ms/step - loss: 241.8575 - val_loss: 1263.2740\n",
      "Epoch 309/500\n",
      "28/28 [==============================] - 0s 4ms/step - loss: 293.4407 - val_loss: 1522.1047\n",
      "Epoch 310/500\n",
      "28/28 [==============================] - 0s 4ms/step - loss: 318.2960 - val_loss: 1527.2817\n",
      "Epoch 311/500\n",
      "28/28 [==============================] - 0s 5ms/step - loss: 303.6348 - val_loss: 1550.2416\n",
      "Epoch 312/500\n",
      "28/28 [==============================] - 0s 4ms/step - loss: 302.2434 - val_loss: 1500.9517\n",
      "Epoch 313/500\n",
      "28/28 [==============================] - 0s 4ms/step - loss: 277.2671 - val_loss: 1460.5088\n",
      "Epoch 314/500\n",
      "28/28 [==============================] - 0s 4ms/step - loss: 269.3900 - val_loss: 1414.5250\n",
      "Epoch 315/500\n",
      "28/28 [==============================] - 0s 4ms/step - loss: 257.0272 - val_loss: 1386.1835\n",
      "Epoch 316/500\n",
      "28/28 [==============================] - 0s 4ms/step - loss: 255.0670 - val_loss: 1378.4027\n",
      "Epoch 317/500\n",
      "28/28 [==============================] - 0s 5ms/step - loss: 253.6117 - val_loss: 1366.1606\n",
      "Epoch 318/500\n",
      "28/28 [==============================] - 0s 4ms/step - loss: 252.6988 - val_loss: 1349.0277\n",
      "Epoch 319/500\n",
      "28/28 [==============================] - 0s 4ms/step - loss: 265.9789 - val_loss: 1354.0026\n",
      "Epoch 320/500\n",
      "28/28 [==============================] - 0s 4ms/step - loss: 295.8875 - val_loss: 1397.5858\n",
      "Epoch 321/500\n",
      "28/28 [==============================] - 0s 4ms/step - loss: 282.9336 - val_loss: 1379.2317\n",
      "Epoch 322/500\n",
      "28/28 [==============================] - 0s 4ms/step - loss: 245.8545 - val_loss: 1305.6089\n",
      "Epoch 323/500\n",
      "28/28 [==============================] - 0s 5ms/step - loss: 234.7731 - val_loss: 1273.7255\n",
      "Epoch 324/500\n",
      "28/28 [==============================] - 0s 4ms/step - loss: 233.1254 - val_loss: 1265.8392\n",
      "Epoch 325/500\n",
      "28/28 [==============================] - 0s 4ms/step - loss: 231.9093 - val_loss: 1261.1970\n",
      "Epoch 326/500\n",
      "28/28 [==============================] - 0s 4ms/step - loss: 229.4086 - val_loss: 1246.5171\n",
      "Epoch 327/500\n",
      "28/28 [==============================] - 0s 4ms/step - loss: 229.0976 - val_loss: 1243.5778\n",
      "Epoch 328/500\n",
      "28/28 [==============================] - 0s 9ms/step - loss: 228.1630 - val_loss: 1243.4961\n",
      "Epoch 329/500\n",
      "28/28 [==============================] - 0s 5ms/step - loss: 227.6436 - val_loss: 1234.7930\n",
      "Epoch 330/500\n",
      "28/28 [==============================] - 0s 4ms/step - loss: 226.8310 - val_loss: 1244.9004\n",
      "Epoch 331/500\n",
      "28/28 [==============================] - 0s 5ms/step - loss: 227.6971 - val_loss: 1249.4418\n",
      "Epoch 332/500\n",
      "28/28 [==============================] - 0s 5ms/step - loss: 226.4366 - val_loss: 1222.8815\n",
      "Epoch 333/500\n",
      "28/28 [==============================] - 0s 4ms/step - loss: 238.8743 - val_loss: 1295.4237\n",
      "Epoch 334/500\n",
      "28/28 [==============================] - 0s 5ms/step - loss: 236.9035 - val_loss: 1294.6321\n",
      "Epoch 335/500\n",
      "28/28 [==============================] - 0s 4ms/step - loss: 236.1910 - val_loss: 1292.5911\n",
      "Epoch 336/500\n",
      "28/28 [==============================] - 0s 4ms/step - loss: 235.5780 - val_loss: 1288.7493\n",
      "Epoch 337/500\n",
      "28/28 [==============================] - 0s 4ms/step - loss: 234.9669 - val_loss: 1285.2867\n",
      "Epoch 338/500\n",
      "28/28 [==============================] - 0s 5ms/step - loss: 234.3331 - val_loss: 1281.6343\n",
      "Epoch 339/500\n",
      "28/28 [==============================] - 0s 4ms/step - loss: 232.5708 - val_loss: 1271.6646\n",
      "Epoch 340/500\n",
      "28/28 [==============================] - 0s 4ms/step - loss: 227.3221 - val_loss: 1237.2781\n",
      "Epoch 341/500\n",
      "28/28 [==============================] - 0s 4ms/step - loss: 225.2910 - val_loss: 1228.3710\n",
      "Epoch 342/500\n",
      "28/28 [==============================] - 0s 4ms/step - loss: 224.2452 - val_loss: 1220.3926\n",
      "Epoch 343/500\n",
      "28/28 [==============================] - 0s 4ms/step - loss: 218.2258 - val_loss: 1209.9351\n",
      "Epoch 344/500\n",
      "28/28 [==============================] - 0s 4ms/step - loss: 216.7471 - val_loss: 1202.7350\n",
      "Epoch 345/500\n",
      "28/28 [==============================] - 0s 4ms/step - loss: 216.2713 - val_loss: 1200.7007\n",
      "Epoch 346/500\n",
      "28/28 [==============================] - 0s 4ms/step - loss: 215.4863 - val_loss: 1200.7845\n",
      "Epoch 347/500\n",
      "28/28 [==============================] - 0s 4ms/step - loss: 214.8515 - val_loss: 1200.0250\n",
      "Epoch 348/500\n",
      "28/28 [==============================] - 0s 4ms/step - loss: 214.2274 - val_loss: 1196.3641\n",
      "Epoch 349/500\n",
      "28/28 [==============================] - 0s 5ms/step - loss: 213.7608 - val_loss: 1199.3179\n",
      "Epoch 350/500\n",
      "28/28 [==============================] - 0s 4ms/step - loss: 213.1651 - val_loss: 1187.4218\n",
      "Epoch 351/500\n",
      "28/28 [==============================] - 0s 4ms/step - loss: 212.8823 - val_loss: 1182.1716\n",
      "Epoch 352/500\n",
      "28/28 [==============================] - 0s 5ms/step - loss: 211.7062 - val_loss: 1187.0963\n",
      "Epoch 353/500\n",
      "28/28 [==============================] - 0s 5ms/step - loss: 212.1612 - val_loss: 1194.2716\n",
      "Epoch 354/500\n",
      "28/28 [==============================] - 0s 4ms/step - loss: 211.3107 - val_loss: 1161.4218\n",
      "Epoch 355/500\n",
      "28/28 [==============================] - 0s 4ms/step - loss: 249.4926 - val_loss: 1345.6239\n",
      "Epoch 356/500\n",
      "28/28 [==============================] - 0s 5ms/step - loss: 243.3697 - val_loss: 1341.7836\n",
      "Epoch 357/500\n",
      "28/28 [==============================] - 0s 9ms/step - loss: 242.4363 - val_loss: 1340.7957\n",
      "Epoch 358/500\n",
      "28/28 [==============================] - 0s 5ms/step - loss: 241.7675 - val_loss: 1338.3571\n",
      "Epoch 359/500\n",
      "28/28 [==============================] - 0s 6ms/step - loss: 239.1899 - val_loss: 1324.5990\n",
      "Epoch 360/500\n",
      "28/28 [==============================] - 0s 5ms/step - loss: 232.8350 - val_loss: 1309.8713\n",
      "Epoch 361/500\n",
      "28/28 [==============================] - 0s 5ms/step - loss: 232.7457 - val_loss: 1303.9275\n",
      "Epoch 362/500\n",
      "28/28 [==============================] - 0s 4ms/step - loss: 231.7574 - val_loss: 1299.1396\n",
      "Epoch 363/500\n",
      "28/28 [==============================] - 0s 4ms/step - loss: 231.2414 - val_loss: 1295.7526\n",
      "Epoch 364/500\n",
      "28/28 [==============================] - 0s 4ms/step - loss: 230.8585 - val_loss: 1286.5691\n",
      "Epoch 365/500\n",
      "28/28 [==============================] - 0s 4ms/step - loss: 229.9826 - val_loss: 1292.6362\n",
      "Epoch 366/500\n",
      "28/28 [==============================] - 0s 4ms/step - loss: 229.4211 - val_loss: 1291.6300\n",
      "Epoch 367/500\n",
      "28/28 [==============================] - 0s 4ms/step - loss: 228.8064 - val_loss: 1294.0590\n",
      "Epoch 368/500\n",
      "28/28 [==============================] - 0s 4ms/step - loss: 228.1948 - val_loss: 1292.7629\n",
      "Epoch 369/500\n",
      "28/28 [==============================] - 0s 5ms/step - loss: 227.5748 - val_loss: 1289.0959\n",
      "Epoch 370/500\n",
      "28/28 [==============================] - 0s 4ms/step - loss: 227.0515 - val_loss: 1284.5339\n",
      "Epoch 371/500\n",
      "28/28 [==============================] - 0s 4ms/step - loss: 226.9997 - val_loss: 1273.2638\n",
      "Epoch 372/500\n",
      "28/28 [==============================] - 0s 4ms/step - loss: 225.9156 - val_loss: 1280.4923\n",
      "Epoch 373/500\n",
      "28/28 [==============================] - 0s 5ms/step - loss: 225.3588 - val_loss: 1278.2924\n",
      "Epoch 374/500\n",
      "28/28 [==============================] - 0s 4ms/step - loss: 224.8098 - val_loss: 1275.8413\n",
      "Epoch 375/500\n",
      "28/28 [==============================] - 0s 4ms/step - loss: 224.2629 - val_loss: 1273.4827\n",
      "Epoch 376/500\n",
      "28/28 [==============================] - 0s 4ms/step - loss: 223.7168 - val_loss: 1271.1632\n",
      "Epoch 377/500\n",
      "28/28 [==============================] - 0s 5ms/step - loss: 223.1716 - val_loss: 1268.8662\n",
      "Epoch 378/500\n",
      "28/28 [==============================] - 0s 6ms/step - loss: 222.6273 - val_loss: 1266.5887\n",
      "Epoch 379/500\n",
      "28/28 [==============================] - 0s 5ms/step - loss: 222.0840 - val_loss: 1264.3271\n",
      "Epoch 380/500\n",
      "28/28 [==============================] - 0s 4ms/step - loss: 221.5416 - val_loss: 1262.0824\n",
      "Epoch 381/500\n",
      "28/28 [==============================] - 0s 4ms/step - loss: 221.0003 - val_loss: 1259.8511\n",
      "Epoch 382/500\n",
      "28/28 [==============================] - 0s 9ms/step - loss: 220.4600 - val_loss: 1257.6326\n",
      "Epoch 383/500\n",
      "28/28 [==============================] - 0s 6ms/step - loss: 219.9207 - val_loss: 1255.4238\n",
      "Epoch 384/500\n",
      "28/28 [==============================] - 0s 5ms/step - loss: 219.3825 - val_loss: 1253.2257\n",
      "Epoch 385/500\n",
      "28/28 [==============================] - 0s 4ms/step - loss: 218.8454 - val_loss: 1251.0376\n",
      "Epoch 386/500\n",
      "28/28 [==============================] - 0s 5ms/step - loss: 218.3094 - val_loss: 1248.8612\n",
      "Epoch 387/500\n",
      "28/28 [==============================] - 0s 5ms/step - loss: 217.7744 - val_loss: 1246.6881\n",
      "Epoch 388/500\n",
      "28/28 [==============================] - 0s 4ms/step - loss: 217.2407 - val_loss: 1244.5249\n",
      "Epoch 389/500\n",
      "28/28 [==============================] - 0s 5ms/step - loss: 216.7091 - val_loss: 1242.5090\n",
      "Epoch 390/500\n",
      "28/28 [==============================] - 0s 5ms/step - loss: 216.1766 - val_loss: 1240.2740\n",
      "Epoch 391/500\n",
      "28/28 [==============================] - 0s 4ms/step - loss: 215.6462 - val_loss: 1238.1298\n",
      "Epoch 392/500\n",
      "28/28 [==============================] - 0s 4ms/step - loss: 215.1171 - val_loss: 1235.9954\n",
      "Epoch 393/500\n",
      "28/28 [==============================] - 0s 4ms/step - loss: 214.5891 - val_loss: 1233.8640\n",
      "Epoch 394/500\n",
      "28/28 [==============================] - 0s 5ms/step - loss: 214.0623 - val_loss: 1231.7473\n",
      "Epoch 395/500\n",
      "28/28 [==============================] - 0s 4ms/step - loss: 213.5367 - val_loss: 1229.6246\n",
      "Epoch 396/500\n",
      "28/28 [==============================] - 0s 4ms/step - loss: 213.0124 - val_loss: 1227.5243\n",
      "Epoch 397/500\n",
      "28/28 [==============================] - 0s 4ms/step - loss: 212.4891 - val_loss: 1225.4054\n",
      "Epoch 398/500\n",
      "28/28 [==============================] - 0s 4ms/step - loss: 211.9671 - val_loss: 1223.3264\n",
      "Epoch 399/500\n",
      "28/28 [==============================] - 0s 5ms/step - loss: 211.4463 - val_loss: 1221.2018\n",
      "Epoch 400/500\n",
      "28/28 [==============================] - 0s 4ms/step - loss: 210.9268 - val_loss: 1219.1418\n",
      "Epoch 401/500\n",
      "28/28 [==============================] - 0s 4ms/step - loss: 210.4084 - val_loss: 1217.0288\n",
      "Epoch 402/500\n",
      "28/28 [==============================] - 0s 4ms/step - loss: 209.8912 - val_loss: 1214.9803\n",
      "Epoch 403/500\n",
      "28/28 [==============================] - 0s 4ms/step - loss: 209.3752 - val_loss: 1212.8766\n",
      "Epoch 404/500\n",
      "28/28 [==============================] - 0s 5ms/step - loss: 208.8606 - val_loss: 1210.8383\n",
      "Epoch 405/500\n",
      "28/28 [==============================] - 0s 10ms/step - loss: 208.3470 - val_loss: 1208.7512\n",
      "Epoch 406/500\n",
      "28/28 [==============================] - 0s 6ms/step - loss: 207.8349 - val_loss: 1206.7253\n",
      "Epoch 407/500\n",
      "28/28 [==============================] - 0s 5ms/step - loss: 207.3238 - val_loss: 1204.6555\n",
      "Epoch 408/500\n",
      "28/28 [==============================] - 0s 5ms/step - loss: 206.8139 - val_loss: 1202.6582\n",
      "Epoch 409/500\n",
      "28/28 [==============================] - 0s 5ms/step - loss: 206.3049 - val_loss: 1200.6509\n",
      "Epoch 410/500\n",
      "28/28 [==============================] - 0s 5ms/step - loss: 205.7961 - val_loss: 1198.8221\n",
      "Epoch 411/500\n",
      "28/28 [==============================] - 0s 4ms/step - loss: 205.2979 - val_loss: 1196.5088\n",
      "Epoch 412/500\n",
      "28/28 [==============================] - 0s 5ms/step - loss: 204.7929 - val_loss: 1193.2068\n",
      "Epoch 413/500\n",
      "28/28 [==============================] - 0s 4ms/step - loss: 204.2654 - val_loss: 1194.2306\n",
      "Epoch 414/500\n",
      "28/28 [==============================] - 0s 4ms/step - loss: 204.2353 - val_loss: 1192.3334\n",
      "Epoch 415/500\n",
      "28/28 [==============================] - 0s 4ms/step - loss: 203.7172 - val_loss: 1190.1799\n",
      "Epoch 416/500\n",
      "28/28 [==============================] - 0s 4ms/step - loss: 203.2168 - val_loss: 1188.1456\n",
      "Epoch 417/500\n",
      "28/28 [==============================] - 0s 4ms/step - loss: 202.7173 - val_loss: 1186.2117\n",
      "Epoch 418/500\n",
      "28/28 [==============================] - 0s 4ms/step - loss: 202.2111 - val_loss: 1184.6976\n",
      "Epoch 419/500\n",
      "28/28 [==============================] - 0s 4ms/step - loss: 201.9187 - val_loss: 1182.4094\n",
      "Epoch 420/500\n",
      "28/28 [==============================] - 0s 5ms/step - loss: 200.7795 - val_loss: 1183.0861\n",
      "Epoch 421/500\n",
      "28/28 [==============================] - 0s 4ms/step - loss: 201.2887 - val_loss: 1185.7175\n",
      "Epoch 422/500\n",
      "28/28 [==============================] - 0s 5ms/step - loss: 199.7702 - val_loss: 1170.5767\n",
      "Epoch 423/500\n",
      "28/28 [==============================] - 0s 4ms/step - loss: 217.4436 - val_loss: 1204.0824\n",
      "Epoch 424/500\n",
      "28/28 [==============================] - 0s 5ms/step - loss: 244.9849 - val_loss: 1108.8234\n",
      "Epoch 425/500\n",
      "28/28 [==============================] - 0s 4ms/step - loss: 276.5358 - val_loss: 1262.0304\n",
      "Epoch 426/500\n",
      "28/28 [==============================] - 0s 4ms/step - loss: 244.4143 - val_loss: 1202.8658\n",
      "Epoch 427/500\n",
      "28/28 [==============================] - 0s 4ms/step - loss: 257.9815 - val_loss: 1193.7848\n",
      "Epoch 428/500\n",
      "28/28 [==============================] - 0s 4ms/step - loss: 246.2509 - val_loss: 1174.3856\n",
      "Epoch 429/500\n",
      "28/28 [==============================] - 0s 4ms/step - loss: 295.1755 - val_loss: 1192.0009\n",
      "Epoch 430/500\n",
      "28/28 [==============================] - 0s 4ms/step - loss: 288.5685 - val_loss: 1215.4252\n",
      "Epoch 431/500\n",
      "28/28 [==============================] - 0s 10ms/step - loss: 281.7389 - val_loss: 1237.2377\n",
      "Epoch 432/500\n",
      "28/28 [==============================] - 0s 5ms/step - loss: 243.5163 - val_loss: 1257.1051\n",
      "Epoch 433/500\n",
      "28/28 [==============================] - 0s 5ms/step - loss: 230.6388 - val_loss: 1238.6034\n",
      "Epoch 434/500\n",
      "28/28 [==============================] - 0s 5ms/step - loss: 230.0742 - val_loss: 1239.5459\n",
      "Epoch 435/500\n",
      "28/28 [==============================] - 0s 5ms/step - loss: 228.9295 - val_loss: 1237.4291\n",
      "Epoch 436/500\n",
      "28/28 [==============================] - 0s 4ms/step - loss: 228.2361 - val_loss: 1240.0209\n",
      "Epoch 437/500\n",
      "28/28 [==============================] - 0s 4ms/step - loss: 227.6530 - val_loss: 1240.7839\n",
      "Epoch 438/500\n",
      "28/28 [==============================] - 0s 5ms/step - loss: 227.0083 - val_loss: 1244.2377\n",
      "Epoch 439/500\n",
      "28/28 [==============================] - 0s 4ms/step - loss: 226.1955 - val_loss: 1246.9199\n",
      "Epoch 440/500\n",
      "28/28 [==============================] - 0s 5ms/step - loss: 225.6957 - val_loss: 1244.7974\n",
      "Epoch 441/500\n",
      "28/28 [==============================] - 0s 4ms/step - loss: 218.4557 - val_loss: 1211.9775\n",
      "Epoch 442/500\n",
      "28/28 [==============================] - 0s 5ms/step - loss: 228.5818 - val_loss: 1236.2994\n",
      "Epoch 443/500\n",
      "28/28 [==============================] - 0s 4ms/step - loss: 223.3215 - val_loss: 1225.5320\n",
      "Epoch 444/500\n",
      "28/28 [==============================] - 0s 5ms/step - loss: 223.6199 - val_loss: 1193.8694\n",
      "Epoch 445/500\n",
      "28/28 [==============================] - 0s 4ms/step - loss: 224.2171 - val_loss: 1195.2538\n",
      "Epoch 446/500\n",
      "28/28 [==============================] - 0s 5ms/step - loss: 222.9753 - val_loss: 1201.7494\n",
      "Epoch 447/500\n",
      "28/28 [==============================] - 0s 4ms/step - loss: 222.1814 - val_loss: 1201.4989\n",
      "Epoch 448/500\n",
      "28/28 [==============================] - 0s 4ms/step - loss: 221.1255 - val_loss: 1200.4941\n",
      "Epoch 449/500\n",
      "28/28 [==============================] - 0s 4ms/step - loss: 220.5981 - val_loss: 1199.2493\n",
      "Epoch 450/500\n",
      "28/28 [==============================] - 0s 4ms/step - loss: 219.3566 - val_loss: 1205.0753\n",
      "Epoch 451/500\n",
      "28/28 [==============================] - 0s 4ms/step - loss: 218.7974 - val_loss: 1205.9443\n",
      "Epoch 452/500\n",
      "28/28 [==============================] - 0s 4ms/step - loss: 217.8712 - val_loss: 1208.5137\n",
      "Epoch 453/500\n",
      "28/28 [==============================] - 0s 4ms/step - loss: 217.3643 - val_loss: 1207.7450\n",
      "Epoch 454/500\n",
      "28/28 [==============================] - 0s 4ms/step - loss: 217.0332 - val_loss: 1209.4205\n",
      "Epoch 455/500\n",
      "28/28 [==============================] - 0s 10ms/step - loss: 216.2481 - val_loss: 1210.8844\n",
      "Epoch 456/500\n",
      "28/28 [==============================] - 0s 5ms/step - loss: 215.7353 - val_loss: 1210.9617\n",
      "Epoch 457/500\n",
      "28/28 [==============================] - 0s 5ms/step - loss: 215.2428 - val_loss: 1212.5093\n",
      "Epoch 458/500\n",
      "28/28 [==============================] - 0s 5ms/step - loss: 214.9195 - val_loss: 1208.9290\n",
      "Epoch 459/500\n",
      "28/28 [==============================] - 0s 5ms/step - loss: 214.7279 - val_loss: 1207.4658\n",
      "Epoch 460/500\n",
      "28/28 [==============================] - 0s 5ms/step - loss: 214.1972 - val_loss: 1208.4496\n",
      "Epoch 461/500\n",
      "28/28 [==============================] - 0s 4ms/step - loss: 213.4374 - val_loss: 1208.9601\n",
      "Epoch 462/500\n",
      "28/28 [==============================] - 0s 4ms/step - loss: 212.9281 - val_loss: 1211.9604\n",
      "Epoch 463/500\n",
      "28/28 [==============================] - 0s 4ms/step - loss: 212.6587 - val_loss: 1205.8076\n",
      "Epoch 464/500\n",
      "28/28 [==============================] - 0s 4ms/step - loss: 212.3020 - val_loss: 1207.0665\n",
      "Epoch 465/500\n",
      "28/28 [==============================] - 0s 4ms/step - loss: 211.9018 - val_loss: 1202.2964\n",
      "Epoch 466/500\n",
      "28/28 [==============================] - 0s 4ms/step - loss: 211.7795 - val_loss: 1201.2388\n",
      "Epoch 467/500\n",
      "28/28 [==============================] - 0s 4ms/step - loss: 210.7883 - val_loss: 1202.3004\n",
      "Epoch 468/500\n",
      "28/28 [==============================] - 0s 4ms/step - loss: 210.4684 - val_loss: 1200.3994\n",
      "Epoch 469/500\n",
      "28/28 [==============================] - 0s 4ms/step - loss: 209.8689 - val_loss: 1197.9357\n",
      "Epoch 470/500\n",
      "28/28 [==============================] - 0s 4ms/step - loss: 209.0456 - val_loss: 1186.0291\n",
      "Epoch 471/500\n",
      "28/28 [==============================] - 0s 5ms/step - loss: 209.5755 - val_loss: 1184.4674\n",
      "Epoch 472/500\n",
      "28/28 [==============================] - 0s 5ms/step - loss: 208.8757 - val_loss: 1185.8292\n",
      "Epoch 473/500\n",
      "28/28 [==============================] - 0s 4ms/step - loss: 208.5166 - val_loss: 1182.8635\n",
      "Epoch 474/500\n",
      "28/28 [==============================] - 0s 4ms/step - loss: 208.2837 - val_loss: 1180.5563\n",
      "Epoch 475/500\n",
      "28/28 [==============================] - 0s 4ms/step - loss: 207.6546 - val_loss: 1182.1606\n",
      "Epoch 476/500\n",
      "28/28 [==============================] - 0s 4ms/step - loss: 206.8740 - val_loss: 1186.6980\n",
      "Epoch 477/500\n",
      "28/28 [==============================] - 0s 5ms/step - loss: 206.8251 - val_loss: 1179.0184\n",
      "Epoch 478/500\n",
      "28/28 [==============================] - 0s 4ms/step - loss: 206.2774 - val_loss: 1179.5386\n",
      "Epoch 479/500\n",
      "28/28 [==============================] - 0s 9ms/step - loss: 205.9305 - val_loss: 1175.5776\n",
      "Epoch 480/500\n",
      "28/28 [==============================] - 0s 5ms/step - loss: 205.6559 - val_loss: 1172.6627\n",
      "Epoch 481/500\n",
      "28/28 [==============================] - 0s 6ms/step - loss: 205.0797 - val_loss: 1168.6520\n",
      "Epoch 482/500\n",
      "28/28 [==============================] - 0s 5ms/step - loss: 204.4464 - val_loss: 1171.0211\n",
      "Epoch 483/500\n",
      "28/28 [==============================] - 0s 5ms/step - loss: 204.5643 - val_loss: 1162.7701\n",
      "Epoch 484/500\n",
      "28/28 [==============================] - 0s 4ms/step - loss: 211.3134 - val_loss: 1211.3822\n",
      "Epoch 485/500\n",
      "28/28 [==============================] - 0s 4ms/step - loss: 212.4570 - val_loss: 1205.0233\n",
      "Epoch 486/500\n",
      "28/28 [==============================] - 0s 4ms/step - loss: 206.5214 - val_loss: 1176.8423\n",
      "Epoch 487/500\n",
      "28/28 [==============================] - 0s 4ms/step - loss: 202.6040 - val_loss: 1161.9069\n",
      "Epoch 488/500\n",
      "28/28 [==============================] - 0s 5ms/step - loss: 201.3084 - val_loss: 1155.2505\n",
      "Epoch 489/500\n",
      "28/28 [==============================] - 0s 4ms/step - loss: 200.8336 - val_loss: 1152.8115\n",
      "Epoch 490/500\n",
      "28/28 [==============================] - 0s 5ms/step - loss: 197.3937 - val_loss: 1146.9838\n",
      "Epoch 491/500\n",
      "28/28 [==============================] - 0s 5ms/step - loss: 196.1933 - val_loss: 1119.9397\n",
      "Epoch 492/500\n",
      "28/28 [==============================] - 0s 4ms/step - loss: 208.5691 - val_loss: 1164.3451\n",
      "Epoch 493/500\n",
      "28/28 [==============================] - 0s 4ms/step - loss: 203.7024 - val_loss: 1139.5662\n",
      "Epoch 494/500\n",
      "28/28 [==============================] - 0s 4ms/step - loss: 268.9371 - val_loss: 1157.4979\n",
      "Epoch 495/500\n",
      "28/28 [==============================] - 0s 4ms/step - loss: 201.3240 - val_loss: 1154.6244\n",
      "Epoch 496/500\n",
      "28/28 [==============================] - 0s 4ms/step - loss: 266.7549 - val_loss: 1160.1327\n",
      "Epoch 497/500\n",
      "28/28 [==============================] - 0s 5ms/step - loss: 260.1306 - val_loss: 1186.1433\n",
      "Epoch 498/500\n",
      "28/28 [==============================] - 0s 4ms/step - loss: 256.9810 - val_loss: 1201.1807\n",
      "Epoch 499/500\n",
      "28/28 [==============================] - 0s 5ms/step - loss: 253.9826 - val_loss: 1216.6121\n",
      "Epoch 500/500\n",
      "28/28 [==============================] - 0s 4ms/step - loss: 252.4589 - val_loss: 1227.8674\n"
     ]
    }
   ],
   "source": [
    "C0 = tf.Variable(88.1552, name=\"C0\", trainable=True, dtype=tf.float32)\n",
    "K0 = tf.Variable(-0.0026, name=\"K0\", trainable=True, dtype=tf.float32)\n",
    "K1 = tf.Variable(-0.0004, name=\"K1\", trainable=True, dtype=tf.float32)\n",
    "a = tf.Variable(0.0000, name=\"a\", trainable=True, dtype=tf.float32)\n",
    "b = tf.Variable(0.0102, name=\"b\", trainable=True, dtype=tf.float32)\n",
    "c = tf.Variable(2.8734, name=\"c\", trainable=True, dtype=tf.float32)\n",
    "\n",
    "splitr = 0.8\n",
    "\n",
    "\n",
    "def loss_fn(y_true, y_pred):\n",
    "    squared_difference = tf.square(y_true[:, 0] - y_pred[:, 0])\n",
    "    #squared_difference2 = tf.square(y_true[:, 2]-y_pred[:, 2])\n",
    "    #squared_difference1 = tf.square(y_true[:, 1]-y_pred[:, 1])\n",
    "    epsilon = 1\n",
    "    squared_difference3 = tf.square(\n",
    "        y_pred[:, 1] - (\n",
    "            y_pred[:, 0] * (\n",
    "                K0 - K1 * (\n",
    "                    9 * a * tf.math.log((y_pred[:, 0] + epsilon) / C0) / (K0 - K1 * c)**2 +\n",
    "                    4 * b * tf.math.log((y_pred[:, 0] + epsilon) / C0) / (K0 - K1 * c) + c\n",
    "                )\n",
    "            )\n",
    "        )\n",
    "    )\n",
    "    return tf.reduce_mean(squared_difference, axis=-1) + 0.2*tf.reduce_mean(squared_difference3, axis=-1)\n",
    "model = Sequential()\n",
    "model.add(LSTM(100, input_shape=(trainX.shape[1], trainX.shape[2])))\n",
    "model.add(Dense(60))\n",
    "model.compile(loss=loss_fn, optimizer='adam')\n",
    "history = model.fit(trainX[:int(splitr*trainX.shape[0])], trainy[:int(splitr*trainX.shape[0])], epochs=500, batch_size=64, validation_data=(trainX[int(splitr*trainX.shape[0]):trainX.shape[0]], trainy[int(splitr*trainX.shape[0]):trainX.shape[0]]), shuffle=False)"
   ]
  },
  {
   "cell_type": "code",
   "execution_count": 19,
   "metadata": {
    "colab": {
     "base_uri": "https://localhost:8080/"
    },
    "id": "yJL101rPyuoT",
    "outputId": "239ff2b1-c186-423a-d316-939dfdd7c793"
   },
   "outputs": [
    {
     "name": "stdout",
     "output_type": "stream",
     "text": [
      "1/1 [==============================] - 1s 553ms/step\n"
     ]
    }
   ],
   "source": [
    "forecast_without_mc = forecastX\n",
    "yhat_without_mc = model.predict(forecast_without_mc) # Step Ahead Prediction\n",
    "forecast_without_mc = forecast_without_mc.reshape((forecast_without_mc.shape[0], forecast_without_mc.shape[2])) # Historical Input"
   ]
  },
  {
   "cell_type": "code",
   "execution_count": 20,
   "metadata": {
    "colab": {
     "base_uri": "https://localhost:8080/"
    },
    "id": "g9dQELcJ8wbp",
    "outputId": "4dc7671b-b1a8-48d5-8744-a86f98446109"
   },
   "outputs": [
    {
     "data": {
      "text/plain": [
       "(1, 1, 126)"
      ]
     },
     "execution_count": 20,
     "metadata": {},
     "output_type": "execute_result"
    }
   ],
   "source": [
    "forecastX.shape"
   ]
  },
  {
   "cell_type": "code",
   "execution_count": 21,
   "metadata": {
    "colab": {
     "base_uri": "https://localhost:8080/"
    },
    "id": "IS2kyIKG1Kbr",
    "outputId": "f31b3485-8e26-452f-9298-ea8bf7e80ad1"
   },
   "outputs": [
    {
     "data": {
      "text/plain": [
       "(1, 126)"
      ]
     },
     "execution_count": 21,
     "metadata": {},
     "output_type": "execute_result"
    }
   ],
   "source": [
    "forecast_without_mc.shape"
   ]
  },
  {
   "cell_type": "code",
   "execution_count": 22,
   "metadata": {
    "id": "0u6VIzaDyuoT"
   },
   "outputs": [],
   "source": [
    "inv_yhat_without_mc = np.concatenate((forecast_without_mc, yhat_without_mc), axis=1) # Concatenation of predicted values with Historical Data\n",
    "#inv_yhat_without_mc = scaler.inverse_transform(inv_yhat_without_mc) # Transform labels back to original encoding"
   ]
  },
  {
   "cell_type": "code",
   "execution_count": 23,
   "metadata": {
    "colab": {
     "base_uri": "https://localhost:8080/"
    },
    "id": "EUEcw0LX07oU",
    "outputId": "cfc32397-9c37-4b43-d087-584bb31c3dcc"
   },
   "outputs": [
    {
     "data": {
      "text/plain": [
       "(1, 186)"
      ]
     },
     "execution_count": 23,
     "metadata": {},
     "output_type": "execute_result"
    }
   ],
   "source": [
    "inv_yhat_without_mc.shape"
   ]
  },
  {
   "cell_type": "code",
   "execution_count": 24,
   "metadata": {
    "id": "31OWVbSh_305"
   },
   "outputs": [],
   "source": [
    "fforecast = inv_yhat_without_mc[:,-150:]"
   ]
  },
  {
   "cell_type": "code",
   "execution_count": 25,
   "metadata": {},
   "outputs": [
    {
     "data": {
      "text/plain": [
       "(1, 150)"
      ]
     },
     "execution_count": 25,
     "metadata": {},
     "output_type": "execute_result"
    }
   ],
   "source": [
    "fforecast.shape"
   ]
  },
  {
   "cell_type": "code",
   "execution_count": 26,
   "metadata": {
    "id": "BlpGH2FOAiRF"
   },
   "outputs": [],
   "source": [
    "final_forecast = fforecast[:,0:150:3]"
   ]
  },
  {
   "cell_type": "code",
   "execution_count": 27,
   "metadata": {},
   "outputs": [
    {
     "data": {
      "text/plain": [
       "(1, 150)"
      ]
     },
     "execution_count": 27,
     "metadata": {},
     "output_type": "execute_result"
    }
   ],
   "source": [
    "fforecast.shape"
   ]
  },
  {
   "cell_type": "code",
   "execution_count": 28,
   "metadata": {
    "id": "CXkgkj_LBk_t"
   },
   "outputs": [],
   "source": [
    "# code to replace all negative value with 0\n",
    "final_forecast[final_forecast<0] = 0"
   ]
  },
  {
   "cell_type": "code",
   "execution_count": 29,
   "metadata": {},
   "outputs": [
    {
     "data": {
      "text/plain": [
       "array([[0.00000000e+00, 7.18643137e+01, 0.00000000e+00, 7.24603922e+01,\n",
       "        7.12142484e+01, 7.09722316e+01, 7.17858823e+01, 7.10857703e+01,\n",
       "        7.08472689e+01, 1.45036131e-01, 0.00000000e+00, 0.00000000e+00,\n",
       "        7.07800420e+01, 3.02265940e-02, 7.08864846e+01, 7.44450980e+01,\n",
       "        8.38599100e-02, 7.07660364e+01, 7.28996078e+01, 7.22250980e+01,\n",
       "        4.22481810e-01, 1.26242206e-01, 0.00000000e+00, 6.96443939e+01,\n",
       "        3.49589199e-01, 0.00000000e+00, 6.50203168e-01, 0.00000000e+00,\n",
       "        0.00000000e+00, 0.00000000e+00, 7.43063812e+01, 3.05565059e-01,\n",
       "        0.00000000e+00, 0.00000000e+00, 0.00000000e+00, 3.97118598e-01,\n",
       "        0.00000000e+00, 1.31422058e-02, 0.00000000e+00, 1.40174520e+00,\n",
       "        0.00000000e+00, 0.00000000e+00, 0.00000000e+00, 3.03492785e-01,\n",
       "        0.00000000e+00, 0.00000000e+00, 0.00000000e+00, 0.00000000e+00,\n",
       "        3.02149177e-01, 8.35218668e-01]])"
      ]
     },
     "execution_count": 29,
     "metadata": {},
     "output_type": "execute_result"
    }
   ],
   "source": [
    "final_forecast"
   ]
  },
  {
   "cell_type": "code",
   "execution_count": 30,
   "metadata": {},
   "outputs": [
    {
     "data": {
      "text/plain": [
       "(1, 50)"
      ]
     },
     "execution_count": 30,
     "metadata": {},
     "output_type": "execute_result"
    }
   ],
   "source": [
    "final_forecast.shape"
   ]
  },
  {
   "cell_type": "code",
   "execution_count": 31,
   "metadata": {},
   "outputs": [
    {
     "data": {
      "text/plain": [
       "(50,)"
      ]
     },
     "execution_count": 31,
     "metadata": {},
     "output_type": "execute_result"
    }
   ],
   "source": [
    "test.shape"
   ]
  },
  {
   "cell_type": "code",
   "execution_count": 32,
   "metadata": {},
   "outputs": [],
   "source": [
    "training_set = np.array(training_set)\n",
    "test = np.array(test)\n",
    "final_forecast = np.array(final_forecast.squeeze(0))"
   ]
  },
  {
   "cell_type": "code",
   "execution_count": 33,
   "metadata": {},
   "outputs": [
    {
     "data": {
      "text/plain": [
       "array([52.86327116, 52.8476942 , 52.83211724, 52.81654027, 52.80096331,\n",
       "       52.78538635, 52.76980939, 52.75423242, 52.73865546, 52.7230785 ,\n",
       "       52.70750154, 52.69192457, 52.67634761, 52.66077065, 52.64519369,\n",
       "       52.62961672, 52.61403976, 52.5984628 , 52.58288584, 52.56730887,\n",
       "       52.55173191, 52.53615495, 52.52057799, 52.50500102, 52.48942406,\n",
       "       52.4738471 , 52.45827014, 52.44269317, 52.42711621, 52.41153925,\n",
       "       52.39596229, 52.38038532, 52.36480836, 52.3492314 , 52.33365444,\n",
       "       52.31807747, 52.30250051, 52.28692355, 52.27134659, 52.25576962,\n",
       "       52.24019266, 52.2246157 , 52.20903874, 52.19346177, 52.17788481,\n",
       "       52.16230785, 52.14673089, 52.13115392, 52.11557696, 52.1       ])"
      ]
     },
     "execution_count": 33,
     "metadata": {},
     "output_type": "execute_result"
    }
   ],
   "source": [
    "test"
   ]
  },
  {
   "cell_type": "code",
   "execution_count": 34,
   "metadata": {},
   "outputs": [
    {
     "data": {
      "text/plain": [
       "(50,)"
      ]
     },
     "execution_count": 34,
     "metadata": {},
     "output_type": "execute_result"
    }
   ],
   "source": [
    "test.shape"
   ]
  },
  {
   "cell_type": "code",
   "execution_count": 35,
   "metadata": {},
   "outputs": [
    {
     "data": {
      "text/plain": [
       "(50,)"
      ]
     },
     "execution_count": 35,
     "metadata": {},
     "output_type": "execute_result"
    }
   ],
   "source": [
    "final_forecast.shape"
   ]
  },
  {
   "cell_type": "code",
   "execution_count": 36,
   "metadata": {},
   "outputs": [
    {
     "data": {
      "text/plain": [
       "(50,)"
      ]
     },
     "execution_count": 36,
     "metadata": {},
     "output_type": "execute_result"
    }
   ],
   "source": [
    "test.shape"
   ]
  },
  {
   "cell_type": "code",
   "execution_count": 37,
   "metadata": {},
   "outputs": [
    {
     "name": "stdout",
     "output_type": "stream",
     "text": [
      "44.94984806347921\n",
      "42.293416742703286\n"
     ]
    }
   ],
   "source": [
    "import math\n",
    "MSE = np.square(np.subtract(np.array(test),np.array(final_forecast))).mean()   \n",
    "rsme = math.sqrt(MSE)\n",
    "print(rsme)  \n",
    "MAE = np.abs(np.subtract(np.array(test),np.array(final_forecast))).mean()   \n",
    "mae = MAE\n",
    "print(mae)"
   ]
  }
 ],
 "metadata": {
  "colab": {
   "provenance": []
  },
  "kernelspec": {
   "display_name": "Python 3",
   "language": "python",
   "name": "python3"
  },
  "language_info": {
   "codemirror_mode": {
    "name": "ipython",
    "version": 3
   },
   "file_extension": ".py",
   "mimetype": "text/x-python",
   "name": "python",
   "nbconvert_exporter": "python",
   "pygments_lexer": "ipython3",
   "version": "3.9.13"
  }
 },
 "nbformat": 4,
 "nbformat_minor": 0
}
