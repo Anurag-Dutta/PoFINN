{
 "cells": [
  {
   "cell_type": "markdown",
   "metadata": {
    "id": "pCGKeZ2gyuoQ"
   },
   "source": [
    "_Importing Required Libraries_"
   ]
  },
  {
   "cell_type": "code",
   "execution_count": 1,
   "metadata": {
    "colab": {
     "base_uri": "https://localhost:8080/"
    },
    "id": "A-6LN-zXiLcM",
    "outputId": "4de610a4-f8b8-4f49-c6c0-89de299ccedc"
   },
   "outputs": [
    {
     "name": "stdout",
     "output_type": "stream",
     "text": [
      "Requirement already satisfied: hampel in c:\\users\\anurag dutta\\appdata\\local\\packages\\pythonsoftwarefoundation.python.3.9_qbz5n2kfra8p0\\localcache\\local-packages\\python39\\site-packages (0.0.5)\n",
      "Requirement already satisfied: numpy in c:\\users\\anurag dutta\\appdata\\local\\packages\\pythonsoftwarefoundation.python.3.9_qbz5n2kfra8p0\\localcache\\local-packages\\python39\\site-packages (from hampel) (1.26.4)\n",
      "Requirement already satisfied: pandas in c:\\users\\anurag dutta\\appdata\\local\\packages\\pythonsoftwarefoundation.python.3.9_qbz5n2kfra8p0\\localcache\\local-packages\\python39\\site-packages (from hampel) (1.5.2)\n",
      "Requirement already satisfied: python-dateutil>=2.8.1 in c:\\users\\anurag dutta\\appdata\\local\\packages\\pythonsoftwarefoundation.python.3.9_qbz5n2kfra8p0\\localcache\\local-packages\\python39\\site-packages (from pandas->hampel) (2.8.2)\n",
      "Requirement already satisfied: pytz>=2020.1 in c:\\users\\anurag dutta\\appdata\\local\\packages\\pythonsoftwarefoundation.python.3.9_qbz5n2kfra8p0\\localcache\\local-packages\\python39\\site-packages (from pandas->hampel) (2023.3.post1)\n",
      "Requirement already satisfied: six>=1.5 in c:\\users\\anurag dutta\\appdata\\local\\packages\\pythonsoftwarefoundation.python.3.9_qbz5n2kfra8p0\\localcache\\local-packages\\python39\\site-packages (from python-dateutil>=2.8.1->pandas->hampel) (1.16.0)\n",
      "Note: you may need to restart the kernel to use updated packages.\n"
     ]
    },
    {
     "name": "stderr",
     "output_type": "stream",
     "text": [
      "\n",
      "[notice] A new release of pip is available: 24.2 -> 24.3.1\n",
      "[notice] To update, run: C:\\Users\\Anurag Dutta\\AppData\\Local\\Microsoft\\WindowsApps\\PythonSoftwareFoundation.Python.3.9_qbz5n2kfra8p0\\python.exe -m pip install --upgrade pip\n"
     ]
    }
   ],
   "source": [
    "pip install hampel"
   ]
  },
  {
   "cell_type": "code",
   "execution_count": 2,
   "metadata": {
    "id": "By_d9uXpaFvZ"
   },
   "outputs": [],
   "source": [
    "from keras.models import Sequential\n",
    "from keras.layers import Dense\n",
    "from keras.layers import LSTM\n",
    "from keras.layers import Dropout\n",
    "import keras\n",
    "import tensorflow as tf\n",
    "from hampel import hampel\n",
    "import numpy as np\n",
    "import matplotlib.pyplot as plt\n",
    "import pandas as pd\n",
    "from sklearn.preprocessing import MinMaxScaler\n",
    "from sklearn.metrics import mean_squared_error, mean_absolute_error\n",
    "from math import sqrt\n",
    "from matplotlib import pyplot\n",
    "from numpy import array"
   ]
  },
  {
   "cell_type": "markdown",
   "metadata": {
    "id": "JyOjBMFayuoR"
   },
   "source": [
    "## Pretraining"
   ]
  },
  {
   "cell_type": "markdown",
   "metadata": {
    "id": "-5QqIY_GyuoR"
   },
   "source": [
    "The `capa_intermittency.dat` feeds the model with the dynamics of the Capacitor"
   ]
  },
  {
   "cell_type": "code",
   "execution_count": 3,
   "metadata": {
    "id": "9dV4a8yfyuoR"
   },
   "outputs": [],
   "source": [
    "data = np.genfromtxt('capa_intermittency.dat')\n",
    "training_set = pd.DataFrame(data).reset_index(drop=True)\n",
    "training_set = training_set.iloc[:,0]"
   ]
  },
  {
   "cell_type": "markdown",
   "metadata": {
    "id": "i7easoxByuoR"
   },
   "source": [
    "## Computing the Gradient"
   ]
  },
  {
   "cell_type": "markdown",
   "metadata": {
    "id": "5SnyolJTyuoR"
   },
   "source": [
    "_Calculating the value of_ $\\frac{dx}{dt}$"
   ]
  },
  {
   "cell_type": "code",
   "execution_count": 4,
   "metadata": {
    "colab": {
     "base_uri": "https://localhost:8080/"
    },
    "id": "wmIbVfIvyuoR",
    "outputId": "aa4e3136-c854-465d-d2e9-81cfd546e440"
   },
   "outputs": [
    {
     "name": "stdout",
     "output_type": "stream",
     "text": [
      "1.0\n",
      "1        0.000298\n",
      "2        0.000298\n",
      "3        0.000297\n",
      "4        0.000297\n",
      "5        0.000297\n",
      "           ...   \n",
      "9996     0.000018\n",
      "9997     0.000018\n",
      "9998     0.000018\n",
      "9999     0.000018\n",
      "10000    0.000018\n",
      "Name: 0, Length: 10000, dtype: float64\n"
     ]
    }
   ],
   "source": [
    "t_diff = 1\n",
    "print(training_set.max())\n",
    "gradient_t = (training_set.diff()/t_diff).iloc[1:] # dx/dt\n",
    "print(gradient_t)"
   ]
  },
  {
   "cell_type": "markdown",
   "metadata": {
    "id": "_2eVeeoxyuoS"
   },
   "source": [
    "## Loading Datasets"
   ]
  },
  {
   "cell_type": "code",
   "execution_count": 5,
   "metadata": {
    "id": "0J-NKyIEyuoS"
   },
   "outputs": [
    {
     "data": {
      "text/plain": [
       "0       84.600000\n",
       "1       84.431933\n",
       "2       84.263866\n",
       "3       84.095798\n",
       "4       83.927731\n",
       "          ...    \n",
       "2145    48.682681\n",
       "2146    48.672843\n",
       "2147    48.663005\n",
       "2148    48.653167\n",
       "2149    48.643329\n",
       "Name: C6, Length: 2150, dtype: float64"
      ]
     },
     "execution_count": 5,
     "metadata": {},
     "output_type": "execute_result"
    }
   ],
   "source": [
    "data = pd.read_csv(\"c6_interpolated_2050_100.csv\")\n",
    "training_set = data.iloc[:, 1]\n",
    "training_set"
   ]
  },
  {
   "cell_type": "code",
   "execution_count": 6,
   "metadata": {
    "colab": {
     "base_uri": "https://localhost:8080/"
    },
    "id": "-CbNUhJ74UqF",
    "outputId": "20f562d8-8247-49cc-b9c3-00eca5e13e2d"
   },
   "outputs": [
    {
     "data": {
      "text/plain": [
       "0       84.600000\n",
       "1       84.431933\n",
       "2       84.263866\n",
       "3       84.095798\n",
       "4       83.927731\n",
       "          ...    \n",
       "2045     0.601355\n",
       "2046     0.000000\n",
       "2047     0.259597\n",
       "2048     0.108075\n",
       "2049     0.268836\n",
       "Name: C6, Length: 2050, dtype: float64"
      ]
     },
     "execution_count": 6,
     "metadata": {},
     "output_type": "execute_result"
    }
   ],
   "source": [
    "test = training_set.tail(100)\n",
    "test\n",
    "training_set = training_set.head(2050)\n",
    "training_set"
   ]
  },
  {
   "cell_type": "code",
   "execution_count": 7,
   "metadata": {
    "colab": {
     "base_uri": "https://localhost:8080/"
    },
    "id": "X0TwTcq0yuoS",
    "outputId": "37252ed8-d88e-4044-fa7a-922411990b5b"
   },
   "outputs": [
    {
     "name": "stdout",
     "output_type": "stream",
     "text": [
      "0       0.000298\n",
      "1       0.000298\n",
      "2       0.000297\n",
      "3       0.000297\n",
      "4       0.000297\n",
      "          ...   \n",
      "9995    0.000018\n",
      "9996    0.000018\n",
      "9997    0.000018\n",
      "9998    0.000018\n",
      "9999    0.000018\n",
      "Name: 0, Length: 10000, dtype: float64\n"
     ]
    }
   ],
   "source": [
    "training_set = training_set.reset_index(drop=True)\n",
    "gradient_t = gradient_t.reset_index(drop=True)\n",
    "print(gradient_t)"
   ]
  },
  {
   "cell_type": "code",
   "execution_count": 8,
   "metadata": {
    "id": "O2biznZQyuoS"
   },
   "outputs": [],
   "source": [
    "df = pd.concat((training_set, gradient_t), axis=1)\n",
    "df.columns = ['y_t', 'grad_t']"
   ]
  },
  {
   "cell_type": "code",
   "execution_count": 9,
   "metadata": {
    "colab": {
     "base_uri": "https://localhost:8080/",
     "height": 423
    },
    "id": "sk_a5v3tyuoS",
    "outputId": "17563625-e550-45ae-faab-fafa353e44da"
   },
   "outputs": [
    {
     "data": {
      "text/html": [
       "<div>\n",
       "<style scoped>\n",
       "    .dataframe tbody tr th:only-of-type {\n",
       "        vertical-align: middle;\n",
       "    }\n",
       "\n",
       "    .dataframe tbody tr th {\n",
       "        vertical-align: top;\n",
       "    }\n",
       "\n",
       "    .dataframe thead th {\n",
       "        text-align: right;\n",
       "    }\n",
       "</style>\n",
       "<table border=\"1\" class=\"dataframe\">\n",
       "  <thead>\n",
       "    <tr style=\"text-align: right;\">\n",
       "      <th></th>\n",
       "      <th>y_t</th>\n",
       "      <th>grad_t</th>\n",
       "    </tr>\n",
       "  </thead>\n",
       "  <tbody>\n",
       "    <tr>\n",
       "      <th>0</th>\n",
       "      <td>84.600000</td>\n",
       "      <td>0.000298</td>\n",
       "    </tr>\n",
       "    <tr>\n",
       "      <th>1</th>\n",
       "      <td>84.431933</td>\n",
       "      <td>0.000298</td>\n",
       "    </tr>\n",
       "    <tr>\n",
       "      <th>2</th>\n",
       "      <td>84.263866</td>\n",
       "      <td>0.000297</td>\n",
       "    </tr>\n",
       "    <tr>\n",
       "      <th>3</th>\n",
       "      <td>84.095798</td>\n",
       "      <td>0.000297</td>\n",
       "    </tr>\n",
       "    <tr>\n",
       "      <th>4</th>\n",
       "      <td>83.927731</td>\n",
       "      <td>0.000297</td>\n",
       "    </tr>\n",
       "    <tr>\n",
       "      <th>...</th>\n",
       "      <td>...</td>\n",
       "      <td>...</td>\n",
       "    </tr>\n",
       "    <tr>\n",
       "      <th>9995</th>\n",
       "      <td>NaN</td>\n",
       "      <td>0.000018</td>\n",
       "    </tr>\n",
       "    <tr>\n",
       "      <th>9996</th>\n",
       "      <td>NaN</td>\n",
       "      <td>0.000018</td>\n",
       "    </tr>\n",
       "    <tr>\n",
       "      <th>9997</th>\n",
       "      <td>NaN</td>\n",
       "      <td>0.000018</td>\n",
       "    </tr>\n",
       "    <tr>\n",
       "      <th>9998</th>\n",
       "      <td>NaN</td>\n",
       "      <td>0.000018</td>\n",
       "    </tr>\n",
       "    <tr>\n",
       "      <th>9999</th>\n",
       "      <td>NaN</td>\n",
       "      <td>0.000018</td>\n",
       "    </tr>\n",
       "  </tbody>\n",
       "</table>\n",
       "<p>10000 rows × 2 columns</p>\n",
       "</div>"
      ],
      "text/plain": [
       "            y_t    grad_t\n",
       "0     84.600000  0.000298\n",
       "1     84.431933  0.000298\n",
       "2     84.263866  0.000297\n",
       "3     84.095798  0.000297\n",
       "4     83.927731  0.000297\n",
       "...         ...       ...\n",
       "9995        NaN  0.000018\n",
       "9996        NaN  0.000018\n",
       "9997        NaN  0.000018\n",
       "9998        NaN  0.000018\n",
       "9999        NaN  0.000018\n",
       "\n",
       "[10000 rows x 2 columns]"
      ]
     },
     "execution_count": 9,
     "metadata": {},
     "output_type": "execute_result"
    }
   ],
   "source": [
    "df"
   ]
  },
  {
   "cell_type": "markdown",
   "metadata": {
    "id": "-5esyHu5aFvg"
   },
   "source": [
    "## Plot of the External Forcing from Chaotic Differential Equation"
   ]
  },
  {
   "cell_type": "code",
   "execution_count": 10,
   "metadata": {
    "colab": {
     "base_uri": "https://localhost:8080/",
     "height": 447
    },
    "id": "hGnE43tOh-4p",
    "outputId": "fc396503-b624-4fa5-dfbe-f460207405c6"
   },
   "outputs": [
    {
     "data": {
      "text/plain": [
       "<Axes: >"
      ]
     },
     "execution_count": 10,
     "metadata": {},
     "output_type": "execute_result"
    },
    {
     "data": {
      "image/png": "[encoded data removed]",
      "text/plain": [
       "<Figure size 432x288 with 1 Axes>"
      ]
     },
     "metadata": {
      "needs_background": "light"
     },
     "output_type": "display_data"
    }
   ],
   "source": [
    "df.iloc[:, 0].plot()"
   ]
  },
  {
   "cell_type": "code",
   "execution_count": 11,
   "metadata": {
    "colab": {
     "base_uri": "https://localhost:8080/",
     "height": 447
    },
    "id": "ym4xWUUxaFvg",
    "outputId": "ae6a3495-8ce9-437e-ba81-3ed31deedeae"
   },
   "outputs": [
    {
     "name": "stderr",
     "output_type": "stream",
     "text": [
      "C:\\Users\\Anurag Dutta\\AppData\\Local\\Packages\\PythonSoftwareFoundation.Python.3.9_qbz5n2kfra8p0\\LocalCache\\local-packages\\Python39\\site-packages\\pandas\\core\\arraylike.py:402: RuntimeWarning: divide by zero encountered in log\n",
      "  result = getattr(ufunc, method)(*inputs, **kwargs)\n"
     ]
    },
    {
     "data": {
      "text/plain": [
       "<Axes: >"
      ]
     },
     "execution_count": 11,
     "metadata": {},
     "output_type": "execute_result"
    },
    {
     "data": {
      "image/png": "[encoded data removed]",
      "text/plain": [
       "<Figure size 432x288 with 1 Axes>"
      ]
     },
     "metadata": {
      "needs_background": "light"
     },
     "output_type": "display_data"
    }
   ],
   "source": [
    "import numpy as np\n",
    "c0 = 82.7524  # Value for C0\n",
    "K0 = -0.0031  # Value for K0\n",
    "K1 = -0.0003  # Value for K1\n",
    "a = 0.0000    # Value for a\n",
    "b = 0.0171    # Value for b\n",
    "c = 3.0230    # Value for c\n",
    "\n",
    "L = np.minimum(c0, (df.iloc[:, 1] - (df.iloc[:, 0] * (K0 - K1 * (9 * a * np.log(df.iloc[:, 0] / c0) / (K0 - K1 * c)**2 + 4 * b * np.log(df.iloc[:, 0] / c0) / (K0 - K1 * c) + c)))))\n",
    "L.plot()"
   ]
  },
  {
   "cell_type": "markdown",
   "metadata": {
    "id": "9VyEywnwaFvh"
   },
   "source": [
    "## Preprocessing the data into supervised learning"
   ]
  },
  {
   "cell_type": "code",
   "execution_count": 12,
   "metadata": {
    "id": "6V9dXqzdaFvh"
   },
   "outputs": [],
   "source": [
    "# split a sequence into samples\n",
    "def Supervised(data, n_in=1, n_out=1, dropnan=True):\n",
    "    n_vars = 1 if type(data) is list else data.shape[1]\n",
    "    df = pd.DataFrame(data)\n",
    "    cols, names = list(), list()\n",
    "    # input sequence (t-n_in, ... t-1)\n",
    "    for i in range(n_in, 0, -1):\n",
    "        cols.append(df.shift(i))\n",
    "        names += [('var%d(t-%d)' % (j+1, i)) for j in range(n_vars)]\n",
    "    # forecast sequence (t, t+1, ... t+n_out)\n",
    "    for i in range(0, n_out):\n",
    "      cols.append(df.shift(-i))\n",
    "      if i == 0:\n",
    "        names += [('var%d(t)' % (j+1)) for j in range(n_vars)]\n",
    "      else:\n",
    "        names += [('var%d(t+%d)' % (j+1, i)) for j in range(n_vars)]\n",
    "    # put it all together\n",
    "    agg = pd.concat(cols, axis=1)\n",
    "    agg.columns = names\n",
    "    # drop rows with NaN values\n",
    "    if dropnan:\n",
    "       agg.dropna(inplace=True)\n",
    "    return agg"
   ]
  },
  {
   "cell_type": "code",
   "execution_count": 13,
   "metadata": {
    "colab": {
     "base_uri": "https://localhost:8080/"
    },
    "id": "CrzSrT1HnyfH",
    "outputId": "7e75f928-3e47-499d-eac1-51908015ef78"
   },
   "outputs": [
    {
     "name": "stdout",
     "output_type": "stream",
     "text": [
      "     var1(t-350)  var1(t-349)  var1(t-348)  var1(t-347)  var1(t-346)  \\\n",
      "350    84.600000    84.431933    84.263866    84.095798    83.927731   \n",
      "351    84.431933    84.263866    84.095798    83.927731    83.759664   \n",
      "352    84.263866    84.095798    83.927731    83.759664    83.591597   \n",
      "353    84.095798    83.927731    83.759664    83.591597    83.423529   \n",
      "354    83.927731    83.759664    83.591597    83.423529    83.255462   \n",
      "\n",
      "     var1(t-345)  var1(t-344)  var1(t-343)  var1(t-342)  var1(t-341)  ...  \\\n",
      "350    83.759664    83.591597    83.423529    83.255462    83.092437  ...   \n",
      "351    83.591597    83.423529    83.255462    83.092437    82.991597  ...   \n",
      "352    83.423529    83.255462    83.092437    82.991597    82.890756  ...   \n",
      "353    83.255462    83.092437    82.991597    82.890756    82.789916  ...   \n",
      "354    83.092437    82.991597    82.890756    82.789916    82.689076  ...   \n",
      "\n",
      "     var1(t+95)  var2(t+95)  var1(t+96)  var2(t+96)  var1(t+97)  var2(t+97)  \\\n",
      "350   70.003688    0.000263   69.960738    0.000263   69.917787    0.000263   \n",
      "351   69.960738    0.000263   69.917787    0.000263   69.874837    0.000262   \n",
      "352   69.917787    0.000263   69.874837    0.000262   69.831886    0.000262   \n",
      "353   69.874837    0.000262   69.831886    0.000262   69.788936    0.000262   \n",
      "354   69.831886    0.000262   69.788936    0.000262   69.745985    0.000262   \n",
      "\n",
      "     var1(t+98)  var2(t+98)  var1(t+99)  var2(t+99)  \n",
      "350   69.874837    0.000262   69.831886    0.000262  \n",
      "351   69.831886    0.000262   69.788936    0.000262  \n",
      "352   69.788936    0.000262   69.745985    0.000262  \n",
      "353   69.745985    0.000262   69.703035    0.000262  \n",
      "354   69.703035    0.000262   69.660084    0.000262  \n",
      "\n",
      "[5 rows x 551 columns]\n",
      "Index(['var1(t-350)', 'var1(t-349)', 'var1(t-348)', 'var1(t-347)',\n",
      "       'var1(t-346)', 'var1(t-345)', 'var1(t-344)', 'var1(t-343)',\n",
      "       'var1(t-342)', 'var1(t-341)',\n",
      "       ...\n",
      "       'var1(t+95)', 'var2(t+95)', 'var1(t+96)', 'var2(t+96)', 'var1(t+97)',\n",
      "       'var2(t+97)', 'var1(t+98)', 'var2(t+98)', 'var1(t+99)', 'var2(t+99)'],\n",
      "      dtype='object', length=551)\n"
     ]
    }
   ],
   "source": [
    "data = Supervised(df.values, n_in = 350, n_out = 100)\n",
    "\n",
    "\n",
    "cols_to_drop = []\n",
    "for i in range(2, 351):\n",
    "    cols_to_drop.extend([f'var2(t-{i})'])\n",
    "\n",
    "data.drop(cols_to_drop, axis=1, inplace=True)\n",
    "\n",
    "print(data.head())\n",
    "print(data.columns)"
   ]
  },
  {
   "cell_type": "code",
   "execution_count": 14,
   "metadata": {
    "id": "AfPf60oy6Pe4"
   },
   "outputs": [],
   "source": [
    "train = np.array(data[0:len(data)-1])\n",
    "forecast = np.array(data.tail(1))"
   ]
  },
  {
   "cell_type": "code",
   "execution_count": 15,
   "metadata": {
    "id": "WSAafzI37KiT"
   },
   "outputs": [],
   "source": [
    "trainy = train[:,-300:]\n",
    "trainX = train[:,:-300]"
   ]
  },
  {
   "cell_type": "code",
   "execution_count": 16,
   "metadata": {
    "id": "2SrOqVJA7f50"
   },
   "outputs": [],
   "source": [
    "forecasty = forecast[:,-300:]\n",
    "forecastX = forecast[:,:-300]"
   ]
  },
  {
   "cell_type": "code",
   "execution_count": 17,
   "metadata": {
    "colab": {
     "base_uri": "https://localhost:8080/"
    },
    "id": "Qno_k8Nw7saY",
    "outputId": "c4a88db5-d8c6-489f-cdb2-06b24e293cff"
   },
   "outputs": [
    {
     "name": "stdout",
     "output_type": "stream",
     "text": [
      "(1600, 1, 251) (1600, 300) (1, 1, 251)\n"
     ]
    }
   ],
   "source": [
    "trainX = trainX.reshape((trainX.shape[0], 1, trainX.shape[1]))\n",
    "forecastX = forecastX.reshape((forecastX.shape[0], 1, forecastX.shape[1]))\n",
    "print(trainX.shape, trainy.shape, forecastX.shape)"
   ]
  },
  {
   "cell_type": "code",
   "execution_count": 18,
   "metadata": {
    "colab": {
     "base_uri": "https://localhost:8080/"
    },
    "id": "b1Jp2DvNuNFx",
    "outputId": "d0e5b3c4-64f1-438c-eade-8dfeaac8e285"
   },
   "outputs": [
    {
     "name": "stdout",
     "output_type": "stream",
     "text": [
      "Epoch 1/500\n",
      "20/20 [==============================] - 3s 31ms/step - loss: 3800.4602 - val_loss: 2145.3677\n",
      "Epoch 2/500\n",
      "20/20 [==============================] - 0s 5ms/step - loss: 3614.8101 - val_loss: 2043.5219\n",
      "Epoch 3/500\n",
      "20/20 [==============================] - 0s 4ms/step - loss: 3507.4751 - val_loss: 1985.0240\n",
      "Epoch 4/500\n",
      "20/20 [==============================] - 0s 4ms/step - loss: 3414.5911 - val_loss: 1934.4473\n",
      "Epoch 5/500\n",
      "20/20 [==============================] - 0s 4ms/step - loss: 3342.0652 - val_loss: 1894.4047\n",
      "Epoch 6/500\n",
      "20/20 [==============================] - 0s 5ms/step - loss: 3273.8984 - val_loss: 1856.0205\n",
      "Epoch 7/500\n",
      "20/20 [==============================] - 0s 4ms/step - loss: 3207.8481 - val_loss: 1818.9713\n",
      "Epoch 8/500\n",
      "20/20 [==============================] - 0s 4ms/step - loss: 3143.4871 - val_loss: 1783.0560\n",
      "Epoch 9/500\n",
      "20/20 [==============================] - 0s 3ms/step - loss: 3080.5618 - val_loss: 1748.1621\n",
      "Epoch 10/500\n",
      "20/20 [==============================] - 0s 6ms/step - loss: 3018.9236 - val_loss: 1714.2230\n",
      "Epoch 11/500\n",
      "20/20 [==============================] - 0s 5ms/step - loss: 2958.4741 - val_loss: 1681.1810\n",
      "Epoch 12/500\n",
      "20/20 [==============================] - 0s 4ms/step - loss: 2899.1436 - val_loss: 1648.9978\n",
      "Epoch 13/500\n",
      "20/20 [==============================] - 0s 3ms/step - loss: 2840.8823 - val_loss: 1617.6433\n",
      "Epoch 14/500\n",
      "20/20 [==============================] - 0s 3ms/step - loss: 2783.6504 - val_loss: 1587.0928\n",
      "Epoch 15/500\n",
      "20/20 [==============================] - 0s 4ms/step - loss: 2727.4146 - val_loss: 1557.3250\n",
      "Epoch 16/500\n",
      "20/20 [==============================] - 0s 4ms/step - loss: 2672.1487 - val_loss: 1528.3218\n",
      "Epoch 17/500\n",
      "20/20 [==============================] - 0s 3ms/step - loss: 2617.8289 - val_loss: 1500.0665\n",
      "Epoch 18/500\n",
      "20/20 [==============================] - 0s 3ms/step - loss: 2564.4358 - val_loss: 1472.5439\n",
      "Epoch 19/500\n",
      "20/20 [==============================] - 0s 3ms/step - loss: 2511.9500 - val_loss: 1445.7408\n",
      "Epoch 20/500\n",
      "20/20 [==============================] - 0s 3ms/step - loss: 2460.3555 - val_loss: 1419.6439\n",
      "Epoch 21/500\n",
      "20/20 [==============================] - 0s 3ms/step - loss: 2409.6362 - val_loss: 1394.2410\n",
      "Epoch 22/500\n",
      "20/20 [==============================] - 0s 3ms/step - loss: 2359.7783 - val_loss: 1369.5205\n",
      "Epoch 23/500\n",
      "20/20 [==============================] - 0s 5ms/step - loss: 2310.7683 - val_loss: 1345.4711\n",
      "Epoch 24/500\n",
      "20/20 [==============================] - 0s 4ms/step - loss: 2262.5930 - val_loss: 1322.0823\n",
      "Epoch 25/500\n",
      "20/20 [==============================] - 0s 4ms/step - loss: 2215.2407 - val_loss: 1299.3435\n",
      "Epoch 26/500\n",
      "20/20 [==============================] - 0s 3ms/step - loss: 2168.6992 - val_loss: 1277.2448\n",
      "Epoch 27/500\n",
      "20/20 [==============================] - 0s 4ms/step - loss: 2122.9573 - val_loss: 1255.7761\n",
      "Epoch 28/500\n",
      "20/20 [==============================] - 0s 4ms/step - loss: 2078.0039 - val_loss: 1234.9281\n",
      "Epoch 29/500\n",
      "20/20 [==============================] - 0s 3ms/step - loss: 2033.8289 - val_loss: 1214.6913\n",
      "Epoch 30/500\n",
      "20/20 [==============================] - 0s 5ms/step - loss: 1990.4215 - val_loss: 1195.0564\n",
      "Epoch 31/500\n",
      "20/20 [==============================] - 0s 4ms/step - loss: 1947.7722 - val_loss: 1176.0143\n",
      "Epoch 32/500\n",
      "20/20 [==============================] - 0s 3ms/step - loss: 1905.8705 - val_loss: 1157.5563\n",
      "Epoch 33/500\n",
      "20/20 [==============================] - 0s 3ms/step - loss: 1864.7076 - val_loss: 1139.6732\n",
      "Epoch 34/500\n",
      "20/20 [==============================] - 0s 4ms/step - loss: 1824.2728 - val_loss: 1122.3567\n",
      "Epoch 35/500\n",
      "20/20 [==============================] - 0s 4ms/step - loss: 1784.5582 - val_loss: 1105.5980\n",
      "Epoch 36/500\n",
      "20/20 [==============================] - 0s 3ms/step - loss: 1745.5535 - val_loss: 1089.3890\n",
      "Epoch 37/500\n",
      "20/20 [==============================] - 0s 4ms/step - loss: 1707.2502 - val_loss: 1073.7212\n",
      "Epoch 38/500\n",
      "20/20 [==============================] - 0s 4ms/step - loss: 1669.6394 - val_loss: 1058.5859\n",
      "Epoch 39/500\n",
      "20/20 [==============================] - 0s 3ms/step - loss: 1632.7123 - val_loss: 1043.9756\n",
      "Epoch 40/500\n",
      "20/20 [==============================] - 0s 3ms/step - loss: 1596.4604 - val_loss: 1029.8816\n",
      "Epoch 41/500\n",
      "20/20 [==============================] - 0s 4ms/step - loss: 1560.8752 - val_loss: 1016.2963\n",
      "Epoch 42/500\n",
      "20/20 [==============================] - 0s 4ms/step - loss: 1525.9479 - val_loss: 1003.2116\n",
      "Epoch 43/500\n",
      "20/20 [==============================] - 0s 3ms/step - loss: 1491.6707 - val_loss: 990.6198\n",
      "Epoch 44/500\n",
      "20/20 [==============================] - 0s 4ms/step - loss: 1458.0349 - val_loss: 978.5128\n",
      "Epoch 45/500\n",
      "20/20 [==============================] - 0s 4ms/step - loss: 1425.0325 - val_loss: 966.8829\n",
      "Epoch 46/500\n",
      "20/20 [==============================] - 0s 4ms/step - loss: 1392.6558 - val_loss: 955.7227\n",
      "Epoch 47/500\n",
      "20/20 [==============================] - 0s 4ms/step - loss: 1360.8967 - val_loss: 945.0243\n",
      "Epoch 48/500\n",
      "20/20 [==============================] - 0s 4ms/step - loss: 1329.7465 - val_loss: 934.7802\n",
      "Epoch 49/500\n",
      "20/20 [==============================] - 0s 3ms/step - loss: 1299.1984 - val_loss: 924.9829\n",
      "Epoch 50/500\n",
      "20/20 [==============================] - 0s 4ms/step - loss: 1269.2440 - val_loss: 915.6250\n",
      "Epoch 51/500\n",
      "20/20 [==============================] - 0s 4ms/step - loss: 1239.8761 - val_loss: 906.6987\n",
      "Epoch 52/500\n",
      "20/20 [==============================] - 0s 4ms/step - loss: 1211.0865 - val_loss: 898.1974\n",
      "Epoch 53/500\n",
      "20/20 [==============================] - 0s 4ms/step - loss: 1182.8683 - val_loss: 890.1131\n",
      "Epoch 54/500\n",
      "20/20 [==============================] - 0s 4ms/step - loss: 1155.2134 - val_loss: 882.4388\n",
      "Epoch 55/500\n",
      "20/20 [==============================] - 0s 4ms/step - loss: 1128.1145 - val_loss: 875.1675\n",
      "Epoch 56/500\n",
      "20/20 [==============================] - 0s 11ms/step - loss: 1101.5645 - val_loss: 868.2916\n",
      "Epoch 57/500\n",
      "20/20 [==============================] - 0s 4ms/step - loss: 1075.5557 - val_loss: 861.8042\n",
      "Epoch 58/500\n",
      "20/20 [==============================] - 0s 3ms/step - loss: 1050.0809 - val_loss: 855.6982\n",
      "Epoch 59/500\n",
      "20/20 [==============================] - 0s 3ms/step - loss: 1025.1331 - val_loss: 849.9666\n",
      "Epoch 60/500\n",
      "20/20 [==============================] - 0s 4ms/step - loss: 1000.7051 - val_loss: 844.6022\n",
      "Epoch 61/500\n",
      "20/20 [==============================] - 0s 4ms/step - loss: 976.7894 - val_loss: 839.5983\n",
      "Epoch 62/500\n",
      "20/20 [==============================] - 0s 3ms/step - loss: 953.3794 - val_loss: 834.9481\n",
      "Epoch 63/500\n",
      "20/20 [==============================] - 0s 5ms/step - loss: 930.4680 - val_loss: 830.6443\n",
      "Epoch 64/500\n",
      "20/20 [==============================] - 0s 5ms/step - loss: 908.0479 - val_loss: 826.6804\n",
      "Epoch 65/500\n",
      "20/20 [==============================] - 0s 4ms/step - loss: 886.1126 - val_loss: 823.0495\n",
      "Epoch 66/500\n",
      "20/20 [==============================] - 0s 5ms/step - loss: 864.6550 - val_loss: 819.7448\n",
      "Epoch 67/500\n",
      "20/20 [==============================] - 0s 5ms/step - loss: 843.6683 - val_loss: 816.7599\n",
      "Epoch 68/500\n",
      "20/20 [==============================] - 0s 4ms/step - loss: 823.1457 - val_loss: 814.0879\n",
      "Epoch 69/500\n",
      "20/20 [==============================] - 0s 4ms/step - loss: 803.0806 - val_loss: 811.7224\n",
      "Epoch 70/500\n",
      "20/20 [==============================] - 0s 4ms/step - loss: 783.4659 - val_loss: 809.6570\n",
      "Epoch 71/500\n",
      "20/20 [==============================] - 0s 5ms/step - loss: 764.2958 - val_loss: 807.8861\n",
      "Epoch 72/500\n",
      "20/20 [==============================] - 0s 5ms/step - loss: 745.5585 - val_loss: 806.6407\n",
      "Epoch 73/500\n",
      "20/20 [==============================] - 0s 5ms/step - loss: 722.6669 - val_loss: 804.7243\n",
      "Epoch 74/500\n",
      "20/20 [==============================] - 0s 4ms/step - loss: 701.3950 - val_loss: 803.7467\n",
      "Epoch 75/500\n",
      "20/20 [==============================] - 0s 4ms/step - loss: 681.2811 - val_loss: 803.1561\n",
      "Epoch 76/500\n",
      "20/20 [==============================] - 0s 3ms/step - loss: 662.1995 - val_loss: 802.9086\n",
      "Epoch 77/500\n",
      "20/20 [==============================] - 0s 3ms/step - loss: 643.9388 - val_loss: 802.9767\n",
      "Epoch 78/500\n",
      "20/20 [==============================] - 0s 4ms/step - loss: 626.3749 - val_loss: 803.3409\n",
      "Epoch 79/500\n",
      "20/20 [==============================] - 0s 3ms/step - loss: 609.4308 - val_loss: 803.9860\n",
      "Epoch 80/500\n",
      "20/20 [==============================] - 0s 3ms/step - loss: 593.0547 - val_loss: 804.8987\n",
      "Epoch 81/500\n",
      "20/20 [==============================] - 0s 3ms/step - loss: 577.2082 - val_loss: 806.0676\n",
      "Epoch 82/500\n",
      "20/20 [==============================] - 0s 3ms/step - loss: 561.8620 - val_loss: 807.4822\n",
      "Epoch 83/500\n",
      "20/20 [==============================] - 0s 4ms/step - loss: 546.9917 - val_loss: 809.1328\n",
      "Epoch 84/500\n",
      "20/20 [==============================] - 0s 4ms/step - loss: 532.5775 - val_loss: 811.0104\n",
      "Epoch 85/500\n",
      "20/20 [==============================] - 0s 4ms/step - loss: 518.6014 - val_loss: 813.1062\n",
      "Epoch 86/500\n",
      "20/20 [==============================] - 0s 3ms/step - loss: 505.0482 - val_loss: 815.4120\n",
      "Epoch 87/500\n",
      "20/20 [==============================] - 0s 3ms/step - loss: 491.9037 - val_loss: 817.9196\n",
      "Epoch 88/500\n",
      "20/20 [==============================] - 0s 3ms/step - loss: 479.1554 - val_loss: 820.6213\n",
      "Epoch 89/500\n",
      "20/20 [==============================] - 0s 3ms/step - loss: 466.7914 - val_loss: 823.5096\n",
      "Epoch 90/500\n",
      "20/20 [==============================] - 0s 4ms/step - loss: 454.8007 - val_loss: 826.5773\n",
      "Epoch 91/500\n",
      "20/20 [==============================] - 0s 5ms/step - loss: 443.1733 - val_loss: 829.8172\n",
      "Epoch 92/500\n",
      "20/20 [==============================] - 0s 4ms/step - loss: 431.8990 - val_loss: 833.2220\n",
      "Epoch 93/500\n",
      "20/20 [==============================] - 0s 3ms/step - loss: 420.9688 - val_loss: 836.7852\n",
      "Epoch 94/500\n",
      "20/20 [==============================] - 0s 4ms/step - loss: 410.3736 - val_loss: 840.5000\n",
      "Epoch 95/500\n",
      "20/20 [==============================] - 0s 3ms/step - loss: 400.1049 - val_loss: 844.3596\n",
      "Epoch 96/500\n",
      "20/20 [==============================] - 0s 3ms/step - loss: 390.1545 - val_loss: 848.3577\n",
      "Epoch 97/500\n",
      "20/20 [==============================] - 0s 11ms/step - loss: 380.5144 - val_loss: 852.4881\n",
      "Epoch 98/500\n",
      "20/20 [==============================] - 0s 4ms/step - loss: 371.1768 - val_loss: 856.7441\n",
      "Epoch 99/500\n",
      "20/20 [==============================] - 0s 3ms/step - loss: 362.1343 - val_loss: 861.1200\n",
      "Epoch 100/500\n",
      "20/20 [==============================] - 0s 3ms/step - loss: 353.3796 - val_loss: 865.6095\n",
      "Epoch 101/500\n",
      "20/20 [==============================] - 0s 4ms/step - loss: 344.9055 - val_loss: 870.2067\n",
      "Epoch 102/500\n",
      "20/20 [==============================] - 0s 4ms/step - loss: 336.7051 - val_loss: 874.9056\n",
      "Epoch 103/500\n",
      "20/20 [==============================] - 0s 4ms/step - loss: 328.7717 - val_loss: 879.7007\n",
      "Epoch 104/500\n",
      "20/20 [==============================] - 0s 3ms/step - loss: 321.0985 - val_loss: 884.5861\n",
      "Epoch 105/500\n",
      "20/20 [==============================] - 0s 5ms/step - loss: 313.6791 - val_loss: 889.5566\n",
      "Epoch 106/500\n",
      "20/20 [==============================] - 0s 4ms/step - loss: 306.5071 - val_loss: 894.6061\n",
      "Epoch 107/500\n",
      "20/20 [==============================] - 0s 4ms/step - loss: 299.5763 - val_loss: 899.7298\n",
      "Epoch 108/500\n",
      "20/20 [==============================] - 0s 4ms/step - loss: 292.8806 - val_loss: 904.9224\n",
      "Epoch 109/500\n",
      "20/20 [==============================] - 0s 4ms/step - loss: 286.4136 - val_loss: 910.1780\n",
      "Epoch 110/500\n",
      "20/20 [==============================] - 0s 5ms/step - loss: 280.1700 - val_loss: 915.4920\n",
      "Epoch 111/500\n",
      "20/20 [==============================] - 0s 4ms/step - loss: 274.1437 - val_loss: 920.8593\n",
      "Epoch 112/500\n",
      "20/20 [==============================] - 0s 3ms/step - loss: 268.3291 - val_loss: 926.2749\n",
      "Epoch 113/500\n",
      "20/20 [==============================] - 0s 3ms/step - loss: 262.7205 - val_loss: 931.7338\n",
      "Epoch 114/500\n",
      "20/20 [==============================] - 0s 3ms/step - loss: 257.3124 - val_loss: 937.2319\n",
      "Epoch 115/500\n",
      "20/20 [==============================] - 0s 3ms/step - loss: 252.0995 - val_loss: 942.7635\n",
      "Epoch 116/500\n",
      "20/20 [==============================] - 0s 4ms/step - loss: 247.0765 - val_loss: 948.3249\n",
      "Epoch 117/500\n",
      "20/20 [==============================] - 0s 4ms/step - loss: 242.2382 - val_loss: 953.9111\n",
      "Epoch 118/500\n",
      "20/20 [==============================] - 0s 3ms/step - loss: 237.5793 - val_loss: 959.5178\n",
      "Epoch 119/500\n",
      "20/20 [==============================] - 0s 3ms/step - loss: 233.0949 - val_loss: 965.1407\n",
      "Epoch 120/500\n",
      "20/20 [==============================] - 0s 3ms/step - loss: 228.7802 - val_loss: 970.7758\n",
      "Epoch 121/500\n",
      "20/20 [==============================] - 0s 4ms/step - loss: 224.6302 - val_loss: 976.4188\n",
      "Epoch 122/500\n",
      "20/20 [==============================] - 0s 4ms/step - loss: 220.6402 - val_loss: 982.0656\n",
      "Epoch 123/500\n",
      "20/20 [==============================] - 0s 4ms/step - loss: 216.8053 - val_loss: 987.7122\n",
      "Epoch 124/500\n",
      "20/20 [==============================] - 0s 4ms/step - loss: 213.1211 - val_loss: 993.3553\n",
      "Epoch 125/500\n",
      "20/20 [==============================] - 0s 3ms/step - loss: 209.5831 - val_loss: 998.9905\n",
      "Epoch 126/500\n",
      "20/20 [==============================] - 0s 3ms/step - loss: 206.1867 - val_loss: 1004.6146\n",
      "Epoch 127/500\n",
      "20/20 [==============================] - 0s 5ms/step - loss: 202.9277 - val_loss: 1010.2243\n",
      "Epoch 128/500\n",
      "20/20 [==============================] - 0s 3ms/step - loss: 199.8017 - val_loss: 1015.8154\n",
      "Epoch 129/500\n",
      "20/20 [==============================] - 0s 3ms/step - loss: 196.8047 - val_loss: 1021.3851\n",
      "Epoch 130/500\n",
      "20/20 [==============================] - 0s 3ms/step - loss: 193.9325 - val_loss: 1026.9304\n",
      "Epoch 131/500\n",
      "20/20 [==============================] - 0s 4ms/step - loss: 191.1810 - val_loss: 1032.4471\n",
      "Epoch 132/500\n",
      "20/20 [==============================] - 0s 3ms/step - loss: 188.5464 - val_loss: 1037.9335\n",
      "Epoch 133/500\n",
      "20/20 [==============================] - 0s 4ms/step - loss: 186.0247 - val_loss: 1043.3854\n",
      "Epoch 134/500\n",
      "20/20 [==============================] - 0s 3ms/step - loss: 183.6123 - val_loss: 1048.8013\n",
      "Epoch 135/500\n",
      "20/20 [==============================] - 0s 3ms/step - loss: 181.3053 - val_loss: 1054.1774\n",
      "Epoch 136/500\n",
      "20/20 [==============================] - 0s 3ms/step - loss: 179.1002 - val_loss: 1059.5110\n",
      "Epoch 137/500\n",
      "20/20 [==============================] - 0s 3ms/step - loss: 176.9936 - val_loss: 1064.8007\n",
      "Epoch 138/500\n",
      "20/20 [==============================] - 0s 11ms/step - loss: 174.9817 - val_loss: 1070.0427\n",
      "Epoch 139/500\n",
      "20/20 [==============================] - 0s 3ms/step - loss: 173.0614 - val_loss: 1075.2361\n",
      "Epoch 140/500\n",
      "20/20 [==============================] - 0s 4ms/step - loss: 171.2292 - val_loss: 1080.3777\n",
      "Epoch 141/500\n",
      "20/20 [==============================] - 0s 3ms/step - loss: 169.4821 - val_loss: 1085.4653\n",
      "Epoch 142/500\n",
      "20/20 [==============================] - 0s 3ms/step - loss: 167.8168 - val_loss: 1090.4978\n",
      "Epoch 143/500\n",
      "20/20 [==============================] - 0s 4ms/step - loss: 166.2303 - val_loss: 1095.4727\n",
      "Epoch 144/500\n",
      "20/20 [==============================] - 0s 4ms/step - loss: 164.7196 - val_loss: 1100.3876\n",
      "Epoch 145/500\n",
      "20/20 [==============================] - 0s 5ms/step - loss: 163.2817 - val_loss: 1105.2419\n",
      "Epoch 146/500\n",
      "20/20 [==============================] - 0s 4ms/step - loss: 161.9138 - val_loss: 1110.0332\n",
      "Epoch 147/500\n",
      "20/20 [==============================] - 0s 4ms/step - loss: 160.6134 - val_loss: 1114.7600\n",
      "Epoch 148/500\n",
      "20/20 [==============================] - 0s 4ms/step - loss: 159.3774 - val_loss: 1119.4213\n",
      "Epoch 149/500\n",
      "20/20 [==============================] - 0s 4ms/step - loss: 158.2035 - val_loss: 1124.0156\n",
      "Epoch 150/500\n",
      "20/20 [==============================] - 0s 3ms/step - loss: 157.0890 - val_loss: 1128.5417\n",
      "Epoch 151/500\n",
      "20/20 [==============================] - 0s 4ms/step - loss: 156.0315 - val_loss: 1132.9983\n",
      "Epoch 152/500\n",
      "20/20 [==============================] - 0s 4ms/step - loss: 155.0286 - val_loss: 1137.3845\n",
      "Epoch 153/500\n",
      "20/20 [==============================] - 0s 5ms/step - loss: 154.0780 - val_loss: 1141.6998\n",
      "Epoch 154/500\n",
      "20/20 [==============================] - 0s 4ms/step - loss: 153.1773 - val_loss: 1145.9429\n",
      "Epoch 155/500\n",
      "20/20 [==============================] - 0s 4ms/step - loss: 152.3246 - val_loss: 1150.1127\n",
      "Epoch 156/500\n",
      "20/20 [==============================] - 0s 4ms/step - loss: 151.5175 - val_loss: 1154.2091\n",
      "Epoch 157/500\n",
      "20/20 [==============================] - 0s 4ms/step - loss: 150.7542 - val_loss: 1158.2314\n",
      "Epoch 158/500\n",
      "20/20 [==============================] - 0s 3ms/step - loss: 150.0326 - val_loss: 1162.1790\n",
      "Epoch 159/500\n",
      "20/20 [==============================] - 0s 3ms/step - loss: 149.3508 - val_loss: 1166.0511\n",
      "Epoch 160/500\n",
      "20/20 [==============================] - 0s 3ms/step - loss: 148.7069 - val_loss: 1169.8486\n",
      "Epoch 161/500\n",
      "20/20 [==============================] - 0s 4ms/step - loss: 148.0993 - val_loss: 1173.5698\n",
      "Epoch 162/500\n",
      "20/20 [==============================] - 0s 4ms/step - loss: 147.5261 - val_loss: 1177.2155\n",
      "Epoch 163/500\n",
      "20/20 [==============================] - 0s 4ms/step - loss: 146.9857 - val_loss: 1180.7849\n",
      "Epoch 164/500\n",
      "20/20 [==============================] - 0s 4ms/step - loss: 146.4765 - val_loss: 1184.2788\n",
      "Epoch 165/500\n",
      "20/20 [==============================] - 0s 3ms/step - loss: 145.9970 - val_loss: 1187.6975\n",
      "Epoch 166/500\n",
      "20/20 [==============================] - 0s 4ms/step - loss: 145.5457 - val_loss: 1191.0393\n",
      "Epoch 167/500\n",
      "20/20 [==============================] - 0s 5ms/step - loss: 145.1213 - val_loss: 1194.3059\n",
      "Epoch 168/500\n",
      "20/20 [==============================] - 0s 4ms/step - loss: 144.7222 - val_loss: 1197.4974\n",
      "Epoch 169/500\n",
      "20/20 [==============================] - 0s 4ms/step - loss: 144.3472 - val_loss: 1200.6139\n",
      "Epoch 170/500\n",
      "20/20 [==============================] - 0s 4ms/step - loss: 143.9951 - val_loss: 1203.6564\n",
      "Epoch 171/500\n",
      "20/20 [==============================] - 0s 4ms/step - loss: 143.6647 - val_loss: 1206.6240\n",
      "Epoch 172/500\n",
      "20/20 [==============================] - 0s 3ms/step - loss: 143.3547 - val_loss: 1209.5188\n",
      "Epoch 173/500\n",
      "20/20 [==============================] - 0s 10ms/step - loss: 143.0641 - val_loss: 1212.3406\n",
      "Epoch 174/500\n",
      "20/20 [==============================] - 0s 4ms/step - loss: 142.7919 - val_loss: 1215.0895\n",
      "Epoch 175/500\n",
      "20/20 [==============================] - 0s 4ms/step - loss: 142.5370 - val_loss: 1217.7670\n",
      "Epoch 176/500\n",
      "20/20 [==============================] - 0s 4ms/step - loss: 142.2984 - val_loss: 1220.3733\n",
      "Epoch 177/500\n",
      "20/20 [==============================] - 0s 4ms/step - loss: 142.0753 - val_loss: 1222.9091\n",
      "Epoch 178/500\n",
      "20/20 [==============================] - 0s 4ms/step - loss: 141.8667 - val_loss: 1225.3757\n",
      "Epoch 179/500\n",
      "20/20 [==============================] - 0s 3ms/step - loss: 141.6719 - val_loss: 1227.7740\n",
      "Epoch 180/500\n",
      "20/20 [==============================] - 0s 4ms/step - loss: 141.4899 - val_loss: 1230.1042\n",
      "Epoch 181/500\n",
      "20/20 [==============================] - 0s 4ms/step - loss: 141.3201 - val_loss: 1232.3679\n",
      "Epoch 182/500\n",
      "20/20 [==============================] - 0s 4ms/step - loss: 141.1618 - val_loss: 1234.5654\n",
      "Epoch 183/500\n",
      "20/20 [==============================] - 0s 4ms/step - loss: 141.0142 - val_loss: 1236.6982\n",
      "Epoch 184/500\n",
      "20/20 [==============================] - 0s 4ms/step - loss: 140.8767 - val_loss: 1238.7673\n",
      "Epoch 185/500\n",
      "20/20 [==============================] - 0s 3ms/step - loss: 140.7487 - val_loss: 1240.7737\n",
      "Epoch 186/500\n",
      "20/20 [==============================] - 0s 4ms/step - loss: 140.6296 - val_loss: 1242.7181\n",
      "Epoch 187/500\n",
      "20/20 [==============================] - 0s 4ms/step - loss: 140.5188 - val_loss: 1244.6021\n",
      "Epoch 188/500\n",
      "20/20 [==============================] - 0s 3ms/step - loss: 140.4158 - val_loss: 1246.4265\n",
      "Epoch 189/500\n",
      "20/20 [==============================] - 0s 4ms/step - loss: 140.3201 - val_loss: 1248.1920\n",
      "Epoch 190/500\n",
      "20/20 [==============================] - 0s 4ms/step - loss: 140.2313 - val_loss: 1249.9010\n",
      "Epoch 191/500\n",
      "20/20 [==============================] - 0s 4ms/step - loss: 140.1489 - val_loss: 1251.5527\n",
      "Epoch 192/500\n",
      "20/20 [==============================] - 0s 4ms/step - loss: 140.0725 - val_loss: 1253.1500\n",
      "Epoch 193/500\n",
      "20/20 [==============================] - 0s 4ms/step - loss: 140.0016 - val_loss: 1254.6936\n",
      "Epoch 194/500\n",
      "20/20 [==============================] - 0s 4ms/step - loss: 139.9359 - val_loss: 1256.1848\n",
      "Epoch 195/500\n",
      "20/20 [==============================] - 0s 3ms/step - loss: 139.8751 - val_loss: 1257.6237\n",
      "Epoch 196/500\n",
      "20/20 [==============================] - 0s 5ms/step - loss: 139.8189 - val_loss: 1259.0123\n",
      "Epoch 197/500\n",
      "20/20 [==============================] - 0s 3ms/step - loss: 139.7669 - val_loss: 1260.3523\n",
      "Epoch 198/500\n",
      "20/20 [==============================] - 0s 4ms/step - loss: 139.7188 - val_loss: 1261.6439\n",
      "Epoch 199/500\n",
      "20/20 [==============================] - 0s 4ms/step - loss: 139.6743 - val_loss: 1262.8887\n",
      "Epoch 200/500\n",
      "20/20 [==============================] - 0s 4ms/step - loss: 139.6333 - val_loss: 1264.0885\n",
      "Epoch 201/500\n",
      "20/20 [==============================] - 0s 4ms/step - loss: 139.5954 - val_loss: 1265.2435\n",
      "Epoch 202/500\n",
      "20/20 [==============================] - 0s 4ms/step - loss: 139.5604 - val_loss: 1266.3551\n",
      "Epoch 203/500\n",
      "20/20 [==============================] - 0s 4ms/step - loss: 139.5282 - val_loss: 1267.4235\n",
      "Epoch 204/500\n",
      "20/20 [==============================] - 0s 4ms/step - loss: 139.4986 - val_loss: 1268.4432\n",
      "Epoch 205/500\n",
      "20/20 [==============================] - 0s 4ms/step - loss: 139.4711 - val_loss: 1269.0892\n",
      "Epoch 206/500\n",
      "20/20 [==============================] - 0s 4ms/step - loss: 138.9990 - val_loss: 1264.5172\n",
      "Epoch 207/500\n",
      "20/20 [==============================] - 0s 4ms/step - loss: 139.6818 - val_loss: 1266.1901\n",
      "Epoch 208/500\n",
      "20/20 [==============================] - 0s 4ms/step - loss: 139.6027 - val_loss: 1267.5863\n",
      "Epoch 209/500\n",
      "20/20 [==============================] - 0s 4ms/step - loss: 139.5525 - val_loss: 1268.8584\n",
      "Epoch 210/500\n",
      "20/20 [==============================] - 0s 4ms/step - loss: 139.5122 - val_loss: 1270.0413\n",
      "Epoch 211/500\n",
      "20/20 [==============================] - 0s 3ms/step - loss: 139.4779 - val_loss: 1271.1493\n",
      "Epoch 212/500\n",
      "20/20 [==============================] - 0s 4ms/step - loss: 139.4480 - val_loss: 1272.1925\n",
      "Epoch 213/500\n",
      "20/20 [==============================] - 0s 11ms/step - loss: 139.4216 - val_loss: 1273.1777\n",
      "Epoch 214/500\n",
      "20/20 [==============================] - 0s 4ms/step - loss: 139.3980 - val_loss: 1274.1091\n",
      "Epoch 215/500\n",
      "20/20 [==============================] - 0s 4ms/step - loss: 139.3770 - val_loss: 1274.9918\n",
      "Epoch 216/500\n",
      "20/20 [==============================] - 0s 4ms/step - loss: 139.3582 - val_loss: 1275.8279\n",
      "Epoch 217/500\n",
      "20/20 [==============================] - 0s 4ms/step - loss: 139.3411 - val_loss: 1276.6199\n",
      "Epoch 218/500\n",
      "20/20 [==============================] - 0s 4ms/step - loss: 139.3259 - val_loss: 1277.3718\n",
      "Epoch 219/500\n",
      "20/20 [==============================] - 0s 4ms/step - loss: 139.3121 - val_loss: 1278.0848\n",
      "Epoch 220/500\n",
      "20/20 [==============================] - 0s 4ms/step - loss: 139.2997 - val_loss: 1278.7615\n",
      "Epoch 221/500\n",
      "20/20 [==============================] - 0s 4ms/step - loss: 139.2885 - val_loss: 1279.4036\n",
      "Epoch 222/500\n",
      "20/20 [==============================] - 0s 3ms/step - loss: 139.2783 - val_loss: 1280.0123\n",
      "Epoch 223/500\n",
      "20/20 [==============================] - 0s 4ms/step - loss: 139.2691 - val_loss: 1280.5901\n",
      "Epoch 224/500\n",
      "20/20 [==============================] - 0s 4ms/step - loss: 139.2609 - val_loss: 1281.1388\n",
      "Epoch 225/500\n",
      "20/20 [==============================] - 0s 4ms/step - loss: 139.2533 - val_loss: 1281.6586\n",
      "Epoch 226/500\n",
      "20/20 [==============================] - 0s 4ms/step - loss: 139.2466 - val_loss: 1282.1515\n",
      "Epoch 227/500\n",
      "20/20 [==============================] - 0s 4ms/step - loss: 139.2405 - val_loss: 1282.6189\n",
      "Epoch 228/500\n",
      "20/20 [==============================] - 0s 3ms/step - loss: 139.2350 - val_loss: 1283.0619\n",
      "Epoch 229/500\n",
      "20/20 [==============================] - 0s 4ms/step - loss: 139.2300 - val_loss: 1283.4817\n",
      "Epoch 230/500\n",
      "20/20 [==============================] - 0s 5ms/step - loss: 139.2255 - val_loss: 1283.8799\n",
      "Epoch 231/500\n",
      "20/20 [==============================] - 0s 4ms/step - loss: 139.2214 - val_loss: 1284.2567\n",
      "Epoch 232/500\n",
      "20/20 [==============================] - 0s 4ms/step - loss: 139.2178 - val_loss: 1284.6135\n",
      "Epoch 233/500\n",
      "20/20 [==============================] - 0s 4ms/step - loss: 139.2145 - val_loss: 1284.9514\n",
      "Epoch 234/500\n",
      "20/20 [==============================] - 0s 4ms/step - loss: 139.2116 - val_loss: 1285.2709\n",
      "Epoch 235/500\n",
      "20/20 [==============================] - 0s 4ms/step - loss: 139.2090 - val_loss: 1285.5735\n",
      "Epoch 236/500\n",
      "20/20 [==============================] - 0s 4ms/step - loss: 139.2066 - val_loss: 1285.8590\n",
      "Epoch 237/500\n",
      "20/20 [==============================] - 0s 4ms/step - loss: 139.2045 - val_loss: 1286.1294\n",
      "Epoch 238/500\n",
      "20/20 [==============================] - 0s 4ms/step - loss: 139.2026 - val_loss: 1286.3855\n",
      "Epoch 239/500\n",
      "20/20 [==============================] - 0s 4ms/step - loss: 139.2009 - val_loss: 1286.6267\n",
      "Epoch 240/500\n",
      "20/20 [==============================] - 0s 4ms/step - loss: 139.1995 - val_loss: 1286.8550\n",
      "Epoch 241/500\n",
      "20/20 [==============================] - 0s 4ms/step - loss: 139.1981 - val_loss: 1287.0706\n",
      "Epoch 242/500\n",
      "20/20 [==============================] - 0s 4ms/step - loss: 139.1970 - val_loss: 1287.2738\n",
      "Epoch 243/500\n",
      "20/20 [==============================] - 0s 4ms/step - loss: 139.1960 - val_loss: 1287.4657\n",
      "Epoch 244/500\n",
      "20/20 [==============================] - 0s 4ms/step - loss: 139.1952 - val_loss: 1287.6471\n",
      "Epoch 245/500\n",
      "20/20 [==============================] - 0s 4ms/step - loss: 139.1944 - val_loss: 1287.8177\n",
      "Epoch 246/500\n",
      "20/20 [==============================] - 0s 11ms/step - loss: 139.1937 - val_loss: 1287.9785\n",
      "Epoch 247/500\n",
      "20/20 [==============================] - 0s 4ms/step - loss: 139.1932 - val_loss: 1288.1309\n",
      "Epoch 248/500\n",
      "20/20 [==============================] - 0s 4ms/step - loss: 139.1928 - val_loss: 1288.2738\n",
      "Epoch 249/500\n",
      "20/20 [==============================] - 0s 4ms/step - loss: 139.1924 - val_loss: 1288.4084\n",
      "Epoch 250/500\n",
      "20/20 [==============================] - 0s 4ms/step - loss: 139.1921 - val_loss: 1288.5352\n",
      "Epoch 251/500\n",
      "20/20 [==============================] - 0s 4ms/step - loss: 139.1919 - val_loss: 1288.6543\n",
      "Epoch 252/500\n",
      "20/20 [==============================] - 0s 4ms/step - loss: 139.1918 - val_loss: 1288.7666\n",
      "Epoch 253/500\n",
      "20/20 [==============================] - 0s 4ms/step - loss: 139.1917 - val_loss: 1288.8722\n",
      "Epoch 254/500\n",
      "20/20 [==============================] - 0s 3ms/step - loss: 139.1916 - val_loss: 1288.9716\n",
      "Epoch 255/500\n",
      "20/20 [==============================] - 0s 4ms/step - loss: 139.1916 - val_loss: 1289.0640\n",
      "Epoch 256/500\n",
      "20/20 [==============================] - 0s 4ms/step - loss: 139.1917 - val_loss: 1289.1523\n",
      "Epoch 257/500\n",
      "20/20 [==============================] - 0s 4ms/step - loss: 139.1918 - val_loss: 1289.2340\n",
      "Epoch 258/500\n",
      "20/20 [==============================] - 0s 4ms/step - loss: 139.1920 - val_loss: 1289.3123\n",
      "Epoch 259/500\n",
      "20/20 [==============================] - 0s 4ms/step - loss: 139.1921 - val_loss: 1289.3842\n",
      "Epoch 260/500\n",
      "20/20 [==============================] - 0s 4ms/step - loss: 139.1923 - val_loss: 1289.4519\n",
      "Epoch 261/500\n",
      "20/20 [==============================] - 0s 4ms/step - loss: 139.1925 - val_loss: 1289.5164\n",
      "Epoch 262/500\n",
      "20/20 [==============================] - 0s 4ms/step - loss: 139.1928 - val_loss: 1289.5762\n",
      "Epoch 263/500\n",
      "20/20 [==============================] - 0s 3ms/step - loss: 139.1930 - val_loss: 1289.6317\n",
      "Epoch 264/500\n",
      "20/20 [==============================] - 0s 4ms/step - loss: 139.1933 - val_loss: 1289.6840\n",
      "Epoch 265/500\n",
      "20/20 [==============================] - 0s 5ms/step - loss: 139.1937 - val_loss: 1289.7336\n",
      "Epoch 266/500\n",
      "20/20 [==============================] - 0s 4ms/step - loss: 139.1940 - val_loss: 1289.7791\n",
      "Epoch 267/500\n",
      "20/20 [==============================] - 0s 4ms/step - loss: 139.1944 - val_loss: 1289.8220\n",
      "Epoch 268/500\n",
      "20/20 [==============================] - 0s 4ms/step - loss: 139.1948 - val_loss: 1289.8624\n",
      "Epoch 269/500\n",
      "20/20 [==============================] - 0s 4ms/step - loss: 139.1952 - val_loss: 1289.9000\n",
      "Epoch 270/500\n",
      "20/20 [==============================] - 0s 4ms/step - loss: 139.1955 - val_loss: 1289.9351\n",
      "Epoch 271/500\n",
      "20/20 [==============================] - 0s 4ms/step - loss: 139.1960 - val_loss: 1289.9685\n",
      "Epoch 272/500\n",
      "20/20 [==============================] - 0s 4ms/step - loss: 139.1964 - val_loss: 1289.9987\n",
      "Epoch 273/500\n",
      "20/20 [==============================] - 0s 4ms/step - loss: 139.1968 - val_loss: 1290.0270\n",
      "Epoch 274/500\n",
      "20/20 [==============================] - 0s 4ms/step - loss: 139.1972 - val_loss: 1290.0535\n",
      "Epoch 275/500\n",
      "20/20 [==============================] - 0s 4ms/step - loss: 139.1977 - val_loss: 1290.0784\n",
      "Epoch 276/500\n",
      "20/20 [==============================] - 0s 4ms/step - loss: 139.1982 - val_loss: 1290.1017\n",
      "Epoch 277/500\n",
      "20/20 [==============================] - 0s 3ms/step - loss: 139.1986 - val_loss: 1290.1230\n",
      "Epoch 278/500\n",
      "20/20 [==============================] - 0s 11ms/step - loss: 139.1991 - val_loss: 1290.1428\n",
      "Epoch 279/500\n",
      "20/20 [==============================] - 0s 4ms/step - loss: 139.1995 - val_loss: 1290.1617\n",
      "Epoch 280/500\n",
      "20/20 [==============================] - 0s 4ms/step - loss: 139.2000 - val_loss: 1290.1791\n",
      "Epoch 281/500\n",
      "20/20 [==============================] - 0s 4ms/step - loss: 139.2004 - val_loss: 1290.1951\n",
      "Epoch 282/500\n",
      "20/20 [==============================] - 0s 4ms/step - loss: 139.2009 - val_loss: 1290.2100\n",
      "Epoch 283/500\n",
      "20/20 [==============================] - 0s 4ms/step - loss: 139.2014 - val_loss: 1290.2236\n",
      "Epoch 284/500\n",
      "20/20 [==============================] - 0s 4ms/step - loss: 139.2019 - val_loss: 1290.2367\n",
      "Epoch 285/500\n",
      "20/20 [==============================] - 0s 3ms/step - loss: 139.2023 - val_loss: 1290.2487\n",
      "Epoch 286/500\n",
      "20/20 [==============================] - 0s 4ms/step - loss: 139.2028 - val_loss: 1290.2592\n",
      "Epoch 287/500\n",
      "20/20 [==============================] - 0s 3ms/step - loss: 139.2032 - val_loss: 1290.2689\n",
      "Epoch 288/500\n",
      "20/20 [==============================] - 0s 4ms/step - loss: 139.2037 - val_loss: 1290.2786\n",
      "Epoch 289/500\n",
      "20/20 [==============================] - 0s 4ms/step - loss: 139.2042 - val_loss: 1290.2870\n",
      "Epoch 290/500\n",
      "20/20 [==============================] - 0s 4ms/step - loss: 139.2047 - val_loss: 1290.2949\n",
      "Epoch 291/500\n",
      "20/20 [==============================] - 0s 4ms/step - loss: 139.2051 - val_loss: 1290.3025\n",
      "Epoch 292/500\n",
      "20/20 [==============================] - 0s 4ms/step - loss: 139.2055 - val_loss: 1290.3088\n",
      "Epoch 293/500\n",
      "20/20 [==============================] - 0s 4ms/step - loss: 139.2060 - val_loss: 1290.3145\n",
      "Epoch 294/500\n",
      "20/20 [==============================] - 0s 4ms/step - loss: 139.2065 - val_loss: 1290.3206\n",
      "Epoch 295/500\n",
      "20/20 [==============================] - 0s 4ms/step - loss: 139.2069 - val_loss: 1290.3254\n",
      "Epoch 296/500\n",
      "20/20 [==============================] - 0s 4ms/step - loss: 139.2074 - val_loss: 1290.3298\n",
      "Epoch 297/500\n",
      "20/20 [==============================] - 0s 4ms/step - loss: 139.2078 - val_loss: 1290.3340\n",
      "Epoch 298/500\n",
      "20/20 [==============================] - 0s 4ms/step - loss: 139.2083 - val_loss: 1290.3381\n",
      "Epoch 299/500\n",
      "20/20 [==============================] - 0s 3ms/step - loss: 139.2087 - val_loss: 1290.3419\n",
      "Epoch 300/500\n",
      "20/20 [==============================] - 0s 4ms/step - loss: 139.2092 - val_loss: 1290.3450\n",
      "Epoch 301/500\n",
      "20/20 [==============================] - 0s 3ms/step - loss: 139.2096 - val_loss: 1290.3478\n",
      "Epoch 302/500\n",
      "20/20 [==============================] - 0s 4ms/step - loss: 139.2100 - val_loss: 1290.3506\n",
      "Epoch 303/500\n",
      "20/20 [==============================] - 0s 4ms/step - loss: 139.2104 - val_loss: 1290.3528\n",
      "Epoch 304/500\n",
      "20/20 [==============================] - 0s 4ms/step - loss: 139.2108 - val_loss: 1290.3547\n",
      "Epoch 305/500\n",
      "20/20 [==============================] - 0s 4ms/step - loss: 139.2113 - val_loss: 1290.3568\n",
      "Epoch 306/500\n",
      "20/20 [==============================] - 0s 4ms/step - loss: 139.2117 - val_loss: 1290.3588\n",
      "Epoch 307/500\n",
      "20/20 [==============================] - 0s 4ms/step - loss: 139.2120 - val_loss: 1290.3599\n",
      "Epoch 308/500\n",
      "20/20 [==============================] - 0s 4ms/step - loss: 139.2125 - val_loss: 1290.3612\n",
      "Epoch 309/500\n",
      "20/20 [==============================] - 0s 4ms/step - loss: 139.2129 - val_loss: 1290.3629\n",
      "Epoch 310/500\n",
      "20/20 [==============================] - 0s 3ms/step - loss: 139.2133 - val_loss: 1290.3639\n",
      "Epoch 311/500\n",
      "20/20 [==============================] - 0s 4ms/step - loss: 139.2136 - val_loss: 1290.3649\n",
      "Epoch 312/500\n",
      "20/20 [==============================] - 0s 4ms/step - loss: 139.2140 - val_loss: 1290.3658\n",
      "Epoch 313/500\n",
      "20/20 [==============================] - 0s 11ms/step - loss: 139.2144 - val_loss: 1290.3660\n",
      "Epoch 314/500\n",
      "20/20 [==============================] - 0s 5ms/step - loss: 139.2147 - val_loss: 1290.3660\n",
      "Epoch 315/500\n",
      "20/20 [==============================] - 0s 4ms/step - loss: 139.2152 - val_loss: 1290.3667\n",
      "Epoch 316/500\n",
      "20/20 [==============================] - 0s 5ms/step - loss: 139.2155 - val_loss: 1290.3673\n",
      "Epoch 317/500\n",
      "20/20 [==============================] - 0s 5ms/step - loss: 139.2158 - val_loss: 1290.3673\n",
      "Epoch 318/500\n",
      "20/20 [==============================] - 0s 6ms/step - loss: 139.2162 - val_loss: 1290.3672\n",
      "Epoch 319/500\n",
      "20/20 [==============================] - 0s 5ms/step - loss: 139.2166 - val_loss: 1290.3674\n",
      "Epoch 320/500\n",
      "20/20 [==============================] - 0s 5ms/step - loss: 139.2169 - val_loss: 1290.3674\n",
      "Epoch 321/500\n",
      "20/20 [==============================] - 0s 7ms/step - loss: 139.2173 - val_loss: 1290.3674\n",
      "Epoch 322/500\n",
      "20/20 [==============================] - 0s 4ms/step - loss: 139.2176 - val_loss: 1290.3674\n",
      "Epoch 323/500\n",
      "20/20 [==============================] - 0s 4ms/step - loss: 139.2179 - val_loss: 1290.3669\n",
      "Epoch 324/500\n",
      "20/20 [==============================] - 0s 5ms/step - loss: 139.2182 - val_loss: 1290.3669\n",
      "Epoch 325/500\n",
      "20/20 [==============================] - 0s 4ms/step - loss: 139.2186 - val_loss: 1290.3668\n",
      "Epoch 326/500\n",
      "20/20 [==============================] - 0s 4ms/step - loss: 139.2189 - val_loss: 1290.3666\n",
      "Epoch 327/500\n",
      "20/20 [==============================] - 0s 4ms/step - loss: 139.2191 - val_loss: 1290.3658\n",
      "Epoch 328/500\n",
      "20/20 [==============================] - 0s 4ms/step - loss: 139.2195 - val_loss: 1290.3656\n",
      "Epoch 329/500\n",
      "20/20 [==============================] - 0s 4ms/step - loss: 139.2198 - val_loss: 1290.3651\n",
      "Epoch 330/500\n",
      "20/20 [==============================] - 0s 4ms/step - loss: 139.2201 - val_loss: 1290.3649\n",
      "Epoch 331/500\n",
      "20/20 [==============================] - 0s 4ms/step - loss: 139.2204 - val_loss: 1290.3649\n",
      "Epoch 332/500\n",
      "20/20 [==============================] - 0s 4ms/step - loss: 139.2207 - val_loss: 1290.3643\n",
      "Epoch 333/500\n",
      "20/20 [==============================] - 0s 4ms/step - loss: 139.2209 - val_loss: 1290.3635\n",
      "Epoch 334/500\n",
      "20/20 [==============================] - 0s 4ms/step - loss: 139.2212 - val_loss: 1290.3627\n",
      "Epoch 335/500\n",
      "20/20 [==============================] - 0s 4ms/step - loss: 139.2215 - val_loss: 1290.3622\n",
      "Epoch 336/500\n",
      "20/20 [==============================] - 0s 4ms/step - loss: 139.2218 - val_loss: 1290.3613\n",
      "Epoch 337/500\n",
      "20/20 [==============================] - 0s 5ms/step - loss: 139.2221 - val_loss: 1290.3611\n",
      "Epoch 338/500\n",
      "20/20 [==============================] - 0s 5ms/step - loss: 139.2223 - val_loss: 1290.3606\n",
      "Epoch 339/500\n",
      "20/20 [==============================] - 0s 5ms/step - loss: 139.2226 - val_loss: 1290.3600\n",
      "Epoch 340/500\n",
      "20/20 [==============================] - 0s 5ms/step - loss: 139.2228 - val_loss: 1290.3584\n",
      "Epoch 341/500\n",
      "20/20 [==============================] - 0s 5ms/step - loss: 139.2231 - val_loss: 1290.3573\n",
      "Epoch 342/500\n",
      "20/20 [==============================] - 0s 5ms/step - loss: 139.2233 - val_loss: 1290.3569\n",
      "Epoch 343/500\n",
      "20/20 [==============================] - 0s 12ms/step - loss: 139.2235 - val_loss: 1290.3566\n",
      "Epoch 344/500\n",
      "20/20 [==============================] - 0s 5ms/step - loss: 139.2238 - val_loss: 1290.3561\n",
      "Epoch 345/500\n",
      "20/20 [==============================] - 0s 5ms/step - loss: 139.2240 - val_loss: 1290.3550\n",
      "Epoch 346/500\n",
      "20/20 [==============================] - 0s 6ms/step - loss: 139.2243 - val_loss: 1290.3549\n",
      "Epoch 347/500\n",
      "20/20 [==============================] - 0s 4ms/step - loss: 139.2245 - val_loss: 1290.3541\n",
      "Epoch 348/500\n",
      "20/20 [==============================] - 0s 5ms/step - loss: 139.2247 - val_loss: 1290.3531\n",
      "Epoch 349/500\n",
      "20/20 [==============================] - 0s 5ms/step - loss: 139.2249 - val_loss: 1290.3519\n",
      "Epoch 350/500\n",
      "20/20 [==============================] - 0s 5ms/step - loss: 139.2252 - val_loss: 1290.3518\n",
      "Epoch 351/500\n",
      "20/20 [==============================] - 0s 5ms/step - loss: 139.2254 - val_loss: 1290.3513\n",
      "Epoch 352/500\n",
      "20/20 [==============================] - 0s 5ms/step - loss: 139.2256 - val_loss: 1290.3508\n",
      "Epoch 353/500\n",
      "20/20 [==============================] - 0s 5ms/step - loss: 139.2258 - val_loss: 1290.3508\n",
      "Epoch 354/500\n",
      "20/20 [==============================] - 0s 5ms/step - loss: 139.2260 - val_loss: 1290.3500\n",
      "Epoch 355/500\n",
      "20/20 [==============================] - 0s 5ms/step - loss: 139.2262 - val_loss: 1290.3496\n",
      "Epoch 356/500\n",
      "20/20 [==============================] - 0s 4ms/step - loss: 139.2264 - val_loss: 1290.3490\n",
      "Epoch 357/500\n",
      "20/20 [==============================] - 0s 5ms/step - loss: 139.2266 - val_loss: 1290.3486\n",
      "Epoch 358/500\n",
      "20/20 [==============================] - 0s 5ms/step - loss: 139.2268 - val_loss: 1290.3480\n",
      "Epoch 359/500\n",
      "20/20 [==============================] - 0s 5ms/step - loss: 139.2270 - val_loss: 1290.3480\n",
      "Epoch 360/500\n",
      "20/20 [==============================] - 0s 5ms/step - loss: 139.2271 - val_loss: 1290.3473\n",
      "Epoch 361/500\n",
      "20/20 [==============================] - 0s 6ms/step - loss: 139.2273 - val_loss: 1290.3468\n",
      "Epoch 362/500\n",
      "20/20 [==============================] - 0s 6ms/step - loss: 139.2275 - val_loss: 1290.3461\n",
      "Epoch 363/500\n",
      "20/20 [==============================] - 0s 4ms/step - loss: 139.2277 - val_loss: 1290.3459\n",
      "Epoch 364/500\n",
      "20/20 [==============================] - 0s 3ms/step - loss: 139.2278 - val_loss: 1290.3453\n",
      "Epoch 365/500\n",
      "20/20 [==============================] - 0s 4ms/step - loss: 139.2280 - val_loss: 1290.3450\n",
      "Epoch 366/500\n",
      "20/20 [==============================] - 0s 4ms/step - loss: 139.2282 - val_loss: 1290.3444\n",
      "Epoch 367/500\n",
      "20/20 [==============================] - 0s 4ms/step - loss: 139.2283 - val_loss: 1290.3438\n",
      "Epoch 368/500\n",
      "20/20 [==============================] - 0s 4ms/step - loss: 139.2285 - val_loss: 1290.3434\n",
      "Epoch 369/500\n",
      "20/20 [==============================] - 0s 10ms/step - loss: 139.2286 - val_loss: 1290.3428\n",
      "Epoch 370/500\n",
      "20/20 [==============================] - 0s 5ms/step - loss: 139.2288 - val_loss: 1290.3425\n",
      "Epoch 371/500\n",
      "20/20 [==============================] - 0s 4ms/step - loss: 139.2290 - val_loss: 1290.3423\n",
      "Epoch 372/500\n",
      "20/20 [==============================] - 0s 4ms/step - loss: 139.2291 - val_loss: 1290.3420\n",
      "Epoch 373/500\n",
      "20/20 [==============================] - 0s 5ms/step - loss: 139.2292 - val_loss: 1290.3414\n",
      "Epoch 374/500\n",
      "20/20 [==============================] - 0s 4ms/step - loss: 139.2294 - val_loss: 1290.3411\n",
      "Epoch 375/500\n",
      "20/20 [==============================] - 0s 4ms/step - loss: 139.2295 - val_loss: 1290.3402\n",
      "Epoch 376/500\n",
      "20/20 [==============================] - 0s 5ms/step - loss: 139.2297 - val_loss: 1290.3398\n",
      "Epoch 377/500\n",
      "20/20 [==============================] - 0s 4ms/step - loss: 139.2298 - val_loss: 1290.3395\n",
      "Epoch 378/500\n",
      "20/20 [==============================] - 0s 4ms/step - loss: 139.2299 - val_loss: 1290.3386\n",
      "Epoch 379/500\n",
      "20/20 [==============================] - 0s 4ms/step - loss: 139.2300 - val_loss: 1290.3383\n",
      "Epoch 380/500\n",
      "20/20 [==============================] - 0s 4ms/step - loss: 139.2302 - val_loss: 1290.3381\n",
      "Epoch 381/500\n",
      "20/20 [==============================] - 0s 4ms/step - loss: 139.2303 - val_loss: 1290.3375\n",
      "Epoch 382/500\n",
      "20/20 [==============================] - 0s 3ms/step - loss: 139.2304 - val_loss: 1290.3369\n",
      "Epoch 383/500\n",
      "20/20 [==============================] - 0s 4ms/step - loss: 139.2305 - val_loss: 1290.3364\n",
      "Epoch 384/500\n",
      "20/20 [==============================] - 0s 4ms/step - loss: 139.2307 - val_loss: 1290.3359\n",
      "Epoch 385/500\n",
      "20/20 [==============================] - 0s 4ms/step - loss: 139.2307 - val_loss: 1290.3356\n",
      "Epoch 386/500\n",
      "20/20 [==============================] - 0s 4ms/step - loss: 139.2309 - val_loss: 1290.3356\n",
      "Epoch 387/500\n",
      "20/20 [==============================] - 0s 4ms/step - loss: 139.2309 - val_loss: 1290.3348\n",
      "Epoch 388/500\n",
      "20/20 [==============================] - 0s 4ms/step - loss: 139.2311 - val_loss: 1290.3344\n",
      "Epoch 389/500\n",
      "20/20 [==============================] - 0s 4ms/step - loss: 139.2312 - val_loss: 1290.3341\n",
      "Epoch 390/500\n",
      "20/20 [==============================] - 0s 4ms/step - loss: 139.2313 - val_loss: 1290.3334\n",
      "Epoch 391/500\n",
      "20/20 [==============================] - 0s 4ms/step - loss: 139.2314 - val_loss: 1290.3331\n",
      "Epoch 392/500\n",
      "20/20 [==============================] - 0s 4ms/step - loss: 139.2315 - val_loss: 1290.3326\n",
      "Epoch 393/500\n",
      "20/20 [==============================] - 0s 4ms/step - loss: 139.2316 - val_loss: 1290.3326\n",
      "Epoch 394/500\n",
      "20/20 [==============================] - 0s 4ms/step - loss: 139.2317 - val_loss: 1290.3318\n",
      "Epoch 395/500\n",
      "20/20 [==============================] - 0s 4ms/step - loss: 139.2318 - val_loss: 1290.3319\n",
      "Epoch 396/500\n",
      "20/20 [==============================] - 0s 3ms/step - loss: 139.2319 - val_loss: 1290.3317\n",
      "Epoch 397/500\n",
      "20/20 [==============================] - 0s 4ms/step - loss: 139.2320 - val_loss: 1290.3313\n",
      "Epoch 398/500\n",
      "20/20 [==============================] - 0s 4ms/step - loss: 139.2321 - val_loss: 1290.3308\n",
      "Epoch 399/500\n",
      "20/20 [==============================] - 0s 11ms/step - loss: 139.2321 - val_loss: 1290.3307\n",
      "Epoch 400/500\n",
      "20/20 [==============================] - 0s 4ms/step - loss: 139.2323 - val_loss: 1290.3306\n",
      "Epoch 401/500\n",
      "20/20 [==============================] - 0s 4ms/step - loss: 139.2324 - val_loss: 1290.3304\n",
      "Epoch 402/500\n",
      "20/20 [==============================] - 0s 4ms/step - loss: 139.2324 - val_loss: 1290.3298\n",
      "Epoch 403/500\n",
      "20/20 [==============================] - 0s 3ms/step - loss: 139.2325 - val_loss: 1290.3298\n",
      "Epoch 404/500\n",
      "20/20 [==============================] - 0s 4ms/step - loss: 139.2326 - val_loss: 1290.3298\n",
      "Epoch 405/500\n",
      "20/20 [==============================] - 0s 5ms/step - loss: 139.2327 - val_loss: 1290.3295\n",
      "Epoch 406/500\n",
      "20/20 [==============================] - 0s 4ms/step - loss: 139.2328 - val_loss: 1290.3293\n",
      "Epoch 407/500\n",
      "20/20 [==============================] - 0s 4ms/step - loss: 139.2328 - val_loss: 1290.3291\n",
      "Epoch 408/500\n",
      "20/20 [==============================] - 0s 4ms/step - loss: 139.2330 - val_loss: 1290.3290\n",
      "Epoch 409/500\n",
      "20/20 [==============================] - 0s 4ms/step - loss: 139.2330 - val_loss: 1290.3287\n",
      "Epoch 410/500\n",
      "20/20 [==============================] - 0s 5ms/step - loss: 139.2331 - val_loss: 1290.3287\n",
      "Epoch 411/500\n",
      "20/20 [==============================] - 0s 5ms/step - loss: 139.2331 - val_loss: 1290.3284\n",
      "Epoch 412/500\n",
      "20/20 [==============================] - 0s 4ms/step - loss: 139.2332 - val_loss: 1290.3279\n",
      "Epoch 413/500\n",
      "20/20 [==============================] - 0s 4ms/step - loss: 139.2333 - val_loss: 1290.3271\n",
      "Epoch 414/500\n",
      "20/20 [==============================] - 0s 4ms/step - loss: 139.2334 - val_loss: 1290.3271\n",
      "Epoch 415/500\n",
      "20/20 [==============================] - 0s 4ms/step - loss: 139.2334 - val_loss: 1290.3269\n",
      "Epoch 416/500\n",
      "20/20 [==============================] - 0s 4ms/step - loss: 139.2334 - val_loss: 1290.3269\n",
      "Epoch 417/500\n",
      "20/20 [==============================] - 0s 5ms/step - loss: 139.2335 - val_loss: 1290.3265\n",
      "Epoch 418/500\n",
      "20/20 [==============================] - 0s 4ms/step - loss: 139.2336 - val_loss: 1290.3265\n",
      "Epoch 419/500\n",
      "20/20 [==============================] - 0s 4ms/step - loss: 139.2336 - val_loss: 1290.3264\n",
      "Epoch 420/500\n",
      "20/20 [==============================] - 0s 5ms/step - loss: 139.2337 - val_loss: 1290.3259\n",
      "Epoch 421/500\n",
      "20/20 [==============================] - 0s 4ms/step - loss: 139.2338 - val_loss: 1290.3259\n",
      "Epoch 422/500\n",
      "20/20 [==============================] - 0s 4ms/step - loss: 139.2338 - val_loss: 1290.3257\n",
      "Epoch 423/500\n",
      "20/20 [==============================] - 0s 4ms/step - loss: 139.2339 - val_loss: 1290.3250\n",
      "Epoch 424/500\n",
      "20/20 [==============================] - 0s 4ms/step - loss: 139.2339 - val_loss: 1290.3252\n",
      "Epoch 425/500\n",
      "20/20 [==============================] - 0s 5ms/step - loss: 139.2340 - val_loss: 1290.3259\n",
      "Epoch 426/500\n",
      "20/20 [==============================] - 0s 4ms/step - loss: 139.2340 - val_loss: 1290.3257\n",
      "Epoch 427/500\n",
      "20/20 [==============================] - 0s 11ms/step - loss: 139.2341 - val_loss: 1290.3257\n",
      "Epoch 428/500\n",
      "20/20 [==============================] - 0s 4ms/step - loss: 139.2341 - val_loss: 1290.3257\n",
      "Epoch 429/500\n",
      "20/20 [==============================] - 0s 4ms/step - loss: 139.2342 - val_loss: 1290.3254\n",
      "Epoch 430/500\n",
      "20/20 [==============================] - 0s 4ms/step - loss: 139.2342 - val_loss: 1290.3247\n",
      "Epoch 431/500\n",
      "20/20 [==============================] - 0s 4ms/step - loss: 139.2343 - val_loss: 1290.3243\n",
      "Epoch 432/500\n",
      "20/20 [==============================] - 0s 5ms/step - loss: 139.2344 - val_loss: 1290.3243\n",
      "Epoch 433/500\n",
      "20/20 [==============================] - 0s 4ms/step - loss: 139.2344 - val_loss: 1290.3245\n",
      "Epoch 434/500\n",
      "20/20 [==============================] - 0s 4ms/step - loss: 139.2345 - val_loss: 1290.3245\n",
      "Epoch 435/500\n",
      "20/20 [==============================] - 0s 4ms/step - loss: 139.2345 - val_loss: 1290.3243\n",
      "Epoch 436/500\n",
      "20/20 [==============================] - 0s 4ms/step - loss: 139.2345 - val_loss: 1290.3245\n",
      "Epoch 437/500\n",
      "20/20 [==============================] - 0s 3ms/step - loss: 139.2346 - val_loss: 1290.3242\n",
      "Epoch 438/500\n",
      "20/20 [==============================] - 0s 5ms/step - loss: 139.2346 - val_loss: 1290.3236\n",
      "Epoch 439/500\n",
      "20/20 [==============================] - 0s 3ms/step - loss: 139.2346 - val_loss: 1290.3235\n",
      "Epoch 440/500\n",
      "20/20 [==============================] - 0s 4ms/step - loss: 139.2347 - val_loss: 1290.3235\n",
      "Epoch 441/500\n",
      "20/20 [==============================] - 0s 5ms/step - loss: 139.2347 - val_loss: 1290.3235\n",
      "Epoch 442/500\n",
      "20/20 [==============================] - 0s 5ms/step - loss: 139.2348 - val_loss: 1290.3235\n",
      "Epoch 443/500\n",
      "20/20 [==============================] - 0s 4ms/step - loss: 139.2348 - val_loss: 1290.3232\n",
      "Epoch 444/500\n",
      "20/20 [==============================] - 0s 4ms/step - loss: 139.2348 - val_loss: 1290.3226\n",
      "Epoch 445/500\n",
      "20/20 [==============================] - 0s 4ms/step - loss: 139.2348 - val_loss: 1290.3225\n",
      "Epoch 446/500\n",
      "20/20 [==============================] - 0s 5ms/step - loss: 139.2348 - val_loss: 1290.3219\n",
      "Epoch 447/500\n",
      "20/20 [==============================] - 0s 4ms/step - loss: 139.2349 - val_loss: 1290.3217\n",
      "Epoch 448/500\n",
      "20/20 [==============================] - 0s 4ms/step - loss: 139.2350 - val_loss: 1290.3219\n",
      "Epoch 449/500\n",
      "20/20 [==============================] - 0s 4ms/step - loss: 139.2350 - val_loss: 1290.3220\n",
      "Epoch 450/500\n",
      "20/20 [==============================] - 0s 4ms/step - loss: 139.2350 - val_loss: 1290.3220\n",
      "Epoch 451/500\n",
      "20/20 [==============================] - 0s 4ms/step - loss: 139.2351 - val_loss: 1290.3220\n",
      "Epoch 452/500\n",
      "20/20 [==============================] - 0s 11ms/step - loss: 139.2351 - val_loss: 1290.3219\n",
      "Epoch 453/500\n",
      "20/20 [==============================] - 0s 5ms/step - loss: 139.2351 - val_loss: 1290.3219\n",
      "Epoch 454/500\n",
      "20/20 [==============================] - 0s 4ms/step - loss: 139.2351 - val_loss: 1290.3219\n",
      "Epoch 455/500\n",
      "20/20 [==============================] - 0s 4ms/step - loss: 139.2352 - val_loss: 1290.3217\n",
      "Epoch 456/500\n",
      "20/20 [==============================] - 0s 5ms/step - loss: 139.2352 - val_loss: 1290.3217\n",
      "Epoch 457/500\n",
      "20/20 [==============================] - 0s 4ms/step - loss: 139.2353 - val_loss: 1290.3217\n",
      "Epoch 458/500\n",
      "20/20 [==============================] - 0s 4ms/step - loss: 139.2353 - val_loss: 1290.3215\n",
      "Epoch 459/500\n",
      "20/20 [==============================] - 0s 4ms/step - loss: 139.2353 - val_loss: 1290.3215\n",
      "Epoch 460/500\n",
      "20/20 [==============================] - 0s 4ms/step - loss: 139.2353 - val_loss: 1290.3210\n",
      "Epoch 461/500\n",
      "20/20 [==============================] - 0s 4ms/step - loss: 139.2353 - val_loss: 1290.3204\n",
      "Epoch 462/500\n",
      "20/20 [==============================] - 0s 4ms/step - loss: 139.2354 - val_loss: 1290.3201\n",
      "Epoch 463/500\n",
      "20/20 [==============================] - 0s 4ms/step - loss: 139.2354 - val_loss: 1290.3196\n",
      "Epoch 464/500\n",
      "20/20 [==============================] - 0s 4ms/step - loss: 139.2354 - val_loss: 1290.3199\n",
      "Epoch 465/500\n",
      "20/20 [==============================] - 0s 4ms/step - loss: 139.2355 - val_loss: 1290.3196\n",
      "Epoch 466/500\n",
      "20/20 [==============================] - 0s 4ms/step - loss: 139.2355 - val_loss: 1290.3197\n",
      "Epoch 467/500\n",
      "20/20 [==============================] - 0s 3ms/step - loss: 139.2355 - val_loss: 1290.3199\n",
      "Epoch 468/500\n",
      "20/20 [==============================] - 0s 4ms/step - loss: 139.2355 - val_loss: 1290.3199\n",
      "Epoch 469/500\n",
      "20/20 [==============================] - 0s 4ms/step - loss: 139.2356 - val_loss: 1290.3197\n",
      "Epoch 470/500\n",
      "20/20 [==============================] - 0s 4ms/step - loss: 139.2356 - val_loss: 1290.3196\n",
      "Epoch 471/500\n",
      "20/20 [==============================] - 0s 4ms/step - loss: 139.2356 - val_loss: 1290.3192\n",
      "Epoch 472/500\n",
      "20/20 [==============================] - 0s 4ms/step - loss: 139.2356 - val_loss: 1290.3191\n",
      "Epoch 473/500\n",
      "20/20 [==============================] - 0s 4ms/step - loss: 139.2356 - val_loss: 1290.3187\n",
      "Epoch 474/500\n",
      "20/20 [==============================] - 0s 4ms/step - loss: 139.2357 - val_loss: 1290.3187\n",
      "Epoch 475/500\n",
      "20/20 [==============================] - 0s 4ms/step - loss: 139.2357 - val_loss: 1290.3191\n",
      "Epoch 476/500\n",
      "20/20 [==============================] - 0s 8ms/step - loss: 139.2358 - val_loss: 1290.3191\n",
      "Epoch 477/500\n",
      "20/20 [==============================] - 0s 8ms/step - loss: 139.2357 - val_loss: 1290.3195\n",
      "Epoch 478/500\n",
      "20/20 [==============================] - 0s 4ms/step - loss: 139.2357 - val_loss: 1290.3196\n",
      "Epoch 479/500\n",
      "20/20 [==============================] - 0s 4ms/step - loss: 139.2358 - val_loss: 1290.3198\n",
      "Epoch 480/500\n",
      "20/20 [==============================] - 0s 3ms/step - loss: 139.2358 - val_loss: 1290.3199\n",
      "Epoch 481/500\n",
      "20/20 [==============================] - 0s 5ms/step - loss: 139.2359 - val_loss: 1290.3197\n",
      "Epoch 482/500\n",
      "20/20 [==============================] - 0s 4ms/step - loss: 139.2358 - val_loss: 1290.3197\n",
      "Epoch 483/500\n",
      "20/20 [==============================] - 0s 4ms/step - loss: 139.2358 - val_loss: 1290.3195\n",
      "Epoch 484/500\n",
      "20/20 [==============================] - 0s 4ms/step - loss: 139.2358 - val_loss: 1290.3191\n",
      "Epoch 485/500\n",
      "20/20 [==============================] - 0s 4ms/step - loss: 139.2358 - val_loss: 1290.3185\n",
      "Epoch 486/500\n",
      "20/20 [==============================] - 0s 4ms/step - loss: 139.2358 - val_loss: 1290.3180\n",
      "Epoch 487/500\n",
      "20/20 [==============================] - 0s 4ms/step - loss: 139.2359 - val_loss: 1290.3171\n",
      "Epoch 488/500\n",
      "20/20 [==============================] - 0s 4ms/step - loss: 139.2359 - val_loss: 1290.3169\n",
      "Epoch 489/500\n",
      "20/20 [==============================] - 0s 5ms/step - loss: 139.2359 - val_loss: 1290.3168\n",
      "Epoch 490/500\n",
      "20/20 [==============================] - 0s 4ms/step - loss: 139.2359 - val_loss: 1290.3165\n",
      "Epoch 491/500\n",
      "20/20 [==============================] - 0s 4ms/step - loss: 139.2360 - val_loss: 1290.3165\n",
      "Epoch 492/500\n",
      "20/20 [==============================] - 0s 3ms/step - loss: 139.2360 - val_loss: 1290.3164\n",
      "Epoch 493/500\n",
      "20/20 [==============================] - 0s 4ms/step - loss: 139.2360 - val_loss: 1290.3164\n",
      "Epoch 494/500\n",
      "20/20 [==============================] - 0s 5ms/step - loss: 139.2360 - val_loss: 1290.3164\n",
      "Epoch 495/500\n",
      "20/20 [==============================] - 0s 5ms/step - loss: 139.2361 - val_loss: 1290.3168\n",
      "Epoch 496/500\n",
      "20/20 [==============================] - 0s 3ms/step - loss: 139.2361 - val_loss: 1290.3169\n",
      "Epoch 497/500\n",
      "20/20 [==============================] - 0s 5ms/step - loss: 139.2361 - val_loss: 1290.3171\n",
      "Epoch 498/500\n",
      "20/20 [==============================] - 0s 4ms/step - loss: 139.2361 - val_loss: 1290.3170\n",
      "Epoch 499/500\n",
      "20/20 [==============================] - 0s 5ms/step - loss: 139.2361 - val_loss: 1290.3171\n",
      "Epoch 500/500\n",
      "20/20 [==============================] - 0s 4ms/step - loss: 139.2361 - val_loss: 1290.3171\n"
     ]
    }
   ],
   "source": [
    "C0 = tf.Variable(82.7524, name=\"C0\", trainable=True, dtype=tf.float32)\n",
    "K0 = tf.Variable(-0.0031, name=\"K0\", trainable=True, dtype=tf.float32)\n",
    "K1 = tf.Variable(-0.0003, name=\"K1\", trainable=True, dtype=tf.float32)\n",
    "a = tf.Variable(0.0000, name=\"a\", trainable=True, dtype=tf.float32)\n",
    "b = tf.Variable(0.0171, name=\"b\", trainable=True, dtype=tf.float32)\n",
    "c = tf.Variable(3.0230, name=\"c\", trainable=True, dtype=tf.float32)\n",
    "\n",
    "splitr = 0.8\n",
    "\n",
    "\n",
    "def loss_fn(y_true, y_pred):\n",
    "    squared_difference = tf.square(y_true[:, 0] - y_pred[:, 0])\n",
    "    #squared_difference2 = tf.square(y_true[:, 2]-y_pred[:, 2])\n",
    "    #squared_difference1 = tf.square(y_true[:, 1]-y_pred[:, 1])\n",
    "    epsilon = 1\n",
    "    squared_difference3 = tf.square(\n",
    "        y_pred[:, 1] - (\n",
    "            y_pred[:, 0] * (\n",
    "                K0 - K1 * (\n",
    "                    9 * a * tf.math.log((y_pred[:, 0] + epsilon) / C0) / (K0 - K1 * c)**2 +\n",
    "                    4 * b * tf.math.log((y_pred[:, 0] + epsilon) / C0) / (K0 - K1 * c) + c\n",
    "                )\n",
    "            )\n",
    "        )\n",
    "    )\n",
    "    return tf.reduce_mean(squared_difference, axis=-1) + 0.2*tf.reduce_mean(squared_difference3, axis=-1)\n",
    "model = Sequential()\n",
    "model.add(LSTM(100, input_shape=(trainX.shape[1], trainX.shape[2])))\n",
    "model.add(Dense(60))\n",
    "model.compile(loss=loss_fn, optimizer='adam')\n",
    "history = model.fit(trainX[:int(splitr*trainX.shape[0])], trainy[:int(splitr*trainX.shape[0])], epochs=500, batch_size=64, validation_data=(trainX[int(splitr*trainX.shape[0]):trainX.shape[0]], trainy[int(splitr*trainX.shape[0]):trainX.shape[0]]), shuffle=False)"
   ]
  },
  {
   "cell_type": "code",
   "execution_count": 19,
   "metadata": {
    "colab": {
     "base_uri": "https://localhost:8080/"
    },
    "id": "yJL101rPyuoT",
    "outputId": "239ff2b1-c186-423a-d316-939dfdd7c793"
   },
   "outputs": [
    {
     "name": "stdout",
     "output_type": "stream",
     "text": [
      "1/1 [==============================] - 0s 390ms/step\n"
     ]
    }
   ],
   "source": [
    "forecast_without_mc = forecastX\n",
    "yhat_without_mc = model.predict(forecast_without_mc) # Step Ahead Prediction\n",
    "forecast_without_mc = forecast_without_mc.reshape((forecast_without_mc.shape[0], forecast_without_mc.shape[2])) # Historical Input"
   ]
  },
  {
   "cell_type": "code",
   "execution_count": 20,
   "metadata": {
    "colab": {
     "base_uri": "https://localhost:8080/"
    },
    "id": "g9dQELcJ8wbp",
    "outputId": "4dc7671b-b1a8-48d5-8744-a86f98446109"
   },
   "outputs": [
    {
     "data": {
      "text/plain": [
       "(1, 1, 251)"
      ]
     },
     "execution_count": 20,
     "metadata": {},
     "output_type": "execute_result"
    }
   ],
   "source": [
    "forecastX.shape"
   ]
  },
  {
   "cell_type": "code",
   "execution_count": 21,
   "metadata": {
    "colab": {
     "base_uri": "https://localhost:8080/"
    },
    "id": "IS2kyIKG1Kbr",
    "outputId": "f31b3485-8e26-452f-9298-ea8bf7e80ad1"
   },
   "outputs": [
    {
     "data": {
      "text/plain": [
       "(1, 251)"
      ]
     },
     "execution_count": 21,
     "metadata": {},
     "output_type": "execute_result"
    }
   ],
   "source": [
    "forecast_without_mc.shape"
   ]
  },
  {
   "cell_type": "code",
   "execution_count": 22,
   "metadata": {
    "id": "0u6VIzaDyuoT"
   },
   "outputs": [],
   "source": [
    "inv_yhat_without_mc = np.concatenate((forecast_without_mc, yhat_without_mc), axis=1) # Concatenation of predicted values with Historical Data\n",
    "#inv_yhat_without_mc = scaler.inverse_transform(inv_yhat_without_mc) # Transform labels back to original encoding"
   ]
  },
  {
   "cell_type": "code",
   "execution_count": 23,
   "metadata": {
    "colab": {
     "base_uri": "https://localhost:8080/"
    },
    "id": "EUEcw0LX07oU",
    "outputId": "cfc32397-9c37-4b43-d087-584bb31c3dcc"
   },
   "outputs": [
    {
     "data": {
      "text/plain": [
       "(1, 311)"
      ]
     },
     "execution_count": 23,
     "metadata": {},
     "output_type": "execute_result"
    }
   ],
   "source": [
    "inv_yhat_without_mc.shape"
   ]
  },
  {
   "cell_type": "code",
   "execution_count": 24,
   "metadata": {
    "id": "31OWVbSh_305"
   },
   "outputs": [],
   "source": [
    "fforecast = inv_yhat_without_mc[:,-300:]"
   ]
  },
  {
   "cell_type": "code",
   "execution_count": 25,
   "metadata": {},
   "outputs": [
    {
     "data": {
      "text/plain": [
       "(1, 300)"
      ]
     },
     "execution_count": 25,
     "metadata": {},
     "output_type": "execute_result"
    }
   ],
   "source": [
    "fforecast.shape"
   ]
  },
  {
   "cell_type": "code",
   "execution_count": 26,
   "metadata": {
    "id": "BlpGH2FOAiRF"
   },
   "outputs": [],
   "source": [
    "final_forecast = fforecast[:,0:300:3]"
   ]
  },
  {
   "cell_type": "code",
   "execution_count": 27,
   "metadata": {},
   "outputs": [
    {
     "data": {
      "text/plain": [
       "(1, 300)"
      ]
     },
     "execution_count": 27,
     "metadata": {},
     "output_type": "execute_result"
    }
   ],
   "source": [
    "fforecast.shape"
   ]
  },
  {
   "cell_type": "code",
   "execution_count": 28,
   "metadata": {
    "id": "CXkgkj_LBk_t"
   },
   "outputs": [],
   "source": [
    "# code to replace all negative value with 0\n",
    "final_forecast[final_forecast<0] = 0"
   ]
  },
  {
   "cell_type": "code",
   "execution_count": 29,
   "metadata": {},
   "outputs": [
    {
     "data": {
      "text/plain": [
       "array([[6.04795285e+01, 5.99194211e+01, 5.94152194e+01, 5.89110177e+01,\n",
       "        6.61738815e+01, 1.20105090e-01, 1.01625216e+00, 4.12037313e-01,\n",
       "        1.07094742e-01, 0.00000000e+00, 0.00000000e+00, 0.00000000e+00,\n",
       "        3.82706046e-01, 5.75047386e+01, 5.74627218e+01, 5.74207050e+01,\n",
       "        5.73786881e+01, 5.73366713e+01, 6.28409897e+01, 6.25103408e+01,\n",
       "        6.18800887e+01, 6.12498366e+01, 6.06195845e+01, 6.00314659e+01,\n",
       "        5.95272642e+01, 5.90230626e+01, 5.85188609e+01, 0.00000000e+00,\n",
       "        2.02563290e-01, 6.10876354e+01, 6.10246102e+01, 5.97326797e+01,\n",
       "        5.92284781e+01, 5.87242764e+01, 5.82200747e+01, 5.80789683e+01,\n",
       "        5.79559280e+01, 5.78359050e+01, 0.00000000e+00, 0.00000000e+00,\n",
       "        5.66044693e+01, 3.47389130e-02, 0.00000000e+00, 1.50181502e-01,\n",
       "        3.86974573e-01, 3.23349893e-01, 2.73746312e-01, 5.91351074e+01,\n",
       "        5.86309057e+01, 0.00000000e+00, 0.00000000e+00, 6.10164099e+01,\n",
       "        6.03861578e+01, 5.98447246e+01, 5.93405229e+01, 5.88363212e+01,\n",
       "        5.83321195e+01, 5.81069795e+01, 5.79809290e+01, 5.78548786e+01,\n",
       "        2.31229650e-01, 0.00000000e+00, 5.90417367e+01, 5.85375350e+01,\n",
       "        5.81583333e+01, 5.80322829e+01, 5.79062325e+01, 5.77801821e+01,\n",
       "        5.76541316e+01, 5.75280812e+01, 5.74020308e+01, 0.00000000e+00,\n",
       "        4.95466380e-01, 5.29805908e+01, 0.00000000e+00, 0.00000000e+00,\n",
       "        0.00000000e+00, 2.25831570e-01, 0.00000000e+00, 0.00000000e+00,\n",
       "        5.82638283e+01, 0.00000000e+00, 0.00000000e+00, 0.00000000e+00,\n",
       "        0.00000000e+00, 1.08968103e+00, 0.00000000e+00, 1.51206851e+00,\n",
       "        2.10304260e-01, 0.00000000e+00, 0.00000000e+00, 2.52635092e-01,\n",
       "        1.39277838e-02, 0.00000000e+00, 0.00000000e+00, 4.05018687e-01,\n",
       "        1.22500777e-01, 0.00000000e+00, 0.00000000e+00, 0.00000000e+00]])"
      ]
     },
     "execution_count": 29,
     "metadata": {},
     "output_type": "execute_result"
    }
   ],
   "source": [
    "final_forecast"
   ]
  },
  {
   "cell_type": "code",
   "execution_count": 30,
   "metadata": {},
   "outputs": [
    {
     "data": {
      "text/plain": [
       "(1, 100)"
      ]
     },
     "execution_count": 30,
     "metadata": {},
     "output_type": "execute_result"
    }
   ],
   "source": [
    "final_forecast.shape"
   ]
  },
  {
   "cell_type": "code",
   "execution_count": 31,
   "metadata": {},
   "outputs": [
    {
     "data": {
      "text/plain": [
       "(100,)"
      ]
     },
     "execution_count": 31,
     "metadata": {},
     "output_type": "execute_result"
    }
   ],
   "source": [
    "test.shape"
   ]
  },
  {
   "cell_type": "code",
   "execution_count": 32,
   "metadata": {},
   "outputs": [],
   "source": [
    "training_set = np.array(training_set)\n",
    "test = np.array(test)\n",
    "final_forecast = np.array(final_forecast.squeeze(0))"
   ]
  },
  {
   "cell_type": "code",
   "execution_count": 33,
   "metadata": {},
   "outputs": [
    {
     "data": {
      "text/plain": [
       "array([49.92473156, 49.91119281, 49.89765406, 49.88411531, 49.87057656,\n",
       "       49.85703782, 49.84349907, 49.82996032, 49.81642157, 49.80288282,\n",
       "       49.78934407, 49.77580532, 49.76226657, 49.74872782, 49.73518908,\n",
       "       49.72165033, 49.70811158, 49.69457283, 49.68103408, 49.66749533,\n",
       "       49.65395658, 49.64041783, 49.62687908, 49.61334034, 49.59980159,\n",
       "       49.58626284, 49.57272409, 49.55918534, 49.54564659, 49.53210784,\n",
       "       49.51856909, 49.50503035, 49.4914916 , 49.47795285, 49.4644141 ,\n",
       "       49.45087535, 49.4373366 , 49.42379785, 49.4102591 , 49.39672035,\n",
       "       49.38318161, 49.36964286, 49.35610411, 49.34256536, 49.32902661,\n",
       "       49.31548786, 49.30194911, 49.28841036, 49.27487162, 49.26133287,\n",
       "       49.24779412, 49.23425537, 49.22071662, 49.20717787, 49.19363912,\n",
       "       49.18010037, 49.16656162, 49.15302288, 49.13948413, 49.12594538,\n",
       "       49.11240663, 49.09886788, 49.08532913, 49.07179038, 49.05825163,\n",
       "       49.04471289, 49.03117414, 49.01763539, 49.00409664, 48.99055789,\n",
       "       48.97701914, 48.96348039, 48.94994164, 48.93640289, 48.92286415,\n",
       "       48.9093254 , 48.89578665, 48.8822479 , 48.86870915, 48.8551704 ,\n",
       "       48.84163165, 48.8280929 , 48.81455415, 48.80101541, 48.79089977,\n",
       "       48.78106169, 48.77122361, 48.76138553, 48.75154745, 48.74170937,\n",
       "       48.73187129, 48.7220332 , 48.71219512, 48.70235704, 48.69251896,\n",
       "       48.68268088, 48.6728428 , 48.66300471, 48.65316663, 48.64332855])"
      ]
     },
     "execution_count": 33,
     "metadata": {},
     "output_type": "execute_result"
    }
   ],
   "source": [
    "test"
   ]
  },
  {
   "cell_type": "code",
   "execution_count": 34,
   "metadata": {},
   "outputs": [
    {
     "data": {
      "text/plain": [
       "(100,)"
      ]
     },
     "execution_count": 34,
     "metadata": {},
     "output_type": "execute_result"
    }
   ],
   "source": [
    "test.shape"
   ]
  },
  {
   "cell_type": "code",
   "execution_count": 35,
   "metadata": {},
   "outputs": [
    {
     "data": {
      "text/plain": [
       "(100,)"
      ]
     },
     "execution_count": 35,
     "metadata": {},
     "output_type": "execute_result"
    }
   ],
   "source": [
    "final_forecast.shape"
   ]
  },
  {
   "cell_type": "code",
   "execution_count": 36,
   "metadata": {},
   "outputs": [
    {
     "data": {
      "text/plain": [
       "(100,)"
      ]
     },
     "execution_count": 36,
     "metadata": {},
     "output_type": "execute_result"
    }
   ],
   "source": [
    "test.shape"
   ]
  },
  {
   "cell_type": "code",
   "execution_count": 37,
   "metadata": {},
   "outputs": [
    {
     "name": "stdout",
     "output_type": "stream",
     "text": [
      "34.966919644211046\n",
      "28.881019626941065\n"
     ]
    }
   ],
   "source": [
    "import math\n",
    "MSE = np.square(np.subtract(np.array(test),np.array(final_forecast))).mean()   \n",
    "rsme = math.sqrt(MSE)\n",
    "print(rsme)  \n",
    "MAE = np.abs(np.subtract(np.array(test),np.array(final_forecast))).mean()   \n",
    "mae = MAE\n",
    "print(mae)"
   ]
  }
 ],
 "metadata": {
  "colab": {
   "provenance": []
  },
  "kernelspec": {
   "display_name": "Python 3",
   "language": "python",
   "name": "python3"
  },
  "language_info": {
   "codemirror_mode": {
    "name": "ipython",
    "version": 3
   },
   "file_extension": ".py",
   "mimetype": "text/x-python",
   "name": "python",
   "nbconvert_exporter": "python",
   "pygments_lexer": "ipython3",
   "version": "3.9.13"
  }
 },
 "nbformat": 4,
 "nbformat_minor": 0
}
