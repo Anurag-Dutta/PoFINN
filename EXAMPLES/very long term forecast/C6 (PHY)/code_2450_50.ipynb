{
 "cells": [
  {
   "cell_type": "markdown",
   "metadata": {
    "id": "pCGKeZ2gyuoQ"
   },
   "source": [
    "_Importing Required Libraries_"
   ]
  },
  {
   "cell_type": "code",
   "execution_count": 1,
   "metadata": {
    "colab": {
     "base_uri": "https://localhost:8080/"
    },
    "id": "A-6LN-zXiLcM",
    "outputId": "4de610a4-f8b8-4f49-c6c0-89de299ccedc"
   },
   "outputs": [
    {
     "name": "stdout",
     "output_type": "stream",
     "text": [
      "Requirement already satisfied: hampel in c:\\users\\anurag dutta\\appdata\\local\\packages\\pythonsoftwarefoundation.python.3.9_qbz5n2kfra8p0\\localcache\\local-packages\\python39\\site-packages (0.0.5)\n",
      "Requirement already satisfied: numpy in c:\\users\\anurag dutta\\appdata\\local\\packages\\pythonsoftwarefoundation.python.3.9_qbz5n2kfra8p0\\localcache\\local-packages\\python39\\site-packages (from hampel) (1.26.4)\n",
      "Requirement already satisfied: pandas in c:\\users\\anurag dutta\\appdata\\local\\packages\\pythonsoftwarefoundation.python.3.9_qbz5n2kfra8p0\\localcache\\local-packages\\python39\\site-packages (from hampel) (1.5.2)\n",
      "Requirement already satisfied: python-dateutil>=2.8.1 in c:\\users\\anurag dutta\\appdata\\local\\packages\\pythonsoftwarefoundation.python.3.9_qbz5n2kfra8p0\\localcache\\local-packages\\python39\\site-packages (from pandas->hampel) (2.8.2)\n",
      "Requirement already satisfied: pytz>=2020.1 in c:\\users\\anurag dutta\\appdata\\local\\packages\\pythonsoftwarefoundation.python.3.9_qbz5n2kfra8p0\\localcache\\local-packages\\python39\\site-packages (from pandas->hampel) (2023.3.post1)\n",
      "Requirement already satisfied: six>=1.5 in c:\\users\\anurag dutta\\appdata\\local\\packages\\pythonsoftwarefoundation.python.3.9_qbz5n2kfra8p0\\localcache\\local-packages\\python39\\site-packages (from python-dateutil>=2.8.1->pandas->hampel) (1.16.0)\n",
      "Note: you may need to restart the kernel to use updated packages.\n"
     ]
    },
    {
     "name": "stderr",
     "output_type": "stream",
     "text": [
      "\n",
      "[notice] A new release of pip is available: 24.2 -> 24.3.1\n",
      "[notice] To update, run: C:\\Users\\Anurag Dutta\\AppData\\Local\\Microsoft\\WindowsApps\\PythonSoftwareFoundation.Python.3.9_qbz5n2kfra8p0\\python.exe -m pip install --upgrade pip\n"
     ]
    }
   ],
   "source": [
    "pip install hampel"
   ]
  },
  {
   "cell_type": "code",
   "execution_count": 2,
   "metadata": {
    "id": "By_d9uXpaFvZ"
   },
   "outputs": [],
   "source": [
    "from keras.models import Sequential\n",
    "from keras.layers import Dense\n",
    "from keras.layers import LSTM\n",
    "from keras.layers import Dropout\n",
    "import keras\n",
    "import tensorflow as tf\n",
    "from hampel import hampel\n",
    "import numpy as np\n",
    "import matplotlib.pyplot as plt\n",
    "import pandas as pd\n",
    "from sklearn.preprocessing import MinMaxScaler\n",
    "from sklearn.metrics import mean_squared_error, mean_absolute_error\n",
    "from math import sqrt\n",
    "from matplotlib import pyplot\n",
    "from numpy import array"
   ]
  },
  {
   "cell_type": "markdown",
   "metadata": {
    "id": "JyOjBMFayuoR"
   },
   "source": [
    "## Pretraining"
   ]
  },
  {
   "cell_type": "markdown",
   "metadata": {
    "id": "-5QqIY_GyuoR"
   },
   "source": [
    "The `capa_intermittency.dat` feeds the model with the dynamics of the Capacitor"
   ]
  },
  {
   "cell_type": "code",
   "execution_count": 3,
   "metadata": {
    "id": "9dV4a8yfyuoR"
   },
   "outputs": [],
   "source": [
    "data = np.genfromtxt('capa_intermittency.dat')\n",
    "training_set = pd.DataFrame(data).reset_index(drop=True)\n",
    "training_set = training_set.iloc[:,0]"
   ]
  },
  {
   "cell_type": "markdown",
   "metadata": {
    "id": "i7easoxByuoR"
   },
   "source": [
    "## Computing the Gradient"
   ]
  },
  {
   "cell_type": "markdown",
   "metadata": {
    "id": "5SnyolJTyuoR"
   },
   "source": [
    "_Calculating the value of_ $\\frac{dx}{dt}$"
   ]
  },
  {
   "cell_type": "code",
   "execution_count": 4,
   "metadata": {
    "colab": {
     "base_uri": "https://localhost:8080/"
    },
    "id": "wmIbVfIvyuoR",
    "outputId": "aa4e3136-c854-465d-d2e9-81cfd546e440"
   },
   "outputs": [
    {
     "name": "stdout",
     "output_type": "stream",
     "text": [
      "1.0\n",
      "1        0.000298\n",
      "2        0.000298\n",
      "3        0.000297\n",
      "4        0.000297\n",
      "5        0.000297\n",
      "           ...   \n",
      "9996     0.000018\n",
      "9997     0.000018\n",
      "9998     0.000018\n",
      "9999     0.000018\n",
      "10000    0.000018\n",
      "Name: 0, Length: 10000, dtype: float64\n"
     ]
    }
   ],
   "source": [
    "t_diff = 1\n",
    "print(training_set.max())\n",
    "gradient_t = (training_set.diff()/t_diff).iloc[1:] # dx/dt\n",
    "print(gradient_t)"
   ]
  },
  {
   "cell_type": "markdown",
   "metadata": {
    "id": "_2eVeeoxyuoS"
   },
   "source": [
    "## Loading Datasets"
   ]
  },
  {
   "cell_type": "code",
   "execution_count": 5,
   "metadata": {
    "id": "0J-NKyIEyuoS"
   },
   "outputs": [
    {
     "data": {
      "text/plain": [
       "0       84.600000\n",
       "1       84.431933\n",
       "2       84.263866\n",
       "3       84.095798\n",
       "4       83.927731\n",
       "          ...    \n",
       "2495    45.239352\n",
       "2496    45.229514\n",
       "2497    45.219676\n",
       "2498    45.209838\n",
       "2499    45.200000\n",
       "Name: C6, Length: 2500, dtype: float64"
      ]
     },
     "execution_count": 5,
     "metadata": {},
     "output_type": "execute_result"
    }
   ],
   "source": [
    "data = pd.read_csv(\"c6_interpolated_2450_50.csv\")\n",
    "training_set = data.iloc[:, 1]\n",
    "training_set"
   ]
  },
  {
   "cell_type": "code",
   "execution_count": 6,
   "metadata": {
    "colab": {
     "base_uri": "https://localhost:8080/"
    },
    "id": "-CbNUhJ74UqF",
    "outputId": "20f562d8-8247-49cc-b9c3-00eca5e13e2d"
   },
   "outputs": [
    {
     "data": {
      "text/plain": [
       "0       84.600000\n",
       "1       84.431933\n",
       "2       84.263866\n",
       "3       84.095798\n",
       "4       83.927731\n",
       "          ...    \n",
       "2445     0.269228\n",
       "2446     0.000000\n",
       "2447     0.146272\n",
       "2448     0.000000\n",
       "2449     0.357824\n",
       "Name: C6, Length: 2450, dtype: float64"
      ]
     },
     "execution_count": 6,
     "metadata": {},
     "output_type": "execute_result"
    }
   ],
   "source": [
    "test = training_set.tail(50)\n",
    "test\n",
    "training_set = training_set.head(2450)\n",
    "training_set"
   ]
  },
  {
   "cell_type": "code",
   "execution_count": 7,
   "metadata": {
    "colab": {
     "base_uri": "https://localhost:8080/"
    },
    "id": "X0TwTcq0yuoS",
    "outputId": "37252ed8-d88e-4044-fa7a-922411990b5b"
   },
   "outputs": [
    {
     "name": "stdout",
     "output_type": "stream",
     "text": [
      "0       0.000298\n",
      "1       0.000298\n",
      "2       0.000297\n",
      "3       0.000297\n",
      "4       0.000297\n",
      "          ...   \n",
      "9995    0.000018\n",
      "9996    0.000018\n",
      "9997    0.000018\n",
      "9998    0.000018\n",
      "9999    0.000018\n",
      "Name: 0, Length: 10000, dtype: float64\n"
     ]
    }
   ],
   "source": [
    "training_set = training_set.reset_index(drop=True)\n",
    "gradient_t = gradient_t.reset_index(drop=True)\n",
    "print(gradient_t)"
   ]
  },
  {
   "cell_type": "code",
   "execution_count": 8,
   "metadata": {
    "id": "O2biznZQyuoS"
   },
   "outputs": [],
   "source": [
    "df = pd.concat((training_set, gradient_t), axis=1)\n",
    "df.columns = ['y_t', 'grad_t']"
   ]
  },
  {
   "cell_type": "code",
   "execution_count": 9,
   "metadata": {
    "colab": {
     "base_uri": "https://localhost:8080/",
     "height": 423
    },
    "id": "sk_a5v3tyuoS",
    "outputId": "17563625-e550-45ae-faab-fafa353e44da"
   },
   "outputs": [
    {
     "data": {
      "text/html": [
       "<div>\n",
       "<style scoped>\n",
       "    .dataframe tbody tr th:only-of-type {\n",
       "        vertical-align: middle;\n",
       "    }\n",
       "\n",
       "    .dataframe tbody tr th {\n",
       "        vertical-align: top;\n",
       "    }\n",
       "\n",
       "    .dataframe thead th {\n",
       "        text-align: right;\n",
       "    }\n",
       "</style>\n",
       "<table border=\"1\" class=\"dataframe\">\n",
       "  <thead>\n",
       "    <tr style=\"text-align: right;\">\n",
       "      <th></th>\n",
       "      <th>y_t</th>\n",
       "      <th>grad_t</th>\n",
       "    </tr>\n",
       "  </thead>\n",
       "  <tbody>\n",
       "    <tr>\n",
       "      <th>0</th>\n",
       "      <td>84.600000</td>\n",
       "      <td>0.000298</td>\n",
       "    </tr>\n",
       "    <tr>\n",
       "      <th>1</th>\n",
       "      <td>84.431933</td>\n",
       "      <td>0.000298</td>\n",
       "    </tr>\n",
       "    <tr>\n",
       "      <th>2</th>\n",
       "      <td>84.263866</td>\n",
       "      <td>0.000297</td>\n",
       "    </tr>\n",
       "    <tr>\n",
       "      <th>3</th>\n",
       "      <td>84.095798</td>\n",
       "      <td>0.000297</td>\n",
       "    </tr>\n",
       "    <tr>\n",
       "      <th>4</th>\n",
       "      <td>83.927731</td>\n",
       "      <td>0.000297</td>\n",
       "    </tr>\n",
       "    <tr>\n",
       "      <th>...</th>\n",
       "      <td>...</td>\n",
       "      <td>...</td>\n",
       "    </tr>\n",
       "    <tr>\n",
       "      <th>9995</th>\n",
       "      <td>NaN</td>\n",
       "      <td>0.000018</td>\n",
       "    </tr>\n",
       "    <tr>\n",
       "      <th>9996</th>\n",
       "      <td>NaN</td>\n",
       "      <td>0.000018</td>\n",
       "    </tr>\n",
       "    <tr>\n",
       "      <th>9997</th>\n",
       "      <td>NaN</td>\n",
       "      <td>0.000018</td>\n",
       "    </tr>\n",
       "    <tr>\n",
       "      <th>9998</th>\n",
       "      <td>NaN</td>\n",
       "      <td>0.000018</td>\n",
       "    </tr>\n",
       "    <tr>\n",
       "      <th>9999</th>\n",
       "      <td>NaN</td>\n",
       "      <td>0.000018</td>\n",
       "    </tr>\n",
       "  </tbody>\n",
       "</table>\n",
       "<p>10000 rows × 2 columns</p>\n",
       "</div>"
      ],
      "text/plain": [
       "            y_t    grad_t\n",
       "0     84.600000  0.000298\n",
       "1     84.431933  0.000298\n",
       "2     84.263866  0.000297\n",
       "3     84.095798  0.000297\n",
       "4     83.927731  0.000297\n",
       "...         ...       ...\n",
       "9995        NaN  0.000018\n",
       "9996        NaN  0.000018\n",
       "9997        NaN  0.000018\n",
       "9998        NaN  0.000018\n",
       "9999        NaN  0.000018\n",
       "\n",
       "[10000 rows x 2 columns]"
      ]
     },
     "execution_count": 9,
     "metadata": {},
     "output_type": "execute_result"
    }
   ],
   "source": [
    "df"
   ]
  },
  {
   "cell_type": "markdown",
   "metadata": {
    "id": "-5esyHu5aFvg"
   },
   "source": [
    "## Plot of the External Forcing from Chaotic Differential Equation"
   ]
  },
  {
   "cell_type": "code",
   "execution_count": 10,
   "metadata": {
    "colab": {
     "base_uri": "https://localhost:8080/",
     "height": 447
    },
    "id": "hGnE43tOh-4p",
    "outputId": "fc396503-b624-4fa5-dfbe-f460207405c6"
   },
   "outputs": [
    {
     "data": {
      "text/plain": [
       "<Axes: >"
      ]
     },
     "execution_count": 10,
     "metadata": {},
     "output_type": "execute_result"
    },
    {
     "data": {
      "image/png": "[encoded data removed]",
      "text/plain": [
       "<Figure size 432x288 with 1 Axes>"
      ]
     },
     "metadata": {
      "needs_background": "light"
     },
     "output_type": "display_data"
    }
   ],
   "source": [
    "df.iloc[:, 0].plot()"
   ]
  },
  {
   "cell_type": "code",
   "execution_count": 11,
   "metadata": {
    "colab": {
     "base_uri": "https://localhost:8080/",
     "height": 447
    },
    "id": "ym4xWUUxaFvg",
    "outputId": "ae6a3495-8ce9-437e-ba81-3ed31deedeae"
   },
   "outputs": [
    {
     "name": "stderr",
     "output_type": "stream",
     "text": [
      "C:\\Users\\Anurag Dutta\\AppData\\Local\\Packages\\PythonSoftwareFoundation.Python.3.9_qbz5n2kfra8p0\\LocalCache\\local-packages\\Python39\\site-packages\\pandas\\core\\arraylike.py:402: RuntimeWarning: divide by zero encountered in log\n",
      "  result = getattr(ufunc, method)(*inputs, **kwargs)\n"
     ]
    },
    {
     "data": {
      "text/plain": [
       "<Axes: >"
      ]
     },
     "execution_count": 11,
     "metadata": {},
     "output_type": "execute_result"
    },
    {
     "data": {
      "image/png": "[encoded data removed]",
      "text/plain": [
       "<Figure size 432x288 with 1 Axes>"
      ]
     },
     "metadata": {
      "needs_background": "light"
     },
     "output_type": "display_data"
    }
   ],
   "source": [
    "import numpy as np\n",
    "c0 = 82.7524  # Value for C0\n",
    "K0 = -0.0031  # Value for K0\n",
    "K1 = -0.0003  # Value for K1\n",
    "a = 0.0000    # Value for a\n",
    "b = 0.0171    # Value for b\n",
    "c = 3.0230    # Value for c\n",
    "\n",
    "L = np.minimum(c0, (df.iloc[:, 1] - (df.iloc[:, 0] * (K0 - K1 * (9 * a * np.log(df.iloc[:, 0] / c0) / (K0 - K1 * c)**2 + 4 * b * np.log(df.iloc[:, 0] / c0) / (K0 - K1 * c) + c)))))\n",
    "L.plot()"
   ]
  },
  {
   "cell_type": "markdown",
   "metadata": {
    "id": "9VyEywnwaFvh"
   },
   "source": [
    "## Preprocessing the data into supervised learning"
   ]
  },
  {
   "cell_type": "code",
   "execution_count": 12,
   "metadata": {
    "id": "6V9dXqzdaFvh"
   },
   "outputs": [],
   "source": [
    "# split a sequence into samples\n",
    "def Supervised(data, n_in=1, n_out=1, dropnan=True):\n",
    "    n_vars = 1 if type(data) is list else data.shape[1]\n",
    "    df = pd.DataFrame(data)\n",
    "    cols, names = list(), list()\n",
    "    # input sequence (t-n_in, ... t-1)\n",
    "    for i in range(n_in, 0, -1):\n",
    "        cols.append(df.shift(i))\n",
    "        names += [('var%d(t-%d)' % (j+1, i)) for j in range(n_vars)]\n",
    "    # forecast sequence (t, t+1, ... t+n_out)\n",
    "    for i in range(0, n_out):\n",
    "      cols.append(df.shift(-i))\n",
    "      if i == 0:\n",
    "        names += [('var%d(t)' % (j+1)) for j in range(n_vars)]\n",
    "      else:\n",
    "        names += [('var%d(t+%d)' % (j+1, i)) for j in range(n_vars)]\n",
    "    # put it all together\n",
    "    agg = pd.concat(cols, axis=1)\n",
    "    agg.columns = names\n",
    "    # drop rows with NaN values\n",
    "    if dropnan:\n",
    "       agg.dropna(inplace=True)\n",
    "    return agg"
   ]
  },
  {
   "cell_type": "code",
   "execution_count": 13,
   "metadata": {
    "colab": {
     "base_uri": "https://localhost:8080/"
    },
    "id": "CrzSrT1HnyfH",
    "outputId": "7e75f928-3e47-499d-eac1-51908015ef78"
   },
   "outputs": [
    {
     "name": "stdout",
     "output_type": "stream",
     "text": [
      "     var1(t-175)  var1(t-174)  var1(t-173)  var1(t-172)  var1(t-171)  \\\n",
      "175    84.600000    84.431933    84.263866    84.095798    83.927731   \n",
      "176    84.431933    84.263866    84.095798    83.927731    83.759664   \n",
      "177    84.263866    84.095798    83.927731    83.759664    83.591597   \n",
      "178    84.095798    83.927731    83.759664    83.591597    83.423529   \n",
      "179    83.927731    83.759664    83.591597    83.423529    83.255462   \n",
      "\n",
      "     var1(t-170)  var1(t-169)  var1(t-168)  var1(t-167)  var1(t-166)  ...  \\\n",
      "175    83.759664    83.591597    83.423529    83.255462    83.092437  ...   \n",
      "176    83.591597    83.423529    83.255462    83.092437    82.991597  ...   \n",
      "177    83.423529    83.255462    83.092437    82.991597    82.890756  ...   \n",
      "178    83.255462    83.092437    82.991597    82.890756    82.789916  ...   \n",
      "179    83.092437    82.991597    82.890756    82.789916    82.689076  ...   \n",
      "\n",
      "     var1(t+45)  var2(t+45)  var1(t+46)  var2(t+46)  var1(t+47)  var2(t+47)  \\\n",
      "175   74.856279    0.000280   74.832937    0.000280   74.809594    0.000280   \n",
      "176   74.832937    0.000280   74.809594    0.000280   74.786251    0.000280   \n",
      "177   74.809594    0.000280   74.786251    0.000280   74.762908    0.000279   \n",
      "178   74.786251    0.000280   74.762908    0.000279   74.739566    0.000279   \n",
      "179   74.762908    0.000279   74.739566    0.000279   74.716223    0.000279   \n",
      "\n",
      "     var1(t+48)  var2(t+48)  var1(t+49)  var2(t+49)  \n",
      "175   74.786251    0.000280   74.762908    0.000279  \n",
      "176   74.762908    0.000279   74.739566    0.000279  \n",
      "177   74.739566    0.000279   74.716223    0.000279  \n",
      "178   74.716223    0.000279   74.692880    0.000279  \n",
      "179   74.692880    0.000279   74.669538    0.000279  \n",
      "\n",
      "[5 rows x 276 columns]\n",
      "Index(['var1(t-175)', 'var1(t-174)', 'var1(t-173)', 'var1(t-172)',\n",
      "       'var1(t-171)', 'var1(t-170)', 'var1(t-169)', 'var1(t-168)',\n",
      "       'var1(t-167)', 'var1(t-166)',\n",
      "       ...\n",
      "       'var1(t+45)', 'var2(t+45)', 'var1(t+46)', 'var2(t+46)', 'var1(t+47)',\n",
      "       'var2(t+47)', 'var1(t+48)', 'var2(t+48)', 'var1(t+49)', 'var2(t+49)'],\n",
      "      dtype='object', length=276)\n"
     ]
    }
   ],
   "source": [
    "data = Supervised(df.values, n_in = 175, n_out = 50)\n",
    "\n",
    "\n",
    "cols_to_drop = []\n",
    "for i in range(2, 176):\n",
    "    cols_to_drop.extend([f'var2(t-{i})'])\n",
    "\n",
    "data.drop(cols_to_drop, axis=1, inplace=True)\n",
    "\n",
    "print(data.head())\n",
    "print(data.columns)"
   ]
  },
  {
   "cell_type": "code",
   "execution_count": 14,
   "metadata": {
    "id": "AfPf60oy6Pe4"
   },
   "outputs": [],
   "source": [
    "train = np.array(data[0:len(data)-1])\n",
    "forecast = np.array(data.tail(1))"
   ]
  },
  {
   "cell_type": "code",
   "execution_count": 15,
   "metadata": {
    "id": "WSAafzI37KiT"
   },
   "outputs": [],
   "source": [
    "trainy = train[:,-150:]\n",
    "trainX = train[:,:-150]"
   ]
  },
  {
   "cell_type": "code",
   "execution_count": 16,
   "metadata": {
    "id": "2SrOqVJA7f50"
   },
   "outputs": [],
   "source": [
    "forecasty = forecast[:,-150:]\n",
    "forecastX = forecast[:,:-150]"
   ]
  },
  {
   "cell_type": "code",
   "execution_count": 17,
   "metadata": {
    "colab": {
     "base_uri": "https://localhost:8080/"
    },
    "id": "Qno_k8Nw7saY",
    "outputId": "c4a88db5-d8c6-489f-cdb2-06b24e293cff"
   },
   "outputs": [
    {
     "name": "stdout",
     "output_type": "stream",
     "text": [
      "(2225, 1, 126) (2225, 150) (1, 1, 126)\n"
     ]
    }
   ],
   "source": [
    "trainX = trainX.reshape((trainX.shape[0], 1, trainX.shape[1]))\n",
    "forecastX = forecastX.reshape((forecastX.shape[0], 1, forecastX.shape[1]))\n",
    "print(trainX.shape, trainy.shape, forecastX.shape)"
   ]
  },
  {
   "cell_type": "code",
   "execution_count": 18,
   "metadata": {
    "colab": {
     "base_uri": "https://localhost:8080/"
    },
    "id": "b1Jp2DvNuNFx",
    "outputId": "d0e5b3c4-64f1-438c-eade-8dfeaac8e285"
   },
   "outputs": [
    {
     "name": "stdout",
     "output_type": "stream",
     "text": [
      "Epoch 1/500\n",
      "28/28 [==============================] - 3s 20ms/step - loss: 3428.8923 - val_loss: 1546.5048\n",
      "Epoch 2/500\n",
      "28/28 [==============================] - 0s 4ms/step - loss: 3174.4314 - val_loss: 1399.5354\n",
      "Epoch 3/500\n",
      "28/28 [==============================] - 0s 4ms/step - loss: 2894.9446 - val_loss: 1296.3777\n",
      "Epoch 4/500\n",
      "28/28 [==============================] - 0s 7ms/step - loss: 2718.9585 - val_loss: 1228.6165\n",
      "Epoch 5/500\n",
      "28/28 [==============================] - 0s 10ms/step - loss: 2577.7700 - val_loss: 1172.3701\n",
      "Epoch 6/500\n",
      "28/28 [==============================] - 0s 7ms/step - loss: 2440.2271 - val_loss: 1117.5099\n",
      "Epoch 7/500\n",
      "28/28 [==============================] - 0s 5ms/step - loss: 2303.5781 - val_loss: 1066.1873\n",
      "Epoch 8/500\n",
      "28/28 [==============================] - 0s 4ms/step - loss: 2170.4265 - val_loss: 1019.8853\n",
      "Epoch 9/500\n",
      "28/28 [==============================] - 0s 4ms/step - loss: 2052.1172 - val_loss: 982.5939\n",
      "Epoch 10/500\n",
      "28/28 [==============================] - 0s 4ms/step - loss: 1940.1334 - val_loss: 945.5159\n",
      "Epoch 11/500\n",
      "28/28 [==============================] - 0s 4ms/step - loss: 1836.2743 - val_loss: 911.6049\n",
      "Epoch 12/500\n",
      "28/28 [==============================] - 0s 4ms/step - loss: 1737.4873 - val_loss: 877.9828\n",
      "Epoch 13/500\n",
      "28/28 [==============================] - 0s 5ms/step - loss: 1642.5645 - val_loss: 847.0158\n",
      "Epoch 14/500\n",
      "28/28 [==============================] - 0s 4ms/step - loss: 1545.6318 - val_loss: 816.2198\n",
      "Epoch 15/500\n",
      "28/28 [==============================] - 0s 4ms/step - loss: 1439.8086 - val_loss: 787.9049\n",
      "Epoch 16/500\n",
      "28/28 [==============================] - 0s 4ms/step - loss: 1355.2843 - val_loss: 773.4798\n",
      "Epoch 17/500\n",
      "28/28 [==============================] - 0s 4ms/step - loss: 1275.3900 - val_loss: 752.5640\n",
      "Epoch 18/500\n",
      "28/28 [==============================] - 0s 5ms/step - loss: 1205.1991 - val_loss: 739.8545\n",
      "Epoch 19/500\n",
      "28/28 [==============================] - 0s 6ms/step - loss: 1171.3361 - val_loss: 731.1317\n",
      "Epoch 20/500\n",
      "28/28 [==============================] - 0s 4ms/step - loss: 1068.8988 - val_loss: 712.1578\n",
      "Epoch 21/500\n",
      "28/28 [==============================] - 0s 4ms/step - loss: 1021.3947 - val_loss: 698.7426\n",
      "Epoch 22/500\n",
      "28/28 [==============================] - 0s 4ms/step - loss: 951.4039 - val_loss: 687.9659\n",
      "Epoch 23/500\n",
      "28/28 [==============================] - 0s 5ms/step - loss: 897.6384 - val_loss: 688.3765\n",
      "Epoch 24/500\n",
      "28/28 [==============================] - 0s 4ms/step - loss: 847.9146 - val_loss: 680.1785\n",
      "Epoch 25/500\n",
      "28/28 [==============================] - 0s 4ms/step - loss: 800.1094 - val_loss: 674.0261\n",
      "Epoch 26/500\n",
      "28/28 [==============================] - 0s 4ms/step - loss: 765.7837 - val_loss: 669.0305\n",
      "Epoch 27/500\n",
      "28/28 [==============================] - 0s 5ms/step - loss: 757.6642 - val_loss: 665.6063\n",
      "Epoch 28/500\n",
      "28/28 [==============================] - 0s 4ms/step - loss: 719.3657 - val_loss: 664.7914\n",
      "Epoch 29/500\n",
      "28/28 [==============================] - 0s 4ms/step - loss: 679.5278 - val_loss: 646.7770\n",
      "Epoch 30/500\n",
      "28/28 [==============================] - 0s 5ms/step - loss: 637.5479 - val_loss: 626.9243\n",
      "Epoch 31/500\n",
      "28/28 [==============================] - 0s 5ms/step - loss: 674.9726 - val_loss: 646.3704\n",
      "Epoch 32/500\n",
      "28/28 [==============================] - 0s 5ms/step - loss: 590.1163 - val_loss: 663.4635\n",
      "Epoch 33/500\n",
      "28/28 [==============================] - 0s 8ms/step - loss: 536.8726 - val_loss: 672.0089\n",
      "Epoch 34/500\n",
      "28/28 [==============================] - 0s 6ms/step - loss: 511.7698 - val_loss: 675.2973\n",
      "Epoch 35/500\n",
      "28/28 [==============================] - 0s 4ms/step - loss: 511.0154 - val_loss: 661.1572\n",
      "Epoch 36/500\n",
      "28/28 [==============================] - 0s 4ms/step - loss: 451.4950 - val_loss: 659.4631\n",
      "Epoch 37/500\n",
      "28/28 [==============================] - 0s 5ms/step - loss: 425.1683 - val_loss: 646.7622\n",
      "Epoch 38/500\n",
      "28/28 [==============================] - 0s 4ms/step - loss: 407.4189 - val_loss: 681.8320\n",
      "Epoch 39/500\n",
      "28/28 [==============================] - 0s 4ms/step - loss: 413.4485 - val_loss: 735.5493\n",
      "Epoch 40/500\n",
      "28/28 [==============================] - 0s 5ms/step - loss: 404.9459 - val_loss: 768.9976\n",
      "Epoch 41/500\n",
      "28/28 [==============================] - 0s 6ms/step - loss: 405.5294 - val_loss: 776.5543\n",
      "Epoch 42/500\n",
      "28/28 [==============================] - 0s 8ms/step - loss: 375.2964 - val_loss: 790.2393\n",
      "Epoch 43/500\n",
      "28/28 [==============================] - 0s 5ms/step - loss: 366.4201 - val_loss: 816.9016\n",
      "Epoch 44/500\n",
      "28/28 [==============================] - 0s 6ms/step - loss: 392.7010 - val_loss: 803.7698\n",
      "Epoch 45/500\n",
      "28/28 [==============================] - 0s 6ms/step - loss: 374.6896 - val_loss: 815.1121\n",
      "Epoch 46/500\n",
      "28/28 [==============================] - 0s 5ms/step - loss: 356.5491 - val_loss: 878.6310\n",
      "Epoch 47/500\n",
      "28/28 [==============================] - 0s 5ms/step - loss: 334.1939 - val_loss: 909.8789\n",
      "Epoch 48/500\n",
      "28/28 [==============================] - 0s 7ms/step - loss: 320.5873 - val_loss: 894.1963\n",
      "Epoch 49/500\n",
      "28/28 [==============================] - 0s 13ms/step - loss: 332.4333 - val_loss: 882.9991\n",
      "Epoch 50/500\n",
      "28/28 [==============================] - 0s 8ms/step - loss: 314.5297 - val_loss: 876.5447\n",
      "Epoch 51/500\n",
      "28/28 [==============================] - 0s 8ms/step - loss: 303.5069 - val_loss: 864.8117\n",
      "Epoch 52/500\n",
      "28/28 [==============================] - 0s 7ms/step - loss: 315.2740 - val_loss: 908.7399\n",
      "Epoch 53/500\n",
      "28/28 [==============================] - 0s 6ms/step - loss: 329.2726 - val_loss: 915.6403\n",
      "Epoch 54/500\n",
      "28/28 [==============================] - 0s 6ms/step - loss: 349.7421 - val_loss: 927.6367\n",
      "Epoch 55/500\n",
      "28/28 [==============================] - 0s 6ms/step - loss: 319.8121 - val_loss: 930.7659\n",
      "Epoch 56/500\n",
      "28/28 [==============================] - 0s 5ms/step - loss: 301.6234 - val_loss: 1031.1603\n",
      "Epoch 57/500\n",
      "28/28 [==============================] - 0s 5ms/step - loss: 311.7603 - val_loss: 1039.6329\n",
      "Epoch 58/500\n",
      "28/28 [==============================] - 0s 5ms/step - loss: 302.9839 - val_loss: 1035.2009\n",
      "Epoch 59/500\n",
      "28/28 [==============================] - 0s 5ms/step - loss: 303.2321 - val_loss: 1045.4417\n",
      "Epoch 60/500\n",
      "28/28 [==============================] - 0s 5ms/step - loss: 305.0830 - val_loss: 1023.8742\n",
      "Epoch 61/500\n",
      "28/28 [==============================] - 0s 5ms/step - loss: 297.5725 - val_loss: 1018.2934\n",
      "Epoch 62/500\n",
      "28/28 [==============================] - 0s 5ms/step - loss: 289.1266 - val_loss: 1004.1970\n",
      "Epoch 63/500\n",
      "28/28 [==============================] - 0s 5ms/step - loss: 271.5407 - val_loss: 980.0898\n",
      "Epoch 64/500\n",
      "28/28 [==============================] - 0s 5ms/step - loss: 276.4140 - val_loss: 988.1898\n",
      "Epoch 65/500\n",
      "28/28 [==============================] - 0s 5ms/step - loss: 268.2761 - val_loss: 984.4292\n",
      "Epoch 66/500\n",
      "28/28 [==============================] - 0s 5ms/step - loss: 263.0459 - val_loss: 984.2415\n",
      "Epoch 67/500\n",
      "28/28 [==============================] - 0s 5ms/step - loss: 257.4667 - val_loss: 982.2623\n",
      "Epoch 68/500\n",
      "28/28 [==============================] - 0s 5ms/step - loss: 252.8141 - val_loss: 980.5411\n",
      "Epoch 69/500\n",
      "28/28 [==============================] - 0s 5ms/step - loss: 238.6946 - val_loss: 977.0782\n",
      "Epoch 70/500\n",
      "28/28 [==============================] - 0s 5ms/step - loss: 238.2097 - val_loss: 978.6716\n",
      "Epoch 71/500\n",
      "28/28 [==============================] - 0s 5ms/step - loss: 235.4724 - val_loss: 973.9146\n",
      "Epoch 72/500\n",
      "28/28 [==============================] - 0s 6ms/step - loss: 231.4902 - val_loss: 965.1796\n",
      "Epoch 73/500\n",
      "28/28 [==============================] - 0s 6ms/step - loss: 227.6033 - val_loss: 955.6195\n",
      "Epoch 74/500\n",
      "28/28 [==============================] - 0s 6ms/step - loss: 234.8406 - val_loss: 984.0107\n",
      "Epoch 75/500\n",
      "28/28 [==============================] - 0s 8ms/step - loss: 235.0848 - val_loss: 997.4535\n",
      "Epoch 76/500\n",
      "28/28 [==============================] - 0s 12ms/step - loss: 241.9371 - val_loss: 995.0622\n",
      "Epoch 77/500\n",
      "28/28 [==============================] - 0s 9ms/step - loss: 236.2475 - val_loss: 973.3451\n",
      "Epoch 78/500\n",
      "28/28 [==============================] - 0s 12ms/step - loss: 233.9763 - val_loss: 966.6491\n",
      "Epoch 79/500\n",
      "28/28 [==============================] - 0s 9ms/step - loss: 217.5341 - val_loss: 909.6909\n",
      "Epoch 80/500\n",
      "28/28 [==============================] - 0s 7ms/step - loss: 232.5205 - val_loss: 901.0414\n",
      "Epoch 81/500\n",
      "28/28 [==============================] - 0s 5ms/step - loss: 240.8848 - val_loss: 922.8776\n",
      "Epoch 82/500\n",
      "28/28 [==============================] - 0s 5ms/step - loss: 229.2953 - val_loss: 928.4935\n",
      "Epoch 83/500\n",
      "28/28 [==============================] - 0s 5ms/step - loss: 226.1548 - val_loss: 929.2959\n",
      "Epoch 84/500\n",
      "28/28 [==============================] - 0s 5ms/step - loss: 223.4433 - val_loss: 930.8278\n",
      "Epoch 85/500\n",
      "28/28 [==============================] - 0s 5ms/step - loss: 229.4578 - val_loss: 967.7611\n",
      "Epoch 86/500\n",
      "28/28 [==============================] - 0s 6ms/step - loss: 226.1404 - val_loss: 961.8137\n",
      "Epoch 87/500\n",
      "28/28 [==============================] - 0s 9ms/step - loss: 222.3873 - val_loss: 956.2131\n",
      "Epoch 88/500\n",
      "28/28 [==============================] - 0s 8ms/step - loss: 241.1255 - val_loss: 955.8764\n",
      "Epoch 89/500\n",
      "28/28 [==============================] - 0s 6ms/step - loss: 237.3831 - val_loss: 950.4501\n",
      "Epoch 90/500\n",
      "28/28 [==============================] - 0s 5ms/step - loss: 234.1752 - val_loss: 935.1759\n",
      "Epoch 91/500\n",
      "28/28 [==============================] - 0s 5ms/step - loss: 235.6417 - val_loss: 917.3340\n",
      "Epoch 92/500\n",
      "28/28 [==============================] - 0s 5ms/step - loss: 232.7764 - val_loss: 927.3807\n",
      "Epoch 93/500\n",
      "28/28 [==============================] - 0s 5ms/step - loss: 230.5506 - val_loss: 936.0690\n",
      "Epoch 94/500\n",
      "28/28 [==============================] - 0s 6ms/step - loss: 228.6093 - val_loss: 943.2914\n",
      "Epoch 95/500\n",
      "28/28 [==============================] - 0s 6ms/step - loss: 226.6856 - val_loss: 947.0557\n",
      "Epoch 96/500\n",
      "28/28 [==============================] - 0s 5ms/step - loss: 224.3983 - val_loss: 948.0065\n",
      "Epoch 97/500\n",
      "28/28 [==============================] - 0s 5ms/step - loss: 222.8161 - val_loss: 946.6786\n",
      "Epoch 98/500\n",
      "28/28 [==============================] - 0s 5ms/step - loss: 265.0278 - val_loss: 1032.2230\n",
      "Epoch 99/500\n",
      "28/28 [==============================] - 0s 5ms/step - loss: 262.5150 - val_loss: 1042.3423\n",
      "Epoch 100/500\n",
      "28/28 [==============================] - 0s 5ms/step - loss: 260.0706 - val_loss: 1043.9243\n",
      "Epoch 101/500\n",
      "28/28 [==============================] - 0s 5ms/step - loss: 257.9826 - val_loss: 1050.5823\n",
      "Epoch 102/500\n",
      "28/28 [==============================] - 0s 5ms/step - loss: 255.8970 - val_loss: 1054.8662\n",
      "Epoch 103/500\n",
      "28/28 [==============================] - 0s 6ms/step - loss: 253.7677 - val_loss: 1057.3004\n",
      "Epoch 104/500\n",
      "28/28 [==============================] - 0s 5ms/step - loss: 265.2813 - val_loss: 1059.3877\n",
      "Epoch 105/500\n",
      "28/28 [==============================] - 0s 5ms/step - loss: 263.1454 - val_loss: 1068.5081\n",
      "Epoch 106/500\n",
      "28/28 [==============================] - 0s 5ms/step - loss: 261.2062 - val_loss: 1073.5553\n",
      "Epoch 107/500\n",
      "28/28 [==============================] - 0s 5ms/step - loss: 260.7225 - val_loss: 1088.3352\n",
      "Epoch 108/500\n",
      "28/28 [==============================] - 0s 5ms/step - loss: 257.9767 - val_loss: 1085.8976\n",
      "Epoch 109/500\n",
      "28/28 [==============================] - 0s 5ms/step - loss: 256.6676 - val_loss: 1090.4844\n",
      "Epoch 110/500\n",
      "28/28 [==============================] - 0s 5ms/step - loss: 266.3195 - val_loss: 1142.4291\n",
      "Epoch 111/500\n",
      "28/28 [==============================] - 0s 5ms/step - loss: 264.2541 - val_loss: 1145.8632\n",
      "Epoch 112/500\n",
      "28/28 [==============================] - 0s 5ms/step - loss: 263.2946 - val_loss: 1147.6075\n",
      "Epoch 113/500\n",
      "28/28 [==============================] - 0s 6ms/step - loss: 262.4311 - val_loss: 1149.4048\n",
      "Epoch 114/500\n",
      "28/28 [==============================] - 0s 5ms/step - loss: 261.6247 - val_loss: 1150.7205\n",
      "Epoch 115/500\n",
      "28/28 [==============================] - 0s 6ms/step - loss: 260.8279 - val_loss: 1152.2340\n",
      "Epoch 116/500\n",
      "28/28 [==============================] - 0s 10ms/step - loss: 264.1636 - val_loss: 1163.2633\n",
      "Epoch 117/500\n",
      "28/28 [==============================] - 0s 7ms/step - loss: 259.2257 - val_loss: 1140.9663\n",
      "Epoch 118/500\n",
      "28/28 [==============================] - 0s 6ms/step - loss: 259.7726 - val_loss: 1151.1127\n",
      "Epoch 119/500\n",
      "28/28 [==============================] - 0s 5ms/step - loss: 262.6349 - val_loss: 1077.7712\n",
      "Epoch 120/500\n",
      "28/28 [==============================] - 0s 5ms/step - loss: 278.8158 - val_loss: 1050.5701\n",
      "Epoch 121/500\n",
      "28/28 [==============================] - 0s 5ms/step - loss: 291.6979 - val_loss: 1096.7759\n",
      "Epoch 122/500\n",
      "28/28 [==============================] - 0s 5ms/step - loss: 287.9520 - val_loss: 1103.4210\n",
      "Epoch 123/500\n",
      "28/28 [==============================] - 0s 5ms/step - loss: 284.6437 - val_loss: 1117.4890\n",
      "Epoch 124/500\n",
      "28/28 [==============================] - 0s 5ms/step - loss: 279.3368 - val_loss: 1114.6843\n",
      "Epoch 125/500\n",
      "28/28 [==============================] - 0s 5ms/step - loss: 272.9274 - val_loss: 1105.9747\n",
      "Epoch 126/500\n",
      "28/28 [==============================] - 0s 6ms/step - loss: 271.9626 - val_loss: 1114.7646\n",
      "Epoch 127/500\n",
      "28/28 [==============================] - 0s 5ms/step - loss: 269.2620 - val_loss: 1114.8961\n",
      "Epoch 128/500\n",
      "28/28 [==============================] - 0s 5ms/step - loss: 265.3949 - val_loss: 1117.8551\n",
      "Epoch 129/500\n",
      "28/28 [==============================] - 0s 6ms/step - loss: 263.4609 - val_loss: 1112.3561\n",
      "Epoch 130/500\n",
      "28/28 [==============================] - 0s 6ms/step - loss: 263.0215 - val_loss: 1121.1257\n",
      "Epoch 131/500\n",
      "28/28 [==============================] - 0s 6ms/step - loss: 262.4586 - val_loss: 1098.8871\n",
      "Epoch 132/500\n",
      "28/28 [==============================] - 0s 6ms/step - loss: 262.6389 - val_loss: 1093.0719\n",
      "Epoch 133/500\n",
      "28/28 [==============================] - 0s 9ms/step - loss: 261.4596 - val_loss: 1060.8240\n",
      "Epoch 134/500\n",
      "28/28 [==============================] - 0s 11ms/step - loss: 248.9940 - val_loss: 1034.5786\n",
      "Epoch 135/500\n",
      "28/28 [==============================] - 0s 7ms/step - loss: 240.6766 - val_loss: 1027.2031\n",
      "Epoch 136/500\n",
      "28/28 [==============================] - 0s 5ms/step - loss: 239.1796 - val_loss: 1034.2053\n",
      "Epoch 137/500\n",
      "28/28 [==============================] - 0s 5ms/step - loss: 247.8632 - val_loss: 1063.8828\n",
      "Epoch 138/500\n",
      "28/28 [==============================] - 0s 5ms/step - loss: 240.0090 - val_loss: 1051.0297\n",
      "Epoch 139/500\n",
      "28/28 [==============================] - 0s 5ms/step - loss: 247.5756 - val_loss: 1048.0010\n",
      "Epoch 140/500\n",
      "28/28 [==============================] - 0s 5ms/step - loss: 246.2887 - val_loss: 996.8445\n",
      "Epoch 141/500\n",
      "28/28 [==============================] - 0s 5ms/step - loss: 268.4985 - val_loss: 957.5375\n",
      "Epoch 142/500\n",
      "28/28 [==============================] - 0s 5ms/step - loss: 295.0046 - val_loss: 987.9663\n",
      "Epoch 143/500\n",
      "28/28 [==============================] - 0s 5ms/step - loss: 284.9728 - val_loss: 998.8041\n",
      "Epoch 144/500\n",
      "28/28 [==============================] - 0s 5ms/step - loss: 243.7292 - val_loss: 999.8791\n",
      "Epoch 145/500\n",
      "28/28 [==============================] - 0s 6ms/step - loss: 237.6264 - val_loss: 997.4114\n",
      "Epoch 146/500\n",
      "28/28 [==============================] - 0s 9ms/step - loss: 233.8537 - val_loss: 997.0266\n",
      "Epoch 147/500\n",
      "28/28 [==============================] - 0s 8ms/step - loss: 228.3229 - val_loss: 994.1534\n",
      "Epoch 148/500\n",
      "28/28 [==============================] - 0s 7ms/step - loss: 236.6587 - val_loss: 1032.9579\n",
      "Epoch 149/500\n",
      "28/28 [==============================] - 0s 9ms/step - loss: 233.2686 - val_loss: 1025.6195\n",
      "Epoch 150/500\n",
      "28/28 [==============================] - 0s 11ms/step - loss: 231.3684 - val_loss: 1022.4384\n",
      "Epoch 151/500\n",
      "28/28 [==============================] - 0s 6ms/step - loss: 252.2801 - val_loss: 1050.4845\n",
      "Epoch 152/500\n",
      "28/28 [==============================] - 0s 7ms/step - loss: 232.5722 - val_loss: 1031.7394\n",
      "Epoch 153/500\n",
      "28/28 [==============================] - 0s 6ms/step - loss: 245.6167 - val_loss: 1021.8206\n",
      "Epoch 154/500\n",
      "28/28 [==============================] - 0s 6ms/step - loss: 243.3330 - val_loss: 1014.2173\n",
      "Epoch 155/500\n",
      "28/28 [==============================] - 0s 6ms/step - loss: 242.6861 - val_loss: 987.9026\n",
      "Epoch 156/500\n",
      "28/28 [==============================] - 0s 6ms/step - loss: 242.2549 - val_loss: 992.5223\n",
      "Epoch 157/500\n",
      "28/28 [==============================] - 0s 6ms/step - loss: 239.2288 - val_loss: 997.7939\n",
      "Epoch 158/500\n",
      "28/28 [==============================] - 0s 7ms/step - loss: 234.7476 - val_loss: 986.7737\n",
      "Epoch 159/500\n",
      "28/28 [==============================] - 0s 6ms/step - loss: 226.7753 - val_loss: 924.4125\n",
      "Epoch 160/500\n",
      "28/28 [==============================] - 0s 5ms/step - loss: 236.7037 - val_loss: 890.4314\n",
      "Epoch 161/500\n",
      "28/28 [==============================] - 0s 6ms/step - loss: 232.2563 - val_loss: 874.5046\n",
      "Epoch 162/500\n",
      "28/28 [==============================] - 0s 5ms/step - loss: 260.9779 - val_loss: 890.3728\n",
      "Epoch 163/500\n",
      "28/28 [==============================] - 0s 5ms/step - loss: 251.8853 - val_loss: 902.5884\n",
      "Epoch 164/500\n",
      "28/28 [==============================] - 0s 5ms/step - loss: 243.9964 - val_loss: 904.4357\n",
      "Epoch 165/500\n",
      "28/28 [==============================] - 0s 5ms/step - loss: 237.8998 - val_loss: 911.3279\n",
      "Epoch 166/500\n",
      "28/28 [==============================] - 0s 6ms/step - loss: 232.8032 - val_loss: 923.3636\n",
      "Epoch 167/500\n",
      "28/28 [==============================] - 0s 5ms/step - loss: 228.5824 - val_loss: 931.2015\n",
      "Epoch 168/500\n",
      "28/28 [==============================] - 0s 5ms/step - loss: 225.6330 - val_loss: 941.0229\n",
      "Epoch 169/500\n",
      "28/28 [==============================] - 0s 6ms/step - loss: 222.7455 - val_loss: 943.1701\n",
      "Epoch 170/500\n",
      "28/28 [==============================] - 0s 6ms/step - loss: 242.9400 - val_loss: 939.8093\n",
      "Epoch 171/500\n",
      "28/28 [==============================] - 0s 6ms/step - loss: 246.0598 - val_loss: 959.9464\n",
      "Epoch 172/500\n",
      "28/28 [==============================] - 0s 5ms/step - loss: 235.7874 - val_loss: 966.7076\n",
      "Epoch 173/500\n",
      "28/28 [==============================] - 0s 5ms/step - loss: 233.1460 - val_loss: 972.5875\n",
      "Epoch 174/500\n",
      "28/28 [==============================] - 0s 5ms/step - loss: 230.8898 - val_loss: 983.5759\n",
      "Epoch 175/500\n",
      "28/28 [==============================] - 0s 6ms/step - loss: 229.7754 - val_loss: 981.4972\n",
      "Epoch 176/500\n",
      "28/28 [==============================] - 0s 7ms/step - loss: 228.5930 - val_loss: 998.5536\n",
      "Epoch 177/500\n",
      "28/28 [==============================] - 0s 6ms/step - loss: 226.5635 - val_loss: 1003.9875\n",
      "Epoch 178/500\n",
      "28/28 [==============================] - 0s 7ms/step - loss: 225.2997 - val_loss: 1007.6507\n",
      "Epoch 179/500\n",
      "28/28 [==============================] - 0s 15ms/step - loss: 224.4849 - val_loss: 1011.6708\n",
      "Epoch 180/500\n",
      "28/28 [==============================] - 0s 6ms/step - loss: 223.2992 - val_loss: 1014.4944\n",
      "Epoch 181/500\n",
      "28/28 [==============================] - 0s 6ms/step - loss: 222.2545 - val_loss: 1016.1477\n",
      "Epoch 182/500\n",
      "28/28 [==============================] - 0s 6ms/step - loss: 221.3673 - val_loss: 1019.0376\n",
      "Epoch 183/500\n",
      "28/28 [==============================] - 0s 7ms/step - loss: 220.3534 - val_loss: 1019.5779\n",
      "Epoch 184/500\n",
      "28/28 [==============================] - 0s 6ms/step - loss: 219.5862 - val_loss: 1019.6155\n",
      "Epoch 185/500\n",
      "28/28 [==============================] - 0s 7ms/step - loss: 218.8416 - val_loss: 1019.3303\n",
      "Epoch 186/500\n",
      "28/28 [==============================] - 0s 6ms/step - loss: 218.0471 - val_loss: 1019.1823\n",
      "Epoch 187/500\n",
      "28/28 [==============================] - 0s 6ms/step - loss: 217.0696 - val_loss: 1018.8562\n",
      "Epoch 188/500\n",
      "28/28 [==============================] - 0s 6ms/step - loss: 215.7739 - val_loss: 1010.0950\n",
      "Epoch 189/500\n",
      "28/28 [==============================] - 0s 6ms/step - loss: 214.8783 - val_loss: 1009.8231\n",
      "Epoch 190/500\n",
      "28/28 [==============================] - 0s 6ms/step - loss: 213.9005 - val_loss: 1000.0433\n",
      "Epoch 191/500\n",
      "28/28 [==============================] - 0s 7ms/step - loss: 260.1181 - val_loss: 1008.6967\n",
      "Epoch 192/500\n",
      "28/28 [==============================] - 0s 6ms/step - loss: 256.8036 - val_loss: 1020.9575\n",
      "Epoch 193/500\n",
      "28/28 [==============================] - 0s 5ms/step - loss: 256.0990 - val_loss: 1043.2457\n",
      "Epoch 194/500\n",
      "28/28 [==============================] - 0s 5ms/step - loss: 250.9343 - val_loss: 1042.8280\n",
      "Epoch 195/500\n",
      "28/28 [==============================] - 0s 5ms/step - loss: 248.9594 - val_loss: 1057.3806\n",
      "Epoch 196/500\n",
      "28/28 [==============================] - 0s 5ms/step - loss: 246.2352 - val_loss: 1061.1051\n",
      "Epoch 197/500\n",
      "28/28 [==============================] - 0s 5ms/step - loss: 244.5707 - val_loss: 1070.2524\n",
      "Epoch 198/500\n",
      "28/28 [==============================] - 0s 5ms/step - loss: 243.1309 - val_loss: 1075.2637\n",
      "Epoch 199/500\n",
      "28/28 [==============================] - 0s 5ms/step - loss: 241.8005 - val_loss: 1080.6023\n",
      "Epoch 200/500\n",
      "28/28 [==============================] - 0s 5ms/step - loss: 240.4574 - val_loss: 1085.4917\n",
      "Epoch 201/500\n",
      "28/28 [==============================] - 0s 5ms/step - loss: 239.4266 - val_loss: 1084.8320\n",
      "Epoch 202/500\n",
      "28/28 [==============================] - 0s 5ms/step - loss: 238.4870 - val_loss: 1090.0358\n",
      "Epoch 203/500\n",
      "28/28 [==============================] - 0s 5ms/step - loss: 237.9385 - val_loss: 1094.2936\n",
      "Epoch 204/500\n",
      "28/28 [==============================] - 0s 5ms/step - loss: 237.0610 - val_loss: 1096.2195\n",
      "Epoch 205/500\n",
      "28/28 [==============================] - 0s 5ms/step - loss: 236.1564 - val_loss: 1092.3984\n",
      "Epoch 206/500\n",
      "28/28 [==============================] - 0s 5ms/step - loss: 235.0546 - val_loss: 1089.0115\n",
      "Epoch 207/500\n",
      "28/28 [==============================] - 0s 5ms/step - loss: 234.4328 - val_loss: 1086.8226\n",
      "Epoch 208/500\n",
      "28/28 [==============================] - 0s 5ms/step - loss: 233.8572 - val_loss: 1087.8328\n",
      "Epoch 209/500\n",
      "28/28 [==============================] - 0s 11ms/step - loss: 245.3809 - val_loss: 1112.6024\n",
      "Epoch 210/500\n",
      "28/28 [==============================] - 0s 6ms/step - loss: 239.5919 - val_loss: 1101.3617\n",
      "Epoch 211/500\n",
      "28/28 [==============================] - 0s 5ms/step - loss: 241.8245 - val_loss: 1119.8912\n",
      "Epoch 212/500\n",
      "28/28 [==============================] - 0s 6ms/step - loss: 234.3003 - val_loss: 1088.7144\n",
      "Epoch 213/500\n",
      "28/28 [==============================] - 0s 6ms/step - loss: 246.2485 - val_loss: 1146.6387\n",
      "Epoch 214/500\n",
      "28/28 [==============================] - 0s 5ms/step - loss: 241.1624 - val_loss: 1113.7478\n",
      "Epoch 215/500\n",
      "28/28 [==============================] - 0s 5ms/step - loss: 235.5665 - val_loss: 1101.5022\n",
      "Epoch 216/500\n",
      "28/28 [==============================] - 0s 5ms/step - loss: 246.9550 - val_loss: 1101.6993\n",
      "Epoch 217/500\n",
      "28/28 [==============================] - 0s 5ms/step - loss: 231.4843 - val_loss: 1094.4852\n",
      "Epoch 218/500\n",
      "28/28 [==============================] - 0s 5ms/step - loss: 229.7704 - val_loss: 1089.8674\n",
      "Epoch 219/500\n",
      "28/28 [==============================] - 0s 5ms/step - loss: 228.7820 - val_loss: 1084.7820\n",
      "Epoch 220/500\n",
      "28/28 [==============================] - 0s 5ms/step - loss: 228.2247 - val_loss: 1083.6450\n",
      "Epoch 221/500\n",
      "28/28 [==============================] - 0s 5ms/step - loss: 227.6541 - val_loss: 1083.1080\n",
      "Epoch 222/500\n",
      "28/28 [==============================] - 0s 5ms/step - loss: 227.1545 - val_loss: 1081.5912\n",
      "Epoch 223/500\n",
      "28/28 [==============================] - 0s 4ms/step - loss: 226.6752 - val_loss: 1079.5833\n",
      "Epoch 224/500\n",
      "28/28 [==============================] - 0s 4ms/step - loss: 226.1905 - val_loss: 1079.5604\n",
      "Epoch 225/500\n",
      "28/28 [==============================] - 0s 5ms/step - loss: 225.7160 - val_loss: 1076.8109\n",
      "Epoch 226/500\n",
      "28/28 [==============================] - 0s 5ms/step - loss: 217.1841 - val_loss: 1028.0315\n",
      "Epoch 227/500\n",
      "28/28 [==============================] - 0s 5ms/step - loss: 225.7666 - val_loss: 1032.2610\n",
      "Epoch 228/500\n",
      "28/28 [==============================] - 0s 4ms/step - loss: 225.0060 - val_loss: 1037.0319\n",
      "Epoch 229/500\n",
      "28/28 [==============================] - 0s 4ms/step - loss: 224.2378 - val_loss: 1037.8337\n",
      "Epoch 230/500\n",
      "28/28 [==============================] - 0s 4ms/step - loss: 223.5149 - val_loss: 1039.7817\n",
      "Epoch 231/500\n",
      "28/28 [==============================] - 0s 4ms/step - loss: 222.8593 - val_loss: 1040.5571\n",
      "Epoch 232/500\n",
      "28/28 [==============================] - 0s 4ms/step - loss: 222.2217 - val_loss: 1045.1134\n",
      "Epoch 233/500\n",
      "28/28 [==============================] - 0s 4ms/step - loss: 221.6359 - val_loss: 1042.6156\n",
      "Epoch 234/500\n",
      "28/28 [==============================] - 0s 5ms/step - loss: 221.1030 - val_loss: 1044.4254\n",
      "Epoch 235/500\n",
      "28/28 [==============================] - 0s 5ms/step - loss: 220.5031 - val_loss: 1046.6946\n",
      "Epoch 236/500\n",
      "28/28 [==============================] - 0s 5ms/step - loss: 219.9418 - val_loss: 1046.1422\n",
      "Epoch 237/500\n",
      "28/28 [==============================] - 0s 5ms/step - loss: 219.4277 - val_loss: 1045.7949\n",
      "Epoch 238/500\n",
      "28/28 [==============================] - 0s 5ms/step - loss: 218.9021 - val_loss: 1045.6851\n",
      "Epoch 239/500\n",
      "28/28 [==============================] - 0s 10ms/step - loss: 218.4059 - val_loss: 1044.2283\n",
      "Epoch 240/500\n",
      "28/28 [==============================] - 0s 5ms/step - loss: 217.9172 - val_loss: 1042.2786\n",
      "Epoch 241/500\n",
      "28/28 [==============================] - 0s 5ms/step - loss: 208.3337 - val_loss: 991.4514\n",
      "Epoch 242/500\n",
      "28/28 [==============================] - 0s 5ms/step - loss: 218.3246 - val_loss: 998.7517\n",
      "Epoch 243/500\n",
      "28/28 [==============================] - 0s 5ms/step - loss: 217.5460 - val_loss: 994.1147\n",
      "Epoch 244/500\n",
      "28/28 [==============================] - 0s 5ms/step - loss: 242.6375 - val_loss: 996.9492\n",
      "Epoch 245/500\n",
      "28/28 [==============================] - 0s 5ms/step - loss: 240.3591 - val_loss: 997.8813\n",
      "Epoch 246/500\n",
      "28/28 [==============================] - 0s 5ms/step - loss: 237.0739 - val_loss: 1000.3378\n",
      "Epoch 247/500\n",
      "28/28 [==============================] - 0s 5ms/step - loss: 235.0542 - val_loss: 1007.8680\n",
      "Epoch 248/500\n",
      "28/28 [==============================] - 0s 6ms/step - loss: 233.4282 - val_loss: 1013.9890\n",
      "Epoch 249/500\n",
      "28/28 [==============================] - 0s 6ms/step - loss: 231.9702 - val_loss: 1022.0984\n",
      "Epoch 250/500\n",
      "28/28 [==============================] - 0s 6ms/step - loss: 230.8099 - val_loss: 1026.0892\n",
      "Epoch 251/500\n",
      "28/28 [==============================] - 0s 5ms/step - loss: 229.7365 - val_loss: 1031.3029\n",
      "Epoch 252/500\n",
      "28/28 [==============================] - 0s 5ms/step - loss: 231.4886 - val_loss: 1038.7928\n",
      "Epoch 253/500\n",
      "28/28 [==============================] - 0s 5ms/step - loss: 228.5038 - val_loss: 1041.7354\n",
      "Epoch 254/500\n",
      "28/28 [==============================] - 0s 5ms/step - loss: 227.2635 - val_loss: 1038.3613\n",
      "Epoch 255/500\n",
      "28/28 [==============================] - 0s 5ms/step - loss: 226.5325 - val_loss: 1034.4430\n",
      "Epoch 256/500\n",
      "28/28 [==============================] - 0s 5ms/step - loss: 210.6816 - val_loss: 963.0089\n",
      "Epoch 257/500\n",
      "28/28 [==============================] - 0s 5ms/step - loss: 232.4444 - val_loss: 953.6561\n",
      "Epoch 258/500\n",
      "28/28 [==============================] - 0s 5ms/step - loss: 231.4243 - val_loss: 962.4969\n",
      "Epoch 259/500\n",
      "28/28 [==============================] - 0s 5ms/step - loss: 229.0090 - val_loss: 971.3329\n",
      "Epoch 260/500\n",
      "28/28 [==============================] - 0s 5ms/step - loss: 227.1192 - val_loss: 981.1171\n",
      "Epoch 261/500\n",
      "28/28 [==============================] - 0s 4ms/step - loss: 225.5692 - val_loss: 991.8293\n",
      "Epoch 262/500\n",
      "28/28 [==============================] - 0s 5ms/step - loss: 224.4978 - val_loss: 993.1799\n",
      "Epoch 263/500\n",
      "28/28 [==============================] - 0s 4ms/step - loss: 228.9453 - val_loss: 1011.5156\n",
      "Epoch 264/500\n",
      "28/28 [==============================] - 0s 4ms/step - loss: 222.1574 - val_loss: 997.3331\n",
      "Epoch 265/500\n",
      "28/28 [==============================] - 0s 4ms/step - loss: 234.3084 - val_loss: 1025.4635\n",
      "Epoch 266/500\n",
      "28/28 [==============================] - 0s 4ms/step - loss: 224.8219 - val_loss: 1024.2532\n",
      "Epoch 267/500\n",
      "28/28 [==============================] - 0s 4ms/step - loss: 223.6240 - val_loss: 1024.0287\n",
      "Epoch 268/500\n",
      "28/28 [==============================] - 0s 5ms/step - loss: 222.9156 - val_loss: 1004.9631\n",
      "Epoch 269/500\n",
      "28/28 [==============================] - 0s 10ms/step - loss: 211.6519 - val_loss: 981.4338\n",
      "Epoch 270/500\n",
      "28/28 [==============================] - 0s 6ms/step - loss: 205.1762 - val_loss: 926.9479\n",
      "Epoch 271/500\n",
      "28/28 [==============================] - 0s 6ms/step - loss: 212.2651 - val_loss: 957.6216\n",
      "Epoch 272/500\n",
      "28/28 [==============================] - 0s 5ms/step - loss: 220.4276 - val_loss: 980.5622\n",
      "Epoch 273/500\n",
      "28/28 [==============================] - 0s 5ms/step - loss: 218.6273 - val_loss: 975.0439\n",
      "Epoch 274/500\n",
      "28/28 [==============================] - 0s 4ms/step - loss: 216.4368 - val_loss: 959.2116\n",
      "Epoch 275/500\n",
      "28/28 [==============================] - 0s 4ms/step - loss: 205.9367 - val_loss: 938.5195\n",
      "Epoch 276/500\n",
      "28/28 [==============================] - 0s 5ms/step - loss: 237.9528 - val_loss: 1066.6119\n",
      "Epoch 277/500\n",
      "28/28 [==============================] - 0s 5ms/step - loss: 231.1064 - val_loss: 1066.0427\n",
      "Epoch 278/500\n",
      "28/28 [==============================] - 0s 5ms/step - loss: 223.9620 - val_loss: 1039.2178\n",
      "Epoch 279/500\n",
      "28/28 [==============================] - 0s 5ms/step - loss: 217.6538 - val_loss: 1003.7816\n",
      "Epoch 280/500\n",
      "28/28 [==============================] - 0s 5ms/step - loss: 215.6586 - val_loss: 994.8588\n",
      "Epoch 281/500\n",
      "28/28 [==============================] - 0s 4ms/step - loss: 247.4616 - val_loss: 1006.3685\n",
      "Epoch 282/500\n",
      "28/28 [==============================] - 0s 4ms/step - loss: 238.5809 - val_loss: 1102.7285\n",
      "Epoch 283/500\n",
      "28/28 [==============================] - 0s 4ms/step - loss: 228.1647 - val_loss: 1079.2316\n",
      "Epoch 284/500\n",
      "28/28 [==============================] - 0s 5ms/step - loss: 223.7455 - val_loss: 1056.1483\n",
      "Epoch 285/500\n",
      "28/28 [==============================] - 0s 5ms/step - loss: 218.6823 - val_loss: 1032.1753\n",
      "Epoch 286/500\n",
      "28/28 [==============================] - 0s 4ms/step - loss: 235.0533 - val_loss: 1020.6245\n",
      "Epoch 287/500\n",
      "28/28 [==============================] - 0s 4ms/step - loss: 234.0559 - val_loss: 1025.8734\n",
      "Epoch 288/500\n",
      "28/28 [==============================] - 0s 5ms/step - loss: 232.6559 - val_loss: 1033.7932\n",
      "Epoch 289/500\n",
      "28/28 [==============================] - 0s 5ms/step - loss: 231.8546 - val_loss: 1033.4347\n",
      "Epoch 290/500\n",
      "28/28 [==============================] - 0s 5ms/step - loss: 230.8042 - val_loss: 1032.7882\n",
      "Epoch 291/500\n",
      "28/28 [==============================] - 0s 5ms/step - loss: 240.0534 - val_loss: 1066.0216\n",
      "Epoch 292/500\n",
      "28/28 [==============================] - 0s 5ms/step - loss: 236.1961 - val_loss: 1060.0773\n",
      "Epoch 293/500\n",
      "28/28 [==============================] - 0s 5ms/step - loss: 235.1622 - val_loss: 1055.2894\n",
      "Epoch 294/500\n",
      "28/28 [==============================] - 0s 4ms/step - loss: 232.5331 - val_loss: 1050.1117\n",
      "Epoch 295/500\n",
      "28/28 [==============================] - 0s 4ms/step - loss: 230.6934 - val_loss: 1041.2032\n",
      "Epoch 296/500\n",
      "28/28 [==============================] - 0s 4ms/step - loss: 229.4326 - val_loss: 1040.2605\n",
      "Epoch 297/500\n",
      "28/28 [==============================] - 0s 7ms/step - loss: 228.1772 - val_loss: 1040.1702\n",
      "Epoch 298/500\n",
      "28/28 [==============================] - 0s 12ms/step - loss: 227.0614 - val_loss: 1037.6118\n",
      "Epoch 299/500\n",
      "28/28 [==============================] - 0s 6ms/step - loss: 234.7642 - val_loss: 1047.3955\n",
      "Epoch 300/500\n",
      "28/28 [==============================] - 0s 6ms/step - loss: 224.1557 - val_loss: 1032.8374\n",
      "Epoch 301/500\n",
      "28/28 [==============================] - 0s 6ms/step - loss: 249.1431 - val_loss: 1136.3929\n",
      "Epoch 302/500\n",
      "28/28 [==============================] - 0s 5ms/step - loss: 245.4014 - val_loss: 1130.5743\n",
      "Epoch 303/500\n",
      "28/28 [==============================] - 0s 6ms/step - loss: 244.7584 - val_loss: 1125.0348\n",
      "Epoch 304/500\n",
      "28/28 [==============================] - 0s 6ms/step - loss: 243.5816 - val_loss: 1115.3767\n",
      "Epoch 305/500\n",
      "28/28 [==============================] - 0s 5ms/step - loss: 237.2221 - val_loss: 1097.1516\n",
      "Epoch 306/500\n",
      "28/28 [==============================] - 0s 5ms/step - loss: 231.7395 - val_loss: 1074.9481\n",
      "Epoch 307/500\n",
      "28/28 [==============================] - 0s 5ms/step - loss: 230.5336 - val_loss: 1067.2826\n",
      "Epoch 308/500\n",
      "28/28 [==============================] - 0s 4ms/step - loss: 228.1570 - val_loss: 1054.2006\n",
      "Epoch 309/500\n",
      "28/28 [==============================] - 0s 5ms/step - loss: 226.2625 - val_loss: 1042.3511\n",
      "Epoch 310/500\n",
      "28/28 [==============================] - 0s 6ms/step - loss: 224.5216 - val_loss: 1038.2378\n",
      "Epoch 311/500\n",
      "28/28 [==============================] - 0s 6ms/step - loss: 222.3651 - val_loss: 1033.7815\n",
      "Epoch 312/500\n",
      "28/28 [==============================] - 0s 6ms/step - loss: 220.6051 - val_loss: 1026.2310\n",
      "Epoch 313/500\n",
      "28/28 [==============================] - 0s 5ms/step - loss: 217.9223 - val_loss: 1021.8760\n",
      "Epoch 314/500\n",
      "28/28 [==============================] - 0s 5ms/step - loss: 217.2959 - val_loss: 1019.9078\n",
      "Epoch 315/500\n",
      "28/28 [==============================] - 0s 5ms/step - loss: 216.7692 - val_loss: 1017.9667\n",
      "Epoch 316/500\n",
      "28/28 [==============================] - 0s 5ms/step - loss: 216.3425 - val_loss: 1017.2834\n",
      "Epoch 317/500\n",
      "28/28 [==============================] - 0s 5ms/step - loss: 215.9141 - val_loss: 1016.7881\n",
      "Epoch 318/500\n",
      "28/28 [==============================] - 0s 5ms/step - loss: 215.4855 - val_loss: 1016.2607\n",
      "Epoch 319/500\n",
      "28/28 [==============================] - 0s 5ms/step - loss: 215.0572 - val_loss: 1015.5167\n",
      "Epoch 320/500\n",
      "28/28 [==============================] - 0s 5ms/step - loss: 214.6412 - val_loss: 1014.8469\n",
      "Epoch 321/500\n",
      "28/28 [==============================] - 0s 5ms/step - loss: 214.2450 - val_loss: 1014.0513\n",
      "Epoch 322/500\n",
      "28/28 [==============================] - 0s 5ms/step - loss: 213.8083 - val_loss: 1012.7516\n",
      "Epoch 323/500\n",
      "28/28 [==============================] - 0s 5ms/step - loss: 213.4017 - val_loss: 1010.9122\n",
      "Epoch 324/500\n",
      "28/28 [==============================] - 0s 6ms/step - loss: 218.7185 - val_loss: 1027.3346\n",
      "Epoch 325/500\n",
      "28/28 [==============================] - 0s 6ms/step - loss: 217.7336 - val_loss: 1022.3173\n",
      "Epoch 326/500\n",
      "28/28 [==============================] - 0s 10ms/step - loss: 217.2841 - val_loss: 1019.8632\n",
      "Epoch 327/500\n",
      "28/28 [==============================] - 0s 9ms/step - loss: 216.2766 - val_loss: 1015.1824\n",
      "Epoch 328/500\n",
      "28/28 [==============================] - 0s 7ms/step - loss: 215.0601 - val_loss: 1010.0855\n",
      "Epoch 329/500\n",
      "28/28 [==============================] - 0s 6ms/step - loss: 214.4215 - val_loss: 1006.4663\n",
      "Epoch 330/500\n",
      "28/28 [==============================] - 0s 6ms/step - loss: 227.9422 - val_loss: 1075.2791\n",
      "Epoch 331/500\n",
      "28/28 [==============================] - 0s 6ms/step - loss: 225.3384 - val_loss: 1065.4707\n",
      "Epoch 332/500\n",
      "28/28 [==============================] - 0s 6ms/step - loss: 221.6381 - val_loss: 1051.3257\n",
      "Epoch 333/500\n",
      "28/28 [==============================] - 0s 6ms/step - loss: 220.4244 - val_loss: 1039.2292\n",
      "Epoch 334/500\n",
      "28/28 [==============================] - 0s 6ms/step - loss: 217.7584 - val_loss: 1022.3871\n",
      "Epoch 335/500\n",
      "28/28 [==============================] - 0s 6ms/step - loss: 215.8695 - val_loss: 1010.4677\n",
      "Epoch 336/500\n",
      "28/28 [==============================] - 0s 6ms/step - loss: 213.9116 - val_loss: 1004.2182\n",
      "Epoch 337/500\n",
      "28/28 [==============================] - 0s 7ms/step - loss: 211.7144 - val_loss: 995.2203\n",
      "Epoch 338/500\n",
      "28/28 [==============================] - 0s 6ms/step - loss: 208.2395 - val_loss: 986.4380\n",
      "Epoch 339/500\n",
      "28/28 [==============================] - 0s 6ms/step - loss: 207.3309 - val_loss: 982.7996\n",
      "Epoch 340/500\n",
      "28/28 [==============================] - 0s 5ms/step - loss: 206.8816 - val_loss: 981.2359\n",
      "Epoch 341/500\n",
      "28/28 [==============================] - 0s 5ms/step - loss: 206.3534 - val_loss: 979.7001\n",
      "Epoch 342/500\n",
      "28/28 [==============================] - 0s 5ms/step - loss: 213.4651 - val_loss: 1003.4290\n",
      "Epoch 343/500\n",
      "28/28 [==============================] - 0s 4ms/step - loss: 211.5288 - val_loss: 994.7083\n",
      "Epoch 344/500\n",
      "28/28 [==============================] - 0s 4ms/step - loss: 208.9031 - val_loss: 988.7244\n",
      "Epoch 345/500\n",
      "28/28 [==============================] - 0s 4ms/step - loss: 207.7534 - val_loss: 979.2177\n",
      "Epoch 346/500\n",
      "28/28 [==============================] - 0s 5ms/step - loss: 206.4873 - val_loss: 982.9243\n",
      "Epoch 347/500\n",
      "28/28 [==============================] - 0s 5ms/step - loss: 204.5303 - val_loss: 976.9625\n",
      "Epoch 348/500\n",
      "28/28 [==============================] - 0s 5ms/step - loss: 203.8910 - val_loss: 971.3140\n",
      "Epoch 349/500\n",
      "28/28 [==============================] - 0s 5ms/step - loss: 203.3392 - val_loss: 964.7242\n",
      "Epoch 350/500\n",
      "28/28 [==============================] - 0s 4ms/step - loss: 209.5481 - val_loss: 962.2869\n",
      "Epoch 351/500\n",
      "28/28 [==============================] - 0s 4ms/step - loss: 207.0054 - val_loss: 951.7115\n",
      "Epoch 352/500\n",
      "28/28 [==============================] - 0s 11ms/step - loss: 203.2845 - val_loss: 946.2449\n",
      "Epoch 353/500\n",
      "28/28 [==============================] - 0s 6ms/step - loss: 202.6683 - val_loss: 946.1547\n",
      "Epoch 354/500\n",
      "28/28 [==============================] - 0s 6ms/step - loss: 202.1487 - val_loss: 947.1045\n",
      "Epoch 355/500\n",
      "28/28 [==============================] - 0s 6ms/step - loss: 201.6725 - val_loss: 948.1306\n",
      "Epoch 356/500\n",
      "28/28 [==============================] - 0s 6ms/step - loss: 201.1822 - val_loss: 948.1235\n",
      "Epoch 357/500\n",
      "28/28 [==============================] - 0s 6ms/step - loss: 200.8023 - val_loss: 946.3445\n",
      "Epoch 358/500\n",
      "28/28 [==============================] - 0s 6ms/step - loss: 200.2786 - val_loss: 948.4581\n",
      "Epoch 359/500\n",
      "28/28 [==============================] - 0s 5ms/step - loss: 205.6799 - val_loss: 965.8209\n",
      "Epoch 360/500\n",
      "28/28 [==============================] - 0s 6ms/step - loss: 203.4089 - val_loss: 958.4937\n",
      "Epoch 361/500\n",
      "28/28 [==============================] - 0s 5ms/step - loss: 201.4582 - val_loss: 950.2817\n",
      "Epoch 362/500\n",
      "28/28 [==============================] - 0s 5ms/step - loss: 198.8669 - val_loss: 945.7397\n",
      "Epoch 363/500\n",
      "28/28 [==============================] - 0s 5ms/step - loss: 198.4752 - val_loss: 945.2674\n",
      "Epoch 364/500\n",
      "28/28 [==============================] - 0s 4ms/step - loss: 191.4111 - val_loss: 893.0406\n",
      "Epoch 365/500\n",
      "28/28 [==============================] - 0s 5ms/step - loss: 199.4657 - val_loss: 897.4089\n",
      "Epoch 366/500\n",
      "28/28 [==============================] - 0s 5ms/step - loss: 198.7025 - val_loss: 901.8227\n",
      "Epoch 367/500\n",
      "28/28 [==============================] - 0s 5ms/step - loss: 197.8941 - val_loss: 905.4504\n",
      "Epoch 368/500\n",
      "28/28 [==============================] - 0s 5ms/step - loss: 197.2204 - val_loss: 908.2513\n",
      "Epoch 369/500\n",
      "28/28 [==============================] - 0s 6ms/step - loss: 196.4968 - val_loss: 910.7371\n",
      "Epoch 370/500\n",
      "28/28 [==============================] - 0s 5ms/step - loss: 195.8785 - val_loss: 899.7355\n",
      "Epoch 371/500\n",
      "28/28 [==============================] - 0s 5ms/step - loss: 195.4452 - val_loss: 914.8713\n",
      "Epoch 372/500\n",
      "28/28 [==============================] - 0s 5ms/step - loss: 194.8852 - val_loss: 917.1656\n",
      "Epoch 373/500\n",
      "28/28 [==============================] - 0s 5ms/step - loss: 192.4718 - val_loss: 893.5998\n",
      "Epoch 374/500\n",
      "28/28 [==============================] - 0s 5ms/step - loss: 191.9372 - val_loss: 870.3900\n",
      "Epoch 375/500\n",
      "28/28 [==============================] - 0s 5ms/step - loss: 195.6880 - val_loss: 874.6870\n",
      "Epoch 376/500\n",
      "28/28 [==============================] - 0s 6ms/step - loss: 194.6885 - val_loss: 879.5132\n",
      "Epoch 377/500\n",
      "28/28 [==============================] - 0s 16ms/step - loss: 194.0307 - val_loss: 877.7120\n",
      "Epoch 378/500\n",
      "28/28 [==============================] - 0s 8ms/step - loss: 187.7108 - val_loss: 838.1702\n",
      "Epoch 379/500\n",
      "28/28 [==============================] - 0s 7ms/step - loss: 195.8890 - val_loss: 844.2927\n",
      "Epoch 380/500\n",
      "28/28 [==============================] - 0s 6ms/step - loss: 194.5662 - val_loss: 851.2322\n",
      "Epoch 381/500\n",
      "28/28 [==============================] - 0s 5ms/step - loss: 193.2872 - val_loss: 856.8088\n",
      "Epoch 382/500\n",
      "28/28 [==============================] - 0s 5ms/step - loss: 192.1880 - val_loss: 862.2650\n",
      "Epoch 383/500\n",
      "28/28 [==============================] - 0s 5ms/step - loss: 191.2055 - val_loss: 867.1697\n",
      "Epoch 384/500\n",
      "28/28 [==============================] - 0s 5ms/step - loss: 190.4192 - val_loss: 869.5400\n",
      "Epoch 385/500\n",
      "28/28 [==============================] - 0s 5ms/step - loss: 189.7007 - val_loss: 873.4921\n",
      "Epoch 386/500\n",
      "28/28 [==============================] - 0s 5ms/step - loss: 188.8834 - val_loss: 876.4273\n",
      "Epoch 387/500\n",
      "28/28 [==============================] - 0s 5ms/step - loss: 188.2337 - val_loss: 878.9951\n",
      "Epoch 388/500\n",
      "28/28 [==============================] - 0s 5ms/step - loss: 187.6859 - val_loss: 883.6547\n",
      "Epoch 389/500\n",
      "28/28 [==============================] - 0s 5ms/step - loss: 187.3313 - val_loss: 875.3665\n",
      "Epoch 390/500\n",
      "28/28 [==============================] - 0s 5ms/step - loss: 229.6109 - val_loss: 1069.0947\n",
      "Epoch 391/500\n",
      "28/28 [==============================] - 0s 5ms/step - loss: 229.6649 - val_loss: 1077.4518\n",
      "Epoch 392/500\n",
      "28/28 [==============================] - 0s 5ms/step - loss: 227.0388 - val_loss: 1052.5190\n",
      "Epoch 393/500\n",
      "28/28 [==============================] - 0s 5ms/step - loss: 221.5544 - val_loss: 1035.9252\n",
      "Epoch 394/500\n",
      "28/28 [==============================] - 0s 5ms/step - loss: 215.2376 - val_loss: 1001.6429\n",
      "Epoch 395/500\n",
      "28/28 [==============================] - 0s 5ms/step - loss: 213.9991 - val_loss: 993.5894\n",
      "Epoch 396/500\n",
      "28/28 [==============================] - 0s 4ms/step - loss: 212.6037 - val_loss: 986.8262\n",
      "Epoch 397/500\n",
      "28/28 [==============================] - 0s 5ms/step - loss: 207.4845 - val_loss: 964.7584\n",
      "Epoch 398/500\n",
      "28/28 [==============================] - 0s 5ms/step - loss: 205.2726 - val_loss: 958.8624\n",
      "Epoch 399/500\n",
      "28/28 [==============================] - 0s 5ms/step - loss: 208.0891 - val_loss: 964.3291\n",
      "Epoch 400/500\n",
      "28/28 [==============================] - 0s 7ms/step - loss: 203.4223 - val_loss: 953.1013\n",
      "Epoch 401/500\n",
      "28/28 [==============================] - 0s 8ms/step - loss: 202.7065 - val_loss: 949.8958\n",
      "Epoch 402/500\n",
      "28/28 [==============================] - 0s 5ms/step - loss: 202.4068 - val_loss: 948.7404\n",
      "Epoch 403/500\n",
      "28/28 [==============================] - 0s 5ms/step - loss: 202.0972 - val_loss: 948.0916\n",
      "Epoch 404/500\n",
      "28/28 [==============================] - 0s 5ms/step - loss: 201.8979 - val_loss: 945.2772\n",
      "Epoch 405/500\n",
      "28/28 [==============================] - 0s 5ms/step - loss: 201.5542 - val_loss: 944.6573\n",
      "Epoch 406/500\n",
      "28/28 [==============================] - 0s 5ms/step - loss: 201.2007 - val_loss: 942.9368\n",
      "Epoch 407/500\n",
      "28/28 [==============================] - 0s 5ms/step - loss: 211.1365 - val_loss: 951.1893\n",
      "Epoch 408/500\n",
      "28/28 [==============================] - 0s 5ms/step - loss: 200.5394 - val_loss: 942.8408\n",
      "Epoch 409/500\n",
      "28/28 [==============================] - 0s 5ms/step - loss: 200.2764 - val_loss: 942.1673\n",
      "Epoch 410/500\n",
      "28/28 [==============================] - 0s 5ms/step - loss: 199.9810 - val_loss: 941.2728\n",
      "Epoch 411/500\n",
      "28/28 [==============================] - 0s 5ms/step - loss: 199.6845 - val_loss: 940.3979\n",
      "Epoch 412/500\n",
      "28/28 [==============================] - 0s 4ms/step - loss: 199.3997 - val_loss: 939.4604\n",
      "Epoch 413/500\n",
      "28/28 [==============================] - 0s 4ms/step - loss: 199.1083 - val_loss: 938.5638\n",
      "Epoch 414/500\n",
      "28/28 [==============================] - 0s 5ms/step - loss: 198.4692 - val_loss: 922.1064\n",
      "Epoch 415/500\n",
      "28/28 [==============================] - 0s 5ms/step - loss: 199.5908 - val_loss: 936.8615\n",
      "Epoch 416/500\n",
      "28/28 [==============================] - 0s 4ms/step - loss: 198.2543 - val_loss: 935.8311\n",
      "Epoch 417/500\n",
      "28/28 [==============================] - 0s 4ms/step - loss: 197.9667 - val_loss: 934.8764\n",
      "Epoch 418/500\n",
      "28/28 [==============================] - 0s 4ms/step - loss: 197.6847 - val_loss: 933.8042\n",
      "Epoch 419/500\n",
      "28/28 [==============================] - 0s 4ms/step - loss: 197.4006 - val_loss: 932.8293\n",
      "Epoch 420/500\n",
      "28/28 [==============================] - 0s 4ms/step - loss: 197.1185 - val_loss: 931.7368\n",
      "Epoch 421/500\n",
      "28/28 [==============================] - 0s 4ms/step - loss: 196.8383 - val_loss: 930.7548\n",
      "Epoch 422/500\n",
      "28/28 [==============================] - 0s 5ms/step - loss: 196.5534 - val_loss: 929.6428\n",
      "Epoch 423/500\n",
      "28/28 [==============================] - 0s 5ms/step - loss: 196.2762 - val_loss: 928.6725\n",
      "Epoch 424/500\n",
      "28/28 [==============================] - 0s 4ms/step - loss: 195.9892 - val_loss: 927.5825\n",
      "Epoch 425/500\n",
      "28/28 [==============================] - 0s 5ms/step - loss: 195.7135 - val_loss: 926.4854\n",
      "Epoch 426/500\n",
      "28/28 [==============================] - 0s 10ms/step - loss: 195.4322 - val_loss: 925.3908\n",
      "Epoch 427/500\n",
      "28/28 [==============================] - 0s 5ms/step - loss: 195.1586 - val_loss: 924.3490\n",
      "Epoch 428/500\n",
      "28/28 [==============================] - 0s 6ms/step - loss: 194.8745 - val_loss: 923.2697\n",
      "Epoch 429/500\n",
      "28/28 [==============================] - 0s 5ms/step - loss: 194.6038 - val_loss: 922.1645\n",
      "Epoch 430/500\n",
      "28/28 [==============================] - 0s 4ms/step - loss: 194.3317 - val_loss: 921.0629\n",
      "Epoch 431/500\n",
      "28/28 [==============================] - 0s 4ms/step - loss: 194.0526 - val_loss: 919.9813\n",
      "Epoch 432/500\n",
      "28/28 [==============================] - 0s 4ms/step - loss: 193.7217 - val_loss: 914.7895\n",
      "Epoch 433/500\n",
      "28/28 [==============================] - 0s 5ms/step - loss: 228.4700 - val_loss: 916.5521\n",
      "Epoch 434/500\n",
      "28/28 [==============================] - 0s 4ms/step - loss: 226.9626 - val_loss: 926.9089\n",
      "Epoch 435/500\n",
      "28/28 [==============================] - 0s 5ms/step - loss: 225.3923 - val_loss: 934.6808\n",
      "Epoch 436/500\n",
      "28/28 [==============================] - 0s 4ms/step - loss: 224.0477 - val_loss: 943.4664\n",
      "Epoch 437/500\n",
      "28/28 [==============================] - 0s 5ms/step - loss: 222.9033 - val_loss: 946.9174\n",
      "Epoch 438/500\n",
      "28/28 [==============================] - 0s 4ms/step - loss: 221.9307 - val_loss: 949.3662\n",
      "Epoch 439/500\n",
      "28/28 [==============================] - 0s 5ms/step - loss: 221.0429 - val_loss: 952.5891\n",
      "Epoch 440/500\n",
      "28/28 [==============================] - 0s 4ms/step - loss: 220.2795 - val_loss: 954.0945\n",
      "Epoch 441/500\n",
      "28/28 [==============================] - 0s 5ms/step - loss: 219.5434 - val_loss: 955.8455\n",
      "Epoch 442/500\n",
      "28/28 [==============================] - 0s 4ms/step - loss: 218.8779 - val_loss: 957.0280\n",
      "Epoch 443/500\n",
      "28/28 [==============================] - 0s 4ms/step - loss: 218.2379 - val_loss: 955.4222\n",
      "Epoch 444/500\n",
      "28/28 [==============================] - 0s 4ms/step - loss: 216.2368 - val_loss: 945.8908\n",
      "Epoch 445/500\n",
      "28/28 [==============================] - 0s 4ms/step - loss: 215.6774 - val_loss: 947.7057\n",
      "Epoch 446/500\n",
      "28/28 [==============================] - 0s 5ms/step - loss: 215.2568 - val_loss: 936.2231\n",
      "Epoch 447/500\n",
      "28/28 [==============================] - 0s 4ms/step - loss: 273.9359 - val_loss: 951.8823\n",
      "Epoch 448/500\n",
      "28/28 [==============================] - 0s 4ms/step - loss: 213.1825 - val_loss: 939.4375\n",
      "Epoch 449/500\n",
      "28/28 [==============================] - 0s 4ms/step - loss: 272.0920 - val_loss: 937.9537\n",
      "Epoch 450/500\n",
      "28/28 [==============================] - 0s 5ms/step - loss: 268.4325 - val_loss: 957.9898\n",
      "Epoch 451/500\n",
      "28/28 [==============================] - 0s 8ms/step - loss: 264.0993 - val_loss: 976.4956\n",
      "Epoch 452/500\n",
      "28/28 [==============================] - 0s 7ms/step - loss: 261.0810 - val_loss: 995.1305\n",
      "Epoch 453/500\n",
      "28/28 [==============================] - 0s 5ms/step - loss: 258.8937 - val_loss: 1003.2454\n",
      "Epoch 454/500\n",
      "28/28 [==============================] - 0s 5ms/step - loss: 257.6063 - val_loss: 1011.6896\n",
      "Epoch 455/500\n",
      "28/28 [==============================] - 0s 5ms/step - loss: 246.8260 - val_loss: 961.3945\n",
      "Epoch 456/500\n",
      "28/28 [==============================] - 0s 5ms/step - loss: 262.2294 - val_loss: 970.4255\n",
      "Epoch 457/500\n",
      "28/28 [==============================] - 0s 5ms/step - loss: 259.5421 - val_loss: 983.2354\n",
      "Epoch 458/500\n",
      "28/28 [==============================] - 0s 4ms/step - loss: 257.0520 - val_loss: 997.6118\n",
      "Epoch 459/500\n",
      "28/28 [==============================] - 0s 7ms/step - loss: 255.0851 - val_loss: 1008.7020\n",
      "Epoch 460/500\n",
      "28/28 [==============================] - 0s 5ms/step - loss: 253.5481 - val_loss: 1014.6342\n",
      "Epoch 461/500\n",
      "28/28 [==============================] - 0s 5ms/step - loss: 252.2170 - val_loss: 1018.3741\n",
      "Epoch 462/500\n",
      "28/28 [==============================] - 0s 5ms/step - loss: 251.0410 - val_loss: 1027.5308\n",
      "Epoch 463/500\n",
      "28/28 [==============================] - 0s 4ms/step - loss: 249.8844 - val_loss: 1035.8431\n",
      "Epoch 464/500\n",
      "28/28 [==============================] - 0s 5ms/step - loss: 249.0449 - val_loss: 1043.8141\n",
      "Epoch 465/500\n",
      "28/28 [==============================] - 0s 5ms/step - loss: 248.2023 - val_loss: 1046.3140\n",
      "Epoch 466/500\n",
      "28/28 [==============================] - 0s 5ms/step - loss: 247.4138 - val_loss: 1048.4232\n",
      "Epoch 467/500\n",
      "28/28 [==============================] - 0s 5ms/step - loss: 246.7530 - val_loss: 1052.9596\n",
      "Epoch 468/500\n",
      "28/28 [==============================] - 0s 4ms/step - loss: 245.9896 - val_loss: 1056.4728\n",
      "Epoch 469/500\n",
      "28/28 [==============================] - 0s 5ms/step - loss: 245.4759 - val_loss: 1060.2382\n",
      "Epoch 470/500\n",
      "28/28 [==============================] - 0s 4ms/step - loss: 244.9880 - val_loss: 1063.1294\n",
      "Epoch 471/500\n",
      "28/28 [==============================] - 0s 4ms/step - loss: 244.5066 - val_loss: 1065.4681\n",
      "Epoch 472/500\n",
      "28/28 [==============================] - 0s 5ms/step - loss: 244.0094 - val_loss: 1066.6517\n",
      "Epoch 473/500\n",
      "28/28 [==============================] - 0s 4ms/step - loss: 243.6484 - val_loss: 1069.0645\n",
      "Epoch 474/500\n",
      "28/28 [==============================] - 0s 5ms/step - loss: 243.3005 - val_loss: 1071.3491\n",
      "Epoch 475/500\n",
      "28/28 [==============================] - 0s 10ms/step - loss: 242.9816 - val_loss: 1073.3402\n",
      "Epoch 476/500\n",
      "28/28 [==============================] - 0s 5ms/step - loss: 242.6760 - val_loss: 1074.9501\n",
      "Epoch 477/500\n",
      "28/28 [==============================] - 0s 6ms/step - loss: 242.3949 - val_loss: 1076.2396\n",
      "Epoch 478/500\n",
      "28/28 [==============================] - 0s 5ms/step - loss: 242.1209 - val_loss: 1077.4166\n",
      "Epoch 479/500\n",
      "28/28 [==============================] - 0s 5ms/step - loss: 241.8650 - val_loss: 1078.3091\n",
      "Epoch 480/500\n",
      "28/28 [==============================] - 0s 5ms/step - loss: 241.6134 - val_loss: 1079.1194\n",
      "Epoch 481/500\n",
      "28/28 [==============================] - 0s 4ms/step - loss: 241.3748 - val_loss: 1079.6980\n",
      "Epoch 482/500\n",
      "28/28 [==============================] - 0s 5ms/step - loss: 241.1394 - val_loss: 1080.2014\n",
      "Epoch 483/500\n",
      "28/28 [==============================] - 0s 4ms/step - loss: 240.9126 - val_loss: 1080.5350\n",
      "Epoch 484/500\n",
      "28/28 [==============================] - 0s 5ms/step - loss: 240.6881 - val_loss: 1080.7772\n",
      "Epoch 485/500\n",
      "28/28 [==============================] - 0s 4ms/step - loss: 240.4630 - val_loss: 1080.5381\n",
      "Epoch 486/500\n",
      "28/28 [==============================] - 0s 4ms/step - loss: 240.2323 - val_loss: 1079.4884\n",
      "Epoch 487/500\n",
      "28/28 [==============================] - 0s 5ms/step - loss: 240.0218 - val_loss: 1079.5209\n",
      "Epoch 488/500\n",
      "28/28 [==============================] - 0s 4ms/step - loss: 239.8104 - val_loss: 1078.6221\n",
      "Epoch 489/500\n",
      "28/28 [==============================] - 0s 4ms/step - loss: 239.6044 - val_loss: 1078.7738\n",
      "Epoch 490/500\n",
      "28/28 [==============================] - 0s 4ms/step - loss: 239.3968 - val_loss: 1078.7289\n",
      "Epoch 491/500\n",
      "28/28 [==============================] - 0s 4ms/step - loss: 239.1951 - val_loss: 1078.0642\n",
      "Epoch 492/500\n",
      "28/28 [==============================] - 0s 4ms/step - loss: 238.9914 - val_loss: 1078.0199\n",
      "Epoch 493/500\n",
      "28/28 [==============================] - 0s 4ms/step - loss: 238.7913 - val_loss: 1077.5537\n",
      "Epoch 494/500\n",
      "28/28 [==============================] - 0s 4ms/step - loss: 238.5915 - val_loss: 1076.6125\n",
      "Epoch 495/500\n",
      "28/28 [==============================] - 0s 4ms/step - loss: 238.3935 - val_loss: 1076.2532\n",
      "Epoch 496/500\n",
      "28/28 [==============================] - 0s 5ms/step - loss: 238.1940 - val_loss: 1076.0441\n",
      "Epoch 497/500\n",
      "28/28 [==============================] - 0s 4ms/step - loss: 237.9981 - val_loss: 1075.5027\n",
      "Epoch 498/500\n",
      "28/28 [==============================] - 0s 10ms/step - loss: 237.8008 - val_loss: 1074.2809\n",
      "Epoch 499/500\n",
      "28/28 [==============================] - 0s 5ms/step - loss: 237.6074 - val_loss: 1073.6384\n",
      "Epoch 500/500\n",
      "28/28 [==============================] - 0s 5ms/step - loss: 237.4108 - val_loss: 1072.7522\n"
     ]
    }
   ],
   "source": [
    "C0 = tf.Variable(82.7524, name=\"C0\", trainable=True, dtype=tf.float32)\n",
    "K0 = tf.Variable(-0.0031, name=\"K0\", trainable=True, dtype=tf.float32)\n",
    "K1 = tf.Variable(-0.0003, name=\"K1\", trainable=True, dtype=tf.float32)\n",
    "a = tf.Variable(0.0000, name=\"a\", trainable=True, dtype=tf.float32)\n",
    "b = tf.Variable(0.0171, name=\"b\", trainable=True, dtype=tf.float32)\n",
    "c = tf.Variable(3.0230, name=\"c\", trainable=True, dtype=tf.float32)\n",
    "\n",
    "splitr = 0.8\n",
    "\n",
    "\n",
    "def loss_fn(y_true, y_pred):\n",
    "    squared_difference = tf.square(y_true[:, 0] - y_pred[:, 0])\n",
    "    #squared_difference2 = tf.square(y_true[:, 2]-y_pred[:, 2])\n",
    "    #squared_difference1 = tf.square(y_true[:, 1]-y_pred[:, 1])\n",
    "    epsilon = 1\n",
    "    squared_difference3 = tf.square(\n",
    "        y_pred[:, 1] - (\n",
    "            y_pred[:, 0] * (\n",
    "                K0 - K1 * (\n",
    "                    9 * a * tf.math.log((y_pred[:, 0] + epsilon) / C0) / (K0 - K1 * c)**2 +\n",
    "                    4 * b * tf.math.log((y_pred[:, 0] + epsilon) / C0) / (K0 - K1 * c) + c\n",
    "                )\n",
    "            )\n",
    "        )\n",
    "    )\n",
    "    return tf.reduce_mean(squared_difference, axis=-1) + 0.2*tf.reduce_mean(squared_difference3, axis=-1)\n",
    "model = Sequential()\n",
    "model.add(LSTM(100, input_shape=(trainX.shape[1], trainX.shape[2])))\n",
    "model.add(Dense(60))\n",
    "model.compile(loss=loss_fn, optimizer='adam')\n",
    "history = model.fit(trainX[:int(splitr*trainX.shape[0])], trainy[:int(splitr*trainX.shape[0])], epochs=500, batch_size=64, validation_data=(trainX[int(splitr*trainX.shape[0]):trainX.shape[0]], trainy[int(splitr*trainX.shape[0]):trainX.shape[0]]), shuffle=False)"
   ]
  },
  {
   "cell_type": "code",
   "execution_count": 19,
   "metadata": {
    "colab": {
     "base_uri": "https://localhost:8080/"
    },
    "id": "yJL101rPyuoT",
    "outputId": "239ff2b1-c186-423a-d316-939dfdd7c793"
   },
   "outputs": [
    {
     "name": "stdout",
     "output_type": "stream",
     "text": [
      "1/1 [==============================] - 0s 438ms/step\n"
     ]
    }
   ],
   "source": [
    "forecast_without_mc = forecastX\n",
    "yhat_without_mc = model.predict(forecast_without_mc) # Step Ahead Prediction\n",
    "forecast_without_mc = forecast_without_mc.reshape((forecast_without_mc.shape[0], forecast_without_mc.shape[2])) # Historical Input"
   ]
  },
  {
   "cell_type": "code",
   "execution_count": 20,
   "metadata": {
    "colab": {
     "base_uri": "https://localhost:8080/"
    },
    "id": "g9dQELcJ8wbp",
    "outputId": "4dc7671b-b1a8-48d5-8744-a86f98446109"
   },
   "outputs": [
    {
     "data": {
      "text/plain": [
       "(1, 1, 126)"
      ]
     },
     "execution_count": 20,
     "metadata": {},
     "output_type": "execute_result"
    }
   ],
   "source": [
    "forecastX.shape"
   ]
  },
  {
   "cell_type": "code",
   "execution_count": 21,
   "metadata": {
    "colab": {
     "base_uri": "https://localhost:8080/"
    },
    "id": "IS2kyIKG1Kbr",
    "outputId": "f31b3485-8e26-452f-9298-ea8bf7e80ad1"
   },
   "outputs": [
    {
     "data": {
      "text/plain": [
       "(1, 126)"
      ]
     },
     "execution_count": 21,
     "metadata": {},
     "output_type": "execute_result"
    }
   ],
   "source": [
    "forecast_without_mc.shape"
   ]
  },
  {
   "cell_type": "code",
   "execution_count": 22,
   "metadata": {
    "id": "0u6VIzaDyuoT"
   },
   "outputs": [],
   "source": [
    "inv_yhat_without_mc = np.concatenate((forecast_without_mc, yhat_without_mc), axis=1) # Concatenation of predicted values with Historical Data\n",
    "#inv_yhat_without_mc = scaler.inverse_transform(inv_yhat_without_mc) # Transform labels back to original encoding"
   ]
  },
  {
   "cell_type": "code",
   "execution_count": 23,
   "metadata": {
    "colab": {
     "base_uri": "https://localhost:8080/"
    },
    "id": "EUEcw0LX07oU",
    "outputId": "cfc32397-9c37-4b43-d087-584bb31c3dcc"
   },
   "outputs": [
    {
     "data": {
      "text/plain": [
       "(1, 186)"
      ]
     },
     "execution_count": 23,
     "metadata": {},
     "output_type": "execute_result"
    }
   ],
   "source": [
    "inv_yhat_without_mc.shape"
   ]
  },
  {
   "cell_type": "code",
   "execution_count": 24,
   "metadata": {
    "id": "31OWVbSh_305"
   },
   "outputs": [],
   "source": [
    "fforecast = inv_yhat_without_mc[:,-150:]"
   ]
  },
  {
   "cell_type": "code",
   "execution_count": 25,
   "metadata": {},
   "outputs": [
    {
     "data": {
      "text/plain": [
       "(1, 150)"
      ]
     },
     "execution_count": 25,
     "metadata": {},
     "output_type": "execute_result"
    }
   ],
   "source": [
    "fforecast.shape"
   ]
  },
  {
   "cell_type": "code",
   "execution_count": 26,
   "metadata": {
    "id": "BlpGH2FOAiRF"
   },
   "outputs": [],
   "source": [
    "final_forecast = fforecast[:,0:150:3]"
   ]
  },
  {
   "cell_type": "code",
   "execution_count": 27,
   "metadata": {},
   "outputs": [
    {
     "data": {
      "text/plain": [
       "(1, 150)"
      ]
     },
     "execution_count": 27,
     "metadata": {},
     "output_type": "execute_result"
    }
   ],
   "source": [
    "fforecast.shape"
   ]
  },
  {
   "cell_type": "code",
   "execution_count": 28,
   "metadata": {
    "id": "CXkgkj_LBk_t"
   },
   "outputs": [],
   "source": [
    "# code to replace all negative value with 0\n",
    "final_forecast[final_forecast<0] = 0"
   ]
  },
  {
   "cell_type": "code",
   "execution_count": 29,
   "metadata": {},
   "outputs": [
    {
     "data": {
      "text/plain": [
       "array([[0.00000000e+00, 5.79249066e+01, 1.00525665e+00, 5.81023109e+01,\n",
       "        5.77241597e+01, 5.73436084e+01, 5.79015640e+01, 5.75234127e+01,\n",
       "        6.08996966e+01, 7.93619275e-01, 0.00000000e+00, 5.16042829e-01,\n",
       "        5.79669234e+01, 6.86268800e-02, 5.81843277e+01, 5.77661765e+01,\n",
       "        5.73880252e+01, 5.79435808e+01, 5.75654295e+01, 6.15299487e+01,\n",
       "        1.97836610e-02, 8.75653630e-02, 5.97576737e-01, 5.51657982e+01,\n",
       "        4.79767400e-02, 4.61267640e-02, 7.53469706e-01, 3.80275846e-01,\n",
       "        4.24734175e-01, 0.00000000e+00, 5.80043602e+01, 0.00000000e+00,\n",
       "        2.37494081e-01, 0.00000000e+00, 2.02574909e-01, 0.00000000e+00,\n",
       "        5.61104894e-01, 8.51017684e-02, 8.90694559e-01, 0.00000000e+00,\n",
       "        0.00000000e+00, 0.00000000e+00, 1.14731598e+00, 4.73472685e-01,\n",
       "        0.00000000e+00, 0.00000000e+00, 5.11006266e-02, 4.91480380e-01,\n",
       "        0.00000000e+00, 2.57971823e-01]])"
      ]
     },
     "execution_count": 29,
     "metadata": {},
     "output_type": "execute_result"
    }
   ],
   "source": [
    "final_forecast"
   ]
  },
  {
   "cell_type": "code",
   "execution_count": 30,
   "metadata": {},
   "outputs": [
    {
     "data": {
      "text/plain": [
       "(1, 50)"
      ]
     },
     "execution_count": 30,
     "metadata": {},
     "output_type": "execute_result"
    }
   ],
   "source": [
    "final_forecast.shape"
   ]
  },
  {
   "cell_type": "code",
   "execution_count": 31,
   "metadata": {},
   "outputs": [
    {
     "data": {
      "text/plain": [
       "(50,)"
      ]
     },
     "execution_count": 31,
     "metadata": {},
     "output_type": "execute_result"
    }
   ],
   "source": [
    "test.shape"
   ]
  },
  {
   "cell_type": "code",
   "execution_count": 32,
   "metadata": {},
   "outputs": [],
   "source": [
    "training_set = np.array(training_set)\n",
    "test = np.array(test)\n",
    "final_forecast = np.array(final_forecast.squeeze(0))"
   ]
  },
  {
   "cell_type": "code",
   "execution_count": 33,
   "metadata": {},
   "outputs": [
    {
     "data": {
      "text/plain": [
       "array([45.682066  , 45.67222792, 45.66238983, 45.65255175, 45.64271367,\n",
       "       45.63287559, 45.62303751, 45.61319943, 45.60336134, 45.59352326,\n",
       "       45.58368518, 45.5738471 , 45.56400902, 45.55417094, 45.54433286,\n",
       "       45.53449477, 45.52465669, 45.51481861, 45.50498053, 45.49514245,\n",
       "       45.48530437, 45.47546628, 45.4656282 , 45.45579012, 45.44595204,\n",
       "       45.43611396, 45.42627588, 45.41643779, 45.40659971, 45.39676163,\n",
       "       45.38692355, 45.37708547, 45.36724739, 45.35740931, 45.34757122,\n",
       "       45.33773314, 45.32789506, 45.31805698, 45.3082189 , 45.29838082,\n",
       "       45.28854273, 45.27870465, 45.26886657, 45.25902849, 45.24919041,\n",
       "       45.23935233, 45.22951424, 45.21967616, 45.20983808, 45.2       ])"
      ]
     },
     "execution_count": 33,
     "metadata": {},
     "output_type": "execute_result"
    }
   ],
   "source": [
    "test"
   ]
  },
  {
   "cell_type": "code",
   "execution_count": 34,
   "metadata": {},
   "outputs": [
    {
     "data": {
      "text/plain": [
       "(50,)"
      ]
     },
     "execution_count": 34,
     "metadata": {},
     "output_type": "execute_result"
    }
   ],
   "source": [
    "test.shape"
   ]
  },
  {
   "cell_type": "code",
   "execution_count": 35,
   "metadata": {},
   "outputs": [
    {
     "data": {
      "text/plain": [
       "(50,)"
      ]
     },
     "execution_count": 35,
     "metadata": {},
     "output_type": "execute_result"
    }
   ],
   "source": [
    "final_forecast.shape"
   ]
  },
  {
   "cell_type": "code",
   "execution_count": 36,
   "metadata": {},
   "outputs": [
    {
     "data": {
      "text/plain": [
       "(50,)"
      ]
     },
     "execution_count": 36,
     "metadata": {},
     "output_type": "execute_result"
    }
   ],
   "source": [
    "test.shape"
   ]
  },
  {
   "cell_type": "code",
   "execution_count": 37,
   "metadata": {},
   "outputs": [
    {
     "name": "stdout",
     "output_type": "stream",
     "text": [
      "37.87846937611805\n",
      "34.678325621571545\n"
     ]
    }
   ],
   "source": [
    "import math\n",
    "MSE = np.square(np.subtract(np.array(test),np.array(final_forecast))).mean()   \n",
    "rsme = math.sqrt(MSE)\n",
    "print(rsme)  \n",
    "MAE = np.abs(np.subtract(np.array(test),np.array(final_forecast))).mean()   \n",
    "mae = MAE\n",
    "print(mae)"
   ]
  }
 ],
 "metadata": {
  "colab": {
   "provenance": []
  },
  "kernelspec": {
   "display_name": "Python 3",
   "language": "python",
   "name": "python3"
  },
  "language_info": {
   "codemirror_mode": {
    "name": "ipython",
    "version": 3
   },
   "file_extension": ".py",
   "mimetype": "text/x-python",
   "name": "python",
   "nbconvert_exporter": "python",
   "pygments_lexer": "ipython3",
   "version": "3.9.13"
  }
 },
 "nbformat": 4,
 "nbformat_minor": 0
}
