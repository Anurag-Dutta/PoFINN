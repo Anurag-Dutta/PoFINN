{
 "cells": [
  {
   "cell_type": "markdown",
   "metadata": {
    "id": "pCGKeZ2gyuoQ"
   },
   "source": [
    "_Importing Required Libraries_"
   ]
  },
  {
   "cell_type": "code",
   "execution_count": 1,
   "metadata": {
    "colab": {
     "base_uri": "https://localhost:8080/"
    },
    "id": "A-6LN-zXiLcM",
    "outputId": "4de610a4-f8b8-4f49-c6c0-89de299ccedc"
   },
   "outputs": [
    {
     "name": "stdout",
     "output_type": "stream",
     "text": [
      "Requirement already satisfied: hampel in c:\\users\\anurag dutta\\appdata\\local\\packages\\pythonsoftwarefoundation.python.3.9_qbz5n2kfra8p0\\localcache\\local-packages\\python39\\site-packages (0.0.5)\n",
      "Requirement already satisfied: numpy in c:\\users\\anurag dutta\\appdata\\local\\packages\\pythonsoftwarefoundation.python.3.9_qbz5n2kfra8p0\\localcache\\local-packages\\python39\\site-packages (from hampel) (1.26.4)\n",
      "Requirement already satisfied: pandas in c:\\users\\anurag dutta\\appdata\\local\\packages\\pythonsoftwarefoundation.python.3.9_qbz5n2kfra8p0\\localcache\\local-packages\\python39\\site-packages (from hampel) (1.5.2)\n",
      "Requirement already satisfied: python-dateutil>=2.8.1 in c:\\users\\anurag dutta\\appdata\\local\\packages\\pythonsoftwarefoundation.python.3.9_qbz5n2kfra8p0\\localcache\\local-packages\\python39\\site-packages (from pandas->hampel) (2.8.2)\n",
      "Requirement already satisfied: pytz>=2020.1 in c:\\users\\anurag dutta\\appdata\\local\\packages\\pythonsoftwarefoundation.python.3.9_qbz5n2kfra8p0\\localcache\\local-packages\\python39\\site-packages (from pandas->hampel) (2023.3.post1)\n",
      "Requirement already satisfied: six>=1.5 in c:\\users\\anurag dutta\\appdata\\local\\packages\\pythonsoftwarefoundation.python.3.9_qbz5n2kfra8p0\\localcache\\local-packages\\python39\\site-packages (from python-dateutil>=2.8.1->pandas->hampel) (1.16.0)\n",
      "Note: you may need to restart the kernel to use updated packages.\n"
     ]
    },
    {
     "name": "stderr",
     "output_type": "stream",
     "text": [
      "\n",
      "[notice] A new release of pip is available: 24.2 -> 24.3.1\n",
      "[notice] To update, run: C:\\Users\\Anurag Dutta\\AppData\\Local\\Microsoft\\WindowsApps\\PythonSoftwareFoundation.Python.3.9_qbz5n2kfra8p0\\python.exe -m pip install --upgrade pip\n"
     ]
    }
   ],
   "source": [
    "pip install hampel"
   ]
  },
  {
   "cell_type": "code",
   "execution_count": 2,
   "metadata": {
    "id": "By_d9uXpaFvZ"
   },
   "outputs": [],
   "source": [
    "from keras.models import Sequential\n",
    "from keras.layers import Dense\n",
    "from keras.layers import LSTM\n",
    "from keras.layers import Dropout\n",
    "import keras\n",
    "import tensorflow as tf\n",
    "from hampel import hampel\n",
    "import numpy as np\n",
    "import matplotlib.pyplot as plt\n",
    "import pandas as pd\n",
    "from sklearn.preprocessing import MinMaxScaler\n",
    "from sklearn.metrics import mean_squared_error, mean_absolute_error\n",
    "from math import sqrt\n",
    "from matplotlib import pyplot\n",
    "from numpy import array"
   ]
  },
  {
   "cell_type": "markdown",
   "metadata": {
    "id": "JyOjBMFayuoR"
   },
   "source": [
    "## Pretraining"
   ]
  },
  {
   "cell_type": "markdown",
   "metadata": {
    "id": "-5QqIY_GyuoR"
   },
   "source": [
    "The `capa_intermittency.dat` feeds the model with the dynamics of the Capacitor"
   ]
  },
  {
   "cell_type": "code",
   "execution_count": 3,
   "metadata": {
    "id": "9dV4a8yfyuoR"
   },
   "outputs": [],
   "source": [
    "data = np.genfromtxt('capa_intermittency.dat')\n",
    "training_set = pd.DataFrame(data).reset_index(drop=True)\n",
    "training_set = training_set.iloc[:,0]"
   ]
  },
  {
   "cell_type": "markdown",
   "metadata": {
    "id": "i7easoxByuoR"
   },
   "source": [
    "## Computing the Gradient"
   ]
  },
  {
   "cell_type": "markdown",
   "metadata": {
    "id": "5SnyolJTyuoR"
   },
   "source": [
    "_Calculating the value of_ $\\frac{dx}{dt}$"
   ]
  },
  {
   "cell_type": "code",
   "execution_count": 4,
   "metadata": {
    "colab": {
     "base_uri": "https://localhost:8080/"
    },
    "id": "wmIbVfIvyuoR",
    "outputId": "aa4e3136-c854-465d-d2e9-81cfd546e440"
   },
   "outputs": [
    {
     "name": "stdout",
     "output_type": "stream",
     "text": [
      "1.0\n",
      "1        0.000298\n",
      "2        0.000298\n",
      "3        0.000297\n",
      "4        0.000297\n",
      "5        0.000297\n",
      "           ...   \n",
      "9996     0.000018\n",
      "9997     0.000018\n",
      "9998     0.000018\n",
      "9999     0.000018\n",
      "10000    0.000018\n",
      "Name: 0, Length: 10000, dtype: float64\n"
     ]
    }
   ],
   "source": [
    "t_diff = 1\n",
    "print(training_set.max())\n",
    "gradient_t = (training_set.diff()/t_diff).iloc[1:] # dx/dt\n",
    "print(gradient_t)"
   ]
  },
  {
   "cell_type": "markdown",
   "metadata": {
    "id": "_2eVeeoxyuoS"
   },
   "source": [
    "## Loading Datasets"
   ]
  },
  {
   "cell_type": "code",
   "execution_count": 5,
   "metadata": {
    "id": "0J-NKyIEyuoS"
   },
   "outputs": [
    {
     "data": {
      "text/plain": [
       "0       84.600000\n",
       "1       84.431933\n",
       "2       84.263866\n",
       "3       84.095798\n",
       "4       83.927731\n",
       "          ...    \n",
       "2345    46.715065\n",
       "2346    46.705226\n",
       "2347    46.695388\n",
       "2348    46.685550\n",
       "2349    46.675712\n",
       "Name: C6, Length: 2350, dtype: float64"
      ]
     },
     "execution_count": 5,
     "metadata": {},
     "output_type": "execute_result"
    }
   ],
   "source": [
    "data = pd.read_csv(\"c6_interpolated_2250_100.csv\")\n",
    "training_set = data.iloc[:, 1]\n",
    "training_set"
   ]
  },
  {
   "cell_type": "code",
   "execution_count": 6,
   "metadata": {
    "colab": {
     "base_uri": "https://localhost:8080/"
    },
    "id": "-CbNUhJ74UqF",
    "outputId": "20f562d8-8247-49cc-b9c3-00eca5e13e2d"
   },
   "outputs": [
    {
     "data": {
      "text/plain": [
       "0       84.600000\n",
       "1       84.431933\n",
       "2       84.263866\n",
       "3       84.095798\n",
       "4       83.927731\n",
       "          ...    \n",
       "2245     0.000000\n",
       "2246     0.300952\n",
       "2247     0.760489\n",
       "2248     0.000000\n",
       "2249     0.126474\n",
       "Name: C6, Length: 2250, dtype: float64"
      ]
     },
     "execution_count": 6,
     "metadata": {},
     "output_type": "execute_result"
    }
   ],
   "source": [
    "test = training_set.tail(100)\n",
    "test\n",
    "training_set = training_set.head(2250)\n",
    "training_set"
   ]
  },
  {
   "cell_type": "code",
   "execution_count": 7,
   "metadata": {
    "colab": {
     "base_uri": "https://localhost:8080/"
    },
    "id": "X0TwTcq0yuoS",
    "outputId": "37252ed8-d88e-4044-fa7a-922411990b5b"
   },
   "outputs": [
    {
     "name": "stdout",
     "output_type": "stream",
     "text": [
      "0       0.000298\n",
      "1       0.000298\n",
      "2       0.000297\n",
      "3       0.000297\n",
      "4       0.000297\n",
      "          ...   \n",
      "9995    0.000018\n",
      "9996    0.000018\n",
      "9997    0.000018\n",
      "9998    0.000018\n",
      "9999    0.000018\n",
      "Name: 0, Length: 10000, dtype: float64\n"
     ]
    }
   ],
   "source": [
    "training_set = training_set.reset_index(drop=True)\n",
    "gradient_t = gradient_t.reset_index(drop=True)\n",
    "print(gradient_t)"
   ]
  },
  {
   "cell_type": "code",
   "execution_count": 8,
   "metadata": {
    "id": "O2biznZQyuoS"
   },
   "outputs": [],
   "source": [
    "df = pd.concat((training_set, gradient_t), axis=1)\n",
    "df.columns = ['y_t', 'grad_t']"
   ]
  },
  {
   "cell_type": "code",
   "execution_count": 9,
   "metadata": {
    "colab": {
     "base_uri": "https://localhost:8080/",
     "height": 423
    },
    "id": "sk_a5v3tyuoS",
    "outputId": "17563625-e550-45ae-faab-fafa353e44da"
   },
   "outputs": [
    {
     "data": {
      "text/html": [
       "<div>\n",
       "<style scoped>\n",
       "    .dataframe tbody tr th:only-of-type {\n",
       "        vertical-align: middle;\n",
       "    }\n",
       "\n",
       "    .dataframe tbody tr th {\n",
       "        vertical-align: top;\n",
       "    }\n",
       "\n",
       "    .dataframe thead th {\n",
       "        text-align: right;\n",
       "    }\n",
       "</style>\n",
       "<table border=\"1\" class=\"dataframe\">\n",
       "  <thead>\n",
       "    <tr style=\"text-align: right;\">\n",
       "      <th></th>\n",
       "      <th>y_t</th>\n",
       "      <th>grad_t</th>\n",
       "    </tr>\n",
       "  </thead>\n",
       "  <tbody>\n",
       "    <tr>\n",
       "      <th>0</th>\n",
       "      <td>84.600000</td>\n",
       "      <td>0.000298</td>\n",
       "    </tr>\n",
       "    <tr>\n",
       "      <th>1</th>\n",
       "      <td>84.431933</td>\n",
       "      <td>0.000298</td>\n",
       "    </tr>\n",
       "    <tr>\n",
       "      <th>2</th>\n",
       "      <td>84.263866</td>\n",
       "      <td>0.000297</td>\n",
       "    </tr>\n",
       "    <tr>\n",
       "      <th>3</th>\n",
       "      <td>84.095798</td>\n",
       "      <td>0.000297</td>\n",
       "    </tr>\n",
       "    <tr>\n",
       "      <th>4</th>\n",
       "      <td>83.927731</td>\n",
       "      <td>0.000297</td>\n",
       "    </tr>\n",
       "    <tr>\n",
       "      <th>...</th>\n",
       "      <td>...</td>\n",
       "      <td>...</td>\n",
       "    </tr>\n",
       "    <tr>\n",
       "      <th>9995</th>\n",
       "      <td>NaN</td>\n",
       "      <td>0.000018</td>\n",
       "    </tr>\n",
       "    <tr>\n",
       "      <th>9996</th>\n",
       "      <td>NaN</td>\n",
       "      <td>0.000018</td>\n",
       "    </tr>\n",
       "    <tr>\n",
       "      <th>9997</th>\n",
       "      <td>NaN</td>\n",
       "      <td>0.000018</td>\n",
       "    </tr>\n",
       "    <tr>\n",
       "      <th>9998</th>\n",
       "      <td>NaN</td>\n",
       "      <td>0.000018</td>\n",
       "    </tr>\n",
       "    <tr>\n",
       "      <th>9999</th>\n",
       "      <td>NaN</td>\n",
       "      <td>0.000018</td>\n",
       "    </tr>\n",
       "  </tbody>\n",
       "</table>\n",
       "<p>10000 rows × 2 columns</p>\n",
       "</div>"
      ],
      "text/plain": [
       "            y_t    grad_t\n",
       "0     84.600000  0.000298\n",
       "1     84.431933  0.000298\n",
       "2     84.263866  0.000297\n",
       "3     84.095798  0.000297\n",
       "4     83.927731  0.000297\n",
       "...         ...       ...\n",
       "9995        NaN  0.000018\n",
       "9996        NaN  0.000018\n",
       "9997        NaN  0.000018\n",
       "9998        NaN  0.000018\n",
       "9999        NaN  0.000018\n",
       "\n",
       "[10000 rows x 2 columns]"
      ]
     },
     "execution_count": 9,
     "metadata": {},
     "output_type": "execute_result"
    }
   ],
   "source": [
    "df"
   ]
  },
  {
   "cell_type": "markdown",
   "metadata": {
    "id": "-5esyHu5aFvg"
   },
   "source": [
    "## Plot of the External Forcing from Chaotic Differential Equation"
   ]
  },
  {
   "cell_type": "code",
   "execution_count": 10,
   "metadata": {
    "colab": {
     "base_uri": "https://localhost:8080/",
     "height": 447
    },
    "id": "hGnE43tOh-4p",
    "outputId": "fc396503-b624-4fa5-dfbe-f460207405c6"
   },
   "outputs": [
    {
     "data": {
      "text/plain": [
       "<Axes: >"
      ]
     },
     "execution_count": 10,
     "metadata": {},
     "output_type": "execute_result"
    },
    {
     "data": {
      "image/png": "[encoded data removed]",
      "text/plain": [
       "<Figure size 432x288 with 1 Axes>"
      ]
     },
     "metadata": {
      "needs_background": "light"
     },
     "output_type": "display_data"
    }
   ],
   "source": [
    "df.iloc[:, 0].plot()"
   ]
  },
  {
   "cell_type": "code",
   "execution_count": 11,
   "metadata": {
    "colab": {
     "base_uri": "https://localhost:8080/",
     "height": 447
    },
    "id": "ym4xWUUxaFvg",
    "outputId": "ae6a3495-8ce9-437e-ba81-3ed31deedeae"
   },
   "outputs": [
    {
     "name": "stderr",
     "output_type": "stream",
     "text": [
      "C:\\Users\\Anurag Dutta\\AppData\\Local\\Packages\\PythonSoftwareFoundation.Python.3.9_qbz5n2kfra8p0\\LocalCache\\local-packages\\Python39\\site-packages\\pandas\\core\\arraylike.py:402: RuntimeWarning: divide by zero encountered in log\n",
      "  result = getattr(ufunc, method)(*inputs, **kwargs)\n"
     ]
    },
    {
     "data": {
      "text/plain": [
       "<Axes: >"
      ]
     },
     "execution_count": 11,
     "metadata": {},
     "output_type": "execute_result"
    },
    {
     "data": {
      "image/png": "[encoded data removed]",
      "text/plain": [
       "<Figure size 432x288 with 1 Axes>"
      ]
     },
     "metadata": {
      "needs_background": "light"
     },
     "output_type": "display_data"
    }
   ],
   "source": [
    "import numpy as np\n",
    "c0 = 82.7524  # Value for C0\n",
    "K0 = -0.0031  # Value for K0\n",
    "K1 = -0.0003  # Value for K1\n",
    "a = 0.0000    # Value for a\n",
    "b = 0.0171    # Value for b\n",
    "c = 3.0230    # Value for c\n",
    "\n",
    "L = np.minimum(c0, (df.iloc[:, 1] - (df.iloc[:, 0] * (K0 - K1 * (9 * a * np.log(df.iloc[:, 0] / c0) / (K0 - K1 * c)**2 + 4 * b * np.log(df.iloc[:, 0] / c0) / (K0 - K1 * c) + c)))))\n",
    "L.plot()"
   ]
  },
  {
   "cell_type": "markdown",
   "metadata": {
    "id": "9VyEywnwaFvh"
   },
   "source": [
    "## Preprocessing the data into supervised learning"
   ]
  },
  {
   "cell_type": "code",
   "execution_count": 12,
   "metadata": {
    "id": "6V9dXqzdaFvh"
   },
   "outputs": [],
   "source": [
    "# split a sequence into samples\n",
    "def Supervised(data, n_in=1, n_out=1, dropnan=True):\n",
    "    n_vars = 1 if type(data) is list else data.shape[1]\n",
    "    df = pd.DataFrame(data)\n",
    "    cols, names = list(), list()\n",
    "    # input sequence (t-n_in, ... t-1)\n",
    "    for i in range(n_in, 0, -1):\n",
    "        cols.append(df.shift(i))\n",
    "        names += [('var%d(t-%d)' % (j+1, i)) for j in range(n_vars)]\n",
    "    # forecast sequence (t, t+1, ... t+n_out)\n",
    "    for i in range(0, n_out):\n",
    "      cols.append(df.shift(-i))\n",
    "      if i == 0:\n",
    "        names += [('var%d(t)' % (j+1)) for j in range(n_vars)]\n",
    "      else:\n",
    "        names += [('var%d(t+%d)' % (j+1, i)) for j in range(n_vars)]\n",
    "    # put it all together\n",
    "    agg = pd.concat(cols, axis=1)\n",
    "    agg.columns = names\n",
    "    # drop rows with NaN values\n",
    "    if dropnan:\n",
    "       agg.dropna(inplace=True)\n",
    "    return agg"
   ]
  },
  {
   "cell_type": "code",
   "execution_count": 13,
   "metadata": {
    "colab": {
     "base_uri": "https://localhost:8080/"
    },
    "id": "CrzSrT1HnyfH",
    "outputId": "7e75f928-3e47-499d-eac1-51908015ef78"
   },
   "outputs": [
    {
     "name": "stdout",
     "output_type": "stream",
     "text": [
      "     var1(t-350)  var1(t-349)  var1(t-348)  var1(t-347)  var1(t-346)  \\\n",
      "350    84.600000    84.431933    84.263866    84.095798    83.927731   \n",
      "351    84.431933    84.263866    84.095798    83.927731    83.759664   \n",
      "352    84.263866    84.095798    83.927731    83.759664    83.591597   \n",
      "353    84.095798    83.927731    83.759664    83.591597    83.423529   \n",
      "354    83.927731    83.759664    83.591597    83.423529    83.255462   \n",
      "\n",
      "     var1(t-345)  var1(t-344)  var1(t-343)  var1(t-342)  var1(t-341)  ...  \\\n",
      "350    83.759664    83.591597    83.423529    83.255462    83.092437  ...   \n",
      "351    83.591597    83.423529    83.255462    83.092437    82.991597  ...   \n",
      "352    83.423529    83.255462    83.092437    82.991597    82.890756  ...   \n",
      "353    83.255462    83.092437    82.991597    82.890756    82.789916  ...   \n",
      "354    83.092437    82.991597    82.890756    82.789916    82.689076  ...   \n",
      "\n",
      "     var1(t+95)  var2(t+95)  var1(t+96)  var2(t+96)  var1(t+97)  var2(t+97)  \\\n",
      "350   70.003688    0.000263   69.960738    0.000263   69.917787    0.000263   \n",
      "351   69.960738    0.000263   69.917787    0.000263   69.874837    0.000262   \n",
      "352   69.917787    0.000263   69.874837    0.000262   69.831886    0.000262   \n",
      "353   69.874837    0.000262   69.831886    0.000262   69.788936    0.000262   \n",
      "354   69.831886    0.000262   69.788936    0.000262   69.745985    0.000262   \n",
      "\n",
      "     var1(t+98)  var2(t+98)  var1(t+99)  var2(t+99)  \n",
      "350   69.874837    0.000262   69.831886    0.000262  \n",
      "351   69.831886    0.000262   69.788936    0.000262  \n",
      "352   69.788936    0.000262   69.745985    0.000262  \n",
      "353   69.745985    0.000262   69.703035    0.000262  \n",
      "354   69.703035    0.000262   69.660084    0.000262  \n",
      "\n",
      "[5 rows x 551 columns]\n",
      "Index(['var1(t-350)', 'var1(t-349)', 'var1(t-348)', 'var1(t-347)',\n",
      "       'var1(t-346)', 'var1(t-345)', 'var1(t-344)', 'var1(t-343)',\n",
      "       'var1(t-342)', 'var1(t-341)',\n",
      "       ...\n",
      "       'var1(t+95)', 'var2(t+95)', 'var1(t+96)', 'var2(t+96)', 'var1(t+97)',\n",
      "       'var2(t+97)', 'var1(t+98)', 'var2(t+98)', 'var1(t+99)', 'var2(t+99)'],\n",
      "      dtype='object', length=551)\n"
     ]
    }
   ],
   "source": [
    "data = Supervised(df.values, n_in = 350, n_out = 100)\n",
    "\n",
    "\n",
    "cols_to_drop = []\n",
    "for i in range(2, 351):\n",
    "    cols_to_drop.extend([f'var2(t-{i})'])\n",
    "\n",
    "data.drop(cols_to_drop, axis=1, inplace=True)\n",
    "\n",
    "print(data.head())\n",
    "print(data.columns)"
   ]
  },
  {
   "cell_type": "code",
   "execution_count": 14,
   "metadata": {
    "id": "AfPf60oy6Pe4"
   },
   "outputs": [],
   "source": [
    "train = np.array(data[0:len(data)-1])\n",
    "forecast = np.array(data.tail(1))"
   ]
  },
  {
   "cell_type": "code",
   "execution_count": 15,
   "metadata": {
    "id": "WSAafzI37KiT"
   },
   "outputs": [],
   "source": [
    "trainy = train[:,-300:]\n",
    "trainX = train[:,:-300]"
   ]
  },
  {
   "cell_type": "code",
   "execution_count": 16,
   "metadata": {
    "id": "2SrOqVJA7f50"
   },
   "outputs": [],
   "source": [
    "forecasty = forecast[:,-300:]\n",
    "forecastX = forecast[:,:-300]"
   ]
  },
  {
   "cell_type": "code",
   "execution_count": 17,
   "metadata": {
    "colab": {
     "base_uri": "https://localhost:8080/"
    },
    "id": "Qno_k8Nw7saY",
    "outputId": "c4a88db5-d8c6-489f-cdb2-06b24e293cff"
   },
   "outputs": [
    {
     "name": "stdout",
     "output_type": "stream",
     "text": [
      "(1800, 1, 251) (1800, 300) (1, 1, 251)\n"
     ]
    }
   ],
   "source": [
    "trainX = trainX.reshape((trainX.shape[0], 1, trainX.shape[1]))\n",
    "forecastX = forecastX.reshape((forecastX.shape[0], 1, forecastX.shape[1]))\n",
    "print(trainX.shape, trainy.shape, forecastX.shape)"
   ]
  },
  {
   "cell_type": "code",
   "execution_count": 18,
   "metadata": {
    "colab": {
     "base_uri": "https://localhost:8080/"
    },
    "id": "b1Jp2DvNuNFx",
    "outputId": "d0e5b3c4-64f1-438c-eade-8dfeaac8e285"
   },
   "outputs": [
    {
     "name": "stdout",
     "output_type": "stream",
     "text": [
      "Epoch 1/500\n",
      "23/23 [==============================] - 4s 33ms/step - loss: 3697.3125 - val_loss: 1892.0702\n",
      "Epoch 2/500\n",
      "23/23 [==============================] - 0s 6ms/step - loss: 3444.4507 - val_loss: 1795.6743\n",
      "Epoch 3/500\n",
      "23/23 [==============================] - 0s 9ms/step - loss: 3309.0566 - val_loss: 1727.6858\n",
      "Epoch 4/500\n",
      "23/23 [==============================] - 0s 7ms/step - loss: 3195.8176 - val_loss: 1672.1450\n",
      "Epoch 5/500\n",
      "23/23 [==============================] - 0s 6ms/step - loss: 3092.4575 - val_loss: 1618.7505\n",
      "Epoch 6/500\n",
      "23/23 [==============================] - 0s 6ms/step - loss: 3000.3882 - val_loss: 1572.7871\n",
      "Epoch 7/500\n",
      "23/23 [==============================] - 0s 6ms/step - loss: 2914.6531 - val_loss: 1529.0266\n",
      "Epoch 8/500\n",
      "23/23 [==============================] - 0s 8ms/step - loss: 2831.0112 - val_loss: 1481.3728\n",
      "Epoch 9/500\n",
      "23/23 [==============================] - 0s 7ms/step - loss: 2736.2456 - val_loss: 1440.1200\n",
      "Epoch 10/500\n",
      "23/23 [==============================] - 0s 7ms/step - loss: 2655.5569 - val_loss: 1401.4399\n",
      "Epoch 11/500\n",
      "23/23 [==============================] - 0s 15ms/step - loss: 2578.0237 - val_loss: 1364.7369\n",
      "Epoch 12/500\n",
      "23/23 [==============================] - 0s 8ms/step - loss: 2503.1694 - val_loss: 1329.7922\n",
      "Epoch 13/500\n",
      "23/23 [==============================] - 0s 6ms/step - loss: 2430.6594 - val_loss: 1296.1592\n",
      "Epoch 14/500\n",
      "23/23 [==============================] - 0s 6ms/step - loss: 2360.1729 - val_loss: 1261.8162\n",
      "Epoch 15/500\n",
      "23/23 [==============================] - 0s 6ms/step - loss: 2279.3040 - val_loss: 1227.1140\n",
      "Epoch 16/500\n",
      "23/23 [==============================] - 0s 4ms/step - loss: 2207.8679 - val_loss: 1196.6698\n",
      "Epoch 17/500\n",
      "23/23 [==============================] - 0s 5ms/step - loss: 2139.8716 - val_loss: 1168.0337\n",
      "Epoch 18/500\n",
      "23/23 [==============================] - 0s 4ms/step - loss: 2074.4138 - val_loss: 1141.0089\n",
      "Epoch 19/500\n",
      "23/23 [==============================] - 0s 4ms/step - loss: 2011.1488 - val_loss: 1115.4608\n",
      "Epoch 20/500\n",
      "23/23 [==============================] - 0s 4ms/step - loss: 1949.8750 - val_loss: 1091.3031\n",
      "Epoch 21/500\n",
      "23/23 [==============================] - 0s 4ms/step - loss: 1890.4128 - val_loss: 1068.4689\n",
      "Epoch 22/500\n",
      "23/23 [==============================] - 0s 5ms/step - loss: 1833.3763 - val_loss: 1046.0685\n",
      "Epoch 23/500\n",
      "23/23 [==============================] - 0s 5ms/step - loss: 1772.6998 - val_loss: 1024.2004\n",
      "Epoch 24/500\n",
      "23/23 [==============================] - 0s 5ms/step - loss: 1714.6654 - val_loss: 1003.9918\n",
      "Epoch 25/500\n",
      "23/23 [==============================] - 0s 7ms/step - loss: 1658.9498 - val_loss: 984.3071\n",
      "Epoch 26/500\n",
      "23/23 [==============================] - 0s 4ms/step - loss: 1601.3944 - val_loss: 965.4422\n",
      "Epoch 27/500\n",
      "23/23 [==============================] - 0s 5ms/step - loss: 1545.0920 - val_loss: 948.0823\n",
      "Epoch 28/500\n",
      "23/23 [==============================] - 0s 4ms/step - loss: 1491.7302 - val_loss: 932.2955\n",
      "Epoch 29/500\n",
      "23/23 [==============================] - 0s 4ms/step - loss: 1440.8351 - val_loss: 917.8853\n",
      "Epoch 30/500\n",
      "23/23 [==============================] - 0s 4ms/step - loss: 1392.0427 - val_loss: 904.7307\n",
      "Epoch 31/500\n",
      "23/23 [==============================] - 0s 4ms/step - loss: 1345.1366 - val_loss: 892.7465\n",
      "Epoch 32/500\n",
      "23/23 [==============================] - 0s 4ms/step - loss: 1299.9736 - val_loss: 881.8666\n",
      "Epoch 33/500\n",
      "23/23 [==============================] - 0s 4ms/step - loss: 1256.4470 - val_loss: 872.0366\n",
      "Epoch 34/500\n",
      "23/23 [==============================] - 0s 4ms/step - loss: 1214.4727 - val_loss: 863.2078\n",
      "Epoch 35/500\n",
      "23/23 [==============================] - 0s 4ms/step - loss: 1173.9805 - val_loss: 855.3373\n",
      "Epoch 36/500\n",
      "23/23 [==============================] - 0s 5ms/step - loss: 1134.9098 - val_loss: 848.3857\n",
      "Epoch 37/500\n",
      "23/23 [==============================] - 0s 5ms/step - loss: 1097.2075 - val_loss: 842.3158\n",
      "Epoch 38/500\n",
      "23/23 [==============================] - 0s 5ms/step - loss: 1060.8250 - val_loss: 837.0929\n",
      "Epoch 39/500\n",
      "23/23 [==============================] - 0s 5ms/step - loss: 1025.7186 - val_loss: 832.6836\n",
      "Epoch 40/500\n",
      "23/23 [==============================] - 0s 5ms/step - loss: 991.8464 - val_loss: 829.0563\n",
      "Epoch 41/500\n",
      "23/23 [==============================] - 0s 4ms/step - loss: 959.1709 - val_loss: 826.1805\n",
      "Epoch 42/500\n",
      "23/23 [==============================] - 0s 5ms/step - loss: 927.6548 - val_loss: 824.0267\n",
      "Epoch 43/500\n",
      "23/23 [==============================] - 0s 4ms/step - loss: 897.2642 - val_loss: 822.5660\n",
      "Epoch 44/500\n",
      "23/23 [==============================] - 0s 5ms/step - loss: 867.9656 - val_loss: 821.7709\n",
      "Epoch 45/500\n",
      "23/23 [==============================] - 0s 5ms/step - loss: 839.7277 - val_loss: 821.6143\n",
      "Epoch 46/500\n",
      "23/23 [==============================] - 0s 5ms/step - loss: 812.5197 - val_loss: 822.0696\n",
      "Epoch 47/500\n",
      "23/23 [==============================] - 0s 5ms/step - loss: 786.3121 - val_loss: 823.1112\n",
      "Epoch 48/500\n",
      "23/23 [==============================] - 0s 5ms/step - loss: 761.0763 - val_loss: 824.7138\n",
      "Epoch 49/500\n",
      "23/23 [==============================] - 0s 4ms/step - loss: 736.7845 - val_loss: 826.8527\n",
      "Epoch 50/500\n",
      "23/23 [==============================] - 0s 4ms/step - loss: 713.4096 - val_loss: 829.5037\n",
      "Epoch 51/500\n",
      "23/23 [==============================] - 0s 4ms/step - loss: 690.9254 - val_loss: 832.6433\n",
      "Epoch 52/500\n",
      "23/23 [==============================] - 0s 4ms/step - loss: 669.3062 - val_loss: 836.2480\n",
      "Epoch 53/500\n",
      "23/23 [==============================] - 0s 4ms/step - loss: 648.5269 - val_loss: 840.2952\n",
      "Epoch 54/500\n",
      "23/23 [==============================] - 0s 5ms/step - loss: 628.5630 - val_loss: 844.7627\n",
      "Epoch 55/500\n",
      "23/23 [==============================] - 0s 6ms/step - loss: 609.3904 - val_loss: 849.6284\n",
      "Epoch 56/500\n",
      "23/23 [==============================] - 0s 6ms/step - loss: 590.9858 - val_loss: 854.8709\n",
      "Epoch 57/500\n",
      "23/23 [==============================] - 0s 6ms/step - loss: 573.3264 - val_loss: 860.4693\n",
      "Epoch 58/500\n",
      "23/23 [==============================] - 0s 5ms/step - loss: 556.3892 - val_loss: 866.4030\n",
      "Epoch 59/500\n",
      "23/23 [==============================] - 0s 4ms/step - loss: 540.1524 - val_loss: 872.6515\n",
      "Epoch 60/500\n",
      "23/23 [==============================] - 0s 4ms/step - loss: 524.5945 - val_loss: 879.1954\n",
      "Epoch 61/500\n",
      "23/23 [==============================] - 0s 4ms/step - loss: 509.6942 - val_loss: 886.0151\n",
      "Epoch 62/500\n",
      "23/23 [==============================] - 0s 4ms/step - loss: 495.4306 - val_loss: 893.0919\n",
      "Epoch 63/500\n",
      "23/23 [==============================] - 0s 4ms/step - loss: 481.7835 - val_loss: 900.4069\n",
      "Epoch 64/500\n",
      "23/23 [==============================] - 0s 4ms/step - loss: 468.7327 - val_loss: 907.9421\n",
      "Epoch 65/500\n",
      "23/23 [==============================] - 0s 4ms/step - loss: 456.2582 - val_loss: 915.6830\n",
      "Epoch 66/500\n",
      "23/23 [==============================] - 0s 4ms/step - loss: 444.3387 - val_loss: 923.6537\n",
      "Epoch 67/500\n",
      "23/23 [==============================] - 0s 4ms/step - loss: 432.9386 - val_loss: 931.8316\n",
      "Epoch 68/500\n",
      "23/23 [==============================] - 0s 4ms/step - loss: 422.0840 - val_loss: 940.0162\n",
      "Epoch 69/500\n",
      "23/23 [==============================] - 0s 4ms/step - loss: 411.7173 - val_loss: 948.4742\n",
      "Epoch 70/500\n",
      "23/23 [==============================] - 0s 4ms/step - loss: 401.8470 - val_loss: 956.8661\n",
      "Epoch 71/500\n",
      "23/23 [==============================] - 0s 4ms/step - loss: 392.4497 - val_loss: 965.4604\n",
      "Epoch 72/500\n",
      "23/23 [==============================] - 0s 4ms/step - loss: 383.5117 - val_loss: 973.9427\n",
      "Epoch 73/500\n",
      "23/23 [==============================] - 0s 5ms/step - loss: 374.9798 - val_loss: 982.6703\n",
      "Epoch 74/500\n",
      "23/23 [==============================] - 0s 4ms/step - loss: 366.8452 - val_loss: 992.0026\n",
      "Epoch 75/500\n",
      "23/23 [==============================] - 0s 4ms/step - loss: 358.2521 - val_loss: 1003.1766\n",
      "Epoch 76/500\n",
      "23/23 [==============================] - 0s 4ms/step - loss: 349.6478 - val_loss: 1013.1812\n",
      "Epoch 77/500\n",
      "23/23 [==============================] - 0s 5ms/step - loss: 342.0535 - val_loss: 1023.1192\n",
      "Epoch 78/500\n",
      "23/23 [==============================] - 0s 5ms/step - loss: 334.9636 - val_loss: 1032.9600\n",
      "Epoch 79/500\n",
      "23/23 [==============================] - 0s 5ms/step - loss: 328.3446 - val_loss: 1042.7092\n",
      "Epoch 80/500\n",
      "23/23 [==============================] - 0s 4ms/step - loss: 322.1553 - val_loss: 1052.3691\n",
      "Epoch 81/500\n",
      "23/23 [==============================] - 0s 4ms/step - loss: 316.3616 - val_loss: 1061.9388\n",
      "Epoch 82/500\n",
      "23/23 [==============================] - 0s 5ms/step - loss: 310.9348 - val_loss: 1071.4154\n",
      "Epoch 83/500\n",
      "23/23 [==============================] - 0s 5ms/step - loss: 305.8505 - val_loss: 1080.7938\n",
      "Epoch 84/500\n",
      "23/23 [==============================] - 0s 5ms/step - loss: 301.0868 - val_loss: 1090.0684\n",
      "Epoch 85/500\n",
      "23/23 [==============================] - 0s 5ms/step - loss: 296.6241 - val_loss: 1099.2341\n",
      "Epoch 86/500\n",
      "23/23 [==============================] - 0s 4ms/step - loss: 292.4443 - val_loss: 1108.2844\n",
      "Epoch 87/500\n",
      "23/23 [==============================] - 0s 4ms/step - loss: 288.5307 - val_loss: 1117.2142\n",
      "Epoch 88/500\n",
      "23/23 [==============================] - 0s 4ms/step - loss: 284.8678 - val_loss: 1126.0170\n",
      "Epoch 89/500\n",
      "23/23 [==============================] - 0s 4ms/step - loss: 281.4411 - val_loss: 1134.6886\n",
      "Epoch 90/500\n",
      "23/23 [==============================] - 0s 4ms/step - loss: 278.2370 - val_loss: 1143.2231\n",
      "Epoch 91/500\n",
      "23/23 [==============================] - 0s 4ms/step - loss: 275.2425 - val_loss: 1151.6158\n",
      "Epoch 92/500\n",
      "23/23 [==============================] - 0s 4ms/step - loss: 272.4457 - val_loss: 1159.8628\n",
      "Epoch 93/500\n",
      "23/23 [==============================] - 0s 4ms/step - loss: 269.8348 - val_loss: 1167.9592\n",
      "Epoch 94/500\n",
      "23/23 [==============================] - 0s 3ms/step - loss: 267.3993 - val_loss: 1175.9021\n",
      "Epoch 95/500\n",
      "23/23 [==============================] - 0s 4ms/step - loss: 265.1286 - val_loss: 1183.6874\n",
      "Epoch 96/500\n",
      "23/23 [==============================] - 0s 4ms/step - loss: 263.0132 - val_loss: 1191.3124\n",
      "Epoch 97/500\n",
      "23/23 [==============================] - 0s 4ms/step - loss: 261.0435 - val_loss: 1198.7744\n",
      "Epoch 98/500\n",
      "23/23 [==============================] - 0s 4ms/step - loss: 259.2111 - val_loss: 1206.0719\n",
      "Epoch 99/500\n",
      "23/23 [==============================] - 0s 4ms/step - loss: 257.5071 - val_loss: 1213.2012\n",
      "Epoch 100/500\n",
      "23/23 [==============================] - 0s 4ms/step - loss: 255.9241 - val_loss: 1220.1628\n",
      "Epoch 101/500\n",
      "23/23 [==============================] - 0s 4ms/step - loss: 254.4544 - val_loss: 1226.9542\n",
      "Epoch 102/500\n",
      "23/23 [==============================] - 0s 5ms/step - loss: 253.0909 - val_loss: 1233.5750\n",
      "Epoch 103/500\n",
      "23/23 [==============================] - 0s 4ms/step - loss: 251.8268 - val_loss: 1240.0239\n",
      "Epoch 104/500\n",
      "23/23 [==============================] - 0s 4ms/step - loss: 250.6558 - val_loss: 1246.3018\n",
      "Epoch 105/500\n",
      "23/23 [==============================] - 0s 4ms/step - loss: 249.5718 - val_loss: 1252.4082\n",
      "Epoch 106/500\n",
      "23/23 [==============================] - 0s 4ms/step - loss: 248.5691 - val_loss: 1258.3427\n",
      "Epoch 107/500\n",
      "23/23 [==============================] - 0s 5ms/step - loss: 247.6424 - val_loss: 1264.1066\n",
      "Epoch 108/500\n",
      "23/23 [==============================] - 0s 5ms/step - loss: 246.7864 - val_loss: 1269.7012\n",
      "Epoch 109/500\n",
      "23/23 [==============================] - 0s 4ms/step - loss: 245.9965 - val_loss: 1275.1257\n",
      "Epoch 110/500\n",
      "23/23 [==============================] - 0s 4ms/step - loss: 245.2680 - val_loss: 1280.3832\n",
      "Epoch 111/500\n",
      "23/23 [==============================] - 0s 6ms/step - loss: 244.5968 - val_loss: 1285.4751\n",
      "Epoch 112/500\n",
      "23/23 [==============================] - 0s 8ms/step - loss: 243.9787 - val_loss: 1290.4025\n",
      "Epoch 113/500\n",
      "23/23 [==============================] - 0s 4ms/step - loss: 243.4100 - val_loss: 1295.1667\n",
      "Epoch 114/500\n",
      "23/23 [==============================] - 0s 4ms/step - loss: 242.8871 - val_loss: 1299.7715\n",
      "Epoch 115/500\n",
      "23/23 [==============================] - 0s 5ms/step - loss: 242.4068 - val_loss: 1304.2174\n",
      "Epoch 116/500\n",
      "23/23 [==============================] - 0s 6ms/step - loss: 241.9660 - val_loss: 1308.5084\n",
      "Epoch 117/500\n",
      "23/23 [==============================] - 0s 7ms/step - loss: 241.5615 - val_loss: 1312.6456\n",
      "Epoch 118/500\n",
      "23/23 [==============================] - 0s 5ms/step - loss: 241.1908 - val_loss: 1316.6327\n",
      "Epoch 119/500\n",
      "23/23 [==============================] - 0s 5ms/step - loss: 240.8512 - val_loss: 1320.4713\n",
      "Epoch 120/500\n",
      "23/23 [==============================] - 0s 5ms/step - loss: 240.5405 - val_loss: 1324.1652\n",
      "Epoch 121/500\n",
      "23/23 [==============================] - 0s 5ms/step - loss: 240.2563 - val_loss: 1327.7155\n",
      "Epoch 122/500\n",
      "23/23 [==============================] - 0s 5ms/step - loss: 239.9965 - val_loss: 1331.1265\n",
      "Epoch 123/500\n",
      "23/23 [==============================] - 0s 5ms/step - loss: 239.7594 - val_loss: 1334.4009\n",
      "Epoch 124/500\n",
      "23/23 [==============================] - 0s 5ms/step - loss: 239.5429 - val_loss: 1337.5404\n",
      "Epoch 125/500\n",
      "23/23 [==============================] - 0s 5ms/step - loss: 239.3454 - val_loss: 1340.5480\n",
      "Epoch 126/500\n",
      "23/23 [==============================] - 0s 5ms/step - loss: 239.1655 - val_loss: 1343.4240\n",
      "Epoch 127/500\n",
      "23/23 [==============================] - 0s 5ms/step - loss: 239.0017 - val_loss: 1346.1714\n",
      "Epoch 128/500\n",
      "23/23 [==============================] - 0s 5ms/step - loss: 238.8526 - val_loss: 1348.7883\n",
      "Epoch 129/500\n",
      "23/23 [==============================] - 0s 5ms/step - loss: 238.7170 - val_loss: 1351.2716\n",
      "Epoch 130/500\n",
      "23/23 [==============================] - 0s 5ms/step - loss: 238.5937 - val_loss: 1353.6110\n",
      "Epoch 131/500\n",
      "23/23 [==============================] - 0s 5ms/step - loss: 238.4818 - val_loss: 1355.7842\n",
      "Epoch 132/500\n",
      "23/23 [==============================] - 0s 5ms/step - loss: 238.3802 - val_loss: 1357.7316\n",
      "Epoch 133/500\n",
      "23/23 [==============================] - 0s 4ms/step - loss: 238.2880 - val_loss: 1359.3549\n",
      "Epoch 134/500\n",
      "23/23 [==============================] - 0s 5ms/step - loss: 236.8918 - val_loss: 1314.1648\n",
      "Epoch 135/500\n",
      "23/23 [==============================] - 0s 5ms/step - loss: 241.2529 - val_loss: 1316.2682\n",
      "Epoch 136/500\n",
      "23/23 [==============================] - 0s 6ms/step - loss: 240.9842 - val_loss: 1320.5386\n",
      "Epoch 137/500\n",
      "23/23 [==============================] - 0s 5ms/step - loss: 240.6392 - val_loss: 1324.6974\n",
      "Epoch 138/500\n",
      "23/23 [==============================] - 0s 5ms/step - loss: 240.3181 - val_loss: 1328.6779\n",
      "Epoch 139/500\n",
      "23/23 [==============================] - 0s 5ms/step - loss: 240.0274 - val_loss: 1332.4786\n",
      "Epoch 140/500\n",
      "23/23 [==============================] - 0s 5ms/step - loss: 239.7651 - val_loss: 1336.1044\n",
      "Epoch 141/500\n",
      "23/23 [==============================] - 0s 5ms/step - loss: 239.5287 - val_loss: 1339.5618\n",
      "Epoch 142/500\n",
      "23/23 [==============================] - 0s 5ms/step - loss: 239.3156 - val_loss: 1342.8553\n",
      "Epoch 143/500\n",
      "23/23 [==============================] - 0s 5ms/step - loss: 239.1238 - val_loss: 1345.9915\n",
      "Epoch 144/500\n",
      "23/23 [==============================] - 0s 6ms/step - loss: 238.9512 - val_loss: 1348.9755\n",
      "Epoch 145/500\n",
      "23/23 [==============================] - 0s 7ms/step - loss: 238.7959 - val_loss: 1351.8130\n",
      "Epoch 146/500\n",
      "23/23 [==============================] - 0s 6ms/step - loss: 238.6562 - val_loss: 1354.5098\n",
      "Epoch 147/500\n",
      "23/23 [==============================] - 0s 8ms/step - loss: 238.5309 - val_loss: 1357.0709\n",
      "Epoch 148/500\n",
      "23/23 [==============================] - 1s 25ms/step - loss: 238.4182 - val_loss: 1359.5016\n",
      "Epoch 149/500\n",
      "23/23 [==============================] - 0s 10ms/step - loss: 238.3171 - val_loss: 1361.8073\n",
      "Epoch 150/500\n",
      "23/23 [==============================] - 0s 7ms/step - loss: 238.2263 - val_loss: 1363.9926\n",
      "Epoch 151/500\n",
      "23/23 [==============================] - 0s 6ms/step - loss: 238.1449 - val_loss: 1366.0635\n",
      "Epoch 152/500\n",
      "23/23 [==============================] - 0s 7ms/step - loss: 238.0719 - val_loss: 1368.0244\n",
      "Epoch 153/500\n",
      "23/23 [==============================] - 0s 6ms/step - loss: 238.0065 - val_loss: 1369.8800\n",
      "Epoch 154/500\n",
      "23/23 [==============================] - 0s 6ms/step - loss: 237.9479 - val_loss: 1371.6350\n",
      "Epoch 155/500\n",
      "23/23 [==============================] - 0s 5ms/step - loss: 237.8955 - val_loss: 1373.2937\n",
      "Epoch 156/500\n",
      "23/23 [==============================] - 0s 5ms/step - loss: 237.8485 - val_loss: 1374.8607\n",
      "Epoch 157/500\n",
      "23/23 [==============================] - 0s 6ms/step - loss: 237.8064 - val_loss: 1376.3406\n",
      "Epoch 158/500\n",
      "23/23 [==============================] - 0s 7ms/step - loss: 237.7688 - val_loss: 1377.7369\n",
      "Epoch 159/500\n",
      "23/23 [==============================] - 0s 9ms/step - loss: 237.7352 - val_loss: 1379.0540\n",
      "Epoch 160/500\n",
      "23/23 [==============================] - 0s 10ms/step - loss: 237.7051 - val_loss: 1380.2952\n",
      "Epoch 161/500\n",
      "23/23 [==============================] - 0s 7ms/step - loss: 237.6783 - val_loss: 1381.4646\n",
      "Epoch 162/500\n",
      "23/23 [==============================] - 0s 8ms/step - loss: 237.6543 - val_loss: 1382.5658\n",
      "Epoch 163/500\n",
      "23/23 [==============================] - 0s 6ms/step - loss: 237.6329 - val_loss: 1383.6024\n",
      "Epoch 164/500\n",
      "23/23 [==============================] - 0s 6ms/step - loss: 237.6138 - val_loss: 1384.5769\n",
      "Epoch 165/500\n",
      "23/23 [==============================] - 0s 5ms/step - loss: 237.5968 - val_loss: 1385.4939\n",
      "Epoch 166/500\n",
      "23/23 [==============================] - 0s 5ms/step - loss: 237.5816 - val_loss: 1386.3550\n",
      "Epoch 167/500\n",
      "23/23 [==============================] - 0s 5ms/step - loss: 237.5681 - val_loss: 1387.1641\n",
      "Epoch 168/500\n",
      "23/23 [==============================] - 0s 5ms/step - loss: 237.5560 - val_loss: 1387.9231\n",
      "Epoch 169/500\n",
      "23/23 [==============================] - 0s 6ms/step - loss: 237.5453 - val_loss: 1388.6353\n",
      "Epoch 170/500\n",
      "23/23 [==============================] - 0s 7ms/step - loss: 237.5358 - val_loss: 1389.3042\n",
      "Epoch 171/500\n",
      "23/23 [==============================] - 0s 6ms/step - loss: 237.5273 - val_loss: 1389.9302\n",
      "Epoch 172/500\n",
      "23/23 [==============================] - 0s 6ms/step - loss: 237.5198 - val_loss: 1390.5170\n",
      "Epoch 173/500\n",
      "23/23 [==============================] - 0s 5ms/step - loss: 237.5132 - val_loss: 1391.0663\n",
      "Epoch 174/500\n",
      "23/23 [==============================] - 0s 5ms/step - loss: 237.5074 - val_loss: 1391.5804\n",
      "Epoch 175/500\n",
      "23/23 [==============================] - 0s 6ms/step - loss: 237.5022 - val_loss: 1392.0621\n",
      "Epoch 176/500\n",
      "23/23 [==============================] - 0s 7ms/step - loss: 237.4976 - val_loss: 1392.5118\n",
      "Epoch 177/500\n",
      "23/23 [==============================] - 0s 7ms/step - loss: 237.4936 - val_loss: 1392.9319\n",
      "Epoch 178/500\n",
      "23/23 [==============================] - 0s 18ms/step - loss: 237.4901 - val_loss: 1393.3253\n",
      "Epoch 179/500\n",
      "23/23 [==============================] - 0s 6ms/step - loss: 237.4871 - val_loss: 1393.6915\n",
      "Epoch 180/500\n",
      "23/23 [==============================] - 0s 6ms/step - loss: 237.4846 - val_loss: 1394.0341\n",
      "Epoch 181/500\n",
      "23/23 [==============================] - 0s 6ms/step - loss: 237.4823 - val_loss: 1394.3536\n",
      "Epoch 182/500\n",
      "23/23 [==============================] - 0s 9ms/step - loss: 237.4803 - val_loss: 1394.6516\n",
      "Epoch 183/500\n",
      "23/23 [==============================] - 0s 6ms/step - loss: 237.4787 - val_loss: 1394.9290\n",
      "Epoch 184/500\n",
      "23/23 [==============================] - 0s 5ms/step - loss: 237.4773 - val_loss: 1395.1875\n",
      "Epoch 185/500\n",
      "23/23 [==============================] - 0s 5ms/step - loss: 237.4762 - val_loss: 1395.4287\n",
      "Epoch 186/500\n",
      "23/23 [==============================] - 0s 5ms/step - loss: 237.4753 - val_loss: 1395.6527\n",
      "Epoch 187/500\n",
      "23/23 [==============================] - 0s 5ms/step - loss: 237.4745 - val_loss: 1395.8615\n",
      "Epoch 188/500\n",
      "23/23 [==============================] - 0s 5ms/step - loss: 237.4740 - val_loss: 1396.0558\n",
      "Epoch 189/500\n",
      "23/23 [==============================] - 0s 5ms/step - loss: 237.4736 - val_loss: 1396.2356\n",
      "Epoch 190/500\n",
      "23/23 [==============================] - 0s 6ms/step - loss: 237.4734 - val_loss: 1396.4033\n",
      "Epoch 191/500\n",
      "23/23 [==============================] - 0s 5ms/step - loss: 237.4732 - val_loss: 1396.5582\n",
      "Epoch 192/500\n",
      "23/23 [==============================] - 0s 6ms/step - loss: 237.4732 - val_loss: 1396.7030\n",
      "Epoch 193/500\n",
      "23/23 [==============================] - 0s 6ms/step - loss: 237.4733 - val_loss: 1396.8361\n",
      "Epoch 194/500\n",
      "23/23 [==============================] - 0s 5ms/step - loss: 237.4735 - val_loss: 1396.9609\n",
      "Epoch 195/500\n",
      "23/23 [==============================] - 0s 5ms/step - loss: 237.4738 - val_loss: 1397.0756\n",
      "Epoch 196/500\n",
      "23/23 [==============================] - 0s 5ms/step - loss: 237.4742 - val_loss: 1397.1825\n",
      "Epoch 197/500\n",
      "23/23 [==============================] - 0s 7ms/step - loss: 237.4746 - val_loss: 1397.2816\n",
      "Epoch 198/500\n",
      "23/23 [==============================] - 0s 6ms/step - loss: 237.4750 - val_loss: 1397.3723\n",
      "Epoch 199/500\n",
      "23/23 [==============================] - 0s 6ms/step - loss: 237.4756 - val_loss: 1397.4576\n",
      "Epoch 200/500\n",
      "23/23 [==============================] - 0s 6ms/step - loss: 237.4762 - val_loss: 1397.5349\n",
      "Epoch 201/500\n",
      "23/23 [==============================] - 0s 6ms/step - loss: 237.4768 - val_loss: 1397.6073\n",
      "Epoch 202/500\n",
      "23/23 [==============================] - 0s 6ms/step - loss: 237.4775 - val_loss: 1397.6741\n",
      "Epoch 203/500\n",
      "23/23 [==============================] - 0s 5ms/step - loss: 237.4782 - val_loss: 1397.7357\n",
      "Epoch 204/500\n",
      "23/23 [==============================] - 0s 5ms/step - loss: 237.4789 - val_loss: 1397.7925\n",
      "Epoch 205/500\n",
      "23/23 [==============================] - 0s 5ms/step - loss: 237.4796 - val_loss: 1397.8451\n",
      "Epoch 206/500\n",
      "23/23 [==============================] - 0s 6ms/step - loss: 237.4805 - val_loss: 1397.8934\n",
      "Epoch 207/500\n",
      "23/23 [==============================] - 0s 5ms/step - loss: 237.4812 - val_loss: 1397.9377\n",
      "Epoch 208/500\n",
      "23/23 [==============================] - 0s 5ms/step - loss: 237.4821 - val_loss: 1397.9790\n",
      "Epoch 209/500\n",
      "23/23 [==============================] - 0s 5ms/step - loss: 237.4828 - val_loss: 1398.0164\n",
      "Epoch 210/500\n",
      "23/23 [==============================] - 0s 5ms/step - loss: 237.4837 - val_loss: 1398.0511\n",
      "Epoch 211/500\n",
      "23/23 [==============================] - 0s 10ms/step - loss: 237.4845 - val_loss: 1398.0828\n",
      "Epoch 212/500\n",
      "23/23 [==============================] - 0s 5ms/step - loss: 237.4854 - val_loss: 1398.1123\n",
      "Epoch 213/500\n",
      "23/23 [==============================] - 0s 5ms/step - loss: 237.4863 - val_loss: 1398.1390\n",
      "Epoch 214/500\n",
      "23/23 [==============================] - 0s 4ms/step - loss: 237.4871 - val_loss: 1398.1636\n",
      "Epoch 215/500\n",
      "23/23 [==============================] - 0s 5ms/step - loss: 237.4880 - val_loss: 1398.1857\n",
      "Epoch 216/500\n",
      "23/23 [==============================] - 0s 5ms/step - loss: 237.4889 - val_loss: 1398.2064\n",
      "Epoch 217/500\n",
      "23/23 [==============================] - 0s 5ms/step - loss: 237.4897 - val_loss: 1398.2252\n",
      "Epoch 218/500\n",
      "23/23 [==============================] - 0s 5ms/step - loss: 237.4906 - val_loss: 1398.2426\n",
      "Epoch 219/500\n",
      "23/23 [==============================] - 0s 5ms/step - loss: 237.4915 - val_loss: 1398.2577\n",
      "Epoch 220/500\n",
      "23/23 [==============================] - 0s 5ms/step - loss: 237.4924 - val_loss: 1398.2721\n",
      "Epoch 221/500\n",
      "23/23 [==============================] - 0s 5ms/step - loss: 237.4932 - val_loss: 1398.2848\n",
      "Epoch 222/500\n",
      "23/23 [==============================] - 0s 5ms/step - loss: 237.4941 - val_loss: 1398.2970\n",
      "Epoch 223/500\n",
      "23/23 [==============================] - 0s 5ms/step - loss: 237.4949 - val_loss: 1398.3073\n",
      "Epoch 224/500\n",
      "23/23 [==============================] - 0s 6ms/step - loss: 237.4957 - val_loss: 1398.3169\n",
      "Epoch 225/500\n",
      "23/23 [==============================] - 0s 5ms/step - loss: 237.4966 - val_loss: 1398.3256\n",
      "Epoch 226/500\n",
      "23/23 [==============================] - 0s 5ms/step - loss: 237.4974 - val_loss: 1398.3335\n",
      "Epoch 227/500\n",
      "23/23 [==============================] - 0s 5ms/step - loss: 237.4982 - val_loss: 1398.3406\n",
      "Epoch 228/500\n",
      "23/23 [==============================] - 0s 5ms/step - loss: 237.4990 - val_loss: 1398.3470\n",
      "Epoch 229/500\n",
      "23/23 [==============================] - 0s 5ms/step - loss: 237.4998 - val_loss: 1398.3521\n",
      "Epoch 230/500\n",
      "23/23 [==============================] - 0s 5ms/step - loss: 237.5007 - val_loss: 1398.3573\n",
      "Epoch 231/500\n",
      "23/23 [==============================] - 0s 5ms/step - loss: 237.5014 - val_loss: 1398.3618\n",
      "Epoch 232/500\n",
      "23/23 [==============================] - 0s 5ms/step - loss: 237.5022 - val_loss: 1398.3657\n",
      "Epoch 233/500\n",
      "23/23 [==============================] - 0s 5ms/step - loss: 237.5029 - val_loss: 1398.3688\n",
      "Epoch 234/500\n",
      "23/23 [==============================] - 0s 5ms/step - loss: 237.5037 - val_loss: 1398.3717\n",
      "Epoch 235/500\n",
      "23/23 [==============================] - 0s 5ms/step - loss: 237.5045 - val_loss: 1398.3739\n",
      "Epoch 236/500\n",
      "23/23 [==============================] - 0s 5ms/step - loss: 237.5052 - val_loss: 1398.3766\n",
      "Epoch 237/500\n",
      "23/23 [==============================] - 0s 4ms/step - loss: 237.5059 - val_loss: 1398.3772\n",
      "Epoch 238/500\n",
      "23/23 [==============================] - 0s 5ms/step - loss: 237.5066 - val_loss: 1398.3782\n",
      "Epoch 239/500\n",
      "23/23 [==============================] - 0s 5ms/step - loss: 237.5073 - val_loss: 1398.3770\n",
      "Epoch 240/500\n",
      "23/23 [==============================] - 0s 13ms/step - loss: 237.5080 - val_loss: 1398.2750\n",
      "Epoch 241/500\n",
      "23/23 [==============================] - 0s 6ms/step - loss: 237.5057 - val_loss: 1398.4514\n",
      "Epoch 242/500\n",
      "23/23 [==============================] - 0s 7ms/step - loss: 237.5094 - val_loss: 1398.4524\n",
      "Epoch 243/500\n",
      "23/23 [==============================] - 0s 6ms/step - loss: 237.5100 - val_loss: 1398.4526\n",
      "Epoch 244/500\n",
      "23/23 [==============================] - 0s 5ms/step - loss: 237.5107 - val_loss: 1398.4536\n",
      "Epoch 245/500\n",
      "23/23 [==============================] - 0s 6ms/step - loss: 237.5113 - val_loss: 1398.4540\n",
      "Epoch 246/500\n",
      "23/23 [==============================] - 0s 8ms/step - loss: 237.5119 - val_loss: 1398.4540\n",
      "Epoch 247/500\n",
      "23/23 [==============================] - 0s 6ms/step - loss: 237.5125 - val_loss: 1398.4542\n",
      "Epoch 248/500\n",
      "23/23 [==============================] - 0s 5ms/step - loss: 237.5132 - val_loss: 1398.4542\n",
      "Epoch 249/500\n",
      "23/23 [==============================] - 0s 5ms/step - loss: 237.5138 - val_loss: 1398.4542\n",
      "Epoch 250/500\n",
      "23/23 [==============================] - 0s 6ms/step - loss: 237.5143 - val_loss: 1398.4542\n",
      "Epoch 251/500\n",
      "23/23 [==============================] - 0s 5ms/step - loss: 237.5150 - val_loss: 1398.4539\n",
      "Epoch 252/500\n",
      "23/23 [==============================] - 0s 5ms/step - loss: 237.5155 - val_loss: 1398.4536\n",
      "Epoch 253/500\n",
      "23/23 [==============================] - 0s 6ms/step - loss: 237.5160 - val_loss: 1398.4532\n",
      "Epoch 254/500\n",
      "23/23 [==============================] - 0s 7ms/step - loss: 237.5166 - val_loss: 1398.4530\n",
      "Epoch 255/500\n",
      "23/23 [==============================] - 0s 6ms/step - loss: 237.5171 - val_loss: 1398.4526\n",
      "Epoch 256/500\n",
      "23/23 [==============================] - 0s 6ms/step - loss: 237.5176 - val_loss: 1398.4518\n",
      "Epoch 257/500\n",
      "23/23 [==============================] - 0s 6ms/step - loss: 237.5181 - val_loss: 1398.4509\n",
      "Epoch 258/500\n",
      "23/23 [==============================] - 0s 5ms/step - loss: 237.5186 - val_loss: 1398.4502\n",
      "Epoch 259/500\n",
      "23/23 [==============================] - 0s 5ms/step - loss: 237.5191 - val_loss: 1398.4497\n",
      "Epoch 260/500\n",
      "23/23 [==============================] - 0s 5ms/step - loss: 237.5196 - val_loss: 1398.4487\n",
      "Epoch 261/500\n",
      "23/23 [==============================] - 0s 5ms/step - loss: 237.5201 - val_loss: 1398.4481\n",
      "Epoch 262/500\n",
      "23/23 [==============================] - 0s 5ms/step - loss: 237.5206 - val_loss: 1398.4467\n",
      "Epoch 263/500\n",
      "23/23 [==============================] - 0s 6ms/step - loss: 237.5210 - val_loss: 1398.4458\n",
      "Epoch 264/500\n",
      "23/23 [==============================] - 0s 6ms/step - loss: 237.5215 - val_loss: 1398.4452\n",
      "Epoch 265/500\n",
      "23/23 [==============================] - 0s 8ms/step - loss: 237.5219 - val_loss: 1398.4442\n",
      "Epoch 266/500\n",
      "23/23 [==============================] - 0s 7ms/step - loss: 237.5223 - val_loss: 1398.4431\n",
      "Epoch 267/500\n",
      "23/23 [==============================] - 0s 8ms/step - loss: 237.5228 - val_loss: 1398.4427\n",
      "Epoch 268/500\n",
      "23/23 [==============================] - 0s 7ms/step - loss: 237.5232 - val_loss: 1398.4421\n",
      "Epoch 269/500\n",
      "23/23 [==============================] - 0s 10ms/step - loss: 237.5236 - val_loss: 1398.4409\n",
      "Epoch 270/500\n",
      "23/23 [==============================] - 0s 13ms/step - loss: 237.5240 - val_loss: 1398.4402\n",
      "Epoch 271/500\n",
      "23/23 [==============================] - 0s 8ms/step - loss: 237.5244 - val_loss: 1398.4395\n",
      "Epoch 272/500\n",
      "23/23 [==============================] - 0s 8ms/step - loss: 237.5248 - val_loss: 1398.4388\n",
      "Epoch 273/500\n",
      "23/23 [==============================] - 0s 8ms/step - loss: 237.5251 - val_loss: 1398.4376\n",
      "Epoch 274/500\n",
      "23/23 [==============================] - 0s 7ms/step - loss: 237.5255 - val_loss: 1398.4364\n",
      "Epoch 275/500\n",
      "23/23 [==============================] - 0s 6ms/step - loss: 237.5258 - val_loss: 1398.4358\n",
      "Epoch 276/500\n",
      "23/23 [==============================] - 0s 6ms/step - loss: 237.5262 - val_loss: 1398.4349\n",
      "Epoch 277/500\n",
      "23/23 [==============================] - 0s 7ms/step - loss: 237.5266 - val_loss: 1398.4341\n",
      "Epoch 278/500\n",
      "23/23 [==============================] - 0s 9ms/step - loss: 237.5269 - val_loss: 1398.4326\n",
      "Epoch 279/500\n",
      "23/23 [==============================] - 0s 8ms/step - loss: 237.5272 - val_loss: 1398.4318\n",
      "Epoch 280/500\n",
      "23/23 [==============================] - 0s 6ms/step - loss: 237.5276 - val_loss: 1398.4308\n",
      "Epoch 281/500\n",
      "23/23 [==============================] - 0s 7ms/step - loss: 237.5278 - val_loss: 1398.4302\n",
      "Epoch 282/500\n",
      "23/23 [==============================] - 0s 7ms/step - loss: 237.5282 - val_loss: 1398.4296\n",
      "Epoch 283/500\n",
      "23/23 [==============================] - 0s 7ms/step - loss: 237.5285 - val_loss: 1398.4279\n",
      "Epoch 284/500\n",
      "23/23 [==============================] - 0s 7ms/step - loss: 237.5288 - val_loss: 1398.4271\n",
      "Epoch 285/500\n",
      "23/23 [==============================] - 0s 9ms/step - loss: 237.5291 - val_loss: 1398.4260\n",
      "Epoch 286/500\n",
      "23/23 [==============================] - 0s 8ms/step - loss: 237.5294 - val_loss: 1398.4257\n",
      "Epoch 287/500\n",
      "23/23 [==============================] - 0s 7ms/step - loss: 237.5296 - val_loss: 1398.4248\n",
      "Epoch 288/500\n",
      "23/23 [==============================] - 0s 8ms/step - loss: 237.5299 - val_loss: 1398.4240\n",
      "Epoch 289/500\n",
      "23/23 [==============================] - 0s 7ms/step - loss: 237.5302 - val_loss: 1398.4230\n",
      "Epoch 290/500\n",
      "23/23 [==============================] - 0s 7ms/step - loss: 237.5305 - val_loss: 1398.4220\n",
      "Epoch 291/500\n",
      "23/23 [==============================] - 0s 7ms/step - loss: 237.5307 - val_loss: 1398.4207\n",
      "Epoch 292/500\n",
      "23/23 [==============================] - 0s 12ms/step - loss: 237.5310 - val_loss: 1398.4199\n",
      "Epoch 293/500\n",
      "23/23 [==============================] - 0s 6ms/step - loss: 237.5312 - val_loss: 1398.4194\n",
      "Epoch 294/500\n",
      "23/23 [==============================] - 0s 6ms/step - loss: 237.5314 - val_loss: 1398.4191\n",
      "Epoch 295/500\n",
      "23/23 [==============================] - 0s 5ms/step - loss: 237.5317 - val_loss: 1398.4181\n",
      "Epoch 296/500\n",
      "23/23 [==============================] - 0s 5ms/step - loss: 237.5319 - val_loss: 1398.4174\n",
      "Epoch 297/500\n",
      "23/23 [==============================] - 0s 5ms/step - loss: 237.5321 - val_loss: 1398.4160\n",
      "Epoch 298/500\n",
      "23/23 [==============================] - 0s 5ms/step - loss: 237.5323 - val_loss: 1398.4149\n",
      "Epoch 299/500\n",
      "23/23 [==============================] - 0s 4ms/step - loss: 237.5326 - val_loss: 1398.4135\n",
      "Epoch 300/500\n",
      "23/23 [==============================] - 0s 4ms/step - loss: 237.5328 - val_loss: 1398.4116\n",
      "Epoch 301/500\n",
      "23/23 [==============================] - 0s 5ms/step - loss: 237.5330 - val_loss: 1398.3754\n",
      "Epoch 302/500\n",
      "23/23 [==============================] - 0s 5ms/step - loss: 237.4948 - val_loss: 1397.5659\n",
      "Epoch 303/500\n",
      "23/23 [==============================] - 0s 5ms/step - loss: 237.6462 - val_loss: 1397.9929\n",
      "Epoch 304/500\n",
      "23/23 [==============================] - 0s 5ms/step - loss: 237.5907 - val_loss: 1398.0710\n",
      "Epoch 305/500\n",
      "23/23 [==============================] - 0s 5ms/step - loss: 237.5784 - val_loss: 1398.1123\n",
      "Epoch 306/500\n",
      "23/23 [==============================] - 0s 5ms/step - loss: 237.5723 - val_loss: 1398.1433\n",
      "Epoch 307/500\n",
      "23/23 [==============================] - 0s 6ms/step - loss: 237.5683 - val_loss: 1398.1688\n",
      "Epoch 308/500\n",
      "23/23 [==============================] - 0s 6ms/step - loss: 237.5656 - val_loss: 1398.1897\n",
      "Epoch 309/500\n",
      "23/23 [==============================] - 0s 5ms/step - loss: 237.5634 - val_loss: 1398.2078\n",
      "Epoch 310/500\n",
      "23/23 [==============================] - 0s 5ms/step - loss: 237.5618 - val_loss: 1398.2236\n",
      "Epoch 311/500\n",
      "23/23 [==============================] - 0s 5ms/step - loss: 237.5604 - val_loss: 1398.2378\n",
      "Epoch 312/500\n",
      "23/23 [==============================] - 0s 6ms/step - loss: 237.5592 - val_loss: 1398.2500\n",
      "Epoch 313/500\n",
      "23/23 [==============================] - 0s 5ms/step - loss: 237.5583 - val_loss: 1398.2607\n",
      "Epoch 314/500\n",
      "23/23 [==============================] - 0s 5ms/step - loss: 237.5575 - val_loss: 1398.2700\n",
      "Epoch 315/500\n",
      "23/23 [==============================] - 0s 6ms/step - loss: 237.5569 - val_loss: 1398.2793\n",
      "Epoch 316/500\n",
      "23/23 [==============================] - 0s 7ms/step - loss: 237.5563 - val_loss: 1398.2869\n",
      "Epoch 317/500\n",
      "23/23 [==============================] - 0s 6ms/step - loss: 237.5558 - val_loss: 1398.2935\n",
      "Epoch 318/500\n",
      "23/23 [==============================] - 0s 11ms/step - loss: 237.5554 - val_loss: 1398.3000\n",
      "Epoch 319/500\n",
      "23/23 [==============================] - 0s 8ms/step - loss: 237.5549 - val_loss: 1398.3053\n",
      "Epoch 320/500\n",
      "23/23 [==============================] - 0s 6ms/step - loss: 237.5546 - val_loss: 1398.3108\n",
      "Epoch 321/500\n",
      "23/23 [==============================] - 0s 6ms/step - loss: 237.5543 - val_loss: 1398.3157\n",
      "Epoch 322/500\n",
      "23/23 [==============================] - 0s 6ms/step - loss: 237.5540 - val_loss: 1398.3196\n",
      "Epoch 323/500\n",
      "23/23 [==============================] - 0s 6ms/step - loss: 237.5538 - val_loss: 1398.3229\n",
      "Epoch 324/500\n",
      "23/23 [==============================] - 0s 6ms/step - loss: 237.5536 - val_loss: 1398.3268\n",
      "Epoch 325/500\n",
      "23/23 [==============================] - 0s 6ms/step - loss: 237.5534 - val_loss: 1398.3292\n",
      "Epoch 326/500\n",
      "23/23 [==============================] - 0s 6ms/step - loss: 237.5532 - val_loss: 1398.3317\n",
      "Epoch 327/500\n",
      "23/23 [==============================] - 0s 6ms/step - loss: 237.5530 - val_loss: 1398.3340\n",
      "Epoch 328/500\n",
      "23/23 [==============================] - 0s 7ms/step - loss: 237.5529 - val_loss: 1398.3361\n",
      "Epoch 329/500\n",
      "23/23 [==============================] - 0s 7ms/step - loss: 237.5527 - val_loss: 1398.3376\n",
      "Epoch 330/500\n",
      "23/23 [==============================] - 0s 6ms/step - loss: 237.5526 - val_loss: 1398.3385\n",
      "Epoch 331/500\n",
      "23/23 [==============================] - 0s 5ms/step - loss: 237.5526 - val_loss: 1398.3403\n",
      "Epoch 332/500\n",
      "23/23 [==============================] - 0s 6ms/step - loss: 237.5525 - val_loss: 1398.3425\n",
      "Epoch 333/500\n",
      "23/23 [==============================] - 0s 6ms/step - loss: 237.5524 - val_loss: 1398.3436\n",
      "Epoch 334/500\n",
      "23/23 [==============================] - 0s 5ms/step - loss: 237.5523 - val_loss: 1398.3448\n",
      "Epoch 335/500\n",
      "23/23 [==============================] - 0s 4ms/step - loss: 237.5523 - val_loss: 1398.3455\n",
      "Epoch 336/500\n",
      "23/23 [==============================] - 0s 5ms/step - loss: 237.5523 - val_loss: 1398.3464\n",
      "Epoch 337/500\n",
      "23/23 [==============================] - 0s 5ms/step - loss: 237.5522 - val_loss: 1398.3467\n",
      "Epoch 338/500\n",
      "23/23 [==============================] - 0s 5ms/step - loss: 237.5521 - val_loss: 1398.3472\n",
      "Epoch 339/500\n",
      "23/23 [==============================] - 0s 5ms/step - loss: 237.5521 - val_loss: 1398.3475\n",
      "Epoch 340/500\n",
      "23/23 [==============================] - 0s 5ms/step - loss: 237.5520 - val_loss: 1398.3475\n",
      "Epoch 341/500\n",
      "23/23 [==============================] - 0s 8ms/step - loss: 237.5520 - val_loss: 1398.3479\n",
      "Epoch 342/500\n",
      "23/23 [==============================] - 0s 8ms/step - loss: 237.5519 - val_loss: 1398.3474\n",
      "Epoch 343/500\n",
      "23/23 [==============================] - 0s 6ms/step - loss: 237.5520 - val_loss: 1398.3478\n",
      "Epoch 344/500\n",
      "23/23 [==============================] - 0s 5ms/step - loss: 237.5519 - val_loss: 1398.3479\n",
      "Epoch 345/500\n",
      "23/23 [==============================] - 0s 5ms/step - loss: 237.5519 - val_loss: 1398.3477\n",
      "Epoch 346/500\n",
      "23/23 [==============================] - 0s 5ms/step - loss: 237.5519 - val_loss: 1398.3477\n",
      "Epoch 347/500\n",
      "23/23 [==============================] - 0s 5ms/step - loss: 237.5518 - val_loss: 1398.3475\n",
      "Epoch 348/500\n",
      "23/23 [==============================] - 0s 5ms/step - loss: 237.5518 - val_loss: 1398.3472\n",
      "Epoch 349/500\n",
      "23/23 [==============================] - 0s 5ms/step - loss: 237.5519 - val_loss: 1398.3472\n",
      "Epoch 350/500\n",
      "23/23 [==============================] - 0s 5ms/step - loss: 237.5519 - val_loss: 1398.3467\n",
      "Epoch 351/500\n",
      "23/23 [==============================] - 0s 5ms/step - loss: 237.5518 - val_loss: 1398.3466\n",
      "Epoch 352/500\n",
      "23/23 [==============================] - 0s 5ms/step - loss: 237.5519 - val_loss: 1398.3466\n",
      "Epoch 353/500\n",
      "23/23 [==============================] - 0s 5ms/step - loss: 237.5518 - val_loss: 1398.3466\n",
      "Epoch 354/500\n",
      "23/23 [==============================] - 0s 5ms/step - loss: 237.5518 - val_loss: 1398.3461\n",
      "Epoch 355/500\n",
      "23/23 [==============================] - 0s 5ms/step - loss: 237.5518 - val_loss: 1398.3456\n",
      "Epoch 356/500\n",
      "23/23 [==============================] - 0s 6ms/step - loss: 237.5518 - val_loss: 1398.3450\n",
      "Epoch 357/500\n",
      "23/23 [==============================] - 0s 7ms/step - loss: 237.5518 - val_loss: 1398.3442\n",
      "Epoch 358/500\n",
      "23/23 [==============================] - 0s 7ms/step - loss: 237.5518 - val_loss: 1398.3435\n",
      "Epoch 359/500\n",
      "23/23 [==============================] - 0s 7ms/step - loss: 237.5518 - val_loss: 1398.3429\n",
      "Epoch 360/500\n",
      "23/23 [==============================] - 0s 6ms/step - loss: 237.5518 - val_loss: 1398.3422\n",
      "Epoch 361/500\n",
      "23/23 [==============================] - 0s 6ms/step - loss: 237.5518 - val_loss: 1398.3416\n",
      "Epoch 362/500\n",
      "23/23 [==============================] - 0s 5ms/step - loss: 237.5518 - val_loss: 1398.3409\n",
      "Epoch 363/500\n",
      "23/23 [==============================] - 0s 5ms/step - loss: 237.5519 - val_loss: 1398.3406\n",
      "Epoch 364/500\n",
      "23/23 [==============================] - 0s 5ms/step - loss: 237.5519 - val_loss: 1398.3398\n",
      "Epoch 365/500\n",
      "23/23 [==============================] - 0s 5ms/step - loss: 237.5519 - val_loss: 1398.3391\n",
      "Epoch 366/500\n",
      "23/23 [==============================] - 0s 5ms/step - loss: 237.5519 - val_loss: 1398.3381\n",
      "Epoch 367/500\n",
      "23/23 [==============================] - 0s 5ms/step - loss: 237.5519 - val_loss: 1398.3373\n",
      "Epoch 368/500\n",
      "23/23 [==============================] - 0s 5ms/step - loss: 237.5519 - val_loss: 1398.3367\n",
      "Epoch 369/500\n",
      "23/23 [==============================] - 0s 11ms/step - loss: 237.5519 - val_loss: 1398.3361\n",
      "Epoch 370/500\n",
      "23/23 [==============================] - 0s 6ms/step - loss: 237.5519 - val_loss: 1398.3353\n",
      "Epoch 371/500\n",
      "23/23 [==============================] - 0s 5ms/step - loss: 237.5520 - val_loss: 1398.3347\n",
      "Epoch 372/500\n",
      "23/23 [==============================] - 0s 6ms/step - loss: 237.5519 - val_loss: 1398.3340\n",
      "Epoch 373/500\n",
      "23/23 [==============================] - 0s 5ms/step - loss: 237.5519 - val_loss: 1398.3331\n",
      "Epoch 374/500\n",
      "23/23 [==============================] - 0s 5ms/step - loss: 237.5520 - val_loss: 1398.3326\n",
      "Epoch 375/500\n",
      "23/23 [==============================] - 0s 5ms/step - loss: 237.5519 - val_loss: 1398.3315\n",
      "Epoch 376/500\n",
      "23/23 [==============================] - 0s 5ms/step - loss: 237.5520 - val_loss: 1398.3309\n",
      "Epoch 377/500\n",
      "23/23 [==============================] - 0s 5ms/step - loss: 237.5519 - val_loss: 1398.3301\n",
      "Epoch 378/500\n",
      "23/23 [==============================] - 0s 5ms/step - loss: 237.5519 - val_loss: 1398.3293\n",
      "Epoch 379/500\n",
      "23/23 [==============================] - 0s 5ms/step - loss: 237.5520 - val_loss: 1398.3284\n",
      "Epoch 380/500\n",
      "23/23 [==============================] - 0s 5ms/step - loss: 237.5520 - val_loss: 1398.3276\n",
      "Epoch 381/500\n",
      "23/23 [==============================] - 0s 5ms/step - loss: 237.5520 - val_loss: 1398.3263\n",
      "Epoch 382/500\n",
      "23/23 [==============================] - 0s 5ms/step - loss: 237.5520 - val_loss: 1398.3253\n",
      "Epoch 383/500\n",
      "23/23 [==============================] - 0s 5ms/step - loss: 237.5520 - val_loss: 1398.3245\n",
      "Epoch 384/500\n",
      "23/23 [==============================] - 0s 5ms/step - loss: 237.5520 - val_loss: 1398.3235\n",
      "Epoch 385/500\n",
      "23/23 [==============================] - 0s 5ms/step - loss: 237.5520 - val_loss: 1398.3225\n",
      "Epoch 386/500\n",
      "23/23 [==============================] - 0s 5ms/step - loss: 237.5520 - val_loss: 1398.3215\n",
      "Epoch 387/500\n",
      "23/23 [==============================] - 0s 5ms/step - loss: 237.5520 - val_loss: 1398.3203\n",
      "Epoch 388/500\n",
      "23/23 [==============================] - 0s 5ms/step - loss: 237.5520 - val_loss: 1398.3192\n",
      "Epoch 389/500\n",
      "23/23 [==============================] - 0s 5ms/step - loss: 237.5520 - val_loss: 1398.3181\n",
      "Epoch 390/500\n",
      "23/23 [==============================] - 0s 5ms/step - loss: 237.5520 - val_loss: 1398.3169\n",
      "Epoch 391/500\n",
      "23/23 [==============================] - 0s 5ms/step - loss: 237.5520 - val_loss: 1398.3158\n",
      "Epoch 392/500\n",
      "23/23 [==============================] - 0s 5ms/step - loss: 237.5521 - val_loss: 1398.3146\n",
      "Epoch 393/500\n",
      "23/23 [==============================] - 0s 5ms/step - loss: 237.5521 - val_loss: 1398.3140\n",
      "Epoch 394/500\n",
      "23/23 [==============================] - 0s 5ms/step - loss: 237.5521 - val_loss: 1398.3131\n",
      "Epoch 395/500\n",
      "23/23 [==============================] - 0s 5ms/step - loss: 237.5521 - val_loss: 1398.3120\n",
      "Epoch 396/500\n",
      "23/23 [==============================] - 0s 5ms/step - loss: 237.5521 - val_loss: 1398.3103\n",
      "Epoch 397/500\n",
      "23/23 [==============================] - 0s 11ms/step - loss: 237.5521 - val_loss: 1398.3088\n",
      "Epoch 398/500\n",
      "23/23 [==============================] - 0s 6ms/step - loss: 237.5521 - val_loss: 1398.3073\n",
      "Epoch 399/500\n",
      "23/23 [==============================] - 0s 5ms/step - loss: 237.5521 - val_loss: 1398.3054\n",
      "Epoch 400/500\n",
      "23/23 [==============================] - 0s 5ms/step - loss: 237.5521 - val_loss: 1398.3038\n",
      "Epoch 401/500\n",
      "23/23 [==============================] - 0s 5ms/step - loss: 237.5521 - val_loss: 1398.3021\n",
      "Epoch 402/500\n",
      "23/23 [==============================] - 0s 5ms/step - loss: 237.5521 - val_loss: 1398.3007\n",
      "Epoch 403/500\n",
      "23/23 [==============================] - 0s 5ms/step - loss: 237.5521 - val_loss: 1398.2990\n",
      "Epoch 404/500\n",
      "23/23 [==============================] - 0s 6ms/step - loss: 237.5522 - val_loss: 1398.2972\n",
      "Epoch 405/500\n",
      "23/23 [==============================] - 0s 5ms/step - loss: 237.5522 - val_loss: 1398.2958\n",
      "Epoch 406/500\n",
      "23/23 [==============================] - 0s 5ms/step - loss: 237.5522 - val_loss: 1398.2944\n",
      "Epoch 407/500\n",
      "23/23 [==============================] - 0s 5ms/step - loss: 237.5522 - val_loss: 1398.2931\n",
      "Epoch 408/500\n",
      "23/23 [==============================] - 0s 5ms/step - loss: 237.5522 - val_loss: 1398.2913\n",
      "Epoch 409/500\n",
      "23/23 [==============================] - 0s 5ms/step - loss: 237.5522 - val_loss: 1398.2893\n",
      "Epoch 410/500\n",
      "23/23 [==============================] - 0s 5ms/step - loss: 237.5522 - val_loss: 1398.2876\n",
      "Epoch 411/500\n",
      "23/23 [==============================] - 0s 5ms/step - loss: 237.5522 - val_loss: 1398.2855\n",
      "Epoch 412/500\n",
      "23/23 [==============================] - 0s 5ms/step - loss: 237.5522 - val_loss: 1398.2838\n",
      "Epoch 413/500\n",
      "23/23 [==============================] - 0s 5ms/step - loss: 237.5522 - val_loss: 1398.2820\n",
      "Epoch 414/500\n",
      "23/23 [==============================] - 0s 5ms/step - loss: 237.5522 - val_loss: 1398.2803\n",
      "Epoch 415/500\n",
      "23/23 [==============================] - 0s 5ms/step - loss: 237.5522 - val_loss: 1398.2783\n",
      "Epoch 416/500\n",
      "23/23 [==============================] - 0s 5ms/step - loss: 237.5522 - val_loss: 1398.2762\n",
      "Epoch 417/500\n",
      "23/23 [==============================] - 0s 4ms/step - loss: 237.5522 - val_loss: 1398.2743\n",
      "Epoch 418/500\n",
      "23/23 [==============================] - 0s 5ms/step - loss: 237.5522 - val_loss: 1398.2723\n",
      "Epoch 419/500\n",
      "23/23 [==============================] - 0s 5ms/step - loss: 237.5522 - val_loss: 1398.2703\n",
      "Epoch 420/500\n",
      "23/23 [==============================] - 0s 5ms/step - loss: 237.5523 - val_loss: 1398.2682\n",
      "Epoch 421/500\n",
      "23/23 [==============================] - 0s 5ms/step - loss: 237.5523 - val_loss: 1398.2661\n",
      "Epoch 422/500\n",
      "23/23 [==============================] - 0s 5ms/step - loss: 237.5523 - val_loss: 1398.2644\n",
      "Epoch 423/500\n",
      "23/23 [==============================] - 0s 9ms/step - loss: 237.5523 - val_loss: 1398.2625\n",
      "Epoch 424/500\n",
      "23/23 [==============================] - 0s 6ms/step - loss: 237.5523 - val_loss: 1398.2604\n",
      "Epoch 425/500\n",
      "23/23 [==============================] - 0s 6ms/step - loss: 237.5523 - val_loss: 1398.2585\n",
      "Epoch 426/500\n",
      "23/23 [==============================] - 0s 5ms/step - loss: 237.5523 - val_loss: 1398.2560\n",
      "Epoch 427/500\n",
      "23/23 [==============================] - 0s 5ms/step - loss: 237.5523 - val_loss: 1398.2537\n",
      "Epoch 428/500\n",
      "23/23 [==============================] - 0s 5ms/step - loss: 237.5523 - val_loss: 1398.2511\n",
      "Epoch 429/500\n",
      "23/23 [==============================] - 0s 5ms/step - loss: 237.5523 - val_loss: 1398.2484\n",
      "Epoch 430/500\n",
      "23/23 [==============================] - 0s 5ms/step - loss: 237.5523 - val_loss: 1398.2458\n",
      "Epoch 431/500\n",
      "23/23 [==============================] - 0s 5ms/step - loss: 237.5523 - val_loss: 1398.2429\n",
      "Epoch 432/500\n",
      "23/23 [==============================] - 0s 5ms/step - loss: 237.5523 - val_loss: 1398.2401\n",
      "Epoch 433/500\n",
      "23/23 [==============================] - 0s 5ms/step - loss: 237.5523 - val_loss: 1398.2369\n",
      "Epoch 434/500\n",
      "23/23 [==============================] - 0s 5ms/step - loss: 237.5523 - val_loss: 1398.2341\n",
      "Epoch 435/500\n",
      "23/23 [==============================] - 0s 5ms/step - loss: 237.5523 - val_loss: 1398.2311\n",
      "Epoch 436/500\n",
      "23/23 [==============================] - 0s 5ms/step - loss: 237.5523 - val_loss: 1398.2279\n",
      "Epoch 437/500\n",
      "23/23 [==============================] - 0s 5ms/step - loss: 237.5523 - val_loss: 1398.2249\n",
      "Epoch 438/500\n",
      "23/23 [==============================] - 0s 5ms/step - loss: 237.5523 - val_loss: 1398.2218\n",
      "Epoch 439/500\n",
      "23/23 [==============================] - 0s 5ms/step - loss: 237.5524 - val_loss: 1398.2189\n",
      "Epoch 440/500\n",
      "23/23 [==============================] - 0s 5ms/step - loss: 237.5524 - val_loss: 1398.2157\n",
      "Epoch 441/500\n",
      "23/23 [==============================] - 0s 5ms/step - loss: 237.5524 - val_loss: 1398.2123\n",
      "Epoch 442/500\n",
      "23/23 [==============================] - 0s 5ms/step - loss: 237.5524 - val_loss: 1398.2089\n",
      "Epoch 443/500\n",
      "23/23 [==============================] - 0s 5ms/step - loss: 237.5524 - val_loss: 1398.2053\n",
      "Epoch 444/500\n",
      "23/23 [==============================] - 0s 5ms/step - loss: 237.5523 - val_loss: 1398.2013\n",
      "Epoch 445/500\n",
      "23/23 [==============================] - 0s 5ms/step - loss: 237.5523 - val_loss: 1398.1974\n",
      "Epoch 446/500\n",
      "23/23 [==============================] - 0s 11ms/step - loss: 237.5523 - val_loss: 1398.1934\n",
      "Epoch 447/500\n",
      "23/23 [==============================] - 0s 6ms/step - loss: 237.5524 - val_loss: 1398.1892\n",
      "Epoch 448/500\n",
      "23/23 [==============================] - 0s 5ms/step - loss: 237.5524 - val_loss: 1398.1849\n",
      "Epoch 449/500\n",
      "23/23 [==============================] - 0s 9ms/step - loss: 237.5524 - val_loss: 1398.1808\n",
      "Epoch 450/500\n",
      "23/23 [==============================] - 0s 6ms/step - loss: 237.5524 - val_loss: 1398.1760\n",
      "Epoch 451/500\n",
      "23/23 [==============================] - 0s 5ms/step - loss: 237.5524 - val_loss: 1398.1715\n",
      "Epoch 452/500\n",
      "23/23 [==============================] - 0s 5ms/step - loss: 237.5524 - val_loss: 1398.1672\n",
      "Epoch 453/500\n",
      "23/23 [==============================] - 0s 5ms/step - loss: 237.5524 - val_loss: 1398.1625\n",
      "Epoch 454/500\n",
      "23/23 [==============================] - 0s 5ms/step - loss: 237.5524 - val_loss: 1398.1573\n",
      "Epoch 455/500\n",
      "23/23 [==============================] - 0s 5ms/step - loss: 237.5524 - val_loss: 1398.1525\n",
      "Epoch 456/500\n",
      "23/23 [==============================] - 0s 5ms/step - loss: 237.5523 - val_loss: 1398.1471\n",
      "Epoch 457/500\n",
      "23/23 [==============================] - 0s 6ms/step - loss: 237.5523 - val_loss: 1398.1414\n",
      "Epoch 458/500\n",
      "23/23 [==============================] - 0s 5ms/step - loss: 237.5524 - val_loss: 1398.1355\n",
      "Epoch 459/500\n",
      "23/23 [==============================] - 0s 6ms/step - loss: 237.5524 - val_loss: 1398.1294\n",
      "Epoch 460/500\n",
      "23/23 [==============================] - 0s 5ms/step - loss: 237.5524 - val_loss: 1398.1232\n",
      "Epoch 461/500\n",
      "23/23 [==============================] - 0s 6ms/step - loss: 237.5525 - val_loss: 1398.1168\n",
      "Epoch 462/500\n",
      "23/23 [==============================] - 0s 5ms/step - loss: 237.5524 - val_loss: 1398.1101\n",
      "Epoch 463/500\n",
      "23/23 [==============================] - 0s 5ms/step - loss: 237.5524 - val_loss: 1398.1033\n",
      "Epoch 464/500\n",
      "23/23 [==============================] - 0s 5ms/step - loss: 237.5524 - val_loss: 1398.0957\n",
      "Epoch 465/500\n",
      "23/23 [==============================] - 0s 5ms/step - loss: 237.5524 - val_loss: 1398.0879\n",
      "Epoch 466/500\n",
      "23/23 [==============================] - 0s 5ms/step - loss: 237.5524 - val_loss: 1398.0791\n",
      "Epoch 467/500\n",
      "23/23 [==============================] - 0s 5ms/step - loss: 237.5524 - val_loss: 1398.0702\n",
      "Epoch 468/500\n",
      "23/23 [==============================] - 0s 5ms/step - loss: 237.5524 - val_loss: 1398.0599\n",
      "Epoch 469/500\n",
      "23/23 [==============================] - 0s 5ms/step - loss: 237.5524 - val_loss: 1398.0482\n",
      "Epoch 470/500\n",
      "23/23 [==============================] - 0s 11ms/step - loss: 237.5524 - val_loss: 1398.0332\n",
      "Epoch 471/500\n",
      "23/23 [==============================] - 0s 6ms/step - loss: 237.5524 - val_loss: 1398.0059\n",
      "Epoch 472/500\n",
      "23/23 [==============================] - 0s 6ms/step - loss: 237.5524 - val_loss: 1397.7089\n",
      "Epoch 473/500\n",
      "23/23 [==============================] - 0s 5ms/step - loss: 237.4574 - val_loss: 1380.0784\n",
      "Epoch 474/500\n",
      "23/23 [==============================] - 0s 6ms/step - loss: 237.7663 - val_loss: 1348.5138\n",
      "Epoch 475/500\n",
      "23/23 [==============================] - 0s 6ms/step - loss: 239.3393 - val_loss: 1353.0548\n",
      "Epoch 476/500\n",
      "23/23 [==============================] - 0s 5ms/step - loss: 239.0985 - val_loss: 1357.3855\n",
      "Epoch 477/500\n",
      "23/23 [==============================] - 0s 5ms/step - loss: 238.8764 - val_loss: 1361.3634\n",
      "Epoch 478/500\n",
      "23/23 [==============================] - 0s 5ms/step - loss: 238.6868 - val_loss: 1365.0016\n",
      "Epoch 479/500\n",
      "23/23 [==============================] - 0s 5ms/step - loss: 238.5259 - val_loss: 1368.3280\n",
      "Epoch 480/500\n",
      "23/23 [==============================] - 0s 5ms/step - loss: 238.3891 - val_loss: 1371.3663\n",
      "Epoch 481/500\n",
      "23/23 [==============================] - 0s 5ms/step - loss: 238.2731 - val_loss: 1374.1426\n",
      "Epoch 482/500\n",
      "23/23 [==============================] - 0s 5ms/step - loss: 238.1743 - val_loss: 1376.6780\n",
      "Epoch 483/500\n",
      "23/23 [==============================] - 0s 5ms/step - loss: 238.0900 - val_loss: 1378.9921\n",
      "Epoch 484/500\n",
      "23/23 [==============================] - 0s 5ms/step - loss: 238.0181 - val_loss: 1381.1063\n",
      "Epoch 485/500\n",
      "23/23 [==============================] - 0s 5ms/step - loss: 237.9563 - val_loss: 1383.0358\n",
      "Epoch 486/500\n",
      "23/23 [==============================] - 0s 5ms/step - loss: 237.9033 - val_loss: 1384.7958\n",
      "Epoch 487/500\n",
      "23/23 [==============================] - 0s 5ms/step - loss: 237.8579 - val_loss: 1386.4022\n",
      "Epoch 488/500\n",
      "23/23 [==============================] - 0s 5ms/step - loss: 237.8187 - val_loss: 1387.8679\n",
      "Epoch 489/500\n",
      "23/23 [==============================] - 0s 5ms/step - loss: 237.7848 - val_loss: 1389.2048\n",
      "Epoch 490/500\n",
      "23/23 [==============================] - 0s 5ms/step - loss: 237.7556 - val_loss: 1390.4247\n",
      "Epoch 491/500\n",
      "23/23 [==============================] - 0s 5ms/step - loss: 237.7302 - val_loss: 1391.5371\n",
      "Epoch 492/500\n",
      "23/23 [==============================] - 0s 10ms/step - loss: 237.7082 - val_loss: 1392.5515\n",
      "Epoch 493/500\n",
      "23/23 [==============================] - 0s 5ms/step - loss: 237.6890 - val_loss: 1393.4763\n",
      "Epoch 494/500\n",
      "23/23 [==============================] - 0s 5ms/step - loss: 237.6723 - val_loss: 1394.3198\n",
      "Epoch 495/500\n",
      "23/23 [==============================] - 0s 5ms/step - loss: 237.6577 - val_loss: 1395.0895\n",
      "Epoch 496/500\n",
      "23/23 [==============================] - 0s 5ms/step - loss: 237.6448 - val_loss: 1395.7903\n",
      "Epoch 497/500\n",
      "23/23 [==============================] - 0s 5ms/step - loss: 237.6336 - val_loss: 1396.4283\n",
      "Epoch 498/500\n",
      "23/23 [==============================] - 0s 5ms/step - loss: 237.6237 - val_loss: 1397.0115\n",
      "Epoch 499/500\n",
      "23/23 [==============================] - 0s 5ms/step - loss: 237.6151 - val_loss: 1397.5432\n",
      "Epoch 500/500\n",
      "23/23 [==============================] - 0s 5ms/step - loss: 237.6073 - val_loss: 1398.0266\n"
     ]
    }
   ],
   "source": [
    "C0 = tf.Variable(82.7524, name=\"C0\", trainable=True, dtype=tf.float32)\n",
    "K0 = tf.Variable(-0.0031, name=\"K0\", trainable=True, dtype=tf.float32)\n",
    "K1 = tf.Variable(-0.0003, name=\"K1\", trainable=True, dtype=tf.float32)\n",
    "a = tf.Variable(0.0000, name=\"a\", trainable=True, dtype=tf.float32)\n",
    "b = tf.Variable(0.0171, name=\"b\", trainable=True, dtype=tf.float32)\n",
    "c = tf.Variable(3.0230, name=\"c\", trainable=True, dtype=tf.float32)\n",
    "\n",
    "splitr = 0.8\n",
    "\n",
    "\n",
    "def loss_fn(y_true, y_pred):\n",
    "    squared_difference = tf.square(y_true[:, 0] - y_pred[:, 0])\n",
    "    #squared_difference2 = tf.square(y_true[:, 2]-y_pred[:, 2])\n",
    "    #squared_difference1 = tf.square(y_true[:, 1]-y_pred[:, 1])\n",
    "    epsilon = 1\n",
    "    squared_difference3 = tf.square(\n",
    "        y_pred[:, 1] - (\n",
    "            y_pred[:, 0] * (\n",
    "                K0 - K1 * (\n",
    "                    9 * a * tf.math.log((y_pred[:, 0] + epsilon) / C0) / (K0 - K1 * c)**2 +\n",
    "                    4 * b * tf.math.log((y_pred[:, 0] + epsilon) / C0) / (K0 - K1 * c) + c\n",
    "                )\n",
    "            )\n",
    "        )\n",
    "    )\n",
    "    return tf.reduce_mean(squared_difference, axis=-1) + 0.2*tf.reduce_mean(squared_difference3, axis=-1)\n",
    "model = Sequential()\n",
    "model.add(LSTM(100, input_shape=(trainX.shape[1], trainX.shape[2])))\n",
    "model.add(Dense(60))\n",
    "model.compile(loss=loss_fn, optimizer='adam')\n",
    "history = model.fit(trainX[:int(splitr*trainX.shape[0])], trainy[:int(splitr*trainX.shape[0])], epochs=500, batch_size=64, validation_data=(trainX[int(splitr*trainX.shape[0]):trainX.shape[0]], trainy[int(splitr*trainX.shape[0]):trainX.shape[0]]), shuffle=False)"
   ]
  },
  {
   "cell_type": "code",
   "execution_count": 19,
   "metadata": {
    "colab": {
     "base_uri": "https://localhost:8080/"
    },
    "id": "yJL101rPyuoT",
    "outputId": "239ff2b1-c186-423a-d316-939dfdd7c793"
   },
   "outputs": [
    {
     "name": "stdout",
     "output_type": "stream",
     "text": [
      "1/1 [==============================] - 0s 415ms/step\n"
     ]
    }
   ],
   "source": [
    "forecast_without_mc = forecastX\n",
    "yhat_without_mc = model.predict(forecast_without_mc) # Step Ahead Prediction\n",
    "forecast_without_mc = forecast_without_mc.reshape((forecast_without_mc.shape[0], forecast_without_mc.shape[2])) # Historical Input"
   ]
  },
  {
   "cell_type": "code",
   "execution_count": 20,
   "metadata": {
    "colab": {
     "base_uri": "https://localhost:8080/"
    },
    "id": "g9dQELcJ8wbp",
    "outputId": "4dc7671b-b1a8-48d5-8744-a86f98446109"
   },
   "outputs": [
    {
     "data": {
      "text/plain": [
       "(1, 1, 251)"
      ]
     },
     "execution_count": 20,
     "metadata": {},
     "output_type": "execute_result"
    }
   ],
   "source": [
    "forecastX.shape"
   ]
  },
  {
   "cell_type": "code",
   "execution_count": 21,
   "metadata": {
    "colab": {
     "base_uri": "https://localhost:8080/"
    },
    "id": "IS2kyIKG1Kbr",
    "outputId": "f31b3485-8e26-452f-9298-ea8bf7e80ad1"
   },
   "outputs": [
    {
     "data": {
      "text/plain": [
       "(1, 251)"
      ]
     },
     "execution_count": 21,
     "metadata": {},
     "output_type": "execute_result"
    }
   ],
   "source": [
    "forecast_without_mc.shape"
   ]
  },
  {
   "cell_type": "code",
   "execution_count": 22,
   "metadata": {
    "id": "0u6VIzaDyuoT"
   },
   "outputs": [],
   "source": [
    "inv_yhat_without_mc = np.concatenate((forecast_without_mc, yhat_without_mc), axis=1) # Concatenation of predicted values with Historical Data\n",
    "#inv_yhat_without_mc = scaler.inverse_transform(inv_yhat_without_mc) # Transform labels back to original encoding"
   ]
  },
  {
   "cell_type": "code",
   "execution_count": 23,
   "metadata": {
    "colab": {
     "base_uri": "https://localhost:8080/"
    },
    "id": "EUEcw0LX07oU",
    "outputId": "cfc32397-9c37-4b43-d087-584bb31c3dcc"
   },
   "outputs": [
    {
     "data": {
      "text/plain": [
       "(1, 311)"
      ]
     },
     "execution_count": 23,
     "metadata": {},
     "output_type": "execute_result"
    }
   ],
   "source": [
    "inv_yhat_without_mc.shape"
   ]
  },
  {
   "cell_type": "code",
   "execution_count": 24,
   "metadata": {
    "id": "31OWVbSh_305"
   },
   "outputs": [],
   "source": [
    "fforecast = inv_yhat_without_mc[:,-300:]"
   ]
  },
  {
   "cell_type": "code",
   "execution_count": 25,
   "metadata": {},
   "outputs": [
    {
     "data": {
      "text/plain": [
       "(1, 300)"
      ]
     },
     "execution_count": 25,
     "metadata": {},
     "output_type": "execute_result"
    }
   ],
   "source": [
    "fforecast.shape"
   ]
  },
  {
   "cell_type": "code",
   "execution_count": 26,
   "metadata": {
    "id": "BlpGH2FOAiRF"
   },
   "outputs": [],
   "source": [
    "final_forecast = fforecast[:,0:300:3]"
   ]
  },
  {
   "cell_type": "code",
   "execution_count": 27,
   "metadata": {},
   "outputs": [
    {
     "data": {
      "text/plain": [
       "(1, 300)"
      ]
     },
     "execution_count": 27,
     "metadata": {},
     "output_type": "execute_result"
    }
   ],
   "source": [
    "fforecast.shape"
   ]
  },
  {
   "cell_type": "code",
   "execution_count": 28,
   "metadata": {
    "id": "CXkgkj_LBk_t"
   },
   "outputs": [],
   "source": [
    "# code to replace all negative value with 0\n",
    "final_forecast[final_forecast<0] = 0"
   ]
  },
  {
   "cell_type": "code",
   "execution_count": 29,
   "metadata": {},
   "outputs": [
    {
     "data": {
      "text/plain": [
       "array([[5.78221989e+01, 5.76961485e+01, 5.75700980e+01, 5.74440476e+01,\n",
       "        6.55019760e+01, 0.00000000e+00, 0.00000000e+00, 0.00000000e+00,\n",
       "        0.00000000e+00, 0.00000000e+00, 8.44941260e-01, 0.00000000e+00,\n",
       "        1.19966790e-01, 5.80509571e+01, 5.79249066e+01, 5.77988562e+01,\n",
       "        2.20957430e-01, 1.00525665e+00, 5.88176471e+01, 5.83134454e+01,\n",
       "        5.81023109e+01, 5.79762605e+01, 5.78502101e+01, 5.77241597e+01,\n",
       "        5.75978092e+01, 5.74720588e+01, 5.73436084e+01, 0.00000000e+00,\n",
       "        4.05044300e-02, 5.79015640e+01, 5.77755135e+01, 5.76494631e+01,\n",
       "        5.75234127e+01, 5.73973623e+01, 6.27289449e+01, 6.08996966e+01,\n",
       "        5.92471522e+01, 6.19025170e-01, 7.93619275e-01, 0.00000000e+00,\n",
       "        2.83631295e-01, 0.00000000e+00, 2.03480452e-01, 1.01974100e-01,\n",
       "        5.16042829e-01, 0.00000000e+00, 2.68835902e-01, 5.79669234e+01,\n",
       "        5.78408730e+01, 7.16493960e-01, 6.86268800e-02, 5.89857143e+01,\n",
       "        5.84815126e+01, 5.81843277e+01, 5.80182773e+01, 5.78922269e+01,\n",
       "        5.77661765e+01, 5.76401260e+01, 5.75140756e+01, 5.73880252e+01,\n",
       "        0.00000000e+00, 0.00000000e+00, 5.79435808e+01, 5.78175303e+01,\n",
       "        5.76914799e+01, 5.75654295e+01, 5.74393791e+01, 6.29306256e+01,\n",
       "        6.15299487e+01, 5.97513539e+01, 0.00000000e+00, 1.97836610e-02,\n",
       "        4.12894547e-01, 5.67768288e+01, 8.75653630e-02, 0.00000000e+00,\n",
       "        0.00000000e+00, 5.97576737e-01, 6.01354837e-01, 1.08075157e-01,\n",
       "        5.51657982e+01, 0.00000000e+00, 1.02000415e+00, 4.79767397e-02,\n",
       "        0.00000000e+00, 4.89872694e-02, 4.61267643e-02, 0.00000000e+00,\n",
       "        0.00000000e+00, 7.53469706e-01, 0.00000000e+00, 0.00000000e+00,\n",
       "        3.80275846e-01, 6.13952100e-01, 0.00000000e+00, 4.24734175e-01,\n",
       "        0.00000000e+00, 0.00000000e+00, 0.00000000e+00, 0.00000000e+00]])"
      ]
     },
     "execution_count": 29,
     "metadata": {},
     "output_type": "execute_result"
    }
   ],
   "source": [
    "final_forecast"
   ]
  },
  {
   "cell_type": "code",
   "execution_count": 30,
   "metadata": {},
   "outputs": [
    {
     "data": {
      "text/plain": [
       "(1, 100)"
      ]
     },
     "execution_count": 30,
     "metadata": {},
     "output_type": "execute_result"
    }
   ],
   "source": [
    "final_forecast.shape"
   ]
  },
  {
   "cell_type": "code",
   "execution_count": 31,
   "metadata": {},
   "outputs": [
    {
     "data": {
      "text/plain": [
       "(100,)"
      ]
     },
     "execution_count": 31,
     "metadata": {},
     "output_type": "execute_result"
    }
   ],
   "source": [
    "test.shape"
   ]
  },
  {
   "cell_type": "code",
   "execution_count": 32,
   "metadata": {},
   "outputs": [],
   "source": [
    "training_set = np.array(training_set)\n",
    "test = np.array(test)\n",
    "final_forecast = np.array(final_forecast.squeeze(0))"
   ]
  },
  {
   "cell_type": "code",
   "execution_count": 33,
   "metadata": {},
   "outputs": [
    {
     "data": {
      "text/plain": [
       "array([47.64968231, 47.63984423, 47.63000615, 47.62016807, 47.61032999,\n",
       "       47.6004919 , 47.59065382, 47.58081574, 47.57097766, 47.56113958,\n",
       "       47.5513015 , 47.54146341, 47.53162533, 47.52178725, 47.51194917,\n",
       "       47.50211109, 47.49227301, 47.48243493, 47.47259684, 47.46275876,\n",
       "       47.45292068, 47.4430826 , 47.43324452, 47.42340644, 47.41356835,\n",
       "       47.40373027, 47.39389219, 47.38405411, 47.37421603, 47.36437795,\n",
       "       47.35453986, 47.34470178, 47.3348637 , 47.32502562, 47.31518754,\n",
       "       47.30534946, 47.29551138, 47.28567329, 47.27583521, 47.26599713,\n",
       "       47.25615905, 47.24632097, 47.23648289, 47.2266448 , 47.21680672,\n",
       "       47.20696864, 47.19713056, 47.18729248, 47.1774544 , 47.16761631,\n",
       "       47.15777823, 47.14794015, 47.13810207, 47.12826399, 47.11842591,\n",
       "       47.10858783, 47.09874974, 47.08891166, 47.07907358, 47.0692355 ,\n",
       "       47.05939742, 47.04955934, 47.03972125, 47.02988317, 47.02004509,\n",
       "       47.01020701, 47.00036893, 46.99053085, 46.98069276, 46.97085468,\n",
       "       46.9610166 , 46.95117852, 46.94134044, 46.93150236, 46.92166428,\n",
       "       46.91182619, 46.90198811, 46.89215003, 46.88231195, 46.87247387,\n",
       "       46.86263579, 46.8527977 , 46.84295962, 46.83312154, 46.82328346,\n",
       "       46.81344538, 46.8036073 , 46.79376922, 46.78393113, 46.77409305,\n",
       "       46.76425497, 46.75441689, 46.74457881, 46.73474073, 46.72490264,\n",
       "       46.71506456, 46.70522648, 46.6953884 , 46.68555032, 46.67571224])"
      ]
     },
     "execution_count": 33,
     "metadata": {},
     "output_type": "execute_result"
    }
   ],
   "source": [
    "test"
   ]
  },
  {
   "cell_type": "code",
   "execution_count": 34,
   "metadata": {},
   "outputs": [
    {
     "data": {
      "text/plain": [
       "(100,)"
      ]
     },
     "execution_count": 34,
     "metadata": {},
     "output_type": "execute_result"
    }
   ],
   "source": [
    "test.shape"
   ]
  },
  {
   "cell_type": "code",
   "execution_count": 35,
   "metadata": {},
   "outputs": [
    {
     "data": {
      "text/plain": [
       "(100,)"
      ]
     },
     "execution_count": 35,
     "metadata": {},
     "output_type": "execute_result"
    }
   ],
   "source": [
    "final_forecast.shape"
   ]
  },
  {
   "cell_type": "code",
   "execution_count": 36,
   "metadata": {},
   "outputs": [
    {
     "data": {
      "text/plain": [
       "(100,)"
      ]
     },
     "execution_count": 36,
     "metadata": {},
     "output_type": "execute_result"
    }
   ],
   "source": [
    "test.shape"
   ]
  },
  {
   "cell_type": "code",
   "execution_count": 37,
   "metadata": {},
   "outputs": [
    {
     "name": "stdout",
     "output_type": "stream",
     "text": [
      "35.2733513327941\n",
      "30.409173847190388\n"
     ]
    }
   ],
   "source": [
    "import math\n",
    "MSE = np.square(np.subtract(np.array(test),np.array(final_forecast))).mean()   \n",
    "rsme = math.sqrt(MSE)\n",
    "print(rsme)  \n",
    "MAE = np.abs(np.subtract(np.array(test),np.array(final_forecast))).mean()   \n",
    "mae = MAE\n",
    "print(mae)"
   ]
  }
 ],
 "metadata": {
  "colab": {
   "provenance": []
  },
  "kernelspec": {
   "display_name": "Python 3",
   "language": "python",
   "name": "python3"
  },
  "language_info": {
   "codemirror_mode": {
    "name": "ipython",
    "version": 3
   },
   "file_extension": ".py",
   "mimetype": "text/x-python",
   "name": "python",
   "nbconvert_exporter": "python",
   "pygments_lexer": "ipython3",
   "version": "3.9.13"
  }
 },
 "nbformat": 4,
 "nbformat_minor": 0
}
