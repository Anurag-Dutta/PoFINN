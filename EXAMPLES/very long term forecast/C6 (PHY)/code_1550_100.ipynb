{
 "cells": [
  {
   "cell_type": "markdown",
   "metadata": {
    "id": "pCGKeZ2gyuoQ"
   },
   "source": [
    "_Importing Required Libraries_"
   ]
  },
  {
   "cell_type": "code",
   "execution_count": 1,
   "metadata": {
    "colab": {
     "base_uri": "https://localhost:8080/"
    },
    "id": "A-6LN-zXiLcM",
    "outputId": "4de610a4-f8b8-4f49-c6c0-89de299ccedc"
   },
   "outputs": [
    {
     "name": "stdout",
     "output_type": "stream",
     "text": [
      "Requirement already satisfied: hampel in c:\\users\\anurag dutta\\appdata\\local\\packages\\pythonsoftwarefoundation.python.3.9_qbz5n2kfra8p0\\localcache\\local-packages\\python39\\site-packages (0.0.5)\n",
      "Requirement already satisfied: numpy in c:\\users\\anurag dutta\\appdata\\local\\packages\\pythonsoftwarefoundation.python.3.9_qbz5n2kfra8p0\\localcache\\local-packages\\python39\\site-packages (from hampel) (1.26.4)\n",
      "Requirement already satisfied: pandas in c:\\users\\anurag dutta\\appdata\\local\\packages\\pythonsoftwarefoundation.python.3.9_qbz5n2kfra8p0\\localcache\\local-packages\\python39\\site-packages (from hampel) (1.5.2)\n",
      "Requirement already satisfied: python-dateutil>=2.8.1 in c:\\users\\anurag dutta\\appdata\\local\\packages\\pythonsoftwarefoundation.python.3.9_qbz5n2kfra8p0\\localcache\\local-packages\\python39\\site-packages (from pandas->hampel) (2.8.2)\n",
      "Requirement already satisfied: pytz>=2020.1 in c:\\users\\anurag dutta\\appdata\\local\\packages\\pythonsoftwarefoundation.python.3.9_qbz5n2kfra8p0\\localcache\\local-packages\\python39\\site-packages (from pandas->hampel) (2023.3.post1)\n",
      "Requirement already satisfied: six>=1.5 in c:\\users\\anurag dutta\\appdata\\local\\packages\\pythonsoftwarefoundation.python.3.9_qbz5n2kfra8p0\\localcache\\local-packages\\python39\\site-packages (from python-dateutil>=2.8.1->pandas->hampel) (1.16.0)\n",
      "Note: you may need to restart the kernel to use updated packages.\n"
     ]
    },
    {
     "name": "stderr",
     "output_type": "stream",
     "text": [
      "\n",
      "[notice] A new release of pip is available: 24.2 -> 24.3.1\n",
      "[notice] To update, run: C:\\Users\\Anurag Dutta\\AppData\\Local\\Microsoft\\WindowsApps\\PythonSoftwareFoundation.Python.3.9_qbz5n2kfra8p0\\python.exe -m pip install --upgrade pip\n"
     ]
    }
   ],
   "source": [
    "pip install hampel"
   ]
  },
  {
   "cell_type": "code",
   "execution_count": 2,
   "metadata": {
    "id": "By_d9uXpaFvZ"
   },
   "outputs": [],
   "source": [
    "from keras.models import Sequential\n",
    "from keras.layers import Dense\n",
    "from keras.layers import LSTM\n",
    "from keras.layers import Dropout\n",
    "import keras\n",
    "import tensorflow as tf\n",
    "from hampel import hampel\n",
    "import numpy as np\n",
    "import matplotlib.pyplot as plt\n",
    "import pandas as pd\n",
    "from sklearn.preprocessing import MinMaxScaler\n",
    "from sklearn.metrics import mean_squared_error, mean_absolute_error\n",
    "from math import sqrt\n",
    "from matplotlib import pyplot\n",
    "from numpy import array"
   ]
  },
  {
   "cell_type": "markdown",
   "metadata": {
    "id": "JyOjBMFayuoR"
   },
   "source": [
    "## Pretraining"
   ]
  },
  {
   "cell_type": "markdown",
   "metadata": {
    "id": "-5QqIY_GyuoR"
   },
   "source": [
    "The `capa_intermittency.dat` feeds the model with the dynamics of the Capacitor"
   ]
  },
  {
   "cell_type": "code",
   "execution_count": 3,
   "metadata": {
    "id": "9dV4a8yfyuoR"
   },
   "outputs": [],
   "source": [
    "data = np.genfromtxt('capa_intermittency.dat')\n",
    "training_set = pd.DataFrame(data).reset_index(drop=True)\n",
    "training_set = training_set.iloc[:,0]"
   ]
  },
  {
   "cell_type": "markdown",
   "metadata": {
    "id": "i7easoxByuoR"
   },
   "source": [
    "## Computing the Gradient"
   ]
  },
  {
   "cell_type": "markdown",
   "metadata": {
    "id": "5SnyolJTyuoR"
   },
   "source": [
    "_Calculating the value of_ $\\frac{dx}{dt}$"
   ]
  },
  {
   "cell_type": "code",
   "execution_count": 4,
   "metadata": {
    "colab": {
     "base_uri": "https://localhost:8080/"
    },
    "id": "wmIbVfIvyuoR",
    "outputId": "aa4e3136-c854-465d-d2e9-81cfd546e440"
   },
   "outputs": [
    {
     "name": "stdout",
     "output_type": "stream",
     "text": [
      "1.0\n",
      "1        0.000298\n",
      "2        0.000298\n",
      "3        0.000297\n",
      "4        0.000297\n",
      "5        0.000297\n",
      "           ...   \n",
      "9996     0.000018\n",
      "9997     0.000018\n",
      "9998     0.000018\n",
      "9999     0.000018\n",
      "10000    0.000018\n",
      "Name: 0, Length: 10000, dtype: float64\n"
     ]
    }
   ],
   "source": [
    "t_diff = 1\n",
    "print(training_set.max())\n",
    "gradient_t = (training_set.diff()/t_diff).iloc[1:] # dx/dt\n",
    "print(gradient_t)"
   ]
  },
  {
   "cell_type": "markdown",
   "metadata": {
    "id": "_2eVeeoxyuoS"
   },
   "source": [
    "## Loading Datasets"
   ]
  },
  {
   "cell_type": "code",
   "execution_count": 5,
   "metadata": {
    "id": "0J-NKyIEyuoS"
   },
   "outputs": [
    {
     "data": {
      "text/plain": [
       "0       84.600000\n",
       "1       84.431933\n",
       "2       84.263866\n",
       "3       84.095798\n",
       "4       83.927731\n",
       "          ...    \n",
       "1645    54.634314\n",
       "1646    54.628711\n",
       "1647    54.623109\n",
       "1648    54.617507\n",
       "1649    54.611905\n",
       "Name: C6, Length: 1650, dtype: float64"
      ]
     },
     "execution_count": 5,
     "metadata": {},
     "output_type": "execute_result"
    }
   ],
   "source": [
    "data = pd.read_csv(\"c6_interpolated_1550_100.csv\")\n",
    "training_set = data.iloc[:, 1]\n",
    "training_set"
   ]
  },
  {
   "cell_type": "code",
   "execution_count": 6,
   "metadata": {
    "colab": {
     "base_uri": "https://localhost:8080/"
    },
    "id": "-CbNUhJ74UqF",
    "outputId": "20f562d8-8247-49cc-b9c3-00eca5e13e2d"
   },
   "outputs": [
    {
     "data": {
      "text/plain": [
       "0       84.600000\n",
       "1       84.431933\n",
       "2       84.263866\n",
       "3       84.095798\n",
       "4       83.927731\n",
       "          ...    \n",
       "1545     0.000000\n",
       "1546     0.040504\n",
       "1547     0.280666\n",
       "1548     0.000000\n",
       "1549     0.000000\n",
       "Name: C6, Length: 1550, dtype: float64"
      ]
     },
     "execution_count": 6,
     "metadata": {},
     "output_type": "execute_result"
    }
   ],
   "source": [
    "test = training_set.tail(100)\n",
    "test\n",
    "training_set = training_set.head(1550)\n",
    "training_set"
   ]
  },
  {
   "cell_type": "code",
   "execution_count": 7,
   "metadata": {
    "colab": {
     "base_uri": "https://localhost:8080/"
    },
    "id": "X0TwTcq0yuoS",
    "outputId": "37252ed8-d88e-4044-fa7a-922411990b5b"
   },
   "outputs": [
    {
     "name": "stdout",
     "output_type": "stream",
     "text": [
      "0       0.000298\n",
      "1       0.000298\n",
      "2       0.000297\n",
      "3       0.000297\n",
      "4       0.000297\n",
      "          ...   \n",
      "9995    0.000018\n",
      "9996    0.000018\n",
      "9997    0.000018\n",
      "9998    0.000018\n",
      "9999    0.000018\n",
      "Name: 0, Length: 10000, dtype: float64\n"
     ]
    }
   ],
   "source": [
    "training_set = training_set.reset_index(drop=True)\n",
    "gradient_t = gradient_t.reset_index(drop=True)\n",
    "print(gradient_t)"
   ]
  },
  {
   "cell_type": "code",
   "execution_count": 8,
   "metadata": {
    "id": "O2biznZQyuoS"
   },
   "outputs": [],
   "source": [
    "df = pd.concat((training_set, gradient_t), axis=1)\n",
    "df.columns = ['y_t', 'grad_t']"
   ]
  },
  {
   "cell_type": "code",
   "execution_count": 9,
   "metadata": {
    "colab": {
     "base_uri": "https://localhost:8080/",
     "height": 423
    },
    "id": "sk_a5v3tyuoS",
    "outputId": "17563625-e550-45ae-faab-fafa353e44da"
   },
   "outputs": [
    {
     "data": {
      "text/html": [
       "<div>\n",
       "<style scoped>\n",
       "    .dataframe tbody tr th:only-of-type {\n",
       "        vertical-align: middle;\n",
       "    }\n",
       "\n",
       "    .dataframe tbody tr th {\n",
       "        vertical-align: top;\n",
       "    }\n",
       "\n",
       "    .dataframe thead th {\n",
       "        text-align: right;\n",
       "    }\n",
       "</style>\n",
       "<table border=\"1\" class=\"dataframe\">\n",
       "  <thead>\n",
       "    <tr style=\"text-align: right;\">\n",
       "      <th></th>\n",
       "      <th>y_t</th>\n",
       "      <th>grad_t</th>\n",
       "    </tr>\n",
       "  </thead>\n",
       "  <tbody>\n",
       "    <tr>\n",
       "      <th>0</th>\n",
       "      <td>84.600000</td>\n",
       "      <td>0.000298</td>\n",
       "    </tr>\n",
       "    <tr>\n",
       "      <th>1</th>\n",
       "      <td>84.431933</td>\n",
       "      <td>0.000298</td>\n",
       "    </tr>\n",
       "    <tr>\n",
       "      <th>2</th>\n",
       "      <td>84.263866</td>\n",
       "      <td>0.000297</td>\n",
       "    </tr>\n",
       "    <tr>\n",
       "      <th>3</th>\n",
       "      <td>84.095798</td>\n",
       "      <td>0.000297</td>\n",
       "    </tr>\n",
       "    <tr>\n",
       "      <th>4</th>\n",
       "      <td>83.927731</td>\n",
       "      <td>0.000297</td>\n",
       "    </tr>\n",
       "    <tr>\n",
       "      <th>...</th>\n",
       "      <td>...</td>\n",
       "      <td>...</td>\n",
       "    </tr>\n",
       "    <tr>\n",
       "      <th>9995</th>\n",
       "      <td>NaN</td>\n",
       "      <td>0.000018</td>\n",
       "    </tr>\n",
       "    <tr>\n",
       "      <th>9996</th>\n",
       "      <td>NaN</td>\n",
       "      <td>0.000018</td>\n",
       "    </tr>\n",
       "    <tr>\n",
       "      <th>9997</th>\n",
       "      <td>NaN</td>\n",
       "      <td>0.000018</td>\n",
       "    </tr>\n",
       "    <tr>\n",
       "      <th>9998</th>\n",
       "      <td>NaN</td>\n",
       "      <td>0.000018</td>\n",
       "    </tr>\n",
       "    <tr>\n",
       "      <th>9999</th>\n",
       "      <td>NaN</td>\n",
       "      <td>0.000018</td>\n",
       "    </tr>\n",
       "  </tbody>\n",
       "</table>\n",
       "<p>10000 rows × 2 columns</p>\n",
       "</div>"
      ],
      "text/plain": [
       "            y_t    grad_t\n",
       "0     84.600000  0.000298\n",
       "1     84.431933  0.000298\n",
       "2     84.263866  0.000297\n",
       "3     84.095798  0.000297\n",
       "4     83.927731  0.000297\n",
       "...         ...       ...\n",
       "9995        NaN  0.000018\n",
       "9996        NaN  0.000018\n",
       "9997        NaN  0.000018\n",
       "9998        NaN  0.000018\n",
       "9999        NaN  0.000018\n",
       "\n",
       "[10000 rows x 2 columns]"
      ]
     },
     "execution_count": 9,
     "metadata": {},
     "output_type": "execute_result"
    }
   ],
   "source": [
    "df"
   ]
  },
  {
   "cell_type": "markdown",
   "metadata": {
    "id": "-5esyHu5aFvg"
   },
   "source": [
    "## Plot of the External Forcing from Chaotic Differential Equation"
   ]
  },
  {
   "cell_type": "code",
   "execution_count": 10,
   "metadata": {
    "colab": {
     "base_uri": "https://localhost:8080/",
     "height": 447
    },
    "id": "hGnE43tOh-4p",
    "outputId": "fc396503-b624-4fa5-dfbe-f460207405c6"
   },
   "outputs": [
    {
     "data": {
      "text/plain": [
       "<Axes: >"
      ]
     },
     "execution_count": 10,
     "metadata": {},
     "output_type": "execute_result"
    },
    {
     "data": {
      "image/png": "[encoded data removed]",
      "text/plain": [
       "<Figure size 432x288 with 1 Axes>"
      ]
     },
     "metadata": {
      "needs_background": "light"
     },
     "output_type": "display_data"
    }
   ],
   "source": [
    "df.iloc[:, 0].plot()"
   ]
  },
  {
   "cell_type": "code",
   "execution_count": 11,
   "metadata": {
    "colab": {
     "base_uri": "https://localhost:8080/",
     "height": 447
    },
    "id": "ym4xWUUxaFvg",
    "outputId": "ae6a3495-8ce9-437e-ba81-3ed31deedeae"
   },
   "outputs": [
    {
     "name": "stderr",
     "output_type": "stream",
     "text": [
      "C:\\Users\\Anurag Dutta\\AppData\\Local\\Packages\\PythonSoftwareFoundation.Python.3.9_qbz5n2kfra8p0\\LocalCache\\local-packages\\Python39\\site-packages\\pandas\\core\\arraylike.py:402: RuntimeWarning: divide by zero encountered in log\n",
      "  result = getattr(ufunc, method)(*inputs, **kwargs)\n"
     ]
    },
    {
     "data": {
      "text/plain": [
       "<Axes: >"
      ]
     },
     "execution_count": 11,
     "metadata": {},
     "output_type": "execute_result"
    },
    {
     "data": {
      "image/png": "[encoded data removed]",
      "text/plain": [
       "<Figure size 432x288 with 1 Axes>"
      ]
     },
     "metadata": {
      "needs_background": "light"
     },
     "output_type": "display_data"
    }
   ],
   "source": [
    "import numpy as np\n",
    "c0 = 82.7524  # Value for C0\n",
    "K0 = -0.0031  # Value for K0\n",
    "K1 = -0.0003  # Value for K1\n",
    "a = 0.0000    # Value for a\n",
    "b = 0.0171    # Value for b\n",
    "c = 3.0230    # Value for c\n",
    "\n",
    "L = np.minimum(c0, (df.iloc[:, 1] - (df.iloc[:, 0] * (K0 - K1 * (9 * a * np.log(df.iloc[:, 0] / c0) / (K0 - K1 * c)**2 + 4 * b * np.log(df.iloc[:, 0] / c0) / (K0 - K1 * c) + c)))))\n",
    "L.plot()"
   ]
  },
  {
   "cell_type": "markdown",
   "metadata": {
    "id": "9VyEywnwaFvh"
   },
   "source": [
    "## Preprocessing the data into supervised learning"
   ]
  },
  {
   "cell_type": "code",
   "execution_count": 12,
   "metadata": {
    "id": "6V9dXqzdaFvh"
   },
   "outputs": [],
   "source": [
    "# split a sequence into samples\n",
    "def Supervised(data, n_in=1, n_out=1, dropnan=True):\n",
    "    n_vars = 1 if type(data) is list else data.shape[1]\n",
    "    df = pd.DataFrame(data)\n",
    "    cols, names = list(), list()\n",
    "    # input sequence (t-n_in, ... t-1)\n",
    "    for i in range(n_in, 0, -1):\n",
    "        cols.append(df.shift(i))\n",
    "        names += [('var%d(t-%d)' % (j+1, i)) for j in range(n_vars)]\n",
    "    # forecast sequence (t, t+1, ... t+n_out)\n",
    "    for i in range(0, n_out):\n",
    "      cols.append(df.shift(-i))\n",
    "      if i == 0:\n",
    "        names += [('var%d(t)' % (j+1)) for j in range(n_vars)]\n",
    "      else:\n",
    "        names += [('var%d(t+%d)' % (j+1, i)) for j in range(n_vars)]\n",
    "    # put it all together\n",
    "    agg = pd.concat(cols, axis=1)\n",
    "    agg.columns = names\n",
    "    # drop rows with NaN values\n",
    "    if dropnan:\n",
    "       agg.dropna(inplace=True)\n",
    "    return agg"
   ]
  },
  {
   "cell_type": "code",
   "execution_count": 13,
   "metadata": {
    "colab": {
     "base_uri": "https://localhost:8080/"
    },
    "id": "CrzSrT1HnyfH",
    "outputId": "7e75f928-3e47-499d-eac1-51908015ef78"
   },
   "outputs": [
    {
     "name": "stdout",
     "output_type": "stream",
     "text": [
      "     var1(t-350)  var1(t-349)  var1(t-348)  var1(t-347)  var1(t-346)  \\\n",
      "350    84.600000    84.431933    84.263866    84.095798    83.927731   \n",
      "351    84.431933    84.263866    84.095798    83.927731    83.759664   \n",
      "352    84.263866    84.095798    83.927731    83.759664    83.591597   \n",
      "353    84.095798    83.927731    83.759664    83.591597    83.423529   \n",
      "354    83.927731    83.759664    83.591597    83.423529    83.255462   \n",
      "\n",
      "     var1(t-345)  var1(t-344)  var1(t-343)  var1(t-342)  var1(t-341)  ...  \\\n",
      "350    83.759664    83.591597    83.423529    83.255462    83.092437  ...   \n",
      "351    83.591597    83.423529    83.255462    83.092437    82.991597  ...   \n",
      "352    83.423529    83.255462    83.092437    82.991597    82.890756  ...   \n",
      "353    83.255462    83.092437    82.991597    82.890756    82.789916  ...   \n",
      "354    83.092437    82.991597    82.890756    82.789916    82.689076  ...   \n",
      "\n",
      "     var1(t+95)  var2(t+95)  var1(t+96)  var2(t+96)  var1(t+97)  var2(t+97)  \\\n",
      "350   70.003688    0.000263   69.960738    0.000263   69.917787    0.000263   \n",
      "351   69.960738    0.000263   69.917787    0.000263   69.874837    0.000262   \n",
      "352   69.917787    0.000263   69.874837    0.000262   69.831886    0.000262   \n",
      "353   69.874837    0.000262   69.831886    0.000262   69.788936    0.000262   \n",
      "354   69.831886    0.000262   69.788936    0.000262   69.745985    0.000262   \n",
      "\n",
      "     var1(t+98)  var2(t+98)  var1(t+99)  var2(t+99)  \n",
      "350   69.874837    0.000262   69.831886    0.000262  \n",
      "351   69.831886    0.000262   69.788936    0.000262  \n",
      "352   69.788936    0.000262   69.745985    0.000262  \n",
      "353   69.745985    0.000262   69.703035    0.000262  \n",
      "354   69.703035    0.000262   69.660084    0.000262  \n",
      "\n",
      "[5 rows x 551 columns]\n",
      "Index(['var1(t-350)', 'var1(t-349)', 'var1(t-348)', 'var1(t-347)',\n",
      "       'var1(t-346)', 'var1(t-345)', 'var1(t-344)', 'var1(t-343)',\n",
      "       'var1(t-342)', 'var1(t-341)',\n",
      "       ...\n",
      "       'var1(t+95)', 'var2(t+95)', 'var1(t+96)', 'var2(t+96)', 'var1(t+97)',\n",
      "       'var2(t+97)', 'var1(t+98)', 'var2(t+98)', 'var1(t+99)', 'var2(t+99)'],\n",
      "      dtype='object', length=551)\n"
     ]
    }
   ],
   "source": [
    "data = Supervised(df.values, n_in = 350, n_out = 100)\n",
    "\n",
    "\n",
    "cols_to_drop = []\n",
    "for i in range(2, 351):\n",
    "    cols_to_drop.extend([f'var2(t-{i})'])\n",
    "\n",
    "data.drop(cols_to_drop, axis=1, inplace=True)\n",
    "\n",
    "print(data.head())\n",
    "print(data.columns)"
   ]
  },
  {
   "cell_type": "code",
   "execution_count": 14,
   "metadata": {
    "id": "AfPf60oy6Pe4"
   },
   "outputs": [],
   "source": [
    "train = np.array(data[0:len(data)-1])\n",
    "forecast = np.array(data.tail(1))"
   ]
  },
  {
   "cell_type": "code",
   "execution_count": 15,
   "metadata": {
    "id": "WSAafzI37KiT"
   },
   "outputs": [],
   "source": [
    "trainy = train[:,-300:]\n",
    "trainX = train[:,:-300]"
   ]
  },
  {
   "cell_type": "code",
   "execution_count": 16,
   "metadata": {
    "id": "2SrOqVJA7f50"
   },
   "outputs": [],
   "source": [
    "forecasty = forecast[:,-300:]\n",
    "forecastX = forecast[:,:-300]"
   ]
  },
  {
   "cell_type": "code",
   "execution_count": 17,
   "metadata": {
    "colab": {
     "base_uri": "https://localhost:8080/"
    },
    "id": "Qno_k8Nw7saY",
    "outputId": "c4a88db5-d8c6-489f-cdb2-06b24e293cff"
   },
   "outputs": [
    {
     "name": "stdout",
     "output_type": "stream",
     "text": [
      "(1100, 1, 251) (1100, 300) (1, 1, 251)\n"
     ]
    }
   ],
   "source": [
    "trainX = trainX.reshape((trainX.shape[0], 1, trainX.shape[1]))\n",
    "forecastX = forecastX.reshape((forecastX.shape[0], 1, forecastX.shape[1]))\n",
    "print(trainX.shape, trainy.shape, forecastX.shape)"
   ]
  },
  {
   "cell_type": "code",
   "execution_count": 18,
   "metadata": {
    "colab": {
     "base_uri": "https://localhost:8080/"
    },
    "id": "b1Jp2DvNuNFx",
    "outputId": "d0e5b3c4-64f1-438c-eade-8dfeaac8e285"
   },
   "outputs": [
    {
     "name": "stdout",
     "output_type": "stream",
     "text": [
      "Epoch 1/500\n",
      "14/14 [==============================] - 2s 37ms/step - loss: 4125.5205 - val_loss: 3022.2383\n",
      "Epoch 2/500\n",
      "14/14 [==============================] - 0s 5ms/step - loss: 4051.6074 - val_loss: 2988.6177\n",
      "Epoch 3/500\n",
      "14/14 [==============================] - 0s 5ms/step - loss: 4010.5872 - val_loss: 2954.8716\n",
      "Epoch 4/500\n",
      "14/14 [==============================] - 0s 5ms/step - loss: 3969.6819 - val_loss: 2921.4446\n",
      "Epoch 5/500\n",
      "14/14 [==============================] - 0s 5ms/step - loss: 3929.1567 - val_loss: 2888.3748\n",
      "Epoch 6/500\n",
      "14/14 [==============================] - 0s 5ms/step - loss: 3889.0203 - val_loss: 2855.6482\n",
      "Epoch 7/500\n",
      "14/14 [==============================] - 0s 5ms/step - loss: 3849.2507 - val_loss: 2823.2466\n",
      "Epoch 8/500\n",
      "14/14 [==============================] - 0s 5ms/step - loss: 3809.8311 - val_loss: 2791.1575\n",
      "Epoch 9/500\n",
      "14/14 [==============================] - 0s 5ms/step - loss: 3770.7458 - val_loss: 2759.3711\n",
      "Epoch 10/500\n",
      "14/14 [==============================] - 0s 5ms/step - loss: 3731.9858 - val_loss: 2727.8801\n",
      "Epoch 11/500\n",
      "14/14 [==============================] - 0s 5ms/step - loss: 3693.5444 - val_loss: 2696.6790\n",
      "Epoch 12/500\n",
      "14/14 [==============================] - 0s 5ms/step - loss: 3655.4138 - val_loss: 2665.7637\n",
      "Epoch 13/500\n",
      "14/14 [==============================] - 0s 6ms/step - loss: 3617.5930 - val_loss: 2635.1304\n",
      "Epoch 14/500\n",
      "14/14 [==============================] - 0s 5ms/step - loss: 3580.0750 - val_loss: 2604.7761\n",
      "Epoch 15/500\n",
      "14/14 [==============================] - 0s 5ms/step - loss: 3539.3489 - val_loss: 2569.4231\n",
      "Epoch 16/500\n",
      "14/14 [==============================] - 0s 5ms/step - loss: 3497.9097 - val_loss: 2536.8245\n",
      "Epoch 17/500\n",
      "14/14 [==============================] - 0s 5ms/step - loss: 3458.0164 - val_loss: 2504.8718\n",
      "Epoch 18/500\n",
      "14/14 [==============================] - 0s 6ms/step - loss: 3418.8757 - val_loss: 2473.5325\n",
      "Epoch 19/500\n",
      "14/14 [==============================] - 0s 7ms/step - loss: 3380.3921 - val_loss: 2442.7107\n",
      "Epoch 20/500\n",
      "14/14 [==============================] - 0s 5ms/step - loss: 3342.4614 - val_loss: 2412.3384\n",
      "Epoch 21/500\n",
      "14/14 [==============================] - 0s 5ms/step - loss: 3305.0149 - val_loss: 2382.3699\n",
      "Epoch 22/500\n",
      "14/14 [==============================] - 0s 4ms/step - loss: 3268.0046 - val_loss: 2352.7754\n",
      "Epoch 23/500\n",
      "14/14 [==============================] - 0s 5ms/step - loss: 3231.4006 - val_loss: 2323.5330\n",
      "Epoch 24/500\n",
      "14/14 [==============================] - 0s 5ms/step - loss: 3195.1790 - val_loss: 2294.6267\n",
      "Epoch 25/500\n",
      "14/14 [==============================] - 0s 5ms/step - loss: 3159.3240 - val_loss: 2266.0444\n",
      "Epoch 26/500\n",
      "14/14 [==============================] - 0s 5ms/step - loss: 3123.8201 - val_loss: 2237.7764\n",
      "Epoch 27/500\n",
      "14/14 [==============================] - 0s 5ms/step - loss: 3088.6584 - val_loss: 2209.8147\n",
      "Epoch 28/500\n",
      "14/14 [==============================] - 0s 4ms/step - loss: 3053.8296 - val_loss: 2182.1511\n",
      "Epoch 29/500\n",
      "14/14 [==============================] - 0s 5ms/step - loss: 3019.3262 - val_loss: 2154.7815\n",
      "Epoch 30/500\n",
      "14/14 [==============================] - 0s 5ms/step - loss: 2985.1418 - val_loss: 2127.7007\n",
      "Epoch 31/500\n",
      "14/14 [==============================] - 0s 5ms/step - loss: 2951.2705 - val_loss: 2100.9026\n",
      "Epoch 32/500\n",
      "14/14 [==============================] - 0s 5ms/step - loss: 2917.7080 - val_loss: 2074.3845\n",
      "Epoch 33/500\n",
      "14/14 [==============================] - 0s 5ms/step - loss: 2884.4485 - val_loss: 2048.1421\n",
      "Epoch 34/500\n",
      "14/14 [==============================] - 0s 5ms/step - loss: 2851.4900 - val_loss: 2022.1726\n",
      "Epoch 35/500\n",
      "14/14 [==============================] - 0s 6ms/step - loss: 2818.8274 - val_loss: 1996.4722\n",
      "Epoch 36/500\n",
      "14/14 [==============================] - 0s 5ms/step - loss: 2786.4570 - val_loss: 1971.0378\n",
      "Epoch 37/500\n",
      "14/14 [==============================] - 0s 5ms/step - loss: 2754.3762 - val_loss: 1945.8673\n",
      "Epoch 38/500\n",
      "14/14 [==============================] - 0s 5ms/step - loss: 2722.5823 - val_loss: 1920.9575\n",
      "Epoch 39/500\n",
      "14/14 [==============================] - 0s 5ms/step - loss: 2691.0718 - val_loss: 1896.3065\n",
      "Epoch 40/500\n",
      "14/14 [==============================] - 0s 5ms/step - loss: 2659.8425 - val_loss: 1871.9114\n",
      "Epoch 41/500\n",
      "14/14 [==============================] - 0s 4ms/step - loss: 2628.8911 - val_loss: 1847.7693\n",
      "Epoch 42/500\n",
      "14/14 [==============================] - 0s 6ms/step - loss: 2598.2163 - val_loss: 1823.8794\n",
      "Epoch 43/500\n",
      "14/14 [==============================] - 0s 5ms/step - loss: 2567.8147 - val_loss: 1800.2385\n",
      "Epoch 44/500\n",
      "14/14 [==============================] - 0s 6ms/step - loss: 2537.6838 - val_loss: 1776.8447\n",
      "Epoch 45/500\n",
      "14/14 [==============================] - 0s 7ms/step - loss: 2507.8228 - val_loss: 1753.6963\n",
      "Epoch 46/500\n",
      "14/14 [==============================] - 0s 6ms/step - loss: 2478.2280 - val_loss: 1730.7910\n",
      "Epoch 47/500\n",
      "14/14 [==============================] - 0s 6ms/step - loss: 2448.8987 - val_loss: 1708.1273\n",
      "Epoch 48/500\n",
      "14/14 [==============================] - 0s 8ms/step - loss: 2419.8315 - val_loss: 1685.7029\n",
      "Epoch 49/500\n",
      "14/14 [==============================] - 0s 6ms/step - loss: 2391.0256 - val_loss: 1663.5159\n",
      "Epoch 50/500\n",
      "14/14 [==============================] - 0s 5ms/step - loss: 2362.4783 - val_loss: 1641.5649\n",
      "Epoch 51/500\n",
      "14/14 [==============================] - 0s 14ms/step - loss: 2334.1880 - val_loss: 1619.8480\n",
      "Epoch 52/500\n",
      "14/14 [==============================] - 0s 5ms/step - loss: 2306.1526 - val_loss: 1598.3630\n",
      "Epoch 53/500\n",
      "14/14 [==============================] - 0s 4ms/step - loss: 2278.3711 - val_loss: 1577.1091\n",
      "Epoch 54/500\n",
      "14/14 [==============================] - 0s 6ms/step - loss: 2250.8408 - val_loss: 1556.0836\n",
      "Epoch 55/500\n",
      "14/14 [==============================] - 0s 5ms/step - loss: 2223.5603 - val_loss: 1535.2858\n",
      "Epoch 56/500\n",
      "14/14 [==============================] - 0s 5ms/step - loss: 2196.5276 - val_loss: 1514.7133\n",
      "Epoch 57/500\n",
      "14/14 [==============================] - 0s 5ms/step - loss: 2169.7415 - val_loss: 1494.3647\n",
      "Epoch 58/500\n",
      "14/14 [==============================] - 0s 5ms/step - loss: 2143.2000 - val_loss: 1474.2386\n",
      "Epoch 59/500\n",
      "14/14 [==============================] - 0s 5ms/step - loss: 2116.9016 - val_loss: 1454.3334\n",
      "Epoch 60/500\n",
      "14/14 [==============================] - 0s 5ms/step - loss: 2090.8445 - val_loss: 1434.6475\n",
      "Epoch 61/500\n",
      "14/14 [==============================] - 0s 8ms/step - loss: 2065.0273 - val_loss: 1415.1793\n",
      "Epoch 62/500\n",
      "14/14 [==============================] - 0s 6ms/step - loss: 2039.4479 - val_loss: 1395.9269\n",
      "Epoch 63/500\n",
      "14/14 [==============================] - 0s 6ms/step - loss: 2014.1051 - val_loss: 1376.8894\n",
      "Epoch 64/500\n",
      "14/14 [==============================] - 0s 6ms/step - loss: 1988.9974 - val_loss: 1358.0649\n",
      "Epoch 65/500\n",
      "14/14 [==============================] - 0s 6ms/step - loss: 1964.1233 - val_loss: 1339.4524\n",
      "Epoch 66/500\n",
      "14/14 [==============================] - 0s 5ms/step - loss: 1939.4810 - val_loss: 1321.0497\n",
      "Epoch 67/500\n",
      "14/14 [==============================] - 0s 6ms/step - loss: 1915.0688 - val_loss: 1302.8558\n",
      "Epoch 68/500\n",
      "14/14 [==============================] - 0s 5ms/step - loss: 1890.8855 - val_loss: 1284.8695\n",
      "Epoch 69/500\n",
      "14/14 [==============================] - 0s 5ms/step - loss: 1866.9303 - val_loss: 1267.0886\n",
      "Epoch 70/500\n",
      "14/14 [==============================] - 0s 6ms/step - loss: 1843.2004 - val_loss: 1249.5120\n",
      "Epoch 71/500\n",
      "14/14 [==============================] - 0s 5ms/step - loss: 1819.6949 - val_loss: 1232.1390\n",
      "Epoch 72/500\n",
      "14/14 [==============================] - 0s 5ms/step - loss: 1796.4125 - val_loss: 1214.9670\n",
      "Epoch 73/500\n",
      "14/14 [==============================] - 0s 5ms/step - loss: 1773.3518 - val_loss: 1197.9954\n",
      "Epoch 74/500\n",
      "14/14 [==============================] - 0s 4ms/step - loss: 1750.5111 - val_loss: 1181.2225\n",
      "Epoch 75/500\n",
      "14/14 [==============================] - 0s 5ms/step - loss: 1727.8892 - val_loss: 1164.6472\n",
      "Epoch 76/500\n",
      "14/14 [==============================] - 0s 5ms/step - loss: 1705.4846 - val_loss: 1148.2675\n",
      "Epoch 77/500\n",
      "14/14 [==============================] - 0s 7ms/step - loss: 1683.2958 - val_loss: 1132.0828\n",
      "Epoch 78/500\n",
      "14/14 [==============================] - 0s 6ms/step - loss: 1661.3213 - val_loss: 1116.0918\n",
      "Epoch 79/500\n",
      "14/14 [==============================] - 0s 5ms/step - loss: 1639.5605 - val_loss: 1100.2922\n",
      "Epoch 80/500\n",
      "14/14 [==============================] - 0s 5ms/step - loss: 1618.0107 - val_loss: 1084.6835\n",
      "Epoch 81/500\n",
      "14/14 [==============================] - 0s 5ms/step - loss: 1596.6719 - val_loss: 1069.2639\n",
      "Epoch 82/500\n",
      "14/14 [==============================] - 0s 6ms/step - loss: 1575.5420 - val_loss: 1054.0326\n",
      "Epoch 83/500\n",
      "14/14 [==============================] - 0s 5ms/step - loss: 1554.6198 - val_loss: 1038.9879\n",
      "Epoch 84/500\n",
      "14/14 [==============================] - 0s 5ms/step - loss: 1533.9039 - val_loss: 1024.1288\n",
      "Epoch 85/500\n",
      "14/14 [==============================] - 0s 5ms/step - loss: 1513.3932 - val_loss: 1009.4533\n",
      "Epoch 86/500\n",
      "14/14 [==============================] - 0s 4ms/step - loss: 1493.0858 - val_loss: 994.9605\n",
      "Epoch 87/500\n",
      "14/14 [==============================] - 0s 5ms/step - loss: 1472.9810 - val_loss: 980.6496\n",
      "Epoch 88/500\n",
      "14/14 [==============================] - 0s 5ms/step - loss: 1453.0775 - val_loss: 966.5187\n",
      "Epoch 89/500\n",
      "14/14 [==============================] - 0s 5ms/step - loss: 1433.3740 - val_loss: 952.5668\n",
      "Epoch 90/500\n",
      "14/14 [==============================] - 0s 5ms/step - loss: 1413.8684 - val_loss: 938.7930\n",
      "Epoch 91/500\n",
      "14/14 [==============================] - 0s 10ms/step - loss: 1394.5604 - val_loss: 925.1948\n",
      "Epoch 92/500\n",
      "14/14 [==============================] - 0s 5ms/step - loss: 1375.4481 - val_loss: 911.7721\n",
      "Epoch 93/500\n",
      "14/14 [==============================] - 0s 5ms/step - loss: 1356.5306 - val_loss: 898.5234\n",
      "Epoch 94/500\n",
      "14/14 [==============================] - 0s 6ms/step - loss: 1337.8068 - val_loss: 885.4476\n",
      "Epoch 95/500\n",
      "14/14 [==============================] - 0s 5ms/step - loss: 1319.2749 - val_loss: 872.5425\n",
      "Epoch 96/500\n",
      "14/14 [==============================] - 0s 5ms/step - loss: 1300.9333 - val_loss: 859.8078\n",
      "Epoch 97/500\n",
      "14/14 [==============================] - 0s 5ms/step - loss: 1282.7819 - val_loss: 847.2420\n",
      "Epoch 98/500\n",
      "14/14 [==============================] - 0s 6ms/step - loss: 1264.8186 - val_loss: 834.8439\n",
      "Epoch 99/500\n",
      "14/14 [==============================] - 0s 5ms/step - loss: 1247.0426 - val_loss: 822.6124\n",
      "Epoch 100/500\n",
      "14/14 [==============================] - 0s 4ms/step - loss: 1229.4524 - val_loss: 810.5458\n",
      "Epoch 101/500\n",
      "14/14 [==============================] - 0s 5ms/step - loss: 1212.0469 - val_loss: 798.6437\n",
      "Epoch 102/500\n",
      "14/14 [==============================] - 0s 5ms/step - loss: 1194.8252 - val_loss: 786.9044\n",
      "Epoch 103/500\n",
      "14/14 [==============================] - 0s 4ms/step - loss: 1177.7855 - val_loss: 775.3264\n",
      "Epoch 104/500\n",
      "14/14 [==============================] - 0s 5ms/step - loss: 1160.9269 - val_loss: 763.9091\n",
      "Epoch 105/500\n",
      "14/14 [==============================] - 0s 5ms/step - loss: 1144.2482 - val_loss: 752.6511\n",
      "Epoch 106/500\n",
      "14/14 [==============================] - 0s 4ms/step - loss: 1127.7480 - val_loss: 741.5509\n",
      "Epoch 107/500\n",
      "14/14 [==============================] - 0s 4ms/step - loss: 1111.4255 - val_loss: 730.6078\n",
      "Epoch 108/500\n",
      "14/14 [==============================] - 0s 5ms/step - loss: 1095.2788 - val_loss: 719.8202\n",
      "Epoch 109/500\n",
      "14/14 [==============================] - 0s 5ms/step - loss: 1079.3075 - val_loss: 709.1872\n",
      "Epoch 110/500\n",
      "14/14 [==============================] - 0s 4ms/step - loss: 1063.5103 - val_loss: 698.7076\n",
      "Epoch 111/500\n",
      "14/14 [==============================] - 0s 5ms/step - loss: 1047.8857 - val_loss: 688.3802\n",
      "Epoch 112/500\n",
      "14/14 [==============================] - 0s 5ms/step - loss: 1032.4326 - val_loss: 678.2037\n",
      "Epoch 113/500\n",
      "14/14 [==============================] - 0s 5ms/step - loss: 1017.1500 - val_loss: 668.1771\n",
      "Epoch 114/500\n",
      "14/14 [==============================] - 0s 5ms/step - loss: 1002.0366 - val_loss: 658.2994\n",
      "Epoch 115/500\n",
      "14/14 [==============================] - 0s 5ms/step - loss: 987.0915 - val_loss: 648.5687\n",
      "Epoch 116/500\n",
      "14/14 [==============================] - 0s 5ms/step - loss: 972.3129 - val_loss: 638.9846\n",
      "Epoch 117/500\n",
      "14/14 [==============================] - 0s 5ms/step - loss: 957.7001 - val_loss: 629.5461\n",
      "Epoch 118/500\n",
      "14/14 [==============================] - 0s 5ms/step - loss: 943.2523 - val_loss: 620.2513\n",
      "Epoch 119/500\n",
      "14/14 [==============================] - 0s 5ms/step - loss: 928.9680 - val_loss: 611.0992\n",
      "Epoch 120/500\n",
      "14/14 [==============================] - 0s 5ms/step - loss: 914.8458 - val_loss: 602.0895\n",
      "Epoch 121/500\n",
      "14/14 [==============================] - 0s 5ms/step - loss: 900.8849 - val_loss: 593.2204\n",
      "Epoch 122/500\n",
      "14/14 [==============================] - 0s 5ms/step - loss: 887.0842 - val_loss: 584.4908\n",
      "Epoch 123/500\n",
      "14/14 [==============================] - 0s 13ms/step - loss: 873.4426 - val_loss: 575.8994\n",
      "Epoch 124/500\n",
      "14/14 [==============================] - 0s 6ms/step - loss: 859.9587 - val_loss: 567.4453\n",
      "Epoch 125/500\n",
      "14/14 [==============================] - 0s 6ms/step - loss: 846.6316 - val_loss: 559.1276\n",
      "Epoch 126/500\n",
      "14/14 [==============================] - 0s 6ms/step - loss: 833.4606 - val_loss: 550.9449\n",
      "Epoch 127/500\n",
      "14/14 [==============================] - 0s 5ms/step - loss: 820.4437 - val_loss: 542.8962\n",
      "Epoch 128/500\n",
      "14/14 [==============================] - 0s 5ms/step - loss: 807.5803 - val_loss: 534.9803\n",
      "Epoch 129/500\n",
      "14/14 [==============================] - 0s 6ms/step - loss: 794.8691 - val_loss: 527.1959\n",
      "Epoch 130/500\n",
      "14/14 [==============================] - 0s 6ms/step - loss: 782.3091 - val_loss: 519.5422\n",
      "Epoch 131/500\n",
      "14/14 [==============================] - 0s 5ms/step - loss: 769.8992 - val_loss: 512.0179\n",
      "Epoch 132/500\n",
      "14/14 [==============================] - 0s 5ms/step - loss: 757.6383 - val_loss: 504.6222\n",
      "Epoch 133/500\n",
      "14/14 [==============================] - 0s 5ms/step - loss: 745.5253 - val_loss: 497.3538\n",
      "Epoch 134/500\n",
      "14/14 [==============================] - 0s 4ms/step - loss: 733.5596 - val_loss: 490.2118\n",
      "Epoch 135/500\n",
      "14/14 [==============================] - 0s 5ms/step - loss: 721.7393 - val_loss: 483.1944\n",
      "Epoch 136/500\n",
      "14/14 [==============================] - 0s 5ms/step - loss: 710.0638 - val_loss: 476.3014\n",
      "Epoch 137/500\n",
      "14/14 [==============================] - 0s 5ms/step - loss: 698.5322 - val_loss: 469.5312\n",
      "Epoch 138/500\n",
      "14/14 [==============================] - 0s 5ms/step - loss: 687.1431 - val_loss: 462.8830\n",
      "Epoch 139/500\n",
      "14/14 [==============================] - 0s 5ms/step - loss: 675.8953 - val_loss: 456.3553\n",
      "Epoch 140/500\n",
      "14/14 [==============================] - 0s 5ms/step - loss: 664.7877 - val_loss: 449.9475\n",
      "Epoch 141/500\n",
      "14/14 [==============================] - 0s 5ms/step - loss: 653.8197 - val_loss: 443.6583\n",
      "Epoch 142/500\n",
      "14/14 [==============================] - 0s 5ms/step - loss: 642.9899 - val_loss: 437.4866\n",
      "Epoch 143/500\n",
      "14/14 [==============================] - 0s 5ms/step - loss: 632.2972 - val_loss: 431.4313\n",
      "Epoch 144/500\n",
      "14/14 [==============================] - 0s 6ms/step - loss: 621.7408 - val_loss: 425.4915\n",
      "Epoch 145/500\n",
      "14/14 [==============================] - 0s 5ms/step - loss: 611.3196 - val_loss: 419.6658\n",
      "Epoch 146/500\n",
      "14/14 [==============================] - 0s 5ms/step - loss: 601.0324 - val_loss: 413.9533\n",
      "Epoch 147/500\n",
      "14/14 [==============================] - 0s 5ms/step - loss: 590.8780 - val_loss: 408.3532\n",
      "Epoch 148/500\n",
      "14/14 [==============================] - 0s 5ms/step - loss: 580.8558 - val_loss: 402.8643\n",
      "Epoch 149/500\n",
      "14/14 [==============================] - 0s 5ms/step - loss: 570.9647 - val_loss: 397.4853\n",
      "Epoch 150/500\n",
      "14/14 [==============================] - 0s 5ms/step - loss: 561.2032 - val_loss: 392.2153\n",
      "Epoch 151/500\n",
      "14/14 [==============================] - 0s 5ms/step - loss: 551.5707 - val_loss: 387.0531\n",
      "Epoch 152/500\n",
      "14/14 [==============================] - 0s 5ms/step - loss: 542.0660 - val_loss: 381.9981\n",
      "Epoch 153/500\n",
      "14/14 [==============================] - 0s 16ms/step - loss: 532.6881 - val_loss: 377.0489\n",
      "Epoch 154/500\n",
      "14/14 [==============================] - 0s 4ms/step - loss: 523.4361 - val_loss: 372.2044\n",
      "Epoch 155/500\n",
      "14/14 [==============================] - 0s 5ms/step - loss: 514.3086 - val_loss: 367.4636\n",
      "Epoch 156/500\n",
      "14/14 [==============================] - 0s 6ms/step - loss: 505.3049 - val_loss: 362.8256\n",
      "Epoch 157/500\n",
      "14/14 [==============================] - 0s 5ms/step - loss: 496.4239 - val_loss: 358.2891\n",
      "Epoch 158/500\n",
      "14/14 [==============================] - 0s 4ms/step - loss: 487.6645 - val_loss: 353.8533\n",
      "Epoch 159/500\n",
      "14/14 [==============================] - 0s 4ms/step - loss: 479.0260 - val_loss: 349.5173\n",
      "Epoch 160/500\n",
      "14/14 [==============================] - 0s 5ms/step - loss: 470.5069 - val_loss: 345.2795\n",
      "Epoch 161/500\n",
      "14/14 [==============================] - 0s 5ms/step - loss: 462.1065 - val_loss: 341.1393\n",
      "Epoch 162/500\n",
      "14/14 [==============================] - 0s 5ms/step - loss: 453.8236 - val_loss: 337.0954\n",
      "Epoch 163/500\n",
      "14/14 [==============================] - 0s 5ms/step - loss: 445.6575 - val_loss: 333.1472\n",
      "Epoch 164/500\n",
      "14/14 [==============================] - 0s 5ms/step - loss: 437.6070 - val_loss: 329.2933\n",
      "Epoch 165/500\n",
      "14/14 [==============================] - 0s 5ms/step - loss: 429.6711 - val_loss: 325.5330\n",
      "Epoch 166/500\n",
      "14/14 [==============================] - 0s 5ms/step - loss: 421.8487 - val_loss: 321.8645\n",
      "Epoch 167/500\n",
      "14/14 [==============================] - 0s 5ms/step - loss: 414.1389 - val_loss: 318.2878\n",
      "Epoch 168/500\n",
      "14/14 [==============================] - 0s 8ms/step - loss: 406.5409 - val_loss: 314.8014\n",
      "Epoch 169/500\n",
      "14/14 [==============================] - 0s 9ms/step - loss: 399.0533 - val_loss: 311.4042\n",
      "Epoch 170/500\n",
      "14/14 [==============================] - 0s 9ms/step - loss: 391.6754 - val_loss: 308.0951\n",
      "Epoch 171/500\n",
      "14/14 [==============================] - 0s 6ms/step - loss: 384.4062 - val_loss: 304.8734\n",
      "Epoch 172/500\n",
      "14/14 [==============================] - 0s 6ms/step - loss: 377.2444 - val_loss: 301.7379\n",
      "Epoch 173/500\n",
      "14/14 [==============================] - 0s 6ms/step - loss: 370.1896 - val_loss: 298.6877\n",
      "Epoch 174/500\n",
      "14/14 [==============================] - 0s 5ms/step - loss: 363.2403 - val_loss: 295.7216\n",
      "Epoch 175/500\n",
      "14/14 [==============================] - 0s 4ms/step - loss: 356.3957 - val_loss: 292.8389\n",
      "Epoch 176/500\n",
      "14/14 [==============================] - 0s 5ms/step - loss: 349.6549 - val_loss: 290.0384\n",
      "Epoch 177/500\n",
      "14/14 [==============================] - 0s 6ms/step - loss: 343.0168 - val_loss: 287.3191\n",
      "Epoch 178/500\n",
      "14/14 [==============================] - 0s 6ms/step - loss: 336.4805 - val_loss: 284.6798\n",
      "Epoch 179/500\n",
      "14/14 [==============================] - 0s 5ms/step - loss: 330.0451 - val_loss: 282.1199\n",
      "Epoch 180/500\n",
      "14/14 [==============================] - 0s 6ms/step - loss: 323.7096 - val_loss: 279.6382\n",
      "Epoch 181/500\n",
      "14/14 [==============================] - 0s 5ms/step - loss: 317.4728 - val_loss: 277.2338\n",
      "Epoch 182/500\n",
      "14/14 [==============================] - 0s 5ms/step - loss: 311.3340 - val_loss: 274.9055\n",
      "Epoch 183/500\n",
      "14/14 [==============================] - 0s 6ms/step - loss: 305.2920 - val_loss: 272.6526\n",
      "Epoch 184/500\n",
      "14/14 [==============================] - 0s 6ms/step - loss: 299.3461 - val_loss: 270.4738\n",
      "Epoch 185/500\n",
      "14/14 [==============================] - 0s 6ms/step - loss: 293.4953 - val_loss: 268.3685\n",
      "Epoch 186/500\n",
      "14/14 [==============================] - 0s 6ms/step - loss: 287.7387 - val_loss: 266.3353\n",
      "Epoch 187/500\n",
      "14/14 [==============================] - 0s 6ms/step - loss: 282.0750 - val_loss: 264.3736\n",
      "Epoch 188/500\n",
      "14/14 [==============================] - 0s 12ms/step - loss: 276.5037 - val_loss: 262.4821\n",
      "Epoch 189/500\n",
      "14/14 [==============================] - 0s 5ms/step - loss: 271.0234 - val_loss: 260.6599\n",
      "Epoch 190/500\n",
      "14/14 [==============================] - 0s 5ms/step - loss: 265.6335 - val_loss: 258.9063\n",
      "Epoch 191/500\n",
      "14/14 [==============================] - 0s 5ms/step - loss: 260.3330 - val_loss: 257.2201\n",
      "Epoch 192/500\n",
      "14/14 [==============================] - 0s 5ms/step - loss: 255.1210 - val_loss: 255.6004\n",
      "Epoch 193/500\n",
      "14/14 [==============================] - 0s 5ms/step - loss: 249.9965 - val_loss: 254.0460\n",
      "Epoch 194/500\n",
      "14/14 [==============================] - 0s 5ms/step - loss: 244.9584 - val_loss: 252.5563\n",
      "Epoch 195/500\n",
      "14/14 [==============================] - 0s 5ms/step - loss: 240.0060 - val_loss: 251.1302\n",
      "Epoch 196/500\n",
      "14/14 [==============================] - 0s 5ms/step - loss: 235.1383 - val_loss: 249.7666\n",
      "Epoch 197/500\n",
      "14/14 [==============================] - 0s 5ms/step - loss: 230.3544 - val_loss: 248.4648\n",
      "Epoch 198/500\n",
      "14/14 [==============================] - 0s 6ms/step - loss: 225.6534 - val_loss: 247.2237\n",
      "Epoch 199/500\n",
      "14/14 [==============================] - 0s 6ms/step - loss: 221.0342 - val_loss: 246.0423\n",
      "Epoch 200/500\n",
      "14/14 [==============================] - 0s 7ms/step - loss: 216.4960 - val_loss: 244.9200\n",
      "Epoch 201/500\n",
      "14/14 [==============================] - 0s 6ms/step - loss: 212.0380 - val_loss: 243.8554\n",
      "Epoch 202/500\n",
      "14/14 [==============================] - 0s 6ms/step - loss: 207.6593 - val_loss: 242.8478\n",
      "Epoch 203/500\n",
      "14/14 [==============================] - 0s 6ms/step - loss: 203.3587 - val_loss: 241.8962\n",
      "Epoch 204/500\n",
      "14/14 [==============================] - 0s 6ms/step - loss: 199.1356 - val_loss: 240.9998\n",
      "Epoch 205/500\n",
      "14/14 [==============================] - 0s 6ms/step - loss: 194.9888 - val_loss: 240.1575\n",
      "Epoch 206/500\n",
      "14/14 [==============================] - 0s 5ms/step - loss: 190.9177 - val_loss: 239.3686\n",
      "Epoch 207/500\n",
      "14/14 [==============================] - 0s 6ms/step - loss: 186.9213 - val_loss: 238.6319\n",
      "Epoch 208/500\n",
      "14/14 [==============================] - 0s 7ms/step - loss: 182.9987 - val_loss: 237.9465\n",
      "Epoch 209/500\n",
      "14/14 [==============================] - 0s 5ms/step - loss: 179.1489 - val_loss: 237.3118\n",
      "Epoch 210/500\n",
      "14/14 [==============================] - 0s 6ms/step - loss: 175.3712 - val_loss: 236.7267\n",
      "Epoch 211/500\n",
      "14/14 [==============================] - 0s 6ms/step - loss: 171.6647 - val_loss: 236.1903\n",
      "Epoch 212/500\n",
      "14/14 [==============================] - 0s 5ms/step - loss: 168.0284 - val_loss: 235.7016\n",
      "Epoch 213/500\n",
      "14/14 [==============================] - 0s 6ms/step - loss: 164.4615 - val_loss: 235.2598\n",
      "Epoch 214/500\n",
      "14/14 [==============================] - 0s 14ms/step - loss: 160.9629 - val_loss: 234.8640\n",
      "Epoch 215/500\n",
      "14/14 [==============================] - 0s 7ms/step - loss: 157.5320 - val_loss: 234.5134\n",
      "Epoch 216/500\n",
      "14/14 [==============================] - 0s 5ms/step - loss: 154.1679 - val_loss: 234.2070\n",
      "Epoch 217/500\n",
      "14/14 [==============================] - 0s 6ms/step - loss: 150.8696 - val_loss: 233.9439\n",
      "Epoch 218/500\n",
      "14/14 [==============================] - 0s 7ms/step - loss: 147.6366 - val_loss: 233.7232\n",
      "Epoch 219/500\n",
      "14/14 [==============================] - 0s 6ms/step - loss: 144.4676 - val_loss: 233.5443\n",
      "Epoch 220/500\n",
      "14/14 [==============================] - 0s 6ms/step - loss: 141.3619 - val_loss: 233.4060\n",
      "Epoch 221/500\n",
      "14/14 [==============================] - 0s 6ms/step - loss: 138.3187 - val_loss: 233.3076\n",
      "Epoch 222/500\n",
      "14/14 [==============================] - 0s 6ms/step - loss: 135.3372 - val_loss: 233.2482\n",
      "Epoch 223/500\n",
      "14/14 [==============================] - 0s 5ms/step - loss: 132.4165 - val_loss: 233.2269\n",
      "Epoch 224/500\n",
      "14/14 [==============================] - 0s 6ms/step - loss: 129.5558 - val_loss: 233.2430\n",
      "Epoch 225/500\n",
      "14/14 [==============================] - 0s 6ms/step - loss: 126.7542 - val_loss: 233.2956\n",
      "Epoch 226/500\n",
      "14/14 [==============================] - 0s 6ms/step - loss: 124.0108 - val_loss: 233.3837\n",
      "Epoch 227/500\n",
      "14/14 [==============================] - 0s 6ms/step - loss: 121.3250 - val_loss: 233.5067\n",
      "Epoch 228/500\n",
      "14/14 [==============================] - 0s 6ms/step - loss: 118.6958 - val_loss: 233.6636\n",
      "Epoch 229/500\n",
      "14/14 [==============================] - 0s 6ms/step - loss: 116.1225 - val_loss: 233.8537\n",
      "Epoch 230/500\n",
      "14/14 [==============================] - 0s 5ms/step - loss: 113.6042 - val_loss: 234.0761\n",
      "Epoch 231/500\n",
      "14/14 [==============================] - 0s 6ms/step - loss: 111.1400 - val_loss: 234.3300\n",
      "Epoch 232/500\n",
      "14/14 [==============================] - 0s 6ms/step - loss: 108.7294 - val_loss: 234.6146\n",
      "Epoch 233/500\n",
      "14/14 [==============================] - 0s 6ms/step - loss: 106.3713 - val_loss: 234.9292\n",
      "Epoch 234/500\n",
      "14/14 [==============================] - 0s 5ms/step - loss: 104.0652 - val_loss: 235.2728\n",
      "Epoch 235/500\n",
      "14/14 [==============================] - 0s 6ms/step - loss: 101.8099 - val_loss: 235.6448\n",
      "Epoch 236/500\n",
      "14/14 [==============================] - 0s 6ms/step - loss: 99.6049 - val_loss: 236.0443\n",
      "Epoch 237/500\n",
      "14/14 [==============================] - 0s 6ms/step - loss: 97.4494 - val_loss: 236.4706\n",
      "Epoch 238/500\n",
      "14/14 [==============================] - 0s 6ms/step - loss: 95.3427 - val_loss: 236.9228\n",
      "Epoch 239/500\n",
      "14/14 [==============================] - 0s 7ms/step - loss: 93.2838 - val_loss: 237.4003\n",
      "Epoch 240/500\n",
      "14/14 [==============================] - 0s 6ms/step - loss: 91.2721 - val_loss: 237.9022\n",
      "Epoch 241/500\n",
      "14/14 [==============================] - 0s 7ms/step - loss: 89.3070 - val_loss: 238.4279\n",
      "Epoch 242/500\n",
      "14/14 [==============================] - 0s 14ms/step - loss: 87.3875 - val_loss: 238.9765\n",
      "Epoch 243/500\n",
      "14/14 [==============================] - 0s 6ms/step - loss: 85.5129 - val_loss: 239.5475\n",
      "Epoch 244/500\n",
      "14/14 [==============================] - 0s 7ms/step - loss: 83.6823 - val_loss: 240.1398\n",
      "Epoch 245/500\n",
      "14/14 [==============================] - 0s 6ms/step - loss: 81.8953 - val_loss: 240.7530\n",
      "Epoch 246/500\n",
      "14/14 [==============================] - 0s 7ms/step - loss: 80.1509 - val_loss: 241.3862\n",
      "Epoch 247/500\n",
      "14/14 [==============================] - 0s 6ms/step - loss: 78.4484 - val_loss: 242.0388\n",
      "Epoch 248/500\n",
      "14/14 [==============================] - 0s 6ms/step - loss: 76.7873 - val_loss: 242.7101\n",
      "Epoch 249/500\n",
      "14/14 [==============================] - 0s 6ms/step - loss: 75.1668 - val_loss: 243.3992\n",
      "Epoch 250/500\n",
      "14/14 [==============================] - 0s 5ms/step - loss: 73.5860 - val_loss: 244.1056\n",
      "Epoch 251/500\n",
      "14/14 [==============================] - 0s 6ms/step - loss: 72.0443 - val_loss: 244.8286\n",
      "Epoch 252/500\n",
      "14/14 [==============================] - 0s 8ms/step - loss: 70.5411 - val_loss: 245.5675\n",
      "Epoch 253/500\n",
      "14/14 [==============================] - 0s 6ms/step - loss: 69.0756 - val_loss: 246.3217\n",
      "Epoch 254/500\n",
      "14/14 [==============================] - 0s 7ms/step - loss: 67.6472 - val_loss: 247.0904\n",
      "Epoch 255/500\n",
      "14/14 [==============================] - 0s 5ms/step - loss: 66.2551 - val_loss: 247.8731\n",
      "Epoch 256/500\n",
      "14/14 [==============================] - 0s 6ms/step - loss: 64.8986 - val_loss: 248.6690\n",
      "Epoch 257/500\n",
      "14/14 [==============================] - 0s 7ms/step - loss: 63.5771 - val_loss: 249.4776\n",
      "Epoch 258/500\n",
      "14/14 [==============================] - 0s 7ms/step - loss: 62.2901 - val_loss: 250.2982\n",
      "Epoch 259/500\n",
      "14/14 [==============================] - 0s 7ms/step - loss: 61.0368 - val_loss: 251.1302\n",
      "Epoch 260/500\n",
      "14/14 [==============================] - 0s 7ms/step - loss: 59.8165 - val_loss: 251.9731\n",
      "Epoch 261/500\n",
      "14/14 [==============================] - 0s 7ms/step - loss: 58.6286 - val_loss: 252.8260\n",
      "Epoch 262/500\n",
      "14/14 [==============================] - 0s 6ms/step - loss: 57.4725 - val_loss: 253.6885\n",
      "Epoch 263/500\n",
      "14/14 [==============================] - 0s 7ms/step - loss: 56.3476 - val_loss: 254.5601\n",
      "Epoch 264/500\n",
      "14/14 [==============================] - 0s 14ms/step - loss: 55.2531 - val_loss: 255.4402\n",
      "Epoch 265/500\n",
      "14/14 [==============================] - 0s 6ms/step - loss: 54.1885 - val_loss: 256.3280\n",
      "Epoch 266/500\n",
      "14/14 [==============================] - 0s 6ms/step - loss: 53.1533 - val_loss: 257.2232\n",
      "Epoch 267/500\n",
      "14/14 [==============================] - 0s 6ms/step - loss: 52.1468 - val_loss: 258.1251\n",
      "Epoch 268/500\n",
      "14/14 [==============================] - 0s 7ms/step - loss: 51.1682 - val_loss: 259.0332\n",
      "Epoch 269/500\n",
      "14/14 [==============================] - 0s 6ms/step - loss: 50.2173 - val_loss: 259.9470\n",
      "Epoch 270/500\n",
      "14/14 [==============================] - 0s 7ms/step - loss: 49.2933 - val_loss: 260.8660\n",
      "Epoch 271/500\n",
      "14/14 [==============================] - 0s 6ms/step - loss: 48.3955 - val_loss: 261.7896\n",
      "Epoch 272/500\n",
      "14/14 [==============================] - 0s 5ms/step - loss: 47.5236 - val_loss: 262.7172\n",
      "Epoch 273/500\n",
      "14/14 [==============================] - 0s 5ms/step - loss: 46.6769 - val_loss: 263.6486\n",
      "Epoch 274/500\n",
      "14/14 [==============================] - 0s 5ms/step - loss: 45.8548 - val_loss: 264.5831\n",
      "Epoch 275/500\n",
      "14/14 [==============================] - 0s 6ms/step - loss: 45.0568 - val_loss: 265.5201\n",
      "Epoch 276/500\n",
      "14/14 [==============================] - 0s 5ms/step - loss: 44.2824 - val_loss: 266.4594\n",
      "Epoch 277/500\n",
      "14/14 [==============================] - 0s 5ms/step - loss: 43.5310 - val_loss: 267.4004\n",
      "Epoch 278/500\n",
      "14/14 [==============================] - 0s 5ms/step - loss: 42.8022 - val_loss: 268.3428\n",
      "Epoch 279/500\n",
      "14/14 [==============================] - 0s 6ms/step - loss: 42.0953 - val_loss: 269.2860\n",
      "Epoch 280/500\n",
      "14/14 [==============================] - 0s 5ms/step - loss: 41.4098 - val_loss: 270.2294\n",
      "Epoch 281/500\n",
      "14/14 [==============================] - 0s 5ms/step - loss: 40.7454 - val_loss: 271.1729\n",
      "Epoch 282/500\n",
      "14/14 [==============================] - 0s 5ms/step - loss: 40.1014 - val_loss: 272.1159\n",
      "Epoch 283/500\n",
      "14/14 [==============================] - 0s 5ms/step - loss: 39.4775 - val_loss: 273.0583\n",
      "Epoch 284/500\n",
      "14/14 [==============================] - 0s 5ms/step - loss: 38.8729 - val_loss: 273.9992\n",
      "Epoch 285/500\n",
      "14/14 [==============================] - 0s 5ms/step - loss: 38.2874 - val_loss: 274.9384\n",
      "Epoch 286/500\n",
      "14/14 [==============================] - 0s 5ms/step - loss: 37.7204 - val_loss: 275.8759\n",
      "Epoch 287/500\n",
      "14/14 [==============================] - 0s 5ms/step - loss: 37.1715 - val_loss: 276.8109\n",
      "Epoch 288/500\n",
      "14/14 [==============================] - 0s 5ms/step - loss: 36.6402 - val_loss: 277.7431\n",
      "Epoch 289/500\n",
      "14/14 [==============================] - 0s 7ms/step - loss: 36.1261 - val_loss: 278.6724\n",
      "Epoch 290/500\n",
      "14/14 [==============================] - 0s 13ms/step - loss: 35.6288 - val_loss: 279.5981\n",
      "Epoch 291/500\n",
      "14/14 [==============================] - 0s 5ms/step - loss: 35.1477 - val_loss: 280.5203\n",
      "Epoch 292/500\n",
      "14/14 [==============================] - 0s 6ms/step - loss: 34.6825 - val_loss: 281.4382\n",
      "Epoch 293/500\n",
      "14/14 [==============================] - 0s 5ms/step - loss: 34.2328 - val_loss: 282.3518\n",
      "Epoch 294/500\n",
      "14/14 [==============================] - 0s 5ms/step - loss: 33.7982 - val_loss: 283.2608\n",
      "Epoch 295/500\n",
      "14/14 [==============================] - 0s 5ms/step - loss: 33.3781 - val_loss: 284.1648\n",
      "Epoch 296/500\n",
      "14/14 [==============================] - 0s 5ms/step - loss: 32.9723 - val_loss: 285.0635\n",
      "Epoch 297/500\n",
      "14/14 [==============================] - 0s 5ms/step - loss: 32.5804 - val_loss: 285.9567\n",
      "Epoch 298/500\n",
      "14/14 [==============================] - 0s 5ms/step - loss: 32.2020 - val_loss: 286.8440\n",
      "Epoch 299/500\n",
      "14/14 [==============================] - 0s 6ms/step - loss: 31.8367 - val_loss: 287.7253\n",
      "Epoch 300/500\n",
      "14/14 [==============================] - 0s 6ms/step - loss: 31.4841 - val_loss: 288.6003\n",
      "Epoch 301/500\n",
      "14/14 [==============================] - 0s 5ms/step - loss: 31.1439 - val_loss: 289.4689\n",
      "Epoch 302/500\n",
      "14/14 [==============================] - 0s 5ms/step - loss: 30.8157 - val_loss: 290.3307\n",
      "Epoch 303/500\n",
      "14/14 [==============================] - 0s 6ms/step - loss: 30.4991 - val_loss: 291.1854\n",
      "Epoch 304/500\n",
      "14/14 [==============================] - 0s 5ms/step - loss: 30.1940 - val_loss: 292.0333\n",
      "Epoch 305/500\n",
      "14/14 [==============================] - 0s 5ms/step - loss: 29.8997 - val_loss: 292.8737\n",
      "Epoch 306/500\n",
      "14/14 [==============================] - 0s 6ms/step - loss: 29.6162 - val_loss: 293.7064\n",
      "Epoch 307/500\n",
      "14/14 [==============================] - 0s 6ms/step - loss: 29.3430 - val_loss: 294.5311\n",
      "Epoch 308/500\n",
      "14/14 [==============================] - 0s 6ms/step - loss: 29.0799 - val_loss: 295.3482\n",
      "Epoch 309/500\n",
      "14/14 [==============================] - 0s 6ms/step - loss: 28.8265 - val_loss: 296.1570\n",
      "Epoch 310/500\n",
      "14/14 [==============================] - 0s 6ms/step - loss: 28.5825 - val_loss: 296.9575\n",
      "Epoch 311/500\n",
      "14/14 [==============================] - 0s 6ms/step - loss: 28.3477 - val_loss: 297.7497\n",
      "Epoch 312/500\n",
      "14/14 [==============================] - 0s 8ms/step - loss: 28.1218 - val_loss: 298.5333\n",
      "Epoch 313/500\n",
      "14/14 [==============================] - 0s 20ms/step - loss: 27.9044 - val_loss: 299.3083\n",
      "Epoch 314/500\n",
      "14/14 [==============================] - 0s 10ms/step - loss: 27.6952 - val_loss: 300.0747\n",
      "Epoch 315/500\n",
      "14/14 [==============================] - 0s 10ms/step - loss: 27.4942 - val_loss: 300.8320\n",
      "Epoch 316/500\n",
      "14/14 [==============================] - 0s 10ms/step - loss: 27.3009 - val_loss: 301.5801\n",
      "Epoch 317/500\n",
      "14/14 [==============================] - 0s 8ms/step - loss: 27.1151 - val_loss: 302.3194\n",
      "Epoch 318/500\n",
      "14/14 [==============================] - 0s 8ms/step - loss: 26.9366 - val_loss: 303.0494\n",
      "Epoch 319/500\n",
      "14/14 [==============================] - 0s 9ms/step - loss: 26.7651 - val_loss: 303.7699\n",
      "Epoch 320/500\n",
      "14/14 [==============================] - 0s 8ms/step - loss: 26.6005 - val_loss: 304.4810\n",
      "Epoch 321/500\n",
      "14/14 [==============================] - 0s 7ms/step - loss: 26.4424 - val_loss: 305.1827\n",
      "Epoch 322/500\n",
      "14/14 [==============================] - 0s 6ms/step - loss: 26.2907 - val_loss: 305.8749\n",
      "Epoch 323/500\n",
      "14/14 [==============================] - 0s 7ms/step - loss: 26.1450 - val_loss: 306.5576\n",
      "Epoch 324/500\n",
      "14/14 [==============================] - 0s 6ms/step - loss: 26.0053 - val_loss: 307.2303\n",
      "Epoch 325/500\n",
      "14/14 [==============================] - 0s 6ms/step - loss: 25.8713 - val_loss: 307.8936\n",
      "Epoch 326/500\n",
      "14/14 [==============================] - 0s 6ms/step - loss: 25.7429 - val_loss: 308.5473\n",
      "Epoch 327/500\n",
      "14/14 [==============================] - 0s 6ms/step - loss: 25.6197 - val_loss: 309.1910\n",
      "Epoch 328/500\n",
      "14/14 [==============================] - 0s 5ms/step - loss: 25.5016 - val_loss: 309.8251\n",
      "Epoch 329/500\n",
      "14/14 [==============================] - 0s 5ms/step - loss: 25.3885 - val_loss: 310.4495\n",
      "Epoch 330/500\n",
      "14/14 [==============================] - 0s 5ms/step - loss: 25.2801 - val_loss: 311.0638\n",
      "Epoch 331/500\n",
      "14/14 [==============================] - 0s 6ms/step - loss: 25.1763 - val_loss: 311.6689\n",
      "Epoch 332/500\n",
      "14/14 [==============================] - 0s 7ms/step - loss: 25.0769 - val_loss: 312.2638\n",
      "Epoch 333/500\n",
      "14/14 [==============================] - 0s 8ms/step - loss: 24.9817 - val_loss: 312.8489\n",
      "Epoch 334/500\n",
      "14/14 [==============================] - 0s 6ms/step - loss: 24.8907 - val_loss: 313.4242\n",
      "Epoch 335/500\n",
      "14/14 [==============================] - 0s 16ms/step - loss: 24.8036 - val_loss: 313.9897\n",
      "Epoch 336/500\n",
      "14/14 [==============================] - 0s 7ms/step - loss: 24.7202 - val_loss: 314.5456\n",
      "Epoch 337/500\n",
      "14/14 [==============================] - 0s 6ms/step - loss: 24.6405 - val_loss: 315.0918\n",
      "Epoch 338/500\n",
      "14/14 [==============================] - 0s 6ms/step - loss: 24.5643 - val_loss: 315.6282\n",
      "Epoch 339/500\n",
      "14/14 [==============================] - 0s 6ms/step - loss: 24.4915 - val_loss: 316.1550\n",
      "Epoch 340/500\n",
      "14/14 [==============================] - 0s 6ms/step - loss: 24.4219 - val_loss: 316.6721\n",
      "Epoch 341/500\n",
      "14/14 [==============================] - 0s 6ms/step - loss: 24.3554 - val_loss: 317.1797\n",
      "Epoch 342/500\n",
      "14/14 [==============================] - 0s 6ms/step - loss: 24.2919 - val_loss: 317.6778\n",
      "Epoch 343/500\n",
      "14/14 [==============================] - 0s 7ms/step - loss: 24.2312 - val_loss: 318.1662\n",
      "Epoch 344/500\n",
      "14/14 [==============================] - 0s 6ms/step - loss: 24.1733 - val_loss: 318.6455\n",
      "Epoch 345/500\n",
      "14/14 [==============================] - 0s 6ms/step - loss: 24.1180 - val_loss: 319.1153\n",
      "Epoch 346/500\n",
      "14/14 [==============================] - 0s 6ms/step - loss: 24.0652 - val_loss: 319.5758\n",
      "Epoch 347/500\n",
      "14/14 [==============================] - 0s 6ms/step - loss: 24.0149 - val_loss: 320.0273\n",
      "Epoch 348/500\n",
      "14/14 [==============================] - 0s 6ms/step - loss: 23.9669 - val_loss: 320.4696\n",
      "Epoch 349/500\n",
      "14/14 [==============================] - 0s 6ms/step - loss: 23.9211 - val_loss: 320.9028\n",
      "Epoch 350/500\n",
      "14/14 [==============================] - 0s 6ms/step - loss: 23.8774 - val_loss: 321.3271\n",
      "Epoch 351/500\n",
      "14/14 [==============================] - 0s 6ms/step - loss: 23.8358 - val_loss: 321.7422\n",
      "Epoch 352/500\n",
      "14/14 [==============================] - 0s 6ms/step - loss: 23.7961 - val_loss: 322.1486\n",
      "Epoch 353/500\n",
      "14/14 [==============================] - 0s 6ms/step - loss: 23.7583 - val_loss: 322.5462\n",
      "Epoch 354/500\n",
      "14/14 [==============================] - 0s 6ms/step - loss: 23.7223 - val_loss: 322.9353\n",
      "Epoch 355/500\n",
      "14/14 [==============================] - 0s 6ms/step - loss: 23.6880 - val_loss: 323.3157\n",
      "Epoch 356/500\n",
      "14/14 [==============================] - 0s 11ms/step - loss: 23.6554 - val_loss: 323.6882\n",
      "Epoch 357/500\n",
      "14/14 [==============================] - 0s 6ms/step - loss: 23.6242 - val_loss: 324.0521\n",
      "Epoch 358/500\n",
      "14/14 [==============================] - 0s 7ms/step - loss: 23.5946 - val_loss: 324.4075\n",
      "Epoch 359/500\n",
      "14/14 [==============================] - 0s 6ms/step - loss: 23.5664 - val_loss: 324.7549\n",
      "Epoch 360/500\n",
      "14/14 [==============================] - 0s 6ms/step - loss: 23.5395 - val_loss: 325.0944\n",
      "Epoch 361/500\n",
      "14/14 [==============================] - 0s 6ms/step - loss: 23.5140 - val_loss: 325.4254\n",
      "Epoch 362/500\n",
      "14/14 [==============================] - 0s 6ms/step - loss: 23.4897 - val_loss: 325.7491\n",
      "Epoch 363/500\n",
      "14/14 [==============================] - 0s 6ms/step - loss: 23.4666 - val_loss: 326.0652\n",
      "Epoch 364/500\n",
      "14/14 [==============================] - 0s 5ms/step - loss: 23.4447 - val_loss: 326.3734\n",
      "Epoch 365/500\n",
      "14/14 [==============================] - 0s 7ms/step - loss: 23.4237 - val_loss: 326.6739\n",
      "Epoch 366/500\n",
      "14/14 [==============================] - 0s 5ms/step - loss: 23.4039 - val_loss: 326.9671\n",
      "Epoch 367/500\n",
      "14/14 [==============================] - 0s 5ms/step - loss: 23.3850 - val_loss: 327.2530\n",
      "Epoch 368/500\n",
      "14/14 [==============================] - 0s 5ms/step - loss: 23.3671 - val_loss: 327.5320\n",
      "Epoch 369/500\n",
      "14/14 [==============================] - 0s 5ms/step - loss: 23.3500 - val_loss: 327.8037\n",
      "Epoch 370/500\n",
      "14/14 [==============================] - 0s 6ms/step - loss: 23.3338 - val_loss: 328.0684\n",
      "Epoch 371/500\n",
      "14/14 [==============================] - 0s 6ms/step - loss: 23.3185 - val_loss: 328.3264\n",
      "Epoch 372/500\n",
      "14/14 [==============================] - 0s 5ms/step - loss: 23.3039 - val_loss: 328.5779\n",
      "Epoch 373/500\n",
      "14/14 [==============================] - 0s 6ms/step - loss: 23.2899 - val_loss: 328.8225\n",
      "Epoch 374/500\n",
      "14/14 [==============================] - 0s 6ms/step - loss: 23.2767 - val_loss: 329.0607\n",
      "Epoch 375/500\n",
      "14/14 [==============================] - 0s 5ms/step - loss: 23.2642 - val_loss: 329.2927\n",
      "Epoch 376/500\n",
      "14/14 [==============================] - 0s 5ms/step - loss: 23.2523 - val_loss: 329.5182\n",
      "Epoch 377/500\n",
      "14/14 [==============================] - 0s 12ms/step - loss: 23.2410 - val_loss: 329.7376\n",
      "Epoch 378/500\n",
      "14/14 [==============================] - 0s 5ms/step - loss: 23.2303 - val_loss: 329.9510\n",
      "Epoch 379/500\n",
      "14/14 [==============================] - 0s 6ms/step - loss: 23.2202 - val_loss: 330.1586\n",
      "Epoch 380/500\n",
      "14/14 [==============================] - 0s 6ms/step - loss: 23.2104 - val_loss: 330.3603\n",
      "Epoch 381/500\n",
      "14/14 [==============================] - 0s 6ms/step - loss: 23.2013 - val_loss: 330.5564\n",
      "Epoch 382/500\n",
      "14/14 [==============================] - 0s 6ms/step - loss: 23.1926 - val_loss: 330.7468\n",
      "Epoch 383/500\n",
      "14/14 [==============================] - 0s 6ms/step - loss: 23.1844 - val_loss: 330.9319\n",
      "Epoch 384/500\n",
      "14/14 [==============================] - 0s 5ms/step - loss: 23.1765 - val_loss: 331.1117\n",
      "Epoch 385/500\n",
      "14/14 [==============================] - 0s 5ms/step - loss: 23.1691 - val_loss: 331.2862\n",
      "Epoch 386/500\n",
      "14/14 [==============================] - 0s 6ms/step - loss: 23.1621 - val_loss: 331.4556\n",
      "Epoch 387/500\n",
      "14/14 [==============================] - 0s 6ms/step - loss: 23.1554 - val_loss: 331.6201\n",
      "Epoch 388/500\n",
      "14/14 [==============================] - 0s 5ms/step - loss: 23.1490 - val_loss: 331.7793\n",
      "Epoch 389/500\n",
      "14/14 [==============================] - 0s 5ms/step - loss: 23.1430 - val_loss: 331.9344\n",
      "Epoch 390/500\n",
      "14/14 [==============================] - 0s 6ms/step - loss: 23.1373 - val_loss: 332.0844\n",
      "Epoch 391/500\n",
      "14/14 [==============================] - 0s 6ms/step - loss: 23.1319 - val_loss: 332.2294\n",
      "Epoch 392/500\n",
      "14/14 [==============================] - 0s 6ms/step - loss: 23.1268 - val_loss: 332.3706\n",
      "Epoch 393/500\n",
      "14/14 [==============================] - 0s 5ms/step - loss: 23.1219 - val_loss: 332.5073\n",
      "Epoch 394/500\n",
      "14/14 [==============================] - 0s 5ms/step - loss: 23.1172 - val_loss: 332.6397\n",
      "Epoch 395/500\n",
      "14/14 [==============================] - 0s 5ms/step - loss: 23.1129 - val_loss: 332.7676\n",
      "Epoch 396/500\n",
      "14/14 [==============================] - 0s 4ms/step - loss: 23.1087 - val_loss: 332.8916\n",
      "Epoch 397/500\n",
      "14/14 [==============================] - 0s 5ms/step - loss: 23.1048 - val_loss: 333.0117\n",
      "Epoch 398/500\n",
      "14/14 [==============================] - 0s 12ms/step - loss: 23.1011 - val_loss: 333.1278\n",
      "Epoch 399/500\n",
      "14/14 [==============================] - 0s 5ms/step - loss: 23.0975 - val_loss: 333.2405\n",
      "Epoch 400/500\n",
      "14/14 [==============================] - 0s 6ms/step - loss: 23.0942 - val_loss: 333.3495\n",
      "Epoch 401/500\n",
      "14/14 [==============================] - 0s 6ms/step - loss: 23.0910 - val_loss: 333.4546\n",
      "Epoch 402/500\n",
      "14/14 [==============================] - 0s 6ms/step - loss: 23.0880 - val_loss: 333.5565\n",
      "Epoch 403/500\n",
      "14/14 [==============================] - 0s 6ms/step - loss: 23.0851 - val_loss: 333.6545\n",
      "Epoch 404/500\n",
      "14/14 [==============================] - 0s 5ms/step - loss: 23.0824 - val_loss: 333.7497\n",
      "Epoch 405/500\n",
      "14/14 [==============================] - 0s 5ms/step - loss: 23.0799 - val_loss: 333.8418\n",
      "Epoch 406/500\n",
      "14/14 [==============================] - 0s 5ms/step - loss: 23.0774 - val_loss: 333.9303\n",
      "Epoch 407/500\n",
      "14/14 [==============================] - 0s 5ms/step - loss: 23.0751 - val_loss: 334.0159\n",
      "Epoch 408/500\n",
      "14/14 [==============================] - 0s 5ms/step - loss: 23.0729 - val_loss: 334.0987\n",
      "Epoch 409/500\n",
      "14/14 [==============================] - 0s 5ms/step - loss: 23.0709 - val_loss: 334.1787\n",
      "Epoch 410/500\n",
      "14/14 [==============================] - 0s 5ms/step - loss: 23.0690 - val_loss: 334.2558\n",
      "Epoch 411/500\n",
      "14/14 [==============================] - 0s 5ms/step - loss: 23.0671 - val_loss: 334.3299\n",
      "Epoch 412/500\n",
      "14/14 [==============================] - 0s 6ms/step - loss: 23.0654 - val_loss: 334.4015\n",
      "Epoch 413/500\n",
      "14/14 [==============================] - 0s 5ms/step - loss: 23.0637 - val_loss: 334.4708\n",
      "Epoch 414/500\n",
      "14/14 [==============================] - 0s 6ms/step - loss: 23.0621 - val_loss: 334.5374\n",
      "Epoch 415/500\n",
      "14/14 [==============================] - 0s 6ms/step - loss: 23.0606 - val_loss: 334.6015\n",
      "Epoch 416/500\n",
      "14/14 [==============================] - 0s 6ms/step - loss: 23.0593 - val_loss: 334.6634\n",
      "Epoch 417/500\n",
      "14/14 [==============================] - 0s 5ms/step - loss: 23.0579 - val_loss: 334.7234\n",
      "Epoch 418/500\n",
      "14/14 [==============================] - 0s 5ms/step - loss: 23.0566 - val_loss: 334.7808\n",
      "Epoch 419/500\n",
      "14/14 [==============================] - 0s 5ms/step - loss: 23.0554 - val_loss: 334.8360\n",
      "Epoch 420/500\n",
      "14/14 [==============================] - 0s 6ms/step - loss: 23.0543 - val_loss: 334.8893\n",
      "Epoch 421/500\n",
      "14/14 [==============================] - 0s 5ms/step - loss: 23.0533 - val_loss: 334.9405\n",
      "Epoch 422/500\n",
      "14/14 [==============================] - 0s 6ms/step - loss: 23.0523 - val_loss: 334.9900\n",
      "Epoch 423/500\n",
      "14/14 [==============================] - 0s 5ms/step - loss: 23.0513 - val_loss: 335.0375\n",
      "Epoch 424/500\n",
      "14/14 [==============================] - 0s 5ms/step - loss: 23.0504 - val_loss: 335.0833\n",
      "Epoch 425/500\n",
      "14/14 [==============================] - 0s 11ms/step - loss: 23.0496 - val_loss: 335.1270\n",
      "Epoch 426/500\n",
      "14/14 [==============================] - 0s 6ms/step - loss: 23.0488 - val_loss: 335.1691\n",
      "Epoch 427/500\n",
      "14/14 [==============================] - 0s 6ms/step - loss: 23.0481 - val_loss: 335.2094\n",
      "Epoch 428/500\n",
      "14/14 [==============================] - 0s 6ms/step - loss: 23.0474 - val_loss: 335.2485\n",
      "Epoch 429/500\n",
      "14/14 [==============================] - 0s 5ms/step - loss: 23.0467 - val_loss: 335.2856\n",
      "Epoch 430/500\n",
      "14/14 [==============================] - 0s 6ms/step - loss: 23.0461 - val_loss: 335.3214\n",
      "Epoch 431/500\n",
      "14/14 [==============================] - 0s 5ms/step - loss: 23.0455 - val_loss: 335.3560\n",
      "Epoch 432/500\n",
      "14/14 [==============================] - 0s 5ms/step - loss: 23.0450 - val_loss: 335.3890\n",
      "Epoch 433/500\n",
      "14/14 [==============================] - 0s 5ms/step - loss: 23.0444 - val_loss: 335.4209\n",
      "Epoch 434/500\n",
      "14/14 [==============================] - 0s 5ms/step - loss: 23.0440 - val_loss: 335.4514\n",
      "Epoch 435/500\n",
      "14/14 [==============================] - 0s 6ms/step - loss: 23.0435 - val_loss: 335.4802\n",
      "Epoch 436/500\n",
      "14/14 [==============================] - 0s 5ms/step - loss: 23.0431 - val_loss: 335.5082\n",
      "Epoch 437/500\n",
      "14/14 [==============================] - 0s 7ms/step - loss: 23.0427 - val_loss: 335.5349\n",
      "Epoch 438/500\n",
      "14/14 [==============================] - 0s 6ms/step - loss: 23.0424 - val_loss: 335.5606\n",
      "Epoch 439/500\n",
      "14/14 [==============================] - 0s 5ms/step - loss: 23.0421 - val_loss: 335.5854\n",
      "Epoch 440/500\n",
      "14/14 [==============================] - 0s 5ms/step - loss: 23.0417 - val_loss: 335.6088\n",
      "Epoch 441/500\n",
      "14/14 [==============================] - 0s 6ms/step - loss: 23.0414 - val_loss: 335.6314\n",
      "Epoch 442/500\n",
      "14/14 [==============================] - 0s 6ms/step - loss: 23.0412 - val_loss: 335.6528\n",
      "Epoch 443/500\n",
      "14/14 [==============================] - 0s 5ms/step - loss: 23.0409 - val_loss: 335.6738\n",
      "Epoch 444/500\n",
      "14/14 [==============================] - 0s 6ms/step - loss: 23.0407 - val_loss: 335.6935\n",
      "Epoch 445/500\n",
      "14/14 [==============================] - 0s 5ms/step - loss: 23.0405 - val_loss: 335.7123\n",
      "Epoch 446/500\n",
      "14/14 [==============================] - 0s 5ms/step - loss: 23.0403 - val_loss: 335.7306\n",
      "Epoch 447/500\n",
      "14/14 [==============================] - 0s 6ms/step - loss: 23.0401 - val_loss: 335.7479\n",
      "Epoch 448/500\n",
      "14/14 [==============================] - 0s 5ms/step - loss: 23.0400 - val_loss: 335.7645\n",
      "Epoch 449/500\n",
      "14/14 [==============================] - 0s 6ms/step - loss: 23.0398 - val_loss: 335.7802\n",
      "Epoch 450/500\n",
      "14/14 [==============================] - 0s 6ms/step - loss: 23.0397 - val_loss: 335.7954\n",
      "Epoch 451/500\n",
      "14/14 [==============================] - 0s 5ms/step - loss: 23.0396 - val_loss: 335.8098\n",
      "Epoch 452/500\n",
      "14/14 [==============================] - 0s 5ms/step - loss: 23.0395 - val_loss: 335.8234\n",
      "Epoch 453/500\n",
      "14/14 [==============================] - 0s 6ms/step - loss: 23.0394 - val_loss: 335.8365\n",
      "Epoch 454/500\n",
      "14/14 [==============================] - 0s 10ms/step - loss: 23.0393 - val_loss: 335.8489\n",
      "Epoch 455/500\n",
      "14/14 [==============================] - 0s 5ms/step - loss: 23.0393 - val_loss: 335.8609\n",
      "Epoch 456/500\n",
      "14/14 [==============================] - 0s 5ms/step - loss: 23.0393 - val_loss: 335.8725\n",
      "Epoch 457/500\n",
      "14/14 [==============================] - 0s 5ms/step - loss: 23.0392 - val_loss: 335.8836\n",
      "Epoch 458/500\n",
      "14/14 [==============================] - 0s 6ms/step - loss: 23.0392 - val_loss: 335.8940\n",
      "Epoch 459/500\n",
      "14/14 [==============================] - 0s 6ms/step - loss: 23.0392 - val_loss: 335.9038\n",
      "Epoch 460/500\n",
      "14/14 [==============================] - 0s 5ms/step - loss: 23.0391 - val_loss: 335.9132\n",
      "Epoch 461/500\n",
      "14/14 [==============================] - 0s 6ms/step - loss: 23.0392 - val_loss: 335.9221\n",
      "Epoch 462/500\n",
      "14/14 [==============================] - 0s 5ms/step - loss: 23.0392 - val_loss: 335.9304\n",
      "Epoch 463/500\n",
      "14/14 [==============================] - 0s 7ms/step - loss: 23.0392 - val_loss: 335.9387\n",
      "Epoch 464/500\n",
      "14/14 [==============================] - 0s 5ms/step - loss: 23.0392 - val_loss: 335.9464\n",
      "Epoch 465/500\n",
      "14/14 [==============================] - 0s 5ms/step - loss: 23.0392 - val_loss: 335.9537\n",
      "Epoch 466/500\n",
      "14/14 [==============================] - 0s 4ms/step - loss: 23.0393 - val_loss: 335.9607\n",
      "Epoch 467/500\n",
      "14/14 [==============================] - 0s 6ms/step - loss: 23.0393 - val_loss: 335.9674\n",
      "Epoch 468/500\n",
      "14/14 [==============================] - 0s 5ms/step - loss: 23.0394 - val_loss: 335.9734\n",
      "Epoch 469/500\n",
      "14/14 [==============================] - 0s 5ms/step - loss: 23.0395 - val_loss: 335.9797\n",
      "Epoch 470/500\n",
      "14/14 [==============================] - 0s 5ms/step - loss: 23.0395 - val_loss: 335.9851\n",
      "Epoch 471/500\n",
      "14/14 [==============================] - 0s 6ms/step - loss: 23.0396 - val_loss: 335.9903\n",
      "Epoch 472/500\n",
      "14/14 [==============================] - 0s 5ms/step - loss: 23.0397 - val_loss: 335.9957\n",
      "Epoch 473/500\n",
      "14/14 [==============================] - 0s 6ms/step - loss: 23.0397 - val_loss: 336.0005\n",
      "Epoch 474/500\n",
      "14/14 [==============================] - 0s 5ms/step - loss: 23.0398 - val_loss: 336.0048\n",
      "Epoch 475/500\n",
      "14/14 [==============================] - 0s 6ms/step - loss: 23.0399 - val_loss: 336.0093\n",
      "Epoch 476/500\n",
      "14/14 [==============================] - 0s 5ms/step - loss: 23.0400 - val_loss: 336.0134\n",
      "Epoch 477/500\n",
      "14/14 [==============================] - 0s 5ms/step - loss: 23.0401 - val_loss: 336.0174\n",
      "Epoch 478/500\n",
      "14/14 [==============================] - 0s 5ms/step - loss: 23.0401 - val_loss: 336.0208\n",
      "Epoch 479/500\n",
      "14/14 [==============================] - 0s 12ms/step - loss: 23.0402 - val_loss: 336.0241\n",
      "Epoch 480/500\n",
      "14/14 [==============================] - 0s 7ms/step - loss: 23.0403 - val_loss: 336.0273\n",
      "Epoch 481/500\n",
      "14/14 [==============================] - 0s 6ms/step - loss: 23.0404 - val_loss: 336.0304\n",
      "Epoch 482/500\n",
      "14/14 [==============================] - 0s 5ms/step - loss: 23.0406 - val_loss: 336.0333\n",
      "Epoch 483/500\n",
      "14/14 [==============================] - 0s 5ms/step - loss: 23.0407 - val_loss: 336.0363\n",
      "Epoch 484/500\n",
      "14/14 [==============================] - 0s 6ms/step - loss: 23.0408 - val_loss: 336.0389\n",
      "Epoch 485/500\n",
      "14/14 [==============================] - 0s 6ms/step - loss: 23.0409 - val_loss: 336.0413\n",
      "Epoch 486/500\n",
      "14/14 [==============================] - 0s 5ms/step - loss: 23.0410 - val_loss: 336.0434\n",
      "Epoch 487/500\n",
      "14/14 [==============================] - 0s 5ms/step - loss: 23.0412 - val_loss: 336.0456\n",
      "Epoch 488/500\n",
      "14/14 [==============================] - 0s 5ms/step - loss: 23.0413 - val_loss: 336.0475\n",
      "Epoch 489/500\n",
      "14/14 [==============================] - 0s 5ms/step - loss: 23.0414 - val_loss: 336.0496\n",
      "Epoch 490/500\n",
      "14/14 [==============================] - 0s 5ms/step - loss: 23.0415 - val_loss: 336.0512\n",
      "Epoch 491/500\n",
      "14/14 [==============================] - 0s 5ms/step - loss: 23.0417 - val_loss: 336.0530\n",
      "Epoch 492/500\n",
      "14/14 [==============================] - 0s 6ms/step - loss: 23.0418 - val_loss: 336.0545\n",
      "Epoch 493/500\n",
      "14/14 [==============================] - 0s 5ms/step - loss: 23.0419 - val_loss: 336.0560\n",
      "Epoch 494/500\n",
      "14/14 [==============================] - 0s 5ms/step - loss: 23.0420 - val_loss: 336.0575\n",
      "Epoch 495/500\n",
      "14/14 [==============================] - 0s 5ms/step - loss: 23.0422 - val_loss: 336.0587\n",
      "Epoch 496/500\n",
      "14/14 [==============================] - 0s 6ms/step - loss: 23.0423 - val_loss: 336.0599\n",
      "Epoch 497/500\n",
      "14/14 [==============================] - 0s 5ms/step - loss: 23.0424 - val_loss: 336.0610\n",
      "Epoch 498/500\n",
      "14/14 [==============================] - 0s 6ms/step - loss: 23.0426 - val_loss: 336.0620\n",
      "Epoch 499/500\n",
      "14/14 [==============================] - 0s 5ms/step - loss: 23.0427 - val_loss: 336.0628\n",
      "Epoch 500/500\n",
      "14/14 [==============================] - 0s 6ms/step - loss: 23.0428 - val_loss: 336.0636\n"
     ]
    }
   ],
   "source": [
    "C0 = tf.Variable(82.7524, name=\"C0\", trainable=True, dtype=tf.float32)\n",
    "K0 = tf.Variable(-0.0031, name=\"K0\", trainable=True, dtype=tf.float32)\n",
    "K1 = tf.Variable(-0.0003, name=\"K1\", trainable=True, dtype=tf.float32)\n",
    "a = tf.Variable(0.0000, name=\"a\", trainable=True, dtype=tf.float32)\n",
    "b = tf.Variable(0.0171, name=\"b\", trainable=True, dtype=tf.float32)\n",
    "c = tf.Variable(3.0230, name=\"c\", trainable=True, dtype=tf.float32)\n",
    "\n",
    "splitr = 0.8\n",
    "\n",
    "\n",
    "def loss_fn(y_true, y_pred):\n",
    "    squared_difference = tf.square(y_true[:, 0] - y_pred[:, 0])\n",
    "    #squared_difference2 = tf.square(y_true[:, 2]-y_pred[:, 2])\n",
    "    #squared_difference1 = tf.square(y_true[:, 1]-y_pred[:, 1])\n",
    "    epsilon = 1\n",
    "    squared_difference3 = tf.square(\n",
    "        y_pred[:, 1] - (\n",
    "            y_pred[:, 0] * (\n",
    "                K0 - K1 * (\n",
    "                    9 * a * tf.math.log((y_pred[:, 0] + epsilon) / C0) / (K0 - K1 * c)**2 +\n",
    "                    4 * b * tf.math.log((y_pred[:, 0] + epsilon) / C0) / (K0 - K1 * c) + c\n",
    "                )\n",
    "            )\n",
    "        )\n",
    "    )\n",
    "    return tf.reduce_mean(squared_difference, axis=-1) + 0.2*tf.reduce_mean(squared_difference3, axis=-1)\n",
    "model = Sequential()\n",
    "model.add(LSTM(100, input_shape=(trainX.shape[1], trainX.shape[2])))\n",
    "model.add(Dense(60))\n",
    "model.compile(loss=loss_fn, optimizer='adam')\n",
    "history = model.fit(trainX[:int(splitr*trainX.shape[0])], trainy[:int(splitr*trainX.shape[0])], epochs=500, batch_size=64, validation_data=(trainX[int(splitr*trainX.shape[0]):trainX.shape[0]], trainy[int(splitr*trainX.shape[0]):trainX.shape[0]]), shuffle=False)"
   ]
  },
  {
   "cell_type": "code",
   "execution_count": 19,
   "metadata": {
    "colab": {
     "base_uri": "https://localhost:8080/"
    },
    "id": "yJL101rPyuoT",
    "outputId": "239ff2b1-c186-423a-d316-939dfdd7c793"
   },
   "outputs": [
    {
     "name": "stdout",
     "output_type": "stream",
     "text": [
      "1/1 [==============================] - 0s 417ms/step\n"
     ]
    }
   ],
   "source": [
    "forecast_without_mc = forecastX\n",
    "yhat_without_mc = model.predict(forecast_without_mc) # Step Ahead Prediction\n",
    "forecast_without_mc = forecast_without_mc.reshape((forecast_without_mc.shape[0], forecast_without_mc.shape[2])) # Historical Input"
   ]
  },
  {
   "cell_type": "code",
   "execution_count": 20,
   "metadata": {
    "colab": {
     "base_uri": "https://localhost:8080/"
    },
    "id": "g9dQELcJ8wbp",
    "outputId": "4dc7671b-b1a8-48d5-8744-a86f98446109"
   },
   "outputs": [
    {
     "data": {
      "text/plain": [
       "(1, 1, 251)"
      ]
     },
     "execution_count": 20,
     "metadata": {},
     "output_type": "execute_result"
    }
   ],
   "source": [
    "forecastX.shape"
   ]
  },
  {
   "cell_type": "code",
   "execution_count": 21,
   "metadata": {
    "colab": {
     "base_uri": "https://localhost:8080/"
    },
    "id": "IS2kyIKG1Kbr",
    "outputId": "f31b3485-8e26-452f-9298-ea8bf7e80ad1"
   },
   "outputs": [
    {
     "data": {
      "text/plain": [
       "(1, 251)"
      ]
     },
     "execution_count": 21,
     "metadata": {},
     "output_type": "execute_result"
    }
   ],
   "source": [
    "forecast_without_mc.shape"
   ]
  },
  {
   "cell_type": "code",
   "execution_count": 22,
   "metadata": {
    "id": "0u6VIzaDyuoT"
   },
   "outputs": [],
   "source": [
    "inv_yhat_without_mc = np.concatenate((forecast_without_mc, yhat_without_mc), axis=1) # Concatenation of predicted values with Historical Data\n",
    "#inv_yhat_without_mc = scaler.inverse_transform(inv_yhat_without_mc) # Transform labels back to original encoding"
   ]
  },
  {
   "cell_type": "code",
   "execution_count": 23,
   "metadata": {
    "colab": {
     "base_uri": "https://localhost:8080/"
    },
    "id": "EUEcw0LX07oU",
    "outputId": "cfc32397-9c37-4b43-d087-584bb31c3dcc"
   },
   "outputs": [
    {
     "data": {
      "text/plain": [
       "(1, 311)"
      ]
     },
     "execution_count": 23,
     "metadata": {},
     "output_type": "execute_result"
    }
   ],
   "source": [
    "inv_yhat_without_mc.shape"
   ]
  },
  {
   "cell_type": "code",
   "execution_count": 24,
   "metadata": {
    "id": "31OWVbSh_305"
   },
   "outputs": [],
   "source": [
    "fforecast = inv_yhat_without_mc[:,-300:]"
   ]
  },
  {
   "cell_type": "code",
   "execution_count": 25,
   "metadata": {},
   "outputs": [
    {
     "data": {
      "text/plain": [
       "(1, 300)"
      ]
     },
     "execution_count": 25,
     "metadata": {},
     "output_type": "execute_result"
    }
   ],
   "source": [
    "fforecast.shape"
   ]
  },
  {
   "cell_type": "code",
   "execution_count": 26,
   "metadata": {
    "id": "BlpGH2FOAiRF"
   },
   "outputs": [],
   "source": [
    "final_forecast = fforecast[:,0:300:3]"
   ]
  },
  {
   "cell_type": "code",
   "execution_count": 27,
   "metadata": {},
   "outputs": [
    {
     "data": {
      "text/plain": [
       "(1, 300)"
      ]
     },
     "execution_count": 27,
     "metadata": {},
     "output_type": "execute_result"
    }
   ],
   "source": [
    "fforecast.shape"
   ]
  },
  {
   "cell_type": "code",
   "execution_count": 28,
   "metadata": {
    "id": "CXkgkj_LBk_t"
   },
   "outputs": [],
   "source": [
    "# code to replace all negative value with 0\n",
    "final_forecast[final_forecast<0] = 0"
   ]
  },
  {
   "cell_type": "code",
   "execution_count": 29,
   "metadata": {},
   "outputs": [
    {
     "data": {
      "text/plain": [
       "array([[5.79715920e+01, 5.79575864e+01, 5.79435808e+01, 5.79295752e+01,\n",
       "        5.79155696e+01, 5.79015640e+01, 5.78875584e+01, 5.78735528e+01,\n",
       "        5.78595471e+01, 5.78455416e+01, 5.78315360e+01, 5.78175303e+01,\n",
       "        5.78035247e+01, 5.77895191e+01, 5.77755135e+01, 5.77615079e+01,\n",
       "        5.77475023e+01, 5.77334967e+01, 5.77194911e+01, 5.77054855e+01,\n",
       "        5.76914799e+01, 5.76774743e+01, 5.76634687e+01, 5.76494631e+01,\n",
       "        5.76354575e+01, 5.76214519e+01, 5.76074463e+01, 5.75934407e+01,\n",
       "        5.75794351e+01, 5.75654295e+01, 5.75514239e+01, 5.75374183e+01,\n",
       "        5.75234127e+01, 5.75094071e+01, 5.74954015e+01, 5.74813959e+01,\n",
       "        5.74673903e+01, 5.74533847e+01, 5.74393791e+01, 5.74253735e+01,\n",
       "        5.74113679e+01, 5.73973623e+01, 5.73833567e+01, 5.73693511e+01,\n",
       "        5.73553455e+01, 5.73413399e+01, 5.73273343e+01, 6.29306256e+01,\n",
       "        6.28633987e+01, 6.27961718e+01, 6.27289449e+01, 6.25803688e+01,\n",
       "        6.23702848e+01, 6.21602008e+01, 6.19501167e+01, 6.17400327e+01,\n",
       "        6.15299487e+01, 6.13198646e+01, 6.11097806e+01, 6.08996966e+01,\n",
       "        6.06896125e+01, 6.04795285e+01, 6.02694444e+01, 6.00874883e+01,\n",
       "        5.99194211e+01, 5.97513539e+01, 5.95832866e+01, 5.94152194e+01,\n",
       "        5.92471522e+01, 5.90790850e+01, 5.89110177e+01, 5.87429505e+01,\n",
       "        5.85748833e+01, 6.61738815e+01, 0.00000000e+00, 2.63872800e-01,\n",
       "        1.20105090e-01, 6.19025170e-01, 0.00000000e+00, 1.01625216e+00,\n",
       "        5.03264771e+01, 0.00000000e+00, 4.12037313e-01, 1.97836608e-02,\n",
       "        0.00000000e+00, 1.07094742e-01, 7.93619275e-01, 3.88647765e-02,\n",
       "        0.00000000e+00, 0.00000000e+00, 0.00000000e+00, 0.00000000e+00,\n",
       "        4.12894547e-01, 0.00000000e+00, 0.00000000e+00, 0.00000000e+00,\n",
       "        0.00000000e+00, 3.82706046e-01, 0.00000000e+00, 0.00000000e+00]])"
      ]
     },
     "execution_count": 29,
     "metadata": {},
     "output_type": "execute_result"
    }
   ],
   "source": [
    "final_forecast"
   ]
  },
  {
   "cell_type": "code",
   "execution_count": 30,
   "metadata": {},
   "outputs": [
    {
     "data": {
      "text/plain": [
       "(1, 100)"
      ]
     },
     "execution_count": 30,
     "metadata": {},
     "output_type": "execute_result"
    }
   ],
   "source": [
    "final_forecast.shape"
   ]
  },
  {
   "cell_type": "code",
   "execution_count": 31,
   "metadata": {},
   "outputs": [
    {
     "data": {
      "text/plain": [
       "(100,)"
      ]
     },
     "execution_count": 31,
     "metadata": {},
     "output_type": "execute_result"
    }
   ],
   "source": [
    "test.shape"
   ]
  },
  {
   "cell_type": "code",
   "execution_count": 32,
   "metadata": {},
   "outputs": [],
   "source": [
    "training_set = np.array(training_set)\n",
    "test = np.array(test)\n",
    "final_forecast = np.array(final_forecast.squeeze(0))"
   ]
  },
  {
   "cell_type": "code",
   "execution_count": 33,
   "metadata": {},
   "outputs": [
    {
     "data": {
      "text/plain": [
       "array([55.21094771, 55.20441176, 55.19787582, 55.19133987, 55.18480392,\n",
       "       55.17826797, 55.17173203, 55.16519608, 55.15866013, 55.15212418,\n",
       "       55.14558824, 55.13905229, 55.13251634, 55.12598039, 55.11944444,\n",
       "       55.1129085 , 55.10637255, 55.0998366 , 55.09330065, 55.08676471,\n",
       "       55.08022876, 55.07369281, 55.06715686, 55.06062092, 55.05408497,\n",
       "       55.04754902, 55.04101307, 55.03447712, 55.02794118, 55.02140523,\n",
       "       55.01486928, 55.00833333, 55.00179739, 54.99526144, 54.98872549,\n",
       "       54.98218954, 54.97565359, 54.96911765, 54.9625817 , 54.95604575,\n",
       "       54.9495098 , 54.94297386, 54.93643791, 54.92990196, 54.92336601,\n",
       "       54.91683007, 54.91029412, 54.90375817, 54.89761905, 54.89201681,\n",
       "       54.88641457, 54.88081232, 54.87521008, 54.86960784, 54.8640056 ,\n",
       "       54.85840336, 54.85280112, 54.84719888, 54.84159664, 54.8359944 ,\n",
       "       54.83039216, 54.82478992, 54.81918768, 54.81358543, 54.80798319,\n",
       "       54.80238095, 54.79677871, 54.79117647, 54.78557423, 54.77997199,\n",
       "       54.77436975, 54.76876751, 54.76316527, 54.75756303, 54.75196078,\n",
       "       54.74635854, 54.7407563 , 54.73515406, 54.72955182, 54.72394958,\n",
       "       54.71834734, 54.7127451 , 54.70714286, 54.70154062, 54.69593838,\n",
       "       54.69033613, 54.68473389, 54.67913165, 54.67352941, 54.66792717,\n",
       "       54.66232493, 54.65672269, 54.65112045, 54.64551821, 54.63991597,\n",
       "       54.63431373, 54.62871148, 54.62310924, 54.617507  , 54.61190476])"
      ]
     },
     "execution_count": 33,
     "metadata": {},
     "output_type": "execute_result"
    }
   ],
   "source": [
    "test"
   ]
  },
  {
   "cell_type": "code",
   "execution_count": 34,
   "metadata": {},
   "outputs": [
    {
     "data": {
      "text/plain": [
       "(100,)"
      ]
     },
     "execution_count": 34,
     "metadata": {},
     "output_type": "execute_result"
    }
   ],
   "source": [
    "test.shape"
   ]
  },
  {
   "cell_type": "code",
   "execution_count": 35,
   "metadata": {},
   "outputs": [
    {
     "data": {
      "text/plain": [
       "(100,)"
      ]
     },
     "execution_count": 35,
     "metadata": {},
     "output_type": "execute_result"
    }
   ],
   "source": [
    "final_forecast.shape"
   ]
  },
  {
   "cell_type": "code",
   "execution_count": 36,
   "metadata": {},
   "outputs": [
    {
     "data": {
      "text/plain": [
       "(100,)"
      ]
     },
     "execution_count": 36,
     "metadata": {},
     "output_type": "execute_result"
    }
   ],
   "source": [
    "test.shape"
   ]
  },
  {
   "cell_type": "code",
   "execution_count": 37,
   "metadata": {},
   "outputs": [
    {
     "name": "stdout",
     "output_type": "stream",
     "text": [
      "27.521592076444914\n",
      "16.56375738028432\n"
     ]
    }
   ],
   "source": [
    "import math\n",
    "MSE = np.square(np.subtract(np.array(test),np.array(final_forecast))).mean()   \n",
    "rsme = math.sqrt(MSE)\n",
    "print(rsme)  \n",
    "MAE = np.abs(np.subtract(np.array(test),np.array(final_forecast))).mean()   \n",
    "mae = MAE\n",
    "print(mae)"
   ]
  }
 ],
 "metadata": {
  "colab": {
   "provenance": []
  },
  "kernelspec": {
   "display_name": "Python 3",
   "language": "python",
   "name": "python3"
  },
  "language_info": {
   "codemirror_mode": {
    "name": "ipython",
    "version": 3
   },
   "file_extension": ".py",
   "mimetype": "text/x-python",
   "name": "python",
   "nbconvert_exporter": "python",
   "pygments_lexer": "ipython3",
   "version": "3.9.13"
  }
 },
 "nbformat": 4,
 "nbformat_minor": 0
}
