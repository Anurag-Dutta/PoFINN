{
 "cells": [
  {
   "cell_type": "markdown",
   "metadata": {
    "id": "pCGKeZ2gyuoQ"
   },
   "source": [
    "_Importing Required Libraries_"
   ]
  },
  {
   "cell_type": "code",
   "execution_count": 1,
   "metadata": {
    "colab": {
     "base_uri": "https://localhost:8080/"
    },
    "id": "A-6LN-zXiLcM",
    "outputId": "4de610a4-f8b8-4f49-c6c0-89de299ccedc"
   },
   "outputs": [
    {
     "name": "stdout",
     "output_type": "stream",
     "text": [
      "Requirement already satisfied: hampel in c:\\users\\anurag dutta\\appdata\\local\\packages\\pythonsoftwarefoundation.python.3.9_qbz5n2kfra8p0\\localcache\\local-packages\\python39\\site-packages (0.0.5)\n",
      "Requirement already satisfied: numpy in c:\\users\\anurag dutta\\appdata\\local\\packages\\pythonsoftwarefoundation.python.3.9_qbz5n2kfra8p0\\localcache\\local-packages\\python39\\site-packages (from hampel) (1.26.4)\n",
      "Requirement already satisfied: pandas in c:\\users\\anurag dutta\\appdata\\local\\packages\\pythonsoftwarefoundation.python.3.9_qbz5n2kfra8p0\\localcache\\local-packages\\python39\\site-packages (from hampel) (1.5.2)\n",
      "Requirement already satisfied: python-dateutil>=2.8.1 in c:\\users\\anurag dutta\\appdata\\local\\packages\\pythonsoftwarefoundation.python.3.9_qbz5n2kfra8p0\\localcache\\local-packages\\python39\\site-packages (from pandas->hampel) (2.8.2)\n",
      "Requirement already satisfied: pytz>=2020.1 in c:\\users\\anurag dutta\\appdata\\local\\packages\\pythonsoftwarefoundation.python.3.9_qbz5n2kfra8p0\\localcache\\local-packages\\python39\\site-packages (from pandas->hampel) (2023.3.post1)\n",
      "Requirement already satisfied: six>=1.5 in c:\\users\\anurag dutta\\appdata\\local\\packages\\pythonsoftwarefoundation.python.3.9_qbz5n2kfra8p0\\localcache\\local-packages\\python39\\site-packages (from python-dateutil>=2.8.1->pandas->hampel) (1.16.0)\n",
      "Note: you may need to restart the kernel to use updated packages.\n"
     ]
    },
    {
     "name": "stderr",
     "output_type": "stream",
     "text": [
      "\n",
      "[notice] A new release of pip is available: 24.2 -> 24.3.1\n",
      "[notice] To update, run: C:\\Users\\Anurag Dutta\\AppData\\Local\\Microsoft\\WindowsApps\\PythonSoftwareFoundation.Python.3.9_qbz5n2kfra8p0\\python.exe -m pip install --upgrade pip\n"
     ]
    }
   ],
   "source": [
    "pip install hampel"
   ]
  },
  {
   "cell_type": "code",
   "execution_count": 2,
   "metadata": {
    "id": "By_d9uXpaFvZ"
   },
   "outputs": [],
   "source": [
    "from keras.models import Sequential\n",
    "from keras.layers import Dense\n",
    "from keras.layers import LSTM\n",
    "from keras.layers import Dropout\n",
    "import keras\n",
    "import tensorflow as tf\n",
    "from hampel import hampel\n",
    "import numpy as np\n",
    "import matplotlib.pyplot as plt\n",
    "import pandas as pd\n",
    "from sklearn.preprocessing import MinMaxScaler\n",
    "from sklearn.metrics import mean_squared_error, mean_absolute_error\n",
    "from math import sqrt\n",
    "from matplotlib import pyplot\n",
    "from numpy import array"
   ]
  },
  {
   "cell_type": "markdown",
   "metadata": {
    "id": "JyOjBMFayuoR"
   },
   "source": [
    "## Pretraining"
   ]
  },
  {
   "cell_type": "markdown",
   "metadata": {
    "id": "-5QqIY_GyuoR"
   },
   "source": [
    "The `capa_intermittency.dat` feeds the model with the dynamics of the Capacitor"
   ]
  },
  {
   "cell_type": "code",
   "execution_count": 3,
   "metadata": {
    "id": "9dV4a8yfyuoR"
   },
   "outputs": [],
   "source": [
    "data = np.genfromtxt('capa_intermittency.dat')\n",
    "training_set = pd.DataFrame(data).reset_index(drop=True)\n",
    "training_set = training_set.iloc[:,0]"
   ]
  },
  {
   "cell_type": "markdown",
   "metadata": {
    "id": "i7easoxByuoR"
   },
   "source": [
    "## Computing the Gradient"
   ]
  },
  {
   "cell_type": "markdown",
   "metadata": {
    "id": "5SnyolJTyuoR"
   },
   "source": [
    "_Calculating the value of_ $\\frac{dx}{dt}$"
   ]
  },
  {
   "cell_type": "code",
   "execution_count": 4,
   "metadata": {
    "colab": {
     "base_uri": "https://localhost:8080/"
    },
    "id": "wmIbVfIvyuoR",
    "outputId": "aa4e3136-c854-465d-d2e9-81cfd546e440"
   },
   "outputs": [
    {
     "name": "stdout",
     "output_type": "stream",
     "text": [
      "1.0\n",
      "1        0.000298\n",
      "2        0.000298\n",
      "3        0.000297\n",
      "4        0.000297\n",
      "5        0.000297\n",
      "           ...   \n",
      "9996     0.000018\n",
      "9997     0.000018\n",
      "9998     0.000018\n",
      "9999     0.000018\n",
      "10000    0.000018\n",
      "Name: 0, Length: 10000, dtype: float64\n"
     ]
    }
   ],
   "source": [
    "t_diff = 1\n",
    "print(training_set.max())\n",
    "gradient_t = (training_set.diff()/t_diff).iloc[1:] # dx/dt\n",
    "print(gradient_t)"
   ]
  },
  {
   "cell_type": "markdown",
   "metadata": {
    "id": "_2eVeeoxyuoS"
   },
   "source": [
    "## Loading Datasets"
   ]
  },
  {
   "cell_type": "code",
   "execution_count": 5,
   "metadata": {
    "id": "0J-NKyIEyuoS"
   },
   "outputs": [
    {
     "data": {
      "text/plain": [
       "0       84.600000\n",
       "1       84.431933\n",
       "2       84.263866\n",
       "3       84.095798\n",
       "4       83.927731\n",
       "          ...    \n",
       "1945    51.346300\n",
       "1946    51.332761\n",
       "1947    51.319223\n",
       "1948    51.305684\n",
       "1949    51.292145\n",
       "Name: C6, Length: 1950, dtype: float64"
      ]
     },
     "execution_count": 5,
     "metadata": {},
     "output_type": "execute_result"
    }
   ],
   "source": [
    "data = pd.read_csv(\"c6_interpolated_1850_100.csv\")\n",
    "training_set = data.iloc[:, 1]\n",
    "training_set"
   ]
  },
  {
   "cell_type": "code",
   "execution_count": 6,
   "metadata": {
    "colab": {
     "base_uri": "https://localhost:8080/"
    },
    "id": "-CbNUhJ74UqF",
    "outputId": "20f562d8-8247-49cc-b9c3-00eca5e13e2d"
   },
   "outputs": [
    {
     "data": {
      "text/plain": [
       "0       84.600000\n",
       "1       84.431933\n",
       "2       84.263866\n",
       "3       84.095798\n",
       "4       83.927731\n",
       "          ...    \n",
       "1845     0.000000\n",
       "1846     0.244659\n",
       "1847     0.119967\n",
       "1848     0.000000\n",
       "1849     0.000000\n",
       "Name: C6, Length: 1850, dtype: float64"
      ]
     },
     "execution_count": 6,
     "metadata": {},
     "output_type": "execute_result"
    }
   ],
   "source": [
    "test = training_set.tail(100)\n",
    "test\n",
    "training_set = training_set.head(1850)\n",
    "training_set"
   ]
  },
  {
   "cell_type": "code",
   "execution_count": 7,
   "metadata": {
    "colab": {
     "base_uri": "https://localhost:8080/"
    },
    "id": "X0TwTcq0yuoS",
    "outputId": "37252ed8-d88e-4044-fa7a-922411990b5b"
   },
   "outputs": [
    {
     "name": "stdout",
     "output_type": "stream",
     "text": [
      "0       0.000298\n",
      "1       0.000298\n",
      "2       0.000297\n",
      "3       0.000297\n",
      "4       0.000297\n",
      "          ...   \n",
      "9995    0.000018\n",
      "9996    0.000018\n",
      "9997    0.000018\n",
      "9998    0.000018\n",
      "9999    0.000018\n",
      "Name: 0, Length: 10000, dtype: float64\n"
     ]
    }
   ],
   "source": [
    "training_set = training_set.reset_index(drop=True)\n",
    "gradient_t = gradient_t.reset_index(drop=True)\n",
    "print(gradient_t)"
   ]
  },
  {
   "cell_type": "code",
   "execution_count": 8,
   "metadata": {
    "id": "O2biznZQyuoS"
   },
   "outputs": [],
   "source": [
    "df = pd.concat((training_set, gradient_t), axis=1)\n",
    "df.columns = ['y_t', 'grad_t']"
   ]
  },
  {
   "cell_type": "code",
   "execution_count": 9,
   "metadata": {
    "colab": {
     "base_uri": "https://localhost:8080/",
     "height": 423
    },
    "id": "sk_a5v3tyuoS",
    "outputId": "17563625-e550-45ae-faab-fafa353e44da"
   },
   "outputs": [
    {
     "data": {
      "text/html": [
       "<div>\n",
       "<style scoped>\n",
       "    .dataframe tbody tr th:only-of-type {\n",
       "        vertical-align: middle;\n",
       "    }\n",
       "\n",
       "    .dataframe tbody tr th {\n",
       "        vertical-align: top;\n",
       "    }\n",
       "\n",
       "    .dataframe thead th {\n",
       "        text-align: right;\n",
       "    }\n",
       "</style>\n",
       "<table border=\"1\" class=\"dataframe\">\n",
       "  <thead>\n",
       "    <tr style=\"text-align: right;\">\n",
       "      <th></th>\n",
       "      <th>y_t</th>\n",
       "      <th>grad_t</th>\n",
       "    </tr>\n",
       "  </thead>\n",
       "  <tbody>\n",
       "    <tr>\n",
       "      <th>0</th>\n",
       "      <td>84.600000</td>\n",
       "      <td>0.000298</td>\n",
       "    </tr>\n",
       "    <tr>\n",
       "      <th>1</th>\n",
       "      <td>84.431933</td>\n",
       "      <td>0.000298</td>\n",
       "    </tr>\n",
       "    <tr>\n",
       "      <th>2</th>\n",
       "      <td>84.263866</td>\n",
       "      <td>0.000297</td>\n",
       "    </tr>\n",
       "    <tr>\n",
       "      <th>3</th>\n",
       "      <td>84.095798</td>\n",
       "      <td>0.000297</td>\n",
       "    </tr>\n",
       "    <tr>\n",
       "      <th>4</th>\n",
       "      <td>83.927731</td>\n",
       "      <td>0.000297</td>\n",
       "    </tr>\n",
       "    <tr>\n",
       "      <th>...</th>\n",
       "      <td>...</td>\n",
       "      <td>...</td>\n",
       "    </tr>\n",
       "    <tr>\n",
       "      <th>9995</th>\n",
       "      <td>NaN</td>\n",
       "      <td>0.000018</td>\n",
       "    </tr>\n",
       "    <tr>\n",
       "      <th>9996</th>\n",
       "      <td>NaN</td>\n",
       "      <td>0.000018</td>\n",
       "    </tr>\n",
       "    <tr>\n",
       "      <th>9997</th>\n",
       "      <td>NaN</td>\n",
       "      <td>0.000018</td>\n",
       "    </tr>\n",
       "    <tr>\n",
       "      <th>9998</th>\n",
       "      <td>NaN</td>\n",
       "      <td>0.000018</td>\n",
       "    </tr>\n",
       "    <tr>\n",
       "      <th>9999</th>\n",
       "      <td>NaN</td>\n",
       "      <td>0.000018</td>\n",
       "    </tr>\n",
       "  </tbody>\n",
       "</table>\n",
       "<p>10000 rows × 2 columns</p>\n",
       "</div>"
      ],
      "text/plain": [
       "            y_t    grad_t\n",
       "0     84.600000  0.000298\n",
       "1     84.431933  0.000298\n",
       "2     84.263866  0.000297\n",
       "3     84.095798  0.000297\n",
       "4     83.927731  0.000297\n",
       "...         ...       ...\n",
       "9995        NaN  0.000018\n",
       "9996        NaN  0.000018\n",
       "9997        NaN  0.000018\n",
       "9998        NaN  0.000018\n",
       "9999        NaN  0.000018\n",
       "\n",
       "[10000 rows x 2 columns]"
      ]
     },
     "execution_count": 9,
     "metadata": {},
     "output_type": "execute_result"
    }
   ],
   "source": [
    "df"
   ]
  },
  {
   "cell_type": "markdown",
   "metadata": {
    "id": "-5esyHu5aFvg"
   },
   "source": [
    "## Plot of the External Forcing from Chaotic Differential Equation"
   ]
  },
  {
   "cell_type": "code",
   "execution_count": 10,
   "metadata": {
    "colab": {
     "base_uri": "https://localhost:8080/",
     "height": 447
    },
    "id": "hGnE43tOh-4p",
    "outputId": "fc396503-b624-4fa5-dfbe-f460207405c6"
   },
   "outputs": [
    {
     "data": {
      "text/plain": [
       "<Axes: >"
      ]
     },
     "execution_count": 10,
     "metadata": {},
     "output_type": "execute_result"
    },
    {
     "data": {
      "image/png": "[encoded data removed]",
      "text/plain": [
       "<Figure size 432x288 with 1 Axes>"
      ]
     },
     "metadata": {
      "needs_background": "light"
     },
     "output_type": "display_data"
    }
   ],
   "source": [
    "df.iloc[:, 0].plot()"
   ]
  },
  {
   "cell_type": "code",
   "execution_count": 11,
   "metadata": {
    "colab": {
     "base_uri": "https://localhost:8080/",
     "height": 447
    },
    "id": "ym4xWUUxaFvg",
    "outputId": "ae6a3495-8ce9-437e-ba81-3ed31deedeae"
   },
   "outputs": [
    {
     "name": "stderr",
     "output_type": "stream",
     "text": [
      "C:\\Users\\Anurag Dutta\\AppData\\Local\\Packages\\PythonSoftwareFoundation.Python.3.9_qbz5n2kfra8p0\\LocalCache\\local-packages\\Python39\\site-packages\\pandas\\core\\arraylike.py:402: RuntimeWarning: divide by zero encountered in log\n",
      "  result = getattr(ufunc, method)(*inputs, **kwargs)\n"
     ]
    },
    {
     "data": {
      "text/plain": [
       "<Axes: >"
      ]
     },
     "execution_count": 11,
     "metadata": {},
     "output_type": "execute_result"
    },
    {
     "data": {
      "image/png": "[encoded data removed]",
      "text/plain": [
       "<Figure size 432x288 with 1 Axes>"
      ]
     },
     "metadata": {
      "needs_background": "light"
     },
     "output_type": "display_data"
    }
   ],
   "source": [
    "import numpy as np\n",
    "c0 = 82.7524  # Value for C0\n",
    "K0 = -0.0031  # Value for K0\n",
    "K1 = -0.0003  # Value for K1\n",
    "a = 0.0000    # Value for a\n",
    "b = 0.0171    # Value for b\n",
    "c = 3.0230    # Value for c\n",
    "\n",
    "L = np.minimum(c0, (df.iloc[:, 1] - (df.iloc[:, 0] * (K0 - K1 * (9 * a * np.log(df.iloc[:, 0] / c0) / (K0 - K1 * c)**2 + 4 * b * np.log(df.iloc[:, 0] / c0) / (K0 - K1 * c) + c)))))\n",
    "L.plot()"
   ]
  },
  {
   "cell_type": "markdown",
   "metadata": {
    "id": "9VyEywnwaFvh"
   },
   "source": [
    "## Preprocessing the data into supervised learning"
   ]
  },
  {
   "cell_type": "code",
   "execution_count": 12,
   "metadata": {
    "id": "6V9dXqzdaFvh"
   },
   "outputs": [],
   "source": [
    "# split a sequence into samples\n",
    "def Supervised(data, n_in=1, n_out=1, dropnan=True):\n",
    "    n_vars = 1 if type(data) is list else data.shape[1]\n",
    "    df = pd.DataFrame(data)\n",
    "    cols, names = list(), list()\n",
    "    # input sequence (t-n_in, ... t-1)\n",
    "    for i in range(n_in, 0, -1):\n",
    "        cols.append(df.shift(i))\n",
    "        names += [('var%d(t-%d)' % (j+1, i)) for j in range(n_vars)]\n",
    "    # forecast sequence (t, t+1, ... t+n_out)\n",
    "    for i in range(0, n_out):\n",
    "      cols.append(df.shift(-i))\n",
    "      if i == 0:\n",
    "        names += [('var%d(t)' % (j+1)) for j in range(n_vars)]\n",
    "      else:\n",
    "        names += [('var%d(t+%d)' % (j+1, i)) for j in range(n_vars)]\n",
    "    # put it all together\n",
    "    agg = pd.concat(cols, axis=1)\n",
    "    agg.columns = names\n",
    "    # drop rows with NaN values\n",
    "    if dropnan:\n",
    "       agg.dropna(inplace=True)\n",
    "    return agg"
   ]
  },
  {
   "cell_type": "code",
   "execution_count": 13,
   "metadata": {
    "colab": {
     "base_uri": "https://localhost:8080/"
    },
    "id": "CrzSrT1HnyfH",
    "outputId": "7e75f928-3e47-499d-eac1-51908015ef78"
   },
   "outputs": [
    {
     "name": "stdout",
     "output_type": "stream",
     "text": [
      "     var1(t-350)  var1(t-349)  var1(t-348)  var1(t-347)  var1(t-346)  \\\n",
      "350    84.600000    84.431933    84.263866    84.095798    83.927731   \n",
      "351    84.431933    84.263866    84.095798    83.927731    83.759664   \n",
      "352    84.263866    84.095798    83.927731    83.759664    83.591597   \n",
      "353    84.095798    83.927731    83.759664    83.591597    83.423529   \n",
      "354    83.927731    83.759664    83.591597    83.423529    83.255462   \n",
      "\n",
      "     var1(t-345)  var1(t-344)  var1(t-343)  var1(t-342)  var1(t-341)  ...  \\\n",
      "350    83.759664    83.591597    83.423529    83.255462    83.092437  ...   \n",
      "351    83.591597    83.423529    83.255462    83.092437    82.991597  ...   \n",
      "352    83.423529    83.255462    83.092437    82.991597    82.890756  ...   \n",
      "353    83.255462    83.092437    82.991597    82.890756    82.789916  ...   \n",
      "354    83.092437    82.991597    82.890756    82.789916    82.689076  ...   \n",
      "\n",
      "     var1(t+95)  var2(t+95)  var1(t+96)  var2(t+96)  var1(t+97)  var2(t+97)  \\\n",
      "350   70.003688    0.000263   69.960738    0.000263   69.917787    0.000263   \n",
      "351   69.960738    0.000263   69.917787    0.000263   69.874837    0.000262   \n",
      "352   69.917787    0.000263   69.874837    0.000262   69.831886    0.000262   \n",
      "353   69.874837    0.000262   69.831886    0.000262   69.788936    0.000262   \n",
      "354   69.831886    0.000262   69.788936    0.000262   69.745985    0.000262   \n",
      "\n",
      "     var1(t+98)  var2(t+98)  var1(t+99)  var2(t+99)  \n",
      "350   69.874837    0.000262   69.831886    0.000262  \n",
      "351   69.831886    0.000262   69.788936    0.000262  \n",
      "352   69.788936    0.000262   69.745985    0.000262  \n",
      "353   69.745985    0.000262   69.703035    0.000262  \n",
      "354   69.703035    0.000262   69.660084    0.000262  \n",
      "\n",
      "[5 rows x 551 columns]\n",
      "Index(['var1(t-350)', 'var1(t-349)', 'var1(t-348)', 'var1(t-347)',\n",
      "       'var1(t-346)', 'var1(t-345)', 'var1(t-344)', 'var1(t-343)',\n",
      "       'var1(t-342)', 'var1(t-341)',\n",
      "       ...\n",
      "       'var1(t+95)', 'var2(t+95)', 'var1(t+96)', 'var2(t+96)', 'var1(t+97)',\n",
      "       'var2(t+97)', 'var1(t+98)', 'var2(t+98)', 'var1(t+99)', 'var2(t+99)'],\n",
      "      dtype='object', length=551)\n"
     ]
    }
   ],
   "source": [
    "data = Supervised(df.values, n_in = 350, n_out = 100)\n",
    "\n",
    "\n",
    "cols_to_drop = []\n",
    "for i in range(2, 351):\n",
    "    cols_to_drop.extend([f'var2(t-{i})'])\n",
    "\n",
    "data.drop(cols_to_drop, axis=1, inplace=True)\n",
    "\n",
    "print(data.head())\n",
    "print(data.columns)"
   ]
  },
  {
   "cell_type": "code",
   "execution_count": 14,
   "metadata": {
    "id": "AfPf60oy6Pe4"
   },
   "outputs": [],
   "source": [
    "train = np.array(data[0:len(data)-1])\n",
    "forecast = np.array(data.tail(1))"
   ]
  },
  {
   "cell_type": "code",
   "execution_count": 15,
   "metadata": {
    "id": "WSAafzI37KiT"
   },
   "outputs": [],
   "source": [
    "trainy = train[:,-300:]\n",
    "trainX = train[:,:-300]"
   ]
  },
  {
   "cell_type": "code",
   "execution_count": 16,
   "metadata": {
    "id": "2SrOqVJA7f50"
   },
   "outputs": [],
   "source": [
    "forecasty = forecast[:,-300:]\n",
    "forecastX = forecast[:,:-300]"
   ]
  },
  {
   "cell_type": "code",
   "execution_count": 17,
   "metadata": {
    "colab": {
     "base_uri": "https://localhost:8080/"
    },
    "id": "Qno_k8Nw7saY",
    "outputId": "c4a88db5-d8c6-489f-cdb2-06b24e293cff"
   },
   "outputs": [
    {
     "name": "stdout",
     "output_type": "stream",
     "text": [
      "(1400, 1, 251) (1400, 300) (1, 1, 251)\n"
     ]
    }
   ],
   "source": [
    "trainX = trainX.reshape((trainX.shape[0], 1, trainX.shape[1]))\n",
    "forecastX = forecastX.reshape((forecastX.shape[0], 1, forecastX.shape[1]))\n",
    "print(trainX.shape, trainy.shape, forecastX.shape)"
   ]
  },
  {
   "cell_type": "code",
   "execution_count": 18,
   "metadata": {
    "colab": {
     "base_uri": "https://localhost:8080/"
    },
    "id": "b1Jp2DvNuNFx",
    "outputId": "d0e5b3c4-64f1-438c-eade-8dfeaac8e285"
   },
   "outputs": [
    {
     "name": "stdout",
     "output_type": "stream",
     "text": [
      "Epoch 1/500\n",
      "18/18 [==============================] - 2s 29ms/step - loss: 3848.8018 - val_loss: 2494.5508\n",
      "Epoch 2/500\n",
      "18/18 [==============================] - 0s 5ms/step - loss: 3752.9875 - val_loss: 2427.4517\n",
      "Epoch 3/500\n",
      "18/18 [==============================] - 0s 5ms/step - loss: 3665.4136 - val_loss: 2374.7668\n",
      "Epoch 4/500\n",
      "18/18 [==============================] - 0s 4ms/step - loss: 3586.2388 - val_loss: 2327.8494\n",
      "Epoch 5/500\n",
      "18/18 [==============================] - 0s 4ms/step - loss: 3529.2534 - val_loss: 2291.2939\n",
      "Epoch 6/500\n",
      "18/18 [==============================] - 0s 4ms/step - loss: 3474.3625 - val_loss: 2255.8015\n",
      "Epoch 7/500\n",
      "18/18 [==============================] - 0s 5ms/step - loss: 3420.7815 - val_loss: 2221.1628\n",
      "Epoch 8/500\n",
      "18/18 [==============================] - 0s 5ms/step - loss: 3368.2578 - val_loss: 2187.2468\n",
      "Epoch 9/500\n",
      "18/18 [==============================] - 0s 5ms/step - loss: 3316.6367 - val_loss: 2153.9751\n",
      "Epoch 10/500\n",
      "18/18 [==============================] - 0s 4ms/step - loss: 3265.8254 - val_loss: 2121.2971\n",
      "Epoch 11/500\n",
      "18/18 [==============================] - 0s 5ms/step - loss: 3215.7617 - val_loss: 2089.1794\n",
      "Epoch 12/500\n",
      "18/18 [==============================] - 0s 5ms/step - loss: 3166.4026 - val_loss: 2057.5972\n",
      "Epoch 13/500\n",
      "18/18 [==============================] - 0s 5ms/step - loss: 3117.7185 - val_loss: 2026.5321\n",
      "Epoch 14/500\n",
      "18/18 [==============================] - 0s 4ms/step - loss: 3069.6846 - val_loss: 1995.9685\n",
      "Epoch 15/500\n",
      "18/18 [==============================] - 0s 4ms/step - loss: 3022.2822 - val_loss: 1965.8947\n",
      "Epoch 16/500\n",
      "18/18 [==============================] - 0s 4ms/step - loss: 2975.4949 - val_loss: 1936.2996\n",
      "Epoch 17/500\n",
      "18/18 [==============================] - 0s 5ms/step - loss: 2929.3098 - val_loss: 1907.1743\n",
      "Epoch 18/500\n",
      "18/18 [==============================] - 0s 4ms/step - loss: 2883.7148 - val_loss: 1878.5107\n",
      "Epoch 19/500\n",
      "18/18 [==============================] - 0s 4ms/step - loss: 2838.7007 - val_loss: 1850.3011\n",
      "Epoch 20/500\n",
      "18/18 [==============================] - 0s 5ms/step - loss: 2794.2566 - val_loss: 1822.5392\n",
      "Epoch 21/500\n",
      "18/18 [==============================] - 0s 5ms/step - loss: 2750.3750 - val_loss: 1795.2183\n",
      "Epoch 22/500\n",
      "18/18 [==============================] - 0s 5ms/step - loss: 2707.0483 - val_loss: 1768.3326\n",
      "Epoch 23/500\n",
      "18/18 [==============================] - 0s 4ms/step - loss: 2664.2683 - val_loss: 1741.8767\n",
      "Epoch 24/500\n",
      "18/18 [==============================] - 0s 5ms/step - loss: 2622.0293 - val_loss: 1715.8450\n",
      "Epoch 25/500\n",
      "18/18 [==============================] - 0s 5ms/step - loss: 2580.3232 - val_loss: 1690.2324\n",
      "Epoch 26/500\n",
      "18/18 [==============================] - 0s 5ms/step - loss: 2539.1450 - val_loss: 1665.0341\n",
      "Epoch 27/500\n",
      "18/18 [==============================] - 0s 5ms/step - loss: 2498.4895 - val_loss: 1640.2455\n",
      "Epoch 28/500\n",
      "18/18 [==============================] - 0s 5ms/step - loss: 2458.3489 - val_loss: 1615.8615\n",
      "Epoch 29/500\n",
      "18/18 [==============================] - 0s 3ms/step - loss: 2418.7195 - val_loss: 1591.8779\n",
      "Epoch 30/500\n",
      "18/18 [==============================] - 0s 9ms/step - loss: 2379.5947 - val_loss: 1568.2904\n",
      "Epoch 31/500\n",
      "18/18 [==============================] - 0s 4ms/step - loss: 2340.9697 - val_loss: 1545.0946\n",
      "Epoch 32/500\n",
      "18/18 [==============================] - 0s 5ms/step - loss: 2302.8398 - val_loss: 1522.2863\n",
      "Epoch 33/500\n",
      "18/18 [==============================] - 0s 5ms/step - loss: 2265.1995 - val_loss: 1499.8611\n",
      "Epoch 34/500\n",
      "18/18 [==============================] - 0s 4ms/step - loss: 2228.0447 - val_loss: 1477.8152\n",
      "Epoch 35/500\n",
      "18/18 [==============================] - 0s 4ms/step - loss: 2191.3694 - val_loss: 1456.1450\n",
      "Epoch 36/500\n",
      "18/18 [==============================] - 0s 5ms/step - loss: 2155.1704 - val_loss: 1434.8457\n",
      "Epoch 37/500\n",
      "18/18 [==============================] - 0s 5ms/step - loss: 2119.4419 - val_loss: 1413.9142\n",
      "Epoch 38/500\n",
      "18/18 [==============================] - 0s 4ms/step - loss: 2084.1799 - val_loss: 1393.3462\n",
      "Epoch 39/500\n",
      "18/18 [==============================] - 0s 5ms/step - loss: 2049.3799 - val_loss: 1373.1381\n",
      "Epoch 40/500\n",
      "18/18 [==============================] - 0s 5ms/step - loss: 2015.0377 - val_loss: 1353.2859\n",
      "Epoch 41/500\n",
      "18/18 [==============================] - 0s 5ms/step - loss: 1981.1484 - val_loss: 1333.7864\n",
      "Epoch 42/500\n",
      "18/18 [==============================] - 0s 4ms/step - loss: 1947.7090 - val_loss: 1314.6354\n",
      "Epoch 43/500\n",
      "18/18 [==============================] - 0s 4ms/step - loss: 1914.7136 - val_loss: 1295.8291\n",
      "Epoch 44/500\n",
      "18/18 [==============================] - 0s 5ms/step - loss: 1882.1589 - val_loss: 1277.3641\n",
      "Epoch 45/500\n",
      "18/18 [==============================] - 0s 4ms/step - loss: 1850.0408 - val_loss: 1259.2349\n",
      "Epoch 46/500\n",
      "18/18 [==============================] - 0s 5ms/step - loss: 1818.3549 - val_loss: 1241.4242\n",
      "Epoch 47/500\n",
      "18/18 [==============================] - 0s 5ms/step - loss: 1787.0979 - val_loss: 1222.6318\n",
      "Epoch 48/500\n",
      "18/18 [==============================] - 0s 5ms/step - loss: 1745.3939 - val_loss: 1198.1674\n",
      "Epoch 49/500\n",
      "18/18 [==============================] - 0s 4ms/step - loss: 1709.4938 - val_loss: 1178.6052\n",
      "Epoch 50/500\n",
      "18/18 [==============================] - 0s 4ms/step - loss: 1676.0994 - val_loss: 1160.2964\n",
      "Epoch 51/500\n",
      "18/18 [==============================] - 0s 5ms/step - loss: 1642.7144 - val_loss: 1142.5085\n",
      "Epoch 52/500\n",
      "18/18 [==============================] - 0s 4ms/step - loss: 1610.9023 - val_loss: 1125.3171\n",
      "Epoch 53/500\n",
      "18/18 [==============================] - 0s 5ms/step - loss: 1579.8866 - val_loss: 1108.6462\n",
      "Epoch 54/500\n",
      "18/18 [==============================] - 0s 4ms/step - loss: 1549.5676 - val_loss: 1092.4460\n",
      "Epoch 55/500\n",
      "18/18 [==============================] - 0s 5ms/step - loss: 1519.8793 - val_loss: 1076.6841\n",
      "Epoch 56/500\n",
      "18/18 [==============================] - 0s 5ms/step - loss: 1490.7764 - val_loss: 1061.3348\n",
      "Epoch 57/500\n",
      "18/18 [==============================] - 0s 5ms/step - loss: 1462.2244 - val_loss: 1046.3790\n",
      "Epoch 58/500\n",
      "18/18 [==============================] - 0s 5ms/step - loss: 1434.1980 - val_loss: 1031.8014\n",
      "Epoch 59/500\n",
      "18/18 [==============================] - 0s 5ms/step - loss: 1406.6752 - val_loss: 1017.5887\n",
      "Epoch 60/500\n",
      "18/18 [==============================] - 0s 4ms/step - loss: 1379.6384 - val_loss: 1003.7303\n",
      "Epoch 61/500\n",
      "18/18 [==============================] - 0s 4ms/step - loss: 1353.0725 - val_loss: 990.2159\n",
      "Epoch 62/500\n",
      "18/18 [==============================] - 0s 5ms/step - loss: 1326.9655 - val_loss: 977.0375\n",
      "Epoch 63/500\n",
      "18/18 [==============================] - 0s 5ms/step - loss: 1301.3052 - val_loss: 964.1872\n",
      "Epoch 64/500\n",
      "18/18 [==============================] - 0s 4ms/step - loss: 1276.0813 - val_loss: 951.6576\n",
      "Epoch 65/500\n",
      "18/18 [==============================] - 0s 5ms/step - loss: 1251.2845 - val_loss: 939.4420\n",
      "Epoch 66/500\n",
      "18/18 [==============================] - 0s 5ms/step - loss: 1226.9069 - val_loss: 927.5350\n",
      "Epoch 67/500\n",
      "18/18 [==============================] - 0s 5ms/step - loss: 1202.9403 - val_loss: 915.9304\n",
      "Epoch 68/500\n",
      "18/18 [==============================] - 0s 5ms/step - loss: 1179.3776 - val_loss: 904.6229\n",
      "Epoch 69/500\n",
      "18/18 [==============================] - 0s 4ms/step - loss: 1156.2113 - val_loss: 893.6076\n",
      "Epoch 70/500\n",
      "18/18 [==============================] - 0s 4ms/step - loss: 1133.4349 - val_loss: 882.8795\n",
      "Epoch 71/500\n",
      "18/18 [==============================] - 0s 4ms/step - loss: 1111.0428 - val_loss: 872.4343\n",
      "Epoch 72/500\n",
      "18/18 [==============================] - 0s 4ms/step - loss: 1089.0293 - val_loss: 862.2679\n",
      "Epoch 73/500\n",
      "18/18 [==============================] - 0s 12ms/step - loss: 1067.3881 - val_loss: 852.3784\n",
      "Epoch 74/500\n",
      "18/18 [==============================] - 0s 6ms/step - loss: 1046.1138 - val_loss: 842.7703\n",
      "Epoch 75/500\n",
      "18/18 [==============================] - 0s 5ms/step - loss: 1025.2225 - val_loss: 833.3223\n",
      "Epoch 76/500\n",
      "18/18 [==============================] - 0s 7ms/step - loss: 1004.6460 - val_loss: 824.2875\n",
      "Epoch 77/500\n",
      "18/18 [==============================] - 0s 6ms/step - loss: 984.4420 - val_loss: 815.5705\n",
      "Epoch 78/500\n",
      "18/18 [==============================] - 0s 5ms/step - loss: 964.5858 - val_loss: 806.4899\n",
      "Epoch 79/500\n",
      "18/18 [==============================] - 0s 5ms/step - loss: 945.0721 - val_loss: 798.1296\n",
      "Epoch 80/500\n",
      "18/18 [==============================] - 0s 5ms/step - loss: 925.8965 - val_loss: 790.0201\n",
      "Epoch 81/500\n",
      "18/18 [==============================] - 0s 4ms/step - loss: 907.0544 - val_loss: 782.1508\n",
      "Epoch 82/500\n",
      "18/18 [==============================] - 0s 4ms/step - loss: 888.5414 - val_loss: 774.5182\n",
      "Epoch 83/500\n",
      "18/18 [==============================] - 0s 4ms/step - loss: 870.3533 - val_loss: 767.1185\n",
      "Epoch 84/500\n",
      "18/18 [==============================] - 0s 4ms/step - loss: 852.4858 - val_loss: 759.9485\n",
      "Epoch 85/500\n",
      "18/18 [==============================] - 0s 5ms/step - loss: 834.9352 - val_loss: 753.0042\n",
      "Epoch 86/500\n",
      "18/18 [==============================] - 0s 4ms/step - loss: 817.6974 - val_loss: 746.2824\n",
      "Epoch 87/500\n",
      "18/18 [==============================] - 0s 4ms/step - loss: 800.7678 - val_loss: 739.7797\n",
      "Epoch 88/500\n",
      "18/18 [==============================] - 0s 4ms/step - loss: 784.1430 - val_loss: 733.4924\n",
      "Epoch 89/500\n",
      "18/18 [==============================] - 0s 4ms/step - loss: 767.8192 - val_loss: 727.4173\n",
      "Epoch 90/500\n",
      "18/18 [==============================] - 0s 4ms/step - loss: 751.7922 - val_loss: 721.5510\n",
      "Epoch 91/500\n",
      "18/18 [==============================] - 0s 4ms/step - loss: 736.0583 - val_loss: 715.8903\n",
      "Epoch 92/500\n",
      "18/18 [==============================] - 0s 4ms/step - loss: 720.6139 - val_loss: 710.4320\n",
      "Epoch 93/500\n",
      "18/18 [==============================] - 0s 4ms/step - loss: 705.4554 - val_loss: 705.1727\n",
      "Epoch 94/500\n",
      "18/18 [==============================] - 0s 4ms/step - loss: 690.5792 - val_loss: 700.1092\n",
      "Epoch 95/500\n",
      "18/18 [==============================] - 0s 5ms/step - loss: 675.9814 - val_loss: 695.2383\n",
      "Epoch 96/500\n",
      "18/18 [==============================] - 0s 4ms/step - loss: 661.6588 - val_loss: 690.5570\n",
      "Epoch 97/500\n",
      "18/18 [==============================] - 0s 4ms/step - loss: 647.6074 - val_loss: 686.0621\n",
      "Epoch 98/500\n",
      "18/18 [==============================] - 0s 4ms/step - loss: 633.8241 - val_loss: 681.7502\n",
      "Epoch 99/500\n",
      "18/18 [==============================] - 0s 4ms/step - loss: 620.3052 - val_loss: 677.6186\n",
      "Epoch 100/500\n",
      "18/18 [==============================] - 0s 4ms/step - loss: 607.0472 - val_loss: 673.6639\n",
      "Epoch 101/500\n",
      "18/18 [==============================] - 0s 4ms/step - loss: 594.0469 - val_loss: 669.8834\n",
      "Epoch 102/500\n",
      "18/18 [==============================] - 0s 5ms/step - loss: 581.3011 - val_loss: 666.2737\n",
      "Epoch 103/500\n",
      "18/18 [==============================] - 0s 4ms/step - loss: 568.8060 - val_loss: 662.8322\n",
      "Epoch 104/500\n",
      "18/18 [==============================] - 0s 4ms/step - loss: 556.5584 - val_loss: 659.5556\n",
      "Epoch 105/500\n",
      "18/18 [==============================] - 0s 4ms/step - loss: 544.5554 - val_loss: 656.4410\n",
      "Epoch 106/500\n",
      "18/18 [==============================] - 0s 4ms/step - loss: 532.7931 - val_loss: 653.4856\n",
      "Epoch 107/500\n",
      "18/18 [==============================] - 0s 5ms/step - loss: 521.2687 - val_loss: 650.6863\n",
      "Epoch 108/500\n",
      "18/18 [==============================] - 0s 4ms/step - loss: 509.9789 - val_loss: 648.0402\n",
      "Epoch 109/500\n",
      "18/18 [==============================] - 0s 10ms/step - loss: 498.9204 - val_loss: 645.5446\n",
      "Epoch 110/500\n",
      "18/18 [==============================] - 0s 4ms/step - loss: 488.0900 - val_loss: 643.1962\n",
      "Epoch 111/500\n",
      "18/18 [==============================] - 0s 5ms/step - loss: 477.4845 - val_loss: 640.9927\n",
      "Epoch 112/500\n",
      "18/18 [==============================] - 0s 4ms/step - loss: 467.1010 - val_loss: 638.9308\n",
      "Epoch 113/500\n",
      "18/18 [==============================] - 0s 4ms/step - loss: 456.9364 - val_loss: 637.0079\n",
      "Epoch 114/500\n",
      "18/18 [==============================] - 0s 5ms/step - loss: 446.9873 - val_loss: 635.2212\n",
      "Epoch 115/500\n",
      "18/18 [==============================] - 0s 4ms/step - loss: 437.2508 - val_loss: 633.5678\n",
      "Epoch 116/500\n",
      "18/18 [==============================] - 0s 5ms/step - loss: 427.7237 - val_loss: 632.0451\n",
      "Epoch 117/500\n",
      "18/18 [==============================] - 0s 4ms/step - loss: 418.4033 - val_loss: 630.6502\n",
      "Epoch 118/500\n",
      "18/18 [==============================] - 0s 4ms/step - loss: 409.2862 - val_loss: 629.3804\n",
      "Epoch 119/500\n",
      "18/18 [==============================] - 0s 5ms/step - loss: 400.3697 - val_loss: 628.2329\n",
      "Epoch 120/500\n",
      "18/18 [==============================] - 0s 4ms/step - loss: 391.6505 - val_loss: 627.2051\n",
      "Epoch 121/500\n",
      "18/18 [==============================] - 0s 5ms/step - loss: 383.1262 - val_loss: 626.2944\n",
      "Epoch 122/500\n",
      "18/18 [==============================] - 0s 4ms/step - loss: 374.7933 - val_loss: 625.4979\n",
      "Epoch 123/500\n",
      "18/18 [==============================] - 0s 4ms/step - loss: 366.6491 - val_loss: 624.8130\n",
      "Epoch 124/500\n",
      "18/18 [==============================] - 0s 5ms/step - loss: 358.6907 - val_loss: 624.2374\n",
      "Epoch 125/500\n",
      "18/18 [==============================] - 0s 4ms/step - loss: 350.9152 - val_loss: 623.7681\n",
      "Epoch 126/500\n",
      "18/18 [==============================] - 0s 5ms/step - loss: 343.3198 - val_loss: 623.4026\n",
      "Epoch 127/500\n",
      "18/18 [==============================] - 0s 4ms/step - loss: 335.9015 - val_loss: 623.1384\n",
      "Epoch 128/500\n",
      "18/18 [==============================] - 0s 4ms/step - loss: 328.6577 - val_loss: 622.9728\n",
      "Epoch 129/500\n",
      "18/18 [==============================] - 0s 4ms/step - loss: 321.5856 - val_loss: 622.9033\n",
      "Epoch 130/500\n",
      "18/18 [==============================] - 0s 4ms/step - loss: 314.6822 - val_loss: 622.9276\n",
      "Epoch 131/500\n",
      "18/18 [==============================] - 0s 5ms/step - loss: 307.9450 - val_loss: 623.0428\n",
      "Epoch 132/500\n",
      "18/18 [==============================] - 0s 5ms/step - loss: 301.3711 - val_loss: 623.2468\n",
      "Epoch 133/500\n",
      "18/18 [==============================] - 0s 4ms/step - loss: 294.9576 - val_loss: 623.5368\n",
      "Epoch 134/500\n",
      "18/18 [==============================] - 0s 4ms/step - loss: 288.7021 - val_loss: 623.9106\n",
      "Epoch 135/500\n",
      "18/18 [==============================] - 0s 5ms/step - loss: 282.6017 - val_loss: 624.3656\n",
      "Epoch 136/500\n",
      "18/18 [==============================] - 0s 4ms/step - loss: 276.6539 - val_loss: 624.8995\n",
      "Epoch 137/500\n",
      "18/18 [==============================] - 0s 4ms/step - loss: 270.8560 - val_loss: 625.5098\n",
      "Epoch 138/500\n",
      "18/18 [==============================] - 0s 4ms/step - loss: 265.2053 - val_loss: 626.1943\n",
      "Epoch 139/500\n",
      "18/18 [==============================] - 0s 4ms/step - loss: 259.6991 - val_loss: 626.9505\n",
      "Epoch 140/500\n",
      "18/18 [==============================] - 0s 4ms/step - loss: 254.3350 - val_loss: 627.7760\n",
      "Epoch 141/500\n",
      "18/18 [==============================] - 0s 4ms/step - loss: 249.1103 - val_loss: 628.6687\n",
      "Epoch 142/500\n",
      "18/18 [==============================] - 0s 5ms/step - loss: 244.0227 - val_loss: 629.6263\n",
      "Epoch 143/500\n",
      "18/18 [==============================] - 0s 4ms/step - loss: 239.0693 - val_loss: 630.6463\n",
      "Epoch 144/500\n",
      "18/18 [==============================] - 0s 10ms/step - loss: 234.2478 - val_loss: 631.7267\n",
      "Epoch 145/500\n",
      "18/18 [==============================] - 0s 4ms/step - loss: 229.5557 - val_loss: 632.8652\n",
      "Epoch 146/500\n",
      "18/18 [==============================] - 0s 5ms/step - loss: 224.9905 - val_loss: 634.0595\n",
      "Epoch 147/500\n",
      "18/18 [==============================] - 0s 4ms/step - loss: 220.5496 - val_loss: 635.3076\n",
      "Epoch 148/500\n",
      "18/18 [==============================] - 0s 4ms/step - loss: 216.2309 - val_loss: 636.6072\n",
      "Epoch 149/500\n",
      "18/18 [==============================] - 0s 5ms/step - loss: 212.0318 - val_loss: 637.9565\n",
      "Epoch 150/500\n",
      "18/18 [==============================] - 0s 4ms/step - loss: 207.9500 - val_loss: 639.3529\n",
      "Epoch 151/500\n",
      "18/18 [==============================] - 0s 4ms/step - loss: 203.9829 - val_loss: 640.7946\n",
      "Epoch 152/500\n",
      "18/18 [==============================] - 0s 5ms/step - loss: 200.1284 - val_loss: 642.2797\n",
      "Epoch 153/500\n",
      "18/18 [==============================] - 0s 4ms/step - loss: 196.3842 - val_loss: 643.8058\n",
      "Epoch 154/500\n",
      "18/18 [==============================] - 0s 4ms/step - loss: 192.7479 - val_loss: 645.3713\n",
      "Epoch 155/500\n",
      "18/18 [==============================] - 0s 5ms/step - loss: 189.2173 - val_loss: 646.9738\n",
      "Epoch 156/500\n",
      "18/18 [==============================] - 0s 5ms/step - loss: 185.7902 - val_loss: 648.6117\n",
      "Epoch 157/500\n",
      "18/18 [==============================] - 0s 5ms/step - loss: 182.4641 - val_loss: 650.2830\n",
      "Epoch 158/500\n",
      "18/18 [==============================] - 0s 5ms/step - loss: 179.2371 - val_loss: 651.9860\n",
      "Epoch 159/500\n",
      "18/18 [==============================] - 0s 4ms/step - loss: 176.1069 - val_loss: 653.7182\n",
      "Epoch 160/500\n",
      "18/18 [==============================] - 0s 4ms/step - loss: 173.0715 - val_loss: 655.4783\n",
      "Epoch 161/500\n",
      "18/18 [==============================] - 0s 5ms/step - loss: 170.1285 - val_loss: 657.2644\n",
      "Epoch 162/500\n",
      "18/18 [==============================] - 0s 4ms/step - loss: 167.2759 - val_loss: 659.0748\n",
      "Epoch 163/500\n",
      "18/18 [==============================] - 0s 4ms/step - loss: 164.5118 - val_loss: 660.9075\n",
      "Epoch 164/500\n",
      "18/18 [==============================] - 0s 5ms/step - loss: 161.8340 - val_loss: 662.7609\n",
      "Epoch 165/500\n",
      "18/18 [==============================] - 0s 5ms/step - loss: 159.2404 - val_loss: 664.6335\n",
      "Epoch 166/500\n",
      "18/18 [==============================] - 0s 4ms/step - loss: 156.7290 - val_loss: 666.5233\n",
      "Epoch 167/500\n",
      "18/18 [==============================] - 0s 4ms/step - loss: 154.2980 - val_loss: 668.4288\n",
      "Epoch 168/500\n",
      "18/18 [==============================] - 0s 5ms/step - loss: 151.9454 - val_loss: 670.3487\n",
      "Epoch 169/500\n",
      "18/18 [==============================] - 0s 4ms/step - loss: 149.6691 - val_loss: 672.2810\n",
      "Epoch 170/500\n",
      "18/18 [==============================] - 0s 4ms/step - loss: 147.4673 - val_loss: 674.2243\n",
      "Epoch 171/500\n",
      "18/18 [==============================] - 0s 5ms/step - loss: 145.3383 - val_loss: 676.1772\n",
      "Epoch 172/500\n",
      "18/18 [==============================] - 0s 4ms/step - loss: 143.2800 - val_loss: 678.1383\n",
      "Epoch 173/500\n",
      "18/18 [==============================] - 0s 4ms/step - loss: 141.2907 - val_loss: 680.1059\n",
      "Epoch 174/500\n",
      "18/18 [==============================] - 0s 5ms/step - loss: 139.3686 - val_loss: 682.0787\n",
      "Epoch 175/500\n",
      "18/18 [==============================] - 0s 4ms/step - loss: 137.5120 - val_loss: 684.0552\n",
      "Epoch 176/500\n",
      "18/18 [==============================] - 0s 10ms/step - loss: 135.7191 - val_loss: 686.0342\n",
      "Epoch 177/500\n",
      "18/18 [==============================] - 0s 4ms/step - loss: 133.9882 - val_loss: 688.0146\n",
      "Epoch 178/500\n",
      "18/18 [==============================] - 0s 4ms/step - loss: 132.3175 - val_loss: 689.9948\n",
      "Epoch 179/500\n",
      "18/18 [==============================] - 0s 5ms/step - loss: 130.7055 - val_loss: 691.9737\n",
      "Epoch 180/500\n",
      "18/18 [==============================] - 0s 5ms/step - loss: 129.1505 - val_loss: 693.9501\n",
      "Epoch 181/500\n",
      "18/18 [==============================] - 0s 4ms/step - loss: 127.6509 - val_loss: 695.9227\n",
      "Epoch 182/500\n",
      "18/18 [==============================] - 0s 4ms/step - loss: 126.2051 - val_loss: 697.8904\n",
      "Epoch 183/500\n",
      "18/18 [==============================] - 0s 5ms/step - loss: 124.8116 - val_loss: 699.8522\n",
      "Epoch 184/500\n",
      "18/18 [==============================] - 0s 4ms/step - loss: 123.4689 - val_loss: 701.8068\n",
      "Epoch 185/500\n",
      "18/18 [==============================] - 0s 4ms/step - loss: 122.1756 - val_loss: 703.7535\n",
      "Epoch 186/500\n",
      "18/18 [==============================] - 0s 5ms/step - loss: 120.9300 - val_loss: 705.6910\n",
      "Epoch 187/500\n",
      "18/18 [==============================] - 0s 5ms/step - loss: 119.7308 - val_loss: 707.6184\n",
      "Epoch 188/500\n",
      "18/18 [==============================] - 0s 4ms/step - loss: 118.5767 - val_loss: 709.5349\n",
      "Epoch 189/500\n",
      "18/18 [==============================] - 0s 4ms/step - loss: 117.4661 - val_loss: 711.4394\n",
      "Epoch 190/500\n",
      "18/18 [==============================] - 0s 5ms/step - loss: 116.3978 - val_loss: 713.3311\n",
      "Epoch 191/500\n",
      "18/18 [==============================] - 0s 5ms/step - loss: 115.3705 - val_loss: 715.2090\n",
      "Epoch 192/500\n",
      "18/18 [==============================] - 0s 5ms/step - loss: 114.3829 - val_loss: 717.0726\n",
      "Epoch 193/500\n",
      "18/18 [==============================] - 0s 4ms/step - loss: 113.4336 - val_loss: 718.9208\n",
      "Epoch 194/500\n",
      "18/18 [==============================] - 0s 5ms/step - loss: 112.5215 - val_loss: 720.7532\n",
      "Epoch 195/500\n",
      "18/18 [==============================] - 0s 5ms/step - loss: 111.6453 - val_loss: 722.5690\n",
      "Epoch 196/500\n",
      "18/18 [==============================] - 0s 4ms/step - loss: 110.8039 - val_loss: 724.3674\n",
      "Epoch 197/500\n",
      "18/18 [==============================] - 0s 4ms/step - loss: 109.9960 - val_loss: 726.1482\n",
      "Epoch 198/500\n",
      "18/18 [==============================] - 0s 5ms/step - loss: 109.2206 - val_loss: 727.9099\n",
      "Epoch 199/500\n",
      "18/18 [==============================] - 0s 4ms/step - loss: 108.4765 - val_loss: 729.6523\n",
      "Epoch 200/500\n",
      "18/18 [==============================] - 0s 4ms/step - loss: 107.7629 - val_loss: 731.3751\n",
      "Epoch 201/500\n",
      "18/18 [==============================] - 0s 5ms/step - loss: 107.0785 - val_loss: 733.0779\n",
      "Epoch 202/500\n",
      "18/18 [==============================] - 0s 12ms/step - loss: 106.4222 - val_loss: 734.7601\n",
      "Epoch 203/500\n",
      "18/18 [==============================] - 0s 5ms/step - loss: 105.7933 - val_loss: 736.4207\n",
      "Epoch 204/500\n",
      "18/18 [==============================] - 0s 5ms/step - loss: 105.1906 - val_loss: 738.0598\n",
      "Epoch 205/500\n",
      "18/18 [==============================] - 0s 4ms/step - loss: 104.6131 - val_loss: 739.6771\n",
      "Epoch 206/500\n",
      "18/18 [==============================] - 0s 5ms/step - loss: 104.0601 - val_loss: 741.2722\n",
      "Epoch 207/500\n",
      "18/18 [==============================] - 0s 4ms/step - loss: 103.5305 - val_loss: 742.8444\n",
      "Epoch 208/500\n",
      "18/18 [==============================] - 0s 4ms/step - loss: 103.0235 - val_loss: 744.3936\n",
      "Epoch 209/500\n",
      "18/18 [==============================] - 0s 4ms/step - loss: 102.5385 - val_loss: 745.9197\n",
      "Epoch 210/500\n",
      "18/18 [==============================] - 0s 4ms/step - loss: 102.0742 - val_loss: 747.4221\n",
      "Epoch 211/500\n",
      "18/18 [==============================] - 0s 4ms/step - loss: 101.6303 - val_loss: 748.9007\n",
      "Epoch 212/500\n",
      "18/18 [==============================] - 0s 5ms/step - loss: 101.2057 - val_loss: 750.3554\n",
      "Epoch 213/500\n",
      "18/18 [==============================] - 0s 5ms/step - loss: 100.7998 - val_loss: 751.7858\n",
      "Epoch 214/500\n",
      "18/18 [==============================] - 0s 4ms/step - loss: 100.4118 - val_loss: 753.1921\n",
      "Epoch 215/500\n",
      "18/18 [==============================] - 0s 4ms/step - loss: 100.0410 - val_loss: 754.5740\n",
      "Epoch 216/500\n",
      "18/18 [==============================] - 0s 4ms/step - loss: 99.6867 - val_loss: 755.9318\n",
      "Epoch 217/500\n",
      "18/18 [==============================] - 0s 4ms/step - loss: 99.3483 - val_loss: 757.2644\n",
      "Epoch 218/500\n",
      "18/18 [==============================] - 0s 5ms/step - loss: 99.0252 - val_loss: 758.5723\n",
      "Epoch 219/500\n",
      "18/18 [==============================] - 0s 4ms/step - loss: 98.7167 - val_loss: 759.8563\n",
      "Epoch 220/500\n",
      "18/18 [==============================] - 0s 4ms/step - loss: 98.4221 - val_loss: 761.1149\n",
      "Epoch 221/500\n",
      "18/18 [==============================] - 0s 4ms/step - loss: 98.1411 - val_loss: 762.3494\n",
      "Epoch 222/500\n",
      "18/18 [==============================] - 0s 5ms/step - loss: 97.8728 - val_loss: 763.5589\n",
      "Epoch 223/500\n",
      "18/18 [==============================] - 0s 5ms/step - loss: 97.6169 - val_loss: 764.7442\n",
      "Epoch 224/500\n",
      "18/18 [==============================] - 0s 4ms/step - loss: 97.3728 - val_loss: 765.9048\n",
      "Epoch 225/500\n",
      "18/18 [==============================] - 0s 4ms/step - loss: 97.1401 - val_loss: 767.0413\n",
      "Epoch 226/500\n",
      "18/18 [==============================] - 0s 5ms/step - loss: 96.9180 - val_loss: 768.1531\n",
      "Epoch 227/500\n",
      "18/18 [==============================] - 0s 5ms/step - loss: 96.7065 - val_loss: 769.2412\n",
      "Epoch 228/500\n",
      "18/18 [==============================] - 0s 4ms/step - loss: 96.5048 - val_loss: 770.3051\n",
      "Epoch 229/500\n",
      "18/18 [==============================] - 0s 5ms/step - loss: 96.3126 - val_loss: 771.3447\n",
      "Epoch 230/500\n",
      "18/18 [==============================] - 0s 11ms/step - loss: 96.1294 - val_loss: 772.3615\n",
      "Epoch 231/500\n",
      "18/18 [==============================] - 0s 5ms/step - loss: 95.9550 - val_loss: 773.3543\n",
      "Epoch 232/500\n",
      "18/18 [==============================] - 0s 5ms/step - loss: 95.7887 - val_loss: 774.3240\n",
      "Epoch 233/500\n",
      "18/18 [==============================] - 0s 4ms/step - loss: 95.6304 - val_loss: 775.2706\n",
      "Epoch 234/500\n",
      "18/18 [==============================] - 0s 4ms/step - loss: 95.4796 - val_loss: 776.1946\n",
      "Epoch 235/500\n",
      "18/18 [==============================] - 0s 4ms/step - loss: 95.3360 - val_loss: 777.0957\n",
      "Epoch 236/500\n",
      "18/18 [==============================] - 0s 4ms/step - loss: 95.1993 - val_loss: 777.9744\n",
      "Epoch 237/500\n",
      "18/18 [==============================] - 0s 4ms/step - loss: 95.0692 - val_loss: 778.8315\n",
      "Epoch 238/500\n",
      "18/18 [==============================] - 0s 4ms/step - loss: 94.9452 - val_loss: 779.6661\n",
      "Epoch 239/500\n",
      "18/18 [==============================] - 0s 4ms/step - loss: 94.8273 - val_loss: 780.4797\n",
      "Epoch 240/500\n",
      "18/18 [==============================] - 0s 5ms/step - loss: 94.7151 - val_loss: 781.2720\n",
      "Epoch 241/500\n",
      "18/18 [==============================] - 0s 5ms/step - loss: 94.6083 - val_loss: 782.0430\n",
      "Epoch 242/500\n",
      "18/18 [==============================] - 0s 4ms/step - loss: 94.5066 - val_loss: 782.7935\n",
      "Epoch 243/500\n",
      "18/18 [==============================] - 0s 5ms/step - loss: 94.4099 - val_loss: 783.5236\n",
      "Epoch 244/500\n",
      "18/18 [==============================] - 0s 4ms/step - loss: 94.3179 - val_loss: 784.2339\n",
      "Epoch 245/500\n",
      "18/18 [==============================] - 0s 4ms/step - loss: 94.2303 - val_loss: 784.9243\n",
      "Epoch 246/500\n",
      "18/18 [==============================] - 0s 5ms/step - loss: 94.1471 - val_loss: 785.5953\n",
      "Epoch 247/500\n",
      "18/18 [==============================] - 0s 4ms/step - loss: 94.0678 - val_loss: 786.2473\n",
      "Epoch 248/500\n",
      "18/18 [==============================] - 0s 4ms/step - loss: 93.9924 - val_loss: 786.8805\n",
      "Epoch 249/500\n",
      "18/18 [==============================] - 0s 5ms/step - loss: 93.9207 - val_loss: 787.4955\n",
      "Epoch 250/500\n",
      "18/18 [==============================] - 0s 5ms/step - loss: 93.8525 - val_loss: 788.0921\n",
      "Epoch 251/500\n",
      "18/18 [==============================] - 0s 5ms/step - loss: 93.7876 - val_loss: 788.6711\n",
      "Epoch 252/500\n",
      "18/18 [==============================] - 0s 5ms/step - loss: 93.7259 - val_loss: 789.2328\n",
      "Epoch 253/500\n",
      "18/18 [==============================] - 0s 5ms/step - loss: 93.6672 - val_loss: 789.7776\n",
      "Epoch 254/500\n",
      "18/18 [==============================] - 0s 9ms/step - loss: 93.6114 - val_loss: 790.3057\n",
      "Epoch 255/500\n",
      "18/18 [==============================] - 0s 9ms/step - loss: 93.5583 - val_loss: 790.8177\n",
      "Epoch 256/500\n",
      "18/18 [==============================] - 0s 8ms/step - loss: 93.5077 - val_loss: 791.3135\n",
      "Epoch 257/500\n",
      "18/18 [==============================] - 0s 6ms/step - loss: 93.4597 - val_loss: 791.7936\n",
      "Epoch 258/500\n",
      "18/18 [==============================] - 0s 7ms/step - loss: 93.4139 - val_loss: 792.2585\n",
      "Epoch 259/500\n",
      "18/18 [==============================] - 0s 15ms/step - loss: 93.3705 - val_loss: 792.7083\n",
      "Epoch 260/500\n",
      "18/18 [==============================] - 0s 7ms/step - loss: 93.3292 - val_loss: 793.1440\n",
      "Epoch 261/500\n",
      "18/18 [==============================] - 0s 12ms/step - loss: 93.2898 - val_loss: 793.5648\n",
      "Epoch 262/500\n",
      "18/18 [==============================] - 0s 7ms/step - loss: 93.2524 - val_loss: 793.9725\n",
      "Epoch 263/500\n",
      "18/18 [==============================] - 0s 6ms/step - loss: 93.2168 - val_loss: 794.3662\n",
      "Epoch 264/500\n",
      "18/18 [==============================] - 0s 6ms/step - loss: 93.1829 - val_loss: 794.7466\n",
      "Epoch 265/500\n",
      "18/18 [==============================] - 0s 5ms/step - loss: 93.1507 - val_loss: 795.1141\n",
      "Epoch 266/500\n",
      "18/18 [==============================] - 0s 7ms/step - loss: 93.1201 - val_loss: 795.4692\n",
      "Epoch 267/500\n",
      "18/18 [==============================] - 0s 7ms/step - loss: 93.0909 - val_loss: 795.8118\n",
      "Epoch 268/500\n",
      "18/18 [==============================] - 0s 6ms/step - loss: 93.0632 - val_loss: 796.1426\n",
      "Epoch 269/500\n",
      "18/18 [==============================] - 0s 6ms/step - loss: 93.0367 - val_loss: 796.4617\n",
      "Epoch 270/500\n",
      "18/18 [==============================] - 0s 10ms/step - loss: 93.0117 - val_loss: 796.7698\n",
      "Epoch 271/500\n",
      "18/18 [==============================] - 0s 15ms/step - loss: 92.9878 - val_loss: 797.0668\n",
      "Epoch 272/500\n",
      "18/18 [==============================] - 0s 8ms/step - loss: 92.9650 - val_loss: 797.3532\n",
      "Epoch 273/500\n",
      "18/18 [==============================] - 0s 6ms/step - loss: 92.9434 - val_loss: 797.6291\n",
      "Epoch 274/500\n",
      "18/18 [==============================] - 0s 6ms/step - loss: 92.9228 - val_loss: 797.8951\n",
      "Epoch 275/500\n",
      "18/18 [==============================] - 0s 6ms/step - loss: 92.9032 - val_loss: 798.1514\n",
      "Epoch 276/500\n",
      "18/18 [==============================] - 0s 7ms/step - loss: 92.8846 - val_loss: 798.3981\n",
      "Epoch 277/500\n",
      "18/18 [==============================] - 0s 8ms/step - loss: 92.8669 - val_loss: 798.6354\n",
      "Epoch 278/500\n",
      "18/18 [==============================] - 0s 8ms/step - loss: 92.8500 - val_loss: 798.8642\n",
      "Epoch 279/500\n",
      "18/18 [==============================] - 0s 8ms/step - loss: 92.8339 - val_loss: 799.0841\n",
      "Epoch 280/500\n",
      "18/18 [==============================] - 0s 8ms/step - loss: 92.8186 - val_loss: 799.2957\n",
      "Epoch 281/500\n",
      "18/18 [==============================] - 0s 7ms/step - loss: 92.8041 - val_loss: 799.4993\n",
      "Epoch 282/500\n",
      "18/18 [==============================] - 0s 8ms/step - loss: 92.7902 - val_loss: 799.6949\n",
      "Epoch 283/500\n",
      "18/18 [==============================] - 0s 7ms/step - loss: 92.7771 - val_loss: 799.8829\n",
      "Epoch 284/500\n",
      "18/18 [==============================] - 0s 6ms/step - loss: 92.7645 - val_loss: 800.0634\n",
      "Epoch 285/500\n",
      "18/18 [==============================] - 0s 5ms/step - loss: 92.7526 - val_loss: 800.2374\n",
      "Epoch 286/500\n",
      "18/18 [==============================] - 0s 4ms/step - loss: 92.7413 - val_loss: 800.4042\n",
      "Epoch 287/500\n",
      "18/18 [==============================] - 0s 4ms/step - loss: 92.7305 - val_loss: 800.5643\n",
      "Epoch 288/500\n",
      "18/18 [==============================] - 0s 4ms/step - loss: 92.7202 - val_loss: 800.7180\n",
      "Epoch 289/500\n",
      "18/18 [==============================] - 0s 5ms/step - loss: 92.7104 - val_loss: 800.8651\n",
      "Epoch 290/500\n",
      "18/18 [==============================] - 0s 5ms/step - loss: 92.7011 - val_loss: 801.0066\n",
      "Epoch 291/500\n",
      "18/18 [==============================] - 0s 5ms/step - loss: 92.6923 - val_loss: 801.1424\n",
      "Epoch 292/500\n",
      "18/18 [==============================] - 0s 4ms/step - loss: 92.6839 - val_loss: 801.2726\n",
      "Epoch 293/500\n",
      "18/18 [==============================] - 0s 5ms/step - loss: 92.6759 - val_loss: 801.3975\n",
      "Epoch 294/500\n",
      "18/18 [==============================] - 0s 5ms/step - loss: 92.6683 - val_loss: 801.5168\n",
      "Epoch 295/500\n",
      "18/18 [==============================] - 0s 6ms/step - loss: 92.6610 - val_loss: 801.6312\n",
      "Epoch 296/500\n",
      "18/18 [==============================] - 0s 7ms/step - loss: 92.6542 - val_loss: 801.7407\n",
      "Epoch 297/500\n",
      "18/18 [==============================] - 0s 5ms/step - loss: 92.6477 - val_loss: 801.8456\n",
      "Epoch 298/500\n",
      "18/18 [==============================] - 0s 6ms/step - loss: 92.6414 - val_loss: 801.9462\n",
      "Epoch 299/500\n",
      "18/18 [==============================] - 0s 6ms/step - loss: 92.6355 - val_loss: 802.0423\n",
      "Epoch 300/500\n",
      "18/18 [==============================] - 0s 4ms/step - loss: 92.6300 - val_loss: 802.1346\n",
      "Epoch 301/500\n",
      "18/18 [==============================] - 0s 6ms/step - loss: 92.6246 - val_loss: 802.2224\n",
      "Epoch 302/500\n",
      "18/18 [==============================] - 0s 6ms/step - loss: 92.6195 - val_loss: 802.3069\n",
      "Epoch 303/500\n",
      "18/18 [==============================] - 0s 5ms/step - loss: 92.6148 - val_loss: 802.3873\n",
      "Epoch 304/500\n",
      "18/18 [==============================] - 0s 6ms/step - loss: 92.6102 - val_loss: 802.4642\n",
      "Epoch 305/500\n",
      "18/18 [==============================] - 0s 5ms/step - loss: 92.6058 - val_loss: 802.5379\n",
      "Epoch 306/500\n",
      "18/18 [==============================] - 0s 6ms/step - loss: 92.6018 - val_loss: 802.6083\n",
      "Epoch 307/500\n",
      "18/18 [==============================] - 0s 6ms/step - loss: 92.5978 - val_loss: 802.6755\n",
      "Epoch 308/500\n",
      "18/18 [==============================] - 0s 5ms/step - loss: 92.5941 - val_loss: 802.7394\n",
      "Epoch 309/500\n",
      "18/18 [==============================] - 0s 5ms/step - loss: 92.5906 - val_loss: 802.8006\n",
      "Epoch 310/500\n",
      "18/18 [==============================] - 0s 5ms/step - loss: 92.5873 - val_loss: 802.8594\n",
      "Epoch 311/500\n",
      "18/18 [==============================] - 0s 4ms/step - loss: 92.5842 - val_loss: 802.9152\n",
      "Epoch 312/500\n",
      "18/18 [==============================] - 0s 5ms/step - loss: 92.5811 - val_loss: 802.9684\n",
      "Epoch 313/500\n",
      "18/18 [==============================] - 0s 6ms/step - loss: 92.5783 - val_loss: 803.0190\n",
      "Epoch 314/500\n",
      "18/18 [==============================] - 0s 5ms/step - loss: 92.5756 - val_loss: 803.0680\n",
      "Epoch 315/500\n",
      "18/18 [==============================] - 0s 5ms/step - loss: 92.5730 - val_loss: 803.1136\n",
      "Epoch 316/500\n",
      "18/18 [==============================] - 0s 5ms/step - loss: 92.5707 - val_loss: 803.1578\n",
      "Epoch 317/500\n",
      "18/18 [==============================] - 0s 5ms/step - loss: 92.5684 - val_loss: 803.1996\n",
      "Epoch 318/500\n",
      "18/18 [==============================] - 0s 4ms/step - loss: 92.5662 - val_loss: 803.2395\n",
      "Epoch 319/500\n",
      "18/18 [==============================] - 0s 5ms/step - loss: 92.5642 - val_loss: 803.2780\n",
      "Epoch 320/500\n",
      "18/18 [==============================] - 0s 5ms/step - loss: 92.5623 - val_loss: 803.3143\n",
      "Epoch 321/500\n",
      "18/18 [==============================] - 0s 5ms/step - loss: 92.5604 - val_loss: 803.3486\n",
      "Epoch 322/500\n",
      "18/18 [==============================] - 0s 5ms/step - loss: 92.5587 - val_loss: 803.3816\n",
      "Epoch 323/500\n",
      "18/18 [==============================] - 0s 4ms/step - loss: 92.5571 - val_loss: 803.4124\n",
      "Epoch 324/500\n",
      "18/18 [==============================] - 0s 13ms/step - loss: 92.5556 - val_loss: 803.4423\n",
      "Epoch 325/500\n",
      "18/18 [==============================] - 0s 9ms/step - loss: 92.5542 - val_loss: 803.4707\n",
      "Epoch 326/500\n",
      "18/18 [==============================] - 0s 6ms/step - loss: 92.5528 - val_loss: 803.4977\n",
      "Epoch 327/500\n",
      "18/18 [==============================] - 0s 5ms/step - loss: 92.5515 - val_loss: 803.5232\n",
      "Epoch 328/500\n",
      "18/18 [==============================] - 0s 5ms/step - loss: 92.5504 - val_loss: 803.5477\n",
      "Epoch 329/500\n",
      "18/18 [==============================] - 0s 5ms/step - loss: 92.5492 - val_loss: 803.5707\n",
      "Epoch 330/500\n",
      "18/18 [==============================] - 0s 5ms/step - loss: 92.5482 - val_loss: 803.5931\n",
      "Epoch 331/500\n",
      "18/18 [==============================] - 0s 5ms/step - loss: 92.5471 - val_loss: 803.6138\n",
      "Epoch 332/500\n",
      "18/18 [==============================] - 0s 5ms/step - loss: 92.5462 - val_loss: 803.6336\n",
      "Epoch 333/500\n",
      "18/18 [==============================] - 0s 5ms/step - loss: 92.5453 - val_loss: 803.6524\n",
      "Epoch 334/500\n",
      "18/18 [==============================] - 0s 5ms/step - loss: 92.5445 - val_loss: 803.6702\n",
      "Epoch 335/500\n",
      "18/18 [==============================] - 0s 4ms/step - loss: 92.5437 - val_loss: 803.6871\n",
      "Epoch 336/500\n",
      "18/18 [==============================] - 0s 4ms/step - loss: 92.5431 - val_loss: 803.7034\n",
      "Epoch 337/500\n",
      "18/18 [==============================] - 0s 5ms/step - loss: 92.5423 - val_loss: 803.7189\n",
      "Epoch 338/500\n",
      "18/18 [==============================] - 0s 4ms/step - loss: 92.5417 - val_loss: 803.7333\n",
      "Epoch 339/500\n",
      "18/18 [==============================] - 0s 4ms/step - loss: 92.5411 - val_loss: 803.7466\n",
      "Epoch 340/500\n",
      "18/18 [==============================] - 0s 5ms/step - loss: 92.5406 - val_loss: 803.7601\n",
      "Epoch 341/500\n",
      "18/18 [==============================] - 0s 7ms/step - loss: 92.5401 - val_loss: 803.7725\n",
      "Epoch 342/500\n",
      "18/18 [==============================] - 0s 5ms/step - loss: 92.5396 - val_loss: 803.7846\n",
      "Epoch 343/500\n",
      "18/18 [==============================] - 0s 6ms/step - loss: 92.5392 - val_loss: 803.7956\n",
      "Epoch 344/500\n",
      "18/18 [==============================] - 0s 7ms/step - loss: 92.5387 - val_loss: 803.8059\n",
      "Epoch 345/500\n",
      "18/18 [==============================] - 0s 8ms/step - loss: 92.5384 - val_loss: 803.8159\n",
      "Epoch 346/500\n",
      "18/18 [==============================] - 0s 8ms/step - loss: 92.5381 - val_loss: 803.8253\n",
      "Epoch 347/500\n",
      "18/18 [==============================] - 0s 12ms/step - loss: 92.5378 - val_loss: 803.8343\n",
      "Epoch 348/500\n",
      "18/18 [==============================] - 0s 12ms/step - loss: 92.5375 - val_loss: 803.8425\n",
      "Epoch 349/500\n",
      "18/18 [==============================] - 0s 8ms/step - loss: 92.5372 - val_loss: 803.8506\n",
      "Epoch 350/500\n",
      "18/18 [==============================] - 0s 5ms/step - loss: 92.5370 - val_loss: 803.8582\n",
      "Epoch 351/500\n",
      "18/18 [==============================] - 0s 4ms/step - loss: 92.5367 - val_loss: 803.8653\n",
      "Epoch 352/500\n",
      "18/18 [==============================] - 0s 4ms/step - loss: 92.5365 - val_loss: 803.8719\n",
      "Epoch 353/500\n",
      "18/18 [==============================] - 0s 4ms/step - loss: 92.5364 - val_loss: 803.8781\n",
      "Epoch 354/500\n",
      "18/18 [==============================] - 0s 6ms/step - loss: 92.5362 - val_loss: 803.8839\n",
      "Epoch 355/500\n",
      "18/18 [==============================] - 0s 5ms/step - loss: 92.5361 - val_loss: 803.8900\n",
      "Epoch 356/500\n",
      "18/18 [==============================] - 0s 4ms/step - loss: 92.5360 - val_loss: 803.8954\n",
      "Epoch 357/500\n",
      "18/18 [==============================] - 0s 5ms/step - loss: 92.5359 - val_loss: 803.9006\n",
      "Epoch 358/500\n",
      "18/18 [==============================] - 0s 5ms/step - loss: 92.5358 - val_loss: 803.9055\n",
      "Epoch 359/500\n",
      "18/18 [==============================] - 0s 4ms/step - loss: 92.5357 - val_loss: 803.9100\n",
      "Epoch 360/500\n",
      "18/18 [==============================] - 0s 5ms/step - loss: 92.5356 - val_loss: 803.9143\n",
      "Epoch 361/500\n",
      "18/18 [==============================] - 0s 5ms/step - loss: 92.5355 - val_loss: 803.9182\n",
      "Epoch 362/500\n",
      "18/18 [==============================] - 0s 4ms/step - loss: 92.5355 - val_loss: 803.9218\n",
      "Epoch 363/500\n",
      "18/18 [==============================] - 0s 5ms/step - loss: 92.5355 - val_loss: 803.9254\n",
      "Epoch 364/500\n",
      "18/18 [==============================] - 0s 5ms/step - loss: 92.5355 - val_loss: 803.9288\n",
      "Epoch 365/500\n",
      "18/18 [==============================] - 0s 6ms/step - loss: 92.5355 - val_loss: 803.9321\n",
      "Epoch 366/500\n",
      "18/18 [==============================] - 0s 7ms/step - loss: 92.5354 - val_loss: 803.9352\n",
      "Epoch 367/500\n",
      "18/18 [==============================] - 0s 8ms/step - loss: 92.5354 - val_loss: 803.9380\n",
      "Epoch 368/500\n",
      "18/18 [==============================] - 0s 8ms/step - loss: 92.5355 - val_loss: 803.9407\n",
      "Epoch 369/500\n",
      "18/18 [==============================] - 0s 6ms/step - loss: 92.5355 - val_loss: 803.9432\n",
      "Epoch 370/500\n",
      "18/18 [==============================] - 0s 5ms/step - loss: 92.5355 - val_loss: 803.9454\n",
      "Epoch 371/500\n",
      "18/18 [==============================] - 0s 5ms/step - loss: 92.5356 - val_loss: 803.9480\n",
      "Epoch 372/500\n",
      "18/18 [==============================] - 0s 6ms/step - loss: 92.5356 - val_loss: 803.9500\n",
      "Epoch 373/500\n",
      "18/18 [==============================] - 0s 6ms/step - loss: 92.5356 - val_loss: 803.9518\n",
      "Epoch 374/500\n",
      "18/18 [==============================] - 0s 5ms/step - loss: 92.5356 - val_loss: 803.9535\n",
      "Epoch 375/500\n",
      "18/18 [==============================] - 0s 6ms/step - loss: 92.5357 - val_loss: 803.9554\n",
      "Epoch 376/500\n",
      "18/18 [==============================] - 0s 6ms/step - loss: 92.5358 - val_loss: 803.9570\n",
      "Epoch 377/500\n",
      "18/18 [==============================] - 0s 5ms/step - loss: 92.5359 - val_loss: 803.9587\n",
      "Epoch 378/500\n",
      "18/18 [==============================] - 0s 5ms/step - loss: 92.5359 - val_loss: 803.9602\n",
      "Epoch 379/500\n",
      "18/18 [==============================] - 0s 5ms/step - loss: 92.5360 - val_loss: 803.9617\n",
      "Epoch 380/500\n",
      "18/18 [==============================] - 0s 5ms/step - loss: 92.5360 - val_loss: 803.9631\n",
      "Epoch 381/500\n",
      "18/18 [==============================] - 0s 5ms/step - loss: 92.5361 - val_loss: 803.9641\n",
      "Epoch 382/500\n",
      "18/18 [==============================] - 0s 11ms/step - loss: 92.5361 - val_loss: 803.9651\n",
      "Epoch 383/500\n",
      "18/18 [==============================] - 0s 6ms/step - loss: 92.5363 - val_loss: 803.9660\n",
      "Epoch 384/500\n",
      "18/18 [==============================] - 0s 6ms/step - loss: 92.5364 - val_loss: 803.9670\n",
      "Epoch 385/500\n",
      "18/18 [==============================] - 0s 6ms/step - loss: 92.5364 - val_loss: 803.9680\n",
      "Epoch 386/500\n",
      "18/18 [==============================] - 0s 5ms/step - loss: 92.5365 - val_loss: 803.9686\n",
      "Epoch 387/500\n",
      "18/18 [==============================] - 0s 7ms/step - loss: 92.5366 - val_loss: 803.9692\n",
      "Epoch 388/500\n",
      "18/18 [==============================] - 0s 5ms/step - loss: 92.5367 - val_loss: 803.9702\n",
      "Epoch 389/500\n",
      "18/18 [==============================] - 0s 5ms/step - loss: 92.5368 - val_loss: 803.9710\n",
      "Epoch 390/500\n",
      "18/18 [==============================] - 0s 5ms/step - loss: 92.5368 - val_loss: 803.9715\n",
      "Epoch 391/500\n",
      "18/18 [==============================] - 0s 5ms/step - loss: 92.5369 - val_loss: 803.9719\n",
      "Epoch 392/500\n",
      "18/18 [==============================] - 0s 4ms/step - loss: 92.5371 - val_loss: 803.9726\n",
      "Epoch 393/500\n",
      "18/18 [==============================] - 0s 5ms/step - loss: 92.5371 - val_loss: 803.9733\n",
      "Epoch 394/500\n",
      "18/18 [==============================] - 0s 5ms/step - loss: 92.5372 - val_loss: 803.9737\n",
      "Epoch 395/500\n",
      "18/18 [==============================] - 0s 5ms/step - loss: 92.5373 - val_loss: 803.9742\n",
      "Epoch 396/500\n",
      "18/18 [==============================] - 0s 6ms/step - loss: 92.5374 - val_loss: 803.9744\n",
      "Epoch 397/500\n",
      "18/18 [==============================] - 0s 6ms/step - loss: 92.5375 - val_loss: 803.9748\n",
      "Epoch 398/500\n",
      "18/18 [==============================] - 0s 6ms/step - loss: 92.5376 - val_loss: 803.9751\n",
      "Epoch 399/500\n",
      "18/18 [==============================] - 0s 5ms/step - loss: 92.5377 - val_loss: 803.9752\n",
      "Epoch 400/500\n",
      "18/18 [==============================] - 0s 6ms/step - loss: 92.5378 - val_loss: 803.9755\n",
      "Epoch 401/500\n",
      "18/18 [==============================] - 0s 6ms/step - loss: 92.5379 - val_loss: 803.9761\n",
      "Epoch 402/500\n",
      "18/18 [==============================] - 0s 5ms/step - loss: 92.5379 - val_loss: 803.9763\n",
      "Epoch 403/500\n",
      "18/18 [==============================] - 0s 4ms/step - loss: 92.5380 - val_loss: 803.9766\n",
      "Epoch 404/500\n",
      "18/18 [==============================] - 0s 5ms/step - loss: 92.5381 - val_loss: 803.9768\n",
      "Epoch 405/500\n",
      "18/18 [==============================] - 0s 6ms/step - loss: 92.5382 - val_loss: 803.9770\n",
      "Epoch 406/500\n",
      "18/18 [==============================] - 0s 6ms/step - loss: 92.5383 - val_loss: 803.9770\n",
      "Epoch 407/500\n",
      "18/18 [==============================] - 0s 19ms/step - loss: 92.5384 - val_loss: 803.9775\n",
      "Epoch 408/500\n",
      "18/18 [==============================] - 0s 7ms/step - loss: 92.5384 - val_loss: 803.9774\n",
      "Epoch 409/500\n",
      "18/18 [==============================] - 0s 6ms/step - loss: 92.5385 - val_loss: 803.9772\n",
      "Epoch 410/500\n",
      "18/18 [==============================] - 0s 6ms/step - loss: 92.5387 - val_loss: 803.9775\n",
      "Epoch 411/500\n",
      "18/18 [==============================] - 0s 6ms/step - loss: 92.5387 - val_loss: 803.9772\n",
      "Epoch 412/500\n",
      "18/18 [==============================] - 0s 9ms/step - loss: 92.5388 - val_loss: 803.9775\n",
      "Epoch 413/500\n",
      "18/18 [==============================] - 0s 7ms/step - loss: 92.5389 - val_loss: 803.9777\n",
      "Epoch 414/500\n",
      "18/18 [==============================] - 0s 6ms/step - loss: 92.5390 - val_loss: 803.9775\n",
      "Epoch 415/500\n",
      "18/18 [==============================] - 0s 6ms/step - loss: 92.5391 - val_loss: 803.9772\n",
      "Epoch 416/500\n",
      "18/18 [==============================] - 0s 5ms/step - loss: 92.5392 - val_loss: 803.9772\n",
      "Epoch 417/500\n",
      "18/18 [==============================] - 0s 6ms/step - loss: 92.5393 - val_loss: 803.9772\n",
      "Epoch 418/500\n",
      "18/18 [==============================] - 0s 5ms/step - loss: 92.5394 - val_loss: 803.9772\n",
      "Epoch 419/500\n",
      "18/18 [==============================] - 0s 5ms/step - loss: 92.5394 - val_loss: 803.9772\n",
      "Epoch 420/500\n",
      "18/18 [==============================] - 0s 5ms/step - loss: 92.5395 - val_loss: 803.9772\n",
      "Epoch 421/500\n",
      "18/18 [==============================] - 0s 7ms/step - loss: 92.5396 - val_loss: 803.9771\n",
      "Epoch 422/500\n",
      "18/18 [==============================] - 0s 6ms/step - loss: 92.5397 - val_loss: 803.9774\n",
      "Epoch 423/500\n",
      "18/18 [==============================] - 0s 5ms/step - loss: 92.5397 - val_loss: 803.9772\n",
      "Epoch 424/500\n",
      "18/18 [==============================] - 0s 6ms/step - loss: 92.5399 - val_loss: 803.9775\n",
      "Epoch 425/500\n",
      "18/18 [==============================] - 0s 5ms/step - loss: 92.5399 - val_loss: 803.9775\n",
      "Epoch 426/500\n",
      "18/18 [==============================] - 0s 6ms/step - loss: 92.5400 - val_loss: 803.9777\n",
      "Epoch 427/500\n",
      "18/18 [==============================] - 0s 5ms/step - loss: 92.5400 - val_loss: 803.9775\n",
      "Epoch 428/500\n",
      "18/18 [==============================] - 0s 5ms/step - loss: 92.5400 - val_loss: 803.9773\n",
      "Epoch 429/500\n",
      "18/18 [==============================] - 0s 7ms/step - loss: 92.5402 - val_loss: 803.9771\n",
      "Epoch 430/500\n",
      "18/18 [==============================] - 0s 10ms/step - loss: 92.5403 - val_loss: 803.9771\n",
      "Epoch 431/500\n",
      "18/18 [==============================] - 0s 5ms/step - loss: 92.5403 - val_loss: 803.9769\n",
      "Epoch 432/500\n",
      "18/18 [==============================] - 0s 5ms/step - loss: 92.5404 - val_loss: 803.9769\n",
      "Epoch 433/500\n",
      "18/18 [==============================] - 0s 5ms/step - loss: 92.5405 - val_loss: 803.9769\n",
      "Epoch 434/500\n",
      "18/18 [==============================] - 0s 6ms/step - loss: 92.5405 - val_loss: 803.9769\n",
      "Epoch 435/500\n",
      "18/18 [==============================] - 0s 6ms/step - loss: 92.5406 - val_loss: 803.9770\n",
      "Epoch 436/500\n",
      "18/18 [==============================] - 0s 6ms/step - loss: 92.5407 - val_loss: 803.9773\n",
      "Epoch 437/500\n",
      "18/18 [==============================] - 0s 6ms/step - loss: 92.5407 - val_loss: 803.9775\n",
      "Epoch 438/500\n",
      "18/18 [==============================] - 0s 6ms/step - loss: 92.5407 - val_loss: 803.9774\n",
      "Epoch 439/500\n",
      "18/18 [==============================] - 0s 5ms/step - loss: 92.5408 - val_loss: 803.9772\n",
      "Epoch 440/500\n",
      "18/18 [==============================] - 0s 5ms/step - loss: 92.5409 - val_loss: 803.9772\n",
      "Epoch 441/500\n",
      "18/18 [==============================] - 0s 5ms/step - loss: 92.5410 - val_loss: 803.9772\n",
      "Epoch 442/500\n",
      "18/18 [==============================] - 0s 6ms/step - loss: 92.5410 - val_loss: 803.9774\n",
      "Epoch 443/500\n",
      "18/18 [==============================] - 0s 6ms/step - loss: 92.5411 - val_loss: 803.9775\n",
      "Epoch 444/500\n",
      "18/18 [==============================] - 0s 5ms/step - loss: 92.5411 - val_loss: 803.9774\n",
      "Epoch 445/500\n",
      "18/18 [==============================] - 0s 5ms/step - loss: 92.5411 - val_loss: 803.9771\n",
      "Epoch 446/500\n",
      "18/18 [==============================] - 0s 5ms/step - loss: 92.5412 - val_loss: 803.9769\n",
      "Epoch 447/500\n",
      "18/18 [==============================] - 0s 6ms/step - loss: 92.5413 - val_loss: 803.9769\n",
      "Epoch 448/500\n",
      "18/18 [==============================] - 0s 5ms/step - loss: 92.5414 - val_loss: 803.9771\n",
      "Epoch 449/500\n",
      "18/18 [==============================] - 0s 5ms/step - loss: 92.5414 - val_loss: 803.9771\n",
      "Epoch 450/500\n",
      "18/18 [==============================] - 0s 6ms/step - loss: 92.5414 - val_loss: 803.9768\n",
      "Epoch 451/500\n",
      "18/18 [==============================] - 0s 5ms/step - loss: 92.5415 - val_loss: 803.9768\n",
      "Epoch 452/500\n",
      "18/18 [==============================] - 0s 5ms/step - loss: 92.5416 - val_loss: 803.9770\n",
      "Epoch 453/500\n",
      "18/18 [==============================] - 0s 5ms/step - loss: 92.5416 - val_loss: 803.9769\n",
      "Epoch 454/500\n",
      "18/18 [==============================] - 0s 5ms/step - loss: 92.5416 - val_loss: 803.9766\n",
      "Epoch 455/500\n",
      "18/18 [==============================] - 0s 5ms/step - loss: 92.5417 - val_loss: 803.9768\n",
      "Epoch 456/500\n",
      "18/18 [==============================] - 0s 12ms/step - loss: 92.5417 - val_loss: 803.9770\n",
      "Epoch 457/500\n",
      "18/18 [==============================] - 0s 4ms/step - loss: 92.5418 - val_loss: 803.9770\n",
      "Epoch 458/500\n",
      "18/18 [==============================] - 0s 4ms/step - loss: 92.5418 - val_loss: 803.9769\n",
      "Epoch 459/500\n",
      "18/18 [==============================] - 0s 5ms/step - loss: 92.5418 - val_loss: 803.9769\n",
      "Epoch 460/500\n",
      "18/18 [==============================] - 0s 5ms/step - loss: 92.5419 - val_loss: 803.9769\n",
      "Epoch 461/500\n",
      "18/18 [==============================] - 0s 4ms/step - loss: 92.5419 - val_loss: 803.9766\n",
      "Epoch 462/500\n",
      "18/18 [==============================] - 0s 5ms/step - loss: 92.5420 - val_loss: 803.9768\n",
      "Epoch 463/500\n",
      "18/18 [==============================] - 0s 5ms/step - loss: 92.5420 - val_loss: 803.9769\n",
      "Epoch 464/500\n",
      "18/18 [==============================] - 0s 6ms/step - loss: 92.5421 - val_loss: 803.9769\n",
      "Epoch 465/500\n",
      "18/18 [==============================] - 0s 6ms/step - loss: 92.5421 - val_loss: 803.9769\n",
      "Epoch 466/500\n",
      "18/18 [==============================] - 0s 5ms/step - loss: 92.5421 - val_loss: 803.9770\n",
      "Epoch 467/500\n",
      "18/18 [==============================] - 0s 5ms/step - loss: 92.5422 - val_loss: 803.9769\n",
      "Epoch 468/500\n",
      "18/18 [==============================] - 0s 5ms/step - loss: 92.5422 - val_loss: 803.9766\n",
      "Epoch 469/500\n",
      "18/18 [==============================] - 0s 6ms/step - loss: 92.5422 - val_loss: 803.9763\n",
      "Epoch 470/500\n",
      "18/18 [==============================] - 0s 5ms/step - loss: 92.5423 - val_loss: 803.9762\n",
      "Epoch 471/500\n",
      "18/18 [==============================] - 0s 5ms/step - loss: 92.5423 - val_loss: 803.9761\n",
      "Epoch 472/500\n",
      "18/18 [==============================] - 0s 5ms/step - loss: 92.5424 - val_loss: 803.9759\n",
      "Epoch 473/500\n",
      "18/18 [==============================] - 0s 5ms/step - loss: 92.5424 - val_loss: 803.9761\n",
      "Epoch 474/500\n",
      "18/18 [==============================] - 0s 5ms/step - loss: 92.5425 - val_loss: 803.9763\n",
      "Epoch 475/500\n",
      "18/18 [==============================] - 0s 5ms/step - loss: 92.5425 - val_loss: 803.9763\n",
      "Epoch 476/500\n",
      "18/18 [==============================] - 0s 6ms/step - loss: 92.5425 - val_loss: 803.9763\n",
      "Epoch 477/500\n",
      "18/18 [==============================] - 0s 6ms/step - loss: 92.5425 - val_loss: 803.9762\n",
      "Epoch 478/500\n",
      "18/18 [==============================] - 0s 6ms/step - loss: 92.5426 - val_loss: 803.9762\n",
      "Epoch 479/500\n",
      "18/18 [==============================] - 0s 6ms/step - loss: 92.5426 - val_loss: 803.9761\n",
      "Epoch 480/500\n",
      "18/18 [==============================] - 0s 5ms/step - loss: 92.5427 - val_loss: 803.9763\n",
      "Epoch 481/500\n",
      "18/18 [==============================] - 0s 14ms/step - loss: 92.5427 - val_loss: 803.9763\n",
      "Epoch 482/500\n",
      "18/18 [==============================] - 0s 6ms/step - loss: 92.5426 - val_loss: 803.9762\n",
      "Epoch 483/500\n",
      "18/18 [==============================] - 0s 6ms/step - loss: 92.5427 - val_loss: 803.9756\n",
      "Epoch 484/500\n",
      "18/18 [==============================] - 0s 6ms/step - loss: 92.5428 - val_loss: 803.9758\n",
      "Epoch 485/500\n",
      "18/18 [==============================] - 0s 6ms/step - loss: 92.5428 - val_loss: 803.9758\n",
      "Epoch 486/500\n",
      "18/18 [==============================] - 0s 5ms/step - loss: 92.5428 - val_loss: 803.9760\n",
      "Epoch 487/500\n",
      "18/18 [==============================] - 0s 5ms/step - loss: 92.5429 - val_loss: 803.9762\n",
      "Epoch 488/500\n",
      "18/18 [==============================] - 0s 5ms/step - loss: 92.5428 - val_loss: 803.9761\n",
      "Epoch 489/500\n",
      "18/18 [==============================] - 0s 4ms/step - loss: 92.5429 - val_loss: 803.9761\n",
      "Epoch 490/500\n",
      "18/18 [==============================] - 0s 5ms/step - loss: 92.5429 - val_loss: 803.9760\n",
      "Epoch 491/500\n",
      "18/18 [==============================] - 0s 5ms/step - loss: 92.5430 - val_loss: 803.9761\n",
      "Epoch 492/500\n",
      "18/18 [==============================] - 0s 6ms/step - loss: 92.5430 - val_loss: 803.9761\n",
      "Epoch 493/500\n",
      "18/18 [==============================] - 0s 5ms/step - loss: 92.5430 - val_loss: 803.9758\n",
      "Epoch 494/500\n",
      "18/18 [==============================] - 0s 6ms/step - loss: 92.5430 - val_loss: 803.9756\n",
      "Epoch 495/500\n",
      "18/18 [==============================] - 0s 5ms/step - loss: 92.5430 - val_loss: 803.9752\n",
      "Epoch 496/500\n",
      "18/18 [==============================] - 0s 5ms/step - loss: 92.5431 - val_loss: 803.9751\n",
      "Epoch 497/500\n",
      "18/18 [==============================] - 0s 6ms/step - loss: 92.5431 - val_loss: 803.9749\n",
      "Epoch 498/500\n",
      "18/18 [==============================] - 0s 5ms/step - loss: 92.5432 - val_loss: 803.9756\n",
      "Epoch 499/500\n",
      "18/18 [==============================] - 0s 5ms/step - loss: 92.5432 - val_loss: 803.9758\n",
      "Epoch 500/500\n",
      "18/18 [==============================] - 0s 5ms/step - loss: 92.5432 - val_loss: 803.9758\n"
     ]
    }
   ],
   "source": [
    "C0 = tf.Variable(82.7524, name=\"C0\", trainable=True, dtype=tf.float32)\n",
    "K0 = tf.Variable(-0.0031, name=\"K0\", trainable=True, dtype=tf.float32)\n",
    "K1 = tf.Variable(-0.0003, name=\"K1\", trainable=True, dtype=tf.float32)\n",
    "a = tf.Variable(0.0000, name=\"a\", trainable=True, dtype=tf.float32)\n",
    "b = tf.Variable(0.0171, name=\"b\", trainable=True, dtype=tf.float32)\n",
    "c = tf.Variable(3.0230, name=\"c\", trainable=True, dtype=tf.float32)\n",
    "\n",
    "splitr = 0.8\n",
    "\n",
    "\n",
    "def loss_fn(y_true, y_pred):\n",
    "    squared_difference = tf.square(y_true[:, 0] - y_pred[:, 0])\n",
    "    #squared_difference2 = tf.square(y_true[:, 2]-y_pred[:, 2])\n",
    "    #squared_difference1 = tf.square(y_true[:, 1]-y_pred[:, 1])\n",
    "    epsilon = 1\n",
    "    squared_difference3 = tf.square(\n",
    "        y_pred[:, 1] - (\n",
    "            y_pred[:, 0] * (\n",
    "                K0 - K1 * (\n",
    "                    9 * a * tf.math.log((y_pred[:, 0] + epsilon) / C0) / (K0 - K1 * c)**2 +\n",
    "                    4 * b * tf.math.log((y_pred[:, 0] + epsilon) / C0) / (K0 - K1 * c) + c\n",
    "                )\n",
    "            )\n",
    "        )\n",
    "    )\n",
    "    return tf.reduce_mean(squared_difference, axis=-1) + 0.2*tf.reduce_mean(squared_difference3, axis=-1)\n",
    "model = Sequential()\n",
    "model.add(LSTM(100, input_shape=(trainX.shape[1], trainX.shape[2])))\n",
    "model.add(Dense(60))\n",
    "model.compile(loss=loss_fn, optimizer='adam')\n",
    "history = model.fit(trainX[:int(splitr*trainX.shape[0])], trainy[:int(splitr*trainX.shape[0])], epochs=500, batch_size=64, validation_data=(trainX[int(splitr*trainX.shape[0]):trainX.shape[0]], trainy[int(splitr*trainX.shape[0]):trainX.shape[0]]), shuffle=False)"
   ]
  },
  {
   "cell_type": "code",
   "execution_count": 19,
   "metadata": {
    "colab": {
     "base_uri": "https://localhost:8080/"
    },
    "id": "yJL101rPyuoT",
    "outputId": "239ff2b1-c186-423a-d316-939dfdd7c793"
   },
   "outputs": [
    {
     "name": "stdout",
     "output_type": "stream",
     "text": [
      "1/1 [==============================] - 1s 524ms/step\n"
     ]
    }
   ],
   "source": [
    "forecast_without_mc = forecastX\n",
    "yhat_without_mc = model.predict(forecast_without_mc) # Step Ahead Prediction\n",
    "forecast_without_mc = forecast_without_mc.reshape((forecast_without_mc.shape[0], forecast_without_mc.shape[2])) # Historical Input"
   ]
  },
  {
   "cell_type": "code",
   "execution_count": 20,
   "metadata": {
    "colab": {
     "base_uri": "https://localhost:8080/"
    },
    "id": "g9dQELcJ8wbp",
    "outputId": "4dc7671b-b1a8-48d5-8744-a86f98446109"
   },
   "outputs": [
    {
     "data": {
      "text/plain": [
       "(1, 1, 251)"
      ]
     },
     "execution_count": 20,
     "metadata": {},
     "output_type": "execute_result"
    }
   ],
   "source": [
    "forecastX.shape"
   ]
  },
  {
   "cell_type": "code",
   "execution_count": 21,
   "metadata": {
    "colab": {
     "base_uri": "https://localhost:8080/"
    },
    "id": "IS2kyIKG1Kbr",
    "outputId": "f31b3485-8e26-452f-9298-ea8bf7e80ad1"
   },
   "outputs": [
    {
     "data": {
      "text/plain": [
       "(1, 251)"
      ]
     },
     "execution_count": 21,
     "metadata": {},
     "output_type": "execute_result"
    }
   ],
   "source": [
    "forecast_without_mc.shape"
   ]
  },
  {
   "cell_type": "code",
   "execution_count": 22,
   "metadata": {
    "id": "0u6VIzaDyuoT"
   },
   "outputs": [],
   "source": [
    "inv_yhat_without_mc = np.concatenate((forecast_without_mc, yhat_without_mc), axis=1) # Concatenation of predicted values with Historical Data\n",
    "#inv_yhat_without_mc = scaler.inverse_transform(inv_yhat_without_mc) # Transform labels back to original encoding"
   ]
  },
  {
   "cell_type": "code",
   "execution_count": 23,
   "metadata": {
    "colab": {
     "base_uri": "https://localhost:8080/"
    },
    "id": "EUEcw0LX07oU",
    "outputId": "cfc32397-9c37-4b43-d087-584bb31c3dcc"
   },
   "outputs": [
    {
     "data": {
      "text/plain": [
       "(1, 311)"
      ]
     },
     "execution_count": 23,
     "metadata": {},
     "output_type": "execute_result"
    }
   ],
   "source": [
    "inv_yhat_without_mc.shape"
   ]
  },
  {
   "cell_type": "code",
   "execution_count": 24,
   "metadata": {
    "id": "31OWVbSh_305"
   },
   "outputs": [],
   "source": [
    "fforecast = inv_yhat_without_mc[:,-300:]"
   ]
  },
  {
   "cell_type": "code",
   "execution_count": 25,
   "metadata": {},
   "outputs": [
    {
     "data": {
      "text/plain": [
       "(1, 300)"
      ]
     },
     "execution_count": 25,
     "metadata": {},
     "output_type": "execute_result"
    }
   ],
   "source": [
    "fforecast.shape"
   ]
  },
  {
   "cell_type": "code",
   "execution_count": 26,
   "metadata": {
    "id": "BlpGH2FOAiRF"
   },
   "outputs": [],
   "source": [
    "final_forecast = fforecast[:,0:300:3]"
   ]
  },
  {
   "cell_type": "code",
   "execution_count": 27,
   "metadata": {},
   "outputs": [
    {
     "data": {
      "text/plain": [
       "(1, 300)"
      ]
     },
     "execution_count": 27,
     "metadata": {},
     "output_type": "execute_result"
    }
   ],
   "source": [
    "fforecast.shape"
   ]
  },
  {
   "cell_type": "code",
   "execution_count": 28,
   "metadata": {
    "id": "CXkgkj_LBk_t"
   },
   "outputs": [],
   "source": [
    "# code to replace all negative value with 0\n",
    "final_forecast[final_forecast<0] = 0"
   ]
  },
  {
   "cell_type": "code",
   "execution_count": 29,
   "metadata": {},
   "outputs": [
    {
     "data": {
      "text/plain": [
       "array([[5.80509571e+01, 5.80089402e+01, 5.79669234e+01, 5.79249066e+01,\n",
       "        5.78828898e+01, 5.78408730e+01, 5.77988562e+01, 0.00000000e+00,\n",
       "        7.16493960e-01, 2.20957430e-01, 0.00000000e+00, 6.86268800e-02,\n",
       "        1.00525665e+00, 5.91537815e+01, 5.89857143e+01, 5.88176471e+01,\n",
       "        5.86495798e+01, 5.84815126e+01, 5.83134454e+01, 5.81863445e+01,\n",
       "        5.81443277e+01, 5.81023109e+01, 5.80602941e+01, 5.80182773e+01,\n",
       "        5.79762605e+01, 5.79342437e+01, 5.78922269e+01, 5.78502101e+01,\n",
       "        5.78081933e+01, 5.77661765e+01, 5.77241597e+01, 5.76821429e+01,\n",
       "        5.76401260e+01, 5.75981092e+01, 5.75560924e+01, 5.75140756e+01,\n",
       "        5.74720588e+01, 5.74300420e+01, 5.73880252e+01, 5.73460084e+01,\n",
       "        1.05346406e+00, 0.00000000e+00, 0.00000000e+00, 0.00000000e+00,\n",
       "        0.00000000e+00, 4.05044300e-02, 0.00000000e+00, 5.79435808e+01,\n",
       "        5.79015640e+01, 5.78595471e+01, 5.78175303e+01, 5.77755135e+01,\n",
       "        5.77334967e+01, 5.76914799e+01, 5.76494631e+01, 5.76074463e+01,\n",
       "        5.75654295e+01, 5.75234127e+01, 5.74813959e+01, 5.74393791e+01,\n",
       "        5.73973623e+01, 5.73553455e+01, 6.29306256e+01, 6.27289449e+01,\n",
       "        6.21602008e+01, 6.15299487e+01, 6.08996966e+01, 6.02694444e+01,\n",
       "        5.97513539e+01, 5.92471522e+01, 5.87429505e+01, 0.00000000e+00,\n",
       "        6.19025170e-01, 5.03264771e+01, 1.97836610e-02, 7.93619275e-01,\n",
       "        0.00000000e+00, 4.12894547e-01, 0.00000000e+00, 0.00000000e+00,\n",
       "        5.67768288e+01, 2.83631295e-01, 8.27213451e-02, 8.75653625e-02,\n",
       "        0.00000000e+00, 3.25177640e-01, 0.00000000e+00, 2.03480452e-01,\n",
       "        0.00000000e+00, 0.00000000e+00, 1.01974100e-01, 3.19956124e-01,\n",
       "        5.97576737e-01, 5.16042829e-01, 2.83000529e-01, 6.01354837e-01,\n",
       "        0.00000000e+00, 2.59597063e-01, 1.08075157e-01, 2.68835902e-01]])"
      ]
     },
     "execution_count": 29,
     "metadata": {},
     "output_type": "execute_result"
    }
   ],
   "source": [
    "final_forecast"
   ]
  },
  {
   "cell_type": "code",
   "execution_count": 30,
   "metadata": {},
   "outputs": [
    {
     "data": {
      "text/plain": [
       "(1, 100)"
      ]
     },
     "execution_count": 30,
     "metadata": {},
     "output_type": "execute_result"
    }
   ],
   "source": [
    "final_forecast.shape"
   ]
  },
  {
   "cell_type": "code",
   "execution_count": 31,
   "metadata": {},
   "outputs": [
    {
     "data": {
      "text/plain": [
       "(100,)"
      ]
     },
     "execution_count": 31,
     "metadata": {},
     "output_type": "execute_result"
    }
   ],
   "source": [
    "test.shape"
   ]
  },
  {
   "cell_type": "code",
   "execution_count": 32,
   "metadata": {},
   "outputs": [],
   "source": [
    "training_set = np.array(training_set)\n",
    "test = np.array(test)\n",
    "final_forecast = np.array(final_forecast.squeeze(0))"
   ]
  },
  {
   "cell_type": "code",
   "execution_count": 33,
   "metadata": {},
   "outputs": [
    {
     "data": {
      "text/plain": [
       "array([52.79325397, 52.77738095, 52.76150794, 52.74563492, 52.7297619 ,\n",
       "       52.71388889, 52.69801587, 52.68214286, 52.66626984, 52.65039683,\n",
       "       52.63452381, 52.61865079, 52.60277778, 52.58690476, 52.57103175,\n",
       "       52.55515873, 52.53928571, 52.5234127 , 52.50753968, 52.49166667,\n",
       "       52.47579365, 52.45992063, 52.44404762, 52.4281746 , 52.41230159,\n",
       "       52.39642857, 52.38055556, 52.36468254, 52.34880952, 52.33293651,\n",
       "       52.31706349, 52.30119048, 52.28531746, 52.26944444, 52.25357143,\n",
       "       52.23769841, 52.2218254 , 52.20595238, 52.19007937, 52.17420635,\n",
       "       52.15833333, 52.14246032, 52.1265873 , 52.11071429, 52.09484127,\n",
       "       52.07896825, 52.06309524, 52.04722222, 52.03134921, 52.01547619,\n",
       "       51.99960317, 51.98373016, 51.96785714, 51.95198413, 51.93611111,\n",
       "       51.9202381 , 51.90436508, 51.88849206, 51.87261905, 51.85674603,\n",
       "       51.84087302, 51.825     , 51.80912698, 51.79325397, 51.77738095,\n",
       "       51.76150794, 51.74563492, 51.7297619 , 51.71388889, 51.69830766,\n",
       "       51.68476891, 51.67123016, 51.65769141, 51.64415266, 51.63061391,\n",
       "       51.61707516, 51.60353641, 51.58999767, 51.57645892, 51.56292017,\n",
       "       51.54938142, 51.53584267, 51.52230392, 51.50876517, 51.49522642,\n",
       "       51.48168768, 51.46814893, 51.45461018, 51.44107143, 51.42753268,\n",
       "       51.41399393, 51.40045518, 51.38691643, 51.37337768, 51.35983894,\n",
       "       51.34630019, 51.33276144, 51.31922269, 51.30568394, 51.29214519])"
      ]
     },
     "execution_count": 33,
     "metadata": {},
     "output_type": "execute_result"
    }
   ],
   "source": [
    "test"
   ]
  },
  {
   "cell_type": "code",
   "execution_count": 34,
   "metadata": {},
   "outputs": [
    {
     "data": {
      "text/plain": [
       "(100,)"
      ]
     },
     "execution_count": 34,
     "metadata": {},
     "output_type": "execute_result"
    }
   ],
   "source": [
    "test.shape"
   ]
  },
  {
   "cell_type": "code",
   "execution_count": 35,
   "metadata": {},
   "outputs": [
    {
     "data": {
      "text/plain": [
       "(100,)"
      ]
     },
     "execution_count": 35,
     "metadata": {},
     "output_type": "execute_result"
    }
   ],
   "source": [
    "final_forecast.shape"
   ]
  },
  {
   "cell_type": "code",
   "execution_count": 36,
   "metadata": {},
   "outputs": [
    {
     "data": {
      "text/plain": [
       "(100,)"
      ]
     },
     "execution_count": 36,
     "metadata": {},
     "output_type": "execute_result"
    }
   ],
   "source": [
    "test.shape"
   ]
  },
  {
   "cell_type": "code",
   "execution_count": 37,
   "metadata": {},
   "outputs": [
    {
     "name": "stdout",
     "output_type": "stream",
     "text": [
      "32.951217236338856\n",
      "24.23678931760318\n"
     ]
    }
   ],
   "source": [
    "import math\n",
    "MSE = np.square(np.subtract(np.array(test),np.array(final_forecast))).mean()   \n",
    "rsme = math.sqrt(MSE)\n",
    "print(rsme)  \n",
    "MAE = np.abs(np.subtract(np.array(test),np.array(final_forecast))).mean()   \n",
    "mae = MAE\n",
    "print(mae)"
   ]
  }
 ],
 "metadata": {
  "colab": {
   "provenance": []
  },
  "kernelspec": {
   "display_name": "Python 3",
   "language": "python",
   "name": "python3"
  },
  "language_info": {
   "codemirror_mode": {
    "name": "ipython",
    "version": 3
   },
   "file_extension": ".py",
   "mimetype": "text/x-python",
   "name": "python",
   "nbconvert_exporter": "python",
   "pygments_lexer": "ipython3",
   "version": "3.9.13"
  }
 },
 "nbformat": 4,
 "nbformat_minor": 0
}
