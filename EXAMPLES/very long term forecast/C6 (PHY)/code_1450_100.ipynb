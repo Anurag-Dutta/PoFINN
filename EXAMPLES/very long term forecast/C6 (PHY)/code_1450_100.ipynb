{
 "cells": [
  {
   "cell_type": "markdown",
   "metadata": {
    "id": "pCGKeZ2gyuoQ"
   },
   "source": [
    "_Importing Required Libraries_"
   ]
  },
  {
   "cell_type": "code",
   "execution_count": 1,
   "metadata": {
    "colab": {
     "base_uri": "https://localhost:8080/"
    },
    "id": "A-6LN-zXiLcM",
    "outputId": "4de610a4-f8b8-4f49-c6c0-89de299ccedc"
   },
   "outputs": [
    {
     "name": "stdout",
     "output_type": "stream",
     "text": [
      "Requirement already satisfied: hampel in c:\\users\\anurag dutta\\appdata\\local\\packages\\pythonsoftwarefoundation.python.3.9_qbz5n2kfra8p0\\localcache\\local-packages\\python39\\site-packages (0.0.5)Note: you may need to restart the kernel to use updated packages.\n",
      "Requirement already satisfied: numpy in c:\\users\\anurag dutta\\appdata\\local\\packages\\pythonsoftwarefoundation.python.3.9_qbz5n2kfra8p0\\localcache\\local-packages\\python39\\site-packages (from hampel) (1.26.4)\n",
      "Requirement already satisfied: pandas in c:\\users\\anurag dutta\\appdata\\local\\packages\\pythonsoftwarefoundation.python.3.9_qbz5n2kfra8p0\\localcache\\local-packages\\python39\\site-packages (from hampel) (1.5.2)\n",
      "Requirement already satisfied: python-dateutil>=2.8.1 in c:\\users\\anurag dutta\\appdata\\local\\packages\\pythonsoftwarefoundation.python.3.9_qbz5n2kfra8p0\\localcache\\local-packages\\python39\\site-packages (from pandas->hampel) (2.8.2)\n",
      "Requirement already satisfied: pytz>=2020.1 in c:\\users\\anurag dutta\\appdata\\local\\packages\\pythonsoftwarefoundation.python.3.9_qbz5n2kfra8p0\\localcache\\local-packages\\python39\\site-packages (from pandas->hampel) (2023.3.post1)\n",
      "Requirement already satisfied: six>=1.5 in c:\\users\\anurag dutta\\appdata\\local\\packages\\pythonsoftwarefoundation.python.3.9_qbz5n2kfra8p0\\localcache\\local-packages\\python39\\site-packages (from python-dateutil>=2.8.1->pandas->hampel) (1.16.0)\n"
     ]
    },
    {
     "name": "stderr",
     "output_type": "stream",
     "text": [
      "\n",
      "[notice] A new release of pip is available: 24.2 -> 24.3.1\n",
      "[notice] To update, run: C:\\Users\\Anurag Dutta\\AppData\\Local\\Microsoft\\WindowsApps\\PythonSoftwareFoundation.Python.3.9_qbz5n2kfra8p0\\python.exe -m pip install --upgrade pip\n"
     ]
    },
    {
     "name": "stdout",
     "output_type": "stream",
     "text": [
      "\n"
     ]
    }
   ],
   "source": [
    "pip install hampel"
   ]
  },
  {
   "cell_type": "code",
   "execution_count": 2,
   "metadata": {
    "id": "By_d9uXpaFvZ"
   },
   "outputs": [],
   "source": [
    "from keras.models import Sequential\n",
    "from keras.layers import Dense\n",
    "from keras.layers import LSTM\n",
    "from keras.layers import Dropout\n",
    "import keras\n",
    "import tensorflow as tf\n",
    "from hampel import hampel\n",
    "import numpy as np\n",
    "import matplotlib.pyplot as plt\n",
    "import pandas as pd\n",
    "from sklearn.preprocessing import MinMaxScaler\n",
    "from sklearn.metrics import mean_squared_error, mean_absolute_error\n",
    "from math import sqrt\n",
    "from matplotlib import pyplot\n",
    "from numpy import array"
   ]
  },
  {
   "cell_type": "markdown",
   "metadata": {
    "id": "JyOjBMFayuoR"
   },
   "source": [
    "## Pretraining"
   ]
  },
  {
   "cell_type": "markdown",
   "metadata": {
    "id": "-5QqIY_GyuoR"
   },
   "source": [
    "The `capa_intermittency.dat` feeds the model with the dynamics of the Capacitor"
   ]
  },
  {
   "cell_type": "code",
   "execution_count": 3,
   "metadata": {
    "id": "9dV4a8yfyuoR"
   },
   "outputs": [],
   "source": [
    "data = np.genfromtxt('capa_intermittency.dat')\n",
    "training_set = pd.DataFrame(data).reset_index(drop=True)\n",
    "training_set = training_set.iloc[:,0]"
   ]
  },
  {
   "cell_type": "markdown",
   "metadata": {
    "id": "i7easoxByuoR"
   },
   "source": [
    "## Computing the Gradient"
   ]
  },
  {
   "cell_type": "markdown",
   "metadata": {
    "id": "5SnyolJTyuoR"
   },
   "source": [
    "_Calculating the value of_ $\\frac{dx}{dt}$"
   ]
  },
  {
   "cell_type": "code",
   "execution_count": 4,
   "metadata": {
    "colab": {
     "base_uri": "https://localhost:8080/"
    },
    "id": "wmIbVfIvyuoR",
    "outputId": "aa4e3136-c854-465d-d2e9-81cfd546e440"
   },
   "outputs": [
    {
     "name": "stdout",
     "output_type": "stream",
     "text": [
      "1.0\n",
      "1        0.000298\n",
      "2        0.000298\n",
      "3        0.000297\n",
      "4        0.000297\n",
      "5        0.000297\n",
      "           ...   \n",
      "9996     0.000018\n",
      "9997     0.000018\n",
      "9998     0.000018\n",
      "9999     0.000018\n",
      "10000    0.000018\n",
      "Name: 0, Length: 10000, dtype: float64\n"
     ]
    }
   ],
   "source": [
    "t_diff = 1\n",
    "print(training_set.max())\n",
    "gradient_t = (training_set.diff()/t_diff).iloc[1:] # dx/dt\n",
    "print(gradient_t)"
   ]
  },
  {
   "cell_type": "markdown",
   "metadata": {
    "id": "_2eVeeoxyuoS"
   },
   "source": [
    "## Loading Datasets"
   ]
  },
  {
   "cell_type": "code",
   "execution_count": 5,
   "metadata": {
    "id": "0J-NKyIEyuoS"
   },
   "outputs": [
    {
     "data": {
      "text/plain": [
       "0       84.600000\n",
       "1       84.431933\n",
       "2       84.263866\n",
       "3       84.095798\n",
       "4       83.927731\n",
       "          ...    \n",
       "1545    55.243627\n",
       "1546    55.237091\n",
       "1547    55.230556\n",
       "1548    55.224020\n",
       "1549    55.217484\n",
       "Name: C6, Length: 1550, dtype: float64"
      ]
     },
     "execution_count": 5,
     "metadata": {},
     "output_type": "execute_result"
    }
   ],
   "source": [
    "data = pd.read_csv(\"c6_interpolated_1450_100.csv\")\n",
    "training_set = data.iloc[:, 1]\n",
    "training_set"
   ]
  },
  {
   "cell_type": "code",
   "execution_count": 6,
   "metadata": {
    "colab": {
     "base_uri": "https://localhost:8080/"
    },
    "id": "-CbNUhJ74UqF",
    "outputId": "20f562d8-8247-49cc-b9c3-00eca5e13e2d"
   },
   "outputs": [
    {
     "data": {
      "text/plain": [
       "0       84.600000\n",
       "1       84.431933\n",
       "2       84.263866\n",
       "3       84.095798\n",
       "4       83.927731\n",
       "          ...    \n",
       "1445     1.142806\n",
       "1446     0.139092\n",
       "1447     1.005257\n",
       "1448     0.137930\n",
       "1449     0.240039\n",
       "Name: C6, Length: 1450, dtype: float64"
      ]
     },
     "execution_count": 6,
     "metadata": {},
     "output_type": "execute_result"
    }
   ],
   "source": [
    "test = training_set.tail(100)\n",
    "test\n",
    "training_set = training_set.head(1450)\n",
    "training_set"
   ]
  },
  {
   "cell_type": "code",
   "execution_count": 7,
   "metadata": {
    "colab": {
     "base_uri": "https://localhost:8080/"
    },
    "id": "X0TwTcq0yuoS",
    "outputId": "37252ed8-d88e-4044-fa7a-922411990b5b"
   },
   "outputs": [
    {
     "name": "stdout",
     "output_type": "stream",
     "text": [
      "0       0.000298\n",
      "1       0.000298\n",
      "2       0.000297\n",
      "3       0.000297\n",
      "4       0.000297\n",
      "          ...   \n",
      "9995    0.000018\n",
      "9996    0.000018\n",
      "9997    0.000018\n",
      "9998    0.000018\n",
      "9999    0.000018\n",
      "Name: 0, Length: 10000, dtype: float64\n"
     ]
    }
   ],
   "source": [
    "training_set = training_set.reset_index(drop=True)\n",
    "gradient_t = gradient_t.reset_index(drop=True)\n",
    "print(gradient_t)"
   ]
  },
  {
   "cell_type": "code",
   "execution_count": 8,
   "metadata": {
    "id": "O2biznZQyuoS"
   },
   "outputs": [],
   "source": [
    "df = pd.concat((training_set, gradient_t), axis=1)\n",
    "df.columns = ['y_t', 'grad_t']"
   ]
  },
  {
   "cell_type": "code",
   "execution_count": 9,
   "metadata": {
    "colab": {
     "base_uri": "https://localhost:8080/",
     "height": 423
    },
    "id": "sk_a5v3tyuoS",
    "outputId": "17563625-e550-45ae-faab-fafa353e44da"
   },
   "outputs": [
    {
     "data": {
      "text/html": [
       "<div>\n",
       "<style scoped>\n",
       "    .dataframe tbody tr th:only-of-type {\n",
       "        vertical-align: middle;\n",
       "    }\n",
       "\n",
       "    .dataframe tbody tr th {\n",
       "        vertical-align: top;\n",
       "    }\n",
       "\n",
       "    .dataframe thead th {\n",
       "        text-align: right;\n",
       "    }\n",
       "</style>\n",
       "<table border=\"1\" class=\"dataframe\">\n",
       "  <thead>\n",
       "    <tr style=\"text-align: right;\">\n",
       "      <th></th>\n",
       "      <th>y_t</th>\n",
       "      <th>grad_t</th>\n",
       "    </tr>\n",
       "  </thead>\n",
       "  <tbody>\n",
       "    <tr>\n",
       "      <th>0</th>\n",
       "      <td>84.600000</td>\n",
       "      <td>0.000298</td>\n",
       "    </tr>\n",
       "    <tr>\n",
       "      <th>1</th>\n",
       "      <td>84.431933</td>\n",
       "      <td>0.000298</td>\n",
       "    </tr>\n",
       "    <tr>\n",
       "      <th>2</th>\n",
       "      <td>84.263866</td>\n",
       "      <td>0.000297</td>\n",
       "    </tr>\n",
       "    <tr>\n",
       "      <th>3</th>\n",
       "      <td>84.095798</td>\n",
       "      <td>0.000297</td>\n",
       "    </tr>\n",
       "    <tr>\n",
       "      <th>4</th>\n",
       "      <td>83.927731</td>\n",
       "      <td>0.000297</td>\n",
       "    </tr>\n",
       "    <tr>\n",
       "      <th>...</th>\n",
       "      <td>...</td>\n",
       "      <td>...</td>\n",
       "    </tr>\n",
       "    <tr>\n",
       "      <th>9995</th>\n",
       "      <td>NaN</td>\n",
       "      <td>0.000018</td>\n",
       "    </tr>\n",
       "    <tr>\n",
       "      <th>9996</th>\n",
       "      <td>NaN</td>\n",
       "      <td>0.000018</td>\n",
       "    </tr>\n",
       "    <tr>\n",
       "      <th>9997</th>\n",
       "      <td>NaN</td>\n",
       "      <td>0.000018</td>\n",
       "    </tr>\n",
       "    <tr>\n",
       "      <th>9998</th>\n",
       "      <td>NaN</td>\n",
       "      <td>0.000018</td>\n",
       "    </tr>\n",
       "    <tr>\n",
       "      <th>9999</th>\n",
       "      <td>NaN</td>\n",
       "      <td>0.000018</td>\n",
       "    </tr>\n",
       "  </tbody>\n",
       "</table>\n",
       "<p>10000 rows × 2 columns</p>\n",
       "</div>"
      ],
      "text/plain": [
       "            y_t    grad_t\n",
       "0     84.600000  0.000298\n",
       "1     84.431933  0.000298\n",
       "2     84.263866  0.000297\n",
       "3     84.095798  0.000297\n",
       "4     83.927731  0.000297\n",
       "...         ...       ...\n",
       "9995        NaN  0.000018\n",
       "9996        NaN  0.000018\n",
       "9997        NaN  0.000018\n",
       "9998        NaN  0.000018\n",
       "9999        NaN  0.000018\n",
       "\n",
       "[10000 rows x 2 columns]"
      ]
     },
     "execution_count": 9,
     "metadata": {},
     "output_type": "execute_result"
    }
   ],
   "source": [
    "df"
   ]
  },
  {
   "cell_type": "markdown",
   "metadata": {
    "id": "-5esyHu5aFvg"
   },
   "source": [
    "## Plot of the External Forcing from Chaotic Differential Equation"
   ]
  },
  {
   "cell_type": "code",
   "execution_count": 10,
   "metadata": {
    "colab": {
     "base_uri": "https://localhost:8080/",
     "height": 447
    },
    "id": "hGnE43tOh-4p",
    "outputId": "fc396503-b624-4fa5-dfbe-f460207405c6"
   },
   "outputs": [
    {
     "data": {
      "text/plain": [
       "<Axes: >"
      ]
     },
     "execution_count": 10,
     "metadata": {},
     "output_type": "execute_result"
    },
    {
     "data": {
      "image/png": "[encoded data removed]",
      "text/plain": [
       "<Figure size 432x288 with 1 Axes>"
      ]
     },
     "metadata": {
      "needs_background": "light"
     },
     "output_type": "display_data"
    }
   ],
   "source": [
    "df.iloc[:, 0].plot()"
   ]
  },
  {
   "cell_type": "code",
   "execution_count": 11,
   "metadata": {
    "colab": {
     "base_uri": "https://localhost:8080/",
     "height": 447
    },
    "id": "ym4xWUUxaFvg",
    "outputId": "ae6a3495-8ce9-437e-ba81-3ed31deedeae"
   },
   "outputs": [
    {
     "name": "stderr",
     "output_type": "stream",
     "text": [
      "C:\\Users\\Anurag Dutta\\AppData\\Local\\Packages\\PythonSoftwareFoundation.Python.3.9_qbz5n2kfra8p0\\LocalCache\\local-packages\\Python39\\site-packages\\pandas\\core\\arraylike.py:402: RuntimeWarning: divide by zero encountered in log\n",
      "  result = getattr(ufunc, method)(*inputs, **kwargs)\n"
     ]
    },
    {
     "data": {
      "text/plain": [
       "<Axes: >"
      ]
     },
     "execution_count": 11,
     "metadata": {},
     "output_type": "execute_result"
    },
    {
     "data": {
      "image/png": "[encoded data removed]",
      "text/plain": [
       "<Figure size 432x288 with 1 Axes>"
      ]
     },
     "metadata": {
      "needs_background": "light"
     },
     "output_type": "display_data"
    }
   ],
   "source": [
    "import numpy as np\n",
    "c0 = 82.7524  # Value for C0\n",
    "K0 = -0.0031  # Value for K0\n",
    "K1 = -0.0003  # Value for K1\n",
    "a = 0.0000    # Value for a\n",
    "b = 0.0171    # Value for b\n",
    "c = 3.0230    # Value for c\n",
    "\n",
    "L = np.minimum(c0, (df.iloc[:, 1] - (df.iloc[:, 0] * (K0 - K1 * (9 * a * np.log(df.iloc[:, 0] / c0) / (K0 - K1 * c)**2 + 4 * b * np.log(df.iloc[:, 0] / c0) / (K0 - K1 * c) + c)))))\n",
    "L.plot()"
   ]
  },
  {
   "cell_type": "markdown",
   "metadata": {
    "id": "9VyEywnwaFvh"
   },
   "source": [
    "## Preprocessing the data into supervised learning"
   ]
  },
  {
   "cell_type": "code",
   "execution_count": 12,
   "metadata": {
    "id": "6V9dXqzdaFvh"
   },
   "outputs": [],
   "source": [
    "# split a sequence into samples\n",
    "def Supervised(data, n_in=1, n_out=1, dropnan=True):\n",
    "    n_vars = 1 if type(data) is list else data.shape[1]\n",
    "    df = pd.DataFrame(data)\n",
    "    cols, names = list(), list()\n",
    "    # input sequence (t-n_in, ... t-1)\n",
    "    for i in range(n_in, 0, -1):\n",
    "        cols.append(df.shift(i))\n",
    "        names += [('var%d(t-%d)' % (j+1, i)) for j in range(n_vars)]\n",
    "    # forecast sequence (t, t+1, ... t+n_out)\n",
    "    for i in range(0, n_out):\n",
    "      cols.append(df.shift(-i))\n",
    "      if i == 0:\n",
    "        names += [('var%d(t)' % (j+1)) for j in range(n_vars)]\n",
    "      else:\n",
    "        names += [('var%d(t+%d)' % (j+1, i)) for j in range(n_vars)]\n",
    "    # put it all together\n",
    "    agg = pd.concat(cols, axis=1)\n",
    "    agg.columns = names\n",
    "    # drop rows with NaN values\n",
    "    if dropnan:\n",
    "       agg.dropna(inplace=True)\n",
    "    return agg"
   ]
  },
  {
   "cell_type": "code",
   "execution_count": 13,
   "metadata": {
    "colab": {
     "base_uri": "https://localhost:8080/"
    },
    "id": "CrzSrT1HnyfH",
    "outputId": "7e75f928-3e47-499d-eac1-51908015ef78"
   },
   "outputs": [
    {
     "name": "stdout",
     "output_type": "stream",
     "text": [
      "     var1(t-350)  var1(t-349)  var1(t-348)  var1(t-347)  var1(t-346)  \\\n",
      "350    84.600000    84.431933    84.263866    84.095798    83.927731   \n",
      "351    84.431933    84.263866    84.095798    83.927731    83.759664   \n",
      "352    84.263866    84.095798    83.927731    83.759664    83.591597   \n",
      "353    84.095798    83.927731    83.759664    83.591597    83.423529   \n",
      "354    83.927731    83.759664    83.591597    83.423529    83.255462   \n",
      "\n",
      "     var1(t-345)  var1(t-344)  var1(t-343)  var1(t-342)  var1(t-341)  ...  \\\n",
      "350    83.759664    83.591597    83.423529    83.255462    83.092437  ...   \n",
      "351    83.591597    83.423529    83.255462    83.092437    82.991597  ...   \n",
      "352    83.423529    83.255462    83.092437    82.991597    82.890756  ...   \n",
      "353    83.255462    83.092437    82.991597    82.890756    82.789916  ...   \n",
      "354    83.092437    82.991597    82.890756    82.789916    82.689076  ...   \n",
      "\n",
      "     var1(t+95)  var2(t+95)  var1(t+96)  var2(t+96)  var1(t+97)  var2(t+97)  \\\n",
      "350   70.003688    0.000263   69.960738    0.000263   69.917787    0.000263   \n",
      "351   69.960738    0.000263   69.917787    0.000263   69.874837    0.000262   \n",
      "352   69.917787    0.000263   69.874837    0.000262   69.831886    0.000262   \n",
      "353   69.874837    0.000262   69.831886    0.000262   69.788936    0.000262   \n",
      "354   69.831886    0.000262   69.788936    0.000262   69.745985    0.000262   \n",
      "\n",
      "     var1(t+98)  var2(t+98)  var1(t+99)  var2(t+99)  \n",
      "350   69.874837    0.000262   69.831886    0.000262  \n",
      "351   69.831886    0.000262   69.788936    0.000262  \n",
      "352   69.788936    0.000262   69.745985    0.000262  \n",
      "353   69.745985    0.000262   69.703035    0.000262  \n",
      "354   69.703035    0.000262   69.660084    0.000262  \n",
      "\n",
      "[5 rows x 551 columns]\n",
      "Index(['var1(t-350)', 'var1(t-349)', 'var1(t-348)', 'var1(t-347)',\n",
      "       'var1(t-346)', 'var1(t-345)', 'var1(t-344)', 'var1(t-343)',\n",
      "       'var1(t-342)', 'var1(t-341)',\n",
      "       ...\n",
      "       'var1(t+95)', 'var2(t+95)', 'var1(t+96)', 'var2(t+96)', 'var1(t+97)',\n",
      "       'var2(t+97)', 'var1(t+98)', 'var2(t+98)', 'var1(t+99)', 'var2(t+99)'],\n",
      "      dtype='object', length=551)\n"
     ]
    }
   ],
   "source": [
    "data = Supervised(df.values, n_in = 350, n_out = 100)\n",
    "\n",
    "\n",
    "cols_to_drop = []\n",
    "for i in range(2, 351):\n",
    "    cols_to_drop.extend([f'var2(t-{i})'])\n",
    "\n",
    "data.drop(cols_to_drop, axis=1, inplace=True)\n",
    "\n",
    "print(data.head())\n",
    "print(data.columns)"
   ]
  },
  {
   "cell_type": "code",
   "execution_count": 14,
   "metadata": {
    "id": "AfPf60oy6Pe4"
   },
   "outputs": [],
   "source": [
    "train = np.array(data[0:len(data)-1])\n",
    "forecast = np.array(data.tail(1))"
   ]
  },
  {
   "cell_type": "code",
   "execution_count": 15,
   "metadata": {
    "id": "WSAafzI37KiT"
   },
   "outputs": [],
   "source": [
    "trainy = train[:,-300:]\n",
    "trainX = train[:,:-300]"
   ]
  },
  {
   "cell_type": "code",
   "execution_count": 16,
   "metadata": {
    "id": "2SrOqVJA7f50"
   },
   "outputs": [],
   "source": [
    "forecasty = forecast[:,-300:]\n",
    "forecastX = forecast[:,:-300]"
   ]
  },
  {
   "cell_type": "code",
   "execution_count": 17,
   "metadata": {
    "colab": {
     "base_uri": "https://localhost:8080/"
    },
    "id": "Qno_k8Nw7saY",
    "outputId": "c4a88db5-d8c6-489f-cdb2-06b24e293cff"
   },
   "outputs": [
    {
     "name": "stdout",
     "output_type": "stream",
     "text": [
      "(1000, 1, 251) (1000, 300) (1, 1, 251)\n"
     ]
    }
   ],
   "source": [
    "trainX = trainX.reshape((trainX.shape[0], 1, trainX.shape[1]))\n",
    "forecastX = forecastX.reshape((forecastX.shape[0], 1, forecastX.shape[1]))\n",
    "print(trainX.shape, trainy.shape, forecastX.shape)"
   ]
  },
  {
   "cell_type": "code",
   "execution_count": 18,
   "metadata": {
    "colab": {
     "base_uri": "https://localhost:8080/"
    },
    "id": "b1Jp2DvNuNFx",
    "outputId": "d0e5b3c4-64f1-438c-eade-8dfeaac8e285"
   },
   "outputs": [
    {
     "name": "stdout",
     "output_type": "stream",
     "text": [
      "Epoch 1/500\n",
      "13/13 [==============================] - 2s 36ms/step - loss: 4178.1553 - val_loss: 3154.3247\n",
      "Epoch 2/500\n",
      "13/13 [==============================] - 0s 5ms/step - loss: 4115.5337 - val_loss: 3121.0549\n",
      "Epoch 3/500\n",
      "13/13 [==============================] - 0s 5ms/step - loss: 4077.3713 - val_loss: 3087.6313\n",
      "Epoch 4/500\n",
      "13/13 [==============================] - 0s 5ms/step - loss: 4029.8860 - val_loss: 3031.0925\n",
      "Epoch 5/500\n",
      "13/13 [==============================] - 0s 4ms/step - loss: 3972.6660 - val_loss: 2981.1387\n",
      "Epoch 6/500\n",
      "13/13 [==============================] - 0s 5ms/step - loss: 3915.4038 - val_loss: 2943.8701\n",
      "Epoch 7/500\n",
      "13/13 [==============================] - 0s 5ms/step - loss: 3872.7903 - val_loss: 2907.0012\n",
      "Epoch 8/500\n",
      "13/13 [==============================] - 0s 5ms/step - loss: 3830.8027 - val_loss: 2870.7812\n",
      "Epoch 9/500\n",
      "13/13 [==============================] - 0s 5ms/step - loss: 3789.4966 - val_loss: 2835.1394\n",
      "Epoch 10/500\n",
      "13/13 [==============================] - 0s 4ms/step - loss: 3748.7827 - val_loss: 2799.9988\n",
      "Epoch 11/500\n",
      "13/13 [==============================] - 0s 6ms/step - loss: 3708.5835 - val_loss: 2765.3044\n",
      "Epoch 12/500\n",
      "13/13 [==============================] - 0s 4ms/step - loss: 3668.8447 - val_loss: 2731.0186\n",
      "Epoch 13/500\n",
      "13/13 [==============================] - 0s 4ms/step - loss: 3629.5293 - val_loss: 2697.1138\n",
      "Epoch 14/500\n",
      "13/13 [==============================] - 0s 4ms/step - loss: 3590.6128 - val_loss: 2663.5723\n",
      "Epoch 15/500\n",
      "13/13 [==============================] - 0s 5ms/step - loss: 3552.0745 - val_loss: 2630.3782\n",
      "Epoch 16/500\n",
      "13/13 [==============================] - 0s 5ms/step - loss: 3513.8994 - val_loss: 2597.5208\n",
      "Epoch 17/500\n",
      "13/13 [==============================] - 0s 4ms/step - loss: 3476.0767 - val_loss: 2564.9907\n",
      "Epoch 18/500\n",
      "13/13 [==============================] - 0s 4ms/step - loss: 3438.5969 - val_loss: 2532.7810\n",
      "Epoch 19/500\n",
      "13/13 [==============================] - 0s 6ms/step - loss: 3401.4519 - val_loss: 2500.8845\n",
      "Epoch 20/500\n",
      "13/13 [==============================] - 0s 5ms/step - loss: 3364.6357 - val_loss: 2469.2959\n",
      "Epoch 21/500\n",
      "13/13 [==============================] - 0s 5ms/step - loss: 3328.1416 - val_loss: 2438.0107\n",
      "Epoch 22/500\n",
      "13/13 [==============================] - 0s 8ms/step - loss: 3291.9653 - val_loss: 2407.0242\n",
      "Epoch 23/500\n",
      "13/13 [==============================] - 0s 4ms/step - loss: 3256.1023 - val_loss: 2376.3330\n",
      "Epoch 24/500\n",
      "13/13 [==============================] - 0s 4ms/step - loss: 3220.5481 - val_loss: 2345.9326\n",
      "Epoch 25/500\n",
      "13/13 [==============================] - 0s 5ms/step - loss: 3185.2991 - val_loss: 2302.3752\n",
      "Epoch 26/500\n",
      "13/13 [==============================] - 0s 5ms/step - loss: 3133.4697 - val_loss: 2269.8167\n",
      "Epoch 27/500\n",
      "13/13 [==============================] - 0s 4ms/step - loss: 3095.3418 - val_loss: 2237.3494\n",
      "Epoch 28/500\n",
      "13/13 [==============================] - 0s 4ms/step - loss: 3057.7668 - val_loss: 2205.5928\n",
      "Epoch 29/500\n",
      "13/13 [==============================] - 0s 4ms/step - loss: 3020.9612 - val_loss: 2174.4773\n",
      "Epoch 30/500\n",
      "13/13 [==============================] - 0s 12ms/step - loss: 2984.8184 - val_loss: 2143.9077\n",
      "Epoch 31/500\n",
      "13/13 [==============================] - 0s 5ms/step - loss: 2949.2407 - val_loss: 2113.8145\n",
      "Epoch 32/500\n",
      "13/13 [==============================] - 0s 5ms/step - loss: 2914.1594 - val_loss: 2075.1826\n",
      "Epoch 33/500\n",
      "13/13 [==============================] - 0s 4ms/step - loss: 2867.7056 - val_loss: 2043.0178\n",
      "Epoch 34/500\n",
      "13/13 [==============================] - 0s 4ms/step - loss: 2829.7815 - val_loss: 2011.0327\n",
      "Epoch 35/500\n",
      "13/13 [==============================] - 0s 4ms/step - loss: 2792.5334 - val_loss: 1979.8656\n",
      "Epoch 36/500\n",
      "13/13 [==============================] - 0s 5ms/step - loss: 2756.1741 - val_loss: 1949.4318\n",
      "Epoch 37/500\n",
      "13/13 [==============================] - 0s 4ms/step - loss: 2720.5791 - val_loss: 1919.6189\n",
      "Epoch 38/500\n",
      "13/13 [==============================] - 0s 5ms/step - loss: 2685.6321 - val_loss: 1890.3470\n",
      "Epoch 39/500\n",
      "13/13 [==============================] - 0s 5ms/step - loss: 2651.2537 - val_loss: 1861.5587\n",
      "Epoch 40/500\n",
      "13/13 [==============================] - 0s 5ms/step - loss: 2617.3865 - val_loss: 1833.2158\n",
      "Epoch 41/500\n",
      "13/13 [==============================] - 0s 4ms/step - loss: 2583.9907 - val_loss: 1805.2878\n",
      "Epoch 42/500\n",
      "13/13 [==============================] - 0s 6ms/step - loss: 2551.0359 - val_loss: 1777.7528\n",
      "Epoch 43/500\n",
      "13/13 [==============================] - 0s 5ms/step - loss: 2518.4976 - val_loss: 1750.5920\n",
      "Epoch 44/500\n",
      "13/13 [==============================] - 0s 4ms/step - loss: 2486.3577 - val_loss: 1723.7913\n",
      "Epoch 45/500\n",
      "13/13 [==============================] - 0s 5ms/step - loss: 2454.6011 - val_loss: 1697.3387\n",
      "Epoch 46/500\n",
      "13/13 [==============================] - 0s 4ms/step - loss: 2423.2141 - val_loss: 1671.2238\n",
      "Epoch 47/500\n",
      "13/13 [==============================] - 0s 5ms/step - loss: 2392.1863 - val_loss: 1645.4370\n",
      "Epoch 48/500\n",
      "13/13 [==============================] - 0s 5ms/step - loss: 2361.5076 - val_loss: 1619.9705\n",
      "Epoch 49/500\n",
      "13/13 [==============================] - 0s 4ms/step - loss: 2331.1694 - val_loss: 1594.8174\n",
      "Epoch 50/500\n",
      "13/13 [==============================] - 0s 4ms/step - loss: 2301.1648 - val_loss: 1569.9720\n",
      "Epoch 51/500\n",
      "13/13 [==============================] - 0s 5ms/step - loss: 2271.4868 - val_loss: 1545.4272\n",
      "Epoch 52/500\n",
      "13/13 [==============================] - 0s 5ms/step - loss: 2234.0771 - val_loss: 1508.1500\n",
      "Epoch 53/500\n",
      "13/13 [==============================] - 0s 5ms/step - loss: 2195.6960 - val_loss: 1480.9058\n",
      "Epoch 54/500\n",
      "13/13 [==============================] - 0s 5ms/step - loss: 2163.1826 - val_loss: 1454.4165\n",
      "Epoch 55/500\n",
      "13/13 [==============================] - 0s 5ms/step - loss: 2131.5674 - val_loss: 1428.6836\n",
      "Epoch 56/500\n",
      "13/13 [==============================] - 0s 5ms/step - loss: 2100.7566 - val_loss: 1403.5861\n",
      "Epoch 57/500\n",
      "13/13 [==============================] - 0s 5ms/step - loss: 2070.6165 - val_loss: 1379.0294\n",
      "Epoch 58/500\n",
      "13/13 [==============================] - 0s 4ms/step - loss: 2041.0508 - val_loss: 1354.9489\n",
      "Epoch 59/500\n",
      "13/13 [==============================] - 0s 4ms/step - loss: 2011.9939 - val_loss: 1331.3003\n",
      "Epoch 60/500\n",
      "13/13 [==============================] - 0s 4ms/step - loss: 1983.4005 - val_loss: 1308.0518\n",
      "Epoch 61/500\n",
      "13/13 [==============================] - 0s 4ms/step - loss: 1955.2367 - val_loss: 1285.1793\n",
      "Epoch 62/500\n",
      "13/13 [==============================] - 0s 4ms/step - loss: 1927.4771 - val_loss: 1262.6644\n",
      "Epoch 63/500\n",
      "13/13 [==============================] - 0s 4ms/step - loss: 1900.1019 - val_loss: 1240.4913\n",
      "Epoch 64/500\n",
      "13/13 [==============================] - 0s 4ms/step - loss: 1873.0948 - val_loss: 1218.6479\n",
      "Epoch 65/500\n",
      "13/13 [==============================] - 0s 5ms/step - loss: 1846.4430 - val_loss: 1197.1243\n",
      "Epoch 66/500\n",
      "13/13 [==============================] - 0s 11ms/step - loss: 1820.1346 - val_loss: 1175.9104\n",
      "Epoch 67/500\n",
      "13/13 [==============================] - 0s 5ms/step - loss: 1794.1594 - val_loss: 1154.9985\n",
      "Epoch 68/500\n",
      "13/13 [==============================] - 0s 5ms/step - loss: 1768.5093 - val_loss: 1134.3816\n",
      "Epoch 69/500\n",
      "13/13 [==============================] - 0s 5ms/step - loss: 1743.1768 - val_loss: 1114.0538\n",
      "Epoch 70/500\n",
      "13/13 [==============================] - 0s 5ms/step - loss: 1718.1542 - val_loss: 1094.0088\n",
      "Epoch 71/500\n",
      "13/13 [==============================] - 0s 5ms/step - loss: 1693.4365 - val_loss: 1074.2416\n",
      "Epoch 72/500\n",
      "13/13 [==============================] - 0s 4ms/step - loss: 1669.0171 - val_loss: 1054.7468\n",
      "Epoch 73/500\n",
      "13/13 [==============================] - 0s 4ms/step - loss: 1644.8910 - val_loss: 1035.5206\n",
      "Epoch 74/500\n",
      "13/13 [==============================] - 0s 4ms/step - loss: 1621.0532 - val_loss: 1016.5588\n",
      "Epoch 75/500\n",
      "13/13 [==============================] - 0s 5ms/step - loss: 1597.5000 - val_loss: 997.8566\n",
      "Epoch 76/500\n",
      "13/13 [==============================] - 0s 7ms/step - loss: 1574.2262 - val_loss: 979.4112\n",
      "Epoch 77/500\n",
      "13/13 [==============================] - 0s 7ms/step - loss: 1551.2283 - val_loss: 961.2180\n",
      "Epoch 78/500\n",
      "13/13 [==============================] - 0s 5ms/step - loss: 1528.5022 - val_loss: 943.2752\n",
      "Epoch 79/500\n",
      "13/13 [==============================] - 0s 5ms/step - loss: 1506.0444 - val_loss: 925.5784\n",
      "Epoch 80/500\n",
      "13/13 [==============================] - 0s 5ms/step - loss: 1483.8519 - val_loss: 908.1244\n",
      "Epoch 81/500\n",
      "13/13 [==============================] - 0s 5ms/step - loss: 1461.9213 - val_loss: 890.9110\n",
      "Epoch 82/500\n",
      "13/13 [==============================] - 0s 5ms/step - loss: 1440.2488 - val_loss: 873.9342\n",
      "Epoch 83/500\n",
      "13/13 [==============================] - 0s 5ms/step - loss: 1418.8319 - val_loss: 857.1926\n",
      "Epoch 84/500\n",
      "13/13 [==============================] - 0s 4ms/step - loss: 1397.6676 - val_loss: 840.6825\n",
      "Epoch 85/500\n",
      "13/13 [==============================] - 0s 4ms/step - loss: 1376.7534 - val_loss: 824.4019\n",
      "Epoch 86/500\n",
      "13/13 [==============================] - 0s 6ms/step - loss: 1356.0864 - val_loss: 808.3480\n",
      "Epoch 87/500\n",
      "13/13 [==============================] - 0s 8ms/step - loss: 1335.6636 - val_loss: 792.5185\n",
      "Epoch 88/500\n",
      "13/13 [==============================] - 0s 5ms/step - loss: 1315.4829 - val_loss: 776.9105\n",
      "Epoch 89/500\n",
      "13/13 [==============================] - 0s 5ms/step - loss: 1295.5417 - val_loss: 761.5222\n",
      "Epoch 90/500\n",
      "13/13 [==============================] - 0s 5ms/step - loss: 1275.8375 - val_loss: 746.3513\n",
      "Epoch 91/500\n",
      "13/13 [==============================] - 0s 5ms/step - loss: 1256.3682 - val_loss: 731.3950\n",
      "Epoch 92/500\n",
      "13/13 [==============================] - 0s 5ms/step - loss: 1237.1309 - val_loss: 716.6519\n",
      "Epoch 93/500\n",
      "13/13 [==============================] - 0s 5ms/step - loss: 1218.1238 - val_loss: 702.1191\n",
      "Epoch 94/500\n",
      "13/13 [==============================] - 0s 5ms/step - loss: 1199.3442 - val_loss: 687.7952\n",
      "Epoch 95/500\n",
      "13/13 [==============================] - 0s 5ms/step - loss: 1180.7908 - val_loss: 673.6775\n",
      "Epoch 96/500\n",
      "13/13 [==============================] - 0s 5ms/step - loss: 1162.4604 - val_loss: 659.7639\n",
      "Epoch 97/500\n",
      "13/13 [==============================] - 0s 12ms/step - loss: 1144.3517 - val_loss: 646.0533\n",
      "Epoch 98/500\n",
      "13/13 [==============================] - 0s 5ms/step - loss: 1126.4625 - val_loss: 632.5430\n",
      "Epoch 99/500\n",
      "13/13 [==============================] - 0s 5ms/step - loss: 1108.7909 - val_loss: 619.2310\n",
      "Epoch 100/500\n",
      "13/13 [==============================] - 0s 5ms/step - loss: 1091.3344 - val_loss: 606.1153\n",
      "Epoch 101/500\n",
      "13/13 [==============================] - 0s 5ms/step - loss: 1074.0907 - val_loss: 593.1943\n",
      "Epoch 102/500\n",
      "13/13 [==============================] - 0s 4ms/step - loss: 1057.0591 - val_loss: 580.4662\n",
      "Epoch 103/500\n",
      "13/13 [==============================] - 0s 4ms/step - loss: 1040.2369 - val_loss: 567.9285\n",
      "Epoch 104/500\n",
      "13/13 [==============================] - 0s 4ms/step - loss: 1023.6223 - val_loss: 555.5801\n",
      "Epoch 105/500\n",
      "13/13 [==============================] - 0s 4ms/step - loss: 1007.2137 - val_loss: 543.4186\n",
      "Epoch 106/500\n",
      "13/13 [==============================] - 0s 6ms/step - loss: 991.0086 - val_loss: 531.4430\n",
      "Epoch 107/500\n",
      "13/13 [==============================] - 0s 6ms/step - loss: 975.0062 - val_loss: 519.6508\n",
      "Epoch 108/500\n",
      "13/13 [==============================] - 0s 5ms/step - loss: 959.2039 - val_loss: 508.0402\n",
      "Epoch 109/500\n",
      "13/13 [==============================] - 0s 6ms/step - loss: 943.6002 - val_loss: 496.6104\n",
      "Epoch 110/500\n",
      "13/13 [==============================] - 0s 5ms/step - loss: 928.1933 - val_loss: 485.3582\n",
      "Epoch 111/500\n",
      "13/13 [==============================] - 0s 5ms/step - loss: 912.9814 - val_loss: 474.2833\n",
      "Epoch 112/500\n",
      "13/13 [==============================] - 0s 5ms/step - loss: 897.9626 - val_loss: 463.3829\n",
      "Epoch 113/500\n",
      "13/13 [==============================] - 0s 6ms/step - loss: 883.1356 - val_loss: 452.6559\n",
      "Epoch 114/500\n",
      "13/13 [==============================] - 0s 5ms/step - loss: 868.4986 - val_loss: 442.1003\n",
      "Epoch 115/500\n",
      "13/13 [==============================] - 0s 5ms/step - loss: 854.0497 - val_loss: 431.7150\n",
      "Epoch 116/500\n",
      "13/13 [==============================] - 0s 5ms/step - loss: 839.7874 - val_loss: 421.4977\n",
      "Epoch 117/500\n",
      "13/13 [==============================] - 0s 5ms/step - loss: 825.7102 - val_loss: 411.4471\n",
      "Epoch 118/500\n",
      "13/13 [==============================] - 0s 7ms/step - loss: 811.8161 - val_loss: 401.5615\n",
      "Epoch 119/500\n",
      "13/13 [==============================] - 0s 5ms/step - loss: 798.1038 - val_loss: 391.8396\n",
      "Epoch 120/500\n",
      "13/13 [==============================] - 0s 5ms/step - loss: 784.5715 - val_loss: 382.2792\n",
      "Epoch 121/500\n",
      "13/13 [==============================] - 0s 5ms/step - loss: 771.2177 - val_loss: 372.8790\n",
      "Epoch 122/500\n",
      "13/13 [==============================] - 0s 5ms/step - loss: 758.0407 - val_loss: 363.6377\n",
      "Epoch 123/500\n",
      "13/13 [==============================] - 0s 5ms/step - loss: 745.0390 - val_loss: 354.5530\n",
      "Epoch 124/500\n",
      "13/13 [==============================] - 0s 7ms/step - loss: 732.2110 - val_loss: 345.6242\n",
      "Epoch 125/500\n",
      "13/13 [==============================] - 0s 5ms/step - loss: 719.5552 - val_loss: 336.8488\n",
      "Epoch 126/500\n",
      "13/13 [==============================] - 0s 5ms/step - loss: 707.0698 - val_loss: 328.2268\n",
      "Epoch 127/500\n",
      "13/13 [==============================] - 0s 7ms/step - loss: 694.7537 - val_loss: 319.7550\n",
      "Epoch 128/500\n",
      "13/13 [==============================] - 0s 8ms/step - loss: 682.6052 - val_loss: 311.4323\n",
      "Epoch 129/500\n",
      "13/13 [==============================] - 0s 12ms/step - loss: 670.6226 - val_loss: 303.2579\n",
      "Epoch 130/500\n",
      "13/13 [==============================] - 0s 5ms/step - loss: 658.8045 - val_loss: 295.2295\n",
      "Epoch 131/500\n",
      "13/13 [==============================] - 0s 5ms/step - loss: 647.1497 - val_loss: 287.3459\n",
      "Epoch 132/500\n",
      "13/13 [==============================] - 0s 5ms/step - loss: 635.6564 - val_loss: 279.6063\n",
      "Epoch 133/500\n",
      "13/13 [==============================] - 0s 8ms/step - loss: 624.3232 - val_loss: 272.0076\n",
      "Epoch 134/500\n",
      "13/13 [==============================] - 0s 7ms/step - loss: 613.1483 - val_loss: 264.5496\n",
      "Epoch 135/500\n",
      "13/13 [==============================] - 0s 5ms/step - loss: 602.1306 - val_loss: 257.2305\n",
      "Epoch 136/500\n",
      "13/13 [==============================] - 0s 5ms/step - loss: 591.2689 - val_loss: 250.0492\n",
      "Epoch 137/500\n",
      "13/13 [==============================] - 0s 6ms/step - loss: 580.5612 - val_loss: 243.0034\n",
      "Epoch 138/500\n",
      "13/13 [==============================] - 0s 6ms/step - loss: 570.0062 - val_loss: 236.0923\n",
      "Epoch 139/500\n",
      "13/13 [==============================] - 0s 5ms/step - loss: 559.6029 - val_loss: 229.3137\n",
      "Epoch 140/500\n",
      "13/13 [==============================] - 0s 5ms/step - loss: 549.3492 - val_loss: 222.6675\n",
      "Epoch 141/500\n",
      "13/13 [==============================] - 0s 5ms/step - loss: 539.2443 - val_loss: 216.1514\n",
      "Epoch 142/500\n",
      "13/13 [==============================] - 0s 5ms/step - loss: 529.2864 - val_loss: 209.7640\n",
      "Epoch 143/500\n",
      "13/13 [==============================] - 0s 7ms/step - loss: 519.4747 - val_loss: 203.5040\n",
      "Epoch 144/500\n",
      "13/13 [==============================] - 0s 7ms/step - loss: 509.8066 - val_loss: 197.3698\n",
      "Epoch 145/500\n",
      "13/13 [==============================] - 0s 5ms/step - loss: 500.2816 - val_loss: 191.3598\n",
      "Epoch 146/500\n",
      "13/13 [==============================] - 0s 5ms/step - loss: 490.8983 - val_loss: 185.4734\n",
      "Epoch 147/500\n",
      "13/13 [==============================] - 0s 7ms/step - loss: 481.6549 - val_loss: 179.7087\n",
      "Epoch 148/500\n",
      "13/13 [==============================] - 0s 5ms/step - loss: 472.5504 - val_loss: 174.0644\n",
      "Epoch 149/500\n",
      "13/13 [==============================] - 0s 5ms/step - loss: 463.5833 - val_loss: 168.5390\n",
      "Epoch 150/500\n",
      "13/13 [==============================] - 0s 5ms/step - loss: 454.7525 - val_loss: 163.1313\n",
      "Epoch 151/500\n",
      "13/13 [==============================] - 0s 7ms/step - loss: 446.0562 - val_loss: 157.8398\n",
      "Epoch 152/500\n",
      "13/13 [==============================] - 0s 6ms/step - loss: 437.4933 - val_loss: 152.6631\n",
      "Epoch 153/500\n",
      "13/13 [==============================] - 0s 9ms/step - loss: 429.0625 - val_loss: 147.5998\n",
      "Epoch 154/500\n",
      "13/13 [==============================] - 0s 7ms/step - loss: 420.7623 - val_loss: 142.6490\n",
      "Epoch 155/500\n",
      "13/13 [==============================] - 0s 5ms/step - loss: 412.5915 - val_loss: 137.8088\n",
      "Epoch 156/500\n",
      "13/13 [==============================] - 0s 5ms/step - loss: 404.5487 - val_loss: 133.0783\n",
      "Epoch 157/500\n",
      "13/13 [==============================] - 0s 5ms/step - loss: 396.6328 - val_loss: 128.4558\n",
      "Epoch 158/500\n",
      "13/13 [==============================] - 0s 5ms/step - loss: 388.8424 - val_loss: 123.9398\n",
      "Epoch 159/500\n",
      "13/13 [==============================] - 0s 10ms/step - loss: 381.1759 - val_loss: 119.5301\n",
      "Epoch 160/500\n",
      "13/13 [==============================] - 0s 5ms/step - loss: 373.6322 - val_loss: 115.2239\n",
      "Epoch 161/500\n",
      "13/13 [==============================] - 0s 5ms/step - loss: 366.2102 - val_loss: 111.0207\n",
      "Epoch 162/500\n",
      "13/13 [==============================] - 0s 5ms/step - loss: 358.9084 - val_loss: 106.9190\n",
      "Epoch 163/500\n",
      "13/13 [==============================] - 0s 5ms/step - loss: 351.7253 - val_loss: 102.9179\n",
      "Epoch 164/500\n",
      "13/13 [==============================] - 0s 5ms/step - loss: 344.6601 - val_loss: 99.0153\n",
      "Epoch 165/500\n",
      "13/13 [==============================] - 0s 5ms/step - loss: 337.7111 - val_loss: 95.2105\n",
      "Epoch 166/500\n",
      "13/13 [==============================] - 0s 6ms/step - loss: 330.8775 - val_loss: 91.5021\n",
      "Epoch 167/500\n",
      "13/13 [==============================] - 0s 7ms/step - loss: 324.1576 - val_loss: 87.8889\n",
      "Epoch 168/500\n",
      "13/13 [==============================] - 0s 5ms/step - loss: 317.5503 - val_loss: 84.3695\n",
      "Epoch 169/500\n",
      "13/13 [==============================] - 0s 5ms/step - loss: 311.0544 - val_loss: 80.9426\n",
      "Epoch 170/500\n",
      "13/13 [==============================] - 0s 5ms/step - loss: 304.6685 - val_loss: 77.6068\n",
      "Epoch 171/500\n",
      "13/13 [==============================] - 0s 5ms/step - loss: 298.3916 - val_loss: 74.3612\n",
      "Epoch 172/500\n",
      "13/13 [==============================] - 0s 5ms/step - loss: 292.2224 - val_loss: 71.2044\n",
      "Epoch 173/500\n",
      "13/13 [==============================] - 0s 4ms/step - loss: 286.1595 - val_loss: 68.1350\n",
      "Epoch 174/500\n",
      "13/13 [==============================] - 0s 5ms/step - loss: 280.2018 - val_loss: 65.1518\n",
      "Epoch 175/500\n",
      "13/13 [==============================] - 0s 5ms/step - loss: 274.3481 - val_loss: 62.2540\n",
      "Epoch 176/500\n",
      "13/13 [==============================] - 0s 5ms/step - loss: 268.5973 - val_loss: 59.4398\n",
      "Epoch 177/500\n",
      "13/13 [==============================] - 0s 5ms/step - loss: 262.9481 - val_loss: 56.7081\n",
      "Epoch 178/500\n",
      "13/13 [==============================] - 0s 5ms/step - loss: 257.3990 - val_loss: 54.0579\n",
      "Epoch 179/500\n",
      "13/13 [==============================] - 0s 5ms/step - loss: 251.9491 - val_loss: 51.4878\n",
      "Epoch 180/500\n",
      "13/13 [==============================] - 0s 5ms/step - loss: 246.5972 - val_loss: 48.9967\n",
      "Epoch 181/500\n",
      "13/13 [==============================] - 0s 5ms/step - loss: 241.3423 - val_loss: 46.5833\n",
      "Epoch 182/500\n",
      "13/13 [==============================] - 0s 5ms/step - loss: 236.1828 - val_loss: 44.2467\n",
      "Epoch 183/500\n",
      "13/13 [==============================] - 0s 5ms/step - loss: 231.1180 - val_loss: 41.9852\n",
      "Epoch 184/500\n",
      "13/13 [==============================] - 0s 5ms/step - loss: 226.1463 - val_loss: 39.7980\n",
      "Epoch 185/500\n",
      "13/13 [==============================] - 0s 5ms/step - loss: 221.2668 - val_loss: 37.6837\n",
      "Epoch 186/500\n",
      "13/13 [==============================] - 0s 5ms/step - loss: 216.4782 - val_loss: 35.6413\n",
      "Epoch 187/500\n",
      "13/13 [==============================] - 0s 11ms/step - loss: 211.7794 - val_loss: 33.6696\n",
      "Epoch 188/500\n",
      "13/13 [==============================] - 0s 7ms/step - loss: 207.1693 - val_loss: 31.7673\n",
      "Epoch 189/500\n",
      "13/13 [==============================] - 0s 5ms/step - loss: 202.6467 - val_loss: 29.9336\n",
      "Epoch 190/500\n",
      "13/13 [==============================] - 0s 5ms/step - loss: 198.2106 - val_loss: 28.1669\n",
      "Epoch 191/500\n",
      "13/13 [==============================] - 0s 5ms/step - loss: 193.8596 - val_loss: 26.4663\n",
      "Epoch 192/500\n",
      "13/13 [==============================] - 0s 4ms/step - loss: 189.5929 - val_loss: 24.8306\n",
      "Epoch 193/500\n",
      "13/13 [==============================] - 0s 5ms/step - loss: 185.4091 - val_loss: 23.2589\n",
      "Epoch 194/500\n",
      "13/13 [==============================] - 0s 5ms/step - loss: 181.3074 - val_loss: 21.7498\n",
      "Epoch 195/500\n",
      "13/13 [==============================] - 0s 5ms/step - loss: 177.2865 - val_loss: 20.3022\n",
      "Epoch 196/500\n",
      "13/13 [==============================] - 0s 4ms/step - loss: 173.3451 - val_loss: 18.9152\n",
      "Epoch 197/500\n",
      "13/13 [==============================] - 0s 4ms/step - loss: 169.4826 - val_loss: 17.5874\n",
      "Epoch 198/500\n",
      "13/13 [==============================] - 0s 4ms/step - loss: 165.6975 - val_loss: 16.3181\n",
      "Epoch 199/500\n",
      "13/13 [==============================] - 0s 4ms/step - loss: 161.9890 - val_loss: 15.1059\n",
      "Epoch 200/500\n",
      "13/13 [==============================] - 0s 5ms/step - loss: 158.3559 - val_loss: 13.9498\n",
      "Epoch 201/500\n",
      "13/13 [==============================] - 0s 4ms/step - loss: 154.7970 - val_loss: 12.8487\n",
      "Epoch 202/500\n",
      "13/13 [==============================] - 0s 5ms/step - loss: 151.3114 - val_loss: 11.8016\n",
      "Epoch 203/500\n",
      "13/13 [==============================] - 0s 5ms/step - loss: 147.8982 - val_loss: 10.8076\n",
      "Epoch 204/500\n",
      "13/13 [==============================] - 0s 5ms/step - loss: 144.5561 - val_loss: 9.8653\n",
      "Epoch 205/500\n",
      "13/13 [==============================] - 0s 4ms/step - loss: 141.2841 - val_loss: 8.9739\n",
      "Epoch 206/500\n",
      "13/13 [==============================] - 0s 5ms/step - loss: 138.0813 - val_loss: 8.1321\n",
      "Epoch 207/500\n",
      "13/13 [==============================] - 0s 5ms/step - loss: 134.9465 - val_loss: 7.3393\n",
      "Epoch 208/500\n",
      "13/13 [==============================] - 0s 4ms/step - loss: 131.8788 - val_loss: 6.5942\n",
      "Epoch 209/500\n",
      "13/13 [==============================] - 0s 4ms/step - loss: 128.8772 - val_loss: 5.8958\n",
      "Epoch 210/500\n",
      "13/13 [==============================] - 0s 5ms/step - loss: 125.9406 - val_loss: 5.2431\n",
      "Epoch 211/500\n",
      "13/13 [==============================] - 0s 6ms/step - loss: 123.0681 - val_loss: 4.6352\n",
      "Epoch 212/500\n",
      "13/13 [==============================] - 0s 15ms/step - loss: 120.2586 - val_loss: 4.0710\n",
      "Epoch 213/500\n",
      "13/13 [==============================] - 0s 10ms/step - loss: 117.5114 - val_loss: 3.5495\n",
      "Epoch 214/500\n",
      "13/13 [==============================] - 0s 5ms/step - loss: 114.8250 - val_loss: 3.0699\n",
      "Epoch 215/500\n",
      "13/13 [==============================] - 0s 4ms/step - loss: 112.1988 - val_loss: 2.6311\n",
      "Epoch 216/500\n",
      "13/13 [==============================] - 0s 4ms/step - loss: 109.6318 - val_loss: 2.2322\n",
      "Epoch 217/500\n",
      "13/13 [==============================] - 0s 4ms/step - loss: 107.1230 - val_loss: 1.8722\n",
      "Epoch 218/500\n",
      "13/13 [==============================] - 0s 5ms/step - loss: 104.6715 - val_loss: 1.5501\n",
      "Epoch 219/500\n",
      "13/13 [==============================] - 0s 7ms/step - loss: 102.2763 - val_loss: 1.2652\n",
      "Epoch 220/500\n",
      "13/13 [==============================] - 0s 8ms/step - loss: 99.9363 - val_loss: 1.0163\n",
      "Epoch 221/500\n",
      "13/13 [==============================] - 0s 6ms/step - loss: 97.6510 - val_loss: 0.8027\n",
      "Epoch 222/500\n",
      "13/13 [==============================] - 0s 7ms/step - loss: 95.4192 - val_loss: 0.6234\n",
      "Epoch 223/500\n",
      "13/13 [==============================] - 0s 5ms/step - loss: 93.2399 - val_loss: 0.4775\n",
      "Epoch 224/500\n",
      "13/13 [==============================] - 0s 5ms/step - loss: 91.1124 - val_loss: 0.3641\n",
      "Epoch 225/500\n",
      "13/13 [==============================] - 0s 5ms/step - loss: 89.0358 - val_loss: 0.2824\n",
      "Epoch 226/500\n",
      "13/13 [==============================] - 0s 5ms/step - loss: 87.0091 - val_loss: 0.2315\n",
      "Epoch 227/500\n",
      "13/13 [==============================] - 0s 6ms/step - loss: 85.0314 - val_loss: 0.2105\n",
      "Epoch 228/500\n",
      "13/13 [==============================] - 0s 5ms/step - loss: 83.1018 - val_loss: 0.2186\n",
      "Epoch 229/500\n",
      "13/13 [==============================] - 0s 5ms/step - loss: 81.2197 - val_loss: 0.2549\n",
      "Epoch 230/500\n",
      "13/13 [==============================] - 0s 6ms/step - loss: 79.3840 - val_loss: 0.3186\n",
      "Epoch 231/500\n",
      "13/13 [==============================] - 0s 5ms/step - loss: 77.5940 - val_loss: 0.4089\n",
      "Epoch 232/500\n",
      "13/13 [==============================] - 0s 5ms/step - loss: 75.8486 - val_loss: 0.5250\n",
      "Epoch 233/500\n",
      "13/13 [==============================] - 0s 5ms/step - loss: 74.1473 - val_loss: 0.6660\n",
      "Epoch 234/500\n",
      "13/13 [==============================] - 0s 5ms/step - loss: 72.4890 - val_loss: 0.8313\n",
      "Epoch 235/500\n",
      "13/13 [==============================] - 0s 4ms/step - loss: 70.8729 - val_loss: 1.0199\n",
      "Epoch 236/500\n",
      "13/13 [==============================] - 0s 4ms/step - loss: 69.2985 - val_loss: 1.2311\n",
      "Epoch 237/500\n",
      "13/13 [==============================] - 0s 5ms/step - loss: 67.7647 - val_loss: 1.4642\n",
      "Epoch 238/500\n",
      "13/13 [==============================] - 0s 5ms/step - loss: 66.2708 - val_loss: 1.7185\n",
      "Epoch 239/500\n",
      "13/13 [==============================] - 0s 5ms/step - loss: 64.8160 - val_loss: 1.9931\n",
      "Epoch 240/500\n",
      "13/13 [==============================] - 0s 12ms/step - loss: 63.3995 - val_loss: 2.2872\n",
      "Epoch 241/500\n",
      "13/13 [==============================] - 0s 5ms/step - loss: 62.0208 - val_loss: 2.6004\n",
      "Epoch 242/500\n",
      "13/13 [==============================] - 0s 4ms/step - loss: 60.6788 - val_loss: 2.9316\n",
      "Epoch 243/500\n",
      "13/13 [==============================] - 0s 5ms/step - loss: 59.3729 - val_loss: 3.2805\n",
      "Epoch 244/500\n",
      "13/13 [==============================] - 0s 5ms/step - loss: 58.1022 - val_loss: 3.6461\n",
      "Epoch 245/500\n",
      "13/13 [==============================] - 0s 5ms/step - loss: 56.8663 - val_loss: 4.0278\n",
      "Epoch 246/500\n",
      "13/13 [==============================] - 0s 7ms/step - loss: 55.6642 - val_loss: 4.4250\n",
      "Epoch 247/500\n",
      "13/13 [==============================] - 0s 5ms/step - loss: 54.4954 - val_loss: 4.8369\n",
      "Epoch 248/500\n",
      "13/13 [==============================] - 0s 5ms/step - loss: 53.3589 - val_loss: 5.2630\n",
      "Epoch 249/500\n",
      "13/13 [==============================] - 0s 5ms/step - loss: 52.2542 - val_loss: 5.7026\n",
      "Epoch 250/500\n",
      "13/13 [==============================] - 0s 5ms/step - loss: 51.1807 - val_loss: 6.1551\n",
      "Epoch 251/500\n",
      "13/13 [==============================] - 0s 5ms/step - loss: 50.1375 - val_loss: 6.6198\n",
      "Epoch 252/500\n",
      "13/13 [==============================] - 0s 5ms/step - loss: 49.1241 - val_loss: 7.0962\n",
      "Epoch 253/500\n",
      "13/13 [==============================] - 0s 5ms/step - loss: 48.1397 - val_loss: 7.5836\n",
      "Epoch 254/500\n",
      "13/13 [==============================] - 0s 5ms/step - loss: 47.1838 - val_loss: 8.0814\n",
      "Epoch 255/500\n",
      "13/13 [==============================] - 0s 5ms/step - loss: 46.2557 - val_loss: 8.5892\n",
      "Epoch 256/500\n",
      "13/13 [==============================] - 0s 5ms/step - loss: 45.3547 - val_loss: 9.1062\n",
      "Epoch 257/500\n",
      "13/13 [==============================] - 0s 5ms/step - loss: 44.4804 - val_loss: 9.6320\n",
      "Epoch 258/500\n",
      "13/13 [==============================] - 0s 5ms/step - loss: 43.6319 - val_loss: 10.1661\n",
      "Epoch 259/500\n",
      "13/13 [==============================] - 0s 5ms/step - loss: 42.8088 - val_loss: 10.7077\n",
      "Epoch 260/500\n",
      "13/13 [==============================] - 0s 5ms/step - loss: 42.0104 - val_loss: 11.2566\n",
      "Epoch 261/500\n",
      "13/13 [==============================] - 0s 4ms/step - loss: 41.2361 - val_loss: 11.8120\n",
      "Epoch 262/500\n",
      "13/13 [==============================] - 0s 5ms/step - loss: 40.4853 - val_loss: 12.3737\n",
      "Epoch 263/500\n",
      "13/13 [==============================] - 0s 5ms/step - loss: 39.7575 - val_loss: 12.9410\n",
      "Epoch 264/500\n",
      "13/13 [==============================] - 0s 5ms/step - loss: 39.0522 - val_loss: 13.5135\n",
      "Epoch 265/500\n",
      "13/13 [==============================] - 0s 5ms/step - loss: 38.3688 - val_loss: 14.0905\n",
      "Epoch 266/500\n",
      "13/13 [==============================] - 0s 12ms/step - loss: 37.7066 - val_loss: 14.6720\n",
      "Epoch 267/500\n",
      "13/13 [==============================] - 0s 5ms/step - loss: 37.0653 - val_loss: 15.2572\n",
      "Epoch 268/500\n",
      "13/13 [==============================] - 0s 7ms/step - loss: 36.4441 - val_loss: 15.8458\n",
      "Epoch 269/500\n",
      "13/13 [==============================] - 0s 8ms/step - loss: 35.8427 - val_loss: 16.4374\n",
      "Epoch 270/500\n",
      "13/13 [==============================] - 0s 6ms/step - loss: 35.2606 - val_loss: 17.0314\n",
      "Epoch 271/500\n",
      "13/13 [==============================] - 0s 7ms/step - loss: 34.6972 - val_loss: 17.6276\n",
      "Epoch 272/500\n",
      "13/13 [==============================] - 0s 9ms/step - loss: 34.1521 - val_loss: 18.2254\n",
      "Epoch 273/500\n",
      "13/13 [==============================] - 0s 12ms/step - loss: 33.6247 - val_loss: 18.8246\n",
      "Epoch 274/500\n",
      "13/13 [==============================] - 0s 16ms/step - loss: 33.1146 - val_loss: 19.4247\n",
      "Epoch 275/500\n",
      "13/13 [==============================] - 0s 11ms/step - loss: 32.6214 - val_loss: 20.0255\n",
      "Epoch 276/500\n",
      "13/13 [==============================] - 0s 7ms/step - loss: 32.1445 - val_loss: 20.6265\n",
      "Epoch 277/500\n",
      "13/13 [==============================] - 0s 5ms/step - loss: 31.6835 - val_loss: 21.2273\n",
      "Epoch 278/500\n",
      "13/13 [==============================] - 0s 5ms/step - loss: 31.2381 - val_loss: 21.8278\n",
      "Epoch 279/500\n",
      "13/13 [==============================] - 0s 6ms/step - loss: 30.8077 - val_loss: 22.4274\n",
      "Epoch 280/500\n",
      "13/13 [==============================] - 0s 6ms/step - loss: 30.3919 - val_loss: 23.0260\n",
      "Epoch 281/500\n",
      "13/13 [==============================] - 0s 8ms/step - loss: 29.9904 - val_loss: 23.6230\n",
      "Epoch 282/500\n",
      "13/13 [==============================] - 0s 5ms/step - loss: 29.6028 - val_loss: 24.2187\n",
      "Epoch 283/500\n",
      "13/13 [==============================] - 0s 4ms/step - loss: 29.2285 - val_loss: 24.8122\n",
      "Epoch 284/500\n",
      "13/13 [==============================] - 0s 4ms/step - loss: 28.8672 - val_loss: 25.4036\n",
      "Epoch 285/500\n",
      "13/13 [==============================] - 0s 6ms/step - loss: 28.5186 - val_loss: 25.9923\n",
      "Epoch 286/500\n",
      "13/13 [==============================] - 0s 13ms/step - loss: 28.1823 - val_loss: 26.5783\n",
      "Epoch 287/500\n",
      "13/13 [==============================] - 0s 6ms/step - loss: 27.8580 - val_loss: 27.1614\n",
      "Epoch 288/500\n",
      "13/13 [==============================] - 0s 7ms/step - loss: 27.5451 - val_loss: 27.7411\n",
      "Epoch 289/500\n",
      "13/13 [==============================] - 0s 6ms/step - loss: 27.2435 - val_loss: 28.3176\n",
      "Epoch 290/500\n",
      "13/13 [==============================] - 0s 6ms/step - loss: 26.9527 - val_loss: 28.8901\n",
      "Epoch 291/500\n",
      "13/13 [==============================] - 0s 5ms/step - loss: 26.6726 - val_loss: 29.4588\n",
      "Epoch 292/500\n",
      "13/13 [==============================] - 0s 4ms/step - loss: 26.4026 - val_loss: 30.0232\n",
      "Epoch 293/500\n",
      "13/13 [==============================] - 0s 5ms/step - loss: 26.1426 - val_loss: 30.5835\n",
      "Epoch 294/500\n",
      "13/13 [==============================] - 0s 5ms/step - loss: 25.8921 - val_loss: 31.1394\n",
      "Epoch 295/500\n",
      "13/13 [==============================] - 0s 4ms/step - loss: 25.6509 - val_loss: 31.6904\n",
      "Epoch 296/500\n",
      "13/13 [==============================] - 0s 4ms/step - loss: 25.4187 - val_loss: 32.2369\n",
      "Epoch 297/500\n",
      "13/13 [==============================] - 0s 4ms/step - loss: 25.1952 - val_loss: 32.7782\n",
      "Epoch 298/500\n",
      "13/13 [==============================] - 0s 5ms/step - loss: 24.9801 - val_loss: 33.3144\n",
      "Epoch 299/500\n",
      "13/13 [==============================] - 0s 7ms/step - loss: 24.7732 - val_loss: 33.8453\n",
      "Epoch 300/500\n",
      "13/13 [==============================] - 0s 6ms/step - loss: 24.5741 - val_loss: 34.3707\n",
      "Epoch 301/500\n",
      "13/13 [==============================] - 0s 7ms/step - loss: 24.3826 - val_loss: 34.8907\n",
      "Epoch 302/500\n",
      "13/13 [==============================] - 0s 7ms/step - loss: 24.1986 - val_loss: 35.4050\n",
      "Epoch 303/500\n",
      "13/13 [==============================] - 0s 9ms/step - loss: 24.0216 - val_loss: 35.9134\n",
      "Epoch 304/500\n",
      "13/13 [==============================] - 0s 8ms/step - loss: 23.8515 - val_loss: 36.4161\n",
      "Epoch 305/500\n",
      "13/13 [==============================] - 0s 6ms/step - loss: 23.6881 - val_loss: 36.9127\n",
      "Epoch 306/500\n",
      "13/13 [==============================] - 0s 7ms/step - loss: 23.5311 - val_loss: 37.4033\n",
      "Epoch 307/500\n",
      "13/13 [==============================] - 0s 6ms/step - loss: 23.3802 - val_loss: 37.8877\n",
      "Epoch 308/500\n",
      "13/13 [==============================] - 0s 13ms/step - loss: 23.2354 - val_loss: 38.3657\n",
      "Epoch 309/500\n",
      "13/13 [==============================] - 0s 5ms/step - loss: 23.0963 - val_loss: 38.8378\n",
      "Epoch 310/500\n",
      "13/13 [==============================] - 0s 6ms/step - loss: 22.9627 - val_loss: 39.3033\n",
      "Epoch 311/500\n",
      "13/13 [==============================] - 0s 5ms/step - loss: 22.8346 - val_loss: 39.7623\n",
      "Epoch 312/500\n",
      "13/13 [==============================] - 0s 4ms/step - loss: 22.7116 - val_loss: 40.2149\n",
      "Epoch 313/500\n",
      "13/13 [==============================] - 0s 5ms/step - loss: 22.5936 - val_loss: 40.6610\n",
      "Epoch 314/500\n",
      "13/13 [==============================] - 0s 4ms/step - loss: 22.4804 - val_loss: 41.1005\n",
      "Epoch 315/500\n",
      "13/13 [==============================] - 0s 6ms/step - loss: 22.3718 - val_loss: 41.5333\n",
      "Epoch 316/500\n",
      "13/13 [==============================] - 0s 6ms/step - loss: 22.2678 - val_loss: 41.9599\n",
      "Epoch 317/500\n",
      "13/13 [==============================] - 0s 5ms/step - loss: 22.1679 - val_loss: 42.3792\n",
      "Epoch 318/500\n",
      "13/13 [==============================] - 0s 6ms/step - loss: 22.0723 - val_loss: 42.7920\n",
      "Epoch 319/500\n",
      "13/13 [==============================] - 0s 6ms/step - loss: 21.9806 - val_loss: 43.1983\n",
      "Epoch 320/500\n",
      "13/13 [==============================] - 0s 4ms/step - loss: 21.8927 - val_loss: 43.5980\n",
      "Epoch 321/500\n",
      "13/13 [==============================] - 0s 4ms/step - loss: 21.8085 - val_loss: 43.9906\n",
      "Epoch 322/500\n",
      "13/13 [==============================] - 0s 6ms/step - loss: 21.7279 - val_loss: 44.3769\n",
      "Epoch 323/500\n",
      "13/13 [==============================] - 0s 6ms/step - loss: 21.6507 - val_loss: 44.7563\n",
      "Epoch 324/500\n",
      "13/13 [==============================] - 0s 6ms/step - loss: 21.5767 - val_loss: 45.1290\n",
      "Epoch 325/500\n",
      "13/13 [==============================] - 0s 9ms/step - loss: 21.5059 - val_loss: 45.4952\n",
      "Epoch 326/500\n",
      "13/13 [==============================] - 0s 6ms/step - loss: 21.4381 - val_loss: 45.8545\n",
      "Epoch 327/500\n",
      "13/13 [==============================] - 0s 6ms/step - loss: 21.3733 - val_loss: 46.2073\n",
      "Epoch 328/500\n",
      "13/13 [==============================] - 0s 6ms/step - loss: 21.3112 - val_loss: 46.5534\n",
      "Epoch 329/500\n",
      "13/13 [==============================] - 0s 6ms/step - loss: 21.2518 - val_loss: 46.8928\n",
      "Epoch 330/500\n",
      "13/13 [==============================] - 0s 6ms/step - loss: 21.1950 - val_loss: 47.2259\n",
      "Epoch 331/500\n",
      "13/13 [==============================] - 0s 9ms/step - loss: 21.1406 - val_loss: 47.5526\n",
      "Epoch 332/500\n",
      "13/13 [==============================] - 0s 5ms/step - loss: 21.0886 - val_loss: 47.8728\n",
      "Epoch 333/500\n",
      "13/13 [==============================] - 0s 4ms/step - loss: 21.0388 - val_loss: 48.1865\n",
      "Epoch 334/500\n",
      "13/13 [==============================] - 0s 6ms/step - loss: 20.9913 - val_loss: 48.4939\n",
      "Epoch 335/500\n",
      "13/13 [==============================] - 0s 6ms/step - loss: 20.9458 - val_loss: 48.7950\n",
      "Epoch 336/500\n",
      "13/13 [==============================] - 0s 5ms/step - loss: 20.9023 - val_loss: 49.0896\n",
      "Epoch 337/500\n",
      "13/13 [==============================] - 0s 6ms/step - loss: 20.8608 - val_loss: 49.3782\n",
      "Epoch 338/500\n",
      "13/13 [==============================] - 0s 4ms/step - loss: 20.8211 - val_loss: 49.6606\n",
      "Epoch 339/500\n",
      "13/13 [==============================] - 0s 4ms/step - loss: 20.7831 - val_loss: 49.9367\n",
      "Epoch 340/500\n",
      "13/13 [==============================] - 0s 6ms/step - loss: 20.7469 - val_loss: 50.2070\n",
      "Epoch 341/500\n",
      "13/13 [==============================] - 0s 6ms/step - loss: 20.7123 - val_loss: 50.4715\n",
      "Epoch 342/500\n",
      "13/13 [==============================] - 0s 4ms/step - loss: 20.6791 - val_loss: 50.7297\n",
      "Epoch 343/500\n",
      "13/13 [==============================] - 0s 4ms/step - loss: 20.6475 - val_loss: 50.9824\n",
      "Epoch 344/500\n",
      "13/13 [==============================] - 0s 6ms/step - loss: 20.6173 - val_loss: 51.2291\n",
      "Epoch 345/500\n",
      "13/13 [==============================] - 0s 6ms/step - loss: 20.5884 - val_loss: 51.4698\n",
      "Epoch 346/500\n",
      "13/13 [==============================] - 0s 6ms/step - loss: 20.5609 - val_loss: 51.7053\n",
      "Epoch 347/500\n",
      "13/13 [==============================] - 0s 6ms/step - loss: 20.5346 - val_loss: 51.9350\n",
      "Epoch 348/500\n",
      "13/13 [==============================] - 0s 4ms/step - loss: 20.5095 - val_loss: 52.1597\n",
      "Epoch 349/500\n",
      "13/13 [==============================] - 0s 6ms/step - loss: 20.4854 - val_loss: 52.3785\n",
      "Epoch 350/500\n",
      "13/13 [==============================] - 0s 7ms/step - loss: 20.4625 - val_loss: 52.5921\n",
      "Epoch 351/500\n",
      "13/13 [==============================] - 0s 15ms/step - loss: 20.4406 - val_loss: 52.8006\n",
      "Epoch 352/500\n",
      "13/13 [==============================] - 0s 7ms/step - loss: 20.4197 - val_loss: 53.0037\n",
      "Epoch 353/500\n",
      "13/13 [==============================] - 0s 7ms/step - loss: 20.3998 - val_loss: 53.2017\n",
      "Epoch 354/500\n",
      "13/13 [==============================] - 0s 6ms/step - loss: 20.3808 - val_loss: 53.3943\n",
      "Epoch 355/500\n",
      "13/13 [==============================] - 0s 5ms/step - loss: 20.3626 - val_loss: 53.5826\n",
      "Epoch 356/500\n",
      "13/13 [==============================] - 0s 8ms/step - loss: 20.3453 - val_loss: 53.7657\n",
      "Epoch 357/500\n",
      "13/13 [==============================] - 0s 6ms/step - loss: 20.3288 - val_loss: 53.9439\n",
      "Epoch 358/500\n",
      "13/13 [==============================] - 0s 6ms/step - loss: 20.3130 - val_loss: 54.1176\n",
      "Epoch 359/500\n",
      "13/13 [==============================] - 0s 6ms/step - loss: 20.2979 - val_loss: 54.2865\n",
      "Epoch 360/500\n",
      "13/13 [==============================] - 0s 6ms/step - loss: 20.2835 - val_loss: 54.4510\n",
      "Epoch 361/500\n",
      "13/13 [==============================] - 0s 6ms/step - loss: 20.2698 - val_loss: 54.6113\n",
      "Epoch 362/500\n",
      "13/13 [==============================] - 0s 6ms/step - loss: 20.2567 - val_loss: 54.7670\n",
      "Epoch 363/500\n",
      "13/13 [==============================] - 0s 10ms/step - loss: 20.2442 - val_loss: 54.9184\n",
      "Epoch 364/500\n",
      "13/13 [==============================] - 0s 8ms/step - loss: 20.2322 - val_loss: 55.0654\n",
      "Epoch 365/500\n",
      "13/13 [==============================] - 0s 6ms/step - loss: 20.2209 - val_loss: 55.2083\n",
      "Epoch 366/500\n",
      "13/13 [==============================] - 0s 6ms/step - loss: 20.2100 - val_loss: 55.3473\n",
      "Epoch 367/500\n",
      "13/13 [==============================] - 0s 4ms/step - loss: 20.1996 - val_loss: 55.4822\n",
      "Epoch 368/500\n",
      "13/13 [==============================] - 0s 5ms/step - loss: 20.1897 - val_loss: 55.6133\n",
      "Epoch 369/500\n",
      "13/13 [==============================] - 0s 4ms/step - loss: 20.1803 - val_loss: 55.7408\n",
      "Epoch 370/500\n",
      "13/13 [==============================] - 0s 5ms/step - loss: 20.1713 - val_loss: 55.8645\n",
      "Epoch 371/500\n",
      "13/13 [==============================] - 0s 6ms/step - loss: 20.1627 - val_loss: 55.9845\n",
      "Epoch 372/500\n",
      "13/13 [==============================] - 0s 13ms/step - loss: 20.1545 - val_loss: 56.1008\n",
      "Epoch 373/500\n",
      "13/13 [==============================] - 0s 6ms/step - loss: 20.1466 - val_loss: 56.2138\n",
      "Epoch 374/500\n",
      "13/13 [==============================] - 0s 4ms/step - loss: 20.1391 - val_loss: 56.3232\n",
      "Epoch 375/500\n",
      "13/13 [==============================] - 0s 4ms/step - loss: 20.1320 - val_loss: 56.4293\n",
      "Epoch 376/500\n",
      "13/13 [==============================] - 0s 4ms/step - loss: 20.1252 - val_loss: 56.5322\n",
      "Epoch 377/500\n",
      "13/13 [==============================] - 0s 6ms/step - loss: 20.1187 - val_loss: 56.6320\n",
      "Epoch 378/500\n",
      "13/13 [==============================] - 0s 8ms/step - loss: 20.1125 - val_loss: 56.7285\n",
      "Epoch 379/500\n",
      "13/13 [==============================] - 0s 6ms/step - loss: 20.1066 - val_loss: 56.8218\n",
      "Epoch 380/500\n",
      "13/13 [==============================] - 0s 6ms/step - loss: 20.1010 - val_loss: 56.9124\n",
      "Epoch 381/500\n",
      "13/13 [==============================] - 0s 6ms/step - loss: 20.0956 - val_loss: 57.0001\n",
      "Epoch 382/500\n",
      "13/13 [==============================] - 0s 7ms/step - loss: 20.0904 - val_loss: 57.0850\n",
      "Epoch 383/500\n",
      "13/13 [==============================] - 0s 4ms/step - loss: 20.0855 - val_loss: 57.1671\n",
      "Epoch 384/500\n",
      "13/13 [==============================] - 0s 4ms/step - loss: 20.0808 - val_loss: 57.2465\n",
      "Epoch 385/500\n",
      "13/13 [==============================] - 0s 5ms/step - loss: 20.0764 - val_loss: 57.3233\n",
      "Epoch 386/500\n",
      "13/13 [==============================] - 0s 5ms/step - loss: 20.0721 - val_loss: 57.3975\n",
      "Epoch 387/500\n",
      "13/13 [==============================] - 0s 6ms/step - loss: 20.0680 - val_loss: 57.4692\n",
      "Epoch 388/500\n",
      "13/13 [==============================] - 0s 6ms/step - loss: 20.0642 - val_loss: 57.5385\n",
      "Epoch 389/500\n",
      "13/13 [==============================] - 0s 5ms/step - loss: 20.0605 - val_loss: 57.6057\n",
      "Epoch 390/500\n",
      "13/13 [==============================] - 0s 6ms/step - loss: 20.0570 - val_loss: 57.6705\n",
      "Epoch 391/500\n",
      "13/13 [==============================] - 0s 6ms/step - loss: 20.0536 - val_loss: 57.7330\n",
      "Epoch 392/500\n",
      "13/13 [==============================] - 0s 12ms/step - loss: 20.0504 - val_loss: 57.7934\n",
      "Epoch 393/500\n",
      "13/13 [==============================] - 0s 6ms/step - loss: 20.0473 - val_loss: 57.8516\n",
      "Epoch 394/500\n",
      "13/13 [==============================] - 0s 6ms/step - loss: 20.0444 - val_loss: 57.9079\n",
      "Epoch 395/500\n",
      "13/13 [==============================] - 0s 5ms/step - loss: 20.0416 - val_loss: 57.9618\n",
      "Epoch 396/500\n",
      "13/13 [==============================] - 0s 5ms/step - loss: 20.0390 - val_loss: 58.0144\n",
      "Epoch 397/500\n",
      "13/13 [==============================] - 0s 4ms/step - loss: 20.0364 - val_loss: 58.0648\n",
      "Epoch 398/500\n",
      "13/13 [==============================] - 0s 5ms/step - loss: 20.0340 - val_loss: 58.1136\n",
      "Epoch 399/500\n",
      "13/13 [==============================] - 0s 4ms/step - loss: 20.0316 - val_loss: 58.1603\n",
      "Epoch 400/500\n",
      "13/13 [==============================] - 0s 7ms/step - loss: 20.0295 - val_loss: 58.2054\n",
      "Epoch 401/500\n",
      "13/13 [==============================] - 0s 4ms/step - loss: 20.0274 - val_loss: 58.2488\n",
      "Epoch 402/500\n",
      "13/13 [==============================] - 0s 6ms/step - loss: 20.0254 - val_loss: 58.2907\n",
      "Epoch 403/500\n",
      "13/13 [==============================] - 0s 6ms/step - loss: 20.0236 - val_loss: 58.3311\n",
      "Epoch 404/500\n",
      "13/13 [==============================] - 0s 5ms/step - loss: 20.0217 - val_loss: 58.3700\n",
      "Epoch 405/500\n",
      "13/13 [==============================] - 0s 6ms/step - loss: 20.0200 - val_loss: 58.4074\n",
      "Epoch 406/500\n",
      "13/13 [==============================] - 0s 6ms/step - loss: 20.0183 - val_loss: 58.4432\n",
      "Epoch 407/500\n",
      "13/13 [==============================] - 0s 5ms/step - loss: 20.0168 - val_loss: 58.4775\n",
      "Epoch 408/500\n",
      "13/13 [==============================] - 0s 6ms/step - loss: 20.0154 - val_loss: 58.5109\n",
      "Epoch 409/500\n",
      "13/13 [==============================] - 0s 4ms/step - loss: 20.0139 - val_loss: 58.5427\n",
      "Epoch 410/500\n",
      "13/13 [==============================] - 0s 4ms/step - loss: 20.0126 - val_loss: 58.5734\n",
      "Epoch 411/500\n",
      "13/13 [==============================] - 0s 4ms/step - loss: 20.0114 - val_loss: 58.6029\n",
      "Epoch 412/500\n",
      "13/13 [==============================] - 0s 12ms/step - loss: 20.0101 - val_loss: 58.6311\n",
      "Epoch 413/500\n",
      "13/13 [==============================] - 0s 5ms/step - loss: 20.0090 - val_loss: 58.6581\n",
      "Epoch 414/500\n",
      "13/13 [==============================] - 0s 6ms/step - loss: 20.0079 - val_loss: 58.6844\n",
      "Epoch 415/500\n",
      "13/13 [==============================] - 0s 4ms/step - loss: 20.0069 - val_loss: 58.7095\n",
      "Epoch 416/500\n",
      "13/13 [==============================] - 0s 4ms/step - loss: 20.0059 - val_loss: 58.7335\n",
      "Epoch 417/500\n",
      "13/13 [==============================] - 0s 6ms/step - loss: 20.0049 - val_loss: 58.7566\n",
      "Epoch 418/500\n",
      "13/13 [==============================] - 0s 6ms/step - loss: 20.0041 - val_loss: 58.7785\n",
      "Epoch 419/500\n",
      "13/13 [==============================] - 0s 6ms/step - loss: 20.0033 - val_loss: 58.7999\n",
      "Epoch 420/500\n",
      "13/13 [==============================] - 0s 6ms/step - loss: 20.0025 - val_loss: 58.8199\n",
      "Epoch 421/500\n",
      "13/13 [==============================] - 0s 4ms/step - loss: 20.0017 - val_loss: 58.8394\n",
      "Epoch 422/500\n",
      "13/13 [==============================] - 0s 5ms/step - loss: 20.0010 - val_loss: 58.8580\n",
      "Epoch 423/500\n",
      "13/13 [==============================] - 0s 4ms/step - loss: 20.0004 - val_loss: 58.8759\n",
      "Epoch 424/500\n",
      "13/13 [==============================] - 0s 6ms/step - loss: 19.9998 - val_loss: 58.8927\n",
      "Epoch 425/500\n",
      "13/13 [==============================] - 0s 6ms/step - loss: 19.9992 - val_loss: 58.9093\n",
      "Epoch 426/500\n",
      "13/13 [==============================] - 0s 6ms/step - loss: 19.9986 - val_loss: 58.9247\n",
      "Epoch 427/500\n",
      "13/13 [==============================] - 0s 4ms/step - loss: 19.9981 - val_loss: 58.9396\n",
      "Epoch 428/500\n",
      "13/13 [==============================] - 0s 5ms/step - loss: 19.9976 - val_loss: 58.9542\n",
      "Epoch 429/500\n",
      "13/13 [==============================] - 0s 4ms/step - loss: 19.9971 - val_loss: 58.9678\n",
      "Epoch 430/500\n",
      "13/13 [==============================] - 0s 6ms/step - loss: 19.9968 - val_loss: 58.9811\n",
      "Epoch 431/500\n",
      "13/13 [==============================] - 0s 6ms/step - loss: 19.9963 - val_loss: 58.9935\n",
      "Epoch 432/500\n",
      "13/13 [==============================] - 0s 3ms/step - loss: 19.9959 - val_loss: 59.0055\n",
      "Epoch 433/500\n",
      "13/13 [==============================] - 0s 12ms/step - loss: 19.9955 - val_loss: 59.0167\n",
      "Epoch 434/500\n",
      "13/13 [==============================] - 0s 6ms/step - loss: 19.9953 - val_loss: 59.0277\n",
      "Epoch 435/500\n",
      "13/13 [==============================] - 0s 4ms/step - loss: 19.9950 - val_loss: 59.0384\n",
      "Epoch 436/500\n",
      "13/13 [==============================] - 0s 5ms/step - loss: 19.9947 - val_loss: 59.0483\n",
      "Epoch 437/500\n",
      "13/13 [==============================] - 0s 4ms/step - loss: 19.9944 - val_loss: 59.0577\n",
      "Epoch 438/500\n",
      "13/13 [==============================] - 0s 4ms/step - loss: 19.9942 - val_loss: 59.0668\n",
      "Epoch 439/500\n",
      "13/13 [==============================] - 0s 6ms/step - loss: 19.9939 - val_loss: 59.0756\n",
      "Epoch 440/500\n",
      "13/13 [==============================] - 0s 5ms/step - loss: 19.9937 - val_loss: 59.0838\n",
      "Epoch 441/500\n",
      "13/13 [==============================] - 0s 4ms/step - loss: 19.9935 - val_loss: 59.0914\n",
      "Epoch 442/500\n",
      "13/13 [==============================] - 0s 4ms/step - loss: 19.9934 - val_loss: 59.0989\n",
      "Epoch 443/500\n",
      "13/13 [==============================] - 0s 6ms/step - loss: 19.9932 - val_loss: 59.1058\n",
      "Epoch 444/500\n",
      "13/13 [==============================] - 0s 6ms/step - loss: 19.9931 - val_loss: 59.1124\n",
      "Epoch 445/500\n",
      "13/13 [==============================] - 0s 4ms/step - loss: 19.9930 - val_loss: 59.1189\n",
      "Epoch 446/500\n",
      "13/13 [==============================] - 0s 4ms/step - loss: 19.9929 - val_loss: 59.1251\n",
      "Epoch 447/500\n",
      "13/13 [==============================] - 0s 6ms/step - loss: 19.9928 - val_loss: 59.1308\n",
      "Epoch 448/500\n",
      "13/13 [==============================] - 0s 5ms/step - loss: 19.9927 - val_loss: 59.1361\n",
      "Epoch 449/500\n",
      "13/13 [==============================] - 0s 8ms/step - loss: 19.9926 - val_loss: 59.1414\n",
      "Epoch 450/500\n",
      "13/13 [==============================] - 0s 7ms/step - loss: 19.9926 - val_loss: 59.1464\n",
      "Epoch 451/500\n",
      "13/13 [==============================] - 0s 6ms/step - loss: 19.9925 - val_loss: 59.1509\n",
      "Epoch 452/500\n",
      "13/13 [==============================] - 0s 15ms/step - loss: 19.9925 - val_loss: 59.1552\n",
      "Epoch 453/500\n",
      "13/13 [==============================] - 0s 5ms/step - loss: 19.9925 - val_loss: 59.1594\n",
      "Epoch 454/500\n",
      "13/13 [==============================] - 0s 4ms/step - loss: 19.9925 - val_loss: 59.1635\n",
      "Epoch 455/500\n",
      "13/13 [==============================] - 0s 6ms/step - loss: 19.9925 - val_loss: 59.1673\n",
      "Epoch 456/500\n",
      "13/13 [==============================] - 0s 6ms/step - loss: 19.9925 - val_loss: 59.1704\n",
      "Epoch 457/500\n",
      "13/13 [==============================] - 0s 5ms/step - loss: 19.9925 - val_loss: 59.1741\n",
      "Epoch 458/500\n",
      "13/13 [==============================] - 0s 6ms/step - loss: 19.9925 - val_loss: 59.1772\n",
      "Epoch 459/500\n",
      "13/13 [==============================] - 0s 6ms/step - loss: 19.9925 - val_loss: 59.1803\n",
      "Epoch 460/500\n",
      "13/13 [==============================] - 0s 7ms/step - loss: 19.9926 - val_loss: 59.1831\n",
      "Epoch 461/500\n",
      "13/13 [==============================] - 0s 7ms/step - loss: 19.9926 - val_loss: 59.1858\n",
      "Epoch 462/500\n",
      "13/13 [==============================] - 0s 7ms/step - loss: 19.9927 - val_loss: 59.1884\n",
      "Epoch 463/500\n",
      "13/13 [==============================] - 0s 6ms/step - loss: 19.9927 - val_loss: 59.1907\n",
      "Epoch 464/500\n",
      "13/13 [==============================] - 0s 5ms/step - loss: 19.9928 - val_loss: 59.1929\n",
      "Epoch 465/500\n",
      "13/13 [==============================] - 0s 6ms/step - loss: 19.9928 - val_loss: 59.1949\n",
      "Epoch 466/500\n",
      "13/13 [==============================] - 0s 4ms/step - loss: 19.9930 - val_loss: 59.1970\n",
      "Epoch 467/500\n",
      "13/13 [==============================] - 0s 5ms/step - loss: 19.9930 - val_loss: 59.1987\n",
      "Epoch 468/500\n",
      "13/13 [==============================] - 0s 6ms/step - loss: 19.9931 - val_loss: 59.2003\n",
      "Epoch 469/500\n",
      "13/13 [==============================] - 0s 4ms/step - loss: 19.9932 - val_loss: 59.2022\n",
      "Epoch 470/500\n",
      "13/13 [==============================] - 0s 4ms/step - loss: 19.9933 - val_loss: 59.2037\n",
      "Epoch 471/500\n",
      "13/13 [==============================] - 0s 12ms/step - loss: 19.9934 - val_loss: 59.2051\n",
      "Epoch 472/500\n",
      "13/13 [==============================] - 0s 6ms/step - loss: 19.9935 - val_loss: 59.2064\n",
      "Epoch 473/500\n",
      "13/13 [==============================] - 0s 6ms/step - loss: 19.9936 - val_loss: 59.2078\n",
      "Epoch 474/500\n",
      "13/13 [==============================] - 0s 4ms/step - loss: 19.9937 - val_loss: 59.2089\n",
      "Epoch 475/500\n",
      "13/13 [==============================] - 0s 4ms/step - loss: 19.9938 - val_loss: 59.2102\n",
      "Epoch 476/500\n",
      "13/13 [==============================] - 0s 6ms/step - loss: 19.9939 - val_loss: 59.2111\n",
      "Epoch 477/500\n",
      "13/13 [==============================] - 0s 6ms/step - loss: 19.9940 - val_loss: 59.2123\n",
      "Epoch 478/500\n",
      "13/13 [==============================] - 0s 8ms/step - loss: 19.9941 - val_loss: 59.2130\n",
      "Epoch 479/500\n",
      "13/13 [==============================] - 0s 7ms/step - loss: 19.9943 - val_loss: 59.2138\n",
      "Epoch 480/500\n",
      "13/13 [==============================] - 0s 6ms/step - loss: 19.9944 - val_loss: 59.2146\n",
      "Epoch 481/500\n",
      "13/13 [==============================] - 0s 7ms/step - loss: 19.9945 - val_loss: 59.2151\n",
      "Epoch 482/500\n",
      "13/13 [==============================] - 0s 6ms/step - loss: 19.9946 - val_loss: 59.2158\n",
      "Epoch 483/500\n",
      "13/13 [==============================] - 0s 6ms/step - loss: 19.9947 - val_loss: 59.2165\n",
      "Epoch 484/500\n",
      "13/13 [==============================] - 0s 6ms/step - loss: 19.9949 - val_loss: 59.2169\n",
      "Epoch 485/500\n",
      "13/13 [==============================] - 0s 7ms/step - loss: 19.9950 - val_loss: 59.2172\n",
      "Epoch 486/500\n",
      "13/13 [==============================] - 0s 6ms/step - loss: 19.9952 - val_loss: 59.2178\n",
      "Epoch 487/500\n",
      "13/13 [==============================] - 0s 12ms/step - loss: 19.9953 - val_loss: 59.2183\n",
      "Epoch 488/500\n",
      "13/13 [==============================] - 0s 7ms/step - loss: 19.9954 - val_loss: 59.2187\n",
      "Epoch 489/500\n",
      "13/13 [==============================] - 0s 7ms/step - loss: 19.9955 - val_loss: 59.2191\n",
      "Epoch 490/500\n",
      "13/13 [==============================] - 0s 6ms/step - loss: 19.9957 - val_loss: 59.2192\n",
      "Epoch 491/500\n",
      "13/13 [==============================] - 0s 6ms/step - loss: 19.9958 - val_loss: 59.2193\n",
      "Epoch 492/500\n",
      "13/13 [==============================] - 0s 6ms/step - loss: 19.9960 - val_loss: 59.2196\n",
      "Epoch 493/500\n",
      "13/13 [==============================] - 0s 6ms/step - loss: 19.9961 - val_loss: 59.2197\n",
      "Epoch 494/500\n",
      "13/13 [==============================] - 0s 6ms/step - loss: 19.9963 - val_loss: 59.2198\n",
      "Epoch 495/500\n",
      "13/13 [==============================] - 0s 7ms/step - loss: 19.9964 - val_loss: 59.2200\n",
      "Epoch 496/500\n",
      "13/13 [==============================] - 0s 8ms/step - loss: 19.9965 - val_loss: 59.2200\n",
      "Epoch 497/500\n",
      "13/13 [==============================] - 0s 7ms/step - loss: 19.9967 - val_loss: 59.2200\n",
      "Epoch 498/500\n",
      "13/13 [==============================] - 0s 6ms/step - loss: 19.9968 - val_loss: 59.2201\n",
      "Epoch 499/500\n",
      "13/13 [==============================] - 0s 6ms/step - loss: 19.9970 - val_loss: 59.2204\n",
      "Epoch 500/500\n",
      "13/13 [==============================] - 0s 7ms/step - loss: 19.9971 - val_loss: 59.2205\n"
     ]
    }
   ],
   "source": [
    "C0 = tf.Variable(82.7524, name=\"C0\", trainable=True, dtype=tf.float32)\n",
    "K0 = tf.Variable(-0.0031, name=\"K0\", trainable=True, dtype=tf.float32)\n",
    "K1 = tf.Variable(-0.0003, name=\"K1\", trainable=True, dtype=tf.float32)\n",
    "a = tf.Variable(0.0000, name=\"a\", trainable=True, dtype=tf.float32)\n",
    "b = tf.Variable(0.0171, name=\"b\", trainable=True, dtype=tf.float32)\n",
    "c = tf.Variable(3.0230, name=\"c\", trainable=True, dtype=tf.float32)\n",
    "\n",
    "splitr = 0.8\n",
    "\n",
    "\n",
    "def loss_fn(y_true, y_pred):\n",
    "    squared_difference = tf.square(y_true[:, 0] - y_pred[:, 0])\n",
    "    #squared_difference2 = tf.square(y_true[:, 2]-y_pred[:, 2])\n",
    "    #squared_difference1 = tf.square(y_true[:, 1]-y_pred[:, 1])\n",
    "    epsilon = 1\n",
    "    squared_difference3 = tf.square(\n",
    "        y_pred[:, 1] - (\n",
    "            y_pred[:, 0] * (\n",
    "                K0 - K1 * (\n",
    "                    9 * a * tf.math.log((y_pred[:, 0] + epsilon) / C0) / (K0 - K1 * c)**2 +\n",
    "                    4 * b * tf.math.log((y_pred[:, 0] + epsilon) / C0) / (K0 - K1 * c) + c\n",
    "                )\n",
    "            )\n",
    "        )\n",
    "    )\n",
    "    return tf.reduce_mean(squared_difference, axis=-1) + 0.2*tf.reduce_mean(squared_difference3, axis=-1)\n",
    "model = Sequential()\n",
    "model.add(LSTM(100, input_shape=(trainX.shape[1], trainX.shape[2])))\n",
    "model.add(Dense(60))\n",
    "model.compile(loss=loss_fn, optimizer='adam')\n",
    "history = model.fit(trainX[:int(splitr*trainX.shape[0])], trainy[:int(splitr*trainX.shape[0])], epochs=500, batch_size=64, validation_data=(trainX[int(splitr*trainX.shape[0]):trainX.shape[0]], trainy[int(splitr*trainX.shape[0]):trainX.shape[0]]), shuffle=False)"
   ]
  },
  {
   "cell_type": "code",
   "execution_count": 19,
   "metadata": {
    "colab": {
     "base_uri": "https://localhost:8080/"
    },
    "id": "yJL101rPyuoT",
    "outputId": "239ff2b1-c186-423a-d316-939dfdd7c793"
   },
   "outputs": [
    {
     "name": "stdout",
     "output_type": "stream",
     "text": [
      "1/1 [==============================] - 0s 456ms/step\n"
     ]
    }
   ],
   "source": [
    "forecast_without_mc = forecastX\n",
    "yhat_without_mc = model.predict(forecast_without_mc) # Step Ahead Prediction\n",
    "forecast_without_mc = forecast_without_mc.reshape((forecast_without_mc.shape[0], forecast_without_mc.shape[2])) # Historical Input"
   ]
  },
  {
   "cell_type": "code",
   "execution_count": 20,
   "metadata": {
    "colab": {
     "base_uri": "https://localhost:8080/"
    },
    "id": "g9dQELcJ8wbp",
    "outputId": "4dc7671b-b1a8-48d5-8744-a86f98446109"
   },
   "outputs": [
    {
     "data": {
      "text/plain": [
       "(1, 1, 251)"
      ]
     },
     "execution_count": 20,
     "metadata": {},
     "output_type": "execute_result"
    }
   ],
   "source": [
    "forecastX.shape"
   ]
  },
  {
   "cell_type": "code",
   "execution_count": 21,
   "metadata": {
    "colab": {
     "base_uri": "https://localhost:8080/"
    },
    "id": "IS2kyIKG1Kbr",
    "outputId": "f31b3485-8e26-452f-9298-ea8bf7e80ad1"
   },
   "outputs": [
    {
     "data": {
      "text/plain": [
       "(1, 251)"
      ]
     },
     "execution_count": 21,
     "metadata": {},
     "output_type": "execute_result"
    }
   ],
   "source": [
    "forecast_without_mc.shape"
   ]
  },
  {
   "cell_type": "code",
   "execution_count": 22,
   "metadata": {
    "id": "0u6VIzaDyuoT"
   },
   "outputs": [],
   "source": [
    "inv_yhat_without_mc = np.concatenate((forecast_without_mc, yhat_without_mc), axis=1) # Concatenation of predicted values with Historical Data\n",
    "#inv_yhat_without_mc = scaler.inverse_transform(inv_yhat_without_mc) # Transform labels back to original encoding"
   ]
  },
  {
   "cell_type": "code",
   "execution_count": 23,
   "metadata": {
    "colab": {
     "base_uri": "https://localhost:8080/"
    },
    "id": "EUEcw0LX07oU",
    "outputId": "cfc32397-9c37-4b43-d087-584bb31c3dcc"
   },
   "outputs": [
    {
     "data": {
      "text/plain": [
       "(1, 311)"
      ]
     },
     "execution_count": 23,
     "metadata": {},
     "output_type": "execute_result"
    }
   ],
   "source": [
    "inv_yhat_without_mc.shape"
   ]
  },
  {
   "cell_type": "code",
   "execution_count": 24,
   "metadata": {
    "id": "31OWVbSh_305"
   },
   "outputs": [],
   "source": [
    "fforecast = inv_yhat_without_mc[:,-300:]"
   ]
  },
  {
   "cell_type": "code",
   "execution_count": 25,
   "metadata": {},
   "outputs": [
    {
     "data": {
      "text/plain": [
       "(1, 300)"
      ]
     },
     "execution_count": 25,
     "metadata": {},
     "output_type": "execute_result"
    }
   ],
   "source": [
    "fforecast.shape"
   ]
  },
  {
   "cell_type": "code",
   "execution_count": 26,
   "metadata": {
    "id": "BlpGH2FOAiRF"
   },
   "outputs": [],
   "source": [
    "final_forecast = fforecast[:,0:300:3]"
   ]
  },
  {
   "cell_type": "code",
   "execution_count": 27,
   "metadata": {},
   "outputs": [
    {
     "data": {
      "text/plain": [
       "(1, 300)"
      ]
     },
     "execution_count": 27,
     "metadata": {},
     "output_type": "execute_result"
    }
   ],
   "source": [
    "fforecast.shape"
   ]
  },
  {
   "cell_type": "code",
   "execution_count": 28,
   "metadata": {
    "id": "CXkgkj_LBk_t"
   },
   "outputs": [],
   "source": [
    "# code to replace all negative value with 0\n",
    "final_forecast[final_forecast<0] = 0"
   ]
  },
  {
   "cell_type": "code",
   "execution_count": 29,
   "metadata": {},
   "outputs": [
    {
     "data": {
      "text/plain": [
       "array([[5.91537815e+01, 5.90977591e+01, 5.90417367e+01, 5.89857143e+01,\n",
       "        5.89296919e+01, 5.88736695e+01, 5.88176471e+01, 5.87616247e+01,\n",
       "        5.87056022e+01, 5.86495798e+01, 5.85935574e+01, 5.85375350e+01,\n",
       "        5.84815126e+01, 5.84254902e+01, 5.83694678e+01, 5.83134454e+01,\n",
       "        5.82574230e+01, 5.82014006e+01, 5.81863445e+01, 5.81723389e+01,\n",
       "        5.81583333e+01, 5.81443277e+01, 5.81303221e+01, 5.81163165e+01,\n",
       "        5.81023109e+01, 5.80883053e+01, 5.80742997e+01, 5.80602941e+01,\n",
       "        5.80462885e+01, 5.80322829e+01, 5.80182773e+01, 5.80042717e+01,\n",
       "        5.79902661e+01, 5.79762605e+01, 5.79622549e+01, 5.79482493e+01,\n",
       "        5.79342437e+01, 5.79202381e+01, 5.79062325e+01, 5.78922269e+01,\n",
       "        5.78782213e+01, 5.78642157e+01, 5.78502101e+01, 5.78362045e+01,\n",
       "        5.78221989e+01, 5.78081933e+01, 5.77941877e+01, 5.77801821e+01,\n",
       "        5.77661765e+01, 5.77521709e+01, 5.77381653e+01, 5.77241597e+01,\n",
       "        5.77101541e+01, 5.76961485e+01, 5.76821429e+01, 5.76681373e+01,\n",
       "        5.76541316e+01, 5.76401260e+01, 5.76261205e+01, 5.76121148e+01,\n",
       "        5.75981092e+01, 5.75841036e+01, 5.75700980e+01, 5.75560924e+01,\n",
       "        5.75420868e+01, 5.75280812e+01, 5.75140756e+01, 5.75000700e+01,\n",
       "        5.74860644e+01, 5.74720588e+01, 5.74580532e+01, 5.74440476e+01,\n",
       "        5.74300420e+01, 5.74160364e+01, 5.74020308e+01, 5.73880252e+01,\n",
       "        5.73740196e+01, 5.73600140e+01, 5.73460084e+01, 5.73320028e+01,\n",
       "        6.55019760e+01, 1.05346406e+00, 3.07017177e-01, 0.00000000e+00,\n",
       "        0.00000000e+00, 0.00000000e+00, 0.00000000e+00, 0.00000000e+00,\n",
       "        0.00000000e+00, 0.00000000e+00, 1.41331673e-01, 4.95466381e-01,\n",
       "        0.00000000e+00, 5.24197578e-01, 0.00000000e+00, 4.05044295e-02,\n",
       "        2.80665815e-01, 0.00000000e+00, 0.00000000e+00, 2.30266646e-01]])"
      ]
     },
     "execution_count": 29,
     "metadata": {},
     "output_type": "execute_result"
    }
   ],
   "source": [
    "final_forecast"
   ]
  },
  {
   "cell_type": "code",
   "execution_count": 30,
   "metadata": {},
   "outputs": [
    {
     "data": {
      "text/plain": [
       "(1, 100)"
      ]
     },
     "execution_count": 30,
     "metadata": {},
     "output_type": "execute_result"
    }
   ],
   "source": [
    "final_forecast.shape"
   ]
  },
  {
   "cell_type": "code",
   "execution_count": 31,
   "metadata": {},
   "outputs": [
    {
     "data": {
      "text/plain": [
       "(100,)"
      ]
     },
     "execution_count": 31,
     "metadata": {},
     "output_type": "execute_result"
    }
   ],
   "source": [
    "test.shape"
   ]
  },
  {
   "cell_type": "code",
   "execution_count": 32,
   "metadata": {},
   "outputs": [],
   "source": [
    "training_set = np.array(training_set)\n",
    "test = np.array(test)\n",
    "final_forecast = np.array(final_forecast.squeeze(0))"
   ]
  },
  {
   "cell_type": "code",
   "execution_count": 33,
   "metadata": {},
   "outputs": [
    {
     "data": {
      "text/plain": [
       "array([56.01570962, 56.00543884, 55.99516807, 55.98489729, 55.97462652,\n",
       "       55.96435574, 55.95408497, 55.94381419, 55.93354342, 55.92327264,\n",
       "       55.91300187, 55.90273109, 55.89246032, 55.88218954, 55.87191877,\n",
       "       55.86164799, 55.85137722, 55.84110644, 55.83083567, 55.82056489,\n",
       "       55.81029412, 55.80002334, 55.78975257, 55.77948179, 55.76921102,\n",
       "       55.75894024, 55.74866947, 55.73839869, 55.72812792, 55.71785714,\n",
       "       55.70758637, 55.69731559, 55.68704482, 55.67677404, 55.66650327,\n",
       "       55.65623249, 55.64596172, 55.63569094, 55.62542017, 55.61514939,\n",
       "       55.60487862, 55.59656863, 55.59003268, 55.58349673, 55.57696078,\n",
       "       55.57042484, 55.56388889, 55.55735294, 55.55081699, 55.54428105,\n",
       "       55.5377451 , 55.53120915, 55.5246732 , 55.51813725, 55.51160131,\n",
       "       55.50506536, 55.49852941, 55.49199346, 55.48545752, 55.47892157,\n",
       "       55.47238562, 55.46584967, 55.45931373, 55.45277778, 55.44624183,\n",
       "       55.43970588, 55.43316993, 55.42663399, 55.42009804, 55.41356209,\n",
       "       55.40702614, 55.4004902 , 55.39395425, 55.3874183 , 55.38088235,\n",
       "       55.37434641, 55.36781046, 55.36127451, 55.35473856, 55.34820261,\n",
       "       55.34166667, 55.33513072, 55.32859477, 55.32205882, 55.31552288,\n",
       "       55.30898693, 55.30245098, 55.29591503, 55.28937908, 55.28284314,\n",
       "       55.27630719, 55.26977124, 55.26323529, 55.25669935, 55.2501634 ,\n",
       "       55.24362745, 55.2370915 , 55.23055556, 55.22401961, 55.21748366])"
      ]
     },
     "execution_count": 33,
     "metadata": {},
     "output_type": "execute_result"
    }
   ],
   "source": [
    "test"
   ]
  },
  {
   "cell_type": "code",
   "execution_count": 34,
   "metadata": {},
   "outputs": [
    {
     "data": {
      "text/plain": [
       "(100,)"
      ]
     },
     "execution_count": 34,
     "metadata": {},
     "output_type": "execute_result"
    }
   ],
   "source": [
    "test.shape"
   ]
  },
  {
   "cell_type": "code",
   "execution_count": 35,
   "metadata": {},
   "outputs": [
    {
     "data": {
      "text/plain": [
       "(100,)"
      ]
     },
     "execution_count": 35,
     "metadata": {},
     "output_type": "execute_result"
    }
   ],
   "source": [
    "final_forecast.shape"
   ]
  },
  {
   "cell_type": "code",
   "execution_count": 36,
   "metadata": {},
   "outputs": [
    {
     "data": {
      "text/plain": [
       "(100,)"
      ]
     },
     "execution_count": 36,
     "metadata": {},
     "output_type": "execute_result"
    }
   ],
   "source": [
    "test.shape"
   ]
  },
  {
   "cell_type": "code",
   "execution_count": 37,
   "metadata": {},
   "outputs": [
    {
     "name": "stdout",
     "output_type": "stream",
     "text": [
      "24.136289908527143\n",
      "12.42957540328452\n"
     ]
    }
   ],
   "source": [
    "import math\n",
    "MSE = np.square(np.subtract(np.array(test),np.array(final_forecast))).mean()   \n",
    "rsme = math.sqrt(MSE)\n",
    "print(rsme)  \n",
    "MAE = np.abs(np.subtract(np.array(test),np.array(final_forecast))).mean()   \n",
    "mae = MAE\n",
    "print(mae)"
   ]
  }
 ],
 "metadata": {
  "colab": {
   "provenance": []
  },
  "kernelspec": {
   "display_name": "Python 3",
   "language": "python",
   "name": "python3"
  },
  "language_info": {
   "codemirror_mode": {
    "name": "ipython",
    "version": 3
   },
   "file_extension": ".py",
   "mimetype": "text/x-python",
   "name": "python",
   "nbconvert_exporter": "python",
   "pygments_lexer": "ipython3",
   "version": "3.9.13"
  }
 },
 "nbformat": 4,
 "nbformat_minor": 0
}
