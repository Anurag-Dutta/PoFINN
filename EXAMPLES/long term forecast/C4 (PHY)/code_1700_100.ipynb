{
 "cells": [
  {
   "cell_type": "markdown",
   "metadata": {
    "id": "pCGKeZ2gyuoQ"
   },
   "source": [
    "_Importing Required Libraries_"
   ]
  },
  {
   "cell_type": "code",
   "execution_count": 1,
   "metadata": {
    "colab": {
     "base_uri": "https://localhost:8080/"
    },
    "id": "A-6LN-zXiLcM",
    "outputId": "4de610a4-f8b8-4f49-c6c0-89de299ccedc"
   },
   "outputs": [
    {
     "name": "stdout",
     "output_type": "stream",
     "text": [
      "Requirement already satisfied: hampel in c:\\users\\anurag dutta\\appdata\\local\\packages\\pythonsoftwarefoundation.python.3.9_qbz5n2kfra8p0\\localcache\\local-packages\\python39\\site-packages (0.0.5)\n",
      "Requirement already satisfied: numpy in c:\\users\\anurag dutta\\appdata\\local\\packages\\pythonsoftwarefoundation.python.3.9_qbz5n2kfra8p0\\localcache\\local-packages\\python39\\site-packages (from hampel) (1.26.4)\n",
      "Requirement already satisfied: pandas in c:\\users\\anurag dutta\\appdata\\local\\packages\\pythonsoftwarefoundation.python.3.9_qbz5n2kfra8p0\\localcache\\local-packages\\python39\\site-packages (from hampel) (1.5.2)\n",
      "Requirement already satisfied: python-dateutil>=2.8.1 in c:\\users\\anurag dutta\\appdata\\local\\packages\\pythonsoftwarefoundation.python.3.9_qbz5n2kfra8p0\\localcache\\local-packages\\python39\\site-packages (from pandas->hampel) (2.8.2)\n",
      "Requirement already satisfied: pytz>=2020.1 in c:\\users\\anurag dutta\\appdata\\local\\packages\\pythonsoftwarefoundation.python.3.9_qbz5n2kfra8p0\\localcache\\local-packages\\python39\\site-packages (from pandas->hampel) (2023.3.post1)\n",
      "Requirement already satisfied: six>=1.5 in c:\\users\\anurag dutta\\appdata\\local\\packages\\pythonsoftwarefoundation.python.3.9_qbz5n2kfra8p0\\localcache\\local-packages\\python39\\site-packages (from python-dateutil>=2.8.1->pandas->hampel) (1.16.0)\n",
      "Note: you may need to restart the kernel to use updated packages.\n"
     ]
    },
    {
     "name": "stderr",
     "output_type": "stream",
     "text": [
      "\n",
      "[notice] A new release of pip is available: 24.2 -> 24.3.1\n",
      "[notice] To update, run: C:\\Users\\Anurag Dutta\\AppData\\Local\\Microsoft\\WindowsApps\\PythonSoftwareFoundation.Python.3.9_qbz5n2kfra8p0\\python.exe -m pip install --upgrade pip\n"
     ]
    }
   ],
   "source": [
    "pip install hampel"
   ]
  },
  {
   "cell_type": "code",
   "execution_count": 2,
   "metadata": {
    "id": "By_d9uXpaFvZ"
   },
   "outputs": [],
   "source": [
    "from keras.models import Sequential\n",
    "from keras.layers import Dense\n",
    "from keras.layers import LSTM\n",
    "from keras.layers import Dropout\n",
    "import keras\n",
    "import tensorflow as tf\n",
    "from hampel import hampel\n",
    "import numpy as np\n",
    "import matplotlib.pyplot as plt\n",
    "import pandas as pd\n",
    "from sklearn.preprocessing import MinMaxScaler\n",
    "from sklearn.metrics import mean_squared_error, mean_absolute_error\n",
    "from math import sqrt\n",
    "from matplotlib import pyplot\n",
    "from numpy import array"
   ]
  },
  {
   "cell_type": "markdown",
   "metadata": {
    "id": "JyOjBMFayuoR"
   },
   "source": [
    "## Pretraining"
   ]
  },
  {
   "cell_type": "markdown",
   "metadata": {
    "id": "-5QqIY_GyuoR"
   },
   "source": [
    "The `capa_intermittency.dat` feeds the model with the dynamics of the Capacitor"
   ]
  },
  {
   "cell_type": "code",
   "execution_count": 3,
   "metadata": {
    "id": "9dV4a8yfyuoR"
   },
   "outputs": [],
   "source": [
    "data = np.genfromtxt('capa_intermittency.dat')\n",
    "training_set = pd.DataFrame(data).reset_index(drop=True)\n",
    "training_set = training_set.iloc[:,0]"
   ]
  },
  {
   "cell_type": "markdown",
   "metadata": {
    "id": "i7easoxByuoR"
   },
   "source": [
    "## Computing the Gradient"
   ]
  },
  {
   "cell_type": "markdown",
   "metadata": {
    "id": "5SnyolJTyuoR"
   },
   "source": [
    "_Calculating the value of_ $\\frac{dx}{dt}$"
   ]
  },
  {
   "cell_type": "code",
   "execution_count": 4,
   "metadata": {
    "colab": {
     "base_uri": "https://localhost:8080/"
    },
    "id": "wmIbVfIvyuoR",
    "outputId": "aa4e3136-c854-465d-d2e9-81cfd546e440"
   },
   "outputs": [
    {
     "name": "stdout",
     "output_type": "stream",
     "text": [
      "1.0\n",
      "1        0.000298\n",
      "2        0.000298\n",
      "3        0.000297\n",
      "4        0.000297\n",
      "5        0.000297\n",
      "           ...   \n",
      "9996     0.000018\n",
      "9997     0.000018\n",
      "9998     0.000018\n",
      "9999     0.000018\n",
      "10000    0.000018\n",
      "Name: 0, Length: 10000, dtype: float64\n"
     ]
    }
   ],
   "source": [
    "t_diff = 1\n",
    "print(training_set.max())\n",
    "gradient_t = (training_set.diff()/t_diff).iloc[1:] # dx/dt\n",
    "print(gradient_t)"
   ]
  },
  {
   "cell_type": "markdown",
   "metadata": {
    "id": "_2eVeeoxyuoS"
   },
   "source": [
    "## Loading Datasets"
   ]
  },
  {
   "cell_type": "code",
   "execution_count": 5,
   "metadata": {
    "id": "0J-NKyIEyuoS"
   },
   "outputs": [
    {
     "data": {
      "text/plain": [
       "0       88.600000\n",
       "1       88.409524\n",
       "2       88.219048\n",
       "3       88.028571\n",
       "4       87.838095\n",
       "          ...    \n",
       "1795    64.840966\n",
       "1796    64.832563\n",
       "1797    64.824160\n",
       "1798    64.815756\n",
       "1799    64.807353\n",
       "Name: C4, Length: 1800, dtype: float64"
      ]
     },
     "execution_count": 5,
     "metadata": {},
     "output_type": "execute_result"
    }
   ],
   "source": [
    "data = pd.read_csv(\"c4_interpolated_1700_100.csv\")\n",
    "training_set = data.iloc[:, 1]\n",
    "training_set"
   ]
  },
  {
   "cell_type": "code",
   "execution_count": 6,
   "metadata": {
    "colab": {
     "base_uri": "https://localhost:8080/"
    },
    "id": "-CbNUhJ74UqF",
    "outputId": "20f562d8-8247-49cc-b9c3-00eca5e13e2d"
   },
   "outputs": [
    {
     "data": {
      "text/plain": [
       "0       88.600000\n",
       "1       88.409524\n",
       "2       88.219048\n",
       "3       88.028571\n",
       "4       87.838095\n",
       "          ...    \n",
       "1695     0.149832\n",
       "1696     0.000000\n",
       "1697     0.032830\n",
       "1698     0.313603\n",
       "1699     0.000000\n",
       "Name: C4, Length: 1700, dtype: float64"
      ]
     },
     "execution_count": 6,
     "metadata": {},
     "output_type": "execute_result"
    }
   ],
   "source": [
    "test = training_set.tail(100)\n",
    "test\n",
    "training_set = training_set.head(1700)\n",
    "training_set"
   ]
  },
  {
   "cell_type": "code",
   "execution_count": 7,
   "metadata": {
    "colab": {
     "base_uri": "https://localhost:8080/"
    },
    "id": "X0TwTcq0yuoS",
    "outputId": "37252ed8-d88e-4044-fa7a-922411990b5b"
   },
   "outputs": [
    {
     "name": "stdout",
     "output_type": "stream",
     "text": [
      "0       0.000298\n",
      "1       0.000298\n",
      "2       0.000297\n",
      "3       0.000297\n",
      "4       0.000297\n",
      "          ...   \n",
      "9995    0.000018\n",
      "9996    0.000018\n",
      "9997    0.000018\n",
      "9998    0.000018\n",
      "9999    0.000018\n",
      "Name: 0, Length: 10000, dtype: float64\n"
     ]
    }
   ],
   "source": [
    "training_set = training_set.reset_index(drop=True)\n",
    "gradient_t = gradient_t.reset_index(drop=True)\n",
    "print(gradient_t)"
   ]
  },
  {
   "cell_type": "code",
   "execution_count": 8,
   "metadata": {
    "id": "O2biznZQyuoS"
   },
   "outputs": [],
   "source": [
    "df = pd.concat((training_set, gradient_t), axis=1)\n",
    "df.columns = ['y_t', 'grad_t']"
   ]
  },
  {
   "cell_type": "code",
   "execution_count": 9,
   "metadata": {
    "colab": {
     "base_uri": "https://localhost:8080/",
     "height": 423
    },
    "id": "sk_a5v3tyuoS",
    "outputId": "17563625-e550-45ae-faab-fafa353e44da"
   },
   "outputs": [
    {
     "data": {
      "text/html": [
       "<div>\n",
       "<style scoped>\n",
       "    .dataframe tbody tr th:only-of-type {\n",
       "        vertical-align: middle;\n",
       "    }\n",
       "\n",
       "    .dataframe tbody tr th {\n",
       "        vertical-align: top;\n",
       "    }\n",
       "\n",
       "    .dataframe thead th {\n",
       "        text-align: right;\n",
       "    }\n",
       "</style>\n",
       "<table border=\"1\" class=\"dataframe\">\n",
       "  <thead>\n",
       "    <tr style=\"text-align: right;\">\n",
       "      <th></th>\n",
       "      <th>y_t</th>\n",
       "      <th>grad_t</th>\n",
       "    </tr>\n",
       "  </thead>\n",
       "  <tbody>\n",
       "    <tr>\n",
       "      <th>0</th>\n",
       "      <td>88.600000</td>\n",
       "      <td>0.000298</td>\n",
       "    </tr>\n",
       "    <tr>\n",
       "      <th>1</th>\n",
       "      <td>88.409524</td>\n",
       "      <td>0.000298</td>\n",
       "    </tr>\n",
       "    <tr>\n",
       "      <th>2</th>\n",
       "      <td>88.219048</td>\n",
       "      <td>0.000297</td>\n",
       "    </tr>\n",
       "    <tr>\n",
       "      <th>3</th>\n",
       "      <td>88.028571</td>\n",
       "      <td>0.000297</td>\n",
       "    </tr>\n",
       "    <tr>\n",
       "      <th>4</th>\n",
       "      <td>87.838095</td>\n",
       "      <td>0.000297</td>\n",
       "    </tr>\n",
       "    <tr>\n",
       "      <th>...</th>\n",
       "      <td>...</td>\n",
       "      <td>...</td>\n",
       "    </tr>\n",
       "    <tr>\n",
       "      <th>9995</th>\n",
       "      <td>NaN</td>\n",
       "      <td>0.000018</td>\n",
       "    </tr>\n",
       "    <tr>\n",
       "      <th>9996</th>\n",
       "      <td>NaN</td>\n",
       "      <td>0.000018</td>\n",
       "    </tr>\n",
       "    <tr>\n",
       "      <th>9997</th>\n",
       "      <td>NaN</td>\n",
       "      <td>0.000018</td>\n",
       "    </tr>\n",
       "    <tr>\n",
       "      <th>9998</th>\n",
       "      <td>NaN</td>\n",
       "      <td>0.000018</td>\n",
       "    </tr>\n",
       "    <tr>\n",
       "      <th>9999</th>\n",
       "      <td>NaN</td>\n",
       "      <td>0.000018</td>\n",
       "    </tr>\n",
       "  </tbody>\n",
       "</table>\n",
       "<p>10000 rows × 2 columns</p>\n",
       "</div>"
      ],
      "text/plain": [
       "            y_t    grad_t\n",
       "0     88.600000  0.000298\n",
       "1     88.409524  0.000298\n",
       "2     88.219048  0.000297\n",
       "3     88.028571  0.000297\n",
       "4     87.838095  0.000297\n",
       "...         ...       ...\n",
       "9995        NaN  0.000018\n",
       "9996        NaN  0.000018\n",
       "9997        NaN  0.000018\n",
       "9998        NaN  0.000018\n",
       "9999        NaN  0.000018\n",
       "\n",
       "[10000 rows x 2 columns]"
      ]
     },
     "execution_count": 9,
     "metadata": {},
     "output_type": "execute_result"
    }
   ],
   "source": [
    "df"
   ]
  },
  {
   "cell_type": "markdown",
   "metadata": {
    "id": "-5esyHu5aFvg"
   },
   "source": [
    "## Plot of the External Forcing from Chaotic Differential Equation"
   ]
  },
  {
   "cell_type": "code",
   "execution_count": 10,
   "metadata": {
    "colab": {
     "base_uri": "https://localhost:8080/",
     "height": 447
    },
    "id": "hGnE43tOh-4p",
    "outputId": "fc396503-b624-4fa5-dfbe-f460207405c6"
   },
   "outputs": [
    {
     "data": {
      "text/plain": [
       "<Axes: >"
      ]
     },
     "execution_count": 10,
     "metadata": {},
     "output_type": "execute_result"
    },
    {
     "data": {
      "image/png": "[encoded data removed]",
      "text/plain": [
       "<Figure size 432x288 with 1 Axes>"
      ]
     },
     "metadata": {
      "needs_background": "light"
     },
     "output_type": "display_data"
    }
   ],
   "source": [
    "df.iloc[:, 0].plot()"
   ]
  },
  {
   "cell_type": "code",
   "execution_count": 11,
   "metadata": {
    "colab": {
     "base_uri": "https://localhost:8080/",
     "height": 447
    },
    "id": "ym4xWUUxaFvg",
    "outputId": "ae6a3495-8ce9-437e-ba81-3ed31deedeae"
   },
   "outputs": [
    {
     "name": "stderr",
     "output_type": "stream",
     "text": [
      "C:\\Users\\Anurag Dutta\\AppData\\Local\\Packages\\PythonSoftwareFoundation.Python.3.9_qbz5n2kfra8p0\\LocalCache\\local-packages\\Python39\\site-packages\\pandas\\core\\arraylike.py:402: RuntimeWarning: divide by zero encountered in log\n",
      "  result = getattr(ufunc, method)(*inputs, **kwargs)\n"
     ]
    },
    {
     "data": {
      "text/plain": [
       "<Axes: >"
      ]
     },
     "execution_count": 11,
     "metadata": {},
     "output_type": "execute_result"
    },
    {
     "data": {
      "image/png": "[encoded data removed]",
      "text/plain": [
       "<Figure size 432x288 with 1 Axes>"
      ]
     },
     "metadata": {
      "needs_background": "light"
     },
     "output_type": "display_data"
    }
   ],
   "source": [
    "import numpy as np\n",
    "c0 = 86.6856  # Value for C0\n",
    "K0 = -0.0008  # Value for K0\n",
    "K1 = -0.0002  # Value for K1\n",
    "a = 0.0000    # Value for a\n",
    "b = 0.0128    # Value for b\n",
    "c = -2.3003    # Value for c\n",
    "\n",
    "L = np.minimum(c0, (df.iloc[:, 1] - (df.iloc[:, 0] * (K0 - K1 * (9 * a * np.log(df.iloc[:, 0] / c0) / (K0 - K1 * c)**2 + 4 * b * np.log(df.iloc[:, 0] / c0) / (K0 - K1 * c) + c)))))\n",
    "L.plot()"
   ]
  },
  {
   "cell_type": "markdown",
   "metadata": {
    "id": "9VyEywnwaFvh"
   },
   "source": [
    "## Preprocessing the data into supervised learning"
   ]
  },
  {
   "cell_type": "code",
   "execution_count": 12,
   "metadata": {
    "id": "6V9dXqzdaFvh"
   },
   "outputs": [],
   "source": [
    "# split a sequence into samples\n",
    "def Supervised(data, n_in=1, n_out=1, dropnan=True):\n",
    "    n_vars = 1 if type(data) is list else data.shape[1]\n",
    "    df = pd.DataFrame(data)\n",
    "    cols, names = list(), list()\n",
    "    # input sequence (t-n_in, ... t-1)\n",
    "    for i in range(n_in, 0, -1):\n",
    "        cols.append(df.shift(i))\n",
    "        names += [('var%d(t-%d)' % (j+1, i)) for j in range(n_vars)]\n",
    "    # forecast sequence (t, t+1, ... t+n_out)\n",
    "    for i in range(0, n_out):\n",
    "      cols.append(df.shift(-i))\n",
    "      if i == 0:\n",
    "        names += [('var%d(t)' % (j+1)) for j in range(n_vars)]\n",
    "      else:\n",
    "        names += [('var%d(t+%d)' % (j+1, i)) for j in range(n_vars)]\n",
    "    # put it all together\n",
    "    agg = pd.concat(cols, axis=1)\n",
    "    agg.columns = names\n",
    "    # drop rows with NaN values\n",
    "    if dropnan:\n",
    "       agg.dropna(inplace=True)\n",
    "    return agg"
   ]
  },
  {
   "cell_type": "code",
   "execution_count": 13,
   "metadata": {
    "colab": {
     "base_uri": "https://localhost:8080/"
    },
    "id": "CrzSrT1HnyfH",
    "outputId": "7e75f928-3e47-499d-eac1-51908015ef78"
   },
   "outputs": [
    {
     "name": "stdout",
     "output_type": "stream",
     "text": [
      "     var1(t-350)  var1(t-349)  var1(t-348)  var1(t-347)  var1(t-346)  \\\n",
      "350    88.600000    88.409524    88.219048    88.028571    87.838095   \n",
      "351    88.409524    88.219048    88.028571    87.838095    87.647619   \n",
      "352    88.219048    88.028571    87.838095    87.647619    87.457143   \n",
      "353    88.028571    87.838095    87.647619    87.457143    87.266667   \n",
      "354    87.838095    87.647619    87.457143    87.266667    87.076190   \n",
      "\n",
      "     var1(t-345)  var1(t-344)  var1(t-343)  var1(t-342)  var1(t-341)  ...  \\\n",
      "350    87.647619    87.457143    87.266667    87.076190    86.896218  ...   \n",
      "351    87.457143    87.266667    87.076190    86.896218    86.845798  ...   \n",
      "352    87.266667    87.076190    86.896218    86.845798    86.795378  ...   \n",
      "353    87.076190    86.896218    86.845798    86.795378    86.744958  ...   \n",
      "354    86.896218    86.845798    86.795378    86.744958    86.694538  ...   \n",
      "\n",
      "     var1(t+95)  var2(t+95)  var1(t+96)  var2(t+96)  var1(t+97)  var2(t+97)  \\\n",
      "350   78.880345    0.000263   78.856069    0.000263   78.831793    0.000263   \n",
      "351   78.856069    0.000263   78.831793    0.000263   78.807516    0.000262   \n",
      "352   78.831793    0.000263   78.807516    0.000262   78.783240    0.000262   \n",
      "353   78.807516    0.000262   78.783240    0.000262   78.758964    0.000262   \n",
      "354   78.783240    0.000262   78.758964    0.000262   78.734687    0.000262   \n",
      "\n",
      "     var1(t+98)  var2(t+98)  var1(t+99)  var2(t+99)  \n",
      "350   78.807516    0.000262   78.783240    0.000262  \n",
      "351   78.783240    0.000262   78.758964    0.000262  \n",
      "352   78.758964    0.000262   78.734687    0.000262  \n",
      "353   78.734687    0.000262   78.710411    0.000262  \n",
      "354   78.710411    0.000262   78.686134    0.000262  \n",
      "\n",
      "[5 rows x 551 columns]\n",
      "Index(['var1(t-350)', 'var1(t-349)', 'var1(t-348)', 'var1(t-347)',\n",
      "       'var1(t-346)', 'var1(t-345)', 'var1(t-344)', 'var1(t-343)',\n",
      "       'var1(t-342)', 'var1(t-341)',\n",
      "       ...\n",
      "       'var1(t+95)', 'var2(t+95)', 'var1(t+96)', 'var2(t+96)', 'var1(t+97)',\n",
      "       'var2(t+97)', 'var1(t+98)', 'var2(t+98)', 'var1(t+99)', 'var2(t+99)'],\n",
      "      dtype='object', length=551)\n"
     ]
    }
   ],
   "source": [
    "data = Supervised(df.values, n_in = 350, n_out = 100)\n",
    "\n",
    "\n",
    "cols_to_drop = []\n",
    "for i in range(2, 351):\n",
    "    cols_to_drop.extend([f'var2(t-{i})'])\n",
    "\n",
    "data.drop(cols_to_drop, axis=1, inplace=True)\n",
    "\n",
    "print(data.head())\n",
    "print(data.columns)"
   ]
  },
  {
   "cell_type": "code",
   "execution_count": 14,
   "metadata": {
    "id": "AfPf60oy6Pe4"
   },
   "outputs": [],
   "source": [
    "train = np.array(data[0:len(data)-1])\n",
    "forecast = np.array(data.tail(1))"
   ]
  },
  {
   "cell_type": "code",
   "execution_count": 15,
   "metadata": {
    "id": "WSAafzI37KiT"
   },
   "outputs": [],
   "source": [
    "trainy = train[:,-300:]\n",
    "trainX = train[:,:-300]"
   ]
  },
  {
   "cell_type": "code",
   "execution_count": 16,
   "metadata": {
    "id": "2SrOqVJA7f50"
   },
   "outputs": [],
   "source": [
    "forecasty = forecast[:,-300:]\n",
    "forecastX = forecast[:,:-300]"
   ]
  },
  {
   "cell_type": "code",
   "execution_count": 17,
   "metadata": {
    "colab": {
     "base_uri": "https://localhost:8080/"
    },
    "id": "Qno_k8Nw7saY",
    "outputId": "c4a88db5-d8c6-489f-cdb2-06b24e293cff"
   },
   "outputs": [
    {
     "name": "stdout",
     "output_type": "stream",
     "text": [
      "(1250, 1, 251) (1250, 300) (1, 1, 251)\n"
     ]
    }
   ],
   "source": [
    "trainX = trainX.reshape((trainX.shape[0], 1, trainX.shape[1]))\n",
    "forecastX = forecastX.reshape((forecastX.shape[0], 1, forecastX.shape[1]))\n",
    "print(trainX.shape, trainy.shape, forecastX.shape)"
   ]
  },
  {
   "cell_type": "code",
   "execution_count": 18,
   "metadata": {
    "colab": {
     "base_uri": "https://localhost:8080/"
    },
    "id": "b1Jp2DvNuNFx",
    "outputId": "d0e5b3c4-64f1-438c-eade-8dfeaac8e285"
   },
   "outputs": [
    {
     "name": "stdout",
     "output_type": "stream",
     "text": [
      "Epoch 1/500\n",
      "16/16 [==============================] - 2s 29ms/step - loss: 5424.5366 - val_loss: 4580.8262\n",
      "Epoch 2/500\n",
      "16/16 [==============================] - 0s 4ms/step - loss: 5362.1714 - val_loss: 4527.9771\n",
      "Epoch 3/500\n",
      "16/16 [==============================] - 0s 3ms/step - loss: 5314.3623 - val_loss: 4486.3662\n",
      "Epoch 4/500\n",
      "16/16 [==============================] - 0s 5ms/step - loss: 5269.3745 - val_loss: 4445.0703\n",
      "Epoch 5/500\n",
      "16/16 [==============================] - 0s 5ms/step - loss: 5224.7412 - val_loss: 4404.1240\n",
      "Epoch 6/500\n",
      "16/16 [==============================] - 0s 4ms/step - loss: 5180.4580 - val_loss: 4363.5044\n",
      "Epoch 7/500\n",
      "16/16 [==============================] - 0s 3ms/step - loss: 5136.5054 - val_loss: 4323.1914\n",
      "Epoch 8/500\n",
      "16/16 [==============================] - 0s 4ms/step - loss: 5092.8643 - val_loss: 4283.1743\n",
      "Epoch 9/500\n",
      "16/16 [==============================] - 0s 4ms/step - loss: 5049.5239 - val_loss: 4243.4448\n",
      "Epoch 10/500\n",
      "16/16 [==============================] - 0s 4ms/step - loss: 5006.4761 - val_loss: 4203.9961\n",
      "Epoch 11/500\n",
      "16/16 [==============================] - 0s 4ms/step - loss: 4963.7158 - val_loss: 4164.8232\n",
      "Epoch 12/500\n",
      "16/16 [==============================] - 0s 4ms/step - loss: 4921.2368 - val_loss: 4125.9233\n",
      "Epoch 13/500\n",
      "16/16 [==============================] - 0s 4ms/step - loss: 4879.0391 - val_loss: 4087.2942\n",
      "Epoch 14/500\n",
      "16/16 [==============================] - 0s 5ms/step - loss: 4837.1172 - val_loss: 4048.9314\n",
      "Epoch 15/500\n",
      "16/16 [==============================] - 0s 4ms/step - loss: 4795.4683 - val_loss: 4010.8337\n",
      "Epoch 16/500\n",
      "16/16 [==============================] - 0s 4ms/step - loss: 4754.0913 - val_loss: 3972.9990\n",
      "Epoch 17/500\n",
      "16/16 [==============================] - 0s 5ms/step - loss: 4712.9829 - val_loss: 3935.4246\n",
      "Epoch 18/500\n",
      "16/16 [==============================] - 0s 7ms/step - loss: 4672.1431 - val_loss: 3898.1089\n",
      "Epoch 19/500\n",
      "16/16 [==============================] - 0s 6ms/step - loss: 4631.5674 - val_loss: 3861.0508\n",
      "Epoch 20/500\n",
      "16/16 [==============================] - 0s 7ms/step - loss: 4591.2554 - val_loss: 3824.2478\n",
      "Epoch 21/500\n",
      "16/16 [==============================] - 0s 4ms/step - loss: 4551.2051 - val_loss: 3787.6987\n",
      "Epoch 22/500\n",
      "16/16 [==============================] - 0s 4ms/step - loss: 4511.4160 - val_loss: 3751.4016\n",
      "Epoch 23/500\n",
      "16/16 [==============================] - 0s 4ms/step - loss: 4471.8838 - val_loss: 3715.3555\n",
      "Epoch 24/500\n",
      "16/16 [==============================] - 0s 4ms/step - loss: 4432.6099 - val_loss: 3679.5586\n",
      "Epoch 25/500\n",
      "16/16 [==============================] - 0s 4ms/step - loss: 4393.5913 - val_loss: 3644.0090\n",
      "Epoch 26/500\n",
      "16/16 [==============================] - 0s 4ms/step - loss: 4354.8271 - val_loss: 3608.7063\n",
      "Epoch 27/500\n",
      "16/16 [==============================] - 0s 4ms/step - loss: 4316.3149 - val_loss: 3573.6479\n",
      "Epoch 28/500\n",
      "16/16 [==============================] - 0s 4ms/step - loss: 4278.0552 - val_loss: 3538.8342\n",
      "Epoch 29/500\n",
      "16/16 [==============================] - 0s 4ms/step - loss: 4240.0439 - val_loss: 3504.2625\n",
      "Epoch 30/500\n",
      "16/16 [==============================] - 0s 4ms/step - loss: 4202.2822 - val_loss: 3469.9307\n",
      "Epoch 31/500\n",
      "16/16 [==============================] - 0s 4ms/step - loss: 4164.7676 - val_loss: 3435.8394\n",
      "Epoch 32/500\n",
      "16/16 [==============================] - 0s 4ms/step - loss: 4127.4985 - val_loss: 3401.9868\n",
      "Epoch 33/500\n",
      "16/16 [==============================] - 0s 5ms/step - loss: 4090.4749 - val_loss: 3368.3711\n",
      "Epoch 34/500\n",
      "16/16 [==============================] - 0s 6ms/step - loss: 4053.6936 - val_loss: 3334.9910\n",
      "Epoch 35/500\n",
      "16/16 [==============================] - 0s 5ms/step - loss: 4017.1543 - val_loss: 3301.8452\n",
      "Epoch 36/500\n",
      "16/16 [==============================] - 0s 5ms/step - loss: 3980.8557 - val_loss: 3268.9331\n",
      "Epoch 37/500\n",
      "16/16 [==============================] - 0s 5ms/step - loss: 3944.7974 - val_loss: 3236.2529\n",
      "Epoch 38/500\n",
      "16/16 [==============================] - 0s 7ms/step - loss: 3908.9768 - val_loss: 3203.8042\n",
      "Epoch 39/500\n",
      "16/16 [==============================] - 0s 6ms/step - loss: 3873.3933 - val_loss: 3171.5845\n",
      "Epoch 40/500\n",
      "16/16 [==============================] - 0s 5ms/step - loss: 3838.0452 - val_loss: 3139.5935\n",
      "Epoch 41/500\n",
      "16/16 [==============================] - 0s 5ms/step - loss: 3802.9326 - val_loss: 3107.8296\n",
      "Epoch 42/500\n",
      "16/16 [==============================] - 0s 5ms/step - loss: 3768.0527 - val_loss: 3076.2925\n",
      "Epoch 43/500\n",
      "16/16 [==============================] - 0s 5ms/step - loss: 3733.4055 - val_loss: 3044.9800\n",
      "Epoch 44/500\n",
      "16/16 [==============================] - 0s 5ms/step - loss: 3698.9888 - val_loss: 3013.8916\n",
      "Epoch 45/500\n",
      "16/16 [==============================] - 0s 5ms/step - loss: 3664.8022 - val_loss: 2983.0254\n",
      "Epoch 46/500\n",
      "16/16 [==============================] - 0s 6ms/step - loss: 3630.8452 - val_loss: 2952.3816\n",
      "Epoch 47/500\n",
      "16/16 [==============================] - 0s 5ms/step - loss: 3597.1150 - val_loss: 2921.9573\n",
      "Epoch 48/500\n",
      "16/16 [==============================] - 0s 5ms/step - loss: 3563.6113 - val_loss: 2891.7532\n",
      "Epoch 49/500\n",
      "16/16 [==============================] - 0s 5ms/step - loss: 3530.3330 - val_loss: 2861.7666\n",
      "Epoch 50/500\n",
      "16/16 [==============================] - 0s 5ms/step - loss: 3497.2788 - val_loss: 2831.9980\n",
      "Epoch 51/500\n",
      "16/16 [==============================] - 0s 6ms/step - loss: 3464.4480 - val_loss: 2802.4451\n",
      "Epoch 52/500\n",
      "16/16 [==============================] - 0s 5ms/step - loss: 3431.8391 - val_loss: 2773.1069\n",
      "Epoch 53/500\n",
      "16/16 [==============================] - 0s 5ms/step - loss: 3399.4509 - val_loss: 2743.9824\n",
      "Epoch 54/500\n",
      "16/16 [==============================] - 0s 5ms/step - loss: 3367.2825 - val_loss: 2715.0710\n",
      "Epoch 55/500\n",
      "16/16 [==============================] - 0s 4ms/step - loss: 3335.3328 - val_loss: 2686.3716\n",
      "Epoch 56/500\n",
      "16/16 [==============================] - 0s 7ms/step - loss: 3303.6006 - val_loss: 2657.8821\n",
      "Epoch 57/500\n",
      "16/16 [==============================] - 0s 6ms/step - loss: 3272.0854 - val_loss: 2629.6025\n",
      "Epoch 58/500\n",
      "16/16 [==============================] - 0s 6ms/step - loss: 3240.7852 - val_loss: 2601.5315\n",
      "Epoch 59/500\n",
      "16/16 [==============================] - 0s 5ms/step - loss: 3209.7002 - val_loss: 2573.6682\n",
      "Epoch 60/500\n",
      "16/16 [==============================] - 0s 5ms/step - loss: 3178.8276 - val_loss: 2546.0117\n",
      "Epoch 61/500\n",
      "16/16 [==============================] - 0s 5ms/step - loss: 3148.1685 - val_loss: 2518.5603\n",
      "Epoch 62/500\n",
      "16/16 [==============================] - 0s 5ms/step - loss: 3117.7205 - val_loss: 2491.3130\n",
      "Epoch 63/500\n",
      "16/16 [==============================] - 0s 4ms/step - loss: 3087.4824 - val_loss: 2464.2698\n",
      "Epoch 64/500\n",
      "16/16 [==============================] - 0s 4ms/step - loss: 3057.4543 - val_loss: 2437.4287\n",
      "Epoch 65/500\n",
      "16/16 [==============================] - 0s 5ms/step - loss: 3027.6338 - val_loss: 2410.7903\n",
      "Epoch 66/500\n",
      "16/16 [==============================] - 0s 4ms/step - loss: 2998.0212 - val_loss: 2384.3511\n",
      "Epoch 67/500\n",
      "16/16 [==============================] - 0s 5ms/step - loss: 2968.6147 - val_loss: 2358.1116\n",
      "Epoch 68/500\n",
      "16/16 [==============================] - 0s 4ms/step - loss: 2939.4136 - val_loss: 2332.0708\n",
      "Epoch 69/500\n",
      "16/16 [==============================] - 0s 4ms/step - loss: 2910.4172 - val_loss: 2306.2280\n",
      "Epoch 70/500\n",
      "16/16 [==============================] - 0s 4ms/step - loss: 2881.6235 - val_loss: 2280.5813\n",
      "Epoch 71/500\n",
      "16/16 [==============================] - 0s 4ms/step - loss: 2853.0322 - val_loss: 2255.1299\n",
      "Epoch 72/500\n",
      "16/16 [==============================] - 0s 5ms/step - loss: 2824.6431 - val_loss: 2229.8740\n",
      "Epoch 73/500\n",
      "16/16 [==============================] - 0s 4ms/step - loss: 2796.4539 - val_loss: 2204.8115\n",
      "Epoch 74/500\n",
      "16/16 [==============================] - 0s 5ms/step - loss: 2768.4644 - val_loss: 2179.9414\n",
      "Epoch 75/500\n",
      "16/16 [==============================] - 0s 4ms/step - loss: 2740.6729 - val_loss: 2155.2629\n",
      "Epoch 76/500\n",
      "16/16 [==============================] - 0s 6ms/step - loss: 2713.0793 - val_loss: 2130.7756\n",
      "Epoch 77/500\n",
      "16/16 [==============================] - 0s 5ms/step - loss: 2685.6826 - val_loss: 2106.4792\n",
      "Epoch 78/500\n",
      "16/16 [==============================] - 0s 4ms/step - loss: 2658.4812 - val_loss: 2082.3716\n",
      "Epoch 79/500\n",
      "16/16 [==============================] - 0s 4ms/step - loss: 2631.4756 - val_loss: 2058.4521\n",
      "Epoch 80/500\n",
      "16/16 [==============================] - 0s 4ms/step - loss: 2604.6633 - val_loss: 2034.7190\n",
      "Epoch 81/500\n",
      "16/16 [==============================] - 0s 4ms/step - loss: 2578.0437 - val_loss: 2011.1726\n",
      "Epoch 82/500\n",
      "16/16 [==============================] - 0s 4ms/step - loss: 2551.6167 - val_loss: 1987.8124\n",
      "Epoch 83/500\n",
      "16/16 [==============================] - 0s 4ms/step - loss: 2525.3806 - val_loss: 1964.6355\n",
      "Epoch 84/500\n",
      "16/16 [==============================] - 0s 4ms/step - loss: 2499.3345 - val_loss: 1941.6429\n",
      "Epoch 85/500\n",
      "16/16 [==============================] - 0s 4ms/step - loss: 2473.4780 - val_loss: 1918.8329\n",
      "Epoch 86/500\n",
      "16/16 [==============================] - 0s 4ms/step - loss: 2447.8101 - val_loss: 1896.2046\n",
      "Epoch 87/500\n",
      "16/16 [==============================] - 0s 4ms/step - loss: 2422.3296 - val_loss: 1873.7581\n",
      "Epoch 88/500\n",
      "16/16 [==============================] - 0s 3ms/step - loss: 2397.0359 - val_loss: 1851.4907\n",
      "Epoch 89/500\n",
      "16/16 [==============================] - 0s 3ms/step - loss: 2371.9280 - val_loss: 1829.4028\n",
      "Epoch 90/500\n",
      "16/16 [==============================] - 0s 4ms/step - loss: 2347.0049 - val_loss: 1807.4929\n",
      "Epoch 91/500\n",
      "16/16 [==============================] - 0s 5ms/step - loss: 2322.2659 - val_loss: 1785.7612\n",
      "Epoch 92/500\n",
      "16/16 [==============================] - 0s 4ms/step - loss: 2297.7097 - val_loss: 1764.2065\n",
      "Epoch 93/500\n",
      "16/16 [==============================] - 0s 4ms/step - loss: 2273.3364 - val_loss: 1742.8268\n",
      "Epoch 94/500\n",
      "16/16 [==============================] - 0s 3ms/step - loss: 2249.1445 - val_loss: 1721.6223\n",
      "Epoch 95/500\n",
      "16/16 [==============================] - 0s 4ms/step - loss: 2225.1335 - val_loss: 1700.5924\n",
      "Epoch 96/500\n",
      "16/16 [==============================] - 0s 6ms/step - loss: 2201.3025 - val_loss: 1679.7355\n",
      "Epoch 97/500\n",
      "16/16 [==============================] - 0s 7ms/step - loss: 2177.6501 - val_loss: 1659.0508\n",
      "Epoch 98/500\n",
      "16/16 [==============================] - 0s 4ms/step - loss: 2154.1760 - val_loss: 1638.5376\n",
      "Epoch 99/500\n",
      "16/16 [==============================] - 0s 4ms/step - loss: 2130.8794 - val_loss: 1618.1958\n",
      "Epoch 100/500\n",
      "16/16 [==============================] - 0s 5ms/step - loss: 2107.7593 - val_loss: 1598.0238\n",
      "Epoch 101/500\n",
      "16/16 [==============================] - 0s 4ms/step - loss: 2084.8147 - val_loss: 1578.0208\n",
      "Epoch 102/500\n",
      "16/16 [==============================] - 0s 4ms/step - loss: 2062.0449 - val_loss: 1558.1863\n",
      "Epoch 103/500\n",
      "16/16 [==============================] - 0s 3ms/step - loss: 2039.4495 - val_loss: 1538.5194\n",
      "Epoch 104/500\n",
      "16/16 [==============================] - 0s 4ms/step - loss: 2017.0273 - val_loss: 1519.0193\n",
      "Epoch 105/500\n",
      "16/16 [==============================] - 0s 4ms/step - loss: 1994.7772 - val_loss: 1499.6844\n",
      "Epoch 106/500\n",
      "16/16 [==============================] - 0s 5ms/step - loss: 1972.6992 - val_loss: 1480.5153\n",
      "Epoch 107/500\n",
      "16/16 [==============================] - 0s 4ms/step - loss: 1950.7919 - val_loss: 1461.5109\n",
      "Epoch 108/500\n",
      "16/16 [==============================] - 0s 4ms/step - loss: 1929.0546 - val_loss: 1442.6699\n",
      "Epoch 109/500\n",
      "16/16 [==============================] - 0s 4ms/step - loss: 1907.4865 - val_loss: 1423.9907\n",
      "Epoch 110/500\n",
      "16/16 [==============================] - 0s 5ms/step - loss: 1886.0872 - val_loss: 1405.4746\n",
      "Epoch 111/500\n",
      "16/16 [==============================] - 0s 4ms/step - loss: 1864.8555 - val_loss: 1387.1190\n",
      "Epoch 112/500\n",
      "16/16 [==============================] - 0s 4ms/step - loss: 1843.7903 - val_loss: 1368.9241\n",
      "Epoch 113/500\n",
      "16/16 [==============================] - 0s 4ms/step - loss: 1822.8912 - val_loss: 1350.8887\n",
      "Epoch 114/500\n",
      "16/16 [==============================] - 0s 4ms/step - loss: 1802.1576 - val_loss: 1333.0123\n",
      "Epoch 115/500\n",
      "16/16 [==============================] - 0s 4ms/step - loss: 1781.5890 - val_loss: 1315.2938\n",
      "Epoch 116/500\n",
      "16/16 [==============================] - 0s 4ms/step - loss: 1761.1840 - val_loss: 1297.7330\n",
      "Epoch 117/500\n",
      "16/16 [==============================] - 0s 4ms/step - loss: 1740.9420 - val_loss: 1280.3282\n",
      "Epoch 118/500\n",
      "16/16 [==============================] - 0s 3ms/step - loss: 1720.8623 - val_loss: 1263.0800\n",
      "Epoch 119/500\n",
      "16/16 [==============================] - 0s 3ms/step - loss: 1700.9441 - val_loss: 1245.9857\n",
      "Epoch 120/500\n",
      "16/16 [==============================] - 0s 3ms/step - loss: 1681.1868 - val_loss: 1229.0464\n",
      "Epoch 121/500\n",
      "16/16 [==============================] - 0s 4ms/step - loss: 1661.5894 - val_loss: 1212.2603\n",
      "Epoch 122/500\n",
      "16/16 [==============================] - 0s 4ms/step - loss: 1642.1514 - val_loss: 1195.6267\n",
      "Epoch 123/500\n",
      "16/16 [==============================] - 0s 4ms/step - loss: 1622.8716 - val_loss: 1179.1460\n",
      "Epoch 124/500\n",
      "16/16 [==============================] - 0s 4ms/step - loss: 1603.7500 - val_loss: 1162.8159\n",
      "Epoch 125/500\n",
      "16/16 [==============================] - 0s 4ms/step - loss: 1584.7852 - val_loss: 1146.6365\n",
      "Epoch 126/500\n",
      "16/16 [==============================] - 0s 4ms/step - loss: 1565.9769 - val_loss: 1130.6073\n",
      "Epoch 127/500\n",
      "16/16 [==============================] - 0s 4ms/step - loss: 1547.3241 - val_loss: 1114.7267\n",
      "Epoch 128/500\n",
      "16/16 [==============================] - 0s 4ms/step - loss: 1528.8267 - val_loss: 1098.9946\n",
      "Epoch 129/500\n",
      "16/16 [==============================] - 0s 4ms/step - loss: 1510.4827 - val_loss: 1083.4100\n",
      "Epoch 130/500\n",
      "16/16 [==============================] - 0s 4ms/step - loss: 1492.2925 - val_loss: 1067.9722\n",
      "Epoch 131/500\n",
      "16/16 [==============================] - 0s 4ms/step - loss: 1474.2545 - val_loss: 1052.6802\n",
      "Epoch 132/500\n",
      "16/16 [==============================] - 0s 12ms/step - loss: 1456.3689 - val_loss: 1037.5344\n",
      "Epoch 133/500\n",
      "16/16 [==============================] - 0s 7ms/step - loss: 1438.6344 - val_loss: 1022.5327\n",
      "Epoch 134/500\n",
      "16/16 [==============================] - 0s 5ms/step - loss: 1421.0508 - val_loss: 1007.6750\n",
      "Epoch 135/500\n",
      "16/16 [==============================] - 0s 6ms/step - loss: 1403.6163 - val_loss: 992.9608\n",
      "Epoch 136/500\n",
      "16/16 [==============================] - 0s 4ms/step - loss: 1386.3317 - val_loss: 978.3891\n",
      "Epoch 137/500\n",
      "16/16 [==============================] - 0s 4ms/step - loss: 1369.1948 - val_loss: 963.9589\n",
      "Epoch 138/500\n",
      "16/16 [==============================] - 0s 5ms/step - loss: 1352.2062 - val_loss: 949.6699\n",
      "Epoch 139/500\n",
      "16/16 [==============================] - 0s 4ms/step - loss: 1335.3641 - val_loss: 935.5212\n",
      "Epoch 140/500\n",
      "16/16 [==============================] - 0s 4ms/step - loss: 1318.6687 - val_loss: 921.5126\n",
      "Epoch 141/500\n",
      "16/16 [==============================] - 0s 6ms/step - loss: 1302.1191 - val_loss: 907.6430\n",
      "Epoch 142/500\n",
      "16/16 [==============================] - 0s 4ms/step - loss: 1285.7141 - val_loss: 893.9116\n",
      "Epoch 143/500\n",
      "16/16 [==============================] - 0s 5ms/step - loss: 1269.4529 - val_loss: 880.3175\n",
      "Epoch 144/500\n",
      "16/16 [==============================] - 0s 4ms/step - loss: 1253.3361 - val_loss: 866.8606\n",
      "Epoch 145/500\n",
      "16/16 [==============================] - 0s 4ms/step - loss: 1237.3615 - val_loss: 853.5395\n",
      "Epoch 146/500\n",
      "16/16 [==============================] - 0s 4ms/step - loss: 1221.5293 - val_loss: 840.3539\n",
      "Epoch 147/500\n",
      "16/16 [==============================] - 0s 5ms/step - loss: 1205.8384 - val_loss: 827.3032\n",
      "Epoch 148/500\n",
      "16/16 [==============================] - 0s 6ms/step - loss: 1190.2881 - val_loss: 814.3870\n",
      "Epoch 149/500\n",
      "16/16 [==============================] - 0s 7ms/step - loss: 1174.8782 - val_loss: 801.6031\n",
      "Epoch 150/500\n",
      "16/16 [==============================] - 0s 6ms/step - loss: 1159.6075 - val_loss: 788.9525\n",
      "Epoch 151/500\n",
      "16/16 [==============================] - 0s 13ms/step - loss: 1144.4756 - val_loss: 776.4339\n",
      "Epoch 152/500\n",
      "16/16 [==============================] - 0s 7ms/step - loss: 1129.4813 - val_loss: 764.0462\n",
      "Epoch 153/500\n",
      "16/16 [==============================] - 0s 4ms/step - loss: 1114.6249 - val_loss: 751.7896\n",
      "Epoch 154/500\n",
      "16/16 [==============================] - 0s 5ms/step - loss: 1099.9052 - val_loss: 739.6624\n",
      "Epoch 155/500\n",
      "16/16 [==============================] - 0s 6ms/step - loss: 1085.3213 - val_loss: 727.6652\n",
      "Epoch 156/500\n",
      "16/16 [==============================] - 0s 13ms/step - loss: 1070.8729 - val_loss: 715.7952\n",
      "Epoch 157/500\n",
      "16/16 [==============================] - 0s 5ms/step - loss: 1056.5588 - val_loss: 704.0547\n",
      "Epoch 158/500\n",
      "16/16 [==============================] - 0s 6ms/step - loss: 1042.3790 - val_loss: 692.4399\n",
      "Epoch 159/500\n",
      "16/16 [==============================] - 0s 6ms/step - loss: 1028.3323 - val_loss: 680.9528\n",
      "Epoch 160/500\n",
      "16/16 [==============================] - 0s 6ms/step - loss: 1014.4186 - val_loss: 669.5908\n",
      "Epoch 161/500\n",
      "16/16 [==============================] - 0s 6ms/step - loss: 1000.6364 - val_loss: 658.3539\n",
      "Epoch 162/500\n",
      "16/16 [==============================] - 0s 6ms/step - loss: 986.9859 - val_loss: 647.2422\n",
      "Epoch 163/500\n",
      "16/16 [==============================] - 0s 6ms/step - loss: 973.4658 - val_loss: 636.2532\n",
      "Epoch 164/500\n",
      "16/16 [==============================] - 0s 7ms/step - loss: 960.0759 - val_loss: 625.3879\n",
      "Epoch 165/500\n",
      "16/16 [==============================] - 0s 5ms/step - loss: 946.8152 - val_loss: 614.6448\n",
      "Epoch 166/500\n",
      "16/16 [==============================] - 0s 7ms/step - loss: 933.6829 - val_loss: 604.0226\n",
      "Epoch 167/500\n",
      "16/16 [==============================] - 0s 7ms/step - loss: 920.6790 - val_loss: 593.5224\n",
      "Epoch 168/500\n",
      "16/16 [==============================] - 0s 16ms/step - loss: 907.8025 - val_loss: 583.1432\n",
      "Epoch 169/500\n",
      "16/16 [==============================] - 0s 7ms/step - loss: 895.0526 - val_loss: 572.8827\n",
      "Epoch 170/500\n",
      "16/16 [==============================] - 0s 7ms/step - loss: 882.4286 - val_loss: 562.7413\n",
      "Epoch 171/500\n",
      "16/16 [==============================] - 0s 5ms/step - loss: 869.9302 - val_loss: 552.7189\n",
      "Epoch 172/500\n",
      "16/16 [==============================] - 0s 7ms/step - loss: 857.5566 - val_loss: 542.8140\n",
      "Epoch 173/500\n",
      "16/16 [==============================] - 0s 7ms/step - loss: 845.3072 - val_loss: 533.0257\n",
      "Epoch 174/500\n",
      "16/16 [==============================] - 0s 6ms/step - loss: 833.1811 - val_loss: 523.3541\n",
      "Epoch 175/500\n",
      "16/16 [==============================] - 0s 7ms/step - loss: 821.1779 - val_loss: 513.7988\n",
      "Epoch 176/500\n",
      "16/16 [==============================] - 0s 7ms/step - loss: 809.2969 - val_loss: 504.3573\n",
      "Epoch 177/500\n",
      "16/16 [==============================] - 0s 7ms/step - loss: 797.5373 - val_loss: 495.0304\n",
      "Epoch 178/500\n",
      "16/16 [==============================] - 0s 7ms/step - loss: 785.8983 - val_loss: 485.8173\n",
      "Epoch 179/500\n",
      "16/16 [==============================] - 0s 7ms/step - loss: 774.3798 - val_loss: 476.7175\n",
      "Epoch 180/500\n",
      "16/16 [==============================] - 0s 9ms/step - loss: 762.9808 - val_loss: 467.7301\n",
      "Epoch 181/500\n",
      "16/16 [==============================] - 0s 7ms/step - loss: 751.7006 - val_loss: 458.8538\n",
      "Epoch 182/500\n",
      "16/16 [==============================] - 0s 6ms/step - loss: 740.5384 - val_loss: 450.0889\n",
      "Epoch 183/500\n",
      "16/16 [==============================] - 0s 6ms/step - loss: 729.4940 - val_loss: 441.4341\n",
      "Epoch 184/500\n",
      "16/16 [==============================] - 0s 6ms/step - loss: 718.5665 - val_loss: 432.8893\n",
      "Epoch 185/500\n",
      "16/16 [==============================] - 0s 6ms/step - loss: 707.7555 - val_loss: 424.4534\n",
      "Epoch 186/500\n",
      "16/16 [==============================] - 0s 12ms/step - loss: 697.0601 - val_loss: 416.1252\n",
      "Epoch 187/500\n",
      "16/16 [==============================] - 0s 5ms/step - loss: 686.4798 - val_loss: 407.9054\n",
      "Epoch 188/500\n",
      "16/16 [==============================] - 0s 4ms/step - loss: 676.0134 - val_loss: 399.7916\n",
      "Epoch 189/500\n",
      "16/16 [==============================] - 0s 6ms/step - loss: 665.6607 - val_loss: 391.7846\n",
      "Epoch 190/500\n",
      "16/16 [==============================] - 0s 4ms/step - loss: 655.4211 - val_loss: 383.8831\n",
      "Epoch 191/500\n",
      "16/16 [==============================] - 0s 4ms/step - loss: 645.2941 - val_loss: 376.0864\n",
      "Epoch 192/500\n",
      "16/16 [==============================] - 0s 6ms/step - loss: 635.2788 - val_loss: 368.3947\n",
      "Epoch 193/500\n",
      "16/16 [==============================] - 0s 5ms/step - loss: 625.3746 - val_loss: 360.8059\n",
      "Epoch 194/500\n",
      "16/16 [==============================] - 0s 4ms/step - loss: 615.5810 - val_loss: 353.3202\n",
      "Epoch 195/500\n",
      "16/16 [==============================] - 0s 5ms/step - loss: 605.8971 - val_loss: 345.9373\n",
      "Epoch 196/500\n",
      "16/16 [==============================] - 0s 4ms/step - loss: 596.3226 - val_loss: 338.6559\n",
      "Epoch 197/500\n",
      "16/16 [==============================] - 0s 5ms/step - loss: 586.8569 - val_loss: 331.4751\n",
      "Epoch 198/500\n",
      "16/16 [==============================] - 0s 5ms/step - loss: 577.4989 - val_loss: 324.3949\n",
      "Epoch 199/500\n",
      "16/16 [==============================] - 0s 4ms/step - loss: 568.2481 - val_loss: 317.4137\n",
      "Epoch 200/500\n",
      "16/16 [==============================] - 0s 5ms/step - loss: 559.1039 - val_loss: 310.5315\n",
      "Epoch 201/500\n",
      "16/16 [==============================] - 0s 5ms/step - loss: 550.0656 - val_loss: 303.7478\n",
      "Epoch 202/500\n",
      "16/16 [==============================] - 0s 4ms/step - loss: 541.1326 - val_loss: 297.0620\n",
      "Epoch 203/500\n",
      "16/16 [==============================] - 0s 4ms/step - loss: 532.3046 - val_loss: 290.4723\n",
      "Epoch 204/500\n",
      "16/16 [==============================] - 0s 7ms/step - loss: 523.5806 - val_loss: 283.9800\n",
      "Epoch 205/500\n",
      "16/16 [==============================] - 0s 5ms/step - loss: 514.9601 - val_loss: 277.5826\n",
      "Epoch 206/500\n",
      "16/16 [==============================] - 0s 4ms/step - loss: 506.4420 - val_loss: 271.2799\n",
      "Epoch 207/500\n",
      "16/16 [==============================] - 0s 4ms/step - loss: 498.0262 - val_loss: 265.0717\n",
      "Epoch 208/500\n",
      "16/16 [==============================] - 0s 4ms/step - loss: 489.7120 - val_loss: 258.9569\n",
      "Epoch 209/500\n",
      "16/16 [==============================] - 0s 4ms/step - loss: 481.4982 - val_loss: 252.9351\n",
      "Epoch 210/500\n",
      "16/16 [==============================] - 0s 4ms/step - loss: 473.3850 - val_loss: 247.0050\n",
      "Epoch 211/500\n",
      "16/16 [==============================] - 0s 3ms/step - loss: 465.3712 - val_loss: 241.1667\n",
      "Epoch 212/500\n",
      "16/16 [==============================] - 0s 4ms/step - loss: 457.4560 - val_loss: 235.4194\n",
      "Epoch 213/500\n",
      "16/16 [==============================] - 0s 5ms/step - loss: 449.6392 - val_loss: 229.7621\n",
      "Epoch 214/500\n",
      "16/16 [==============================] - 0s 4ms/step - loss: 441.9202 - val_loss: 224.1945\n",
      "Epoch 215/500\n",
      "16/16 [==============================] - 0s 12ms/step - loss: 434.2981 - val_loss: 218.7154\n",
      "Epoch 216/500\n",
      "16/16 [==============================] - 0s 5ms/step - loss: 426.7721 - val_loss: 213.3247\n",
      "Epoch 217/500\n",
      "16/16 [==============================] - 0s 5ms/step - loss: 419.3419 - val_loss: 208.0213\n",
      "Epoch 218/500\n",
      "16/16 [==============================] - 0s 4ms/step - loss: 412.0068 - val_loss: 202.8049\n",
      "Epoch 219/500\n",
      "16/16 [==============================] - 0s 4ms/step - loss: 404.7661 - val_loss: 197.6747\n",
      "Epoch 220/500\n",
      "16/16 [==============================] - 0s 4ms/step - loss: 397.6192 - val_loss: 192.6290\n",
      "Epoch 221/500\n",
      "16/16 [==============================] - 0s 5ms/step - loss: 390.5648 - val_loss: 187.6687\n",
      "Epoch 222/500\n",
      "16/16 [==============================] - 0s 5ms/step - loss: 383.6031 - val_loss: 182.7921\n",
      "Epoch 223/500\n",
      "16/16 [==============================] - 0s 4ms/step - loss: 376.7331 - val_loss: 177.9990\n",
      "Epoch 224/500\n",
      "16/16 [==============================] - 0s 4ms/step - loss: 369.9543 - val_loss: 173.2884\n",
      "Epoch 225/500\n",
      "16/16 [==============================] - 0s 4ms/step - loss: 363.2656 - val_loss: 168.6599\n",
      "Epoch 226/500\n",
      "16/16 [==============================] - 0s 4ms/step - loss: 356.6668 - val_loss: 164.1126\n",
      "Epoch 227/500\n",
      "16/16 [==============================] - 0s 3ms/step - loss: 350.1573 - val_loss: 159.6461\n",
      "Epoch 228/500\n",
      "16/16 [==============================] - 0s 4ms/step - loss: 343.7365 - val_loss: 155.2593\n",
      "Epoch 229/500\n",
      "16/16 [==============================] - 0s 4ms/step - loss: 337.4033 - val_loss: 150.9519\n",
      "Epoch 230/500\n",
      "16/16 [==============================] - 0s 5ms/step - loss: 331.1573 - val_loss: 146.7230\n",
      "Epoch 231/500\n",
      "16/16 [==============================] - 0s 6ms/step - loss: 324.9979 - val_loss: 142.5719\n",
      "Epoch 232/500\n",
      "16/16 [==============================] - 0s 6ms/step - loss: 318.9244 - val_loss: 138.4980\n",
      "Epoch 233/500\n",
      "16/16 [==============================] - 0s 4ms/step - loss: 312.9361 - val_loss: 134.5006\n",
      "Epoch 234/500\n",
      "16/16 [==============================] - 0s 4ms/step - loss: 307.0323 - val_loss: 130.5788\n",
      "Epoch 235/500\n",
      "16/16 [==============================] - 0s 4ms/step - loss: 301.2124 - val_loss: 126.7324\n",
      "Epoch 236/500\n",
      "16/16 [==============================] - 0s 4ms/step - loss: 295.4760 - val_loss: 122.9601\n",
      "Epoch 237/500\n",
      "16/16 [==============================] - 0s 4ms/step - loss: 289.8219 - val_loss: 119.2614\n",
      "Epoch 238/500\n",
      "16/16 [==============================] - 0s 4ms/step - loss: 284.2499 - val_loss: 115.6362\n",
      "Epoch 239/500\n",
      "16/16 [==============================] - 0s 4ms/step - loss: 278.7593 - val_loss: 112.0829\n",
      "Epoch 240/500\n",
      "16/16 [==============================] - 0s 4ms/step - loss: 273.3492 - val_loss: 108.6015\n",
      "Epoch 241/500\n",
      "16/16 [==============================] - 0s 4ms/step - loss: 268.0192 - val_loss: 105.1909\n",
      "Epoch 242/500\n",
      "16/16 [==============================] - 0s 10ms/step - loss: 262.7686 - val_loss: 101.8505\n",
      "Epoch 243/500\n",
      "16/16 [==============================] - 0s 4ms/step - loss: 257.5965 - val_loss: 98.5797\n",
      "Epoch 244/500\n",
      "16/16 [==============================] - 0s 4ms/step - loss: 252.5024 - val_loss: 95.3777\n",
      "Epoch 245/500\n",
      "16/16 [==============================] - 0s 4ms/step - loss: 247.4857 - val_loss: 92.2439\n",
      "Epoch 246/500\n",
      "16/16 [==============================] - 0s 4ms/step - loss: 242.5458 - val_loss: 89.1774\n",
      "Epoch 247/500\n",
      "16/16 [==============================] - 0s 4ms/step - loss: 237.6818 - val_loss: 86.1777\n",
      "Epoch 248/500\n",
      "16/16 [==============================] - 0s 4ms/step - loss: 232.8932 - val_loss: 83.2442\n",
      "Epoch 249/500\n",
      "16/16 [==============================] - 0s 4ms/step - loss: 228.1793 - val_loss: 80.3759\n",
      "Epoch 250/500\n",
      "16/16 [==============================] - 0s 4ms/step - loss: 223.5394 - val_loss: 77.5723\n",
      "Epoch 251/500\n",
      "16/16 [==============================] - 0s 4ms/step - loss: 218.9728 - val_loss: 74.8325\n",
      "Epoch 252/500\n",
      "16/16 [==============================] - 0s 3ms/step - loss: 214.4789 - val_loss: 72.1562\n",
      "Epoch 253/500\n",
      "16/16 [==============================] - 0s 3ms/step - loss: 210.0573 - val_loss: 69.5423\n",
      "Epoch 254/500\n",
      "16/16 [==============================] - 0s 3ms/step - loss: 205.7070 - val_loss: 66.9902\n",
      "Epoch 255/500\n",
      "16/16 [==============================] - 0s 4ms/step - loss: 201.4272 - val_loss: 64.4992\n",
      "Epoch 256/500\n",
      "16/16 [==============================] - 0s 4ms/step - loss: 197.2178 - val_loss: 62.0690\n",
      "Epoch 257/500\n",
      "16/16 [==============================] - 0s 4ms/step - loss: 193.0776 - val_loss: 59.6982\n",
      "Epoch 258/500\n",
      "16/16 [==============================] - 0s 4ms/step - loss: 189.0063 - val_loss: 57.3866\n",
      "Epoch 259/500\n",
      "16/16 [==============================] - 0s 3ms/step - loss: 185.0030 - val_loss: 55.1332\n",
      "Epoch 260/500\n",
      "16/16 [==============================] - 0s 4ms/step - loss: 181.0670 - val_loss: 52.9374\n",
      "Epoch 261/500\n",
      "16/16 [==============================] - 0s 4ms/step - loss: 177.1978 - val_loss: 50.7986\n",
      "Epoch 262/500\n",
      "16/16 [==============================] - 0s 4ms/step - loss: 173.3947 - val_loss: 48.7160\n",
      "Epoch 263/500\n",
      "16/16 [==============================] - 0s 4ms/step - loss: 169.6572 - val_loss: 46.6891\n",
      "Epoch 264/500\n",
      "16/16 [==============================] - 0s 4ms/step - loss: 165.9843 - val_loss: 44.7170\n",
      "Epoch 265/500\n",
      "16/16 [==============================] - 0s 4ms/step - loss: 162.3756 - val_loss: 42.7989\n",
      "Epoch 266/500\n",
      "16/16 [==============================] - 0s 4ms/step - loss: 158.8302 - val_loss: 40.9342\n",
      "Epoch 267/500\n",
      "16/16 [==============================] - 0s 4ms/step - loss: 155.3476 - val_loss: 39.1223\n",
      "Epoch 268/500\n",
      "16/16 [==============================] - 0s 4ms/step - loss: 151.9270 - val_loss: 37.3625\n",
      "Epoch 269/500\n",
      "16/16 [==============================] - 0s 10ms/step - loss: 148.5681 - val_loss: 35.6540\n",
      "Epoch 270/500\n",
      "16/16 [==============================] - 0s 4ms/step - loss: 145.2699 - val_loss: 33.9961\n",
      "Epoch 271/500\n",
      "16/16 [==============================] - 0s 4ms/step - loss: 142.0317 - val_loss: 32.3883\n",
      "Epoch 272/500\n",
      "16/16 [==============================] - 0s 4ms/step - loss: 138.8532 - val_loss: 30.8296\n",
      "Epoch 273/500\n",
      "16/16 [==============================] - 0s 5ms/step - loss: 135.7334 - val_loss: 29.3194\n",
      "Epoch 274/500\n",
      "16/16 [==============================] - 0s 4ms/step - loss: 132.6717 - val_loss: 27.8572\n",
      "Epoch 275/500\n",
      "16/16 [==============================] - 0s 5ms/step - loss: 129.6674 - val_loss: 26.4420\n",
      "Epoch 276/500\n",
      "16/16 [==============================] - 0s 5ms/step - loss: 126.7201 - val_loss: 25.0733\n",
      "Epoch 277/500\n",
      "16/16 [==============================] - 0s 4ms/step - loss: 123.8291 - val_loss: 23.7502\n",
      "Epoch 278/500\n",
      "16/16 [==============================] - 0s 4ms/step - loss: 120.9934 - val_loss: 22.4724\n",
      "Epoch 279/500\n",
      "16/16 [==============================] - 0s 4ms/step - loss: 118.2127 - val_loss: 21.2390\n",
      "Epoch 280/500\n",
      "16/16 [==============================] - 0s 4ms/step - loss: 115.4861 - val_loss: 20.0491\n",
      "Epoch 281/500\n",
      "16/16 [==============================] - 0s 4ms/step - loss: 112.8128 - val_loss: 18.9022\n",
      "Epoch 282/500\n",
      "16/16 [==============================] - 0s 4ms/step - loss: 110.1926 - val_loss: 17.7978\n",
      "Epoch 283/500\n",
      "16/16 [==============================] - 0s 3ms/step - loss: 107.6248 - val_loss: 16.7350\n",
      "Epoch 284/500\n",
      "16/16 [==============================] - 0s 4ms/step - loss: 105.1085 - val_loss: 15.7130\n",
      "Epoch 285/500\n",
      "16/16 [==============================] - 0s 4ms/step - loss: 102.6431 - val_loss: 14.7313\n",
      "Epoch 286/500\n",
      "16/16 [==============================] - 0s 4ms/step - loss: 100.2279 - val_loss: 13.7894\n",
      "Epoch 287/500\n",
      "16/16 [==============================] - 0s 7ms/step - loss: 97.8626 - val_loss: 12.8862\n",
      "Epoch 288/500\n",
      "16/16 [==============================] - 0s 6ms/step - loss: 95.5462 - val_loss: 12.0213\n",
      "Epoch 289/500\n",
      "16/16 [==============================] - 0s 4ms/step - loss: 93.2782 - val_loss: 11.1939\n",
      "Epoch 290/500\n",
      "16/16 [==============================] - 0s 4ms/step - loss: 91.0578 - val_loss: 10.4034\n",
      "Epoch 291/500\n",
      "16/16 [==============================] - 0s 4ms/step - loss: 88.8846 - val_loss: 9.6492\n",
      "Epoch 292/500\n",
      "16/16 [==============================] - 0s 4ms/step - loss: 86.7580 - val_loss: 8.9305\n",
      "Epoch 293/500\n",
      "16/16 [==============================] - 0s 4ms/step - loss: 84.6771 - val_loss: 8.2465\n",
      "Epoch 294/500\n",
      "16/16 [==============================] - 0s 4ms/step - loss: 82.6412 - val_loss: 7.5969\n",
      "Epoch 295/500\n",
      "16/16 [==============================] - 0s 4ms/step - loss: 80.6500 - val_loss: 6.9808\n",
      "Epoch 296/500\n",
      "16/16 [==============================] - 0s 4ms/step - loss: 78.7025 - val_loss: 6.3976\n",
      "Epoch 297/500\n",
      "16/16 [==============================] - 0s 4ms/step - loss: 76.7985 - val_loss: 5.8466\n",
      "Epoch 298/500\n",
      "16/16 [==============================] - 0s 4ms/step - loss: 74.9369 - val_loss: 5.3272\n",
      "Epoch 299/500\n",
      "16/16 [==============================] - 0s 9ms/step - loss: 73.1175 - val_loss: 4.8386\n",
      "Epoch 300/500\n",
      "16/16 [==============================] - 0s 5ms/step - loss: 71.3394 - val_loss: 4.3804\n",
      "Epoch 301/500\n",
      "16/16 [==============================] - 0s 4ms/step - loss: 69.6020 - val_loss: 3.9518\n",
      "Epoch 302/500\n",
      "16/16 [==============================] - 0s 4ms/step - loss: 67.9048 - val_loss: 3.5523\n",
      "Epoch 303/500\n",
      "16/16 [==============================] - 0s 4ms/step - loss: 66.2473 - val_loss: 3.1810\n",
      "Epoch 304/500\n",
      "16/16 [==============================] - 0s 4ms/step - loss: 64.6286 - val_loss: 2.8374\n",
      "Epoch 305/500\n",
      "16/16 [==============================] - 0s 4ms/step - loss: 63.0480 - val_loss: 2.5211\n",
      "Epoch 306/500\n",
      "16/16 [==============================] - 0s 4ms/step - loss: 61.5054 - val_loss: 2.2311\n",
      "Epoch 307/500\n",
      "16/16 [==============================] - 0s 4ms/step - loss: 59.9999 - val_loss: 1.9670\n",
      "Epoch 308/500\n",
      "16/16 [==============================] - 0s 4ms/step - loss: 58.5309 - val_loss: 1.7281\n",
      "Epoch 309/500\n",
      "16/16 [==============================] - 0s 5ms/step - loss: 57.0977 - val_loss: 1.5138\n",
      "Epoch 310/500\n",
      "16/16 [==============================] - 0s 4ms/step - loss: 55.7000 - val_loss: 1.3236\n",
      "Epoch 311/500\n",
      "16/16 [==============================] - 0s 6ms/step - loss: 54.3368 - val_loss: 1.1567\n",
      "Epoch 312/500\n",
      "16/16 [==============================] - 0s 5ms/step - loss: 53.0079 - val_loss: 1.0126\n",
      "Epoch 313/500\n",
      "16/16 [==============================] - 0s 5ms/step - loss: 51.7123 - val_loss: 0.8906\n",
      "Epoch 314/500\n",
      "16/16 [==============================] - 0s 4ms/step - loss: 50.4497 - val_loss: 0.7903\n",
      "Epoch 315/500\n",
      "16/16 [==============================] - 0s 6ms/step - loss: 49.2195 - val_loss: 0.7110\n",
      "Epoch 316/500\n",
      "16/16 [==============================] - 0s 5ms/step - loss: 48.0212 - val_loss: 0.6521\n",
      "Epoch 317/500\n",
      "16/16 [==============================] - 0s 4ms/step - loss: 46.8540 - val_loss: 0.6131\n",
      "Epoch 318/500\n",
      "16/16 [==============================] - 0s 4ms/step - loss: 45.7176 - val_loss: 0.5933\n",
      "Epoch 319/500\n",
      "16/16 [==============================] - 0s 4ms/step - loss: 44.6113 - val_loss: 0.5922\n",
      "Epoch 320/500\n",
      "16/16 [==============================] - 0s 6ms/step - loss: 43.5345 - val_loss: 0.6092\n",
      "Epoch 321/500\n",
      "16/16 [==============================] - 0s 7ms/step - loss: 42.4868 - val_loss: 0.6439\n",
      "Epoch 322/500\n",
      "16/16 [==============================] - 0s 6ms/step - loss: 41.4674 - val_loss: 0.6955\n",
      "Epoch 323/500\n",
      "16/16 [==============================] - 0s 6ms/step - loss: 40.4759 - val_loss: 0.7637\n",
      "Epoch 324/500\n",
      "16/16 [==============================] - 0s 12ms/step - loss: 39.5118 - val_loss: 0.8477\n",
      "Epoch 325/500\n",
      "16/16 [==============================] - 0s 6ms/step - loss: 38.5745 - val_loss: 0.9472\n",
      "Epoch 326/500\n",
      "16/16 [==============================] - 0s 6ms/step - loss: 37.6635 - val_loss: 1.0615\n",
      "Epoch 327/500\n",
      "16/16 [==============================] - 0s 5ms/step - loss: 36.7781 - val_loss: 1.1902\n",
      "Epoch 328/500\n",
      "16/16 [==============================] - 0s 5ms/step - loss: 35.9180 - val_loss: 1.3327\n",
      "Epoch 329/500\n",
      "16/16 [==============================] - 0s 5ms/step - loss: 35.0827 - val_loss: 1.4886\n",
      "Epoch 330/500\n",
      "16/16 [==============================] - 0s 5ms/step - loss: 34.2715 - val_loss: 1.6572\n",
      "Epoch 331/500\n",
      "16/16 [==============================] - 0s 4ms/step - loss: 33.4840 - val_loss: 1.8382\n",
      "Epoch 332/500\n",
      "16/16 [==============================] - 0s 5ms/step - loss: 32.7198 - val_loss: 2.0310\n",
      "Epoch 333/500\n",
      "16/16 [==============================] - 0s 6ms/step - loss: 31.9782 - val_loss: 2.2350\n",
      "Epoch 334/500\n",
      "16/16 [==============================] - 0s 8ms/step - loss: 31.2589 - val_loss: 2.4500\n",
      "Epoch 335/500\n",
      "16/16 [==============================] - 0s 7ms/step - loss: 30.5612 - val_loss: 2.6753\n",
      "Epoch 336/500\n",
      "16/16 [==============================] - 0s 6ms/step - loss: 29.8846 - val_loss: 2.9106\n",
      "Epoch 337/500\n",
      "16/16 [==============================] - 0s 5ms/step - loss: 29.2288 - val_loss: 3.1554\n",
      "Epoch 338/500\n",
      "16/16 [==============================] - 0s 5ms/step - loss: 28.5934 - val_loss: 3.4091\n",
      "Epoch 339/500\n",
      "16/16 [==============================] - 0s 4ms/step - loss: 27.9777 - val_loss: 3.6713\n",
      "Epoch 340/500\n",
      "16/16 [==============================] - 0s 4ms/step - loss: 27.3814 - val_loss: 3.9417\n",
      "Epoch 341/500\n",
      "16/16 [==============================] - 0s 4ms/step - loss: 26.8041 - val_loss: 4.2198\n",
      "Epoch 342/500\n",
      "16/16 [==============================] - 0s 4ms/step - loss: 26.2450 - val_loss: 4.5052\n",
      "Epoch 343/500\n",
      "16/16 [==============================] - 0s 5ms/step - loss: 25.7041 - val_loss: 4.7974\n",
      "Epoch 344/500\n",
      "16/16 [==============================] - 0s 4ms/step - loss: 25.1806 - val_loss: 5.0961\n",
      "Epoch 345/500\n",
      "16/16 [==============================] - 0s 4ms/step - loss: 24.6743 - val_loss: 5.4008\n",
      "Epoch 346/500\n",
      "16/16 [==============================] - 0s 4ms/step - loss: 24.1847 - val_loss: 5.7111\n",
      "Epoch 347/500\n",
      "16/16 [==============================] - 0s 4ms/step - loss: 23.7113 - val_loss: 6.0267\n",
      "Epoch 348/500\n",
      "16/16 [==============================] - 0s 4ms/step - loss: 23.2539 - val_loss: 6.3472\n",
      "Epoch 349/500\n",
      "16/16 [==============================] - 0s 4ms/step - loss: 22.8119 - val_loss: 6.6722\n",
      "Epoch 350/500\n",
      "16/16 [==============================] - 0s 4ms/step - loss: 22.3849 - val_loss: 7.0013\n",
      "Epoch 351/500\n",
      "16/16 [==============================] - 0s 4ms/step - loss: 21.9727 - val_loss: 7.3343\n",
      "Epoch 352/500\n",
      "16/16 [==============================] - 0s 6ms/step - loss: 21.5747 - val_loss: 7.6707\n",
      "Epoch 353/500\n",
      "16/16 [==============================] - 0s 12ms/step - loss: 21.1905 - val_loss: 8.0101\n",
      "Epoch 354/500\n",
      "16/16 [==============================] - 0s 6ms/step - loss: 20.8199 - val_loss: 8.3525\n",
      "Epoch 355/500\n",
      "16/16 [==============================] - 0s 5ms/step - loss: 20.4624 - val_loss: 8.6972\n",
      "Epoch 356/500\n",
      "16/16 [==============================] - 0s 6ms/step - loss: 20.1177 - val_loss: 9.0441\n",
      "Epoch 357/500\n",
      "16/16 [==============================] - 0s 6ms/step - loss: 19.7854 - val_loss: 9.3927\n",
      "Epoch 358/500\n",
      "16/16 [==============================] - 0s 7ms/step - loss: 19.4652 - val_loss: 9.7429\n",
      "Epoch 359/500\n",
      "16/16 [==============================] - 0s 5ms/step - loss: 19.1567 - val_loss: 10.0945\n",
      "Epoch 360/500\n",
      "16/16 [==============================] - 0s 5ms/step - loss: 18.8595 - val_loss: 10.4469\n",
      "Epoch 361/500\n",
      "16/16 [==============================] - 0s 6ms/step - loss: 18.5735 - val_loss: 10.8000\n",
      "Epoch 362/500\n",
      "16/16 [==============================] - 0s 4ms/step - loss: 18.2981 - val_loss: 11.1535\n",
      "Epoch 363/500\n",
      "16/16 [==============================] - 0s 4ms/step - loss: 18.0331 - val_loss: 11.5071\n",
      "Epoch 364/500\n",
      "16/16 [==============================] - 0s 4ms/step - loss: 17.7782 - val_loss: 11.8606\n",
      "Epoch 365/500\n",
      "16/16 [==============================] - 0s 4ms/step - loss: 17.5331 - val_loss: 12.2139\n",
      "Epoch 366/500\n",
      "16/16 [==============================] - 0s 4ms/step - loss: 17.2975 - val_loss: 12.5664\n",
      "Epoch 367/500\n",
      "16/16 [==============================] - 0s 4ms/step - loss: 17.0710 - val_loss: 12.9182\n",
      "Epoch 368/500\n",
      "16/16 [==============================] - 0s 6ms/step - loss: 16.8534 - val_loss: 13.2688\n",
      "Epoch 369/500\n",
      "16/16 [==============================] - 0s 4ms/step - loss: 16.6445 - val_loss: 13.6184\n",
      "Epoch 370/500\n",
      "16/16 [==============================] - 0s 4ms/step - loss: 16.4438 - val_loss: 13.9664\n",
      "Epoch 371/500\n",
      "16/16 [==============================] - 0s 4ms/step - loss: 16.2512 - val_loss: 14.3128\n",
      "Epoch 372/500\n",
      "16/16 [==============================] - 0s 4ms/step - loss: 16.0664 - val_loss: 14.6573\n",
      "Epoch 373/500\n",
      "16/16 [==============================] - 0s 4ms/step - loss: 15.8891 - val_loss: 14.9998\n",
      "Epoch 374/500\n",
      "16/16 [==============================] - 0s 4ms/step - loss: 15.7191 - val_loss: 15.3401\n",
      "Epoch 375/500\n",
      "16/16 [==============================] - 0s 4ms/step - loss: 15.5561 - val_loss: 15.6780\n",
      "Epoch 376/500\n",
      "16/16 [==============================] - 0s 4ms/step - loss: 15.3999 - val_loss: 16.0133\n",
      "Epoch 377/500\n",
      "16/16 [==============================] - 0s 5ms/step - loss: 15.2503 - val_loss: 16.3459\n",
      "Epoch 378/500\n",
      "16/16 [==============================] - 0s 5ms/step - loss: 15.1070 - val_loss: 16.6757\n",
      "Epoch 379/500\n",
      "16/16 [==============================] - 0s 14ms/step - loss: 14.9698 - val_loss: 17.0025\n",
      "Epoch 380/500\n",
      "16/16 [==============================] - 0s 7ms/step - loss: 14.8385 - val_loss: 17.3262\n",
      "Epoch 381/500\n",
      "16/16 [==============================] - 0s 6ms/step - loss: 14.7129 - val_loss: 17.6466\n",
      "Epoch 382/500\n",
      "16/16 [==============================] - 0s 5ms/step - loss: 14.5927 - val_loss: 17.9637\n",
      "Epoch 383/500\n",
      "16/16 [==============================] - 0s 5ms/step - loss: 14.4778 - val_loss: 18.2773\n",
      "Epoch 384/500\n",
      "16/16 [==============================] - 0s 4ms/step - loss: 14.3680 - val_loss: 18.5872\n",
      "Epoch 385/500\n",
      "16/16 [==============================] - 0s 4ms/step - loss: 14.2630 - val_loss: 18.8935\n",
      "Epoch 386/500\n",
      "16/16 [==============================] - 0s 4ms/step - loss: 14.1627 - val_loss: 19.1961\n",
      "Epoch 387/500\n",
      "16/16 [==============================] - 0s 4ms/step - loss: 14.0670 - val_loss: 19.4947\n",
      "Epoch 388/500\n",
      "16/16 [==============================] - 0s 5ms/step - loss: 13.9756 - val_loss: 19.7896\n",
      "Epoch 389/500\n",
      "16/16 [==============================] - 0s 5ms/step - loss: 13.8883 - val_loss: 20.0804\n",
      "Epoch 390/500\n",
      "16/16 [==============================] - 0s 5ms/step - loss: 13.8051 - val_loss: 20.3672\n",
      "Epoch 391/500\n",
      "16/16 [==============================] - 0s 5ms/step - loss: 13.7257 - val_loss: 20.6496\n",
      "Epoch 392/500\n",
      "16/16 [==============================] - 0s 5ms/step - loss: 13.6500 - val_loss: 20.9279\n",
      "Epoch 393/500\n",
      "16/16 [==============================] - 0s 4ms/step - loss: 13.5778 - val_loss: 21.2020\n",
      "Epoch 394/500\n",
      "16/16 [==============================] - 0s 4ms/step - loss: 13.5091 - val_loss: 21.4715\n",
      "Epoch 395/500\n",
      "16/16 [==============================] - 0s 3ms/step - loss: 13.4436 - val_loss: 21.7369\n",
      "Epoch 396/500\n",
      "16/16 [==============================] - 0s 3ms/step - loss: 13.3813 - val_loss: 21.9978\n",
      "Epoch 397/500\n",
      "16/16 [==============================] - 0s 3ms/step - loss: 13.3220 - val_loss: 22.2542\n",
      "Epoch 398/500\n",
      "16/16 [==============================] - 0s 4ms/step - loss: 13.2655 - val_loss: 22.5063\n",
      "Epoch 399/500\n",
      "16/16 [==============================] - 0s 4ms/step - loss: 13.2118 - val_loss: 22.7539\n",
      "Epoch 400/500\n",
      "16/16 [==============================] - 0s 4ms/step - loss: 13.1607 - val_loss: 22.9969\n",
      "Epoch 401/500\n",
      "16/16 [==============================] - 0s 3ms/step - loss: 13.1121 - val_loss: 23.2357\n",
      "Epoch 402/500\n",
      "16/16 [==============================] - 0s 4ms/step - loss: 13.0659 - val_loss: 23.4697\n",
      "Epoch 403/500\n",
      "16/16 [==============================] - 0s 4ms/step - loss: 13.0221 - val_loss: 23.6993\n",
      "Epoch 404/500\n",
      "16/16 [==============================] - 0s 10ms/step - loss: 12.9804 - val_loss: 23.9244\n",
      "Epoch 405/500\n",
      "16/16 [==============================] - 0s 5ms/step - loss: 12.9408 - val_loss: 24.1449\n",
      "Epoch 406/500\n",
      "16/16 [==============================] - 0s 4ms/step - loss: 12.9032 - val_loss: 24.3610\n",
      "Epoch 407/500\n",
      "16/16 [==============================] - 0s 4ms/step - loss: 12.8676 - val_loss: 24.5726\n",
      "Epoch 408/500\n",
      "16/16 [==============================] - 0s 4ms/step - loss: 12.8337 - val_loss: 24.7797\n",
      "Epoch 409/500\n",
      "16/16 [==============================] - 0s 4ms/step - loss: 12.8016 - val_loss: 24.9824\n",
      "Epoch 410/500\n",
      "16/16 [==============================] - 0s 4ms/step - loss: 12.7711 - val_loss: 25.1807\n",
      "Epoch 411/500\n",
      "16/16 [==============================] - 0s 5ms/step - loss: 12.7423 - val_loss: 25.3744\n",
      "Epoch 412/500\n",
      "16/16 [==============================] - 0s 4ms/step - loss: 12.7150 - val_loss: 25.5640\n",
      "Epoch 413/500\n",
      "16/16 [==============================] - 0s 4ms/step - loss: 12.6890 - val_loss: 25.7491\n",
      "Epoch 414/500\n",
      "16/16 [==============================] - 0s 5ms/step - loss: 12.6645 - val_loss: 25.9299\n",
      "Epoch 415/500\n",
      "16/16 [==============================] - 0s 3ms/step - loss: 12.6412 - val_loss: 26.1064\n",
      "Epoch 416/500\n",
      "16/16 [==============================] - 0s 4ms/step - loss: 12.6192 - val_loss: 26.2785\n",
      "Epoch 417/500\n",
      "16/16 [==============================] - 0s 5ms/step - loss: 12.5983 - val_loss: 26.4467\n",
      "Epoch 418/500\n",
      "16/16 [==============================] - 0s 4ms/step - loss: 12.5786 - val_loss: 26.6107\n",
      "Epoch 419/500\n",
      "16/16 [==============================] - 0s 4ms/step - loss: 12.5599 - val_loss: 26.7704\n",
      "Epoch 420/500\n",
      "16/16 [==============================] - 0s 5ms/step - loss: 12.5423 - val_loss: 26.9263\n",
      "Epoch 421/500\n",
      "16/16 [==============================] - 0s 4ms/step - loss: 12.5256 - val_loss: 27.0781\n",
      "Epoch 422/500\n",
      "16/16 [==============================] - 0s 4ms/step - loss: 12.5098 - val_loss: 27.2258\n",
      "Epoch 423/500\n",
      "16/16 [==============================] - 0s 5ms/step - loss: 12.4948 - val_loss: 27.3696\n",
      "Epoch 424/500\n",
      "16/16 [==============================] - 0s 4ms/step - loss: 12.4807 - val_loss: 27.5097\n",
      "Epoch 425/500\n",
      "16/16 [==============================] - 0s 4ms/step - loss: 12.4674 - val_loss: 27.6459\n",
      "Epoch 426/500\n",
      "16/16 [==============================] - 0s 3ms/step - loss: 12.4548 - val_loss: 27.7783\n",
      "Epoch 427/500\n",
      "16/16 [==============================] - 0s 3ms/step - loss: 12.4429 - val_loss: 27.9072\n",
      "Epoch 428/500\n",
      "16/16 [==============================] - 0s 3ms/step - loss: 12.4316 - val_loss: 28.0323\n",
      "Epoch 429/500\n",
      "16/16 [==============================] - 0s 3ms/step - loss: 12.4210 - val_loss: 28.1540\n",
      "Epoch 430/500\n",
      "16/16 [==============================] - 0s 3ms/step - loss: 12.4110 - val_loss: 28.2719\n",
      "Epoch 431/500\n",
      "16/16 [==============================] - 0s 3ms/step - loss: 12.4016 - val_loss: 28.3865\n",
      "Epoch 432/500\n",
      "16/16 [==============================] - 0s 4ms/step - loss: 12.3926 - val_loss: 28.4978\n",
      "Epoch 433/500\n",
      "16/16 [==============================] - 0s 4ms/step - loss: 12.3842 - val_loss: 28.6056\n",
      "Epoch 434/500\n",
      "16/16 [==============================] - 0s 4ms/step - loss: 12.3763 - val_loss: 28.7104\n",
      "Epoch 435/500\n",
      "16/16 [==============================] - 0s 4ms/step - loss: 12.3687 - val_loss: 28.8119\n",
      "Epoch 436/500\n",
      "16/16 [==============================] - 0s 8ms/step - loss: 12.3617 - val_loss: 28.9103\n",
      "Epoch 437/500\n",
      "16/16 [==============================] - 0s 4ms/step - loss: 12.3550 - val_loss: 29.0057\n",
      "Epoch 438/500\n",
      "16/16 [==============================] - 0s 4ms/step - loss: 12.3487 - val_loss: 29.0979\n",
      "Epoch 439/500\n",
      "16/16 [==============================] - 0s 4ms/step - loss: 12.3427 - val_loss: 29.1872\n",
      "Epoch 440/500\n",
      "16/16 [==============================] - 0s 4ms/step - loss: 12.3372 - val_loss: 29.2738\n",
      "Epoch 441/500\n",
      "16/16 [==============================] - 0s 4ms/step - loss: 12.3319 - val_loss: 29.3573\n",
      "Epoch 442/500\n",
      "16/16 [==============================] - 0s 4ms/step - loss: 12.3269 - val_loss: 29.4381\n",
      "Epoch 443/500\n",
      "16/16 [==============================] - 0s 4ms/step - loss: 12.3222 - val_loss: 29.5163\n",
      "Epoch 444/500\n",
      "16/16 [==============================] - 0s 4ms/step - loss: 12.3178 - val_loss: 29.5917\n",
      "Epoch 445/500\n",
      "16/16 [==============================] - 0s 4ms/step - loss: 12.3137 - val_loss: 29.6649\n",
      "Epoch 446/500\n",
      "16/16 [==============================] - 0s 4ms/step - loss: 12.3097 - val_loss: 29.7354\n",
      "Epoch 447/500\n",
      "16/16 [==============================] - 0s 3ms/step - loss: 12.3060 - val_loss: 29.8034\n",
      "Epoch 448/500\n",
      "16/16 [==============================] - 0s 4ms/step - loss: 12.3025 - val_loss: 29.8691\n",
      "Epoch 449/500\n",
      "16/16 [==============================] - 0s 3ms/step - loss: 12.2992 - val_loss: 29.9324\n",
      "Epoch 450/500\n",
      "16/16 [==============================] - 0s 3ms/step - loss: 12.2962 - val_loss: 29.9934\n",
      "Epoch 451/500\n",
      "16/16 [==============================] - 0s 5ms/step - loss: 12.2932 - val_loss: 30.0524\n",
      "Epoch 452/500\n",
      "16/16 [==============================] - 0s 4ms/step - loss: 12.2905 - val_loss: 30.1091\n",
      "Epoch 453/500\n",
      "16/16 [==============================] - 0s 4ms/step - loss: 12.2880 - val_loss: 30.1639\n",
      "Epoch 454/500\n",
      "16/16 [==============================] - 0s 5ms/step - loss: 12.2855 - val_loss: 30.2166\n",
      "Epoch 455/500\n",
      "16/16 [==============================] - 0s 4ms/step - loss: 12.2832 - val_loss: 30.2674\n",
      "Epoch 456/500\n",
      "16/16 [==============================] - 0s 4ms/step - loss: 12.2811 - val_loss: 30.3161\n",
      "Epoch 457/500\n",
      "16/16 [==============================] - 0s 4ms/step - loss: 12.2791 - val_loss: 30.3630\n",
      "Epoch 458/500\n",
      "16/16 [==============================] - 0s 3ms/step - loss: 12.2772 - val_loss: 30.4083\n",
      "Epoch 459/500\n",
      "16/16 [==============================] - 0s 4ms/step - loss: 12.2754 - val_loss: 30.4516\n",
      "Epoch 460/500\n",
      "16/16 [==============================] - 0s 3ms/step - loss: 12.2737 - val_loss: 30.4934\n",
      "Epoch 461/500\n",
      "16/16 [==============================] - 0s 3ms/step - loss: 12.2721 - val_loss: 30.5334\n",
      "Epoch 462/500\n",
      "16/16 [==============================] - 0s 4ms/step - loss: 12.2707 - val_loss: 30.5720\n",
      "Epoch 463/500\n",
      "16/16 [==============================] - 0s 4ms/step - loss: 12.2692 - val_loss: 30.6091\n",
      "Epoch 464/500\n",
      "16/16 [==============================] - 0s 4ms/step - loss: 12.2679 - val_loss: 30.6445\n",
      "Epoch 465/500\n",
      "16/16 [==============================] - 0s 5ms/step - loss: 12.2667 - val_loss: 30.6785\n",
      "Epoch 466/500\n",
      "16/16 [==============================] - 0s 8ms/step - loss: 12.2655 - val_loss: 30.7113\n",
      "Epoch 467/500\n",
      "16/16 [==============================] - 0s 4ms/step - loss: 12.2645 - val_loss: 30.7426\n",
      "Epoch 468/500\n",
      "16/16 [==============================] - 0s 4ms/step - loss: 12.2635 - val_loss: 30.7727\n",
      "Epoch 469/500\n",
      "16/16 [==============================] - 0s 4ms/step - loss: 12.2625 - val_loss: 30.8014\n",
      "Epoch 470/500\n",
      "16/16 [==============================] - 0s 4ms/step - loss: 12.2616 - val_loss: 30.8288\n",
      "Epoch 471/500\n",
      "16/16 [==============================] - 0s 4ms/step - loss: 12.2608 - val_loss: 30.8553\n",
      "Epoch 472/500\n",
      "16/16 [==============================] - 0s 4ms/step - loss: 12.2600 - val_loss: 30.8806\n",
      "Epoch 473/500\n",
      "16/16 [==============================] - 0s 4ms/step - loss: 12.2592 - val_loss: 30.9045\n",
      "Epoch 474/500\n",
      "16/16 [==============================] - 0s 4ms/step - loss: 12.2586 - val_loss: 30.9277\n",
      "Epoch 475/500\n",
      "16/16 [==============================] - 0s 4ms/step - loss: 12.2580 - val_loss: 30.9497\n",
      "Epoch 476/500\n",
      "16/16 [==============================] - 0s 4ms/step - loss: 12.2574 - val_loss: 30.9708\n",
      "Epoch 477/500\n",
      "16/16 [==============================] - 0s 4ms/step - loss: 12.2568 - val_loss: 30.9911\n",
      "Epoch 478/500\n",
      "16/16 [==============================] - 0s 4ms/step - loss: 12.2563 - val_loss: 31.0104\n",
      "Epoch 479/500\n",
      "16/16 [==============================] - 0s 4ms/step - loss: 12.2558 - val_loss: 31.0286\n",
      "Epoch 480/500\n",
      "16/16 [==============================] - 0s 3ms/step - loss: 12.2554 - val_loss: 31.0463\n",
      "Epoch 481/500\n",
      "16/16 [==============================] - 0s 4ms/step - loss: 12.2550 - val_loss: 31.0629\n",
      "Epoch 482/500\n",
      "16/16 [==============================] - 0s 5ms/step - loss: 12.2546 - val_loss: 31.0790\n",
      "Epoch 483/500\n",
      "16/16 [==============================] - 0s 4ms/step - loss: 12.2543 - val_loss: 31.0943\n",
      "Epoch 484/500\n",
      "16/16 [==============================] - 0s 4ms/step - loss: 12.2539 - val_loss: 31.1087\n",
      "Epoch 485/500\n",
      "16/16 [==============================] - 0s 4ms/step - loss: 12.2536 - val_loss: 31.1224\n",
      "Epoch 486/500\n",
      "16/16 [==============================] - 0s 4ms/step - loss: 12.2534 - val_loss: 31.1354\n",
      "Epoch 487/500\n",
      "16/16 [==============================] - 0s 4ms/step - loss: 12.2532 - val_loss: 31.1479\n",
      "Epoch 488/500\n",
      "16/16 [==============================] - 0s 5ms/step - loss: 12.2529 - val_loss: 31.1598\n",
      "Epoch 489/500\n",
      "16/16 [==============================] - 0s 4ms/step - loss: 12.2527 - val_loss: 31.1711\n",
      "Epoch 490/500\n",
      "16/16 [==============================] - 0s 4ms/step - loss: 12.2525 - val_loss: 31.1818\n",
      "Epoch 491/500\n",
      "16/16 [==============================] - 0s 3ms/step - loss: 12.2524 - val_loss: 31.1920\n",
      "Epoch 492/500\n",
      "16/16 [==============================] - 0s 3ms/step - loss: 12.2522 - val_loss: 31.2015\n",
      "Epoch 493/500\n",
      "16/16 [==============================] - 0s 3ms/step - loss: 12.2521 - val_loss: 31.2109\n",
      "Epoch 494/500\n",
      "16/16 [==============================] - 0s 3ms/step - loss: 12.2520 - val_loss: 31.2197\n",
      "Epoch 495/500\n",
      "16/16 [==============================] - 0s 4ms/step - loss: 12.2519 - val_loss: 31.2280\n",
      "Epoch 496/500\n",
      "16/16 [==============================] - 0s 9ms/step - loss: 12.2518 - val_loss: 31.2356\n",
      "Epoch 497/500\n",
      "16/16 [==============================] - 0s 4ms/step - loss: 12.2518 - val_loss: 31.2432\n",
      "Epoch 498/500\n",
      "16/16 [==============================] - 0s 4ms/step - loss: 12.2517 - val_loss: 31.2501\n",
      "Epoch 499/500\n",
      "16/16 [==============================] - 0s 3ms/step - loss: 12.2517 - val_loss: 31.2568\n",
      "Epoch 500/500\n",
      "16/16 [==============================] - 0s 3ms/step - loss: 12.2517 - val_loss: 31.2632\n"
     ]
    }
   ],
   "source": [
    "C0 = tf.Variable(86.6856, name=\"C0\", trainable=True, dtype=tf.float32)\n",
    "K0 = tf.Variable(-0.0008, name=\"K0\", trainable=True, dtype=tf.float32)\n",
    "K1 = tf.Variable(-0.0002, name=\"K1\", trainable=True, dtype=tf.float32)\n",
    "a = tf.Variable(0.0000, name=\"a\", trainable=True, dtype=tf.float32)\n",
    "b = tf.Variable(0.0128, name=\"b\", trainable=True, dtype=tf.float32)\n",
    "c = tf.Variable(-2.3003, name=\"c\", trainable=True, dtype=tf.float32)\n",
    "\n",
    "splitr = 0.8\n",
    "\n",
    "\n",
    "def loss_fn(y_true, y_pred):\n",
    "    squared_difference = tf.square(y_true[:, 0] - y_pred[:, 0])\n",
    "    #squared_difference2 = tf.square(y_true[:, 2]-y_pred[:, 2])\n",
    "    #squared_difference1 = tf.square(y_true[:, 1]-y_pred[:, 1])\n",
    "    epsilon = 1\n",
    "    squared_difference3 = tf.square(\n",
    "        y_pred[:, 1] - (\n",
    "            y_pred[:, 0] * (\n",
    "                K0 - K1 * (\n",
    "                    9 * a * tf.math.log((y_pred[:, 0] + epsilon) / C0) / (K0 - K1 * c)**2 +\n",
    "                    4 * b * tf.math.log((y_pred[:, 0] + epsilon) / C0) / (K0 - K1 * c) + c\n",
    "                )\n",
    "            )\n",
    "        )\n",
    "    )\n",
    "    return tf.reduce_mean(squared_difference, axis=-1) + 0.2*tf.reduce_mean(squared_difference3, axis=-1)\n",
    "model = Sequential()\n",
    "model.add(LSTM(100, input_shape=(trainX.shape[1], trainX.shape[2])))\n",
    "model.add(Dense(60))\n",
    "model.compile(loss=loss_fn, optimizer='adam')\n",
    "history = model.fit(trainX[:int(splitr*trainX.shape[0])], trainy[:int(splitr*trainX.shape[0])], epochs=500, batch_size=64, validation_data=(trainX[int(splitr*trainX.shape[0]):trainX.shape[0]], trainy[int(splitr*trainX.shape[0]):trainX.shape[0]]), shuffle=False)"
   ]
  },
  {
   "cell_type": "code",
   "execution_count": 19,
   "metadata": {
    "colab": {
     "base_uri": "https://localhost:8080/"
    },
    "id": "yJL101rPyuoT",
    "outputId": "239ff2b1-c186-423a-d316-939dfdd7c793"
   },
   "outputs": [
    {
     "name": "stdout",
     "output_type": "stream",
     "text": [
      "1/1 [==============================] - 0s 343ms/step\n"
     ]
    }
   ],
   "source": [
    "forecast_without_mc = forecastX\n",
    "yhat_without_mc = model.predict(forecast_without_mc) # Step Ahead Prediction\n",
    "forecast_without_mc = forecast_without_mc.reshape((forecast_without_mc.shape[0], forecast_without_mc.shape[2])) # Historical Input"
   ]
  },
  {
   "cell_type": "code",
   "execution_count": 20,
   "metadata": {
    "colab": {
     "base_uri": "https://localhost:8080/"
    },
    "id": "g9dQELcJ8wbp",
    "outputId": "4dc7671b-b1a8-48d5-8744-a86f98446109"
   },
   "outputs": [
    {
     "data": {
      "text/plain": [
       "(1, 1, 251)"
      ]
     },
     "execution_count": 20,
     "metadata": {},
     "output_type": "execute_result"
    }
   ],
   "source": [
    "forecastX.shape"
   ]
  },
  {
   "cell_type": "code",
   "execution_count": 21,
   "metadata": {
    "colab": {
     "base_uri": "https://localhost:8080/"
    },
    "id": "IS2kyIKG1Kbr",
    "outputId": "f31b3485-8e26-452f-9298-ea8bf7e80ad1"
   },
   "outputs": [
    {
     "data": {
      "text/plain": [
       "(1, 251)"
      ]
     },
     "execution_count": 21,
     "metadata": {},
     "output_type": "execute_result"
    }
   ],
   "source": [
    "forecast_without_mc.shape"
   ]
  },
  {
   "cell_type": "code",
   "execution_count": 22,
   "metadata": {
    "id": "0u6VIzaDyuoT"
   },
   "outputs": [],
   "source": [
    "inv_yhat_without_mc = np.concatenate((forecast_without_mc, yhat_without_mc), axis=1) # Concatenation of predicted values with Historical Data\n",
    "#inv_yhat_without_mc = scaler.inverse_transform(inv_yhat_without_mc) # Transform labels back to original encoding"
   ]
  },
  {
   "cell_type": "code",
   "execution_count": 23,
   "metadata": {
    "colab": {
     "base_uri": "https://localhost:8080/"
    },
    "id": "EUEcw0LX07oU",
    "outputId": "cfc32397-9c37-4b43-d087-584bb31c3dcc"
   },
   "outputs": [
    {
     "data": {
      "text/plain": [
       "(1, 311)"
      ]
     },
     "execution_count": 23,
     "metadata": {},
     "output_type": "execute_result"
    }
   ],
   "source": [
    "inv_yhat_without_mc.shape"
   ]
  },
  {
   "cell_type": "code",
   "execution_count": 24,
   "metadata": {
    "id": "31OWVbSh_305"
   },
   "outputs": [],
   "source": [
    "fforecast = inv_yhat_without_mc[:,-300:]"
   ]
  },
  {
   "cell_type": "code",
   "execution_count": 25,
   "metadata": {},
   "outputs": [
    {
     "data": {
      "text/plain": [
       "(1, 300)"
      ]
     },
     "execution_count": 25,
     "metadata": {},
     "output_type": "execute_result"
    }
   ],
   "source": [
    "fforecast.shape"
   ]
  },
  {
   "cell_type": "code",
   "execution_count": 26,
   "metadata": {
    "id": "BlpGH2FOAiRF"
   },
   "outputs": [],
   "source": [
    "final_forecast = fforecast[:,0:300:3]"
   ]
  },
  {
   "cell_type": "code",
   "execution_count": 27,
   "metadata": {},
   "outputs": [
    {
     "data": {
      "text/plain": [
       "(1, 300)"
      ]
     },
     "execution_count": 27,
     "metadata": {},
     "output_type": "execute_result"
    }
   ],
   "source": [
    "fforecast.shape"
   ]
  },
  {
   "cell_type": "code",
   "execution_count": 28,
   "metadata": {
    "id": "CXkgkj_LBk_t"
   },
   "outputs": [],
   "source": [
    "# code to replace all negative value with 0\n",
    "final_forecast[final_forecast<0] = 0"
   ]
  },
  {
   "cell_type": "code",
   "execution_count": 29,
   "metadata": {},
   "outputs": [
    {
     "data": {
      "text/plain": [
       "array([[7.01427871e+01, 7.01343837e+01, 7.01259804e+01, 7.01175770e+01,\n",
       "        7.01091737e+01, 7.01007703e+01, 7.00923669e+01, 7.00839636e+01,\n",
       "        7.00755602e+01, 7.00671569e+01, 7.00587535e+01, 7.00503501e+01,\n",
       "        7.00419468e+01, 7.00335434e+01, 7.00251401e+01, 7.00167367e+01,\n",
       "        7.00083333e+01, 6.99999300e+01, 6.99915266e+01, 6.99831233e+01,\n",
       "        6.99747199e+01, 6.99663165e+01, 6.99579132e+01, 6.99495098e+01,\n",
       "        6.99411064e+01, 6.99327031e+01, 6.99242997e+01, 6.99158964e+01,\n",
       "        6.99074930e+01, 6.98990896e+01, 6.98906863e+01, 6.98822829e+01,\n",
       "        6.98738795e+01, 6.98654762e+01, 6.98570728e+01, 6.98486695e+01,\n",
       "        6.98402661e+01, 6.98318627e+01, 6.98234594e+01, 6.98150560e+01,\n",
       "        6.98066527e+01, 6.97883287e+01, 6.97323063e+01, 6.96762839e+01,\n",
       "        6.96202614e+01, 6.95642390e+01, 6.95082166e+01, 6.94521942e+01,\n",
       "        6.93961718e+01, 6.93401494e+01, 6.92841270e+01, 6.92281046e+01,\n",
       "        6.91720822e+01, 6.91160598e+01, 6.90600374e+01, 6.90040149e+01,\n",
       "        6.89479925e+01, 6.88919701e+01, 6.88359477e+01, 6.87799253e+01,\n",
       "        6.87239029e+01, 6.86678805e+01, 6.86118581e+01, 6.85558357e+01,\n",
       "        6.84998133e+01, 6.84437908e+01, 6.83877684e+01, 6.83317460e+01,\n",
       "        6.82757236e+01, 6.82197012e+01, 6.81636788e+01, 6.81076564e+01,\n",
       "        6.80516340e+01, 6.79956116e+01, 6.79395892e+01, 6.78835668e+01,\n",
       "        6.78275443e+01, 6.77847642e+01, 6.77547922e+01, 6.77248203e+01,\n",
       "        7.49386597e+01, 0.00000000e+00, 0.00000000e+00, 0.00000000e+00,\n",
       "        0.00000000e+00, 2.26760343e-01, 4.88929823e-02, 5.72302759e-01,\n",
       "        1.96406811e-01, 3.88379961e-01, 0.00000000e+00, 0.00000000e+00,\n",
       "        0.00000000e+00, 0.00000000e+00, 3.19723994e-01, 0.00000000e+00,\n",
       "        3.58016789e-01, 0.00000000e+00, 0.00000000e+00, 0.00000000e+00]])"
      ]
     },
     "execution_count": 29,
     "metadata": {},
     "output_type": "execute_result"
    }
   ],
   "source": [
    "final_forecast"
   ]
  },
  {
   "cell_type": "code",
   "execution_count": 30,
   "metadata": {},
   "outputs": [
    {
     "data": {
      "text/plain": [
       "(1, 100)"
      ]
     },
     "execution_count": 30,
     "metadata": {},
     "output_type": "execute_result"
    }
   ],
   "source": [
    "final_forecast.shape"
   ]
  },
  {
   "cell_type": "code",
   "execution_count": 31,
   "metadata": {},
   "outputs": [
    {
     "data": {
      "text/plain": [
       "(100,)"
      ]
     },
     "execution_count": 31,
     "metadata": {},
     "output_type": "execute_result"
    }
   ],
   "source": [
    "test.shape"
   ]
  },
  {
   "cell_type": "code",
   "execution_count": 32,
   "metadata": {},
   "outputs": [],
   "source": [
    "training_set = np.array(training_set)\n",
    "test = np.array(test)\n",
    "final_forecast = np.array(final_forecast.squeeze(0))"
   ]
  },
  {
   "cell_type": "code",
   "execution_count": 33,
   "metadata": {},
   "outputs": [
    {
     "data": {
      "text/plain": [
       "array([65.6493254 , 65.63877451, 65.62822362, 65.61767274, 65.60712185,\n",
       "       65.59726891, 65.58886555, 65.58046218, 65.57205882, 65.56365546,\n",
       "       65.5552521 , 65.54684874, 65.53844538, 65.53004202, 65.52163866,\n",
       "       65.51323529, 65.50483193, 65.49642857, 65.48802521, 65.47962185,\n",
       "       65.47121849, 65.46281513, 65.45441176, 65.4460084 , 65.43760504,\n",
       "       65.42920168, 65.42079832, 65.41239496, 65.4039916 , 65.39558824,\n",
       "       65.38718487, 65.37878151, 65.37037815, 65.36197479, 65.35357143,\n",
       "       65.34516807, 65.33676471, 65.32836134, 65.31995798, 65.31155462,\n",
       "       65.30315126, 65.2947479 , 65.28634454, 65.27794118, 65.26953782,\n",
       "       65.26113445, 65.25273109, 65.24432773, 65.23592437, 65.22752101,\n",
       "       65.21911765, 65.21071429, 65.20231092, 65.19390756, 65.1855042 ,\n",
       "       65.17710084, 65.16869748, 65.16029412, 65.15189076, 65.14348739,\n",
       "       65.13508403, 65.12668067, 65.11827731, 65.10987395, 65.10147059,\n",
       "       65.09306723, 65.08466387, 65.0762605 , 65.06785714, 65.05945378,\n",
       "       65.05105042, 65.04264706, 65.0342437 , 65.02584034, 65.01743697,\n",
       "       65.00903361, 65.00063025, 64.99222689, 64.98382353, 64.97542017,\n",
       "       64.96701681, 64.95861345, 64.95021008, 64.94180672, 64.93340336,\n",
       "       64.925     , 64.91659664, 64.90819328, 64.89978992, 64.89138655,\n",
       "       64.88298319, 64.87457983, 64.86617647, 64.85777311, 64.84936975,\n",
       "       64.84096639, 64.83256303, 64.82415966, 64.8157563 , 64.80735294])"
      ]
     },
     "execution_count": 33,
     "metadata": {},
     "output_type": "execute_result"
    }
   ],
   "source": [
    "test"
   ]
  },
  {
   "cell_type": "code",
   "execution_count": 34,
   "metadata": {},
   "outputs": [
    {
     "data": {
      "text/plain": [
       "(100,)"
      ]
     },
     "execution_count": 34,
     "metadata": {},
     "output_type": "execute_result"
    }
   ],
   "source": [
    "test.shape"
   ]
  },
  {
   "cell_type": "code",
   "execution_count": 35,
   "metadata": {},
   "outputs": [
    {
     "data": {
      "text/plain": [
       "(100,)"
      ]
     },
     "execution_count": 35,
     "metadata": {},
     "output_type": "execute_result"
    }
   ],
   "source": [
    "final_forecast.shape"
   ]
  },
  {
   "cell_type": "code",
   "execution_count": 36,
   "metadata": {},
   "outputs": [
    {
     "data": {
      "text/plain": [
       "(100,)"
      ]
     },
     "execution_count": 36,
     "metadata": {},
     "output_type": "execute_result"
    }
   ],
   "source": [
    "test.shape"
   ]
  },
  {
   "cell_type": "code",
   "execution_count": 37,
   "metadata": {},
   "outputs": [
    {
     "name": "stdout",
     "output_type": "stream",
     "text": [
      "28.488254443693464\n",
      "15.653344878790268\n"
     ]
    }
   ],
   "source": [
    "import math\n",
    "MSE = np.square(np.subtract(np.array(test),np.array(final_forecast))).mean()   \n",
    "rsme = math.sqrt(MSE)\n",
    "print(rsme)  \n",
    "MAE = np.abs(np.subtract(np.array(test),np.array(final_forecast))).mean()   \n",
    "mae = MAE\n",
    "print(mae)"
   ]
  }
 ],
 "metadata": {
  "colab": {
   "provenance": []
  },
  "kernelspec": {
   "display_name": "Python 3",
   "language": "python",
   "name": "python3"
  },
  "language_info": {
   "codemirror_mode": {
    "name": "ipython",
    "version": 3
   },
   "file_extension": ".py",
   "mimetype": "text/x-python",
   "name": "python",
   "nbconvert_exporter": "python",
   "pygments_lexer": "ipython3",
   "version": "3.9.13"
  }
 },
 "nbformat": 4,
 "nbformat_minor": 0
}
