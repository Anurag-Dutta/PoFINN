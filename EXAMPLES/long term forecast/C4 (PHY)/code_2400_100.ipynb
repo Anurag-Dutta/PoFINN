{
 "cells": [
  {
   "cell_type": "markdown",
   "metadata": {
    "id": "pCGKeZ2gyuoQ"
   },
   "source": [
    "_Importing Required Libraries_"
   ]
  },
  {
   "cell_type": "code",
   "execution_count": 1,
   "metadata": {
    "colab": {
     "base_uri": "https://localhost:8080/"
    },
    "id": "A-6LN-zXiLcM",
    "outputId": "4de610a4-f8b8-4f49-c6c0-89de299ccedc"
   },
   "outputs": [
    {
     "name": "stdout",
     "output_type": "stream",
     "text": [
      "Requirement already satisfied: hampel in c:\\users\\anurag dutta\\appdata\\local\\packages\\pythonsoftwarefoundation.python.3.9_qbz5n2kfra8p0\\localcache\\local-packages\\python39\\site-packages (0.0.5)\n",
      "Requirement already satisfied: numpy in c:\\users\\anurag dutta\\appdata\\local\\packages\\pythonsoftwarefoundation.python.3.9_qbz5n2kfra8p0\\localcache\\local-packages\\python39\\site-packages (from hampel) (1.26.4)\n",
      "Requirement already satisfied: pandas in c:\\users\\anurag dutta\\appdata\\local\\packages\\pythonsoftwarefoundation.python.3.9_qbz5n2kfra8p0\\localcache\\local-packages\\python39\\site-packages (from hampel) (1.5.2)\n",
      "Requirement already satisfied: python-dateutil>=2.8.1 in c:\\users\\anurag dutta\\appdata\\local\\packages\\pythonsoftwarefoundation.python.3.9_qbz5n2kfra8p0\\localcache\\local-packages\\python39\\site-packages (from pandas->hampel) (2.8.2)\n",
      "Requirement already satisfied: pytz>=2020.1 in c:\\users\\anurag dutta\\appdata\\local\\packages\\pythonsoftwarefoundation.python.3.9_qbz5n2kfra8p0\\localcache\\local-packages\\python39\\site-packages (from pandas->hampel) (2023.3.post1)\n",
      "Requirement already satisfied: six>=1.5 in c:\\users\\anurag dutta\\appdata\\local\\packages\\pythonsoftwarefoundation.python.3.9_qbz5n2kfra8p0\\localcache\\local-packages\\python39\\site-packages (from python-dateutil>=2.8.1->pandas->hampel) (1.16.0)\n",
      "Note: you may need to restart the kernel to use updated packages.\n"
     ]
    },
    {
     "name": "stderr",
     "output_type": "stream",
     "text": [
      "\n",
      "[notice] A new release of pip is available: 24.2 -> 24.3.1\n",
      "[notice] To update, run: C:\\Users\\Anurag Dutta\\AppData\\Local\\Microsoft\\WindowsApps\\PythonSoftwareFoundation.Python.3.9_qbz5n2kfra8p0\\python.exe -m pip install --upgrade pip\n"
     ]
    }
   ],
   "source": [
    "pip install hampel"
   ]
  },
  {
   "cell_type": "code",
   "execution_count": 2,
   "metadata": {
    "id": "By_d9uXpaFvZ"
   },
   "outputs": [],
   "source": [
    "from keras.models import Sequential\n",
    "from keras.layers import Dense\n",
    "from keras.layers import LSTM\n",
    "from keras.layers import Dropout\n",
    "import keras\n",
    "import tensorflow as tf\n",
    "from hampel import hampel\n",
    "import numpy as np\n",
    "import matplotlib.pyplot as plt\n",
    "import pandas as pd\n",
    "from sklearn.preprocessing import MinMaxScaler\n",
    "from sklearn.metrics import mean_squared_error, mean_absolute_error\n",
    "from math import sqrt\n",
    "from matplotlib import pyplot\n",
    "from numpy import array"
   ]
  },
  {
   "cell_type": "markdown",
   "metadata": {
    "id": "JyOjBMFayuoR"
   },
   "source": [
    "## Pretraining"
   ]
  },
  {
   "cell_type": "markdown",
   "metadata": {
    "id": "-5QqIY_GyuoR"
   },
   "source": [
    "The `capa_intermittency.dat` feeds the model with the dynamics of the Capacitor"
   ]
  },
  {
   "cell_type": "code",
   "execution_count": 3,
   "metadata": {
    "id": "9dV4a8yfyuoR"
   },
   "outputs": [],
   "source": [
    "data = np.genfromtxt('capa_intermittency.dat')\n",
    "training_set = pd.DataFrame(data).reset_index(drop=True)\n",
    "training_set = training_set.iloc[:,0]"
   ]
  },
  {
   "cell_type": "markdown",
   "metadata": {
    "id": "i7easoxByuoR"
   },
   "source": [
    "## Computing the Gradient"
   ]
  },
  {
   "cell_type": "markdown",
   "metadata": {
    "id": "5SnyolJTyuoR"
   },
   "source": [
    "_Calculating the value of_ $\\frac{dx}{dt}$"
   ]
  },
  {
   "cell_type": "code",
   "execution_count": 4,
   "metadata": {
    "colab": {
     "base_uri": "https://localhost:8080/"
    },
    "id": "wmIbVfIvyuoR",
    "outputId": "aa4e3136-c854-465d-d2e9-81cfd546e440"
   },
   "outputs": [
    {
     "name": "stdout",
     "output_type": "stream",
     "text": [
      "1.0\n",
      "1        0.000298\n",
      "2        0.000298\n",
      "3        0.000297\n",
      "4        0.000297\n",
      "5        0.000297\n",
      "           ...   \n",
      "9996     0.000018\n",
      "9997     0.000018\n",
      "9998     0.000018\n",
      "9999     0.000018\n",
      "10000    0.000018\n",
      "Name: 0, Length: 10000, dtype: float64\n"
     ]
    }
   ],
   "source": [
    "t_diff = 1\n",
    "print(training_set.max())\n",
    "gradient_t = (training_set.diff()/t_diff).iloc[1:] # dx/dt\n",
    "print(gradient_t)"
   ]
  },
  {
   "cell_type": "markdown",
   "metadata": {
    "id": "_2eVeeoxyuoS"
   },
   "source": [
    "## Loading Datasets"
   ]
  },
  {
   "cell_type": "code",
   "execution_count": null,
   "metadata": {
    "id": "0J-NKyIEyuoS"
   },
   "outputs": [
    {
     "data": {
      "text/plain": [
       "0       88.600000\n",
       "1       88.409524\n",
       "2       88.219048\n",
       "3       88.028571\n",
       "4       87.838095\n",
       "          ...    \n",
       "2495    55.049190\n",
       "2496    55.036893\n",
       "2497    55.024595\n",
       "2498    55.012298\n",
       "2499    55.000000\n",
       "Name: C4, Length: 2500, dtype: float64"
      ]
     },
     "execution_count": 5,
     "metadata": {},
     "output_type": "execute_result"
    }
   ],
   "source": [
    "data = pd.read_csv(\"c4_interpolated_2400_100.csv\")\n",
    "training_set = data.iloc[:, 1]\n",
    "training_set"
   ]
  },
  {
   "cell_type": "code",
   "execution_count": 6,
   "metadata": {
    "colab": {
     "base_uri": "https://localhost:8080/"
    },
    "id": "-CbNUhJ74UqF",
    "outputId": "20f562d8-8247-49cc-b9c3-00eca5e13e2d"
   },
   "outputs": [
    {
     "data": {
      "text/plain": [
       "0       88.600000\n",
       "1       88.409524\n",
       "2       88.219048\n",
       "3       88.028571\n",
       "4       87.838095\n",
       "          ...    \n",
       "2395     0.367244\n",
       "2396     0.000000\n",
       "2397     0.000000\n",
       "2398     0.595918\n",
       "2399     0.310173\n",
       "Name: C4, Length: 2400, dtype: float64"
      ]
     },
     "execution_count": 6,
     "metadata": {},
     "output_type": "execute_result"
    }
   ],
   "source": [
    "test = training_set.tail(100)\n",
    "test\n",
    "training_set = training_set.head(2400)\n",
    "training_set"
   ]
  },
  {
   "cell_type": "code",
   "execution_count": 7,
   "metadata": {
    "colab": {
     "base_uri": "https://localhost:8080/"
    },
    "id": "X0TwTcq0yuoS",
    "outputId": "37252ed8-d88e-4044-fa7a-922411990b5b"
   },
   "outputs": [
    {
     "name": "stdout",
     "output_type": "stream",
     "text": [
      "0       0.000298\n",
      "1       0.000298\n",
      "2       0.000297\n",
      "3       0.000297\n",
      "4       0.000297\n",
      "          ...   \n",
      "9995    0.000018\n",
      "9996    0.000018\n",
      "9997    0.000018\n",
      "9998    0.000018\n",
      "9999    0.000018\n",
      "Name: 0, Length: 10000, dtype: float64\n"
     ]
    }
   ],
   "source": [
    "training_set = training_set.reset_index(drop=True)\n",
    "gradient_t = gradient_t.reset_index(drop=True)\n",
    "print(gradient_t)"
   ]
  },
  {
   "cell_type": "code",
   "execution_count": 8,
   "metadata": {
    "id": "O2biznZQyuoS"
   },
   "outputs": [],
   "source": [
    "df = pd.concat((training_set, gradient_t), axis=1)\n",
    "df.columns = ['y_t', 'grad_t']"
   ]
  },
  {
   "cell_type": "code",
   "execution_count": 9,
   "metadata": {
    "colab": {
     "base_uri": "https://localhost:8080/",
     "height": 423
    },
    "id": "sk_a5v3tyuoS",
    "outputId": "17563625-e550-45ae-faab-fafa353e44da"
   },
   "outputs": [
    {
     "data": {
      "text/html": [
       "<div>\n",
       "<style scoped>\n",
       "    .dataframe tbody tr th:only-of-type {\n",
       "        vertical-align: middle;\n",
       "    }\n",
       "\n",
       "    .dataframe tbody tr th {\n",
       "        vertical-align: top;\n",
       "    }\n",
       "\n",
       "    .dataframe thead th {\n",
       "        text-align: right;\n",
       "    }\n",
       "</style>\n",
       "<table border=\"1\" class=\"dataframe\">\n",
       "  <thead>\n",
       "    <tr style=\"text-align: right;\">\n",
       "      <th></th>\n",
       "      <th>y_t</th>\n",
       "      <th>grad_t</th>\n",
       "    </tr>\n",
       "  </thead>\n",
       "  <tbody>\n",
       "    <tr>\n",
       "      <th>0</th>\n",
       "      <td>88.600000</td>\n",
       "      <td>0.000298</td>\n",
       "    </tr>\n",
       "    <tr>\n",
       "      <th>1</th>\n",
       "      <td>88.409524</td>\n",
       "      <td>0.000298</td>\n",
       "    </tr>\n",
       "    <tr>\n",
       "      <th>2</th>\n",
       "      <td>88.219048</td>\n",
       "      <td>0.000297</td>\n",
       "    </tr>\n",
       "    <tr>\n",
       "      <th>3</th>\n",
       "      <td>88.028571</td>\n",
       "      <td>0.000297</td>\n",
       "    </tr>\n",
       "    <tr>\n",
       "      <th>4</th>\n",
       "      <td>87.838095</td>\n",
       "      <td>0.000297</td>\n",
       "    </tr>\n",
       "    <tr>\n",
       "      <th>...</th>\n",
       "      <td>...</td>\n",
       "      <td>...</td>\n",
       "    </tr>\n",
       "    <tr>\n",
       "      <th>9995</th>\n",
       "      <td>NaN</td>\n",
       "      <td>0.000018</td>\n",
       "    </tr>\n",
       "    <tr>\n",
       "      <th>9996</th>\n",
       "      <td>NaN</td>\n",
       "      <td>0.000018</td>\n",
       "    </tr>\n",
       "    <tr>\n",
       "      <th>9997</th>\n",
       "      <td>NaN</td>\n",
       "      <td>0.000018</td>\n",
       "    </tr>\n",
       "    <tr>\n",
       "      <th>9998</th>\n",
       "      <td>NaN</td>\n",
       "      <td>0.000018</td>\n",
       "    </tr>\n",
       "    <tr>\n",
       "      <th>9999</th>\n",
       "      <td>NaN</td>\n",
       "      <td>0.000018</td>\n",
       "    </tr>\n",
       "  </tbody>\n",
       "</table>\n",
       "<p>10000 rows × 2 columns</p>\n",
       "</div>"
      ],
      "text/plain": [
       "            y_t    grad_t\n",
       "0     88.600000  0.000298\n",
       "1     88.409524  0.000298\n",
       "2     88.219048  0.000297\n",
       "3     88.028571  0.000297\n",
       "4     87.838095  0.000297\n",
       "...         ...       ...\n",
       "9995        NaN  0.000018\n",
       "9996        NaN  0.000018\n",
       "9997        NaN  0.000018\n",
       "9998        NaN  0.000018\n",
       "9999        NaN  0.000018\n",
       "\n",
       "[10000 rows x 2 columns]"
      ]
     },
     "execution_count": 9,
     "metadata": {},
     "output_type": "execute_result"
    }
   ],
   "source": [
    "df"
   ]
  },
  {
   "cell_type": "markdown",
   "metadata": {
    "id": "-5esyHu5aFvg"
   },
   "source": [
    "## Plot of the External Forcing from Chaotic Differential Equation"
   ]
  },
  {
   "cell_type": "code",
   "execution_count": 10,
   "metadata": {
    "colab": {
     "base_uri": "https://localhost:8080/",
     "height": 447
    },
    "id": "hGnE43tOh-4p",
    "outputId": "fc396503-b624-4fa5-dfbe-f460207405c6"
   },
   "outputs": [
    {
     "data": {
      "text/plain": [
       "<Axes: >"
      ]
     },
     "execution_count": 10,
     "metadata": {},
     "output_type": "execute_result"
    },
    {
     "data": {
      "image/png": "[encoded data removed]",
      "text/plain": [
       "<Figure size 432x288 with 1 Axes>"
      ]
     },
     "metadata": {
      "needs_background": "light"
     },
     "output_type": "display_data"
    }
   ],
   "source": [
    "df.iloc[:, 0].plot()"
   ]
  },
  {
   "cell_type": "code",
   "execution_count": 11,
   "metadata": {
    "colab": {
     "base_uri": "https://localhost:8080/",
     "height": 447
    },
    "id": "ym4xWUUxaFvg",
    "outputId": "ae6a3495-8ce9-437e-ba81-3ed31deedeae"
   },
   "outputs": [
    {
     "name": "stderr",
     "output_type": "stream",
     "text": [
      "C:\\Users\\Anurag Dutta\\AppData\\Local\\Packages\\PythonSoftwareFoundation.Python.3.9_qbz5n2kfra8p0\\LocalCache\\local-packages\\Python39\\site-packages\\pandas\\core\\arraylike.py:402: RuntimeWarning: divide by zero encountered in log\n",
      "  result = getattr(ufunc, method)(*inputs, **kwargs)\n"
     ]
    },
    {
     "data": {
      "text/plain": [
       "<Axes: >"
      ]
     },
     "execution_count": 11,
     "metadata": {},
     "output_type": "execute_result"
    },
    {
     "data": {
      "image/png": "[encoded data removed]",
      "text/plain": [
       "<Figure size 432x288 with 1 Axes>"
      ]
     },
     "metadata": {
      "needs_background": "light"
     },
     "output_type": "display_data"
    }
   ],
   "source": [
    "import numpy as np\n",
    "c0 = 86.6856  # Value for C0\n",
    "K0 = -0.0008  # Value for K0\n",
    "K1 = -0.0002  # Value for K1\n",
    "a = 0.0000    # Value for a\n",
    "b = 0.0128    # Value for b\n",
    "c = -2.3003    # Value for c\n",
    "\n",
    "L = np.minimum(c0, (df.iloc[:, 1] - (df.iloc[:, 0] * (K0 - K1 * (9 * a * np.log(df.iloc[:, 0] / c0) / (K0 - K1 * c)**2 + 4 * b * np.log(df.iloc[:, 0] / c0) / (K0 - K1 * c) + c)))))\n",
    "L.plot()"
   ]
  },
  {
   "cell_type": "markdown",
   "metadata": {
    "id": "9VyEywnwaFvh"
   },
   "source": [
    "## Preprocessing the data into supervised learning"
   ]
  },
  {
   "cell_type": "code",
   "execution_count": 12,
   "metadata": {
    "id": "6V9dXqzdaFvh"
   },
   "outputs": [],
   "source": [
    "# split a sequence into samples\n",
    "def Supervised(data, n_in=1, n_out=1, dropnan=True):\n",
    "    n_vars = 1 if type(data) is list else data.shape[1]\n",
    "    df = pd.DataFrame(data)\n",
    "    cols, names = list(), list()\n",
    "    # input sequence (t-n_in, ... t-1)\n",
    "    for i in range(n_in, 0, -1):\n",
    "        cols.append(df.shift(i))\n",
    "        names += [('var%d(t-%d)' % (j+1, i)) for j in range(n_vars)]\n",
    "    # forecast sequence (t, t+1, ... t+n_out)\n",
    "    for i in range(0, n_out):\n",
    "      cols.append(df.shift(-i))\n",
    "      if i == 0:\n",
    "        names += [('var%d(t)' % (j+1)) for j in range(n_vars)]\n",
    "      else:\n",
    "        names += [('var%d(t+%d)' % (j+1, i)) for j in range(n_vars)]\n",
    "    # put it all together\n",
    "    agg = pd.concat(cols, axis=1)\n",
    "    agg.columns = names\n",
    "    # drop rows with NaN values\n",
    "    if dropnan:\n",
    "       agg.dropna(inplace=True)\n",
    "    return agg"
   ]
  },
  {
   "cell_type": "code",
   "execution_count": 13,
   "metadata": {
    "colab": {
     "base_uri": "https://localhost:8080/"
    },
    "id": "CrzSrT1HnyfH",
    "outputId": "7e75f928-3e47-499d-eac1-51908015ef78"
   },
   "outputs": [
    {
     "name": "stdout",
     "output_type": "stream",
     "text": [
      "     var1(t-350)  var1(t-349)  var1(t-348)  var1(t-347)  var1(t-346)  \\\n",
      "350    88.600000    88.409524    88.219048    88.028571    87.838095   \n",
      "351    88.409524    88.219048    88.028571    87.838095    87.647619   \n",
      "352    88.219048    88.028571    87.838095    87.647619    87.457143   \n",
      "353    88.028571    87.838095    87.647619    87.457143    87.266667   \n",
      "354    87.838095    87.647619    87.457143    87.266667    87.076190   \n",
      "\n",
      "     var1(t-345)  var1(t-344)  var1(t-343)  var1(t-342)  var1(t-341)  ...  \\\n",
      "350    87.647619    87.457143    87.266667    87.076190    86.896218  ...   \n",
      "351    87.457143    87.266667    87.076190    86.896218    86.845798  ...   \n",
      "352    87.266667    87.076190    86.896218    86.845798    86.795378  ...   \n",
      "353    87.076190    86.896218    86.845798    86.795378    86.744958  ...   \n",
      "354    86.896218    86.845798    86.795378    86.744958    86.694538  ...   \n",
      "\n",
      "     var1(t+95)  var2(t+95)  var1(t+96)  var2(t+96)  var1(t+97)  var2(t+97)  \\\n",
      "350   78.880345    0.000263   78.856069    0.000263   78.831793    0.000263   \n",
      "351   78.856069    0.000263   78.831793    0.000263   78.807516    0.000262   \n",
      "352   78.831793    0.000263   78.807516    0.000262   78.783240    0.000262   \n",
      "353   78.807516    0.000262   78.783240    0.000262   78.758964    0.000262   \n",
      "354   78.783240    0.000262   78.758964    0.000262   78.734687    0.000262   \n",
      "\n",
      "     var1(t+98)  var2(t+98)  var1(t+99)  var2(t+99)  \n",
      "350   78.807516    0.000262   78.783240    0.000262  \n",
      "351   78.783240    0.000262   78.758964    0.000262  \n",
      "352   78.758964    0.000262   78.734687    0.000262  \n",
      "353   78.734687    0.000262   78.710411    0.000262  \n",
      "354   78.710411    0.000262   78.686134    0.000262  \n",
      "\n",
      "[5 rows x 551 columns]\n",
      "Index(['var1(t-350)', 'var1(t-349)', 'var1(t-348)', 'var1(t-347)',\n",
      "       'var1(t-346)', 'var1(t-345)', 'var1(t-344)', 'var1(t-343)',\n",
      "       'var1(t-342)', 'var1(t-341)',\n",
      "       ...\n",
      "       'var1(t+95)', 'var2(t+95)', 'var1(t+96)', 'var2(t+96)', 'var1(t+97)',\n",
      "       'var2(t+97)', 'var1(t+98)', 'var2(t+98)', 'var1(t+99)', 'var2(t+99)'],\n",
      "      dtype='object', length=551)\n"
     ]
    }
   ],
   "source": [
    "data = Supervised(df.values, n_in = 350, n_out = 100)\n",
    "\n",
    "\n",
    "cols_to_drop = []\n",
    "for i in range(2, 351):\n",
    "    cols_to_drop.extend([f'var2(t-{i})'])\n",
    "\n",
    "data.drop(cols_to_drop, axis=1, inplace=True)\n",
    "\n",
    "print(data.head())\n",
    "print(data.columns)"
   ]
  },
  {
   "cell_type": "code",
   "execution_count": 14,
   "metadata": {
    "id": "AfPf60oy6Pe4"
   },
   "outputs": [],
   "source": [
    "train = np.array(data[0:len(data)-1])\n",
    "forecast = np.array(data.tail(1))"
   ]
  },
  {
   "cell_type": "code",
   "execution_count": 15,
   "metadata": {
    "id": "WSAafzI37KiT"
   },
   "outputs": [],
   "source": [
    "trainy = train[:,-300:]\n",
    "trainX = train[:,:-300]"
   ]
  },
  {
   "cell_type": "code",
   "execution_count": 16,
   "metadata": {
    "id": "2SrOqVJA7f50"
   },
   "outputs": [],
   "source": [
    "forecasty = forecast[:,-300:]\n",
    "forecastX = forecast[:,:-300]"
   ]
  },
  {
   "cell_type": "code",
   "execution_count": 17,
   "metadata": {
    "colab": {
     "base_uri": "https://localhost:8080/"
    },
    "id": "Qno_k8Nw7saY",
    "outputId": "c4a88db5-d8c6-489f-cdb2-06b24e293cff"
   },
   "outputs": [
    {
     "name": "stdout",
     "output_type": "stream",
     "text": [
      "(1950, 1, 251) (1950, 300) (1, 1, 251)\n"
     ]
    }
   ],
   "source": [
    "trainX = trainX.reshape((trainX.shape[0], 1, trainX.shape[1]))\n",
    "forecastX = forecastX.reshape((forecastX.shape[0], 1, forecastX.shape[1]))\n",
    "print(trainX.shape, trainy.shape, forecastX.shape)"
   ]
  },
  {
   "cell_type": "code",
   "execution_count": 18,
   "metadata": {
    "colab": {
     "base_uri": "https://localhost:8080/"
    },
    "id": "b1Jp2DvNuNFx",
    "outputId": "d0e5b3c4-64f1-438c-eade-8dfeaac8e285"
   },
   "outputs": [
    {
     "name": "stdout",
     "output_type": "stream",
     "text": [
      "Epoch 1/500\n",
      "25/25 [==============================] - 3s 22ms/step - loss: 5040.9810 - val_loss: 3018.4211\n",
      "Epoch 2/500\n",
      "25/25 [==============================] - 0s 5ms/step - loss: 4809.4775 - val_loss: 2857.6191\n",
      "Epoch 3/500\n",
      "25/25 [==============================] - 0s 4ms/step - loss: 4638.7271 - val_loss: 2773.8474\n",
      "Epoch 4/500\n",
      "25/25 [==============================] - 0s 4ms/step - loss: 4511.9453 - val_loss: 2700.4961\n",
      "Epoch 5/500\n",
      "25/25 [==============================] - 0s 4ms/step - loss: 4397.7832 - val_loss: 2633.0603\n",
      "Epoch 6/500\n",
      "25/25 [==============================] - 0s 4ms/step - loss: 4288.6235 - val_loss: 2568.7273\n",
      "Epoch 7/500\n",
      "25/25 [==============================] - 0s 5ms/step - loss: 4183.1982 - val_loss: 2506.5361\n",
      "Epoch 8/500\n",
      "25/25 [==============================] - 0s 4ms/step - loss: 4080.8828 - val_loss: 2447.2124\n",
      "Epoch 9/500\n",
      "25/25 [==============================] - 0s 4ms/step - loss: 3973.2273 - val_loss: 2381.7671\n",
      "Epoch 10/500\n",
      "25/25 [==============================] - 0s 4ms/step - loss: 3868.2090 - val_loss: 2322.9426\n",
      "Epoch 11/500\n",
      "25/25 [==============================] - 0s 4ms/step - loss: 3768.5029 - val_loss: 2266.6277\n",
      "Epoch 12/500\n",
      "25/25 [==============================] - 0s 5ms/step - loss: 3671.9036 - val_loss: 2212.4543\n",
      "Epoch 13/500\n",
      "25/25 [==============================] - 0s 4ms/step - loss: 3577.9419 - val_loss: 2160.2102\n",
      "Epoch 14/500\n",
      "25/25 [==============================] - 0s 4ms/step - loss: 3486.3538 - val_loss: 2109.7659\n",
      "Epoch 15/500\n",
      "25/25 [==============================] - 0s 4ms/step - loss: 3396.9746 - val_loss: 2061.0295\n",
      "Epoch 16/500\n",
      "25/25 [==============================] - 0s 6ms/step - loss: 3309.6895 - val_loss: 2013.9338\n",
      "Epoch 17/500\n",
      "25/25 [==============================] - 0s 4ms/step - loss: 3224.4109 - val_loss: 1968.4204\n",
      "Epoch 18/500\n",
      "25/25 [==============================] - 0s 11ms/step - loss: 3141.0674 - val_loss: 1924.4417\n",
      "Epoch 19/500\n",
      "25/25 [==============================] - 0s 5ms/step - loss: 3059.6006 - val_loss: 1881.9550\n",
      "Epoch 20/500\n",
      "25/25 [==============================] - 0s 4ms/step - loss: 2979.9580 - val_loss: 1840.9222\n",
      "Epoch 21/500\n",
      "25/25 [==============================] - 0s 4ms/step - loss: 2902.0950 - val_loss: 1801.3080\n",
      "Epoch 22/500\n",
      "25/25 [==============================] - 0s 4ms/step - loss: 2825.9695 - val_loss: 1763.0790\n",
      "Epoch 23/500\n",
      "25/25 [==============================] - 0s 4ms/step - loss: 2751.5439 - val_loss: 1726.2043\n",
      "Epoch 24/500\n",
      "25/25 [==============================] - 0s 4ms/step - loss: 2678.7820 - val_loss: 1690.6547\n",
      "Epoch 25/500\n",
      "25/25 [==============================] - 0s 4ms/step - loss: 2607.6511 - val_loss: 1656.4017\n",
      "Epoch 26/500\n",
      "25/25 [==============================] - 0s 4ms/step - loss: 2538.1194 - val_loss: 1623.4182\n",
      "Epoch 27/500\n",
      "25/25 [==============================] - 0s 4ms/step - loss: 2470.1570 - val_loss: 1591.6776\n",
      "Epoch 28/500\n",
      "25/25 [==============================] - 0s 4ms/step - loss: 2403.7351 - val_loss: 1561.1547\n",
      "Epoch 29/500\n",
      "25/25 [==============================] - 0s 4ms/step - loss: 2338.8262 - val_loss: 1531.8248\n",
      "Epoch 30/500\n",
      "25/25 [==============================] - 0s 4ms/step - loss: 2275.4036 - val_loss: 1503.6631\n",
      "Epoch 31/500\n",
      "25/25 [==============================] - 0s 4ms/step - loss: 2213.4402 - val_loss: 1476.6465\n",
      "Epoch 32/500\n",
      "25/25 [==============================] - 0s 4ms/step - loss: 2152.9116 - val_loss: 1450.7509\n",
      "Epoch 33/500\n",
      "25/25 [==============================] - 0s 4ms/step - loss: 2093.7937 - val_loss: 1425.9539\n",
      "Epoch 34/500\n",
      "25/25 [==============================] - 0s 4ms/step - loss: 2036.0615 - val_loss: 1402.2332\n",
      "Epoch 35/500\n",
      "25/25 [==============================] - 0s 4ms/step - loss: 1979.6914 - val_loss: 1379.5667\n",
      "Epoch 36/500\n",
      "25/25 [==============================] - 0s 4ms/step - loss: 1924.6609 - val_loss: 1357.9315\n",
      "Epoch 37/500\n",
      "25/25 [==============================] - 0s 4ms/step - loss: 1870.9465 - val_loss: 1337.3076\n",
      "Epoch 38/500\n",
      "25/25 [==============================] - 0s 4ms/step - loss: 1818.5262 - val_loss: 1317.6727\n",
      "Epoch 39/500\n",
      "25/25 [==============================] - 0s 4ms/step - loss: 1767.3789 - val_loss: 1299.0065\n",
      "Epoch 40/500\n",
      "25/25 [==============================] - 0s 4ms/step - loss: 1717.4821 - val_loss: 1281.2878\n",
      "Epoch 41/500\n",
      "25/25 [==============================] - 0s 4ms/step - loss: 1668.8145 - val_loss: 1264.4966\n",
      "Epoch 42/500\n",
      "25/25 [==============================] - 0s 4ms/step - loss: 1621.3556 - val_loss: 1248.6121\n",
      "Epoch 43/500\n",
      "25/25 [==============================] - 0s 4ms/step - loss: 1575.0846 - val_loss: 1233.6146\n",
      "Epoch 44/500\n",
      "25/25 [==============================] - 0s 4ms/step - loss: 1529.9810 - val_loss: 1219.4840\n",
      "Epoch 45/500\n",
      "25/25 [==============================] - 0s 4ms/step - loss: 1486.0247 - val_loss: 1206.2009\n",
      "Epoch 46/500\n",
      "25/25 [==============================] - 0s 4ms/step - loss: 1443.1953 - val_loss: 1193.7461\n",
      "Epoch 47/500\n",
      "25/25 [==============================] - 0s 4ms/step - loss: 1401.4740 - val_loss: 1182.0995\n",
      "Epoch 48/500\n",
      "25/25 [==============================] - 0s 4ms/step - loss: 1360.8406 - val_loss: 1171.2427\n",
      "Epoch 49/500\n",
      "25/25 [==============================] - 0s 4ms/step - loss: 1321.2760 - val_loss: 1161.1564\n",
      "Epoch 50/500\n",
      "25/25 [==============================] - 0s 4ms/step - loss: 1282.7616 - val_loss: 1151.8220\n",
      "Epoch 51/500\n",
      "25/25 [==============================] - 0s 4ms/step - loss: 1245.2778 - val_loss: 1143.2209\n",
      "Epoch 52/500\n",
      "25/25 [==============================] - 0s 4ms/step - loss: 1208.8065 - val_loss: 1135.3347\n",
      "Epoch 53/500\n",
      "25/25 [==============================] - 0s 4ms/step - loss: 1173.3293 - val_loss: 1128.1450\n",
      "Epoch 54/500\n",
      "25/25 [==============================] - 0s 7ms/step - loss: 1138.8275 - val_loss: 1121.6339\n",
      "Epoch 55/500\n",
      "25/25 [==============================] - 0s 8ms/step - loss: 1105.2833 - val_loss: 1115.7828\n",
      "Epoch 56/500\n",
      "25/25 [==============================] - 0s 11ms/step - loss: 1072.6783 - val_loss: 1110.5745\n",
      "Epoch 57/500\n",
      "25/25 [==============================] - 0s 9ms/step - loss: 1040.9952 - val_loss: 1105.9910\n",
      "Epoch 58/500\n",
      "25/25 [==============================] - 0s 8ms/step - loss: 1010.2164 - val_loss: 1102.0150\n",
      "Epoch 59/500\n",
      "25/25 [==============================] - 0s 7ms/step - loss: 980.3241 - val_loss: 1098.6289\n",
      "Epoch 60/500\n",
      "25/25 [==============================] - 0s 10ms/step - loss: 951.3014 - val_loss: 1095.8154\n",
      "Epoch 61/500\n",
      "25/25 [==============================] - 0s 9ms/step - loss: 923.1309 - val_loss: 1093.5577\n",
      "Epoch 62/500\n",
      "25/25 [==============================] - 0s 16ms/step - loss: 895.7959 - val_loss: 1091.8386\n",
      "Epoch 63/500\n",
      "25/25 [==============================] - 0s 12ms/step - loss: 869.2795 - val_loss: 1090.6415\n",
      "Epoch 64/500\n",
      "25/25 [==============================] - 0s 11ms/step - loss: 843.5649 - val_loss: 1089.9495\n",
      "Epoch 65/500\n",
      "25/25 [==============================] - 0s 15ms/step - loss: 818.6358 - val_loss: 1089.7461\n",
      "Epoch 66/500\n",
      "25/25 [==============================] - 0s 17ms/step - loss: 794.4758 - val_loss: 1090.0154\n",
      "Epoch 67/500\n",
      "25/25 [==============================] - 0s 8ms/step - loss: 771.0685 - val_loss: 1090.7406\n",
      "Epoch 68/500\n",
      "25/25 [==============================] - 0s 8ms/step - loss: 748.3981 - val_loss: 1091.9059\n",
      "Epoch 69/500\n",
      "25/25 [==============================] - 0s 14ms/step - loss: 726.4487 - val_loss: 1093.4954\n",
      "Epoch 70/500\n",
      "25/25 [==============================] - 0s 9ms/step - loss: 705.2043 - val_loss: 1095.4932\n",
      "Epoch 71/500\n",
      "25/25 [==============================] - 0s 10ms/step - loss: 684.6497 - val_loss: 1097.8840\n",
      "Epoch 72/500\n",
      "25/25 [==============================] - 0s 10ms/step - loss: 664.7692 - val_loss: 1100.6522\n",
      "Epoch 73/500\n",
      "25/25 [==============================] - 0s 14ms/step - loss: 645.5475 - val_loss: 1103.7826\n",
      "Epoch 74/500\n",
      "25/25 [==============================] - 0s 10ms/step - loss: 626.9695 - val_loss: 1107.2601\n",
      "Epoch 75/500\n",
      "25/25 [==============================] - 0s 11ms/step - loss: 609.0202 - val_loss: 1111.0696\n",
      "Epoch 76/500\n",
      "25/25 [==============================] - 1s 26ms/step - loss: 591.6849 - val_loss: 1115.1965\n",
      "Epoch 77/500\n",
      "25/25 [==============================] - 0s 13ms/step - loss: 574.9489 - val_loss: 1119.6260\n",
      "Epoch 78/500\n",
      "25/25 [==============================] - 0s 9ms/step - loss: 558.7971 - val_loss: 1124.3440\n",
      "Epoch 79/500\n",
      "25/25 [==============================] - 0s 11ms/step - loss: 543.2156 - val_loss: 1129.3361\n",
      "Epoch 80/500\n",
      "25/25 [==============================] - 0s 12ms/step - loss: 528.1903 - val_loss: 1134.5883\n",
      "Epoch 81/500\n",
      "25/25 [==============================] - 0s 11ms/step - loss: 513.7071 - val_loss: 1140.0868\n",
      "Epoch 82/500\n",
      "25/25 [==============================] - 0s 9ms/step - loss: 499.7520 - val_loss: 1145.8177\n",
      "Epoch 83/500\n",
      "25/25 [==============================] - 0s 10ms/step - loss: 486.3111 - val_loss: 1151.7678\n",
      "Epoch 84/500\n",
      "25/25 [==============================] - 0s 9ms/step - loss: 473.3709 - val_loss: 1157.9238\n",
      "Epoch 85/500\n",
      "25/25 [==============================] - 0s 10ms/step - loss: 460.9182 - val_loss: 1164.2727\n",
      "Epoch 86/500\n",
      "25/25 [==============================] - 0s 9ms/step - loss: 448.9395 - val_loss: 1170.8011\n",
      "Epoch 87/500\n",
      "25/25 [==============================] - 0s 10ms/step - loss: 437.4221 - val_loss: 1177.4971\n",
      "Epoch 88/500\n",
      "25/25 [==============================] - 0s 8ms/step - loss: 426.3528 - val_loss: 1184.3480\n",
      "Epoch 89/500\n",
      "25/25 [==============================] - 0s 6ms/step - loss: 415.7188 - val_loss: 1191.3417\n",
      "Epoch 90/500\n",
      "25/25 [==============================] - 0s 6ms/step - loss: 405.5078 - val_loss: 1198.4659\n",
      "Epoch 91/500\n",
      "25/25 [==============================] - 0s 7ms/step - loss: 395.7074 - val_loss: 1205.7087\n",
      "Epoch 92/500\n",
      "25/25 [==============================] - 0s 6ms/step - loss: 386.3053 - val_loss: 1213.0596\n",
      "Epoch 93/500\n",
      "25/25 [==============================] - 0s 7ms/step - loss: 377.2895 - val_loss: 1220.5063\n",
      "Epoch 94/500\n",
      "25/25 [==============================] - 0s 8ms/step - loss: 368.6482 - val_loss: 1228.0381\n",
      "Epoch 95/500\n",
      "25/25 [==============================] - 0s 7ms/step - loss: 360.3698 - val_loss: 1235.6448\n",
      "Epoch 96/500\n",
      "25/25 [==============================] - 0s 5ms/step - loss: 352.4427 - val_loss: 1243.3149\n",
      "Epoch 97/500\n",
      "25/25 [==============================] - 0s 7ms/step - loss: 344.8559 - val_loss: 1251.0386\n",
      "Epoch 98/500\n",
      "25/25 [==============================] - 0s 7ms/step - loss: 337.5983 - val_loss: 1258.8058\n",
      "Epoch 99/500\n",
      "25/25 [==============================] - 0s 6ms/step - loss: 330.6588 - val_loss: 1266.6071\n",
      "Epoch 100/500\n",
      "25/25 [==============================] - 0s 6ms/step - loss: 324.0271 - val_loss: 1274.4330\n",
      "Epoch 101/500\n",
      "25/25 [==============================] - 0s 13ms/step - loss: 317.6923 - val_loss: 1282.2734\n",
      "Epoch 102/500\n",
      "25/25 [==============================] - 0s 8ms/step - loss: 311.6444 - val_loss: 1290.1201\n",
      "Epoch 103/500\n",
      "25/25 [==============================] - 0s 8ms/step - loss: 305.8734 - val_loss: 1297.9647\n",
      "Epoch 104/500\n",
      "25/25 [==============================] - 0s 6ms/step - loss: 300.3693 - val_loss: 1305.7985\n",
      "Epoch 105/500\n",
      "25/25 [==============================] - 0s 6ms/step - loss: 295.1224 - val_loss: 1313.6129\n",
      "Epoch 106/500\n",
      "25/25 [==============================] - 0s 6ms/step - loss: 290.1235 - val_loss: 1321.4008\n",
      "Epoch 107/500\n",
      "25/25 [==============================] - 0s 6ms/step - loss: 285.3631 - val_loss: 1329.1541\n",
      "Epoch 108/500\n",
      "25/25 [==============================] - 0s 6ms/step - loss: 280.8322 - val_loss: 1336.8662\n",
      "Epoch 109/500\n",
      "25/25 [==============================] - 0s 5ms/step - loss: 276.5223 - val_loss: 1344.5298\n",
      "Epoch 110/500\n",
      "25/25 [==============================] - 0s 5ms/step - loss: 272.4243 - val_loss: 1352.1387\n",
      "Epoch 111/500\n",
      "25/25 [==============================] - 0s 5ms/step - loss: 268.5301 - val_loss: 1359.6854\n",
      "Epoch 112/500\n",
      "25/25 [==============================] - 0s 5ms/step - loss: 264.8315 - val_loss: 1367.1650\n",
      "Epoch 113/500\n",
      "25/25 [==============================] - 0s 5ms/step - loss: 261.3205 - val_loss: 1374.5715\n",
      "Epoch 114/500\n",
      "25/25 [==============================] - 0s 5ms/step - loss: 257.9893 - val_loss: 1381.8986\n",
      "Epoch 115/500\n",
      "25/25 [==============================] - 0s 5ms/step - loss: 254.8304 - val_loss: 1389.1423\n",
      "Epoch 116/500\n",
      "25/25 [==============================] - 0s 5ms/step - loss: 251.8365 - val_loss: 1396.2971\n",
      "Epoch 117/500\n",
      "25/25 [==============================] - 0s 5ms/step - loss: 249.0003 - val_loss: 1403.3586\n",
      "Epoch 118/500\n",
      "25/25 [==============================] - 0s 4ms/step - loss: 246.3151 - val_loss: 1410.3217\n",
      "Epoch 119/500\n",
      "25/25 [==============================] - 0s 4ms/step - loss: 243.7741 - val_loss: 1417.1832\n",
      "Epoch 120/500\n",
      "25/25 [==============================] - 0s 5ms/step - loss: 241.3708 - val_loss: 1423.9397\n",
      "Epoch 121/500\n",
      "25/25 [==============================] - 0s 5ms/step - loss: 239.0989 - val_loss: 1430.5865\n",
      "Epoch 122/500\n",
      "25/25 [==============================] - 0s 5ms/step - loss: 236.9523 - val_loss: 1437.1216\n",
      "Epoch 123/500\n",
      "25/25 [==============================] - 0s 5ms/step - loss: 234.9252 - val_loss: 1443.5409\n",
      "Epoch 124/500\n",
      "25/25 [==============================] - 0s 5ms/step - loss: 233.0118 - val_loss: 1449.8431\n",
      "Epoch 125/500\n",
      "25/25 [==============================] - 0s 6ms/step - loss: 231.2066 - val_loss: 1456.0248\n",
      "Epoch 126/500\n",
      "25/25 [==============================] - 0s 6ms/step - loss: 229.5046 - val_loss: 1462.0840\n",
      "Epoch 127/500\n",
      "25/25 [==============================] - 0s 6ms/step - loss: 227.9004 - val_loss: 1468.0193\n",
      "Epoch 128/500\n",
      "25/25 [==============================] - 0s 5ms/step - loss: 226.3892 - val_loss: 1473.8289\n",
      "Epoch 129/500\n",
      "25/25 [==============================] - 0s 5ms/step - loss: 224.9662 - val_loss: 1479.5122\n",
      "Epoch 130/500\n",
      "25/25 [==============================] - 0s 5ms/step - loss: 223.6269 - val_loss: 1485.0659\n",
      "Epoch 131/500\n",
      "25/25 [==============================] - 0s 11ms/step - loss: 222.3670 - val_loss: 1490.4912\n",
      "Epoch 132/500\n",
      "25/25 [==============================] - 0s 13ms/step - loss: 221.1823 - val_loss: 1495.7869\n",
      "Epoch 133/500\n",
      "25/25 [==============================] - 0s 8ms/step - loss: 220.0688 - val_loss: 1500.9518\n",
      "Epoch 134/500\n",
      "25/25 [==============================] - 0s 9ms/step - loss: 219.0227 - val_loss: 1505.9863\n",
      "Epoch 135/500\n",
      "25/25 [==============================] - 0s 6ms/step - loss: 218.0402 - val_loss: 1510.8904\n",
      "Epoch 136/500\n",
      "25/25 [==============================] - 0s 5ms/step - loss: 217.1179 - val_loss: 1515.6641\n",
      "Epoch 137/500\n",
      "25/25 [==============================] - 0s 5ms/step - loss: 216.2524 - val_loss: 1520.3080\n",
      "Epoch 138/500\n",
      "25/25 [==============================] - 0s 5ms/step - loss: 215.4406 - val_loss: 1524.8223\n",
      "Epoch 139/500\n",
      "25/25 [==============================] - 0s 5ms/step - loss: 214.6793 - val_loss: 1529.2076\n",
      "Epoch 140/500\n",
      "25/25 [==============================] - 0s 5ms/step - loss: 213.9657 - val_loss: 1533.4653\n",
      "Epoch 141/500\n",
      "25/25 [==============================] - 0s 5ms/step - loss: 213.2970 - val_loss: 1537.5969\n",
      "Epoch 142/500\n",
      "25/25 [==============================] - 0s 5ms/step - loss: 212.6706 - val_loss: 1541.6025\n",
      "Epoch 143/500\n",
      "25/25 [==============================] - 0s 6ms/step - loss: 212.0839 - val_loss: 1545.4833\n",
      "Epoch 144/500\n",
      "25/25 [==============================] - 0s 7ms/step - loss: 211.5347 - val_loss: 1549.2415\n",
      "Epoch 145/500\n",
      "25/25 [==============================] - 0s 7ms/step - loss: 211.0206 - val_loss: 1552.8789\n",
      "Epoch 146/500\n",
      "25/25 [==============================] - 0s 6ms/step - loss: 210.5396 - val_loss: 1556.3955\n",
      "Epoch 147/500\n",
      "25/25 [==============================] - 0s 6ms/step - loss: 210.0896 - val_loss: 1559.7960\n",
      "Epoch 148/500\n",
      "25/25 [==============================] - 0s 6ms/step - loss: 209.6687 - val_loss: 1563.0795\n",
      "Epoch 149/500\n",
      "25/25 [==============================] - 0s 7ms/step - loss: 209.2750 - val_loss: 1566.2491\n",
      "Epoch 150/500\n",
      "25/25 [==============================] - 0s 6ms/step - loss: 208.9071 - val_loss: 1569.3068\n",
      "Epoch 151/500\n",
      "25/25 [==============================] - 0s 5ms/step - loss: 208.5631 - val_loss: 1572.2552\n",
      "Epoch 152/500\n",
      "25/25 [==============================] - 0s 5ms/step - loss: 208.2415 - val_loss: 1575.0953\n",
      "Epoch 153/500\n",
      "25/25 [==============================] - 0s 6ms/step - loss: 207.9411 - val_loss: 1577.8311\n",
      "Epoch 154/500\n",
      "25/25 [==============================] - 0s 9ms/step - loss: 207.6602 - val_loss: 1580.4633\n",
      "Epoch 155/500\n",
      "25/25 [==============================] - 0s 10ms/step - loss: 207.3979 - val_loss: 1582.9952\n",
      "Epoch 156/500\n",
      "25/25 [==============================] - 0s 10ms/step - loss: 207.1527 - val_loss: 1585.4290\n",
      "Epoch 157/500\n",
      "25/25 [==============================] - 0s 6ms/step - loss: 206.9237 - val_loss: 1587.7657\n",
      "Epoch 158/500\n",
      "25/25 [==============================] - 0s 6ms/step - loss: 206.7099 - val_loss: 1590.0111\n",
      "Epoch 159/500\n",
      "25/25 [==============================] - 0s 6ms/step - loss: 206.5101 - val_loss: 1592.1644\n",
      "Epoch 160/500\n",
      "25/25 [==============================] - 0s 6ms/step - loss: 206.3234 - val_loss: 1594.2294\n",
      "Epoch 161/500\n",
      "25/25 [==============================] - 0s 15ms/step - loss: 206.1491 - val_loss: 1596.2091\n",
      "Epoch 162/500\n",
      "25/25 [==============================] - 0s 8ms/step - loss: 205.9862 - val_loss: 1598.1046\n",
      "Epoch 163/500\n",
      "25/25 [==============================] - 0s 7ms/step - loss: 205.8341 - val_loss: 1599.9205\n",
      "Epoch 164/500\n",
      "25/25 [==============================] - 0s 9ms/step - loss: 205.6921 - val_loss: 1601.6566\n",
      "Epoch 165/500\n",
      "25/25 [==============================] - 0s 7ms/step - loss: 205.5593 - val_loss: 1603.3181\n",
      "Epoch 166/500\n",
      "25/25 [==============================] - 0s 8ms/step - loss: 205.4353 - val_loss: 1604.9049\n",
      "Epoch 167/500\n",
      "25/25 [==============================] - 0s 7ms/step - loss: 205.3195 - val_loss: 1606.4216\n",
      "Epoch 168/500\n",
      "25/25 [==============================] - 0s 6ms/step - loss: 205.2112 - val_loss: 1607.8685\n",
      "Epoch 169/500\n",
      "25/25 [==============================] - 0s 6ms/step - loss: 205.1102 - val_loss: 1609.2501\n",
      "Epoch 170/500\n",
      "25/25 [==============================] - 0s 5ms/step - loss: 205.0157 - val_loss: 1610.5665\n",
      "Epoch 171/500\n",
      "25/25 [==============================] - 0s 5ms/step - loss: 204.9274 - val_loss: 1611.8223\n",
      "Epoch 172/500\n",
      "25/25 [==============================] - 0s 5ms/step - loss: 204.8449 - val_loss: 1613.0183\n",
      "Epoch 173/500\n",
      "25/25 [==============================] - 0s 5ms/step - loss: 204.7678 - val_loss: 1614.1578\n",
      "Epoch 174/500\n",
      "25/25 [==============================] - 0s 6ms/step - loss: 204.6958 - val_loss: 1615.2417\n",
      "Epoch 175/500\n",
      "25/25 [==============================] - 0s 8ms/step - loss: 204.6284 - val_loss: 1616.2720\n",
      "Epoch 176/500\n",
      "25/25 [==============================] - 0s 7ms/step - loss: 204.5656 - val_loss: 1617.2522\n",
      "Epoch 177/500\n",
      "25/25 [==============================] - 0s 5ms/step - loss: 204.5067 - val_loss: 1618.1835\n",
      "Epoch 178/500\n",
      "25/25 [==============================] - 0s 6ms/step - loss: 204.4518 - val_loss: 1619.0676\n",
      "Epoch 179/500\n",
      "25/25 [==============================] - 0s 5ms/step - loss: 204.4004 - val_loss: 1619.9082\n",
      "Epoch 180/500\n",
      "25/25 [==============================] - 0s 6ms/step - loss: 204.3523 - val_loss: 1620.7040\n",
      "Epoch 181/500\n",
      "25/25 [==============================] - 0s 5ms/step - loss: 204.3075 - val_loss: 1621.4601\n",
      "Epoch 182/500\n",
      "25/25 [==============================] - 0s 4ms/step - loss: 204.2655 - val_loss: 1622.1766\n",
      "Epoch 183/500\n",
      "25/25 [==============================] - 0s 5ms/step - loss: 204.2263 - val_loss: 1622.8545\n",
      "Epoch 184/500\n",
      "25/25 [==============================] - 0s 4ms/step - loss: 204.1896 - val_loss: 1623.4968\n",
      "Epoch 185/500\n",
      "25/25 [==============================] - 0s 5ms/step - loss: 204.1553 - val_loss: 1624.1050\n",
      "Epoch 186/500\n",
      "25/25 [==============================] - 0s 5ms/step - loss: 204.1233 - val_loss: 1624.6799\n",
      "Epoch 187/500\n",
      "25/25 [==============================] - 0s 4ms/step - loss: 204.0934 - val_loss: 1625.2239\n",
      "Epoch 188/500\n",
      "25/25 [==============================] - 0s 4ms/step - loss: 204.0656 - val_loss: 1625.7397\n",
      "Epoch 189/500\n",
      "25/25 [==============================] - 0s 4ms/step - loss: 204.0394 - val_loss: 1626.2247\n",
      "Epoch 190/500\n",
      "25/25 [==============================] - 0s 4ms/step - loss: 204.0150 - val_loss: 1626.6841\n",
      "Epoch 191/500\n",
      "25/25 [==============================] - 0s 5ms/step - loss: 203.9922 - val_loss: 1627.1168\n",
      "Epoch 192/500\n",
      "25/25 [==============================] - 0s 9ms/step - loss: 203.9710 - val_loss: 1627.5260\n",
      "Epoch 193/500\n",
      "25/25 [==============================] - 0s 5ms/step - loss: 203.9512 - val_loss: 1627.9115\n",
      "Epoch 194/500\n",
      "25/25 [==============================] - 0s 5ms/step - loss: 203.9326 - val_loss: 1628.2748\n",
      "Epoch 195/500\n",
      "25/25 [==============================] - 0s 5ms/step - loss: 203.9153 - val_loss: 1628.6178\n",
      "Epoch 196/500\n",
      "25/25 [==============================] - 0s 5ms/step - loss: 203.8992 - val_loss: 1628.9399\n",
      "Epoch 197/500\n",
      "25/25 [==============================] - 0s 5ms/step - loss: 203.8842 - val_loss: 1629.2435\n",
      "Epoch 198/500\n",
      "25/25 [==============================] - 0s 5ms/step - loss: 203.8701 - val_loss: 1629.5298\n",
      "Epoch 199/500\n",
      "25/25 [==============================] - 0s 5ms/step - loss: 203.8571 - val_loss: 1629.7993\n",
      "Epoch 200/500\n",
      "25/25 [==============================] - 0s 4ms/step - loss: 203.8450 - val_loss: 1630.0518\n",
      "Epoch 201/500\n",
      "25/25 [==============================] - 0s 5ms/step - loss: 203.8336 - val_loss: 1630.2904\n",
      "Epoch 202/500\n",
      "25/25 [==============================] - 0s 5ms/step - loss: 203.8231 - val_loss: 1630.5133\n",
      "Epoch 203/500\n",
      "25/25 [==============================] - 0s 6ms/step - loss: 203.8133 - val_loss: 1630.7228\n",
      "Epoch 204/500\n",
      "25/25 [==============================] - 0s 5ms/step - loss: 203.8042 - val_loss: 1630.9207\n",
      "Epoch 205/500\n",
      "25/25 [==============================] - 0s 5ms/step - loss: 203.7957 - val_loss: 1631.1056\n",
      "Epoch 206/500\n",
      "25/25 [==============================] - 0s 5ms/step - loss: 203.7878 - val_loss: 1631.2799\n",
      "Epoch 207/500\n",
      "25/25 [==============================] - 0s 5ms/step - loss: 203.7805 - val_loss: 1631.4425\n",
      "Epoch 208/500\n",
      "25/25 [==============================] - 0s 5ms/step - loss: 203.7738 - val_loss: 1631.5948\n",
      "Epoch 209/500\n",
      "25/25 [==============================] - 0s 5ms/step - loss: 203.7675 - val_loss: 1631.7380\n",
      "Epoch 210/500\n",
      "25/25 [==============================] - 0s 5ms/step - loss: 203.7617 - val_loss: 1631.8733\n",
      "Epoch 211/500\n",
      "25/25 [==============================] - 0s 5ms/step - loss: 203.7563 - val_loss: 1631.9985\n",
      "Epoch 212/500\n",
      "25/25 [==============================] - 0s 6ms/step - loss: 203.7513 - val_loss: 1632.1165\n",
      "Epoch 213/500\n",
      "25/25 [==============================] - 0s 6ms/step - loss: 203.7467 - val_loss: 1632.2266\n",
      "Epoch 214/500\n",
      "25/25 [==============================] - 0s 20ms/step - loss: 203.7425 - val_loss: 1632.3301\n",
      "Epoch 215/500\n",
      "25/25 [==============================] - 0s 7ms/step - loss: 203.7386 - val_loss: 1632.4268\n",
      "Epoch 216/500\n",
      "25/25 [==============================] - 0s 6ms/step - loss: 203.7349 - val_loss: 1632.5165\n",
      "Epoch 217/500\n",
      "25/25 [==============================] - 0s 5ms/step - loss: 203.7316 - val_loss: 1632.6014\n",
      "Epoch 218/500\n",
      "25/25 [==============================] - 0s 5ms/step - loss: 203.7285 - val_loss: 1632.6803\n",
      "Epoch 219/500\n",
      "25/25 [==============================] - 0s 10ms/step - loss: 203.7256 - val_loss: 1632.7540\n",
      "Epoch 220/500\n",
      "25/25 [==============================] - 0s 7ms/step - loss: 203.7232 - val_loss: 1632.8229\n",
      "Epoch 221/500\n",
      "25/25 [==============================] - 0s 5ms/step - loss: 203.7208 - val_loss: 1632.8872\n",
      "Epoch 222/500\n",
      "25/25 [==============================] - 0s 5ms/step - loss: 203.7186 - val_loss: 1632.9473\n",
      "Epoch 223/500\n",
      "25/25 [==============================] - 0s 5ms/step - loss: 203.7167 - val_loss: 1633.0037\n",
      "Epoch 224/500\n",
      "25/25 [==============================] - 0s 5ms/step - loss: 203.7148 - val_loss: 1633.0554\n",
      "Epoch 225/500\n",
      "25/25 [==============================] - 0s 5ms/step - loss: 203.7133 - val_loss: 1633.1045\n",
      "Epoch 226/500\n",
      "25/25 [==============================] - 0s 8ms/step - loss: 203.7118 - val_loss: 1633.1503\n",
      "Epoch 227/500\n",
      "25/25 [==============================] - 0s 8ms/step - loss: 203.7104 - val_loss: 1633.1920\n",
      "Epoch 228/500\n",
      "25/25 [==============================] - 0s 7ms/step - loss: 203.7093 - val_loss: 1633.2314\n",
      "Epoch 229/500\n",
      "25/25 [==============================] - 0s 9ms/step - loss: 203.7083 - val_loss: 1633.2678\n",
      "Epoch 230/500\n",
      "25/25 [==============================] - 0s 7ms/step - loss: 203.7074 - val_loss: 1633.3029\n",
      "Epoch 231/500\n",
      "25/25 [==============================] - 0s 8ms/step - loss: 203.7065 - val_loss: 1633.3352\n",
      "Epoch 232/500\n",
      "25/25 [==============================] - 0s 6ms/step - loss: 203.7057 - val_loss: 1633.3647\n",
      "Epoch 233/500\n",
      "25/25 [==============================] - 0s 6ms/step - loss: 203.7050 - val_loss: 1633.3917\n",
      "Epoch 234/500\n",
      "25/25 [==============================] - 0s 5ms/step - loss: 203.7046 - val_loss: 1633.4182\n",
      "Epoch 235/500\n",
      "25/25 [==============================] - 0s 5ms/step - loss: 203.7040 - val_loss: 1633.4430\n",
      "Epoch 236/500\n",
      "25/25 [==============================] - 0s 9ms/step - loss: 203.7035 - val_loss: 1633.4647\n",
      "Epoch 237/500\n",
      "25/25 [==============================] - 0s 7ms/step - loss: 203.7031 - val_loss: 1633.4850\n",
      "Epoch 238/500\n",
      "25/25 [==============================] - 0s 6ms/step - loss: 203.7029 - val_loss: 1633.5045\n",
      "Epoch 239/500\n",
      "25/25 [==============================] - 0s 5ms/step - loss: 203.7026 - val_loss: 1633.5225\n",
      "Epoch 240/500\n",
      "25/25 [==============================] - 0s 4ms/step - loss: 203.7024 - val_loss: 1633.5386\n",
      "Epoch 241/500\n",
      "25/25 [==============================] - 0s 6ms/step - loss: 203.7023 - val_loss: 1633.5542\n",
      "Epoch 242/500\n",
      "25/25 [==============================] - 0s 4ms/step - loss: 203.7022 - val_loss: 1633.5690\n",
      "Epoch 243/500\n",
      "25/25 [==============================] - 0s 5ms/step - loss: 203.7022 - val_loss: 1633.5824\n",
      "Epoch 244/500\n",
      "25/25 [==============================] - 0s 5ms/step - loss: 203.7021 - val_loss: 1633.5955\n",
      "Epoch 245/500\n",
      "25/25 [==============================] - 0s 7ms/step - loss: 203.7021 - val_loss: 1633.6067\n",
      "Epoch 246/500\n",
      "25/25 [==============================] - 0s 5ms/step - loss: 203.7021 - val_loss: 1633.6177\n",
      "Epoch 247/500\n",
      "25/25 [==============================] - 0s 5ms/step - loss: 203.7021 - val_loss: 1633.6277\n",
      "Epoch 248/500\n",
      "25/25 [==============================] - 0s 5ms/step - loss: 203.7023 - val_loss: 1633.6372\n",
      "Epoch 249/500\n",
      "25/25 [==============================] - 0s 5ms/step - loss: 203.7023 - val_loss: 1633.6461\n",
      "Epoch 250/500\n",
      "25/25 [==============================] - 0s 5ms/step - loss: 203.7025 - val_loss: 1633.6541\n",
      "Epoch 251/500\n",
      "25/25 [==============================] - 0s 5ms/step - loss: 203.7026 - val_loss: 1633.6615\n",
      "Epoch 252/500\n",
      "25/25 [==============================] - 0s 4ms/step - loss: 203.7028 - val_loss: 1633.6682\n",
      "Epoch 253/500\n",
      "25/25 [==============================] - 0s 4ms/step - loss: 203.7029 - val_loss: 1633.6746\n",
      "Epoch 254/500\n",
      "25/25 [==============================] - 0s 5ms/step - loss: 203.7031 - val_loss: 1633.6813\n",
      "Epoch 255/500\n",
      "25/25 [==============================] - 0s 5ms/step - loss: 203.7033 - val_loss: 1633.6862\n",
      "Epoch 256/500\n",
      "25/25 [==============================] - 0s 5ms/step - loss: 203.7035 - val_loss: 1633.6917\n",
      "Epoch 257/500\n",
      "25/25 [==============================] - 0s 6ms/step - loss: 203.7038 - val_loss: 1633.6963\n",
      "Epoch 258/500\n",
      "25/25 [==============================] - 0s 5ms/step - loss: 203.7040 - val_loss: 1633.7003\n",
      "Epoch 259/500\n",
      "25/25 [==============================] - 0s 5ms/step - loss: 203.7042 - val_loss: 1633.7046\n",
      "Epoch 260/500\n",
      "25/25 [==============================] - 0s 6ms/step - loss: 203.7045 - val_loss: 1633.7084\n",
      "Epoch 261/500\n",
      "25/25 [==============================] - 0s 5ms/step - loss: 203.7047 - val_loss: 1633.7120\n",
      "Epoch 262/500\n",
      "25/25 [==============================] - 0s 7ms/step - loss: 203.7049 - val_loss: 1633.7148\n",
      "Epoch 263/500\n",
      "25/25 [==============================] - 0s 5ms/step - loss: 203.7052 - val_loss: 1633.7173\n",
      "Epoch 264/500\n",
      "25/25 [==============================] - 0s 13ms/step - loss: 203.7055 - val_loss: 1633.7212\n",
      "Epoch 265/500\n",
      "25/25 [==============================] - 0s 6ms/step - loss: 203.7057 - val_loss: 1633.7235\n",
      "Epoch 266/500\n",
      "25/25 [==============================] - 0s 6ms/step - loss: 203.7060 - val_loss: 1633.7252\n",
      "Epoch 267/500\n",
      "25/25 [==============================] - 0s 6ms/step - loss: 203.7063 - val_loss: 1633.7281\n",
      "Epoch 268/500\n",
      "25/25 [==============================] - 0s 6ms/step - loss: 203.7065 - val_loss: 1633.7300\n",
      "Epoch 269/500\n",
      "25/25 [==============================] - 0s 5ms/step - loss: 203.7068 - val_loss: 1633.7314\n",
      "Epoch 270/500\n",
      "25/25 [==============================] - 0s 5ms/step - loss: 203.7070 - val_loss: 1633.7329\n",
      "Epoch 271/500\n",
      "25/25 [==============================] - 0s 5ms/step - loss: 203.7073 - val_loss: 1633.7350\n",
      "Epoch 272/500\n",
      "25/25 [==============================] - 0s 4ms/step - loss: 203.7075 - val_loss: 1633.7363\n",
      "Epoch 273/500\n",
      "25/25 [==============================] - 0s 4ms/step - loss: 203.7078 - val_loss: 1633.7377\n",
      "Epoch 274/500\n",
      "25/25 [==============================] - 0s 4ms/step - loss: 203.7081 - val_loss: 1633.7389\n",
      "Epoch 275/500\n",
      "25/25 [==============================] - 0s 4ms/step - loss: 203.7084 - val_loss: 1633.7404\n",
      "Epoch 276/500\n",
      "25/25 [==============================] - 0s 5ms/step - loss: 203.7086 - val_loss: 1633.7410\n",
      "Epoch 277/500\n",
      "25/25 [==============================] - 0s 5ms/step - loss: 203.7088 - val_loss: 1633.7423\n",
      "Epoch 278/500\n",
      "25/25 [==============================] - 0s 5ms/step - loss: 203.7091 - val_loss: 1633.7429\n",
      "Epoch 279/500\n",
      "25/25 [==============================] - 0s 5ms/step - loss: 203.7094 - val_loss: 1633.7444\n",
      "Epoch 280/500\n",
      "25/25 [==============================] - 0s 5ms/step - loss: 203.7095 - val_loss: 1633.7458\n",
      "Epoch 281/500\n",
      "25/25 [==============================] - 0s 5ms/step - loss: 203.7098 - val_loss: 1633.7463\n",
      "Epoch 282/500\n",
      "25/25 [==============================] - 0s 5ms/step - loss: 203.7100 - val_loss: 1633.7466\n",
      "Epoch 283/500\n",
      "25/25 [==============================] - 0s 5ms/step - loss: 203.7103 - val_loss: 1633.7473\n",
      "Epoch 284/500\n",
      "25/25 [==============================] - 0s 5ms/step - loss: 203.7105 - val_loss: 1633.7476\n",
      "Epoch 285/500\n",
      "25/25 [==============================] - 0s 5ms/step - loss: 203.7108 - val_loss: 1633.7484\n",
      "Epoch 286/500\n",
      "25/25 [==============================] - 0s 5ms/step - loss: 203.7109 - val_loss: 1633.7489\n",
      "Epoch 287/500\n",
      "25/25 [==============================] - 0s 7ms/step - loss: 203.7112 - val_loss: 1633.7494\n",
      "Epoch 288/500\n",
      "25/25 [==============================] - 0s 5ms/step - loss: 203.7113 - val_loss: 1633.7496\n",
      "Epoch 289/500\n",
      "25/25 [==============================] - 0s 5ms/step - loss: 203.7115 - val_loss: 1633.7496\n",
      "Epoch 290/500\n",
      "25/25 [==============================] - 0s 5ms/step - loss: 203.7117 - val_loss: 1633.7500\n",
      "Epoch 291/500\n",
      "25/25 [==============================] - 0s 5ms/step - loss: 203.7119 - val_loss: 1633.7500\n",
      "Epoch 292/500\n",
      "25/25 [==============================] - 0s 7ms/step - loss: 203.7122 - val_loss: 1633.7509\n",
      "Epoch 293/500\n",
      "25/25 [==============================] - 0s 11ms/step - loss: 203.7123 - val_loss: 1633.7515\n",
      "Epoch 294/500\n",
      "25/25 [==============================] - 0s 6ms/step - loss: 203.7125 - val_loss: 1633.7521\n",
      "Epoch 295/500\n",
      "25/25 [==============================] - 0s 5ms/step - loss: 203.7128 - val_loss: 1633.7526\n",
      "Epoch 296/500\n",
      "25/25 [==============================] - 0s 5ms/step - loss: 203.7128 - val_loss: 1633.7526\n",
      "Epoch 297/500\n",
      "25/25 [==============================] - 0s 5ms/step - loss: 203.7131 - val_loss: 1633.7526\n",
      "Epoch 298/500\n",
      "25/25 [==============================] - 0s 5ms/step - loss: 203.7132 - val_loss: 1633.7526\n",
      "Epoch 299/500\n",
      "25/25 [==============================] - 0s 5ms/step - loss: 203.7134 - val_loss: 1633.7527\n",
      "Epoch 300/500\n",
      "25/25 [==============================] - 0s 5ms/step - loss: 203.7136 - val_loss: 1633.7537\n",
      "Epoch 301/500\n",
      "25/25 [==============================] - 0s 5ms/step - loss: 203.7137 - val_loss: 1633.7539\n",
      "Epoch 302/500\n",
      "25/25 [==============================] - 0s 6ms/step - loss: 203.7139 - val_loss: 1633.7542\n",
      "Epoch 303/500\n",
      "25/25 [==============================] - 0s 5ms/step - loss: 203.7141 - val_loss: 1633.7543\n",
      "Epoch 304/500\n",
      "25/25 [==============================] - 0s 6ms/step - loss: 203.7142 - val_loss: 1633.7545\n",
      "Epoch 305/500\n",
      "25/25 [==============================] - 0s 5ms/step - loss: 203.7144 - val_loss: 1633.7548\n",
      "Epoch 306/500\n",
      "25/25 [==============================] - 0s 6ms/step - loss: 203.7145 - val_loss: 1633.7546\n",
      "Epoch 307/500\n",
      "25/25 [==============================] - 0s 7ms/step - loss: 203.7146 - val_loss: 1633.7546\n",
      "Epoch 308/500\n",
      "25/25 [==============================] - 0s 6ms/step - loss: 203.7148 - val_loss: 1633.7543\n",
      "Epoch 309/500\n",
      "25/25 [==============================] - 0s 7ms/step - loss: 203.7150 - val_loss: 1633.7546\n",
      "Epoch 310/500\n",
      "25/25 [==============================] - 0s 9ms/step - loss: 203.7151 - val_loss: 1633.7552\n",
      "Epoch 311/500\n",
      "25/25 [==============================] - 0s 6ms/step - loss: 203.7152 - val_loss: 1633.7551\n",
      "Epoch 312/500\n",
      "25/25 [==============================] - 0s 6ms/step - loss: 203.7153 - val_loss: 1633.7552\n",
      "Epoch 313/500\n",
      "25/25 [==============================] - 0s 6ms/step - loss: 203.7155 - val_loss: 1633.7557\n",
      "Epoch 314/500\n",
      "25/25 [==============================] - 0s 5ms/step - loss: 203.7156 - val_loss: 1633.7562\n",
      "Epoch 315/500\n",
      "25/25 [==============================] - 0s 5ms/step - loss: 203.7156 - val_loss: 1633.7557\n",
      "Epoch 316/500\n",
      "25/25 [==============================] - 0s 5ms/step - loss: 203.7158 - val_loss: 1633.7560\n",
      "Epoch 317/500\n",
      "25/25 [==============================] - 0s 5ms/step - loss: 203.7159 - val_loss: 1633.7562\n",
      "Epoch 318/500\n",
      "25/25 [==============================] - 0s 5ms/step - loss: 203.7160 - val_loss: 1633.7566\n",
      "Epoch 319/500\n",
      "25/25 [==============================] - 0s 6ms/step - loss: 203.7161 - val_loss: 1633.7565\n",
      "Epoch 320/500\n",
      "25/25 [==============================] - 0s 13ms/step - loss: 203.7162 - val_loss: 1633.7562\n",
      "Epoch 321/500\n",
      "25/25 [==============================] - 0s 5ms/step - loss: 203.7162 - val_loss: 1633.7562\n",
      "Epoch 322/500\n",
      "25/25 [==============================] - 0s 5ms/step - loss: 203.7164 - val_loss: 1633.7561\n",
      "Epoch 323/500\n",
      "25/25 [==============================] - 0s 5ms/step - loss: 203.7165 - val_loss: 1633.7557\n",
      "Epoch 324/500\n",
      "25/25 [==============================] - 0s 5ms/step - loss: 203.7167 - val_loss: 1633.7557\n",
      "Epoch 325/500\n",
      "25/25 [==============================] - 0s 5ms/step - loss: 203.7167 - val_loss: 1633.7557\n",
      "Epoch 326/500\n",
      "25/25 [==============================] - 0s 5ms/step - loss: 203.7168 - val_loss: 1633.7556\n",
      "Epoch 327/500\n",
      "25/25 [==============================] - 0s 5ms/step - loss: 203.7169 - val_loss: 1633.7556\n",
      "Epoch 328/500\n",
      "25/25 [==============================] - 0s 5ms/step - loss: 203.7170 - val_loss: 1633.7561\n",
      "Epoch 329/500\n",
      "25/25 [==============================] - 0s 5ms/step - loss: 203.7171 - val_loss: 1633.7561\n",
      "Epoch 330/500\n",
      "25/25 [==============================] - 0s 8ms/step - loss: 203.7172 - val_loss: 1633.7561\n",
      "Epoch 331/500\n",
      "25/25 [==============================] - 0s 5ms/step - loss: 203.7173 - val_loss: 1633.7557\n",
      "Epoch 332/500\n",
      "25/25 [==============================] - 0s 5ms/step - loss: 203.7173 - val_loss: 1633.7556\n",
      "Epoch 333/500\n",
      "25/25 [==============================] - 0s 5ms/step - loss: 203.7175 - val_loss: 1633.7550\n",
      "Epoch 334/500\n",
      "25/25 [==============================] - 0s 5ms/step - loss: 203.7176 - val_loss: 1633.7552\n",
      "Epoch 335/500\n",
      "25/25 [==============================] - 0s 5ms/step - loss: 203.7176 - val_loss: 1633.7565\n",
      "Epoch 336/500\n",
      "25/25 [==============================] - 0s 5ms/step - loss: 203.7176 - val_loss: 1633.7567\n",
      "Epoch 337/500\n",
      "25/25 [==============================] - 0s 5ms/step - loss: 203.7177 - val_loss: 1633.7562\n",
      "Epoch 338/500\n",
      "25/25 [==============================] - 0s 5ms/step - loss: 203.7177 - val_loss: 1633.7560\n",
      "Epoch 339/500\n",
      "25/25 [==============================] - 0s 5ms/step - loss: 203.7178 - val_loss: 1633.7555\n",
      "Epoch 340/500\n",
      "25/25 [==============================] - 0s 5ms/step - loss: 203.7179 - val_loss: 1633.7551\n",
      "Epoch 341/500\n",
      "25/25 [==============================] - 0s 5ms/step - loss: 203.7180 - val_loss: 1633.7550\n",
      "Epoch 342/500\n",
      "25/25 [==============================] - 0s 5ms/step - loss: 203.7181 - val_loss: 1633.7552\n",
      "Epoch 343/500\n",
      "25/25 [==============================] - 0s 5ms/step - loss: 203.7182 - val_loss: 1633.7556\n",
      "Epoch 344/500\n",
      "25/25 [==============================] - 0s 5ms/step - loss: 203.7183 - val_loss: 1633.7562\n",
      "Epoch 345/500\n",
      "25/25 [==============================] - 0s 5ms/step - loss: 203.7183 - val_loss: 1633.7562\n",
      "Epoch 346/500\n",
      "25/25 [==============================] - 0s 5ms/step - loss: 203.7183 - val_loss: 1633.7562\n",
      "Epoch 347/500\n",
      "25/25 [==============================] - 0s 5ms/step - loss: 203.7184 - val_loss: 1633.7561\n",
      "Epoch 348/500\n",
      "25/25 [==============================] - 0s 11ms/step - loss: 203.7184 - val_loss: 1633.7560\n",
      "Epoch 349/500\n",
      "25/25 [==============================] - 0s 6ms/step - loss: 203.7185 - val_loss: 1633.7556\n",
      "Epoch 350/500\n",
      "25/25 [==============================] - 0s 5ms/step - loss: 203.7186 - val_loss: 1633.7551\n",
      "Epoch 351/500\n",
      "25/25 [==============================] - 0s 5ms/step - loss: 203.7186 - val_loss: 1633.7545\n",
      "Epoch 352/500\n",
      "25/25 [==============================] - 0s 5ms/step - loss: 203.7188 - val_loss: 1633.7543\n",
      "Epoch 353/500\n",
      "25/25 [==============================] - 0s 5ms/step - loss: 203.7189 - val_loss: 1633.7545\n",
      "Epoch 354/500\n",
      "25/25 [==============================] - 0s 5ms/step - loss: 203.7189 - val_loss: 1633.7556\n",
      "Epoch 355/500\n",
      "25/25 [==============================] - 0s 5ms/step - loss: 203.7189 - val_loss: 1633.7567\n",
      "Epoch 356/500\n",
      "25/25 [==============================] - 0s 5ms/step - loss: 203.7188 - val_loss: 1633.7571\n",
      "Epoch 357/500\n",
      "25/25 [==============================] - 0s 5ms/step - loss: 203.7189 - val_loss: 1633.7573\n",
      "Epoch 358/500\n",
      "25/25 [==============================] - 0s 6ms/step - loss: 203.7189 - val_loss: 1633.7567\n",
      "Epoch 359/500\n",
      "25/25 [==============================] - 0s 5ms/step - loss: 203.7189 - val_loss: 1633.7566\n",
      "Epoch 360/500\n",
      "25/25 [==============================] - 0s 5ms/step - loss: 203.7190 - val_loss: 1633.7557\n",
      "Epoch 361/500\n",
      "25/25 [==============================] - 0s 4ms/step - loss: 203.7191 - val_loss: 1633.7561\n",
      "Epoch 362/500\n",
      "25/25 [==============================] - 0s 4ms/step - loss: 203.7191 - val_loss: 1633.7572\n",
      "Epoch 363/500\n",
      "25/25 [==============================] - 0s 4ms/step - loss: 203.7191 - val_loss: 1633.7581\n",
      "Epoch 364/500\n",
      "25/25 [==============================] - 0s 4ms/step - loss: 203.7191 - val_loss: 1633.7582\n",
      "Epoch 365/500\n",
      "25/25 [==============================] - 0s 5ms/step - loss: 203.7191 - val_loss: 1633.7578\n",
      "Epoch 366/500\n",
      "25/25 [==============================] - 0s 5ms/step - loss: 203.7192 - val_loss: 1633.7583\n",
      "Epoch 367/500\n",
      "25/25 [==============================] - 0s 5ms/step - loss: 203.7192 - val_loss: 1633.7590\n",
      "Epoch 368/500\n",
      "25/25 [==============================] - 0s 5ms/step - loss: 203.7192 - val_loss: 1633.7590\n",
      "Epoch 369/500\n",
      "25/25 [==============================] - 0s 5ms/step - loss: 203.7192 - val_loss: 1633.7590\n",
      "Epoch 370/500\n",
      "25/25 [==============================] - 0s 5ms/step - loss: 203.7192 - val_loss: 1633.7585\n",
      "Epoch 371/500\n",
      "25/25 [==============================] - 0s 5ms/step - loss: 203.7193 - val_loss: 1633.7582\n",
      "Epoch 372/500\n",
      "25/25 [==============================] - 0s 7ms/step - loss: 203.7193 - val_loss: 1633.7577\n",
      "Epoch 373/500\n",
      "25/25 [==============================] - 0s 7ms/step - loss: 203.7194 - val_loss: 1633.7567\n",
      "Epoch 374/500\n",
      "25/25 [==============================] - 0s 5ms/step - loss: 203.7194 - val_loss: 1633.7557\n",
      "Epoch 375/500\n",
      "25/25 [==============================] - 0s 5ms/step - loss: 203.7195 - val_loss: 1633.7561\n",
      "Epoch 376/500\n",
      "25/25 [==============================] - 0s 5ms/step - loss: 203.7196 - val_loss: 1633.7557\n",
      "Epoch 377/500\n",
      "25/25 [==============================] - 0s 5ms/step - loss: 203.7196 - val_loss: 1633.7561\n",
      "Epoch 378/500\n",
      "25/25 [==============================] - 0s 5ms/step - loss: 203.7197 - val_loss: 1633.7572\n",
      "Epoch 379/500\n",
      "25/25 [==============================] - 0s 5ms/step - loss: 203.7197 - val_loss: 1633.7583\n",
      "Epoch 380/500\n",
      "25/25 [==============================] - 0s 5ms/step - loss: 203.7196 - val_loss: 1633.7590\n",
      "Epoch 381/500\n",
      "25/25 [==============================] - 0s 5ms/step - loss: 203.7196 - val_loss: 1633.7593\n",
      "Epoch 382/500\n",
      "25/25 [==============================] - 0s 5ms/step - loss: 203.7196 - val_loss: 1633.7598\n",
      "Epoch 383/500\n",
      "25/25 [==============================] - 0s 7ms/step - loss: 203.7196 - val_loss: 1633.7603\n",
      "Epoch 384/500\n",
      "25/25 [==============================] - 0s 5ms/step - loss: 203.7196 - val_loss: 1633.7603\n",
      "Epoch 385/500\n",
      "25/25 [==============================] - 0s 5ms/step - loss: 203.7196 - val_loss: 1633.7603\n",
      "Epoch 386/500\n",
      "25/25 [==============================] - 0s 5ms/step - loss: 203.7196 - val_loss: 1633.7598\n",
      "Epoch 387/500\n",
      "25/25 [==============================] - 0s 8ms/step - loss: 203.7196 - val_loss: 1633.7593\n",
      "Epoch 388/500\n",
      "25/25 [==============================] - 0s 6ms/step - loss: 203.7197 - val_loss: 1633.7590\n",
      "Epoch 389/500\n",
      "25/25 [==============================] - 0s 5ms/step - loss: 203.7197 - val_loss: 1633.7590\n",
      "Epoch 390/500\n",
      "25/25 [==============================] - 0s 5ms/step - loss: 203.7198 - val_loss: 1633.7585\n",
      "Epoch 391/500\n",
      "25/25 [==============================] - 0s 5ms/step - loss: 203.7198 - val_loss: 1633.7572\n",
      "Epoch 392/500\n",
      "25/25 [==============================] - 0s 5ms/step - loss: 203.7199 - val_loss: 1633.7567\n",
      "Epoch 393/500\n",
      "25/25 [==============================] - 0s 5ms/step - loss: 203.7199 - val_loss: 1633.7565\n",
      "Epoch 394/500\n",
      "25/25 [==============================] - 0s 5ms/step - loss: 203.7200 - val_loss: 1633.7565\n",
      "Epoch 395/500\n",
      "25/25 [==============================] - 0s 5ms/step - loss: 203.7200 - val_loss: 1633.7560\n",
      "Epoch 396/500\n",
      "25/25 [==============================] - 0s 5ms/step - loss: 203.7200 - val_loss: 1633.7560\n",
      "Epoch 397/500\n",
      "25/25 [==============================] - 0s 6ms/step - loss: 203.7200 - val_loss: 1633.7562\n",
      "Epoch 398/500\n",
      "25/25 [==============================] - 0s 15ms/step - loss: 203.7200 - val_loss: 1633.7566\n",
      "Epoch 399/500\n",
      "25/25 [==============================] - 0s 8ms/step - loss: 203.7200 - val_loss: 1633.7567\n",
      "Epoch 400/500\n",
      "25/25 [==============================] - 0s 6ms/step - loss: 203.7200 - val_loss: 1633.7568\n",
      "Epoch 401/500\n",
      "25/25 [==============================] - 0s 6ms/step - loss: 203.7200 - val_loss: 1633.7573\n",
      "Epoch 402/500\n",
      "25/25 [==============================] - 0s 8ms/step - loss: 203.7200 - val_loss: 1633.7573\n",
      "Epoch 403/500\n",
      "25/25 [==============================] - 0s 6ms/step - loss: 203.7201 - val_loss: 1633.7568\n",
      "Epoch 404/500\n",
      "25/25 [==============================] - 0s 5ms/step - loss: 203.7201 - val_loss: 1633.7567\n",
      "Epoch 405/500\n",
      "25/25 [==============================] - 0s 5ms/step - loss: 203.7201 - val_loss: 1633.7568\n",
      "Epoch 406/500\n",
      "25/25 [==============================] - 0s 5ms/step - loss: 203.7201 - val_loss: 1633.7576\n",
      "Epoch 407/500\n",
      "25/25 [==============================] - 0s 5ms/step - loss: 203.7201 - val_loss: 1633.7587\n",
      "Epoch 408/500\n",
      "25/25 [==============================] - 0s 5ms/step - loss: 203.7201 - val_loss: 1633.7587\n",
      "Epoch 409/500\n",
      "25/25 [==============================] - 0s 5ms/step - loss: 203.7201 - val_loss: 1633.7590\n",
      "Epoch 410/500\n",
      "25/25 [==============================] - 0s 5ms/step - loss: 203.7201 - val_loss: 1633.7587\n",
      "Epoch 411/500\n",
      "25/25 [==============================] - 0s 5ms/step - loss: 203.7201 - val_loss: 1633.7587\n",
      "Epoch 412/500\n",
      "25/25 [==============================] - 0s 6ms/step - loss: 203.7201 - val_loss: 1633.7587\n",
      "Epoch 413/500\n",
      "25/25 [==============================] - 0s 5ms/step - loss: 203.7201 - val_loss: 1633.7582\n",
      "Epoch 414/500\n",
      "25/25 [==============================] - 0s 7ms/step - loss: 203.7202 - val_loss: 1633.7573\n",
      "Epoch 415/500\n",
      "25/25 [==============================] - 0s 5ms/step - loss: 203.7202 - val_loss: 1633.7568\n",
      "Epoch 416/500\n",
      "25/25 [==============================] - 0s 5ms/step - loss: 203.7202 - val_loss: 1633.7562\n",
      "Epoch 417/500\n",
      "25/25 [==============================] - 0s 5ms/step - loss: 203.7202 - val_loss: 1633.7562\n",
      "Epoch 418/500\n",
      "25/25 [==============================] - 0s 5ms/step - loss: 203.7203 - val_loss: 1633.7557\n",
      "Epoch 419/500\n",
      "25/25 [==============================] - 0s 5ms/step - loss: 203.7203 - val_loss: 1633.7552\n",
      "Epoch 420/500\n",
      "25/25 [==============================] - 0s 6ms/step - loss: 203.7203 - val_loss: 1633.7556\n",
      "Epoch 421/500\n",
      "25/25 [==============================] - 0s 9ms/step - loss: 203.7203 - val_loss: 1633.7556\n",
      "Epoch 422/500\n",
      "25/25 [==============================] - 0s 5ms/step - loss: 203.7204 - val_loss: 1633.7557\n",
      "Epoch 423/500\n",
      "25/25 [==============================] - 0s 5ms/step - loss: 203.7204 - val_loss: 1633.7561\n",
      "Epoch 424/500\n",
      "25/25 [==============================] - 0s 5ms/step - loss: 203.7204 - val_loss: 1633.7562\n",
      "Epoch 425/500\n",
      "25/25 [==============================] - 0s 5ms/step - loss: 203.7204 - val_loss: 1633.7562\n",
      "Epoch 426/500\n",
      "25/25 [==============================] - 0s 5ms/step - loss: 203.7204 - val_loss: 1633.7565\n",
      "Epoch 427/500\n",
      "25/25 [==============================] - 0s 5ms/step - loss: 203.7204 - val_loss: 1633.7565\n",
      "Epoch 428/500\n",
      "25/25 [==============================] - 0s 5ms/step - loss: 203.7204 - val_loss: 1633.7566\n",
      "Epoch 429/500\n",
      "25/25 [==============================] - 0s 5ms/step - loss: 203.7204 - val_loss: 1633.7565\n",
      "Epoch 430/500\n",
      "25/25 [==============================] - 0s 5ms/step - loss: 203.7205 - val_loss: 1633.7566\n",
      "Epoch 431/500\n",
      "25/25 [==============================] - 0s 5ms/step - loss: 203.7204 - val_loss: 1633.7567\n",
      "Epoch 432/500\n",
      "25/25 [==============================] - 0s 5ms/step - loss: 203.7205 - val_loss: 1633.7572\n",
      "Epoch 433/500\n",
      "25/25 [==============================] - 0s 5ms/step - loss: 203.7204 - val_loss: 1633.7578\n",
      "Epoch 434/500\n",
      "25/25 [==============================] - 0s 5ms/step - loss: 203.7204 - val_loss: 1633.7587\n",
      "Epoch 435/500\n",
      "25/25 [==============================] - 0s 5ms/step - loss: 203.7204 - val_loss: 1633.7590\n",
      "Epoch 436/500\n",
      "25/25 [==============================] - 0s 6ms/step - loss: 203.7204 - val_loss: 1633.7596\n",
      "Epoch 437/500\n",
      "25/25 [==============================] - 0s 6ms/step - loss: 203.7204 - val_loss: 1633.7599\n",
      "Epoch 438/500\n",
      "25/25 [==============================] - 0s 6ms/step - loss: 203.7203 - val_loss: 1633.7604\n",
      "Epoch 439/500\n",
      "25/25 [==============================] - 0s 7ms/step - loss: 203.7203 - val_loss: 1633.7611\n",
      "Epoch 440/500\n",
      "25/25 [==============================] - 0s 6ms/step - loss: 203.7203 - val_loss: 1633.7612\n",
      "Epoch 441/500\n",
      "25/25 [==============================] - 0s 6ms/step - loss: 203.7203 - val_loss: 1633.7614\n",
      "Epoch 442/500\n",
      "25/25 [==============================] - 0s 5ms/step - loss: 203.7203 - val_loss: 1633.7616\n",
      "Epoch 443/500\n",
      "25/25 [==============================] - 0s 5ms/step - loss: 203.7203 - val_loss: 1633.7620\n",
      "Epoch 444/500\n",
      "25/25 [==============================] - 0s 10ms/step - loss: 203.7203 - val_loss: 1633.7620\n",
      "Epoch 445/500\n",
      "25/25 [==============================] - 0s 5ms/step - loss: 203.7203 - val_loss: 1633.7622\n",
      "Epoch 446/500\n",
      "25/25 [==============================] - 0s 5ms/step - loss: 203.7203 - val_loss: 1633.7620\n",
      "Epoch 447/500\n",
      "25/25 [==============================] - 0s 5ms/step - loss: 203.7203 - val_loss: 1633.7622\n",
      "Epoch 448/500\n",
      "25/25 [==============================] - 0s 5ms/step - loss: 203.7203 - val_loss: 1633.7623\n",
      "Epoch 449/500\n",
      "25/25 [==============================] - 0s 5ms/step - loss: 203.7203 - val_loss: 1633.7623\n",
      "Epoch 450/500\n",
      "25/25 [==============================] - 0s 5ms/step - loss: 203.7203 - val_loss: 1633.7623\n",
      "Epoch 451/500\n",
      "25/25 [==============================] - 0s 5ms/step - loss: 203.7203 - val_loss: 1633.7625\n",
      "Epoch 452/500\n",
      "25/25 [==============================] - 0s 5ms/step - loss: 203.7203 - val_loss: 1633.7625\n",
      "Epoch 453/500\n",
      "25/25 [==============================] - 0s 5ms/step - loss: 203.7203 - val_loss: 1633.7625\n",
      "Epoch 454/500\n",
      "25/25 [==============================] - 0s 4ms/step - loss: 203.7203 - val_loss: 1633.7627\n",
      "Epoch 455/500\n",
      "25/25 [==============================] - 0s 4ms/step - loss: 203.7203 - val_loss: 1633.7627\n",
      "Epoch 456/500\n",
      "25/25 [==============================] - 0s 5ms/step - loss: 203.7203 - val_loss: 1633.7625\n",
      "Epoch 457/500\n",
      "25/25 [==============================] - 0s 4ms/step - loss: 203.7203 - val_loss: 1633.7625\n",
      "Epoch 458/500\n",
      "25/25 [==============================] - 0s 5ms/step - loss: 203.7203 - val_loss: 1633.7627\n",
      "Epoch 459/500\n",
      "25/25 [==============================] - 0s 5ms/step - loss: 203.7203 - val_loss: 1633.7628\n",
      "Epoch 460/500\n",
      "25/25 [==============================] - 0s 5ms/step - loss: 203.7203 - val_loss: 1633.7629\n",
      "Epoch 461/500\n",
      "25/25 [==============================] - 0s 5ms/step - loss: 203.7203 - val_loss: 1633.7633\n",
      "Epoch 462/500\n",
      "25/25 [==============================] - 0s 5ms/step - loss: 203.7203 - val_loss: 1633.7633\n",
      "Epoch 463/500\n",
      "25/25 [==============================] - 0s 5ms/step - loss: 203.7203 - val_loss: 1633.7638\n",
      "Epoch 464/500\n",
      "25/25 [==============================] - 0s 5ms/step - loss: 203.7204 - val_loss: 1633.7642\n",
      "Epoch 465/500\n",
      "25/25 [==============================] - 0s 5ms/step - loss: 203.7204 - val_loss: 1633.7644\n",
      "Epoch 466/500\n",
      "25/25 [==============================] - 0s 10ms/step - loss: 203.7203 - val_loss: 1633.7653\n",
      "Epoch 467/500\n",
      "25/25 [==============================] - 0s 9ms/step - loss: 203.7203 - val_loss: 1633.7662\n",
      "Epoch 468/500\n",
      "25/25 [==============================] - 0s 9ms/step - loss: 203.7203 - val_loss: 1633.7664\n",
      "Epoch 469/500\n",
      "25/25 [==============================] - 0s 7ms/step - loss: 203.7203 - val_loss: 1633.7667\n",
      "Epoch 470/500\n",
      "25/25 [==============================] - 0s 5ms/step - loss: 203.7203 - val_loss: 1633.7675\n",
      "Epoch 471/500\n",
      "25/25 [==============================] - 0s 4ms/step - loss: 203.7203 - val_loss: 1633.7675\n",
      "Epoch 472/500\n",
      "25/25 [==============================] - 0s 5ms/step - loss: 203.7202 - val_loss: 1633.7678\n",
      "Epoch 473/500\n",
      "25/25 [==============================] - 0s 5ms/step - loss: 203.7202 - val_loss: 1633.7678\n",
      "Epoch 474/500\n",
      "25/25 [==============================] - 0s 7ms/step - loss: 203.7202 - val_loss: 1633.7679\n",
      "Epoch 475/500\n",
      "25/25 [==============================] - 0s 5ms/step - loss: 203.7202 - val_loss: 1633.7676\n",
      "Epoch 476/500\n",
      "25/25 [==============================] - 0s 6ms/step - loss: 203.7202 - val_loss: 1633.7673\n",
      "Epoch 477/500\n",
      "25/25 [==============================] - 0s 6ms/step - loss: 203.7202 - val_loss: 1633.7675\n",
      "Epoch 478/500\n",
      "25/25 [==============================] - 0s 7ms/step - loss: 203.7202 - val_loss: 1633.7671\n",
      "Epoch 479/500\n",
      "25/25 [==============================] - 0s 6ms/step - loss: 203.7203 - val_loss: 1633.7671\n",
      "Epoch 480/500\n",
      "25/25 [==============================] - 0s 6ms/step - loss: 203.7203 - val_loss: 1633.7667\n",
      "Epoch 481/500\n",
      "25/25 [==============================] - 0s 5ms/step - loss: 203.7203 - val_loss: 1633.7668\n",
      "Epoch 482/500\n",
      "25/25 [==============================] - 0s 5ms/step - loss: 203.7203 - val_loss: 1633.7668\n",
      "Epoch 483/500\n",
      "25/25 [==============================] - 0s 5ms/step - loss: 203.7203 - val_loss: 1633.7668\n",
      "Epoch 484/500\n",
      "25/25 [==============================] - 0s 6ms/step - loss: 203.7203 - val_loss: 1633.7668\n",
      "Epoch 485/500\n",
      "25/25 [==============================] - 0s 5ms/step - loss: 203.7203 - val_loss: 1633.7670\n",
      "Epoch 486/500\n",
      "25/25 [==============================] - 0s 5ms/step - loss: 203.7203 - val_loss: 1633.7670\n",
      "Epoch 487/500\n",
      "25/25 [==============================] - 0s 5ms/step - loss: 203.7203 - val_loss: 1633.7670\n",
      "Epoch 488/500\n",
      "25/25 [==============================] - 0s 14ms/step - loss: 203.7204 - val_loss: 1633.7671\n",
      "Epoch 489/500\n",
      "25/25 [==============================] - 0s 7ms/step - loss: 203.7204 - val_loss: 1633.7671\n",
      "Epoch 490/500\n",
      "25/25 [==============================] - 0s 7ms/step - loss: 203.7204 - val_loss: 1633.7670\n",
      "Epoch 491/500\n",
      "25/25 [==============================] - 0s 6ms/step - loss: 203.7204 - val_loss: 1633.7671\n",
      "Epoch 492/500\n",
      "25/25 [==============================] - 0s 6ms/step - loss: 203.7204 - val_loss: 1633.7671\n",
      "Epoch 493/500\n",
      "25/25 [==============================] - 0s 5ms/step - loss: 203.7204 - val_loss: 1633.7671\n",
      "Epoch 494/500\n",
      "25/25 [==============================] - 0s 5ms/step - loss: 203.7204 - val_loss: 1633.7670\n",
      "Epoch 495/500\n",
      "25/25 [==============================] - 0s 5ms/step - loss: 203.7204 - val_loss: 1633.7670\n",
      "Epoch 496/500\n",
      "25/25 [==============================] - 0s 5ms/step - loss: 203.7204 - val_loss: 1633.7665\n",
      "Epoch 497/500\n",
      "25/25 [==============================] - 0s 6ms/step - loss: 203.7204 - val_loss: 1633.7659\n",
      "Epoch 498/500\n",
      "25/25 [==============================] - 0s 6ms/step - loss: 203.7203 - val_loss: 1633.7655\n",
      "Epoch 499/500\n",
      "25/25 [==============================] - 0s 7ms/step - loss: 203.7204 - val_loss: 1633.7654\n",
      "Epoch 500/500\n",
      "25/25 [==============================] - 0s 7ms/step - loss: 203.7204 - val_loss: 1633.7650\n"
     ]
    }
   ],
   "source": [
    "C0 = tf.Variable(86.6856, name=\"C0\", trainable=True, dtype=tf.float32)\n",
    "K0 = tf.Variable(-0.0008, name=\"K0\", trainable=True, dtype=tf.float32)\n",
    "K1 = tf.Variable(-0.0002, name=\"K1\", trainable=True, dtype=tf.float32)\n",
    "a = tf.Variable(0.0000, name=\"a\", trainable=True, dtype=tf.float32)\n",
    "b = tf.Variable(0.0128, name=\"b\", trainable=True, dtype=tf.float32)\n",
    "c = tf.Variable(-2.3003, name=\"c\", trainable=True, dtype=tf.float32)\n",
    "\n",
    "splitr = 0.8\n",
    "\n",
    "\n",
    "def loss_fn(y_true, y_pred):\n",
    "    squared_difference = tf.square(y_true[:, 0] - y_pred[:, 0])\n",
    "    #squared_difference2 = tf.square(y_true[:, 2]-y_pred[:, 2])\n",
    "    #squared_difference1 = tf.square(y_true[:, 1]-y_pred[:, 1])\n",
    "    epsilon = 1\n",
    "    squared_difference3 = tf.square(\n",
    "        y_pred[:, 1] - (\n",
    "            y_pred[:, 0] * (\n",
    "                K0 - K1 * (\n",
    "                    9 * a * tf.math.log((y_pred[:, 0] + epsilon) / C0) / (K0 - K1 * c)**2 +\n",
    "                    4 * b * tf.math.log((y_pred[:, 0] + epsilon) / C0) / (K0 - K1 * c) + c\n",
    "                )\n",
    "            )\n",
    "        )\n",
    "    )\n",
    "    return tf.reduce_mean(squared_difference, axis=-1) + 0.2*tf.reduce_mean(squared_difference3, axis=-1)\n",
    "model = Sequential()\n",
    "model.add(LSTM(100, input_shape=(trainX.shape[1], trainX.shape[2])))\n",
    "model.add(Dense(60))\n",
    "model.compile(loss=loss_fn, optimizer='adam')\n",
    "history = model.fit(trainX[:int(splitr*trainX.shape[0])], trainy[:int(splitr*trainX.shape[0])], epochs=500, batch_size=64, validation_data=(trainX[int(splitr*trainX.shape[0]):trainX.shape[0]], trainy[int(splitr*trainX.shape[0]):trainX.shape[0]]), shuffle=False)"
   ]
  },
  {
   "cell_type": "code",
   "execution_count": 19,
   "metadata": {
    "colab": {
     "base_uri": "https://localhost:8080/"
    },
    "id": "yJL101rPyuoT",
    "outputId": "239ff2b1-c186-423a-d316-939dfdd7c793"
   },
   "outputs": [
    {
     "name": "stdout",
     "output_type": "stream",
     "text": [
      "1/1 [==============================] - 1s 560ms/step\n"
     ]
    }
   ],
   "source": [
    "forecast_without_mc = forecastX\n",
    "yhat_without_mc = model.predict(forecast_without_mc) # Step Ahead Prediction\n",
    "forecast_without_mc = forecast_without_mc.reshape((forecast_without_mc.shape[0], forecast_without_mc.shape[2])) # Historical Input"
   ]
  },
  {
   "cell_type": "code",
   "execution_count": 20,
   "metadata": {
    "colab": {
     "base_uri": "https://localhost:8080/"
    },
    "id": "g9dQELcJ8wbp",
    "outputId": "4dc7671b-b1a8-48d5-8744-a86f98446109"
   },
   "outputs": [
    {
     "data": {
      "text/plain": [
       "(1, 1, 251)"
      ]
     },
     "execution_count": 20,
     "metadata": {},
     "output_type": "execute_result"
    }
   ],
   "source": [
    "forecastX.shape"
   ]
  },
  {
   "cell_type": "code",
   "execution_count": 21,
   "metadata": {
    "colab": {
     "base_uri": "https://localhost:8080/"
    },
    "id": "IS2kyIKG1Kbr",
    "outputId": "f31b3485-8e26-452f-9298-ea8bf7e80ad1"
   },
   "outputs": [
    {
     "data": {
      "text/plain": [
       "(1, 251)"
      ]
     },
     "execution_count": 21,
     "metadata": {},
     "output_type": "execute_result"
    }
   ],
   "source": [
    "forecast_without_mc.shape"
   ]
  },
  {
   "cell_type": "code",
   "execution_count": 22,
   "metadata": {
    "id": "0u6VIzaDyuoT"
   },
   "outputs": [],
   "source": [
    "inv_yhat_without_mc = np.concatenate((forecast_without_mc, yhat_without_mc), axis=1) # Concatenation of predicted values with Historical Data\n",
    "#inv_yhat_without_mc = scaler.inverse_transform(inv_yhat_without_mc) # Transform labels back to original encoding"
   ]
  },
  {
   "cell_type": "code",
   "execution_count": 23,
   "metadata": {
    "colab": {
     "base_uri": "https://localhost:8080/"
    },
    "id": "EUEcw0LX07oU",
    "outputId": "cfc32397-9c37-4b43-d087-584bb31c3dcc"
   },
   "outputs": [
    {
     "data": {
      "text/plain": [
       "(1, 311)"
      ]
     },
     "execution_count": 23,
     "metadata": {},
     "output_type": "execute_result"
    }
   ],
   "source": [
    "inv_yhat_without_mc.shape"
   ]
  },
  {
   "cell_type": "code",
   "execution_count": 24,
   "metadata": {
    "id": "31OWVbSh_305"
   },
   "outputs": [],
   "source": [
    "fforecast = inv_yhat_without_mc[:,-300:]"
   ]
  },
  {
   "cell_type": "code",
   "execution_count": 25,
   "metadata": {},
   "outputs": [
    {
     "data": {
      "text/plain": [
       "(1, 300)"
      ]
     },
     "execution_count": 25,
     "metadata": {},
     "output_type": "execute_result"
    }
   ],
   "source": [
    "fforecast.shape"
   ]
  },
  {
   "cell_type": "code",
   "execution_count": 26,
   "metadata": {
    "id": "BlpGH2FOAiRF"
   },
   "outputs": [],
   "source": [
    "final_forecast = fforecast[:,0:300:3]"
   ]
  },
  {
   "cell_type": "code",
   "execution_count": 27,
   "metadata": {},
   "outputs": [
    {
     "data": {
      "text/plain": [
       "(1, 300)"
      ]
     },
     "execution_count": 27,
     "metadata": {},
     "output_type": "execute_result"
    }
   ],
   "source": [
    "fforecast.shape"
   ]
  },
  {
   "cell_type": "code",
   "execution_count": 28,
   "metadata": {
    "id": "CXkgkj_LBk_t"
   },
   "outputs": [],
   "source": [
    "# code to replace all negative value with 0\n",
    "final_forecast[final_forecast<0] = 0"
   ]
  },
  {
   "cell_type": "code",
   "execution_count": 29,
   "metadata": {},
   "outputs": [
    {
     "data": {
      "text/plain": [
       "array([[7.00531513e+01, 6.99775210e+01, 6.99018908e+01, 6.98262605e+01,\n",
       "        7.52419281e+01, 0.00000000e+00, 3.13602660e-01, 0.00000000e+00,\n",
       "        0.00000000e+00, 0.00000000e+00, 0.00000000e+00, 1.96247760e-01,\n",
       "        0.00000000e+00, 7.01904062e+01, 7.01147759e+01, 7.00391457e+01,\n",
       "        1.63515449e-01, 0.00000000e+00, 7.03724790e+01, 7.02978487e+01,\n",
       "        7.02212185e+01, 7.01455882e+01, 7.00699580e+01, 6.99943277e+01,\n",
       "        6.99186975e+01, 6.98430672e+01, 6.95829132e+01, 0.00000000e+00,\n",
       "        0.00000000e+00, 7.01259804e+01, 7.00503501e+01, 6.99747199e+01,\n",
       "        6.98990896e+01, 6.98234594e+01, 6.94521942e+01, 6.89479925e+01,\n",
       "        6.84437908e+01, 6.79395892e+01, 0.00000000e+00, 0.00000000e+00,\n",
       "        5.22684860e+01, 0.00000000e+00, 1.68435514e-01, 0.00000000e+00,\n",
       "        0.00000000e+00, 0.00000000e+00, 0.00000000e+00, 6.98598739e+01,\n",
       "        6.96949580e+01, 2.78723180e-01, 0.00000000e+00, 7.01175770e+01,\n",
       "        7.00419468e+01, 6.99663165e+01, 6.98906863e+01, 6.98150560e+01,\n",
       "        6.93961718e+01, 6.88919701e+01, 6.83877684e+01, 6.78835668e+01,\n",
       "        0.00000000e+00, 0.00000000e+00, 6.98458684e+01, 6.96015873e+01,\n",
       "        6.90973856e+01, 6.85931839e+01, 6.80889823e+01, 7.06862045e+01,\n",
       "        7.04593137e+01, 7.02324230e+01, 0.00000000e+00, 3.87018085e-01,\n",
       "        0.00000000e+00, 6.37546730e+01, 0.00000000e+00, 7.67748475e-01,\n",
       "        9.00180340e-01, 1.61020607e-01, 0.00000000e+00, 0.00000000e+00,\n",
       "        6.72492981e+01, 0.00000000e+00, 1.79905474e-01, 1.86276942e-01,\n",
       "        0.00000000e+00, 0.00000000e+00, 2.02461034e-01, 3.36194858e-02,\n",
       "        5.90033650e-01, 8.22303474e-01, 0.00000000e+00, 0.00000000e+00,\n",
       "        0.00000000e+00, 1.05914399e-01, 0.00000000e+00, 0.00000000e+00,\n",
       "        0.00000000e+00, 0.00000000e+00, 0.00000000e+00, 0.00000000e+00]])"
      ]
     },
     "execution_count": 29,
     "metadata": {},
     "output_type": "execute_result"
    }
   ],
   "source": [
    "final_forecast"
   ]
  },
  {
   "cell_type": "code",
   "execution_count": 30,
   "metadata": {},
   "outputs": [
    {
     "data": {
      "text/plain": [
       "(1, 100)"
      ]
     },
     "execution_count": 30,
     "metadata": {},
     "output_type": "execute_result"
    }
   ],
   "source": [
    "final_forecast.shape"
   ]
  },
  {
   "cell_type": "code",
   "execution_count": 31,
   "metadata": {},
   "outputs": [
    {
     "data": {
      "text/plain": [
       "(100,)"
      ]
     },
     "execution_count": 31,
     "metadata": {},
     "output_type": "execute_result"
    }
   ],
   "source": [
    "test.shape"
   ]
  },
  {
   "cell_type": "code",
   "execution_count": 32,
   "metadata": {},
   "outputs": [],
   "source": [
    "training_set = np.array(training_set)\n",
    "test = np.array(test)\n",
    "final_forecast = np.array(final_forecast.squeeze(0))"
   ]
  },
  {
   "cell_type": "code",
   "execution_count": 33,
   "metadata": {},
   "outputs": [
    {
     "data": {
      "text/plain": [
       "array([56.21746259, 56.20516499, 56.19286739, 56.18056979, 56.16827219,\n",
       "       56.15597458, 56.14367698, 56.13137938, 56.11908178, 56.10678418,\n",
       "       56.09448658, 56.08218897, 56.06989137, 56.05759377, 56.04529617,\n",
       "       56.03299857, 56.02070096, 56.00840336, 55.99610576, 55.98380816,\n",
       "       55.97151056, 55.95921295, 55.94691535, 55.93461775, 55.92232015,\n",
       "       55.91002255, 55.89772494, 55.88542734, 55.87312974, 55.86083214,\n",
       "       55.84853454, 55.83623693, 55.82393933, 55.81164173, 55.79934413,\n",
       "       55.78704653, 55.77474892, 55.76245132, 55.75015372, 55.73785612,\n",
       "       55.72555852, 55.71326091, 55.70096331, 55.68866571, 55.67636811,\n",
       "       55.66407051, 55.6517729 , 55.6394753 , 55.6271777 , 55.6148801 ,\n",
       "       55.6025825 , 55.59028489, 55.57798729, 55.56568969, 55.55339209,\n",
       "       55.54109449, 55.52879688, 55.51649928, 55.50420168, 55.49190408,\n",
       "       55.47960648, 55.46730887, 55.45501127, 55.44271367, 55.43041607,\n",
       "       55.41811847, 55.40582086, 55.39352326, 55.38122566, 55.36892806,\n",
       "       55.35663046, 55.34433286, 55.33203525, 55.31973765, 55.30744005,\n",
       "       55.29514245, 55.28284485, 55.27054724, 55.25824964, 55.24595204,\n",
       "       55.23365444, 55.22135684, 55.20905923, 55.19676163, 55.18446403,\n",
       "       55.17216643, 55.15986883, 55.14757122, 55.13527362, 55.12297602,\n",
       "       55.11067842, 55.09838082, 55.08608321, 55.07378561, 55.06148801,\n",
       "       55.04919041, 55.03689281, 55.0245952 , 55.0122976 , 55.        ])"
      ]
     },
     "execution_count": 33,
     "metadata": {},
     "output_type": "execute_result"
    }
   ],
   "source": [
    "test"
   ]
  },
  {
   "cell_type": "code",
   "execution_count": 34,
   "metadata": {},
   "outputs": [
    {
     "data": {
      "text/plain": [
       "(100,)"
      ]
     },
     "execution_count": 34,
     "metadata": {},
     "output_type": "execute_result"
    }
   ],
   "source": [
    "test.shape"
   ]
  },
  {
   "cell_type": "code",
   "execution_count": 35,
   "metadata": {},
   "outputs": [
    {
     "data": {
      "text/plain": [
       "(100,)"
      ]
     },
     "execution_count": 35,
     "metadata": {},
     "output_type": "execute_result"
    }
   ],
   "source": [
    "final_forecast.shape"
   ]
  },
  {
   "cell_type": "code",
   "execution_count": 36,
   "metadata": {},
   "outputs": [
    {
     "data": {
      "text/plain": [
       "(100,)"
      ]
     },
     "execution_count": 36,
     "metadata": {},
     "output_type": "execute_result"
    }
   ],
   "source": [
    "test.shape"
   ]
  },
  {
   "cell_type": "code",
   "execution_count": 37,
   "metadata": {},
   "outputs": [
    {
     "name": "stdout",
     "output_type": "stream",
     "text": [
      "41.064788727431065\n",
      "35.35325008245795\n"
     ]
    }
   ],
   "source": [
    "import math\n",
    "MSE = np.square(np.subtract(np.array(test),np.array(final_forecast))).mean()   \n",
    "rsme = math.sqrt(MSE)\n",
    "print(rsme)  \n",
    "MAE = np.abs(np.subtract(np.array(test),np.array(final_forecast))).mean()   \n",
    "mae = MAE\n",
    "print(mae)"
   ]
  }
 ],
 "metadata": {
  "colab": {
   "provenance": []
  },
  "kernelspec": {
   "display_name": "Python 3",
   "language": "python",
   "name": "python3"
  },
  "language_info": {
   "codemirror_mode": {
    "name": "ipython",
    "version": 3
   },
   "file_extension": ".py",
   "mimetype": "text/x-python",
   "name": "python",
   "nbconvert_exporter": "python",
   "pygments_lexer": "ipython3",
   "version": "3.9.13"
  }
 },
 "nbformat": 4,
 "nbformat_minor": 0
}
