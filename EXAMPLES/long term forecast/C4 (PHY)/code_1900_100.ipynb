{
 "cells": [
  {
   "cell_type": "markdown",
   "metadata": {
    "id": "pCGKeZ2gyuoQ"
   },
   "source": [
    "_Importing Required Libraries_"
   ]
  },
  {
   "cell_type": "code",
   "execution_count": 1,
   "metadata": {
    "colab": {
     "base_uri": "https://localhost:8080/"
    },
    "id": "A-6LN-zXiLcM",
    "outputId": "4de610a4-f8b8-4f49-c6c0-89de299ccedc"
   },
   "outputs": [
    {
     "name": "stdout",
     "output_type": "stream",
     "text": [
      "Requirement already satisfied: hampel in c:\\users\\anurag dutta\\appdata\\local\\packages\\pythonsoftwarefoundation.python.3.9_qbz5n2kfra8p0\\localcache\\local-packages\\python39\\site-packages (0.0.5)\n",
      "Requirement already satisfied: numpy in c:\\users\\anurag dutta\\appdata\\local\\packages\\pythonsoftwarefoundation.python.3.9_qbz5n2kfra8p0\\localcache\\local-packages\\python39\\site-packages (from hampel) (1.26.4)\n",
      "Requirement already satisfied: pandas in c:\\users\\anurag dutta\\appdata\\local\\packages\\pythonsoftwarefoundation.python.3.9_qbz5n2kfra8p0\\localcache\\local-packages\\python39\\site-packages (from hampel) (1.5.2)\n",
      "Requirement already satisfied: python-dateutil>=2.8.1 in c:\\users\\anurag dutta\\appdata\\local\\packages\\pythonsoftwarefoundation.python.3.9_qbz5n2kfra8p0\\localcache\\local-packages\\python39\\site-packages (from pandas->hampel) (2.8.2)\n",
      "Requirement already satisfied: pytz>=2020.1 in c:\\users\\anurag dutta\\appdata\\local\\packages\\pythonsoftwarefoundation.python.3.9_qbz5n2kfra8p0\\localcache\\local-packages\\python39\\site-packages (from pandas->hampel) (2023.3.post1)\n",
      "Requirement already satisfied: six>=1.5 in c:\\users\\anurag dutta\\appdata\\local\\packages\\pythonsoftwarefoundation.python.3.9_qbz5n2kfra8p0\\localcache\\local-packages\\python39\\site-packages (from python-dateutil>=2.8.1->pandas->hampel) (1.16.0)\n",
      "Note: you may need to restart the kernel to use updated packages.\n"
     ]
    },
    {
     "name": "stderr",
     "output_type": "stream",
     "text": [
      "\n",
      "[notice] A new release of pip is available: 24.2 -> 24.3.1\n",
      "[notice] To update, run: C:\\Users\\Anurag Dutta\\AppData\\Local\\Microsoft\\WindowsApps\\PythonSoftwareFoundation.Python.3.9_qbz5n2kfra8p0\\python.exe -m pip install --upgrade pip\n"
     ]
    }
   ],
   "source": [
    "pip install hampel"
   ]
  },
  {
   "cell_type": "code",
   "execution_count": 2,
   "metadata": {
    "id": "By_d9uXpaFvZ"
   },
   "outputs": [],
   "source": [
    "from keras.models import Sequential\n",
    "from keras.layers import Dense\n",
    "from keras.layers import LSTM\n",
    "from keras.layers import Dropout\n",
    "import keras\n",
    "import tensorflow as tf\n",
    "from hampel import hampel\n",
    "import numpy as np\n",
    "import matplotlib.pyplot as plt\n",
    "import pandas as pd\n",
    "from sklearn.preprocessing import MinMaxScaler\n",
    "from sklearn.metrics import mean_squared_error, mean_absolute_error\n",
    "from math import sqrt\n",
    "from matplotlib import pyplot\n",
    "from numpy import array"
   ]
  },
  {
   "cell_type": "markdown",
   "metadata": {
    "id": "JyOjBMFayuoR"
   },
   "source": [
    "## Pretraining"
   ]
  },
  {
   "cell_type": "markdown",
   "metadata": {
    "id": "-5QqIY_GyuoR"
   },
   "source": [
    "The `capa_intermittency.dat` feeds the model with the dynamics of the Capacitor"
   ]
  },
  {
   "cell_type": "code",
   "execution_count": 3,
   "metadata": {
    "id": "9dV4a8yfyuoR"
   },
   "outputs": [],
   "source": [
    "data = np.genfromtxt('capa_intermittency.dat')\n",
    "training_set = pd.DataFrame(data).reset_index(drop=True)\n",
    "training_set = training_set.iloc[:,0]"
   ]
  },
  {
   "cell_type": "markdown",
   "metadata": {
    "id": "i7easoxByuoR"
   },
   "source": [
    "## Computing the Gradient"
   ]
  },
  {
   "cell_type": "markdown",
   "metadata": {
    "id": "5SnyolJTyuoR"
   },
   "source": [
    "_Calculating the value of_ $\\frac{dx}{dt}$"
   ]
  },
  {
   "cell_type": "code",
   "execution_count": 4,
   "metadata": {
    "colab": {
     "base_uri": "https://localhost:8080/"
    },
    "id": "wmIbVfIvyuoR",
    "outputId": "aa4e3136-c854-465d-d2e9-81cfd546e440"
   },
   "outputs": [
    {
     "name": "stdout",
     "output_type": "stream",
     "text": [
      "1.0\n",
      "1        0.000298\n",
      "2        0.000298\n",
      "3        0.000297\n",
      "4        0.000297\n",
      "5        0.000297\n",
      "           ...   \n",
      "9996     0.000018\n",
      "9997     0.000018\n",
      "9998     0.000018\n",
      "9999     0.000018\n",
      "10000    0.000018\n",
      "Name: 0, Length: 10000, dtype: float64\n"
     ]
    }
   ],
   "source": [
    "t_diff = 1\n",
    "print(training_set.max())\n",
    "gradient_t = (training_set.diff()/t_diff).iloc[1:] # dx/dt\n",
    "print(gradient_t)"
   ]
  },
  {
   "cell_type": "markdown",
   "metadata": {
    "id": "_2eVeeoxyuoS"
   },
   "source": [
    "## Loading Datasets"
   ]
  },
  {
   "cell_type": "code",
   "execution_count": 5,
   "metadata": {
    "id": "0J-NKyIEyuoS"
   },
   "outputs": [
    {
     "data": {
      "text/plain": [
       "0       88.600000\n",
       "1       88.409524\n",
       "2       88.219048\n",
       "3       88.028571\n",
       "4       87.838095\n",
       "          ...    \n",
       "1995    62.271814\n",
       "1996    62.251739\n",
       "1997    62.231664\n",
       "1998    62.211590\n",
       "1999    62.191515\n",
       "Name: C4, Length: 2000, dtype: float64"
      ]
     },
     "execution_count": 5,
     "metadata": {},
     "output_type": "execute_result"
    }
   ],
   "source": [
    "data = pd.read_csv(\"c4_interpolated_1900_100.csv\")\n",
    "training_set = data.iloc[:, 1]\n",
    "training_set"
   ]
  },
  {
   "cell_type": "code",
   "execution_count": 6,
   "metadata": {
    "colab": {
     "base_uri": "https://localhost:8080/"
    },
    "id": "-CbNUhJ74UqF",
    "outputId": "20f562d8-8247-49cc-b9c3-00eca5e13e2d"
   },
   "outputs": [
    {
     "data": {
      "text/plain": [
       "0       88.600000\n",
       "1       88.409524\n",
       "2       88.219048\n",
       "3       88.028571\n",
       "4       87.838095\n",
       "          ...    \n",
       "1895     0.156378\n",
       "1896     0.000000\n",
       "1897     0.568655\n",
       "1898     0.991702\n",
       "1899     0.000000\n",
       "Name: C4, Length: 1900, dtype: float64"
      ]
     },
     "execution_count": 6,
     "metadata": {},
     "output_type": "execute_result"
    }
   ],
   "source": [
    "test = training_set.tail(100)\n",
    "test\n",
    "training_set = training_set.head(1900)\n",
    "training_set"
   ]
  },
  {
   "cell_type": "code",
   "execution_count": 7,
   "metadata": {
    "colab": {
     "base_uri": "https://localhost:8080/"
    },
    "id": "X0TwTcq0yuoS",
    "outputId": "37252ed8-d88e-4044-fa7a-922411990b5b"
   },
   "outputs": [
    {
     "name": "stdout",
     "output_type": "stream",
     "text": [
      "0       0.000298\n",
      "1       0.000298\n",
      "2       0.000297\n",
      "3       0.000297\n",
      "4       0.000297\n",
      "          ...   \n",
      "9995    0.000018\n",
      "9996    0.000018\n",
      "9997    0.000018\n",
      "9998    0.000018\n",
      "9999    0.000018\n",
      "Name: 0, Length: 10000, dtype: float64\n"
     ]
    }
   ],
   "source": [
    "training_set = training_set.reset_index(drop=True)\n",
    "gradient_t = gradient_t.reset_index(drop=True)\n",
    "print(gradient_t)"
   ]
  },
  {
   "cell_type": "code",
   "execution_count": 8,
   "metadata": {
    "id": "O2biznZQyuoS"
   },
   "outputs": [],
   "source": [
    "df = pd.concat((training_set, gradient_t), axis=1)\n",
    "df.columns = ['y_t', 'grad_t']"
   ]
  },
  {
   "cell_type": "code",
   "execution_count": 9,
   "metadata": {
    "colab": {
     "base_uri": "https://localhost:8080/",
     "height": 423
    },
    "id": "sk_a5v3tyuoS",
    "outputId": "17563625-e550-45ae-faab-fafa353e44da"
   },
   "outputs": [
    {
     "data": {
      "text/html": [
       "<div>\n",
       "<style scoped>\n",
       "    .dataframe tbody tr th:only-of-type {\n",
       "        vertical-align: middle;\n",
       "    }\n",
       "\n",
       "    .dataframe tbody tr th {\n",
       "        vertical-align: top;\n",
       "    }\n",
       "\n",
       "    .dataframe thead th {\n",
       "        text-align: right;\n",
       "    }\n",
       "</style>\n",
       "<table border=\"1\" class=\"dataframe\">\n",
       "  <thead>\n",
       "    <tr style=\"text-align: right;\">\n",
       "      <th></th>\n",
       "      <th>y_t</th>\n",
       "      <th>grad_t</th>\n",
       "    </tr>\n",
       "  </thead>\n",
       "  <tbody>\n",
       "    <tr>\n",
       "      <th>0</th>\n",
       "      <td>88.600000</td>\n",
       "      <td>0.000298</td>\n",
       "    </tr>\n",
       "    <tr>\n",
       "      <th>1</th>\n",
       "      <td>88.409524</td>\n",
       "      <td>0.000298</td>\n",
       "    </tr>\n",
       "    <tr>\n",
       "      <th>2</th>\n",
       "      <td>88.219048</td>\n",
       "      <td>0.000297</td>\n",
       "    </tr>\n",
       "    <tr>\n",
       "      <th>3</th>\n",
       "      <td>88.028571</td>\n",
       "      <td>0.000297</td>\n",
       "    </tr>\n",
       "    <tr>\n",
       "      <th>4</th>\n",
       "      <td>87.838095</td>\n",
       "      <td>0.000297</td>\n",
       "    </tr>\n",
       "    <tr>\n",
       "      <th>...</th>\n",
       "      <td>...</td>\n",
       "      <td>...</td>\n",
       "    </tr>\n",
       "    <tr>\n",
       "      <th>9995</th>\n",
       "      <td>NaN</td>\n",
       "      <td>0.000018</td>\n",
       "    </tr>\n",
       "    <tr>\n",
       "      <th>9996</th>\n",
       "      <td>NaN</td>\n",
       "      <td>0.000018</td>\n",
       "    </tr>\n",
       "    <tr>\n",
       "      <th>9997</th>\n",
       "      <td>NaN</td>\n",
       "      <td>0.000018</td>\n",
       "    </tr>\n",
       "    <tr>\n",
       "      <th>9998</th>\n",
       "      <td>NaN</td>\n",
       "      <td>0.000018</td>\n",
       "    </tr>\n",
       "    <tr>\n",
       "      <th>9999</th>\n",
       "      <td>NaN</td>\n",
       "      <td>0.000018</td>\n",
       "    </tr>\n",
       "  </tbody>\n",
       "</table>\n",
       "<p>10000 rows × 2 columns</p>\n",
       "</div>"
      ],
      "text/plain": [
       "            y_t    grad_t\n",
       "0     88.600000  0.000298\n",
       "1     88.409524  0.000298\n",
       "2     88.219048  0.000297\n",
       "3     88.028571  0.000297\n",
       "4     87.838095  0.000297\n",
       "...         ...       ...\n",
       "9995        NaN  0.000018\n",
       "9996        NaN  0.000018\n",
       "9997        NaN  0.000018\n",
       "9998        NaN  0.000018\n",
       "9999        NaN  0.000018\n",
       "\n",
       "[10000 rows x 2 columns]"
      ]
     },
     "execution_count": 9,
     "metadata": {},
     "output_type": "execute_result"
    }
   ],
   "source": [
    "df"
   ]
  },
  {
   "cell_type": "markdown",
   "metadata": {
    "id": "-5esyHu5aFvg"
   },
   "source": [
    "## Plot of the External Forcing from Chaotic Differential Equation"
   ]
  },
  {
   "cell_type": "code",
   "execution_count": 10,
   "metadata": {
    "colab": {
     "base_uri": "https://localhost:8080/",
     "height": 447
    },
    "id": "hGnE43tOh-4p",
    "outputId": "fc396503-b624-4fa5-dfbe-f460207405c6"
   },
   "outputs": [
    {
     "data": {
      "text/plain": [
       "<Axes: >"
      ]
     },
     "execution_count": 10,
     "metadata": {},
     "output_type": "execute_result"
    },
    {
     "data": {
      "image/png": "[encoded data removed]",
      "text/plain": [
       "<Figure size 432x288 with 1 Axes>"
      ]
     },
     "metadata": {
      "needs_background": "light"
     },
     "output_type": "display_data"
    }
   ],
   "source": [
    "df.iloc[:, 0].plot()"
   ]
  },
  {
   "cell_type": "code",
   "execution_count": 11,
   "metadata": {
    "colab": {
     "base_uri": "https://localhost:8080/",
     "height": 447
    },
    "id": "ym4xWUUxaFvg",
    "outputId": "ae6a3495-8ce9-437e-ba81-3ed31deedeae"
   },
   "outputs": [
    {
     "name": "stderr",
     "output_type": "stream",
     "text": [
      "C:\\Users\\Anurag Dutta\\AppData\\Local\\Packages\\PythonSoftwareFoundation.Python.3.9_qbz5n2kfra8p0\\LocalCache\\local-packages\\Python39\\site-packages\\pandas\\core\\arraylike.py:402: RuntimeWarning: divide by zero encountered in log\n",
      "  result = getattr(ufunc, method)(*inputs, **kwargs)\n"
     ]
    },
    {
     "data": {
      "text/plain": [
       "<Axes: >"
      ]
     },
     "execution_count": 11,
     "metadata": {},
     "output_type": "execute_result"
    },
    {
     "data": {
      "image/png": "[encoded data removed]",
      "text/plain": [
       "<Figure size 432x288 with 1 Axes>"
      ]
     },
     "metadata": {
      "needs_background": "light"
     },
     "output_type": "display_data"
    }
   ],
   "source": [
    "import numpy as np\n",
    "c0 = 86.6856  # Value for C0\n",
    "K0 = -0.0008  # Value for K0\n",
    "K1 = -0.0002  # Value for K1\n",
    "a = 0.0000    # Value for a\n",
    "b = 0.0128    # Value for b\n",
    "c = -2.3003    # Value for c\n",
    "\n",
    "L = np.minimum(c0, (df.iloc[:, 1] - (df.iloc[:, 0] * (K0 - K1 * (9 * a * np.log(df.iloc[:, 0] / c0) / (K0 - K1 * c)**2 + 4 * b * np.log(df.iloc[:, 0] / c0) / (K0 - K1 * c) + c)))))\n",
    "L.plot()"
   ]
  },
  {
   "cell_type": "markdown",
   "metadata": {
    "id": "9VyEywnwaFvh"
   },
   "source": [
    "## Preprocessing the data into supervised learning"
   ]
  },
  {
   "cell_type": "code",
   "execution_count": 12,
   "metadata": {
    "id": "6V9dXqzdaFvh"
   },
   "outputs": [],
   "source": [
    "# split a sequence into samples\n",
    "def Supervised(data, n_in=1, n_out=1, dropnan=True):\n",
    "    n_vars = 1 if type(data) is list else data.shape[1]\n",
    "    df = pd.DataFrame(data)\n",
    "    cols, names = list(), list()\n",
    "    # input sequence (t-n_in, ... t-1)\n",
    "    for i in range(n_in, 0, -1):\n",
    "        cols.append(df.shift(i))\n",
    "        names += [('var%d(t-%d)' % (j+1, i)) for j in range(n_vars)]\n",
    "    # forecast sequence (t, t+1, ... t+n_out)\n",
    "    for i in range(0, n_out):\n",
    "      cols.append(df.shift(-i))\n",
    "      if i == 0:\n",
    "        names += [('var%d(t)' % (j+1)) for j in range(n_vars)]\n",
    "      else:\n",
    "        names += [('var%d(t+%d)' % (j+1, i)) for j in range(n_vars)]\n",
    "    # put it all together\n",
    "    agg = pd.concat(cols, axis=1)\n",
    "    agg.columns = names\n",
    "    # drop rows with NaN values\n",
    "    if dropnan:\n",
    "       agg.dropna(inplace=True)\n",
    "    return agg"
   ]
  },
  {
   "cell_type": "code",
   "execution_count": 13,
   "metadata": {
    "colab": {
     "base_uri": "https://localhost:8080/"
    },
    "id": "CrzSrT1HnyfH",
    "outputId": "7e75f928-3e47-499d-eac1-51908015ef78"
   },
   "outputs": [
    {
     "name": "stdout",
     "output_type": "stream",
     "text": [
      "     var1(t-350)  var1(t-349)  var1(t-348)  var1(t-347)  var1(t-346)  \\\n",
      "350    88.600000    88.409524    88.219048    88.028571    87.838095   \n",
      "351    88.409524    88.219048    88.028571    87.838095    87.647619   \n",
      "352    88.219048    88.028571    87.838095    87.647619    87.457143   \n",
      "353    88.028571    87.838095    87.647619    87.457143    87.266667   \n",
      "354    87.838095    87.647619    87.457143    87.266667    87.076190   \n",
      "\n",
      "     var1(t-345)  var1(t-344)  var1(t-343)  var1(t-342)  var1(t-341)  ...  \\\n",
      "350    87.647619    87.457143    87.266667    87.076190    86.896218  ...   \n",
      "351    87.457143    87.266667    87.076190    86.896218    86.845798  ...   \n",
      "352    87.266667    87.076190    86.896218    86.845798    86.795378  ...   \n",
      "353    87.076190    86.896218    86.845798    86.795378    86.744958  ...   \n",
      "354    86.896218    86.845798    86.795378    86.744958    86.694538  ...   \n",
      "\n",
      "     var1(t+95)  var2(t+95)  var1(t+96)  var2(t+96)  var1(t+97)  var2(t+97)  \\\n",
      "350   78.880345    0.000263   78.856069    0.000263   78.831793    0.000263   \n",
      "351   78.856069    0.000263   78.831793    0.000263   78.807516    0.000262   \n",
      "352   78.831793    0.000263   78.807516    0.000262   78.783240    0.000262   \n",
      "353   78.807516    0.000262   78.783240    0.000262   78.758964    0.000262   \n",
      "354   78.783240    0.000262   78.758964    0.000262   78.734687    0.000262   \n",
      "\n",
      "     var1(t+98)  var2(t+98)  var1(t+99)  var2(t+99)  \n",
      "350   78.807516    0.000262   78.783240    0.000262  \n",
      "351   78.783240    0.000262   78.758964    0.000262  \n",
      "352   78.758964    0.000262   78.734687    0.000262  \n",
      "353   78.734687    0.000262   78.710411    0.000262  \n",
      "354   78.710411    0.000262   78.686134    0.000262  \n",
      "\n",
      "[5 rows x 551 columns]\n",
      "Index(['var1(t-350)', 'var1(t-349)', 'var1(t-348)', 'var1(t-347)',\n",
      "       'var1(t-346)', 'var1(t-345)', 'var1(t-344)', 'var1(t-343)',\n",
      "       'var1(t-342)', 'var1(t-341)',\n",
      "       ...\n",
      "       'var1(t+95)', 'var2(t+95)', 'var1(t+96)', 'var2(t+96)', 'var1(t+97)',\n",
      "       'var2(t+97)', 'var1(t+98)', 'var2(t+98)', 'var1(t+99)', 'var2(t+99)'],\n",
      "      dtype='object', length=551)\n"
     ]
    }
   ],
   "source": [
    "data = Supervised(df.values, n_in = 350, n_out = 100)\n",
    "\n",
    "\n",
    "cols_to_drop = []\n",
    "for i in range(2, 351):\n",
    "    cols_to_drop.extend([f'var2(t-{i})'])\n",
    "\n",
    "data.drop(cols_to_drop, axis=1, inplace=True)\n",
    "\n",
    "print(data.head())\n",
    "print(data.columns)"
   ]
  },
  {
   "cell_type": "code",
   "execution_count": 14,
   "metadata": {
    "id": "AfPf60oy6Pe4"
   },
   "outputs": [],
   "source": [
    "train = np.array(data[0:len(data)-1])\n",
    "forecast = np.array(data.tail(1))"
   ]
  },
  {
   "cell_type": "code",
   "execution_count": 15,
   "metadata": {
    "id": "WSAafzI37KiT"
   },
   "outputs": [],
   "source": [
    "trainy = train[:,-300:]\n",
    "trainX = train[:,:-300]"
   ]
  },
  {
   "cell_type": "code",
   "execution_count": 16,
   "metadata": {
    "id": "2SrOqVJA7f50"
   },
   "outputs": [],
   "source": [
    "forecasty = forecast[:,-300:]\n",
    "forecastX = forecast[:,:-300]"
   ]
  },
  {
   "cell_type": "code",
   "execution_count": 17,
   "metadata": {
    "colab": {
     "base_uri": "https://localhost:8080/"
    },
    "id": "Qno_k8Nw7saY",
    "outputId": "c4a88db5-d8c6-489f-cdb2-06b24e293cff"
   },
   "outputs": [
    {
     "name": "stdout",
     "output_type": "stream",
     "text": [
      "(1450, 1, 251) (1450, 300) (1, 1, 251)\n"
     ]
    }
   ],
   "source": [
    "trainX = trainX.reshape((trainX.shape[0], 1, trainX.shape[1]))\n",
    "forecastX = forecastX.reshape((forecastX.shape[0], 1, forecastX.shape[1]))\n",
    "print(trainX.shape, trainy.shape, forecastX.shape)"
   ]
  },
  {
   "cell_type": "code",
   "execution_count": 18,
   "metadata": {
    "colab": {
     "base_uri": "https://localhost:8080/"
    },
    "id": "b1Jp2DvNuNFx",
    "outputId": "d0e5b3c4-64f1-438c-eade-8dfeaac8e285"
   },
   "outputs": [
    {
     "name": "stdout",
     "output_type": "stream",
     "text": [
      "Epoch 1/500\n",
      "19/19 [==============================] - 4s 40ms/step - loss: 5487.5796 - val_loss: 4131.9058\n",
      "Epoch 2/500\n",
      "19/19 [==============================] - 0s 7ms/step - loss: 5408.6147 - val_loss: 4086.0603\n",
      "Epoch 3/500\n",
      "19/19 [==============================] - 0s 6ms/step - loss: 5350.6206 - val_loss: 4027.9492\n",
      "Epoch 4/500\n",
      "19/19 [==============================] - 0s 5ms/step - loss: 5275.2480 - val_loss: 3980.0930\n",
      "Epoch 5/500\n",
      "19/19 [==============================] - 0s 6ms/step - loss: 5215.0933 - val_loss: 3933.0339\n",
      "Epoch 6/500\n",
      "19/19 [==============================] - 0s 6ms/step - loss: 5155.7285 - val_loss: 3886.7083\n",
      "Epoch 7/500\n",
      "19/19 [==============================] - 0s 5ms/step - loss: 5097.1636 - val_loss: 3841.0095\n",
      "Epoch 8/500\n",
      "19/19 [==============================] - 0s 5ms/step - loss: 5039.2812 - val_loss: 3795.8643\n",
      "Epoch 9/500\n",
      "19/19 [==============================] - 0s 5ms/step - loss: 4982.0112 - val_loss: 3751.2234\n",
      "Epoch 10/500\n",
      "19/19 [==============================] - 0s 4ms/step - loss: 4923.3398 - val_loss: 3701.0029\n",
      "Epoch 11/500\n",
      "19/19 [==============================] - 0s 4ms/step - loss: 4858.4443 - val_loss: 3653.4419\n",
      "Epoch 12/500\n",
      "19/19 [==============================] - 0s 5ms/step - loss: 4797.7891 - val_loss: 3606.9531\n",
      "Epoch 13/500\n",
      "19/19 [==============================] - 0s 4ms/step - loss: 4738.5098 - val_loss: 3561.4622\n",
      "Epoch 14/500\n",
      "19/19 [==============================] - 0s 5ms/step - loss: 4680.3486 - val_loss: 3516.7673\n",
      "Epoch 15/500\n",
      "19/19 [==============================] - 0s 5ms/step - loss: 4623.0864 - val_loss: 3472.7500\n",
      "Epoch 16/500\n",
      "19/19 [==============================] - 0s 5ms/step - loss: 4566.5952 - val_loss: 3429.3403\n",
      "Epoch 17/500\n",
      "19/19 [==============================] - 0s 10ms/step - loss: 4510.7979 - val_loss: 3386.4946\n",
      "Epoch 18/500\n",
      "19/19 [==============================] - 0s 4ms/step - loss: 4455.6440 - val_loss: 3344.1812\n",
      "Epoch 19/500\n",
      "19/19 [==============================] - 0s 3ms/step - loss: 4401.1001 - val_loss: 3302.3770\n",
      "Epoch 20/500\n",
      "19/19 [==============================] - 0s 4ms/step - loss: 4347.1372 - val_loss: 3261.0662\n",
      "Epoch 21/500\n",
      "19/19 [==============================] - 0s 6ms/step - loss: 4293.7358 - val_loss: 3220.2339\n",
      "Epoch 22/500\n",
      "19/19 [==============================] - 0s 7ms/step - loss: 4240.8799 - val_loss: 3179.8687\n",
      "Epoch 23/500\n",
      "19/19 [==============================] - 0s 4ms/step - loss: 4188.5557 - val_loss: 3139.9609\n",
      "Epoch 24/500\n",
      "19/19 [==============================] - 0s 4ms/step - loss: 4136.7520 - val_loss: 3100.5027\n",
      "Epoch 25/500\n",
      "19/19 [==============================] - 0s 4ms/step - loss: 4085.4583 - val_loss: 3061.4863\n",
      "Epoch 26/500\n",
      "19/19 [==============================] - 0s 6ms/step - loss: 4034.6663 - val_loss: 3022.9045\n",
      "Epoch 27/500\n",
      "19/19 [==============================] - 0s 4ms/step - loss: 3984.3689 - val_loss: 2984.7522\n",
      "Epoch 28/500\n",
      "19/19 [==============================] - 0s 4ms/step - loss: 3934.5586 - val_loss: 2947.0237\n",
      "Epoch 29/500\n",
      "19/19 [==============================] - 0s 4ms/step - loss: 3885.2280 - val_loss: 2909.7134\n",
      "Epoch 30/500\n",
      "19/19 [==============================] - 0s 4ms/step - loss: 3836.3728 - val_loss: 2872.8171\n",
      "Epoch 31/500\n",
      "19/19 [==============================] - 0s 4ms/step - loss: 3787.9866 - val_loss: 2836.3301\n",
      "Epoch 32/500\n",
      "19/19 [==============================] - 0s 4ms/step - loss: 3740.0654 - val_loss: 2800.2485\n",
      "Epoch 33/500\n",
      "19/19 [==============================] - 0s 4ms/step - loss: 3692.6025 - val_loss: 2764.5679\n",
      "Epoch 34/500\n",
      "19/19 [==============================] - 0s 4ms/step - loss: 3645.5940 - val_loss: 2729.2842\n",
      "Epoch 35/500\n",
      "19/19 [==============================] - 0s 4ms/step - loss: 3599.0359 - val_loss: 2694.3943\n",
      "Epoch 36/500\n",
      "19/19 [==============================] - 0s 4ms/step - loss: 3552.9241 - val_loss: 2659.8938\n",
      "Epoch 37/500\n",
      "19/19 [==============================] - 0s 4ms/step - loss: 3507.2542 - val_loss: 2625.7798\n",
      "Epoch 38/500\n",
      "19/19 [==============================] - 0s 3ms/step - loss: 3462.0212 - val_loss: 2592.0488\n",
      "Epoch 39/500\n",
      "19/19 [==============================] - 0s 3ms/step - loss: 3417.2231 - val_loss: 2558.6975\n",
      "Epoch 40/500\n",
      "19/19 [==============================] - 0s 4ms/step - loss: 3372.8557 - val_loss: 2525.7229\n",
      "Epoch 41/500\n",
      "19/19 [==============================] - 0s 4ms/step - loss: 3328.9150 - val_loss: 2493.1218\n",
      "Epoch 42/500\n",
      "19/19 [==============================] - 0s 4ms/step - loss: 3285.3982 - val_loss: 2460.8909\n",
      "Epoch 43/500\n",
      "19/19 [==============================] - 0s 4ms/step - loss: 3242.3018 - val_loss: 2429.0273\n",
      "Epoch 44/500\n",
      "19/19 [==============================] - 0s 4ms/step - loss: 3199.6213 - val_loss: 2397.5283\n",
      "Epoch 45/500\n",
      "19/19 [==============================] - 0s 6ms/step - loss: 3157.3547 - val_loss: 2366.3909\n",
      "Epoch 46/500\n",
      "19/19 [==============================] - 0s 4ms/step - loss: 3115.4988 - val_loss: 2335.6121\n",
      "Epoch 47/500\n",
      "19/19 [==============================] - 0s 5ms/step - loss: 3074.0496 - val_loss: 2305.1895\n",
      "Epoch 48/500\n",
      "19/19 [==============================] - 0s 4ms/step - loss: 3033.0049 - val_loss: 2275.1196\n",
      "Epoch 49/500\n",
      "19/19 [==============================] - 0s 5ms/step - loss: 2992.3613 - val_loss: 2245.4006\n",
      "Epoch 50/500\n",
      "19/19 [==============================] - 0s 5ms/step - loss: 2952.1157 - val_loss: 2216.0295\n",
      "Epoch 51/500\n",
      "19/19 [==============================] - 0s 6ms/step - loss: 2912.2656 - val_loss: 2187.0032\n",
      "Epoch 52/500\n",
      "19/19 [==============================] - 0s 6ms/step - loss: 2872.8079 - val_loss: 2158.3198\n",
      "Epoch 53/500\n",
      "19/19 [==============================] - 0s 4ms/step - loss: 2833.7397 - val_loss: 2129.9763\n",
      "Epoch 54/500\n",
      "19/19 [==============================] - 0s 5ms/step - loss: 2795.0579 - val_loss: 2101.9702\n",
      "Epoch 55/500\n",
      "19/19 [==============================] - 0s 10ms/step - loss: 2756.7603 - val_loss: 2074.2991\n",
      "Epoch 56/500\n",
      "19/19 [==============================] - 0s 8ms/step - loss: 2718.8447 - val_loss: 2046.9608\n",
      "Epoch 57/500\n",
      "19/19 [==============================] - 0s 5ms/step - loss: 2681.3066 - val_loss: 2019.9521\n",
      "Epoch 58/500\n",
      "19/19 [==============================] - 0s 4ms/step - loss: 2644.1450 - val_loss: 1993.2716\n",
      "Epoch 59/500\n",
      "19/19 [==============================] - 0s 4ms/step - loss: 2607.3567 - val_loss: 1966.9158\n",
      "Epoch 60/500\n",
      "19/19 [==============================] - 0s 4ms/step - loss: 2570.9390 - val_loss: 1940.8829\n",
      "Epoch 61/500\n",
      "19/19 [==============================] - 0s 4ms/step - loss: 2534.8892 - val_loss: 1915.1703\n",
      "Epoch 62/500\n",
      "19/19 [==============================] - 0s 4ms/step - loss: 2499.2046 - val_loss: 1889.7759\n",
      "Epoch 63/500\n",
      "19/19 [==============================] - 0s 4ms/step - loss: 2463.8833 - val_loss: 1864.6974\n",
      "Epoch 64/500\n",
      "19/19 [==============================] - 0s 4ms/step - loss: 2428.9226 - val_loss: 1839.9325\n",
      "Epoch 65/500\n",
      "19/19 [==============================] - 0s 3ms/step - loss: 2394.3198 - val_loss: 1815.4786\n",
      "Epoch 66/500\n",
      "19/19 [==============================] - 0s 5ms/step - loss: 2360.0730 - val_loss: 1791.3340\n",
      "Epoch 67/500\n",
      "19/19 [==============================] - 0s 4ms/step - loss: 2326.1792 - val_loss: 1767.4955\n",
      "Epoch 68/500\n",
      "19/19 [==============================] - 0s 4ms/step - loss: 2292.6357 - val_loss: 1743.9619\n",
      "Epoch 69/500\n",
      "19/19 [==============================] - 0s 4ms/step - loss: 2259.4409 - val_loss: 1720.7302\n",
      "Epoch 70/500\n",
      "19/19 [==============================] - 0s 4ms/step - loss: 2226.5913 - val_loss: 1697.7982\n",
      "Epoch 71/500\n",
      "19/19 [==============================] - 0s 3ms/step - loss: 2194.0862 - val_loss: 1675.1643\n",
      "Epoch 72/500\n",
      "19/19 [==============================] - 0s 4ms/step - loss: 2161.9224 - val_loss: 1652.8268\n",
      "Epoch 73/500\n",
      "19/19 [==============================] - 0s 4ms/step - loss: 2130.0967 - val_loss: 1630.7822\n",
      "Epoch 74/500\n",
      "19/19 [==============================] - 0s 5ms/step - loss: 2098.6079 - val_loss: 1609.0287\n",
      "Epoch 75/500\n",
      "19/19 [==============================] - 0s 5ms/step - loss: 2067.4536 - val_loss: 1587.5640\n",
      "Epoch 76/500\n",
      "19/19 [==============================] - 0s 4ms/step - loss: 2036.6309 - val_loss: 1566.3876\n",
      "Epoch 77/500\n",
      "19/19 [==============================] - 0s 4ms/step - loss: 2006.1383 - val_loss: 1545.4957\n",
      "Epoch 78/500\n",
      "19/19 [==============================] - 0s 4ms/step - loss: 1975.9733 - val_loss: 1524.8864\n",
      "Epoch 79/500\n",
      "19/19 [==============================] - 0s 4ms/step - loss: 1946.1337 - val_loss: 1504.5583\n",
      "Epoch 80/500\n",
      "19/19 [==============================] - 0s 4ms/step - loss: 1916.6172 - val_loss: 1484.5088\n",
      "Epoch 81/500\n",
      "19/19 [==============================] - 0s 4ms/step - loss: 1887.4218 - val_loss: 1464.7362\n",
      "Epoch 82/500\n",
      "19/19 [==============================] - 0s 4ms/step - loss: 1858.5446 - val_loss: 1445.2382\n",
      "Epoch 83/500\n",
      "19/19 [==============================] - 0s 3ms/step - loss: 1829.9847 - val_loss: 1426.0128\n",
      "Epoch 84/500\n",
      "19/19 [==============================] - 0s 4ms/step - loss: 1801.7390 - val_loss: 1407.0575\n",
      "Epoch 85/500\n",
      "19/19 [==============================] - 0s 4ms/step - loss: 1773.8047 - val_loss: 1388.3711\n",
      "Epoch 86/500\n",
      "19/19 [==============================] - 0s 4ms/step - loss: 1746.1814 - val_loss: 1369.9515\n",
      "Epoch 87/500\n",
      "19/19 [==============================] - 0s 4ms/step - loss: 1718.8663 - val_loss: 1351.7969\n",
      "Epoch 88/500\n",
      "19/19 [==============================] - 0s 4ms/step - loss: 1691.8574 - val_loss: 1333.9047\n",
      "Epoch 89/500\n",
      "19/19 [==============================] - 0s 4ms/step - loss: 1665.1521 - val_loss: 1316.2729\n",
      "Epoch 90/500\n",
      "19/19 [==============================] - 0s 9ms/step - loss: 1638.7490 - val_loss: 1298.8999\n",
      "Epoch 91/500\n",
      "19/19 [==============================] - 0s 3ms/step - loss: 1612.6455 - val_loss: 1281.7836\n",
      "Epoch 92/500\n",
      "19/19 [==============================] - 0s 4ms/step - loss: 1586.8397 - val_loss: 1264.9226\n",
      "Epoch 93/500\n",
      "19/19 [==============================] - 0s 4ms/step - loss: 1561.3295 - val_loss: 1248.3140\n",
      "Epoch 94/500\n",
      "19/19 [==============================] - 0s 4ms/step - loss: 1536.1135 - val_loss: 1231.9567\n",
      "Epoch 95/500\n",
      "19/19 [==============================] - 0s 4ms/step - loss: 1511.1886 - val_loss: 1215.8480\n",
      "Epoch 96/500\n",
      "19/19 [==============================] - 0s 4ms/step - loss: 1486.5533 - val_loss: 1199.9866\n",
      "Epoch 97/500\n",
      "19/19 [==============================] - 0s 4ms/step - loss: 1462.2056 - val_loss: 1184.3702\n",
      "Epoch 98/500\n",
      "19/19 [==============================] - 0s 4ms/step - loss: 1438.1442 - val_loss: 1168.9977\n",
      "Epoch 99/500\n",
      "19/19 [==============================] - 0s 4ms/step - loss: 1414.3658 - val_loss: 1153.8662\n",
      "Epoch 100/500\n",
      "19/19 [==============================] - 0s 4ms/step - loss: 1390.8694 - val_loss: 1138.9740\n",
      "Epoch 101/500\n",
      "19/19 [==============================] - 0s 3ms/step - loss: 1367.6530 - val_loss: 1124.3201\n",
      "Epoch 102/500\n",
      "19/19 [==============================] - 0s 4ms/step - loss: 1344.7137 - val_loss: 1109.9012\n",
      "Epoch 103/500\n",
      "19/19 [==============================] - 0s 4ms/step - loss: 1322.0508 - val_loss: 1095.7166\n",
      "Epoch 104/500\n",
      "19/19 [==============================] - 0s 4ms/step - loss: 1299.6613 - val_loss: 1081.7639\n",
      "Epoch 105/500\n",
      "19/19 [==============================] - 0s 4ms/step - loss: 1277.5437 - val_loss: 1068.0414\n",
      "Epoch 106/500\n",
      "19/19 [==============================] - 0s 4ms/step - loss: 1255.6968 - val_loss: 1054.5472\n",
      "Epoch 107/500\n",
      "19/19 [==============================] - 0s 4ms/step - loss: 1234.1178 - val_loss: 1041.2794\n",
      "Epoch 108/500\n",
      "19/19 [==============================] - 0s 4ms/step - loss: 1212.8046 - val_loss: 1028.2367\n",
      "Epoch 109/500\n",
      "19/19 [==============================] - 0s 4ms/step - loss: 1191.7561 - val_loss: 1015.4166\n",
      "Epoch 110/500\n",
      "19/19 [==============================] - 0s 4ms/step - loss: 1170.9702 - val_loss: 1002.8176\n",
      "Epoch 111/500\n",
      "19/19 [==============================] - 0s 4ms/step - loss: 1150.4449 - val_loss: 990.4377\n",
      "Epoch 112/500\n",
      "19/19 [==============================] - 0s 3ms/step - loss: 1130.1779 - val_loss: 978.2751\n",
      "Epoch 113/500\n",
      "19/19 [==============================] - 0s 4ms/step - loss: 1110.1686 - val_loss: 966.3284\n",
      "Epoch 114/500\n",
      "19/19 [==============================] - 0s 4ms/step - loss: 1090.4132 - val_loss: 954.5948\n",
      "Epoch 115/500\n",
      "19/19 [==============================] - 0s 3ms/step - loss: 1070.9113 - val_loss: 943.0735\n",
      "Epoch 116/500\n",
      "19/19 [==============================] - 0s 4ms/step - loss: 1051.6606 - val_loss: 931.7623\n",
      "Epoch 117/500\n",
      "19/19 [==============================] - 0s 4ms/step - loss: 1032.6594 - val_loss: 920.6596\n",
      "Epoch 118/500\n",
      "19/19 [==============================] - 0s 4ms/step - loss: 1013.9059 - val_loss: 909.7631\n",
      "Epoch 119/500\n",
      "19/19 [==============================] - 0s 4ms/step - loss: 995.3981 - val_loss: 899.0718\n",
      "Epoch 120/500\n",
      "19/19 [==============================] - 0s 4ms/step - loss: 977.1344 - val_loss: 888.5834\n",
      "Epoch 121/500\n",
      "19/19 [==============================] - 0s 4ms/step - loss: 959.1123 - val_loss: 878.2960\n",
      "Epoch 122/500\n",
      "19/19 [==============================] - 0s 4ms/step - loss: 941.3308 - val_loss: 868.2081\n",
      "Epoch 123/500\n",
      "19/19 [==============================] - 0s 4ms/step - loss: 923.7877 - val_loss: 858.3176\n",
      "Epoch 124/500\n",
      "19/19 [==============================] - 0s 4ms/step - loss: 906.4813 - val_loss: 848.6229\n",
      "Epoch 125/500\n",
      "19/19 [==============================] - 0s 4ms/step - loss: 889.4095 - val_loss: 839.1225\n",
      "Epoch 126/500\n",
      "19/19 [==============================] - 0s 4ms/step - loss: 872.5709 - val_loss: 829.8149\n",
      "Epoch 127/500\n",
      "19/19 [==============================] - 0s 3ms/step - loss: 855.9639 - val_loss: 820.6969\n",
      "Epoch 128/500\n",
      "19/19 [==============================] - 0s 9ms/step - loss: 839.5859 - val_loss: 811.7682\n",
      "Epoch 129/500\n",
      "19/19 [==============================] - 0s 5ms/step - loss: 823.4358 - val_loss: 803.0266\n",
      "Epoch 130/500\n",
      "19/19 [==============================] - 0s 4ms/step - loss: 807.5117 - val_loss: 794.4702\n",
      "Epoch 131/500\n",
      "19/19 [==============================] - 0s 4ms/step - loss: 791.8115 - val_loss: 786.0973\n",
      "Epoch 132/500\n",
      "19/19 [==============================] - 0s 4ms/step - loss: 776.3342 - val_loss: 777.9062\n",
      "Epoch 133/500\n",
      "19/19 [==============================] - 0s 4ms/step - loss: 761.0770 - val_loss: 769.8949\n",
      "Epoch 134/500\n",
      "19/19 [==============================] - 0s 3ms/step - loss: 746.0387 - val_loss: 762.0618\n",
      "Epoch 135/500\n",
      "19/19 [==============================] - 0s 4ms/step - loss: 731.2173 - val_loss: 754.4054\n",
      "Epoch 136/500\n",
      "19/19 [==============================] - 0s 4ms/step - loss: 716.6115 - val_loss: 746.9235\n",
      "Epoch 137/500\n",
      "19/19 [==============================] - 0s 3ms/step - loss: 702.2190 - val_loss: 739.6147\n",
      "Epoch 138/500\n",
      "19/19 [==============================] - 0s 4ms/step - loss: 688.0382 - val_loss: 732.4771\n",
      "Epoch 139/500\n",
      "19/19 [==============================] - 0s 4ms/step - loss: 674.0673 - val_loss: 725.5090\n",
      "Epoch 140/500\n",
      "19/19 [==============================] - 0s 4ms/step - loss: 660.3049 - val_loss: 718.7085\n",
      "Epoch 141/500\n",
      "19/19 [==============================] - 0s 4ms/step - loss: 646.7493 - val_loss: 712.0743\n",
      "Epoch 142/500\n",
      "19/19 [==============================] - 0s 4ms/step - loss: 633.3981 - val_loss: 705.6042\n",
      "Epoch 143/500\n",
      "19/19 [==============================] - 0s 4ms/step - loss: 620.2502 - val_loss: 699.2968\n",
      "Epoch 144/500\n",
      "19/19 [==============================] - 0s 4ms/step - loss: 607.3038 - val_loss: 693.1501\n",
      "Epoch 145/500\n",
      "19/19 [==============================] - 0s 4ms/step - loss: 594.5568 - val_loss: 687.1625\n",
      "Epoch 146/500\n",
      "19/19 [==============================] - 0s 4ms/step - loss: 582.0072 - val_loss: 681.3317\n",
      "Epoch 147/500\n",
      "19/19 [==============================] - 0s 4ms/step - loss: 569.6541 - val_loss: 675.6569\n",
      "Epoch 148/500\n",
      "19/19 [==============================] - 0s 3ms/step - loss: 557.4956 - val_loss: 670.1360\n",
      "Epoch 149/500\n",
      "19/19 [==============================] - 0s 4ms/step - loss: 545.5295 - val_loss: 664.7669\n",
      "Epoch 150/500\n",
      "19/19 [==============================] - 0s 4ms/step - loss: 533.7543 - val_loss: 659.5485\n",
      "Epoch 151/500\n",
      "19/19 [==============================] - 0s 4ms/step - loss: 522.1685 - val_loss: 654.4781\n",
      "Epoch 152/500\n",
      "19/19 [==============================] - 0s 4ms/step - loss: 510.7699 - val_loss: 649.5554\n",
      "Epoch 153/500\n",
      "19/19 [==============================] - 0s 4ms/step - loss: 499.5573 - val_loss: 644.7771\n",
      "Epoch 154/500\n",
      "19/19 [==============================] - 0s 4ms/step - loss: 488.5286 - val_loss: 640.1423\n",
      "Epoch 155/500\n",
      "19/19 [==============================] - 0s 3ms/step - loss: 477.6819 - val_loss: 635.6494\n",
      "Epoch 156/500\n",
      "19/19 [==============================] - 0s 4ms/step - loss: 467.0163 - val_loss: 631.2965\n",
      "Epoch 157/500\n",
      "19/19 [==============================] - 0s 4ms/step - loss: 456.5295 - val_loss: 627.0815\n",
      "Epoch 158/500\n",
      "19/19 [==============================] - 0s 4ms/step - loss: 446.2197 - val_loss: 623.0031\n",
      "Epoch 159/500\n",
      "19/19 [==============================] - 0s 3ms/step - loss: 436.0856 - val_loss: 619.0594\n",
      "Epoch 160/500\n",
      "19/19 [==============================] - 0s 7ms/step - loss: 426.1251 - val_loss: 615.2488\n",
      "Epoch 161/500\n",
      "19/19 [==============================] - 0s 4ms/step - loss: 416.3368 - val_loss: 611.5692\n",
      "Epoch 162/500\n",
      "19/19 [==============================] - 0s 4ms/step - loss: 406.7189 - val_loss: 608.0193\n",
      "Epoch 163/500\n",
      "19/19 [==============================] - 0s 4ms/step - loss: 397.2694 - val_loss: 604.5972\n",
      "Epoch 164/500\n",
      "19/19 [==============================] - 0s 4ms/step - loss: 387.9870 - val_loss: 601.3012\n",
      "Epoch 165/500\n",
      "19/19 [==============================] - 0s 4ms/step - loss: 378.8700 - val_loss: 598.1294\n",
      "Epoch 166/500\n",
      "19/19 [==============================] - 0s 3ms/step - loss: 369.9163 - val_loss: 595.0802\n",
      "Epoch 167/500\n",
      "19/19 [==============================] - 0s 4ms/step - loss: 361.1247 - val_loss: 592.1518\n",
      "Epoch 168/500\n",
      "19/19 [==============================] - 0s 4ms/step - loss: 352.4930 - val_loss: 589.3427\n",
      "Epoch 169/500\n",
      "19/19 [==============================] - 0s 4ms/step - loss: 344.0197 - val_loss: 586.6509\n",
      "Epoch 170/500\n",
      "19/19 [==============================] - 0s 4ms/step - loss: 335.7030 - val_loss: 584.0746\n",
      "Epoch 171/500\n",
      "19/19 [==============================] - 0s 4ms/step - loss: 327.5414 - val_loss: 581.6124\n",
      "Epoch 172/500\n",
      "19/19 [==============================] - 0s 4ms/step - loss: 319.5333 - val_loss: 579.2625\n",
      "Epoch 173/500\n",
      "19/19 [==============================] - 0s 4ms/step - loss: 311.6773 - val_loss: 577.0229\n",
      "Epoch 174/500\n",
      "19/19 [==============================] - 0s 3ms/step - loss: 303.9709 - val_loss: 574.8922\n",
      "Epoch 175/500\n",
      "19/19 [==============================] - 0s 4ms/step - loss: 296.4127 - val_loss: 572.8684\n",
      "Epoch 176/500\n",
      "19/19 [==============================] - 0s 4ms/step - loss: 289.0013 - val_loss: 570.9502\n",
      "Epoch 177/500\n",
      "19/19 [==============================] - 0s 4ms/step - loss: 281.7348 - val_loss: 569.1354\n",
      "Epoch 178/500\n",
      "19/19 [==============================] - 0s 3ms/step - loss: 274.6115 - val_loss: 567.4225\n",
      "Epoch 179/500\n",
      "19/19 [==============================] - 0s 4ms/step - loss: 267.6297 - val_loss: 565.8097\n",
      "Epoch 180/500\n",
      "19/19 [==============================] - 0s 4ms/step - loss: 260.7878 - val_loss: 564.2956\n",
      "Epoch 181/500\n",
      "19/19 [==============================] - 0s 4ms/step - loss: 254.0844 - val_loss: 562.8780\n",
      "Epoch 182/500\n",
      "19/19 [==============================] - 0s 5ms/step - loss: 247.5175 - val_loss: 561.5553\n",
      "Epoch 183/500\n",
      "19/19 [==============================] - 0s 4ms/step - loss: 241.0852 - val_loss: 560.3260\n",
      "Epoch 184/500\n",
      "19/19 [==============================] - 0s 5ms/step - loss: 234.7862 - val_loss: 559.1884\n",
      "Epoch 185/500\n",
      "19/19 [==============================] - 0s 4ms/step - loss: 228.6188 - val_loss: 558.1408\n",
      "Epoch 186/500\n",
      "19/19 [==============================] - 0s 4ms/step - loss: 222.5814 - val_loss: 557.1812\n",
      "Epoch 187/500\n",
      "19/19 [==============================] - 0s 4ms/step - loss: 216.6721 - val_loss: 556.3081\n",
      "Epoch 188/500\n",
      "19/19 [==============================] - 0s 4ms/step - loss: 210.8895 - val_loss: 555.5197\n",
      "Epoch 189/500\n",
      "19/19 [==============================] - 0s 3ms/step - loss: 205.2317 - val_loss: 554.8146\n",
      "Epoch 190/500\n",
      "19/19 [==============================] - 0s 4ms/step - loss: 199.6970 - val_loss: 554.1907\n",
      "Epoch 191/500\n",
      "19/19 [==============================] - 0s 4ms/step - loss: 194.2840 - val_loss: 553.6465\n",
      "Epoch 192/500\n",
      "19/19 [==============================] - 0s 4ms/step - loss: 188.9909 - val_loss: 553.1805\n",
      "Epoch 193/500\n",
      "19/19 [==============================] - 0s 8ms/step - loss: 183.8163 - val_loss: 552.7908\n",
      "Epoch 194/500\n",
      "19/19 [==============================] - 0s 5ms/step - loss: 178.7582 - val_loss: 552.4756\n",
      "Epoch 195/500\n",
      "19/19 [==============================] - 0s 4ms/step - loss: 173.8147 - val_loss: 552.2336\n",
      "Epoch 196/500\n",
      "19/19 [==============================] - 0s 3ms/step - loss: 168.9848 - val_loss: 552.0629\n",
      "Epoch 197/500\n",
      "19/19 [==============================] - 0s 5ms/step - loss: 164.2669 - val_loss: 551.9618\n",
      "Epoch 198/500\n",
      "19/19 [==============================] - 0s 4ms/step - loss: 159.6588 - val_loss: 551.9288\n",
      "Epoch 199/500\n",
      "19/19 [==============================] - 0s 4ms/step - loss: 155.1595 - val_loss: 551.9621\n",
      "Epoch 200/500\n",
      "19/19 [==============================] - 0s 4ms/step - loss: 150.7671 - val_loss: 552.0601\n",
      "Epoch 201/500\n",
      "19/19 [==============================] - 0s 4ms/step - loss: 146.4799 - val_loss: 552.2213\n",
      "Epoch 202/500\n",
      "19/19 [==============================] - 0s 4ms/step - loss: 142.2964 - val_loss: 552.4438\n",
      "Epoch 203/500\n",
      "19/19 [==============================] - 0s 4ms/step - loss: 138.2150 - val_loss: 552.7262\n",
      "Epoch 204/500\n",
      "19/19 [==============================] - 0s 4ms/step - loss: 134.2340 - val_loss: 553.0668\n",
      "Epoch 205/500\n",
      "19/19 [==============================] - 0s 4ms/step - loss: 130.3521 - val_loss: 553.4641\n",
      "Epoch 206/500\n",
      "19/19 [==============================] - 0s 4ms/step - loss: 126.5673 - val_loss: 553.9162\n",
      "Epoch 207/500\n",
      "19/19 [==============================] - 0s 3ms/step - loss: 122.8783 - val_loss: 554.4218\n",
      "Epoch 208/500\n",
      "19/19 [==============================] - 0s 4ms/step - loss: 119.2834 - val_loss: 554.9791\n",
      "Epoch 209/500\n",
      "19/19 [==============================] - 0s 4ms/step - loss: 115.7812 - val_loss: 555.5867\n",
      "Epoch 210/500\n",
      "19/19 [==============================] - 0s 4ms/step - loss: 112.3699 - val_loss: 556.2430\n",
      "Epoch 211/500\n",
      "19/19 [==============================] - 0s 5ms/step - loss: 109.0480 - val_loss: 556.9464\n",
      "Epoch 212/500\n",
      "19/19 [==============================] - 0s 4ms/step - loss: 105.8143 - val_loss: 557.6951\n",
      "Epoch 213/500\n",
      "19/19 [==============================] - 0s 4ms/step - loss: 102.6669 - val_loss: 558.4880\n",
      "Epoch 214/500\n",
      "19/19 [==============================] - 0s 4ms/step - loss: 99.6042 - val_loss: 559.3234\n",
      "Epoch 215/500\n",
      "19/19 [==============================] - 0s 4ms/step - loss: 96.6249 - val_loss: 560.1998\n",
      "Epoch 216/500\n",
      "19/19 [==============================] - 0s 4ms/step - loss: 93.7273 - val_loss: 561.1155\n",
      "Epoch 217/500\n",
      "19/19 [==============================] - 0s 4ms/step - loss: 90.9100 - val_loss: 562.0692\n",
      "Epoch 218/500\n",
      "19/19 [==============================] - 0s 3ms/step - loss: 88.1716 - val_loss: 563.0594\n",
      "Epoch 219/500\n",
      "19/19 [==============================] - 0s 4ms/step - loss: 85.5104 - val_loss: 564.0844\n",
      "Epoch 220/500\n",
      "19/19 [==============================] - 0s 4ms/step - loss: 82.9250 - val_loss: 565.1431\n",
      "Epoch 221/500\n",
      "19/19 [==============================] - 0s 4ms/step - loss: 80.4143 - val_loss: 566.2338\n",
      "Epoch 222/500\n",
      "19/19 [==============================] - 0s 3ms/step - loss: 77.9762 - val_loss: 567.3551\n",
      "Epoch 223/500\n",
      "19/19 [==============================] - 0s 9ms/step - loss: 75.6096 - val_loss: 568.5057\n",
      "Epoch 224/500\n",
      "19/19 [==============================] - 0s 4ms/step - loss: 73.3129 - val_loss: 569.6841\n",
      "Epoch 225/500\n",
      "19/19 [==============================] - 0s 4ms/step - loss: 71.0849 - val_loss: 570.8889\n",
      "Epoch 226/500\n",
      "19/19 [==============================] - 0s 4ms/step - loss: 68.9239 - val_loss: 572.1188\n",
      "Epoch 227/500\n",
      "19/19 [==============================] - 0s 4ms/step - loss: 66.8287 - val_loss: 573.3722\n",
      "Epoch 228/500\n",
      "19/19 [==============================] - 0s 4ms/step - loss: 64.7979 - val_loss: 574.6481\n",
      "Epoch 229/500\n",
      "19/19 [==============================] - 0s 4ms/step - loss: 62.8301 - val_loss: 575.9449\n",
      "Epoch 230/500\n",
      "19/19 [==============================] - 0s 4ms/step - loss: 60.9239 - val_loss: 577.2612\n",
      "Epoch 231/500\n",
      "19/19 [==============================] - 0s 4ms/step - loss: 59.0780 - val_loss: 578.5961\n",
      "Epoch 232/500\n",
      "19/19 [==============================] - 0s 4ms/step - loss: 57.2909 - val_loss: 579.9482\n",
      "Epoch 233/500\n",
      "19/19 [==============================] - 0s 3ms/step - loss: 55.5614 - val_loss: 581.3159\n",
      "Epoch 234/500\n",
      "19/19 [==============================] - 0s 5ms/step - loss: 53.8880 - val_loss: 582.6982\n",
      "Epoch 235/500\n",
      "19/19 [==============================] - 0s 4ms/step - loss: 52.2696 - val_loss: 584.0940\n",
      "Epoch 236/500\n",
      "19/19 [==============================] - 0s 5ms/step - loss: 50.7048 - val_loss: 585.5020\n",
      "Epoch 237/500\n",
      "19/19 [==============================] - 0s 4ms/step - loss: 49.1923 - val_loss: 586.9208\n",
      "Epoch 238/500\n",
      "19/19 [==============================] - 0s 4ms/step - loss: 47.7308 - val_loss: 588.3497\n",
      "Epoch 239/500\n",
      "19/19 [==============================] - 0s 4ms/step - loss: 46.3191 - val_loss: 589.7871\n",
      "Epoch 240/500\n",
      "19/19 [==============================] - 0s 4ms/step - loss: 44.9559 - val_loss: 591.2320\n",
      "Epoch 241/500\n",
      "19/19 [==============================] - 0s 5ms/step - loss: 43.6402 - val_loss: 592.6832\n",
      "Epoch 242/500\n",
      "19/19 [==============================] - 0s 4ms/step - loss: 42.3707 - val_loss: 594.1398\n",
      "Epoch 243/500\n",
      "19/19 [==============================] - 0s 4ms/step - loss: 41.1461 - val_loss: 595.6006\n",
      "Epoch 244/500\n",
      "19/19 [==============================] - 0s 4ms/step - loss: 39.9652 - val_loss: 597.0648\n",
      "Epoch 245/500\n",
      "19/19 [==============================] - 0s 4ms/step - loss: 38.8270 - val_loss: 598.5311\n",
      "Epoch 246/500\n",
      "19/19 [==============================] - 0s 4ms/step - loss: 37.7301 - val_loss: 599.9985\n",
      "Epoch 247/500\n",
      "19/19 [==============================] - 0s 5ms/step - loss: 36.6735 - val_loss: 601.4666\n",
      "Epoch 248/500\n",
      "19/19 [==============================] - 0s 4ms/step - loss: 35.6561 - val_loss: 602.9338\n",
      "Epoch 249/500\n",
      "19/19 [==============================] - 0s 4ms/step - loss: 34.6768 - val_loss: 604.3989\n",
      "Epoch 250/500\n",
      "19/19 [==============================] - 0s 9ms/step - loss: 33.7346 - val_loss: 605.8619\n",
      "Epoch 251/500\n",
      "19/19 [==============================] - 0s 4ms/step - loss: 32.8284 - val_loss: 607.3208\n",
      "Epoch 252/500\n",
      "19/19 [==============================] - 0s 4ms/step - loss: 31.9571 - val_loss: 608.7758\n",
      "Epoch 253/500\n",
      "19/19 [==============================] - 0s 4ms/step - loss: 31.1197 - val_loss: 610.2256\n",
      "Epoch 254/500\n",
      "19/19 [==============================] - 0s 4ms/step - loss: 30.3151 - val_loss: 611.6695\n",
      "Epoch 255/500\n",
      "19/19 [==============================] - 0s 4ms/step - loss: 29.5424 - val_loss: 613.1064\n",
      "Epoch 256/500\n",
      "19/19 [==============================] - 0s 4ms/step - loss: 28.8006 - val_loss: 614.5361\n",
      "Epoch 257/500\n",
      "19/19 [==============================] - 0s 5ms/step - loss: 28.0887 - val_loss: 615.9573\n",
      "Epoch 258/500\n",
      "19/19 [==============================] - 0s 4ms/step - loss: 27.4058 - val_loss: 617.3695\n",
      "Epoch 259/500\n",
      "19/19 [==============================] - 0s 4ms/step - loss: 26.7510 - val_loss: 618.7719\n",
      "Epoch 260/500\n",
      "19/19 [==============================] - 0s 4ms/step - loss: 26.1234 - val_loss: 620.1642\n",
      "Epoch 261/500\n",
      "19/19 [==============================] - 0s 4ms/step - loss: 25.5219 - val_loss: 621.5454\n",
      "Epoch 262/500\n",
      "19/19 [==============================] - 0s 4ms/step - loss: 24.9459 - val_loss: 622.9149\n",
      "Epoch 263/500\n",
      "19/19 [==============================] - 0s 4ms/step - loss: 24.3946 - val_loss: 624.2721\n",
      "Epoch 264/500\n",
      "19/19 [==============================] - 0s 5ms/step - loss: 23.8668 - val_loss: 625.6168\n",
      "Epoch 265/500\n",
      "19/19 [==============================] - 0s 4ms/step - loss: 23.3620 - val_loss: 626.9476\n",
      "Epoch 266/500\n",
      "19/19 [==============================] - 0s 4ms/step - loss: 22.8793 - val_loss: 628.2651\n",
      "Epoch 267/500\n",
      "19/19 [==============================] - 0s 5ms/step - loss: 22.4179 - val_loss: 629.5682\n",
      "Epoch 268/500\n",
      "19/19 [==============================] - 0s 4ms/step - loss: 21.9771 - val_loss: 630.8564\n",
      "Epoch 269/500\n",
      "19/19 [==============================] - 0s 4ms/step - loss: 21.5561 - val_loss: 632.1295\n",
      "Epoch 270/500\n",
      "19/19 [==============================] - 0s 4ms/step - loss: 21.1542 - val_loss: 633.3867\n",
      "Epoch 271/500\n",
      "19/19 [==============================] - 0s 4ms/step - loss: 20.7707 - val_loss: 634.6275\n",
      "Epoch 272/500\n",
      "19/19 [==============================] - 0s 4ms/step - loss: 20.4049 - val_loss: 635.8525\n",
      "Epoch 273/500\n",
      "19/19 [==============================] - 0s 4ms/step - loss: 20.0561 - val_loss: 637.0602\n",
      "Epoch 274/500\n",
      "19/19 [==============================] - 0s 4ms/step - loss: 19.7237 - val_loss: 638.2511\n",
      "Epoch 275/500\n",
      "19/19 [==============================] - 0s 4ms/step - loss: 19.4070 - val_loss: 639.4246\n",
      "Epoch 276/500\n",
      "19/19 [==============================] - 0s 5ms/step - loss: 19.1054 - val_loss: 640.5803\n",
      "Epoch 277/500\n",
      "19/19 [==============================] - 0s 4ms/step - loss: 18.8183 - val_loss: 641.7178\n",
      "Epoch 278/500\n",
      "19/19 [==============================] - 0s 5ms/step - loss: 18.5452 - val_loss: 642.8372\n",
      "Epoch 279/500\n",
      "19/19 [==============================] - 0s 4ms/step - loss: 18.2855 - val_loss: 643.9383\n",
      "Epoch 280/500\n",
      "19/19 [==============================] - 0s 4ms/step - loss: 18.0385 - val_loss: 645.0209\n",
      "Epoch 281/500\n",
      "19/19 [==============================] - 0s 8ms/step - loss: 17.8039 - val_loss: 646.0846\n",
      "Epoch 282/500\n",
      "19/19 [==============================] - 0s 4ms/step - loss: 17.5809 - val_loss: 647.1290\n",
      "Epoch 283/500\n",
      "19/19 [==============================] - 0s 4ms/step - loss: 17.3693 - val_loss: 648.1544\n",
      "Epoch 284/500\n",
      "19/19 [==============================] - 0s 4ms/step - loss: 17.1685 - val_loss: 649.1608\n",
      "Epoch 285/500\n",
      "19/19 [==============================] - 0s 4ms/step - loss: 16.9780 - val_loss: 650.1479\n",
      "Epoch 286/500\n",
      "19/19 [==============================] - 0s 4ms/step - loss: 16.7973 - val_loss: 651.1157\n",
      "Epoch 287/500\n",
      "19/19 [==============================] - 0s 4ms/step - loss: 16.6260 - val_loss: 652.0643\n",
      "Epoch 288/500\n",
      "19/19 [==============================] - 0s 4ms/step - loss: 16.4637 - val_loss: 652.9934\n",
      "Epoch 289/500\n",
      "19/19 [==============================] - 0s 4ms/step - loss: 16.3099 - val_loss: 653.9030\n",
      "Epoch 290/500\n",
      "19/19 [==============================] - 0s 5ms/step - loss: 16.1644 - val_loss: 654.7935\n",
      "Epoch 291/500\n",
      "19/19 [==============================] - 0s 4ms/step - loss: 16.0266 - val_loss: 655.6643\n",
      "Epoch 292/500\n",
      "19/19 [==============================] - 0s 4ms/step - loss: 15.8963 - val_loss: 656.5159\n",
      "Epoch 293/500\n",
      "19/19 [==============================] - 0s 4ms/step - loss: 15.7731 - val_loss: 657.3481\n",
      "Epoch 294/500\n",
      "19/19 [==============================] - 0s 4ms/step - loss: 15.6566 - val_loss: 658.1611\n",
      "Epoch 295/500\n",
      "19/19 [==============================] - 0s 4ms/step - loss: 15.5466 - val_loss: 658.9553\n",
      "Epoch 296/500\n",
      "19/19 [==============================] - 0s 4ms/step - loss: 15.4426 - val_loss: 659.7299\n",
      "Epoch 297/500\n",
      "19/19 [==============================] - 0s 4ms/step - loss: 15.3444 - val_loss: 660.4863\n",
      "Epoch 298/500\n",
      "19/19 [==============================] - 0s 5ms/step - loss: 15.2517 - val_loss: 661.2236\n",
      "Epoch 299/500\n",
      "19/19 [==============================] - 0s 4ms/step - loss: 15.1643 - val_loss: 661.9426\n",
      "Epoch 300/500\n",
      "19/19 [==============================] - 0s 4ms/step - loss: 15.0818 - val_loss: 662.6428\n",
      "Epoch 301/500\n",
      "19/19 [==============================] - 0s 4ms/step - loss: 15.0041 - val_loss: 663.3248\n",
      "Epoch 302/500\n",
      "19/19 [==============================] - 0s 5ms/step - loss: 14.9308 - val_loss: 663.9886\n",
      "Epoch 303/500\n",
      "19/19 [==============================] - 0s 5ms/step - loss: 14.8617 - val_loss: 664.6347\n",
      "Epoch 304/500\n",
      "19/19 [==============================] - 0s 4ms/step - loss: 14.7966 - val_loss: 665.2629\n",
      "Epoch 305/500\n",
      "19/19 [==============================] - 0s 4ms/step - loss: 14.7354 - val_loss: 665.8736\n",
      "Epoch 306/500\n",
      "19/19 [==============================] - 0s 4ms/step - loss: 14.6777 - val_loss: 666.4673\n",
      "Epoch 307/500\n",
      "19/19 [==============================] - 0s 3ms/step - loss: 14.6235 - val_loss: 667.0436\n",
      "Epoch 308/500\n",
      "19/19 [==============================] - 0s 9ms/step - loss: 14.5724 - val_loss: 667.6032\n",
      "Epoch 309/500\n",
      "19/19 [==============================] - 0s 5ms/step - loss: 14.5244 - val_loss: 668.1463\n",
      "Epoch 310/500\n",
      "19/19 [==============================] - 0s 5ms/step - loss: 14.4793 - val_loss: 668.6729\n",
      "Epoch 311/500\n",
      "19/19 [==============================] - 0s 5ms/step - loss: 14.4369 - val_loss: 669.1837\n",
      "Epoch 312/500\n",
      "19/19 [==============================] - 0s 5ms/step - loss: 14.3970 - val_loss: 669.6788\n",
      "Epoch 313/500\n",
      "19/19 [==============================] - 0s 4ms/step - loss: 14.3595 - val_loss: 670.1584\n",
      "Epoch 314/500\n",
      "19/19 [==============================] - 0s 4ms/step - loss: 14.3243 - val_loss: 670.6227\n",
      "Epoch 315/500\n",
      "19/19 [==============================] - 0s 4ms/step - loss: 14.2912 - val_loss: 671.0719\n",
      "Epoch 316/500\n",
      "19/19 [==============================] - 0s 5ms/step - loss: 14.2602 - val_loss: 671.5066\n",
      "Epoch 317/500\n",
      "19/19 [==============================] - 0s 4ms/step - loss: 14.2311 - val_loss: 671.9267\n",
      "Epoch 318/500\n",
      "19/19 [==============================] - 0s 4ms/step - loss: 14.2037 - val_loss: 672.3329\n",
      "Epoch 319/500\n",
      "19/19 [==============================] - 0s 4ms/step - loss: 14.1781 - val_loss: 672.7255\n",
      "Epoch 320/500\n",
      "19/19 [==============================] - 0s 4ms/step - loss: 14.1540 - val_loss: 673.1043\n",
      "Epoch 321/500\n",
      "19/19 [==============================] - 0s 5ms/step - loss: 14.1314 - val_loss: 673.4699\n",
      "Epoch 322/500\n",
      "19/19 [==============================] - 0s 4ms/step - loss: 14.1102 - val_loss: 673.8228\n",
      "Epoch 323/500\n",
      "19/19 [==============================] - 0s 4ms/step - loss: 14.0904 - val_loss: 674.1627\n",
      "Epoch 324/500\n",
      "19/19 [==============================] - 0s 4ms/step - loss: 14.0717 - val_loss: 674.4906\n",
      "Epoch 325/500\n",
      "19/19 [==============================] - 0s 5ms/step - loss: 14.0543 - val_loss: 674.8067\n",
      "Epoch 326/500\n",
      "19/19 [==============================] - 0s 4ms/step - loss: 14.0379 - val_loss: 675.1106\n",
      "Epoch 327/500\n",
      "19/19 [==============================] - 0s 4ms/step - loss: 14.0226 - val_loss: 675.4033\n",
      "Epoch 328/500\n",
      "19/19 [==============================] - 0s 4ms/step - loss: 14.0082 - val_loss: 675.6850\n",
      "Epoch 329/500\n",
      "19/19 [==============================] - 0s 4ms/step - loss: 13.9948 - val_loss: 675.9556\n",
      "Epoch 330/500\n",
      "19/19 [==============================] - 0s 4ms/step - loss: 13.9822 - val_loss: 676.2158\n",
      "Epoch 331/500\n",
      "19/19 [==============================] - 0s 5ms/step - loss: 13.9703 - val_loss: 676.4658\n",
      "Epoch 332/500\n",
      "19/19 [==============================] - 0s 4ms/step - loss: 13.9593 - val_loss: 676.7056\n",
      "Epoch 333/500\n",
      "19/19 [==============================] - 0s 4ms/step - loss: 13.9489 - val_loss: 676.9361\n",
      "Epoch 334/500\n",
      "19/19 [==============================] - 0s 4ms/step - loss: 13.9392 - val_loss: 677.1572\n",
      "Epoch 335/500\n",
      "19/19 [==============================] - 0s 4ms/step - loss: 13.9301 - val_loss: 677.3692\n",
      "Epoch 336/500\n",
      "19/19 [==============================] - 0s 4ms/step - loss: 13.9216 - val_loss: 677.5720\n",
      "Epoch 337/500\n",
      "19/19 [==============================] - 0s 9ms/step - loss: 13.9137 - val_loss: 677.7667\n",
      "Epoch 338/500\n",
      "19/19 [==============================] - 0s 4ms/step - loss: 13.9062 - val_loss: 677.9528\n",
      "Epoch 339/500\n",
      "19/19 [==============================] - 0s 4ms/step - loss: 13.8992 - val_loss: 678.1312\n",
      "Epoch 340/500\n",
      "19/19 [==============================] - 0s 4ms/step - loss: 13.8927 - val_loss: 678.3016\n",
      "Epoch 341/500\n",
      "19/19 [==============================] - 0s 4ms/step - loss: 13.8866 - val_loss: 678.4648\n",
      "Epoch 342/500\n",
      "19/19 [==============================] - 0s 4ms/step - loss: 13.8809 - val_loss: 678.6207\n",
      "Epoch 343/500\n",
      "19/19 [==============================] - 0s 5ms/step - loss: 13.8755 - val_loss: 678.7695\n",
      "Epoch 344/500\n",
      "19/19 [==============================] - 0s 4ms/step - loss: 13.8705 - val_loss: 678.9114\n",
      "Epoch 345/500\n",
      "19/19 [==============================] - 0s 4ms/step - loss: 13.8659 - val_loss: 679.0468\n",
      "Epoch 346/500\n",
      "19/19 [==============================] - 0s 4ms/step - loss: 13.8615 - val_loss: 679.1762\n",
      "Epoch 347/500\n",
      "19/19 [==============================] - 0s 4ms/step - loss: 13.8574 - val_loss: 679.2994\n",
      "Epoch 348/500\n",
      "19/19 [==============================] - 0s 5ms/step - loss: 13.8536 - val_loss: 679.4166\n",
      "Epoch 349/500\n",
      "19/19 [==============================] - 0s 4ms/step - loss: 13.8501 - val_loss: 679.5283\n",
      "Epoch 350/500\n",
      "19/19 [==============================] - 0s 4ms/step - loss: 13.8468 - val_loss: 679.6348\n",
      "Epoch 351/500\n",
      "19/19 [==============================] - 0s 3ms/step - loss: 13.8437 - val_loss: 679.7360\n",
      "Epoch 352/500\n",
      "19/19 [==============================] - 0s 4ms/step - loss: 13.8408 - val_loss: 679.8322\n",
      "Epoch 353/500\n",
      "19/19 [==============================] - 0s 4ms/step - loss: 13.8381 - val_loss: 679.9239\n",
      "Epoch 354/500\n",
      "19/19 [==============================] - 0s 4ms/step - loss: 13.8356 - val_loss: 680.0104\n",
      "Epoch 355/500\n",
      "19/19 [==============================] - 0s 4ms/step - loss: 13.8333 - val_loss: 680.0931\n",
      "Epoch 356/500\n",
      "19/19 [==============================] - 0s 4ms/step - loss: 13.8311 - val_loss: 680.1713\n",
      "Epoch 357/500\n",
      "19/19 [==============================] - 0s 5ms/step - loss: 13.8291 - val_loss: 680.2455\n",
      "Epoch 358/500\n",
      "19/19 [==============================] - 0s 4ms/step - loss: 13.8273 - val_loss: 680.3155\n",
      "Epoch 359/500\n",
      "19/19 [==============================] - 0s 5ms/step - loss: 13.8256 - val_loss: 680.3821\n",
      "Epoch 360/500\n",
      "19/19 [==============================] - 0s 3ms/step - loss: 13.8240 - val_loss: 680.4453\n",
      "Epoch 361/500\n",
      "19/19 [==============================] - 0s 4ms/step - loss: 13.8225 - val_loss: 680.5048\n",
      "Epoch 362/500\n",
      "19/19 [==============================] - 0s 10ms/step - loss: 13.8211 - val_loss: 680.5609\n",
      "Epoch 363/500\n",
      "19/19 [==============================] - 0s 4ms/step - loss: 13.8199 - val_loss: 680.6143\n",
      "Epoch 364/500\n",
      "19/19 [==============================] - 0s 4ms/step - loss: 13.8187 - val_loss: 680.6641\n",
      "Epoch 365/500\n",
      "19/19 [==============================] - 0s 4ms/step - loss: 13.8177 - val_loss: 680.7115\n",
      "Epoch 366/500\n",
      "19/19 [==============================] - 0s 5ms/step - loss: 13.8167 - val_loss: 680.7563\n",
      "Epoch 367/500\n",
      "19/19 [==============================] - 0s 4ms/step - loss: 13.8158 - val_loss: 680.7983\n",
      "Epoch 368/500\n",
      "19/19 [==============================] - 0s 3ms/step - loss: 13.8150 - val_loss: 680.8381\n",
      "Epoch 369/500\n",
      "19/19 [==============================] - 0s 4ms/step - loss: 13.8143 - val_loss: 680.8757\n",
      "Epoch 370/500\n",
      "19/19 [==============================] - 0s 4ms/step - loss: 13.8136 - val_loss: 680.9108\n",
      "Epoch 371/500\n",
      "19/19 [==============================] - 0s 4ms/step - loss: 13.8130 - val_loss: 680.9441\n",
      "Epoch 372/500\n",
      "19/19 [==============================] - 0s 5ms/step - loss: 13.8125 - val_loss: 680.9751\n",
      "Epoch 373/500\n",
      "19/19 [==============================] - 0s 10ms/step - loss: 13.8120 - val_loss: 681.0045\n",
      "Epoch 374/500\n",
      "19/19 [==============================] - 0s 4ms/step - loss: 13.8116 - val_loss: 681.0319\n",
      "Epoch 375/500\n",
      "19/19 [==============================] - 0s 4ms/step - loss: 13.8112 - val_loss: 681.0575\n",
      "Epoch 376/500\n",
      "19/19 [==============================] - 0s 4ms/step - loss: 13.8109 - val_loss: 681.0818\n",
      "Epoch 377/500\n",
      "19/19 [==============================] - 0s 5ms/step - loss: 13.8106 - val_loss: 681.1042\n",
      "Epoch 378/500\n",
      "19/19 [==============================] - 0s 4ms/step - loss: 13.8104 - val_loss: 681.1252\n",
      "Epoch 379/500\n",
      "19/19 [==============================] - 0s 4ms/step - loss: 13.8102 - val_loss: 681.1450\n",
      "Epoch 380/500\n",
      "19/19 [==============================] - 0s 5ms/step - loss: 13.8101 - val_loss: 681.1633\n",
      "Epoch 381/500\n",
      "19/19 [==============================] - 0s 4ms/step - loss: 13.8099 - val_loss: 681.1806\n",
      "Epoch 382/500\n",
      "19/19 [==============================] - 0s 4ms/step - loss: 13.8099 - val_loss: 681.1967\n",
      "Epoch 383/500\n",
      "19/19 [==============================] - 0s 4ms/step - loss: 13.8098 - val_loss: 681.2115\n",
      "Epoch 384/500\n",
      "19/19 [==============================] - 0s 4ms/step - loss: 13.8098 - val_loss: 681.2255\n",
      "Epoch 385/500\n",
      "19/19 [==============================] - 0s 4ms/step - loss: 13.8098 - val_loss: 681.2380\n",
      "Epoch 386/500\n",
      "19/19 [==============================] - 0s 5ms/step - loss: 13.8098 - val_loss: 681.2499\n",
      "Epoch 387/500\n",
      "19/19 [==============================] - 0s 3ms/step - loss: 13.8099 - val_loss: 681.2610\n",
      "Epoch 388/500\n",
      "19/19 [==============================] - 0s 5ms/step - loss: 13.8100 - val_loss: 681.2714\n",
      "Epoch 389/500\n",
      "19/19 [==============================] - 0s 4ms/step - loss: 13.8100 - val_loss: 681.2811\n",
      "Epoch 390/500\n",
      "19/19 [==============================] - 0s 4ms/step - loss: 13.8102 - val_loss: 681.2899\n",
      "Epoch 391/500\n",
      "19/19 [==============================] - 0s 3ms/step - loss: 13.8103 - val_loss: 681.2980\n",
      "Epoch 392/500\n",
      "19/19 [==============================] - 0s 4ms/step - loss: 13.8104 - val_loss: 681.3052\n",
      "Epoch 393/500\n",
      "19/19 [==============================] - 0s 4ms/step - loss: 13.8106 - val_loss: 681.3120\n",
      "Epoch 394/500\n",
      "19/19 [==============================] - 0s 4ms/step - loss: 13.8108 - val_loss: 681.3184\n",
      "Epoch 395/500\n",
      "19/19 [==============================] - 0s 5ms/step - loss: 13.8110 - val_loss: 681.3240\n",
      "Epoch 396/500\n",
      "19/19 [==============================] - 0s 4ms/step - loss: 13.8113 - val_loss: 681.3293\n",
      "Epoch 397/500\n",
      "19/19 [==============================] - 0s 4ms/step - loss: 13.8115 - val_loss: 681.3345\n",
      "Epoch 398/500\n",
      "19/19 [==============================] - 0s 6ms/step - loss: 13.8117 - val_loss: 681.3387\n",
      "Epoch 399/500\n",
      "19/19 [==============================] - 0s 6ms/step - loss: 13.8120 - val_loss: 681.3429\n",
      "Epoch 400/500\n",
      "19/19 [==============================] - 0s 4ms/step - loss: 13.8122 - val_loss: 681.3463\n",
      "Epoch 401/500\n",
      "19/19 [==============================] - 0s 4ms/step - loss: 13.8125 - val_loss: 681.3495\n",
      "Epoch 402/500\n",
      "19/19 [==============================] - 0s 4ms/step - loss: 13.8128 - val_loss: 681.3526\n",
      "Epoch 403/500\n",
      "19/19 [==============================] - 0s 4ms/step - loss: 13.8131 - val_loss: 681.3551\n",
      "Epoch 404/500\n",
      "19/19 [==============================] - 0s 5ms/step - loss: 13.8134 - val_loss: 681.3575\n",
      "Epoch 405/500\n",
      "19/19 [==============================] - 0s 4ms/step - loss: 13.8136 - val_loss: 681.3595\n",
      "Epoch 406/500\n",
      "19/19 [==============================] - 0s 3ms/step - loss: 13.8139 - val_loss: 681.3613\n",
      "Epoch 407/500\n",
      "19/19 [==============================] - 0s 4ms/step - loss: 13.8142 - val_loss: 681.3630\n",
      "Epoch 408/500\n",
      "19/19 [==============================] - 0s 4ms/step - loss: 13.8146 - val_loss: 681.3644\n",
      "Epoch 409/500\n",
      "19/19 [==============================] - 0s 4ms/step - loss: 13.8149 - val_loss: 681.3656\n",
      "Epoch 410/500\n",
      "19/19 [==============================] - 0s 4ms/step - loss: 13.8152 - val_loss: 681.3666\n",
      "Epoch 411/500\n",
      "19/19 [==============================] - 0s 4ms/step - loss: 13.8155 - val_loss: 681.3676\n",
      "Epoch 412/500\n",
      "19/19 [==============================] - 0s 4ms/step - loss: 13.8159 - val_loss: 681.3682\n",
      "Epoch 413/500\n",
      "19/19 [==============================] - 0s 4ms/step - loss: 13.8162 - val_loss: 681.3688\n",
      "Epoch 414/500\n",
      "19/19 [==============================] - 0s 4ms/step - loss: 13.8165 - val_loss: 681.3690\n",
      "Epoch 415/500\n",
      "19/19 [==============================] - 0s 4ms/step - loss: 13.8169 - val_loss: 681.3693\n",
      "Epoch 416/500\n",
      "19/19 [==============================] - 0s 4ms/step - loss: 13.8172 - val_loss: 681.3693\n",
      "Epoch 417/500\n",
      "19/19 [==============================] - 0s 4ms/step - loss: 13.8175 - val_loss: 681.3693\n",
      "Epoch 418/500\n",
      "19/19 [==============================] - 0s 4ms/step - loss: 13.8179 - val_loss: 681.3695\n",
      "Epoch 419/500\n",
      "19/19 [==============================] - 0s 5ms/step - loss: 13.8182 - val_loss: 681.3692\n",
      "Epoch 420/500\n",
      "19/19 [==============================] - 0s 4ms/step - loss: 13.8185 - val_loss: 681.3688\n",
      "Epoch 421/500\n",
      "19/19 [==============================] - 0s 3ms/step - loss: 13.8189 - val_loss: 681.3687\n",
      "Epoch 422/500\n",
      "19/19 [==============================] - 0s 4ms/step - loss: 13.8192 - val_loss: 681.3680\n",
      "Epoch 423/500\n",
      "19/19 [==============================] - 0s 4ms/step - loss: 13.8195 - val_loss: 681.3679\n",
      "Epoch 424/500\n",
      "19/19 [==============================] - 0s 5ms/step - loss: 13.8199 - val_loss: 681.3672\n",
      "Epoch 425/500\n",
      "19/19 [==============================] - 0s 3ms/step - loss: 13.8202 - val_loss: 681.3666\n",
      "Epoch 426/500\n",
      "19/19 [==============================] - 0s 9ms/step - loss: 13.8205 - val_loss: 681.3659\n",
      "Epoch 427/500\n",
      "19/19 [==============================] - 0s 5ms/step - loss: 13.8209 - val_loss: 681.3654\n",
      "Epoch 428/500\n",
      "19/19 [==============================] - 0s 5ms/step - loss: 13.8212 - val_loss: 681.3642\n",
      "Epoch 429/500\n",
      "19/19 [==============================] - 0s 4ms/step - loss: 13.8216 - val_loss: 681.3638\n",
      "Epoch 430/500\n",
      "19/19 [==============================] - 0s 6ms/step - loss: 13.8219 - val_loss: 681.3628\n",
      "Epoch 431/500\n",
      "19/19 [==============================] - 0s 5ms/step - loss: 13.8222 - val_loss: 681.3619\n",
      "Epoch 432/500\n",
      "19/19 [==============================] - 0s 4ms/step - loss: 13.8226 - val_loss: 681.3613\n",
      "Epoch 433/500\n",
      "19/19 [==============================] - 0s 4ms/step - loss: 13.8229 - val_loss: 681.3605\n",
      "Epoch 434/500\n",
      "19/19 [==============================] - 0s 5ms/step - loss: 13.8232 - val_loss: 681.3593\n",
      "Epoch 435/500\n",
      "19/19 [==============================] - 0s 4ms/step - loss: 13.8236 - val_loss: 681.3582\n",
      "Epoch 436/500\n",
      "19/19 [==============================] - 0s 3ms/step - loss: 13.8239 - val_loss: 681.3573\n",
      "Epoch 437/500\n",
      "19/19 [==============================] - 0s 4ms/step - loss: 13.8242 - val_loss: 681.3564\n",
      "Epoch 438/500\n",
      "19/19 [==============================] - 0s 4ms/step - loss: 13.8245 - val_loss: 681.3556\n",
      "Epoch 439/500\n",
      "19/19 [==============================] - 0s 4ms/step - loss: 13.8248 - val_loss: 681.3546\n",
      "Epoch 440/500\n",
      "19/19 [==============================] - 0s 4ms/step - loss: 13.8251 - val_loss: 681.3535\n",
      "Epoch 441/500\n",
      "19/19 [==============================] - 0s 4ms/step - loss: 13.8254 - val_loss: 681.3525\n",
      "Epoch 442/500\n",
      "19/19 [==============================] - 0s 3ms/step - loss: 13.8257 - val_loss: 681.3510\n",
      "Epoch 443/500\n",
      "19/19 [==============================] - 0s 4ms/step - loss: 13.8261 - val_loss: 681.3503\n",
      "Epoch 444/500\n",
      "19/19 [==============================] - 0s 4ms/step - loss: 13.8264 - val_loss: 681.3495\n",
      "Epoch 445/500\n",
      "19/19 [==============================] - 0s 4ms/step - loss: 13.8267 - val_loss: 681.3489\n",
      "Epoch 446/500\n",
      "19/19 [==============================] - 0s 3ms/step - loss: 13.8270 - val_loss: 681.3480\n",
      "Epoch 447/500\n",
      "19/19 [==============================] - 0s 4ms/step - loss: 13.8273 - val_loss: 681.3467\n",
      "Epoch 448/500\n",
      "19/19 [==============================] - 0s 4ms/step - loss: 13.8276 - val_loss: 681.3463\n",
      "Epoch 449/500\n",
      "19/19 [==============================] - 0s 4ms/step - loss: 13.8278 - val_loss: 681.3452\n",
      "Epoch 450/500\n",
      "19/19 [==============================] - 0s 3ms/step - loss: 13.8281 - val_loss: 681.3443\n",
      "Epoch 451/500\n",
      "19/19 [==============================] - 0s 4ms/step - loss: 13.8284 - val_loss: 681.3430\n",
      "Epoch 452/500\n",
      "19/19 [==============================] - 0s 9ms/step - loss: 13.8287 - val_loss: 681.3423\n",
      "Epoch 453/500\n",
      "19/19 [==============================] - 0s 4ms/step - loss: 13.8290 - val_loss: 681.3412\n",
      "Epoch 454/500\n",
      "19/19 [==============================] - 0s 4ms/step - loss: 13.8292 - val_loss: 681.3397\n",
      "Epoch 455/500\n",
      "19/19 [==============================] - 0s 4ms/step - loss: 13.8296 - val_loss: 681.3389\n",
      "Epoch 456/500\n",
      "19/19 [==============================] - 0s 4ms/step - loss: 13.8299 - val_loss: 681.3380\n",
      "Epoch 457/500\n",
      "19/19 [==============================] - 0s 4ms/step - loss: 13.8301 - val_loss: 681.3372\n",
      "Epoch 458/500\n",
      "19/19 [==============================] - 0s 5ms/step - loss: 13.8304 - val_loss: 681.3362\n",
      "Epoch 459/500\n",
      "19/19 [==============================] - 0s 4ms/step - loss: 13.8307 - val_loss: 681.3351\n",
      "Epoch 460/500\n",
      "19/19 [==============================] - 0s 4ms/step - loss: 13.8309 - val_loss: 681.3342\n",
      "Epoch 461/500\n",
      "19/19 [==============================] - 0s 4ms/step - loss: 13.8312 - val_loss: 681.3336\n",
      "Epoch 462/500\n",
      "19/19 [==============================] - 0s 5ms/step - loss: 13.8314 - val_loss: 681.3329\n",
      "Epoch 463/500\n",
      "19/19 [==============================] - 0s 5ms/step - loss: 13.8316 - val_loss: 681.3319\n",
      "Epoch 464/500\n",
      "19/19 [==============================] - 0s 4ms/step - loss: 13.8319 - val_loss: 681.3311\n",
      "Epoch 465/500\n",
      "19/19 [==============================] - 0s 4ms/step - loss: 13.8321 - val_loss: 681.3301\n",
      "Epoch 466/500\n",
      "19/19 [==============================] - 0s 4ms/step - loss: 13.8324 - val_loss: 681.3292\n",
      "Epoch 467/500\n",
      "19/19 [==============================] - 0s 4ms/step - loss: 13.8326 - val_loss: 681.3281\n",
      "Epoch 468/500\n",
      "19/19 [==============================] - 0s 4ms/step - loss: 13.8329 - val_loss: 681.3275\n",
      "Epoch 469/500\n",
      "19/19 [==============================] - 0s 4ms/step - loss: 13.8331 - val_loss: 681.3267\n",
      "Epoch 470/500\n",
      "19/19 [==============================] - 0s 5ms/step - loss: 13.8334 - val_loss: 681.3259\n",
      "Epoch 471/500\n",
      "19/19 [==============================] - 0s 4ms/step - loss: 13.8336 - val_loss: 681.3250\n",
      "Epoch 472/500\n",
      "19/19 [==============================] - 0s 5ms/step - loss: 13.8338 - val_loss: 681.3242\n",
      "Epoch 473/500\n",
      "19/19 [==============================] - 0s 4ms/step - loss: 13.8341 - val_loss: 681.3237\n",
      "Epoch 474/500\n",
      "19/19 [==============================] - 0s 9ms/step - loss: 13.8342 - val_loss: 681.3228\n",
      "Epoch 475/500\n",
      "19/19 [==============================] - 0s 4ms/step - loss: 13.8345 - val_loss: 681.3218\n",
      "Epoch 476/500\n",
      "19/19 [==============================] - 0s 4ms/step - loss: 13.8347 - val_loss: 681.3210\n",
      "Epoch 477/500\n",
      "19/19 [==============================] - 0s 4ms/step - loss: 13.8349 - val_loss: 681.3203\n",
      "Epoch 478/500\n",
      "19/19 [==============================] - 0s 5ms/step - loss: 13.8351 - val_loss: 681.3196\n",
      "Epoch 479/500\n",
      "19/19 [==============================] - 0s 5ms/step - loss: 13.8353 - val_loss: 681.3187\n",
      "Epoch 480/500\n",
      "19/19 [==============================] - 0s 4ms/step - loss: 13.8356 - val_loss: 681.3180\n",
      "Epoch 481/500\n",
      "19/19 [==============================] - 0s 5ms/step - loss: 13.8358 - val_loss: 681.3176\n",
      "Epoch 482/500\n",
      "19/19 [==============================] - 0s 6ms/step - loss: 13.8360 - val_loss: 681.3170\n",
      "Epoch 483/500\n",
      "19/19 [==============================] - 0s 5ms/step - loss: 13.8362 - val_loss: 681.3162\n",
      "Epoch 484/500\n",
      "19/19 [==============================] - 0s 4ms/step - loss: 13.8363 - val_loss: 681.3154\n",
      "Epoch 485/500\n",
      "19/19 [==============================] - 0s 4ms/step - loss: 13.8365 - val_loss: 681.3148\n",
      "Epoch 486/500\n",
      "19/19 [==============================] - 0s 4ms/step - loss: 13.8367 - val_loss: 681.3141\n",
      "Epoch 487/500\n",
      "19/19 [==============================] - 0s 5ms/step - loss: 13.8369 - val_loss: 681.3132\n",
      "Epoch 488/500\n",
      "19/19 [==============================] - 0s 4ms/step - loss: 13.8371 - val_loss: 681.3124\n",
      "Epoch 489/500\n",
      "19/19 [==============================] - 0s 4ms/step - loss: 13.8373 - val_loss: 681.3114\n",
      "Epoch 490/500\n",
      "19/19 [==============================] - 0s 4ms/step - loss: 13.8375 - val_loss: 681.3109\n",
      "Epoch 491/500\n",
      "19/19 [==============================] - 0s 4ms/step - loss: 13.8377 - val_loss: 681.3103\n",
      "Epoch 492/500\n",
      "19/19 [==============================] - 0s 4ms/step - loss: 13.8378 - val_loss: 681.3097\n",
      "Epoch 493/500\n",
      "19/19 [==============================] - 0s 4ms/step - loss: 13.8380 - val_loss: 681.3087\n",
      "Epoch 494/500\n",
      "19/19 [==============================] - 0s 5ms/step - loss: 13.8382 - val_loss: 681.3082\n",
      "Epoch 495/500\n",
      "19/19 [==============================] - 0s 4ms/step - loss: 13.8383 - val_loss: 681.3077\n",
      "Epoch 496/500\n",
      "19/19 [==============================] - 0s 10ms/step - loss: 13.8385 - val_loss: 681.3068\n",
      "Epoch 497/500\n",
      "19/19 [==============================] - 0s 4ms/step - loss: 13.8387 - val_loss: 681.3062\n",
      "Epoch 498/500\n",
      "19/19 [==============================] - 0s 4ms/step - loss: 13.8388 - val_loss: 681.3054\n",
      "Epoch 499/500\n",
      "19/19 [==============================] - 0s 4ms/step - loss: 13.8390 - val_loss: 681.3047\n",
      "Epoch 500/500\n",
      "19/19 [==============================] - 0s 4ms/step - loss: 13.8392 - val_loss: 681.3043\n"
     ]
    }
   ],
   "source": [
    "C0 = tf.Variable(86.6856, name=\"C0\", trainable=True, dtype=tf.float32)\n",
    "K0 = tf.Variable(-0.0008, name=\"K0\", trainable=True, dtype=tf.float32)\n",
    "K1 = tf.Variable(-0.0002, name=\"K1\", trainable=True, dtype=tf.float32)\n",
    "a = tf.Variable(0.0000, name=\"a\", trainable=True, dtype=tf.float32)\n",
    "b = tf.Variable(0.0128, name=\"b\", trainable=True, dtype=tf.float32)\n",
    "c = tf.Variable(-2.3003, name=\"c\", trainable=True, dtype=tf.float32)\n",
    "\n",
    "splitr = 0.8\n",
    "\n",
    "\n",
    "def loss_fn(y_true, y_pred):\n",
    "    squared_difference = tf.square(y_true[:, 0] - y_pred[:, 0])\n",
    "    #squared_difference2 = tf.square(y_true[:, 2]-y_pred[:, 2])\n",
    "    #squared_difference1 = tf.square(y_true[:, 1]-y_pred[:, 1])\n",
    "    epsilon = 1\n",
    "    squared_difference3 = tf.square(\n",
    "        y_pred[:, 1] - (\n",
    "            y_pred[:, 0] * (\n",
    "                K0 - K1 * (\n",
    "                    9 * a * tf.math.log((y_pred[:, 0] + epsilon) / C0) / (K0 - K1 * c)**2 +\n",
    "                    4 * b * tf.math.log((y_pred[:, 0] + epsilon) / C0) / (K0 - K1 * c) + c\n",
    "                )\n",
    "            )\n",
    "        )\n",
    "    )\n",
    "    return tf.reduce_mean(squared_difference, axis=-1) + 0.2*tf.reduce_mean(squared_difference3, axis=-1)\n",
    "model = Sequential()\n",
    "model.add(LSTM(100, input_shape=(trainX.shape[1], trainX.shape[2])))\n",
    "model.add(Dense(60))\n",
    "model.compile(loss=loss_fn, optimizer='adam')\n",
    "history = model.fit(trainX[:int(splitr*trainX.shape[0])], trainy[:int(splitr*trainX.shape[0])], epochs=500, batch_size=64, validation_data=(trainX[int(splitr*trainX.shape[0]):trainX.shape[0]], trainy[int(splitr*trainX.shape[0]):trainX.shape[0]]), shuffle=False)"
   ]
  },
  {
   "cell_type": "code",
   "execution_count": 19,
   "metadata": {
    "colab": {
     "base_uri": "https://localhost:8080/"
    },
    "id": "yJL101rPyuoT",
    "outputId": "239ff2b1-c186-423a-d316-939dfdd7c793"
   },
   "outputs": [
    {
     "name": "stdout",
     "output_type": "stream",
     "text": [
      "1/1 [==============================] - 0s 326ms/step\n"
     ]
    }
   ],
   "source": [
    "forecast_without_mc = forecastX\n",
    "yhat_without_mc = model.predict(forecast_without_mc) # Step Ahead Prediction\n",
    "forecast_without_mc = forecast_without_mc.reshape((forecast_without_mc.shape[0], forecast_without_mc.shape[2])) # Historical Input"
   ]
  },
  {
   "cell_type": "code",
   "execution_count": 20,
   "metadata": {
    "colab": {
     "base_uri": "https://localhost:8080/"
    },
    "id": "g9dQELcJ8wbp",
    "outputId": "4dc7671b-b1a8-48d5-8744-a86f98446109"
   },
   "outputs": [
    {
     "data": {
      "text/plain": [
       "(1, 1, 251)"
      ]
     },
     "execution_count": 20,
     "metadata": {},
     "output_type": "execute_result"
    }
   ],
   "source": [
    "forecastX.shape"
   ]
  },
  {
   "cell_type": "code",
   "execution_count": 21,
   "metadata": {
    "colab": {
     "base_uri": "https://localhost:8080/"
    },
    "id": "IS2kyIKG1Kbr",
    "outputId": "f31b3485-8e26-452f-9298-ea8bf7e80ad1"
   },
   "outputs": [
    {
     "data": {
      "text/plain": [
       "(1, 251)"
      ]
     },
     "execution_count": 21,
     "metadata": {},
     "output_type": "execute_result"
    }
   ],
   "source": [
    "forecast_without_mc.shape"
   ]
  },
  {
   "cell_type": "code",
   "execution_count": 22,
   "metadata": {
    "id": "0u6VIzaDyuoT"
   },
   "outputs": [],
   "source": [
    "inv_yhat_without_mc = np.concatenate((forecast_without_mc, yhat_without_mc), axis=1) # Concatenation of predicted values with Historical Data\n",
    "#inv_yhat_without_mc = scaler.inverse_transform(inv_yhat_without_mc) # Transform labels back to original encoding"
   ]
  },
  {
   "cell_type": "code",
   "execution_count": 23,
   "metadata": {
    "colab": {
     "base_uri": "https://localhost:8080/"
    },
    "id": "EUEcw0LX07oU",
    "outputId": "cfc32397-9c37-4b43-d087-584bb31c3dcc"
   },
   "outputs": [
    {
     "data": {
      "text/plain": [
       "(1, 311)"
      ]
     },
     "execution_count": 23,
     "metadata": {},
     "output_type": "execute_result"
    }
   ],
   "source": [
    "inv_yhat_without_mc.shape"
   ]
  },
  {
   "cell_type": "code",
   "execution_count": 24,
   "metadata": {
    "id": "31OWVbSh_305"
   },
   "outputs": [],
   "source": [
    "fforecast = inv_yhat_without_mc[:,-300:]"
   ]
  },
  {
   "cell_type": "code",
   "execution_count": 25,
   "metadata": {},
   "outputs": [
    {
     "data": {
      "text/plain": [
       "(1, 300)"
      ]
     },
     "execution_count": 25,
     "metadata": {},
     "output_type": "execute_result"
    }
   ],
   "source": [
    "fforecast.shape"
   ]
  },
  {
   "cell_type": "code",
   "execution_count": 26,
   "metadata": {
    "id": "BlpGH2FOAiRF"
   },
   "outputs": [],
   "source": [
    "final_forecast = fforecast[:,0:300:3]"
   ]
  },
  {
   "cell_type": "code",
   "execution_count": 27,
   "metadata": {},
   "outputs": [
    {
     "data": {
      "text/plain": [
       "(1, 300)"
      ]
     },
     "execution_count": 27,
     "metadata": {},
     "output_type": "execute_result"
    }
   ],
   "source": [
    "fforecast.shape"
   ]
  },
  {
   "cell_type": "code",
   "execution_count": 28,
   "metadata": {
    "id": "CXkgkj_LBk_t"
   },
   "outputs": [],
   "source": [
    "# code to replace all negative value with 0\n",
    "final_forecast[final_forecast<0] = 0"
   ]
  },
  {
   "cell_type": "code",
   "execution_count": 29,
   "metadata": {},
   "outputs": [
    {
     "data": {
      "text/plain": [
       "array([[68.35042017, 68.29439776, 68.23837535, 68.18235294, 68.12633053,\n",
       "        68.07030812, 68.01428571, 67.95826331, 67.9022409 , 67.84621849,\n",
       "        67.7947549 , 67.76478291, 67.73481092, 70.7180672 , 70.6778011 ,\n",
       "        70.652591  , 70.627381  , 70.6031709 , 70.5769608 , 70.5551751 ,\n",
       "        70.5256541 , 70.5013305 , 70.4761204 , 70.4509104 , 70.4257003 ,\n",
       "        70.4004902 , 70.3752801 , 70.35007   , 70.3248599 , 70.2996499 ,\n",
       "        70.2744398 , 70.2492297 , 70.2240196 , 70.1988095 , 70.1735994 ,\n",
       "        70.1483894 , 70.1231793 , 70.0981692 , 70.0727591 , 70.047549  ,\n",
       "         0.        ,  0.27042687,  0.17719948,  0.        ,  0.34607857,\n",
       "         0.66846353,  0.        , 70.4060924 , 70.3808823 , 70.3556723 ,\n",
       "        70.3304622 , 70.3052521 , 70.280042  , 70.2548319 , 70.2296219 ,\n",
       "        70.2044118 , 70.1792017 , 70.1539916 , 70.1287815 , 70.1035714 ,\n",
       "        70.0783613 , 70.0531513 , 70.0279412 , 70.0027311 , 69.977521  ,\n",
       "        69.9523109 , 69.9271008 , 69.9018908 , 69.8766807 , 69.8514706 ,\n",
       "        69.8262605 , 69.8010504 , 69.6389356 , 75.2419281 ,  0.11499348,\n",
       "         0.24860035,  0.        ,  0.        ,  0.14983201,  0.31360266,\n",
       "        55.21038818,  0.08270425,  0.        ,  0.45246741,  0.        ,\n",
       "         0.        ,  0.        ,  0.        ,  0.        ,  0.        ,\n",
       "         0.        ,  0.        ,  0.58721507,  0.19624776,  0.        ,\n",
       "         0.        ,  0.        ,  0.23134589,  0.        ,  0.        ]])"
      ]
     },
     "execution_count": 29,
     "metadata": {},
     "output_type": "execute_result"
    }
   ],
   "source": [
    "final_forecast"
   ]
  },
  {
   "cell_type": "code",
   "execution_count": 30,
   "metadata": {},
   "outputs": [
    {
     "data": {
      "text/plain": [
       "(1, 100)"
      ]
     },
     "execution_count": 30,
     "metadata": {},
     "output_type": "execute_result"
    }
   ],
   "source": [
    "final_forecast.shape"
   ]
  },
  {
   "cell_type": "code",
   "execution_count": 31,
   "metadata": {},
   "outputs": [
    {
     "data": {
      "text/plain": [
       "(100,)"
      ]
     },
     "execution_count": 31,
     "metadata": {},
     "output_type": "execute_result"
    }
   ],
   "source": [
    "test.shape"
   ]
  },
  {
   "cell_type": "code",
   "execution_count": 32,
   "metadata": {},
   "outputs": [],
   "source": [
    "training_set = np.array(training_set)\n",
    "test = np.array(test)\n",
    "final_forecast = np.array(final_forecast.squeeze(0))"
   ]
  },
  {
   "cell_type": "code",
   "execution_count": 33,
   "metadata": {},
   "outputs": [
    {
     "data": {
      "text/plain": [
       "array([63.95861345, 63.95021008, 63.94180672, 63.93340336, 63.925     ,\n",
       "       63.91659664, 63.90819328, 63.89978992, 63.89138655, 63.88298319,\n",
       "       63.87457983, 63.86617647, 63.85777311, 63.84936975, 63.84096639,\n",
       "       63.83256303, 63.82415966, 63.8157563 , 63.80735294, 63.79749066,\n",
       "       63.77741597, 63.75734127, 63.73726657, 63.71719188, 63.69711718,\n",
       "       63.67704248, 63.65696779, 63.63689309, 63.61681839, 63.5967437 ,\n",
       "       63.576669  , 63.5565943 , 63.53651961, 63.51644491, 63.49637021,\n",
       "       63.47629552, 63.45622082, 63.43614613, 63.41607143, 63.39599673,\n",
       "       63.37592204, 63.35584734, 63.33577264, 63.31569795, 63.29562325,\n",
       "       63.27554855, 63.25547386, 63.23539916, 63.21532446, 63.19524977,\n",
       "       63.17517507, 63.15510037, 63.13502568, 63.11495098, 63.09487628,\n",
       "       63.07480159, 63.05472689, 63.03465219, 63.0145775 , 62.9945028 ,\n",
       "       62.9744281 , 62.95435341, 62.93427871, 62.91420401, 62.89412932,\n",
       "       62.87405462, 62.85397993, 62.83390523, 62.81383053, 62.79375584,\n",
       "       62.77368114, 62.75360644, 62.73353175, 62.71345705, 62.69338235,\n",
       "       62.67330766, 62.65323296, 62.63315826, 62.61308357, 62.59300887,\n",
       "       62.57293417, 62.55285948, 62.53278478, 62.51271008, 62.49263539,\n",
       "       62.47256069, 62.45248599, 62.4324113 , 62.4123366 , 62.3922619 ,\n",
       "       62.37218721, 62.35211251, 62.33203782, 62.31196312, 62.29188842,\n",
       "       62.27181373, 62.25173903, 62.23166433, 62.21158964, 62.19151494])"
      ]
     },
     "execution_count": 33,
     "metadata": {},
     "output_type": "execute_result"
    }
   ],
   "source": [
    "test"
   ]
  },
  {
   "cell_type": "code",
   "execution_count": 34,
   "metadata": {},
   "outputs": [
    {
     "data": {
      "text/plain": [
       "(100,)"
      ]
     },
     "execution_count": 34,
     "metadata": {},
     "output_type": "execute_result"
    }
   ],
   "source": [
    "test.shape"
   ]
  },
  {
   "cell_type": "code",
   "execution_count": 35,
   "metadata": {},
   "outputs": [
    {
     "data": {
      "text/plain": [
       "(100,)"
      ]
     },
     "execution_count": 35,
     "metadata": {},
     "output_type": "execute_result"
    }
   ],
   "source": [
    "final_forecast.shape"
   ]
  },
  {
   "cell_type": "code",
   "execution_count": 36,
   "metadata": {},
   "outputs": [
    {
     "data": {
      "text/plain": [
       "(100,)"
      ]
     },
     "execution_count": 36,
     "metadata": {},
     "output_type": "execute_result"
    }
   ],
   "source": [
    "test.shape"
   ]
  },
  {
   "cell_type": "code",
   "execution_count": 37,
   "metadata": {},
   "outputs": [
    {
     "name": "stdout",
     "output_type": "stream",
     "text": [
      "35.778091295571606\n",
      "24.39945176101216\n"
     ]
    }
   ],
   "source": [
    "import math\n",
    "MSE = np.square(np.subtract(np.array(test),np.array(final_forecast))).mean()   \n",
    "rsme = math.sqrt(MSE)\n",
    "print(rsme)  \n",
    "MAE = np.abs(np.subtract(np.array(test),np.array(final_forecast))).mean()   \n",
    "mae = MAE\n",
    "print(mae)"
   ]
  }
 ],
 "metadata": {
  "colab": {
   "provenance": []
  },
  "kernelspec": {
   "display_name": "Python 3",
   "language": "python",
   "name": "python3"
  },
  "language_info": {
   "codemirror_mode": {
    "name": "ipython",
    "version": 3
   },
   "file_extension": ".py",
   "mimetype": "text/x-python",
   "name": "python",
   "nbconvert_exporter": "python",
   "pygments_lexer": "ipython3",
   "version": "3.9.13"
  }
 },
 "nbformat": 4,
 "nbformat_minor": 0
}
