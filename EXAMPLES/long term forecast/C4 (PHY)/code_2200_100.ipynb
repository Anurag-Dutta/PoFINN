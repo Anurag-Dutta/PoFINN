{
 "cells": [
  {
   "cell_type": "markdown",
   "metadata": {
    "id": "pCGKeZ2gyuoQ"
   },
   "source": [
    "_Importing Required Libraries_"
   ]
  },
  {
   "cell_type": "code",
   "execution_count": 1,
   "metadata": {
    "colab": {
     "base_uri": "https://localhost:8080/"
    },
    "id": "A-6LN-zXiLcM",
    "outputId": "4de610a4-f8b8-4f49-c6c0-89de299ccedc"
   },
   "outputs": [
    {
     "name": "stdout",
     "output_type": "stream",
     "text": [
      "Requirement already satisfied: hampel in c:\\users\\anurag dutta\\appdata\\local\\packages\\pythonsoftwarefoundation.python.3.9_qbz5n2kfra8p0\\localcache\\local-packages\\python39\\site-packages (0.0.5)\n",
      "Requirement already satisfied: numpy in c:\\users\\anurag dutta\\appdata\\local\\packages\\pythonsoftwarefoundation.python.3.9_qbz5n2kfra8p0\\localcache\\local-packages\\python39\\site-packages (from hampel) (1.26.4)\n",
      "Requirement already satisfied: pandas in c:\\users\\anurag dutta\\appdata\\local\\packages\\pythonsoftwarefoundation.python.3.9_qbz5n2kfra8p0\\localcache\\local-packages\\python39\\site-packages (from hampel) (1.5.2)\n",
      "Requirement already satisfied: python-dateutil>=2.8.1 in c:\\users\\anurag dutta\\appdata\\local\\packages\\pythonsoftwarefoundation.python.3.9_qbz5n2kfra8p0\\localcache\\local-packages\\python39\\site-packages (from pandas->hampel) (2.8.2)\n",
      "Requirement already satisfied: pytz>=2020.1 in c:\\users\\anurag dutta\\appdata\\local\\packages\\pythonsoftwarefoundation.python.3.9_qbz5n2kfra8p0\\localcache\\local-packages\\python39\\site-packages (from pandas->hampel) (2023.3.post1)\n",
      "Requirement already satisfied: six>=1.5 in c:\\users\\anurag dutta\\appdata\\local\\packages\\pythonsoftwarefoundation.python.3.9_qbz5n2kfra8p0\\localcache\\local-packages\\python39\\site-packages (from python-dateutil>=2.8.1->pandas->hampel) (1.16.0)\n",
      "Note: you may need to restart the kernel to use updated packages.\n"
     ]
    },
    {
     "name": "stderr",
     "output_type": "stream",
     "text": [
      "\n",
      "[notice] A new release of pip is available: 24.2 -> 24.3.1\n",
      "[notice] To update, run: C:\\Users\\Anurag Dutta\\AppData\\Local\\Microsoft\\WindowsApps\\PythonSoftwareFoundation.Python.3.9_qbz5n2kfra8p0\\python.exe -m pip install --upgrade pip\n"
     ]
    }
   ],
   "source": [
    "pip install hampel"
   ]
  },
  {
   "cell_type": "code",
   "execution_count": 2,
   "metadata": {
    "id": "By_d9uXpaFvZ"
   },
   "outputs": [],
   "source": [
    "from keras.models import Sequential\n",
    "from keras.layers import Dense\n",
    "from keras.layers import LSTM\n",
    "from keras.layers import Dropout\n",
    "import keras\n",
    "import tensorflow as tf\n",
    "from hampel import hampel\n",
    "import numpy as np\n",
    "import matplotlib.pyplot as plt\n",
    "import pandas as pd\n",
    "from sklearn.preprocessing import MinMaxScaler\n",
    "from sklearn.metrics import mean_squared_error, mean_absolute_error\n",
    "from math import sqrt\n",
    "from matplotlib import pyplot\n",
    "from numpy import array"
   ]
  },
  {
   "cell_type": "markdown",
   "metadata": {
    "id": "JyOjBMFayuoR"
   },
   "source": [
    "## Pretraining"
   ]
  },
  {
   "cell_type": "markdown",
   "metadata": {
    "id": "-5QqIY_GyuoR"
   },
   "source": [
    "The `capa_intermittency.dat` feeds the model with the dynamics of the Capacitor"
   ]
  },
  {
   "cell_type": "code",
   "execution_count": 3,
   "metadata": {
    "id": "9dV4a8yfyuoR"
   },
   "outputs": [],
   "source": [
    "data = np.genfromtxt('capa_intermittency.dat')\n",
    "training_set = pd.DataFrame(data).reset_index(drop=True)\n",
    "training_set = training_set.iloc[:,0]"
   ]
  },
  {
   "cell_type": "markdown",
   "metadata": {
    "id": "i7easoxByuoR"
   },
   "source": [
    "## Computing the Gradient"
   ]
  },
  {
   "cell_type": "markdown",
   "metadata": {
    "id": "5SnyolJTyuoR"
   },
   "source": [
    "_Calculating the value of_ $\\frac{dx}{dt}$"
   ]
  },
  {
   "cell_type": "code",
   "execution_count": 4,
   "metadata": {
    "colab": {
     "base_uri": "https://localhost:8080/"
    },
    "id": "wmIbVfIvyuoR",
    "outputId": "aa4e3136-c854-465d-d2e9-81cfd546e440"
   },
   "outputs": [
    {
     "name": "stdout",
     "output_type": "stream",
     "text": [
      "1.0\n",
      "1        0.000298\n",
      "2        0.000298\n",
      "3        0.000297\n",
      "4        0.000297\n",
      "5        0.000297\n",
      "           ...   \n",
      "9996     0.000018\n",
      "9997     0.000018\n",
      "9998     0.000018\n",
      "9999     0.000018\n",
      "10000    0.000018\n",
      "Name: 0, Length: 10000, dtype: float64\n"
     ]
    }
   ],
   "source": [
    "t_diff = 1\n",
    "print(training_set.max())\n",
    "gradient_t = (training_set.diff()/t_diff).iloc[1:] # dx/dt\n",
    "print(gradient_t)"
   ]
  },
  {
   "cell_type": "markdown",
   "metadata": {
    "id": "_2eVeeoxyuoS"
   },
   "source": [
    "## Loading Datasets"
   ]
  },
  {
   "cell_type": "code",
   "execution_count": null,
   "metadata": {
    "id": "0J-NKyIEyuoS"
   },
   "outputs": [
    {
     "data": {
      "text/plain": [
       "0       88.600000\n",
       "1       88.409524\n",
       "2       88.219048\n",
       "3       88.028571\n",
       "4       87.838095\n",
       "          ...    \n",
       "2295    57.508711\n",
       "2296    57.496413\n",
       "2297    57.484116\n",
       "2298    57.471818\n",
       "2299    57.459520\n",
       "Name: C4, Length: 2300, dtype: float64"
      ]
     },
     "execution_count": 5,
     "metadata": {},
     "output_type": "execute_result"
    }
   ],
   "source": [
    "data = pd.read_csv(\"c4_interpolated_2200_100.csv\")\n",
    "training_set = data.iloc[:, 1]\n",
    "training_set"
   ]
  },
  {
   "cell_type": "code",
   "execution_count": 6,
   "metadata": {
    "colab": {
     "base_uri": "https://localhost:8080/"
    },
    "id": "-CbNUhJ74UqF",
    "outputId": "20f562d8-8247-49cc-b9c3-00eca5e13e2d"
   },
   "outputs": [
    {
     "data": {
      "text/plain": [
       "0       88.600000\n",
       "1       88.409524\n",
       "2       88.219048\n",
       "3       88.028571\n",
       "4       87.838095\n",
       "          ...    \n",
       "2195     0.000000\n",
       "2196     0.026960\n",
       "2197     0.000000\n",
       "2198     0.000000\n",
       "2199     0.257641\n",
       "Name: C4, Length: 2200, dtype: float64"
      ]
     },
     "execution_count": 6,
     "metadata": {},
     "output_type": "execute_result"
    }
   ],
   "source": [
    "test = training_set.tail(100)\n",
    "test\n",
    "training_set = training_set.head(2200)\n",
    "training_set"
   ]
  },
  {
   "cell_type": "code",
   "execution_count": 7,
   "metadata": {
    "colab": {
     "base_uri": "https://localhost:8080/"
    },
    "id": "X0TwTcq0yuoS",
    "outputId": "37252ed8-d88e-4044-fa7a-922411990b5b"
   },
   "outputs": [
    {
     "name": "stdout",
     "output_type": "stream",
     "text": [
      "0       0.000298\n",
      "1       0.000298\n",
      "2       0.000297\n",
      "3       0.000297\n",
      "4       0.000297\n",
      "          ...   \n",
      "9995    0.000018\n",
      "9996    0.000018\n",
      "9997    0.000018\n",
      "9998    0.000018\n",
      "9999    0.000018\n",
      "Name: 0, Length: 10000, dtype: float64\n"
     ]
    }
   ],
   "source": [
    "training_set = training_set.reset_index(drop=True)\n",
    "gradient_t = gradient_t.reset_index(drop=True)\n",
    "print(gradient_t)"
   ]
  },
  {
   "cell_type": "code",
   "execution_count": 8,
   "metadata": {
    "id": "O2biznZQyuoS"
   },
   "outputs": [],
   "source": [
    "df = pd.concat((training_set, gradient_t), axis=1)\n",
    "df.columns = ['y_t', 'grad_t']"
   ]
  },
  {
   "cell_type": "code",
   "execution_count": 9,
   "metadata": {
    "colab": {
     "base_uri": "https://localhost:8080/",
     "height": 423
    },
    "id": "sk_a5v3tyuoS",
    "outputId": "17563625-e550-45ae-faab-fafa353e44da"
   },
   "outputs": [
    {
     "data": {
      "text/html": [
       "<div>\n",
       "<style scoped>\n",
       "    .dataframe tbody tr th:only-of-type {\n",
       "        vertical-align: middle;\n",
       "    }\n",
       "\n",
       "    .dataframe tbody tr th {\n",
       "        vertical-align: top;\n",
       "    }\n",
       "\n",
       "    .dataframe thead th {\n",
       "        text-align: right;\n",
       "    }\n",
       "</style>\n",
       "<table border=\"1\" class=\"dataframe\">\n",
       "  <thead>\n",
       "    <tr style=\"text-align: right;\">\n",
       "      <th></th>\n",
       "      <th>y_t</th>\n",
       "      <th>grad_t</th>\n",
       "    </tr>\n",
       "  </thead>\n",
       "  <tbody>\n",
       "    <tr>\n",
       "      <th>0</th>\n",
       "      <td>88.600000</td>\n",
       "      <td>0.000298</td>\n",
       "    </tr>\n",
       "    <tr>\n",
       "      <th>1</th>\n",
       "      <td>88.409524</td>\n",
       "      <td>0.000298</td>\n",
       "    </tr>\n",
       "    <tr>\n",
       "      <th>2</th>\n",
       "      <td>88.219048</td>\n",
       "      <td>0.000297</td>\n",
       "    </tr>\n",
       "    <tr>\n",
       "      <th>3</th>\n",
       "      <td>88.028571</td>\n",
       "      <td>0.000297</td>\n",
       "    </tr>\n",
       "    <tr>\n",
       "      <th>4</th>\n",
       "      <td>87.838095</td>\n",
       "      <td>0.000297</td>\n",
       "    </tr>\n",
       "    <tr>\n",
       "      <th>...</th>\n",
       "      <td>...</td>\n",
       "      <td>...</td>\n",
       "    </tr>\n",
       "    <tr>\n",
       "      <th>9995</th>\n",
       "      <td>NaN</td>\n",
       "      <td>0.000018</td>\n",
       "    </tr>\n",
       "    <tr>\n",
       "      <th>9996</th>\n",
       "      <td>NaN</td>\n",
       "      <td>0.000018</td>\n",
       "    </tr>\n",
       "    <tr>\n",
       "      <th>9997</th>\n",
       "      <td>NaN</td>\n",
       "      <td>0.000018</td>\n",
       "    </tr>\n",
       "    <tr>\n",
       "      <th>9998</th>\n",
       "      <td>NaN</td>\n",
       "      <td>0.000018</td>\n",
       "    </tr>\n",
       "    <tr>\n",
       "      <th>9999</th>\n",
       "      <td>NaN</td>\n",
       "      <td>0.000018</td>\n",
       "    </tr>\n",
       "  </tbody>\n",
       "</table>\n",
       "<p>10000 rows × 2 columns</p>\n",
       "</div>"
      ],
      "text/plain": [
       "            y_t    grad_t\n",
       "0     88.600000  0.000298\n",
       "1     88.409524  0.000298\n",
       "2     88.219048  0.000297\n",
       "3     88.028571  0.000297\n",
       "4     87.838095  0.000297\n",
       "...         ...       ...\n",
       "9995        NaN  0.000018\n",
       "9996        NaN  0.000018\n",
       "9997        NaN  0.000018\n",
       "9998        NaN  0.000018\n",
       "9999        NaN  0.000018\n",
       "\n",
       "[10000 rows x 2 columns]"
      ]
     },
     "execution_count": 9,
     "metadata": {},
     "output_type": "execute_result"
    }
   ],
   "source": [
    "df"
   ]
  },
  {
   "cell_type": "markdown",
   "metadata": {
    "id": "-5esyHu5aFvg"
   },
   "source": [
    "## Plot of the External Forcing from Chaotic Differential Equation"
   ]
  },
  {
   "cell_type": "code",
   "execution_count": 10,
   "metadata": {
    "colab": {
     "base_uri": "https://localhost:8080/",
     "height": 447
    },
    "id": "hGnE43tOh-4p",
    "outputId": "fc396503-b624-4fa5-dfbe-f460207405c6"
   },
   "outputs": [
    {
     "data": {
      "text/plain": [
       "<Axes: >"
      ]
     },
     "execution_count": 10,
     "metadata": {},
     "output_type": "execute_result"
    },
    {
     "data": {
      "image/png": "[encoded data removed]",
      "text/plain": [
       "<Figure size 432x288 with 1 Axes>"
      ]
     },
     "metadata": {
      "needs_background": "light"
     },
     "output_type": "display_data"
    }
   ],
   "source": [
    "df.iloc[:, 0].plot()"
   ]
  },
  {
   "cell_type": "code",
   "execution_count": 11,
   "metadata": {
    "colab": {
     "base_uri": "https://localhost:8080/",
     "height": 447
    },
    "id": "ym4xWUUxaFvg",
    "outputId": "ae6a3495-8ce9-437e-ba81-3ed31deedeae"
   },
   "outputs": [
    {
     "name": "stderr",
     "output_type": "stream",
     "text": [
      "C:\\Users\\Anurag Dutta\\AppData\\Local\\Packages\\PythonSoftwareFoundation.Python.3.9_qbz5n2kfra8p0\\LocalCache\\local-packages\\Python39\\site-packages\\pandas\\core\\arraylike.py:402: RuntimeWarning: divide by zero encountered in log\n",
      "  result = getattr(ufunc, method)(*inputs, **kwargs)\n"
     ]
    },
    {
     "data": {
      "text/plain": [
       "<Axes: >"
      ]
     },
     "execution_count": 11,
     "metadata": {},
     "output_type": "execute_result"
    },
    {
     "data": {
      "image/png": "[encoded data removed]",
      "text/plain": [
       "<Figure size 432x288 with 1 Axes>"
      ]
     },
     "metadata": {
      "needs_background": "light"
     },
     "output_type": "display_data"
    }
   ],
   "source": [
    "import numpy as np\n",
    "c0 = 86.6856  # Value for C0\n",
    "K0 = -0.0008  # Value for K0\n",
    "K1 = -0.0002  # Value for K1\n",
    "a = 0.0000    # Value for a\n",
    "b = 0.0128    # Value for b\n",
    "c = -2.3003    # Value for c\n",
    "\n",
    "L = np.minimum(c0, (df.iloc[:, 1] - (df.iloc[:, 0] * (K0 - K1 * (9 * a * np.log(df.iloc[:, 0] / c0) / (K0 - K1 * c)**2 + 4 * b * np.log(df.iloc[:, 0] / c0) / (K0 - K1 * c) + c)))))\n",
    "L.plot()"
   ]
  },
  {
   "cell_type": "markdown",
   "metadata": {
    "id": "9VyEywnwaFvh"
   },
   "source": [
    "## Preprocessing the data into supervised learning"
   ]
  },
  {
   "cell_type": "code",
   "execution_count": 12,
   "metadata": {
    "id": "6V9dXqzdaFvh"
   },
   "outputs": [],
   "source": [
    "# split a sequence into samples\n",
    "def Supervised(data, n_in=1, n_out=1, dropnan=True):\n",
    "    n_vars = 1 if type(data) is list else data.shape[1]\n",
    "    df = pd.DataFrame(data)\n",
    "    cols, names = list(), list()\n",
    "    # input sequence (t-n_in, ... t-1)\n",
    "    for i in range(n_in, 0, -1):\n",
    "        cols.append(df.shift(i))\n",
    "        names += [('var%d(t-%d)' % (j+1, i)) for j in range(n_vars)]\n",
    "    # forecast sequence (t, t+1, ... t+n_out)\n",
    "    for i in range(0, n_out):\n",
    "      cols.append(df.shift(-i))\n",
    "      if i == 0:\n",
    "        names += [('var%d(t)' % (j+1)) for j in range(n_vars)]\n",
    "      else:\n",
    "        names += [('var%d(t+%d)' % (j+1, i)) for j in range(n_vars)]\n",
    "    # put it all together\n",
    "    agg = pd.concat(cols, axis=1)\n",
    "    agg.columns = names\n",
    "    # drop rows with NaN values\n",
    "    if dropnan:\n",
    "       agg.dropna(inplace=True)\n",
    "    return agg"
   ]
  },
  {
   "cell_type": "code",
   "execution_count": 13,
   "metadata": {
    "colab": {
     "base_uri": "https://localhost:8080/"
    },
    "id": "CrzSrT1HnyfH",
    "outputId": "7e75f928-3e47-499d-eac1-51908015ef78"
   },
   "outputs": [
    {
     "name": "stdout",
     "output_type": "stream",
     "text": [
      "     var1(t-350)  var1(t-349)  var1(t-348)  var1(t-347)  var1(t-346)  \\\n",
      "350    88.600000    88.409524    88.219048    88.028571    87.838095   \n",
      "351    88.409524    88.219048    88.028571    87.838095    87.647619   \n",
      "352    88.219048    88.028571    87.838095    87.647619    87.457143   \n",
      "353    88.028571    87.838095    87.647619    87.457143    87.266667   \n",
      "354    87.838095    87.647619    87.457143    87.266667    87.076190   \n",
      "\n",
      "     var1(t-345)  var1(t-344)  var1(t-343)  var1(t-342)  var1(t-341)  ...  \\\n",
      "350    87.647619    87.457143    87.266667    87.076190    86.896218  ...   \n",
      "351    87.457143    87.266667    87.076190    86.896218    86.845798  ...   \n",
      "352    87.266667    87.076190    86.896218    86.845798    86.795378  ...   \n",
      "353    87.076190    86.896218    86.845798    86.795378    86.744958  ...   \n",
      "354    86.896218    86.845798    86.795378    86.744958    86.694538  ...   \n",
      "\n",
      "     var1(t+95)  var2(t+95)  var1(t+96)  var2(t+96)  var1(t+97)  var2(t+97)  \\\n",
      "350   78.880345    0.000263   78.856069    0.000263   78.831793    0.000263   \n",
      "351   78.856069    0.000263   78.831793    0.000263   78.807516    0.000262   \n",
      "352   78.831793    0.000263   78.807516    0.000262   78.783240    0.000262   \n",
      "353   78.807516    0.000262   78.783240    0.000262   78.758964    0.000262   \n",
      "354   78.783240    0.000262   78.758964    0.000262   78.734687    0.000262   \n",
      "\n",
      "     var1(t+98)  var2(t+98)  var1(t+99)  var2(t+99)  \n",
      "350   78.807516    0.000262   78.783240    0.000262  \n",
      "351   78.783240    0.000262   78.758964    0.000262  \n",
      "352   78.758964    0.000262   78.734687    0.000262  \n",
      "353   78.734687    0.000262   78.710411    0.000262  \n",
      "354   78.710411    0.000262   78.686134    0.000262  \n",
      "\n",
      "[5 rows x 551 columns]\n",
      "Index(['var1(t-350)', 'var1(t-349)', 'var1(t-348)', 'var1(t-347)',\n",
      "       'var1(t-346)', 'var1(t-345)', 'var1(t-344)', 'var1(t-343)',\n",
      "       'var1(t-342)', 'var1(t-341)',\n",
      "       ...\n",
      "       'var1(t+95)', 'var2(t+95)', 'var1(t+96)', 'var2(t+96)', 'var1(t+97)',\n",
      "       'var2(t+97)', 'var1(t+98)', 'var2(t+98)', 'var1(t+99)', 'var2(t+99)'],\n",
      "      dtype='object', length=551)\n"
     ]
    }
   ],
   "source": [
    "data = Supervised(df.values, n_in = 350, n_out = 100)\n",
    "\n",
    "\n",
    "cols_to_drop = []\n",
    "for i in range(2, 351):\n",
    "    cols_to_drop.extend([f'var2(t-{i})'])\n",
    "\n",
    "data.drop(cols_to_drop, axis=1, inplace=True)\n",
    "\n",
    "print(data.head())\n",
    "print(data.columns)"
   ]
  },
  {
   "cell_type": "code",
   "execution_count": 14,
   "metadata": {
    "id": "AfPf60oy6Pe4"
   },
   "outputs": [],
   "source": [
    "train = np.array(data[0:len(data)-1])\n",
    "forecast = np.array(data.tail(1))"
   ]
  },
  {
   "cell_type": "code",
   "execution_count": 15,
   "metadata": {
    "id": "WSAafzI37KiT"
   },
   "outputs": [],
   "source": [
    "trainy = train[:,-300:]\n",
    "trainX = train[:,:-300]"
   ]
  },
  {
   "cell_type": "code",
   "execution_count": 16,
   "metadata": {
    "id": "2SrOqVJA7f50"
   },
   "outputs": [],
   "source": [
    "forecasty = forecast[:,-300:]\n",
    "forecastX = forecast[:,:-300]"
   ]
  },
  {
   "cell_type": "code",
   "execution_count": 17,
   "metadata": {
    "colab": {
     "base_uri": "https://localhost:8080/"
    },
    "id": "Qno_k8Nw7saY",
    "outputId": "c4a88db5-d8c6-489f-cdb2-06b24e293cff"
   },
   "outputs": [
    {
     "name": "stdout",
     "output_type": "stream",
     "text": [
      "(1750, 1, 251) (1750, 300) (1, 1, 251)\n"
     ]
    }
   ],
   "source": [
    "trainX = trainX.reshape((trainX.shape[0], 1, trainX.shape[1]))\n",
    "forecastX = forecastX.reshape((forecastX.shape[0], 1, forecastX.shape[1]))\n",
    "print(trainX.shape, trainy.shape, forecastX.shape)"
   ]
  },
  {
   "cell_type": "code",
   "execution_count": 18,
   "metadata": {
    "colab": {
     "base_uri": "https://localhost:8080/"
    },
    "id": "b1Jp2DvNuNFx",
    "outputId": "d0e5b3c4-64f1-438c-eade-8dfeaac8e285"
   },
   "outputs": [
    {
     "name": "stdout",
     "output_type": "stream",
     "text": [
      "Epoch 1/500\n",
      "22/22 [==============================] - 2s 22ms/step - loss: 5172.1870 - val_loss: 3362.5496\n",
      "Epoch 2/500\n",
      "22/22 [==============================] - 0s 4ms/step - loss: 4975.4551 - val_loss: 3224.5239\n",
      "Epoch 3/500\n",
      "22/22 [==============================] - 0s 4ms/step - loss: 4851.4468 - val_loss: 3156.5007\n",
      "Epoch 4/500\n",
      "22/22 [==============================] - 0s 4ms/step - loss: 4768.4463 - val_loss: 3103.2532\n",
      "Epoch 5/500\n",
      "22/22 [==============================] - 0s 4ms/step - loss: 4689.5449 - val_loss: 3052.0627\n",
      "Epoch 6/500\n",
      "22/22 [==============================] - 0s 4ms/step - loss: 4612.6909 - val_loss: 3001.9099\n",
      "Epoch 7/500\n",
      "22/22 [==============================] - 0s 4ms/step - loss: 4529.4541 - val_loss: 2949.2815\n",
      "Epoch 8/500\n",
      "22/22 [==============================] - 0s 4ms/step - loss: 4450.0327 - val_loss: 2894.2336\n",
      "Epoch 9/500\n",
      "22/22 [==============================] - 0s 4ms/step - loss: 4373.1978 - val_loss: 2844.8667\n",
      "Epoch 10/500\n",
      "22/22 [==============================] - 0s 4ms/step - loss: 4298.1587 - val_loss: 2793.2869\n",
      "Epoch 11/500\n",
      "22/22 [==============================] - 0s 4ms/step - loss: 4208.1841 - val_loss: 2736.6921\n",
      "Epoch 12/500\n",
      "22/22 [==============================] - 0s 4ms/step - loss: 4130.3657 - val_loss: 2687.3789\n",
      "Epoch 13/500\n",
      "22/22 [==============================] - 0s 4ms/step - loss: 4054.7947 - val_loss: 2639.6694\n",
      "Epoch 14/500\n",
      "22/22 [==============================] - 0s 4ms/step - loss: 3981.1443 - val_loss: 2593.2690\n",
      "Epoch 15/500\n",
      "22/22 [==============================] - 0s 4ms/step - loss: 3909.1113 - val_loss: 2547.9854\n",
      "Epoch 16/500\n",
      "22/22 [==============================] - 0s 4ms/step - loss: 3838.3567 - val_loss: 2503.7417\n",
      "Epoch 17/500\n",
      "22/22 [==============================] - 0s 4ms/step - loss: 3768.9006 - val_loss: 2460.4604\n",
      "Epoch 18/500\n",
      "22/22 [==============================] - 0s 4ms/step - loss: 3700.6172 - val_loss: 2418.0957\n",
      "Epoch 19/500\n",
      "22/22 [==============================] - 0s 4ms/step - loss: 3633.4436 - val_loss: 2376.6101\n",
      "Epoch 20/500\n",
      "22/22 [==============================] - 0s 4ms/step - loss: 3567.3362 - val_loss: 2335.9744\n",
      "Epoch 21/500\n",
      "22/22 [==============================] - 0s 4ms/step - loss: 3502.2590 - val_loss: 2296.1638\n",
      "Epoch 22/500\n",
      "22/22 [==============================] - 0s 4ms/step - loss: 3438.1792 - val_loss: 2257.1582\n",
      "Epoch 23/500\n",
      "22/22 [==============================] - 0s 4ms/step - loss: 3375.0740 - val_loss: 2218.9387\n",
      "Epoch 24/500\n",
      "22/22 [==============================] - 0s 4ms/step - loss: 3312.9197 - val_loss: 2181.4900\n",
      "Epoch 25/500\n",
      "22/22 [==============================] - 0s 4ms/step - loss: 3251.6960 - val_loss: 2144.7961\n",
      "Epoch 26/500\n",
      "22/22 [==============================] - 0s 4ms/step - loss: 3191.3857 - val_loss: 2108.8438\n",
      "Epoch 27/500\n",
      "22/22 [==============================] - 0s 4ms/step - loss: 3131.9724 - val_loss: 2073.6211\n",
      "Epoch 28/500\n",
      "22/22 [==============================] - 0s 4ms/step - loss: 3073.4412 - val_loss: 2039.1154\n",
      "Epoch 29/500\n",
      "22/22 [==============================] - 0s 5ms/step - loss: 3015.7783 - val_loss: 2005.3160\n",
      "Epoch 30/500\n",
      "22/22 [==============================] - 0s 4ms/step - loss: 2958.9697 - val_loss: 1972.2119\n",
      "Epoch 31/500\n",
      "22/22 [==============================] - 0s 4ms/step - loss: 2903.0046 - val_loss: 1939.7931\n",
      "Epoch 32/500\n",
      "22/22 [==============================] - 0s 3ms/step - loss: 2847.8699 - val_loss: 1908.0493\n",
      "Epoch 33/500\n",
      "22/22 [==============================] - 0s 4ms/step - loss: 2793.5549 - val_loss: 1876.9712\n",
      "Epoch 34/500\n",
      "22/22 [==============================] - 0s 4ms/step - loss: 2740.0500 - val_loss: 1846.5494\n",
      "Epoch 35/500\n",
      "22/22 [==============================] - 0s 4ms/step - loss: 2687.3435 - val_loss: 1816.7736\n",
      "Epoch 36/500\n",
      "22/22 [==============================] - 0s 4ms/step - loss: 2635.4253 - val_loss: 1787.6343\n",
      "Epoch 37/500\n",
      "22/22 [==============================] - 0s 4ms/step - loss: 2584.2864 - val_loss: 1759.1185\n",
      "Epoch 38/500\n",
      "22/22 [==============================] - 0s 3ms/step - loss: 2533.9177 - val_loss: 1731.2084\n",
      "Epoch 39/500\n",
      "22/22 [==============================] - 0s 8ms/step - loss: 2484.3096 - val_loss: 1703.7870\n",
      "Epoch 40/500\n",
      "22/22 [==============================] - 0s 4ms/step - loss: 2435.4431 - val_loss: 1679.7661\n",
      "Epoch 41/500\n",
      "22/22 [==============================] - 0s 4ms/step - loss: 2387.3413 - val_loss: 1652.4735\n",
      "Epoch 42/500\n",
      "22/22 [==============================] - 0s 4ms/step - loss: 2339.9631 - val_loss: 1627.0132\n",
      "Epoch 43/500\n",
      "22/22 [==============================] - 0s 4ms/step - loss: 2293.3115 - val_loss: 1602.1384\n",
      "Epoch 44/500\n",
      "22/22 [==============================] - 0s 5ms/step - loss: 2247.3784 - val_loss: 1577.8419\n",
      "Epoch 45/500\n",
      "22/22 [==============================] - 0s 4ms/step - loss: 2202.1553 - val_loss: 1554.1165\n",
      "Epoch 46/500\n",
      "22/22 [==============================] - 0s 4ms/step - loss: 2157.6345 - val_loss: 1530.9557\n",
      "Epoch 47/500\n",
      "22/22 [==============================] - 0s 4ms/step - loss: 2113.8096 - val_loss: 1508.3514\n",
      "Epoch 48/500\n",
      "22/22 [==============================] - 0s 5ms/step - loss: 2070.6711 - val_loss: 1486.2975\n",
      "Epoch 49/500\n",
      "22/22 [==============================] - 0s 5ms/step - loss: 2028.2119 - val_loss: 1464.7867\n",
      "Epoch 50/500\n",
      "22/22 [==============================] - 0s 5ms/step - loss: 1986.4257 - val_loss: 1443.8126\n",
      "Epoch 51/500\n",
      "22/22 [==============================] - 0s 4ms/step - loss: 1945.3041 - val_loss: 1423.3685\n",
      "Epoch 52/500\n",
      "22/22 [==============================] - 0s 4ms/step - loss: 1904.8403 - val_loss: 1403.4473\n",
      "Epoch 53/500\n",
      "22/22 [==============================] - 0s 3ms/step - loss: 1865.0271 - val_loss: 1384.0431\n",
      "Epoch 54/500\n",
      "22/22 [==============================] - 0s 4ms/step - loss: 1825.8569 - val_loss: 1365.1487\n",
      "Epoch 55/500\n",
      "22/22 [==============================] - 0s 5ms/step - loss: 1787.3241 - val_loss: 1346.7581\n",
      "Epoch 56/500\n",
      "22/22 [==============================] - 0s 4ms/step - loss: 1749.4209 - val_loss: 1328.8645\n",
      "Epoch 57/500\n",
      "22/22 [==============================] - 0s 4ms/step - loss: 1712.1404 - val_loss: 1311.4619\n",
      "Epoch 58/500\n",
      "22/22 [==============================] - 0s 4ms/step - loss: 1675.4762 - val_loss: 1294.5442\n",
      "Epoch 59/500\n",
      "22/22 [==============================] - 0s 4ms/step - loss: 1639.4213 - val_loss: 1278.1045\n",
      "Epoch 60/500\n",
      "22/22 [==============================] - 0s 4ms/step - loss: 1603.9695 - val_loss: 1262.1371\n",
      "Epoch 61/500\n",
      "22/22 [==============================] - 0s 4ms/step - loss: 1569.1138 - val_loss: 1246.6357\n",
      "Epoch 62/500\n",
      "22/22 [==============================] - 0s 4ms/step - loss: 1534.8479 - val_loss: 1231.5939\n",
      "Epoch 63/500\n",
      "22/22 [==============================] - 0s 5ms/step - loss: 1501.1655 - val_loss: 1217.0065\n",
      "Epoch 64/500\n",
      "22/22 [==============================] - 0s 4ms/step - loss: 1468.0603 - val_loss: 1202.8662\n",
      "Epoch 65/500\n",
      "22/22 [==============================] - 0s 4ms/step - loss: 1435.5259 - val_loss: 1189.1680\n",
      "Epoch 66/500\n",
      "22/22 [==============================] - 0s 3ms/step - loss: 1403.5557 - val_loss: 1175.9054\n",
      "Epoch 67/500\n",
      "22/22 [==============================] - 0s 4ms/step - loss: 1372.1440 - val_loss: 1163.0726\n",
      "Epoch 68/500\n",
      "22/22 [==============================] - 0s 4ms/step - loss: 1341.2836 - val_loss: 1150.6638\n",
      "Epoch 69/500\n",
      "22/22 [==============================] - 0s 4ms/step - loss: 1310.9696 - val_loss: 1138.6729\n",
      "Epoch 70/500\n",
      "22/22 [==============================] - 0s 4ms/step - loss: 1281.1954 - val_loss: 1127.0946\n",
      "Epoch 71/500\n",
      "22/22 [==============================] - 0s 4ms/step - loss: 1251.9550 - val_loss: 1115.9224\n",
      "Epoch 72/500\n",
      "22/22 [==============================] - 0s 5ms/step - loss: 1223.2419 - val_loss: 1105.1509\n",
      "Epoch 73/500\n",
      "22/22 [==============================] - 0s 6ms/step - loss: 1195.0508 - val_loss: 1094.7743\n",
      "Epoch 74/500\n",
      "22/22 [==============================] - 0s 4ms/step - loss: 1167.3755 - val_loss: 1084.7871\n",
      "Epoch 75/500\n",
      "22/22 [==============================] - 0s 8ms/step - loss: 1140.2097 - val_loss: 1075.1827\n",
      "Epoch 76/500\n",
      "22/22 [==============================] - 0s 6ms/step - loss: 1113.5482 - val_loss: 1065.9568\n",
      "Epoch 77/500\n",
      "22/22 [==============================] - 0s 4ms/step - loss: 1087.3848 - val_loss: 1057.1028\n",
      "Epoch 78/500\n",
      "22/22 [==============================] - 0s 4ms/step - loss: 1061.7140 - val_loss: 1048.6152\n",
      "Epoch 79/500\n",
      "22/22 [==============================] - 0s 5ms/step - loss: 1036.5300 - val_loss: 1040.4886\n",
      "Epoch 80/500\n",
      "22/22 [==============================] - 0s 5ms/step - loss: 1011.8268 - val_loss: 1032.7173\n",
      "Epoch 81/500\n",
      "22/22 [==============================] - 0s 5ms/step - loss: 987.5986 - val_loss: 1025.2960\n",
      "Epoch 82/500\n",
      "22/22 [==============================] - 0s 5ms/step - loss: 963.8399 - val_loss: 1018.2189\n",
      "Epoch 83/500\n",
      "22/22 [==============================] - 0s 4ms/step - loss: 940.5455 - val_loss: 1011.4803\n",
      "Epoch 84/500\n",
      "22/22 [==============================] - 0s 4ms/step - loss: 917.7094 - val_loss: 1005.0753\n",
      "Epoch 85/500\n",
      "22/22 [==============================] - 0s 4ms/step - loss: 895.3262 - val_loss: 998.9979\n",
      "Epoch 86/500\n",
      "22/22 [==============================] - 0s 4ms/step - loss: 873.3897 - val_loss: 993.2430\n",
      "Epoch 87/500\n",
      "22/22 [==============================] - 0s 4ms/step - loss: 851.8953 - val_loss: 987.8048\n",
      "Epoch 88/500\n",
      "22/22 [==============================] - 0s 4ms/step - loss: 830.8372 - val_loss: 982.6781\n",
      "Epoch 89/500\n",
      "22/22 [==============================] - 0s 5ms/step - loss: 810.2097 - val_loss: 977.8577\n",
      "Epoch 90/500\n",
      "22/22 [==============================] - 0s 5ms/step - loss: 790.0073 - val_loss: 973.3378\n",
      "Epoch 91/500\n",
      "22/22 [==============================] - 0s 6ms/step - loss: 770.2252 - val_loss: 969.1135\n",
      "Epoch 92/500\n",
      "22/22 [==============================] - 0s 5ms/step - loss: 750.8576 - val_loss: 965.1791\n",
      "Epoch 93/500\n",
      "22/22 [==============================] - 0s 4ms/step - loss: 731.8992 - val_loss: 961.5297\n",
      "Epoch 94/500\n",
      "22/22 [==============================] - 0s 4ms/step - loss: 713.3446 - val_loss: 958.1593\n",
      "Epoch 95/500\n",
      "22/22 [==============================] - 0s 3ms/step - loss: 695.1884 - val_loss: 955.0630\n",
      "Epoch 96/500\n",
      "22/22 [==============================] - 0s 4ms/step - loss: 677.4256 - val_loss: 952.2359\n",
      "Epoch 97/500\n",
      "22/22 [==============================] - 0s 4ms/step - loss: 660.0505 - val_loss: 949.6721\n",
      "Epoch 98/500\n",
      "22/22 [==============================] - 0s 4ms/step - loss: 643.0584 - val_loss: 947.3668\n",
      "Epoch 99/500\n",
      "22/22 [==============================] - 0s 4ms/step - loss: 626.4436 - val_loss: 945.3146\n",
      "Epoch 100/500\n",
      "22/22 [==============================] - 0s 4ms/step - loss: 610.2015 - val_loss: 943.5104\n",
      "Epoch 101/500\n",
      "22/22 [==============================] - 0s 4ms/step - loss: 594.3262 - val_loss: 941.9489\n",
      "Epoch 102/500\n",
      "22/22 [==============================] - 0s 4ms/step - loss: 578.8129 - val_loss: 940.6248\n",
      "Epoch 103/500\n",
      "22/22 [==============================] - 0s 4ms/step - loss: 563.6565 - val_loss: 939.5335\n",
      "Epoch 104/500\n",
      "22/22 [==============================] - 0s 4ms/step - loss: 548.8517 - val_loss: 938.6691\n",
      "Epoch 105/500\n",
      "22/22 [==============================] - 0s 4ms/step - loss: 534.3936 - val_loss: 938.0270\n",
      "Epoch 106/500\n",
      "22/22 [==============================] - 0s 5ms/step - loss: 520.2773 - val_loss: 937.6021\n",
      "Epoch 107/500\n",
      "22/22 [==============================] - 0s 4ms/step - loss: 506.4972 - val_loss: 937.3892\n",
      "Epoch 108/500\n",
      "22/22 [==============================] - 0s 4ms/step - loss: 493.0488 - val_loss: 937.3833\n",
      "Epoch 109/500\n",
      "22/22 [==============================] - 0s 5ms/step - loss: 479.9269 - val_loss: 937.5791\n",
      "Epoch 110/500\n",
      "22/22 [==============================] - 0s 12ms/step - loss: 467.1263 - val_loss: 937.9719\n",
      "Epoch 111/500\n",
      "22/22 [==============================] - 0s 6ms/step - loss: 454.6423 - val_loss: 938.5566\n",
      "Epoch 112/500\n",
      "22/22 [==============================] - 0s 5ms/step - loss: 442.4701 - val_loss: 939.3281\n",
      "Epoch 113/500\n",
      "22/22 [==============================] - 0s 5ms/step - loss: 430.6045 - val_loss: 940.2815\n",
      "Epoch 114/500\n",
      "22/22 [==============================] - 0s 4ms/step - loss: 419.0408 - val_loss: 941.4120\n",
      "Epoch 115/500\n",
      "22/22 [==============================] - 0s 4ms/step - loss: 407.7738 - val_loss: 942.7145\n",
      "Epoch 116/500\n",
      "22/22 [==============================] - 0s 4ms/step - loss: 396.7990 - val_loss: 944.1843\n",
      "Epoch 117/500\n",
      "22/22 [==============================] - 0s 3ms/step - loss: 386.1115 - val_loss: 945.8162\n",
      "Epoch 118/500\n",
      "22/22 [==============================] - 0s 4ms/step - loss: 375.7062 - val_loss: 947.6057\n",
      "Epoch 119/500\n",
      "22/22 [==============================] - 0s 4ms/step - loss: 365.5788 - val_loss: 949.5477\n",
      "Epoch 120/500\n",
      "22/22 [==============================] - 0s 3ms/step - loss: 355.7242 - val_loss: 951.6376\n",
      "Epoch 121/500\n",
      "22/22 [==============================] - 0s 3ms/step - loss: 346.1376 - val_loss: 953.8704\n",
      "Epoch 122/500\n",
      "22/22 [==============================] - 0s 5ms/step - loss: 336.8146 - val_loss: 956.2416\n",
      "Epoch 123/500\n",
      "22/22 [==============================] - 0s 4ms/step - loss: 327.7503 - val_loss: 958.7464\n",
      "Epoch 124/500\n",
      "22/22 [==============================] - 0s 5ms/step - loss: 318.9401 - val_loss: 961.3801\n",
      "Epoch 125/500\n",
      "22/22 [==============================] - 0s 5ms/step - loss: 310.3794 - val_loss: 964.1377\n",
      "Epoch 126/500\n",
      "22/22 [==============================] - 0s 5ms/step - loss: 302.0634 - val_loss: 967.0154\n",
      "Epoch 127/500\n",
      "22/22 [==============================] - 0s 3ms/step - loss: 293.9878 - val_loss: 970.0079\n",
      "Epoch 128/500\n",
      "22/22 [==============================] - 0s 3ms/step - loss: 286.1479 - val_loss: 973.1109\n",
      "Epoch 129/500\n",
      "22/22 [==============================] - 0s 4ms/step - loss: 278.5391 - val_loss: 976.3199\n",
      "Epoch 130/500\n",
      "22/22 [==============================] - 0s 3ms/step - loss: 271.1570 - val_loss: 979.6304\n",
      "Epoch 131/500\n",
      "22/22 [==============================] - 0s 3ms/step - loss: 263.9970 - val_loss: 983.0381\n",
      "Epoch 132/500\n",
      "22/22 [==============================] - 0s 4ms/step - loss: 257.0547 - val_loss: 986.5410\n",
      "Epoch 133/500\n",
      "22/22 [==============================] - 0s 3ms/step - loss: 250.3259 - val_loss: 990.2953\n",
      "Epoch 134/500\n",
      "22/22 [==============================] - 0s 3ms/step - loss: 243.8058 - val_loss: 993.7016\n",
      "Epoch 135/500\n",
      "22/22 [==============================] - 0s 3ms/step - loss: 237.4902 - val_loss: 997.4493\n",
      "Epoch 136/500\n",
      "22/22 [==============================] - 0s 3ms/step - loss: 231.3750 - val_loss: 1001.2720\n",
      "Epoch 137/500\n",
      "22/22 [==============================] - 0s 4ms/step - loss: 225.4558 - val_loss: 1005.1650\n",
      "Epoch 138/500\n",
      "22/22 [==============================] - 0s 4ms/step - loss: 219.7281 - val_loss: 1009.1246\n",
      "Epoch 139/500\n",
      "22/22 [==============================] - 0s 4ms/step - loss: 214.1880 - val_loss: 1013.1465\n",
      "Epoch 140/500\n",
      "22/22 [==============================] - 0s 4ms/step - loss: 208.8312 - val_loss: 1017.2266\n",
      "Epoch 141/500\n",
      "22/22 [==============================] - 0s 4ms/step - loss: 203.6533 - val_loss: 1021.3609\n",
      "Epoch 142/500\n",
      "22/22 [==============================] - 0s 6ms/step - loss: 198.6504 - val_loss: 1025.5452\n",
      "Epoch 143/500\n",
      "22/22 [==============================] - 0s 4ms/step - loss: 193.8184 - val_loss: 1029.7760\n",
      "Epoch 144/500\n",
      "22/22 [==============================] - 0s 13ms/step - loss: 189.1532 - val_loss: 1034.0483\n",
      "Epoch 145/500\n",
      "22/22 [==============================] - 0s 11ms/step - loss: 184.6510 - val_loss: 1038.3593\n",
      "Epoch 146/500\n",
      "22/22 [==============================] - 0s 5ms/step - loss: 180.3075 - val_loss: 1042.7047\n",
      "Epoch 147/500\n",
      "22/22 [==============================] - 0s 4ms/step - loss: 176.1190 - val_loss: 1047.0812\n",
      "Epoch 148/500\n",
      "22/22 [==============================] - 0s 5ms/step - loss: 172.0815 - val_loss: 1051.4845\n",
      "Epoch 149/500\n",
      "22/22 [==============================] - 0s 4ms/step - loss: 168.1913 - val_loss: 1055.9114\n",
      "Epoch 150/500\n",
      "22/22 [==============================] - 0s 3ms/step - loss: 164.4444 - val_loss: 1060.3579\n",
      "Epoch 151/500\n",
      "22/22 [==============================] - 0s 3ms/step - loss: 160.8373 - val_loss: 1064.8209\n",
      "Epoch 152/500\n",
      "22/22 [==============================] - 0s 4ms/step - loss: 157.3660 - val_loss: 1069.2966\n",
      "Epoch 153/500\n",
      "22/22 [==============================] - 0s 4ms/step - loss: 154.0268 - val_loss: 1073.7819\n",
      "Epoch 154/500\n",
      "22/22 [==============================] - 0s 5ms/step - loss: 150.8163 - val_loss: 1078.2731\n",
      "Epoch 155/500\n",
      "22/22 [==============================] - 0s 5ms/step - loss: 147.7310 - val_loss: 1082.7676\n",
      "Epoch 156/500\n",
      "22/22 [==============================] - 0s 5ms/step - loss: 144.7672 - val_loss: 1087.2615\n",
      "Epoch 157/500\n",
      "22/22 [==============================] - 0s 4ms/step - loss: 141.9213 - val_loss: 1091.7520\n",
      "Epoch 158/500\n",
      "22/22 [==============================] - 0s 3ms/step - loss: 139.1901 - val_loss: 1096.2360\n",
      "Epoch 159/500\n",
      "22/22 [==============================] - 0s 4ms/step - loss: 136.5699 - val_loss: 1100.7106\n",
      "Epoch 160/500\n",
      "22/22 [==============================] - 0s 4ms/step - loss: 134.0577 - val_loss: 1105.1725\n",
      "Epoch 161/500\n",
      "22/22 [==============================] - 0s 4ms/step - loss: 131.6501 - val_loss: 1109.6199\n",
      "Epoch 162/500\n",
      "22/22 [==============================] - 0s 4ms/step - loss: 129.3438 - val_loss: 1114.0486\n",
      "Epoch 163/500\n",
      "22/22 [==============================] - 0s 4ms/step - loss: 127.1357 - val_loss: 1118.4567\n",
      "Epoch 164/500\n",
      "22/22 [==============================] - 0s 3ms/step - loss: 125.0227 - val_loss: 1122.8418\n",
      "Epoch 165/500\n",
      "22/22 [==============================] - 0s 3ms/step - loss: 123.0016 - val_loss: 1127.2007\n",
      "Epoch 166/500\n",
      "22/22 [==============================] - 0s 3ms/step - loss: 121.0695 - val_loss: 1131.5316\n",
      "Epoch 167/500\n",
      "22/22 [==============================] - 0s 5ms/step - loss: 119.2235 - val_loss: 1135.8313\n",
      "Epoch 168/500\n",
      "22/22 [==============================] - 0s 5ms/step - loss: 117.4605 - val_loss: 1140.0989\n",
      "Epoch 169/500\n",
      "22/22 [==============================] - 0s 5ms/step - loss: 115.7777 - val_loss: 1144.3306\n",
      "Epoch 170/500\n",
      "22/22 [==============================] - 0s 6ms/step - loss: 114.1724 - val_loss: 1148.5251\n",
      "Epoch 171/500\n",
      "22/22 [==============================] - 0s 5ms/step - loss: 112.6418 - val_loss: 1152.6802\n",
      "Epoch 172/500\n",
      "22/22 [==============================] - 0s 3ms/step - loss: 111.1833 - val_loss: 1156.7943\n",
      "Epoch 173/500\n",
      "22/22 [==============================] - 0s 4ms/step - loss: 109.7942 - val_loss: 1160.8649\n",
      "Epoch 174/500\n",
      "22/22 [==============================] - 0s 4ms/step - loss: 108.4719 - val_loss: 1164.8905\n",
      "Epoch 175/500\n",
      "22/22 [==============================] - 0s 4ms/step - loss: 107.2140 - val_loss: 1168.8695\n",
      "Epoch 176/500\n",
      "22/22 [==============================] - 0s 4ms/step - loss: 106.0179 - val_loss: 1172.8002\n",
      "Epoch 177/500\n",
      "22/22 [==============================] - 0s 4ms/step - loss: 104.8814 - val_loss: 1176.6809\n",
      "Epoch 178/500\n",
      "22/22 [==============================] - 0s 3ms/step - loss: 103.8019 - val_loss: 1180.5100\n",
      "Epoch 179/500\n",
      "22/22 [==============================] - 0s 5ms/step - loss: 102.7774 - val_loss: 1184.2870\n",
      "Epoch 180/500\n",
      "22/22 [==============================] - 0s 9ms/step - loss: 101.8055 - val_loss: 1188.0098\n",
      "Epoch 181/500\n",
      "22/22 [==============================] - 0s 4ms/step - loss: 100.8841 - val_loss: 1191.6772\n",
      "Epoch 182/500\n",
      "22/22 [==============================] - 0s 3ms/step - loss: 100.0112 - val_loss: 1195.2882\n",
      "Epoch 183/500\n",
      "22/22 [==============================] - 0s 4ms/step - loss: 99.1847 - val_loss: 1198.8416\n",
      "Epoch 184/500\n",
      "22/22 [==============================] - 0s 4ms/step - loss: 98.4025 - val_loss: 1202.3365\n",
      "Epoch 185/500\n",
      "22/22 [==============================] - 0s 4ms/step - loss: 97.6628 - val_loss: 1205.7733\n",
      "Epoch 186/500\n",
      "22/22 [==============================] - 0s 4ms/step - loss: 96.9635 - val_loss: 1209.1494\n",
      "Epoch 187/500\n",
      "22/22 [==============================] - 0s 4ms/step - loss: 96.3031 - val_loss: 1212.4648\n",
      "Epoch 188/500\n",
      "22/22 [==============================] - 0s 3ms/step - loss: 95.6798 - val_loss: 1215.7186\n",
      "Epoch 189/500\n",
      "22/22 [==============================] - 0s 4ms/step - loss: 95.0918 - val_loss: 1218.9106\n",
      "Epoch 190/500\n",
      "22/22 [==============================] - 0s 3ms/step - loss: 94.5374 - val_loss: 1222.0400\n",
      "Epoch 191/500\n",
      "22/22 [==============================] - 0s 3ms/step - loss: 94.0151 - val_loss: 1225.1069\n",
      "Epoch 192/500\n",
      "22/22 [==============================] - 0s 4ms/step - loss: 93.5234 - val_loss: 1228.1107\n",
      "Epoch 193/500\n",
      "22/22 [==============================] - 0s 4ms/step - loss: 93.0606 - val_loss: 1231.0505\n",
      "Epoch 194/500\n",
      "22/22 [==============================] - 0s 4ms/step - loss: 92.6256 - val_loss: 1233.9274\n",
      "Epoch 195/500\n",
      "22/22 [==============================] - 0s 3ms/step - loss: 92.2168 - val_loss: 1236.7402\n",
      "Epoch 196/500\n",
      "22/22 [==============================] - 0s 3ms/step - loss: 91.8328 - val_loss: 1239.4889\n",
      "Epoch 197/500\n",
      "22/22 [==============================] - 0s 3ms/step - loss: 91.4726 - val_loss: 1242.1740\n",
      "Epoch 198/500\n",
      "22/22 [==============================] - 0s 4ms/step - loss: 91.1347 - val_loss: 1244.7955\n",
      "Epoch 199/500\n",
      "22/22 [==============================] - 0s 3ms/step - loss: 90.8181 - val_loss: 1247.3535\n",
      "Epoch 200/500\n",
      "22/22 [==============================] - 0s 4ms/step - loss: 90.5216 - val_loss: 1249.8485\n",
      "Epoch 201/500\n",
      "22/22 [==============================] - 0s 3ms/step - loss: 90.2440 - val_loss: 1252.2800\n",
      "Epoch 202/500\n",
      "22/22 [==============================] - 0s 4ms/step - loss: 89.9844 - val_loss: 1254.6500\n",
      "Epoch 203/500\n",
      "22/22 [==============================] - 0s 4ms/step - loss: 89.7418 - val_loss: 1256.9572\n",
      "Epoch 204/500\n",
      "22/22 [==============================] - 0s 6ms/step - loss: 89.5151 - val_loss: 1259.2018\n",
      "Epoch 205/500\n",
      "22/22 [==============================] - 0s 5ms/step - loss: 89.3036 - val_loss: 1261.3856\n",
      "Epoch 206/500\n",
      "22/22 [==============================] - 0s 5ms/step - loss: 89.1063 - val_loss: 1263.5093\n",
      "Epoch 207/500\n",
      "22/22 [==============================] - 0s 4ms/step - loss: 88.9223 - val_loss: 1265.5721\n",
      "Epoch 208/500\n",
      "22/22 [==============================] - 0s 4ms/step - loss: 88.7509 - val_loss: 1267.5752\n",
      "Epoch 209/500\n",
      "22/22 [==============================] - 0s 3ms/step - loss: 88.5914 - val_loss: 1269.5198\n",
      "Epoch 210/500\n",
      "22/22 [==============================] - 0s 9ms/step - loss: 88.4430 - val_loss: 1271.4054\n",
      "Epoch 211/500\n",
      "22/22 [==============================] - 0s 4ms/step - loss: 88.3052 - val_loss: 1273.2345\n",
      "Epoch 212/500\n",
      "22/22 [==============================] - 0s 4ms/step - loss: 88.1770 - val_loss: 1275.0070\n",
      "Epoch 213/500\n",
      "22/22 [==============================] - 0s 5ms/step - loss: 88.0580 - val_loss: 1276.7235\n",
      "Epoch 214/500\n",
      "22/22 [==============================] - 0s 5ms/step - loss: 87.9476 - val_loss: 1278.3855\n",
      "Epoch 215/500\n",
      "22/22 [==============================] - 0s 4ms/step - loss: 87.8452 - val_loss: 1279.9924\n",
      "Epoch 216/500\n",
      "22/22 [==============================] - 0s 4ms/step - loss: 87.7504 - val_loss: 1281.5471\n",
      "Epoch 217/500\n",
      "22/22 [==============================] - 0s 3ms/step - loss: 87.6626 - val_loss: 1283.0493\n",
      "Epoch 218/500\n",
      "22/22 [==============================] - 0s 3ms/step - loss: 87.5813 - val_loss: 1284.5001\n",
      "Epoch 219/500\n",
      "22/22 [==============================] - 0s 3ms/step - loss: 87.5062 - val_loss: 1285.9012\n",
      "Epoch 220/500\n",
      "22/22 [==============================] - 0s 3ms/step - loss: 87.4367 - val_loss: 1287.2535\n",
      "Epoch 221/500\n",
      "22/22 [==============================] - 0s 4ms/step - loss: 87.3725 - val_loss: 1288.5571\n",
      "Epoch 222/500\n",
      "22/22 [==============================] - 0s 4ms/step - loss: 87.3132 - val_loss: 1289.8140\n",
      "Epoch 223/500\n",
      "22/22 [==============================] - 0s 5ms/step - loss: 87.2585 - val_loss: 1291.0243\n",
      "Epoch 224/500\n",
      "22/22 [==============================] - 0s 3ms/step - loss: 87.2082 - val_loss: 1292.1893\n",
      "Epoch 225/500\n",
      "22/22 [==============================] - 0s 3ms/step - loss: 87.1618 - val_loss: 1293.3103\n",
      "Epoch 226/500\n",
      "22/22 [==============================] - 0s 4ms/step - loss: 87.1191 - val_loss: 1294.3889\n",
      "Epoch 227/500\n",
      "22/22 [==============================] - 0s 4ms/step - loss: 87.0797 - val_loss: 1295.4257\n",
      "Epoch 228/500\n",
      "22/22 [==============================] - 0s 4ms/step - loss: 87.0434 - val_loss: 1296.4216\n",
      "Epoch 229/500\n",
      "22/22 [==============================] - 0s 4ms/step - loss: 87.0102 - val_loss: 1297.3772\n",
      "Epoch 230/500\n",
      "22/22 [==============================] - 0s 3ms/step - loss: 86.9796 - val_loss: 1298.2950\n",
      "Epoch 231/500\n",
      "22/22 [==============================] - 0s 4ms/step - loss: 86.9515 - val_loss: 1299.1749\n",
      "Epoch 232/500\n",
      "22/22 [==============================] - 0s 5ms/step - loss: 86.9258 - val_loss: 1300.0184\n",
      "Epoch 233/500\n",
      "22/22 [==============================] - 0s 4ms/step - loss: 86.9021 - val_loss: 1300.8263\n",
      "Epoch 234/500\n",
      "22/22 [==============================] - 0s 5ms/step - loss: 86.8804 - val_loss: 1301.6002\n",
      "Epoch 235/500\n",
      "22/22 [==============================] - 0s 4ms/step - loss: 86.8605 - val_loss: 1302.3409\n",
      "Epoch 236/500\n",
      "22/22 [==============================] - 0s 5ms/step - loss: 86.8423 - val_loss: 1303.0497\n",
      "Epoch 237/500\n",
      "22/22 [==============================] - 0s 4ms/step - loss: 86.8256 - val_loss: 1303.7266\n",
      "Epoch 238/500\n",
      "22/22 [==============================] - 0s 6ms/step - loss: 86.8104 - val_loss: 1304.3739\n",
      "Epoch 239/500\n",
      "22/22 [==============================] - 0s 9ms/step - loss: 86.7964 - val_loss: 1304.9912\n",
      "Epoch 240/500\n",
      "22/22 [==============================] - 0s 5ms/step - loss: 86.7836 - val_loss: 1305.5803\n",
      "Epoch 241/500\n",
      "22/22 [==============================] - 0s 4ms/step - loss: 86.7720 - val_loss: 1306.1425\n",
      "Epoch 242/500\n",
      "22/22 [==============================] - 0s 5ms/step - loss: 86.7613 - val_loss: 1306.6785\n",
      "Epoch 243/500\n",
      "22/22 [==============================] - 0s 4ms/step - loss: 86.7516 - val_loss: 1307.1887\n",
      "Epoch 244/500\n",
      "22/22 [==============================] - 0s 7ms/step - loss: 86.7428 - val_loss: 1307.6750\n",
      "Epoch 245/500\n",
      "22/22 [==============================] - 0s 5ms/step - loss: 86.7347 - val_loss: 1308.1381\n",
      "Epoch 246/500\n",
      "22/22 [==============================] - 0s 4ms/step - loss: 86.7273 - val_loss: 1308.5782\n",
      "Epoch 247/500\n",
      "22/22 [==============================] - 0s 4ms/step - loss: 86.7205 - val_loss: 1308.9966\n",
      "Epoch 248/500\n",
      "22/22 [==============================] - 0s 4ms/step - loss: 86.7144 - val_loss: 1309.3931\n",
      "Epoch 249/500\n",
      "22/22 [==============================] - 0s 4ms/step - loss: 86.7088 - val_loss: 1309.7704\n",
      "Epoch 250/500\n",
      "22/22 [==============================] - 0s 4ms/step - loss: 86.7038 - val_loss: 1310.1282\n",
      "Epoch 251/500\n",
      "22/22 [==============================] - 0s 4ms/step - loss: 86.6992 - val_loss: 1310.4683\n",
      "Epoch 252/500\n",
      "22/22 [==============================] - 0s 4ms/step - loss: 86.6950 - val_loss: 1310.7902\n",
      "Epoch 253/500\n",
      "22/22 [==============================] - 0s 4ms/step - loss: 86.6913 - val_loss: 1311.0956\n",
      "Epoch 254/500\n",
      "22/22 [==============================] - 0s 4ms/step - loss: 86.6878 - val_loss: 1311.3845\n",
      "Epoch 255/500\n",
      "22/22 [==============================] - 0s 4ms/step - loss: 86.6847 - val_loss: 1311.6581\n",
      "Epoch 256/500\n",
      "22/22 [==============================] - 0s 4ms/step - loss: 86.6819 - val_loss: 1311.9163\n",
      "Epoch 257/500\n",
      "22/22 [==============================] - 0s 5ms/step - loss: 86.6794 - val_loss: 1312.1605\n",
      "Epoch 258/500\n",
      "22/22 [==============================] - 0s 4ms/step - loss: 86.6770 - val_loss: 1312.3911\n",
      "Epoch 259/500\n",
      "22/22 [==============================] - 0s 5ms/step - loss: 86.6750 - val_loss: 1312.6085\n",
      "Epoch 260/500\n",
      "22/22 [==============================] - 0s 4ms/step - loss: 86.6732 - val_loss: 1312.8143\n",
      "Epoch 261/500\n",
      "22/22 [==============================] - 0s 3ms/step - loss: 86.6716 - val_loss: 1313.0081\n",
      "Epoch 262/500\n",
      "22/22 [==============================] - 0s 4ms/step - loss: 86.6701 - val_loss: 1313.1903\n",
      "Epoch 263/500\n",
      "22/22 [==============================] - 0s 4ms/step - loss: 86.6688 - val_loss: 1313.3625\n",
      "Epoch 264/500\n",
      "22/22 [==============================] - 0s 4ms/step - loss: 86.6676 - val_loss: 1313.5244\n",
      "Epoch 265/500\n",
      "22/22 [==============================] - 0s 4ms/step - loss: 86.6666 - val_loss: 1313.6770\n",
      "Epoch 266/500\n",
      "22/22 [==============================] - 0s 10ms/step - loss: 86.6657 - val_loss: 1313.8201\n",
      "Epoch 267/500\n",
      "22/22 [==============================] - 0s 5ms/step - loss: 86.6649 - val_loss: 1313.9543\n",
      "Epoch 268/500\n",
      "22/22 [==============================] - 0s 4ms/step - loss: 86.6643 - val_loss: 1314.0809\n",
      "Epoch 269/500\n",
      "22/22 [==============================] - 0s 4ms/step - loss: 86.6637 - val_loss: 1314.1996\n",
      "Epoch 270/500\n",
      "22/22 [==============================] - 0s 4ms/step - loss: 86.6632 - val_loss: 1314.3114\n",
      "Epoch 271/500\n",
      "22/22 [==============================] - 0s 4ms/step - loss: 86.6628 - val_loss: 1314.4156\n",
      "Epoch 272/500\n",
      "22/22 [==============================] - 0s 4ms/step - loss: 86.6625 - val_loss: 1314.5127\n",
      "Epoch 273/500\n",
      "22/22 [==============================] - 0s 5ms/step - loss: 86.6622 - val_loss: 1314.6034\n",
      "Epoch 274/500\n",
      "22/22 [==============================] - 0s 5ms/step - loss: 86.6620 - val_loss: 1314.6895\n",
      "Epoch 275/500\n",
      "22/22 [==============================] - 0s 4ms/step - loss: 86.6619 - val_loss: 1314.7694\n",
      "Epoch 276/500\n",
      "22/22 [==============================] - 0s 4ms/step - loss: 86.6618 - val_loss: 1314.8439\n",
      "Epoch 277/500\n",
      "22/22 [==============================] - 0s 4ms/step - loss: 86.6618 - val_loss: 1314.9142\n",
      "Epoch 278/500\n",
      "22/22 [==============================] - 0s 4ms/step - loss: 86.6618 - val_loss: 1314.9792\n",
      "Epoch 279/500\n",
      "22/22 [==============================] - 0s 3ms/step - loss: 86.6618 - val_loss: 1315.0398\n",
      "Epoch 280/500\n",
      "22/22 [==============================] - 0s 4ms/step - loss: 86.6620 - val_loss: 1315.0968\n",
      "Epoch 281/500\n",
      "22/22 [==============================] - 0s 3ms/step - loss: 86.6621 - val_loss: 1315.1489\n",
      "Epoch 282/500\n",
      "22/22 [==============================] - 0s 4ms/step - loss: 86.6623 - val_loss: 1315.1980\n",
      "Epoch 283/500\n",
      "22/22 [==============================] - 0s 4ms/step - loss: 86.6625 - val_loss: 1315.2441\n",
      "Epoch 284/500\n",
      "22/22 [==============================] - 0s 4ms/step - loss: 86.6627 - val_loss: 1315.2858\n",
      "Epoch 285/500\n",
      "22/22 [==============================] - 0s 4ms/step - loss: 86.6630 - val_loss: 1315.3252\n",
      "Epoch 286/500\n",
      "22/22 [==============================] - 0s 4ms/step - loss: 86.6632 - val_loss: 1315.3613\n",
      "Epoch 287/500\n",
      "22/22 [==============================] - 0s 4ms/step - loss: 86.6635 - val_loss: 1315.3950\n",
      "Epoch 288/500\n",
      "22/22 [==============================] - 0s 4ms/step - loss: 86.6639 - val_loss: 1315.4270\n",
      "Epoch 289/500\n",
      "22/22 [==============================] - 0s 4ms/step - loss: 86.6642 - val_loss: 1315.4556\n",
      "Epoch 290/500\n",
      "22/22 [==============================] - 0s 4ms/step - loss: 86.6645 - val_loss: 1315.4824\n",
      "Epoch 291/500\n",
      "22/22 [==============================] - 0s 4ms/step - loss: 86.6649 - val_loss: 1315.5070\n",
      "Epoch 292/500\n",
      "22/22 [==============================] - 0s 4ms/step - loss: 86.6653 - val_loss: 1315.5297\n",
      "Epoch 293/500\n",
      "22/22 [==============================] - 0s 4ms/step - loss: 86.6657 - val_loss: 1315.5510\n",
      "Epoch 294/500\n",
      "22/22 [==============================] - 0s 4ms/step - loss: 86.6661 - val_loss: 1315.5704\n",
      "Epoch 295/500\n",
      "22/22 [==============================] - 0s 7ms/step - loss: 86.6665 - val_loss: 1315.5884\n",
      "Epoch 296/500\n",
      "22/22 [==============================] - 0s 4ms/step - loss: 86.6669 - val_loss: 1315.6045\n",
      "Epoch 297/500\n",
      "22/22 [==============================] - 0s 4ms/step - loss: 86.6673 - val_loss: 1315.6193\n",
      "Epoch 298/500\n",
      "22/22 [==============================] - 0s 4ms/step - loss: 86.6678 - val_loss: 1315.6332\n",
      "Epoch 299/500\n",
      "22/22 [==============================] - 0s 4ms/step - loss: 86.6682 - val_loss: 1315.6455\n",
      "Epoch 300/500\n",
      "22/22 [==============================] - 0s 4ms/step - loss: 86.6687 - val_loss: 1315.6578\n",
      "Epoch 301/500\n",
      "22/22 [==============================] - 0s 4ms/step - loss: 86.6691 - val_loss: 1315.6680\n",
      "Epoch 302/500\n",
      "22/22 [==============================] - 0s 4ms/step - loss: 86.6696 - val_loss: 1315.6780\n",
      "Epoch 303/500\n",
      "22/22 [==============================] - 0s 4ms/step - loss: 86.6700 - val_loss: 1315.6863\n",
      "Epoch 304/500\n",
      "22/22 [==============================] - 0s 3ms/step - loss: 86.6705 - val_loss: 1315.6945\n",
      "Epoch 305/500\n",
      "22/22 [==============================] - 0s 3ms/step - loss: 86.6710 - val_loss: 1315.7010\n",
      "Epoch 306/500\n",
      "22/22 [==============================] - 0s 3ms/step - loss: 86.6714 - val_loss: 1315.7078\n",
      "Epoch 307/500\n",
      "22/22 [==============================] - 0s 3ms/step - loss: 86.6719 - val_loss: 1315.7129\n",
      "Epoch 308/500\n",
      "22/22 [==============================] - 0s 3ms/step - loss: 86.6724 - val_loss: 1315.7179\n",
      "Epoch 309/500\n",
      "22/22 [==============================] - 0s 3ms/step - loss: 86.6728 - val_loss: 1315.7225\n",
      "Epoch 310/500\n",
      "22/22 [==============================] - 0s 4ms/step - loss: 86.6733 - val_loss: 1315.7263\n",
      "Epoch 311/500\n",
      "22/22 [==============================] - 0s 4ms/step - loss: 86.6738 - val_loss: 1315.7299\n",
      "Epoch 312/500\n",
      "22/22 [==============================] - 0s 4ms/step - loss: 86.6743 - val_loss: 1315.7334\n",
      "Epoch 313/500\n",
      "22/22 [==============================] - 0s 4ms/step - loss: 86.6747 - val_loss: 1315.7363\n",
      "Epoch 314/500\n",
      "22/22 [==============================] - 0s 4ms/step - loss: 86.6752 - val_loss: 1315.7391\n",
      "Epoch 315/500\n",
      "22/22 [==============================] - 0s 4ms/step - loss: 86.6757 - val_loss: 1315.7415\n",
      "Epoch 316/500\n",
      "22/22 [==============================] - 0s 4ms/step - loss: 86.6761 - val_loss: 1315.7430\n",
      "Epoch 317/500\n",
      "22/22 [==============================] - 0s 4ms/step - loss: 86.6765 - val_loss: 1315.7449\n",
      "Epoch 318/500\n",
      "22/22 [==============================] - 0s 4ms/step - loss: 86.6769 - val_loss: 1315.7462\n",
      "Epoch 319/500\n",
      "22/22 [==============================] - 0s 4ms/step - loss: 86.6774 - val_loss: 1315.7472\n",
      "Epoch 320/500\n",
      "22/22 [==============================] - 0s 4ms/step - loss: 86.6779 - val_loss: 1315.7477\n",
      "Epoch 321/500\n",
      "22/22 [==============================] - 0s 9ms/step - loss: 86.6783 - val_loss: 1315.7480\n",
      "Epoch 322/500\n",
      "22/22 [==============================] - 0s 5ms/step - loss: 86.6788 - val_loss: 1315.7483\n",
      "Epoch 323/500\n",
      "22/22 [==============================] - 0s 4ms/step - loss: 86.6792 - val_loss: 1315.7493\n",
      "Epoch 324/500\n",
      "22/22 [==============================] - 0s 4ms/step - loss: 86.6796 - val_loss: 1315.7491\n",
      "Epoch 325/500\n",
      "22/22 [==============================] - 0s 4ms/step - loss: 86.6801 - val_loss: 1315.7489\n",
      "Epoch 326/500\n",
      "22/22 [==============================] - 0s 4ms/step - loss: 86.6805 - val_loss: 1315.7495\n",
      "Epoch 327/500\n",
      "22/22 [==============================] - 0s 3ms/step - loss: 86.6809 - val_loss: 1315.7488\n",
      "Epoch 328/500\n",
      "22/22 [==============================] - 0s 3ms/step - loss: 86.6813 - val_loss: 1315.7480\n",
      "Epoch 329/500\n",
      "22/22 [==============================] - 0s 3ms/step - loss: 86.6817 - val_loss: 1315.7476\n",
      "Epoch 330/500\n",
      "22/22 [==============================] - 0s 3ms/step - loss: 86.6821 - val_loss: 1315.7471\n",
      "Epoch 331/500\n",
      "22/22 [==============================] - 0s 4ms/step - loss: 86.6825 - val_loss: 1315.7462\n",
      "Epoch 332/500\n",
      "22/22 [==============================] - 0s 4ms/step - loss: 86.6829 - val_loss: 1315.7455\n",
      "Epoch 333/500\n",
      "22/22 [==============================] - 0s 4ms/step - loss: 86.6833 - val_loss: 1315.7455\n",
      "Epoch 334/500\n",
      "22/22 [==============================] - 0s 6ms/step - loss: 86.6837 - val_loss: 1315.7451\n",
      "Epoch 335/500\n",
      "22/22 [==============================] - 0s 5ms/step - loss: 86.6841 - val_loss: 1315.7445\n",
      "Epoch 336/500\n",
      "22/22 [==============================] - 0s 4ms/step - loss: 86.6845 - val_loss: 1315.7439\n",
      "Epoch 337/500\n",
      "22/22 [==============================] - 0s 4ms/step - loss: 86.6848 - val_loss: 1315.7428\n",
      "Epoch 338/500\n",
      "22/22 [==============================] - 0s 4ms/step - loss: 86.6852 - val_loss: 1315.7423\n",
      "Epoch 339/500\n",
      "22/22 [==============================] - 0s 4ms/step - loss: 86.6856 - val_loss: 1315.7408\n",
      "Epoch 340/500\n",
      "22/22 [==============================] - 0s 4ms/step - loss: 86.6859 - val_loss: 1315.7399\n",
      "Epoch 341/500\n",
      "22/22 [==============================] - 0s 4ms/step - loss: 86.6862 - val_loss: 1315.7390\n",
      "Epoch 342/500\n",
      "22/22 [==============================] - 0s 4ms/step - loss: 86.6866 - val_loss: 1315.7380\n",
      "Epoch 343/500\n",
      "22/22 [==============================] - 0s 4ms/step - loss: 86.6869 - val_loss: 1315.7372\n",
      "Epoch 344/500\n",
      "22/22 [==============================] - 0s 5ms/step - loss: 86.6872 - val_loss: 1315.7354\n",
      "Epoch 345/500\n",
      "22/22 [==============================] - 0s 5ms/step - loss: 86.6876 - val_loss: 1315.7335\n",
      "Epoch 346/500\n",
      "22/22 [==============================] - 0s 6ms/step - loss: 86.6880 - val_loss: 1315.7332\n",
      "Epoch 347/500\n",
      "22/22 [==============================] - 0s 5ms/step - loss: 86.6882 - val_loss: 1315.7319\n",
      "Epoch 348/500\n",
      "22/22 [==============================] - 0s 11ms/step - loss: 86.6886 - val_loss: 1315.7302\n",
      "Epoch 349/500\n",
      "22/22 [==============================] - 0s 5ms/step - loss: 86.6889 - val_loss: 1315.7285\n",
      "Epoch 350/500\n",
      "22/22 [==============================] - 0s 5ms/step - loss: 86.6892 - val_loss: 1315.7283\n",
      "Epoch 351/500\n",
      "22/22 [==============================] - 0s 5ms/step - loss: 86.6895 - val_loss: 1315.7273\n",
      "Epoch 352/500\n",
      "22/22 [==============================] - 0s 5ms/step - loss: 86.6899 - val_loss: 1315.7268\n",
      "Epoch 353/500\n",
      "22/22 [==============================] - 0s 5ms/step - loss: 86.6901 - val_loss: 1315.7260\n",
      "Epoch 354/500\n",
      "22/22 [==============================] - 0s 5ms/step - loss: 86.6904 - val_loss: 1315.7245\n",
      "Epoch 355/500\n",
      "22/22 [==============================] - 0s 4ms/step - loss: 86.6907 - val_loss: 1315.7239\n",
      "Epoch 356/500\n",
      "22/22 [==============================] - 0s 5ms/step - loss: 86.6910 - val_loss: 1315.7229\n",
      "Epoch 357/500\n",
      "22/22 [==============================] - 0s 4ms/step - loss: 86.6912 - val_loss: 1315.7216\n",
      "Epoch 358/500\n",
      "22/22 [==============================] - 0s 5ms/step - loss: 86.6915 - val_loss: 1315.7206\n",
      "Epoch 359/500\n",
      "22/22 [==============================] - 0s 5ms/step - loss: 86.6918 - val_loss: 1315.7198\n",
      "Epoch 360/500\n",
      "22/22 [==============================] - 0s 6ms/step - loss: 86.6920 - val_loss: 1315.7181\n",
      "Epoch 361/500\n",
      "22/22 [==============================] - 0s 4ms/step - loss: 86.6923 - val_loss: 1315.7173\n",
      "Epoch 362/500\n",
      "22/22 [==============================] - 0s 5ms/step - loss: 86.6925 - val_loss: 1315.7159\n",
      "Epoch 363/500\n",
      "22/22 [==============================] - 0s 4ms/step - loss: 86.6928 - val_loss: 1315.7152\n",
      "Epoch 364/500\n",
      "22/22 [==============================] - 0s 4ms/step - loss: 86.6931 - val_loss: 1315.7142\n",
      "Epoch 365/500\n",
      "22/22 [==============================] - 0s 5ms/step - loss: 86.6933 - val_loss: 1315.7129\n",
      "Epoch 366/500\n",
      "22/22 [==============================] - 0s 5ms/step - loss: 86.6935 - val_loss: 1315.7115\n",
      "Epoch 367/500\n",
      "22/22 [==============================] - 0s 5ms/step - loss: 86.6937 - val_loss: 1315.7103\n",
      "Epoch 368/500\n",
      "22/22 [==============================] - 0s 4ms/step - loss: 86.6940 - val_loss: 1315.7100\n",
      "Epoch 369/500\n",
      "22/22 [==============================] - 0s 5ms/step - loss: 86.6942 - val_loss: 1315.7092\n",
      "Epoch 370/500\n",
      "22/22 [==============================] - 0s 10ms/step - loss: 86.6945 - val_loss: 1315.7083\n",
      "Epoch 371/500\n",
      "22/22 [==============================] - 0s 7ms/step - loss: 86.6947 - val_loss: 1315.7076\n",
      "Epoch 372/500\n",
      "22/22 [==============================] - 0s 5ms/step - loss: 86.6949 - val_loss: 1315.7073\n",
      "Epoch 373/500\n",
      "22/22 [==============================] - 0s 5ms/step - loss: 86.6951 - val_loss: 1315.7061\n",
      "Epoch 374/500\n",
      "22/22 [==============================] - 0s 5ms/step - loss: 86.6953 - val_loss: 1315.7052\n",
      "Epoch 375/500\n",
      "22/22 [==============================] - 0s 5ms/step - loss: 86.6955 - val_loss: 1315.7040\n",
      "Epoch 376/500\n",
      "22/22 [==============================] - 0s 5ms/step - loss: 86.6957 - val_loss: 1315.7036\n",
      "Epoch 377/500\n",
      "22/22 [==============================] - 0s 4ms/step - loss: 86.6959 - val_loss: 1315.7031\n",
      "Epoch 378/500\n",
      "22/22 [==============================] - 0s 5ms/step - loss: 86.6961 - val_loss: 1315.7014\n",
      "Epoch 379/500\n",
      "22/22 [==============================] - 0s 5ms/step - loss: 86.6963 - val_loss: 1315.7013\n",
      "Epoch 380/500\n",
      "22/22 [==============================] - 0s 5ms/step - loss: 86.6965 - val_loss: 1315.7004\n",
      "Epoch 381/500\n",
      "22/22 [==============================] - 0s 5ms/step - loss: 86.6966 - val_loss: 1315.6995\n",
      "Epoch 382/500\n",
      "22/22 [==============================] - 0s 4ms/step - loss: 86.6968 - val_loss: 1315.6981\n",
      "Epoch 383/500\n",
      "22/22 [==============================] - 0s 4ms/step - loss: 86.6970 - val_loss: 1315.6975\n",
      "Epoch 384/500\n",
      "22/22 [==============================] - 0s 3ms/step - loss: 86.6972 - val_loss: 1315.6973\n",
      "Epoch 385/500\n",
      "22/22 [==============================] - 0s 4ms/step - loss: 86.6973 - val_loss: 1315.6967\n",
      "Epoch 386/500\n",
      "22/22 [==============================] - 0s 5ms/step - loss: 86.6975 - val_loss: 1315.6959\n",
      "Epoch 387/500\n",
      "22/22 [==============================] - 0s 4ms/step - loss: 86.6976 - val_loss: 1315.6948\n",
      "Epoch 388/500\n",
      "22/22 [==============================] - 0s 4ms/step - loss: 86.6979 - val_loss: 1315.6938\n",
      "Epoch 389/500\n",
      "22/22 [==============================] - 0s 4ms/step - loss: 86.6980 - val_loss: 1315.6935\n",
      "Epoch 390/500\n",
      "22/22 [==============================] - 0s 4ms/step - loss: 86.6982 - val_loss: 1315.6927\n",
      "Epoch 391/500\n",
      "22/22 [==============================] - 0s 4ms/step - loss: 86.6983 - val_loss: 1315.6912\n",
      "Epoch 392/500\n",
      "22/22 [==============================] - 0s 3ms/step - loss: 86.6984 - val_loss: 1315.6907\n",
      "Epoch 393/500\n",
      "22/22 [==============================] - 0s 4ms/step - loss: 86.6986 - val_loss: 1315.6906\n",
      "Epoch 394/500\n",
      "22/22 [==============================] - 0s 4ms/step - loss: 86.6987 - val_loss: 1315.6899\n",
      "Epoch 395/500\n",
      "22/22 [==============================] - 0s 10ms/step - loss: 86.6988 - val_loss: 1315.6895\n",
      "Epoch 396/500\n",
      "22/22 [==============================] - 0s 4ms/step - loss: 86.6990 - val_loss: 1315.6891\n",
      "Epoch 397/500\n",
      "22/22 [==============================] - 0s 4ms/step - loss: 86.6991 - val_loss: 1315.6879\n",
      "Epoch 398/500\n",
      "22/22 [==============================] - 0s 4ms/step - loss: 86.6993 - val_loss: 1315.6874\n",
      "Epoch 399/500\n",
      "22/22 [==============================] - 0s 4ms/step - loss: 86.6994 - val_loss: 1315.6864\n",
      "Epoch 400/500\n",
      "22/22 [==============================] - 0s 4ms/step - loss: 86.6995 - val_loss: 1315.6859\n",
      "Epoch 401/500\n",
      "22/22 [==============================] - 0s 3ms/step - loss: 86.6997 - val_loss: 1315.6851\n",
      "Epoch 402/500\n",
      "22/22 [==============================] - 0s 5ms/step - loss: 86.6998 - val_loss: 1315.6847\n",
      "Epoch 403/500\n",
      "22/22 [==============================] - 0s 4ms/step - loss: 86.6999 - val_loss: 1315.6843\n",
      "Epoch 404/500\n",
      "22/22 [==============================] - 0s 4ms/step - loss: 86.7000 - val_loss: 1315.6840\n",
      "Epoch 405/500\n",
      "22/22 [==============================] - 0s 4ms/step - loss: 86.7002 - val_loss: 1315.6838\n",
      "Epoch 406/500\n",
      "22/22 [==============================] - 0s 4ms/step - loss: 86.7002 - val_loss: 1315.6837\n",
      "Epoch 407/500\n",
      "22/22 [==============================] - 0s 3ms/step - loss: 86.7003 - val_loss: 1315.6832\n",
      "Epoch 408/500\n",
      "22/22 [==============================] - 0s 3ms/step - loss: 86.7004 - val_loss: 1315.6829\n",
      "Epoch 409/500\n",
      "22/22 [==============================] - 0s 4ms/step - loss: 86.7005 - val_loss: 1315.6818\n",
      "Epoch 410/500\n",
      "22/22 [==============================] - 0s 4ms/step - loss: 86.7006 - val_loss: 1315.6814\n",
      "Epoch 411/500\n",
      "22/22 [==============================] - 0s 4ms/step - loss: 86.7007 - val_loss: 1315.6803\n",
      "Epoch 412/500\n",
      "22/22 [==============================] - 0s 4ms/step - loss: 86.7009 - val_loss: 1315.6802\n",
      "Epoch 413/500\n",
      "22/22 [==============================] - 0s 4ms/step - loss: 86.7010 - val_loss: 1315.6798\n",
      "Epoch 414/500\n",
      "22/22 [==============================] - 0s 4ms/step - loss: 86.7010 - val_loss: 1315.6793\n",
      "Epoch 415/500\n",
      "22/22 [==============================] - 0s 4ms/step - loss: 86.7012 - val_loss: 1315.6792\n",
      "Epoch 416/500\n",
      "22/22 [==============================] - 0s 4ms/step - loss: 86.7012 - val_loss: 1315.6783\n",
      "Epoch 417/500\n",
      "22/22 [==============================] - 0s 4ms/step - loss: 86.7013 - val_loss: 1315.6775\n",
      "Epoch 418/500\n",
      "22/22 [==============================] - 0s 4ms/step - loss: 86.7014 - val_loss: 1315.6770\n",
      "Epoch 419/500\n",
      "22/22 [==============================] - 0s 4ms/step - loss: 86.7015 - val_loss: 1315.6766\n",
      "Epoch 420/500\n",
      "22/22 [==============================] - 0s 9ms/step - loss: 86.7016 - val_loss: 1315.6763\n",
      "Epoch 421/500\n",
      "22/22 [==============================] - 0s 4ms/step - loss: 86.7017 - val_loss: 1315.6760\n",
      "Epoch 422/500\n",
      "22/22 [==============================] - 0s 3ms/step - loss: 86.7018 - val_loss: 1315.6760\n",
      "Epoch 423/500\n",
      "22/22 [==============================] - 0s 3ms/step - loss: 86.7018 - val_loss: 1315.6755\n",
      "Epoch 424/500\n",
      "22/22 [==============================] - 0s 4ms/step - loss: 86.7019 - val_loss: 1315.6750\n",
      "Epoch 425/500\n",
      "22/22 [==============================] - 0s 4ms/step - loss: 86.7020 - val_loss: 1315.6744\n",
      "Epoch 426/500\n",
      "22/22 [==============================] - 0s 4ms/step - loss: 86.7021 - val_loss: 1315.6742\n",
      "Epoch 427/500\n",
      "22/22 [==============================] - 0s 4ms/step - loss: 86.7021 - val_loss: 1315.6733\n",
      "Epoch 428/500\n",
      "22/22 [==============================] - 0s 7ms/step - loss: 86.7022 - val_loss: 1315.6737\n",
      "Epoch 429/500\n",
      "22/22 [==============================] - 0s 4ms/step - loss: 86.7022 - val_loss: 1315.6731\n",
      "Epoch 430/500\n",
      "22/22 [==============================] - 0s 4ms/step - loss: 86.7023 - val_loss: 1315.6729\n",
      "Epoch 431/500\n",
      "22/22 [==============================] - 0s 5ms/step - loss: 86.7024 - val_loss: 1315.6726\n",
      "Epoch 432/500\n",
      "22/22 [==============================] - 0s 4ms/step - loss: 86.7025 - val_loss: 1315.6720\n",
      "Epoch 433/500\n",
      "22/22 [==============================] - 0s 4ms/step - loss: 86.7025 - val_loss: 1315.6707\n",
      "Epoch 434/500\n",
      "22/22 [==============================] - 0s 4ms/step - loss: 86.7026 - val_loss: 1315.6703\n",
      "Epoch 435/500\n",
      "22/22 [==============================] - 0s 4ms/step - loss: 86.7027 - val_loss: 1315.6700\n",
      "Epoch 436/500\n",
      "22/22 [==============================] - 0s 5ms/step - loss: 86.7027 - val_loss: 1315.6694\n",
      "Epoch 437/500\n",
      "22/22 [==============================] - 0s 5ms/step - loss: 86.7028 - val_loss: 1315.6693\n",
      "Epoch 438/500\n",
      "22/22 [==============================] - 0s 4ms/step - loss: 86.7029 - val_loss: 1315.6689\n",
      "Epoch 439/500\n",
      "22/22 [==============================] - 0s 4ms/step - loss: 86.7029 - val_loss: 1315.6687\n",
      "Epoch 440/500\n",
      "22/22 [==============================] - 0s 4ms/step - loss: 86.7030 - val_loss: 1315.6686\n",
      "Epoch 441/500\n",
      "22/22 [==============================] - 0s 4ms/step - loss: 86.7030 - val_loss: 1315.6683\n",
      "Epoch 442/500\n",
      "22/22 [==============================] - 0s 4ms/step - loss: 86.7031 - val_loss: 1315.6682\n",
      "Epoch 443/500\n",
      "22/22 [==============================] - 0s 11ms/step - loss: 86.7031 - val_loss: 1315.6681\n",
      "Epoch 444/500\n",
      "22/22 [==============================] - 0s 5ms/step - loss: 86.7032 - val_loss: 1315.6678\n",
      "Epoch 445/500\n",
      "22/22 [==============================] - 0s 5ms/step - loss: 86.7032 - val_loss: 1315.6677\n",
      "Epoch 446/500\n",
      "22/22 [==============================] - 0s 8ms/step - loss: 86.7032 - val_loss: 1315.6676\n",
      "Epoch 447/500\n",
      "22/22 [==============================] - 0s 4ms/step - loss: 86.7033 - val_loss: 1315.6672\n",
      "Epoch 448/500\n",
      "22/22 [==============================] - 0s 5ms/step - loss: 86.7033 - val_loss: 1315.6670\n",
      "Epoch 449/500\n",
      "22/22 [==============================] - 0s 5ms/step - loss: 86.7034 - val_loss: 1315.6660\n",
      "Epoch 450/500\n",
      "22/22 [==============================] - 0s 4ms/step - loss: 86.7035 - val_loss: 1315.6653\n",
      "Epoch 451/500\n",
      "22/22 [==============================] - 0s 4ms/step - loss: 86.7035 - val_loss: 1315.6649\n",
      "Epoch 452/500\n",
      "22/22 [==============================] - 0s 4ms/step - loss: 86.7036 - val_loss: 1315.6648\n",
      "Epoch 453/500\n",
      "22/22 [==============================] - 0s 4ms/step - loss: 86.7036 - val_loss: 1315.6647\n",
      "Epoch 454/500\n",
      "22/22 [==============================] - 0s 4ms/step - loss: 86.7036 - val_loss: 1315.6639\n",
      "Epoch 455/500\n",
      "22/22 [==============================] - 0s 4ms/step - loss: 86.7037 - val_loss: 1315.6641\n",
      "Epoch 456/500\n",
      "22/22 [==============================] - 0s 4ms/step - loss: 86.7037 - val_loss: 1315.6637\n",
      "Epoch 457/500\n",
      "22/22 [==============================] - 0s 6ms/step - loss: 86.7037 - val_loss: 1315.6635\n",
      "Epoch 458/500\n",
      "22/22 [==============================] - 0s 5ms/step - loss: 86.7038 - val_loss: 1315.6631\n",
      "Epoch 459/500\n",
      "22/22 [==============================] - 0s 6ms/step - loss: 86.7038 - val_loss: 1315.6626\n",
      "Epoch 460/500\n",
      "22/22 [==============================] - 0s 4ms/step - loss: 86.7038 - val_loss: 1315.6621\n",
      "Epoch 461/500\n",
      "22/22 [==============================] - 0s 4ms/step - loss: 86.7039 - val_loss: 1315.6614\n",
      "Epoch 462/500\n",
      "22/22 [==============================] - 0s 4ms/step - loss: 86.7039 - val_loss: 1315.6610\n",
      "Epoch 463/500\n",
      "22/22 [==============================] - 0s 5ms/step - loss: 86.7040 - val_loss: 1315.6611\n",
      "Epoch 464/500\n",
      "22/22 [==============================] - 0s 4ms/step - loss: 86.7040 - val_loss: 1315.6610\n",
      "Epoch 465/500\n",
      "22/22 [==============================] - 0s 4ms/step - loss: 86.7040 - val_loss: 1315.6605\n",
      "Epoch 466/500\n",
      "22/22 [==============================] - 0s 4ms/step - loss: 86.7040 - val_loss: 1315.6603\n",
      "Epoch 467/500\n",
      "22/22 [==============================] - 0s 9ms/step - loss: 86.7041 - val_loss: 1315.6599\n",
      "Epoch 468/500\n",
      "22/22 [==============================] - 0s 5ms/step - loss: 86.7041 - val_loss: 1315.6598\n",
      "Epoch 469/500\n",
      "22/22 [==============================] - 0s 5ms/step - loss: 86.7042 - val_loss: 1315.6597\n",
      "Epoch 470/500\n",
      "22/22 [==============================] - 0s 6ms/step - loss: 86.7042 - val_loss: 1315.6594\n",
      "Epoch 471/500\n",
      "22/22 [==============================] - 0s 5ms/step - loss: 86.7042 - val_loss: 1315.6594\n",
      "Epoch 472/500\n",
      "22/22 [==============================] - 0s 5ms/step - loss: 86.7042 - val_loss: 1315.6593\n",
      "Epoch 473/500\n",
      "22/22 [==============================] - 0s 4ms/step - loss: 86.7043 - val_loss: 1315.6593\n",
      "Epoch 474/500\n",
      "22/22 [==============================] - 0s 4ms/step - loss: 86.7044 - val_loss: 1315.6598\n",
      "Epoch 475/500\n",
      "22/22 [==============================] - 0s 4ms/step - loss: 86.7044 - val_loss: 1315.6604\n",
      "Epoch 476/500\n",
      "22/22 [==============================] - 0s 4ms/step - loss: 86.7043 - val_loss: 1315.6593\n",
      "Epoch 477/500\n",
      "22/22 [==============================] - 0s 4ms/step - loss: 86.7044 - val_loss: 1315.6584\n",
      "Epoch 478/500\n",
      "22/22 [==============================] - 0s 4ms/step - loss: 86.7043 - val_loss: 1315.6581\n",
      "Epoch 479/500\n",
      "22/22 [==============================] - 0s 4ms/step - loss: 86.7043 - val_loss: 1315.6578\n",
      "Epoch 480/500\n",
      "22/22 [==============================] - 0s 4ms/step - loss: 86.7044 - val_loss: 1315.6570\n",
      "Epoch 481/500\n",
      "22/22 [==============================] - 0s 3ms/step - loss: 86.7044 - val_loss: 1315.6565\n",
      "Epoch 482/500\n",
      "22/22 [==============================] - 0s 4ms/step - loss: 86.7044 - val_loss: 1315.6566\n",
      "Epoch 483/500\n",
      "22/22 [==============================] - 0s 5ms/step - loss: 86.7045 - val_loss: 1315.6567\n",
      "Epoch 484/500\n",
      "22/22 [==============================] - 0s 4ms/step - loss: 86.7045 - val_loss: 1315.6569\n",
      "Epoch 485/500\n",
      "22/22 [==============================] - 0s 4ms/step - loss: 86.7046 - val_loss: 1315.6571\n",
      "Epoch 486/500\n",
      "22/22 [==============================] - 0s 4ms/step - loss: 86.7046 - val_loss: 1315.6572\n",
      "Epoch 487/500\n",
      "22/22 [==============================] - 0s 9ms/step - loss: 86.7046 - val_loss: 1315.6570\n",
      "Epoch 488/500\n",
      "22/22 [==============================] - 0s 5ms/step - loss: 86.7046 - val_loss: 1315.6567\n",
      "Epoch 489/500\n",
      "22/22 [==============================] - 0s 5ms/step - loss: 86.7046 - val_loss: 1315.6564\n",
      "Epoch 490/500\n",
      "22/22 [==============================] - 0s 4ms/step - loss: 86.7046 - val_loss: 1315.6550\n",
      "Epoch 491/500\n",
      "22/22 [==============================] - 0s 4ms/step - loss: 86.7046 - val_loss: 1315.6550\n",
      "Epoch 492/500\n",
      "22/22 [==============================] - 0s 4ms/step - loss: 86.7047 - val_loss: 1315.6544\n",
      "Epoch 493/500\n",
      "22/22 [==============================] - 0s 4ms/step - loss: 86.7047 - val_loss: 1315.6547\n",
      "Epoch 494/500\n",
      "22/22 [==============================] - 0s 4ms/step - loss: 86.7047 - val_loss: 1315.6544\n",
      "Epoch 495/500\n",
      "22/22 [==============================] - 0s 4ms/step - loss: 86.7048 - val_loss: 1315.6543\n",
      "Epoch 496/500\n",
      "22/22 [==============================] - 0s 4ms/step - loss: 86.7048 - val_loss: 1315.6538\n",
      "Epoch 497/500\n",
      "22/22 [==============================] - 0s 4ms/step - loss: 86.7048 - val_loss: 1315.6532\n",
      "Epoch 498/500\n",
      "22/22 [==============================] - 0s 4ms/step - loss: 86.7048 - val_loss: 1315.6531\n",
      "Epoch 499/500\n",
      "22/22 [==============================] - 0s 4ms/step - loss: 86.7048 - val_loss: 1315.6523\n",
      "Epoch 500/500\n",
      "22/22 [==============================] - 0s 4ms/step - loss: 86.7048 - val_loss: 1315.6523\n"
     ]
    }
   ],
   "source": [
    "C0 = tf.Variable(86.6856, name=\"C0\", trainable=True, dtype=tf.float32)\n",
    "K0 = tf.Variable(-0.0008, name=\"K0\", trainable=True, dtype=tf.float32)\n",
    "K1 = tf.Variable(-0.0002, name=\"K1\", trainable=True, dtype=tf.float32)\n",
    "a = tf.Variable(0.0000, name=\"a\", trainable=True, dtype=tf.float32)\n",
    "b = tf.Variable(0.0128, name=\"b\", trainable=True, dtype=tf.float32)\n",
    "c = tf.Variable(-2.3003, name=\"c\", trainable=True, dtype=tf.float32)\n",
    "\n",
    "splitr = 0.8\n",
    "\n",
    "\n",
    "def loss_fn(y_true, y_pred):\n",
    "    squared_difference = tf.square(y_true[:, 0] - y_pred[:, 0])\n",
    "    #squared_difference2 = tf.square(y_true[:, 2]-y_pred[:, 2])\n",
    "    #squared_difference1 = tf.square(y_true[:, 1]-y_pred[:, 1])\n",
    "    epsilon = 1\n",
    "    squared_difference3 = tf.square(\n",
    "        y_pred[:, 1] - (\n",
    "            y_pred[:, 0] * (\n",
    "                K0 - K1 * (\n",
    "                    9 * a * tf.math.log((y_pred[:, 0] + epsilon) / C0) / (K0 - K1 * c)**2 +\n",
    "                    4 * b * tf.math.log((y_pred[:, 0] + epsilon) / C0) / (K0 - K1 * c) + c\n",
    "                )\n",
    "            )\n",
    "        )\n",
    "    )\n",
    "    return tf.reduce_mean(squared_difference, axis=-1) + 0.2*tf.reduce_mean(squared_difference3, axis=-1)\n",
    "model = Sequential()\n",
    "model.add(LSTM(100, input_shape=(trainX.shape[1], trainX.shape[2])))\n",
    "model.add(Dense(60))\n",
    "model.compile(loss=loss_fn, optimizer='adam')\n",
    "history = model.fit(trainX[:int(splitr*trainX.shape[0])], trainy[:int(splitr*trainX.shape[0])], epochs=500, batch_size=64, validation_data=(trainX[int(splitr*trainX.shape[0]):trainX.shape[0]], trainy[int(splitr*trainX.shape[0]):trainX.shape[0]]), shuffle=False)"
   ]
  },
  {
   "cell_type": "code",
   "execution_count": 19,
   "metadata": {
    "colab": {
     "base_uri": "https://localhost:8080/"
    },
    "id": "yJL101rPyuoT",
    "outputId": "239ff2b1-c186-423a-d316-939dfdd7c793"
   },
   "outputs": [
    {
     "name": "stdout",
     "output_type": "stream",
     "text": [
      "1/1 [==============================] - 0s 327ms/step\n"
     ]
    }
   ],
   "source": [
    "forecast_without_mc = forecastX\n",
    "yhat_without_mc = model.predict(forecast_without_mc) # Step Ahead Prediction\n",
    "forecast_without_mc = forecast_without_mc.reshape((forecast_without_mc.shape[0], forecast_without_mc.shape[2])) # Historical Input"
   ]
  },
  {
   "cell_type": "code",
   "execution_count": 20,
   "metadata": {
    "colab": {
     "base_uri": "https://localhost:8080/"
    },
    "id": "g9dQELcJ8wbp",
    "outputId": "4dc7671b-b1a8-48d5-8744-a86f98446109"
   },
   "outputs": [
    {
     "data": {
      "text/plain": [
       "(1, 1, 251)"
      ]
     },
     "execution_count": 20,
     "metadata": {},
     "output_type": "execute_result"
    }
   ],
   "source": [
    "forecastX.shape"
   ]
  },
  {
   "cell_type": "code",
   "execution_count": 21,
   "metadata": {
    "colab": {
     "base_uri": "https://localhost:8080/"
    },
    "id": "IS2kyIKG1Kbr",
    "outputId": "f31b3485-8e26-452f-9298-ea8bf7e80ad1"
   },
   "outputs": [
    {
     "data": {
      "text/plain": [
       "(1, 251)"
      ]
     },
     "execution_count": 21,
     "metadata": {},
     "output_type": "execute_result"
    }
   ],
   "source": [
    "forecast_without_mc.shape"
   ]
  },
  {
   "cell_type": "code",
   "execution_count": 22,
   "metadata": {
    "id": "0u6VIzaDyuoT"
   },
   "outputs": [],
   "source": [
    "inv_yhat_without_mc = np.concatenate((forecast_without_mc, yhat_without_mc), axis=1) # Concatenation of predicted values with Historical Data\n",
    "#inv_yhat_without_mc = scaler.inverse_transform(inv_yhat_without_mc) # Transform labels back to original encoding"
   ]
  },
  {
   "cell_type": "code",
   "execution_count": 23,
   "metadata": {
    "colab": {
     "base_uri": "https://localhost:8080/"
    },
    "id": "EUEcw0LX07oU",
    "outputId": "cfc32397-9c37-4b43-d087-584bb31c3dcc"
   },
   "outputs": [
    {
     "data": {
      "text/plain": [
       "(1, 311)"
      ]
     },
     "execution_count": 23,
     "metadata": {},
     "output_type": "execute_result"
    }
   ],
   "source": [
    "inv_yhat_without_mc.shape"
   ]
  },
  {
   "cell_type": "code",
   "execution_count": 24,
   "metadata": {
    "id": "31OWVbSh_305"
   },
   "outputs": [],
   "source": [
    "fforecast = inv_yhat_without_mc[:,-300:]"
   ]
  },
  {
   "cell_type": "code",
   "execution_count": 25,
   "metadata": {},
   "outputs": [
    {
     "data": {
      "text/plain": [
       "(1, 300)"
      ]
     },
     "execution_count": 25,
     "metadata": {},
     "output_type": "execute_result"
    }
   ],
   "source": [
    "fforecast.shape"
   ]
  },
  {
   "cell_type": "code",
   "execution_count": 26,
   "metadata": {
    "id": "BlpGH2FOAiRF"
   },
   "outputs": [],
   "source": [
    "final_forecast = fforecast[:,0:300:3]"
   ]
  },
  {
   "cell_type": "code",
   "execution_count": 27,
   "metadata": {},
   "outputs": [
    {
     "data": {
      "text/plain": [
       "(1, 300)"
      ]
     },
     "execution_count": 27,
     "metadata": {},
     "output_type": "execute_result"
    }
   ],
   "source": [
    "fforecast.shape"
   ]
  },
  {
   "cell_type": "code",
   "execution_count": 28,
   "metadata": {
    "id": "CXkgkj_LBk_t"
   },
   "outputs": [],
   "source": [
    "# code to replace all negative value with 0\n",
    "final_forecast[final_forecast<0] = 0"
   ]
  },
  {
   "cell_type": "code",
   "execution_count": 29,
   "metadata": {},
   "outputs": [
    {
     "data": {
      "text/plain": [
       "array([[6.86678805e+01, 6.84998133e+01, 6.83317460e+01, 6.81636788e+01,\n",
       "        6.79956116e+01, 6.78275443e+01, 6.77248203e+01, 0.00000000e+00,\n",
       "        2.26760343e-01, 1.96406811e-01, 0.00000000e+00, 3.19723994e-01,\n",
       "        0.00000000e+00, 6.98626751e+01, 6.98374650e+01, 6.98122549e+01,\n",
       "        6.97136321e+01, 6.95455649e+01, 6.93774977e+01, 6.92094304e+01,\n",
       "        6.90413632e+01, 6.88732960e+01, 6.87052288e+01, 6.85371615e+01,\n",
       "        6.83690943e+01, 6.82010271e+01, 6.80329598e+01, 6.78648926e+01,\n",
       "        6.77448016e+01, 7.06609944e+01, 7.05853642e+01, 7.05097339e+01,\n",
       "        7.04341036e+01, 7.03584734e+01, 7.02828431e+01, 7.02072129e+01,\n",
       "        7.01315826e+01, 7.00559524e+01, 5.23406863e-01, 7.59918988e-01,\n",
       "        4.44159660e-02, 7.15077221e-01, 0.00000000e+00, 0.00000000e+00,\n",
       "        0.00000000e+00, 0.00000000e+00, 0.00000000e+00, 6.82383753e+01,\n",
       "        6.80703081e+01, 6.79022409e+01, 6.77647829e+01, 7.06778011e+01,\n",
       "        7.06031709e+01, 7.05256541e+01, 7.04509104e+01, 7.03752801e+01,\n",
       "        7.02996499e+01, 7.02240196e+01, 7.01483894e+01, 7.00727591e+01,\n",
       "        2.70426870e-01, 3.46078570e-01, 7.04060924e+01, 7.03304622e+01,\n",
       "        7.02548319e+01, 7.01792017e+01, 7.01035714e+01, 7.00279412e+01,\n",
       "        6.99523109e+01, 6.98766807e+01, 6.98010504e+01, 1.14993480e-01,\n",
       "        0.00000000e+00, 5.52103882e+01, 4.52467410e-01, 0.00000000e+00,\n",
       "        0.00000000e+00, 0.00000000e+00, 0.00000000e+00, 2.31345890e-01,\n",
       "        7.04412918e+01, 4.59578156e-01, 0.00000000e+00, 4.21105236e-01,\n",
       "        0.00000000e+00, 1.35093439e+00, 0.00000000e+00, 3.38270009e-01,\n",
       "        4.05110896e-01, 5.16006649e-01, 5.79337291e-02, 1.03447664e+00,\n",
       "        0.00000000e+00, 2.72663683e-01, 4.82198000e-01, 0.00000000e+00,\n",
       "        0.00000000e+00, 0.00000000e+00, 2.79676020e-01, 0.00000000e+00]])"
      ]
     },
     "execution_count": 29,
     "metadata": {},
     "output_type": "execute_result"
    }
   ],
   "source": [
    "final_forecast"
   ]
  },
  {
   "cell_type": "code",
   "execution_count": 30,
   "metadata": {},
   "outputs": [
    {
     "data": {
      "text/plain": [
       "(1, 100)"
      ]
     },
     "execution_count": 30,
     "metadata": {},
     "output_type": "execute_result"
    }
   ],
   "source": [
    "final_forecast.shape"
   ]
  },
  {
   "cell_type": "code",
   "execution_count": 31,
   "metadata": {},
   "outputs": [
    {
     "data": {
      "text/plain": [
       "(100,)"
      ]
     },
     "execution_count": 31,
     "metadata": {},
     "output_type": "execute_result"
    }
   ],
   "source": [
    "test.shape"
   ]
  },
  {
   "cell_type": "code",
   "execution_count": 32,
   "metadata": {},
   "outputs": [],
   "source": [
    "training_set = np.array(training_set)\n",
    "test = np.array(test)\n",
    "final_forecast = np.array(final_forecast.squeeze(0))"
   ]
  },
  {
   "cell_type": "code",
   "execution_count": 33,
   "metadata": {},
   "outputs": [
    {
     "data": {
      "text/plain": [
       "array([58.67698299, 58.66468539, 58.65238778, 58.64009018, 58.62779258,\n",
       "       58.61549498, 58.60319738, 58.59089977, 58.57860217, 58.56630457,\n",
       "       58.55400697, 58.54170937, 58.52941176, 58.51711416, 58.50481656,\n",
       "       58.49251896, 58.48022136, 58.46792375, 58.45562615, 58.44332855,\n",
       "       58.43103095, 58.41873335, 58.40643575, 58.39413814, 58.38184054,\n",
       "       58.36954294, 58.35724534, 58.34494774, 58.33265013, 58.32035253,\n",
       "       58.30805493, 58.29575733, 58.28345973, 58.27116212, 58.25886452,\n",
       "       58.24656692, 58.23426932, 58.22197172, 58.20967411, 58.19737651,\n",
       "       58.18507891, 58.17278131, 58.16048371, 58.1481861 , 58.1358885 ,\n",
       "       58.1235909 , 58.1112933 , 58.0989957 , 58.08669809, 58.07440049,\n",
       "       58.06210289, 58.04980529, 58.03750769, 58.02521008, 58.01291248,\n",
       "       58.00061488, 57.98831728, 57.97601968, 57.96372207, 57.95142447,\n",
       "       57.93912687, 57.92682927, 57.91453167, 57.90223406, 57.88993646,\n",
       "       57.87763886, 57.86534126, 57.85304366, 57.84074605, 57.82844845,\n",
       "       57.81615085, 57.80385325, 57.79155565, 57.77925804, 57.76696044,\n",
       "       57.75466284, 57.74236524, 57.73006764, 57.71777003, 57.70547243,\n",
       "       57.69317483, 57.68087723, 57.66857963, 57.65628203, 57.64398442,\n",
       "       57.63168682, 57.61938922, 57.60709162, 57.59479402, 57.58249641,\n",
       "       57.57019881, 57.55790121, 57.54560361, 57.53330601, 57.5210084 ,\n",
       "       57.5087108 , 57.4964132 , 57.4841156 , 57.471818  , 57.45952039])"
      ]
     },
     "execution_count": 33,
     "metadata": {},
     "output_type": "execute_result"
    }
   ],
   "source": [
    "test"
   ]
  },
  {
   "cell_type": "code",
   "execution_count": 34,
   "metadata": {},
   "outputs": [
    {
     "data": {
      "text/plain": [
       "(100,)"
      ]
     },
     "execution_count": 34,
     "metadata": {},
     "output_type": "execute_result"
    }
   ],
   "source": [
    "test.shape"
   ]
  },
  {
   "cell_type": "code",
   "execution_count": 35,
   "metadata": {},
   "outputs": [
    {
     "data": {
      "text/plain": [
       "(100,)"
      ]
     },
     "execution_count": 35,
     "metadata": {},
     "output_type": "execute_result"
    }
   ],
   "source": [
    "final_forecast.shape"
   ]
  },
  {
   "cell_type": "code",
   "execution_count": 36,
   "metadata": {},
   "outputs": [
    {
     "data": {
      "text/plain": [
       "(100,)"
      ]
     },
     "execution_count": 36,
     "metadata": {},
     "output_type": "execute_result"
    }
   ],
   "source": [
    "test.shape"
   ]
  },
  {
   "cell_type": "code",
   "execution_count": 37,
   "metadata": {},
   "outputs": [
    {
     "name": "stdout",
     "output_type": "stream",
     "text": [
      "39.14936920051042\n",
      "31.56631917882023\n"
     ]
    }
   ],
   "source": [
    "import math\n",
    "MSE = np.square(np.subtract(np.array(test),np.array(final_forecast))).mean()   \n",
    "rsme = math.sqrt(MSE)\n",
    "print(rsme)  \n",
    "MAE = np.abs(np.subtract(np.array(test),np.array(final_forecast))).mean()   \n",
    "mae = MAE\n",
    "print(mae)"
   ]
  }
 ],
 "metadata": {
  "colab": {
   "provenance": []
  },
  "kernelspec": {
   "display_name": "Python 3",
   "language": "python",
   "name": "python3"
  },
  "language_info": {
   "codemirror_mode": {
    "name": "ipython",
    "version": 3
   },
   "file_extension": ".py",
   "mimetype": "text/x-python",
   "name": "python",
   "nbconvert_exporter": "python",
   "pygments_lexer": "ipython3",
   "version": "3.9.13"
  }
 },
 "nbformat": 4,
 "nbformat_minor": 0
}
