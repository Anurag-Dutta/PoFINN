{
 "cells": [
  {
   "cell_type": "markdown",
   "metadata": {
    "id": "pCGKeZ2gyuoQ"
   },
   "source": [
    "_Importing Required Libraries_"
   ]
  },
  {
   "cell_type": "code",
   "execution_count": 1,
   "metadata": {
    "colab": {
     "base_uri": "https://localhost:8080/"
    },
    "id": "A-6LN-zXiLcM",
    "outputId": "4de610a4-f8b8-4f49-c6c0-89de299ccedc"
   },
   "outputs": [
    {
     "name": "stdout",
     "output_type": "stream",
     "text": [
      "Requirement already satisfied: hampel in c:\\users\\anurag dutta\\appdata\\local\\packages\\pythonsoftwarefoundation.python.3.9_qbz5n2kfra8p0\\localcache\\local-packages\\python39\\site-packages (0.0.5)\n",
      "Requirement already satisfied: numpy in c:\\users\\anurag dutta\\appdata\\local\\packages\\pythonsoftwarefoundation.python.3.9_qbz5n2kfra8p0\\localcache\\local-packages\\python39\\site-packages (from hampel) (1.26.4)\n",
      "Requirement already satisfied: pandas in c:\\users\\anurag dutta\\appdata\\local\\packages\\pythonsoftwarefoundation.python.3.9_qbz5n2kfra8p0\\localcache\\local-packages\\python39\\site-packages (from hampel) (1.5.2)\n",
      "Requirement already satisfied: python-dateutil>=2.8.1 in c:\\users\\anurag dutta\\appdata\\local\\packages\\pythonsoftwarefoundation.python.3.9_qbz5n2kfra8p0\\localcache\\local-packages\\python39\\site-packages (from pandas->hampel) (2.8.2)\n",
      "Requirement already satisfied: pytz>=2020.1 in c:\\users\\anurag dutta\\appdata\\local\\packages\\pythonsoftwarefoundation.python.3.9_qbz5n2kfra8p0\\localcache\\local-packages\\python39\\site-packages (from pandas->hampel) (2023.3.post1)\n",
      "Requirement already satisfied: six>=1.5 in c:\\users\\anurag dutta\\appdata\\local\\packages\\pythonsoftwarefoundation.python.3.9_qbz5n2kfra8p0\\localcache\\local-packages\\python39\\site-packages (from python-dateutil>=2.8.1->pandas->hampel) (1.16.0)\n",
      "Note: you may need to restart the kernel to use updated packages.\n"
     ]
    },
    {
     "name": "stderr",
     "output_type": "stream",
     "text": [
      "\n",
      "[notice] A new release of pip is available: 24.2 -> 24.3.1\n",
      "[notice] To update, run: C:\\Users\\Anurag Dutta\\AppData\\Local\\Microsoft\\WindowsApps\\PythonSoftwareFoundation.Python.3.9_qbz5n2kfra8p0\\python.exe -m pip install --upgrade pip\n"
     ]
    }
   ],
   "source": [
    "pip install hampel"
   ]
  },
  {
   "cell_type": "code",
   "execution_count": 2,
   "metadata": {
    "id": "By_d9uXpaFvZ"
   },
   "outputs": [],
   "source": [
    "from keras.models import Sequential\n",
    "from keras.layers import Dense\n",
    "from keras.layers import LSTM\n",
    "from keras.layers import Dropout\n",
    "import keras\n",
    "import tensorflow as tf\n",
    "from hampel import hampel\n",
    "import numpy as np\n",
    "import matplotlib.pyplot as plt\n",
    "import pandas as pd\n",
    "from sklearn.preprocessing import MinMaxScaler\n",
    "from sklearn.metrics import mean_squared_error, mean_absolute_error\n",
    "from math import sqrt\n",
    "from matplotlib import pyplot\n",
    "from numpy import array"
   ]
  },
  {
   "cell_type": "markdown",
   "metadata": {
    "id": "JyOjBMFayuoR"
   },
   "source": [
    "## Pretraining"
   ]
  },
  {
   "cell_type": "markdown",
   "metadata": {
    "id": "-5QqIY_GyuoR"
   },
   "source": [
    "The `capa_intermittency.dat` feeds the model with the dynamics of the Capacitor"
   ]
  },
  {
   "cell_type": "code",
   "execution_count": 3,
   "metadata": {
    "id": "9dV4a8yfyuoR"
   },
   "outputs": [],
   "source": [
    "data = np.genfromtxt('capa_intermittency.dat')\n",
    "training_set = pd.DataFrame(data).reset_index(drop=True)\n",
    "training_set = training_set.iloc[:,0]"
   ]
  },
  {
   "cell_type": "markdown",
   "metadata": {
    "id": "i7easoxByuoR"
   },
   "source": [
    "## Computing the Gradient"
   ]
  },
  {
   "cell_type": "markdown",
   "metadata": {
    "id": "5SnyolJTyuoR"
   },
   "source": [
    "_Calculating the value of_ $\\frac{dx}{dt}$"
   ]
  },
  {
   "cell_type": "code",
   "execution_count": 4,
   "metadata": {
    "colab": {
     "base_uri": "https://localhost:8080/"
    },
    "id": "wmIbVfIvyuoR",
    "outputId": "aa4e3136-c854-465d-d2e9-81cfd546e440"
   },
   "outputs": [
    {
     "name": "stdout",
     "output_type": "stream",
     "text": [
      "1.0\n",
      "1        0.000298\n",
      "2        0.000298\n",
      "3        0.000297\n",
      "4        0.000297\n",
      "5        0.000297\n",
      "           ...   \n",
      "9996     0.000018\n",
      "9997     0.000018\n",
      "9998     0.000018\n",
      "9999     0.000018\n",
      "10000    0.000018\n",
      "Name: 0, Length: 10000, dtype: float64\n"
     ]
    }
   ],
   "source": [
    "t_diff = 1\n",
    "print(training_set.max())\n",
    "gradient_t = (training_set.diff()/t_diff).iloc[1:] # dx/dt\n",
    "print(gradient_t)"
   ]
  },
  {
   "cell_type": "markdown",
   "metadata": {
    "id": "_2eVeeoxyuoS"
   },
   "source": [
    "## Loading Datasets"
   ]
  },
  {
   "cell_type": "code",
   "execution_count": null,
   "metadata": {
    "id": "0J-NKyIEyuoS"
   },
   "outputs": [
    {
     "data": {
      "text/plain": [
       "0       89.200000\n",
       "1       88.931092\n",
       "2       88.662185\n",
       "3       88.393277\n",
       "4       88.124370\n",
       "          ...    \n",
       "2495    52.234980\n",
       "2496    52.226235\n",
       "2497    52.217490\n",
       "2498    52.208745\n",
       "2499    52.200000\n",
       "Name: C1, Length: 2500, dtype: float64"
      ]
     },
     "execution_count": 5,
     "metadata": {},
     "output_type": "execute_result"
    }
   ],
   "source": [
    "data = pd.read_csv(\"c1_interpolated_2400_100.csv\")\n",
    "training_set = data.iloc[:, 1]\n",
    "training_set"
   ]
  },
  {
   "cell_type": "code",
   "execution_count": 6,
   "metadata": {
    "colab": {
     "base_uri": "https://localhost:8080/"
    },
    "id": "-CbNUhJ74UqF",
    "outputId": "20f562d8-8247-49cc-b9c3-00eca5e13e2d"
   },
   "outputs": [
    {
     "data": {
      "text/plain": [
       "0       89.200000\n",
       "1       88.931092\n",
       "2       88.662185\n",
       "3       88.393277\n",
       "4       88.124370\n",
       "          ...    \n",
       "2395     0.000000\n",
       "2396     0.000000\n",
       "2397     0.409292\n",
       "2398     0.409488\n",
       "2399     0.000000\n",
       "Name: C1, Length: 2400, dtype: float64"
      ]
     },
     "execution_count": 6,
     "metadata": {},
     "output_type": "execute_result"
    }
   ],
   "source": [
    "test = training_set.tail(100)\n",
    "test\n",
    "training_set = training_set.head(2400)\n",
    "training_set"
   ]
  },
  {
   "cell_type": "code",
   "execution_count": 7,
   "metadata": {
    "colab": {
     "base_uri": "https://localhost:8080/"
    },
    "id": "X0TwTcq0yuoS",
    "outputId": "37252ed8-d88e-4044-fa7a-922411990b5b"
   },
   "outputs": [
    {
     "name": "stdout",
     "output_type": "stream",
     "text": [
      "0       0.000298\n",
      "1       0.000298\n",
      "2       0.000297\n",
      "3       0.000297\n",
      "4       0.000297\n",
      "          ...   \n",
      "9995    0.000018\n",
      "9996    0.000018\n",
      "9997    0.000018\n",
      "9998    0.000018\n",
      "9999    0.000018\n",
      "Name: 0, Length: 10000, dtype: float64\n"
     ]
    }
   ],
   "source": [
    "training_set = training_set.reset_index(drop=True)\n",
    "gradient_t = gradient_t.reset_index(drop=True)\n",
    "print(gradient_t)"
   ]
  },
  {
   "cell_type": "code",
   "execution_count": 8,
   "metadata": {
    "id": "O2biznZQyuoS"
   },
   "outputs": [],
   "source": [
    "df = pd.concat((training_set, gradient_t), axis=1)\n",
    "df.columns = ['y_t', 'grad_t']"
   ]
  },
  {
   "cell_type": "code",
   "execution_count": 9,
   "metadata": {
    "colab": {
     "base_uri": "https://localhost:8080/",
     "height": 423
    },
    "id": "sk_a5v3tyuoS",
    "outputId": "17563625-e550-45ae-faab-fafa353e44da"
   },
   "outputs": [
    {
     "data": {
      "text/html": [
       "<div>\n",
       "<style scoped>\n",
       "    .dataframe tbody tr th:only-of-type {\n",
       "        vertical-align: middle;\n",
       "    }\n",
       "\n",
       "    .dataframe tbody tr th {\n",
       "        vertical-align: top;\n",
       "    }\n",
       "\n",
       "    .dataframe thead th {\n",
       "        text-align: right;\n",
       "    }\n",
       "</style>\n",
       "<table border=\"1\" class=\"dataframe\">\n",
       "  <thead>\n",
       "    <tr style=\"text-align: right;\">\n",
       "      <th></th>\n",
       "      <th>y_t</th>\n",
       "      <th>grad_t</th>\n",
       "    </tr>\n",
       "  </thead>\n",
       "  <tbody>\n",
       "    <tr>\n",
       "      <th>0</th>\n",
       "      <td>89.200000</td>\n",
       "      <td>0.000298</td>\n",
       "    </tr>\n",
       "    <tr>\n",
       "      <th>1</th>\n",
       "      <td>88.931092</td>\n",
       "      <td>0.000298</td>\n",
       "    </tr>\n",
       "    <tr>\n",
       "      <th>2</th>\n",
       "      <td>88.662185</td>\n",
       "      <td>0.000297</td>\n",
       "    </tr>\n",
       "    <tr>\n",
       "      <th>3</th>\n",
       "      <td>88.393277</td>\n",
       "      <td>0.000297</td>\n",
       "    </tr>\n",
       "    <tr>\n",
       "      <th>4</th>\n",
       "      <td>88.124370</td>\n",
       "      <td>0.000297</td>\n",
       "    </tr>\n",
       "    <tr>\n",
       "      <th>...</th>\n",
       "      <td>...</td>\n",
       "      <td>...</td>\n",
       "    </tr>\n",
       "    <tr>\n",
       "      <th>9995</th>\n",
       "      <td>NaN</td>\n",
       "      <td>0.000018</td>\n",
       "    </tr>\n",
       "    <tr>\n",
       "      <th>9996</th>\n",
       "      <td>NaN</td>\n",
       "      <td>0.000018</td>\n",
       "    </tr>\n",
       "    <tr>\n",
       "      <th>9997</th>\n",
       "      <td>NaN</td>\n",
       "      <td>0.000018</td>\n",
       "    </tr>\n",
       "    <tr>\n",
       "      <th>9998</th>\n",
       "      <td>NaN</td>\n",
       "      <td>0.000018</td>\n",
       "    </tr>\n",
       "    <tr>\n",
       "      <th>9999</th>\n",
       "      <td>NaN</td>\n",
       "      <td>0.000018</td>\n",
       "    </tr>\n",
       "  </tbody>\n",
       "</table>\n",
       "<p>10000 rows × 2 columns</p>\n",
       "</div>"
      ],
      "text/plain": [
       "            y_t    grad_t\n",
       "0     89.200000  0.000298\n",
       "1     88.931092  0.000298\n",
       "2     88.662185  0.000297\n",
       "3     88.393277  0.000297\n",
       "4     88.124370  0.000297\n",
       "...         ...       ...\n",
       "9995        NaN  0.000018\n",
       "9996        NaN  0.000018\n",
       "9997        NaN  0.000018\n",
       "9998        NaN  0.000018\n",
       "9999        NaN  0.000018\n",
       "\n",
       "[10000 rows x 2 columns]"
      ]
     },
     "execution_count": 9,
     "metadata": {},
     "output_type": "execute_result"
    }
   ],
   "source": [
    "df"
   ]
  },
  {
   "cell_type": "markdown",
   "metadata": {
    "id": "-5esyHu5aFvg"
   },
   "source": [
    "## Plot of the External Forcing from Chaotic Differential Equation"
   ]
  },
  {
   "cell_type": "code",
   "execution_count": 10,
   "metadata": {
    "colab": {
     "base_uri": "https://localhost:8080/",
     "height": 447
    },
    "id": "hGnE43tOh-4p",
    "outputId": "fc396503-b624-4fa5-dfbe-f460207405c6"
   },
   "outputs": [
    {
     "data": {
      "text/plain": [
       "<Axes: >"
      ]
     },
     "execution_count": 10,
     "metadata": {},
     "output_type": "execute_result"
    },
    {
     "data": {
      "image/png": "[encoded data removed]",
      "text/plain": [
       "<Figure size 432x288 with 1 Axes>"
      ]
     },
     "metadata": {
      "needs_background": "light"
     },
     "output_type": "display_data"
    }
   ],
   "source": [
    "df.iloc[:, 0].plot()"
   ]
  },
  {
   "cell_type": "code",
   "execution_count": 11,
   "metadata": {
    "colab": {
     "base_uri": "https://localhost:8080/",
     "height": 447
    },
    "id": "ym4xWUUxaFvg",
    "outputId": "ae6a3495-8ce9-437e-ba81-3ed31deedeae"
   },
   "outputs": [
    {
     "name": "stderr",
     "output_type": "stream",
     "text": [
      "C:\\Users\\Anurag Dutta\\AppData\\Local\\Packages\\PythonSoftwareFoundation.Python.3.9_qbz5n2kfra8p0\\LocalCache\\local-packages\\Python39\\site-packages\\pandas\\core\\arraylike.py:402: RuntimeWarning: divide by zero encountered in log\n",
      "  result = getattr(ufunc, method)(*inputs, **kwargs)\n"
     ]
    },
    {
     "data": {
      "text/plain": [
       "<Axes: >"
      ]
     },
     "execution_count": 11,
     "metadata": {},
     "output_type": "execute_result"
    },
    {
     "data": {
      "image/png": "[encoded data removed]",
      "text/plain": [
       "<Figure size 432x288 with 1 Axes>"
      ]
     },
     "metadata": {
      "needs_background": "light"
     },
     "output_type": "display_data"
    }
   ],
   "source": [
    "import numpy as np\n",
    "c0 = 86.6465  # Value for C0\n",
    "K0 = -0.0029  # Value for K0\n",
    "K1 = -0.0003  # Value for K1\n",
    "a = 0.0000    # Value for a\n",
    "b = 0.0168    # Value for b\n",
    "c = 2.3581    # Value for c\n",
    "\n",
    "L = np.minimum(c0, (df.iloc[:, 1] - (df.iloc[:, 0] * (K0 - K1 * (9 * a * np.log(df.iloc[:, 0] / c0) / (K0 - K1 * c)**2 + 4 * b * np.log(df.iloc[:, 0] / c0) / (K0 - K1 * c) + c)))))\n",
    "L.plot()"
   ]
  },
  {
   "cell_type": "markdown",
   "metadata": {
    "id": "9VyEywnwaFvh"
   },
   "source": [
    "## Preprocessing the data into supervised learning"
   ]
  },
  {
   "cell_type": "code",
   "execution_count": 12,
   "metadata": {
    "id": "6V9dXqzdaFvh"
   },
   "outputs": [],
   "source": [
    "# split a sequence into samples\n",
    "def Supervised(data, n_in=1, n_out=1, dropnan=True):\n",
    "    n_vars = 1 if type(data) is list else data.shape[1]\n",
    "    df = pd.DataFrame(data)\n",
    "    cols, names = list(), list()\n",
    "    # input sequence (t-n_in, ... t-1)\n",
    "    for i in range(n_in, 0, -1):\n",
    "        cols.append(df.shift(i))\n",
    "        names += [('var%d(t-%d)' % (j+1, i)) for j in range(n_vars)]\n",
    "    # forecast sequence (t, t+1, ... t+n_out)\n",
    "    for i in range(0, n_out):\n",
    "      cols.append(df.shift(-i))\n",
    "      if i == 0:\n",
    "        names += [('var%d(t)' % (j+1)) for j in range(n_vars)]\n",
    "      else:\n",
    "        names += [('var%d(t+%d)' % (j+1, i)) for j in range(n_vars)]\n",
    "    # put it all together\n",
    "    agg = pd.concat(cols, axis=1)\n",
    "    agg.columns = names\n",
    "    # drop rows with NaN values\n",
    "    if dropnan:\n",
    "       agg.dropna(inplace=True)\n",
    "    return agg"
   ]
  },
  {
   "cell_type": "code",
   "execution_count": 13,
   "metadata": {
    "colab": {
     "base_uri": "https://localhost:8080/"
    },
    "id": "CrzSrT1HnyfH",
    "outputId": "7e75f928-3e47-499d-eac1-51908015ef78"
   },
   "outputs": [
    {
     "name": "stdout",
     "output_type": "stream",
     "text": [
      "     var1(t-350)  var1(t-349)  var1(t-348)  var1(t-347)  var1(t-346)  \\\n",
      "350    89.200000    88.931092    88.662185    88.393277    88.124370   \n",
      "351    88.931092    88.662185    88.393277    88.124370    87.855462   \n",
      "352    88.662185    88.393277    88.124370    87.855462    87.586555   \n",
      "353    88.393277    88.124370    87.855462    87.586555    87.317647   \n",
      "354    88.124370    87.855462    87.586555    87.317647    87.048739   \n",
      "\n",
      "     var1(t-345)  var1(t-344)  var1(t-343)  var1(t-342)  var1(t-341)  ...  \\\n",
      "350    87.855462    87.586555    87.317647    87.048739    86.794538  ...   \n",
      "351    87.586555    87.317647    87.048739    86.794538    86.721709  ...   \n",
      "352    87.317647    87.048739    86.794538    86.721709    86.648880  ...   \n",
      "353    87.048739    86.794538    86.721709    86.648880    86.576050  ...   \n",
      "354    86.794538    86.721709    86.648880    86.576050    86.503221  ...   \n",
      "\n",
      "     var1(t+95)  var2(t+95)  var1(t+96)  var2(t+96)  var1(t+97)  var2(t+97)  \\\n",
      "350   73.989683    0.000263   73.957937    0.000263   73.926190    0.000263   \n",
      "351   73.957937    0.000263   73.926190    0.000263   73.894444    0.000262   \n",
      "352   73.926190    0.000263   73.894444    0.000262   73.862698    0.000262   \n",
      "353   73.894444    0.000262   73.862698    0.000262   73.830952    0.000262   \n",
      "354   73.862698    0.000262   73.830952    0.000262   73.799206    0.000262   \n",
      "\n",
      "     var1(t+98)  var2(t+98)  var1(t+99)  var2(t+99)  \n",
      "350   73.894444    0.000262   73.862698    0.000262  \n",
      "351   73.862698    0.000262   73.830952    0.000262  \n",
      "352   73.830952    0.000262   73.799206    0.000262  \n",
      "353   73.799206    0.000262   73.767460    0.000262  \n",
      "354   73.767460    0.000262   73.735714    0.000262  \n",
      "\n",
      "[5 rows x 551 columns]\n",
      "Index(['var1(t-350)', 'var1(t-349)', 'var1(t-348)', 'var1(t-347)',\n",
      "       'var1(t-346)', 'var1(t-345)', 'var1(t-344)', 'var1(t-343)',\n",
      "       'var1(t-342)', 'var1(t-341)',\n",
      "       ...\n",
      "       'var1(t+95)', 'var2(t+95)', 'var1(t+96)', 'var2(t+96)', 'var1(t+97)',\n",
      "       'var2(t+97)', 'var1(t+98)', 'var2(t+98)', 'var1(t+99)', 'var2(t+99)'],\n",
      "      dtype='object', length=551)\n"
     ]
    }
   ],
   "source": [
    "data = Supervised(df.values, n_in = 350, n_out = 100)\n",
    "\n",
    "\n",
    "cols_to_drop = []\n",
    "for i in range(2, 351):\n",
    "    cols_to_drop.extend([f'var2(t-{i})'])\n",
    "\n",
    "data.drop(cols_to_drop, axis=1, inplace=True)\n",
    "\n",
    "print(data.head())\n",
    "print(data.columns)"
   ]
  },
  {
   "cell_type": "code",
   "execution_count": 14,
   "metadata": {
    "id": "AfPf60oy6Pe4"
   },
   "outputs": [],
   "source": [
    "train = np.array(data[0:len(data)-1])\n",
    "forecast = np.array(data.tail(1))"
   ]
  },
  {
   "cell_type": "code",
   "execution_count": 15,
   "metadata": {
    "id": "WSAafzI37KiT"
   },
   "outputs": [],
   "source": [
    "trainy = train[:,-300:]\n",
    "trainX = train[:,:-300]"
   ]
  },
  {
   "cell_type": "code",
   "execution_count": 16,
   "metadata": {
    "id": "2SrOqVJA7f50"
   },
   "outputs": [],
   "source": [
    "forecasty = forecast[:,-300:]\n",
    "forecastX = forecast[:,:-300]"
   ]
  },
  {
   "cell_type": "code",
   "execution_count": 17,
   "metadata": {
    "colab": {
     "base_uri": "https://localhost:8080/"
    },
    "id": "Qno_k8Nw7saY",
    "outputId": "c4a88db5-d8c6-489f-cdb2-06b24e293cff"
   },
   "outputs": [
    {
     "name": "stdout",
     "output_type": "stream",
     "text": [
      "(1950, 1, 251) (1950, 300) (1, 1, 251)\n"
     ]
    }
   ],
   "source": [
    "trainX = trainX.reshape((trainX.shape[0], 1, trainX.shape[1]))\n",
    "forecastX = forecastX.reshape((forecastX.shape[0], 1, forecastX.shape[1]))\n",
    "print(trainX.shape, trainy.shape, forecastX.shape)"
   ]
  },
  {
   "cell_type": "code",
   "execution_count": 18,
   "metadata": {
    "colab": {
     "base_uri": "https://localhost:8080/"
    },
    "id": "b1Jp2DvNuNFx",
    "outputId": "d0e5b3c4-64f1-438c-eade-8dfeaac8e285"
   },
   "outputs": [
    {
     "name": "stdout",
     "output_type": "stream",
     "text": [
      "Epoch 1/500\n",
      "25/25 [==============================] - 3s 23ms/step - loss: 4140.6348 - val_loss: 2360.3799\n",
      "Epoch 2/500\n",
      "25/25 [==============================] - 0s 5ms/step - loss: 3871.0000 - val_loss: 2228.3621\n",
      "Epoch 3/500\n",
      "25/25 [==============================] - 0s 5ms/step - loss: 3744.8435 - val_loss: 2162.0725\n",
      "Epoch 4/500\n",
      "25/25 [==============================] - 0s 4ms/step - loss: 3633.8872 - val_loss: 2095.4705\n",
      "Epoch 5/500\n",
      "25/25 [==============================] - 0s 4ms/step - loss: 3528.9070 - val_loss: 2030.4255\n",
      "Epoch 6/500\n",
      "25/25 [==============================] - 0s 5ms/step - loss: 3415.2949 - val_loss: 1968.0024\n",
      "Epoch 7/500\n",
      "25/25 [==============================] - 0s 6ms/step - loss: 3311.4888 - val_loss: 1909.6808\n",
      "Epoch 8/500\n",
      "25/25 [==============================] - 0s 6ms/step - loss: 3212.5012 - val_loss: 1854.4535\n",
      "Epoch 9/500\n",
      "25/25 [==============================] - 0s 4ms/step - loss: 3117.3621 - val_loss: 1801.7793\n",
      "Epoch 10/500\n",
      "25/25 [==============================] - 0s 4ms/step - loss: 3025.4006 - val_loss: 1751.3613\n",
      "Epoch 11/500\n",
      "25/25 [==============================] - 0s 5ms/step - loss: 2936.2417 - val_loss: 1703.0159\n",
      "Epoch 12/500\n",
      "25/25 [==============================] - 0s 5ms/step - loss: 2849.6516 - val_loss: 1656.6163\n",
      "Epoch 13/500\n",
      "25/25 [==============================] - 0s 5ms/step - loss: 2765.4653 - val_loss: 1612.0659\n",
      "Epoch 14/500\n",
      "25/25 [==============================] - 0s 7ms/step - loss: 2683.5598 - val_loss: 1569.2881\n",
      "Epoch 15/500\n",
      "25/25 [==============================] - 0s 5ms/step - loss: 2603.8394 - val_loss: 1528.2178\n",
      "Epoch 16/500\n",
      "25/25 [==============================] - 0s 5ms/step - loss: 2526.2217 - val_loss: 1488.7983\n",
      "Epoch 17/500\n",
      "25/25 [==============================] - 0s 5ms/step - loss: 2450.6401 - val_loss: 1450.9796\n",
      "Epoch 18/500\n",
      "25/25 [==============================] - 0s 5ms/step - loss: 2377.0334 - val_loss: 1414.7158\n",
      "Epoch 19/500\n",
      "25/25 [==============================] - 0s 5ms/step - loss: 2305.3481 - val_loss: 1379.9642\n",
      "Epoch 20/500\n",
      "25/25 [==============================] - 0s 5ms/step - loss: 2235.5349 - val_loss: 1346.6853\n",
      "Epoch 21/500\n",
      "25/25 [==============================] - 0s 5ms/step - loss: 2167.5483 - val_loss: 1314.8406\n",
      "Epoch 22/500\n",
      "25/25 [==============================] - 0s 4ms/step - loss: 2101.3459 - val_loss: 1284.3945\n",
      "Epoch 23/500\n",
      "25/25 [==============================] - 0s 4ms/step - loss: 2036.8877 - val_loss: 1255.3120\n",
      "Epoch 24/500\n",
      "25/25 [==============================] - 0s 4ms/step - loss: 1974.1356 - val_loss: 1227.5601\n",
      "Epoch 25/500\n",
      "25/25 [==============================] - 0s 4ms/step - loss: 1913.0537 - val_loss: 1201.1061\n",
      "Epoch 26/500\n",
      "25/25 [==============================] - 0s 5ms/step - loss: 1853.6060 - val_loss: 1175.9181\n",
      "Epoch 27/500\n",
      "25/25 [==============================] - 0s 5ms/step - loss: 1795.7592 - val_loss: 1151.9657\n",
      "Epoch 28/500\n",
      "25/25 [==============================] - 0s 5ms/step - loss: 1739.4806 - val_loss: 1129.2186\n",
      "Epoch 29/500\n",
      "25/25 [==============================] - 0s 5ms/step - loss: 1684.7384 - val_loss: 1107.6472\n",
      "Epoch 30/500\n",
      "25/25 [==============================] - 0s 4ms/step - loss: 1631.5020 - val_loss: 1087.2223\n",
      "Epoch 31/500\n",
      "25/25 [==============================] - 0s 4ms/step - loss: 1579.7399 - val_loss: 1067.9155\n",
      "Epoch 32/500\n",
      "25/25 [==============================] - 0s 5ms/step - loss: 1529.4232 - val_loss: 1049.6990\n",
      "Epoch 33/500\n",
      "25/25 [==============================] - 0s 5ms/step - loss: 1480.5232 - val_loss: 1032.5441\n",
      "Epoch 34/500\n",
      "25/25 [==============================] - 0s 5ms/step - loss: 1433.0107 - val_loss: 1016.4240\n",
      "Epoch 35/500\n",
      "25/25 [==============================] - 0s 4ms/step - loss: 1386.8579 - val_loss: 1001.3115\n",
      "Epoch 36/500\n",
      "25/25 [==============================] - 0s 5ms/step - loss: 1342.0377 - val_loss: 987.1785\n",
      "Epoch 37/500\n",
      "25/25 [==============================] - 0s 5ms/step - loss: 1298.5227 - val_loss: 973.9970\n",
      "Epoch 38/500\n",
      "25/25 [==============================] - 0s 6ms/step - loss: 1256.2861 - val_loss: 961.7349\n",
      "Epoch 39/500\n",
      "25/25 [==============================] - 0s 7ms/step - loss: 1215.3019 - val_loss: 950.3268\n",
      "Epoch 40/500\n",
      "25/25 [==============================] - 0s 6ms/step - loss: 1175.2593 - val_loss: 944.2390\n",
      "Epoch 41/500\n",
      "25/25 [==============================] - 0s 4ms/step - loss: 1185.9347 - val_loss: 942.3483\n",
      "Epoch 42/500\n",
      "25/25 [==============================] - 0s 5ms/step - loss: 1147.5919 - val_loss: 932.6468\n",
      "Epoch 43/500\n",
      "25/25 [==============================] - 0s 4ms/step - loss: 1110.2930 - val_loss: 923.7557\n",
      "Epoch 44/500\n",
      "25/25 [==============================] - 0s 4ms/step - loss: 1074.1279 - val_loss: 915.6627\n",
      "Epoch 45/500\n",
      "25/25 [==============================] - 0s 4ms/step - loss: 1039.0803 - val_loss: 908.3437\n",
      "Epoch 46/500\n",
      "25/25 [==============================] - 0s 4ms/step - loss: 1005.1252 - val_loss: 901.7751\n",
      "Epoch 47/500\n",
      "25/25 [==============================] - 0s 5ms/step - loss: 972.2382 - val_loss: 895.9337\n",
      "Epoch 48/500\n",
      "25/25 [==============================] - 0s 5ms/step - loss: 940.3954 - val_loss: 890.7959\n",
      "Epoch 49/500\n",
      "25/25 [==============================] - 0s 5ms/step - loss: 909.5726 - val_loss: 886.3394\n",
      "Epoch 50/500\n",
      "25/25 [==============================] - 0s 5ms/step - loss: 879.7470 - val_loss: 882.5413\n",
      "Epoch 51/500\n",
      "25/25 [==============================] - 0s 5ms/step - loss: 850.8948 - val_loss: 879.3796\n",
      "Epoch 52/500\n",
      "25/25 [==============================] - 0s 5ms/step - loss: 822.9938 - val_loss: 876.8326\n",
      "Epoch 53/500\n",
      "25/25 [==============================] - 0s 6ms/step - loss: 796.0212 - val_loss: 874.8784\n",
      "Epoch 54/500\n",
      "25/25 [==============================] - 0s 7ms/step - loss: 769.9552 - val_loss: 873.4958\n",
      "Epoch 55/500\n",
      "25/25 [==============================] - 0s 5ms/step - loss: 744.7741 - val_loss: 872.6637\n",
      "Epoch 56/500\n",
      "25/25 [==============================] - 0s 7ms/step - loss: 720.4564 - val_loss: 872.3616\n",
      "Epoch 57/500\n",
      "25/25 [==============================] - 0s 7ms/step - loss: 696.9808 - val_loss: 872.5688\n",
      "Epoch 58/500\n",
      "25/25 [==============================] - 0s 7ms/step - loss: 674.3270 - val_loss: 873.2652\n",
      "Epoch 59/500\n",
      "25/25 [==============================] - 0s 7ms/step - loss: 652.4738 - val_loss: 874.4308\n",
      "Epoch 60/500\n",
      "25/25 [==============================] - 0s 7ms/step - loss: 631.4015 - val_loss: 876.0461\n",
      "Epoch 61/500\n",
      "25/25 [==============================] - 0s 6ms/step - loss: 611.0896 - val_loss: 878.0916\n",
      "Epoch 62/500\n",
      "25/25 [==============================] - 0s 14ms/step - loss: 591.5189 - val_loss: 880.5483\n",
      "Epoch 63/500\n",
      "25/25 [==============================] - 0s 7ms/step - loss: 572.6696 - val_loss: 883.3975\n",
      "Epoch 64/500\n",
      "25/25 [==============================] - 0s 6ms/step - loss: 554.5226 - val_loss: 886.6205\n",
      "Epoch 65/500\n",
      "25/25 [==============================] - 0s 5ms/step - loss: 537.0591 - val_loss: 890.1992\n",
      "Epoch 66/500\n",
      "25/25 [==============================] - 0s 5ms/step - loss: 520.2604 - val_loss: 894.1155\n",
      "Epoch 67/500\n",
      "25/25 [==============================] - 0s 5ms/step - loss: 504.1083 - val_loss: 898.3520\n",
      "Epoch 68/500\n",
      "25/25 [==============================] - 0s 5ms/step - loss: 488.5844 - val_loss: 902.8911\n",
      "Epoch 69/500\n",
      "25/25 [==============================] - 0s 6ms/step - loss: 473.6711 - val_loss: 907.7155\n",
      "Epoch 70/500\n",
      "25/25 [==============================] - 0s 7ms/step - loss: 459.3510 - val_loss: 912.8090\n",
      "Epoch 71/500\n",
      "25/25 [==============================] - 0s 6ms/step - loss: 445.6065 - val_loss: 918.1549\n",
      "Epoch 72/500\n",
      "25/25 [==============================] - 0s 5ms/step - loss: 432.4206 - val_loss: 923.7367\n",
      "Epoch 73/500\n",
      "25/25 [==============================] - 0s 5ms/step - loss: 419.7766 - val_loss: 929.5390\n",
      "Epoch 74/500\n",
      "25/25 [==============================] - 0s 6ms/step - loss: 407.6580 - val_loss: 935.5460\n",
      "Epoch 75/500\n",
      "25/25 [==============================] - 0s 5ms/step - loss: 396.0485 - val_loss: 941.7424\n",
      "Epoch 76/500\n",
      "25/25 [==============================] - 0s 6ms/step - loss: 384.9324 - val_loss: 948.1133\n",
      "Epoch 77/500\n",
      "25/25 [==============================] - 0s 5ms/step - loss: 374.2938 - val_loss: 954.6445\n",
      "Epoch 78/500\n",
      "25/25 [==============================] - 0s 5ms/step - loss: 364.1172 - val_loss: 961.3212\n",
      "Epoch 79/500\n",
      "25/25 [==============================] - 0s 5ms/step - loss: 354.3877 - val_loss: 968.1298\n",
      "Epoch 80/500\n",
      "25/25 [==============================] - 0s 6ms/step - loss: 345.0903 - val_loss: 975.0566\n",
      "Epoch 81/500\n",
      "25/25 [==============================] - 0s 5ms/step - loss: 336.2103 - val_loss: 982.0886\n",
      "Epoch 82/500\n",
      "25/25 [==============================] - 0s 5ms/step - loss: 327.7336 - val_loss: 989.2123\n",
      "Epoch 83/500\n",
      "25/25 [==============================] - 0s 5ms/step - loss: 319.6461 - val_loss: 996.4160\n",
      "Epoch 84/500\n",
      "25/25 [==============================] - 0s 5ms/step - loss: 311.9339 - val_loss: 1003.6868\n",
      "Epoch 85/500\n",
      "25/25 [==============================] - 0s 5ms/step - loss: 304.5836 - val_loss: 1011.0133\n",
      "Epoch 86/500\n",
      "25/25 [==============================] - 0s 5ms/step - loss: 297.5822 - val_loss: 1018.3838\n",
      "Epoch 87/500\n",
      "25/25 [==============================] - 0s 5ms/step - loss: 290.9167 - val_loss: 1025.7875\n",
      "Epoch 88/500\n",
      "25/25 [==============================] - 0s 5ms/step - loss: 284.5743 - val_loss: 1033.2130\n",
      "Epoch 89/500\n",
      "25/25 [==============================] - 0s 5ms/step - loss: 278.5430 - val_loss: 1040.6506\n",
      "Epoch 90/500\n",
      "25/25 [==============================] - 0s 6ms/step - loss: 272.8104 - val_loss: 1048.0902\n",
      "Epoch 91/500\n",
      "25/25 [==============================] - 0s 5ms/step - loss: 267.3650 - val_loss: 1055.5217\n",
      "Epoch 92/500\n",
      "25/25 [==============================] - 0s 7ms/step - loss: 262.1952 - val_loss: 1062.9359\n",
      "Epoch 93/500\n",
      "25/25 [==============================] - 0s 6ms/step - loss: 257.2901 - val_loss: 1070.3247\n",
      "Epoch 94/500\n",
      "25/25 [==============================] - 0s 15ms/step - loss: 252.6385 - val_loss: 1077.6790\n",
      "Epoch 95/500\n",
      "25/25 [==============================] - 0s 6ms/step - loss: 248.2299 - val_loss: 1084.9905\n",
      "Epoch 96/500\n",
      "25/25 [==============================] - 0s 7ms/step - loss: 244.0540 - val_loss: 1092.2520\n",
      "Epoch 97/500\n",
      "25/25 [==============================] - 0s 7ms/step - loss: 240.1008 - val_loss: 1099.4561\n",
      "Epoch 98/500\n",
      "25/25 [==============================] - 0s 6ms/step - loss: 236.3605 - val_loss: 1106.5946\n",
      "Epoch 99/500\n",
      "25/25 [==============================] - 0s 6ms/step - loss: 232.8238 - val_loss: 1113.6627\n",
      "Epoch 100/500\n",
      "25/25 [==============================] - 0s 6ms/step - loss: 229.4815 - val_loss: 1120.6527\n",
      "Epoch 101/500\n",
      "25/25 [==============================] - 0s 6ms/step - loss: 226.3246 - val_loss: 1127.5593\n",
      "Epoch 102/500\n",
      "25/25 [==============================] - 0s 5ms/step - loss: 223.3447 - val_loss: 1134.3774\n",
      "Epoch 103/500\n",
      "25/25 [==============================] - 0s 5ms/step - loss: 220.5333 - val_loss: 1141.1016\n",
      "Epoch 104/500\n",
      "25/25 [==============================] - 0s 5ms/step - loss: 217.8824 - val_loss: 1147.7256\n",
      "Epoch 105/500\n",
      "25/25 [==============================] - 0s 5ms/step - loss: 215.3845 - val_loss: 1154.2476\n",
      "Epoch 106/500\n",
      "25/25 [==============================] - 0s 6ms/step - loss: 213.0317 - val_loss: 1160.6616\n",
      "Epoch 107/500\n",
      "25/25 [==============================] - 0s 5ms/step - loss: 210.8170 - val_loss: 1166.9642\n",
      "Epoch 108/500\n",
      "25/25 [==============================] - 0s 5ms/step - loss: 208.7335 - val_loss: 1173.1533\n",
      "Epoch 109/500\n",
      "25/25 [==============================] - 0s 5ms/step - loss: 206.7742 - val_loss: 1179.2236\n",
      "Epoch 110/500\n",
      "25/25 [==============================] - 0s 5ms/step - loss: 204.9330 - val_loss: 1185.1742\n",
      "Epoch 111/500\n",
      "25/25 [==============================] - 0s 5ms/step - loss: 203.2036 - val_loss: 1191.0015\n",
      "Epoch 112/500\n",
      "25/25 [==============================] - 0s 6ms/step - loss: 201.5800 - val_loss: 1196.7039\n",
      "Epoch 113/500\n",
      "25/25 [==============================] - 0s 5ms/step - loss: 200.0567 - val_loss: 1202.2795\n",
      "Epoch 114/500\n",
      "25/25 [==============================] - 0s 5ms/step - loss: 198.6280 - val_loss: 1207.7271\n",
      "Epoch 115/500\n",
      "25/25 [==============================] - 0s 5ms/step - loss: 197.2887 - val_loss: 1213.0446\n",
      "Epoch 116/500\n",
      "25/25 [==============================] - 0s 5ms/step - loss: 196.0340 - val_loss: 1218.2313\n",
      "Epoch 117/500\n",
      "25/25 [==============================] - 0s 5ms/step - loss: 194.8589 - val_loss: 1223.2869\n",
      "Epoch 118/500\n",
      "25/25 [==============================] - 0s 5ms/step - loss: 193.7590 - val_loss: 1228.2104\n",
      "Epoch 119/500\n",
      "25/25 [==============================] - 0s 5ms/step - loss: 192.7299 - val_loss: 1233.0027\n",
      "Epoch 120/500\n",
      "25/25 [==============================] - 0s 5ms/step - loss: 191.7674 - val_loss: 1237.6627\n",
      "Epoch 121/500\n",
      "25/25 [==============================] - 0s 5ms/step - loss: 190.8677 - val_loss: 1242.1920\n",
      "Epoch 122/500\n",
      "25/25 [==============================] - 0s 5ms/step - loss: 190.0269 - val_loss: 1246.5887\n",
      "Epoch 123/500\n",
      "25/25 [==============================] - 0s 6ms/step - loss: 189.2415 - val_loss: 1250.8555\n",
      "Epoch 124/500\n",
      "25/25 [==============================] - 0s 5ms/step - loss: 188.5082 - val_loss: 1254.9919\n",
      "Epoch 125/500\n",
      "25/25 [==============================] - 0s 6ms/step - loss: 187.8236 - val_loss: 1259.0007\n",
      "Epoch 126/500\n",
      "25/25 [==============================] - 0s 6ms/step - loss: 187.1849 - val_loss: 1262.8818\n",
      "Epoch 127/500\n",
      "25/25 [==============================] - 0s 7ms/step - loss: 186.5891 - val_loss: 1266.6368\n",
      "Epoch 128/500\n",
      "25/25 [==============================] - 0s 13ms/step - loss: 186.0334 - val_loss: 1270.2676\n",
      "Epoch 129/500\n",
      "25/25 [==============================] - 0s 7ms/step - loss: 185.5155 - val_loss: 1273.7753\n",
      "Epoch 130/500\n",
      "25/25 [==============================] - 0s 6ms/step - loss: 185.0327 - val_loss: 1277.1617\n",
      "Epoch 131/500\n",
      "25/25 [==============================] - 0s 6ms/step - loss: 184.5828 - val_loss: 1280.4299\n",
      "Epoch 132/500\n",
      "25/25 [==============================] - 0s 6ms/step - loss: 184.1637 - val_loss: 1283.5808\n",
      "Epoch 133/500\n",
      "25/25 [==============================] - 0s 7ms/step - loss: 183.7734 - val_loss: 1286.6166\n",
      "Epoch 134/500\n",
      "25/25 [==============================] - 0s 8ms/step - loss: 183.4099 - val_loss: 1289.5399\n",
      "Epoch 135/500\n",
      "25/25 [==============================] - 0s 6ms/step - loss: 183.0714 - val_loss: 1292.3529\n",
      "Epoch 136/500\n",
      "25/25 [==============================] - 0s 6ms/step - loss: 182.7563 - val_loss: 1295.0581\n",
      "Epoch 137/500\n",
      "25/25 [==============================] - 0s 6ms/step - loss: 182.4630 - val_loss: 1297.6573\n",
      "Epoch 138/500\n",
      "25/25 [==============================] - 0s 6ms/step - loss: 182.1901 - val_loss: 1300.1537\n",
      "Epoch 139/500\n",
      "25/25 [==============================] - 0s 5ms/step - loss: 181.9360 - val_loss: 1302.5499\n",
      "Epoch 140/500\n",
      "25/25 [==============================] - 0s 5ms/step - loss: 181.6996 - val_loss: 1304.8477\n",
      "Epoch 141/500\n",
      "25/25 [==============================] - 0s 5ms/step - loss: 181.4796 - val_loss: 1307.0503\n",
      "Epoch 142/500\n",
      "25/25 [==============================] - 0s 5ms/step - loss: 181.2749 - val_loss: 1309.1606\n",
      "Epoch 143/500\n",
      "25/25 [==============================] - 0s 5ms/step - loss: 181.0844 - val_loss: 1311.1804\n",
      "Epoch 144/500\n",
      "25/25 [==============================] - 0s 6ms/step - loss: 180.9071 - val_loss: 1313.1127\n",
      "Epoch 145/500\n",
      "25/25 [==============================] - 0s 7ms/step - loss: 180.7422 - val_loss: 1314.9607\n",
      "Epoch 146/500\n",
      "25/25 [==============================] - 0s 8ms/step - loss: 180.5887 - val_loss: 1316.7268\n",
      "Epoch 147/500\n",
      "25/25 [==============================] - 0s 8ms/step - loss: 180.4458 - val_loss: 1318.4125\n",
      "Epoch 148/500\n",
      "25/25 [==============================] - 0s 7ms/step - loss: 180.3130 - val_loss: 1320.0216\n",
      "Epoch 149/500\n",
      "25/25 [==============================] - 0s 7ms/step - loss: 180.1892 - val_loss: 1321.5570\n",
      "Epoch 150/500\n",
      "25/25 [==============================] - 0s 7ms/step - loss: 180.0741 - val_loss: 1323.0201\n",
      "Epoch 151/500\n",
      "25/25 [==============================] - 0s 6ms/step - loss: 179.9669 - val_loss: 1324.4147\n",
      "Epoch 152/500\n",
      "25/25 [==============================] - 0s 6ms/step - loss: 179.8671 - val_loss: 1325.7424\n",
      "Epoch 153/500\n",
      "25/25 [==============================] - 0s 16ms/step - loss: 179.7742 - val_loss: 1327.0055\n",
      "Epoch 154/500\n",
      "25/25 [==============================] - 0s 7ms/step - loss: 179.6878 - val_loss: 1328.2070\n",
      "Epoch 155/500\n",
      "25/25 [==============================] - 0s 6ms/step - loss: 179.6072 - val_loss: 1329.3490\n",
      "Epoch 156/500\n",
      "25/25 [==============================] - 0s 6ms/step - loss: 179.5323 - val_loss: 1330.4341\n",
      "Epoch 157/500\n",
      "25/25 [==============================] - 0s 5ms/step - loss: 179.4625 - val_loss: 1331.4642\n",
      "Epoch 158/500\n",
      "25/25 [==============================] - 0s 6ms/step - loss: 179.3975 - val_loss: 1332.4415\n",
      "Epoch 159/500\n",
      "25/25 [==============================] - 0s 6ms/step - loss: 179.3369 - val_loss: 1333.3689\n",
      "Epoch 160/500\n",
      "25/25 [==============================] - 0s 8ms/step - loss: 179.2805 - val_loss: 1334.2476\n",
      "Epoch 161/500\n",
      "25/25 [==============================] - 0s 7ms/step - loss: 179.2279 - val_loss: 1335.0806\n",
      "Epoch 162/500\n",
      "25/25 [==============================] - 0s 6ms/step - loss: 179.1790 - val_loss: 1335.8690\n",
      "Epoch 163/500\n",
      "25/25 [==============================] - 0s 7ms/step - loss: 179.1334 - val_loss: 1336.6152\n",
      "Epoch 164/500\n",
      "25/25 [==============================] - 0s 6ms/step - loss: 179.0910 - val_loss: 1337.3214\n",
      "Epoch 165/500\n",
      "25/25 [==============================] - 0s 6ms/step - loss: 179.0514 - val_loss: 1337.9889\n",
      "Epoch 166/500\n",
      "25/25 [==============================] - 0s 6ms/step - loss: 179.0145 - val_loss: 1338.6200\n",
      "Epoch 167/500\n",
      "25/25 [==============================] - 0s 5ms/step - loss: 178.9802 - val_loss: 1339.2153\n",
      "Epoch 168/500\n",
      "25/25 [==============================] - 0s 5ms/step - loss: 178.9482 - val_loss: 1339.7780\n",
      "Epoch 169/500\n",
      "25/25 [==============================] - 0s 4ms/step - loss: 178.9185 - val_loss: 1340.3085\n",
      "Epoch 170/500\n",
      "25/25 [==============================] - 0s 5ms/step - loss: 178.8908 - val_loss: 1340.8085\n",
      "Epoch 171/500\n",
      "25/25 [==============================] - 0s 5ms/step - loss: 178.8650 - val_loss: 1341.2803\n",
      "Epoch 172/500\n",
      "25/25 [==============================] - 0s 5ms/step - loss: 178.8409 - val_loss: 1341.7246\n",
      "Epoch 173/500\n",
      "25/25 [==============================] - 0s 5ms/step - loss: 178.8186 - val_loss: 1342.1434\n",
      "Epoch 174/500\n",
      "25/25 [==============================] - 0s 5ms/step - loss: 178.7978 - val_loss: 1342.5369\n",
      "Epoch 175/500\n",
      "25/25 [==============================] - 0s 5ms/step - loss: 178.7784 - val_loss: 1342.9080\n",
      "Epoch 176/500\n",
      "25/25 [==============================] - 0s 5ms/step - loss: 178.7604 - val_loss: 1343.2562\n",
      "Epoch 177/500\n",
      "25/25 [==============================] - 0s 5ms/step - loss: 178.7437 - val_loss: 1343.5836\n",
      "Epoch 178/500\n",
      "25/25 [==============================] - 0s 5ms/step - loss: 178.7281 - val_loss: 1343.8912\n",
      "Epoch 179/500\n",
      "25/25 [==============================] - 0s 5ms/step - loss: 178.7137 - val_loss: 1344.1802\n",
      "Epoch 180/500\n",
      "25/25 [==============================] - 0s 5ms/step - loss: 178.7002 - val_loss: 1344.4519\n",
      "Epoch 181/500\n",
      "25/25 [==============================] - 0s 5ms/step - loss: 178.6877 - val_loss: 1344.7063\n",
      "Epoch 182/500\n",
      "25/25 [==============================] - 0s 6ms/step - loss: 178.6762 - val_loss: 1344.9452\n",
      "Epoch 183/500\n",
      "25/25 [==============================] - 0s 5ms/step - loss: 178.6655 - val_loss: 1345.1687\n",
      "Epoch 184/500\n",
      "25/25 [==============================] - 0s 10ms/step - loss: 178.6554 - val_loss: 1345.3790\n",
      "Epoch 185/500\n",
      "25/25 [==============================] - 0s 6ms/step - loss: 178.6463 - val_loss: 1345.5757\n",
      "Epoch 186/500\n",
      "25/25 [==============================] - 0s 6ms/step - loss: 178.6377 - val_loss: 1345.7598\n",
      "Epoch 187/500\n",
      "25/25 [==============================] - 0s 6ms/step - loss: 178.6298 - val_loss: 1345.9318\n",
      "Epoch 188/500\n",
      "25/25 [==============================] - 0s 5ms/step - loss: 178.6225 - val_loss: 1346.0928\n",
      "Epoch 189/500\n",
      "25/25 [==============================] - 0s 5ms/step - loss: 178.6157 - val_loss: 1346.2432\n",
      "Epoch 190/500\n",
      "25/25 [==============================] - 0s 5ms/step - loss: 178.6095 - val_loss: 1346.3838\n",
      "Epoch 191/500\n",
      "25/25 [==============================] - 0s 5ms/step - loss: 178.6037 - val_loss: 1346.5162\n",
      "Epoch 192/500\n",
      "25/25 [==============================] - 0s 5ms/step - loss: 178.5984 - val_loss: 1346.6387\n",
      "Epoch 193/500\n",
      "25/25 [==============================] - 0s 5ms/step - loss: 178.5936 - val_loss: 1346.7535\n",
      "Epoch 194/500\n",
      "25/25 [==============================] - 0s 5ms/step - loss: 178.5891 - val_loss: 1346.8607\n",
      "Epoch 195/500\n",
      "25/25 [==============================] - 0s 5ms/step - loss: 178.5849 - val_loss: 1346.9600\n",
      "Epoch 196/500\n",
      "25/25 [==============================] - 0s 5ms/step - loss: 178.5811 - val_loss: 1347.0543\n",
      "Epoch 197/500\n",
      "25/25 [==============================] - 0s 5ms/step - loss: 178.5776 - val_loss: 1347.1400\n",
      "Epoch 198/500\n",
      "25/25 [==============================] - 0s 5ms/step - loss: 178.5744 - val_loss: 1347.2209\n",
      "Epoch 199/500\n",
      "25/25 [==============================] - 0s 5ms/step - loss: 178.5716 - val_loss: 1347.2961\n",
      "Epoch 200/500\n",
      "25/25 [==============================] - 0s 5ms/step - loss: 178.5689 - val_loss: 1347.3672\n",
      "Epoch 201/500\n",
      "25/25 [==============================] - 0s 5ms/step - loss: 178.5665 - val_loss: 1347.4323\n",
      "Epoch 202/500\n",
      "25/25 [==============================] - 0s 6ms/step - loss: 178.5643 - val_loss: 1347.4934\n",
      "Epoch 203/500\n",
      "25/25 [==============================] - 0s 5ms/step - loss: 178.5623 - val_loss: 1347.5492\n",
      "Epoch 204/500\n",
      "25/25 [==============================] - 0s 5ms/step - loss: 178.5605 - val_loss: 1347.6016\n",
      "Epoch 205/500\n",
      "25/25 [==============================] - 0s 6ms/step - loss: 178.5589 - val_loss: 1347.6508\n",
      "Epoch 206/500\n",
      "25/25 [==============================] - 0s 5ms/step - loss: 178.5575 - val_loss: 1347.6963\n",
      "Epoch 207/500\n",
      "25/25 [==============================] - 0s 5ms/step - loss: 178.5562 - val_loss: 1347.7383\n",
      "Epoch 208/500\n",
      "25/25 [==============================] - 0s 5ms/step - loss: 178.5551 - val_loss: 1347.7776\n",
      "Epoch 209/500\n",
      "25/25 [==============================] - 0s 5ms/step - loss: 178.5540 - val_loss: 1347.8140\n",
      "Epoch 210/500\n",
      "25/25 [==============================] - 0s 5ms/step - loss: 178.5531 - val_loss: 1347.8472\n",
      "Epoch 211/500\n",
      "25/25 [==============================] - 0s 5ms/step - loss: 178.5523 - val_loss: 1347.8784\n",
      "Epoch 212/500\n",
      "25/25 [==============================] - 0s 5ms/step - loss: 178.5516 - val_loss: 1347.9077\n",
      "Epoch 213/500\n",
      "25/25 [==============================] - 0s 5ms/step - loss: 178.5510 - val_loss: 1347.9348\n",
      "Epoch 214/500\n",
      "25/25 [==============================] - 0s 11ms/step - loss: 178.5505 - val_loss: 1347.9590\n",
      "Epoch 215/500\n",
      "25/25 [==============================] - 0s 6ms/step - loss: 178.5501 - val_loss: 1347.9822\n",
      "Epoch 216/500\n",
      "25/25 [==============================] - 0s 7ms/step - loss: 178.5497 - val_loss: 1348.0035\n",
      "Epoch 217/500\n",
      "25/25 [==============================] - 0s 7ms/step - loss: 178.5494 - val_loss: 1348.0232\n",
      "Epoch 218/500\n",
      "25/25 [==============================] - 0s 9ms/step - loss: 178.5492 - val_loss: 1348.0411\n",
      "Epoch 219/500\n",
      "25/25 [==============================] - 0s 7ms/step - loss: 178.5490 - val_loss: 1348.0586\n",
      "Epoch 220/500\n",
      "25/25 [==============================] - 0s 6ms/step - loss: 178.5489 - val_loss: 1348.0742\n",
      "Epoch 221/500\n",
      "25/25 [==============================] - 0s 5ms/step - loss: 178.5488 - val_loss: 1348.0885\n",
      "Epoch 222/500\n",
      "25/25 [==============================] - 0s 5ms/step - loss: 178.5489 - val_loss: 1348.1014\n",
      "Epoch 223/500\n",
      "25/25 [==============================] - 0s 5ms/step - loss: 178.5488 - val_loss: 1348.1139\n",
      "Epoch 224/500\n",
      "25/25 [==============================] - 0s 5ms/step - loss: 178.5489 - val_loss: 1348.1254\n",
      "Epoch 225/500\n",
      "25/25 [==============================] - 0s 5ms/step - loss: 178.5490 - val_loss: 1348.1356\n",
      "Epoch 226/500\n",
      "25/25 [==============================] - 0s 5ms/step - loss: 178.5492 - val_loss: 1348.1449\n",
      "Epoch 227/500\n",
      "25/25 [==============================] - 0s 5ms/step - loss: 178.5493 - val_loss: 1348.1542\n",
      "Epoch 228/500\n",
      "25/25 [==============================] - 0s 5ms/step - loss: 178.5494 - val_loss: 1348.1624\n",
      "Epoch 229/500\n",
      "25/25 [==============================] - 0s 5ms/step - loss: 178.5496 - val_loss: 1348.1697\n",
      "Epoch 230/500\n",
      "25/25 [==============================] - 0s 6ms/step - loss: 178.5498 - val_loss: 1348.1766\n",
      "Epoch 231/500\n",
      "25/25 [==============================] - 0s 7ms/step - loss: 178.5501 - val_loss: 1348.1827\n",
      "Epoch 232/500\n",
      "25/25 [==============================] - 0s 8ms/step - loss: 178.5503 - val_loss: 1348.1886\n",
      "Epoch 233/500\n",
      "25/25 [==============================] - 0s 8ms/step - loss: 178.5506 - val_loss: 1348.1942\n",
      "Epoch 234/500\n",
      "25/25 [==============================] - 0s 6ms/step - loss: 178.5508 - val_loss: 1348.1991\n",
      "Epoch 235/500\n",
      "25/25 [==============================] - 0s 6ms/step - loss: 178.5511 - val_loss: 1348.2034\n",
      "Epoch 236/500\n",
      "25/25 [==============================] - 0s 6ms/step - loss: 178.5514 - val_loss: 1348.2076\n",
      "Epoch 237/500\n",
      "25/25 [==============================] - 0s 5ms/step - loss: 178.5517 - val_loss: 1348.2114\n",
      "Epoch 238/500\n",
      "25/25 [==============================] - 0s 5ms/step - loss: 178.5520 - val_loss: 1348.2152\n",
      "Epoch 239/500\n",
      "25/25 [==============================] - 0s 5ms/step - loss: 178.5522 - val_loss: 1348.2181\n",
      "Epoch 240/500\n",
      "25/25 [==============================] - 0s 10ms/step - loss: 178.5526 - val_loss: 1348.2207\n",
      "Epoch 241/500\n",
      "25/25 [==============================] - 0s 7ms/step - loss: 178.5529 - val_loss: 1348.2239\n",
      "Epoch 242/500\n",
      "25/25 [==============================] - 0s 6ms/step - loss: 178.5532 - val_loss: 1348.2261\n",
      "Epoch 243/500\n",
      "25/25 [==============================] - 0s 6ms/step - loss: 178.5535 - val_loss: 1348.2279\n",
      "Epoch 244/500\n",
      "25/25 [==============================] - 0s 5ms/step - loss: 178.5539 - val_loss: 1348.2301\n",
      "Epoch 245/500\n",
      "25/25 [==============================] - 0s 5ms/step - loss: 178.5542 - val_loss: 1348.2321\n",
      "Epoch 246/500\n",
      "25/25 [==============================] - 0s 5ms/step - loss: 178.5545 - val_loss: 1348.2333\n",
      "Epoch 247/500\n",
      "25/25 [==============================] - 0s 5ms/step - loss: 178.5548 - val_loss: 1348.2343\n",
      "Epoch 248/500\n",
      "25/25 [==============================] - 0s 5ms/step - loss: 178.5551 - val_loss: 1348.2358\n",
      "Epoch 249/500\n",
      "25/25 [==============================] - 0s 5ms/step - loss: 178.5555 - val_loss: 1348.2378\n",
      "Epoch 250/500\n",
      "25/25 [==============================] - 0s 5ms/step - loss: 178.5558 - val_loss: 1348.2389\n",
      "Epoch 251/500\n",
      "25/25 [==============================] - 0s 6ms/step - loss: 178.5561 - val_loss: 1348.2396\n",
      "Epoch 252/500\n",
      "25/25 [==============================] - 0s 5ms/step - loss: 178.5564 - val_loss: 1348.2407\n",
      "Epoch 253/500\n",
      "25/25 [==============================] - 0s 5ms/step - loss: 178.5567 - val_loss: 1348.2410\n",
      "Epoch 254/500\n",
      "25/25 [==============================] - 0s 5ms/step - loss: 178.5570 - val_loss: 1348.2415\n",
      "Epoch 255/500\n",
      "25/25 [==============================] - 0s 5ms/step - loss: 178.5574 - val_loss: 1348.2418\n",
      "Epoch 256/500\n",
      "25/25 [==============================] - 0s 5ms/step - loss: 178.5576 - val_loss: 1348.2423\n",
      "Epoch 257/500\n",
      "25/25 [==============================] - 0s 5ms/step - loss: 178.5580 - val_loss: 1348.2432\n",
      "Epoch 258/500\n",
      "25/25 [==============================] - 0s 6ms/step - loss: 178.5582 - val_loss: 1348.2439\n",
      "Epoch 259/500\n",
      "25/25 [==============================] - 0s 7ms/step - loss: 178.5585 - val_loss: 1348.2444\n",
      "Epoch 260/500\n",
      "25/25 [==============================] - 0s 7ms/step - loss: 178.5588 - val_loss: 1348.2444\n",
      "Epoch 261/500\n",
      "25/25 [==============================] - 0s 7ms/step - loss: 178.5591 - val_loss: 1348.2444\n",
      "Epoch 262/500\n",
      "25/25 [==============================] - 0s 5ms/step - loss: 178.5593 - val_loss: 1348.2445\n",
      "Epoch 263/500\n",
      "25/25 [==============================] - 0s 8ms/step - loss: 178.5596 - val_loss: 1348.2452\n",
      "Epoch 264/500\n",
      "25/25 [==============================] - 0s 8ms/step - loss: 178.5599 - val_loss: 1348.2450\n",
      "Epoch 265/500\n",
      "25/25 [==============================] - 0s 7ms/step - loss: 178.5601 - val_loss: 1348.2452\n",
      "Epoch 266/500\n",
      "25/25 [==============================] - 0s 6ms/step - loss: 178.5604 - val_loss: 1348.2454\n",
      "Epoch 267/500\n",
      "25/25 [==============================] - 0s 5ms/step - loss: 178.5607 - val_loss: 1348.2454\n",
      "Epoch 268/500\n",
      "25/25 [==============================] - 0s 10ms/step - loss: 178.5609 - val_loss: 1348.2455\n",
      "Epoch 269/500\n",
      "25/25 [==============================] - 0s 6ms/step - loss: 178.5611 - val_loss: 1348.2455\n",
      "Epoch 270/500\n",
      "25/25 [==============================] - 0s 6ms/step - loss: 178.5613 - val_loss: 1348.2452\n",
      "Epoch 271/500\n",
      "25/25 [==============================] - 0s 5ms/step - loss: 178.5616 - val_loss: 1348.2452\n",
      "Epoch 272/500\n",
      "25/25 [==============================] - 0s 5ms/step - loss: 178.5619 - val_loss: 1348.2452\n",
      "Epoch 273/500\n",
      "25/25 [==============================] - 0s 5ms/step - loss: 178.5620 - val_loss: 1348.2455\n",
      "Epoch 274/500\n",
      "25/25 [==============================] - 0s 6ms/step - loss: 178.5623 - val_loss: 1348.2455\n",
      "Epoch 275/500\n",
      "25/25 [==============================] - 0s 5ms/step - loss: 178.5624 - val_loss: 1348.2454\n",
      "Epoch 276/500\n",
      "25/25 [==============================] - 0s 5ms/step - loss: 178.5627 - val_loss: 1348.2450\n",
      "Epoch 277/500\n",
      "25/25 [==============================] - 0s 6ms/step - loss: 178.5629 - val_loss: 1348.2450\n",
      "Epoch 278/500\n",
      "25/25 [==============================] - 0s 5ms/step - loss: 178.5631 - val_loss: 1348.2452\n",
      "Epoch 279/500\n",
      "25/25 [==============================] - 0s 5ms/step - loss: 178.5633 - val_loss: 1348.2450\n",
      "Epoch 280/500\n",
      "25/25 [==============================] - 0s 5ms/step - loss: 178.5635 - val_loss: 1348.2448\n",
      "Epoch 281/500\n",
      "25/25 [==============================] - 0s 5ms/step - loss: 178.5637 - val_loss: 1348.2444\n",
      "Epoch 282/500\n",
      "25/25 [==============================] - 0s 5ms/step - loss: 178.5639 - val_loss: 1348.2445\n",
      "Epoch 283/500\n",
      "25/25 [==============================] - 0s 5ms/step - loss: 178.5641 - val_loss: 1348.2448\n",
      "Epoch 284/500\n",
      "25/25 [==============================] - 0s 5ms/step - loss: 178.5642 - val_loss: 1348.2445\n",
      "Epoch 285/500\n",
      "25/25 [==============================] - 0s 5ms/step - loss: 178.5644 - val_loss: 1348.2444\n",
      "Epoch 286/500\n",
      "25/25 [==============================] - 0s 5ms/step - loss: 178.5646 - val_loss: 1348.2444\n",
      "Epoch 287/500\n",
      "25/25 [==============================] - 0s 5ms/step - loss: 178.5647 - val_loss: 1348.2443\n",
      "Epoch 288/500\n",
      "25/25 [==============================] - 0s 5ms/step - loss: 178.5649 - val_loss: 1348.2438\n",
      "Epoch 289/500\n",
      "25/25 [==============================] - 0s 5ms/step - loss: 178.5651 - val_loss: 1348.2435\n",
      "Epoch 290/500\n",
      "25/25 [==============================] - 0s 5ms/step - loss: 178.5652 - val_loss: 1348.2435\n",
      "Epoch 291/500\n",
      "25/25 [==============================] - 0s 5ms/step - loss: 178.5654 - val_loss: 1348.2435\n",
      "Epoch 292/500\n",
      "25/25 [==============================] - 0s 5ms/step - loss: 178.5655 - val_loss: 1348.2433\n",
      "Epoch 293/500\n",
      "25/25 [==============================] - 0s 5ms/step - loss: 178.5657 - val_loss: 1348.2433\n",
      "Epoch 294/500\n",
      "25/25 [==============================] - 0s 5ms/step - loss: 178.5658 - val_loss: 1348.2432\n",
      "Epoch 295/500\n",
      "25/25 [==============================] - 0s 5ms/step - loss: 178.5659 - val_loss: 1348.2419\n",
      "Epoch 296/500\n",
      "25/25 [==============================] - 0s 5ms/step - loss: 178.5661 - val_loss: 1348.2418\n",
      "Epoch 297/500\n",
      "25/25 [==============================] - 0s 5ms/step - loss: 178.5662 - val_loss: 1348.2418\n",
      "Epoch 298/500\n",
      "25/25 [==============================] - 0s 10ms/step - loss: 178.5663 - val_loss: 1348.2418\n",
      "Epoch 299/500\n",
      "25/25 [==============================] - 0s 6ms/step - loss: 178.5665 - val_loss: 1348.2418\n",
      "Epoch 300/500\n",
      "25/25 [==============================] - 0s 5ms/step - loss: 178.5666 - val_loss: 1348.2418\n",
      "Epoch 301/500\n",
      "25/25 [==============================] - 0s 5ms/step - loss: 178.5668 - val_loss: 1348.2417\n",
      "Epoch 302/500\n",
      "25/25 [==============================] - 0s 5ms/step - loss: 178.5669 - val_loss: 1348.2417\n",
      "Epoch 303/500\n",
      "25/25 [==============================] - 0s 5ms/step - loss: 178.5670 - val_loss: 1348.2417\n",
      "Epoch 304/500\n",
      "25/25 [==============================] - 0s 5ms/step - loss: 178.5671 - val_loss: 1348.2417\n",
      "Epoch 305/500\n",
      "25/25 [==============================] - 0s 5ms/step - loss: 178.5672 - val_loss: 1348.2415\n",
      "Epoch 306/500\n",
      "25/25 [==============================] - 0s 5ms/step - loss: 178.5673 - val_loss: 1348.2412\n",
      "Epoch 307/500\n",
      "25/25 [==============================] - 0s 5ms/step - loss: 178.5674 - val_loss: 1348.2412\n",
      "Epoch 308/500\n",
      "25/25 [==============================] - 0s 5ms/step - loss: 178.5675 - val_loss: 1348.2412\n",
      "Epoch 309/500\n",
      "25/25 [==============================] - 0s 5ms/step - loss: 178.5676 - val_loss: 1348.2410\n",
      "Epoch 310/500\n",
      "25/25 [==============================] - 0s 5ms/step - loss: 178.5677 - val_loss: 1348.2407\n",
      "Epoch 311/500\n",
      "25/25 [==============================] - 0s 5ms/step - loss: 178.5678 - val_loss: 1348.2407\n",
      "Epoch 312/500\n",
      "25/25 [==============================] - 0s 5ms/step - loss: 178.5679 - val_loss: 1348.2407\n",
      "Epoch 313/500\n",
      "25/25 [==============================] - 0s 5ms/step - loss: 178.5679 - val_loss: 1348.2404\n",
      "Epoch 314/500\n",
      "25/25 [==============================] - 0s 5ms/step - loss: 178.5680 - val_loss: 1348.2404\n",
      "Epoch 315/500\n",
      "25/25 [==============================] - 0s 5ms/step - loss: 178.5682 - val_loss: 1348.2404\n",
      "Epoch 316/500\n",
      "25/25 [==============================] - 0s 5ms/step - loss: 178.5683 - val_loss: 1348.2404\n",
      "Epoch 317/500\n",
      "25/25 [==============================] - 0s 5ms/step - loss: 178.5683 - val_loss: 1348.2404\n",
      "Epoch 318/500\n",
      "25/25 [==============================] - 0s 5ms/step - loss: 178.5684 - val_loss: 1348.2404\n",
      "Epoch 319/500\n",
      "25/25 [==============================] - 0s 5ms/step - loss: 178.5685 - val_loss: 1348.2404\n",
      "Epoch 320/500\n",
      "25/25 [==============================] - 0s 5ms/step - loss: 178.5685 - val_loss: 1348.2402\n",
      "Epoch 321/500\n",
      "25/25 [==============================] - 0s 5ms/step - loss: 178.5686 - val_loss: 1348.2401\n",
      "Epoch 322/500\n",
      "25/25 [==============================] - 0s 5ms/step - loss: 178.5687 - val_loss: 1348.2396\n",
      "Epoch 323/500\n",
      "25/25 [==============================] - 0s 10ms/step - loss: 178.5688 - val_loss: 1348.2389\n",
      "Epoch 324/500\n",
      "25/25 [==============================] - 0s 6ms/step - loss: 178.5689 - val_loss: 1348.2388\n",
      "Epoch 325/500\n",
      "25/25 [==============================] - 0s 6ms/step - loss: 178.5690 - val_loss: 1348.2388\n",
      "Epoch 326/500\n",
      "25/25 [==============================] - 0s 5ms/step - loss: 178.5690 - val_loss: 1348.2383\n",
      "Epoch 327/500\n",
      "25/25 [==============================] - 0s 5ms/step - loss: 178.5691 - val_loss: 1348.2388\n",
      "Epoch 328/500\n",
      "25/25 [==============================] - 0s 4ms/step - loss: 178.5692 - val_loss: 1348.2391\n",
      "Epoch 329/500\n",
      "25/25 [==============================] - 0s 5ms/step - loss: 178.5692 - val_loss: 1348.2389\n",
      "Epoch 330/500\n",
      "25/25 [==============================] - 0s 5ms/step - loss: 178.5693 - val_loss: 1348.2391\n",
      "Epoch 331/500\n",
      "25/25 [==============================] - 0s 5ms/step - loss: 178.5693 - val_loss: 1348.2391\n",
      "Epoch 332/500\n",
      "25/25 [==============================] - 0s 5ms/step - loss: 178.5694 - val_loss: 1348.2389\n",
      "Epoch 333/500\n",
      "25/25 [==============================] - 0s 5ms/step - loss: 178.5694 - val_loss: 1348.2384\n",
      "Epoch 334/500\n",
      "25/25 [==============================] - 0s 5ms/step - loss: 178.5695 - val_loss: 1348.2383\n",
      "Epoch 335/500\n",
      "25/25 [==============================] - 0s 5ms/step - loss: 178.5695 - val_loss: 1348.2386\n",
      "Epoch 336/500\n",
      "25/25 [==============================] - 0s 5ms/step - loss: 178.5695 - val_loss: 1348.2383\n",
      "Epoch 337/500\n",
      "25/25 [==============================] - 0s 5ms/step - loss: 178.5696 - val_loss: 1348.2388\n",
      "Epoch 338/500\n",
      "25/25 [==============================] - 0s 5ms/step - loss: 178.5697 - val_loss: 1348.2388\n",
      "Epoch 339/500\n",
      "25/25 [==============================] - 0s 5ms/step - loss: 178.5697 - val_loss: 1348.2388\n",
      "Epoch 340/500\n",
      "25/25 [==============================] - 0s 5ms/step - loss: 178.5697 - val_loss: 1348.2384\n",
      "Epoch 341/500\n",
      "25/25 [==============================] - 0s 5ms/step - loss: 178.5698 - val_loss: 1348.2383\n",
      "Epoch 342/500\n",
      "25/25 [==============================] - 0s 4ms/step - loss: 178.5699 - val_loss: 1348.2383\n",
      "Epoch 343/500\n",
      "25/25 [==============================] - 0s 5ms/step - loss: 178.5699 - val_loss: 1348.2382\n",
      "Epoch 344/500\n",
      "25/25 [==============================] - 0s 5ms/step - loss: 178.5699 - val_loss: 1348.2382\n",
      "Epoch 345/500\n",
      "25/25 [==============================] - 0s 6ms/step - loss: 178.5700 - val_loss: 1348.2382\n",
      "Epoch 346/500\n",
      "25/25 [==============================] - 0s 5ms/step - loss: 178.5701 - val_loss: 1348.2383\n",
      "Epoch 347/500\n",
      "25/25 [==============================] - 0s 5ms/step - loss: 178.5701 - val_loss: 1348.2383\n",
      "Epoch 348/500\n",
      "25/25 [==============================] - 0s 9ms/step - loss: 178.5701 - val_loss: 1348.2383\n",
      "Epoch 349/500\n",
      "25/25 [==============================] - 0s 7ms/step - loss: 178.5701 - val_loss: 1348.2380\n",
      "Epoch 350/500\n",
      "25/25 [==============================] - 0s 6ms/step - loss: 178.5701 - val_loss: 1348.2377\n",
      "Epoch 351/500\n",
      "25/25 [==============================] - 0s 5ms/step - loss: 178.5702 - val_loss: 1348.2380\n",
      "Epoch 352/500\n",
      "25/25 [==============================] - 0s 5ms/step - loss: 178.5703 - val_loss: 1348.2382\n",
      "Epoch 353/500\n",
      "25/25 [==============================] - 0s 5ms/step - loss: 178.5703 - val_loss: 1348.2380\n",
      "Epoch 354/500\n",
      "25/25 [==============================] - 0s 5ms/step - loss: 178.5703 - val_loss: 1348.2377\n",
      "Epoch 355/500\n",
      "25/25 [==============================] - 0s 6ms/step - loss: 178.5703 - val_loss: 1348.2373\n",
      "Epoch 356/500\n",
      "25/25 [==============================] - 0s 5ms/step - loss: 178.5704 - val_loss: 1348.2371\n",
      "Epoch 357/500\n",
      "25/25 [==============================] - 0s 5ms/step - loss: 178.5705 - val_loss: 1348.2377\n",
      "Epoch 358/500\n",
      "25/25 [==============================] - 0s 5ms/step - loss: 178.5705 - val_loss: 1348.2380\n",
      "Epoch 359/500\n",
      "25/25 [==============================] - 0s 5ms/step - loss: 178.5705 - val_loss: 1348.2382\n",
      "Epoch 360/500\n",
      "25/25 [==============================] - 0s 5ms/step - loss: 178.5705 - val_loss: 1348.2382\n",
      "Epoch 361/500\n",
      "25/25 [==============================] - 0s 5ms/step - loss: 178.5705 - val_loss: 1348.2380\n",
      "Epoch 362/500\n",
      "25/25 [==============================] - 0s 5ms/step - loss: 178.5705 - val_loss: 1348.2382\n",
      "Epoch 363/500\n",
      "25/25 [==============================] - 0s 5ms/step - loss: 178.5706 - val_loss: 1348.2380\n",
      "Epoch 364/500\n",
      "25/25 [==============================] - 0s 5ms/step - loss: 178.5706 - val_loss: 1348.2380\n",
      "Epoch 365/500\n",
      "25/25 [==============================] - 0s 5ms/step - loss: 178.5706 - val_loss: 1348.2380\n",
      "Epoch 366/500\n",
      "25/25 [==============================] - 0s 5ms/step - loss: 178.5706 - val_loss: 1348.2377\n",
      "Epoch 367/500\n",
      "25/25 [==============================] - 0s 5ms/step - loss: 178.5707 - val_loss: 1348.2375\n",
      "Epoch 368/500\n",
      "25/25 [==============================] - 0s 5ms/step - loss: 178.5707 - val_loss: 1348.2371\n",
      "Epoch 369/500\n",
      "25/25 [==============================] - 0s 5ms/step - loss: 178.5707 - val_loss: 1348.2368\n",
      "Epoch 370/500\n",
      "25/25 [==============================] - 0s 5ms/step - loss: 178.5707 - val_loss: 1348.2368\n",
      "Epoch 371/500\n",
      "25/25 [==============================] - 0s 13ms/step - loss: 178.5708 - val_loss: 1348.2371\n",
      "Epoch 372/500\n",
      "25/25 [==============================] - 0s 8ms/step - loss: 178.5708 - val_loss: 1348.2371\n",
      "Epoch 373/500\n",
      "25/25 [==============================] - 0s 6ms/step - loss: 178.5708 - val_loss: 1348.2373\n",
      "Epoch 374/500\n",
      "25/25 [==============================] - 0s 6ms/step - loss: 178.5708 - val_loss: 1348.2377\n",
      "Epoch 375/500\n",
      "25/25 [==============================] - 0s 6ms/step - loss: 178.5708 - val_loss: 1348.2380\n",
      "Epoch 376/500\n",
      "25/25 [==============================] - 0s 6ms/step - loss: 178.5709 - val_loss: 1348.2382\n",
      "Epoch 377/500\n",
      "25/25 [==============================] - 0s 7ms/step - loss: 178.5709 - val_loss: 1348.2380\n",
      "Epoch 378/500\n",
      "25/25 [==============================] - 0s 6ms/step - loss: 178.5709 - val_loss: 1348.2380\n",
      "Epoch 379/500\n",
      "25/25 [==============================] - 0s 5ms/step - loss: 178.5709 - val_loss: 1348.2380\n",
      "Epoch 380/500\n",
      "25/25 [==============================] - 0s 6ms/step - loss: 178.5709 - val_loss: 1348.2377\n",
      "Epoch 381/500\n",
      "25/25 [==============================] - 0s 5ms/step - loss: 178.5709 - val_loss: 1348.2377\n",
      "Epoch 382/500\n",
      "25/25 [==============================] - 0s 5ms/step - loss: 178.5710 - val_loss: 1348.2380\n",
      "Epoch 383/500\n",
      "25/25 [==============================] - 0s 5ms/step - loss: 178.5710 - val_loss: 1348.2380\n",
      "Epoch 384/500\n",
      "25/25 [==============================] - 0s 5ms/step - loss: 178.5710 - val_loss: 1348.2382\n",
      "Epoch 385/500\n",
      "25/25 [==============================] - 0s 5ms/step - loss: 178.5710 - val_loss: 1348.2383\n",
      "Epoch 386/500\n",
      "25/25 [==============================] - 0s 5ms/step - loss: 178.5710 - val_loss: 1348.2383\n",
      "Epoch 387/500\n",
      "25/25 [==============================] - 0s 5ms/step - loss: 178.5710 - val_loss: 1348.2383\n",
      "Epoch 388/500\n",
      "25/25 [==============================] - 0s 5ms/step - loss: 178.5710 - val_loss: 1348.2382\n",
      "Epoch 389/500\n",
      "25/25 [==============================] - 0s 5ms/step - loss: 178.5710 - val_loss: 1348.2382\n",
      "Epoch 390/500\n",
      "25/25 [==============================] - 0s 5ms/step - loss: 178.5711 - val_loss: 1348.2382\n",
      "Epoch 391/500\n",
      "25/25 [==============================] - 0s 5ms/step - loss: 178.5710 - val_loss: 1348.2382\n",
      "Epoch 392/500\n",
      "25/25 [==============================] - 0s 5ms/step - loss: 178.5711 - val_loss: 1348.2380\n",
      "Epoch 393/500\n",
      "25/25 [==============================] - 0s 5ms/step - loss: 178.5711 - val_loss: 1348.2380\n",
      "Epoch 394/500\n",
      "25/25 [==============================] - 0s 5ms/step - loss: 178.5711 - val_loss: 1348.2377\n",
      "Epoch 395/500\n",
      "25/25 [==============================] - 0s 5ms/step - loss: 178.5711 - val_loss: 1348.2375\n",
      "Epoch 396/500\n",
      "25/25 [==============================] - 0s 8ms/step - loss: 178.5711 - val_loss: 1348.2368\n",
      "Epoch 397/500\n",
      "25/25 [==============================] - 0s 8ms/step - loss: 178.5712 - val_loss: 1348.2367\n",
      "Epoch 398/500\n",
      "25/25 [==============================] - 0s 6ms/step - loss: 178.5712 - val_loss: 1348.2366\n",
      "Epoch 399/500\n",
      "25/25 [==============================] - 0s 7ms/step - loss: 178.5712 - val_loss: 1348.2362\n",
      "Epoch 400/500\n",
      "25/25 [==============================] - 0s 6ms/step - loss: 178.5712 - val_loss: 1348.2356\n",
      "Epoch 401/500\n",
      "25/25 [==============================] - 0s 6ms/step - loss: 178.5712 - val_loss: 1348.2352\n",
      "Epoch 402/500\n",
      "25/25 [==============================] - 0s 5ms/step - loss: 178.5713 - val_loss: 1348.2346\n",
      "Epoch 403/500\n",
      "25/25 [==============================] - 0s 5ms/step - loss: 178.5713 - val_loss: 1348.2345\n",
      "Epoch 404/500\n",
      "25/25 [==============================] - 0s 5ms/step - loss: 178.5714 - val_loss: 1348.2345\n",
      "Epoch 405/500\n",
      "25/25 [==============================] - 0s 5ms/step - loss: 178.5714 - val_loss: 1348.2345\n",
      "Epoch 406/500\n",
      "25/25 [==============================] - 0s 8ms/step - loss: 178.5714 - val_loss: 1348.2345\n",
      "Epoch 407/500\n",
      "25/25 [==============================] - 0s 7ms/step - loss: 178.5714 - val_loss: 1348.2346\n",
      "Epoch 408/500\n",
      "25/25 [==============================] - 0s 6ms/step - loss: 178.5714 - val_loss: 1348.2346\n",
      "Epoch 409/500\n",
      "25/25 [==============================] - 0s 6ms/step - loss: 178.5714 - val_loss: 1348.2346\n",
      "Epoch 410/500\n",
      "25/25 [==============================] - 0s 5ms/step - loss: 178.5714 - val_loss: 1348.2346\n",
      "Epoch 411/500\n",
      "25/25 [==============================] - 0s 5ms/step - loss: 178.5714 - val_loss: 1348.2355\n",
      "Epoch 412/500\n",
      "25/25 [==============================] - 0s 5ms/step - loss: 178.5714 - val_loss: 1348.2357\n",
      "Epoch 413/500\n",
      "25/25 [==============================] - 0s 6ms/step - loss: 178.5714 - val_loss: 1348.2361\n",
      "Epoch 414/500\n",
      "25/25 [==============================] - 0s 6ms/step - loss: 178.5714 - val_loss: 1348.2366\n",
      "Epoch 415/500\n",
      "25/25 [==============================] - 0s 6ms/step - loss: 178.5714 - val_loss: 1348.2366\n",
      "Epoch 416/500\n",
      "25/25 [==============================] - 0s 8ms/step - loss: 178.5714 - val_loss: 1348.2366\n",
      "Epoch 417/500\n",
      "25/25 [==============================] - 0s 11ms/step - loss: 178.5714 - val_loss: 1348.2366\n",
      "Epoch 418/500\n",
      "25/25 [==============================] - 0s 7ms/step - loss: 178.5714 - val_loss: 1348.2366\n",
      "Epoch 419/500\n",
      "25/25 [==============================] - 0s 7ms/step - loss: 178.5714 - val_loss: 1348.2366\n",
      "Epoch 420/500\n",
      "25/25 [==============================] - 0s 6ms/step - loss: 178.5714 - val_loss: 1348.2368\n",
      "Epoch 421/500\n",
      "25/25 [==============================] - 0s 6ms/step - loss: 178.5714 - val_loss: 1348.2368\n",
      "Epoch 422/500\n",
      "25/25 [==============================] - 0s 7ms/step - loss: 178.5714 - val_loss: 1348.2372\n",
      "Epoch 423/500\n",
      "25/25 [==============================] - 0s 7ms/step - loss: 178.5714 - val_loss: 1348.2375\n",
      "Epoch 424/500\n",
      "25/25 [==============================] - 0s 6ms/step - loss: 178.5714 - val_loss: 1348.2375\n",
      "Epoch 425/500\n",
      "25/25 [==============================] - 0s 6ms/step - loss: 178.5714 - val_loss: 1348.2377\n",
      "Epoch 426/500\n",
      "25/25 [==============================] - 0s 6ms/step - loss: 178.5714 - val_loss: 1348.2377\n",
      "Epoch 427/500\n",
      "25/25 [==============================] - 0s 5ms/step - loss: 178.5714 - val_loss: 1348.2378\n",
      "Epoch 428/500\n",
      "25/25 [==============================] - 0s 5ms/step - loss: 178.5714 - val_loss: 1348.2380\n",
      "Epoch 429/500\n",
      "25/25 [==============================] - 0s 5ms/step - loss: 178.5714 - val_loss: 1348.2380\n",
      "Epoch 430/500\n",
      "25/25 [==============================] - 0s 4ms/step - loss: 178.5714 - val_loss: 1348.2380\n",
      "Epoch 431/500\n",
      "25/25 [==============================] - 0s 6ms/step - loss: 178.5714 - val_loss: 1348.2380\n",
      "Epoch 432/500\n",
      "25/25 [==============================] - 0s 6ms/step - loss: 178.5714 - val_loss: 1348.2377\n",
      "Epoch 433/500\n",
      "25/25 [==============================] - 0s 6ms/step - loss: 178.5714 - val_loss: 1348.2377\n",
      "Epoch 434/500\n",
      "25/25 [==============================] - 0s 6ms/step - loss: 178.5714 - val_loss: 1348.2375\n",
      "Epoch 435/500\n",
      "25/25 [==============================] - 0s 5ms/step - loss: 178.5714 - val_loss: 1348.2375\n",
      "Epoch 436/500\n",
      "25/25 [==============================] - 0s 5ms/step - loss: 178.5714 - val_loss: 1348.2375\n",
      "Epoch 437/500\n",
      "25/25 [==============================] - 0s 5ms/step - loss: 178.5714 - val_loss: 1348.2372\n",
      "Epoch 438/500\n",
      "25/25 [==============================] - 0s 10ms/step - loss: 178.5714 - val_loss: 1348.2372\n",
      "Epoch 439/500\n",
      "25/25 [==============================] - 0s 6ms/step - loss: 178.5714 - val_loss: 1348.2366\n",
      "Epoch 440/500\n",
      "25/25 [==============================] - 0s 8ms/step - loss: 178.5714 - val_loss: 1348.2361\n",
      "Epoch 441/500\n",
      "25/25 [==============================] - 0s 7ms/step - loss: 178.5715 - val_loss: 1348.2358\n",
      "Epoch 442/500\n",
      "25/25 [==============================] - 0s 6ms/step - loss: 178.5715 - val_loss: 1348.2352\n",
      "Epoch 443/500\n",
      "25/25 [==============================] - 0s 6ms/step - loss: 178.5715 - val_loss: 1348.2346\n",
      "Epoch 444/500\n",
      "25/25 [==============================] - 0s 6ms/step - loss: 178.5715 - val_loss: 1348.2345\n",
      "Epoch 445/500\n",
      "25/25 [==============================] - 0s 5ms/step - loss: 178.5716 - val_loss: 1348.2345\n",
      "Epoch 446/500\n",
      "25/25 [==============================] - 0s 5ms/step - loss: 178.5716 - val_loss: 1348.2345\n",
      "Epoch 447/500\n",
      "25/25 [==============================] - 0s 5ms/step - loss: 178.5716 - val_loss: 1348.2345\n",
      "Epoch 448/500\n",
      "25/25 [==============================] - 0s 6ms/step - loss: 178.5716 - val_loss: 1348.2345\n",
      "Epoch 449/500\n",
      "25/25 [==============================] - 0s 6ms/step - loss: 178.5716 - val_loss: 1348.2343\n",
      "Epoch 450/500\n",
      "25/25 [==============================] - 0s 5ms/step - loss: 178.5716 - val_loss: 1348.2343\n",
      "Epoch 451/500\n",
      "25/25 [==============================] - 0s 6ms/step - loss: 178.5716 - val_loss: 1348.2341\n",
      "Epoch 452/500\n",
      "25/25 [==============================] - 0s 6ms/step - loss: 178.5716 - val_loss: 1348.2341\n",
      "Epoch 453/500\n",
      "25/25 [==============================] - 0s 9ms/step - loss: 178.5716 - val_loss: 1348.2340\n",
      "Epoch 454/500\n",
      "25/25 [==============================] - 0s 7ms/step - loss: 178.5716 - val_loss: 1348.2338\n",
      "Epoch 455/500\n",
      "25/25 [==============================] - 0s 7ms/step - loss: 178.5716 - val_loss: 1348.2340\n",
      "Epoch 456/500\n",
      "25/25 [==============================] - 0s 6ms/step - loss: 178.5716 - val_loss: 1348.2340\n",
      "Epoch 457/500\n",
      "25/25 [==============================] - 0s 10ms/step - loss: 178.5716 - val_loss: 1348.2340\n",
      "Epoch 458/500\n",
      "25/25 [==============================] - 0s 7ms/step - loss: 178.5716 - val_loss: 1348.2340\n",
      "Epoch 459/500\n",
      "25/25 [==============================] - 0s 13ms/step - loss: 178.5716 - val_loss: 1348.2340\n",
      "Epoch 460/500\n",
      "25/25 [==============================] - 0s 6ms/step - loss: 178.5717 - val_loss: 1348.2341\n",
      "Epoch 461/500\n",
      "25/25 [==============================] - 0s 6ms/step - loss: 178.5716 - val_loss: 1348.2341\n",
      "Epoch 462/500\n",
      "25/25 [==============================] - 0s 6ms/step - loss: 178.5717 - val_loss: 1348.2341\n",
      "Epoch 463/500\n",
      "25/25 [==============================] - 0s 6ms/step - loss: 178.5717 - val_loss: 1348.2341\n",
      "Epoch 464/500\n",
      "25/25 [==============================] - 0s 7ms/step - loss: 178.5717 - val_loss: 1348.2346\n",
      "Epoch 465/500\n",
      "25/25 [==============================] - 0s 6ms/step - loss: 178.5717 - val_loss: 1348.2346\n",
      "Epoch 466/500\n",
      "25/25 [==============================] - 0s 6ms/step - loss: 178.5717 - val_loss: 1348.2350\n",
      "Epoch 467/500\n",
      "25/25 [==============================] - 0s 6ms/step - loss: 178.5717 - val_loss: 1348.2350\n",
      "Epoch 468/500\n",
      "25/25 [==============================] - 0s 7ms/step - loss: 178.5717 - val_loss: 1348.2352\n",
      "Epoch 469/500\n",
      "25/25 [==============================] - 0s 6ms/step - loss: 178.5716 - val_loss: 1348.2352\n",
      "Epoch 470/500\n",
      "25/25 [==============================] - 0s 6ms/step - loss: 178.5716 - val_loss: 1348.2356\n",
      "Epoch 471/500\n",
      "25/25 [==============================] - 0s 6ms/step - loss: 178.5716 - val_loss: 1348.2357\n",
      "Epoch 472/500\n",
      "25/25 [==============================] - 0s 5ms/step - loss: 178.5716 - val_loss: 1348.2361\n",
      "Epoch 473/500\n",
      "25/25 [==============================] - 0s 6ms/step - loss: 178.5716 - val_loss: 1348.2366\n",
      "Epoch 474/500\n",
      "25/25 [==============================] - 0s 6ms/step - loss: 178.5716 - val_loss: 1348.2367\n",
      "Epoch 475/500\n",
      "25/25 [==============================] - 0s 7ms/step - loss: 178.5716 - val_loss: 1348.2371\n",
      "Epoch 476/500\n",
      "25/25 [==============================] - 0s 8ms/step - loss: 178.5716 - val_loss: 1348.2375\n",
      "Epoch 477/500\n",
      "25/25 [==============================] - 0s 11ms/step - loss: 178.5716 - val_loss: 1348.2377\n",
      "Epoch 478/500\n",
      "25/25 [==============================] - 0s 11ms/step - loss: 178.5716 - val_loss: 1348.2378\n",
      "Epoch 479/500\n",
      "25/25 [==============================] - 0s 8ms/step - loss: 178.5715 - val_loss: 1348.2378\n",
      "Epoch 480/500\n",
      "25/25 [==============================] - 0s 7ms/step - loss: 178.5715 - val_loss: 1348.2380\n",
      "Epoch 481/500\n",
      "25/25 [==============================] - 0s 7ms/step - loss: 178.5715 - val_loss: 1348.2382\n",
      "Epoch 482/500\n",
      "25/25 [==============================] - 0s 7ms/step - loss: 178.5715 - val_loss: 1348.2383\n",
      "Epoch 483/500\n",
      "25/25 [==============================] - 0s 7ms/step - loss: 178.5715 - val_loss: 1348.2384\n",
      "Epoch 484/500\n",
      "25/25 [==============================] - 0s 7ms/step - loss: 178.5715 - val_loss: 1348.2388\n",
      "Epoch 485/500\n",
      "25/25 [==============================] - 0s 7ms/step - loss: 178.5715 - val_loss: 1348.2389\n",
      "Epoch 486/500\n",
      "25/25 [==============================] - 0s 7ms/step - loss: 178.5715 - val_loss: 1348.2389\n",
      "Epoch 487/500\n",
      "25/25 [==============================] - 0s 7ms/step - loss: 178.5715 - val_loss: 1348.2393\n",
      "Epoch 488/500\n",
      "25/25 [==============================] - 0s 7ms/step - loss: 178.5715 - val_loss: 1348.2394\n",
      "Epoch 489/500\n",
      "25/25 [==============================] - 0s 7ms/step - loss: 178.5715 - val_loss: 1348.2397\n",
      "Epoch 490/500\n",
      "25/25 [==============================] - 0s 6ms/step - loss: 178.5714 - val_loss: 1348.2401\n",
      "Epoch 491/500\n",
      "25/25 [==============================] - 0s 6ms/step - loss: 178.5714 - val_loss: 1348.2401\n",
      "Epoch 492/500\n",
      "25/25 [==============================] - 0s 5ms/step - loss: 178.5714 - val_loss: 1348.2401\n",
      "Epoch 493/500\n",
      "25/25 [==============================] - 0s 5ms/step - loss: 178.5714 - val_loss: 1348.2401\n",
      "Epoch 494/500\n",
      "25/25 [==============================] - 0s 5ms/step - loss: 178.5714 - val_loss: 1348.2401\n",
      "Epoch 495/500\n",
      "25/25 [==============================] - 0s 5ms/step - loss: 178.5714 - val_loss: 1348.2401\n",
      "Epoch 496/500\n",
      "25/25 [==============================] - 0s 7ms/step - loss: 178.5714 - val_loss: 1348.2401\n",
      "Epoch 497/500\n",
      "25/25 [==============================] - 0s 7ms/step - loss: 178.5714 - val_loss: 1348.2401\n",
      "Epoch 498/500\n",
      "25/25 [==============================] - 0s 6ms/step - loss: 178.5714 - val_loss: 1348.2401\n",
      "Epoch 499/500\n",
      "25/25 [==============================] - 0s 7ms/step - loss: 178.5714 - val_loss: 1348.2401\n",
      "Epoch 500/500\n",
      "25/25 [==============================] - 0s 6ms/step - loss: 178.5714 - val_loss: 1348.2401\n"
     ]
    }
   ],
   "source": [
    "C0 = tf.Variable(86.6465, name=\"C0\", trainable=True, dtype=tf.float32)\n",
    "K0 = tf.Variable(-0.0029, name=\"K0\", trainable=True, dtype=tf.float32)\n",
    "K1 = tf.Variable(-0.0003, name=\"K1\", trainable=True, dtype=tf.float32)\n",
    "a = tf.Variable(0.0000, name=\"a\", trainable=True, dtype=tf.float32)\n",
    "b = tf.Variable(0.0168, name=\"b\", trainable=True, dtype=tf.float32)\n",
    "c = tf.Variable(2.3581, name=\"c\", trainable=True, dtype=tf.float32)\n",
    "\n",
    "splitr = 0.8\n",
    "\n",
    "\n",
    "def loss_fn(y_true, y_pred):\n",
    "    squared_difference = tf.square(y_true[:, 0] - y_pred[:, 0])\n",
    "    #squared_difference2 = tf.square(y_true[:, 2]-y_pred[:, 2])\n",
    "    #squared_difference1 = tf.square(y_true[:, 1]-y_pred[:, 1])\n",
    "    epsilon = 1\n",
    "    squared_difference3 = tf.square(\n",
    "        y_pred[:, 1] - (\n",
    "            y_pred[:, 0] * (\n",
    "                K0 - K1 * (\n",
    "                    9 * a * tf.math.log((y_pred[:, 0] + epsilon) / C0) / (K0 - K1 * c)**2 +\n",
    "                    4 * b * tf.math.log((y_pred[:, 0] + epsilon) / C0) / (K0 - K1 * c) + c\n",
    "                )\n",
    "            )\n",
    "        )\n",
    "    )\n",
    "    return tf.reduce_mean(squared_difference, axis=-1) + 0.2*tf.reduce_mean(squared_difference3, axis=-1)\n",
    "model = Sequential()\n",
    "model.add(LSTM(100, input_shape=(trainX.shape[1], trainX.shape[2])))\n",
    "model.add(Dense(60))\n",
    "model.compile(loss=loss_fn, optimizer='adam')\n",
    "history = model.fit(trainX[:int(splitr*trainX.shape[0])], trainy[:int(splitr*trainX.shape[0])], epochs=500, batch_size=64, validation_data=(trainX[int(splitr*trainX.shape[0]):trainX.shape[0]], trainy[int(splitr*trainX.shape[0]):trainX.shape[0]]), shuffle=False)"
   ]
  },
  {
   "cell_type": "code",
   "execution_count": 19,
   "metadata": {
    "colab": {
     "base_uri": "https://localhost:8080/"
    },
    "id": "yJL101rPyuoT",
    "outputId": "239ff2b1-c186-423a-d316-939dfdd7c793"
   },
   "outputs": [
    {
     "name": "stdout",
     "output_type": "stream",
     "text": [
      "1/1 [==============================] - 0s 477ms/step\n"
     ]
    }
   ],
   "source": [
    "forecast_without_mc = forecastX\n",
    "yhat_without_mc = model.predict(forecast_without_mc) # Step Ahead Prediction\n",
    "forecast_without_mc = forecast_without_mc.reshape((forecast_without_mc.shape[0], forecast_without_mc.shape[2])) # Historical Input"
   ]
  },
  {
   "cell_type": "code",
   "execution_count": 20,
   "metadata": {
    "colab": {
     "base_uri": "https://localhost:8080/"
    },
    "id": "g9dQELcJ8wbp",
    "outputId": "4dc7671b-b1a8-48d5-8744-a86f98446109"
   },
   "outputs": [
    {
     "data": {
      "text/plain": [
       "(1, 1, 251)"
      ]
     },
     "execution_count": 20,
     "metadata": {},
     "output_type": "execute_result"
    }
   ],
   "source": [
    "forecastX.shape"
   ]
  },
  {
   "cell_type": "code",
   "execution_count": 21,
   "metadata": {
    "colab": {
     "base_uri": "https://localhost:8080/"
    },
    "id": "IS2kyIKG1Kbr",
    "outputId": "f31b3485-8e26-452f-9298-ea8bf7e80ad1"
   },
   "outputs": [
    {
     "data": {
      "text/plain": [
       "(1, 251)"
      ]
     },
     "execution_count": 21,
     "metadata": {},
     "output_type": "execute_result"
    }
   ],
   "source": [
    "forecast_without_mc.shape"
   ]
  },
  {
   "cell_type": "code",
   "execution_count": 22,
   "metadata": {
    "id": "0u6VIzaDyuoT"
   },
   "outputs": [],
   "source": [
    "inv_yhat_without_mc = np.concatenate((forecast_without_mc, yhat_without_mc), axis=1) # Concatenation of predicted values with Historical Data\n",
    "#inv_yhat_without_mc = scaler.inverse_transform(inv_yhat_without_mc) # Transform labels back to original encoding"
   ]
  },
  {
   "cell_type": "code",
   "execution_count": 23,
   "metadata": {
    "colab": {
     "base_uri": "https://localhost:8080/"
    },
    "id": "EUEcw0LX07oU",
    "outputId": "cfc32397-9c37-4b43-d087-584bb31c3dcc"
   },
   "outputs": [
    {
     "data": {
      "text/plain": [
       "(1, 311)"
      ]
     },
     "execution_count": 23,
     "metadata": {},
     "output_type": "execute_result"
    }
   ],
   "source": [
    "inv_yhat_without_mc.shape"
   ]
  },
  {
   "cell_type": "code",
   "execution_count": 24,
   "metadata": {
    "id": "31OWVbSh_305"
   },
   "outputs": [],
   "source": [
    "fforecast = inv_yhat_without_mc[:,-300:]"
   ]
  },
  {
   "cell_type": "code",
   "execution_count": 25,
   "metadata": {},
   "outputs": [
    {
     "data": {
      "text/plain": [
       "(1, 300)"
      ]
     },
     "execution_count": 25,
     "metadata": {},
     "output_type": "execute_result"
    }
   ],
   "source": [
    "fforecast.shape"
   ]
  },
  {
   "cell_type": "code",
   "execution_count": 26,
   "metadata": {
    "id": "BlpGH2FOAiRF"
   },
   "outputs": [],
   "source": [
    "final_forecast = fforecast[:,0:300:3]"
   ]
  },
  {
   "cell_type": "code",
   "execution_count": 27,
   "metadata": {},
   "outputs": [
    {
     "data": {
      "text/plain": [
       "(1, 300)"
      ]
     },
     "execution_count": 27,
     "metadata": {},
     "output_type": "execute_result"
    }
   ],
   "source": [
    "fforecast.shape"
   ]
  },
  {
   "cell_type": "code",
   "execution_count": 28,
   "metadata": {
    "id": "CXkgkj_LBk_t"
   },
   "outputs": [],
   "source": [
    "# code to replace all negative value with 0\n",
    "final_forecast[final_forecast<0] = 0"
   ]
  },
  {
   "cell_type": "code",
   "execution_count": 29,
   "metadata": {},
   "outputs": [
    {
     "data": {
      "text/plain": [
       "array([[6.23843837e+01, 6.23591737e+01, 6.23339636e+01, 6.23087535e+01,\n",
       "        6.91144409e+01, 3.32957830e-01, 2.89757130e-01, 5.09254280e-01,\n",
       "        2.84271660e-01, 0.00000000e+00, 0.00000000e+00, 0.00000000e+00,\n",
       "        1.48248720e-01, 6.26712185e+01, 6.24443277e+01, 6.23797152e+01,\n",
       "        0.00000000e+00, 9.36131420e-01, 6.32174370e+01, 6.29905462e+01,\n",
       "        6.27636555e+01, 6.25367647e+01, 6.23899860e+01, 6.23647759e+01,\n",
       "        6.23395658e+01, 6.23143557e+01, 6.22240196e+01, 5.98464790e-01,\n",
       "        1.02453041e+00, 6.24023109e+01, 6.23750467e+01, 6.23498366e+01,\n",
       "        6.23246265e+01, 6.22959150e+01, 6.21194444e+01, 6.19429739e+01,\n",
       "        6.17665033e+01, 6.15951587e+01, 2.12358180e-01, 0.00000000e+00,\n",
       "        4.00981660e-01, 0.00000000e+00, 0.00000000e+00, 4.54650400e-01,\n",
       "        0.00000000e+00, 7.51809900e-02, 2.82301490e-01, 6.23199580e+01,\n",
       "        6.22632353e+01, 0.00000000e+00, 5.97582459e-01, 6.24527311e+01,\n",
       "        6.23806489e+01, 6.23554388e+01, 6.23302288e+01, 6.23050187e+01,\n",
       "        6.21586601e+01, 6.19821895e+01, 6.18057189e+01, 6.16292484e+01,\n",
       "        1.05700340e-01, 0.00000000e+00, 6.23152895e+01, 6.22305556e+01,\n",
       "        6.22054085e+01, 6.21877614e+01, 6.21701144e+01, 6.39678105e+01,\n",
       "        6.34383987e+01, 6.27972689e+01, 0.00000000e+00, 1.03494644e-01,\n",
       "        6.49816620e-02, 5.22042122e+01, 1.86739072e-01, 0.00000000e+00,\n",
       "        6.10181570e-01, 4.14854854e-01, 0.00000000e+00, 3.23886007e-01,\n",
       "        6.05423584e+01, 4.09309447e-01, 1.38536859e+00, 5.56463540e-01,\n",
       "        0.00000000e+00, 0.00000000e+00, 1.40732422e-01, 1.76612988e-01,\n",
       "        0.00000000e+00, 9.70736593e-02, 0.00000000e+00, 6.97304964e-01,\n",
       "        0.00000000e+00, 0.00000000e+00, 6.20219469e-01, 7.64393032e-01,\n",
       "        0.00000000e+00, 6.98342770e-02, 0.00000000e+00, 6.10190690e-01]])"
      ]
     },
     "execution_count": 29,
     "metadata": {},
     "output_type": "execute_result"
    }
   ],
   "source": [
    "final_forecast"
   ]
  },
  {
   "cell_type": "code",
   "execution_count": 30,
   "metadata": {},
   "outputs": [
    {
     "data": {
      "text/plain": [
       "(1, 100)"
      ]
     },
     "execution_count": 30,
     "metadata": {},
     "output_type": "execute_result"
    }
   ],
   "source": [
    "final_forecast.shape"
   ]
  },
  {
   "cell_type": "code",
   "execution_count": 31,
   "metadata": {},
   "outputs": [
    {
     "data": {
      "text/plain": [
       "(100,)"
      ]
     },
     "execution_count": 31,
     "metadata": {},
     "output_type": "execute_result"
    }
   ],
   "source": [
    "test.shape"
   ]
  },
  {
   "cell_type": "code",
   "execution_count": 32,
   "metadata": {},
   "outputs": [],
   "source": [
    "training_set = np.array(training_set)\n",
    "test = np.array(test)\n",
    "final_forecast = np.array(final_forecast.squeeze(0))"
   ]
  },
  {
   "cell_type": "code",
   "execution_count": 33,
   "metadata": {},
   "outputs": [
    {
     "data": {
      "text/plain": [
       "array([53.06575118, 53.05700622, 53.04826126, 53.03951629, 53.03077133,\n",
       "       53.02202637, 53.01328141, 53.00453645, 52.99579149, 52.98704653,\n",
       "       52.97830156, 52.9695566 , 52.96081164, 52.95206668, 52.94332172,\n",
       "       52.93457676, 52.9258318 , 52.91708683, 52.90834187, 52.89959691,\n",
       "       52.89085195, 52.88210699, 52.87336203, 52.86461707, 52.8558721 ,\n",
       "       52.84712714, 52.83838218, 52.82963722, 52.82089226, 52.8121473 ,\n",
       "       52.80340234, 52.79465738, 52.78591241, 52.77716745, 52.76842249,\n",
       "       52.75967753, 52.75093257, 52.74218761, 52.73344265, 52.72469768,\n",
       "       52.71595272, 52.70720776, 52.6984628 , 52.68971784, 52.68097288,\n",
       "       52.67222792, 52.66348295, 52.65473799, 52.64599303, 52.63724807,\n",
       "       52.62850311, 52.61975815, 52.61101319, 52.60226822, 52.59352326,\n",
       "       52.5847783 , 52.57603334, 52.56728838, 52.55854342, 52.54979846,\n",
       "       52.54105349, 52.53230853, 52.52356357, 52.51481861, 52.50607365,\n",
       "       52.49732869, 52.48858373, 52.47983876, 52.4710938 , 52.46234884,\n",
       "       52.45360388, 52.44485892, 52.43611396, 52.427369  , 52.41862403,\n",
       "       52.40987907, 52.40113411, 52.39238915, 52.38364419, 52.37489923,\n",
       "       52.36615427, 52.35740931, 52.34866434, 52.33991938, 52.33117442,\n",
       "       52.32242946, 52.3136845 , 52.30493954, 52.29619458, 52.28744961,\n",
       "       52.27870465, 52.26995969, 52.26121473, 52.25246977, 52.24372481,\n",
       "       52.23497985, 52.22623488, 52.21748992, 52.20874496, 52.2       ])"
      ]
     },
     "execution_count": 33,
     "metadata": {},
     "output_type": "execute_result"
    }
   ],
   "source": [
    "test"
   ]
  },
  {
   "cell_type": "code",
   "execution_count": 34,
   "metadata": {},
   "outputs": [
    {
     "data": {
      "text/plain": [
       "(100,)"
      ]
     },
     "execution_count": 34,
     "metadata": {},
     "output_type": "execute_result"
    }
   ],
   "source": [
    "test.shape"
   ]
  },
  {
   "cell_type": "code",
   "execution_count": 35,
   "metadata": {},
   "outputs": [
    {
     "data": {
      "text/plain": [
       "(100,)"
      ]
     },
     "execution_count": 35,
     "metadata": {},
     "output_type": "execute_result"
    }
   ],
   "source": [
    "final_forecast.shape"
   ]
  },
  {
   "cell_type": "code",
   "execution_count": 36,
   "metadata": {},
   "outputs": [
    {
     "data": {
      "text/plain": [
       "(100,)"
      ]
     },
     "execution_count": 36,
     "metadata": {},
     "output_type": "execute_result"
    }
   ],
   "source": [
    "test.shape"
   ]
  },
  {
   "cell_type": "code",
   "execution_count": 37,
   "metadata": {},
   "outputs": [
    {
     "name": "stdout",
     "output_type": "stream",
     "text": [
      "38.64810520635306\n",
      "32.20147122957222\n"
     ]
    }
   ],
   "source": [
    "import math\n",
    "MSE = np.square(np.subtract(np.array(test),np.array(final_forecast))).mean()   \n",
    "rsme = math.sqrt(MSE)\n",
    "print(rsme)  \n",
    "MAE = np.abs(np.subtract(np.array(test),np.array(final_forecast))).mean()   \n",
    "mae = MAE\n",
    "print(mae)"
   ]
  }
 ],
 "metadata": {
  "colab": {
   "provenance": []
  },
  "kernelspec": {
   "display_name": "Python 3",
   "language": "python",
   "name": "python3"
  },
  "language_info": {
   "codemirror_mode": {
    "name": "ipython",
    "version": 3
   },
   "file_extension": ".py",
   "mimetype": "text/x-python",
   "name": "python",
   "nbconvert_exporter": "python",
   "pygments_lexer": "ipython3",
   "version": "3.9.13"
  }
 },
 "nbformat": 4,
 "nbformat_minor": 0
}
