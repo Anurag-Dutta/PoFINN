{
 "cells": [
  {
   "cell_type": "markdown",
   "metadata": {
    "id": "pCGKeZ2gyuoQ"
   },
   "source": [
    "_Importing Required Libraries_"
   ]
  },
  {
   "cell_type": "code",
   "execution_count": 1,
   "metadata": {
    "colab": {
     "base_uri": "https://localhost:8080/"
    },
    "id": "A-6LN-zXiLcM",
    "outputId": "4de610a4-f8b8-4f49-c6c0-89de299ccedc"
   },
   "outputs": [
    {
     "name": "stdout",
     "output_type": "stream",
     "text": [
      "Requirement already satisfied: hampel in c:\\users\\anurag dutta\\appdata\\local\\packages\\pythonsoftwarefoundation.python.3.9_qbz5n2kfra8p0\\localcache\\local-packages\\python39\\site-packages (0.0.5)\n",
      "Requirement already satisfied: numpy in c:\\users\\anurag dutta\\appdata\\local\\packages\\pythonsoftwarefoundation.python.3.9_qbz5n2kfra8p0\\localcache\\local-packages\\python39\\site-packages (from hampel) (1.26.4)\n",
      "Requirement already satisfied: pandas in c:\\users\\anurag dutta\\appdata\\local\\packages\\pythonsoftwarefoundation.python.3.9_qbz5n2kfra8p0\\localcache\\local-packages\\python39\\site-packages (from hampel) (1.5.2)\n",
      "Requirement already satisfied: python-dateutil>=2.8.1 in c:\\users\\anurag dutta\\appdata\\local\\packages\\pythonsoftwarefoundation.python.3.9_qbz5n2kfra8p0\\localcache\\local-packages\\python39\\site-packages (from pandas->hampel) (2.8.2)\n",
      "Requirement already satisfied: pytz>=2020.1 in c:\\users\\anurag dutta\\appdata\\local\\packages\\pythonsoftwarefoundation.python.3.9_qbz5n2kfra8p0\\localcache\\local-packages\\python39\\site-packages (from pandas->hampel) (2023.3.post1)\n",
      "Requirement already satisfied: six>=1.5 in c:\\users\\anurag dutta\\appdata\\local\\packages\\pythonsoftwarefoundation.python.3.9_qbz5n2kfra8p0\\localcache\\local-packages\\python39\\site-packages (from python-dateutil>=2.8.1->pandas->hampel) (1.16.0)\n",
      "Note: you may need to restart the kernel to use updated packages.\n"
     ]
    },
    {
     "name": "stderr",
     "output_type": "stream",
     "text": [
      "\n",
      "[notice] A new release of pip is available: 24.2 -> 24.3.1\n",
      "[notice] To update, run: C:\\Users\\Anurag Dutta\\AppData\\Local\\Microsoft\\WindowsApps\\PythonSoftwareFoundation.Python.3.9_qbz5n2kfra8p0\\python.exe -m pip install --upgrade pip\n"
     ]
    }
   ],
   "source": [
    "pip install hampel"
   ]
  },
  {
   "cell_type": "code",
   "execution_count": 2,
   "metadata": {
    "id": "By_d9uXpaFvZ"
   },
   "outputs": [],
   "source": [
    "from keras.models import Sequential\n",
    "from keras.layers import Dense\n",
    "from keras.layers import LSTM\n",
    "from keras.layers import Dropout\n",
    "import keras\n",
    "import tensorflow as tf\n",
    "from hampel import hampel\n",
    "import numpy as np\n",
    "import matplotlib.pyplot as plt\n",
    "import pandas as pd\n",
    "from sklearn.preprocessing import MinMaxScaler\n",
    "from sklearn.metrics import mean_squared_error, mean_absolute_error\n",
    "from math import sqrt\n",
    "from matplotlib import pyplot\n",
    "from numpy import array"
   ]
  },
  {
   "cell_type": "markdown",
   "metadata": {
    "id": "JyOjBMFayuoR"
   },
   "source": [
    "## Pretraining"
   ]
  },
  {
   "cell_type": "markdown",
   "metadata": {
    "id": "-5QqIY_GyuoR"
   },
   "source": [
    "The `capa_intermittency.dat` feeds the model with the dynamics of the Capacitor"
   ]
  },
  {
   "cell_type": "code",
   "execution_count": 3,
   "metadata": {
    "id": "9dV4a8yfyuoR"
   },
   "outputs": [],
   "source": [
    "data = np.genfromtxt('capa_intermittency.dat')\n",
    "training_set = pd.DataFrame(data).reset_index(drop=True)\n",
    "training_set = training_set.iloc[:,0]"
   ]
  },
  {
   "cell_type": "markdown",
   "metadata": {
    "id": "i7easoxByuoR"
   },
   "source": [
    "## Computing the Gradient"
   ]
  },
  {
   "cell_type": "markdown",
   "metadata": {
    "id": "5SnyolJTyuoR"
   },
   "source": [
    "_Calculating the value of_ $\\frac{dx}{dt}$"
   ]
  },
  {
   "cell_type": "code",
   "execution_count": 4,
   "metadata": {
    "colab": {
     "base_uri": "https://localhost:8080/"
    },
    "id": "wmIbVfIvyuoR",
    "outputId": "aa4e3136-c854-465d-d2e9-81cfd546e440"
   },
   "outputs": [
    {
     "name": "stdout",
     "output_type": "stream",
     "text": [
      "1.0\n",
      "1        0.000298\n",
      "2        0.000298\n",
      "3        0.000297\n",
      "4        0.000297\n",
      "5        0.000297\n",
      "           ...   \n",
      "9996     0.000018\n",
      "9997     0.000018\n",
      "9998     0.000018\n",
      "9999     0.000018\n",
      "10000    0.000018\n",
      "Name: 0, Length: 10000, dtype: float64\n"
     ]
    }
   ],
   "source": [
    "t_diff = 1\n",
    "print(training_set.max())\n",
    "gradient_t = (training_set.diff()/t_diff).iloc[1:] # dx/dt\n",
    "print(gradient_t)"
   ]
  },
  {
   "cell_type": "markdown",
   "metadata": {
    "id": "_2eVeeoxyuoS"
   },
   "source": [
    "## Loading Datasets"
   ]
  },
  {
   "cell_type": "code",
   "execution_count": 5,
   "metadata": {
    "id": "0J-NKyIEyuoS"
   },
   "outputs": [
    {
     "data": {
      "text/plain": [
       "0       89.200000\n",
       "1       88.931092\n",
       "2       88.662185\n",
       "3       88.393277\n",
       "4       88.124370\n",
       "          ...    \n",
       "2395    53.109476\n",
       "2396    53.100731\n",
       "2397    53.091986\n",
       "2398    53.083241\n",
       "2399    53.074496\n",
       "Name: C1, Length: 2400, dtype: float64"
      ]
     },
     "execution_count": 5,
     "metadata": {},
     "output_type": "execute_result"
    }
   ],
   "source": [
    "data = pd.read_csv(\"c1_interpolated_2300_100.csv\")\n",
    "training_set = data.iloc[:, 1]\n",
    "training_set"
   ]
  },
  {
   "cell_type": "code",
   "execution_count": 6,
   "metadata": {
    "colab": {
     "base_uri": "https://localhost:8080/"
    },
    "id": "-CbNUhJ74UqF",
    "outputId": "20f562d8-8247-49cc-b9c3-00eca5e13e2d"
   },
   "outputs": [
    {
     "data": {
      "text/plain": [
       "0       89.200000\n",
       "1       88.931092\n",
       "2       88.662185\n",
       "3       88.393277\n",
       "4       88.124370\n",
       "          ...    \n",
       "2295     0.000000\n",
       "2296     0.000000\n",
       "2297     0.312611\n",
       "2298     1.028141\n",
       "2299     0.000000\n",
       "Name: C1, Length: 2300, dtype: float64"
      ]
     },
     "execution_count": 6,
     "metadata": {},
     "output_type": "execute_result"
    }
   ],
   "source": [
    "test = training_set.tail(100)\n",
    "test\n",
    "training_set = training_set.head(2300)\n",
    "training_set"
   ]
  },
  {
   "cell_type": "code",
   "execution_count": 7,
   "metadata": {
    "colab": {
     "base_uri": "https://localhost:8080/"
    },
    "id": "X0TwTcq0yuoS",
    "outputId": "37252ed8-d88e-4044-fa7a-922411990b5b"
   },
   "outputs": [
    {
     "name": "stdout",
     "output_type": "stream",
     "text": [
      "0       0.000298\n",
      "1       0.000298\n",
      "2       0.000297\n",
      "3       0.000297\n",
      "4       0.000297\n",
      "          ...   \n",
      "9995    0.000018\n",
      "9996    0.000018\n",
      "9997    0.000018\n",
      "9998    0.000018\n",
      "9999    0.000018\n",
      "Name: 0, Length: 10000, dtype: float64\n"
     ]
    }
   ],
   "source": [
    "training_set = training_set.reset_index(drop=True)\n",
    "gradient_t = gradient_t.reset_index(drop=True)\n",
    "print(gradient_t)"
   ]
  },
  {
   "cell_type": "code",
   "execution_count": 8,
   "metadata": {
    "id": "O2biznZQyuoS"
   },
   "outputs": [],
   "source": [
    "df = pd.concat((training_set, gradient_t), axis=1)\n",
    "df.columns = ['y_t', 'grad_t']"
   ]
  },
  {
   "cell_type": "code",
   "execution_count": 9,
   "metadata": {
    "colab": {
     "base_uri": "https://localhost:8080/",
     "height": 423
    },
    "id": "sk_a5v3tyuoS",
    "outputId": "17563625-e550-45ae-faab-fafa353e44da"
   },
   "outputs": [
    {
     "data": {
      "text/html": [
       "<div>\n",
       "<style scoped>\n",
       "    .dataframe tbody tr th:only-of-type {\n",
       "        vertical-align: middle;\n",
       "    }\n",
       "\n",
       "    .dataframe tbody tr th {\n",
       "        vertical-align: top;\n",
       "    }\n",
       "\n",
       "    .dataframe thead th {\n",
       "        text-align: right;\n",
       "    }\n",
       "</style>\n",
       "<table border=\"1\" class=\"dataframe\">\n",
       "  <thead>\n",
       "    <tr style=\"text-align: right;\">\n",
       "      <th></th>\n",
       "      <th>y_t</th>\n",
       "      <th>grad_t</th>\n",
       "    </tr>\n",
       "  </thead>\n",
       "  <tbody>\n",
       "    <tr>\n",
       "      <th>0</th>\n",
       "      <td>89.200000</td>\n",
       "      <td>0.000298</td>\n",
       "    </tr>\n",
       "    <tr>\n",
       "      <th>1</th>\n",
       "      <td>88.931092</td>\n",
       "      <td>0.000298</td>\n",
       "    </tr>\n",
       "    <tr>\n",
       "      <th>2</th>\n",
       "      <td>88.662185</td>\n",
       "      <td>0.000297</td>\n",
       "    </tr>\n",
       "    <tr>\n",
       "      <th>3</th>\n",
       "      <td>88.393277</td>\n",
       "      <td>0.000297</td>\n",
       "    </tr>\n",
       "    <tr>\n",
       "      <th>4</th>\n",
       "      <td>88.124370</td>\n",
       "      <td>0.000297</td>\n",
       "    </tr>\n",
       "    <tr>\n",
       "      <th>...</th>\n",
       "      <td>...</td>\n",
       "      <td>...</td>\n",
       "    </tr>\n",
       "    <tr>\n",
       "      <th>9995</th>\n",
       "      <td>NaN</td>\n",
       "      <td>0.000018</td>\n",
       "    </tr>\n",
       "    <tr>\n",
       "      <th>9996</th>\n",
       "      <td>NaN</td>\n",
       "      <td>0.000018</td>\n",
       "    </tr>\n",
       "    <tr>\n",
       "      <th>9997</th>\n",
       "      <td>NaN</td>\n",
       "      <td>0.000018</td>\n",
       "    </tr>\n",
       "    <tr>\n",
       "      <th>9998</th>\n",
       "      <td>NaN</td>\n",
       "      <td>0.000018</td>\n",
       "    </tr>\n",
       "    <tr>\n",
       "      <th>9999</th>\n",
       "      <td>NaN</td>\n",
       "      <td>0.000018</td>\n",
       "    </tr>\n",
       "  </tbody>\n",
       "</table>\n",
       "<p>10000 rows × 2 columns</p>\n",
       "</div>"
      ],
      "text/plain": [
       "            y_t    grad_t\n",
       "0     89.200000  0.000298\n",
       "1     88.931092  0.000298\n",
       "2     88.662185  0.000297\n",
       "3     88.393277  0.000297\n",
       "4     88.124370  0.000297\n",
       "...         ...       ...\n",
       "9995        NaN  0.000018\n",
       "9996        NaN  0.000018\n",
       "9997        NaN  0.000018\n",
       "9998        NaN  0.000018\n",
       "9999        NaN  0.000018\n",
       "\n",
       "[10000 rows x 2 columns]"
      ]
     },
     "execution_count": 9,
     "metadata": {},
     "output_type": "execute_result"
    }
   ],
   "source": [
    "df"
   ]
  },
  {
   "cell_type": "markdown",
   "metadata": {
    "id": "-5esyHu5aFvg"
   },
   "source": [
    "## Plot of the External Forcing from Chaotic Differential Equation"
   ]
  },
  {
   "cell_type": "code",
   "execution_count": 10,
   "metadata": {
    "colab": {
     "base_uri": "https://localhost:8080/",
     "height": 447
    },
    "id": "hGnE43tOh-4p",
    "outputId": "fc396503-b624-4fa5-dfbe-f460207405c6"
   },
   "outputs": [
    {
     "data": {
      "text/plain": [
       "<Axes: >"
      ]
     },
     "execution_count": 10,
     "metadata": {},
     "output_type": "execute_result"
    },
    {
     "data": {
      "image/png": "[encoded data removed]",
      "text/plain": [
       "<Figure size 432x288 with 1 Axes>"
      ]
     },
     "metadata": {
      "needs_background": "light"
     },
     "output_type": "display_data"
    }
   ],
   "source": [
    "df.iloc[:, 0].plot()"
   ]
  },
  {
   "cell_type": "code",
   "execution_count": 11,
   "metadata": {
    "colab": {
     "base_uri": "https://localhost:8080/",
     "height": 447
    },
    "id": "ym4xWUUxaFvg",
    "outputId": "ae6a3495-8ce9-437e-ba81-3ed31deedeae"
   },
   "outputs": [
    {
     "name": "stderr",
     "output_type": "stream",
     "text": [
      "C:\\Users\\Anurag Dutta\\AppData\\Local\\Packages\\PythonSoftwareFoundation.Python.3.9_qbz5n2kfra8p0\\LocalCache\\local-packages\\Python39\\site-packages\\pandas\\core\\arraylike.py:402: RuntimeWarning: divide by zero encountered in log\n",
      "  result = getattr(ufunc, method)(*inputs, **kwargs)\n"
     ]
    },
    {
     "data": {
      "text/plain": [
       "<Axes: >"
      ]
     },
     "execution_count": 11,
     "metadata": {},
     "output_type": "execute_result"
    },
    {
     "data": {
      "image/png": "[encoded data removed]",
      "text/plain": [
       "<Figure size 432x288 with 1 Axes>"
      ]
     },
     "metadata": {
      "needs_background": "light"
     },
     "output_type": "display_data"
    }
   ],
   "source": [
    "import numpy as np\n",
    "c0 = 86.6465  # Value for C0\n",
    "K0 = -0.0029  # Value for K0\n",
    "K1 = -0.0003  # Value for K1\n",
    "a = 0.0000    # Value for a\n",
    "b = 0.0168    # Value for b\n",
    "c = 2.3581    # Value for c\n",
    "\n",
    "L = np.minimum(c0, (df.iloc[:, 1] - (df.iloc[:, 0] * (K0 - K1 * (9 * a * np.log(df.iloc[:, 0] / c0) / (K0 - K1 * c)**2 + 4 * b * np.log(df.iloc[:, 0] / c0) / (K0 - K1 * c) + c)))))\n",
    "L.plot()"
   ]
  },
  {
   "cell_type": "markdown",
   "metadata": {
    "id": "9VyEywnwaFvh"
   },
   "source": [
    "## Preprocessing the data into supervised learning"
   ]
  },
  {
   "cell_type": "code",
   "execution_count": 12,
   "metadata": {
    "id": "6V9dXqzdaFvh"
   },
   "outputs": [],
   "source": [
    "# split a sequence into samples\n",
    "def Supervised(data, n_in=1, n_out=1, dropnan=True):\n",
    "    n_vars = 1 if type(data) is list else data.shape[1]\n",
    "    df = pd.DataFrame(data)\n",
    "    cols, names = list(), list()\n",
    "    # input sequence (t-n_in, ... t-1)\n",
    "    for i in range(n_in, 0, -1):\n",
    "        cols.append(df.shift(i))\n",
    "        names += [('var%d(t-%d)' % (j+1, i)) for j in range(n_vars)]\n",
    "    # forecast sequence (t, t+1, ... t+n_out)\n",
    "    for i in range(0, n_out):\n",
    "      cols.append(df.shift(-i))\n",
    "      if i == 0:\n",
    "        names += [('var%d(t)' % (j+1)) for j in range(n_vars)]\n",
    "      else:\n",
    "        names += [('var%d(t+%d)' % (j+1, i)) for j in range(n_vars)]\n",
    "    # put it all together\n",
    "    agg = pd.concat(cols, axis=1)\n",
    "    agg.columns = names\n",
    "    # drop rows with NaN values\n",
    "    if dropnan:\n",
    "       agg.dropna(inplace=True)\n",
    "    return agg"
   ]
  },
  {
   "cell_type": "code",
   "execution_count": 13,
   "metadata": {
    "colab": {
     "base_uri": "https://localhost:8080/"
    },
    "id": "CrzSrT1HnyfH",
    "outputId": "7e75f928-3e47-499d-eac1-51908015ef78"
   },
   "outputs": [
    {
     "name": "stdout",
     "output_type": "stream",
     "text": [
      "     var1(t-350)  var1(t-349)  var1(t-348)  var1(t-347)  var1(t-346)  \\\n",
      "350    89.200000    88.931092    88.662185    88.393277    88.124370   \n",
      "351    88.931092    88.662185    88.393277    88.124370    87.855462   \n",
      "352    88.662185    88.393277    88.124370    87.855462    87.586555   \n",
      "353    88.393277    88.124370    87.855462    87.586555    87.317647   \n",
      "354    88.124370    87.855462    87.586555    87.317647    87.048739   \n",
      "\n",
      "     var1(t-345)  var1(t-344)  var1(t-343)  var1(t-342)  var1(t-341)  ...  \\\n",
      "350    87.855462    87.586555    87.317647    87.048739    86.794538  ...   \n",
      "351    87.586555    87.317647    87.048739    86.794538    86.721709  ...   \n",
      "352    87.317647    87.048739    86.794538    86.721709    86.648880  ...   \n",
      "353    87.048739    86.794538    86.721709    86.648880    86.576050  ...   \n",
      "354    86.794538    86.721709    86.648880    86.576050    86.503221  ...   \n",
      "\n",
      "     var1(t+95)  var2(t+95)  var1(t+96)  var2(t+96)  var1(t+97)  var2(t+97)  \\\n",
      "350   73.989683    0.000263   73.957937    0.000263   73.926190    0.000263   \n",
      "351   73.957937    0.000263   73.926190    0.000263   73.894444    0.000262   \n",
      "352   73.926190    0.000263   73.894444    0.000262   73.862698    0.000262   \n",
      "353   73.894444    0.000262   73.862698    0.000262   73.830952    0.000262   \n",
      "354   73.862698    0.000262   73.830952    0.000262   73.799206    0.000262   \n",
      "\n",
      "     var1(t+98)  var2(t+98)  var1(t+99)  var2(t+99)  \n",
      "350   73.894444    0.000262   73.862698    0.000262  \n",
      "351   73.862698    0.000262   73.830952    0.000262  \n",
      "352   73.830952    0.000262   73.799206    0.000262  \n",
      "353   73.799206    0.000262   73.767460    0.000262  \n",
      "354   73.767460    0.000262   73.735714    0.000262  \n",
      "\n",
      "[5 rows x 551 columns]\n",
      "Index(['var1(t-350)', 'var1(t-349)', 'var1(t-348)', 'var1(t-347)',\n",
      "       'var1(t-346)', 'var1(t-345)', 'var1(t-344)', 'var1(t-343)',\n",
      "       'var1(t-342)', 'var1(t-341)',\n",
      "       ...\n",
      "       'var1(t+95)', 'var2(t+95)', 'var1(t+96)', 'var2(t+96)', 'var1(t+97)',\n",
      "       'var2(t+97)', 'var1(t+98)', 'var2(t+98)', 'var1(t+99)', 'var2(t+99)'],\n",
      "      dtype='object', length=551)\n"
     ]
    }
   ],
   "source": [
    "data = Supervised(df.values, n_in = 350, n_out = 100)\n",
    "\n",
    "\n",
    "cols_to_drop = []\n",
    "for i in range(2, 351):\n",
    "    cols_to_drop.extend([f'var2(t-{i})'])\n",
    "\n",
    "data.drop(cols_to_drop, axis=1, inplace=True)\n",
    "\n",
    "print(data.head())\n",
    "print(data.columns)"
   ]
  },
  {
   "cell_type": "code",
   "execution_count": 14,
   "metadata": {
    "id": "AfPf60oy6Pe4"
   },
   "outputs": [],
   "source": [
    "train = np.array(data[0:len(data)-1])\n",
    "forecast = np.array(data.tail(1))"
   ]
  },
  {
   "cell_type": "code",
   "execution_count": 15,
   "metadata": {
    "id": "WSAafzI37KiT"
   },
   "outputs": [],
   "source": [
    "trainy = train[:,-300:]\n",
    "trainX = train[:,:-300]"
   ]
  },
  {
   "cell_type": "code",
   "execution_count": 16,
   "metadata": {
    "id": "2SrOqVJA7f50"
   },
   "outputs": [],
   "source": [
    "forecasty = forecast[:,-300:]\n",
    "forecastX = forecast[:,:-300]"
   ]
  },
  {
   "cell_type": "code",
   "execution_count": 17,
   "metadata": {
    "colab": {
     "base_uri": "https://localhost:8080/"
    },
    "id": "Qno_k8Nw7saY",
    "outputId": "c4a88db5-d8c6-489f-cdb2-06b24e293cff"
   },
   "outputs": [
    {
     "name": "stdout",
     "output_type": "stream",
     "text": [
      "(1850, 1, 251) (1850, 300) (1, 1, 251)\n"
     ]
    }
   ],
   "source": [
    "trainX = trainX.reshape((trainX.shape[0], 1, trainX.shape[1]))\n",
    "forecastX = forecastX.reshape((forecastX.shape[0], 1, forecastX.shape[1]))\n",
    "print(trainX.shape, trainy.shape, forecastX.shape)"
   ]
  },
  {
   "cell_type": "code",
   "execution_count": 18,
   "metadata": {
    "colab": {
     "base_uri": "https://localhost:8080/"
    },
    "id": "b1Jp2DvNuNFx",
    "outputId": "d0e5b3c4-64f1-438c-eade-8dfeaac8e285"
   },
   "outputs": [
    {
     "name": "stdout",
     "output_type": "stream",
     "text": [
      "Epoch 1/500\n",
      "24/24 [==============================] - 2s 27ms/step - loss: 4169.3984 - val_loss: 2525.1252\n",
      "Epoch 2/500\n",
      "24/24 [==============================] - 0s 5ms/step - loss: 3998.6550 - val_loss: 2397.4834\n",
      "Epoch 3/500\n",
      "24/24 [==============================] - 0s 4ms/step - loss: 3858.3228 - val_loss: 2320.7573\n",
      "Epoch 4/500\n",
      "24/24 [==============================] - 0s 4ms/step - loss: 3756.9294 - val_loss: 2258.4141\n",
      "Epoch 5/500\n",
      "24/24 [==============================] - 0s 5ms/step - loss: 3655.7834 - val_loss: 2200.3037\n",
      "Epoch 6/500\n",
      "24/24 [==============================] - 0s 4ms/step - loss: 3561.1011 - val_loss: 2139.5757\n",
      "Epoch 7/500\n",
      "24/24 [==============================] - 0s 5ms/step - loss: 3470.0349 - val_loss: 2084.6648\n",
      "Epoch 8/500\n",
      "24/24 [==============================] - 0s 5ms/step - loss: 3381.7632 - val_loss: 2031.7142\n",
      "Epoch 9/500\n",
      "24/24 [==============================] - 0s 4ms/step - loss: 3295.8628 - val_loss: 1980.5221\n",
      "Epoch 10/500\n",
      "24/24 [==============================] - 0s 4ms/step - loss: 3212.0925 - val_loss: 1930.9623\n",
      "Epoch 11/500\n",
      "24/24 [==============================] - 0s 4ms/step - loss: 3130.2969 - val_loss: 1882.9462\n",
      "Epoch 12/500\n",
      "24/24 [==============================] - 0s 5ms/step - loss: 3050.3665 - val_loss: 1836.3656\n",
      "Epoch 13/500\n",
      "24/24 [==============================] - 0s 5ms/step - loss: 2972.2183 - val_loss: 1787.6144\n",
      "Epoch 14/500\n",
      "24/24 [==============================] - 0s 5ms/step - loss: 2885.8635 - val_loss: 1739.2208\n",
      "Epoch 15/500\n",
      "24/24 [==============================] - 0s 5ms/step - loss: 2799.9136 - val_loss: 1689.6307\n",
      "Epoch 16/500\n",
      "24/24 [==============================] - 0s 5ms/step - loss: 2716.8872 - val_loss: 1643.8553\n",
      "Epoch 17/500\n",
      "24/24 [==============================] - 0s 5ms/step - loss: 2637.6526 - val_loss: 1600.4806\n",
      "Epoch 18/500\n",
      "24/24 [==============================] - 0s 6ms/step - loss: 2561.4534 - val_loss: 1559.0802\n",
      "Epoch 19/500\n",
      "24/24 [==============================] - 0s 6ms/step - loss: 2487.7507 - val_loss: 1519.4199\n",
      "Epoch 20/500\n",
      "24/24 [==============================] - 0s 6ms/step - loss: 2416.2449 - val_loss: 1481.3557\n",
      "Epoch 21/500\n",
      "24/24 [==============================] - 0s 5ms/step - loss: 2346.7493 - val_loss: 1444.7888\n",
      "Epoch 22/500\n",
      "24/24 [==============================] - 0s 5ms/step - loss: 2279.1333 - val_loss: 1409.6439\n",
      "Epoch 23/500\n",
      "24/24 [==============================] - 0s 5ms/step - loss: 2213.2991 - val_loss: 1375.8613\n",
      "Epoch 24/500\n",
      "24/24 [==============================] - 0s 5ms/step - loss: 2149.1702 - val_loss: 1343.3910\n",
      "Epoch 25/500\n",
      "24/24 [==============================] - 0s 5ms/step - loss: 2086.6829 - val_loss: 1312.1887\n",
      "Epoch 26/500\n",
      "24/24 [==============================] - 0s 5ms/step - loss: 2025.7825 - val_loss: 1282.2162\n",
      "Epoch 27/500\n",
      "24/24 [==============================] - 0s 5ms/step - loss: 1966.4215 - val_loss: 1253.4382\n",
      "Epoch 28/500\n",
      "24/24 [==============================] - 0s 5ms/step - loss: 1908.5574 - val_loss: 1225.8223\n",
      "Epoch 29/500\n",
      "24/24 [==============================] - 0s 5ms/step - loss: 1852.1523 - val_loss: 1199.3380\n",
      "Epoch 30/500\n",
      "24/24 [==============================] - 0s 4ms/step - loss: 1797.1698 - val_loss: 1173.9572\n",
      "Epoch 31/500\n",
      "24/24 [==============================] - 0s 5ms/step - loss: 1743.5780 - val_loss: 1149.6520\n",
      "Epoch 32/500\n",
      "24/24 [==============================] - 0s 5ms/step - loss: 1691.3445 - val_loss: 1126.3967\n",
      "Epoch 33/500\n",
      "24/24 [==============================] - 0s 5ms/step - loss: 1640.4412 - val_loss: 1104.1665\n",
      "Epoch 34/500\n",
      "24/24 [==============================] - 0s 5ms/step - loss: 1590.8392 - val_loss: 1082.9368\n",
      "Epoch 35/500\n",
      "24/24 [==============================] - 0s 5ms/step - loss: 1542.5122 - val_loss: 1062.6847\n",
      "Epoch 36/500\n",
      "24/24 [==============================] - 0s 4ms/step - loss: 1495.4341 - val_loss: 1043.3866\n",
      "Epoch 37/500\n",
      "24/24 [==============================] - 0s 4ms/step - loss: 1449.5797 - val_loss: 1025.0206\n",
      "Epoch 38/500\n",
      "24/24 [==============================] - 0s 4ms/step - loss: 1404.9260 - val_loss: 1007.5649\n",
      "Epoch 39/500\n",
      "24/24 [==============================] - 0s 5ms/step - loss: 1361.4478 - val_loss: 990.9983\n",
      "Epoch 40/500\n",
      "24/24 [==============================] - 0s 5ms/step - loss: 1319.1238 - val_loss: 975.2995\n",
      "Epoch 41/500\n",
      "24/24 [==============================] - 0s 4ms/step - loss: 1277.9307 - val_loss: 960.4478\n",
      "Epoch 42/500\n",
      "24/24 [==============================] - 0s 5ms/step - loss: 1237.8467 - val_loss: 946.4236\n",
      "Epoch 43/500\n",
      "24/24 [==============================] - 0s 4ms/step - loss: 1198.8507 - val_loss: 933.2064\n",
      "Epoch 44/500\n",
      "24/24 [==============================] - 0s 4ms/step - loss: 1160.9219 - val_loss: 920.7766\n",
      "Epoch 45/500\n",
      "24/24 [==============================] - 0s 5ms/step - loss: 1124.0392 - val_loss: 909.1147\n",
      "Epoch 46/500\n",
      "24/24 [==============================] - 0s 4ms/step - loss: 1088.1825 - val_loss: 898.2020\n",
      "Epoch 47/500\n",
      "24/24 [==============================] - 0s 5ms/step - loss: 1053.3319 - val_loss: 888.0191\n",
      "Epoch 48/500\n",
      "24/24 [==============================] - 0s 4ms/step - loss: 1019.4677 - val_loss: 878.5476\n",
      "Epoch 49/500\n",
      "24/24 [==============================] - 0s 5ms/step - loss: 986.5709 - val_loss: 869.7689\n",
      "Epoch 50/500\n",
      "24/24 [==============================] - 0s 5ms/step - loss: 954.6219 - val_loss: 861.6651\n",
      "Epoch 51/500\n",
      "24/24 [==============================] - 0s 6ms/step - loss: 923.6021 - val_loss: 854.2177\n",
      "Epoch 52/500\n",
      "24/24 [==============================] - 0s 7ms/step - loss: 893.4932 - val_loss: 847.4091\n",
      "Epoch 53/500\n",
      "24/24 [==============================] - 0s 7ms/step - loss: 864.2762 - val_loss: 841.2216\n",
      "Epoch 54/500\n",
      "24/24 [==============================] - 0s 6ms/step - loss: 835.9335 - val_loss: 835.6378\n",
      "Epoch 55/500\n",
      "24/24 [==============================] - 0s 5ms/step - loss: 808.4477 - val_loss: 830.6402\n",
      "Epoch 56/500\n",
      "24/24 [==============================] - 0s 6ms/step - loss: 781.8002 - val_loss: 826.2119\n",
      "Epoch 57/500\n",
      "24/24 [==============================] - 0s 6ms/step - loss: 755.9736 - val_loss: 822.3356\n",
      "Epoch 58/500\n",
      "24/24 [==============================] - 0s 5ms/step - loss: 730.9509 - val_loss: 818.9950\n",
      "Epoch 59/500\n",
      "24/24 [==============================] - 0s 5ms/step - loss: 706.7150 - val_loss: 816.1733\n",
      "Epoch 60/500\n",
      "24/24 [==============================] - 0s 4ms/step - loss: 683.2491 - val_loss: 813.8539\n",
      "Epoch 61/500\n",
      "24/24 [==============================] - 0s 4ms/step - loss: 660.5364 - val_loss: 812.0208\n",
      "Epoch 62/500\n",
      "24/24 [==============================] - 0s 5ms/step - loss: 638.5601 - val_loss: 810.6577\n",
      "Epoch 63/500\n",
      "24/24 [==============================] - 0s 5ms/step - loss: 617.3042 - val_loss: 809.7488\n",
      "Epoch 64/500\n",
      "24/24 [==============================] - 0s 7ms/step - loss: 596.7524 - val_loss: 809.2782\n",
      "Epoch 65/500\n",
      "24/24 [==============================] - 0s 5ms/step - loss: 576.8886 - val_loss: 809.2305\n",
      "Epoch 66/500\n",
      "24/24 [==============================] - 0s 5ms/step - loss: 557.6970 - val_loss: 809.5900\n",
      "Epoch 67/500\n",
      "24/24 [==============================] - 0s 4ms/step - loss: 539.1621 - val_loss: 810.3417\n",
      "Epoch 68/500\n",
      "24/24 [==============================] - 0s 4ms/step - loss: 521.2681 - val_loss: 811.4705\n",
      "Epoch 69/500\n",
      "24/24 [==============================] - 0s 5ms/step - loss: 504.0001 - val_loss: 812.9611\n",
      "Epoch 70/500\n",
      "24/24 [==============================] - 0s 5ms/step - loss: 487.3424 - val_loss: 814.7993\n",
      "Epoch 71/500\n",
      "24/24 [==============================] - 0s 5ms/step - loss: 471.2803 - val_loss: 816.9703\n",
      "Epoch 72/500\n",
      "24/24 [==============================] - 0s 5ms/step - loss: 455.7992 - val_loss: 819.4597\n",
      "Epoch 73/500\n",
      "24/24 [==============================] - 0s 5ms/step - loss: 440.8840 - val_loss: 822.2532\n",
      "Epoch 74/500\n",
      "24/24 [==============================] - 0s 5ms/step - loss: 426.5207 - val_loss: 825.3371\n",
      "Epoch 75/500\n",
      "24/24 [==============================] - 0s 6ms/step - loss: 412.6947 - val_loss: 828.6972\n",
      "Epoch 76/500\n",
      "24/24 [==============================] - 0s 5ms/step - loss: 399.3921 - val_loss: 832.3203\n",
      "Epoch 77/500\n",
      "24/24 [==============================] - 0s 6ms/step - loss: 386.5988 - val_loss: 836.1925\n",
      "Epoch 78/500\n",
      "24/24 [==============================] - 0s 6ms/step - loss: 374.3008 - val_loss: 840.3008\n",
      "Epoch 79/500\n",
      "24/24 [==============================] - 0s 6ms/step - loss: 362.4847 - val_loss: 844.6318\n",
      "Epoch 80/500\n",
      "24/24 [==============================] - 0s 6ms/step - loss: 351.1372 - val_loss: 849.1734\n",
      "Epoch 81/500\n",
      "24/24 [==============================] - 0s 5ms/step - loss: 340.2448 - val_loss: 853.9124\n",
      "Epoch 82/500\n",
      "24/24 [==============================] - 0s 6ms/step - loss: 329.7946 - val_loss: 858.8364\n",
      "Epoch 83/500\n",
      "24/24 [==============================] - 0s 7ms/step - loss: 319.7737 - val_loss: 863.9333\n",
      "Epoch 84/500\n",
      "24/24 [==============================] - 0s 7ms/step - loss: 310.1693 - val_loss: 869.1910\n",
      "Epoch 85/500\n",
      "24/24 [==============================] - 0s 7ms/step - loss: 300.9691 - val_loss: 874.5980\n",
      "Epoch 86/500\n",
      "24/24 [==============================] - 0s 8ms/step - loss: 292.1605 - val_loss: 880.1425\n",
      "Epoch 87/500\n",
      "24/24 [==============================] - 0s 8ms/step - loss: 283.7315 - val_loss: 885.8132\n",
      "Epoch 88/500\n",
      "24/24 [==============================] - 0s 8ms/step - loss: 275.6701 - val_loss: 891.5992\n",
      "Epoch 89/500\n",
      "24/24 [==============================] - 0s 7ms/step - loss: 267.9645 - val_loss: 897.4895\n",
      "Epoch 90/500\n",
      "24/24 [==============================] - 0s 7ms/step - loss: 260.6031 - val_loss: 903.4734\n",
      "Epoch 91/500\n",
      "24/24 [==============================] - 0s 7ms/step - loss: 253.5747 - val_loss: 909.5409\n",
      "Epoch 92/500\n",
      "24/24 [==============================] - 0s 12ms/step - loss: 246.8680 - val_loss: 915.6814\n",
      "Epoch 93/500\n",
      "24/24 [==============================] - 0s 10ms/step - loss: 240.4721 - val_loss: 921.8856\n",
      "Epoch 94/500\n",
      "24/24 [==============================] - 0s 8ms/step - loss: 234.3761 - val_loss: 928.1436\n",
      "Epoch 95/500\n",
      "24/24 [==============================] - 0s 7ms/step - loss: 228.5696 - val_loss: 934.4459\n",
      "Epoch 96/500\n",
      "24/24 [==============================] - 0s 6ms/step - loss: 223.0424 - val_loss: 940.7836\n",
      "Epoch 97/500\n",
      "24/24 [==============================] - 0s 7ms/step - loss: 217.7838 - val_loss: 947.1478\n",
      "Epoch 98/500\n",
      "24/24 [==============================] - 0s 8ms/step - loss: 212.7844 - val_loss: 953.5304\n",
      "Epoch 99/500\n",
      "24/24 [==============================] - 0s 8ms/step - loss: 208.0343 - val_loss: 959.9221\n",
      "Epoch 100/500\n",
      "24/24 [==============================] - 0s 8ms/step - loss: 203.5239 - val_loss: 966.3160\n",
      "Epoch 101/500\n",
      "24/24 [==============================] - 0s 8ms/step - loss: 199.2440 - val_loss: 972.7036\n",
      "Epoch 102/500\n",
      "24/24 [==============================] - 0s 8ms/step - loss: 195.1854 - val_loss: 979.0781\n",
      "Epoch 103/500\n",
      "24/24 [==============================] - 0s 8ms/step - loss: 191.3393 - val_loss: 985.4319\n",
      "Epoch 104/500\n",
      "24/24 [==============================] - 0s 8ms/step - loss: 187.6971 - val_loss: 991.7579\n",
      "Epoch 105/500\n",
      "24/24 [==============================] - 0s 7ms/step - loss: 184.2503 - val_loss: 998.0497\n",
      "Epoch 106/500\n",
      "24/24 [==============================] - 0s 7ms/step - loss: 180.9908 - val_loss: 1004.3015\n",
      "Epoch 107/500\n",
      "24/24 [==============================] - 0s 6ms/step - loss: 177.9104 - val_loss: 1010.5062\n",
      "Epoch 108/500\n",
      "24/24 [==============================] - 0s 6ms/step - loss: 175.0014 - val_loss: 1016.6589\n",
      "Epoch 109/500\n",
      "24/24 [==============================] - 0s 5ms/step - loss: 172.2562 - val_loss: 1022.7540\n",
      "Epoch 110/500\n",
      "24/24 [==============================] - 0s 5ms/step - loss: 169.6675 - val_loss: 1028.7858\n",
      "Epoch 111/500\n",
      "24/24 [==============================] - 0s 5ms/step - loss: 167.2281 - val_loss: 1034.7500\n",
      "Epoch 112/500\n",
      "24/24 [==============================] - 0s 5ms/step - loss: 164.9312 - val_loss: 1040.6412\n",
      "Epoch 113/500\n",
      "24/24 [==============================] - 0s 5ms/step - loss: 162.7700 - val_loss: 1046.4559\n",
      "Epoch 114/500\n",
      "24/24 [==============================] - 0s 6ms/step - loss: 160.7381 - val_loss: 1052.1891\n",
      "Epoch 115/500\n",
      "24/24 [==============================] - 0s 5ms/step - loss: 158.8289 - val_loss: 1057.8376\n",
      "Epoch 116/500\n",
      "24/24 [==============================] - 0s 6ms/step - loss: 157.0369 - val_loss: 1063.3979\n",
      "Epoch 117/500\n",
      "24/24 [==============================] - 0s 5ms/step - loss: 155.3558 - val_loss: 1068.8667\n",
      "Epoch 118/500\n",
      "24/24 [==============================] - 0s 8ms/step - loss: 153.7800 - val_loss: 1074.2402\n",
      "Epoch 119/500\n",
      "24/24 [==============================] - 0s 9ms/step - loss: 152.3040 - val_loss: 1079.5165\n",
      "Epoch 120/500\n",
      "24/24 [==============================] - 0s 6ms/step - loss: 150.9229 - val_loss: 1084.6927\n",
      "Epoch 121/500\n",
      "24/24 [==============================] - 0s 6ms/step - loss: 149.6313 - val_loss: 1089.7671\n",
      "Epoch 122/500\n",
      "24/24 [==============================] - 0s 6ms/step - loss: 148.4244 - val_loss: 1094.7368\n",
      "Epoch 123/500\n",
      "24/24 [==============================] - 0s 5ms/step - loss: 147.2977 - val_loss: 1099.6011\n",
      "Epoch 124/500\n",
      "24/24 [==============================] - 0s 5ms/step - loss: 146.2464 - val_loss: 1104.3575\n",
      "Epoch 125/500\n",
      "24/24 [==============================] - 0s 7ms/step - loss: 145.2667 - val_loss: 1109.0050\n",
      "Epoch 126/500\n",
      "24/24 [==============================] - 0s 5ms/step - loss: 144.3541 - val_loss: 1113.5433\n",
      "Epoch 127/500\n",
      "24/24 [==============================] - 0s 5ms/step - loss: 143.5047 - val_loss: 1117.9706\n",
      "Epoch 128/500\n",
      "24/24 [==============================] - 0s 6ms/step - loss: 142.7149 - val_loss: 1122.2864\n",
      "Epoch 129/500\n",
      "24/24 [==============================] - 0s 6ms/step - loss: 141.9812 - val_loss: 1126.4908\n",
      "Epoch 130/500\n",
      "24/24 [==============================] - 0s 6ms/step - loss: 141.2999 - val_loss: 1130.5829\n",
      "Epoch 131/500\n",
      "24/24 [==============================] - 0s 6ms/step - loss: 140.6680 - val_loss: 1134.5632\n",
      "Epoch 132/500\n",
      "24/24 [==============================] - 0s 5ms/step - loss: 140.0822 - val_loss: 1138.4313\n",
      "Epoch 133/500\n",
      "24/24 [==============================] - 0s 6ms/step - loss: 139.5398 - val_loss: 1142.1890\n",
      "Epoch 134/500\n",
      "24/24 [==============================] - 0s 6ms/step - loss: 139.0377 - val_loss: 1145.8346\n",
      "Epoch 135/500\n",
      "24/24 [==============================] - 0s 6ms/step - loss: 138.5735 - val_loss: 1149.3700\n",
      "Epoch 136/500\n",
      "24/24 [==============================] - 0s 5ms/step - loss: 138.1446 - val_loss: 1152.7958\n",
      "Epoch 137/500\n",
      "24/24 [==============================] - 0s 5ms/step - loss: 137.7487 - val_loss: 1156.1129\n",
      "Epoch 138/500\n",
      "24/24 [==============================] - 0s 5ms/step - loss: 137.3835 - val_loss: 1159.3234\n",
      "Epoch 139/500\n",
      "24/24 [==============================] - 0s 6ms/step - loss: 137.0469 - val_loss: 1162.4269\n",
      "Epoch 140/500\n",
      "24/24 [==============================] - 0s 5ms/step - loss: 136.7368 - val_loss: 1165.4249\n",
      "Epoch 141/500\n",
      "24/24 [==============================] - 0s 5ms/step - loss: 136.4515 - val_loss: 1168.3195\n",
      "Epoch 142/500\n",
      "24/24 [==============================] - 0s 5ms/step - loss: 136.1892 - val_loss: 1171.1125\n",
      "Epoch 143/500\n",
      "24/24 [==============================] - 0s 5ms/step - loss: 135.9480 - val_loss: 1173.8049\n",
      "Epoch 144/500\n",
      "24/24 [==============================] - 0s 5ms/step - loss: 135.7266 - val_loss: 1176.3986\n",
      "Epoch 145/500\n",
      "24/24 [==============================] - 0s 6ms/step - loss: 135.5235 - val_loss: 1178.8953\n",
      "Epoch 146/500\n",
      "24/24 [==============================] - 0s 6ms/step - loss: 135.3372 - val_loss: 1181.2970\n",
      "Epoch 147/500\n",
      "24/24 [==============================] - 0s 5ms/step - loss: 135.1666 - val_loss: 1183.6062\n",
      "Epoch 148/500\n",
      "24/24 [==============================] - 0s 7ms/step - loss: 135.0104 - val_loss: 1185.8241\n",
      "Epoch 149/500\n",
      "24/24 [==============================] - 0s 5ms/step - loss: 134.8674 - val_loss: 1187.9532\n",
      "Epoch 150/500\n",
      "24/24 [==============================] - 0s 5ms/step - loss: 134.7367 - val_loss: 1189.9965\n",
      "Epoch 151/500\n",
      "24/24 [==============================] - 0s 6ms/step - loss: 134.6172 - val_loss: 1191.9537\n",
      "Epoch 152/500\n",
      "24/24 [==============================] - 0s 5ms/step - loss: 134.5081 - val_loss: 1193.8293\n",
      "Epoch 153/500\n",
      "24/24 [==============================] - 0s 5ms/step - loss: 134.4085 - val_loss: 1195.6246\n",
      "Epoch 154/500\n",
      "24/24 [==============================] - 0s 12ms/step - loss: 134.3177 - val_loss: 1197.3417\n",
      "Epoch 155/500\n",
      "24/24 [==============================] - 0s 8ms/step - loss: 134.2349 - val_loss: 1198.9829\n",
      "Epoch 156/500\n",
      "24/24 [==============================] - 0s 8ms/step - loss: 134.1595 - val_loss: 1200.5505\n",
      "Epoch 157/500\n",
      "24/24 [==============================] - 0s 7ms/step - loss: 134.0908 - val_loss: 1202.0471\n",
      "Epoch 158/500\n",
      "24/24 [==============================] - 0s 6ms/step - loss: 134.0283 - val_loss: 1203.4750\n",
      "Epoch 159/500\n",
      "24/24 [==============================] - 0s 6ms/step - loss: 133.9714 - val_loss: 1204.8357\n",
      "Epoch 160/500\n",
      "24/24 [==============================] - 0s 5ms/step - loss: 133.9197 - val_loss: 1206.1320\n",
      "Epoch 161/500\n",
      "24/24 [==============================] - 0s 5ms/step - loss: 133.8727 - val_loss: 1207.3658\n",
      "Epoch 162/500\n",
      "24/24 [==============================] - 0s 5ms/step - loss: 133.8300 - val_loss: 1208.5389\n",
      "Epoch 163/500\n",
      "24/24 [==============================] - 0s 5ms/step - loss: 133.7913 - val_loss: 1209.6545\n",
      "Epoch 164/500\n",
      "24/24 [==============================] - 0s 5ms/step - loss: 133.7561 - val_loss: 1210.7141\n",
      "Epoch 165/500\n",
      "24/24 [==============================] - 0s 6ms/step - loss: 133.7243 - val_loss: 1211.7200\n",
      "Epoch 166/500\n",
      "24/24 [==============================] - 0s 6ms/step - loss: 133.6954 - val_loss: 1212.6738\n",
      "Epoch 167/500\n",
      "24/24 [==============================] - 0s 6ms/step - loss: 133.6691 - val_loss: 1213.5789\n",
      "Epoch 168/500\n",
      "24/24 [==============================] - 0s 7ms/step - loss: 133.6454 - val_loss: 1214.4360\n",
      "Epoch 169/500\n",
      "24/24 [==============================] - 0s 6ms/step - loss: 133.6238 - val_loss: 1215.2463\n",
      "Epoch 170/500\n",
      "24/24 [==============================] - 0s 7ms/step - loss: 133.6044 - val_loss: 1216.0133\n",
      "Epoch 171/500\n",
      "24/24 [==============================] - 0s 6ms/step - loss: 133.5868 - val_loss: 1216.7386\n",
      "Epoch 172/500\n",
      "24/24 [==============================] - 0s 6ms/step - loss: 133.5708 - val_loss: 1217.4241\n",
      "Epoch 173/500\n",
      "24/24 [==============================] - 0s 5ms/step - loss: 133.5565 - val_loss: 1218.0708\n",
      "Epoch 174/500\n",
      "24/24 [==============================] - 0s 5ms/step - loss: 133.5435 - val_loss: 1218.6808\n",
      "Epoch 175/500\n",
      "24/24 [==============================] - 0s 6ms/step - loss: 133.5317 - val_loss: 1219.2562\n",
      "Epoch 176/500\n",
      "24/24 [==============================] - 0s 6ms/step - loss: 133.5211 - val_loss: 1219.7976\n",
      "Epoch 177/500\n",
      "24/24 [==============================] - 0s 5ms/step - loss: 133.5116 - val_loss: 1220.3080\n",
      "Epoch 178/500\n",
      "24/24 [==============================] - 0s 5ms/step - loss: 133.5030 - val_loss: 1220.7875\n",
      "Epoch 179/500\n",
      "24/24 [==============================] - 0s 5ms/step - loss: 133.4953 - val_loss: 1221.2389\n",
      "Epoch 180/500\n",
      "24/24 [==============================] - 0s 5ms/step - loss: 133.4883 - val_loss: 1221.6627\n",
      "Epoch 181/500\n",
      "24/24 [==============================] - 0s 5ms/step - loss: 133.4821 - val_loss: 1222.0604\n",
      "Epoch 182/500\n",
      "24/24 [==============================] - 0s 5ms/step - loss: 133.4765 - val_loss: 1222.4332\n",
      "Epoch 183/500\n",
      "24/24 [==============================] - 0s 5ms/step - loss: 133.4715 - val_loss: 1222.7842\n",
      "Epoch 184/500\n",
      "24/24 [==============================] - 0s 5ms/step - loss: 133.4670 - val_loss: 1223.1116\n",
      "Epoch 185/500\n",
      "24/24 [==============================] - 0s 10ms/step - loss: 133.4631 - val_loss: 1223.4187\n",
      "Epoch 186/500\n",
      "24/24 [==============================] - 0s 6ms/step - loss: 133.4595 - val_loss: 1223.7057\n",
      "Epoch 187/500\n",
      "24/24 [==============================] - 0s 5ms/step - loss: 133.4564 - val_loss: 1223.9735\n",
      "Epoch 188/500\n",
      "24/24 [==============================] - 0s 5ms/step - loss: 133.4537 - val_loss: 1224.2244\n",
      "Epoch 189/500\n",
      "24/24 [==============================] - 0s 5ms/step - loss: 133.4513 - val_loss: 1224.4590\n",
      "Epoch 190/500\n",
      "24/24 [==============================] - 0s 6ms/step - loss: 133.4492 - val_loss: 1224.6777\n",
      "Epoch 191/500\n",
      "24/24 [==============================] - 0s 6ms/step - loss: 133.4474 - val_loss: 1224.8812\n",
      "Epoch 192/500\n",
      "24/24 [==============================] - 0s 5ms/step - loss: 133.4459 - val_loss: 1225.0708\n",
      "Epoch 193/500\n",
      "24/24 [==============================] - 0s 5ms/step - loss: 133.4445 - val_loss: 1225.2471\n",
      "Epoch 194/500\n",
      "24/24 [==============================] - 0s 6ms/step - loss: 133.4434 - val_loss: 1225.4121\n",
      "Epoch 195/500\n",
      "24/24 [==============================] - 0s 5ms/step - loss: 133.4425 - val_loss: 1225.5635\n",
      "Epoch 196/500\n",
      "24/24 [==============================] - 0s 5ms/step - loss: 133.4418 - val_loss: 1225.7063\n",
      "Epoch 197/500\n",
      "24/24 [==============================] - 0s 5ms/step - loss: 133.4412 - val_loss: 1225.8380\n",
      "Epoch 198/500\n",
      "24/24 [==============================] - 0s 5ms/step - loss: 133.4408 - val_loss: 1225.9598\n",
      "Epoch 199/500\n",
      "24/24 [==============================] - 0s 5ms/step - loss: 133.4404 - val_loss: 1226.0728\n",
      "Epoch 200/500\n",
      "24/24 [==============================] - 0s 5ms/step - loss: 133.4403 - val_loss: 1226.1772\n",
      "Epoch 201/500\n",
      "24/24 [==============================] - 0s 5ms/step - loss: 133.4402 - val_loss: 1226.2745\n",
      "Epoch 202/500\n",
      "24/24 [==============================] - 0s 5ms/step - loss: 133.4403 - val_loss: 1226.3639\n",
      "Epoch 203/500\n",
      "24/24 [==============================] - 0s 5ms/step - loss: 133.4405 - val_loss: 1226.4463\n",
      "Epoch 204/500\n",
      "24/24 [==============================] - 0s 5ms/step - loss: 133.4407 - val_loss: 1226.5220\n",
      "Epoch 205/500\n",
      "24/24 [==============================] - 0s 5ms/step - loss: 133.4410 - val_loss: 1226.5924\n",
      "Epoch 206/500\n",
      "24/24 [==============================] - 0s 5ms/step - loss: 133.4414 - val_loss: 1226.6571\n",
      "Epoch 207/500\n",
      "24/24 [==============================] - 0s 4ms/step - loss: 133.4418 - val_loss: 1226.7170\n",
      "Epoch 208/500\n",
      "24/24 [==============================] - 0s 4ms/step - loss: 133.4423 - val_loss: 1226.7716\n",
      "Epoch 209/500\n",
      "24/24 [==============================] - 0s 4ms/step - loss: 133.4429 - val_loss: 1226.8217\n",
      "Epoch 210/500\n",
      "24/24 [==============================] - 0s 4ms/step - loss: 133.4435 - val_loss: 1226.8677\n",
      "Epoch 211/500\n",
      "24/24 [==============================] - 0s 4ms/step - loss: 133.4442 - val_loss: 1226.9097\n",
      "Epoch 212/500\n",
      "24/24 [==============================] - 0s 5ms/step - loss: 133.4449 - val_loss: 1226.9489\n",
      "Epoch 213/500\n",
      "24/24 [==============================] - 0s 9ms/step - loss: 133.4456 - val_loss: 1226.9841\n",
      "Epoch 214/500\n",
      "24/24 [==============================] - 0s 5ms/step - loss: 133.4464 - val_loss: 1227.0168\n",
      "Epoch 215/500\n",
      "24/24 [==============================] - 0s 5ms/step - loss: 133.4472 - val_loss: 1227.0459\n",
      "Epoch 216/500\n",
      "24/24 [==============================] - 0s 5ms/step - loss: 133.4480 - val_loss: 1227.0728\n",
      "Epoch 217/500\n",
      "24/24 [==============================] - 0s 7ms/step - loss: 133.4488 - val_loss: 1227.0978\n",
      "Epoch 218/500\n",
      "24/24 [==============================] - 0s 5ms/step - loss: 133.4497 - val_loss: 1227.1202\n",
      "Epoch 219/500\n",
      "24/24 [==============================] - 0s 5ms/step - loss: 133.4505 - val_loss: 1227.1407\n",
      "Epoch 220/500\n",
      "24/24 [==============================] - 0s 5ms/step - loss: 133.4514 - val_loss: 1227.1595\n",
      "Epoch 221/500\n",
      "24/24 [==============================] - 0s 5ms/step - loss: 133.4523 - val_loss: 1227.1775\n",
      "Epoch 222/500\n",
      "24/24 [==============================] - 0s 5ms/step - loss: 133.4532 - val_loss: 1225.0615\n",
      "Epoch 223/500\n",
      "24/24 [==============================] - 0s 4ms/step - loss: 133.6956 - val_loss: 1226.6301\n",
      "Epoch 224/500\n",
      "24/24 [==============================] - 0s 4ms/step - loss: 133.5092 - val_loss: 1226.7860\n",
      "Epoch 225/500\n",
      "24/24 [==============================] - 0s 5ms/step - loss: 133.4929 - val_loss: 1226.8458\n",
      "Epoch 226/500\n",
      "24/24 [==============================] - 0s 5ms/step - loss: 133.4879 - val_loss: 1226.8903\n",
      "Epoch 227/500\n",
      "24/24 [==============================] - 0s 5ms/step - loss: 133.4852 - val_loss: 1226.9270\n",
      "Epoch 228/500\n",
      "24/24 [==============================] - 0s 4ms/step - loss: 133.4835 - val_loss: 1226.9586\n",
      "Epoch 229/500\n",
      "24/24 [==============================] - 0s 4ms/step - loss: 133.4825 - val_loss: 1226.9858\n",
      "Epoch 230/500\n",
      "24/24 [==============================] - 0s 5ms/step - loss: 133.4819 - val_loss: 1227.0106\n",
      "Epoch 231/500\n",
      "24/24 [==============================] - 0s 4ms/step - loss: 133.4816 - val_loss: 1227.0323\n",
      "Epoch 232/500\n",
      "24/24 [==============================] - 0s 5ms/step - loss: 133.4814 - val_loss: 1227.0511\n",
      "Epoch 233/500\n",
      "24/24 [==============================] - 0s 4ms/step - loss: 133.4814 - val_loss: 1227.0677\n",
      "Epoch 234/500\n",
      "24/24 [==============================] - 0s 5ms/step - loss: 133.4816 - val_loss: 1227.0829\n",
      "Epoch 235/500\n",
      "24/24 [==============================] - 0s 4ms/step - loss: 133.4817 - val_loss: 1227.0962\n",
      "Epoch 236/500\n",
      "24/24 [==============================] - 0s 4ms/step - loss: 133.4820 - val_loss: 1227.1072\n",
      "Epoch 237/500\n",
      "24/24 [==============================] - 0s 4ms/step - loss: 133.4824 - val_loss: 1227.1174\n",
      "Epoch 238/500\n",
      "24/24 [==============================] - 0s 5ms/step - loss: 133.4827 - val_loss: 1227.1259\n",
      "Epoch 239/500\n",
      "24/24 [==============================] - 0s 5ms/step - loss: 133.4832 - val_loss: 1227.1334\n",
      "Epoch 240/500\n",
      "24/24 [==============================] - 0s 5ms/step - loss: 133.4837 - val_loss: 1227.1404\n",
      "Epoch 241/500\n",
      "24/24 [==============================] - 0s 5ms/step - loss: 133.4842 - val_loss: 1227.1470\n",
      "Epoch 242/500\n",
      "24/24 [==============================] - 0s 9ms/step - loss: 133.4847 - val_loss: 1227.1515\n",
      "Epoch 243/500\n",
      "24/24 [==============================] - 0s 6ms/step - loss: 133.4852 - val_loss: 1227.1556\n",
      "Epoch 244/500\n",
      "24/24 [==============================] - 0s 5ms/step - loss: 133.4858 - val_loss: 1227.1598\n",
      "Epoch 245/500\n",
      "24/24 [==============================] - 0s 5ms/step - loss: 133.4864 - val_loss: 1227.1625\n",
      "Epoch 246/500\n",
      "24/24 [==============================] - 0s 5ms/step - loss: 133.4870 - val_loss: 1227.1646\n",
      "Epoch 247/500\n",
      "24/24 [==============================] - 0s 4ms/step - loss: 133.4876 - val_loss: 1227.1667\n",
      "Epoch 248/500\n",
      "24/24 [==============================] - 0s 5ms/step - loss: 133.4881 - val_loss: 1227.1682\n",
      "Epoch 249/500\n",
      "24/24 [==============================] - 0s 4ms/step - loss: 133.4888 - val_loss: 1227.1696\n",
      "Epoch 250/500\n",
      "24/24 [==============================] - 0s 5ms/step - loss: 133.4894 - val_loss: 1227.1707\n",
      "Epoch 251/500\n",
      "24/24 [==============================] - 0s 5ms/step - loss: 133.4899 - val_loss: 1227.1709\n",
      "Epoch 252/500\n",
      "24/24 [==============================] - 0s 5ms/step - loss: 133.4906 - val_loss: 1227.1710\n",
      "Epoch 253/500\n",
      "24/24 [==============================] - 0s 5ms/step - loss: 133.4912 - val_loss: 1227.1707\n",
      "Epoch 254/500\n",
      "24/24 [==============================] - 0s 4ms/step - loss: 133.4918 - val_loss: 1227.1702\n",
      "Epoch 255/500\n",
      "24/24 [==============================] - 0s 5ms/step - loss: 133.4924 - val_loss: 1227.1700\n",
      "Epoch 256/500\n",
      "24/24 [==============================] - 0s 4ms/step - loss: 133.4930 - val_loss: 1227.1696\n",
      "Epoch 257/500\n",
      "24/24 [==============================] - 0s 4ms/step - loss: 133.4935 - val_loss: 1227.1680\n",
      "Epoch 258/500\n",
      "24/24 [==============================] - 0s 5ms/step - loss: 133.4942 - val_loss: 1227.1672\n",
      "Epoch 259/500\n",
      "24/24 [==============================] - 0s 5ms/step - loss: 133.4948 - val_loss: 1227.1661\n",
      "Epoch 260/500\n",
      "24/24 [==============================] - 0s 4ms/step - loss: 133.4953 - val_loss: 1227.1650\n",
      "Epoch 261/500\n",
      "24/24 [==============================] - 0s 5ms/step - loss: 133.4959 - val_loss: 1227.1641\n",
      "Epoch 262/500\n",
      "24/24 [==============================] - 0s 4ms/step - loss: 133.4965 - val_loss: 1227.1625\n",
      "Epoch 263/500\n",
      "24/24 [==============================] - 0s 5ms/step - loss: 133.4969 - val_loss: 1227.1610\n",
      "Epoch 264/500\n",
      "24/24 [==============================] - 0s 4ms/step - loss: 133.4976 - val_loss: 1227.1587\n",
      "Epoch 265/500\n",
      "24/24 [==============================] - 0s 4ms/step - loss: 133.4981 - val_loss: 1227.1577\n",
      "Epoch 266/500\n",
      "24/24 [==============================] - 0s 5ms/step - loss: 133.4986 - val_loss: 1227.1560\n",
      "Epoch 267/500\n",
      "24/24 [==============================] - 0s 9ms/step - loss: 133.4991 - val_loss: 1227.1542\n",
      "Epoch 268/500\n",
      "24/24 [==============================] - 0s 6ms/step - loss: 133.4997 - val_loss: 1227.1516\n",
      "Epoch 269/500\n",
      "24/24 [==============================] - 0s 5ms/step - loss: 133.5003 - val_loss: 1227.1500\n",
      "Epoch 270/500\n",
      "24/24 [==============================] - 0s 5ms/step - loss: 133.5008 - val_loss: 1227.1487\n",
      "Epoch 271/500\n",
      "24/24 [==============================] - 0s 4ms/step - loss: 133.5012 - val_loss: 1227.1466\n",
      "Epoch 272/500\n",
      "24/24 [==============================] - 0s 4ms/step - loss: 133.5017 - val_loss: 1227.1442\n",
      "Epoch 273/500\n",
      "24/24 [==============================] - 0s 5ms/step - loss: 133.5022 - val_loss: 1227.1425\n",
      "Epoch 274/500\n",
      "24/24 [==============================] - 0s 4ms/step - loss: 133.5027 - val_loss: 1227.1410\n",
      "Epoch 275/500\n",
      "24/24 [==============================] - 0s 4ms/step - loss: 133.5032 - val_loss: 1227.1390\n",
      "Epoch 276/500\n",
      "24/24 [==============================] - 0s 5ms/step - loss: 133.5036 - val_loss: 1227.1365\n",
      "Epoch 277/500\n",
      "24/24 [==============================] - 0s 4ms/step - loss: 133.5041 - val_loss: 1227.1343\n",
      "Epoch 278/500\n",
      "24/24 [==============================] - 0s 4ms/step - loss: 133.5046 - val_loss: 1227.1328\n",
      "Epoch 279/500\n",
      "24/24 [==============================] - 0s 4ms/step - loss: 133.5049 - val_loss: 1227.1307\n",
      "Epoch 280/500\n",
      "24/24 [==============================] - 0s 5ms/step - loss: 133.5054 - val_loss: 1227.1290\n",
      "Epoch 281/500\n",
      "24/24 [==============================] - 0s 5ms/step - loss: 133.5058 - val_loss: 1227.1268\n",
      "Epoch 282/500\n",
      "24/24 [==============================] - 0s 4ms/step - loss: 133.5063 - val_loss: 1227.1251\n",
      "Epoch 283/500\n",
      "24/24 [==============================] - 0s 4ms/step - loss: 133.5066 - val_loss: 1227.1233\n",
      "Epoch 284/500\n",
      "24/24 [==============================] - 0s 4ms/step - loss: 133.5070 - val_loss: 1227.1216\n",
      "Epoch 285/500\n",
      "24/24 [==============================] - 0s 5ms/step - loss: 133.5074 - val_loss: 1227.1193\n",
      "Epoch 286/500\n",
      "24/24 [==============================] - 0s 4ms/step - loss: 133.5078 - val_loss: 1227.1172\n",
      "Epoch 287/500\n",
      "24/24 [==============================] - 0s 5ms/step - loss: 133.5082 - val_loss: 1227.1154\n",
      "Epoch 288/500\n",
      "24/24 [==============================] - 0s 5ms/step - loss: 133.5086 - val_loss: 1227.1136\n",
      "Epoch 289/500\n",
      "24/24 [==============================] - 0s 5ms/step - loss: 133.5089 - val_loss: 1227.1117\n",
      "Epoch 290/500\n",
      "24/24 [==============================] - 0s 4ms/step - loss: 133.5093 - val_loss: 1227.1097\n",
      "Epoch 291/500\n",
      "24/24 [==============================] - 0s 4ms/step - loss: 133.5096 - val_loss: 1227.1071\n",
      "Epoch 292/500\n",
      "24/24 [==============================] - 0s 5ms/step - loss: 133.5100 - val_loss: 1227.1060\n",
      "Epoch 293/500\n",
      "24/24 [==============================] - 0s 9ms/step - loss: 133.5103 - val_loss: 1227.1039\n",
      "Epoch 294/500\n",
      "24/24 [==============================] - 0s 6ms/step - loss: 133.5106 - val_loss: 1227.1021\n",
      "Epoch 295/500\n",
      "24/24 [==============================] - 0s 5ms/step - loss: 133.5109 - val_loss: 1227.1002\n",
      "Epoch 296/500\n",
      "24/24 [==============================] - 0s 4ms/step - loss: 133.5112 - val_loss: 1227.0981\n",
      "Epoch 297/500\n",
      "24/24 [==============================] - 0s 5ms/step - loss: 133.5116 - val_loss: 1227.0958\n",
      "Epoch 298/500\n",
      "24/24 [==============================] - 0s 5ms/step - loss: 133.5119 - val_loss: 1227.0940\n",
      "Epoch 299/500\n",
      "24/24 [==============================] - 0s 5ms/step - loss: 133.5122 - val_loss: 1227.0922\n",
      "Epoch 300/500\n",
      "24/24 [==============================] - 0s 4ms/step - loss: 133.5125 - val_loss: 1227.0900\n",
      "Epoch 301/500\n",
      "24/24 [==============================] - 0s 4ms/step - loss: 133.5128 - val_loss: 1227.0879\n",
      "Epoch 302/500\n",
      "24/24 [==============================] - 0s 5ms/step - loss: 133.5130 - val_loss: 1227.0857\n",
      "Epoch 303/500\n",
      "24/24 [==============================] - 0s 4ms/step - loss: 133.5133 - val_loss: 1227.0839\n",
      "Epoch 304/500\n",
      "24/24 [==============================] - 0s 4ms/step - loss: 133.5136 - val_loss: 1227.0811\n",
      "Epoch 305/500\n",
      "24/24 [==============================] - 0s 4ms/step - loss: 133.5139 - val_loss: 1227.0787\n",
      "Epoch 306/500\n",
      "24/24 [==============================] - 0s 5ms/step - loss: 133.5141 - val_loss: 1227.0769\n",
      "Epoch 307/500\n",
      "24/24 [==============================] - 0s 5ms/step - loss: 133.5144 - val_loss: 1227.0742\n",
      "Epoch 308/500\n",
      "24/24 [==============================] - 0s 5ms/step - loss: 133.5146 - val_loss: 1227.0718\n",
      "Epoch 309/500\n",
      "24/24 [==============================] - 0s 4ms/step - loss: 133.5149 - val_loss: 1227.0693\n",
      "Epoch 310/500\n",
      "24/24 [==============================] - 0s 5ms/step - loss: 133.5151 - val_loss: 1227.0663\n",
      "Epoch 311/500\n",
      "24/24 [==============================] - 0s 4ms/step - loss: 133.5154 - val_loss: 1227.0634\n",
      "Epoch 312/500\n",
      "24/24 [==============================] - 0s 4ms/step - loss: 133.5155 - val_loss: 1227.0604\n",
      "Epoch 313/500\n",
      "24/24 [==============================] - 0s 5ms/step - loss: 133.5157 - val_loss: 1227.0576\n",
      "Epoch 314/500\n",
      "24/24 [==============================] - 0s 5ms/step - loss: 133.5159 - val_loss: 1227.0546\n",
      "Epoch 315/500\n",
      "24/24 [==============================] - 0s 5ms/step - loss: 133.5161 - val_loss: 1227.0504\n",
      "Epoch 316/500\n",
      "24/24 [==============================] - 0s 4ms/step - loss: 133.5164 - val_loss: 1227.0458\n",
      "Epoch 317/500\n",
      "24/24 [==============================] - 0s 4ms/step - loss: 133.5166 - val_loss: 1227.0410\n",
      "Epoch 318/500\n",
      "24/24 [==============================] - 0s 4ms/step - loss: 133.5168 - val_loss: 1227.0358\n",
      "Epoch 319/500\n",
      "24/24 [==============================] - 0s 5ms/step - loss: 133.5170 - val_loss: 1227.0294\n",
      "Epoch 320/500\n",
      "24/24 [==============================] - 0s 10ms/step - loss: 133.5172 - val_loss: 1227.0222\n",
      "Epoch 321/500\n",
      "24/24 [==============================] - 0s 5ms/step - loss: 133.5173 - val_loss: 1227.0135\n",
      "Epoch 322/500\n",
      "24/24 [==============================] - 0s 6ms/step - loss: 133.5176 - val_loss: 1227.0022\n",
      "Epoch 323/500\n",
      "24/24 [==============================] - 0s 5ms/step - loss: 133.5178 - val_loss: 1226.9862\n",
      "Epoch 324/500\n",
      "24/24 [==============================] - 0s 5ms/step - loss: 133.5179 - val_loss: 1226.9613\n",
      "Epoch 325/500\n",
      "24/24 [==============================] - 0s 4ms/step - loss: 133.5181 - val_loss: 1226.9147\n",
      "Epoch 326/500\n",
      "24/24 [==============================] - 0s 4ms/step - loss: 133.5162 - val_loss: 1223.0087\n",
      "Epoch 327/500\n",
      "24/24 [==============================] - 0s 4ms/step - loss: 133.7943 - val_loss: 1224.5006\n",
      "Epoch 328/500\n",
      "24/24 [==============================] - 0s 5ms/step - loss: 133.6113 - val_loss: 1224.9026\n",
      "Epoch 329/500\n",
      "24/24 [==============================] - 0s 5ms/step - loss: 133.5889 - val_loss: 1225.1769\n",
      "Epoch 330/500\n",
      "24/24 [==============================] - 0s 5ms/step - loss: 133.5786 - val_loss: 1225.4080\n",
      "Epoch 331/500\n",
      "24/24 [==============================] - 0s 5ms/step - loss: 133.5714 - val_loss: 1225.6082\n",
      "Epoch 332/500\n",
      "24/24 [==============================] - 0s 5ms/step - loss: 133.5658 - val_loss: 1225.7833\n",
      "Epoch 333/500\n",
      "24/24 [==============================] - 0s 4ms/step - loss: 133.5613 - val_loss: 1225.9374\n",
      "Epoch 334/500\n",
      "24/24 [==============================] - 0s 4ms/step - loss: 133.5574 - val_loss: 1226.0731\n",
      "Epoch 335/500\n",
      "24/24 [==============================] - 0s 4ms/step - loss: 133.5543 - val_loss: 1226.1923\n",
      "Epoch 336/500\n",
      "24/24 [==============================] - 0s 5ms/step - loss: 133.5516 - val_loss: 1226.2983\n",
      "Epoch 337/500\n",
      "24/24 [==============================] - 0s 4ms/step - loss: 133.5492 - val_loss: 1226.3914\n",
      "Epoch 338/500\n",
      "24/24 [==============================] - 0s 4ms/step - loss: 133.5472 - val_loss: 1226.4744\n",
      "Epoch 339/500\n",
      "24/24 [==============================] - 0s 4ms/step - loss: 133.5454 - val_loss: 1226.5466\n",
      "Epoch 340/500\n",
      "24/24 [==============================] - 0s 5ms/step - loss: 133.5438 - val_loss: 1226.6118\n",
      "Epoch 341/500\n",
      "24/24 [==============================] - 0s 5ms/step - loss: 133.5425 - val_loss: 1226.6697\n",
      "Epoch 342/500\n",
      "24/24 [==============================] - 0s 5ms/step - loss: 133.5412 - val_loss: 1226.7206\n",
      "Epoch 343/500\n",
      "24/24 [==============================] - 0s 11ms/step - loss: 133.5402 - val_loss: 1226.7660\n",
      "Epoch 344/500\n",
      "24/24 [==============================] - 0s 5ms/step - loss: 133.5393 - val_loss: 1226.8052\n",
      "Epoch 345/500\n",
      "24/24 [==============================] - 0s 5ms/step - loss: 133.5385 - val_loss: 1226.8411\n",
      "Epoch 346/500\n",
      "24/24 [==============================] - 0s 5ms/step - loss: 133.5378 - val_loss: 1226.8727\n",
      "Epoch 347/500\n",
      "24/24 [==============================] - 0s 5ms/step - loss: 133.5371 - val_loss: 1226.9006\n",
      "Epoch 348/500\n",
      "24/24 [==============================] - 0s 5ms/step - loss: 133.5366 - val_loss: 1226.9261\n",
      "Epoch 349/500\n",
      "24/24 [==============================] - 0s 4ms/step - loss: 133.5361 - val_loss: 1226.9478\n",
      "Epoch 350/500\n",
      "24/24 [==============================] - 0s 4ms/step - loss: 133.5356 - val_loss: 1226.9674\n",
      "Epoch 351/500\n",
      "24/24 [==============================] - 0s 5ms/step - loss: 133.5353 - val_loss: 1226.9856\n",
      "Epoch 352/500\n",
      "24/24 [==============================] - 0s 5ms/step - loss: 133.5349 - val_loss: 1227.0015\n",
      "Epoch 353/500\n",
      "24/24 [==============================] - 0s 5ms/step - loss: 133.5346 - val_loss: 1227.0146\n",
      "Epoch 354/500\n",
      "24/24 [==============================] - 0s 5ms/step - loss: 133.5344 - val_loss: 1227.0265\n",
      "Epoch 355/500\n",
      "24/24 [==============================] - 0s 5ms/step - loss: 133.5341 - val_loss: 1227.0378\n",
      "Epoch 356/500\n",
      "24/24 [==============================] - 0s 5ms/step - loss: 133.5339 - val_loss: 1227.0475\n",
      "Epoch 357/500\n",
      "24/24 [==============================] - 0s 5ms/step - loss: 133.5337 - val_loss: 1227.0555\n",
      "Epoch 358/500\n",
      "24/24 [==============================] - 0s 5ms/step - loss: 133.5335 - val_loss: 1227.0629\n",
      "Epoch 359/500\n",
      "24/24 [==============================] - 0s 4ms/step - loss: 133.5334 - val_loss: 1227.0698\n",
      "Epoch 360/500\n",
      "24/24 [==============================] - 0s 4ms/step - loss: 133.5332 - val_loss: 1227.0756\n",
      "Epoch 361/500\n",
      "24/24 [==============================] - 0s 4ms/step - loss: 133.5331 - val_loss: 1227.0807\n",
      "Epoch 362/500\n",
      "24/24 [==============================] - 0s 5ms/step - loss: 133.5331 - val_loss: 1227.0852\n",
      "Epoch 363/500\n",
      "24/24 [==============================] - 0s 5ms/step - loss: 133.5329 - val_loss: 1227.0894\n",
      "Epoch 364/500\n",
      "24/24 [==============================] - 0s 5ms/step - loss: 133.5329 - val_loss: 1227.0930\n",
      "Epoch 365/500\n",
      "24/24 [==============================] - 0s 5ms/step - loss: 133.5328 - val_loss: 1227.0967\n",
      "Epoch 366/500\n",
      "24/24 [==============================] - 0s 5ms/step - loss: 133.5327 - val_loss: 1227.0997\n",
      "Epoch 367/500\n",
      "24/24 [==============================] - 0s 8ms/step - loss: 133.5327 - val_loss: 1227.1022\n",
      "Epoch 368/500\n",
      "24/24 [==============================] - 0s 5ms/step - loss: 133.5327 - val_loss: 1227.1046\n",
      "Epoch 369/500\n",
      "24/24 [==============================] - 0s 5ms/step - loss: 133.5326 - val_loss: 1227.1069\n",
      "Epoch 370/500\n",
      "24/24 [==============================] - 0s 5ms/step - loss: 133.5326 - val_loss: 1227.1086\n",
      "Epoch 371/500\n",
      "24/24 [==============================] - 0s 5ms/step - loss: 133.5325 - val_loss: 1227.1096\n",
      "Epoch 372/500\n",
      "24/24 [==============================] - 0s 4ms/step - loss: 133.5325 - val_loss: 1227.1106\n",
      "Epoch 373/500\n",
      "24/24 [==============================] - 0s 5ms/step - loss: 133.5325 - val_loss: 1227.1123\n",
      "Epoch 374/500\n",
      "24/24 [==============================] - 0s 4ms/step - loss: 133.5325 - val_loss: 1227.1130\n",
      "Epoch 375/500\n",
      "24/24 [==============================] - 0s 4ms/step - loss: 133.5325 - val_loss: 1227.1140\n",
      "Epoch 376/500\n",
      "24/24 [==============================] - 0s 4ms/step - loss: 133.5324 - val_loss: 1227.1152\n",
      "Epoch 377/500\n",
      "24/24 [==============================] - 0s 4ms/step - loss: 133.5324 - val_loss: 1227.1156\n",
      "Epoch 378/500\n",
      "24/24 [==============================] - 0s 5ms/step - loss: 133.5325 - val_loss: 1227.1162\n",
      "Epoch 379/500\n",
      "24/24 [==============================] - 0s 5ms/step - loss: 133.5325 - val_loss: 1227.1168\n",
      "Epoch 380/500\n",
      "24/24 [==============================] - 0s 5ms/step - loss: 133.5325 - val_loss: 1227.1174\n",
      "Epoch 381/500\n",
      "24/24 [==============================] - 0s 5ms/step - loss: 133.5324 - val_loss: 1227.1177\n",
      "Epoch 382/500\n",
      "24/24 [==============================] - 0s 4ms/step - loss: 133.5325 - val_loss: 1227.1180\n",
      "Epoch 383/500\n",
      "24/24 [==============================] - 0s 4ms/step - loss: 133.5325 - val_loss: 1227.1185\n",
      "Epoch 384/500\n",
      "24/24 [==============================] - 0s 5ms/step - loss: 133.5324 - val_loss: 1227.1188\n",
      "Epoch 385/500\n",
      "24/24 [==============================] - 0s 5ms/step - loss: 133.5325 - val_loss: 1227.1191\n",
      "Epoch 386/500\n",
      "24/24 [==============================] - 0s 5ms/step - loss: 133.5324 - val_loss: 1227.1194\n",
      "Epoch 387/500\n",
      "24/24 [==============================] - 0s 5ms/step - loss: 133.5324 - val_loss: 1227.1198\n",
      "Epoch 388/500\n",
      "24/24 [==============================] - 0s 5ms/step - loss: 133.5324 - val_loss: 1227.1194\n",
      "Epoch 389/500\n",
      "24/24 [==============================] - 0s 8ms/step - loss: 133.5325 - val_loss: 1227.1199\n",
      "Epoch 390/500\n",
      "24/24 [==============================] - 0s 5ms/step - loss: 133.5324 - val_loss: 1227.1198\n",
      "Epoch 391/500\n",
      "24/24 [==============================] - 0s 5ms/step - loss: 133.5324 - val_loss: 1227.1199\n",
      "Epoch 392/500\n",
      "24/24 [==============================] - 0s 5ms/step - loss: 133.5325 - val_loss: 1227.1201\n",
      "Epoch 393/500\n",
      "24/24 [==============================] - 0s 5ms/step - loss: 133.5325 - val_loss: 1227.1202\n",
      "Epoch 394/500\n",
      "24/24 [==============================] - 0s 5ms/step - loss: 133.5325 - val_loss: 1227.1202\n",
      "Epoch 395/500\n",
      "24/24 [==============================] - 0s 4ms/step - loss: 133.5325 - val_loss: 1227.1202\n",
      "Epoch 396/500\n",
      "24/24 [==============================] - 0s 5ms/step - loss: 133.5325 - val_loss: 1227.1202\n",
      "Epoch 397/500\n",
      "24/24 [==============================] - 0s 4ms/step - loss: 133.5325 - val_loss: 1227.1205\n",
      "Epoch 398/500\n",
      "24/24 [==============================] - 0s 5ms/step - loss: 133.5325 - val_loss: 1227.1205\n",
      "Epoch 399/500\n",
      "24/24 [==============================] - 0s 4ms/step - loss: 133.5325 - val_loss: 1227.1206\n",
      "Epoch 400/500\n",
      "24/24 [==============================] - 0s 5ms/step - loss: 133.5325 - val_loss: 1227.1201\n",
      "Epoch 401/500\n",
      "24/24 [==============================] - 0s 4ms/step - loss: 133.5325 - val_loss: 1227.1201\n",
      "Epoch 402/500\n",
      "24/24 [==============================] - 0s 4ms/step - loss: 133.5325 - val_loss: 1227.1199\n",
      "Epoch 403/500\n",
      "24/24 [==============================] - 0s 4ms/step - loss: 133.5326 - val_loss: 1227.1201\n",
      "Epoch 404/500\n",
      "24/24 [==============================] - 0s 5ms/step - loss: 133.5326 - val_loss: 1227.1202\n",
      "Epoch 405/500\n",
      "24/24 [==============================] - 0s 4ms/step - loss: 133.5325 - val_loss: 1227.1202\n",
      "Epoch 406/500\n",
      "24/24 [==============================] - 0s 5ms/step - loss: 133.5326 - val_loss: 1227.1201\n",
      "Epoch 407/500\n",
      "24/24 [==============================] - 0s 5ms/step - loss: 133.5326 - val_loss: 1227.1204\n",
      "Epoch 408/500\n",
      "24/24 [==============================] - 0s 5ms/step - loss: 133.5326 - val_loss: 1227.1202\n",
      "Epoch 409/500\n",
      "24/24 [==============================] - 0s 5ms/step - loss: 133.5326 - val_loss: 1227.1201\n",
      "Epoch 410/500\n",
      "24/24 [==============================] - 0s 5ms/step - loss: 133.5326 - val_loss: 1227.1202\n",
      "Epoch 411/500\n",
      "24/24 [==============================] - 0s 9ms/step - loss: 133.5326 - val_loss: 1227.1199\n",
      "Epoch 412/500\n",
      "24/24 [==============================] - 0s 5ms/step - loss: 133.5326 - val_loss: 1227.1198\n",
      "Epoch 413/500\n",
      "24/24 [==============================] - 0s 5ms/step - loss: 133.5326 - val_loss: 1227.1199\n",
      "Epoch 414/500\n",
      "24/24 [==============================] - 0s 5ms/step - loss: 133.5326 - val_loss: 1227.1195\n",
      "Epoch 415/500\n",
      "24/24 [==============================] - 0s 4ms/step - loss: 133.5326 - val_loss: 1227.1196\n",
      "Epoch 416/500\n",
      "24/24 [==============================] - 0s 4ms/step - loss: 133.5326 - val_loss: 1227.1196\n",
      "Epoch 417/500\n",
      "24/24 [==============================] - 0s 4ms/step - loss: 133.5327 - val_loss: 1227.1196\n",
      "Epoch 418/500\n",
      "24/24 [==============================] - 0s 5ms/step - loss: 133.5327 - val_loss: 1227.1196\n",
      "Epoch 419/500\n",
      "24/24 [==============================] - 0s 5ms/step - loss: 133.5327 - val_loss: 1227.1196\n",
      "Epoch 420/500\n",
      "24/24 [==============================] - 0s 5ms/step - loss: 133.5327 - val_loss: 1227.1194\n",
      "Epoch 421/500\n",
      "24/24 [==============================] - 0s 5ms/step - loss: 133.5327 - val_loss: 1227.1189\n",
      "Epoch 422/500\n",
      "24/24 [==============================] - 0s 4ms/step - loss: 133.5327 - val_loss: 1227.1188\n",
      "Epoch 423/500\n",
      "24/24 [==============================] - 0s 4ms/step - loss: 133.5327 - val_loss: 1227.1188\n",
      "Epoch 424/500\n",
      "24/24 [==============================] - 0s 5ms/step - loss: 133.5327 - val_loss: 1227.1191\n",
      "Epoch 425/500\n",
      "24/24 [==============================] - 0s 5ms/step - loss: 133.5327 - val_loss: 1227.1191\n",
      "Epoch 426/500\n",
      "24/24 [==============================] - 0s 5ms/step - loss: 133.5327 - val_loss: 1227.1191\n",
      "Epoch 427/500\n",
      "24/24 [==============================] - 0s 5ms/step - loss: 133.5327 - val_loss: 1227.1188\n",
      "Epoch 428/500\n",
      "24/24 [==============================] - 0s 4ms/step - loss: 133.5328 - val_loss: 1227.1188\n",
      "Epoch 429/500\n",
      "24/24 [==============================] - 0s 5ms/step - loss: 133.5328 - val_loss: 1227.1191\n",
      "Epoch 430/500\n",
      "24/24 [==============================] - 0s 5ms/step - loss: 133.5328 - val_loss: 1227.1193\n",
      "Epoch 431/500\n",
      "24/24 [==============================] - 0s 5ms/step - loss: 133.5328 - val_loss: 1227.1193\n",
      "Epoch 432/500\n",
      "24/24 [==============================] - 0s 9ms/step - loss: 133.5328 - val_loss: 1227.1193\n",
      "Epoch 433/500\n",
      "24/24 [==============================] - 0s 5ms/step - loss: 133.5328 - val_loss: 1227.1189\n",
      "Epoch 434/500\n",
      "24/24 [==============================] - 0s 5ms/step - loss: 133.5328 - val_loss: 1227.1189\n",
      "Epoch 435/500\n",
      "24/24 [==============================] - 0s 4ms/step - loss: 133.5328 - val_loss: 1227.1189\n",
      "Epoch 436/500\n",
      "24/24 [==============================] - 0s 5ms/step - loss: 133.5328 - val_loss: 1227.1193\n",
      "Epoch 437/500\n",
      "24/24 [==============================] - 0s 5ms/step - loss: 133.5328 - val_loss: 1227.1193\n",
      "Epoch 438/500\n",
      "24/24 [==============================] - 0s 4ms/step - loss: 133.5328 - val_loss: 1227.1193\n",
      "Epoch 439/500\n",
      "24/24 [==============================] - 0s 5ms/step - loss: 133.5328 - val_loss: 1227.1193\n",
      "Epoch 440/500\n",
      "24/24 [==============================] - 0s 5ms/step - loss: 133.5328 - val_loss: 1227.1194\n",
      "Epoch 441/500\n",
      "24/24 [==============================] - 0s 5ms/step - loss: 133.5328 - val_loss: 1227.1196\n",
      "Epoch 442/500\n",
      "24/24 [==============================] - 0s 5ms/step - loss: 133.5328 - val_loss: 1227.1194\n",
      "Epoch 443/500\n",
      "24/24 [==============================] - 0s 5ms/step - loss: 133.5328 - val_loss: 1227.1194\n",
      "Epoch 444/500\n",
      "24/24 [==============================] - 0s 4ms/step - loss: 133.5328 - val_loss: 1227.1194\n",
      "Epoch 445/500\n",
      "24/24 [==============================] - 0s 4ms/step - loss: 133.5329 - val_loss: 1227.1196\n",
      "Epoch 446/500\n",
      "24/24 [==============================] - 0s 5ms/step - loss: 133.5328 - val_loss: 1227.1196\n",
      "Epoch 447/500\n",
      "24/24 [==============================] - 0s 5ms/step - loss: 133.5328 - val_loss: 1227.1199\n",
      "Epoch 448/500\n",
      "24/24 [==============================] - 0s 5ms/step - loss: 133.5328 - val_loss: 1227.1199\n",
      "Epoch 449/500\n",
      "24/24 [==============================] - 0s 4ms/step - loss: 133.5328 - val_loss: 1227.1199\n",
      "Epoch 450/500\n",
      "24/24 [==============================] - 0s 4ms/step - loss: 133.5328 - val_loss: 1227.1196\n",
      "Epoch 451/500\n",
      "24/24 [==============================] - 0s 5ms/step - loss: 133.5328 - val_loss: 1227.1194\n",
      "Epoch 452/500\n",
      "24/24 [==============================] - 0s 5ms/step - loss: 133.5328 - val_loss: 1227.1191\n",
      "Epoch 453/500\n",
      "24/24 [==============================] - 0s 5ms/step - loss: 133.5328 - val_loss: 1227.1191\n",
      "Epoch 454/500\n",
      "24/24 [==============================] - 0s 9ms/step - loss: 133.5329 - val_loss: 1227.1193\n",
      "Epoch 455/500\n",
      "24/24 [==============================] - 0s 5ms/step - loss: 133.5329 - val_loss: 1227.1193\n",
      "Epoch 456/500\n",
      "24/24 [==============================] - 0s 5ms/step - loss: 133.5329 - val_loss: 1227.1194\n",
      "Epoch 457/500\n",
      "24/24 [==============================] - 0s 5ms/step - loss: 133.5329 - val_loss: 1227.1194\n",
      "Epoch 458/500\n",
      "24/24 [==============================] - 0s 5ms/step - loss: 133.5329 - val_loss: 1227.1194\n",
      "Epoch 459/500\n",
      "24/24 [==============================] - 0s 4ms/step - loss: 133.5329 - val_loss: 1227.1194\n",
      "Epoch 460/500\n",
      "24/24 [==============================] - 0s 4ms/step - loss: 133.5329 - val_loss: 1227.1193\n",
      "Epoch 461/500\n",
      "24/24 [==============================] - 0s 5ms/step - loss: 133.5329 - val_loss: 1227.1196\n",
      "Epoch 462/500\n",
      "24/24 [==============================] - 0s 5ms/step - loss: 133.5329 - val_loss: 1227.1196\n",
      "Epoch 463/500\n",
      "24/24 [==============================] - 0s 5ms/step - loss: 133.5329 - val_loss: 1227.1194\n",
      "Epoch 464/500\n",
      "24/24 [==============================] - 0s 4ms/step - loss: 133.5329 - val_loss: 1227.1195\n",
      "Epoch 465/500\n",
      "24/24 [==============================] - 0s 5ms/step - loss: 133.5328 - val_loss: 1227.1195\n",
      "Epoch 466/500\n",
      "24/24 [==============================] - 0s 5ms/step - loss: 133.5328 - val_loss: 1227.1193\n",
      "Epoch 467/500\n",
      "24/24 [==============================] - 0s 5ms/step - loss: 133.5329 - val_loss: 1227.1193\n",
      "Epoch 468/500\n",
      "24/24 [==============================] - 0s 5ms/step - loss: 133.5329 - val_loss: 1227.1191\n",
      "Epoch 469/500\n",
      "24/24 [==============================] - 0s 4ms/step - loss: 133.5329 - val_loss: 1227.1193\n",
      "Epoch 470/500\n",
      "24/24 [==============================] - 0s 4ms/step - loss: 133.5329 - val_loss: 1227.1190\n",
      "Epoch 471/500\n",
      "24/24 [==============================] - 0s 4ms/step - loss: 133.5329 - val_loss: 1227.1189\n",
      "Epoch 472/500\n",
      "24/24 [==============================] - 0s 4ms/step - loss: 133.5329 - val_loss: 1227.1188\n",
      "Epoch 473/500\n",
      "24/24 [==============================] - 0s 5ms/step - loss: 133.5329 - val_loss: 1227.1190\n",
      "Epoch 474/500\n",
      "24/24 [==============================] - 0s 10ms/step - loss: 133.5329 - val_loss: 1227.1190\n",
      "Epoch 475/500\n",
      "24/24 [==============================] - 0s 6ms/step - loss: 133.5329 - val_loss: 1227.1190\n",
      "Epoch 476/500\n",
      "24/24 [==============================] - 0s 5ms/step - loss: 133.5329 - val_loss: 1227.1191\n",
      "Epoch 477/500\n",
      "24/24 [==============================] - 0s 5ms/step - loss: 133.5329 - val_loss: 1227.1193\n",
      "Epoch 478/500\n",
      "24/24 [==============================] - 0s 5ms/step - loss: 133.5329 - val_loss: 1227.1194\n",
      "Epoch 479/500\n",
      "24/24 [==============================] - 0s 7ms/step - loss: 133.5329 - val_loss: 1227.1194\n",
      "Epoch 480/500\n",
      "24/24 [==============================] - 0s 5ms/step - loss: 133.5329 - val_loss: 1227.1193\n",
      "Epoch 481/500\n",
      "24/24 [==============================] - 0s 5ms/step - loss: 133.5329 - val_loss: 1227.1193\n",
      "Epoch 482/500\n",
      "24/24 [==============================] - 0s 4ms/step - loss: 133.5329 - val_loss: 1227.1193\n",
      "Epoch 483/500\n",
      "24/24 [==============================] - 0s 5ms/step - loss: 133.5329 - val_loss: 1227.1194\n",
      "Epoch 484/500\n",
      "24/24 [==============================] - 0s 5ms/step - loss: 133.5329 - val_loss: 1227.1196\n",
      "Epoch 485/500\n",
      "24/24 [==============================] - 0s 5ms/step - loss: 133.5330 - val_loss: 1227.1196\n",
      "Epoch 486/500\n",
      "24/24 [==============================] - 0s 5ms/step - loss: 133.5330 - val_loss: 1227.1196\n",
      "Epoch 487/500\n",
      "24/24 [==============================] - 0s 5ms/step - loss: 133.5330 - val_loss: 1227.1196\n",
      "Epoch 488/500\n",
      "24/24 [==============================] - 0s 4ms/step - loss: 133.5330 - val_loss: 1227.1198\n",
      "Epoch 489/500\n",
      "24/24 [==============================] - 0s 4ms/step - loss: 133.5329 - val_loss: 1227.1198\n",
      "Epoch 490/500\n",
      "24/24 [==============================] - 0s 5ms/step - loss: 133.5329 - val_loss: 1227.1199\n",
      "Epoch 491/500\n",
      "24/24 [==============================] - 0s 5ms/step - loss: 133.5329 - val_loss: 1227.1196\n",
      "Epoch 492/500\n",
      "24/24 [==============================] - 0s 4ms/step - loss: 133.5329 - val_loss: 1227.1196\n",
      "Epoch 493/500\n",
      "24/24 [==============================] - 0s 9ms/step - loss: 133.5329 - val_loss: 1227.1196\n",
      "Epoch 494/500\n",
      "24/24 [==============================] - 0s 5ms/step - loss: 133.5329 - val_loss: 1227.1196\n",
      "Epoch 495/500\n",
      "24/24 [==============================] - 0s 6ms/step - loss: 133.5329 - val_loss: 1227.1194\n",
      "Epoch 496/500\n",
      "24/24 [==============================] - 0s 5ms/step - loss: 133.5329 - val_loss: 1227.1194\n",
      "Epoch 497/500\n",
      "24/24 [==============================] - 0s 5ms/step - loss: 133.5329 - val_loss: 1227.1193\n",
      "Epoch 498/500\n",
      "24/24 [==============================] - 0s 5ms/step - loss: 133.5330 - val_loss: 1227.1193\n",
      "Epoch 499/500\n",
      "24/24 [==============================] - 0s 5ms/step - loss: 133.5330 - val_loss: 1227.1191\n",
      "Epoch 500/500\n",
      "24/24 [==============================] - 0s 5ms/step - loss: 133.5330 - val_loss: 1227.1191\n"
     ]
    }
   ],
   "source": [
    "C0 = tf.Variable(86.6465, name=\"C0\", trainable=True, dtype=tf.float32)\n",
    "K0 = tf.Variable(-0.0029, name=\"K0\", trainable=True, dtype=tf.float32)\n",
    "K1 = tf.Variable(-0.0003, name=\"K1\", trainable=True, dtype=tf.float32)\n",
    "a = tf.Variable(0.0000, name=\"a\", trainable=True, dtype=tf.float32)\n",
    "b = tf.Variable(0.0168, name=\"b\", trainable=True, dtype=tf.float32)\n",
    "c = tf.Variable(2.3581, name=\"c\", trainable=True, dtype=tf.float32)\n",
    "\n",
    "splitr = 0.8\n",
    "\n",
    "\n",
    "def loss_fn(y_true, y_pred):\n",
    "    squared_difference = tf.square(y_true[:, 0] - y_pred[:, 0])\n",
    "    #squared_difference2 = tf.square(y_true[:, 2]-y_pred[:, 2])\n",
    "    #squared_difference1 = tf.square(y_true[:, 1]-y_pred[:, 1])\n",
    "    epsilon = 1\n",
    "    squared_difference3 = tf.square(\n",
    "        y_pred[:, 1] - (\n",
    "            y_pred[:, 0] * (\n",
    "                K0 - K1 * (\n",
    "                    9 * a * tf.math.log((y_pred[:, 0] + epsilon) / C0) / (K0 - K1 * c)**2 +\n",
    "                    4 * b * tf.math.log((y_pred[:, 0] + epsilon) / C0) / (K0 - K1 * c) + c\n",
    "                )\n",
    "            )\n",
    "        )\n",
    "    )\n",
    "    return tf.reduce_mean(squared_difference, axis=-1) + 0.2*tf.reduce_mean(squared_difference3, axis=-1)\n",
    "model = Sequential()\n",
    "model.add(LSTM(100, input_shape=(trainX.shape[1], trainX.shape[2])))\n",
    "model.add(Dense(60))\n",
    "model.compile(loss=loss_fn, optimizer='adam')\n",
    "history = model.fit(trainX[:int(splitr*trainX.shape[0])], trainy[:int(splitr*trainX.shape[0])], epochs=500, batch_size=64, validation_data=(trainX[int(splitr*trainX.shape[0]):trainX.shape[0]], trainy[int(splitr*trainX.shape[0]):trainX.shape[0]]), shuffle=False)"
   ]
  },
  {
   "cell_type": "code",
   "execution_count": 19,
   "metadata": {
    "colab": {
     "base_uri": "https://localhost:8080/"
    },
    "id": "yJL101rPyuoT",
    "outputId": "239ff2b1-c186-423a-d316-939dfdd7c793"
   },
   "outputs": [
    {
     "name": "stdout",
     "output_type": "stream",
     "text": [
      "1/1 [==============================] - 0s 401ms/step\n"
     ]
    }
   ],
   "source": [
    "forecast_without_mc = forecastX\n",
    "yhat_without_mc = model.predict(forecast_without_mc) # Step Ahead Prediction\n",
    "forecast_without_mc = forecast_without_mc.reshape((forecast_without_mc.shape[0], forecast_without_mc.shape[2])) # Historical Input"
   ]
  },
  {
   "cell_type": "code",
   "execution_count": 20,
   "metadata": {
    "colab": {
     "base_uri": "https://localhost:8080/"
    },
    "id": "g9dQELcJ8wbp",
    "outputId": "4dc7671b-b1a8-48d5-8744-a86f98446109"
   },
   "outputs": [
    {
     "data": {
      "text/plain": [
       "(1, 1, 251)"
      ]
     },
     "execution_count": 20,
     "metadata": {},
     "output_type": "execute_result"
    }
   ],
   "source": [
    "forecastX.shape"
   ]
  },
  {
   "cell_type": "code",
   "execution_count": 21,
   "metadata": {
    "colab": {
     "base_uri": "https://localhost:8080/"
    },
    "id": "IS2kyIKG1Kbr",
    "outputId": "f31b3485-8e26-452f-9298-ea8bf7e80ad1"
   },
   "outputs": [
    {
     "data": {
      "text/plain": [
       "(1, 251)"
      ]
     },
     "execution_count": 21,
     "metadata": {},
     "output_type": "execute_result"
    }
   ],
   "source": [
    "forecast_without_mc.shape"
   ]
  },
  {
   "cell_type": "code",
   "execution_count": 22,
   "metadata": {
    "id": "0u6VIzaDyuoT"
   },
   "outputs": [],
   "source": [
    "inv_yhat_without_mc = np.concatenate((forecast_without_mc, yhat_without_mc), axis=1) # Concatenation of predicted values with Historical Data\n",
    "#inv_yhat_without_mc = scaler.inverse_transform(inv_yhat_without_mc) # Transform labels back to original encoding"
   ]
  },
  {
   "cell_type": "code",
   "execution_count": 23,
   "metadata": {
    "colab": {
     "base_uri": "https://localhost:8080/"
    },
    "id": "EUEcw0LX07oU",
    "outputId": "cfc32397-9c37-4b43-d087-584bb31c3dcc"
   },
   "outputs": [
    {
     "data": {
      "text/plain": [
       "(1, 311)"
      ]
     },
     "execution_count": 23,
     "metadata": {},
     "output_type": "execute_result"
    }
   ],
   "source": [
    "inv_yhat_without_mc.shape"
   ]
  },
  {
   "cell_type": "code",
   "execution_count": 24,
   "metadata": {
    "id": "31OWVbSh_305"
   },
   "outputs": [],
   "source": [
    "fforecast = inv_yhat_without_mc[:,-300:]"
   ]
  },
  {
   "cell_type": "code",
   "execution_count": 25,
   "metadata": {},
   "outputs": [
    {
     "data": {
      "text/plain": [
       "(1, 300)"
      ]
     },
     "execution_count": 25,
     "metadata": {},
     "output_type": "execute_result"
    }
   ],
   "source": [
    "fforecast.shape"
   ]
  },
  {
   "cell_type": "code",
   "execution_count": 26,
   "metadata": {
    "id": "BlpGH2FOAiRF"
   },
   "outputs": [],
   "source": [
    "final_forecast = fforecast[:,0:300:3]"
   ]
  },
  {
   "cell_type": "code",
   "execution_count": 27,
   "metadata": {},
   "outputs": [
    {
     "data": {
      "text/plain": [
       "(1, 300)"
      ]
     },
     "execution_count": 27,
     "metadata": {},
     "output_type": "execute_result"
    }
   ],
   "source": [
    "fforecast.shape"
   ]
  },
  {
   "cell_type": "code",
   "execution_count": 28,
   "metadata": {
    "id": "CXkgkj_LBk_t"
   },
   "outputs": [],
   "source": [
    "# code to replace all negative value with 0\n",
    "final_forecast[final_forecast<0] = 0"
   ]
  },
  {
   "cell_type": "code",
   "execution_count": 29,
   "metadata": {},
   "outputs": [
    {
     "data": {
      "text/plain": [
       "array([[6.30997899e+01, 6.28728992e+01, 6.26460084e+01, 6.24191176e+01,\n",
       "        6.95426636e+01, 1.80712970e-01, 0.00000000e+00, 4.00745988e-01,\n",
       "        8.21726920e-02, 0.00000000e+00, 6.11513257e-01, 0.00000000e+00,\n",
       "        0.00000000e+00, 6.17926471e+01, 6.17338235e+01, 6.16750000e+01,\n",
       "        6.16161765e+01, 6.15792857e+01, 6.38893791e+01, 6.37129085e+01,\n",
       "        6.35364379e+01, 6.33599673e+01, 6.31502101e+01, 6.29233193e+01,\n",
       "        6.26964286e+01, 6.24695378e+01, 6.23825163e+01, 6.10286120e-01,\n",
       "        0.00000000e+00, 6.32426471e+01, 6.30157563e+01, 6.27888655e+01,\n",
       "        6.25619748e+01, 6.23927871e+01, 6.23675770e+01, 6.23423669e+01,\n",
       "        6.23171569e+01, 6.22436274e+01, 4.91281510e-01, 0.00000000e+00,\n",
       "        7.44389700e-02, 0.00000000e+00, 5.01668390e-01, 0.00000000e+00,\n",
       "        5.32359540e-01, 2.62233850e-01, 7.06635000e-01, 6.25199580e+01,\n",
       "        6.23881186e+01, 1.30264850e-01, 0.00000000e+00, 6.32930672e+01,\n",
       "        6.30661765e+01, 6.28392857e+01, 6.26123950e+01, 6.23983894e+01,\n",
       "        6.23731793e+01, 6.23479692e+01, 6.23227591e+01, 6.22828431e+01,\n",
       "        0.00000000e+00, 0.00000000e+00, 6.24779412e+01, 6.23834501e+01,\n",
       "        6.23582400e+01, 6.23330299e+01, 6.23078198e+01, 6.21782680e+01,\n",
       "        6.20017974e+01, 6.18253268e+01, 6.16488562e+01, 6.26947700e-01,\n",
       "        4.36337980e-01, 4.17646065e+01, 0.00000000e+00, 0.00000000e+00,\n",
       "        2.65527010e-01, 2.89794450e-01, 0.00000000e+00, 1.46630410e-01,\n",
       "        6.07083626e+01, 0.00000000e+00, 2.27964431e-01, 0.00000000e+00,\n",
       "        3.15263271e-02, 1.38952565e+00, 6.51840091e-01, 0.00000000e+00,\n",
       "        0.00000000e+00, 1.80357531e-01, 0.00000000e+00, 4.49932277e-01,\n",
       "        0.00000000e+00, 0.00000000e+00, 0.00000000e+00, 0.00000000e+00,\n",
       "        0.00000000e+00, 4.09291923e-01, 4.09487516e-01, 0.00000000e+00]])"
      ]
     },
     "execution_count": 29,
     "metadata": {},
     "output_type": "execute_result"
    }
   ],
   "source": [
    "final_forecast"
   ]
  },
  {
   "cell_type": "code",
   "execution_count": 30,
   "metadata": {},
   "outputs": [
    {
     "data": {
      "text/plain": [
       "(1, 100)"
      ]
     },
     "execution_count": 30,
     "metadata": {},
     "output_type": "execute_result"
    }
   ],
   "source": [
    "final_forecast.shape"
   ]
  },
  {
   "cell_type": "code",
   "execution_count": 31,
   "metadata": {},
   "outputs": [
    {
     "data": {
      "text/plain": [
       "(100,)"
      ]
     },
     "execution_count": 31,
     "metadata": {},
     "output_type": "execute_result"
    }
   ],
   "source": [
    "test.shape"
   ]
  },
  {
   "cell_type": "code",
   "execution_count": 32,
   "metadata": {},
   "outputs": [],
   "source": [
    "training_set = np.array(training_set)\n",
    "test = np.array(test)\n",
    "final_forecast = np.array(final_forecast.squeeze(0))"
   ]
  },
  {
   "cell_type": "code",
   "execution_count": 33,
   "metadata": {},
   "outputs": [
    {
     "data": {
      "text/plain": [
       "array([53.94024732, 53.93150236, 53.9227574 , 53.91401243, 53.90526747,\n",
       "       53.89652251, 53.88777755, 53.87903259, 53.87028763, 53.86154267,\n",
       "       53.8527977 , 53.84405274, 53.83530778, 53.82656282, 53.81781786,\n",
       "       53.8090729 , 53.80032794, 53.79158297, 53.78283801, 53.77409305,\n",
       "       53.76534809, 53.75660313, 53.74785817, 53.73911321, 53.73036824,\n",
       "       53.72162328, 53.71287832, 53.70413336, 53.6953884 , 53.68664344,\n",
       "       53.67789848, 53.66915352, 53.66040855, 53.65166359, 53.64291863,\n",
       "       53.63417367, 53.62542871, 53.61668375, 53.60793879, 53.59919382,\n",
       "       53.59044886, 53.5817039 , 53.57295894, 53.56421398, 53.55546902,\n",
       "       53.54672406, 53.53797909, 53.52923413, 53.52048917, 53.51174421,\n",
       "       53.50299925, 53.49425429, 53.48550933, 53.47676436, 53.4680194 ,\n",
       "       53.45927444, 53.45052948, 53.44178452, 53.43303956, 53.4242946 ,\n",
       "       53.41554963, 53.40680467, 53.39805971, 53.38931475, 53.38056979,\n",
       "       53.37182483, 53.36307987, 53.3543349 , 53.34558994, 53.33684498,\n",
       "       53.32810002, 53.31935506, 53.3106101 , 53.30186514, 53.29312017,\n",
       "       53.28437521, 53.27563025, 53.26688529, 53.25814033, 53.24939537,\n",
       "       53.24065041, 53.23190545, 53.22316048, 53.21441552, 53.20567056,\n",
       "       53.1969256 , 53.18818064, 53.17943568, 53.17069072, 53.16194575,\n",
       "       53.15320079, 53.14445583, 53.13571087, 53.12696591, 53.11822095,\n",
       "       53.10947599, 53.10073102, 53.09198606, 53.0832411 , 53.07449614])"
      ]
     },
     "execution_count": 33,
     "metadata": {},
     "output_type": "execute_result"
    }
   ],
   "source": [
    "test"
   ]
  },
  {
   "cell_type": "code",
   "execution_count": 34,
   "metadata": {},
   "outputs": [
    {
     "data": {
      "text/plain": [
       "(100,)"
      ]
     },
     "execution_count": 34,
     "metadata": {},
     "output_type": "execute_result"
    }
   ],
   "source": [
    "test.shape"
   ]
  },
  {
   "cell_type": "code",
   "execution_count": 35,
   "metadata": {},
   "outputs": [
    {
     "data": {
      "text/plain": [
       "(100,)"
      ]
     },
     "execution_count": 35,
     "metadata": {},
     "output_type": "execute_result"
    }
   ],
   "source": [
    "final_forecast.shape"
   ]
  },
  {
   "cell_type": "code",
   "execution_count": 36,
   "metadata": {},
   "outputs": [
    {
     "data": {
      "text/plain": [
       "(100,)"
      ]
     },
     "execution_count": 36,
     "metadata": {},
     "output_type": "execute_result"
    }
   ],
   "source": [
    "test.shape"
   ]
  },
  {
   "cell_type": "code",
   "execution_count": 37,
   "metadata": {},
   "outputs": [
    {
     "name": "stdout",
     "output_type": "stream",
     "text": [
      "38.17619690030628\n",
      "31.14018378714832\n"
     ]
    }
   ],
   "source": [
    "import math\n",
    "MSE = np.square(np.subtract(np.array(test),np.array(final_forecast))).mean()   \n",
    "rsme = math.sqrt(MSE)\n",
    "print(rsme)  \n",
    "MAE = np.abs(np.subtract(np.array(test),np.array(final_forecast))).mean()   \n",
    "mae = MAE\n",
    "print(mae)"
   ]
  }
 ],
 "metadata": {
  "colab": {
   "provenance": []
  },
  "kernelspec": {
   "display_name": "Python 3",
   "language": "python",
   "name": "python3"
  },
  "language_info": {
   "codemirror_mode": {
    "name": "ipython",
    "version": 3
   },
   "file_extension": ".py",
   "mimetype": "text/x-python",
   "name": "python",
   "nbconvert_exporter": "python",
   "pygments_lexer": "ipython3",
   "version": "3.9.13"
  }
 },
 "nbformat": 4,
 "nbformat_minor": 0
}
