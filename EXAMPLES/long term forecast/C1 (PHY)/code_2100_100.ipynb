{
 "cells": [
  {
   "cell_type": "markdown",
   "metadata": {
    "id": "pCGKeZ2gyuoQ"
   },
   "source": [
    "_Importing Required Libraries_"
   ]
  },
  {
   "cell_type": "code",
   "execution_count": 1,
   "metadata": {
    "colab": {
     "base_uri": "https://localhost:8080/"
    },
    "id": "A-6LN-zXiLcM",
    "outputId": "4de610a4-f8b8-4f49-c6c0-89de299ccedc"
   },
   "outputs": [
    {
     "name": "stdout",
     "output_type": "stream",
     "text": [
      "Requirement already satisfied: hampel in c:\\users\\anurag dutta\\appdata\\local\\packages\\pythonsoftwarefoundation.python.3.9_qbz5n2kfra8p0\\localcache\\local-packages\\python39\\site-packages (0.0.5)\n",
      "Requirement already satisfied: numpy in c:\\users\\anurag dutta\\appdata\\local\\packages\\pythonsoftwarefoundation.python.3.9_qbz5n2kfra8p0\\localcache\\local-packages\\python39\\site-packages (from hampel) (1.26.4)\n",
      "Requirement already satisfied: pandas in c:\\users\\anurag dutta\\appdata\\local\\packages\\pythonsoftwarefoundation.python.3.9_qbz5n2kfra8p0\\localcache\\local-packages\\python39\\site-packages (from hampel) (1.5.2)\n",
      "Requirement already satisfied: python-dateutil>=2.8.1 in c:\\users\\anurag dutta\\appdata\\local\\packages\\pythonsoftwarefoundation.python.3.9_qbz5n2kfra8p0\\localcache\\local-packages\\python39\\site-packages (from pandas->hampel) (2.8.2)\n",
      "Requirement already satisfied: pytz>=2020.1 in c:\\users\\anurag dutta\\appdata\\local\\packages\\pythonsoftwarefoundation.python.3.9_qbz5n2kfra8p0\\localcache\\local-packages\\python39\\site-packages (from pandas->hampel) (2023.3.post1)\n",
      "Requirement already satisfied: six>=1.5 in c:\\users\\anurag dutta\\appdata\\local\\packages\\pythonsoftwarefoundation.python.3.9_qbz5n2kfra8p0\\localcache\\local-packages\\python39\\site-packages (from python-dateutil>=2.8.1->pandas->hampel) (1.16.0)\n",
      "Note: you may need to restart the kernel to use updated packages.\n"
     ]
    },
    {
     "name": "stderr",
     "output_type": "stream",
     "text": [
      "\n",
      "[notice] A new release of pip is available: 24.2 -> 24.3.1\n",
      "[notice] To update, run: C:\\Users\\Anurag Dutta\\AppData\\Local\\Microsoft\\WindowsApps\\PythonSoftwareFoundation.Python.3.9_qbz5n2kfra8p0\\python.exe -m pip install --upgrade pip\n"
     ]
    }
   ],
   "source": [
    "pip install hampel"
   ]
  },
  {
   "cell_type": "code",
   "execution_count": 2,
   "metadata": {
    "id": "By_d9uXpaFvZ"
   },
   "outputs": [],
   "source": [
    "from keras.models import Sequential\n",
    "from keras.layers import Dense\n",
    "from keras.layers import LSTM\n",
    "from keras.layers import Dropout\n",
    "import keras\n",
    "import tensorflow as tf\n",
    "from hampel import hampel\n",
    "import numpy as np\n",
    "import matplotlib.pyplot as plt\n",
    "import pandas as pd\n",
    "from sklearn.preprocessing import MinMaxScaler\n",
    "from sklearn.metrics import mean_squared_error, mean_absolute_error\n",
    "from math import sqrt\n",
    "from matplotlib import pyplot\n",
    "from numpy import array"
   ]
  },
  {
   "cell_type": "markdown",
   "metadata": {
    "id": "JyOjBMFayuoR"
   },
   "source": [
    "## Pretraining"
   ]
  },
  {
   "cell_type": "markdown",
   "metadata": {
    "id": "-5QqIY_GyuoR"
   },
   "source": [
    "The `capa_intermittency.dat` feeds the model with the dynamics of the Capacitor"
   ]
  },
  {
   "cell_type": "code",
   "execution_count": 3,
   "metadata": {
    "id": "9dV4a8yfyuoR"
   },
   "outputs": [],
   "source": [
    "data = np.genfromtxt('capa_intermittency.dat')\n",
    "training_set = pd.DataFrame(data).reset_index(drop=True)\n",
    "training_set = training_set.iloc[:,0]"
   ]
  },
  {
   "cell_type": "markdown",
   "metadata": {
    "id": "i7easoxByuoR"
   },
   "source": [
    "## Computing the Gradient"
   ]
  },
  {
   "cell_type": "markdown",
   "metadata": {
    "id": "5SnyolJTyuoR"
   },
   "source": [
    "_Calculating the value of_ $\\frac{dx}{dt}$"
   ]
  },
  {
   "cell_type": "code",
   "execution_count": 4,
   "metadata": {
    "colab": {
     "base_uri": "https://localhost:8080/"
    },
    "id": "wmIbVfIvyuoR",
    "outputId": "aa4e3136-c854-465d-d2e9-81cfd546e440"
   },
   "outputs": [
    {
     "name": "stdout",
     "output_type": "stream",
     "text": [
      "1.0\n",
      "1        0.000298\n",
      "2        0.000298\n",
      "3        0.000297\n",
      "4        0.000297\n",
      "5        0.000297\n",
      "           ...   \n",
      "9996     0.000018\n",
      "9997     0.000018\n",
      "9998     0.000018\n",
      "9999     0.000018\n",
      "10000    0.000018\n",
      "Name: 0, Length: 10000, dtype: float64\n"
     ]
    }
   ],
   "source": [
    "t_diff = 1\n",
    "print(training_set.max())\n",
    "gradient_t = (training_set.diff()/t_diff).iloc[1:] # dx/dt\n",
    "print(gradient_t)"
   ]
  },
  {
   "cell_type": "markdown",
   "metadata": {
    "id": "_2eVeeoxyuoS"
   },
   "source": [
    "## Loading Datasets"
   ]
  },
  {
   "cell_type": "code",
   "execution_count": 5,
   "metadata": {
    "id": "0J-NKyIEyuoS"
   },
   "outputs": [
    {
     "data": {
      "text/plain": [
       "0       89.200000\n",
       "1       88.931092\n",
       "2       88.662185\n",
       "3       88.393277\n",
       "4       88.124370\n",
       "          ...    \n",
       "2195    54.858468\n",
       "2196    54.849723\n",
       "2197    54.840978\n",
       "2198    54.832233\n",
       "2199    54.823488\n",
       "Name: C1, Length: 2200, dtype: float64"
      ]
     },
     "execution_count": 5,
     "metadata": {},
     "output_type": "execute_result"
    }
   ],
   "source": [
    "data = pd.read_csv(\"c1_interpolated_2100_100.csv\")\n",
    "training_set = data.iloc[:, 1]\n",
    "training_set"
   ]
  },
  {
   "cell_type": "code",
   "execution_count": 6,
   "metadata": {
    "colab": {
     "base_uri": "https://localhost:8080/"
    },
    "id": "-CbNUhJ74UqF",
    "outputId": "20f562d8-8247-49cc-b9c3-00eca5e13e2d"
   },
   "outputs": [
    {
     "data": {
      "text/plain": [
       "0       89.200000\n",
       "1       88.931092\n",
       "2       88.662185\n",
       "3       88.393277\n",
       "4       88.124370\n",
       "          ...    \n",
       "2095     0.000000\n",
       "2096     0.075181\n",
       "2097     0.000000\n",
       "2098     0.146630\n",
       "2099     0.282301\n",
       "Name: C1, Length: 2100, dtype: float64"
      ]
     },
     "execution_count": 6,
     "metadata": {},
     "output_type": "execute_result"
    }
   ],
   "source": [
    "test = training_set.tail(100)\n",
    "test\n",
    "training_set = training_set.head(2100)\n",
    "training_set"
   ]
  },
  {
   "cell_type": "code",
   "execution_count": 7,
   "metadata": {
    "colab": {
     "base_uri": "https://localhost:8080/"
    },
    "id": "X0TwTcq0yuoS",
    "outputId": "37252ed8-d88e-4044-fa7a-922411990b5b"
   },
   "outputs": [
    {
     "name": "stdout",
     "output_type": "stream",
     "text": [
      "0       0.000298\n",
      "1       0.000298\n",
      "2       0.000297\n",
      "3       0.000297\n",
      "4       0.000297\n",
      "          ...   \n",
      "9995    0.000018\n",
      "9996    0.000018\n",
      "9997    0.000018\n",
      "9998    0.000018\n",
      "9999    0.000018\n",
      "Name: 0, Length: 10000, dtype: float64\n"
     ]
    }
   ],
   "source": [
    "training_set = training_set.reset_index(drop=True)\n",
    "gradient_t = gradient_t.reset_index(drop=True)\n",
    "print(gradient_t)"
   ]
  },
  {
   "cell_type": "code",
   "execution_count": 8,
   "metadata": {
    "id": "O2biznZQyuoS"
   },
   "outputs": [],
   "source": [
    "df = pd.concat((training_set, gradient_t), axis=1)\n",
    "df.columns = ['y_t', 'grad_t']"
   ]
  },
  {
   "cell_type": "code",
   "execution_count": 9,
   "metadata": {
    "colab": {
     "base_uri": "https://localhost:8080/",
     "height": 423
    },
    "id": "sk_a5v3tyuoS",
    "outputId": "17563625-e550-45ae-faab-fafa353e44da"
   },
   "outputs": [
    {
     "data": {
      "text/html": [
       "<div>\n",
       "<style scoped>\n",
       "    .dataframe tbody tr th:only-of-type {\n",
       "        vertical-align: middle;\n",
       "    }\n",
       "\n",
       "    .dataframe tbody tr th {\n",
       "        vertical-align: top;\n",
       "    }\n",
       "\n",
       "    .dataframe thead th {\n",
       "        text-align: right;\n",
       "    }\n",
       "</style>\n",
       "<table border=\"1\" class=\"dataframe\">\n",
       "  <thead>\n",
       "    <tr style=\"text-align: right;\">\n",
       "      <th></th>\n",
       "      <th>y_t</th>\n",
       "      <th>grad_t</th>\n",
       "    </tr>\n",
       "  </thead>\n",
       "  <tbody>\n",
       "    <tr>\n",
       "      <th>0</th>\n",
       "      <td>89.200000</td>\n",
       "      <td>0.000298</td>\n",
       "    </tr>\n",
       "    <tr>\n",
       "      <th>1</th>\n",
       "      <td>88.931092</td>\n",
       "      <td>0.000298</td>\n",
       "    </tr>\n",
       "    <tr>\n",
       "      <th>2</th>\n",
       "      <td>88.662185</td>\n",
       "      <td>0.000297</td>\n",
       "    </tr>\n",
       "    <tr>\n",
       "      <th>3</th>\n",
       "      <td>88.393277</td>\n",
       "      <td>0.000297</td>\n",
       "    </tr>\n",
       "    <tr>\n",
       "      <th>4</th>\n",
       "      <td>88.124370</td>\n",
       "      <td>0.000297</td>\n",
       "    </tr>\n",
       "    <tr>\n",
       "      <th>...</th>\n",
       "      <td>...</td>\n",
       "      <td>...</td>\n",
       "    </tr>\n",
       "    <tr>\n",
       "      <th>9995</th>\n",
       "      <td>NaN</td>\n",
       "      <td>0.000018</td>\n",
       "    </tr>\n",
       "    <tr>\n",
       "      <th>9996</th>\n",
       "      <td>NaN</td>\n",
       "      <td>0.000018</td>\n",
       "    </tr>\n",
       "    <tr>\n",
       "      <th>9997</th>\n",
       "      <td>NaN</td>\n",
       "      <td>0.000018</td>\n",
       "    </tr>\n",
       "    <tr>\n",
       "      <th>9998</th>\n",
       "      <td>NaN</td>\n",
       "      <td>0.000018</td>\n",
       "    </tr>\n",
       "    <tr>\n",
       "      <th>9999</th>\n",
       "      <td>NaN</td>\n",
       "      <td>0.000018</td>\n",
       "    </tr>\n",
       "  </tbody>\n",
       "</table>\n",
       "<p>10000 rows × 2 columns</p>\n",
       "</div>"
      ],
      "text/plain": [
       "            y_t    grad_t\n",
       "0     89.200000  0.000298\n",
       "1     88.931092  0.000298\n",
       "2     88.662185  0.000297\n",
       "3     88.393277  0.000297\n",
       "4     88.124370  0.000297\n",
       "...         ...       ...\n",
       "9995        NaN  0.000018\n",
       "9996        NaN  0.000018\n",
       "9997        NaN  0.000018\n",
       "9998        NaN  0.000018\n",
       "9999        NaN  0.000018\n",
       "\n",
       "[10000 rows x 2 columns]"
      ]
     },
     "execution_count": 9,
     "metadata": {},
     "output_type": "execute_result"
    }
   ],
   "source": [
    "df"
   ]
  },
  {
   "cell_type": "markdown",
   "metadata": {
    "id": "-5esyHu5aFvg"
   },
   "source": [
    "## Plot of the External Forcing from Chaotic Differential Equation"
   ]
  },
  {
   "cell_type": "code",
   "execution_count": 10,
   "metadata": {
    "colab": {
     "base_uri": "https://localhost:8080/",
     "height": 447
    },
    "id": "hGnE43tOh-4p",
    "outputId": "fc396503-b624-4fa5-dfbe-f460207405c6"
   },
   "outputs": [
    {
     "data": {
      "text/plain": [
       "<Axes: >"
      ]
     },
     "execution_count": 10,
     "metadata": {},
     "output_type": "execute_result"
    },
    {
     "data": {
      "image/png": "[encoded data removed]",
      "text/plain": [
       "<Figure size 432x288 with 1 Axes>"
      ]
     },
     "metadata": {
      "needs_background": "light"
     },
     "output_type": "display_data"
    }
   ],
   "source": [
    "df.iloc[:, 0].plot()"
   ]
  },
  {
   "cell_type": "code",
   "execution_count": 11,
   "metadata": {
    "colab": {
     "base_uri": "https://localhost:8080/",
     "height": 447
    },
    "id": "ym4xWUUxaFvg",
    "outputId": "ae6a3495-8ce9-437e-ba81-3ed31deedeae"
   },
   "outputs": [
    {
     "name": "stderr",
     "output_type": "stream",
     "text": [
      "C:\\Users\\Anurag Dutta\\AppData\\Local\\Packages\\PythonSoftwareFoundation.Python.3.9_qbz5n2kfra8p0\\LocalCache\\local-packages\\Python39\\site-packages\\pandas\\core\\arraylike.py:402: RuntimeWarning: divide by zero encountered in log\n",
      "  result = getattr(ufunc, method)(*inputs, **kwargs)\n"
     ]
    },
    {
     "data": {
      "text/plain": [
       "<Axes: >"
      ]
     },
     "execution_count": 11,
     "metadata": {},
     "output_type": "execute_result"
    },
    {
     "data": {
      "image/png": "[encoded data removed]",
      "text/plain": [
       "<Figure size 432x288 with 1 Axes>"
      ]
     },
     "metadata": {
      "needs_background": "light"
     },
     "output_type": "display_data"
    }
   ],
   "source": [
    "import numpy as np\n",
    "c0 = 86.6465  # Value for C0\n",
    "K0 = -0.0029  # Value for K0\n",
    "K1 = -0.0003  # Value for K1\n",
    "a = 0.0000    # Value for a\n",
    "b = 0.0168    # Value for b\n",
    "c = 2.3581    # Value for c\n",
    "\n",
    "L = np.minimum(c0, (df.iloc[:, 1] - (df.iloc[:, 0] * (K0 - K1 * (9 * a * np.log(df.iloc[:, 0] / c0) / (K0 - K1 * c)**2 + 4 * b * np.log(df.iloc[:, 0] / c0) / (K0 - K1 * c) + c)))))\n",
    "L.plot()"
   ]
  },
  {
   "cell_type": "markdown",
   "metadata": {
    "id": "9VyEywnwaFvh"
   },
   "source": [
    "## Preprocessing the data into supervised learning"
   ]
  },
  {
   "cell_type": "code",
   "execution_count": 12,
   "metadata": {
    "id": "6V9dXqzdaFvh"
   },
   "outputs": [],
   "source": [
    "# split a sequence into samples\n",
    "def Supervised(data, n_in=1, n_out=1, dropnan=True):\n",
    "    n_vars = 1 if type(data) is list else data.shape[1]\n",
    "    df = pd.DataFrame(data)\n",
    "    cols, names = list(), list()\n",
    "    # input sequence (t-n_in, ... t-1)\n",
    "    for i in range(n_in, 0, -1):\n",
    "        cols.append(df.shift(i))\n",
    "        names += [('var%d(t-%d)' % (j+1, i)) for j in range(n_vars)]\n",
    "    # forecast sequence (t, t+1, ... t+n_out)\n",
    "    for i in range(0, n_out):\n",
    "      cols.append(df.shift(-i))\n",
    "      if i == 0:\n",
    "        names += [('var%d(t)' % (j+1)) for j in range(n_vars)]\n",
    "      else:\n",
    "        names += [('var%d(t+%d)' % (j+1, i)) for j in range(n_vars)]\n",
    "    # put it all together\n",
    "    agg = pd.concat(cols, axis=1)\n",
    "    agg.columns = names\n",
    "    # drop rows with NaN values\n",
    "    if dropnan:\n",
    "       agg.dropna(inplace=True)\n",
    "    return agg"
   ]
  },
  {
   "cell_type": "code",
   "execution_count": 13,
   "metadata": {
    "colab": {
     "base_uri": "https://localhost:8080/"
    },
    "id": "CrzSrT1HnyfH",
    "outputId": "7e75f928-3e47-499d-eac1-51908015ef78"
   },
   "outputs": [
    {
     "name": "stdout",
     "output_type": "stream",
     "text": [
      "     var1(t-350)  var1(t-349)  var1(t-348)  var1(t-347)  var1(t-346)  \\\n",
      "350    89.200000    88.931092    88.662185    88.393277    88.124370   \n",
      "351    88.931092    88.662185    88.393277    88.124370    87.855462   \n",
      "352    88.662185    88.393277    88.124370    87.855462    87.586555   \n",
      "353    88.393277    88.124370    87.855462    87.586555    87.317647   \n",
      "354    88.124370    87.855462    87.586555    87.317647    87.048739   \n",
      "\n",
      "     var1(t-345)  var1(t-344)  var1(t-343)  var1(t-342)  var1(t-341)  ...  \\\n",
      "350    87.855462    87.586555    87.317647    87.048739    86.794538  ...   \n",
      "351    87.586555    87.317647    87.048739    86.794538    86.721709  ...   \n",
      "352    87.317647    87.048739    86.794538    86.721709    86.648880  ...   \n",
      "353    87.048739    86.794538    86.721709    86.648880    86.576050  ...   \n",
      "354    86.794538    86.721709    86.648880    86.576050    86.503221  ...   \n",
      "\n",
      "     var1(t+95)  var2(t+95)  var1(t+96)  var2(t+96)  var1(t+97)  var2(t+97)  \\\n",
      "350   73.989683    0.000263   73.957937    0.000263   73.926190    0.000263   \n",
      "351   73.957937    0.000263   73.926190    0.000263   73.894444    0.000262   \n",
      "352   73.926190    0.000263   73.894444    0.000262   73.862698    0.000262   \n",
      "353   73.894444    0.000262   73.862698    0.000262   73.830952    0.000262   \n",
      "354   73.862698    0.000262   73.830952    0.000262   73.799206    0.000262   \n",
      "\n",
      "     var1(t+98)  var2(t+98)  var1(t+99)  var2(t+99)  \n",
      "350   73.894444    0.000262   73.862698    0.000262  \n",
      "351   73.862698    0.000262   73.830952    0.000262  \n",
      "352   73.830952    0.000262   73.799206    0.000262  \n",
      "353   73.799206    0.000262   73.767460    0.000262  \n",
      "354   73.767460    0.000262   73.735714    0.000262  \n",
      "\n",
      "[5 rows x 551 columns]\n",
      "Index(['var1(t-350)', 'var1(t-349)', 'var1(t-348)', 'var1(t-347)',\n",
      "       'var1(t-346)', 'var1(t-345)', 'var1(t-344)', 'var1(t-343)',\n",
      "       'var1(t-342)', 'var1(t-341)',\n",
      "       ...\n",
      "       'var1(t+95)', 'var2(t+95)', 'var1(t+96)', 'var2(t+96)', 'var1(t+97)',\n",
      "       'var2(t+97)', 'var1(t+98)', 'var2(t+98)', 'var1(t+99)', 'var2(t+99)'],\n",
      "      dtype='object', length=551)\n"
     ]
    }
   ],
   "source": [
    "data = Supervised(df.values, n_in = 350, n_out = 100)\n",
    "\n",
    "\n",
    "cols_to_drop = []\n",
    "for i in range(2, 351):\n",
    "    cols_to_drop.extend([f'var2(t-{i})'])\n",
    "\n",
    "data.drop(cols_to_drop, axis=1, inplace=True)\n",
    "\n",
    "print(data.head())\n",
    "print(data.columns)"
   ]
  },
  {
   "cell_type": "code",
   "execution_count": 14,
   "metadata": {
    "id": "AfPf60oy6Pe4"
   },
   "outputs": [],
   "source": [
    "train = np.array(data[0:len(data)-1])\n",
    "forecast = np.array(data.tail(1))"
   ]
  },
  {
   "cell_type": "code",
   "execution_count": 15,
   "metadata": {
    "id": "WSAafzI37KiT"
   },
   "outputs": [],
   "source": [
    "trainy = train[:,-300:]\n",
    "trainX = train[:,:-300]"
   ]
  },
  {
   "cell_type": "code",
   "execution_count": 16,
   "metadata": {
    "id": "2SrOqVJA7f50"
   },
   "outputs": [],
   "source": [
    "forecasty = forecast[:,-300:]\n",
    "forecastX = forecast[:,:-300]"
   ]
  },
  {
   "cell_type": "code",
   "execution_count": 17,
   "metadata": {
    "colab": {
     "base_uri": "https://localhost:8080/"
    },
    "id": "Qno_k8Nw7saY",
    "outputId": "c4a88db5-d8c6-489f-cdb2-06b24e293cff"
   },
   "outputs": [
    {
     "name": "stdout",
     "output_type": "stream",
     "text": [
      "(1650, 1, 251) (1650, 300) (1, 1, 251)\n"
     ]
    }
   ],
   "source": [
    "trainX = trainX.reshape((trainX.shape[0], 1, trainX.shape[1]))\n",
    "forecastX = forecastX.reshape((forecastX.shape[0], 1, forecastX.shape[1]))\n",
    "print(trainX.shape, trainy.shape, forecastX.shape)"
   ]
  },
  {
   "cell_type": "code",
   "execution_count": 18,
   "metadata": {
    "colab": {
     "base_uri": "https://localhost:8080/"
    },
    "id": "b1Jp2DvNuNFx",
    "outputId": "d0e5b3c4-64f1-438c-eade-8dfeaac8e285"
   },
   "outputs": [
    {
     "name": "stdout",
     "output_type": "stream",
     "text": [
      "Epoch 1/500\n",
      "21/21 [==============================] - 2s 27ms/step - loss: 4419.6943 - val_loss: 2828.6160\n",
      "Epoch 2/500\n",
      "21/21 [==============================] - 0s 5ms/step - loss: 4330.0127 - val_loss: 2785.1621\n",
      "Epoch 3/500\n",
      "21/21 [==============================] - 0s 5ms/step - loss: 4258.9590 - val_loss: 2745.9180\n",
      "Epoch 4/500\n",
      "21/21 [==============================] - 0s 5ms/step - loss: 4188.4487 - val_loss: 2706.3267\n",
      "Epoch 5/500\n",
      "21/21 [==============================] - 0s 5ms/step - loss: 4115.8389 - val_loss: 2665.3989\n",
      "Epoch 6/500\n",
      "21/21 [==============================] - 0s 5ms/step - loss: 4038.5190 - val_loss: 2613.5776\n",
      "Epoch 7/500\n",
      "21/21 [==============================] - 0s 5ms/step - loss: 3950.2913 - val_loss: 2569.1265\n",
      "Epoch 8/500\n",
      "21/21 [==============================] - 0s 5ms/step - loss: 3873.0459 - val_loss: 2526.3484\n",
      "Epoch 9/500\n",
      "21/21 [==============================] - 0s 5ms/step - loss: 3798.1531 - val_loss: 2484.0754\n",
      "Epoch 10/500\n",
      "21/21 [==============================] - 0s 5ms/step - loss: 3715.9546 - val_loss: 2434.7654\n",
      "Epoch 11/500\n",
      "21/21 [==============================] - 0s 5ms/step - loss: 3634.3965 - val_loss: 2389.7083\n",
      "Epoch 12/500\n",
      "21/21 [==============================] - 0s 5ms/step - loss: 3556.3906 - val_loss: 2346.6309\n",
      "Epoch 13/500\n",
      "21/21 [==============================] - 0s 5ms/step - loss: 3481.0637 - val_loss: 2305.0588\n",
      "Epoch 14/500\n",
      "21/21 [==============================] - 0s 5ms/step - loss: 3407.8289 - val_loss: 2264.7134\n",
      "Epoch 15/500\n",
      "21/21 [==============================] - 0s 5ms/step - loss: 3336.3538 - val_loss: 2225.4326\n",
      "Epoch 16/500\n",
      "21/21 [==============================] - 0s 4ms/step - loss: 3266.4380 - val_loss: 2187.1135\n",
      "Epoch 17/500\n",
      "21/21 [==============================] - 0s 4ms/step - loss: 3197.9490 - val_loss: 2149.6851\n",
      "Epoch 18/500\n",
      "21/21 [==============================] - 0s 5ms/step - loss: 3130.7937 - val_loss: 2113.0950\n",
      "Epoch 19/500\n",
      "21/21 [==============================] - 0s 4ms/step - loss: 3064.9016 - val_loss: 2077.3020\n",
      "Epoch 20/500\n",
      "21/21 [==============================] - 0s 5ms/step - loss: 3000.2185 - val_loss: 2042.2737\n",
      "Epoch 21/500\n",
      "21/21 [==============================] - 0s 5ms/step - loss: 2936.6990 - val_loss: 2007.9777\n",
      "Epoch 22/500\n",
      "21/21 [==============================] - 0s 5ms/step - loss: 2873.1082 - val_loss: 1972.5859\n",
      "Epoch 23/500\n",
      "21/21 [==============================] - 0s 5ms/step - loss: 2805.8286 - val_loss: 1937.1154\n",
      "Epoch 24/500\n",
      "21/21 [==============================] - 0s 4ms/step - loss: 2740.1289 - val_loss: 1902.9604\n",
      "Epoch 25/500\n",
      "21/21 [==============================] - 0s 5ms/step - loss: 2676.6799 - val_loss: 1869.8901\n",
      "Epoch 26/500\n",
      "21/21 [==============================] - 0s 5ms/step - loss: 2615.0225 - val_loss: 1837.7455\n",
      "Epoch 27/500\n",
      "21/21 [==============================] - 0s 5ms/step - loss: 2554.8835 - val_loss: 1806.4351\n",
      "Epoch 28/500\n",
      "21/21 [==============================] - 0s 5ms/step - loss: 2496.1057 - val_loss: 1775.9008\n",
      "Epoch 29/500\n",
      "21/21 [==============================] - 0s 5ms/step - loss: 2438.5879 - val_loss: 1746.1021\n",
      "Epoch 30/500\n",
      "21/21 [==============================] - 0s 5ms/step - loss: 2382.2571 - val_loss: 1717.0079\n",
      "Epoch 31/500\n",
      "21/21 [==============================] - 0s 5ms/step - loss: 2327.0598 - val_loss: 1688.5938\n",
      "Epoch 32/500\n",
      "21/21 [==============================] - 0s 5ms/step - loss: 2272.9529 - val_loss: 1660.8396\n",
      "Epoch 33/500\n",
      "21/21 [==============================] - 0s 5ms/step - loss: 2219.8999 - val_loss: 1633.7283\n",
      "Epoch 34/500\n",
      "21/21 [==============================] - 0s 5ms/step - loss: 2167.8711 - val_loss: 1607.2462\n",
      "Epoch 35/500\n",
      "21/21 [==============================] - 0s 5ms/step - loss: 2116.8398 - val_loss: 1581.3812\n",
      "Epoch 36/500\n",
      "21/21 [==============================] - 0s 5ms/step - loss: 2062.7854 - val_loss: 1546.5551\n",
      "Epoch 37/500\n",
      "21/21 [==============================] - 0s 5ms/step - loss: 1999.8423 - val_loss: 1517.9985\n",
      "Epoch 38/500\n",
      "21/21 [==============================] - 0s 4ms/step - loss: 1946.1906 - val_loss: 1490.9685\n",
      "Epoch 39/500\n",
      "21/21 [==============================] - 0s 5ms/step - loss: 1894.8091 - val_loss: 1465.1963\n",
      "Epoch 40/500\n",
      "21/21 [==============================] - 0s 5ms/step - loss: 1845.2139 - val_loss: 1440.4214\n",
      "Epoch 41/500\n",
      "21/21 [==============================] - 0s 5ms/step - loss: 1797.0858 - val_loss: 1416.4998\n",
      "Epoch 42/500\n",
      "21/21 [==============================] - 0s 5ms/step - loss: 1750.2460 - val_loss: 1393.3451\n",
      "Epoch 43/500\n",
      "21/21 [==============================] - 0s 5ms/step - loss: 1704.5817 - val_loss: 1370.9004\n",
      "Epoch 44/500\n",
      "21/21 [==============================] - 0s 5ms/step - loss: 1660.0148 - val_loss: 1349.1230\n",
      "Epoch 45/500\n",
      "21/21 [==============================] - 0s 4ms/step - loss: 1616.4877 - val_loss: 1327.9816\n",
      "Epoch 46/500\n",
      "21/21 [==============================] - 0s 4ms/step - loss: 1573.9561 - val_loss: 1307.4493\n",
      "Epoch 47/500\n",
      "21/21 [==============================] - 0s 4ms/step - loss: 1532.3816 - val_loss: 1287.5046\n",
      "Epoch 48/500\n",
      "21/21 [==============================] - 0s 5ms/step - loss: 1491.7329 - val_loss: 1268.1285\n",
      "Epoch 49/500\n",
      "21/21 [==============================] - 0s 5ms/step - loss: 1451.9835 - val_loss: 1249.3037\n",
      "Epoch 50/500\n",
      "21/21 [==============================] - 0s 4ms/step - loss: 1413.1080 - val_loss: 1231.0161\n",
      "Epoch 51/500\n",
      "21/21 [==============================] - 0s 4ms/step - loss: 1375.0852 - val_loss: 1213.2511\n",
      "Epoch 52/500\n",
      "21/21 [==============================] - 0s 5ms/step - loss: 1337.8951 - val_loss: 1195.9966\n",
      "Epoch 53/500\n",
      "21/21 [==============================] - 0s 4ms/step - loss: 1301.5195 - val_loss: 1179.2402\n",
      "Epoch 54/500\n",
      "21/21 [==============================] - 0s 5ms/step - loss: 1265.9403 - val_loss: 1162.9711\n",
      "Epoch 55/500\n",
      "21/21 [==============================] - 0s 5ms/step - loss: 1231.1418 - val_loss: 1147.1788\n",
      "Epoch 56/500\n",
      "21/21 [==============================] - 0s 5ms/step - loss: 1197.1091 - val_loss: 1131.8529\n",
      "Epoch 57/500\n",
      "21/21 [==============================] - 0s 4ms/step - loss: 1163.8268 - val_loss: 1116.9839\n",
      "Epoch 58/500\n",
      "21/21 [==============================] - 0s 5ms/step - loss: 1131.2815 - val_loss: 1102.5629\n",
      "Epoch 59/500\n",
      "21/21 [==============================] - 0s 5ms/step - loss: 1099.4600 - val_loss: 1088.5804\n",
      "Epoch 60/500\n",
      "21/21 [==============================] - 0s 5ms/step - loss: 1068.3486 - val_loss: 1075.0281\n",
      "Epoch 61/500\n",
      "21/21 [==============================] - 0s 5ms/step - loss: 1037.9360 - val_loss: 1061.8976\n",
      "Epoch 62/500\n",
      "21/21 [==============================] - 0s 5ms/step - loss: 1008.2093 - val_loss: 1049.1805\n",
      "Epoch 63/500\n",
      "21/21 [==============================] - 0s 5ms/step - loss: 979.1561 - val_loss: 1036.8687\n",
      "Epoch 64/500\n",
      "21/21 [==============================] - 0s 4ms/step - loss: 950.7661 - val_loss: 1024.9546\n",
      "Epoch 65/500\n",
      "21/21 [==============================] - 0s 5ms/step - loss: 923.0270 - val_loss: 1013.4304\n",
      "Epoch 66/500\n",
      "21/21 [==============================] - 0s 5ms/step - loss: 895.9286 - val_loss: 1002.2885\n",
      "Epoch 67/500\n",
      "21/21 [==============================] - 0s 8ms/step - loss: 869.4598 - val_loss: 991.5221\n",
      "Epoch 68/500\n",
      "21/21 [==============================] - 0s 4ms/step - loss: 843.6101 - val_loss: 981.1231\n",
      "Epoch 69/500\n",
      "21/21 [==============================] - 0s 5ms/step - loss: 818.3692 - val_loss: 971.0850\n",
      "Epoch 70/500\n",
      "21/21 [==============================] - 0s 5ms/step - loss: 793.7271 - val_loss: 961.4004\n",
      "Epoch 71/500\n",
      "21/21 [==============================] - 0s 5ms/step - loss: 769.6736 - val_loss: 952.0624\n",
      "Epoch 72/500\n",
      "21/21 [==============================] - 0s 5ms/step - loss: 746.1986 - val_loss: 943.0643\n",
      "Epoch 73/500\n",
      "21/21 [==============================] - 0s 5ms/step - loss: 723.2924 - val_loss: 934.3990\n",
      "Epoch 74/500\n",
      "21/21 [==============================] - 0s 5ms/step - loss: 700.9457 - val_loss: 926.0606\n",
      "Epoch 75/500\n",
      "21/21 [==============================] - 0s 5ms/step - loss: 679.1494 - val_loss: 918.0419\n",
      "Epoch 76/500\n",
      "21/21 [==============================] - 0s 5ms/step - loss: 657.8937 - val_loss: 910.3367\n",
      "Epoch 77/500\n",
      "21/21 [==============================] - 0s 6ms/step - loss: 637.1697 - val_loss: 902.9385\n",
      "Epoch 78/500\n",
      "21/21 [==============================] - 0s 6ms/step - loss: 616.9679 - val_loss: 895.8406\n",
      "Epoch 79/500\n",
      "21/21 [==============================] - 0s 6ms/step - loss: 597.2795 - val_loss: 889.0371\n",
      "Epoch 80/500\n",
      "21/21 [==============================] - 0s 6ms/step - loss: 578.0955 - val_loss: 882.5217\n",
      "Epoch 81/500\n",
      "21/21 [==============================] - 0s 7ms/step - loss: 559.4078 - val_loss: 876.2881\n",
      "Epoch 82/500\n",
      "21/21 [==============================] - 0s 6ms/step - loss: 541.2067 - val_loss: 870.3305\n",
      "Epoch 83/500\n",
      "21/21 [==============================] - 0s 6ms/step - loss: 523.4842 - val_loss: 864.6424\n",
      "Epoch 84/500\n",
      "21/21 [==============================] - 0s 7ms/step - loss: 506.2315 - val_loss: 859.2182\n",
      "Epoch 85/500\n",
      "21/21 [==============================] - 0s 6ms/step - loss: 489.4404 - val_loss: 854.0518\n",
      "Epoch 86/500\n",
      "21/21 [==============================] - 0s 7ms/step - loss: 473.1025 - val_loss: 849.1372\n",
      "Epoch 87/500\n",
      "21/21 [==============================] - 0s 8ms/step - loss: 457.2093 - val_loss: 844.4688\n",
      "Epoch 88/500\n",
      "21/21 [==============================] - 0s 7ms/step - loss: 441.7525 - val_loss: 840.0405\n",
      "Epoch 89/500\n",
      "21/21 [==============================] - 0s 10ms/step - loss: 426.7242 - val_loss: 835.8470\n",
      "Epoch 90/500\n",
      "21/21 [==============================] - 0s 20ms/step - loss: 412.1165 - val_loss: 831.8823\n",
      "Epoch 91/500\n",
      "21/21 [==============================] - 0s 10ms/step - loss: 397.9213 - val_loss: 828.1409\n",
      "Epoch 92/500\n",
      "21/21 [==============================] - 0s 8ms/step - loss: 384.1307 - val_loss: 824.6173\n",
      "Epoch 93/500\n",
      "21/21 [==============================] - 0s 7ms/step - loss: 370.7370 - val_loss: 821.3058\n",
      "Epoch 94/500\n",
      "21/21 [==============================] - 0s 7ms/step - loss: 357.7323 - val_loss: 818.2012\n",
      "Epoch 95/500\n",
      "21/21 [==============================] - 0s 7ms/step - loss: 345.1087 - val_loss: 815.2979\n",
      "Epoch 96/500\n",
      "21/21 [==============================] - 0s 6ms/step - loss: 332.8589 - val_loss: 812.5903\n",
      "Epoch 97/500\n",
      "21/21 [==============================] - 0s 6ms/step - loss: 320.9752 - val_loss: 810.0735\n",
      "Epoch 98/500\n",
      "21/21 [==============================] - 0s 6ms/step - loss: 309.4500 - val_loss: 807.7419\n",
      "Epoch 99/500\n",
      "21/21 [==============================] - 0s 6ms/step - loss: 298.2763 - val_loss: 805.5906\n",
      "Epoch 100/500\n",
      "21/21 [==============================] - 0s 7ms/step - loss: 287.4465 - val_loss: 803.6143\n",
      "Epoch 101/500\n",
      "21/21 [==============================] - 0s 6ms/step - loss: 276.9532 - val_loss: 801.8079\n",
      "Epoch 102/500\n",
      "21/21 [==============================] - 0s 12ms/step - loss: 266.7896 - val_loss: 800.1661\n",
      "Epoch 103/500\n",
      "21/21 [==============================] - 0s 7ms/step - loss: 256.9483 - val_loss: 798.6842\n",
      "Epoch 104/500\n",
      "21/21 [==============================] - 0s 8ms/step - loss: 247.4222 - val_loss: 797.3570\n",
      "Epoch 105/500\n",
      "21/21 [==============================] - 0s 12ms/step - loss: 238.2043 - val_loss: 796.1798\n",
      "Epoch 106/500\n",
      "21/21 [==============================] - 0s 12ms/step - loss: 229.2879 - val_loss: 795.1477\n",
      "Epoch 107/500\n",
      "21/21 [==============================] - 0s 7ms/step - loss: 220.6659 - val_loss: 794.2558\n",
      "Epoch 108/500\n",
      "21/21 [==============================] - 0s 6ms/step - loss: 212.3316 - val_loss: 793.4995\n",
      "Epoch 109/500\n",
      "21/21 [==============================] - 0s 6ms/step - loss: 204.2783 - val_loss: 792.8738\n",
      "Epoch 110/500\n",
      "21/21 [==============================] - 0s 6ms/step - loss: 196.4993 - val_loss: 792.3745\n",
      "Epoch 111/500\n",
      "21/21 [==============================] - 0s 6ms/step - loss: 188.9882 - val_loss: 791.9966\n",
      "Epoch 112/500\n",
      "21/21 [==============================] - 0s 6ms/step - loss: 181.7384 - val_loss: 791.7360\n",
      "Epoch 113/500\n",
      "21/21 [==============================] - 0s 7ms/step - loss: 174.7432 - val_loss: 791.5880\n",
      "Epoch 114/500\n",
      "21/21 [==============================] - 0s 7ms/step - loss: 167.9965 - val_loss: 791.5480\n",
      "Epoch 115/500\n",
      "21/21 [==============================] - 0s 7ms/step - loss: 161.4921 - val_loss: 791.6121\n",
      "Epoch 116/500\n",
      "21/21 [==============================] - 0s 7ms/step - loss: 155.2236 - val_loss: 791.7757\n",
      "Epoch 117/500\n",
      "21/21 [==============================] - 0s 7ms/step - loss: 149.1850 - val_loss: 792.0347\n",
      "Epoch 118/500\n",
      "21/21 [==============================] - 0s 9ms/step - loss: 143.3702 - val_loss: 792.3850\n",
      "Epoch 119/500\n",
      "21/21 [==============================] - 0s 10ms/step - loss: 137.7735 - val_loss: 792.8223\n",
      "Epoch 120/500\n",
      "21/21 [==============================] - 0s 8ms/step - loss: 132.3885 - val_loss: 793.3428\n",
      "Epoch 121/500\n",
      "21/21 [==============================] - 0s 7ms/step - loss: 127.2097 - val_loss: 793.9424\n",
      "Epoch 122/500\n",
      "21/21 [==============================] - 0s 7ms/step - loss: 122.2313 - val_loss: 794.6173\n",
      "Epoch 123/500\n",
      "21/21 [==============================] - 0s 8ms/step - loss: 117.4477 - val_loss: 795.3637\n",
      "Epoch 124/500\n",
      "21/21 [==============================] - 0s 7ms/step - loss: 112.8532 - val_loss: 796.1776\n",
      "Epoch 125/500\n",
      "21/21 [==============================] - 0s 6ms/step - loss: 108.4426 - val_loss: 797.0556\n",
      "Epoch 126/500\n",
      "21/21 [==============================] - 0s 7ms/step - loss: 104.2100 - val_loss: 797.9938\n",
      "Epoch 127/500\n",
      "21/21 [==============================] - 0s 6ms/step - loss: 100.1506 - val_loss: 798.9890\n",
      "Epoch 128/500\n",
      "21/21 [==============================] - 0s 6ms/step - loss: 96.2588 - val_loss: 800.0373\n",
      "Epoch 129/500\n",
      "21/21 [==============================] - 0s 6ms/step - loss: 92.5296 - val_loss: 801.1356\n",
      "Epoch 130/500\n",
      "21/21 [==============================] - 0s 11ms/step - loss: 88.9578 - val_loss: 802.2805\n",
      "Epoch 131/500\n",
      "21/21 [==============================] - 0s 6ms/step - loss: 85.5385 - val_loss: 803.4686\n",
      "Epoch 132/500\n",
      "21/21 [==============================] - 0s 5ms/step - loss: 82.2670 - val_loss: 804.6970\n",
      "Epoch 133/500\n",
      "21/21 [==============================] - 0s 6ms/step - loss: 79.1383 - val_loss: 805.9622\n",
      "Epoch 134/500\n",
      "21/21 [==============================] - 0s 5ms/step - loss: 76.1477 - val_loss: 807.2617\n",
      "Epoch 135/500\n",
      "21/21 [==============================] - 0s 5ms/step - loss: 73.2905 - val_loss: 808.5920\n",
      "Epoch 136/500\n",
      "21/21 [==============================] - 0s 5ms/step - loss: 70.5622 - val_loss: 809.9504\n",
      "Epoch 137/500\n",
      "21/21 [==============================] - 0s 5ms/step - loss: 67.9585 - val_loss: 811.3342\n",
      "Epoch 138/500\n",
      "21/21 [==============================] - 0s 6ms/step - loss: 65.4749 - val_loss: 812.7405\n",
      "Epoch 139/500\n",
      "21/21 [==============================] - 0s 6ms/step - loss: 63.1070 - val_loss: 814.1667\n",
      "Epoch 140/500\n",
      "21/21 [==============================] - 0s 6ms/step - loss: 60.8510 - val_loss: 815.6104\n",
      "Epoch 141/500\n",
      "21/21 [==============================] - 0s 5ms/step - loss: 58.7025 - val_loss: 817.0692\n",
      "Epoch 142/500\n",
      "21/21 [==============================] - 0s 6ms/step - loss: 56.6577 - val_loss: 818.5400\n",
      "Epoch 143/500\n",
      "21/21 [==============================] - 0s 5ms/step - loss: 54.7126 - val_loss: 820.0211\n",
      "Epoch 144/500\n",
      "21/21 [==============================] - 0s 5ms/step - loss: 52.8634 - val_loss: 821.5103\n",
      "Epoch 145/500\n",
      "21/21 [==============================] - 0s 5ms/step - loss: 51.1063 - val_loss: 823.0048\n",
      "Epoch 146/500\n",
      "21/21 [==============================] - 0s 5ms/step - loss: 49.4379 - val_loss: 824.5033\n",
      "Epoch 147/500\n",
      "21/21 [==============================] - 0s 5ms/step - loss: 47.8545 - val_loss: 826.0031\n",
      "Epoch 148/500\n",
      "21/21 [==============================] - 0s 6ms/step - loss: 46.3527 - val_loss: 827.5024\n",
      "Epoch 149/500\n",
      "21/21 [==============================] - 0s 5ms/step - loss: 44.9291 - val_loss: 828.9998\n",
      "Epoch 150/500\n",
      "21/21 [==============================] - 0s 5ms/step - loss: 43.5804 - val_loss: 830.4933\n",
      "Epoch 151/500\n",
      "21/21 [==============================] - 0s 5ms/step - loss: 42.3035 - val_loss: 831.9809\n",
      "Epoch 152/500\n",
      "21/21 [==============================] - 0s 5ms/step - loss: 41.0954 - val_loss: 833.4611\n",
      "Epoch 153/500\n",
      "21/21 [==============================] - 0s 6ms/step - loss: 39.9531 - val_loss: 834.9325\n",
      "Epoch 154/500\n",
      "21/21 [==============================] - 0s 5ms/step - loss: 38.8736 - val_loss: 836.3935\n",
      "Epoch 155/500\n",
      "21/21 [==============================] - 0s 5ms/step - loss: 37.8541 - val_loss: 837.8429\n",
      "Epoch 156/500\n",
      "21/21 [==============================] - 0s 10ms/step - loss: 36.8920 - val_loss: 839.2788\n",
      "Epoch 157/500\n",
      "21/21 [==============================] - 0s 6ms/step - loss: 35.9846 - val_loss: 840.7006\n",
      "Epoch 158/500\n",
      "21/21 [==============================] - 0s 6ms/step - loss: 35.1292 - val_loss: 842.1068\n",
      "Epoch 159/500\n",
      "21/21 [==============================] - 0s 6ms/step - loss: 34.3236 - val_loss: 843.4964\n",
      "Epoch 160/500\n",
      "21/21 [==============================] - 0s 6ms/step - loss: 33.5651 - val_loss: 844.8683\n",
      "Epoch 161/500\n",
      "21/21 [==============================] - 0s 6ms/step - loss: 32.8517 - val_loss: 846.2216\n",
      "Epoch 162/500\n",
      "21/21 [==============================] - 0s 6ms/step - loss: 32.1811 - val_loss: 847.5553\n",
      "Epoch 163/500\n",
      "21/21 [==============================] - 0s 6ms/step - loss: 31.5510 - val_loss: 848.8688\n",
      "Epoch 164/500\n",
      "21/21 [==============================] - 0s 7ms/step - loss: 30.9595 - val_loss: 850.1611\n",
      "Epoch 165/500\n",
      "21/21 [==============================] - 0s 6ms/step - loss: 30.4045 - val_loss: 851.4316\n",
      "Epoch 166/500\n",
      "21/21 [==============================] - 0s 7ms/step - loss: 29.8843 - val_loss: 852.6793\n",
      "Epoch 167/500\n",
      "21/21 [==============================] - 0s 6ms/step - loss: 29.3969 - val_loss: 853.9042\n",
      "Epoch 168/500\n",
      "21/21 [==============================] - 0s 6ms/step - loss: 28.9405 - val_loss: 855.1057\n",
      "Epoch 169/500\n",
      "21/21 [==============================] - 0s 5ms/step - loss: 28.5135 - val_loss: 856.2828\n",
      "Epoch 170/500\n",
      "21/21 [==============================] - 0s 6ms/step - loss: 28.1144 - val_loss: 857.4356\n",
      "Epoch 171/500\n",
      "21/21 [==============================] - 0s 7ms/step - loss: 27.7415 - val_loss: 858.5637\n",
      "Epoch 172/500\n",
      "21/21 [==============================] - 0s 7ms/step - loss: 27.3933 - val_loss: 859.6667\n",
      "Epoch 173/500\n",
      "21/21 [==============================] - 0s 6ms/step - loss: 27.0684 - val_loss: 860.7444\n",
      "Epoch 174/500\n",
      "21/21 [==============================] - 0s 6ms/step - loss: 26.7655 - val_loss: 861.7968\n",
      "Epoch 175/500\n",
      "21/21 [==============================] - 0s 6ms/step - loss: 26.4833 - val_loss: 862.8232\n",
      "Epoch 176/500\n",
      "21/21 [==============================] - 0s 6ms/step - loss: 26.2206 - val_loss: 863.8240\n",
      "Epoch 177/500\n",
      "21/21 [==============================] - 0s 6ms/step - loss: 25.9762 - val_loss: 864.7993\n",
      "Epoch 178/500\n",
      "21/21 [==============================] - 0s 6ms/step - loss: 25.7490 - val_loss: 865.7487\n",
      "Epoch 179/500\n",
      "21/21 [==============================] - 0s 6ms/step - loss: 25.5378 - val_loss: 866.6720\n",
      "Epoch 180/500\n",
      "21/21 [==============================] - 0s 11ms/step - loss: 25.3418 - val_loss: 867.5698\n",
      "Epoch 181/500\n",
      "21/21 [==============================] - 0s 9ms/step - loss: 25.1600 - val_loss: 868.4420\n",
      "Epoch 182/500\n",
      "21/21 [==============================] - 0s 9ms/step - loss: 24.9914 - val_loss: 869.2889\n",
      "Epoch 183/500\n",
      "21/21 [==============================] - 0s 7ms/step - loss: 24.8352 - val_loss: 870.1104\n",
      "Epoch 184/500\n",
      "21/21 [==============================] - 0s 6ms/step - loss: 24.6906 - val_loss: 870.9069\n",
      "Epoch 185/500\n",
      "21/21 [==============================] - 0s 7ms/step - loss: 24.5568 - val_loss: 871.6783\n",
      "Epoch 186/500\n",
      "21/21 [==============================] - 0s 8ms/step - loss: 24.4331 - val_loss: 872.4253\n",
      "Epoch 187/500\n",
      "21/21 [==============================] - 0s 8ms/step - loss: 24.3188 - val_loss: 873.1483\n",
      "Epoch 188/500\n",
      "21/21 [==============================] - 0s 6ms/step - loss: 24.2133 - val_loss: 873.8472\n",
      "Epoch 189/500\n",
      "21/21 [==============================] - 0s 6ms/step - loss: 24.1159 - val_loss: 874.5227\n",
      "Epoch 190/500\n",
      "21/21 [==============================] - 0s 7ms/step - loss: 24.0261 - val_loss: 875.1747\n",
      "Epoch 191/500\n",
      "21/21 [==============================] - 0s 7ms/step - loss: 23.9433 - val_loss: 875.8041\n",
      "Epoch 192/500\n",
      "21/21 [==============================] - 0s 6ms/step - loss: 23.8671 - val_loss: 876.4109\n",
      "Epoch 193/500\n",
      "21/21 [==============================] - 0s 7ms/step - loss: 23.7970 - val_loss: 876.9955\n",
      "Epoch 194/500\n",
      "21/21 [==============================] - 0s 6ms/step - loss: 23.7325 - val_loss: 877.5586\n",
      "Epoch 195/500\n",
      "21/21 [==============================] - 0s 6ms/step - loss: 23.6732 - val_loss: 878.1006\n",
      "Epoch 196/500\n",
      "21/21 [==============================] - 0s 7ms/step - loss: 23.6187 - val_loss: 878.6218\n",
      "Epoch 197/500\n",
      "21/21 [==============================] - 0s 6ms/step - loss: 23.5688 - val_loss: 879.1226\n",
      "Epoch 198/500\n",
      "21/21 [==============================] - 0s 7ms/step - loss: 23.5229 - val_loss: 879.6038\n",
      "Epoch 199/500\n",
      "21/21 [==============================] - 0s 8ms/step - loss: 23.4808 - val_loss: 880.0659\n",
      "Epoch 200/500\n",
      "21/21 [==============================] - 0s 6ms/step - loss: 23.4422 - val_loss: 880.5089\n",
      "Epoch 201/500\n",
      "21/21 [==============================] - 0s 6ms/step - loss: 23.4069 - val_loss: 880.9335\n",
      "Epoch 202/500\n",
      "21/21 [==============================] - 0s 7ms/step - loss: 23.3746 - val_loss: 881.3403\n",
      "Epoch 203/500\n",
      "21/21 [==============================] - 0s 10ms/step - loss: 23.3450 - val_loss: 881.7296\n",
      "Epoch 204/500\n",
      "21/21 [==============================] - 0s 13ms/step - loss: 23.3180 - val_loss: 882.1024\n",
      "Epoch 205/500\n",
      "21/21 [==============================] - 0s 7ms/step - loss: 23.2933 - val_loss: 882.4584\n",
      "Epoch 206/500\n",
      "21/21 [==============================] - 0s 7ms/step - loss: 23.2707 - val_loss: 882.7988\n",
      "Epoch 207/500\n",
      "21/21 [==============================] - 0s 6ms/step - loss: 23.2501 - val_loss: 883.1237\n",
      "Epoch 208/500\n",
      "21/21 [==============================] - 0s 6ms/step - loss: 23.2313 - val_loss: 883.4335\n",
      "Epoch 209/500\n",
      "21/21 [==============================] - 0s 6ms/step - loss: 23.2141 - val_loss: 883.7291\n",
      "Epoch 210/500\n",
      "21/21 [==============================] - 0s 6ms/step - loss: 23.1985 - val_loss: 884.0107\n",
      "Epoch 211/500\n",
      "21/21 [==============================] - 0s 6ms/step - loss: 23.1842 - val_loss: 884.2791\n",
      "Epoch 212/500\n",
      "21/21 [==============================] - 0s 5ms/step - loss: 23.1713 - val_loss: 884.5343\n",
      "Epoch 213/500\n",
      "21/21 [==============================] - 0s 6ms/step - loss: 23.1595 - val_loss: 884.7770\n",
      "Epoch 214/500\n",
      "21/21 [==============================] - 0s 6ms/step - loss: 23.1487 - val_loss: 885.0078\n",
      "Epoch 215/500\n",
      "21/21 [==============================] - 0s 6ms/step - loss: 23.1390 - val_loss: 885.2269\n",
      "Epoch 216/500\n",
      "21/21 [==============================] - 0s 6ms/step - loss: 23.1301 - val_loss: 885.4349\n",
      "Epoch 217/500\n",
      "21/21 [==============================] - 0s 7ms/step - loss: 23.1221 - val_loss: 885.6323\n",
      "Epoch 218/500\n",
      "21/21 [==============================] - 0s 7ms/step - loss: 23.1148 - val_loss: 885.8192\n",
      "Epoch 219/500\n",
      "21/21 [==============================] - 0s 8ms/step - loss: 23.1081 - val_loss: 885.9963\n",
      "Epoch 220/500\n",
      "21/21 [==============================] - 0s 8ms/step - loss: 23.1021 - val_loss: 886.1639\n",
      "Epoch 221/500\n",
      "21/21 [==============================] - 0s 9ms/step - loss: 23.0967 - val_loss: 886.3223\n",
      "Epoch 222/500\n",
      "21/21 [==============================] - 0s 10ms/step - loss: 23.0918 - val_loss: 886.4720\n",
      "Epoch 223/500\n",
      "21/21 [==============================] - 0s 9ms/step - loss: 23.0874 - val_loss: 886.6133\n",
      "Epoch 224/500\n",
      "21/21 [==============================] - 0s 7ms/step - loss: 23.0835 - val_loss: 886.7468\n",
      "Epoch 225/500\n",
      "21/21 [==============================] - 0s 9ms/step - loss: 23.0799 - val_loss: 886.8727\n",
      "Epoch 226/500\n",
      "21/21 [==============================] - 0s 7ms/step - loss: 23.0766 - val_loss: 886.9915\n",
      "Epoch 227/500\n",
      "21/21 [==============================] - 0s 13ms/step - loss: 23.0738 - val_loss: 887.1031\n",
      "Epoch 228/500\n",
      "21/21 [==============================] - 0s 8ms/step - loss: 23.0712 - val_loss: 887.2081\n",
      "Epoch 229/500\n",
      "21/21 [==============================] - 0s 8ms/step - loss: 23.0689 - val_loss: 887.3070\n",
      "Epoch 230/500\n",
      "21/21 [==============================] - 0s 8ms/step - loss: 23.0669 - val_loss: 887.4001\n",
      "Epoch 231/500\n",
      "21/21 [==============================] - 0s 9ms/step - loss: 23.0651 - val_loss: 887.4871\n",
      "Epoch 232/500\n",
      "21/21 [==============================] - 0s 7ms/step - loss: 23.0635 - val_loss: 887.5690\n",
      "Epoch 233/500\n",
      "21/21 [==============================] - 0s 7ms/step - loss: 23.0621 - val_loss: 887.6454\n",
      "Epoch 234/500\n",
      "21/21 [==============================] - 0s 6ms/step - loss: 23.0609 - val_loss: 887.7172\n",
      "Epoch 235/500\n",
      "21/21 [==============================] - 0s 7ms/step - loss: 23.0599 - val_loss: 887.7844\n",
      "Epoch 236/500\n",
      "21/21 [==============================] - 0s 7ms/step - loss: 23.0590 - val_loss: 887.8470\n",
      "Epoch 237/500\n",
      "21/21 [==============================] - 0s 7ms/step - loss: 23.0583 - val_loss: 887.9056\n",
      "Epoch 238/500\n",
      "21/21 [==============================] - 0s 7ms/step - loss: 23.0576 - val_loss: 887.9604\n",
      "Epoch 239/500\n",
      "21/21 [==============================] - 0s 7ms/step - loss: 23.0571 - val_loss: 888.0114\n",
      "Epoch 240/500\n",
      "21/21 [==============================] - 0s 7ms/step - loss: 23.0567 - val_loss: 888.0588\n",
      "Epoch 241/500\n",
      "21/21 [==============================] - 0s 7ms/step - loss: 23.0565 - val_loss: 888.1032\n",
      "Epoch 242/500\n",
      "21/21 [==============================] - 0s 7ms/step - loss: 23.0562 - val_loss: 888.1442\n",
      "Epoch 243/500\n",
      "21/21 [==============================] - 0s 7ms/step - loss: 23.0562 - val_loss: 888.1827\n",
      "Epoch 244/500\n",
      "21/21 [==============================] - 0s 7ms/step - loss: 23.0561 - val_loss: 888.2183\n",
      "Epoch 245/500\n",
      "21/21 [==============================] - 0s 7ms/step - loss: 23.0562 - val_loss: 888.2510\n",
      "Epoch 246/500\n",
      "21/21 [==============================] - 0s 7ms/step - loss: 23.0563 - val_loss: 888.2814\n",
      "Epoch 247/500\n",
      "21/21 [==============================] - 0s 7ms/step - loss: 23.0565 - val_loss: 888.3098\n",
      "Epoch 248/500\n",
      "21/21 [==============================] - 0s 7ms/step - loss: 23.0567 - val_loss: 888.3355\n",
      "Epoch 249/500\n",
      "21/21 [==============================] - 0s 7ms/step - loss: 23.0570 - val_loss: 888.3593\n",
      "Epoch 250/500\n",
      "21/21 [==============================] - 0s 7ms/step - loss: 23.0573 - val_loss: 888.3815\n",
      "Epoch 251/500\n",
      "21/21 [==============================] - 0s 7ms/step - loss: 23.0578 - val_loss: 888.4020\n",
      "Epoch 252/500\n",
      "21/21 [==============================] - 0s 6ms/step - loss: 23.0581 - val_loss: 888.4203\n",
      "Epoch 253/500\n",
      "21/21 [==============================] - 0s 15ms/step - loss: 23.0586 - val_loss: 888.4373\n",
      "Epoch 254/500\n",
      "21/21 [==============================] - 0s 9ms/step - loss: 23.0591 - val_loss: 888.4529\n",
      "Epoch 255/500\n",
      "21/21 [==============================] - 0s 8ms/step - loss: 23.0597 - val_loss: 888.4673\n",
      "Epoch 256/500\n",
      "21/21 [==============================] - 0s 8ms/step - loss: 23.0602 - val_loss: 888.4803\n",
      "Epoch 257/500\n",
      "21/21 [==============================] - 0s 8ms/step - loss: 23.0608 - val_loss: 888.4921\n",
      "Epoch 258/500\n",
      "21/21 [==============================] - 0s 8ms/step - loss: 23.0614 - val_loss: 888.5029\n",
      "Epoch 259/500\n",
      "21/21 [==============================] - 0s 9ms/step - loss: 23.0621 - val_loss: 888.5128\n",
      "Epoch 260/500\n",
      "21/21 [==============================] - 0s 8ms/step - loss: 23.0627 - val_loss: 888.5216\n",
      "Epoch 261/500\n",
      "21/21 [==============================] - 0s 8ms/step - loss: 23.0634 - val_loss: 888.5297\n",
      "Epoch 262/500\n",
      "21/21 [==============================] - 0s 8ms/step - loss: 23.0641 - val_loss: 888.5369\n",
      "Epoch 263/500\n",
      "21/21 [==============================] - 0s 7ms/step - loss: 23.0648 - val_loss: 888.5434\n",
      "Epoch 264/500\n",
      "21/21 [==============================] - 0s 7ms/step - loss: 23.0655 - val_loss: 888.5490\n",
      "Epoch 265/500\n",
      "21/21 [==============================] - 0s 6ms/step - loss: 23.0663 - val_loss: 888.5541\n",
      "Epoch 266/500\n",
      "21/21 [==============================] - 0s 6ms/step - loss: 23.0670 - val_loss: 888.5587\n",
      "Epoch 267/500\n",
      "21/21 [==============================] - 0s 5ms/step - loss: 23.0678 - val_loss: 888.5622\n",
      "Epoch 268/500\n",
      "21/21 [==============================] - 0s 5ms/step - loss: 23.0686 - val_loss: 888.5656\n",
      "Epoch 269/500\n",
      "21/21 [==============================] - 0s 6ms/step - loss: 23.0694 - val_loss: 888.5685\n",
      "Epoch 270/500\n",
      "21/21 [==============================] - 0s 5ms/step - loss: 23.0702 - val_loss: 888.5707\n",
      "Epoch 271/500\n",
      "21/21 [==============================] - 0s 5ms/step - loss: 23.0710 - val_loss: 888.5728\n",
      "Epoch 272/500\n",
      "21/21 [==============================] - 0s 5ms/step - loss: 23.0718 - val_loss: 888.5744\n",
      "Epoch 273/500\n",
      "21/21 [==============================] - 0s 6ms/step - loss: 23.0727 - val_loss: 888.5757\n",
      "Epoch 274/500\n",
      "21/21 [==============================] - 0s 10ms/step - loss: 23.0734 - val_loss: 888.5765\n",
      "Epoch 275/500\n",
      "21/21 [==============================] - 0s 6ms/step - loss: 23.0743 - val_loss: 888.5771\n",
      "Epoch 276/500\n",
      "21/21 [==============================] - 0s 6ms/step - loss: 23.0751 - val_loss: 888.5776\n",
      "Epoch 277/500\n",
      "21/21 [==============================] - 0s 6ms/step - loss: 23.0760 - val_loss: 888.5779\n",
      "Epoch 278/500\n",
      "21/21 [==============================] - 0s 5ms/step - loss: 23.0768 - val_loss: 888.5778\n",
      "Epoch 279/500\n",
      "21/21 [==============================] - 0s 5ms/step - loss: 23.0776 - val_loss: 888.5778\n",
      "Epoch 280/500\n",
      "21/21 [==============================] - 0s 5ms/step - loss: 23.0784 - val_loss: 888.5776\n",
      "Epoch 281/500\n",
      "21/21 [==============================] - 0s 6ms/step - loss: 23.0793 - val_loss: 888.5770\n",
      "Epoch 282/500\n",
      "21/21 [==============================] - 0s 5ms/step - loss: 23.0801 - val_loss: 888.5764\n",
      "Epoch 283/500\n",
      "21/21 [==============================] - 0s 7ms/step - loss: 23.0809 - val_loss: 888.5754\n",
      "Epoch 284/500\n",
      "21/21 [==============================] - 0s 7ms/step - loss: 23.0818 - val_loss: 888.5743\n",
      "Epoch 285/500\n",
      "21/21 [==============================] - 0s 7ms/step - loss: 23.0826 - val_loss: 888.5730\n",
      "Epoch 286/500\n",
      "21/21 [==============================] - 0s 7ms/step - loss: 23.0835 - val_loss: 888.5719\n",
      "Epoch 287/500\n",
      "21/21 [==============================] - 0s 9ms/step - loss: 23.0843 - val_loss: 888.5703\n",
      "Epoch 288/500\n",
      "21/21 [==============================] - 0s 9ms/step - loss: 23.0851 - val_loss: 888.5692\n",
      "Epoch 289/500\n",
      "21/21 [==============================] - 0s 8ms/step - loss: 23.0859 - val_loss: 888.5673\n",
      "Epoch 290/500\n",
      "21/21 [==============================] - 0s 11ms/step - loss: 23.0868 - val_loss: 888.5662\n",
      "Epoch 291/500\n",
      "21/21 [==============================] - 0s 7ms/step - loss: 23.0876 - val_loss: 888.5641\n",
      "Epoch 292/500\n",
      "21/21 [==============================] - 0s 7ms/step - loss: 23.0884 - val_loss: 888.5628\n",
      "Epoch 293/500\n",
      "21/21 [==============================] - 0s 8ms/step - loss: 23.0892 - val_loss: 888.5611\n",
      "Epoch 294/500\n",
      "21/21 [==============================] - 0s 10ms/step - loss: 23.0901 - val_loss: 888.5596\n",
      "Epoch 295/500\n",
      "21/21 [==============================] - 0s 7ms/step - loss: 23.0908 - val_loss: 888.5580\n",
      "Epoch 296/500\n",
      "21/21 [==============================] - 0s 6ms/step - loss: 23.0916 - val_loss: 888.5560\n",
      "Epoch 297/500\n",
      "21/21 [==============================] - 0s 6ms/step - loss: 23.0924 - val_loss: 888.5546\n",
      "Epoch 298/500\n",
      "21/21 [==============================] - 0s 11ms/step - loss: 23.0932 - val_loss: 888.5529\n",
      "Epoch 299/500\n",
      "21/21 [==============================] - 0s 6ms/step - loss: 23.0940 - val_loss: 888.5508\n",
      "Epoch 300/500\n",
      "21/21 [==============================] - 0s 6ms/step - loss: 23.0948 - val_loss: 888.5493\n",
      "Epoch 301/500\n",
      "21/21 [==============================] - 0s 6ms/step - loss: 23.0956 - val_loss: 888.5474\n",
      "Epoch 302/500\n",
      "21/21 [==============================] - 0s 6ms/step - loss: 23.0963 - val_loss: 888.5457\n",
      "Epoch 303/500\n",
      "21/21 [==============================] - 0s 6ms/step - loss: 23.0971 - val_loss: 888.5438\n",
      "Epoch 304/500\n",
      "21/21 [==============================] - 0s 5ms/step - loss: 23.0978 - val_loss: 888.5419\n",
      "Epoch 305/500\n",
      "21/21 [==============================] - 0s 5ms/step - loss: 23.0986 - val_loss: 888.5398\n",
      "Epoch 306/500\n",
      "21/21 [==============================] - 0s 7ms/step - loss: 23.0993 - val_loss: 888.5379\n",
      "Epoch 307/500\n",
      "21/21 [==============================] - 0s 6ms/step - loss: 23.1001 - val_loss: 888.5360\n",
      "Epoch 308/500\n",
      "21/21 [==============================] - 0s 6ms/step - loss: 23.1008 - val_loss: 888.5344\n",
      "Epoch 309/500\n",
      "21/21 [==============================] - 0s 5ms/step - loss: 23.1015 - val_loss: 888.5326\n",
      "Epoch 310/500\n",
      "21/21 [==============================] - 0s 6ms/step - loss: 23.1022 - val_loss: 888.5304\n",
      "Epoch 311/500\n",
      "21/21 [==============================] - 0s 6ms/step - loss: 23.1029 - val_loss: 888.5285\n",
      "Epoch 312/500\n",
      "21/21 [==============================] - 0s 6ms/step - loss: 23.1036 - val_loss: 888.5267\n",
      "Epoch 313/500\n",
      "21/21 [==============================] - 0s 7ms/step - loss: 23.1044 - val_loss: 888.5247\n",
      "Epoch 314/500\n",
      "21/21 [==============================] - 0s 7ms/step - loss: 23.1051 - val_loss: 888.5229\n",
      "Epoch 315/500\n",
      "21/21 [==============================] - 0s 7ms/step - loss: 23.1057 - val_loss: 888.5212\n",
      "Epoch 316/500\n",
      "21/21 [==============================] - 0s 7ms/step - loss: 23.1064 - val_loss: 888.5194\n",
      "Epoch 317/500\n",
      "21/21 [==============================] - 0s 8ms/step - loss: 23.1071 - val_loss: 888.5177\n",
      "Epoch 318/500\n",
      "21/21 [==============================] - 0s 7ms/step - loss: 23.1077 - val_loss: 888.5159\n",
      "Epoch 319/500\n",
      "21/21 [==============================] - 0s 8ms/step - loss: 23.1084 - val_loss: 888.5141\n",
      "Epoch 320/500\n",
      "21/21 [==============================] - 0s 7ms/step - loss: 23.1091 - val_loss: 888.5121\n",
      "Epoch 321/500\n",
      "21/21 [==============================] - 0s 8ms/step - loss: 23.1097 - val_loss: 888.5109\n",
      "Epoch 322/500\n",
      "21/21 [==============================] - 0s 7ms/step - loss: 23.1104 - val_loss: 888.5091\n",
      "Epoch 323/500\n",
      "21/21 [==============================] - 0s 8ms/step - loss: 23.1110 - val_loss: 888.5075\n",
      "Epoch 324/500\n",
      "21/21 [==============================] - 0s 14ms/step - loss: 23.1116 - val_loss: 888.5058\n",
      "Epoch 325/500\n",
      "21/21 [==============================] - 0s 8ms/step - loss: 23.1122 - val_loss: 888.5040\n",
      "Epoch 326/500\n",
      "21/21 [==============================] - 0s 7ms/step - loss: 23.1128 - val_loss: 888.5024\n",
      "Epoch 327/500\n",
      "21/21 [==============================] - 0s 8ms/step - loss: 23.1134 - val_loss: 888.5009\n",
      "Epoch 328/500\n",
      "21/21 [==============================] - 0s 8ms/step - loss: 23.1140 - val_loss: 888.4991\n",
      "Epoch 329/500\n",
      "21/21 [==============================] - 0s 8ms/step - loss: 23.1146 - val_loss: 888.4976\n",
      "Epoch 330/500\n",
      "21/21 [==============================] - 0s 8ms/step - loss: 23.1152 - val_loss: 888.4959\n",
      "Epoch 331/500\n",
      "21/21 [==============================] - 0s 7ms/step - loss: 23.1158 - val_loss: 888.4943\n",
      "Epoch 332/500\n",
      "21/21 [==============================] - 0s 8ms/step - loss: 23.1164 - val_loss: 888.4927\n",
      "Epoch 333/500\n",
      "21/21 [==============================] - 0s 13ms/step - loss: 23.1169 - val_loss: 888.4916\n",
      "Epoch 334/500\n",
      "21/21 [==============================] - 0s 9ms/step - loss: 23.1175 - val_loss: 888.4901\n",
      "Epoch 335/500\n",
      "21/21 [==============================] - 0s 7ms/step - loss: 23.1180 - val_loss: 888.4886\n",
      "Epoch 336/500\n",
      "21/21 [==============================] - 0s 7ms/step - loss: 23.1185 - val_loss: 888.4871\n",
      "Epoch 337/500\n",
      "21/21 [==============================] - 0s 7ms/step - loss: 23.1191 - val_loss: 888.4857\n",
      "Epoch 338/500\n",
      "21/21 [==============================] - 0s 6ms/step - loss: 23.1196 - val_loss: 888.4842\n",
      "Epoch 339/500\n",
      "21/21 [==============================] - 0s 6ms/step - loss: 23.1201 - val_loss: 888.4830\n",
      "Epoch 340/500\n",
      "21/21 [==============================] - 0s 6ms/step - loss: 23.1206 - val_loss: 888.4815\n",
      "Epoch 341/500\n",
      "21/21 [==============================] - 0s 6ms/step - loss: 23.1212 - val_loss: 888.4802\n",
      "Epoch 342/500\n",
      "21/21 [==============================] - 0s 6ms/step - loss: 23.1216 - val_loss: 888.4789\n",
      "Epoch 343/500\n",
      "21/21 [==============================] - 0s 6ms/step - loss: 23.1221 - val_loss: 888.4777\n",
      "Epoch 344/500\n",
      "21/21 [==============================] - 0s 6ms/step - loss: 23.1226 - val_loss: 888.4763\n",
      "Epoch 345/500\n",
      "21/21 [==============================] - 0s 5ms/step - loss: 23.1231 - val_loss: 888.4749\n",
      "Epoch 346/500\n",
      "21/21 [==============================] - 0s 10ms/step - loss: 23.1236 - val_loss: 888.4738\n",
      "Epoch 347/500\n",
      "21/21 [==============================] - 0s 6ms/step - loss: 23.1240 - val_loss: 888.4725\n",
      "Epoch 348/500\n",
      "21/21 [==============================] - 0s 5ms/step - loss: 23.1245 - val_loss: 888.4711\n",
      "Epoch 349/500\n",
      "21/21 [==============================] - 0s 5ms/step - loss: 23.1249 - val_loss: 888.4699\n",
      "Epoch 350/500\n",
      "21/21 [==============================] - 0s 5ms/step - loss: 23.1254 - val_loss: 888.4688\n",
      "Epoch 351/500\n",
      "21/21 [==============================] - 0s 5ms/step - loss: 23.1258 - val_loss: 888.4673\n",
      "Epoch 352/500\n",
      "21/21 [==============================] - 0s 7ms/step - loss: 23.1263 - val_loss: 888.4662\n",
      "Epoch 353/500\n",
      "21/21 [==============================] - 0s 6ms/step - loss: 23.1267 - val_loss: 888.4650\n",
      "Epoch 354/500\n",
      "21/21 [==============================] - 0s 6ms/step - loss: 23.1271 - val_loss: 888.4642\n",
      "Epoch 355/500\n",
      "21/21 [==============================] - 0s 5ms/step - loss: 23.1276 - val_loss: 888.4631\n",
      "Epoch 356/500\n",
      "21/21 [==============================] - 0s 6ms/step - loss: 23.1279 - val_loss: 888.4620\n",
      "Epoch 357/500\n",
      "21/21 [==============================] - 0s 6ms/step - loss: 23.1283 - val_loss: 888.4610\n",
      "Epoch 358/500\n",
      "21/21 [==============================] - 0s 6ms/step - loss: 23.1287 - val_loss: 888.4600\n",
      "Epoch 359/500\n",
      "21/21 [==============================] - 0s 6ms/step - loss: 23.1291 - val_loss: 888.4591\n",
      "Epoch 360/500\n",
      "21/21 [==============================] - 0s 6ms/step - loss: 23.1295 - val_loss: 888.4576\n",
      "Epoch 361/500\n",
      "21/21 [==============================] - 0s 6ms/step - loss: 23.1299 - val_loss: 888.4566\n",
      "Epoch 362/500\n",
      "21/21 [==============================] - 0s 5ms/step - loss: 23.1302 - val_loss: 888.4557\n",
      "Epoch 363/500\n",
      "21/21 [==============================] - 0s 5ms/step - loss: 23.1306 - val_loss: 888.4545\n",
      "Epoch 364/500\n",
      "21/21 [==============================] - 0s 5ms/step - loss: 23.1310 - val_loss: 888.4537\n",
      "Epoch 365/500\n",
      "21/21 [==============================] - 0s 5ms/step - loss: 23.1313 - val_loss: 888.4528\n",
      "Epoch 366/500\n",
      "21/21 [==============================] - 0s 6ms/step - loss: 23.1317 - val_loss: 888.4518\n",
      "Epoch 367/500\n",
      "21/21 [==============================] - 0s 6ms/step - loss: 23.1320 - val_loss: 888.4509\n",
      "Epoch 368/500\n",
      "21/21 [==============================] - 0s 12ms/step - loss: 23.1323 - val_loss: 888.4500\n",
      "Epoch 369/500\n",
      "21/21 [==============================] - 0s 7ms/step - loss: 23.1327 - val_loss: 888.4492\n",
      "Epoch 370/500\n",
      "21/21 [==============================] - 0s 7ms/step - loss: 23.1330 - val_loss: 888.4483\n",
      "Epoch 371/500\n",
      "21/21 [==============================] - 0s 9ms/step - loss: 23.1333 - val_loss: 888.4474\n",
      "Epoch 372/500\n",
      "21/21 [==============================] - 0s 7ms/step - loss: 23.1336 - val_loss: 888.4467\n",
      "Epoch 373/500\n",
      "21/21 [==============================] - 0s 7ms/step - loss: 23.1339 - val_loss: 888.4456\n",
      "Epoch 374/500\n",
      "21/21 [==============================] - 0s 7ms/step - loss: 23.1343 - val_loss: 888.4448\n",
      "Epoch 375/500\n",
      "21/21 [==============================] - 0s 7ms/step - loss: 23.1346 - val_loss: 888.4442\n",
      "Epoch 376/500\n",
      "21/21 [==============================] - 0s 7ms/step - loss: 23.1349 - val_loss: 888.4433\n",
      "Epoch 377/500\n",
      "21/21 [==============================] - 0s 7ms/step - loss: 23.1351 - val_loss: 888.4427\n",
      "Epoch 378/500\n",
      "21/21 [==============================] - 0s 8ms/step - loss: 23.1354 - val_loss: 888.4418\n",
      "Epoch 379/500\n",
      "21/21 [==============================] - 0s 7ms/step - loss: 23.1357 - val_loss: 888.4410\n",
      "Epoch 380/500\n",
      "21/21 [==============================] - 0s 6ms/step - loss: 23.1360 - val_loss: 888.4404\n",
      "Epoch 381/500\n",
      "21/21 [==============================] - 0s 6ms/step - loss: 23.1363 - val_loss: 888.4396\n",
      "Epoch 382/500\n",
      "21/21 [==============================] - 0s 5ms/step - loss: 23.1365 - val_loss: 888.4387\n",
      "Epoch 383/500\n",
      "21/21 [==============================] - 0s 5ms/step - loss: 23.1368 - val_loss: 888.4382\n",
      "Epoch 384/500\n",
      "21/21 [==============================] - 0s 5ms/step - loss: 23.1370 - val_loss: 888.4377\n",
      "Epoch 385/500\n",
      "21/21 [==============================] - 0s 5ms/step - loss: 23.1372 - val_loss: 888.4368\n",
      "Epoch 386/500\n",
      "21/21 [==============================] - 0s 10ms/step - loss: 23.1375 - val_loss: 888.4362\n",
      "Epoch 387/500\n",
      "21/21 [==============================] - 0s 8ms/step - loss: 23.1378 - val_loss: 888.4356\n",
      "Epoch 388/500\n",
      "21/21 [==============================] - 0s 6ms/step - loss: 23.1380 - val_loss: 888.4351\n",
      "Epoch 389/500\n",
      "21/21 [==============================] - 0s 6ms/step - loss: 23.1382 - val_loss: 888.4344\n",
      "Epoch 390/500\n",
      "21/21 [==============================] - 0s 6ms/step - loss: 23.1385 - val_loss: 888.4335\n",
      "Epoch 391/500\n",
      "21/21 [==============================] - 0s 5ms/step - loss: 23.1387 - val_loss: 888.4330\n",
      "Epoch 392/500\n",
      "21/21 [==============================] - 0s 5ms/step - loss: 23.1389 - val_loss: 888.4325\n",
      "Epoch 393/500\n",
      "21/21 [==============================] - 0s 5ms/step - loss: 23.1391 - val_loss: 888.4316\n",
      "Epoch 394/500\n",
      "21/21 [==============================] - 0s 6ms/step - loss: 23.1394 - val_loss: 888.4312\n",
      "Epoch 395/500\n",
      "21/21 [==============================] - 0s 5ms/step - loss: 23.1396 - val_loss: 888.4305\n",
      "Epoch 396/500\n",
      "21/21 [==============================] - 0s 5ms/step - loss: 23.1397 - val_loss: 888.4299\n",
      "Epoch 397/500\n",
      "21/21 [==============================] - 0s 6ms/step - loss: 23.1400 - val_loss: 888.4296\n",
      "Epoch 398/500\n",
      "21/21 [==============================] - 0s 5ms/step - loss: 23.1402 - val_loss: 888.4291\n",
      "Epoch 399/500\n",
      "21/21 [==============================] - 0s 5ms/step - loss: 23.1404 - val_loss: 888.4285\n",
      "Epoch 400/500\n",
      "21/21 [==============================] - 0s 5ms/step - loss: 23.1406 - val_loss: 888.4279\n",
      "Epoch 401/500\n",
      "21/21 [==============================] - 0s 5ms/step - loss: 23.1408 - val_loss: 888.4275\n",
      "Epoch 402/500\n",
      "21/21 [==============================] - 0s 5ms/step - loss: 23.1409 - val_loss: 888.4269\n",
      "Epoch 403/500\n",
      "21/21 [==============================] - 0s 6ms/step - loss: 23.1411 - val_loss: 888.4265\n",
      "Epoch 404/500\n",
      "21/21 [==============================] - 0s 6ms/step - loss: 23.1413 - val_loss: 888.4261\n",
      "Epoch 405/500\n",
      "21/21 [==============================] - 0s 5ms/step - loss: 23.1415 - val_loss: 888.4257\n",
      "Epoch 406/500\n",
      "21/21 [==============================] - 0s 5ms/step - loss: 23.1416 - val_loss: 888.4252\n",
      "Epoch 407/500\n",
      "21/21 [==============================] - 0s 5ms/step - loss: 23.1418 - val_loss: 888.4247\n",
      "Epoch 408/500\n",
      "21/21 [==============================] - 0s 8ms/step - loss: 23.1420 - val_loss: 888.4241\n",
      "Epoch 409/500\n",
      "21/21 [==============================] - 0s 7ms/step - loss: 23.1421 - val_loss: 888.4234\n",
      "Epoch 410/500\n",
      "21/21 [==============================] - 0s 6ms/step - loss: 23.1423 - val_loss: 888.4230\n",
      "Epoch 411/500\n",
      "21/21 [==============================] - 0s 6ms/step - loss: 23.1425 - val_loss: 888.4229\n",
      "Epoch 412/500\n",
      "21/21 [==============================] - 0s 6ms/step - loss: 23.1426 - val_loss: 888.4225\n",
      "Epoch 413/500\n",
      "21/21 [==============================] - 0s 5ms/step - loss: 23.1428 - val_loss: 888.4220\n",
      "Epoch 414/500\n",
      "21/21 [==============================] - 0s 5ms/step - loss: 23.1429 - val_loss: 888.4216\n",
      "Epoch 415/500\n",
      "21/21 [==============================] - 0s 5ms/step - loss: 23.1430 - val_loss: 888.4211\n",
      "Epoch 416/500\n",
      "21/21 [==============================] - 0s 5ms/step - loss: 23.1432 - val_loss: 888.4207\n",
      "Epoch 417/500\n",
      "21/21 [==============================] - 0s 6ms/step - loss: 23.1434 - val_loss: 888.4203\n",
      "Epoch 418/500\n",
      "21/21 [==============================] - 0s 5ms/step - loss: 23.1435 - val_loss: 888.4201\n",
      "Epoch 419/500\n",
      "21/21 [==============================] - 0s 5ms/step - loss: 23.1436 - val_loss: 888.4196\n",
      "Epoch 420/500\n",
      "21/21 [==============================] - 0s 5ms/step - loss: 23.1437 - val_loss: 888.4189\n",
      "Epoch 421/500\n",
      "21/21 [==============================] - 0s 6ms/step - loss: 23.1439 - val_loss: 888.4186\n",
      "Epoch 422/500\n",
      "21/21 [==============================] - 0s 5ms/step - loss: 23.1441 - val_loss: 888.4186\n",
      "Epoch 423/500\n",
      "21/21 [==============================] - 0s 5ms/step - loss: 23.1441 - val_loss: 888.4185\n",
      "Epoch 424/500\n",
      "21/21 [==============================] - 0s 5ms/step - loss: 23.1442 - val_loss: 888.4181\n",
      "Epoch 425/500\n",
      "21/21 [==============================] - 0s 5ms/step - loss: 23.1444 - val_loss: 888.4179\n",
      "Epoch 426/500\n",
      "21/21 [==============================] - 0s 5ms/step - loss: 23.1445 - val_loss: 888.4175\n",
      "Epoch 427/500\n",
      "21/21 [==============================] - 0s 5ms/step - loss: 23.1446 - val_loss: 888.4174\n",
      "Epoch 428/500\n",
      "21/21 [==============================] - 0s 5ms/step - loss: 23.1447 - val_loss: 888.4172\n",
      "Epoch 429/500\n",
      "21/21 [==============================] - 0s 5ms/step - loss: 23.1448 - val_loss: 888.4169\n",
      "Epoch 430/500\n",
      "21/21 [==============================] - 0s 11ms/step - loss: 23.1449 - val_loss: 888.4163\n",
      "Epoch 431/500\n",
      "21/21 [==============================] - 0s 6ms/step - loss: 23.1450 - val_loss: 888.4159\n",
      "Epoch 432/500\n",
      "21/21 [==============================] - 0s 5ms/step - loss: 23.1452 - val_loss: 888.4159\n",
      "Epoch 433/500\n",
      "21/21 [==============================] - 0s 6ms/step - loss: 23.1452 - val_loss: 888.4157\n",
      "Epoch 434/500\n",
      "21/21 [==============================] - 0s 5ms/step - loss: 23.1453 - val_loss: 888.4154\n",
      "Epoch 435/500\n",
      "21/21 [==============================] - 0s 5ms/step - loss: 23.1454 - val_loss: 888.4150\n",
      "Epoch 436/500\n",
      "21/21 [==============================] - 0s 5ms/step - loss: 23.1455 - val_loss: 888.4149\n",
      "Epoch 437/500\n",
      "21/21 [==============================] - 0s 5ms/step - loss: 23.1456 - val_loss: 888.4150\n",
      "Epoch 438/500\n",
      "21/21 [==============================] - 0s 5ms/step - loss: 23.1457 - val_loss: 888.4146\n",
      "Epoch 439/500\n",
      "21/21 [==============================] - 0s 5ms/step - loss: 23.1458 - val_loss: 888.4142\n",
      "Epoch 440/500\n",
      "21/21 [==============================] - 0s 5ms/step - loss: 23.1459 - val_loss: 888.4138\n",
      "Epoch 441/500\n",
      "21/21 [==============================] - 0s 5ms/step - loss: 23.1459 - val_loss: 888.4135\n",
      "Epoch 442/500\n",
      "21/21 [==============================] - 0s 5ms/step - loss: 23.1460 - val_loss: 888.4131\n",
      "Epoch 443/500\n",
      "21/21 [==============================] - 0s 5ms/step - loss: 23.1461 - val_loss: 888.4128\n",
      "Epoch 444/500\n",
      "21/21 [==============================] - 0s 5ms/step - loss: 23.1462 - val_loss: 888.4127\n",
      "Epoch 445/500\n",
      "21/21 [==============================] - 0s 5ms/step - loss: 23.1463 - val_loss: 888.4125\n",
      "Epoch 446/500\n",
      "21/21 [==============================] - 0s 6ms/step - loss: 23.1464 - val_loss: 888.4125\n",
      "Epoch 447/500\n",
      "21/21 [==============================] - 0s 5ms/step - loss: 23.1464 - val_loss: 888.4120\n",
      "Epoch 448/500\n",
      "21/21 [==============================] - 0s 5ms/step - loss: 23.1465 - val_loss: 888.4119\n",
      "Epoch 449/500\n",
      "21/21 [==============================] - 0s 5ms/step - loss: 23.1466 - val_loss: 888.4116\n",
      "Epoch 450/500\n",
      "21/21 [==============================] - 0s 5ms/step - loss: 23.1467 - val_loss: 888.4116\n",
      "Epoch 451/500\n",
      "21/21 [==============================] - 0s 5ms/step - loss: 23.1468 - val_loss: 888.4113\n",
      "Epoch 452/500\n",
      "21/21 [==============================] - 0s 5ms/step - loss: 23.1468 - val_loss: 888.4111\n",
      "Epoch 453/500\n",
      "21/21 [==============================] - 0s 5ms/step - loss: 23.1469 - val_loss: 888.4111\n",
      "Epoch 454/500\n",
      "21/21 [==============================] - 0s 10ms/step - loss: 23.1470 - val_loss: 888.4110\n",
      "Epoch 455/500\n",
      "21/21 [==============================] - 0s 6ms/step - loss: 23.1471 - val_loss: 888.4109\n",
      "Epoch 456/500\n",
      "21/21 [==============================] - 0s 6ms/step - loss: 23.1471 - val_loss: 888.4108\n",
      "Epoch 457/500\n",
      "21/21 [==============================] - 0s 6ms/step - loss: 23.1472 - val_loss: 888.4105\n",
      "Epoch 458/500\n",
      "21/21 [==============================] - 0s 5ms/step - loss: 23.1472 - val_loss: 888.4103\n",
      "Epoch 459/500\n",
      "21/21 [==============================] - 0s 5ms/step - loss: 23.1473 - val_loss: 888.4102\n",
      "Epoch 460/500\n",
      "21/21 [==============================] - 0s 5ms/step - loss: 23.1473 - val_loss: 888.4100\n",
      "Epoch 461/500\n",
      "21/21 [==============================] - 0s 5ms/step - loss: 23.1474 - val_loss: 888.4095\n",
      "Epoch 462/500\n",
      "21/21 [==============================] - 0s 5ms/step - loss: 23.1475 - val_loss: 888.4095\n",
      "Epoch 463/500\n",
      "21/21 [==============================] - 0s 5ms/step - loss: 23.1475 - val_loss: 888.4095\n",
      "Epoch 464/500\n",
      "21/21 [==============================] - 0s 5ms/step - loss: 23.1476 - val_loss: 888.4092\n",
      "Epoch 465/500\n",
      "21/21 [==============================] - 0s 5ms/step - loss: 23.1476 - val_loss: 888.4091\n",
      "Epoch 466/500\n",
      "21/21 [==============================] - 0s 5ms/step - loss: 23.1476 - val_loss: 888.4088\n",
      "Epoch 467/500\n",
      "21/21 [==============================] - 0s 5ms/step - loss: 23.1477 - val_loss: 888.4087\n",
      "Epoch 468/500\n",
      "21/21 [==============================] - 0s 5ms/step - loss: 23.1478 - val_loss: 888.4087\n",
      "Epoch 469/500\n",
      "21/21 [==============================] - 0s 5ms/step - loss: 23.1478 - val_loss: 888.4087\n",
      "Epoch 470/500\n",
      "21/21 [==============================] - 0s 5ms/step - loss: 23.1479 - val_loss: 888.4085\n",
      "Epoch 471/500\n",
      "21/21 [==============================] - 0s 5ms/step - loss: 23.1479 - val_loss: 888.4085\n",
      "Epoch 472/500\n",
      "21/21 [==============================] - 0s 5ms/step - loss: 23.1480 - val_loss: 888.4085\n",
      "Epoch 473/500\n",
      "21/21 [==============================] - 0s 5ms/step - loss: 23.1480 - val_loss: 888.4084\n",
      "Epoch 474/500\n",
      "21/21 [==============================] - 0s 5ms/step - loss: 23.1481 - val_loss: 888.4084\n",
      "Epoch 475/500\n",
      "21/21 [==============================] - 0s 5ms/step - loss: 23.1481 - val_loss: 888.4085\n",
      "Epoch 476/500\n",
      "21/21 [==============================] - 0s 5ms/step - loss: 23.1481 - val_loss: 888.4083\n",
      "Epoch 477/500\n",
      "21/21 [==============================] - 0s 10ms/step - loss: 23.1482 - val_loss: 888.4081\n",
      "Epoch 478/500\n",
      "21/21 [==============================] - 0s 6ms/step - loss: 23.1483 - val_loss: 888.4083\n",
      "Epoch 479/500\n",
      "21/21 [==============================] - 0s 6ms/step - loss: 23.1483 - val_loss: 888.4081\n",
      "Epoch 480/500\n",
      "21/21 [==============================] - 0s 5ms/step - loss: 23.1483 - val_loss: 888.4080\n",
      "Epoch 481/500\n",
      "21/21 [==============================] - 0s 6ms/step - loss: 23.1483 - val_loss: 888.4078\n",
      "Epoch 482/500\n",
      "21/21 [==============================] - 0s 5ms/step - loss: 23.1484 - val_loss: 888.4077\n",
      "Epoch 483/500\n",
      "21/21 [==============================] - 0s 6ms/step - loss: 23.1484 - val_loss: 888.4078\n",
      "Epoch 484/500\n",
      "21/21 [==============================] - 0s 6ms/step - loss: 23.1484 - val_loss: 888.4076\n",
      "Epoch 485/500\n",
      "21/21 [==============================] - 0s 6ms/step - loss: 23.1485 - val_loss: 888.4076\n",
      "Epoch 486/500\n",
      "21/21 [==============================] - 0s 5ms/step - loss: 23.1485 - val_loss: 888.4074\n",
      "Epoch 487/500\n",
      "21/21 [==============================] - 0s 5ms/step - loss: 23.1486 - val_loss: 888.4072\n",
      "Epoch 488/500\n",
      "21/21 [==============================] - 0s 5ms/step - loss: 23.1486 - val_loss: 888.4071\n",
      "Epoch 489/500\n",
      "21/21 [==============================] - 0s 5ms/step - loss: 23.1486 - val_loss: 888.4070\n",
      "Epoch 490/500\n",
      "21/21 [==============================] - 0s 5ms/step - loss: 23.1486 - val_loss: 888.4068\n",
      "Epoch 491/500\n",
      "21/21 [==============================] - 0s 5ms/step - loss: 23.1487 - val_loss: 888.4067\n",
      "Epoch 492/500\n",
      "21/21 [==============================] - 0s 5ms/step - loss: 23.1487 - val_loss: 888.4066\n",
      "Epoch 493/500\n",
      "21/21 [==============================] - 0s 5ms/step - loss: 23.1488 - val_loss: 888.4067\n",
      "Epoch 494/500\n",
      "21/21 [==============================] - 0s 5ms/step - loss: 23.1488 - val_loss: 888.4067\n",
      "Epoch 495/500\n",
      "21/21 [==============================] - 0s 5ms/step - loss: 23.1488 - val_loss: 888.4067\n",
      "Epoch 496/500\n",
      "21/21 [==============================] - 0s 5ms/step - loss: 23.1488 - val_loss: 888.4066\n",
      "Epoch 497/500\n",
      "21/21 [==============================] - 0s 5ms/step - loss: 23.1489 - val_loss: 888.4064\n",
      "Epoch 498/500\n",
      "21/21 [==============================] - 0s 9ms/step - loss: 23.1489 - val_loss: 888.4064\n",
      "Epoch 499/500\n",
      "21/21 [==============================] - 0s 9ms/step - loss: 23.1490 - val_loss: 888.4064\n",
      "Epoch 500/500\n",
      "21/21 [==============================] - 0s 7ms/step - loss: 23.1489 - val_loss: 888.4062\n"
     ]
    }
   ],
   "source": [
    "C0 = tf.Variable(86.6465, name=\"C0\", trainable=True, dtype=tf.float32)\n",
    "K0 = tf.Variable(-0.0029, name=\"K0\", trainable=True, dtype=tf.float32)\n",
    "K1 = tf.Variable(-0.0003, name=\"K1\", trainable=True, dtype=tf.float32)\n",
    "a = tf.Variable(0.0000, name=\"a\", trainable=True, dtype=tf.float32)\n",
    "b = tf.Variable(0.0168, name=\"b\", trainable=True, dtype=tf.float32)\n",
    "c = tf.Variable(2.3581, name=\"c\", trainable=True, dtype=tf.float32)\n",
    "\n",
    "splitr = 0.8\n",
    "\n",
    "\n",
    "def loss_fn(y_true, y_pred):\n",
    "    squared_difference = tf.square(y_true[:, 0] - y_pred[:, 0])\n",
    "    #squared_difference2 = tf.square(y_true[:, 2]-y_pred[:, 2])\n",
    "    #squared_difference1 = tf.square(y_true[:, 1]-y_pred[:, 1])\n",
    "    epsilon = 1\n",
    "    squared_difference3 = tf.square(\n",
    "        y_pred[:, 1] - (\n",
    "            y_pred[:, 0] * (\n",
    "                K0 - K1 * (\n",
    "                    9 * a * tf.math.log((y_pred[:, 0] + epsilon) / C0) / (K0 - K1 * c)**2 +\n",
    "                    4 * b * tf.math.log((y_pred[:, 0] + epsilon) / C0) / (K0 - K1 * c) + c\n",
    "                )\n",
    "            )\n",
    "        )\n",
    "    )\n",
    "    return tf.reduce_mean(squared_difference, axis=-1) + 0.2*tf.reduce_mean(squared_difference3, axis=-1)\n",
    "model = Sequential()\n",
    "model.add(LSTM(100, input_shape=(trainX.shape[1], trainX.shape[2])))\n",
    "model.add(Dense(60))\n",
    "model.compile(loss=loss_fn, optimizer='adam')\n",
    "history = model.fit(trainX[:int(splitr*trainX.shape[0])], trainy[:int(splitr*trainX.shape[0])], epochs=500, batch_size=64, validation_data=(trainX[int(splitr*trainX.shape[0]):trainX.shape[0]], trainy[int(splitr*trainX.shape[0]):trainX.shape[0]]), shuffle=False)"
   ]
  },
  {
   "cell_type": "code",
   "execution_count": 19,
   "metadata": {
    "colab": {
     "base_uri": "https://localhost:8080/"
    },
    "id": "yJL101rPyuoT",
    "outputId": "239ff2b1-c186-423a-d316-939dfdd7c793"
   },
   "outputs": [
    {
     "name": "stdout",
     "output_type": "stream",
     "text": [
      "1/1 [==============================] - 0s 460ms/step\n"
     ]
    }
   ],
   "source": [
    "forecast_without_mc = forecastX\n",
    "yhat_without_mc = model.predict(forecast_without_mc) # Step Ahead Prediction\n",
    "forecast_without_mc = forecast_without_mc.reshape((forecast_without_mc.shape[0], forecast_without_mc.shape[2])) # Historical Input"
   ]
  },
  {
   "cell_type": "code",
   "execution_count": 20,
   "metadata": {
    "colab": {
     "base_uri": "https://localhost:8080/"
    },
    "id": "g9dQELcJ8wbp",
    "outputId": "4dc7671b-b1a8-48d5-8744-a86f98446109"
   },
   "outputs": [
    {
     "data": {
      "text/plain": [
       "(1, 1, 251)"
      ]
     },
     "execution_count": 20,
     "metadata": {},
     "output_type": "execute_result"
    }
   ],
   "source": [
    "forecastX.shape"
   ]
  },
  {
   "cell_type": "code",
   "execution_count": 21,
   "metadata": {
    "colab": {
     "base_uri": "https://localhost:8080/"
    },
    "id": "IS2kyIKG1Kbr",
    "outputId": "f31b3485-8e26-452f-9298-ea8bf7e80ad1"
   },
   "outputs": [
    {
     "data": {
      "text/plain": [
       "(1, 251)"
      ]
     },
     "execution_count": 21,
     "metadata": {},
     "output_type": "execute_result"
    }
   ],
   "source": [
    "forecast_without_mc.shape"
   ]
  },
  {
   "cell_type": "code",
   "execution_count": 22,
   "metadata": {
    "id": "0u6VIzaDyuoT"
   },
   "outputs": [],
   "source": [
    "inv_yhat_without_mc = np.concatenate((forecast_without_mc, yhat_without_mc), axis=1) # Concatenation of predicted values with Historical Data\n",
    "#inv_yhat_without_mc = scaler.inverse_transform(inv_yhat_without_mc) # Transform labels back to original encoding"
   ]
  },
  {
   "cell_type": "code",
   "execution_count": 23,
   "metadata": {
    "colab": {
     "base_uri": "https://localhost:8080/"
    },
    "id": "EUEcw0LX07oU",
    "outputId": "cfc32397-9c37-4b43-d087-584bb31c3dcc"
   },
   "outputs": [
    {
     "data": {
      "text/plain": [
       "(1, 311)"
      ]
     },
     "execution_count": 23,
     "metadata": {},
     "output_type": "execute_result"
    }
   ],
   "source": [
    "inv_yhat_without_mc.shape"
   ]
  },
  {
   "cell_type": "code",
   "execution_count": 24,
   "metadata": {
    "id": "31OWVbSh_305"
   },
   "outputs": [],
   "source": [
    "fforecast = inv_yhat_without_mc[:,-300:]"
   ]
  },
  {
   "cell_type": "code",
   "execution_count": 25,
   "metadata": {},
   "outputs": [
    {
     "data": {
      "text/plain": [
       "(1, 300)"
      ]
     },
     "execution_count": 25,
     "metadata": {},
     "output_type": "execute_result"
    }
   ],
   "source": [
    "fforecast.shape"
   ]
  },
  {
   "cell_type": "code",
   "execution_count": 26,
   "metadata": {
    "id": "BlpGH2FOAiRF"
   },
   "outputs": [],
   "source": [
    "final_forecast = fforecast[:,0:300:3]"
   ]
  },
  {
   "cell_type": "code",
   "execution_count": 27,
   "metadata": {},
   "outputs": [
    {
     "data": {
      "text/plain": [
       "(1, 300)"
      ]
     },
     "execution_count": 27,
     "metadata": {},
     "output_type": "execute_result"
    }
   ],
   "source": [
    "fforecast.shape"
   ]
  },
  {
   "cell_type": "code",
   "execution_count": 28,
   "metadata": {
    "id": "CXkgkj_LBk_t"
   },
   "outputs": [],
   "source": [
    "# code to replace all negative value with 0\n",
    "final_forecast[final_forecast<0] = 0"
   ]
  },
  {
   "cell_type": "code",
   "execution_count": 29,
   "metadata": {},
   "outputs": [
    {
     "data": {
      "text/plain": [
       "array([[6.23367647e+01, 6.23283613e+01, 6.23199580e+01, 6.23115546e+01,\n",
       "        6.23031513e+01, 6.22632353e+01, 6.22044118e+01, 0.00000000e+00,\n",
       "        0.00000000e+00, 5.62436104e-01, 2.44988350e-02, 5.97582459e-01,\n",
       "        1.18719362e-01, 6.25283613e+01, 6.24527311e+01, 6.23974556e+01,\n",
       "        6.23890523e+01, 6.23806489e+01, 6.23722456e+01, 6.23638422e+01,\n",
       "        6.23554388e+01, 6.23470355e+01, 6.23386321e+01, 6.23302288e+01,\n",
       "        6.23218254e+01, 6.23134220e+01, 6.23050187e+01, 6.22763072e+01,\n",
       "        6.22174837e+01, 6.21586601e+01, 6.20998366e+01, 6.20410131e+01,\n",
       "        6.19821895e+01, 6.19233660e+01, 6.18645425e+01, 6.18057189e+01,\n",
       "        6.17468954e+01, 6.16880719e+01, 6.16292484e+01, 6.15856349e+01,\n",
       "        0.00000000e+00, 1.05700340e-01, 7.49445000e-02, 0.00000000e+00,\n",
       "        0.00000000e+00, 1.16387020e-01, 0.00000000e+00, 6.23152895e+01,\n",
       "        6.23068861e+01, 6.22893791e+01, 6.22305556e+01, 6.21717320e+01,\n",
       "        6.21129085e+01, 6.20540850e+01, 6.19952614e+01, 6.19364379e+01,\n",
       "        6.18776144e+01, 6.18187908e+01, 6.17599673e+01, 6.17011438e+01,\n",
       "        6.16423203e+01, 6.15919841e+01, 6.39678105e+01, 6.37913399e+01,\n",
       "        6.36148693e+01, 6.34383987e+01, 6.32510504e+01, 6.30241597e+01,\n",
       "        6.27972689e+01, 6.25703782e+01, 6.23937208e+01, 0.00000000e+00,\n",
       "        8.05609170e-01, 6.04137650e+01, 1.03494644e-01, 0.00000000e+00,\n",
       "        4.51493770e-01, 6.49816620e-02, 6.82190061e-01, 7.14040160e-01,\n",
       "        5.22042122e+01, 4.16456401e-01, 7.05238283e-01, 1.86739072e-01,\n",
       "        0.00000000e+00, 0.00000000e+00, 0.00000000e+00, 0.00000000e+00,\n",
       "        0.00000000e+00, 6.10181570e-01, 7.57524252e-01, 2.27574646e-01,\n",
       "        4.14854854e-01, 0.00000000e+00, 1.81573749e-01, 0.00000000e+00,\n",
       "        0.00000000e+00, 7.91437149e-01, 3.23886007e-01, 0.00000000e+00]])"
      ]
     },
     "execution_count": 29,
     "metadata": {},
     "output_type": "execute_result"
    }
   ],
   "source": [
    "final_forecast"
   ]
  },
  {
   "cell_type": "code",
   "execution_count": 30,
   "metadata": {},
   "outputs": [
    {
     "data": {
      "text/plain": [
       "(1, 100)"
      ]
     },
     "execution_count": 30,
     "metadata": {},
     "output_type": "execute_result"
    }
   ],
   "source": [
    "final_forecast.shape"
   ]
  },
  {
   "cell_type": "code",
   "execution_count": 31,
   "metadata": {},
   "outputs": [
    {
     "data": {
      "text/plain": [
       "(100,)"
      ]
     },
     "execution_count": 31,
     "metadata": {},
     "output_type": "execute_result"
    }
   ],
   "source": [
    "test.shape"
   ]
  },
  {
   "cell_type": "code",
   "execution_count": 32,
   "metadata": {},
   "outputs": [],
   "source": [
    "training_set = np.array(training_set)\n",
    "test = np.array(test)\n",
    "final_forecast = np.array(final_forecast.squeeze(0))"
   ]
  },
  {
   "cell_type": "code",
   "execution_count": 33,
   "metadata": {},
   "outputs": [
    {
     "data": {
      "text/plain": [
       "array([55.925     , 55.90912698, 55.89325397, 55.87738095, 55.86150794,\n",
       "       55.84563492, 55.8297619 , 55.81388889, 55.79801587, 55.78214286,\n",
       "       55.76626984, 55.75039683, 55.73452381, 55.71865079, 55.70277778,\n",
       "       55.68690476, 55.67103175, 55.65515873, 55.63928571, 55.6234127 ,\n",
       "       55.60753968, 55.59166667, 55.57579365, 55.55992063, 55.54404762,\n",
       "       55.5281746 , 55.51230159, 55.49642857, 55.48055556, 55.46468254,\n",
       "       55.44880952, 55.43293651, 55.41706349, 55.40119048, 55.39191091,\n",
       "       55.38316595, 55.37442099, 55.36567603, 55.35693107, 55.3481861 ,\n",
       "       55.33944114, 55.33069618, 55.32195122, 55.31320626, 55.3044613 ,\n",
       "       55.29571634, 55.28697137, 55.27822641, 55.26948145, 55.26073649,\n",
       "       55.25199153, 55.24324657, 55.23450161, 55.22575664, 55.21701168,\n",
       "       55.20826672, 55.19952176, 55.1907768 , 55.18203184, 55.17328688,\n",
       "       55.16454191, 55.15579695, 55.14705199, 55.13830703, 55.12956207,\n",
       "       55.12081711, 55.11207215, 55.10332718, 55.09458222, 55.08583726,\n",
       "       55.0770923 , 55.06834734, 55.05960238, 55.05085742, 55.04211245,\n",
       "       55.03336749, 55.02462253, 55.01587757, 55.00713261, 54.99838765,\n",
       "       54.98964269, 54.98089772, 54.97215276, 54.9634078 , 54.95466284,\n",
       "       54.94591788, 54.93717292, 54.92842796, 54.919683  , 54.91093803,\n",
       "       54.90219307, 54.89344811, 54.88470315, 54.87595819, 54.86721323,\n",
       "       54.85846827, 54.8497233 , 54.84097834, 54.83223338, 54.82348842])"
      ]
     },
     "execution_count": 33,
     "metadata": {},
     "output_type": "execute_result"
    }
   ],
   "source": [
    "test"
   ]
  },
  {
   "cell_type": "code",
   "execution_count": 34,
   "metadata": {},
   "outputs": [
    {
     "data": {
      "text/plain": [
       "(100,)"
      ]
     },
     "execution_count": 34,
     "metadata": {},
     "output_type": "execute_result"
    }
   ],
   "source": [
    "test.shape"
   ]
  },
  {
   "cell_type": "code",
   "execution_count": 35,
   "metadata": {},
   "outputs": [
    {
     "data": {
      "text/plain": [
       "(100,)"
      ]
     },
     "execution_count": 35,
     "metadata": {},
     "output_type": "execute_result"
    }
   ],
   "source": [
    "final_forecast.shape"
   ]
  },
  {
   "cell_type": "code",
   "execution_count": 36,
   "metadata": {},
   "outputs": [
    {
     "data": {
      "text/plain": [
       "(100,)"
      ]
     },
     "execution_count": 36,
     "metadata": {},
     "output_type": "execute_result"
    }
   ],
   "source": [
    "test.shape"
   ]
  },
  {
   "cell_type": "code",
   "execution_count": 37,
   "metadata": {},
   "outputs": [
    {
     "name": "stdout",
     "output_type": "stream",
     "text": [
      "35.126151122939135\n",
      "26.028911745305308\n"
     ]
    }
   ],
   "source": [
    "import math\n",
    "MSE = np.square(np.subtract(np.array(test),np.array(final_forecast))).mean()   \n",
    "rsme = math.sqrt(MSE)\n",
    "print(rsme)  \n",
    "MAE = np.abs(np.subtract(np.array(test),np.array(final_forecast))).mean()   \n",
    "mae = MAE\n",
    "print(mae)"
   ]
  }
 ],
 "metadata": {
  "colab": {
   "provenance": []
  },
  "kernelspec": {
   "display_name": "Python 3",
   "language": "python",
   "name": "python3"
  },
  "language_info": {
   "codemirror_mode": {
    "name": "ipython",
    "version": 3
   },
   "file_extension": ".py",
   "mimetype": "text/x-python",
   "name": "python",
   "nbconvert_exporter": "python",
   "pygments_lexer": "ipython3",
   "version": "3.9.13"
  }
 },
 "nbformat": 4,
 "nbformat_minor": 0
}
