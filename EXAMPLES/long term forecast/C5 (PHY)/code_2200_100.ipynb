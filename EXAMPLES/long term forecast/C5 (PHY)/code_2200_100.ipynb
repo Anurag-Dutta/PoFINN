{
 "cells": [
  {
   "cell_type": "markdown",
   "metadata": {
    "id": "pCGKeZ2gyuoQ"
   },
   "source": [
    "_Importing Required Libraries_"
   ]
  },
  {
   "cell_type": "code",
   "execution_count": 1,
   "metadata": {
    "colab": {
     "base_uri": "https://localhost:8080/"
    },
    "id": "A-6LN-zXiLcM",
    "outputId": "4de610a4-f8b8-4f49-c6c0-89de299ccedc"
   },
   "outputs": [
    {
     "name": "stdout",
     "output_type": "stream",
     "text": [
      "Requirement already satisfied: hampel in c:\\users\\anurag dutta\\appdata\\local\\packages\\pythonsoftwarefoundation.python.3.9_qbz5n2kfra8p0\\localcache\\local-packages\\python39\\site-packages (0.0.5)\n",
      "Requirement already satisfied: numpy in c:\\users\\anurag dutta\\appdata\\local\\packages\\pythonsoftwarefoundation.python.3.9_qbz5n2kfra8p0\\localcache\\local-packages\\python39\\site-packages (from hampel) (1.26.4)\n",
      "Requirement already satisfied: pandas in c:\\users\\anurag dutta\\appdata\\local\\packages\\pythonsoftwarefoundation.python.3.9_qbz5n2kfra8p0\\localcache\\local-packages\\python39\\site-packages (from hampel) (1.5.2)\n",
      "Requirement already satisfied: python-dateutil>=2.8.1 in c:\\users\\anurag dutta\\appdata\\local\\packages\\pythonsoftwarefoundation.python.3.9_qbz5n2kfra8p0\\localcache\\local-packages\\python39\\site-packages (from pandas->hampel) (2.8.2)\n",
      "Requirement already satisfied: pytz>=2020.1 in c:\\users\\anurag dutta\\appdata\\local\\packages\\pythonsoftwarefoundation.python.3.9_qbz5n2kfra8p0\\localcache\\local-packages\\python39\\site-packages (from pandas->hampel) (2023.3.post1)\n",
      "Requirement already satisfied: six>=1.5 in c:\\users\\anurag dutta\\appdata\\local\\packages\\pythonsoftwarefoundation.python.3.9_qbz5n2kfra8p0\\localcache\\local-packages\\python39\\site-packages (from python-dateutil>=2.8.1->pandas->hampel) (1.16.0)\n",
      "Note: you may need to restart the kernel to use updated packages.\n"
     ]
    },
    {
     "name": "stderr",
     "output_type": "stream",
     "text": [
      "\n",
      "[notice] A new release of pip is available: 24.2 -> 24.3.1\n",
      "[notice] To update, run: C:\\Users\\Anurag Dutta\\AppData\\Local\\Microsoft\\WindowsApps\\PythonSoftwareFoundation.Python.3.9_qbz5n2kfra8p0\\python.exe -m pip install --upgrade pip\n"
     ]
    }
   ],
   "source": [
    "pip install hampel"
   ]
  },
  {
   "cell_type": "code",
   "execution_count": 2,
   "metadata": {
    "id": "By_d9uXpaFvZ"
   },
   "outputs": [],
   "source": [
    "from keras.models import Sequential\n",
    "from keras.layers import Dense\n",
    "from keras.layers import LSTM\n",
    "from keras.layers import Dropout\n",
    "import keras\n",
    "import tensorflow as tf\n",
    "from hampel import hampel\n",
    "import numpy as np\n",
    "import matplotlib.pyplot as plt\n",
    "import pandas as pd\n",
    "from sklearn.preprocessing import MinMaxScaler\n",
    "from sklearn.metrics import mean_squared_error, mean_absolute_error\n",
    "from math import sqrt\n",
    "from matplotlib import pyplot\n",
    "from numpy import array"
   ]
  },
  {
   "cell_type": "markdown",
   "metadata": {
    "id": "JyOjBMFayuoR"
   },
   "source": [
    "## Pretraining"
   ]
  },
  {
   "cell_type": "markdown",
   "metadata": {
    "id": "-5QqIY_GyuoR"
   },
   "source": [
    "The `capa_intermittency.dat` feeds the model with the dynamics of the Capacitor"
   ]
  },
  {
   "cell_type": "code",
   "execution_count": 3,
   "metadata": {
    "id": "9dV4a8yfyuoR"
   },
   "outputs": [],
   "source": [
    "data = np.genfromtxt('capa_intermittency.dat')\n",
    "training_set = pd.DataFrame(data).reset_index(drop=True)\n",
    "training_set = training_set.iloc[:,0]"
   ]
  },
  {
   "cell_type": "markdown",
   "metadata": {
    "id": "i7easoxByuoR"
   },
   "source": [
    "## Computing the Gradient"
   ]
  },
  {
   "cell_type": "markdown",
   "metadata": {
    "id": "5SnyolJTyuoR"
   },
   "source": [
    "_Calculating the value of_ $\\frac{dx}{dt}$"
   ]
  },
  {
   "cell_type": "code",
   "execution_count": 4,
   "metadata": {
    "colab": {
     "base_uri": "https://localhost:8080/"
    },
    "id": "wmIbVfIvyuoR",
    "outputId": "aa4e3136-c854-465d-d2e9-81cfd546e440"
   },
   "outputs": [
    {
     "name": "stdout",
     "output_type": "stream",
     "text": [
      "1.0\n",
      "1        0.000298\n",
      "2        0.000298\n",
      "3        0.000297\n",
      "4        0.000297\n",
      "5        0.000297\n",
      "           ...   \n",
      "9996     0.000018\n",
      "9997     0.000018\n",
      "9998     0.000018\n",
      "9999     0.000018\n",
      "10000    0.000018\n",
      "Name: 0, Length: 10000, dtype: float64\n"
     ]
    }
   ],
   "source": [
    "t_diff = 1\n",
    "print(training_set.max())\n",
    "gradient_t = (training_set.diff()/t_diff).iloc[1:] # dx/dt\n",
    "print(gradient_t)"
   ]
  },
  {
   "cell_type": "markdown",
   "metadata": {
    "id": "_2eVeeoxyuoS"
   },
   "source": [
    "## Loading Datasets"
   ]
  },
  {
   "cell_type": "code",
   "execution_count": 5,
   "metadata": {
    "id": "0J-NKyIEyuoS"
   },
   "outputs": [
    {
     "data": {
      "text/plain": [
       "0       89.140000\n",
       "1       88.911429\n",
       "2       88.682857\n",
       "3       88.454286\n",
       "4       88.225714\n",
       "          ...    \n",
       "2295    61.216725\n",
       "2296    61.208800\n",
       "2297    61.200874\n",
       "2298    61.192949\n",
       "2299    61.185024\n",
       "Name: C5, Length: 2300, dtype: float64"
      ]
     },
     "execution_count": 5,
     "metadata": {},
     "output_type": "execute_result"
    }
   ],
   "source": [
    "data = pd.read_csv(\"c5_interpolated_2200_100.csv\")\n",
    "training_set = data.iloc[:, 1]\n",
    "training_set"
   ]
  },
  {
   "cell_type": "code",
   "execution_count": 6,
   "metadata": {
    "colab": {
     "base_uri": "https://localhost:8080/"
    },
    "id": "-CbNUhJ74UqF",
    "outputId": "20f562d8-8247-49cc-b9c3-00eca5e13e2d"
   },
   "outputs": [
    {
     "data": {
      "text/plain": [
       "0       89.140000\n",
       "1       88.911429\n",
       "2       88.682857\n",
       "3       88.454286\n",
       "4       88.225714\n",
       "          ...    \n",
       "2195     0.267281\n",
       "2196     0.000000\n",
       "2197     0.000000\n",
       "2198     0.187532\n",
       "2199     0.000000\n",
       "Name: C5, Length: 2200, dtype: float64"
      ]
     },
     "execution_count": 6,
     "metadata": {},
     "output_type": "execute_result"
    }
   ],
   "source": [
    "test = training_set.tail(100)\n",
    "test\n",
    "training_set = training_set.head(2200)\n",
    "training_set"
   ]
  },
  {
   "cell_type": "code",
   "execution_count": 7,
   "metadata": {
    "colab": {
     "base_uri": "https://localhost:8080/"
    },
    "id": "X0TwTcq0yuoS",
    "outputId": "37252ed8-d88e-4044-fa7a-922411990b5b"
   },
   "outputs": [
    {
     "name": "stdout",
     "output_type": "stream",
     "text": [
      "0       0.000298\n",
      "1       0.000298\n",
      "2       0.000297\n",
      "3       0.000297\n",
      "4       0.000297\n",
      "          ...   \n",
      "9995    0.000018\n",
      "9996    0.000018\n",
      "9997    0.000018\n",
      "9998    0.000018\n",
      "9999    0.000018\n",
      "Name: 0, Length: 10000, dtype: float64\n"
     ]
    }
   ],
   "source": [
    "training_set = training_set.reset_index(drop=True)\n",
    "gradient_t = gradient_t.reset_index(drop=True)\n",
    "print(gradient_t)"
   ]
  },
  {
   "cell_type": "code",
   "execution_count": 8,
   "metadata": {
    "id": "O2biznZQyuoS"
   },
   "outputs": [],
   "source": [
    "df = pd.concat((training_set, gradient_t), axis=1)\n",
    "df.columns = ['y_t', 'grad_t']"
   ]
  },
  {
   "cell_type": "code",
   "execution_count": 9,
   "metadata": {
    "colab": {
     "base_uri": "https://localhost:8080/",
     "height": 423
    },
    "id": "sk_a5v3tyuoS",
    "outputId": "17563625-e550-45ae-faab-fafa353e44da"
   },
   "outputs": [
    {
     "data": {
      "text/html": [
       "<div>\n",
       "<style scoped>\n",
       "    .dataframe tbody tr th:only-of-type {\n",
       "        vertical-align: middle;\n",
       "    }\n",
       "\n",
       "    .dataframe tbody tr th {\n",
       "        vertical-align: top;\n",
       "    }\n",
       "\n",
       "    .dataframe thead th {\n",
       "        text-align: right;\n",
       "    }\n",
       "</style>\n",
       "<table border=\"1\" class=\"dataframe\">\n",
       "  <thead>\n",
       "    <tr style=\"text-align: right;\">\n",
       "      <th></th>\n",
       "      <th>y_t</th>\n",
       "      <th>grad_t</th>\n",
       "    </tr>\n",
       "  </thead>\n",
       "  <tbody>\n",
       "    <tr>\n",
       "      <th>0</th>\n",
       "      <td>89.140000</td>\n",
       "      <td>0.000298</td>\n",
       "    </tr>\n",
       "    <tr>\n",
       "      <th>1</th>\n",
       "      <td>88.911429</td>\n",
       "      <td>0.000298</td>\n",
       "    </tr>\n",
       "    <tr>\n",
       "      <th>2</th>\n",
       "      <td>88.682857</td>\n",
       "      <td>0.000297</td>\n",
       "    </tr>\n",
       "    <tr>\n",
       "      <th>3</th>\n",
       "      <td>88.454286</td>\n",
       "      <td>0.000297</td>\n",
       "    </tr>\n",
       "    <tr>\n",
       "      <th>4</th>\n",
       "      <td>88.225714</td>\n",
       "      <td>0.000297</td>\n",
       "    </tr>\n",
       "    <tr>\n",
       "      <th>...</th>\n",
       "      <td>...</td>\n",
       "      <td>...</td>\n",
       "    </tr>\n",
       "    <tr>\n",
       "      <th>9995</th>\n",
       "      <td>NaN</td>\n",
       "      <td>0.000018</td>\n",
       "    </tr>\n",
       "    <tr>\n",
       "      <th>9996</th>\n",
       "      <td>NaN</td>\n",
       "      <td>0.000018</td>\n",
       "    </tr>\n",
       "    <tr>\n",
       "      <th>9997</th>\n",
       "      <td>NaN</td>\n",
       "      <td>0.000018</td>\n",
       "    </tr>\n",
       "    <tr>\n",
       "      <th>9998</th>\n",
       "      <td>NaN</td>\n",
       "      <td>0.000018</td>\n",
       "    </tr>\n",
       "    <tr>\n",
       "      <th>9999</th>\n",
       "      <td>NaN</td>\n",
       "      <td>0.000018</td>\n",
       "    </tr>\n",
       "  </tbody>\n",
       "</table>\n",
       "<p>10000 rows × 2 columns</p>\n",
       "</div>"
      ],
      "text/plain": [
       "            y_t    grad_t\n",
       "0     89.140000  0.000298\n",
       "1     88.911429  0.000298\n",
       "2     88.682857  0.000297\n",
       "3     88.454286  0.000297\n",
       "4     88.225714  0.000297\n",
       "...         ...       ...\n",
       "9995        NaN  0.000018\n",
       "9996        NaN  0.000018\n",
       "9997        NaN  0.000018\n",
       "9998        NaN  0.000018\n",
       "9999        NaN  0.000018\n",
       "\n",
       "[10000 rows x 2 columns]"
      ]
     },
     "execution_count": 9,
     "metadata": {},
     "output_type": "execute_result"
    }
   ],
   "source": [
    "df"
   ]
  },
  {
   "cell_type": "markdown",
   "metadata": {
    "id": "-5esyHu5aFvg"
   },
   "source": [
    "## Plot of the External Forcing from Chaotic Differential Equation"
   ]
  },
  {
   "cell_type": "code",
   "execution_count": 10,
   "metadata": {
    "colab": {
     "base_uri": "https://localhost:8080/",
     "height": 447
    },
    "id": "hGnE43tOh-4p",
    "outputId": "fc396503-b624-4fa5-dfbe-f460207405c6"
   },
   "outputs": [
    {
     "data": {
      "text/plain": [
       "<Axes: >"
      ]
     },
     "execution_count": 10,
     "metadata": {},
     "output_type": "execute_result"
    },
    {
     "data": {
      "image/png": "[encoded data removed]",
      "text/plain": [
       "<Figure size 432x288 with 1 Axes>"
      ]
     },
     "metadata": {
      "needs_background": "light"
     },
     "output_type": "display_data"
    }
   ],
   "source": [
    "df.iloc[:, 0].plot()"
   ]
  },
  {
   "cell_type": "code",
   "execution_count": 11,
   "metadata": {
    "colab": {
     "base_uri": "https://localhost:8080/",
     "height": 447
    },
    "id": "ym4xWUUxaFvg",
    "outputId": "ae6a3495-8ce9-437e-ba81-3ed31deedeae"
   },
   "outputs": [
    {
     "name": "stderr",
     "output_type": "stream",
     "text": [
      "C:\\Users\\Anurag Dutta\\AppData\\Local\\Packages\\PythonSoftwareFoundation.Python.3.9_qbz5n2kfra8p0\\LocalCache\\local-packages\\Python39\\site-packages\\pandas\\core\\arraylike.py:402: RuntimeWarning: divide by zero encountered in log\n",
      "  result = getattr(ufunc, method)(*inputs, **kwargs)\n"
     ]
    },
    {
     "data": {
      "text/plain": [
       "<Axes: >"
      ]
     },
     "execution_count": 11,
     "metadata": {},
     "output_type": "execute_result"
    },
    {
     "data": {
      "image/png": "[encoded data removed]",
      "text/plain": [
       "<Figure size 432x288 with 1 Axes>"
      ]
     },
     "metadata": {
      "needs_background": "light"
     },
     "output_type": "display_data"
    }
   ],
   "source": [
    "import numpy as np\n",
    "c0 = 86.8407  # Value for C0\n",
    "K0 = -0.0015  # Value for K0\n",
    "K1 = -0.0001  # Value for K1\n",
    "a = 0.0000    # Value for a\n",
    "b = 0.0118    # Value for b\n",
    "c = 2.5775    # Value for c\n",
    "\n",
    "L = np.minimum(c0, (df.iloc[:, 1] - (df.iloc[:, 0] * (K0 - K1 * (9 * a * np.log(df.iloc[:, 0] / c0) / (K0 - K1 * c)**2 + 4 * b * np.log(df.iloc[:, 0] / c0) / (K0 - K1 * c) + c)))))\n",
    "L.plot()"
   ]
  },
  {
   "cell_type": "markdown",
   "metadata": {
    "id": "9VyEywnwaFvh"
   },
   "source": [
    "## Preprocessing the data into supervised learning"
   ]
  },
  {
   "cell_type": "code",
   "execution_count": 12,
   "metadata": {
    "id": "6V9dXqzdaFvh"
   },
   "outputs": [],
   "source": [
    "# split a sequence into samples\n",
    "def Supervised(data, n_in=1, n_out=1, dropnan=True):\n",
    "    n_vars = 1 if type(data) is list else data.shape[1]\n",
    "    df = pd.DataFrame(data)\n",
    "    cols, names = list(), list()\n",
    "    # input sequence (t-n_in, ... t-1)\n",
    "    for i in range(n_in, 0, -1):\n",
    "        cols.append(df.shift(i))\n",
    "        names += [('var%d(t-%d)' % (j+1, i)) for j in range(n_vars)]\n",
    "    # forecast sequence (t, t+1, ... t+n_out)\n",
    "    for i in range(0, n_out):\n",
    "      cols.append(df.shift(-i))\n",
    "      if i == 0:\n",
    "        names += [('var%d(t)' % (j+1)) for j in range(n_vars)]\n",
    "      else:\n",
    "        names += [('var%d(t+%d)' % (j+1, i)) for j in range(n_vars)]\n",
    "    # put it all together\n",
    "    agg = pd.concat(cols, axis=1)\n",
    "    agg.columns = names\n",
    "    # drop rows with NaN values\n",
    "    if dropnan:\n",
    "       agg.dropna(inplace=True)\n",
    "    return agg"
   ]
  },
  {
   "cell_type": "code",
   "execution_count": 13,
   "metadata": {
    "colab": {
     "base_uri": "https://localhost:8080/"
    },
    "id": "CrzSrT1HnyfH",
    "outputId": "7e75f928-3e47-499d-eac1-51908015ef78"
   },
   "outputs": [
    {
     "name": "stdout",
     "output_type": "stream",
     "text": [
      "     var1(t-350)  var1(t-349)  var1(t-348)  var1(t-347)  var1(t-346)  \\\n",
      "350    89.140000    88.911429    88.682857    88.454286    88.225714   \n",
      "351    88.911429    88.682857    88.454286    88.225714    87.997143   \n",
      "352    88.682857    88.454286    88.225714    87.997143    87.768571   \n",
      "353    88.454286    88.225714    87.997143    87.768571    87.540000   \n",
      "354    88.225714    87.997143    87.768571    87.540000    87.311429   \n",
      "\n",
      "     var1(t-345)  var1(t-344)  var1(t-343)  var1(t-342)  var1(t-341)  ...  \\\n",
      "350    87.997143    87.768571    87.540000    87.311429    87.095798  ...   \n",
      "351    87.768571    87.540000    87.311429    87.095798    87.039776  ...   \n",
      "352    87.540000    87.311429    87.095798    87.039776    86.983754  ...   \n",
      "353    87.311429    87.095798    87.039776    86.983754    86.927731  ...   \n",
      "354    87.095798    87.039776    86.983754    86.927731    86.871709  ...   \n",
      "\n",
      "     var1(t+95)  var2(t+95)  var1(t+96)  var2(t+96)  var1(t+97)  var2(t+97)  \\\n",
      "350   79.161181    0.000263   79.132236    0.000263   79.103291    0.000263   \n",
      "351   79.132236    0.000263   79.103291    0.000263   79.074346    0.000262   \n",
      "352   79.103291    0.000263   79.074346    0.000262   79.045401    0.000262   \n",
      "353   79.074346    0.000262   79.045401    0.000262   79.016457    0.000262   \n",
      "354   79.045401    0.000262   79.016457    0.000262   78.987512    0.000262   \n",
      "\n",
      "     var1(t+98)  var2(t+98)  var1(t+99)  var2(t+99)  \n",
      "350   79.074346    0.000262   79.045401    0.000262  \n",
      "351   79.045401    0.000262   79.016457    0.000262  \n",
      "352   79.016457    0.000262   78.987512    0.000262  \n",
      "353   78.987512    0.000262   78.958567    0.000262  \n",
      "354   78.958567    0.000262   78.929622    0.000262  \n",
      "\n",
      "[5 rows x 551 columns]\n",
      "Index(['var1(t-350)', 'var1(t-349)', 'var1(t-348)', 'var1(t-347)',\n",
      "       'var1(t-346)', 'var1(t-345)', 'var1(t-344)', 'var1(t-343)',\n",
      "       'var1(t-342)', 'var1(t-341)',\n",
      "       ...\n",
      "       'var1(t+95)', 'var2(t+95)', 'var1(t+96)', 'var2(t+96)', 'var1(t+97)',\n",
      "       'var2(t+97)', 'var1(t+98)', 'var2(t+98)', 'var1(t+99)', 'var2(t+99)'],\n",
      "      dtype='object', length=551)\n"
     ]
    }
   ],
   "source": [
    "data = Supervised(df.values, n_in = 350, n_out = 100)\n",
    "\n",
    "\n",
    "cols_to_drop = []\n",
    "for i in range(2, 351):\n",
    "    cols_to_drop.extend([f'var2(t-{i})'])\n",
    "\n",
    "data.drop(cols_to_drop, axis=1, inplace=True)\n",
    "\n",
    "print(data.head())\n",
    "print(data.columns)"
   ]
  },
  {
   "cell_type": "code",
   "execution_count": 14,
   "metadata": {
    "id": "AfPf60oy6Pe4"
   },
   "outputs": [],
   "source": [
    "train = np.array(data[0:len(data)-1])\n",
    "forecast = np.array(data.tail(1))"
   ]
  },
  {
   "cell_type": "code",
   "execution_count": 15,
   "metadata": {
    "id": "WSAafzI37KiT"
   },
   "outputs": [],
   "source": [
    "trainy = train[:,-300:]\n",
    "trainX = train[:,:-300]"
   ]
  },
  {
   "cell_type": "code",
   "execution_count": 16,
   "metadata": {
    "id": "2SrOqVJA7f50"
   },
   "outputs": [],
   "source": [
    "forecasty = forecast[:,-300:]\n",
    "forecastX = forecast[:,:-300]"
   ]
  },
  {
   "cell_type": "code",
   "execution_count": 17,
   "metadata": {
    "colab": {
     "base_uri": "https://localhost:8080/"
    },
    "id": "Qno_k8Nw7saY",
    "outputId": "c4a88db5-d8c6-489f-cdb2-06b24e293cff"
   },
   "outputs": [
    {
     "name": "stdout",
     "output_type": "stream",
     "text": [
      "(1750, 1, 251) (1750, 300) (1, 1, 251)\n"
     ]
    }
   ],
   "source": [
    "trainX = trainX.reshape((trainX.shape[0], 1, trainX.shape[1]))\n",
    "forecastX = forecastX.reshape((forecastX.shape[0], 1, forecastX.shape[1]))\n",
    "print(trainX.shape, trainy.shape, forecastX.shape)"
   ]
  },
  {
   "cell_type": "code",
   "execution_count": 18,
   "metadata": {
    "colab": {
     "base_uri": "https://localhost:8080/"
    },
    "id": "b1Jp2DvNuNFx",
    "outputId": "d0e5b3c4-64f1-438c-eade-8dfeaac8e285"
   },
   "outputs": [
    {
     "name": "stdout",
     "output_type": "stream",
     "text": [
      "Epoch 1/500\n",
      "22/22 [==============================] - 2s 26ms/step - loss: 5081.5620 - val_loss: 3276.1453\n",
      "Epoch 2/500\n",
      "22/22 [==============================] - 0s 4ms/step - loss: 4901.1787 - val_loss: 3121.3779\n",
      "Epoch 3/500\n",
      "22/22 [==============================] - 0s 4ms/step - loss: 4806.1196 - val_loss: 3072.7192\n",
      "Epoch 4/500\n",
      "22/22 [==============================] - 0s 4ms/step - loss: 4736.7998 - val_loss: 3027.3110\n",
      "Epoch 5/500\n",
      "22/22 [==============================] - 0s 4ms/step - loss: 4669.0088 - val_loss: 2983.0276\n",
      "Epoch 6/500\n",
      "22/22 [==============================] - 0s 4ms/step - loss: 4602.4702 - val_loss: 2939.6248\n",
      "Epoch 7/500\n",
      "22/22 [==============================] - 0s 4ms/step - loss: 4536.9692 - val_loss: 2896.9924\n",
      "Epoch 8/500\n",
      "22/22 [==============================] - 0s 4ms/step - loss: 4472.3838 - val_loss: 2855.0674\n",
      "Epoch 9/500\n",
      "22/22 [==============================] - 0s 4ms/step - loss: 4408.6431 - val_loss: 2813.8123\n",
      "Epoch 10/500\n",
      "22/22 [==============================] - 0s 6ms/step - loss: 4345.6978 - val_loss: 2773.1992\n",
      "Epoch 11/500\n",
      "22/22 [==============================] - 0s 4ms/step - loss: 4283.5176 - val_loss: 2733.2092\n",
      "Epoch 12/500\n",
      "22/22 [==============================] - 0s 5ms/step - loss: 4222.0771 - val_loss: 2693.8269\n",
      "Epoch 13/500\n",
      "22/22 [==============================] - 0s 5ms/step - loss: 4161.3574 - val_loss: 2655.0388\n",
      "Epoch 14/500\n",
      "22/22 [==============================] - 0s 5ms/step - loss: 4101.3413 - val_loss: 2616.8345\n",
      "Epoch 15/500\n",
      "22/22 [==============================] - 0s 4ms/step - loss: 4042.0171 - val_loss: 2579.2043\n",
      "Epoch 16/500\n",
      "22/22 [==============================] - 0s 4ms/step - loss: 3983.3721 - val_loss: 2542.1396\n",
      "Epoch 17/500\n",
      "22/22 [==============================] - 0s 4ms/step - loss: 3925.3965 - val_loss: 2505.6333\n",
      "Epoch 18/500\n",
      "22/22 [==============================] - 0s 4ms/step - loss: 3868.0808 - val_loss: 2469.6775\n",
      "Epoch 19/500\n",
      "22/22 [==============================] - 0s 4ms/step - loss: 3811.4175 - val_loss: 2434.2656\n",
      "Epoch 20/500\n",
      "22/22 [==============================] - 0s 4ms/step - loss: 3755.3965 - val_loss: 2399.3918\n",
      "Epoch 21/500\n",
      "22/22 [==============================] - 0s 5ms/step - loss: 3700.0132 - val_loss: 2365.0496\n",
      "Epoch 22/500\n",
      "22/22 [==============================] - 0s 3ms/step - loss: 3645.2593 - val_loss: 2331.2332\n",
      "Epoch 23/500\n",
      "22/22 [==============================] - 0s 4ms/step - loss: 3591.1272 - val_loss: 2297.9370\n",
      "Epoch 24/500\n",
      "22/22 [==============================] - 0s 4ms/step - loss: 3537.6111 - val_loss: 2265.1558\n",
      "Epoch 25/500\n",
      "22/22 [==============================] - 0s 5ms/step - loss: 3484.7053 - val_loss: 2232.8840\n",
      "Epoch 26/500\n",
      "22/22 [==============================] - 0s 4ms/step - loss: 3432.4038 - val_loss: 2201.1167\n",
      "Epoch 27/500\n",
      "22/22 [==============================] - 0s 5ms/step - loss: 3380.7007 - val_loss: 2169.8496\n",
      "Epoch 28/500\n",
      "22/22 [==============================] - 0s 4ms/step - loss: 3329.5911 - val_loss: 2139.0767\n",
      "Epoch 29/500\n",
      "22/22 [==============================] - 0s 5ms/step - loss: 3279.0679 - val_loss: 2108.7935\n",
      "Epoch 30/500\n",
      "22/22 [==============================] - 0s 4ms/step - loss: 3229.1265 - val_loss: 2078.9951\n",
      "Epoch 31/500\n",
      "22/22 [==============================] - 0s 4ms/step - loss: 3179.7617 - val_loss: 2049.6780\n",
      "Epoch 32/500\n",
      "22/22 [==============================] - 0s 5ms/step - loss: 3130.9692 - val_loss: 2020.8365\n",
      "Epoch 33/500\n",
      "22/22 [==============================] - 0s 6ms/step - loss: 3082.7424 - val_loss: 1992.4663\n",
      "Epoch 34/500\n",
      "22/22 [==============================] - 0s 5ms/step - loss: 3035.0774 - val_loss: 1964.5634\n",
      "Epoch 35/500\n",
      "22/22 [==============================] - 0s 4ms/step - loss: 2987.9695 - val_loss: 1937.1230\n",
      "Epoch 36/500\n",
      "22/22 [==============================] - 0s 4ms/step - loss: 2941.4131 - val_loss: 1910.1409\n",
      "Epoch 37/500\n",
      "22/22 [==============================] - 0s 4ms/step - loss: 2895.4033 - val_loss: 1883.6129\n",
      "Epoch 38/500\n",
      "22/22 [==============================] - 0s 4ms/step - loss: 2849.9365 - val_loss: 1857.5344\n",
      "Epoch 39/500\n",
      "22/22 [==============================] - 0s 4ms/step - loss: 2805.0076 - val_loss: 1831.9020\n",
      "Epoch 40/500\n",
      "22/22 [==============================] - 0s 4ms/step - loss: 2760.6116 - val_loss: 1806.7111\n",
      "Epoch 41/500\n",
      "22/22 [==============================] - 0s 4ms/step - loss: 2716.7449 - val_loss: 1781.9575\n",
      "Epoch 42/500\n",
      "22/22 [==============================] - 0s 4ms/step - loss: 2673.4021 - val_loss: 1757.6368\n",
      "Epoch 43/500\n",
      "22/22 [==============================] - 0s 4ms/step - loss: 2630.5793 - val_loss: 1733.7458\n",
      "Epoch 44/500\n",
      "22/22 [==============================] - 0s 4ms/step - loss: 2588.2722 - val_loss: 1710.2797\n",
      "Epoch 45/500\n",
      "22/22 [==============================] - 0s 4ms/step - loss: 2546.4763 - val_loss: 1687.2350\n",
      "Epoch 46/500\n",
      "22/22 [==============================] - 0s 4ms/step - loss: 2505.1877 - val_loss: 1664.6073\n",
      "Epoch 47/500\n",
      "22/22 [==============================] - 0s 4ms/step - loss: 2464.4021 - val_loss: 1642.3925\n",
      "Epoch 48/500\n",
      "22/22 [==============================] - 0s 4ms/step - loss: 2424.1145 - val_loss: 1620.5869\n",
      "Epoch 49/500\n",
      "22/22 [==============================] - 0s 4ms/step - loss: 2384.3223 - val_loss: 1599.1863\n",
      "Epoch 50/500\n",
      "22/22 [==============================] - 0s 4ms/step - loss: 2345.0205 - val_loss: 1578.1851\n",
      "Epoch 51/500\n",
      "22/22 [==============================] - 0s 4ms/step - loss: 2306.2051 - val_loss: 1557.5764\n",
      "Epoch 52/500\n",
      "22/22 [==============================] - 0s 4ms/step - loss: 2267.8721 - val_loss: 1537.3429\n",
      "Epoch 53/500\n",
      "22/22 [==============================] - 0s 4ms/step - loss: 2230.0176 - val_loss: 1517.1069\n",
      "Epoch 54/500\n",
      "22/22 [==============================] - 0s 4ms/step - loss: 2185.5415 - val_loss: 1492.2010\n",
      "Epoch 55/500\n",
      "22/22 [==============================] - 0s 4ms/step - loss: 2140.8071 - val_loss: 1469.8199\n",
      "Epoch 56/500\n",
      "22/22 [==============================] - 0s 4ms/step - loss: 2098.5225 - val_loss: 1448.6555\n",
      "Epoch 57/500\n",
      "22/22 [==============================] - 0s 4ms/step - loss: 2057.9456 - val_loss: 1428.3934\n",
      "Epoch 58/500\n",
      "22/22 [==============================] - 0s 4ms/step - loss: 2018.6193 - val_loss: 1408.8602\n",
      "Epoch 59/500\n",
      "22/22 [==============================] - 0s 5ms/step - loss: 1980.2966 - val_loss: 1389.9583\n",
      "Epoch 60/500\n",
      "22/22 [==============================] - 0s 5ms/step - loss: 1942.8368 - val_loss: 1371.6281\n",
      "Epoch 61/500\n",
      "22/22 [==============================] - 0s 4ms/step - loss: 1906.1500 - val_loss: 1353.8281\n",
      "Epoch 62/500\n",
      "22/22 [==============================] - 0s 4ms/step - loss: 1870.1736 - val_loss: 1336.5280\n",
      "Epoch 63/500\n",
      "22/22 [==============================] - 0s 4ms/step - loss: 1834.8611 - val_loss: 1319.7042\n",
      "Epoch 64/500\n",
      "22/22 [==============================] - 0s 4ms/step - loss: 1800.1787 - val_loss: 1303.3383\n",
      "Epoch 65/500\n",
      "22/22 [==============================] - 0s 5ms/step - loss: 1766.0973 - val_loss: 1287.4148\n",
      "Epoch 66/500\n",
      "22/22 [==============================] - 0s 5ms/step - loss: 1732.5946 - val_loss: 1271.9200\n",
      "Epoch 67/500\n",
      "22/22 [==============================] - 0s 4ms/step - loss: 1699.6515 - val_loss: 1256.8429\n",
      "Epoch 68/500\n",
      "22/22 [==============================] - 0s 6ms/step - loss: 1667.2512 - val_loss: 1242.1732\n",
      "Epoch 69/500\n",
      "22/22 [==============================] - 0s 6ms/step - loss: 1635.3788 - val_loss: 1227.9015\n",
      "Epoch 70/500\n",
      "22/22 [==============================] - 0s 4ms/step - loss: 1604.0217 - val_loss: 1214.0194\n",
      "Epoch 71/500\n",
      "22/22 [==============================] - 0s 4ms/step - loss: 1573.1697 - val_loss: 1200.5194\n",
      "Epoch 72/500\n",
      "22/22 [==============================] - 0s 4ms/step - loss: 1542.8109 - val_loss: 1187.3944\n",
      "Epoch 73/500\n",
      "22/22 [==============================] - 0s 4ms/step - loss: 1512.9363 - val_loss: 1174.6377\n",
      "Epoch 74/500\n",
      "22/22 [==============================] - 0s 4ms/step - loss: 1483.5371 - val_loss: 1162.2424\n",
      "Epoch 75/500\n",
      "22/22 [==============================] - 0s 5ms/step - loss: 1454.6056 - val_loss: 1150.2031\n",
      "Epoch 76/500\n",
      "22/22 [==============================] - 0s 6ms/step - loss: 1426.1335 - val_loss: 1138.5142\n",
      "Epoch 77/500\n",
      "22/22 [==============================] - 0s 5ms/step - loss: 1398.1146 - val_loss: 1127.1694\n",
      "Epoch 78/500\n",
      "22/22 [==============================] - 0s 4ms/step - loss: 1370.5406 - val_loss: 1116.1643\n",
      "Epoch 79/500\n",
      "22/22 [==============================] - 0s 5ms/step - loss: 1343.4064 - val_loss: 1105.4932\n",
      "Epoch 80/500\n",
      "22/22 [==============================] - 0s 5ms/step - loss: 1316.7053 - val_loss: 1095.1515\n",
      "Epoch 81/500\n",
      "22/22 [==============================] - 0s 4ms/step - loss: 1290.4316 - val_loss: 1085.1338\n",
      "Epoch 82/500\n",
      "22/22 [==============================] - 0s 5ms/step - loss: 1264.5791 - val_loss: 1075.4358\n",
      "Epoch 83/500\n",
      "22/22 [==============================] - 0s 5ms/step - loss: 1239.1427 - val_loss: 1066.0530\n",
      "Epoch 84/500\n",
      "22/22 [==============================] - 0s 4ms/step - loss: 1214.1168 - val_loss: 1056.9811\n",
      "Epoch 85/500\n",
      "22/22 [==============================] - 0s 5ms/step - loss: 1189.4967 - val_loss: 1048.2150\n",
      "Epoch 86/500\n",
      "22/22 [==============================] - 0s 6ms/step - loss: 1165.2771 - val_loss: 1039.7507\n",
      "Epoch 87/500\n",
      "22/22 [==============================] - 0s 5ms/step - loss: 1141.4532 - val_loss: 1031.5842\n",
      "Epoch 88/500\n",
      "22/22 [==============================] - 0s 5ms/step - loss: 1118.0203 - val_loss: 1023.7112\n",
      "Epoch 89/500\n",
      "22/22 [==============================] - 0s 5ms/step - loss: 1094.9736 - val_loss: 1016.1273\n",
      "Epoch 90/500\n",
      "22/22 [==============================] - 0s 5ms/step - loss: 1072.3091 - val_loss: 1008.8290\n",
      "Epoch 91/500\n",
      "22/22 [==============================] - 0s 5ms/step - loss: 1050.0216 - val_loss: 1001.8118\n",
      "Epoch 92/500\n",
      "22/22 [==============================] - 0s 5ms/step - loss: 1028.1072 - val_loss: 995.0720\n",
      "Epoch 93/500\n",
      "22/22 [==============================] - 0s 4ms/step - loss: 1006.5613 - val_loss: 988.6053\n",
      "Epoch 94/500\n",
      "22/22 [==============================] - 0s 4ms/step - loss: 985.3800 - val_loss: 982.4082\n",
      "Epoch 95/500\n",
      "22/22 [==============================] - 0s 5ms/step - loss: 964.5592 - val_loss: 976.4771\n",
      "Epoch 96/500\n",
      "22/22 [==============================] - 0s 5ms/step - loss: 944.0943 - val_loss: 970.8074\n",
      "Epoch 97/500\n",
      "22/22 [==============================] - 0s 5ms/step - loss: 923.9820 - val_loss: 965.3960\n",
      "Epoch 98/500\n",
      "22/22 [==============================] - 0s 5ms/step - loss: 904.2177 - val_loss: 960.2388\n",
      "Epoch 99/500\n",
      "22/22 [==============================] - 0s 9ms/step - loss: 884.7977 - val_loss: 955.3323\n",
      "Epoch 100/500\n",
      "22/22 [==============================] - 0s 5ms/step - loss: 865.7181 - val_loss: 950.6726\n",
      "Epoch 101/500\n",
      "22/22 [==============================] - 0s 5ms/step - loss: 846.9753 - val_loss: 946.2560\n",
      "Epoch 102/500\n",
      "22/22 [==============================] - 0s 5ms/step - loss: 828.5652 - val_loss: 942.0792\n",
      "Epoch 103/500\n",
      "22/22 [==============================] - 0s 5ms/step - loss: 810.4842 - val_loss: 938.1385\n",
      "Epoch 104/500\n",
      "22/22 [==============================] - 0s 5ms/step - loss: 792.7288 - val_loss: 934.4296\n",
      "Epoch 105/500\n",
      "22/22 [==============================] - 0s 4ms/step - loss: 775.2946 - val_loss: 930.9500\n",
      "Epoch 106/500\n",
      "22/22 [==============================] - 0s 5ms/step - loss: 758.1788 - val_loss: 927.6953\n",
      "Epoch 107/500\n",
      "22/22 [==============================] - 0s 5ms/step - loss: 741.3772 - val_loss: 924.6623\n",
      "Epoch 108/500\n",
      "22/22 [==============================] - 0s 4ms/step - loss: 724.8863 - val_loss: 921.8474\n",
      "Epoch 109/500\n",
      "22/22 [==============================] - 0s 5ms/step - loss: 708.7026 - val_loss: 919.2471\n",
      "Epoch 110/500\n",
      "22/22 [==============================] - 0s 5ms/step - loss: 692.8226 - val_loss: 916.8577\n",
      "Epoch 111/500\n",
      "22/22 [==============================] - 0s 5ms/step - loss: 677.2430 - val_loss: 914.6759\n",
      "Epoch 112/500\n",
      "22/22 [==============================] - 0s 5ms/step - loss: 661.9600 - val_loss: 912.6981\n",
      "Epoch 113/500\n",
      "22/22 [==============================] - 0s 5ms/step - loss: 646.9703 - val_loss: 910.9208\n",
      "Epoch 114/500\n",
      "22/22 [==============================] - 0s 5ms/step - loss: 632.2700 - val_loss: 909.3408\n",
      "Epoch 115/500\n",
      "22/22 [==============================] - 0s 5ms/step - loss: 617.8562 - val_loss: 907.9543\n",
      "Epoch 116/500\n",
      "22/22 [==============================] - 0s 4ms/step - loss: 603.7253 - val_loss: 906.7581\n",
      "Epoch 117/500\n",
      "22/22 [==============================] - 0s 4ms/step - loss: 589.8743 - val_loss: 905.7486\n",
      "Epoch 118/500\n",
      "22/22 [==============================] - 0s 5ms/step - loss: 576.2991 - val_loss: 904.9225\n",
      "Epoch 119/500\n",
      "22/22 [==============================] - 0s 4ms/step - loss: 562.9970 - val_loss: 904.2762\n",
      "Epoch 120/500\n",
      "22/22 [==============================] - 0s 4ms/step - loss: 549.9643 - val_loss: 903.8065\n",
      "Epoch 121/500\n",
      "22/22 [==============================] - 0s 4ms/step - loss: 537.1976 - val_loss: 903.5099\n",
      "Epoch 122/500\n",
      "22/22 [==============================] - 0s 4ms/step - loss: 524.6935 - val_loss: 903.3831\n",
      "Epoch 123/500\n",
      "22/22 [==============================] - 0s 4ms/step - loss: 512.4492 - val_loss: 903.4225\n",
      "Epoch 124/500\n",
      "22/22 [==============================] - 0s 3ms/step - loss: 500.4611 - val_loss: 903.6248\n",
      "Epoch 125/500\n",
      "22/22 [==============================] - 0s 4ms/step - loss: 488.7263 - val_loss: 903.9868\n",
      "Epoch 126/500\n",
      "22/22 [==============================] - 0s 4ms/step - loss: 477.2413 - val_loss: 904.5050\n",
      "Epoch 127/500\n",
      "22/22 [==============================] - 0s 4ms/step - loss: 466.0024 - val_loss: 905.1760\n",
      "Epoch 128/500\n",
      "22/22 [==============================] - 0s 5ms/step - loss: 455.0070 - val_loss: 905.9965\n",
      "Epoch 129/500\n",
      "22/22 [==============================] - 0s 5ms/step - loss: 444.2518 - val_loss: 906.9633\n",
      "Epoch 130/500\n",
      "22/22 [==============================] - 0s 4ms/step - loss: 433.7331 - val_loss: 908.0729\n",
      "Epoch 131/500\n",
      "22/22 [==============================] - 0s 8ms/step - loss: 423.4483 - val_loss: 909.3219\n",
      "Epoch 132/500\n",
      "22/22 [==============================] - 0s 5ms/step - loss: 413.3940 - val_loss: 910.7072\n",
      "Epoch 133/500\n",
      "22/22 [==============================] - 0s 4ms/step - loss: 403.5670 - val_loss: 912.2253\n",
      "Epoch 134/500\n",
      "22/22 [==============================] - 0s 5ms/step - loss: 393.9639 - val_loss: 913.8731\n",
      "Epoch 135/500\n",
      "22/22 [==============================] - 0s 5ms/step - loss: 384.5820 - val_loss: 915.6472\n",
      "Epoch 136/500\n",
      "22/22 [==============================] - 0s 4ms/step - loss: 375.4182 - val_loss: 917.5441\n",
      "Epoch 137/500\n",
      "22/22 [==============================] - 0s 4ms/step - loss: 366.4691 - val_loss: 919.5609\n",
      "Epoch 138/500\n",
      "22/22 [==============================] - 0s 4ms/step - loss: 357.7317 - val_loss: 921.6939\n",
      "Epoch 139/500\n",
      "22/22 [==============================] - 0s 4ms/step - loss: 349.2026 - val_loss: 923.9406\n",
      "Epoch 140/500\n",
      "22/22 [==============================] - 0s 5ms/step - loss: 340.8790 - val_loss: 926.2968\n",
      "Epoch 141/500\n",
      "22/22 [==============================] - 0s 4ms/step - loss: 332.7580 - val_loss: 928.7599\n",
      "Epoch 142/500\n",
      "22/22 [==============================] - 0s 5ms/step - loss: 324.8362 - val_loss: 931.3264\n",
      "Epoch 143/500\n",
      "22/22 [==============================] - 0s 5ms/step - loss: 317.1107 - val_loss: 933.9931\n",
      "Epoch 144/500\n",
      "22/22 [==============================] - 0s 5ms/step - loss: 309.5784 - val_loss: 936.7571\n",
      "Epoch 145/500\n",
      "22/22 [==============================] - 0s 4ms/step - loss: 302.2362 - val_loss: 939.6147\n",
      "Epoch 146/500\n",
      "22/22 [==============================] - 0s 4ms/step - loss: 295.0810 - val_loss: 942.5631\n",
      "Epoch 147/500\n",
      "22/22 [==============================] - 0s 5ms/step - loss: 288.1102 - val_loss: 945.5989\n",
      "Epoch 148/500\n",
      "22/22 [==============================] - 0s 5ms/step - loss: 281.3206 - val_loss: 948.7191\n",
      "Epoch 149/500\n",
      "22/22 [==============================] - 0s 4ms/step - loss: 274.7088 - val_loss: 951.9205\n",
      "Epoch 150/500\n",
      "22/22 [==============================] - 0s 5ms/step - loss: 268.2722 - val_loss: 955.2000\n",
      "Epoch 151/500\n",
      "22/22 [==============================] - 0s 4ms/step - loss: 262.0079 - val_loss: 958.5544\n",
      "Epoch 152/500\n",
      "22/22 [==============================] - 0s 4ms/step - loss: 255.9128 - val_loss: 961.9808\n",
      "Epoch 153/500\n",
      "22/22 [==============================] - 0s 4ms/step - loss: 249.9839 - val_loss: 965.4757\n",
      "Epoch 154/500\n",
      "22/22 [==============================] - 0s 4ms/step - loss: 244.2187 - val_loss: 969.0364\n",
      "Epoch 155/500\n",
      "22/22 [==============================] - 0s 5ms/step - loss: 238.6136 - val_loss: 972.6600\n",
      "Epoch 156/500\n",
      "22/22 [==============================] - 0s 4ms/step - loss: 233.1661 - val_loss: 976.3428\n",
      "Epoch 157/500\n",
      "22/22 [==============================] - 0s 4ms/step - loss: 227.8736 - val_loss: 980.0825\n",
      "Epoch 158/500\n",
      "22/22 [==============================] - 0s 4ms/step - loss: 222.7328 - val_loss: 983.8757\n",
      "Epoch 159/500\n",
      "22/22 [==============================] - 0s 5ms/step - loss: 217.7408 - val_loss: 987.7193\n",
      "Epoch 160/500\n",
      "22/22 [==============================] - 0s 8ms/step - loss: 212.8951 - val_loss: 991.6108\n",
      "Epoch 161/500\n",
      "22/22 [==============================] - 0s 7ms/step - loss: 208.1927 - val_loss: 995.5471\n",
      "Epoch 162/500\n",
      "22/22 [==============================] - 0s 5ms/step - loss: 203.6307 - val_loss: 999.5253\n",
      "Epoch 163/500\n",
      "22/22 [==============================] - 0s 4ms/step - loss: 199.2064 - val_loss: 1003.5424\n",
      "Epoch 164/500\n",
      "22/22 [==============================] - 0s 4ms/step - loss: 194.9170 - val_loss: 1007.5956\n",
      "Epoch 165/500\n",
      "22/22 [==============================] - 0s 4ms/step - loss: 190.7598 - val_loss: 1011.6823\n",
      "Epoch 166/500\n",
      "22/22 [==============================] - 0s 5ms/step - loss: 186.7321 - val_loss: 1015.7991\n",
      "Epoch 167/500\n",
      "22/22 [==============================] - 0s 6ms/step - loss: 182.8310 - val_loss: 1019.9437\n",
      "Epoch 168/500\n",
      "22/22 [==============================] - 0s 5ms/step - loss: 179.0541 - val_loss: 1024.1135\n",
      "Epoch 169/500\n",
      "22/22 [==============================] - 0s 5ms/step - loss: 175.3983 - val_loss: 1028.3055\n",
      "Epoch 170/500\n",
      "22/22 [==============================] - 0s 5ms/step - loss: 171.8613 - val_loss: 1032.5171\n",
      "Epoch 171/500\n",
      "22/22 [==============================] - 0s 5ms/step - loss: 168.4404 - val_loss: 1036.7452\n",
      "Epoch 172/500\n",
      "22/22 [==============================] - 0s 5ms/step - loss: 165.1329 - val_loss: 1040.9879\n",
      "Epoch 173/500\n",
      "22/22 [==============================] - 0s 5ms/step - loss: 161.9363 - val_loss: 1045.2423\n",
      "Epoch 174/500\n",
      "22/22 [==============================] - 0s 5ms/step - loss: 158.8480 - val_loss: 1049.5056\n",
      "Epoch 175/500\n",
      "22/22 [==============================] - 0s 5ms/step - loss: 155.8655 - val_loss: 1053.7755\n",
      "Epoch 176/500\n",
      "22/22 [==============================] - 0s 5ms/step - loss: 152.9860 - val_loss: 1058.0497\n",
      "Epoch 177/500\n",
      "22/22 [==============================] - 0s 4ms/step - loss: 150.2071 - val_loss: 1062.3260\n",
      "Epoch 178/500\n",
      "22/22 [==============================] - 0s 5ms/step - loss: 147.5264 - val_loss: 1066.6012\n",
      "Epoch 179/500\n",
      "22/22 [==============================] - 0s 4ms/step - loss: 144.9416 - val_loss: 1070.8738\n",
      "Epoch 180/500\n",
      "22/22 [==============================] - 0s 4ms/step - loss: 142.4500 - val_loss: 1075.1405\n",
      "Epoch 181/500\n",
      "22/22 [==============================] - 0s 5ms/step - loss: 140.0493 - val_loss: 1079.3999\n",
      "Epoch 182/500\n",
      "22/22 [==============================] - 0s 5ms/step - loss: 137.7373 - val_loss: 1083.6493\n",
      "Epoch 183/500\n",
      "22/22 [==============================] - 0s 5ms/step - loss: 135.5115 - val_loss: 1087.8866\n",
      "Epoch 184/500\n",
      "22/22 [==============================] - 0s 5ms/step - loss: 133.3696 - val_loss: 1092.1099\n",
      "Epoch 185/500\n",
      "22/22 [==============================] - 0s 4ms/step - loss: 131.3092 - val_loss: 1096.3169\n",
      "Epoch 186/500\n",
      "22/22 [==============================] - 0s 6ms/step - loss: 129.3282 - val_loss: 1100.5054\n",
      "Epoch 187/500\n",
      "22/22 [==============================] - 0s 7ms/step - loss: 127.4243 - val_loss: 1104.6733\n",
      "Epoch 188/500\n",
      "22/22 [==============================] - 0s 5ms/step - loss: 125.5955 - val_loss: 1108.8191\n",
      "Epoch 189/500\n",
      "22/22 [==============================] - 0s 6ms/step - loss: 123.8393 - val_loss: 1112.9406\n",
      "Epoch 190/500\n",
      "22/22 [==============================] - 0s 7ms/step - loss: 122.1537 - val_loss: 1117.0359\n",
      "Epoch 191/500\n",
      "22/22 [==============================] - 0s 5ms/step - loss: 120.5368 - val_loss: 1121.1035\n",
      "Epoch 192/500\n",
      "22/22 [==============================] - 0s 5ms/step - loss: 118.9862 - val_loss: 1125.1415\n",
      "Epoch 193/500\n",
      "22/22 [==============================] - 0s 4ms/step - loss: 117.5001 - val_loss: 1129.1479\n",
      "Epoch 194/500\n",
      "22/22 [==============================] - 0s 4ms/step - loss: 116.0763 - val_loss: 1133.1218\n",
      "Epoch 195/500\n",
      "22/22 [==============================] - 0s 4ms/step - loss: 114.7129 - val_loss: 1137.0610\n",
      "Epoch 196/500\n",
      "22/22 [==============================] - 0s 5ms/step - loss: 113.4081 - val_loss: 1140.9640\n",
      "Epoch 197/500\n",
      "22/22 [==============================] - 0s 6ms/step - loss: 112.1599 - val_loss: 1144.8287\n",
      "Epoch 198/500\n",
      "22/22 [==============================] - 0s 6ms/step - loss: 110.9665 - val_loss: 1148.6554\n",
      "Epoch 199/500\n",
      "22/22 [==============================] - 0s 5ms/step - loss: 109.8258 - val_loss: 1152.4413\n",
      "Epoch 200/500\n",
      "22/22 [==============================] - 0s 5ms/step - loss: 108.7363 - val_loss: 1156.1857\n",
      "Epoch 201/500\n",
      "22/22 [==============================] - 0s 5ms/step - loss: 107.6961 - val_loss: 1159.8870\n",
      "Epoch 202/500\n",
      "22/22 [==============================] - 0s 4ms/step - loss: 106.7035 - val_loss: 1163.5443\n",
      "Epoch 203/500\n",
      "22/22 [==============================] - 0s 6ms/step - loss: 105.7567 - val_loss: 1167.1561\n",
      "Epoch 204/500\n",
      "22/22 [==============================] - 0s 6ms/step - loss: 104.8544 - val_loss: 1170.7219\n",
      "Epoch 205/500\n",
      "22/22 [==============================] - 0s 8ms/step - loss: 103.9945 - val_loss: 1174.2400\n",
      "Epoch 206/500\n",
      "22/22 [==============================] - 0s 6ms/step - loss: 103.1758 - val_loss: 1177.7096\n",
      "Epoch 207/500\n",
      "22/22 [==============================] - 0s 6ms/step - loss: 102.3966 - val_loss: 1181.1301\n",
      "Epoch 208/500\n",
      "22/22 [==============================] - 0s 6ms/step - loss: 101.6554 - val_loss: 1184.5009\n",
      "Epoch 209/500\n",
      "22/22 [==============================] - 0s 8ms/step - loss: 100.9507 - val_loss: 1187.8203\n",
      "Epoch 210/500\n",
      "22/22 [==============================] - 0s 8ms/step - loss: 100.2811 - val_loss: 1191.0885\n",
      "Epoch 211/500\n",
      "22/22 [==============================] - 0s 9ms/step - loss: 99.6452 - val_loss: 1194.3046\n",
      "Epoch 212/500\n",
      "22/22 [==============================] - 0s 9ms/step - loss: 99.0416 - val_loss: 1197.4675\n",
      "Epoch 213/500\n",
      "22/22 [==============================] - 0s 19ms/step - loss: 98.4691 - val_loss: 1200.5770\n",
      "Epoch 214/500\n",
      "22/22 [==============================] - 0s 11ms/step - loss: 97.9263 - val_loss: 1203.6327\n",
      "Epoch 215/500\n",
      "22/22 [==============================] - 0s 13ms/step - loss: 97.4119 - val_loss: 1206.6343\n",
      "Epoch 216/500\n",
      "22/22 [==============================] - 0s 11ms/step - loss: 96.9248 - val_loss: 1209.5811\n",
      "Epoch 217/500\n",
      "22/22 [==============================] - 0s 8ms/step - loss: 96.4637 - val_loss: 1212.4723\n",
      "Epoch 218/500\n",
      "22/22 [==============================] - 0s 8ms/step - loss: 96.0276 - val_loss: 1215.3092\n",
      "Epoch 219/500\n",
      "22/22 [==============================] - 0s 9ms/step - loss: 95.6153 - val_loss: 1218.0895\n",
      "Epoch 220/500\n",
      "22/22 [==============================] - 0s 9ms/step - loss: 95.2257 - val_loss: 1220.8145\n",
      "Epoch 221/500\n",
      "22/22 [==============================] - 0s 11ms/step - loss: 94.8579 - val_loss: 1223.4836\n",
      "Epoch 222/500\n",
      "22/22 [==============================] - 0s 9ms/step - loss: 94.5107 - val_loss: 1226.0972\n",
      "Epoch 223/500\n",
      "22/22 [==============================] - 0s 8ms/step - loss: 94.1833 - val_loss: 1228.6544\n",
      "Epoch 224/500\n",
      "22/22 [==============================] - 0s 9ms/step - loss: 93.8747 - val_loss: 1231.1565\n",
      "Epoch 225/500\n",
      "22/22 [==============================] - 0s 9ms/step - loss: 93.5839 - val_loss: 1233.6023\n",
      "Epoch 226/500\n",
      "22/22 [==============================] - 0s 7ms/step - loss: 93.3101 - val_loss: 1235.9928\n",
      "Epoch 227/500\n",
      "22/22 [==============================] - 0s 9ms/step - loss: 93.0525 - val_loss: 1238.3281\n",
      "Epoch 228/500\n",
      "22/22 [==============================] - 0s 9ms/step - loss: 92.8102 - val_loss: 1240.6077\n",
      "Epoch 229/500\n",
      "22/22 [==============================] - 0s 9ms/step - loss: 92.5825 - val_loss: 1242.8322\n",
      "Epoch 230/500\n",
      "22/22 [==============================] - 0s 8ms/step - loss: 92.3687 - val_loss: 1245.0027\n",
      "Epoch 231/500\n",
      "22/22 [==============================] - 0s 7ms/step - loss: 92.1679 - val_loss: 1247.1185\n",
      "Epoch 232/500\n",
      "22/22 [==============================] - 0s 13ms/step - loss: 91.9796 - val_loss: 1249.1802\n",
      "Epoch 233/500\n",
      "22/22 [==============================] - 0s 6ms/step - loss: 91.8031 - val_loss: 1251.1893\n",
      "Epoch 234/500\n",
      "22/22 [==============================] - 0s 8ms/step - loss: 91.6376 - val_loss: 1253.1454\n",
      "Epoch 235/500\n",
      "22/22 [==============================] - 0s 6ms/step - loss: 91.4826 - val_loss: 1255.0491\n",
      "Epoch 236/500\n",
      "22/22 [==============================] - 0s 5ms/step - loss: 91.3376 - val_loss: 1256.9004\n",
      "Epoch 237/500\n",
      "22/22 [==============================] - 0s 5ms/step - loss: 91.2019 - val_loss: 1258.7006\n",
      "Epoch 238/500\n",
      "22/22 [==============================] - 0s 5ms/step - loss: 91.0751 - val_loss: 1260.4503\n",
      "Epoch 239/500\n",
      "22/22 [==============================] - 0s 5ms/step - loss: 90.9566 - val_loss: 1262.1495\n",
      "Epoch 240/500\n",
      "22/22 [==============================] - 0s 5ms/step - loss: 90.8460 - val_loss: 1263.7997\n",
      "Epoch 241/500\n",
      "22/22 [==============================] - 0s 5ms/step - loss: 90.7427 - val_loss: 1265.4015\n",
      "Epoch 242/500\n",
      "22/22 [==============================] - 0s 5ms/step - loss: 90.6464 - val_loss: 1266.9543\n",
      "Epoch 243/500\n",
      "22/22 [==============================] - 0s 5ms/step - loss: 90.5566 - val_loss: 1268.4606\n",
      "Epoch 244/500\n",
      "22/22 [==============================] - 0s 4ms/step - loss: 90.4730 - val_loss: 1269.9198\n",
      "Epoch 245/500\n",
      "22/22 [==============================] - 0s 6ms/step - loss: 90.3952 - val_loss: 1271.3336\n",
      "Epoch 246/500\n",
      "22/22 [==============================] - 0s 6ms/step - loss: 90.3227 - val_loss: 1272.7021\n",
      "Epoch 247/500\n",
      "22/22 [==============================] - 0s 5ms/step - loss: 90.2553 - val_loss: 1274.0267\n",
      "Epoch 248/500\n",
      "22/22 [==============================] - 0s 5ms/step - loss: 90.1927 - val_loss: 1275.3074\n",
      "Epoch 249/500\n",
      "22/22 [==============================] - 0s 5ms/step - loss: 90.1345 - val_loss: 1276.5458\n",
      "Epoch 250/500\n",
      "22/22 [==============================] - 0s 4ms/step - loss: 90.0805 - val_loss: 1277.7426\n",
      "Epoch 251/500\n",
      "22/22 [==============================] - 0s 5ms/step - loss: 90.0303 - val_loss: 1278.8992\n",
      "Epoch 252/500\n",
      "22/22 [==============================] - 0s 5ms/step - loss: 89.9838 - val_loss: 1280.0153\n",
      "Epoch 253/500\n",
      "22/22 [==============================] - 0s 5ms/step - loss: 89.9407 - val_loss: 1281.0922\n",
      "Epoch 254/500\n",
      "22/22 [==============================] - 0s 5ms/step - loss: 89.9007 - val_loss: 1282.1312\n",
      "Epoch 255/500\n",
      "22/22 [==============================] - 0s 5ms/step - loss: 89.8637 - val_loss: 1283.1323\n",
      "Epoch 256/500\n",
      "22/22 [==============================] - 0s 5ms/step - loss: 89.8295 - val_loss: 1284.0977\n",
      "Epoch 257/500\n",
      "22/22 [==============================] - 0s 10ms/step - loss: 89.7977 - val_loss: 1285.0265\n",
      "Epoch 258/500\n",
      "22/22 [==============================] - 0s 6ms/step - loss: 89.7684 - val_loss: 1285.9215\n",
      "Epoch 259/500\n",
      "22/22 [==============================] - 0s 5ms/step - loss: 89.7413 - val_loss: 1286.7825\n",
      "Epoch 260/500\n",
      "22/22 [==============================] - 0s 4ms/step - loss: 89.7163 - val_loss: 1287.6107\n",
      "Epoch 261/500\n",
      "22/22 [==============================] - 0s 5ms/step - loss: 89.6931 - val_loss: 1288.4062\n",
      "Epoch 262/500\n",
      "22/22 [==============================] - 0s 5ms/step - loss: 89.6718 - val_loss: 1289.1713\n",
      "Epoch 263/500\n",
      "22/22 [==============================] - 0s 5ms/step - loss: 89.6521 - val_loss: 1289.9058\n",
      "Epoch 264/500\n",
      "22/22 [==============================] - 0s 4ms/step - loss: 89.6339 - val_loss: 1290.6111\n",
      "Epoch 265/500\n",
      "22/22 [==============================] - 0s 5ms/step - loss: 89.6171 - val_loss: 1291.2875\n",
      "Epoch 266/500\n",
      "22/22 [==============================] - 0s 6ms/step - loss: 89.6017 - val_loss: 1291.9362\n",
      "Epoch 267/500\n",
      "22/22 [==============================] - 0s 6ms/step - loss: 89.5875 - val_loss: 1292.5587\n",
      "Epoch 268/500\n",
      "22/22 [==============================] - 0s 5ms/step - loss: 89.5743 - val_loss: 1293.1544\n",
      "Epoch 269/500\n",
      "22/22 [==============================] - 0s 5ms/step - loss: 89.5623 - val_loss: 1293.7256\n",
      "Epoch 270/500\n",
      "22/22 [==============================] - 0s 5ms/step - loss: 89.5512 - val_loss: 1294.2720\n",
      "Epoch 271/500\n",
      "22/22 [==============================] - 0s 6ms/step - loss: 89.5410 - val_loss: 1294.7953\n",
      "Epoch 272/500\n",
      "22/22 [==============================] - 0s 6ms/step - loss: 89.5316 - val_loss: 1295.2959\n",
      "Epoch 273/500\n",
      "22/22 [==============================] - 0s 5ms/step - loss: 89.5229 - val_loss: 1295.7738\n",
      "Epoch 274/500\n",
      "22/22 [==============================] - 0s 7ms/step - loss: 89.5150 - val_loss: 1296.2299\n",
      "Epoch 275/500\n",
      "22/22 [==============================] - 0s 6ms/step - loss: 89.5077 - val_loss: 1296.6660\n",
      "Epoch 276/500\n",
      "22/22 [==============================] - 0s 6ms/step - loss: 89.5010 - val_loss: 1297.0823\n",
      "Epoch 277/500\n",
      "22/22 [==============================] - 0s 5ms/step - loss: 89.4949 - val_loss: 1297.4792\n",
      "Epoch 278/500\n",
      "22/22 [==============================] - 0s 5ms/step - loss: 89.4893 - val_loss: 1297.8582\n",
      "Epoch 279/500\n",
      "22/22 [==============================] - 0s 6ms/step - loss: 89.4841 - val_loss: 1298.2189\n",
      "Epoch 280/500\n",
      "22/22 [==============================] - 0s 9ms/step - loss: 89.4795 - val_loss: 1298.5634\n",
      "Epoch 281/500\n",
      "22/22 [==============================] - 0s 5ms/step - loss: 89.4751 - val_loss: 1298.8907\n",
      "Epoch 282/500\n",
      "22/22 [==============================] - 0s 5ms/step - loss: 89.4711 - val_loss: 1299.2028\n",
      "Epoch 283/500\n",
      "22/22 [==============================] - 0s 5ms/step - loss: 89.4675 - val_loss: 1299.4989\n",
      "Epoch 284/500\n",
      "22/22 [==============================] - 0s 5ms/step - loss: 89.4642 - val_loss: 1299.7811\n",
      "Epoch 285/500\n",
      "22/22 [==============================] - 0s 5ms/step - loss: 89.4612 - val_loss: 1300.0494\n",
      "Epoch 286/500\n",
      "22/22 [==============================] - 0s 5ms/step - loss: 89.4584 - val_loss: 1300.3047\n",
      "Epoch 287/500\n",
      "22/22 [==============================] - 0s 5ms/step - loss: 89.4559 - val_loss: 1300.5463\n",
      "Epoch 288/500\n",
      "22/22 [==============================] - 0s 5ms/step - loss: 89.4536 - val_loss: 1300.7759\n",
      "Epoch 289/500\n",
      "22/22 [==============================] - 0s 6ms/step - loss: 89.4516 - val_loss: 1300.9943\n",
      "Epoch 290/500\n",
      "22/22 [==============================] - 0s 5ms/step - loss: 89.4497 - val_loss: 1301.2009\n",
      "Epoch 291/500\n",
      "22/22 [==============================] - 0s 5ms/step - loss: 89.4480 - val_loss: 1301.3965\n",
      "Epoch 292/500\n",
      "22/22 [==============================] - 0s 4ms/step - loss: 89.4465 - val_loss: 1301.5824\n",
      "Epoch 293/500\n",
      "22/22 [==============================] - 0s 4ms/step - loss: 89.4450 - val_loss: 1301.7576\n",
      "Epoch 294/500\n",
      "22/22 [==============================] - 0s 4ms/step - loss: 89.4438 - val_loss: 1301.9240\n",
      "Epoch 295/500\n",
      "22/22 [==============================] - 0s 4ms/step - loss: 89.4427 - val_loss: 1302.0811\n",
      "Epoch 296/500\n",
      "22/22 [==============================] - 0s 4ms/step - loss: 89.4417 - val_loss: 1302.2300\n",
      "Epoch 297/500\n",
      "22/22 [==============================] - 0s 5ms/step - loss: 89.4408 - val_loss: 1302.3706\n",
      "Epoch 298/500\n",
      "22/22 [==============================] - 0s 4ms/step - loss: 89.4400 - val_loss: 1302.5042\n",
      "Epoch 299/500\n",
      "22/22 [==============================] - 0s 4ms/step - loss: 89.4393 - val_loss: 1302.6294\n",
      "Epoch 300/500\n",
      "22/22 [==============================] - 0s 4ms/step - loss: 89.4386 - val_loss: 1302.7478\n",
      "Epoch 301/500\n",
      "22/22 [==============================] - 0s 5ms/step - loss: 89.4381 - val_loss: 1302.8595\n",
      "Epoch 302/500\n",
      "22/22 [==============================] - 0s 5ms/step - loss: 89.4377 - val_loss: 1302.9656\n",
      "Epoch 303/500\n",
      "22/22 [==============================] - 0s 4ms/step - loss: 89.4373 - val_loss: 1303.0652\n",
      "Epoch 304/500\n",
      "22/22 [==============================] - 0s 9ms/step - loss: 89.4369 - val_loss: 1303.1586\n",
      "Epoch 305/500\n",
      "22/22 [==============================] - 0s 4ms/step - loss: 89.4366 - val_loss: 1303.2467\n",
      "Epoch 306/500\n",
      "22/22 [==============================] - 0s 4ms/step - loss: 89.4364 - val_loss: 1303.3296\n",
      "Epoch 307/500\n",
      "22/22 [==============================] - 0s 4ms/step - loss: 89.4362 - val_loss: 1303.4078\n",
      "Epoch 308/500\n",
      "22/22 [==============================] - 0s 4ms/step - loss: 89.4361 - val_loss: 1303.4812\n",
      "Epoch 309/500\n",
      "22/22 [==============================] - 0s 5ms/step - loss: 89.4360 - val_loss: 1303.5502\n",
      "Epoch 310/500\n",
      "22/22 [==============================] - 0s 5ms/step - loss: 89.4360 - val_loss: 1303.6150\n",
      "Epoch 311/500\n",
      "22/22 [==============================] - 0s 6ms/step - loss: 89.4360 - val_loss: 1303.6764\n",
      "Epoch 312/500\n",
      "22/22 [==============================] - 0s 6ms/step - loss: 89.4360 - val_loss: 1303.7334\n",
      "Epoch 313/500\n",
      "22/22 [==============================] - 0s 5ms/step - loss: 89.4360 - val_loss: 1303.7874\n",
      "Epoch 314/500\n",
      "22/22 [==============================] - 0s 5ms/step - loss: 89.4361 - val_loss: 1303.8378\n",
      "Epoch 315/500\n",
      "22/22 [==============================] - 0s 5ms/step - loss: 89.4362 - val_loss: 1303.8848\n",
      "Epoch 316/500\n",
      "22/22 [==============================] - 0s 5ms/step - loss: 89.4363 - val_loss: 1303.9291\n",
      "Epoch 317/500\n",
      "22/22 [==============================] - 0s 5ms/step - loss: 89.4365 - val_loss: 1303.9700\n",
      "Epoch 318/500\n",
      "22/22 [==============================] - 0s 5ms/step - loss: 89.4367 - val_loss: 1304.0089\n",
      "Epoch 319/500\n",
      "22/22 [==============================] - 0s 5ms/step - loss: 89.4368 - val_loss: 1304.0453\n",
      "Epoch 320/500\n",
      "22/22 [==============================] - 0s 5ms/step - loss: 89.4371 - val_loss: 1304.0793\n",
      "Epoch 321/500\n",
      "22/22 [==============================] - 0s 5ms/step - loss: 89.4373 - val_loss: 1304.1110\n",
      "Epoch 322/500\n",
      "22/22 [==============================] - 0s 5ms/step - loss: 89.4375 - val_loss: 1304.1412\n",
      "Epoch 323/500\n",
      "22/22 [==============================] - 0s 4ms/step - loss: 89.4377 - val_loss: 1304.1686\n",
      "Epoch 324/500\n",
      "22/22 [==============================] - 0s 5ms/step - loss: 89.4380 - val_loss: 1304.1943\n",
      "Epoch 325/500\n",
      "22/22 [==============================] - 0s 5ms/step - loss: 89.4383 - val_loss: 1304.2186\n",
      "Epoch 326/500\n",
      "22/22 [==============================] - 0s 5ms/step - loss: 89.4385 - val_loss: 1304.2408\n",
      "Epoch 327/500\n",
      "22/22 [==============================] - 0s 9ms/step - loss: 89.4388 - val_loss: 1304.2617\n",
      "Epoch 328/500\n",
      "22/22 [==============================] - 0s 5ms/step - loss: 89.4391 - val_loss: 1304.2811\n",
      "Epoch 329/500\n",
      "22/22 [==============================] - 0s 5ms/step - loss: 89.4394 - val_loss: 1304.2985\n",
      "Epoch 330/500\n",
      "22/22 [==============================] - 0s 5ms/step - loss: 89.4398 - val_loss: 1304.3152\n",
      "Epoch 331/500\n",
      "22/22 [==============================] - 0s 4ms/step - loss: 89.4401 - val_loss: 1304.3307\n",
      "Epoch 332/500\n",
      "22/22 [==============================] - 0s 5ms/step - loss: 89.4403 - val_loss: 1304.3451\n",
      "Epoch 333/500\n",
      "22/22 [==============================] - 0s 4ms/step - loss: 89.4407 - val_loss: 1304.3580\n",
      "Epoch 334/500\n",
      "22/22 [==============================] - 0s 4ms/step - loss: 89.4410 - val_loss: 1304.3700\n",
      "Epoch 335/500\n",
      "22/22 [==============================] - 0s 4ms/step - loss: 89.4414 - val_loss: 1304.3815\n",
      "Epoch 336/500\n",
      "22/22 [==============================] - 0s 4ms/step - loss: 89.4417 - val_loss: 1304.3922\n",
      "Epoch 337/500\n",
      "22/22 [==============================] - 0s 4ms/step - loss: 89.4420 - val_loss: 1304.4020\n",
      "Epoch 338/500\n",
      "22/22 [==============================] - 0s 4ms/step - loss: 89.4424 - val_loss: 1304.4113\n",
      "Epoch 339/500\n",
      "22/22 [==============================] - 0s 4ms/step - loss: 89.4426 - val_loss: 1304.4189\n",
      "Epoch 340/500\n",
      "22/22 [==============================] - 0s 4ms/step - loss: 89.4430 - val_loss: 1304.4269\n",
      "Epoch 341/500\n",
      "22/22 [==============================] - 0s 5ms/step - loss: 89.4433 - val_loss: 1304.4341\n",
      "Epoch 342/500\n",
      "22/22 [==============================] - 0s 4ms/step - loss: 89.4437 - val_loss: 1304.4407\n",
      "Epoch 343/500\n",
      "22/22 [==============================] - 0s 4ms/step - loss: 89.4440 - val_loss: 1304.4469\n",
      "Epoch 344/500\n",
      "22/22 [==============================] - 0s 4ms/step - loss: 89.4443 - val_loss: 1304.4523\n",
      "Epoch 345/500\n",
      "22/22 [==============================] - 0s 4ms/step - loss: 89.4447 - val_loss: 1304.4573\n",
      "Epoch 346/500\n",
      "22/22 [==============================] - 0s 5ms/step - loss: 89.4450 - val_loss: 1304.4619\n",
      "Epoch 347/500\n",
      "22/22 [==============================] - 0s 5ms/step - loss: 89.4454 - val_loss: 1304.4664\n",
      "Epoch 348/500\n",
      "22/22 [==============================] - 0s 5ms/step - loss: 89.4456 - val_loss: 1304.4698\n",
      "Epoch 349/500\n",
      "22/22 [==============================] - 0s 5ms/step - loss: 89.4460 - val_loss: 1304.4733\n",
      "Epoch 350/500\n",
      "22/22 [==============================] - 0s 9ms/step - loss: 89.4463 - val_loss: 1304.4766\n",
      "Epoch 351/500\n",
      "22/22 [==============================] - 0s 6ms/step - loss: 89.4466 - val_loss: 1304.4794\n",
      "Epoch 352/500\n",
      "22/22 [==============================] - 0s 5ms/step - loss: 89.4469 - val_loss: 1304.4816\n",
      "Epoch 353/500\n",
      "22/22 [==============================] - 0s 5ms/step - loss: 89.4473 - val_loss: 1304.4836\n",
      "Epoch 354/500\n",
      "22/22 [==============================] - 0s 6ms/step - loss: 89.4475 - val_loss: 1304.4857\n",
      "Epoch 355/500\n",
      "22/22 [==============================] - 0s 5ms/step - loss: 89.4479 - val_loss: 1304.4874\n",
      "Epoch 356/500\n",
      "22/22 [==============================] - 0s 6ms/step - loss: 89.4482 - val_loss: 1304.4888\n",
      "Epoch 357/500\n",
      "22/22 [==============================] - 0s 5ms/step - loss: 89.4485 - val_loss: 1304.4900\n",
      "Epoch 358/500\n",
      "22/22 [==============================] - 0s 6ms/step - loss: 89.4488 - val_loss: 1304.4908\n",
      "Epoch 359/500\n",
      "22/22 [==============================] - 0s 6ms/step - loss: 89.4491 - val_loss: 1304.4923\n",
      "Epoch 360/500\n",
      "22/22 [==============================] - 0s 8ms/step - loss: 89.4494 - val_loss: 1304.4935\n",
      "Epoch 361/500\n",
      "22/22 [==============================] - 0s 8ms/step - loss: 89.4497 - val_loss: 1304.4941\n",
      "Epoch 362/500\n",
      "22/22 [==============================] - 0s 7ms/step - loss: 89.4500 - val_loss: 1304.4948\n",
      "Epoch 363/500\n",
      "22/22 [==============================] - 0s 6ms/step - loss: 89.4502 - val_loss: 1304.4952\n",
      "Epoch 364/500\n",
      "22/22 [==============================] - 0s 7ms/step - loss: 89.4505 - val_loss: 1304.4955\n",
      "Epoch 365/500\n",
      "22/22 [==============================] - 0s 5ms/step - loss: 89.4508 - val_loss: 1304.4965\n",
      "Epoch 366/500\n",
      "22/22 [==============================] - 0s 6ms/step - loss: 89.4511 - val_loss: 1304.4967\n",
      "Epoch 367/500\n",
      "22/22 [==============================] - 0s 5ms/step - loss: 89.4513 - val_loss: 1304.4972\n",
      "Epoch 368/500\n",
      "22/22 [==============================] - 0s 8ms/step - loss: 89.4516 - val_loss: 1304.4969\n",
      "Epoch 369/500\n",
      "22/22 [==============================] - 0s 9ms/step - loss: 89.4519 - val_loss: 1304.4968\n",
      "Epoch 370/500\n",
      "22/22 [==============================] - 0s 14ms/step - loss: 89.4522 - val_loss: 1304.4976\n",
      "Epoch 371/500\n",
      "22/22 [==============================] - 0s 8ms/step - loss: 89.4524 - val_loss: 1304.4968\n",
      "Epoch 372/500\n",
      "22/22 [==============================] - 0s 6ms/step - loss: 89.4526 - val_loss: 1304.4966\n",
      "Epoch 373/500\n",
      "22/22 [==============================] - 0s 6ms/step - loss: 89.4529 - val_loss: 1304.4965\n",
      "Epoch 374/500\n",
      "22/22 [==============================] - 0s 6ms/step - loss: 89.4531 - val_loss: 1304.4962\n",
      "Epoch 375/500\n",
      "22/22 [==============================] - 0s 6ms/step - loss: 89.4533 - val_loss: 1304.4960\n",
      "Epoch 376/500\n",
      "22/22 [==============================] - 0s 5ms/step - loss: 89.4536 - val_loss: 1304.4955\n",
      "Epoch 377/500\n",
      "22/22 [==============================] - 0s 5ms/step - loss: 89.4538 - val_loss: 1304.4949\n",
      "Epoch 378/500\n",
      "22/22 [==============================] - 0s 6ms/step - loss: 89.4540 - val_loss: 1304.4945\n",
      "Epoch 379/500\n",
      "22/22 [==============================] - 0s 5ms/step - loss: 89.4543 - val_loss: 1304.4939\n",
      "Epoch 380/500\n",
      "22/22 [==============================] - 0s 5ms/step - loss: 89.4545 - val_loss: 1304.4939\n",
      "Epoch 381/500\n",
      "22/22 [==============================] - 0s 5ms/step - loss: 89.4547 - val_loss: 1304.4938\n",
      "Epoch 382/500\n",
      "22/22 [==============================] - 0s 5ms/step - loss: 89.4549 - val_loss: 1304.4932\n",
      "Epoch 383/500\n",
      "22/22 [==============================] - 0s 6ms/step - loss: 89.4551 - val_loss: 1304.4930\n",
      "Epoch 384/500\n",
      "22/22 [==============================] - 0s 5ms/step - loss: 89.4553 - val_loss: 1304.4927\n",
      "Epoch 385/500\n",
      "22/22 [==============================] - 0s 6ms/step - loss: 89.4555 - val_loss: 1304.4916\n",
      "Epoch 386/500\n",
      "22/22 [==============================] - 0s 6ms/step - loss: 89.4558 - val_loss: 1304.4912\n",
      "Epoch 387/500\n",
      "22/22 [==============================] - 0s 5ms/step - loss: 89.4560 - val_loss: 1304.4906\n",
      "Epoch 388/500\n",
      "22/22 [==============================] - 0s 5ms/step - loss: 89.4562 - val_loss: 1304.4906\n",
      "Epoch 389/500\n",
      "22/22 [==============================] - 0s 5ms/step - loss: 89.4563 - val_loss: 1304.4902\n",
      "Epoch 390/500\n",
      "22/22 [==============================] - 0s 5ms/step - loss: 89.4565 - val_loss: 1304.4900\n",
      "Epoch 391/500\n",
      "22/22 [==============================] - 0s 4ms/step - loss: 89.4567 - val_loss: 1304.4895\n",
      "Epoch 392/500\n",
      "22/22 [==============================] - 0s 10ms/step - loss: 89.4569 - val_loss: 1304.4897\n",
      "Epoch 393/500\n",
      "22/22 [==============================] - 0s 5ms/step - loss: 89.4570 - val_loss: 1304.4885\n",
      "Epoch 394/500\n",
      "22/22 [==============================] - 0s 6ms/step - loss: 89.4573 - val_loss: 1304.4882\n",
      "Epoch 395/500\n",
      "22/22 [==============================] - 0s 6ms/step - loss: 89.4575 - val_loss: 1304.4879\n",
      "Epoch 396/500\n",
      "22/22 [==============================] - 0s 5ms/step - loss: 89.4576 - val_loss: 1304.4872\n",
      "Epoch 397/500\n",
      "22/22 [==============================] - 0s 6ms/step - loss: 89.4577 - val_loss: 1304.4862\n",
      "Epoch 398/500\n",
      "22/22 [==============================] - 0s 6ms/step - loss: 89.4579 - val_loss: 1304.4858\n",
      "Epoch 399/500\n",
      "22/22 [==============================] - 0s 7ms/step - loss: 89.4580 - val_loss: 1304.4852\n",
      "Epoch 400/500\n",
      "22/22 [==============================] - 0s 5ms/step - loss: 89.4582 - val_loss: 1304.4845\n",
      "Epoch 401/500\n",
      "22/22 [==============================] - 0s 6ms/step - loss: 89.4584 - val_loss: 1304.4843\n",
      "Epoch 402/500\n",
      "22/22 [==============================] - 0s 6ms/step - loss: 89.4585 - val_loss: 1304.4839\n",
      "Epoch 403/500\n",
      "22/22 [==============================] - 0s 5ms/step - loss: 89.4587 - val_loss: 1304.4832\n",
      "Epoch 404/500\n",
      "22/22 [==============================] - 0s 5ms/step - loss: 89.4588 - val_loss: 1304.4825\n",
      "Epoch 405/500\n",
      "22/22 [==============================] - 0s 6ms/step - loss: 89.4590 - val_loss: 1304.4828\n",
      "Epoch 406/500\n",
      "22/22 [==============================] - 0s 5ms/step - loss: 89.4591 - val_loss: 1304.4825\n",
      "Epoch 407/500\n",
      "22/22 [==============================] - 0s 5ms/step - loss: 89.4592 - val_loss: 1304.4817\n",
      "Epoch 408/500\n",
      "22/22 [==============================] - 0s 5ms/step - loss: 89.4594 - val_loss: 1304.4813\n",
      "Epoch 409/500\n",
      "22/22 [==============================] - 0s 6ms/step - loss: 89.4595 - val_loss: 1304.4808\n",
      "Epoch 410/500\n",
      "22/22 [==============================] - 0s 4ms/step - loss: 89.4596 - val_loss: 1304.4805\n",
      "Epoch 411/500\n",
      "22/22 [==============================] - 0s 4ms/step - loss: 89.4597 - val_loss: 1304.4805\n",
      "Epoch 412/500\n",
      "22/22 [==============================] - 0s 4ms/step - loss: 89.4598 - val_loss: 1304.4797\n",
      "Epoch 413/500\n",
      "22/22 [==============================] - 0s 4ms/step - loss: 89.4599 - val_loss: 1304.4791\n",
      "Epoch 414/500\n",
      "22/22 [==============================] - 0s 9ms/step - loss: 89.4601 - val_loss: 1304.4779\n",
      "Epoch 415/500\n",
      "22/22 [==============================] - 0s 5ms/step - loss: 89.4602 - val_loss: 1304.4769\n",
      "Epoch 416/500\n",
      "22/22 [==============================] - 0s 5ms/step - loss: 89.4603 - val_loss: 1304.4769\n",
      "Epoch 417/500\n",
      "22/22 [==============================] - 0s 4ms/step - loss: 89.4605 - val_loss: 1304.4769\n",
      "Epoch 418/500\n",
      "22/22 [==============================] - 0s 5ms/step - loss: 89.4606 - val_loss: 1304.4766\n",
      "Epoch 419/500\n",
      "22/22 [==============================] - 0s 4ms/step - loss: 89.4607 - val_loss: 1304.4766\n",
      "Epoch 420/500\n",
      "22/22 [==============================] - 0s 4ms/step - loss: 89.4608 - val_loss: 1304.4762\n",
      "Epoch 421/500\n",
      "22/22 [==============================] - 0s 5ms/step - loss: 89.4609 - val_loss: 1304.4762\n",
      "Epoch 422/500\n",
      "22/22 [==============================] - 0s 4ms/step - loss: 89.4610 - val_loss: 1304.4761\n",
      "Epoch 423/500\n",
      "22/22 [==============================] - 0s 4ms/step - loss: 89.4611 - val_loss: 1304.4756\n",
      "Epoch 424/500\n",
      "22/22 [==============================] - 0s 4ms/step - loss: 89.4612 - val_loss: 1304.4752\n",
      "Epoch 425/500\n",
      "22/22 [==============================] - 0s 5ms/step - loss: 89.4613 - val_loss: 1304.4753\n",
      "Epoch 426/500\n",
      "22/22 [==============================] - 0s 4ms/step - loss: 89.4613 - val_loss: 1304.4749\n",
      "Epoch 427/500\n",
      "22/22 [==============================] - 0s 5ms/step - loss: 89.4614 - val_loss: 1304.4742\n",
      "Epoch 428/500\n",
      "22/22 [==============================] - 0s 4ms/step - loss: 89.4616 - val_loss: 1304.4741\n",
      "Epoch 429/500\n",
      "22/22 [==============================] - 0s 4ms/step - loss: 89.4616 - val_loss: 1304.4738\n",
      "Epoch 430/500\n",
      "22/22 [==============================] - 0s 5ms/step - loss: 89.4618 - val_loss: 1304.4736\n",
      "Epoch 431/500\n",
      "22/22 [==============================] - 0s 4ms/step - loss: 89.4618 - val_loss: 1304.4736\n",
      "Epoch 432/500\n",
      "22/22 [==============================] - 0s 4ms/step - loss: 89.4619 - val_loss: 1304.4734\n",
      "Epoch 433/500\n",
      "22/22 [==============================] - 0s 4ms/step - loss: 89.4619 - val_loss: 1304.4725\n",
      "Epoch 434/500\n",
      "22/22 [==============================] - 0s 4ms/step - loss: 89.4620 - val_loss: 1304.4725\n",
      "Epoch 435/500\n",
      "22/22 [==============================] - 0s 8ms/step - loss: 89.4621 - val_loss: 1304.4719\n",
      "Epoch 436/500\n",
      "22/22 [==============================] - 0s 4ms/step - loss: 89.4622 - val_loss: 1304.4716\n",
      "Epoch 437/500\n",
      "22/22 [==============================] - 0s 4ms/step - loss: 89.4623 - val_loss: 1304.4716\n",
      "Epoch 438/500\n",
      "22/22 [==============================] - 0s 4ms/step - loss: 89.4623 - val_loss: 1304.4709\n",
      "Epoch 439/500\n",
      "22/22 [==============================] - 0s 5ms/step - loss: 89.4624 - val_loss: 1304.4707\n",
      "Epoch 440/500\n",
      "22/22 [==============================] - 0s 5ms/step - loss: 89.4625 - val_loss: 1304.4709\n",
      "Epoch 441/500\n",
      "22/22 [==============================] - 0s 4ms/step - loss: 89.4625 - val_loss: 1304.4703\n",
      "Epoch 442/500\n",
      "22/22 [==============================] - 0s 4ms/step - loss: 89.4626 - val_loss: 1304.4698\n",
      "Epoch 443/500\n",
      "22/22 [==============================] - 0s 4ms/step - loss: 89.4627 - val_loss: 1304.4698\n",
      "Epoch 444/500\n",
      "22/22 [==============================] - 0s 4ms/step - loss: 89.4628 - val_loss: 1304.4695\n",
      "Epoch 445/500\n",
      "22/22 [==============================] - 0s 5ms/step - loss: 89.4629 - val_loss: 1304.4691\n",
      "Epoch 446/500\n",
      "22/22 [==============================] - 0s 5ms/step - loss: 89.4629 - val_loss: 1304.4686\n",
      "Epoch 447/500\n",
      "22/22 [==============================] - 0s 5ms/step - loss: 89.4630 - val_loss: 1304.4684\n",
      "Epoch 448/500\n",
      "22/22 [==============================] - 0s 4ms/step - loss: 89.4630 - val_loss: 1304.4681\n",
      "Epoch 449/500\n",
      "22/22 [==============================] - 0s 5ms/step - loss: 89.4631 - val_loss: 1304.4681\n",
      "Epoch 450/500\n",
      "22/22 [==============================] - 0s 4ms/step - loss: 89.4631 - val_loss: 1304.4678\n",
      "Epoch 451/500\n",
      "22/22 [==============================] - 0s 6ms/step - loss: 89.4632 - val_loss: 1304.4678\n",
      "Epoch 452/500\n",
      "22/22 [==============================] - 0s 5ms/step - loss: 89.4633 - val_loss: 1304.4675\n",
      "Epoch 453/500\n",
      "22/22 [==============================] - 0s 5ms/step - loss: 89.4633 - val_loss: 1304.4675\n",
      "Epoch 454/500\n",
      "22/22 [==============================] - 0s 5ms/step - loss: 89.4634 - val_loss: 1304.4674\n",
      "Epoch 455/500\n",
      "22/22 [==============================] - 0s 4ms/step - loss: 89.4634 - val_loss: 1304.4674\n",
      "Epoch 456/500\n",
      "22/22 [==============================] - 0s 10ms/step - loss: 89.4634 - val_loss: 1304.4670\n",
      "Epoch 457/500\n",
      "22/22 [==============================] - 0s 5ms/step - loss: 89.4635 - val_loss: 1304.4670\n",
      "Epoch 458/500\n",
      "22/22 [==============================] - 0s 5ms/step - loss: 89.4636 - val_loss: 1304.4670\n",
      "Epoch 459/500\n",
      "22/22 [==============================] - 0s 5ms/step - loss: 89.4636 - val_loss: 1304.4673\n",
      "Epoch 460/500\n",
      "22/22 [==============================] - 0s 5ms/step - loss: 89.4636 - val_loss: 1304.4668\n",
      "Epoch 461/500\n",
      "22/22 [==============================] - 0s 5ms/step - loss: 89.4636 - val_loss: 1304.4663\n",
      "Epoch 462/500\n",
      "22/22 [==============================] - 0s 4ms/step - loss: 89.4637 - val_loss: 1304.4662\n",
      "Epoch 463/500\n",
      "22/22 [==============================] - 0s 5ms/step - loss: 89.4637 - val_loss: 1304.4659\n",
      "Epoch 464/500\n",
      "22/22 [==============================] - 0s 5ms/step - loss: 89.4638 - val_loss: 1304.4658\n",
      "Epoch 465/500\n",
      "22/22 [==============================] - 0s 5ms/step - loss: 89.4638 - val_loss: 1304.4657\n",
      "Epoch 466/500\n",
      "22/22 [==============================] - 0s 5ms/step - loss: 89.4639 - val_loss: 1304.4656\n",
      "Epoch 467/500\n",
      "22/22 [==============================] - 0s 5ms/step - loss: 89.4639 - val_loss: 1304.4650\n",
      "Epoch 468/500\n",
      "22/22 [==============================] - 0s 5ms/step - loss: 89.4640 - val_loss: 1304.4650\n",
      "Epoch 469/500\n",
      "22/22 [==============================] - 0s 5ms/step - loss: 89.4640 - val_loss: 1304.4650\n",
      "Epoch 470/500\n",
      "22/22 [==============================] - 0s 5ms/step - loss: 89.4641 - val_loss: 1304.4656\n",
      "Epoch 471/500\n",
      "22/22 [==============================] - 0s 6ms/step - loss: 89.4641 - val_loss: 1304.4655\n",
      "Epoch 472/500\n",
      "22/22 [==============================] - 0s 5ms/step - loss: 89.4641 - val_loss: 1304.4650\n",
      "Epoch 473/500\n",
      "22/22 [==============================] - 0s 6ms/step - loss: 89.4641 - val_loss: 1304.4646\n",
      "Epoch 474/500\n",
      "22/22 [==============================] - 0s 5ms/step - loss: 89.4641 - val_loss: 1304.4639\n",
      "Epoch 475/500\n",
      "22/22 [==============================] - 0s 10ms/step - loss: 89.4642 - val_loss: 1304.4642\n",
      "Epoch 476/500\n",
      "22/22 [==============================] - 0s 8ms/step - loss: 89.4643 - val_loss: 1304.4646\n",
      "Epoch 477/500\n",
      "22/22 [==============================] - 0s 7ms/step - loss: 89.4643 - val_loss: 1304.4646\n",
      "Epoch 478/500\n",
      "22/22 [==============================] - 0s 7ms/step - loss: 89.4643 - val_loss: 1304.4646\n",
      "Epoch 479/500\n",
      "22/22 [==============================] - 0s 9ms/step - loss: 89.4643 - val_loss: 1304.4636\n",
      "Epoch 480/500\n",
      "22/22 [==============================] - 0s 13ms/step - loss: 89.4644 - val_loss: 1304.4636\n",
      "Epoch 481/500\n",
      "22/22 [==============================] - 0s 9ms/step - loss: 89.4644 - val_loss: 1304.4633\n",
      "Epoch 482/500\n",
      "22/22 [==============================] - 0s 8ms/step - loss: 89.4644 - val_loss: 1304.4633\n",
      "Epoch 483/500\n",
      "22/22 [==============================] - 0s 8ms/step - loss: 89.4645 - val_loss: 1304.4633\n",
      "Epoch 484/500\n",
      "22/22 [==============================] - 0s 7ms/step - loss: 89.4644 - val_loss: 1304.4633\n",
      "Epoch 485/500\n",
      "22/22 [==============================] - 0s 7ms/step - loss: 89.4645 - val_loss: 1304.4630\n",
      "Epoch 486/500\n",
      "22/22 [==============================] - 0s 6ms/step - loss: 89.4646 - val_loss: 1304.4630\n",
      "Epoch 487/500\n",
      "22/22 [==============================] - 0s 6ms/step - loss: 89.4646 - val_loss: 1304.4634\n",
      "Epoch 488/500\n",
      "22/22 [==============================] - 0s 5ms/step - loss: 89.4646 - val_loss: 1304.4634\n",
      "Epoch 489/500\n",
      "22/22 [==============================] - 0s 5ms/step - loss: 89.4646 - val_loss: 1304.4633\n",
      "Epoch 490/500\n",
      "22/22 [==============================] - 0s 4ms/step - loss: 89.4646 - val_loss: 1304.4631\n",
      "Epoch 491/500\n",
      "22/22 [==============================] - 0s 10ms/step - loss: 89.4647 - val_loss: 1304.4629\n",
      "Epoch 492/500\n",
      "22/22 [==============================] - 0s 5ms/step - loss: 89.4647 - val_loss: 1304.4626\n",
      "Epoch 493/500\n",
      "22/22 [==============================] - 0s 4ms/step - loss: 89.4647 - val_loss: 1304.4623\n",
      "Epoch 494/500\n",
      "22/22 [==============================] - 0s 5ms/step - loss: 89.4647 - val_loss: 1304.4620\n",
      "Epoch 495/500\n",
      "22/22 [==============================] - 0s 5ms/step - loss: 89.4647 - val_loss: 1304.4619\n",
      "Epoch 496/500\n",
      "22/22 [==============================] - 0s 5ms/step - loss: 89.4648 - val_loss: 1304.4615\n",
      "Epoch 497/500\n",
      "22/22 [==============================] - 0s 5ms/step - loss: 89.4648 - val_loss: 1304.4613\n",
      "Epoch 498/500\n",
      "22/22 [==============================] - 0s 4ms/step - loss: 89.4648 - val_loss: 1304.4619\n",
      "Epoch 499/500\n",
      "22/22 [==============================] - 0s 5ms/step - loss: 89.4648 - val_loss: 1304.4612\n",
      "Epoch 500/500\n",
      "22/22 [==============================] - 0s 5ms/step - loss: 89.4648 - val_loss: 1304.4607\n"
     ]
    }
   ],
   "source": [
    "C0 = tf.Variable(86.8407, name=\"C0\", trainable=True, dtype=tf.float32)\n",
    "K0 = tf.Variable(-0.0015, name=\"K0\", trainable=True, dtype=tf.float32)\n",
    "K1 = tf.Variable(-0.0001, name=\"K1\", trainable=True, dtype=tf.float32)\n",
    "a = tf.Variable(0.0000, name=\"a\", trainable=True, dtype=tf.float32)\n",
    "b = tf.Variable(0.0118, name=\"b\", trainable=True, dtype=tf.float32)\n",
    "c = tf.Variable(2.5775, name=\"c\", trainable=True, dtype=tf.float32)\n",
    "\n",
    "splitr = 0.8\n",
    "\n",
    "\n",
    "def loss_fn(y_true, y_pred):\n",
    "    squared_difference = tf.square(y_true[:, 0] - y_pred[:, 0])\n",
    "    #squared_difference2 = tf.square(y_true[:, 2]-y_pred[:, 2])\n",
    "    #squared_difference1 = tf.square(y_true[:, 1]-y_pred[:, 1])\n",
    "    epsilon = 1\n",
    "    squared_difference3 = tf.square(\n",
    "        y_pred[:, 1] - (\n",
    "            y_pred[:, 0] * (\n",
    "                K0 - K1 * (\n",
    "                    9 * a * tf.math.log((y_pred[:, 0] + epsilon) / C0) / (K0 - K1 * c)**2 +\n",
    "                    4 * b * tf.math.log((y_pred[:, 0] + epsilon) / C0) / (K0 - K1 * c) + c\n",
    "                )\n",
    "            )\n",
    "        )\n",
    "    )\n",
    "    return tf.reduce_mean(squared_difference, axis=-1) + 0.2*tf.reduce_mean(squared_difference3, axis=-1)\n",
    "model = Sequential()\n",
    "model.add(LSTM(100, input_shape=(trainX.shape[1], trainX.shape[2])))\n",
    "model.add(Dense(60))\n",
    "model.compile(loss=loss_fn, optimizer='adam')\n",
    "history = model.fit(trainX[:int(splitr*trainX.shape[0])], trainy[:int(splitr*trainX.shape[0])], epochs=500, batch_size=64, validation_data=(trainX[int(splitr*trainX.shape[0]):trainX.shape[0]], trainy[int(splitr*trainX.shape[0]):trainX.shape[0]]), shuffle=False)"
   ]
  },
  {
   "cell_type": "code",
   "execution_count": 19,
   "metadata": {
    "colab": {
     "base_uri": "https://localhost:8080/"
    },
    "id": "yJL101rPyuoT",
    "outputId": "239ff2b1-c186-423a-d316-939dfdd7c793"
   },
   "outputs": [
    {
     "name": "stdout",
     "output_type": "stream",
     "text": [
      "1/1 [==============================] - 0s 372ms/step\n"
     ]
    }
   ],
   "source": [
    "forecast_without_mc = forecastX\n",
    "yhat_without_mc = model.predict(forecast_without_mc) # Step Ahead Prediction\n",
    "forecast_without_mc = forecast_without_mc.reshape((forecast_without_mc.shape[0], forecast_without_mc.shape[2])) # Historical Input"
   ]
  },
  {
   "cell_type": "code",
   "execution_count": 20,
   "metadata": {
    "colab": {
     "base_uri": "https://localhost:8080/"
    },
    "id": "g9dQELcJ8wbp",
    "outputId": "4dc7671b-b1a8-48d5-8744-a86f98446109"
   },
   "outputs": [
    {
     "data": {
      "text/plain": [
       "(1, 1, 251)"
      ]
     },
     "execution_count": 20,
     "metadata": {},
     "output_type": "execute_result"
    }
   ],
   "source": [
    "forecastX.shape"
   ]
  },
  {
   "cell_type": "code",
   "execution_count": 21,
   "metadata": {
    "colab": {
     "base_uri": "https://localhost:8080/"
    },
    "id": "IS2kyIKG1Kbr",
    "outputId": "f31b3485-8e26-452f-9298-ea8bf7e80ad1"
   },
   "outputs": [
    {
     "data": {
      "text/plain": [
       "(1, 251)"
      ]
     },
     "execution_count": 21,
     "metadata": {},
     "output_type": "execute_result"
    }
   ],
   "source": [
    "forecast_without_mc.shape"
   ]
  },
  {
   "cell_type": "code",
   "execution_count": 22,
   "metadata": {
    "id": "0u6VIzaDyuoT"
   },
   "outputs": [],
   "source": [
    "inv_yhat_without_mc = np.concatenate((forecast_without_mc, yhat_without_mc), axis=1) # Concatenation of predicted values with Historical Data\n",
    "#inv_yhat_without_mc = scaler.inverse_transform(inv_yhat_without_mc) # Transform labels back to original encoding"
   ]
  },
  {
   "cell_type": "code",
   "execution_count": 23,
   "metadata": {
    "colab": {
     "base_uri": "https://localhost:8080/"
    },
    "id": "EUEcw0LX07oU",
    "outputId": "cfc32397-9c37-4b43-d087-584bb31c3dcc"
   },
   "outputs": [
    {
     "data": {
      "text/plain": [
       "(1, 311)"
      ]
     },
     "execution_count": 23,
     "metadata": {},
     "output_type": "execute_result"
    }
   ],
   "source": [
    "inv_yhat_without_mc.shape"
   ]
  },
  {
   "cell_type": "code",
   "execution_count": 24,
   "metadata": {
    "id": "31OWVbSh_305"
   },
   "outputs": [],
   "source": [
    "fforecast = inv_yhat_without_mc[:,-300:]"
   ]
  },
  {
   "cell_type": "code",
   "execution_count": 25,
   "metadata": {},
   "outputs": [
    {
     "data": {
      "text/plain": [
       "(1, 300)"
      ]
     },
     "execution_count": 25,
     "metadata": {},
     "output_type": "execute_result"
    }
   ],
   "source": [
    "fforecast.shape"
   ]
  },
  {
   "cell_type": "code",
   "execution_count": 26,
   "metadata": {
    "id": "BlpGH2FOAiRF"
   },
   "outputs": [],
   "source": [
    "final_forecast = fforecast[:,0:300:3]"
   ]
  },
  {
   "cell_type": "code",
   "execution_count": 27,
   "metadata": {},
   "outputs": [
    {
     "data": {
      "text/plain": [
       "(1, 300)"
      ]
     },
     "execution_count": 27,
     "metadata": {},
     "output_type": "execute_result"
    }
   ],
   "source": [
    "fforecast.shape"
   ]
  },
  {
   "cell_type": "code",
   "execution_count": 28,
   "metadata": {
    "id": "CXkgkj_LBk_t"
   },
   "outputs": [],
   "source": [
    "# code to replace all negative value with 0\n",
    "final_forecast[final_forecast<0] = 0"
   ]
  },
  {
   "cell_type": "code",
   "execution_count": 29,
   "metadata": {},
   "outputs": [
    {
     "data": {
      "text/plain": [
       "array([[6.73509104e+01, 6.72248599e+01, 6.70988095e+01, 6.69727591e+01,\n",
       "        6.68467087e+01, 6.67206583e+01, 6.66437909e+01, 0.00000000e+00,\n",
       "        1.32437230e-01, 1.37314040e-01, 0.00000000e+00, 2.63236790e-01,\n",
       "        2.09523500e-01, 6.84298086e+01, 6.83373716e+01, 6.82449346e+01,\n",
       "        6.81352241e+01, 6.80091737e+01, 6.79131232e+01, 6.77570728e+01,\n",
       "        6.76310224e+01, 6.75054972e+01, 6.73789216e+01, 6.72528712e+01,\n",
       "        6.71268207e+01, 6.70007703e+01, 6.68747199e+01, 6.67486695e+01,\n",
       "        6.66587302e+01, 6.98739963e+01, 6.98235761e+01, 6.97731559e+01,\n",
       "        6.97227358e+01, 6.96446312e+01, 6.95443791e+01, 6.94432951e+01,\n",
       "        6.93442110e+01, 6.91384921e+01, 5.29040690e-02, 0.00000000e+00,\n",
       "        0.00000000e+00, 5.08990288e-01, 4.36887413e-01, 0.00000000e+00,\n",
       "        1.99805155e-01, 0.00000000e+00, 1.39340760e-02, 6.70287815e+01,\n",
       "        6.69027311e+01, 6.67766807e+01, 6.66736695e+01, 6.98852007e+01,\n",
       "        6.98347806e+01, 6.97836040e+01, 6.97339402e+01, 6.96670402e+01,\n",
       "        6.95661998e+01, 6.94653595e+01, 6.93664519e+01, 6.92001167e+01,\n",
       "        7.40804970e-01, 0.00000000e+00, 6.97040616e+01, 6.96072829e+01,\n",
       "        6.95064426e+01, 6.94056022e+01, 6.93067619e+01, 6.90357843e+01,\n",
       "        6.87584734e+01, 6.84811625e+01, 6.82038515e+01, 0.00000000e+00,\n",
       "        6.37347620e-02, 5.86339149e+01, 9.36521947e-01, 0.00000000e+00,\n",
       "        6.61817640e-02, 0.00000000e+00, 5.43199718e-01, 4.57491755e-01,\n",
       "        6.72341232e+01, 0.00000000e+00, 6.92671001e-01, 0.00000000e+00,\n",
       "        8.96960720e-02, 0.00000000e+00, 6.56537831e-01, 0.00000000e+00,\n",
       "        1.34843394e-01, 0.00000000e+00, 1.07352018e+00, 1.11613326e-01,\n",
       "        0.00000000e+00, 3.57472718e-01, 1.43053502e-01, 0.00000000e+00,\n",
       "        0.00000000e+00, 0.00000000e+00, 0.00000000e+00, 0.00000000e+00]])"
      ]
     },
     "execution_count": 29,
     "metadata": {},
     "output_type": "execute_result"
    }
   ],
   "source": [
    "final_forecast"
   ]
  },
  {
   "cell_type": "code",
   "execution_count": 30,
   "metadata": {},
   "outputs": [
    {
     "data": {
      "text/plain": [
       "(1, 100)"
      ]
     },
     "execution_count": 30,
     "metadata": {},
     "output_type": "execute_result"
    }
   ],
   "source": [
    "final_forecast.shape"
   ]
  },
  {
   "cell_type": "code",
   "execution_count": 31,
   "metadata": {},
   "outputs": [
    {
     "data": {
      "text/plain": [
       "(100,)"
      ]
     },
     "execution_count": 31,
     "metadata": {},
     "output_type": "execute_result"
    }
   ],
   "source": [
    "test.shape"
   ]
  },
  {
   "cell_type": "code",
   "execution_count": 32,
   "metadata": {},
   "outputs": [],
   "source": [
    "training_set = np.array(training_set)\n",
    "test = np.array(test)\n",
    "final_forecast = np.array(final_forecast.squeeze(0))"
   ]
  },
  {
   "cell_type": "code",
   "execution_count": 33,
   "metadata": {},
   "outputs": [
    {
     "data": {
      "text/plain": [
       "array([61.96961126, 61.96168614, 61.95376102, 61.9458359 , 61.93791077,\n",
       "       61.92998565, 61.92206053, 61.91413541, 61.90621029, 61.89828517,\n",
       "       61.89036005, 61.88243493, 61.8745098 , 61.86658468, 61.85865956,\n",
       "       61.85073444, 61.84280932, 61.8348842 , 61.82695908, 61.81903396,\n",
       "       61.81110883, 61.80318371, 61.79525859, 61.78733347, 61.77940835,\n",
       "       61.77148323, 61.76355811, 61.75563298, 61.74770786, 61.73978274,\n",
       "       61.73185762, 61.7239325 , 61.71600738, 61.70808226, 61.70015714,\n",
       "       61.69223201, 61.68430689, 61.67638177, 61.66845665, 61.66053153,\n",
       "       61.65260641, 61.64468129, 61.63675617, 61.62883104, 61.62090592,\n",
       "       61.6129808 , 61.60505568, 61.59713056, 61.58920544, 61.58128032,\n",
       "       61.5733552 , 61.56543007, 61.55750495, 61.54957983, 61.54165471,\n",
       "       61.53372959, 61.52580447, 61.51787935, 61.50995423, 61.5020291 ,\n",
       "       61.49410398, 61.48617886, 61.47825374, 61.47032862, 61.4624035 ,\n",
       "       61.45447838, 61.44655326, 61.43862813, 61.43070301, 61.42277789,\n",
       "       61.41485277, 61.40692765, 61.39900253, 61.39107741, 61.38315229,\n",
       "       61.37522716, 61.36730204, 61.35937692, 61.3514518 , 61.34352668,\n",
       "       61.33560156, 61.32767644, 61.31975132, 61.31182619, 61.30390107,\n",
       "       61.29597595, 61.28805083, 61.28012571, 61.27220059, 61.26427547,\n",
       "       61.25635035, 61.24842522, 61.2405001 , 61.23257498, 61.22464986,\n",
       "       61.21672474, 61.20879962, 61.2008745 , 61.19294937, 61.18502425])"
      ]
     },
     "execution_count": 33,
     "metadata": {},
     "output_type": "execute_result"
    }
   ],
   "source": [
    "test"
   ]
  },
  {
   "cell_type": "code",
   "execution_count": 34,
   "metadata": {},
   "outputs": [
    {
     "data": {
      "text/plain": [
       "(100,)"
      ]
     },
     "execution_count": 34,
     "metadata": {},
     "output_type": "execute_result"
    }
   ],
   "source": [
    "test.shape"
   ]
  },
  {
   "cell_type": "code",
   "execution_count": 35,
   "metadata": {},
   "outputs": [
    {
     "data": {
      "text/plain": [
       "(100,)"
      ]
     },
     "execution_count": 35,
     "metadata": {},
     "output_type": "execute_result"
    }
   ],
   "source": [
    "final_forecast.shape"
   ]
  },
  {
   "cell_type": "code",
   "execution_count": 36,
   "metadata": {},
   "outputs": [
    {
     "data": {
      "text/plain": [
       "(100,)"
      ]
     },
     "execution_count": 36,
     "metadata": {},
     "output_type": "execute_result"
    }
   ],
   "source": [
    "test.shape"
   ]
  },
  {
   "cell_type": "code",
   "execution_count": 37,
   "metadata": {},
   "outputs": [
    {
     "name": "stdout",
     "output_type": "stream",
     "text": [
      "40.95483147913037\n",
      "30.655611874260465\n"
     ]
    }
   ],
   "source": [
    "import math\n",
    "MSE = np.square(np.subtract(np.array(test),np.array(final_forecast))).mean()   \n",
    "rsme = math.sqrt(MSE)\n",
    "print(rsme)  \n",
    "MAE = np.abs(np.subtract(np.array(test),np.array(final_forecast))).mean()   \n",
    "mae = MAE\n",
    "print(mae)"
   ]
  }
 ],
 "metadata": {
  "colab": {
   "provenance": []
  },
  "kernelspec": {
   "display_name": "Python 3",
   "language": "python",
   "name": "python3"
  },
  "language_info": {
   "codemirror_mode": {
    "name": "ipython",
    "version": 3
   },
   "file_extension": ".py",
   "mimetype": "text/x-python",
   "name": "python",
   "nbconvert_exporter": "python",
   "pygments_lexer": "ipython3",
   "version": "3.9.13"
  }
 },
 "nbformat": 4,
 "nbformat_minor": 0
}
