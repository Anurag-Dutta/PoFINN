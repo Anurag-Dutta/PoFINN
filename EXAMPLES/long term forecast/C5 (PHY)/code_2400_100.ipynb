{
 "cells": [
  {
   "cell_type": "markdown",
   "metadata": {
    "id": "pCGKeZ2gyuoQ"
   },
   "source": [
    "_Importing Required Libraries_"
   ]
  },
  {
   "cell_type": "code",
   "execution_count": 1,
   "metadata": {
    "colab": {
     "base_uri": "https://localhost:8080/"
    },
    "id": "A-6LN-zXiLcM",
    "outputId": "4de610a4-f8b8-4f49-c6c0-89de299ccedc"
   },
   "outputs": [
    {
     "name": "stdout",
     "output_type": "stream",
     "text": [
      "Requirement already satisfied: hampel in c:\\users\\anurag dutta\\appdata\\local\\packages\\pythonsoftwarefoundation.python.3.9_qbz5n2kfra8p0\\localcache\\local-packages\\python39\\site-packages (0.0.5)\n",
      "Requirement already satisfied: numpy in c:\\users\\anurag dutta\\appdata\\local\\packages\\pythonsoftwarefoundation.python.3.9_qbz5n2kfra8p0\\localcache\\local-packages\\python39\\site-packages (from hampel) (1.26.4)\n",
      "Requirement already satisfied: pandas in c:\\users\\anurag dutta\\appdata\\local\\packages\\pythonsoftwarefoundation.python.3.9_qbz5n2kfra8p0\\localcache\\local-packages\\python39\\site-packages (from hampel) (1.5.2)\n",
      "Requirement already satisfied: python-dateutil>=2.8.1 in c:\\users\\anurag dutta\\appdata\\local\\packages\\pythonsoftwarefoundation.python.3.9_qbz5n2kfra8p0\\localcache\\local-packages\\python39\\site-packages (from pandas->hampel) (2.8.2)\n",
      "Requirement already satisfied: pytz>=2020.1 in c:\\users\\anurag dutta\\appdata\\local\\packages\\pythonsoftwarefoundation.python.3.9_qbz5n2kfra8p0\\localcache\\local-packages\\python39\\site-packages (from pandas->hampel) (2023.3.post1)\n",
      "Requirement already satisfied: six>=1.5 in c:\\users\\anurag dutta\\appdata\\local\\packages\\pythonsoftwarefoundation.python.3.9_qbz5n2kfra8p0\\localcache\\local-packages\\python39\\site-packages (from python-dateutil>=2.8.1->pandas->hampel) (1.16.0)\n",
      "Note: you may need to restart the kernel to use updated packages.\n"
     ]
    },
    {
     "name": "stderr",
     "output_type": "stream",
     "text": [
      "\n",
      "[notice] A new release of pip is available: 24.2 -> 24.3.1\n",
      "[notice] To update, run: C:\\Users\\Anurag Dutta\\AppData\\Local\\Microsoft\\WindowsApps\\PythonSoftwareFoundation.Python.3.9_qbz5n2kfra8p0\\python.exe -m pip install --upgrade pip\n"
     ]
    }
   ],
   "source": [
    "pip install hampel"
   ]
  },
  {
   "cell_type": "code",
   "execution_count": 2,
   "metadata": {
    "id": "By_d9uXpaFvZ"
   },
   "outputs": [],
   "source": [
    "from keras.models import Sequential\n",
    "from keras.layers import Dense\n",
    "from keras.layers import LSTM\n",
    "from keras.layers import Dropout\n",
    "import keras\n",
    "import tensorflow as tf\n",
    "from hampel import hampel\n",
    "import numpy as np\n",
    "import matplotlib.pyplot as plt\n",
    "import pandas as pd\n",
    "from sklearn.preprocessing import MinMaxScaler\n",
    "from sklearn.metrics import mean_squared_error, mean_absolute_error\n",
    "from math import sqrt\n",
    "from matplotlib import pyplot\n",
    "from numpy import array"
   ]
  },
  {
   "cell_type": "markdown",
   "metadata": {
    "id": "JyOjBMFayuoR"
   },
   "source": [
    "## Pretraining"
   ]
  },
  {
   "cell_type": "markdown",
   "metadata": {
    "id": "-5QqIY_GyuoR"
   },
   "source": [
    "The `capa_intermittency.dat` feeds the model with the dynamics of the Capacitor"
   ]
  },
  {
   "cell_type": "code",
   "execution_count": 3,
   "metadata": {
    "id": "9dV4a8yfyuoR"
   },
   "outputs": [],
   "source": [
    "data = np.genfromtxt('capa_intermittency.dat')\n",
    "training_set = pd.DataFrame(data).reset_index(drop=True)\n",
    "training_set = training_set.iloc[:,0]"
   ]
  },
  {
   "cell_type": "markdown",
   "metadata": {
    "id": "i7easoxByuoR"
   },
   "source": [
    "## Computing the Gradient"
   ]
  },
  {
   "cell_type": "markdown",
   "metadata": {
    "id": "5SnyolJTyuoR"
   },
   "source": [
    "_Calculating the value of_ $\\frac{dx}{dt}$"
   ]
  },
  {
   "cell_type": "code",
   "execution_count": 4,
   "metadata": {
    "colab": {
     "base_uri": "https://localhost:8080/"
    },
    "id": "wmIbVfIvyuoR",
    "outputId": "aa4e3136-c854-465d-d2e9-81cfd546e440"
   },
   "outputs": [
    {
     "name": "stdout",
     "output_type": "stream",
     "text": [
      "1.0\n",
      "1        0.000298\n",
      "2        0.000298\n",
      "3        0.000297\n",
      "4        0.000297\n",
      "5        0.000297\n",
      "           ...   \n",
      "9996     0.000018\n",
      "9997     0.000018\n",
      "9998     0.000018\n",
      "9999     0.000018\n",
      "10000    0.000018\n",
      "Name: 0, Length: 10000, dtype: float64\n"
     ]
    }
   ],
   "source": [
    "t_diff = 1\n",
    "print(training_set.max())\n",
    "gradient_t = (training_set.diff()/t_diff).iloc[1:] # dx/dt\n",
    "print(gradient_t)"
   ]
  },
  {
   "cell_type": "markdown",
   "metadata": {
    "id": "_2eVeeoxyuoS"
   },
   "source": [
    "## Loading Datasets"
   ]
  },
  {
   "cell_type": "code",
   "execution_count": 5,
   "metadata": {
    "id": "0J-NKyIEyuoS"
   },
   "outputs": [
    {
     "data": {
      "text/plain": [
       "0       89.140000\n",
       "1       88.911429\n",
       "2       88.682857\n",
       "3       88.454286\n",
       "4       88.225714\n",
       "          ...    \n",
       "2495    59.631700\n",
       "2496    59.623775\n",
       "2497    59.615850\n",
       "2498    59.607925\n",
       "2499    59.600000\n",
       "Name: C5, Length: 2500, dtype: float64"
      ]
     },
     "execution_count": 5,
     "metadata": {},
     "output_type": "execute_result"
    }
   ],
   "source": [
    "data = pd.read_csv(\"c5_interpolated_2400_100.csv\")\n",
    "training_set = data.iloc[:, 1]\n",
    "training_set"
   ]
  },
  {
   "cell_type": "code",
   "execution_count": 6,
   "metadata": {
    "colab": {
     "base_uri": "https://localhost:8080/"
    },
    "id": "-CbNUhJ74UqF",
    "outputId": "20f562d8-8247-49cc-b9c3-00eca5e13e2d"
   },
   "outputs": [
    {
     "data": {
      "text/plain": [
       "0       89.140000\n",
       "1       88.911429\n",
       "2       88.682857\n",
       "3       88.454286\n",
       "4       88.225714\n",
       "          ...    \n",
       "2395     0.696203\n",
       "2396     0.358317\n",
       "2397     0.000000\n",
       "2398     0.509931\n",
       "2399     0.000000\n",
       "Name: C5, Length: 2400, dtype: float64"
      ]
     },
     "execution_count": 6,
     "metadata": {},
     "output_type": "execute_result"
    }
   ],
   "source": [
    "test = training_set.tail(100)\n",
    "test\n",
    "training_set = training_set.head(2400)\n",
    "training_set"
   ]
  },
  {
   "cell_type": "code",
   "execution_count": 7,
   "metadata": {
    "colab": {
     "base_uri": "https://localhost:8080/"
    },
    "id": "X0TwTcq0yuoS",
    "outputId": "37252ed8-d88e-4044-fa7a-922411990b5b"
   },
   "outputs": [
    {
     "name": "stdout",
     "output_type": "stream",
     "text": [
      "0       0.000298\n",
      "1       0.000298\n",
      "2       0.000297\n",
      "3       0.000297\n",
      "4       0.000297\n",
      "          ...   \n",
      "9995    0.000018\n",
      "9996    0.000018\n",
      "9997    0.000018\n",
      "9998    0.000018\n",
      "9999    0.000018\n",
      "Name: 0, Length: 10000, dtype: float64\n"
     ]
    }
   ],
   "source": [
    "training_set = training_set.reset_index(drop=True)\n",
    "gradient_t = gradient_t.reset_index(drop=True)\n",
    "print(gradient_t)"
   ]
  },
  {
   "cell_type": "code",
   "execution_count": 8,
   "metadata": {
    "id": "O2biznZQyuoS"
   },
   "outputs": [],
   "source": [
    "df = pd.concat((training_set, gradient_t), axis=1)\n",
    "df.columns = ['y_t', 'grad_t']"
   ]
  },
  {
   "cell_type": "code",
   "execution_count": 9,
   "metadata": {
    "colab": {
     "base_uri": "https://localhost:8080/",
     "height": 423
    },
    "id": "sk_a5v3tyuoS",
    "outputId": "17563625-e550-45ae-faab-fafa353e44da"
   },
   "outputs": [
    {
     "data": {
      "text/html": [
       "<div>\n",
       "<style scoped>\n",
       "    .dataframe tbody tr th:only-of-type {\n",
       "        vertical-align: middle;\n",
       "    }\n",
       "\n",
       "    .dataframe tbody tr th {\n",
       "        vertical-align: top;\n",
       "    }\n",
       "\n",
       "    .dataframe thead th {\n",
       "        text-align: right;\n",
       "    }\n",
       "</style>\n",
       "<table border=\"1\" class=\"dataframe\">\n",
       "  <thead>\n",
       "    <tr style=\"text-align: right;\">\n",
       "      <th></th>\n",
       "      <th>y_t</th>\n",
       "      <th>grad_t</th>\n",
       "    </tr>\n",
       "  </thead>\n",
       "  <tbody>\n",
       "    <tr>\n",
       "      <th>0</th>\n",
       "      <td>89.140000</td>\n",
       "      <td>0.000298</td>\n",
       "    </tr>\n",
       "    <tr>\n",
       "      <th>1</th>\n",
       "      <td>88.911429</td>\n",
       "      <td>0.000298</td>\n",
       "    </tr>\n",
       "    <tr>\n",
       "      <th>2</th>\n",
       "      <td>88.682857</td>\n",
       "      <td>0.000297</td>\n",
       "    </tr>\n",
       "    <tr>\n",
       "      <th>3</th>\n",
       "      <td>88.454286</td>\n",
       "      <td>0.000297</td>\n",
       "    </tr>\n",
       "    <tr>\n",
       "      <th>4</th>\n",
       "      <td>88.225714</td>\n",
       "      <td>0.000297</td>\n",
       "    </tr>\n",
       "    <tr>\n",
       "      <th>...</th>\n",
       "      <td>...</td>\n",
       "      <td>...</td>\n",
       "    </tr>\n",
       "    <tr>\n",
       "      <th>9995</th>\n",
       "      <td>NaN</td>\n",
       "      <td>0.000018</td>\n",
       "    </tr>\n",
       "    <tr>\n",
       "      <th>9996</th>\n",
       "      <td>NaN</td>\n",
       "      <td>0.000018</td>\n",
       "    </tr>\n",
       "    <tr>\n",
       "      <th>9997</th>\n",
       "      <td>NaN</td>\n",
       "      <td>0.000018</td>\n",
       "    </tr>\n",
       "    <tr>\n",
       "      <th>9998</th>\n",
       "      <td>NaN</td>\n",
       "      <td>0.000018</td>\n",
       "    </tr>\n",
       "    <tr>\n",
       "      <th>9999</th>\n",
       "      <td>NaN</td>\n",
       "      <td>0.000018</td>\n",
       "    </tr>\n",
       "  </tbody>\n",
       "</table>\n",
       "<p>10000 rows × 2 columns</p>\n",
       "</div>"
      ],
      "text/plain": [
       "            y_t    grad_t\n",
       "0     89.140000  0.000298\n",
       "1     88.911429  0.000298\n",
       "2     88.682857  0.000297\n",
       "3     88.454286  0.000297\n",
       "4     88.225714  0.000297\n",
       "...         ...       ...\n",
       "9995        NaN  0.000018\n",
       "9996        NaN  0.000018\n",
       "9997        NaN  0.000018\n",
       "9998        NaN  0.000018\n",
       "9999        NaN  0.000018\n",
       "\n",
       "[10000 rows x 2 columns]"
      ]
     },
     "execution_count": 9,
     "metadata": {},
     "output_type": "execute_result"
    }
   ],
   "source": [
    "df"
   ]
  },
  {
   "cell_type": "markdown",
   "metadata": {
    "id": "-5esyHu5aFvg"
   },
   "source": [
    "## Plot of the External Forcing from Chaotic Differential Equation"
   ]
  },
  {
   "cell_type": "code",
   "execution_count": 10,
   "metadata": {
    "colab": {
     "base_uri": "https://localhost:8080/",
     "height": 447
    },
    "id": "hGnE43tOh-4p",
    "outputId": "fc396503-b624-4fa5-dfbe-f460207405c6"
   },
   "outputs": [
    {
     "data": {
      "text/plain": [
       "<Axes: >"
      ]
     },
     "execution_count": 10,
     "metadata": {},
     "output_type": "execute_result"
    },
    {
     "data": {
      "image/png": "[encoded data removed]",
      "text/plain": [
       "<Figure size 432x288 with 1 Axes>"
      ]
     },
     "metadata": {
      "needs_background": "light"
     },
     "output_type": "display_data"
    }
   ],
   "source": [
    "df.iloc[:, 0].plot()"
   ]
  },
  {
   "cell_type": "code",
   "execution_count": 11,
   "metadata": {
    "colab": {
     "base_uri": "https://localhost:8080/",
     "height": 447
    },
    "id": "ym4xWUUxaFvg",
    "outputId": "ae6a3495-8ce9-437e-ba81-3ed31deedeae"
   },
   "outputs": [
    {
     "name": "stderr",
     "output_type": "stream",
     "text": [
      "C:\\Users\\Anurag Dutta\\AppData\\Local\\Packages\\PythonSoftwareFoundation.Python.3.9_qbz5n2kfra8p0\\LocalCache\\local-packages\\Python39\\site-packages\\pandas\\core\\arraylike.py:402: RuntimeWarning: divide by zero encountered in log\n",
      "  result = getattr(ufunc, method)(*inputs, **kwargs)\n"
     ]
    },
    {
     "data": {
      "text/plain": [
       "<Axes: >"
      ]
     },
     "execution_count": 11,
     "metadata": {},
     "output_type": "execute_result"
    },
    {
     "data": {
      "image/png": "[encoded data removed]",
      "text/plain": [
       "<Figure size 432x288 with 1 Axes>"
      ]
     },
     "metadata": {
      "needs_background": "light"
     },
     "output_type": "display_data"
    }
   ],
   "source": [
    "import numpy as np\n",
    "c0 = 86.8407  # Value for C0\n",
    "K0 = -0.0015  # Value for K0\n",
    "K1 = -0.0001  # Value for K1\n",
    "a = 0.0000    # Value for a\n",
    "b = 0.0118    # Value for b\n",
    "c = 2.5775    # Value for c\n",
    "\n",
    "L = np.minimum(c0, (df.iloc[:, 1] - (df.iloc[:, 0] * (K0 - K1 * (9 * a * np.log(df.iloc[:, 0] / c0) / (K0 - K1 * c)**2 + 4 * b * np.log(df.iloc[:, 0] / c0) / (K0 - K1 * c) + c)))))\n",
    "L.plot()"
   ]
  },
  {
   "cell_type": "markdown",
   "metadata": {
    "id": "9VyEywnwaFvh"
   },
   "source": [
    "## Preprocessing the data into supervised learning"
   ]
  },
  {
   "cell_type": "code",
   "execution_count": 12,
   "metadata": {
    "id": "6V9dXqzdaFvh"
   },
   "outputs": [],
   "source": [
    "# split a sequence into samples\n",
    "def Supervised(data, n_in=1, n_out=1, dropnan=True):\n",
    "    n_vars = 1 if type(data) is list else data.shape[1]\n",
    "    df = pd.DataFrame(data)\n",
    "    cols, names = list(), list()\n",
    "    # input sequence (t-n_in, ... t-1)\n",
    "    for i in range(n_in, 0, -1):\n",
    "        cols.append(df.shift(i))\n",
    "        names += [('var%d(t-%d)' % (j+1, i)) for j in range(n_vars)]\n",
    "    # forecast sequence (t, t+1, ... t+n_out)\n",
    "    for i in range(0, n_out):\n",
    "      cols.append(df.shift(-i))\n",
    "      if i == 0:\n",
    "        names += [('var%d(t)' % (j+1)) for j in range(n_vars)]\n",
    "      else:\n",
    "        names += [('var%d(t+%d)' % (j+1, i)) for j in range(n_vars)]\n",
    "    # put it all together\n",
    "    agg = pd.concat(cols, axis=1)\n",
    "    agg.columns = names\n",
    "    # drop rows with NaN values\n",
    "    if dropnan:\n",
    "       agg.dropna(inplace=True)\n",
    "    return agg"
   ]
  },
  {
   "cell_type": "code",
   "execution_count": 13,
   "metadata": {
    "colab": {
     "base_uri": "https://localhost:8080/"
    },
    "id": "CrzSrT1HnyfH",
    "outputId": "7e75f928-3e47-499d-eac1-51908015ef78"
   },
   "outputs": [
    {
     "name": "stdout",
     "output_type": "stream",
     "text": [
      "     var1(t-350)  var1(t-349)  var1(t-348)  var1(t-347)  var1(t-346)  \\\n",
      "350    89.140000    88.911429    88.682857    88.454286    88.225714   \n",
      "351    88.911429    88.682857    88.454286    88.225714    87.997143   \n",
      "352    88.682857    88.454286    88.225714    87.997143    87.768571   \n",
      "353    88.454286    88.225714    87.997143    87.768571    87.540000   \n",
      "354    88.225714    87.997143    87.768571    87.540000    87.311429   \n",
      "\n",
      "     var1(t-345)  var1(t-344)  var1(t-343)  var1(t-342)  var1(t-341)  ...  \\\n",
      "350    87.997143    87.768571    87.540000    87.311429    87.095798  ...   \n",
      "351    87.768571    87.540000    87.311429    87.095798    87.039776  ...   \n",
      "352    87.540000    87.311429    87.095798    87.039776    86.983754  ...   \n",
      "353    87.311429    87.095798    87.039776    86.983754    86.927731  ...   \n",
      "354    87.095798    87.039776    86.983754    86.927731    86.871709  ...   \n",
      "\n",
      "     var1(t+95)  var2(t+95)  var1(t+96)  var2(t+96)  var1(t+97)  var2(t+97)  \\\n",
      "350   79.161181    0.000263   79.132236    0.000263   79.103291    0.000263   \n",
      "351   79.132236    0.000263   79.103291    0.000263   79.074346    0.000262   \n",
      "352   79.103291    0.000263   79.074346    0.000262   79.045401    0.000262   \n",
      "353   79.074346    0.000262   79.045401    0.000262   79.016457    0.000262   \n",
      "354   79.045401    0.000262   79.016457    0.000262   78.987512    0.000262   \n",
      "\n",
      "     var1(t+98)  var2(t+98)  var1(t+99)  var2(t+99)  \n",
      "350   79.074346    0.000262   79.045401    0.000262  \n",
      "351   79.045401    0.000262   79.016457    0.000262  \n",
      "352   79.016457    0.000262   78.987512    0.000262  \n",
      "353   78.987512    0.000262   78.958567    0.000262  \n",
      "354   78.958567    0.000262   78.929622    0.000262  \n",
      "\n",
      "[5 rows x 551 columns]\n",
      "Index(['var1(t-350)', 'var1(t-349)', 'var1(t-348)', 'var1(t-347)',\n",
      "       'var1(t-346)', 'var1(t-345)', 'var1(t-344)', 'var1(t-343)',\n",
      "       'var1(t-342)', 'var1(t-341)',\n",
      "       ...\n",
      "       'var1(t+95)', 'var2(t+95)', 'var1(t+96)', 'var2(t+96)', 'var1(t+97)',\n",
      "       'var2(t+97)', 'var1(t+98)', 'var2(t+98)', 'var1(t+99)', 'var2(t+99)'],\n",
      "      dtype='object', length=551)\n"
     ]
    }
   ],
   "source": [
    "data = Supervised(df.values, n_in = 350, n_out = 100)\n",
    "\n",
    "\n",
    "cols_to_drop = []\n",
    "for i in range(2, 351):\n",
    "    cols_to_drop.extend([f'var2(t-{i})'])\n",
    "\n",
    "data.drop(cols_to_drop, axis=1, inplace=True)\n",
    "\n",
    "print(data.head())\n",
    "print(data.columns)"
   ]
  },
  {
   "cell_type": "code",
   "execution_count": 14,
   "metadata": {
    "id": "AfPf60oy6Pe4"
   },
   "outputs": [],
   "source": [
    "train = np.array(data[0:len(data)-1])\n",
    "forecast = np.array(data.tail(1))"
   ]
  },
  {
   "cell_type": "code",
   "execution_count": 15,
   "metadata": {
    "id": "WSAafzI37KiT"
   },
   "outputs": [],
   "source": [
    "trainy = train[:,-300:]\n",
    "trainX = train[:,:-300]"
   ]
  },
  {
   "cell_type": "code",
   "execution_count": 16,
   "metadata": {
    "id": "2SrOqVJA7f50"
   },
   "outputs": [],
   "source": [
    "forecasty = forecast[:,-300:]\n",
    "forecastX = forecast[:,:-300]"
   ]
  },
  {
   "cell_type": "code",
   "execution_count": 17,
   "metadata": {
    "colab": {
     "base_uri": "https://localhost:8080/"
    },
    "id": "Qno_k8Nw7saY",
    "outputId": "c4a88db5-d8c6-489f-cdb2-06b24e293cff"
   },
   "outputs": [
    {
     "name": "stdout",
     "output_type": "stream",
     "text": [
      "(1950, 1, 251) (1950, 300) (1, 1, 251)\n"
     ]
    }
   ],
   "source": [
    "trainX = trainX.reshape((trainX.shape[0], 1, trainX.shape[1]))\n",
    "forecastX = forecastX.reshape((forecastX.shape[0], 1, forecastX.shape[1]))\n",
    "print(trainX.shape, trainy.shape, forecastX.shape)"
   ]
  },
  {
   "cell_type": "code",
   "execution_count": 18,
   "metadata": {
    "colab": {
     "base_uri": "https://localhost:8080/"
    },
    "id": "b1Jp2DvNuNFx",
    "outputId": "d0e5b3c4-64f1-438c-eade-8dfeaac8e285"
   },
   "outputs": [
    {
     "name": "stdout",
     "output_type": "stream",
     "text": [
      "Epoch 1/500\n",
      "25/25 [==============================] - 2s 20ms/step - loss: 4931.2734 - val_loss: 2894.0759\n",
      "Epoch 2/500\n",
      "25/25 [==============================] - 0s 4ms/step - loss: 4663.9624 - val_loss: 2741.5171\n",
      "Epoch 3/500\n",
      "25/25 [==============================] - 0s 4ms/step - loss: 4512.0488 - val_loss: 2655.3750\n",
      "Epoch 4/500\n",
      "25/25 [==============================] - 0s 3ms/step - loss: 4386.9443 - val_loss: 2583.1880\n",
      "Epoch 5/500\n",
      "25/25 [==============================] - 0s 4ms/step - loss: 4274.4863 - val_loss: 2517.4941\n",
      "Epoch 6/500\n",
      "25/25 [==============================] - 0s 3ms/step - loss: 4166.3271 - val_loss: 2454.6042\n",
      "Epoch 7/500\n",
      "25/25 [==============================] - 0s 3ms/step - loss: 4061.5754 - val_loss: 2394.0510\n",
      "Epoch 8/500\n",
      "25/25 [==============================] - 0s 3ms/step - loss: 3959.6814 - val_loss: 2335.5828\n",
      "Epoch 9/500\n",
      "25/25 [==============================] - 0s 4ms/step - loss: 3860.3374 - val_loss: 2279.0447\n",
      "Epoch 10/500\n",
      "25/25 [==============================] - 0s 4ms/step - loss: 3763.3496 - val_loss: 2224.3311\n",
      "Epoch 11/500\n",
      "25/25 [==============================] - 0s 3ms/step - loss: 3668.5850 - val_loss: 2171.3630\n",
      "Epoch 12/500\n",
      "25/25 [==============================] - 0s 3ms/step - loss: 3575.9446 - val_loss: 2120.0771\n",
      "Epoch 13/500\n",
      "25/25 [==============================] - 0s 4ms/step - loss: 3485.3484 - val_loss: 2070.4204\n",
      "Epoch 14/500\n",
      "25/25 [==============================] - 0s 6ms/step - loss: 3396.7324 - val_loss: 2022.3477\n",
      "Epoch 15/500\n",
      "25/25 [==============================] - 0s 3ms/step - loss: 3310.0422 - val_loss: 1975.8083\n",
      "Epoch 16/500\n",
      "25/25 [==============================] - 0s 3ms/step - loss: 3225.2288 - val_loss: 1930.8723\n",
      "Epoch 17/500\n",
      "25/25 [==============================] - 0s 4ms/step - loss: 3142.2520 - val_loss: 1887.3145\n",
      "Epoch 18/500\n",
      "25/25 [==============================] - 0s 4ms/step - loss: 3061.0696 - val_loss: 1845.2201\n",
      "Epoch 19/500\n",
      "25/25 [==============================] - 0s 3ms/step - loss: 2981.6482 - val_loss: 1804.5118\n",
      "Epoch 20/500\n",
      "25/25 [==============================] - 0s 4ms/step - loss: 2903.9475 - val_loss: 1765.0881\n",
      "Epoch 21/500\n",
      "25/25 [==============================] - 0s 3ms/step - loss: 2827.8555 - val_loss: 1727.3588\n",
      "Epoch 22/500\n",
      "25/25 [==============================] - 0s 4ms/step - loss: 2753.6016 - val_loss: 1690.5015\n",
      "Epoch 23/500\n",
      "25/25 [==============================] - 0s 4ms/step - loss: 2680.7805 - val_loss: 1653.8024\n",
      "Epoch 24/500\n",
      "25/25 [==============================] - 0s 4ms/step - loss: 2609.6208 - val_loss: 1619.4149\n",
      "Epoch 25/500\n",
      "25/25 [==============================] - 0s 3ms/step - loss: 2540.2336 - val_loss: 1588.7162\n",
      "Epoch 26/500\n",
      "25/25 [==============================] - 0s 4ms/step - loss: 2472.2559 - val_loss: 1557.1671\n",
      "Epoch 27/500\n",
      "25/25 [==============================] - 0s 4ms/step - loss: 2405.8123 - val_loss: 1526.8223\n",
      "Epoch 28/500\n",
      "25/25 [==============================] - 0s 4ms/step - loss: 2340.8694 - val_loss: 1497.6578\n",
      "Epoch 29/500\n",
      "25/25 [==============================] - 0s 4ms/step - loss: 2277.4016 - val_loss: 1469.6511\n",
      "Epoch 30/500\n",
      "25/25 [==============================] - 0s 3ms/step - loss: 2215.3848 - val_loss: 1442.7792\n",
      "Epoch 31/500\n",
      "25/25 [==============================] - 0s 3ms/step - loss: 2154.7961 - val_loss: 1417.0193\n",
      "Epoch 32/500\n",
      "25/25 [==============================] - 0s 4ms/step - loss: 2095.6111 - val_loss: 1392.3499\n",
      "Epoch 33/500\n",
      "25/25 [==============================] - 0s 4ms/step - loss: 2037.8075 - val_loss: 1368.7490\n",
      "Epoch 34/500\n",
      "25/25 [==============================] - 0s 4ms/step - loss: 1981.3627 - val_loss: 1346.1956\n",
      "Epoch 35/500\n",
      "25/25 [==============================] - 0s 4ms/step - loss: 1926.2540 - val_loss: 1324.6680\n",
      "Epoch 36/500\n",
      "25/25 [==============================] - 0s 4ms/step - loss: 1872.4606 - val_loss: 1304.1455\n",
      "Epoch 37/500\n",
      "25/25 [==============================] - 0s 3ms/step - loss: 1819.9600 - val_loss: 1284.6072\n",
      "Epoch 38/500\n",
      "25/25 [==============================] - 0s 4ms/step - loss: 1768.7314 - val_loss: 1266.0323\n",
      "Epoch 39/500\n",
      "25/25 [==============================] - 0s 4ms/step - loss: 1718.7532 - val_loss: 1248.4009\n",
      "Epoch 40/500\n",
      "25/25 [==============================] - 0s 4ms/step - loss: 1670.0055 - val_loss: 1231.6924\n",
      "Epoch 41/500\n",
      "25/25 [==============================] - 0s 4ms/step - loss: 1622.4666 - val_loss: 1215.8870\n",
      "Epoch 42/500\n",
      "25/25 [==============================] - 0s 3ms/step - loss: 1576.1168 - val_loss: 1200.9651\n",
      "Epoch 43/500\n",
      "25/25 [==============================] - 0s 3ms/step - loss: 1530.9360 - val_loss: 1186.9069\n",
      "Epoch 44/500\n",
      "25/25 [==============================] - 0s 4ms/step - loss: 1486.9043 - val_loss: 1173.6924\n",
      "Epoch 45/500\n",
      "25/25 [==============================] - 0s 4ms/step - loss: 1444.0017 - val_loss: 1161.3035\n",
      "Epoch 46/500\n",
      "25/25 [==============================] - 0s 3ms/step - loss: 1402.2095 - val_loss: 1149.7198\n",
      "Epoch 47/500\n",
      "25/25 [==============================] - 0s 4ms/step - loss: 1361.5072 - val_loss: 1138.9231\n",
      "Epoch 48/500\n",
      "25/25 [==============================] - 0s 4ms/step - loss: 1321.8763 - val_loss: 1128.8947\n",
      "Epoch 49/500\n",
      "25/25 [==============================] - 0s 8ms/step - loss: 1283.2979 - val_loss: 1119.6154\n",
      "Epoch 50/500\n",
      "25/25 [==============================] - 0s 4ms/step - loss: 1245.7532 - val_loss: 1111.0667\n",
      "Epoch 51/500\n",
      "25/25 [==============================] - 0s 3ms/step - loss: 1209.2235 - val_loss: 1103.2306\n",
      "Epoch 52/500\n",
      "25/25 [==============================] - 0s 4ms/step - loss: 1173.6902 - val_loss: 1096.0889\n",
      "Epoch 53/500\n",
      "25/25 [==============================] - 0s 5ms/step - loss: 1139.1356 - val_loss: 1089.6232\n",
      "Epoch 54/500\n",
      "25/25 [==============================] - 0s 3ms/step - loss: 1105.5410 - val_loss: 1083.8157\n",
      "Epoch 55/500\n",
      "25/25 [==============================] - 0s 4ms/step - loss: 1072.8892 - val_loss: 1078.6486\n",
      "Epoch 56/500\n",
      "25/25 [==============================] - 0s 4ms/step - loss: 1041.1615 - val_loss: 1074.1044\n",
      "Epoch 57/500\n",
      "25/25 [==============================] - 0s 3ms/step - loss: 1010.3409 - val_loss: 1070.1653\n",
      "Epoch 58/500\n",
      "25/25 [==============================] - 0s 3ms/step - loss: 980.4102 - val_loss: 1066.8141\n",
      "Epoch 59/500\n",
      "25/25 [==============================] - 0s 4ms/step - loss: 951.3510 - val_loss: 1064.0337\n",
      "Epoch 60/500\n",
      "25/25 [==============================] - 0s 4ms/step - loss: 923.1473 - val_loss: 1061.8068\n",
      "Epoch 61/500\n",
      "25/25 [==============================] - 0s 4ms/step - loss: 895.7816 - val_loss: 1060.1167\n",
      "Epoch 62/500\n",
      "25/25 [==============================] - 0s 6ms/step - loss: 869.2368 - val_loss: 1058.9464\n",
      "Epoch 63/500\n",
      "25/25 [==============================] - 0s 5ms/step - loss: 843.4966 - val_loss: 1058.2794\n",
      "Epoch 64/500\n",
      "25/25 [==============================] - 0s 5ms/step - loss: 818.5443 - val_loss: 1058.0990\n",
      "Epoch 65/500\n",
      "25/25 [==============================] - 0s 5ms/step - loss: 794.3632 - val_loss: 1058.3892\n",
      "Epoch 66/500\n",
      "25/25 [==============================] - 0s 5ms/step - loss: 770.9378 - val_loss: 1059.1333\n",
      "Epoch 67/500\n",
      "25/25 [==============================] - 0s 8ms/step - loss: 748.2513 - val_loss: 1060.3157\n",
      "Epoch 68/500\n",
      "25/25 [==============================] - 0s 7ms/step - loss: 726.2880 - val_loss: 1061.9203\n",
      "Epoch 69/500\n",
      "25/25 [==============================] - 0s 6ms/step - loss: 705.0317 - val_loss: 1063.9313\n",
      "Epoch 70/500\n",
      "25/25 [==============================] - 0s 5ms/step - loss: 684.4672 - val_loss: 1066.3334\n",
      "Epoch 71/500\n",
      "25/25 [==============================] - 0s 3ms/step - loss: 664.5787 - val_loss: 1069.1107\n",
      "Epoch 72/500\n",
      "25/25 [==============================] - 0s 3ms/step - loss: 645.3509 - val_loss: 1072.2483\n",
      "Epoch 73/500\n",
      "25/25 [==============================] - 0s 3ms/step - loss: 626.7687 - val_loss: 1075.7310\n",
      "Epoch 74/500\n",
      "25/25 [==============================] - 0s 4ms/step - loss: 608.8167 - val_loss: 1079.5438\n",
      "Epoch 75/500\n",
      "25/25 [==============================] - 0s 4ms/step - loss: 591.4803 - val_loss: 1083.6722\n",
      "Epoch 76/500\n",
      "25/25 [==============================] - 0s 4ms/step - loss: 574.7446 - val_loss: 1088.1014\n",
      "Epoch 77/500\n",
      "25/25 [==============================] - 0s 4ms/step - loss: 558.5948 - val_loss: 1092.8170\n",
      "Epoch 78/500\n",
      "25/25 [==============================] - 0s 4ms/step - loss: 543.0169 - val_loss: 1097.8049\n",
      "Epoch 79/500\n",
      "25/25 [==============================] - 0s 4ms/step - loss: 527.9962 - val_loss: 1103.0509\n",
      "Epoch 80/500\n",
      "25/25 [==============================] - 0s 4ms/step - loss: 513.5187 - val_loss: 1108.5415\n",
      "Epoch 81/500\n",
      "25/25 [==============================] - 0s 4ms/step - loss: 499.5701 - val_loss: 1114.2625\n",
      "Epoch 82/500\n",
      "25/25 [==============================] - 0s 4ms/step - loss: 486.1372 - val_loss: 1120.2009\n",
      "Epoch 83/500\n",
      "25/25 [==============================] - 0s 4ms/step - loss: 473.2060 - val_loss: 1126.3431\n",
      "Epoch 84/500\n",
      "25/25 [==============================] - 0s 4ms/step - loss: 460.7632 - val_loss: 1132.6766\n",
      "Epoch 85/500\n",
      "25/25 [==============================] - 0s 4ms/step - loss: 448.7950 - val_loss: 1139.1882\n",
      "Epoch 86/500\n",
      "25/25 [==============================] - 0s 4ms/step - loss: 437.2887 - val_loss: 1145.8649\n",
      "Epoch 87/500\n",
      "25/25 [==============================] - 0s 4ms/step - loss: 426.2313 - val_loss: 1152.6948\n",
      "Epoch 88/500\n",
      "25/25 [==============================] - 0s 6ms/step - loss: 415.6099 - val_loss: 1159.6664\n",
      "Epoch 89/500\n",
      "25/25 [==============================] - 0s 6ms/step - loss: 405.4119 - val_loss: 1166.7665\n",
      "Epoch 90/500\n",
      "25/25 [==============================] - 0s 4ms/step - loss: 395.6249 - val_loss: 1173.9838\n",
      "Epoch 91/500\n",
      "25/25 [==============================] - 0s 4ms/step - loss: 386.2367 - val_loss: 1181.3070\n",
      "Epoch 92/500\n",
      "25/25 [==============================] - 0s 3ms/step - loss: 377.2350 - val_loss: 1188.7250\n",
      "Epoch 93/500\n",
      "25/25 [==============================] - 0s 3ms/step - loss: 368.6082 - val_loss: 1196.2264\n",
      "Epoch 94/500\n",
      "25/25 [==============================] - 0s 3ms/step - loss: 360.3445 - val_loss: 1203.8004\n",
      "Epoch 95/500\n",
      "25/25 [==============================] - 0s 4ms/step - loss: 352.4325 - val_loss: 1211.4371\n",
      "Epoch 96/500\n",
      "25/25 [==============================] - 0s 4ms/step - loss: 344.8607 - val_loss: 1219.1261\n",
      "Epoch 97/500\n",
      "25/25 [==============================] - 0s 5ms/step - loss: 337.6180 - val_loss: 1226.8569\n",
      "Epoch 98/500\n",
      "25/25 [==============================] - 0s 6ms/step - loss: 330.6937 - val_loss: 1234.6205\n",
      "Epoch 99/500\n",
      "25/25 [==============================] - 0s 5ms/step - loss: 324.0770 - val_loss: 1242.4072\n",
      "Epoch 100/500\n",
      "25/25 [==============================] - 0s 6ms/step - loss: 317.7572 - val_loss: 1250.2076\n",
      "Epoch 101/500\n",
      "25/25 [==============================] - 0s 7ms/step - loss: 311.7242 - val_loss: 1258.0132\n",
      "Epoch 102/500\n",
      "25/25 [==============================] - 0s 5ms/step - loss: 305.9678 - val_loss: 1265.8152\n",
      "Epoch 103/500\n",
      "25/25 [==============================] - 0s 5ms/step - loss: 300.4782 - val_loss: 1273.6053\n",
      "Epoch 104/500\n",
      "25/25 [==============================] - 0s 5ms/step - loss: 295.2458 - val_loss: 1281.3756\n",
      "Epoch 105/500\n",
      "25/25 [==============================] - 0s 5ms/step - loss: 290.2608 - val_loss: 1289.1182\n",
      "Epoch 106/500\n",
      "25/25 [==============================] - 0s 5ms/step - loss: 285.5142 - val_loss: 1296.8256\n",
      "Epoch 107/500\n",
      "25/25 [==============================] - 0s 6ms/step - loss: 280.9969 - val_loss: 1304.4905\n",
      "Epoch 108/500\n",
      "25/25 [==============================] - 0s 7ms/step - loss: 276.7000 - val_loss: 1312.1067\n",
      "Epoch 109/500\n",
      "25/25 [==============================] - 0s 6ms/step - loss: 272.6150 - val_loss: 1319.6670\n",
      "Epoch 110/500\n",
      "25/25 [==============================] - 0s 7ms/step - loss: 268.7333 - val_loss: 1327.1652\n",
      "Epoch 111/500\n",
      "25/25 [==============================] - 0s 6ms/step - loss: 265.0469 - val_loss: 1334.5950\n",
      "Epoch 112/500\n",
      "25/25 [==============================] - 0s 5ms/step - loss: 261.5476 - val_loss: 1341.9515\n",
      "Epoch 113/500\n",
      "25/25 [==============================] - 0s 6ms/step - loss: 258.2278 - val_loss: 1349.2280\n",
      "Epoch 114/500\n",
      "25/25 [==============================] - 0s 5ms/step - loss: 255.0800 - val_loss: 1356.4213\n",
      "Epoch 115/500\n",
      "25/25 [==============================] - 0s 5ms/step - loss: 252.0966 - val_loss: 1363.5250\n",
      "Epoch 116/500\n",
      "25/25 [==============================] - 0s 5ms/step - loss: 249.2707 - val_loss: 1370.5347\n",
      "Epoch 117/500\n",
      "25/25 [==============================] - 0s 5ms/step - loss: 246.5953 - val_loss: 1377.4465\n",
      "Epoch 118/500\n",
      "25/25 [==============================] - 0s 5ms/step - loss: 244.0637 - val_loss: 1384.2566\n",
      "Epoch 119/500\n",
      "25/25 [==============================] - 0s 5ms/step - loss: 241.6694 - val_loss: 1390.9615\n",
      "Epoch 120/500\n",
      "25/25 [==============================] - 0s 7ms/step - loss: 239.4061 - val_loss: 1397.5574\n",
      "Epoch 121/500\n",
      "25/25 [==============================] - 0s 5ms/step - loss: 237.2677 - val_loss: 1404.0403\n",
      "Epoch 122/500\n",
      "25/25 [==============================] - 0s 5ms/step - loss: 235.2484 - val_loss: 1410.4094\n",
      "Epoch 123/500\n",
      "25/25 [==============================] - 0s 5ms/step - loss: 233.3423 - val_loss: 1416.6599\n",
      "Epoch 124/500\n",
      "25/25 [==============================] - 0s 5ms/step - loss: 231.5442 - val_loss: 1422.7911\n",
      "Epoch 125/500\n",
      "25/25 [==============================] - 0s 6ms/step - loss: 229.8487 - val_loss: 1428.8005\n",
      "Epoch 126/500\n",
      "25/25 [==============================] - 0s 5ms/step - loss: 228.2507 - val_loss: 1434.6862\n",
      "Epoch 127/500\n",
      "25/25 [==============================] - 0s 6ms/step - loss: 226.7453 - val_loss: 1440.4467\n",
      "Epoch 128/500\n",
      "25/25 [==============================] - 0s 5ms/step - loss: 225.3278 - val_loss: 1446.0804\n",
      "Epoch 129/500\n",
      "25/25 [==============================] - 0s 6ms/step - loss: 223.9937 - val_loss: 1451.5867\n",
      "Epoch 130/500\n",
      "25/25 [==============================] - 0s 5ms/step - loss: 222.7386 - val_loss: 1456.9642\n",
      "Epoch 131/500\n",
      "25/25 [==============================] - 0s 5ms/step - loss: 221.5584 - val_loss: 1462.2131\n",
      "Epoch 132/500\n",
      "25/25 [==============================] - 0s 6ms/step - loss: 220.4490 - val_loss: 1467.3320\n",
      "Epoch 133/500\n",
      "25/25 [==============================] - 0s 6ms/step - loss: 219.4067 - val_loss: 1472.3218\n",
      "Epoch 134/500\n",
      "25/25 [==============================] - 0s 6ms/step - loss: 218.4278 - val_loss: 1477.1814\n",
      "Epoch 135/500\n",
      "25/25 [==============================] - 0s 7ms/step - loss: 217.5087 - val_loss: 1481.9122\n",
      "Epoch 136/500\n",
      "25/25 [==============================] - 0s 6ms/step - loss: 216.6463 - val_loss: 1486.5127\n",
      "Epoch 137/500\n",
      "25/25 [==============================] - 0s 7ms/step - loss: 215.8372 - val_loss: 1490.9852\n",
      "Epoch 138/500\n",
      "25/25 [==============================] - 0s 8ms/step - loss: 215.0785 - val_loss: 1495.3300\n",
      "Epoch 139/500\n",
      "25/25 [==============================] - 0s 7ms/step - loss: 214.3671 - val_loss: 1499.5482\n",
      "Epoch 140/500\n",
      "25/25 [==============================] - 0s 12ms/step - loss: 213.7006 - val_loss: 1503.6403\n",
      "Epoch 141/500\n",
      "25/25 [==============================] - 0s 10ms/step - loss: 213.0760 - val_loss: 1507.6086\n",
      "Epoch 142/500\n",
      "25/25 [==============================] - 0s 7ms/step - loss: 212.4910 - val_loss: 1511.4520\n",
      "Epoch 143/500\n",
      "25/25 [==============================] - 0s 5ms/step - loss: 211.9433 - val_loss: 1515.1747\n",
      "Epoch 144/500\n",
      "25/25 [==============================] - 0s 5ms/step - loss: 211.4306 - val_loss: 1518.7770\n",
      "Epoch 145/500\n",
      "25/25 [==============================] - 0s 5ms/step - loss: 210.9508 - val_loss: 1522.2607\n",
      "Epoch 146/500\n",
      "25/25 [==============================] - 0s 5ms/step - loss: 210.5018 - val_loss: 1525.6279\n",
      "Epoch 147/500\n",
      "25/25 [==============================] - 0s 5ms/step - loss: 210.0818 - val_loss: 1528.8800\n",
      "Epoch 148/500\n",
      "25/25 [==============================] - 0s 6ms/step - loss: 209.6890 - val_loss: 1532.0195\n",
      "Epoch 149/500\n",
      "25/25 [==============================] - 0s 5ms/step - loss: 209.3215 - val_loss: 1535.0482\n",
      "Epoch 150/500\n",
      "25/25 [==============================] - 0s 5ms/step - loss: 208.9781 - val_loss: 1537.9689\n",
      "Epoch 151/500\n",
      "25/25 [==============================] - 0s 5ms/step - loss: 208.6569 - val_loss: 1540.7817\n",
      "Epoch 152/500\n",
      "25/25 [==============================] - 0s 5ms/step - loss: 208.3568 - val_loss: 1543.4908\n",
      "Epoch 153/500\n",
      "25/25 [==============================] - 0s 6ms/step - loss: 208.0764 - val_loss: 1546.0979\n",
      "Epoch 154/500\n",
      "25/25 [==============================] - 0s 5ms/step - loss: 207.8142 - val_loss: 1548.6062\n",
      "Epoch 155/500\n",
      "25/25 [==============================] - 0s 6ms/step - loss: 207.5692 - val_loss: 1551.0167\n",
      "Epoch 156/500\n",
      "25/25 [==============================] - 0s 7ms/step - loss: 207.3403 - val_loss: 1553.3330\n",
      "Epoch 157/500\n",
      "25/25 [==============================] - 0s 10ms/step - loss: 207.1264 - val_loss: 1555.5569\n",
      "Epoch 158/500\n",
      "25/25 [==============================] - 0s 7ms/step - loss: 206.9265 - val_loss: 1557.6907\n",
      "Epoch 159/500\n",
      "25/25 [==============================] - 0s 9ms/step - loss: 206.7399 - val_loss: 1559.7371\n",
      "Epoch 160/500\n",
      "25/25 [==============================] - 0s 6ms/step - loss: 206.5654 - val_loss: 1561.6987\n",
      "Epoch 161/500\n",
      "25/25 [==============================] - 0s 5ms/step - loss: 206.4024 - val_loss: 1563.5784\n",
      "Epoch 162/500\n",
      "25/25 [==============================] - 0s 4ms/step - loss: 206.2501 - val_loss: 1565.3776\n",
      "Epoch 163/500\n",
      "25/25 [==============================] - 0s 5ms/step - loss: 206.1078 - val_loss: 1567.0995\n",
      "Epoch 164/500\n",
      "25/25 [==============================] - 0s 5ms/step - loss: 205.9747 - val_loss: 1568.7461\n",
      "Epoch 165/500\n",
      "25/25 [==============================] - 0s 5ms/step - loss: 205.8505 - val_loss: 1570.3203\n",
      "Epoch 166/500\n",
      "25/25 [==============================] - 0s 5ms/step - loss: 205.7344 - val_loss: 1571.8245\n",
      "Epoch 167/500\n",
      "25/25 [==============================] - 0s 5ms/step - loss: 205.6259 - val_loss: 1573.2604\n",
      "Epoch 168/500\n",
      "25/25 [==============================] - 0s 5ms/step - loss: 205.5244 - val_loss: 1574.6310\n",
      "Epoch 169/500\n",
      "25/25 [==============================] - 0s 6ms/step - loss: 205.4296 - val_loss: 1575.9374\n",
      "Epoch 170/500\n",
      "25/25 [==============================] - 0s 7ms/step - loss: 205.3411 - val_loss: 1577.1830\n",
      "Epoch 171/500\n",
      "25/25 [==============================] - 0s 7ms/step - loss: 205.2583 - val_loss: 1578.3707\n",
      "Epoch 172/500\n",
      "25/25 [==============================] - 0s 7ms/step - loss: 205.1808 - val_loss: 1579.5013\n",
      "Epoch 173/500\n",
      "25/25 [==============================] - 0s 8ms/step - loss: 205.1085 - val_loss: 1580.5780\n",
      "Epoch 174/500\n",
      "25/25 [==============================] - 0s 7ms/step - loss: 205.0408 - val_loss: 1581.6011\n",
      "Epoch 175/500\n",
      "25/25 [==============================] - 0s 15ms/step - loss: 204.9776 - val_loss: 1582.5750\n",
      "Epoch 176/500\n",
      "25/25 [==============================] - 0s 7ms/step - loss: 204.9184 - val_loss: 1583.5013\n",
      "Epoch 177/500\n",
      "25/25 [==============================] - 0s 6ms/step - loss: 204.8631 - val_loss: 1584.3802\n",
      "Epoch 178/500\n",
      "25/25 [==============================] - 0s 6ms/step - loss: 204.8115 - val_loss: 1585.2153\n",
      "Epoch 179/500\n",
      "25/25 [==============================] - 0s 5ms/step - loss: 204.7631 - val_loss: 1586.0072\n",
      "Epoch 180/500\n",
      "25/25 [==============================] - 0s 5ms/step - loss: 204.7179 - val_loss: 1586.7592\n",
      "Epoch 181/500\n",
      "25/25 [==============================] - 0s 6ms/step - loss: 204.6756 - val_loss: 1587.4718\n",
      "Epoch 182/500\n",
      "25/25 [==============================] - 0s 5ms/step - loss: 204.6361 - val_loss: 1588.1476\n",
      "Epoch 183/500\n",
      "25/25 [==============================] - 0s 5ms/step - loss: 204.5991 - val_loss: 1588.7874\n",
      "Epoch 184/500\n",
      "25/25 [==============================] - 0s 5ms/step - loss: 204.5646 - val_loss: 1589.3933\n",
      "Epoch 185/500\n",
      "25/25 [==============================] - 0s 5ms/step - loss: 204.5323 - val_loss: 1589.9662\n",
      "Epoch 186/500\n",
      "25/25 [==============================] - 0s 5ms/step - loss: 204.5021 - val_loss: 1590.5085\n",
      "Epoch 187/500\n",
      "25/25 [==============================] - 0s 4ms/step - loss: 204.4739 - val_loss: 1591.0215\n",
      "Epoch 188/500\n",
      "25/25 [==============================] - 0s 5ms/step - loss: 204.4476 - val_loss: 1591.5065\n",
      "Epoch 189/500\n",
      "25/25 [==============================] - 0s 5ms/step - loss: 204.4229 - val_loss: 1591.9641\n",
      "Epoch 190/500\n",
      "25/25 [==============================] - 0s 4ms/step - loss: 204.3999 - val_loss: 1592.3965\n",
      "Epoch 191/500\n",
      "25/25 [==============================] - 0s 5ms/step - loss: 204.3784 - val_loss: 1592.8047\n",
      "Epoch 192/500\n",
      "25/25 [==============================] - 0s 5ms/step - loss: 204.3583 - val_loss: 1593.1897\n",
      "Epoch 193/500\n",
      "25/25 [==============================] - 0s 5ms/step - loss: 204.3397 - val_loss: 1593.5529\n",
      "Epoch 194/500\n",
      "25/25 [==============================] - 0s 5ms/step - loss: 204.3221 - val_loss: 1593.8954\n",
      "Epoch 195/500\n",
      "25/25 [==============================] - 0s 5ms/step - loss: 204.3058 - val_loss: 1594.2183\n",
      "Epoch 196/500\n",
      "25/25 [==============================] - 0s 5ms/step - loss: 204.2906 - val_loss: 1594.5227\n",
      "Epoch 197/500\n",
      "25/25 [==============================] - 0s 5ms/step - loss: 204.2763 - val_loss: 1594.8088\n",
      "Epoch 198/500\n",
      "25/25 [==============================] - 0s 5ms/step - loss: 204.2631 - val_loss: 1595.0780\n",
      "Epoch 199/500\n",
      "25/25 [==============================] - 0s 5ms/step - loss: 204.2508 - val_loss: 1595.3319\n",
      "Epoch 200/500\n",
      "25/25 [==============================] - 0s 4ms/step - loss: 204.2393 - val_loss: 1595.5707\n",
      "Epoch 201/500\n",
      "25/25 [==============================] - 0s 5ms/step - loss: 204.2286 - val_loss: 1595.7952\n",
      "Epoch 202/500\n",
      "25/25 [==============================] - 0s 9ms/step - loss: 204.2186 - val_loss: 1596.0057\n",
      "Epoch 203/500\n",
      "25/25 [==============================] - 0s 6ms/step - loss: 204.2093 - val_loss: 1596.2045\n",
      "Epoch 204/500\n",
      "25/25 [==============================] - 0s 5ms/step - loss: 204.2007 - val_loss: 1596.3905\n",
      "Epoch 205/500\n",
      "25/25 [==============================] - 0s 5ms/step - loss: 204.1926 - val_loss: 1596.5657\n",
      "Epoch 206/500\n",
      "25/25 [==============================] - 0s 5ms/step - loss: 204.1852 - val_loss: 1596.7296\n",
      "Epoch 207/500\n",
      "25/25 [==============================] - 0s 5ms/step - loss: 204.1782 - val_loss: 1596.8832\n",
      "Epoch 208/500\n",
      "25/25 [==============================] - 0s 5ms/step - loss: 204.1718 - val_loss: 1597.0265\n",
      "Epoch 209/500\n",
      "25/25 [==============================] - 0s 5ms/step - loss: 204.1660 - val_loss: 1597.1627\n",
      "Epoch 210/500\n",
      "25/25 [==============================] - 0s 5ms/step - loss: 204.1604 - val_loss: 1597.2893\n",
      "Epoch 211/500\n",
      "25/25 [==============================] - 0s 5ms/step - loss: 204.1553 - val_loss: 1597.4093\n",
      "Epoch 212/500\n",
      "25/25 [==============================] - 0s 5ms/step - loss: 204.1506 - val_loss: 1597.5200\n",
      "Epoch 213/500\n",
      "25/25 [==============================] - 0s 5ms/step - loss: 204.1462 - val_loss: 1597.6241\n",
      "Epoch 214/500\n",
      "25/25 [==============================] - 0s 4ms/step - loss: 204.1422 - val_loss: 1597.7218\n",
      "Epoch 215/500\n",
      "25/25 [==============================] - 0s 5ms/step - loss: 204.1385 - val_loss: 1597.8135\n",
      "Epoch 216/500\n",
      "25/25 [==============================] - 0s 5ms/step - loss: 204.1351 - val_loss: 1597.8987\n",
      "Epoch 217/500\n",
      "25/25 [==============================] - 0s 4ms/step - loss: 204.1319 - val_loss: 1597.9779\n",
      "Epoch 218/500\n",
      "25/25 [==============================] - 0s 5ms/step - loss: 204.1291 - val_loss: 1598.0529\n",
      "Epoch 219/500\n",
      "25/25 [==============================] - 0s 5ms/step - loss: 204.1264 - val_loss: 1598.1221\n",
      "Epoch 220/500\n",
      "25/25 [==============================] - 0s 5ms/step - loss: 204.1241 - val_loss: 1598.1879\n",
      "Epoch 221/500\n",
      "25/25 [==============================] - 0s 5ms/step - loss: 204.1218 - val_loss: 1598.2485\n",
      "Epoch 222/500\n",
      "25/25 [==============================] - 0s 5ms/step - loss: 204.1197 - val_loss: 1598.3064\n",
      "Epoch 223/500\n",
      "25/25 [==============================] - 0s 5ms/step - loss: 204.1179 - val_loss: 1598.3588\n",
      "Epoch 224/500\n",
      "25/25 [==============================] - 0s 5ms/step - loss: 204.1162 - val_loss: 1598.4083\n",
      "Epoch 225/500\n",
      "25/25 [==============================] - 0s 5ms/step - loss: 204.1147 - val_loss: 1598.4543\n",
      "Epoch 226/500\n",
      "25/25 [==============================] - 0s 5ms/step - loss: 204.1133 - val_loss: 1598.4973\n",
      "Epoch 227/500\n",
      "25/25 [==============================] - 0s 5ms/step - loss: 204.1121 - val_loss: 1598.5375\n",
      "Epoch 228/500\n",
      "25/25 [==============================] - 0s 5ms/step - loss: 204.1110 - val_loss: 1598.5750\n",
      "Epoch 229/500\n",
      "25/25 [==============================] - 0s 9ms/step - loss: 204.1101 - val_loss: 1598.6101\n",
      "Epoch 230/500\n",
      "25/25 [==============================] - 0s 5ms/step - loss: 204.1091 - val_loss: 1598.6431\n",
      "Epoch 231/500\n",
      "25/25 [==============================] - 0s 5ms/step - loss: 204.1082 - val_loss: 1598.6731\n",
      "Epoch 232/500\n",
      "25/25 [==============================] - 0s 5ms/step - loss: 204.1076 - val_loss: 1598.7014\n",
      "Epoch 233/500\n",
      "25/25 [==============================] - 0s 5ms/step - loss: 204.1070 - val_loss: 1598.7280\n",
      "Epoch 234/500\n",
      "25/25 [==============================] - 0s 5ms/step - loss: 204.1065 - val_loss: 1598.7532\n",
      "Epoch 235/500\n",
      "25/25 [==============================] - 0s 5ms/step - loss: 204.1059 - val_loss: 1598.7756\n",
      "Epoch 236/500\n",
      "25/25 [==============================] - 0s 5ms/step - loss: 204.1056 - val_loss: 1598.7970\n",
      "Epoch 237/500\n",
      "25/25 [==============================] - 0s 5ms/step - loss: 204.1052 - val_loss: 1598.8170\n",
      "Epoch 238/500\n",
      "25/25 [==============================] - 0s 5ms/step - loss: 204.1049 - val_loss: 1598.8346\n",
      "Epoch 239/500\n",
      "25/25 [==============================] - 0s 5ms/step - loss: 204.1048 - val_loss: 1598.8523\n",
      "Epoch 240/500\n",
      "25/25 [==============================] - 0s 5ms/step - loss: 204.1046 - val_loss: 1598.8674\n",
      "Epoch 241/500\n",
      "25/25 [==============================] - 0s 5ms/step - loss: 204.1045 - val_loss: 1598.8831\n",
      "Epoch 242/500\n",
      "25/25 [==============================] - 0s 5ms/step - loss: 204.1044 - val_loss: 1598.8965\n",
      "Epoch 243/500\n",
      "25/25 [==============================] - 0s 5ms/step - loss: 204.1043 - val_loss: 1598.9089\n",
      "Epoch 244/500\n",
      "25/25 [==============================] - 0s 5ms/step - loss: 204.1043 - val_loss: 1598.9210\n",
      "Epoch 245/500\n",
      "25/25 [==============================] - 0s 5ms/step - loss: 204.1043 - val_loss: 1598.9323\n",
      "Epoch 246/500\n",
      "25/25 [==============================] - 0s 5ms/step - loss: 204.1043 - val_loss: 1598.9426\n",
      "Epoch 247/500\n",
      "25/25 [==============================] - 0s 5ms/step - loss: 204.1044 - val_loss: 1598.9519\n",
      "Epoch 248/500\n",
      "25/25 [==============================] - 0s 5ms/step - loss: 204.1045 - val_loss: 1598.9609\n",
      "Epoch 249/500\n",
      "25/25 [==============================] - 0s 5ms/step - loss: 204.1047 - val_loss: 1598.9694\n",
      "Epoch 250/500\n",
      "25/25 [==============================] - 0s 5ms/step - loss: 204.1047 - val_loss: 1598.9766\n",
      "Epoch 251/500\n",
      "25/25 [==============================] - 0s 5ms/step - loss: 204.1049 - val_loss: 1598.9835\n",
      "Epoch 252/500\n",
      "25/25 [==============================] - 0s 5ms/step - loss: 204.1051 - val_loss: 1598.9894\n",
      "Epoch 253/500\n",
      "25/25 [==============================] - 0s 5ms/step - loss: 204.1053 - val_loss: 1598.9957\n",
      "Epoch 254/500\n",
      "25/25 [==============================] - 0s 5ms/step - loss: 204.1055 - val_loss: 1599.0017\n",
      "Epoch 255/500\n",
      "25/25 [==============================] - 0s 6ms/step - loss: 204.1057 - val_loss: 1599.0060\n",
      "Epoch 256/500\n",
      "25/25 [==============================] - 0s 5ms/step - loss: 204.1059 - val_loss: 1599.0106\n",
      "Epoch 257/500\n",
      "25/25 [==============================] - 0s 5ms/step - loss: 204.1061 - val_loss: 1599.0150\n",
      "Epoch 258/500\n",
      "25/25 [==============================] - 0s 5ms/step - loss: 204.1064 - val_loss: 1599.0189\n",
      "Epoch 259/500\n",
      "25/25 [==============================] - 0s 5ms/step - loss: 204.1066 - val_loss: 1599.0222\n",
      "Epoch 260/500\n",
      "25/25 [==============================] - 0s 4ms/step - loss: 204.1069 - val_loss: 1599.0265\n",
      "Epoch 261/500\n",
      "25/25 [==============================] - 0s 6ms/step - loss: 204.1071 - val_loss: 1599.0293\n",
      "Epoch 262/500\n",
      "25/25 [==============================] - 0s 7ms/step - loss: 204.1074 - val_loss: 1599.0322\n",
      "Epoch 263/500\n",
      "25/25 [==============================] - 0s 5ms/step - loss: 204.1077 - val_loss: 1599.0353\n",
      "Epoch 264/500\n",
      "25/25 [==============================] - 0s 5ms/step - loss: 204.1080 - val_loss: 1599.0378\n",
      "Epoch 265/500\n",
      "25/25 [==============================] - 0s 5ms/step - loss: 204.1082 - val_loss: 1599.0400\n",
      "Epoch 266/500\n",
      "25/25 [==============================] - 0s 8ms/step - loss: 204.1085 - val_loss: 1599.0426\n",
      "Epoch 267/500\n",
      "25/25 [==============================] - 0s 6ms/step - loss: 204.1087 - val_loss: 1599.0444\n",
      "Epoch 268/500\n",
      "25/25 [==============================] - 0s 6ms/step - loss: 204.1089 - val_loss: 1599.0465\n",
      "Epoch 269/500\n",
      "25/25 [==============================] - 0s 6ms/step - loss: 204.1092 - val_loss: 1599.0483\n",
      "Epoch 270/500\n",
      "25/25 [==============================] - 0s 5ms/step - loss: 204.1095 - val_loss: 1599.0503\n",
      "Epoch 271/500\n",
      "25/25 [==============================] - 0s 5ms/step - loss: 204.1097 - val_loss: 1599.0513\n",
      "Epoch 272/500\n",
      "25/25 [==============================] - 0s 5ms/step - loss: 204.1100 - val_loss: 1599.0526\n",
      "Epoch 273/500\n",
      "25/25 [==============================] - 0s 6ms/step - loss: 204.1102 - val_loss: 1599.0542\n",
      "Epoch 274/500\n",
      "25/25 [==============================] - 0s 5ms/step - loss: 204.1105 - val_loss: 1599.0549\n",
      "Epoch 275/500\n",
      "25/25 [==============================] - 0s 5ms/step - loss: 204.1107 - val_loss: 1599.0554\n",
      "Epoch 276/500\n",
      "25/25 [==============================] - 0s 5ms/step - loss: 204.1110 - val_loss: 1599.0569\n",
      "Epoch 277/500\n",
      "25/25 [==============================] - 0s 6ms/step - loss: 204.1113 - val_loss: 1599.0582\n",
      "Epoch 278/500\n",
      "25/25 [==============================] - 0s 7ms/step - loss: 204.1115 - val_loss: 1599.0594\n",
      "Epoch 279/500\n",
      "25/25 [==============================] - 0s 6ms/step - loss: 204.1117 - val_loss: 1599.0599\n",
      "Epoch 280/500\n",
      "25/25 [==============================] - 0s 9ms/step - loss: 204.1119 - val_loss: 1599.0603\n",
      "Epoch 281/500\n",
      "25/25 [==============================] - 0s 8ms/step - loss: 204.1122 - val_loss: 1599.0609\n",
      "Epoch 282/500\n",
      "25/25 [==============================] - 0s 7ms/step - loss: 204.1124 - val_loss: 1599.0614\n",
      "Epoch 283/500\n",
      "25/25 [==============================] - 0s 9ms/step - loss: 204.1127 - val_loss: 1599.0629\n",
      "Epoch 284/500\n",
      "25/25 [==============================] - 0s 11ms/step - loss: 204.1128 - val_loss: 1599.0625\n",
      "Epoch 285/500\n",
      "25/25 [==============================] - 0s 8ms/step - loss: 204.1131 - val_loss: 1599.0631\n",
      "Epoch 286/500\n",
      "25/25 [==============================] - 0s 6ms/step - loss: 204.1133 - val_loss: 1599.0636\n",
      "Epoch 287/500\n",
      "25/25 [==============================] - 0s 5ms/step - loss: 204.1135 - val_loss: 1599.0638\n",
      "Epoch 288/500\n",
      "25/25 [==============================] - 0s 5ms/step - loss: 204.1138 - val_loss: 1599.0646\n",
      "Epoch 289/500\n",
      "25/25 [==============================] - 0s 5ms/step - loss: 204.1139 - val_loss: 1599.0646\n",
      "Epoch 290/500\n",
      "25/25 [==============================] - 0s 5ms/step - loss: 204.1142 - val_loss: 1599.0647\n",
      "Epoch 291/500\n",
      "25/25 [==============================] - 0s 5ms/step - loss: 204.1143 - val_loss: 1599.0652\n",
      "Epoch 292/500\n",
      "25/25 [==============================] - 0s 5ms/step - loss: 204.1145 - val_loss: 1599.0654\n",
      "Epoch 293/500\n",
      "25/25 [==============================] - 0s 5ms/step - loss: 204.1147 - val_loss: 1599.0657\n",
      "Epoch 294/500\n",
      "25/25 [==============================] - 0s 4ms/step - loss: 204.1149 - val_loss: 1599.0660\n",
      "Epoch 295/500\n",
      "25/25 [==============================] - 0s 5ms/step - loss: 204.1151 - val_loss: 1599.0662\n",
      "Epoch 296/500\n",
      "25/25 [==============================] - 0s 5ms/step - loss: 204.1152 - val_loss: 1599.0664\n",
      "Epoch 297/500\n",
      "25/25 [==============================] - 0s 5ms/step - loss: 204.1154 - val_loss: 1599.0662\n",
      "Epoch 298/500\n",
      "25/25 [==============================] - 0s 5ms/step - loss: 204.1156 - val_loss: 1599.0665\n",
      "Epoch 299/500\n",
      "25/25 [==============================] - 0s 5ms/step - loss: 204.1158 - val_loss: 1599.0670\n",
      "Epoch 300/500\n",
      "25/25 [==============================] - 0s 5ms/step - loss: 204.1159 - val_loss: 1599.0667\n",
      "Epoch 301/500\n",
      "25/25 [==============================] - 0s 5ms/step - loss: 204.1161 - val_loss: 1599.0665\n",
      "Epoch 302/500\n",
      "25/25 [==============================] - 0s 5ms/step - loss: 204.1163 - val_loss: 1599.0671\n",
      "Epoch 303/500\n",
      "25/25 [==============================] - 0s 5ms/step - loss: 204.1165 - val_loss: 1599.0671\n",
      "Epoch 304/500\n",
      "25/25 [==============================] - 0s 5ms/step - loss: 204.1166 - val_loss: 1599.0673\n",
      "Epoch 305/500\n",
      "25/25 [==============================] - 0s 5ms/step - loss: 204.1167 - val_loss: 1599.0670\n",
      "Epoch 306/500\n",
      "25/25 [==============================] - 0s 5ms/step - loss: 204.1169 - val_loss: 1599.0671\n",
      "Epoch 307/500\n",
      "25/25 [==============================] - 0s 4ms/step - loss: 204.1170 - val_loss: 1599.0670\n",
      "Epoch 308/500\n",
      "25/25 [==============================] - 0s 4ms/step - loss: 204.1172 - val_loss: 1599.0670\n",
      "Epoch 309/500\n",
      "25/25 [==============================] - 0s 9ms/step - loss: 204.1174 - val_loss: 1599.0671\n",
      "Epoch 310/500\n",
      "25/25 [==============================] - 0s 5ms/step - loss: 204.1174 - val_loss: 1599.0670\n",
      "Epoch 311/500\n",
      "25/25 [==============================] - 0s 5ms/step - loss: 204.1176 - val_loss: 1599.0662\n",
      "Epoch 312/500\n",
      "25/25 [==============================] - 0s 5ms/step - loss: 204.1178 - val_loss: 1599.0670\n",
      "Epoch 313/500\n",
      "25/25 [==============================] - 0s 5ms/step - loss: 204.1179 - val_loss: 1599.0675\n",
      "Epoch 314/500\n",
      "25/25 [==============================] - 0s 5ms/step - loss: 204.1180 - val_loss: 1599.0675\n",
      "Epoch 315/500\n",
      "25/25 [==============================] - 0s 5ms/step - loss: 204.1181 - val_loss: 1599.0671\n",
      "Epoch 316/500\n",
      "25/25 [==============================] - 0s 5ms/step - loss: 204.1182 - val_loss: 1599.0667\n",
      "Epoch 317/500\n",
      "25/25 [==============================] - 0s 4ms/step - loss: 204.1183 - val_loss: 1599.0667\n",
      "Epoch 318/500\n",
      "25/25 [==============================] - 0s 4ms/step - loss: 204.1184 - val_loss: 1599.0667\n",
      "Epoch 319/500\n",
      "25/25 [==============================] - 0s 4ms/step - loss: 204.1185 - val_loss: 1599.0667\n",
      "Epoch 320/500\n",
      "25/25 [==============================] - 0s 4ms/step - loss: 204.1186 - val_loss: 1599.0667\n",
      "Epoch 321/500\n",
      "25/25 [==============================] - 0s 4ms/step - loss: 204.1188 - val_loss: 1599.0670\n",
      "Epoch 322/500\n",
      "25/25 [==============================] - 0s 4ms/step - loss: 204.1189 - val_loss: 1599.0675\n",
      "Epoch 323/500\n",
      "25/25 [==============================] - 0s 5ms/step - loss: 204.1190 - val_loss: 1599.0680\n",
      "Epoch 324/500\n",
      "25/25 [==============================] - 0s 4ms/step - loss: 204.1190 - val_loss: 1599.0682\n",
      "Epoch 325/500\n",
      "25/25 [==============================] - 0s 4ms/step - loss: 204.1191 - val_loss: 1599.0682\n",
      "Epoch 326/500\n",
      "25/25 [==============================] - 0s 4ms/step - loss: 204.1192 - val_loss: 1599.0682\n",
      "Epoch 327/500\n",
      "25/25 [==============================] - 0s 4ms/step - loss: 204.1192 - val_loss: 1599.0682\n",
      "Epoch 328/500\n",
      "25/25 [==============================] - 0s 5ms/step - loss: 204.1193 - val_loss: 1599.0677\n",
      "Epoch 329/500\n",
      "25/25 [==============================] - 0s 4ms/step - loss: 204.1195 - val_loss: 1599.0676\n",
      "Epoch 330/500\n",
      "25/25 [==============================] - 0s 4ms/step - loss: 204.1196 - val_loss: 1599.0677\n",
      "Epoch 331/500\n",
      "25/25 [==============================] - 0s 5ms/step - loss: 204.1197 - val_loss: 1599.0681\n",
      "Epoch 332/500\n",
      "25/25 [==============================] - 0s 5ms/step - loss: 204.1198 - val_loss: 1599.0682\n",
      "Epoch 333/500\n",
      "25/25 [==============================] - 0s 7ms/step - loss: 204.1198 - val_loss: 1599.0676\n",
      "Epoch 334/500\n",
      "25/25 [==============================] - 0s 5ms/step - loss: 204.1199 - val_loss: 1599.0677\n",
      "Epoch 335/500\n",
      "25/25 [==============================] - 0s 5ms/step - loss: 204.1200 - val_loss: 1599.0682\n",
      "Epoch 336/500\n",
      "25/25 [==============================] - 0s 5ms/step - loss: 204.1200 - val_loss: 1599.0685\n",
      "Epoch 337/500\n",
      "25/25 [==============================] - 0s 5ms/step - loss: 204.1201 - val_loss: 1599.0685\n",
      "Epoch 338/500\n",
      "25/25 [==============================] - 0s 4ms/step - loss: 204.1201 - val_loss: 1599.0690\n",
      "Epoch 339/500\n",
      "25/25 [==============================] - 0s 5ms/step - loss: 204.1202 - val_loss: 1599.0691\n",
      "Epoch 340/500\n",
      "25/25 [==============================] - 0s 5ms/step - loss: 204.1202 - val_loss: 1599.0691\n",
      "Epoch 341/500\n",
      "25/25 [==============================] - 0s 5ms/step - loss: 204.1203 - val_loss: 1599.0692\n",
      "Epoch 342/500\n",
      "25/25 [==============================] - 0s 5ms/step - loss: 204.1203 - val_loss: 1599.0693\n",
      "Epoch 343/500\n",
      "25/25 [==============================] - 0s 5ms/step - loss: 204.1204 - val_loss: 1599.0698\n",
      "Epoch 344/500\n",
      "25/25 [==============================] - 0s 4ms/step - loss: 204.1204 - val_loss: 1599.0692\n",
      "Epoch 345/500\n",
      "25/25 [==============================] - 0s 4ms/step - loss: 204.1205 - val_loss: 1599.0691\n",
      "Epoch 346/500\n",
      "25/25 [==============================] - 0s 5ms/step - loss: 204.1205 - val_loss: 1599.0690\n",
      "Epoch 347/500\n",
      "25/25 [==============================] - 0s 4ms/step - loss: 204.1206 - val_loss: 1599.0690\n",
      "Epoch 348/500\n",
      "25/25 [==============================] - 0s 5ms/step - loss: 204.1207 - val_loss: 1599.0690\n",
      "Epoch 349/500\n",
      "25/25 [==============================] - 0s 4ms/step - loss: 204.1208 - val_loss: 1599.0690\n",
      "Epoch 350/500\n",
      "25/25 [==============================] - 0s 4ms/step - loss: 204.1208 - val_loss: 1599.0690\n",
      "Epoch 351/500\n",
      "25/25 [==============================] - 0s 4ms/step - loss: 204.1208 - val_loss: 1599.0690\n",
      "Epoch 352/500\n",
      "25/25 [==============================] - 0s 4ms/step - loss: 204.1209 - val_loss: 1599.0687\n",
      "Epoch 353/500\n",
      "25/25 [==============================] - 0s 4ms/step - loss: 204.1210 - val_loss: 1599.0687\n",
      "Epoch 354/500\n",
      "25/25 [==============================] - 0s 4ms/step - loss: 204.1210 - val_loss: 1599.0682\n",
      "Epoch 355/500\n",
      "25/25 [==============================] - 0s 5ms/step - loss: 204.1211 - val_loss: 1599.0682\n",
      "Epoch 356/500\n",
      "25/25 [==============================] - 0s 4ms/step - loss: 204.1212 - val_loss: 1599.0692\n",
      "Epoch 357/500\n",
      "25/25 [==============================] - 0s 9ms/step - loss: 204.1212 - val_loss: 1599.0693\n",
      "Epoch 358/500\n",
      "25/25 [==============================] - 0s 5ms/step - loss: 204.1212 - val_loss: 1599.0698\n",
      "Epoch 359/500\n",
      "25/25 [==============================] - 0s 5ms/step - loss: 204.1212 - val_loss: 1599.0698\n",
      "Epoch 360/500\n",
      "25/25 [==============================] - 0s 5ms/step - loss: 204.1212 - val_loss: 1599.0702\n",
      "Epoch 361/500\n",
      "25/25 [==============================] - 0s 4ms/step - loss: 204.1213 - val_loss: 1599.0698\n",
      "Epoch 362/500\n",
      "25/25 [==============================] - 0s 4ms/step - loss: 204.1213 - val_loss: 1599.0698\n",
      "Epoch 363/500\n",
      "25/25 [==============================] - 0s 5ms/step - loss: 204.1213 - val_loss: 1599.0697\n",
      "Epoch 364/500\n",
      "25/25 [==============================] - 0s 4ms/step - loss: 204.1213 - val_loss: 1599.0697\n",
      "Epoch 365/500\n",
      "25/25 [==============================] - 0s 5ms/step - loss: 204.1214 - val_loss: 1599.0693\n",
      "Epoch 366/500\n",
      "25/25 [==============================] - 0s 4ms/step - loss: 204.1215 - val_loss: 1599.0693\n",
      "Epoch 367/500\n",
      "25/25 [==============================] - 0s 5ms/step - loss: 204.1215 - val_loss: 1599.0693\n",
      "Epoch 368/500\n",
      "25/25 [==============================] - 0s 4ms/step - loss: 204.1215 - val_loss: 1599.0685\n",
      "Epoch 369/500\n",
      "25/25 [==============================] - 0s 4ms/step - loss: 204.1216 - val_loss: 1599.0685\n",
      "Epoch 370/500\n",
      "25/25 [==============================] - 0s 4ms/step - loss: 204.1217 - val_loss: 1599.0693\n",
      "Epoch 371/500\n",
      "25/25 [==============================] - 0s 4ms/step - loss: 204.1216 - val_loss: 1599.0693\n",
      "Epoch 372/500\n",
      "25/25 [==============================] - 0s 4ms/step - loss: 204.1217 - val_loss: 1599.0693\n",
      "Epoch 373/500\n",
      "25/25 [==============================] - 0s 5ms/step - loss: 204.1217 - val_loss: 1599.0693\n",
      "Epoch 374/500\n",
      "25/25 [==============================] - 0s 4ms/step - loss: 204.1217 - val_loss: 1599.0690\n",
      "Epoch 375/500\n",
      "25/25 [==============================] - 0s 5ms/step - loss: 204.1218 - val_loss: 1599.0693\n",
      "Epoch 376/500\n",
      "25/25 [==============================] - 0s 4ms/step - loss: 204.1218 - val_loss: 1599.0687\n",
      "Epoch 377/500\n",
      "25/25 [==============================] - 0s 4ms/step - loss: 204.1218 - val_loss: 1599.0687\n",
      "Epoch 378/500\n",
      "25/25 [==============================] - 0s 4ms/step - loss: 204.1218 - val_loss: 1599.0682\n",
      "Epoch 379/500\n",
      "25/25 [==============================] - 0s 9ms/step - loss: 204.1219 - val_loss: 1599.0680\n",
      "Epoch 380/500\n",
      "25/25 [==============================] - 0s 5ms/step - loss: 204.1219 - val_loss: 1599.0682\n",
      "Epoch 381/500\n",
      "25/25 [==============================] - 0s 5ms/step - loss: 204.1219 - val_loss: 1599.0687\n",
      "Epoch 382/500\n",
      "25/25 [==============================] - 0s 4ms/step - loss: 204.1220 - val_loss: 1599.0687\n",
      "Epoch 383/500\n",
      "25/25 [==============================] - 0s 7ms/step - loss: 204.1219 - val_loss: 1599.0687\n",
      "Epoch 384/500\n",
      "25/25 [==============================] - 0s 5ms/step - loss: 204.1220 - val_loss: 1599.0687\n",
      "Epoch 385/500\n",
      "25/25 [==============================] - 0s 5ms/step - loss: 204.1220 - val_loss: 1599.0690\n",
      "Epoch 386/500\n",
      "25/25 [==============================] - 0s 5ms/step - loss: 204.1220 - val_loss: 1599.0690\n",
      "Epoch 387/500\n",
      "25/25 [==============================] - 0s 4ms/step - loss: 204.1220 - val_loss: 1599.0687\n",
      "Epoch 388/500\n",
      "25/25 [==============================] - 0s 4ms/step - loss: 204.1221 - val_loss: 1599.0685\n",
      "Epoch 389/500\n",
      "25/25 [==============================] - 0s 5ms/step - loss: 204.1221 - val_loss: 1599.0681\n",
      "Epoch 390/500\n",
      "25/25 [==============================] - 0s 5ms/step - loss: 204.1221 - val_loss: 1599.0680\n",
      "Epoch 391/500\n",
      "25/25 [==============================] - 0s 4ms/step - loss: 204.1222 - val_loss: 1599.0677\n",
      "Epoch 392/500\n",
      "25/25 [==============================] - 0s 4ms/step - loss: 204.1222 - val_loss: 1599.0676\n",
      "Epoch 393/500\n",
      "25/25 [==============================] - 0s 6ms/step - loss: 204.1222 - val_loss: 1599.0675\n",
      "Epoch 394/500\n",
      "25/25 [==============================] - 0s 5ms/step - loss: 204.1223 - val_loss: 1599.0677\n",
      "Epoch 395/500\n",
      "25/25 [==============================] - 0s 4ms/step - loss: 204.1223 - val_loss: 1599.0680\n",
      "Epoch 396/500\n",
      "25/25 [==============================] - 0s 7ms/step - loss: 204.1223 - val_loss: 1599.0682\n",
      "Epoch 397/500\n",
      "25/25 [==============================] - 0s 5ms/step - loss: 204.1223 - val_loss: 1599.0686\n",
      "Epoch 398/500\n",
      "25/25 [==============================] - 0s 6ms/step - loss: 204.1223 - val_loss: 1599.0691\n",
      "Epoch 399/500\n",
      "25/25 [==============================] - 0s 6ms/step - loss: 204.1223 - val_loss: 1599.0696\n",
      "Epoch 400/500\n",
      "25/25 [==============================] - 0s 6ms/step - loss: 204.1223 - val_loss: 1599.0698\n",
      "Epoch 401/500\n",
      "25/25 [==============================] - 0s 8ms/step - loss: 204.1223 - val_loss: 1599.0702\n",
      "Epoch 402/500\n",
      "25/25 [==============================] - 0s 6ms/step - loss: 204.1223 - val_loss: 1599.0707\n",
      "Epoch 403/500\n",
      "25/25 [==============================] - 0s 6ms/step - loss: 204.1223 - val_loss: 1599.0712\n",
      "Epoch 404/500\n",
      "25/25 [==============================] - 0s 6ms/step - loss: 204.1223 - val_loss: 1599.0713\n",
      "Epoch 405/500\n",
      "25/25 [==============================] - 0s 5ms/step - loss: 204.1223 - val_loss: 1599.0719\n",
      "Epoch 406/500\n",
      "25/25 [==============================] - 0s 7ms/step - loss: 204.1223 - val_loss: 1599.0723\n",
      "Epoch 407/500\n",
      "25/25 [==============================] - 0s 5ms/step - loss: 204.1223 - val_loss: 1599.0721\n",
      "Epoch 408/500\n",
      "25/25 [==============================] - 0s 6ms/step - loss: 204.1223 - val_loss: 1599.0718\n",
      "Epoch 409/500\n",
      "25/25 [==============================] - 0s 7ms/step - loss: 204.1223 - val_loss: 1599.0715\n",
      "Epoch 410/500\n",
      "25/25 [==============================] - 0s 6ms/step - loss: 204.1223 - val_loss: 1599.0712\n",
      "Epoch 411/500\n",
      "25/25 [==============================] - 0s 6ms/step - loss: 204.1223 - val_loss: 1599.0708\n",
      "Epoch 412/500\n",
      "25/25 [==============================] - 0s 5ms/step - loss: 204.1223 - val_loss: 1599.0707\n",
      "Epoch 413/500\n",
      "25/25 [==============================] - 0s 5ms/step - loss: 204.1223 - val_loss: 1599.0706\n",
      "Epoch 414/500\n",
      "25/25 [==============================] - 0s 6ms/step - loss: 204.1224 - val_loss: 1599.0706\n",
      "Epoch 415/500\n",
      "25/25 [==============================] - 0s 5ms/step - loss: 204.1224 - val_loss: 1599.0706\n",
      "Epoch 416/500\n",
      "25/25 [==============================] - 0s 6ms/step - loss: 204.1224 - val_loss: 1599.0707\n",
      "Epoch 417/500\n",
      "25/25 [==============================] - 0s 7ms/step - loss: 204.1224 - val_loss: 1599.0708\n",
      "Epoch 418/500\n",
      "25/25 [==============================] - 0s 6ms/step - loss: 204.1224 - val_loss: 1599.0706\n",
      "Epoch 419/500\n",
      "25/25 [==============================] - 0s 6ms/step - loss: 204.1224 - val_loss: 1599.0703\n",
      "Epoch 420/500\n",
      "25/25 [==============================] - 0s 12ms/step - loss: 204.1224 - val_loss: 1599.0702\n",
      "Epoch 421/500\n",
      "25/25 [==============================] - 0s 6ms/step - loss: 204.1225 - val_loss: 1599.0698\n",
      "Epoch 422/500\n",
      "25/25 [==============================] - 0s 6ms/step - loss: 204.1225 - val_loss: 1599.0698\n",
      "Epoch 423/500\n",
      "25/25 [==============================] - 0s 5ms/step - loss: 204.1225 - val_loss: 1599.0691\n",
      "Epoch 424/500\n",
      "25/25 [==============================] - 0s 5ms/step - loss: 204.1225 - val_loss: 1599.0691\n",
      "Epoch 425/500\n",
      "25/25 [==============================] - 0s 4ms/step - loss: 204.1225 - val_loss: 1599.0690\n",
      "Epoch 426/500\n",
      "25/25 [==============================] - 0s 4ms/step - loss: 204.1225 - val_loss: 1599.0687\n",
      "Epoch 427/500\n",
      "25/25 [==============================] - 0s 6ms/step - loss: 204.1225 - val_loss: 1599.0685\n",
      "Epoch 428/500\n",
      "25/25 [==============================] - 0s 5ms/step - loss: 204.1225 - val_loss: 1599.0675\n",
      "Epoch 429/500\n",
      "25/25 [==============================] - 0s 4ms/step - loss: 204.1226 - val_loss: 1599.0664\n",
      "Epoch 430/500\n",
      "25/25 [==============================] - 0s 5ms/step - loss: 204.1226 - val_loss: 1599.0657\n",
      "Epoch 431/500\n",
      "25/25 [==============================] - 0s 4ms/step - loss: 204.1227 - val_loss: 1599.0660\n",
      "Epoch 432/500\n",
      "25/25 [==============================] - 0s 5ms/step - loss: 204.1227 - val_loss: 1599.0654\n",
      "Epoch 433/500\n",
      "25/25 [==============================] - 0s 5ms/step - loss: 204.1227 - val_loss: 1599.0651\n",
      "Epoch 434/500\n",
      "25/25 [==============================] - 0s 5ms/step - loss: 204.1227 - val_loss: 1599.0654\n",
      "Epoch 435/500\n",
      "25/25 [==============================] - 0s 5ms/step - loss: 204.1227 - val_loss: 1599.0654\n",
      "Epoch 436/500\n",
      "25/25 [==============================] - 0s 4ms/step - loss: 204.1228 - val_loss: 1599.0649\n",
      "Epoch 437/500\n",
      "25/25 [==============================] - 0s 4ms/step - loss: 204.1228 - val_loss: 1599.0647\n",
      "Epoch 438/500\n",
      "25/25 [==============================] - 0s 4ms/step - loss: 204.1228 - val_loss: 1599.0647\n",
      "Epoch 439/500\n",
      "25/25 [==============================] - 0s 5ms/step - loss: 204.1228 - val_loss: 1599.0642\n",
      "Epoch 440/500\n",
      "25/25 [==============================] - 0s 5ms/step - loss: 204.1228 - val_loss: 1599.0635\n",
      "Epoch 441/500\n",
      "25/25 [==============================] - 0s 4ms/step - loss: 204.1229 - val_loss: 1599.0631\n",
      "Epoch 442/500\n",
      "25/25 [==============================] - 0s 4ms/step - loss: 204.1229 - val_loss: 1599.0631\n",
      "Epoch 443/500\n",
      "25/25 [==============================] - 0s 14ms/step - loss: 204.1229 - val_loss: 1599.0634\n",
      "Epoch 444/500\n",
      "25/25 [==============================] - 0s 7ms/step - loss: 204.1229 - val_loss: 1599.0640\n",
      "Epoch 445/500\n",
      "25/25 [==============================] - 0s 7ms/step - loss: 204.1229 - val_loss: 1599.0642\n",
      "Epoch 446/500\n",
      "25/25 [==============================] - 0s 9ms/step - loss: 204.1229 - val_loss: 1599.0647\n",
      "Epoch 447/500\n",
      "25/25 [==============================] - 0s 7ms/step - loss: 204.1229 - val_loss: 1599.0647\n",
      "Epoch 448/500\n",
      "25/25 [==============================] - 0s 6ms/step - loss: 204.1229 - val_loss: 1599.0647\n",
      "Epoch 449/500\n",
      "25/25 [==============================] - 0s 6ms/step - loss: 204.1229 - val_loss: 1599.0649\n",
      "Epoch 450/500\n",
      "25/25 [==============================] - 0s 6ms/step - loss: 204.1229 - val_loss: 1599.0649\n",
      "Epoch 451/500\n",
      "25/25 [==============================] - 0s 5ms/step - loss: 204.1229 - val_loss: 1599.0649\n",
      "Epoch 452/500\n",
      "25/25 [==============================] - 0s 4ms/step - loss: 204.1229 - val_loss: 1599.0652\n",
      "Epoch 453/500\n",
      "25/25 [==============================] - 0s 5ms/step - loss: 204.1229 - val_loss: 1599.0656\n",
      "Epoch 454/500\n",
      "25/25 [==============================] - 0s 4ms/step - loss: 204.1229 - val_loss: 1599.0656\n",
      "Epoch 455/500\n",
      "25/25 [==============================] - 0s 5ms/step - loss: 204.1229 - val_loss: 1599.0657\n",
      "Epoch 456/500\n",
      "25/25 [==============================] - 0s 5ms/step - loss: 204.1229 - val_loss: 1599.0660\n",
      "Epoch 457/500\n",
      "25/25 [==============================] - 0s 6ms/step - loss: 204.1228 - val_loss: 1599.0667\n",
      "Epoch 458/500\n",
      "25/25 [==============================] - 0s 5ms/step - loss: 204.1228 - val_loss: 1599.0673\n",
      "Epoch 459/500\n",
      "25/25 [==============================] - 0s 4ms/step - loss: 204.1228 - val_loss: 1599.0676\n",
      "Epoch 460/500\n",
      "25/25 [==============================] - 0s 4ms/step - loss: 204.1228 - val_loss: 1599.0681\n",
      "Epoch 461/500\n",
      "25/25 [==============================] - 0s 5ms/step - loss: 204.1228 - val_loss: 1599.0686\n",
      "Epoch 462/500\n",
      "25/25 [==============================] - 0s 5ms/step - loss: 204.1228 - val_loss: 1599.0693\n",
      "Epoch 463/500\n",
      "25/25 [==============================] - 0s 10ms/step - loss: 204.1227 - val_loss: 1599.0702\n",
      "Epoch 464/500\n",
      "25/25 [==============================] - 0s 6ms/step - loss: 204.1228 - val_loss: 1599.0703\n",
      "Epoch 465/500\n",
      "25/25 [==============================] - 0s 6ms/step - loss: 204.1227 - val_loss: 1599.0707\n",
      "Epoch 466/500\n",
      "25/25 [==============================] - 0s 6ms/step - loss: 204.1227 - val_loss: 1599.0706\n",
      "Epoch 467/500\n",
      "25/25 [==============================] - 0s 5ms/step - loss: 204.1227 - val_loss: 1599.0706\n",
      "Epoch 468/500\n",
      "25/25 [==============================] - 0s 5ms/step - loss: 204.1227 - val_loss: 1599.0703\n",
      "Epoch 469/500\n",
      "25/25 [==============================] - 0s 5ms/step - loss: 204.1227 - val_loss: 1599.0706\n",
      "Epoch 470/500\n",
      "25/25 [==============================] - 0s 4ms/step - loss: 204.1227 - val_loss: 1599.0706\n",
      "Epoch 471/500\n",
      "25/25 [==============================] - 0s 5ms/step - loss: 204.1227 - val_loss: 1599.0706\n",
      "Epoch 472/500\n",
      "25/25 [==============================] - 0s 5ms/step - loss: 204.1227 - val_loss: 1599.0706\n",
      "Epoch 473/500\n",
      "25/25 [==============================] - 0s 5ms/step - loss: 204.1227 - val_loss: 1599.0703\n",
      "Epoch 474/500\n",
      "25/25 [==============================] - 0s 6ms/step - loss: 204.1227 - val_loss: 1599.0703\n",
      "Epoch 475/500\n",
      "25/25 [==============================] - 0s 5ms/step - loss: 204.1227 - val_loss: 1599.0706\n",
      "Epoch 476/500\n",
      "25/25 [==============================] - 0s 6ms/step - loss: 204.1227 - val_loss: 1599.0707\n",
      "Epoch 477/500\n",
      "25/25 [==============================] - 0s 5ms/step - loss: 204.1227 - val_loss: 1599.0706\n",
      "Epoch 478/500\n",
      "25/25 [==============================] - 0s 6ms/step - loss: 204.1227 - val_loss: 1599.0706\n",
      "Epoch 479/500\n",
      "25/25 [==============================] - 0s 5ms/step - loss: 204.1227 - val_loss: 1599.0712\n",
      "Epoch 480/500\n",
      "25/25 [==============================] - 0s 6ms/step - loss: 204.1227 - val_loss: 1599.0715\n",
      "Epoch 481/500\n",
      "25/25 [==============================] - 0s 7ms/step - loss: 204.1227 - val_loss: 1599.0717\n",
      "Epoch 482/500\n",
      "25/25 [==============================] - 0s 8ms/step - loss: 204.1226 - val_loss: 1599.0717\n",
      "Epoch 483/500\n",
      "25/25 [==============================] - 0s 11ms/step - loss: 204.1227 - val_loss: 1599.0717\n",
      "Epoch 484/500\n",
      "25/25 [==============================] - 0s 7ms/step - loss: 204.1227 - val_loss: 1599.0708\n",
      "Epoch 485/500\n",
      "25/25 [==============================] - 0s 7ms/step - loss: 204.1227 - val_loss: 1599.0715\n",
      "Epoch 486/500\n",
      "25/25 [==============================] - 0s 7ms/step - loss: 204.1227 - val_loss: 1599.0713\n",
      "Epoch 487/500\n",
      "25/25 [==============================] - 0s 6ms/step - loss: 204.1227 - val_loss: 1599.0715\n",
      "Epoch 488/500\n",
      "25/25 [==============================] - 0s 6ms/step - loss: 204.1227 - val_loss: 1599.0717\n",
      "Epoch 489/500\n",
      "25/25 [==============================] - 0s 6ms/step - loss: 204.1227 - val_loss: 1599.0715\n",
      "Epoch 490/500\n",
      "25/25 [==============================] - 0s 6ms/step - loss: 204.1227 - val_loss: 1599.0718\n",
      "Epoch 491/500\n",
      "25/25 [==============================] - 0s 6ms/step - loss: 204.1227 - val_loss: 1599.0717\n",
      "Epoch 492/500\n",
      "25/25 [==============================] - 0s 6ms/step - loss: 204.1227 - val_loss: 1599.0717\n",
      "Epoch 493/500\n",
      "25/25 [==============================] - 0s 6ms/step - loss: 204.1227 - val_loss: 1599.0717\n",
      "Epoch 494/500\n",
      "25/25 [==============================] - 0s 5ms/step - loss: 204.1227 - val_loss: 1599.0715\n",
      "Epoch 495/500\n",
      "25/25 [==============================] - 0s 5ms/step - loss: 204.1227 - val_loss: 1599.0715\n",
      "Epoch 496/500\n",
      "25/25 [==============================] - 0s 5ms/step - loss: 204.1227 - val_loss: 1599.0715\n",
      "Epoch 497/500\n",
      "25/25 [==============================] - 0s 6ms/step - loss: 204.1227 - val_loss: 1599.0715\n",
      "Epoch 498/500\n",
      "25/25 [==============================] - 0s 6ms/step - loss: 204.1227 - val_loss: 1599.0715\n",
      "Epoch 499/500\n",
      "25/25 [==============================] - 0s 5ms/step - loss: 204.1227 - val_loss: 1599.0715\n",
      "Epoch 500/500\n",
      "25/25 [==============================] - 0s 6ms/step - loss: 204.1227 - val_loss: 1599.0715\n"
     ]
    }
   ],
   "source": [
    "C0 = tf.Variable(86.8407, name=\"C0\", trainable=True, dtype=tf.float32)\n",
    "K0 = tf.Variable(-0.0015, name=\"K0\", trainable=True, dtype=tf.float32)\n",
    "K1 = tf.Variable(-0.0001, name=\"K1\", trainable=True, dtype=tf.float32)\n",
    "a = tf.Variable(0.0000, name=\"a\", trainable=True, dtype=tf.float32)\n",
    "b = tf.Variable(0.0118, name=\"b\", trainable=True, dtype=tf.float32)\n",
    "c = tf.Variable(2.5775, name=\"c\", trainable=True, dtype=tf.float32)\n",
    "\n",
    "splitr = 0.8\n",
    "\n",
    "\n",
    "def loss_fn(y_true, y_pred):\n",
    "    squared_difference = tf.square(y_true[:, 0] - y_pred[:, 0])\n",
    "    #squared_difference2 = tf.square(y_true[:, 2]-y_pred[:, 2])\n",
    "    #squared_difference1 = tf.square(y_true[:, 1]-y_pred[:, 1])\n",
    "    epsilon = 1\n",
    "    squared_difference3 = tf.square(\n",
    "        y_pred[:, 1] - (\n",
    "            y_pred[:, 0] * (\n",
    "                K0 - K1 * (\n",
    "                    9 * a * tf.math.log((y_pred[:, 0] + epsilon) / C0) / (K0 - K1 * c)**2 +\n",
    "                    4 * b * tf.math.log((y_pred[:, 0] + epsilon) / C0) / (K0 - K1 * c) + c\n",
    "                )\n",
    "            )\n",
    "        )\n",
    "    )\n",
    "    return tf.reduce_mean(squared_difference, axis=-1) + 0.2*tf.reduce_mean(squared_difference3, axis=-1)\n",
    "model = Sequential()\n",
    "model.add(LSTM(100, input_shape=(trainX.shape[1], trainX.shape[2])))\n",
    "model.add(Dense(60))\n",
    "model.compile(loss=loss_fn, optimizer='adam')\n",
    "history = model.fit(trainX[:int(splitr*trainX.shape[0])], trainy[:int(splitr*trainX.shape[0])], epochs=500, batch_size=64, validation_data=(trainX[int(splitr*trainX.shape[0]):trainX.shape[0]], trainy[int(splitr*trainX.shape[0]):trainX.shape[0]]), shuffle=False)"
   ]
  },
  {
   "cell_type": "code",
   "execution_count": 19,
   "metadata": {
    "colab": {
     "base_uri": "https://localhost:8080/"
    },
    "id": "yJL101rPyuoT",
    "outputId": "239ff2b1-c186-423a-d316-939dfdd7c793"
   },
   "outputs": [
    {
     "name": "stdout",
     "output_type": "stream",
     "text": [
      "1/1 [==============================] - 1s 505ms/step\n"
     ]
    }
   ],
   "source": [
    "forecast_without_mc = forecastX\n",
    "yhat_without_mc = model.predict(forecast_without_mc) # Step Ahead Prediction\n",
    "forecast_without_mc = forecast_without_mc.reshape((forecast_without_mc.shape[0], forecast_without_mc.shape[2])) # Historical Input"
   ]
  },
  {
   "cell_type": "code",
   "execution_count": 20,
   "metadata": {
    "colab": {
     "base_uri": "https://localhost:8080/"
    },
    "id": "g9dQELcJ8wbp",
    "outputId": "4dc7671b-b1a8-48d5-8744-a86f98446109"
   },
   "outputs": [
    {
     "data": {
      "text/plain": [
       "(1, 1, 251)"
      ]
     },
     "execution_count": 20,
     "metadata": {},
     "output_type": "execute_result"
    }
   ],
   "source": [
    "forecastX.shape"
   ]
  },
  {
   "cell_type": "code",
   "execution_count": 21,
   "metadata": {
    "colab": {
     "base_uri": "https://localhost:8080/"
    },
    "id": "IS2kyIKG1Kbr",
    "outputId": "f31b3485-8e26-452f-9298-ea8bf7e80ad1"
   },
   "outputs": [
    {
     "data": {
      "text/plain": [
       "(1, 251)"
      ]
     },
     "execution_count": 21,
     "metadata": {},
     "output_type": "execute_result"
    }
   ],
   "source": [
    "forecast_without_mc.shape"
   ]
  },
  {
   "cell_type": "code",
   "execution_count": 22,
   "metadata": {
    "id": "0u6VIzaDyuoT"
   },
   "outputs": [],
   "source": [
    "inv_yhat_without_mc = np.concatenate((forecast_without_mc, yhat_without_mc), axis=1) # Concatenation of predicted values with Historical Data\n",
    "#inv_yhat_without_mc = scaler.inverse_transform(inv_yhat_without_mc) # Transform labels back to original encoding"
   ]
  },
  {
   "cell_type": "code",
   "execution_count": 23,
   "metadata": {
    "colab": {
     "base_uri": "https://localhost:8080/"
    },
    "id": "EUEcw0LX07oU",
    "outputId": "cfc32397-9c37-4b43-d087-584bb31c3dcc"
   },
   "outputs": [
    {
     "data": {
      "text/plain": [
       "(1, 311)"
      ]
     },
     "execution_count": 23,
     "metadata": {},
     "output_type": "execute_result"
    }
   ],
   "source": [
    "inv_yhat_without_mc.shape"
   ]
  },
  {
   "cell_type": "code",
   "execution_count": 24,
   "metadata": {
    "id": "31OWVbSh_305"
   },
   "outputs": [],
   "source": [
    "fforecast = inv_yhat_without_mc[:,-300:]"
   ]
  },
  {
   "cell_type": "code",
   "execution_count": 25,
   "metadata": {},
   "outputs": [
    {
     "data": {
      "text/plain": [
       "(1, 300)"
      ]
     },
     "execution_count": 25,
     "metadata": {},
     "output_type": "execute_result"
    }
   ],
   "source": [
    "fforecast.shape"
   ]
  },
  {
   "cell_type": "code",
   "execution_count": 26,
   "metadata": {
    "id": "BlpGH2FOAiRF"
   },
   "outputs": [],
   "source": [
    "final_forecast = fforecast[:,0:300:3]"
   ]
  },
  {
   "cell_type": "code",
   "execution_count": 27,
   "metadata": {},
   "outputs": [
    {
     "data": {
      "text/plain": [
       "(1, 300)"
      ]
     },
     "execution_count": 27,
     "metadata": {},
     "output_type": "execute_result"
    }
   ],
   "source": [
    "fforecast.shape"
   ]
  },
  {
   "cell_type": "code",
   "execution_count": 28,
   "metadata": {
    "id": "CXkgkj_LBk_t"
   },
   "outputs": [],
   "source": [
    "# code to replace all negative value with 0\n",
    "final_forecast[final_forecast<0] = 0"
   ]
  },
  {
   "cell_type": "code",
   "execution_count": 29,
   "metadata": {},
   "outputs": [
    {
     "data": {
      "text/plain": [
       "array([[6.91282213e+01, 6.88509104e+01, 6.85735994e+01, 6.82962885e+01,\n",
       "        7.49060364e+01, 1.22350466e+00, 3.47051203e-01, 3.40441880e-02,\n",
       "        0.00000000e+00, 0.00000000e+00, 0.00000000e+00, 3.58575761e-01,\n",
       "        0.00000000e+00, 6.94215415e+01, 6.93219701e+01, 6.90768674e+01,\n",
       "        0.00000000e+00, 1.03676066e-01, 6.96633053e+01, 6.95624650e+01,\n",
       "        6.94616247e+01, 6.93607843e+01, 6.91898459e+01, 6.89125350e+01,\n",
       "        6.86352241e+01, 6.83579132e+01, 6.80371849e+01, 7.12585807e-01,\n",
       "        2.52054334e-01, 6.93010271e+01, 6.90255135e+01, 6.87482026e+01,\n",
       "        6.84708917e+01, 6.81912465e+01, 6.78130952e+01, 6.74349440e+01,\n",
       "        6.70567927e+01, 6.66886088e+01, 0.00000000e+00, 0.00000000e+00,\n",
       "        0.00000000e+00, 0.00000000e+00, 2.57989764e-01, 0.00000000e+00,\n",
       "        0.00000000e+00, 0.00000000e+00, 3.23001921e-01, 6.84195378e+01,\n",
       "        6.81212185e+01, 0.00000000e+00, 0.00000000e+00, 6.93234360e+01,\n",
       "        6.90871382e+01, 6.88098273e+01, 6.85325163e+01, 6.82552054e+01,\n",
       "        6.78971289e+01, 6.75189776e+01, 6.71408263e+01, 6.67626751e+01,\n",
       "        2.91491540e-01, 0.00000000e+00, 6.83671839e+01, 6.80511905e+01,\n",
       "        6.76730392e+01, 6.72948880e+01, 6.69167367e+01, 6.98908030e+01,\n",
       "        6.97395425e+01, 6.94776564e+01, 0.00000000e+00, 0.00000000e+00,\n",
       "        6.24333203e-01, 5.88982048e+01, 1.35703892e-01, 3.07033718e-01,\n",
       "        0.00000000e+00, 0.00000000e+00, 2.67281473e-01, 1.87531620e-01,\n",
       "        6.90436859e+01, 8.22603524e-01, 3.25669110e-01, 0.00000000e+00,\n",
       "        0.00000000e+00, 2.25862324e-01, 0.00000000e+00, 0.00000000e+00,\n",
       "        0.00000000e+00, 4.64896485e-02, 0.00000000e+00, 6.78934038e-01,\n",
       "        0.00000000e+00, 0.00000000e+00, 8.19440722e-01, 0.00000000e+00,\n",
       "        1.38352978e+00, 1.21409142e+00, 0.00000000e+00, 0.00000000e+00]])"
      ]
     },
     "execution_count": 29,
     "metadata": {},
     "output_type": "execute_result"
    }
   ],
   "source": [
    "final_forecast"
   ]
  },
  {
   "cell_type": "code",
   "execution_count": 30,
   "metadata": {},
   "outputs": [
    {
     "data": {
      "text/plain": [
       "(1, 100)"
      ]
     },
     "execution_count": 30,
     "metadata": {},
     "output_type": "execute_result"
    }
   ],
   "source": [
    "final_forecast.shape"
   ]
  },
  {
   "cell_type": "code",
   "execution_count": 31,
   "metadata": {},
   "outputs": [
    {
     "data": {
      "text/plain": [
       "(100,)"
      ]
     },
     "execution_count": 31,
     "metadata": {},
     "output_type": "execute_result"
    }
   ],
   "source": [
    "test.shape"
   ]
  },
  {
   "cell_type": "code",
   "execution_count": 32,
   "metadata": {},
   "outputs": [],
   "source": [
    "training_set = np.array(training_set)\n",
    "test = np.array(test)\n",
    "final_forecast = np.array(final_forecast.squeeze(0))"
   ]
  },
  {
   "cell_type": "code",
   "execution_count": 33,
   "metadata": {},
   "outputs": [
    {
     "data": {
      "text/plain": [
       "array([60.38458701, 60.37666188, 60.36873676, 60.36081164, 60.35288652,\n",
       "       60.3449614 , 60.33703628, 60.32911116, 60.32118604, 60.31326091,\n",
       "       60.30533579, 60.29741067, 60.28948555, 60.28156043, 60.27363531,\n",
       "       60.26571019, 60.25778507, 60.24985994, 60.24193482, 60.2340097 ,\n",
       "       60.22608458, 60.21815946, 60.21023434, 60.20230922, 60.1943841 ,\n",
       "       60.18645897, 60.17853385, 60.17060873, 60.16268361, 60.15475849,\n",
       "       60.14683337, 60.13890825, 60.13098312, 60.123058  , 60.11513288,\n",
       "       60.10720776, 60.09928264, 60.09135752, 60.0834324 , 60.07550728,\n",
       "       60.06758215, 60.05965703, 60.05173191, 60.04380679, 60.03588167,\n",
       "       60.02795655, 60.02003143, 60.01210631, 60.00418118, 59.99625606,\n",
       "       59.98833094, 59.98040582, 59.9724807 , 59.96455558, 59.95663046,\n",
       "       59.94870534, 59.94078021, 59.93285509, 59.92492997, 59.91700485,\n",
       "       59.90907973, 59.90115461, 59.89322949, 59.88530437, 59.87737924,\n",
       "       59.86945412, 59.861529  , 59.85360388, 59.84567876, 59.83775364,\n",
       "       59.82982852, 59.8219034 , 59.81397827, 59.80605315, 59.79812803,\n",
       "       59.79020291, 59.78227779, 59.77435267, 59.76642755, 59.75850243,\n",
       "       59.7505773 , 59.74265218, 59.73472706, 59.72680194, 59.71887682,\n",
       "       59.7109517 , 59.70302658, 59.69510146, 59.68717633, 59.67925121,\n",
       "       59.67132609, 59.66340097, 59.65547585, 59.64755073, 59.63962561,\n",
       "       59.63170049, 59.62377536, 59.61585024, 59.60792512, 59.6       ])"
      ]
     },
     "execution_count": 33,
     "metadata": {},
     "output_type": "execute_result"
    }
   ],
   "source": [
    "test"
   ]
  },
  {
   "cell_type": "code",
   "execution_count": 34,
   "metadata": {},
   "outputs": [
    {
     "data": {
      "text/plain": [
       "(100,)"
      ]
     },
     "execution_count": 34,
     "metadata": {},
     "output_type": "execute_result"
    }
   ],
   "source": [
    "test.shape"
   ]
  },
  {
   "cell_type": "code",
   "execution_count": 35,
   "metadata": {},
   "outputs": [
    {
     "data": {
      "text/plain": [
       "(100,)"
      ]
     },
     "execution_count": 35,
     "metadata": {},
     "output_type": "execute_result"
    }
   ],
   "source": [
    "final_forecast.shape"
   ]
  },
  {
   "cell_type": "code",
   "execution_count": 36,
   "metadata": {},
   "outputs": [
    {
     "data": {
      "text/plain": [
       "(100,)"
      ]
     },
     "execution_count": 36,
     "metadata": {},
     "output_type": "execute_result"
    }
   ],
   "source": [
    "test.shape"
   ]
  },
  {
   "cell_type": "code",
   "execution_count": 37,
   "metadata": {},
   "outputs": [
    {
     "name": "stdout",
     "output_type": "stream",
     "text": [
      "43.86413209565537\n",
      "35.59411786534154\n"
     ]
    }
   ],
   "source": [
    "import math\n",
    "MSE = np.square(np.subtract(np.array(test),np.array(final_forecast))).mean()   \n",
    "rsme = math.sqrt(MSE)\n",
    "print(rsme)  \n",
    "MAE = np.abs(np.subtract(np.array(test),np.array(final_forecast))).mean()   \n",
    "mae = MAE\n",
    "print(mae)"
   ]
  }
 ],
 "metadata": {
  "colab": {
   "provenance": []
  },
  "kernelspec": {
   "display_name": "Python 3",
   "language": "python",
   "name": "python3"
  },
  "language_info": {
   "codemirror_mode": {
    "name": "ipython",
    "version": 3
   },
   "file_extension": ".py",
   "mimetype": "text/x-python",
   "name": "python",
   "nbconvert_exporter": "python",
   "pygments_lexer": "ipython3",
   "version": "3.9.13"
  }
 },
 "nbformat": 4,
 "nbformat_minor": 0
}
