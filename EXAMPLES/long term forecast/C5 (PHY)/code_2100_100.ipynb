{
 "cells": [
  {
   "cell_type": "markdown",
   "metadata": {
    "id": "pCGKeZ2gyuoQ"
   },
   "source": [
    "_Importing Required Libraries_"
   ]
  },
  {
   "cell_type": "code",
   "execution_count": 1,
   "metadata": {
    "colab": {
     "base_uri": "https://localhost:8080/"
    },
    "id": "A-6LN-zXiLcM",
    "outputId": "4de610a4-f8b8-4f49-c6c0-89de299ccedc"
   },
   "outputs": [
    {
     "name": "stdout",
     "output_type": "stream",
     "text": [
      "Requirement already satisfied: hampel in c:\\users\\anurag dutta\\appdata\\local\\packages\\pythonsoftwarefoundation.python.3.9_qbz5n2kfra8p0\\localcache\\local-packages\\python39\\site-packages (0.0.5)\n",
      "Requirement already satisfied: numpy in c:\\users\\anurag dutta\\appdata\\local\\packages\\pythonsoftwarefoundation.python.3.9_qbz5n2kfra8p0\\localcache\\local-packages\\python39\\site-packages (from hampel) (1.26.4)\n",
      "Requirement already satisfied: pandas in c:\\users\\anurag dutta\\appdata\\local\\packages\\pythonsoftwarefoundation.python.3.9_qbz5n2kfra8p0\\localcache\\local-packages\\python39\\site-packages (from hampel) (1.5.2)\n",
      "Requirement already satisfied: python-dateutil>=2.8.1 in c:\\users\\anurag dutta\\appdata\\local\\packages\\pythonsoftwarefoundation.python.3.9_qbz5n2kfra8p0\\localcache\\local-packages\\python39\\site-packages (from pandas->hampel) (2.8.2)\n",
      "Requirement already satisfied: pytz>=2020.1 in c:\\users\\anurag dutta\\appdata\\local\\packages\\pythonsoftwarefoundation.python.3.9_qbz5n2kfra8p0\\localcache\\local-packages\\python39\\site-packages (from pandas->hampel) (2023.3.post1)\n",
      "Requirement already satisfied: six>=1.5 in c:\\users\\anurag dutta\\appdata\\local\\packages\\pythonsoftwarefoundation.python.3.9_qbz5n2kfra8p0\\localcache\\local-packages\\python39\\site-packages (from python-dateutil>=2.8.1->pandas->hampel) (1.16.0)\n",
      "Note: you may need to restart the kernel to use updated packages.\n"
     ]
    },
    {
     "name": "stderr",
     "output_type": "stream",
     "text": [
      "\n",
      "[notice] A new release of pip is available: 24.2 -> 24.3.1\n",
      "[notice] To update, run: C:\\Users\\Anurag Dutta\\AppData\\Local\\Microsoft\\WindowsApps\\PythonSoftwareFoundation.Python.3.9_qbz5n2kfra8p0\\python.exe -m pip install --upgrade pip\n"
     ]
    }
   ],
   "source": [
    "pip install hampel"
   ]
  },
  {
   "cell_type": "code",
   "execution_count": 2,
   "metadata": {
    "id": "By_d9uXpaFvZ"
   },
   "outputs": [],
   "source": [
    "from keras.models import Sequential\n",
    "from keras.layers import Dense\n",
    "from keras.layers import LSTM\n",
    "from keras.layers import Dropout\n",
    "import keras\n",
    "import tensorflow as tf\n",
    "from hampel import hampel\n",
    "import numpy as np\n",
    "import matplotlib.pyplot as plt\n",
    "import pandas as pd\n",
    "from sklearn.preprocessing import MinMaxScaler\n",
    "from sklearn.metrics import mean_squared_error, mean_absolute_error\n",
    "from math import sqrt\n",
    "from matplotlib import pyplot\n",
    "from numpy import array"
   ]
  },
  {
   "cell_type": "markdown",
   "metadata": {
    "id": "JyOjBMFayuoR"
   },
   "source": [
    "## Pretraining"
   ]
  },
  {
   "cell_type": "markdown",
   "metadata": {
    "id": "-5QqIY_GyuoR"
   },
   "source": [
    "The `capa_intermittency.dat` feeds the model with the dynamics of the Capacitor"
   ]
  },
  {
   "cell_type": "code",
   "execution_count": 3,
   "metadata": {
    "id": "9dV4a8yfyuoR"
   },
   "outputs": [],
   "source": [
    "data = np.genfromtxt('capa_intermittency.dat')\n",
    "training_set = pd.DataFrame(data).reset_index(drop=True)\n",
    "training_set = training_set.iloc[:,0]"
   ]
  },
  {
   "cell_type": "markdown",
   "metadata": {
    "id": "i7easoxByuoR"
   },
   "source": [
    "## Computing the Gradient"
   ]
  },
  {
   "cell_type": "markdown",
   "metadata": {
    "id": "5SnyolJTyuoR"
   },
   "source": [
    "_Calculating the value of_ $\\frac{dx}{dt}$"
   ]
  },
  {
   "cell_type": "code",
   "execution_count": 4,
   "metadata": {
    "colab": {
     "base_uri": "https://localhost:8080/"
    },
    "id": "wmIbVfIvyuoR",
    "outputId": "aa4e3136-c854-465d-d2e9-81cfd546e440"
   },
   "outputs": [
    {
     "name": "stdout",
     "output_type": "stream",
     "text": [
      "1.0\n",
      "1        0.000298\n",
      "2        0.000298\n",
      "3        0.000297\n",
      "4        0.000297\n",
      "5        0.000297\n",
      "           ...   \n",
      "9996     0.000018\n",
      "9997     0.000018\n",
      "9998     0.000018\n",
      "9999     0.000018\n",
      "10000    0.000018\n",
      "Name: 0, Length: 10000, dtype: float64\n"
     ]
    }
   ],
   "source": [
    "t_diff = 1\n",
    "print(training_set.max())\n",
    "gradient_t = (training_set.diff()/t_diff).iloc[1:] # dx/dt\n",
    "print(gradient_t)"
   ]
  },
  {
   "cell_type": "markdown",
   "metadata": {
    "id": "_2eVeeoxyuoS"
   },
   "source": [
    "## Loading Datasets"
   ]
  },
  {
   "cell_type": "code",
   "execution_count": 5,
   "metadata": {
    "id": "0J-NKyIEyuoS"
   },
   "outputs": [
    {
     "data": {
      "text/plain": [
       "0       89.140000\n",
       "1       88.911429\n",
       "2       88.682857\n",
       "3       88.454286\n",
       "4       88.225714\n",
       "          ...    \n",
       "2195    62.009237\n",
       "2196    62.001312\n",
       "2197    61.993387\n",
       "2198    61.985461\n",
       "2199    61.977536\n",
       "Name: C5, Length: 2200, dtype: float64"
      ]
     },
     "execution_count": 5,
     "metadata": {},
     "output_type": "execute_result"
    }
   ],
   "source": [
    "data = pd.read_csv(\"c5_interpolated_2100_100.csv\")\n",
    "training_set = data.iloc[:, 1]\n",
    "training_set"
   ]
  },
  {
   "cell_type": "code",
   "execution_count": 6,
   "metadata": {
    "colab": {
     "base_uri": "https://localhost:8080/"
    },
    "id": "-CbNUhJ74UqF",
    "outputId": "20f562d8-8247-49cc-b9c3-00eca5e13e2d"
   },
   "outputs": [
    {
     "data": {
      "text/plain": [
       "0       89.140000\n",
       "1       88.911429\n",
       "2       88.682857\n",
       "3       88.454286\n",
       "4       88.225714\n",
       "          ...    \n",
       "2095     0.000000\n",
       "2096     0.000000\n",
       "2097     0.000000\n",
       "2098     0.000000\n",
       "2099     0.323002\n",
       "Name: C5, Length: 2100, dtype: float64"
      ]
     },
     "execution_count": 6,
     "metadata": {},
     "output_type": "execute_result"
    }
   ],
   "source": [
    "test = training_set.tail(100)\n",
    "test\n",
    "training_set = training_set.head(2100)\n",
    "training_set"
   ]
  },
  {
   "cell_type": "code",
   "execution_count": 7,
   "metadata": {
    "colab": {
     "base_uri": "https://localhost:8080/"
    },
    "id": "X0TwTcq0yuoS",
    "outputId": "37252ed8-d88e-4044-fa7a-922411990b5b"
   },
   "outputs": [
    {
     "name": "stdout",
     "output_type": "stream",
     "text": [
      "0       0.000298\n",
      "1       0.000298\n",
      "2       0.000297\n",
      "3       0.000297\n",
      "4       0.000297\n",
      "          ...   \n",
      "9995    0.000018\n",
      "9996    0.000018\n",
      "9997    0.000018\n",
      "9998    0.000018\n",
      "9999    0.000018\n",
      "Name: 0, Length: 10000, dtype: float64\n"
     ]
    }
   ],
   "source": [
    "training_set = training_set.reset_index(drop=True)\n",
    "gradient_t = gradient_t.reset_index(drop=True)\n",
    "print(gradient_t)"
   ]
  },
  {
   "cell_type": "code",
   "execution_count": 8,
   "metadata": {
    "id": "O2biznZQyuoS"
   },
   "outputs": [],
   "source": [
    "df = pd.concat((training_set, gradient_t), axis=1)\n",
    "df.columns = ['y_t', 'grad_t']"
   ]
  },
  {
   "cell_type": "code",
   "execution_count": 9,
   "metadata": {
    "colab": {
     "base_uri": "https://localhost:8080/",
     "height": 423
    },
    "id": "sk_a5v3tyuoS",
    "outputId": "17563625-e550-45ae-faab-fafa353e44da"
   },
   "outputs": [
    {
     "data": {
      "text/html": [
       "<div>\n",
       "<style scoped>\n",
       "    .dataframe tbody tr th:only-of-type {\n",
       "        vertical-align: middle;\n",
       "    }\n",
       "\n",
       "    .dataframe tbody tr th {\n",
       "        vertical-align: top;\n",
       "    }\n",
       "\n",
       "    .dataframe thead th {\n",
       "        text-align: right;\n",
       "    }\n",
       "</style>\n",
       "<table border=\"1\" class=\"dataframe\">\n",
       "  <thead>\n",
       "    <tr style=\"text-align: right;\">\n",
       "      <th></th>\n",
       "      <th>y_t</th>\n",
       "      <th>grad_t</th>\n",
       "    </tr>\n",
       "  </thead>\n",
       "  <tbody>\n",
       "    <tr>\n",
       "      <th>0</th>\n",
       "      <td>89.140000</td>\n",
       "      <td>0.000298</td>\n",
       "    </tr>\n",
       "    <tr>\n",
       "      <th>1</th>\n",
       "      <td>88.911429</td>\n",
       "      <td>0.000298</td>\n",
       "    </tr>\n",
       "    <tr>\n",
       "      <th>2</th>\n",
       "      <td>88.682857</td>\n",
       "      <td>0.000297</td>\n",
       "    </tr>\n",
       "    <tr>\n",
       "      <th>3</th>\n",
       "      <td>88.454286</td>\n",
       "      <td>0.000297</td>\n",
       "    </tr>\n",
       "    <tr>\n",
       "      <th>4</th>\n",
       "      <td>88.225714</td>\n",
       "      <td>0.000297</td>\n",
       "    </tr>\n",
       "    <tr>\n",
       "      <th>...</th>\n",
       "      <td>...</td>\n",
       "      <td>...</td>\n",
       "    </tr>\n",
       "    <tr>\n",
       "      <th>9995</th>\n",
       "      <td>NaN</td>\n",
       "      <td>0.000018</td>\n",
       "    </tr>\n",
       "    <tr>\n",
       "      <th>9996</th>\n",
       "      <td>NaN</td>\n",
       "      <td>0.000018</td>\n",
       "    </tr>\n",
       "    <tr>\n",
       "      <th>9997</th>\n",
       "      <td>NaN</td>\n",
       "      <td>0.000018</td>\n",
       "    </tr>\n",
       "    <tr>\n",
       "      <th>9998</th>\n",
       "      <td>NaN</td>\n",
       "      <td>0.000018</td>\n",
       "    </tr>\n",
       "    <tr>\n",
       "      <th>9999</th>\n",
       "      <td>NaN</td>\n",
       "      <td>0.000018</td>\n",
       "    </tr>\n",
       "  </tbody>\n",
       "</table>\n",
       "<p>10000 rows × 2 columns</p>\n",
       "</div>"
      ],
      "text/plain": [
       "            y_t    grad_t\n",
       "0     89.140000  0.000298\n",
       "1     88.911429  0.000298\n",
       "2     88.682857  0.000297\n",
       "3     88.454286  0.000297\n",
       "4     88.225714  0.000297\n",
       "...         ...       ...\n",
       "9995        NaN  0.000018\n",
       "9996        NaN  0.000018\n",
       "9997        NaN  0.000018\n",
       "9998        NaN  0.000018\n",
       "9999        NaN  0.000018\n",
       "\n",
       "[10000 rows x 2 columns]"
      ]
     },
     "execution_count": 9,
     "metadata": {},
     "output_type": "execute_result"
    }
   ],
   "source": [
    "df"
   ]
  },
  {
   "cell_type": "markdown",
   "metadata": {
    "id": "-5esyHu5aFvg"
   },
   "source": [
    "## Plot of the External Forcing from Chaotic Differential Equation"
   ]
  },
  {
   "cell_type": "code",
   "execution_count": 10,
   "metadata": {
    "colab": {
     "base_uri": "https://localhost:8080/",
     "height": 447
    },
    "id": "hGnE43tOh-4p",
    "outputId": "fc396503-b624-4fa5-dfbe-f460207405c6"
   },
   "outputs": [
    {
     "data": {
      "text/plain": [
       "<Axes: >"
      ]
     },
     "execution_count": 10,
     "metadata": {},
     "output_type": "execute_result"
    },
    {
     "data": {
      "image/png": "[encoded data removed]",
      "text/plain": [
       "<Figure size 432x288 with 1 Axes>"
      ]
     },
     "metadata": {
      "needs_background": "light"
     },
     "output_type": "display_data"
    }
   ],
   "source": [
    "df.iloc[:, 0].plot()"
   ]
  },
  {
   "cell_type": "code",
   "execution_count": 11,
   "metadata": {
    "colab": {
     "base_uri": "https://localhost:8080/",
     "height": 447
    },
    "id": "ym4xWUUxaFvg",
    "outputId": "ae6a3495-8ce9-437e-ba81-3ed31deedeae"
   },
   "outputs": [
    {
     "name": "stderr",
     "output_type": "stream",
     "text": [
      "C:\\Users\\Anurag Dutta\\AppData\\Local\\Packages\\PythonSoftwareFoundation.Python.3.9_qbz5n2kfra8p0\\LocalCache\\local-packages\\Python39\\site-packages\\pandas\\core\\arraylike.py:402: RuntimeWarning: divide by zero encountered in log\n",
      "  result = getattr(ufunc, method)(*inputs, **kwargs)\n"
     ]
    },
    {
     "data": {
      "text/plain": [
       "<Axes: >"
      ]
     },
     "execution_count": 11,
     "metadata": {},
     "output_type": "execute_result"
    },
    {
     "data": {
      "image/png": "[encoded data removed]",
      "text/plain": [
       "<Figure size 432x288 with 1 Axes>"
      ]
     },
     "metadata": {
      "needs_background": "light"
     },
     "output_type": "display_data"
    }
   ],
   "source": [
    "import numpy as np\n",
    "c0 = 86.8407  # Value for C0\n",
    "K0 = -0.0015  # Value for K0\n",
    "K1 = -0.0001  # Value for K1\n",
    "a = 0.0000    # Value for a\n",
    "b = 0.0118    # Value for b\n",
    "c = 2.5775    # Value for c\n",
    "\n",
    "L = np.minimum(c0, (df.iloc[:, 1] - (df.iloc[:, 0] * (K0 - K1 * (9 * a * np.log(df.iloc[:, 0] / c0) / (K0 - K1 * c)**2 + 4 * b * np.log(df.iloc[:, 0] / c0) / (K0 - K1 * c) + c)))))\n",
    "L.plot()"
   ]
  },
  {
   "cell_type": "markdown",
   "metadata": {
    "id": "9VyEywnwaFvh"
   },
   "source": [
    "## Preprocessing the data into supervised learning"
   ]
  },
  {
   "cell_type": "code",
   "execution_count": 12,
   "metadata": {
    "id": "6V9dXqzdaFvh"
   },
   "outputs": [],
   "source": [
    "# split a sequence into samples\n",
    "def Supervised(data, n_in=1, n_out=1, dropnan=True):\n",
    "    n_vars = 1 if type(data) is list else data.shape[1]\n",
    "    df = pd.DataFrame(data)\n",
    "    cols, names = list(), list()\n",
    "    # input sequence (t-n_in, ... t-1)\n",
    "    for i in range(n_in, 0, -1):\n",
    "        cols.append(df.shift(i))\n",
    "        names += [('var%d(t-%d)' % (j+1, i)) for j in range(n_vars)]\n",
    "    # forecast sequence (t, t+1, ... t+n_out)\n",
    "    for i in range(0, n_out):\n",
    "      cols.append(df.shift(-i))\n",
    "      if i == 0:\n",
    "        names += [('var%d(t)' % (j+1)) for j in range(n_vars)]\n",
    "      else:\n",
    "        names += [('var%d(t+%d)' % (j+1, i)) for j in range(n_vars)]\n",
    "    # put it all together\n",
    "    agg = pd.concat(cols, axis=1)\n",
    "    agg.columns = names\n",
    "    # drop rows with NaN values\n",
    "    if dropnan:\n",
    "       agg.dropna(inplace=True)\n",
    "    return agg"
   ]
  },
  {
   "cell_type": "code",
   "execution_count": 13,
   "metadata": {
    "colab": {
     "base_uri": "https://localhost:8080/"
    },
    "id": "CrzSrT1HnyfH",
    "outputId": "7e75f928-3e47-499d-eac1-51908015ef78"
   },
   "outputs": [
    {
     "name": "stdout",
     "output_type": "stream",
     "text": [
      "     var1(t-350)  var1(t-349)  var1(t-348)  var1(t-347)  var1(t-346)  \\\n",
      "350    89.140000    88.911429    88.682857    88.454286    88.225714   \n",
      "351    88.911429    88.682857    88.454286    88.225714    87.997143   \n",
      "352    88.682857    88.454286    88.225714    87.997143    87.768571   \n",
      "353    88.454286    88.225714    87.997143    87.768571    87.540000   \n",
      "354    88.225714    87.997143    87.768571    87.540000    87.311429   \n",
      "\n",
      "     var1(t-345)  var1(t-344)  var1(t-343)  var1(t-342)  var1(t-341)  ...  \\\n",
      "350    87.997143    87.768571    87.540000    87.311429    87.095798  ...   \n",
      "351    87.768571    87.540000    87.311429    87.095798    87.039776  ...   \n",
      "352    87.540000    87.311429    87.095798    87.039776    86.983754  ...   \n",
      "353    87.311429    87.095798    87.039776    86.983754    86.927731  ...   \n",
      "354    87.095798    87.039776    86.983754    86.927731    86.871709  ...   \n",
      "\n",
      "     var1(t+95)  var2(t+95)  var1(t+96)  var2(t+96)  var1(t+97)  var2(t+97)  \\\n",
      "350   79.161181    0.000263   79.132236    0.000263   79.103291    0.000263   \n",
      "351   79.132236    0.000263   79.103291    0.000263   79.074346    0.000262   \n",
      "352   79.103291    0.000263   79.074346    0.000262   79.045401    0.000262   \n",
      "353   79.074346    0.000262   79.045401    0.000262   79.016457    0.000262   \n",
      "354   79.045401    0.000262   79.016457    0.000262   78.987512    0.000262   \n",
      "\n",
      "     var1(t+98)  var2(t+98)  var1(t+99)  var2(t+99)  \n",
      "350   79.074346    0.000262   79.045401    0.000262  \n",
      "351   79.045401    0.000262   79.016457    0.000262  \n",
      "352   79.016457    0.000262   78.987512    0.000262  \n",
      "353   78.987512    0.000262   78.958567    0.000262  \n",
      "354   78.958567    0.000262   78.929622    0.000262  \n",
      "\n",
      "[5 rows x 551 columns]\n",
      "Index(['var1(t-350)', 'var1(t-349)', 'var1(t-348)', 'var1(t-347)',\n",
      "       'var1(t-346)', 'var1(t-345)', 'var1(t-344)', 'var1(t-343)',\n",
      "       'var1(t-342)', 'var1(t-341)',\n",
      "       ...\n",
      "       'var1(t+95)', 'var2(t+95)', 'var1(t+96)', 'var2(t+96)', 'var1(t+97)',\n",
      "       'var2(t+97)', 'var1(t+98)', 'var2(t+98)', 'var1(t+99)', 'var2(t+99)'],\n",
      "      dtype='object', length=551)\n"
     ]
    }
   ],
   "source": [
    "data = Supervised(df.values, n_in = 350, n_out = 100)\n",
    "\n",
    "\n",
    "cols_to_drop = []\n",
    "for i in range(2, 351):\n",
    "    cols_to_drop.extend([f'var2(t-{i})'])\n",
    "\n",
    "data.drop(cols_to_drop, axis=1, inplace=True)\n",
    "\n",
    "print(data.head())\n",
    "print(data.columns)"
   ]
  },
  {
   "cell_type": "code",
   "execution_count": 14,
   "metadata": {
    "id": "AfPf60oy6Pe4"
   },
   "outputs": [],
   "source": [
    "train = np.array(data[0:len(data)-1])\n",
    "forecast = np.array(data.tail(1))"
   ]
  },
  {
   "cell_type": "code",
   "execution_count": 15,
   "metadata": {
    "id": "WSAafzI37KiT"
   },
   "outputs": [],
   "source": [
    "trainy = train[:,-300:]\n",
    "trainX = train[:,:-300]"
   ]
  },
  {
   "cell_type": "code",
   "execution_count": 16,
   "metadata": {
    "id": "2SrOqVJA7f50"
   },
   "outputs": [],
   "source": [
    "forecasty = forecast[:,-300:]\n",
    "forecastX = forecast[:,:-300]"
   ]
  },
  {
   "cell_type": "code",
   "execution_count": 17,
   "metadata": {
    "colab": {
     "base_uri": "https://localhost:8080/"
    },
    "id": "Qno_k8Nw7saY",
    "outputId": "c4a88db5-d8c6-489f-cdb2-06b24e293cff"
   },
   "outputs": [
    {
     "name": "stdout",
     "output_type": "stream",
     "text": [
      "(1650, 1, 251) (1650, 300) (1, 1, 251)\n"
     ]
    }
   ],
   "source": [
    "trainX = trainX.reshape((trainX.shape[0], 1, trainX.shape[1]))\n",
    "forecastX = forecastX.reshape((forecastX.shape[0], 1, forecastX.shape[1]))\n",
    "print(trainX.shape, trainy.shape, forecastX.shape)"
   ]
  },
  {
   "cell_type": "code",
   "execution_count": 18,
   "metadata": {
    "colab": {
     "base_uri": "https://localhost:8080/"
    },
    "id": "b1Jp2DvNuNFx",
    "outputId": "d0e5b3c4-64f1-438c-eade-8dfeaac8e285"
   },
   "outputs": [
    {
     "name": "stdout",
     "output_type": "stream",
     "text": [
      "Epoch 1/500\n",
      "21/21 [==============================] - 2s 26ms/step - loss: 5132.1611 - val_loss: 3331.8298\n",
      "Epoch 2/500\n",
      "21/21 [==============================] - 0s 4ms/step - loss: 4982.4907 - val_loss: 3261.5015\n",
      "Epoch 3/500\n",
      "21/21 [==============================] - 0s 4ms/step - loss: 4896.5322 - val_loss: 3208.9041\n",
      "Epoch 4/500\n",
      "21/21 [==============================] - 0s 4ms/step - loss: 4814.0615 - val_loss: 3157.1685\n",
      "Epoch 5/500\n",
      "21/21 [==============================] - 0s 4ms/step - loss: 4732.7046 - val_loss: 3106.2656\n",
      "Epoch 6/500\n",
      "21/21 [==============================] - 0s 4ms/step - loss: 4652.4414 - val_loss: 3056.1648\n",
      "Epoch 7/500\n",
      "21/21 [==============================] - 0s 4ms/step - loss: 4573.2432 - val_loss: 3006.8442\n",
      "Epoch 8/500\n",
      "21/21 [==============================] - 0s 4ms/step - loss: 4495.0850 - val_loss: 2958.2864\n",
      "Epoch 9/500\n",
      "21/21 [==============================] - 0s 5ms/step - loss: 4417.9512 - val_loss: 2910.3264\n",
      "Epoch 10/500\n",
      "21/21 [==============================] - 0s 4ms/step - loss: 4335.1880 - val_loss: 2857.1401\n",
      "Epoch 11/500\n",
      "21/21 [==============================] - 0s 3ms/step - loss: 4253.8174 - val_loss: 2807.7080\n",
      "Epoch 12/500\n",
      "21/21 [==============================] - 0s 4ms/step - loss: 4175.1504 - val_loss: 2759.6455\n",
      "Epoch 13/500\n",
      "21/21 [==============================] - 0s 4ms/step - loss: 4098.2778 - val_loss: 2712.7136\n",
      "Epoch 14/500\n",
      "21/21 [==============================] - 0s 4ms/step - loss: 4022.8916 - val_loss: 2666.7678\n",
      "Epoch 15/500\n",
      "21/21 [==============================] - 0s 4ms/step - loss: 3948.8179 - val_loss: 2621.7249\n",
      "Epoch 16/500\n",
      "21/21 [==============================] - 0s 4ms/step - loss: 3875.9539 - val_loss: 2577.5342\n",
      "Epoch 17/500\n",
      "21/21 [==============================] - 0s 4ms/step - loss: 3804.2349 - val_loss: 2534.1592\n",
      "Epoch 18/500\n",
      "21/21 [==============================] - 0s 4ms/step - loss: 3733.6147 - val_loss: 2491.5737\n",
      "Epoch 19/500\n",
      "21/21 [==============================] - 0s 4ms/step - loss: 3664.0576 - val_loss: 2449.7566\n",
      "Epoch 20/500\n",
      "21/21 [==============================] - 0s 4ms/step - loss: 3595.5349 - val_loss: 2408.6895\n",
      "Epoch 21/500\n",
      "21/21 [==============================] - 0s 4ms/step - loss: 3528.0266 - val_loss: 2368.3579\n",
      "Epoch 22/500\n",
      "21/21 [==============================] - 0s 4ms/step - loss: 3461.5081 - val_loss: 2328.7488\n",
      "Epoch 23/500\n",
      "21/21 [==============================] - 0s 4ms/step - loss: 3395.9651 - val_loss: 2289.8486\n",
      "Epoch 24/500\n",
      "21/21 [==============================] - 0s 4ms/step - loss: 3331.3804 - val_loss: 2251.6479\n",
      "Epoch 25/500\n",
      "21/21 [==============================] - 0s 4ms/step - loss: 3267.7397 - val_loss: 2214.1355\n",
      "Epoch 26/500\n",
      "21/21 [==============================] - 0s 4ms/step - loss: 3205.0303 - val_loss: 2177.3018\n",
      "Epoch 27/500\n",
      "21/21 [==============================] - 0s 4ms/step - loss: 3143.2385 - val_loss: 2141.1375\n",
      "Epoch 28/500\n",
      "21/21 [==============================] - 0s 5ms/step - loss: 3082.3528 - val_loss: 2105.6335\n",
      "Epoch 29/500\n",
      "21/21 [==============================] - 0s 4ms/step - loss: 3022.3623 - val_loss: 2070.7825\n",
      "Epoch 30/500\n",
      "21/21 [==============================] - 0s 4ms/step - loss: 2963.2551 - val_loss: 2036.5748\n",
      "Epoch 31/500\n",
      "21/21 [==============================] - 0s 5ms/step - loss: 2905.0215 - val_loss: 2003.0031\n",
      "Epoch 32/500\n",
      "21/21 [==============================] - 0s 4ms/step - loss: 2847.6509 - val_loss: 1970.0591\n",
      "Epoch 33/500\n",
      "21/21 [==============================] - 0s 4ms/step - loss: 2791.1340 - val_loss: 1937.7358\n",
      "Epoch 34/500\n",
      "21/21 [==============================] - 0s 5ms/step - loss: 2735.4604 - val_loss: 1906.0254\n",
      "Epoch 35/500\n",
      "21/21 [==============================] - 0s 4ms/step - loss: 2680.6211 - val_loss: 1874.9213\n",
      "Epoch 36/500\n",
      "21/21 [==============================] - 0s 4ms/step - loss: 2626.6069 - val_loss: 1844.4155\n",
      "Epoch 37/500\n",
      "21/21 [==============================] - 0s 4ms/step - loss: 2573.4084 - val_loss: 1814.5013\n",
      "Epoch 38/500\n",
      "21/21 [==============================] - 0s 5ms/step - loss: 2521.0173 - val_loss: 1785.1716\n",
      "Epoch 39/500\n",
      "21/21 [==============================] - 0s 4ms/step - loss: 2469.4253 - val_loss: 1756.4200\n",
      "Epoch 40/500\n",
      "21/21 [==============================] - 0s 4ms/step - loss: 2418.6221 - val_loss: 1728.2390\n",
      "Epoch 41/500\n",
      "21/21 [==============================] - 0s 4ms/step - loss: 2368.6008 - val_loss: 1700.6227\n",
      "Epoch 42/500\n",
      "21/21 [==============================] - 0s 4ms/step - loss: 2319.3525 - val_loss: 1673.5645\n",
      "Epoch 43/500\n",
      "21/21 [==============================] - 0s 4ms/step - loss: 2270.8687 - val_loss: 1647.0566\n",
      "Epoch 44/500\n",
      "21/21 [==============================] - 0s 4ms/step - loss: 2223.1418 - val_loss: 1621.0944\n",
      "Epoch 45/500\n",
      "21/21 [==============================] - 0s 4ms/step - loss: 2176.1643 - val_loss: 1595.6700\n",
      "Epoch 46/500\n",
      "21/21 [==============================] - 0s 4ms/step - loss: 2129.9265 - val_loss: 1570.7784\n",
      "Epoch 47/500\n",
      "21/21 [==============================] - 0s 4ms/step - loss: 2084.4226 - val_loss: 1546.4120\n",
      "Epoch 48/500\n",
      "21/21 [==============================] - 0s 4ms/step - loss: 2039.6436 - val_loss: 1522.5659\n",
      "Epoch 49/500\n",
      "21/21 [==============================] - 0s 4ms/step - loss: 1995.5817 - val_loss: 1499.2330\n",
      "Epoch 50/500\n",
      "21/21 [==============================] - 0s 4ms/step - loss: 1952.2297 - val_loss: 1476.4077\n",
      "Epoch 51/500\n",
      "21/21 [==============================] - 0s 4ms/step - loss: 1909.5807 - val_loss: 1454.0841\n",
      "Epoch 52/500\n",
      "21/21 [==============================] - 0s 4ms/step - loss: 1867.6263 - val_loss: 1432.2552\n",
      "Epoch 53/500\n",
      "21/21 [==============================] - 0s 4ms/step - loss: 1826.3593 - val_loss: 1410.9164\n",
      "Epoch 54/500\n",
      "21/21 [==============================] - 0s 4ms/step - loss: 1785.7729 - val_loss: 1390.0605\n",
      "Epoch 55/500\n",
      "21/21 [==============================] - 0s 4ms/step - loss: 1745.8591 - val_loss: 1369.6830\n",
      "Epoch 56/500\n",
      "21/21 [==============================] - 0s 4ms/step - loss: 1706.6112 - val_loss: 1349.7766\n",
      "Epoch 57/500\n",
      "21/21 [==============================] - 0s 4ms/step - loss: 1668.0212 - val_loss: 1330.3370\n",
      "Epoch 58/500\n",
      "21/21 [==============================] - 0s 6ms/step - loss: 1630.0834 - val_loss: 1311.3574\n",
      "Epoch 59/500\n",
      "21/21 [==============================] - 0s 6ms/step - loss: 1592.7896 - val_loss: 1292.8322\n",
      "Epoch 60/500\n",
      "21/21 [==============================] - 0s 4ms/step - loss: 1556.1324 - val_loss: 1274.7557\n",
      "Epoch 61/500\n",
      "21/21 [==============================] - 0s 4ms/step - loss: 1520.1062 - val_loss: 1257.1227\n",
      "Epoch 62/500\n",
      "21/21 [==============================] - 0s 5ms/step - loss: 1484.7036 - val_loss: 1239.9276\n",
      "Epoch 63/500\n",
      "21/21 [==============================] - 0s 4ms/step - loss: 1449.9176 - val_loss: 1223.1641\n",
      "Epoch 64/500\n",
      "21/21 [==============================] - 0s 4ms/step - loss: 1415.7413 - val_loss: 1206.8271\n",
      "Epoch 65/500\n",
      "21/21 [==============================] - 0s 4ms/step - loss: 1382.1681 - val_loss: 1190.9113\n",
      "Epoch 66/500\n",
      "21/21 [==============================] - 0s 4ms/step - loss: 1349.1907 - val_loss: 1175.4109\n",
      "Epoch 67/500\n",
      "21/21 [==============================] - 0s 5ms/step - loss: 1316.8032 - val_loss: 1160.3204\n",
      "Epoch 68/500\n",
      "21/21 [==============================] - 0s 3ms/step - loss: 1284.9989 - val_loss: 1145.6346\n",
      "Epoch 69/500\n",
      "21/21 [==============================] - 0s 4ms/step - loss: 1253.7712 - val_loss: 1131.3481\n",
      "Epoch 70/500\n",
      "21/21 [==============================] - 0s 4ms/step - loss: 1223.1130 - val_loss: 1117.4554\n",
      "Epoch 71/500\n",
      "21/21 [==============================] - 0s 4ms/step - loss: 1193.0186 - val_loss: 1103.9512\n",
      "Epoch 72/500\n",
      "21/21 [==============================] - 0s 5ms/step - loss: 1163.4807 - val_loss: 1090.8302\n",
      "Epoch 73/500\n",
      "21/21 [==============================] - 0s 4ms/step - loss: 1134.4933 - val_loss: 1078.0869\n",
      "Epoch 74/500\n",
      "21/21 [==============================] - 0s 5ms/step - loss: 1106.0498 - val_loss: 1065.7163\n",
      "Epoch 75/500\n",
      "21/21 [==============================] - 0s 5ms/step - loss: 1078.1439 - val_loss: 1053.7128\n",
      "Epoch 76/500\n",
      "21/21 [==============================] - 0s 6ms/step - loss: 1050.7695 - val_loss: 1042.0714\n",
      "Epoch 77/500\n",
      "21/21 [==============================] - 0s 5ms/step - loss: 1023.9194 - val_loss: 1030.7866\n",
      "Epoch 78/500\n",
      "21/21 [==============================] - 0s 4ms/step - loss: 997.5881 - val_loss: 1019.8540\n",
      "Epoch 79/500\n",
      "21/21 [==============================] - 0s 5ms/step - loss: 971.7694 - val_loss: 1009.2674\n",
      "Epoch 80/500\n",
      "21/21 [==============================] - 0s 5ms/step - loss: 946.4569 - val_loss: 999.0225\n",
      "Epoch 81/500\n",
      "21/21 [==============================] - 0s 5ms/step - loss: 921.6445 - val_loss: 989.1138\n",
      "Epoch 82/500\n",
      "21/21 [==============================] - 0s 7ms/step - loss: 897.3259 - val_loss: 979.5364\n",
      "Epoch 83/500\n",
      "21/21 [==============================] - 0s 6ms/step - loss: 873.4954 - val_loss: 970.2850\n",
      "Epoch 84/500\n",
      "21/21 [==============================] - 0s 5ms/step - loss: 850.1464 - val_loss: 961.3546\n",
      "Epoch 85/500\n",
      "21/21 [==============================] - 0s 6ms/step - loss: 827.2732 - val_loss: 952.7401\n",
      "Epoch 86/500\n",
      "21/21 [==============================] - 0s 4ms/step - loss: 804.8696 - val_loss: 944.4368\n",
      "Epoch 87/500\n",
      "21/21 [==============================] - 0s 5ms/step - loss: 782.9297 - val_loss: 936.4392\n",
      "Epoch 88/500\n",
      "21/21 [==============================] - 0s 5ms/step - loss: 761.4474 - val_loss: 928.7429\n",
      "Epoch 89/500\n",
      "21/21 [==============================] - 0s 5ms/step - loss: 740.4167 - val_loss: 921.3422\n",
      "Epoch 90/500\n",
      "21/21 [==============================] - 0s 6ms/step - loss: 719.8318 - val_loss: 914.2330\n",
      "Epoch 91/500\n",
      "21/21 [==============================] - 0s 6ms/step - loss: 699.6868 - val_loss: 907.4097\n",
      "Epoch 92/500\n",
      "21/21 [==============================] - 0s 8ms/step - loss: 679.9758 - val_loss: 900.8680\n",
      "Epoch 93/500\n",
      "21/21 [==============================] - 0s 7ms/step - loss: 660.6932 - val_loss: 894.6027\n",
      "Epoch 94/500\n",
      "21/21 [==============================] - 0s 8ms/step - loss: 641.8328 - val_loss: 888.6085\n",
      "Epoch 95/500\n",
      "21/21 [==============================] - 0s 6ms/step - loss: 623.3891 - val_loss: 882.8813\n",
      "Epoch 96/500\n",
      "21/21 [==============================] - 0s 13ms/step - loss: 605.3564 - val_loss: 877.4159\n",
      "Epoch 97/500\n",
      "21/21 [==============================] - 0s 6ms/step - loss: 587.7286 - val_loss: 872.2076\n",
      "Epoch 98/500\n",
      "21/21 [==============================] - 0s 5ms/step - loss: 570.5002 - val_loss: 867.2516\n",
      "Epoch 99/500\n",
      "21/21 [==============================] - 0s 5ms/step - loss: 553.6655 - val_loss: 862.5430\n",
      "Epoch 100/500\n",
      "21/21 [==============================] - 0s 5ms/step - loss: 537.2191 - val_loss: 858.0771\n",
      "Epoch 101/500\n",
      "21/21 [==============================] - 0s 6ms/step - loss: 521.1549 - val_loss: 853.8494\n",
      "Epoch 102/500\n",
      "21/21 [==============================] - 0s 5ms/step - loss: 505.4677 - val_loss: 849.8550\n",
      "Epoch 103/500\n",
      "21/21 [==============================] - 0s 6ms/step - loss: 490.1518 - val_loss: 846.0892\n",
      "Epoch 104/500\n",
      "21/21 [==============================] - 0s 5ms/step - loss: 475.2016 - val_loss: 842.5472\n",
      "Epoch 105/500\n",
      "21/21 [==============================] - 0s 5ms/step - loss: 460.6116 - val_loss: 839.2245\n",
      "Epoch 106/500\n",
      "21/21 [==============================] - 0s 5ms/step - loss: 446.3764 - val_loss: 836.1166\n",
      "Epoch 107/500\n",
      "21/21 [==============================] - 0s 6ms/step - loss: 432.4903 - val_loss: 833.2188\n",
      "Epoch 108/500\n",
      "21/21 [==============================] - 0s 5ms/step - loss: 418.9481 - val_loss: 830.5263\n",
      "Epoch 109/500\n",
      "21/21 [==============================] - 0s 5ms/step - loss: 405.7441 - val_loss: 828.0347\n",
      "Epoch 110/500\n",
      "21/21 [==============================] - 0s 5ms/step - loss: 392.8730 - val_loss: 825.7394\n",
      "Epoch 111/500\n",
      "21/21 [==============================] - 0s 5ms/step - loss: 380.3297 - val_loss: 823.6360\n",
      "Epoch 112/500\n",
      "21/21 [==============================] - 0s 5ms/step - loss: 368.1082 - val_loss: 821.7197\n",
      "Epoch 113/500\n",
      "21/21 [==============================] - 0s 5ms/step - loss: 356.2039 - val_loss: 819.9864\n",
      "Epoch 114/500\n",
      "21/21 [==============================] - 0s 5ms/step - loss: 344.6112 - val_loss: 818.4313\n",
      "Epoch 115/500\n",
      "21/21 [==============================] - 0s 5ms/step - loss: 333.3247 - val_loss: 817.0503\n",
      "Epoch 116/500\n",
      "21/21 [==============================] - 0s 5ms/step - loss: 322.3392 - val_loss: 815.8386\n",
      "Epoch 117/500\n",
      "21/21 [==============================] - 0s 5ms/step - loss: 311.6497 - val_loss: 814.7921\n",
      "Epoch 118/500\n",
      "21/21 [==============================] - 0s 6ms/step - loss: 301.2509 - val_loss: 813.9062\n",
      "Epoch 119/500\n",
      "21/21 [==============================] - 0s 5ms/step - loss: 291.1376 - val_loss: 813.1770\n",
      "Epoch 120/500\n",
      "21/21 [==============================] - 0s 6ms/step - loss: 281.3048 - val_loss: 812.5998\n",
      "Epoch 121/500\n",
      "21/21 [==============================] - 0s 6ms/step - loss: 271.7472 - val_loss: 812.1703\n",
      "Epoch 122/500\n",
      "21/21 [==============================] - 0s 6ms/step - loss: 262.4601 - val_loss: 811.8846\n",
      "Epoch 123/500\n",
      "21/21 [==============================] - 0s 6ms/step - loss: 253.4380 - val_loss: 811.7379\n",
      "Epoch 124/500\n",
      "21/21 [==============================] - 0s 6ms/step - loss: 244.6761 - val_loss: 811.7265\n",
      "Epoch 125/500\n",
      "21/21 [==============================] - 0s 6ms/step - loss: 236.1695 - val_loss: 811.8460\n",
      "Epoch 126/500\n",
      "21/21 [==============================] - 0s 6ms/step - loss: 227.9131 - val_loss: 812.0924\n",
      "Epoch 127/500\n",
      "21/21 [==============================] - 0s 13ms/step - loss: 219.9021 - val_loss: 812.4615\n",
      "Epoch 128/500\n",
      "21/21 [==============================] - 0s 6ms/step - loss: 212.1317 - val_loss: 812.9492\n",
      "Epoch 129/500\n",
      "21/21 [==============================] - 0s 6ms/step - loss: 204.5968 - val_loss: 813.5515\n",
      "Epoch 130/500\n",
      "21/21 [==============================] - 0s 6ms/step - loss: 197.2928 - val_loss: 814.2644\n",
      "Epoch 131/500\n",
      "21/21 [==============================] - 0s 6ms/step - loss: 190.2150 - val_loss: 815.0839\n",
      "Epoch 132/500\n",
      "21/21 [==============================] - 0s 6ms/step - loss: 183.3585 - val_loss: 816.0060\n",
      "Epoch 133/500\n",
      "21/21 [==============================] - 0s 6ms/step - loss: 176.7187 - val_loss: 817.0269\n",
      "Epoch 134/500\n",
      "21/21 [==============================] - 0s 7ms/step - loss: 170.2908 - val_loss: 818.1429\n",
      "Epoch 135/500\n",
      "21/21 [==============================] - 0s 6ms/step - loss: 164.0702 - val_loss: 819.3498\n",
      "Epoch 136/500\n",
      "21/21 [==============================] - 0s 6ms/step - loss: 158.0523 - val_loss: 820.6440\n",
      "Epoch 137/500\n",
      "21/21 [==============================] - 0s 5ms/step - loss: 152.2327 - val_loss: 822.0219\n",
      "Epoch 138/500\n",
      "21/21 [==============================] - 0s 5ms/step - loss: 146.6068 - val_loss: 823.4796\n",
      "Epoch 139/500\n",
      "21/21 [==============================] - 0s 5ms/step - loss: 141.1702 - val_loss: 825.0134\n",
      "Epoch 140/500\n",
      "21/21 [==============================] - 0s 5ms/step - loss: 135.9184 - val_loss: 826.6198\n",
      "Epoch 141/500\n",
      "21/21 [==============================] - 0s 6ms/step - loss: 130.8472 - val_loss: 828.2953\n",
      "Epoch 142/500\n",
      "21/21 [==============================] - 0s 6ms/step - loss: 125.9520 - val_loss: 830.0361\n",
      "Epoch 143/500\n",
      "21/21 [==============================] - 0s 6ms/step - loss: 121.2286 - val_loss: 831.8390\n",
      "Epoch 144/500\n",
      "21/21 [==============================] - 0s 7ms/step - loss: 116.6728 - val_loss: 833.7006\n",
      "Epoch 145/500\n",
      "21/21 [==============================] - 0s 6ms/step - loss: 112.2802 - val_loss: 835.6171\n",
      "Epoch 146/500\n",
      "21/21 [==============================] - 0s 6ms/step - loss: 108.0470 - val_loss: 837.5857\n",
      "Epoch 147/500\n",
      "21/21 [==============================] - 0s 6ms/step - loss: 103.9688 - val_loss: 839.6028\n",
      "Epoch 148/500\n",
      "21/21 [==============================] - 0s 7ms/step - loss: 100.0415 - val_loss: 841.6652\n",
      "Epoch 149/500\n",
      "21/21 [==============================] - 0s 7ms/step - loss: 96.2614 - val_loss: 843.7696\n",
      "Epoch 150/500\n",
      "21/21 [==============================] - 0s 7ms/step - loss: 92.6243 - val_loss: 845.9131\n",
      "Epoch 151/500\n",
      "21/21 [==============================] - 0s 7ms/step - loss: 89.1264 - val_loss: 848.0925\n",
      "Epoch 152/500\n",
      "21/21 [==============================] - 0s 6ms/step - loss: 85.7638 - val_loss: 850.3050\n",
      "Epoch 153/500\n",
      "21/21 [==============================] - 0s 7ms/step - loss: 82.5325 - val_loss: 852.5474\n",
      "Epoch 154/500\n",
      "21/21 [==============================] - 0s 6ms/step - loss: 79.4290 - val_loss: 854.8170\n",
      "Epoch 155/500\n",
      "21/21 [==============================] - 0s 14ms/step - loss: 76.4496 - val_loss: 857.1106\n",
      "Epoch 156/500\n",
      "21/21 [==============================] - 0s 6ms/step - loss: 73.5906 - val_loss: 859.4258\n",
      "Epoch 157/500\n",
      "21/21 [==============================] - 0s 6ms/step - loss: 70.8483 - val_loss: 861.7596\n",
      "Epoch 158/500\n",
      "21/21 [==============================] - 0s 6ms/step - loss: 68.2194 - val_loss: 864.1097\n",
      "Epoch 159/500\n",
      "21/21 [==============================] - 0s 5ms/step - loss: 65.7002 - val_loss: 866.4730\n",
      "Epoch 160/500\n",
      "21/21 [==============================] - 0s 4ms/step - loss: 63.2874 - val_loss: 868.8474\n",
      "Epoch 161/500\n",
      "21/21 [==============================] - 0s 6ms/step - loss: 60.9775 - val_loss: 871.2299\n",
      "Epoch 162/500\n",
      "21/21 [==============================] - 0s 6ms/step - loss: 58.7674 - val_loss: 873.6188\n",
      "Epoch 163/500\n",
      "21/21 [==============================] - 0s 6ms/step - loss: 56.6538 - val_loss: 876.0112\n",
      "Epoch 164/500\n",
      "21/21 [==============================] - 0s 6ms/step - loss: 54.6335 - val_loss: 878.4051\n",
      "Epoch 165/500\n",
      "21/21 [==============================] - 0s 7ms/step - loss: 52.7032 - val_loss: 880.7981\n",
      "Epoch 166/500\n",
      "21/21 [==============================] - 0s 6ms/step - loss: 50.8600 - val_loss: 883.1882\n",
      "Epoch 167/500\n",
      "21/21 [==============================] - 0s 6ms/step - loss: 49.1010 - val_loss: 885.5728\n",
      "Epoch 168/500\n",
      "21/21 [==============================] - 0s 6ms/step - loss: 47.4231 - val_loss: 887.9507\n",
      "Epoch 169/500\n",
      "21/21 [==============================] - 0s 6ms/step - loss: 45.8234 - val_loss: 890.3199\n",
      "Epoch 170/500\n",
      "21/21 [==============================] - 0s 6ms/step - loss: 44.2989 - val_loss: 892.6779\n",
      "Epoch 171/500\n",
      "21/21 [==============================] - 0s 6ms/step - loss: 42.8473 - val_loss: 895.0231\n",
      "Epoch 172/500\n",
      "21/21 [==============================] - 0s 6ms/step - loss: 41.4656 - val_loss: 897.3541\n",
      "Epoch 173/500\n",
      "21/21 [==============================] - 0s 5ms/step - loss: 40.1512 - val_loss: 899.6689\n",
      "Epoch 174/500\n",
      "21/21 [==============================] - 0s 5ms/step - loss: 38.9015 - val_loss: 901.9658\n",
      "Epoch 175/500\n",
      "21/21 [==============================] - 0s 5ms/step - loss: 37.7142 - val_loss: 904.2437\n",
      "Epoch 176/500\n",
      "21/21 [==============================] - 0s 5ms/step - loss: 36.5865 - val_loss: 906.5007\n",
      "Epoch 177/500\n",
      "21/21 [==============================] - 0s 6ms/step - loss: 35.5164 - val_loss: 908.7356\n",
      "Epoch 178/500\n",
      "21/21 [==============================] - 0s 5ms/step - loss: 34.5013 - val_loss: 910.9470\n",
      "Epoch 179/500\n",
      "21/21 [==============================] - 0s 5ms/step - loss: 33.5391 - val_loss: 913.1332\n",
      "Epoch 180/500\n",
      "21/21 [==============================] - 0s 6ms/step - loss: 32.6275 - val_loss: 915.2939\n",
      "Epoch 181/500\n",
      "21/21 [==============================] - 0s 7ms/step - loss: 31.7644 - val_loss: 917.4277\n",
      "Epoch 182/500\n",
      "21/21 [==============================] - 0s 6ms/step - loss: 30.9476 - val_loss: 919.5328\n",
      "Epoch 183/500\n",
      "21/21 [==============================] - 0s 6ms/step - loss: 30.1753 - val_loss: 921.6091\n",
      "Epoch 184/500\n",
      "21/21 [==============================] - 0s 5ms/step - loss: 29.4453 - val_loss: 923.6554\n",
      "Epoch 185/500\n",
      "21/21 [==============================] - 0s 6ms/step - loss: 28.7559 - val_loss: 925.6707\n",
      "Epoch 186/500\n",
      "21/21 [==============================] - 0s 5ms/step - loss: 28.1052 - val_loss: 927.6542\n",
      "Epoch 187/500\n",
      "21/21 [==============================] - 0s 5ms/step - loss: 27.4913 - val_loss: 929.6055\n",
      "Epoch 188/500\n",
      "21/21 [==============================] - 0s 5ms/step - loss: 26.9126 - val_loss: 931.5233\n",
      "Epoch 189/500\n",
      "21/21 [==============================] - 0s 7ms/step - loss: 26.3676 - val_loss: 933.4072\n",
      "Epoch 190/500\n",
      "21/21 [==============================] - 0s 7ms/step - loss: 25.8544 - val_loss: 935.2568\n",
      "Epoch 191/500\n",
      "21/21 [==============================] - 0s 6ms/step - loss: 25.3716 - val_loss: 937.0716\n",
      "Epoch 192/500\n",
      "21/21 [==============================] - 0s 6ms/step - loss: 24.9176 - val_loss: 938.8513\n",
      "Epoch 193/500\n",
      "21/21 [==============================] - 0s 6ms/step - loss: 24.4911 - val_loss: 940.5952\n",
      "Epoch 194/500\n",
      "21/21 [==============================] - 0s 6ms/step - loss: 24.0906 - val_loss: 942.3029\n",
      "Epoch 195/500\n",
      "21/21 [==============================] - 0s 5ms/step - loss: 23.7148 - val_loss: 943.9747\n",
      "Epoch 196/500\n",
      "21/21 [==============================] - 0s 5ms/step - loss: 23.3624 - val_loss: 945.6097\n",
      "Epoch 197/500\n",
      "21/21 [==============================] - 0s 6ms/step - loss: 23.0322 - val_loss: 947.2081\n",
      "Epoch 198/500\n",
      "21/21 [==============================] - 0s 5ms/step - loss: 22.7230 - val_loss: 948.7698\n",
      "Epoch 199/500\n",
      "21/21 [==============================] - 0s 5ms/step - loss: 22.4336 - val_loss: 950.2945\n",
      "Epoch 200/500\n",
      "21/21 [==============================] - 0s 5ms/step - loss: 22.1630 - val_loss: 951.7828\n",
      "Epoch 201/500\n",
      "21/21 [==============================] - 0s 6ms/step - loss: 21.9101 - val_loss: 953.2336\n",
      "Epoch 202/500\n",
      "21/21 [==============================] - 0s 5ms/step - loss: 21.6739 - val_loss: 954.6481\n",
      "Epoch 203/500\n",
      "21/21 [==============================] - 0s 7ms/step - loss: 21.4536 - val_loss: 956.0259\n",
      "Epoch 204/500\n",
      "21/21 [==============================] - 0s 6ms/step - loss: 21.2480 - val_loss: 957.3671\n",
      "Epoch 205/500\n",
      "21/21 [==============================] - 0s 6ms/step - loss: 21.0565 - val_loss: 958.6721\n",
      "Epoch 206/500\n",
      "21/21 [==============================] - 0s 5ms/step - loss: 20.8781 - val_loss: 959.9410\n",
      "Epoch 207/500\n",
      "21/21 [==============================] - 0s 5ms/step - loss: 20.7121 - val_loss: 961.1741\n",
      "Epoch 208/500\n",
      "21/21 [==============================] - 0s 5ms/step - loss: 20.5576 - val_loss: 962.3716\n",
      "Epoch 209/500\n",
      "21/21 [==============================] - 0s 4ms/step - loss: 20.4142 - val_loss: 963.5342\n",
      "Epoch 210/500\n",
      "21/21 [==============================] - 0s 5ms/step - loss: 20.2809 - val_loss: 964.6613\n",
      "Epoch 211/500\n",
      "21/21 [==============================] - 0s 4ms/step - loss: 20.1573 - val_loss: 965.7543\n",
      "Epoch 212/500\n",
      "21/21 [==============================] - 0s 5ms/step - loss: 20.0426 - val_loss: 966.8135\n",
      "Epoch 213/500\n",
      "21/21 [==============================] - 0s 5ms/step - loss: 19.9363 - val_loss: 967.8393\n",
      "Epoch 214/500\n",
      "21/21 [==============================] - 0s 6ms/step - loss: 19.8379 - val_loss: 968.8321\n",
      "Epoch 215/500\n",
      "21/21 [==============================] - 0s 5ms/step - loss: 19.7467 - val_loss: 969.7921\n",
      "Epoch 216/500\n",
      "21/21 [==============================] - 0s 5ms/step - loss: 19.6625 - val_loss: 970.7199\n",
      "Epoch 217/500\n",
      "21/21 [==============================] - 0s 5ms/step - loss: 19.5846 - val_loss: 971.6166\n",
      "Epoch 218/500\n",
      "21/21 [==============================] - 0s 5ms/step - loss: 19.5126 - val_loss: 972.4819\n",
      "Epoch 219/500\n",
      "21/21 [==============================] - 0s 5ms/step - loss: 19.4462 - val_loss: 973.3173\n",
      "Epoch 220/500\n",
      "21/21 [==============================] - 0s 6ms/step - loss: 19.3849 - val_loss: 974.1224\n",
      "Epoch 221/500\n",
      "21/21 [==============================] - 0s 5ms/step - loss: 19.3284 - val_loss: 974.8987\n",
      "Epoch 222/500\n",
      "21/21 [==============================] - 0s 5ms/step - loss: 19.2764 - val_loss: 975.6461\n",
      "Epoch 223/500\n",
      "21/21 [==============================] - 0s 5ms/step - loss: 19.2285 - val_loss: 976.3657\n",
      "Epoch 224/500\n",
      "21/21 [==============================] - 0s 5ms/step - loss: 19.1844 - val_loss: 977.0580\n",
      "Epoch 225/500\n",
      "21/21 [==============================] - 0s 4ms/step - loss: 19.1439 - val_loss: 977.7233\n",
      "Epoch 226/500\n",
      "21/21 [==============================] - 0s 4ms/step - loss: 19.1067 - val_loss: 978.3627\n",
      "Epoch 227/500\n",
      "21/21 [==============================] - 0s 5ms/step - loss: 19.0724 - val_loss: 978.9767\n",
      "Epoch 228/500\n",
      "21/21 [==============================] - 0s 4ms/step - loss: 19.0410 - val_loss: 979.5663\n",
      "Epoch 229/500\n",
      "21/21 [==============================] - 0s 6ms/step - loss: 19.0122 - val_loss: 980.1313\n",
      "Epoch 230/500\n",
      "21/21 [==============================] - 0s 7ms/step - loss: 18.9858 - val_loss: 980.6735\n",
      "Epoch 231/500\n",
      "21/21 [==============================] - 0s 5ms/step - loss: 18.9616 - val_loss: 981.1928\n",
      "Epoch 232/500\n",
      "21/21 [==============================] - 0s 5ms/step - loss: 18.9394 - val_loss: 981.6895\n",
      "Epoch 233/500\n",
      "21/21 [==============================] - 0s 5ms/step - loss: 18.9192 - val_loss: 982.1643\n",
      "Epoch 234/500\n",
      "21/21 [==============================] - 0s 5ms/step - loss: 18.9006 - val_loss: 982.6188\n",
      "Epoch 235/500\n",
      "21/21 [==============================] - 0s 5ms/step - loss: 18.8837 - val_loss: 983.0530\n",
      "Epoch 236/500\n",
      "21/21 [==============================] - 0s 6ms/step - loss: 18.8682 - val_loss: 983.4677\n",
      "Epoch 237/500\n",
      "21/21 [==============================] - 0s 5ms/step - loss: 18.8541 - val_loss: 983.8636\n",
      "Epoch 238/500\n",
      "21/21 [==============================] - 0s 5ms/step - loss: 18.8411 - val_loss: 984.2404\n",
      "Epoch 239/500\n",
      "21/21 [==============================] - 0s 5ms/step - loss: 18.8294 - val_loss: 984.6005\n",
      "Epoch 240/500\n",
      "21/21 [==============================] - 0s 5ms/step - loss: 18.8186 - val_loss: 984.9429\n",
      "Epoch 241/500\n",
      "21/21 [==============================] - 0s 4ms/step - loss: 18.8089 - val_loss: 985.2692\n",
      "Epoch 242/500\n",
      "21/21 [==============================] - 0s 5ms/step - loss: 18.8000 - val_loss: 985.5793\n",
      "Epoch 243/500\n",
      "21/21 [==============================] - 0s 5ms/step - loss: 18.7919 - val_loss: 985.8745\n",
      "Epoch 244/500\n",
      "21/21 [==============================] - 0s 5ms/step - loss: 18.7845 - val_loss: 986.1545\n",
      "Epoch 245/500\n",
      "21/21 [==============================] - 0s 5ms/step - loss: 18.7779 - val_loss: 986.4205\n",
      "Epoch 246/500\n",
      "21/21 [==============================] - 0s 5ms/step - loss: 18.7718 - val_loss: 986.6729\n",
      "Epoch 247/500\n",
      "21/21 [==============================] - 0s 5ms/step - loss: 18.7663 - val_loss: 986.9122\n",
      "Epoch 248/500\n",
      "21/21 [==============================] - 0s 5ms/step - loss: 18.7613 - val_loss: 987.1393\n",
      "Epoch 249/500\n",
      "21/21 [==============================] - 0s 5ms/step - loss: 18.7568 - val_loss: 987.3538\n",
      "Epoch 250/500\n",
      "21/21 [==============================] - 0s 5ms/step - loss: 18.7528 - val_loss: 987.5572\n",
      "Epoch 251/500\n",
      "21/21 [==============================] - 0s 5ms/step - loss: 18.7491 - val_loss: 987.7496\n",
      "Epoch 252/500\n",
      "21/21 [==============================] - 0s 5ms/step - loss: 18.7458 - val_loss: 987.9315\n",
      "Epoch 253/500\n",
      "21/21 [==============================] - 0s 5ms/step - loss: 18.7428 - val_loss: 988.1030\n",
      "Epoch 254/500\n",
      "21/21 [==============================] - 0s 5ms/step - loss: 18.7401 - val_loss: 988.2646\n",
      "Epoch 255/500\n",
      "21/21 [==============================] - 0s 5ms/step - loss: 18.7377 - val_loss: 988.4174\n",
      "Epoch 256/500\n",
      "21/21 [==============================] - 0s 9ms/step - loss: 18.7356 - val_loss: 988.5612\n",
      "Epoch 257/500\n",
      "21/21 [==============================] - 0s 6ms/step - loss: 18.7337 - val_loss: 988.6966\n",
      "Epoch 258/500\n",
      "21/21 [==============================] - 0s 6ms/step - loss: 18.7320 - val_loss: 988.8239\n",
      "Epoch 259/500\n",
      "21/21 [==============================] - 0s 5ms/step - loss: 18.7305 - val_loss: 988.9438\n",
      "Epoch 260/500\n",
      "21/21 [==============================] - 0s 7ms/step - loss: 18.7292 - val_loss: 989.0560\n",
      "Epoch 261/500\n",
      "21/21 [==============================] - 0s 6ms/step - loss: 18.7280 - val_loss: 989.1617\n",
      "Epoch 262/500\n",
      "21/21 [==============================] - 0s 5ms/step - loss: 18.7270 - val_loss: 989.2605\n",
      "Epoch 263/500\n",
      "21/21 [==============================] - 0s 5ms/step - loss: 18.7262 - val_loss: 989.3529\n",
      "Epoch 264/500\n",
      "21/21 [==============================] - 0s 5ms/step - loss: 18.7255 - val_loss: 989.4395\n",
      "Epoch 265/500\n",
      "21/21 [==============================] - 0s 5ms/step - loss: 18.7249 - val_loss: 989.5212\n",
      "Epoch 266/500\n",
      "21/21 [==============================] - 0s 5ms/step - loss: 18.7243 - val_loss: 989.5970\n",
      "Epoch 267/500\n",
      "21/21 [==============================] - 0s 5ms/step - loss: 18.7240 - val_loss: 989.6681\n",
      "Epoch 268/500\n",
      "21/21 [==============================] - 0s 5ms/step - loss: 18.7237 - val_loss: 989.7347\n",
      "Epoch 269/500\n",
      "21/21 [==============================] - 0s 5ms/step - loss: 18.7234 - val_loss: 989.7962\n",
      "Epoch 270/500\n",
      "21/21 [==============================] - 0s 5ms/step - loss: 18.7234 - val_loss: 989.8538\n",
      "Epoch 271/500\n",
      "21/21 [==============================] - 0s 4ms/step - loss: 18.7233 - val_loss: 989.9070\n",
      "Epoch 272/500\n",
      "21/21 [==============================] - 0s 4ms/step - loss: 18.7233 - val_loss: 989.9569\n",
      "Epoch 273/500\n",
      "21/21 [==============================] - 0s 5ms/step - loss: 18.7233 - val_loss: 990.0031\n",
      "Epoch 274/500\n",
      "21/21 [==============================] - 0s 5ms/step - loss: 18.7234 - val_loss: 990.0459\n",
      "Epoch 275/500\n",
      "21/21 [==============================] - 0s 6ms/step - loss: 18.7236 - val_loss: 990.0856\n",
      "Epoch 276/500\n",
      "21/21 [==============================] - 0s 5ms/step - loss: 18.7238 - val_loss: 990.1221\n",
      "Epoch 277/500\n",
      "21/21 [==============================] - 0s 5ms/step - loss: 18.7241 - val_loss: 990.1561\n",
      "Epoch 278/500\n",
      "21/21 [==============================] - 0s 5ms/step - loss: 18.7244 - val_loss: 990.1876\n",
      "Epoch 279/500\n",
      "21/21 [==============================] - 0s 6ms/step - loss: 18.7247 - val_loss: 990.2162\n",
      "Epoch 280/500\n",
      "21/21 [==============================] - 0s 7ms/step - loss: 18.7251 - val_loss: 990.2430\n",
      "Epoch 281/500\n",
      "21/21 [==============================] - 0s 6ms/step - loss: 18.7256 - val_loss: 990.2678\n",
      "Epoch 282/500\n",
      "21/21 [==============================] - 0s 6ms/step - loss: 18.7260 - val_loss: 990.2902\n",
      "Epoch 283/500\n",
      "21/21 [==============================] - 0s 5ms/step - loss: 18.7265 - val_loss: 990.3108\n",
      "Epoch 284/500\n",
      "21/21 [==============================] - 0s 5ms/step - loss: 18.7270 - val_loss: 990.3295\n",
      "Epoch 285/500\n",
      "21/21 [==============================] - 0s 7ms/step - loss: 18.7275 - val_loss: 990.3467\n",
      "Epoch 286/500\n",
      "21/21 [==============================] - 0s 6ms/step - loss: 18.7281 - val_loss: 990.3623\n",
      "Epoch 287/500\n",
      "21/21 [==============================] - 0s 6ms/step - loss: 18.7286 - val_loss: 990.3766\n",
      "Epoch 288/500\n",
      "21/21 [==============================] - 0s 5ms/step - loss: 18.7292 - val_loss: 990.3895\n",
      "Epoch 289/500\n",
      "21/21 [==============================] - 0s 5ms/step - loss: 18.7298 - val_loss: 990.4012\n",
      "Epoch 290/500\n",
      "21/21 [==============================] - 0s 6ms/step - loss: 18.7304 - val_loss: 990.4116\n",
      "Epoch 291/500\n",
      "21/21 [==============================] - 0s 5ms/step - loss: 18.7311 - val_loss: 990.4210\n",
      "Epoch 292/500\n",
      "21/21 [==============================] - 0s 5ms/step - loss: 18.7317 - val_loss: 990.4296\n",
      "Epoch 293/500\n",
      "21/21 [==============================] - 0s 5ms/step - loss: 18.7324 - val_loss: 990.4370\n",
      "Epoch 294/500\n",
      "21/21 [==============================] - 0s 5ms/step - loss: 18.7331 - val_loss: 990.4437\n",
      "Epoch 295/500\n",
      "21/21 [==============================] - 0s 6ms/step - loss: 18.7337 - val_loss: 990.4493\n",
      "Epoch 296/500\n",
      "21/21 [==============================] - 0s 5ms/step - loss: 18.7345 - val_loss: 990.4545\n",
      "Epoch 297/500\n",
      "21/21 [==============================] - 0s 5ms/step - loss: 18.7351 - val_loss: 990.4590\n",
      "Epoch 298/500\n",
      "21/21 [==============================] - 0s 5ms/step - loss: 18.7358 - val_loss: 990.4627\n",
      "Epoch 299/500\n",
      "21/21 [==============================] - 0s 5ms/step - loss: 18.7365 - val_loss: 990.4659\n",
      "Epoch 300/500\n",
      "21/21 [==============================] - 0s 5ms/step - loss: 18.7373 - val_loss: 990.4686\n",
      "Epoch 301/500\n",
      "21/21 [==============================] - 0s 9ms/step - loss: 18.7381 - val_loss: 990.4715\n",
      "Epoch 302/500\n",
      "21/21 [==============================] - 0s 6ms/step - loss: 18.7387 - val_loss: 990.4732\n",
      "Epoch 303/500\n",
      "21/21 [==============================] - 0s 6ms/step - loss: 18.7395 - val_loss: 990.4746\n",
      "Epoch 304/500\n",
      "21/21 [==============================] - 0s 6ms/step - loss: 18.7402 - val_loss: 990.4753\n",
      "Epoch 305/500\n",
      "21/21 [==============================] - 0s 5ms/step - loss: 18.7410 - val_loss: 990.4760\n",
      "Epoch 306/500\n",
      "21/21 [==============================] - 0s 4ms/step - loss: 18.7418 - val_loss: 990.4767\n",
      "Epoch 307/500\n",
      "21/21 [==============================] - 0s 5ms/step - loss: 18.7425 - val_loss: 990.4767\n",
      "Epoch 308/500\n",
      "21/21 [==============================] - 0s 4ms/step - loss: 18.7432 - val_loss: 990.4768\n",
      "Epoch 309/500\n",
      "21/21 [==============================] - 0s 4ms/step - loss: 18.7440 - val_loss: 990.4764\n",
      "Epoch 310/500\n",
      "21/21 [==============================] - 0s 5ms/step - loss: 18.7447 - val_loss: 990.4758\n",
      "Epoch 311/500\n",
      "21/21 [==============================] - 0s 5ms/step - loss: 18.7455 - val_loss: 990.4750\n",
      "Epoch 312/500\n",
      "21/21 [==============================] - 0s 5ms/step - loss: 18.7462 - val_loss: 990.4738\n",
      "Epoch 313/500\n",
      "21/21 [==============================] - 0s 5ms/step - loss: 18.7470 - val_loss: 990.4727\n",
      "Epoch 314/500\n",
      "21/21 [==============================] - 0s 5ms/step - loss: 18.7477 - val_loss: 990.4715\n",
      "Epoch 315/500\n",
      "21/21 [==============================] - 0s 4ms/step - loss: 18.7484 - val_loss: 990.4694\n",
      "Epoch 316/500\n",
      "21/21 [==============================] - 0s 4ms/step - loss: 18.7492 - val_loss: 990.4678\n",
      "Epoch 317/500\n",
      "21/21 [==============================] - 0s 4ms/step - loss: 18.7500 - val_loss: 990.4660\n",
      "Epoch 318/500\n",
      "21/21 [==============================] - 0s 4ms/step - loss: 18.7507 - val_loss: 990.4641\n",
      "Epoch 319/500\n",
      "21/21 [==============================] - 0s 5ms/step - loss: 18.7514 - val_loss: 990.4623\n",
      "Epoch 320/500\n",
      "21/21 [==============================] - 0s 5ms/step - loss: 18.7522 - val_loss: 990.4600\n",
      "Epoch 321/500\n",
      "21/21 [==============================] - 0s 4ms/step - loss: 18.7529 - val_loss: 990.4581\n",
      "Epoch 322/500\n",
      "21/21 [==============================] - 0s 5ms/step - loss: 18.7537 - val_loss: 990.4559\n",
      "Epoch 323/500\n",
      "21/21 [==============================] - 0s 5ms/step - loss: 18.7544 - val_loss: 990.4538\n",
      "Epoch 324/500\n",
      "21/21 [==============================] - 0s 5ms/step - loss: 18.7551 - val_loss: 990.4515\n",
      "Epoch 325/500\n",
      "21/21 [==============================] - 0s 5ms/step - loss: 18.7558 - val_loss: 990.4492\n",
      "Epoch 326/500\n",
      "21/21 [==============================] - 0s 13ms/step - loss: 18.7565 - val_loss: 990.4467\n",
      "Epoch 327/500\n",
      "21/21 [==============================] - 0s 8ms/step - loss: 18.7573 - val_loss: 990.4443\n",
      "Epoch 328/500\n",
      "21/21 [==============================] - 0s 6ms/step - loss: 18.7580 - val_loss: 990.4417\n",
      "Epoch 329/500\n",
      "21/21 [==============================] - 0s 5ms/step - loss: 18.7587 - val_loss: 990.4394\n",
      "Epoch 330/500\n",
      "21/21 [==============================] - 0s 5ms/step - loss: 18.7594 - val_loss: 990.4370\n",
      "Epoch 331/500\n",
      "21/21 [==============================] - 0s 4ms/step - loss: 18.7601 - val_loss: 990.4346\n",
      "Epoch 332/500\n",
      "21/21 [==============================] - 0s 5ms/step - loss: 18.7607 - val_loss: 990.4315\n",
      "Epoch 333/500\n",
      "21/21 [==============================] - 0s 4ms/step - loss: 18.7615 - val_loss: 990.4294\n",
      "Epoch 334/500\n",
      "21/21 [==============================] - 0s 5ms/step - loss: 18.7621 - val_loss: 990.4267\n",
      "Epoch 335/500\n",
      "21/21 [==============================] - 0s 5ms/step - loss: 18.7628 - val_loss: 990.4241\n",
      "Epoch 336/500\n",
      "21/21 [==============================] - 0s 5ms/step - loss: 18.7635 - val_loss: 990.4222\n",
      "Epoch 337/500\n",
      "21/21 [==============================] - 0s 5ms/step - loss: 18.7642 - val_loss: 990.4195\n",
      "Epoch 338/500\n",
      "21/21 [==============================] - 0s 4ms/step - loss: 18.7648 - val_loss: 990.4171\n",
      "Epoch 339/500\n",
      "21/21 [==============================] - 0s 4ms/step - loss: 18.7655 - val_loss: 990.4147\n",
      "Epoch 340/500\n",
      "21/21 [==============================] - 0s 4ms/step - loss: 18.7662 - val_loss: 990.4127\n",
      "Epoch 341/500\n",
      "21/21 [==============================] - 0s 5ms/step - loss: 18.7668 - val_loss: 990.4100\n",
      "Epoch 342/500\n",
      "21/21 [==============================] - 0s 5ms/step - loss: 18.7674 - val_loss: 990.4077\n",
      "Epoch 343/500\n",
      "21/21 [==============================] - 0s 5ms/step - loss: 18.7681 - val_loss: 990.4052\n",
      "Epoch 344/500\n",
      "21/21 [==============================] - 0s 5ms/step - loss: 18.7687 - val_loss: 990.4028\n",
      "Epoch 345/500\n",
      "21/21 [==============================] - 0s 5ms/step - loss: 18.7694 - val_loss: 990.4009\n",
      "Epoch 346/500\n",
      "21/21 [==============================] - 0s 4ms/step - loss: 18.7699 - val_loss: 990.3985\n",
      "Epoch 347/500\n",
      "21/21 [==============================] - 0s 4ms/step - loss: 18.7706 - val_loss: 990.3961\n",
      "Epoch 348/500\n",
      "21/21 [==============================] - 0s 8ms/step - loss: 18.7712 - val_loss: 990.3939\n",
      "Epoch 349/500\n",
      "21/21 [==============================] - 0s 6ms/step - loss: 18.7718 - val_loss: 990.3916\n",
      "Epoch 350/500\n",
      "21/21 [==============================] - 0s 5ms/step - loss: 18.7724 - val_loss: 990.3893\n",
      "Epoch 351/500\n",
      "21/21 [==============================] - 0s 5ms/step - loss: 18.7729 - val_loss: 990.3869\n",
      "Epoch 352/500\n",
      "21/21 [==============================] - 0s 4ms/step - loss: 18.7735 - val_loss: 990.3848\n",
      "Epoch 353/500\n",
      "21/21 [==============================] - 0s 4ms/step - loss: 18.7741 - val_loss: 990.3828\n",
      "Epoch 354/500\n",
      "21/21 [==============================] - 0s 4ms/step - loss: 18.7747 - val_loss: 990.3807\n",
      "Epoch 355/500\n",
      "21/21 [==============================] - 0s 5ms/step - loss: 18.7752 - val_loss: 990.3782\n",
      "Epoch 356/500\n",
      "21/21 [==============================] - 0s 5ms/step - loss: 18.7758 - val_loss: 990.3760\n",
      "Epoch 357/500\n",
      "21/21 [==============================] - 0s 5ms/step - loss: 18.7763 - val_loss: 990.3740\n",
      "Epoch 358/500\n",
      "21/21 [==============================] - 0s 4ms/step - loss: 18.7769 - val_loss: 990.3718\n",
      "Epoch 359/500\n",
      "21/21 [==============================] - 0s 4ms/step - loss: 18.7774 - val_loss: 990.3697\n",
      "Epoch 360/500\n",
      "21/21 [==============================] - 0s 4ms/step - loss: 18.7780 - val_loss: 990.3673\n",
      "Epoch 361/500\n",
      "21/21 [==============================] - 0s 4ms/step - loss: 18.7785 - val_loss: 990.3657\n",
      "Epoch 362/500\n",
      "21/21 [==============================] - 0s 5ms/step - loss: 18.7790 - val_loss: 990.3635\n",
      "Epoch 363/500\n",
      "21/21 [==============================] - 0s 5ms/step - loss: 18.7796 - val_loss: 990.3619\n",
      "Epoch 364/500\n",
      "21/21 [==============================] - 0s 5ms/step - loss: 18.7800 - val_loss: 990.3597\n",
      "Epoch 365/500\n",
      "21/21 [==============================] - 0s 5ms/step - loss: 18.7805 - val_loss: 990.3576\n",
      "Epoch 366/500\n",
      "21/21 [==============================] - 0s 5ms/step - loss: 18.7810 - val_loss: 990.3554\n",
      "Epoch 367/500\n",
      "21/21 [==============================] - 0s 5ms/step - loss: 18.7815 - val_loss: 990.3534\n",
      "Epoch 368/500\n",
      "21/21 [==============================] - 0s 9ms/step - loss: 18.7820 - val_loss: 990.3514\n",
      "Epoch 369/500\n",
      "21/21 [==============================] - 0s 5ms/step - loss: 18.7825 - val_loss: 990.3496\n",
      "Epoch 370/500\n",
      "21/21 [==============================] - 0s 5ms/step - loss: 18.7829 - val_loss: 990.3481\n",
      "Epoch 371/500\n",
      "21/21 [==============================] - 0s 5ms/step - loss: 18.7834 - val_loss: 990.3460\n",
      "Epoch 372/500\n",
      "21/21 [==============================] - 0s 5ms/step - loss: 18.7839 - val_loss: 990.3441\n",
      "Epoch 373/500\n",
      "21/21 [==============================] - 0s 5ms/step - loss: 18.7843 - val_loss: 990.3425\n",
      "Epoch 374/500\n",
      "21/21 [==============================] - 0s 5ms/step - loss: 18.7848 - val_loss: 990.3405\n",
      "Epoch 375/500\n",
      "21/21 [==============================] - 0s 5ms/step - loss: 18.7852 - val_loss: 990.3389\n",
      "Epoch 376/500\n",
      "21/21 [==============================] - 0s 4ms/step - loss: 18.7857 - val_loss: 990.3371\n",
      "Epoch 377/500\n",
      "21/21 [==============================] - 0s 4ms/step - loss: 18.7861 - val_loss: 990.3357\n",
      "Epoch 378/500\n",
      "21/21 [==============================] - 0s 5ms/step - loss: 18.7865 - val_loss: 990.3339\n",
      "Epoch 379/500\n",
      "21/21 [==============================] - 0s 5ms/step - loss: 18.7869 - val_loss: 990.3320\n",
      "Epoch 380/500\n",
      "21/21 [==============================] - 0s 4ms/step - loss: 18.7874 - val_loss: 990.3307\n",
      "Epoch 381/500\n",
      "21/21 [==============================] - 0s 5ms/step - loss: 18.7878 - val_loss: 990.3290\n",
      "Epoch 382/500\n",
      "21/21 [==============================] - 0s 5ms/step - loss: 18.7881 - val_loss: 990.3276\n",
      "Epoch 383/500\n",
      "21/21 [==============================] - 0s 5ms/step - loss: 18.7886 - val_loss: 990.3259\n",
      "Epoch 384/500\n",
      "21/21 [==============================] - 0s 5ms/step - loss: 18.7889 - val_loss: 990.3245\n",
      "Epoch 385/500\n",
      "21/21 [==============================] - 0s 5ms/step - loss: 18.7893 - val_loss: 990.3228\n",
      "Epoch 386/500\n",
      "21/21 [==============================] - 0s 4ms/step - loss: 18.7897 - val_loss: 990.3217\n",
      "Epoch 387/500\n",
      "21/21 [==============================] - 0s 4ms/step - loss: 18.7900 - val_loss: 990.3203\n",
      "Epoch 388/500\n",
      "21/21 [==============================] - 0s 5ms/step - loss: 18.7905 - val_loss: 990.3190\n",
      "Epoch 389/500\n",
      "21/21 [==============================] - 0s 5ms/step - loss: 18.7908 - val_loss: 990.3175\n",
      "Epoch 390/500\n",
      "21/21 [==============================] - 0s 5ms/step - loss: 18.7911 - val_loss: 990.3160\n",
      "Epoch 391/500\n",
      "21/21 [==============================] - 0s 10ms/step - loss: 18.7915 - val_loss: 990.3145\n",
      "Epoch 392/500\n",
      "21/21 [==============================] - 0s 5ms/step - loss: 18.7919 - val_loss: 990.3132\n",
      "Epoch 393/500\n",
      "21/21 [==============================] - 0s 5ms/step - loss: 18.7922 - val_loss: 990.3118\n",
      "Epoch 394/500\n",
      "21/21 [==============================] - 0s 6ms/step - loss: 18.7925 - val_loss: 990.3106\n",
      "Epoch 395/500\n",
      "21/21 [==============================] - 0s 5ms/step - loss: 18.7928 - val_loss: 990.3093\n",
      "Epoch 396/500\n",
      "21/21 [==============================] - 0s 5ms/step - loss: 18.7932 - val_loss: 990.3079\n",
      "Epoch 397/500\n",
      "21/21 [==============================] - 0s 5ms/step - loss: 18.7935 - val_loss: 990.3068\n",
      "Epoch 398/500\n",
      "21/21 [==============================] - 0s 5ms/step - loss: 18.7938 - val_loss: 990.3055\n",
      "Epoch 399/500\n",
      "21/21 [==============================] - 0s 5ms/step - loss: 18.7941 - val_loss: 990.3046\n",
      "Epoch 400/500\n",
      "21/21 [==============================] - 0s 5ms/step - loss: 18.7944 - val_loss: 990.3036\n",
      "Epoch 401/500\n",
      "21/21 [==============================] - 0s 5ms/step - loss: 18.7947 - val_loss: 990.3021\n",
      "Epoch 402/500\n",
      "21/21 [==============================] - 0s 5ms/step - loss: 18.7950 - val_loss: 990.3010\n",
      "Epoch 403/500\n",
      "21/21 [==============================] - 0s 5ms/step - loss: 18.7953 - val_loss: 990.3002\n",
      "Epoch 404/500\n",
      "21/21 [==============================] - 0s 4ms/step - loss: 18.7956 - val_loss: 990.2991\n",
      "Epoch 405/500\n",
      "21/21 [==============================] - 0s 4ms/step - loss: 18.7958 - val_loss: 990.2979\n",
      "Epoch 406/500\n",
      "21/21 [==============================] - 0s 4ms/step - loss: 18.7961 - val_loss: 990.2969\n",
      "Epoch 407/500\n",
      "21/21 [==============================] - 0s 5ms/step - loss: 18.7964 - val_loss: 990.2959\n",
      "Epoch 408/500\n",
      "21/21 [==============================] - 0s 5ms/step - loss: 18.7966 - val_loss: 990.2947\n",
      "Epoch 409/500\n",
      "21/21 [==============================] - 0s 5ms/step - loss: 18.7969 - val_loss: 990.2938\n",
      "Epoch 410/500\n",
      "21/21 [==============================] - 0s 5ms/step - loss: 18.7972 - val_loss: 990.2927\n",
      "Epoch 411/500\n",
      "21/21 [==============================] - 0s 9ms/step - loss: 18.7974 - val_loss: 990.2916\n",
      "Epoch 412/500\n",
      "21/21 [==============================] - 0s 5ms/step - loss: 18.7977 - val_loss: 990.2902\n",
      "Epoch 413/500\n",
      "21/21 [==============================] - 0s 5ms/step - loss: 18.7980 - val_loss: 990.2897\n",
      "Epoch 414/500\n",
      "21/21 [==============================] - 0s 5ms/step - loss: 18.7982 - val_loss: 990.2886\n",
      "Epoch 415/500\n",
      "21/21 [==============================] - 0s 5ms/step - loss: 18.7984 - val_loss: 990.2878\n",
      "Epoch 416/500\n",
      "21/21 [==============================] - 0s 5ms/step - loss: 18.7987 - val_loss: 990.2870\n",
      "Epoch 417/500\n",
      "21/21 [==============================] - 0s 5ms/step - loss: 18.7989 - val_loss: 990.2864\n",
      "Epoch 418/500\n",
      "21/21 [==============================] - 0s 5ms/step - loss: 18.7991 - val_loss: 990.2858\n",
      "Epoch 419/500\n",
      "21/21 [==============================] - 0s 4ms/step - loss: 18.7993 - val_loss: 990.2847\n",
      "Epoch 420/500\n",
      "21/21 [==============================] - 0s 4ms/step - loss: 18.7995 - val_loss: 990.2833\n",
      "Epoch 421/500\n",
      "21/21 [==============================] - 0s 4ms/step - loss: 18.7997 - val_loss: 990.2828\n",
      "Epoch 422/500\n",
      "21/21 [==============================] - 0s 5ms/step - loss: 18.7999 - val_loss: 990.2819\n",
      "Epoch 423/500\n",
      "21/21 [==============================] - 0s 5ms/step - loss: 18.8001 - val_loss: 990.2807\n",
      "Epoch 424/500\n",
      "21/21 [==============================] - 0s 5ms/step - loss: 18.8004 - val_loss: 990.2804\n",
      "Epoch 425/500\n",
      "21/21 [==============================] - 0s 4ms/step - loss: 18.8005 - val_loss: 990.2794\n",
      "Epoch 426/500\n",
      "21/21 [==============================] - 0s 5ms/step - loss: 18.8007 - val_loss: 990.2785\n",
      "Epoch 427/500\n",
      "21/21 [==============================] - 0s 5ms/step - loss: 18.8009 - val_loss: 990.2783\n",
      "Epoch 428/500\n",
      "21/21 [==============================] - 0s 5ms/step - loss: 18.8011 - val_loss: 990.2773\n",
      "Epoch 429/500\n",
      "21/21 [==============================] - 0s 4ms/step - loss: 18.8013 - val_loss: 990.2764\n",
      "Epoch 430/500\n",
      "21/21 [==============================] - 0s 4ms/step - loss: 18.8015 - val_loss: 990.2756\n",
      "Epoch 431/500\n",
      "21/21 [==============================] - 0s 4ms/step - loss: 18.8016 - val_loss: 990.2751\n",
      "Epoch 432/500\n",
      "21/21 [==============================] - 0s 9ms/step - loss: 18.8018 - val_loss: 990.2745\n",
      "Epoch 433/500\n",
      "21/21 [==============================] - 0s 6ms/step - loss: 18.8020 - val_loss: 990.2739\n",
      "Epoch 434/500\n",
      "21/21 [==============================] - 0s 5ms/step - loss: 18.8022 - val_loss: 990.2735\n",
      "Epoch 435/500\n",
      "21/21 [==============================] - 0s 5ms/step - loss: 18.8023 - val_loss: 990.2723\n",
      "Epoch 436/500\n",
      "21/21 [==============================] - 0s 5ms/step - loss: 18.8025 - val_loss: 990.2721\n",
      "Epoch 437/500\n",
      "21/21 [==============================] - 0s 5ms/step - loss: 18.8027 - val_loss: 990.2717\n",
      "Epoch 438/500\n",
      "21/21 [==============================] - 0s 5ms/step - loss: 18.8028 - val_loss: 990.2710\n",
      "Epoch 439/500\n",
      "21/21 [==============================] - 0s 5ms/step - loss: 18.8029 - val_loss: 990.2704\n",
      "Epoch 440/500\n",
      "21/21 [==============================] - 0s 4ms/step - loss: 18.8031 - val_loss: 990.2697\n",
      "Epoch 441/500\n",
      "21/21 [==============================] - 0s 4ms/step - loss: 18.8033 - val_loss: 990.2691\n",
      "Epoch 442/500\n",
      "21/21 [==============================] - 0s 4ms/step - loss: 18.8034 - val_loss: 990.2686\n",
      "Epoch 443/500\n",
      "21/21 [==============================] - 0s 5ms/step - loss: 18.8036 - val_loss: 990.2682\n",
      "Epoch 444/500\n",
      "21/21 [==============================] - 0s 5ms/step - loss: 18.8037 - val_loss: 990.2676\n",
      "Epoch 445/500\n",
      "21/21 [==============================] - 0s 5ms/step - loss: 18.8038 - val_loss: 990.2673\n",
      "Epoch 446/500\n",
      "21/21 [==============================] - 0s 5ms/step - loss: 18.8039 - val_loss: 990.2663\n",
      "Epoch 447/500\n",
      "21/21 [==============================] - 0s 4ms/step - loss: 18.8041 - val_loss: 990.2655\n",
      "Epoch 448/500\n",
      "21/21 [==============================] - 0s 4ms/step - loss: 18.8042 - val_loss: 990.2651\n",
      "Epoch 449/500\n",
      "21/21 [==============================] - 0s 4ms/step - loss: 18.8043 - val_loss: 990.2646\n",
      "Epoch 450/500\n",
      "21/21 [==============================] - 0s 5ms/step - loss: 18.8044 - val_loss: 990.2641\n",
      "Epoch 451/500\n",
      "21/21 [==============================] - 0s 5ms/step - loss: 18.8045 - val_loss: 990.2636\n",
      "Epoch 452/500\n",
      "21/21 [==============================] - 0s 4ms/step - loss: 18.8047 - val_loss: 990.2629\n",
      "Epoch 453/500\n",
      "21/21 [==============================] - 0s 9ms/step - loss: 18.8049 - val_loss: 990.2628\n",
      "Epoch 454/500\n",
      "21/21 [==============================] - 0s 6ms/step - loss: 18.8049 - val_loss: 990.2620\n",
      "Epoch 455/500\n",
      "21/21 [==============================] - 0s 5ms/step - loss: 18.8050 - val_loss: 990.2615\n",
      "Epoch 456/500\n",
      "21/21 [==============================] - 0s 5ms/step - loss: 18.8051 - val_loss: 990.2613\n",
      "Epoch 457/500\n",
      "21/21 [==============================] - 0s 5ms/step - loss: 18.8053 - val_loss: 990.2610\n",
      "Epoch 458/500\n",
      "21/21 [==============================] - 0s 5ms/step - loss: 18.8053 - val_loss: 990.2607\n",
      "Epoch 459/500\n",
      "21/21 [==============================] - 0s 5ms/step - loss: 18.8055 - val_loss: 990.2607\n",
      "Epoch 460/500\n",
      "21/21 [==============================] - 0s 5ms/step - loss: 18.8056 - val_loss: 990.2603\n",
      "Epoch 461/500\n",
      "21/21 [==============================] - 0s 4ms/step - loss: 18.8056 - val_loss: 990.2598\n",
      "Epoch 462/500\n",
      "21/21 [==============================] - 0s 4ms/step - loss: 18.8058 - val_loss: 990.2591\n",
      "Epoch 463/500\n",
      "21/21 [==============================] - 0s 4ms/step - loss: 18.8058 - val_loss: 990.2584\n",
      "Epoch 464/500\n",
      "21/21 [==============================] - 0s 4ms/step - loss: 18.8060 - val_loss: 990.2579\n",
      "Epoch 465/500\n",
      "21/21 [==============================] - 0s 4ms/step - loss: 18.8061 - val_loss: 990.2579\n",
      "Epoch 466/500\n",
      "21/21 [==============================] - 0s 4ms/step - loss: 18.8061 - val_loss: 990.2573\n",
      "Epoch 467/500\n",
      "21/21 [==============================] - 0s 5ms/step - loss: 18.8062 - val_loss: 990.2569\n",
      "Epoch 468/500\n",
      "21/21 [==============================] - 0s 5ms/step - loss: 18.8063 - val_loss: 990.2565\n",
      "Epoch 469/500\n",
      "21/21 [==============================] - 0s 5ms/step - loss: 18.8064 - val_loss: 990.2563\n",
      "Epoch 470/500\n",
      "21/21 [==============================] - 0s 5ms/step - loss: 18.8065 - val_loss: 990.2562\n",
      "Epoch 471/500\n",
      "21/21 [==============================] - 0s 4ms/step - loss: 18.8066 - val_loss: 990.2559\n",
      "Epoch 472/500\n",
      "21/21 [==============================] - 0s 9ms/step - loss: 18.8067 - val_loss: 990.2559\n",
      "Epoch 473/500\n",
      "21/21 [==============================] - 0s 5ms/step - loss: 18.8067 - val_loss: 990.2553\n",
      "Epoch 474/500\n",
      "21/21 [==============================] - 0s 5ms/step - loss: 18.8068 - val_loss: 990.2548\n",
      "Epoch 475/500\n",
      "21/21 [==============================] - 0s 5ms/step - loss: 18.8069 - val_loss: 990.2543\n",
      "Epoch 476/500\n",
      "21/21 [==============================] - 0s 5ms/step - loss: 18.8070 - val_loss: 990.2543\n",
      "Epoch 477/500\n",
      "21/21 [==============================] - 0s 5ms/step - loss: 18.8071 - val_loss: 990.2543\n",
      "Epoch 478/500\n",
      "21/21 [==============================] - 0s 4ms/step - loss: 18.8071 - val_loss: 990.2537\n",
      "Epoch 479/500\n",
      "21/21 [==============================] - 0s 4ms/step - loss: 18.8072 - val_loss: 990.2534\n",
      "Epoch 480/500\n",
      "21/21 [==============================] - 0s 5ms/step - loss: 18.8072 - val_loss: 990.2531\n",
      "Epoch 481/500\n",
      "21/21 [==============================] - 0s 4ms/step - loss: 18.8073 - val_loss: 990.2529\n",
      "Epoch 482/500\n",
      "21/21 [==============================] - 0s 4ms/step - loss: 18.8073 - val_loss: 990.2520\n",
      "Epoch 483/500\n",
      "21/21 [==============================] - 0s 4ms/step - loss: 18.8075 - val_loss: 990.2523\n",
      "Epoch 484/500\n",
      "21/21 [==============================] - 0s 4ms/step - loss: 18.8075 - val_loss: 990.2519\n",
      "Epoch 485/500\n",
      "21/21 [==============================] - 0s 5ms/step - loss: 18.8075 - val_loss: 990.2512\n",
      "Epoch 486/500\n",
      "21/21 [==============================] - 0s 5ms/step - loss: 18.8077 - val_loss: 990.2514\n",
      "Epoch 487/500\n",
      "21/21 [==============================] - 0s 5ms/step - loss: 18.8077 - val_loss: 990.2510\n",
      "Epoch 488/500\n",
      "21/21 [==============================] - 0s 4ms/step - loss: 18.8077 - val_loss: 990.2507\n",
      "Epoch 489/500\n",
      "21/21 [==============================] - 0s 4ms/step - loss: 18.8078 - val_loss: 990.2505\n",
      "Epoch 490/500\n",
      "21/21 [==============================] - 0s 5ms/step - loss: 18.8078 - val_loss: 990.2501\n",
      "Epoch 491/500\n",
      "21/21 [==============================] - 0s 4ms/step - loss: 18.8079 - val_loss: 990.2496\n",
      "Epoch 492/500\n",
      "21/21 [==============================] - 0s 9ms/step - loss: 18.8080 - val_loss: 990.2496\n",
      "Epoch 493/500\n",
      "21/21 [==============================] - 0s 5ms/step - loss: 18.8080 - val_loss: 990.2496\n",
      "Epoch 494/500\n",
      "21/21 [==============================] - 0s 5ms/step - loss: 18.8081 - val_loss: 990.2495\n",
      "Epoch 495/500\n",
      "21/21 [==============================] - 0s 5ms/step - loss: 18.8081 - val_loss: 990.2491\n",
      "Epoch 496/500\n",
      "21/21 [==============================] - 0s 5ms/step - loss: 18.8082 - val_loss: 990.2493\n",
      "Epoch 497/500\n",
      "21/21 [==============================] - 0s 5ms/step - loss: 18.8082 - val_loss: 990.2493\n",
      "Epoch 498/500\n",
      "21/21 [==============================] - 0s 5ms/step - loss: 18.8083 - val_loss: 990.2491\n",
      "Epoch 499/500\n",
      "21/21 [==============================] - 0s 5ms/step - loss: 18.8083 - val_loss: 990.2488\n",
      "Epoch 500/500\n",
      "21/21 [==============================] - 0s 5ms/step - loss: 18.8083 - val_loss: 990.2482\n"
     ]
    }
   ],
   "source": [
    "C0 = tf.Variable(86.8407, name=\"C0\", trainable=True, dtype=tf.float32)\n",
    "K0 = tf.Variable(-0.0015, name=\"K0\", trainable=True, dtype=tf.float32)\n",
    "K1 = tf.Variable(-0.0001, name=\"K1\", trainable=True, dtype=tf.float32)\n",
    "a = tf.Variable(0.0000, name=\"a\", trainable=True, dtype=tf.float32)\n",
    "b = tf.Variable(0.0118, name=\"b\", trainable=True, dtype=tf.float32)\n",
    "c = tf.Variable(2.5775, name=\"c\", trainable=True, dtype=tf.float32)\n",
    "\n",
    "splitr = 0.8\n",
    "\n",
    "\n",
    "def loss_fn(y_true, y_pred):\n",
    "    squared_difference = tf.square(y_true[:, 0] - y_pred[:, 0])\n",
    "    #squared_difference2 = tf.square(y_true[:, 2]-y_pred[:, 2])\n",
    "    #squared_difference1 = tf.square(y_true[:, 1]-y_pred[:, 1])\n",
    "    epsilon = 1\n",
    "    squared_difference3 = tf.square(\n",
    "        y_pred[:, 1] - (\n",
    "            y_pred[:, 0] * (\n",
    "                K0 - K1 * (\n",
    "                    9 * a * tf.math.log((y_pred[:, 0] + epsilon) / C0) / (K0 - K1 * c)**2 +\n",
    "                    4 * b * tf.math.log((y_pred[:, 0] + epsilon) / C0) / (K0 - K1 * c) + c\n",
    "                )\n",
    "            )\n",
    "        )\n",
    "    )\n",
    "    return tf.reduce_mean(squared_difference, axis=-1) + 0.2*tf.reduce_mean(squared_difference3, axis=-1)\n",
    "model = Sequential()\n",
    "model.add(LSTM(100, input_shape=(trainX.shape[1], trainX.shape[2])))\n",
    "model.add(Dense(60))\n",
    "model.compile(loss=loss_fn, optimizer='adam')\n",
    "history = model.fit(trainX[:int(splitr*trainX.shape[0])], trainy[:int(splitr*trainX.shape[0])], epochs=500, batch_size=64, validation_data=(trainX[int(splitr*trainX.shape[0]):trainX.shape[0]], trainy[int(splitr*trainX.shape[0]):trainX.shape[0]]), shuffle=False)"
   ]
  },
  {
   "cell_type": "code",
   "execution_count": 19,
   "metadata": {
    "colab": {
     "base_uri": "https://localhost:8080/"
    },
    "id": "yJL101rPyuoT",
    "outputId": "239ff2b1-c186-423a-d316-939dfdd7c793"
   },
   "outputs": [
    {
     "name": "stdout",
     "output_type": "stream",
     "text": [
      "1/1 [==============================] - 0s 367ms/step\n"
     ]
    }
   ],
   "source": [
    "forecast_without_mc = forecastX\n",
    "yhat_without_mc = model.predict(forecast_without_mc) # Step Ahead Prediction\n",
    "forecast_without_mc = forecast_without_mc.reshape((forecast_without_mc.shape[0], forecast_without_mc.shape[2])) # Historical Input"
   ]
  },
  {
   "cell_type": "code",
   "execution_count": 20,
   "metadata": {
    "colab": {
     "base_uri": "https://localhost:8080/"
    },
    "id": "g9dQELcJ8wbp",
    "outputId": "4dc7671b-b1a8-48d5-8744-a86f98446109"
   },
   "outputs": [
    {
     "data": {
      "text/plain": [
       "(1, 1, 251)"
      ]
     },
     "execution_count": 20,
     "metadata": {},
     "output_type": "execute_result"
    }
   ],
   "source": [
    "forecastX.shape"
   ]
  },
  {
   "cell_type": "code",
   "execution_count": 21,
   "metadata": {
    "colab": {
     "base_uri": "https://localhost:8080/"
    },
    "id": "IS2kyIKG1Kbr",
    "outputId": "f31b3485-8e26-452f-9298-ea8bf7e80ad1"
   },
   "outputs": [
    {
     "data": {
      "text/plain": [
       "(1, 251)"
      ]
     },
     "execution_count": 21,
     "metadata": {},
     "output_type": "execute_result"
    }
   ],
   "source": [
    "forecast_without_mc.shape"
   ]
  },
  {
   "cell_type": "code",
   "execution_count": 22,
   "metadata": {
    "id": "0u6VIzaDyuoT"
   },
   "outputs": [],
   "source": [
    "inv_yhat_without_mc = np.concatenate((forecast_without_mc, yhat_without_mc), axis=1) # Concatenation of predicted values with Historical Data\n",
    "#inv_yhat_without_mc = scaler.inverse_transform(inv_yhat_without_mc) # Transform labels back to original encoding"
   ]
  },
  {
   "cell_type": "code",
   "execution_count": 23,
   "metadata": {
    "colab": {
     "base_uri": "https://localhost:8080/"
    },
    "id": "EUEcw0LX07oU",
    "outputId": "cfc32397-9c37-4b43-d087-584bb31c3dcc"
   },
   "outputs": [
    {
     "data": {
      "text/plain": [
       "(1, 311)"
      ]
     },
     "execution_count": 23,
     "metadata": {},
     "output_type": "execute_result"
    }
   ],
   "source": [
    "inv_yhat_without_mc.shape"
   ]
  },
  {
   "cell_type": "code",
   "execution_count": 24,
   "metadata": {
    "id": "31OWVbSh_305"
   },
   "outputs": [],
   "source": [
    "fforecast = inv_yhat_without_mc[:,-300:]"
   ]
  },
  {
   "cell_type": "code",
   "execution_count": 25,
   "metadata": {},
   "outputs": [
    {
     "data": {
      "text/plain": [
       "(1, 300)"
      ]
     },
     "execution_count": 25,
     "metadata": {},
     "output_type": "execute_result"
    }
   ],
   "source": [
    "fforecast.shape"
   ]
  },
  {
   "cell_type": "code",
   "execution_count": 26,
   "metadata": {
    "id": "BlpGH2FOAiRF"
   },
   "outputs": [],
   "source": [
    "final_forecast = fforecast[:,0:300:3]"
   ]
  },
  {
   "cell_type": "code",
   "execution_count": 27,
   "metadata": {},
   "outputs": [
    {
     "data": {
      "text/plain": [
       "(1, 300)"
      ]
     },
     "execution_count": 27,
     "metadata": {},
     "output_type": "execute_result"
    }
   ],
   "source": [
    "fforecast.shape"
   ]
  },
  {
   "cell_type": "code",
   "execution_count": 28,
   "metadata": {
    "id": "CXkgkj_LBk_t"
   },
   "outputs": [],
   "source": [
    "# code to replace all negative value with 0\n",
    "final_forecast[final_forecast<0] = 0"
   ]
  },
  {
   "cell_type": "code",
   "execution_count": 29,
   "metadata": {},
   "outputs": [
    {
     "data": {
      "text/plain": [
       "array([[6.86044118e+01, 6.85119748e+01, 6.84195378e+01, 6.83271008e+01,\n",
       "        6.82346639e+01, 6.81212185e+01, 6.79951681e+01, 0.00000000e+00,\n",
       "        0.00000000e+00, 0.00000000e+00, 4.79321930e-02, 0.00000000e+00,\n",
       "        0.00000000e+00, 6.93570495e+01, 6.93234360e+01, 6.92720121e+01,\n",
       "        6.91795752e+01, 6.90871382e+01, 6.89947012e+01, 6.89022642e+01,\n",
       "        6.88098273e+01, 6.87173903e+01, 6.86249533e+01, 6.85325163e+01,\n",
       "        6.84400794e+01, 6.83476424e+01, 6.82552054e+01, 6.81492297e+01,\n",
       "        6.80231793e+01, 6.78971289e+01, 6.77710784e+01, 6.76450280e+01,\n",
       "        6.75189776e+01, 6.73929272e+01, 6.72668767e+01, 6.71408263e+01,\n",
       "        6.70147759e+01, 6.68887255e+01, 6.67626751e+01, 6.66661998e+01,\n",
       "        0.00000000e+00, 2.91491540e-01, 9.92602700e-02, 7.78855440e-01,\n",
       "        0.00000000e+00, 1.66989040e-01, 0.00000000e+00, 6.83671839e+01,\n",
       "        6.82757470e+01, 6.81772409e+01, 6.80511905e+01, 6.79451401e+01,\n",
       "        6.77890896e+01, 6.76730392e+01, 6.75476988e+01, 6.74209384e+01,\n",
       "        6.72948880e+01, 6.71688375e+01, 6.70427871e+01, 6.69167367e+01,\n",
       "        6.67906863e+01, 6.66811391e+01, 6.98908030e+01, 6.98403828e+01,\n",
       "        6.97899627e+01, 6.97395425e+01, 6.96782446e+01, 6.95774043e+01,\n",
       "        6.94776564e+01, 6.93775724e+01, 6.92309290e+01, 0.00000000e+00,\n",
       "        0.00000000e+00, 6.34659462e+01, 0.00000000e+00, 8.26832712e-01,\n",
       "        9.94954300e-03, 6.24333203e-01, 2.44547352e-01, 0.00000000e+00,\n",
       "        5.88982048e+01, 0.00000000e+00, 0.00000000e+00, 1.35703892e-01,\n",
       "        4.81509626e-01, 0.00000000e+00, 3.07033718e-01, 0.00000000e+00,\n",
       "        0.00000000e+00, 0.00000000e+00, 0.00000000e+00, 0.00000000e+00,\n",
       "        2.97727555e-01, 3.51600379e-01, 2.67281473e-01, 0.00000000e+00,\n",
       "        0.00000000e+00, 1.87531620e-01, 0.00000000e+00, 0.00000000e+00]])"
      ]
     },
     "execution_count": 29,
     "metadata": {},
     "output_type": "execute_result"
    }
   ],
   "source": [
    "final_forecast"
   ]
  },
  {
   "cell_type": "code",
   "execution_count": 30,
   "metadata": {},
   "outputs": [
    {
     "data": {
      "text/plain": [
       "(1, 100)"
      ]
     },
     "execution_count": 30,
     "metadata": {},
     "output_type": "execute_result"
    }
   ],
   "source": [
    "final_forecast.shape"
   ]
  },
  {
   "cell_type": "code",
   "execution_count": 31,
   "metadata": {},
   "outputs": [
    {
     "data": {
      "text/plain": [
       "(100,)"
      ]
     },
     "execution_count": 31,
     "metadata": {},
     "output_type": "execute_result"
    }
   ],
   "source": [
    "test.shape"
   ]
  },
  {
   "cell_type": "code",
   "execution_count": 32,
   "metadata": {},
   "outputs": [],
   "source": [
    "training_set = np.array(training_set)\n",
    "test = np.array(test)\n",
    "final_forecast = np.array(final_forecast.squeeze(0))"
   ]
  },
  {
   "cell_type": "code",
   "execution_count": 33,
   "metadata": {},
   "outputs": [
    {
     "data": {
      "text/plain": [
       "array([62.73161765, 62.72461485, 62.71761204, 62.71060924, 62.70360644,\n",
       "       62.69660364, 62.68960084, 62.68259804, 62.67559524, 62.66859244,\n",
       "       62.66158964, 62.65458683, 62.64758403, 62.64058123, 62.63357843,\n",
       "       62.62657563, 62.61957283, 62.61257003, 62.60556723, 62.59856443,\n",
       "       62.59156162, 62.58455882, 62.57755602, 62.57055322, 62.56355042,\n",
       "       62.55654762, 62.54954482, 62.54254202, 62.53553922, 62.52853641,\n",
       "       62.52153361, 62.51453081, 62.50752801, 62.50052521, 62.49266926,\n",
       "       62.48474414, 62.47681902, 62.4688939 , 62.46096878, 62.45304366,\n",
       "       62.44511854, 62.43719341, 62.42926829, 62.42134317, 62.41341805,\n",
       "       62.40549293, 62.39756781, 62.38964269, 62.38171757, 62.37379244,\n",
       "       62.36586732, 62.3579422 , 62.35001708, 62.34209196, 62.33416684,\n",
       "       62.32624172, 62.31831659, 62.31039147, 62.30246635, 62.29454123,\n",
       "       62.28661611, 62.27869099, 62.27076587, 62.26284075, 62.25491562,\n",
       "       62.2469905 , 62.23906538, 62.23114026, 62.22321514, 62.21529002,\n",
       "       62.2073649 , 62.19943978, 62.19151465, 62.18358953, 62.17566441,\n",
       "       62.16773929, 62.15981417, 62.15188905, 62.14396393, 62.13603881,\n",
       "       62.12811368, 62.12018856, 62.11226344, 62.10433832, 62.0964132 ,\n",
       "       62.08848808, 62.08056296, 62.07263784, 62.06471271, 62.05678759,\n",
       "       62.04886247, 62.04093735, 62.03301223, 62.02508711, 62.01716199,\n",
       "       62.00923687, 62.00131174, 61.99338662, 61.9854615 , 61.97753638])"
      ]
     },
     "execution_count": 33,
     "metadata": {},
     "output_type": "execute_result"
    }
   ],
   "source": [
    "test"
   ]
  },
  {
   "cell_type": "code",
   "execution_count": 34,
   "metadata": {},
   "outputs": [
    {
     "data": {
      "text/plain": [
       "(100,)"
      ]
     },
     "execution_count": 34,
     "metadata": {},
     "output_type": "execute_result"
    }
   ],
   "source": [
    "test.shape"
   ]
  },
  {
   "cell_type": "code",
   "execution_count": 35,
   "metadata": {},
   "outputs": [
    {
     "data": {
      "text/plain": [
       "(100,)"
      ]
     },
     "execution_count": 35,
     "metadata": {},
     "output_type": "execute_result"
    }
   ],
   "source": [
    "final_forecast.shape"
   ]
  },
  {
   "cell_type": "code",
   "execution_count": 36,
   "metadata": {},
   "outputs": [
    {
     "data": {
      "text/plain": [
       "(100,)"
      ]
     },
     "execution_count": 36,
     "metadata": {},
     "output_type": "execute_result"
    }
   ],
   "source": [
    "test.shape"
   ]
  },
  {
   "cell_type": "code",
   "execution_count": 37,
   "metadata": {},
   "outputs": [
    {
     "name": "stdout",
     "output_type": "stream",
     "text": [
      "39.53060211770588\n",
      "28.23571309081738\n"
     ]
    }
   ],
   "source": [
    "import math\n",
    "MSE = np.square(np.subtract(np.array(test),np.array(final_forecast))).mean()   \n",
    "rsme = math.sqrt(MSE)\n",
    "print(rsme)  \n",
    "MAE = np.abs(np.subtract(np.array(test),np.array(final_forecast))).mean()   \n",
    "mae = MAE\n",
    "print(mae)"
   ]
  }
 ],
 "metadata": {
  "colab": {
   "provenance": []
  },
  "kernelspec": {
   "display_name": "Python 3",
   "language": "python",
   "name": "python3"
  },
  "language_info": {
   "codemirror_mode": {
    "name": "ipython",
    "version": 3
   },
   "file_extension": ".py",
   "mimetype": "text/x-python",
   "name": "python",
   "nbconvert_exporter": "python",
   "pygments_lexer": "ipython3",
   "version": "3.9.13"
  }
 },
 "nbformat": 4,
 "nbformat_minor": 0
}
