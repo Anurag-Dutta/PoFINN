{
 "cells": [
  {
   "cell_type": "markdown",
   "metadata": {
    "id": "pCGKeZ2gyuoQ"
   },
   "source": [
    "_Importing Required Libraries_"
   ]
  },
  {
   "cell_type": "code",
   "execution_count": 1,
   "metadata": {
    "colab": {
     "base_uri": "https://localhost:8080/"
    },
    "id": "A-6LN-zXiLcM",
    "outputId": "4de610a4-f8b8-4f49-c6c0-89de299ccedc"
   },
   "outputs": [
    {
     "name": "stdout",
     "output_type": "stream",
     "text": [
      "Requirement already satisfied: hampel in c:\\users\\anurag dutta\\appdata\\local\\packages\\pythonsoftwarefoundation.python.3.9_qbz5n2kfra8p0\\localcache\\local-packages\\python39\\site-packages (0.0.5)\n",
      "Requirement already satisfied: numpy in c:\\users\\anurag dutta\\appdata\\local\\packages\\pythonsoftwarefoundation.python.3.9_qbz5n2kfra8p0\\localcache\\local-packages\\python39\\site-packages (from hampel) (1.26.4)\n",
      "Requirement already satisfied: pandas in c:\\users\\anurag dutta\\appdata\\local\\packages\\pythonsoftwarefoundation.python.3.9_qbz5n2kfra8p0\\localcache\\local-packages\\python39\\site-packages (from hampel) (1.5.2)\n",
      "Requirement already satisfied: python-dateutil>=2.8.1 in c:\\users\\anurag dutta\\appdata\\local\\packages\\pythonsoftwarefoundation.python.3.9_qbz5n2kfra8p0\\localcache\\local-packages\\python39\\site-packages (from pandas->hampel) (2.8.2)\n",
      "Requirement already satisfied: pytz>=2020.1 in c:\\users\\anurag dutta\\appdata\\local\\packages\\pythonsoftwarefoundation.python.3.9_qbz5n2kfra8p0\\localcache\\local-packages\\python39\\site-packages (from pandas->hampel) (2023.3.post1)\n",
      "Requirement already satisfied: six>=1.5 in c:\\users\\anurag dutta\\appdata\\local\\packages\\pythonsoftwarefoundation.python.3.9_qbz5n2kfra8p0\\localcache\\local-packages\\python39\\site-packages (from python-dateutil>=2.8.1->pandas->hampel) (1.16.0)\n",
      "Note: you may need to restart the kernel to use updated packages.\n"
     ]
    },
    {
     "name": "stderr",
     "output_type": "stream",
     "text": [
      "\n",
      "[notice] A new release of pip is available: 24.2 -> 24.3.1\n",
      "[notice] To update, run: C:\\Users\\Anurag Dutta\\AppData\\Local\\Microsoft\\WindowsApps\\PythonSoftwareFoundation.Python.3.9_qbz5n2kfra8p0\\python.exe -m pip install --upgrade pip\n"
     ]
    }
   ],
   "source": [
    "pip install hampel"
   ]
  },
  {
   "cell_type": "code",
   "execution_count": 2,
   "metadata": {
    "id": "By_d9uXpaFvZ"
   },
   "outputs": [],
   "source": [
    "from keras.models import Sequential\n",
    "from keras.layers import Dense\n",
    "from keras.layers import LSTM\n",
    "from keras.layers import Dropout\n",
    "import keras\n",
    "import tensorflow as tf\n",
    "from hampel import hampel\n",
    "import numpy as np\n",
    "import matplotlib.pyplot as plt\n",
    "import pandas as pd\n",
    "from sklearn.preprocessing import MinMaxScaler\n",
    "from sklearn.metrics import mean_squared_error, mean_absolute_error\n",
    "from math import sqrt\n",
    "from matplotlib import pyplot\n",
    "from numpy import array"
   ]
  },
  {
   "cell_type": "markdown",
   "metadata": {
    "id": "JyOjBMFayuoR"
   },
   "source": [
    "## Pretraining"
   ]
  },
  {
   "cell_type": "markdown",
   "metadata": {
    "id": "-5QqIY_GyuoR"
   },
   "source": [
    "The `capa_intermittency.dat` feeds the model with the dynamics of the Capacitor"
   ]
  },
  {
   "cell_type": "code",
   "execution_count": 3,
   "metadata": {
    "id": "9dV4a8yfyuoR"
   },
   "outputs": [],
   "source": [
    "data = np.genfromtxt('capa_intermittency.dat')\n",
    "training_set = pd.DataFrame(data).reset_index(drop=True)\n",
    "training_set = training_set.iloc[:,0]"
   ]
  },
  {
   "cell_type": "markdown",
   "metadata": {
    "id": "i7easoxByuoR"
   },
   "source": [
    "## Computing the Gradient"
   ]
  },
  {
   "cell_type": "markdown",
   "metadata": {
    "id": "5SnyolJTyuoR"
   },
   "source": [
    "_Calculating the value of_ $\\frac{dx}{dt}$"
   ]
  },
  {
   "cell_type": "code",
   "execution_count": 4,
   "metadata": {
    "colab": {
     "base_uri": "https://localhost:8080/"
    },
    "id": "wmIbVfIvyuoR",
    "outputId": "aa4e3136-c854-465d-d2e9-81cfd546e440"
   },
   "outputs": [
    {
     "name": "stdout",
     "output_type": "stream",
     "text": [
      "1.0\n",
      "1        0.000298\n",
      "2        0.000298\n",
      "3        0.000297\n",
      "4        0.000297\n",
      "5        0.000297\n",
      "           ...   \n",
      "9996     0.000018\n",
      "9997     0.000018\n",
      "9998     0.000018\n",
      "9999     0.000018\n",
      "10000    0.000018\n",
      "Name: 0, Length: 10000, dtype: float64\n"
     ]
    }
   ],
   "source": [
    "t_diff = 1\n",
    "print(training_set.max())\n",
    "gradient_t = (training_set.diff()/t_diff).iloc[1:] # dx/dt\n",
    "print(gradient_t)"
   ]
  },
  {
   "cell_type": "markdown",
   "metadata": {
    "id": "_2eVeeoxyuoS"
   },
   "source": [
    "## Loading Datasets"
   ]
  },
  {
   "cell_type": "code",
   "execution_count": 5,
   "metadata": {
    "id": "0J-NKyIEyuoS"
   },
   "outputs": [
    {
     "data": {
      "text/plain": [
       "0       89.140000\n",
       "1       88.911429\n",
       "2       88.682857\n",
       "3       88.454286\n",
       "4       88.225714\n",
       "          ...    \n",
       "1995    63.466912\n",
       "1996    63.459909\n",
       "1997    63.452906\n",
       "1998    63.445903\n",
       "1999    63.438901\n",
       "Name: C5, Length: 2000, dtype: float64"
      ]
     },
     "execution_count": 5,
     "metadata": {},
     "output_type": "execute_result"
    }
   ],
   "source": [
    "data = pd.read_csv(\"c5_interpolated_1900_100.csv\")\n",
    "training_set = data.iloc[:, 1]\n",
    "training_set"
   ]
  },
  {
   "cell_type": "code",
   "execution_count": 6,
   "metadata": {
    "colab": {
     "base_uri": "https://localhost:8080/"
    },
    "id": "-CbNUhJ74UqF",
    "outputId": "20f562d8-8247-49cc-b9c3-00eca5e13e2d"
   },
   "outputs": [
    {
     "data": {
      "text/plain": [
       "0       89.140000\n",
       "1       88.911429\n",
       "2       88.682857\n",
       "3       88.454286\n",
       "4       88.225714\n",
       "          ...    \n",
       "1895     0.244547\n",
       "1896     0.000000\n",
       "1897     0.000000\n",
       "1898     0.000000\n",
       "1899     0.013934\n",
       "Name: C5, Length: 1900, dtype: float64"
      ]
     },
     "execution_count": 6,
     "metadata": {},
     "output_type": "execute_result"
    }
   ],
   "source": [
    "test = training_set.tail(100)\n",
    "test\n",
    "training_set = training_set.head(1900)\n",
    "training_set"
   ]
  },
  {
   "cell_type": "code",
   "execution_count": 7,
   "metadata": {
    "colab": {
     "base_uri": "https://localhost:8080/"
    },
    "id": "X0TwTcq0yuoS",
    "outputId": "37252ed8-d88e-4044-fa7a-922411990b5b"
   },
   "outputs": [
    {
     "name": "stdout",
     "output_type": "stream",
     "text": [
      "0       0.000298\n",
      "1       0.000298\n",
      "2       0.000297\n",
      "3       0.000297\n",
      "4       0.000297\n",
      "          ...   \n",
      "9995    0.000018\n",
      "9996    0.000018\n",
      "9997    0.000018\n",
      "9998    0.000018\n",
      "9999    0.000018\n",
      "Name: 0, Length: 10000, dtype: float64\n"
     ]
    }
   ],
   "source": [
    "training_set = training_set.reset_index(drop=True)\n",
    "gradient_t = gradient_t.reset_index(drop=True)\n",
    "print(gradient_t)"
   ]
  },
  {
   "cell_type": "code",
   "execution_count": 8,
   "metadata": {
    "id": "O2biznZQyuoS"
   },
   "outputs": [],
   "source": [
    "df = pd.concat((training_set, gradient_t), axis=1)\n",
    "df.columns = ['y_t', 'grad_t']"
   ]
  },
  {
   "cell_type": "code",
   "execution_count": 9,
   "metadata": {
    "colab": {
     "base_uri": "https://localhost:8080/",
     "height": 423
    },
    "id": "sk_a5v3tyuoS",
    "outputId": "17563625-e550-45ae-faab-fafa353e44da"
   },
   "outputs": [
    {
     "data": {
      "text/html": [
       "<div>\n",
       "<style scoped>\n",
       "    .dataframe tbody tr th:only-of-type {\n",
       "        vertical-align: middle;\n",
       "    }\n",
       "\n",
       "    .dataframe tbody tr th {\n",
       "        vertical-align: top;\n",
       "    }\n",
       "\n",
       "    .dataframe thead th {\n",
       "        text-align: right;\n",
       "    }\n",
       "</style>\n",
       "<table border=\"1\" class=\"dataframe\">\n",
       "  <thead>\n",
       "    <tr style=\"text-align: right;\">\n",
       "      <th></th>\n",
       "      <th>y_t</th>\n",
       "      <th>grad_t</th>\n",
       "    </tr>\n",
       "  </thead>\n",
       "  <tbody>\n",
       "    <tr>\n",
       "      <th>0</th>\n",
       "      <td>89.140000</td>\n",
       "      <td>0.000298</td>\n",
       "    </tr>\n",
       "    <tr>\n",
       "      <th>1</th>\n",
       "      <td>88.911429</td>\n",
       "      <td>0.000298</td>\n",
       "    </tr>\n",
       "    <tr>\n",
       "      <th>2</th>\n",
       "      <td>88.682857</td>\n",
       "      <td>0.000297</td>\n",
       "    </tr>\n",
       "    <tr>\n",
       "      <th>3</th>\n",
       "      <td>88.454286</td>\n",
       "      <td>0.000297</td>\n",
       "    </tr>\n",
       "    <tr>\n",
       "      <th>4</th>\n",
       "      <td>88.225714</td>\n",
       "      <td>0.000297</td>\n",
       "    </tr>\n",
       "    <tr>\n",
       "      <th>...</th>\n",
       "      <td>...</td>\n",
       "      <td>...</td>\n",
       "    </tr>\n",
       "    <tr>\n",
       "      <th>9995</th>\n",
       "      <td>NaN</td>\n",
       "      <td>0.000018</td>\n",
       "    </tr>\n",
       "    <tr>\n",
       "      <th>9996</th>\n",
       "      <td>NaN</td>\n",
       "      <td>0.000018</td>\n",
       "    </tr>\n",
       "    <tr>\n",
       "      <th>9997</th>\n",
       "      <td>NaN</td>\n",
       "      <td>0.000018</td>\n",
       "    </tr>\n",
       "    <tr>\n",
       "      <th>9998</th>\n",
       "      <td>NaN</td>\n",
       "      <td>0.000018</td>\n",
       "    </tr>\n",
       "    <tr>\n",
       "      <th>9999</th>\n",
       "      <td>NaN</td>\n",
       "      <td>0.000018</td>\n",
       "    </tr>\n",
       "  </tbody>\n",
       "</table>\n",
       "<p>10000 rows × 2 columns</p>\n",
       "</div>"
      ],
      "text/plain": [
       "            y_t    grad_t\n",
       "0     89.140000  0.000298\n",
       "1     88.911429  0.000298\n",
       "2     88.682857  0.000297\n",
       "3     88.454286  0.000297\n",
       "4     88.225714  0.000297\n",
       "...         ...       ...\n",
       "9995        NaN  0.000018\n",
       "9996        NaN  0.000018\n",
       "9997        NaN  0.000018\n",
       "9998        NaN  0.000018\n",
       "9999        NaN  0.000018\n",
       "\n",
       "[10000 rows x 2 columns]"
      ]
     },
     "execution_count": 9,
     "metadata": {},
     "output_type": "execute_result"
    }
   ],
   "source": [
    "df"
   ]
  },
  {
   "cell_type": "markdown",
   "metadata": {
    "id": "-5esyHu5aFvg"
   },
   "source": [
    "## Plot of the External Forcing from Chaotic Differential Equation"
   ]
  },
  {
   "cell_type": "code",
   "execution_count": 10,
   "metadata": {
    "colab": {
     "base_uri": "https://localhost:8080/",
     "height": 447
    },
    "id": "hGnE43tOh-4p",
    "outputId": "fc396503-b624-4fa5-dfbe-f460207405c6"
   },
   "outputs": [
    {
     "data": {
      "text/plain": [
       "<Axes: >"
      ]
     },
     "execution_count": 10,
     "metadata": {},
     "output_type": "execute_result"
    },
    {
     "data": {
      "image/png": "[encoded data removed]",
      "text/plain": [
       "<Figure size 432x288 with 1 Axes>"
      ]
     },
     "metadata": {
      "needs_background": "light"
     },
     "output_type": "display_data"
    }
   ],
   "source": [
    "df.iloc[:, 0].plot()"
   ]
  },
  {
   "cell_type": "code",
   "execution_count": 11,
   "metadata": {
    "colab": {
     "base_uri": "https://localhost:8080/",
     "height": 447
    },
    "id": "ym4xWUUxaFvg",
    "outputId": "ae6a3495-8ce9-437e-ba81-3ed31deedeae"
   },
   "outputs": [
    {
     "name": "stderr",
     "output_type": "stream",
     "text": [
      "C:\\Users\\Anurag Dutta\\AppData\\Local\\Packages\\PythonSoftwareFoundation.Python.3.9_qbz5n2kfra8p0\\LocalCache\\local-packages\\Python39\\site-packages\\pandas\\core\\arraylike.py:402: RuntimeWarning: divide by zero encountered in log\n",
      "  result = getattr(ufunc, method)(*inputs, **kwargs)\n"
     ]
    },
    {
     "data": {
      "text/plain": [
       "<Axes: >"
      ]
     },
     "execution_count": 11,
     "metadata": {},
     "output_type": "execute_result"
    },
    {
     "data": {
      "image/png": "[encoded data removed]",
      "text/plain": [
       "<Figure size 432x288 with 1 Axes>"
      ]
     },
     "metadata": {
      "needs_background": "light"
     },
     "output_type": "display_data"
    }
   ],
   "source": [
    "import numpy as np\n",
    "c0 = 86.8407  # Value for C0\n",
    "K0 = -0.0015  # Value for K0\n",
    "K1 = -0.0001  # Value for K1\n",
    "a = 0.0000    # Value for a\n",
    "b = 0.0118    # Value for b\n",
    "c = 2.5775    # Value for c\n",
    "\n",
    "L = np.minimum(c0, (df.iloc[:, 1] - (df.iloc[:, 0] * (K0 - K1 * (9 * a * np.log(df.iloc[:, 0] / c0) / (K0 - K1 * c)**2 + 4 * b * np.log(df.iloc[:, 0] / c0) / (K0 - K1 * c) + c)))))\n",
    "L.plot()"
   ]
  },
  {
   "cell_type": "markdown",
   "metadata": {
    "id": "9VyEywnwaFvh"
   },
   "source": [
    "## Preprocessing the data into supervised learning"
   ]
  },
  {
   "cell_type": "code",
   "execution_count": 12,
   "metadata": {
    "id": "6V9dXqzdaFvh"
   },
   "outputs": [],
   "source": [
    "# split a sequence into samples\n",
    "def Supervised(data, n_in=1, n_out=1, dropnan=True):\n",
    "    n_vars = 1 if type(data) is list else data.shape[1]\n",
    "    df = pd.DataFrame(data)\n",
    "    cols, names = list(), list()\n",
    "    # input sequence (t-n_in, ... t-1)\n",
    "    for i in range(n_in, 0, -1):\n",
    "        cols.append(df.shift(i))\n",
    "        names += [('var%d(t-%d)' % (j+1, i)) for j in range(n_vars)]\n",
    "    # forecast sequence (t, t+1, ... t+n_out)\n",
    "    for i in range(0, n_out):\n",
    "      cols.append(df.shift(-i))\n",
    "      if i == 0:\n",
    "        names += [('var%d(t)' % (j+1)) for j in range(n_vars)]\n",
    "      else:\n",
    "        names += [('var%d(t+%d)' % (j+1, i)) for j in range(n_vars)]\n",
    "    # put it all together\n",
    "    agg = pd.concat(cols, axis=1)\n",
    "    agg.columns = names\n",
    "    # drop rows with NaN values\n",
    "    if dropnan:\n",
    "       agg.dropna(inplace=True)\n",
    "    return agg"
   ]
  },
  {
   "cell_type": "code",
   "execution_count": 13,
   "metadata": {
    "colab": {
     "base_uri": "https://localhost:8080/"
    },
    "id": "CrzSrT1HnyfH",
    "outputId": "7e75f928-3e47-499d-eac1-51908015ef78"
   },
   "outputs": [
    {
     "name": "stdout",
     "output_type": "stream",
     "text": [
      "     var1(t-350)  var1(t-349)  var1(t-348)  var1(t-347)  var1(t-346)  \\\n",
      "350    89.140000    88.911429    88.682857    88.454286    88.225714   \n",
      "351    88.911429    88.682857    88.454286    88.225714    87.997143   \n",
      "352    88.682857    88.454286    88.225714    87.997143    87.768571   \n",
      "353    88.454286    88.225714    87.997143    87.768571    87.540000   \n",
      "354    88.225714    87.997143    87.768571    87.540000    87.311429   \n",
      "\n",
      "     var1(t-345)  var1(t-344)  var1(t-343)  var1(t-342)  var1(t-341)  ...  \\\n",
      "350    87.997143    87.768571    87.540000    87.311429    87.095798  ...   \n",
      "351    87.768571    87.540000    87.311429    87.095798    87.039776  ...   \n",
      "352    87.540000    87.311429    87.095798    87.039776    86.983754  ...   \n",
      "353    87.311429    87.095798    87.039776    86.983754    86.927731  ...   \n",
      "354    87.095798    87.039776    86.983754    86.927731    86.871709  ...   \n",
      "\n",
      "     var1(t+95)  var2(t+95)  var1(t+96)  var2(t+96)  var1(t+97)  var2(t+97)  \\\n",
      "350   79.161181    0.000263   79.132236    0.000263   79.103291    0.000263   \n",
      "351   79.132236    0.000263   79.103291    0.000263   79.074346    0.000262   \n",
      "352   79.103291    0.000263   79.074346    0.000262   79.045401    0.000262   \n",
      "353   79.074346    0.000262   79.045401    0.000262   79.016457    0.000262   \n",
      "354   79.045401    0.000262   79.016457    0.000262   78.987512    0.000262   \n",
      "\n",
      "     var1(t+98)  var2(t+98)  var1(t+99)  var2(t+99)  \n",
      "350   79.074346    0.000262   79.045401    0.000262  \n",
      "351   79.045401    0.000262   79.016457    0.000262  \n",
      "352   79.016457    0.000262   78.987512    0.000262  \n",
      "353   78.987512    0.000262   78.958567    0.000262  \n",
      "354   78.958567    0.000262   78.929622    0.000262  \n",
      "\n",
      "[5 rows x 551 columns]\n",
      "Index(['var1(t-350)', 'var1(t-349)', 'var1(t-348)', 'var1(t-347)',\n",
      "       'var1(t-346)', 'var1(t-345)', 'var1(t-344)', 'var1(t-343)',\n",
      "       'var1(t-342)', 'var1(t-341)',\n",
      "       ...\n",
      "       'var1(t+95)', 'var2(t+95)', 'var1(t+96)', 'var2(t+96)', 'var1(t+97)',\n",
      "       'var2(t+97)', 'var1(t+98)', 'var2(t+98)', 'var1(t+99)', 'var2(t+99)'],\n",
      "      dtype='object', length=551)\n"
     ]
    }
   ],
   "source": [
    "data = Supervised(df.values, n_in = 350, n_out = 100)\n",
    "\n",
    "\n",
    "cols_to_drop = []\n",
    "for i in range(2, 351):\n",
    "    cols_to_drop.extend([f'var2(t-{i})'])\n",
    "\n",
    "data.drop(cols_to_drop, axis=1, inplace=True)\n",
    "\n",
    "print(data.head())\n",
    "print(data.columns)"
   ]
  },
  {
   "cell_type": "code",
   "execution_count": 14,
   "metadata": {
    "id": "AfPf60oy6Pe4"
   },
   "outputs": [],
   "source": [
    "train = np.array(data[0:len(data)-1])\n",
    "forecast = np.array(data.tail(1))"
   ]
  },
  {
   "cell_type": "code",
   "execution_count": 15,
   "metadata": {
    "id": "WSAafzI37KiT"
   },
   "outputs": [],
   "source": [
    "trainy = train[:,-300:]\n",
    "trainX = train[:,:-300]"
   ]
  },
  {
   "cell_type": "code",
   "execution_count": 16,
   "metadata": {
    "id": "2SrOqVJA7f50"
   },
   "outputs": [],
   "source": [
    "forecasty = forecast[:,-300:]\n",
    "forecastX = forecast[:,:-300]"
   ]
  },
  {
   "cell_type": "code",
   "execution_count": 17,
   "metadata": {
    "colab": {
     "base_uri": "https://localhost:8080/"
    },
    "id": "Qno_k8Nw7saY",
    "outputId": "c4a88db5-d8c6-489f-cdb2-06b24e293cff"
   },
   "outputs": [
    {
     "name": "stdout",
     "output_type": "stream",
     "text": [
      "(1450, 1, 251) (1450, 300) (1, 1, 251)\n"
     ]
    }
   ],
   "source": [
    "trainX = trainX.reshape((trainX.shape[0], 1, trainX.shape[1]))\n",
    "forecastX = forecastX.reshape((forecastX.shape[0], 1, forecastX.shape[1]))\n",
    "print(trainX.shape, trainy.shape, forecastX.shape)"
   ]
  },
  {
   "cell_type": "code",
   "execution_count": 18,
   "metadata": {
    "colab": {
     "base_uri": "https://localhost:8080/"
    },
    "id": "b1Jp2DvNuNFx",
    "outputId": "d0e5b3c4-64f1-438c-eade-8dfeaac8e285"
   },
   "outputs": [
    {
     "name": "stdout",
     "output_type": "stream",
     "text": [
      "Epoch 1/500\n",
      "19/19 [==============================] - 3s 28ms/step - loss: 5370.1855 - val_loss: 3978.9971\n",
      "Epoch 2/500\n",
      "19/19 [==============================] - 0s 5ms/step - loss: 5288.7529 - val_loss: 3919.7788\n",
      "Epoch 3/500\n",
      "19/19 [==============================] - 0s 4ms/step - loss: 5216.2944 - val_loss: 3864.2292\n",
      "Epoch 4/500\n",
      "19/19 [==============================] - 0s 5ms/step - loss: 5147.5342 - val_loss: 3812.0164\n",
      "Epoch 5/500\n",
      "19/19 [==============================] - 0s 5ms/step - loss: 5080.3950 - val_loss: 3760.6057\n",
      "Epoch 6/500\n",
      "19/19 [==============================] - 0s 4ms/step - loss: 5014.2070 - val_loss: 3709.9155\n",
      "Epoch 7/500\n",
      "19/19 [==============================] - 0s 4ms/step - loss: 4948.8550 - val_loss: 3659.8794\n",
      "Epoch 8/500\n",
      "19/19 [==============================] - 0s 4ms/step - loss: 4884.2646 - val_loss: 3610.4587\n",
      "Epoch 9/500\n",
      "19/19 [==============================] - 0s 4ms/step - loss: 4820.3862 - val_loss: 3561.6265\n",
      "Epoch 10/500\n",
      "19/19 [==============================] - 0s 4ms/step - loss: 4757.1929 - val_loss: 3513.3665\n",
      "Epoch 11/500\n",
      "19/19 [==============================] - 0s 4ms/step - loss: 4694.6636 - val_loss: 3465.6636\n",
      "Epoch 12/500\n",
      "19/19 [==============================] - 0s 4ms/step - loss: 4632.7827 - val_loss: 3418.5032\n",
      "Epoch 13/500\n",
      "19/19 [==============================] - 0s 4ms/step - loss: 4571.5376 - val_loss: 3370.9358\n",
      "Epoch 14/500\n",
      "19/19 [==============================] - 0s 4ms/step - loss: 4498.3438 - val_loss: 3313.0210\n",
      "Epoch 15/500\n",
      "19/19 [==============================] - 0s 4ms/step - loss: 4432.1958 - val_loss: 3263.4644\n",
      "Epoch 16/500\n",
      "19/19 [==============================] - 0s 4ms/step - loss: 4368.1470 - val_loss: 3215.1982\n",
      "Epoch 17/500\n",
      "19/19 [==============================] - 0s 4ms/step - loss: 4305.5142 - val_loss: 3167.9587\n",
      "Epoch 18/500\n",
      "19/19 [==============================] - 0s 4ms/step - loss: 4244.0127 - val_loss: 3121.5750\n",
      "Epoch 19/500\n",
      "19/19 [==============================] - 0s 4ms/step - loss: 4183.4727 - val_loss: 3075.9487\n",
      "Epoch 20/500\n",
      "19/19 [==============================] - 0s 4ms/step - loss: 4123.7930 - val_loss: 3031.0181\n",
      "Epoch 21/500\n",
      "19/19 [==============================] - 0s 7ms/step - loss: 4064.9099 - val_loss: 2986.7417\n",
      "Epoch 22/500\n",
      "19/19 [==============================] - 0s 4ms/step - loss: 4006.7781 - val_loss: 2943.0891\n",
      "Epoch 23/500\n",
      "19/19 [==============================] - 0s 4ms/step - loss: 3949.3643 - val_loss: 2900.0378\n",
      "Epoch 24/500\n",
      "19/19 [==============================] - 0s 4ms/step - loss: 3892.6440 - val_loss: 2857.5691\n",
      "Epoch 25/500\n",
      "19/19 [==============================] - 0s 4ms/step - loss: 3836.5952 - val_loss: 2815.6694\n",
      "Epoch 26/500\n",
      "19/19 [==============================] - 0s 4ms/step - loss: 3781.2034 - val_loss: 2774.3245\n",
      "Epoch 27/500\n",
      "19/19 [==============================] - 0s 4ms/step - loss: 3726.4534 - val_loss: 2733.5247\n",
      "Epoch 28/500\n",
      "19/19 [==============================] - 0s 4ms/step - loss: 3672.3328 - val_loss: 2693.2600\n",
      "Epoch 29/500\n",
      "19/19 [==============================] - 0s 4ms/step - loss: 3618.8301 - val_loss: 2653.5215\n",
      "Epoch 30/500\n",
      "19/19 [==============================] - 0s 4ms/step - loss: 3565.9368 - val_loss: 2614.3020\n",
      "Epoch 31/500\n",
      "19/19 [==============================] - 0s 4ms/step - loss: 3513.6431 - val_loss: 2575.5942\n",
      "Epoch 32/500\n",
      "19/19 [==============================] - 0s 4ms/step - loss: 3461.9412 - val_loss: 2537.3911\n",
      "Epoch 33/500\n",
      "19/19 [==============================] - 0s 4ms/step - loss: 3410.8235 - val_loss: 2499.6865\n",
      "Epoch 34/500\n",
      "19/19 [==============================] - 0s 4ms/step - loss: 3360.2822 - val_loss: 2462.4751\n",
      "Epoch 35/500\n",
      "19/19 [==============================] - 0s 4ms/step - loss: 3310.3115 - val_loss: 2425.7502\n",
      "Epoch 36/500\n",
      "19/19 [==============================] - 0s 4ms/step - loss: 3260.9053 - val_loss: 2389.5066\n",
      "Epoch 37/500\n",
      "19/19 [==============================] - 0s 4ms/step - loss: 3212.0566 - val_loss: 2353.7400\n",
      "Epoch 38/500\n",
      "19/19 [==============================] - 0s 4ms/step - loss: 3163.7598 - val_loss: 2318.4453\n",
      "Epoch 39/500\n",
      "19/19 [==============================] - 0s 4ms/step - loss: 3116.0100 - val_loss: 2283.6169\n",
      "Epoch 40/500\n",
      "19/19 [==============================] - 0s 4ms/step - loss: 3068.8018 - val_loss: 2249.2510\n",
      "Epoch 41/500\n",
      "19/19 [==============================] - 0s 4ms/step - loss: 3022.1289 - val_loss: 2215.3428\n",
      "Epoch 42/500\n",
      "19/19 [==============================] - 0s 4ms/step - loss: 2975.9880 - val_loss: 2181.8879\n",
      "Epoch 43/500\n",
      "19/19 [==============================] - 0s 4ms/step - loss: 2930.3726 - val_loss: 2148.8823\n",
      "Epoch 44/500\n",
      "19/19 [==============================] - 0s 4ms/step - loss: 2885.2783 - val_loss: 2116.3208\n",
      "Epoch 45/500\n",
      "19/19 [==============================] - 0s 4ms/step - loss: 2840.7012 - val_loss: 2084.2004\n",
      "Epoch 46/500\n",
      "19/19 [==============================] - 0s 4ms/step - loss: 2796.6353 - val_loss: 2052.5161\n",
      "Epoch 47/500\n",
      "19/19 [==============================] - 0s 4ms/step - loss: 2753.0776 - val_loss: 2021.2649\n",
      "Epoch 48/500\n",
      "19/19 [==============================] - 0s 4ms/step - loss: 2710.0227 - val_loss: 1990.4420\n",
      "Epoch 49/500\n",
      "19/19 [==============================] - 0s 4ms/step - loss: 2667.4670 - val_loss: 1960.0450\n",
      "Epoch 50/500\n",
      "19/19 [==============================] - 0s 9ms/step - loss: 2625.4053 - val_loss: 1930.0681\n",
      "Epoch 51/500\n",
      "19/19 [==============================] - 0s 5ms/step - loss: 2583.8347 - val_loss: 1900.5090\n",
      "Epoch 52/500\n",
      "19/19 [==============================] - 0s 5ms/step - loss: 2542.7502 - val_loss: 1871.3635\n",
      "Epoch 53/500\n",
      "19/19 [==============================] - 0s 5ms/step - loss: 2502.1479 - val_loss: 1842.6282\n",
      "Epoch 54/500\n",
      "19/19 [==============================] - 0s 5ms/step - loss: 2462.0234 - val_loss: 1814.2992\n",
      "Epoch 55/500\n",
      "19/19 [==============================] - 0s 5ms/step - loss: 2422.3738 - val_loss: 1786.3733\n",
      "Epoch 56/500\n",
      "19/19 [==============================] - 0s 5ms/step - loss: 2383.1938 - val_loss: 1758.8468\n",
      "Epoch 57/500\n",
      "19/19 [==============================] - 0s 5ms/step - loss: 2344.4810 - val_loss: 1731.7156\n",
      "Epoch 58/500\n",
      "19/19 [==============================] - 0s 6ms/step - loss: 2306.2307 - val_loss: 1704.9777\n",
      "Epoch 59/500\n",
      "19/19 [==============================] - 0s 7ms/step - loss: 2268.4395 - val_loss: 1678.6285\n",
      "Epoch 60/500\n",
      "19/19 [==============================] - 0s 6ms/step - loss: 2231.1033 - val_loss: 1652.6650\n",
      "Epoch 61/500\n",
      "19/19 [==============================] - 0s 7ms/step - loss: 2194.2183 - val_loss: 1627.0841\n",
      "Epoch 62/500\n",
      "19/19 [==============================] - 0s 7ms/step - loss: 2157.7812 - val_loss: 1601.8817\n",
      "Epoch 63/500\n",
      "19/19 [==============================] - 0s 6ms/step - loss: 2121.7883 - val_loss: 1577.0548\n",
      "Epoch 64/500\n",
      "19/19 [==============================] - 0s 6ms/step - loss: 2086.2354 - val_loss: 1552.6008\n",
      "Epoch 65/500\n",
      "19/19 [==============================] - 0s 6ms/step - loss: 2051.1204 - val_loss: 1528.5161\n",
      "Epoch 66/500\n",
      "19/19 [==============================] - 0s 6ms/step - loss: 2016.4381 - val_loss: 1504.7974\n",
      "Epoch 67/500\n",
      "19/19 [==============================] - 0s 7ms/step - loss: 1982.1860 - val_loss: 1481.4403\n",
      "Epoch 68/500\n",
      "19/19 [==============================] - 0s 7ms/step - loss: 1948.3604 - val_loss: 1458.4438\n",
      "Epoch 69/500\n",
      "19/19 [==============================] - 0s 7ms/step - loss: 1914.9580 - val_loss: 1435.8044\n",
      "Epoch 70/500\n",
      "19/19 [==============================] - 0s 7ms/step - loss: 1881.9755 - val_loss: 1413.5179\n",
      "Epoch 71/500\n",
      "19/19 [==============================] - 0s 14ms/step - loss: 1849.4088 - val_loss: 1391.5813\n",
      "Epoch 72/500\n",
      "19/19 [==============================] - 0s 10ms/step - loss: 1817.2554 - val_loss: 1369.9922\n",
      "Epoch 73/500\n",
      "19/19 [==============================] - 0s 10ms/step - loss: 1785.5112 - val_loss: 1348.7468\n",
      "Epoch 74/500\n",
      "19/19 [==============================] - 0s 9ms/step - loss: 1754.1729 - val_loss: 1327.8423\n",
      "Epoch 75/500\n",
      "19/19 [==============================] - 0s 8ms/step - loss: 1723.2377 - val_loss: 1307.2761\n",
      "Epoch 76/500\n",
      "19/19 [==============================] - 0s 10ms/step - loss: 1692.7024 - val_loss: 1287.0452\n",
      "Epoch 77/500\n",
      "19/19 [==============================] - 0s 7ms/step - loss: 1662.5629 - val_loss: 1267.1455\n",
      "Epoch 78/500\n",
      "19/19 [==============================] - 0s 7ms/step - loss: 1632.8168 - val_loss: 1247.5752\n",
      "Epoch 79/500\n",
      "19/19 [==============================] - 0s 7ms/step - loss: 1603.4609 - val_loss: 1228.3311\n",
      "Epoch 80/500\n",
      "19/19 [==============================] - 0s 6ms/step - loss: 1574.4912 - val_loss: 1209.4100\n",
      "Epoch 81/500\n",
      "19/19 [==============================] - 0s 6ms/step - loss: 1545.9059 - val_loss: 1190.8091\n",
      "Epoch 82/500\n",
      "19/19 [==============================] - 0s 6ms/step - loss: 1517.7009 - val_loss: 1172.5255\n",
      "Epoch 83/500\n",
      "19/19 [==============================] - 0s 6ms/step - loss: 1489.8728 - val_loss: 1154.5564\n",
      "Epoch 84/500\n",
      "19/19 [==============================] - 0s 6ms/step - loss: 1462.4188 - val_loss: 1136.8983\n",
      "Epoch 85/500\n",
      "19/19 [==============================] - 0s 6ms/step - loss: 1435.3357 - val_loss: 1119.5487\n",
      "Epoch 86/500\n",
      "19/19 [==============================] - 0s 5ms/step - loss: 1408.6205 - val_loss: 1102.5054\n",
      "Epoch 87/500\n",
      "19/19 [==============================] - 0s 5ms/step - loss: 1382.2706 - val_loss: 1085.7649\n",
      "Epoch 88/500\n",
      "19/19 [==============================] - 0s 5ms/step - loss: 1356.2826 - val_loss: 1069.3241\n",
      "Epoch 89/500\n",
      "19/19 [==============================] - 0s 6ms/step - loss: 1330.6534 - val_loss: 1053.1809\n",
      "Epoch 90/500\n",
      "19/19 [==============================] - 0s 6ms/step - loss: 1305.3802 - val_loss: 1037.3319\n",
      "Epoch 91/500\n",
      "19/19 [==============================] - 0s 7ms/step - loss: 1280.4600 - val_loss: 1021.7748\n",
      "Epoch 92/500\n",
      "19/19 [==============================] - 0s 6ms/step - loss: 1255.8888 - val_loss: 1006.5062\n",
      "Epoch 93/500\n",
      "19/19 [==============================] - 0s 9ms/step - loss: 1231.6650 - val_loss: 991.5234\n",
      "Epoch 94/500\n",
      "19/19 [==============================] - 0s 6ms/step - loss: 1207.7845 - val_loss: 976.8243\n",
      "Epoch 95/500\n",
      "19/19 [==============================] - 0s 7ms/step - loss: 1184.2457 - val_loss: 962.4051\n",
      "Epoch 96/500\n",
      "19/19 [==============================] - 0s 6ms/step - loss: 1161.0443 - val_loss: 948.2645\n",
      "Epoch 97/500\n",
      "19/19 [==============================] - 0s 6ms/step - loss: 1138.1781 - val_loss: 934.3984\n",
      "Epoch 98/500\n",
      "19/19 [==============================] - 0s 6ms/step - loss: 1115.6442 - val_loss: 920.8045\n",
      "Epoch 99/500\n",
      "19/19 [==============================] - 0s 5ms/step - loss: 1093.4393 - val_loss: 907.4803\n",
      "Epoch 100/500\n",
      "19/19 [==============================] - 0s 5ms/step - loss: 1071.5609 - val_loss: 894.4229\n",
      "Epoch 101/500\n",
      "19/19 [==============================] - 0s 6ms/step - loss: 1050.0063 - val_loss: 881.6298\n",
      "Epoch 102/500\n",
      "19/19 [==============================] - 0s 5ms/step - loss: 1028.7723 - val_loss: 869.0981\n",
      "Epoch 103/500\n",
      "19/19 [==============================] - 0s 5ms/step - loss: 1007.8561 - val_loss: 856.8251\n",
      "Epoch 104/500\n",
      "19/19 [==============================] - 0s 5ms/step - loss: 987.2548 - val_loss: 844.8083\n",
      "Epoch 105/500\n",
      "19/19 [==============================] - 0s 5ms/step - loss: 966.9655 - val_loss: 833.0449\n",
      "Epoch 106/500\n",
      "19/19 [==============================] - 0s 5ms/step - loss: 946.9858 - val_loss: 821.5322\n",
      "Epoch 107/500\n",
      "19/19 [==============================] - 0s 5ms/step - loss: 927.3123 - val_loss: 810.2677\n",
      "Epoch 108/500\n",
      "19/19 [==============================] - 0s 8ms/step - loss: 907.9423 - val_loss: 799.2484\n",
      "Epoch 109/500\n",
      "19/19 [==============================] - 0s 6ms/step - loss: 888.8735 - val_loss: 788.4722\n",
      "Epoch 110/500\n",
      "19/19 [==============================] - 0s 5ms/step - loss: 870.1026 - val_loss: 777.9357\n",
      "Epoch 111/500\n",
      "19/19 [==============================] - 0s 5ms/step - loss: 851.6270 - val_loss: 767.6368\n",
      "Epoch 112/500\n",
      "19/19 [==============================] - 0s 8ms/step - loss: 833.4440 - val_loss: 757.5731\n",
      "Epoch 113/500\n",
      "19/19 [==============================] - 0s 6ms/step - loss: 815.5510 - val_loss: 747.7417\n",
      "Epoch 114/500\n",
      "19/19 [==============================] - 0s 7ms/step - loss: 797.9449 - val_loss: 738.1398\n",
      "Epoch 115/500\n",
      "19/19 [==============================] - 0s 8ms/step - loss: 780.6234 - val_loss: 728.7649\n",
      "Epoch 116/500\n",
      "19/19 [==============================] - 0s 6ms/step - loss: 763.5834 - val_loss: 719.6146\n",
      "Epoch 117/500\n",
      "19/19 [==============================] - 0s 6ms/step - loss: 746.8220 - val_loss: 710.6863\n",
      "Epoch 118/500\n",
      "19/19 [==============================] - 0s 6ms/step - loss: 730.3373 - val_loss: 701.9774\n",
      "Epoch 119/500\n",
      "19/19 [==============================] - 0s 6ms/step - loss: 714.1259 - val_loss: 693.4848\n",
      "Epoch 120/500\n",
      "19/19 [==============================] - 0s 5ms/step - loss: 698.1852 - val_loss: 685.2065\n",
      "Epoch 121/500\n",
      "19/19 [==============================] - 0s 5ms/step - loss: 682.5127 - val_loss: 677.1398\n",
      "Epoch 122/500\n",
      "19/19 [==============================] - 0s 5ms/step - loss: 667.1055 - val_loss: 669.2822\n",
      "Epoch 123/500\n",
      "19/19 [==============================] - 0s 5ms/step - loss: 651.9609 - val_loss: 661.6312\n",
      "Epoch 124/500\n",
      "19/19 [==============================] - 0s 5ms/step - loss: 637.0765 - val_loss: 654.1838\n",
      "Epoch 125/500\n",
      "19/19 [==============================] - 0s 5ms/step - loss: 622.4496 - val_loss: 646.9379\n",
      "Epoch 126/500\n",
      "19/19 [==============================] - 0s 7ms/step - loss: 608.0776 - val_loss: 639.8905\n",
      "Epoch 127/500\n",
      "19/19 [==============================] - 0s 7ms/step - loss: 593.9576 - val_loss: 633.0396\n",
      "Epoch 128/500\n",
      "19/19 [==============================] - 0s 7ms/step - loss: 580.0869 - val_loss: 626.3824\n",
      "Epoch 129/500\n",
      "19/19 [==============================] - 0s 9ms/step - loss: 566.4630 - val_loss: 619.9166\n",
      "Epoch 130/500\n",
      "19/19 [==============================] - 0s 6ms/step - loss: 553.0837 - val_loss: 613.6392\n",
      "Epoch 131/500\n",
      "19/19 [==============================] - 0s 6ms/step - loss: 539.9455 - val_loss: 607.5479\n",
      "Epoch 132/500\n",
      "19/19 [==============================] - 0s 6ms/step - loss: 527.0466 - val_loss: 601.6404\n",
      "Epoch 133/500\n",
      "19/19 [==============================] - 0s 6ms/step - loss: 514.3840 - val_loss: 595.9143\n",
      "Epoch 134/500\n",
      "19/19 [==============================] - 0s 5ms/step - loss: 501.9554 - val_loss: 590.3664\n",
      "Epoch 135/500\n",
      "19/19 [==============================] - 0s 5ms/step - loss: 489.7579 - val_loss: 584.9951\n",
      "Epoch 136/500\n",
      "19/19 [==============================] - 0s 5ms/step - loss: 477.7892 - val_loss: 579.7969\n",
      "Epoch 137/500\n",
      "19/19 [==============================] - 0s 5ms/step - loss: 466.0464 - val_loss: 574.7700\n",
      "Epoch 138/500\n",
      "19/19 [==============================] - 0s 5ms/step - loss: 454.5269 - val_loss: 569.9120\n",
      "Epoch 139/500\n",
      "19/19 [==============================] - 0s 5ms/step - loss: 443.2285 - val_loss: 565.2198\n",
      "Epoch 140/500\n",
      "19/19 [==============================] - 0s 5ms/step - loss: 432.1483 - val_loss: 560.6916\n",
      "Epoch 141/500\n",
      "19/19 [==============================] - 0s 6ms/step - loss: 421.2838 - val_loss: 556.3243\n",
      "Epoch 142/500\n",
      "19/19 [==============================] - 0s 5ms/step - loss: 410.6326 - val_loss: 552.1160\n",
      "Epoch 143/500\n",
      "19/19 [==============================] - 0s 5ms/step - loss: 400.1922 - val_loss: 548.0641\n",
      "Epoch 144/500\n",
      "19/19 [==============================] - 0s 5ms/step - loss: 389.9596 - val_loss: 544.1658\n",
      "Epoch 145/500\n",
      "19/19 [==============================] - 0s 5ms/step - loss: 379.9329 - val_loss: 540.4188\n",
      "Epoch 146/500\n",
      "19/19 [==============================] - 0s 5ms/step - loss: 370.1090 - val_loss: 536.8209\n",
      "Epoch 147/500\n",
      "19/19 [==============================] - 0s 7ms/step - loss: 360.4856 - val_loss: 533.3693\n",
      "Epoch 148/500\n",
      "19/19 [==============================] - 0s 5ms/step - loss: 351.0605 - val_loss: 530.0618\n",
      "Epoch 149/500\n",
      "19/19 [==============================] - 0s 5ms/step - loss: 341.8307 - val_loss: 526.8959\n",
      "Epoch 150/500\n",
      "19/19 [==============================] - 0s 5ms/step - loss: 332.7936 - val_loss: 523.8693\n",
      "Epoch 151/500\n",
      "19/19 [==============================] - 0s 5ms/step - loss: 323.9475 - val_loss: 520.9794\n",
      "Epoch 152/500\n",
      "19/19 [==============================] - 0s 5ms/step - loss: 315.2893 - val_loss: 518.2238\n",
      "Epoch 153/500\n",
      "19/19 [==============================] - 0s 5ms/step - loss: 306.8165 - val_loss: 515.6003\n",
      "Epoch 154/500\n",
      "19/19 [==============================] - 0s 6ms/step - loss: 298.5269 - val_loss: 513.1064\n",
      "Epoch 155/500\n",
      "19/19 [==============================] - 0s 6ms/step - loss: 290.4183 - val_loss: 510.7395\n",
      "Epoch 156/500\n",
      "19/19 [==============================] - 0s 6ms/step - loss: 282.4873 - val_loss: 508.4976\n",
      "Epoch 157/500\n",
      "19/19 [==============================] - 0s 5ms/step - loss: 274.7321 - val_loss: 506.3780\n",
      "Epoch 158/500\n",
      "19/19 [==============================] - 0s 5ms/step - loss: 267.1505 - val_loss: 504.3783\n",
      "Epoch 159/500\n",
      "19/19 [==============================] - 0s 5ms/step - loss: 259.7395 - val_loss: 502.4966\n",
      "Epoch 160/500\n",
      "19/19 [==============================] - 0s 9ms/step - loss: 252.4972 - val_loss: 500.7302\n",
      "Epoch 161/500\n",
      "19/19 [==============================] - 0s 5ms/step - loss: 245.4206 - val_loss: 499.0766\n",
      "Epoch 162/500\n",
      "19/19 [==============================] - 0s 6ms/step - loss: 238.5076 - val_loss: 497.5337\n",
      "Epoch 163/500\n",
      "19/19 [==============================] - 0s 5ms/step - loss: 231.7558 - val_loss: 496.0992\n",
      "Epoch 164/500\n",
      "19/19 [==============================] - 0s 9ms/step - loss: 225.1627 - val_loss: 494.7706\n",
      "Epoch 165/500\n",
      "19/19 [==============================] - 0s 5ms/step - loss: 218.7261 - val_loss: 493.5456\n",
      "Epoch 166/500\n",
      "19/19 [==============================] - 0s 5ms/step - loss: 212.4435 - val_loss: 492.4222\n",
      "Epoch 167/500\n",
      "19/19 [==============================] - 0s 5ms/step - loss: 206.3128 - val_loss: 491.3979\n",
      "Epoch 168/500\n",
      "19/19 [==============================] - 0s 5ms/step - loss: 200.3314 - val_loss: 490.4702\n",
      "Epoch 169/500\n",
      "19/19 [==============================] - 0s 5ms/step - loss: 194.4966 - val_loss: 489.6373\n",
      "Epoch 170/500\n",
      "19/19 [==============================] - 0s 5ms/step - loss: 188.8063 - val_loss: 488.8965\n",
      "Epoch 171/500\n",
      "19/19 [==============================] - 0s 5ms/step - loss: 183.2585 - val_loss: 488.2458\n",
      "Epoch 172/500\n",
      "19/19 [==============================] - 0s 5ms/step - loss: 177.8505 - val_loss: 487.6829\n",
      "Epoch 173/500\n",
      "19/19 [==============================] - 0s 5ms/step - loss: 172.5803 - val_loss: 487.2055\n",
      "Epoch 174/500\n",
      "19/19 [==============================] - 0s 5ms/step - loss: 167.4452 - val_loss: 486.8115\n",
      "Epoch 175/500\n",
      "19/19 [==============================] - 0s 5ms/step - loss: 162.4433 - val_loss: 486.4987\n",
      "Epoch 176/500\n",
      "19/19 [==============================] - 0s 5ms/step - loss: 157.5723 - val_loss: 486.2648\n",
      "Epoch 177/500\n",
      "19/19 [==============================] - 0s 5ms/step - loss: 152.8295 - val_loss: 486.1077\n",
      "Epoch 178/500\n",
      "19/19 [==============================] - 0s 5ms/step - loss: 148.2130 - val_loss: 486.0252\n",
      "Epoch 179/500\n",
      "19/19 [==============================] - 0s 5ms/step - loss: 143.7205 - val_loss: 486.0153\n",
      "Epoch 180/500\n",
      "19/19 [==============================] - 0s 5ms/step - loss: 139.3497 - val_loss: 486.0757\n",
      "Epoch 181/500\n",
      "19/19 [==============================] - 0s 5ms/step - loss: 135.0986 - val_loss: 486.2043\n",
      "Epoch 182/500\n",
      "19/19 [==============================] - 0s 5ms/step - loss: 130.9648 - val_loss: 486.3991\n",
      "Epoch 183/500\n",
      "19/19 [==============================] - 0s 5ms/step - loss: 126.9462 - val_loss: 486.6579\n",
      "Epoch 184/500\n",
      "19/19 [==============================] - 0s 7ms/step - loss: 123.0405 - val_loss: 486.9788\n",
      "Epoch 185/500\n",
      "19/19 [==============================] - 0s 5ms/step - loss: 119.2455 - val_loss: 487.3596\n",
      "Epoch 186/500\n",
      "19/19 [==============================] - 0s 5ms/step - loss: 115.5593 - val_loss: 487.7983\n",
      "Epoch 187/500\n",
      "19/19 [==============================] - 0s 5ms/step - loss: 111.9797 - val_loss: 488.2929\n",
      "Epoch 188/500\n",
      "19/19 [==============================] - 0s 5ms/step - loss: 108.5044 - val_loss: 488.8414\n",
      "Epoch 189/500\n",
      "19/19 [==============================] - 0s 5ms/step - loss: 105.1315 - val_loss: 489.4417\n",
      "Epoch 190/500\n",
      "19/19 [==============================] - 0s 5ms/step - loss: 101.8589 - val_loss: 490.0921\n",
      "Epoch 191/500\n",
      "19/19 [==============================] - 0s 5ms/step - loss: 98.6844 - val_loss: 490.7905\n",
      "Epoch 192/500\n",
      "19/19 [==============================] - 0s 5ms/step - loss: 95.6058 - val_loss: 491.5352\n",
      "Epoch 193/500\n",
      "19/19 [==============================] - 0s 5ms/step - loss: 92.6214 - val_loss: 492.3239\n",
      "Epoch 194/500\n",
      "19/19 [==============================] - 0s 5ms/step - loss: 89.7291 - val_loss: 493.1549\n",
      "Epoch 195/500\n",
      "19/19 [==============================] - 0s 5ms/step - loss: 86.9268 - val_loss: 494.0265\n",
      "Epoch 196/500\n",
      "19/19 [==============================] - 0s 5ms/step - loss: 84.2127 - val_loss: 494.9367\n",
      "Epoch 197/500\n",
      "19/19 [==============================] - 0s 5ms/step - loss: 81.5847 - val_loss: 495.8836\n",
      "Epoch 198/500\n",
      "19/19 [==============================] - 0s 5ms/step - loss: 79.0408 - val_loss: 496.8657\n",
      "Epoch 199/500\n",
      "19/19 [==============================] - 0s 5ms/step - loss: 76.5792 - val_loss: 497.8812\n",
      "Epoch 200/500\n",
      "19/19 [==============================] - 0s 5ms/step - loss: 74.1978 - val_loss: 498.9281\n",
      "Epoch 201/500\n",
      "19/19 [==============================] - 0s 8ms/step - loss: 71.8950 - val_loss: 500.0049\n",
      "Epoch 202/500\n",
      "19/19 [==============================] - 0s 5ms/step - loss: 69.6686 - val_loss: 501.1099\n",
      "Epoch 203/500\n",
      "19/19 [==============================] - 0s 5ms/step - loss: 67.5169 - val_loss: 502.2414\n",
      "Epoch 204/500\n",
      "19/19 [==============================] - 0s 5ms/step - loss: 65.4382 - val_loss: 503.3976\n",
      "Epoch 205/500\n",
      "19/19 [==============================] - 0s 5ms/step - loss: 63.4307 - val_loss: 504.5771\n",
      "Epoch 206/500\n",
      "19/19 [==============================] - 0s 5ms/step - loss: 61.4925 - val_loss: 505.7784\n",
      "Epoch 207/500\n",
      "19/19 [==============================] - 0s 5ms/step - loss: 59.6219 - val_loss: 506.9995\n",
      "Epoch 208/500\n",
      "19/19 [==============================] - 0s 5ms/step - loss: 57.8172 - val_loss: 508.2392\n",
      "Epoch 209/500\n",
      "19/19 [==============================] - 0s 5ms/step - loss: 56.0765 - val_loss: 509.4961\n",
      "Epoch 210/500\n",
      "19/19 [==============================] - 0s 5ms/step - loss: 54.3983 - val_loss: 510.7685\n",
      "Epoch 211/500\n",
      "19/19 [==============================] - 0s 5ms/step - loss: 52.7809 - val_loss: 512.0551\n",
      "Epoch 212/500\n",
      "19/19 [==============================] - 0s 5ms/step - loss: 51.2226 - val_loss: 513.3544\n",
      "Epoch 213/500\n",
      "19/19 [==============================] - 0s 5ms/step - loss: 49.7217 - val_loss: 514.6649\n",
      "Epoch 214/500\n",
      "19/19 [==============================] - 0s 5ms/step - loss: 48.2769 - val_loss: 515.9852\n",
      "Epoch 215/500\n",
      "19/19 [==============================] - 0s 5ms/step - loss: 46.8863 - val_loss: 517.3146\n",
      "Epoch 216/500\n",
      "19/19 [==============================] - 0s 5ms/step - loss: 45.5484 - val_loss: 518.6512\n",
      "Epoch 217/500\n",
      "19/19 [==============================] - 0s 5ms/step - loss: 44.2618 - val_loss: 519.9937\n",
      "Epoch 218/500\n",
      "19/19 [==============================] - 0s 9ms/step - loss: 43.0251 - val_loss: 521.3411\n",
      "Epoch 219/500\n",
      "19/19 [==============================] - 0s 5ms/step - loss: 41.8365 - val_loss: 522.6920\n",
      "Epoch 220/500\n",
      "19/19 [==============================] - 0s 5ms/step - loss: 40.6948 - val_loss: 524.0455\n",
      "Epoch 221/500\n",
      "19/19 [==============================] - 0s 5ms/step - loss: 39.5984 - val_loss: 525.4004\n",
      "Epoch 222/500\n",
      "19/19 [==============================] - 0s 5ms/step - loss: 38.5461 - val_loss: 526.7553\n",
      "Epoch 223/500\n",
      "19/19 [==============================] - 0s 5ms/step - loss: 37.5364 - val_loss: 528.1096\n",
      "Epoch 224/500\n",
      "19/19 [==============================] - 0s 5ms/step - loss: 36.5680 - val_loss: 529.4619\n",
      "Epoch 225/500\n",
      "19/19 [==============================] - 0s 5ms/step - loss: 35.6395 - val_loss: 530.8112\n",
      "Epoch 226/500\n",
      "19/19 [==============================] - 0s 5ms/step - loss: 34.7496 - val_loss: 532.1566\n",
      "Epoch 227/500\n",
      "19/19 [==============================] - 0s 5ms/step - loss: 33.8972 - val_loss: 533.4970\n",
      "Epoch 228/500\n",
      "19/19 [==============================] - 0s 5ms/step - loss: 33.0808 - val_loss: 534.8320\n",
      "Epoch 229/500\n",
      "19/19 [==============================] - 0s 5ms/step - loss: 32.2993 - val_loss: 536.1602\n",
      "Epoch 230/500\n",
      "19/19 [==============================] - 0s 5ms/step - loss: 31.5516 - val_loss: 537.4809\n",
      "Epoch 231/500\n",
      "19/19 [==============================] - 0s 5ms/step - loss: 30.8365 - val_loss: 538.7932\n",
      "Epoch 232/500\n",
      "19/19 [==============================] - 0s 5ms/step - loss: 30.1528 - val_loss: 540.0963\n",
      "Epoch 233/500\n",
      "19/19 [==============================] - 0s 5ms/step - loss: 29.4995 - val_loss: 541.3895\n",
      "Epoch 234/500\n",
      "19/19 [==============================] - 0s 5ms/step - loss: 28.8753 - val_loss: 542.6721\n",
      "Epoch 235/500\n",
      "19/19 [==============================] - 0s 7ms/step - loss: 28.2793 - val_loss: 543.9438\n",
      "Epoch 236/500\n",
      "19/19 [==============================] - 0s 6ms/step - loss: 27.7104 - val_loss: 545.2032\n",
      "Epoch 237/500\n",
      "19/19 [==============================] - 0s 6ms/step - loss: 27.1677 - val_loss: 546.4500\n",
      "Epoch 238/500\n",
      "19/19 [==============================] - 0s 5ms/step - loss: 26.6502 - val_loss: 547.6834\n",
      "Epoch 239/500\n",
      "19/19 [==============================] - 0s 5ms/step - loss: 26.1568 - val_loss: 548.9034\n",
      "Epoch 240/500\n",
      "19/19 [==============================] - 0s 5ms/step - loss: 25.6866 - val_loss: 550.1087\n",
      "Epoch 241/500\n",
      "19/19 [==============================] - 0s 5ms/step - loss: 25.2389 - val_loss: 551.2995\n",
      "Epoch 242/500\n",
      "19/19 [==============================] - 0s 5ms/step - loss: 24.8125 - val_loss: 552.4750\n",
      "Epoch 243/500\n",
      "19/19 [==============================] - 0s 5ms/step - loss: 24.4068 - val_loss: 553.6346\n",
      "Epoch 244/500\n",
      "19/19 [==============================] - 0s 5ms/step - loss: 24.0209 - val_loss: 554.7780\n",
      "Epoch 245/500\n",
      "19/19 [==============================] - 0s 5ms/step - loss: 23.6539 - val_loss: 555.9050\n",
      "Epoch 246/500\n",
      "19/19 [==============================] - 0s 5ms/step - loss: 23.3051 - val_loss: 557.0154\n",
      "Epoch 247/500\n",
      "19/19 [==============================] - 0s 5ms/step - loss: 22.9737 - val_loss: 558.1081\n",
      "Epoch 248/500\n",
      "19/19 [==============================] - 0s 5ms/step - loss: 22.6590 - val_loss: 559.1838\n",
      "Epoch 249/500\n",
      "19/19 [==============================] - 0s 5ms/step - loss: 22.3602 - val_loss: 560.2416\n",
      "Epoch 250/500\n",
      "19/19 [==============================] - 0s 5ms/step - loss: 22.0766 - val_loss: 561.2811\n",
      "Epoch 251/500\n",
      "19/19 [==============================] - 0s 5ms/step - loss: 21.8077 - val_loss: 562.3026\n",
      "Epoch 252/500\n",
      "19/19 [==============================] - 0s 5ms/step - loss: 21.5527 - val_loss: 563.3057\n",
      "Epoch 253/500\n",
      "19/19 [==============================] - 0s 5ms/step - loss: 21.3111 - val_loss: 564.2901\n",
      "Epoch 254/500\n",
      "19/19 [==============================] - 0s 8ms/step - loss: 21.0822 - val_loss: 565.2556\n",
      "Epoch 255/500\n",
      "19/19 [==============================] - 0s 5ms/step - loss: 20.8653 - val_loss: 566.2025\n",
      "Epoch 256/500\n",
      "19/19 [==============================] - 0s 5ms/step - loss: 20.6602 - val_loss: 567.1303\n",
      "Epoch 257/500\n",
      "19/19 [==============================] - 0s 5ms/step - loss: 20.4660 - val_loss: 568.0389\n",
      "Epoch 258/500\n",
      "19/19 [==============================] - 0s 5ms/step - loss: 20.2824 - val_loss: 568.9286\n",
      "Epoch 259/500\n",
      "19/19 [==============================] - 0s 5ms/step - loss: 20.1088 - val_loss: 569.7993\n",
      "Epoch 260/500\n",
      "19/19 [==============================] - 0s 5ms/step - loss: 19.9446 - val_loss: 570.6503\n",
      "Epoch 261/500\n",
      "19/19 [==============================] - 0s 5ms/step - loss: 19.7897 - val_loss: 571.4826\n",
      "Epoch 262/500\n",
      "19/19 [==============================] - 0s 5ms/step - loss: 19.6432 - val_loss: 572.2958\n",
      "Epoch 263/500\n",
      "19/19 [==============================] - 0s 5ms/step - loss: 19.5050 - val_loss: 573.0899\n",
      "Epoch 264/500\n",
      "19/19 [==============================] - 0s 5ms/step - loss: 19.3746 - val_loss: 573.8651\n",
      "Epoch 265/500\n",
      "19/19 [==============================] - 0s 5ms/step - loss: 19.2516 - val_loss: 574.6212\n",
      "Epoch 266/500\n",
      "19/19 [==============================] - 0s 5ms/step - loss: 19.1356 - val_loss: 575.3582\n",
      "Epoch 267/500\n",
      "19/19 [==============================] - 0s 5ms/step - loss: 19.0263 - val_loss: 576.0769\n",
      "Epoch 268/500\n",
      "19/19 [==============================] - 0s 8ms/step - loss: 18.9232 - val_loss: 576.7772\n",
      "Epoch 269/500\n",
      "19/19 [==============================] - 0s 5ms/step - loss: 18.8261 - val_loss: 577.4589\n",
      "Epoch 270/500\n",
      "19/19 [==============================] - 0s 5ms/step - loss: 18.7347 - val_loss: 578.1224\n",
      "Epoch 271/500\n",
      "19/19 [==============================] - 0s 5ms/step - loss: 18.6486 - val_loss: 578.7678\n",
      "Epoch 272/500\n",
      "19/19 [==============================] - 0s 5ms/step - loss: 18.5676 - val_loss: 579.3955\n",
      "Epoch 273/500\n",
      "19/19 [==============================] - 0s 5ms/step - loss: 18.4914 - val_loss: 580.0055\n",
      "Epoch 274/500\n",
      "19/19 [==============================] - 0s 5ms/step - loss: 18.4197 - val_loss: 580.5981\n",
      "Epoch 275/500\n",
      "19/19 [==============================] - 0s 5ms/step - loss: 18.3522 - val_loss: 581.1735\n",
      "Epoch 276/500\n",
      "19/19 [==============================] - 0s 5ms/step - loss: 18.2889 - val_loss: 581.7318\n",
      "Epoch 277/500\n",
      "19/19 [==============================] - 0s 5ms/step - loss: 18.2293 - val_loss: 582.2733\n",
      "Epoch 278/500\n",
      "19/19 [==============================] - 0s 5ms/step - loss: 18.1733 - val_loss: 582.7984\n",
      "Epoch 279/500\n",
      "19/19 [==============================] - 0s 5ms/step - loss: 18.1208 - val_loss: 583.3073\n",
      "Epoch 280/500\n",
      "19/19 [==============================] - 0s 5ms/step - loss: 18.0714 - val_loss: 583.8001\n",
      "Epoch 281/500\n",
      "19/19 [==============================] - 0s 5ms/step - loss: 18.0250 - val_loss: 584.2771\n",
      "Epoch 282/500\n",
      "19/19 [==============================] - 0s 5ms/step - loss: 17.9815 - val_loss: 584.7389\n",
      "Epoch 283/500\n",
      "19/19 [==============================] - 0s 5ms/step - loss: 17.9406 - val_loss: 585.1853\n",
      "Epoch 284/500\n",
      "19/19 [==============================] - 0s 5ms/step - loss: 17.9024 - val_loss: 585.6169\n",
      "Epoch 285/500\n",
      "19/19 [==============================] - 0s 8ms/step - loss: 17.8664 - val_loss: 586.0343\n",
      "Epoch 286/500\n",
      "19/19 [==============================] - 0s 6ms/step - loss: 17.8327 - val_loss: 586.4371\n",
      "Epoch 287/500\n",
      "19/19 [==============================] - 0s 5ms/step - loss: 17.8010 - val_loss: 586.8261\n",
      "Epoch 288/500\n",
      "19/19 [==============================] - 0s 5ms/step - loss: 17.7713 - val_loss: 587.2012\n",
      "Epoch 289/500\n",
      "19/19 [==============================] - 0s 5ms/step - loss: 17.7435 - val_loss: 587.5629\n",
      "Epoch 290/500\n",
      "19/19 [==============================] - 0s 5ms/step - loss: 17.7175 - val_loss: 587.9119\n",
      "Epoch 291/500\n",
      "19/19 [==============================] - 0s 5ms/step - loss: 17.6930 - val_loss: 588.2476\n",
      "Epoch 292/500\n",
      "19/19 [==============================] - 0s 5ms/step - loss: 17.6702 - val_loss: 588.5718\n",
      "Epoch 293/500\n",
      "19/19 [==============================] - 0s 5ms/step - loss: 17.6487 - val_loss: 588.8834\n",
      "Epoch 294/500\n",
      "19/19 [==============================] - 0s 5ms/step - loss: 17.6285 - val_loss: 589.1831\n",
      "Epoch 295/500\n",
      "19/19 [==============================] - 0s 5ms/step - loss: 17.6097 - val_loss: 589.4713\n",
      "Epoch 296/500\n",
      "19/19 [==============================] - 0s 5ms/step - loss: 17.5921 - val_loss: 589.7486\n",
      "Epoch 297/500\n",
      "19/19 [==============================] - 0s 5ms/step - loss: 17.5755 - val_loss: 590.0150\n",
      "Epoch 298/500\n",
      "19/19 [==============================] - 0s 5ms/step - loss: 17.5601 - val_loss: 590.2707\n",
      "Epoch 299/500\n",
      "19/19 [==============================] - 0s 5ms/step - loss: 17.5455 - val_loss: 590.5159\n",
      "Epoch 300/500\n",
      "19/19 [==============================] - 0s 5ms/step - loss: 17.5319 - val_loss: 590.7518\n",
      "Epoch 301/500\n",
      "19/19 [==============================] - 0s 8ms/step - loss: 17.5192 - val_loss: 590.9772\n",
      "Epoch 302/500\n",
      "19/19 [==============================] - 0s 5ms/step - loss: 17.5073 - val_loss: 591.1940\n",
      "Epoch 303/500\n",
      "19/19 [==============================] - 0s 5ms/step - loss: 17.4961 - val_loss: 591.4008\n",
      "Epoch 304/500\n",
      "19/19 [==============================] - 0s 5ms/step - loss: 17.4857 - val_loss: 591.5994\n",
      "Epoch 305/500\n",
      "19/19 [==============================] - 0s 6ms/step - loss: 17.4759 - val_loss: 591.7889\n",
      "Epoch 306/500\n",
      "19/19 [==============================] - 0s 5ms/step - loss: 17.4668 - val_loss: 591.9703\n",
      "Epoch 307/500\n",
      "19/19 [==============================] - 0s 5ms/step - loss: 17.4582 - val_loss: 592.1440\n",
      "Epoch 308/500\n",
      "19/19 [==============================] - 0s 5ms/step - loss: 17.4502 - val_loss: 592.3098\n",
      "Epoch 309/500\n",
      "19/19 [==============================] - 0s 5ms/step - loss: 17.4427 - val_loss: 592.4681\n",
      "Epoch 310/500\n",
      "19/19 [==============================] - 0s 5ms/step - loss: 17.4357 - val_loss: 592.6191\n",
      "Epoch 311/500\n",
      "19/19 [==============================] - 0s 5ms/step - loss: 17.4292 - val_loss: 592.7635\n",
      "Epoch 312/500\n",
      "19/19 [==============================] - 0s 5ms/step - loss: 17.4231 - val_loss: 592.9009\n",
      "Epoch 313/500\n",
      "19/19 [==============================] - 0s 5ms/step - loss: 17.4174 - val_loss: 593.0317\n",
      "Epoch 314/500\n",
      "19/19 [==============================] - 0s 5ms/step - loss: 17.4120 - val_loss: 593.1566\n",
      "Epoch 315/500\n",
      "19/19 [==============================] - 0s 7ms/step - loss: 17.4071 - val_loss: 593.2752\n",
      "Epoch 316/500\n",
      "19/19 [==============================] - 0s 6ms/step - loss: 17.4024 - val_loss: 593.3885\n",
      "Epoch 317/500\n",
      "19/19 [==============================] - 0s 5ms/step - loss: 17.3981 - val_loss: 593.4959\n",
      "Epoch 318/500\n",
      "19/19 [==============================] - 0s 5ms/step - loss: 17.3940 - val_loss: 593.5983\n",
      "Epoch 319/500\n",
      "19/19 [==============================] - 0s 5ms/step - loss: 17.3902 - val_loss: 593.6953\n",
      "Epoch 320/500\n",
      "19/19 [==============================] - 0s 5ms/step - loss: 17.3867 - val_loss: 593.7875\n",
      "Epoch 321/500\n",
      "19/19 [==============================] - 0s 5ms/step - loss: 17.3834 - val_loss: 593.8748\n",
      "Epoch 322/500\n",
      "19/19 [==============================] - 0s 5ms/step - loss: 17.3804 - val_loss: 593.9578\n",
      "Epoch 323/500\n",
      "19/19 [==============================] - 0s 5ms/step - loss: 17.3776 - val_loss: 594.0367\n",
      "Epoch 324/500\n",
      "19/19 [==============================] - 0s 5ms/step - loss: 17.3749 - val_loss: 594.1108\n",
      "Epoch 325/500\n",
      "19/19 [==============================] - 0s 5ms/step - loss: 17.3725 - val_loss: 594.1814\n",
      "Epoch 326/500\n",
      "19/19 [==============================] - 0s 5ms/step - loss: 17.3702 - val_loss: 594.2480\n",
      "Epoch 327/500\n",
      "19/19 [==============================] - 0s 5ms/step - loss: 17.3681 - val_loss: 594.3112\n",
      "Epoch 328/500\n",
      "19/19 [==============================] - 0s 5ms/step - loss: 17.3662 - val_loss: 594.3711\n",
      "Epoch 329/500\n",
      "19/19 [==============================] - 0s 7ms/step - loss: 17.3645 - val_loss: 594.4276\n",
      "Epoch 330/500\n",
      "19/19 [==============================] - 0s 6ms/step - loss: 17.3628 - val_loss: 594.4808\n",
      "Epoch 331/500\n",
      "19/19 [==============================] - 0s 5ms/step - loss: 17.3612 - val_loss: 594.5310\n",
      "Epoch 332/500\n",
      "19/19 [==============================] - 0s 5ms/step - loss: 17.3599 - val_loss: 594.5784\n",
      "Epoch 333/500\n",
      "19/19 [==============================] - 0s 5ms/step - loss: 17.3586 - val_loss: 594.6230\n",
      "Epoch 334/500\n",
      "19/19 [==============================] - 0s 5ms/step - loss: 17.3574 - val_loss: 594.6651\n",
      "Epoch 335/500\n",
      "19/19 [==============================] - 0s 5ms/step - loss: 17.3563 - val_loss: 594.7043\n",
      "Epoch 336/500\n",
      "19/19 [==============================] - 0s 5ms/step - loss: 17.3554 - val_loss: 594.7419\n",
      "Epoch 337/500\n",
      "19/19 [==============================] - 0s 5ms/step - loss: 17.3545 - val_loss: 594.7767\n",
      "Epoch 338/500\n",
      "19/19 [==============================] - 0s 5ms/step - loss: 17.3538 - val_loss: 594.8094\n",
      "Epoch 339/500\n",
      "19/19 [==============================] - 0s 5ms/step - loss: 17.3531 - val_loss: 594.8405\n",
      "Epoch 340/500\n",
      "19/19 [==============================] - 0s 5ms/step - loss: 17.3524 - val_loss: 594.8694\n",
      "Epoch 341/500\n",
      "19/19 [==============================] - 0s 5ms/step - loss: 17.3518 - val_loss: 594.8965\n",
      "Epoch 342/500\n",
      "19/19 [==============================] - 0s 5ms/step - loss: 17.3514 - val_loss: 594.9218\n",
      "Epoch 343/500\n",
      "19/19 [==============================] - 0s 5ms/step - loss: 17.3509 - val_loss: 594.9457\n",
      "Epoch 344/500\n",
      "19/19 [==============================] - 0s 5ms/step - loss: 17.3506 - val_loss: 594.9680\n",
      "Epoch 345/500\n",
      "19/19 [==============================] - 0s 8ms/step - loss: 17.3502 - val_loss: 594.9889\n",
      "Epoch 346/500\n",
      "19/19 [==============================] - 0s 5ms/step - loss: 17.3500 - val_loss: 595.0081\n",
      "Epoch 347/500\n",
      "19/19 [==============================] - 0s 5ms/step - loss: 17.3498 - val_loss: 595.0266\n",
      "Epoch 348/500\n",
      "19/19 [==============================] - 0s 5ms/step - loss: 17.3496 - val_loss: 595.0432\n",
      "Epoch 349/500\n",
      "19/19 [==============================] - 0s 5ms/step - loss: 17.3495 - val_loss: 595.0589\n",
      "Epoch 350/500\n",
      "19/19 [==============================] - 0s 5ms/step - loss: 17.3495 - val_loss: 595.0737\n",
      "Epoch 351/500\n",
      "19/19 [==============================] - 0s 5ms/step - loss: 17.3494 - val_loss: 595.0874\n",
      "Epoch 352/500\n",
      "19/19 [==============================] - 0s 5ms/step - loss: 17.3493 - val_loss: 595.0994\n",
      "Epoch 353/500\n",
      "19/19 [==============================] - 0s 5ms/step - loss: 17.3494 - val_loss: 595.1115\n",
      "Epoch 354/500\n",
      "19/19 [==============================] - 0s 5ms/step - loss: 17.3495 - val_loss: 595.1223\n",
      "Epoch 355/500\n",
      "19/19 [==============================] - 0s 5ms/step - loss: 17.3496 - val_loss: 595.1326\n",
      "Epoch 356/500\n",
      "19/19 [==============================] - 0s 5ms/step - loss: 17.3497 - val_loss: 595.1419\n",
      "Epoch 357/500\n",
      "19/19 [==============================] - 0s 5ms/step - loss: 17.3499 - val_loss: 595.1502\n",
      "Epoch 358/500\n",
      "19/19 [==============================] - 0s 8ms/step - loss: 17.3500 - val_loss: 595.1580\n",
      "Epoch 359/500\n",
      "19/19 [==============================] - 0s 5ms/step - loss: 17.3502 - val_loss: 595.1653\n",
      "Epoch 360/500\n",
      "19/19 [==============================] - 0s 5ms/step - loss: 17.3504 - val_loss: 595.1721\n",
      "Epoch 361/500\n",
      "19/19 [==============================] - 0s 5ms/step - loss: 17.3507 - val_loss: 595.1782\n",
      "Epoch 362/500\n",
      "19/19 [==============================] - 0s 5ms/step - loss: 17.3509 - val_loss: 595.1833\n",
      "Epoch 363/500\n",
      "19/19 [==============================] - 0s 5ms/step - loss: 17.3512 - val_loss: 595.1884\n",
      "Epoch 364/500\n",
      "19/19 [==============================] - 0s 5ms/step - loss: 17.3515 - val_loss: 595.1932\n",
      "Epoch 365/500\n",
      "19/19 [==============================] - 0s 5ms/step - loss: 17.3517 - val_loss: 595.1976\n",
      "Epoch 366/500\n",
      "19/19 [==============================] - 0s 5ms/step - loss: 17.3521 - val_loss: 595.2011\n",
      "Epoch 367/500\n",
      "19/19 [==============================] - 0s 5ms/step - loss: 17.3524 - val_loss: 595.2050\n",
      "Epoch 368/500\n",
      "19/19 [==============================] - 0s 5ms/step - loss: 17.3527 - val_loss: 595.2077\n",
      "Epoch 369/500\n",
      "19/19 [==============================] - 0s 5ms/step - loss: 17.3531 - val_loss: 595.2109\n",
      "Epoch 370/500\n",
      "19/19 [==============================] - 0s 6ms/step - loss: 17.3534 - val_loss: 595.2134\n",
      "Epoch 371/500\n",
      "19/19 [==============================] - 0s 8ms/step - loss: 17.3538 - val_loss: 595.2154\n",
      "Epoch 372/500\n",
      "19/19 [==============================] - 0s 5ms/step - loss: 17.3542 - val_loss: 595.2170\n",
      "Epoch 373/500\n",
      "19/19 [==============================] - 0s 5ms/step - loss: 17.3545 - val_loss: 595.2186\n",
      "Epoch 374/500\n",
      "19/19 [==============================] - 0s 5ms/step - loss: 17.3549 - val_loss: 595.2204\n",
      "Epoch 375/500\n",
      "19/19 [==============================] - 0s 5ms/step - loss: 17.3553 - val_loss: 595.2214\n",
      "Epoch 376/500\n",
      "19/19 [==============================] - 0s 5ms/step - loss: 17.3557 - val_loss: 595.2227\n",
      "Epoch 377/500\n",
      "19/19 [==============================] - 0s 5ms/step - loss: 17.3561 - val_loss: 595.2233\n",
      "Epoch 378/500\n",
      "19/19 [==============================] - 0s 5ms/step - loss: 17.3565 - val_loss: 595.2242\n",
      "Epoch 379/500\n",
      "19/19 [==============================] - 0s 5ms/step - loss: 17.3570 - val_loss: 595.2251\n",
      "Epoch 380/500\n",
      "19/19 [==============================] - 0s 5ms/step - loss: 17.3574 - val_loss: 595.2255\n",
      "Epoch 381/500\n",
      "19/19 [==============================] - 0s 5ms/step - loss: 17.3577 - val_loss: 595.2255\n",
      "Epoch 382/500\n",
      "19/19 [==============================] - 0s 5ms/step - loss: 17.3582 - val_loss: 595.2255\n",
      "Epoch 383/500\n",
      "19/19 [==============================] - 0s 5ms/step - loss: 17.3586 - val_loss: 595.2255\n",
      "Epoch 384/500\n",
      "19/19 [==============================] - 0s 8ms/step - loss: 17.3590 - val_loss: 595.2254\n",
      "Epoch 385/500\n",
      "19/19 [==============================] - 0s 5ms/step - loss: 17.3595 - val_loss: 595.2254\n",
      "Epoch 386/500\n",
      "19/19 [==============================] - 0s 5ms/step - loss: 17.3599 - val_loss: 595.2253\n",
      "Epoch 387/500\n",
      "19/19 [==============================] - 0s 5ms/step - loss: 17.3603 - val_loss: 595.2250\n",
      "Epoch 388/500\n",
      "19/19 [==============================] - 0s 5ms/step - loss: 17.3607 - val_loss: 595.2240\n",
      "Epoch 389/500\n",
      "19/19 [==============================] - 0s 5ms/step - loss: 17.3611 - val_loss: 595.2233\n",
      "Epoch 390/500\n",
      "19/19 [==============================] - 0s 5ms/step - loss: 17.3616 - val_loss: 595.2228\n",
      "Epoch 391/500\n",
      "19/19 [==============================] - 0s 5ms/step - loss: 17.3621 - val_loss: 595.2225\n",
      "Epoch 392/500\n",
      "19/19 [==============================] - 0s 5ms/step - loss: 17.3624 - val_loss: 595.2219\n",
      "Epoch 393/500\n",
      "19/19 [==============================] - 0s 5ms/step - loss: 17.3628 - val_loss: 595.2209\n",
      "Epoch 394/500\n",
      "19/19 [==============================] - 0s 5ms/step - loss: 17.3633 - val_loss: 595.2203\n",
      "Epoch 395/500\n",
      "19/19 [==============================] - 0s 5ms/step - loss: 17.3637 - val_loss: 595.2197\n",
      "Epoch 396/500\n",
      "19/19 [==============================] - 0s 8ms/step - loss: 17.3641 - val_loss: 595.2188\n",
      "Epoch 397/500\n",
      "19/19 [==============================] - 0s 5ms/step - loss: 17.3645 - val_loss: 595.2181\n",
      "Epoch 398/500\n",
      "19/19 [==============================] - 0s 5ms/step - loss: 17.3649 - val_loss: 595.2172\n",
      "Epoch 399/500\n",
      "19/19 [==============================] - 0s 5ms/step - loss: 17.3654 - val_loss: 595.2161\n",
      "Epoch 400/500\n",
      "19/19 [==============================] - 0s 5ms/step - loss: 17.3658 - val_loss: 595.2154\n",
      "Epoch 401/500\n",
      "19/19 [==============================] - 0s 5ms/step - loss: 17.3662 - val_loss: 595.2147\n",
      "Epoch 402/500\n",
      "19/19 [==============================] - 0s 5ms/step - loss: 17.3666 - val_loss: 595.2136\n",
      "Epoch 403/500\n",
      "19/19 [==============================] - 0s 5ms/step - loss: 17.3670 - val_loss: 595.2128\n",
      "Epoch 404/500\n",
      "19/19 [==============================] - 0s 5ms/step - loss: 17.3674 - val_loss: 595.2117\n",
      "Epoch 405/500\n",
      "19/19 [==============================] - 0s 5ms/step - loss: 17.3678 - val_loss: 595.2106\n",
      "Epoch 406/500\n",
      "19/19 [==============================] - 0s 5ms/step - loss: 17.3682 - val_loss: 595.2098\n",
      "Epoch 407/500\n",
      "19/19 [==============================] - 0s 5ms/step - loss: 17.3686 - val_loss: 595.2086\n",
      "Epoch 408/500\n",
      "19/19 [==============================] - 0s 5ms/step - loss: 17.3689 - val_loss: 595.2077\n",
      "Epoch 409/500\n",
      "19/19 [==============================] - 0s 8ms/step - loss: 17.3693 - val_loss: 595.2067\n",
      "Epoch 410/500\n",
      "19/19 [==============================] - 0s 5ms/step - loss: 17.3697 - val_loss: 595.2055\n",
      "Epoch 411/500\n",
      "19/19 [==============================] - 0s 5ms/step - loss: 17.3702 - val_loss: 595.2051\n",
      "Epoch 412/500\n",
      "19/19 [==============================] - 0s 5ms/step - loss: 17.3705 - val_loss: 595.2043\n",
      "Epoch 413/500\n",
      "19/19 [==============================] - 0s 5ms/step - loss: 17.3708 - val_loss: 595.2031\n",
      "Epoch 414/500\n",
      "19/19 [==============================] - 0s 5ms/step - loss: 17.3712 - val_loss: 595.2024\n",
      "Epoch 415/500\n",
      "19/19 [==============================] - 0s 5ms/step - loss: 17.3716 - val_loss: 595.2009\n",
      "Epoch 416/500\n",
      "19/19 [==============================] - 0s 5ms/step - loss: 17.3720 - val_loss: 595.2003\n",
      "Epoch 417/500\n",
      "19/19 [==============================] - 0s 5ms/step - loss: 17.3723 - val_loss: 595.1995\n",
      "Epoch 418/500\n",
      "19/19 [==============================] - 0s 7ms/step - loss: 17.3727 - val_loss: 595.1984\n",
      "Epoch 419/500\n",
      "19/19 [==============================] - 0s 5ms/step - loss: 17.3730 - val_loss: 595.1976\n",
      "Epoch 420/500\n",
      "19/19 [==============================] - 0s 5ms/step - loss: 17.3734 - val_loss: 595.1966\n",
      "Epoch 421/500\n",
      "19/19 [==============================] - 0s 5ms/step - loss: 17.3737 - val_loss: 595.1955\n",
      "Epoch 422/500\n",
      "19/19 [==============================] - 0s 8ms/step - loss: 17.3741 - val_loss: 595.1947\n",
      "Epoch 423/500\n",
      "19/19 [==============================] - 0s 6ms/step - loss: 17.3744 - val_loss: 595.1938\n",
      "Epoch 424/500\n",
      "19/19 [==============================] - 0s 5ms/step - loss: 17.3747 - val_loss: 595.1924\n",
      "Epoch 425/500\n",
      "19/19 [==============================] - 0s 5ms/step - loss: 17.3751 - val_loss: 595.1917\n",
      "Epoch 426/500\n",
      "19/19 [==============================] - 0s 5ms/step - loss: 17.3754 - val_loss: 595.1905\n",
      "Epoch 427/500\n",
      "19/19 [==============================] - 0s 5ms/step - loss: 17.3757 - val_loss: 595.1898\n",
      "Epoch 428/500\n",
      "19/19 [==============================] - 0s 5ms/step - loss: 17.3761 - val_loss: 595.1891\n",
      "Epoch 429/500\n",
      "19/19 [==============================] - 0s 5ms/step - loss: 17.3763 - val_loss: 595.1877\n",
      "Epoch 430/500\n",
      "19/19 [==============================] - 0s 5ms/step - loss: 17.3767 - val_loss: 595.1870\n",
      "Epoch 431/500\n",
      "19/19 [==============================] - 0s 6ms/step - loss: 17.3770 - val_loss: 595.1862\n",
      "Epoch 432/500\n",
      "19/19 [==============================] - 0s 5ms/step - loss: 17.3773 - val_loss: 595.1854\n",
      "Epoch 433/500\n",
      "19/19 [==============================] - 0s 5ms/step - loss: 17.3776 - val_loss: 595.1844\n",
      "Epoch 434/500\n",
      "19/19 [==============================] - 0s 8ms/step - loss: 17.3779 - val_loss: 595.1836\n",
      "Epoch 435/500\n",
      "19/19 [==============================] - 0s 5ms/step - loss: 17.3782 - val_loss: 595.1824\n",
      "Epoch 436/500\n",
      "19/19 [==============================] - 0s 5ms/step - loss: 17.3785 - val_loss: 595.1819\n",
      "Epoch 437/500\n",
      "19/19 [==============================] - 0s 5ms/step - loss: 17.3788 - val_loss: 595.1808\n",
      "Epoch 438/500\n",
      "19/19 [==============================] - 0s 5ms/step - loss: 17.3792 - val_loss: 595.1802\n",
      "Epoch 439/500\n",
      "19/19 [==============================] - 0s 5ms/step - loss: 17.3794 - val_loss: 595.1795\n",
      "Epoch 440/500\n",
      "19/19 [==============================] - 0s 5ms/step - loss: 17.3797 - val_loss: 595.1790\n",
      "Epoch 441/500\n",
      "19/19 [==============================] - 0s 5ms/step - loss: 17.3799 - val_loss: 595.1777\n",
      "Epoch 442/500\n",
      "19/19 [==============================] - 0s 5ms/step - loss: 17.3802 - val_loss: 595.1769\n",
      "Epoch 443/500\n",
      "19/19 [==============================] - 0s 5ms/step - loss: 17.3805 - val_loss: 595.1763\n",
      "Epoch 444/500\n",
      "19/19 [==============================] - 0s 5ms/step - loss: 17.3808 - val_loss: 595.1751\n",
      "Epoch 445/500\n",
      "19/19 [==============================] - 0s 5ms/step - loss: 17.3810 - val_loss: 595.1746\n",
      "Epoch 446/500\n",
      "19/19 [==============================] - 0s 8ms/step - loss: 17.3813 - val_loss: 595.1740\n",
      "Epoch 447/500\n",
      "19/19 [==============================] - 0s 5ms/step - loss: 17.3815 - val_loss: 595.1729\n",
      "Epoch 448/500\n",
      "19/19 [==============================] - 0s 5ms/step - loss: 17.3818 - val_loss: 595.1722\n",
      "Epoch 449/500\n",
      "19/19 [==============================] - 0s 5ms/step - loss: 17.3821 - val_loss: 595.1717\n",
      "Epoch 450/500\n",
      "19/19 [==============================] - 0s 6ms/step - loss: 17.3823 - val_loss: 595.1708\n",
      "Epoch 451/500\n",
      "19/19 [==============================] - 0s 5ms/step - loss: 17.3825 - val_loss: 595.1699\n",
      "Epoch 452/500\n",
      "19/19 [==============================] - 0s 5ms/step - loss: 17.3828 - val_loss: 595.1694\n",
      "Epoch 453/500\n",
      "19/19 [==============================] - 0s 5ms/step - loss: 17.3830 - val_loss: 595.1692\n",
      "Epoch 454/500\n",
      "19/19 [==============================] - 0s 5ms/step - loss: 17.3833 - val_loss: 595.1687\n",
      "Epoch 455/500\n",
      "19/19 [==============================] - 0s 5ms/step - loss: 17.3834 - val_loss: 595.1679\n",
      "Epoch 456/500\n",
      "19/19 [==============================] - 0s 5ms/step - loss: 17.3837 - val_loss: 595.1671\n",
      "Epoch 457/500\n",
      "19/19 [==============================] - 0s 5ms/step - loss: 17.3839 - val_loss: 595.1663\n",
      "Epoch 458/500\n",
      "19/19 [==============================] - 0s 8ms/step - loss: 17.3841 - val_loss: 595.1655\n",
      "Epoch 459/500\n",
      "19/19 [==============================] - 0s 5ms/step - loss: 17.3844 - val_loss: 595.1647\n",
      "Epoch 460/500\n",
      "19/19 [==============================] - 0s 5ms/step - loss: 17.3846 - val_loss: 595.1643\n",
      "Epoch 461/500\n",
      "19/19 [==============================] - 0s 5ms/step - loss: 17.3848 - val_loss: 595.1638\n",
      "Epoch 462/500\n",
      "19/19 [==============================] - 0s 5ms/step - loss: 17.3850 - val_loss: 595.1634\n",
      "Epoch 463/500\n",
      "19/19 [==============================] - 0s 5ms/step - loss: 17.3852 - val_loss: 595.1627\n",
      "Epoch 464/500\n",
      "19/19 [==============================] - 0s 5ms/step - loss: 17.3854 - val_loss: 595.1620\n",
      "Epoch 465/500\n",
      "19/19 [==============================] - 0s 5ms/step - loss: 17.3856 - val_loss: 595.1612\n",
      "Epoch 466/500\n",
      "19/19 [==============================] - 0s 5ms/step - loss: 17.3858 - val_loss: 595.1607\n",
      "Epoch 467/500\n",
      "19/19 [==============================] - 0s 5ms/step - loss: 17.3860 - val_loss: 595.1597\n",
      "Epoch 468/500\n",
      "19/19 [==============================] - 0s 5ms/step - loss: 17.3862 - val_loss: 595.1592\n",
      "Epoch 469/500\n",
      "19/19 [==============================] - 0s 10ms/step - loss: 17.3864 - val_loss: 595.1590\n",
      "Epoch 470/500\n",
      "19/19 [==============================] - 0s 5ms/step - loss: 17.3866 - val_loss: 595.1583\n",
      "Epoch 471/500\n",
      "19/19 [==============================] - 0s 5ms/step - loss: 17.3868 - val_loss: 595.1571\n",
      "Epoch 472/500\n",
      "19/19 [==============================] - 0s 5ms/step - loss: 17.3870 - val_loss: 595.1566\n",
      "Epoch 473/500\n",
      "19/19 [==============================] - 0s 5ms/step - loss: 17.3871 - val_loss: 595.1560\n",
      "Epoch 474/500\n",
      "19/19 [==============================] - 0s 5ms/step - loss: 17.3873 - val_loss: 595.1556\n",
      "Epoch 475/500\n",
      "19/19 [==============================] - 0s 5ms/step - loss: 17.3875 - val_loss: 595.1553\n",
      "Epoch 476/500\n",
      "19/19 [==============================] - 0s 5ms/step - loss: 17.3877 - val_loss: 595.1551\n",
      "Epoch 477/500\n",
      "19/19 [==============================] - 0s 5ms/step - loss: 17.3878 - val_loss: 595.1545\n",
      "Epoch 478/500\n",
      "19/19 [==============================] - 0s 5ms/step - loss: 17.3880 - val_loss: 595.1539\n",
      "Epoch 479/500\n",
      "19/19 [==============================] - 0s 5ms/step - loss: 17.3881 - val_loss: 595.1534\n",
      "Epoch 480/500\n",
      "19/19 [==============================] - 0s 9ms/step - loss: 17.3883 - val_loss: 595.1530\n",
      "Epoch 481/500\n",
      "19/19 [==============================] - 0s 5ms/step - loss: 17.3884 - val_loss: 595.1525\n",
      "Epoch 482/500\n",
      "19/19 [==============================] - 0s 5ms/step - loss: 17.3886 - val_loss: 595.1519\n",
      "Epoch 483/500\n",
      "19/19 [==============================] - 0s 5ms/step - loss: 17.3888 - val_loss: 595.1514\n",
      "Epoch 484/500\n",
      "19/19 [==============================] - 0s 5ms/step - loss: 17.3889 - val_loss: 595.1509\n",
      "Epoch 485/500\n",
      "19/19 [==============================] - 0s 5ms/step - loss: 17.3891 - val_loss: 595.1505\n",
      "Epoch 486/500\n",
      "19/19 [==============================] - 0s 5ms/step - loss: 17.3892 - val_loss: 595.1500\n",
      "Epoch 487/500\n",
      "19/19 [==============================] - 0s 5ms/step - loss: 17.3894 - val_loss: 595.1495\n",
      "Epoch 488/500\n",
      "19/19 [==============================] - 0s 5ms/step - loss: 17.3895 - val_loss: 595.1491\n",
      "Epoch 489/500\n",
      "19/19 [==============================] - 0s 5ms/step - loss: 17.3897 - val_loss: 595.1487\n",
      "Epoch 490/500\n",
      "19/19 [==============================] - 0s 5ms/step - loss: 17.3898 - val_loss: 595.1485\n",
      "Epoch 491/500\n",
      "19/19 [==============================] - 0s 7ms/step - loss: 17.3899 - val_loss: 595.1481\n",
      "Epoch 492/500\n",
      "19/19 [==============================] - 0s 6ms/step - loss: 17.3901 - val_loss: 595.1478\n",
      "Epoch 493/500\n",
      "19/19 [==============================] - 0s 5ms/step - loss: 17.3902 - val_loss: 595.1475\n",
      "Epoch 494/500\n",
      "19/19 [==============================] - 0s 5ms/step - loss: 17.3903 - val_loss: 595.1469\n",
      "Epoch 495/500\n",
      "19/19 [==============================] - 0s 5ms/step - loss: 17.3904 - val_loss: 595.1464\n",
      "Epoch 496/500\n",
      "19/19 [==============================] - 0s 5ms/step - loss: 17.3906 - val_loss: 595.1460\n",
      "Epoch 497/500\n",
      "19/19 [==============================] - 0s 5ms/step - loss: 17.3907 - val_loss: 595.1457\n",
      "Epoch 498/500\n",
      "19/19 [==============================] - 0s 5ms/step - loss: 17.3908 - val_loss: 595.1454\n",
      "Epoch 499/500\n",
      "19/19 [==============================] - 0s 5ms/step - loss: 17.3909 - val_loss: 595.1450\n",
      "Epoch 500/500\n",
      "19/19 [==============================] - 0s 5ms/step - loss: 17.3910 - val_loss: 595.1446\n"
     ]
    }
   ],
   "source": [
    "C0 = tf.Variable(86.8407, name=\"C0\", trainable=True, dtype=tf.float32)\n",
    "K0 = tf.Variable(-0.0015, name=\"K0\", trainable=True, dtype=tf.float32)\n",
    "K1 = tf.Variable(-0.0001, name=\"K1\", trainable=True, dtype=tf.float32)\n",
    "a = tf.Variable(0.0000, name=\"a\", trainable=True, dtype=tf.float32)\n",
    "b = tf.Variable(0.0118, name=\"b\", trainable=True, dtype=tf.float32)\n",
    "c = tf.Variable(2.5775, name=\"c\", trainable=True, dtype=tf.float32)\n",
    "\n",
    "splitr = 0.8\n",
    "\n",
    "\n",
    "def loss_fn(y_true, y_pred):\n",
    "    squared_difference = tf.square(y_true[:, 0] - y_pred[:, 0])\n",
    "    #squared_difference2 = tf.square(y_true[:, 2]-y_pred[:, 2])\n",
    "    #squared_difference1 = tf.square(y_true[:, 1]-y_pred[:, 1])\n",
    "    epsilon = 1\n",
    "    squared_difference3 = tf.square(\n",
    "        y_pred[:, 1] - (\n",
    "            y_pred[:, 0] * (\n",
    "                K0 - K1 * (\n",
    "                    9 * a * tf.math.log((y_pred[:, 0] + epsilon) / C0) / (K0 - K1 * c)**2 +\n",
    "                    4 * b * tf.math.log((y_pred[:, 0] + epsilon) / C0) / (K0 - K1 * c) + c\n",
    "                )\n",
    "            )\n",
    "        )\n",
    "    )\n",
    "    return tf.reduce_mean(squared_difference, axis=-1) + 0.2*tf.reduce_mean(squared_difference3, axis=-1)\n",
    "model = Sequential()\n",
    "model.add(LSTM(100, input_shape=(trainX.shape[1], trainX.shape[2])))\n",
    "model.add(Dense(60))\n",
    "model.compile(loss=loss_fn, optimizer='adam')\n",
    "history = model.fit(trainX[:int(splitr*trainX.shape[0])], trainy[:int(splitr*trainX.shape[0])], epochs=500, batch_size=64, validation_data=(trainX[int(splitr*trainX.shape[0]):trainX.shape[0]], trainy[int(splitr*trainX.shape[0]):trainX.shape[0]]), shuffle=False)"
   ]
  },
  {
   "cell_type": "code",
   "execution_count": 19,
   "metadata": {
    "colab": {
     "base_uri": "https://localhost:8080/"
    },
    "id": "yJL101rPyuoT",
    "outputId": "239ff2b1-c186-423a-d316-939dfdd7c793"
   },
   "outputs": [
    {
     "name": "stdout",
     "output_type": "stream",
     "text": [
      "1/1 [==============================] - 0s 398ms/step\n"
     ]
    }
   ],
   "source": [
    "forecast_without_mc = forecastX\n",
    "yhat_without_mc = model.predict(forecast_without_mc) # Step Ahead Prediction\n",
    "forecast_without_mc = forecast_without_mc.reshape((forecast_without_mc.shape[0], forecast_without_mc.shape[2])) # Historical Input"
   ]
  },
  {
   "cell_type": "code",
   "execution_count": 20,
   "metadata": {
    "colab": {
     "base_uri": "https://localhost:8080/"
    },
    "id": "g9dQELcJ8wbp",
    "outputId": "4dc7671b-b1a8-48d5-8744-a86f98446109"
   },
   "outputs": [
    {
     "data": {
      "text/plain": [
       "(1, 1, 251)"
      ]
     },
     "execution_count": 20,
     "metadata": {},
     "output_type": "execute_result"
    }
   ],
   "source": [
    "forecastX.shape"
   ]
  },
  {
   "cell_type": "code",
   "execution_count": 21,
   "metadata": {
    "colab": {
     "base_uri": "https://localhost:8080/"
    },
    "id": "IS2kyIKG1Kbr",
    "outputId": "f31b3485-8e26-452f-9298-ea8bf7e80ad1"
   },
   "outputs": [
    {
     "data": {
      "text/plain": [
       "(1, 251)"
      ]
     },
     "execution_count": 21,
     "metadata": {},
     "output_type": "execute_result"
    }
   ],
   "source": [
    "forecast_without_mc.shape"
   ]
  },
  {
   "cell_type": "code",
   "execution_count": 22,
   "metadata": {
    "id": "0u6VIzaDyuoT"
   },
   "outputs": [],
   "source": [
    "inv_yhat_without_mc = np.concatenate((forecast_without_mc, yhat_without_mc), axis=1) # Concatenation of predicted values with Historical Data\n",
    "#inv_yhat_without_mc = scaler.inverse_transform(inv_yhat_without_mc) # Transform labels back to original encoding"
   ]
  },
  {
   "cell_type": "code",
   "execution_count": 23,
   "metadata": {
    "colab": {
     "base_uri": "https://localhost:8080/"
    },
    "id": "EUEcw0LX07oU",
    "outputId": "cfc32397-9c37-4b43-d087-584bb31c3dcc"
   },
   "outputs": [
    {
     "data": {
      "text/plain": [
       "(1, 311)"
      ]
     },
     "execution_count": 23,
     "metadata": {},
     "output_type": "execute_result"
    }
   ],
   "source": [
    "inv_yhat_without_mc.shape"
   ]
  },
  {
   "cell_type": "code",
   "execution_count": 24,
   "metadata": {
    "id": "31OWVbSh_305"
   },
   "outputs": [],
   "source": [
    "fforecast = inv_yhat_without_mc[:,-300:]"
   ]
  },
  {
   "cell_type": "code",
   "execution_count": 25,
   "metadata": {},
   "outputs": [
    {
     "data": {
      "text/plain": [
       "(1, 300)"
      ]
     },
     "execution_count": 25,
     "metadata": {},
     "output_type": "execute_result"
    }
   ],
   "source": [
    "fforecast.shape"
   ]
  },
  {
   "cell_type": "code",
   "execution_count": 26,
   "metadata": {
    "id": "BlpGH2FOAiRF"
   },
   "outputs": [],
   "source": [
    "final_forecast = fforecast[:,0:300:3]"
   ]
  },
  {
   "cell_type": "code",
   "execution_count": 27,
   "metadata": {},
   "outputs": [
    {
     "data": {
      "text/plain": [
       "(1, 300)"
      ]
     },
     "execution_count": 27,
     "metadata": {},
     "output_type": "execute_result"
    }
   ],
   "source": [
    "fforecast.shape"
   ]
  },
  {
   "cell_type": "code",
   "execution_count": 28,
   "metadata": {
    "id": "CXkgkj_LBk_t"
   },
   "outputs": [],
   "source": [
    "# code to replace all negative value with 0\n",
    "final_forecast[final_forecast<0] = 0"
   ]
  },
  {
   "cell_type": "code",
   "execution_count": 29,
   "metadata": {},
   "outputs": [
    {
     "data": {
      "text/plain": [
       "array([[6.71128151e+01, 6.70707983e+01, 6.70287815e+01, 6.69867647e+01,\n",
       "        6.69447479e+01, 6.69027311e+01, 6.68607143e+01, 6.68186975e+01,\n",
       "        6.67766807e+01, 6.67346639e+01, 6.66960784e+01, 6.66736695e+01,\n",
       "        6.66512605e+01, 6.99190710e+01, 6.98852007e+01, 6.98683940e+01,\n",
       "        6.98515873e+01, 6.98347806e+01, 6.98179739e+01, 6.98011671e+01,\n",
       "        6.97836040e+01, 6.97675537e+01, 6.97507470e+01, 6.97339402e+01,\n",
       "        6.97171335e+01, 6.97003268e+01, 6.96670402e+01, 6.96334267e+01,\n",
       "        6.95998133e+01, 6.95661998e+01, 6.95332586e+01, 6.94998729e+01,\n",
       "        6.94653595e+01, 6.94321746e+01, 6.93998133e+01, 6.93664519e+01,\n",
       "        6.93330906e+01, 6.92925537e+01, 6.92001167e+01, 6.91076797e+01,\n",
       "        0.00000000e+00, 7.40804970e-01, 4.68572617e-01, 5.68220079e-01,\n",
       "        0.00000000e+00, 0.00000000e+00, 0.00000000e+00, 6.97040616e+01,\n",
       "        6.96745098e+01, 6.96408964e+01, 6.96072829e+01, 6.95736695e+01,\n",
       "        6.95390560e+01, 6.95064426e+01, 6.94728291e+01, 6.94392157e+01,\n",
       "        6.94056022e+01, 6.93719888e+01, 6.93383754e+01, 6.93067619e+01,\n",
       "        6.92206583e+01, 6.91282213e+01, 6.90357843e+01, 6.89433473e+01,\n",
       "        6.88509104e+01, 6.87584734e+01, 6.86660364e+01, 6.85735994e+01,\n",
       "        6.84811625e+01, 6.83887255e+01, 6.82962885e+01, 6.82038515e+01,\n",
       "        6.80792017e+01, 7.49060364e+01, 0.00000000e+00, 5.82197547e-01,\n",
       "        1.22350466e+00, 6.37347620e-02, 4.10423160e-01, 3.47051203e-01,\n",
       "        5.86339149e+01, 0.00000000e+00, 3.40441875e-02, 9.36521947e-01,\n",
       "        0.00000000e+00, 0.00000000e+00, 0.00000000e+00, 2.45603118e-02,\n",
       "        0.00000000e+00, 6.61817640e-02, 0.00000000e+00, 0.00000000e+00,\n",
       "        0.00000000e+00, 0.00000000e+00, 3.58575761e-01, 5.43199718e-01,\n",
       "        1.09320723e-01, 0.00000000e+00, 4.57491755e-01, 0.00000000e+00]])"
      ]
     },
     "execution_count": 29,
     "metadata": {},
     "output_type": "execute_result"
    }
   ],
   "source": [
    "final_forecast"
   ]
  },
  {
   "cell_type": "code",
   "execution_count": 30,
   "metadata": {},
   "outputs": [
    {
     "data": {
      "text/plain": [
       "(1, 100)"
      ]
     },
     "execution_count": 30,
     "metadata": {},
     "output_type": "execute_result"
    }
   ],
   "source": [
    "final_forecast.shape"
   ]
  },
  {
   "cell_type": "code",
   "execution_count": 31,
   "metadata": {},
   "outputs": [
    {
     "data": {
      "text/plain": [
       "(100,)"
      ]
     },
     "execution_count": 31,
     "metadata": {},
     "output_type": "execute_result"
    }
   ],
   "source": [
    "test.shape"
   ]
  },
  {
   "cell_type": "code",
   "execution_count": 32,
   "metadata": {},
   "outputs": [],
   "source": [
    "training_set = np.array(training_set)\n",
    "test = np.array(test)\n",
    "final_forecast = np.array(final_forecast.squeeze(0))"
   ]
  },
  {
   "cell_type": "code",
   "execution_count": 33,
   "metadata": {},
   "outputs": [
    {
     "data": {
      "text/plain": [
       "array([64.19386088, 64.1835901 , 64.17331933, 64.16304855, 64.15277778,\n",
       "       64.142507  , 64.13223623, 64.12196545, 64.11169468, 64.1014239 ,\n",
       "       64.09115313, 64.08088235, 64.07061158, 64.0603408 , 64.05007003,\n",
       "       64.03979925, 64.02952848, 64.0192577 , 64.00898693, 63.99912465,\n",
       "       63.99212185, 63.98511905, 63.97811625, 63.97111345, 63.96411064,\n",
       "       63.95710784, 63.95010504, 63.94310224, 63.93609944, 63.92909664,\n",
       "       63.92209384, 63.91509104, 63.90808824, 63.90108543, 63.89408263,\n",
       "       63.88707983, 63.88007703, 63.87307423, 63.86607143, 63.85906863,\n",
       "       63.85206583, 63.84506303, 63.83806022, 63.83105742, 63.82405462,\n",
       "       63.81705182, 63.81004902, 63.80304622, 63.79604342, 63.78904062,\n",
       "       63.78203782, 63.77503501, 63.76803221, 63.76102941, 63.75402661,\n",
       "       63.74702381, 63.74002101, 63.73301821, 63.72601541, 63.71901261,\n",
       "       63.7120098 , 63.705007  , 63.6980042 , 63.6910014 , 63.6839986 ,\n",
       "       63.6769958 , 63.669993  , 63.6629902 , 63.65598739, 63.64898459,\n",
       "       63.64198179, 63.63497899, 63.62797619, 63.62097339, 63.61397059,\n",
       "       63.60696779, 63.59996499, 63.59296218, 63.58595938, 63.57895658,\n",
       "       63.57195378, 63.56495098, 63.55794818, 63.55094538, 63.54394258,\n",
       "       63.53693978, 63.52993697, 63.52293417, 63.51593137, 63.50892857,\n",
       "       63.50192577, 63.49492297, 63.48792017, 63.48091737, 63.47391457,\n",
       "       63.46691176, 63.45990896, 63.45290616, 63.44590336, 63.43890056])"
      ]
     },
     "execution_count": 33,
     "metadata": {},
     "output_type": "execute_result"
    }
   ],
   "source": [
    "test"
   ]
  },
  {
   "cell_type": "code",
   "execution_count": 34,
   "metadata": {},
   "outputs": [
    {
     "data": {
      "text/plain": [
       "(100,)"
      ]
     },
     "execution_count": 34,
     "metadata": {},
     "output_type": "execute_result"
    }
   ],
   "source": [
    "test.shape"
   ]
  },
  {
   "cell_type": "code",
   "execution_count": 35,
   "metadata": {},
   "outputs": [
    {
     "data": {
      "text/plain": [
       "(100,)"
      ]
     },
     "execution_count": 35,
     "metadata": {},
     "output_type": "execute_result"
    }
   ],
   "source": [
    "final_forecast.shape"
   ]
  },
  {
   "cell_type": "code",
   "execution_count": 36,
   "metadata": {},
   "outputs": [
    {
     "data": {
      "text/plain": [
       "(100,)"
      ]
     },
     "execution_count": 36,
     "metadata": {},
     "output_type": "execute_result"
    }
   ],
   "source": [
    "test.shape"
   ]
  },
  {
   "cell_type": "code",
   "execution_count": 37,
   "metadata": {},
   "outputs": [
    {
     "name": "stdout",
     "output_type": "stream",
     "text": [
      "36.110534535743895\n",
      "23.721737819564524\n"
     ]
    }
   ],
   "source": [
    "import math\n",
    "MSE = np.square(np.subtract(np.array(test),np.array(final_forecast))).mean()   \n",
    "rsme = math.sqrt(MSE)\n",
    "print(rsme)  \n",
    "MAE = np.abs(np.subtract(np.array(test),np.array(final_forecast))).mean()   \n",
    "mae = MAE\n",
    "print(mae)"
   ]
  }
 ],
 "metadata": {
  "colab": {
   "provenance": []
  },
  "kernelspec": {
   "display_name": "Python 3",
   "language": "python",
   "name": "python3"
  },
  "language_info": {
   "codemirror_mode": {
    "name": "ipython",
    "version": 3
   },
   "file_extension": ".py",
   "mimetype": "text/x-python",
   "name": "python",
   "nbconvert_exporter": "python",
   "pygments_lexer": "ipython3",
   "version": "3.9.13"
  }
 },
 "nbformat": 4,
 "nbformat_minor": 0
}
