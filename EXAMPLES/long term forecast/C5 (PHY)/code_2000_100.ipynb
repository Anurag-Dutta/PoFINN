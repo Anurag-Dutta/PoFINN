{
 "cells": [
  {
   "cell_type": "markdown",
   "metadata": {
    "id": "pCGKeZ2gyuoQ"
   },
   "source": [
    "_Importing Required Libraries_"
   ]
  },
  {
   "cell_type": "code",
   "execution_count": 1,
   "metadata": {
    "colab": {
     "base_uri": "https://localhost:8080/"
    },
    "id": "A-6LN-zXiLcM",
    "outputId": "4de610a4-f8b8-4f49-c6c0-89de299ccedc"
   },
   "outputs": [
    {
     "name": "stdout",
     "output_type": "stream",
     "text": [
      "Requirement already satisfied: hampel in c:\\users\\anurag dutta\\appdata\\local\\packages\\pythonsoftwarefoundation.python.3.9_qbz5n2kfra8p0\\localcache\\local-packages\\python39\\site-packages (0.0.5)\n",
      "Requirement already satisfied: numpy in c:\\users\\anurag dutta\\appdata\\local\\packages\\pythonsoftwarefoundation.python.3.9_qbz5n2kfra8p0\\localcache\\local-packages\\python39\\site-packages (from hampel) (1.26.4)\n",
      "Requirement already satisfied: pandas in c:\\users\\anurag dutta\\appdata\\local\\packages\\pythonsoftwarefoundation.python.3.9_qbz5n2kfra8p0\\localcache\\local-packages\\python39\\site-packages (from hampel) (1.5.2)\n",
      "Requirement already satisfied: python-dateutil>=2.8.1 in c:\\users\\anurag dutta\\appdata\\local\\packages\\pythonsoftwarefoundation.python.3.9_qbz5n2kfra8p0\\localcache\\local-packages\\python39\\site-packages (from pandas->hampel) (2.8.2)\n",
      "Requirement already satisfied: pytz>=2020.1 in c:\\users\\anurag dutta\\appdata\\local\\packages\\pythonsoftwarefoundation.python.3.9_qbz5n2kfra8p0\\localcache\\local-packages\\python39\\site-packages (from pandas->hampel) (2023.3.post1)\n",
      "Requirement already satisfied: six>=1.5 in c:\\users\\anurag dutta\\appdata\\local\\packages\\pythonsoftwarefoundation.python.3.9_qbz5n2kfra8p0\\localcache\\local-packages\\python39\\site-packages (from python-dateutil>=2.8.1->pandas->hampel) (1.16.0)\n",
      "Note: you may need to restart the kernel to use updated packages.\n"
     ]
    },
    {
     "name": "stderr",
     "output_type": "stream",
     "text": [
      "\n",
      "[notice] A new release of pip is available: 24.2 -> 24.3.1\n",
      "[notice] To update, run: C:\\Users\\Anurag Dutta\\AppData\\Local\\Microsoft\\WindowsApps\\PythonSoftwareFoundation.Python.3.9_qbz5n2kfra8p0\\python.exe -m pip install --upgrade pip\n"
     ]
    }
   ],
   "source": [
    "pip install hampel"
   ]
  },
  {
   "cell_type": "code",
   "execution_count": 2,
   "metadata": {
    "id": "By_d9uXpaFvZ"
   },
   "outputs": [],
   "source": [
    "from keras.models import Sequential\n",
    "from keras.layers import Dense\n",
    "from keras.layers import LSTM\n",
    "from keras.layers import Dropout\n",
    "import keras\n",
    "import tensorflow as tf\n",
    "from hampel import hampel\n",
    "import numpy as np\n",
    "import matplotlib.pyplot as plt\n",
    "import pandas as pd\n",
    "from sklearn.preprocessing import MinMaxScaler\n",
    "from sklearn.metrics import mean_squared_error, mean_absolute_error\n",
    "from math import sqrt\n",
    "from matplotlib import pyplot\n",
    "from numpy import array"
   ]
  },
  {
   "cell_type": "markdown",
   "metadata": {
    "id": "JyOjBMFayuoR"
   },
   "source": [
    "## Pretraining"
   ]
  },
  {
   "cell_type": "markdown",
   "metadata": {
    "id": "-5QqIY_GyuoR"
   },
   "source": [
    "The `capa_intermittency.dat` feeds the model with the dynamics of the Capacitor"
   ]
  },
  {
   "cell_type": "code",
   "execution_count": 3,
   "metadata": {
    "id": "9dV4a8yfyuoR"
   },
   "outputs": [],
   "source": [
    "data = np.genfromtxt('capa_intermittency.dat')\n",
    "training_set = pd.DataFrame(data).reset_index(drop=True)\n",
    "training_set = training_set.iloc[:,0]"
   ]
  },
  {
   "cell_type": "markdown",
   "metadata": {
    "id": "i7easoxByuoR"
   },
   "source": [
    "## Computing the Gradient"
   ]
  },
  {
   "cell_type": "markdown",
   "metadata": {
    "id": "5SnyolJTyuoR"
   },
   "source": [
    "_Calculating the value of_ $\\frac{dx}{dt}$"
   ]
  },
  {
   "cell_type": "code",
   "execution_count": 4,
   "metadata": {
    "colab": {
     "base_uri": "https://localhost:8080/"
    },
    "id": "wmIbVfIvyuoR",
    "outputId": "aa4e3136-c854-465d-d2e9-81cfd546e440"
   },
   "outputs": [
    {
     "name": "stdout",
     "output_type": "stream",
     "text": [
      "1.0\n",
      "1        0.000298\n",
      "2        0.000298\n",
      "3        0.000297\n",
      "4        0.000297\n",
      "5        0.000297\n",
      "           ...   \n",
      "9996     0.000018\n",
      "9997     0.000018\n",
      "9998     0.000018\n",
      "9999     0.000018\n",
      "10000    0.000018\n",
      "Name: 0, Length: 10000, dtype: float64\n"
     ]
    }
   ],
   "source": [
    "t_diff = 1\n",
    "print(training_set.max())\n",
    "gradient_t = (training_set.diff()/t_diff).iloc[1:] # dx/dt\n",
    "print(gradient_t)"
   ]
  },
  {
   "cell_type": "markdown",
   "metadata": {
    "id": "_2eVeeoxyuoS"
   },
   "source": [
    "## Loading Datasets"
   ]
  },
  {
   "cell_type": "code",
   "execution_count": 5,
   "metadata": {
    "id": "0J-NKyIEyuoS"
   },
   "outputs": [
    {
     "data": {
      "text/plain": [
       "0       89.140000\n",
       "1       88.911429\n",
       "2       88.682857\n",
       "3       88.454286\n",
       "4       88.225714\n",
       "          ...    \n",
       "2095    62.766632\n",
       "2096    62.759629\n",
       "2097    62.752626\n",
       "2098    62.745623\n",
       "2099    62.738620\n",
       "Name: C5, Length: 2100, dtype: float64"
      ]
     },
     "execution_count": 5,
     "metadata": {},
     "output_type": "execute_result"
    }
   ],
   "source": [
    "data = pd.read_csv(\"c5_interpolated_2000_100.csv\")\n",
    "training_set = data.iloc[:, 1]\n",
    "training_set"
   ]
  },
  {
   "cell_type": "code",
   "execution_count": 6,
   "metadata": {
    "colab": {
     "base_uri": "https://localhost:8080/"
    },
    "id": "-CbNUhJ74UqF",
    "outputId": "20f562d8-8247-49cc-b9c3-00eca5e13e2d"
   },
   "outputs": [
    {
     "data": {
      "text/plain": [
       "0       89.140000\n",
       "1       88.911429\n",
       "2       88.682857\n",
       "3       88.454286\n",
       "4       88.225714\n",
       "          ...    \n",
       "1995     0.543200\n",
       "1996     0.109321\n",
       "1997     0.000000\n",
       "1998     0.457492\n",
       "1999     0.000000\n",
       "Name: C5, Length: 2000, dtype: float64"
      ]
     },
     "execution_count": 6,
     "metadata": {},
     "output_type": "execute_result"
    }
   ],
   "source": [
    "test = training_set.tail(100)\n",
    "test\n",
    "training_set = training_set.head(2000)\n",
    "training_set"
   ]
  },
  {
   "cell_type": "code",
   "execution_count": 7,
   "metadata": {
    "colab": {
     "base_uri": "https://localhost:8080/"
    },
    "id": "X0TwTcq0yuoS",
    "outputId": "37252ed8-d88e-4044-fa7a-922411990b5b"
   },
   "outputs": [
    {
     "name": "stdout",
     "output_type": "stream",
     "text": [
      "0       0.000298\n",
      "1       0.000298\n",
      "2       0.000297\n",
      "3       0.000297\n",
      "4       0.000297\n",
      "          ...   \n",
      "9995    0.000018\n",
      "9996    0.000018\n",
      "9997    0.000018\n",
      "9998    0.000018\n",
      "9999    0.000018\n",
      "Name: 0, Length: 10000, dtype: float64\n"
     ]
    }
   ],
   "source": [
    "training_set = training_set.reset_index(drop=True)\n",
    "gradient_t = gradient_t.reset_index(drop=True)\n",
    "print(gradient_t)"
   ]
  },
  {
   "cell_type": "code",
   "execution_count": 8,
   "metadata": {
    "id": "O2biznZQyuoS"
   },
   "outputs": [],
   "source": [
    "df = pd.concat((training_set, gradient_t), axis=1)\n",
    "df.columns = ['y_t', 'grad_t']"
   ]
  },
  {
   "cell_type": "code",
   "execution_count": 9,
   "metadata": {
    "colab": {
     "base_uri": "https://localhost:8080/",
     "height": 423
    },
    "id": "sk_a5v3tyuoS",
    "outputId": "17563625-e550-45ae-faab-fafa353e44da"
   },
   "outputs": [
    {
     "data": {
      "text/html": [
       "<div>\n",
       "<style scoped>\n",
       "    .dataframe tbody tr th:only-of-type {\n",
       "        vertical-align: middle;\n",
       "    }\n",
       "\n",
       "    .dataframe tbody tr th {\n",
       "        vertical-align: top;\n",
       "    }\n",
       "\n",
       "    .dataframe thead th {\n",
       "        text-align: right;\n",
       "    }\n",
       "</style>\n",
       "<table border=\"1\" class=\"dataframe\">\n",
       "  <thead>\n",
       "    <tr style=\"text-align: right;\">\n",
       "      <th></th>\n",
       "      <th>y_t</th>\n",
       "      <th>grad_t</th>\n",
       "    </tr>\n",
       "  </thead>\n",
       "  <tbody>\n",
       "    <tr>\n",
       "      <th>0</th>\n",
       "      <td>89.140000</td>\n",
       "      <td>0.000298</td>\n",
       "    </tr>\n",
       "    <tr>\n",
       "      <th>1</th>\n",
       "      <td>88.911429</td>\n",
       "      <td>0.000298</td>\n",
       "    </tr>\n",
       "    <tr>\n",
       "      <th>2</th>\n",
       "      <td>88.682857</td>\n",
       "      <td>0.000297</td>\n",
       "    </tr>\n",
       "    <tr>\n",
       "      <th>3</th>\n",
       "      <td>88.454286</td>\n",
       "      <td>0.000297</td>\n",
       "    </tr>\n",
       "    <tr>\n",
       "      <th>4</th>\n",
       "      <td>88.225714</td>\n",
       "      <td>0.000297</td>\n",
       "    </tr>\n",
       "    <tr>\n",
       "      <th>...</th>\n",
       "      <td>...</td>\n",
       "      <td>...</td>\n",
       "    </tr>\n",
       "    <tr>\n",
       "      <th>9995</th>\n",
       "      <td>NaN</td>\n",
       "      <td>0.000018</td>\n",
       "    </tr>\n",
       "    <tr>\n",
       "      <th>9996</th>\n",
       "      <td>NaN</td>\n",
       "      <td>0.000018</td>\n",
       "    </tr>\n",
       "    <tr>\n",
       "      <th>9997</th>\n",
       "      <td>NaN</td>\n",
       "      <td>0.000018</td>\n",
       "    </tr>\n",
       "    <tr>\n",
       "      <th>9998</th>\n",
       "      <td>NaN</td>\n",
       "      <td>0.000018</td>\n",
       "    </tr>\n",
       "    <tr>\n",
       "      <th>9999</th>\n",
       "      <td>NaN</td>\n",
       "      <td>0.000018</td>\n",
       "    </tr>\n",
       "  </tbody>\n",
       "</table>\n",
       "<p>10000 rows × 2 columns</p>\n",
       "</div>"
      ],
      "text/plain": [
       "            y_t    grad_t\n",
       "0     89.140000  0.000298\n",
       "1     88.911429  0.000298\n",
       "2     88.682857  0.000297\n",
       "3     88.454286  0.000297\n",
       "4     88.225714  0.000297\n",
       "...         ...       ...\n",
       "9995        NaN  0.000018\n",
       "9996        NaN  0.000018\n",
       "9997        NaN  0.000018\n",
       "9998        NaN  0.000018\n",
       "9999        NaN  0.000018\n",
       "\n",
       "[10000 rows x 2 columns]"
      ]
     },
     "execution_count": 9,
     "metadata": {},
     "output_type": "execute_result"
    }
   ],
   "source": [
    "df"
   ]
  },
  {
   "cell_type": "markdown",
   "metadata": {
    "id": "-5esyHu5aFvg"
   },
   "source": [
    "## Plot of the External Forcing from Chaotic Differential Equation"
   ]
  },
  {
   "cell_type": "code",
   "execution_count": 10,
   "metadata": {
    "colab": {
     "base_uri": "https://localhost:8080/",
     "height": 447
    },
    "id": "hGnE43tOh-4p",
    "outputId": "fc396503-b624-4fa5-dfbe-f460207405c6"
   },
   "outputs": [
    {
     "data": {
      "text/plain": [
       "<Axes: >"
      ]
     },
     "execution_count": 10,
     "metadata": {},
     "output_type": "execute_result"
    },
    {
     "data": {
      "image/png": "[encoded data removed]",
      "text/plain": [
       "<Figure size 432x288 with 1 Axes>"
      ]
     },
     "metadata": {
      "needs_background": "light"
     },
     "output_type": "display_data"
    }
   ],
   "source": [
    "df.iloc[:, 0].plot()"
   ]
  },
  {
   "cell_type": "code",
   "execution_count": 11,
   "metadata": {
    "colab": {
     "base_uri": "https://localhost:8080/",
     "height": 447
    },
    "id": "ym4xWUUxaFvg",
    "outputId": "ae6a3495-8ce9-437e-ba81-3ed31deedeae"
   },
   "outputs": [
    {
     "name": "stderr",
     "output_type": "stream",
     "text": [
      "C:\\Users\\Anurag Dutta\\AppData\\Local\\Packages\\PythonSoftwareFoundation.Python.3.9_qbz5n2kfra8p0\\LocalCache\\local-packages\\Python39\\site-packages\\pandas\\core\\arraylike.py:402: RuntimeWarning: divide by zero encountered in log\n",
      "  result = getattr(ufunc, method)(*inputs, **kwargs)\n"
     ]
    },
    {
     "data": {
      "text/plain": [
       "<Axes: >"
      ]
     },
     "execution_count": 11,
     "metadata": {},
     "output_type": "execute_result"
    },
    {
     "data": {
      "image/png": "[encoded data removed]",
      "text/plain": [
       "<Figure size 432x288 with 1 Axes>"
      ]
     },
     "metadata": {
      "needs_background": "light"
     },
     "output_type": "display_data"
    }
   ],
   "source": [
    "import numpy as np\n",
    "c0 = 86.8407  # Value for C0\n",
    "K0 = -0.0015  # Value for K0\n",
    "K1 = -0.0001  # Value for K1\n",
    "a = 0.0000    # Value for a\n",
    "b = 0.0118    # Value for b\n",
    "c = 2.5775    # Value for c\n",
    "\n",
    "L = np.minimum(c0, (df.iloc[:, 1] - (df.iloc[:, 0] * (K0 - K1 * (9 * a * np.log(df.iloc[:, 0] / c0) / (K0 - K1 * c)**2 + 4 * b * np.log(df.iloc[:, 0] / c0) / (K0 - K1 * c) + c)))))\n",
    "L.plot()"
   ]
  },
  {
   "cell_type": "markdown",
   "metadata": {
    "id": "9VyEywnwaFvh"
   },
   "source": [
    "## Preprocessing the data into supervised learning"
   ]
  },
  {
   "cell_type": "code",
   "execution_count": 12,
   "metadata": {
    "id": "6V9dXqzdaFvh"
   },
   "outputs": [],
   "source": [
    "# split a sequence into samples\n",
    "def Supervised(data, n_in=1, n_out=1, dropnan=True):\n",
    "    n_vars = 1 if type(data) is list else data.shape[1]\n",
    "    df = pd.DataFrame(data)\n",
    "    cols, names = list(), list()\n",
    "    # input sequence (t-n_in, ... t-1)\n",
    "    for i in range(n_in, 0, -1):\n",
    "        cols.append(df.shift(i))\n",
    "        names += [('var%d(t-%d)' % (j+1, i)) for j in range(n_vars)]\n",
    "    # forecast sequence (t, t+1, ... t+n_out)\n",
    "    for i in range(0, n_out):\n",
    "      cols.append(df.shift(-i))\n",
    "      if i == 0:\n",
    "        names += [('var%d(t)' % (j+1)) for j in range(n_vars)]\n",
    "      else:\n",
    "        names += [('var%d(t+%d)' % (j+1, i)) for j in range(n_vars)]\n",
    "    # put it all together\n",
    "    agg = pd.concat(cols, axis=1)\n",
    "    agg.columns = names\n",
    "    # drop rows with NaN values\n",
    "    if dropnan:\n",
    "       agg.dropna(inplace=True)\n",
    "    return agg"
   ]
  },
  {
   "cell_type": "code",
   "execution_count": 13,
   "metadata": {
    "colab": {
     "base_uri": "https://localhost:8080/"
    },
    "id": "CrzSrT1HnyfH",
    "outputId": "7e75f928-3e47-499d-eac1-51908015ef78"
   },
   "outputs": [
    {
     "name": "stdout",
     "output_type": "stream",
     "text": [
      "     var1(t-350)  var1(t-349)  var1(t-348)  var1(t-347)  var1(t-346)  \\\n",
      "350    89.140000    88.911429    88.682857    88.454286    88.225714   \n",
      "351    88.911429    88.682857    88.454286    88.225714    87.997143   \n",
      "352    88.682857    88.454286    88.225714    87.997143    87.768571   \n",
      "353    88.454286    88.225714    87.997143    87.768571    87.540000   \n",
      "354    88.225714    87.997143    87.768571    87.540000    87.311429   \n",
      "\n",
      "     var1(t-345)  var1(t-344)  var1(t-343)  var1(t-342)  var1(t-341)  ...  \\\n",
      "350    87.997143    87.768571    87.540000    87.311429    87.095798  ...   \n",
      "351    87.768571    87.540000    87.311429    87.095798    87.039776  ...   \n",
      "352    87.540000    87.311429    87.095798    87.039776    86.983754  ...   \n",
      "353    87.311429    87.095798    87.039776    86.983754    86.927731  ...   \n",
      "354    87.095798    87.039776    86.983754    86.927731    86.871709  ...   \n",
      "\n",
      "     var1(t+95)  var2(t+95)  var1(t+96)  var2(t+96)  var1(t+97)  var2(t+97)  \\\n",
      "350   79.161181    0.000263   79.132236    0.000263   79.103291    0.000263   \n",
      "351   79.132236    0.000263   79.103291    0.000263   79.074346    0.000262   \n",
      "352   79.103291    0.000263   79.074346    0.000262   79.045401    0.000262   \n",
      "353   79.074346    0.000262   79.045401    0.000262   79.016457    0.000262   \n",
      "354   79.045401    0.000262   79.016457    0.000262   78.987512    0.000262   \n",
      "\n",
      "     var1(t+98)  var2(t+98)  var1(t+99)  var2(t+99)  \n",
      "350   79.074346    0.000262   79.045401    0.000262  \n",
      "351   79.045401    0.000262   79.016457    0.000262  \n",
      "352   79.016457    0.000262   78.987512    0.000262  \n",
      "353   78.987512    0.000262   78.958567    0.000262  \n",
      "354   78.958567    0.000262   78.929622    0.000262  \n",
      "\n",
      "[5 rows x 551 columns]\n",
      "Index(['var1(t-350)', 'var1(t-349)', 'var1(t-348)', 'var1(t-347)',\n",
      "       'var1(t-346)', 'var1(t-345)', 'var1(t-344)', 'var1(t-343)',\n",
      "       'var1(t-342)', 'var1(t-341)',\n",
      "       ...\n",
      "       'var1(t+95)', 'var2(t+95)', 'var1(t+96)', 'var2(t+96)', 'var1(t+97)',\n",
      "       'var2(t+97)', 'var1(t+98)', 'var2(t+98)', 'var1(t+99)', 'var2(t+99)'],\n",
      "      dtype='object', length=551)\n"
     ]
    }
   ],
   "source": [
    "data = Supervised(df.values, n_in = 350, n_out = 100)\n",
    "\n",
    "\n",
    "cols_to_drop = []\n",
    "for i in range(2, 351):\n",
    "    cols_to_drop.extend([f'var2(t-{i})'])\n",
    "\n",
    "data.drop(cols_to_drop, axis=1, inplace=True)\n",
    "\n",
    "print(data.head())\n",
    "print(data.columns)"
   ]
  },
  {
   "cell_type": "code",
   "execution_count": 14,
   "metadata": {
    "id": "AfPf60oy6Pe4"
   },
   "outputs": [],
   "source": [
    "train = np.array(data[0:len(data)-1])\n",
    "forecast = np.array(data.tail(1))"
   ]
  },
  {
   "cell_type": "code",
   "execution_count": 15,
   "metadata": {
    "id": "WSAafzI37KiT"
   },
   "outputs": [],
   "source": [
    "trainy = train[:,-300:]\n",
    "trainX = train[:,:-300]"
   ]
  },
  {
   "cell_type": "code",
   "execution_count": 16,
   "metadata": {
    "id": "2SrOqVJA7f50"
   },
   "outputs": [],
   "source": [
    "forecasty = forecast[:,-300:]\n",
    "forecastX = forecast[:,:-300]"
   ]
  },
  {
   "cell_type": "code",
   "execution_count": 17,
   "metadata": {
    "colab": {
     "base_uri": "https://localhost:8080/"
    },
    "id": "Qno_k8Nw7saY",
    "outputId": "c4a88db5-d8c6-489f-cdb2-06b24e293cff"
   },
   "outputs": [
    {
     "name": "stdout",
     "output_type": "stream",
     "text": [
      "(1550, 1, 251) (1550, 300) (1, 1, 251)\n"
     ]
    }
   ],
   "source": [
    "trainX = trainX.reshape((trainX.shape[0], 1, trainX.shape[1]))\n",
    "forecastX = forecastX.reshape((forecastX.shape[0], 1, forecastX.shape[1]))\n",
    "print(trainX.shape, trainy.shape, forecastX.shape)"
   ]
  },
  {
   "cell_type": "code",
   "execution_count": 18,
   "metadata": {
    "colab": {
     "base_uri": "https://localhost:8080/"
    },
    "id": "b1Jp2DvNuNFx",
    "outputId": "d0e5b3c4-64f1-438c-eade-8dfeaac8e285"
   },
   "outputs": [
    {
     "name": "stdout",
     "output_type": "stream",
     "text": [
      "Epoch 1/500\n",
      "20/20 [==============================] - 2s 25ms/step - loss: 5398.7437 - val_loss: 3837.3374\n",
      "Epoch 2/500\n",
      "20/20 [==============================] - 0s 4ms/step - loss: 5303.3022 - val_loss: 3779.1145\n",
      "Epoch 3/500\n",
      "20/20 [==============================] - 0s 4ms/step - loss: 5234.1226 - val_loss: 3737.2307\n",
      "Epoch 4/500\n",
      "20/20 [==============================] - 0s 4ms/step - loss: 5168.1592 - val_loss: 3688.3167\n",
      "Epoch 5/500\n",
      "20/20 [==============================] - 0s 4ms/step - loss: 5105.5278 - val_loss: 3645.0964\n",
      "Epoch 6/500\n",
      "20/20 [==============================] - 0s 4ms/step - loss: 5045.1304 - val_loss: 3602.7363\n",
      "Epoch 7/500\n",
      "20/20 [==============================] - 0s 4ms/step - loss: 4984.9722 - val_loss: 3557.0122\n",
      "Epoch 8/500\n",
      "20/20 [==============================] - 0s 4ms/step - loss: 4919.6055 - val_loss: 3512.2080\n",
      "Epoch 9/500\n",
      "20/20 [==============================] - 0s 4ms/step - loss: 4857.0601 - val_loss: 3468.4419\n",
      "Epoch 10/500\n",
      "20/20 [==============================] - 0s 4ms/step - loss: 4795.9351 - val_loss: 3425.6943\n",
      "Epoch 11/500\n",
      "20/20 [==============================] - 0s 4ms/step - loss: 4735.9839 - val_loss: 3383.7463\n",
      "Epoch 12/500\n",
      "20/20 [==============================] - 0s 4ms/step - loss: 4676.9746 - val_loss: 3342.4717\n",
      "Epoch 13/500\n",
      "20/20 [==============================] - 0s 4ms/step - loss: 4618.7788 - val_loss: 3301.7947\n",
      "Epoch 14/500\n",
      "20/20 [==============================] - 0s 4ms/step - loss: 4561.3135 - val_loss: 3261.6672\n",
      "Epoch 15/500\n",
      "20/20 [==============================] - 0s 4ms/step - loss: 4504.5269 - val_loss: 3222.0562\n",
      "Epoch 16/500\n",
      "20/20 [==============================] - 0s 4ms/step - loss: 4448.3813 - val_loss: 3182.9373\n",
      "Epoch 17/500\n",
      "20/20 [==============================] - 0s 4ms/step - loss: 4392.8496 - val_loss: 3144.2913\n",
      "Epoch 18/500\n",
      "20/20 [==============================] - 0s 4ms/step - loss: 4337.9077 - val_loss: 3106.1013\n",
      "Epoch 19/500\n",
      "20/20 [==============================] - 0s 4ms/step - loss: 4283.5410 - val_loss: 3068.3506\n",
      "Epoch 20/500\n",
      "20/20 [==============================] - 0s 4ms/step - loss: 4229.2378 - val_loss: 3028.1787\n",
      "Epoch 21/500\n",
      "20/20 [==============================] - 0s 4ms/step - loss: 4169.1680 - val_loss: 2985.9792\n",
      "Epoch 22/500\n",
      "20/20 [==============================] - 0s 4ms/step - loss: 4109.7349 - val_loss: 2945.1045\n",
      "Epoch 23/500\n",
      "20/20 [==============================] - 0s 4ms/step - loss: 4052.1443 - val_loss: 2905.5063\n",
      "Epoch 24/500\n",
      "20/20 [==============================] - 0s 4ms/step - loss: 3996.0137 - val_loss: 2866.8657\n",
      "Epoch 25/500\n",
      "20/20 [==============================] - 0s 4ms/step - loss: 3941.0081 - val_loss: 2829.0017\n",
      "Epoch 26/500\n",
      "20/20 [==============================] - 0s 4ms/step - loss: 3886.9368 - val_loss: 2791.8110\n",
      "Epoch 27/500\n",
      "20/20 [==============================] - 0s 4ms/step - loss: 3833.6887 - val_loss: 2755.2275\n",
      "Epoch 28/500\n",
      "20/20 [==============================] - 0s 4ms/step - loss: 3781.1880 - val_loss: 2719.2058\n",
      "Epoch 29/500\n",
      "20/20 [==============================] - 0s 4ms/step - loss: 3729.3860 - val_loss: 2683.7139\n",
      "Epoch 30/500\n",
      "20/20 [==============================] - 0s 4ms/step - loss: 3678.2432 - val_loss: 2648.7263\n",
      "Epoch 31/500\n",
      "20/20 [==============================] - 0s 4ms/step - loss: 3627.7302 - val_loss: 2614.2236\n",
      "Epoch 32/500\n",
      "20/20 [==============================] - 0s 5ms/step - loss: 3577.8230 - val_loss: 2580.1892\n",
      "Epoch 33/500\n",
      "20/20 [==============================] - 0s 4ms/step - loss: 3528.5029 - val_loss: 2546.6094\n",
      "Epoch 34/500\n",
      "20/20 [==============================] - 0s 4ms/step - loss: 3479.7532 - val_loss: 2513.4736\n",
      "Epoch 35/500\n",
      "20/20 [==============================] - 0s 4ms/step - loss: 3431.5593 - val_loss: 2480.7705\n",
      "Epoch 36/500\n",
      "20/20 [==============================] - 0s 4ms/step - loss: 3383.9097 - val_loss: 2448.4917\n",
      "Epoch 37/500\n",
      "20/20 [==============================] - 0s 4ms/step - loss: 3336.7935 - val_loss: 2416.6296\n",
      "Epoch 38/500\n",
      "20/20 [==============================] - 0s 4ms/step - loss: 3290.2004 - val_loss: 2385.1765\n",
      "Epoch 39/500\n",
      "20/20 [==============================] - 0s 4ms/step - loss: 3244.1218 - val_loss: 2354.1260\n",
      "Epoch 40/500\n",
      "20/20 [==============================] - 0s 4ms/step - loss: 3198.5496 - val_loss: 2323.4719\n",
      "Epoch 41/500\n",
      "20/20 [==============================] - 0s 4ms/step - loss: 3153.4763 - val_loss: 2293.2085\n",
      "Epoch 42/500\n",
      "20/20 [==============================] - 0s 4ms/step - loss: 3108.8953 - val_loss: 2263.3306\n",
      "Epoch 43/500\n",
      "20/20 [==============================] - 0s 4ms/step - loss: 3064.7998 - val_loss: 2233.8333\n",
      "Epoch 44/500\n",
      "20/20 [==============================] - 0s 4ms/step - loss: 3021.1836 - val_loss: 2204.7114\n",
      "Epoch 45/500\n",
      "20/20 [==============================] - 0s 4ms/step - loss: 2978.0413 - val_loss: 2175.9612\n",
      "Epoch 46/500\n",
      "20/20 [==============================] - 0s 4ms/step - loss: 2935.3674 - val_loss: 2147.5781\n",
      "Epoch 47/500\n",
      "20/20 [==============================] - 0s 4ms/step - loss: 2893.1565 - val_loss: 2119.5583\n",
      "Epoch 48/500\n",
      "20/20 [==============================] - 0s 4ms/step - loss: 2851.4036 - val_loss: 2091.8972\n",
      "Epoch 49/500\n",
      "20/20 [==============================] - 0s 4ms/step - loss: 2810.1040 - val_loss: 2064.5923\n",
      "Epoch 50/500\n",
      "20/20 [==============================] - 0s 6ms/step - loss: 2769.2542 - val_loss: 2037.6385\n",
      "Epoch 51/500\n",
      "20/20 [==============================] - 0s 6ms/step - loss: 2728.8477 - val_loss: 2011.0333\n",
      "Epoch 52/500\n",
      "20/20 [==============================] - 0s 5ms/step - loss: 2688.8816 - val_loss: 1984.7732\n",
      "Epoch 53/500\n",
      "20/20 [==============================] - 0s 5ms/step - loss: 2649.3508 - val_loss: 1958.8549\n",
      "Epoch 54/500\n",
      "20/20 [==============================] - 0s 4ms/step - loss: 2610.2520 - val_loss: 1933.2760\n",
      "Epoch 55/500\n",
      "20/20 [==============================] - 0s 4ms/step - loss: 2571.5815 - val_loss: 1908.0375\n",
      "Epoch 56/500\n",
      "20/20 [==============================] - 0s 4ms/step - loss: 2527.3860 - val_loss: 1880.7568\n",
      "Epoch 57/500\n",
      "20/20 [==============================] - 0s 4ms/step - loss: 2480.6401 - val_loss: 1854.8654\n",
      "Epoch 58/500\n",
      "20/20 [==============================] - 0s 4ms/step - loss: 2436.8872 - val_loss: 1829.6578\n",
      "Epoch 59/500\n",
      "20/20 [==============================] - 0s 4ms/step - loss: 2394.8828 - val_loss: 1805.0118\n",
      "Epoch 60/500\n",
      "20/20 [==============================] - 0s 4ms/step - loss: 2354.1533 - val_loss: 1780.8488\n",
      "Epoch 61/500\n",
      "20/20 [==============================] - 0s 4ms/step - loss: 2314.4211 - val_loss: 1757.1222\n",
      "Epoch 62/500\n",
      "20/20 [==============================] - 0s 5ms/step - loss: 2275.5283 - val_loss: 1733.8041\n",
      "Epoch 63/500\n",
      "20/20 [==============================] - 0s 5ms/step - loss: 2237.3752 - val_loss: 1710.8738\n",
      "Epoch 64/500\n",
      "20/20 [==============================] - 0s 5ms/step - loss: 2199.8950 - val_loss: 1688.3173\n",
      "Epoch 65/500\n",
      "20/20 [==============================] - 0s 5ms/step - loss: 2163.0381 - val_loss: 1666.1216\n",
      "Epoch 66/500\n",
      "20/20 [==============================] - 0s 5ms/step - loss: 2126.7693 - val_loss: 1644.2781\n",
      "Epoch 67/500\n",
      "20/20 [==============================] - 0s 5ms/step - loss: 2091.0596 - val_loss: 1622.7788\n",
      "Epoch 68/500\n",
      "20/20 [==============================] - 0s 5ms/step - loss: 2055.8845 - val_loss: 1601.6157\n",
      "Epoch 69/500\n",
      "20/20 [==============================] - 0s 4ms/step - loss: 2021.2249 - val_loss: 1580.7833\n",
      "Epoch 70/500\n",
      "20/20 [==============================] - 0s 4ms/step - loss: 1987.0651 - val_loss: 1560.2758\n",
      "Epoch 71/500\n",
      "20/20 [==============================] - 0s 4ms/step - loss: 1953.3907 - val_loss: 1540.0881\n",
      "Epoch 72/500\n",
      "20/20 [==============================] - 0s 4ms/step - loss: 1920.1884 - val_loss: 1520.2148\n",
      "Epoch 73/500\n",
      "20/20 [==============================] - 0s 4ms/step - loss: 1887.4480 - val_loss: 1500.6525\n",
      "Epoch 74/500\n",
      "20/20 [==============================] - 0s 4ms/step - loss: 1855.1594 - val_loss: 1481.3962\n",
      "Epoch 75/500\n",
      "20/20 [==============================] - 0s 4ms/step - loss: 1823.3134 - val_loss: 1462.4424\n",
      "Epoch 76/500\n",
      "20/20 [==============================] - 0s 4ms/step - loss: 1791.9026 - val_loss: 1443.7870\n",
      "Epoch 77/500\n",
      "20/20 [==============================] - 0s 4ms/step - loss: 1760.9180 - val_loss: 1425.4265\n",
      "Epoch 78/500\n",
      "20/20 [==============================] - 0s 8ms/step - loss: 1730.3528 - val_loss: 1407.3573\n",
      "Epoch 79/500\n",
      "20/20 [==============================] - 0s 4ms/step - loss: 1700.2017 - val_loss: 1389.5767\n",
      "Epoch 80/500\n",
      "20/20 [==============================] - 0s 4ms/step - loss: 1670.4578 - val_loss: 1372.0808\n",
      "Epoch 81/500\n",
      "20/20 [==============================] - 0s 4ms/step - loss: 1641.1157 - val_loss: 1354.8669\n",
      "Epoch 82/500\n",
      "20/20 [==============================] - 0s 5ms/step - loss: 1612.1694 - val_loss: 1337.9314\n",
      "Epoch 83/500\n",
      "20/20 [==============================] - 0s 5ms/step - loss: 1583.6135 - val_loss: 1321.2723\n",
      "Epoch 84/500\n",
      "20/20 [==============================] - 0s 5ms/step - loss: 1555.4436 - val_loss: 1304.8861\n",
      "Epoch 85/500\n",
      "20/20 [==============================] - 0s 5ms/step - loss: 1527.6550 - val_loss: 1288.7700\n",
      "Epoch 86/500\n",
      "20/20 [==============================] - 0s 6ms/step - loss: 1500.2423 - val_loss: 1272.9210\n",
      "Epoch 87/500\n",
      "20/20 [==============================] - 0s 8ms/step - loss: 1473.2021 - val_loss: 1257.3376\n",
      "Epoch 88/500\n",
      "20/20 [==============================] - 0s 8ms/step - loss: 1446.5297 - val_loss: 1242.0164\n",
      "Epoch 89/500\n",
      "20/20 [==============================] - 0s 8ms/step - loss: 1420.2208 - val_loss: 1226.9552\n",
      "Epoch 90/500\n",
      "20/20 [==============================] - 0s 8ms/step - loss: 1394.2717 - val_loss: 1212.1517\n",
      "Epoch 91/500\n",
      "20/20 [==============================] - 0s 8ms/step - loss: 1368.6776 - val_loss: 1197.6047\n",
      "Epoch 92/500\n",
      "20/20 [==============================] - 0s 8ms/step - loss: 1343.4365 - val_loss: 1183.3154\n",
      "Epoch 93/500\n",
      "20/20 [==============================] - 0s 8ms/step - loss: 1318.5431 - val_loss: 1169.2986\n",
      "Epoch 94/500\n",
      "20/20 [==============================] - 0s 8ms/step - loss: 1292.3490 - val_loss: 1151.4746\n",
      "Epoch 95/500\n",
      "20/20 [==============================] - 0s 7ms/step - loss: 1260.9089 - val_loss: 1134.1943\n",
      "Epoch 96/500\n",
      "20/20 [==============================] - 0s 7ms/step - loss: 1231.5687 - val_loss: 1118.0536\n",
      "Epoch 97/500\n",
      "20/20 [==============================] - 0s 7ms/step - loss: 1203.8352 - val_loss: 1102.7916\n",
      "Epoch 98/500\n",
      "20/20 [==============================] - 0s 7ms/step - loss: 1177.2704 - val_loss: 1088.1826\n",
      "Epoch 99/500\n",
      "20/20 [==============================] - 0s 7ms/step - loss: 1151.5925 - val_loss: 1074.1011\n",
      "Epoch 100/500\n",
      "20/20 [==============================] - 0s 7ms/step - loss: 1126.6432 - val_loss: 1060.4740\n",
      "Epoch 101/500\n",
      "20/20 [==============================] - 0s 7ms/step - loss: 1102.3268 - val_loss: 1047.2540\n",
      "Epoch 102/500\n",
      "20/20 [==============================] - 0s 6ms/step - loss: 1078.5795 - val_loss: 1034.4076\n",
      "Epoch 103/500\n",
      "20/20 [==============================] - 0s 7ms/step - loss: 1055.3555 - val_loss: 1021.9100\n",
      "Epoch 104/500\n",
      "20/20 [==============================] - 0s 7ms/step - loss: 1032.6205 - val_loss: 1009.7421\n",
      "Epoch 105/500\n",
      "20/20 [==============================] - 0s 7ms/step - loss: 1010.3480 - val_loss: 997.8887\n",
      "Epoch 106/500\n",
      "20/20 [==============================] - 0s 14ms/step - loss: 988.5164 - val_loss: 986.3364\n",
      "Epoch 107/500\n",
      "20/20 [==============================] - 0s 8ms/step - loss: 967.1075 - val_loss: 975.0747\n",
      "Epoch 108/500\n",
      "20/20 [==============================] - 0s 7ms/step - loss: 946.1060 - val_loss: 964.0944\n",
      "Epoch 109/500\n",
      "20/20 [==============================] - 0s 6ms/step - loss: 925.4989 - val_loss: 953.3864\n",
      "Epoch 110/500\n",
      "20/20 [==============================] - 0s 6ms/step - loss: 905.2745 - val_loss: 942.9442\n",
      "Epoch 111/500\n",
      "20/20 [==============================] - 0s 6ms/step - loss: 885.4229 - val_loss: 932.7610\n",
      "Epoch 112/500\n",
      "20/20 [==============================] - 0s 7ms/step - loss: 865.9341 - val_loss: 922.8300\n",
      "Epoch 113/500\n",
      "20/20 [==============================] - 0s 7ms/step - loss: 846.8004 - val_loss: 913.1458\n",
      "Epoch 114/500\n",
      "20/20 [==============================] - 0s 8ms/step - loss: 828.0134 - val_loss: 903.7036\n",
      "Epoch 115/500\n",
      "20/20 [==============================] - 0s 7ms/step - loss: 809.5662 - val_loss: 894.4983\n",
      "Epoch 116/500\n",
      "20/20 [==============================] - 0s 7ms/step - loss: 791.4523 - val_loss: 885.5249\n",
      "Epoch 117/500\n",
      "20/20 [==============================] - 0s 7ms/step - loss: 773.6651 - val_loss: 876.7792\n",
      "Epoch 118/500\n",
      "20/20 [==============================] - 0s 7ms/step - loss: 756.1990 - val_loss: 868.2574\n",
      "Epoch 119/500\n",
      "20/20 [==============================] - 0s 7ms/step - loss: 739.0484 - val_loss: 859.9551\n",
      "Epoch 120/500\n",
      "20/20 [==============================] - 0s 6ms/step - loss: 722.2078 - val_loss: 851.8685\n",
      "Epoch 121/500\n",
      "20/20 [==============================] - 0s 6ms/step - loss: 705.6723 - val_loss: 843.9941\n",
      "Epoch 122/500\n",
      "20/20 [==============================] - 0s 6ms/step - loss: 689.4368 - val_loss: 836.3284\n",
      "Epoch 123/500\n",
      "20/20 [==============================] - 0s 6ms/step - loss: 673.4972 - val_loss: 828.8677\n",
      "Epoch 124/500\n",
      "20/20 [==============================] - 0s 5ms/step - loss: 657.8486 - val_loss: 821.6087\n",
      "Epoch 125/500\n",
      "20/20 [==============================] - 0s 5ms/step - loss: 642.4867 - val_loss: 814.5481\n",
      "Epoch 126/500\n",
      "20/20 [==============================] - 0s 5ms/step - loss: 627.4075 - val_loss: 807.6829\n",
      "Epoch 127/500\n",
      "20/20 [==============================] - 0s 5ms/step - loss: 612.6066 - val_loss: 801.0100\n",
      "Epoch 128/500\n",
      "20/20 [==============================] - 0s 5ms/step - loss: 598.0803 - val_loss: 794.5265\n",
      "Epoch 129/500\n",
      "20/20 [==============================] - 0s 5ms/step - loss: 583.8248 - val_loss: 788.2289\n",
      "Epoch 130/500\n",
      "20/20 [==============================] - 0s 8ms/step - loss: 569.8361 - val_loss: 782.1145\n",
      "Epoch 131/500\n",
      "20/20 [==============================] - 0s 6ms/step - loss: 556.1105 - val_loss: 776.1809\n",
      "Epoch 132/500\n",
      "20/20 [==============================] - 0s 5ms/step - loss: 542.6445 - val_loss: 770.4244\n",
      "Epoch 133/500\n",
      "20/20 [==============================] - 0s 5ms/step - loss: 529.4344 - val_loss: 764.8430\n",
      "Epoch 134/500\n",
      "20/20 [==============================] - 0s 5ms/step - loss: 516.4773 - val_loss: 759.4337\n",
      "Epoch 135/500\n",
      "20/20 [==============================] - 0s 5ms/step - loss: 503.7691 - val_loss: 754.1937\n",
      "Epoch 136/500\n",
      "20/20 [==============================] - 0s 5ms/step - loss: 491.3069 - val_loss: 749.1204\n",
      "Epoch 137/500\n",
      "20/20 [==============================] - 0s 5ms/step - loss: 479.0869 - val_loss: 744.2111\n",
      "Epoch 138/500\n",
      "20/20 [==============================] - 0s 5ms/step - loss: 467.1064 - val_loss: 739.4632\n",
      "Epoch 139/500\n",
      "20/20 [==============================] - 0s 5ms/step - loss: 455.3619 - val_loss: 734.8741\n",
      "Epoch 140/500\n",
      "20/20 [==============================] - 0s 5ms/step - loss: 443.8502 - val_loss: 730.4414\n",
      "Epoch 141/500\n",
      "20/20 [==============================] - 0s 6ms/step - loss: 432.5686 - val_loss: 726.1624\n",
      "Epoch 142/500\n",
      "20/20 [==============================] - 0s 6ms/step - loss: 421.5134 - val_loss: 722.0348\n",
      "Epoch 143/500\n",
      "20/20 [==============================] - 0s 6ms/step - loss: 410.6822 - val_loss: 718.0560\n",
      "Epoch 144/500\n",
      "20/20 [==============================] - 0s 5ms/step - loss: 400.0717 - val_loss: 714.2234\n",
      "Epoch 145/500\n",
      "20/20 [==============================] - 0s 5ms/step - loss: 389.6787 - val_loss: 710.5349\n",
      "Epoch 146/500\n",
      "20/20 [==============================] - 0s 5ms/step - loss: 379.5006 - val_loss: 706.9876\n",
      "Epoch 147/500\n",
      "20/20 [==============================] - 0s 5ms/step - loss: 369.5342 - val_loss: 703.5795\n",
      "Epoch 148/500\n",
      "20/20 [==============================] - 0s 5ms/step - loss: 359.7769 - val_loss: 700.3080\n",
      "Epoch 149/500\n",
      "20/20 [==============================] - 0s 5ms/step - loss: 350.2256 - val_loss: 697.1708\n",
      "Epoch 150/500\n",
      "20/20 [==============================] - 0s 5ms/step - loss: 340.8774 - val_loss: 694.1653\n",
      "Epoch 151/500\n",
      "20/20 [==============================] - 0s 6ms/step - loss: 331.7296 - val_loss: 691.2896\n",
      "Epoch 152/500\n",
      "20/20 [==============================] - 0s 6ms/step - loss: 322.7798 - val_loss: 688.5413\n",
      "Epoch 153/500\n",
      "20/20 [==============================] - 0s 14ms/step - loss: 314.0246 - val_loss: 685.9175\n",
      "Epoch 154/500\n",
      "20/20 [==============================] - 0s 8ms/step - loss: 305.4615 - val_loss: 683.4164\n",
      "Epoch 155/500\n",
      "20/20 [==============================] - 0s 8ms/step - loss: 297.0877 - val_loss: 681.0358\n",
      "Epoch 156/500\n",
      "20/20 [==============================] - 0s 8ms/step - loss: 288.9007 - val_loss: 678.7731\n",
      "Epoch 157/500\n",
      "20/20 [==============================] - 0s 6ms/step - loss: 280.8973 - val_loss: 676.6261\n",
      "Epoch 158/500\n",
      "20/20 [==============================] - 0s 6ms/step - loss: 273.0754 - val_loss: 674.5928\n",
      "Epoch 159/500\n",
      "20/20 [==============================] - 0s 5ms/step - loss: 265.4324 - val_loss: 672.6708\n",
      "Epoch 160/500\n",
      "20/20 [==============================] - 0s 5ms/step - loss: 257.9649 - val_loss: 670.8575\n",
      "Epoch 161/500\n",
      "20/20 [==============================] - 0s 5ms/step - loss: 250.6708 - val_loss: 669.1512\n",
      "Epoch 162/500\n",
      "20/20 [==============================] - 0s 5ms/step - loss: 243.5475 - val_loss: 667.5498\n",
      "Epoch 163/500\n",
      "20/20 [==============================] - 0s 5ms/step - loss: 236.5926 - val_loss: 666.0505\n",
      "Epoch 164/500\n",
      "20/20 [==============================] - 0s 5ms/step - loss: 229.8031 - val_loss: 664.6516\n",
      "Epoch 165/500\n",
      "20/20 [==============================] - 0s 5ms/step - loss: 223.1768 - val_loss: 663.3507\n",
      "Epoch 166/500\n",
      "20/20 [==============================] - 0s 5ms/step - loss: 216.7108 - val_loss: 662.1457\n",
      "Epoch 167/500\n",
      "20/20 [==============================] - 0s 5ms/step - loss: 210.4027 - val_loss: 661.0345\n",
      "Epoch 168/500\n",
      "20/20 [==============================] - 0s 5ms/step - loss: 204.2501 - val_loss: 660.0148\n",
      "Epoch 169/500\n",
      "20/20 [==============================] - 0s 5ms/step - loss: 198.2505 - val_loss: 659.0848\n",
      "Epoch 170/500\n",
      "20/20 [==============================] - 0s 4ms/step - loss: 192.4013 - val_loss: 658.2421\n",
      "Epoch 171/500\n",
      "20/20 [==============================] - 0s 5ms/step - loss: 186.6999 - val_loss: 657.4846\n",
      "Epoch 172/500\n",
      "20/20 [==============================] - 0s 5ms/step - loss: 181.1441 - val_loss: 656.8103\n",
      "Epoch 173/500\n",
      "20/20 [==============================] - 0s 6ms/step - loss: 175.7315 - val_loss: 656.2172\n",
      "Epoch 174/500\n",
      "20/20 [==============================] - 0s 7ms/step - loss: 170.4594 - val_loss: 655.7031\n",
      "Epoch 175/500\n",
      "20/20 [==============================] - 0s 5ms/step - loss: 165.3253 - val_loss: 655.2661\n",
      "Epoch 176/500\n",
      "20/20 [==============================] - 0s 5ms/step - loss: 160.3273 - val_loss: 654.9039\n",
      "Epoch 177/500\n",
      "20/20 [==============================] - 0s 5ms/step - loss: 155.4626 - val_loss: 654.6146\n",
      "Epoch 178/500\n",
      "20/20 [==============================] - 0s 5ms/step - loss: 150.7290 - val_loss: 654.3963\n",
      "Epoch 179/500\n",
      "20/20 [==============================] - 0s 5ms/step - loss: 146.1241 - val_loss: 654.2469\n",
      "Epoch 180/500\n",
      "20/20 [==============================] - 0s 5ms/step - loss: 141.6455 - val_loss: 654.1644\n",
      "Epoch 181/500\n",
      "20/20 [==============================] - 0s 5ms/step - loss: 137.2908 - val_loss: 654.1469\n",
      "Epoch 182/500\n",
      "20/20 [==============================] - 0s 5ms/step - loss: 133.0580 - val_loss: 654.1924\n",
      "Epoch 183/500\n",
      "20/20 [==============================] - 0s 5ms/step - loss: 128.9447 - val_loss: 654.2990\n",
      "Epoch 184/500\n",
      "20/20 [==============================] - 0s 5ms/step - loss: 124.9484 - val_loss: 654.4646\n",
      "Epoch 185/500\n",
      "20/20 [==============================] - 0s 5ms/step - loss: 121.0671 - val_loss: 654.6876\n",
      "Epoch 186/500\n",
      "20/20 [==============================] - 0s 5ms/step - loss: 117.2986 - val_loss: 654.9658\n",
      "Epoch 187/500\n",
      "20/20 [==============================] - 0s 5ms/step - loss: 113.6403 - val_loss: 655.2975\n",
      "Epoch 188/500\n",
      "20/20 [==============================] - 0s 5ms/step - loss: 110.0903 - val_loss: 655.6807\n",
      "Epoch 189/500\n",
      "20/20 [==============================] - 0s 5ms/step - loss: 106.6462 - val_loss: 656.1138\n",
      "Epoch 190/500\n",
      "20/20 [==============================] - 0s 5ms/step - loss: 103.3062 - val_loss: 656.5948\n",
      "Epoch 191/500\n",
      "20/20 [==============================] - 0s 5ms/step - loss: 100.0676 - val_loss: 657.1218\n",
      "Epoch 192/500\n",
      "20/20 [==============================] - 0s 5ms/step - loss: 96.9286 - val_loss: 657.6931\n",
      "Epoch 193/500\n",
      "20/20 [==============================] - 0s 5ms/step - loss: 93.8870 - val_loss: 658.3069\n",
      "Epoch 194/500\n",
      "20/20 [==============================] - 0s 5ms/step - loss: 90.9409 - val_loss: 658.9617\n",
      "Epoch 195/500\n",
      "20/20 [==============================] - 0s 5ms/step - loss: 88.0880 - val_loss: 659.6554\n",
      "Epoch 196/500\n",
      "20/20 [==============================] - 0s 10ms/step - loss: 85.3261 - val_loss: 660.3865\n",
      "Epoch 197/500\n",
      "20/20 [==============================] - 0s 5ms/step - loss: 82.6533 - val_loss: 661.1532\n",
      "Epoch 198/500\n",
      "20/20 [==============================] - 0s 5ms/step - loss: 80.0675 - val_loss: 661.9539\n",
      "Epoch 199/500\n",
      "20/20 [==============================] - 0s 5ms/step - loss: 77.5668 - val_loss: 662.7869\n",
      "Epoch 200/500\n",
      "20/20 [==============================] - 0s 5ms/step - loss: 75.1492 - val_loss: 663.6506\n",
      "Epoch 201/500\n",
      "20/20 [==============================] - 0s 5ms/step - loss: 72.8127 - val_loss: 664.5433\n",
      "Epoch 202/500\n",
      "20/20 [==============================] - 0s 5ms/step - loss: 70.5554 - val_loss: 665.4635\n",
      "Epoch 203/500\n",
      "20/20 [==============================] - 0s 5ms/step - loss: 68.3753 - val_loss: 666.4099\n",
      "Epoch 204/500\n",
      "20/20 [==============================] - 0s 5ms/step - loss: 66.2703 - val_loss: 667.3803\n",
      "Epoch 205/500\n",
      "20/20 [==============================] - 0s 5ms/step - loss: 64.2390 - val_loss: 668.3738\n",
      "Epoch 206/500\n",
      "20/20 [==============================] - 0s 5ms/step - loss: 62.2791 - val_loss: 669.3886\n",
      "Epoch 207/500\n",
      "20/20 [==============================] - 0s 5ms/step - loss: 60.3891 - val_loss: 670.4235\n",
      "Epoch 208/500\n",
      "20/20 [==============================] - 0s 5ms/step - loss: 58.5668 - val_loss: 671.4768\n",
      "Epoch 209/500\n",
      "20/20 [==============================] - 0s 5ms/step - loss: 56.8108 - val_loss: 672.5471\n",
      "Epoch 210/500\n",
      "20/20 [==============================] - 0s 5ms/step - loss: 55.1191 - val_loss: 673.6332\n",
      "Epoch 211/500\n",
      "20/20 [==============================] - 0s 4ms/step - loss: 53.4900 - val_loss: 674.7335\n",
      "Epoch 212/500\n",
      "20/20 [==============================] - 0s 5ms/step - loss: 51.9219 - val_loss: 675.8468\n",
      "Epoch 213/500\n",
      "20/20 [==============================] - 0s 6ms/step - loss: 50.4130 - val_loss: 676.9717\n",
      "Epoch 214/500\n",
      "20/20 [==============================] - 0s 7ms/step - loss: 48.9615 - val_loss: 678.1070\n",
      "Epoch 215/500\n",
      "20/20 [==============================] - 0s 5ms/step - loss: 47.5660 - val_loss: 679.2516\n",
      "Epoch 216/500\n",
      "20/20 [==============================] - 0s 10ms/step - loss: 46.2247 - val_loss: 680.4040\n",
      "Epoch 217/500\n",
      "20/20 [==============================] - 0s 5ms/step - loss: 44.9361 - val_loss: 681.5632\n",
      "Epoch 218/500\n",
      "20/20 [==============================] - 0s 5ms/step - loss: 43.6987 - val_loss: 682.7278\n",
      "Epoch 219/500\n",
      "20/20 [==============================] - 0s 5ms/step - loss: 42.5107 - val_loss: 683.8970\n",
      "Epoch 220/500\n",
      "20/20 [==============================] - 0s 5ms/step - loss: 41.3707 - val_loss: 685.0693\n",
      "Epoch 221/500\n",
      "20/20 [==============================] - 0s 5ms/step - loss: 40.2773 - val_loss: 686.2440\n",
      "Epoch 222/500\n",
      "20/20 [==============================] - 0s 5ms/step - loss: 39.2290 - val_loss: 687.4197\n",
      "Epoch 223/500\n",
      "20/20 [==============================] - 0s 5ms/step - loss: 38.2245 - val_loss: 688.5955\n",
      "Epoch 224/500\n",
      "20/20 [==============================] - 0s 5ms/step - loss: 37.2623 - val_loss: 689.7704\n",
      "Epoch 225/500\n",
      "20/20 [==============================] - 0s 5ms/step - loss: 36.3408 - val_loss: 690.9437\n",
      "Epoch 226/500\n",
      "20/20 [==============================] - 0s 5ms/step - loss: 35.4589 - val_loss: 692.1141\n",
      "Epoch 227/500\n",
      "20/20 [==============================] - 0s 5ms/step - loss: 34.6150 - val_loss: 693.2809\n",
      "Epoch 228/500\n",
      "20/20 [==============================] - 0s 5ms/step - loss: 33.8082 - val_loss: 694.4432\n",
      "Epoch 229/500\n",
      "20/20 [==============================] - 0s 5ms/step - loss: 33.0369 - val_loss: 695.6001\n",
      "Epoch 230/500\n",
      "20/20 [==============================] - 0s 5ms/step - loss: 32.3000 - val_loss: 696.7509\n",
      "Epoch 231/500\n",
      "20/20 [==============================] - 0s 5ms/step - loss: 31.5963 - val_loss: 697.8945\n",
      "Epoch 232/500\n",
      "20/20 [==============================] - 0s 5ms/step - loss: 30.9245 - val_loss: 699.0305\n",
      "Epoch 233/500\n",
      "20/20 [==============================] - 0s 5ms/step - loss: 30.2835 - val_loss: 700.1583\n",
      "Epoch 234/500\n",
      "20/20 [==============================] - 0s 5ms/step - loss: 29.6722 - val_loss: 701.2767\n",
      "Epoch 235/500\n",
      "20/20 [==============================] - 0s 5ms/step - loss: 29.0895 - val_loss: 702.3856\n",
      "Epoch 236/500\n",
      "20/20 [==============================] - 0s 9ms/step - loss: 28.5342 - val_loss: 703.4839\n",
      "Epoch 237/500\n",
      "20/20 [==============================] - 0s 5ms/step - loss: 28.0054 - val_loss: 704.5713\n",
      "Epoch 238/500\n",
      "20/20 [==============================] - 0s 6ms/step - loss: 27.5020 - val_loss: 705.6471\n",
      "Epoch 239/500\n",
      "20/20 [==============================] - 0s 5ms/step - loss: 27.0230 - val_loss: 706.7108\n",
      "Epoch 240/500\n",
      "20/20 [==============================] - 0s 5ms/step - loss: 26.5674 - val_loss: 707.7617\n",
      "Epoch 241/500\n",
      "20/20 [==============================] - 0s 5ms/step - loss: 26.1344 - val_loss: 708.7999\n",
      "Epoch 242/500\n",
      "20/20 [==============================] - 0s 5ms/step - loss: 25.7229 - val_loss: 709.8243\n",
      "Epoch 243/500\n",
      "20/20 [==============================] - 0s 5ms/step - loss: 25.3321 - val_loss: 710.8348\n",
      "Epoch 244/500\n",
      "20/20 [==============================] - 0s 5ms/step - loss: 24.9611 - val_loss: 711.8310\n",
      "Epoch 245/500\n",
      "20/20 [==============================] - 0s 5ms/step - loss: 24.6091 - val_loss: 712.8124\n",
      "Epoch 246/500\n",
      "20/20 [==============================] - 0s 5ms/step - loss: 24.2752 - val_loss: 713.7787\n",
      "Epoch 247/500\n",
      "20/20 [==============================] - 0s 5ms/step - loss: 23.9587 - val_loss: 714.7297\n",
      "Epoch 248/500\n",
      "20/20 [==============================] - 0s 5ms/step - loss: 23.6589 - val_loss: 715.6650\n",
      "Epoch 249/500\n",
      "20/20 [==============================] - 0s 5ms/step - loss: 23.3750 - val_loss: 716.5844\n",
      "Epoch 250/500\n",
      "20/20 [==============================] - 0s 5ms/step - loss: 23.1062 - val_loss: 717.4877\n",
      "Epoch 251/500\n",
      "20/20 [==============================] - 0s 5ms/step - loss: 22.8518 - val_loss: 718.3746\n",
      "Epoch 252/500\n",
      "20/20 [==============================] - 0s 5ms/step - loss: 22.6113 - val_loss: 719.2451\n",
      "Epoch 253/500\n",
      "20/20 [==============================] - 0s 5ms/step - loss: 22.3840 - val_loss: 720.0987\n",
      "Epoch 254/500\n",
      "20/20 [==============================] - 0s 5ms/step - loss: 22.1692 - val_loss: 720.9356\n",
      "Epoch 255/500\n",
      "20/20 [==============================] - 0s 5ms/step - loss: 21.9663 - val_loss: 721.7556\n",
      "Epoch 256/500\n",
      "20/20 [==============================] - 0s 5ms/step - loss: 21.7747 - val_loss: 722.5586\n",
      "Epoch 257/500\n",
      "20/20 [==============================] - 0s 5ms/step - loss: 21.5941 - val_loss: 723.3444\n",
      "Epoch 258/500\n",
      "20/20 [==============================] - 0s 5ms/step - loss: 21.4236 - val_loss: 724.1132\n",
      "Epoch 259/500\n",
      "20/20 [==============================] - 0s 5ms/step - loss: 21.2630 - val_loss: 724.8646\n",
      "Epoch 260/500\n",
      "20/20 [==============================] - 0s 5ms/step - loss: 21.1117 - val_loss: 725.5990\n",
      "Epoch 261/500\n",
      "20/20 [==============================] - 0s 10ms/step - loss: 20.9691 - val_loss: 726.3161\n",
      "Epoch 262/500\n",
      "20/20 [==============================] - 0s 6ms/step - loss: 20.8350 - val_loss: 727.0161\n",
      "Epoch 263/500\n",
      "20/20 [==============================] - 0s 5ms/step - loss: 20.7087 - val_loss: 727.6993\n",
      "Epoch 264/500\n",
      "20/20 [==============================] - 0s 5ms/step - loss: 20.5899 - val_loss: 728.3654\n",
      "Epoch 265/500\n",
      "20/20 [==============================] - 0s 5ms/step - loss: 20.4782 - val_loss: 729.0145\n",
      "Epoch 266/500\n",
      "20/20 [==============================] - 0s 5ms/step - loss: 20.3733 - val_loss: 729.6470\n",
      "Epoch 267/500\n",
      "20/20 [==============================] - 0s 5ms/step - loss: 20.2747 - val_loss: 730.2625\n",
      "Epoch 268/500\n",
      "20/20 [==============================] - 0s 5ms/step - loss: 20.1821 - val_loss: 730.8616\n",
      "Epoch 269/500\n",
      "20/20 [==============================] - 0s 5ms/step - loss: 20.0952 - val_loss: 731.4443\n",
      "Epoch 270/500\n",
      "20/20 [==============================] - 0s 5ms/step - loss: 20.0136 - val_loss: 732.0109\n",
      "Epoch 271/500\n",
      "20/20 [==============================] - 0s 5ms/step - loss: 19.9371 - val_loss: 732.5613\n",
      "Epoch 272/500\n",
      "20/20 [==============================] - 0s 4ms/step - loss: 19.8654 - val_loss: 733.0958\n",
      "Epoch 273/500\n",
      "20/20 [==============================] - 0s 5ms/step - loss: 19.7981 - val_loss: 733.6143\n",
      "Epoch 274/500\n",
      "20/20 [==============================] - 0s 5ms/step - loss: 19.7352 - val_loss: 734.1177\n",
      "Epoch 275/500\n",
      "20/20 [==============================] - 0s 5ms/step - loss: 19.6761 - val_loss: 734.6055\n",
      "Epoch 276/500\n",
      "20/20 [==============================] - 0s 5ms/step - loss: 19.6209 - val_loss: 735.0784\n",
      "Epoch 277/500\n",
      "20/20 [==============================] - 0s 5ms/step - loss: 19.5693 - val_loss: 735.5365\n",
      "Epoch 278/500\n",
      "20/20 [==============================] - 0s 5ms/step - loss: 19.5209 - val_loss: 735.9799\n",
      "Epoch 279/500\n",
      "20/20 [==============================] - 0s 5ms/step - loss: 19.4756 - val_loss: 736.4089\n",
      "Epoch 280/500\n",
      "20/20 [==============================] - 0s 5ms/step - loss: 19.4333 - val_loss: 736.8239\n",
      "Epoch 281/500\n",
      "20/20 [==============================] - 0s 5ms/step - loss: 19.3938 - val_loss: 737.2252\n",
      "Epoch 282/500\n",
      "20/20 [==============================] - 0s 5ms/step - loss: 19.3568 - val_loss: 737.6127\n",
      "Epoch 283/500\n",
      "20/20 [==============================] - 0s 5ms/step - loss: 19.3222 - val_loss: 737.9869\n",
      "Epoch 284/500\n",
      "20/20 [==============================] - 0s 9ms/step - loss: 19.2899 - val_loss: 738.3483\n",
      "Epoch 285/500\n",
      "20/20 [==============================] - 0s 5ms/step - loss: 19.2598 - val_loss: 738.6967\n",
      "Epoch 286/500\n",
      "20/20 [==============================] - 0s 5ms/step - loss: 19.2316 - val_loss: 739.0327\n",
      "Epoch 287/500\n",
      "20/20 [==============================] - 0s 5ms/step - loss: 19.2054 - val_loss: 739.3565\n",
      "Epoch 288/500\n",
      "20/20 [==============================] - 0s 5ms/step - loss: 19.1808 - val_loss: 739.6683\n",
      "Epoch 289/500\n",
      "20/20 [==============================] - 0s 5ms/step - loss: 19.1580 - val_loss: 739.9687\n",
      "Epoch 290/500\n",
      "20/20 [==============================] - 0s 5ms/step - loss: 19.1366 - val_loss: 740.2574\n",
      "Epoch 291/500\n",
      "20/20 [==============================] - 0s 5ms/step - loss: 19.1167 - val_loss: 740.5354\n",
      "Epoch 292/500\n",
      "20/20 [==============================] - 0s 5ms/step - loss: 19.0981 - val_loss: 740.8026\n",
      "Epoch 293/500\n",
      "20/20 [==============================] - 0s 5ms/step - loss: 19.0807 - val_loss: 741.0591\n",
      "Epoch 294/500\n",
      "20/20 [==============================] - 0s 5ms/step - loss: 19.0646 - val_loss: 741.3054\n",
      "Epoch 295/500\n",
      "20/20 [==============================] - 0s 5ms/step - loss: 19.0496 - val_loss: 741.5419\n",
      "Epoch 296/500\n",
      "20/20 [==============================] - 0s 5ms/step - loss: 19.0355 - val_loss: 741.7687\n",
      "Epoch 297/500\n",
      "20/20 [==============================] - 0s 5ms/step - loss: 19.0224 - val_loss: 741.9866\n",
      "Epoch 298/500\n",
      "20/20 [==============================] - 0s 5ms/step - loss: 19.0102 - val_loss: 742.1948\n",
      "Epoch 299/500\n",
      "20/20 [==============================] - 0s 5ms/step - loss: 18.9989 - val_loss: 742.3945\n",
      "Epoch 300/500\n",
      "20/20 [==============================] - 0s 5ms/step - loss: 18.9883 - val_loss: 742.5857\n",
      "Epoch 301/500\n",
      "20/20 [==============================] - 0s 5ms/step - loss: 18.9785 - val_loss: 742.7686\n",
      "Epoch 302/500\n",
      "20/20 [==============================] - 0s 5ms/step - loss: 18.9693 - val_loss: 742.9436\n",
      "Epoch 303/500\n",
      "20/20 [==============================] - 0s 5ms/step - loss: 18.9607 - val_loss: 743.1106\n",
      "Epoch 304/500\n",
      "20/20 [==============================] - 0s 5ms/step - loss: 18.9528 - val_loss: 743.2704\n",
      "Epoch 305/500\n",
      "20/20 [==============================] - 0s 5ms/step - loss: 18.9454 - val_loss: 743.4229\n",
      "Epoch 306/500\n",
      "20/20 [==============================] - 0s 7ms/step - loss: 18.9385 - val_loss: 743.5685\n",
      "Epoch 307/500\n",
      "20/20 [==============================] - 0s 7ms/step - loss: 18.9321 - val_loss: 743.7073\n",
      "Epoch 308/500\n",
      "20/20 [==============================] - 0s 5ms/step - loss: 18.9261 - val_loss: 743.8395\n",
      "Epoch 309/500\n",
      "20/20 [==============================] - 0s 5ms/step - loss: 18.9206 - val_loss: 743.9654\n",
      "Epoch 310/500\n",
      "20/20 [==============================] - 0s 5ms/step - loss: 18.9154 - val_loss: 744.0853\n",
      "Epoch 311/500\n",
      "20/20 [==============================] - 0s 5ms/step - loss: 18.9107 - val_loss: 744.1997\n",
      "Epoch 312/500\n",
      "20/20 [==============================] - 0s 5ms/step - loss: 18.9062 - val_loss: 744.3083\n",
      "Epoch 313/500\n",
      "20/20 [==============================] - 0s 5ms/step - loss: 18.9021 - val_loss: 744.4117\n",
      "Epoch 314/500\n",
      "20/20 [==============================] - 0s 5ms/step - loss: 18.8983 - val_loss: 744.5097\n",
      "Epoch 315/500\n",
      "20/20 [==============================] - 0s 5ms/step - loss: 18.8947 - val_loss: 744.6027\n",
      "Epoch 316/500\n",
      "20/20 [==============================] - 0s 5ms/step - loss: 18.8915 - val_loss: 744.6911\n",
      "Epoch 317/500\n",
      "20/20 [==============================] - 0s 5ms/step - loss: 18.8884 - val_loss: 744.7748\n",
      "Epoch 318/500\n",
      "20/20 [==============================] - 0s 5ms/step - loss: 18.8857 - val_loss: 744.8545\n",
      "Epoch 319/500\n",
      "20/20 [==============================] - 0s 5ms/step - loss: 18.8830 - val_loss: 744.9299\n",
      "Epoch 320/500\n",
      "20/20 [==============================] - 0s 5ms/step - loss: 18.8806 - val_loss: 745.0015\n",
      "Epoch 321/500\n",
      "20/20 [==============================] - 0s 5ms/step - loss: 18.8784 - val_loss: 745.0690\n",
      "Epoch 322/500\n",
      "20/20 [==============================] - 0s 5ms/step - loss: 18.8764 - val_loss: 745.1329\n",
      "Epoch 323/500\n",
      "20/20 [==============================] - 0s 5ms/step - loss: 18.8745 - val_loss: 745.1935\n",
      "Epoch 324/500\n",
      "20/20 [==============================] - 0s 5ms/step - loss: 18.8728 - val_loss: 745.2504\n",
      "Epoch 325/500\n",
      "20/20 [==============================] - 0s 5ms/step - loss: 18.8712 - val_loss: 745.3044\n",
      "Epoch 326/500\n",
      "20/20 [==============================] - 0s 5ms/step - loss: 18.8697 - val_loss: 745.3554\n",
      "Epoch 327/500\n",
      "20/20 [==============================] - 0s 5ms/step - loss: 18.8684 - val_loss: 745.4032\n",
      "Epoch 328/500\n",
      "20/20 [==============================] - 0s 5ms/step - loss: 18.8673 - val_loss: 745.4484\n",
      "Epoch 329/500\n",
      "20/20 [==============================] - 0s 5ms/step - loss: 18.8661 - val_loss: 745.4911\n",
      "Epoch 330/500\n",
      "20/20 [==============================] - 0s 9ms/step - loss: 18.8652 - val_loss: 745.5311\n",
      "Epoch 331/500\n",
      "20/20 [==============================] - 0s 5ms/step - loss: 18.8643 - val_loss: 745.5687\n",
      "Epoch 332/500\n",
      "20/20 [==============================] - 0s 5ms/step - loss: 18.8634 - val_loss: 745.6043\n",
      "Epoch 333/500\n",
      "20/20 [==============================] - 0s 5ms/step - loss: 18.8627 - val_loss: 745.6376\n",
      "Epoch 334/500\n",
      "20/20 [==============================] - 0s 5ms/step - loss: 18.8621 - val_loss: 745.6688\n",
      "Epoch 335/500\n",
      "20/20 [==============================] - 0s 5ms/step - loss: 18.8616 - val_loss: 745.6983\n",
      "Epoch 336/500\n",
      "20/20 [==============================] - 0s 5ms/step - loss: 18.8610 - val_loss: 745.7257\n",
      "Epoch 337/500\n",
      "20/20 [==============================] - 0s 5ms/step - loss: 18.8606 - val_loss: 745.7515\n",
      "Epoch 338/500\n",
      "20/20 [==============================] - 0s 5ms/step - loss: 18.8603 - val_loss: 745.7755\n",
      "Epoch 339/500\n",
      "20/20 [==============================] - 0s 5ms/step - loss: 18.8600 - val_loss: 745.7980\n",
      "Epoch 340/500\n",
      "20/20 [==============================] - 0s 5ms/step - loss: 18.8598 - val_loss: 745.8195\n",
      "Epoch 341/500\n",
      "20/20 [==============================] - 0s 5ms/step - loss: 18.8595 - val_loss: 745.8391\n",
      "Epoch 342/500\n",
      "20/20 [==============================] - 0s 5ms/step - loss: 18.8594 - val_loss: 745.8575\n",
      "Epoch 343/500\n",
      "20/20 [==============================] - 0s 5ms/step - loss: 18.8593 - val_loss: 745.8747\n",
      "Epoch 344/500\n",
      "20/20 [==============================] - 0s 5ms/step - loss: 18.8592 - val_loss: 745.8907\n",
      "Epoch 345/500\n",
      "20/20 [==============================] - 0s 5ms/step - loss: 18.8592 - val_loss: 745.9058\n",
      "Epoch 346/500\n",
      "20/20 [==============================] - 0s 5ms/step - loss: 18.8592 - val_loss: 745.9197\n",
      "Epoch 347/500\n",
      "20/20 [==============================] - 0s 5ms/step - loss: 18.8592 - val_loss: 745.9324\n",
      "Epoch 348/500\n",
      "20/20 [==============================] - 0s 5ms/step - loss: 18.8593 - val_loss: 745.9445\n",
      "Epoch 349/500\n",
      "20/20 [==============================] - 0s 5ms/step - loss: 18.8594 - val_loss: 745.9553\n",
      "Epoch 350/500\n",
      "20/20 [==============================] - 0s 10ms/step - loss: 18.8596 - val_loss: 745.9657\n",
      "Epoch 351/500\n",
      "20/20 [==============================] - 0s 5ms/step - loss: 18.8597 - val_loss: 745.9750\n",
      "Epoch 352/500\n",
      "20/20 [==============================] - 0s 5ms/step - loss: 18.8599 - val_loss: 745.9836\n",
      "Epoch 353/500\n",
      "20/20 [==============================] - 0s 5ms/step - loss: 18.8601 - val_loss: 745.9918\n",
      "Epoch 354/500\n",
      "20/20 [==============================] - 0s 5ms/step - loss: 18.8603 - val_loss: 745.9993\n",
      "Epoch 355/500\n",
      "20/20 [==============================] - 0s 5ms/step - loss: 18.8606 - val_loss: 746.0062\n",
      "Epoch 356/500\n",
      "20/20 [==============================] - 0s 5ms/step - loss: 18.8609 - val_loss: 746.0126\n",
      "Epoch 357/500\n",
      "20/20 [==============================] - 0s 5ms/step - loss: 18.8611 - val_loss: 746.0184\n",
      "Epoch 358/500\n",
      "20/20 [==============================] - 0s 5ms/step - loss: 18.8614 - val_loss: 746.0239\n",
      "Epoch 359/500\n",
      "20/20 [==============================] - 0s 5ms/step - loss: 18.8617 - val_loss: 746.0285\n",
      "Epoch 360/500\n",
      "20/20 [==============================] - 0s 5ms/step - loss: 18.8621 - val_loss: 746.0331\n",
      "Epoch 361/500\n",
      "20/20 [==============================] - 0s 5ms/step - loss: 18.8624 - val_loss: 746.0371\n",
      "Epoch 362/500\n",
      "20/20 [==============================] - 0s 5ms/step - loss: 18.8627 - val_loss: 746.0407\n",
      "Epoch 363/500\n",
      "20/20 [==============================] - 0s 5ms/step - loss: 18.8631 - val_loss: 746.0438\n",
      "Epoch 364/500\n",
      "20/20 [==============================] - 0s 5ms/step - loss: 18.8635 - val_loss: 746.0470\n",
      "Epoch 365/500\n",
      "20/20 [==============================] - 0s 5ms/step - loss: 18.8639 - val_loss: 746.0496\n",
      "Epoch 366/500\n",
      "20/20 [==============================] - 0s 5ms/step - loss: 18.8642 - val_loss: 746.0519\n",
      "Epoch 367/500\n",
      "20/20 [==============================] - 0s 5ms/step - loss: 18.8646 - val_loss: 746.0538\n",
      "Epoch 368/500\n",
      "20/20 [==============================] - 0s 5ms/step - loss: 18.8650 - val_loss: 746.0558\n",
      "Epoch 369/500\n",
      "20/20 [==============================] - 0s 10ms/step - loss: 18.8654 - val_loss: 746.0574\n",
      "Epoch 370/500\n",
      "20/20 [==============================] - 0s 5ms/step - loss: 18.8658 - val_loss: 746.0589\n",
      "Epoch 371/500\n",
      "20/20 [==============================] - 0s 5ms/step - loss: 18.8662 - val_loss: 746.0601\n",
      "Epoch 372/500\n",
      "20/20 [==============================] - 0s 5ms/step - loss: 18.8666 - val_loss: 746.0612\n",
      "Epoch 373/500\n",
      "20/20 [==============================] - 0s 5ms/step - loss: 18.8670 - val_loss: 746.0621\n",
      "Epoch 374/500\n",
      "20/20 [==============================] - 0s 5ms/step - loss: 18.8674 - val_loss: 746.0627\n",
      "Epoch 375/500\n",
      "20/20 [==============================] - 0s 5ms/step - loss: 18.8679 - val_loss: 746.0636\n",
      "Epoch 376/500\n",
      "20/20 [==============================] - 0s 5ms/step - loss: 18.8683 - val_loss: 746.0638\n",
      "Epoch 377/500\n",
      "20/20 [==============================] - 0s 5ms/step - loss: 18.8687 - val_loss: 746.0642\n",
      "Epoch 378/500\n",
      "20/20 [==============================] - 0s 5ms/step - loss: 18.8691 - val_loss: 746.0643\n",
      "Epoch 379/500\n",
      "20/20 [==============================] - 0s 5ms/step - loss: 18.8695 - val_loss: 746.0644\n",
      "Epoch 380/500\n",
      "20/20 [==============================] - 0s 5ms/step - loss: 18.8700 - val_loss: 746.0645\n",
      "Epoch 381/500\n",
      "20/20 [==============================] - 0s 5ms/step - loss: 18.8704 - val_loss: 746.0644\n",
      "Epoch 382/500\n",
      "20/20 [==============================] - 0s 5ms/step - loss: 18.8708 - val_loss: 746.0643\n",
      "Epoch 383/500\n",
      "20/20 [==============================] - 0s 5ms/step - loss: 18.8712 - val_loss: 746.0640\n",
      "Epoch 384/500\n",
      "20/20 [==============================] - 0s 5ms/step - loss: 18.8717 - val_loss: 746.0636\n",
      "Epoch 385/500\n",
      "20/20 [==============================] - 0s 5ms/step - loss: 18.8721 - val_loss: 746.0633\n",
      "Epoch 386/500\n",
      "20/20 [==============================] - 0s 5ms/step - loss: 18.8725 - val_loss: 746.0630\n",
      "Epoch 387/500\n",
      "20/20 [==============================] - 0s 5ms/step - loss: 18.8729 - val_loss: 746.0624\n",
      "Epoch 388/500\n",
      "20/20 [==============================] - 0s 10ms/step - loss: 18.8734 - val_loss: 746.0618\n",
      "Epoch 389/500\n",
      "20/20 [==============================] - 0s 6ms/step - loss: 18.8738 - val_loss: 746.0612\n",
      "Epoch 390/500\n",
      "20/20 [==============================] - 0s 5ms/step - loss: 18.8742 - val_loss: 746.0607\n",
      "Epoch 391/500\n",
      "20/20 [==============================] - 0s 5ms/step - loss: 18.8746 - val_loss: 746.0603\n",
      "Epoch 392/500\n",
      "20/20 [==============================] - 0s 5ms/step - loss: 18.8750 - val_loss: 746.0594\n",
      "Epoch 393/500\n",
      "20/20 [==============================] - 0s 5ms/step - loss: 18.8754 - val_loss: 746.0588\n",
      "Epoch 394/500\n",
      "20/20 [==============================] - 0s 5ms/step - loss: 18.8758 - val_loss: 746.0583\n",
      "Epoch 395/500\n",
      "20/20 [==============================] - 0s 5ms/step - loss: 18.8761 - val_loss: 746.0573\n",
      "Epoch 396/500\n",
      "20/20 [==============================] - 0s 5ms/step - loss: 18.8766 - val_loss: 746.0568\n",
      "Epoch 397/500\n",
      "20/20 [==============================] - 0s 5ms/step - loss: 18.8770 - val_loss: 746.0558\n",
      "Epoch 398/500\n",
      "20/20 [==============================] - 0s 5ms/step - loss: 18.8774 - val_loss: 746.0551\n",
      "Epoch 399/500\n",
      "20/20 [==============================] - 0s 5ms/step - loss: 18.8778 - val_loss: 746.0544\n",
      "Epoch 400/500\n",
      "20/20 [==============================] - 0s 5ms/step - loss: 18.8781 - val_loss: 746.0535\n",
      "Epoch 401/500\n",
      "20/20 [==============================] - 0s 5ms/step - loss: 18.8785 - val_loss: 746.0528\n",
      "Epoch 402/500\n",
      "20/20 [==============================] - 0s 5ms/step - loss: 18.8789 - val_loss: 746.0522\n",
      "Epoch 403/500\n",
      "20/20 [==============================] - 0s 5ms/step - loss: 18.8793 - val_loss: 746.0513\n",
      "Epoch 404/500\n",
      "20/20 [==============================] - 0s 5ms/step - loss: 18.8797 - val_loss: 746.0507\n",
      "Epoch 405/500\n",
      "20/20 [==============================] - 0s 5ms/step - loss: 18.8800 - val_loss: 746.0499\n",
      "Epoch 406/500\n",
      "20/20 [==============================] - 0s 5ms/step - loss: 18.8804 - val_loss: 746.0492\n",
      "Epoch 407/500\n",
      "20/20 [==============================] - 0s 5ms/step - loss: 18.8807 - val_loss: 746.0487\n",
      "Epoch 408/500\n",
      "20/20 [==============================] - 0s 7ms/step - loss: 18.8810 - val_loss: 746.0475\n",
      "Epoch 409/500\n",
      "20/20 [==============================] - 0s 5ms/step - loss: 18.8814 - val_loss: 746.0467\n",
      "Epoch 410/500\n",
      "20/20 [==============================] - 0s 5ms/step - loss: 18.8817 - val_loss: 746.0460\n",
      "Epoch 411/500\n",
      "20/20 [==============================] - 0s 5ms/step - loss: 18.8821 - val_loss: 746.0452\n",
      "Epoch 412/500\n",
      "20/20 [==============================] - 0s 5ms/step - loss: 18.8825 - val_loss: 746.0446\n",
      "Epoch 413/500\n",
      "20/20 [==============================] - 0s 5ms/step - loss: 18.8828 - val_loss: 746.0435\n",
      "Epoch 414/500\n",
      "20/20 [==============================] - 0s 5ms/step - loss: 18.8831 - val_loss: 746.0429\n",
      "Epoch 415/500\n",
      "20/20 [==============================] - 0s 5ms/step - loss: 18.8834 - val_loss: 746.0424\n",
      "Epoch 416/500\n",
      "20/20 [==============================] - 0s 5ms/step - loss: 18.8838 - val_loss: 746.0414\n",
      "Epoch 417/500\n",
      "20/20 [==============================] - 0s 5ms/step - loss: 18.8841 - val_loss: 746.0410\n",
      "Epoch 418/500\n",
      "20/20 [==============================] - 0s 5ms/step - loss: 18.8844 - val_loss: 746.0402\n",
      "Epoch 419/500\n",
      "20/20 [==============================] - 0s 5ms/step - loss: 18.8847 - val_loss: 746.0392\n",
      "Epoch 420/500\n",
      "20/20 [==============================] - 0s 6ms/step - loss: 18.8850 - val_loss: 746.0387\n",
      "Epoch 421/500\n",
      "20/20 [==============================] - 0s 6ms/step - loss: 18.8853 - val_loss: 746.0380\n",
      "Epoch 422/500\n",
      "20/20 [==============================] - 0s 5ms/step - loss: 18.8856 - val_loss: 746.0370\n",
      "Epoch 423/500\n",
      "20/20 [==============================] - 0s 6ms/step - loss: 18.8859 - val_loss: 746.0364\n",
      "Epoch 424/500\n",
      "20/20 [==============================] - 0s 7ms/step - loss: 18.8862 - val_loss: 746.0353\n",
      "Epoch 425/500\n",
      "20/20 [==============================] - 0s 5ms/step - loss: 18.8865 - val_loss: 746.0350\n",
      "Epoch 426/500\n",
      "20/20 [==============================] - 0s 6ms/step - loss: 18.8868 - val_loss: 746.0343\n",
      "Epoch 427/500\n",
      "20/20 [==============================] - 0s 6ms/step - loss: 18.8871 - val_loss: 746.0334\n",
      "Epoch 428/500\n",
      "20/20 [==============================] - 0s 6ms/step - loss: 18.8873 - val_loss: 746.0328\n",
      "Epoch 429/500\n",
      "20/20 [==============================] - 0s 5ms/step - loss: 18.8876 - val_loss: 746.0322\n",
      "Epoch 430/500\n",
      "20/20 [==============================] - 0s 10ms/step - loss: 18.8879 - val_loss: 746.0312\n",
      "Epoch 431/500\n",
      "20/20 [==============================] - 0s 5ms/step - loss: 18.8882 - val_loss: 746.0308\n",
      "Epoch 432/500\n",
      "20/20 [==============================] - 0s 14ms/step - loss: 18.8884 - val_loss: 746.0303\n",
      "Epoch 433/500\n",
      "20/20 [==============================] - 0s 7ms/step - loss: 18.8886 - val_loss: 746.0295\n",
      "Epoch 434/500\n",
      "20/20 [==============================] - 0s 6ms/step - loss: 18.8889 - val_loss: 746.0289\n",
      "Epoch 435/500\n",
      "20/20 [==============================] - 0s 6ms/step - loss: 18.8892 - val_loss: 746.0283\n",
      "Epoch 436/500\n",
      "20/20 [==============================] - 0s 5ms/step - loss: 18.8895 - val_loss: 746.0275\n",
      "Epoch 437/500\n",
      "20/20 [==============================] - 0s 5ms/step - loss: 18.8897 - val_loss: 746.0269\n",
      "Epoch 438/500\n",
      "20/20 [==============================] - 0s 5ms/step - loss: 18.8899 - val_loss: 746.0263\n",
      "Epoch 439/500\n",
      "20/20 [==============================] - 0s 5ms/step - loss: 18.8901 - val_loss: 746.0253\n",
      "Epoch 440/500\n",
      "20/20 [==============================] - 0s 5ms/step - loss: 18.8904 - val_loss: 746.0250\n",
      "Epoch 441/500\n",
      "20/20 [==============================] - 0s 5ms/step - loss: 18.8906 - val_loss: 746.0245\n",
      "Epoch 442/500\n",
      "20/20 [==============================] - 0s 5ms/step - loss: 18.8909 - val_loss: 746.0240\n",
      "Epoch 443/500\n",
      "20/20 [==============================] - 0s 5ms/step - loss: 18.8911 - val_loss: 746.0233\n",
      "Epoch 444/500\n",
      "20/20 [==============================] - 0s 5ms/step - loss: 18.8913 - val_loss: 746.0229\n",
      "Epoch 445/500\n",
      "20/20 [==============================] - 0s 5ms/step - loss: 18.8915 - val_loss: 746.0224\n",
      "Epoch 446/500\n",
      "20/20 [==============================] - 0s 12ms/step - loss: 18.8918 - val_loss: 746.0219\n",
      "Epoch 447/500\n",
      "20/20 [==============================] - 0s 6ms/step - loss: 18.8919 - val_loss: 746.0212\n",
      "Epoch 448/500\n",
      "20/20 [==============================] - 0s 7ms/step - loss: 18.8922 - val_loss: 746.0206\n",
      "Epoch 449/500\n",
      "20/20 [==============================] - 0s 7ms/step - loss: 18.8924 - val_loss: 746.0203\n",
      "Epoch 450/500\n",
      "20/20 [==============================] - 0s 7ms/step - loss: 18.8926 - val_loss: 746.0197\n",
      "Epoch 451/500\n",
      "20/20 [==============================] - 0s 7ms/step - loss: 18.8928 - val_loss: 746.0192\n",
      "Epoch 452/500\n",
      "20/20 [==============================] - 0s 7ms/step - loss: 18.8929 - val_loss: 746.0187\n",
      "Epoch 453/500\n",
      "20/20 [==============================] - 0s 6ms/step - loss: 18.8931 - val_loss: 746.0182\n",
      "Epoch 454/500\n",
      "20/20 [==============================] - 0s 5ms/step - loss: 18.8934 - val_loss: 746.0175\n",
      "Epoch 455/500\n",
      "20/20 [==============================] - 0s 5ms/step - loss: 18.8935 - val_loss: 746.0171\n",
      "Epoch 456/500\n",
      "20/20 [==============================] - 0s 4ms/step - loss: 18.8937 - val_loss: 746.0171\n",
      "Epoch 457/500\n",
      "20/20 [==============================] - 0s 4ms/step - loss: 18.8939 - val_loss: 746.0165\n",
      "Epoch 458/500\n",
      "20/20 [==============================] - 0s 4ms/step - loss: 18.8941 - val_loss: 746.0162\n",
      "Epoch 459/500\n",
      "20/20 [==============================] - 0s 5ms/step - loss: 18.8942 - val_loss: 746.0153\n",
      "Epoch 460/500\n",
      "20/20 [==============================] - 0s 5ms/step - loss: 18.8944 - val_loss: 746.0152\n",
      "Epoch 461/500\n",
      "20/20 [==============================] - 0s 5ms/step - loss: 18.8946 - val_loss: 746.0148\n",
      "Epoch 462/500\n",
      "20/20 [==============================] - 0s 5ms/step - loss: 18.8948 - val_loss: 746.0144\n",
      "Epoch 463/500\n",
      "20/20 [==============================] - 0s 4ms/step - loss: 18.8949 - val_loss: 746.0140\n",
      "Epoch 464/500\n",
      "20/20 [==============================] - 0s 4ms/step - loss: 18.8951 - val_loss: 746.0137\n",
      "Epoch 465/500\n",
      "20/20 [==============================] - 0s 4ms/step - loss: 18.8953 - val_loss: 746.0134\n",
      "Epoch 466/500\n",
      "20/20 [==============================] - 0s 4ms/step - loss: 18.8953 - val_loss: 746.0131\n",
      "Epoch 467/500\n",
      "20/20 [==============================] - 0s 8ms/step - loss: 18.8955 - val_loss: 746.0128\n",
      "Epoch 468/500\n",
      "20/20 [==============================] - 0s 6ms/step - loss: 18.8957 - val_loss: 746.0123\n",
      "Epoch 469/500\n",
      "20/20 [==============================] - 0s 5ms/step - loss: 18.8958 - val_loss: 746.0120\n",
      "Epoch 470/500\n",
      "20/20 [==============================] - 0s 5ms/step - loss: 18.8960 - val_loss: 746.0113\n",
      "Epoch 471/500\n",
      "20/20 [==============================] - 0s 5ms/step - loss: 18.8962 - val_loss: 746.0112\n",
      "Epoch 472/500\n",
      "20/20 [==============================] - 0s 5ms/step - loss: 18.8963 - val_loss: 746.0111\n",
      "Epoch 473/500\n",
      "20/20 [==============================] - 0s 5ms/step - loss: 18.8964 - val_loss: 746.0107\n",
      "Epoch 474/500\n",
      "20/20 [==============================] - 0s 5ms/step - loss: 18.8965 - val_loss: 746.0104\n",
      "Epoch 475/500\n",
      "20/20 [==============================] - 0s 5ms/step - loss: 18.8967 - val_loss: 746.0098\n",
      "Epoch 476/500\n",
      "20/20 [==============================] - 0s 5ms/step - loss: 18.8968 - val_loss: 746.0093\n",
      "Epoch 477/500\n",
      "20/20 [==============================] - 0s 4ms/step - loss: 18.8970 - val_loss: 746.0090\n",
      "Epoch 478/500\n",
      "20/20 [==============================] - 0s 5ms/step - loss: 18.8971 - val_loss: 746.0088\n",
      "Epoch 479/500\n",
      "20/20 [==============================] - 0s 5ms/step - loss: 18.8972 - val_loss: 746.0085\n",
      "Epoch 480/500\n",
      "20/20 [==============================] - 0s 5ms/step - loss: 18.8973 - val_loss: 746.0084\n",
      "Epoch 481/500\n",
      "20/20 [==============================] - 0s 5ms/step - loss: 18.8974 - val_loss: 746.0080\n",
      "Epoch 482/500\n",
      "20/20 [==============================] - 0s 4ms/step - loss: 18.8976 - val_loss: 746.0078\n",
      "Epoch 483/500\n",
      "20/20 [==============================] - 0s 4ms/step - loss: 18.8977 - val_loss: 746.0074\n",
      "Epoch 484/500\n",
      "20/20 [==============================] - 0s 4ms/step - loss: 18.8978 - val_loss: 746.0074\n",
      "Epoch 485/500\n",
      "20/20 [==============================] - 0s 4ms/step - loss: 18.8979 - val_loss: 746.0071\n",
      "Epoch 486/500\n",
      "20/20 [==============================] - 0s 10ms/step - loss: 18.8980 - val_loss: 746.0071\n",
      "Epoch 487/500\n",
      "20/20 [==============================] - 0s 5ms/step - loss: 18.8981 - val_loss: 746.0068\n",
      "Epoch 488/500\n",
      "20/20 [==============================] - 0s 6ms/step - loss: 18.8982 - val_loss: 746.0065\n",
      "Epoch 489/500\n",
      "20/20 [==============================] - 0s 4ms/step - loss: 18.8983 - val_loss: 746.0059\n",
      "Epoch 490/500\n",
      "20/20 [==============================] - 0s 4ms/step - loss: 18.8984 - val_loss: 746.0056\n",
      "Epoch 491/500\n",
      "20/20 [==============================] - 0s 4ms/step - loss: 18.8985 - val_loss: 746.0054\n",
      "Epoch 492/500\n",
      "20/20 [==============================] - 0s 4ms/step - loss: 18.8986 - val_loss: 746.0049\n",
      "Epoch 493/500\n",
      "20/20 [==============================] - 0s 5ms/step - loss: 18.8987 - val_loss: 746.0049\n",
      "Epoch 494/500\n",
      "20/20 [==============================] - 0s 4ms/step - loss: 18.8988 - val_loss: 746.0047\n",
      "Epoch 495/500\n",
      "20/20 [==============================] - 0s 4ms/step - loss: 18.8989 - val_loss: 746.0044\n",
      "Epoch 496/500\n",
      "20/20 [==============================] - 0s 5ms/step - loss: 18.8990 - val_loss: 746.0043\n",
      "Epoch 497/500\n",
      "20/20 [==============================] - 0s 5ms/step - loss: 18.8991 - val_loss: 746.0042\n",
      "Epoch 498/500\n",
      "20/20 [==============================] - 0s 5ms/step - loss: 18.8992 - val_loss: 746.0037\n",
      "Epoch 499/500\n",
      "20/20 [==============================] - 0s 4ms/step - loss: 18.8993 - val_loss: 746.0035\n",
      "Epoch 500/500\n",
      "20/20 [==============================] - 0s 5ms/step - loss: 18.8993 - val_loss: 746.0032\n"
     ]
    }
   ],
   "source": [
    "C0 = tf.Variable(86.8407, name=\"C0\", trainable=True, dtype=tf.float32)\n",
    "K0 = tf.Variable(-0.0015, name=\"K0\", trainable=True, dtype=tf.float32)\n",
    "K1 = tf.Variable(-0.0001, name=\"K1\", trainable=True, dtype=tf.float32)\n",
    "a = tf.Variable(0.0000, name=\"a\", trainable=True, dtype=tf.float32)\n",
    "b = tf.Variable(0.0118, name=\"b\", trainable=True, dtype=tf.float32)\n",
    "c = tf.Variable(2.5775, name=\"c\", trainable=True, dtype=tf.float32)\n",
    "\n",
    "splitr = 0.8\n",
    "\n",
    "\n",
    "def loss_fn(y_true, y_pred):\n",
    "    squared_difference = tf.square(y_true[:, 0] - y_pred[:, 0])\n",
    "    #squared_difference2 = tf.square(y_true[:, 2]-y_pred[:, 2])\n",
    "    #squared_difference1 = tf.square(y_true[:, 1]-y_pred[:, 1])\n",
    "    epsilon = 1\n",
    "    squared_difference3 = tf.square(\n",
    "        y_pred[:, 1] - (\n",
    "            y_pred[:, 0] * (\n",
    "                K0 - K1 * (\n",
    "                    9 * a * tf.math.log((y_pred[:, 0] + epsilon) / C0) / (K0 - K1 * c)**2 +\n",
    "                    4 * b * tf.math.log((y_pred[:, 0] + epsilon) / C0) / (K0 - K1 * c) + c\n",
    "                )\n",
    "            )\n",
    "        )\n",
    "    )\n",
    "    return tf.reduce_mean(squared_difference, axis=-1) + 0.2*tf.reduce_mean(squared_difference3, axis=-1)\n",
    "model = Sequential()\n",
    "model.add(LSTM(100, input_shape=(trainX.shape[1], trainX.shape[2])))\n",
    "model.add(Dense(60))\n",
    "model.compile(loss=loss_fn, optimizer='adam')\n",
    "history = model.fit(trainX[:int(splitr*trainX.shape[0])], trainy[:int(splitr*trainX.shape[0])], epochs=500, batch_size=64, validation_data=(trainX[int(splitr*trainX.shape[0]):trainX.shape[0]], trainy[int(splitr*trainX.shape[0]):trainX.shape[0]]), shuffle=False)"
   ]
  },
  {
   "cell_type": "code",
   "execution_count": 19,
   "metadata": {
    "colab": {
     "base_uri": "https://localhost:8080/"
    },
    "id": "yJL101rPyuoT",
    "outputId": "239ff2b1-c186-423a-d316-939dfdd7c793"
   },
   "outputs": [
    {
     "name": "stdout",
     "output_type": "stream",
     "text": [
      "1/1 [==============================] - 0s 372ms/step\n"
     ]
    }
   ],
   "source": [
    "forecast_without_mc = forecastX\n",
    "yhat_without_mc = model.predict(forecast_without_mc) # Step Ahead Prediction\n",
    "forecast_without_mc = forecast_without_mc.reshape((forecast_without_mc.shape[0], forecast_without_mc.shape[2])) # Historical Input"
   ]
  },
  {
   "cell_type": "code",
   "execution_count": 20,
   "metadata": {
    "colab": {
     "base_uri": "https://localhost:8080/"
    },
    "id": "g9dQELcJ8wbp",
    "outputId": "4dc7671b-b1a8-48d5-8744-a86f98446109"
   },
   "outputs": [
    {
     "data": {
      "text/plain": [
       "(1, 1, 251)"
      ]
     },
     "execution_count": 20,
     "metadata": {},
     "output_type": "execute_result"
    }
   ],
   "source": [
    "forecastX.shape"
   ]
  },
  {
   "cell_type": "code",
   "execution_count": 21,
   "metadata": {
    "colab": {
     "base_uri": "https://localhost:8080/"
    },
    "id": "IS2kyIKG1Kbr",
    "outputId": "f31b3485-8e26-452f-9298-ea8bf7e80ad1"
   },
   "outputs": [
    {
     "data": {
      "text/plain": [
       "(1, 251)"
      ]
     },
     "execution_count": 21,
     "metadata": {},
     "output_type": "execute_result"
    }
   ],
   "source": [
    "forecast_without_mc.shape"
   ]
  },
  {
   "cell_type": "code",
   "execution_count": 22,
   "metadata": {
    "id": "0u6VIzaDyuoT"
   },
   "outputs": [],
   "source": [
    "inv_yhat_without_mc = np.concatenate((forecast_without_mc, yhat_without_mc), axis=1) # Concatenation of predicted values with Historical Data\n",
    "#inv_yhat_without_mc = scaler.inverse_transform(inv_yhat_without_mc) # Transform labels back to original encoding"
   ]
  },
  {
   "cell_type": "code",
   "execution_count": 23,
   "metadata": {
    "colab": {
     "base_uri": "https://localhost:8080/"
    },
    "id": "EUEcw0LX07oU",
    "outputId": "cfc32397-9c37-4b43-d087-584bb31c3dcc"
   },
   "outputs": [
    {
     "data": {
      "text/plain": [
       "(1, 311)"
      ]
     },
     "execution_count": 23,
     "metadata": {},
     "output_type": "execute_result"
    }
   ],
   "source": [
    "inv_yhat_without_mc.shape"
   ]
  },
  {
   "cell_type": "code",
   "execution_count": 24,
   "metadata": {
    "id": "31OWVbSh_305"
   },
   "outputs": [],
   "source": [
    "fforecast = inv_yhat_without_mc[:,-300:]"
   ]
  },
  {
   "cell_type": "code",
   "execution_count": 25,
   "metadata": {},
   "outputs": [
    {
     "data": {
      "text/plain": [
       "(1, 300)"
      ]
     },
     "execution_count": 25,
     "metadata": {},
     "output_type": "execute_result"
    }
   ],
   "source": [
    "fforecast.shape"
   ]
  },
  {
   "cell_type": "code",
   "execution_count": 26,
   "metadata": {
    "id": "BlpGH2FOAiRF"
   },
   "outputs": [],
   "source": [
    "final_forecast = fforecast[:,0:300:3]"
   ]
  },
  {
   "cell_type": "code",
   "execution_count": 27,
   "metadata": {},
   "outputs": [
    {
     "data": {
      "text/plain": [
       "(1, 300)"
      ]
     },
     "execution_count": 27,
     "metadata": {},
     "output_type": "execute_result"
    }
   ],
   "source": [
    "fforecast.shape"
   ]
  },
  {
   "cell_type": "code",
   "execution_count": 28,
   "metadata": {
    "id": "CXkgkj_LBk_t"
   },
   "outputs": [],
   "source": [
    "# code to replace all negative value with 0\n",
    "final_forecast[final_forecast<0] = 0"
   ]
  },
  {
   "cell_type": "code",
   "execution_count": 29,
   "metadata": {},
   "outputs": [
    {
     "data": {
      "text/plain": [
       "array([[6.94215415e+01, 6.93886928e+01, 6.93553315e+01, 6.93219701e+01,\n",
       "        6.92617414e+01, 6.91693044e+01, 6.90768674e+01, 0.00000000e+00,\n",
       "        0.00000000e+00, 0.00000000e+00, 6.08990270e-02, 3.39738905e-01,\n",
       "        1.03676066e-01, 6.97152661e+01, 6.96969188e+01, 6.96633053e+01,\n",
       "        6.96296919e+01, 6.95960784e+01, 6.95624650e+01, 6.95288515e+01,\n",
       "        6.94952381e+01, 6.94616247e+01, 6.94280112e+01, 6.93943978e+01,\n",
       "        6.93607843e+01, 6.93271709e+01, 6.92822829e+01, 6.91898459e+01,\n",
       "        6.90974090e+01, 6.90049720e+01, 6.89125350e+01, 6.88200980e+01,\n",
       "        6.87276611e+01, 6.86352241e+01, 6.85427871e+01, 6.84503501e+01,\n",
       "        6.83579132e+01, 6.82654762e+01, 6.81632353e+01, 6.80371849e+01,\n",
       "        6.45492792e-01, 3.67115810e-02, 7.12585807e-01, 0.00000000e+00,\n",
       "        0.00000000e+00, 2.52054334e-01, 0.00000000e+00, 6.93346405e+01,\n",
       "        6.93010271e+01, 6.92103875e+01, 6.91179505e+01, 6.90255135e+01,\n",
       "        6.89330766e+01, 6.88406396e+01, 6.87482026e+01, 6.86557656e+01,\n",
       "        6.85633287e+01, 6.84708917e+01, 6.83784547e+01, 6.82860177e+01,\n",
       "        6.81912465e+01, 6.80651961e+01, 6.79391457e+01, 6.78130952e+01,\n",
       "        6.76870448e+01, 6.75609944e+01, 6.74349440e+01, 6.73088936e+01,\n",
       "        6.71828431e+01, 6.70567927e+01, 6.69307423e+01, 6.68046919e+01,\n",
       "        6.66886088e+01, 7.45593719e+01, 3.06580420e-01, 0.00000000e+00,\n",
       "        0.00000000e+00, 1.20305598e+00, 0.00000000e+00, 2.67838000e-01,\n",
       "        5.48878555e+01, 0.00000000e+00, 0.00000000e+00, 0.00000000e+00,\n",
       "        0.00000000e+00, 3.79820585e-01, 0.00000000e+00, 2.57989764e-01,\n",
       "        2.03825042e-01, 2.25676775e-01, 0.00000000e+00, 0.00000000e+00,\n",
       "        1.03203046e+00, 0.00000000e+00, 4.66705114e-01, 0.00000000e+00,\n",
       "        0.00000000e+00, 0.00000000e+00, 3.23001921e-01, 0.00000000e+00]])"
      ]
     },
     "execution_count": 29,
     "metadata": {},
     "output_type": "execute_result"
    }
   ],
   "source": [
    "final_forecast"
   ]
  },
  {
   "cell_type": "code",
   "execution_count": 30,
   "metadata": {},
   "outputs": [
    {
     "data": {
      "text/plain": [
       "(1, 100)"
      ]
     },
     "execution_count": 30,
     "metadata": {},
     "output_type": "execute_result"
    }
   ],
   "source": [
    "final_forecast.shape"
   ]
  },
  {
   "cell_type": "code",
   "execution_count": 31,
   "metadata": {},
   "outputs": [
    {
     "data": {
      "text/plain": [
       "(100,)"
      ]
     },
     "execution_count": 31,
     "metadata": {},
     "output_type": "execute_result"
    }
   ],
   "source": [
    "test.shape"
   ]
  },
  {
   "cell_type": "code",
   "execution_count": 32,
   "metadata": {},
   "outputs": [],
   "source": [
    "training_set = np.array(training_set)\n",
    "test = np.array(test)\n",
    "final_forecast = np.array(final_forecast.squeeze(0))"
   ]
  },
  {
   "cell_type": "code",
   "execution_count": 33,
   "metadata": {},
   "outputs": [
    {
     "data": {
      "text/plain": [
       "array([63.43189776, 63.42489496, 63.41789216, 63.41088936, 63.40388655,\n",
       "       63.39688375, 63.38988095, 63.38287815, 63.37587535, 63.36887255,\n",
       "       63.36186975, 63.35486695, 63.34786415, 63.34086134, 63.33385854,\n",
       "       63.32685574, 63.31985294, 63.31285014, 63.30584734, 63.29884454,\n",
       "       63.29184174, 63.28483894, 63.27783613, 63.27083333, 63.26383053,\n",
       "       63.25682773, 63.24982493, 63.24282213, 63.23581933, 63.22881653,\n",
       "       63.22181373, 63.21481092, 63.20780812, 63.20080532, 63.19380252,\n",
       "       63.18679972, 63.17979692, 63.17279412, 63.16579132, 63.15878852,\n",
       "       63.15178571, 63.14478291, 63.13778011, 63.13077731, 63.12377451,\n",
       "       63.11677171, 63.10976891, 63.10276611, 63.09576331, 63.0887605 ,\n",
       "       63.0817577 , 63.0747549 , 63.0677521 , 63.0607493 , 63.0537465 ,\n",
       "       63.0467437 , 63.0397409 , 63.0327381 , 63.02573529, 63.01873249,\n",
       "       63.01172969, 63.00472689, 62.99772409, 62.99072129, 62.98371849,\n",
       "       62.97671569, 62.96971289, 62.96271008, 62.95570728, 62.94870448,\n",
       "       62.94170168, 62.93469888, 62.92769608, 62.92069328, 62.91369048,\n",
       "       62.90668768, 62.89968487, 62.89268207, 62.88567927, 62.87867647,\n",
       "       62.87167367, 62.86467087, 62.85766807, 62.85066527, 62.84366246,\n",
       "       62.83665966, 62.82965686, 62.82265406, 62.81565126, 62.80864846,\n",
       "       62.80164566, 62.79464286, 62.78764006, 62.78063725, 62.77363445,\n",
       "       62.76663165, 62.75962885, 62.75262605, 62.74562325, 62.73862045])"
      ]
     },
     "execution_count": 33,
     "metadata": {},
     "output_type": "execute_result"
    }
   ],
   "source": [
    "test"
   ]
  },
  {
   "cell_type": "code",
   "execution_count": 34,
   "metadata": {},
   "outputs": [
    {
     "data": {
      "text/plain": [
       "(100,)"
      ]
     },
     "execution_count": 34,
     "metadata": {},
     "output_type": "execute_result"
    }
   ],
   "source": [
    "test.shape"
   ]
  },
  {
   "cell_type": "code",
   "execution_count": 35,
   "metadata": {},
   "outputs": [
    {
     "data": {
      "text/plain": [
       "(100,)"
      ]
     },
     "execution_count": 35,
     "metadata": {},
     "output_type": "execute_result"
    }
   ],
   "source": [
    "final_forecast.shape"
   ]
  },
  {
   "cell_type": "code",
   "execution_count": 36,
   "metadata": {},
   "outputs": [
    {
     "data": {
      "text/plain": [
       "(100,)"
      ]
     },
     "execution_count": 36,
     "metadata": {},
     "output_type": "execute_result"
    }
   ],
   "source": [
    "test.shape"
   ]
  },
  {
   "cell_type": "code",
   "execution_count": 37,
   "metadata": {},
   "outputs": [
    {
     "name": "stdout",
     "output_type": "stream",
     "text": [
      "38.970663205584344\n",
      "27.373757069440742\n"
     ]
    }
   ],
   "source": [
    "import math\n",
    "MSE = np.square(np.subtract(np.array(test),np.array(final_forecast))).mean()   \n",
    "rsme = math.sqrt(MSE)\n",
    "print(rsme)  \n",
    "MAE = np.abs(np.subtract(np.array(test),np.array(final_forecast))).mean()   \n",
    "mae = MAE\n",
    "print(mae)"
   ]
  }
 ],
 "metadata": {
  "colab": {
   "provenance": []
  },
  "kernelspec": {
   "display_name": "Python 3",
   "language": "python",
   "name": "python3"
  },
  "language_info": {
   "codemirror_mode": {
    "name": "ipython",
    "version": 3
   },
   "file_extension": ".py",
   "mimetype": "text/x-python",
   "name": "python",
   "nbconvert_exporter": "python",
   "pygments_lexer": "ipython3",
   "version": "3.9.13"
  }
 },
 "nbformat": 4,
 "nbformat_minor": 0
}
