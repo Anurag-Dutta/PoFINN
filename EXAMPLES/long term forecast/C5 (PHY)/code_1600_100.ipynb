{
 "cells": [
  {
   "cell_type": "markdown",
   "metadata": {
    "id": "pCGKeZ2gyuoQ"
   },
   "source": [
    "_Importing Required Libraries_"
   ]
  },
  {
   "cell_type": "code",
   "execution_count": 1,
   "metadata": {
    "colab": {
     "base_uri": "https://localhost:8080/"
    },
    "id": "A-6LN-zXiLcM",
    "outputId": "4de610a4-f8b8-4f49-c6c0-89de299ccedc"
   },
   "outputs": [
    {
     "name": "stdout",
     "output_type": "stream",
     "text": [
      "Requirement already satisfied: hampel in c:\\users\\anurag dutta\\appdata\\local\\packages\\pythonsoftwarefoundation.python.3.9_qbz5n2kfra8p0\\localcache\\local-packages\\python39\\site-packages (0.0.5)\n",
      "Requirement already satisfied: numpy in c:\\users\\anurag dutta\\appdata\\local\\packages\\pythonsoftwarefoundation.python.3.9_qbz5n2kfra8p0\\localcache\\local-packages\\python39\\site-packages (from hampel) (1.26.4)\n",
      "Requirement already satisfied: pandas in c:\\users\\anurag dutta\\appdata\\local\\packages\\pythonsoftwarefoundation.python.3.9_qbz5n2kfra8p0\\localcache\\local-packages\\python39\\site-packages (from hampel) (1.5.2)\n",
      "Requirement already satisfied: python-dateutil>=2.8.1 in c:\\users\\anurag dutta\\appdata\\local\\packages\\pythonsoftwarefoundation.python.3.9_qbz5n2kfra8p0\\localcache\\local-packages\\python39\\site-packages (from pandas->hampel) (2.8.2)\n",
      "Requirement already satisfied: pytz>=2020.1 in c:\\users\\anurag dutta\\appdata\\local\\packages\\pythonsoftwarefoundation.python.3.9_qbz5n2kfra8p0\\localcache\\local-packages\\python39\\site-packages (from pandas->hampel) (2023.3.post1)\n",
      "Requirement already satisfied: six>=1.5 in c:\\users\\anurag dutta\\appdata\\local\\packages\\pythonsoftwarefoundation.python.3.9_qbz5n2kfra8p0\\localcache\\local-packages\\python39\\site-packages (from python-dateutil>=2.8.1->pandas->hampel) (1.16.0)\n",
      "Note: you may need to restart the kernel to use updated packages.\n"
     ]
    },
    {
     "name": "stderr",
     "output_type": "stream",
     "text": [
      "\n",
      "[notice] A new release of pip is available: 24.2 -> 24.3.1\n",
      "[notice] To update, run: C:\\Users\\Anurag Dutta\\AppData\\Local\\Microsoft\\WindowsApps\\PythonSoftwareFoundation.Python.3.9_qbz5n2kfra8p0\\python.exe -m pip install --upgrade pip\n"
     ]
    }
   ],
   "source": [
    "pip install hampel"
   ]
  },
  {
   "cell_type": "code",
   "execution_count": 2,
   "metadata": {
    "id": "By_d9uXpaFvZ"
   },
   "outputs": [],
   "source": [
    "from keras.models import Sequential\n",
    "from keras.layers import Dense\n",
    "from keras.layers import LSTM\n",
    "from keras.layers import Dropout\n",
    "import keras\n",
    "import tensorflow as tf\n",
    "from hampel import hampel\n",
    "import numpy as np\n",
    "import matplotlib.pyplot as plt\n",
    "import pandas as pd\n",
    "from sklearn.preprocessing import MinMaxScaler\n",
    "from sklearn.metrics import mean_squared_error, mean_absolute_error\n",
    "from math import sqrt\n",
    "from matplotlib import pyplot\n",
    "from numpy import array"
   ]
  },
  {
   "cell_type": "markdown",
   "metadata": {
    "id": "JyOjBMFayuoR"
   },
   "source": [
    "## Pretraining"
   ]
  },
  {
   "cell_type": "markdown",
   "metadata": {
    "id": "-5QqIY_GyuoR"
   },
   "source": [
    "The `capa_intermittency.dat` feeds the model with the dynamics of the Capacitor"
   ]
  },
  {
   "cell_type": "code",
   "execution_count": 3,
   "metadata": {
    "id": "9dV4a8yfyuoR"
   },
   "outputs": [],
   "source": [
    "data = np.genfromtxt('capa_intermittency.dat')\n",
    "training_set = pd.DataFrame(data).reset_index(drop=True)\n",
    "training_set = training_set.iloc[:,0]"
   ]
  },
  {
   "cell_type": "markdown",
   "metadata": {
    "id": "i7easoxByuoR"
   },
   "source": [
    "## Computing the Gradient"
   ]
  },
  {
   "cell_type": "markdown",
   "metadata": {
    "id": "5SnyolJTyuoR"
   },
   "source": [
    "_Calculating the value of_ $\\frac{dx}{dt}$"
   ]
  },
  {
   "cell_type": "code",
   "execution_count": 4,
   "metadata": {
    "colab": {
     "base_uri": "https://localhost:8080/"
    },
    "id": "wmIbVfIvyuoR",
    "outputId": "aa4e3136-c854-465d-d2e9-81cfd546e440"
   },
   "outputs": [
    {
     "name": "stdout",
     "output_type": "stream",
     "text": [
      "1.0\n",
      "1        0.000298\n",
      "2        0.000298\n",
      "3        0.000297\n",
      "4        0.000297\n",
      "5        0.000297\n",
      "           ...   \n",
      "9996     0.000018\n",
      "9997     0.000018\n",
      "9998     0.000018\n",
      "9999     0.000018\n",
      "10000    0.000018\n",
      "Name: 0, Length: 10000, dtype: float64\n"
     ]
    }
   ],
   "source": [
    "t_diff = 1\n",
    "print(training_set.max())\n",
    "gradient_t = (training_set.diff()/t_diff).iloc[1:] # dx/dt\n",
    "print(gradient_t)"
   ]
  },
  {
   "cell_type": "markdown",
   "metadata": {
    "id": "_2eVeeoxyuoS"
   },
   "source": [
    "## Loading Datasets"
   ]
  },
  {
   "cell_type": "code",
   "execution_count": 5,
   "metadata": {
    "id": "0J-NKyIEyuoS"
   },
   "outputs": [
    {
     "data": {
      "text/plain": [
       "0       89.140000\n",
       "1       88.911429\n",
       "2       88.682857\n",
       "3       88.454286\n",
       "4       88.225714\n",
       "          ...    \n",
       "1695    65.809034\n",
       "1696    65.808100\n",
       "1697    65.807166\n",
       "1698    65.806232\n",
       "1699    65.805299\n",
       "Name: C5, Length: 1700, dtype: float64"
      ]
     },
     "execution_count": 5,
     "metadata": {},
     "output_type": "execute_result"
    }
   ],
   "source": [
    "data = pd.read_csv(\"c5_interpolated_1600_100.csv\")\n",
    "training_set = data.iloc[:, 1]\n",
    "training_set"
   ]
  },
  {
   "cell_type": "code",
   "execution_count": 6,
   "metadata": {
    "colab": {
     "base_uri": "https://localhost:8080/"
    },
    "id": "-CbNUhJ74UqF",
    "outputId": "20f562d8-8247-49cc-b9c3-00eca5e13e2d"
   },
   "outputs": [
    {
     "data": {
      "text/plain": [
       "0       89.140000\n",
       "1       88.911429\n",
       "2       88.682857\n",
       "3       88.454286\n",
       "4       88.225714\n",
       "          ...    \n",
       "1595     0.000000\n",
       "1596     0.000000\n",
       "1597     0.103676\n",
       "1598     0.000000\n",
       "1599     0.000000\n",
       "Name: C5, Length: 1600, dtype: float64"
      ]
     },
     "execution_count": 6,
     "metadata": {},
     "output_type": "execute_result"
    }
   ],
   "source": [
    "test = training_set.tail(100)\n",
    "test\n",
    "training_set = training_set.head(1600)\n",
    "training_set"
   ]
  },
  {
   "cell_type": "code",
   "execution_count": 7,
   "metadata": {
    "colab": {
     "base_uri": "https://localhost:8080/"
    },
    "id": "X0TwTcq0yuoS",
    "outputId": "37252ed8-d88e-4044-fa7a-922411990b5b"
   },
   "outputs": [
    {
     "name": "stdout",
     "output_type": "stream",
     "text": [
      "0       0.000298\n",
      "1       0.000298\n",
      "2       0.000297\n",
      "3       0.000297\n",
      "4       0.000297\n",
      "          ...   \n",
      "9995    0.000018\n",
      "9996    0.000018\n",
      "9997    0.000018\n",
      "9998    0.000018\n",
      "9999    0.000018\n",
      "Name: 0, Length: 10000, dtype: float64\n"
     ]
    }
   ],
   "source": [
    "training_set = training_set.reset_index(drop=True)\n",
    "gradient_t = gradient_t.reset_index(drop=True)\n",
    "print(gradient_t)"
   ]
  },
  {
   "cell_type": "code",
   "execution_count": 8,
   "metadata": {
    "id": "O2biznZQyuoS"
   },
   "outputs": [],
   "source": [
    "df = pd.concat((training_set, gradient_t), axis=1)\n",
    "df.columns = ['y_t', 'grad_t']"
   ]
  },
  {
   "cell_type": "code",
   "execution_count": 9,
   "metadata": {
    "colab": {
     "base_uri": "https://localhost:8080/",
     "height": 423
    },
    "id": "sk_a5v3tyuoS",
    "outputId": "17563625-e550-45ae-faab-fafa353e44da"
   },
   "outputs": [
    {
     "data": {
      "text/html": [
       "<div>\n",
       "<style scoped>\n",
       "    .dataframe tbody tr th:only-of-type {\n",
       "        vertical-align: middle;\n",
       "    }\n",
       "\n",
       "    .dataframe tbody tr th {\n",
       "        vertical-align: top;\n",
       "    }\n",
       "\n",
       "    .dataframe thead th {\n",
       "        text-align: right;\n",
       "    }\n",
       "</style>\n",
       "<table border=\"1\" class=\"dataframe\">\n",
       "  <thead>\n",
       "    <tr style=\"text-align: right;\">\n",
       "      <th></th>\n",
       "      <th>y_t</th>\n",
       "      <th>grad_t</th>\n",
       "    </tr>\n",
       "  </thead>\n",
       "  <tbody>\n",
       "    <tr>\n",
       "      <th>0</th>\n",
       "      <td>89.140000</td>\n",
       "      <td>0.000298</td>\n",
       "    </tr>\n",
       "    <tr>\n",
       "      <th>1</th>\n",
       "      <td>88.911429</td>\n",
       "      <td>0.000298</td>\n",
       "    </tr>\n",
       "    <tr>\n",
       "      <th>2</th>\n",
       "      <td>88.682857</td>\n",
       "      <td>0.000297</td>\n",
       "    </tr>\n",
       "    <tr>\n",
       "      <th>3</th>\n",
       "      <td>88.454286</td>\n",
       "      <td>0.000297</td>\n",
       "    </tr>\n",
       "    <tr>\n",
       "      <th>4</th>\n",
       "      <td>88.225714</td>\n",
       "      <td>0.000297</td>\n",
       "    </tr>\n",
       "    <tr>\n",
       "      <th>...</th>\n",
       "      <td>...</td>\n",
       "      <td>...</td>\n",
       "    </tr>\n",
       "    <tr>\n",
       "      <th>9995</th>\n",
       "      <td>NaN</td>\n",
       "      <td>0.000018</td>\n",
       "    </tr>\n",
       "    <tr>\n",
       "      <th>9996</th>\n",
       "      <td>NaN</td>\n",
       "      <td>0.000018</td>\n",
       "    </tr>\n",
       "    <tr>\n",
       "      <th>9997</th>\n",
       "      <td>NaN</td>\n",
       "      <td>0.000018</td>\n",
       "    </tr>\n",
       "    <tr>\n",
       "      <th>9998</th>\n",
       "      <td>NaN</td>\n",
       "      <td>0.000018</td>\n",
       "    </tr>\n",
       "    <tr>\n",
       "      <th>9999</th>\n",
       "      <td>NaN</td>\n",
       "      <td>0.000018</td>\n",
       "    </tr>\n",
       "  </tbody>\n",
       "</table>\n",
       "<p>10000 rows × 2 columns</p>\n",
       "</div>"
      ],
      "text/plain": [
       "            y_t    grad_t\n",
       "0     89.140000  0.000298\n",
       "1     88.911429  0.000298\n",
       "2     88.682857  0.000297\n",
       "3     88.454286  0.000297\n",
       "4     88.225714  0.000297\n",
       "...         ...       ...\n",
       "9995        NaN  0.000018\n",
       "9996        NaN  0.000018\n",
       "9997        NaN  0.000018\n",
       "9998        NaN  0.000018\n",
       "9999        NaN  0.000018\n",
       "\n",
       "[10000 rows x 2 columns]"
      ]
     },
     "execution_count": 9,
     "metadata": {},
     "output_type": "execute_result"
    }
   ],
   "source": [
    "df"
   ]
  },
  {
   "cell_type": "markdown",
   "metadata": {
    "id": "-5esyHu5aFvg"
   },
   "source": [
    "## Plot of the External Forcing from Chaotic Differential Equation"
   ]
  },
  {
   "cell_type": "code",
   "execution_count": 10,
   "metadata": {
    "colab": {
     "base_uri": "https://localhost:8080/",
     "height": 447
    },
    "id": "hGnE43tOh-4p",
    "outputId": "fc396503-b624-4fa5-dfbe-f460207405c6"
   },
   "outputs": [
    {
     "data": {
      "text/plain": [
       "<Axes: >"
      ]
     },
     "execution_count": 10,
     "metadata": {},
     "output_type": "execute_result"
    },
    {
     "data": {
      "image/png": "[encoded data removed]",
      "text/plain": [
       "<Figure size 432x288 with 1 Axes>"
      ]
     },
     "metadata": {
      "needs_background": "light"
     },
     "output_type": "display_data"
    }
   ],
   "source": [
    "df.iloc[:, 0].plot()"
   ]
  },
  {
   "cell_type": "code",
   "execution_count": 11,
   "metadata": {
    "colab": {
     "base_uri": "https://localhost:8080/",
     "height": 447
    },
    "id": "ym4xWUUxaFvg",
    "outputId": "ae6a3495-8ce9-437e-ba81-3ed31deedeae"
   },
   "outputs": [
    {
     "name": "stderr",
     "output_type": "stream",
     "text": [
      "C:\\Users\\Anurag Dutta\\AppData\\Local\\Packages\\PythonSoftwareFoundation.Python.3.9_qbz5n2kfra8p0\\LocalCache\\local-packages\\Python39\\site-packages\\pandas\\core\\arraylike.py:402: RuntimeWarning: divide by zero encountered in log\n",
      "  result = getattr(ufunc, method)(*inputs, **kwargs)\n"
     ]
    },
    {
     "data": {
      "text/plain": [
       "<Axes: >"
      ]
     },
     "execution_count": 11,
     "metadata": {},
     "output_type": "execute_result"
    },
    {
     "data": {
      "image/png": "[encoded data removed]",
      "text/plain": [
       "<Figure size 432x288 with 1 Axes>"
      ]
     },
     "metadata": {
      "needs_background": "light"
     },
     "output_type": "display_data"
    }
   ],
   "source": [
    "import numpy as np\n",
    "c0 = 86.8407  # Value for C0\n",
    "K0 = -0.0015  # Value for K0\n",
    "K1 = -0.0001  # Value for K1\n",
    "a = 0.0000    # Value for a\n",
    "b = 0.0118    # Value for b\n",
    "c = 2.5775    # Value for c\n",
    "\n",
    "L = np.minimum(c0, (df.iloc[:, 1] - (df.iloc[:, 0] * (K0 - K1 * (9 * a * np.log(df.iloc[:, 0] / c0) / (K0 - K1 * c)**2 + 4 * b * np.log(df.iloc[:, 0] / c0) / (K0 - K1 * c) + c)))))\n",
    "L.plot()"
   ]
  },
  {
   "cell_type": "markdown",
   "metadata": {
    "id": "9VyEywnwaFvh"
   },
   "source": [
    "## Preprocessing the data into supervised learning"
   ]
  },
  {
   "cell_type": "code",
   "execution_count": 12,
   "metadata": {
    "id": "6V9dXqzdaFvh"
   },
   "outputs": [],
   "source": [
    "# split a sequence into samples\n",
    "def Supervised(data, n_in=1, n_out=1, dropnan=True):\n",
    "    n_vars = 1 if type(data) is list else data.shape[1]\n",
    "    df = pd.DataFrame(data)\n",
    "    cols, names = list(), list()\n",
    "    # input sequence (t-n_in, ... t-1)\n",
    "    for i in range(n_in, 0, -1):\n",
    "        cols.append(df.shift(i))\n",
    "        names += [('var%d(t-%d)' % (j+1, i)) for j in range(n_vars)]\n",
    "    # forecast sequence (t, t+1, ... t+n_out)\n",
    "    for i in range(0, n_out):\n",
    "      cols.append(df.shift(-i))\n",
    "      if i == 0:\n",
    "        names += [('var%d(t)' % (j+1)) for j in range(n_vars)]\n",
    "      else:\n",
    "        names += [('var%d(t+%d)' % (j+1, i)) for j in range(n_vars)]\n",
    "    # put it all together\n",
    "    agg = pd.concat(cols, axis=1)\n",
    "    agg.columns = names\n",
    "    # drop rows with NaN values\n",
    "    if dropnan:\n",
    "       agg.dropna(inplace=True)\n",
    "    return agg"
   ]
  },
  {
   "cell_type": "code",
   "execution_count": 13,
   "metadata": {
    "colab": {
     "base_uri": "https://localhost:8080/"
    },
    "id": "CrzSrT1HnyfH",
    "outputId": "7e75f928-3e47-499d-eac1-51908015ef78"
   },
   "outputs": [
    {
     "name": "stdout",
     "output_type": "stream",
     "text": [
      "     var1(t-350)  var1(t-349)  var1(t-348)  var1(t-347)  var1(t-346)  \\\n",
      "350    89.140000    88.911429    88.682857    88.454286    88.225714   \n",
      "351    88.911429    88.682857    88.454286    88.225714    87.997143   \n",
      "352    88.682857    88.454286    88.225714    87.997143    87.768571   \n",
      "353    88.454286    88.225714    87.997143    87.768571    87.540000   \n",
      "354    88.225714    87.997143    87.768571    87.540000    87.311429   \n",
      "\n",
      "     var1(t-345)  var1(t-344)  var1(t-343)  var1(t-342)  var1(t-341)  ...  \\\n",
      "350    87.997143    87.768571    87.540000    87.311429    87.095798  ...   \n",
      "351    87.768571    87.540000    87.311429    87.095798    87.039776  ...   \n",
      "352    87.540000    87.311429    87.095798    87.039776    86.983754  ...   \n",
      "353    87.311429    87.095798    87.039776    86.983754    86.927731  ...   \n",
      "354    87.095798    87.039776    86.983754    86.927731    86.871709  ...   \n",
      "\n",
      "     var1(t+95)  var2(t+95)  var1(t+96)  var2(t+96)  var1(t+97)  var2(t+97)  \\\n",
      "350   79.161181    0.000263   79.132236    0.000263   79.103291    0.000263   \n",
      "351   79.132236    0.000263   79.103291    0.000263   79.074346    0.000262   \n",
      "352   79.103291    0.000263   79.074346    0.000262   79.045401    0.000262   \n",
      "353   79.074346    0.000262   79.045401    0.000262   79.016457    0.000262   \n",
      "354   79.045401    0.000262   79.016457    0.000262   78.987512    0.000262   \n",
      "\n",
      "     var1(t+98)  var2(t+98)  var1(t+99)  var2(t+99)  \n",
      "350   79.074346    0.000262   79.045401    0.000262  \n",
      "351   79.045401    0.000262   79.016457    0.000262  \n",
      "352   79.016457    0.000262   78.987512    0.000262  \n",
      "353   78.987512    0.000262   78.958567    0.000262  \n",
      "354   78.958567    0.000262   78.929622    0.000262  \n",
      "\n",
      "[5 rows x 551 columns]\n",
      "Index(['var1(t-350)', 'var1(t-349)', 'var1(t-348)', 'var1(t-347)',\n",
      "       'var1(t-346)', 'var1(t-345)', 'var1(t-344)', 'var1(t-343)',\n",
      "       'var1(t-342)', 'var1(t-341)',\n",
      "       ...\n",
      "       'var1(t+95)', 'var2(t+95)', 'var1(t+96)', 'var2(t+96)', 'var1(t+97)',\n",
      "       'var2(t+97)', 'var1(t+98)', 'var2(t+98)', 'var1(t+99)', 'var2(t+99)'],\n",
      "      dtype='object', length=551)\n"
     ]
    }
   ],
   "source": [
    "data = Supervised(df.values, n_in = 350, n_out = 100)\n",
    "\n",
    "\n",
    "cols_to_drop = []\n",
    "for i in range(2, 351):\n",
    "    cols_to_drop.extend([f'var2(t-{i})'])\n",
    "\n",
    "data.drop(cols_to_drop, axis=1, inplace=True)\n",
    "\n",
    "print(data.head())\n",
    "print(data.columns)"
   ]
  },
  {
   "cell_type": "code",
   "execution_count": 14,
   "metadata": {
    "id": "AfPf60oy6Pe4"
   },
   "outputs": [],
   "source": [
    "train = np.array(data[0:len(data)-1])\n",
    "forecast = np.array(data.tail(1))"
   ]
  },
  {
   "cell_type": "code",
   "execution_count": 15,
   "metadata": {
    "id": "WSAafzI37KiT"
   },
   "outputs": [],
   "source": [
    "trainy = train[:,-300:]\n",
    "trainX = train[:,:-300]"
   ]
  },
  {
   "cell_type": "code",
   "execution_count": 16,
   "metadata": {
    "id": "2SrOqVJA7f50"
   },
   "outputs": [],
   "source": [
    "forecasty = forecast[:,-300:]\n",
    "forecastX = forecast[:,:-300]"
   ]
  },
  {
   "cell_type": "code",
   "execution_count": 17,
   "metadata": {
    "colab": {
     "base_uri": "https://localhost:8080/"
    },
    "id": "Qno_k8Nw7saY",
    "outputId": "c4a88db5-d8c6-489f-cdb2-06b24e293cff"
   },
   "outputs": [
    {
     "name": "stdout",
     "output_type": "stream",
     "text": [
      "(1150, 1, 251) (1150, 300) (1, 1, 251)\n"
     ]
    }
   ],
   "source": [
    "trainX = trainX.reshape((trainX.shape[0], 1, trainX.shape[1]))\n",
    "forecastX = forecastX.reshape((forecastX.shape[0], 1, forecastX.shape[1]))\n",
    "print(trainX.shape, trainy.shape, forecastX.shape)"
   ]
  },
  {
   "cell_type": "code",
   "execution_count": 18,
   "metadata": {
    "colab": {
     "base_uri": "https://localhost:8080/"
    },
    "id": "b1Jp2DvNuNFx",
    "outputId": "d0e5b3c4-64f1-438c-eade-8dfeaac8e285"
   },
   "outputs": [
    {
     "name": "stdout",
     "output_type": "stream",
     "text": [
      "Epoch 1/500\n",
      "15/15 [==============================] - 2s 33ms/step - loss: 5453.7349 - val_loss: 4481.9238\n",
      "Epoch 2/500\n",
      "15/15 [==============================] - 0s 4ms/step - loss: 5317.8359 - val_loss: 4412.4048\n",
      "Epoch 3/500\n",
      "15/15 [==============================] - 0s 4ms/step - loss: 5242.5508 - val_loss: 4346.7773\n",
      "Epoch 4/500\n",
      "15/15 [==============================] - 0s 4ms/step - loss: 5171.0391 - val_loss: 4281.6743\n",
      "Epoch 5/500\n",
      "15/15 [==============================] - 0s 4ms/step - loss: 5100.2583 - val_loss: 4217.3926\n",
      "Epoch 6/500\n",
      "15/15 [==============================] - 0s 5ms/step - loss: 5030.3345 - val_loss: 4153.9229\n",
      "Epoch 7/500\n",
      "15/15 [==============================] - 0s 4ms/step - loss: 4961.2368 - val_loss: 4091.2297\n",
      "Epoch 8/500\n",
      "15/15 [==============================] - 0s 4ms/step - loss: 4882.7495 - val_loss: 4009.4990\n",
      "Epoch 9/500\n",
      "15/15 [==============================] - 0s 4ms/step - loss: 4802.2759 - val_loss: 3945.3359\n",
      "Epoch 10/500\n",
      "15/15 [==============================] - 0s 3ms/step - loss: 4732.3848 - val_loss: 3882.2559\n",
      "Epoch 11/500\n",
      "15/15 [==============================] - 0s 4ms/step - loss: 4663.6572 - val_loss: 3820.2441\n",
      "Epoch 12/500\n",
      "15/15 [==============================] - 0s 4ms/step - loss: 4595.9956 - val_loss: 3759.1836\n",
      "Epoch 13/500\n",
      "15/15 [==============================] - 0s 4ms/step - loss: 4529.2891 - val_loss: 3698.9929\n",
      "Epoch 14/500\n",
      "15/15 [==============================] - 0s 4ms/step - loss: 4463.4609 - val_loss: 3639.6162\n",
      "Epoch 15/500\n",
      "15/15 [==============================] - 0s 4ms/step - loss: 4398.4629 - val_loss: 3581.0178\n",
      "Epoch 16/500\n",
      "15/15 [==============================] - 0s 4ms/step - loss: 4334.2603 - val_loss: 3523.1711\n",
      "Epoch 17/500\n",
      "15/15 [==============================] - 0s 4ms/step - loss: 4270.8267 - val_loss: 3466.0540\n",
      "Epoch 18/500\n",
      "15/15 [==============================] - 0s 4ms/step - loss: 4208.1431 - val_loss: 3409.6521\n",
      "Epoch 19/500\n",
      "15/15 [==============================] - 0s 4ms/step - loss: 4146.1929 - val_loss: 3353.9509\n",
      "Epoch 20/500\n",
      "15/15 [==============================] - 0s 6ms/step - loss: 4084.9629 - val_loss: 3298.9382\n",
      "Epoch 21/500\n",
      "15/15 [==============================] - 0s 6ms/step - loss: 4024.4417 - val_loss: 3244.6042\n",
      "Epoch 22/500\n",
      "15/15 [==============================] - 0s 4ms/step - loss: 3964.6187 - val_loss: 3190.9395\n",
      "Epoch 23/500\n",
      "15/15 [==============================] - 0s 5ms/step - loss: 3905.4841 - val_loss: 3137.9355\n",
      "Epoch 24/500\n",
      "15/15 [==============================] - 0s 4ms/step - loss: 3847.0298 - val_loss: 3085.5840\n",
      "Epoch 25/500\n",
      "15/15 [==============================] - 0s 4ms/step - loss: 3789.2490 - val_loss: 3033.8789\n",
      "Epoch 26/500\n",
      "15/15 [==============================] - 0s 4ms/step - loss: 3732.1326 - val_loss: 2982.8123\n",
      "Epoch 27/500\n",
      "15/15 [==============================] - 0s 5ms/step - loss: 3675.6738 - val_loss: 2932.3767\n",
      "Epoch 28/500\n",
      "15/15 [==============================] - 0s 4ms/step - loss: 3619.8665 - val_loss: 2882.5669\n",
      "Epoch 29/500\n",
      "15/15 [==============================] - 0s 4ms/step - loss: 3564.7043 - val_loss: 2833.3767\n",
      "Epoch 30/500\n",
      "15/15 [==============================] - 0s 4ms/step - loss: 3510.1797 - val_loss: 2784.7988\n",
      "Epoch 31/500\n",
      "15/15 [==============================] - 0s 4ms/step - loss: 3456.2886 - val_loss: 2736.8289\n",
      "Epoch 32/500\n",
      "15/15 [==============================] - 0s 7ms/step - loss: 3403.0242 - val_loss: 2689.4607\n",
      "Epoch 33/500\n",
      "15/15 [==============================] - 0s 4ms/step - loss: 3350.3801 - val_loss: 2642.6890\n",
      "Epoch 34/500\n",
      "15/15 [==============================] - 0s 4ms/step - loss: 3298.3523 - val_loss: 2596.5073\n",
      "Epoch 35/500\n",
      "15/15 [==============================] - 0s 4ms/step - loss: 3246.9341 - val_loss: 2550.9119\n",
      "Epoch 36/500\n",
      "15/15 [==============================] - 0s 4ms/step - loss: 3196.1208 - val_loss: 2505.8960\n",
      "Epoch 37/500\n",
      "15/15 [==============================] - 0s 4ms/step - loss: 3145.9065 - val_loss: 2461.4565\n",
      "Epoch 38/500\n",
      "15/15 [==============================] - 0s 4ms/step - loss: 3096.2869 - val_loss: 2417.5862\n",
      "Epoch 39/500\n",
      "15/15 [==============================] - 0s 4ms/step - loss: 3047.2566 - val_loss: 2374.2810\n",
      "Epoch 40/500\n",
      "15/15 [==============================] - 0s 4ms/step - loss: 2998.8103 - val_loss: 2331.5361\n",
      "Epoch 41/500\n",
      "15/15 [==============================] - 0s 4ms/step - loss: 2950.9429 - val_loss: 2289.3459\n",
      "Epoch 42/500\n",
      "15/15 [==============================] - 0s 4ms/step - loss: 2903.6497 - val_loss: 2247.7063\n",
      "Epoch 43/500\n",
      "15/15 [==============================] - 0s 4ms/step - loss: 2856.9265 - val_loss: 2206.6135\n",
      "Epoch 44/500\n",
      "15/15 [==============================] - 0s 4ms/step - loss: 2810.7678 - val_loss: 2166.0601\n",
      "Epoch 45/500\n",
      "15/15 [==============================] - 0s 4ms/step - loss: 2765.1692 - val_loss: 2126.0420\n",
      "Epoch 46/500\n",
      "15/15 [==============================] - 0s 4ms/step - loss: 2720.1255 - val_loss: 2086.5566\n",
      "Epoch 47/500\n",
      "15/15 [==============================] - 0s 4ms/step - loss: 2675.6323 - val_loss: 2047.5984\n",
      "Epoch 48/500\n",
      "15/15 [==============================] - 0s 4ms/step - loss: 2631.6853 - val_loss: 2009.1624\n",
      "Epoch 49/500\n",
      "15/15 [==============================] - 0s 4ms/step - loss: 2588.2808 - val_loss: 1971.2440\n",
      "Epoch 50/500\n",
      "15/15 [==============================] - 0s 4ms/step - loss: 2545.4119 - val_loss: 1933.8389\n",
      "Epoch 51/500\n",
      "15/15 [==============================] - 0s 4ms/step - loss: 2503.0759 - val_loss: 1896.9430\n",
      "Epoch 52/500\n",
      "15/15 [==============================] - 0s 4ms/step - loss: 2461.2678 - val_loss: 1860.5511\n",
      "Epoch 53/500\n",
      "15/15 [==============================] - 0s 5ms/step - loss: 2419.9829 - val_loss: 1824.6595\n",
      "Epoch 54/500\n",
      "15/15 [==============================] - 0s 4ms/step - loss: 2379.2178 - val_loss: 1789.2637\n",
      "Epoch 55/500\n",
      "15/15 [==============================] - 0s 4ms/step - loss: 2338.9668 - val_loss: 1754.3594\n",
      "Epoch 56/500\n",
      "15/15 [==============================] - 0s 4ms/step - loss: 2299.2273 - val_loss: 1719.9415\n",
      "Epoch 57/500\n",
      "15/15 [==============================] - 0s 4ms/step - loss: 2259.9932 - val_loss: 1686.0070\n",
      "Epoch 58/500\n",
      "15/15 [==============================] - 0s 7ms/step - loss: 2221.2610 - val_loss: 1652.5504\n",
      "Epoch 59/500\n",
      "15/15 [==============================] - 0s 4ms/step - loss: 2183.0266 - val_loss: 1619.5684\n",
      "Epoch 60/500\n",
      "15/15 [==============================] - 0s 4ms/step - loss: 2145.2856 - val_loss: 1587.0566\n",
      "Epoch 61/500\n",
      "15/15 [==============================] - 0s 4ms/step - loss: 2108.0342 - val_loss: 1555.0100\n",
      "Epoch 62/500\n",
      "15/15 [==============================] - 0s 4ms/step - loss: 2071.2678 - val_loss: 1523.4263\n",
      "Epoch 63/500\n",
      "15/15 [==============================] - 0s 4ms/step - loss: 2034.9824 - val_loss: 1492.2996\n",
      "Epoch 64/500\n",
      "15/15 [==============================] - 0s 5ms/step - loss: 1999.1741 - val_loss: 1461.6263\n",
      "Epoch 65/500\n",
      "15/15 [==============================] - 0s 4ms/step - loss: 1963.8383 - val_loss: 1431.4027\n",
      "Epoch 66/500\n",
      "15/15 [==============================] - 0s 4ms/step - loss: 1928.9714 - val_loss: 1401.6245\n",
      "Epoch 67/500\n",
      "15/15 [==============================] - 0s 4ms/step - loss: 1894.5695 - val_loss: 1372.2877\n",
      "Epoch 68/500\n",
      "15/15 [==============================] - 0s 5ms/step - loss: 1860.6277 - val_loss: 1343.3878\n",
      "Epoch 69/500\n",
      "15/15 [==============================] - 0s 5ms/step - loss: 1827.1427 - val_loss: 1314.9220\n",
      "Epoch 70/500\n",
      "15/15 [==============================] - 0s 4ms/step - loss: 1794.1106 - val_loss: 1286.8850\n",
      "Epoch 71/500\n",
      "15/15 [==============================] - 0s 4ms/step - loss: 1761.5273 - val_loss: 1259.2732\n",
      "Epoch 72/500\n",
      "15/15 [==============================] - 0s 6ms/step - loss: 1729.3885 - val_loss: 1232.0834\n",
      "Epoch 73/500\n",
      "15/15 [==============================] - 0s 5ms/step - loss: 1697.6909 - val_loss: 1205.3108\n",
      "Epoch 74/500\n",
      "15/15 [==============================] - 0s 5ms/step - loss: 1666.4302 - val_loss: 1178.9519\n",
      "Epoch 75/500\n",
      "15/15 [==============================] - 0s 5ms/step - loss: 1635.6025 - val_loss: 1153.0024\n",
      "Epoch 76/500\n",
      "15/15 [==============================] - 0s 7ms/step - loss: 1605.2042 - val_loss: 1127.4590\n",
      "Epoch 77/500\n",
      "15/15 [==============================] - 0s 6ms/step - loss: 1575.2310 - val_loss: 1102.3174\n",
      "Epoch 78/500\n",
      "15/15 [==============================] - 0s 6ms/step - loss: 1545.6796 - val_loss: 1077.5746\n",
      "Epoch 79/500\n",
      "15/15 [==============================] - 0s 5ms/step - loss: 1516.5464 - val_loss: 1053.2258\n",
      "Epoch 80/500\n",
      "15/15 [==============================] - 0s 5ms/step - loss: 1487.8269 - val_loss: 1029.2677\n",
      "Epoch 81/500\n",
      "15/15 [==============================] - 0s 8ms/step - loss: 1459.5179 - val_loss: 1005.6967\n",
      "Epoch 82/500\n",
      "15/15 [==============================] - 0s 5ms/step - loss: 1431.6154 - val_loss: 982.5083\n",
      "Epoch 83/500\n",
      "15/15 [==============================] - 0s 4ms/step - loss: 1404.1155 - val_loss: 959.6994\n",
      "Epoch 84/500\n",
      "15/15 [==============================] - 0s 4ms/step - loss: 1377.0144 - val_loss: 937.2651\n",
      "Epoch 85/500\n",
      "15/15 [==============================] - 0s 4ms/step - loss: 1350.3085 - val_loss: 915.2033\n",
      "Epoch 86/500\n",
      "15/15 [==============================] - 0s 4ms/step - loss: 1323.9944 - val_loss: 893.5098\n",
      "Epoch 87/500\n",
      "15/15 [==============================] - 0s 5ms/step - loss: 1298.0684 - val_loss: 872.1807\n",
      "Epoch 88/500\n",
      "15/15 [==============================] - 0s 4ms/step - loss: 1272.5272 - val_loss: 851.2134\n",
      "Epoch 89/500\n",
      "15/15 [==============================] - 0s 4ms/step - loss: 1247.3667 - val_loss: 830.6017\n",
      "Epoch 90/500\n",
      "15/15 [==============================] - 0s 6ms/step - loss: 1222.5829 - val_loss: 810.3448\n",
      "Epoch 91/500\n",
      "15/15 [==============================] - 0s 4ms/step - loss: 1198.1731 - val_loss: 790.4373\n",
      "Epoch 92/500\n",
      "15/15 [==============================] - 0s 5ms/step - loss: 1174.1334 - val_loss: 770.8758\n",
      "Epoch 93/500\n",
      "15/15 [==============================] - 0s 6ms/step - loss: 1150.4596 - val_loss: 751.6575\n",
      "Epoch 94/500\n",
      "15/15 [==============================] - 0s 5ms/step - loss: 1127.1486 - val_loss: 732.7777\n",
      "Epoch 95/500\n",
      "15/15 [==============================] - 0s 6ms/step - loss: 1104.1973 - val_loss: 714.2336\n",
      "Epoch 96/500\n",
      "15/15 [==============================] - 0s 6ms/step - loss: 1081.6013 - val_loss: 696.0226\n",
      "Epoch 97/500\n",
      "15/15 [==============================] - 0s 9ms/step - loss: 1059.3579 - val_loss: 678.1386\n",
      "Epoch 98/500\n",
      "15/15 [==============================] - 0s 9ms/step - loss: 1037.4631 - val_loss: 660.5801\n",
      "Epoch 99/500\n",
      "15/15 [==============================] - 0s 6ms/step - loss: 1015.9136 - val_loss: 643.3427\n",
      "Epoch 100/500\n",
      "15/15 [==============================] - 0s 6ms/step - loss: 994.7060 - val_loss: 626.4247\n",
      "Epoch 101/500\n",
      "15/15 [==============================] - 0s 5ms/step - loss: 973.8368 - val_loss: 609.8199\n",
      "Epoch 102/500\n",
      "15/15 [==============================] - 0s 5ms/step - loss: 953.3026 - val_loss: 593.5265\n",
      "Epoch 103/500\n",
      "15/15 [==============================] - 0s 5ms/step - loss: 933.0995 - val_loss: 577.5410\n",
      "Epoch 104/500\n",
      "15/15 [==============================] - 0s 7ms/step - loss: 913.2250 - val_loss: 561.8585\n",
      "Epoch 105/500\n",
      "15/15 [==============================] - 0s 5ms/step - loss: 891.9858 - val_loss: 542.2933\n",
      "Epoch 106/500\n",
      "15/15 [==============================] - 0s 5ms/step - loss: 867.6077 - val_loss: 524.3054\n",
      "Epoch 107/500\n",
      "15/15 [==============================] - 0s 4ms/step - loss: 845.2477 - val_loss: 507.1367\n",
      "Epoch 108/500\n",
      "15/15 [==============================] - 0s 5ms/step - loss: 823.8724 - val_loss: 490.7539\n",
      "Epoch 109/500\n",
      "15/15 [==============================] - 0s 4ms/step - loss: 803.3430 - val_loss: 475.0132\n",
      "Epoch 110/500\n",
      "15/15 [==============================] - 0s 4ms/step - loss: 783.5055 - val_loss: 459.8156\n",
      "Epoch 111/500\n",
      "15/15 [==============================] - 0s 4ms/step - loss: 764.2572 - val_loss: 445.0981\n",
      "Epoch 112/500\n",
      "15/15 [==============================] - 0s 4ms/step - loss: 745.5324 - val_loss: 430.8166\n",
      "Epoch 113/500\n",
      "15/15 [==============================] - 0s 4ms/step - loss: 727.2847 - val_loss: 416.9404\n",
      "Epoch 114/500\n",
      "15/15 [==============================] - 0s 4ms/step - loss: 709.4812 - val_loss: 403.4453\n",
      "Epoch 115/500\n",
      "15/15 [==============================] - 0s 4ms/step - loss: 692.0963 - val_loss: 390.3131\n",
      "Epoch 116/500\n",
      "15/15 [==============================] - 0s 4ms/step - loss: 675.1097 - val_loss: 377.5288\n",
      "Epoch 117/500\n",
      "15/15 [==============================] - 0s 4ms/step - loss: 658.5047 - val_loss: 365.0784\n",
      "Epoch 118/500\n",
      "15/15 [==============================] - 0s 4ms/step - loss: 642.2673 - val_loss: 352.9509\n",
      "Epoch 119/500\n",
      "15/15 [==============================] - 0s 4ms/step - loss: 626.3847 - val_loss: 341.1370\n",
      "Epoch 120/500\n",
      "15/15 [==============================] - 0s 4ms/step - loss: 610.8468 - val_loss: 329.6266\n",
      "Epoch 121/500\n",
      "15/15 [==============================] - 0s 4ms/step - loss: 595.6436 - val_loss: 318.4132\n",
      "Epoch 122/500\n",
      "15/15 [==============================] - 0s 5ms/step - loss: 580.7667 - val_loss: 307.4877\n",
      "Epoch 123/500\n",
      "15/15 [==============================] - 0s 5ms/step - loss: 566.2073 - val_loss: 296.8439\n",
      "Epoch 124/500\n",
      "15/15 [==============================] - 0s 5ms/step - loss: 551.9590 - val_loss: 286.4754\n",
      "Epoch 125/500\n",
      "15/15 [==============================] - 0s 6ms/step - loss: 538.0143 - val_loss: 276.3757\n",
      "Epoch 126/500\n",
      "15/15 [==============================] - 0s 14ms/step - loss: 524.3669 - val_loss: 266.5392\n",
      "Epoch 127/500\n",
      "15/15 [==============================] - 0s 5ms/step - loss: 511.0109 - val_loss: 256.9606\n",
      "Epoch 128/500\n",
      "15/15 [==============================] - 0s 5ms/step - loss: 497.9402 - val_loss: 247.6342\n",
      "Epoch 129/500\n",
      "15/15 [==============================] - 0s 5ms/step - loss: 485.1490 - val_loss: 238.5548\n",
      "Epoch 130/500\n",
      "15/15 [==============================] - 0s 4ms/step - loss: 472.6323 - val_loss: 229.7180\n",
      "Epoch 131/500\n",
      "15/15 [==============================] - 0s 4ms/step - loss: 460.3852 - val_loss: 221.1187\n",
      "Epoch 132/500\n",
      "15/15 [==============================] - 0s 5ms/step - loss: 448.4025 - val_loss: 212.7527\n",
      "Epoch 133/500\n",
      "15/15 [==============================] - 0s 5ms/step - loss: 436.6795 - val_loss: 204.6146\n",
      "Epoch 134/500\n",
      "15/15 [==============================] - 0s 5ms/step - loss: 425.2111 - val_loss: 196.7008\n",
      "Epoch 135/500\n",
      "15/15 [==============================] - 0s 5ms/step - loss: 413.9935 - val_loss: 189.0069\n",
      "Epoch 136/500\n",
      "15/15 [==============================] - 0s 5ms/step - loss: 403.0219 - val_loss: 181.5284\n",
      "Epoch 137/500\n",
      "15/15 [==============================] - 0s 4ms/step - loss: 392.2922 - val_loss: 174.2620\n",
      "Epoch 138/500\n",
      "15/15 [==============================] - 0s 5ms/step - loss: 381.8004 - val_loss: 167.2024\n",
      "Epoch 139/500\n",
      "15/15 [==============================] - 0s 4ms/step - loss: 371.5419 - val_loss: 160.3466\n",
      "Epoch 140/500\n",
      "15/15 [==============================] - 0s 4ms/step - loss: 361.5128 - val_loss: 153.6911\n",
      "Epoch 141/500\n",
      "15/15 [==============================] - 0s 4ms/step - loss: 351.7095 - val_loss: 147.2314\n",
      "Epoch 142/500\n",
      "15/15 [==============================] - 0s 4ms/step - loss: 342.1281 - val_loss: 140.9634\n",
      "Epoch 143/500\n",
      "15/15 [==============================] - 0s 4ms/step - loss: 332.7643 - val_loss: 134.8840\n",
      "Epoch 144/500\n",
      "15/15 [==============================] - 0s 4ms/step - loss: 323.6148 - val_loss: 128.9897\n",
      "Epoch 145/500\n",
      "15/15 [==============================] - 0s 4ms/step - loss: 314.6759 - val_loss: 123.2769\n",
      "Epoch 146/500\n",
      "15/15 [==============================] - 0s 4ms/step - loss: 305.9440 - val_loss: 117.7418\n",
      "Epoch 147/500\n",
      "15/15 [==============================] - 0s 4ms/step - loss: 297.4155 - val_loss: 112.3811\n",
      "Epoch 148/500\n",
      "15/15 [==============================] - 0s 4ms/step - loss: 289.0869 - val_loss: 107.1913\n",
      "Epoch 149/500\n",
      "15/15 [==============================] - 0s 4ms/step - loss: 280.9548 - val_loss: 102.1695\n",
      "Epoch 150/500\n",
      "15/15 [==============================] - 0s 4ms/step - loss: 273.0159 - val_loss: 97.3115\n",
      "Epoch 151/500\n",
      "15/15 [==============================] - 0s 5ms/step - loss: 265.2664 - val_loss: 92.6145\n",
      "Epoch 152/500\n",
      "15/15 [==============================] - 0s 4ms/step - loss: 257.7033 - val_loss: 88.0754\n",
      "Epoch 153/500\n",
      "15/15 [==============================] - 0s 4ms/step - loss: 250.3233 - val_loss: 83.6904\n",
      "Epoch 154/500\n",
      "15/15 [==============================] - 0s 4ms/step - loss: 243.1231 - val_loss: 79.4568\n",
      "Epoch 155/500\n",
      "15/15 [==============================] - 0s 6ms/step - loss: 236.0994 - val_loss: 75.3715\n",
      "Epoch 156/500\n",
      "15/15 [==============================] - 0s 8ms/step - loss: 229.2492 - val_loss: 71.4311\n",
      "Epoch 157/500\n",
      "15/15 [==============================] - 0s 6ms/step - loss: 222.5697 - val_loss: 67.6329\n",
      "Epoch 158/500\n",
      "15/15 [==============================] - 0s 5ms/step - loss: 216.0571 - val_loss: 63.9737\n",
      "Epoch 159/500\n",
      "15/15 [==============================] - 0s 6ms/step - loss: 209.7090 - val_loss: 60.4504\n",
      "Epoch 160/500\n",
      "15/15 [==============================] - 0s 6ms/step - loss: 203.5219 - val_loss: 57.0600\n",
      "Epoch 161/500\n",
      "15/15 [==============================] - 0s 6ms/step - loss: 197.4930 - val_loss: 53.7996\n",
      "Epoch 162/500\n",
      "15/15 [==============================] - 0s 6ms/step - loss: 191.6193 - val_loss: 50.6666\n",
      "Epoch 163/500\n",
      "15/15 [==============================] - 0s 5ms/step - loss: 185.8981 - val_loss: 47.6575\n",
      "Epoch 164/500\n",
      "15/15 [==============================] - 0s 5ms/step - loss: 180.3263 - val_loss: 44.7700\n",
      "Epoch 165/500\n",
      "15/15 [==============================] - 0s 5ms/step - loss: 174.9011 - val_loss: 42.0013\n",
      "Epoch 166/500\n",
      "15/15 [==============================] - 0s 6ms/step - loss: 169.6197 - val_loss: 39.3485\n",
      "Epoch 167/500\n",
      "15/15 [==============================] - 0s 4ms/step - loss: 164.4794 - val_loss: 36.8089\n",
      "Epoch 168/500\n",
      "15/15 [==============================] - 0s 4ms/step - loss: 159.4773 - val_loss: 34.3796\n",
      "Epoch 169/500\n",
      "15/15 [==============================] - 0s 5ms/step - loss: 154.6107 - val_loss: 32.0581\n",
      "Epoch 170/500\n",
      "15/15 [==============================] - 0s 5ms/step - loss: 149.8768 - val_loss: 29.8418\n",
      "Epoch 171/500\n",
      "15/15 [==============================] - 0s 7ms/step - loss: 145.2732 - val_loss: 27.7280\n",
      "Epoch 172/500\n",
      "15/15 [==============================] - 0s 6ms/step - loss: 140.7971 - val_loss: 25.7140\n",
      "Epoch 173/500\n",
      "15/15 [==============================] - 0s 5ms/step - loss: 136.4459 - val_loss: 23.7976\n",
      "Epoch 174/500\n",
      "15/15 [==============================] - 0s 5ms/step - loss: 132.2172 - val_loss: 21.9760\n",
      "Epoch 175/500\n",
      "15/15 [==============================] - 0s 5ms/step - loss: 128.1081 - val_loss: 20.2468\n",
      "Epoch 176/500\n",
      "15/15 [==============================] - 0s 4ms/step - loss: 124.1165 - val_loss: 18.6076\n",
      "Epoch 177/500\n",
      "15/15 [==============================] - 0s 4ms/step - loss: 120.2397 - val_loss: 17.0560\n",
      "Epoch 178/500\n",
      "15/15 [==============================] - 0s 8ms/step - loss: 116.4752 - val_loss: 15.5893\n",
      "Epoch 179/500\n",
      "15/15 [==============================] - 0s 4ms/step - loss: 112.8206 - val_loss: 14.2056\n",
      "Epoch 180/500\n",
      "15/15 [==============================] - 0s 4ms/step - loss: 109.2736 - val_loss: 12.9022\n",
      "Epoch 181/500\n",
      "15/15 [==============================] - 0s 4ms/step - loss: 105.8318 - val_loss: 11.6771\n",
      "Epoch 182/500\n",
      "15/15 [==============================] - 0s 5ms/step - loss: 102.4928 - val_loss: 10.5278\n",
      "Epoch 183/500\n",
      "15/15 [==============================] - 0s 6ms/step - loss: 99.2545 - val_loss: 9.4521\n",
      "Epoch 184/500\n",
      "15/15 [==============================] - 0s 4ms/step - loss: 96.1144 - val_loss: 8.4481\n",
      "Epoch 185/500\n",
      "15/15 [==============================] - 0s 4ms/step - loss: 93.0704 - val_loss: 7.5131\n",
      "Epoch 186/500\n",
      "15/15 [==============================] - 0s 5ms/step - loss: 90.1200 - val_loss: 6.6455\n",
      "Epoch 187/500\n",
      "15/15 [==============================] - 0s 4ms/step - loss: 87.2615 - val_loss: 5.8428\n",
      "Epoch 188/500\n",
      "15/15 [==============================] - 0s 4ms/step - loss: 84.4923 - val_loss: 5.1032\n",
      "Epoch 189/500\n",
      "15/15 [==============================] - 0s 5ms/step - loss: 81.8105 - val_loss: 4.4245\n",
      "Epoch 190/500\n",
      "15/15 [==============================] - 0s 5ms/step - loss: 79.2140 - val_loss: 3.8048\n",
      "Epoch 191/500\n",
      "15/15 [==============================] - 0s 5ms/step - loss: 76.7007 - val_loss: 3.2420\n",
      "Epoch 192/500\n",
      "15/15 [==============================] - 0s 5ms/step - loss: 74.2686 - val_loss: 2.7343\n",
      "Epoch 193/500\n",
      "15/15 [==============================] - 0s 5ms/step - loss: 71.9154 - val_loss: 2.2796\n",
      "Epoch 194/500\n",
      "15/15 [==============================] - 0s 5ms/step - loss: 69.6397 - val_loss: 1.8762\n",
      "Epoch 195/500\n",
      "15/15 [==============================] - 0s 6ms/step - loss: 67.4393 - val_loss: 1.5222\n",
      "Epoch 196/500\n",
      "15/15 [==============================] - 0s 5ms/step - loss: 65.3119 - val_loss: 1.2158\n",
      "Epoch 197/500\n",
      "15/15 [==============================] - 0s 11ms/step - loss: 63.2561 - val_loss: 0.9551\n",
      "Epoch 198/500\n",
      "15/15 [==============================] - 0s 6ms/step - loss: 61.2698 - val_loss: 0.7385\n",
      "Epoch 199/500\n",
      "15/15 [==============================] - 0s 5ms/step - loss: 59.3513 - val_loss: 0.5643\n",
      "Epoch 200/500\n",
      "15/15 [==============================] - 0s 6ms/step - loss: 57.4987 - val_loss: 0.4307\n",
      "Epoch 201/500\n",
      "15/15 [==============================] - 0s 6ms/step - loss: 55.7104 - val_loss: 0.3361\n",
      "Epoch 202/500\n",
      "15/15 [==============================] - 0s 5ms/step - loss: 53.9844 - val_loss: 0.2789\n",
      "Epoch 203/500\n",
      "15/15 [==============================] - 0s 5ms/step - loss: 52.3192 - val_loss: 0.2575\n",
      "Epoch 204/500\n",
      "15/15 [==============================] - 0s 4ms/step - loss: 50.7130 - val_loss: 0.2704\n",
      "Epoch 205/500\n",
      "15/15 [==============================] - 0s 5ms/step - loss: 49.1641 - val_loss: 0.3160\n",
      "Epoch 206/500\n",
      "15/15 [==============================] - 0s 4ms/step - loss: 47.6712 - val_loss: 0.3929\n",
      "Epoch 207/500\n",
      "15/15 [==============================] - 0s 4ms/step - loss: 46.2325 - val_loss: 0.4995\n",
      "Epoch 208/500\n",
      "15/15 [==============================] - 0s 5ms/step - loss: 44.8464 - val_loss: 0.6346\n",
      "Epoch 209/500\n",
      "15/15 [==============================] - 0s 5ms/step - loss: 43.5114 - val_loss: 0.7966\n",
      "Epoch 210/500\n",
      "15/15 [==============================] - 0s 5ms/step - loss: 42.2260 - val_loss: 0.9842\n",
      "Epoch 211/500\n",
      "15/15 [==============================] - 0s 5ms/step - loss: 40.9887 - val_loss: 1.1962\n",
      "Epoch 212/500\n",
      "15/15 [==============================] - 0s 9ms/step - loss: 39.7981 - val_loss: 1.4312\n",
      "Epoch 213/500\n",
      "15/15 [==============================] - 0s 6ms/step - loss: 38.6528 - val_loss: 1.6879\n",
      "Epoch 214/500\n",
      "15/15 [==============================] - 0s 5ms/step - loss: 37.5514 - val_loss: 1.9652\n",
      "Epoch 215/500\n",
      "15/15 [==============================] - 0s 8ms/step - loss: 36.4925 - val_loss: 2.2618\n",
      "Epoch 216/500\n",
      "15/15 [==============================] - 0s 4ms/step - loss: 35.4747 - val_loss: 2.5766\n",
      "Epoch 217/500\n",
      "15/15 [==============================] - 0s 5ms/step - loss: 34.4970 - val_loss: 2.9084\n",
      "Epoch 218/500\n",
      "15/15 [==============================] - 0s 4ms/step - loss: 33.5579 - val_loss: 3.2561\n",
      "Epoch 219/500\n",
      "15/15 [==============================] - 0s 4ms/step - loss: 32.6561 - val_loss: 3.6187\n",
      "Epoch 220/500\n",
      "15/15 [==============================] - 0s 4ms/step - loss: 31.7905 - val_loss: 3.9951\n",
      "Epoch 221/500\n",
      "15/15 [==============================] - 0s 4ms/step - loss: 30.9600 - val_loss: 4.3843\n",
      "Epoch 222/500\n",
      "15/15 [==============================] - 0s 5ms/step - loss: 30.1632 - val_loss: 4.7854\n",
      "Epoch 223/500\n",
      "15/15 [==============================] - 0s 5ms/step - loss: 29.3991 - val_loss: 5.1972\n",
      "Epoch 224/500\n",
      "15/15 [==============================] - 0s 5ms/step - loss: 28.6667 - val_loss: 5.6191\n",
      "Epoch 225/500\n",
      "15/15 [==============================] - 0s 5ms/step - loss: 27.9647 - val_loss: 6.0500\n",
      "Epoch 226/500\n",
      "15/15 [==============================] - 0s 6ms/step - loss: 27.2922 - val_loss: 6.4892\n",
      "Epoch 227/500\n",
      "15/15 [==============================] - 0s 5ms/step - loss: 26.6482 - val_loss: 6.9356\n",
      "Epoch 228/500\n",
      "15/15 [==============================] - 0s 5ms/step - loss: 26.0316 - val_loss: 7.3887\n",
      "Epoch 229/500\n",
      "15/15 [==============================] - 0s 4ms/step - loss: 25.4414 - val_loss: 7.8475\n",
      "Epoch 230/500\n",
      "15/15 [==============================] - 0s 4ms/step - loss: 24.8767 - val_loss: 8.3113\n",
      "Epoch 231/500\n",
      "15/15 [==============================] - 0s 5ms/step - loss: 24.3366 - val_loss: 8.7795\n",
      "Epoch 232/500\n",
      "15/15 [==============================] - 0s 5ms/step - loss: 23.8202 - val_loss: 9.2511\n",
      "Epoch 233/500\n",
      "15/15 [==============================] - 0s 4ms/step - loss: 23.3267 - val_loss: 9.7258\n",
      "Epoch 234/500\n",
      "15/15 [==============================] - 0s 5ms/step - loss: 22.8550 - val_loss: 10.2029\n",
      "Epoch 235/500\n",
      "15/15 [==============================] - 0s 4ms/step - loss: 22.4045 - val_loss: 10.6815\n",
      "Epoch 236/500\n",
      "15/15 [==============================] - 0s 8ms/step - loss: 21.9743 - val_loss: 11.1612\n",
      "Epoch 237/500\n",
      "15/15 [==============================] - 0s 5ms/step - loss: 21.5637 - val_loss: 11.6415\n",
      "Epoch 238/500\n",
      "15/15 [==============================] - 0s 5ms/step - loss: 21.1718 - val_loss: 12.1217\n",
      "Epoch 239/500\n",
      "15/15 [==============================] - 0s 5ms/step - loss: 20.7980 - val_loss: 12.6014\n",
      "Epoch 240/500\n",
      "15/15 [==============================] - 0s 5ms/step - loss: 20.4416 - val_loss: 13.0801\n",
      "Epoch 241/500\n",
      "15/15 [==============================] - 0s 5ms/step - loss: 20.1017 - val_loss: 13.5573\n",
      "Epoch 242/500\n",
      "15/15 [==============================] - 0s 7ms/step - loss: 19.7778 - val_loss: 14.0324\n",
      "Epoch 243/500\n",
      "15/15 [==============================] - 0s 6ms/step - loss: 19.4694 - val_loss: 14.5055\n",
      "Epoch 244/500\n",
      "15/15 [==============================] - 0s 5ms/step - loss: 19.1755 - val_loss: 14.9755\n",
      "Epoch 245/500\n",
      "15/15 [==============================] - 0s 5ms/step - loss: 18.8958 - val_loss: 15.4424\n",
      "Epoch 246/500\n",
      "15/15 [==============================] - 0s 4ms/step - loss: 18.6296 - val_loss: 15.9057\n",
      "Epoch 247/500\n",
      "15/15 [==============================] - 0s 5ms/step - loss: 18.3763 - val_loss: 16.3652\n",
      "Epoch 248/500\n",
      "15/15 [==============================] - 0s 5ms/step - loss: 18.1354 - val_loss: 16.8206\n",
      "Epoch 249/500\n",
      "15/15 [==============================] - 0s 5ms/step - loss: 17.9064 - val_loss: 17.2714\n",
      "Epoch 250/500\n",
      "15/15 [==============================] - 0s 4ms/step - loss: 17.6887 - val_loss: 17.7175\n",
      "Epoch 251/500\n",
      "15/15 [==============================] - 0s 4ms/step - loss: 17.4818 - val_loss: 18.1586\n",
      "Epoch 252/500\n",
      "15/15 [==============================] - 0s 5ms/step - loss: 17.2853 - val_loss: 18.5945\n",
      "Epoch 253/500\n",
      "15/15 [==============================] - 0s 5ms/step - loss: 17.0986 - val_loss: 19.0248\n",
      "Epoch 254/500\n",
      "15/15 [==============================] - 0s 5ms/step - loss: 16.9215 - val_loss: 19.4495\n",
      "Epoch 255/500\n",
      "15/15 [==============================] - 0s 5ms/step - loss: 16.7534 - val_loss: 19.8683\n",
      "Epoch 256/500\n",
      "15/15 [==============================] - 0s 7ms/step - loss: 16.5939 - val_loss: 20.2808\n",
      "Epoch 257/500\n",
      "15/15 [==============================] - 0s 4ms/step - loss: 16.4427 - val_loss: 20.6873\n",
      "Epoch 258/500\n",
      "15/15 [==============================] - 0s 4ms/step - loss: 16.2993 - val_loss: 21.0871\n",
      "Epoch 259/500\n",
      "15/15 [==============================] - 0s 4ms/step - loss: 16.1634 - val_loss: 21.4806\n",
      "Epoch 260/500\n",
      "15/15 [==============================] - 0s 4ms/step - loss: 16.0346 - val_loss: 21.8675\n",
      "Epoch 261/500\n",
      "15/15 [==============================] - 0s 4ms/step - loss: 15.9126 - val_loss: 22.2474\n",
      "Epoch 262/500\n",
      "15/15 [==============================] - 0s 4ms/step - loss: 15.7970 - val_loss: 22.6208\n",
      "Epoch 263/500\n",
      "15/15 [==============================] - 0s 4ms/step - loss: 15.6877 - val_loss: 22.9870\n",
      "Epoch 264/500\n",
      "15/15 [==============================] - 0s 4ms/step - loss: 15.5842 - val_loss: 23.3463\n",
      "Epoch 265/500\n",
      "15/15 [==============================] - 0s 4ms/step - loss: 15.4862 - val_loss: 23.6985\n",
      "Epoch 266/500\n",
      "15/15 [==============================] - 0s 4ms/step - loss: 15.3936 - val_loss: 24.0438\n",
      "Epoch 267/500\n",
      "15/15 [==============================] - 0s 4ms/step - loss: 15.3059 - val_loss: 24.3819\n",
      "Epoch 268/500\n",
      "15/15 [==============================] - 0s 4ms/step - loss: 15.2231 - val_loss: 24.7129\n",
      "Epoch 269/500\n",
      "15/15 [==============================] - 0s 6ms/step - loss: 15.1448 - val_loss: 25.0367\n",
      "Epoch 270/500\n",
      "15/15 [==============================] - 0s 5ms/step - loss: 15.0708 - val_loss: 25.3531\n",
      "Epoch 271/500\n",
      "15/15 [==============================] - 0s 5ms/step - loss: 15.0009 - val_loss: 25.6628\n",
      "Epoch 272/500\n",
      "15/15 [==============================] - 0s 5ms/step - loss: 14.9348 - val_loss: 25.9649\n",
      "Epoch 273/500\n",
      "15/15 [==============================] - 0s 5ms/step - loss: 14.8726 - val_loss: 26.2603\n",
      "Epoch 274/500\n",
      "15/15 [==============================] - 0s 9ms/step - loss: 14.8137 - val_loss: 26.5485\n",
      "Epoch 275/500\n",
      "15/15 [==============================] - 0s 5ms/step - loss: 14.7581 - val_loss: 26.8294\n",
      "Epoch 276/500\n",
      "15/15 [==============================] - 0s 5ms/step - loss: 14.7057 - val_loss: 27.1037\n",
      "Epoch 277/500\n",
      "15/15 [==============================] - 0s 5ms/step - loss: 14.6562 - val_loss: 27.3708\n",
      "Epoch 278/500\n",
      "15/15 [==============================] - 0s 5ms/step - loss: 14.6096 - val_loss: 27.6310\n",
      "Epoch 279/500\n",
      "15/15 [==============================] - 0s 5ms/step - loss: 14.5656 - val_loss: 27.8843\n",
      "Epoch 280/500\n",
      "15/15 [==============================] - 0s 5ms/step - loss: 14.5241 - val_loss: 28.1309\n",
      "Epoch 281/500\n",
      "15/15 [==============================] - 0s 4ms/step - loss: 14.4849 - val_loss: 28.3709\n",
      "Epoch 282/500\n",
      "15/15 [==============================] - 0s 5ms/step - loss: 14.4481 - val_loss: 28.6042\n",
      "Epoch 283/500\n",
      "15/15 [==============================] - 0s 4ms/step - loss: 14.4133 - val_loss: 28.8310\n",
      "Epoch 284/500\n",
      "15/15 [==============================] - 0s 4ms/step - loss: 14.3805 - val_loss: 29.0512\n",
      "Epoch 285/500\n",
      "15/15 [==============================] - 0s 4ms/step - loss: 14.3497 - val_loss: 29.2653\n",
      "Epoch 286/500\n",
      "15/15 [==============================] - 0s 4ms/step - loss: 14.3206 - val_loss: 29.4730\n",
      "Epoch 287/500\n",
      "15/15 [==============================] - 0s 4ms/step - loss: 14.2932 - val_loss: 29.6745\n",
      "Epoch 288/500\n",
      "15/15 [==============================] - 0s 4ms/step - loss: 14.2674 - val_loss: 29.8699\n",
      "Epoch 289/500\n",
      "15/15 [==============================] - 0s 4ms/step - loss: 14.2431 - val_loss: 30.0595\n",
      "Epoch 290/500\n",
      "15/15 [==============================] - 0s 5ms/step - loss: 14.2202 - val_loss: 30.2430\n",
      "Epoch 291/500\n",
      "15/15 [==============================] - 0s 7ms/step - loss: 14.1987 - val_loss: 30.4207\n",
      "Epoch 292/500\n",
      "15/15 [==============================] - 0s 5ms/step - loss: 14.1784 - val_loss: 30.5930\n",
      "Epoch 293/500\n",
      "15/15 [==============================] - 0s 8ms/step - loss: 14.1593 - val_loss: 30.7597\n",
      "Epoch 294/500\n",
      "15/15 [==============================] - 0s 5ms/step - loss: 14.1413 - val_loss: 30.9210\n",
      "Epoch 295/500\n",
      "15/15 [==============================] - 0s 4ms/step - loss: 14.1244 - val_loss: 31.0769\n",
      "Epoch 296/500\n",
      "15/15 [==============================] - 0s 5ms/step - loss: 14.1085 - val_loss: 31.2277\n",
      "Epoch 297/500\n",
      "15/15 [==============================] - 0s 5ms/step - loss: 14.0935 - val_loss: 31.3734\n",
      "Epoch 298/500\n",
      "15/15 [==============================] - 0s 5ms/step - loss: 14.0794 - val_loss: 31.5137\n",
      "Epoch 299/500\n",
      "15/15 [==============================] - 0s 5ms/step - loss: 14.0661 - val_loss: 31.6495\n",
      "Epoch 300/500\n",
      "15/15 [==============================] - 0s 5ms/step - loss: 14.0536 - val_loss: 31.7806\n",
      "Epoch 301/500\n",
      "15/15 [==============================] - 0s 6ms/step - loss: 14.0418 - val_loss: 31.9068\n",
      "Epoch 302/500\n",
      "15/15 [==============================] - 0s 5ms/step - loss: 14.0308 - val_loss: 32.0287\n",
      "Epoch 303/500\n",
      "15/15 [==============================] - 0s 5ms/step - loss: 14.0204 - val_loss: 32.1460\n",
      "Epoch 304/500\n",
      "15/15 [==============================] - 0s 5ms/step - loss: 14.0106 - val_loss: 32.2593\n",
      "Epoch 305/500\n",
      "15/15 [==============================] - 0s 6ms/step - loss: 14.0013 - val_loss: 32.3682\n",
      "Epoch 306/500\n",
      "15/15 [==============================] - 0s 5ms/step - loss: 13.9927 - val_loss: 32.4733\n",
      "Epoch 307/500\n",
      "15/15 [==============================] - 0s 5ms/step - loss: 13.9845 - val_loss: 32.5742\n",
      "Epoch 308/500\n",
      "15/15 [==============================] - 0s 5ms/step - loss: 13.9768 - val_loss: 32.6713\n",
      "Epoch 309/500\n",
      "15/15 [==============================] - 0s 9ms/step - loss: 13.9695 - val_loss: 32.7645\n",
      "Epoch 310/500\n",
      "15/15 [==============================] - 0s 5ms/step - loss: 13.9627 - val_loss: 32.8541\n",
      "Epoch 311/500\n",
      "15/15 [==============================] - 0s 5ms/step - loss: 13.9563 - val_loss: 32.9402\n",
      "Epoch 312/500\n",
      "15/15 [==============================] - 0s 5ms/step - loss: 13.9503 - val_loss: 33.0229\n",
      "Epoch 313/500\n",
      "15/15 [==============================] - 0s 4ms/step - loss: 13.9447 - val_loss: 33.1024\n",
      "Epoch 314/500\n",
      "15/15 [==============================] - 0s 4ms/step - loss: 13.9393 - val_loss: 33.1782\n",
      "Epoch 315/500\n",
      "15/15 [==============================] - 0s 4ms/step - loss: 13.9343 - val_loss: 33.2514\n",
      "Epoch 316/500\n",
      "15/15 [==============================] - 0s 4ms/step - loss: 13.9296 - val_loss: 33.3213\n",
      "Epoch 317/500\n",
      "15/15 [==============================] - 0s 5ms/step - loss: 13.9252 - val_loss: 33.3885\n",
      "Epoch 318/500\n",
      "15/15 [==============================] - 0s 6ms/step - loss: 13.9210 - val_loss: 33.4528\n",
      "Epoch 319/500\n",
      "15/15 [==============================] - 0s 5ms/step - loss: 13.9171 - val_loss: 33.5142\n",
      "Epoch 320/500\n",
      "15/15 [==============================] - 0s 6ms/step - loss: 13.9134 - val_loss: 33.5732\n",
      "Epoch 321/500\n",
      "15/15 [==============================] - 0s 5ms/step - loss: 13.9099 - val_loss: 33.6296\n",
      "Epoch 322/500\n",
      "15/15 [==============================] - 0s 6ms/step - loss: 13.9066 - val_loss: 33.6831\n",
      "Epoch 323/500\n",
      "15/15 [==============================] - 0s 5ms/step - loss: 13.9036 - val_loss: 33.7346\n",
      "Epoch 324/500\n",
      "15/15 [==============================] - 0s 5ms/step - loss: 13.9008 - val_loss: 33.7838\n",
      "Epoch 325/500\n",
      "15/15 [==============================] - 0s 5ms/step - loss: 13.8981 - val_loss: 33.8309\n",
      "Epoch 326/500\n",
      "15/15 [==============================] - 0s 9ms/step - loss: 13.8955 - val_loss: 33.8758\n",
      "Epoch 327/500\n",
      "15/15 [==============================] - 0s 6ms/step - loss: 13.8931 - val_loss: 33.9185\n",
      "Epoch 328/500\n",
      "15/15 [==============================] - 0s 6ms/step - loss: 13.8909 - val_loss: 33.9592\n",
      "Epoch 329/500\n",
      "15/15 [==============================] - 0s 5ms/step - loss: 13.8889 - val_loss: 33.9979\n",
      "Epoch 330/500\n",
      "15/15 [==============================] - 0s 5ms/step - loss: 13.8869 - val_loss: 34.0352\n",
      "Epoch 331/500\n",
      "15/15 [==============================] - 0s 6ms/step - loss: 13.8851 - val_loss: 34.0706\n",
      "Epoch 332/500\n",
      "15/15 [==============================] - 0s 5ms/step - loss: 13.8834 - val_loss: 34.1039\n",
      "Epoch 333/500\n",
      "15/15 [==============================] - 0s 6ms/step - loss: 13.8818 - val_loss: 34.1362\n",
      "Epoch 334/500\n",
      "15/15 [==============================] - 0s 6ms/step - loss: 13.8802 - val_loss: 34.1668\n",
      "Epoch 335/500\n",
      "15/15 [==============================] - 0s 5ms/step - loss: 13.8788 - val_loss: 34.1956\n",
      "Epoch 336/500\n",
      "15/15 [==============================] - 0s 5ms/step - loss: 13.8775 - val_loss: 34.2234\n",
      "Epoch 337/500\n",
      "15/15 [==============================] - 0s 6ms/step - loss: 13.8763 - val_loss: 34.2492\n",
      "Epoch 338/500\n",
      "15/15 [==============================] - 0s 5ms/step - loss: 13.8752 - val_loss: 34.2740\n",
      "Epoch 339/500\n",
      "15/15 [==============================] - 0s 6ms/step - loss: 13.8741 - val_loss: 34.2976\n",
      "Epoch 340/500\n",
      "15/15 [==============================] - 0s 7ms/step - loss: 13.8731 - val_loss: 34.3198\n",
      "Epoch 341/500\n",
      "15/15 [==============================] - 0s 8ms/step - loss: 13.8723 - val_loss: 34.3408\n",
      "Epoch 342/500\n",
      "15/15 [==============================] - 0s 5ms/step - loss: 13.8714 - val_loss: 34.3610\n",
      "Epoch 343/500\n",
      "15/15 [==============================] - 0s 6ms/step - loss: 13.8706 - val_loss: 34.3800\n",
      "Epoch 344/500\n",
      "15/15 [==============================] - 0s 6ms/step - loss: 13.8699 - val_loss: 34.3981\n",
      "Epoch 345/500\n",
      "15/15 [==============================] - 0s 6ms/step - loss: 13.8693 - val_loss: 34.4153\n",
      "Epoch 346/500\n",
      "15/15 [==============================] - 0s 5ms/step - loss: 13.8686 - val_loss: 34.4313\n",
      "Epoch 347/500\n",
      "15/15 [==============================] - 0s 5ms/step - loss: 13.8681 - val_loss: 34.4465\n",
      "Epoch 348/500\n",
      "15/15 [==============================] - 0s 5ms/step - loss: 13.8676 - val_loss: 34.4608\n",
      "Epoch 349/500\n",
      "15/15 [==============================] - 0s 5ms/step - loss: 13.8671 - val_loss: 34.4744\n",
      "Epoch 350/500\n",
      "15/15 [==============================] - 0s 5ms/step - loss: 13.8667 - val_loss: 34.4873\n",
      "Epoch 351/500\n",
      "15/15 [==============================] - 0s 6ms/step - loss: 13.8664 - val_loss: 34.4992\n",
      "Epoch 352/500\n",
      "15/15 [==============================] - 0s 5ms/step - loss: 13.8660 - val_loss: 34.5105\n",
      "Epoch 353/500\n",
      "15/15 [==============================] - 0s 5ms/step - loss: 13.8657 - val_loss: 34.5213\n",
      "Epoch 354/500\n",
      "15/15 [==============================] - 0s 5ms/step - loss: 13.8655 - val_loss: 34.5314\n",
      "Epoch 355/500\n",
      "15/15 [==============================] - 0s 5ms/step - loss: 13.8652 - val_loss: 34.5409\n",
      "Epoch 356/500\n",
      "15/15 [==============================] - 0s 5ms/step - loss: 13.8651 - val_loss: 34.5499\n",
      "Epoch 357/500\n",
      "15/15 [==============================] - 0s 5ms/step - loss: 13.8648 - val_loss: 34.5584\n",
      "Epoch 358/500\n",
      "15/15 [==============================] - 0s 4ms/step - loss: 13.8647 - val_loss: 34.5661\n",
      "Epoch 359/500\n",
      "15/15 [==============================] - 0s 5ms/step - loss: 13.8646 - val_loss: 34.5735\n",
      "Epoch 360/500\n",
      "15/15 [==============================] - 0s 8ms/step - loss: 13.8645 - val_loss: 34.5804\n",
      "Epoch 361/500\n",
      "15/15 [==============================] - 0s 5ms/step - loss: 13.8644 - val_loss: 34.5871\n",
      "Epoch 362/500\n",
      "15/15 [==============================] - 0s 5ms/step - loss: 13.8644 - val_loss: 34.5930\n",
      "Epoch 363/500\n",
      "15/15 [==============================] - 0s 4ms/step - loss: 13.8644 - val_loss: 34.5987\n",
      "Epoch 364/500\n",
      "15/15 [==============================] - 0s 5ms/step - loss: 13.8644 - val_loss: 34.6042\n",
      "Epoch 365/500\n",
      "15/15 [==============================] - 0s 4ms/step - loss: 13.8643 - val_loss: 34.6090\n",
      "Epoch 366/500\n",
      "15/15 [==============================] - 0s 4ms/step - loss: 13.8644 - val_loss: 34.6137\n",
      "Epoch 367/500\n",
      "15/15 [==============================] - 0s 4ms/step - loss: 13.8645 - val_loss: 34.6184\n",
      "Epoch 368/500\n",
      "15/15 [==============================] - 0s 4ms/step - loss: 13.8645 - val_loss: 34.6222\n",
      "Epoch 369/500\n",
      "15/15 [==============================] - 0s 4ms/step - loss: 13.8646 - val_loss: 34.6260\n",
      "Epoch 370/500\n",
      "15/15 [==============================] - 0s 4ms/step - loss: 13.8647 - val_loss: 34.6294\n",
      "Epoch 371/500\n",
      "15/15 [==============================] - 0s 4ms/step - loss: 13.8648 - val_loss: 34.6326\n",
      "Epoch 372/500\n",
      "15/15 [==============================] - 0s 4ms/step - loss: 13.8650 - val_loss: 34.6355\n",
      "Epoch 373/500\n",
      "15/15 [==============================] - 0s 5ms/step - loss: 13.8651 - val_loss: 34.6386\n",
      "Epoch 374/500\n",
      "15/15 [==============================] - 0s 5ms/step - loss: 13.8652 - val_loss: 34.6412\n",
      "Epoch 375/500\n",
      "15/15 [==============================] - 0s 4ms/step - loss: 13.8654 - val_loss: 34.6435\n",
      "Epoch 376/500\n",
      "15/15 [==============================] - 0s 7ms/step - loss: 13.8656 - val_loss: 34.6457\n",
      "Epoch 377/500\n",
      "15/15 [==============================] - 0s 5ms/step - loss: 13.8657 - val_loss: 34.6477\n",
      "Epoch 378/500\n",
      "15/15 [==============================] - 0s 5ms/step - loss: 13.8659 - val_loss: 34.6495\n",
      "Epoch 379/500\n",
      "15/15 [==============================] - 0s 4ms/step - loss: 13.8661 - val_loss: 34.6512\n",
      "Epoch 380/500\n",
      "15/15 [==============================] - 0s 4ms/step - loss: 13.8663 - val_loss: 34.6527\n",
      "Epoch 381/500\n",
      "15/15 [==============================] - 0s 4ms/step - loss: 13.8665 - val_loss: 34.6538\n",
      "Epoch 382/500\n",
      "15/15 [==============================] - 0s 4ms/step - loss: 13.8668 - val_loss: 34.6552\n",
      "Epoch 383/500\n",
      "15/15 [==============================] - 0s 4ms/step - loss: 13.8670 - val_loss: 34.6565\n",
      "Epoch 384/500\n",
      "15/15 [==============================] - 0s 5ms/step - loss: 13.8672 - val_loss: 34.6575\n",
      "Epoch 385/500\n",
      "15/15 [==============================] - 0s 4ms/step - loss: 13.8675 - val_loss: 34.6583\n",
      "Epoch 386/500\n",
      "15/15 [==============================] - 0s 5ms/step - loss: 13.8677 - val_loss: 34.6592\n",
      "Epoch 387/500\n",
      "15/15 [==============================] - 0s 5ms/step - loss: 13.8679 - val_loss: 34.6600\n",
      "Epoch 388/500\n",
      "15/15 [==============================] - 0s 7ms/step - loss: 13.8682 - val_loss: 34.6608\n",
      "Epoch 389/500\n",
      "15/15 [==============================] - 0s 5ms/step - loss: 13.8684 - val_loss: 34.6612\n",
      "Epoch 390/500\n",
      "15/15 [==============================] - 0s 8ms/step - loss: 13.8687 - val_loss: 34.6616\n",
      "Epoch 391/500\n",
      "15/15 [==============================] - 0s 5ms/step - loss: 13.8690 - val_loss: 34.6620\n",
      "Epoch 392/500\n",
      "15/15 [==============================] - 0s 4ms/step - loss: 13.8693 - val_loss: 34.6622\n",
      "Epoch 393/500\n",
      "15/15 [==============================] - 0s 5ms/step - loss: 13.8695 - val_loss: 34.6626\n",
      "Epoch 394/500\n",
      "15/15 [==============================] - 0s 6ms/step - loss: 13.8698 - val_loss: 34.6629\n",
      "Epoch 395/500\n",
      "15/15 [==============================] - 0s 5ms/step - loss: 13.8701 - val_loss: 34.6629\n",
      "Epoch 396/500\n",
      "15/15 [==============================] - 0s 4ms/step - loss: 13.8704 - val_loss: 34.6630\n",
      "Epoch 397/500\n",
      "15/15 [==============================] - 0s 5ms/step - loss: 13.8707 - val_loss: 34.6630\n",
      "Epoch 398/500\n",
      "15/15 [==============================] - 0s 5ms/step - loss: 13.8709 - val_loss: 34.6632\n",
      "Epoch 399/500\n",
      "15/15 [==============================] - 0s 5ms/step - loss: 13.8712 - val_loss: 34.6631\n",
      "Epoch 400/500\n",
      "15/15 [==============================] - 0s 6ms/step - loss: 13.8715 - val_loss: 34.6630\n",
      "Epoch 401/500\n",
      "15/15 [==============================] - 0s 5ms/step - loss: 13.8718 - val_loss: 34.6629\n",
      "Epoch 402/500\n",
      "15/15 [==============================] - 0s 5ms/step - loss: 13.8721 - val_loss: 34.6628\n",
      "Epoch 403/500\n",
      "15/15 [==============================] - 0s 6ms/step - loss: 13.8724 - val_loss: 34.6626\n",
      "Epoch 404/500\n",
      "15/15 [==============================] - 0s 5ms/step - loss: 13.8727 - val_loss: 34.6623\n",
      "Epoch 405/500\n",
      "15/15 [==============================] - 0s 8ms/step - loss: 13.8730 - val_loss: 34.6620\n",
      "Epoch 406/500\n",
      "15/15 [==============================] - 0s 5ms/step - loss: 13.8733 - val_loss: 34.6619\n",
      "Epoch 407/500\n",
      "15/15 [==============================] - 0s 5ms/step - loss: 13.8736 - val_loss: 34.6618\n",
      "Epoch 408/500\n",
      "15/15 [==============================] - 0s 5ms/step - loss: 13.8739 - val_loss: 34.6615\n",
      "Epoch 409/500\n",
      "15/15 [==============================] - 0s 4ms/step - loss: 13.8742 - val_loss: 34.6612\n",
      "Epoch 410/500\n",
      "15/15 [==============================] - 0s 5ms/step - loss: 13.8745 - val_loss: 34.6609\n",
      "Epoch 411/500\n",
      "15/15 [==============================] - 0s 5ms/step - loss: 13.8748 - val_loss: 34.6605\n",
      "Epoch 412/500\n",
      "15/15 [==============================] - 0s 9ms/step - loss: 13.8752 - val_loss: 34.6602\n",
      "Epoch 413/500\n",
      "15/15 [==============================] - 0s 7ms/step - loss: 13.8754 - val_loss: 34.6599\n",
      "Epoch 414/500\n",
      "15/15 [==============================] - 0s 5ms/step - loss: 13.8757 - val_loss: 34.6595\n",
      "Epoch 415/500\n",
      "15/15 [==============================] - 0s 5ms/step - loss: 13.8761 - val_loss: 34.6592\n",
      "Epoch 416/500\n",
      "15/15 [==============================] - 0s 5ms/step - loss: 13.8763 - val_loss: 34.6589\n",
      "Epoch 417/500\n",
      "15/15 [==============================] - 0s 8ms/step - loss: 13.8767 - val_loss: 34.6584\n",
      "Epoch 418/500\n",
      "15/15 [==============================] - 0s 5ms/step - loss: 13.8770 - val_loss: 34.6579\n",
      "Epoch 419/500\n",
      "15/15 [==============================] - 0s 4ms/step - loss: 13.8773 - val_loss: 34.6575\n",
      "Epoch 420/500\n",
      "15/15 [==============================] - 0s 4ms/step - loss: 13.8776 - val_loss: 34.6573\n",
      "Epoch 421/500\n",
      "15/15 [==============================] - 0s 5ms/step - loss: 13.8779 - val_loss: 34.6569\n",
      "Epoch 422/500\n",
      "15/15 [==============================] - 0s 5ms/step - loss: 13.8782 - val_loss: 34.6561\n",
      "Epoch 423/500\n",
      "15/15 [==============================] - 0s 5ms/step - loss: 13.8785 - val_loss: 34.6558\n",
      "Epoch 424/500\n",
      "15/15 [==============================] - 0s 5ms/step - loss: 13.8788 - val_loss: 34.6554\n",
      "Epoch 425/500\n",
      "15/15 [==============================] - 0s 5ms/step - loss: 13.8791 - val_loss: 34.6550\n",
      "Epoch 426/500\n",
      "15/15 [==============================] - 0s 4ms/step - loss: 13.8794 - val_loss: 34.6547\n",
      "Epoch 427/500\n",
      "15/15 [==============================] - 0s 4ms/step - loss: 13.8797 - val_loss: 34.6540\n",
      "Epoch 428/500\n",
      "15/15 [==============================] - 0s 4ms/step - loss: 13.8800 - val_loss: 34.6535\n",
      "Epoch 429/500\n",
      "15/15 [==============================] - 0s 4ms/step - loss: 13.8803 - val_loss: 34.6531\n",
      "Epoch 430/500\n",
      "15/15 [==============================] - 0s 4ms/step - loss: 13.8806 - val_loss: 34.6526\n",
      "Epoch 431/500\n",
      "15/15 [==============================] - 0s 4ms/step - loss: 13.8809 - val_loss: 34.6517\n",
      "Epoch 432/500\n",
      "15/15 [==============================] - 0s 5ms/step - loss: 13.8813 - val_loss: 34.6513\n",
      "Epoch 433/500\n",
      "15/15 [==============================] - 0s 4ms/step - loss: 13.8816 - val_loss: 34.6509\n",
      "Epoch 434/500\n",
      "15/15 [==============================] - 0s 8ms/step - loss: 13.8818 - val_loss: 34.6504\n",
      "Epoch 435/500\n",
      "15/15 [==============================] - 0s 4ms/step - loss: 13.8821 - val_loss: 34.6499\n",
      "Epoch 436/500\n",
      "15/15 [==============================] - 0s 5ms/step - loss: 13.8824 - val_loss: 34.6494\n",
      "Epoch 437/500\n",
      "15/15 [==============================] - 0s 4ms/step - loss: 13.8828 - val_loss: 34.6490\n",
      "Epoch 438/500\n",
      "15/15 [==============================] - 0s 5ms/step - loss: 13.8831 - val_loss: 34.6485\n",
      "Epoch 439/500\n",
      "15/15 [==============================] - 0s 4ms/step - loss: 13.8833 - val_loss: 34.6478\n",
      "Epoch 440/500\n",
      "15/15 [==============================] - 0s 4ms/step - loss: 13.8837 - val_loss: 34.6473\n",
      "Epoch 441/500\n",
      "15/15 [==============================] - 0s 4ms/step - loss: 13.8839 - val_loss: 34.6470\n",
      "Epoch 442/500\n",
      "15/15 [==============================] - 0s 4ms/step - loss: 13.8842 - val_loss: 34.6466\n",
      "Epoch 443/500\n",
      "15/15 [==============================] - 0s 5ms/step - loss: 13.8845 - val_loss: 34.6459\n",
      "Epoch 444/500\n",
      "15/15 [==============================] - 0s 4ms/step - loss: 13.8848 - val_loss: 34.6455\n",
      "Epoch 445/500\n",
      "15/15 [==============================] - 0s 4ms/step - loss: 13.8851 - val_loss: 34.6449\n",
      "Epoch 446/500\n",
      "15/15 [==============================] - 0s 4ms/step - loss: 13.8854 - val_loss: 34.6444\n",
      "Epoch 447/500\n",
      "15/15 [==============================] - 0s 4ms/step - loss: 13.8857 - val_loss: 34.6439\n",
      "Epoch 448/500\n",
      "15/15 [==============================] - 0s 5ms/step - loss: 13.8860 - val_loss: 34.6433\n",
      "Epoch 449/500\n",
      "15/15 [==============================] - 0s 5ms/step - loss: 13.8863 - val_loss: 34.6429\n",
      "Epoch 450/500\n",
      "15/15 [==============================] - 0s 5ms/step - loss: 13.8866 - val_loss: 34.6426\n",
      "Epoch 451/500\n",
      "15/15 [==============================] - 0s 4ms/step - loss: 13.8868 - val_loss: 34.6422\n",
      "Epoch 452/500\n",
      "15/15 [==============================] - 0s 8ms/step - loss: 13.8871 - val_loss: 34.6419\n",
      "Epoch 453/500\n",
      "15/15 [==============================] - 0s 4ms/step - loss: 13.8874 - val_loss: 34.6414\n",
      "Epoch 454/500\n",
      "15/15 [==============================] - 0s 4ms/step - loss: 13.8877 - val_loss: 34.6410\n",
      "Epoch 455/500\n",
      "15/15 [==============================] - 0s 4ms/step - loss: 13.8880 - val_loss: 34.6409\n",
      "Epoch 456/500\n",
      "15/15 [==============================] - 0s 4ms/step - loss: 13.8882 - val_loss: 34.6400\n",
      "Epoch 457/500\n",
      "15/15 [==============================] - 0s 4ms/step - loss: 13.8885 - val_loss: 34.6397\n",
      "Epoch 458/500\n",
      "15/15 [==============================] - 0s 4ms/step - loss: 13.8888 - val_loss: 34.6391\n",
      "Epoch 459/500\n",
      "15/15 [==============================] - 0s 4ms/step - loss: 13.8891 - val_loss: 34.6388\n",
      "Epoch 460/500\n",
      "15/15 [==============================] - 0s 4ms/step - loss: 13.8893 - val_loss: 34.6385\n",
      "Epoch 461/500\n",
      "15/15 [==============================] - 0s 5ms/step - loss: 13.8896 - val_loss: 34.6380\n",
      "Epoch 462/500\n",
      "15/15 [==============================] - 0s 4ms/step - loss: 13.8899 - val_loss: 34.6376\n",
      "Epoch 463/500\n",
      "15/15 [==============================] - 0s 4ms/step - loss: 13.8902 - val_loss: 34.6372\n",
      "Epoch 464/500\n",
      "15/15 [==============================] - 0s 5ms/step - loss: 13.8904 - val_loss: 34.6367\n",
      "Epoch 465/500\n",
      "15/15 [==============================] - 0s 5ms/step - loss: 13.8907 - val_loss: 34.6359\n",
      "Epoch 466/500\n",
      "15/15 [==============================] - 0s 5ms/step - loss: 13.8909 - val_loss: 34.6354\n",
      "Epoch 467/500\n",
      "15/15 [==============================] - 0s 4ms/step - loss: 13.8912 - val_loss: 34.6350\n",
      "Epoch 468/500\n",
      "15/15 [==============================] - 0s 5ms/step - loss: 13.8915 - val_loss: 34.6346\n",
      "Epoch 469/500\n",
      "15/15 [==============================] - 0s 8ms/step - loss: 13.8917 - val_loss: 34.6343\n",
      "Epoch 470/500\n",
      "15/15 [==============================] - 0s 5ms/step - loss: 13.8920 - val_loss: 34.6337\n",
      "Epoch 471/500\n",
      "15/15 [==============================] - 0s 5ms/step - loss: 13.8923 - val_loss: 34.6334\n",
      "Epoch 472/500\n",
      "15/15 [==============================] - 0s 5ms/step - loss: 13.8925 - val_loss: 34.6329\n",
      "Epoch 473/500\n",
      "15/15 [==============================] - 0s 5ms/step - loss: 13.8928 - val_loss: 34.6324\n",
      "Epoch 474/500\n",
      "15/15 [==============================] - 0s 5ms/step - loss: 13.8930 - val_loss: 34.6319\n",
      "Epoch 475/500\n",
      "15/15 [==============================] - 0s 4ms/step - loss: 13.8934 - val_loss: 34.6316\n",
      "Epoch 476/500\n",
      "15/15 [==============================] - 0s 5ms/step - loss: 13.8936 - val_loss: 34.6314\n",
      "Epoch 477/500\n",
      "15/15 [==============================] - 0s 5ms/step - loss: 13.8938 - val_loss: 34.6309\n",
      "Epoch 478/500\n",
      "15/15 [==============================] - 0s 5ms/step - loss: 13.8940 - val_loss: 34.6306\n",
      "Epoch 479/500\n",
      "15/15 [==============================] - 0s 5ms/step - loss: 13.8943 - val_loss: 34.6302\n",
      "Epoch 480/500\n",
      "15/15 [==============================] - 0s 5ms/step - loss: 13.8945 - val_loss: 34.6297\n",
      "Epoch 481/500\n",
      "15/15 [==============================] - 0s 6ms/step - loss: 13.8948 - val_loss: 34.6295\n",
      "Epoch 482/500\n",
      "15/15 [==============================] - 0s 6ms/step - loss: 13.8950 - val_loss: 34.6292\n",
      "Epoch 483/500\n",
      "15/15 [==============================] - 0s 7ms/step - loss: 13.8952 - val_loss: 34.6288\n",
      "Epoch 484/500\n",
      "15/15 [==============================] - 0s 8ms/step - loss: 13.8955 - val_loss: 34.6282\n",
      "Epoch 485/500\n",
      "15/15 [==============================] - 0s 7ms/step - loss: 13.8957 - val_loss: 34.6277\n",
      "Epoch 486/500\n",
      "15/15 [==============================] - 0s 23ms/step - loss: 13.8960 - val_loss: 34.6274\n",
      "Epoch 487/500\n",
      "15/15 [==============================] - 0s 6ms/step - loss: 13.8962 - val_loss: 34.6269\n",
      "Epoch 488/500\n",
      "15/15 [==============================] - 0s 7ms/step - loss: 13.8964 - val_loss: 34.6266\n",
      "Epoch 489/500\n",
      "15/15 [==============================] - 0s 7ms/step - loss: 13.8966 - val_loss: 34.6259\n",
      "Epoch 490/500\n",
      "15/15 [==============================] - 0s 11ms/step - loss: 13.8969 - val_loss: 34.6256\n",
      "Epoch 491/500\n",
      "15/15 [==============================] - 0s 7ms/step - loss: 13.8971 - val_loss: 34.6253\n",
      "Epoch 492/500\n",
      "15/15 [==============================] - 0s 7ms/step - loss: 13.8974 - val_loss: 34.6252\n",
      "Epoch 493/500\n",
      "15/15 [==============================] - 0s 5ms/step - loss: 13.8975 - val_loss: 34.6248\n",
      "Epoch 494/500\n",
      "15/15 [==============================] - 0s 5ms/step - loss: 13.8977 - val_loss: 34.6244\n",
      "Epoch 495/500\n",
      "15/15 [==============================] - 0s 7ms/step - loss: 13.8980 - val_loss: 34.6236\n",
      "Epoch 496/500\n",
      "15/15 [==============================] - 0s 6ms/step - loss: 13.8983 - val_loss: 34.6235\n",
      "Epoch 497/500\n",
      "15/15 [==============================] - 0s 5ms/step - loss: 13.8984 - val_loss: 34.6230\n",
      "Epoch 498/500\n",
      "15/15 [==============================] - 0s 4ms/step - loss: 13.8986 - val_loss: 34.6227\n",
      "Epoch 499/500\n",
      "15/15 [==============================] - 0s 6ms/step - loss: 13.8989 - val_loss: 34.6224\n",
      "Epoch 500/500\n",
      "15/15 [==============================] - 0s 13ms/step - loss: 13.8991 - val_loss: 34.6219\n"
     ]
    }
   ],
   "source": [
    "C0 = tf.Variable(86.8407, name=\"C0\", trainable=True, dtype=tf.float32)\n",
    "K0 = tf.Variable(-0.0015, name=\"K0\", trainable=True, dtype=tf.float32)\n",
    "K1 = tf.Variable(-0.0001, name=\"K1\", trainable=True, dtype=tf.float32)\n",
    "a = tf.Variable(0.0000, name=\"a\", trainable=True, dtype=tf.float32)\n",
    "b = tf.Variable(0.0118, name=\"b\", trainable=True, dtype=tf.float32)\n",
    "c = tf.Variable(2.5775, name=\"c\", trainable=True, dtype=tf.float32)\n",
    "\n",
    "splitr = 0.8\n",
    "\n",
    "\n",
    "def loss_fn(y_true, y_pred):\n",
    "    squared_difference = tf.square(y_true[:, 0] - y_pred[:, 0])\n",
    "    #squared_difference2 = tf.square(y_true[:, 2]-y_pred[:, 2])\n",
    "    #squared_difference1 = tf.square(y_true[:, 1]-y_pred[:, 1])\n",
    "    epsilon = 1\n",
    "    squared_difference3 = tf.square(\n",
    "        y_pred[:, 1] - (\n",
    "            y_pred[:, 0] * (\n",
    "                K0 - K1 * (\n",
    "                    9 * a * tf.math.log((y_pred[:, 0] + epsilon) / C0) / (K0 - K1 * c)**2 +\n",
    "                    4 * b * tf.math.log((y_pred[:, 0] + epsilon) / C0) / (K0 - K1 * c) + c\n",
    "                )\n",
    "            )\n",
    "        )\n",
    "    )\n",
    "    return tf.reduce_mean(squared_difference, axis=-1) + 0.2*tf.reduce_mean(squared_difference3, axis=-1)\n",
    "model = Sequential()\n",
    "model.add(LSTM(100, input_shape=(trainX.shape[1], trainX.shape[2])))\n",
    "model.add(Dense(60))\n",
    "model.compile(loss=loss_fn, optimizer='adam')\n",
    "history = model.fit(trainX[:int(splitr*trainX.shape[0])], trainy[:int(splitr*trainX.shape[0])], epochs=500, batch_size=64, validation_data=(trainX[int(splitr*trainX.shape[0]):trainX.shape[0]], trainy[int(splitr*trainX.shape[0]):trainX.shape[0]]), shuffle=False)"
   ]
  },
  {
   "cell_type": "code",
   "execution_count": 19,
   "metadata": {
    "colab": {
     "base_uri": "https://localhost:8080/"
    },
    "id": "yJL101rPyuoT",
    "outputId": "239ff2b1-c186-423a-d316-939dfdd7c793"
   },
   "outputs": [
    {
     "name": "stdout",
     "output_type": "stream",
     "text": [
      "1/1 [==============================] - 0s 409ms/step\n"
     ]
    }
   ],
   "source": [
    "forecast_without_mc = forecastX\n",
    "yhat_without_mc = model.predict(forecast_without_mc) # Step Ahead Prediction\n",
    "forecast_without_mc = forecast_without_mc.reshape((forecast_without_mc.shape[0], forecast_without_mc.shape[2])) # Historical Input"
   ]
  },
  {
   "cell_type": "code",
   "execution_count": 20,
   "metadata": {
    "colab": {
     "base_uri": "https://localhost:8080/"
    },
    "id": "g9dQELcJ8wbp",
    "outputId": "4dc7671b-b1a8-48d5-8744-a86f98446109"
   },
   "outputs": [
    {
     "data": {
      "text/plain": [
       "(1, 1, 251)"
      ]
     },
     "execution_count": 20,
     "metadata": {},
     "output_type": "execute_result"
    }
   ],
   "source": [
    "forecastX.shape"
   ]
  },
  {
   "cell_type": "code",
   "execution_count": 21,
   "metadata": {
    "colab": {
     "base_uri": "https://localhost:8080/"
    },
    "id": "IS2kyIKG1Kbr",
    "outputId": "f31b3485-8e26-452f-9298-ea8bf7e80ad1"
   },
   "outputs": [
    {
     "data": {
      "text/plain": [
       "(1, 251)"
      ]
     },
     "execution_count": 21,
     "metadata": {},
     "output_type": "execute_result"
    }
   ],
   "source": [
    "forecast_without_mc.shape"
   ]
  },
  {
   "cell_type": "code",
   "execution_count": 22,
   "metadata": {
    "id": "0u6VIzaDyuoT"
   },
   "outputs": [],
   "source": [
    "inv_yhat_without_mc = np.concatenate((forecast_without_mc, yhat_without_mc), axis=1) # Concatenation of predicted values with Historical Data\n",
    "#inv_yhat_without_mc = scaler.inverse_transform(inv_yhat_without_mc) # Transform labels back to original encoding"
   ]
  },
  {
   "cell_type": "code",
   "execution_count": 23,
   "metadata": {
    "colab": {
     "base_uri": "https://localhost:8080/"
    },
    "id": "EUEcw0LX07oU",
    "outputId": "cfc32397-9c37-4b43-d087-584bb31c3dcc"
   },
   "outputs": [
    {
     "data": {
      "text/plain": [
       "(1, 311)"
      ]
     },
     "execution_count": 23,
     "metadata": {},
     "output_type": "execute_result"
    }
   ],
   "source": [
    "inv_yhat_without_mc.shape"
   ]
  },
  {
   "cell_type": "code",
   "execution_count": 24,
   "metadata": {
    "id": "31OWVbSh_305"
   },
   "outputs": [],
   "source": [
    "fforecast = inv_yhat_without_mc[:,-300:]"
   ]
  },
  {
   "cell_type": "code",
   "execution_count": 25,
   "metadata": {},
   "outputs": [
    {
     "data": {
      "text/plain": [
       "(1, 300)"
      ]
     },
     "execution_count": 25,
     "metadata": {},
     "output_type": "execute_result"
    }
   ],
   "source": [
    "fforecast.shape"
   ]
  },
  {
   "cell_type": "code",
   "execution_count": 26,
   "metadata": {
    "id": "BlpGH2FOAiRF"
   },
   "outputs": [],
   "source": [
    "final_forecast = fforecast[:,0:300:3]"
   ]
  },
  {
   "cell_type": "code",
   "execution_count": 27,
   "metadata": {},
   "outputs": [
    {
     "data": {
      "text/plain": [
       "(1, 300)"
      ]
     },
     "execution_count": 27,
     "metadata": {},
     "output_type": "execute_result"
    }
   ],
   "source": [
    "fforecast.shape"
   ]
  },
  {
   "cell_type": "code",
   "execution_count": 28,
   "metadata": {
    "id": "CXkgkj_LBk_t"
   },
   "outputs": [],
   "source": [
    "# code to replace all negative value with 0\n",
    "final_forecast[final_forecast<0] = 0"
   ]
  },
  {
   "cell_type": "code",
   "execution_count": 29,
   "metadata": {},
   "outputs": [
    {
     "data": {
      "text/plain": [
       "array([[6.97152661e+01, 6.97096639e+01, 6.97040616e+01, 6.96969188e+01,\n",
       "        6.96857143e+01, 6.96745098e+01, 6.96633053e+01, 6.96521008e+01,\n",
       "        6.96408964e+01, 6.96296919e+01, 6.96184874e+01, 6.96072829e+01,\n",
       "        6.95960784e+01, 6.95848740e+01, 6.95736695e+01, 6.95624650e+01,\n",
       "        6.95512605e+01, 6.95400560e+01, 6.95288515e+01, 6.95176471e+01,\n",
       "        6.95064426e+01, 6.94952381e+01, 6.94840336e+01, 6.94728291e+01,\n",
       "        6.94616247e+01, 6.94504202e+01, 6.94392157e+01, 6.94280112e+01,\n",
       "        6.94168067e+01, 6.94056022e+01, 6.93943978e+01, 6.93831933e+01,\n",
       "        6.93719888e+01, 6.93607843e+01, 6.93495798e+01, 6.93383754e+01,\n",
       "        6.93271709e+01, 6.93159664e+01, 6.93047619e+01, 6.92822829e+01,\n",
       "        6.92514706e+01, 6.92206583e+01, 6.91898459e+01, 6.91590336e+01,\n",
       "        6.91282213e+01, 6.90974090e+01, 6.90665966e+01, 6.90357843e+01,\n",
       "        6.90049720e+01, 6.89741597e+01, 6.89433473e+01, 6.89125350e+01,\n",
       "        6.88817227e+01, 6.88509104e+01, 6.88200980e+01, 6.87892857e+01,\n",
       "        6.87584734e+01, 6.87276611e+01, 6.86968487e+01, 6.86660364e+01,\n",
       "        6.86352241e+01, 6.86044118e+01, 6.85735994e+01, 6.85427871e+01,\n",
       "        6.85119748e+01, 6.84811625e+01, 6.84503501e+01, 6.84195378e+01,\n",
       "        6.83887255e+01, 6.83579132e+01, 6.83271008e+01, 6.82962885e+01,\n",
       "        6.82654762e+01, 6.82346639e+01, 6.82038515e+01, 6.81632353e+01,\n",
       "        6.81212185e+01, 6.80792017e+01, 6.80371849e+01, 6.79951681e+01,\n",
       "        7.49060364e+01, 6.45492792e-01, 0.00000000e+00, 0.00000000e+00,\n",
       "        3.67115811e-02, 0.00000000e+00, 5.82197547e-01, 7.12585807e-01,\n",
       "        0.00000000e+00, 1.22350466e+00, 0.00000000e+00, 4.79321927e-02,\n",
       "        6.37347624e-02, 0.00000000e+00, 0.00000000e+00, 4.10423160e-01,\n",
       "        2.52054334e-01, 0.00000000e+00, 3.47051203e-01, 0.00000000e+00]])"
      ]
     },
     "execution_count": 29,
     "metadata": {},
     "output_type": "execute_result"
    }
   ],
   "source": [
    "final_forecast"
   ]
  },
  {
   "cell_type": "code",
   "execution_count": 30,
   "metadata": {},
   "outputs": [
    {
     "data": {
      "text/plain": [
       "(1, 100)"
      ]
     },
     "execution_count": 30,
     "metadata": {},
     "output_type": "execute_result"
    }
   ],
   "source": [
    "final_forecast.shape"
   ]
  },
  {
   "cell_type": "code",
   "execution_count": 31,
   "metadata": {},
   "outputs": [
    {
     "data": {
      "text/plain": [
       "(100,)"
      ]
     },
     "execution_count": 31,
     "metadata": {},
     "output_type": "execute_result"
    }
   ],
   "source": [
    "test.shape"
   ]
  },
  {
   "cell_type": "code",
   "execution_count": 32,
   "metadata": {},
   "outputs": [],
   "source": [
    "training_set = np.array(training_set)\n",
    "test = np.array(test)\n",
    "final_forecast = np.array(final_forecast.squeeze(0))"
   ]
  },
  {
   "cell_type": "code",
   "execution_count": 33,
   "metadata": {},
   "outputs": [
    {
     "data": {
      "text/plain": [
       "array([65.89773576, 65.89680205, 65.89586835, 65.89493464, 65.89400093,\n",
       "       65.89306723, 65.89213352, 65.89119981, 65.89026611, 65.8893324 ,\n",
       "       65.88839869, 65.88746499, 65.88653128, 65.88559757, 65.88466387,\n",
       "       65.88373016, 65.88279645, 65.88186275, 65.88092904, 65.87999533,\n",
       "       65.87906162, 65.87812792, 65.87719421, 65.8762605 , 65.8753268 ,\n",
       "       65.87439309, 65.87345938, 65.87252568, 65.87159197, 65.87065826,\n",
       "       65.86972456, 65.86879085, 65.86785714, 65.86692344, 65.86598973,\n",
       "       65.86505602, 65.86412232, 65.86318861, 65.8622549 , 65.8613212 ,\n",
       "       65.86038749, 65.85945378, 65.85852007, 65.85758637, 65.85665266,\n",
       "       65.85571895, 65.85478525, 65.85385154, 65.85291783, 65.85198413,\n",
       "       65.85105042, 65.85011671, 65.84918301, 65.8482493 , 65.84731559,\n",
       "       65.84638189, 65.84544818, 65.84451447, 65.84358077, 65.84264706,\n",
       "       65.84171335, 65.84077965, 65.83984594, 65.83891223, 65.83797852,\n",
       "       65.83704482, 65.83611111, 65.8351774 , 65.8342437 , 65.83330999,\n",
       "       65.83237628, 65.83144258, 65.83050887, 65.82957516, 65.82864146,\n",
       "       65.82770775, 65.82677404, 65.82584034, 65.82490663, 65.82397292,\n",
       "       65.82303922, 65.82210551, 65.8211718 , 65.8202381 , 65.81930439,\n",
       "       65.81837068, 65.81743697, 65.81650327, 65.81556956, 65.81463585,\n",
       "       65.81370215, 65.81276844, 65.81183473, 65.81090103, 65.80996732,\n",
       "       65.80903361, 65.80809991, 65.8071662 , 65.80623249, 65.80529879])"
      ]
     },
     "execution_count": 33,
     "metadata": {},
     "output_type": "execute_result"
    }
   ],
   "source": [
    "test"
   ]
  },
  {
   "cell_type": "code",
   "execution_count": 34,
   "metadata": {},
   "outputs": [
    {
     "data": {
      "text/plain": [
       "(100,)"
      ]
     },
     "execution_count": 34,
     "metadata": {},
     "output_type": "execute_result"
    }
   ],
   "source": [
    "test.shape"
   ]
  },
  {
   "cell_type": "code",
   "execution_count": 35,
   "metadata": {},
   "outputs": [
    {
     "data": {
      "text/plain": [
       "(100,)"
      ]
     },
     "execution_count": 35,
     "metadata": {},
     "output_type": "execute_result"
    }
   ],
   "source": [
    "final_forecast.shape"
   ]
  },
  {
   "cell_type": "code",
   "execution_count": 36,
   "metadata": {},
   "outputs": [
    {
     "data": {
      "text/plain": [
       "(100,)"
      ]
     },
     "execution_count": 36,
     "metadata": {},
     "output_type": "execute_result"
    }
   ],
   "source": [
    "test.shape"
   ]
  },
  {
   "cell_type": "code",
   "execution_count": 37,
   "metadata": {},
   "outputs": [
    {
     "name": "stdout",
     "output_type": "stream",
     "text": [
      "28.75096263031488\n",
      "15.126589748158622\n"
     ]
    }
   ],
   "source": [
    "import math\n",
    "MSE = np.square(np.subtract(np.array(test),np.array(final_forecast))).mean()   \n",
    "rsme = math.sqrt(MSE)\n",
    "print(rsme)  \n",
    "MAE = np.abs(np.subtract(np.array(test),np.array(final_forecast))).mean()   \n",
    "mae = MAE\n",
    "print(mae)"
   ]
  }
 ],
 "metadata": {
  "colab": {
   "provenance": []
  },
  "kernelspec": {
   "display_name": "Python 3",
   "language": "python",
   "name": "python3"
  },
  "language_info": {
   "codemirror_mode": {
    "name": "ipython",
    "version": 3
   },
   "file_extension": ".py",
   "mimetype": "text/x-python",
   "name": "python",
   "nbconvert_exporter": "python",
   "pygments_lexer": "ipython3",
   "version": "3.9.13"
  }
 },
 "nbformat": 4,
 "nbformat_minor": 0
}
