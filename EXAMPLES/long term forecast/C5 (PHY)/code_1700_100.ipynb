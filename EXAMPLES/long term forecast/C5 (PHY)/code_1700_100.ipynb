{
 "cells": [
  {
   "cell_type": "markdown",
   "metadata": {
    "id": "pCGKeZ2gyuoQ"
   },
   "source": [
    "_Importing Required Libraries_"
   ]
  },
  {
   "cell_type": "code",
   "execution_count": 1,
   "metadata": {
    "colab": {
     "base_uri": "https://localhost:8080/"
    },
    "id": "A-6LN-zXiLcM",
    "outputId": "4de610a4-f8b8-4f49-c6c0-89de299ccedc"
   },
   "outputs": [
    {
     "name": "stdout",
     "output_type": "stream",
     "text": [
      "Requirement already satisfied: hampel in c:\\users\\anurag dutta\\appdata\\local\\packages\\pythonsoftwarefoundation.python.3.9_qbz5n2kfra8p0\\localcache\\local-packages\\python39\\site-packages (0.0.5)\n",
      "Requirement already satisfied: numpy in c:\\users\\anurag dutta\\appdata\\local\\packages\\pythonsoftwarefoundation.python.3.9_qbz5n2kfra8p0\\localcache\\local-packages\\python39\\site-packages (from hampel) (1.26.4)\n",
      "Requirement already satisfied: pandas in c:\\users\\anurag dutta\\appdata\\local\\packages\\pythonsoftwarefoundation.python.3.9_qbz5n2kfra8p0\\localcache\\local-packages\\python39\\site-packages (from hampel) (1.5.2)\n",
      "Requirement already satisfied: python-dateutil>=2.8.1 in c:\\users\\anurag dutta\\appdata\\local\\packages\\pythonsoftwarefoundation.python.3.9_qbz5n2kfra8p0\\localcache\\local-packages\\python39\\site-packages (from pandas->hampel) (2.8.2)\n",
      "Requirement already satisfied: pytz>=2020.1 in c:\\users\\anurag dutta\\appdata\\local\\packages\\pythonsoftwarefoundation.python.3.9_qbz5n2kfra8p0\\localcache\\local-packages\\python39\\site-packages (from pandas->hampel) (2023.3.post1)\n",
      "Requirement already satisfied: six>=1.5 in c:\\users\\anurag dutta\\appdata\\local\\packages\\pythonsoftwarefoundation.python.3.9_qbz5n2kfra8p0\\localcache\\local-packages\\python39\\site-packages (from python-dateutil>=2.8.1->pandas->hampel) (1.16.0)\n",
      "Note: you may need to restart the kernel to use updated packages.\n"
     ]
    },
    {
     "name": "stderr",
     "output_type": "stream",
     "text": [
      "\n",
      "[notice] A new release of pip is available: 24.2 -> 24.3.1\n",
      "[notice] To update, run: C:\\Users\\Anurag Dutta\\AppData\\Local\\Microsoft\\WindowsApps\\PythonSoftwareFoundation.Python.3.9_qbz5n2kfra8p0\\python.exe -m pip install --upgrade pip\n"
     ]
    }
   ],
   "source": [
    "pip install hampel"
   ]
  },
  {
   "cell_type": "code",
   "execution_count": 2,
   "metadata": {
    "id": "By_d9uXpaFvZ"
   },
   "outputs": [],
   "source": [
    "from keras.models import Sequential\n",
    "from keras.layers import Dense\n",
    "from keras.layers import LSTM\n",
    "from keras.layers import Dropout\n",
    "import keras\n",
    "import tensorflow as tf\n",
    "from hampel import hampel\n",
    "import numpy as np\n",
    "import matplotlib.pyplot as plt\n",
    "import pandas as pd\n",
    "from sklearn.preprocessing import MinMaxScaler\n",
    "from sklearn.metrics import mean_squared_error, mean_absolute_error\n",
    "from math import sqrt\n",
    "from matplotlib import pyplot\n",
    "from numpy import array"
   ]
  },
  {
   "cell_type": "markdown",
   "metadata": {
    "id": "JyOjBMFayuoR"
   },
   "source": [
    "## Pretraining"
   ]
  },
  {
   "cell_type": "markdown",
   "metadata": {
    "id": "-5QqIY_GyuoR"
   },
   "source": [
    "The `capa_intermittency.dat` feeds the model with the dynamics of the Capacitor"
   ]
  },
  {
   "cell_type": "code",
   "execution_count": 3,
   "metadata": {
    "id": "9dV4a8yfyuoR"
   },
   "outputs": [],
   "source": [
    "data = np.genfromtxt('capa_intermittency.dat')\n",
    "training_set = pd.DataFrame(data).reset_index(drop=True)\n",
    "training_set = training_set.iloc[:,0]"
   ]
  },
  {
   "cell_type": "markdown",
   "metadata": {
    "id": "i7easoxByuoR"
   },
   "source": [
    "## Computing the Gradient"
   ]
  },
  {
   "cell_type": "markdown",
   "metadata": {
    "id": "5SnyolJTyuoR"
   },
   "source": [
    "_Calculating the value of_ $\\frac{dx}{dt}$"
   ]
  },
  {
   "cell_type": "code",
   "execution_count": 4,
   "metadata": {
    "colab": {
     "base_uri": "https://localhost:8080/"
    },
    "id": "wmIbVfIvyuoR",
    "outputId": "aa4e3136-c854-465d-d2e9-81cfd546e440"
   },
   "outputs": [
    {
     "name": "stdout",
     "output_type": "stream",
     "text": [
      "1.0\n",
      "1        0.000298\n",
      "2        0.000298\n",
      "3        0.000297\n",
      "4        0.000297\n",
      "5        0.000297\n",
      "           ...   \n",
      "9996     0.000018\n",
      "9997     0.000018\n",
      "9998     0.000018\n",
      "9999     0.000018\n",
      "10000    0.000018\n",
      "Name: 0, Length: 10000, dtype: float64\n"
     ]
    }
   ],
   "source": [
    "t_diff = 1\n",
    "print(training_set.max())\n",
    "gradient_t = (training_set.diff()/t_diff).iloc[1:] # dx/dt\n",
    "print(gradient_t)"
   ]
  },
  {
   "cell_type": "markdown",
   "metadata": {
    "id": "_2eVeeoxyuoS"
   },
   "source": [
    "## Loading Datasets"
   ]
  },
  {
   "cell_type": "code",
   "execution_count": 5,
   "metadata": {
    "id": "0J-NKyIEyuoS"
   },
   "outputs": [
    {
     "data": {
      "text/plain": [
       "0       89.140000\n",
       "1       88.911429\n",
       "2       88.682857\n",
       "3       88.454286\n",
       "4       88.225714\n",
       "          ...    \n",
       "1795    65.209641\n",
       "1796    65.203105\n",
       "1797    65.196569\n",
       "1798    65.190033\n",
       "1799    65.183497\n",
       "Name: C5, Length: 1800, dtype: float64"
      ]
     },
     "execution_count": 5,
     "metadata": {},
     "output_type": "execute_result"
    }
   ],
   "source": [
    "data = pd.read_csv(\"c5_interpolated_1700_100.csv\")\n",
    "training_set = data.iloc[:, 1]\n",
    "training_set"
   ]
  },
  {
   "cell_type": "code",
   "execution_count": 6,
   "metadata": {
    "colab": {
     "base_uri": "https://localhost:8080/"
    },
    "id": "-CbNUhJ74UqF",
    "outputId": "20f562d8-8247-49cc-b9c3-00eca5e13e2d"
   },
   "outputs": [
    {
     "data": {
      "text/plain": [
       "0       89.140000\n",
       "1       88.911429\n",
       "2       88.682857\n",
       "3       88.454286\n",
       "4       88.225714\n",
       "          ...    \n",
       "1695     0.410423\n",
       "1696     0.252054\n",
       "1697     0.000000\n",
       "1698     0.347051\n",
       "1699     0.000000\n",
       "Name: C5, Length: 1700, dtype: float64"
      ]
     },
     "execution_count": 6,
     "metadata": {},
     "output_type": "execute_result"
    }
   ],
   "source": [
    "test = training_set.tail(100)\n",
    "test\n",
    "training_set = training_set.head(1700)\n",
    "training_set"
   ]
  },
  {
   "cell_type": "code",
   "execution_count": 7,
   "metadata": {
    "colab": {
     "base_uri": "https://localhost:8080/"
    },
    "id": "X0TwTcq0yuoS",
    "outputId": "37252ed8-d88e-4044-fa7a-922411990b5b"
   },
   "outputs": [
    {
     "name": "stdout",
     "output_type": "stream",
     "text": [
      "0       0.000298\n",
      "1       0.000298\n",
      "2       0.000297\n",
      "3       0.000297\n",
      "4       0.000297\n",
      "          ...   \n",
      "9995    0.000018\n",
      "9996    0.000018\n",
      "9997    0.000018\n",
      "9998    0.000018\n",
      "9999    0.000018\n",
      "Name: 0, Length: 10000, dtype: float64\n"
     ]
    }
   ],
   "source": [
    "training_set = training_set.reset_index(drop=True)\n",
    "gradient_t = gradient_t.reset_index(drop=True)\n",
    "print(gradient_t)"
   ]
  },
  {
   "cell_type": "code",
   "execution_count": 8,
   "metadata": {
    "id": "O2biznZQyuoS"
   },
   "outputs": [],
   "source": [
    "df = pd.concat((training_set, gradient_t), axis=1)\n",
    "df.columns = ['y_t', 'grad_t']"
   ]
  },
  {
   "cell_type": "code",
   "execution_count": 9,
   "metadata": {
    "colab": {
     "base_uri": "https://localhost:8080/",
     "height": 423
    },
    "id": "sk_a5v3tyuoS",
    "outputId": "17563625-e550-45ae-faab-fafa353e44da"
   },
   "outputs": [
    {
     "data": {
      "text/html": [
       "<div>\n",
       "<style scoped>\n",
       "    .dataframe tbody tr th:only-of-type {\n",
       "        vertical-align: middle;\n",
       "    }\n",
       "\n",
       "    .dataframe tbody tr th {\n",
       "        vertical-align: top;\n",
       "    }\n",
       "\n",
       "    .dataframe thead th {\n",
       "        text-align: right;\n",
       "    }\n",
       "</style>\n",
       "<table border=\"1\" class=\"dataframe\">\n",
       "  <thead>\n",
       "    <tr style=\"text-align: right;\">\n",
       "      <th></th>\n",
       "      <th>y_t</th>\n",
       "      <th>grad_t</th>\n",
       "    </tr>\n",
       "  </thead>\n",
       "  <tbody>\n",
       "    <tr>\n",
       "      <th>0</th>\n",
       "      <td>89.140000</td>\n",
       "      <td>0.000298</td>\n",
       "    </tr>\n",
       "    <tr>\n",
       "      <th>1</th>\n",
       "      <td>88.911429</td>\n",
       "      <td>0.000298</td>\n",
       "    </tr>\n",
       "    <tr>\n",
       "      <th>2</th>\n",
       "      <td>88.682857</td>\n",
       "      <td>0.000297</td>\n",
       "    </tr>\n",
       "    <tr>\n",
       "      <th>3</th>\n",
       "      <td>88.454286</td>\n",
       "      <td>0.000297</td>\n",
       "    </tr>\n",
       "    <tr>\n",
       "      <th>4</th>\n",
       "      <td>88.225714</td>\n",
       "      <td>0.000297</td>\n",
       "    </tr>\n",
       "    <tr>\n",
       "      <th>...</th>\n",
       "      <td>...</td>\n",
       "      <td>...</td>\n",
       "    </tr>\n",
       "    <tr>\n",
       "      <th>9995</th>\n",
       "      <td>NaN</td>\n",
       "      <td>0.000018</td>\n",
       "    </tr>\n",
       "    <tr>\n",
       "      <th>9996</th>\n",
       "      <td>NaN</td>\n",
       "      <td>0.000018</td>\n",
       "    </tr>\n",
       "    <tr>\n",
       "      <th>9997</th>\n",
       "      <td>NaN</td>\n",
       "      <td>0.000018</td>\n",
       "    </tr>\n",
       "    <tr>\n",
       "      <th>9998</th>\n",
       "      <td>NaN</td>\n",
       "      <td>0.000018</td>\n",
       "    </tr>\n",
       "    <tr>\n",
       "      <th>9999</th>\n",
       "      <td>NaN</td>\n",
       "      <td>0.000018</td>\n",
       "    </tr>\n",
       "  </tbody>\n",
       "</table>\n",
       "<p>10000 rows × 2 columns</p>\n",
       "</div>"
      ],
      "text/plain": [
       "            y_t    grad_t\n",
       "0     89.140000  0.000298\n",
       "1     88.911429  0.000298\n",
       "2     88.682857  0.000297\n",
       "3     88.454286  0.000297\n",
       "4     88.225714  0.000297\n",
       "...         ...       ...\n",
       "9995        NaN  0.000018\n",
       "9996        NaN  0.000018\n",
       "9997        NaN  0.000018\n",
       "9998        NaN  0.000018\n",
       "9999        NaN  0.000018\n",
       "\n",
       "[10000 rows x 2 columns]"
      ]
     },
     "execution_count": 9,
     "metadata": {},
     "output_type": "execute_result"
    }
   ],
   "source": [
    "df"
   ]
  },
  {
   "cell_type": "markdown",
   "metadata": {
    "id": "-5esyHu5aFvg"
   },
   "source": [
    "## Plot of the External Forcing from Chaotic Differential Equation"
   ]
  },
  {
   "cell_type": "code",
   "execution_count": 10,
   "metadata": {
    "colab": {
     "base_uri": "https://localhost:8080/",
     "height": 447
    },
    "id": "hGnE43tOh-4p",
    "outputId": "fc396503-b624-4fa5-dfbe-f460207405c6"
   },
   "outputs": [
    {
     "data": {
      "text/plain": [
       "<Axes: >"
      ]
     },
     "execution_count": 10,
     "metadata": {},
     "output_type": "execute_result"
    },
    {
     "data": {
      "image/png": "[encoded data removed]",
      "text/plain": [
       "<Figure size 432x288 with 1 Axes>"
      ]
     },
     "metadata": {
      "needs_background": "light"
     },
     "output_type": "display_data"
    }
   ],
   "source": [
    "df.iloc[:, 0].plot()"
   ]
  },
  {
   "cell_type": "code",
   "execution_count": 11,
   "metadata": {
    "colab": {
     "base_uri": "https://localhost:8080/",
     "height": 447
    },
    "id": "ym4xWUUxaFvg",
    "outputId": "ae6a3495-8ce9-437e-ba81-3ed31deedeae"
   },
   "outputs": [
    {
     "name": "stderr",
     "output_type": "stream",
     "text": [
      "C:\\Users\\Anurag Dutta\\AppData\\Local\\Packages\\PythonSoftwareFoundation.Python.3.9_qbz5n2kfra8p0\\LocalCache\\local-packages\\Python39\\site-packages\\pandas\\core\\arraylike.py:402: RuntimeWarning: divide by zero encountered in log\n",
      "  result = getattr(ufunc, method)(*inputs, **kwargs)\n"
     ]
    },
    {
     "data": {
      "text/plain": [
       "<Axes: >"
      ]
     },
     "execution_count": 11,
     "metadata": {},
     "output_type": "execute_result"
    },
    {
     "data": {
      "image/png": "[encoded data removed]",
      "text/plain": [
       "<Figure size 432x288 with 1 Axes>"
      ]
     },
     "metadata": {
      "needs_background": "light"
     },
     "output_type": "display_data"
    }
   ],
   "source": [
    "import numpy as np\n",
    "c0 = 86.8407  # Value for C0\n",
    "K0 = -0.0015  # Value for K0\n",
    "K1 = -0.0001  # Value for K1\n",
    "a = 0.0000    # Value for a\n",
    "b = 0.0118    # Value for b\n",
    "c = 2.5775    # Value for c\n",
    "\n",
    "L = np.minimum(c0, (df.iloc[:, 1] - (df.iloc[:, 0] * (K0 - K1 * (9 * a * np.log(df.iloc[:, 0] / c0) / (K0 - K1 * c)**2 + 4 * b * np.log(df.iloc[:, 0] / c0) / (K0 - K1 * c) + c)))))\n",
    "L.plot()"
   ]
  },
  {
   "cell_type": "markdown",
   "metadata": {
    "id": "9VyEywnwaFvh"
   },
   "source": [
    "## Preprocessing the data into supervised learning"
   ]
  },
  {
   "cell_type": "code",
   "execution_count": 12,
   "metadata": {
    "id": "6V9dXqzdaFvh"
   },
   "outputs": [],
   "source": [
    "# split a sequence into samples\n",
    "def Supervised(data, n_in=1, n_out=1, dropnan=True):\n",
    "    n_vars = 1 if type(data) is list else data.shape[1]\n",
    "    df = pd.DataFrame(data)\n",
    "    cols, names = list(), list()\n",
    "    # input sequence (t-n_in, ... t-1)\n",
    "    for i in range(n_in, 0, -1):\n",
    "        cols.append(df.shift(i))\n",
    "        names += [('var%d(t-%d)' % (j+1, i)) for j in range(n_vars)]\n",
    "    # forecast sequence (t, t+1, ... t+n_out)\n",
    "    for i in range(0, n_out):\n",
    "      cols.append(df.shift(-i))\n",
    "      if i == 0:\n",
    "        names += [('var%d(t)' % (j+1)) for j in range(n_vars)]\n",
    "      else:\n",
    "        names += [('var%d(t+%d)' % (j+1, i)) for j in range(n_vars)]\n",
    "    # put it all together\n",
    "    agg = pd.concat(cols, axis=1)\n",
    "    agg.columns = names\n",
    "    # drop rows with NaN values\n",
    "    if dropnan:\n",
    "       agg.dropna(inplace=True)\n",
    "    return agg"
   ]
  },
  {
   "cell_type": "code",
   "execution_count": 13,
   "metadata": {
    "colab": {
     "base_uri": "https://localhost:8080/"
    },
    "id": "CrzSrT1HnyfH",
    "outputId": "7e75f928-3e47-499d-eac1-51908015ef78"
   },
   "outputs": [
    {
     "name": "stdout",
     "output_type": "stream",
     "text": [
      "     var1(t-350)  var1(t-349)  var1(t-348)  var1(t-347)  var1(t-346)  \\\n",
      "350    89.140000    88.911429    88.682857    88.454286    88.225714   \n",
      "351    88.911429    88.682857    88.454286    88.225714    87.997143   \n",
      "352    88.682857    88.454286    88.225714    87.997143    87.768571   \n",
      "353    88.454286    88.225714    87.997143    87.768571    87.540000   \n",
      "354    88.225714    87.997143    87.768571    87.540000    87.311429   \n",
      "\n",
      "     var1(t-345)  var1(t-344)  var1(t-343)  var1(t-342)  var1(t-341)  ...  \\\n",
      "350    87.997143    87.768571    87.540000    87.311429    87.095798  ...   \n",
      "351    87.768571    87.540000    87.311429    87.095798    87.039776  ...   \n",
      "352    87.540000    87.311429    87.095798    87.039776    86.983754  ...   \n",
      "353    87.311429    87.095798    87.039776    86.983754    86.927731  ...   \n",
      "354    87.095798    87.039776    86.983754    86.927731    86.871709  ...   \n",
      "\n",
      "     var1(t+95)  var2(t+95)  var1(t+96)  var2(t+96)  var1(t+97)  var2(t+97)  \\\n",
      "350   79.161181    0.000263   79.132236    0.000263   79.103291    0.000263   \n",
      "351   79.132236    0.000263   79.103291    0.000263   79.074346    0.000262   \n",
      "352   79.103291    0.000263   79.074346    0.000262   79.045401    0.000262   \n",
      "353   79.074346    0.000262   79.045401    0.000262   79.016457    0.000262   \n",
      "354   79.045401    0.000262   79.016457    0.000262   78.987512    0.000262   \n",
      "\n",
      "     var1(t+98)  var2(t+98)  var1(t+99)  var2(t+99)  \n",
      "350   79.074346    0.000262   79.045401    0.000262  \n",
      "351   79.045401    0.000262   79.016457    0.000262  \n",
      "352   79.016457    0.000262   78.987512    0.000262  \n",
      "353   78.987512    0.000262   78.958567    0.000262  \n",
      "354   78.958567    0.000262   78.929622    0.000262  \n",
      "\n",
      "[5 rows x 551 columns]\n",
      "Index(['var1(t-350)', 'var1(t-349)', 'var1(t-348)', 'var1(t-347)',\n",
      "       'var1(t-346)', 'var1(t-345)', 'var1(t-344)', 'var1(t-343)',\n",
      "       'var1(t-342)', 'var1(t-341)',\n",
      "       ...\n",
      "       'var1(t+95)', 'var2(t+95)', 'var1(t+96)', 'var2(t+96)', 'var1(t+97)',\n",
      "       'var2(t+97)', 'var1(t+98)', 'var2(t+98)', 'var1(t+99)', 'var2(t+99)'],\n",
      "      dtype='object', length=551)\n"
     ]
    }
   ],
   "source": [
    "data = Supervised(df.values, n_in = 350, n_out = 100)\n",
    "\n",
    "\n",
    "cols_to_drop = []\n",
    "for i in range(2, 351):\n",
    "    cols_to_drop.extend([f'var2(t-{i})'])\n",
    "\n",
    "data.drop(cols_to_drop, axis=1, inplace=True)\n",
    "\n",
    "print(data.head())\n",
    "print(data.columns)"
   ]
  },
  {
   "cell_type": "code",
   "execution_count": 14,
   "metadata": {
    "id": "AfPf60oy6Pe4"
   },
   "outputs": [],
   "source": [
    "train = np.array(data[0:len(data)-1])\n",
    "forecast = np.array(data.tail(1))"
   ]
  },
  {
   "cell_type": "code",
   "execution_count": 15,
   "metadata": {
    "id": "WSAafzI37KiT"
   },
   "outputs": [],
   "source": [
    "trainy = train[:,-300:]\n",
    "trainX = train[:,:-300]"
   ]
  },
  {
   "cell_type": "code",
   "execution_count": 16,
   "metadata": {
    "id": "2SrOqVJA7f50"
   },
   "outputs": [],
   "source": [
    "forecasty = forecast[:,-300:]\n",
    "forecastX = forecast[:,:-300]"
   ]
  },
  {
   "cell_type": "code",
   "execution_count": 17,
   "metadata": {
    "colab": {
     "base_uri": "https://localhost:8080/"
    },
    "id": "Qno_k8Nw7saY",
    "outputId": "c4a88db5-d8c6-489f-cdb2-06b24e293cff"
   },
   "outputs": [
    {
     "name": "stdout",
     "output_type": "stream",
     "text": [
      "(1250, 1, 251) (1250, 300) (1, 1, 251)\n"
     ]
    }
   ],
   "source": [
    "trainX = trainX.reshape((trainX.shape[0], 1, trainX.shape[1]))\n",
    "forecastX = forecastX.reshape((forecastX.shape[0], 1, forecastX.shape[1]))\n",
    "print(trainX.shape, trainy.shape, forecastX.shape)"
   ]
  },
  {
   "cell_type": "code",
   "execution_count": 18,
   "metadata": {
    "colab": {
     "base_uri": "https://localhost:8080/"
    },
    "id": "b1Jp2DvNuNFx",
    "outputId": "d0e5b3c4-64f1-438c-eade-8dfeaac8e285"
   },
   "outputs": [
    {
     "name": "stdout",
     "output_type": "stream",
     "text": [
      "Epoch 1/500\n",
      "16/16 [==============================] - 2s 33ms/step - loss: 5417.1440 - val_loss: 4443.7891\n",
      "Epoch 2/500\n",
      "16/16 [==============================] - 0s 5ms/step - loss: 5338.8828 - val_loss: 4382.9170\n",
      "Epoch 3/500\n",
      "16/16 [==============================] - 0s 4ms/step - loss: 5272.5347 - val_loss: 4322.6929\n",
      "Epoch 4/500\n",
      "16/16 [==============================] - 0s 4ms/step - loss: 5185.2002 - val_loss: 4235.5581\n",
      "Epoch 5/500\n",
      "16/16 [==============================] - 0s 5ms/step - loss: 5108.7495 - val_loss: 4172.0737\n",
      "Epoch 6/500\n",
      "16/16 [==============================] - 0s 5ms/step - loss: 5039.4150 - val_loss: 4109.7197\n",
      "Epoch 7/500\n",
      "16/16 [==============================] - 0s 4ms/step - loss: 4971.2627 - val_loss: 4048.4165\n",
      "Epoch 8/500\n",
      "16/16 [==============================] - 0s 4ms/step - loss: 4904.1484 - val_loss: 3988.0271\n",
      "Epoch 9/500\n",
      "16/16 [==============================] - 0s 4ms/step - loss: 4837.9482 - val_loss: 3928.4600\n",
      "Epoch 10/500\n",
      "16/16 [==============================] - 0s 4ms/step - loss: 4772.5786 - val_loss: 3869.6584\n",
      "Epoch 11/500\n",
      "16/16 [==============================] - 0s 4ms/step - loss: 4707.9868 - val_loss: 3811.5825\n",
      "Epoch 12/500\n",
      "16/16 [==============================] - 0s 6ms/step - loss: 4644.1372 - val_loss: 3754.2056\n",
      "Epoch 13/500\n",
      "16/16 [==============================] - 0s 5ms/step - loss: 4581.0034 - val_loss: 3697.5071\n",
      "Epoch 14/500\n",
      "16/16 [==============================] - 0s 5ms/step - loss: 4518.5669 - val_loss: 3641.4707\n",
      "Epoch 15/500\n",
      "16/16 [==============================] - 0s 5ms/step - loss: 4456.8105 - val_loss: 3586.0837\n",
      "Epoch 16/500\n",
      "16/16 [==============================] - 0s 4ms/step - loss: 4395.7231 - val_loss: 3531.3342\n",
      "Epoch 17/500\n",
      "16/16 [==============================] - 0s 4ms/step - loss: 4335.2910 - val_loss: 3477.2129\n",
      "Epoch 18/500\n",
      "16/16 [==============================] - 0s 4ms/step - loss: 4275.5049 - val_loss: 3423.7109\n",
      "Epoch 19/500\n",
      "16/16 [==============================] - 0s 5ms/step - loss: 4216.3579 - val_loss: 3370.8215\n",
      "Epoch 20/500\n",
      "16/16 [==============================] - 0s 4ms/step - loss: 4157.8413 - val_loss: 3318.5366\n",
      "Epoch 21/500\n",
      "16/16 [==============================] - 0s 4ms/step - loss: 4099.9482 - val_loss: 3266.8481\n",
      "Epoch 22/500\n",
      "16/16 [==============================] - 0s 4ms/step - loss: 4042.6704 - val_loss: 3215.7517\n",
      "Epoch 23/500\n",
      "16/16 [==============================] - 0s 4ms/step - loss: 3986.0034 - val_loss: 3165.2407\n",
      "Epoch 24/500\n",
      "16/16 [==============================] - 0s 4ms/step - loss: 3929.9390 - val_loss: 3115.3096\n",
      "Epoch 25/500\n",
      "16/16 [==============================] - 0s 7ms/step - loss: 3874.4749 - val_loss: 3065.9519\n",
      "Epoch 26/500\n",
      "16/16 [==============================] - 0s 5ms/step - loss: 3819.6013 - val_loss: 3017.1643\n",
      "Epoch 27/500\n",
      "16/16 [==============================] - 0s 5ms/step - loss: 3765.3157 - val_loss: 2968.9395\n",
      "Epoch 28/500\n",
      "16/16 [==============================] - 0s 5ms/step - loss: 3711.6118 - val_loss: 2921.2729\n",
      "Epoch 29/500\n",
      "16/16 [==============================] - 0s 5ms/step - loss: 3658.4846 - val_loss: 2874.1616\n",
      "Epoch 30/500\n",
      "16/16 [==============================] - 0s 5ms/step - loss: 3605.9299 - val_loss: 2827.5979\n",
      "Epoch 31/500\n",
      "16/16 [==============================] - 0s 5ms/step - loss: 3553.9421 - val_loss: 2781.5796\n",
      "Epoch 32/500\n",
      "16/16 [==============================] - 0s 5ms/step - loss: 3502.5166 - val_loss: 2736.1001\n",
      "Epoch 33/500\n",
      "16/16 [==============================] - 0s 5ms/step - loss: 3451.6492 - val_loss: 2676.9346\n",
      "Epoch 34/500\n",
      "16/16 [==============================] - 0s 5ms/step - loss: 3383.2712 - val_loss: 2628.0100\n",
      "Epoch 35/500\n",
      "16/16 [==============================] - 0s 6ms/step - loss: 3328.1609 - val_loss: 2579.6797\n",
      "Epoch 36/500\n",
      "16/16 [==============================] - 0s 6ms/step - loss: 3274.3408 - val_loss: 2532.7163\n",
      "Epoch 37/500\n",
      "16/16 [==============================] - 0s 6ms/step - loss: 3221.8936 - val_loss: 2486.8838\n",
      "Epoch 38/500\n",
      "16/16 [==============================] - 0s 6ms/step - loss: 3170.5696 - val_loss: 2441.9973\n",
      "Epoch 39/500\n",
      "16/16 [==============================] - 0s 6ms/step - loss: 3120.1978 - val_loss: 2397.9397\n",
      "Epoch 40/500\n",
      "16/16 [==============================] - 0s 6ms/step - loss: 3070.6721 - val_loss: 2354.6360\n",
      "Epoch 41/500\n",
      "16/16 [==============================] - 0s 6ms/step - loss: 3021.9199 - val_loss: 2312.0347\n",
      "Epoch 42/500\n",
      "16/16 [==============================] - 0s 6ms/step - loss: 2973.8931 - val_loss: 2270.0991\n",
      "Epoch 43/500\n",
      "16/16 [==============================] - 0s 6ms/step - loss: 2926.5540 - val_loss: 2228.7996\n",
      "Epoch 44/500\n",
      "16/16 [==============================] - 0s 6ms/step - loss: 2879.8752 - val_loss: 2188.1133\n",
      "Epoch 45/500\n",
      "16/16 [==============================] - 0s 5ms/step - loss: 2831.1499 - val_loss: 2138.5183\n",
      "Epoch 46/500\n",
      "16/16 [==============================] - 0s 10ms/step - loss: 2775.0417 - val_loss: 2094.0078\n",
      "Epoch 47/500\n",
      "16/16 [==============================] - 0s 5ms/step - loss: 2724.8054 - val_loss: 2050.8301\n",
      "Epoch 48/500\n",
      "16/16 [==============================] - 0s 5ms/step - loss: 2676.1450 - val_loss: 2009.0255\n",
      "Epoch 49/500\n",
      "16/16 [==============================] - 0s 5ms/step - loss: 2628.8584 - val_loss: 1968.3375\n",
      "Epoch 50/500\n",
      "16/16 [==============================] - 0s 5ms/step - loss: 2582.6956 - val_loss: 1928.5928\n",
      "Epoch 51/500\n",
      "16/16 [==============================] - 0s 5ms/step - loss: 2537.4941 - val_loss: 1889.6814\n",
      "Epoch 52/500\n",
      "16/16 [==============================] - 0s 4ms/step - loss: 2493.1516 - val_loss: 1851.5294\n",
      "Epoch 53/500\n",
      "16/16 [==============================] - 0s 4ms/step - loss: 2449.5967 - val_loss: 1814.0857\n",
      "Epoch 54/500\n",
      "16/16 [==============================] - 0s 4ms/step - loss: 2406.7793 - val_loss: 1777.3121\n",
      "Epoch 55/500\n",
      "16/16 [==============================] - 0s 5ms/step - loss: 2364.6609 - val_loss: 1741.1781\n",
      "Epoch 56/500\n",
      "16/16 [==============================] - 0s 5ms/step - loss: 2323.2100 - val_loss: 1705.6580\n",
      "Epoch 57/500\n",
      "16/16 [==============================] - 0s 5ms/step - loss: 2282.4019 - val_loss: 1670.7338\n",
      "Epoch 58/500\n",
      "16/16 [==============================] - 0s 5ms/step - loss: 2242.2161 - val_loss: 1636.3857\n",
      "Epoch 59/500\n",
      "16/16 [==============================] - 0s 5ms/step - loss: 2202.6340 - val_loss: 1602.5995\n",
      "Epoch 60/500\n",
      "16/16 [==============================] - 0s 5ms/step - loss: 2163.6414 - val_loss: 1569.3618\n",
      "Epoch 61/500\n",
      "16/16 [==============================] - 0s 5ms/step - loss: 2125.2219 - val_loss: 1536.6599\n",
      "Epoch 62/500\n",
      "16/16 [==============================] - 0s 5ms/step - loss: 2087.0322 - val_loss: 1501.1038\n",
      "Epoch 63/500\n",
      "16/16 [==============================] - 0s 5ms/step - loss: 2043.8668 - val_loss: 1464.9100\n",
      "Epoch 64/500\n",
      "16/16 [==============================] - 0s 5ms/step - loss: 2001.8667 - val_loss: 1429.6801\n",
      "Epoch 65/500\n",
      "16/16 [==============================] - 0s 5ms/step - loss: 1961.2690 - val_loss: 1395.7545\n",
      "Epoch 66/500\n",
      "16/16 [==============================] - 0s 5ms/step - loss: 1922.0077 - val_loss: 1362.8959\n",
      "Epoch 67/500\n",
      "16/16 [==============================] - 0s 6ms/step - loss: 1883.8351 - val_loss: 1330.9310\n",
      "Epoch 68/500\n",
      "16/16 [==============================] - 0s 5ms/step - loss: 1846.5847 - val_loss: 1299.7487\n",
      "Epoch 69/500\n",
      "16/16 [==============================] - 0s 5ms/step - loss: 1810.1514 - val_loss: 1269.2773\n",
      "Epoch 70/500\n",
      "16/16 [==============================] - 0s 5ms/step - loss: 1774.4640 - val_loss: 1239.4652\n",
      "Epoch 71/500\n",
      "16/16 [==============================] - 0s 9ms/step - loss: 1739.4712 - val_loss: 1210.2750\n",
      "Epoch 72/500\n",
      "16/16 [==============================] - 0s 5ms/step - loss: 1705.1342 - val_loss: 1181.6754\n",
      "Epoch 73/500\n",
      "16/16 [==============================] - 0s 5ms/step - loss: 1671.4220 - val_loss: 1153.6440\n",
      "Epoch 74/500\n",
      "16/16 [==============================] - 0s 5ms/step - loss: 1638.3108 - val_loss: 1126.1584\n",
      "Epoch 75/500\n",
      "16/16 [==============================] - 0s 4ms/step - loss: 1605.7778 - val_loss: 1099.2040\n",
      "Epoch 76/500\n",
      "16/16 [==============================] - 0s 4ms/step - loss: 1573.8074 - val_loss: 1072.7642\n",
      "Epoch 77/500\n",
      "16/16 [==============================] - 0s 4ms/step - loss: 1542.3816 - val_loss: 1046.8257\n",
      "Epoch 78/500\n",
      "16/16 [==============================] - 0s 5ms/step - loss: 1511.4880 - val_loss: 1021.3757\n",
      "Epoch 79/500\n",
      "16/16 [==============================] - 0s 4ms/step - loss: 1481.1128 - val_loss: 996.4048\n",
      "Epoch 80/500\n",
      "16/16 [==============================] - 0s 4ms/step - loss: 1451.2448 - val_loss: 971.9015\n",
      "Epoch 81/500\n",
      "16/16 [==============================] - 0s 5ms/step - loss: 1421.8739 - val_loss: 947.8572\n",
      "Epoch 82/500\n",
      "16/16 [==============================] - 0s 4ms/step - loss: 1392.9899 - val_loss: 924.2632\n",
      "Epoch 83/500\n",
      "16/16 [==============================] - 0s 4ms/step - loss: 1364.5837 - val_loss: 901.1115\n",
      "Epoch 84/500\n",
      "16/16 [==============================] - 0s 4ms/step - loss: 1336.6478 - val_loss: 878.3940\n",
      "Epoch 85/500\n",
      "16/16 [==============================] - 0s 4ms/step - loss: 1309.1733 - val_loss: 856.1031\n",
      "Epoch 86/500\n",
      "16/16 [==============================] - 0s 4ms/step - loss: 1282.1527 - val_loss: 834.2315\n",
      "Epoch 87/500\n",
      "16/16 [==============================] - 0s 4ms/step - loss: 1255.5789 - val_loss: 812.7740\n",
      "Epoch 88/500\n",
      "16/16 [==============================] - 0s 4ms/step - loss: 1229.4447 - val_loss: 791.7234\n",
      "Epoch 89/500\n",
      "16/16 [==============================] - 0s 4ms/step - loss: 1203.7438 - val_loss: 771.0719\n",
      "Epoch 90/500\n",
      "16/16 [==============================] - 0s 4ms/step - loss: 1178.4688 - val_loss: 750.8159\n",
      "Epoch 91/500\n",
      "16/16 [==============================] - 0s 5ms/step - loss: 1153.6146 - val_loss: 730.9475\n",
      "Epoch 92/500\n",
      "16/16 [==============================] - 0s 4ms/step - loss: 1129.1750 - val_loss: 711.4630\n",
      "Epoch 93/500\n",
      "16/16 [==============================] - 0s 4ms/step - loss: 1105.1444 - val_loss: 692.3552\n",
      "Epoch 94/500\n",
      "16/16 [==============================] - 0s 5ms/step - loss: 1081.5170 - val_loss: 673.6203\n",
      "Epoch 95/500\n",
      "16/16 [==============================] - 0s 4ms/step - loss: 1058.2869 - val_loss: 655.2515\n",
      "Epoch 96/500\n",
      "16/16 [==============================] - 0s 8ms/step - loss: 1035.4489 - val_loss: 637.2446\n",
      "Epoch 97/500\n",
      "16/16 [==============================] - 0s 5ms/step - loss: 1012.9985 - val_loss: 619.5944\n",
      "Epoch 98/500\n",
      "16/16 [==============================] - 0s 4ms/step - loss: 990.9298 - val_loss: 602.2957\n",
      "Epoch 99/500\n",
      "16/16 [==============================] - 0s 5ms/step - loss: 969.2380 - val_loss: 585.3439\n",
      "Epoch 100/500\n",
      "16/16 [==============================] - 0s 5ms/step - loss: 947.9187 - val_loss: 568.7347\n",
      "Epoch 101/500\n",
      "16/16 [==============================] - 0s 4ms/step - loss: 926.9666 - val_loss: 552.4630\n",
      "Epoch 102/500\n",
      "16/16 [==============================] - 0s 5ms/step - loss: 906.3771 - val_loss: 536.5240\n",
      "Epoch 103/500\n",
      "16/16 [==============================] - 0s 4ms/step - loss: 886.1462 - val_loss: 520.9141\n",
      "Epoch 104/500\n",
      "16/16 [==============================] - 0s 4ms/step - loss: 866.2685 - val_loss: 505.6280\n",
      "Epoch 105/500\n",
      "16/16 [==============================] - 0s 5ms/step - loss: 846.7394 - val_loss: 490.6609\n",
      "Epoch 106/500\n",
      "16/16 [==============================] - 0s 4ms/step - loss: 827.5552 - val_loss: 476.0097\n",
      "Epoch 107/500\n",
      "16/16 [==============================] - 0s 7ms/step - loss: 808.7110 - val_loss: 461.6689\n",
      "Epoch 108/500\n",
      "16/16 [==============================] - 0s 5ms/step - loss: 790.2028 - val_loss: 447.6356\n",
      "Epoch 109/500\n",
      "16/16 [==============================] - 0s 5ms/step - loss: 772.0262 - val_loss: 433.9043\n",
      "Epoch 110/500\n",
      "16/16 [==============================] - 0s 5ms/step - loss: 754.1771 - val_loss: 420.4712\n",
      "Epoch 111/500\n",
      "16/16 [==============================] - 0s 4ms/step - loss: 736.6512 - val_loss: 407.3330\n",
      "Epoch 112/500\n",
      "16/16 [==============================] - 0s 4ms/step - loss: 719.4449 - val_loss: 394.4849\n",
      "Epoch 113/500\n",
      "16/16 [==============================] - 0s 4ms/step - loss: 702.5536 - val_loss: 381.9236\n",
      "Epoch 114/500\n",
      "16/16 [==============================] - 0s 4ms/step - loss: 685.9736 - val_loss: 369.6443\n",
      "Epoch 115/500\n",
      "16/16 [==============================] - 0s 4ms/step - loss: 669.7009 - val_loss: 357.6436\n",
      "Epoch 116/500\n",
      "16/16 [==============================] - 0s 4ms/step - loss: 653.7318 - val_loss: 345.9181\n",
      "Epoch 117/500\n",
      "16/16 [==============================] - 0s 5ms/step - loss: 638.0624 - val_loss: 334.4623\n",
      "Epoch 118/500\n",
      "16/16 [==============================] - 0s 5ms/step - loss: 622.6881 - val_loss: 323.2733\n",
      "Epoch 119/500\n",
      "16/16 [==============================] - 0s 4ms/step - loss: 607.6060 - val_loss: 312.3482\n",
      "Epoch 120/500\n",
      "16/16 [==============================] - 0s 5ms/step - loss: 592.8120 - val_loss: 301.6823\n",
      "Epoch 121/500\n",
      "16/16 [==============================] - 0s 7ms/step - loss: 578.3022 - val_loss: 291.2722\n",
      "Epoch 122/500\n",
      "16/16 [==============================] - 0s 5ms/step - loss: 564.0731 - val_loss: 281.1132\n",
      "Epoch 123/500\n",
      "16/16 [==============================] - 0s 8ms/step - loss: 550.1210 - val_loss: 271.2032\n",
      "Epoch 124/500\n",
      "16/16 [==============================] - 0s 5ms/step - loss: 536.4421 - val_loss: 261.5374\n",
      "Epoch 125/500\n",
      "16/16 [==============================] - 0s 4ms/step - loss: 523.0330 - val_loss: 252.1126\n",
      "Epoch 126/500\n",
      "16/16 [==============================] - 0s 4ms/step - loss: 509.8899 - val_loss: 242.9255\n",
      "Epoch 127/500\n",
      "16/16 [==============================] - 0s 5ms/step - loss: 497.0092 - val_loss: 233.9719\n",
      "Epoch 128/500\n",
      "16/16 [==============================] - 0s 4ms/step - loss: 484.3877 - val_loss: 225.2487\n",
      "Epoch 129/500\n",
      "16/16 [==============================] - 0s 4ms/step - loss: 472.0217 - val_loss: 216.7522\n",
      "Epoch 130/500\n",
      "16/16 [==============================] - 0s 4ms/step - loss: 459.9076 - val_loss: 208.4794\n",
      "Epoch 131/500\n",
      "16/16 [==============================] - 0s 4ms/step - loss: 448.0424 - val_loss: 200.4263\n",
      "Epoch 132/500\n",
      "16/16 [==============================] - 0s 4ms/step - loss: 436.4221 - val_loss: 192.5893\n",
      "Epoch 133/500\n",
      "16/16 [==============================] - 0s 4ms/step - loss: 425.0437 - val_loss: 184.9656\n",
      "Epoch 134/500\n",
      "16/16 [==============================] - 0s 4ms/step - loss: 413.9035 - val_loss: 177.5515\n",
      "Epoch 135/500\n",
      "16/16 [==============================] - 0s 4ms/step - loss: 402.9984 - val_loss: 170.3431\n",
      "Epoch 136/500\n",
      "16/16 [==============================] - 0s 4ms/step - loss: 392.3247 - val_loss: 163.3380\n",
      "Epoch 137/500\n",
      "16/16 [==============================] - 0s 4ms/step - loss: 381.8795 - val_loss: 156.5326\n",
      "Epoch 138/500\n",
      "16/16 [==============================] - 0s 4ms/step - loss: 371.6596 - val_loss: 149.9230\n",
      "Epoch 139/500\n",
      "16/16 [==============================] - 0s 4ms/step - loss: 361.6613 - val_loss: 143.5066\n",
      "Epoch 140/500\n",
      "16/16 [==============================] - 0s 4ms/step - loss: 351.8814 - val_loss: 137.2796\n",
      "Epoch 141/500\n",
      "16/16 [==============================] - 0s 4ms/step - loss: 342.3167 - val_loss: 131.2392\n",
      "Epoch 142/500\n",
      "16/16 [==============================] - 0s 4ms/step - loss: 332.9643 - val_loss: 125.3818\n",
      "Epoch 143/500\n",
      "16/16 [==============================] - 0s 4ms/step - loss: 323.8206 - val_loss: 119.7045\n",
      "Epoch 144/500\n",
      "16/16 [==============================] - 0s 4ms/step - loss: 314.8828 - val_loss: 114.2042\n",
      "Epoch 145/500\n",
      "16/16 [==============================] - 0s 4ms/step - loss: 306.1476 - val_loss: 108.8775\n",
      "Epoch 146/500\n",
      "16/16 [==============================] - 0s 7ms/step - loss: 297.6119 - val_loss: 103.7212\n",
      "Epoch 147/500\n",
      "16/16 [==============================] - 0s 4ms/step - loss: 289.2726 - val_loss: 98.7323\n",
      "Epoch 148/500\n",
      "16/16 [==============================] - 0s 4ms/step - loss: 281.1266 - val_loss: 93.9081\n",
      "Epoch 149/500\n",
      "16/16 [==============================] - 0s 4ms/step - loss: 273.1709 - val_loss: 89.2448\n",
      "Epoch 150/500\n",
      "16/16 [==============================] - 0s 4ms/step - loss: 265.4023 - val_loss: 84.7397\n",
      "Epoch 151/500\n",
      "16/16 [==============================] - 0s 5ms/step - loss: 257.8180 - val_loss: 80.3900\n",
      "Epoch 152/500\n",
      "16/16 [==============================] - 0s 5ms/step - loss: 250.4149 - val_loss: 76.1923\n",
      "Epoch 153/500\n",
      "16/16 [==============================] - 0s 4ms/step - loss: 243.1900 - val_loss: 72.1439\n",
      "Epoch 154/500\n",
      "16/16 [==============================] - 0s 4ms/step - loss: 236.1404 - val_loss: 68.2417\n",
      "Epoch 155/500\n",
      "16/16 [==============================] - 0s 5ms/step - loss: 229.2633 - val_loss: 64.4828\n",
      "Epoch 156/500\n",
      "16/16 [==============================] - 0s 4ms/step - loss: 222.5556 - val_loss: 60.8643\n",
      "Epoch 157/500\n",
      "16/16 [==============================] - 0s 5ms/step - loss: 216.0146 - val_loss: 57.3836\n",
      "Epoch 158/500\n",
      "16/16 [==============================] - 0s 7ms/step - loss: 209.6372 - val_loss: 54.0371\n",
      "Epoch 159/500\n",
      "16/16 [==============================] - 0s 4ms/step - loss: 203.4206 - val_loss: 50.8229\n",
      "Epoch 160/500\n",
      "16/16 [==============================] - 0s 4ms/step - loss: 197.3622 - val_loss: 47.7371\n",
      "Epoch 161/500\n",
      "16/16 [==============================] - 0s 5ms/step - loss: 191.4590 - val_loss: 44.7779\n",
      "Epoch 162/500\n",
      "16/16 [==============================] - 0s 6ms/step - loss: 185.7083 - val_loss: 41.9418\n",
      "Epoch 163/500\n",
      "16/16 [==============================] - 0s 6ms/step - loss: 180.1073 - val_loss: 39.2267\n",
      "Epoch 164/500\n",
      "16/16 [==============================] - 0s 6ms/step - loss: 174.6533 - val_loss: 36.6291\n",
      "Epoch 165/500\n",
      "16/16 [==============================] - 0s 4ms/step - loss: 169.3437 - val_loss: 34.1469\n",
      "Epoch 166/500\n",
      "16/16 [==============================] - 0s 8ms/step - loss: 164.1757 - val_loss: 31.7774\n",
      "Epoch 167/500\n",
      "16/16 [==============================] - 0s 4ms/step - loss: 159.1466 - val_loss: 29.5176\n",
      "Epoch 168/500\n",
      "16/16 [==============================] - 0s 5ms/step - loss: 154.2538 - val_loss: 27.3651\n",
      "Epoch 169/500\n",
      "16/16 [==============================] - 0s 5ms/step - loss: 149.4948 - val_loss: 25.3172\n",
      "Epoch 170/500\n",
      "16/16 [==============================] - 0s 4ms/step - loss: 144.8668 - val_loss: 23.3716\n",
      "Epoch 171/500\n",
      "16/16 [==============================] - 0s 4ms/step - loss: 140.3675 - val_loss: 21.5253\n",
      "Epoch 172/500\n",
      "16/16 [==============================] - 0s 4ms/step - loss: 135.9940 - val_loss: 19.7761\n",
      "Epoch 173/500\n",
      "16/16 [==============================] - 0s 4ms/step - loss: 131.7442 - val_loss: 18.1214\n",
      "Epoch 174/500\n",
      "16/16 [==============================] - 0s 4ms/step - loss: 127.6152 - val_loss: 16.5587\n",
      "Epoch 175/500\n",
      "16/16 [==============================] - 0s 5ms/step - loss: 123.6048 - val_loss: 15.0855\n",
      "Epoch 176/500\n",
      "16/16 [==============================] - 0s 4ms/step - loss: 119.7104 - val_loss: 13.6997\n",
      "Epoch 177/500\n",
      "16/16 [==============================] - 0s 4ms/step - loss: 115.9298 - val_loss: 12.3985\n",
      "Epoch 178/500\n",
      "16/16 [==============================] - 0s 4ms/step - loss: 112.2602 - val_loss: 11.1796\n",
      "Epoch 179/500\n",
      "16/16 [==============================] - 0s 4ms/step - loss: 108.6995 - val_loss: 10.0410\n",
      "Epoch 180/500\n",
      "16/16 [==============================] - 0s 4ms/step - loss: 105.2454 - val_loss: 8.9801\n",
      "Epoch 181/500\n",
      "16/16 [==============================] - 0s 4ms/step - loss: 101.8955 - val_loss: 7.9946\n",
      "Epoch 182/500\n",
      "16/16 [==============================] - 0s 4ms/step - loss: 98.6474 - val_loss: 7.0825\n",
      "Epoch 183/500\n",
      "16/16 [==============================] - 0s 4ms/step - loss: 95.4990 - val_loss: 6.2413\n",
      "Epoch 184/500\n",
      "16/16 [==============================] - 0s 4ms/step - loss: 92.4480 - val_loss: 5.4689\n",
      "Epoch 185/500\n",
      "16/16 [==============================] - 0s 4ms/step - loss: 89.4920 - val_loss: 4.7631\n",
      "Epoch 186/500\n",
      "16/16 [==============================] - 0s 4ms/step - loss: 86.6291 - val_loss: 4.1220\n",
      "Epoch 187/500\n",
      "16/16 [==============================] - 0s 4ms/step - loss: 83.8570 - val_loss: 3.5432\n",
      "Epoch 188/500\n",
      "16/16 [==============================] - 0s 5ms/step - loss: 81.1736 - val_loss: 3.0248\n",
      "Epoch 189/500\n",
      "16/16 [==============================] - 0s 7ms/step - loss: 78.5767 - val_loss: 2.5648\n",
      "Epoch 190/500\n",
      "16/16 [==============================] - 0s 4ms/step - loss: 76.0644 - val_loss: 2.1610\n",
      "Epoch 191/500\n",
      "16/16 [==============================] - 0s 4ms/step - loss: 73.6345 - val_loss: 1.8115\n",
      "Epoch 192/500\n",
      "16/16 [==============================] - 0s 4ms/step - loss: 71.2849 - val_loss: 1.5144\n",
      "Epoch 193/500\n",
      "16/16 [==============================] - 0s 4ms/step - loss: 69.0137 - val_loss: 1.2678\n",
      "Epoch 194/500\n",
      "16/16 [==============================] - 0s 4ms/step - loss: 66.8191 - val_loss: 1.0698\n",
      "Epoch 195/500\n",
      "16/16 [==============================] - 0s 4ms/step - loss: 64.6989 - val_loss: 0.9184\n",
      "Epoch 196/500\n",
      "16/16 [==============================] - 0s 4ms/step - loss: 62.6513 - val_loss: 0.8120\n",
      "Epoch 197/500\n",
      "16/16 [==============================] - 0s 4ms/step - loss: 60.6744 - val_loss: 0.7486\n",
      "Epoch 198/500\n",
      "16/16 [==============================] - 0s 4ms/step - loss: 58.7663 - val_loss: 0.7266\n",
      "Epoch 199/500\n",
      "16/16 [==============================] - 0s 4ms/step - loss: 56.9253 - val_loss: 0.7442\n",
      "Epoch 200/500\n",
      "16/16 [==============================] - 0s 4ms/step - loss: 55.1493 - val_loss: 0.7998\n",
      "Epoch 201/500\n",
      "16/16 [==============================] - 0s 4ms/step - loss: 53.4367 - val_loss: 0.8915\n",
      "Epoch 202/500\n",
      "16/16 [==============================] - 0s 4ms/step - loss: 51.7858 - val_loss: 1.0180\n",
      "Epoch 203/500\n",
      "16/16 [==============================] - 0s 4ms/step - loss: 50.1949 - val_loss: 1.1775\n",
      "Epoch 204/500\n",
      "16/16 [==============================] - 0s 4ms/step - loss: 48.6623 - val_loss: 1.3684\n",
      "Epoch 205/500\n",
      "16/16 [==============================] - 0s 5ms/step - loss: 47.1862 - val_loss: 1.5893\n",
      "Epoch 206/500\n",
      "16/16 [==============================] - 0s 5ms/step - loss: 45.7653 - val_loss: 1.8386\n",
      "Epoch 207/500\n",
      "16/16 [==============================] - 0s 4ms/step - loss: 44.3976 - val_loss: 2.1150\n",
      "Epoch 208/500\n",
      "16/16 [==============================] - 0s 4ms/step - loss: 43.0818 - val_loss: 2.4168\n",
      "Epoch 209/500\n",
      "16/16 [==============================] - 0s 4ms/step - loss: 41.8163 - val_loss: 2.7429\n",
      "Epoch 210/500\n",
      "16/16 [==============================] - 0s 4ms/step - loss: 40.5996 - val_loss: 3.0917\n",
      "Epoch 211/500\n",
      "16/16 [==============================] - 0s 4ms/step - loss: 39.4301 - val_loss: 3.4620\n",
      "Epoch 212/500\n",
      "16/16 [==============================] - 0s 4ms/step - loss: 38.3065 - val_loss: 3.8525\n",
      "Epoch 213/500\n",
      "16/16 [==============================] - 0s 5ms/step - loss: 37.2272 - val_loss: 4.2619\n",
      "Epoch 214/500\n",
      "16/16 [==============================] - 0s 4ms/step - loss: 36.1910 - val_loss: 4.6889\n",
      "Epoch 215/500\n",
      "16/16 [==============================] - 0s 8ms/step - loss: 35.1966 - val_loss: 5.1324\n",
      "Epoch 216/500\n",
      "16/16 [==============================] - 0s 4ms/step - loss: 34.2423 - val_loss: 5.5912\n",
      "Epoch 217/500\n",
      "16/16 [==============================] - 0s 4ms/step - loss: 33.3271 - val_loss: 6.0641\n",
      "Epoch 218/500\n",
      "16/16 [==============================] - 0s 4ms/step - loss: 32.4496 - val_loss: 6.5501\n",
      "Epoch 219/500\n",
      "16/16 [==============================] - 0s 4ms/step - loss: 31.6086 - val_loss: 7.0482\n",
      "Epoch 220/500\n",
      "16/16 [==============================] - 0s 4ms/step - loss: 30.8028 - val_loss: 7.5570\n",
      "Epoch 221/500\n",
      "16/16 [==============================] - 0s 4ms/step - loss: 30.0311 - val_loss: 8.0759\n",
      "Epoch 222/500\n",
      "16/16 [==============================] - 0s 4ms/step - loss: 29.2922 - val_loss: 8.6037\n",
      "Epoch 223/500\n",
      "16/16 [==============================] - 0s 4ms/step - loss: 28.5851 - val_loss: 9.1395\n",
      "Epoch 224/500\n",
      "16/16 [==============================] - 0s 4ms/step - loss: 27.9086 - val_loss: 9.6824\n",
      "Epoch 225/500\n",
      "16/16 [==============================] - 0s 4ms/step - loss: 27.2617 - val_loss: 10.2316\n",
      "Epoch 226/500\n",
      "16/16 [==============================] - 0s 4ms/step - loss: 26.6433 - val_loss: 10.7859\n",
      "Epoch 227/500\n",
      "16/16 [==============================] - 0s 4ms/step - loss: 26.0524 - val_loss: 11.3450\n",
      "Epoch 228/500\n",
      "16/16 [==============================] - 0s 4ms/step - loss: 25.4879 - val_loss: 11.9077\n",
      "Epoch 229/500\n",
      "16/16 [==============================] - 0s 9ms/step - loss: 24.9490 - val_loss: 12.4734\n",
      "Epoch 230/500\n",
      "16/16 [==============================] - 0s 4ms/step - loss: 24.4345 - val_loss: 13.0414\n",
      "Epoch 231/500\n",
      "16/16 [==============================] - 0s 4ms/step - loss: 23.9436 - val_loss: 13.6108\n",
      "Epoch 232/500\n",
      "16/16 [==============================] - 0s 4ms/step - loss: 23.4754 - val_loss: 14.1811\n",
      "Epoch 233/500\n",
      "16/16 [==============================] - 0s 4ms/step - loss: 23.0291 - val_loss: 14.7517\n",
      "Epoch 234/500\n",
      "16/16 [==============================] - 0s 4ms/step - loss: 22.6037 - val_loss: 15.3218\n",
      "Epoch 235/500\n",
      "16/16 [==============================] - 0s 4ms/step - loss: 22.1984 - val_loss: 15.8909\n",
      "Epoch 236/500\n",
      "16/16 [==============================] - 0s 4ms/step - loss: 21.8125 - val_loss: 16.4584\n",
      "Epoch 237/500\n",
      "16/16 [==============================] - 0s 4ms/step - loss: 21.4452 - val_loss: 17.0240\n",
      "Epoch 238/500\n",
      "16/16 [==============================] - 0s 8ms/step - loss: 21.0956 - val_loss: 17.5867\n",
      "Epoch 239/500\n",
      "16/16 [==============================] - 0s 4ms/step - loss: 20.7632 - val_loss: 18.1463\n",
      "Epoch 240/500\n",
      "16/16 [==============================] - 0s 4ms/step - loss: 20.4471 - val_loss: 18.7024\n",
      "Epoch 241/500\n",
      "16/16 [==============================] - 0s 5ms/step - loss: 20.1467 - val_loss: 19.2544\n",
      "Epoch 242/500\n",
      "16/16 [==============================] - 0s 5ms/step - loss: 19.8613 - val_loss: 19.8019\n",
      "Epoch 243/500\n",
      "16/16 [==============================] - 0s 5ms/step - loss: 19.5903 - val_loss: 20.3447\n",
      "Epoch 244/500\n",
      "16/16 [==============================] - 0s 5ms/step - loss: 19.3330 - val_loss: 20.8822\n",
      "Epoch 245/500\n",
      "16/16 [==============================] - 0s 4ms/step - loss: 19.0889 - val_loss: 21.4140\n",
      "Epoch 246/500\n",
      "16/16 [==============================] - 0s 5ms/step - loss: 18.8575 - val_loss: 21.9401\n",
      "Epoch 247/500\n",
      "16/16 [==============================] - 0s 5ms/step - loss: 18.6380 - val_loss: 22.4601\n",
      "Epoch 248/500\n",
      "16/16 [==============================] - 0s 5ms/step - loss: 18.4299 - val_loss: 22.9735\n",
      "Epoch 249/500\n",
      "16/16 [==============================] - 0s 5ms/step - loss: 18.2328 - val_loss: 23.4801\n",
      "Epoch 250/500\n",
      "16/16 [==============================] - 0s 5ms/step - loss: 18.0462 - val_loss: 23.9798\n",
      "Epoch 251/500\n",
      "16/16 [==============================] - 0s 5ms/step - loss: 17.8696 - val_loss: 24.4723\n",
      "Epoch 252/500\n",
      "16/16 [==============================] - 0s 5ms/step - loss: 17.7024 - val_loss: 24.9574\n",
      "Epoch 253/500\n",
      "16/16 [==============================] - 0s 5ms/step - loss: 17.5443 - val_loss: 25.4348\n",
      "Epoch 254/500\n",
      "16/16 [==============================] - 0s 5ms/step - loss: 17.3949 - val_loss: 25.9045\n",
      "Epoch 255/500\n",
      "16/16 [==============================] - 0s 5ms/step - loss: 17.2536 - val_loss: 26.3661\n",
      "Epoch 256/500\n",
      "16/16 [==============================] - 0s 5ms/step - loss: 17.1202 - val_loss: 26.8201\n",
      "Epoch 257/500\n",
      "16/16 [==============================] - 0s 5ms/step - loss: 16.9941 - val_loss: 27.2656\n",
      "Epoch 258/500\n",
      "16/16 [==============================] - 0s 5ms/step - loss: 16.8752 - val_loss: 27.7028\n",
      "Epoch 259/500\n",
      "16/16 [==============================] - 0s 6ms/step - loss: 16.7630 - val_loss: 28.1317\n",
      "Epoch 260/500\n",
      "16/16 [==============================] - 0s 5ms/step - loss: 16.6571 - val_loss: 28.5525\n",
      "Epoch 261/500\n",
      "16/16 [==============================] - 0s 5ms/step - loss: 16.5572 - val_loss: 28.9646\n",
      "Epoch 262/500\n",
      "16/16 [==============================] - 0s 5ms/step - loss: 16.4631 - val_loss: 29.3681\n",
      "Epoch 263/500\n",
      "16/16 [==============================] - 0s 5ms/step - loss: 16.3745 - val_loss: 29.7626\n",
      "Epoch 264/500\n",
      "16/16 [==============================] - 0s 5ms/step - loss: 16.2911 - val_loss: 30.1491\n",
      "Epoch 265/500\n",
      "16/16 [==============================] - 0s 5ms/step - loss: 16.2124 - val_loss: 30.5268\n",
      "Epoch 266/500\n",
      "16/16 [==============================] - 0s 5ms/step - loss: 16.1384 - val_loss: 30.8957\n",
      "Epoch 267/500\n",
      "16/16 [==============================] - 0s 5ms/step - loss: 16.0689 - val_loss: 31.2561\n",
      "Epoch 268/500\n",
      "16/16 [==============================] - 0s 5ms/step - loss: 16.0034 - val_loss: 31.6080\n",
      "Epoch 269/500\n",
      "16/16 [==============================] - 0s 5ms/step - loss: 15.9420 - val_loss: 31.9515\n",
      "Epoch 270/500\n",
      "16/16 [==============================] - 0s 5ms/step - loss: 15.8841 - val_loss: 32.2864\n",
      "Epoch 271/500\n",
      "16/16 [==============================] - 0s 5ms/step - loss: 15.8298 - val_loss: 32.6127\n",
      "Epoch 272/500\n",
      "16/16 [==============================] - 0s 5ms/step - loss: 15.7787 - val_loss: 32.9307\n",
      "Epoch 273/500\n",
      "16/16 [==============================] - 0s 5ms/step - loss: 15.7309 - val_loss: 33.2403\n",
      "Epoch 274/500\n",
      "16/16 [==============================] - 0s 5ms/step - loss: 15.6859 - val_loss: 33.5418\n",
      "Epoch 275/500\n",
      "16/16 [==============================] - 0s 5ms/step - loss: 15.6437 - val_loss: 33.8348\n",
      "Epoch 276/500\n",
      "16/16 [==============================] - 0s 5ms/step - loss: 15.6042 - val_loss: 34.1200\n",
      "Epoch 277/500\n",
      "16/16 [==============================] - 0s 5ms/step - loss: 15.5671 - val_loss: 34.3970\n",
      "Epoch 278/500\n",
      "16/16 [==============================] - 0s 8ms/step - loss: 15.5324 - val_loss: 34.6662\n",
      "Epoch 279/500\n",
      "16/16 [==============================] - 0s 5ms/step - loss: 15.4997 - val_loss: 34.9276\n",
      "Epoch 280/500\n",
      "16/16 [==============================] - 0s 5ms/step - loss: 15.4693 - val_loss: 35.1815\n",
      "Epoch 281/500\n",
      "16/16 [==============================] - 0s 5ms/step - loss: 15.4407 - val_loss: 35.4278\n",
      "Epoch 282/500\n",
      "16/16 [==============================] - 0s 5ms/step - loss: 15.4138 - val_loss: 35.6664\n",
      "Epoch 283/500\n",
      "16/16 [==============================] - 0s 5ms/step - loss: 15.3888 - val_loss: 35.8976\n",
      "Epoch 284/500\n",
      "16/16 [==============================] - 0s 5ms/step - loss: 15.3654 - val_loss: 36.1220\n",
      "Epoch 285/500\n",
      "16/16 [==============================] - 0s 5ms/step - loss: 15.3434 - val_loss: 36.3391\n",
      "Epoch 286/500\n",
      "16/16 [==============================] - 0s 5ms/step - loss: 15.3228 - val_loss: 36.5490\n",
      "Epoch 287/500\n",
      "16/16 [==============================] - 0s 5ms/step - loss: 15.3037 - val_loss: 36.7522\n",
      "Epoch 288/500\n",
      "16/16 [==============================] - 0s 5ms/step - loss: 15.2857 - val_loss: 36.9489\n",
      "Epoch 289/500\n",
      "16/16 [==============================] - 0s 5ms/step - loss: 15.2690 - val_loss: 37.1388\n",
      "Epoch 290/500\n",
      "16/16 [==============================] - 0s 5ms/step - loss: 15.2533 - val_loss: 37.3224\n",
      "Epoch 291/500\n",
      "16/16 [==============================] - 0s 5ms/step - loss: 15.2386 - val_loss: 37.4999\n",
      "Epoch 292/500\n",
      "16/16 [==============================] - 0s 4ms/step - loss: 15.2249 - val_loss: 37.6709\n",
      "Epoch 293/500\n",
      "16/16 [==============================] - 0s 5ms/step - loss: 15.2121 - val_loss: 37.8362\n",
      "Epoch 294/500\n",
      "16/16 [==============================] - 0s 5ms/step - loss: 15.2001 - val_loss: 37.9955\n",
      "Epoch 295/500\n",
      "16/16 [==============================] - 0s 5ms/step - loss: 15.1890 - val_loss: 38.1488\n",
      "Epoch 296/500\n",
      "16/16 [==============================] - 0s 5ms/step - loss: 15.1786 - val_loss: 38.2969\n",
      "Epoch 297/500\n",
      "16/16 [==============================] - 0s 5ms/step - loss: 15.1689 - val_loss: 38.4393\n",
      "Epoch 298/500\n",
      "16/16 [==============================] - 0s 5ms/step - loss: 15.1598 - val_loss: 38.5767\n",
      "Epoch 299/500\n",
      "16/16 [==============================] - 0s 5ms/step - loss: 15.1513 - val_loss: 38.7089\n",
      "Epoch 300/500\n",
      "16/16 [==============================] - 0s 5ms/step - loss: 15.1434 - val_loss: 38.8360\n",
      "Epoch 301/500\n",
      "16/16 [==============================] - 0s 5ms/step - loss: 15.1360 - val_loss: 38.9579\n",
      "Epoch 302/500\n",
      "16/16 [==============================] - 0s 4ms/step - loss: 15.1291 - val_loss: 39.0754\n",
      "Epoch 303/500\n",
      "16/16 [==============================] - 0s 9ms/step - loss: 15.1227 - val_loss: 39.1881\n",
      "Epoch 304/500\n",
      "16/16 [==============================] - 0s 5ms/step - loss: 15.1167 - val_loss: 39.2964\n",
      "Epoch 305/500\n",
      "16/16 [==============================] - 0s 5ms/step - loss: 15.1111 - val_loss: 39.4002\n",
      "Epoch 306/500\n",
      "16/16 [==============================] - 0s 5ms/step - loss: 15.1059 - val_loss: 39.4997\n",
      "Epoch 307/500\n",
      "16/16 [==============================] - 0s 5ms/step - loss: 15.1011 - val_loss: 39.5953\n",
      "Epoch 308/500\n",
      "16/16 [==============================] - 0s 5ms/step - loss: 15.0966 - val_loss: 39.6869\n",
      "Epoch 309/500\n",
      "16/16 [==============================] - 0s 5ms/step - loss: 15.0923 - val_loss: 39.7747\n",
      "Epoch 310/500\n",
      "16/16 [==============================] - 0s 5ms/step - loss: 15.0884 - val_loss: 39.8588\n",
      "Epoch 311/500\n",
      "16/16 [==============================] - 0s 5ms/step - loss: 15.0848 - val_loss: 39.9393\n",
      "Epoch 312/500\n",
      "16/16 [==============================] - 0s 5ms/step - loss: 15.0813 - val_loss: 40.0164\n",
      "Epoch 313/500\n",
      "16/16 [==============================] - 0s 5ms/step - loss: 15.0782 - val_loss: 40.0901\n",
      "Epoch 314/500\n",
      "16/16 [==============================] - 0s 5ms/step - loss: 15.0752 - val_loss: 40.1603\n",
      "Epoch 315/500\n",
      "16/16 [==============================] - 0s 5ms/step - loss: 15.0725 - val_loss: 40.2276\n",
      "Epoch 316/500\n",
      "16/16 [==============================] - 0s 4ms/step - loss: 15.0699 - val_loss: 40.2917\n",
      "Epoch 317/500\n",
      "16/16 [==============================] - 0s 5ms/step - loss: 15.0675 - val_loss: 40.3531\n",
      "Epoch 318/500\n",
      "16/16 [==============================] - 0s 5ms/step - loss: 15.0653 - val_loss: 40.4112\n",
      "Epoch 319/500\n",
      "16/16 [==============================] - 0s 4ms/step - loss: 15.0633 - val_loss: 40.4671\n",
      "Epoch 320/500\n",
      "16/16 [==============================] - 0s 5ms/step - loss: 15.0614 - val_loss: 40.5203\n",
      "Epoch 321/500\n",
      "16/16 [==============================] - 0s 4ms/step - loss: 15.0596 - val_loss: 40.5708\n",
      "Epoch 322/500\n",
      "16/16 [==============================] - 0s 4ms/step - loss: 15.0580 - val_loss: 40.6190\n",
      "Epoch 323/500\n",
      "16/16 [==============================] - 0s 7ms/step - loss: 15.0565 - val_loss: 40.6653\n",
      "Epoch 324/500\n",
      "16/16 [==============================] - 0s 5ms/step - loss: 15.0551 - val_loss: 40.7090\n",
      "Epoch 325/500\n",
      "16/16 [==============================] - 0s 5ms/step - loss: 15.0538 - val_loss: 40.7505\n",
      "Epoch 326/500\n",
      "16/16 [==============================] - 0s 5ms/step - loss: 15.0526 - val_loss: 40.7898\n",
      "Epoch 327/500\n",
      "16/16 [==============================] - 0s 5ms/step - loss: 15.0515 - val_loss: 40.8274\n",
      "Epoch 328/500\n",
      "16/16 [==============================] - 0s 5ms/step - loss: 15.0505 - val_loss: 40.8630\n",
      "Epoch 329/500\n",
      "16/16 [==============================] - 0s 5ms/step - loss: 15.0496 - val_loss: 40.8967\n",
      "Epoch 330/500\n",
      "16/16 [==============================] - 0s 5ms/step - loss: 15.0487 - val_loss: 40.9290\n",
      "Epoch 331/500\n",
      "16/16 [==============================] - 0s 5ms/step - loss: 15.0480 - val_loss: 40.9593\n",
      "Epoch 332/500\n",
      "16/16 [==============================] - 0s 5ms/step - loss: 15.0472 - val_loss: 40.9882\n",
      "Epoch 333/500\n",
      "16/16 [==============================] - 0s 5ms/step - loss: 15.0466 - val_loss: 41.0157\n",
      "Epoch 334/500\n",
      "16/16 [==============================] - 0s 5ms/step - loss: 15.0460 - val_loss: 41.0414\n",
      "Epoch 335/500\n",
      "16/16 [==============================] - 0s 4ms/step - loss: 15.0455 - val_loss: 41.0661\n",
      "Epoch 336/500\n",
      "16/16 [==============================] - 0s 5ms/step - loss: 15.0450 - val_loss: 41.0891\n",
      "Epoch 337/500\n",
      "16/16 [==============================] - 0s 4ms/step - loss: 15.0445 - val_loss: 41.1111\n",
      "Epoch 338/500\n",
      "16/16 [==============================] - 0s 4ms/step - loss: 15.0442 - val_loss: 41.1317\n",
      "Epoch 339/500\n",
      "16/16 [==============================] - 0s 5ms/step - loss: 15.0438 - val_loss: 41.1511\n",
      "Epoch 340/500\n",
      "16/16 [==============================] - 0s 8ms/step - loss: 15.0435 - val_loss: 41.1697\n",
      "Epoch 341/500\n",
      "16/16 [==============================] - 0s 5ms/step - loss: 15.0433 - val_loss: 41.1870\n",
      "Epoch 342/500\n",
      "16/16 [==============================] - 0s 5ms/step - loss: 15.0430 - val_loss: 41.2033\n",
      "Epoch 343/500\n",
      "16/16 [==============================] - 0s 5ms/step - loss: 15.0429 - val_loss: 41.2189\n",
      "Epoch 344/500\n",
      "16/16 [==============================] - 0s 5ms/step - loss: 15.0427 - val_loss: 41.2335\n",
      "Epoch 345/500\n",
      "16/16 [==============================] - 0s 5ms/step - loss: 15.0426 - val_loss: 41.2470\n",
      "Epoch 346/500\n",
      "16/16 [==============================] - 0s 5ms/step - loss: 15.0425 - val_loss: 41.2601\n",
      "Epoch 347/500\n",
      "16/16 [==============================] - 0s 5ms/step - loss: 15.0424 - val_loss: 41.2720\n",
      "Epoch 348/500\n",
      "16/16 [==============================] - 0s 5ms/step - loss: 15.0424 - val_loss: 41.2832\n",
      "Epoch 349/500\n",
      "16/16 [==============================] - 0s 4ms/step - loss: 15.0424 - val_loss: 41.2939\n",
      "Epoch 350/500\n",
      "16/16 [==============================] - 0s 4ms/step - loss: 15.0424 - val_loss: 41.3038\n",
      "Epoch 351/500\n",
      "16/16 [==============================] - 0s 4ms/step - loss: 15.0425 - val_loss: 41.3133\n",
      "Epoch 352/500\n",
      "16/16 [==============================] - 0s 5ms/step - loss: 15.0425 - val_loss: 41.3219\n",
      "Epoch 353/500\n",
      "16/16 [==============================] - 0s 4ms/step - loss: 15.0425 - val_loss: 41.3300\n",
      "Epoch 354/500\n",
      "16/16 [==============================] - 0s 5ms/step - loss: 15.0427 - val_loss: 41.3375\n",
      "Epoch 355/500\n",
      "16/16 [==============================] - 0s 5ms/step - loss: 15.0428 - val_loss: 41.3447\n",
      "Epoch 356/500\n",
      "16/16 [==============================] - 0s 5ms/step - loss: 15.0429 - val_loss: 41.3514\n",
      "Epoch 357/500\n",
      "16/16 [==============================] - 0s 4ms/step - loss: 15.0430 - val_loss: 41.3575\n",
      "Epoch 358/500\n",
      "16/16 [==============================] - 0s 4ms/step - loss: 15.0432 - val_loss: 41.3630\n",
      "Epoch 359/500\n",
      "16/16 [==============================] - 0s 8ms/step - loss: 15.0434 - val_loss: 41.3685\n",
      "Epoch 360/500\n",
      "16/16 [==============================] - 0s 5ms/step - loss: 15.0435 - val_loss: 41.3734\n",
      "Epoch 361/500\n",
      "16/16 [==============================] - 0s 5ms/step - loss: 15.0437 - val_loss: 41.3779\n",
      "Epoch 362/500\n",
      "16/16 [==============================] - 0s 5ms/step - loss: 15.0439 - val_loss: 41.3823\n",
      "Epoch 363/500\n",
      "16/16 [==============================] - 0s 5ms/step - loss: 15.0442 - val_loss: 41.3864\n",
      "Epoch 364/500\n",
      "16/16 [==============================] - 0s 5ms/step - loss: 15.0443 - val_loss: 41.3902\n",
      "Epoch 365/500\n",
      "16/16 [==============================] - 0s 5ms/step - loss: 15.0446 - val_loss: 41.3935\n",
      "Epoch 366/500\n",
      "16/16 [==============================] - 0s 5ms/step - loss: 15.0448 - val_loss: 41.3964\n",
      "Epoch 367/500\n",
      "16/16 [==============================] - 0s 5ms/step - loss: 15.0451 - val_loss: 41.3994\n",
      "Epoch 368/500\n",
      "16/16 [==============================] - 0s 5ms/step - loss: 15.0453 - val_loss: 41.4019\n",
      "Epoch 369/500\n",
      "16/16 [==============================] - 0s 5ms/step - loss: 15.0456 - val_loss: 41.4043\n",
      "Epoch 370/500\n",
      "16/16 [==============================] - 0s 5ms/step - loss: 15.0459 - val_loss: 41.4064\n",
      "Epoch 371/500\n",
      "16/16 [==============================] - 0s 5ms/step - loss: 15.0462 - val_loss: 41.4085\n",
      "Epoch 372/500\n",
      "16/16 [==============================] - 0s 4ms/step - loss: 15.0465 - val_loss: 41.4103\n",
      "Epoch 373/500\n",
      "16/16 [==============================] - 0s 4ms/step - loss: 15.0467 - val_loss: 41.4119\n",
      "Epoch 374/500\n",
      "16/16 [==============================] - 0s 5ms/step - loss: 15.0470 - val_loss: 41.4131\n",
      "Epoch 375/500\n",
      "16/16 [==============================] - 0s 4ms/step - loss: 15.0474 - val_loss: 41.4145\n",
      "Epoch 376/500\n",
      "16/16 [==============================] - 0s 5ms/step - loss: 15.0477 - val_loss: 41.4155\n",
      "Epoch 377/500\n",
      "16/16 [==============================] - 0s 4ms/step - loss: 15.0480 - val_loss: 41.4166\n",
      "Epoch 378/500\n",
      "16/16 [==============================] - 0s 8ms/step - loss: 15.0483 - val_loss: 41.4174\n",
      "Epoch 379/500\n",
      "16/16 [==============================] - 0s 5ms/step - loss: 15.0486 - val_loss: 41.4184\n",
      "Epoch 380/500\n",
      "16/16 [==============================] - 0s 5ms/step - loss: 15.0489 - val_loss: 41.4191\n",
      "Epoch 381/500\n",
      "16/16 [==============================] - 0s 5ms/step - loss: 15.0492 - val_loss: 41.4197\n",
      "Epoch 382/500\n",
      "16/16 [==============================] - 0s 5ms/step - loss: 15.0496 - val_loss: 41.4202\n",
      "Epoch 383/500\n",
      "16/16 [==============================] - 0s 5ms/step - loss: 15.0499 - val_loss: 41.4205\n",
      "Epoch 384/500\n",
      "16/16 [==============================] - 0s 4ms/step - loss: 15.0502 - val_loss: 41.4209\n",
      "Epoch 385/500\n",
      "16/16 [==============================] - 0s 4ms/step - loss: 15.0506 - val_loss: 41.4212\n",
      "Epoch 386/500\n",
      "16/16 [==============================] - 0s 4ms/step - loss: 15.0509 - val_loss: 41.4215\n",
      "Epoch 387/500\n",
      "16/16 [==============================] - 0s 5ms/step - loss: 15.0513 - val_loss: 41.4216\n",
      "Epoch 388/500\n",
      "16/16 [==============================] - 0s 5ms/step - loss: 15.0516 - val_loss: 41.4217\n",
      "Epoch 389/500\n",
      "16/16 [==============================] - 0s 5ms/step - loss: 15.0520 - val_loss: 41.4218\n",
      "Epoch 390/500\n",
      "16/16 [==============================] - 0s 4ms/step - loss: 15.0523 - val_loss: 41.4218\n",
      "Epoch 391/500\n",
      "16/16 [==============================] - 0s 4ms/step - loss: 15.0526 - val_loss: 41.4217\n",
      "Epoch 392/500\n",
      "16/16 [==============================] - 0s 4ms/step - loss: 15.0530 - val_loss: 41.4217\n",
      "Epoch 393/500\n",
      "16/16 [==============================] - 0s 4ms/step - loss: 15.0534 - val_loss: 41.4215\n",
      "Epoch 394/500\n",
      "16/16 [==============================] - 0s 4ms/step - loss: 15.0537 - val_loss: 41.4214\n",
      "Epoch 395/500\n",
      "16/16 [==============================] - 0s 4ms/step - loss: 15.0540 - val_loss: 41.4210\n",
      "Epoch 396/500\n",
      "16/16 [==============================] - 0s 4ms/step - loss: 15.0544 - val_loss: 41.4209\n",
      "Epoch 397/500\n",
      "16/16 [==============================] - 0s 4ms/step - loss: 15.0547 - val_loss: 41.4205\n",
      "Epoch 398/500\n",
      "16/16 [==============================] - 0s 4ms/step - loss: 15.0551 - val_loss: 41.4202\n",
      "Epoch 399/500\n",
      "16/16 [==============================] - 0s 10ms/step - loss: 15.0554 - val_loss: 41.4196\n",
      "Epoch 400/500\n",
      "16/16 [==============================] - 0s 5ms/step - loss: 15.0558 - val_loss: 41.4195\n",
      "Epoch 401/500\n",
      "16/16 [==============================] - 0s 5ms/step - loss: 15.0562 - val_loss: 41.4189\n",
      "Epoch 402/500\n",
      "16/16 [==============================] - 0s 5ms/step - loss: 15.0565 - val_loss: 41.4186\n",
      "Epoch 403/500\n",
      "16/16 [==============================] - 0s 5ms/step - loss: 15.0569 - val_loss: 41.4180\n",
      "Epoch 404/500\n",
      "16/16 [==============================] - 0s 5ms/step - loss: 15.0572 - val_loss: 41.4175\n",
      "Epoch 405/500\n",
      "16/16 [==============================] - 0s 5ms/step - loss: 15.0575 - val_loss: 41.4170\n",
      "Epoch 406/500\n",
      "16/16 [==============================] - 0s 4ms/step - loss: 15.0579 - val_loss: 41.4164\n",
      "Epoch 407/500\n",
      "16/16 [==============================] - 0s 4ms/step - loss: 15.0583 - val_loss: 41.4159\n",
      "Epoch 408/500\n",
      "16/16 [==============================] - 0s 5ms/step - loss: 15.0586 - val_loss: 41.4154\n",
      "Epoch 409/500\n",
      "16/16 [==============================] - 0s 4ms/step - loss: 15.0589 - val_loss: 41.4150\n",
      "Epoch 410/500\n",
      "16/16 [==============================] - 0s 4ms/step - loss: 15.0593 - val_loss: 41.4142\n",
      "Epoch 411/500\n",
      "16/16 [==============================] - 0s 5ms/step - loss: 15.0596 - val_loss: 41.4136\n",
      "Epoch 412/500\n",
      "16/16 [==============================] - 0s 5ms/step - loss: 15.0600 - val_loss: 41.4129\n",
      "Epoch 413/500\n",
      "16/16 [==============================] - 0s 4ms/step - loss: 15.0604 - val_loss: 41.4126\n",
      "Epoch 414/500\n",
      "16/16 [==============================] - 0s 5ms/step - loss: 15.0607 - val_loss: 41.4119\n",
      "Epoch 415/500\n",
      "16/16 [==============================] - 0s 5ms/step - loss: 15.0611 - val_loss: 41.4115\n",
      "Epoch 416/500\n",
      "16/16 [==============================] - 0s 7ms/step - loss: 15.0614 - val_loss: 41.4111\n",
      "Epoch 417/500\n",
      "16/16 [==============================] - 0s 5ms/step - loss: 15.0617 - val_loss: 41.4101\n",
      "Epoch 418/500\n",
      "16/16 [==============================] - 0s 5ms/step - loss: 15.0621 - val_loss: 41.4095\n",
      "Epoch 419/500\n",
      "16/16 [==============================] - 0s 5ms/step - loss: 15.0624 - val_loss: 41.4089\n",
      "Epoch 420/500\n",
      "16/16 [==============================] - 0s 5ms/step - loss: 15.0628 - val_loss: 41.4083\n",
      "Epoch 421/500\n",
      "16/16 [==============================] - 0s 5ms/step - loss: 15.0631 - val_loss: 41.4076\n",
      "Epoch 422/500\n",
      "16/16 [==============================] - 0s 5ms/step - loss: 15.0634 - val_loss: 41.4072\n",
      "Epoch 423/500\n",
      "16/16 [==============================] - 0s 5ms/step - loss: 15.0638 - val_loss: 41.4066\n",
      "Epoch 424/500\n",
      "16/16 [==============================] - 0s 5ms/step - loss: 15.0642 - val_loss: 41.4062\n",
      "Epoch 425/500\n",
      "16/16 [==============================] - 0s 5ms/step - loss: 15.0644 - val_loss: 41.4056\n",
      "Epoch 426/500\n",
      "16/16 [==============================] - 0s 5ms/step - loss: 15.0648 - val_loss: 41.4053\n",
      "Epoch 427/500\n",
      "16/16 [==============================] - 0s 5ms/step - loss: 15.0651 - val_loss: 41.4045\n",
      "Epoch 428/500\n",
      "16/16 [==============================] - 0s 4ms/step - loss: 15.0655 - val_loss: 41.4042\n",
      "Epoch 429/500\n",
      "16/16 [==============================] - 0s 5ms/step - loss: 15.0658 - val_loss: 41.4034\n",
      "Epoch 430/500\n",
      "16/16 [==============================] - 0s 5ms/step - loss: 15.0661 - val_loss: 41.4028\n",
      "Epoch 431/500\n",
      "16/16 [==============================] - 0s 5ms/step - loss: 15.0664 - val_loss: 41.4024\n",
      "Epoch 432/500\n",
      "16/16 [==============================] - 0s 5ms/step - loss: 15.0668 - val_loss: 41.4017\n",
      "Epoch 433/500\n",
      "16/16 [==============================] - 0s 6ms/step - loss: 15.0671 - val_loss: 41.4013\n",
      "Epoch 434/500\n",
      "16/16 [==============================] - 0s 5ms/step - loss: 15.0674 - val_loss: 41.4005\n",
      "Epoch 435/500\n",
      "16/16 [==============================] - 0s 5ms/step - loss: 15.0677 - val_loss: 41.4001\n",
      "Epoch 436/500\n",
      "16/16 [==============================] - 0s 5ms/step - loss: 15.0680 - val_loss: 41.3994\n",
      "Epoch 437/500\n",
      "16/16 [==============================] - 0s 5ms/step - loss: 15.0683 - val_loss: 41.3990\n",
      "Epoch 438/500\n",
      "16/16 [==============================] - 0s 5ms/step - loss: 15.0687 - val_loss: 41.3985\n",
      "Epoch 439/500\n",
      "16/16 [==============================] - 0s 5ms/step - loss: 15.0689 - val_loss: 41.3981\n",
      "Epoch 440/500\n",
      "16/16 [==============================] - 0s 5ms/step - loss: 15.0693 - val_loss: 41.3973\n",
      "Epoch 441/500\n",
      "16/16 [==============================] - 0s 5ms/step - loss: 15.0696 - val_loss: 41.3966\n",
      "Epoch 442/500\n",
      "16/16 [==============================] - 0s 5ms/step - loss: 15.0699 - val_loss: 41.3961\n",
      "Epoch 443/500\n",
      "16/16 [==============================] - 0s 4ms/step - loss: 15.0702 - val_loss: 41.3956\n",
      "Epoch 444/500\n",
      "16/16 [==============================] - 0s 5ms/step - loss: 15.0705 - val_loss: 41.3950\n",
      "Epoch 445/500\n",
      "16/16 [==============================] - 0s 5ms/step - loss: 15.0708 - val_loss: 41.3944\n",
      "Epoch 446/500\n",
      "16/16 [==============================] - 0s 5ms/step - loss: 15.0711 - val_loss: 41.3939\n",
      "Epoch 447/500\n",
      "16/16 [==============================] - 0s 5ms/step - loss: 15.0714 - val_loss: 41.3934\n",
      "Epoch 448/500\n",
      "16/16 [==============================] - 0s 4ms/step - loss: 15.0717 - val_loss: 41.3929\n",
      "Epoch 449/500\n",
      "16/16 [==============================] - 0s 5ms/step - loss: 15.0720 - val_loss: 41.3922\n",
      "Epoch 450/500\n",
      "16/16 [==============================] - 0s 4ms/step - loss: 15.0723 - val_loss: 41.3918\n",
      "Epoch 451/500\n",
      "16/16 [==============================] - 0s 8ms/step - loss: 15.0726 - val_loss: 41.3910\n",
      "Epoch 452/500\n",
      "16/16 [==============================] - 0s 5ms/step - loss: 15.0729 - val_loss: 41.3908\n",
      "Epoch 453/500\n",
      "16/16 [==============================] - 0s 5ms/step - loss: 15.0731 - val_loss: 41.3903\n",
      "Epoch 454/500\n",
      "16/16 [==============================] - 0s 5ms/step - loss: 15.0734 - val_loss: 41.3895\n",
      "Epoch 455/500\n",
      "16/16 [==============================] - 0s 5ms/step - loss: 15.0737 - val_loss: 41.3889\n",
      "Epoch 456/500\n",
      "16/16 [==============================] - 0s 5ms/step - loss: 15.0740 - val_loss: 41.3882\n",
      "Epoch 457/500\n",
      "16/16 [==============================] - 0s 5ms/step - loss: 15.0743 - val_loss: 41.3878\n",
      "Epoch 458/500\n",
      "16/16 [==============================] - 0s 5ms/step - loss: 15.0746 - val_loss: 41.3872\n",
      "Epoch 459/500\n",
      "16/16 [==============================] - 0s 5ms/step - loss: 15.0749 - val_loss: 41.3869\n",
      "Epoch 460/500\n",
      "16/16 [==============================] - 0s 5ms/step - loss: 15.0751 - val_loss: 41.3865\n",
      "Epoch 461/500\n",
      "16/16 [==============================] - 0s 5ms/step - loss: 15.0754 - val_loss: 41.3859\n",
      "Epoch 462/500\n",
      "16/16 [==============================] - 0s 4ms/step - loss: 15.0756 - val_loss: 41.3853\n",
      "Epoch 463/500\n",
      "16/16 [==============================] - 0s 5ms/step - loss: 15.0759 - val_loss: 41.3848\n",
      "Epoch 464/500\n",
      "16/16 [==============================] - 0s 5ms/step - loss: 15.0762 - val_loss: 41.3846\n",
      "Epoch 465/500\n",
      "16/16 [==============================] - 0s 5ms/step - loss: 15.0765 - val_loss: 41.3840\n",
      "Epoch 466/500\n",
      "16/16 [==============================] - 0s 4ms/step - loss: 15.0767 - val_loss: 41.3836\n",
      "Epoch 467/500\n",
      "16/16 [==============================] - 0s 5ms/step - loss: 15.0770 - val_loss: 41.3832\n",
      "Epoch 468/500\n",
      "16/16 [==============================] - 0s 4ms/step - loss: 15.0772 - val_loss: 41.3827\n",
      "Epoch 469/500\n",
      "16/16 [==============================] - 0s 5ms/step - loss: 15.0775 - val_loss: 41.3824\n",
      "Epoch 470/500\n",
      "16/16 [==============================] - 0s 8ms/step - loss: 15.0778 - val_loss: 41.3820\n",
      "Epoch 471/500\n",
      "16/16 [==============================] - 0s 5ms/step - loss: 15.0780 - val_loss: 41.3814\n",
      "Epoch 472/500\n",
      "16/16 [==============================] - 0s 5ms/step - loss: 15.0782 - val_loss: 41.3809\n",
      "Epoch 473/500\n",
      "16/16 [==============================] - 0s 5ms/step - loss: 15.0785 - val_loss: 41.3805\n",
      "Epoch 474/500\n",
      "16/16 [==============================] - 0s 5ms/step - loss: 15.0787 - val_loss: 41.3800\n",
      "Epoch 475/500\n",
      "16/16 [==============================] - 0s 5ms/step - loss: 15.0789 - val_loss: 41.3794\n",
      "Epoch 476/500\n",
      "16/16 [==============================] - 0s 5ms/step - loss: 15.0792 - val_loss: 41.3789\n",
      "Epoch 477/500\n",
      "16/16 [==============================] - 0s 5ms/step - loss: 15.0794 - val_loss: 41.3784\n",
      "Epoch 478/500\n",
      "16/16 [==============================] - 0s 5ms/step - loss: 15.0797 - val_loss: 41.3780\n",
      "Epoch 479/500\n",
      "16/16 [==============================] - 0s 5ms/step - loss: 15.0799 - val_loss: 41.3774\n",
      "Epoch 480/500\n",
      "16/16 [==============================] - 0s 5ms/step - loss: 15.0801 - val_loss: 41.3770\n",
      "Epoch 481/500\n",
      "16/16 [==============================] - 0s 5ms/step - loss: 15.0804 - val_loss: 41.3767\n",
      "Epoch 482/500\n",
      "16/16 [==============================] - 0s 5ms/step - loss: 15.0806 - val_loss: 41.3765\n",
      "Epoch 483/500\n",
      "16/16 [==============================] - 0s 5ms/step - loss: 15.0808 - val_loss: 41.3763\n",
      "Epoch 484/500\n",
      "16/16 [==============================] - 0s 5ms/step - loss: 15.0810 - val_loss: 41.3757\n",
      "Epoch 485/500\n",
      "16/16 [==============================] - 0s 5ms/step - loss: 15.0813 - val_loss: 41.3753\n",
      "Epoch 486/500\n",
      "16/16 [==============================] - 0s 4ms/step - loss: 15.0815 - val_loss: 41.3749\n",
      "Epoch 487/500\n",
      "16/16 [==============================] - 0s 5ms/step - loss: 15.0817 - val_loss: 41.3746\n",
      "Epoch 488/500\n",
      "16/16 [==============================] - 0s 12ms/step - loss: 15.0819 - val_loss: 41.3742\n",
      "Epoch 489/500\n",
      "16/16 [==============================] - 0s 5ms/step - loss: 15.0821 - val_loss: 41.3739\n",
      "Epoch 490/500\n",
      "16/16 [==============================] - 0s 5ms/step - loss: 15.0823 - val_loss: 41.3735\n",
      "Epoch 491/500\n",
      "16/16 [==============================] - 0s 5ms/step - loss: 15.0825 - val_loss: 41.3730\n",
      "Epoch 492/500\n",
      "16/16 [==============================] - 0s 5ms/step - loss: 15.0827 - val_loss: 41.3727\n",
      "Epoch 493/500\n",
      "16/16 [==============================] - 0s 5ms/step - loss: 15.0829 - val_loss: 41.3722\n",
      "Epoch 494/500\n",
      "16/16 [==============================] - 0s 5ms/step - loss: 15.0831 - val_loss: 41.3716\n",
      "Epoch 495/500\n",
      "16/16 [==============================] - 0s 5ms/step - loss: 15.0833 - val_loss: 41.3712\n",
      "Epoch 496/500\n",
      "16/16 [==============================] - 0s 9ms/step - loss: 15.0836 - val_loss: 41.3708\n",
      "Epoch 497/500\n",
      "16/16 [==============================] - 0s 5ms/step - loss: 15.0837 - val_loss: 41.3704\n",
      "Epoch 498/500\n",
      "16/16 [==============================] - 0s 5ms/step - loss: 15.0839 - val_loss: 41.3700\n",
      "Epoch 499/500\n",
      "16/16 [==============================] - 0s 5ms/step - loss: 15.0841 - val_loss: 41.3697\n",
      "Epoch 500/500\n",
      "16/16 [==============================] - 0s 5ms/step - loss: 15.0843 - val_loss: 41.3694\n"
     ]
    }
   ],
   "source": [
    "C0 = tf.Variable(86.8407, name=\"C0\", trainable=True, dtype=tf.float32)\n",
    "K0 = tf.Variable(-0.0015, name=\"K0\", trainable=True, dtype=tf.float32)\n",
    "K1 = tf.Variable(-0.0001, name=\"K1\", trainable=True, dtype=tf.float32)\n",
    "a = tf.Variable(0.0000, name=\"a\", trainable=True, dtype=tf.float32)\n",
    "b = tf.Variable(0.0118, name=\"b\", trainable=True, dtype=tf.float32)\n",
    "c = tf.Variable(2.5775, name=\"c\", trainable=True, dtype=tf.float32)\n",
    "\n",
    "splitr = 0.8\n",
    "\n",
    "\n",
    "def loss_fn(y_true, y_pred):\n",
    "    squared_difference = tf.square(y_true[:, 0] - y_pred[:, 0])\n",
    "    #squared_difference2 = tf.square(y_true[:, 2]-y_pred[:, 2])\n",
    "    #squared_difference1 = tf.square(y_true[:, 1]-y_pred[:, 1])\n",
    "    epsilon = 1\n",
    "    squared_difference3 = tf.square(\n",
    "        y_pred[:, 1] - (\n",
    "            y_pred[:, 0] * (\n",
    "                K0 - K1 * (\n",
    "                    9 * a * tf.math.log((y_pred[:, 0] + epsilon) / C0) / (K0 - K1 * c)**2 +\n",
    "                    4 * b * tf.math.log((y_pred[:, 0] + epsilon) / C0) / (K0 - K1 * c) + c\n",
    "                )\n",
    "            )\n",
    "        )\n",
    "    )\n",
    "    return tf.reduce_mean(squared_difference, axis=-1) + 0.2*tf.reduce_mean(squared_difference3, axis=-1)\n",
    "model = Sequential()\n",
    "model.add(LSTM(100, input_shape=(trainX.shape[1], trainX.shape[2])))\n",
    "model.add(Dense(60))\n",
    "model.compile(loss=loss_fn, optimizer='adam')\n",
    "history = model.fit(trainX[:int(splitr*trainX.shape[0])], trainy[:int(splitr*trainX.shape[0])], epochs=500, batch_size=64, validation_data=(trainX[int(splitr*trainX.shape[0]):trainX.shape[0]], trainy[int(splitr*trainX.shape[0]):trainX.shape[0]]), shuffle=False)"
   ]
  },
  {
   "cell_type": "code",
   "execution_count": 19,
   "metadata": {
    "colab": {
     "base_uri": "https://localhost:8080/"
    },
    "id": "yJL101rPyuoT",
    "outputId": "239ff2b1-c186-423a-d316-939dfdd7c793"
   },
   "outputs": [
    {
     "name": "stdout",
     "output_type": "stream",
     "text": [
      "1/1 [==============================] - 0s 352ms/step\n"
     ]
    }
   ],
   "source": [
    "forecast_without_mc = forecastX\n",
    "yhat_without_mc = model.predict(forecast_without_mc) # Step Ahead Prediction\n",
    "forecast_without_mc = forecast_without_mc.reshape((forecast_without_mc.shape[0], forecast_without_mc.shape[2])) # Historical Input"
   ]
  },
  {
   "cell_type": "code",
   "execution_count": 20,
   "metadata": {
    "colab": {
     "base_uri": "https://localhost:8080/"
    },
    "id": "g9dQELcJ8wbp",
    "outputId": "4dc7671b-b1a8-48d5-8744-a86f98446109"
   },
   "outputs": [
    {
     "data": {
      "text/plain": [
       "(1, 1, 251)"
      ]
     },
     "execution_count": 20,
     "metadata": {},
     "output_type": "execute_result"
    }
   ],
   "source": [
    "forecastX.shape"
   ]
  },
  {
   "cell_type": "code",
   "execution_count": 21,
   "metadata": {
    "colab": {
     "base_uri": "https://localhost:8080/"
    },
    "id": "IS2kyIKG1Kbr",
    "outputId": "f31b3485-8e26-452f-9298-ea8bf7e80ad1"
   },
   "outputs": [
    {
     "data": {
      "text/plain": [
       "(1, 251)"
      ]
     },
     "execution_count": 21,
     "metadata": {},
     "output_type": "execute_result"
    }
   ],
   "source": [
    "forecast_without_mc.shape"
   ]
  },
  {
   "cell_type": "code",
   "execution_count": 22,
   "metadata": {
    "id": "0u6VIzaDyuoT"
   },
   "outputs": [],
   "source": [
    "inv_yhat_without_mc = np.concatenate((forecast_without_mc, yhat_without_mc), axis=1) # Concatenation of predicted values with Historical Data\n",
    "#inv_yhat_without_mc = scaler.inverse_transform(inv_yhat_without_mc) # Transform labels back to original encoding"
   ]
  },
  {
   "cell_type": "code",
   "execution_count": 23,
   "metadata": {
    "colab": {
     "base_uri": "https://localhost:8080/"
    },
    "id": "EUEcw0LX07oU",
    "outputId": "cfc32397-9c37-4b43-d087-584bb31c3dcc"
   },
   "outputs": [
    {
     "data": {
      "text/plain": [
       "(1, 311)"
      ]
     },
     "execution_count": 23,
     "metadata": {},
     "output_type": "execute_result"
    }
   ],
   "source": [
    "inv_yhat_without_mc.shape"
   ]
  },
  {
   "cell_type": "code",
   "execution_count": 24,
   "metadata": {
    "id": "31OWVbSh_305"
   },
   "outputs": [],
   "source": [
    "fforecast = inv_yhat_without_mc[:,-300:]"
   ]
  },
  {
   "cell_type": "code",
   "execution_count": 25,
   "metadata": {},
   "outputs": [
    {
     "data": {
      "text/plain": [
       "(1, 300)"
      ]
     },
     "execution_count": 25,
     "metadata": {},
     "output_type": "execute_result"
    }
   ],
   "source": [
    "fforecast.shape"
   ]
  },
  {
   "cell_type": "code",
   "execution_count": 26,
   "metadata": {
    "id": "BlpGH2FOAiRF"
   },
   "outputs": [],
   "source": [
    "final_forecast = fforecast[:,0:300:3]"
   ]
  },
  {
   "cell_type": "code",
   "execution_count": 27,
   "metadata": {},
   "outputs": [
    {
     "data": {
      "text/plain": [
       "(1, 300)"
      ]
     },
     "execution_count": 27,
     "metadata": {},
     "output_type": "execute_result"
    }
   ],
   "source": [
    "fforecast.shape"
   ]
  },
  {
   "cell_type": "code",
   "execution_count": 28,
   "metadata": {
    "id": "CXkgkj_LBk_t"
   },
   "outputs": [],
   "source": [
    "# code to replace all negative value with 0\n",
    "final_forecast[final_forecast<0] = 0"
   ]
  },
  {
   "cell_type": "code",
   "execution_count": 29,
   "metadata": {},
   "outputs": [
    {
     "data": {
      "text/plain": [
       "array([[69.35704949, 69.345845  , 69.33464052, 69.32343604, 69.31223156,\n",
       "        69.30102708, 69.27201214, 69.24119981, 69.21038749, 69.17957516,\n",
       "        69.14876284, 69.11795051, 69.08713819, 69.05632586, 69.02551354,\n",
       "        68.99470121, 68.96388889, 68.93307656, 68.90226424, 68.87145191,\n",
       "        68.84063959, 68.80982726, 68.77901494, 68.74820261, 68.71739029,\n",
       "        68.68657796, 68.65576564, 68.62495331, 68.59414099, 68.56332866,\n",
       "        68.53251634, 68.50170401, 68.47089169, 68.44007937, 68.40926704,\n",
       "        68.37845472, 68.34764239, 68.31683007, 68.28601774, 68.25520542,\n",
       "        68.22439309, 68.1912465 , 68.14922969, 68.10721289, 68.06519608,\n",
       "        68.02317927, 67.98116246, 67.93914566, 67.89712885, 67.85511204,\n",
       "        67.81309524, 67.77107843, 67.72906162, 67.68704482, 67.64502801,\n",
       "        67.6030112 , 67.5609944 , 67.51897759, 67.47696078, 67.43494398,\n",
       "        67.39292717, 67.35091036, 67.30889356, 67.26687675, 67.22485994,\n",
       "        67.18284314, 67.14082633, 67.09880952, 67.05679272, 67.01477591,\n",
       "        66.9727591 , 66.9307423 , 66.88872549, 66.84670868, 66.80469188,\n",
       "        66.76267507, 66.72065826, 66.68860878, 66.66619981, 66.64379085,\n",
       "        74.55937195,  0.        ,  0.        ,  0.30658042,  0.29149154,\n",
       "         0.13243723,  0.        ,  0.09926027,  0.13731404,  0.        ,\n",
       "         0.77885544,  0.        ,  1.20305598,  0.        ,  0.26323679,\n",
       "         0.        ,  0.16698904,  0.2095235 ,  0.267838  ,  0.        ]])"
      ]
     },
     "execution_count": 29,
     "metadata": {},
     "output_type": "execute_result"
    }
   ],
   "source": [
    "final_forecast"
   ]
  },
  {
   "cell_type": "code",
   "execution_count": 30,
   "metadata": {},
   "outputs": [
    {
     "data": {
      "text/plain": [
       "(1, 100)"
      ]
     },
     "execution_count": 30,
     "metadata": {},
     "output_type": "execute_result"
    }
   ],
   "source": [
    "final_forecast.shape"
   ]
  },
  {
   "cell_type": "code",
   "execution_count": 31,
   "metadata": {},
   "outputs": [
    {
     "data": {
      "text/plain": [
       "(100,)"
      ]
     },
     "execution_count": 31,
     "metadata": {},
     "output_type": "execute_result"
    }
   ],
   "source": [
    "test.shape"
   ]
  },
  {
   "cell_type": "code",
   "execution_count": 32,
   "metadata": {},
   "outputs": [],
   "source": [
    "training_set = np.array(training_set)\n",
    "test = np.array(test)\n",
    "final_forecast = np.array(final_forecast.squeeze(0))"
   ]
  },
  {
   "cell_type": "code",
   "execution_count": 33,
   "metadata": {},
   "outputs": [
    {
     "data": {
      "text/plain": [
       "array([65.80436508, 65.80343137, 65.80249767, 65.80156396, 65.80063025,\n",
       "       65.79787582, 65.79133987, 65.78480392, 65.77826797, 65.77173203,\n",
       "       65.76519608, 65.75866013, 65.75212418, 65.74558824, 65.73905229,\n",
       "       65.73251634, 65.72598039, 65.71944444, 65.7129085 , 65.70637255,\n",
       "       65.6998366 , 65.69330065, 65.68676471, 65.68022876, 65.67369281,\n",
       "       65.66715686, 65.66062092, 65.65408497, 65.64754902, 65.64101307,\n",
       "       65.63447712, 65.62794118, 65.62140523, 65.61486928, 65.60833333,\n",
       "       65.60179739, 65.59526144, 65.58872549, 65.58218954, 65.57565359,\n",
       "       65.56911765, 65.5625817 , 65.55604575, 65.5495098 , 65.54297386,\n",
       "       65.53643791, 65.52990196, 65.52336601, 65.51683007, 65.51029412,\n",
       "       65.50375817, 65.49722222, 65.49068627, 65.48415033, 65.47761438,\n",
       "       65.47107843, 65.46454248, 65.45800654, 65.45147059, 65.44493464,\n",
       "       65.43839869, 65.43186275, 65.4253268 , 65.41879085, 65.4122549 ,\n",
       "       65.40571895, 65.39918301, 65.39264706, 65.38611111, 65.37957516,\n",
       "       65.37303922, 65.36650327, 65.35996732, 65.35343137, 65.34689542,\n",
       "       65.34035948, 65.33382353, 65.32728758, 65.32075163, 65.31421569,\n",
       "       65.30767974, 65.30114379, 65.29460784, 65.2880719 , 65.28153595,\n",
       "       65.275     , 65.26846405, 65.2619281 , 65.25539216, 65.24885621,\n",
       "       65.24232026, 65.23578431, 65.22924837, 65.22271242, 65.21617647,\n",
       "       65.20964052, 65.20310458, 65.19656863, 65.19003268, 65.18349673])"
      ]
     },
     "execution_count": 33,
     "metadata": {},
     "output_type": "execute_result"
    }
   ],
   "source": [
    "test"
   ]
  },
  {
   "cell_type": "code",
   "execution_count": 34,
   "metadata": {},
   "outputs": [
    {
     "data": {
      "text/plain": [
       "(100,)"
      ]
     },
     "execution_count": 34,
     "metadata": {},
     "output_type": "execute_result"
    }
   ],
   "source": [
    "test.shape"
   ]
  },
  {
   "cell_type": "code",
   "execution_count": 35,
   "metadata": {},
   "outputs": [
    {
     "data": {
      "text/plain": [
       "(100,)"
      ]
     },
     "execution_count": 35,
     "metadata": {},
     "output_type": "execute_result"
    }
   ],
   "source": [
    "final_forecast.shape"
   ]
  },
  {
   "cell_type": "code",
   "execution_count": 36,
   "metadata": {},
   "outputs": [
    {
     "data": {
      "text/plain": [
       "(100,)"
      ]
     },
     "execution_count": 36,
     "metadata": {},
     "output_type": "execute_result"
    }
   ],
   "source": [
    "test.shape"
   ]
  },
  {
   "cell_type": "code",
   "execution_count": 37,
   "metadata": {},
   "outputs": [
    {
     "name": "stdout",
     "output_type": "stream",
     "text": [
      "28.46422388307013\n",
      "14.49857481514071\n"
     ]
    }
   ],
   "source": [
    "import math\n",
    "MSE = np.square(np.subtract(np.array(test),np.array(final_forecast))).mean()   \n",
    "rsme = math.sqrt(MSE)\n",
    "print(rsme)  \n",
    "MAE = np.abs(np.subtract(np.array(test),np.array(final_forecast))).mean()   \n",
    "mae = MAE\n",
    "print(mae)"
   ]
  }
 ],
 "metadata": {
  "colab": {
   "provenance": []
  },
  "kernelspec": {
   "display_name": "Python 3",
   "language": "python",
   "name": "python3"
  },
  "language_info": {
   "codemirror_mode": {
    "name": "ipython",
    "version": 3
   },
   "file_extension": ".py",
   "mimetype": "text/x-python",
   "name": "python",
   "nbconvert_exporter": "python",
   "pygments_lexer": "ipython3",
   "version": "3.9.13"
  }
 },
 "nbformat": 4,
 "nbformat_minor": 0
}
