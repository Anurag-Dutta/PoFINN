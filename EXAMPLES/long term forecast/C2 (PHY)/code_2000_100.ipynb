{
 "cells": [
  {
   "cell_type": "markdown",
   "metadata": {
    "id": "pCGKeZ2gyuoQ"
   },
   "source": [
    "_Importing Required Libraries_"
   ]
  },
  {
   "cell_type": "code",
   "execution_count": 1,
   "metadata": {
    "colab": {
     "base_uri": "https://localhost:8080/"
    },
    "id": "A-6LN-zXiLcM",
    "outputId": "4de610a4-f8b8-4f49-c6c0-89de299ccedc"
   },
   "outputs": [
    {
     "name": "stdout",
     "output_type": "stream",
     "text": [
      "Requirement already satisfied: hampel in c:\\users\\anurag dutta\\appdata\\local\\packages\\pythonsoftwarefoundation.python.3.9_qbz5n2kfra8p0\\localcache\\local-packages\\python39\\site-packages (0.0.5)\n",
      "Requirement already satisfied: numpy in c:\\users\\anurag dutta\\appdata\\local\\packages\\pythonsoftwarefoundation.python.3.9_qbz5n2kfra8p0\\localcache\\local-packages\\python39\\site-packages (from hampel) (1.26.4)\n",
      "Requirement already satisfied: pandas in c:\\users\\anurag dutta\\appdata\\local\\packages\\pythonsoftwarefoundation.python.3.9_qbz5n2kfra8p0\\localcache\\local-packages\\python39\\site-packages (from hampel) (1.5.2)\n",
      "Requirement already satisfied: python-dateutil>=2.8.1 in c:\\users\\anurag dutta\\appdata\\local\\packages\\pythonsoftwarefoundation.python.3.9_qbz5n2kfra8p0\\localcache\\local-packages\\python39\\site-packages (from pandas->hampel) (2.8.2)\n",
      "Requirement already satisfied: pytz>=2020.1 in c:\\users\\anurag dutta\\appdata\\local\\packages\\pythonsoftwarefoundation.python.3.9_qbz5n2kfra8p0\\localcache\\local-packages\\python39\\site-packages (from pandas->hampel) (2023.3.post1)\n",
      "Requirement already satisfied: six>=1.5 in c:\\users\\anurag dutta\\appdata\\local\\packages\\pythonsoftwarefoundation.python.3.9_qbz5n2kfra8p0\\localcache\\local-packages\\python39\\site-packages (from python-dateutil>=2.8.1->pandas->hampel) (1.16.0)\n",
      "Note: you may need to restart the kernel to use updated packages.\n"
     ]
    },
    {
     "name": "stderr",
     "output_type": "stream",
     "text": [
      "\n",
      "[notice] A new release of pip is available: 24.2 -> 24.3.1\n",
      "[notice] To update, run: C:\\Users\\Anurag Dutta\\AppData\\Local\\Microsoft\\WindowsApps\\PythonSoftwareFoundation.Python.3.9_qbz5n2kfra8p0\\python.exe -m pip install --upgrade pip\n"
     ]
    }
   ],
   "source": [
    "pip install hampel"
   ]
  },
  {
   "cell_type": "code",
   "execution_count": 2,
   "metadata": {
    "id": "By_d9uXpaFvZ"
   },
   "outputs": [],
   "source": [
    "from keras.models import Sequential\n",
    "from keras.layers import Dense\n",
    "from keras.layers import LSTM\n",
    "from keras.layers import Dropout\n",
    "import keras\n",
    "import tensorflow as tf\n",
    "from hampel import hampel\n",
    "import numpy as np\n",
    "import matplotlib.pyplot as plt\n",
    "import pandas as pd\n",
    "from sklearn.preprocessing import MinMaxScaler\n",
    "from sklearn.metrics import mean_squared_error, mean_absolute_error\n",
    "from math import sqrt\n",
    "from matplotlib import pyplot\n",
    "from numpy import array"
   ]
  },
  {
   "cell_type": "markdown",
   "metadata": {
    "id": "JyOjBMFayuoR"
   },
   "source": [
    "## Pretraining"
   ]
  },
  {
   "cell_type": "markdown",
   "metadata": {
    "id": "-5QqIY_GyuoR"
   },
   "source": [
    "The `capa_intermittency.dat` feeds the model with the dynamics of the Capacitor"
   ]
  },
  {
   "cell_type": "code",
   "execution_count": 3,
   "metadata": {
    "id": "9dV4a8yfyuoR"
   },
   "outputs": [],
   "source": [
    "data = np.genfromtxt('capa_intermittency.dat')\n",
    "training_set = pd.DataFrame(data).reset_index(drop=True)\n",
    "training_set = training_set.iloc[:,0]"
   ]
  },
  {
   "cell_type": "markdown",
   "metadata": {
    "id": "i7easoxByuoR"
   },
   "source": [
    "## Computing the Gradient"
   ]
  },
  {
   "cell_type": "markdown",
   "metadata": {
    "id": "5SnyolJTyuoR"
   },
   "source": [
    "_Calculating the value of_ $\\frac{dx}{dt}$"
   ]
  },
  {
   "cell_type": "code",
   "execution_count": 4,
   "metadata": {
    "colab": {
     "base_uri": "https://localhost:8080/"
    },
    "id": "wmIbVfIvyuoR",
    "outputId": "aa4e3136-c854-465d-d2e9-81cfd546e440"
   },
   "outputs": [
    {
     "name": "stdout",
     "output_type": "stream",
     "text": [
      "1.0\n",
      "1        0.000298\n",
      "2        0.000298\n",
      "3        0.000297\n",
      "4        0.000297\n",
      "5        0.000297\n",
      "           ...   \n",
      "9996     0.000018\n",
      "9997     0.000018\n",
      "9998     0.000018\n",
      "9999     0.000018\n",
      "10000    0.000018\n",
      "Name: 0, Length: 10000, dtype: float64\n"
     ]
    }
   ],
   "source": [
    "t_diff = 1\n",
    "print(training_set.max())\n",
    "gradient_t = (training_set.diff()/t_diff).iloc[1:] # dx/dt\n",
    "print(gradient_t)"
   ]
  },
  {
   "cell_type": "markdown",
   "metadata": {
    "id": "_2eVeeoxyuoS"
   },
   "source": [
    "## Loading Datasets"
   ]
  },
  {
   "cell_type": "code",
   "execution_count": 5,
   "metadata": {
    "id": "0J-NKyIEyuoS"
   },
   "outputs": [
    {
     "data": {
      "text/plain": [
       "0       90.500000\n",
       "1       90.275910\n",
       "2       90.051821\n",
       "3       89.827731\n",
       "4       89.603641\n",
       "          ...    \n",
       "2095    58.813200\n",
       "2096    58.786590\n",
       "2097    58.759979\n",
       "2098    58.733368\n",
       "2099    58.706758\n",
       "Name: C2, Length: 2100, dtype: float64"
      ]
     },
     "execution_count": 5,
     "metadata": {},
     "output_type": "execute_result"
    }
   ],
   "source": [
    "data = pd.read_csv(\"c2_interpolated_2000_100.csv\")\n",
    "training_set = data.iloc[:, 1]\n",
    "training_set"
   ]
  },
  {
   "cell_type": "code",
   "execution_count": 6,
   "metadata": {
    "colab": {
     "base_uri": "https://localhost:8080/"
    },
    "id": "-CbNUhJ74UqF",
    "outputId": "20f562d8-8247-49cc-b9c3-00eca5e13e2d"
   },
   "outputs": [
    {
     "data": {
      "text/plain": [
       "0       90.500000\n",
       "1       90.275910\n",
       "2       90.051821\n",
       "3       89.827731\n",
       "4       89.603641\n",
       "          ...    \n",
       "1995     0.000000\n",
       "1996     0.000000\n",
       "1997     0.000000\n",
       "1998     0.000000\n",
       "1999     0.000000\n",
       "Name: C2, Length: 2000, dtype: float64"
      ]
     },
     "execution_count": 6,
     "metadata": {},
     "output_type": "execute_result"
    }
   ],
   "source": [
    "test = training_set.tail(100)\n",
    "test\n",
    "training_set = training_set.head(2000)\n",
    "training_set"
   ]
  },
  {
   "cell_type": "code",
   "execution_count": 7,
   "metadata": {
    "colab": {
     "base_uri": "https://localhost:8080/"
    },
    "id": "X0TwTcq0yuoS",
    "outputId": "37252ed8-d88e-4044-fa7a-922411990b5b"
   },
   "outputs": [
    {
     "name": "stdout",
     "output_type": "stream",
     "text": [
      "0       0.000298\n",
      "1       0.000298\n",
      "2       0.000297\n",
      "3       0.000297\n",
      "4       0.000297\n",
      "          ...   \n",
      "9995    0.000018\n",
      "9996    0.000018\n",
      "9997    0.000018\n",
      "9998    0.000018\n",
      "9999    0.000018\n",
      "Name: 0, Length: 10000, dtype: float64\n"
     ]
    }
   ],
   "source": [
    "training_set = training_set.reset_index(drop=True)\n",
    "gradient_t = gradient_t.reset_index(drop=True)\n",
    "print(gradient_t)"
   ]
  },
  {
   "cell_type": "code",
   "execution_count": 8,
   "metadata": {
    "id": "O2biznZQyuoS"
   },
   "outputs": [],
   "source": [
    "df = pd.concat((training_set, gradient_t), axis=1)\n",
    "df.columns = ['y_t', 'grad_t']"
   ]
  },
  {
   "cell_type": "code",
   "execution_count": 9,
   "metadata": {
    "colab": {
     "base_uri": "https://localhost:8080/",
     "height": 423
    },
    "id": "sk_a5v3tyuoS",
    "outputId": "17563625-e550-45ae-faab-fafa353e44da"
   },
   "outputs": [
    {
     "data": {
      "text/html": [
       "<div>\n",
       "<style scoped>\n",
       "    .dataframe tbody tr th:only-of-type {\n",
       "        vertical-align: middle;\n",
       "    }\n",
       "\n",
       "    .dataframe tbody tr th {\n",
       "        vertical-align: top;\n",
       "    }\n",
       "\n",
       "    .dataframe thead th {\n",
       "        text-align: right;\n",
       "    }\n",
       "</style>\n",
       "<table border=\"1\" class=\"dataframe\">\n",
       "  <thead>\n",
       "    <tr style=\"text-align: right;\">\n",
       "      <th></th>\n",
       "      <th>y_t</th>\n",
       "      <th>grad_t</th>\n",
       "    </tr>\n",
       "  </thead>\n",
       "  <tbody>\n",
       "    <tr>\n",
       "      <th>0</th>\n",
       "      <td>90.500000</td>\n",
       "      <td>0.000298</td>\n",
       "    </tr>\n",
       "    <tr>\n",
       "      <th>1</th>\n",
       "      <td>90.275910</td>\n",
       "      <td>0.000298</td>\n",
       "    </tr>\n",
       "    <tr>\n",
       "      <th>2</th>\n",
       "      <td>90.051821</td>\n",
       "      <td>0.000297</td>\n",
       "    </tr>\n",
       "    <tr>\n",
       "      <th>3</th>\n",
       "      <td>89.827731</td>\n",
       "      <td>0.000297</td>\n",
       "    </tr>\n",
       "    <tr>\n",
       "      <th>4</th>\n",
       "      <td>89.603641</td>\n",
       "      <td>0.000297</td>\n",
       "    </tr>\n",
       "    <tr>\n",
       "      <th>...</th>\n",
       "      <td>...</td>\n",
       "      <td>...</td>\n",
       "    </tr>\n",
       "    <tr>\n",
       "      <th>9995</th>\n",
       "      <td>NaN</td>\n",
       "      <td>0.000018</td>\n",
       "    </tr>\n",
       "    <tr>\n",
       "      <th>9996</th>\n",
       "      <td>NaN</td>\n",
       "      <td>0.000018</td>\n",
       "    </tr>\n",
       "    <tr>\n",
       "      <th>9997</th>\n",
       "      <td>NaN</td>\n",
       "      <td>0.000018</td>\n",
       "    </tr>\n",
       "    <tr>\n",
       "      <th>9998</th>\n",
       "      <td>NaN</td>\n",
       "      <td>0.000018</td>\n",
       "    </tr>\n",
       "    <tr>\n",
       "      <th>9999</th>\n",
       "      <td>NaN</td>\n",
       "      <td>0.000018</td>\n",
       "    </tr>\n",
       "  </tbody>\n",
       "</table>\n",
       "<p>10000 rows × 2 columns</p>\n",
       "</div>"
      ],
      "text/plain": [
       "            y_t    grad_t\n",
       "0     90.500000  0.000298\n",
       "1     90.275910  0.000298\n",
       "2     90.051821  0.000297\n",
       "3     89.827731  0.000297\n",
       "4     89.603641  0.000297\n",
       "...         ...       ...\n",
       "9995        NaN  0.000018\n",
       "9996        NaN  0.000018\n",
       "9997        NaN  0.000018\n",
       "9998        NaN  0.000018\n",
       "9999        NaN  0.000018\n",
       "\n",
       "[10000 rows x 2 columns]"
      ]
     },
     "execution_count": 9,
     "metadata": {},
     "output_type": "execute_result"
    }
   ],
   "source": [
    "df"
   ]
  },
  {
   "cell_type": "markdown",
   "metadata": {
    "id": "-5esyHu5aFvg"
   },
   "source": [
    "## Plot of the External Forcing from Chaotic Differential Equation"
   ]
  },
  {
   "cell_type": "code",
   "execution_count": 10,
   "metadata": {
    "colab": {
     "base_uri": "https://localhost:8080/",
     "height": 447
    },
    "id": "hGnE43tOh-4p",
    "outputId": "fc396503-b624-4fa5-dfbe-f460207405c6"
   },
   "outputs": [
    {
     "data": {
      "text/plain": [
       "<Axes: >"
      ]
     },
     "execution_count": 10,
     "metadata": {},
     "output_type": "execute_result"
    },
    {
     "data": {
      "image/png": "[encoded data removed]",
      "text/plain": [
       "<Figure size 432x288 with 1 Axes>"
      ]
     },
     "metadata": {
      "needs_background": "light"
     },
     "output_type": "display_data"
    }
   ],
   "source": [
    "df.iloc[:, 0].plot()"
   ]
  },
  {
   "cell_type": "code",
   "execution_count": 11,
   "metadata": {
    "colab": {
     "base_uri": "https://localhost:8080/",
     "height": 447
    },
    "id": "ym4xWUUxaFvg",
    "outputId": "ae6a3495-8ce9-437e-ba81-3ed31deedeae"
   },
   "outputs": [
    {
     "name": "stderr",
     "output_type": "stream",
     "text": [
      "C:\\Users\\Anurag Dutta\\AppData\\Local\\Packages\\PythonSoftwareFoundation.Python.3.9_qbz5n2kfra8p0\\LocalCache\\local-packages\\Python39\\site-packages\\pandas\\core\\arraylike.py:402: RuntimeWarning: divide by zero encountered in log\n",
      "  result = getattr(ufunc, method)(*inputs, **kwargs)\n"
     ]
    },
    {
     "data": {
      "text/plain": [
       "<Axes: >"
      ]
     },
     "execution_count": 11,
     "metadata": {},
     "output_type": "execute_result"
    },
    {
     "data": {
      "image/png": "[encoded data removed]",
      "text/plain": [
       "<Figure size 432x288 with 1 Axes>"
      ]
     },
     "metadata": {
      "needs_background": "light"
     },
     "output_type": "display_data"
    }
   ],
   "source": [
    "import numpy as np\n",
    "c0 = 88.1552  # Value for C0\n",
    "K0 = -0.0026  # Value for K0\n",
    "K1 = -0.0004  # Value for K1\n",
    "a = 0.0000    # Value for a\n",
    "b = 0.0102    # Value for b\n",
    "c = 2.8734    # Value for c\n",
    "\n",
    "L = np.minimum(c0, (df.iloc[:, 1] - (df.iloc[:, 0] * (K0 - K1 * (9 * a * np.log(df.iloc[:, 0] / c0) / (K0 - K1 * c)**2 + 4 * b * np.log(df.iloc[:, 0] / c0) / (K0 - K1 * c) + c)))))\n",
    "L.plot()"
   ]
  },
  {
   "cell_type": "markdown",
   "metadata": {
    "id": "9VyEywnwaFvh"
   },
   "source": [
    "## Preprocessing the data into supervised learning"
   ]
  },
  {
   "cell_type": "code",
   "execution_count": 12,
   "metadata": {
    "id": "6V9dXqzdaFvh"
   },
   "outputs": [],
   "source": [
    "# split a sequence into samples\n",
    "def Supervised(data, n_in=1, n_out=1, dropnan=True):\n",
    "    n_vars = 1 if type(data) is list else data.shape[1]\n",
    "    df = pd.DataFrame(data)\n",
    "    cols, names = list(), list()\n",
    "    # input sequence (t-n_in, ... t-1)\n",
    "    for i in range(n_in, 0, -1):\n",
    "        cols.append(df.shift(i))\n",
    "        names += [('var%d(t-%d)' % (j+1, i)) for j in range(n_vars)]\n",
    "    # forecast sequence (t, t+1, ... t+n_out)\n",
    "    for i in range(0, n_out):\n",
    "      cols.append(df.shift(-i))\n",
    "      if i == 0:\n",
    "        names += [('var%d(t)' % (j+1)) for j in range(n_vars)]\n",
    "      else:\n",
    "        names += [('var%d(t+%d)' % (j+1, i)) for j in range(n_vars)]\n",
    "    # put it all together\n",
    "    agg = pd.concat(cols, axis=1)\n",
    "    agg.columns = names\n",
    "    # drop rows with NaN values\n",
    "    if dropnan:\n",
    "       agg.dropna(inplace=True)\n",
    "    return agg"
   ]
  },
  {
   "cell_type": "code",
   "execution_count": 13,
   "metadata": {
    "colab": {
     "base_uri": "https://localhost:8080/"
    },
    "id": "CrzSrT1HnyfH",
    "outputId": "7e75f928-3e47-499d-eac1-51908015ef78"
   },
   "outputs": [
    {
     "name": "stdout",
     "output_type": "stream",
     "text": [
      "     var1(t-350)  var1(t-349)  var1(t-348)  var1(t-347)  var1(t-346)  \\\n",
      "350    90.500000    90.275910    90.051821    89.827731    89.603641   \n",
      "351    90.275910    90.051821    89.827731    89.603641    89.379552   \n",
      "352    90.051821    89.827731    89.603641    89.379552    89.155462   \n",
      "353    89.827731    89.603641    89.379552    89.155462    88.931373   \n",
      "354    89.603641    89.379552    89.155462    88.931373    88.707283   \n",
      "\n",
      "     var1(t-345)  var1(t-344)  var1(t-343)  var1(t-342)  var1(t-341)  ...  \\\n",
      "350    89.379552    89.155462    88.931373    88.707283    88.494958  ...   \n",
      "351    89.155462    88.931373    88.707283    88.494958    88.427731  ...   \n",
      "352    88.931373    88.707283    88.494958    88.427731    88.360504  ...   \n",
      "353    88.707283    88.494958    88.427731    88.360504    88.293277  ...   \n",
      "354    88.494958    88.427731    88.360504    88.293277    88.226050  ...   \n",
      "\n",
      "     var1(t+95)  var2(t+95)  var1(t+96)  var2(t+96)  var1(t+97)  var2(t+97)  \\\n",
      "350   79.071008    0.000263   79.054202    0.000263   79.037395    0.000263   \n",
      "351   79.054202    0.000263   79.037395    0.000263   79.020588    0.000262   \n",
      "352   79.037395    0.000263   79.020588    0.000262   79.003782    0.000262   \n",
      "353   79.020588    0.000262   79.003782    0.000262   78.986975    0.000262   \n",
      "354   79.003782    0.000262   78.986975    0.000262   78.970168    0.000262   \n",
      "\n",
      "     var1(t+98)  var2(t+98)  var1(t+99)  var2(t+99)  \n",
      "350   79.020588    0.000262   79.003782    0.000262  \n",
      "351   79.003782    0.000262   78.986975    0.000262  \n",
      "352   78.986975    0.000262   78.970168    0.000262  \n",
      "353   78.970168    0.000262   78.953361    0.000262  \n",
      "354   78.953361    0.000262   78.936555    0.000262  \n",
      "\n",
      "[5 rows x 551 columns]\n",
      "Index(['var1(t-350)', 'var1(t-349)', 'var1(t-348)', 'var1(t-347)',\n",
      "       'var1(t-346)', 'var1(t-345)', 'var1(t-344)', 'var1(t-343)',\n",
      "       'var1(t-342)', 'var1(t-341)',\n",
      "       ...\n",
      "       'var1(t+95)', 'var2(t+95)', 'var1(t+96)', 'var2(t+96)', 'var1(t+97)',\n",
      "       'var2(t+97)', 'var1(t+98)', 'var2(t+98)', 'var1(t+99)', 'var2(t+99)'],\n",
      "      dtype='object', length=551)\n"
     ]
    }
   ],
   "source": [
    "data = Supervised(df.values, n_in = 350, n_out = 100)\n",
    "\n",
    "\n",
    "cols_to_drop = []\n",
    "for i in range(2, 351):\n",
    "    cols_to_drop.extend([f'var2(t-{i})'])\n",
    "\n",
    "data.drop(cols_to_drop, axis=1, inplace=True)\n",
    "\n",
    "print(data.head())\n",
    "print(data.columns)"
   ]
  },
  {
   "cell_type": "code",
   "execution_count": 14,
   "metadata": {
    "id": "AfPf60oy6Pe4"
   },
   "outputs": [],
   "source": [
    "train = np.array(data[0:len(data)-1])\n",
    "forecast = np.array(data.tail(1))"
   ]
  },
  {
   "cell_type": "code",
   "execution_count": 15,
   "metadata": {
    "id": "WSAafzI37KiT"
   },
   "outputs": [],
   "source": [
    "trainy = train[:,-300:]\n",
    "trainX = train[:,:-300]"
   ]
  },
  {
   "cell_type": "code",
   "execution_count": 16,
   "metadata": {
    "id": "2SrOqVJA7f50"
   },
   "outputs": [],
   "source": [
    "forecasty = forecast[:,-300:]\n",
    "forecastX = forecast[:,:-300]"
   ]
  },
  {
   "cell_type": "code",
   "execution_count": 17,
   "metadata": {
    "colab": {
     "base_uri": "https://localhost:8080/"
    },
    "id": "Qno_k8Nw7saY",
    "outputId": "c4a88db5-d8c6-489f-cdb2-06b24e293cff"
   },
   "outputs": [
    {
     "name": "stdout",
     "output_type": "stream",
     "text": [
      "(1550, 1, 251) (1550, 300) (1, 1, 251)\n"
     ]
    }
   ],
   "source": [
    "trainX = trainX.reshape((trainX.shape[0], 1, trainX.shape[1]))\n",
    "forecastX = forecastX.reshape((forecastX.shape[0], 1, forecastX.shape[1]))\n",
    "print(trainX.shape, trainy.shape, forecastX.shape)"
   ]
  },
  {
   "cell_type": "code",
   "execution_count": 18,
   "metadata": {
    "colab": {
     "base_uri": "https://localhost:8080/"
    },
    "id": "b1Jp2DvNuNFx",
    "outputId": "d0e5b3c4-64f1-438c-eade-8dfeaac8e285"
   },
   "outputs": [
    {
     "name": "stdout",
     "output_type": "stream",
     "text": [
      "Epoch 1/500\n",
      "20/20 [==============================] - 3s 24ms/step - loss: 5397.3232 - val_loss: 3651.0388\n",
      "Epoch 2/500\n",
      "20/20 [==============================] - 0s 4ms/step - loss: 5335.1606 - val_loss: 3623.7278\n",
      "Epoch 3/500\n",
      "20/20 [==============================] - 0s 3ms/step - loss: 5292.6885 - val_loss: 3596.8157\n",
      "Epoch 4/500\n",
      "20/20 [==============================] - 0s 4ms/step - loss: 5250.3994 - val_loss: 3570.1016\n",
      "Epoch 5/500\n",
      "20/20 [==============================] - 0s 5ms/step - loss: 5208.3276 - val_loss: 3543.5608\n",
      "Epoch 6/500\n",
      "20/20 [==============================] - 0s 3ms/step - loss: 5166.4893 - val_loss: 3517.1924\n",
      "Epoch 7/500\n",
      "20/20 [==============================] - 0s 4ms/step - loss: 5124.8901 - val_loss: 3490.9993\n",
      "Epoch 8/500\n",
      "20/20 [==============================] - 0s 4ms/step - loss: 5083.5322 - val_loss: 3464.9819\n",
      "Epoch 9/500\n",
      "20/20 [==============================] - 0s 4ms/step - loss: 5042.4180 - val_loss: 3439.1399\n",
      "Epoch 10/500\n",
      "20/20 [==============================] - 0s 4ms/step - loss: 5001.5459 - val_loss: 3413.4739\n",
      "Epoch 11/500\n",
      "20/20 [==============================] - 0s 4ms/step - loss: 4960.9155 - val_loss: 3387.9827\n",
      "Epoch 12/500\n",
      "20/20 [==============================] - 0s 3ms/step - loss: 4920.5273 - val_loss: 3362.6667\n",
      "Epoch 13/500\n",
      "20/20 [==============================] - 0s 4ms/step - loss: 4880.3809 - val_loss: 3337.5247\n",
      "Epoch 14/500\n",
      "20/20 [==============================] - 0s 4ms/step - loss: 4840.4751 - val_loss: 3312.5562\n",
      "Epoch 15/500\n",
      "20/20 [==============================] - 0s 5ms/step - loss: 4800.8071 - val_loss: 3287.7603\n",
      "Epoch 16/500\n",
      "20/20 [==============================] - 0s 3ms/step - loss: 4761.3784 - val_loss: 3263.1362\n",
      "Epoch 17/500\n",
      "20/20 [==============================] - 0s 3ms/step - loss: 4722.1875 - val_loss: 3238.6836\n",
      "Epoch 18/500\n",
      "20/20 [==============================] - 0s 3ms/step - loss: 4683.2324 - val_loss: 3214.4011\n",
      "Epoch 19/500\n",
      "20/20 [==============================] - 0s 4ms/step - loss: 4644.5127 - val_loss: 3190.2883\n",
      "Epoch 20/500\n",
      "20/20 [==============================] - 0s 4ms/step - loss: 4606.0269 - val_loss: 3166.3440\n",
      "Epoch 21/500\n",
      "20/20 [==============================] - 0s 3ms/step - loss: 4567.7744 - val_loss: 3142.5674\n",
      "Epoch 22/500\n",
      "20/20 [==============================] - 0s 3ms/step - loss: 4529.7534 - val_loss: 3118.9578\n",
      "Epoch 23/500\n",
      "20/20 [==============================] - 0s 3ms/step - loss: 4491.9634 - val_loss: 3095.5144\n",
      "Epoch 24/500\n",
      "20/20 [==============================] - 0s 4ms/step - loss: 4454.4028 - val_loss: 3072.2363\n",
      "Epoch 25/500\n",
      "20/20 [==============================] - 0s 3ms/step - loss: 4417.0703 - val_loss: 3049.1226\n",
      "Epoch 26/500\n",
      "20/20 [==============================] - 0s 4ms/step - loss: 4379.9663 - val_loss: 3026.1719\n",
      "Epoch 27/500\n",
      "20/20 [==============================] - 0s 3ms/step - loss: 4343.0864 - val_loss: 3003.3845\n",
      "Epoch 28/500\n",
      "20/20 [==============================] - 0s 3ms/step - loss: 4306.4316 - val_loss: 2980.7588\n",
      "Epoch 29/500\n",
      "20/20 [==============================] - 0s 4ms/step - loss: 4270.0024 - val_loss: 2958.2944\n",
      "Epoch 30/500\n",
      "20/20 [==============================] - 0s 4ms/step - loss: 4233.7949 - val_loss: 2935.9902\n",
      "Epoch 31/500\n",
      "20/20 [==============================] - 0s 4ms/step - loss: 4197.8091 - val_loss: 2913.8455\n",
      "Epoch 32/500\n",
      "20/20 [==============================] - 0s 3ms/step - loss: 4162.0439 - val_loss: 2891.8591\n",
      "Epoch 33/500\n",
      "20/20 [==============================] - 0s 4ms/step - loss: 4126.4990 - val_loss: 2870.0308\n",
      "Epoch 34/500\n",
      "20/20 [==============================] - 0s 4ms/step - loss: 4091.1714 - val_loss: 2848.3594\n",
      "Epoch 35/500\n",
      "20/20 [==============================] - 0s 4ms/step - loss: 4056.0620 - val_loss: 2826.8440\n",
      "Epoch 36/500\n",
      "20/20 [==============================] - 0s 9ms/step - loss: 4021.1677 - val_loss: 2805.4844\n",
      "Epoch 37/500\n",
      "20/20 [==============================] - 0s 4ms/step - loss: 3986.4888 - val_loss: 2784.2793\n",
      "Epoch 38/500\n",
      "20/20 [==============================] - 0s 4ms/step - loss: 3952.0249 - val_loss: 2763.2275\n",
      "Epoch 39/500\n",
      "20/20 [==============================] - 0s 4ms/step - loss: 3917.7729 - val_loss: 2742.3293\n",
      "Epoch 40/500\n",
      "20/20 [==============================] - 0s 4ms/step - loss: 3883.7332 - val_loss: 2721.5835\n",
      "Epoch 41/500\n",
      "20/20 [==============================] - 0s 4ms/step - loss: 3849.9048 - val_loss: 2700.9888\n",
      "Epoch 42/500\n",
      "20/20 [==============================] - 0s 4ms/step - loss: 3816.2847 - val_loss: 2680.5452\n",
      "Epoch 43/500\n",
      "20/20 [==============================] - 0s 4ms/step - loss: 3782.8745 - val_loss: 2660.2512\n",
      "Epoch 44/500\n",
      "20/20 [==============================] - 0s 4ms/step - loss: 3749.6721 - val_loss: 2640.1069\n",
      "Epoch 45/500\n",
      "20/20 [==============================] - 0s 4ms/step - loss: 3716.6765 - val_loss: 2620.1106\n",
      "Epoch 46/500\n",
      "20/20 [==============================] - 0s 4ms/step - loss: 3683.8875 - val_loss: 2600.2625\n",
      "Epoch 47/500\n",
      "20/20 [==============================] - 0s 4ms/step - loss: 3651.3025 - val_loss: 2580.5613\n",
      "Epoch 48/500\n",
      "20/20 [==============================] - 0s 4ms/step - loss: 3618.9209 - val_loss: 2561.0063\n",
      "Epoch 49/500\n",
      "20/20 [==============================] - 0s 4ms/step - loss: 3586.7424 - val_loss: 2541.5974\n",
      "Epoch 50/500\n",
      "20/20 [==============================] - 0s 4ms/step - loss: 3554.7656 - val_loss: 2522.3328\n",
      "Epoch 51/500\n",
      "20/20 [==============================] - 0s 4ms/step - loss: 3522.9895 - val_loss: 2503.2126\n",
      "Epoch 52/500\n",
      "20/20 [==============================] - 0s 4ms/step - loss: 3491.4138 - val_loss: 2484.2358\n",
      "Epoch 53/500\n",
      "20/20 [==============================] - 0s 3ms/step - loss: 3460.0371 - val_loss: 2465.4019\n",
      "Epoch 54/500\n",
      "20/20 [==============================] - 0s 4ms/step - loss: 3428.8572 - val_loss: 2446.7100\n",
      "Epoch 55/500\n",
      "20/20 [==============================] - 0s 4ms/step - loss: 3397.8755 - val_loss: 2428.1592\n",
      "Epoch 56/500\n",
      "20/20 [==============================] - 0s 4ms/step - loss: 3367.0896 - val_loss: 2409.7495\n",
      "Epoch 57/500\n",
      "20/20 [==============================] - 0s 4ms/step - loss: 3336.4990 - val_loss: 2391.4797\n",
      "Epoch 58/500\n",
      "20/20 [==============================] - 0s 4ms/step - loss: 3306.1028 - val_loss: 2373.3491\n",
      "Epoch 59/500\n",
      "20/20 [==============================] - 0s 4ms/step - loss: 3275.8999 - val_loss: 2355.3572\n",
      "Epoch 60/500\n",
      "20/20 [==============================] - 0s 4ms/step - loss: 3245.8894 - val_loss: 2337.5037\n",
      "Epoch 61/500\n",
      "20/20 [==============================] - 0s 3ms/step - loss: 3216.0706 - val_loss: 2319.7871\n",
      "Epoch 62/500\n",
      "20/20 [==============================] - 0s 4ms/step - loss: 3186.4424 - val_loss: 2302.2073\n",
      "Epoch 63/500\n",
      "20/20 [==============================] - 0s 4ms/step - loss: 3157.0037 - val_loss: 2284.7634\n",
      "Epoch 64/500\n",
      "20/20 [==============================] - 0s 4ms/step - loss: 3127.7542 - val_loss: 2267.4548\n",
      "Epoch 65/500\n",
      "20/20 [==============================] - 0s 4ms/step - loss: 3098.6926 - val_loss: 2250.2815\n",
      "Epoch 66/500\n",
      "20/20 [==============================] - 0s 4ms/step - loss: 3069.8179 - val_loss: 2233.2415\n",
      "Epoch 67/500\n",
      "20/20 [==============================] - 0s 4ms/step - loss: 3041.1301 - val_loss: 2216.3357\n",
      "Epoch 68/500\n",
      "20/20 [==============================] - 0s 4ms/step - loss: 3012.6274 - val_loss: 2199.5620\n",
      "Epoch 69/500\n",
      "20/20 [==============================] - 0s 8ms/step - loss: 2984.3096 - val_loss: 2182.9214\n",
      "Epoch 70/500\n",
      "20/20 [==============================] - 0s 4ms/step - loss: 2956.1750 - val_loss: 2166.4119\n",
      "Epoch 71/500\n",
      "20/20 [==============================] - 0s 4ms/step - loss: 2928.2239 - val_loss: 2150.0339\n",
      "Epoch 72/500\n",
      "20/20 [==============================] - 0s 4ms/step - loss: 2900.4548 - val_loss: 2133.7859\n",
      "Epoch 73/500\n",
      "20/20 [==============================] - 0s 4ms/step - loss: 2872.8669 - val_loss: 2117.6677\n",
      "Epoch 74/500\n",
      "20/20 [==============================] - 0s 5ms/step - loss: 2845.4600 - val_loss: 2101.6787\n",
      "Epoch 75/500\n",
      "20/20 [==============================] - 0s 6ms/step - loss: 2818.2327 - val_loss: 2085.8188\n",
      "Epoch 76/500\n",
      "20/20 [==============================] - 0s 5ms/step - loss: 2791.1838 - val_loss: 2070.0867\n",
      "Epoch 77/500\n",
      "20/20 [==============================] - 0s 5ms/step - loss: 2764.3132 - val_loss: 2054.4819\n",
      "Epoch 78/500\n",
      "20/20 [==============================] - 0s 7ms/step - loss: 2737.6201 - val_loss: 2039.0038\n",
      "Epoch 79/500\n",
      "20/20 [==============================] - 0s 10ms/step - loss: 2711.1035 - val_loss: 2023.6522\n",
      "Epoch 80/500\n",
      "20/20 [==============================] - 0s 8ms/step - loss: 2684.7622 - val_loss: 2008.4264\n",
      "Epoch 81/500\n",
      "20/20 [==============================] - 0s 5ms/step - loss: 2658.5969 - val_loss: 1993.3254\n",
      "Epoch 82/500\n",
      "20/20 [==============================] - 0s 5ms/step - loss: 2632.6050 - val_loss: 1978.3492\n",
      "Epoch 83/500\n",
      "20/20 [==============================] - 0s 4ms/step - loss: 2606.7866 - val_loss: 1963.4966\n",
      "Epoch 84/500\n",
      "20/20 [==============================] - 0s 4ms/step - loss: 2581.1406 - val_loss: 1948.7677\n",
      "Epoch 85/500\n",
      "20/20 [==============================] - 0s 4ms/step - loss: 2555.6672 - val_loss: 1934.1617\n",
      "Epoch 86/500\n",
      "20/20 [==============================] - 0s 3ms/step - loss: 2530.3652 - val_loss: 1919.6779\n",
      "Epoch 87/500\n",
      "20/20 [==============================] - 0s 4ms/step - loss: 2505.2329 - val_loss: 1905.3157\n",
      "Epoch 88/500\n",
      "20/20 [==============================] - 0s 4ms/step - loss: 2480.2705 - val_loss: 1891.0750\n",
      "Epoch 89/500\n",
      "20/20 [==============================] - 0s 4ms/step - loss: 2455.4771 - val_loss: 1876.9546\n",
      "Epoch 90/500\n",
      "20/20 [==============================] - 0s 3ms/step - loss: 2430.8525 - val_loss: 1862.9548\n",
      "Epoch 91/500\n",
      "20/20 [==============================] - 0s 3ms/step - loss: 2406.3948 - val_loss: 1849.0746\n",
      "Epoch 92/500\n",
      "20/20 [==============================] - 0s 4ms/step - loss: 2382.1045 - val_loss: 1835.3135\n",
      "Epoch 93/500\n",
      "20/20 [==============================] - 0s 4ms/step - loss: 2357.9800 - val_loss: 1821.6705\n",
      "Epoch 94/500\n",
      "20/20 [==============================] - 0s 4ms/step - loss: 2334.0215 - val_loss: 1808.1460\n",
      "Epoch 95/500\n",
      "20/20 [==============================] - 0s 3ms/step - loss: 2310.2273 - val_loss: 1794.7391\n",
      "Epoch 96/500\n",
      "20/20 [==============================] - 0s 5ms/step - loss: 2286.5974 - val_loss: 1781.4487\n",
      "Epoch 97/500\n",
      "20/20 [==============================] - 0s 3ms/step - loss: 2263.1304 - val_loss: 1768.2754\n",
      "Epoch 98/500\n",
      "20/20 [==============================] - 0s 4ms/step - loss: 2239.8267 - val_loss: 1755.2179\n",
      "Epoch 99/500\n",
      "20/20 [==============================] - 0s 4ms/step - loss: 2216.6846 - val_loss: 1742.2758\n",
      "Epoch 100/500\n",
      "20/20 [==============================] - 0s 4ms/step - loss: 2193.7039 - val_loss: 1729.4480\n",
      "Epoch 101/500\n",
      "20/20 [==============================] - 0s 4ms/step - loss: 2170.8840 - val_loss: 1716.7264\n",
      "Epoch 102/500\n",
      "20/20 [==============================] - 0s 4ms/step - loss: 2142.1526 - val_loss: 1695.1987\n",
      "Epoch 103/500\n",
      "20/20 [==============================] - 0s 5ms/step - loss: 2109.1772 - val_loss: 1677.4644\n",
      "Epoch 104/500\n",
      "20/20 [==============================] - 0s 7ms/step - loss: 2079.9509 - val_loss: 1660.9968\n",
      "Epoch 105/500\n",
      "20/20 [==============================] - 0s 6ms/step - loss: 2052.3228 - val_loss: 1645.4070\n",
      "Epoch 106/500\n",
      "20/20 [==============================] - 0s 9ms/step - loss: 2025.7776 - val_loss: 1630.4268\n",
      "Epoch 107/500\n",
      "20/20 [==============================] - 0s 4ms/step - loss: 2000.0137 - val_loss: 1615.9102\n",
      "Epoch 108/500\n",
      "20/20 [==============================] - 0s 4ms/step - loss: 1974.8608 - val_loss: 1601.7711\n",
      "Epoch 109/500\n",
      "20/20 [==============================] - 0s 4ms/step - loss: 1950.2147 - val_loss: 1587.9534\n",
      "Epoch 110/500\n",
      "20/20 [==============================] - 0s 4ms/step - loss: 1926.0065 - val_loss: 1574.4193\n",
      "Epoch 111/500\n",
      "20/20 [==============================] - 0s 4ms/step - loss: 1902.1873 - val_loss: 1561.1407\n",
      "Epoch 112/500\n",
      "20/20 [==============================] - 0s 4ms/step - loss: 1878.7222 - val_loss: 1548.0966\n",
      "Epoch 113/500\n",
      "20/20 [==============================] - 0s 4ms/step - loss: 1855.5825 - val_loss: 1535.2705\n",
      "Epoch 114/500\n",
      "20/20 [==============================] - 0s 4ms/step - loss: 1832.7476 - val_loss: 1522.6492\n",
      "Epoch 115/500\n",
      "20/20 [==============================] - 0s 4ms/step - loss: 1810.1986 - val_loss: 1510.2223\n",
      "Epoch 116/500\n",
      "20/20 [==============================] - 0s 4ms/step - loss: 1787.9221 - val_loss: 1497.9806\n",
      "Epoch 117/500\n",
      "20/20 [==============================] - 0s 4ms/step - loss: 1765.9066 - val_loss: 1485.9164\n",
      "Epoch 118/500\n",
      "20/20 [==============================] - 0s 4ms/step - loss: 1744.1401 - val_loss: 1474.0234\n",
      "Epoch 119/500\n",
      "20/20 [==============================] - 0s 4ms/step - loss: 1722.6154 - val_loss: 1462.2958\n",
      "Epoch 120/500\n",
      "20/20 [==============================] - 0s 3ms/step - loss: 1701.3234 - val_loss: 1450.7284\n",
      "Epoch 121/500\n",
      "20/20 [==============================] - 0s 3ms/step - loss: 1680.2578 - val_loss: 1439.3170\n",
      "Epoch 122/500\n",
      "20/20 [==============================] - 0s 3ms/step - loss: 1659.4124 - val_loss: 1428.0576\n",
      "Epoch 123/500\n",
      "20/20 [==============================] - 0s 4ms/step - loss: 1638.7822 - val_loss: 1416.9473\n",
      "Epoch 124/500\n",
      "20/20 [==============================] - 0s 4ms/step - loss: 1618.3619 - val_loss: 1405.9821\n",
      "Epoch 125/500\n",
      "20/20 [==============================] - 0s 3ms/step - loss: 1598.1476 - val_loss: 1395.1593\n",
      "Epoch 126/500\n",
      "20/20 [==============================] - 0s 3ms/step - loss: 1578.1350 - val_loss: 1384.4766\n",
      "Epoch 127/500\n",
      "20/20 [==============================] - 0s 4ms/step - loss: 1558.3209 - val_loss: 1373.9310\n",
      "Epoch 128/500\n",
      "20/20 [==============================] - 0s 5ms/step - loss: 1538.7010 - val_loss: 1363.5210\n",
      "Epoch 129/500\n",
      "20/20 [==============================] - 0s 7ms/step - loss: 1519.2736 - val_loss: 1353.2440\n",
      "Epoch 130/500\n",
      "20/20 [==============================] - 0s 4ms/step - loss: 1500.0345 - val_loss: 1343.0981\n",
      "Epoch 131/500\n",
      "20/20 [==============================] - 0s 4ms/step - loss: 1480.9814 - val_loss: 1333.0811\n",
      "Epoch 132/500\n",
      "20/20 [==============================] - 0s 4ms/step - loss: 1462.1118 - val_loss: 1323.1919\n",
      "Epoch 133/500\n",
      "20/20 [==============================] - 0s 4ms/step - loss: 1443.4238 - val_loss: 1313.4286\n",
      "Epoch 134/500\n",
      "20/20 [==============================] - 0s 4ms/step - loss: 1424.9144 - val_loss: 1303.7897\n",
      "Epoch 135/500\n",
      "20/20 [==============================] - 0s 4ms/step - loss: 1406.5815 - val_loss: 1294.2734\n",
      "Epoch 136/500\n",
      "20/20 [==============================] - 0s 4ms/step - loss: 1388.4237 - val_loss: 1284.8784\n",
      "Epoch 137/500\n",
      "20/20 [==============================] - 0s 3ms/step - loss: 1370.4381 - val_loss: 1275.6035\n",
      "Epoch 138/500\n",
      "20/20 [==============================] - 0s 3ms/step - loss: 1352.6237 - val_loss: 1266.4476\n",
      "Epoch 139/500\n",
      "20/20 [==============================] - 0s 3ms/step - loss: 1334.9789 - val_loss: 1257.4094\n",
      "Epoch 140/500\n",
      "20/20 [==============================] - 0s 3ms/step - loss: 1317.5016 - val_loss: 1248.4875\n",
      "Epoch 141/500\n",
      "20/20 [==============================] - 0s 9ms/step - loss: 1300.1901 - val_loss: 1239.6809\n",
      "Epoch 142/500\n",
      "20/20 [==============================] - 0s 4ms/step - loss: 1283.0435 - val_loss: 1230.9891\n",
      "Epoch 143/500\n",
      "20/20 [==============================] - 0s 4ms/step - loss: 1266.0599 - val_loss: 1222.4095\n",
      "Epoch 144/500\n",
      "20/20 [==============================] - 0s 5ms/step - loss: 1249.2375 - val_loss: 1213.9429\n",
      "Epoch 145/500\n",
      "20/20 [==============================] - 0s 4ms/step - loss: 1232.5760 - val_loss: 1205.5870\n",
      "Epoch 146/500\n",
      "20/20 [==============================] - 0s 4ms/step - loss: 1216.0732 - val_loss: 1197.3416\n",
      "Epoch 147/500\n",
      "20/20 [==============================] - 0s 5ms/step - loss: 1199.7277 - val_loss: 1189.2052\n",
      "Epoch 148/500\n",
      "20/20 [==============================] - 0s 3ms/step - loss: 1183.5391 - val_loss: 1181.1774\n",
      "Epoch 149/500\n",
      "20/20 [==============================] - 0s 5ms/step - loss: 1167.5054 - val_loss: 1173.2571\n",
      "Epoch 150/500\n",
      "20/20 [==============================] - 0s 4ms/step - loss: 1151.6261 - val_loss: 1165.4436\n",
      "Epoch 151/500\n",
      "20/20 [==============================] - 0s 6ms/step - loss: 1135.8997 - val_loss: 1157.7356\n",
      "Epoch 152/500\n",
      "20/20 [==============================] - 0s 6ms/step - loss: 1120.3250 - val_loss: 1150.1328\n",
      "Epoch 153/500\n",
      "20/20 [==============================] - 0s 4ms/step - loss: 1104.9012 - val_loss: 1142.6340\n",
      "Epoch 154/500\n",
      "20/20 [==============================] - 0s 4ms/step - loss: 1089.6266 - val_loss: 1135.2386\n",
      "Epoch 155/500\n",
      "20/20 [==============================] - 0s 5ms/step - loss: 1074.5009 - val_loss: 1127.9459\n",
      "Epoch 156/500\n",
      "20/20 [==============================] - 0s 5ms/step - loss: 1059.5228 - val_loss: 1120.7551\n",
      "Epoch 157/500\n",
      "20/20 [==============================] - 0s 4ms/step - loss: 1044.6920 - val_loss: 1113.6654\n",
      "Epoch 158/500\n",
      "20/20 [==============================] - 0s 4ms/step - loss: 1030.0060 - val_loss: 1106.6759\n",
      "Epoch 159/500\n",
      "20/20 [==============================] - 0s 5ms/step - loss: 1015.4650 - val_loss: 1099.7861\n",
      "Epoch 160/500\n",
      "20/20 [==============================] - 0s 4ms/step - loss: 1001.0679 - val_loss: 1092.9956\n",
      "Epoch 161/500\n",
      "20/20 [==============================] - 0s 4ms/step - loss: 986.8136 - val_loss: 1086.3030\n",
      "Epoch 162/500\n",
      "20/20 [==============================] - 0s 4ms/step - loss: 972.7010 - val_loss: 1079.7078\n",
      "Epoch 163/500\n",
      "20/20 [==============================] - 0s 7ms/step - loss: 958.7293 - val_loss: 1073.2095\n",
      "Epoch 164/500\n",
      "20/20 [==============================] - 0s 4ms/step - loss: 944.8984 - val_loss: 1066.8074\n",
      "Epoch 165/500\n",
      "20/20 [==============================] - 0s 5ms/step - loss: 931.2064 - val_loss: 1060.5009\n",
      "Epoch 166/500\n",
      "20/20 [==============================] - 0s 9ms/step - loss: 917.6530 - val_loss: 1054.2891\n",
      "Epoch 167/500\n",
      "20/20 [==============================] - 0s 4ms/step - loss: 904.2373 - val_loss: 1048.1716\n",
      "Epoch 168/500\n",
      "20/20 [==============================] - 0s 3ms/step - loss: 890.9586 - val_loss: 1042.1476\n",
      "Epoch 169/500\n",
      "20/20 [==============================] - 0s 4ms/step - loss: 877.8154 - val_loss: 1036.2163\n",
      "Epoch 170/500\n",
      "20/20 [==============================] - 0s 4ms/step - loss: 864.8077 - val_loss: 1030.3776\n",
      "Epoch 171/500\n",
      "20/20 [==============================] - 0s 4ms/step - loss: 851.9343 - val_loss: 1024.6301\n",
      "Epoch 172/500\n",
      "20/20 [==============================] - 0s 4ms/step - loss: 839.1945 - val_loss: 1018.9741\n",
      "Epoch 173/500\n",
      "20/20 [==============================] - 0s 4ms/step - loss: 826.5875 - val_loss: 1013.4083\n",
      "Epoch 174/500\n",
      "20/20 [==============================] - 0s 4ms/step - loss: 814.1127 - val_loss: 1007.9321\n",
      "Epoch 175/500\n",
      "20/20 [==============================] - 0s 3ms/step - loss: 801.7690 - val_loss: 1002.5450\n",
      "Epoch 176/500\n",
      "20/20 [==============================] - 0s 3ms/step - loss: 789.5558 - val_loss: 997.2466\n",
      "Epoch 177/500\n",
      "20/20 [==============================] - 0s 4ms/step - loss: 777.4724 - val_loss: 992.0360\n",
      "Epoch 178/500\n",
      "20/20 [==============================] - 0s 5ms/step - loss: 765.5178 - val_loss: 986.9128\n",
      "Epoch 179/500\n",
      "20/20 [==============================] - 0s 5ms/step - loss: 753.6913 - val_loss: 981.8761\n",
      "Epoch 180/500\n",
      "20/20 [==============================] - 0s 4ms/step - loss: 741.9925 - val_loss: 976.9256\n",
      "Epoch 181/500\n",
      "20/20 [==============================] - 0s 4ms/step - loss: 730.4203 - val_loss: 972.0608\n",
      "Epoch 182/500\n",
      "20/20 [==============================] - 0s 4ms/step - loss: 718.9745 - val_loss: 967.2806\n",
      "Epoch 183/500\n",
      "20/20 [==============================] - 0s 5ms/step - loss: 707.6539 - val_loss: 962.5851\n",
      "Epoch 184/500\n",
      "20/20 [==============================] - 0s 3ms/step - loss: 696.4579 - val_loss: 957.9733\n",
      "Epoch 185/500\n",
      "20/20 [==============================] - 0s 3ms/step - loss: 685.3859 - val_loss: 953.4445\n",
      "Epoch 186/500\n",
      "20/20 [==============================] - 0s 3ms/step - loss: 674.4368 - val_loss: 948.9982\n",
      "Epoch 187/500\n",
      "20/20 [==============================] - 0s 6ms/step - loss: 663.6104 - val_loss: 944.6339\n",
      "Epoch 188/500\n",
      "20/20 [==============================] - 0s 5ms/step - loss: 652.9053 - val_loss: 940.3510\n",
      "Epoch 189/500\n",
      "20/20 [==============================] - 0s 5ms/step - loss: 642.3216 - val_loss: 936.1489\n",
      "Epoch 190/500\n",
      "20/20 [==============================] - 0s 4ms/step - loss: 631.8578 - val_loss: 932.0269\n",
      "Epoch 191/500\n",
      "20/20 [==============================] - 0s 4ms/step - loss: 621.5136 - val_loss: 927.9847\n",
      "Epoch 192/500\n",
      "20/20 [==============================] - 0s 4ms/step - loss: 611.2889 - val_loss: 924.0215\n",
      "Epoch 193/500\n",
      "20/20 [==============================] - 0s 3ms/step - loss: 601.1821 - val_loss: 920.1369\n",
      "Epoch 194/500\n",
      "20/20 [==============================] - 0s 4ms/step - loss: 591.1929 - val_loss: 916.3301\n",
      "Epoch 195/500\n",
      "20/20 [==============================] - 0s 4ms/step - loss: 581.3207 - val_loss: 912.6006\n",
      "Epoch 196/500\n",
      "20/20 [==============================] - 0s 4ms/step - loss: 571.5644 - val_loss: 908.9480\n",
      "Epoch 197/500\n",
      "20/20 [==============================] - 0s 6ms/step - loss: 561.9238 - val_loss: 905.3714\n",
      "Epoch 198/500\n",
      "20/20 [==============================] - 0s 4ms/step - loss: 552.3981 - val_loss: 901.8705\n",
      "Epoch 199/500\n",
      "20/20 [==============================] - 0s 5ms/step - loss: 542.9865 - val_loss: 898.4446\n",
      "Epoch 200/500\n",
      "20/20 [==============================] - 0s 7ms/step - loss: 533.6882 - val_loss: 895.0931\n",
      "Epoch 201/500\n",
      "20/20 [==============================] - 0s 4ms/step - loss: 524.5028 - val_loss: 891.8154\n",
      "Epoch 202/500\n",
      "20/20 [==============================] - 0s 4ms/step - loss: 515.4294 - val_loss: 888.6111\n",
      "Epoch 203/500\n",
      "20/20 [==============================] - 0s 3ms/step - loss: 506.4674 - val_loss: 885.4796\n",
      "Epoch 204/500\n",
      "20/20 [==============================] - 0s 4ms/step - loss: 497.6165 - val_loss: 882.4197\n",
      "Epoch 205/500\n",
      "20/20 [==============================] - 0s 4ms/step - loss: 488.8748 - val_loss: 879.4319\n",
      "Epoch 206/500\n",
      "20/20 [==============================] - 0s 4ms/step - loss: 480.2431 - val_loss: 876.5147\n",
      "Epoch 207/500\n",
      "20/20 [==============================] - 0s 4ms/step - loss: 471.7201 - val_loss: 873.6680\n",
      "Epoch 208/500\n",
      "20/20 [==============================] - 0s 4ms/step - loss: 463.3051 - val_loss: 870.8911\n",
      "Epoch 209/500\n",
      "20/20 [==============================] - 0s 4ms/step - loss: 454.9973 - val_loss: 868.1833\n",
      "Epoch 210/500\n",
      "20/20 [==============================] - 0s 5ms/step - loss: 446.7963 - val_loss: 865.5444\n",
      "Epoch 211/500\n",
      "20/20 [==============================] - 0s 3ms/step - loss: 438.7013 - val_loss: 862.9733\n",
      "Epoch 212/500\n",
      "20/20 [==============================] - 0s 3ms/step - loss: 430.7115 - val_loss: 860.4695\n",
      "Epoch 213/500\n",
      "20/20 [==============================] - 0s 4ms/step - loss: 422.8262 - val_loss: 858.0328\n",
      "Epoch 214/500\n",
      "20/20 [==============================] - 0s 4ms/step - loss: 415.0448 - val_loss: 855.6622\n",
      "Epoch 215/500\n",
      "20/20 [==============================] - 0s 4ms/step - loss: 407.3669 - val_loss: 853.3575\n",
      "Epoch 216/500\n",
      "20/20 [==============================] - 0s 4ms/step - loss: 399.7916 - val_loss: 851.1176\n",
      "Epoch 217/500\n",
      "20/20 [==============================] - 0s 4ms/step - loss: 392.3182 - val_loss: 848.9423\n",
      "Epoch 218/500\n",
      "20/20 [==============================] - 0s 4ms/step - loss: 384.9457 - val_loss: 846.8309\n",
      "Epoch 219/500\n",
      "20/20 [==============================] - 0s 4ms/step - loss: 377.6740 - val_loss: 844.7825\n",
      "Epoch 220/500\n",
      "20/20 [==============================] - 0s 4ms/step - loss: 370.5021 - val_loss: 842.7972\n",
      "Epoch 221/500\n",
      "20/20 [==============================] - 0s 4ms/step - loss: 363.4295 - val_loss: 840.8739\n",
      "Epoch 222/500\n",
      "20/20 [==============================] - 0s 5ms/step - loss: 356.4553 - val_loss: 839.0121\n",
      "Epoch 223/500\n",
      "20/20 [==============================] - 0s 3ms/step - loss: 349.5792 - val_loss: 837.2112\n",
      "Epoch 224/500\n",
      "20/20 [==============================] - 0s 3ms/step - loss: 342.8000 - val_loss: 835.4706\n",
      "Epoch 225/500\n",
      "20/20 [==============================] - 0s 4ms/step - loss: 336.1172 - val_loss: 833.7895\n",
      "Epoch 226/500\n",
      "20/20 [==============================] - 0s 3ms/step - loss: 329.5302 - val_loss: 832.1677\n",
      "Epoch 227/500\n",
      "20/20 [==============================] - 0s 4ms/step - loss: 323.0383 - val_loss: 830.6043\n",
      "Epoch 228/500\n",
      "20/20 [==============================] - 0s 10ms/step - loss: 316.6408 - val_loss: 829.0988\n",
      "Epoch 229/500\n",
      "20/20 [==============================] - 0s 5ms/step - loss: 310.3372 - val_loss: 827.6504\n",
      "Epoch 230/500\n",
      "20/20 [==============================] - 0s 5ms/step - loss: 304.1264 - val_loss: 826.2588\n",
      "Epoch 231/500\n",
      "20/20 [==============================] - 0s 5ms/step - loss: 298.0081 - val_loss: 824.9232\n",
      "Epoch 232/500\n",
      "20/20 [==============================] - 0s 6ms/step - loss: 291.9811 - val_loss: 823.6428\n",
      "Epoch 233/500\n",
      "20/20 [==============================] - 0s 5ms/step - loss: 286.0451 - val_loss: 822.4173\n",
      "Epoch 234/500\n",
      "20/20 [==============================] - 0s 5ms/step - loss: 280.1991 - val_loss: 821.2458\n",
      "Epoch 235/500\n",
      "20/20 [==============================] - 0s 5ms/step - loss: 274.4430 - val_loss: 820.1281\n",
      "Epoch 236/500\n",
      "20/20 [==============================] - 0s 5ms/step - loss: 268.7756 - val_loss: 819.0630\n",
      "Epoch 237/500\n",
      "20/20 [==============================] - 0s 4ms/step - loss: 263.1960 - val_loss: 818.0504\n",
      "Epoch 238/500\n",
      "20/20 [==============================] - 0s 4ms/step - loss: 257.7039 - val_loss: 817.0894\n",
      "Epoch 239/500\n",
      "20/20 [==============================] - 0s 4ms/step - loss: 252.2985 - val_loss: 816.1793\n",
      "Epoch 240/500\n",
      "20/20 [==============================] - 0s 5ms/step - loss: 246.9793 - val_loss: 815.3196\n",
      "Epoch 241/500\n",
      "20/20 [==============================] - 0s 5ms/step - loss: 241.7453 - val_loss: 814.5098\n",
      "Epoch 242/500\n",
      "20/20 [==============================] - 0s 5ms/step - loss: 236.5959 - val_loss: 813.7490\n",
      "Epoch 243/500\n",
      "20/20 [==============================] - 0s 5ms/step - loss: 231.5304 - val_loss: 813.0367\n",
      "Epoch 244/500\n",
      "20/20 [==============================] - 0s 5ms/step - loss: 226.5478 - val_loss: 812.3722\n",
      "Epoch 245/500\n",
      "20/20 [==============================] - 0s 4ms/step - loss: 221.6479 - val_loss: 811.7549\n",
      "Epoch 246/500\n",
      "20/20 [==============================] - 0s 4ms/step - loss: 216.8297 - val_loss: 811.1841\n",
      "Epoch 247/500\n",
      "20/20 [==============================] - 0s 4ms/step - loss: 212.0924 - val_loss: 810.6593\n",
      "Epoch 248/500\n",
      "20/20 [==============================] - 0s 4ms/step - loss: 207.4353 - val_loss: 810.1796\n",
      "Epoch 249/500\n",
      "20/20 [==============================] - 0s 3ms/step - loss: 202.8577 - val_loss: 809.7446\n",
      "Epoch 250/500\n",
      "20/20 [==============================] - 0s 4ms/step - loss: 198.3590 - val_loss: 809.3535\n",
      "Epoch 251/500\n",
      "20/20 [==============================] - 0s 4ms/step - loss: 193.9385 - val_loss: 809.0057\n",
      "Epoch 252/500\n",
      "20/20 [==============================] - 0s 4ms/step - loss: 189.5954 - val_loss: 808.7005\n",
      "Epoch 253/500\n",
      "20/20 [==============================] - 0s 5ms/step - loss: 185.3286 - val_loss: 808.4374\n",
      "Epoch 254/500\n",
      "20/20 [==============================] - 0s 4ms/step - loss: 181.1379 - val_loss: 808.2155\n",
      "Epoch 255/500\n",
      "20/20 [==============================] - 0s 4ms/step - loss: 177.0223 - val_loss: 808.0344\n",
      "Epoch 256/500\n",
      "20/20 [==============================] - 0s 9ms/step - loss: 172.9812 - val_loss: 807.8931\n",
      "Epoch 257/500\n",
      "20/20 [==============================] - 0s 5ms/step - loss: 169.0139 - val_loss: 807.7913\n",
      "Epoch 258/500\n",
      "20/20 [==============================] - 0s 6ms/step - loss: 165.1196 - val_loss: 807.7280\n",
      "Epoch 259/500\n",
      "20/20 [==============================] - 0s 5ms/step - loss: 161.2973 - val_loss: 807.7029\n",
      "Epoch 260/500\n",
      "20/20 [==============================] - 0s 5ms/step - loss: 157.5466 - val_loss: 807.7151\n",
      "Epoch 261/500\n",
      "20/20 [==============================] - 0s 5ms/step - loss: 153.8667 - val_loss: 807.7640\n",
      "Epoch 262/500\n",
      "20/20 [==============================] - 0s 4ms/step - loss: 150.2568 - val_loss: 807.8489\n",
      "Epoch 263/500\n",
      "20/20 [==============================] - 0s 5ms/step - loss: 146.7160 - val_loss: 807.9691\n",
      "Epoch 264/500\n",
      "20/20 [==============================] - 0s 4ms/step - loss: 143.2439 - val_loss: 808.1240\n",
      "Epoch 265/500\n",
      "20/20 [==============================] - 0s 5ms/step - loss: 139.8395 - val_loss: 808.3129\n",
      "Epoch 266/500\n",
      "20/20 [==============================] - 0s 6ms/step - loss: 136.5022 - val_loss: 808.5351\n",
      "Epoch 267/500\n",
      "20/20 [==============================] - 0s 6ms/step - loss: 133.2312 - val_loss: 808.7899\n",
      "Epoch 268/500\n",
      "20/20 [==============================] - 0s 7ms/step - loss: 130.0258 - val_loss: 809.0767\n",
      "Epoch 269/500\n",
      "20/20 [==============================] - 0s 7ms/step - loss: 126.8852 - val_loss: 809.3948\n",
      "Epoch 270/500\n",
      "20/20 [==============================] - 0s 7ms/step - loss: 123.8085 - val_loss: 809.7435\n",
      "Epoch 271/500\n",
      "20/20 [==============================] - 0s 5ms/step - loss: 120.7951 - val_loss: 810.1224\n",
      "Epoch 272/500\n",
      "20/20 [==============================] - 0s 6ms/step - loss: 117.8441 - val_loss: 810.5305\n",
      "Epoch 273/500\n",
      "20/20 [==============================] - 0s 5ms/step - loss: 114.9552 - val_loss: 810.9670\n",
      "Epoch 274/500\n",
      "20/20 [==============================] - 0s 4ms/step - loss: 112.1270 - val_loss: 811.4316\n",
      "Epoch 275/500\n",
      "20/20 [==============================] - 0s 5ms/step - loss: 109.3591 - val_loss: 811.9233\n",
      "Epoch 276/500\n",
      "20/20 [==============================] - 0s 4ms/step - loss: 106.6509 - val_loss: 812.4417\n",
      "Epoch 277/500\n",
      "20/20 [==============================] - 0s 5ms/step - loss: 104.0015 - val_loss: 812.9859\n",
      "Epoch 278/500\n",
      "20/20 [==============================] - 0s 5ms/step - loss: 101.4102 - val_loss: 813.5553\n",
      "Epoch 279/500\n",
      "20/20 [==============================] - 0s 5ms/step - loss: 98.8761 - val_loss: 814.1493\n",
      "Epoch 280/500\n",
      "20/20 [==============================] - 0s 6ms/step - loss: 96.3981 - val_loss: 814.7672\n",
      "Epoch 281/500\n",
      "20/20 [==============================] - 0s 6ms/step - loss: 93.9764 - val_loss: 815.4081\n",
      "Epoch 282/500\n",
      "20/20 [==============================] - 0s 6ms/step - loss: 91.6093 - val_loss: 816.0719\n",
      "Epoch 283/500\n",
      "20/20 [==============================] - 0s 13ms/step - loss: 89.2962 - val_loss: 816.7574\n",
      "Epoch 284/500\n",
      "20/20 [==============================] - 0s 6ms/step - loss: 87.0367 - val_loss: 817.4641\n",
      "Epoch 285/500\n",
      "20/20 [==============================] - 0s 6ms/step - loss: 84.8301 - val_loss: 818.1913\n",
      "Epoch 286/500\n",
      "20/20 [==============================] - 0s 6ms/step - loss: 82.6752 - val_loss: 818.9384\n",
      "Epoch 287/500\n",
      "20/20 [==============================] - 0s 6ms/step - loss: 80.5715 - val_loss: 819.7045\n",
      "Epoch 288/500\n",
      "20/20 [==============================] - 0s 6ms/step - loss: 78.5184 - val_loss: 820.4894\n",
      "Epoch 289/500\n",
      "20/20 [==============================] - 0s 5ms/step - loss: 76.5150 - val_loss: 821.2919\n",
      "Epoch 290/500\n",
      "20/20 [==============================] - 0s 7ms/step - loss: 74.5607 - val_loss: 822.1117\n",
      "Epoch 291/500\n",
      "20/20 [==============================] - 0s 6ms/step - loss: 72.6545 - val_loss: 822.9481\n",
      "Epoch 292/500\n",
      "20/20 [==============================] - 0s 6ms/step - loss: 70.7958 - val_loss: 823.8003\n",
      "Epoch 293/500\n",
      "20/20 [==============================] - 0s 6ms/step - loss: 68.9836 - val_loss: 824.6678\n",
      "Epoch 294/500\n",
      "20/20 [==============================] - 0s 6ms/step - loss: 67.2175 - val_loss: 825.5500\n",
      "Epoch 295/500\n",
      "20/20 [==============================] - 0s 6ms/step - loss: 65.4965 - val_loss: 826.4460\n",
      "Epoch 296/500\n",
      "20/20 [==============================] - 0s 7ms/step - loss: 63.8202 - val_loss: 827.3552\n",
      "Epoch 297/500\n",
      "20/20 [==============================] - 0s 6ms/step - loss: 62.1876 - val_loss: 828.2772\n",
      "Epoch 298/500\n",
      "20/20 [==============================] - 0s 7ms/step - loss: 60.5980 - val_loss: 829.2111\n",
      "Epoch 299/500\n",
      "20/20 [==============================] - 0s 7ms/step - loss: 59.0506 - val_loss: 830.1564\n",
      "Epoch 300/500\n",
      "20/20 [==============================] - 0s 8ms/step - loss: 57.5449 - val_loss: 831.1125\n",
      "Epoch 301/500\n",
      "20/20 [==============================] - 0s 7ms/step - loss: 56.0799 - val_loss: 832.0787\n",
      "Epoch 302/500\n",
      "20/20 [==============================] - 0s 7ms/step - loss: 54.6549 - val_loss: 833.0546\n",
      "Epoch 303/500\n",
      "20/20 [==============================] - 0s 7ms/step - loss: 53.2694 - val_loss: 834.0391\n",
      "Epoch 304/500\n",
      "20/20 [==============================] - 0s 6ms/step - loss: 51.9225 - val_loss: 835.0322\n",
      "Epoch 305/500\n",
      "20/20 [==============================] - 0s 7ms/step - loss: 50.6135 - val_loss: 836.0327\n",
      "Epoch 306/500\n",
      "20/20 [==============================] - 0s 6ms/step - loss: 49.3416 - val_loss: 837.0405\n",
      "Epoch 307/500\n",
      "20/20 [==============================] - 0s 8ms/step - loss: 48.1062 - val_loss: 838.0549\n",
      "Epoch 308/500\n",
      "20/20 [==============================] - 0s 8ms/step - loss: 46.9066 - val_loss: 839.0750\n",
      "Epoch 309/500\n",
      "20/20 [==============================] - 0s 6ms/step - loss: 45.7421 - val_loss: 840.1004\n",
      "Epoch 310/500\n",
      "20/20 [==============================] - 0s 5ms/step - loss: 44.6121 - val_loss: 841.1304\n",
      "Epoch 311/500\n",
      "20/20 [==============================] - 0s 6ms/step - loss: 43.5158 - val_loss: 842.1650\n",
      "Epoch 312/500\n",
      "20/20 [==============================] - 0s 5ms/step - loss: 42.4522 - val_loss: 843.2032\n",
      "Epoch 313/500\n",
      "20/20 [==============================] - 0s 5ms/step - loss: 41.4209 - val_loss: 844.2444\n",
      "Epoch 314/500\n",
      "20/20 [==============================] - 0s 4ms/step - loss: 40.4213 - val_loss: 845.2879\n",
      "Epoch 315/500\n",
      "20/20 [==============================] - 0s 5ms/step - loss: 39.4529 - val_loss: 846.3337\n",
      "Epoch 316/500\n",
      "20/20 [==============================] - 0s 5ms/step - loss: 38.5146 - val_loss: 847.3804\n",
      "Epoch 317/500\n",
      "20/20 [==============================] - 0s 4ms/step - loss: 37.6060 - val_loss: 848.4286\n",
      "Epoch 318/500\n",
      "20/20 [==============================] - 0s 4ms/step - loss: 36.7264 - val_loss: 849.4764\n",
      "Epoch 319/500\n",
      "20/20 [==============================] - 0s 4ms/step - loss: 35.8753 - val_loss: 850.5242\n",
      "Epoch 320/500\n",
      "20/20 [==============================] - 0s 4ms/step - loss: 35.0518 - val_loss: 851.5718\n",
      "Epoch 321/500\n",
      "20/20 [==============================] - 0s 4ms/step - loss: 34.2552 - val_loss: 852.6180\n",
      "Epoch 322/500\n",
      "20/20 [==============================] - 0s 5ms/step - loss: 33.4850 - val_loss: 853.6625\n",
      "Epoch 323/500\n",
      "20/20 [==============================] - 0s 5ms/step - loss: 32.7407 - val_loss: 854.7050\n",
      "Epoch 324/500\n",
      "20/20 [==============================] - 0s 5ms/step - loss: 32.0213 - val_loss: 855.7452\n",
      "Epoch 325/500\n",
      "20/20 [==============================] - 0s 4ms/step - loss: 31.3265 - val_loss: 856.7820\n",
      "Epoch 326/500\n",
      "20/20 [==============================] - 0s 4ms/step - loss: 30.6557 - val_loss: 857.8156\n",
      "Epoch 327/500\n",
      "20/20 [==============================] - 0s 4ms/step - loss: 30.0081 - val_loss: 858.8450\n",
      "Epoch 328/500\n",
      "20/20 [==============================] - 0s 4ms/step - loss: 29.3833 - val_loss: 859.8699\n",
      "Epoch 329/500\n",
      "20/20 [==============================] - 0s 4ms/step - loss: 28.7807 - val_loss: 860.8899\n",
      "Epoch 330/500\n",
      "20/20 [==============================] - 0s 5ms/step - loss: 28.1996 - val_loss: 861.9053\n",
      "Epoch 331/500\n",
      "20/20 [==============================] - 0s 6ms/step - loss: 27.6394 - val_loss: 862.9150\n",
      "Epoch 332/500\n",
      "20/20 [==============================] - 0s 5ms/step - loss: 27.0996 - val_loss: 863.9185\n",
      "Epoch 333/500\n",
      "20/20 [==============================] - 0s 12ms/step - loss: 26.5797 - val_loss: 864.9155\n",
      "Epoch 334/500\n",
      "20/20 [==============================] - 0s 7ms/step - loss: 26.0792 - val_loss: 865.9056\n",
      "Epoch 335/500\n",
      "20/20 [==============================] - 0s 6ms/step - loss: 25.5974 - val_loss: 866.8893\n",
      "Epoch 336/500\n",
      "20/20 [==============================] - 0s 6ms/step - loss: 25.1337 - val_loss: 867.8650\n",
      "Epoch 337/500\n",
      "20/20 [==============================] - 0s 5ms/step - loss: 24.6878 - val_loss: 868.8332\n",
      "Epoch 338/500\n",
      "20/20 [==============================] - 0s 7ms/step - loss: 24.2590 - val_loss: 869.7930\n",
      "Epoch 339/500\n",
      "20/20 [==============================] - 0s 5ms/step - loss: 23.8470 - val_loss: 870.7444\n",
      "Epoch 340/500\n",
      "20/20 [==============================] - 0s 5ms/step - loss: 23.4512 - val_loss: 871.6873\n",
      "Epoch 341/500\n",
      "20/20 [==============================] - 0s 5ms/step - loss: 23.0710 - val_loss: 872.6210\n",
      "Epoch 342/500\n",
      "20/20 [==============================] - 0s 5ms/step - loss: 22.7059 - val_loss: 873.5453\n",
      "Epoch 343/500\n",
      "20/20 [==============================] - 0s 5ms/step - loss: 22.3557 - val_loss: 874.4599\n",
      "Epoch 344/500\n",
      "20/20 [==============================] - 0s 4ms/step - loss: 22.0198 - val_loss: 875.3649\n",
      "Epoch 345/500\n",
      "20/20 [==============================] - 0s 5ms/step - loss: 21.6975 - val_loss: 876.2595\n",
      "Epoch 346/500\n",
      "20/20 [==============================] - 0s 6ms/step - loss: 21.3888 - val_loss: 877.1437\n",
      "Epoch 347/500\n",
      "20/20 [==============================] - 0s 7ms/step - loss: 21.0929 - val_loss: 878.0178\n",
      "Epoch 348/500\n",
      "20/20 [==============================] - 0s 5ms/step - loss: 20.8095 - val_loss: 878.8809\n",
      "Epoch 349/500\n",
      "20/20 [==============================] - 0s 4ms/step - loss: 20.5381 - val_loss: 879.7330\n",
      "Epoch 350/500\n",
      "20/20 [==============================] - 0s 4ms/step - loss: 20.2784 - val_loss: 880.5739\n",
      "Epoch 351/500\n",
      "20/20 [==============================] - 0s 5ms/step - loss: 20.0299 - val_loss: 881.4036\n",
      "Epoch 352/500\n",
      "20/20 [==============================] - 0s 5ms/step - loss: 19.7923 - val_loss: 882.2217\n",
      "Epoch 353/500\n",
      "20/20 [==============================] - 0s 4ms/step - loss: 19.5653 - val_loss: 883.0278\n",
      "Epoch 354/500\n",
      "20/20 [==============================] - 0s 4ms/step - loss: 19.3483 - val_loss: 883.8223\n",
      "Epoch 355/500\n",
      "20/20 [==============================] - 0s 4ms/step - loss: 19.1410 - val_loss: 884.6050\n",
      "Epoch 356/500\n",
      "20/20 [==============================] - 0s 4ms/step - loss: 18.9431 - val_loss: 885.3758\n",
      "Epoch 357/500\n",
      "20/20 [==============================] - 0s 4ms/step - loss: 18.7541 - val_loss: 886.1343\n",
      "Epoch 358/500\n",
      "20/20 [==============================] - 0s 4ms/step - loss: 18.5739 - val_loss: 886.8804\n",
      "Epoch 359/500\n",
      "20/20 [==============================] - 0s 4ms/step - loss: 18.4020 - val_loss: 887.6141\n",
      "Epoch 360/500\n",
      "20/20 [==============================] - 0s 4ms/step - loss: 18.2382 - val_loss: 888.3354\n",
      "Epoch 361/500\n",
      "20/20 [==============================] - 0s 4ms/step - loss: 18.0821 - val_loss: 889.0444\n",
      "Epoch 362/500\n",
      "20/20 [==============================] - 0s 4ms/step - loss: 17.9334 - val_loss: 889.7407\n",
      "Epoch 363/500\n",
      "20/20 [==============================] - 0s 4ms/step - loss: 17.7918 - val_loss: 890.4244\n",
      "Epoch 364/500\n",
      "20/20 [==============================] - 0s 5ms/step - loss: 17.6571 - val_loss: 891.0953\n",
      "Epoch 365/500\n",
      "20/20 [==============================] - 0s 4ms/step - loss: 17.5288 - val_loss: 891.7538\n",
      "Epoch 366/500\n",
      "20/20 [==============================] - 0s 4ms/step - loss: 17.4069 - val_loss: 892.3994\n",
      "Epoch 367/500\n",
      "20/20 [==============================] - 0s 4ms/step - loss: 17.2910 - val_loss: 893.0322\n",
      "Epoch 368/500\n",
      "20/20 [==============================] - 0s 4ms/step - loss: 17.1808 - val_loss: 893.6526\n",
      "Epoch 369/500\n",
      "20/20 [==============================] - 0s 4ms/step - loss: 17.0762 - val_loss: 894.2606\n",
      "Epoch 370/500\n",
      "20/20 [==============================] - 0s 4ms/step - loss: 16.9768 - val_loss: 894.8552\n",
      "Epoch 371/500\n",
      "20/20 [==============================] - 0s 5ms/step - loss: 16.8825 - val_loss: 895.4375\n",
      "Epoch 372/500\n",
      "20/20 [==============================] - 0s 5ms/step - loss: 16.7930 - val_loss: 896.0078\n",
      "Epoch 373/500\n",
      "20/20 [==============================] - 0s 5ms/step - loss: 16.7081 - val_loss: 896.5649\n",
      "Epoch 374/500\n",
      "20/20 [==============================] - 0s 6ms/step - loss: 16.6276 - val_loss: 897.1101\n",
      "Epoch 375/500\n",
      "20/20 [==============================] - 0s 6ms/step - loss: 16.5513 - val_loss: 897.6431\n",
      "Epoch 376/500\n",
      "20/20 [==============================] - 0s 5ms/step - loss: 16.4790 - val_loss: 898.1637\n",
      "Epoch 377/500\n",
      "20/20 [==============================] - 0s 4ms/step - loss: 16.4105 - val_loss: 898.6720\n",
      "Epoch 378/500\n",
      "20/20 [==============================] - 0s 8ms/step - loss: 16.3456 - val_loss: 899.1680\n",
      "Epoch 379/500\n",
      "20/20 [==============================] - 0s 5ms/step - loss: 16.2842 - val_loss: 899.6523\n",
      "Epoch 380/500\n",
      "20/20 [==============================] - 0s 5ms/step - loss: 16.2261 - val_loss: 900.1248\n",
      "Epoch 381/500\n",
      "20/20 [==============================] - 0s 4ms/step - loss: 16.1711 - val_loss: 900.5854\n",
      "Epoch 382/500\n",
      "20/20 [==============================] - 0s 4ms/step - loss: 16.1192 - val_loss: 901.0341\n",
      "Epoch 383/500\n",
      "20/20 [==============================] - 0s 4ms/step - loss: 16.0701 - val_loss: 901.4713\n",
      "Epoch 384/500\n",
      "20/20 [==============================] - 0s 5ms/step - loss: 16.0236 - val_loss: 901.8973\n",
      "Epoch 385/500\n",
      "20/20 [==============================] - 0s 4ms/step - loss: 15.9798 - val_loss: 902.3116\n",
      "Epoch 386/500\n",
      "20/20 [==============================] - 0s 4ms/step - loss: 15.9384 - val_loss: 902.7149\n",
      "Epoch 387/500\n",
      "20/20 [==============================] - 0s 4ms/step - loss: 15.8993 - val_loss: 903.1075\n",
      "Epoch 388/500\n",
      "20/20 [==============================] - 0s 4ms/step - loss: 15.8624 - val_loss: 903.4892\n",
      "Epoch 389/500\n",
      "20/20 [==============================] - 0s 4ms/step - loss: 15.8275 - val_loss: 903.8600\n",
      "Epoch 390/500\n",
      "20/20 [==============================] - 0s 4ms/step - loss: 15.7946 - val_loss: 904.2206\n",
      "Epoch 391/500\n",
      "20/20 [==============================] - 0s 4ms/step - loss: 15.7636 - val_loss: 904.5704\n",
      "Epoch 392/500\n",
      "20/20 [==============================] - 0s 4ms/step - loss: 15.7344 - val_loss: 904.9105\n",
      "Epoch 393/500\n",
      "20/20 [==============================] - 0s 4ms/step - loss: 15.7068 - val_loss: 905.2403\n",
      "Epoch 394/500\n",
      "20/20 [==============================] - 0s 4ms/step - loss: 15.6809 - val_loss: 905.5604\n",
      "Epoch 395/500\n",
      "20/20 [==============================] - 0s 4ms/step - loss: 15.6564 - val_loss: 905.8704\n",
      "Epoch 396/500\n",
      "20/20 [==============================] - 0s 4ms/step - loss: 15.6333 - val_loss: 906.1708\n",
      "Epoch 397/500\n",
      "20/20 [==============================] - 0s 4ms/step - loss: 15.6116 - val_loss: 906.4622\n",
      "Epoch 398/500\n",
      "20/20 [==============================] - 0s 3ms/step - loss: 15.5911 - val_loss: 906.7444\n",
      "Epoch 399/500\n",
      "20/20 [==============================] - 0s 4ms/step - loss: 15.5719 - val_loss: 907.0172\n",
      "Epoch 400/500\n",
      "20/20 [==============================] - 0s 8ms/step - loss: 15.5537 - val_loss: 907.2814\n",
      "Epoch 401/500\n",
      "20/20 [==============================] - 0s 4ms/step - loss: 15.5367 - val_loss: 907.5367\n",
      "Epoch 402/500\n",
      "20/20 [==============================] - 0s 5ms/step - loss: 15.5207 - val_loss: 907.7840\n",
      "Epoch 403/500\n",
      "20/20 [==============================] - 0s 5ms/step - loss: 15.5055 - val_loss: 908.0228\n",
      "Epoch 404/500\n",
      "20/20 [==============================] - 0s 4ms/step - loss: 15.4914 - val_loss: 908.2538\n",
      "Epoch 405/500\n",
      "20/20 [==============================] - 0s 3ms/step - loss: 15.4779 - val_loss: 908.4766\n",
      "Epoch 406/500\n",
      "20/20 [==============================] - 0s 4ms/step - loss: 15.4654 - val_loss: 908.6917\n",
      "Epoch 407/500\n",
      "20/20 [==============================] - 0s 4ms/step - loss: 15.4536 - val_loss: 908.8997\n",
      "Epoch 408/500\n",
      "20/20 [==============================] - 0s 4ms/step - loss: 15.4425 - val_loss: 909.1000\n",
      "Epoch 409/500\n",
      "20/20 [==============================] - 0s 4ms/step - loss: 15.4320 - val_loss: 909.2933\n",
      "Epoch 410/500\n",
      "20/20 [==============================] - 0s 4ms/step - loss: 15.4222 - val_loss: 909.4797\n",
      "Epoch 411/500\n",
      "20/20 [==============================] - 0s 5ms/step - loss: 15.4129 - val_loss: 909.6591\n",
      "Epoch 412/500\n",
      "20/20 [==============================] - 0s 4ms/step - loss: 15.4043 - val_loss: 909.8320\n",
      "Epoch 413/500\n",
      "20/20 [==============================] - 0s 4ms/step - loss: 15.3961 - val_loss: 909.9984\n",
      "Epoch 414/500\n",
      "20/20 [==============================] - 0s 4ms/step - loss: 15.3884 - val_loss: 910.1586\n",
      "Epoch 415/500\n",
      "20/20 [==============================] - 0s 3ms/step - loss: 15.3812 - val_loss: 910.3127\n",
      "Epoch 416/500\n",
      "20/20 [==============================] - 0s 4ms/step - loss: 15.3744 - val_loss: 910.4610\n",
      "Epoch 417/500\n",
      "20/20 [==============================] - 0s 4ms/step - loss: 15.3681 - val_loss: 910.6033\n",
      "Epoch 418/500\n",
      "20/20 [==============================] - 0s 4ms/step - loss: 15.3621 - val_loss: 910.7404\n",
      "Epoch 419/500\n",
      "20/20 [==============================] - 0s 4ms/step - loss: 15.3565 - val_loss: 910.8718\n",
      "Epoch 420/500\n",
      "20/20 [==============================] - 0s 4ms/step - loss: 15.3512 - val_loss: 910.9981\n",
      "Epoch 421/500\n",
      "20/20 [==============================] - 0s 4ms/step - loss: 15.3463 - val_loss: 911.1191\n",
      "Epoch 422/500\n",
      "20/20 [==============================] - 0s 4ms/step - loss: 15.3416 - val_loss: 911.2352\n",
      "Epoch 423/500\n",
      "20/20 [==============================] - 0s 4ms/step - loss: 15.3372 - val_loss: 911.3462\n",
      "Epoch 424/500\n",
      "20/20 [==============================] - 0s 8ms/step - loss: 15.3332 - val_loss: 911.4529\n",
      "Epoch 425/500\n",
      "20/20 [==============================] - 0s 4ms/step - loss: 15.3293 - val_loss: 911.5551\n",
      "Epoch 426/500\n",
      "20/20 [==============================] - 0s 4ms/step - loss: 15.3257 - val_loss: 911.6528\n",
      "Epoch 427/500\n",
      "20/20 [==============================] - 0s 4ms/step - loss: 15.3223 - val_loss: 911.7468\n",
      "Epoch 428/500\n",
      "20/20 [==============================] - 0s 4ms/step - loss: 15.3191 - val_loss: 911.8363\n",
      "Epoch 429/500\n",
      "20/20 [==============================] - 0s 5ms/step - loss: 15.3162 - val_loss: 911.9224\n",
      "Epoch 430/500\n",
      "20/20 [==============================] - 0s 4ms/step - loss: 15.3134 - val_loss: 912.0045\n",
      "Epoch 431/500\n",
      "20/20 [==============================] - 0s 4ms/step - loss: 15.3108 - val_loss: 912.0829\n",
      "Epoch 432/500\n",
      "20/20 [==============================] - 0s 4ms/step - loss: 15.3083 - val_loss: 912.1580\n",
      "Epoch 433/500\n",
      "20/20 [==============================] - 0s 4ms/step - loss: 15.3060 - val_loss: 912.2294\n",
      "Epoch 434/500\n",
      "20/20 [==============================] - 0s 4ms/step - loss: 15.3039 - val_loss: 912.2978\n",
      "Epoch 435/500\n",
      "20/20 [==============================] - 0s 4ms/step - loss: 15.3019 - val_loss: 912.3633\n",
      "Epoch 436/500\n",
      "20/20 [==============================] - 0s 4ms/step - loss: 15.3000 - val_loss: 912.4254\n",
      "Epoch 437/500\n",
      "20/20 [==============================] - 0s 4ms/step - loss: 15.2982 - val_loss: 912.4845\n",
      "Epoch 438/500\n",
      "20/20 [==============================] - 0s 4ms/step - loss: 15.2966 - val_loss: 912.5411\n",
      "Epoch 439/500\n",
      "20/20 [==============================] - 0s 4ms/step - loss: 15.2950 - val_loss: 912.5952\n",
      "Epoch 440/500\n",
      "20/20 [==============================] - 0s 4ms/step - loss: 15.2935 - val_loss: 912.6462\n",
      "Epoch 441/500\n",
      "20/20 [==============================] - 0s 4ms/step - loss: 15.2922 - val_loss: 912.6948\n",
      "Epoch 442/500\n",
      "20/20 [==============================] - 0s 4ms/step - loss: 15.2910 - val_loss: 912.7413\n",
      "Epoch 443/500\n",
      "20/20 [==============================] - 0s 4ms/step - loss: 15.2898 - val_loss: 912.7852\n",
      "Epoch 444/500\n",
      "20/20 [==============================] - 0s 4ms/step - loss: 15.2888 - val_loss: 912.8273\n",
      "Epoch 445/500\n",
      "20/20 [==============================] - 0s 4ms/step - loss: 15.2878 - val_loss: 912.8677\n",
      "Epoch 446/500\n",
      "20/20 [==============================] - 0s 3ms/step - loss: 15.2868 - val_loss: 912.9053\n",
      "Epoch 447/500\n",
      "20/20 [==============================] - 0s 7ms/step - loss: 15.2860 - val_loss: 912.9414\n",
      "Epoch 448/500\n",
      "20/20 [==============================] - 0s 4ms/step - loss: 15.2851 - val_loss: 912.9754\n",
      "Epoch 449/500\n",
      "20/20 [==============================] - 0s 5ms/step - loss: 15.2844 - val_loss: 913.0077\n",
      "Epoch 450/500\n",
      "20/20 [==============================] - 0s 5ms/step - loss: 15.2837 - val_loss: 913.0381\n",
      "Epoch 451/500\n",
      "20/20 [==============================] - 0s 4ms/step - loss: 15.2831 - val_loss: 913.0674\n",
      "Epoch 452/500\n",
      "20/20 [==============================] - 0s 4ms/step - loss: 15.2825 - val_loss: 913.0950\n",
      "Epoch 453/500\n",
      "20/20 [==============================] - 0s 4ms/step - loss: 15.2820 - val_loss: 913.1213\n",
      "Epoch 454/500\n",
      "20/20 [==============================] - 0s 4ms/step - loss: 15.2815 - val_loss: 913.1462\n",
      "Epoch 455/500\n",
      "20/20 [==============================] - 0s 5ms/step - loss: 15.2810 - val_loss: 913.1697\n",
      "Epoch 456/500\n",
      "20/20 [==============================] - 0s 4ms/step - loss: 15.2806 - val_loss: 913.1920\n",
      "Epoch 457/500\n",
      "20/20 [==============================] - 0s 5ms/step - loss: 15.2803 - val_loss: 913.2132\n",
      "Epoch 458/500\n",
      "20/20 [==============================] - 0s 4ms/step - loss: 15.2799 - val_loss: 913.2332\n",
      "Epoch 459/500\n",
      "20/20 [==============================] - 0s 4ms/step - loss: 15.2796 - val_loss: 913.2521\n",
      "Epoch 460/500\n",
      "20/20 [==============================] - 0s 4ms/step - loss: 15.2793 - val_loss: 913.2697\n",
      "Epoch 461/500\n",
      "20/20 [==============================] - 0s 4ms/step - loss: 15.2791 - val_loss: 913.2865\n",
      "Epoch 462/500\n",
      "20/20 [==============================] - 0s 4ms/step - loss: 15.2789 - val_loss: 913.3020\n",
      "Epoch 463/500\n",
      "20/20 [==============================] - 0s 4ms/step - loss: 15.2786 - val_loss: 913.3165\n",
      "Epoch 464/500\n",
      "20/20 [==============================] - 0s 5ms/step - loss: 15.2785 - val_loss: 913.3306\n",
      "Epoch 465/500\n",
      "20/20 [==============================] - 0s 4ms/step - loss: 15.2783 - val_loss: 913.3436\n",
      "Epoch 466/500\n",
      "20/20 [==============================] - 0s 3ms/step - loss: 15.2782 - val_loss: 913.3558\n",
      "Epoch 467/500\n",
      "20/20 [==============================] - 0s 4ms/step - loss: 15.2782 - val_loss: 913.3676\n",
      "Epoch 468/500\n",
      "20/20 [==============================] - 0s 4ms/step - loss: 15.2781 - val_loss: 913.3787\n",
      "Epoch 469/500\n",
      "20/20 [==============================] - 0s 4ms/step - loss: 15.2780 - val_loss: 913.3889\n",
      "Epoch 470/500\n",
      "20/20 [==============================] - 0s 4ms/step - loss: 15.2780 - val_loss: 913.3989\n",
      "Epoch 471/500\n",
      "20/20 [==============================] - 0s 9ms/step - loss: 15.2779 - val_loss: 913.4080\n",
      "Epoch 472/500\n",
      "20/20 [==============================] - 0s 4ms/step - loss: 15.2779 - val_loss: 913.4167\n",
      "Epoch 473/500\n",
      "20/20 [==============================] - 0s 4ms/step - loss: 15.2779 - val_loss: 913.4248\n",
      "Epoch 474/500\n",
      "20/20 [==============================] - 0s 4ms/step - loss: 15.2779 - val_loss: 913.4324\n",
      "Epoch 475/500\n",
      "20/20 [==============================] - 0s 4ms/step - loss: 15.2779 - val_loss: 913.4397\n",
      "Epoch 476/500\n",
      "20/20 [==============================] - 0s 6ms/step - loss: 15.2780 - val_loss: 913.4464\n",
      "Epoch 477/500\n",
      "20/20 [==============================] - 0s 5ms/step - loss: 15.2780 - val_loss: 913.4527\n",
      "Epoch 478/500\n",
      "20/20 [==============================] - 0s 4ms/step - loss: 15.2781 - val_loss: 913.4583\n",
      "Epoch 479/500\n",
      "20/20 [==============================] - 0s 5ms/step - loss: 15.2782 - val_loss: 913.4638\n",
      "Epoch 480/500\n",
      "20/20 [==============================] - 0s 5ms/step - loss: 15.2782 - val_loss: 913.4688\n",
      "Epoch 481/500\n",
      "20/20 [==============================] - 0s 4ms/step - loss: 15.2783 - val_loss: 913.4732\n",
      "Epoch 482/500\n",
      "20/20 [==============================] - 0s 4ms/step - loss: 15.2784 - val_loss: 913.4773\n",
      "Epoch 483/500\n",
      "20/20 [==============================] - 0s 4ms/step - loss: 15.2785 - val_loss: 913.4819\n",
      "Epoch 484/500\n",
      "20/20 [==============================] - 0s 4ms/step - loss: 15.2786 - val_loss: 913.4856\n",
      "Epoch 485/500\n",
      "20/20 [==============================] - 0s 4ms/step - loss: 15.2787 - val_loss: 913.4893\n",
      "Epoch 486/500\n",
      "20/20 [==============================] - 0s 5ms/step - loss: 15.2788 - val_loss: 913.4923\n",
      "Epoch 487/500\n",
      "20/20 [==============================] - 0s 5ms/step - loss: 15.2789 - val_loss: 913.4952\n",
      "Epoch 488/500\n",
      "20/20 [==============================] - 0s 4ms/step - loss: 15.2790 - val_loss: 913.4982\n",
      "Epoch 489/500\n",
      "20/20 [==============================] - 0s 4ms/step - loss: 15.2792 - val_loss: 913.5005\n",
      "Epoch 490/500\n",
      "20/20 [==============================] - 0s 4ms/step - loss: 15.2793 - val_loss: 913.5031\n",
      "Epoch 491/500\n",
      "20/20 [==============================] - 0s 8ms/step - loss: 15.2794 - val_loss: 913.5051\n",
      "Epoch 492/500\n",
      "20/20 [==============================] - 0s 5ms/step - loss: 15.2796 - val_loss: 913.5073\n",
      "Epoch 493/500\n",
      "20/20 [==============================] - 0s 4ms/step - loss: 15.2797 - val_loss: 913.5093\n",
      "Epoch 494/500\n",
      "20/20 [==============================] - 0s 4ms/step - loss: 15.2799 - val_loss: 913.5112\n",
      "Epoch 495/500\n",
      "20/20 [==============================] - 0s 5ms/step - loss: 15.2800 - val_loss: 913.5126\n",
      "Epoch 496/500\n",
      "20/20 [==============================] - 0s 4ms/step - loss: 15.2801 - val_loss: 913.5141\n",
      "Epoch 497/500\n",
      "20/20 [==============================] - 0s 4ms/step - loss: 15.2803 - val_loss: 913.5155\n",
      "Epoch 498/500\n",
      "20/20 [==============================] - 0s 4ms/step - loss: 15.2804 - val_loss: 913.5169\n",
      "Epoch 499/500\n",
      "20/20 [==============================] - 0s 4ms/step - loss: 15.2805 - val_loss: 913.5176\n",
      "Epoch 500/500\n",
      "20/20 [==============================] - 0s 4ms/step - loss: 15.2807 - val_loss: 913.5189\n"
     ]
    }
   ],
   "source": [
    "C0 = tf.Variable(88.1552, name=\"C0\", trainable=True, dtype=tf.float32)\n",
    "K0 = tf.Variable(-0.0026, name=\"K0\", trainable=True, dtype=tf.float32)\n",
    "K1 = tf.Variable(-0.0004, name=\"K1\", trainable=True, dtype=tf.float32)\n",
    "a = tf.Variable(0.0000, name=\"a\", trainable=True, dtype=tf.float32)\n",
    "b = tf.Variable(0.0102, name=\"b\", trainable=True, dtype=tf.float32)\n",
    "c = tf.Variable(2.8734, name=\"c\", trainable=True, dtype=tf.float32)\n",
    "\n",
    "splitr = 0.8\n",
    "\n",
    "\n",
    "def loss_fn(y_true, y_pred):\n",
    "    squared_difference = tf.square(y_true[:, 0] - y_pred[:, 0])\n",
    "    #squared_difference2 = tf.square(y_true[:, 2]-y_pred[:, 2])\n",
    "    #squared_difference1 = tf.square(y_true[:, 1]-y_pred[:, 1])\n",
    "    epsilon = 1\n",
    "    squared_difference3 = tf.square(\n",
    "        y_pred[:, 1] - (\n",
    "            y_pred[:, 0] * (\n",
    "                K0 - K1 * (\n",
    "                    9 * a * tf.math.log((y_pred[:, 0] + epsilon) / C0) / (K0 - K1 * c)**2 +\n",
    "                    4 * b * tf.math.log((y_pred[:, 0] + epsilon) / C0) / (K0 - K1 * c) + c\n",
    "                )\n",
    "            )\n",
    "        )\n",
    "    )\n",
    "    return tf.reduce_mean(squared_difference, axis=-1) + 0.2*tf.reduce_mean(squared_difference3, axis=-1)\n",
    "model = Sequential()\n",
    "model.add(LSTM(100, input_shape=(trainX.shape[1], trainX.shape[2])))\n",
    "model.add(Dense(60))\n",
    "model.compile(loss=loss_fn, optimizer='adam')\n",
    "history = model.fit(trainX[:int(splitr*trainX.shape[0])], trainy[:int(splitr*trainX.shape[0])], epochs=500, batch_size=64, validation_data=(trainX[int(splitr*trainX.shape[0]):trainX.shape[0]], trainy[int(splitr*trainX.shape[0]):trainX.shape[0]]), shuffle=False)"
   ]
  },
  {
   "cell_type": "code",
   "execution_count": 19,
   "metadata": {
    "colab": {
     "base_uri": "https://localhost:8080/"
    },
    "id": "yJL101rPyuoT",
    "outputId": "239ff2b1-c186-423a-d316-939dfdd7c793"
   },
   "outputs": [
    {
     "name": "stdout",
     "output_type": "stream",
     "text": [
      "1/1 [==============================] - 0s 345ms/step\n"
     ]
    }
   ],
   "source": [
    "forecast_without_mc = forecastX\n",
    "yhat_without_mc = model.predict(forecast_without_mc) # Step Ahead Prediction\n",
    "forecast_without_mc = forecast_without_mc.reshape((forecast_without_mc.shape[0], forecast_without_mc.shape[2])) # Historical Input"
   ]
  },
  {
   "cell_type": "code",
   "execution_count": 20,
   "metadata": {
    "colab": {
     "base_uri": "https://localhost:8080/"
    },
    "id": "g9dQELcJ8wbp",
    "outputId": "4dc7671b-b1a8-48d5-8744-a86f98446109"
   },
   "outputs": [
    {
     "data": {
      "text/plain": [
       "(1, 1, 251)"
      ]
     },
     "execution_count": 20,
     "metadata": {},
     "output_type": "execute_result"
    }
   ],
   "source": [
    "forecastX.shape"
   ]
  },
  {
   "cell_type": "code",
   "execution_count": 21,
   "metadata": {
    "colab": {
     "base_uri": "https://localhost:8080/"
    },
    "id": "IS2kyIKG1Kbr",
    "outputId": "f31b3485-8e26-452f-9298-ea8bf7e80ad1"
   },
   "outputs": [
    {
     "data": {
      "text/plain": [
       "(1, 251)"
      ]
     },
     "execution_count": 21,
     "metadata": {},
     "output_type": "execute_result"
    }
   ],
   "source": [
    "forecast_without_mc.shape"
   ]
  },
  {
   "cell_type": "code",
   "execution_count": 22,
   "metadata": {
    "id": "0u6VIzaDyuoT"
   },
   "outputs": [],
   "source": [
    "inv_yhat_without_mc = np.concatenate((forecast_without_mc, yhat_without_mc), axis=1) # Concatenation of predicted values with Historical Data\n",
    "#inv_yhat_without_mc = scaler.inverse_transform(inv_yhat_without_mc) # Transform labels back to original encoding"
   ]
  },
  {
   "cell_type": "code",
   "execution_count": 23,
   "metadata": {
    "colab": {
     "base_uri": "https://localhost:8080/"
    },
    "id": "EUEcw0LX07oU",
    "outputId": "cfc32397-9c37-4b43-d087-584bb31c3dcc"
   },
   "outputs": [
    {
     "data": {
      "text/plain": [
       "(1, 311)"
      ]
     },
     "execution_count": 23,
     "metadata": {},
     "output_type": "execute_result"
    }
   ],
   "source": [
    "inv_yhat_without_mc.shape"
   ]
  },
  {
   "cell_type": "code",
   "execution_count": 24,
   "metadata": {
    "id": "31OWVbSh_305"
   },
   "outputs": [],
   "source": [
    "fforecast = inv_yhat_without_mc[:,-300:]"
   ]
  },
  {
   "cell_type": "code",
   "execution_count": 25,
   "metadata": {},
   "outputs": [
    {
     "data": {
      "text/plain": [
       "(1, 300)"
      ]
     },
     "execution_count": 25,
     "metadata": {},
     "output_type": "execute_result"
    }
   ],
   "source": [
    "fforecast.shape"
   ]
  },
  {
   "cell_type": "code",
   "execution_count": 26,
   "metadata": {
    "id": "BlpGH2FOAiRF"
   },
   "outputs": [],
   "source": [
    "final_forecast = fforecast[:,0:300:3]"
   ]
  },
  {
   "cell_type": "code",
   "execution_count": 27,
   "metadata": {},
   "outputs": [
    {
     "data": {
      "text/plain": [
       "(1, 300)"
      ]
     },
     "execution_count": 27,
     "metadata": {},
     "output_type": "execute_result"
    }
   ],
   "source": [
    "fforecast.shape"
   ]
  },
  {
   "cell_type": "code",
   "execution_count": 28,
   "metadata": {
    "id": "CXkgkj_LBk_t"
   },
   "outputs": [],
   "source": [
    "# code to replace all negative value with 0\n",
    "final_forecast[final_forecast<0] = 0"
   ]
  },
  {
   "cell_type": "code",
   "execution_count": 29,
   "metadata": {},
   "outputs": [
    {
     "data": {
      "text/plain": [
       "array([[6.26712185e+01, 6.25955882e+01, 6.25199580e+01, 6.24443277e+01,\n",
       "        6.23965219e+01, 6.23881186e+01, 6.23797152e+01, 5.92778620e-01,\n",
       "        1.30264850e-01, 0.00000000e+00, 7.42152300e-02, 0.00000000e+00,\n",
       "        9.36131420e-01, 7.09244258e+01, 7.08976891e+01, 7.08724790e+01,\n",
       "        7.08472689e+01, 7.08220588e+01, 7.07968487e+01, 7.07716387e+01,\n",
       "        7.07464286e+01, 7.07212185e+01, 7.06960084e+01, 7.06707983e+01,\n",
       "        7.06455882e+01, 7.06203781e+01, 7.05887255e+01, 7.05299020e+01,\n",
       "        7.04710784e+01, 7.04122549e+01, 7.03534314e+01, 7.02946078e+01,\n",
       "        7.02357843e+01, 7.01769608e+01, 7.01181373e+01, 7.00593137e+01,\n",
       "        7.00004902e+01, 6.99416667e+01, 6.98607843e+01, 6.97263305e+01,\n",
       "        0.00000000e+00, 1.86991950e-02, 0.00000000e+00, 0.00000000e+00,\n",
       "        6.03351235e-01, 1.71475142e-01, 4.62394208e-01, 7.06259804e+01,\n",
       "        7.06007703e+01, 7.05429739e+01, 7.04841503e+01, 7.04253268e+01,\n",
       "        7.03665033e+01, 7.03076797e+01, 7.02488562e+01, 7.01900327e+01,\n",
       "        7.01312092e+01, 7.00723856e+01, 7.00135621e+01, 6.99547386e+01,\n",
       "        6.98906629e+01, 6.97562092e+01, 6.96217554e+01, 6.94873016e+01,\n",
       "        6.93528478e+01, 6.92183940e+01, 6.90839402e+01, 6.89494865e+01,\n",
       "        6.88150327e+01, 6.86805789e+01, 6.85461251e+01, 6.84116713e+01,\n",
       "        6.82928805e+01, 7.53917465e+01, 0.00000000e+00, 0.00000000e+00,\n",
       "        0.00000000e+00, 1.36208210e-01, 0.00000000e+00, 5.45893370e-01,\n",
       "        5.93270264e+01, 2.80321479e-01, 0.00000000e+00, 0.00000000e+00,\n",
       "        0.00000000e+00, 0.00000000e+00, 0.00000000e+00, 0.00000000e+00,\n",
       "        3.55630666e-01, 5.85614920e-01, 0.00000000e+00, 0.00000000e+00,\n",
       "        0.00000000e+00, 0.00000000e+00, 0.00000000e+00, 0.00000000e+00,\n",
       "        1.44669488e-02, 6.05637789e-01, 3.47115099e-01, 3.76224637e-01]])"
      ]
     },
     "execution_count": 29,
     "metadata": {},
     "output_type": "execute_result"
    }
   ],
   "source": [
    "final_forecast"
   ]
  },
  {
   "cell_type": "code",
   "execution_count": 30,
   "metadata": {},
   "outputs": [
    {
     "data": {
      "text/plain": [
       "(1, 100)"
      ]
     },
     "execution_count": 30,
     "metadata": {},
     "output_type": "execute_result"
    }
   ],
   "source": [
    "final_forecast.shape"
   ]
  },
  {
   "cell_type": "code",
   "execution_count": 31,
   "metadata": {},
   "outputs": [
    {
     "data": {
      "text/plain": [
       "(100,)"
      ]
     },
     "execution_count": 31,
     "metadata": {},
     "output_type": "execute_result"
    }
   ],
   "source": [
    "test.shape"
   ]
  },
  {
   "cell_type": "code",
   "execution_count": 32,
   "metadata": {},
   "outputs": [],
   "source": [
    "training_set = np.array(training_set)\n",
    "test = np.array(test)\n",
    "final_forecast = np.array(final_forecast.squeeze(0))"
   ]
  },
  {
   "cell_type": "code",
   "execution_count": 33,
   "metadata": {},
   "outputs": [
    {
     "data": {
      "text/plain": [
       "array([61.34121148, 61.31460084, 61.2879902 , 61.26137955, 61.23476891,\n",
       "       61.20815826, 61.18154762, 61.15493697, 61.12832633, 61.10171569,\n",
       "       61.07510504, 61.0484944 , 61.02188375, 60.99527311, 60.96866246,\n",
       "       60.94205182, 60.91544118, 60.88883053, 60.86221989, 60.83560924,\n",
       "       60.8089986 , 60.78238796, 60.75577731, 60.72916667, 60.70255602,\n",
       "       60.67594538, 60.64933473, 60.62272409, 60.59611345, 60.5695028 ,\n",
       "       60.54289216, 60.51628151, 60.48967087, 60.46306022, 60.43644958,\n",
       "       60.40983894, 60.38322829, 60.35661765, 60.330007  , 60.30339636,\n",
       "       60.27678571, 60.25017507, 60.22356443, 60.19695378, 60.17034314,\n",
       "       60.14373249, 60.11712185, 60.0905112 , 60.06390056, 60.03728992,\n",
       "       60.01067927, 59.98406863, 59.95745798, 59.93084734, 59.90423669,\n",
       "       59.87762605, 59.85101541, 59.82440476, 59.79779412, 59.77118347,\n",
       "       59.74457283, 59.71796218, 59.69135154, 59.6647409 , 59.63813025,\n",
       "       59.61151961, 59.58490896, 59.55829832, 59.53168768, 59.50507703,\n",
       "       59.47846639, 59.45185574, 59.4252451 , 59.39863445, 59.37202381,\n",
       "       59.34541317, 59.31880252, 59.29219188, 59.26558123, 59.23897059,\n",
       "       59.21235994, 59.1857493 , 59.15913866, 59.13252801, 59.10591737,\n",
       "       59.07930672, 59.05269608, 59.02608543, 58.99947479, 58.97286415,\n",
       "       58.9462535 , 58.91964286, 58.89303221, 58.86642157, 58.83981092,\n",
       "       58.81320028, 58.78658964, 58.75997899, 58.73336835, 58.7067577 ])"
      ]
     },
     "execution_count": 33,
     "metadata": {},
     "output_type": "execute_result"
    }
   ],
   "source": [
    "test"
   ]
  },
  {
   "cell_type": "code",
   "execution_count": 34,
   "metadata": {},
   "outputs": [
    {
     "data": {
      "text/plain": [
       "(100,)"
      ]
     },
     "execution_count": 34,
     "metadata": {},
     "output_type": "execute_result"
    }
   ],
   "source": [
    "test.shape"
   ]
  },
  {
   "cell_type": "code",
   "execution_count": 35,
   "metadata": {},
   "outputs": [
    {
     "data": {
      "text/plain": [
       "(100,)"
      ]
     },
     "execution_count": 35,
     "metadata": {},
     "output_type": "execute_result"
    }
   ],
   "source": [
    "final_forecast.shape"
   ]
  },
  {
   "cell_type": "code",
   "execution_count": 36,
   "metadata": {},
   "outputs": [
    {
     "data": {
      "text/plain": [
       "(100,)"
      ]
     },
     "execution_count": 36,
     "metadata": {},
     "output_type": "execute_result"
    }
   ],
   "source": [
    "test.shape"
   ]
  },
  {
   "cell_type": "code",
   "execution_count": 37,
   "metadata": {},
   "outputs": [
    {
     "name": "stdout",
     "output_type": "stream",
     "text": [
      "37.36091371474162\n",
      "28.057945674386225\n"
     ]
    }
   ],
   "source": [
    "import math\n",
    "MSE = np.square(np.subtract(np.array(test),np.array(final_forecast))).mean()   \n",
    "rsme = math.sqrt(MSE)\n",
    "print(rsme)  \n",
    "MAE = np.abs(np.subtract(np.array(test),np.array(final_forecast))).mean()   \n",
    "mae = MAE\n",
    "print(mae)"
   ]
  }
 ],
 "metadata": {
  "colab": {
   "provenance": []
  },
  "kernelspec": {
   "display_name": "Python 3",
   "language": "python",
   "name": "python3"
  },
  "language_info": {
   "codemirror_mode": {
    "name": "ipython",
    "version": 3
   },
   "file_extension": ".py",
   "mimetype": "text/x-python",
   "name": "python",
   "nbconvert_exporter": "python",
   "pygments_lexer": "ipython3",
   "version": "3.9.13"
  }
 },
 "nbformat": 4,
 "nbformat_minor": 0
}
