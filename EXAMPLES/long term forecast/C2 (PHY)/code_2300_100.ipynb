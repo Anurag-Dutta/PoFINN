{
 "cells": [
  {
   "cell_type": "markdown",
   "metadata": {
    "id": "pCGKeZ2gyuoQ"
   },
   "source": [
    "_Importing Required Libraries_"
   ]
  },
  {
   "cell_type": "code",
   "execution_count": 1,
   "metadata": {
    "colab": {
     "base_uri": "https://localhost:8080/"
    },
    "id": "A-6LN-zXiLcM",
    "outputId": "4de610a4-f8b8-4f49-c6c0-89de299ccedc"
   },
   "outputs": [
    {
     "name": "stdout",
     "output_type": "stream",
     "text": [
      "Requirement already satisfied: hampel in c:\\users\\anurag dutta\\appdata\\local\\packages\\pythonsoftwarefoundation.python.3.9_qbz5n2kfra8p0\\localcache\\local-packages\\python39\\site-packages (0.0.5)\n",
      "Requirement already satisfied: numpy in c:\\users\\anurag dutta\\appdata\\local\\packages\\pythonsoftwarefoundation.python.3.9_qbz5n2kfra8p0\\localcache\\local-packages\\python39\\site-packages (from hampel) (1.26.4)\n",
      "Requirement already satisfied: pandas in c:\\users\\anurag dutta\\appdata\\local\\packages\\pythonsoftwarefoundation.python.3.9_qbz5n2kfra8p0\\localcache\\local-packages\\python39\\site-packages (from hampel) (1.5.2)\n",
      "Note: you may need to restart the kernel to use updated packages.\n"
     ]
    },
    {
     "name": "stderr",
     "output_type": "stream",
     "text": [
      "\n",
      "[notice] A new release of pip is available: 24.2 -> 24.3.1\n",
      "[notice] To update, run: C:\\Users\\Anurag Dutta\\AppData\\Local\\Microsoft\\WindowsApps\\PythonSoftwareFoundation.Python.3.9_qbz5n2kfra8p0\\python.exe -m pip install --upgrade pip\n"
     ]
    },
    {
     "name": "stdout",
     "output_type": "stream",
     "text": [
      "Requirement already satisfied: python-dateutil>=2.8.1 in c:\\users\\anurag dutta\\appdata\\local\\packages\\pythonsoftwarefoundation.python.3.9_qbz5n2kfra8p0\\localcache\\local-packages\\python39\\site-packages (from pandas->hampel) (2.8.2)\n",
      "Requirement already satisfied: pytz>=2020.1 in c:\\users\\anurag dutta\\appdata\\local\\packages\\pythonsoftwarefoundation.python.3.9_qbz5n2kfra8p0\\localcache\\local-packages\\python39\\site-packages (from pandas->hampel) (2023.3.post1)\n",
      "Requirement already satisfied: six>=1.5 in c:\\users\\anurag dutta\\appdata\\local\\packages\\pythonsoftwarefoundation.python.3.9_qbz5n2kfra8p0\\localcache\\local-packages\\python39\\site-packages (from python-dateutil>=2.8.1->pandas->hampel) (1.16.0)\n"
     ]
    }
   ],
   "source": [
    "pip install hampel"
   ]
  },
  {
   "cell_type": "code",
   "execution_count": 2,
   "metadata": {
    "id": "By_d9uXpaFvZ"
   },
   "outputs": [],
   "source": [
    "from keras.models import Sequential\n",
    "from keras.layers import Dense\n",
    "from keras.layers import LSTM\n",
    "from keras.layers import Dropout\n",
    "import keras\n",
    "import tensorflow as tf\n",
    "from hampel import hampel\n",
    "import numpy as np\n",
    "import matplotlib.pyplot as plt\n",
    "import pandas as pd\n",
    "from sklearn.preprocessing import MinMaxScaler\n",
    "from sklearn.metrics import mean_squared_error, mean_absolute_error\n",
    "from math import sqrt\n",
    "from matplotlib import pyplot\n",
    "from numpy import array"
   ]
  },
  {
   "cell_type": "markdown",
   "metadata": {
    "id": "JyOjBMFayuoR"
   },
   "source": [
    "## Pretraining"
   ]
  },
  {
   "cell_type": "markdown",
   "metadata": {
    "id": "-5QqIY_GyuoR"
   },
   "source": [
    "The `capa_intermittency.dat` feeds the model with the dynamics of the Capacitor"
   ]
  },
  {
   "cell_type": "code",
   "execution_count": 3,
   "metadata": {
    "id": "9dV4a8yfyuoR"
   },
   "outputs": [],
   "source": [
    "data = np.genfromtxt('capa_intermittency.dat')\n",
    "training_set = pd.DataFrame(data).reset_index(drop=True)\n",
    "training_set = training_set.iloc[:,0]"
   ]
  },
  {
   "cell_type": "markdown",
   "metadata": {
    "id": "i7easoxByuoR"
   },
   "source": [
    "## Computing the Gradient"
   ]
  },
  {
   "cell_type": "markdown",
   "metadata": {
    "id": "5SnyolJTyuoR"
   },
   "source": [
    "_Calculating the value of_ $\\frac{dx}{dt}$"
   ]
  },
  {
   "cell_type": "code",
   "execution_count": 4,
   "metadata": {
    "colab": {
     "base_uri": "https://localhost:8080/"
    },
    "id": "wmIbVfIvyuoR",
    "outputId": "aa4e3136-c854-465d-d2e9-81cfd546e440"
   },
   "outputs": [
    {
     "name": "stdout",
     "output_type": "stream",
     "text": [
      "1.0\n",
      "1        0.000298\n",
      "2        0.000298\n",
      "3        0.000297\n",
      "4        0.000297\n",
      "5        0.000297\n",
      "           ...   \n",
      "9996     0.000018\n",
      "9997     0.000018\n",
      "9998     0.000018\n",
      "9999     0.000018\n",
      "10000    0.000018\n",
      "Name: 0, Length: 10000, dtype: float64\n"
     ]
    }
   ],
   "source": [
    "t_diff = 1\n",
    "print(training_set.max())\n",
    "gradient_t = (training_set.diff()/t_diff).iloc[1:] # dx/dt\n",
    "print(gradient_t)"
   ]
  },
  {
   "cell_type": "markdown",
   "metadata": {
    "id": "_2eVeeoxyuoS"
   },
   "source": [
    "## Loading Datasets"
   ]
  },
  {
   "cell_type": "code",
   "execution_count": 5,
   "metadata": {
    "id": "0J-NKyIEyuoS"
   },
   "outputs": [
    {
     "data": {
      "text/plain": [
       "0       90.500000\n",
       "1       90.275910\n",
       "2       90.051821\n",
       "3       89.827731\n",
       "4       89.603641\n",
       "          ...    \n",
       "2395    53.720004\n",
       "2396    53.704427\n",
       "2397    53.688850\n",
       "2398    53.673273\n",
       "2399    53.657696\n",
       "Name: C2, Length: 2400, dtype: float64"
      ]
     },
     "execution_count": 5,
     "metadata": {},
     "output_type": "execute_result"
    }
   ],
   "source": [
    "data = pd.read_csv(\"c2_interpolated_2300_100.csv\")\n",
    "training_set = data.iloc[:, 1]\n",
    "training_set"
   ]
  },
  {
   "cell_type": "code",
   "execution_count": 6,
   "metadata": {
    "colab": {
     "base_uri": "https://localhost:8080/"
    },
    "id": "-CbNUhJ74UqF",
    "outputId": "20f562d8-8247-49cc-b9c3-00eca5e13e2d"
   },
   "outputs": [
    {
     "data": {
      "text/plain": [
       "0       90.500000\n",
       "1       90.275910\n",
       "2       90.051821\n",
       "3       89.827731\n",
       "4       89.603641\n",
       "          ...    \n",
       "2295     0.273064\n",
       "2296     0.000000\n",
       "2297     0.139488\n",
       "2298     0.000000\n",
       "2299     0.000000\n",
       "Name: C2, Length: 2300, dtype: float64"
      ]
     },
     "execution_count": 6,
     "metadata": {},
     "output_type": "execute_result"
    }
   ],
   "source": [
    "test = training_set.tail(100)\n",
    "test\n",
    "training_set = training_set.head(2300)\n",
    "training_set"
   ]
  },
  {
   "cell_type": "code",
   "execution_count": 7,
   "metadata": {
    "colab": {
     "base_uri": "https://localhost:8080/"
    },
    "id": "X0TwTcq0yuoS",
    "outputId": "37252ed8-d88e-4044-fa7a-922411990b5b"
   },
   "outputs": [
    {
     "name": "stdout",
     "output_type": "stream",
     "text": [
      "0       0.000298\n",
      "1       0.000298\n",
      "2       0.000297\n",
      "3       0.000297\n",
      "4       0.000297\n",
      "          ...   \n",
      "9995    0.000018\n",
      "9996    0.000018\n",
      "9997    0.000018\n",
      "9998    0.000018\n",
      "9999    0.000018\n",
      "Name: 0, Length: 10000, dtype: float64\n"
     ]
    }
   ],
   "source": [
    "training_set = training_set.reset_index(drop=True)\n",
    "gradient_t = gradient_t.reset_index(drop=True)\n",
    "print(gradient_t)"
   ]
  },
  {
   "cell_type": "code",
   "execution_count": 8,
   "metadata": {
    "id": "O2biznZQyuoS"
   },
   "outputs": [],
   "source": [
    "df = pd.concat((training_set, gradient_t), axis=1)\n",
    "df.columns = ['y_t', 'grad_t']"
   ]
  },
  {
   "cell_type": "code",
   "execution_count": 9,
   "metadata": {
    "colab": {
     "base_uri": "https://localhost:8080/",
     "height": 423
    },
    "id": "sk_a5v3tyuoS",
    "outputId": "17563625-e550-45ae-faab-fafa353e44da"
   },
   "outputs": [
    {
     "data": {
      "text/html": [
       "<div>\n",
       "<style scoped>\n",
       "    .dataframe tbody tr th:only-of-type {\n",
       "        vertical-align: middle;\n",
       "    }\n",
       "\n",
       "    .dataframe tbody tr th {\n",
       "        vertical-align: top;\n",
       "    }\n",
       "\n",
       "    .dataframe thead th {\n",
       "        text-align: right;\n",
       "    }\n",
       "</style>\n",
       "<table border=\"1\" class=\"dataframe\">\n",
       "  <thead>\n",
       "    <tr style=\"text-align: right;\">\n",
       "      <th></th>\n",
       "      <th>y_t</th>\n",
       "      <th>grad_t</th>\n",
       "    </tr>\n",
       "  </thead>\n",
       "  <tbody>\n",
       "    <tr>\n",
       "      <th>0</th>\n",
       "      <td>90.500000</td>\n",
       "      <td>0.000298</td>\n",
       "    </tr>\n",
       "    <tr>\n",
       "      <th>1</th>\n",
       "      <td>90.275910</td>\n",
       "      <td>0.000298</td>\n",
       "    </tr>\n",
       "    <tr>\n",
       "      <th>2</th>\n",
       "      <td>90.051821</td>\n",
       "      <td>0.000297</td>\n",
       "    </tr>\n",
       "    <tr>\n",
       "      <th>3</th>\n",
       "      <td>89.827731</td>\n",
       "      <td>0.000297</td>\n",
       "    </tr>\n",
       "    <tr>\n",
       "      <th>4</th>\n",
       "      <td>89.603641</td>\n",
       "      <td>0.000297</td>\n",
       "    </tr>\n",
       "    <tr>\n",
       "      <th>...</th>\n",
       "      <td>...</td>\n",
       "      <td>...</td>\n",
       "    </tr>\n",
       "    <tr>\n",
       "      <th>9995</th>\n",
       "      <td>NaN</td>\n",
       "      <td>0.000018</td>\n",
       "    </tr>\n",
       "    <tr>\n",
       "      <th>9996</th>\n",
       "      <td>NaN</td>\n",
       "      <td>0.000018</td>\n",
       "    </tr>\n",
       "    <tr>\n",
       "      <th>9997</th>\n",
       "      <td>NaN</td>\n",
       "      <td>0.000018</td>\n",
       "    </tr>\n",
       "    <tr>\n",
       "      <th>9998</th>\n",
       "      <td>NaN</td>\n",
       "      <td>0.000018</td>\n",
       "    </tr>\n",
       "    <tr>\n",
       "      <th>9999</th>\n",
       "      <td>NaN</td>\n",
       "      <td>0.000018</td>\n",
       "    </tr>\n",
       "  </tbody>\n",
       "</table>\n",
       "<p>10000 rows × 2 columns</p>\n",
       "</div>"
      ],
      "text/plain": [
       "            y_t    grad_t\n",
       "0     90.500000  0.000298\n",
       "1     90.275910  0.000298\n",
       "2     90.051821  0.000297\n",
       "3     89.827731  0.000297\n",
       "4     89.603641  0.000297\n",
       "...         ...       ...\n",
       "9995        NaN  0.000018\n",
       "9996        NaN  0.000018\n",
       "9997        NaN  0.000018\n",
       "9998        NaN  0.000018\n",
       "9999        NaN  0.000018\n",
       "\n",
       "[10000 rows x 2 columns]"
      ]
     },
     "execution_count": 9,
     "metadata": {},
     "output_type": "execute_result"
    }
   ],
   "source": [
    "df"
   ]
  },
  {
   "cell_type": "markdown",
   "metadata": {
    "id": "-5esyHu5aFvg"
   },
   "source": [
    "## Plot of the External Forcing from Chaotic Differential Equation"
   ]
  },
  {
   "cell_type": "code",
   "execution_count": 10,
   "metadata": {
    "colab": {
     "base_uri": "https://localhost:8080/",
     "height": 447
    },
    "id": "hGnE43tOh-4p",
    "outputId": "fc396503-b624-4fa5-dfbe-f460207405c6"
   },
   "outputs": [
    {
     "data": {
      "text/plain": [
       "<Axes: >"
      ]
     },
     "execution_count": 10,
     "metadata": {},
     "output_type": "execute_result"
    },
    {
     "data": {
      "image/png": "[encoded data removed]",
      "text/plain": [
       "<Figure size 432x288 with 1 Axes>"
      ]
     },
     "metadata": {
      "needs_background": "light"
     },
     "output_type": "display_data"
    }
   ],
   "source": [
    "df.iloc[:, 0].plot()"
   ]
  },
  {
   "cell_type": "code",
   "execution_count": 11,
   "metadata": {
    "colab": {
     "base_uri": "https://localhost:8080/",
     "height": 447
    },
    "id": "ym4xWUUxaFvg",
    "outputId": "ae6a3495-8ce9-437e-ba81-3ed31deedeae"
   },
   "outputs": [
    {
     "name": "stderr",
     "output_type": "stream",
     "text": [
      "C:\\Users\\Anurag Dutta\\AppData\\Local\\Packages\\PythonSoftwareFoundation.Python.3.9_qbz5n2kfra8p0\\LocalCache\\local-packages\\Python39\\site-packages\\pandas\\core\\arraylike.py:402: RuntimeWarning: divide by zero encountered in log\n",
      "  result = getattr(ufunc, method)(*inputs, **kwargs)\n"
     ]
    },
    {
     "data": {
      "text/plain": [
       "<Axes: >"
      ]
     },
     "execution_count": 11,
     "metadata": {},
     "output_type": "execute_result"
    },
    {
     "data": {
      "image/png": "[encoded data removed]",
      "text/plain": [
       "<Figure size 432x288 with 1 Axes>"
      ]
     },
     "metadata": {
      "needs_background": "light"
     },
     "output_type": "display_data"
    }
   ],
   "source": [
    "import numpy as np\n",
    "c0 = 88.1552  # Value for C0\n",
    "K0 = -0.0026  # Value for K0\n",
    "K1 = -0.0004  # Value for K1\n",
    "a = 0.0000    # Value for a\n",
    "b = 0.0102    # Value for b\n",
    "c = 2.8734    # Value for c\n",
    "\n",
    "L = np.minimum(c0, (df.iloc[:, 1] - (df.iloc[:, 0] * (K0 - K1 * (9 * a * np.log(df.iloc[:, 0] / c0) / (K0 - K1 * c)**2 + 4 * b * np.log(df.iloc[:, 0] / c0) / (K0 - K1 * c) + c)))))\n",
    "L.plot()"
   ]
  },
  {
   "cell_type": "markdown",
   "metadata": {
    "id": "9VyEywnwaFvh"
   },
   "source": [
    "## Preprocessing the data into supervised learning"
   ]
  },
  {
   "cell_type": "code",
   "execution_count": 12,
   "metadata": {
    "id": "6V9dXqzdaFvh"
   },
   "outputs": [],
   "source": [
    "# split a sequence into samples\n",
    "def Supervised(data, n_in=1, n_out=1, dropnan=True):\n",
    "    n_vars = 1 if type(data) is list else data.shape[1]\n",
    "    df = pd.DataFrame(data)\n",
    "    cols, names = list(), list()\n",
    "    # input sequence (t-n_in, ... t-1)\n",
    "    for i in range(n_in, 0, -1):\n",
    "        cols.append(df.shift(i))\n",
    "        names += [('var%d(t-%d)' % (j+1, i)) for j in range(n_vars)]\n",
    "    # forecast sequence (t, t+1, ... t+n_out)\n",
    "    for i in range(0, n_out):\n",
    "      cols.append(df.shift(-i))\n",
    "      if i == 0:\n",
    "        names += [('var%d(t)' % (j+1)) for j in range(n_vars)]\n",
    "      else:\n",
    "        names += [('var%d(t+%d)' % (j+1, i)) for j in range(n_vars)]\n",
    "    # put it all together\n",
    "    agg = pd.concat(cols, axis=1)\n",
    "    agg.columns = names\n",
    "    # drop rows with NaN values\n",
    "    if dropnan:\n",
    "       agg.dropna(inplace=True)\n",
    "    return agg"
   ]
  },
  {
   "cell_type": "code",
   "execution_count": 13,
   "metadata": {
    "colab": {
     "base_uri": "https://localhost:8080/"
    },
    "id": "CrzSrT1HnyfH",
    "outputId": "7e75f928-3e47-499d-eac1-51908015ef78"
   },
   "outputs": [
    {
     "name": "stdout",
     "output_type": "stream",
     "text": [
      "     var1(t-350)  var1(t-349)  var1(t-348)  var1(t-347)  var1(t-346)  \\\n",
      "350    90.500000    90.275910    90.051821    89.827731    89.603641   \n",
      "351    90.275910    90.051821    89.827731    89.603641    89.379552   \n",
      "352    90.051821    89.827731    89.603641    89.379552    89.155462   \n",
      "353    89.827731    89.603641    89.379552    89.155462    88.931373   \n",
      "354    89.603641    89.379552    89.155462    88.931373    88.707283   \n",
      "\n",
      "     var1(t-345)  var1(t-344)  var1(t-343)  var1(t-342)  var1(t-341)  ...  \\\n",
      "350    89.379552    89.155462    88.931373    88.707283    88.494958  ...   \n",
      "351    89.155462    88.931373    88.707283    88.494958    88.427731  ...   \n",
      "352    88.931373    88.707283    88.494958    88.427731    88.360504  ...   \n",
      "353    88.707283    88.494958    88.427731    88.360504    88.293277  ...   \n",
      "354    88.494958    88.427731    88.360504    88.293277    88.226050  ...   \n",
      "\n",
      "     var1(t+95)  var2(t+95)  var1(t+96)  var2(t+96)  var1(t+97)  var2(t+97)  \\\n",
      "350   79.071008    0.000263   79.054202    0.000263   79.037395    0.000263   \n",
      "351   79.054202    0.000263   79.037395    0.000263   79.020588    0.000262   \n",
      "352   79.037395    0.000263   79.020588    0.000262   79.003782    0.000262   \n",
      "353   79.020588    0.000262   79.003782    0.000262   78.986975    0.000262   \n",
      "354   79.003782    0.000262   78.986975    0.000262   78.970168    0.000262   \n",
      "\n",
      "     var1(t+98)  var2(t+98)  var1(t+99)  var2(t+99)  \n",
      "350   79.020588    0.000262   79.003782    0.000262  \n",
      "351   79.003782    0.000262   78.986975    0.000262  \n",
      "352   78.986975    0.000262   78.970168    0.000262  \n",
      "353   78.970168    0.000262   78.953361    0.000262  \n",
      "354   78.953361    0.000262   78.936555    0.000262  \n",
      "\n",
      "[5 rows x 551 columns]\n",
      "Index(['var1(t-350)', 'var1(t-349)', 'var1(t-348)', 'var1(t-347)',\n",
      "       'var1(t-346)', 'var1(t-345)', 'var1(t-344)', 'var1(t-343)',\n",
      "       'var1(t-342)', 'var1(t-341)',\n",
      "       ...\n",
      "       'var1(t+95)', 'var2(t+95)', 'var1(t+96)', 'var2(t+96)', 'var1(t+97)',\n",
      "       'var2(t+97)', 'var1(t+98)', 'var2(t+98)', 'var1(t+99)', 'var2(t+99)'],\n",
      "      dtype='object', length=551)\n"
     ]
    }
   ],
   "source": [
    "data = Supervised(df.values, n_in = 350, n_out = 100)\n",
    "\n",
    "\n",
    "cols_to_drop = []\n",
    "for i in range(2, 351):\n",
    "    cols_to_drop.extend([f'var2(t-{i})'])\n",
    "\n",
    "data.drop(cols_to_drop, axis=1, inplace=True)\n",
    "\n",
    "print(data.head())\n",
    "print(data.columns)"
   ]
  },
  {
   "cell_type": "code",
   "execution_count": 14,
   "metadata": {
    "id": "AfPf60oy6Pe4"
   },
   "outputs": [],
   "source": [
    "train = np.array(data[0:len(data)-1])\n",
    "forecast = np.array(data.tail(1))"
   ]
  },
  {
   "cell_type": "code",
   "execution_count": 15,
   "metadata": {
    "id": "WSAafzI37KiT"
   },
   "outputs": [],
   "source": [
    "trainy = train[:,-300:]\n",
    "trainX = train[:,:-300]"
   ]
  },
  {
   "cell_type": "code",
   "execution_count": 16,
   "metadata": {
    "id": "2SrOqVJA7f50"
   },
   "outputs": [],
   "source": [
    "forecasty = forecast[:,-300:]\n",
    "forecastX = forecast[:,:-300]"
   ]
  },
  {
   "cell_type": "code",
   "execution_count": 17,
   "metadata": {
    "colab": {
     "base_uri": "https://localhost:8080/"
    },
    "id": "Qno_k8Nw7saY",
    "outputId": "c4a88db5-d8c6-489f-cdb2-06b24e293cff"
   },
   "outputs": [
    {
     "name": "stdout",
     "output_type": "stream",
     "text": [
      "(1850, 1, 251) (1850, 300) (1, 1, 251)\n"
     ]
    }
   ],
   "source": [
    "trainX = trainX.reshape((trainX.shape[0], 1, trainX.shape[1]))\n",
    "forecastX = forecastX.reshape((forecastX.shape[0], 1, forecastX.shape[1]))\n",
    "print(trainX.shape, trainy.shape, forecastX.shape)"
   ]
  },
  {
   "cell_type": "code",
   "execution_count": 18,
   "metadata": {
    "colab": {
     "base_uri": "https://localhost:8080/"
    },
    "id": "b1Jp2DvNuNFx",
    "outputId": "d0e5b3c4-64f1-438c-eade-8dfeaac8e285"
   },
   "outputs": [
    {
     "name": "stdout",
     "output_type": "stream",
     "text": [
      "Epoch 1/500\n",
      "24/24 [==============================] - 2s 20ms/step - loss: 5107.8657 - val_loss: 3037.5212\n",
      "Epoch 2/500\n",
      "24/24 [==============================] - 0s 4ms/step - loss: 4868.8682 - val_loss: 2900.9631\n",
      "Epoch 3/500\n",
      "24/24 [==============================] - 0s 4ms/step - loss: 4729.5566 - val_loss: 2826.4521\n",
      "Epoch 4/500\n",
      "24/24 [==============================] - 0s 5ms/step - loss: 4629.5698 - val_loss: 2767.0540\n",
      "Epoch 5/500\n",
      "24/24 [==============================] - 0s 5ms/step - loss: 4534.5981 - val_loss: 2709.2195\n",
      "Epoch 6/500\n",
      "24/24 [==============================] - 0s 5ms/step - loss: 4442.7754 - val_loss: 2655.1995\n",
      "Epoch 7/500\n",
      "24/24 [==============================] - 0s 9ms/step - loss: 4353.3413 - val_loss: 2601.8708\n",
      "Epoch 8/500\n",
      "24/24 [==============================] - 0s 5ms/step - loss: 4265.9126 - val_loss: 2549.9871\n",
      "Epoch 9/500\n",
      "24/24 [==============================] - 0s 5ms/step - loss: 4180.2666 - val_loss: 2499.4202\n",
      "Epoch 10/500\n",
      "24/24 [==============================] - 0s 3ms/step - loss: 4096.2617 - val_loss: 2450.1008\n",
      "Epoch 11/500\n",
      "24/24 [==============================] - 0s 3ms/step - loss: 4013.7983 - val_loss: 2401.9712\n",
      "Epoch 12/500\n",
      "24/24 [==============================] - 0s 3ms/step - loss: 3932.8071 - val_loss: 2355.5042\n",
      "Epoch 13/500\n",
      "24/24 [==============================] - 0s 5ms/step - loss: 3853.2290 - val_loss: 2309.1487\n",
      "Epoch 14/500\n",
      "24/24 [==============================] - 0s 4ms/step - loss: 3775.0210 - val_loss: 2264.3682\n",
      "Epoch 15/500\n",
      "24/24 [==============================] - 0s 4ms/step - loss: 3698.1445 - val_loss: 2220.6438\n",
      "Epoch 16/500\n",
      "24/24 [==============================] - 0s 3ms/step - loss: 3622.5684 - val_loss: 2177.9534\n",
      "Epoch 17/500\n",
      "24/24 [==============================] - 0s 3ms/step - loss: 3548.2634 - val_loss: 2136.2761\n",
      "Epoch 18/500\n",
      "24/24 [==============================] - 0s 3ms/step - loss: 3475.2036 - val_loss: 2095.5935\n",
      "Epoch 19/500\n",
      "24/24 [==============================] - 0s 4ms/step - loss: 3403.3677 - val_loss: 2055.8872\n",
      "Epoch 20/500\n",
      "24/24 [==============================] - 0s 4ms/step - loss: 3332.7341 - val_loss: 2017.1409\n",
      "Epoch 21/500\n",
      "24/24 [==============================] - 0s 3ms/step - loss: 3263.2832 - val_loss: 1979.3385\n",
      "Epoch 22/500\n",
      "24/24 [==============================] - 0s 3ms/step - loss: 3194.9954 - val_loss: 1942.4648\n",
      "Epoch 23/500\n",
      "24/24 [==============================] - 0s 4ms/step - loss: 3127.8533 - val_loss: 1906.5065\n",
      "Epoch 24/500\n",
      "24/24 [==============================] - 0s 7ms/step - loss: 3061.8408 - val_loss: 1871.4486\n",
      "Epoch 25/500\n",
      "24/24 [==============================] - 0s 4ms/step - loss: 2996.9421 - val_loss: 1837.2799\n",
      "Epoch 26/500\n",
      "24/24 [==============================] - 0s 4ms/step - loss: 2933.1411 - val_loss: 1804.0017\n",
      "Epoch 27/500\n",
      "24/24 [==============================] - 0s 5ms/step - loss: 2870.4229 - val_loss: 1768.9678\n",
      "Epoch 28/500\n",
      "24/24 [==============================] - 0s 6ms/step - loss: 2791.7202 - val_loss: 1728.5885\n",
      "Epoch 29/500\n",
      "24/24 [==============================] - 0s 5ms/step - loss: 2724.1196 - val_loss: 1694.7693\n",
      "Epoch 30/500\n",
      "24/24 [==============================] - 0s 4ms/step - loss: 2659.2437 - val_loss: 1662.6022\n",
      "Epoch 31/500\n",
      "24/24 [==============================] - 0s 3ms/step - loss: 2596.5774 - val_loss: 1631.7567\n",
      "Epoch 32/500\n",
      "24/24 [==============================] - 0s 4ms/step - loss: 2535.6724 - val_loss: 1602.0594\n",
      "Epoch 33/500\n",
      "24/24 [==============================] - 0s 4ms/step - loss: 2476.2903 - val_loss: 1573.4111\n",
      "Epoch 34/500\n",
      "24/24 [==============================] - 0s 3ms/step - loss: 2418.2910 - val_loss: 1545.7449\n",
      "Epoch 35/500\n",
      "24/24 [==============================] - 0s 4ms/step - loss: 2361.5813 - val_loss: 1519.0138\n",
      "Epoch 36/500\n",
      "24/24 [==============================] - 0s 4ms/step - loss: 2306.0940 - val_loss: 1493.1805\n",
      "Epoch 37/500\n",
      "24/24 [==============================] - 0s 4ms/step - loss: 2251.7771 - val_loss: 1468.2140\n",
      "Epoch 38/500\n",
      "24/24 [==============================] - 0s 4ms/step - loss: 2198.5891 - val_loss: 1444.0894\n",
      "Epoch 39/500\n",
      "24/24 [==============================] - 0s 4ms/step - loss: 2146.4949 - val_loss: 1420.7830\n",
      "Epoch 40/500\n",
      "24/24 [==============================] - 0s 3ms/step - loss: 2095.4651 - val_loss: 1398.2749\n",
      "Epoch 41/500\n",
      "24/24 [==============================] - 0s 3ms/step - loss: 2045.4723 - val_loss: 1376.5465\n",
      "Epoch 42/500\n",
      "24/24 [==============================] - 0s 4ms/step - loss: 1996.4939 - val_loss: 1355.5806\n",
      "Epoch 43/500\n",
      "24/24 [==============================] - 0s 4ms/step - loss: 1948.5081 - val_loss: 1335.3608\n",
      "Epoch 44/500\n",
      "24/24 [==============================] - 0s 4ms/step - loss: 1901.4946 - val_loss: 1315.8715\n",
      "Epoch 45/500\n",
      "24/24 [==============================] - 0s 4ms/step - loss: 1855.4341 - val_loss: 1297.1012\n",
      "Epoch 46/500\n",
      "24/24 [==============================] - 0s 4ms/step - loss: 1810.3060 - val_loss: 1278.8184\n",
      "Epoch 47/500\n",
      "24/24 [==============================] - 0s 5ms/step - loss: 1762.9662 - val_loss: 1259.3219\n",
      "Epoch 48/500\n",
      "24/24 [==============================] - 0s 3ms/step - loss: 1715.0443 - val_loss: 1240.8999\n",
      "Epoch 49/500\n",
      "24/24 [==============================] - 0s 4ms/step - loss: 1668.5023 - val_loss: 1223.4845\n",
      "Epoch 50/500\n",
      "24/24 [==============================] - 0s 4ms/step - loss: 1623.5558 - val_loss: 1207.1460\n",
      "Epoch 51/500\n",
      "24/24 [==============================] - 0s 4ms/step - loss: 1580.0032 - val_loss: 1191.5575\n",
      "Epoch 52/500\n",
      "24/24 [==============================] - 0s 4ms/step - loss: 1537.7054 - val_loss: 1176.7677\n",
      "Epoch 53/500\n",
      "24/24 [==============================] - 0s 6ms/step - loss: 1496.5659 - val_loss: 1162.7351\n",
      "Epoch 54/500\n",
      "24/24 [==============================] - 0s 4ms/step - loss: 1456.5157 - val_loss: 1149.4257\n",
      "Epoch 55/500\n",
      "24/24 [==============================] - 0s 4ms/step - loss: 1417.5012 - val_loss: 1136.8124\n",
      "Epoch 56/500\n",
      "24/24 [==============================] - 0s 4ms/step - loss: 1379.4790 - val_loss: 1124.8707\n",
      "Epoch 57/500\n",
      "24/24 [==============================] - 0s 3ms/step - loss: 1342.4121 - val_loss: 1113.5795\n",
      "Epoch 58/500\n",
      "24/24 [==============================] - 0s 3ms/step - loss: 1306.2700 - val_loss: 1102.9189\n",
      "Epoch 59/500\n",
      "24/24 [==============================] - 0s 3ms/step - loss: 1271.0247 - val_loss: 1092.8713\n",
      "Epoch 60/500\n",
      "24/24 [==============================] - 0s 8ms/step - loss: 1236.6515 - val_loss: 1083.4197\n",
      "Epoch 61/500\n",
      "24/24 [==============================] - 0s 3ms/step - loss: 1203.1278 - val_loss: 1074.5481\n",
      "Epoch 62/500\n",
      "24/24 [==============================] - 0s 3ms/step - loss: 1170.4329 - val_loss: 1066.2419\n",
      "Epoch 63/500\n",
      "24/24 [==============================] - 0s 3ms/step - loss: 1138.5474 - val_loss: 1058.4865\n",
      "Epoch 64/500\n",
      "24/24 [==============================] - 0s 4ms/step - loss: 1107.4532 - val_loss: 1051.2679\n",
      "Epoch 65/500\n",
      "24/24 [==============================] - 0s 4ms/step - loss: 1077.1327 - val_loss: 1044.5726\n",
      "Epoch 66/500\n",
      "24/24 [==============================] - 0s 4ms/step - loss: 1047.5703 - val_loss: 1038.3877\n",
      "Epoch 67/500\n",
      "24/24 [==============================] - 0s 4ms/step - loss: 1018.7498 - val_loss: 1032.7006\n",
      "Epoch 68/500\n",
      "24/24 [==============================] - 0s 5ms/step - loss: 990.6562 - val_loss: 1027.4988\n",
      "Epoch 69/500\n",
      "24/24 [==============================] - 0s 4ms/step - loss: 963.2755 - val_loss: 1022.7702\n",
      "Epoch 70/500\n",
      "24/24 [==============================] - 0s 5ms/step - loss: 936.5930 - val_loss: 1018.5032\n",
      "Epoch 71/500\n",
      "24/24 [==============================] - 0s 4ms/step - loss: 910.5955 - val_loss: 1014.6857\n",
      "Epoch 72/500\n",
      "24/24 [==============================] - 0s 4ms/step - loss: 885.2698 - val_loss: 1011.3065\n",
      "Epoch 73/500\n",
      "24/24 [==============================] - 0s 4ms/step - loss: 860.6030 - val_loss: 1008.3544\n",
      "Epoch 74/500\n",
      "24/24 [==============================] - 0s 4ms/step - loss: 836.5827 - val_loss: 1005.8182\n",
      "Epoch 75/500\n",
      "24/24 [==============================] - 0s 3ms/step - loss: 813.1963 - val_loss: 1003.6870\n",
      "Epoch 76/500\n",
      "24/24 [==============================] - 0s 3ms/step - loss: 790.4318 - val_loss: 1001.9500\n",
      "Epoch 77/500\n",
      "24/24 [==============================] - 0s 4ms/step - loss: 768.2778 - val_loss: 1000.5966\n",
      "Epoch 78/500\n",
      "24/24 [==============================] - 0s 3ms/step - loss: 746.7223 - val_loss: 999.6163\n",
      "Epoch 79/500\n",
      "24/24 [==============================] - 0s 3ms/step - loss: 725.7540 - val_loss: 998.9987\n",
      "Epoch 80/500\n",
      "24/24 [==============================] - 0s 4ms/step - loss: 705.3617 - val_loss: 998.7332\n",
      "Epoch 81/500\n",
      "24/24 [==============================] - 0s 4ms/step - loss: 685.5346 - val_loss: 998.8099\n",
      "Epoch 82/500\n",
      "24/24 [==============================] - 0s 4ms/step - loss: 666.2616 - val_loss: 999.2188\n",
      "Epoch 83/500\n",
      "24/24 [==============================] - 0s 3ms/step - loss: 647.5318 - val_loss: 999.9499\n",
      "Epoch 84/500\n",
      "24/24 [==============================] - 0s 4ms/step - loss: 629.3351 - val_loss: 1000.9932\n",
      "Epoch 85/500\n",
      "24/24 [==============================] - 0s 4ms/step - loss: 611.6609 - val_loss: 1002.3391\n",
      "Epoch 86/500\n",
      "24/24 [==============================] - 0s 4ms/step - loss: 594.4988 - val_loss: 1003.9775\n",
      "Epoch 87/500\n",
      "24/24 [==============================] - 0s 4ms/step - loss: 577.8386 - val_loss: 1005.8994\n",
      "Epoch 88/500\n",
      "24/24 [==============================] - 0s 5ms/step - loss: 561.6703 - val_loss: 1008.0948\n",
      "Epoch 89/500\n",
      "24/24 [==============================] - 0s 4ms/step - loss: 545.9843 - val_loss: 1010.5544\n",
      "Epoch 90/500\n",
      "24/24 [==============================] - 0s 5ms/step - loss: 530.7703 - val_loss: 1013.2693\n",
      "Epoch 91/500\n",
      "24/24 [==============================] - 0s 5ms/step - loss: 516.0189 - val_loss: 1016.2297\n",
      "Epoch 92/500\n",
      "24/24 [==============================] - 0s 5ms/step - loss: 501.7204 - val_loss: 1019.4265\n",
      "Epoch 93/500\n",
      "24/24 [==============================] - 0s 5ms/step - loss: 487.8654 - val_loss: 1022.8510\n",
      "Epoch 94/500\n",
      "24/24 [==============================] - 0s 5ms/step - loss: 474.4441 - val_loss: 1026.4939\n",
      "Epoch 95/500\n",
      "24/24 [==============================] - 0s 9ms/step - loss: 461.4476 - val_loss: 1030.3467\n",
      "Epoch 96/500\n",
      "24/24 [==============================] - 0s 4ms/step - loss: 448.8667 - val_loss: 1034.4001\n",
      "Epoch 97/500\n",
      "24/24 [==============================] - 0s 4ms/step - loss: 436.6922 - val_loss: 1038.6458\n",
      "Epoch 98/500\n",
      "24/24 [==============================] - 0s 5ms/step - loss: 424.9151 - val_loss: 1043.0748\n",
      "Epoch 99/500\n",
      "24/24 [==============================] - 0s 5ms/step - loss: 413.5265 - val_loss: 1047.6788\n",
      "Epoch 100/500\n",
      "24/24 [==============================] - 0s 4ms/step - loss: 402.5174 - val_loss: 1052.4495\n",
      "Epoch 101/500\n",
      "24/24 [==============================] - 0s 6ms/step - loss: 391.8792 - val_loss: 1057.3782\n",
      "Epoch 102/500\n",
      "24/24 [==============================] - 0s 5ms/step - loss: 381.6034 - val_loss: 1062.4569\n",
      "Epoch 103/500\n",
      "24/24 [==============================] - 0s 4ms/step - loss: 371.6812 - val_loss: 1067.6774\n",
      "Epoch 104/500\n",
      "24/24 [==============================] - 0s 4ms/step - loss: 362.1045 - val_loss: 1073.0316\n",
      "Epoch 105/500\n",
      "24/24 [==============================] - 0s 4ms/step - loss: 352.8647 - val_loss: 1078.5115\n",
      "Epoch 106/500\n",
      "24/24 [==============================] - 0s 4ms/step - loss: 343.9533 - val_loss: 1084.1095\n",
      "Epoch 107/500\n",
      "24/24 [==============================] - 0s 4ms/step - loss: 335.3625 - val_loss: 1089.8173\n",
      "Epoch 108/500\n",
      "24/24 [==============================] - 0s 4ms/step - loss: 327.0842 - val_loss: 1095.6279\n",
      "Epoch 109/500\n",
      "24/24 [==============================] - 0s 4ms/step - loss: 319.1102 - val_loss: 1101.5334\n",
      "Epoch 110/500\n",
      "24/24 [==============================] - 0s 4ms/step - loss: 311.4326 - val_loss: 1107.5265\n",
      "Epoch 111/500\n",
      "24/24 [==============================] - 0s 4ms/step - loss: 304.0437 - val_loss: 1113.5997\n",
      "Epoch 112/500\n",
      "24/24 [==============================] - 0s 3ms/step - loss: 296.9358 - val_loss: 1119.7461\n",
      "Epoch 113/500\n",
      "24/24 [==============================] - 0s 4ms/step - loss: 290.1013 - val_loss: 1125.9584\n",
      "Epoch 114/500\n",
      "24/24 [==============================] - 0s 5ms/step - loss: 283.5326 - val_loss: 1132.2296\n",
      "Epoch 115/500\n",
      "24/24 [==============================] - 0s 3ms/step - loss: 277.2225 - val_loss: 1138.5531\n",
      "Epoch 116/500\n",
      "24/24 [==============================] - 0s 5ms/step - loss: 271.1633 - val_loss: 1144.9220\n",
      "Epoch 117/500\n",
      "24/24 [==============================] - 0s 5ms/step - loss: 265.3481 - val_loss: 1151.3298\n",
      "Epoch 118/500\n",
      "24/24 [==============================] - 0s 3ms/step - loss: 259.7697 - val_loss: 1157.7703\n",
      "Epoch 119/500\n",
      "24/24 [==============================] - 0s 4ms/step - loss: 254.4212 - val_loss: 1164.2365\n",
      "Epoch 120/500\n",
      "24/24 [==============================] - 0s 4ms/step - loss: 249.2955 - val_loss: 1170.7222\n",
      "Epoch 121/500\n",
      "24/24 [==============================] - 0s 4ms/step - loss: 244.3861 - val_loss: 1177.2220\n",
      "Epoch 122/500\n",
      "24/24 [==============================] - 0s 4ms/step - loss: 239.6858 - val_loss: 1183.7297\n",
      "Epoch 123/500\n",
      "24/24 [==============================] - 0s 4ms/step - loss: 235.1885 - val_loss: 1190.2395\n",
      "Epoch 124/500\n",
      "24/24 [==============================] - 0s 4ms/step - loss: 230.8875 - val_loss: 1196.7460\n",
      "Epoch 125/500\n",
      "24/24 [==============================] - 0s 4ms/step - loss: 226.7766 - val_loss: 1203.2433\n",
      "Epoch 126/500\n",
      "24/24 [==============================] - 0s 8ms/step - loss: 222.8493 - val_loss: 1209.7264\n",
      "Epoch 127/500\n",
      "24/24 [==============================] - 0s 4ms/step - loss: 219.0996 - val_loss: 1216.1898\n",
      "Epoch 128/500\n",
      "24/24 [==============================] - 0s 4ms/step - loss: 215.5214 - val_loss: 1222.6288\n",
      "Epoch 129/500\n",
      "24/24 [==============================] - 0s 4ms/step - loss: 212.1088 - val_loss: 1229.0382\n",
      "Epoch 130/500\n",
      "24/24 [==============================] - 0s 4ms/step - loss: 208.8560 - val_loss: 1235.4138\n",
      "Epoch 131/500\n",
      "24/24 [==============================] - 0s 4ms/step - loss: 205.7573 - val_loss: 1241.7505\n",
      "Epoch 132/500\n",
      "24/24 [==============================] - 0s 4ms/step - loss: 202.8073 - val_loss: 1248.0441\n",
      "Epoch 133/500\n",
      "24/24 [==============================] - 0s 4ms/step - loss: 200.0002 - val_loss: 1254.2906\n",
      "Epoch 134/500\n",
      "24/24 [==============================] - 0s 4ms/step - loss: 197.3308 - val_loss: 1260.4855\n",
      "Epoch 135/500\n",
      "24/24 [==============================] - 0s 4ms/step - loss: 194.7940 - val_loss: 1266.6255\n",
      "Epoch 136/500\n",
      "24/24 [==============================] - 0s 4ms/step - loss: 192.3845 - val_loss: 1272.7059\n",
      "Epoch 137/500\n",
      "24/24 [==============================] - 0s 4ms/step - loss: 190.0976 - val_loss: 1278.7244\n",
      "Epoch 138/500\n",
      "24/24 [==============================] - 0s 4ms/step - loss: 187.9282 - val_loss: 1284.6765\n",
      "Epoch 139/500\n",
      "24/24 [==============================] - 0s 4ms/step - loss: 185.8715 - val_loss: 1290.5594\n",
      "Epoch 140/500\n",
      "24/24 [==============================] - 0s 4ms/step - loss: 183.9231 - val_loss: 1296.3698\n",
      "Epoch 141/500\n",
      "24/24 [==============================] - 0s 4ms/step - loss: 182.0785 - val_loss: 1302.1050\n",
      "Epoch 142/500\n",
      "24/24 [==============================] - 0s 4ms/step - loss: 180.3331 - val_loss: 1307.7617\n",
      "Epoch 143/500\n",
      "24/24 [==============================] - 0s 3ms/step - loss: 178.6829 - val_loss: 1313.3381\n",
      "Epoch 144/500\n",
      "24/24 [==============================] - 0s 3ms/step - loss: 177.1235 - val_loss: 1318.8311\n",
      "Epoch 145/500\n",
      "24/24 [==============================] - 0s 4ms/step - loss: 175.6512 - val_loss: 1324.2389\n",
      "Epoch 146/500\n",
      "24/24 [==============================] - 0s 4ms/step - loss: 174.2617 - val_loss: 1329.5596\n",
      "Epoch 147/500\n",
      "24/24 [==============================] - 0s 4ms/step - loss: 172.9515 - val_loss: 1334.7910\n",
      "Epoch 148/500\n",
      "24/24 [==============================] - 0s 3ms/step - loss: 171.7168 - val_loss: 1339.9310\n",
      "Epoch 149/500\n",
      "24/24 [==============================] - 0s 3ms/step - loss: 170.5541 - val_loss: 1344.9788\n",
      "Epoch 150/500\n",
      "24/24 [==============================] - 0s 3ms/step - loss: 169.4600 - val_loss: 1349.9321\n",
      "Epoch 151/500\n",
      "24/24 [==============================] - 0s 4ms/step - loss: 168.4311 - val_loss: 1354.7897\n",
      "Epoch 152/500\n",
      "24/24 [==============================] - 0s 4ms/step - loss: 167.4643 - val_loss: 1359.5515\n",
      "Epoch 153/500\n",
      "24/24 [==============================] - 0s 6ms/step - loss: 166.5563 - val_loss: 1364.2156\n",
      "Epoch 154/500\n",
      "24/24 [==============================] - 0s 6ms/step - loss: 165.7043 - val_loss: 1368.7806\n",
      "Epoch 155/500\n",
      "24/24 [==============================] - 0s 4ms/step - loss: 164.9054 - val_loss: 1373.2478\n",
      "Epoch 156/500\n",
      "24/24 [==============================] - 0s 3ms/step - loss: 164.1568 - val_loss: 1377.6149\n",
      "Epoch 157/500\n",
      "24/24 [==============================] - 0s 3ms/step - loss: 163.4559 - val_loss: 1381.8818\n",
      "Epoch 158/500\n",
      "24/24 [==============================] - 0s 3ms/step - loss: 162.8000 - val_loss: 1386.0492\n",
      "Epoch 159/500\n",
      "24/24 [==============================] - 0s 4ms/step - loss: 162.1867 - val_loss: 1390.1155\n",
      "Epoch 160/500\n",
      "24/24 [==============================] - 0s 4ms/step - loss: 161.6138 - val_loss: 1394.0814\n",
      "Epoch 161/500\n",
      "24/24 [==============================] - 0s 4ms/step - loss: 161.0789 - val_loss: 1397.9475\n",
      "Epoch 162/500\n",
      "24/24 [==============================] - 0s 4ms/step - loss: 160.5799 - val_loss: 1401.7133\n",
      "Epoch 163/500\n",
      "24/24 [==============================] - 0s 4ms/step - loss: 160.1147 - val_loss: 1405.3794\n",
      "Epoch 164/500\n",
      "24/24 [==============================] - 0s 4ms/step - loss: 159.6813 - val_loss: 1408.9464\n",
      "Epoch 165/500\n",
      "24/24 [==============================] - 0s 4ms/step - loss: 159.2778 - val_loss: 1412.4148\n",
      "Epoch 166/500\n",
      "24/24 [==============================] - 0s 4ms/step - loss: 158.9026 - val_loss: 1415.7858\n",
      "Epoch 167/500\n",
      "24/24 [==============================] - 0s 3ms/step - loss: 158.5538 - val_loss: 1419.0591\n",
      "Epoch 168/500\n",
      "24/24 [==============================] - 0s 3ms/step - loss: 158.2298 - val_loss: 1422.2362\n",
      "Epoch 169/500\n",
      "24/24 [==============================] - 0s 3ms/step - loss: 157.9291 - val_loss: 1425.3177\n",
      "Epoch 170/500\n",
      "24/24 [==============================] - 0s 3ms/step - loss: 157.6503 - val_loss: 1428.3054\n",
      "Epoch 171/500\n",
      "24/24 [==============================] - 0s 4ms/step - loss: 157.3919 - val_loss: 1431.2006\n",
      "Epoch 172/500\n",
      "24/24 [==============================] - 0s 4ms/step - loss: 157.1525 - val_loss: 1434.0027\n",
      "Epoch 173/500\n",
      "24/24 [==============================] - 0s 4ms/step - loss: 156.9311 - val_loss: 1436.7157\n",
      "Epoch 174/500\n",
      "24/24 [==============================] - 0s 4ms/step - loss: 156.7262 - val_loss: 1439.3384\n",
      "Epoch 175/500\n",
      "24/24 [==============================] - 0s 5ms/step - loss: 156.5369 - val_loss: 1441.8740\n",
      "Epoch 176/500\n",
      "24/24 [==============================] - 0s 4ms/step - loss: 156.3621 - val_loss: 1444.3236\n",
      "Epoch 177/500\n",
      "24/24 [==============================] - 0s 4ms/step - loss: 156.2009 - val_loss: 1446.6879\n",
      "Epoch 178/500\n",
      "24/24 [==============================] - 0s 4ms/step - loss: 156.0520 - val_loss: 1448.9695\n",
      "Epoch 179/500\n",
      "24/24 [==============================] - 0s 3ms/step - loss: 155.9150 - val_loss: 1451.1685\n",
      "Epoch 180/500\n",
      "24/24 [==============================] - 0s 4ms/step - loss: 155.7888 - val_loss: 1453.2891\n",
      "Epoch 181/500\n",
      "24/24 [==============================] - 0s 4ms/step - loss: 155.6726 - val_loss: 1455.3309\n",
      "Epoch 182/500\n",
      "24/24 [==============================] - 0s 4ms/step - loss: 155.5658 - val_loss: 1457.2959\n",
      "Epoch 183/500\n",
      "24/24 [==============================] - 0s 4ms/step - loss: 155.4675 - val_loss: 1459.1865\n",
      "Epoch 184/500\n",
      "24/24 [==============================] - 0s 4ms/step - loss: 155.3774 - val_loss: 1461.0045\n",
      "Epoch 185/500\n",
      "24/24 [==============================] - 0s 8ms/step - loss: 155.2946 - val_loss: 1462.7513\n",
      "Epoch 186/500\n",
      "24/24 [==============================] - 0s 4ms/step - loss: 155.2187 - val_loss: 1464.4286\n",
      "Epoch 187/500\n",
      "24/24 [==============================] - 0s 4ms/step - loss: 155.1491 - val_loss: 1466.0382\n",
      "Epoch 188/500\n",
      "24/24 [==============================] - 0s 3ms/step - loss: 155.0853 - val_loss: 1467.5823\n",
      "Epoch 189/500\n",
      "24/24 [==============================] - 0s 3ms/step - loss: 155.0269 - val_loss: 1469.0620\n",
      "Epoch 190/500\n",
      "24/24 [==============================] - 0s 4ms/step - loss: 154.9735 - val_loss: 1470.4797\n",
      "Epoch 191/500\n",
      "24/24 [==============================] - 0s 4ms/step - loss: 154.9247 - val_loss: 1471.8376\n",
      "Epoch 192/500\n",
      "24/24 [==============================] - 0s 4ms/step - loss: 154.8800 - val_loss: 1473.1370\n",
      "Epoch 193/500\n",
      "24/24 [==============================] - 0s 3ms/step - loss: 154.8392 - val_loss: 1474.3795\n",
      "Epoch 194/500\n",
      "24/24 [==============================] - 0s 3ms/step - loss: 154.8020 - val_loss: 1475.5673\n",
      "Epoch 195/500\n",
      "24/24 [==============================] - 0s 4ms/step - loss: 154.7681 - val_loss: 1476.7020\n",
      "Epoch 196/500\n",
      "24/24 [==============================] - 0s 4ms/step - loss: 154.7371 - val_loss: 1477.7855\n",
      "Epoch 197/500\n",
      "24/24 [==============================] - 0s 4ms/step - loss: 154.7089 - val_loss: 1478.8196\n",
      "Epoch 198/500\n",
      "24/24 [==============================] - 0s 4ms/step - loss: 154.6832 - val_loss: 1479.8058\n",
      "Epoch 199/500\n",
      "24/24 [==============================] - 0s 3ms/step - loss: 154.6597 - val_loss: 1480.7452\n",
      "Epoch 200/500\n",
      "24/24 [==============================] - 0s 4ms/step - loss: 154.6384 - val_loss: 1481.6405\n",
      "Epoch 201/500\n",
      "24/24 [==============================] - 0s 4ms/step - loss: 154.6191 - val_loss: 1482.4933\n",
      "Epoch 202/500\n",
      "24/24 [==============================] - 0s 4ms/step - loss: 154.6014 - val_loss: 1483.3037\n",
      "Epoch 203/500\n",
      "24/24 [==============================] - 0s 3ms/step - loss: 154.5855 - val_loss: 1484.0750\n",
      "Epoch 204/500\n",
      "24/24 [==============================] - 0s 4ms/step - loss: 154.5710 - val_loss: 1484.8085\n",
      "Epoch 205/500\n",
      "24/24 [==============================] - 0s 3ms/step - loss: 154.5578 - val_loss: 1485.5044\n",
      "Epoch 206/500\n",
      "24/24 [==============================] - 0s 4ms/step - loss: 154.5458 - val_loss: 1486.1652\n",
      "Epoch 207/500\n",
      "24/24 [==============================] - 0s 4ms/step - loss: 154.5351 - val_loss: 1486.7931\n",
      "Epoch 208/500\n",
      "24/24 [==============================] - 0s 4ms/step - loss: 154.5253 - val_loss: 1487.3878\n",
      "Epoch 209/500\n",
      "24/24 [==============================] - 0s 3ms/step - loss: 154.5164 - val_loss: 1487.9519\n",
      "Epoch 210/500\n",
      "24/24 [==============================] - 0s 5ms/step - loss: 154.5084 - val_loss: 1488.4863\n",
      "Epoch 211/500\n",
      "24/24 [==============================] - 0s 4ms/step - loss: 154.5012 - val_loss: 1488.9921\n",
      "Epoch 212/500\n",
      "24/24 [==============================] - 0s 5ms/step - loss: 154.4947 - val_loss: 1489.4702\n",
      "Epoch 213/500\n",
      "24/24 [==============================] - 0s 4ms/step - loss: 154.4889 - val_loss: 1489.9229\n",
      "Epoch 214/500\n",
      "24/24 [==============================] - 0s 4ms/step - loss: 154.4836 - val_loss: 1490.3507\n",
      "Epoch 215/500\n",
      "24/24 [==============================] - 0s 4ms/step - loss: 154.4789 - val_loss: 1490.7559\n",
      "Epoch 216/500\n",
      "24/24 [==============================] - 0s 8ms/step - loss: 154.4745 - val_loss: 1491.1377\n",
      "Epoch 217/500\n",
      "24/24 [==============================] - 0s 4ms/step - loss: 154.4708 - val_loss: 1491.4969\n",
      "Epoch 218/500\n",
      "24/24 [==============================] - 0s 4ms/step - loss: 154.4675 - val_loss: 1491.8373\n",
      "Epoch 219/500\n",
      "24/24 [==============================] - 0s 4ms/step - loss: 154.4644 - val_loss: 1492.1583\n",
      "Epoch 220/500\n",
      "24/24 [==============================] - 0s 4ms/step - loss: 154.4617 - val_loss: 1492.4595\n",
      "Epoch 221/500\n",
      "24/24 [==============================] - 0s 5ms/step - loss: 154.4594 - val_loss: 1492.7438\n",
      "Epoch 222/500\n",
      "24/24 [==============================] - 0s 5ms/step - loss: 154.4573 - val_loss: 1493.0116\n",
      "Epoch 223/500\n",
      "24/24 [==============================] - 0s 5ms/step - loss: 154.4554 - val_loss: 1493.2635\n",
      "Epoch 224/500\n",
      "24/24 [==============================] - 0s 5ms/step - loss: 154.4538 - val_loss: 1493.5001\n",
      "Epoch 225/500\n",
      "24/24 [==============================] - 0s 4ms/step - loss: 154.4525 - val_loss: 1493.7222\n",
      "Epoch 226/500\n",
      "24/24 [==============================] - 0s 5ms/step - loss: 154.4512 - val_loss: 1493.9309\n",
      "Epoch 227/500\n",
      "24/24 [==============================] - 0s 5ms/step - loss: 154.4503 - val_loss: 1494.1273\n",
      "Epoch 228/500\n",
      "24/24 [==============================] - 0s 5ms/step - loss: 154.4495 - val_loss: 1494.3115\n",
      "Epoch 229/500\n",
      "24/24 [==============================] - 0s 5ms/step - loss: 154.4487 - val_loss: 1494.3993\n",
      "Epoch 230/500\n",
      "24/24 [==============================] - 0s 5ms/step - loss: 154.2038 - val_loss: 1492.0604\n",
      "Epoch 231/500\n",
      "24/24 [==============================] - 0s 4ms/step - loss: 154.5241 - val_loss: 1492.3685\n",
      "Epoch 232/500\n",
      "24/24 [==============================] - 0s 4ms/step - loss: 154.5142 - val_loss: 1492.7306\n",
      "Epoch 233/500\n",
      "24/24 [==============================] - 0s 4ms/step - loss: 154.5041 - val_loss: 1493.0564\n",
      "Epoch 234/500\n",
      "24/24 [==============================] - 0s 4ms/step - loss: 154.4970 - val_loss: 1493.3500\n",
      "Epoch 235/500\n",
      "24/24 [==============================] - 0s 5ms/step - loss: 154.4918 - val_loss: 1493.6163\n",
      "Epoch 236/500\n",
      "24/24 [==============================] - 0s 5ms/step - loss: 154.4878 - val_loss: 1493.8608\n",
      "Epoch 237/500\n",
      "24/24 [==============================] - 0s 5ms/step - loss: 154.4845 - val_loss: 1494.0854\n",
      "Epoch 238/500\n",
      "24/24 [==============================] - 0s 4ms/step - loss: 154.4818 - val_loss: 1494.2922\n",
      "Epoch 239/500\n",
      "24/24 [==============================] - 0s 5ms/step - loss: 154.4796 - val_loss: 1494.4829\n",
      "Epoch 240/500\n",
      "24/24 [==============================] - 0s 5ms/step - loss: 154.4778 - val_loss: 1494.6598\n",
      "Epoch 241/500\n",
      "24/24 [==============================] - 0s 4ms/step - loss: 154.4762 - val_loss: 1494.8226\n",
      "Epoch 242/500\n",
      "24/24 [==============================] - 0s 5ms/step - loss: 154.4749 - val_loss: 1494.9727\n",
      "Epoch 243/500\n",
      "24/24 [==============================] - 0s 11ms/step - loss: 154.4740 - val_loss: 1495.1119\n",
      "Epoch 244/500\n",
      "24/24 [==============================] - 0s 5ms/step - loss: 154.4729 - val_loss: 1495.2395\n",
      "Epoch 245/500\n",
      "24/24 [==============================] - 0s 5ms/step - loss: 154.4724 - val_loss: 1495.3586\n",
      "Epoch 246/500\n",
      "24/24 [==============================] - 0s 5ms/step - loss: 154.4718 - val_loss: 1495.4688\n",
      "Epoch 247/500\n",
      "24/24 [==============================] - 0s 5ms/step - loss: 154.4714 - val_loss: 1495.5699\n",
      "Epoch 248/500\n",
      "24/24 [==============================] - 0s 4ms/step - loss: 154.4710 - val_loss: 1495.6633\n",
      "Epoch 249/500\n",
      "24/24 [==============================] - 0s 4ms/step - loss: 154.4709 - val_loss: 1495.7500\n",
      "Epoch 250/500\n",
      "24/24 [==============================] - 0s 4ms/step - loss: 154.4707 - val_loss: 1495.8297\n",
      "Epoch 251/500\n",
      "24/24 [==============================] - 0s 5ms/step - loss: 154.4707 - val_loss: 1495.9033\n",
      "Epoch 252/500\n",
      "24/24 [==============================] - 0s 6ms/step - loss: 154.4707 - val_loss: 1495.9713\n",
      "Epoch 253/500\n",
      "24/24 [==============================] - 0s 4ms/step - loss: 154.4709 - val_loss: 1496.0338\n",
      "Epoch 254/500\n",
      "24/24 [==============================] - 0s 4ms/step - loss: 154.4710 - val_loss: 1496.0923\n",
      "Epoch 255/500\n",
      "24/24 [==============================] - 0s 4ms/step - loss: 154.4711 - val_loss: 1496.1453\n",
      "Epoch 256/500\n",
      "24/24 [==============================] - 0s 4ms/step - loss: 154.4714 - val_loss: 1496.1941\n",
      "Epoch 257/500\n",
      "24/24 [==============================] - 0s 4ms/step - loss: 154.4717 - val_loss: 1496.2394\n",
      "Epoch 258/500\n",
      "24/24 [==============================] - 0s 4ms/step - loss: 154.4721 - val_loss: 1496.2809\n",
      "Epoch 259/500\n",
      "24/24 [==============================] - 0s 4ms/step - loss: 154.4724 - val_loss: 1496.3186\n",
      "Epoch 260/500\n",
      "24/24 [==============================] - 0s 3ms/step - loss: 154.4727 - val_loss: 1496.3534\n",
      "Epoch 261/500\n",
      "24/24 [==============================] - 0s 3ms/step - loss: 154.4732 - val_loss: 1496.3859\n",
      "Epoch 262/500\n",
      "24/24 [==============================] - 0s 4ms/step - loss: 154.4737 - val_loss: 1496.4159\n",
      "Epoch 263/500\n",
      "24/24 [==============================] - 0s 3ms/step - loss: 154.4741 - val_loss: 1496.4431\n",
      "Epoch 264/500\n",
      "24/24 [==============================] - 0s 5ms/step - loss: 154.4745 - val_loss: 1496.4679\n",
      "Epoch 265/500\n",
      "24/24 [==============================] - 0s 4ms/step - loss: 154.4751 - val_loss: 1496.4908\n",
      "Epoch 266/500\n",
      "24/24 [==============================] - 0s 4ms/step - loss: 154.4755 - val_loss: 1496.5114\n",
      "Epoch 267/500\n",
      "24/24 [==============================] - 0s 4ms/step - loss: 154.4760 - val_loss: 1496.5308\n",
      "Epoch 268/500\n",
      "24/24 [==============================] - 0s 3ms/step - loss: 154.4765 - val_loss: 1496.5487\n",
      "Epoch 269/500\n",
      "24/24 [==============================] - 0s 6ms/step - loss: 154.4771 - val_loss: 1496.5656\n",
      "Epoch 270/500\n",
      "24/24 [==============================] - 0s 6ms/step - loss: 154.4776 - val_loss: 1496.5804\n",
      "Epoch 271/500\n",
      "24/24 [==============================] - 0s 4ms/step - loss: 154.4781 - val_loss: 1496.5933\n",
      "Epoch 272/500\n",
      "24/24 [==============================] - 0s 4ms/step - loss: 154.4786 - val_loss: 1496.6056\n",
      "Epoch 273/500\n",
      "24/24 [==============================] - 0s 4ms/step - loss: 154.4792 - val_loss: 1496.6169\n",
      "Epoch 274/500\n",
      "24/24 [==============================] - 0s 4ms/step - loss: 154.4798 - val_loss: 1496.6277\n",
      "Epoch 275/500\n",
      "24/24 [==============================] - 0s 3ms/step - loss: 154.4803 - val_loss: 1496.6372\n",
      "Epoch 276/500\n",
      "24/24 [==============================] - 0s 3ms/step - loss: 154.4808 - val_loss: 1496.6454\n",
      "Epoch 277/500\n",
      "24/24 [==============================] - 0s 4ms/step - loss: 154.4814 - val_loss: 1496.6536\n",
      "Epoch 278/500\n",
      "24/24 [==============================] - 0s 3ms/step - loss: 154.4819 - val_loss: 1496.6603\n",
      "Epoch 279/500\n",
      "24/24 [==============================] - 0s 4ms/step - loss: 154.4824 - val_loss: 1496.6663\n",
      "Epoch 280/500\n",
      "24/24 [==============================] - 0s 4ms/step - loss: 154.4830 - val_loss: 1496.6718\n",
      "Epoch 281/500\n",
      "24/24 [==============================] - 0s 3ms/step - loss: 154.4835 - val_loss: 1496.6766\n",
      "Epoch 282/500\n",
      "24/24 [==============================] - 0s 3ms/step - loss: 154.4840 - val_loss: 1496.6818\n",
      "Epoch 283/500\n",
      "24/24 [==============================] - 0s 4ms/step - loss: 154.4845 - val_loss: 1496.6854\n",
      "Epoch 284/500\n",
      "24/24 [==============================] - 0s 3ms/step - loss: 154.4849 - val_loss: 1496.6888\n",
      "Epoch 285/500\n",
      "24/24 [==============================] - 0s 3ms/step - loss: 154.4856 - val_loss: 1496.6919\n",
      "Epoch 286/500\n",
      "24/24 [==============================] - 0s 4ms/step - loss: 154.4860 - val_loss: 1496.6951\n",
      "Epoch 287/500\n",
      "24/24 [==============================] - 0s 4ms/step - loss: 154.4865 - val_loss: 1496.6978\n",
      "Epoch 288/500\n",
      "24/24 [==============================] - 0s 4ms/step - loss: 154.4870 - val_loss: 1496.6993\n",
      "Epoch 289/500\n",
      "24/24 [==============================] - 0s 3ms/step - loss: 154.4875 - val_loss: 1496.7017\n",
      "Epoch 290/500\n",
      "24/24 [==============================] - 0s 3ms/step - loss: 154.4880 - val_loss: 1496.7037\n",
      "Epoch 291/500\n",
      "24/24 [==============================] - 0s 4ms/step - loss: 154.4885 - val_loss: 1496.7050\n",
      "Epoch 292/500\n",
      "24/24 [==============================] - 0s 3ms/step - loss: 154.4890 - val_loss: 1496.7059\n",
      "Epoch 293/500\n",
      "24/24 [==============================] - 0s 3ms/step - loss: 154.4894 - val_loss: 1496.7076\n",
      "Epoch 294/500\n",
      "24/24 [==============================] - 0s 4ms/step - loss: 154.4899 - val_loss: 1496.7081\n",
      "Epoch 295/500\n",
      "24/24 [==============================] - 0s 4ms/step - loss: 154.4904 - val_loss: 1496.7096\n",
      "Epoch 296/500\n",
      "24/24 [==============================] - 0s 3ms/step - loss: 154.4908 - val_loss: 1496.7103\n",
      "Epoch 297/500\n",
      "24/24 [==============================] - 0s 4ms/step - loss: 154.4912 - val_loss: 1496.7113\n",
      "Epoch 298/500\n",
      "24/24 [==============================] - 0s 8ms/step - loss: 154.4915 - val_loss: 1496.7112\n",
      "Epoch 299/500\n",
      "24/24 [==============================] - 0s 4ms/step - loss: 154.4921 - val_loss: 1496.7122\n",
      "Epoch 300/500\n",
      "24/24 [==============================] - 0s 4ms/step - loss: 154.4925 - val_loss: 1496.7125\n",
      "Epoch 301/500\n",
      "24/24 [==============================] - 0s 4ms/step - loss: 154.4928 - val_loss: 1496.7122\n",
      "Epoch 302/500\n",
      "24/24 [==============================] - 0s 3ms/step - loss: 154.4933 - val_loss: 1496.7123\n",
      "Epoch 303/500\n",
      "24/24 [==============================] - 0s 3ms/step - loss: 154.4936 - val_loss: 1496.7120\n",
      "Epoch 304/500\n",
      "24/24 [==============================] - 0s 4ms/step - loss: 154.4940 - val_loss: 1496.7120\n",
      "Epoch 305/500\n",
      "24/24 [==============================] - 0s 4ms/step - loss: 154.4944 - val_loss: 1496.7120\n",
      "Epoch 306/500\n",
      "24/24 [==============================] - 0s 4ms/step - loss: 154.4949 - val_loss: 1496.7118\n",
      "Epoch 307/500\n",
      "24/24 [==============================] - 0s 4ms/step - loss: 154.4951 - val_loss: 1496.7117\n",
      "Epoch 308/500\n",
      "24/24 [==============================] - 0s 3ms/step - loss: 154.4955 - val_loss: 1496.7113\n",
      "Epoch 309/500\n",
      "24/24 [==============================] - 0s 3ms/step - loss: 154.4959 - val_loss: 1496.7114\n",
      "Epoch 310/500\n",
      "24/24 [==============================] - 0s 3ms/step - loss: 154.4962 - val_loss: 1496.7112\n",
      "Epoch 311/500\n",
      "24/24 [==============================] - 0s 4ms/step - loss: 154.4966 - val_loss: 1496.7112\n",
      "Epoch 312/500\n",
      "24/24 [==============================] - 0s 3ms/step - loss: 154.4969 - val_loss: 1496.7108\n",
      "Epoch 313/500\n",
      "24/24 [==============================] - 0s 4ms/step - loss: 154.4972 - val_loss: 1496.7096\n",
      "Epoch 314/500\n",
      "24/24 [==============================] - 0s 4ms/step - loss: 154.4976 - val_loss: 1496.7098\n",
      "Epoch 315/500\n",
      "24/24 [==============================] - 0s 4ms/step - loss: 154.4979 - val_loss: 1496.7091\n",
      "Epoch 316/500\n",
      "24/24 [==============================] - 0s 3ms/step - loss: 154.4982 - val_loss: 1496.7090\n",
      "Epoch 317/500\n",
      "24/24 [==============================] - 0s 3ms/step - loss: 154.4985 - val_loss: 1496.7086\n",
      "Epoch 318/500\n",
      "24/24 [==============================] - 0s 4ms/step - loss: 154.4988 - val_loss: 1496.7085\n",
      "Epoch 319/500\n",
      "24/24 [==============================] - 0s 4ms/step - loss: 154.4991 - val_loss: 1496.7081\n",
      "Epoch 320/500\n",
      "24/24 [==============================] - 0s 4ms/step - loss: 154.4994 - val_loss: 1496.7076\n",
      "Epoch 321/500\n",
      "24/24 [==============================] - 0s 4ms/step - loss: 154.4996 - val_loss: 1496.7065\n",
      "Epoch 322/500\n",
      "24/24 [==============================] - 0s 3ms/step - loss: 154.4999 - val_loss: 1496.7065\n",
      "Epoch 323/500\n",
      "24/24 [==============================] - 0s 8ms/step - loss: 154.5002 - val_loss: 1496.7061\n",
      "Epoch 324/500\n",
      "24/24 [==============================] - 0s 4ms/step - loss: 154.5004 - val_loss: 1496.7051\n",
      "Epoch 325/500\n",
      "24/24 [==============================] - 0s 4ms/step - loss: 154.5008 - val_loss: 1496.7054\n",
      "Epoch 326/500\n",
      "24/24 [==============================] - 0s 4ms/step - loss: 154.5009 - val_loss: 1496.7042\n",
      "Epoch 327/500\n",
      "24/24 [==============================] - 0s 4ms/step - loss: 154.5013 - val_loss: 1496.7037\n",
      "Epoch 328/500\n",
      "24/24 [==============================] - 0s 4ms/step - loss: 154.5015 - val_loss: 1496.7037\n",
      "Epoch 329/500\n",
      "24/24 [==============================] - 0s 4ms/step - loss: 154.5018 - val_loss: 1496.7035\n",
      "Epoch 330/500\n",
      "24/24 [==============================] - 0s 4ms/step - loss: 154.5020 - val_loss: 1496.7035\n",
      "Epoch 331/500\n",
      "24/24 [==============================] - 0s 4ms/step - loss: 154.5022 - val_loss: 1496.7029\n",
      "Epoch 332/500\n",
      "24/24 [==============================] - 0s 4ms/step - loss: 154.5024 - val_loss: 1496.7021\n",
      "Epoch 333/500\n",
      "24/24 [==============================] - 0s 4ms/step - loss: 154.5026 - val_loss: 1496.7017\n",
      "Epoch 334/500\n",
      "24/24 [==============================] - 0s 4ms/step - loss: 154.5028 - val_loss: 1496.7013\n",
      "Epoch 335/500\n",
      "24/24 [==============================] - 0s 4ms/step - loss: 154.5030 - val_loss: 1496.7007\n",
      "Epoch 336/500\n",
      "24/24 [==============================] - 0s 3ms/step - loss: 154.5032 - val_loss: 1496.7006\n",
      "Epoch 337/500\n",
      "24/24 [==============================] - 0s 3ms/step - loss: 154.5035 - val_loss: 1496.7000\n",
      "Epoch 338/500\n",
      "24/24 [==============================] - 0s 3ms/step - loss: 154.5036 - val_loss: 1496.6998\n",
      "Epoch 339/500\n",
      "24/24 [==============================] - 0s 4ms/step - loss: 154.5038 - val_loss: 1496.6991\n",
      "Epoch 340/500\n",
      "24/24 [==============================] - 0s 3ms/step - loss: 154.5040 - val_loss: 1496.6978\n",
      "Epoch 341/500\n",
      "24/24 [==============================] - 0s 3ms/step - loss: 154.5042 - val_loss: 1496.6984\n",
      "Epoch 342/500\n",
      "24/24 [==============================] - 0s 3ms/step - loss: 154.5044 - val_loss: 1496.6976\n",
      "Epoch 343/500\n",
      "24/24 [==============================] - 0s 3ms/step - loss: 154.5045 - val_loss: 1496.6973\n",
      "Epoch 344/500\n",
      "24/24 [==============================] - 0s 3ms/step - loss: 154.5048 - val_loss: 1496.6968\n",
      "Epoch 345/500\n",
      "24/24 [==============================] - 0s 3ms/step - loss: 154.5049 - val_loss: 1496.6959\n",
      "Epoch 346/500\n",
      "24/24 [==============================] - 0s 3ms/step - loss: 154.5050 - val_loss: 1496.6956\n",
      "Epoch 347/500\n",
      "24/24 [==============================] - 0s 3ms/step - loss: 154.5052 - val_loss: 1496.6946\n",
      "Epoch 348/500\n",
      "24/24 [==============================] - 0s 6ms/step - loss: 154.5054 - val_loss: 1496.6942\n",
      "Epoch 349/500\n",
      "24/24 [==============================] - 0s 7ms/step - loss: 154.5055 - val_loss: 1496.6941\n",
      "Epoch 350/500\n",
      "24/24 [==============================] - 0s 4ms/step - loss: 154.5057 - val_loss: 1496.6941\n",
      "Epoch 351/500\n",
      "24/24 [==============================] - 0s 5ms/step - loss: 154.5058 - val_loss: 1496.6937\n",
      "Epoch 352/500\n",
      "24/24 [==============================] - 0s 3ms/step - loss: 154.5060 - val_loss: 1496.6934\n",
      "Epoch 353/500\n",
      "24/24 [==============================] - 0s 3ms/step - loss: 154.5062 - val_loss: 1496.6929\n",
      "Epoch 354/500\n",
      "24/24 [==============================] - 0s 4ms/step - loss: 154.5063 - val_loss: 1496.6926\n",
      "Epoch 355/500\n",
      "24/24 [==============================] - 0s 4ms/step - loss: 154.5065 - val_loss: 1496.6926\n",
      "Epoch 356/500\n",
      "24/24 [==============================] - 0s 4ms/step - loss: 154.5065 - val_loss: 1496.6918\n",
      "Epoch 357/500\n",
      "24/24 [==============================] - 0s 4ms/step - loss: 154.5067 - val_loss: 1496.6915\n",
      "Epoch 358/500\n",
      "24/24 [==============================] - 0s 4ms/step - loss: 154.5067 - val_loss: 1496.6909\n",
      "Epoch 359/500\n",
      "24/24 [==============================] - 0s 4ms/step - loss: 154.5069 - val_loss: 1496.6907\n",
      "Epoch 360/500\n",
      "24/24 [==============================] - 0s 4ms/step - loss: 154.5070 - val_loss: 1496.6906\n",
      "Epoch 361/500\n",
      "24/24 [==============================] - 0s 4ms/step - loss: 154.5071 - val_loss: 1496.6906\n",
      "Epoch 362/500\n",
      "24/24 [==============================] - 0s 5ms/step - loss: 154.5072 - val_loss: 1496.6898\n",
      "Epoch 363/500\n",
      "24/24 [==============================] - 0s 5ms/step - loss: 154.5074 - val_loss: 1496.6898\n",
      "Epoch 364/500\n",
      "24/24 [==============================] - 0s 4ms/step - loss: 154.5075 - val_loss: 1496.6898\n",
      "Epoch 365/500\n",
      "24/24 [==============================] - 0s 3ms/step - loss: 154.5076 - val_loss: 1496.6896\n",
      "Epoch 366/500\n",
      "24/24 [==============================] - 0s 3ms/step - loss: 154.5077 - val_loss: 1496.6893\n",
      "Epoch 367/500\n",
      "24/24 [==============================] - 0s 4ms/step - loss: 154.5078 - val_loss: 1496.6888\n",
      "Epoch 368/500\n",
      "24/24 [==============================] - 0s 3ms/step - loss: 154.5079 - val_loss: 1496.6882\n",
      "Epoch 369/500\n",
      "24/24 [==============================] - 0s 4ms/step - loss: 154.5080 - val_loss: 1496.6882\n",
      "Epoch 370/500\n",
      "24/24 [==============================] - 0s 3ms/step - loss: 154.5081 - val_loss: 1496.6885\n",
      "Epoch 371/500\n",
      "24/24 [==============================] - 0s 4ms/step - loss: 154.5082 - val_loss: 1496.6875\n",
      "Epoch 372/500\n",
      "24/24 [==============================] - 0s 9ms/step - loss: 154.5083 - val_loss: 1496.6871\n",
      "Epoch 373/500\n",
      "24/24 [==============================] - 0s 4ms/step - loss: 154.5084 - val_loss: 1496.6871\n",
      "Epoch 374/500\n",
      "24/24 [==============================] - 0s 4ms/step - loss: 154.5084 - val_loss: 1496.6868\n",
      "Epoch 375/500\n",
      "24/24 [==============================] - 0s 3ms/step - loss: 154.5085 - val_loss: 1496.6860\n",
      "Epoch 376/500\n",
      "24/24 [==============================] - 0s 4ms/step - loss: 154.5087 - val_loss: 1496.6863\n",
      "Epoch 377/500\n",
      "24/24 [==============================] - 0s 3ms/step - loss: 154.5087 - val_loss: 1496.6862\n",
      "Epoch 378/500\n",
      "24/24 [==============================] - 0s 3ms/step - loss: 154.5088 - val_loss: 1496.6854\n",
      "Epoch 379/500\n",
      "24/24 [==============================] - 0s 3ms/step - loss: 154.5088 - val_loss: 1496.6852\n",
      "Epoch 380/500\n",
      "24/24 [==============================] - 0s 4ms/step - loss: 154.5089 - val_loss: 1496.6848\n",
      "Epoch 381/500\n",
      "24/24 [==============================] - 0s 4ms/step - loss: 154.5090 - val_loss: 1496.6844\n",
      "Epoch 382/500\n",
      "24/24 [==============================] - 0s 3ms/step - loss: 154.5091 - val_loss: 1496.6843\n",
      "Epoch 383/500\n",
      "24/24 [==============================] - 0s 3ms/step - loss: 154.5092 - val_loss: 1496.6843\n",
      "Epoch 384/500\n",
      "24/24 [==============================] - 0s 3ms/step - loss: 154.5092 - val_loss: 1496.6841\n",
      "Epoch 385/500\n",
      "24/24 [==============================] - 0s 5ms/step - loss: 154.5093 - val_loss: 1496.6841\n",
      "Epoch 386/500\n",
      "24/24 [==============================] - 0s 4ms/step - loss: 154.5093 - val_loss: 1496.6838\n",
      "Epoch 387/500\n",
      "24/24 [==============================] - 0s 4ms/step - loss: 154.5094 - val_loss: 1496.6838\n",
      "Epoch 388/500\n",
      "24/24 [==============================] - 0s 3ms/step - loss: 154.5095 - val_loss: 1496.6836\n",
      "Epoch 389/500\n",
      "24/24 [==============================] - 0s 3ms/step - loss: 154.5096 - val_loss: 1496.6840\n",
      "Epoch 390/500\n",
      "24/24 [==============================] - 0s 4ms/step - loss: 154.5096 - val_loss: 1496.6840\n",
      "Epoch 391/500\n",
      "24/24 [==============================] - 0s 4ms/step - loss: 154.5096 - val_loss: 1496.6838\n",
      "Epoch 392/500\n",
      "24/24 [==============================] - 0s 4ms/step - loss: 154.5096 - val_loss: 1496.6827\n",
      "Epoch 393/500\n",
      "24/24 [==============================] - 0s 3ms/step - loss: 154.5097 - val_loss: 1496.6816\n",
      "Epoch 394/500\n",
      "24/24 [==============================] - 0s 3ms/step - loss: 154.5098 - val_loss: 1496.6808\n",
      "Epoch 395/500\n",
      "24/24 [==============================] - 0s 4ms/step - loss: 154.5098 - val_loss: 1496.6797\n",
      "Epoch 396/500\n",
      "24/24 [==============================] - 0s 8ms/step - loss: 154.5099 - val_loss: 1496.6794\n",
      "Epoch 397/500\n",
      "24/24 [==============================] - 0s 4ms/step - loss: 154.5100 - val_loss: 1496.6794\n",
      "Epoch 398/500\n",
      "24/24 [==============================] - 0s 3ms/step - loss: 154.5100 - val_loss: 1496.6794\n",
      "Epoch 399/500\n",
      "24/24 [==============================] - 0s 4ms/step - loss: 154.5101 - val_loss: 1496.6801\n",
      "Epoch 400/500\n",
      "24/24 [==============================] - 0s 4ms/step - loss: 154.5101 - val_loss: 1496.6797\n",
      "Epoch 401/500\n",
      "24/24 [==============================] - 0s 3ms/step - loss: 154.5102 - val_loss: 1496.6801\n",
      "Epoch 402/500\n",
      "24/24 [==============================] - 0s 4ms/step - loss: 154.5103 - val_loss: 1496.6804\n",
      "Epoch 403/500\n",
      "24/24 [==============================] - 0s 4ms/step - loss: 154.5103 - val_loss: 1496.6802\n",
      "Epoch 404/500\n",
      "24/24 [==============================] - 0s 3ms/step - loss: 154.5104 - val_loss: 1496.6799\n",
      "Epoch 405/500\n",
      "24/24 [==============================] - 0s 3ms/step - loss: 154.5104 - val_loss: 1496.6799\n",
      "Epoch 406/500\n",
      "24/24 [==============================] - 0s 4ms/step - loss: 154.5104 - val_loss: 1496.6799\n",
      "Epoch 407/500\n",
      "24/24 [==============================] - 0s 4ms/step - loss: 154.5105 - val_loss: 1496.6794\n",
      "Epoch 408/500\n",
      "24/24 [==============================] - 0s 3ms/step - loss: 154.5105 - val_loss: 1496.6791\n",
      "Epoch 409/500\n",
      "24/24 [==============================] - 0s 3ms/step - loss: 154.5106 - val_loss: 1496.6786\n",
      "Epoch 410/500\n",
      "24/24 [==============================] - 0s 3ms/step - loss: 154.5105 - val_loss: 1496.6781\n",
      "Epoch 411/500\n",
      "24/24 [==============================] - 0s 4ms/step - loss: 154.5107 - val_loss: 1496.6781\n",
      "Epoch 412/500\n",
      "24/24 [==============================] - 0s 4ms/step - loss: 154.5107 - val_loss: 1496.6781\n",
      "Epoch 413/500\n",
      "24/24 [==============================] - 0s 4ms/step - loss: 154.5106 - val_loss: 1496.6772\n",
      "Epoch 414/500\n",
      "24/24 [==============================] - 0s 4ms/step - loss: 154.5107 - val_loss: 1496.6766\n",
      "Epoch 415/500\n",
      "24/24 [==============================] - 0s 4ms/step - loss: 154.5107 - val_loss: 1496.6766\n",
      "Epoch 416/500\n",
      "24/24 [==============================] - 0s 4ms/step - loss: 154.5108 - val_loss: 1496.6765\n",
      "Epoch 417/500\n",
      "24/24 [==============================] - 0s 4ms/step - loss: 154.5108 - val_loss: 1496.6765\n",
      "Epoch 418/500\n",
      "24/24 [==============================] - 0s 3ms/step - loss: 154.5108 - val_loss: 1496.6761\n",
      "Epoch 419/500\n",
      "24/24 [==============================] - 0s 4ms/step - loss: 154.5109 - val_loss: 1496.6764\n",
      "Epoch 420/500\n",
      "24/24 [==============================] - 0s 8ms/step - loss: 154.5110 - val_loss: 1496.6769\n",
      "Epoch 421/500\n",
      "24/24 [==============================] - 0s 3ms/step - loss: 154.5110 - val_loss: 1496.6774\n",
      "Epoch 422/500\n",
      "24/24 [==============================] - 0s 3ms/step - loss: 154.5110 - val_loss: 1496.6777\n",
      "Epoch 423/500\n",
      "24/24 [==============================] - 0s 4ms/step - loss: 154.5110 - val_loss: 1496.6781\n",
      "Epoch 424/500\n",
      "24/24 [==============================] - 0s 4ms/step - loss: 154.5111 - val_loss: 1496.6782\n",
      "Epoch 425/500\n",
      "24/24 [==============================] - 0s 4ms/step - loss: 154.5110 - val_loss: 1496.6781\n",
      "Epoch 426/500\n",
      "24/24 [==============================] - 0s 4ms/step - loss: 154.5111 - val_loss: 1496.6781\n",
      "Epoch 427/500\n",
      "24/24 [==============================] - 0s 3ms/step - loss: 154.5111 - val_loss: 1496.6779\n",
      "Epoch 428/500\n",
      "24/24 [==============================] - 0s 3ms/step - loss: 154.5111 - val_loss: 1496.6775\n",
      "Epoch 429/500\n",
      "24/24 [==============================] - 0s 3ms/step - loss: 154.5111 - val_loss: 1496.6774\n",
      "Epoch 430/500\n",
      "24/24 [==============================] - 0s 4ms/step - loss: 154.5112 - val_loss: 1496.6772\n",
      "Epoch 431/500\n",
      "24/24 [==============================] - 0s 3ms/step - loss: 154.5112 - val_loss: 1496.6772\n",
      "Epoch 432/500\n",
      "24/24 [==============================] - 0s 3ms/step - loss: 154.5112 - val_loss: 1496.6765\n",
      "Epoch 433/500\n",
      "24/24 [==============================] - 0s 3ms/step - loss: 154.5112 - val_loss: 1496.6752\n",
      "Epoch 434/500\n",
      "24/24 [==============================] - 0s 4ms/step - loss: 154.5112 - val_loss: 1496.6748\n",
      "Epoch 435/500\n",
      "24/24 [==============================] - 0s 4ms/step - loss: 154.5113 - val_loss: 1496.6742\n",
      "Epoch 436/500\n",
      "24/24 [==============================] - 0s 3ms/step - loss: 154.5113 - val_loss: 1496.6740\n",
      "Epoch 437/500\n",
      "24/24 [==============================] - 0s 3ms/step - loss: 154.5114 - val_loss: 1496.6743\n",
      "Epoch 438/500\n",
      "24/24 [==============================] - 0s 6ms/step - loss: 154.5114 - val_loss: 1496.6747\n",
      "Epoch 439/500\n",
      "24/24 [==============================] - 0s 3ms/step - loss: 154.5115 - val_loss: 1496.6750\n",
      "Epoch 440/500\n",
      "24/24 [==============================] - 0s 3ms/step - loss: 154.5115 - val_loss: 1496.6759\n",
      "Epoch 441/500\n",
      "24/24 [==============================] - 0s 4ms/step - loss: 154.5114 - val_loss: 1496.6760\n",
      "Epoch 442/500\n",
      "24/24 [==============================] - 0s 5ms/step - loss: 154.5114 - val_loss: 1496.6761\n",
      "Epoch 443/500\n",
      "24/24 [==============================] - 0s 7ms/step - loss: 154.5114 - val_loss: 1496.6761\n",
      "Epoch 444/500\n",
      "24/24 [==============================] - 0s 4ms/step - loss: 154.5114 - val_loss: 1496.6764\n",
      "Epoch 445/500\n",
      "24/24 [==============================] - 0s 3ms/step - loss: 154.5114 - val_loss: 1496.6761\n",
      "Epoch 446/500\n",
      "24/24 [==============================] - 0s 3ms/step - loss: 154.5115 - val_loss: 1496.6755\n",
      "Epoch 447/500\n",
      "24/24 [==============================] - 0s 3ms/step - loss: 154.5114 - val_loss: 1496.6752\n",
      "Epoch 448/500\n",
      "24/24 [==============================] - 0s 3ms/step - loss: 154.5115 - val_loss: 1496.6747\n",
      "Epoch 449/500\n",
      "24/24 [==============================] - 0s 4ms/step - loss: 154.5115 - val_loss: 1496.6743\n",
      "Epoch 450/500\n",
      "24/24 [==============================] - 0s 4ms/step - loss: 154.5115 - val_loss: 1496.6738\n",
      "Epoch 451/500\n",
      "24/24 [==============================] - 0s 3ms/step - loss: 154.5115 - val_loss: 1496.6730\n",
      "Epoch 452/500\n",
      "24/24 [==============================] - 0s 3ms/step - loss: 154.5115 - val_loss: 1496.6721\n",
      "Epoch 453/500\n",
      "24/24 [==============================] - 0s 4ms/step - loss: 154.5115 - val_loss: 1496.6716\n",
      "Epoch 454/500\n",
      "24/24 [==============================] - 0s 4ms/step - loss: 154.5116 - val_loss: 1496.6713\n",
      "Epoch 455/500\n",
      "24/24 [==============================] - 0s 3ms/step - loss: 154.5116 - val_loss: 1496.6708\n",
      "Epoch 456/500\n",
      "24/24 [==============================] - 0s 4ms/step - loss: 154.5116 - val_loss: 1496.6704\n",
      "Epoch 457/500\n",
      "24/24 [==============================] - 0s 4ms/step - loss: 154.5117 - val_loss: 1496.6703\n",
      "Epoch 458/500\n",
      "24/24 [==============================] - 0s 3ms/step - loss: 154.5116 - val_loss: 1496.6700\n",
      "Epoch 459/500\n",
      "24/24 [==============================] - 0s 3ms/step - loss: 154.5118 - val_loss: 1496.6700\n",
      "Epoch 460/500\n",
      "24/24 [==============================] - 0s 4ms/step - loss: 154.5117 - val_loss: 1496.6700\n",
      "Epoch 461/500\n",
      "24/24 [==============================] - 0s 3ms/step - loss: 154.5117 - val_loss: 1496.6699\n",
      "Epoch 462/500\n",
      "24/24 [==============================] - 0s 3ms/step - loss: 154.5117 - val_loss: 1496.6696\n",
      "Epoch 463/500\n",
      "24/24 [==============================] - 0s 4ms/step - loss: 154.5117 - val_loss: 1496.6689\n",
      "Epoch 464/500\n",
      "24/24 [==============================] - 0s 4ms/step - loss: 154.5117 - val_loss: 1496.6687\n",
      "Epoch 465/500\n",
      "24/24 [==============================] - 0s 5ms/step - loss: 154.5117 - val_loss: 1496.6681\n",
      "Epoch 466/500\n",
      "24/24 [==============================] - 0s 7ms/step - loss: 154.5118 - val_loss: 1496.6682\n",
      "Epoch 467/500\n",
      "24/24 [==============================] - 0s 4ms/step - loss: 154.5118 - val_loss: 1496.6677\n",
      "Epoch 468/500\n",
      "24/24 [==============================] - 0s 3ms/step - loss: 154.5118 - val_loss: 1496.6674\n",
      "Epoch 469/500\n",
      "24/24 [==============================] - 0s 3ms/step - loss: 154.5118 - val_loss: 1496.6674\n",
      "Epoch 470/500\n",
      "24/24 [==============================] - 0s 4ms/step - loss: 154.5117 - val_loss: 1496.6672\n",
      "Epoch 471/500\n",
      "24/24 [==============================] - 0s 3ms/step - loss: 154.5117 - val_loss: 1496.6669\n",
      "Epoch 472/500\n",
      "24/24 [==============================] - 0s 3ms/step - loss: 154.5117 - val_loss: 1496.6664\n",
      "Epoch 473/500\n",
      "24/24 [==============================] - 0s 4ms/step - loss: 154.5117 - val_loss: 1496.6655\n",
      "Epoch 474/500\n",
      "24/24 [==============================] - 0s 4ms/step - loss: 154.5117 - val_loss: 1496.6649\n",
      "Epoch 475/500\n",
      "24/24 [==============================] - 0s 3ms/step - loss: 154.5117 - val_loss: 1496.6642\n",
      "Epoch 476/500\n",
      "24/24 [==============================] - 0s 3ms/step - loss: 154.5117 - val_loss: 1496.6636\n",
      "Epoch 477/500\n",
      "24/24 [==============================] - 0s 4ms/step - loss: 154.5118 - val_loss: 1496.6627\n",
      "Epoch 478/500\n",
      "24/24 [==============================] - 0s 4ms/step - loss: 154.5118 - val_loss: 1496.6616\n",
      "Epoch 479/500\n",
      "24/24 [==============================] - 0s 3ms/step - loss: 154.5118 - val_loss: 1496.6592\n",
      "Epoch 480/500\n",
      "24/24 [==============================] - 0s 3ms/step - loss: 154.5118 - val_loss: 1496.6542\n",
      "Epoch 481/500\n",
      "24/24 [==============================] - 0s 4ms/step - loss: 154.5118 - val_loss: 1496.6372\n",
      "Epoch 482/500\n",
      "24/24 [==============================] - 0s 3ms/step - loss: 154.5118 - val_loss: 1495.1854\n",
      "Epoch 483/500\n",
      "24/24 [==============================] - 0s 3ms/step - loss: 154.5393 - val_loss: 1496.8223\n",
      "Epoch 484/500\n",
      "24/24 [==============================] - 0s 4ms/step - loss: 154.5118 - val_loss: 1496.8221\n",
      "Epoch 485/500\n",
      "24/24 [==============================] - 0s 4ms/step - loss: 154.5117 - val_loss: 1496.8206\n",
      "Epoch 486/500\n",
      "24/24 [==============================] - 0s 3ms/step - loss: 154.5117 - val_loss: 1496.8195\n",
      "Epoch 487/500\n",
      "24/24 [==============================] - 0s 8ms/step - loss: 154.5117 - val_loss: 1496.8192\n",
      "Epoch 488/500\n",
      "24/24 [==============================] - 0s 4ms/step - loss: 154.5118 - val_loss: 1496.8187\n",
      "Epoch 489/500\n",
      "24/24 [==============================] - 0s 4ms/step - loss: 154.5118 - val_loss: 1496.8184\n",
      "Epoch 490/500\n",
      "24/24 [==============================] - 0s 3ms/step - loss: 154.5118 - val_loss: 1496.8182\n",
      "Epoch 491/500\n",
      "24/24 [==============================] - 0s 3ms/step - loss: 154.5118 - val_loss: 1496.8179\n",
      "Epoch 492/500\n",
      "24/24 [==============================] - 0s 4ms/step - loss: 154.5118 - val_loss: 1496.8174\n",
      "Epoch 493/500\n",
      "24/24 [==============================] - 0s 4ms/step - loss: 154.5118 - val_loss: 1496.8164\n",
      "Epoch 494/500\n",
      "24/24 [==============================] - 0s 4ms/step - loss: 154.5119 - val_loss: 1496.8162\n",
      "Epoch 495/500\n",
      "24/24 [==============================] - 0s 3ms/step - loss: 154.5119 - val_loss: 1496.8162\n",
      "Epoch 496/500\n",
      "24/24 [==============================] - 0s 4ms/step - loss: 154.5119 - val_loss: 1496.8162\n",
      "Epoch 497/500\n",
      "24/24 [==============================] - 0s 4ms/step - loss: 154.5119 - val_loss: 1496.8165\n",
      "Epoch 498/500\n",
      "24/24 [==============================] - 0s 3ms/step - loss: 154.5119 - val_loss: 1496.8174\n",
      "Epoch 499/500\n",
      "24/24 [==============================] - 0s 4ms/step - loss: 154.5119 - val_loss: 1496.8174\n",
      "Epoch 500/500\n",
      "24/24 [==============================] - 0s 4ms/step - loss: 154.5119 - val_loss: 1496.8173\n"
     ]
    }
   ],
   "source": [
    "C0 = tf.Variable(88.1552, name=\"C0\", trainable=True, dtype=tf.float32)\n",
    "K0 = tf.Variable(-0.0026, name=\"K0\", trainable=True, dtype=tf.float32)\n",
    "K1 = tf.Variable(-0.0004, name=\"K1\", trainable=True, dtype=tf.float32)\n",
    "a = tf.Variable(0.0000, name=\"a\", trainable=True, dtype=tf.float32)\n",
    "b = tf.Variable(0.0102, name=\"b\", trainable=True, dtype=tf.float32)\n",
    "c = tf.Variable(2.8734, name=\"c\", trainable=True, dtype=tf.float32)\n",
    "\n",
    "splitr = 0.8\n",
    "\n",
    "\n",
    "def loss_fn(y_true, y_pred):\n",
    "    squared_difference = tf.square(y_true[:, 0] - y_pred[:, 0])\n",
    "    #squared_difference2 = tf.square(y_true[:, 2]-y_pred[:, 2])\n",
    "    #squared_difference1 = tf.square(y_true[:, 1]-y_pred[:, 1])\n",
    "    epsilon = 1\n",
    "    squared_difference3 = tf.square(\n",
    "        y_pred[:, 1] - (\n",
    "            y_pred[:, 0] * (\n",
    "                K0 - K1 * (\n",
    "                    9 * a * tf.math.log((y_pred[:, 0] + epsilon) / C0) / (K0 - K1 * c)**2 +\n",
    "                    4 * b * tf.math.log((y_pred[:, 0] + epsilon) / C0) / (K0 - K1 * c) + c\n",
    "                )\n",
    "            )\n",
    "        )\n",
    "    )\n",
    "    return tf.reduce_mean(squared_difference, axis=-1) + 0.2*tf.reduce_mean(squared_difference3, axis=-1)\n",
    "model = Sequential()\n",
    "model.add(LSTM(100, input_shape=(trainX.shape[1], trainX.shape[2])))\n",
    "model.add(Dense(60))\n",
    "model.compile(loss=loss_fn, optimizer='adam')\n",
    "history = model.fit(trainX[:int(splitr*trainX.shape[0])], trainy[:int(splitr*trainX.shape[0])], epochs=500, batch_size=64, validation_data=(trainX[int(splitr*trainX.shape[0]):trainX.shape[0]], trainy[int(splitr*trainX.shape[0]):trainX.shape[0]]), shuffle=False)"
   ]
  },
  {
   "cell_type": "code",
   "execution_count": 19,
   "metadata": {
    "colab": {
     "base_uri": "https://localhost:8080/"
    },
    "id": "yJL101rPyuoT",
    "outputId": "239ff2b1-c186-423a-d316-939dfdd7c793"
   },
   "outputs": [
    {
     "name": "stdout",
     "output_type": "stream",
     "text": [
      "1/1 [==============================] - 0s 334ms/step\n"
     ]
    }
   ],
   "source": [
    "forecast_without_mc = forecastX\n",
    "yhat_without_mc = model.predict(forecast_without_mc) # Step Ahead Prediction\n",
    "forecast_without_mc = forecast_without_mc.reshape((forecast_without_mc.shape[0], forecast_without_mc.shape[2])) # Historical Input"
   ]
  },
  {
   "cell_type": "code",
   "execution_count": 20,
   "metadata": {
    "colab": {
     "base_uri": "https://localhost:8080/"
    },
    "id": "g9dQELcJ8wbp",
    "outputId": "4dc7671b-b1a8-48d5-8744-a86f98446109"
   },
   "outputs": [
    {
     "data": {
      "text/plain": [
       "(1, 1, 251)"
      ]
     },
     "execution_count": 20,
     "metadata": {},
     "output_type": "execute_result"
    }
   ],
   "source": [
    "forecastX.shape"
   ]
  },
  {
   "cell_type": "code",
   "execution_count": 21,
   "metadata": {
    "colab": {
     "base_uri": "https://localhost:8080/"
    },
    "id": "IS2kyIKG1Kbr",
    "outputId": "f31b3485-8e26-452f-9298-ea8bf7e80ad1"
   },
   "outputs": [
    {
     "data": {
      "text/plain": [
       "(1, 251)"
      ]
     },
     "execution_count": 21,
     "metadata": {},
     "output_type": "execute_result"
    }
   ],
   "source": [
    "forecast_without_mc.shape"
   ]
  },
  {
   "cell_type": "code",
   "execution_count": 22,
   "metadata": {
    "id": "0u6VIzaDyuoT"
   },
   "outputs": [],
   "source": [
    "inv_yhat_without_mc = np.concatenate((forecast_without_mc, yhat_without_mc), axis=1) # Concatenation of predicted values with Historical Data\n",
    "#inv_yhat_without_mc = scaler.inverse_transform(inv_yhat_without_mc) # Transform labels back to original encoding"
   ]
  },
  {
   "cell_type": "code",
   "execution_count": 23,
   "metadata": {
    "colab": {
     "base_uri": "https://localhost:8080/"
    },
    "id": "EUEcw0LX07oU",
    "outputId": "cfc32397-9c37-4b43-d087-584bb31c3dcc"
   },
   "outputs": [
    {
     "data": {
      "text/plain": [
       "(1, 311)"
      ]
     },
     "execution_count": 23,
     "metadata": {},
     "output_type": "execute_result"
    }
   ],
   "source": [
    "inv_yhat_without_mc.shape"
   ]
  },
  {
   "cell_type": "code",
   "execution_count": 24,
   "metadata": {
    "id": "31OWVbSh_305"
   },
   "outputs": [],
   "source": [
    "fforecast = inv_yhat_without_mc[:,-300:]"
   ]
  },
  {
   "cell_type": "code",
   "execution_count": 25,
   "metadata": {},
   "outputs": [
    {
     "data": {
      "text/plain": [
       "(1, 300)"
      ]
     },
     "execution_count": 25,
     "metadata": {},
     "output_type": "execute_result"
    }
   ],
   "source": [
    "fforecast.shape"
   ]
  },
  {
   "cell_type": "code",
   "execution_count": 26,
   "metadata": {
    "id": "BlpGH2FOAiRF"
   },
   "outputs": [],
   "source": [
    "final_forecast = fforecast[:,0:300:3]"
   ]
  },
  {
   "cell_type": "code",
   "execution_count": 27,
   "metadata": {},
   "outputs": [
    {
     "data": {
      "text/plain": [
       "(1, 300)"
      ]
     },
     "execution_count": 27,
     "metadata": {},
     "output_type": "execute_result"
    }
   ],
   "source": [
    "fforecast.shape"
   ]
  },
  {
   "cell_type": "code",
   "execution_count": 28,
   "metadata": {
    "id": "CXkgkj_LBk_t"
   },
   "outputs": [],
   "source": [
    "# code to replace all negative value with 0\n",
    "final_forecast[final_forecast<0] = 0"
   ]
  },
  {
   "cell_type": "code",
   "execution_count": 29,
   "metadata": {},
   "outputs": [
    {
     "data": {
      "text/plain": [
       "array([[6.30997899e+01, 6.28728992e+01, 6.26460084e+01, 6.24191176e+01,\n",
       "        6.95426636e+01, 1.80712970e-01, 0.00000000e+00, 1.07407700e-01,\n",
       "        0.00000000e+00, 0.00000000e+00, 5.38707200e-01, 9.61624320e-01,\n",
       "        5.06575110e-01, 6.87403361e+01, 6.86058824e+01, 6.84714286e+01,\n",
       "        6.83369748e+01, 6.82695378e+01, 6.38893791e+01, 6.37129085e+01,\n",
       "        6.35364379e+01, 6.33599673e+01, 6.31502101e+01, 6.29233193e+01,\n",
       "        6.26964286e+01, 6.24695378e+01, 6.23825163e+01, 6.10286120e-01,\n",
       "        0.00000000e+00, 7.08808823e+01, 7.08052521e+01, 7.07296219e+01,\n",
       "        7.06539916e+01, 7.05495098e+01, 7.03730392e+01, 7.01965686e+01,\n",
       "        7.00200980e+01, 6.97711485e+01, 9.45959151e-01, 0.00000000e+00,\n",
       "        1.49050057e-01, 2.55974114e-01, 0.00000000e+00, 6.80849791e-01,\n",
       "        1.21249773e-01, 0.00000000e+00, 0.00000000e+00, 6.25199580e+01,\n",
       "        6.23881186e+01, 1.30264850e-01, 0.00000000e+00, 7.08976891e+01,\n",
       "        7.08220588e+01, 7.07464286e+01, 7.06707983e+01, 7.05887255e+01,\n",
       "        7.04122549e+01, 7.02357843e+01, 7.00593137e+01, 6.98607843e+01,\n",
       "        1.86991950e-02, 6.03351235e-01, 7.06259804e+01, 7.04841503e+01,\n",
       "        7.03076797e+01, 7.01312092e+01, 6.99547386e+01, 6.96217554e+01,\n",
       "        6.92183940e+01, 6.88150327e+01, 6.84116713e+01, 0.00000000e+00,\n",
       "        1.36208210e-01, 5.93270264e+01, 0.00000000e+00, 0.00000000e+00,\n",
       "        5.85614920e-01, 0.00000000e+00, 0.00000000e+00, 3.47115099e-01,\n",
       "        7.09015198e+01, 3.28239650e-01, 0.00000000e+00, 0.00000000e+00,\n",
       "        0.00000000e+00, 6.95933253e-02, 0.00000000e+00, 0.00000000e+00,\n",
       "        0.00000000e+00, 0.00000000e+00, 2.60106474e-03, 5.87940335e-01,\n",
       "        0.00000000e+00, 2.69190073e-01, 0.00000000e+00, 0.00000000e+00,\n",
       "        2.95086533e-01, 3.56221586e-01, 5.10593235e-01, 0.00000000e+00]])"
      ]
     },
     "execution_count": 29,
     "metadata": {},
     "output_type": "execute_result"
    }
   ],
   "source": [
    "final_forecast"
   ]
  },
  {
   "cell_type": "code",
   "execution_count": 30,
   "metadata": {},
   "outputs": [
    {
     "data": {
      "text/plain": [
       "(1, 100)"
      ]
     },
     "execution_count": 30,
     "metadata": {},
     "output_type": "execute_result"
    }
   ],
   "source": [
    "final_forecast.shape"
   ]
  },
  {
   "cell_type": "code",
   "execution_count": 31,
   "metadata": {},
   "outputs": [
    {
     "data": {
      "text/plain": [
       "(100,)"
      ]
     },
     "execution_count": 31,
     "metadata": {},
     "output_type": "execute_result"
    }
   ],
   "source": [
    "test.shape"
   ]
  },
  {
   "cell_type": "code",
   "execution_count": 32,
   "metadata": {},
   "outputs": [],
   "source": [
    "training_set = np.array(training_set)\n",
    "test = np.array(test)\n",
    "final_forecast = np.array(final_forecast.squeeze(0))"
   ]
  },
  {
   "cell_type": "code",
   "execution_count": 33,
   "metadata": {},
   "outputs": [
    {
     "data": {
      "text/plain": [
       "array([55.19981554, 55.18423857, 55.16866161, 55.15308465, 55.13750769,\n",
       "       55.12193072, 55.10635376, 55.0907768 , 55.07519984, 55.05962287,\n",
       "       55.04404591, 55.02846895, 55.01289199, 54.99731502, 54.98173806,\n",
       "       54.9661611 , 54.95058414, 54.93500717, 54.91943021, 54.90385325,\n",
       "       54.88827629, 54.87269932, 54.85712236, 54.8415454 , 54.82596844,\n",
       "       54.81039147, 54.79481451, 54.77923755, 54.76366059, 54.74808362,\n",
       "       54.73250666, 54.7169297 , 54.70135274, 54.68577577, 54.67019881,\n",
       "       54.65462185, 54.63904489, 54.62346792, 54.60789096, 54.592314  ,\n",
       "       54.57673704, 54.56116007, 54.54558311, 54.53000615, 54.51442919,\n",
       "       54.49885222, 54.48327526, 54.4676983 , 54.45212134, 54.43654437,\n",
       "       54.42096741, 54.40539045, 54.38981349, 54.37423652, 54.35865956,\n",
       "       54.3430826 , 54.32750564, 54.31192867, 54.29635171, 54.28077475,\n",
       "       54.26519779, 54.24962082, 54.23404386, 54.2184669 , 54.20288994,\n",
       "       54.18731297, 54.17173601, 54.15615905, 54.14058209, 54.12500512,\n",
       "       54.10942816, 54.0938512 , 54.07827424, 54.06269727, 54.04712031,\n",
       "       54.03154335, 54.01596639, 54.00038942, 53.98481246, 53.9692355 ,\n",
       "       53.95365854, 53.93808157, 53.92250461, 53.90692765, 53.89135069,\n",
       "       53.87577372, 53.86019676, 53.8446198 , 53.82904284, 53.81346587,\n",
       "       53.79788891, 53.78231195, 53.76673499, 53.75115802, 53.73558106,\n",
       "       53.7200041 , 53.70442714, 53.68885017, 53.67327321, 53.65769625])"
      ]
     },
     "execution_count": 33,
     "metadata": {},
     "output_type": "execute_result"
    }
   ],
   "source": [
    "test"
   ]
  },
  {
   "cell_type": "code",
   "execution_count": 34,
   "metadata": {},
   "outputs": [
    {
     "data": {
      "text/plain": [
       "(100,)"
      ]
     },
     "execution_count": 34,
     "metadata": {},
     "output_type": "execute_result"
    }
   ],
   "source": [
    "test.shape"
   ]
  },
  {
   "cell_type": "code",
   "execution_count": 35,
   "metadata": {},
   "outputs": [
    {
     "data": {
      "text/plain": [
       "(100,)"
      ]
     },
     "execution_count": 35,
     "metadata": {},
     "output_type": "execute_result"
    }
   ],
   "source": [
    "final_forecast.shape"
   ]
  },
  {
   "cell_type": "code",
   "execution_count": 36,
   "metadata": {},
   "outputs": [
    {
     "data": {
      "text/plain": [
       "(100,)"
      ]
     },
     "execution_count": 36,
     "metadata": {},
     "output_type": "execute_result"
    }
   ],
   "source": [
    "test.shape"
   ]
  },
  {
   "cell_type": "code",
   "execution_count": 37,
   "metadata": {},
   "outputs": [
    {
     "name": "stdout",
     "output_type": "stream",
     "text": [
      "39.41544193024615\n",
      "33.554235214077806\n"
     ]
    }
   ],
   "source": [
    "import math\n",
    "MSE = np.square(np.subtract(np.array(test),np.array(final_forecast))).mean()   \n",
    "rsme = math.sqrt(MSE)\n",
    "print(rsme)  \n",
    "MAE = np.abs(np.subtract(np.array(test),np.array(final_forecast))).mean()   \n",
    "mae = MAE\n",
    "print(mae)"
   ]
  }
 ],
 "metadata": {
  "colab": {
   "provenance": []
  },
  "kernelspec": {
   "display_name": "Python 3",
   "language": "python",
   "name": "python3"
  },
  "language_info": {
   "codemirror_mode": {
    "name": "ipython",
    "version": 3
   },
   "file_extension": ".py",
   "mimetype": "text/x-python",
   "name": "python",
   "nbconvert_exporter": "python",
   "pygments_lexer": "ipython3",
   "version": "3.9.13"
  }
 },
 "nbformat": 4,
 "nbformat_minor": 0
}
