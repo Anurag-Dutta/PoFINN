{
 "cells": [
  {
   "cell_type": "markdown",
   "metadata": {
    "id": "pCGKeZ2gyuoQ"
   },
   "source": [
    "_Importing Required Libraries_"
   ]
  },
  {
   "cell_type": "code",
   "execution_count": 1,
   "metadata": {
    "colab": {
     "base_uri": "https://localhost:8080/"
    },
    "id": "A-6LN-zXiLcM",
    "outputId": "4de610a4-f8b8-4f49-c6c0-89de299ccedc"
   },
   "outputs": [
    {
     "name": "stdout",
     "output_type": "stream",
     "text": [
      "Requirement already satisfied: hampel in c:\\users\\anurag dutta\\appdata\\local\\packages\\pythonsoftwarefoundation.python.3.9_qbz5n2kfra8p0\\localcache\\local-packages\\python39\\site-packages (0.0.5)\n",
      "Requirement already satisfied: numpy in c:\\users\\anurag dutta\\appdata\\local\\packages\\pythonsoftwarefoundation.python.3.9_qbz5n2kfra8p0\\localcache\\local-packages\\python39\\site-packages (from hampel) (1.26.4)\n",
      "Requirement already satisfied: pandas in c:\\users\\anurag dutta\\appdata\\local\\packages\\pythonsoftwarefoundation.python.3.9_qbz5n2kfra8p0\\localcache\\local-packages\\python39\\site-packages (from hampel) (1.5.2)\n",
      "Requirement already satisfied: python-dateutil>=2.8.1 in c:\\users\\anurag dutta\\appdata\\local\\packages\\pythonsoftwarefoundation.python.3.9_qbz5n2kfra8p0\\localcache\\local-packages\\python39\\site-packages (from pandas->hampel) (2.8.2)\n",
      "Requirement already satisfied: pytz>=2020.1 in c:\\users\\anurag dutta\\appdata\\local\\packages\\pythonsoftwarefoundation.python.3.9_qbz5n2kfra8p0\\localcache\\local-packages\\python39\\site-packages (from pandas->hampel) (2023.3.post1)\n",
      "Requirement already satisfied: six>=1.5 in c:\\users\\anurag dutta\\appdata\\local\\packages\\pythonsoftwarefoundation.python.3.9_qbz5n2kfra8p0\\localcache\\local-packages\\python39\\site-packages (from python-dateutil>=2.8.1->pandas->hampel) (1.16.0)\n",
      "Note: you may need to restart the kernel to use updated packages.\n"
     ]
    },
    {
     "name": "stderr",
     "output_type": "stream",
     "text": [
      "\n",
      "[notice] A new release of pip is available: 24.2 -> 24.3.1\n",
      "[notice] To update, run: C:\\Users\\Anurag Dutta\\AppData\\Local\\Microsoft\\WindowsApps\\PythonSoftwareFoundation.Python.3.9_qbz5n2kfra8p0\\python.exe -m pip install --upgrade pip\n"
     ]
    }
   ],
   "source": [
    "pip install hampel"
   ]
  },
  {
   "cell_type": "code",
   "execution_count": 2,
   "metadata": {
    "id": "By_d9uXpaFvZ"
   },
   "outputs": [],
   "source": [
    "from keras.models import Sequential\n",
    "from keras.layers import Dense\n",
    "from keras.layers import LSTM\n",
    "from keras.layers import Dropout\n",
    "import keras\n",
    "import tensorflow as tf\n",
    "from hampel import hampel\n",
    "import numpy as np\n",
    "import matplotlib.pyplot as plt\n",
    "import pandas as pd\n",
    "from sklearn.preprocessing import MinMaxScaler\n",
    "from sklearn.metrics import mean_squared_error, mean_absolute_error\n",
    "from math import sqrt\n",
    "from matplotlib import pyplot\n",
    "from numpy import array"
   ]
  },
  {
   "cell_type": "markdown",
   "metadata": {
    "id": "JyOjBMFayuoR"
   },
   "source": [
    "## Pretraining"
   ]
  },
  {
   "cell_type": "markdown",
   "metadata": {
    "id": "-5QqIY_GyuoR"
   },
   "source": [
    "The `capa_intermittency.dat` feeds the model with the dynamics of the Capacitor"
   ]
  },
  {
   "cell_type": "code",
   "execution_count": 3,
   "metadata": {
    "id": "9dV4a8yfyuoR"
   },
   "outputs": [],
   "source": [
    "data = np.genfromtxt('capa_intermittency.dat')\n",
    "training_set = pd.DataFrame(data).reset_index(drop=True)\n",
    "training_set = training_set.iloc[:,0]"
   ]
  },
  {
   "cell_type": "markdown",
   "metadata": {
    "id": "i7easoxByuoR"
   },
   "source": [
    "## Computing the Gradient"
   ]
  },
  {
   "cell_type": "markdown",
   "metadata": {
    "id": "5SnyolJTyuoR"
   },
   "source": [
    "_Calculating the value of_ $\\frac{dx}{dt}$"
   ]
  },
  {
   "cell_type": "code",
   "execution_count": 4,
   "metadata": {
    "colab": {
     "base_uri": "https://localhost:8080/"
    },
    "id": "wmIbVfIvyuoR",
    "outputId": "aa4e3136-c854-465d-d2e9-81cfd546e440"
   },
   "outputs": [
    {
     "name": "stdout",
     "output_type": "stream",
     "text": [
      "1.0\n",
      "1        0.000298\n",
      "2        0.000298\n",
      "3        0.000297\n",
      "4        0.000297\n",
      "5        0.000297\n",
      "           ...   \n",
      "9996     0.000018\n",
      "9997     0.000018\n",
      "9998     0.000018\n",
      "9999     0.000018\n",
      "10000    0.000018\n",
      "Name: 0, Length: 10000, dtype: float64\n"
     ]
    }
   ],
   "source": [
    "t_diff = 1\n",
    "print(training_set.max())\n",
    "gradient_t = (training_set.diff()/t_diff).iloc[1:] # dx/dt\n",
    "print(gradient_t)"
   ]
  },
  {
   "cell_type": "markdown",
   "metadata": {
    "id": "_2eVeeoxyuoS"
   },
   "source": [
    "## Loading Datasets"
   ]
  },
  {
   "cell_type": "code",
   "execution_count": null,
   "metadata": {
    "id": "0J-NKyIEyuoS"
   },
   "outputs": [
    {
     "data": {
      "text/plain": [
       "0       90.500000\n",
       "1       90.275910\n",
       "2       90.051821\n",
       "3       89.827731\n",
       "4       89.603641\n",
       "          ...    \n",
       "1895    64.057306\n",
       "1896    64.033964\n",
       "1897    64.010621\n",
       "1898    63.987278\n",
       "1899    63.963936\n",
       "Name: C2, Length: 1900, dtype: float64"
      ]
     },
     "execution_count": 5,
     "metadata": {},
     "output_type": "execute_result"
    }
   ],
   "source": [
    "data = pd.read_csv(\"c2_interpolated_1800_100.csv\")\n",
    "training_set = data.iloc[:, 1]\n",
    "training_set"
   ]
  },
  {
   "cell_type": "code",
   "execution_count": 6,
   "metadata": {
    "colab": {
     "base_uri": "https://localhost:8080/"
    },
    "id": "-CbNUhJ74UqF",
    "outputId": "20f562d8-8247-49cc-b9c3-00eca5e13e2d"
   },
   "outputs": [
    {
     "data": {
      "text/plain": [
       "0       90.500000\n",
       "1       90.275910\n",
       "2       90.051821\n",
       "3       89.827731\n",
       "4       89.603641\n",
       "          ...    \n",
       "1795     0.000000\n",
       "1796     0.079379\n",
       "1797     0.000000\n",
       "1798     0.545893\n",
       "1799     0.000000\n",
       "Name: C2, Length: 1800, dtype: float64"
      ]
     },
     "execution_count": 6,
     "metadata": {},
     "output_type": "execute_result"
    }
   ],
   "source": [
    "test = training_set.tail(100)\n",
    "test\n",
    "training_set = training_set.head(1800)\n",
    "training_set"
   ]
  },
  {
   "cell_type": "code",
   "execution_count": 7,
   "metadata": {
    "colab": {
     "base_uri": "https://localhost:8080/"
    },
    "id": "X0TwTcq0yuoS",
    "outputId": "37252ed8-d88e-4044-fa7a-922411990b5b"
   },
   "outputs": [
    {
     "name": "stdout",
     "output_type": "stream",
     "text": [
      "0       0.000298\n",
      "1       0.000298\n",
      "2       0.000297\n",
      "3       0.000297\n",
      "4       0.000297\n",
      "          ...   \n",
      "9995    0.000018\n",
      "9996    0.000018\n",
      "9997    0.000018\n",
      "9998    0.000018\n",
      "9999    0.000018\n",
      "Name: 0, Length: 10000, dtype: float64\n"
     ]
    }
   ],
   "source": [
    "training_set = training_set.reset_index(drop=True)\n",
    "gradient_t = gradient_t.reset_index(drop=True)\n",
    "print(gradient_t)"
   ]
  },
  {
   "cell_type": "code",
   "execution_count": 8,
   "metadata": {
    "id": "O2biznZQyuoS"
   },
   "outputs": [],
   "source": [
    "df = pd.concat((training_set, gradient_t), axis=1)\n",
    "df.columns = ['y_t', 'grad_t']"
   ]
  },
  {
   "cell_type": "code",
   "execution_count": 9,
   "metadata": {
    "colab": {
     "base_uri": "https://localhost:8080/",
     "height": 423
    },
    "id": "sk_a5v3tyuoS",
    "outputId": "17563625-e550-45ae-faab-fafa353e44da"
   },
   "outputs": [
    {
     "data": {
      "text/html": [
       "<div>\n",
       "<style scoped>\n",
       "    .dataframe tbody tr th:only-of-type {\n",
       "        vertical-align: middle;\n",
       "    }\n",
       "\n",
       "    .dataframe tbody tr th {\n",
       "        vertical-align: top;\n",
       "    }\n",
       "\n",
       "    .dataframe thead th {\n",
       "        text-align: right;\n",
       "    }\n",
       "</style>\n",
       "<table border=\"1\" class=\"dataframe\">\n",
       "  <thead>\n",
       "    <tr style=\"text-align: right;\">\n",
       "      <th></th>\n",
       "      <th>y_t</th>\n",
       "      <th>grad_t</th>\n",
       "    </tr>\n",
       "  </thead>\n",
       "  <tbody>\n",
       "    <tr>\n",
       "      <th>0</th>\n",
       "      <td>90.500000</td>\n",
       "      <td>0.000298</td>\n",
       "    </tr>\n",
       "    <tr>\n",
       "      <th>1</th>\n",
       "      <td>90.275910</td>\n",
       "      <td>0.000298</td>\n",
       "    </tr>\n",
       "    <tr>\n",
       "      <th>2</th>\n",
       "      <td>90.051821</td>\n",
       "      <td>0.000297</td>\n",
       "    </tr>\n",
       "    <tr>\n",
       "      <th>3</th>\n",
       "      <td>89.827731</td>\n",
       "      <td>0.000297</td>\n",
       "    </tr>\n",
       "    <tr>\n",
       "      <th>4</th>\n",
       "      <td>89.603641</td>\n",
       "      <td>0.000297</td>\n",
       "    </tr>\n",
       "    <tr>\n",
       "      <th>...</th>\n",
       "      <td>...</td>\n",
       "      <td>...</td>\n",
       "    </tr>\n",
       "    <tr>\n",
       "      <th>9995</th>\n",
       "      <td>NaN</td>\n",
       "      <td>0.000018</td>\n",
       "    </tr>\n",
       "    <tr>\n",
       "      <th>9996</th>\n",
       "      <td>NaN</td>\n",
       "      <td>0.000018</td>\n",
       "    </tr>\n",
       "    <tr>\n",
       "      <th>9997</th>\n",
       "      <td>NaN</td>\n",
       "      <td>0.000018</td>\n",
       "    </tr>\n",
       "    <tr>\n",
       "      <th>9998</th>\n",
       "      <td>NaN</td>\n",
       "      <td>0.000018</td>\n",
       "    </tr>\n",
       "    <tr>\n",
       "      <th>9999</th>\n",
       "      <td>NaN</td>\n",
       "      <td>0.000018</td>\n",
       "    </tr>\n",
       "  </tbody>\n",
       "</table>\n",
       "<p>10000 rows × 2 columns</p>\n",
       "</div>"
      ],
      "text/plain": [
       "            y_t    grad_t\n",
       "0     90.500000  0.000298\n",
       "1     90.275910  0.000298\n",
       "2     90.051821  0.000297\n",
       "3     89.827731  0.000297\n",
       "4     89.603641  0.000297\n",
       "...         ...       ...\n",
       "9995        NaN  0.000018\n",
       "9996        NaN  0.000018\n",
       "9997        NaN  0.000018\n",
       "9998        NaN  0.000018\n",
       "9999        NaN  0.000018\n",
       "\n",
       "[10000 rows x 2 columns]"
      ]
     },
     "execution_count": 9,
     "metadata": {},
     "output_type": "execute_result"
    }
   ],
   "source": [
    "df"
   ]
  },
  {
   "cell_type": "markdown",
   "metadata": {
    "id": "-5esyHu5aFvg"
   },
   "source": [
    "## Plot of the External Forcing from Chaotic Differential Equation"
   ]
  },
  {
   "cell_type": "code",
   "execution_count": 10,
   "metadata": {
    "colab": {
     "base_uri": "https://localhost:8080/",
     "height": 447
    },
    "id": "hGnE43tOh-4p",
    "outputId": "fc396503-b624-4fa5-dfbe-f460207405c6"
   },
   "outputs": [
    {
     "data": {
      "text/plain": [
       "<Axes: >"
      ]
     },
     "execution_count": 10,
     "metadata": {},
     "output_type": "execute_result"
    },
    {
     "data": {
      "image/png": "[encoded data removed]",
      "text/plain": [
       "<Figure size 432x288 with 1 Axes>"
      ]
     },
     "metadata": {
      "needs_background": "light"
     },
     "output_type": "display_data"
    }
   ],
   "source": [
    "df.iloc[:, 0].plot()"
   ]
  },
  {
   "cell_type": "code",
   "execution_count": 11,
   "metadata": {
    "colab": {
     "base_uri": "https://localhost:8080/",
     "height": 447
    },
    "id": "ym4xWUUxaFvg",
    "outputId": "ae6a3495-8ce9-437e-ba81-3ed31deedeae"
   },
   "outputs": [
    {
     "name": "stderr",
     "output_type": "stream",
     "text": [
      "C:\\Users\\Anurag Dutta\\AppData\\Local\\Packages\\PythonSoftwareFoundation.Python.3.9_qbz5n2kfra8p0\\LocalCache\\local-packages\\Python39\\site-packages\\pandas\\core\\arraylike.py:402: RuntimeWarning: divide by zero encountered in log\n",
      "  result = getattr(ufunc, method)(*inputs, **kwargs)\n"
     ]
    },
    {
     "data": {
      "text/plain": [
       "<Axes: >"
      ]
     },
     "execution_count": 11,
     "metadata": {},
     "output_type": "execute_result"
    },
    {
     "data": {
      "image/png": "[encoded data removed]",
      "text/plain": [
       "<Figure size 432x288 with 1 Axes>"
      ]
     },
     "metadata": {
      "needs_background": "light"
     },
     "output_type": "display_data"
    }
   ],
   "source": [
    "import numpy as np\n",
    "c0 = 88.1552  # Value for C0\n",
    "K0 = -0.0026  # Value for K0\n",
    "K1 = -0.0004  # Value for K1\n",
    "a = 0.0000    # Value for a\n",
    "b = 0.0102    # Value for b\n",
    "c = 2.8734    # Value for c\n",
    "\n",
    "L = np.minimum(c0, (df.iloc[:, 1] - (df.iloc[:, 0] * (K0 - K1 * (9 * a * np.log(df.iloc[:, 0] / c0) / (K0 - K1 * c)**2 + 4 * b * np.log(df.iloc[:, 0] / c0) / (K0 - K1 * c) + c)))))\n",
    "L.plot()"
   ]
  },
  {
   "cell_type": "markdown",
   "metadata": {
    "id": "9VyEywnwaFvh"
   },
   "source": [
    "## Preprocessing the data into supervised learning"
   ]
  },
  {
   "cell_type": "code",
   "execution_count": 12,
   "metadata": {
    "id": "6V9dXqzdaFvh"
   },
   "outputs": [],
   "source": [
    "# split a sequence into samples\n",
    "def Supervised(data, n_in=1, n_out=1, dropnan=True):\n",
    "    n_vars = 1 if type(data) is list else data.shape[1]\n",
    "    df = pd.DataFrame(data)\n",
    "    cols, names = list(), list()\n",
    "    # input sequence (t-n_in, ... t-1)\n",
    "    for i in range(n_in, 0, -1):\n",
    "        cols.append(df.shift(i))\n",
    "        names += [('var%d(t-%d)' % (j+1, i)) for j in range(n_vars)]\n",
    "    # forecast sequence (t, t+1, ... t+n_out)\n",
    "    for i in range(0, n_out):\n",
    "      cols.append(df.shift(-i))\n",
    "      if i == 0:\n",
    "        names += [('var%d(t)' % (j+1)) for j in range(n_vars)]\n",
    "      else:\n",
    "        names += [('var%d(t+%d)' % (j+1, i)) for j in range(n_vars)]\n",
    "    # put it all together\n",
    "    agg = pd.concat(cols, axis=1)\n",
    "    agg.columns = names\n",
    "    # drop rows with NaN values\n",
    "    if dropnan:\n",
    "       agg.dropna(inplace=True)\n",
    "    return agg"
   ]
  },
  {
   "cell_type": "code",
   "execution_count": 13,
   "metadata": {
    "colab": {
     "base_uri": "https://localhost:8080/"
    },
    "id": "CrzSrT1HnyfH",
    "outputId": "7e75f928-3e47-499d-eac1-51908015ef78"
   },
   "outputs": [
    {
     "name": "stdout",
     "output_type": "stream",
     "text": [
      "     var1(t-350)  var1(t-349)  var1(t-348)  var1(t-347)  var1(t-346)  \\\n",
      "350    90.500000    90.275910    90.051821    89.827731    89.603641   \n",
      "351    90.275910    90.051821    89.827731    89.603641    89.379552   \n",
      "352    90.051821    89.827731    89.603641    89.379552    89.155462   \n",
      "353    89.827731    89.603641    89.379552    89.155462    88.931373   \n",
      "354    89.603641    89.379552    89.155462    88.931373    88.707283   \n",
      "\n",
      "     var1(t-345)  var1(t-344)  var1(t-343)  var1(t-342)  var1(t-341)  ...  \\\n",
      "350    89.379552    89.155462    88.931373    88.707283    88.494958  ...   \n",
      "351    89.155462    88.931373    88.707283    88.494958    88.427731  ...   \n",
      "352    88.931373    88.707283    88.494958    88.427731    88.360504  ...   \n",
      "353    88.707283    88.494958    88.427731    88.360504    88.293277  ...   \n",
      "354    88.494958    88.427731    88.360504    88.293277    88.226050  ...   \n",
      "\n",
      "     var1(t+95)  var2(t+95)  var1(t+96)  var2(t+96)  var1(t+97)  var2(t+97)  \\\n",
      "350   79.071008    0.000263   79.054202    0.000263   79.037395    0.000263   \n",
      "351   79.054202    0.000263   79.037395    0.000263   79.020588    0.000262   \n",
      "352   79.037395    0.000263   79.020588    0.000262   79.003782    0.000262   \n",
      "353   79.020588    0.000262   79.003782    0.000262   78.986975    0.000262   \n",
      "354   79.003782    0.000262   78.986975    0.000262   78.970168    0.000262   \n",
      "\n",
      "     var1(t+98)  var2(t+98)  var1(t+99)  var2(t+99)  \n",
      "350   79.020588    0.000262   79.003782    0.000262  \n",
      "351   79.003782    0.000262   78.986975    0.000262  \n",
      "352   78.986975    0.000262   78.970168    0.000262  \n",
      "353   78.970168    0.000262   78.953361    0.000262  \n",
      "354   78.953361    0.000262   78.936555    0.000262  \n",
      "\n",
      "[5 rows x 551 columns]\n",
      "Index(['var1(t-350)', 'var1(t-349)', 'var1(t-348)', 'var1(t-347)',\n",
      "       'var1(t-346)', 'var1(t-345)', 'var1(t-344)', 'var1(t-343)',\n",
      "       'var1(t-342)', 'var1(t-341)',\n",
      "       ...\n",
      "       'var1(t+95)', 'var2(t+95)', 'var1(t+96)', 'var2(t+96)', 'var1(t+97)',\n",
      "       'var2(t+97)', 'var1(t+98)', 'var2(t+98)', 'var1(t+99)', 'var2(t+99)'],\n",
      "      dtype='object', length=551)\n"
     ]
    }
   ],
   "source": [
    "data = Supervised(df.values, n_in = 350, n_out = 100)\n",
    "\n",
    "\n",
    "cols_to_drop = []\n",
    "for i in range(2, 351):\n",
    "    cols_to_drop.extend([f'var2(t-{i})'])\n",
    "\n",
    "data.drop(cols_to_drop, axis=1, inplace=True)\n",
    "\n",
    "print(data.head())\n",
    "print(data.columns)"
   ]
  },
  {
   "cell_type": "code",
   "execution_count": 14,
   "metadata": {
    "id": "AfPf60oy6Pe4"
   },
   "outputs": [],
   "source": [
    "train = np.array(data[0:len(data)-1])\n",
    "forecast = np.array(data.tail(1))"
   ]
  },
  {
   "cell_type": "code",
   "execution_count": 15,
   "metadata": {
    "id": "WSAafzI37KiT"
   },
   "outputs": [],
   "source": [
    "trainy = train[:,-300:]\n",
    "trainX = train[:,:-300]"
   ]
  },
  {
   "cell_type": "code",
   "execution_count": 16,
   "metadata": {
    "id": "2SrOqVJA7f50"
   },
   "outputs": [],
   "source": [
    "forecasty = forecast[:,-300:]\n",
    "forecastX = forecast[:,:-300]"
   ]
  },
  {
   "cell_type": "code",
   "execution_count": 17,
   "metadata": {
    "colab": {
     "base_uri": "https://localhost:8080/"
    },
    "id": "Qno_k8Nw7saY",
    "outputId": "c4a88db5-d8c6-489f-cdb2-06b24e293cff"
   },
   "outputs": [
    {
     "name": "stdout",
     "output_type": "stream",
     "text": [
      "(1350, 1, 251) (1350, 300) (1, 1, 251)\n"
     ]
    }
   ],
   "source": [
    "trainX = trainX.reshape((trainX.shape[0], 1, trainX.shape[1]))\n",
    "forecastX = forecastX.reshape((forecastX.shape[0], 1, forecastX.shape[1]))\n",
    "print(trainX.shape, trainy.shape, forecastX.shape)"
   ]
  },
  {
   "cell_type": "code",
   "execution_count": 18,
   "metadata": {
    "colab": {
     "base_uri": "https://localhost:8080/"
    },
    "id": "b1Jp2DvNuNFx",
    "outputId": "d0e5b3c4-64f1-438c-eade-8dfeaac8e285"
   },
   "outputs": [
    {
     "name": "stdout",
     "output_type": "stream",
     "text": [
      "Epoch 1/500\n",
      "17/17 [==============================] - 2s 30ms/step - loss: 5572.9824 - val_loss: 4103.0288\n",
      "Epoch 2/500\n",
      "17/17 [==============================] - 0s 4ms/step - loss: 5481.8569 - val_loss: 4059.3777\n",
      "Epoch 3/500\n",
      "17/17 [==============================] - 0s 4ms/step - loss: 5429.3535 - val_loss: 4015.9519\n",
      "Epoch 4/500\n",
      "17/17 [==============================] - 0s 4ms/step - loss: 5377.2466 - val_loss: 3972.9629\n",
      "Epoch 5/500\n",
      "17/17 [==============================] - 0s 4ms/step - loss: 5325.6177 - val_loss: 3930.3987\n",
      "Epoch 6/500\n",
      "17/17 [==============================] - 0s 4ms/step - loss: 5272.4956 - val_loss: 3877.9590\n",
      "Epoch 7/500\n",
      "17/17 [==============================] - 0s 4ms/step - loss: 5209.5835 - val_loss: 3833.1138\n",
      "Epoch 8/500\n",
      "17/17 [==============================] - 0s 4ms/step - loss: 5155.5405 - val_loss: 3788.8425\n",
      "Epoch 9/500\n",
      "17/17 [==============================] - 0s 4ms/step - loss: 5102.3354 - val_loss: 3745.3254\n",
      "Epoch 10/500\n",
      "17/17 [==============================] - 0s 4ms/step - loss: 5049.9209 - val_loss: 3702.4336\n",
      "Epoch 11/500\n",
      "17/17 [==============================] - 0s 4ms/step - loss: 4998.1582 - val_loss: 3660.0771\n",
      "Epoch 12/500\n",
      "17/17 [==============================] - 0s 4ms/step - loss: 4946.9619 - val_loss: 3618.2007\n",
      "Epoch 13/500\n",
      "17/17 [==============================] - 0s 4ms/step - loss: 4896.2778 - val_loss: 3576.7693\n",
      "Epoch 14/500\n",
      "17/17 [==============================] - 0s 4ms/step - loss: 4846.0703 - val_loss: 3535.7600\n",
      "Epoch 15/500\n",
      "17/17 [==============================] - 0s 4ms/step - loss: 4796.3174 - val_loss: 3495.1570\n",
      "Epoch 16/500\n",
      "17/17 [==============================] - 0s 4ms/step - loss: 4746.9990 - val_loss: 3454.9451\n",
      "Epoch 17/500\n",
      "17/17 [==============================] - 0s 4ms/step - loss: 4698.1025 - val_loss: 3415.1157\n",
      "Epoch 18/500\n",
      "17/17 [==============================] - 0s 5ms/step - loss: 4649.6182 - val_loss: 3375.6606\n",
      "Epoch 19/500\n",
      "17/17 [==============================] - 0s 4ms/step - loss: 4601.5356 - val_loss: 3336.5725\n",
      "Epoch 20/500\n",
      "17/17 [==============================] - 0s 5ms/step - loss: 4553.8491 - val_loss: 3297.8462\n",
      "Epoch 21/500\n",
      "17/17 [==============================] - 0s 5ms/step - loss: 4506.5513 - val_loss: 3259.4758\n",
      "Epoch 22/500\n",
      "17/17 [==============================] - 0s 4ms/step - loss: 4459.6377 - val_loss: 3221.4575\n",
      "Epoch 23/500\n",
      "17/17 [==============================] - 0s 4ms/step - loss: 4413.1016 - val_loss: 3183.7866\n",
      "Epoch 24/500\n",
      "17/17 [==============================] - 0s 5ms/step - loss: 4366.9395 - val_loss: 3146.4590\n",
      "Epoch 25/500\n",
      "17/17 [==============================] - 0s 4ms/step - loss: 4321.1470 - val_loss: 3109.4712\n",
      "Epoch 26/500\n",
      "17/17 [==============================] - 0s 5ms/step - loss: 4275.7217 - val_loss: 3072.8208\n",
      "Epoch 27/500\n",
      "17/17 [==============================] - 0s 4ms/step - loss: 4230.6587 - val_loss: 3036.5039\n",
      "Epoch 28/500\n",
      "17/17 [==============================] - 0s 4ms/step - loss: 4185.9546 - val_loss: 3000.5183\n",
      "Epoch 29/500\n",
      "17/17 [==============================] - 0s 4ms/step - loss: 4141.6064 - val_loss: 2964.8596\n",
      "Epoch 30/500\n",
      "17/17 [==============================] - 0s 4ms/step - loss: 4097.6118 - val_loss: 2929.5269\n",
      "Epoch 31/500\n",
      "17/17 [==============================] - 0s 4ms/step - loss: 4053.9670 - val_loss: 2894.5171\n",
      "Epoch 32/500\n",
      "17/17 [==============================] - 0s 4ms/step - loss: 4010.6699 - val_loss: 2859.8274\n",
      "Epoch 33/500\n",
      "17/17 [==============================] - 0s 5ms/step - loss: 3967.7180 - val_loss: 2825.4548\n",
      "Epoch 34/500\n",
      "17/17 [==============================] - 0s 5ms/step - loss: 3925.1079 - val_loss: 2791.3987\n",
      "Epoch 35/500\n",
      "17/17 [==============================] - 0s 5ms/step - loss: 3882.8376 - val_loss: 2757.6550\n",
      "Epoch 36/500\n",
      "17/17 [==============================] - 0s 4ms/step - loss: 3840.9050 - val_loss: 2724.2229\n",
      "Epoch 37/500\n",
      "17/17 [==============================] - 0s 4ms/step - loss: 3799.3074 - val_loss: 2691.0996\n",
      "Epoch 38/500\n",
      "17/17 [==============================] - 0s 6ms/step - loss: 3758.0420 - val_loss: 2658.2822\n",
      "Epoch 39/500\n",
      "17/17 [==============================] - 0s 6ms/step - loss: 3717.1086 - val_loss: 2625.7693\n",
      "Epoch 40/500\n",
      "17/17 [==============================] - 0s 5ms/step - loss: 3676.5022 - val_loss: 2593.5596\n",
      "Epoch 41/500\n",
      "17/17 [==============================] - 0s 4ms/step - loss: 3636.2219 - val_loss: 2561.6499\n",
      "Epoch 42/500\n",
      "17/17 [==============================] - 0s 4ms/step - loss: 3596.2659 - val_loss: 2530.0388\n",
      "Epoch 43/500\n",
      "17/17 [==============================] - 0s 4ms/step - loss: 3556.6318 - val_loss: 2498.7244\n",
      "Epoch 44/500\n",
      "17/17 [==============================] - 0s 5ms/step - loss: 3517.3176 - val_loss: 2467.7043\n",
      "Epoch 45/500\n",
      "17/17 [==============================] - 0s 5ms/step - loss: 3478.3213 - val_loss: 2436.9775\n",
      "Epoch 46/500\n",
      "17/17 [==============================] - 0s 4ms/step - loss: 3439.6411 - val_loss: 2406.5413\n",
      "Epoch 47/500\n",
      "17/17 [==============================] - 0s 5ms/step - loss: 3401.2742 - val_loss: 2376.3936\n",
      "Epoch 48/500\n",
      "17/17 [==============================] - 0s 4ms/step - loss: 3363.2197 - val_loss: 2346.5332\n",
      "Epoch 49/500\n",
      "17/17 [==============================] - 0s 5ms/step - loss: 3325.4744 - val_loss: 2316.9573\n",
      "Epoch 50/500\n",
      "17/17 [==============================] - 0s 6ms/step - loss: 3288.0378 - val_loss: 2287.6658\n",
      "Epoch 51/500\n",
      "17/17 [==============================] - 0s 6ms/step - loss: 3250.9080 - val_loss: 2258.6555\n",
      "Epoch 52/500\n",
      "17/17 [==============================] - 0s 4ms/step - loss: 3214.0815 - val_loss: 2229.9255\n",
      "Epoch 53/500\n",
      "17/17 [==============================] - 0s 4ms/step - loss: 3177.5583 - val_loss: 2201.4731\n",
      "Epoch 54/500\n",
      "17/17 [==============================] - 0s 4ms/step - loss: 3141.3357 - val_loss: 2173.2981\n",
      "Epoch 55/500\n",
      "17/17 [==============================] - 0s 4ms/step - loss: 3105.4126 - val_loss: 2145.3972\n",
      "Epoch 56/500\n",
      "17/17 [==============================] - 0s 4ms/step - loss: 3069.7856 - val_loss: 2117.7700\n",
      "Epoch 57/500\n",
      "17/17 [==============================] - 0s 5ms/step - loss: 3034.4543 - val_loss: 2090.4133\n",
      "Epoch 58/500\n",
      "17/17 [==============================] - 0s 4ms/step - loss: 2999.4172 - val_loss: 2063.3269\n",
      "Epoch 59/500\n",
      "17/17 [==============================] - 0s 5ms/step - loss: 2964.6716 - val_loss: 2036.5085\n",
      "Epoch 60/500\n",
      "17/17 [==============================] - 0s 6ms/step - loss: 2930.2168 - val_loss: 2009.9563\n",
      "Epoch 61/500\n",
      "17/17 [==============================] - 0s 5ms/step - loss: 2896.0498 - val_loss: 1983.6686\n",
      "Epoch 62/500\n",
      "17/17 [==============================] - 0s 6ms/step - loss: 2862.1697 - val_loss: 1957.6444\n",
      "Epoch 63/500\n",
      "17/17 [==============================] - 0s 7ms/step - loss: 2828.5750 - val_loss: 1931.8813\n",
      "Epoch 64/500\n",
      "17/17 [==============================] - 0s 9ms/step - loss: 2795.2639 - val_loss: 1906.3784\n",
      "Epoch 65/500\n",
      "17/17 [==============================] - 0s 6ms/step - loss: 2762.2346 - val_loss: 1881.1339\n",
      "Epoch 66/500\n",
      "17/17 [==============================] - 0s 5ms/step - loss: 2729.4854 - val_loss: 1856.1461\n",
      "Epoch 67/500\n",
      "17/17 [==============================] - 0s 5ms/step - loss: 2697.0154 - val_loss: 1831.4144\n",
      "Epoch 68/500\n",
      "17/17 [==============================] - 0s 4ms/step - loss: 2664.8223 - val_loss: 1806.9358\n",
      "Epoch 69/500\n",
      "17/17 [==============================] - 0s 5ms/step - loss: 2632.9043 - val_loss: 1782.7091\n",
      "Epoch 70/500\n",
      "17/17 [==============================] - 0s 4ms/step - loss: 2601.2605 - val_loss: 1758.7333\n",
      "Epoch 71/500\n",
      "17/17 [==============================] - 0s 4ms/step - loss: 2569.8892 - val_loss: 1735.0072\n",
      "Epoch 72/500\n",
      "17/17 [==============================] - 0s 3ms/step - loss: 2538.7881 - val_loss: 1711.5283\n",
      "Epoch 73/500\n",
      "17/17 [==============================] - 0s 4ms/step - loss: 2507.9573 - val_loss: 1688.2953\n",
      "Epoch 74/500\n",
      "17/17 [==============================] - 0s 4ms/step - loss: 2477.3926 - val_loss: 1665.3070\n",
      "Epoch 75/500\n",
      "17/17 [==============================] - 0s 4ms/step - loss: 2447.0952 - val_loss: 1642.5619\n",
      "Epoch 76/500\n",
      "17/17 [==============================] - 0s 4ms/step - loss: 2417.0618 - val_loss: 1620.0588\n",
      "Epoch 77/500\n",
      "17/17 [==============================] - 0s 4ms/step - loss: 2387.2917 - val_loss: 1597.7955\n",
      "Epoch 78/500\n",
      "17/17 [==============================] - 0s 5ms/step - loss: 2357.7834 - val_loss: 1575.7717\n",
      "Epoch 79/500\n",
      "17/17 [==============================] - 0s 5ms/step - loss: 2328.5352 - val_loss: 1553.9843\n",
      "Epoch 80/500\n",
      "17/17 [==============================] - 0s 4ms/step - loss: 2299.5461 - val_loss: 1532.4335\n",
      "Epoch 81/500\n",
      "17/17 [==============================] - 0s 4ms/step - loss: 2270.8137 - val_loss: 1511.1172\n",
      "Epoch 82/500\n",
      "17/17 [==============================] - 0s 6ms/step - loss: 2242.3372 - val_loss: 1490.0337\n",
      "Epoch 83/500\n",
      "17/17 [==============================] - 0s 6ms/step - loss: 2214.1152 - val_loss: 1469.1818\n",
      "Epoch 84/500\n",
      "17/17 [==============================] - 0s 4ms/step - loss: 2186.1453 - val_loss: 1448.5596\n",
      "Epoch 85/500\n",
      "17/17 [==============================] - 0s 5ms/step - loss: 2158.4270 - val_loss: 1428.1671\n",
      "Epoch 86/500\n",
      "17/17 [==============================] - 0s 4ms/step - loss: 2130.9590 - val_loss: 1408.0016\n",
      "Epoch 87/500\n",
      "17/17 [==============================] - 0s 4ms/step - loss: 2103.7400 - val_loss: 1388.0629\n",
      "Epoch 88/500\n",
      "17/17 [==============================] - 0s 3ms/step - loss: 2076.7676 - val_loss: 1368.3474\n",
      "Epoch 89/500\n",
      "17/17 [==============================] - 0s 4ms/step - loss: 2050.0410 - val_loss: 1348.8564\n",
      "Epoch 90/500\n",
      "17/17 [==============================] - 0s 5ms/step - loss: 2023.5591 - val_loss: 1329.5874\n",
      "Epoch 91/500\n",
      "17/17 [==============================] - 0s 5ms/step - loss: 1997.3199 - val_loss: 1310.5386\n",
      "Epoch 92/500\n",
      "17/17 [==============================] - 0s 5ms/step - loss: 1971.3226 - val_loss: 1291.7089\n",
      "Epoch 93/500\n",
      "17/17 [==============================] - 0s 7ms/step - loss: 1945.5656 - val_loss: 1273.0978\n",
      "Epoch 94/500\n",
      "17/17 [==============================] - 0s 7ms/step - loss: 1920.0471 - val_loss: 1254.7025\n",
      "Epoch 95/500\n",
      "17/17 [==============================] - 0s 6ms/step - loss: 1894.7662 - val_loss: 1236.5226\n",
      "Epoch 96/500\n",
      "17/17 [==============================] - 0s 4ms/step - loss: 1869.7220 - val_loss: 1218.5569\n",
      "Epoch 97/500\n",
      "17/17 [==============================] - 0s 5ms/step - loss: 1844.9122 - val_loss: 1200.8035\n",
      "Epoch 98/500\n",
      "17/17 [==============================] - 0s 4ms/step - loss: 1820.3359 - val_loss: 1183.2616\n",
      "Epoch 99/500\n",
      "17/17 [==============================] - 0s 3ms/step - loss: 1795.9922 - val_loss: 1165.9293\n",
      "Epoch 100/500\n",
      "17/17 [==============================] - 0s 3ms/step - loss: 1771.8790 - val_loss: 1148.8060\n",
      "Epoch 101/500\n",
      "17/17 [==============================] - 0s 4ms/step - loss: 1747.9952 - val_loss: 1131.8898\n",
      "Epoch 102/500\n",
      "17/17 [==============================] - 0s 4ms/step - loss: 1724.3396 - val_loss: 1115.1794\n",
      "Epoch 103/500\n",
      "17/17 [==============================] - 0s 3ms/step - loss: 1700.9111 - val_loss: 1098.6742\n",
      "Epoch 104/500\n",
      "17/17 [==============================] - 0s 4ms/step - loss: 1677.7085 - val_loss: 1082.3728\n",
      "Epoch 105/500\n",
      "17/17 [==============================] - 0s 4ms/step - loss: 1654.7305 - val_loss: 1066.2734\n",
      "Epoch 106/500\n",
      "17/17 [==============================] - 0s 4ms/step - loss: 1631.9752 - val_loss: 1050.3745\n",
      "Epoch 107/500\n",
      "17/17 [==============================] - 0s 4ms/step - loss: 1609.4418 - val_loss: 1034.6754\n",
      "Epoch 108/500\n",
      "17/17 [==============================] - 0s 3ms/step - loss: 1587.1288 - val_loss: 1019.1751\n",
      "Epoch 109/500\n",
      "17/17 [==============================] - 0s 4ms/step - loss: 1565.0353 - val_loss: 1003.8716\n",
      "Epoch 110/500\n",
      "17/17 [==============================] - 0s 4ms/step - loss: 1543.1595 - val_loss: 988.7640\n",
      "Epoch 111/500\n",
      "17/17 [==============================] - 0s 6ms/step - loss: 1521.5009 - val_loss: 973.8516\n",
      "Epoch 112/500\n",
      "17/17 [==============================] - 0s 6ms/step - loss: 1500.0573 - val_loss: 959.1316\n",
      "Epoch 113/500\n",
      "17/17 [==============================] - 0s 5ms/step - loss: 1478.8282 - val_loss: 944.6044\n",
      "Epoch 114/500\n",
      "17/17 [==============================] - 0s 4ms/step - loss: 1457.8123 - val_loss: 930.2681\n",
      "Epoch 115/500\n",
      "17/17 [==============================] - 0s 4ms/step - loss: 1437.0079 - val_loss: 916.1213\n",
      "Epoch 116/500\n",
      "17/17 [==============================] - 0s 4ms/step - loss: 1416.4141 - val_loss: 902.1629\n",
      "Epoch 117/500\n",
      "17/17 [==============================] - 0s 4ms/step - loss: 1396.0294 - val_loss: 888.3917\n",
      "Epoch 118/500\n",
      "17/17 [==============================] - 0s 4ms/step - loss: 1375.8530 - val_loss: 874.8066\n",
      "Epoch 119/500\n",
      "17/17 [==============================] - 0s 4ms/step - loss: 1355.8835 - val_loss: 861.4063\n",
      "Epoch 120/500\n",
      "17/17 [==============================] - 0s 5ms/step - loss: 1336.1195 - val_loss: 848.1891\n",
      "Epoch 121/500\n",
      "17/17 [==============================] - 0s 4ms/step - loss: 1316.5604 - val_loss: 835.1546\n",
      "Epoch 122/500\n",
      "17/17 [==============================] - 0s 3ms/step - loss: 1297.2040 - val_loss: 822.3008\n",
      "Epoch 123/500\n",
      "17/17 [==============================] - 0s 3ms/step - loss: 1278.0499 - val_loss: 809.6270\n",
      "Epoch 124/500\n",
      "17/17 [==============================] - 0s 4ms/step - loss: 1259.0963 - val_loss: 797.1320\n",
      "Epoch 125/500\n",
      "17/17 [==============================] - 0s 4ms/step - loss: 1240.3427 - val_loss: 784.8145\n",
      "Epoch 126/500\n",
      "17/17 [==============================] - 0s 4ms/step - loss: 1221.7872 - val_loss: 772.6736\n",
      "Epoch 127/500\n",
      "17/17 [==============================] - 0s 3ms/step - loss: 1203.4293 - val_loss: 760.7070\n",
      "Epoch 128/500\n",
      "17/17 [==============================] - 0s 3ms/step - loss: 1185.2675 - val_loss: 748.9150\n",
      "Epoch 129/500\n",
      "17/17 [==============================] - 0s 4ms/step - loss: 1167.3005 - val_loss: 737.2955\n",
      "Epoch 130/500\n",
      "17/17 [==============================] - 0s 4ms/step - loss: 1149.5273 - val_loss: 725.8475\n",
      "Epoch 131/500\n",
      "17/17 [==============================] - 0s 4ms/step - loss: 1131.9468 - val_loss: 714.5698\n",
      "Epoch 132/500\n",
      "17/17 [==============================] - 0s 4ms/step - loss: 1114.5577 - val_loss: 703.4609\n",
      "Epoch 133/500\n",
      "17/17 [==============================] - 0s 4ms/step - loss: 1097.3586 - val_loss: 692.5203\n",
      "Epoch 134/500\n",
      "17/17 [==============================] - 0s 4ms/step - loss: 1080.3489 - val_loss: 681.7466\n",
      "Epoch 135/500\n",
      "17/17 [==============================] - 0s 4ms/step - loss: 1063.5267 - val_loss: 671.1377\n",
      "Epoch 136/500\n",
      "17/17 [==============================] - 0s 4ms/step - loss: 1046.8914 - val_loss: 660.6938\n",
      "Epoch 137/500\n",
      "17/17 [==============================] - 0s 4ms/step - loss: 1030.4418 - val_loss: 650.4131\n",
      "Epoch 138/500\n",
      "17/17 [==============================] - 0s 3ms/step - loss: 1014.1763 - val_loss: 640.2942\n",
      "Epoch 139/500\n",
      "17/17 [==============================] - 0s 4ms/step - loss: 998.0943 - val_loss: 630.3361\n",
      "Epoch 140/500\n",
      "17/17 [==============================] - 0s 4ms/step - loss: 982.1945 - val_loss: 620.5377\n",
      "Epoch 141/500\n",
      "17/17 [==============================] - 0s 3ms/step - loss: 966.4755 - val_loss: 610.8983\n",
      "Epoch 142/500\n",
      "17/17 [==============================] - 0s 3ms/step - loss: 950.9366 - val_loss: 601.4160\n",
      "Epoch 143/500\n",
      "17/17 [==============================] - 0s 5ms/step - loss: 935.5766 - val_loss: 592.0898\n",
      "Epoch 144/500\n",
      "17/17 [==============================] - 0s 3ms/step - loss: 920.3943 - val_loss: 582.9185\n",
      "Epoch 145/500\n",
      "17/17 [==============================] - 0s 4ms/step - loss: 905.3880 - val_loss: 573.9012\n",
      "Epoch 146/500\n",
      "17/17 [==============================] - 0s 4ms/step - loss: 890.5572 - val_loss: 565.0365\n",
      "Epoch 147/500\n",
      "17/17 [==============================] - 0s 3ms/step - loss: 875.9006 - val_loss: 556.3234\n",
      "Epoch 148/500\n",
      "17/17 [==============================] - 0s 3ms/step - loss: 861.4171 - val_loss: 547.7606\n",
      "Epoch 149/500\n",
      "17/17 [==============================] - 0s 4ms/step - loss: 847.1055 - val_loss: 539.3468\n",
      "Epoch 150/500\n",
      "17/17 [==============================] - 0s 6ms/step - loss: 832.9647 - val_loss: 531.0815\n",
      "Epoch 151/500\n",
      "17/17 [==============================] - 0s 6ms/step - loss: 818.9937 - val_loss: 522.9626\n",
      "Epoch 152/500\n",
      "17/17 [==============================] - 0s 4ms/step - loss: 805.1912 - val_loss: 514.9897\n",
      "Epoch 153/500\n",
      "17/17 [==============================] - 0s 4ms/step - loss: 791.5562 - val_loss: 507.1614\n",
      "Epoch 154/500\n",
      "17/17 [==============================] - 0s 4ms/step - loss: 778.0876 - val_loss: 499.4760\n",
      "Epoch 155/500\n",
      "17/17 [==============================] - 0s 4ms/step - loss: 764.7844 - val_loss: 491.9336\n",
      "Epoch 156/500\n",
      "17/17 [==============================] - 0s 4ms/step - loss: 751.6451 - val_loss: 484.5319\n",
      "Epoch 157/500\n",
      "17/17 [==============================] - 0s 4ms/step - loss: 738.6691 - val_loss: 477.2704\n",
      "Epoch 158/500\n",
      "17/17 [==============================] - 0s 3ms/step - loss: 725.8547 - val_loss: 470.1477\n",
      "Epoch 159/500\n",
      "17/17 [==============================] - 0s 4ms/step - loss: 713.2012 - val_loss: 463.1626\n",
      "Epoch 160/500\n",
      "17/17 [==============================] - 0s 4ms/step - loss: 700.7073 - val_loss: 456.3135\n",
      "Epoch 161/500\n",
      "17/17 [==============================] - 0s 4ms/step - loss: 688.3722 - val_loss: 449.6002\n",
      "Epoch 162/500\n",
      "17/17 [==============================] - 0s 3ms/step - loss: 676.1942 - val_loss: 443.0207\n",
      "Epoch 163/500\n",
      "17/17 [==============================] - 0s 4ms/step - loss: 664.1728 - val_loss: 436.5744\n",
      "Epoch 164/500\n",
      "17/17 [==============================] - 0s 5ms/step - loss: 652.3070 - val_loss: 430.2601\n",
      "Epoch 165/500\n",
      "17/17 [==============================] - 0s 4ms/step - loss: 640.5956 - val_loss: 424.0768\n",
      "Epoch 166/500\n",
      "17/17 [==============================] - 0s 5ms/step - loss: 629.0369 - val_loss: 418.0226\n",
      "Epoch 167/500\n",
      "17/17 [==============================] - 0s 4ms/step - loss: 617.6300 - val_loss: 412.0968\n",
      "Epoch 168/500\n",
      "17/17 [==============================] - 0s 4ms/step - loss: 606.3740 - val_loss: 406.2982\n",
      "Epoch 169/500\n",
      "17/17 [==============================] - 0s 4ms/step - loss: 595.2679 - val_loss: 400.6261\n",
      "Epoch 170/500\n",
      "17/17 [==============================] - 0s 3ms/step - loss: 584.3109 - val_loss: 395.0789\n",
      "Epoch 171/500\n",
      "17/17 [==============================] - 0s 4ms/step - loss: 573.5010 - val_loss: 389.6552\n",
      "Epoch 172/500\n",
      "17/17 [==============================] - 0s 4ms/step - loss: 562.8376 - val_loss: 384.3543\n",
      "Epoch 173/500\n",
      "17/17 [==============================] - 0s 4ms/step - loss: 552.3198 - val_loss: 379.1749\n",
      "Epoch 174/500\n",
      "17/17 [==============================] - 0s 4ms/step - loss: 541.9461 - val_loss: 374.1158\n",
      "Epoch 175/500\n",
      "17/17 [==============================] - 0s 4ms/step - loss: 531.7158 - val_loss: 369.1757\n",
      "Epoch 176/500\n",
      "17/17 [==============================] - 0s 3ms/step - loss: 521.6277 - val_loss: 364.3538\n",
      "Epoch 177/500\n",
      "17/17 [==============================] - 0s 5ms/step - loss: 511.6801 - val_loss: 359.6487\n",
      "Epoch 178/500\n",
      "17/17 [==============================] - 0s 4ms/step - loss: 501.8727 - val_loss: 355.0593\n",
      "Epoch 179/500\n",
      "17/17 [==============================] - 0s 4ms/step - loss: 492.2040 - val_loss: 350.5846\n",
      "Epoch 180/500\n",
      "17/17 [==============================] - 0s 6ms/step - loss: 482.6732 - val_loss: 346.2233\n",
      "Epoch 181/500\n",
      "17/17 [==============================] - 0s 5ms/step - loss: 473.2793 - val_loss: 341.9742\n",
      "Epoch 182/500\n",
      "17/17 [==============================] - 0s 5ms/step - loss: 464.0208 - val_loss: 337.8362\n",
      "Epoch 183/500\n",
      "17/17 [==============================] - 0s 7ms/step - loss: 454.8968 - val_loss: 333.8083\n",
      "Epoch 184/500\n",
      "17/17 [==============================] - 0s 12ms/step - loss: 445.9062 - val_loss: 329.8889\n",
      "Epoch 185/500\n",
      "17/17 [==============================] - 0s 8ms/step - loss: 437.0477 - val_loss: 326.0774\n",
      "Epoch 186/500\n",
      "17/17 [==============================] - 0s 7ms/step - loss: 428.3207 - val_loss: 322.3722\n",
      "Epoch 187/500\n",
      "17/17 [==============================] - 0s 6ms/step - loss: 419.7238 - val_loss: 318.7725\n",
      "Epoch 188/500\n",
      "17/17 [==============================] - 0s 4ms/step - loss: 411.2561 - val_loss: 315.2770\n",
      "Epoch 189/500\n",
      "17/17 [==============================] - 0s 4ms/step - loss: 402.9161 - val_loss: 311.8843\n",
      "Epoch 190/500\n",
      "17/17 [==============================] - 0s 4ms/step - loss: 394.7031 - val_loss: 308.5935\n",
      "Epoch 191/500\n",
      "17/17 [==============================] - 0s 4ms/step - loss: 386.6158 - val_loss: 305.4037\n",
      "Epoch 192/500\n",
      "17/17 [==============================] - 0s 3ms/step - loss: 378.6534 - val_loss: 302.3131\n",
      "Epoch 193/500\n",
      "17/17 [==============================] - 0s 4ms/step - loss: 370.8146 - val_loss: 299.3211\n",
      "Epoch 194/500\n",
      "17/17 [==============================] - 0s 4ms/step - loss: 363.0984 - val_loss: 296.4261\n",
      "Epoch 195/500\n",
      "17/17 [==============================] - 0s 4ms/step - loss: 355.5036 - val_loss: 293.6275\n",
      "Epoch 196/500\n",
      "17/17 [==============================] - 0s 3ms/step - loss: 348.0292 - val_loss: 290.9235\n",
      "Epoch 197/500\n",
      "17/17 [==============================] - 0s 4ms/step - loss: 340.6741 - val_loss: 288.3133\n",
      "Epoch 198/500\n",
      "17/17 [==============================] - 0s 3ms/step - loss: 333.4371 - val_loss: 285.7957\n",
      "Epoch 199/500\n",
      "17/17 [==============================] - 0s 4ms/step - loss: 326.3170 - val_loss: 283.3694\n",
      "Epoch 200/500\n",
      "17/17 [==============================] - 0s 4ms/step - loss: 319.3132 - val_loss: 281.0335\n",
      "Epoch 201/500\n",
      "17/17 [==============================] - 0s 4ms/step - loss: 312.4241 - val_loss: 278.7866\n",
      "Epoch 202/500\n",
      "17/17 [==============================] - 0s 4ms/step - loss: 305.6489 - val_loss: 276.6277\n",
      "Epoch 203/500\n",
      "17/17 [==============================] - 0s 4ms/step - loss: 298.9868 - val_loss: 274.5557\n",
      "Epoch 204/500\n",
      "17/17 [==============================] - 0s 3ms/step - loss: 292.4363 - val_loss: 272.5692\n",
      "Epoch 205/500\n",
      "17/17 [==============================] - 0s 4ms/step - loss: 285.9964 - val_loss: 270.6671\n",
      "Epoch 206/500\n",
      "17/17 [==============================] - 0s 5ms/step - loss: 279.6659 - val_loss: 268.8484\n",
      "Epoch 207/500\n",
      "17/17 [==============================] - 0s 5ms/step - loss: 273.4439 - val_loss: 267.1117\n",
      "Epoch 208/500\n",
      "17/17 [==============================] - 0s 5ms/step - loss: 267.3295 - val_loss: 265.4562\n",
      "Epoch 209/500\n",
      "17/17 [==============================] - 0s 6ms/step - loss: 261.3213 - val_loss: 263.8803\n",
      "Epoch 210/500\n",
      "17/17 [==============================] - 0s 6ms/step - loss: 255.4182 - val_loss: 262.3831\n",
      "Epoch 211/500\n",
      "17/17 [==============================] - 0s 4ms/step - loss: 249.6192 - val_loss: 260.9635\n",
      "Epoch 212/500\n",
      "17/17 [==============================] - 0s 4ms/step - loss: 243.9233 - val_loss: 259.6203\n",
      "Epoch 213/500\n",
      "17/17 [==============================] - 0s 4ms/step - loss: 238.3294 - val_loss: 258.3521\n",
      "Epoch 214/500\n",
      "17/17 [==============================] - 0s 4ms/step - loss: 232.8364 - val_loss: 257.1580\n",
      "Epoch 215/500\n",
      "17/17 [==============================] - 0s 4ms/step - loss: 227.4434 - val_loss: 256.0369\n",
      "Epoch 216/500\n",
      "17/17 [==============================] - 0s 7ms/step - loss: 222.1491 - val_loss: 254.9874\n",
      "Epoch 217/500\n",
      "17/17 [==============================] - 0s 8ms/step - loss: 216.9525 - val_loss: 254.0085\n",
      "Epoch 218/500\n",
      "17/17 [==============================] - 0s 6ms/step - loss: 211.8525 - val_loss: 253.0991\n",
      "Epoch 219/500\n",
      "17/17 [==============================] - 0s 5ms/step - loss: 206.8479 - val_loss: 252.2578\n",
      "Epoch 220/500\n",
      "17/17 [==============================] - 0s 5ms/step - loss: 201.9377 - val_loss: 251.4836\n",
      "Epoch 221/500\n",
      "17/17 [==============================] - 0s 5ms/step - loss: 197.1211 - val_loss: 250.7755\n",
      "Epoch 222/500\n",
      "17/17 [==============================] - 0s 4ms/step - loss: 192.3969 - val_loss: 250.1321\n",
      "Epoch 223/500\n",
      "17/17 [==============================] - 0s 5ms/step - loss: 187.7639 - val_loss: 249.5524\n",
      "Epoch 224/500\n",
      "17/17 [==============================] - 0s 5ms/step - loss: 183.2211 - val_loss: 249.0352\n",
      "Epoch 225/500\n",
      "17/17 [==============================] - 0s 5ms/step - loss: 178.7675 - val_loss: 248.5795\n",
      "Epoch 226/500\n",
      "17/17 [==============================] - 0s 6ms/step - loss: 174.4018 - val_loss: 248.1839\n",
      "Epoch 227/500\n",
      "17/17 [==============================] - 0s 5ms/step - loss: 170.1232 - val_loss: 247.8474\n",
      "Epoch 228/500\n",
      "17/17 [==============================] - 0s 5ms/step - loss: 165.9305 - val_loss: 247.5688\n",
      "Epoch 229/500\n",
      "17/17 [==============================] - 0s 5ms/step - loss: 161.8227 - val_loss: 247.3472\n",
      "Epoch 230/500\n",
      "17/17 [==============================] - 0s 5ms/step - loss: 157.7988 - val_loss: 247.1811\n",
      "Epoch 231/500\n",
      "17/17 [==============================] - 0s 4ms/step - loss: 153.8575 - val_loss: 247.0697\n",
      "Epoch 232/500\n",
      "17/17 [==============================] - 0s 5ms/step - loss: 149.9979 - val_loss: 247.0117\n",
      "Epoch 233/500\n",
      "17/17 [==============================] - 0s 4ms/step - loss: 146.2191 - val_loss: 247.0059\n",
      "Epoch 234/500\n",
      "17/17 [==============================] - 0s 4ms/step - loss: 142.5198 - val_loss: 247.0514\n",
      "Epoch 235/500\n",
      "17/17 [==============================] - 0s 5ms/step - loss: 138.8990 - val_loss: 247.1469\n",
      "Epoch 236/500\n",
      "17/17 [==============================] - 0s 4ms/step - loss: 135.3557 - val_loss: 247.2914\n",
      "Epoch 237/500\n",
      "17/17 [==============================] - 0s 3ms/step - loss: 131.8891 - val_loss: 247.4837\n",
      "Epoch 238/500\n",
      "17/17 [==============================] - 0s 4ms/step - loss: 128.4977 - val_loss: 247.7227\n",
      "Epoch 239/500\n",
      "17/17 [==============================] - 0s 4ms/step - loss: 125.1808 - val_loss: 248.0074\n",
      "Epoch 240/500\n",
      "17/17 [==============================] - 0s 4ms/step - loss: 121.9372 - val_loss: 248.3365\n",
      "Epoch 241/500\n",
      "17/17 [==============================] - 0s 4ms/step - loss: 118.7661 - val_loss: 248.7091\n",
      "Epoch 242/500\n",
      "17/17 [==============================] - 0s 4ms/step - loss: 115.6662 - val_loss: 249.1240\n",
      "Epoch 243/500\n",
      "17/17 [==============================] - 0s 4ms/step - loss: 112.6366 - val_loss: 249.5802\n",
      "Epoch 244/500\n",
      "17/17 [==============================] - 0s 5ms/step - loss: 109.6761 - val_loss: 250.0765\n",
      "Epoch 245/500\n",
      "17/17 [==============================] - 0s 4ms/step - loss: 106.7839 - val_loss: 250.6119\n",
      "Epoch 246/500\n",
      "17/17 [==============================] - 0s 5ms/step - loss: 103.9590 - val_loss: 251.1853\n",
      "Epoch 247/500\n",
      "17/17 [==============================] - 0s 7ms/step - loss: 101.2003 - val_loss: 251.7956\n",
      "Epoch 248/500\n",
      "17/17 [==============================] - 0s 6ms/step - loss: 98.5068 - val_loss: 252.4419\n",
      "Epoch 249/500\n",
      "17/17 [==============================] - 0s 5ms/step - loss: 95.8772 - val_loss: 253.1229\n",
      "Epoch 250/500\n",
      "17/17 [==============================] - 0s 4ms/step - loss: 93.3109 - val_loss: 253.8378\n",
      "Epoch 251/500\n",
      "17/17 [==============================] - 0s 6ms/step - loss: 90.8069 - val_loss: 254.5853\n",
      "Epoch 252/500\n",
      "17/17 [==============================] - 0s 5ms/step - loss: 88.3640 - val_loss: 255.3645\n",
      "Epoch 253/500\n",
      "17/17 [==============================] - 0s 4ms/step - loss: 85.9813 - val_loss: 256.1744\n",
      "Epoch 254/500\n",
      "17/17 [==============================] - 0s 4ms/step - loss: 83.6580 - val_loss: 257.0139\n",
      "Epoch 255/500\n",
      "17/17 [==============================] - 0s 7ms/step - loss: 81.3929 - val_loss: 257.8820\n",
      "Epoch 256/500\n",
      "17/17 [==============================] - 0s 5ms/step - loss: 79.1849 - val_loss: 258.7776\n",
      "Epoch 257/500\n",
      "17/17 [==============================] - 0s 4ms/step - loss: 77.0334 - val_loss: 259.6999\n",
      "Epoch 258/500\n",
      "17/17 [==============================] - 0s 4ms/step - loss: 74.9371 - val_loss: 260.6477\n",
      "Epoch 259/500\n",
      "17/17 [==============================] - 0s 4ms/step - loss: 72.8952 - val_loss: 261.6201\n",
      "Epoch 260/500\n",
      "17/17 [==============================] - 0s 4ms/step - loss: 70.9068 - val_loss: 262.6161\n",
      "Epoch 261/500\n",
      "17/17 [==============================] - 0s 5ms/step - loss: 68.9709 - val_loss: 263.6348\n",
      "Epoch 262/500\n",
      "17/17 [==============================] - 0s 4ms/step - loss: 67.0865 - val_loss: 264.6750\n",
      "Epoch 263/500\n",
      "17/17 [==============================] - 0s 4ms/step - loss: 65.2527 - val_loss: 265.7361\n",
      "Epoch 264/500\n",
      "17/17 [==============================] - 0s 4ms/step - loss: 63.4685 - val_loss: 266.8170\n",
      "Epoch 265/500\n",
      "17/17 [==============================] - 0s 4ms/step - loss: 61.7331 - val_loss: 267.9164\n",
      "Epoch 266/500\n",
      "17/17 [==============================] - 0s 4ms/step - loss: 60.0456 - val_loss: 269.0340\n",
      "Epoch 267/500\n",
      "17/17 [==============================] - 0s 4ms/step - loss: 58.4049 - val_loss: 270.1684\n",
      "Epoch 268/500\n",
      "17/17 [==============================] - 0s 4ms/step - loss: 56.8102 - val_loss: 271.3190\n",
      "Epoch 269/500\n",
      "17/17 [==============================] - 0s 4ms/step - loss: 55.2606 - val_loss: 272.4846\n",
      "Epoch 270/500\n",
      "17/17 [==============================] - 0s 4ms/step - loss: 53.7553 - val_loss: 273.6647\n",
      "Epoch 271/500\n",
      "17/17 [==============================] - 0s 4ms/step - loss: 52.2934 - val_loss: 274.8578\n",
      "Epoch 272/500\n",
      "17/17 [==============================] - 0s 4ms/step - loss: 50.8739 - val_loss: 276.0636\n",
      "Epoch 273/500\n",
      "17/17 [==============================] - 0s 4ms/step - loss: 49.4960 - val_loss: 277.2811\n",
      "Epoch 274/500\n",
      "17/17 [==============================] - 0s 4ms/step - loss: 48.1588 - val_loss: 278.5093\n",
      "Epoch 275/500\n",
      "17/17 [==============================] - 0s 5ms/step - loss: 46.8614 - val_loss: 279.7477\n",
      "Epoch 276/500\n",
      "17/17 [==============================] - 0s 6ms/step - loss: 45.6031 - val_loss: 280.9951\n",
      "Epoch 277/500\n",
      "17/17 [==============================] - 0s 7ms/step - loss: 44.3830 - val_loss: 282.2507\n",
      "Epoch 278/500\n",
      "17/17 [==============================] - 0s 6ms/step - loss: 43.2002 - val_loss: 283.5139\n",
      "Epoch 279/500\n",
      "17/17 [==============================] - 0s 4ms/step - loss: 42.0540 - val_loss: 284.7838\n",
      "Epoch 280/500\n",
      "17/17 [==============================] - 0s 4ms/step - loss: 40.9435 - val_loss: 286.0597\n",
      "Epoch 281/500\n",
      "17/17 [==============================] - 0s 4ms/step - loss: 39.8678 - val_loss: 287.3409\n",
      "Epoch 282/500\n",
      "17/17 [==============================] - 0s 4ms/step - loss: 38.8264 - val_loss: 288.6263\n",
      "Epoch 283/500\n",
      "17/17 [==============================] - 0s 4ms/step - loss: 37.8182 - val_loss: 289.9154\n",
      "Epoch 284/500\n",
      "17/17 [==============================] - 0s 4ms/step - loss: 36.8427 - val_loss: 291.2074\n",
      "Epoch 285/500\n",
      "17/17 [==============================] - 0s 4ms/step - loss: 35.8989 - val_loss: 292.5016\n",
      "Epoch 286/500\n",
      "17/17 [==============================] - 0s 4ms/step - loss: 34.9862 - val_loss: 293.7973\n",
      "Epoch 287/500\n",
      "17/17 [==============================] - 0s 4ms/step - loss: 34.1037 - val_loss: 295.0941\n",
      "Epoch 288/500\n",
      "17/17 [==============================] - 0s 4ms/step - loss: 33.2508 - val_loss: 296.3909\n",
      "Epoch 289/500\n",
      "17/17 [==============================] - 0s 4ms/step - loss: 32.4266 - val_loss: 297.6871\n",
      "Epoch 290/500\n",
      "17/17 [==============================] - 0s 4ms/step - loss: 31.6306 - val_loss: 298.9821\n",
      "Epoch 291/500\n",
      "17/17 [==============================] - 0s 4ms/step - loss: 30.8619 - val_loss: 300.2755\n",
      "Epoch 292/500\n",
      "17/17 [==============================] - 0s 4ms/step - loss: 30.1198 - val_loss: 301.5664\n",
      "Epoch 293/500\n",
      "17/17 [==============================] - 0s 4ms/step - loss: 29.4037 - val_loss: 302.8545\n",
      "Epoch 294/500\n",
      "17/17 [==============================] - 0s 4ms/step - loss: 28.7128 - val_loss: 304.1389\n",
      "Epoch 295/500\n",
      "17/17 [==============================] - 0s 4ms/step - loss: 28.0465 - val_loss: 305.4190\n",
      "Epoch 296/500\n",
      "17/17 [==============================] - 0s 4ms/step - loss: 27.4043 - val_loss: 306.6943\n",
      "Epoch 297/500\n",
      "17/17 [==============================] - 0s 4ms/step - loss: 26.7853 - val_loss: 307.9644\n",
      "Epoch 298/500\n",
      "17/17 [==============================] - 0s 4ms/step - loss: 26.1889 - val_loss: 309.2286\n",
      "Epoch 299/500\n",
      "17/17 [==============================] - 0s 5ms/step - loss: 25.6145 - val_loss: 310.4867\n",
      "Epoch 300/500\n",
      "17/17 [==============================] - 0s 4ms/step - loss: 25.0614 - val_loss: 311.7376\n",
      "Epoch 301/500\n",
      "17/17 [==============================] - 0s 4ms/step - loss: 24.5293 - val_loss: 312.9815\n",
      "Epoch 302/500\n",
      "17/17 [==============================] - 0s 6ms/step - loss: 24.0172 - val_loss: 314.2177\n",
      "Epoch 303/500\n",
      "17/17 [==============================] - 0s 6ms/step - loss: 23.5247 - val_loss: 315.4453\n",
      "Epoch 304/500\n",
      "17/17 [==============================] - 0s 4ms/step - loss: 23.0512 - val_loss: 316.6643\n",
      "Epoch 305/500\n",
      "17/17 [==============================] - 0s 3ms/step - loss: 22.5961 - val_loss: 317.8741\n",
      "Epoch 306/500\n",
      "17/17 [==============================] - 0s 4ms/step - loss: 22.1589 - val_loss: 319.0744\n",
      "Epoch 307/500\n",
      "17/17 [==============================] - 0s 4ms/step - loss: 21.7391 - val_loss: 320.2647\n",
      "Epoch 308/500\n",
      "17/17 [==============================] - 0s 3ms/step - loss: 21.3360 - val_loss: 321.4445\n",
      "Epoch 309/500\n",
      "17/17 [==============================] - 0s 3ms/step - loss: 20.9491 - val_loss: 322.6137\n",
      "Epoch 310/500\n",
      "17/17 [==============================] - 0s 4ms/step - loss: 20.5780 - val_loss: 323.7719\n",
      "Epoch 311/500\n",
      "17/17 [==============================] - 0s 4ms/step - loss: 20.2221 - val_loss: 324.9188\n",
      "Epoch 312/500\n",
      "17/17 [==============================] - 0s 4ms/step - loss: 19.8810 - val_loss: 326.0538\n",
      "Epoch 313/500\n",
      "17/17 [==============================] - 0s 4ms/step - loss: 19.5541 - val_loss: 327.1768\n",
      "Epoch 314/500\n",
      "17/17 [==============================] - 0s 4ms/step - loss: 19.2410 - val_loss: 328.2876\n",
      "Epoch 315/500\n",
      "17/17 [==============================] - 0s 3ms/step - loss: 18.9411 - val_loss: 329.3855\n",
      "Epoch 316/500\n",
      "17/17 [==============================] - 0s 4ms/step - loss: 18.6541 - val_loss: 330.4708\n",
      "Epoch 317/500\n",
      "17/17 [==============================] - 0s 3ms/step - loss: 18.3795 - val_loss: 331.5429\n",
      "Epoch 318/500\n",
      "17/17 [==============================] - 0s 4ms/step - loss: 18.1169 - val_loss: 332.6018\n",
      "Epoch 319/500\n",
      "17/17 [==============================] - 0s 4ms/step - loss: 17.8658 - val_loss: 333.6469\n",
      "Epoch 320/500\n",
      "17/17 [==============================] - 0s 4ms/step - loss: 17.6259 - val_loss: 334.6786\n",
      "Epoch 321/500\n",
      "17/17 [==============================] - 0s 4ms/step - loss: 17.3967 - val_loss: 335.6956\n",
      "Epoch 322/500\n",
      "17/17 [==============================] - 0s 4ms/step - loss: 17.1779 - val_loss: 336.6992\n",
      "Epoch 323/500\n",
      "17/17 [==============================] - 0s 4ms/step - loss: 16.9690 - val_loss: 337.6883\n",
      "Epoch 324/500\n",
      "17/17 [==============================] - 0s 4ms/step - loss: 16.7697 - val_loss: 338.6628\n",
      "Epoch 325/500\n",
      "17/17 [==============================] - 0s 5ms/step - loss: 16.5796 - val_loss: 339.6230\n",
      "Epoch 326/500\n",
      "17/17 [==============================] - 0s 4ms/step - loss: 16.3984 - val_loss: 340.5680\n",
      "Epoch 327/500\n",
      "17/17 [==============================] - 0s 7ms/step - loss: 16.2258 - val_loss: 341.4988\n",
      "Epoch 328/500\n",
      "17/17 [==============================] - 0s 6ms/step - loss: 16.0612 - val_loss: 342.4147\n",
      "Epoch 329/500\n",
      "17/17 [==============================] - 0s 4ms/step - loss: 15.9046 - val_loss: 343.3152\n",
      "Epoch 330/500\n",
      "17/17 [==============================] - 0s 4ms/step - loss: 15.7556 - val_loss: 344.2009\n",
      "Epoch 331/500\n",
      "17/17 [==============================] - 0s 4ms/step - loss: 15.6138 - val_loss: 345.0714\n",
      "Epoch 332/500\n",
      "17/17 [==============================] - 0s 4ms/step - loss: 15.4789 - val_loss: 345.9265\n",
      "Epoch 333/500\n",
      "17/17 [==============================] - 0s 4ms/step - loss: 15.3508 - val_loss: 346.7668\n",
      "Epoch 334/500\n",
      "17/17 [==============================] - 0s 4ms/step - loss: 15.2290 - val_loss: 347.5915\n",
      "Epoch 335/500\n",
      "17/17 [==============================] - 0s 4ms/step - loss: 15.1134 - val_loss: 348.4012\n",
      "Epoch 336/500\n",
      "17/17 [==============================] - 0s 4ms/step - loss: 15.0036 - val_loss: 349.1957\n",
      "Epoch 337/500\n",
      "17/17 [==============================] - 0s 4ms/step - loss: 14.8994 - val_loss: 349.9748\n",
      "Epoch 338/500\n",
      "17/17 [==============================] - 0s 5ms/step - loss: 14.8006 - val_loss: 350.7386\n",
      "Epoch 339/500\n",
      "17/17 [==============================] - 0s 4ms/step - loss: 14.7069 - val_loss: 351.4872\n",
      "Epoch 340/500\n",
      "17/17 [==============================] - 0s 4ms/step - loss: 14.6182 - val_loss: 352.2213\n",
      "Epoch 341/500\n",
      "17/17 [==============================] - 0s 4ms/step - loss: 14.5341 - val_loss: 352.9395\n",
      "Epoch 342/500\n",
      "17/17 [==============================] - 0s 4ms/step - loss: 14.4545 - val_loss: 353.6430\n",
      "Epoch 343/500\n",
      "17/17 [==============================] - 0s 4ms/step - loss: 14.3792 - val_loss: 354.3317\n",
      "Epoch 344/500\n",
      "17/17 [==============================] - 0s 4ms/step - loss: 14.3079 - val_loss: 355.0054\n",
      "Epoch 345/500\n",
      "17/17 [==============================] - 0s 4ms/step - loss: 14.2405 - val_loss: 355.6649\n",
      "Epoch 346/500\n",
      "17/17 [==============================] - 0s 4ms/step - loss: 14.1768 - val_loss: 356.3093\n",
      "Epoch 347/500\n",
      "17/17 [==============================] - 0s 4ms/step - loss: 14.1166 - val_loss: 356.9387\n",
      "Epoch 348/500\n",
      "17/17 [==============================] - 0s 4ms/step - loss: 14.0597 - val_loss: 357.5541\n",
      "Epoch 349/500\n",
      "17/17 [==============================] - 0s 4ms/step - loss: 14.0061 - val_loss: 358.1547\n",
      "Epoch 350/500\n",
      "17/17 [==============================] - 0s 5ms/step - loss: 13.9555 - val_loss: 358.7419\n",
      "Epoch 351/500\n",
      "17/17 [==============================] - 0s 7ms/step - loss: 13.9078 - val_loss: 359.3143\n",
      "Epoch 352/500\n",
      "17/17 [==============================] - 0s 7ms/step - loss: 13.8628 - val_loss: 359.8733\n",
      "Epoch 353/500\n",
      "17/17 [==============================] - 0s 5ms/step - loss: 13.8204 - val_loss: 360.4182\n",
      "Epoch 354/500\n",
      "17/17 [==============================] - 0s 7ms/step - loss: 13.7804 - val_loss: 360.9492\n",
      "Epoch 355/500\n",
      "17/17 [==============================] - 0s 7ms/step - loss: 13.7428 - val_loss: 361.4675\n",
      "Epoch 356/500\n",
      "17/17 [==============================] - 0s 5ms/step - loss: 13.7074 - val_loss: 361.9716\n",
      "Epoch 357/500\n",
      "17/17 [==============================] - 0s 5ms/step - loss: 13.6741 - val_loss: 362.4629\n",
      "Epoch 358/500\n",
      "17/17 [==============================] - 0s 4ms/step - loss: 13.6429 - val_loss: 362.9411\n",
      "Epoch 359/500\n",
      "17/17 [==============================] - 0s 4ms/step - loss: 13.6134 - val_loss: 363.4068\n",
      "Epoch 360/500\n",
      "17/17 [==============================] - 0s 4ms/step - loss: 13.5858 - val_loss: 363.8596\n",
      "Epoch 361/500\n",
      "17/17 [==============================] - 0s 4ms/step - loss: 13.5599 - val_loss: 364.3003\n",
      "Epoch 362/500\n",
      "17/17 [==============================] - 0s 5ms/step - loss: 13.5355 - val_loss: 364.7286\n",
      "Epoch 363/500\n",
      "17/17 [==============================] - 0s 5ms/step - loss: 13.5127 - val_loss: 365.1450\n",
      "Epoch 364/500\n",
      "17/17 [==============================] - 0s 5ms/step - loss: 13.4913 - val_loss: 365.5491\n",
      "Epoch 365/500\n",
      "17/17 [==============================] - 0s 4ms/step - loss: 13.4711 - val_loss: 365.9414\n",
      "Epoch 366/500\n",
      "17/17 [==============================] - 0s 5ms/step - loss: 13.4524 - val_loss: 366.3228\n",
      "Epoch 367/500\n",
      "17/17 [==============================] - 0s 5ms/step - loss: 13.4347 - val_loss: 366.6925\n",
      "Epoch 368/500\n",
      "17/17 [==============================] - 0s 4ms/step - loss: 13.4182 - val_loss: 367.0511\n",
      "Epoch 369/500\n",
      "17/17 [==============================] - 0s 5ms/step - loss: 13.4028 - val_loss: 367.3988\n",
      "Epoch 370/500\n",
      "17/17 [==============================] - 0s 5ms/step - loss: 13.3884 - val_loss: 367.7359\n",
      "Epoch 371/500\n",
      "17/17 [==============================] - 0s 5ms/step - loss: 13.3748 - val_loss: 368.0628\n",
      "Epoch 372/500\n",
      "17/17 [==============================] - 0s 5ms/step - loss: 13.3622 - val_loss: 368.3794\n",
      "Epoch 373/500\n",
      "17/17 [==============================] - 0s 5ms/step - loss: 13.3504 - val_loss: 368.6860\n",
      "Epoch 374/500\n",
      "17/17 [==============================] - 0s 5ms/step - loss: 13.3394 - val_loss: 368.9826\n",
      "Epoch 375/500\n",
      "17/17 [==============================] - 0s 4ms/step - loss: 13.3291 - val_loss: 369.2694\n",
      "Epoch 376/500\n",
      "17/17 [==============================] - 0s 4ms/step - loss: 13.3195 - val_loss: 369.5471\n",
      "Epoch 377/500\n",
      "17/17 [==============================] - 0s 4ms/step - loss: 13.3105 - val_loss: 369.8159\n",
      "Epoch 378/500\n",
      "17/17 [==============================] - 0s 6ms/step - loss: 13.3021 - val_loss: 370.0753\n",
      "Epoch 379/500\n",
      "17/17 [==============================] - 0s 6ms/step - loss: 13.2943 - val_loss: 370.3257\n",
      "Epoch 380/500\n",
      "17/17 [==============================] - 0s 5ms/step - loss: 13.2871 - val_loss: 370.5680\n",
      "Epoch 381/500\n",
      "17/17 [==============================] - 0s 5ms/step - loss: 13.2803 - val_loss: 370.8018\n",
      "Epoch 382/500\n",
      "17/17 [==============================] - 0s 5ms/step - loss: 13.2740 - val_loss: 371.0278\n",
      "Epoch 383/500\n",
      "17/17 [==============================] - 0s 5ms/step - loss: 13.2682 - val_loss: 371.2455\n",
      "Epoch 384/500\n",
      "17/17 [==============================] - 0s 5ms/step - loss: 13.2627 - val_loss: 371.4556\n",
      "Epoch 385/500\n",
      "17/17 [==============================] - 0s 5ms/step - loss: 13.2576 - val_loss: 371.6577\n",
      "Epoch 386/500\n",
      "17/17 [==============================] - 0s 5ms/step - loss: 13.2529 - val_loss: 371.8527\n",
      "Epoch 387/500\n",
      "17/17 [==============================] - 0s 5ms/step - loss: 13.2485 - val_loss: 372.0405\n",
      "Epoch 388/500\n",
      "17/17 [==============================] - 0s 5ms/step - loss: 13.2444 - val_loss: 372.2216\n",
      "Epoch 389/500\n",
      "17/17 [==============================] - 0s 5ms/step - loss: 13.2406 - val_loss: 372.3957\n",
      "Epoch 390/500\n",
      "17/17 [==============================] - 0s 4ms/step - loss: 13.2371 - val_loss: 372.5633\n",
      "Epoch 391/500\n",
      "17/17 [==============================] - 0s 5ms/step - loss: 13.2338 - val_loss: 372.7242\n",
      "Epoch 392/500\n",
      "17/17 [==============================] - 0s 4ms/step - loss: 13.2308 - val_loss: 372.8795\n",
      "Epoch 393/500\n",
      "17/17 [==============================] - 0s 5ms/step - loss: 13.2280 - val_loss: 373.0286\n",
      "Epoch 394/500\n",
      "17/17 [==============================] - 0s 4ms/step - loss: 13.2254 - val_loss: 373.1711\n",
      "Epoch 395/500\n",
      "17/17 [==============================] - 0s 6ms/step - loss: 13.2230 - val_loss: 373.3086\n",
      "Epoch 396/500\n",
      "17/17 [==============================] - 0s 6ms/step - loss: 13.2208 - val_loss: 373.4403\n",
      "Epoch 397/500\n",
      "17/17 [==============================] - 0s 6ms/step - loss: 13.2187 - val_loss: 373.5668\n",
      "Epoch 398/500\n",
      "17/17 [==============================] - 0s 6ms/step - loss: 13.2168 - val_loss: 373.6885\n",
      "Epoch 399/500\n",
      "17/17 [==============================] - 0s 6ms/step - loss: 13.2150 - val_loss: 373.8046\n",
      "Epoch 400/500\n",
      "17/17 [==============================] - 0s 8ms/step - loss: 13.2134 - val_loss: 373.9162\n",
      "Epoch 401/500\n",
      "17/17 [==============================] - 0s 7ms/step - loss: 13.2119 - val_loss: 374.0230\n",
      "Epoch 402/500\n",
      "17/17 [==============================] - 0s 5ms/step - loss: 13.2105 - val_loss: 374.1253\n",
      "Epoch 403/500\n",
      "17/17 [==============================] - 0s 6ms/step - loss: 13.2092 - val_loss: 374.2231\n",
      "Epoch 404/500\n",
      "17/17 [==============================] - 0s 4ms/step - loss: 13.2081 - val_loss: 374.3171\n",
      "Epoch 405/500\n",
      "17/17 [==============================] - 0s 5ms/step - loss: 13.2070 - val_loss: 374.4066\n",
      "Epoch 406/500\n",
      "17/17 [==============================] - 0s 4ms/step - loss: 13.2059 - val_loss: 374.4925\n",
      "Epoch 407/500\n",
      "17/17 [==============================] - 0s 4ms/step - loss: 13.2050 - val_loss: 374.5740\n",
      "Epoch 408/500\n",
      "17/17 [==============================] - 0s 5ms/step - loss: 13.2042 - val_loss: 374.6524\n",
      "Epoch 409/500\n",
      "17/17 [==============================] - 0s 4ms/step - loss: 13.2035 - val_loss: 374.7275\n",
      "Epoch 410/500\n",
      "17/17 [==============================] - 0s 4ms/step - loss: 13.2028 - val_loss: 374.7984\n",
      "Epoch 411/500\n",
      "17/17 [==============================] - 0s 4ms/step - loss: 13.2021 - val_loss: 374.8665\n",
      "Epoch 412/500\n",
      "17/17 [==============================] - 0s 4ms/step - loss: 13.2016 - val_loss: 374.9315\n",
      "Epoch 413/500\n",
      "17/17 [==============================] - 0s 3ms/step - loss: 13.2010 - val_loss: 374.9937\n",
      "Epoch 414/500\n",
      "17/17 [==============================] - 0s 4ms/step - loss: 13.2005 - val_loss: 375.0525\n",
      "Epoch 415/500\n",
      "17/17 [==============================] - 0s 4ms/step - loss: 13.2001 - val_loss: 375.1083\n",
      "Epoch 416/500\n",
      "17/17 [==============================] - 0s 4ms/step - loss: 13.1997 - val_loss: 375.1617\n",
      "Epoch 417/500\n",
      "17/17 [==============================] - 0s 3ms/step - loss: 13.1994 - val_loss: 375.2128\n",
      "Epoch 418/500\n",
      "17/17 [==============================] - 0s 4ms/step - loss: 13.1991 - val_loss: 375.2614\n",
      "Epoch 419/500\n",
      "17/17 [==============================] - 0s 4ms/step - loss: 13.1988 - val_loss: 375.3073\n",
      "Epoch 420/500\n",
      "17/17 [==============================] - 0s 4ms/step - loss: 13.1986 - val_loss: 375.3510\n",
      "Epoch 421/500\n",
      "17/17 [==============================] - 0s 5ms/step - loss: 13.1984 - val_loss: 375.3926\n",
      "Epoch 422/500\n",
      "17/17 [==============================] - 0s 4ms/step - loss: 13.1982 - val_loss: 375.4323\n",
      "Epoch 423/500\n",
      "17/17 [==============================] - 0s 6ms/step - loss: 13.1980 - val_loss: 375.4699\n",
      "Epoch 424/500\n",
      "17/17 [==============================] - 0s 6ms/step - loss: 13.1979 - val_loss: 375.5051\n",
      "Epoch 425/500\n",
      "17/17 [==============================] - 0s 4ms/step - loss: 13.1978 - val_loss: 375.5388\n",
      "Epoch 426/500\n",
      "17/17 [==============================] - 0s 4ms/step - loss: 13.1977 - val_loss: 375.5708\n",
      "Epoch 427/500\n",
      "17/17 [==============================] - 0s 5ms/step - loss: 13.1977 - val_loss: 375.6011\n",
      "Epoch 428/500\n",
      "17/17 [==============================] - 0s 4ms/step - loss: 13.1976 - val_loss: 375.6297\n",
      "Epoch 429/500\n",
      "17/17 [==============================] - 0s 5ms/step - loss: 13.1976 - val_loss: 375.6568\n",
      "Epoch 430/500\n",
      "17/17 [==============================] - 0s 5ms/step - loss: 13.1976 - val_loss: 375.6816\n",
      "Epoch 431/500\n",
      "17/17 [==============================] - 0s 4ms/step - loss: 13.1976 - val_loss: 375.7060\n",
      "Epoch 432/500\n",
      "17/17 [==============================] - 0s 4ms/step - loss: 13.1977 - val_loss: 375.7293\n",
      "Epoch 433/500\n",
      "17/17 [==============================] - 0s 4ms/step - loss: 13.1977 - val_loss: 375.7507\n",
      "Epoch 434/500\n",
      "17/17 [==============================] - 0s 4ms/step - loss: 13.1977 - val_loss: 375.7713\n",
      "Epoch 435/500\n",
      "17/17 [==============================] - 0s 4ms/step - loss: 13.1978 - val_loss: 375.7902\n",
      "Epoch 436/500\n",
      "17/17 [==============================] - 0s 4ms/step - loss: 13.1979 - val_loss: 375.8080\n",
      "Epoch 437/500\n",
      "17/17 [==============================] - 0s 4ms/step - loss: 13.1980 - val_loss: 375.8252\n",
      "Epoch 438/500\n",
      "17/17 [==============================] - 0s 5ms/step - loss: 13.1981 - val_loss: 375.8416\n",
      "Epoch 439/500\n",
      "17/17 [==============================] - 0s 5ms/step - loss: 13.1981 - val_loss: 375.8565\n",
      "Epoch 440/500\n",
      "17/17 [==============================] - 0s 4ms/step - loss: 13.1983 - val_loss: 375.8708\n",
      "Epoch 441/500\n",
      "17/17 [==============================] - 0s 4ms/step - loss: 13.1984 - val_loss: 375.8840\n",
      "Epoch 442/500\n",
      "17/17 [==============================] - 0s 6ms/step - loss: 13.1985 - val_loss: 375.8965\n",
      "Epoch 443/500\n",
      "17/17 [==============================] - 0s 7ms/step - loss: 13.1987 - val_loss: 375.9080\n",
      "Epoch 444/500\n",
      "17/17 [==============================] - 0s 6ms/step - loss: 13.1989 - val_loss: 375.9194\n",
      "Epoch 445/500\n",
      "17/17 [==============================] - 0s 11ms/step - loss: 13.1990 - val_loss: 375.9295\n",
      "Epoch 446/500\n",
      "17/17 [==============================] - 0s 5ms/step - loss: 13.1991 - val_loss: 375.9393\n",
      "Epoch 447/500\n",
      "17/17 [==============================] - 0s 8ms/step - loss: 13.1993 - val_loss: 375.9486\n",
      "Epoch 448/500\n",
      "17/17 [==============================] - 0s 6ms/step - loss: 13.1995 - val_loss: 375.9568\n",
      "Epoch 449/500\n",
      "17/17 [==============================] - 0s 5ms/step - loss: 13.1997 - val_loss: 375.9652\n",
      "Epoch 450/500\n",
      "17/17 [==============================] - 0s 5ms/step - loss: 13.1999 - val_loss: 375.9726\n",
      "Epoch 451/500\n",
      "17/17 [==============================] - 0s 4ms/step - loss: 13.2000 - val_loss: 375.9792\n",
      "Epoch 452/500\n",
      "17/17 [==============================] - 0s 5ms/step - loss: 13.2002 - val_loss: 375.9857\n",
      "Epoch 453/500\n",
      "17/17 [==============================] - 0s 5ms/step - loss: 13.2004 - val_loss: 375.9918\n",
      "Epoch 454/500\n",
      "17/17 [==============================] - 0s 7ms/step - loss: 13.2006 - val_loss: 375.9973\n",
      "Epoch 455/500\n",
      "17/17 [==============================] - 0s 5ms/step - loss: 13.2009 - val_loss: 376.0025\n",
      "Epoch 456/500\n",
      "17/17 [==============================] - 0s 4ms/step - loss: 13.2010 - val_loss: 376.0072\n",
      "Epoch 457/500\n",
      "17/17 [==============================] - 0s 4ms/step - loss: 13.2012 - val_loss: 376.0118\n",
      "Epoch 458/500\n",
      "17/17 [==============================] - 0s 3ms/step - loss: 13.2014 - val_loss: 376.0155\n",
      "Epoch 459/500\n",
      "17/17 [==============================] - 0s 4ms/step - loss: 13.2016 - val_loss: 376.0193\n",
      "Epoch 460/500\n",
      "17/17 [==============================] - 0s 4ms/step - loss: 13.2018 - val_loss: 376.0225\n",
      "Epoch 461/500\n",
      "17/17 [==============================] - 0s 4ms/step - loss: 13.2021 - val_loss: 376.0263\n",
      "Epoch 462/500\n",
      "17/17 [==============================] - 0s 4ms/step - loss: 13.2023 - val_loss: 376.0291\n",
      "Epoch 463/500\n",
      "17/17 [==============================] - 0s 4ms/step - loss: 13.2025 - val_loss: 376.0316\n",
      "Epoch 464/500\n",
      "17/17 [==============================] - 0s 4ms/step - loss: 13.2027 - val_loss: 376.0340\n",
      "Epoch 465/500\n",
      "17/17 [==============================] - 0s 4ms/step - loss: 13.2029 - val_loss: 376.0363\n",
      "Epoch 466/500\n",
      "17/17 [==============================] - 0s 4ms/step - loss: 13.2032 - val_loss: 376.0385\n",
      "Epoch 467/500\n",
      "17/17 [==============================] - 0s 4ms/step - loss: 13.2033 - val_loss: 376.0400\n",
      "Epoch 468/500\n",
      "17/17 [==============================] - 0s 3ms/step - loss: 13.2036 - val_loss: 376.0415\n",
      "Epoch 469/500\n",
      "17/17 [==============================] - 0s 4ms/step - loss: 13.2038 - val_loss: 376.0436\n",
      "Epoch 470/500\n",
      "17/17 [==============================] - 0s 4ms/step - loss: 13.2040 - val_loss: 376.0444\n",
      "Epoch 471/500\n",
      "17/17 [==============================] - 0s 4ms/step - loss: 13.2042 - val_loss: 376.0459\n",
      "Epoch 472/500\n",
      "17/17 [==============================] - 0s 4ms/step - loss: 13.2045 - val_loss: 376.0468\n",
      "Epoch 473/500\n",
      "17/17 [==============================] - 0s 4ms/step - loss: 13.2047 - val_loss: 376.0480\n",
      "Epoch 474/500\n",
      "17/17 [==============================] - 0s 4ms/step - loss: 13.2049 - val_loss: 376.0486\n",
      "Epoch 475/500\n",
      "17/17 [==============================] - 0s 4ms/step - loss: 13.2052 - val_loss: 376.0492\n",
      "Epoch 476/500\n",
      "17/17 [==============================] - 0s 4ms/step - loss: 13.2054 - val_loss: 376.0503\n",
      "Epoch 477/500\n",
      "17/17 [==============================] - 0s 3ms/step - loss: 13.2056 - val_loss: 376.0509\n",
      "Epoch 478/500\n",
      "17/17 [==============================] - 0s 3ms/step - loss: 13.2058 - val_loss: 376.0511\n",
      "Epoch 479/500\n",
      "17/17 [==============================] - 0s 4ms/step - loss: 13.2061 - val_loss: 376.0512\n",
      "Epoch 480/500\n",
      "17/17 [==============================] - 0s 4ms/step - loss: 13.2063 - val_loss: 376.0514\n",
      "Epoch 481/500\n",
      "17/17 [==============================] - 0s 4ms/step - loss: 13.2065 - val_loss: 376.0516\n",
      "Epoch 482/500\n",
      "17/17 [==============================] - 0s 4ms/step - loss: 13.2067 - val_loss: 376.0518\n",
      "Epoch 483/500\n",
      "17/17 [==============================] - 0s 4ms/step - loss: 13.2070 - val_loss: 376.0518\n",
      "Epoch 484/500\n",
      "17/17 [==============================] - 0s 3ms/step - loss: 13.2072 - val_loss: 376.0518\n",
      "Epoch 485/500\n",
      "17/17 [==============================] - 0s 4ms/step - loss: 13.2074 - val_loss: 376.0516\n",
      "Epoch 486/500\n",
      "17/17 [==============================] - 0s 4ms/step - loss: 13.2076 - val_loss: 376.0513\n",
      "Epoch 487/500\n",
      "17/17 [==============================] - 0s 4ms/step - loss: 13.2078 - val_loss: 376.0513\n",
      "Epoch 488/500\n",
      "17/17 [==============================] - 0s 4ms/step - loss: 13.2081 - val_loss: 376.0511\n",
      "Epoch 489/500\n",
      "17/17 [==============================] - 0s 4ms/step - loss: 13.2083 - val_loss: 376.0510\n",
      "Epoch 490/500\n",
      "17/17 [==============================] - 0s 4ms/step - loss: 13.2085 - val_loss: 376.0509\n",
      "Epoch 491/500\n",
      "17/17 [==============================] - 0s 4ms/step - loss: 13.2086 - val_loss: 376.0501\n",
      "Epoch 492/500\n",
      "17/17 [==============================] - 0s 4ms/step - loss: 13.2089 - val_loss: 376.0495\n",
      "Epoch 493/500\n",
      "17/17 [==============================] - 0s 3ms/step - loss: 13.2091 - val_loss: 376.0491\n",
      "Epoch 494/500\n",
      "17/17 [==============================] - 0s 3ms/step - loss: 13.2094 - val_loss: 376.0488\n",
      "Epoch 495/500\n",
      "17/17 [==============================] - 0s 9ms/step - loss: 13.2096 - val_loss: 376.0484\n",
      "Epoch 496/500\n",
      "17/17 [==============================] - 0s 5ms/step - loss: 13.2098 - val_loss: 376.0480\n",
      "Epoch 497/500\n",
      "17/17 [==============================] - 0s 4ms/step - loss: 13.2100 - val_loss: 376.0471\n",
      "Epoch 498/500\n",
      "17/17 [==============================] - 0s 4ms/step - loss: 13.2102 - val_loss: 376.0466\n",
      "Epoch 499/500\n",
      "17/17 [==============================] - 0s 4ms/step - loss: 13.2104 - val_loss: 376.0462\n",
      "Epoch 500/500\n",
      "17/17 [==============================] - 0s 4ms/step - loss: 13.2106 - val_loss: 376.0458\n"
     ]
    }
   ],
   "source": [
    "C0 = tf.Variable(88.1552, name=\"C0\", trainable=True, dtype=tf.float32)\n",
    "K0 = tf.Variable(-0.0026, name=\"K0\", trainable=True, dtype=tf.float32)\n",
    "K1 = tf.Variable(-0.0004, name=\"K1\", trainable=True, dtype=tf.float32)\n",
    "a = tf.Variable(0.0000, name=\"a\", trainable=True, dtype=tf.float32)\n",
    "b = tf.Variable(0.0102, name=\"b\", trainable=True, dtype=tf.float32)\n",
    "c = tf.Variable(2.8734, name=\"c\", trainable=True, dtype=tf.float32)\n",
    "\n",
    "splitr = 0.8\n",
    "\n",
    "\n",
    "def loss_fn(y_true, y_pred):\n",
    "    squared_difference = tf.square(y_true[:, 0] - y_pred[:, 0])\n",
    "    #squared_difference2 = tf.square(y_true[:, 2]-y_pred[:, 2])\n",
    "    #squared_difference1 = tf.square(y_true[:, 1]-y_pred[:, 1])\n",
    "    epsilon = 1\n",
    "    squared_difference3 = tf.square(\n",
    "        y_pred[:, 1] - (\n",
    "            y_pred[:, 0] * (\n",
    "                K0 - K1 * (\n",
    "                    9 * a * tf.math.log((y_pred[:, 0] + epsilon) / C0) / (K0 - K1 * c)**2 +\n",
    "                    4 * b * tf.math.log((y_pred[:, 0] + epsilon) / C0) / (K0 - K1 * c) + c\n",
    "                )\n",
    "            )\n",
    "        )\n",
    "    )\n",
    "    return tf.reduce_mean(squared_difference, axis=-1) + 0.2*tf.reduce_mean(squared_difference3, axis=-1)\n",
    "model = Sequential()\n",
    "model.add(LSTM(100, input_shape=(trainX.shape[1], trainX.shape[2])))\n",
    "model.add(Dense(60))\n",
    "model.compile(loss=loss_fn, optimizer='adam')\n",
    "history = model.fit(trainX[:int(splitr*trainX.shape[0])], trainy[:int(splitr*trainX.shape[0])], epochs=500, batch_size=64, validation_data=(trainX[int(splitr*trainX.shape[0]):trainX.shape[0]], trainy[int(splitr*trainX.shape[0]):trainX.shape[0]]), shuffle=False)"
   ]
  },
  {
   "cell_type": "code",
   "execution_count": 19,
   "metadata": {
    "colab": {
     "base_uri": "https://localhost:8080/"
    },
    "id": "yJL101rPyuoT",
    "outputId": "239ff2b1-c186-423a-d316-939dfdd7c793"
   },
   "outputs": [
    {
     "name": "stdout",
     "output_type": "stream",
     "text": [
      "1/1 [==============================] - 0s 321ms/step\n"
     ]
    }
   ],
   "source": [
    "forecast_without_mc = forecastX\n",
    "yhat_without_mc = model.predict(forecast_without_mc) # Step Ahead Prediction\n",
    "forecast_without_mc = forecast_without_mc.reshape((forecast_without_mc.shape[0], forecast_without_mc.shape[2])) # Historical Input"
   ]
  },
  {
   "cell_type": "code",
   "execution_count": 20,
   "metadata": {
    "colab": {
     "base_uri": "https://localhost:8080/"
    },
    "id": "g9dQELcJ8wbp",
    "outputId": "4dc7671b-b1a8-48d5-8744-a86f98446109"
   },
   "outputs": [
    {
     "data": {
      "text/plain": [
       "(1, 1, 251)"
      ]
     },
     "execution_count": 20,
     "metadata": {},
     "output_type": "execute_result"
    }
   ],
   "source": [
    "forecastX.shape"
   ]
  },
  {
   "cell_type": "code",
   "execution_count": 21,
   "metadata": {
    "colab": {
     "base_uri": "https://localhost:8080/"
    },
    "id": "IS2kyIKG1Kbr",
    "outputId": "f31b3485-8e26-452f-9298-ea8bf7e80ad1"
   },
   "outputs": [
    {
     "data": {
      "text/plain": [
       "(1, 251)"
      ]
     },
     "execution_count": 21,
     "metadata": {},
     "output_type": "execute_result"
    }
   ],
   "source": [
    "forecast_without_mc.shape"
   ]
  },
  {
   "cell_type": "code",
   "execution_count": 22,
   "metadata": {
    "id": "0u6VIzaDyuoT"
   },
   "outputs": [],
   "source": [
    "inv_yhat_without_mc = np.concatenate((forecast_without_mc, yhat_without_mc), axis=1) # Concatenation of predicted values with Historical Data\n",
    "#inv_yhat_without_mc = scaler.inverse_transform(inv_yhat_without_mc) # Transform labels back to original encoding"
   ]
  },
  {
   "cell_type": "code",
   "execution_count": 23,
   "metadata": {
    "colab": {
     "base_uri": "https://localhost:8080/"
    },
    "id": "EUEcw0LX07oU",
    "outputId": "cfc32397-9c37-4b43-d087-584bb31c3dcc"
   },
   "outputs": [
    {
     "data": {
      "text/plain": [
       "(1, 311)"
      ]
     },
     "execution_count": 23,
     "metadata": {},
     "output_type": "execute_result"
    }
   ],
   "source": [
    "inv_yhat_without_mc.shape"
   ]
  },
  {
   "cell_type": "code",
   "execution_count": 24,
   "metadata": {
    "id": "31OWVbSh_305"
   },
   "outputs": [],
   "source": [
    "fforecast = inv_yhat_without_mc[:,-300:]"
   ]
  },
  {
   "cell_type": "code",
   "execution_count": 25,
   "metadata": {},
   "outputs": [
    {
     "data": {
      "text/plain": [
       "(1, 300)"
      ]
     },
     "execution_count": 25,
     "metadata": {},
     "output_type": "execute_result"
    }
   ],
   "source": [
    "fforecast.shape"
   ]
  },
  {
   "cell_type": "code",
   "execution_count": 26,
   "metadata": {
    "id": "BlpGH2FOAiRF"
   },
   "outputs": [],
   "source": [
    "final_forecast = fforecast[:,0:300:3]"
   ]
  },
  {
   "cell_type": "code",
   "execution_count": 27,
   "metadata": {},
   "outputs": [
    {
     "data": {
      "text/plain": [
       "(1, 300)"
      ]
     },
     "execution_count": 27,
     "metadata": {},
     "output_type": "execute_result"
    }
   ],
   "source": [
    "fforecast.shape"
   ]
  },
  {
   "cell_type": "code",
   "execution_count": 28,
   "metadata": {
    "id": "CXkgkj_LBk_t"
   },
   "outputs": [],
   "source": [
    "# code to replace all negative value with 0\n",
    "final_forecast[final_forecast<0] = 0"
   ]
  },
  {
   "cell_type": "code",
   "execution_count": 29,
   "metadata": {},
   "outputs": [
    {
     "data": {
      "text/plain": [
       "array([[70.04624183, 70.02663399, 70.00702614, 69.9874183 , 69.96781046,\n",
       "        69.94820261, 69.92859477, 69.90898693, 69.87572362, 69.8309057 ,\n",
       "        69.78608777, 69.74126984, 69.69645191, 69.65163399, 69.60681606,\n",
       "        69.56199813, 69.51718021, 69.47236228, 69.42754435, 69.38272642,\n",
       "        69.3379085 , 69.29309057, 69.24827264, 69.20345472, 69.15863679,\n",
       "        69.11381886, 69.06900093, 69.02418301, 68.97936508, 68.93454715,\n",
       "        68.88972923, 68.8449113 , 68.80009337, 68.75527544, 68.71045752,\n",
       "        68.66563959, 68.62082166, 68.57600373, 68.53118581, 68.48636788,\n",
       "        68.44154995, 68.39673203, 68.3519141 , 68.30709617, 68.28821195,\n",
       "        68.27420635, 68.26020075, 63.96781046, 63.90898693, 63.8501634 ,\n",
       "        63.79133987, 63.73251634, 63.67369281, 63.61486928, 63.55604575,\n",
       "        63.49722222, 63.43839869, 63.37957516, 63.32075163, 63.25105042,\n",
       "        63.17542017, 63.09978992, 63.02415966, 62.94852941, 62.87289916,\n",
       "        62.79726891, 62.72163866, 62.6460084 , 62.57037815, 62.4947479 ,\n",
       "        62.41911765, 62.39372082, 62.38531746, 69.54266357,  0.        ,\n",
       "         0.45828229,  0.18071297,  0.80560917,  0.        ,  0.        ,\n",
       "        47.51451492,  0.        ,  0.1074077 ,  0.        ,  0.18153058,\n",
       "         0.        ,  0.        ,  0.        ,  0.        ,  0.36684385,\n",
       "         0.        ,  0.5387072 ,  0.19517875,  0.        ,  0.96162432,\n",
       "         0.        ,  0.        ,  0.50657511,  0.20638806,  0.15015754]])"
      ]
     },
     "execution_count": 29,
     "metadata": {},
     "output_type": "execute_result"
    }
   ],
   "source": [
    "final_forecast"
   ]
  },
  {
   "cell_type": "code",
   "execution_count": 30,
   "metadata": {},
   "outputs": [
    {
     "data": {
      "text/plain": [
       "(1, 100)"
      ]
     },
     "execution_count": 30,
     "metadata": {},
     "output_type": "execute_result"
    }
   ],
   "source": [
    "final_forecast.shape"
   ]
  },
  {
   "cell_type": "code",
   "execution_count": 31,
   "metadata": {},
   "outputs": [
    {
     "data": {
      "text/plain": [
       "(100,)"
      ]
     },
     "execution_count": 31,
     "metadata": {},
     "output_type": "execute_result"
    }
   ],
   "source": [
    "test.shape"
   ]
  },
  {
   "cell_type": "code",
   "execution_count": 32,
   "metadata": {},
   "outputs": [],
   "source": [
    "training_set = np.array(training_set)\n",
    "test = np.array(test)\n",
    "final_forecast = np.array(final_forecast.squeeze(0))"
   ]
  },
  {
   "cell_type": "code",
   "execution_count": 33,
   "metadata": {},
   "outputs": [
    {
     "data": {
      "text/plain": [
       "array([66.08795518, 66.08048553, 66.07301587, 66.06554622, 66.05807656,\n",
       "       66.05060691, 66.04313725, 66.0356676 , 66.02819795, 66.02072829,\n",
       "       66.01325864, 66.00578898, 65.9947479 , 65.97140523, 65.94806256,\n",
       "       65.92471989, 65.90137722, 65.87803455, 65.85469188, 65.83134921,\n",
       "       65.80800654, 65.78466387, 65.7613212 , 65.73797852, 65.71463585,\n",
       "       65.69129318, 65.66795051, 65.64460784, 65.62126517, 65.5979225 ,\n",
       "       65.57457983, 65.55123716, 65.52789449, 65.50455182, 65.48120915,\n",
       "       65.45786648, 65.43452381, 65.41118114, 65.38783847, 65.3644958 ,\n",
       "       65.34115313, 65.31781046, 65.29446779, 65.27112512, 65.24778245,\n",
       "       65.22443978, 65.20109711, 65.17775444, 65.15441176, 65.13106909,\n",
       "       65.10772642, 65.08438375, 65.06104108, 65.03769841, 65.01435574,\n",
       "       64.99101307, 64.9676704 , 64.94432773, 64.92098506, 64.89764239,\n",
       "       64.87429972, 64.85095705, 64.82761438, 64.80427171, 64.78092904,\n",
       "       64.75758637, 64.7342437 , 64.71090103, 64.68755836, 64.66421569,\n",
       "       64.64087302, 64.61753035, 64.59418768, 64.570845  , 64.54750233,\n",
       "       64.52415966, 64.50081699, 64.47747432, 64.45413165, 64.43078898,\n",
       "       64.40744631, 64.38410364, 64.36076097, 64.3374183 , 64.31407563,\n",
       "       64.29073296, 64.26739029, 64.24404762, 64.22070495, 64.19736228,\n",
       "       64.17401961, 64.15067694, 64.12733427, 64.1039916 , 64.08064893,\n",
       "       64.05730626, 64.03396359, 64.01062092, 63.98727824, 63.96393557])"
      ]
     },
     "execution_count": 33,
     "metadata": {},
     "output_type": "execute_result"
    }
   ],
   "source": [
    "test"
   ]
  },
  {
   "cell_type": "code",
   "execution_count": 34,
   "metadata": {},
   "outputs": [
    {
     "data": {
      "text/plain": [
       "(100,)"
      ]
     },
     "execution_count": 34,
     "metadata": {},
     "output_type": "execute_result"
    }
   ],
   "source": [
    "test.shape"
   ]
  },
  {
   "cell_type": "code",
   "execution_count": 35,
   "metadata": {},
   "outputs": [
    {
     "data": {
      "text/plain": [
       "(100,)"
      ]
     },
     "execution_count": 35,
     "metadata": {},
     "output_type": "execute_result"
    }
   ],
   "source": [
    "final_forecast.shape"
   ]
  },
  {
   "cell_type": "code",
   "execution_count": 36,
   "metadata": {},
   "outputs": [
    {
     "data": {
      "text/plain": [
       "(100,)"
      ]
     },
     "execution_count": 36,
     "metadata": {},
     "output_type": "execute_result"
    }
   ],
   "source": [
    "test.shape"
   ]
  },
  {
   "cell_type": "code",
   "execution_count": 37,
   "metadata": {},
   "outputs": [
    {
     "name": "stdout",
     "output_type": "stream",
     "text": [
      "32.18182049733163\n",
      "18.31395344930463\n"
     ]
    }
   ],
   "source": [
    "import math\n",
    "MSE = np.square(np.subtract(np.array(test),np.array(final_forecast))).mean()   \n",
    "rsme = math.sqrt(MSE)\n",
    "print(rsme)  \n",
    "MAE = np.abs(np.subtract(np.array(test),np.array(final_forecast))).mean()   \n",
    "mae = MAE\n",
    "print(mae)"
   ]
  }
 ],
 "metadata": {
  "colab": {
   "provenance": []
  },
  "kernelspec": {
   "display_name": "Python 3",
   "language": "python",
   "name": "python3"
  },
  "language_info": {
   "codemirror_mode": {
    "name": "ipython",
    "version": 3
   },
   "file_extension": ".py",
   "mimetype": "text/x-python",
   "name": "python",
   "nbconvert_exporter": "python",
   "pygments_lexer": "ipython3",
   "version": "3.9.13"
  }
 },
 "nbformat": 4,
 "nbformat_minor": 0
}
