{
 "cells": [
  {
   "cell_type": "markdown",
   "metadata": {
    "id": "pCGKeZ2gyuoQ"
   },
   "source": [
    "_Importing Required Libraries_"
   ]
  },
  {
   "cell_type": "code",
   "execution_count": 1,
   "metadata": {
    "colab": {
     "base_uri": "https://localhost:8080/"
    },
    "id": "A-6LN-zXiLcM",
    "outputId": "4de610a4-f8b8-4f49-c6c0-89de299ccedc"
   },
   "outputs": [
    {
     "name": "stdout",
     "output_type": "stream",
     "text": [
      "Requirement already satisfied: hampel in c:\\users\\anurag dutta\\appdata\\local\\packages\\pythonsoftwarefoundation.python.3.9_qbz5n2kfra8p0\\localcache\\local-packages\\python39\\site-packages (0.0.5)\n",
      "Requirement already satisfied: numpy in c:\\users\\anurag dutta\\appdata\\local\\packages\\pythonsoftwarefoundation.python.3.9_qbz5n2kfra8p0\\localcache\\local-packages\\python39\\site-packages (from hampel) (1.26.4)\n",
      "Requirement already satisfied: pandas in c:\\users\\anurag dutta\\appdata\\local\\packages\\pythonsoftwarefoundation.python.3.9_qbz5n2kfra8p0\\localcache\\local-packages\\python39\\site-packages (from hampel) (1.5.2)\n",
      "Requirement already satisfied: python-dateutil>=2.8.1 in c:\\users\\anurag dutta\\appdata\\local\\packages\\pythonsoftwarefoundation.python.3.9_qbz5n2kfra8p0\\localcache\\local-packages\\python39\\site-packages (from pandas->hampel) (2.8.2)\n",
      "Requirement already satisfied: pytz>=2020.1 in c:\\users\\anurag dutta\\appdata\\local\\packages\\pythonsoftwarefoundation.python.3.9_qbz5n2kfra8p0\\localcache\\local-packages\\python39\\site-packages (from pandas->hampel) (2023.3.post1)\n",
      "Requirement already satisfied: six>=1.5 in c:\\users\\anurag dutta\\appdata\\local\\packages\\pythonsoftwarefoundation.python.3.9_qbz5n2kfra8p0\\localcache\\local-packages\\python39\\site-packages (from python-dateutil>=2.8.1->pandas->hampel) (1.16.0)\n",
      "Note: you may need to restart the kernel to use updated packages.\n"
     ]
    },
    {
     "name": "stderr",
     "output_type": "stream",
     "text": [
      "\n",
      "[notice] A new release of pip is available: 24.2 -> 24.3.1\n",
      "[notice] To update, run: C:\\Users\\Anurag Dutta\\AppData\\Local\\Microsoft\\WindowsApps\\PythonSoftwareFoundation.Python.3.9_qbz5n2kfra8p0\\python.exe -m pip install --upgrade pip\n"
     ]
    }
   ],
   "source": [
    "pip install hampel"
   ]
  },
  {
   "cell_type": "code",
   "execution_count": 2,
   "metadata": {
    "id": "By_d9uXpaFvZ"
   },
   "outputs": [],
   "source": [
    "from keras.models import Sequential\n",
    "from keras.layers import Dense\n",
    "from keras.layers import LSTM\n",
    "from keras.layers import Dropout\n",
    "import keras\n",
    "import tensorflow as tf\n",
    "from hampel import hampel\n",
    "import numpy as np\n",
    "import matplotlib.pyplot as plt\n",
    "import pandas as pd\n",
    "from sklearn.preprocessing import MinMaxScaler\n",
    "from sklearn.metrics import mean_squared_error, mean_absolute_error\n",
    "from math import sqrt\n",
    "from matplotlib import pyplot\n",
    "from numpy import array"
   ]
  },
  {
   "cell_type": "markdown",
   "metadata": {
    "id": "JyOjBMFayuoR"
   },
   "source": [
    "## Pretraining"
   ]
  },
  {
   "cell_type": "markdown",
   "metadata": {
    "id": "-5QqIY_GyuoR"
   },
   "source": [
    "The `capa_intermittency.dat` feeds the model with the dynamics of the Capacitor"
   ]
  },
  {
   "cell_type": "code",
   "execution_count": 3,
   "metadata": {
    "id": "9dV4a8yfyuoR"
   },
   "outputs": [],
   "source": [
    "data = np.genfromtxt('capa_intermittency.dat')\n",
    "training_set = pd.DataFrame(data).reset_index(drop=True)\n",
    "training_set = training_set.iloc[:,0]"
   ]
  },
  {
   "cell_type": "markdown",
   "metadata": {
    "id": "i7easoxByuoR"
   },
   "source": [
    "## Computing the Gradient"
   ]
  },
  {
   "cell_type": "markdown",
   "metadata": {
    "id": "5SnyolJTyuoR"
   },
   "source": [
    "_Calculating the value of_ $\\frac{dx}{dt}$"
   ]
  },
  {
   "cell_type": "code",
   "execution_count": 4,
   "metadata": {
    "colab": {
     "base_uri": "https://localhost:8080/"
    },
    "id": "wmIbVfIvyuoR",
    "outputId": "aa4e3136-c854-465d-d2e9-81cfd546e440"
   },
   "outputs": [
    {
     "name": "stdout",
     "output_type": "stream",
     "text": [
      "1.0\n",
      "1        0.000298\n",
      "2        0.000298\n",
      "3        0.000297\n",
      "4        0.000297\n",
      "5        0.000297\n",
      "           ...   \n",
      "9996     0.000018\n",
      "9997     0.000018\n",
      "9998     0.000018\n",
      "9999     0.000018\n",
      "10000    0.000018\n",
      "Name: 0, Length: 10000, dtype: float64\n"
     ]
    }
   ],
   "source": [
    "t_diff = 1\n",
    "print(training_set.max())\n",
    "gradient_t = (training_set.diff()/t_diff).iloc[1:] # dx/dt\n",
    "print(gradient_t)"
   ]
  },
  {
   "cell_type": "markdown",
   "metadata": {
    "id": "_2eVeeoxyuoS"
   },
   "source": [
    "## Loading Datasets"
   ]
  },
  {
   "cell_type": "code",
   "execution_count": null,
   "metadata": {
    "id": "0J-NKyIEyuoS"
   },
   "outputs": [
    {
     "data": {
      "text/plain": [
       "0       88.200000\n",
       "1       87.987115\n",
       "2       87.774230\n",
       "3       87.561345\n",
       "4       87.348459\n",
       "          ...    \n",
       "2495    55.336073\n",
       "2496    55.327055\n",
       "2497    55.318036\n",
       "2498    55.309018\n",
       "2499    55.300000\n",
       "Name: C8, Length: 2500, dtype: float64"
      ]
     },
     "execution_count": 5,
     "metadata": {},
     "output_type": "execute_result"
    }
   ],
   "source": [
    "data = pd.read_csv(\"c8_interpolated_2400_100.csv\")\n",
    "training_set = data.iloc[:, 1]\n",
    "training_set"
   ]
  },
  {
   "cell_type": "code",
   "execution_count": 6,
   "metadata": {
    "colab": {
     "base_uri": "https://localhost:8080/"
    },
    "id": "-CbNUhJ74UqF",
    "outputId": "20f562d8-8247-49cc-b9c3-00eca5e13e2d"
   },
   "outputs": [
    {
     "data": {
      "text/plain": [
       "0       88.200000\n",
       "1       87.987115\n",
       "2       87.774230\n",
       "3       87.561345\n",
       "4       87.348459\n",
       "          ...    \n",
       "2395     0.506841\n",
       "2396     0.825989\n",
       "2397     0.000000\n",
       "2398     0.375458\n",
       "2399     0.000000\n",
       "Name: C8, Length: 2400, dtype: float64"
      ]
     },
     "execution_count": 6,
     "metadata": {},
     "output_type": "execute_result"
    }
   ],
   "source": [
    "test = training_set.tail(100)\n",
    "test\n",
    "training_set = training_set.head(2400)\n",
    "training_set"
   ]
  },
  {
   "cell_type": "code",
   "execution_count": 7,
   "metadata": {
    "colab": {
     "base_uri": "https://localhost:8080/"
    },
    "id": "X0TwTcq0yuoS",
    "outputId": "37252ed8-d88e-4044-fa7a-922411990b5b"
   },
   "outputs": [
    {
     "name": "stdout",
     "output_type": "stream",
     "text": [
      "0       0.000298\n",
      "1       0.000298\n",
      "2       0.000297\n",
      "3       0.000297\n",
      "4       0.000297\n",
      "          ...   \n",
      "9995    0.000018\n",
      "9996    0.000018\n",
      "9997    0.000018\n",
      "9998    0.000018\n",
      "9999    0.000018\n",
      "Name: 0, Length: 10000, dtype: float64\n"
     ]
    }
   ],
   "source": [
    "training_set = training_set.reset_index(drop=True)\n",
    "gradient_t = gradient_t.reset_index(drop=True)\n",
    "print(gradient_t)"
   ]
  },
  {
   "cell_type": "code",
   "execution_count": 8,
   "metadata": {
    "id": "O2biznZQyuoS"
   },
   "outputs": [],
   "source": [
    "df = pd.concat((training_set, gradient_t), axis=1)\n",
    "df.columns = ['y_t', 'grad_t']"
   ]
  },
  {
   "cell_type": "code",
   "execution_count": null,
   "metadata": {
    "colab": {
     "base_uri": "https://localhost:8080/",
     "height": 423
    },
    "id": "sk_a5v3tyuoS",
    "outputId": "17563625-e550-45ae-faab-fafa353e44da"
   },
   "outputs": [
    {
     "data": {
      "text/html": [
       "<div>\n",
       "<style scoped>\n",
       "    .dataframe tbody tr th:only-of-type {\n",
       "        vertical-align: middle;\n",
       "    }\n",
       "\n",
       "    .dataframe tbody tr th {\n",
       "        vertical-align: top;\n",
       "    }\n",
       "\n",
       "    .dataframe thead th {\n",
       "        text-align: right;\n",
       "    }\n",
       "</style>\n",
       "<table border=\"1\" class=\"dataframe\">\n",
       "  <thead>\n",
       "    <tr style=\"text-align: right;\">\n",
       "      <th></th>\n",
       "      <th>y_t</th>\n",
       "      <th>grad_t</th>\n",
       "    </tr>\n",
       "  </thead>\n",
       "  <tbody>\n",
       "    <tr>\n",
       "      <th>0</th>\n",
       "      <td>88.200000</td>\n",
       "      <td>0.000298</td>\n",
       "    </tr>\n",
       "    <tr>\n",
       "      <th>1</th>\n",
       "      <td>87.987115</td>\n",
       "      <td>0.000298</td>\n",
       "    </tr>\n",
       "    <tr>\n",
       "      <th>2</th>\n",
       "      <td>87.774230</td>\n",
       "      <td>0.000297</td>\n",
       "    </tr>\n",
       "    <tr>\n",
       "      <th>3</th>\n",
       "      <td>87.561345</td>\n",
       "      <td>0.000297</td>\n",
       "    </tr>\n",
       "    <tr>\n",
       "      <th>4</th>\n",
       "      <td>87.348459</td>\n",
       "      <td>0.000297</td>\n",
       "    </tr>\n",
       "    <tr>\n",
       "      <th>...</th>\n",
       "      <td>...</td>\n",
       "      <td>...</td>\n",
       "    </tr>\n",
       "    <tr>\n",
       "      <th>9995</th>\n",
       "      <td>NaN</td>\n",
       "      <td>0.000018</td>\n",
       "    </tr>\n",
       "    <tr>\n",
       "      <th>9996</th>\n",
       "      <td>NaN</td>\n",
       "      <td>0.000018</td>\n",
       "    </tr>\n",
       "    <tr>\n",
       "      <th>9997</th>\n",
       "      <td>NaN</td>\n",
       "      <td>0.000018</td>\n",
       "    </tr>\n",
       "    <tr>\n",
       "      <th>9998</th>\n",
       "      <td>NaN</td>\n",
       "      <td>0.000018</td>\n",
       "    </tr>\n",
       "    <tr>\n",
       "      <th>9999</th>\n",
       "      <td>NaN</td>\n",
       "      <td>0.000018</td>\n",
       "    </tr>\n",
       "  </tbody>\n",
       "</table>\n",
       "<p>10000 rows × 2 columns</p>\n",
       "</div>"
      ],
      "text/plain": [
       "            y_t    grad_t\n",
       "0     88.200000  0.000298\n",
       "1     87.987115  0.000298\n",
       "2     87.774230  0.000297\n",
       "3     87.561345  0.000297\n",
       "4     87.348459  0.000297\n",
       "...         ...       ...\n",
       "9995        NaN  0.000018\n",
       "9996        NaN  0.000018\n",
       "9997        NaN  0.000018\n",
       "9998        NaN  0.000018\n",
       "9999        NaN  0.000018\n",
       "\n",
       "[10000 rows x 2 columns]"
      ]
     },
     "execution_count": 9,
     "metadata": {},
     "output_type": "execute_result"
    }
   ],
   "source": [
    "df"
   ]
  },
  {
   "cell_type": "markdown",
   "metadata": {
    "id": "-5esyHu5aFvg"
   },
   "source": [
    "## Plot of the External Forcing from Chaotic Differential Equation"
   ]
  },
  {
   "cell_type": "code",
   "execution_count": 10,
   "metadata": {
    "colab": {
     "base_uri": "https://localhost:8080/",
     "height": 447
    },
    "id": "hGnE43tOh-4p",
    "outputId": "fc396503-b624-4fa5-dfbe-f460207405c6"
   },
   "outputs": [
    {
     "data": {
      "text/plain": [
       "<Axes: >"
      ]
     },
     "execution_count": 10,
     "metadata": {},
     "output_type": "execute_result"
    },
    {
     "data": {
      "image/png": "[encoded data removed]",
      "text/plain": [
       "<Figure size 432x288 with 1 Axes>"
      ]
     },
     "metadata": {
      "needs_background": "light"
     },
     "output_type": "display_data"
    }
   ],
   "source": [
    "df.iloc[:, 0].plot()"
   ]
  },
  {
   "cell_type": "code",
   "execution_count": 11,
   "metadata": {
    "colab": {
     "base_uri": "https://localhost:8080/",
     "height": 447
    },
    "id": "ym4xWUUxaFvg",
    "outputId": "ae6a3495-8ce9-437e-ba81-3ed31deedeae"
   },
   "outputs": [
    {
     "name": "stderr",
     "output_type": "stream",
     "text": [
      "C:\\Users\\Anurag Dutta\\AppData\\Local\\Packages\\PythonSoftwareFoundation.Python.3.9_qbz5n2kfra8p0\\LocalCache\\local-packages\\Python39\\site-packages\\pandas\\core\\arraylike.py:402: RuntimeWarning: divide by zero encountered in log\n",
      "  result = getattr(ufunc, method)(*inputs, **kwargs)\n"
     ]
    },
    {
     "data": {
      "text/plain": [
       "<Axes: >"
      ]
     },
     "execution_count": 11,
     "metadata": {},
     "output_type": "execute_result"
    },
    {
     "data": {
      "image/png": "[encoded data removed]",
      "text/plain": [
       "<Figure size 432x288 with 1 Axes>"
      ]
     },
     "metadata": {
      "needs_background": "light"
     },
     "output_type": "display_data"
    }
   ],
   "source": [
    "import numpy as np\n",
    "c0 = 85.7336  # Value for C0\n",
    "K0 = -0.0020  # Value for K0\n",
    "K1 = 0.0002  # Value for K1\n",
    "a = 0.0000    # Value for a\n",
    "b = 0.0125    # Value for b\n",
    "c = 2.3008    # Value for c\n",
    "\n",
    "L = np.minimum(c0, (df.iloc[:, 1] - (df.iloc[:, 0] * (K0 - K1 * (9 * a * np.log(df.iloc[:, 0] / c0) / (K0 - K1 * c)**2 + 4 * b * np.log(df.iloc[:, 0] / c0) / (K0 - K1 * c) + c)))))\n",
    "L.plot()"
   ]
  },
  {
   "cell_type": "markdown",
   "metadata": {
    "id": "9VyEywnwaFvh"
   },
   "source": [
    "## Preprocessing the data into supervised learning"
   ]
  },
  {
   "cell_type": "code",
   "execution_count": 12,
   "metadata": {
    "id": "6V9dXqzdaFvh"
   },
   "outputs": [],
   "source": [
    "# split a sequence into samples\n",
    "def Supervised(data, n_in=1, n_out=1, dropnan=True):\n",
    "    n_vars = 1 if type(data) is list else data.shape[1]\n",
    "    df = pd.DataFrame(data)\n",
    "    cols, names = list(), list()\n",
    "    # input sequence (t-n_in, ... t-1)\n",
    "    for i in range(n_in, 0, -1):\n",
    "        cols.append(df.shift(i))\n",
    "        names += [('var%d(t-%d)' % (j+1, i)) for j in range(n_vars)]\n",
    "    # forecast sequence (t, t+1, ... t+n_out)\n",
    "    for i in range(0, n_out):\n",
    "      cols.append(df.shift(-i))\n",
    "      if i == 0:\n",
    "        names += [('var%d(t)' % (j+1)) for j in range(n_vars)]\n",
    "      else:\n",
    "        names += [('var%d(t+%d)' % (j+1, i)) for j in range(n_vars)]\n",
    "    # put it all together\n",
    "    agg = pd.concat(cols, axis=1)\n",
    "    agg.columns = names\n",
    "    # drop rows with NaN values\n",
    "    if dropnan:\n",
    "       agg.dropna(inplace=True)\n",
    "    return agg"
   ]
  },
  {
   "cell_type": "code",
   "execution_count": 13,
   "metadata": {
    "colab": {
     "base_uri": "https://localhost:8080/"
    },
    "id": "CrzSrT1HnyfH",
    "outputId": "7e75f928-3e47-499d-eac1-51908015ef78"
   },
   "outputs": [
    {
     "name": "stdout",
     "output_type": "stream",
     "text": [
      "     var1(t-350)  var1(t-349)  var1(t-348)  var1(t-347)  var1(t-346)  \\\n",
      "350    88.200000    87.987115    87.774230    87.561345    87.348459   \n",
      "351    87.987115    87.774230    87.561345    87.348459    87.135574   \n",
      "352    87.774230    87.561345    87.348459    87.135574    86.922689   \n",
      "353    87.561345    87.348459    87.135574    86.922689    86.709804   \n",
      "354    87.348459    87.135574    86.922689    86.709804    86.496919   \n",
      "\n",
      "     var1(t-345)  var1(t-344)  var1(t-343)  var1(t-342)  var1(t-341)  ...  \\\n",
      "350    87.135574    86.922689    86.709804    86.496919    86.294538  ...   \n",
      "351    86.922689    86.709804    86.496919    86.294538    86.221709  ...   \n",
      "352    86.709804    86.496919    86.294538    86.221709    86.148880  ...   \n",
      "353    86.496919    86.294538    86.221709    86.148880    86.076050  ...   \n",
      "354    86.294538    86.221709    86.148880    86.076050    86.003221  ...   \n",
      "\n",
      "     var1(t+95)  var2(t+95)  var1(t+96)  var2(t+96)  var1(t+97)  var2(t+97)  \\\n",
      "350   76.094351    0.000263   76.058870    0.000263   76.023389    0.000263   \n",
      "351   76.058870    0.000263   76.023389    0.000263   75.987909    0.000262   \n",
      "352   76.023389    0.000263   75.987909    0.000262   75.952428    0.000262   \n",
      "353   75.987909    0.000262   75.952428    0.000262   75.916947    0.000262   \n",
      "354   75.952428    0.000262   75.916947    0.000262   75.881466    0.000262   \n",
      "\n",
      "     var1(t+98)  var2(t+98)  var1(t+99)  var2(t+99)  \n",
      "350   75.987909    0.000262   75.952428    0.000262  \n",
      "351   75.952428    0.000262   75.916947    0.000262  \n",
      "352   75.916947    0.000262   75.881466    0.000262  \n",
      "353   75.881466    0.000262   75.845985    0.000262  \n",
      "354   75.845985    0.000262   75.810504    0.000262  \n",
      "\n",
      "[5 rows x 551 columns]\n",
      "Index(['var1(t-350)', 'var1(t-349)', 'var1(t-348)', 'var1(t-347)',\n",
      "       'var1(t-346)', 'var1(t-345)', 'var1(t-344)', 'var1(t-343)',\n",
      "       'var1(t-342)', 'var1(t-341)',\n",
      "       ...\n",
      "       'var1(t+95)', 'var2(t+95)', 'var1(t+96)', 'var2(t+96)', 'var1(t+97)',\n",
      "       'var2(t+97)', 'var1(t+98)', 'var2(t+98)', 'var1(t+99)', 'var2(t+99)'],\n",
      "      dtype='object', length=551)\n"
     ]
    }
   ],
   "source": [
    "data = Supervised(df.values, n_in = 350, n_out = 100)\n",
    "\n",
    "\n",
    "cols_to_drop = []\n",
    "for i in range(2, 351):\n",
    "    cols_to_drop.extend([f'var2(t-{i})'])\n",
    "\n",
    "data.drop(cols_to_drop, axis=1, inplace=True)\n",
    "\n",
    "print(data.head())\n",
    "print(data.columns)"
   ]
  },
  {
   "cell_type": "code",
   "execution_count": 14,
   "metadata": {
    "id": "AfPf60oy6Pe4"
   },
   "outputs": [],
   "source": [
    "train = np.array(data[0:len(data)-1])\n",
    "forecast = np.array(data.tail(1))"
   ]
  },
  {
   "cell_type": "code",
   "execution_count": 15,
   "metadata": {
    "id": "WSAafzI37KiT"
   },
   "outputs": [],
   "source": [
    "trainy = train[:,-300:]\n",
    "trainX = train[:,:-300]"
   ]
  },
  {
   "cell_type": "code",
   "execution_count": 16,
   "metadata": {
    "id": "2SrOqVJA7f50"
   },
   "outputs": [],
   "source": [
    "forecasty = forecast[:,-300:]\n",
    "forecastX = forecast[:,:-300]"
   ]
  },
  {
   "cell_type": "code",
   "execution_count": 17,
   "metadata": {
    "colab": {
     "base_uri": "https://localhost:8080/"
    },
    "id": "Qno_k8Nw7saY",
    "outputId": "c4a88db5-d8c6-489f-cdb2-06b24e293cff"
   },
   "outputs": [
    {
     "name": "stdout",
     "output_type": "stream",
     "text": [
      "(1950, 1, 251) (1950, 300) (1, 1, 251)\n"
     ]
    }
   ],
   "source": [
    "trainX = trainX.reshape((trainX.shape[0], 1, trainX.shape[1]))\n",
    "forecastX = forecastX.reshape((forecastX.shape[0], 1, forecastX.shape[1]))\n",
    "print(trainX.shape, trainy.shape, forecastX.shape)"
   ]
  },
  {
   "cell_type": "code",
   "execution_count": 18,
   "metadata": {
    "colab": {
     "base_uri": "https://localhost:8080/"
    },
    "id": "b1Jp2DvNuNFx",
    "outputId": "d0e5b3c4-64f1-438c-eade-8dfeaac8e285"
   },
   "outputs": [
    {
     "name": "stdout",
     "output_type": "stream",
     "text": [
      "Epoch 1/500\n",
      "25/25 [==============================] - 4s 33ms/step - loss: 4397.0640 - val_loss: 2537.0745\n",
      "Epoch 2/500\n",
      "25/25 [==============================] - 0s 6ms/step - loss: 4167.4917 - val_loss: 2399.0735\n",
      "Epoch 3/500\n",
      "25/25 [==============================] - 0s 6ms/step - loss: 3976.6812 - val_loss: 2294.9041\n",
      "Epoch 4/500\n",
      "25/25 [==============================] - 0s 8ms/step - loss: 3839.9045 - val_loss: 2218.8533\n",
      "Epoch 5/500\n",
      "25/25 [==============================] - 0s 7ms/step - loss: 3711.9856 - val_loss: 2144.5427\n",
      "Epoch 6/500\n",
      "25/25 [==============================] - 0s 6ms/step - loss: 3591.5706 - val_loss: 2076.8330\n",
      "Epoch 7/500\n",
      "25/25 [==============================] - 0s 7ms/step - loss: 3477.3267 - val_loss: 2012.6656\n",
      "Epoch 8/500\n",
      "25/25 [==============================] - 0s 6ms/step - loss: 3367.5144 - val_loss: 1951.4880\n",
      "Epoch 9/500\n",
      "25/25 [==============================] - 0s 5ms/step - loss: 3261.4561 - val_loss: 1892.9672\n",
      "Epoch 10/500\n",
      "25/25 [==============================] - 0s 5ms/step - loss: 3158.7725 - val_loss: 1836.9771\n",
      "Epoch 11/500\n",
      "25/25 [==============================] - 0s 5ms/step - loss: 3059.1660 - val_loss: 1783.5590\n",
      "Epoch 12/500\n",
      "25/25 [==============================] - 0s 5ms/step - loss: 2962.4753 - val_loss: 1732.2380\n",
      "Epoch 13/500\n",
      "25/25 [==============================] - 0s 5ms/step - loss: 2868.5547 - val_loss: 1683.0573\n",
      "Epoch 14/500\n",
      "25/25 [==============================] - 0s 5ms/step - loss: 2777.2888 - val_loss: 1635.9446\n",
      "Epoch 15/500\n",
      "25/25 [==============================] - 0s 5ms/step - loss: 2688.5835 - val_loss: 1590.8206\n",
      "Epoch 16/500\n",
      "25/25 [==============================] - 0s 6ms/step - loss: 2602.3555 - val_loss: 1547.5664\n",
      "Epoch 17/500\n",
      "25/25 [==============================] - 0s 5ms/step - loss: 2518.5164 - val_loss: 1505.8080\n",
      "Epoch 18/500\n",
      "25/25 [==============================] - 0s 7ms/step - loss: 2437.0981 - val_loss: 1467.3995\n",
      "Epoch 19/500\n",
      "25/25 [==============================] - 0s 6ms/step - loss: 2357.8384 - val_loss: 1429.8131\n",
      "Epoch 20/500\n",
      "25/25 [==============================] - 0s 6ms/step - loss: 2280.8533 - val_loss: 1393.9666\n",
      "Epoch 21/500\n",
      "25/25 [==============================] - 0s 7ms/step - loss: 2206.0371 - val_loss: 1359.8138\n",
      "Epoch 22/500\n",
      "25/25 [==============================] - 0s 6ms/step - loss: 2133.3389 - val_loss: 1327.3112\n",
      "Epoch 23/500\n",
      "25/25 [==============================] - 0s 8ms/step - loss: 2062.7107 - val_loss: 1296.4146\n",
      "Epoch 24/500\n",
      "25/25 [==============================] - 0s 7ms/step - loss: 1994.1064 - val_loss: 1267.0790\n",
      "Epoch 25/500\n",
      "25/25 [==============================] - 0s 9ms/step - loss: 1927.4817 - val_loss: 1238.8284\n",
      "Epoch 26/500\n",
      "25/25 [==============================] - 0s 7ms/step - loss: 1858.8949 - val_loss: 1209.9050\n",
      "Epoch 27/500\n",
      "25/25 [==============================] - 0s 6ms/step - loss: 1790.4591 - val_loss: 1183.2411\n",
      "Epoch 28/500\n",
      "25/25 [==============================] - 0s 6ms/step - loss: 1725.3833 - val_loss: 1158.5801\n",
      "Epoch 29/500\n",
      "25/25 [==============================] - 0s 5ms/step - loss: 1663.1382 - val_loss: 1135.6633\n",
      "Epoch 30/500\n",
      "25/25 [==============================] - 0s 6ms/step - loss: 1603.3180 - val_loss: 1114.3424\n",
      "Epoch 31/500\n",
      "25/25 [==============================] - 0s 5ms/step - loss: 1545.6974 - val_loss: 1094.5171\n",
      "Epoch 32/500\n",
      "25/25 [==============================] - 0s 5ms/step - loss: 1490.1292 - val_loss: 1076.1113\n",
      "Epoch 33/500\n",
      "25/25 [==============================] - 0s 5ms/step - loss: 1436.5055 - val_loss: 1059.0614\n",
      "Epoch 34/500\n",
      "25/25 [==============================] - 0s 9ms/step - loss: 1384.7418 - val_loss: 1043.3113\n",
      "Epoch 35/500\n",
      "25/25 [==============================] - 0s 8ms/step - loss: 1334.7659 - val_loss: 1028.8110\n",
      "Epoch 36/500\n",
      "25/25 [==============================] - 0s 5ms/step - loss: 1286.5153 - val_loss: 1015.5133\n",
      "Epoch 37/500\n",
      "25/25 [==============================] - 0s 5ms/step - loss: 1239.9338 - val_loss: 1003.3742\n",
      "Epoch 38/500\n",
      "25/25 [==============================] - 0s 5ms/step - loss: 1194.9696 - val_loss: 992.3514\n",
      "Epoch 39/500\n",
      "25/25 [==============================] - 0s 6ms/step - loss: 1151.5739 - val_loss: 982.4050\n",
      "Epoch 40/500\n",
      "25/25 [==============================] - 0s 7ms/step - loss: 1109.7012 - val_loss: 973.4957\n",
      "Epoch 41/500\n",
      "25/25 [==============================] - 0s 7ms/step - loss: 1069.3091 - val_loss: 965.5859\n",
      "Epoch 42/500\n",
      "25/25 [==============================] - 0s 7ms/step - loss: 1030.3553 - val_loss: 958.6388\n",
      "Epoch 43/500\n",
      "25/25 [==============================] - 0s 15ms/step - loss: 992.7997 - val_loss: 952.6185\n",
      "Epoch 44/500\n",
      "25/25 [==============================] - 0s 9ms/step - loss: 956.6043 - val_loss: 947.4901\n",
      "Epoch 45/500\n",
      "25/25 [==============================] - 0s 7ms/step - loss: 921.7316 - val_loss: 943.2192\n",
      "Epoch 46/500\n",
      "25/25 [==============================] - 0s 6ms/step - loss: 888.1449 - val_loss: 939.7726\n",
      "Epoch 47/500\n",
      "25/25 [==============================] - 0s 5ms/step - loss: 855.8087 - val_loss: 937.1166\n",
      "Epoch 48/500\n",
      "25/25 [==============================] - 0s 6ms/step - loss: 824.6882 - val_loss: 935.2196\n",
      "Epoch 49/500\n",
      "25/25 [==============================] - 0s 5ms/step - loss: 794.7500 - val_loss: 934.0497\n",
      "Epoch 50/500\n",
      "25/25 [==============================] - 0s 5ms/step - loss: 765.9603 - val_loss: 933.5756\n",
      "Epoch 51/500\n",
      "25/25 [==============================] - 0s 6ms/step - loss: 738.2869 - val_loss: 933.7669\n",
      "Epoch 52/500\n",
      "25/25 [==============================] - 0s 7ms/step - loss: 711.6981 - val_loss: 934.5936\n",
      "Epoch 53/500\n",
      "25/25 [==============================] - 0s 5ms/step - loss: 686.1622 - val_loss: 936.0259\n",
      "Epoch 54/500\n",
      "25/25 [==============================] - 0s 5ms/step - loss: 661.6492 - val_loss: 938.0350\n",
      "Epoch 55/500\n",
      "25/25 [==============================] - 0s 5ms/step - loss: 638.1283 - val_loss: 940.5927\n",
      "Epoch 56/500\n",
      "25/25 [==============================] - 0s 5ms/step - loss: 615.5701 - val_loss: 943.6705\n",
      "Epoch 57/500\n",
      "25/25 [==============================] - 0s 6ms/step - loss: 593.9456 - val_loss: 947.2413\n",
      "Epoch 58/500\n",
      "25/25 [==============================] - 0s 7ms/step - loss: 573.2266 - val_loss: 951.2782\n",
      "Epoch 59/500\n",
      "25/25 [==============================] - 0s 11ms/step - loss: 553.3845 - val_loss: 955.7548\n",
      "Epoch 60/500\n",
      "25/25 [==============================] - 0s 8ms/step - loss: 534.3921 - val_loss: 960.6452\n",
      "Epoch 61/500\n",
      "25/25 [==============================] - 0s 6ms/step - loss: 516.2223 - val_loss: 965.9239\n",
      "Epoch 62/500\n",
      "25/25 [==============================] - 0s 7ms/step - loss: 498.8486 - val_loss: 971.5663\n",
      "Epoch 63/500\n",
      "25/25 [==============================] - 0s 9ms/step - loss: 482.2448 - val_loss: 977.5480\n",
      "Epoch 64/500\n",
      "25/25 [==============================] - 0s 12ms/step - loss: 466.3855 - val_loss: 983.8453\n",
      "Epoch 65/500\n",
      "25/25 [==============================] - 0s 7ms/step - loss: 451.2455 - val_loss: 990.4352\n",
      "Epoch 66/500\n",
      "25/25 [==============================] - 0s 5ms/step - loss: 436.8001 - val_loss: 997.2947\n",
      "Epoch 67/500\n",
      "25/25 [==============================] - 0s 5ms/step - loss: 423.0253 - val_loss: 1004.4017\n",
      "Epoch 68/500\n",
      "25/25 [==============================] - 0s 5ms/step - loss: 409.8974 - val_loss: 1011.7349\n",
      "Epoch 69/500\n",
      "25/25 [==============================] - 0s 5ms/step - loss: 397.3935 - val_loss: 1019.2734\n",
      "Epoch 70/500\n",
      "25/25 [==============================] - 0s 5ms/step - loss: 385.4904 - val_loss: 1026.9963\n",
      "Epoch 71/500\n",
      "25/25 [==============================] - 0s 6ms/step - loss: 374.1664 - val_loss: 1034.8838\n",
      "Epoch 72/500\n",
      "25/25 [==============================] - 0s 6ms/step - loss: 363.3996 - val_loss: 1042.9174\n",
      "Epoch 73/500\n",
      "25/25 [==============================] - 0s 5ms/step - loss: 353.1685 - val_loss: 1051.0775\n",
      "Epoch 74/500\n",
      "25/25 [==============================] - 0s 6ms/step - loss: 343.4527 - val_loss: 1059.3466\n",
      "Epoch 75/500\n",
      "25/25 [==============================] - 0s 5ms/step - loss: 334.2318 - val_loss: 1067.7067\n",
      "Epoch 76/500\n",
      "25/25 [==============================] - 0s 6ms/step - loss: 325.4861 - val_loss: 1076.1412\n",
      "Epoch 77/500\n",
      "25/25 [==============================] - 0s 5ms/step - loss: 317.1960 - val_loss: 1084.6339\n",
      "Epoch 78/500\n",
      "25/25 [==============================] - 0s 6ms/step - loss: 309.3430 - val_loss: 1093.1691\n",
      "Epoch 79/500\n",
      "25/25 [==============================] - 0s 6ms/step - loss: 301.9088 - val_loss: 1101.7313\n",
      "Epoch 80/500\n",
      "25/25 [==============================] - 0s 7ms/step - loss: 294.8753 - val_loss: 1110.3062\n",
      "Epoch 81/500\n",
      "25/25 [==============================] - 0s 7ms/step - loss: 288.2254 - val_loss: 1118.8801\n",
      "Epoch 82/500\n",
      "25/25 [==============================] - 0s 8ms/step - loss: 281.9421 - val_loss: 1127.4391\n",
      "Epoch 83/500\n",
      "25/25 [==============================] - 0s 6ms/step - loss: 276.0092 - val_loss: 1135.9717\n",
      "Epoch 84/500\n",
      "25/25 [==============================] - 0s 7ms/step - loss: 270.4105 - val_loss: 1144.4646\n",
      "Epoch 85/500\n",
      "25/25 [==============================] - 0s 5ms/step - loss: 265.1309 - val_loss: 1152.9072\n",
      "Epoch 86/500\n",
      "25/25 [==============================] - 0s 5ms/step - loss: 260.1552 - val_loss: 1161.2877\n",
      "Epoch 87/500\n",
      "25/25 [==============================] - 0s 6ms/step - loss: 255.4692 - val_loss: 1169.5964\n",
      "Epoch 88/500\n",
      "25/25 [==============================] - 0s 5ms/step - loss: 251.0588 - val_loss: 1177.8237\n",
      "Epoch 89/500\n",
      "25/25 [==============================] - 0s 9ms/step - loss: 246.9105 - val_loss: 1185.9608\n",
      "Epoch 90/500\n",
      "25/25 [==============================] - 0s 6ms/step - loss: 243.0112 - val_loss: 1193.9983\n",
      "Epoch 91/500\n",
      "25/25 [==============================] - 0s 5ms/step - loss: 239.3484 - val_loss: 1201.9291\n",
      "Epoch 92/500\n",
      "25/25 [==============================] - 0s 6ms/step - loss: 235.9100 - val_loss: 1209.7450\n",
      "Epoch 93/500\n",
      "25/25 [==============================] - 0s 5ms/step - loss: 232.6842 - val_loss: 1217.4402\n",
      "Epoch 94/500\n",
      "25/25 [==============================] - 0s 6ms/step - loss: 229.6599 - val_loss: 1225.0072\n",
      "Epoch 95/500\n",
      "25/25 [==============================] - 0s 12ms/step - loss: 226.8263 - val_loss: 1232.4412\n",
      "Epoch 96/500\n",
      "25/25 [==============================] - 0s 7ms/step - loss: 224.1730 - val_loss: 1239.7365\n",
      "Epoch 97/500\n",
      "25/25 [==============================] - 0s 6ms/step - loss: 221.6901 - val_loss: 1246.8892\n",
      "Epoch 98/500\n",
      "25/25 [==============================] - 0s 6ms/step - loss: 219.3679 - val_loss: 1253.8938\n",
      "Epoch 99/500\n",
      "25/25 [==============================] - 0s 6ms/step - loss: 217.1975 - val_loss: 1260.7478\n",
      "Epoch 100/500\n",
      "25/25 [==============================] - 0s 6ms/step - loss: 215.1702 - val_loss: 1267.4471\n",
      "Epoch 101/500\n",
      "25/25 [==============================] - 0s 6ms/step - loss: 213.2775 - val_loss: 1273.9900\n",
      "Epoch 102/500\n",
      "25/25 [==============================] - 0s 5ms/step - loss: 211.5116 - val_loss: 1280.3730\n",
      "Epoch 103/500\n",
      "25/25 [==============================] - 0s 5ms/step - loss: 209.8648 - val_loss: 1286.5952\n",
      "Epoch 104/500\n",
      "25/25 [==============================] - 0s 5ms/step - loss: 208.3301 - val_loss: 1292.6547\n",
      "Epoch 105/500\n",
      "25/25 [==============================] - 0s 6ms/step - loss: 206.9005 - val_loss: 1298.5498\n",
      "Epoch 106/500\n",
      "25/25 [==============================] - 0s 5ms/step - loss: 205.5695 - val_loss: 1304.2809\n",
      "Epoch 107/500\n",
      "25/25 [==============================] - 0s 5ms/step - loss: 204.3309 - val_loss: 1309.8472\n",
      "Epoch 108/500\n",
      "25/25 [==============================] - 0s 5ms/step - loss: 203.1789 - val_loss: 1315.2485\n",
      "Epoch 109/500\n",
      "25/25 [==============================] - 0s 5ms/step - loss: 202.1079 - val_loss: 1320.4857\n",
      "Epoch 110/500\n",
      "25/25 [==============================] - 0s 5ms/step - loss: 201.1128 - val_loss: 1325.5596\n",
      "Epoch 111/500\n",
      "25/25 [==============================] - 0s 6ms/step - loss: 200.1883 - val_loss: 1330.4697\n",
      "Epoch 112/500\n",
      "25/25 [==============================] - 0s 5ms/step - loss: 199.3301 - val_loss: 1335.2198\n",
      "Epoch 113/500\n",
      "25/25 [==============================] - 0s 5ms/step - loss: 198.5334 - val_loss: 1339.8086\n",
      "Epoch 114/500\n",
      "25/25 [==============================] - 0s 5ms/step - loss: 197.7945 - val_loss: 1344.2394\n",
      "Epoch 115/500\n",
      "25/25 [==============================] - 0s 5ms/step - loss: 197.1091 - val_loss: 1348.5145\n",
      "Epoch 116/500\n",
      "25/25 [==============================] - 0s 5ms/step - loss: 196.4736 - val_loss: 1352.6359\n",
      "Epoch 117/500\n",
      "25/25 [==============================] - 0s 5ms/step - loss: 195.8845 - val_loss: 1356.6051\n",
      "Epoch 118/500\n",
      "25/25 [==============================] - 0s 5ms/step - loss: 195.3387 - val_loss: 1360.4250\n",
      "Epoch 119/500\n",
      "25/25 [==============================] - 0s 5ms/step - loss: 194.8330 - val_loss: 1364.0995\n",
      "Epoch 120/500\n",
      "25/25 [==============================] - 0s 5ms/step - loss: 194.3647 - val_loss: 1367.6295\n",
      "Epoch 121/500\n",
      "25/25 [==============================] - 0s 7ms/step - loss: 193.9310 - val_loss: 1371.0200\n",
      "Epoch 122/500\n",
      "25/25 [==============================] - 0s 5ms/step - loss: 193.5295 - val_loss: 1374.2726\n",
      "Epoch 123/500\n",
      "25/25 [==============================] - 0s 5ms/step - loss: 193.1577 - val_loss: 1377.3915\n",
      "Epoch 124/500\n",
      "25/25 [==============================] - 0s 5ms/step - loss: 192.8137 - val_loss: 1380.3790\n",
      "Epoch 125/500\n",
      "25/25 [==============================] - 0s 5ms/step - loss: 192.4953 - val_loss: 1383.2391\n",
      "Epoch 126/500\n",
      "25/25 [==============================] - 0s 5ms/step - loss: 192.2007 - val_loss: 1385.9749\n",
      "Epoch 127/500\n",
      "25/25 [==============================] - 0s 5ms/step - loss: 191.9281 - val_loss: 1388.5902\n",
      "Epoch 128/500\n",
      "25/25 [==============================] - 0s 10ms/step - loss: 191.6758 - val_loss: 1391.0895\n",
      "Epoch 129/500\n",
      "25/25 [==============================] - 0s 6ms/step - loss: 191.4424 - val_loss: 1393.4744\n",
      "Epoch 130/500\n",
      "25/25 [==============================] - 0s 6ms/step - loss: 191.2264 - val_loss: 1395.7494\n",
      "Epoch 131/500\n",
      "25/25 [==============================] - 0s 6ms/step - loss: 191.0264 - val_loss: 1397.9185\n",
      "Epoch 132/500\n",
      "25/25 [==============================] - 0s 6ms/step - loss: 190.8416 - val_loss: 1399.9832\n",
      "Epoch 133/500\n",
      "25/25 [==============================] - 0s 6ms/step - loss: 190.6704 - val_loss: 1401.9493\n",
      "Epoch 134/500\n",
      "25/25 [==============================] - 0s 5ms/step - loss: 190.5121 - val_loss: 1403.8198\n",
      "Epoch 135/500\n",
      "25/25 [==============================] - 0s 6ms/step - loss: 190.3655 - val_loss: 1405.5979\n",
      "Epoch 136/500\n",
      "25/25 [==============================] - 0s 6ms/step - loss: 190.2298 - val_loss: 1407.2865\n",
      "Epoch 137/500\n",
      "25/25 [==============================] - 0s 7ms/step - loss: 190.1042 - val_loss: 1408.8894\n",
      "Epoch 138/500\n",
      "25/25 [==============================] - 0s 10ms/step - loss: 189.9880 - val_loss: 1410.4103\n",
      "Epoch 139/500\n",
      "25/25 [==============================] - 0s 9ms/step - loss: 189.8804 - val_loss: 1411.8516\n",
      "Epoch 140/500\n",
      "25/25 [==============================] - 0s 7ms/step - loss: 189.7807 - val_loss: 1413.2173\n",
      "Epoch 141/500\n",
      "25/25 [==============================] - 0s 5ms/step - loss: 189.6885 - val_loss: 1414.5109\n",
      "Epoch 142/500\n",
      "25/25 [==============================] - 0s 5ms/step - loss: 189.6031 - val_loss: 1415.7343\n",
      "Epoch 143/500\n",
      "25/25 [==============================] - 0s 5ms/step - loss: 189.5240 - val_loss: 1416.8907\n",
      "Epoch 144/500\n",
      "25/25 [==============================] - 0s 6ms/step - loss: 189.4507 - val_loss: 1417.9845\n",
      "Epoch 145/500\n",
      "25/25 [==============================] - 0s 5ms/step - loss: 189.3829 - val_loss: 1419.0170\n",
      "Epoch 146/500\n",
      "25/25 [==============================] - 0s 5ms/step - loss: 189.3200 - val_loss: 1419.9913\n",
      "Epoch 147/500\n",
      "25/25 [==============================] - 0s 5ms/step - loss: 189.2618 - val_loss: 1420.9105\n",
      "Epoch 148/500\n",
      "25/25 [==============================] - 0s 5ms/step - loss: 189.2079 - val_loss: 1421.7765\n",
      "Epoch 149/500\n",
      "25/25 [==============================] - 0s 6ms/step - loss: 189.1580 - val_loss: 1422.5929\n",
      "Epoch 150/500\n",
      "25/25 [==============================] - 0s 6ms/step - loss: 189.1117 - val_loss: 1423.3618\n",
      "Epoch 151/500\n",
      "25/25 [==============================] - 0s 8ms/step - loss: 189.0688 - val_loss: 1424.0845\n",
      "Epoch 152/500\n",
      "25/25 [==============================] - 0s 8ms/step - loss: 189.0291 - val_loss: 1424.7644\n",
      "Epoch 153/500\n",
      "25/25 [==============================] - 0s 9ms/step - loss: 188.9925 - val_loss: 1425.4036\n",
      "Epoch 154/500\n",
      "25/25 [==============================] - 0s 7ms/step - loss: 188.9584 - val_loss: 1426.0031\n",
      "Epoch 155/500\n",
      "25/25 [==============================] - 0s 6ms/step - loss: 188.9270 - val_loss: 1426.5665\n",
      "Epoch 156/500\n",
      "25/25 [==============================] - 0s 7ms/step - loss: 188.8979 - val_loss: 1427.0948\n",
      "Epoch 157/500\n",
      "25/25 [==============================] - 0s 17ms/step - loss: 188.8709 - val_loss: 1427.5906\n",
      "Epoch 158/500\n",
      "25/25 [==============================] - 0s 7ms/step - loss: 188.8460 - val_loss: 1428.0547\n",
      "Epoch 159/500\n",
      "25/25 [==============================] - 0s 6ms/step - loss: 188.8230 - val_loss: 1428.4902\n",
      "Epoch 160/500\n",
      "25/25 [==============================] - 0s 6ms/step - loss: 188.8017 - val_loss: 1428.8972\n",
      "Epoch 161/500\n",
      "25/25 [==============================] - 0s 6ms/step - loss: 188.7820 - val_loss: 1429.2782\n",
      "Epoch 162/500\n",
      "25/25 [==============================] - 0s 5ms/step - loss: 188.7638 - val_loss: 1429.6348\n",
      "Epoch 163/500\n",
      "25/25 [==============================] - 0s 5ms/step - loss: 188.7470 - val_loss: 1429.9672\n",
      "Epoch 164/500\n",
      "25/25 [==============================] - 0s 5ms/step - loss: 188.7315 - val_loss: 1430.2787\n",
      "Epoch 165/500\n",
      "25/25 [==============================] - 0s 6ms/step - loss: 188.7173 - val_loss: 1430.5685\n",
      "Epoch 166/500\n",
      "25/25 [==============================] - 0s 5ms/step - loss: 188.7041 - val_loss: 1430.8391\n",
      "Epoch 167/500\n",
      "25/25 [==============================] - 0s 6ms/step - loss: 188.6921 - val_loss: 1431.0923\n",
      "Epoch 168/500\n",
      "25/25 [==============================] - 0s 5ms/step - loss: 188.6809 - val_loss: 1431.3279\n",
      "Epoch 169/500\n",
      "25/25 [==============================] - 0s 8ms/step - loss: 188.6707 - val_loss: 1431.5465\n",
      "Epoch 170/500\n",
      "25/25 [==============================] - 0s 6ms/step - loss: 188.6613 - val_loss: 1431.7509\n",
      "Epoch 171/500\n",
      "25/25 [==============================] - 0s 6ms/step - loss: 188.6527 - val_loss: 1431.9406\n",
      "Epoch 172/500\n",
      "25/25 [==============================] - 0s 6ms/step - loss: 188.6448 - val_loss: 1432.1174\n",
      "Epoch 173/500\n",
      "25/25 [==============================] - 0s 5ms/step - loss: 188.6376 - val_loss: 1432.2822\n",
      "Epoch 174/500\n",
      "25/25 [==============================] - 0s 5ms/step - loss: 188.6310 - val_loss: 1432.4346\n",
      "Epoch 175/500\n",
      "25/25 [==============================] - 0s 6ms/step - loss: 188.6250 - val_loss: 1432.5768\n",
      "Epoch 176/500\n",
      "25/25 [==============================] - 0s 6ms/step - loss: 188.6194 - val_loss: 1432.7085\n",
      "Epoch 177/500\n",
      "25/25 [==============================] - 0s 5ms/step - loss: 188.6145 - val_loss: 1432.8303\n",
      "Epoch 178/500\n",
      "25/25 [==============================] - 0s 6ms/step - loss: 188.6100 - val_loss: 1432.9441\n",
      "Epoch 179/500\n",
      "25/25 [==============================] - 0s 5ms/step - loss: 188.6059 - val_loss: 1433.0492\n",
      "Epoch 180/500\n",
      "25/25 [==============================] - 0s 5ms/step - loss: 188.6022 - val_loss: 1433.1470\n",
      "Epoch 181/500\n",
      "25/25 [==============================] - 0s 5ms/step - loss: 188.5988 - val_loss: 1433.2371\n",
      "Epoch 182/500\n",
      "25/25 [==============================] - 0s 5ms/step - loss: 188.5958 - val_loss: 1433.3203\n",
      "Epoch 183/500\n",
      "25/25 [==============================] - 0s 5ms/step - loss: 188.5932 - val_loss: 1433.3977\n",
      "Epoch 184/500\n",
      "25/25 [==============================] - 0s 5ms/step - loss: 188.5907 - val_loss: 1433.4688\n",
      "Epoch 185/500\n",
      "25/25 [==============================] - 0s 5ms/step - loss: 188.5886 - val_loss: 1433.5349\n",
      "Epoch 186/500\n",
      "25/25 [==============================] - 0s 5ms/step - loss: 188.5867 - val_loss: 1433.5959\n",
      "Epoch 187/500\n",
      "25/25 [==============================] - 0s 7ms/step - loss: 188.5850 - val_loss: 1433.6522\n",
      "Epoch 188/500\n",
      "25/25 [==============================] - 0s 7ms/step - loss: 188.5836 - val_loss: 1433.7045\n",
      "Epoch 189/500\n",
      "25/25 [==============================] - 0s 6ms/step - loss: 188.5823 - val_loss: 1433.7521\n",
      "Epoch 190/500\n",
      "25/25 [==============================] - 0s 5ms/step - loss: 188.5812 - val_loss: 1433.7963\n",
      "Epoch 191/500\n",
      "25/25 [==============================] - 0s 5ms/step - loss: 188.5804 - val_loss: 1433.8367\n",
      "Epoch 192/500\n",
      "25/25 [==============================] - 0s 5ms/step - loss: 188.5796 - val_loss: 1433.8745\n",
      "Epoch 193/500\n",
      "25/25 [==============================] - 0s 5ms/step - loss: 188.5790 - val_loss: 1433.9089\n",
      "Epoch 194/500\n",
      "25/25 [==============================] - 0s 6ms/step - loss: 188.5784 - val_loss: 1433.9414\n",
      "Epoch 195/500\n",
      "25/25 [==============================] - 0s 5ms/step - loss: 188.5780 - val_loss: 1433.9705\n",
      "Epoch 196/500\n",
      "25/25 [==============================] - 0s 5ms/step - loss: 188.5777 - val_loss: 1433.9976\n",
      "Epoch 197/500\n",
      "25/25 [==============================] - 0s 5ms/step - loss: 188.5776 - val_loss: 1434.0226\n",
      "Epoch 198/500\n",
      "25/25 [==============================] - 0s 5ms/step - loss: 188.5774 - val_loss: 1434.0457\n",
      "Epoch 199/500\n",
      "25/25 [==============================] - 0s 5ms/step - loss: 188.5774 - val_loss: 1434.0665\n",
      "Epoch 200/500\n",
      "25/25 [==============================] - 0s 5ms/step - loss: 188.5775 - val_loss: 1434.0857\n",
      "Epoch 201/500\n",
      "25/25 [==============================] - 0s 5ms/step - loss: 188.5776 - val_loss: 1434.1034\n",
      "Epoch 202/500\n",
      "25/25 [==============================] - 0s 5ms/step - loss: 188.5778 - val_loss: 1434.1195\n",
      "Epoch 203/500\n",
      "25/25 [==============================] - 0s 5ms/step - loss: 188.5780 - val_loss: 1434.1346\n",
      "Epoch 204/500\n",
      "25/25 [==============================] - 0s 7ms/step - loss: 188.5782 - val_loss: 1434.1477\n",
      "Epoch 205/500\n",
      "25/25 [==============================] - 0s 7ms/step - loss: 188.5786 - val_loss: 1434.1604\n",
      "Epoch 206/500\n",
      "25/25 [==============================] - 0s 7ms/step - loss: 188.5789 - val_loss: 1434.1715\n",
      "Epoch 207/500\n",
      "25/25 [==============================] - 0s 8ms/step - loss: 188.5793 - val_loss: 1434.1823\n",
      "Epoch 208/500\n",
      "25/25 [==============================] - 0s 7ms/step - loss: 188.5797 - val_loss: 1434.1910\n",
      "Epoch 209/500\n",
      "25/25 [==============================] - 0s 6ms/step - loss: 188.5802 - val_loss: 1434.2002\n",
      "Epoch 210/500\n",
      "25/25 [==============================] - 0s 5ms/step - loss: 188.5807 - val_loss: 1434.2075\n",
      "Epoch 211/500\n",
      "25/25 [==============================] - 0s 5ms/step - loss: 188.5812 - val_loss: 1434.2152\n",
      "Epoch 212/500\n",
      "25/25 [==============================] - 0s 5ms/step - loss: 188.5816 - val_loss: 1434.2217\n",
      "Epoch 213/500\n",
      "25/25 [==============================] - 0s 5ms/step - loss: 188.5822 - val_loss: 1434.2273\n",
      "Epoch 214/500\n",
      "25/25 [==============================] - 0s 5ms/step - loss: 188.5827 - val_loss: 1434.2332\n",
      "Epoch 215/500\n",
      "25/25 [==============================] - 0s 10ms/step - loss: 188.5833 - val_loss: 1434.2383\n",
      "Epoch 216/500\n",
      "25/25 [==============================] - 0s 5ms/step - loss: 188.5838 - val_loss: 1434.2427\n",
      "Epoch 217/500\n",
      "25/25 [==============================] - 0s 5ms/step - loss: 188.5844 - val_loss: 1434.2469\n",
      "Epoch 218/500\n",
      "25/25 [==============================] - 0s 5ms/step - loss: 188.5850 - val_loss: 1434.2501\n",
      "Epoch 219/500\n",
      "25/25 [==============================] - 0s 5ms/step - loss: 188.5856 - val_loss: 1434.2532\n",
      "Epoch 220/500\n",
      "25/25 [==============================] - 0s 6ms/step - loss: 188.5861 - val_loss: 1434.2566\n",
      "Epoch 221/500\n",
      "25/25 [==============================] - 0s 5ms/step - loss: 188.5867 - val_loss: 1434.2594\n",
      "Epoch 222/500\n",
      "25/25 [==============================] - 0s 5ms/step - loss: 188.5873 - val_loss: 1434.2612\n",
      "Epoch 223/500\n",
      "25/25 [==============================] - 0s 6ms/step - loss: 188.5879 - val_loss: 1434.2639\n",
      "Epoch 224/500\n",
      "25/25 [==============================] - 0s 6ms/step - loss: 188.5885 - val_loss: 1434.2657\n",
      "Epoch 225/500\n",
      "25/25 [==============================] - 0s 7ms/step - loss: 188.5890 - val_loss: 1434.2675\n",
      "Epoch 226/500\n",
      "25/25 [==============================] - 0s 6ms/step - loss: 188.5896 - val_loss: 1434.2688\n",
      "Epoch 227/500\n",
      "25/25 [==============================] - 0s 6ms/step - loss: 188.5902 - val_loss: 1434.2695\n",
      "Epoch 228/500\n",
      "25/25 [==============================] - 0s 6ms/step - loss: 188.5907 - val_loss: 1434.2714\n",
      "Epoch 229/500\n",
      "25/25 [==============================] - 0s 6ms/step - loss: 188.5913 - val_loss: 1434.2722\n",
      "Epoch 230/500\n",
      "25/25 [==============================] - 0s 6ms/step - loss: 188.5918 - val_loss: 1434.2737\n",
      "Epoch 231/500\n",
      "25/25 [==============================] - 0s 5ms/step - loss: 188.5923 - val_loss: 1434.2748\n",
      "Epoch 232/500\n",
      "25/25 [==============================] - 0s 5ms/step - loss: 188.5929 - val_loss: 1434.2750\n",
      "Epoch 233/500\n",
      "25/25 [==============================] - 0s 6ms/step - loss: 188.5935 - val_loss: 1434.2758\n",
      "Epoch 234/500\n",
      "25/25 [==============================] - 0s 6ms/step - loss: 188.5939 - val_loss: 1434.2766\n",
      "Epoch 235/500\n",
      "25/25 [==============================] - 0s 6ms/step - loss: 188.5945 - val_loss: 1434.2772\n",
      "Epoch 236/500\n",
      "25/25 [==============================] - 0s 6ms/step - loss: 188.5950 - val_loss: 1434.2777\n",
      "Epoch 237/500\n",
      "25/25 [==============================] - 0s 6ms/step - loss: 188.5955 - val_loss: 1434.2778\n",
      "Epoch 238/500\n",
      "25/25 [==============================] - 0s 6ms/step - loss: 188.5959 - val_loss: 1434.2781\n",
      "Epoch 239/500\n",
      "25/25 [==============================] - 0s 6ms/step - loss: 188.5964 - val_loss: 1434.2782\n",
      "Epoch 240/500\n",
      "25/25 [==============================] - 0s 9ms/step - loss: 188.5969 - val_loss: 1434.2782\n",
      "Epoch 241/500\n",
      "25/25 [==============================] - 0s 10ms/step - loss: 188.5974 - val_loss: 1434.2783\n",
      "Epoch 242/500\n",
      "25/25 [==============================] - 0s 7ms/step - loss: 188.5979 - val_loss: 1434.2783\n",
      "Epoch 243/500\n",
      "25/25 [==============================] - 0s 6ms/step - loss: 188.5983 - val_loss: 1434.2786\n",
      "Epoch 244/500\n",
      "25/25 [==============================] - 0s 7ms/step - loss: 188.5988 - val_loss: 1434.2786\n",
      "Epoch 245/500\n",
      "25/25 [==============================] - 0s 7ms/step - loss: 188.5992 - val_loss: 1434.2787\n",
      "Epoch 246/500\n",
      "25/25 [==============================] - 0s 6ms/step - loss: 188.5996 - val_loss: 1434.2787\n",
      "Epoch 247/500\n",
      "25/25 [==============================] - 0s 6ms/step - loss: 188.6000 - val_loss: 1434.2786\n",
      "Epoch 248/500\n",
      "25/25 [==============================] - 0s 6ms/step - loss: 188.6005 - val_loss: 1434.2786\n",
      "Epoch 249/500\n",
      "25/25 [==============================] - 0s 6ms/step - loss: 188.6009 - val_loss: 1434.2786\n",
      "Epoch 250/500\n",
      "25/25 [==============================] - 0s 6ms/step - loss: 188.6012 - val_loss: 1434.2781\n",
      "Epoch 251/500\n",
      "25/25 [==============================] - 0s 6ms/step - loss: 188.6017 - val_loss: 1434.2783\n",
      "Epoch 252/500\n",
      "25/25 [==============================] - 0s 6ms/step - loss: 188.6020 - val_loss: 1434.2786\n",
      "Epoch 253/500\n",
      "25/25 [==============================] - 0s 6ms/step - loss: 188.6024 - val_loss: 1434.2782\n",
      "Epoch 254/500\n",
      "25/25 [==============================] - 0s 6ms/step - loss: 188.6028 - val_loss: 1434.2782\n",
      "Epoch 255/500\n",
      "25/25 [==============================] - 0s 7ms/step - loss: 188.6031 - val_loss: 1434.2781\n",
      "Epoch 256/500\n",
      "25/25 [==============================] - 0s 7ms/step - loss: 188.6034 - val_loss: 1434.2778\n",
      "Epoch 257/500\n",
      "25/25 [==============================] - 0s 8ms/step - loss: 188.6038 - val_loss: 1434.2776\n",
      "Epoch 258/500\n",
      "25/25 [==============================] - 0s 7ms/step - loss: 188.6041 - val_loss: 1434.2772\n",
      "Epoch 259/500\n",
      "25/25 [==============================] - 0s 7ms/step - loss: 188.6045 - val_loss: 1434.2773\n",
      "Epoch 260/500\n",
      "25/25 [==============================] - 0s 6ms/step - loss: 188.6048 - val_loss: 1434.2773\n",
      "Epoch 261/500\n",
      "25/25 [==============================] - 0s 7ms/step - loss: 188.6051 - val_loss: 1434.2770\n",
      "Epoch 262/500\n",
      "25/25 [==============================] - 0s 7ms/step - loss: 188.6054 - val_loss: 1434.2761\n",
      "Epoch 263/500\n",
      "25/25 [==============================] - 0s 6ms/step - loss: 188.6057 - val_loss: 1434.2761\n",
      "Epoch 264/500\n",
      "25/25 [==============================] - 0s 6ms/step - loss: 188.6061 - val_loss: 1434.2758\n",
      "Epoch 265/500\n",
      "25/25 [==============================] - 0s 5ms/step - loss: 188.6063 - val_loss: 1434.2751\n",
      "Epoch 266/500\n",
      "25/25 [==============================] - 0s 5ms/step - loss: 188.6066 - val_loss: 1434.2750\n",
      "Epoch 267/500\n",
      "25/25 [==============================] - 0s 11ms/step - loss: 188.6069 - val_loss: 1434.2751\n",
      "Epoch 268/500\n",
      "25/25 [==============================] - 0s 5ms/step - loss: 188.6071 - val_loss: 1434.2753\n",
      "Epoch 269/500\n",
      "25/25 [==============================] - 0s 6ms/step - loss: 188.6073 - val_loss: 1434.2750\n",
      "Epoch 270/500\n",
      "25/25 [==============================] - 0s 9ms/step - loss: 188.6077 - val_loss: 1434.2747\n",
      "Epoch 271/500\n",
      "25/25 [==============================] - 0s 6ms/step - loss: 188.6079 - val_loss: 1434.2745\n",
      "Epoch 272/500\n",
      "25/25 [==============================] - 0s 5ms/step - loss: 188.6082 - val_loss: 1434.2745\n",
      "Epoch 273/500\n",
      "25/25 [==============================] - 0s 5ms/step - loss: 188.6084 - val_loss: 1434.2745\n",
      "Epoch 274/500\n",
      "25/25 [==============================] - 0s 5ms/step - loss: 188.6087 - val_loss: 1434.2745\n",
      "Epoch 275/500\n",
      "25/25 [==============================] - 0s 5ms/step - loss: 188.6089 - val_loss: 1434.2745\n",
      "Epoch 276/500\n",
      "25/25 [==============================] - 0s 6ms/step - loss: 188.6091 - val_loss: 1434.2745\n",
      "Epoch 277/500\n",
      "25/25 [==============================] - 0s 5ms/step - loss: 188.6093 - val_loss: 1434.2732\n",
      "Epoch 278/500\n",
      "25/25 [==============================] - 0s 5ms/step - loss: 188.6095 - val_loss: 1434.2737\n",
      "Epoch 279/500\n",
      "25/25 [==============================] - 0s 5ms/step - loss: 188.6097 - val_loss: 1434.2732\n",
      "Epoch 280/500\n",
      "25/25 [==============================] - 0s 5ms/step - loss: 188.6100 - val_loss: 1434.2732\n",
      "Epoch 281/500\n",
      "25/25 [==============================] - 0s 6ms/step - loss: 188.6101 - val_loss: 1434.2732\n",
      "Epoch 282/500\n",
      "25/25 [==============================] - 0s 6ms/step - loss: 188.6104 - val_loss: 1434.2732\n",
      "Epoch 283/500\n",
      "25/25 [==============================] - 0s 6ms/step - loss: 188.6106 - val_loss: 1434.2732\n",
      "Epoch 284/500\n",
      "25/25 [==============================] - 0s 6ms/step - loss: 188.6107 - val_loss: 1434.2731\n",
      "Epoch 285/500\n",
      "25/25 [==============================] - 0s 5ms/step - loss: 188.6108 - val_loss: 1434.2729\n",
      "Epoch 286/500\n",
      "25/25 [==============================] - 0s 8ms/step - loss: 188.6110 - val_loss: 1434.2729\n",
      "Epoch 287/500\n",
      "25/25 [==============================] - 0s 8ms/step - loss: 188.6112 - val_loss: 1434.2729\n",
      "Epoch 288/500\n",
      "25/25 [==============================] - 0s 6ms/step - loss: 188.6114 - val_loss: 1434.2727\n",
      "Epoch 289/500\n",
      "25/25 [==============================] - 0s 6ms/step - loss: 188.6115 - val_loss: 1434.2725\n",
      "Epoch 290/500\n",
      "25/25 [==============================] - 0s 15ms/step - loss: 188.6117 - val_loss: 1434.2725\n",
      "Epoch 291/500\n",
      "25/25 [==============================] - 0s 7ms/step - loss: 188.6119 - val_loss: 1434.2725\n",
      "Epoch 292/500\n",
      "25/25 [==============================] - 0s 6ms/step - loss: 188.6121 - val_loss: 1434.2726\n",
      "Epoch 293/500\n",
      "25/25 [==============================] - 0s 5ms/step - loss: 188.6122 - val_loss: 1434.2725\n",
      "Epoch 294/500\n",
      "25/25 [==============================] - 0s 5ms/step - loss: 188.6123 - val_loss: 1434.2726\n",
      "Epoch 295/500\n",
      "25/25 [==============================] - 0s 4ms/step - loss: 188.6125 - val_loss: 1434.2727\n",
      "Epoch 296/500\n",
      "25/25 [==============================] - 0s 5ms/step - loss: 188.6126 - val_loss: 1434.2727\n",
      "Epoch 297/500\n",
      "25/25 [==============================] - 0s 5ms/step - loss: 188.6127 - val_loss: 1434.2726\n",
      "Epoch 298/500\n",
      "25/25 [==============================] - 0s 5ms/step - loss: 188.6128 - val_loss: 1434.2726\n",
      "Epoch 299/500\n",
      "25/25 [==============================] - 0s 5ms/step - loss: 188.6130 - val_loss: 1434.2726\n",
      "Epoch 300/500\n",
      "25/25 [==============================] - 0s 5ms/step - loss: 188.6131 - val_loss: 1434.2721\n",
      "Epoch 301/500\n",
      "25/25 [==============================] - 0s 5ms/step - loss: 188.6132 - val_loss: 1434.2721\n",
      "Epoch 302/500\n",
      "25/25 [==============================] - 0s 5ms/step - loss: 188.6133 - val_loss: 1434.2720\n",
      "Epoch 303/500\n",
      "25/25 [==============================] - 0s 5ms/step - loss: 188.6134 - val_loss: 1434.2719\n",
      "Epoch 304/500\n",
      "25/25 [==============================] - 0s 5ms/step - loss: 188.6136 - val_loss: 1434.2716\n",
      "Epoch 305/500\n",
      "25/25 [==============================] - 0s 5ms/step - loss: 188.6137 - val_loss: 1434.2715\n",
      "Epoch 306/500\n",
      "25/25 [==============================] - 0s 5ms/step - loss: 188.6138 - val_loss: 1434.2714\n",
      "Epoch 307/500\n",
      "25/25 [==============================] - 0s 5ms/step - loss: 188.6139 - val_loss: 1434.2714\n",
      "Epoch 308/500\n",
      "25/25 [==============================] - 0s 5ms/step - loss: 188.6140 - val_loss: 1434.2711\n",
      "Epoch 309/500\n",
      "25/25 [==============================] - 0s 5ms/step - loss: 188.6141 - val_loss: 1434.2709\n",
      "Epoch 310/500\n",
      "25/25 [==============================] - 0s 5ms/step - loss: 188.6143 - val_loss: 1434.2710\n",
      "Epoch 311/500\n",
      "25/25 [==============================] - 0s 5ms/step - loss: 188.6143 - val_loss: 1434.2706\n",
      "Epoch 312/500\n",
      "25/25 [==============================] - 0s 6ms/step - loss: 188.6145 - val_loss: 1434.2706\n",
      "Epoch 313/500\n",
      "25/25 [==============================] - 0s 5ms/step - loss: 188.6145 - val_loss: 1434.2704\n",
      "Epoch 314/500\n",
      "25/25 [==============================] - 0s 5ms/step - loss: 188.6146 - val_loss: 1434.2704\n",
      "Epoch 315/500\n",
      "25/25 [==============================] - 0s 10ms/step - loss: 188.6147 - val_loss: 1434.2697\n",
      "Epoch 316/500\n",
      "25/25 [==============================] - 0s 5ms/step - loss: 188.6148 - val_loss: 1434.2697\n",
      "Epoch 317/500\n",
      "25/25 [==============================] - 0s 5ms/step - loss: 188.6149 - val_loss: 1434.2701\n",
      "Epoch 318/500\n",
      "25/25 [==============================] - 0s 5ms/step - loss: 188.6150 - val_loss: 1434.2706\n",
      "Epoch 319/500\n",
      "25/25 [==============================] - 0s 5ms/step - loss: 188.6150 - val_loss: 1434.2706\n",
      "Epoch 320/500\n",
      "25/25 [==============================] - 0s 5ms/step - loss: 188.6151 - val_loss: 1434.2710\n",
      "Epoch 321/500\n",
      "25/25 [==============================] - 0s 5ms/step - loss: 188.6152 - val_loss: 1434.2709\n",
      "Epoch 322/500\n",
      "25/25 [==============================] - 0s 5ms/step - loss: 188.6152 - val_loss: 1434.2705\n",
      "Epoch 323/500\n",
      "25/25 [==============================] - 0s 5ms/step - loss: 188.6153 - val_loss: 1434.2706\n",
      "Epoch 324/500\n",
      "25/25 [==============================] - 0s 4ms/step - loss: 188.6154 - val_loss: 1434.2699\n",
      "Epoch 325/500\n",
      "25/25 [==============================] - 0s 4ms/step - loss: 188.6155 - val_loss: 1434.2699\n",
      "Epoch 326/500\n",
      "25/25 [==============================] - 0s 5ms/step - loss: 188.6155 - val_loss: 1434.2700\n",
      "Epoch 327/500\n",
      "25/25 [==============================] - 0s 5ms/step - loss: 188.6156 - val_loss: 1434.2700\n",
      "Epoch 328/500\n",
      "25/25 [==============================] - 0s 5ms/step - loss: 188.6157 - val_loss: 1434.2697\n",
      "Epoch 329/500\n",
      "25/25 [==============================] - 0s 4ms/step - loss: 188.6157 - val_loss: 1434.2700\n",
      "Epoch 330/500\n",
      "25/25 [==============================] - 0s 5ms/step - loss: 188.6158 - val_loss: 1434.2701\n",
      "Epoch 331/500\n",
      "25/25 [==============================] - 0s 5ms/step - loss: 188.6158 - val_loss: 1434.2701\n",
      "Epoch 332/500\n",
      "25/25 [==============================] - 0s 5ms/step - loss: 188.6159 - val_loss: 1434.2700\n",
      "Epoch 333/500\n",
      "25/25 [==============================] - 0s 4ms/step - loss: 188.6159 - val_loss: 1434.2706\n",
      "Epoch 334/500\n",
      "25/25 [==============================] - 0s 5ms/step - loss: 188.6160 - val_loss: 1434.2697\n",
      "Epoch 335/500\n",
      "25/25 [==============================] - 0s 5ms/step - loss: 188.6160 - val_loss: 1434.2695\n",
      "Epoch 336/500\n",
      "25/25 [==============================] - 0s 5ms/step - loss: 188.6161 - val_loss: 1434.2693\n",
      "Epoch 337/500\n",
      "25/25 [==============================] - 0s 4ms/step - loss: 188.6162 - val_loss: 1434.2694\n",
      "Epoch 338/500\n",
      "25/25 [==============================] - 0s 4ms/step - loss: 188.6162 - val_loss: 1434.2694\n",
      "Epoch 339/500\n",
      "25/25 [==============================] - 0s 5ms/step - loss: 188.6162 - val_loss: 1434.2695\n",
      "Epoch 340/500\n",
      "25/25 [==============================] - 0s 5ms/step - loss: 188.6163 - val_loss: 1434.2695\n",
      "Epoch 341/500\n",
      "25/25 [==============================] - 0s 5ms/step - loss: 188.6164 - val_loss: 1434.2695\n",
      "Epoch 342/500\n",
      "25/25 [==============================] - 0s 11ms/step - loss: 188.6164 - val_loss: 1434.2697\n",
      "Epoch 343/500\n",
      "25/25 [==============================] - 0s 5ms/step - loss: 188.6164 - val_loss: 1434.2699\n",
      "Epoch 344/500\n",
      "25/25 [==============================] - 0s 5ms/step - loss: 188.6164 - val_loss: 1434.2699\n",
      "Epoch 345/500\n",
      "25/25 [==============================] - 0s 5ms/step - loss: 188.6165 - val_loss: 1434.2704\n",
      "Epoch 346/500\n",
      "25/25 [==============================] - 0s 5ms/step - loss: 188.6165 - val_loss: 1434.2701\n",
      "Epoch 347/500\n",
      "25/25 [==============================] - 0s 5ms/step - loss: 188.6165 - val_loss: 1434.2705\n",
      "Epoch 348/500\n",
      "25/25 [==============================] - 0s 4ms/step - loss: 188.6166 - val_loss: 1434.2704\n",
      "Epoch 349/500\n",
      "25/25 [==============================] - 0s 5ms/step - loss: 188.6166 - val_loss: 1434.2699\n",
      "Epoch 350/500\n",
      "25/25 [==============================] - 0s 5ms/step - loss: 188.6167 - val_loss: 1434.2700\n",
      "Epoch 351/500\n",
      "25/25 [==============================] - 0s 5ms/step - loss: 188.6167 - val_loss: 1434.2704\n",
      "Epoch 352/500\n",
      "25/25 [==============================] - 0s 5ms/step - loss: 188.6168 - val_loss: 1434.2706\n",
      "Epoch 353/500\n",
      "25/25 [==============================] - 0s 4ms/step - loss: 188.6169 - val_loss: 1434.2715\n",
      "Epoch 354/500\n",
      "25/25 [==============================] - 0s 5ms/step - loss: 188.6169 - val_loss: 1434.2726\n",
      "Epoch 355/500\n",
      "25/25 [==============================] - 0s 5ms/step - loss: 188.6169 - val_loss: 1434.2737\n",
      "Epoch 356/500\n",
      "25/25 [==============================] - 0s 5ms/step - loss: 188.6169 - val_loss: 1434.2883\n",
      "Epoch 357/500\n",
      "25/25 [==============================] - 0s 5ms/step - loss: 188.6136 - val_loss: 1431.2141\n",
      "Epoch 358/500\n",
      "25/25 [==============================] - 0s 5ms/step - loss: 188.6175 - val_loss: 1434.2760\n",
      "Epoch 359/500\n",
      "25/25 [==============================] - 0s 4ms/step - loss: 188.6167 - val_loss: 1434.2737\n",
      "Epoch 360/500\n",
      "25/25 [==============================] - 0s 5ms/step - loss: 188.6168 - val_loss: 1434.2729\n",
      "Epoch 361/500\n",
      "25/25 [==============================] - 0s 4ms/step - loss: 188.6169 - val_loss: 1434.2727\n",
      "Epoch 362/500\n",
      "25/25 [==============================] - 0s 5ms/step - loss: 188.6169 - val_loss: 1434.2722\n",
      "Epoch 363/500\n",
      "25/25 [==============================] - 0s 5ms/step - loss: 188.6170 - val_loss: 1434.2721\n",
      "Epoch 364/500\n",
      "25/25 [==============================] - 0s 7ms/step - loss: 188.6170 - val_loss: 1434.2715\n",
      "Epoch 365/500\n",
      "25/25 [==============================] - 0s 5ms/step - loss: 188.6171 - val_loss: 1434.2706\n",
      "Epoch 366/500\n",
      "25/25 [==============================] - 0s 5ms/step - loss: 188.6171 - val_loss: 1434.2704\n",
      "Epoch 367/500\n",
      "25/25 [==============================] - 0s 5ms/step - loss: 188.6171 - val_loss: 1434.2704\n",
      "Epoch 368/500\n",
      "25/25 [==============================] - 0s 5ms/step - loss: 188.6171 - val_loss: 1434.2700\n",
      "Epoch 369/500\n",
      "25/25 [==============================] - 0s 5ms/step - loss: 188.6171 - val_loss: 1434.2694\n",
      "Epoch 370/500\n",
      "25/25 [==============================] - 0s 5ms/step - loss: 188.6172 - val_loss: 1434.2693\n",
      "Epoch 371/500\n",
      "25/25 [==============================] - 0s 10ms/step - loss: 188.6173 - val_loss: 1434.2693\n",
      "Epoch 372/500\n",
      "25/25 [==============================] - 0s 5ms/step - loss: 188.6174 - val_loss: 1434.2695\n",
      "Epoch 373/500\n",
      "25/25 [==============================] - 0s 5ms/step - loss: 188.6174 - val_loss: 1434.2695\n",
      "Epoch 374/500\n",
      "25/25 [==============================] - 0s 5ms/step - loss: 188.6174 - val_loss: 1434.2695\n",
      "Epoch 375/500\n",
      "25/25 [==============================] - 0s 5ms/step - loss: 188.6174 - val_loss: 1434.2695\n",
      "Epoch 376/500\n",
      "25/25 [==============================] - 0s 5ms/step - loss: 188.6174 - val_loss: 1434.2693\n",
      "Epoch 377/500\n",
      "25/25 [==============================] - 0s 5ms/step - loss: 188.6174 - val_loss: 1434.2693\n",
      "Epoch 378/500\n",
      "25/25 [==============================] - 0s 4ms/step - loss: 188.6174 - val_loss: 1434.2690\n",
      "Epoch 379/500\n",
      "25/25 [==============================] - 0s 5ms/step - loss: 188.6174 - val_loss: 1434.2688\n",
      "Epoch 380/500\n",
      "25/25 [==============================] - 0s 4ms/step - loss: 188.6174 - val_loss: 1434.2681\n",
      "Epoch 381/500\n",
      "25/25 [==============================] - 0s 5ms/step - loss: 188.6175 - val_loss: 1434.2676\n",
      "Epoch 382/500\n",
      "25/25 [==============================] - 0s 5ms/step - loss: 188.6176 - val_loss: 1434.2676\n",
      "Epoch 383/500\n",
      "25/25 [==============================] - 0s 5ms/step - loss: 188.6176 - val_loss: 1434.2676\n",
      "Epoch 384/500\n",
      "25/25 [==============================] - 0s 5ms/step - loss: 188.6176 - val_loss: 1434.2679\n",
      "Epoch 385/500\n",
      "25/25 [==============================] - 0s 5ms/step - loss: 188.6176 - val_loss: 1434.2679\n",
      "Epoch 386/500\n",
      "25/25 [==============================] - 0s 5ms/step - loss: 188.6176 - val_loss: 1434.2679\n",
      "Epoch 387/500\n",
      "25/25 [==============================] - 0s 5ms/step - loss: 188.6176 - val_loss: 1434.2681\n",
      "Epoch 388/500\n",
      "25/25 [==============================] - 0s 5ms/step - loss: 188.6177 - val_loss: 1434.2684\n",
      "Epoch 389/500\n",
      "25/25 [==============================] - 0s 4ms/step - loss: 188.6177 - val_loss: 1434.2686\n",
      "Epoch 390/500\n",
      "25/25 [==============================] - 0s 5ms/step - loss: 188.6177 - val_loss: 1434.2689\n",
      "Epoch 391/500\n",
      "25/25 [==============================] - 0s 4ms/step - loss: 188.6177 - val_loss: 1434.2690\n",
      "Epoch 392/500\n",
      "25/25 [==============================] - 0s 5ms/step - loss: 188.6177 - val_loss: 1434.2694\n",
      "Epoch 393/500\n",
      "25/25 [==============================] - 0s 5ms/step - loss: 188.6177 - val_loss: 1434.2695\n",
      "Epoch 394/500\n",
      "25/25 [==============================] - 0s 8ms/step - loss: 188.6177 - val_loss: 1434.2695\n",
      "Epoch 395/500\n",
      "25/25 [==============================] - 0s 6ms/step - loss: 188.6177 - val_loss: 1434.2695\n",
      "Epoch 396/500\n",
      "25/25 [==============================] - 0s 5ms/step - loss: 188.6177 - val_loss: 1434.2694\n",
      "Epoch 397/500\n",
      "25/25 [==============================] - 0s 5ms/step - loss: 188.6177 - val_loss: 1434.2694\n",
      "Epoch 398/500\n",
      "25/25 [==============================] - 0s 5ms/step - loss: 188.6177 - val_loss: 1434.2690\n",
      "Epoch 399/500\n",
      "25/25 [==============================] - 0s 5ms/step - loss: 188.6178 - val_loss: 1434.2690\n",
      "Epoch 400/500\n",
      "25/25 [==============================] - 0s 5ms/step - loss: 188.6178 - val_loss: 1434.2690\n",
      "Epoch 401/500\n",
      "25/25 [==============================] - 0s 5ms/step - loss: 188.6178 - val_loss: 1434.2690\n",
      "Epoch 402/500\n",
      "25/25 [==============================] - 0s 5ms/step - loss: 188.6178 - val_loss: 1434.2689\n",
      "Epoch 403/500\n",
      "25/25 [==============================] - 0s 6ms/step - loss: 188.6178 - val_loss: 1434.2688\n",
      "Epoch 404/500\n",
      "25/25 [==============================] - 0s 5ms/step - loss: 188.6178 - val_loss: 1434.2683\n",
      "Epoch 405/500\n",
      "25/25 [==============================] - 0s 5ms/step - loss: 188.6178 - val_loss: 1434.2683\n",
      "Epoch 406/500\n",
      "25/25 [==============================] - 0s 5ms/step - loss: 188.6178 - val_loss: 1434.2676\n",
      "Epoch 407/500\n",
      "25/25 [==============================] - 0s 6ms/step - loss: 188.6179 - val_loss: 1434.2673\n",
      "Epoch 408/500\n",
      "25/25 [==============================] - 0s 5ms/step - loss: 188.6179 - val_loss: 1434.2673\n",
      "Epoch 409/500\n",
      "25/25 [==============================] - 0s 5ms/step - loss: 188.6179 - val_loss: 1434.2667\n",
      "Epoch 410/500\n",
      "25/25 [==============================] - 0s 5ms/step - loss: 188.6179 - val_loss: 1434.2665\n",
      "Epoch 411/500\n",
      "25/25 [==============================] - 0s 5ms/step - loss: 188.6180 - val_loss: 1434.2664\n",
      "Epoch 412/500\n",
      "25/25 [==============================] - 0s 4ms/step - loss: 188.6180 - val_loss: 1434.2665\n",
      "Epoch 413/500\n",
      "25/25 [==============================] - 0s 5ms/step - loss: 188.6180 - val_loss: 1434.2670\n",
      "Epoch 414/500\n",
      "25/25 [==============================] - 0s 5ms/step - loss: 188.6180 - val_loss: 1434.2676\n",
      "Epoch 415/500\n",
      "25/25 [==============================] - 0s 5ms/step - loss: 188.6180 - val_loss: 1434.2679\n",
      "Epoch 416/500\n",
      "25/25 [==============================] - 0s 5ms/step - loss: 188.6180 - val_loss: 1434.2681\n",
      "Epoch 417/500\n",
      "25/25 [==============================] - 0s 11ms/step - loss: 188.6180 - val_loss: 1434.2681\n",
      "Epoch 418/500\n",
      "25/25 [==============================] - 0s 5ms/step - loss: 188.6180 - val_loss: 1434.2684\n",
      "Epoch 419/500\n",
      "25/25 [==============================] - 0s 5ms/step - loss: 188.6180 - val_loss: 1434.2684\n",
      "Epoch 420/500\n",
      "25/25 [==============================] - 0s 8ms/step - loss: 188.6180 - val_loss: 1434.2686\n",
      "Epoch 421/500\n",
      "25/25 [==============================] - 0s 6ms/step - loss: 188.6180 - val_loss: 1434.2686\n",
      "Epoch 422/500\n",
      "25/25 [==============================] - 0s 5ms/step - loss: 188.6180 - val_loss: 1434.2688\n",
      "Epoch 423/500\n",
      "25/25 [==============================] - 0s 6ms/step - loss: 188.6180 - val_loss: 1434.2688\n",
      "Epoch 424/500\n",
      "25/25 [==============================] - 0s 5ms/step - loss: 188.6180 - val_loss: 1434.2688\n",
      "Epoch 425/500\n",
      "25/25 [==============================] - 0s 8ms/step - loss: 188.6180 - val_loss: 1434.2688\n",
      "Epoch 426/500\n",
      "25/25 [==============================] - 0s 6ms/step - loss: 188.6180 - val_loss: 1434.2686\n",
      "Epoch 427/500\n",
      "25/25 [==============================] - 0s 5ms/step - loss: 188.6180 - val_loss: 1434.2684\n",
      "Epoch 428/500\n",
      "25/25 [==============================] - 0s 5ms/step - loss: 188.6180 - val_loss: 1434.2681\n",
      "Epoch 429/500\n",
      "25/25 [==============================] - 0s 5ms/step - loss: 188.6180 - val_loss: 1434.2683\n",
      "Epoch 430/500\n",
      "25/25 [==============================] - 0s 7ms/step - loss: 188.6180 - val_loss: 1434.2681\n",
      "Epoch 431/500\n",
      "25/25 [==============================] - 0s 5ms/step - loss: 188.6180 - val_loss: 1434.2681\n",
      "Epoch 432/500\n",
      "25/25 [==============================] - 0s 5ms/step - loss: 188.6180 - val_loss: 1434.2681\n",
      "Epoch 433/500\n",
      "25/25 [==============================] - 0s 5ms/step - loss: 188.6180 - val_loss: 1434.2681\n",
      "Epoch 434/500\n",
      "25/25 [==============================] - 0s 5ms/step - loss: 188.6180 - val_loss: 1434.2681\n",
      "Epoch 435/500\n",
      "25/25 [==============================] - 0s 5ms/step - loss: 188.6180 - val_loss: 1434.2683\n",
      "Epoch 436/500\n",
      "25/25 [==============================] - 0s 5ms/step - loss: 188.6180 - val_loss: 1434.2683\n",
      "Epoch 437/500\n",
      "25/25 [==============================] - 0s 5ms/step - loss: 188.6181 - val_loss: 1434.2683\n",
      "Epoch 438/500\n",
      "25/25 [==============================] - 0s 5ms/step - loss: 188.6181 - val_loss: 1434.2686\n",
      "Epoch 439/500\n",
      "25/25 [==============================] - 0s 4ms/step - loss: 188.6181 - val_loss: 1434.2690\n",
      "Epoch 440/500\n",
      "25/25 [==============================] - 0s 5ms/step - loss: 188.6181 - val_loss: 1434.2690\n",
      "Epoch 441/500\n",
      "25/25 [==============================] - 0s 10ms/step - loss: 188.6181 - val_loss: 1434.2694\n",
      "Epoch 442/500\n",
      "25/25 [==============================] - 0s 5ms/step - loss: 188.6180 - val_loss: 1434.2700\n",
      "Epoch 443/500\n",
      "25/25 [==============================] - 0s 5ms/step - loss: 188.6180 - val_loss: 1434.2700\n",
      "Epoch 444/500\n",
      "25/25 [==============================] - 0s 5ms/step - loss: 188.6180 - val_loss: 1434.2705\n",
      "Epoch 445/500\n",
      "25/25 [==============================] - 0s 6ms/step - loss: 188.6180 - val_loss: 1434.2709\n",
      "Epoch 446/500\n",
      "25/25 [==============================] - 0s 5ms/step - loss: 188.6180 - val_loss: 1434.2710\n",
      "Epoch 447/500\n",
      "25/25 [==============================] - 0s 4ms/step - loss: 188.6180 - val_loss: 1434.2710\n",
      "Epoch 448/500\n",
      "25/25 [==============================] - 0s 5ms/step - loss: 188.6180 - val_loss: 1434.2710\n",
      "Epoch 449/500\n",
      "25/25 [==============================] - 0s 5ms/step - loss: 188.6180 - val_loss: 1434.2710\n",
      "Epoch 450/500\n",
      "25/25 [==============================] - 0s 5ms/step - loss: 188.6180 - val_loss: 1434.2710\n",
      "Epoch 451/500\n",
      "25/25 [==============================] - 0s 5ms/step - loss: 188.6180 - val_loss: 1434.2710\n",
      "Epoch 452/500\n",
      "25/25 [==============================] - 0s 5ms/step - loss: 188.6180 - val_loss: 1434.2710\n",
      "Epoch 453/500\n",
      "25/25 [==============================] - 0s 5ms/step - loss: 188.6180 - val_loss: 1434.2709\n",
      "Epoch 454/500\n",
      "25/25 [==============================] - 0s 5ms/step - loss: 188.6180 - val_loss: 1434.2706\n",
      "Epoch 455/500\n",
      "25/25 [==============================] - 0s 5ms/step - loss: 188.6180 - val_loss: 1434.2704\n",
      "Epoch 456/500\n",
      "25/25 [==============================] - 0s 5ms/step - loss: 188.6180 - val_loss: 1434.2699\n",
      "Epoch 457/500\n",
      "25/25 [==============================] - 0s 5ms/step - loss: 188.6181 - val_loss: 1434.2700\n",
      "Epoch 458/500\n",
      "25/25 [==============================] - 0s 5ms/step - loss: 188.6181 - val_loss: 1434.2697\n",
      "Epoch 459/500\n",
      "25/25 [==============================] - 0s 5ms/step - loss: 188.6180 - val_loss: 1434.2695\n",
      "Epoch 460/500\n",
      "25/25 [==============================] - 0s 5ms/step - loss: 188.6181 - val_loss: 1434.2694\n",
      "Epoch 461/500\n",
      "25/25 [==============================] - 0s 5ms/step - loss: 188.6181 - val_loss: 1434.2686\n",
      "Epoch 462/500\n",
      "25/25 [==============================] - 0s 10ms/step - loss: 188.6181 - val_loss: 1434.2684\n",
      "Epoch 463/500\n",
      "25/25 [==============================] - 0s 6ms/step - loss: 188.6181 - val_loss: 1434.2684\n",
      "Epoch 464/500\n",
      "25/25 [==============================] - 0s 5ms/step - loss: 188.6181 - val_loss: 1434.2684\n",
      "Epoch 465/500\n",
      "25/25 [==============================] - 0s 5ms/step - loss: 188.6181 - val_loss: 1434.2681\n",
      "Epoch 466/500\n",
      "25/25 [==============================] - 0s 5ms/step - loss: 188.6182 - val_loss: 1434.2683\n",
      "Epoch 467/500\n",
      "25/25 [==============================] - 0s 5ms/step - loss: 188.6182 - val_loss: 1434.2683\n",
      "Epoch 468/500\n",
      "25/25 [==============================] - 0s 5ms/step - loss: 188.6182 - val_loss: 1434.2683\n",
      "Epoch 469/500\n",
      "25/25 [==============================] - 0s 5ms/step - loss: 188.6182 - val_loss: 1434.2683\n",
      "Epoch 470/500\n",
      "25/25 [==============================] - 0s 5ms/step - loss: 188.6182 - val_loss: 1434.2683\n",
      "Epoch 471/500\n",
      "25/25 [==============================] - 0s 5ms/step - loss: 188.6182 - val_loss: 1434.2683\n",
      "Epoch 472/500\n",
      "25/25 [==============================] - 0s 5ms/step - loss: 188.6181 - val_loss: 1434.2683\n",
      "Epoch 473/500\n",
      "25/25 [==============================] - 0s 5ms/step - loss: 188.6181 - val_loss: 1434.2683\n",
      "Epoch 474/500\n",
      "25/25 [==============================] - 0s 5ms/step - loss: 188.6181 - val_loss: 1434.2683\n",
      "Epoch 475/500\n",
      "25/25 [==============================] - 0s 5ms/step - loss: 188.6181 - val_loss: 1434.2683\n",
      "Epoch 476/500\n",
      "25/25 [==============================] - 0s 5ms/step - loss: 188.6181 - val_loss: 1434.2683\n",
      "Epoch 477/500\n",
      "25/25 [==============================] - 0s 5ms/step - loss: 188.6182 - val_loss: 1434.2683\n",
      "Epoch 478/500\n",
      "25/25 [==============================] - 0s 5ms/step - loss: 188.6182 - val_loss: 1434.2683\n",
      "Epoch 479/500\n",
      "25/25 [==============================] - 0s 5ms/step - loss: 188.6182 - val_loss: 1434.2683\n",
      "Epoch 480/500\n",
      "25/25 [==============================] - 0s 4ms/step - loss: 188.6182 - val_loss: 1434.2686\n",
      "Epoch 481/500\n",
      "25/25 [==============================] - 0s 5ms/step - loss: 188.6182 - val_loss: 1434.2688\n",
      "Epoch 482/500\n",
      "25/25 [==============================] - 0s 5ms/step - loss: 188.6182 - val_loss: 1434.2689\n",
      "Epoch 483/500\n",
      "25/25 [==============================] - 0s 10ms/step - loss: 188.6181 - val_loss: 1434.2689\n",
      "Epoch 484/500\n",
      "25/25 [==============================] - 0s 6ms/step - loss: 188.6181 - val_loss: 1434.2689\n",
      "Epoch 485/500\n",
      "25/25 [==============================] - 0s 5ms/step - loss: 188.6181 - val_loss: 1434.2689\n",
      "Epoch 486/500\n",
      "25/25 [==============================] - 0s 5ms/step - loss: 188.6182 - val_loss: 1434.2686\n",
      "Epoch 487/500\n",
      "25/25 [==============================] - 0s 5ms/step - loss: 188.6182 - val_loss: 1434.2686\n",
      "Epoch 488/500\n",
      "25/25 [==============================] - 0s 5ms/step - loss: 188.6182 - val_loss: 1434.2686\n",
      "Epoch 489/500\n",
      "25/25 [==============================] - 0s 5ms/step - loss: 188.6182 - val_loss: 1434.2686\n",
      "Epoch 490/500\n",
      "25/25 [==============================] - 0s 5ms/step - loss: 188.6182 - val_loss: 1434.2684\n",
      "Epoch 491/500\n",
      "25/25 [==============================] - 0s 5ms/step - loss: 188.6182 - val_loss: 1434.2681\n",
      "Epoch 492/500\n",
      "25/25 [==============================] - 0s 5ms/step - loss: 188.6182 - val_loss: 1434.2681\n",
      "Epoch 493/500\n",
      "25/25 [==============================] - 0s 4ms/step - loss: 188.6182 - val_loss: 1434.2678\n",
      "Epoch 494/500\n",
      "25/25 [==============================] - 0s 5ms/step - loss: 188.6182 - val_loss: 1434.2676\n",
      "Epoch 495/500\n",
      "25/25 [==============================] - 0s 5ms/step - loss: 188.6182 - val_loss: 1434.2671\n",
      "Epoch 496/500\n",
      "25/25 [==============================] - 0s 5ms/step - loss: 188.6182 - val_loss: 1434.2670\n",
      "Epoch 497/500\n",
      "25/25 [==============================] - 0s 4ms/step - loss: 188.6183 - val_loss: 1434.2670\n",
      "Epoch 498/500\n",
      "25/25 [==============================] - 0s 5ms/step - loss: 188.6183 - val_loss: 1434.2670\n",
      "Epoch 499/500\n",
      "25/25 [==============================] - 0s 5ms/step - loss: 188.6183 - val_loss: 1434.2670\n",
      "Epoch 500/500\n",
      "25/25 [==============================] - 0s 5ms/step - loss: 188.6183 - val_loss: 1434.2670\n"
     ]
    }
   ],
   "source": [
    "C0 = tf.Variable(85.7336, name=\"C0\", trainable=True, dtype=tf.float32)\n",
    "K0 = tf.Variable(-0.0020, name=\"K0\", trainable=True, dtype=tf.float32)\n",
    "K1 = tf.Variable(-0.0002, name=\"K1\", trainable=True, dtype=tf.float32)\n",
    "a = tf.Variable(0.0000, name=\"a\", trainable=True, dtype=tf.float32)\n",
    "b = tf.Variable(0.0125, name=\"b\", trainable=True, dtype=tf.float32)\n",
    "c = tf.Variable(2.3008, name=\"c\", trainable=True, dtype=tf.float32)\n",
    "\n",
    "splitr = 0.8\n",
    "\n",
    "\n",
    "def loss_fn(y_true, y_pred):\n",
    "    squared_difference = tf.square(y_true[:, 0] - y_pred[:, 0])\n",
    "    #squared_difference2 = tf.square(y_true[:, 2]-y_pred[:, 2])\n",
    "    #squared_difference1 = tf.square(y_true[:, 1]-y_pred[:, 1])\n",
    "    epsilon = 1\n",
    "    squared_difference3 = tf.square(\n",
    "        y_pred[:, 1] - (\n",
    "            y_pred[:, 0] * (\n",
    "                K0 - K1 * (\n",
    "                    9 * a * tf.math.log((y_pred[:, 0] + epsilon) / C0) / (K0 - K1 * c)**2 +\n",
    "                    4 * b * tf.math.log((y_pred[:, 0] + epsilon) / C0) / (K0 - K1 * c) + c\n",
    "                )\n",
    "            )\n",
    "        )\n",
    "    )\n",
    "    return tf.reduce_mean(squared_difference, axis=-1) + 0.2*tf.reduce_mean(squared_difference3, axis=-1)\n",
    "model = Sequential()\n",
    "model.add(LSTM(100, input_shape=(trainX.shape[1], trainX.shape[2])))\n",
    "model.add(Dense(60))\n",
    "model.compile(loss=loss_fn, optimizer='adam')\n",
    "history = model.fit(trainX[:int(splitr*trainX.shape[0])], trainy[:int(splitr*trainX.shape[0])], epochs=500, batch_size=64, validation_data=(trainX[int(splitr*trainX.shape[0]):trainX.shape[0]], trainy[int(splitr*trainX.shape[0]):trainX.shape[0]]), shuffle=False)"
   ]
  },
  {
   "cell_type": "code",
   "execution_count": 19,
   "metadata": {
    "colab": {
     "base_uri": "https://localhost:8080/"
    },
    "id": "yJL101rPyuoT",
    "outputId": "239ff2b1-c186-423a-d316-939dfdd7c793"
   },
   "outputs": [
    {
     "name": "stdout",
     "output_type": "stream",
     "text": [
      "1/1 [==============================] - 0s 411ms/step\n"
     ]
    }
   ],
   "source": [
    "forecast_without_mc = forecastX\n",
    "yhat_without_mc = model.predict(forecast_without_mc) # Step Ahead Prediction\n",
    "forecast_without_mc = forecast_without_mc.reshape((forecast_without_mc.shape[0], forecast_without_mc.shape[2])) # Historical Input"
   ]
  },
  {
   "cell_type": "code",
   "execution_count": 20,
   "metadata": {
    "colab": {
     "base_uri": "https://localhost:8080/"
    },
    "id": "g9dQELcJ8wbp",
    "outputId": "4dc7671b-b1a8-48d5-8744-a86f98446109"
   },
   "outputs": [
    {
     "data": {
      "text/plain": [
       "(1, 1, 251)"
      ]
     },
     "execution_count": 20,
     "metadata": {},
     "output_type": "execute_result"
    }
   ],
   "source": [
    "forecastX.shape"
   ]
  },
  {
   "cell_type": "code",
   "execution_count": 21,
   "metadata": {
    "colab": {
     "base_uri": "https://localhost:8080/"
    },
    "id": "IS2kyIKG1Kbr",
    "outputId": "f31b3485-8e26-452f-9298-ea8bf7e80ad1"
   },
   "outputs": [
    {
     "data": {
      "text/plain": [
       "(1, 251)"
      ]
     },
     "execution_count": 21,
     "metadata": {},
     "output_type": "execute_result"
    }
   ],
   "source": [
    "forecast_without_mc.shape"
   ]
  },
  {
   "cell_type": "code",
   "execution_count": 22,
   "metadata": {
    "id": "0u6VIzaDyuoT"
   },
   "outputs": [],
   "source": [
    "inv_yhat_without_mc = np.concatenate((forecast_without_mc, yhat_without_mc), axis=1) # Concatenation of predicted values with Historical Data\n",
    "#inv_yhat_without_mc = scaler.inverse_transform(inv_yhat_without_mc) # Transform labels back to original encoding"
   ]
  },
  {
   "cell_type": "code",
   "execution_count": 23,
   "metadata": {
    "colab": {
     "base_uri": "https://localhost:8080/"
    },
    "id": "EUEcw0LX07oU",
    "outputId": "cfc32397-9c37-4b43-d087-584bb31c3dcc"
   },
   "outputs": [
    {
     "data": {
      "text/plain": [
       "(1, 311)"
      ]
     },
     "execution_count": 23,
     "metadata": {},
     "output_type": "execute_result"
    }
   ],
   "source": [
    "inv_yhat_without_mc.shape"
   ]
  },
  {
   "cell_type": "code",
   "execution_count": 24,
   "metadata": {
    "id": "31OWVbSh_305"
   },
   "outputs": [],
   "source": [
    "fforecast = inv_yhat_without_mc[:,-300:]"
   ]
  },
  {
   "cell_type": "code",
   "execution_count": 25,
   "metadata": {},
   "outputs": [
    {
     "data": {
      "text/plain": [
       "(1, 300)"
      ]
     },
     "execution_count": 25,
     "metadata": {},
     "output_type": "execute_result"
    }
   ],
   "source": [
    "fforecast.shape"
   ]
  },
  {
   "cell_type": "code",
   "execution_count": 26,
   "metadata": {
    "id": "BlpGH2FOAiRF"
   },
   "outputs": [],
   "source": [
    "final_forecast = fforecast[:,0:300:3]"
   ]
  },
  {
   "cell_type": "code",
   "execution_count": 27,
   "metadata": {},
   "outputs": [
    {
     "data": {
      "text/plain": [
       "(1, 300)"
      ]
     },
     "execution_count": 27,
     "metadata": {},
     "output_type": "execute_result"
    }
   ],
   "source": [
    "fforecast.shape"
   ]
  },
  {
   "cell_type": "code",
   "execution_count": 28,
   "metadata": {
    "id": "CXkgkj_LBk_t"
   },
   "outputs": [],
   "source": [
    "# code to replace all negative value with 0\n",
    "final_forecast[final_forecast<0] = 0"
   ]
  },
  {
   "cell_type": "code",
   "execution_count": 29,
   "metadata": {},
   "outputs": [
    {
     "data": {
      "text/plain": [
       "array([[6.48063025e+01, 6.46540420e+01, 6.45037815e+01, 6.43525210e+01,\n",
       "        7.15446396e+01, 6.63190544e-01, 0.00000000e+00, 0.00000000e+00,\n",
       "        2.16340378e-01, 0.00000000e+00, 4.67840314e-01, 0.00000000e+00,\n",
       "        6.28426300e-02, 6.51712185e+01, 6.49443277e+01, 6.47782913e+01,\n",
       "        1.06690124e-01, 0.00000000e+00, 6.57174370e+01, 6.54905462e+01,\n",
       "        6.52636555e+01, 6.50367647e+01, 6.48399160e+01, 6.46886555e+01,\n",
       "        6.45367395e+01, 6.43861345e+01, 6.42565826e+01, 0.00000000e+00,\n",
       "        3.91087680e-02, 6.49023109e+01, 6.47502801e+01, 6.45990196e+01,\n",
       "        6.44477591e+01, 6.42976657e+01, 6.41968254e+01, 6.40959851e+01,\n",
       "        6.39951447e+01, 6.38829132e+01, 0.00000000e+00, 0.00000000e+00,\n",
       "        4.92862870e-02, 6.21114612e-01, 4.72869962e-01, 0.00000000e+00,\n",
       "        4.57607925e-01, 1.97039664e-01, 3.94975320e-02, 6.44197479e+01,\n",
       "        6.42789916e+01, 2.35125870e-01, 5.59358600e-01, 6.49527311e+01,\n",
       "        6.47838936e+01, 6.46326330e+01, 6.44813726e+01, 6.43301120e+01,\n",
       "        6.42192344e+01, 6.41183940e+01, 6.40175537e+01, 6.39167134e+01,\n",
       "        1.88807100e-01, 3.26987240e-01, 6.43917367e+01, 6.42603175e+01,\n",
       "        6.41594771e+01, 6.40586368e+01, 6.39577964e+01, 6.67063142e+01,\n",
       "        6.59869827e+01, 6.52972689e+01, 7.51617130e-01, 8.36256800e-02,\n",
       "        2.29679850e-01, 4.71513557e+01, 2.47511060e-01, 0.00000000e+00,\n",
       "        5.60107830e-01, 3.49309740e-01, 0.00000000e+00, 0.00000000e+00,\n",
       "        6.44304352e+01, 0.00000000e+00, 3.66888016e-01, 0.00000000e+00,\n",
       "        0.00000000e+00, 1.95783377e-01, 0.00000000e+00, 6.26665592e-01,\n",
       "        1.54029548e-01, 5.12148976e-01, 2.14294210e-01, 6.84244707e-02,\n",
       "        0.00000000e+00, 0.00000000e+00, 0.00000000e+00, 0.00000000e+00,\n",
       "        1.79634213e-01, 0.00000000e+00, 0.00000000e+00, 0.00000000e+00]])"
      ]
     },
     "execution_count": 29,
     "metadata": {},
     "output_type": "execute_result"
    }
   ],
   "source": [
    "final_forecast"
   ]
  },
  {
   "cell_type": "code",
   "execution_count": 30,
   "metadata": {},
   "outputs": [
    {
     "data": {
      "text/plain": [
       "(1, 100)"
      ]
     },
     "execution_count": 30,
     "metadata": {},
     "output_type": "execute_result"
    }
   ],
   "source": [
    "final_forecast.shape"
   ]
  },
  {
   "cell_type": "code",
   "execution_count": 31,
   "metadata": {},
   "outputs": [
    {
     "data": {
      "text/plain": [
       "(100,)"
      ]
     },
     "execution_count": 31,
     "metadata": {},
     "output_type": "execute_result"
    }
   ],
   "source": [
    "test.shape"
   ]
  },
  {
   "cell_type": "code",
   "execution_count": 32,
   "metadata": {},
   "outputs": [],
   "source": [
    "training_set = np.array(training_set)\n",
    "test = np.array(test)\n",
    "final_forecast = np.array(final_forecast.squeeze(0))"
   ]
  },
  {
   "cell_type": "code",
   "execution_count": 33,
   "metadata": {},
   "outputs": [
    {
     "data": {
      "text/plain": [
       "array([56.1928059 , 56.18378766, 56.17476942, 56.16575118, 56.15673294,\n",
       "       56.1477147 , 56.13869645, 56.12967821, 56.12065997, 56.11164173,\n",
       "       56.10262349, 56.09360525, 56.08458701, 56.07556876, 56.06655052,\n",
       "       56.05753228, 56.04851404, 56.0394958 , 56.03047756, 56.02145932,\n",
       "       56.01244107, 56.00342283, 55.99440459, 55.98538635, 55.97636811,\n",
       "       55.96734987, 55.95833163, 55.94931338, 55.94029514, 55.9312769 ,\n",
       "       55.92225866, 55.91324042, 55.90422218, 55.89520394, 55.88618569,\n",
       "       55.87716745, 55.86814921, 55.85913097, 55.85011273, 55.84109449,\n",
       "       55.83207625, 55.823058  , 55.81403976, 55.80502152, 55.79600328,\n",
       "       55.78698504, 55.7779668 , 55.76894856, 55.75993031, 55.75091207,\n",
       "       55.74189383, 55.73287559, 55.72385735, 55.71483911, 55.70582086,\n",
       "       55.69680262, 55.68778438, 55.67876614, 55.6697479 , 55.66072966,\n",
       "       55.65171142, 55.64269317, 55.63367493, 55.62465669, 55.61563845,\n",
       "       55.60662021, 55.59760197, 55.58858373, 55.57956548, 55.57054724,\n",
       "       55.561529  , 55.55251076, 55.54349252, 55.53447428, 55.52545604,\n",
       "       55.51643779, 55.50741955, 55.49840131, 55.48938307, 55.48036483,\n",
       "       55.47134659, 55.46232835, 55.4533101 , 55.44429186, 55.43527362,\n",
       "       55.42625538, 55.41723714, 55.4082189 , 55.39920066, 55.39018241,\n",
       "       55.38116417, 55.37214593, 55.36312769, 55.35410945, 55.34509121,\n",
       "       55.33607297, 55.32705472, 55.31803648, 55.30901824, 55.3       ])"
      ]
     },
     "execution_count": 33,
     "metadata": {},
     "output_type": "execute_result"
    }
   ],
   "source": [
    "test"
   ]
  },
  {
   "cell_type": "code",
   "execution_count": 34,
   "metadata": {},
   "outputs": [
    {
     "data": {
      "text/plain": [
       "(100,)"
      ]
     },
     "execution_count": 34,
     "metadata": {},
     "output_type": "execute_result"
    }
   ],
   "source": [
    "test.shape"
   ]
  },
  {
   "cell_type": "code",
   "execution_count": 35,
   "metadata": {},
   "outputs": [
    {
     "data": {
      "text/plain": [
       "(100,)"
      ]
     },
     "execution_count": 35,
     "metadata": {},
     "output_type": "execute_result"
    }
   ],
   "source": [
    "final_forecast.shape"
   ]
  },
  {
   "cell_type": "code",
   "execution_count": 36,
   "metadata": {},
   "outputs": [
    {
     "data": {
      "text/plain": [
       "(100,)"
      ]
     },
     "execution_count": 36,
     "metadata": {},
     "output_type": "execute_result"
    }
   ],
   "source": [
    "test.shape"
   ]
  },
  {
   "cell_type": "code",
   "execution_count": 37,
   "metadata": {},
   "outputs": [
    {
     "name": "stdout",
     "output_type": "stream",
     "text": [
      "40.86062718644854\n",
      "33.59448687886574\n"
     ]
    }
   ],
   "source": [
    "import math\n",
    "MSE = np.square(np.subtract(np.array(test),np.array(final_forecast))).mean()   \n",
    "rsme = math.sqrt(MSE)\n",
    "print(rsme)  \n",
    "MAE = np.abs(np.subtract(np.array(test),np.array(final_forecast))).mean()   \n",
    "mae = MAE\n",
    "print(mae)"
   ]
  }
 ],
 "metadata": {
  "colab": {
   "provenance": []
  },
  "kernelspec": {
   "display_name": "Python 3",
   "language": "python",
   "name": "python3"
  },
  "language_info": {
   "codemirror_mode": {
    "name": "ipython",
    "version": 3
   },
   "file_extension": ".py",
   "mimetype": "text/x-python",
   "name": "python",
   "nbconvert_exporter": "python",
   "pygments_lexer": "ipython3",
   "version": "3.9.13"
  }
 },
 "nbformat": 4,
 "nbformat_minor": 0
}
