{
 "cells": [
  {
   "cell_type": "markdown",
   "metadata": {
    "id": "pCGKeZ2gyuoQ"
   },
   "source": [
    "_Importing Required Libraries_"
   ]
  },
  {
   "cell_type": "code",
   "execution_count": 1,
   "metadata": {
    "colab": {
     "base_uri": "https://localhost:8080/"
    },
    "id": "A-6LN-zXiLcM",
    "outputId": "4de610a4-f8b8-4f49-c6c0-89de299ccedc"
   },
   "outputs": [
    {
     "name": "stdout",
     "output_type": "stream",
     "text": [
      "Requirement already satisfied: hampel in c:\\users\\anurag dutta\\appdata\\local\\packages\\pythonsoftwarefoundation.python.3.9_qbz5n2kfra8p0\\localcache\\local-packages\\python39\\site-packages (0.0.5)\n",
      "Requirement already satisfied: numpy in c:\\users\\anurag dutta\\appdata\\local\\packages\\pythonsoftwarefoundation.python.3.9_qbz5n2kfra8p0\\localcache\\local-packages\\python39\\site-packages (from hampel) (1.26.4)\n",
      "Requirement already satisfied: pandas in c:\\users\\anurag dutta\\appdata\\local\\packages\\pythonsoftwarefoundation.python.3.9_qbz5n2kfra8p0\\localcache\\local-packages\\python39\\site-packages (from hampel) (1.5.2)\n",
      "Requirement already satisfied: python-dateutil>=2.8.1 in c:\\users\\anurag dutta\\appdata\\local\\packages\\pythonsoftwarefoundation.python.3.9_qbz5n2kfra8p0\\localcache\\local-packages\\python39\\site-packages (from pandas->hampel) (2.8.2)\n",
      "Requirement already satisfied: pytz>=2020.1 in c:\\users\\anurag dutta\\appdata\\local\\packages\\pythonsoftwarefoundation.python.3.9_qbz5n2kfra8p0\\localcache\\local-packages\\python39\\site-packages (from pandas->hampel) (2023.3.post1)\n",
      "Requirement already satisfied: six>=1.5 in c:\\users\\anurag dutta\\appdata\\local\\packages\\pythonsoftwarefoundation.python.3.9_qbz5n2kfra8p0\\localcache\\local-packages\\python39\\site-packages (from python-dateutil>=2.8.1->pandas->hampel) (1.16.0)\n",
      "Note: you may need to restart the kernel to use updated packages.\n"
     ]
    },
    {
     "name": "stderr",
     "output_type": "stream",
     "text": [
      "\n",
      "[notice] A new release of pip is available: 24.2 -> 24.3.1\n",
      "[notice] To update, run: C:\\Users\\Anurag Dutta\\AppData\\Local\\Microsoft\\WindowsApps\\PythonSoftwareFoundation.Python.3.9_qbz5n2kfra8p0\\python.exe -m pip install --upgrade pip\n"
     ]
    }
   ],
   "source": [
    "pip install hampel"
   ]
  },
  {
   "cell_type": "code",
   "execution_count": 2,
   "metadata": {
    "id": "By_d9uXpaFvZ"
   },
   "outputs": [],
   "source": [
    "from keras.models import Sequential\n",
    "from keras.layers import Dense\n",
    "from keras.layers import LSTM\n",
    "from keras.layers import Dropout\n",
    "import keras\n",
    "import tensorflow as tf\n",
    "from hampel import hampel\n",
    "import numpy as np\n",
    "import matplotlib.pyplot as plt\n",
    "import pandas as pd\n",
    "from sklearn.preprocessing import MinMaxScaler\n",
    "from sklearn.metrics import mean_squared_error, mean_absolute_error\n",
    "from math import sqrt\n",
    "from matplotlib import pyplot\n",
    "from numpy import array"
   ]
  },
  {
   "cell_type": "markdown",
   "metadata": {
    "id": "JyOjBMFayuoR"
   },
   "source": [
    "## Pretraining"
   ]
  },
  {
   "cell_type": "markdown",
   "metadata": {
    "id": "-5QqIY_GyuoR"
   },
   "source": [
    "The `capa_intermittency.dat` feeds the model with the dynamics of the Capacitor"
   ]
  },
  {
   "cell_type": "code",
   "execution_count": 3,
   "metadata": {
    "id": "9dV4a8yfyuoR"
   },
   "outputs": [],
   "source": [
    "data = np.genfromtxt('capa_intermittency.dat')\n",
    "training_set = pd.DataFrame(data).reset_index(drop=True)\n",
    "training_set = training_set.iloc[:,0]"
   ]
  },
  {
   "cell_type": "markdown",
   "metadata": {
    "id": "i7easoxByuoR"
   },
   "source": [
    "## Computing the Gradient"
   ]
  },
  {
   "cell_type": "markdown",
   "metadata": {
    "id": "5SnyolJTyuoR"
   },
   "source": [
    "_Calculating the value of_ $\\frac{dx}{dt}$"
   ]
  },
  {
   "cell_type": "code",
   "execution_count": 4,
   "metadata": {
    "colab": {
     "base_uri": "https://localhost:8080/"
    },
    "id": "wmIbVfIvyuoR",
    "outputId": "aa4e3136-c854-465d-d2e9-81cfd546e440"
   },
   "outputs": [
    {
     "name": "stdout",
     "output_type": "stream",
     "text": [
      "1.0\n",
      "1        0.000298\n",
      "2        0.000298\n",
      "3        0.000297\n",
      "4        0.000297\n",
      "5        0.000297\n",
      "           ...   \n",
      "9996     0.000018\n",
      "9997     0.000018\n",
      "9998     0.000018\n",
      "9999     0.000018\n",
      "10000    0.000018\n",
      "Name: 0, Length: 10000, dtype: float64\n"
     ]
    }
   ],
   "source": [
    "t_diff = 1\n",
    "print(training_set.max())\n",
    "gradient_t = (training_set.diff()/t_diff).iloc[1:] # dx/dt\n",
    "print(gradient_t)"
   ]
  },
  {
   "cell_type": "markdown",
   "metadata": {
    "id": "_2eVeeoxyuoS"
   },
   "source": [
    "## Loading Datasets"
   ]
  },
  {
   "cell_type": "code",
   "execution_count": 5,
   "metadata": {
    "id": "0J-NKyIEyuoS"
   },
   "outputs": [
    {
     "data": {
      "text/plain": [
       "0       92.600000\n",
       "1       92.387115\n",
       "2       92.174230\n",
       "3       91.961345\n",
       "4       91.748459\n",
       "          ...    \n",
       "1995    66.553676\n",
       "1996    66.543873\n",
       "1997    66.534069\n",
       "1998    66.524265\n",
       "1999    66.514461\n",
       "Name: C7, Length: 2000, dtype: float64"
      ]
     },
     "execution_count": 5,
     "metadata": {},
     "output_type": "execute_result"
    }
   ],
   "source": [
    "data = pd.read_csv(\"c7_interpolated_1900_100.csv\")\n",
    "training_set = data.iloc[:, 1]\n",
    "training_set"
   ]
  },
  {
   "cell_type": "code",
   "execution_count": 6,
   "metadata": {
    "colab": {
     "base_uri": "https://localhost:8080/"
    },
    "id": "-CbNUhJ74UqF",
    "outputId": "20f562d8-8247-49cc-b9c3-00eca5e13e2d"
   },
   "outputs": [
    {
     "data": {
      "text/plain": [
       "0       92.600000\n",
       "1       92.387115\n",
       "2       92.174230\n",
       "3       91.961345\n",
       "4       91.748459\n",
       "          ...    \n",
       "1895     0.000000\n",
       "1896     0.582629\n",
       "1897     1.016119\n",
       "1898     0.000000\n",
       "1899     0.534027\n",
       "Name: C7, Length: 1900, dtype: float64"
      ]
     },
     "execution_count": 6,
     "metadata": {},
     "output_type": "execute_result"
    }
   ],
   "source": [
    "test = training_set.tail(100)\n",
    "test\n",
    "training_set = training_set.head(1900)\n",
    "training_set"
   ]
  },
  {
   "cell_type": "code",
   "execution_count": 7,
   "metadata": {
    "colab": {
     "base_uri": "https://localhost:8080/"
    },
    "id": "X0TwTcq0yuoS",
    "outputId": "37252ed8-d88e-4044-fa7a-922411990b5b"
   },
   "outputs": [
    {
     "name": "stdout",
     "output_type": "stream",
     "text": [
      "0       0.000298\n",
      "1       0.000298\n",
      "2       0.000297\n",
      "3       0.000297\n",
      "4       0.000297\n",
      "          ...   \n",
      "9995    0.000018\n",
      "9996    0.000018\n",
      "9997    0.000018\n",
      "9998    0.000018\n",
      "9999    0.000018\n",
      "Name: 0, Length: 10000, dtype: float64\n"
     ]
    }
   ],
   "source": [
    "training_set = training_set.reset_index(drop=True)\n",
    "gradient_t = gradient_t.reset_index(drop=True)\n",
    "print(gradient_t)"
   ]
  },
  {
   "cell_type": "code",
   "execution_count": 8,
   "metadata": {
    "id": "O2biznZQyuoS"
   },
   "outputs": [],
   "source": [
    "df = pd.concat((training_set, gradient_t), axis=1)\n",
    "df.columns = ['y_t', 'grad_t']"
   ]
  },
  {
   "cell_type": "code",
   "execution_count": 9,
   "metadata": {
    "colab": {
     "base_uri": "https://localhost:8080/",
     "height": 423
    },
    "id": "sk_a5v3tyuoS",
    "outputId": "17563625-e550-45ae-faab-fafa353e44da"
   },
   "outputs": [
    {
     "data": {
      "text/html": [
       "<div>\n",
       "<style scoped>\n",
       "    .dataframe tbody tr th:only-of-type {\n",
       "        vertical-align: middle;\n",
       "    }\n",
       "\n",
       "    .dataframe tbody tr th {\n",
       "        vertical-align: top;\n",
       "    }\n",
       "\n",
       "    .dataframe thead th {\n",
       "        text-align: right;\n",
       "    }\n",
       "</style>\n",
       "<table border=\"1\" class=\"dataframe\">\n",
       "  <thead>\n",
       "    <tr style=\"text-align: right;\">\n",
       "      <th></th>\n",
       "      <th>y_t</th>\n",
       "      <th>grad_t</th>\n",
       "    </tr>\n",
       "  </thead>\n",
       "  <tbody>\n",
       "    <tr>\n",
       "      <th>0</th>\n",
       "      <td>92.600000</td>\n",
       "      <td>0.000298</td>\n",
       "    </tr>\n",
       "    <tr>\n",
       "      <th>1</th>\n",
       "      <td>92.387115</td>\n",
       "      <td>0.000298</td>\n",
       "    </tr>\n",
       "    <tr>\n",
       "      <th>2</th>\n",
       "      <td>92.174230</td>\n",
       "      <td>0.000297</td>\n",
       "    </tr>\n",
       "    <tr>\n",
       "      <th>3</th>\n",
       "      <td>91.961345</td>\n",
       "      <td>0.000297</td>\n",
       "    </tr>\n",
       "    <tr>\n",
       "      <th>4</th>\n",
       "      <td>91.748459</td>\n",
       "      <td>0.000297</td>\n",
       "    </tr>\n",
       "    <tr>\n",
       "      <th>...</th>\n",
       "      <td>...</td>\n",
       "      <td>...</td>\n",
       "    </tr>\n",
       "    <tr>\n",
       "      <th>9995</th>\n",
       "      <td>NaN</td>\n",
       "      <td>0.000018</td>\n",
       "    </tr>\n",
       "    <tr>\n",
       "      <th>9996</th>\n",
       "      <td>NaN</td>\n",
       "      <td>0.000018</td>\n",
       "    </tr>\n",
       "    <tr>\n",
       "      <th>9997</th>\n",
       "      <td>NaN</td>\n",
       "      <td>0.000018</td>\n",
       "    </tr>\n",
       "    <tr>\n",
       "      <th>9998</th>\n",
       "      <td>NaN</td>\n",
       "      <td>0.000018</td>\n",
       "    </tr>\n",
       "    <tr>\n",
       "      <th>9999</th>\n",
       "      <td>NaN</td>\n",
       "      <td>0.000018</td>\n",
       "    </tr>\n",
       "  </tbody>\n",
       "</table>\n",
       "<p>10000 rows × 2 columns</p>\n",
       "</div>"
      ],
      "text/plain": [
       "            y_t    grad_t\n",
       "0     92.600000  0.000298\n",
       "1     92.387115  0.000298\n",
       "2     92.174230  0.000297\n",
       "3     91.961345  0.000297\n",
       "4     91.748459  0.000297\n",
       "...         ...       ...\n",
       "9995        NaN  0.000018\n",
       "9996        NaN  0.000018\n",
       "9997        NaN  0.000018\n",
       "9998        NaN  0.000018\n",
       "9999        NaN  0.000018\n",
       "\n",
       "[10000 rows x 2 columns]"
      ]
     },
     "execution_count": 9,
     "metadata": {},
     "output_type": "execute_result"
    }
   ],
   "source": [
    "df"
   ]
  },
  {
   "cell_type": "markdown",
   "metadata": {
    "id": "-5esyHu5aFvg"
   },
   "source": [
    "## Plot of the External Forcing from Chaotic Differential Equation"
   ]
  },
  {
   "cell_type": "code",
   "execution_count": 10,
   "metadata": {
    "colab": {
     "base_uri": "https://localhost:8080/",
     "height": 447
    },
    "id": "hGnE43tOh-4p",
    "outputId": "fc396503-b624-4fa5-dfbe-f460207405c6"
   },
   "outputs": [
    {
     "data": {
      "text/plain": [
       "<Axes: >"
      ]
     },
     "execution_count": 10,
     "metadata": {},
     "output_type": "execute_result"
    },
    {
     "data": {
      "image/png": "[encoded data removed]",
      "text/plain": [
       "<Figure size 432x288 with 1 Axes>"
      ]
     },
     "metadata": {
      "needs_background": "light"
     },
     "output_type": "display_data"
    }
   ],
   "source": [
    "df.iloc[:, 0].plot()"
   ]
  },
  {
   "cell_type": "code",
   "execution_count": 11,
   "metadata": {
    "colab": {
     "base_uri": "https://localhost:8080/",
     "height": 447
    },
    "id": "ym4xWUUxaFvg",
    "outputId": "ae6a3495-8ce9-437e-ba81-3ed31deedeae"
   },
   "outputs": [
    {
     "name": "stderr",
     "output_type": "stream",
     "text": [
      "C:\\Users\\Anurag Dutta\\AppData\\Local\\Packages\\PythonSoftwareFoundation.Python.3.9_qbz5n2kfra8p0\\LocalCache\\local-packages\\Python39\\site-packages\\pandas\\core\\arraylike.py:402: RuntimeWarning: divide by zero encountered in log\n",
      "  result = getattr(ufunc, method)(*inputs, **kwargs)\n"
     ]
    },
    {
     "data": {
      "text/plain": [
       "<Axes: >"
      ]
     },
     "execution_count": 11,
     "metadata": {},
     "output_type": "execute_result"
    },
    {
     "data": {
      "image/png": "[encoded data removed]",
      "text/plain": [
       "<Figure size 432x288 with 1 Axes>"
      ]
     },
     "metadata": {
      "needs_background": "light"
     },
     "output_type": "display_data"
    }
   ],
   "source": [
    "import numpy as np\n",
    "c0 = 89.3180  # Value for C0\n",
    "K0 = -0.0010  # Value for K0\n",
    "K1 = 0.0001  # Value for K1\n",
    "a = 0.0000    # Value for a\n",
    "b = -0.0204    # Value for b\n",
    "c = 2.2194    # Value for c\n",
    "\n",
    "L = np.minimum(c0, (df.iloc[:, 1] - (df.iloc[:, 0] * (K0 - K1 * (9 * a * np.log(df.iloc[:, 0] / c0) / (K0 - K1 * c)**2 + 4 * b * np.log(df.iloc[:, 0] / c0) / (K0 - K1 * c) + c)))))\n",
    "L.plot()"
   ]
  },
  {
   "cell_type": "markdown",
   "metadata": {
    "id": "9VyEywnwaFvh"
   },
   "source": [
    "## Preprocessing the data into supervised learning"
   ]
  },
  {
   "cell_type": "code",
   "execution_count": 12,
   "metadata": {
    "id": "6V9dXqzdaFvh"
   },
   "outputs": [],
   "source": [
    "# split a sequence into samples\n",
    "def Supervised(data, n_in=1, n_out=1, dropnan=True):\n",
    "    n_vars = 1 if type(data) is list else data.shape[1]\n",
    "    df = pd.DataFrame(data)\n",
    "    cols, names = list(), list()\n",
    "    # input sequence (t-n_in, ... t-1)\n",
    "    for i in range(n_in, 0, -1):\n",
    "        cols.append(df.shift(i))\n",
    "        names += [('var%d(t-%d)' % (j+1, i)) for j in range(n_vars)]\n",
    "    # forecast sequence (t, t+1, ... t+n_out)\n",
    "    for i in range(0, n_out):\n",
    "      cols.append(df.shift(-i))\n",
    "      if i == 0:\n",
    "        names += [('var%d(t)' % (j+1)) for j in range(n_vars)]\n",
    "      else:\n",
    "        names += [('var%d(t+%d)' % (j+1, i)) for j in range(n_vars)]\n",
    "    # put it all together\n",
    "    agg = pd.concat(cols, axis=1)\n",
    "    agg.columns = names\n",
    "    # drop rows with NaN values\n",
    "    if dropnan:\n",
    "       agg.dropna(inplace=True)\n",
    "    return agg"
   ]
  },
  {
   "cell_type": "code",
   "execution_count": 13,
   "metadata": {
    "colab": {
     "base_uri": "https://localhost:8080/"
    },
    "id": "CrzSrT1HnyfH",
    "outputId": "7e75f928-3e47-499d-eac1-51908015ef78"
   },
   "outputs": [
    {
     "name": "stdout",
     "output_type": "stream",
     "text": [
      "     var1(t-350)  var1(t-349)  var1(t-348)  var1(t-347)  var1(t-346)  \\\n",
      "350    92.600000    92.387115    92.174230    91.961345    91.748459   \n",
      "351    92.387115    92.174230    91.961345    91.748459    91.535574   \n",
      "352    92.174230    91.961345    91.748459    91.535574    91.322689   \n",
      "353    91.961345    91.748459    91.535574    91.322689    91.109804   \n",
      "354    91.748459    91.535574    91.322689    91.109804    90.896919   \n",
      "\n",
      "     var1(t-345)  var1(t-344)  var1(t-343)  var1(t-342)  var1(t-341)  ...  \\\n",
      "350    91.535574    91.322689    91.109804    90.896919    90.691597  ...   \n",
      "351    91.322689    91.109804    90.896919    90.691597    90.579552  ...   \n",
      "352    91.109804    90.896919    90.691597    90.579552    90.467507  ...   \n",
      "353    90.896919    90.691597    90.579552    90.467507    90.355462  ...   \n",
      "354    90.691597    90.579552    90.467507    90.355462    90.243417  ...   \n",
      "\n",
      "     var1(t+95)  var2(t+95)  var1(t+96)  var2(t+96)  var1(t+97)  var2(t+97)  \\\n",
      "350   80.261671    0.000263   80.252334    0.000263   80.242997    0.000263   \n",
      "351   80.252334    0.000263   80.242997    0.000263   80.233660    0.000262   \n",
      "352   80.242997    0.000263   80.233660    0.000262   80.224323    0.000262   \n",
      "353   80.233660    0.000262   80.224323    0.000262   80.214986    0.000262   \n",
      "354   80.224323    0.000262   80.214986    0.000262   80.205649    0.000262   \n",
      "\n",
      "     var1(t+98)  var2(t+98)  var1(t+99)  var2(t+99)  \n",
      "350   80.233660    0.000262   80.224323    0.000262  \n",
      "351   80.224323    0.000262   80.214986    0.000262  \n",
      "352   80.214986    0.000262   80.205649    0.000262  \n",
      "353   80.205649    0.000262   80.196312    0.000262  \n",
      "354   80.196312    0.000262   80.186975    0.000262  \n",
      "\n",
      "[5 rows x 551 columns]\n",
      "Index(['var1(t-350)', 'var1(t-349)', 'var1(t-348)', 'var1(t-347)',\n",
      "       'var1(t-346)', 'var1(t-345)', 'var1(t-344)', 'var1(t-343)',\n",
      "       'var1(t-342)', 'var1(t-341)',\n",
      "       ...\n",
      "       'var1(t+95)', 'var2(t+95)', 'var1(t+96)', 'var2(t+96)', 'var1(t+97)',\n",
      "       'var2(t+97)', 'var1(t+98)', 'var2(t+98)', 'var1(t+99)', 'var2(t+99)'],\n",
      "      dtype='object', length=551)\n"
     ]
    }
   ],
   "source": [
    "data = Supervised(df.values, n_in = 350, n_out = 100)\n",
    "\n",
    "\n",
    "cols_to_drop = []\n",
    "for i in range(2, 351):\n",
    "    cols_to_drop.extend([f'var2(t-{i})'])\n",
    "\n",
    "data.drop(cols_to_drop, axis=1, inplace=True)\n",
    "\n",
    "print(data.head())\n",
    "print(data.columns)"
   ]
  },
  {
   "cell_type": "code",
   "execution_count": 14,
   "metadata": {
    "id": "AfPf60oy6Pe4"
   },
   "outputs": [],
   "source": [
    "train = np.array(data[0:len(data)-1])\n",
    "forecast = np.array(data.tail(1))"
   ]
  },
  {
   "cell_type": "code",
   "execution_count": 15,
   "metadata": {
    "id": "WSAafzI37KiT"
   },
   "outputs": [],
   "source": [
    "trainy = train[:,-300:]\n",
    "trainX = train[:,:-300]"
   ]
  },
  {
   "cell_type": "code",
   "execution_count": 16,
   "metadata": {
    "id": "2SrOqVJA7f50"
   },
   "outputs": [],
   "source": [
    "forecasty = forecast[:,-300:]\n",
    "forecastX = forecast[:,:-300]"
   ]
  },
  {
   "cell_type": "code",
   "execution_count": 17,
   "metadata": {
    "colab": {
     "base_uri": "https://localhost:8080/"
    },
    "id": "Qno_k8Nw7saY",
    "outputId": "c4a88db5-d8c6-489f-cdb2-06b24e293cff"
   },
   "outputs": [
    {
     "name": "stdout",
     "output_type": "stream",
     "text": [
      "(1450, 1, 251) (1450, 300) (1, 1, 251)\n"
     ]
    }
   ],
   "source": [
    "trainX = trainX.reshape((trainX.shape[0], 1, trainX.shape[1]))\n",
    "forecastX = forecastX.reshape((forecastX.shape[0], 1, forecastX.shape[1]))\n",
    "print(trainX.shape, trainy.shape, forecastX.shape)"
   ]
  },
  {
   "cell_type": "code",
   "execution_count": 18,
   "metadata": {
    "colab": {
     "base_uri": "https://localhost:8080/"
    },
    "id": "b1Jp2DvNuNFx",
    "outputId": "d0e5b3c4-64f1-438c-eade-8dfeaac8e285"
   },
   "outputs": [
    {
     "name": "stdout",
     "output_type": "stream",
     "text": [
      "Epoch 1/500\n",
      "19/19 [==============================] - 2s 28ms/step - loss: 5736.7964 - val_loss: 4234.4790\n",
      "Epoch 2/500\n",
      "19/19 [==============================] - 0s 6ms/step - loss: 5640.4214 - val_loss: 4166.4502\n",
      "Epoch 3/500\n",
      "19/19 [==============================] - 0s 5ms/step - loss: 5560.9155 - val_loss: 4112.5645\n",
      "Epoch 4/500\n",
      "19/19 [==============================] - 0s 4ms/step - loss: 5491.2769 - val_loss: 4059.3552\n",
      "Epoch 5/500\n",
      "19/19 [==============================] - 0s 4ms/step - loss: 5422.4678 - val_loss: 4006.8391\n",
      "Epoch 6/500\n",
      "19/19 [==============================] - 0s 5ms/step - loss: 5354.4429 - val_loss: 3954.9607\n",
      "Epoch 7/500\n",
      "19/19 [==============================] - 0s 4ms/step - loss: 5287.1440 - val_loss: 3903.6829\n",
      "Epoch 8/500\n",
      "19/19 [==============================] - 0s 4ms/step - loss: 5220.5381 - val_loss: 3846.2759\n",
      "Epoch 9/500\n",
      "19/19 [==============================] - 0s 4ms/step - loss: 5141.3022 - val_loss: 3790.5647\n",
      "Epoch 10/500\n",
      "19/19 [==============================] - 0s 4ms/step - loss: 5071.1353 - val_loss: 3735.3811\n",
      "Epoch 11/500\n",
      "19/19 [==============================] - 0s 4ms/step - loss: 4997.2510 - val_loss: 3679.6792\n",
      "Epoch 12/500\n",
      "19/19 [==============================] - 0s 5ms/step - loss: 4924.4771 - val_loss: 3625.3074\n",
      "Epoch 13/500\n",
      "19/19 [==============================] - 0s 4ms/step - loss: 4853.6050 - val_loss: 3572.3445\n",
      "Epoch 14/500\n",
      "19/19 [==============================] - 0s 4ms/step - loss: 4784.3496 - val_loss: 3520.5032\n",
      "Epoch 15/500\n",
      "19/19 [==============================] - 0s 4ms/step - loss: 4716.3896 - val_loss: 3469.6079\n",
      "Epoch 16/500\n",
      "19/19 [==============================] - 0s 4ms/step - loss: 4649.5317 - val_loss: 3419.5535\n",
      "Epoch 17/500\n",
      "19/19 [==============================] - 0s 4ms/step - loss: 4583.6572 - val_loss: 3370.2705\n",
      "Epoch 18/500\n",
      "19/19 [==============================] - 0s 5ms/step - loss: 4518.6904 - val_loss: 3321.7124\n",
      "Epoch 19/500\n",
      "19/19 [==============================] - 0s 4ms/step - loss: 4454.5742 - val_loss: 3273.8445\n",
      "Epoch 20/500\n",
      "19/19 [==============================] - 0s 4ms/step - loss: 4391.2686 - val_loss: 3226.6387\n",
      "Epoch 21/500\n",
      "19/19 [==============================] - 0s 4ms/step - loss: 4328.7407 - val_loss: 3180.0750\n",
      "Epoch 22/500\n",
      "19/19 [==============================] - 0s 5ms/step - loss: 4266.9668 - val_loss: 3134.1350\n",
      "Epoch 23/500\n",
      "19/19 [==============================] - 0s 4ms/step - loss: 4205.9248 - val_loss: 3088.8037\n",
      "Epoch 24/500\n",
      "19/19 [==============================] - 0s 5ms/step - loss: 4145.5967 - val_loss: 3044.0686\n",
      "Epoch 25/500\n",
      "19/19 [==============================] - 0s 4ms/step - loss: 4085.9678 - val_loss: 2999.9182\n",
      "Epoch 26/500\n",
      "19/19 [==============================] - 0s 4ms/step - loss: 4027.0237 - val_loss: 2956.3411\n",
      "Epoch 27/500\n",
      "19/19 [==============================] - 0s 4ms/step - loss: 3968.7527 - val_loss: 2913.3293\n",
      "Epoch 28/500\n",
      "19/19 [==============================] - 0s 12ms/step - loss: 3911.1436 - val_loss: 2870.8750\n",
      "Epoch 29/500\n",
      "19/19 [==============================] - 0s 5ms/step - loss: 3854.1880 - val_loss: 2828.9692\n",
      "Epoch 30/500\n",
      "19/19 [==============================] - 0s 4ms/step - loss: 3797.8755 - val_loss: 2787.6050\n",
      "Epoch 31/500\n",
      "19/19 [==============================] - 0s 4ms/step - loss: 3742.1970 - val_loss: 2746.7764\n",
      "Epoch 32/500\n",
      "19/19 [==============================] - 0s 4ms/step - loss: 3687.1453 - val_loss: 2706.4758\n",
      "Epoch 33/500\n",
      "19/19 [==============================] - 0s 4ms/step - loss: 3632.7141 - val_loss: 2666.6975\n",
      "Epoch 34/500\n",
      "19/19 [==============================] - 0s 4ms/step - loss: 3578.8943 - val_loss: 2627.4365\n",
      "Epoch 35/500\n",
      "19/19 [==============================] - 0s 4ms/step - loss: 3525.6802 - val_loss: 2588.6865\n",
      "Epoch 36/500\n",
      "19/19 [==============================] - 0s 4ms/step - loss: 3473.0654 - val_loss: 2550.4414\n",
      "Epoch 37/500\n",
      "19/19 [==============================] - 0s 3ms/step - loss: 3421.0432 - val_loss: 2512.6973\n",
      "Epoch 38/500\n",
      "19/19 [==============================] - 0s 3ms/step - loss: 3369.6082 - val_loss: 2475.4487\n",
      "Epoch 39/500\n",
      "19/19 [==============================] - 0s 4ms/step - loss: 3318.7546 - val_loss: 2438.6907\n",
      "Epoch 40/500\n",
      "19/19 [==============================] - 0s 4ms/step - loss: 3268.4768 - val_loss: 2402.4185\n",
      "Epoch 41/500\n",
      "19/19 [==============================] - 0s 4ms/step - loss: 3218.7686 - val_loss: 2366.6272\n",
      "Epoch 42/500\n",
      "19/19 [==============================] - 0s 4ms/step - loss: 3169.6248 - val_loss: 2331.3123\n",
      "Epoch 43/500\n",
      "19/19 [==============================] - 0s 4ms/step - loss: 3121.0410 - val_loss: 2296.4697\n",
      "Epoch 44/500\n",
      "19/19 [==============================] - 0s 4ms/step - loss: 3073.0115 - val_loss: 2262.0947\n",
      "Epoch 45/500\n",
      "19/19 [==============================] - 0s 5ms/step - loss: 3025.5310 - val_loss: 2228.1829\n",
      "Epoch 46/500\n",
      "19/19 [==============================] - 0s 4ms/step - loss: 2978.5964 - val_loss: 2194.7305\n",
      "Epoch 47/500\n",
      "19/19 [==============================] - 0s 5ms/step - loss: 2932.2012 - val_loss: 2161.7329\n",
      "Epoch 48/500\n",
      "19/19 [==============================] - 0s 9ms/step - loss: 2886.3411 - val_loss: 2129.1870\n",
      "Epoch 49/500\n",
      "19/19 [==============================] - 0s 12ms/step - loss: 2841.0127 - val_loss: 2097.0879\n",
      "Epoch 50/500\n",
      "19/19 [==============================] - 0s 7ms/step - loss: 2796.2100 - val_loss: 2065.4319\n",
      "Epoch 51/500\n",
      "19/19 [==============================] - 0s 4ms/step - loss: 2751.9287 - val_loss: 2034.2146\n",
      "Epoch 52/500\n",
      "19/19 [==============================] - 0s 5ms/step - loss: 2708.1648 - val_loss: 2003.4327\n",
      "Epoch 53/500\n",
      "19/19 [==============================] - 0s 4ms/step - loss: 2664.9146 - val_loss: 1973.0817\n",
      "Epoch 54/500\n",
      "19/19 [==============================] - 0s 4ms/step - loss: 2622.1724 - val_loss: 1943.1591\n",
      "Epoch 55/500\n",
      "19/19 [==============================] - 0s 4ms/step - loss: 2579.9348 - val_loss: 1913.6599\n",
      "Epoch 56/500\n",
      "19/19 [==============================] - 0s 5ms/step - loss: 2538.1980 - val_loss: 1884.5811\n",
      "Epoch 57/500\n",
      "19/19 [==============================] - 0s 4ms/step - loss: 2496.9570 - val_loss: 1855.9187\n",
      "Epoch 58/500\n",
      "19/19 [==============================] - 0s 3ms/step - loss: 2456.2083 - val_loss: 1827.6689\n",
      "Epoch 59/500\n",
      "19/19 [==============================] - 0s 4ms/step - loss: 2415.9482 - val_loss: 1799.8292\n",
      "Epoch 60/500\n",
      "19/19 [==============================] - 0s 4ms/step - loss: 2376.1719 - val_loss: 1772.3954\n",
      "Epoch 61/500\n",
      "19/19 [==============================] - 0s 4ms/step - loss: 2336.8760 - val_loss: 1745.3634\n",
      "Epoch 62/500\n",
      "19/19 [==============================] - 0s 9ms/step - loss: 2298.0569 - val_loss: 1718.7305\n",
      "Epoch 63/500\n",
      "19/19 [==============================] - 0s 4ms/step - loss: 2259.7100 - val_loss: 1692.4933\n",
      "Epoch 64/500\n",
      "19/19 [==============================] - 0s 4ms/step - loss: 2221.8315 - val_loss: 1666.6470\n",
      "Epoch 65/500\n",
      "19/19 [==============================] - 0s 4ms/step - loss: 2184.4182 - val_loss: 1641.1899\n",
      "Epoch 66/500\n",
      "19/19 [==============================] - 0s 4ms/step - loss: 2147.4656 - val_loss: 1616.1178\n",
      "Epoch 67/500\n",
      "19/19 [==============================] - 0s 5ms/step - loss: 2110.9712 - val_loss: 1591.4276\n",
      "Epoch 68/500\n",
      "19/19 [==============================] - 0s 7ms/step - loss: 2074.9299 - val_loss: 1567.1155\n",
      "Epoch 69/500\n",
      "19/19 [==============================] - 0s 6ms/step - loss: 2039.3381 - val_loss: 1543.1782\n",
      "Epoch 70/500\n",
      "19/19 [==============================] - 0s 5ms/step - loss: 2004.1931 - val_loss: 1519.6134\n",
      "Epoch 71/500\n",
      "19/19 [==============================] - 0s 4ms/step - loss: 1969.4910 - val_loss: 1496.4172\n",
      "Epoch 72/500\n",
      "19/19 [==============================] - 0s 6ms/step - loss: 1935.2283 - val_loss: 1473.5863\n",
      "Epoch 73/500\n",
      "19/19 [==============================] - 0s 6ms/step - loss: 1901.4009 - val_loss: 1451.1172\n",
      "Epoch 74/500\n",
      "19/19 [==============================] - 0s 4ms/step - loss: 1868.0056 - val_loss: 1429.0074\n",
      "Epoch 75/500\n",
      "19/19 [==============================] - 0s 4ms/step - loss: 1835.0392 - val_loss: 1407.2532\n",
      "Epoch 76/500\n",
      "19/19 [==============================] - 0s 4ms/step - loss: 1802.4977 - val_loss: 1385.8523\n",
      "Epoch 77/500\n",
      "19/19 [==============================] - 0s 4ms/step - loss: 1770.3782 - val_loss: 1364.8000\n",
      "Epoch 78/500\n",
      "19/19 [==============================] - 0s 3ms/step - loss: 1738.6766 - val_loss: 1344.0942\n",
      "Epoch 79/500\n",
      "19/19 [==============================] - 0s 4ms/step - loss: 1707.3895 - val_loss: 1323.7321\n",
      "Epoch 80/500\n",
      "19/19 [==============================] - 0s 4ms/step - loss: 1676.5143 - val_loss: 1303.7092\n",
      "Epoch 81/500\n",
      "19/19 [==============================] - 0s 4ms/step - loss: 1646.0465 - val_loss: 1284.0238\n",
      "Epoch 82/500\n",
      "19/19 [==============================] - 0s 4ms/step - loss: 1615.9843 - val_loss: 1264.6724\n",
      "Epoch 83/500\n",
      "19/19 [==============================] - 0s 5ms/step - loss: 1586.3229 - val_loss: 1245.6521\n",
      "Epoch 84/500\n",
      "19/19 [==============================] - 0s 5ms/step - loss: 1557.0598 - val_loss: 1226.9597\n",
      "Epoch 85/500\n",
      "19/19 [==============================] - 0s 4ms/step - loss: 1528.1913 - val_loss: 1208.5917\n",
      "Epoch 86/500\n",
      "19/19 [==============================] - 0s 4ms/step - loss: 1499.7137 - val_loss: 1190.5459\n",
      "Epoch 87/500\n",
      "19/19 [==============================] - 0s 4ms/step - loss: 1471.6250 - val_loss: 1172.8191\n",
      "Epoch 88/500\n",
      "19/19 [==============================] - 0s 4ms/step - loss: 1443.9213 - val_loss: 1155.4086\n",
      "Epoch 89/500\n",
      "19/19 [==============================] - 0s 5ms/step - loss: 1416.5992 - val_loss: 1138.3110\n",
      "Epoch 90/500\n",
      "19/19 [==============================] - 0s 4ms/step - loss: 1389.6558 - val_loss: 1121.5231\n",
      "Epoch 91/500\n",
      "19/19 [==============================] - 0s 5ms/step - loss: 1363.0878 - val_loss: 1105.0417\n",
      "Epoch 92/500\n",
      "19/19 [==============================] - 0s 5ms/step - loss: 1336.8915 - val_loss: 1088.8654\n",
      "Epoch 93/500\n",
      "19/19 [==============================] - 0s 5ms/step - loss: 1311.0648 - val_loss: 1072.9899\n",
      "Epoch 94/500\n",
      "19/19 [==============================] - 0s 5ms/step - loss: 1285.6036 - val_loss: 1057.4126\n",
      "Epoch 95/500\n",
      "19/19 [==============================] - 0s 10ms/step - loss: 1260.5055 - val_loss: 1042.1312\n",
      "Epoch 96/500\n",
      "19/19 [==============================] - 0s 5ms/step - loss: 1235.7670 - val_loss: 1027.1422\n",
      "Epoch 97/500\n",
      "19/19 [==============================] - 0s 5ms/step - loss: 1211.3850 - val_loss: 1012.4423\n",
      "Epoch 98/500\n",
      "19/19 [==============================] - 0s 4ms/step - loss: 1187.3556 - val_loss: 998.0300\n",
      "Epoch 99/500\n",
      "19/19 [==============================] - 0s 5ms/step - loss: 1163.6772 - val_loss: 983.9012\n",
      "Epoch 100/500\n",
      "19/19 [==============================] - 0s 6ms/step - loss: 1140.3462 - val_loss: 970.0539\n",
      "Epoch 101/500\n",
      "19/19 [==============================] - 0s 4ms/step - loss: 1117.3594 - val_loss: 956.4845\n",
      "Epoch 102/500\n",
      "19/19 [==============================] - 0s 4ms/step - loss: 1094.7136 - val_loss: 943.1903\n",
      "Epoch 103/500\n",
      "19/19 [==============================] - 0s 4ms/step - loss: 1072.4062 - val_loss: 930.1694\n",
      "Epoch 104/500\n",
      "19/19 [==============================] - 0s 4ms/step - loss: 1050.4342 - val_loss: 917.4182\n",
      "Epoch 105/500\n",
      "19/19 [==============================] - 0s 4ms/step - loss: 1028.7938 - val_loss: 904.9336\n",
      "Epoch 106/500\n",
      "19/19 [==============================] - 0s 4ms/step - loss: 1007.4828 - val_loss: 892.7137\n",
      "Epoch 107/500\n",
      "19/19 [==============================] - 0s 4ms/step - loss: 986.4980 - val_loss: 880.7552\n",
      "Epoch 108/500\n",
      "19/19 [==============================] - 0s 5ms/step - loss: 965.8360 - val_loss: 869.0547\n",
      "Epoch 109/500\n",
      "19/19 [==============================] - 0s 4ms/step - loss: 945.4944 - val_loss: 857.6104\n",
      "Epoch 110/500\n",
      "19/19 [==============================] - 0s 4ms/step - loss: 925.4700 - val_loss: 846.4194\n",
      "Epoch 111/500\n",
      "19/19 [==============================] - 0s 4ms/step - loss: 905.7601 - val_loss: 835.4790\n",
      "Epoch 112/500\n",
      "19/19 [==============================] - 0s 5ms/step - loss: 886.3618 - val_loss: 824.7858\n",
      "Epoch 113/500\n",
      "19/19 [==============================] - 0s 5ms/step - loss: 867.2719 - val_loss: 814.3376\n",
      "Epoch 114/500\n",
      "19/19 [==============================] - 0s 4ms/step - loss: 848.4874 - val_loss: 804.1318\n",
      "Epoch 115/500\n",
      "19/19 [==============================] - 0s 4ms/step - loss: 830.0057 - val_loss: 794.1654\n",
      "Epoch 116/500\n",
      "19/19 [==============================] - 0s 4ms/step - loss: 811.8239 - val_loss: 784.4354\n",
      "Epoch 117/500\n",
      "19/19 [==============================] - 0s 5ms/step - loss: 793.9385 - val_loss: 774.9393\n",
      "Epoch 118/500\n",
      "19/19 [==============================] - 0s 4ms/step - loss: 776.3474 - val_loss: 765.6748\n",
      "Epoch 119/500\n",
      "19/19 [==============================] - 0s 5ms/step - loss: 759.0475 - val_loss: 756.6387\n",
      "Epoch 120/500\n",
      "19/19 [==============================] - 0s 4ms/step - loss: 742.0358 - val_loss: 747.8286\n",
      "Epoch 121/500\n",
      "19/19 [==============================] - 0s 5ms/step - loss: 725.3096 - val_loss: 739.2415\n",
      "Epoch 122/500\n",
      "19/19 [==============================] - 0s 4ms/step - loss: 708.8661 - val_loss: 730.8751\n",
      "Epoch 123/500\n",
      "19/19 [==============================] - 0s 4ms/step - loss: 692.7023 - val_loss: 722.7263\n",
      "Epoch 124/500\n",
      "19/19 [==============================] - 0s 4ms/step - loss: 676.8157 - val_loss: 714.7928\n",
      "Epoch 125/500\n",
      "19/19 [==============================] - 0s 4ms/step - loss: 661.2029 - val_loss: 707.0718\n",
      "Epoch 126/500\n",
      "19/19 [==============================] - 0s 4ms/step - loss: 645.8616 - val_loss: 699.5607\n",
      "Epoch 127/500\n",
      "19/19 [==============================] - 0s 8ms/step - loss: 630.7888 - val_loss: 692.2563\n",
      "Epoch 128/500\n",
      "19/19 [==============================] - 0s 4ms/step - loss: 615.9816 - val_loss: 685.1568\n",
      "Epoch 129/500\n",
      "19/19 [==============================] - 0s 4ms/step - loss: 601.4372 - val_loss: 678.2587\n",
      "Epoch 130/500\n",
      "19/19 [==============================] - 0s 3ms/step - loss: 587.1528 - val_loss: 671.5598\n",
      "Epoch 131/500\n",
      "19/19 [==============================] - 0s 4ms/step - loss: 573.1260 - val_loss: 665.0577\n",
      "Epoch 132/500\n",
      "19/19 [==============================] - 0s 4ms/step - loss: 559.3539 - val_loss: 658.7495\n",
      "Epoch 133/500\n",
      "19/19 [==============================] - 0s 4ms/step - loss: 545.8334 - val_loss: 652.6324\n",
      "Epoch 134/500\n",
      "19/19 [==============================] - 0s 4ms/step - loss: 532.5619 - val_loss: 646.7042\n",
      "Epoch 135/500\n",
      "19/19 [==============================] - 0s 4ms/step - loss: 519.5367 - val_loss: 640.9619\n",
      "Epoch 136/500\n",
      "19/19 [==============================] - 0s 4ms/step - loss: 506.7549 - val_loss: 635.4026\n",
      "Epoch 137/500\n",
      "19/19 [==============================] - 0s 4ms/step - loss: 494.2140 - val_loss: 630.0245\n",
      "Epoch 138/500\n",
      "19/19 [==============================] - 0s 4ms/step - loss: 481.9112 - val_loss: 624.8243\n",
      "Epoch 139/500\n",
      "19/19 [==============================] - 0s 4ms/step - loss: 469.8439 - val_loss: 619.8001\n",
      "Epoch 140/500\n",
      "19/19 [==============================] - 0s 4ms/step - loss: 458.0094 - val_loss: 614.9485\n",
      "Epoch 141/500\n",
      "19/19 [==============================] - 0s 4ms/step - loss: 446.4045 - val_loss: 610.2676\n",
      "Epoch 142/500\n",
      "19/19 [==============================] - 0s 4ms/step - loss: 435.0269 - val_loss: 605.7543\n",
      "Epoch 143/500\n",
      "19/19 [==============================] - 0s 4ms/step - loss: 423.8738 - val_loss: 601.4061\n",
      "Epoch 144/500\n",
      "19/19 [==============================] - 0s 4ms/step - loss: 412.9424 - val_loss: 597.2207\n",
      "Epoch 145/500\n",
      "19/19 [==============================] - 0s 4ms/step - loss: 402.2301 - val_loss: 593.1953\n",
      "Epoch 146/500\n",
      "19/19 [==============================] - 0s 4ms/step - loss: 391.7343 - val_loss: 589.3275\n",
      "Epoch 147/500\n",
      "19/19 [==============================] - 0s 4ms/step - loss: 381.4525 - val_loss: 585.6146\n",
      "Epoch 148/500\n",
      "19/19 [==============================] - 0s 4ms/step - loss: 371.3817 - val_loss: 582.0540\n",
      "Epoch 149/500\n",
      "19/19 [==============================] - 0s 4ms/step - loss: 361.5192 - val_loss: 578.6432\n",
      "Epoch 150/500\n",
      "19/19 [==============================] - 0s 4ms/step - loss: 351.8624 - val_loss: 575.3799\n",
      "Epoch 151/500\n",
      "19/19 [==============================] - 0s 4ms/step - loss: 342.4089 - val_loss: 572.2612\n",
      "Epoch 152/500\n",
      "19/19 [==============================] - 0s 4ms/step - loss: 333.1557 - val_loss: 569.2847\n",
      "Epoch 153/500\n",
      "19/19 [==============================] - 0s 3ms/step - loss: 324.1004 - val_loss: 566.4479\n",
      "Epoch 154/500\n",
      "19/19 [==============================] - 0s 4ms/step - loss: 315.2404 - val_loss: 563.7485\n",
      "Epoch 155/500\n",
      "19/19 [==============================] - 0s 4ms/step - loss: 306.5734 - val_loss: 561.1836\n",
      "Epoch 156/500\n",
      "19/19 [==============================] - 0s 4ms/step - loss: 298.0963 - val_loss: 558.7510\n",
      "Epoch 157/500\n",
      "19/19 [==============================] - 0s 4ms/step - loss: 289.8066 - val_loss: 556.4480\n",
      "Epoch 158/500\n",
      "19/19 [==============================] - 0s 4ms/step - loss: 281.7016 - val_loss: 554.2722\n",
      "Epoch 159/500\n",
      "19/19 [==============================] - 0s 4ms/step - loss: 273.7788 - val_loss: 552.2213\n",
      "Epoch 160/500\n",
      "19/19 [==============================] - 0s 10ms/step - loss: 266.0358 - val_loss: 550.2925\n",
      "Epoch 161/500\n",
      "19/19 [==============================] - 0s 4ms/step - loss: 258.4702 - val_loss: 548.4835\n",
      "Epoch 162/500\n",
      "19/19 [==============================] - 0s 4ms/step - loss: 251.0791 - val_loss: 546.7918\n",
      "Epoch 163/500\n",
      "19/19 [==============================] - 0s 4ms/step - loss: 243.8595 - val_loss: 545.2150\n",
      "Epoch 164/500\n",
      "19/19 [==============================] - 0s 4ms/step - loss: 236.8093 - val_loss: 543.7505\n",
      "Epoch 165/500\n",
      "19/19 [==============================] - 0s 4ms/step - loss: 229.9262 - val_loss: 542.3964\n",
      "Epoch 166/500\n",
      "19/19 [==============================] - 0s 3ms/step - loss: 223.2074 - val_loss: 541.1496\n",
      "Epoch 167/500\n",
      "19/19 [==============================] - 0s 4ms/step - loss: 216.6507 - val_loss: 540.0080\n",
      "Epoch 168/500\n",
      "19/19 [==============================] - 0s 6ms/step - loss: 210.2531 - val_loss: 538.9692\n",
      "Epoch 169/500\n",
      "19/19 [==============================] - 0s 5ms/step - loss: 204.0125 - val_loss: 538.0309\n",
      "Epoch 170/500\n",
      "19/19 [==============================] - 0s 5ms/step - loss: 197.9262 - val_loss: 537.1905\n",
      "Epoch 171/500\n",
      "19/19 [==============================] - 0s 5ms/step - loss: 191.9918 - val_loss: 536.4460\n",
      "Epoch 172/500\n",
      "19/19 [==============================] - 0s 5ms/step - loss: 186.2066 - val_loss: 535.7947\n",
      "Epoch 173/500\n",
      "19/19 [==============================] - 0s 4ms/step - loss: 180.5685 - val_loss: 535.2343\n",
      "Epoch 174/500\n",
      "19/19 [==============================] - 0s 4ms/step - loss: 175.0750 - val_loss: 534.7626\n",
      "Epoch 175/500\n",
      "19/19 [==============================] - 0s 4ms/step - loss: 169.7234 - val_loss: 534.3773\n",
      "Epoch 176/500\n",
      "19/19 [==============================] - 0s 4ms/step - loss: 164.5116 - val_loss: 534.0760\n",
      "Epoch 177/500\n",
      "19/19 [==============================] - 0s 5ms/step - loss: 159.4368 - val_loss: 533.8564\n",
      "Epoch 178/500\n",
      "19/19 [==============================] - 0s 5ms/step - loss: 154.4972 - val_loss: 533.7164\n",
      "Epoch 179/500\n",
      "19/19 [==============================] - 0s 5ms/step - loss: 149.6898 - val_loss: 533.6536\n",
      "Epoch 180/500\n",
      "19/19 [==============================] - 0s 6ms/step - loss: 145.0126 - val_loss: 533.6657\n",
      "Epoch 181/500\n",
      "19/19 [==============================] - 0s 5ms/step - loss: 140.4631 - val_loss: 533.7507\n",
      "Epoch 182/500\n",
      "19/19 [==============================] - 0s 6ms/step - loss: 136.0388 - val_loss: 533.9060\n",
      "Epoch 183/500\n",
      "19/19 [==============================] - 0s 6ms/step - loss: 131.7377 - val_loss: 534.1299\n",
      "Epoch 184/500\n",
      "19/19 [==============================] - 0s 6ms/step - loss: 127.5574 - val_loss: 534.4198\n",
      "Epoch 185/500\n",
      "19/19 [==============================] - 0s 13ms/step - loss: 123.4955 - val_loss: 534.7739\n",
      "Epoch 186/500\n",
      "19/19 [==============================] - 0s 8ms/step - loss: 119.5497 - val_loss: 535.1898\n",
      "Epoch 187/500\n",
      "19/19 [==============================] - 0s 7ms/step - loss: 115.7179 - val_loss: 535.6654\n",
      "Epoch 188/500\n",
      "19/19 [==============================] - 0s 7ms/step - loss: 111.9978 - val_loss: 536.1987\n",
      "Epoch 189/500\n",
      "19/19 [==============================] - 0s 7ms/step - loss: 108.3872 - val_loss: 536.7875\n",
      "Epoch 190/500\n",
      "19/19 [==============================] - 0s 7ms/step - loss: 104.8837 - val_loss: 537.4299\n",
      "Epoch 191/500\n",
      "19/19 [==============================] - 0s 6ms/step - loss: 101.4851 - val_loss: 538.1237\n",
      "Epoch 192/500\n",
      "19/19 [==============================] - 0s 7ms/step - loss: 98.1893 - val_loss: 538.8668\n",
      "Epoch 193/500\n",
      "19/19 [==============================] - 0s 7ms/step - loss: 94.9942 - val_loss: 539.6574\n",
      "Epoch 194/500\n",
      "19/19 [==============================] - 0s 7ms/step - loss: 91.8974 - val_loss: 540.4935\n",
      "Epoch 195/500\n",
      "19/19 [==============================] - 0s 8ms/step - loss: 88.8970 - val_loss: 541.3732\n",
      "Epoch 196/500\n",
      "19/19 [==============================] - 0s 7ms/step - loss: 85.9909 - val_loss: 542.2944\n",
      "Epoch 197/500\n",
      "19/19 [==============================] - 0s 7ms/step - loss: 83.1769 - val_loss: 543.2552\n",
      "Epoch 198/500\n",
      "19/19 [==============================] - 0s 7ms/step - loss: 80.4529 - val_loss: 544.2537\n",
      "Epoch 199/500\n",
      "19/19 [==============================] - 0s 7ms/step - loss: 77.8172 - val_loss: 545.2880\n",
      "Epoch 200/500\n",
      "19/19 [==============================] - 0s 7ms/step - loss: 75.2673 - val_loss: 546.3566\n",
      "Epoch 201/500\n",
      "19/19 [==============================] - 0s 6ms/step - loss: 72.8013 - val_loss: 547.4574\n",
      "Epoch 202/500\n",
      "19/19 [==============================] - 0s 6ms/step - loss: 70.4173 - val_loss: 548.5888\n",
      "Epoch 203/500\n",
      "19/19 [==============================] - 0s 6ms/step - loss: 68.1132 - val_loss: 549.7486\n",
      "Epoch 204/500\n",
      "19/19 [==============================] - 0s 6ms/step - loss: 65.8875 - val_loss: 550.9354\n",
      "Epoch 205/500\n",
      "19/19 [==============================] - 0s 6ms/step - loss: 63.7377 - val_loss: 552.1477\n",
      "Epoch 206/500\n",
      "19/19 [==============================] - 0s 6ms/step - loss: 61.6622 - val_loss: 553.3834\n",
      "Epoch 207/500\n",
      "19/19 [==============================] - 0s 6ms/step - loss: 59.6591 - val_loss: 554.6412\n",
      "Epoch 208/500\n",
      "19/19 [==============================] - 0s 10ms/step - loss: 57.7265 - val_loss: 555.9189\n",
      "Epoch 209/500\n",
      "19/19 [==============================] - 0s 8ms/step - loss: 55.8625 - val_loss: 557.2158\n",
      "Epoch 210/500\n",
      "19/19 [==============================] - 0s 7ms/step - loss: 54.0654 - val_loss: 558.5295\n",
      "Epoch 211/500\n",
      "19/19 [==============================] - 0s 6ms/step - loss: 52.3335 - val_loss: 559.8591\n",
      "Epoch 212/500\n",
      "19/19 [==============================] - 0s 7ms/step - loss: 50.6647 - val_loss: 561.2029\n",
      "Epoch 213/500\n",
      "19/19 [==============================] - 0s 6ms/step - loss: 49.0575 - val_loss: 562.5590\n",
      "Epoch 214/500\n",
      "19/19 [==============================] - 0s 6ms/step - loss: 47.5104 - val_loss: 563.9265\n",
      "Epoch 215/500\n",
      "19/19 [==============================] - 0s 6ms/step - loss: 46.0215 - val_loss: 565.3038\n",
      "Epoch 216/500\n",
      "19/19 [==============================] - 0s 6ms/step - loss: 44.5890 - val_loss: 566.6895\n",
      "Epoch 217/500\n",
      "19/19 [==============================] - 0s 6ms/step - loss: 43.2115 - val_loss: 568.0822\n",
      "Epoch 218/500\n",
      "19/19 [==============================] - 0s 6ms/step - loss: 41.8873 - val_loss: 569.4810\n",
      "Epoch 219/500\n",
      "19/19 [==============================] - 0s 6ms/step - loss: 40.6148 - val_loss: 570.8839\n",
      "Epoch 220/500\n",
      "19/19 [==============================] - 0s 6ms/step - loss: 39.3926 - val_loss: 572.2900\n",
      "Epoch 221/500\n",
      "19/19 [==============================] - 0s 7ms/step - loss: 38.2189 - val_loss: 573.6983\n",
      "Epoch 222/500\n",
      "19/19 [==============================] - 0s 6ms/step - loss: 37.0924 - val_loss: 575.1074\n",
      "Epoch 223/500\n",
      "19/19 [==============================] - 0s 6ms/step - loss: 36.0118 - val_loss: 576.5162\n",
      "Epoch 224/500\n",
      "19/19 [==============================] - 0s 5ms/step - loss: 34.9752 - val_loss: 577.9236\n",
      "Epoch 225/500\n",
      "19/19 [==============================] - 0s 5ms/step - loss: 33.9815 - val_loss: 579.3284\n",
      "Epoch 226/500\n",
      "19/19 [==============================] - 0s 4ms/step - loss: 33.0294 - val_loss: 580.7296\n",
      "Epoch 227/500\n",
      "19/19 [==============================] - 0s 4ms/step - loss: 32.1173 - val_loss: 582.1262\n",
      "Epoch 228/500\n",
      "19/19 [==============================] - 0s 5ms/step - loss: 31.2440 - val_loss: 583.5171\n",
      "Epoch 229/500\n",
      "19/19 [==============================] - 0s 5ms/step - loss: 30.4081 - val_loss: 584.9019\n",
      "Epoch 230/500\n",
      "19/19 [==============================] - 0s 4ms/step - loss: 29.6083 - val_loss: 586.2790\n",
      "Epoch 231/500\n",
      "19/19 [==============================] - 0s 5ms/step - loss: 28.8436 - val_loss: 587.6479\n",
      "Epoch 232/500\n",
      "19/19 [==============================] - 0s 5ms/step - loss: 28.1125 - val_loss: 589.0076\n",
      "Epoch 233/500\n",
      "19/19 [==============================] - 0s 9ms/step - loss: 27.4139 - val_loss: 590.3574\n",
      "Epoch 234/500\n",
      "19/19 [==============================] - 0s 5ms/step - loss: 26.7467 - val_loss: 591.6965\n",
      "Epoch 235/500\n",
      "19/19 [==============================] - 0s 7ms/step - loss: 26.1096 - val_loss: 593.0243\n",
      "Epoch 236/500\n",
      "19/19 [==============================] - 0s 6ms/step - loss: 25.5017 - val_loss: 594.3397\n",
      "Epoch 237/500\n",
      "19/19 [==============================] - 0s 6ms/step - loss: 24.9217 - val_loss: 595.6422\n",
      "Epoch 238/500\n",
      "19/19 [==============================] - 0s 6ms/step - loss: 24.3688 - val_loss: 596.9313\n",
      "Epoch 239/500\n",
      "19/19 [==============================] - 0s 5ms/step - loss: 23.8418 - val_loss: 598.2065\n",
      "Epoch 240/500\n",
      "19/19 [==============================] - 0s 5ms/step - loss: 23.3396 - val_loss: 599.4669\n",
      "Epoch 241/500\n",
      "19/19 [==============================] - 0s 5ms/step - loss: 22.8615 - val_loss: 600.7122\n",
      "Epoch 242/500\n",
      "19/19 [==============================] - 0s 4ms/step - loss: 22.4063 - val_loss: 601.9414\n",
      "Epoch 243/500\n",
      "19/19 [==============================] - 0s 5ms/step - loss: 21.9733 - val_loss: 603.1545\n",
      "Epoch 244/500\n",
      "19/19 [==============================] - 0s 4ms/step - loss: 21.5615 - val_loss: 604.3509\n",
      "Epoch 245/500\n",
      "19/19 [==============================] - 0s 5ms/step - loss: 21.1700 - val_loss: 605.5300\n",
      "Epoch 246/500\n",
      "19/19 [==============================] - 0s 4ms/step - loss: 20.7981 - val_loss: 606.6917\n",
      "Epoch 247/500\n",
      "19/19 [==============================] - 0s 6ms/step - loss: 20.4447 - val_loss: 607.8357\n",
      "Epoch 248/500\n",
      "19/19 [==============================] - 0s 5ms/step - loss: 20.1093 - val_loss: 608.9613\n",
      "Epoch 249/500\n",
      "19/19 [==============================] - 0s 8ms/step - loss: 19.7909 - val_loss: 610.0688\n",
      "Epoch 250/500\n",
      "19/19 [==============================] - 0s 6ms/step - loss: 19.4889 - val_loss: 611.1573\n",
      "Epoch 251/500\n",
      "19/19 [==============================] - 0s 6ms/step - loss: 19.2026 - val_loss: 612.2270\n",
      "Epoch 252/500\n",
      "19/19 [==============================] - 0s 8ms/step - loss: 18.9311 - val_loss: 613.2773\n",
      "Epoch 253/500\n",
      "19/19 [==============================] - 0s 7ms/step - loss: 18.6740 - val_loss: 614.3083\n",
      "Epoch 254/500\n",
      "19/19 [==============================] - 0s 7ms/step - loss: 18.4305 - val_loss: 615.3194\n",
      "Epoch 255/500\n",
      "19/19 [==============================] - 0s 12ms/step - loss: 18.2001 - val_loss: 616.3109\n",
      "Epoch 256/500\n",
      "19/19 [==============================] - 0s 6ms/step - loss: 17.9820 - val_loss: 617.2831\n",
      "Epoch 257/500\n",
      "19/19 [==============================] - 0s 5ms/step - loss: 17.7757 - val_loss: 618.2346\n",
      "Epoch 258/500\n",
      "19/19 [==============================] - 0s 5ms/step - loss: 17.5808 - val_loss: 619.1667\n",
      "Epoch 259/500\n",
      "19/19 [==============================] - 0s 4ms/step - loss: 17.3965 - val_loss: 620.0785\n",
      "Epoch 260/500\n",
      "19/19 [==============================] - 0s 5ms/step - loss: 17.2224 - val_loss: 620.9703\n",
      "Epoch 261/500\n",
      "19/19 [==============================] - 0s 6ms/step - loss: 17.0581 - val_loss: 621.8423\n",
      "Epoch 262/500\n",
      "19/19 [==============================] - 0s 5ms/step - loss: 16.9028 - val_loss: 622.6942\n",
      "Epoch 263/500\n",
      "19/19 [==============================] - 0s 5ms/step - loss: 16.7564 - val_loss: 623.5261\n",
      "Epoch 264/500\n",
      "19/19 [==============================] - 0s 4ms/step - loss: 16.6184 - val_loss: 624.3382\n",
      "Epoch 265/500\n",
      "19/19 [==============================] - 0s 4ms/step - loss: 16.4882 - val_loss: 625.1305\n",
      "Epoch 266/500\n",
      "19/19 [==============================] - 0s 5ms/step - loss: 16.3655 - val_loss: 625.9029\n",
      "Epoch 267/500\n",
      "19/19 [==============================] - 0s 5ms/step - loss: 16.2499 - val_loss: 626.6556\n",
      "Epoch 268/500\n",
      "19/19 [==============================] - 0s 5ms/step - loss: 16.1411 - val_loss: 627.3890\n",
      "Epoch 269/500\n",
      "19/19 [==============================] - 0s 5ms/step - loss: 16.0386 - val_loss: 628.1034\n",
      "Epoch 270/500\n",
      "19/19 [==============================] - 0s 5ms/step - loss: 15.9421 - val_loss: 628.7983\n",
      "Epoch 271/500\n",
      "19/19 [==============================] - 0s 4ms/step - loss: 15.8514 - val_loss: 629.4739\n",
      "Epoch 272/500\n",
      "19/19 [==============================] - 0s 5ms/step - loss: 15.7661 - val_loss: 630.1315\n",
      "Epoch 273/500\n",
      "19/19 [==============================] - 0s 4ms/step - loss: 15.6857 - val_loss: 630.7701\n",
      "Epoch 274/500\n",
      "19/19 [==============================] - 0s 5ms/step - loss: 15.6103 - val_loss: 631.3903\n",
      "Epoch 275/500\n",
      "19/19 [==============================] - 0s 4ms/step - loss: 15.5395 - val_loss: 631.9929\n",
      "Epoch 276/500\n",
      "19/19 [==============================] - 0s 4ms/step - loss: 15.4729 - val_loss: 632.5768\n",
      "Epoch 277/500\n",
      "19/19 [==============================] - 0s 4ms/step - loss: 15.4104 - val_loss: 633.1439\n",
      "Epoch 278/500\n",
      "19/19 [==============================] - 0s 4ms/step - loss: 15.3517 - val_loss: 633.6932\n",
      "Epoch 279/500\n",
      "19/19 [==============================] - 0s 4ms/step - loss: 15.2965 - val_loss: 634.2255\n",
      "Epoch 280/500\n",
      "19/19 [==============================] - 0s 5ms/step - loss: 15.2449 - val_loss: 634.7411\n",
      "Epoch 281/500\n",
      "19/19 [==============================] - 0s 6ms/step - loss: 15.1963 - val_loss: 635.2402\n",
      "Epoch 282/500\n",
      "19/19 [==============================] - 0s 5ms/step - loss: 15.1508 - val_loss: 635.7231\n",
      "Epoch 283/500\n",
      "19/19 [==============================] - 0s 4ms/step - loss: 15.1081 - val_loss: 636.1899\n",
      "Epoch 284/500\n",
      "19/19 [==============================] - 0s 4ms/step - loss: 15.0682 - val_loss: 636.6413\n",
      "Epoch 285/500\n",
      "19/19 [==============================] - 0s 7ms/step - loss: 15.0307 - val_loss: 637.0770\n",
      "Epoch 286/500\n",
      "19/19 [==============================] - 0s 6ms/step - loss: 14.9955 - val_loss: 637.4980\n",
      "Epoch 287/500\n",
      "19/19 [==============================] - 0s 4ms/step - loss: 14.9626 - val_loss: 637.9041\n",
      "Epoch 288/500\n",
      "19/19 [==============================] - 0s 4ms/step - loss: 14.9317 - val_loss: 638.2962\n",
      "Epoch 289/500\n",
      "19/19 [==============================] - 0s 5ms/step - loss: 14.9029 - val_loss: 638.6739\n",
      "Epoch 290/500\n",
      "19/19 [==============================] - 0s 5ms/step - loss: 14.8758 - val_loss: 639.0380\n",
      "Epoch 291/500\n",
      "19/19 [==============================] - 0s 4ms/step - loss: 14.8504 - val_loss: 639.3885\n",
      "Epoch 292/500\n",
      "19/19 [==============================] - 0s 4ms/step - loss: 14.8267 - val_loss: 639.7262\n",
      "Epoch 293/500\n",
      "19/19 [==============================] - 0s 5ms/step - loss: 14.8045 - val_loss: 640.0514\n",
      "Epoch 294/500\n",
      "19/19 [==============================] - 0s 4ms/step - loss: 14.7837 - val_loss: 640.3639\n",
      "Epoch 295/500\n",
      "19/19 [==============================] - 0s 4ms/step - loss: 14.7642 - val_loss: 640.6643\n",
      "Epoch 296/500\n",
      "19/19 [==============================] - 0s 5ms/step - loss: 14.7459 - val_loss: 640.9531\n",
      "Epoch 297/500\n",
      "19/19 [==============================] - 0s 4ms/step - loss: 14.7289 - val_loss: 641.2300\n",
      "Epoch 298/500\n",
      "19/19 [==============================] - 0s 5ms/step - loss: 14.7129 - val_loss: 641.4959\n",
      "Epoch 299/500\n",
      "19/19 [==============================] - 0s 4ms/step - loss: 14.6980 - val_loss: 641.7511\n",
      "Epoch 300/500\n",
      "19/19 [==============================] - 0s 4ms/step - loss: 14.6840 - val_loss: 641.9961\n",
      "Epoch 301/500\n",
      "19/19 [==============================] - 0s 4ms/step - loss: 14.6709 - val_loss: 642.2303\n",
      "Epoch 302/500\n",
      "19/19 [==============================] - 0s 4ms/step - loss: 14.6587 - val_loss: 642.4553\n",
      "Epoch 303/500\n",
      "19/19 [==============================] - 0s 5ms/step - loss: 14.6472 - val_loss: 642.6703\n",
      "Epoch 304/500\n",
      "19/19 [==============================] - 0s 5ms/step - loss: 14.6365 - val_loss: 642.8762\n",
      "Epoch 305/500\n",
      "19/19 [==============================] - 0s 5ms/step - loss: 14.6265 - val_loss: 643.0726\n",
      "Epoch 306/500\n",
      "19/19 [==============================] - 0s 3ms/step - loss: 14.6172 - val_loss: 643.2608\n",
      "Epoch 307/500\n",
      "19/19 [==============================] - 0s 4ms/step - loss: 14.6085 - val_loss: 643.4407\n",
      "Epoch 308/500\n",
      "19/19 [==============================] - 0s 5ms/step - loss: 14.6003 - val_loss: 643.6122\n",
      "Epoch 309/500\n",
      "19/19 [==============================] - 0s 5ms/step - loss: 14.5927 - val_loss: 643.7763\n",
      "Epoch 310/500\n",
      "19/19 [==============================] - 0s 5ms/step - loss: 14.5855 - val_loss: 643.9320\n",
      "Epoch 311/500\n",
      "19/19 [==============================] - 0s 5ms/step - loss: 14.5788 - val_loss: 644.0811\n",
      "Epoch 312/500\n",
      "19/19 [==============================] - 0s 8ms/step - loss: 14.5726 - val_loss: 644.2231\n",
      "Epoch 313/500\n",
      "19/19 [==============================] - 0s 5ms/step - loss: 14.5668 - val_loss: 644.3586\n",
      "Epoch 314/500\n",
      "19/19 [==============================] - 0s 5ms/step - loss: 14.5613 - val_loss: 644.4873\n",
      "Epoch 315/500\n",
      "19/19 [==============================] - 0s 5ms/step - loss: 14.5563 - val_loss: 644.6094\n",
      "Epoch 316/500\n",
      "19/19 [==============================] - 0s 5ms/step - loss: 14.5515 - val_loss: 644.7258\n",
      "Epoch 317/500\n",
      "19/19 [==============================] - 0s 5ms/step - loss: 14.5471 - val_loss: 644.8364\n",
      "Epoch 318/500\n",
      "19/19 [==============================] - 0s 4ms/step - loss: 14.5430 - val_loss: 644.9412\n",
      "Epoch 319/500\n",
      "19/19 [==============================] - 0s 5ms/step - loss: 14.5392 - val_loss: 645.0411\n",
      "Epoch 320/500\n",
      "19/19 [==============================] - 0s 5ms/step - loss: 14.5356 - val_loss: 645.1358\n",
      "Epoch 321/500\n",
      "19/19 [==============================] - 0s 5ms/step - loss: 14.5323 - val_loss: 645.2254\n",
      "Epoch 322/500\n",
      "19/19 [==============================] - 0s 5ms/step - loss: 14.5292 - val_loss: 645.3100\n",
      "Epoch 323/500\n",
      "19/19 [==============================] - 0s 5ms/step - loss: 14.5264 - val_loss: 645.3910\n",
      "Epoch 324/500\n",
      "19/19 [==============================] - 0s 5ms/step - loss: 14.5237 - val_loss: 645.4672\n",
      "Epoch 325/500\n",
      "19/19 [==============================] - 0s 5ms/step - loss: 14.5212 - val_loss: 645.5390\n",
      "Epoch 326/500\n",
      "19/19 [==============================] - 0s 5ms/step - loss: 14.5189 - val_loss: 645.6072\n",
      "Epoch 327/500\n",
      "19/19 [==============================] - 0s 5ms/step - loss: 14.5168 - val_loss: 645.6714\n",
      "Epoch 328/500\n",
      "19/19 [==============================] - 0s 4ms/step - loss: 14.5149 - val_loss: 645.7323\n",
      "Epoch 329/500\n",
      "19/19 [==============================] - 0s 5ms/step - loss: 14.5130 - val_loss: 645.7897\n",
      "Epoch 330/500\n",
      "19/19 [==============================] - 0s 5ms/step - loss: 14.5114 - val_loss: 645.8438\n",
      "Epoch 331/500\n",
      "19/19 [==============================] - 0s 5ms/step - loss: 14.5099 - val_loss: 645.8950\n",
      "Epoch 332/500\n",
      "19/19 [==============================] - 0s 5ms/step - loss: 14.5085 - val_loss: 645.9431\n",
      "Epoch 333/500\n",
      "19/19 [==============================] - 0s 5ms/step - loss: 14.5071 - val_loss: 645.9886\n",
      "Epoch 334/500\n",
      "19/19 [==============================] - 0s 4ms/step - loss: 14.5059 - val_loss: 646.0311\n",
      "Epoch 335/500\n",
      "19/19 [==============================] - 0s 4ms/step - loss: 14.5049 - val_loss: 646.0712\n",
      "Epoch 336/500\n",
      "19/19 [==============================] - 0s 4ms/step - loss: 14.5038 - val_loss: 646.1085\n",
      "Epoch 337/500\n",
      "19/19 [==============================] - 0s 9ms/step - loss: 14.5030 - val_loss: 646.1437\n",
      "Epoch 338/500\n",
      "19/19 [==============================] - 0s 5ms/step - loss: 14.5022 - val_loss: 646.1769\n",
      "Epoch 339/500\n",
      "19/19 [==============================] - 0s 5ms/step - loss: 14.5015 - val_loss: 646.2079\n",
      "Epoch 340/500\n",
      "19/19 [==============================] - 0s 5ms/step - loss: 14.5008 - val_loss: 646.2370\n",
      "Epoch 341/500\n",
      "19/19 [==============================] - 0s 4ms/step - loss: 14.5002 - val_loss: 646.2642\n",
      "Epoch 342/500\n",
      "19/19 [==============================] - 0s 5ms/step - loss: 14.4997 - val_loss: 646.2896\n",
      "Epoch 343/500\n",
      "19/19 [==============================] - 0s 5ms/step - loss: 14.4993 - val_loss: 646.3132\n",
      "Epoch 344/500\n",
      "19/19 [==============================] - 0s 5ms/step - loss: 14.4990 - val_loss: 646.3357\n",
      "Epoch 345/500\n",
      "19/19 [==============================] - 0s 5ms/step - loss: 14.4986 - val_loss: 646.3564\n",
      "Epoch 346/500\n",
      "19/19 [==============================] - 0s 5ms/step - loss: 14.4983 - val_loss: 646.3757\n",
      "Epoch 347/500\n",
      "19/19 [==============================] - 0s 5ms/step - loss: 14.4981 - val_loss: 646.3940\n",
      "Epoch 348/500\n",
      "19/19 [==============================] - 0s 4ms/step - loss: 14.4979 - val_loss: 646.4105\n",
      "Epoch 349/500\n",
      "19/19 [==============================] - 0s 4ms/step - loss: 14.4978 - val_loss: 646.4260\n",
      "Epoch 350/500\n",
      "19/19 [==============================] - 0s 4ms/step - loss: 14.4977 - val_loss: 646.4401\n",
      "Epoch 351/500\n",
      "19/19 [==============================] - 0s 4ms/step - loss: 14.4977 - val_loss: 646.4532\n",
      "Epoch 352/500\n",
      "19/19 [==============================] - 0s 4ms/step - loss: 14.4976 - val_loss: 646.4656\n",
      "Epoch 353/500\n",
      "19/19 [==============================] - 0s 4ms/step - loss: 14.4977 - val_loss: 646.4771\n",
      "Epoch 354/500\n",
      "19/19 [==============================] - 0s 5ms/step - loss: 14.4977 - val_loss: 646.4877\n",
      "Epoch 355/500\n",
      "19/19 [==============================] - 0s 4ms/step - loss: 14.4978 - val_loss: 646.4979\n",
      "Epoch 356/500\n",
      "19/19 [==============================] - 0s 4ms/step - loss: 14.4979 - val_loss: 646.5070\n",
      "Epoch 357/500\n",
      "19/19 [==============================] - 0s 5ms/step - loss: 14.4980 - val_loss: 646.5152\n",
      "Epoch 358/500\n",
      "19/19 [==============================] - 0s 5ms/step - loss: 14.4982 - val_loss: 646.5229\n",
      "Epoch 359/500\n",
      "19/19 [==============================] - 0s 5ms/step - loss: 14.4983 - val_loss: 646.5298\n",
      "Epoch 360/500\n",
      "19/19 [==============================] - 0s 5ms/step - loss: 14.4986 - val_loss: 646.5369\n",
      "Epoch 361/500\n",
      "19/19 [==============================] - 0s 4ms/step - loss: 14.4988 - val_loss: 646.5427\n",
      "Epoch 362/500\n",
      "19/19 [==============================] - 0s 4ms/step - loss: 14.4990 - val_loss: 646.5483\n",
      "Epoch 363/500\n",
      "19/19 [==============================] - 0s 6ms/step - loss: 14.4993 - val_loss: 646.5532\n",
      "Epoch 364/500\n",
      "19/19 [==============================] - 0s 5ms/step - loss: 14.4995 - val_loss: 646.5573\n",
      "Epoch 365/500\n",
      "19/19 [==============================] - 0s 5ms/step - loss: 14.4999 - val_loss: 646.5615\n",
      "Epoch 366/500\n",
      "19/19 [==============================] - 0s 5ms/step - loss: 14.5001 - val_loss: 646.5656\n",
      "Epoch 367/500\n",
      "19/19 [==============================] - 0s 4ms/step - loss: 14.5004 - val_loss: 646.5691\n",
      "Epoch 368/500\n",
      "19/19 [==============================] - 0s 5ms/step - loss: 14.5007 - val_loss: 646.5720\n",
      "Epoch 369/500\n",
      "19/19 [==============================] - 0s 4ms/step - loss: 14.5011 - val_loss: 646.5746\n",
      "Epoch 370/500\n",
      "19/19 [==============================] - 0s 5ms/step - loss: 14.5014 - val_loss: 646.5770\n",
      "Epoch 371/500\n",
      "19/19 [==============================] - 0s 4ms/step - loss: 14.5018 - val_loss: 646.5794\n",
      "Epoch 372/500\n",
      "19/19 [==============================] - 0s 5ms/step - loss: 14.5021 - val_loss: 646.5808\n",
      "Epoch 373/500\n",
      "19/19 [==============================] - 0s 5ms/step - loss: 14.5025 - val_loss: 646.5821\n",
      "Epoch 374/500\n",
      "19/19 [==============================] - 0s 4ms/step - loss: 14.5029 - val_loss: 646.5832\n",
      "Epoch 375/500\n",
      "19/19 [==============================] - 0s 5ms/step - loss: 14.5033 - val_loss: 646.5845\n",
      "Epoch 376/500\n",
      "19/19 [==============================] - 0s 5ms/step - loss: 14.5036 - val_loss: 646.5853\n",
      "Epoch 377/500\n",
      "19/19 [==============================] - 0s 6ms/step - loss: 14.5041 - val_loss: 646.5861\n",
      "Epoch 378/500\n",
      "19/19 [==============================] - 0s 5ms/step - loss: 14.5045 - val_loss: 646.5869\n",
      "Epoch 379/500\n",
      "19/19 [==============================] - 0s 5ms/step - loss: 14.5048 - val_loss: 646.5875\n",
      "Epoch 380/500\n",
      "19/19 [==============================] - 0s 5ms/step - loss: 14.5053 - val_loss: 646.5880\n",
      "Epoch 381/500\n",
      "19/19 [==============================] - 0s 4ms/step - loss: 14.5056 - val_loss: 646.5880\n",
      "Epoch 382/500\n",
      "19/19 [==============================] - 0s 5ms/step - loss: 14.5061 - val_loss: 646.5880\n",
      "Epoch 383/500\n",
      "19/19 [==============================] - 0s 5ms/step - loss: 14.5065 - val_loss: 646.5880\n",
      "Epoch 384/500\n",
      "19/19 [==============================] - 0s 5ms/step - loss: 14.5069 - val_loss: 646.5878\n",
      "Epoch 385/500\n",
      "19/19 [==============================] - 0s 8ms/step - loss: 14.5073 - val_loss: 646.5878\n",
      "Epoch 386/500\n",
      "19/19 [==============================] - 0s 6ms/step - loss: 14.5077 - val_loss: 646.5875\n",
      "Epoch 387/500\n",
      "19/19 [==============================] - 0s 5ms/step - loss: 14.5081 - val_loss: 646.5872\n",
      "Epoch 388/500\n",
      "19/19 [==============================] - 0s 5ms/step - loss: 14.5085 - val_loss: 646.5868\n",
      "Epoch 389/500\n",
      "19/19 [==============================] - 0s 5ms/step - loss: 14.5090 - val_loss: 646.5864\n",
      "Epoch 390/500\n",
      "19/19 [==============================] - 0s 5ms/step - loss: 14.5094 - val_loss: 646.5857\n",
      "Epoch 391/500\n",
      "19/19 [==============================] - 0s 5ms/step - loss: 14.5098 - val_loss: 646.5853\n",
      "Epoch 392/500\n",
      "19/19 [==============================] - 0s 5ms/step - loss: 14.5103 - val_loss: 646.5851\n",
      "Epoch 393/500\n",
      "19/19 [==============================] - 0s 4ms/step - loss: 14.5106 - val_loss: 646.5842\n",
      "Epoch 394/500\n",
      "19/19 [==============================] - 0s 4ms/step - loss: 14.5110 - val_loss: 646.5835\n",
      "Epoch 395/500\n",
      "19/19 [==============================] - 0s 4ms/step - loss: 14.5115 - val_loss: 646.5829\n",
      "Epoch 396/500\n",
      "19/19 [==============================] - 0s 4ms/step - loss: 14.5119 - val_loss: 646.5823\n",
      "Epoch 397/500\n",
      "19/19 [==============================] - 0s 4ms/step - loss: 14.5123 - val_loss: 646.5814\n",
      "Epoch 398/500\n",
      "19/19 [==============================] - 0s 4ms/step - loss: 14.5127 - val_loss: 646.5804\n",
      "Epoch 399/500\n",
      "19/19 [==============================] - 0s 5ms/step - loss: 14.5131 - val_loss: 646.5797\n",
      "Epoch 400/500\n",
      "19/19 [==============================] - 0s 5ms/step - loss: 14.5135 - val_loss: 646.5789\n",
      "Epoch 401/500\n",
      "19/19 [==============================] - 0s 4ms/step - loss: 14.5140 - val_loss: 646.5778\n",
      "Epoch 402/500\n",
      "19/19 [==============================] - 0s 5ms/step - loss: 14.5144 - val_loss: 646.5770\n",
      "Epoch 403/500\n",
      "19/19 [==============================] - 0s 4ms/step - loss: 14.5147 - val_loss: 646.5762\n",
      "Epoch 404/500\n",
      "19/19 [==============================] - 0s 5ms/step - loss: 14.5152 - val_loss: 646.5753\n",
      "Epoch 405/500\n",
      "19/19 [==============================] - 0s 4ms/step - loss: 14.5156 - val_loss: 646.5742\n",
      "Epoch 406/500\n",
      "19/19 [==============================] - 0s 9ms/step - loss: 14.5159 - val_loss: 646.5735\n",
      "Epoch 407/500\n",
      "19/19 [==============================] - 0s 5ms/step - loss: 14.5164 - val_loss: 646.5726\n",
      "Epoch 408/500\n",
      "19/19 [==============================] - 0s 6ms/step - loss: 14.5167 - val_loss: 646.5718\n",
      "Epoch 409/500\n",
      "19/19 [==============================] - 0s 6ms/step - loss: 14.5171 - val_loss: 646.5710\n",
      "Epoch 410/500\n",
      "19/19 [==============================] - 0s 7ms/step - loss: 14.5175 - val_loss: 646.5697\n",
      "Epoch 411/500\n",
      "19/19 [==============================] - 0s 6ms/step - loss: 14.5179 - val_loss: 646.5690\n",
      "Epoch 412/500\n",
      "19/19 [==============================] - 0s 6ms/step - loss: 14.5183 - val_loss: 646.5682\n",
      "Epoch 413/500\n",
      "19/19 [==============================] - 0s 6ms/step - loss: 14.5187 - val_loss: 646.5672\n",
      "Epoch 414/500\n",
      "19/19 [==============================] - 0s 6ms/step - loss: 14.5191 - val_loss: 646.5664\n",
      "Epoch 415/500\n",
      "19/19 [==============================] - 0s 6ms/step - loss: 14.5194 - val_loss: 646.5657\n",
      "Epoch 416/500\n",
      "19/19 [==============================] - 0s 5ms/step - loss: 14.5198 - val_loss: 646.5646\n",
      "Epoch 417/500\n",
      "19/19 [==============================] - 0s 5ms/step - loss: 14.5201 - val_loss: 646.5636\n",
      "Epoch 418/500\n",
      "19/19 [==============================] - 0s 5ms/step - loss: 14.5205 - val_loss: 646.5627\n",
      "Epoch 419/500\n",
      "19/19 [==============================] - 0s 5ms/step - loss: 14.5209 - val_loss: 646.5618\n",
      "Epoch 420/500\n",
      "19/19 [==============================] - 0s 4ms/step - loss: 14.5212 - val_loss: 646.5607\n",
      "Epoch 421/500\n",
      "19/19 [==============================] - 0s 5ms/step - loss: 14.5216 - val_loss: 646.5604\n",
      "Epoch 422/500\n",
      "19/19 [==============================] - 0s 5ms/step - loss: 14.5219 - val_loss: 646.5588\n",
      "Epoch 423/500\n",
      "19/19 [==============================] - 0s 5ms/step - loss: 14.5223 - val_loss: 646.5579\n",
      "Epoch 424/500\n",
      "19/19 [==============================] - 0s 5ms/step - loss: 14.5226 - val_loss: 646.5569\n",
      "Epoch 425/500\n",
      "19/19 [==============================] - 0s 4ms/step - loss: 14.5230 - val_loss: 646.5560\n",
      "Epoch 426/500\n",
      "19/19 [==============================] - 0s 4ms/step - loss: 14.5233 - val_loss: 646.5550\n",
      "Epoch 427/500\n",
      "19/19 [==============================] - 0s 7ms/step - loss: 14.5237 - val_loss: 646.5541\n",
      "Epoch 428/500\n",
      "19/19 [==============================] - 0s 9ms/step - loss: 14.5240 - val_loss: 646.5532\n",
      "Epoch 429/500\n",
      "19/19 [==============================] - 0s 5ms/step - loss: 14.5244 - val_loss: 646.5524\n",
      "Epoch 430/500\n",
      "19/19 [==============================] - 0s 4ms/step - loss: 14.5247 - val_loss: 646.5514\n",
      "Epoch 431/500\n",
      "19/19 [==============================] - 0s 5ms/step - loss: 14.5250 - val_loss: 646.5507\n",
      "Epoch 432/500\n",
      "19/19 [==============================] - 0s 5ms/step - loss: 14.5254 - val_loss: 646.5503\n",
      "Epoch 433/500\n",
      "19/19 [==============================] - 0s 4ms/step - loss: 14.5256 - val_loss: 646.5496\n",
      "Epoch 434/500\n",
      "19/19 [==============================] - 0s 5ms/step - loss: 14.5259 - val_loss: 646.5484\n",
      "Epoch 435/500\n",
      "19/19 [==============================] - 0s 5ms/step - loss: 14.5263 - val_loss: 646.5474\n",
      "Epoch 436/500\n",
      "19/19 [==============================] - 0s 4ms/step - loss: 14.5266 - val_loss: 646.5468\n",
      "Epoch 437/500\n",
      "19/19 [==============================] - 0s 5ms/step - loss: 14.5269 - val_loss: 646.5456\n",
      "Epoch 438/500\n",
      "19/19 [==============================] - 0s 4ms/step - loss: 14.5272 - val_loss: 646.5450\n",
      "Epoch 439/500\n",
      "19/19 [==============================] - 0s 5ms/step - loss: 14.5275 - val_loss: 646.5444\n",
      "Epoch 440/500\n",
      "19/19 [==============================] - 0s 5ms/step - loss: 14.5278 - val_loss: 646.5435\n",
      "Epoch 441/500\n",
      "19/19 [==============================] - 0s 5ms/step - loss: 14.5281 - val_loss: 646.5426\n",
      "Epoch 442/500\n",
      "19/19 [==============================] - 0s 5ms/step - loss: 14.5284 - val_loss: 646.5419\n",
      "Epoch 443/500\n",
      "19/19 [==============================] - 0s 4ms/step - loss: 14.5287 - val_loss: 646.5411\n",
      "Epoch 444/500\n",
      "19/19 [==============================] - 0s 4ms/step - loss: 14.5290 - val_loss: 646.5403\n",
      "Epoch 445/500\n",
      "19/19 [==============================] - 0s 4ms/step - loss: 14.5292 - val_loss: 646.5397\n",
      "Epoch 446/500\n",
      "19/19 [==============================] - 0s 4ms/step - loss: 14.5295 - val_loss: 646.5392\n",
      "Epoch 447/500\n",
      "19/19 [==============================] - 0s 4ms/step - loss: 14.5298 - val_loss: 646.5385\n",
      "Epoch 448/500\n",
      "19/19 [==============================] - 0s 4ms/step - loss: 14.5300 - val_loss: 646.5377\n",
      "Epoch 449/500\n",
      "19/19 [==============================] - 0s 5ms/step - loss: 14.5303 - val_loss: 646.5367\n",
      "Epoch 450/500\n",
      "19/19 [==============================] - 0s 5ms/step - loss: 14.5306 - val_loss: 646.5363\n",
      "Epoch 451/500\n",
      "19/19 [==============================] - 0s 5ms/step - loss: 14.5308 - val_loss: 646.5356\n",
      "Epoch 452/500\n",
      "19/19 [==============================] - 0s 9ms/step - loss: 14.5311 - val_loss: 646.5348\n",
      "Epoch 453/500\n",
      "19/19 [==============================] - 0s 5ms/step - loss: 14.5314 - val_loss: 646.5342\n",
      "Epoch 454/500\n",
      "19/19 [==============================] - 0s 5ms/step - loss: 14.5316 - val_loss: 646.5339\n",
      "Epoch 455/500\n",
      "19/19 [==============================] - 0s 5ms/step - loss: 14.5318 - val_loss: 646.5331\n",
      "Epoch 456/500\n",
      "19/19 [==============================] - 0s 5ms/step - loss: 14.5320 - val_loss: 646.5321\n",
      "Epoch 457/500\n",
      "19/19 [==============================] - 0s 5ms/step - loss: 14.5323 - val_loss: 646.5312\n",
      "Epoch 458/500\n",
      "19/19 [==============================] - 0s 5ms/step - loss: 14.5326 - val_loss: 646.5306\n",
      "Epoch 459/500\n",
      "19/19 [==============================] - 0s 5ms/step - loss: 14.5328 - val_loss: 646.5301\n",
      "Epoch 460/500\n",
      "19/19 [==============================] - 0s 5ms/step - loss: 14.5330 - val_loss: 646.5294\n",
      "Epoch 461/500\n",
      "19/19 [==============================] - 0s 5ms/step - loss: 14.5333 - val_loss: 646.5291\n",
      "Epoch 462/500\n",
      "19/19 [==============================] - 0s 4ms/step - loss: 14.5335 - val_loss: 646.5289\n",
      "Epoch 463/500\n",
      "19/19 [==============================] - 0s 5ms/step - loss: 14.5337 - val_loss: 646.5283\n",
      "Epoch 464/500\n",
      "19/19 [==============================] - 0s 6ms/step - loss: 14.5339 - val_loss: 646.5278\n",
      "Epoch 465/500\n",
      "19/19 [==============================] - 0s 5ms/step - loss: 14.5341 - val_loss: 646.5269\n",
      "Epoch 466/500\n",
      "19/19 [==============================] - 0s 5ms/step - loss: 14.5343 - val_loss: 646.5261\n",
      "Epoch 467/500\n",
      "19/19 [==============================] - 0s 5ms/step - loss: 14.5346 - val_loss: 646.5259\n",
      "Epoch 468/500\n",
      "19/19 [==============================] - 0s 4ms/step - loss: 14.5348 - val_loss: 646.5255\n",
      "Epoch 469/500\n",
      "19/19 [==============================] - 0s 5ms/step - loss: 14.5350 - val_loss: 646.5248\n",
      "Epoch 470/500\n",
      "19/19 [==============================] - 0s 5ms/step - loss: 14.5351 - val_loss: 646.5239\n",
      "Epoch 471/500\n",
      "19/19 [==============================] - 0s 9ms/step - loss: 14.5354 - val_loss: 646.5235\n",
      "Epoch 472/500\n",
      "19/19 [==============================] - 0s 5ms/step - loss: 14.5356 - val_loss: 646.5233\n",
      "Epoch 473/500\n",
      "19/19 [==============================] - 0s 5ms/step - loss: 14.5358 - val_loss: 646.5228\n",
      "Epoch 474/500\n",
      "19/19 [==============================] - 0s 5ms/step - loss: 14.5360 - val_loss: 646.5223\n",
      "Epoch 475/500\n",
      "19/19 [==============================] - 0s 5ms/step - loss: 14.5362 - val_loss: 646.5217\n",
      "Epoch 476/500\n",
      "19/19 [==============================] - 0s 4ms/step - loss: 14.5364 - val_loss: 646.5215\n",
      "Epoch 477/500\n",
      "19/19 [==============================] - 0s 5ms/step - loss: 14.5365 - val_loss: 646.5207\n",
      "Epoch 478/500\n",
      "19/19 [==============================] - 0s 4ms/step - loss: 14.5367 - val_loss: 646.5204\n",
      "Epoch 479/500\n",
      "19/19 [==============================] - 0s 5ms/step - loss: 14.5369 - val_loss: 646.5201\n",
      "Epoch 480/500\n",
      "19/19 [==============================] - 0s 4ms/step - loss: 14.5370 - val_loss: 646.5195\n",
      "Epoch 481/500\n",
      "19/19 [==============================] - 0s 5ms/step - loss: 14.5372 - val_loss: 646.5189\n",
      "Epoch 482/500\n",
      "19/19 [==============================] - 0s 5ms/step - loss: 14.5374 - val_loss: 646.5183\n",
      "Epoch 483/500\n",
      "19/19 [==============================] - 0s 5ms/step - loss: 14.5376 - val_loss: 646.5181\n",
      "Epoch 484/500\n",
      "19/19 [==============================] - 0s 5ms/step - loss: 14.5377 - val_loss: 646.5173\n",
      "Epoch 485/500\n",
      "19/19 [==============================] - 0s 5ms/step - loss: 14.5379 - val_loss: 646.5170\n",
      "Epoch 486/500\n",
      "19/19 [==============================] - 0s 5ms/step - loss: 14.5381 - val_loss: 646.5164\n",
      "Epoch 487/500\n",
      "19/19 [==============================] - 0s 5ms/step - loss: 14.5382 - val_loss: 646.5161\n",
      "Epoch 488/500\n",
      "19/19 [==============================] - 0s 4ms/step - loss: 14.5383 - val_loss: 646.5157\n",
      "Epoch 489/500\n",
      "19/19 [==============================] - 0s 5ms/step - loss: 14.5385 - val_loss: 646.5152\n",
      "Epoch 490/500\n",
      "19/19 [==============================] - 0s 5ms/step - loss: 14.5387 - val_loss: 646.5149\n",
      "Epoch 491/500\n",
      "19/19 [==============================] - 0s 5ms/step - loss: 14.5388 - val_loss: 646.5146\n",
      "Epoch 492/500\n",
      "19/19 [==============================] - 0s 9ms/step - loss: 14.5390 - val_loss: 646.5143\n",
      "Epoch 493/500\n",
      "19/19 [==============================] - 0s 5ms/step - loss: 14.5391 - val_loss: 646.5140\n",
      "Epoch 494/500\n",
      "19/19 [==============================] - 0s 6ms/step - loss: 14.5392 - val_loss: 646.5138\n",
      "Epoch 495/500\n",
      "19/19 [==============================] - 0s 5ms/step - loss: 14.5394 - val_loss: 646.5133\n",
      "Epoch 496/500\n",
      "19/19 [==============================] - 0s 6ms/step - loss: 14.5395 - val_loss: 646.5129\n",
      "Epoch 497/500\n",
      "19/19 [==============================] - 0s 5ms/step - loss: 14.5397 - val_loss: 646.5128\n",
      "Epoch 498/500\n",
      "19/19 [==============================] - 0s 5ms/step - loss: 14.5398 - val_loss: 646.5125\n",
      "Epoch 499/500\n",
      "19/19 [==============================] - 0s 5ms/step - loss: 14.5399 - val_loss: 646.5117\n",
      "Epoch 500/500\n",
      "19/19 [==============================] - 0s 5ms/step - loss: 14.5400 - val_loss: 646.5113\n"
     ]
    }
   ],
   "source": [
    "C0 = tf.Variable(89.3180, name=\"C0\", trainable=True, dtype=tf.float32)\n",
    "K0 = tf.Variable(-0.0010, name=\"K0\", trainable=True, dtype=tf.float32)\n",
    "K1 = tf.Variable(0.0001, name=\"K1\", trainable=True, dtype=tf.float32)\n",
    "a = tf.Variable(0.0000, name=\"a\", trainable=True, dtype=tf.float32)\n",
    "b = tf.Variable(-0.0204, name=\"b\", trainable=True, dtype=tf.float32)\n",
    "c = tf.Variable(2.2194, name=\"c\", trainable=True, dtype=tf.float32)\n",
    "\n",
    "splitr = 0.8\n",
    "\n",
    "\n",
    "def loss_fn(y_true, y_pred):\n",
    "    squared_difference = tf.square(y_true[:, 0] - y_pred[:, 0])\n",
    "    #squared_difference2 = tf.square(y_true[:, 2]-y_pred[:, 2])\n",
    "    #squared_difference1 = tf.square(y_true[:, 1]-y_pred[:, 1])\n",
    "    epsilon = 1\n",
    "    squared_difference3 = tf.square(\n",
    "        y_pred[:, 1] - (\n",
    "            y_pred[:, 0] * (\n",
    "                K0 - K1 * (\n",
    "                    9 * a * tf.math.log((y_pred[:, 0] + epsilon) / C0) / (K0 - K1 * c)**2 +\n",
    "                    4 * b * tf.math.log((y_pred[:, 0] + epsilon) / C0) / (K0 - K1 * c) + c\n",
    "                )\n",
    "            )\n",
    "        )\n",
    "    )\n",
    "    return tf.reduce_mean(squared_difference, axis=-1) + 0.2*tf.reduce_mean(squared_difference3, axis=-1)\n",
    "model = Sequential()\n",
    "model.add(LSTM(100, input_shape=(trainX.shape[1], trainX.shape[2])))\n",
    "model.add(Dense(60))\n",
    "model.compile(loss=loss_fn, optimizer='adam')\n",
    "history = model.fit(trainX[:int(splitr*trainX.shape[0])], trainy[:int(splitr*trainX.shape[0])], epochs=500, batch_size=64, validation_data=(trainX[int(splitr*trainX.shape[0]):trainX.shape[0]], trainy[int(splitr*trainX.shape[0]):trainX.shape[0]]), shuffle=False)"
   ]
  },
  {
   "cell_type": "code",
   "execution_count": 19,
   "metadata": {
    "colab": {
     "base_uri": "https://localhost:8080/"
    },
    "id": "yJL101rPyuoT",
    "outputId": "239ff2b1-c186-423a-d316-939dfdd7c793"
   },
   "outputs": [
    {
     "name": "stdout",
     "output_type": "stream",
     "text": [
      "1/1 [==============================] - 0s 358ms/step\n"
     ]
    }
   ],
   "source": [
    "forecast_without_mc = forecastX\n",
    "yhat_without_mc = model.predict(forecast_without_mc) # Step Ahead Prediction\n",
    "forecast_without_mc = forecast_without_mc.reshape((forecast_without_mc.shape[0], forecast_without_mc.shape[2])) # Historical Input"
   ]
  },
  {
   "cell_type": "code",
   "execution_count": 20,
   "metadata": {
    "colab": {
     "base_uri": "https://localhost:8080/"
    },
    "id": "g9dQELcJ8wbp",
    "outputId": "4dc7671b-b1a8-48d5-8744-a86f98446109"
   },
   "outputs": [
    {
     "data": {
      "text/plain": [
       "(1, 1, 251)"
      ]
     },
     "execution_count": 20,
     "metadata": {},
     "output_type": "execute_result"
    }
   ],
   "source": [
    "forecastX.shape"
   ]
  },
  {
   "cell_type": "code",
   "execution_count": 21,
   "metadata": {
    "colab": {
     "base_uri": "https://localhost:8080/"
    },
    "id": "IS2kyIKG1Kbr",
    "outputId": "f31b3485-8e26-452f-9298-ea8bf7e80ad1"
   },
   "outputs": [
    {
     "data": {
      "text/plain": [
       "(1, 251)"
      ]
     },
     "execution_count": 21,
     "metadata": {},
     "output_type": "execute_result"
    }
   ],
   "source": [
    "forecast_without_mc.shape"
   ]
  },
  {
   "cell_type": "code",
   "execution_count": 22,
   "metadata": {
    "id": "0u6VIzaDyuoT"
   },
   "outputs": [],
   "source": [
    "inv_yhat_without_mc = np.concatenate((forecast_without_mc, yhat_without_mc), axis=1) # Concatenation of predicted values with Historical Data\n",
    "#inv_yhat_without_mc = scaler.inverse_transform(inv_yhat_without_mc) # Transform labels back to original encoding"
   ]
  },
  {
   "cell_type": "code",
   "execution_count": 23,
   "metadata": {
    "colab": {
     "base_uri": "https://localhost:8080/"
    },
    "id": "EUEcw0LX07oU",
    "outputId": "cfc32397-9c37-4b43-d087-584bb31c3dcc"
   },
   "outputs": [
    {
     "data": {
      "text/plain": [
       "(1, 311)"
      ]
     },
     "execution_count": 23,
     "metadata": {},
     "output_type": "execute_result"
    }
   ],
   "source": [
    "inv_yhat_without_mc.shape"
   ]
  },
  {
   "cell_type": "code",
   "execution_count": 24,
   "metadata": {
    "id": "31OWVbSh_305"
   },
   "outputs": [],
   "source": [
    "fforecast = inv_yhat_without_mc[:,-300:]"
   ]
  },
  {
   "cell_type": "code",
   "execution_count": 25,
   "metadata": {},
   "outputs": [
    {
     "data": {
      "text/plain": [
       "(1, 300)"
      ]
     },
     "execution_count": 25,
     "metadata": {},
     "output_type": "execute_result"
    }
   ],
   "source": [
    "fforecast.shape"
   ]
  },
  {
   "cell_type": "code",
   "execution_count": 26,
   "metadata": {
    "id": "BlpGH2FOAiRF"
   },
   "outputs": [],
   "source": [
    "final_forecast = fforecast[:,0:300:3]"
   ]
  },
  {
   "cell_type": "code",
   "execution_count": 27,
   "metadata": {},
   "outputs": [
    {
     "data": {
      "text/plain": [
       "(1, 300)"
      ]
     },
     "execution_count": 27,
     "metadata": {},
     "output_type": "execute_result"
    }
   ],
   "source": [
    "fforecast.shape"
   ]
  },
  {
   "cell_type": "code",
   "execution_count": 28,
   "metadata": {
    "id": "CXkgkj_LBk_t"
   },
   "outputs": [],
   "source": [
    "# code to replace all negative value with 0\n",
    "final_forecast[final_forecast<0] = 0"
   ]
  },
  {
   "cell_type": "code",
   "execution_count": 29,
   "metadata": {},
   "outputs": [
    {
     "data": {
      "text/plain": [
       "array([[6.98852941e+01, 6.98460784e+01, 6.98068627e+01, 6.97676471e+01,\n",
       "        6.97284314e+01, 6.96892157e+01, 6.96500000e+01, 6.96107843e+01,\n",
       "        6.95715686e+01, 6.95323529e+01, 6.94965686e+01, 6.94769608e+01,\n",
       "        6.94573529e+01, 7.35220822e+01, 7.33882656e+01, 7.32613749e+01,\n",
       "        7.31344841e+01, 7.30075934e+01, 7.28807026e+01, 7.27538119e+01,\n",
       "        7.26269211e+01, 7.25000304e+01, 7.23731396e+01, 7.22462488e+01,\n",
       "        7.21193581e+01, 7.19924673e+01, 7.19578642e+01, 7.19250910e+01,\n",
       "        7.18923179e+01, 7.18595448e+01, 7.18267717e+01, 7.17939986e+01,\n",
       "        7.17612255e+01, 7.17284524e+01, 7.16956793e+01, 7.16629062e+01,\n",
       "        7.16301330e+01, 7.15952614e+01, 7.15364379e+01, 7.14776144e+01,\n",
       "        0.00000000e+00, 1.64144890e-01, 0.00000000e+00, 0.00000000e+00,\n",
       "        0.00000000e+00, 5.85034790e-01, 0.00000000e+00, 7.20206653e+01,\n",
       "        7.19651471e+01, 7.19323739e+01, 7.18996008e+01, 7.18668277e+01,\n",
       "        7.18330546e+01, 7.18012815e+01, 7.17685084e+01, 7.17357353e+01,\n",
       "        7.17029622e+01, 7.16701891e+01, 7.16374160e+01, 7.16046429e+01,\n",
       "        7.15495098e+01, 7.14906863e+01, 7.14318627e+01, 7.13730392e+01,\n",
       "        7.13142157e+01, 7.12553922e+01, 7.11965686e+01, 7.11377449e+01,\n",
       "        7.10789216e+01, 7.10200980e+01, 6.97612745e+01, 6.94004510e+01,\n",
       "        6.83960784e+01, 1.29356587e+00, 0.00000000e+00, 4.56666648e-01,\n",
       "        0.00000000e+00, 4.19966817e-01, 0.00000000e+00, 0.00000000e+00,\n",
       "        5.15501900e+01, 1.45112351e-01, 0.00000000e+00, 0.00000000e+00,\n",
       "        6.53235987e-02, 0.00000000e+00, 4.64938104e-01, 4.21061933e-01,\n",
       "        0.00000000e+00, 0.00000000e+00, 0.00000000e+00, 0.00000000e+00,\n",
       "        0.00000000e+00, 8.90326560e-01, 0.00000000e+00, 0.00000000e+00,\n",
       "        0.00000000e+00, 0.00000000e+00, 0.00000000e+00, 3.71032953e-01]])"
      ]
     },
     "execution_count": 29,
     "metadata": {},
     "output_type": "execute_result"
    }
   ],
   "source": [
    "final_forecast"
   ]
  },
  {
   "cell_type": "code",
   "execution_count": 30,
   "metadata": {},
   "outputs": [
    {
     "data": {
      "text/plain": [
       "(1, 100)"
      ]
     },
     "execution_count": 30,
     "metadata": {},
     "output_type": "execute_result"
    }
   ],
   "source": [
    "final_forecast.shape"
   ]
  },
  {
   "cell_type": "code",
   "execution_count": 31,
   "metadata": {},
   "outputs": [
    {
     "data": {
      "text/plain": [
       "(100,)"
      ]
     },
     "execution_count": 31,
     "metadata": {},
     "output_type": "execute_result"
    }
   ],
   "source": [
    "test.shape"
   ]
  },
  {
   "cell_type": "code",
   "execution_count": 32,
   "metadata": {},
   "outputs": [],
   "source": [
    "training_set = np.array(training_set)\n",
    "test = np.array(test)\n",
    "final_forecast = np.array(final_forecast.squeeze(0))"
   ]
  },
  {
   "cell_type": "code",
   "execution_count": 33,
   "metadata": {},
   "outputs": [
    {
     "data": {
      "text/plain": [
       "array([67.51148459, 67.50028011, 67.48907563, 67.47787115, 67.46666667,\n",
       "       67.45546218, 67.4442577 , 67.43305322, 67.42184874, 67.41064426,\n",
       "       67.39943978, 67.38823529, 67.37703081, 67.36582633, 67.35462185,\n",
       "       67.34341737, 67.33221289, 67.3210084 , 67.30980392, 67.29877451,\n",
       "       67.28897059, 67.27916667, 67.26936275, 67.25955882, 67.2497549 ,\n",
       "       67.23995098, 67.23014706, 67.22034314, 67.21053922, 67.20073529,\n",
       "       67.19093137, 67.18112745, 67.17132353, 67.16151961, 67.15171569,\n",
       "       67.14191176, 67.13210784, 67.12230392, 67.1125    , 67.10269608,\n",
       "       67.09289216, 67.08308824, 67.07328431, 67.06348039, 67.05367647,\n",
       "       67.04387255, 67.03406863, 67.02426471, 67.01446078, 67.00465686,\n",
       "       66.99485294, 66.98504902, 66.9752451 , 66.96544118, 66.95563725,\n",
       "       66.94583333, 66.93602941, 66.92622549, 66.91642157, 66.90661765,\n",
       "       66.89681373, 66.8870098 , 66.87720588, 66.86740196, 66.85759804,\n",
       "       66.84779412, 66.8379902 , 66.82818627, 66.81838235, 66.80857843,\n",
       "       66.79877451, 66.78897059, 66.77916667, 66.76936275, 66.75955882,\n",
       "       66.7497549 , 66.73995098, 66.73014706, 66.72034314, 66.71053922,\n",
       "       66.70073529, 66.69093137, 66.68112745, 66.67132353, 66.66151961,\n",
       "       66.65171569, 66.64191176, 66.63210784, 66.62230392, 66.6125    ,\n",
       "       66.60269608, 66.59289216, 66.58308824, 66.57328431, 66.56348039,\n",
       "       66.55367647, 66.54387255, 66.53406863, 66.52426471, 66.51446078])"
      ]
     },
     "execution_count": 33,
     "metadata": {},
     "output_type": "execute_result"
    }
   ],
   "source": [
    "test"
   ]
  },
  {
   "cell_type": "code",
   "execution_count": 34,
   "metadata": {},
   "outputs": [
    {
     "data": {
      "text/plain": [
       "(100,)"
      ]
     },
     "execution_count": 34,
     "metadata": {},
     "output_type": "execute_result"
    }
   ],
   "source": [
    "test.shape"
   ]
  },
  {
   "cell_type": "code",
   "execution_count": 35,
   "metadata": {},
   "outputs": [
    {
     "data": {
      "text/plain": [
       "(100,)"
      ]
     },
     "execution_count": 35,
     "metadata": {},
     "output_type": "execute_result"
    }
   ],
   "source": [
    "final_forecast.shape"
   ]
  },
  {
   "cell_type": "code",
   "execution_count": 36,
   "metadata": {},
   "outputs": [
    {
     "data": {
      "text/plain": [
       "(100,)"
      ]
     },
     "execution_count": 36,
     "metadata": {},
     "output_type": "execute_result"
    }
   ],
   "source": [
    "test.shape"
   ]
  },
  {
   "cell_type": "code",
   "execution_count": 37,
   "metadata": {},
   "outputs": [
    {
     "name": "stdout",
     "output_type": "stream",
     "text": [
      "38.436761367586044\n",
      "24.899994696138105\n"
     ]
    }
   ],
   "source": [
    "import math\n",
    "MSE = np.square(np.subtract(np.array(test),np.array(final_forecast))).mean()   \n",
    "rsme = math.sqrt(MSE)\n",
    "print(rsme)  \n",
    "MAE = np.abs(np.subtract(np.array(test),np.array(final_forecast))).mean()   \n",
    "mae = MAE\n",
    "print(mae)"
   ]
  }
 ],
 "metadata": {
  "colab": {
   "provenance": []
  },
  "kernelspec": {
   "display_name": "Python 3",
   "language": "python",
   "name": "python3"
  },
  "language_info": {
   "codemirror_mode": {
    "name": "ipython",
    "version": 3
   },
   "file_extension": ".py",
   "mimetype": "text/x-python",
   "name": "python",
   "nbconvert_exporter": "python",
   "pygments_lexer": "ipython3",
   "version": "3.9.13"
  }
 },
 "nbformat": 4,
 "nbformat_minor": 0
}
