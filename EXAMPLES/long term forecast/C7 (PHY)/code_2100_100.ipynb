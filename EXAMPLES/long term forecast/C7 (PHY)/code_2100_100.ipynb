{
 "cells": [
  {
   "cell_type": "markdown",
   "metadata": {
    "id": "pCGKeZ2gyuoQ"
   },
   "source": [
    "_Importing Required Libraries_"
   ]
  },
  {
   "cell_type": "code",
   "execution_count": 1,
   "metadata": {
    "colab": {
     "base_uri": "https://localhost:8080/"
    },
    "id": "A-6LN-zXiLcM",
    "outputId": "4de610a4-f8b8-4f49-c6c0-89de299ccedc"
   },
   "outputs": [
    {
     "name": "stdout",
     "output_type": "stream",
     "text": [
      "Requirement already satisfied: hampel in c:\\users\\anurag dutta\\appdata\\local\\packages\\pythonsoftwarefoundation.python.3.9_qbz5n2kfra8p0\\localcache\\local-packages\\python39\\site-packages (0.0.5)\n",
      "Requirement already satisfied: numpy in c:\\users\\anurag dutta\\appdata\\local\\packages\\pythonsoftwarefoundation.python.3.9_qbz5n2kfra8p0\\localcache\\local-packages\\python39\\site-packages (from hampel) (1.26.4)\n",
      "Requirement already satisfied: pandas in c:\\users\\anurag dutta\\appdata\\local\\packages\\pythonsoftwarefoundation.python.3.9_qbz5n2kfra8p0\\localcache\\local-packages\\python39\\site-packages (from hampel) (1.5.2)\n",
      "Requirement already satisfied: python-dateutil>=2.8.1 in c:\\users\\anurag dutta\\appdata\\local\\packages\\pythonsoftwarefoundation.python.3.9_qbz5n2kfra8p0\\localcache\\local-packages\\python39\\site-packages (from pandas->hampel) (2.8.2)\n",
      "Requirement already satisfied: pytz>=2020.1 in c:\\users\\anurag dutta\\appdata\\local\\packages\\pythonsoftwarefoundation.python.3.9_qbz5n2kfra8p0\\localcache\\local-packages\\python39\\site-packages (from pandas->hampel) (2023.3.post1)\n",
      "Requirement already satisfied: six>=1.5 in c:\\users\\anurag dutta\\appdata\\local\\packages\\pythonsoftwarefoundation.python.3.9_qbz5n2kfra8p0\\localcache\\local-packages\\python39\\site-packages (from python-dateutil>=2.8.1->pandas->hampel) (1.16.0)\n",
      "Note: you may need to restart the kernel to use updated packages.\n"
     ]
    },
    {
     "name": "stderr",
     "output_type": "stream",
     "text": [
      "\n",
      "[notice] A new release of pip is available: 24.2 -> 24.3.1\n",
      "[notice] To update, run: C:\\Users\\Anurag Dutta\\AppData\\Local\\Microsoft\\WindowsApps\\PythonSoftwareFoundation.Python.3.9_qbz5n2kfra8p0\\python.exe -m pip install --upgrade pip\n"
     ]
    }
   ],
   "source": [
    "pip install hampel"
   ]
  },
  {
   "cell_type": "code",
   "execution_count": 2,
   "metadata": {
    "id": "By_d9uXpaFvZ"
   },
   "outputs": [],
   "source": [
    "from keras.models import Sequential\n",
    "from keras.layers import Dense\n",
    "from keras.layers import LSTM\n",
    "from keras.layers import Dropout\n",
    "import keras\n",
    "import tensorflow as tf\n",
    "from hampel import hampel\n",
    "import numpy as np\n",
    "import matplotlib.pyplot as plt\n",
    "import pandas as pd\n",
    "from sklearn.preprocessing import MinMaxScaler\n",
    "from sklearn.metrics import mean_squared_error, mean_absolute_error\n",
    "from math import sqrt\n",
    "from matplotlib import pyplot\n",
    "from numpy import array"
   ]
  },
  {
   "cell_type": "markdown",
   "metadata": {
    "id": "JyOjBMFayuoR"
   },
   "source": [
    "## Pretraining"
   ]
  },
  {
   "cell_type": "markdown",
   "metadata": {
    "id": "-5QqIY_GyuoR"
   },
   "source": [
    "The `capa_intermittency.dat` feeds the model with the dynamics of the Capacitor"
   ]
  },
  {
   "cell_type": "code",
   "execution_count": 3,
   "metadata": {
    "id": "9dV4a8yfyuoR"
   },
   "outputs": [],
   "source": [
    "data = np.genfromtxt('capa_intermittency.dat')\n",
    "training_set = pd.DataFrame(data).reset_index(drop=True)\n",
    "training_set = training_set.iloc[:,0]"
   ]
  },
  {
   "cell_type": "markdown",
   "metadata": {
    "id": "i7easoxByuoR"
   },
   "source": [
    "## Computing the Gradient"
   ]
  },
  {
   "cell_type": "markdown",
   "metadata": {
    "id": "5SnyolJTyuoR"
   },
   "source": [
    "_Calculating the value of_ $\\frac{dx}{dt}$"
   ]
  },
  {
   "cell_type": "code",
   "execution_count": 4,
   "metadata": {
    "colab": {
     "base_uri": "https://localhost:8080/"
    },
    "id": "wmIbVfIvyuoR",
    "outputId": "aa4e3136-c854-465d-d2e9-81cfd546e440"
   },
   "outputs": [
    {
     "name": "stdout",
     "output_type": "stream",
     "text": [
      "1.0\n",
      "1        0.000298\n",
      "2        0.000298\n",
      "3        0.000297\n",
      "4        0.000297\n",
      "5        0.000297\n",
      "           ...   \n",
      "9996     0.000018\n",
      "9997     0.000018\n",
      "9998     0.000018\n",
      "9999     0.000018\n",
      "10000    0.000018\n",
      "Name: 0, Length: 10000, dtype: float64\n"
     ]
    }
   ],
   "source": [
    "t_diff = 1\n",
    "print(training_set.max())\n",
    "gradient_t = (training_set.diff()/t_diff).iloc[1:] # dx/dt\n",
    "print(gradient_t)"
   ]
  },
  {
   "cell_type": "markdown",
   "metadata": {
    "id": "_2eVeeoxyuoS"
   },
   "source": [
    "## Loading Datasets"
   ]
  },
  {
   "cell_type": "code",
   "execution_count": 5,
   "metadata": {
    "id": "0J-NKyIEyuoS"
   },
   "outputs": [
    {
     "data": {
      "text/plain": [
       "0       92.600000\n",
       "1       92.387115\n",
       "2       92.174230\n",
       "3       91.961345\n",
       "4       91.748459\n",
       "          ...    \n",
       "2195    64.726160\n",
       "2196    64.718508\n",
       "2197    64.710856\n",
       "2198    64.703204\n",
       "2199    64.695552\n",
       "Name: C7, Length: 2200, dtype: float64"
      ]
     },
     "execution_count": 5,
     "metadata": {},
     "output_type": "execute_result"
    }
   ],
   "source": [
    "data = pd.read_csv(\"c7_interpolated_2100_100.csv\")\n",
    "training_set = data.iloc[:, 1]\n",
    "training_set"
   ]
  },
  {
   "cell_type": "code",
   "execution_count": 6,
   "metadata": {
    "colab": {
     "base_uri": "https://localhost:8080/"
    },
    "id": "-CbNUhJ74UqF",
    "outputId": "20f562d8-8247-49cc-b9c3-00eca5e13e2d"
   },
   "outputs": [
    {
     "data": {
      "text/plain": [
       "0       92.600000\n",
       "1       92.387115\n",
       "2       92.174230\n",
       "3       91.961345\n",
       "4       91.748459\n",
       "          ...    \n",
       "2095     0.527806\n",
       "2096     0.609688\n",
       "2097     0.000000\n",
       "2098     0.000000\n",
       "2099     0.000000\n",
       "Name: C7, Length: 2100, dtype: float64"
      ]
     },
     "execution_count": 6,
     "metadata": {},
     "output_type": "execute_result"
    }
   ],
   "source": [
    "test = training_set.tail(100)\n",
    "test\n",
    "training_set = training_set.head(2100)\n",
    "training_set"
   ]
  },
  {
   "cell_type": "code",
   "execution_count": 7,
   "metadata": {
    "colab": {
     "base_uri": "https://localhost:8080/"
    },
    "id": "X0TwTcq0yuoS",
    "outputId": "37252ed8-d88e-4044-fa7a-922411990b5b"
   },
   "outputs": [
    {
     "name": "stdout",
     "output_type": "stream",
     "text": [
      "0       0.000298\n",
      "1       0.000298\n",
      "2       0.000297\n",
      "3       0.000297\n",
      "4       0.000297\n",
      "          ...   \n",
      "9995    0.000018\n",
      "9996    0.000018\n",
      "9997    0.000018\n",
      "9998    0.000018\n",
      "9999    0.000018\n",
      "Name: 0, Length: 10000, dtype: float64\n"
     ]
    }
   ],
   "source": [
    "training_set = training_set.reset_index(drop=True)\n",
    "gradient_t = gradient_t.reset_index(drop=True)\n",
    "print(gradient_t)"
   ]
  },
  {
   "cell_type": "code",
   "execution_count": 8,
   "metadata": {
    "id": "O2biznZQyuoS"
   },
   "outputs": [],
   "source": [
    "df = pd.concat((training_set, gradient_t), axis=1)\n",
    "df.columns = ['y_t', 'grad_t']"
   ]
  },
  {
   "cell_type": "code",
   "execution_count": 9,
   "metadata": {
    "colab": {
     "base_uri": "https://localhost:8080/",
     "height": 423
    },
    "id": "sk_a5v3tyuoS",
    "outputId": "17563625-e550-45ae-faab-fafa353e44da"
   },
   "outputs": [
    {
     "data": {
      "text/html": [
       "<div>\n",
       "<style scoped>\n",
       "    .dataframe tbody tr th:only-of-type {\n",
       "        vertical-align: middle;\n",
       "    }\n",
       "\n",
       "    .dataframe tbody tr th {\n",
       "        vertical-align: top;\n",
       "    }\n",
       "\n",
       "    .dataframe thead th {\n",
       "        text-align: right;\n",
       "    }\n",
       "</style>\n",
       "<table border=\"1\" class=\"dataframe\">\n",
       "  <thead>\n",
       "    <tr style=\"text-align: right;\">\n",
       "      <th></th>\n",
       "      <th>y_t</th>\n",
       "      <th>grad_t</th>\n",
       "    </tr>\n",
       "  </thead>\n",
       "  <tbody>\n",
       "    <tr>\n",
       "      <th>0</th>\n",
       "      <td>92.600000</td>\n",
       "      <td>0.000298</td>\n",
       "    </tr>\n",
       "    <tr>\n",
       "      <th>1</th>\n",
       "      <td>92.387115</td>\n",
       "      <td>0.000298</td>\n",
       "    </tr>\n",
       "    <tr>\n",
       "      <th>2</th>\n",
       "      <td>92.174230</td>\n",
       "      <td>0.000297</td>\n",
       "    </tr>\n",
       "    <tr>\n",
       "      <th>3</th>\n",
       "      <td>91.961345</td>\n",
       "      <td>0.000297</td>\n",
       "    </tr>\n",
       "    <tr>\n",
       "      <th>4</th>\n",
       "      <td>91.748459</td>\n",
       "      <td>0.000297</td>\n",
       "    </tr>\n",
       "    <tr>\n",
       "      <th>...</th>\n",
       "      <td>...</td>\n",
       "      <td>...</td>\n",
       "    </tr>\n",
       "    <tr>\n",
       "      <th>9995</th>\n",
       "      <td>NaN</td>\n",
       "      <td>0.000018</td>\n",
       "    </tr>\n",
       "    <tr>\n",
       "      <th>9996</th>\n",
       "      <td>NaN</td>\n",
       "      <td>0.000018</td>\n",
       "    </tr>\n",
       "    <tr>\n",
       "      <th>9997</th>\n",
       "      <td>NaN</td>\n",
       "      <td>0.000018</td>\n",
       "    </tr>\n",
       "    <tr>\n",
       "      <th>9998</th>\n",
       "      <td>NaN</td>\n",
       "      <td>0.000018</td>\n",
       "    </tr>\n",
       "    <tr>\n",
       "      <th>9999</th>\n",
       "      <td>NaN</td>\n",
       "      <td>0.000018</td>\n",
       "    </tr>\n",
       "  </tbody>\n",
       "</table>\n",
       "<p>10000 rows × 2 columns</p>\n",
       "</div>"
      ],
      "text/plain": [
       "            y_t    grad_t\n",
       "0     92.600000  0.000298\n",
       "1     92.387115  0.000298\n",
       "2     92.174230  0.000297\n",
       "3     91.961345  0.000297\n",
       "4     91.748459  0.000297\n",
       "...         ...       ...\n",
       "9995        NaN  0.000018\n",
       "9996        NaN  0.000018\n",
       "9997        NaN  0.000018\n",
       "9998        NaN  0.000018\n",
       "9999        NaN  0.000018\n",
       "\n",
       "[10000 rows x 2 columns]"
      ]
     },
     "execution_count": 9,
     "metadata": {},
     "output_type": "execute_result"
    }
   ],
   "source": [
    "df"
   ]
  },
  {
   "cell_type": "markdown",
   "metadata": {
    "id": "-5esyHu5aFvg"
   },
   "source": [
    "## Plot of the External Forcing from Chaotic Differential Equation"
   ]
  },
  {
   "cell_type": "code",
   "execution_count": 10,
   "metadata": {
    "colab": {
     "base_uri": "https://localhost:8080/",
     "height": 447
    },
    "id": "hGnE43tOh-4p",
    "outputId": "fc396503-b624-4fa5-dfbe-f460207405c6"
   },
   "outputs": [
    {
     "data": {
      "text/plain": [
       "<Axes: >"
      ]
     },
     "execution_count": 10,
     "metadata": {},
     "output_type": "execute_result"
    },
    {
     "data": {
      "image/png": "[encoded data removed]",
      "text/plain": [
       "<Figure size 432x288 with 1 Axes>"
      ]
     },
     "metadata": {
      "needs_background": "light"
     },
     "output_type": "display_data"
    }
   ],
   "source": [
    "df.iloc[:, 0].plot()"
   ]
  },
  {
   "cell_type": "code",
   "execution_count": 11,
   "metadata": {
    "colab": {
     "base_uri": "https://localhost:8080/",
     "height": 447
    },
    "id": "ym4xWUUxaFvg",
    "outputId": "ae6a3495-8ce9-437e-ba81-3ed31deedeae"
   },
   "outputs": [
    {
     "name": "stderr",
     "output_type": "stream",
     "text": [
      "C:\\Users\\Anurag Dutta\\AppData\\Local\\Packages\\PythonSoftwareFoundation.Python.3.9_qbz5n2kfra8p0\\LocalCache\\local-packages\\Python39\\site-packages\\pandas\\core\\arraylike.py:402: RuntimeWarning: divide by zero encountered in log\n",
      "  result = getattr(ufunc, method)(*inputs, **kwargs)\n"
     ]
    },
    {
     "data": {
      "text/plain": [
       "<Axes: >"
      ]
     },
     "execution_count": 11,
     "metadata": {},
     "output_type": "execute_result"
    },
    {
     "data": {
      "image/png": "[encoded data removed]",
      "text/plain": [
       "<Figure size 432x288 with 1 Axes>"
      ]
     },
     "metadata": {
      "needs_background": "light"
     },
     "output_type": "display_data"
    }
   ],
   "source": [
    "import numpy as np\n",
    "c0 = 89.3180  # Value for C0\n",
    "K0 = -0.0010  # Value for K0\n",
    "K1 = 0.0001  # Value for K1\n",
    "a = 0.0000    # Value for a\n",
    "b = -0.0204    # Value for b\n",
    "c = 2.2194    # Value for c\n",
    "\n",
    "L = np.minimum(c0, (df.iloc[:, 1] - (df.iloc[:, 0] * (K0 - K1 * (9 * a * np.log(df.iloc[:, 0] / c0) / (K0 - K1 * c)**2 + 4 * b * np.log(df.iloc[:, 0] / c0) / (K0 - K1 * c) + c)))))\n",
    "L.plot()"
   ]
  },
  {
   "cell_type": "markdown",
   "metadata": {
    "id": "9VyEywnwaFvh"
   },
   "source": [
    "## Preprocessing the data into supervised learning"
   ]
  },
  {
   "cell_type": "code",
   "execution_count": 12,
   "metadata": {
    "id": "6V9dXqzdaFvh"
   },
   "outputs": [],
   "source": [
    "# split a sequence into samples\n",
    "def Supervised(data, n_in=1, n_out=1, dropnan=True):\n",
    "    n_vars = 1 if type(data) is list else data.shape[1]\n",
    "    df = pd.DataFrame(data)\n",
    "    cols, names = list(), list()\n",
    "    # input sequence (t-n_in, ... t-1)\n",
    "    for i in range(n_in, 0, -1):\n",
    "        cols.append(df.shift(i))\n",
    "        names += [('var%d(t-%d)' % (j+1, i)) for j in range(n_vars)]\n",
    "    # forecast sequence (t, t+1, ... t+n_out)\n",
    "    for i in range(0, n_out):\n",
    "      cols.append(df.shift(-i))\n",
    "      if i == 0:\n",
    "        names += [('var%d(t)' % (j+1)) for j in range(n_vars)]\n",
    "      else:\n",
    "        names += [('var%d(t+%d)' % (j+1, i)) for j in range(n_vars)]\n",
    "    # put it all together\n",
    "    agg = pd.concat(cols, axis=1)\n",
    "    agg.columns = names\n",
    "    # drop rows with NaN values\n",
    "    if dropnan:\n",
    "       agg.dropna(inplace=True)\n",
    "    return agg"
   ]
  },
  {
   "cell_type": "code",
   "execution_count": 13,
   "metadata": {
    "colab": {
     "base_uri": "https://localhost:8080/"
    },
    "id": "CrzSrT1HnyfH",
    "outputId": "7e75f928-3e47-499d-eac1-51908015ef78"
   },
   "outputs": [
    {
     "name": "stdout",
     "output_type": "stream",
     "text": [
      "     var1(t-350)  var1(t-349)  var1(t-348)  var1(t-347)  var1(t-346)  \\\n",
      "350    92.600000    92.387115    92.174230    91.961345    91.748459   \n",
      "351    92.387115    92.174230    91.961345    91.748459    91.535574   \n",
      "352    92.174230    91.961345    91.748459    91.535574    91.322689   \n",
      "353    91.961345    91.748459    91.535574    91.322689    91.109804   \n",
      "354    91.748459    91.535574    91.322689    91.109804    90.896919   \n",
      "\n",
      "     var1(t-345)  var1(t-344)  var1(t-343)  var1(t-342)  var1(t-341)  ...  \\\n",
      "350    91.535574    91.322689    91.109804    90.896919    90.691597  ...   \n",
      "351    91.322689    91.109804    90.896919    90.691597    90.579552  ...   \n",
      "352    91.109804    90.896919    90.691597    90.579552    90.467507  ...   \n",
      "353    90.896919    90.691597    90.579552    90.467507    90.355462  ...   \n",
      "354    90.691597    90.579552    90.467507    90.355462    90.243417  ...   \n",
      "\n",
      "     var1(t+95)  var2(t+95)  var1(t+96)  var2(t+96)  var1(t+97)  var2(t+97)  \\\n",
      "350   80.261671    0.000263   80.252334    0.000263   80.242997    0.000263   \n",
      "351   80.252334    0.000263   80.242997    0.000263   80.233660    0.000262   \n",
      "352   80.242997    0.000263   80.233660    0.000262   80.224323    0.000262   \n",
      "353   80.233660    0.000262   80.224323    0.000262   80.214986    0.000262   \n",
      "354   80.224323    0.000262   80.214986    0.000262   80.205649    0.000262   \n",
      "\n",
      "     var1(t+98)  var2(t+98)  var1(t+99)  var2(t+99)  \n",
      "350   80.233660    0.000262   80.224323    0.000262  \n",
      "351   80.224323    0.000262   80.214986    0.000262  \n",
      "352   80.214986    0.000262   80.205649    0.000262  \n",
      "353   80.205649    0.000262   80.196312    0.000262  \n",
      "354   80.196312    0.000262   80.186975    0.000262  \n",
      "\n",
      "[5 rows x 551 columns]\n",
      "Index(['var1(t-350)', 'var1(t-349)', 'var1(t-348)', 'var1(t-347)',\n",
      "       'var1(t-346)', 'var1(t-345)', 'var1(t-344)', 'var1(t-343)',\n",
      "       'var1(t-342)', 'var1(t-341)',\n",
      "       ...\n",
      "       'var1(t+95)', 'var2(t+95)', 'var1(t+96)', 'var2(t+96)', 'var1(t+97)',\n",
      "       'var2(t+97)', 'var1(t+98)', 'var2(t+98)', 'var1(t+99)', 'var2(t+99)'],\n",
      "      dtype='object', length=551)\n"
     ]
    }
   ],
   "source": [
    "data = Supervised(df.values, n_in = 350, n_out = 100)\n",
    "\n",
    "\n",
    "cols_to_drop = []\n",
    "for i in range(2, 351):\n",
    "    cols_to_drop.extend([f'var2(t-{i})'])\n",
    "\n",
    "data.drop(cols_to_drop, axis=1, inplace=True)\n",
    "\n",
    "print(data.head())\n",
    "print(data.columns)"
   ]
  },
  {
   "cell_type": "code",
   "execution_count": 14,
   "metadata": {
    "id": "AfPf60oy6Pe4"
   },
   "outputs": [],
   "source": [
    "train = np.array(data[0:len(data)-1])\n",
    "forecast = np.array(data.tail(1))"
   ]
  },
  {
   "cell_type": "code",
   "execution_count": 15,
   "metadata": {
    "id": "WSAafzI37KiT"
   },
   "outputs": [],
   "source": [
    "trainy = train[:,-300:]\n",
    "trainX = train[:,:-300]"
   ]
  },
  {
   "cell_type": "code",
   "execution_count": 16,
   "metadata": {
    "id": "2SrOqVJA7f50"
   },
   "outputs": [],
   "source": [
    "forecasty = forecast[:,-300:]\n",
    "forecastX = forecast[:,:-300]"
   ]
  },
  {
   "cell_type": "code",
   "execution_count": 17,
   "metadata": {
    "colab": {
     "base_uri": "https://localhost:8080/"
    },
    "id": "Qno_k8Nw7saY",
    "outputId": "c4a88db5-d8c6-489f-cdb2-06b24e293cff"
   },
   "outputs": [
    {
     "name": "stdout",
     "output_type": "stream",
     "text": [
      "(1650, 1, 251) (1650, 300) (1, 1, 251)\n"
     ]
    }
   ],
   "source": [
    "trainX = trainX.reshape((trainX.shape[0], 1, trainX.shape[1]))\n",
    "forecastX = forecastX.reshape((forecastX.shape[0], 1, forecastX.shape[1]))\n",
    "print(trainX.shape, trainy.shape, forecastX.shape)"
   ]
  },
  {
   "cell_type": "code",
   "execution_count": 18,
   "metadata": {
    "colab": {
     "base_uri": "https://localhost:8080/"
    },
    "id": "b1Jp2DvNuNFx",
    "outputId": "d0e5b3c4-64f1-438c-eade-8dfeaac8e285"
   },
   "outputs": [
    {
     "name": "stdout",
     "output_type": "stream",
     "text": [
      "Epoch 1/500\n",
      "21/21 [==============================] - 2s 29ms/step - loss: 5708.0181 - val_loss: 3721.4072\n",
      "Epoch 2/500\n",
      "21/21 [==============================] - 0s 4ms/step - loss: 5635.1680 - val_loss: 3678.2966\n",
      "Epoch 3/500\n",
      "21/21 [==============================] - 0s 4ms/step - loss: 5570.1602 - val_loss: 3641.5171\n",
      "Epoch 4/500\n",
      "21/21 [==============================] - 0s 4ms/step - loss: 5505.6733 - val_loss: 3605.1289\n",
      "Epoch 5/500\n",
      "21/21 [==============================] - 0s 4ms/step - loss: 5441.7593 - val_loss: 3569.1187\n",
      "Epoch 6/500\n",
      "21/21 [==============================] - 0s 4ms/step - loss: 5378.4121 - val_loss: 3533.4785\n",
      "Epoch 7/500\n",
      "21/21 [==============================] - 0s 5ms/step - loss: 5315.6235 - val_loss: 3498.2024\n",
      "Epoch 8/500\n",
      "21/21 [==============================] - 0s 4ms/step - loss: 5253.3877 - val_loss: 3463.2871\n",
      "Epoch 9/500\n",
      "21/21 [==============================] - 0s 4ms/step - loss: 5191.6982 - val_loss: 3428.7288\n",
      "Epoch 10/500\n",
      "21/21 [==============================] - 0s 5ms/step - loss: 5130.5522 - val_loss: 3394.5242\n",
      "Epoch 11/500\n",
      "21/21 [==============================] - 0s 5ms/step - loss: 5069.9443 - val_loss: 3360.6704\n",
      "Epoch 12/500\n",
      "21/21 [==============================] - 0s 10ms/step - loss: 5009.8716 - val_loss: 3327.1643\n",
      "Epoch 13/500\n",
      "21/21 [==============================] - 0s 4ms/step - loss: 4950.3276 - val_loss: 3294.0042\n",
      "Epoch 14/500\n",
      "21/21 [==============================] - 0s 4ms/step - loss: 4891.3110 - val_loss: 3261.1860\n",
      "Epoch 15/500\n",
      "21/21 [==============================] - 0s 4ms/step - loss: 4832.8164 - val_loss: 3228.7083\n",
      "Epoch 16/500\n",
      "21/21 [==============================] - 0s 4ms/step - loss: 4774.8398 - val_loss: 3196.5674\n",
      "Epoch 17/500\n",
      "21/21 [==============================] - 0s 4ms/step - loss: 4717.3794 - val_loss: 3164.7620\n",
      "Epoch 18/500\n",
      "21/21 [==============================] - 0s 4ms/step - loss: 4660.4312 - val_loss: 3133.2886\n",
      "Epoch 19/500\n",
      "21/21 [==============================] - 0s 5ms/step - loss: 4603.9902 - val_loss: 3102.1458\n",
      "Epoch 20/500\n",
      "21/21 [==============================] - 0s 4ms/step - loss: 4548.0532 - val_loss: 3071.3296\n",
      "Epoch 21/500\n",
      "21/21 [==============================] - 0s 4ms/step - loss: 4492.6172 - val_loss: 3040.8394\n",
      "Epoch 22/500\n",
      "21/21 [==============================] - 0s 4ms/step - loss: 4437.6782 - val_loss: 3010.6716\n",
      "Epoch 23/500\n",
      "21/21 [==============================] - 0s 4ms/step - loss: 4383.2339 - val_loss: 2980.8245\n",
      "Epoch 24/500\n",
      "21/21 [==============================] - 0s 4ms/step - loss: 4329.2812 - val_loss: 2951.2954\n",
      "Epoch 25/500\n",
      "21/21 [==============================] - 0s 4ms/step - loss: 4275.8149 - val_loss: 2922.0823\n",
      "Epoch 26/500\n",
      "21/21 [==============================] - 0s 4ms/step - loss: 4222.8306 - val_loss: 2893.1829\n",
      "Epoch 27/500\n",
      "21/21 [==============================] - 0s 3ms/step - loss: 4170.3291 - val_loss: 2864.5950\n",
      "Epoch 28/500\n",
      "21/21 [==============================] - 0s 4ms/step - loss: 4118.3047 - val_loss: 2836.3159\n",
      "Epoch 29/500\n",
      "21/21 [==============================] - 0s 4ms/step - loss: 4066.7539 - val_loss: 2808.3442\n",
      "Epoch 30/500\n",
      "21/21 [==============================] - 0s 4ms/step - loss: 4015.6731 - val_loss: 2780.6770\n",
      "Epoch 31/500\n",
      "21/21 [==============================] - 0s 4ms/step - loss: 3965.0610 - val_loss: 2753.3130\n",
      "Epoch 32/500\n",
      "21/21 [==============================] - 0s 4ms/step - loss: 3914.9136 - val_loss: 2726.2488\n",
      "Epoch 33/500\n",
      "21/21 [==============================] - 0s 4ms/step - loss: 3865.2261 - val_loss: 2699.4832\n",
      "Epoch 34/500\n",
      "21/21 [==============================] - 0s 4ms/step - loss: 3815.9980 - val_loss: 2673.0142\n",
      "Epoch 35/500\n",
      "21/21 [==============================] - 0s 4ms/step - loss: 3767.2239 - val_loss: 2646.8391\n",
      "Epoch 36/500\n",
      "21/21 [==============================] - 0s 4ms/step - loss: 3718.9033 - val_loss: 2620.9563\n",
      "Epoch 37/500\n",
      "21/21 [==============================] - 0s 4ms/step - loss: 3671.0310 - val_loss: 2595.3635\n",
      "Epoch 38/500\n",
      "21/21 [==============================] - 0s 4ms/step - loss: 3623.6052 - val_loss: 2570.0588\n",
      "Epoch 39/500\n",
      "21/21 [==============================] - 0s 3ms/step - loss: 3576.6223 - val_loss: 2545.0403\n",
      "Epoch 40/500\n",
      "21/21 [==============================] - 0s 4ms/step - loss: 3530.0796 - val_loss: 2520.3054\n",
      "Epoch 41/500\n",
      "21/21 [==============================] - 0s 4ms/step - loss: 3483.9734 - val_loss: 2495.8525\n",
      "Epoch 42/500\n",
      "21/21 [==============================] - 0s 4ms/step - loss: 3438.3022 - val_loss: 2471.6804\n",
      "Epoch 43/500\n",
      "21/21 [==============================] - 0s 4ms/step - loss: 3393.0620 - val_loss: 2447.7856\n",
      "Epoch 44/500\n",
      "21/21 [==============================] - 0s 4ms/step - loss: 3348.2500 - val_loss: 2424.1677\n",
      "Epoch 45/500\n",
      "21/21 [==============================] - 0s 4ms/step - loss: 3303.8645 - val_loss: 2400.8235\n",
      "Epoch 46/500\n",
      "21/21 [==============================] - 0s 4ms/step - loss: 3259.9019 - val_loss: 2377.7522\n",
      "Epoch 47/500\n",
      "21/21 [==============================] - 0s 4ms/step - loss: 3216.3584 - val_loss: 2354.9507\n",
      "Epoch 48/500\n",
      "21/21 [==============================] - 0s 4ms/step - loss: 3173.2332 - val_loss: 2332.4182\n",
      "Epoch 49/500\n",
      "21/21 [==============================] - 0s 4ms/step - loss: 3130.5225 - val_loss: 2310.1523\n",
      "Epoch 50/500\n",
      "21/21 [==============================] - 0s 4ms/step - loss: 3088.2231 - val_loss: 2288.1514\n",
      "Epoch 51/500\n",
      "21/21 [==============================] - 0s 4ms/step - loss: 3046.3333 - val_loss: 2266.4133\n",
      "Epoch 52/500\n",
      "21/21 [==============================] - 0s 4ms/step - loss: 3004.8501 - val_loss: 2244.9363\n",
      "Epoch 53/500\n",
      "21/21 [==============================] - 0s 6ms/step - loss: 2963.7695 - val_loss: 2223.7188\n",
      "Epoch 54/500\n",
      "21/21 [==============================] - 0s 7ms/step - loss: 2923.0916 - val_loss: 2202.7588\n",
      "Epoch 55/500\n",
      "21/21 [==============================] - 0s 4ms/step - loss: 2882.8115 - val_loss: 2182.0547\n",
      "Epoch 56/500\n",
      "21/21 [==============================] - 0s 4ms/step - loss: 2842.9275 - val_loss: 2161.6042\n",
      "Epoch 57/500\n",
      "21/21 [==============================] - 0s 4ms/step - loss: 2803.4365 - val_loss: 2141.4065\n",
      "Epoch 58/500\n",
      "21/21 [==============================] - 0s 3ms/step - loss: 2764.3369 - val_loss: 2121.4590\n",
      "Epoch 59/500\n",
      "21/21 [==============================] - 0s 4ms/step - loss: 2725.6255 - val_loss: 2101.7603\n",
      "Epoch 60/500\n",
      "21/21 [==============================] - 0s 4ms/step - loss: 2687.2991 - val_loss: 2082.3086\n",
      "Epoch 61/500\n",
      "21/21 [==============================] - 0s 6ms/step - loss: 2649.3569 - val_loss: 2063.1021\n",
      "Epoch 62/500\n",
      "21/21 [==============================] - 0s 4ms/step - loss: 2611.7947 - val_loss: 2044.1392\n",
      "Epoch 63/500\n",
      "21/21 [==============================] - 0s 4ms/step - loss: 2574.6111 - val_loss: 2025.4182\n",
      "Epoch 64/500\n",
      "21/21 [==============================] - 0s 4ms/step - loss: 2537.8037 - val_loss: 2006.9377\n",
      "Epoch 65/500\n",
      "21/21 [==============================] - 0s 4ms/step - loss: 2501.3689 - val_loss: 1988.6957\n",
      "Epoch 66/500\n",
      "21/21 [==============================] - 0s 4ms/step - loss: 2465.3057 - val_loss: 1970.6902\n",
      "Epoch 67/500\n",
      "21/21 [==============================] - 0s 4ms/step - loss: 2429.6104 - val_loss: 1952.9199\n",
      "Epoch 68/500\n",
      "21/21 [==============================] - 0s 4ms/step - loss: 2394.2817 - val_loss: 1935.3835\n",
      "Epoch 69/500\n",
      "21/21 [==============================] - 0s 5ms/step - loss: 2359.3164 - val_loss: 1918.0792\n",
      "Epoch 70/500\n",
      "21/21 [==============================] - 0s 5ms/step - loss: 2324.7134 - val_loss: 1901.0049\n",
      "Epoch 71/500\n",
      "21/21 [==============================] - 0s 4ms/step - loss: 2290.4690 - val_loss: 1884.1593\n",
      "Epoch 72/500\n",
      "21/21 [==============================] - 0s 5ms/step - loss: 2256.5815 - val_loss: 1867.5409\n",
      "Epoch 73/500\n",
      "21/21 [==============================] - 0s 5ms/step - loss: 2223.0483 - val_loss: 1851.1483\n",
      "Epoch 74/500\n",
      "21/21 [==============================] - 0s 5ms/step - loss: 2189.8679 - val_loss: 1834.9790\n",
      "Epoch 75/500\n",
      "21/21 [==============================] - 0s 5ms/step - loss: 2157.0366 - val_loss: 1819.0327\n",
      "Epoch 76/500\n",
      "21/21 [==============================] - 0s 5ms/step - loss: 2124.5535 - val_loss: 1803.3066\n",
      "Epoch 77/500\n",
      "21/21 [==============================] - 0s 5ms/step - loss: 2092.4155 - val_loss: 1787.8000\n",
      "Epoch 78/500\n",
      "21/21 [==============================] - 0s 4ms/step - loss: 2060.6211 - val_loss: 1772.5112\n",
      "Epoch 79/500\n",
      "21/21 [==============================] - 0s 5ms/step - loss: 2029.1675 - val_loss: 1757.4382\n",
      "Epoch 80/500\n",
      "21/21 [==============================] - 0s 4ms/step - loss: 1998.0525 - val_loss: 1742.5796\n",
      "Epoch 81/500\n",
      "21/21 [==============================] - 0s 5ms/step - loss: 1967.2737 - val_loss: 1727.9343\n",
      "Epoch 82/500\n",
      "21/21 [==============================] - 0s 4ms/step - loss: 1936.8296 - val_loss: 1713.5006\n",
      "Epoch 83/500\n",
      "21/21 [==============================] - 0s 5ms/step - loss: 1906.7177 - val_loss: 1699.2767\n",
      "Epoch 84/500\n",
      "21/21 [==============================] - 0s 5ms/step - loss: 1876.9364 - val_loss: 1685.2616\n",
      "Epoch 85/500\n",
      "21/21 [==============================] - 0s 5ms/step - loss: 1847.4824 - val_loss: 1671.4532\n",
      "Epoch 86/500\n",
      "21/21 [==============================] - 0s 10ms/step - loss: 1818.3544 - val_loss: 1657.8502\n",
      "Epoch 87/500\n",
      "21/21 [==============================] - 0s 4ms/step - loss: 1789.5496 - val_loss: 1644.4515\n",
      "Epoch 88/500\n",
      "21/21 [==============================] - 0s 5ms/step - loss: 1761.0669 - val_loss: 1631.2552\n",
      "Epoch 89/500\n",
      "21/21 [==============================] - 0s 4ms/step - loss: 1732.9036 - val_loss: 1618.2599\n",
      "Epoch 90/500\n",
      "21/21 [==============================] - 0s 4ms/step - loss: 1705.0570 - val_loss: 1605.4640\n",
      "Epoch 91/500\n",
      "21/21 [==============================] - 0s 5ms/step - loss: 1677.5264 - val_loss: 1592.8665\n",
      "Epoch 92/500\n",
      "21/21 [==============================] - 0s 4ms/step - loss: 1650.3087 - val_loss: 1580.4655\n",
      "Epoch 93/500\n",
      "21/21 [==============================] - 0s 5ms/step - loss: 1623.4025 - val_loss: 1568.2595\n",
      "Epoch 94/500\n",
      "21/21 [==============================] - 0s 5ms/step - loss: 1596.8051 - val_loss: 1556.2476\n",
      "Epoch 95/500\n",
      "21/21 [==============================] - 0s 5ms/step - loss: 1570.5149 - val_loss: 1544.4279\n",
      "Epoch 96/500\n",
      "21/21 [==============================] - 0s 5ms/step - loss: 1544.5298 - val_loss: 1532.7991\n",
      "Epoch 97/500\n",
      "21/21 [==============================] - 0s 5ms/step - loss: 1518.8477 - val_loss: 1521.3594\n",
      "Epoch 98/500\n",
      "21/21 [==============================] - 0s 5ms/step - loss: 1493.4664 - val_loss: 1510.1078\n",
      "Epoch 99/500\n",
      "21/21 [==============================] - 0s 5ms/step - loss: 1468.3842 - val_loss: 1499.0431\n",
      "Epoch 100/500\n",
      "21/21 [==============================] - 0s 5ms/step - loss: 1443.5991 - val_loss: 1488.1631\n",
      "Epoch 101/500\n",
      "21/21 [==============================] - 0s 5ms/step - loss: 1419.1093 - val_loss: 1477.4668\n",
      "Epoch 102/500\n",
      "21/21 [==============================] - 0s 5ms/step - loss: 1394.9120 - val_loss: 1466.9529\n",
      "Epoch 103/500\n",
      "21/21 [==============================] - 0s 5ms/step - loss: 1371.0060 - val_loss: 1456.6201\n",
      "Epoch 104/500\n",
      "21/21 [==============================] - 0s 5ms/step - loss: 1347.3889 - val_loss: 1446.4667\n",
      "Epoch 105/500\n",
      "21/21 [==============================] - 0s 5ms/step - loss: 1324.0593 - val_loss: 1436.4912\n",
      "Epoch 106/500\n",
      "21/21 [==============================] - 0s 5ms/step - loss: 1301.0150 - val_loss: 1426.6924\n",
      "Epoch 107/500\n",
      "21/21 [==============================] - 0s 4ms/step - loss: 1278.2540 - val_loss: 1417.0692\n",
      "Epoch 108/500\n",
      "21/21 [==============================] - 0s 5ms/step - loss: 1255.7745 - val_loss: 1407.6196\n",
      "Epoch 109/500\n",
      "21/21 [==============================] - 0s 6ms/step - loss: 1233.5741 - val_loss: 1398.3428\n",
      "Epoch 110/500\n",
      "21/21 [==============================] - 0s 5ms/step - loss: 1211.6516 - val_loss: 1389.2369\n",
      "Epoch 111/500\n",
      "21/21 [==============================] - 0s 6ms/step - loss: 1190.0044 - val_loss: 1380.3011\n",
      "Epoch 112/500\n",
      "21/21 [==============================] - 0s 6ms/step - loss: 1168.6315 - val_loss: 1371.5333\n",
      "Epoch 113/500\n",
      "21/21 [==============================] - 0s 6ms/step - loss: 1147.5300 - val_loss: 1362.9326\n",
      "Epoch 114/500\n",
      "21/21 [==============================] - 0s 6ms/step - loss: 1126.6987 - val_loss: 1354.4977\n",
      "Epoch 115/500\n",
      "21/21 [==============================] - 0s 6ms/step - loss: 1106.1357 - val_loss: 1346.2269\n",
      "Epoch 116/500\n",
      "21/21 [==============================] - 0s 6ms/step - loss: 1085.8385 - val_loss: 1338.1189\n",
      "Epoch 117/500\n",
      "21/21 [==============================] - 0s 11ms/step - loss: 1065.8055 - val_loss: 1330.1727\n",
      "Epoch 118/500\n",
      "21/21 [==============================] - 0s 10ms/step - loss: 1046.0356 - val_loss: 1322.3864\n",
      "Epoch 119/500\n",
      "21/21 [==============================] - 0s 7ms/step - loss: 1026.5260 - val_loss: 1314.7589\n",
      "Epoch 120/500\n",
      "21/21 [==============================] - 0s 9ms/step - loss: 1007.2747 - val_loss: 1307.2888\n",
      "Epoch 121/500\n",
      "21/21 [==============================] - 0s 9ms/step - loss: 988.2811 - val_loss: 1299.9749\n",
      "Epoch 122/500\n",
      "21/21 [==============================] - 0s 8ms/step - loss: 969.5421 - val_loss: 1292.8152\n",
      "Epoch 123/500\n",
      "21/21 [==============================] - 0s 8ms/step - loss: 951.0556 - val_loss: 1285.8091\n",
      "Epoch 124/500\n",
      "21/21 [==============================] - 0s 9ms/step - loss: 932.8210 - val_loss: 1278.9550\n",
      "Epoch 125/500\n",
      "21/21 [==============================] - 0s 9ms/step - loss: 914.8357 - val_loss: 1272.2511\n",
      "Epoch 126/500\n",
      "21/21 [==============================] - 0s 7ms/step - loss: 897.0977 - val_loss: 1265.6968\n",
      "Epoch 127/500\n",
      "21/21 [==============================] - 0s 6ms/step - loss: 879.6059 - val_loss: 1259.2903\n",
      "Epoch 128/500\n",
      "21/21 [==============================] - 0s 7ms/step - loss: 862.3580 - val_loss: 1253.0302\n",
      "Epoch 129/500\n",
      "21/21 [==============================] - 0s 7ms/step - loss: 845.3522 - val_loss: 1246.9153\n",
      "Epoch 130/500\n",
      "21/21 [==============================] - 0s 8ms/step - loss: 828.5867 - val_loss: 1240.9443\n",
      "Epoch 131/500\n",
      "21/21 [==============================] - 0s 7ms/step - loss: 812.0602 - val_loss: 1235.1156\n",
      "Epoch 132/500\n",
      "21/21 [==============================] - 0s 6ms/step - loss: 795.7700 - val_loss: 1229.4281\n",
      "Epoch 133/500\n",
      "21/21 [==============================] - 0s 6ms/step - loss: 779.7147 - val_loss: 1223.8802\n",
      "Epoch 134/500\n",
      "21/21 [==============================] - 0s 6ms/step - loss: 763.8927 - val_loss: 1218.4709\n",
      "Epoch 135/500\n",
      "21/21 [==============================] - 0s 6ms/step - loss: 748.3022 - val_loss: 1213.1987\n",
      "Epoch 136/500\n",
      "21/21 [==============================] - 0s 6ms/step - loss: 732.9410 - val_loss: 1208.0619\n",
      "Epoch 137/500\n",
      "21/21 [==============================] - 0s 6ms/step - loss: 717.8070 - val_loss: 1203.0593\n",
      "Epoch 138/500\n",
      "21/21 [==============================] - 0s 7ms/step - loss: 702.8990 - val_loss: 1198.1897\n",
      "Epoch 139/500\n",
      "21/21 [==============================] - 0s 7ms/step - loss: 688.2146 - val_loss: 1193.4517\n",
      "Epoch 140/500\n",
      "21/21 [==============================] - 0s 7ms/step - loss: 673.7529 - val_loss: 1188.8439\n",
      "Epoch 141/500\n",
      "21/21 [==============================] - 0s 6ms/step - loss: 659.5117 - val_loss: 1184.3651\n",
      "Epoch 142/500\n",
      "21/21 [==============================] - 0s 6ms/step - loss: 645.4893 - val_loss: 1180.0134\n",
      "Epoch 143/500\n",
      "21/21 [==============================] - 0s 6ms/step - loss: 631.6833 - val_loss: 1175.7882\n",
      "Epoch 144/500\n",
      "21/21 [==============================] - 0s 6ms/step - loss: 618.0927 - val_loss: 1171.6875\n",
      "Epoch 145/500\n",
      "21/21 [==============================] - 0s 7ms/step - loss: 604.7146 - val_loss: 1167.7103\n",
      "Epoch 146/500\n",
      "21/21 [==============================] - 0s 15ms/step - loss: 591.5485 - val_loss: 1163.8551\n",
      "Epoch 147/500\n",
      "21/21 [==============================] - 0s 6ms/step - loss: 578.5916 - val_loss: 1160.1202\n",
      "Epoch 148/500\n",
      "21/21 [==============================] - 0s 6ms/step - loss: 565.8424 - val_loss: 1156.5051\n",
      "Epoch 149/500\n",
      "21/21 [==============================] - 0s 6ms/step - loss: 553.2991 - val_loss: 1153.0077\n",
      "Epoch 150/500\n",
      "21/21 [==============================] - 0s 6ms/step - loss: 540.9600 - val_loss: 1149.6266\n",
      "Epoch 151/500\n",
      "21/21 [==============================] - 0s 5ms/step - loss: 528.8232 - val_loss: 1146.3608\n",
      "Epoch 152/500\n",
      "21/21 [==============================] - 0s 5ms/step - loss: 516.8874 - val_loss: 1143.2089\n",
      "Epoch 153/500\n",
      "21/21 [==============================] - 0s 5ms/step - loss: 505.1503 - val_loss: 1140.1694\n",
      "Epoch 154/500\n",
      "21/21 [==============================] - 0s 5ms/step - loss: 493.6106 - val_loss: 1137.2410\n",
      "Epoch 155/500\n",
      "21/21 [==============================] - 0s 5ms/step - loss: 482.2659 - val_loss: 1134.4221\n",
      "Epoch 156/500\n",
      "21/21 [==============================] - 0s 5ms/step - loss: 471.1149 - val_loss: 1131.7117\n",
      "Epoch 157/500\n",
      "21/21 [==============================] - 0s 5ms/step - loss: 460.1552 - val_loss: 1129.1079\n",
      "Epoch 158/500\n",
      "21/21 [==============================] - 0s 5ms/step - loss: 449.3854 - val_loss: 1126.6096\n",
      "Epoch 159/500\n",
      "21/21 [==============================] - 0s 5ms/step - loss: 438.8036 - val_loss: 1124.2156\n",
      "Epoch 160/500\n",
      "21/21 [==============================] - 0s 5ms/step - loss: 428.4080 - val_loss: 1121.9243\n",
      "Epoch 161/500\n",
      "21/21 [==============================] - 0s 5ms/step - loss: 418.1970 - val_loss: 1119.7344\n",
      "Epoch 162/500\n",
      "21/21 [==============================] - 0s 6ms/step - loss: 408.1685 - val_loss: 1117.6443\n",
      "Epoch 163/500\n",
      "21/21 [==============================] - 0s 6ms/step - loss: 398.3208 - val_loss: 1115.6527\n",
      "Epoch 164/500\n",
      "21/21 [==============================] - 0s 5ms/step - loss: 388.6519 - val_loss: 1113.7584\n",
      "Epoch 165/500\n",
      "21/21 [==============================] - 0s 5ms/step - loss: 379.1609 - val_loss: 1111.9598\n",
      "Epoch 166/500\n",
      "21/21 [==============================] - 0s 5ms/step - loss: 369.8451 - val_loss: 1110.2557\n",
      "Epoch 167/500\n",
      "21/21 [==============================] - 0s 5ms/step - loss: 360.7029 - val_loss: 1108.6447\n",
      "Epoch 168/500\n",
      "21/21 [==============================] - 0s 4ms/step - loss: 351.7325 - val_loss: 1107.1250\n",
      "Epoch 169/500\n",
      "21/21 [==============================] - 0s 5ms/step - loss: 342.9325 - val_loss: 1105.6956\n",
      "Epoch 170/500\n",
      "21/21 [==============================] - 0s 5ms/step - loss: 334.3005 - val_loss: 1104.3550\n",
      "Epoch 171/500\n",
      "21/21 [==============================] - 0s 6ms/step - loss: 325.8352 - val_loss: 1103.1016\n",
      "Epoch 172/500\n",
      "21/21 [==============================] - 0s 6ms/step - loss: 317.5343 - val_loss: 1101.9342\n",
      "Epoch 173/500\n",
      "21/21 [==============================] - 0s 8ms/step - loss: 309.3958 - val_loss: 1100.8514\n",
      "Epoch 174/500\n",
      "21/21 [==============================] - 0s 7ms/step - loss: 301.4187 - val_loss: 1099.8519\n",
      "Epoch 175/500\n",
      "21/21 [==============================] - 0s 6ms/step - loss: 293.6009 - val_loss: 1098.9338\n",
      "Epoch 176/500\n",
      "21/21 [==============================] - 0s 6ms/step - loss: 285.9402 - val_loss: 1098.0963\n",
      "Epoch 177/500\n",
      "21/21 [==============================] - 0s 5ms/step - loss: 278.4355 - val_loss: 1097.3376\n",
      "Epoch 178/500\n",
      "21/21 [==============================] - 0s 5ms/step - loss: 271.0842 - val_loss: 1096.6565\n",
      "Epoch 179/500\n",
      "21/21 [==============================] - 0s 6ms/step - loss: 263.8851 - val_loss: 1096.0514\n",
      "Epoch 180/500\n",
      "21/21 [==============================] - 0s 9ms/step - loss: 256.8358 - val_loss: 1095.5210\n",
      "Epoch 181/500\n",
      "21/21 [==============================] - 0s 7ms/step - loss: 249.9349 - val_loss: 1095.0640\n",
      "Epoch 182/500\n",
      "21/21 [==============================] - 0s 6ms/step - loss: 243.1807 - val_loss: 1094.6787\n",
      "Epoch 183/500\n",
      "21/21 [==============================] - 0s 5ms/step - loss: 236.5712 - val_loss: 1094.3639\n",
      "Epoch 184/500\n",
      "21/21 [==============================] - 0s 6ms/step - loss: 230.1046 - val_loss: 1094.1182\n",
      "Epoch 185/500\n",
      "21/21 [==============================] - 0s 6ms/step - loss: 223.7794 - val_loss: 1093.9399\n",
      "Epoch 186/500\n",
      "21/21 [==============================] - 0s 6ms/step - loss: 217.5935 - val_loss: 1093.8279\n",
      "Epoch 187/500\n",
      "21/21 [==============================] - 0s 5ms/step - loss: 211.5451 - val_loss: 1093.7809\n",
      "Epoch 188/500\n",
      "21/21 [==============================] - 0s 5ms/step - loss: 205.6325 - val_loss: 1093.7971\n",
      "Epoch 189/500\n",
      "21/21 [==============================] - 0s 5ms/step - loss: 199.8535 - val_loss: 1093.8752\n",
      "Epoch 190/500\n",
      "21/21 [==============================] - 0s 5ms/step - loss: 194.2067 - val_loss: 1094.0140\n",
      "Epoch 191/500\n",
      "21/21 [==============================] - 0s 6ms/step - loss: 188.6902 - val_loss: 1094.2119\n",
      "Epoch 192/500\n",
      "21/21 [==============================] - 0s 7ms/step - loss: 183.3023 - val_loss: 1094.4679\n",
      "Epoch 193/500\n",
      "21/21 [==============================] - 0s 5ms/step - loss: 178.0409 - val_loss: 1094.7798\n",
      "Epoch 194/500\n",
      "21/21 [==============================] - 0s 6ms/step - loss: 172.9047 - val_loss: 1095.1469\n",
      "Epoch 195/500\n",
      "21/21 [==============================] - 0s 9ms/step - loss: 167.8917 - val_loss: 1095.5674\n",
      "Epoch 196/500\n",
      "21/21 [==============================] - 0s 6ms/step - loss: 163.0000 - val_loss: 1096.0400\n",
      "Epoch 197/500\n",
      "21/21 [==============================] - 0s 6ms/step - loss: 158.2276 - val_loss: 1096.5636\n",
      "Epoch 198/500\n",
      "21/21 [==============================] - 0s 6ms/step - loss: 153.5728 - val_loss: 1097.1364\n",
      "Epoch 199/500\n",
      "21/21 [==============================] - 0s 5ms/step - loss: 149.0341 - val_loss: 1097.7573\n",
      "Epoch 200/500\n",
      "21/21 [==============================] - 0s 5ms/step - loss: 144.6097 - val_loss: 1098.4247\n",
      "Epoch 201/500\n",
      "21/21 [==============================] - 0s 4ms/step - loss: 140.2976 - val_loss: 1099.1371\n",
      "Epoch 202/500\n",
      "21/21 [==============================] - 0s 4ms/step - loss: 136.0962 - val_loss: 1099.8938\n",
      "Epoch 203/500\n",
      "21/21 [==============================] - 0s 4ms/step - loss: 132.0037 - val_loss: 1100.6926\n",
      "Epoch 204/500\n",
      "21/21 [==============================] - 0s 5ms/step - loss: 128.0183 - val_loss: 1101.5330\n",
      "Epoch 205/500\n",
      "21/21 [==============================] - 0s 5ms/step - loss: 124.1379 - val_loss: 1102.4125\n",
      "Epoch 206/500\n",
      "21/21 [==============================] - 0s 5ms/step - loss: 120.3615 - val_loss: 1103.3308\n",
      "Epoch 207/500\n",
      "21/21 [==============================] - 0s 5ms/step - loss: 116.6870 - val_loss: 1104.2860\n",
      "Epoch 208/500\n",
      "21/21 [==============================] - 0s 5ms/step - loss: 113.1124 - val_loss: 1105.2769\n",
      "Epoch 209/500\n",
      "21/21 [==============================] - 0s 4ms/step - loss: 109.6363 - val_loss: 1106.3021\n",
      "Epoch 210/500\n",
      "21/21 [==============================] - 0s 4ms/step - loss: 106.2566 - val_loss: 1107.3605\n",
      "Epoch 211/500\n",
      "21/21 [==============================] - 0s 4ms/step - loss: 102.9717 - val_loss: 1108.4503\n",
      "Epoch 212/500\n",
      "21/21 [==============================] - 0s 5ms/step - loss: 99.7799 - val_loss: 1109.5709\n",
      "Epoch 213/500\n",
      "21/21 [==============================] - 0s 5ms/step - loss: 96.6797 - val_loss: 1110.7202\n",
      "Epoch 214/500\n",
      "21/21 [==============================] - 0s 5ms/step - loss: 93.6692 - val_loss: 1111.8975\n",
      "Epoch 215/500\n",
      "21/21 [==============================] - 0s 5ms/step - loss: 90.7470 - val_loss: 1113.1012\n",
      "Epoch 216/500\n",
      "21/21 [==============================] - 0s 4ms/step - loss: 87.9110 - val_loss: 1114.3301\n",
      "Epoch 217/500\n",
      "21/21 [==============================] - 0s 6ms/step - loss: 85.1595 - val_loss: 1115.5830\n",
      "Epoch 218/500\n",
      "21/21 [==============================] - 0s 4ms/step - loss: 82.4912 - val_loss: 1116.8584\n",
      "Epoch 219/500\n",
      "21/21 [==============================] - 0s 5ms/step - loss: 79.9042 - val_loss: 1118.1553\n",
      "Epoch 220/500\n",
      "21/21 [==============================] - 0s 6ms/step - loss: 77.3968 - val_loss: 1119.4725\n",
      "Epoch 221/500\n",
      "21/21 [==============================] - 0s 5ms/step - loss: 74.9673 - val_loss: 1120.8085\n",
      "Epoch 222/500\n",
      "21/21 [==============================] - 0s 5ms/step - loss: 72.6143 - val_loss: 1122.1625\n",
      "Epoch 223/500\n",
      "21/21 [==============================] - 0s 10ms/step - loss: 70.3359 - val_loss: 1123.5330\n",
      "Epoch 224/500\n",
      "21/21 [==============================] - 0s 5ms/step - loss: 68.1309 - val_loss: 1124.9187\n",
      "Epoch 225/500\n",
      "21/21 [==============================] - 0s 5ms/step - loss: 65.9973 - val_loss: 1126.3186\n",
      "Epoch 226/500\n",
      "21/21 [==============================] - 0s 5ms/step - loss: 63.9336 - val_loss: 1127.7316\n",
      "Epoch 227/500\n",
      "21/21 [==============================] - 0s 4ms/step - loss: 61.9384 - val_loss: 1129.1560\n",
      "Epoch 228/500\n",
      "21/21 [==============================] - 0s 4ms/step - loss: 60.0101 - val_loss: 1130.5918\n",
      "Epoch 229/500\n",
      "21/21 [==============================] - 0s 4ms/step - loss: 58.1469 - val_loss: 1132.0369\n",
      "Epoch 230/500\n",
      "21/21 [==============================] - 0s 4ms/step - loss: 56.3475 - val_loss: 1133.4905\n",
      "Epoch 231/500\n",
      "21/21 [==============================] - 0s 5ms/step - loss: 54.6102 - val_loss: 1134.9517\n",
      "Epoch 232/500\n",
      "21/21 [==============================] - 0s 5ms/step - loss: 52.9336 - val_loss: 1136.4189\n",
      "Epoch 233/500\n",
      "21/21 [==============================] - 0s 5ms/step - loss: 51.3162 - val_loss: 1137.8917\n",
      "Epoch 234/500\n",
      "21/21 [==============================] - 0s 5ms/step - loss: 49.7565 - val_loss: 1139.3689\n",
      "Epoch 235/500\n",
      "21/21 [==============================] - 0s 5ms/step - loss: 48.2530 - val_loss: 1140.8489\n",
      "Epoch 236/500\n",
      "21/21 [==============================] - 0s 5ms/step - loss: 46.8045 - val_loss: 1142.3312\n",
      "Epoch 237/500\n",
      "21/21 [==============================] - 0s 5ms/step - loss: 45.4093 - val_loss: 1143.8147\n",
      "Epoch 238/500\n",
      "21/21 [==============================] - 0s 5ms/step - loss: 44.0662 - val_loss: 1145.2985\n",
      "Epoch 239/500\n",
      "21/21 [==============================] - 0s 4ms/step - loss: 42.7735 - val_loss: 1146.7815\n",
      "Epoch 240/500\n",
      "21/21 [==============================] - 0s 5ms/step - loss: 41.5301 - val_loss: 1148.2632\n",
      "Epoch 241/500\n",
      "21/21 [==============================] - 0s 5ms/step - loss: 40.3344 - val_loss: 1149.7423\n",
      "Epoch 242/500\n",
      "21/21 [==============================] - 0s 4ms/step - loss: 39.1851 - val_loss: 1151.2179\n",
      "Epoch 243/500\n",
      "21/21 [==============================] - 0s 4ms/step - loss: 38.0811 - val_loss: 1152.6892\n",
      "Epoch 244/500\n",
      "21/21 [==============================] - 0s 4ms/step - loss: 37.0209 - val_loss: 1154.1556\n",
      "Epoch 245/500\n",
      "21/21 [==============================] - 0s 5ms/step - loss: 36.0032 - val_loss: 1155.6160\n",
      "Epoch 246/500\n",
      "21/21 [==============================] - 0s 5ms/step - loss: 35.0269 - val_loss: 1157.0698\n",
      "Epoch 247/500\n",
      "21/21 [==============================] - 0s 4ms/step - loss: 34.0905 - val_loss: 1158.5159\n",
      "Epoch 248/500\n",
      "21/21 [==============================] - 0s 10ms/step - loss: 33.1929 - val_loss: 1159.9536\n",
      "Epoch 249/500\n",
      "21/21 [==============================] - 0s 5ms/step - loss: 32.3330 - val_loss: 1161.3824\n",
      "Epoch 250/500\n",
      "21/21 [==============================] - 0s 5ms/step - loss: 31.5095 - val_loss: 1162.8013\n",
      "Epoch 251/500\n",
      "21/21 [==============================] - 0s 5ms/step - loss: 30.7212 - val_loss: 1164.2101\n",
      "Epoch 252/500\n",
      "21/21 [==============================] - 0s 5ms/step - loss: 29.9670 - val_loss: 1165.6074\n",
      "Epoch 253/500\n",
      "21/21 [==============================] - 0s 4ms/step - loss: 29.2459 - val_loss: 1166.9934\n",
      "Epoch 254/500\n",
      "21/21 [==============================] - 0s 4ms/step - loss: 28.5565 - val_loss: 1168.3667\n",
      "Epoch 255/500\n",
      "21/21 [==============================] - 0s 5ms/step - loss: 27.8980 - val_loss: 1169.7269\n",
      "Epoch 256/500\n",
      "21/21 [==============================] - 0s 5ms/step - loss: 27.2692 - val_loss: 1171.0740\n",
      "Epoch 257/500\n",
      "21/21 [==============================] - 0s 4ms/step - loss: 26.6690 - val_loss: 1172.4070\n",
      "Epoch 258/500\n",
      "21/21 [==============================] - 0s 4ms/step - loss: 26.0965 - val_loss: 1173.7253\n",
      "Epoch 259/500\n",
      "21/21 [==============================] - 0s 4ms/step - loss: 25.5507 - val_loss: 1175.0281\n",
      "Epoch 260/500\n",
      "21/21 [==============================] - 0s 4ms/step - loss: 25.0306 - val_loss: 1176.3159\n",
      "Epoch 261/500\n",
      "21/21 [==============================] - 0s 5ms/step - loss: 24.5352 - val_loss: 1177.5874\n",
      "Epoch 262/500\n",
      "21/21 [==============================] - 0s 5ms/step - loss: 24.0637 - val_loss: 1178.8425\n",
      "Epoch 263/500\n",
      "21/21 [==============================] - 0s 5ms/step - loss: 23.6150 - val_loss: 1180.0808\n",
      "Epoch 264/500\n",
      "21/21 [==============================] - 0s 5ms/step - loss: 23.1883 - val_loss: 1181.3020\n",
      "Epoch 265/500\n",
      "21/21 [==============================] - 0s 5ms/step - loss: 22.7827 - val_loss: 1182.5052\n",
      "Epoch 266/500\n",
      "21/21 [==============================] - 0s 5ms/step - loss: 22.3976 - val_loss: 1183.6907\n",
      "Epoch 267/500\n",
      "21/21 [==============================] - 0s 5ms/step - loss: 22.0319 - val_loss: 1184.8582\n",
      "Epoch 268/500\n",
      "21/21 [==============================] - 0s 5ms/step - loss: 21.6849 - val_loss: 1186.0071\n",
      "Epoch 269/500\n",
      "21/21 [==============================] - 0s 5ms/step - loss: 21.3558 - val_loss: 1187.1371\n",
      "Epoch 270/500\n",
      "21/21 [==============================] - 0s 5ms/step - loss: 21.0439 - val_loss: 1188.2479\n",
      "Epoch 271/500\n",
      "21/21 [==============================] - 0s 9ms/step - loss: 20.7485 - val_loss: 1189.3400\n",
      "Epoch 272/500\n",
      "21/21 [==============================] - 0s 6ms/step - loss: 20.4688 - val_loss: 1190.4124\n",
      "Epoch 273/500\n",
      "21/21 [==============================] - 0s 5ms/step - loss: 20.2041 - val_loss: 1191.4653\n",
      "Epoch 274/500\n",
      "21/21 [==============================] - 0s 5ms/step - loss: 19.9537 - val_loss: 1192.4985\n",
      "Epoch 275/500\n",
      "21/21 [==============================] - 0s 5ms/step - loss: 19.7171 - val_loss: 1193.5117\n",
      "Epoch 276/500\n",
      "21/21 [==============================] - 0s 5ms/step - loss: 19.4937 - val_loss: 1194.5049\n",
      "Epoch 277/500\n",
      "21/21 [==============================] - 0s 5ms/step - loss: 19.2828 - val_loss: 1195.4783\n",
      "Epoch 278/500\n",
      "21/21 [==============================] - 0s 5ms/step - loss: 19.0837 - val_loss: 1196.4316\n",
      "Epoch 279/500\n",
      "21/21 [==============================] - 0s 5ms/step - loss: 18.8960 - val_loss: 1197.3647\n",
      "Epoch 280/500\n",
      "21/21 [==============================] - 0s 4ms/step - loss: 18.7191 - val_loss: 1198.2777\n",
      "Epoch 281/500\n",
      "21/21 [==============================] - 0s 4ms/step - loss: 18.5525 - val_loss: 1199.1704\n",
      "Epoch 282/500\n",
      "21/21 [==============================] - 0s 4ms/step - loss: 18.3956 - val_loss: 1200.0430\n",
      "Epoch 283/500\n",
      "21/21 [==============================] - 0s 4ms/step - loss: 18.2481 - val_loss: 1200.8955\n",
      "Epoch 284/500\n",
      "21/21 [==============================] - 0s 5ms/step - loss: 18.1094 - val_loss: 1201.7281\n",
      "Epoch 285/500\n",
      "21/21 [==============================] - 0s 5ms/step - loss: 17.9791 - val_loss: 1202.5408\n",
      "Epoch 286/500\n",
      "21/21 [==============================] - 0s 5ms/step - loss: 17.8567 - val_loss: 1203.3335\n",
      "Epoch 287/500\n",
      "21/21 [==============================] - 0s 5ms/step - loss: 17.7418 - val_loss: 1204.1067\n",
      "Epoch 288/500\n",
      "21/21 [==============================] - 0s 5ms/step - loss: 17.6340 - val_loss: 1204.8596\n",
      "Epoch 289/500\n",
      "21/21 [==============================] - 0s 5ms/step - loss: 17.5330 - val_loss: 1205.5936\n",
      "Epoch 290/500\n",
      "21/21 [==============================] - 0s 4ms/step - loss: 17.4383 - val_loss: 1206.3083\n",
      "Epoch 291/500\n",
      "21/21 [==============================] - 0s 4ms/step - loss: 17.3497 - val_loss: 1207.0035\n",
      "Epoch 292/500\n",
      "21/21 [==============================] - 0s 4ms/step - loss: 17.2667 - val_loss: 1207.6801\n",
      "Epoch 293/500\n",
      "21/21 [==============================] - 0s 4ms/step - loss: 17.1891 - val_loss: 1208.3373\n",
      "Epoch 294/500\n",
      "21/21 [==============================] - 0s 5ms/step - loss: 17.1166 - val_loss: 1208.9763\n",
      "Epoch 295/500\n",
      "21/21 [==============================] - 0s 5ms/step - loss: 17.0489 - val_loss: 1209.5969\n",
      "Epoch 296/500\n",
      "21/21 [==============================] - 0s 10ms/step - loss: 16.9856 - val_loss: 1210.1991\n",
      "Epoch 297/500\n",
      "21/21 [==============================] - 0s 5ms/step - loss: 16.9265 - val_loss: 1210.7843\n",
      "Epoch 298/500\n",
      "21/21 [==============================] - 0s 4ms/step - loss: 16.8715 - val_loss: 1211.3511\n",
      "Epoch 299/500\n",
      "21/21 [==============================] - 0s 4ms/step - loss: 16.8202 - val_loss: 1211.9005\n",
      "Epoch 300/500\n",
      "21/21 [==============================] - 0s 4ms/step - loss: 16.7724 - val_loss: 1212.4329\n",
      "Epoch 301/500\n",
      "21/21 [==============================] - 0s 5ms/step - loss: 16.7278 - val_loss: 1212.9482\n",
      "Epoch 302/500\n",
      "21/21 [==============================] - 0s 4ms/step - loss: 16.6864 - val_loss: 1213.4474\n",
      "Epoch 303/500\n",
      "21/21 [==============================] - 0s 4ms/step - loss: 16.6479 - val_loss: 1213.9299\n",
      "Epoch 304/500\n",
      "21/21 [==============================] - 0s 4ms/step - loss: 16.6120 - val_loss: 1214.3964\n",
      "Epoch 305/500\n",
      "21/21 [==============================] - 0s 5ms/step - loss: 16.5788 - val_loss: 1214.8473\n",
      "Epoch 306/500\n",
      "21/21 [==============================] - 0s 5ms/step - loss: 16.5479 - val_loss: 1215.2827\n",
      "Epoch 307/500\n",
      "21/21 [==============================] - 0s 5ms/step - loss: 16.5192 - val_loss: 1215.7034\n",
      "Epoch 308/500\n",
      "21/21 [==============================] - 0s 5ms/step - loss: 16.4926 - val_loss: 1216.1091\n",
      "Epoch 309/500\n",
      "21/21 [==============================] - 0s 5ms/step - loss: 16.4680 - val_loss: 1216.5001\n",
      "Epoch 310/500\n",
      "21/21 [==============================] - 0s 5ms/step - loss: 16.4451 - val_loss: 1216.8773\n",
      "Epoch 311/500\n",
      "21/21 [==============================] - 0s 4ms/step - loss: 16.4239 - val_loss: 1217.2405\n",
      "Epoch 312/500\n",
      "21/21 [==============================] - 0s 4ms/step - loss: 16.4043 - val_loss: 1217.5903\n",
      "Epoch 313/500\n",
      "21/21 [==============================] - 0s 4ms/step - loss: 16.3862 - val_loss: 1217.9268\n",
      "Epoch 314/500\n",
      "21/21 [==============================] - 0s 5ms/step - loss: 16.3694 - val_loss: 1218.2505\n",
      "Epoch 315/500\n",
      "21/21 [==============================] - 0s 5ms/step - loss: 16.3539 - val_loss: 1218.5620\n",
      "Epoch 316/500\n",
      "21/21 [==============================] - 0s 5ms/step - loss: 16.3396 - val_loss: 1218.8611\n",
      "Epoch 317/500\n",
      "21/21 [==============================] - 0s 5ms/step - loss: 16.3263 - val_loss: 1219.1484\n",
      "Epoch 318/500\n",
      "21/21 [==============================] - 0s 4ms/step - loss: 16.3142 - val_loss: 1219.4246\n",
      "Epoch 319/500\n",
      "21/21 [==============================] - 0s 4ms/step - loss: 16.3029 - val_loss: 1219.6890\n",
      "Epoch 320/500\n",
      "21/21 [==============================] - 0s 9ms/step - loss: 16.2924 - val_loss: 1219.9429\n",
      "Epoch 321/500\n",
      "21/21 [==============================] - 0s 5ms/step - loss: 16.2828 - val_loss: 1220.1862\n",
      "Epoch 322/500\n",
      "21/21 [==============================] - 0s 5ms/step - loss: 16.2740 - val_loss: 1220.4188\n",
      "Epoch 323/500\n",
      "21/21 [==============================] - 0s 4ms/step - loss: 16.2659 - val_loss: 1220.6421\n",
      "Epoch 324/500\n",
      "21/21 [==============================] - 0s 4ms/step - loss: 16.2584 - val_loss: 1220.8556\n",
      "Epoch 325/500\n",
      "21/21 [==============================] - 0s 4ms/step - loss: 16.2514 - val_loss: 1221.0596\n",
      "Epoch 326/500\n",
      "21/21 [==============================] - 0s 4ms/step - loss: 16.2451 - val_loss: 1221.2546\n",
      "Epoch 327/500\n",
      "21/21 [==============================] - 0s 4ms/step - loss: 16.2393 - val_loss: 1221.4412\n",
      "Epoch 328/500\n",
      "21/21 [==============================] - 0s 4ms/step - loss: 16.2339 - val_loss: 1221.6189\n",
      "Epoch 329/500\n",
      "21/21 [==============================] - 0s 5ms/step - loss: 16.2290 - val_loss: 1221.7891\n",
      "Epoch 330/500\n",
      "21/21 [==============================] - 0s 4ms/step - loss: 16.2244 - val_loss: 1221.9512\n",
      "Epoch 331/500\n",
      "21/21 [==============================] - 0s 5ms/step - loss: 16.2203 - val_loss: 1222.1055\n",
      "Epoch 332/500\n",
      "21/21 [==============================] - 0s 5ms/step - loss: 16.2165 - val_loss: 1222.2524\n",
      "Epoch 333/500\n",
      "21/21 [==============================] - 0s 4ms/step - loss: 16.2130 - val_loss: 1222.3926\n",
      "Epoch 334/500\n",
      "21/21 [==============================] - 0s 4ms/step - loss: 16.2098 - val_loss: 1222.5259\n",
      "Epoch 335/500\n",
      "21/21 [==============================] - 0s 4ms/step - loss: 16.2069 - val_loss: 1222.6527\n",
      "Epoch 336/500\n",
      "21/21 [==============================] - 0s 5ms/step - loss: 16.2042 - val_loss: 1222.7731\n",
      "Epoch 337/500\n",
      "21/21 [==============================] - 0s 5ms/step - loss: 16.2018 - val_loss: 1222.8872\n",
      "Epoch 338/500\n",
      "21/21 [==============================] - 0s 4ms/step - loss: 16.1996 - val_loss: 1222.9958\n",
      "Epoch 339/500\n",
      "21/21 [==============================] - 0s 4ms/step - loss: 16.1976 - val_loss: 1223.0989\n",
      "Epoch 340/500\n",
      "21/21 [==============================] - 0s 4ms/step - loss: 16.1958 - val_loss: 1223.1965\n",
      "Epoch 341/500\n",
      "21/21 [==============================] - 0s 5ms/step - loss: 16.1941 - val_loss: 1223.2891\n",
      "Epoch 342/500\n",
      "21/21 [==============================] - 0s 9ms/step - loss: 16.1926 - val_loss: 1223.3766\n",
      "Epoch 343/500\n",
      "21/21 [==============================] - 0s 6ms/step - loss: 16.1913 - val_loss: 1223.4598\n",
      "Epoch 344/500\n",
      "21/21 [==============================] - 0s 5ms/step - loss: 16.1901 - val_loss: 1223.5382\n",
      "Epoch 345/500\n",
      "21/21 [==============================] - 0s 4ms/step - loss: 16.1890 - val_loss: 1223.6125\n",
      "Epoch 346/500\n",
      "21/21 [==============================] - 0s 5ms/step - loss: 16.1880 - val_loss: 1223.6827\n",
      "Epoch 347/500\n",
      "21/21 [==============================] - 0s 4ms/step - loss: 16.1871 - val_loss: 1223.7489\n",
      "Epoch 348/500\n",
      "21/21 [==============================] - 0s 4ms/step - loss: 16.1864 - val_loss: 1223.8118\n",
      "Epoch 349/500\n",
      "21/21 [==============================] - 0s 4ms/step - loss: 16.1856 - val_loss: 1223.8706\n",
      "Epoch 350/500\n",
      "21/21 [==============================] - 0s 5ms/step - loss: 16.1851 - val_loss: 1223.9263\n",
      "Epoch 351/500\n",
      "21/21 [==============================] - 0s 4ms/step - loss: 16.1845 - val_loss: 1223.9785\n",
      "Epoch 352/500\n",
      "21/21 [==============================] - 0s 5ms/step - loss: 16.1841 - val_loss: 1224.0280\n",
      "Epoch 353/500\n",
      "21/21 [==============================] - 0s 5ms/step - loss: 16.1837 - val_loss: 1224.0746\n",
      "Epoch 354/500\n",
      "21/21 [==============================] - 0s 5ms/step - loss: 16.1834 - val_loss: 1224.1176\n",
      "Epoch 355/500\n",
      "21/21 [==============================] - 0s 4ms/step - loss: 16.1832 - val_loss: 1224.1588\n",
      "Epoch 356/500\n",
      "21/21 [==============================] - 0s 4ms/step - loss: 16.1830 - val_loss: 1224.1970\n",
      "Epoch 357/500\n",
      "21/21 [==============================] - 0s 4ms/step - loss: 16.1828 - val_loss: 1224.2334\n",
      "Epoch 358/500\n",
      "21/21 [==============================] - 0s 9ms/step - loss: 16.1827 - val_loss: 1224.2675\n",
      "Epoch 359/500\n",
      "21/21 [==============================] - 0s 5ms/step - loss: 16.1827 - val_loss: 1224.2992\n",
      "Epoch 360/500\n",
      "21/21 [==============================] - 0s 5ms/step - loss: 16.1826 - val_loss: 1224.3290\n",
      "Epoch 361/500\n",
      "21/21 [==============================] - 0s 5ms/step - loss: 16.1827 - val_loss: 1224.3567\n",
      "Epoch 362/500\n",
      "21/21 [==============================] - 0s 5ms/step - loss: 16.1827 - val_loss: 1224.3828\n",
      "Epoch 363/500\n",
      "21/21 [==============================] - 0s 5ms/step - loss: 16.1828 - val_loss: 1224.4073\n",
      "Epoch 364/500\n",
      "21/21 [==============================] - 0s 5ms/step - loss: 16.1829 - val_loss: 1224.4302\n",
      "Epoch 365/500\n",
      "21/21 [==============================] - 0s 5ms/step - loss: 16.1830 - val_loss: 1224.4512\n",
      "Epoch 366/500\n",
      "21/21 [==============================] - 0s 5ms/step - loss: 16.1832 - val_loss: 1224.4708\n",
      "Epoch 367/500\n",
      "21/21 [==============================] - 0s 5ms/step - loss: 16.1834 - val_loss: 1224.4894\n",
      "Epoch 368/500\n",
      "21/21 [==============================] - 0s 4ms/step - loss: 16.1836 - val_loss: 1224.5062\n",
      "Epoch 369/500\n",
      "21/21 [==============================] - 0s 5ms/step - loss: 16.1838 - val_loss: 1224.5221\n",
      "Epoch 370/500\n",
      "21/21 [==============================] - 0s 4ms/step - loss: 16.1841 - val_loss: 1224.5370\n",
      "Epoch 371/500\n",
      "21/21 [==============================] - 0s 4ms/step - loss: 16.1843 - val_loss: 1224.5505\n",
      "Epoch 372/500\n",
      "21/21 [==============================] - 0s 5ms/step - loss: 16.1846 - val_loss: 1224.5634\n",
      "Epoch 373/500\n",
      "21/21 [==============================] - 0s 5ms/step - loss: 16.1849 - val_loss: 1224.5750\n",
      "Epoch 374/500\n",
      "21/21 [==============================] - 0s 4ms/step - loss: 16.1852 - val_loss: 1224.5856\n",
      "Epoch 375/500\n",
      "21/21 [==============================] - 0s 4ms/step - loss: 16.1855 - val_loss: 1224.5957\n",
      "Epoch 376/500\n",
      "21/21 [==============================] - 0s 4ms/step - loss: 16.1859 - val_loss: 1224.6047\n",
      "Epoch 377/500\n",
      "21/21 [==============================] - 0s 4ms/step - loss: 16.1862 - val_loss: 1224.6133\n",
      "Epoch 378/500\n",
      "21/21 [==============================] - 0s 5ms/step - loss: 16.1866 - val_loss: 1224.6212\n",
      "Epoch 379/500\n",
      "21/21 [==============================] - 0s 10ms/step - loss: 16.1869 - val_loss: 1224.6281\n",
      "Epoch 380/500\n",
      "21/21 [==============================] - 0s 5ms/step - loss: 16.1873 - val_loss: 1224.6340\n",
      "Epoch 381/500\n",
      "21/21 [==============================] - 0s 5ms/step - loss: 16.1877 - val_loss: 1224.6404\n",
      "Epoch 382/500\n",
      "21/21 [==============================] - 0s 4ms/step - loss: 16.1881 - val_loss: 1224.6460\n",
      "Epoch 383/500\n",
      "21/21 [==============================] - 0s 4ms/step - loss: 16.1884 - val_loss: 1224.6509\n",
      "Epoch 384/500\n",
      "21/21 [==============================] - 0s 4ms/step - loss: 16.1889 - val_loss: 1224.6552\n",
      "Epoch 385/500\n",
      "21/21 [==============================] - 0s 4ms/step - loss: 16.1892 - val_loss: 1224.6591\n",
      "Epoch 386/500\n",
      "21/21 [==============================] - 0s 5ms/step - loss: 16.1897 - val_loss: 1224.6628\n",
      "Epoch 387/500\n",
      "21/21 [==============================] - 0s 5ms/step - loss: 16.1901 - val_loss: 1224.6658\n",
      "Epoch 388/500\n",
      "21/21 [==============================] - 0s 5ms/step - loss: 16.1905 - val_loss: 1224.6693\n",
      "Epoch 389/500\n",
      "21/21 [==============================] - 0s 5ms/step - loss: 16.1909 - val_loss: 1224.6719\n",
      "Epoch 390/500\n",
      "21/21 [==============================] - 0s 4ms/step - loss: 16.1913 - val_loss: 1224.6743\n",
      "Epoch 391/500\n",
      "21/21 [==============================] - 0s 4ms/step - loss: 16.1917 - val_loss: 1224.6764\n",
      "Epoch 392/500\n",
      "21/21 [==============================] - 0s 4ms/step - loss: 16.1921 - val_loss: 1224.6781\n",
      "Epoch 393/500\n",
      "21/21 [==============================] - 0s 5ms/step - loss: 16.1926 - val_loss: 1224.6797\n",
      "Epoch 394/500\n",
      "21/21 [==============================] - 0s 5ms/step - loss: 16.1930 - val_loss: 1224.6810\n",
      "Epoch 395/500\n",
      "21/21 [==============================] - 0s 5ms/step - loss: 16.1934 - val_loss: 1224.6824\n",
      "Epoch 396/500\n",
      "21/21 [==============================] - 0s 4ms/step - loss: 16.1938 - val_loss: 1224.6832\n",
      "Epoch 397/500\n",
      "21/21 [==============================] - 0s 4ms/step - loss: 16.1943 - val_loss: 1224.6840\n",
      "Epoch 398/500\n",
      "21/21 [==============================] - 0s 4ms/step - loss: 16.1947 - val_loss: 1224.6851\n",
      "Epoch 399/500\n",
      "21/21 [==============================] - 0s 5ms/step - loss: 16.1951 - val_loss: 1224.6853\n",
      "Epoch 400/500\n",
      "21/21 [==============================] - 0s 5ms/step - loss: 16.1955 - val_loss: 1224.6857\n",
      "Epoch 401/500\n",
      "21/21 [==============================] - 0s 9ms/step - loss: 16.1959 - val_loss: 1224.6858\n",
      "Epoch 402/500\n",
      "21/21 [==============================] - 0s 5ms/step - loss: 16.1964 - val_loss: 1224.6860\n",
      "Epoch 403/500\n",
      "21/21 [==============================] - 0s 5ms/step - loss: 16.1968 - val_loss: 1224.6864\n",
      "Epoch 404/500\n",
      "21/21 [==============================] - 0s 5ms/step - loss: 16.1972 - val_loss: 1224.6860\n",
      "Epoch 405/500\n",
      "21/21 [==============================] - 0s 5ms/step - loss: 16.1976 - val_loss: 1224.6859\n",
      "Epoch 406/500\n",
      "21/21 [==============================] - 0s 5ms/step - loss: 16.1980 - val_loss: 1224.6859\n",
      "Epoch 407/500\n",
      "21/21 [==============================] - 0s 4ms/step - loss: 16.1984 - val_loss: 1224.6855\n",
      "Epoch 408/500\n",
      "21/21 [==============================] - 0s 4ms/step - loss: 16.1988 - val_loss: 1224.6853\n",
      "Epoch 409/500\n",
      "21/21 [==============================] - 0s 5ms/step - loss: 16.1992 - val_loss: 1224.6852\n",
      "Epoch 410/500\n",
      "21/21 [==============================] - 0s 5ms/step - loss: 16.1996 - val_loss: 1224.6851\n",
      "Epoch 411/500\n",
      "21/21 [==============================] - 0s 4ms/step - loss: 16.2000 - val_loss: 1224.6843\n",
      "Epoch 412/500\n",
      "21/21 [==============================] - 0s 4ms/step - loss: 16.2004 - val_loss: 1224.6836\n",
      "Epoch 413/500\n",
      "21/21 [==============================] - 0s 4ms/step - loss: 16.2008 - val_loss: 1224.6830\n",
      "Epoch 414/500\n",
      "21/21 [==============================] - 0s 5ms/step - loss: 16.2012 - val_loss: 1224.6825\n",
      "Epoch 415/500\n",
      "21/21 [==============================] - 0s 5ms/step - loss: 16.2016 - val_loss: 1224.6819\n",
      "Epoch 416/500\n",
      "21/21 [==============================] - 0s 4ms/step - loss: 16.2019 - val_loss: 1224.6812\n",
      "Epoch 417/500\n",
      "21/21 [==============================] - 0s 4ms/step - loss: 16.2023 - val_loss: 1224.6805\n",
      "Epoch 418/500\n",
      "21/21 [==============================] - 0s 4ms/step - loss: 16.2027 - val_loss: 1224.6797\n",
      "Epoch 419/500\n",
      "21/21 [==============================] - 0s 4ms/step - loss: 16.2031 - val_loss: 1224.6790\n",
      "Epoch 420/500\n",
      "21/21 [==============================] - 0s 5ms/step - loss: 16.2034 - val_loss: 1224.6782\n",
      "Epoch 421/500\n",
      "21/21 [==============================] - 0s 5ms/step - loss: 16.2038 - val_loss: 1224.6779\n",
      "Epoch 422/500\n",
      "21/21 [==============================] - 0s 10ms/step - loss: 16.2041 - val_loss: 1224.6770\n",
      "Epoch 423/500\n",
      "21/21 [==============================] - 0s 5ms/step - loss: 16.2045 - val_loss: 1224.6763\n",
      "Epoch 424/500\n",
      "21/21 [==============================] - 0s 5ms/step - loss: 16.2048 - val_loss: 1224.6750\n",
      "Epoch 425/500\n",
      "21/21 [==============================] - 0s 4ms/step - loss: 16.2052 - val_loss: 1224.6742\n",
      "Epoch 426/500\n",
      "21/21 [==============================] - 0s 4ms/step - loss: 16.2055 - val_loss: 1224.6735\n",
      "Epoch 427/500\n",
      "21/21 [==============================] - 0s 4ms/step - loss: 16.2058 - val_loss: 1224.6730\n",
      "Epoch 428/500\n",
      "21/21 [==============================] - 0s 5ms/step - loss: 16.2062 - val_loss: 1224.6719\n",
      "Epoch 429/500\n",
      "21/21 [==============================] - 0s 5ms/step - loss: 16.2066 - val_loss: 1224.6709\n",
      "Epoch 430/500\n",
      "21/21 [==============================] - 0s 4ms/step - loss: 16.2068 - val_loss: 1224.6703\n",
      "Epoch 431/500\n",
      "21/21 [==============================] - 0s 5ms/step - loss: 16.2072 - val_loss: 1224.6692\n",
      "Epoch 432/500\n",
      "21/21 [==============================] - 0s 5ms/step - loss: 16.2075 - val_loss: 1224.6682\n",
      "Epoch 433/500\n",
      "21/21 [==============================] - 0s 5ms/step - loss: 16.2078 - val_loss: 1224.6674\n",
      "Epoch 434/500\n",
      "21/21 [==============================] - 0s 5ms/step - loss: 16.2081 - val_loss: 1224.6665\n",
      "Epoch 435/500\n",
      "21/21 [==============================] - 0s 4ms/step - loss: 16.2085 - val_loss: 1224.6654\n",
      "Epoch 436/500\n",
      "21/21 [==============================] - 0s 4ms/step - loss: 16.2088 - val_loss: 1224.6646\n",
      "Epoch 437/500\n",
      "21/21 [==============================] - 0s 4ms/step - loss: 16.2090 - val_loss: 1224.6641\n",
      "Epoch 438/500\n",
      "21/21 [==============================] - 0s 5ms/step - loss: 16.2094 - val_loss: 1224.6632\n",
      "Epoch 439/500\n",
      "21/21 [==============================] - 0s 4ms/step - loss: 16.2097 - val_loss: 1224.6622\n",
      "Epoch 440/500\n",
      "21/21 [==============================] - 0s 4ms/step - loss: 16.2099 - val_loss: 1224.6616\n",
      "Epoch 441/500\n",
      "21/21 [==============================] - 0s 5ms/step - loss: 16.2102 - val_loss: 1224.6611\n",
      "Epoch 442/500\n",
      "21/21 [==============================] - 0s 5ms/step - loss: 16.2105 - val_loss: 1224.6604\n",
      "Epoch 443/500\n",
      "21/21 [==============================] - 0s 8ms/step - loss: 16.2107 - val_loss: 1224.6594\n",
      "Epoch 444/500\n",
      "21/21 [==============================] - 0s 5ms/step - loss: 16.2110 - val_loss: 1224.6586\n",
      "Epoch 445/500\n",
      "21/21 [==============================] - 0s 5ms/step - loss: 16.2113 - val_loss: 1224.6580\n",
      "Epoch 446/500\n",
      "21/21 [==============================] - 0s 5ms/step - loss: 16.2116 - val_loss: 1224.6573\n",
      "Epoch 447/500\n",
      "21/21 [==============================] - 0s 5ms/step - loss: 16.2118 - val_loss: 1224.6562\n",
      "Epoch 448/500\n",
      "21/21 [==============================] - 0s 4ms/step - loss: 16.2121 - val_loss: 1224.6556\n",
      "Epoch 449/500\n",
      "21/21 [==============================] - 0s 4ms/step - loss: 16.2123 - val_loss: 1224.6548\n",
      "Epoch 450/500\n",
      "21/21 [==============================] - 0s 4ms/step - loss: 16.2126 - val_loss: 1224.6539\n",
      "Epoch 451/500\n",
      "21/21 [==============================] - 0s 5ms/step - loss: 16.2128 - val_loss: 1224.6536\n",
      "Epoch 452/500\n",
      "21/21 [==============================] - 0s 5ms/step - loss: 16.2131 - val_loss: 1224.6528\n",
      "Epoch 453/500\n",
      "21/21 [==============================] - 0s 5ms/step - loss: 16.2133 - val_loss: 1224.6522\n",
      "Epoch 454/500\n",
      "21/21 [==============================] - 0s 4ms/step - loss: 16.2135 - val_loss: 1224.6515\n",
      "Epoch 455/500\n",
      "21/21 [==============================] - 0s 4ms/step - loss: 16.2138 - val_loss: 1224.6511\n",
      "Epoch 456/500\n",
      "21/21 [==============================] - 0s 4ms/step - loss: 16.2140 - val_loss: 1224.6504\n",
      "Epoch 457/500\n",
      "21/21 [==============================] - 0s 6ms/step - loss: 16.2142 - val_loss: 1224.6497\n",
      "Epoch 458/500\n",
      "21/21 [==============================] - 0s 6ms/step - loss: 16.2145 - val_loss: 1224.6489\n",
      "Epoch 459/500\n",
      "21/21 [==============================] - 0s 5ms/step - loss: 16.2147 - val_loss: 1224.6487\n",
      "Epoch 460/500\n",
      "21/21 [==============================] - 0s 5ms/step - loss: 16.2149 - val_loss: 1224.6481\n",
      "Epoch 461/500\n",
      "21/21 [==============================] - 0s 5ms/step - loss: 16.2151 - val_loss: 1224.6475\n",
      "Epoch 462/500\n",
      "21/21 [==============================] - 0s 9ms/step - loss: 16.2153 - val_loss: 1224.6469\n",
      "Epoch 463/500\n",
      "21/21 [==============================] - 0s 6ms/step - loss: 16.2155 - val_loss: 1224.6465\n",
      "Epoch 464/500\n",
      "21/21 [==============================] - 0s 5ms/step - loss: 16.2157 - val_loss: 1224.6460\n",
      "Epoch 465/500\n",
      "21/21 [==============================] - 0s 4ms/step - loss: 16.2159 - val_loss: 1224.6459\n",
      "Epoch 466/500\n",
      "21/21 [==============================] - 0s 4ms/step - loss: 16.2161 - val_loss: 1224.6449\n",
      "Epoch 467/500\n",
      "21/21 [==============================] - 0s 4ms/step - loss: 16.2163 - val_loss: 1224.6445\n",
      "Epoch 468/500\n",
      "21/21 [==============================] - 0s 4ms/step - loss: 16.2165 - val_loss: 1224.6438\n",
      "Epoch 469/500\n",
      "21/21 [==============================] - 0s 5ms/step - loss: 16.2167 - val_loss: 1224.6436\n",
      "Epoch 470/500\n",
      "21/21 [==============================] - 0s 5ms/step - loss: 16.2168 - val_loss: 1224.6429\n",
      "Epoch 471/500\n",
      "21/21 [==============================] - 0s 5ms/step - loss: 16.2171 - val_loss: 1224.6426\n",
      "Epoch 472/500\n",
      "21/21 [==============================] - 0s 5ms/step - loss: 16.2172 - val_loss: 1224.6418\n",
      "Epoch 473/500\n",
      "21/21 [==============================] - 0s 5ms/step - loss: 16.2174 - val_loss: 1224.6415\n",
      "Epoch 474/500\n",
      "21/21 [==============================] - 0s 5ms/step - loss: 16.2175 - val_loss: 1224.6409\n",
      "Epoch 475/500\n",
      "21/21 [==============================] - 0s 5ms/step - loss: 16.2177 - val_loss: 1224.6400\n",
      "Epoch 476/500\n",
      "21/21 [==============================] - 0s 5ms/step - loss: 16.2179 - val_loss: 1224.6400\n",
      "Epoch 477/500\n",
      "21/21 [==============================] - 0s 4ms/step - loss: 16.2181 - val_loss: 1224.6396\n",
      "Epoch 478/500\n",
      "21/21 [==============================] - 0s 4ms/step - loss: 16.2182 - val_loss: 1224.6389\n",
      "Epoch 479/500\n",
      "21/21 [==============================] - 0s 4ms/step - loss: 16.2184 - val_loss: 1224.6383\n",
      "Epoch 480/500\n",
      "21/21 [==============================] - 0s 4ms/step - loss: 16.2185 - val_loss: 1224.6379\n",
      "Epoch 481/500\n",
      "21/21 [==============================] - 0s 5ms/step - loss: 16.2186 - val_loss: 1224.6371\n",
      "Epoch 482/500\n",
      "21/21 [==============================] - 0s 7ms/step - loss: 16.2188 - val_loss: 1224.6368\n",
      "Epoch 483/500\n",
      "21/21 [==============================] - 0s 5ms/step - loss: 16.2190 - val_loss: 1224.6361\n",
      "Epoch 484/500\n",
      "21/21 [==============================] - 0s 5ms/step - loss: 16.2191 - val_loss: 1224.6359\n",
      "Epoch 485/500\n",
      "21/21 [==============================] - 0s 5ms/step - loss: 16.2193 - val_loss: 1224.6357\n",
      "Epoch 486/500\n",
      "21/21 [==============================] - 0s 5ms/step - loss: 16.2194 - val_loss: 1224.6355\n",
      "Epoch 487/500\n",
      "21/21 [==============================] - 0s 4ms/step - loss: 16.2195 - val_loss: 1224.6349\n",
      "Epoch 488/500\n",
      "21/21 [==============================] - 0s 4ms/step - loss: 16.2197 - val_loss: 1224.6344\n",
      "Epoch 489/500\n",
      "21/21 [==============================] - 0s 4ms/step - loss: 16.2198 - val_loss: 1224.6343\n",
      "Epoch 490/500\n",
      "21/21 [==============================] - 0s 5ms/step - loss: 16.2199 - val_loss: 1224.6340\n",
      "Epoch 491/500\n",
      "21/21 [==============================] - 0s 5ms/step - loss: 16.2201 - val_loss: 1224.6338\n",
      "Epoch 492/500\n",
      "21/21 [==============================] - 0s 5ms/step - loss: 16.2202 - val_loss: 1224.6337\n",
      "Epoch 493/500\n",
      "21/21 [==============================] - 0s 5ms/step - loss: 16.2203 - val_loss: 1224.6332\n",
      "Epoch 494/500\n",
      "21/21 [==============================] - 0s 5ms/step - loss: 16.2204 - val_loss: 1224.6328\n",
      "Epoch 495/500\n",
      "21/21 [==============================] - 0s 4ms/step - loss: 16.2206 - val_loss: 1224.6322\n",
      "Epoch 496/500\n",
      "21/21 [==============================] - 0s 4ms/step - loss: 16.2207 - val_loss: 1224.6320\n",
      "Epoch 497/500\n",
      "21/21 [==============================] - 0s 4ms/step - loss: 16.2208 - val_loss: 1224.6316\n",
      "Epoch 498/500\n",
      "21/21 [==============================] - 0s 4ms/step - loss: 16.2209 - val_loss: 1224.6312\n",
      "Epoch 499/500\n",
      "21/21 [==============================] - 0s 5ms/step - loss: 16.2210 - val_loss: 1224.6310\n",
      "Epoch 500/500\n",
      "21/21 [==============================] - 0s 5ms/step - loss: 16.2211 - val_loss: 1224.6310\n"
     ]
    }
   ],
   "source": [
    "C0 = tf.Variable(89.3180, name=\"C0\", trainable=True, dtype=tf.float32)\n",
    "K0 = tf.Variable(-0.0010, name=\"K0\", trainable=True, dtype=tf.float32)\n",
    "K1 = tf.Variable(0.0001, name=\"K1\", trainable=True, dtype=tf.float32)\n",
    "a = tf.Variable(0.0000, name=\"a\", trainable=True, dtype=tf.float32)\n",
    "b = tf.Variable(-0.0204, name=\"b\", trainable=True, dtype=tf.float32)\n",
    "c = tf.Variable(2.2194, name=\"c\", trainable=True, dtype=tf.float32)\n",
    "\n",
    "splitr = 0.8\n",
    "\n",
    "\n",
    "def loss_fn(y_true, y_pred):\n",
    "    squared_difference = tf.square(y_true[:, 0] - y_pred[:, 0])\n",
    "    #squared_difference2 = tf.square(y_true[:, 2]-y_pred[:, 2])\n",
    "    #squared_difference1 = tf.square(y_true[:, 1]-y_pred[:, 1])\n",
    "    epsilon = 1\n",
    "    squared_difference3 = tf.square(\n",
    "        y_pred[:, 1] - (\n",
    "            y_pred[:, 0] * (\n",
    "                K0 - K1 * (\n",
    "                    9 * a * tf.math.log((y_pred[:, 0] + epsilon) / C0) / (K0 - K1 * c)**2 +\n",
    "                    4 * b * tf.math.log((y_pred[:, 0] + epsilon) / C0) / (K0 - K1 * c) + c\n",
    "                )\n",
    "            )\n",
    "        )\n",
    "    )\n",
    "    return tf.reduce_mean(squared_difference, axis=-1) + 0.2*tf.reduce_mean(squared_difference3, axis=-1)\n",
    "model = Sequential()\n",
    "model.add(LSTM(100, input_shape=(trainX.shape[1], trainX.shape[2])))\n",
    "model.add(Dense(60))\n",
    "model.compile(loss=loss_fn, optimizer='adam')\n",
    "history = model.fit(trainX[:int(splitr*trainX.shape[0])], trainy[:int(splitr*trainX.shape[0])], epochs=500, batch_size=64, validation_data=(trainX[int(splitr*trainX.shape[0]):trainX.shape[0]], trainy[int(splitr*trainX.shape[0]):trainX.shape[0]]), shuffle=False)"
   ]
  },
  {
   "cell_type": "code",
   "execution_count": 19,
   "metadata": {
    "colab": {
     "base_uri": "https://localhost:8080/"
    },
    "id": "yJL101rPyuoT",
    "outputId": "239ff2b1-c186-423a-d316-939dfdd7c793"
   },
   "outputs": [
    {
     "name": "stdout",
     "output_type": "stream",
     "text": [
      "1/1 [==============================] - 1s 530ms/step\n"
     ]
    }
   ],
   "source": [
    "forecast_without_mc = forecastX\n",
    "yhat_without_mc = model.predict(forecast_without_mc) # Step Ahead Prediction\n",
    "forecast_without_mc = forecast_without_mc.reshape((forecast_without_mc.shape[0], forecast_without_mc.shape[2])) # Historical Input"
   ]
  },
  {
   "cell_type": "code",
   "execution_count": 20,
   "metadata": {
    "colab": {
     "base_uri": "https://localhost:8080/"
    },
    "id": "g9dQELcJ8wbp",
    "outputId": "4dc7671b-b1a8-48d5-8744-a86f98446109"
   },
   "outputs": [
    {
     "data": {
      "text/plain": [
       "(1, 1, 251)"
      ]
     },
     "execution_count": 20,
     "metadata": {},
     "output_type": "execute_result"
    }
   ],
   "source": [
    "forecastX.shape"
   ]
  },
  {
   "cell_type": "code",
   "execution_count": 21,
   "metadata": {
    "colab": {
     "base_uri": "https://localhost:8080/"
    },
    "id": "IS2kyIKG1Kbr",
    "outputId": "f31b3485-8e26-452f-9298-ea8bf7e80ad1"
   },
   "outputs": [
    {
     "data": {
      "text/plain": [
       "(1, 251)"
      ]
     },
     "execution_count": 21,
     "metadata": {},
     "output_type": "execute_result"
    }
   ],
   "source": [
    "forecast_without_mc.shape"
   ]
  },
  {
   "cell_type": "code",
   "execution_count": 22,
   "metadata": {
    "id": "0u6VIzaDyuoT"
   },
   "outputs": [],
   "source": [
    "inv_yhat_without_mc = np.concatenate((forecast_without_mc, yhat_without_mc), axis=1) # Concatenation of predicted values with Historical Data\n",
    "#inv_yhat_without_mc = scaler.inverse_transform(inv_yhat_without_mc) # Transform labels back to original encoding"
   ]
  },
  {
   "cell_type": "code",
   "execution_count": 23,
   "metadata": {
    "colab": {
     "base_uri": "https://localhost:8080/"
    },
    "id": "EUEcw0LX07oU",
    "outputId": "cfc32397-9c37-4b43-d087-584bb31c3dcc"
   },
   "outputs": [
    {
     "data": {
      "text/plain": [
       "(1, 311)"
      ]
     },
     "execution_count": 23,
     "metadata": {},
     "output_type": "execute_result"
    }
   ],
   "source": [
    "inv_yhat_without_mc.shape"
   ]
  },
  {
   "cell_type": "code",
   "execution_count": 24,
   "metadata": {
    "id": "31OWVbSh_305"
   },
   "outputs": [],
   "source": [
    "fforecast = inv_yhat_without_mc[:,-300:]"
   ]
  },
  {
   "cell_type": "code",
   "execution_count": 25,
   "metadata": {},
   "outputs": [
    {
     "data": {
      "text/plain": [
       "(1, 300)"
      ]
     },
     "execution_count": 25,
     "metadata": {},
     "output_type": "execute_result"
    }
   ],
   "source": [
    "fforecast.shape"
   ]
  },
  {
   "cell_type": "code",
   "execution_count": 26,
   "metadata": {
    "id": "BlpGH2FOAiRF"
   },
   "outputs": [],
   "source": [
    "final_forecast = fforecast[:,0:300:3]"
   ]
  },
  {
   "cell_type": "code",
   "execution_count": 27,
   "metadata": {},
   "outputs": [
    {
     "data": {
      "text/plain": [
       "(1, 300)"
      ]
     },
     "execution_count": 27,
     "metadata": {},
     "output_type": "execute_result"
    }
   ],
   "source": [
    "fforecast.shape"
   ]
  },
  {
   "cell_type": "code",
   "execution_count": 28,
   "metadata": {
    "id": "CXkgkj_LBk_t"
   },
   "outputs": [],
   "source": [
    "# code to replace all negative value with 0\n",
    "final_forecast[final_forecast<0] = 0"
   ]
  },
  {
   "cell_type": "code",
   "execution_count": 29,
   "metadata": {},
   "outputs": [
    {
     "data": {
      "text/plain": [
       "array([[7.11573529e+01, 7.10985294e+01, 7.10397059e+01, 6.98808824e+01,\n",
       "        6.95210588e+01, 6.85264706e+01, 7.76552277e+01, 2.51280129e-01,\n",
       "        0.00000000e+00, 7.14449644e-01, 0.00000000e+00, 0.00000000e+00,\n",
       "        0.00000000e+00, 7.16556233e+01, 7.16228501e+01, 7.15821895e+01,\n",
       "        7.15233660e+01, 7.14645425e+01, 7.14057189e+01, 7.13468954e+01,\n",
       "        7.12880719e+01, 7.12296484e+01, 7.11704248e+01, 7.11116013e+01,\n",
       "        7.10532778e+01, 7.09939543e+01, 7.09351307e+01, 7.08526144e+01,\n",
       "        7.07359673e+01, 7.06173203e+01, 7.04996732e+01, 7.03820261e+01,\n",
       "        7.02643791e+01, 7.01467320e+01, 7.00290850e+01, 6.99114379e+01,\n",
       "        6.97937908e+01, 6.96761438e+01, 6.95614947e+01, 6.94704248e+01,\n",
       "        2.11114660e-02, 0.00000000e+00, 0.00000000e+00, 0.00000000e+00,\n",
       "        5.72564160e-02, 0.00000000e+00, 7.19315648e-01, 7.10070261e+01,\n",
       "        7.09482026e+01, 7.08787582e+01, 7.07611111e+01, 7.06434641e+01,\n",
       "        7.05258170e+01, 7.04081699e+01, 7.02905229e+01, 7.01728758e+01,\n",
       "        7.00552288e+01, 6.99375817e+01, 6.98199346e+01, 6.97022876e+01,\n",
       "        6.95846405e+01, 6.94834967e+01, 7.34305626e+01, 7.30498903e+01,\n",
       "        7.26692180e+01, 7.22885457e+01, 7.19687885e+01, 7.18704692e+01,\n",
       "        7.17721499e+01, 7.16738305e+01, 7.15560457e+01, 0.00000000e+00,\n",
       "        0.00000000e+00, 7.38740616e+01, 0.00000000e+00, 6.08911810e-01,\n",
       "        2.32701850e-01, 0.00000000e+00, 0.00000000e+00, 0.00000000e+00,\n",
       "        5.18126755e+01, 5.29752970e-02, 0.00000000e+00, 2.03491569e-01,\n",
       "        0.00000000e+00, 0.00000000e+00, 0.00000000e+00, 5.82741439e-01,\n",
       "        0.00000000e+00, 1.64696336e-01, 2.63578534e-01, 0.00000000e+00,\n",
       "        0.00000000e+00, 4.78146881e-01, 3.29186559e-01, 2.79348850e-01,\n",
       "        0.00000000e+00, 0.00000000e+00, 4.81616914e-01, 0.00000000e+00]])"
      ]
     },
     "execution_count": 29,
     "metadata": {},
     "output_type": "execute_result"
    }
   ],
   "source": [
    "final_forecast"
   ]
  },
  {
   "cell_type": "code",
   "execution_count": 30,
   "metadata": {},
   "outputs": [
    {
     "data": {
      "text/plain": [
       "(1, 100)"
      ]
     },
     "execution_count": 30,
     "metadata": {},
     "output_type": "execute_result"
    }
   ],
   "source": [
    "final_forecast.shape"
   ]
  },
  {
   "cell_type": "code",
   "execution_count": 31,
   "metadata": {},
   "outputs": [
    {
     "data": {
      "text/plain": [
       "(100,)"
      ]
     },
     "execution_count": 31,
     "metadata": {},
     "output_type": "execute_result"
    }
   ],
   "source": [
    "test.shape"
   ]
  },
  {
   "cell_type": "code",
   "execution_count": 32,
   "metadata": {},
   "outputs": [],
   "source": [
    "training_set = np.array(training_set)\n",
    "test = np.array(test)\n",
    "final_forecast = np.array(final_forecast.squeeze(0))"
   ]
  },
  {
   "cell_type": "code",
   "execution_count": 33,
   "metadata": {},
   "outputs": [
    {
     "data": {
      "text/plain": [
       "array([65.52426471, 65.51446078, 65.50465686, 65.49485294, 65.48504902,\n",
       "       65.4752451 , 65.46544118, 65.45563725, 65.44583333, 65.43602941,\n",
       "       65.42622549, 65.41642157, 65.40661765, 65.39681373, 65.3870098 ,\n",
       "       65.37720588, 65.36740196, 65.35759804, 65.34779412, 65.3379902 ,\n",
       "       65.32818627, 65.31838235, 65.30857843, 65.29877451, 65.28897059,\n",
       "       65.27916667, 65.26936275, 65.25955882, 65.2497549 , 65.23995098,\n",
       "       65.23014706, 65.22034314, 65.21053922, 65.20073529, 65.19292205,\n",
       "       65.18527021, 65.17761836, 65.16996652, 65.16231468, 65.15466284,\n",
       "       65.147011  , 65.13935916, 65.13170732, 65.12405548, 65.11640363,\n",
       "       65.10875179, 65.10109995, 65.09344811, 65.08579627, 65.07814443,\n",
       "       65.07049259, 65.06284075, 65.0551889 , 65.04753706, 65.03988522,\n",
       "       65.03223338, 65.02458154, 65.0169297 , 65.00927786, 65.00162602,\n",
       "       64.99397418, 64.98632233, 64.97867049, 64.97101865, 64.96336681,\n",
       "       64.95571497, 64.94806313, 64.94041129, 64.93275945, 64.9251076 ,\n",
       "       64.91745576, 64.90980392, 64.90215208, 64.89450024, 64.8868484 ,\n",
       "       64.87919656, 64.87154472, 64.86389287, 64.85624103, 64.84858919,\n",
       "       64.84093735, 64.83328551, 64.82563367, 64.81798183, 64.81032999,\n",
       "       64.80267814, 64.7950263 , 64.78737446, 64.77972262, 64.77207078,\n",
       "       64.76441894, 64.7567671 , 64.74911526, 64.74146341, 64.73381157,\n",
       "       64.72615973, 64.71850789, 64.71085605, 64.70320421, 64.69555237])"
      ]
     },
     "execution_count": 33,
     "metadata": {},
     "output_type": "execute_result"
    }
   ],
   "source": [
    "test"
   ]
  },
  {
   "cell_type": "code",
   "execution_count": 34,
   "metadata": {},
   "outputs": [
    {
     "data": {
      "text/plain": [
       "(100,)"
      ]
     },
     "execution_count": 34,
     "metadata": {},
     "output_type": "execute_result"
    }
   ],
   "source": [
    "test.shape"
   ]
  },
  {
   "cell_type": "code",
   "execution_count": 35,
   "metadata": {},
   "outputs": [
    {
     "data": {
      "text/plain": [
       "(100,)"
      ]
     },
     "execution_count": 35,
     "metadata": {},
     "output_type": "execute_result"
    }
   ],
   "source": [
    "final_forecast.shape"
   ]
  },
  {
   "cell_type": "code",
   "execution_count": 36,
   "metadata": {},
   "outputs": [
    {
     "data": {
      "text/plain": [
       "(100,)"
      ]
     },
     "execution_count": 36,
     "metadata": {},
     "output_type": "execute_result"
    }
   ],
   "source": [
    "test.shape"
   ]
  },
  {
   "cell_type": "code",
   "execution_count": 37,
   "metadata": {},
   "outputs": [
    {
     "name": "stdout",
     "output_type": "stream",
     "text": [
      "41.266857679589286\n",
      "29.473547891520138\n"
     ]
    }
   ],
   "source": [
    "import math\n",
    "MSE = np.square(np.subtract(np.array(test),np.array(final_forecast))).mean()   \n",
    "rsme = math.sqrt(MSE)\n",
    "print(rsme)  \n",
    "MAE = np.abs(np.subtract(np.array(test),np.array(final_forecast))).mean()   \n",
    "mae = MAE\n",
    "print(mae)"
   ]
  }
 ],
 "metadata": {
  "colab": {
   "provenance": []
  },
  "kernelspec": {
   "display_name": "Python 3",
   "language": "python",
   "name": "python3"
  },
  "language_info": {
   "codemirror_mode": {
    "name": "ipython",
    "version": 3
   },
   "file_extension": ".py",
   "mimetype": "text/x-python",
   "name": "python",
   "nbconvert_exporter": "python",
   "pygments_lexer": "ipython3",
   "version": "3.9.13"
  }
 },
 "nbformat": 4,
 "nbformat_minor": 0
}
