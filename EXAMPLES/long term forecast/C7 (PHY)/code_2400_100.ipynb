{
 "cells": [
  {
   "cell_type": "markdown",
   "metadata": {
    "id": "pCGKeZ2gyuoQ"
   },
   "source": [
    "_Importing Required Libraries_"
   ]
  },
  {
   "cell_type": "code",
   "execution_count": 1,
   "metadata": {
    "colab": {
     "base_uri": "https://localhost:8080/"
    },
    "id": "A-6LN-zXiLcM",
    "outputId": "4de610a4-f8b8-4f49-c6c0-89de299ccedc"
   },
   "outputs": [
    {
     "name": "stdout",
     "output_type": "stream",
     "text": [
      "Requirement already satisfied: hampel in c:\\users\\anurag dutta\\appdata\\local\\packages\\pythonsoftwarefoundation.python.3.9_qbz5n2kfra8p0\\localcache\\local-packages\\python39\\site-packages (0.0.5)\n",
      "Requirement already satisfied: numpy in c:\\users\\anurag dutta\\appdata\\local\\packages\\pythonsoftwarefoundation.python.3.9_qbz5n2kfra8p0\\localcache\\local-packages\\python39\\site-packages (from hampel) (1.26.4)\n",
      "Requirement already satisfied: pandas in c:\\users\\anurag dutta\\appdata\\local\\packages\\pythonsoftwarefoundation.python.3.9_qbz5n2kfra8p0\\localcache\\local-packages\\python39\\site-packages (from hampel) (1.5.2)\n",
      "Requirement already satisfied: python-dateutil>=2.8.1 in c:\\users\\anurag dutta\\appdata\\local\\packages\\pythonsoftwarefoundation.python.3.9_qbz5n2kfra8p0\\localcache\\local-packages\\python39\\site-packages (from pandas->hampel) (2.8.2)\n",
      "Requirement already satisfied: pytz>=2020.1 in c:\\users\\anurag dutta\\appdata\\local\\packages\\pythonsoftwarefoundation.python.3.9_qbz5n2kfra8p0\\localcache\\local-packages\\python39\\site-packages (from pandas->hampel) (2023.3.post1)\n",
      "Requirement already satisfied: six>=1.5 in c:\\users\\anurag dutta\\appdata\\local\\packages\\pythonsoftwarefoundation.python.3.9_qbz5n2kfra8p0\\localcache\\local-packages\\python39\\site-packages (from python-dateutil>=2.8.1->pandas->hampel) (1.16.0)\n",
      "Note: you may need to restart the kernel to use updated packages.\n"
     ]
    },
    {
     "name": "stderr",
     "output_type": "stream",
     "text": [
      "\n",
      "[notice] A new release of pip is available: 24.2 -> 24.3.1\n",
      "[notice] To update, run: C:\\Users\\Anurag Dutta\\AppData\\Local\\Microsoft\\WindowsApps\\PythonSoftwareFoundation.Python.3.9_qbz5n2kfra8p0\\python.exe -m pip install --upgrade pip\n"
     ]
    }
   ],
   "source": [
    "pip install hampel"
   ]
  },
  {
   "cell_type": "code",
   "execution_count": 2,
   "metadata": {
    "id": "By_d9uXpaFvZ"
   },
   "outputs": [],
   "source": [
    "from keras.models import Sequential\n",
    "from keras.layers import Dense\n",
    "from keras.layers import LSTM\n",
    "from keras.layers import Dropout\n",
    "import keras\n",
    "import tensorflow as tf\n",
    "from hampel import hampel\n",
    "import numpy as np\n",
    "import matplotlib.pyplot as plt\n",
    "import pandas as pd\n",
    "from sklearn.preprocessing import MinMaxScaler\n",
    "from sklearn.metrics import mean_squared_error, mean_absolute_error\n",
    "from math import sqrt\n",
    "from matplotlib import pyplot\n",
    "from numpy import array"
   ]
  },
  {
   "cell_type": "markdown",
   "metadata": {
    "id": "JyOjBMFayuoR"
   },
   "source": [
    "## Pretraining"
   ]
  },
  {
   "cell_type": "markdown",
   "metadata": {
    "id": "-5QqIY_GyuoR"
   },
   "source": [
    "The `capa_intermittency.dat` feeds the model with the dynamics of the Capacitor"
   ]
  },
  {
   "cell_type": "code",
   "execution_count": 3,
   "metadata": {
    "id": "9dV4a8yfyuoR"
   },
   "outputs": [],
   "source": [
    "data = np.genfromtxt('capa_intermittency.dat')\n",
    "training_set = pd.DataFrame(data).reset_index(drop=True)\n",
    "training_set = training_set.iloc[:,0]"
   ]
  },
  {
   "cell_type": "markdown",
   "metadata": {
    "id": "i7easoxByuoR"
   },
   "source": [
    "## Computing the Gradient"
   ]
  },
  {
   "cell_type": "markdown",
   "metadata": {
    "id": "5SnyolJTyuoR"
   },
   "source": [
    "_Calculating the value of_ $\\frac{dx}{dt}$"
   ]
  },
  {
   "cell_type": "code",
   "execution_count": 4,
   "metadata": {
    "colab": {
     "base_uri": "https://localhost:8080/"
    },
    "id": "wmIbVfIvyuoR",
    "outputId": "aa4e3136-c854-465d-d2e9-81cfd546e440"
   },
   "outputs": [
    {
     "name": "stdout",
     "output_type": "stream",
     "text": [
      "1.0\n",
      "1        0.000298\n",
      "2        0.000298\n",
      "3        0.000297\n",
      "4        0.000297\n",
      "5        0.000297\n",
      "           ...   \n",
      "9996     0.000018\n",
      "9997     0.000018\n",
      "9998     0.000018\n",
      "9999     0.000018\n",
      "10000    0.000018\n",
      "Name: 0, Length: 10000, dtype: float64\n"
     ]
    }
   ],
   "source": [
    "t_diff = 1\n",
    "print(training_set.max())\n",
    "gradient_t = (training_set.diff()/t_diff).iloc[1:] # dx/dt\n",
    "print(gradient_t)"
   ]
  },
  {
   "cell_type": "markdown",
   "metadata": {
    "id": "_2eVeeoxyuoS"
   },
   "source": [
    "## Loading Datasets"
   ]
  },
  {
   "cell_type": "code",
   "execution_count": 5,
   "metadata": {
    "id": "0J-NKyIEyuoS"
   },
   "outputs": [
    {
     "data": {
      "text/plain": [
       "0       92.600000\n",
       "1       92.387115\n",
       "2       92.174230\n",
       "3       91.961345\n",
       "4       91.748459\n",
       "          ...    \n",
       "2495    62.430607\n",
       "2496    62.422956\n",
       "2497    62.415304\n",
       "2498    62.407652\n",
       "2499    62.400000\n",
       "Name: C7, Length: 2500, dtype: float64"
      ]
     },
     "execution_count": 5,
     "metadata": {},
     "output_type": "execute_result"
    }
   ],
   "source": [
    "data = pd.read_csv(\"c7_interpolated_2400_100.csv\")\n",
    "training_set = data.iloc[:, 1]\n",
    "training_set"
   ]
  },
  {
   "cell_type": "code",
   "execution_count": 6,
   "metadata": {
    "colab": {
     "base_uri": "https://localhost:8080/"
    },
    "id": "-CbNUhJ74UqF",
    "outputId": "20f562d8-8247-49cc-b9c3-00eca5e13e2d"
   },
   "outputs": [
    {
     "data": {
      "text/plain": [
       "0       92.600000\n",
       "1       92.387115\n",
       "2       92.174230\n",
       "3       91.961345\n",
       "4       91.748459\n",
       "          ...    \n",
       "2395     0.000000\n",
       "2396     0.005379\n",
       "2397     0.000000\n",
       "2398     0.631547\n",
       "2399     0.000000\n",
       "Name: C7, Length: 2400, dtype: float64"
      ]
     },
     "execution_count": 6,
     "metadata": {},
     "output_type": "execute_result"
    }
   ],
   "source": [
    "test = training_set.tail(100)\n",
    "test\n",
    "training_set = training_set.head(2400)\n",
    "training_set"
   ]
  },
  {
   "cell_type": "code",
   "execution_count": 7,
   "metadata": {
    "colab": {
     "base_uri": "https://localhost:8080/"
    },
    "id": "X0TwTcq0yuoS",
    "outputId": "37252ed8-d88e-4044-fa7a-922411990b5b"
   },
   "outputs": [
    {
     "name": "stdout",
     "output_type": "stream",
     "text": [
      "0       0.000298\n",
      "1       0.000298\n",
      "2       0.000297\n",
      "3       0.000297\n",
      "4       0.000297\n",
      "          ...   \n",
      "9995    0.000018\n",
      "9996    0.000018\n",
      "9997    0.000018\n",
      "9998    0.000018\n",
      "9999    0.000018\n",
      "Name: 0, Length: 10000, dtype: float64\n"
     ]
    }
   ],
   "source": [
    "training_set = training_set.reset_index(drop=True)\n",
    "gradient_t = gradient_t.reset_index(drop=True)\n",
    "print(gradient_t)"
   ]
  },
  {
   "cell_type": "code",
   "execution_count": 8,
   "metadata": {
    "id": "O2biznZQyuoS"
   },
   "outputs": [],
   "source": [
    "df = pd.concat((training_set, gradient_t), axis=1)\n",
    "df.columns = ['y_t', 'grad_t']"
   ]
  },
  {
   "cell_type": "code",
   "execution_count": 9,
   "metadata": {
    "colab": {
     "base_uri": "https://localhost:8080/",
     "height": 423
    },
    "id": "sk_a5v3tyuoS",
    "outputId": "17563625-e550-45ae-faab-fafa353e44da"
   },
   "outputs": [
    {
     "data": {
      "text/html": [
       "<div>\n",
       "<style scoped>\n",
       "    .dataframe tbody tr th:only-of-type {\n",
       "        vertical-align: middle;\n",
       "    }\n",
       "\n",
       "    .dataframe tbody tr th {\n",
       "        vertical-align: top;\n",
       "    }\n",
       "\n",
       "    .dataframe thead th {\n",
       "        text-align: right;\n",
       "    }\n",
       "</style>\n",
       "<table border=\"1\" class=\"dataframe\">\n",
       "  <thead>\n",
       "    <tr style=\"text-align: right;\">\n",
       "      <th></th>\n",
       "      <th>y_t</th>\n",
       "      <th>grad_t</th>\n",
       "    </tr>\n",
       "  </thead>\n",
       "  <tbody>\n",
       "    <tr>\n",
       "      <th>0</th>\n",
       "      <td>92.600000</td>\n",
       "      <td>0.000298</td>\n",
       "    </tr>\n",
       "    <tr>\n",
       "      <th>1</th>\n",
       "      <td>92.387115</td>\n",
       "      <td>0.000298</td>\n",
       "    </tr>\n",
       "    <tr>\n",
       "      <th>2</th>\n",
       "      <td>92.174230</td>\n",
       "      <td>0.000297</td>\n",
       "    </tr>\n",
       "    <tr>\n",
       "      <th>3</th>\n",
       "      <td>91.961345</td>\n",
       "      <td>0.000297</td>\n",
       "    </tr>\n",
       "    <tr>\n",
       "      <th>4</th>\n",
       "      <td>91.748459</td>\n",
       "      <td>0.000297</td>\n",
       "    </tr>\n",
       "    <tr>\n",
       "      <th>...</th>\n",
       "      <td>...</td>\n",
       "      <td>...</td>\n",
       "    </tr>\n",
       "    <tr>\n",
       "      <th>9995</th>\n",
       "      <td>NaN</td>\n",
       "      <td>0.000018</td>\n",
       "    </tr>\n",
       "    <tr>\n",
       "      <th>9996</th>\n",
       "      <td>NaN</td>\n",
       "      <td>0.000018</td>\n",
       "    </tr>\n",
       "    <tr>\n",
       "      <th>9997</th>\n",
       "      <td>NaN</td>\n",
       "      <td>0.000018</td>\n",
       "    </tr>\n",
       "    <tr>\n",
       "      <th>9998</th>\n",
       "      <td>NaN</td>\n",
       "      <td>0.000018</td>\n",
       "    </tr>\n",
       "    <tr>\n",
       "      <th>9999</th>\n",
       "      <td>NaN</td>\n",
       "      <td>0.000018</td>\n",
       "    </tr>\n",
       "  </tbody>\n",
       "</table>\n",
       "<p>10000 rows × 2 columns</p>\n",
       "</div>"
      ],
      "text/plain": [
       "            y_t    grad_t\n",
       "0     92.600000  0.000298\n",
       "1     92.387115  0.000298\n",
       "2     92.174230  0.000297\n",
       "3     91.961345  0.000297\n",
       "4     91.748459  0.000297\n",
       "...         ...       ...\n",
       "9995        NaN  0.000018\n",
       "9996        NaN  0.000018\n",
       "9997        NaN  0.000018\n",
       "9998        NaN  0.000018\n",
       "9999        NaN  0.000018\n",
       "\n",
       "[10000 rows x 2 columns]"
      ]
     },
     "execution_count": 9,
     "metadata": {},
     "output_type": "execute_result"
    }
   ],
   "source": [
    "df"
   ]
  },
  {
   "cell_type": "markdown",
   "metadata": {
    "id": "-5esyHu5aFvg"
   },
   "source": [
    "## Plot of the External Forcing from Chaotic Differential Equation"
   ]
  },
  {
   "cell_type": "code",
   "execution_count": 10,
   "metadata": {
    "colab": {
     "base_uri": "https://localhost:8080/",
     "height": 447
    },
    "id": "hGnE43tOh-4p",
    "outputId": "fc396503-b624-4fa5-dfbe-f460207405c6"
   },
   "outputs": [
    {
     "data": {
      "text/plain": [
       "<Axes: >"
      ]
     },
     "execution_count": 10,
     "metadata": {},
     "output_type": "execute_result"
    },
    {
     "data": {
      "image/png": "[encoded data removed]",
      "text/plain": [
       "<Figure size 432x288 with 1 Axes>"
      ]
     },
     "metadata": {
      "needs_background": "light"
     },
     "output_type": "display_data"
    }
   ],
   "source": [
    "df.iloc[:, 0].plot()"
   ]
  },
  {
   "cell_type": "code",
   "execution_count": 11,
   "metadata": {
    "colab": {
     "base_uri": "https://localhost:8080/",
     "height": 447
    },
    "id": "ym4xWUUxaFvg",
    "outputId": "ae6a3495-8ce9-437e-ba81-3ed31deedeae"
   },
   "outputs": [
    {
     "name": "stderr",
     "output_type": "stream",
     "text": [
      "C:\\Users\\Anurag Dutta\\AppData\\Local\\Packages\\PythonSoftwareFoundation.Python.3.9_qbz5n2kfra8p0\\LocalCache\\local-packages\\Python39\\site-packages\\pandas\\core\\arraylike.py:402: RuntimeWarning: divide by zero encountered in log\n",
      "  result = getattr(ufunc, method)(*inputs, **kwargs)\n"
     ]
    },
    {
     "data": {
      "text/plain": [
       "<Axes: >"
      ]
     },
     "execution_count": 11,
     "metadata": {},
     "output_type": "execute_result"
    },
    {
     "data": {
      "image/png": "[encoded data removed]",
      "text/plain": [
       "<Figure size 432x288 with 1 Axes>"
      ]
     },
     "metadata": {
      "needs_background": "light"
     },
     "output_type": "display_data"
    }
   ],
   "source": [
    "import numpy as np\n",
    "c0 = 89.3180  # Value for C0\n",
    "K0 = -0.0010  # Value for K0\n",
    "K1 = 0.0001  # Value for K1\n",
    "a = 0.0000    # Value for a\n",
    "b = -0.0204    # Value for b\n",
    "c = 2.2194    # Value for c\n",
    "\n",
    "L = np.minimum(c0, (df.iloc[:, 1] - (df.iloc[:, 0] * (K0 - K1 * (9 * a * np.log(df.iloc[:, 0] / c0) / (K0 - K1 * c)**2 + 4 * b * np.log(df.iloc[:, 0] / c0) / (K0 - K1 * c) + c)))))\n",
    "L.plot()"
   ]
  },
  {
   "cell_type": "markdown",
   "metadata": {
    "id": "9VyEywnwaFvh"
   },
   "source": [
    "## Preprocessing the data into supervised learning"
   ]
  },
  {
   "cell_type": "code",
   "execution_count": 12,
   "metadata": {
    "id": "6V9dXqzdaFvh"
   },
   "outputs": [],
   "source": [
    "# split a sequence into samples\n",
    "def Supervised(data, n_in=1, n_out=1, dropnan=True):\n",
    "    n_vars = 1 if type(data) is list else data.shape[1]\n",
    "    df = pd.DataFrame(data)\n",
    "    cols, names = list(), list()\n",
    "    # input sequence (t-n_in, ... t-1)\n",
    "    for i in range(n_in, 0, -1):\n",
    "        cols.append(df.shift(i))\n",
    "        names += [('var%d(t-%d)' % (j+1, i)) for j in range(n_vars)]\n",
    "    # forecast sequence (t, t+1, ... t+n_out)\n",
    "    for i in range(0, n_out):\n",
    "      cols.append(df.shift(-i))\n",
    "      if i == 0:\n",
    "        names += [('var%d(t)' % (j+1)) for j in range(n_vars)]\n",
    "      else:\n",
    "        names += [('var%d(t+%d)' % (j+1, i)) for j in range(n_vars)]\n",
    "    # put it all together\n",
    "    agg = pd.concat(cols, axis=1)\n",
    "    agg.columns = names\n",
    "    # drop rows with NaN values\n",
    "    if dropnan:\n",
    "       agg.dropna(inplace=True)\n",
    "    return agg"
   ]
  },
  {
   "cell_type": "code",
   "execution_count": 13,
   "metadata": {
    "colab": {
     "base_uri": "https://localhost:8080/"
    },
    "id": "CrzSrT1HnyfH",
    "outputId": "7e75f928-3e47-499d-eac1-51908015ef78"
   },
   "outputs": [
    {
     "name": "stdout",
     "output_type": "stream",
     "text": [
      "     var1(t-350)  var1(t-349)  var1(t-348)  var1(t-347)  var1(t-346)  \\\n",
      "350    92.600000    92.387115    92.174230    91.961345    91.748459   \n",
      "351    92.387115    92.174230    91.961345    91.748459    91.535574   \n",
      "352    92.174230    91.961345    91.748459    91.535574    91.322689   \n",
      "353    91.961345    91.748459    91.535574    91.322689    91.109804   \n",
      "354    91.748459    91.535574    91.322689    91.109804    90.896919   \n",
      "\n",
      "     var1(t-345)  var1(t-344)  var1(t-343)  var1(t-342)  var1(t-341)  ...  \\\n",
      "350    91.535574    91.322689    91.109804    90.896919    90.691597  ...   \n",
      "351    91.322689    91.109804    90.896919    90.691597    90.579552  ...   \n",
      "352    91.109804    90.896919    90.691597    90.579552    90.467507  ...   \n",
      "353    90.896919    90.691597    90.579552    90.467507    90.355462  ...   \n",
      "354    90.691597    90.579552    90.467507    90.355462    90.243417  ...   \n",
      "\n",
      "     var1(t+95)  var2(t+95)  var1(t+96)  var2(t+96)  var1(t+97)  var2(t+97)  \\\n",
      "350   80.261671    0.000263   80.252334    0.000263   80.242997    0.000263   \n",
      "351   80.252334    0.000263   80.242997    0.000263   80.233660    0.000262   \n",
      "352   80.242997    0.000263   80.233660    0.000262   80.224323    0.000262   \n",
      "353   80.233660    0.000262   80.224323    0.000262   80.214986    0.000262   \n",
      "354   80.224323    0.000262   80.214986    0.000262   80.205649    0.000262   \n",
      "\n",
      "     var1(t+98)  var2(t+98)  var1(t+99)  var2(t+99)  \n",
      "350   80.233660    0.000262   80.224323    0.000262  \n",
      "351   80.224323    0.000262   80.214986    0.000262  \n",
      "352   80.214986    0.000262   80.205649    0.000262  \n",
      "353   80.205649    0.000262   80.196312    0.000262  \n",
      "354   80.196312    0.000262   80.186975    0.000262  \n",
      "\n",
      "[5 rows x 551 columns]\n",
      "Index(['var1(t-350)', 'var1(t-349)', 'var1(t-348)', 'var1(t-347)',\n",
      "       'var1(t-346)', 'var1(t-345)', 'var1(t-344)', 'var1(t-343)',\n",
      "       'var1(t-342)', 'var1(t-341)',\n",
      "       ...\n",
      "       'var1(t+95)', 'var2(t+95)', 'var1(t+96)', 'var2(t+96)', 'var1(t+97)',\n",
      "       'var2(t+97)', 'var1(t+98)', 'var2(t+98)', 'var1(t+99)', 'var2(t+99)'],\n",
      "      dtype='object', length=551)\n"
     ]
    }
   ],
   "source": [
    "data = Supervised(df.values, n_in = 350, n_out = 100)\n",
    "\n",
    "\n",
    "cols_to_drop = []\n",
    "for i in range(2, 351):\n",
    "    cols_to_drop.extend([f'var2(t-{i})'])\n",
    "\n",
    "data.drop(cols_to_drop, axis=1, inplace=True)\n",
    "\n",
    "print(data.head())\n",
    "print(data.columns)"
   ]
  },
  {
   "cell_type": "code",
   "execution_count": 14,
   "metadata": {
    "id": "AfPf60oy6Pe4"
   },
   "outputs": [],
   "source": [
    "train = np.array(data[0:len(data)-1])\n",
    "forecast = np.array(data.tail(1))"
   ]
  },
  {
   "cell_type": "code",
   "execution_count": 15,
   "metadata": {
    "id": "WSAafzI37KiT"
   },
   "outputs": [],
   "source": [
    "trainy = train[:,-300:]\n",
    "trainX = train[:,:-300]"
   ]
  },
  {
   "cell_type": "code",
   "execution_count": 16,
   "metadata": {
    "id": "2SrOqVJA7f50"
   },
   "outputs": [],
   "source": [
    "forecasty = forecast[:,-300:]\n",
    "forecastX = forecast[:,:-300]"
   ]
  },
  {
   "cell_type": "code",
   "execution_count": 17,
   "metadata": {
    "colab": {
     "base_uri": "https://localhost:8080/"
    },
    "id": "Qno_k8Nw7saY",
    "outputId": "c4a88db5-d8c6-489f-cdb2-06b24e293cff"
   },
   "outputs": [
    {
     "name": "stdout",
     "output_type": "stream",
     "text": [
      "(1950, 1, 251) (1950, 300) (1, 1, 251)\n"
     ]
    }
   ],
   "source": [
    "trainX = trainX.reshape((trainX.shape[0], 1, trainX.shape[1]))\n",
    "forecastX = forecastX.reshape((forecastX.shape[0], 1, forecastX.shape[1]))\n",
    "print(trainX.shape, trainy.shape, forecastX.shape)"
   ]
  },
  {
   "cell_type": "code",
   "execution_count": 18,
   "metadata": {
    "colab": {
     "base_uri": "https://localhost:8080/"
    },
    "id": "b1Jp2DvNuNFx",
    "outputId": "d0e5b3c4-64f1-438c-eade-8dfeaac8e285"
   },
   "outputs": [
    {
     "name": "stdout",
     "output_type": "stream",
     "text": [
      "Epoch 1/500\n",
      "25/25 [==============================] - 2s 20ms/step - loss: 5387.0840 - val_loss: 3155.7671\n",
      "Epoch 2/500\n",
      "25/25 [==============================] - 0s 4ms/step - loss: 5048.5874 - val_loss: 2976.1252\n",
      "Epoch 3/500\n",
      "25/25 [==============================] - 0s 3ms/step - loss: 4890.3774 - val_loss: 2889.4272\n",
      "Epoch 4/500\n",
      "25/25 [==============================] - 0s 3ms/step - loss: 4773.4492 - val_loss: 2821.2727\n",
      "Epoch 5/500\n",
      "25/25 [==============================] - 0s 3ms/step - loss: 4663.5879 - val_loss: 2756.6587\n",
      "Epoch 6/500\n",
      "25/25 [==============================] - 0s 3ms/step - loss: 4545.5283 - val_loss: 2686.1626\n",
      "Epoch 7/500\n",
      "25/25 [==============================] - 0s 8ms/step - loss: 4437.4849 - val_loss: 2624.6794\n",
      "Epoch 8/500\n",
      "25/25 [==============================] - 0s 4ms/step - loss: 4334.3149 - val_loss: 2565.6453\n",
      "Epoch 9/500\n",
      "25/25 [==============================] - 0s 5ms/step - loss: 4234.2764 - val_loss: 2508.7009\n",
      "Epoch 10/500\n",
      "25/25 [==============================] - 0s 4ms/step - loss: 4136.8774 - val_loss: 2453.6196\n",
      "Epoch 11/500\n",
      "25/25 [==============================] - 0s 3ms/step - loss: 4041.8267 - val_loss: 2400.2568\n",
      "Epoch 12/500\n",
      "25/25 [==============================] - 0s 4ms/step - loss: 3948.9377 - val_loss: 2348.5129\n",
      "Epoch 13/500\n",
      "25/25 [==============================] - 0s 4ms/step - loss: 3858.0806 - val_loss: 2298.3115\n",
      "Epoch 14/500\n",
      "25/25 [==============================] - 0s 4ms/step - loss: 3769.1533 - val_loss: 2249.5928\n",
      "Epoch 15/500\n",
      "25/25 [==============================] - 0s 4ms/step - loss: 3682.0776 - val_loss: 2202.3057\n",
      "Epoch 16/500\n",
      "25/25 [==============================] - 0s 3ms/step - loss: 3596.7898 - val_loss: 2156.4077\n",
      "Epoch 17/500\n",
      "25/25 [==============================] - 0s 3ms/step - loss: 3513.2329 - val_loss: 2111.8604\n",
      "Epoch 18/500\n",
      "25/25 [==============================] - 0s 3ms/step - loss: 3431.3606 - val_loss: 2068.6279\n",
      "Epoch 19/500\n",
      "25/25 [==============================] - 0s 4ms/step - loss: 3351.1309 - val_loss: 2026.3402\n",
      "Epoch 20/500\n",
      "25/25 [==============================] - 0s 3ms/step - loss: 3267.0186 - val_loss: 1980.5785\n",
      "Epoch 21/500\n",
      "25/25 [==============================] - 0s 4ms/step - loss: 3182.2358 - val_loss: 1937.8669\n",
      "Epoch 22/500\n",
      "25/25 [==============================] - 0s 4ms/step - loss: 3101.0950 - val_loss: 1897.2406\n",
      "Epoch 23/500\n",
      "25/25 [==============================] - 0s 4ms/step - loss: 3022.7185 - val_loss: 1858.3280\n",
      "Epoch 24/500\n",
      "25/25 [==============================] - 0s 4ms/step - loss: 2946.6006 - val_loss: 1820.9338\n",
      "Epoch 25/500\n",
      "25/25 [==============================] - 0s 4ms/step - loss: 2872.4741 - val_loss: 1784.9425\n",
      "Epoch 26/500\n",
      "25/25 [==============================] - 0s 4ms/step - loss: 2800.1797 - val_loss: 1750.2771\n",
      "Epoch 27/500\n",
      "25/25 [==============================] - 0s 4ms/step - loss: 2729.6106 - val_loss: 1716.8801\n",
      "Epoch 28/500\n",
      "25/25 [==============================] - 0s 4ms/step - loss: 2660.6868 - val_loss: 1684.7043\n",
      "Epoch 29/500\n",
      "25/25 [==============================] - 0s 3ms/step - loss: 2593.3447 - val_loss: 1653.7106\n",
      "Epoch 30/500\n",
      "25/25 [==============================] - 0s 3ms/step - loss: 2527.5327 - val_loss: 1623.8651\n",
      "Epoch 31/500\n",
      "25/25 [==============================] - 0s 3ms/step - loss: 2463.2058 - val_loss: 1595.1366\n",
      "Epoch 32/500\n",
      "25/25 [==============================] - 0s 3ms/step - loss: 2400.3267 - val_loss: 1567.4971\n",
      "Epoch 33/500\n",
      "25/25 [==============================] - 0s 4ms/step - loss: 2338.8577 - val_loss: 1540.9207\n",
      "Epoch 34/500\n",
      "25/25 [==============================] - 0s 4ms/step - loss: 2278.7688 - val_loss: 1515.3815\n",
      "Epoch 35/500\n",
      "25/25 [==============================] - 0s 4ms/step - loss: 2220.0288 - val_loss: 1490.8574\n",
      "Epoch 36/500\n",
      "25/25 [==============================] - 0s 4ms/step - loss: 2162.6108 - val_loss: 1467.3258\n",
      "Epoch 37/500\n",
      "25/25 [==============================] - 0s 4ms/step - loss: 2106.4880 - val_loss: 1444.7644\n",
      "Epoch 38/500\n",
      "25/25 [==============================] - 0s 4ms/step - loss: 2051.6360 - val_loss: 1423.1533\n",
      "Epoch 39/500\n",
      "25/25 [==============================] - 0s 4ms/step - loss: 1998.0302 - val_loss: 1402.4718\n",
      "Epoch 40/500\n",
      "25/25 [==============================] - 0s 3ms/step - loss: 1945.6486 - val_loss: 1382.7003\n",
      "Epoch 41/500\n",
      "25/25 [==============================] - 0s 3ms/step - loss: 1894.4688 - val_loss: 1363.8201\n",
      "Epoch 42/500\n",
      "25/25 [==============================] - 0s 3ms/step - loss: 1844.4696 - val_loss: 1345.8120\n",
      "Epoch 43/500\n",
      "25/25 [==============================] - 0s 4ms/step - loss: 1795.6295 - val_loss: 1328.6577\n",
      "Epoch 44/500\n",
      "25/25 [==============================] - 0s 8ms/step - loss: 1747.9287 - val_loss: 1312.3392\n",
      "Epoch 45/500\n",
      "25/25 [==============================] - 0s 4ms/step - loss: 1701.3480 - val_loss: 1296.8387\n",
      "Epoch 46/500\n",
      "25/25 [==============================] - 0s 3ms/step - loss: 1655.8674 - val_loss: 1282.1389\n",
      "Epoch 47/500\n",
      "25/25 [==============================] - 0s 4ms/step - loss: 1611.4688 - val_loss: 1268.2227\n",
      "Epoch 48/500\n",
      "25/25 [==============================] - 0s 5ms/step - loss: 1568.1333 - val_loss: 1255.0729\n",
      "Epoch 49/500\n",
      "25/25 [==============================] - 0s 4ms/step - loss: 1525.8427 - val_loss: 1242.6729\n",
      "Epoch 50/500\n",
      "25/25 [==============================] - 0s 4ms/step - loss: 1484.5793 - val_loss: 1231.0062\n",
      "Epoch 51/500\n",
      "25/25 [==============================] - 0s 3ms/step - loss: 1444.3257 - val_loss: 1220.0563\n",
      "Epoch 52/500\n",
      "25/25 [==============================] - 0s 5ms/step - loss: 1405.0642 - val_loss: 1209.8074\n",
      "Epoch 53/500\n",
      "25/25 [==============================] - 0s 4ms/step - loss: 1366.7783 - val_loss: 1200.2432\n",
      "Epoch 54/500\n",
      "25/25 [==============================] - 0s 4ms/step - loss: 1329.4507 - val_loss: 1191.3480\n",
      "Epoch 55/500\n",
      "25/25 [==============================] - 0s 5ms/step - loss: 1293.0651 - val_loss: 1183.1064\n",
      "Epoch 56/500\n",
      "25/25 [==============================] - 0s 5ms/step - loss: 1257.6055 - val_loss: 1175.5026\n",
      "Epoch 57/500\n",
      "25/25 [==============================] - 0s 5ms/step - loss: 1223.0547 - val_loss: 1168.5212\n",
      "Epoch 58/500\n",
      "25/25 [==============================] - 0s 5ms/step - loss: 1189.3982 - val_loss: 1162.1475\n",
      "Epoch 59/500\n",
      "25/25 [==============================] - 0s 5ms/step - loss: 1156.6194 - val_loss: 1156.3649\n",
      "Epoch 60/500\n",
      "25/25 [==============================] - 0s 6ms/step - loss: 1124.7026 - val_loss: 1150.6796\n",
      "Epoch 61/500\n",
      "25/25 [==============================] - 0s 6ms/step - loss: 1093.6364 - val_loss: 1146.5220\n",
      "Epoch 62/500\n",
      "25/25 [==============================] - 0s 6ms/step - loss: 1063.3947 - val_loss: 1142.4285\n",
      "Epoch 63/500\n",
      "25/25 [==============================] - 0s 6ms/step - loss: 1033.9727 - val_loss: 1138.8683\n",
      "Epoch 64/500\n",
      "25/25 [==============================] - 0s 5ms/step - loss: 1005.3525 - val_loss: 1135.8268\n",
      "Epoch 65/500\n",
      "25/25 [==============================] - 0s 5ms/step - loss: 977.5187 - val_loss: 1133.2903\n",
      "Epoch 66/500\n",
      "25/25 [==============================] - 0s 5ms/step - loss: 950.4575 - val_loss: 1131.2441\n",
      "Epoch 67/500\n",
      "25/25 [==============================] - 0s 5ms/step - loss: 924.1534 - val_loss: 1129.6742\n",
      "Epoch 68/500\n",
      "25/25 [==============================] - 0s 4ms/step - loss: 898.5927 - val_loss: 1128.5668\n",
      "Epoch 69/500\n",
      "25/25 [==============================] - 0s 5ms/step - loss: 873.7612 - val_loss: 1127.9077\n",
      "Epoch 70/500\n",
      "25/25 [==============================] - 0s 5ms/step - loss: 849.6442 - val_loss: 1127.6836\n",
      "Epoch 71/500\n",
      "25/25 [==============================] - 0s 5ms/step - loss: 826.2280 - val_loss: 1127.8805\n",
      "Epoch 72/500\n",
      "25/25 [==============================] - 0s 5ms/step - loss: 803.4990 - val_loss: 1128.4852\n",
      "Epoch 73/500\n",
      "25/25 [==============================] - 0s 5ms/step - loss: 781.4435 - val_loss: 1129.4843\n",
      "Epoch 74/500\n",
      "25/25 [==============================] - 0s 5ms/step - loss: 760.0479 - val_loss: 1130.8645\n",
      "Epoch 75/500\n",
      "25/25 [==============================] - 0s 5ms/step - loss: 739.2980 - val_loss: 1132.6125\n",
      "Epoch 76/500\n",
      "25/25 [==============================] - 0s 5ms/step - loss: 719.1813 - val_loss: 1134.7153\n",
      "Epoch 77/500\n",
      "25/25 [==============================] - 0s 5ms/step - loss: 699.6842 - val_loss: 1137.1602\n",
      "Epoch 78/500\n",
      "25/25 [==============================] - 0s 5ms/step - loss: 680.7938 - val_loss: 1139.9341\n",
      "Epoch 79/500\n",
      "25/25 [==============================] - 0s 7ms/step - loss: 662.4968 - val_loss: 1143.0248\n",
      "Epoch 80/500\n",
      "25/25 [==============================] - 0s 7ms/step - loss: 644.7806 - val_loss: 1146.4193\n",
      "Epoch 81/500\n",
      "25/25 [==============================] - 0s 5ms/step - loss: 627.6324 - val_loss: 1150.1053\n",
      "Epoch 82/500\n",
      "25/25 [==============================] - 0s 5ms/step - loss: 611.0397 - val_loss: 1154.0709\n",
      "Epoch 83/500\n",
      "25/25 [==============================] - 0s 5ms/step - loss: 594.9896 - val_loss: 1158.3033\n",
      "Epoch 84/500\n",
      "25/25 [==============================] - 0s 5ms/step - loss: 579.4703 - val_loss: 1162.7910\n",
      "Epoch 85/500\n",
      "25/25 [==============================] - 0s 5ms/step - loss: 564.4693 - val_loss: 1167.5219\n",
      "Epoch 86/500\n",
      "25/25 [==============================] - 0s 5ms/step - loss: 549.9744 - val_loss: 1172.4840\n",
      "Epoch 87/500\n",
      "25/25 [==============================] - 0s 5ms/step - loss: 535.9735 - val_loss: 1177.6664\n",
      "Epoch 88/500\n",
      "25/25 [==============================] - 0s 5ms/step - loss: 522.4550 - val_loss: 1183.0568\n",
      "Epoch 89/500\n",
      "25/25 [==============================] - 0s 5ms/step - loss: 509.4070 - val_loss: 1188.6443\n",
      "Epoch 90/500\n",
      "25/25 [==============================] - 0s 5ms/step - loss: 496.8179 - val_loss: 1194.4181\n",
      "Epoch 91/500\n",
      "25/25 [==============================] - 0s 5ms/step - loss: 484.6763 - val_loss: 1200.3665\n",
      "Epoch 92/500\n",
      "25/25 [==============================] - 0s 5ms/step - loss: 472.9708 - val_loss: 1206.4791\n",
      "Epoch 93/500\n",
      "25/25 [==============================] - 0s 5ms/step - loss: 461.6898 - val_loss: 1212.7448\n",
      "Epoch 94/500\n",
      "25/25 [==============================] - 0s 5ms/step - loss: 450.8229 - val_loss: 1219.1531\n",
      "Epoch 95/500\n",
      "25/25 [==============================] - 0s 4ms/step - loss: 440.3586 - val_loss: 1225.6940\n",
      "Epoch 96/500\n",
      "25/25 [==============================] - 0s 5ms/step - loss: 430.2863 - val_loss: 1232.3566\n",
      "Epoch 97/500\n",
      "25/25 [==============================] - 0s 5ms/step - loss: 420.5952 - val_loss: 1239.1312\n",
      "Epoch 98/500\n",
      "25/25 [==============================] - 0s 5ms/step - loss: 411.2750 - val_loss: 1245.9653\n",
      "Epoch 99/500\n",
      "25/25 [==============================] - 0s 5ms/step - loss: 402.3149 - val_loss: 1253.0018\n",
      "Epoch 100/500\n",
      "25/25 [==============================] - 0s 5ms/step - loss: 393.7049 - val_loss: 1260.0574\n",
      "Epoch 101/500\n",
      "25/25 [==============================] - 0s 5ms/step - loss: 385.4350 - val_loss: 1267.1870\n",
      "Epoch 102/500\n",
      "25/25 [==============================] - 0s 5ms/step - loss: 377.4949 - val_loss: 1274.3816\n",
      "Epoch 103/500\n",
      "25/25 [==============================] - 0s 5ms/step - loss: 369.8752 - val_loss: 1281.6322\n",
      "Epoch 104/500\n",
      "25/25 [==============================] - 0s 6ms/step - loss: 362.5658 - val_loss: 1288.9304\n",
      "Epoch 105/500\n",
      "25/25 [==============================] - 0s 5ms/step - loss: 355.5574 - val_loss: 1296.2676\n",
      "Epoch 106/500\n",
      "25/25 [==============================] - 0s 4ms/step - loss: 348.8406 - val_loss: 1303.6350\n",
      "Epoch 107/500\n",
      "25/25 [==============================] - 0s 4ms/step - loss: 342.4062 - val_loss: 1311.0250\n",
      "Epoch 108/500\n",
      "25/25 [==============================] - 0s 5ms/step - loss: 336.2454 - val_loss: 1318.4299\n",
      "Epoch 109/500\n",
      "25/25 [==============================] - 0s 6ms/step - loss: 330.3487 - val_loss: 1325.8418\n",
      "Epoch 110/500\n",
      "25/25 [==============================] - 0s 8ms/step - loss: 324.7080 - val_loss: 1333.2534\n",
      "Epoch 111/500\n",
      "25/25 [==============================] - 0s 5ms/step - loss: 319.3144 - val_loss: 1340.6572\n",
      "Epoch 112/500\n",
      "25/25 [==============================] - 0s 5ms/step - loss: 314.1596 - val_loss: 1348.0463\n",
      "Epoch 113/500\n",
      "25/25 [==============================] - 0s 5ms/step - loss: 309.2354 - val_loss: 1355.4143\n",
      "Epoch 114/500\n",
      "25/25 [==============================] - 0s 10ms/step - loss: 304.5335 - val_loss: 1362.7540\n",
      "Epoch 115/500\n",
      "25/25 [==============================] - 0s 5ms/step - loss: 300.0464 - val_loss: 1370.0593\n",
      "Epoch 116/500\n",
      "25/25 [==============================] - 0s 5ms/step - loss: 295.7660 - val_loss: 1377.3247\n",
      "Epoch 117/500\n",
      "25/25 [==============================] - 0s 5ms/step - loss: 291.6848 - val_loss: 1384.5437\n",
      "Epoch 118/500\n",
      "25/25 [==============================] - 0s 5ms/step - loss: 287.7955 - val_loss: 1391.7112\n",
      "Epoch 119/500\n",
      "25/25 [==============================] - 0s 5ms/step - loss: 284.0908 - val_loss: 1398.8217\n",
      "Epoch 120/500\n",
      "25/25 [==============================] - 0s 5ms/step - loss: 280.5636 - val_loss: 1405.8698\n",
      "Epoch 121/500\n",
      "25/25 [==============================] - 0s 6ms/step - loss: 277.2072 - val_loss: 1412.8503\n",
      "Epoch 122/500\n",
      "25/25 [==============================] - 0s 7ms/step - loss: 274.0147 - val_loss: 1419.7592\n",
      "Epoch 123/500\n",
      "25/25 [==============================] - 0s 7ms/step - loss: 270.9797 - val_loss: 1426.5911\n",
      "Epoch 124/500\n",
      "25/25 [==============================] - 0s 5ms/step - loss: 268.0958 - val_loss: 1433.3433\n",
      "Epoch 125/500\n",
      "25/25 [==============================] - 0s 6ms/step - loss: 265.3568 - val_loss: 1440.0109\n",
      "Epoch 126/500\n",
      "25/25 [==============================] - 0s 5ms/step - loss: 262.7564 - val_loss: 1446.5898\n",
      "Epoch 127/500\n",
      "25/25 [==============================] - 0s 5ms/step - loss: 260.2892 - val_loss: 1453.0774\n",
      "Epoch 128/500\n",
      "25/25 [==============================] - 0s 5ms/step - loss: 257.9493 - val_loss: 1459.4703\n",
      "Epoch 129/500\n",
      "25/25 [==============================] - 0s 5ms/step - loss: 255.7311 - val_loss: 1465.7654\n",
      "Epoch 130/500\n",
      "25/25 [==============================] - 0s 5ms/step - loss: 253.6293 - val_loss: 1471.9595\n",
      "Epoch 131/500\n",
      "25/25 [==============================] - 0s 5ms/step - loss: 251.6387 - val_loss: 1478.0502\n",
      "Epoch 132/500\n",
      "25/25 [==============================] - 0s 5ms/step - loss: 249.7544 - val_loss: 1484.0353\n",
      "Epoch 133/500\n",
      "25/25 [==============================] - 0s 5ms/step - loss: 247.9715 - val_loss: 1489.9122\n",
      "Epoch 134/500\n",
      "25/25 [==============================] - 0s 6ms/step - loss: 246.2855 - val_loss: 1495.6797\n",
      "Epoch 135/500\n",
      "25/25 [==============================] - 0s 5ms/step - loss: 244.6912 - val_loss: 1501.3352\n",
      "Epoch 136/500\n",
      "25/25 [==============================] - 0s 5ms/step - loss: 243.1850 - val_loss: 1506.8784\n",
      "Epoch 137/500\n",
      "25/25 [==============================] - 0s 5ms/step - loss: 241.7623 - val_loss: 1512.3074\n",
      "Epoch 138/500\n",
      "25/25 [==============================] - 0s 17ms/step - loss: 240.4191 - val_loss: 1517.6207\n",
      "Epoch 139/500\n",
      "25/25 [==============================] - 0s 9ms/step - loss: 239.1514 - val_loss: 1522.8185\n",
      "Epoch 140/500\n",
      "25/25 [==============================] - 0s 7ms/step - loss: 237.9556 - val_loss: 1527.8986\n",
      "Epoch 141/500\n",
      "25/25 [==============================] - 0s 7ms/step - loss: 236.8280 - val_loss: 1532.8617\n",
      "Epoch 142/500\n",
      "25/25 [==============================] - 0s 12ms/step - loss: 235.7652 - val_loss: 1537.7065\n",
      "Epoch 143/500\n",
      "25/25 [==============================] - 0s 16ms/step - loss: 234.7637 - val_loss: 1542.4340\n",
      "Epoch 144/500\n",
      "25/25 [==============================] - 0s 7ms/step - loss: 233.8205 - val_loss: 1547.0435\n",
      "Epoch 145/500\n",
      "25/25 [==============================] - 0s 8ms/step - loss: 232.9324 - val_loss: 1551.5348\n",
      "Epoch 146/500\n",
      "25/25 [==============================] - 0s 7ms/step - loss: 232.0966 - val_loss: 1555.9083\n",
      "Epoch 147/500\n",
      "25/25 [==============================] - 0s 9ms/step - loss: 231.3101 - val_loss: 1560.1660\n",
      "Epoch 148/500\n",
      "25/25 [==============================] - 0s 8ms/step - loss: 230.5703 - val_loss: 1564.3068\n",
      "Epoch 149/500\n",
      "25/25 [==============================] - 0s 7ms/step - loss: 229.8746 - val_loss: 1568.3320\n",
      "Epoch 150/500\n",
      "25/25 [==============================] - 0s 7ms/step - loss: 229.2208 - val_loss: 1572.2424\n",
      "Epoch 151/500\n",
      "25/25 [==============================] - 0s 8ms/step - loss: 228.6064 - val_loss: 1576.0391\n",
      "Epoch 152/500\n",
      "25/25 [==============================] - 0s 7ms/step - loss: 228.0291 - val_loss: 1579.7238\n",
      "Epoch 153/500\n",
      "25/25 [==============================] - 0s 7ms/step - loss: 227.4868 - val_loss: 1583.2965\n",
      "Epoch 154/500\n",
      "25/25 [==============================] - 0s 6ms/step - loss: 226.9777 - val_loss: 1586.7596\n",
      "Epoch 155/500\n",
      "25/25 [==============================] - 0s 5ms/step - loss: 226.4997 - val_loss: 1590.1144\n",
      "Epoch 156/500\n",
      "25/25 [==============================] - 0s 5ms/step - loss: 226.0510 - val_loss: 1593.3612\n",
      "Epoch 157/500\n",
      "25/25 [==============================] - 0s 4ms/step - loss: 225.6301 - val_loss: 1596.5037\n",
      "Epoch 158/500\n",
      "25/25 [==============================] - 0s 5ms/step - loss: 225.2351 - val_loss: 1599.5416\n",
      "Epoch 159/500\n",
      "25/25 [==============================] - 0s 5ms/step - loss: 224.8644 - val_loss: 1602.4779\n",
      "Epoch 160/500\n",
      "25/25 [==============================] - 0s 4ms/step - loss: 224.5169 - val_loss: 1605.3140\n",
      "Epoch 161/500\n",
      "25/25 [==============================] - 0s 4ms/step - loss: 224.1909 - val_loss: 1608.0524\n",
      "Epoch 162/500\n",
      "25/25 [==============================] - 0s 5ms/step - loss: 223.8853 - val_loss: 1610.6937\n",
      "Epoch 163/500\n",
      "25/25 [==============================] - 0s 5ms/step - loss: 223.5988 - val_loss: 1613.2410\n",
      "Epoch 164/500\n",
      "25/25 [==============================] - 0s 5ms/step - loss: 223.3300 - val_loss: 1615.6974\n",
      "Epoch 165/500\n",
      "25/25 [==============================] - 0s 5ms/step - loss: 223.0781 - val_loss: 1618.0624\n",
      "Epoch 166/500\n",
      "25/25 [==============================] - 0s 5ms/step - loss: 222.8421 - val_loss: 1620.3390\n",
      "Epoch 167/500\n",
      "25/25 [==============================] - 0s 5ms/step - loss: 222.6208 - val_loss: 1622.5302\n",
      "Epoch 168/500\n",
      "25/25 [==============================] - 0s 5ms/step - loss: 222.4133 - val_loss: 1624.6366\n",
      "Epoch 169/500\n",
      "25/25 [==============================] - 0s 5ms/step - loss: 222.2190 - val_loss: 1626.6620\n",
      "Epoch 170/500\n",
      "25/25 [==============================] - 0s 5ms/step - loss: 222.0367 - val_loss: 1628.6082\n",
      "Epoch 171/500\n",
      "25/25 [==============================] - 0s 5ms/step - loss: 221.8660 - val_loss: 1630.4764\n",
      "Epoch 172/500\n",
      "25/25 [==============================] - 0s 5ms/step - loss: 221.7059 - val_loss: 1632.2690\n",
      "Epoch 173/500\n",
      "25/25 [==============================] - 0s 9ms/step - loss: 221.5559 - val_loss: 1633.9889\n",
      "Epoch 174/500\n",
      "25/25 [==============================] - 0s 5ms/step - loss: 221.4153 - val_loss: 1635.6379\n",
      "Epoch 175/500\n",
      "25/25 [==============================] - 0s 5ms/step - loss: 221.2835 - val_loss: 1637.2186\n",
      "Epoch 176/500\n",
      "25/25 [==============================] - 0s 5ms/step - loss: 221.1599 - val_loss: 1638.7322\n",
      "Epoch 177/500\n",
      "25/25 [==============================] - 0s 5ms/step - loss: 221.0442 - val_loss: 1640.1802\n",
      "Epoch 178/500\n",
      "25/25 [==============================] - 0s 5ms/step - loss: 220.9357 - val_loss: 1641.5673\n",
      "Epoch 179/500\n",
      "25/25 [==============================] - 0s 4ms/step - loss: 220.8338 - val_loss: 1642.8933\n",
      "Epoch 180/500\n",
      "25/25 [==============================] - 0s 4ms/step - loss: 220.7384 - val_loss: 1644.1608\n",
      "Epoch 181/500\n",
      "25/25 [==============================] - 0s 5ms/step - loss: 220.6490 - val_loss: 1645.3715\n",
      "Epoch 182/500\n",
      "25/25 [==============================] - 0s 4ms/step - loss: 220.5651 - val_loss: 1646.5282\n",
      "Epoch 183/500\n",
      "25/25 [==============================] - 0s 4ms/step - loss: 220.4864 - val_loss: 1647.6327\n",
      "Epoch 184/500\n",
      "25/25 [==============================] - 0s 4ms/step - loss: 220.4127 - val_loss: 1648.6866\n",
      "Epoch 185/500\n",
      "25/25 [==============================] - 0s 4ms/step - loss: 220.3434 - val_loss: 1649.6912\n",
      "Epoch 186/500\n",
      "25/25 [==============================] - 0s 4ms/step - loss: 220.2786 - val_loss: 1650.6489\n",
      "Epoch 187/500\n",
      "25/25 [==============================] - 0s 5ms/step - loss: 220.2178 - val_loss: 1651.5610\n",
      "Epoch 188/500\n",
      "25/25 [==============================] - 0s 4ms/step - loss: 220.1608 - val_loss: 1652.4302\n",
      "Epoch 189/500\n",
      "25/25 [==============================] - 0s 4ms/step - loss: 220.1072 - val_loss: 1653.2572\n",
      "Epoch 190/500\n",
      "25/25 [==============================] - 0s 5ms/step - loss: 220.0571 - val_loss: 1654.0452\n",
      "Epoch 191/500\n",
      "25/25 [==============================] - 0s 5ms/step - loss: 220.0099 - val_loss: 1654.7946\n",
      "Epoch 192/500\n",
      "25/25 [==============================] - 0s 4ms/step - loss: 219.9658 - val_loss: 1655.5061\n",
      "Epoch 193/500\n",
      "25/25 [==============================] - 0s 5ms/step - loss: 219.9244 - val_loss: 1656.1836\n",
      "Epoch 194/500\n",
      "25/25 [==============================] - 0s 5ms/step - loss: 219.8855 - val_loss: 1656.8264\n",
      "Epoch 195/500\n",
      "25/25 [==============================] - 0s 5ms/step - loss: 219.8491 - val_loss: 1657.4369\n",
      "Epoch 196/500\n",
      "25/25 [==============================] - 0s 5ms/step - loss: 219.8148 - val_loss: 1658.0167\n",
      "Epoch 197/500\n",
      "25/25 [==============================] - 0s 5ms/step - loss: 219.7829 - val_loss: 1658.5671\n",
      "Epoch 198/500\n",
      "25/25 [==============================] - 0s 5ms/step - loss: 219.7527 - val_loss: 1659.0886\n",
      "Epoch 199/500\n",
      "25/25 [==============================] - 0s 5ms/step - loss: 219.7245 - val_loss: 1659.5831\n",
      "Epoch 200/500\n",
      "25/25 [==============================] - 0s 5ms/step - loss: 219.6981 - val_loss: 1660.0521\n",
      "Epoch 201/500\n",
      "25/25 [==============================] - 0s 5ms/step - loss: 219.6733 - val_loss: 1660.4966\n",
      "Epoch 202/500\n",
      "25/25 [==============================] - 0s 5ms/step - loss: 219.6500 - val_loss: 1660.9170\n",
      "Epoch 203/500\n",
      "25/25 [==============================] - 0s 9ms/step - loss: 219.6282 - val_loss: 1661.3156\n",
      "Epoch 204/500\n",
      "25/25 [==============================] - 0s 5ms/step - loss: 219.6078 - val_loss: 1661.6918\n",
      "Epoch 205/500\n",
      "25/25 [==============================] - 0s 5ms/step - loss: 219.5888 - val_loss: 1662.0493\n",
      "Epoch 206/500\n",
      "25/25 [==============================] - 0s 5ms/step - loss: 219.5707 - val_loss: 1662.3862\n",
      "Epoch 207/500\n",
      "25/25 [==============================] - 0s 5ms/step - loss: 219.5540 - val_loss: 1662.7054\n",
      "Epoch 208/500\n",
      "25/25 [==============================] - 0s 5ms/step - loss: 219.5383 - val_loss: 1663.0067\n",
      "Epoch 209/500\n",
      "25/25 [==============================] - 0s 5ms/step - loss: 219.5235 - val_loss: 1663.2910\n",
      "Epoch 210/500\n",
      "25/25 [==============================] - 0s 5ms/step - loss: 219.5097 - val_loss: 1663.5591\n",
      "Epoch 211/500\n",
      "25/25 [==============================] - 0s 5ms/step - loss: 219.4968 - val_loss: 1663.8129\n",
      "Epoch 212/500\n",
      "25/25 [==============================] - 0s 5ms/step - loss: 219.4848 - val_loss: 1664.0516\n",
      "Epoch 213/500\n",
      "25/25 [==============================] - 0s 5ms/step - loss: 219.4736 - val_loss: 1664.2778\n",
      "Epoch 214/500\n",
      "25/25 [==============================] - 0s 5ms/step - loss: 219.4630 - val_loss: 1664.4908\n",
      "Epoch 215/500\n",
      "25/25 [==============================] - 0s 5ms/step - loss: 219.4531 - val_loss: 1664.6920\n",
      "Epoch 216/500\n",
      "25/25 [==============================] - 0s 5ms/step - loss: 219.4439 - val_loss: 1664.8815\n",
      "Epoch 217/500\n",
      "25/25 [==============================] - 0s 5ms/step - loss: 219.4352 - val_loss: 1665.0588\n",
      "Epoch 218/500\n",
      "25/25 [==============================] - 0s 5ms/step - loss: 219.4272 - val_loss: 1665.2273\n",
      "Epoch 219/500\n",
      "25/25 [==============================] - 0s 5ms/step - loss: 219.4197 - val_loss: 1665.3851\n",
      "Epoch 220/500\n",
      "25/25 [==============================] - 0s 5ms/step - loss: 219.4127 - val_loss: 1665.5337\n",
      "Epoch 221/500\n",
      "25/25 [==============================] - 0s 5ms/step - loss: 219.4062 - val_loss: 1665.6736\n",
      "Epoch 222/500\n",
      "25/25 [==============================] - 0s 5ms/step - loss: 219.4002 - val_loss: 1665.8053\n",
      "Epoch 223/500\n",
      "25/25 [==============================] - 0s 5ms/step - loss: 219.3946 - val_loss: 1665.9293\n",
      "Epoch 224/500\n",
      "25/25 [==============================] - 0s 5ms/step - loss: 219.3893 - val_loss: 1666.0457\n",
      "Epoch 225/500\n",
      "25/25 [==============================] - 0s 5ms/step - loss: 219.3844 - val_loss: 1666.1556\n",
      "Epoch 226/500\n",
      "25/25 [==============================] - 0s 5ms/step - loss: 219.3799 - val_loss: 1666.2587\n",
      "Epoch 227/500\n",
      "25/25 [==============================] - 0s 4ms/step - loss: 219.3756 - val_loss: 1666.3541\n",
      "Epoch 228/500\n",
      "25/25 [==============================] - 0s 5ms/step - loss: 219.3717 - val_loss: 1666.4452\n",
      "Epoch 229/500\n",
      "25/25 [==============================] - 0s 4ms/step - loss: 219.3681 - val_loss: 1666.5314\n",
      "Epoch 230/500\n",
      "25/25 [==============================] - 0s 5ms/step - loss: 219.3647 - val_loss: 1666.6118\n",
      "Epoch 231/500\n",
      "25/25 [==============================] - 0s 4ms/step - loss: 219.3616 - val_loss: 1666.6864\n",
      "Epoch 232/500\n",
      "25/25 [==============================] - 0s 6ms/step - loss: 219.3587 - val_loss: 1666.7571\n",
      "Epoch 233/500\n",
      "25/25 [==============================] - 0s 5ms/step - loss: 219.3561 - val_loss: 1666.8234\n",
      "Epoch 234/500\n",
      "25/25 [==============================] - 0s 10ms/step - loss: 219.3536 - val_loss: 1666.8854\n",
      "Epoch 235/500\n",
      "25/25 [==============================] - 0s 5ms/step - loss: 219.3514 - val_loss: 1666.9431\n",
      "Epoch 236/500\n",
      "25/25 [==============================] - 0s 5ms/step - loss: 219.3493 - val_loss: 1666.9978\n",
      "Epoch 237/500\n",
      "25/25 [==============================] - 0s 5ms/step - loss: 219.3473 - val_loss: 1667.0496\n",
      "Epoch 238/500\n",
      "25/25 [==============================] - 0s 6ms/step - loss: 219.3456 - val_loss: 1667.0962\n",
      "Epoch 239/500\n",
      "25/25 [==============================] - 0s 5ms/step - loss: 219.3439 - val_loss: 1667.1414\n",
      "Epoch 240/500\n",
      "25/25 [==============================] - 0s 6ms/step - loss: 219.3425 - val_loss: 1667.1832\n",
      "Epoch 241/500\n",
      "25/25 [==============================] - 0s 5ms/step - loss: 219.3411 - val_loss: 1667.2233\n",
      "Epoch 242/500\n",
      "25/25 [==============================] - 0s 5ms/step - loss: 219.3398 - val_loss: 1667.2594\n",
      "Epoch 243/500\n",
      "25/25 [==============================] - 0s 5ms/step - loss: 219.3388 - val_loss: 1667.2937\n",
      "Epoch 244/500\n",
      "25/25 [==============================] - 0s 5ms/step - loss: 219.3378 - val_loss: 1667.3257\n",
      "Epoch 245/500\n",
      "25/25 [==============================] - 0s 5ms/step - loss: 219.3369 - val_loss: 1667.3557\n",
      "Epoch 246/500\n",
      "25/25 [==============================] - 0s 4ms/step - loss: 219.3360 - val_loss: 1667.3843\n",
      "Epoch 247/500\n",
      "25/25 [==============================] - 0s 4ms/step - loss: 219.3353 - val_loss: 1667.4113\n",
      "Epoch 248/500\n",
      "25/25 [==============================] - 0s 5ms/step - loss: 219.3346 - val_loss: 1667.4358\n",
      "Epoch 249/500\n",
      "25/25 [==============================] - 0s 5ms/step - loss: 219.3340 - val_loss: 1667.4586\n",
      "Epoch 250/500\n",
      "25/25 [==============================] - 0s 5ms/step - loss: 219.3335 - val_loss: 1667.4801\n",
      "Epoch 251/500\n",
      "25/25 [==============================] - 0s 5ms/step - loss: 219.3330 - val_loss: 1667.5005\n",
      "Epoch 252/500\n",
      "25/25 [==============================] - 0s 5ms/step - loss: 219.3325 - val_loss: 1667.5188\n",
      "Epoch 253/500\n",
      "25/25 [==============================] - 0s 4ms/step - loss: 219.3322 - val_loss: 1667.5360\n",
      "Epoch 254/500\n",
      "25/25 [==============================] - 0s 5ms/step - loss: 219.3320 - val_loss: 1667.5533\n",
      "Epoch 255/500\n",
      "25/25 [==============================] - 0s 5ms/step - loss: 219.3317 - val_loss: 1667.5680\n",
      "Epoch 256/500\n",
      "25/25 [==============================] - 0s 4ms/step - loss: 219.3315 - val_loss: 1667.5826\n",
      "Epoch 257/500\n",
      "25/25 [==============================] - 0s 5ms/step - loss: 219.3312 - val_loss: 1667.5957\n",
      "Epoch 258/500\n",
      "25/25 [==============================] - 0s 4ms/step - loss: 219.3311 - val_loss: 1667.6080\n",
      "Epoch 259/500\n",
      "25/25 [==============================] - 0s 5ms/step - loss: 219.3310 - val_loss: 1667.6198\n",
      "Epoch 260/500\n",
      "25/25 [==============================] - 0s 5ms/step - loss: 219.3309 - val_loss: 1667.6300\n",
      "Epoch 261/500\n",
      "25/25 [==============================] - 0s 9ms/step - loss: 219.3309 - val_loss: 1667.6400\n",
      "Epoch 262/500\n",
      "25/25 [==============================] - 0s 8ms/step - loss: 219.3308 - val_loss: 1667.6495\n",
      "Epoch 263/500\n",
      "25/25 [==============================] - 0s 7ms/step - loss: 219.3308 - val_loss: 1667.6577\n",
      "Epoch 264/500\n",
      "25/25 [==============================] - 0s 7ms/step - loss: 219.3308 - val_loss: 1667.6656\n",
      "Epoch 265/500\n",
      "25/25 [==============================] - 0s 6ms/step - loss: 219.3308 - val_loss: 1667.6733\n",
      "Epoch 266/500\n",
      "25/25 [==============================] - 0s 6ms/step - loss: 219.3309 - val_loss: 1667.6804\n",
      "Epoch 267/500\n",
      "25/25 [==============================] - 0s 7ms/step - loss: 219.3310 - val_loss: 1667.6866\n",
      "Epoch 268/500\n",
      "25/25 [==============================] - 0s 6ms/step - loss: 219.3311 - val_loss: 1667.6917\n",
      "Epoch 269/500\n",
      "25/25 [==============================] - 0s 5ms/step - loss: 219.3311 - val_loss: 1667.6971\n",
      "Epoch 270/500\n",
      "25/25 [==============================] - 0s 8ms/step - loss: 219.3313 - val_loss: 1667.7029\n",
      "Epoch 271/500\n",
      "25/25 [==============================] - 0s 5ms/step - loss: 219.3313 - val_loss: 1667.7068\n",
      "Epoch 272/500\n",
      "25/25 [==============================] - 0s 5ms/step - loss: 219.3316 - val_loss: 1667.7111\n",
      "Epoch 273/500\n",
      "25/25 [==============================] - 0s 5ms/step - loss: 219.3316 - val_loss: 1667.7148\n",
      "Epoch 274/500\n",
      "25/25 [==============================] - 0s 5ms/step - loss: 219.3318 - val_loss: 1667.7183\n",
      "Epoch 275/500\n",
      "25/25 [==============================] - 0s 5ms/step - loss: 219.3320 - val_loss: 1667.7212\n",
      "Epoch 276/500\n",
      "25/25 [==============================] - 0s 5ms/step - loss: 219.3322 - val_loss: 1667.7244\n",
      "Epoch 277/500\n",
      "25/25 [==============================] - 0s 5ms/step - loss: 219.3323 - val_loss: 1667.7274\n",
      "Epoch 278/500\n",
      "25/25 [==============================] - 0s 5ms/step - loss: 219.3326 - val_loss: 1667.7300\n",
      "Epoch 279/500\n",
      "25/25 [==============================] - 0s 5ms/step - loss: 219.3327 - val_loss: 1667.7321\n",
      "Epoch 280/500\n",
      "25/25 [==============================] - 0s 5ms/step - loss: 219.3328 - val_loss: 1667.7335\n",
      "Epoch 281/500\n",
      "25/25 [==============================] - 0s 6ms/step - loss: 219.3330 - val_loss: 1667.7358\n",
      "Epoch 282/500\n",
      "25/25 [==============================] - 0s 6ms/step - loss: 219.3333 - val_loss: 1667.7375\n",
      "Epoch 283/500\n",
      "25/25 [==============================] - 0s 7ms/step - loss: 219.3334 - val_loss: 1667.7391\n",
      "Epoch 284/500\n",
      "25/25 [==============================] - 0s 9ms/step - loss: 219.3335 - val_loss: 1667.7396\n",
      "Epoch 285/500\n",
      "25/25 [==============================] - 0s 5ms/step - loss: 219.3337 - val_loss: 1667.7404\n",
      "Epoch 286/500\n",
      "25/25 [==============================] - 0s 6ms/step - loss: 219.3340 - val_loss: 1667.7417\n",
      "Epoch 287/500\n",
      "25/25 [==============================] - 0s 5ms/step - loss: 219.3341 - val_loss: 1667.7427\n",
      "Epoch 288/500\n",
      "25/25 [==============================] - 0s 5ms/step - loss: 219.3343 - val_loss: 1667.7429\n",
      "Epoch 289/500\n",
      "25/25 [==============================] - 0s 5ms/step - loss: 219.3345 - val_loss: 1667.7444\n",
      "Epoch 290/500\n",
      "25/25 [==============================] - 0s 5ms/step - loss: 219.3347 - val_loss: 1667.7444\n",
      "Epoch 291/500\n",
      "25/25 [==============================] - 0s 5ms/step - loss: 219.3349 - val_loss: 1667.7449\n",
      "Epoch 292/500\n",
      "25/25 [==============================] - 0s 7ms/step - loss: 219.3350 - val_loss: 1667.7445\n",
      "Epoch 293/500\n",
      "25/25 [==============================] - 0s 7ms/step - loss: 219.3353 - val_loss: 1667.7439\n",
      "Epoch 294/500\n",
      "25/25 [==============================] - 0s 5ms/step - loss: 219.3354 - val_loss: 1667.7434\n",
      "Epoch 295/500\n",
      "25/25 [==============================] - 0s 6ms/step - loss: 219.3357 - val_loss: 1667.7434\n",
      "Epoch 296/500\n",
      "25/25 [==============================] - 0s 5ms/step - loss: 219.3358 - val_loss: 1667.7429\n",
      "Epoch 297/500\n",
      "25/25 [==============================] - 0s 5ms/step - loss: 219.3360 - val_loss: 1667.7429\n",
      "Epoch 298/500\n",
      "25/25 [==============================] - 0s 6ms/step - loss: 219.3362 - val_loss: 1667.7433\n",
      "Epoch 299/500\n",
      "25/25 [==============================] - 0s 8ms/step - loss: 219.3363 - val_loss: 1667.7422\n",
      "Epoch 300/500\n",
      "25/25 [==============================] - 0s 5ms/step - loss: 219.3365 - val_loss: 1667.7415\n",
      "Epoch 301/500\n",
      "25/25 [==============================] - 0s 5ms/step - loss: 219.3367 - val_loss: 1667.7407\n",
      "Epoch 302/500\n",
      "25/25 [==============================] - 0s 5ms/step - loss: 219.3367 - val_loss: 1667.7402\n",
      "Epoch 303/500\n",
      "25/25 [==============================] - 0s 5ms/step - loss: 219.3369 - val_loss: 1667.7394\n",
      "Epoch 304/500\n",
      "25/25 [==============================] - 0s 5ms/step - loss: 219.3371 - val_loss: 1667.7378\n",
      "Epoch 305/500\n",
      "25/25 [==============================] - 0s 5ms/step - loss: 219.3373 - val_loss: 1667.7366\n",
      "Epoch 306/500\n",
      "25/25 [==============================] - 0s 5ms/step - loss: 219.3375 - val_loss: 1667.7356\n",
      "Epoch 307/500\n",
      "25/25 [==============================] - 0s 8ms/step - loss: 219.3376 - val_loss: 1667.7338\n",
      "Epoch 308/500\n",
      "25/25 [==============================] - 0s 6ms/step - loss: 219.3378 - val_loss: 1667.7322\n",
      "Epoch 309/500\n",
      "25/25 [==============================] - 0s 5ms/step - loss: 219.3380 - val_loss: 1667.7301\n",
      "Epoch 310/500\n",
      "25/25 [==============================] - 0s 5ms/step - loss: 219.3381 - val_loss: 1667.7284\n",
      "Epoch 311/500\n",
      "25/25 [==============================] - 0s 5ms/step - loss: 219.3383 - val_loss: 1667.7271\n",
      "Epoch 312/500\n",
      "25/25 [==============================] - 0s 6ms/step - loss: 219.3384 - val_loss: 1667.7253\n",
      "Epoch 313/500\n",
      "25/25 [==============================] - 0s 6ms/step - loss: 219.3385 - val_loss: 1667.7242\n",
      "Epoch 314/500\n",
      "25/25 [==============================] - 0s 7ms/step - loss: 219.3386 - val_loss: 1667.7214\n",
      "Epoch 315/500\n",
      "25/25 [==============================] - 0s 7ms/step - loss: 219.3388 - val_loss: 1667.7197\n",
      "Epoch 316/500\n",
      "25/25 [==============================] - 0s 6ms/step - loss: 219.3389 - val_loss: 1667.7181\n",
      "Epoch 317/500\n",
      "25/25 [==============================] - 0s 5ms/step - loss: 219.3390 - val_loss: 1667.7157\n",
      "Epoch 318/500\n",
      "25/25 [==============================] - 0s 5ms/step - loss: 219.3392 - val_loss: 1667.7145\n",
      "Epoch 319/500\n",
      "25/25 [==============================] - 0s 5ms/step - loss: 219.3392 - val_loss: 1667.7119\n",
      "Epoch 320/500\n",
      "25/25 [==============================] - 0s 5ms/step - loss: 219.3393 - val_loss: 1667.7086\n",
      "Epoch 321/500\n",
      "25/25 [==============================] - 0s 5ms/step - loss: 219.3395 - val_loss: 1667.7054\n",
      "Epoch 322/500\n",
      "25/25 [==============================] - 0s 5ms/step - loss: 219.3395 - val_loss: 1667.7020\n",
      "Epoch 323/500\n",
      "25/25 [==============================] - 0s 5ms/step - loss: 219.3398 - val_loss: 1667.6992\n",
      "Epoch 324/500\n",
      "25/25 [==============================] - 0s 5ms/step - loss: 219.3400 - val_loss: 1667.6968\n",
      "Epoch 325/500\n",
      "25/25 [==============================] - 0s 5ms/step - loss: 219.3400 - val_loss: 1667.6935\n",
      "Epoch 326/500\n",
      "25/25 [==============================] - 0s 4ms/step - loss: 219.3400 - val_loss: 1667.6895\n",
      "Epoch 327/500\n",
      "25/25 [==============================] - 0s 5ms/step - loss: 219.3402 - val_loss: 1667.6864\n",
      "Epoch 328/500\n",
      "25/25 [==============================] - 0s 5ms/step - loss: 219.3402 - val_loss: 1667.6819\n",
      "Epoch 329/500\n",
      "25/25 [==============================] - 0s 5ms/step - loss: 219.3403 - val_loss: 1667.6779\n",
      "Epoch 330/500\n",
      "25/25 [==============================] - 0s 5ms/step - loss: 219.3405 - val_loss: 1667.6737\n",
      "Epoch 331/500\n",
      "25/25 [==============================] - 0s 11ms/step - loss: 219.3406 - val_loss: 1667.6696\n",
      "Epoch 332/500\n",
      "25/25 [==============================] - 0s 7ms/step - loss: 219.3406 - val_loss: 1667.6649\n",
      "Epoch 333/500\n",
      "25/25 [==============================] - 0s 6ms/step - loss: 219.3408 - val_loss: 1667.6605\n",
      "Epoch 334/500\n",
      "25/25 [==============================] - 0s 5ms/step - loss: 219.3408 - val_loss: 1667.6554\n",
      "Epoch 335/500\n",
      "25/25 [==============================] - 0s 5ms/step - loss: 219.3409 - val_loss: 1667.6505\n",
      "Epoch 336/500\n",
      "25/25 [==============================] - 0s 5ms/step - loss: 219.3409 - val_loss: 1667.6440\n",
      "Epoch 337/500\n",
      "25/25 [==============================] - 0s 5ms/step - loss: 219.3409 - val_loss: 1667.6370\n",
      "Epoch 338/500\n",
      "25/25 [==============================] - 0s 6ms/step - loss: 219.3410 - val_loss: 1667.6295\n",
      "Epoch 339/500\n",
      "25/25 [==============================] - 0s 6ms/step - loss: 219.3412 - val_loss: 1667.6226\n",
      "Epoch 340/500\n",
      "25/25 [==============================] - 0s 6ms/step - loss: 219.3413 - val_loss: 1667.6146\n",
      "Epoch 341/500\n",
      "25/25 [==============================] - 0s 6ms/step - loss: 219.3413 - val_loss: 1667.6056\n",
      "Epoch 342/500\n",
      "25/25 [==============================] - 0s 6ms/step - loss: 219.3414 - val_loss: 1667.5959\n",
      "Epoch 343/500\n",
      "25/25 [==============================] - 0s 5ms/step - loss: 219.3415 - val_loss: 1667.5862\n",
      "Epoch 344/500\n",
      "25/25 [==============================] - 0s 6ms/step - loss: 219.3416 - val_loss: 1667.5764\n",
      "Epoch 345/500\n",
      "25/25 [==============================] - 0s 5ms/step - loss: 219.3417 - val_loss: 1667.5654\n",
      "Epoch 346/500\n",
      "25/25 [==============================] - 0s 6ms/step - loss: 219.3417 - val_loss: 1667.5521\n",
      "Epoch 347/500\n",
      "25/25 [==============================] - 0s 5ms/step - loss: 219.3418 - val_loss: 1667.5375\n",
      "Epoch 348/500\n",
      "25/25 [==============================] - 0s 6ms/step - loss: 219.3418 - val_loss: 1667.5211\n",
      "Epoch 349/500\n",
      "25/25 [==============================] - 0s 6ms/step - loss: 219.3419 - val_loss: 1667.5032\n",
      "Epoch 350/500\n",
      "25/25 [==============================] - 0s 6ms/step - loss: 219.3419 - val_loss: 1667.4827\n",
      "Epoch 351/500\n",
      "25/25 [==============================] - 0s 6ms/step - loss: 219.3420 - val_loss: 1667.4589\n",
      "Epoch 352/500\n",
      "25/25 [==============================] - 0s 7ms/step - loss: 219.3420 - val_loss: 1667.4308\n",
      "Epoch 353/500\n",
      "25/25 [==============================] - 0s 7ms/step - loss: 219.3421 - val_loss: 1667.3976\n",
      "Epoch 354/500\n",
      "25/25 [==============================] - 0s 8ms/step - loss: 219.3422 - val_loss: 1667.3577\n",
      "Epoch 355/500\n",
      "25/25 [==============================] - 0s 14ms/step - loss: 219.3423 - val_loss: 1667.3070\n",
      "Epoch 356/500\n",
      "25/25 [==============================] - 0s 9ms/step - loss: 219.3423 - val_loss: 1667.2415\n",
      "Epoch 357/500\n",
      "25/25 [==============================] - 0s 8ms/step - loss: 219.3423 - val_loss: 1667.1517\n",
      "Epoch 358/500\n",
      "25/25 [==============================] - 0s 8ms/step - loss: 219.3424 - val_loss: 1667.0225\n",
      "Epoch 359/500\n",
      "25/25 [==============================] - 0s 7ms/step - loss: 219.3424 - val_loss: 1666.8401\n",
      "Epoch 360/500\n",
      "25/25 [==============================] - 0s 7ms/step - loss: 219.3424 - val_loss: 1666.6188\n",
      "Epoch 361/500\n",
      "25/25 [==============================] - 0s 7ms/step - loss: 219.3434 - val_loss: 1660.9282\n",
      "Epoch 362/500\n",
      "25/25 [==============================] - 0s 7ms/step - loss: 219.3432 - val_loss: 1667.0355\n",
      "Epoch 363/500\n",
      "25/25 [==============================] - 0s 6ms/step - loss: 219.3417 - val_loss: 1666.9032\n",
      "Epoch 364/500\n",
      "25/25 [==============================] - 0s 5ms/step - loss: 219.3416 - val_loss: 1662.2205\n",
      "Epoch 365/500\n",
      "25/25 [==============================] - 0s 5ms/step - loss: 211.5925 - val_loss: 1594.8848\n",
      "Epoch 366/500\n",
      "25/25 [==============================] - 0s 5ms/step - loss: 225.6695 - val_loss: 1598.7329\n",
      "Epoch 367/500\n",
      "25/25 [==============================] - 0s 6ms/step - loss: 225.1962 - val_loss: 1603.3433\n",
      "Epoch 368/500\n",
      "25/25 [==============================] - 0s 6ms/step - loss: 224.6445 - val_loss: 1607.7305\n",
      "Epoch 369/500\n",
      "25/25 [==============================] - 0s 6ms/step - loss: 224.1417 - val_loss: 1611.8336\n",
      "Epoch 370/500\n",
      "25/25 [==============================] - 0s 6ms/step - loss: 223.6913 - val_loss: 1615.6670\n",
      "Epoch 371/500\n",
      "25/25 [==============================] - 0s 6ms/step - loss: 223.2876 - val_loss: 1619.2439\n",
      "Epoch 372/500\n",
      "25/25 [==============================] - 0s 6ms/step - loss: 222.9256 - val_loss: 1622.5829\n",
      "Epoch 373/500\n",
      "25/25 [==============================] - 0s 7ms/step - loss: 222.6005 - val_loss: 1625.6987\n",
      "Epoch 374/500\n",
      "25/25 [==============================] - 0s 7ms/step - loss: 222.3081 - val_loss: 1628.6051\n",
      "Epoch 375/500\n",
      "25/25 [==============================] - 0s 5ms/step - loss: 222.0447 - val_loss: 1631.3159\n",
      "Epoch 376/500\n",
      "25/25 [==============================] - 0s 5ms/step - loss: 221.8072 - val_loss: 1633.8434\n",
      "Epoch 377/500\n",
      "25/25 [==============================] - 0s 5ms/step - loss: 221.5930 - val_loss: 1636.2009\n",
      "Epoch 378/500\n",
      "25/25 [==============================] - 0s 8ms/step - loss: 221.3991 - val_loss: 1638.3979\n",
      "Epoch 379/500\n",
      "25/25 [==============================] - 0s 7ms/step - loss: 221.2237 - val_loss: 1640.4453\n",
      "Epoch 380/500\n",
      "25/25 [==============================] - 0s 6ms/step - loss: 221.0647 - val_loss: 1642.3539\n",
      "Epoch 381/500\n",
      "25/25 [==============================] - 0s 5ms/step - loss: 220.9204 - val_loss: 1644.1312\n",
      "Epoch 382/500\n",
      "25/25 [==============================] - 0s 5ms/step - loss: 220.7894 - val_loss: 1645.7880\n",
      "Epoch 383/500\n",
      "25/25 [==============================] - 0s 5ms/step - loss: 220.6702 - val_loss: 1647.3314\n",
      "Epoch 384/500\n",
      "25/25 [==============================] - 0s 5ms/step - loss: 220.5617 - val_loss: 1648.7676\n",
      "Epoch 385/500\n",
      "25/25 [==============================] - 0s 5ms/step - loss: 220.4628 - val_loss: 1650.1066\n",
      "Epoch 386/500\n",
      "25/25 [==============================] - 0s 5ms/step - loss: 220.3725 - val_loss: 1651.3519\n",
      "Epoch 387/500\n",
      "25/25 [==============================] - 0s 5ms/step - loss: 220.2902 - val_loss: 1652.5128\n",
      "Epoch 388/500\n",
      "25/25 [==============================] - 0s 5ms/step - loss: 220.2149 - val_loss: 1653.5927\n",
      "Epoch 389/500\n",
      "25/25 [==============================] - 0s 8ms/step - loss: 220.1460 - val_loss: 1654.5977\n",
      "Epoch 390/500\n",
      "25/25 [==============================] - 0s 6ms/step - loss: 220.0830 - val_loss: 1655.5344\n",
      "Epoch 391/500\n",
      "25/25 [==============================] - 0s 5ms/step - loss: 220.0252 - val_loss: 1656.4062\n",
      "Epoch 392/500\n",
      "25/25 [==============================] - 0s 5ms/step - loss: 219.9720 - val_loss: 1657.2183\n",
      "Epoch 393/500\n",
      "25/25 [==============================] - 0s 5ms/step - loss: 219.9233 - val_loss: 1657.9730\n",
      "Epoch 394/500\n",
      "25/25 [==============================] - 0s 4ms/step - loss: 219.8785 - val_loss: 1658.6764\n",
      "Epoch 395/500\n",
      "25/25 [==============================] - 0s 5ms/step - loss: 219.8373 - val_loss: 1659.3293\n",
      "Epoch 396/500\n",
      "25/25 [==============================] - 0s 4ms/step - loss: 219.7996 - val_loss: 1659.9391\n",
      "Epoch 397/500\n",
      "25/25 [==============================] - 0s 5ms/step - loss: 219.7646 - val_loss: 1660.5050\n",
      "Epoch 398/500\n",
      "25/25 [==============================] - 0s 4ms/step - loss: 219.7324 - val_loss: 1661.0314\n",
      "Epoch 399/500\n",
      "25/25 [==============================] - 0s 7ms/step - loss: 219.7029 - val_loss: 1661.5214\n",
      "Epoch 400/500\n",
      "25/25 [==============================] - 0s 11ms/step - loss: 219.6756 - val_loss: 1661.9771\n",
      "Epoch 401/500\n",
      "25/25 [==============================] - 0s 7ms/step - loss: 219.6505 - val_loss: 1662.4006\n",
      "Epoch 402/500\n",
      "25/25 [==============================] - 0s 5ms/step - loss: 219.6273 - val_loss: 1662.7966\n",
      "Epoch 403/500\n",
      "25/25 [==============================] - 0s 5ms/step - loss: 219.6059 - val_loss: 1663.1638\n",
      "Epoch 404/500\n",
      "25/25 [==============================] - 0s 6ms/step - loss: 219.5860 - val_loss: 1663.5048\n",
      "Epoch 405/500\n",
      "25/25 [==============================] - 0s 5ms/step - loss: 219.5676 - val_loss: 1663.8217\n",
      "Epoch 406/500\n",
      "25/25 [==============================] - 0s 5ms/step - loss: 219.5507 - val_loss: 1664.1174\n",
      "Epoch 407/500\n",
      "25/25 [==============================] - 0s 6ms/step - loss: 219.5350 - val_loss: 1664.3915\n",
      "Epoch 408/500\n",
      "25/25 [==============================] - 0s 5ms/step - loss: 219.5206 - val_loss: 1664.6481\n",
      "Epoch 409/500\n",
      "25/25 [==============================] - 0s 5ms/step - loss: 219.5072 - val_loss: 1664.8867\n",
      "Epoch 410/500\n",
      "25/25 [==============================] - 0s 5ms/step - loss: 219.4946 - val_loss: 1665.1075\n",
      "Epoch 411/500\n",
      "25/25 [==============================] - 0s 5ms/step - loss: 219.4831 - val_loss: 1665.3142\n",
      "Epoch 412/500\n",
      "25/25 [==============================] - 0s 5ms/step - loss: 219.4725 - val_loss: 1665.5046\n",
      "Epoch 413/500\n",
      "25/25 [==============================] - 0s 5ms/step - loss: 219.4626 - val_loss: 1665.6829\n",
      "Epoch 414/500\n",
      "25/25 [==============================] - 0s 5ms/step - loss: 219.4535 - val_loss: 1665.8480\n",
      "Epoch 415/500\n",
      "25/25 [==============================] - 0s 5ms/step - loss: 219.4450 - val_loss: 1666.0021\n",
      "Epoch 416/500\n",
      "25/25 [==============================] - 0s 5ms/step - loss: 219.4372 - val_loss: 1666.1450\n",
      "Epoch 417/500\n",
      "25/25 [==============================] - 0s 5ms/step - loss: 219.4298 - val_loss: 1666.2778\n",
      "Epoch 418/500\n",
      "25/25 [==============================] - 0s 5ms/step - loss: 219.4232 - val_loss: 1666.4016\n",
      "Epoch 419/500\n",
      "25/25 [==============================] - 0s 5ms/step - loss: 219.4168 - val_loss: 1666.5167\n",
      "Epoch 420/500\n",
      "25/25 [==============================] - 0s 4ms/step - loss: 219.4110 - val_loss: 1666.6240\n",
      "Epoch 421/500\n",
      "25/25 [==============================] - 0s 5ms/step - loss: 219.4055 - val_loss: 1666.7235\n",
      "Epoch 422/500\n",
      "25/25 [==============================] - 0s 5ms/step - loss: 219.4006 - val_loss: 1666.8156\n",
      "Epoch 423/500\n",
      "25/25 [==============================] - 0s 6ms/step - loss: 219.3959 - val_loss: 1666.9021\n",
      "Epoch 424/500\n",
      "25/25 [==============================] - 0s 7ms/step - loss: 219.3916 - val_loss: 1666.9827\n",
      "Epoch 425/500\n",
      "25/25 [==============================] - 0s 5ms/step - loss: 219.3875 - val_loss: 1667.0560\n",
      "Epoch 426/500\n",
      "25/25 [==============================] - 0s 5ms/step - loss: 219.3839 - val_loss: 1667.1259\n",
      "Epoch 427/500\n",
      "25/25 [==============================] - 0s 5ms/step - loss: 219.3804 - val_loss: 1667.1902\n",
      "Epoch 428/500\n",
      "25/25 [==============================] - 0s 5ms/step - loss: 219.3772 - val_loss: 1667.2494\n",
      "Epoch 429/500\n",
      "25/25 [==============================] - 0s 5ms/step - loss: 219.3742 - val_loss: 1667.3048\n",
      "Epoch 430/500\n",
      "25/25 [==============================] - 0s 7ms/step - loss: 219.3715 - val_loss: 1667.3567\n",
      "Epoch 431/500\n",
      "25/25 [==============================] - 0s 6ms/step - loss: 219.3689 - val_loss: 1667.4049\n",
      "Epoch 432/500\n",
      "25/25 [==============================] - 0s 5ms/step - loss: 219.3666 - val_loss: 1667.4487\n",
      "Epoch 433/500\n",
      "25/25 [==============================] - 0s 6ms/step - loss: 219.3643 - val_loss: 1667.4915\n",
      "Epoch 434/500\n",
      "25/25 [==============================] - 0s 5ms/step - loss: 219.3621 - val_loss: 1667.5297\n",
      "Epoch 435/500\n",
      "25/25 [==============================] - 0s 8ms/step - loss: 219.3603 - val_loss: 1667.5654\n",
      "Epoch 436/500\n",
      "25/25 [==============================] - 0s 5ms/step - loss: 219.3587 - val_loss: 1667.5997\n",
      "Epoch 437/500\n",
      "25/25 [==============================] - 0s 5ms/step - loss: 219.3569 - val_loss: 1667.6301\n",
      "Epoch 438/500\n",
      "25/25 [==============================] - 0s 5ms/step - loss: 219.3553 - val_loss: 1667.6588\n",
      "Epoch 439/500\n",
      "25/25 [==============================] - 0s 5ms/step - loss: 219.3540 - val_loss: 1667.6860\n",
      "Epoch 440/500\n",
      "25/25 [==============================] - 0s 5ms/step - loss: 219.3527 - val_loss: 1667.7120\n",
      "Epoch 441/500\n",
      "25/25 [==============================] - 0s 4ms/step - loss: 219.3514 - val_loss: 1667.7343\n",
      "Epoch 442/500\n",
      "25/25 [==============================] - 0s 5ms/step - loss: 219.3503 - val_loss: 1667.7562\n",
      "Epoch 443/500\n",
      "25/25 [==============================] - 0s 5ms/step - loss: 219.3491 - val_loss: 1667.7755\n",
      "Epoch 444/500\n",
      "25/25 [==============================] - 0s 13ms/step - loss: 219.3482 - val_loss: 1667.7949\n",
      "Epoch 445/500\n",
      "25/25 [==============================] - 0s 6ms/step - loss: 219.3474 - val_loss: 1667.8126\n",
      "Epoch 446/500\n",
      "25/25 [==============================] - 0s 5ms/step - loss: 219.3465 - val_loss: 1667.8290\n",
      "Epoch 447/500\n",
      "25/25 [==============================] - 0s 5ms/step - loss: 219.3457 - val_loss: 1667.8442\n",
      "Epoch 448/500\n",
      "25/25 [==============================] - 0s 6ms/step - loss: 219.3448 - val_loss: 1667.8575\n",
      "Epoch 449/500\n",
      "25/25 [==============================] - 0s 5ms/step - loss: 219.3442 - val_loss: 1667.8700\n",
      "Epoch 450/500\n",
      "25/25 [==============================] - 0s 5ms/step - loss: 219.3436 - val_loss: 1667.8826\n",
      "Epoch 451/500\n",
      "25/25 [==============================] - 0s 5ms/step - loss: 219.3430 - val_loss: 1667.8943\n",
      "Epoch 452/500\n",
      "25/25 [==============================] - 0s 5ms/step - loss: 219.3424 - val_loss: 1667.9045\n",
      "Epoch 453/500\n",
      "25/25 [==============================] - 0s 6ms/step - loss: 219.3419 - val_loss: 1667.9139\n",
      "Epoch 454/500\n",
      "25/25 [==============================] - 0s 5ms/step - loss: 219.3414 - val_loss: 1667.9231\n",
      "Epoch 455/500\n",
      "25/25 [==============================] - 0s 5ms/step - loss: 219.3411 - val_loss: 1667.9304\n",
      "Epoch 456/500\n",
      "25/25 [==============================] - 0s 5ms/step - loss: 219.3407 - val_loss: 1667.9386\n",
      "Epoch 457/500\n",
      "25/25 [==============================] - 0s 5ms/step - loss: 219.3403 - val_loss: 1667.9460\n",
      "Epoch 458/500\n",
      "25/25 [==============================] - 0s 4ms/step - loss: 219.3400 - val_loss: 1667.9534\n",
      "Epoch 459/500\n",
      "25/25 [==============================] - 0s 5ms/step - loss: 219.3396 - val_loss: 1667.9590\n",
      "Epoch 460/500\n",
      "25/25 [==============================] - 0s 5ms/step - loss: 219.3393 - val_loss: 1667.9652\n",
      "Epoch 461/500\n",
      "25/25 [==============================] - 0s 5ms/step - loss: 219.3389 - val_loss: 1667.9701\n",
      "Epoch 462/500\n",
      "25/25 [==============================] - 0s 5ms/step - loss: 219.3387 - val_loss: 1667.9747\n",
      "Epoch 463/500\n",
      "25/25 [==============================] - 0s 5ms/step - loss: 219.3386 - val_loss: 1667.9806\n",
      "Epoch 464/500\n",
      "25/25 [==============================] - 0s 5ms/step - loss: 219.3383 - val_loss: 1667.9855\n",
      "Epoch 465/500\n",
      "25/25 [==============================] - 0s 5ms/step - loss: 219.3380 - val_loss: 1667.9888\n",
      "Epoch 466/500\n",
      "25/25 [==============================] - 0s 5ms/step - loss: 219.3378 - val_loss: 1667.9927\n",
      "Epoch 467/500\n",
      "25/25 [==============================] - 0s 5ms/step - loss: 219.3377 - val_loss: 1667.9968\n",
      "Epoch 468/500\n",
      "25/25 [==============================] - 0s 9ms/step - loss: 219.3375 - val_loss: 1668.0001\n",
      "Epoch 469/500\n",
      "25/25 [==============================] - 0s 5ms/step - loss: 219.3373 - val_loss: 1668.0029\n",
      "Epoch 470/500\n",
      "25/25 [==============================] - 0s 5ms/step - loss: 219.3371 - val_loss: 1668.0051\n",
      "Epoch 471/500\n",
      "25/25 [==============================] - 0s 5ms/step - loss: 219.3371 - val_loss: 1668.0072\n",
      "Epoch 472/500\n",
      "25/25 [==============================] - 0s 5ms/step - loss: 219.3370 - val_loss: 1668.0093\n",
      "Epoch 473/500\n",
      "25/25 [==============================] - 0s 5ms/step - loss: 219.3369 - val_loss: 1668.0106\n",
      "Epoch 474/500\n",
      "25/25 [==============================] - 0s 5ms/step - loss: 219.3368 - val_loss: 1668.0127\n",
      "Epoch 475/500\n",
      "25/25 [==============================] - 0s 5ms/step - loss: 219.3368 - val_loss: 1668.0143\n",
      "Epoch 476/500\n",
      "25/25 [==============================] - 0s 5ms/step - loss: 219.3367 - val_loss: 1668.0153\n",
      "Epoch 477/500\n",
      "25/25 [==============================] - 0s 4ms/step - loss: 219.3366 - val_loss: 1668.0165\n",
      "Epoch 478/500\n",
      "25/25 [==============================] - 0s 5ms/step - loss: 219.3365 - val_loss: 1668.0179\n",
      "Epoch 479/500\n",
      "25/25 [==============================] - 0s 5ms/step - loss: 219.3365 - val_loss: 1668.0194\n",
      "Epoch 480/500\n",
      "25/25 [==============================] - 0s 4ms/step - loss: 219.3364 - val_loss: 1668.0209\n",
      "Epoch 481/500\n",
      "25/25 [==============================] - 0s 5ms/step - loss: 219.3364 - val_loss: 1668.0222\n",
      "Epoch 482/500\n",
      "25/25 [==============================] - 0s 4ms/step - loss: 219.3363 - val_loss: 1668.0236\n",
      "Epoch 483/500\n",
      "25/25 [==============================] - 0s 4ms/step - loss: 219.3362 - val_loss: 1668.0247\n",
      "Epoch 484/500\n",
      "25/25 [==============================] - 0s 5ms/step - loss: 219.3362 - val_loss: 1668.0267\n",
      "Epoch 485/500\n",
      "25/25 [==============================] - 0s 4ms/step - loss: 219.3361 - val_loss: 1668.0277\n",
      "Epoch 486/500\n",
      "25/25 [==============================] - 0s 4ms/step - loss: 219.3361 - val_loss: 1668.0292\n",
      "Epoch 487/500\n",
      "25/25 [==============================] - 0s 4ms/step - loss: 219.3360 - val_loss: 1668.0302\n",
      "Epoch 488/500\n",
      "25/25 [==============================] - 0s 10ms/step - loss: 219.3359 - val_loss: 1668.0308\n",
      "Epoch 489/500\n",
      "25/25 [==============================] - 0s 5ms/step - loss: 219.3359 - val_loss: 1668.0317\n",
      "Epoch 490/500\n",
      "25/25 [==============================] - 0s 5ms/step - loss: 219.3359 - val_loss: 1668.0330\n",
      "Epoch 491/500\n",
      "25/25 [==============================] - 0s 5ms/step - loss: 219.3358 - val_loss: 1668.0338\n",
      "Epoch 492/500\n",
      "25/25 [==============================] - 0s 5ms/step - loss: 219.3358 - val_loss: 1668.0349\n",
      "Epoch 493/500\n",
      "25/25 [==============================] - 0s 4ms/step - loss: 219.3357 - val_loss: 1668.0359\n",
      "Epoch 494/500\n",
      "25/25 [==============================] - 0s 4ms/step - loss: 219.3357 - val_loss: 1668.0370\n",
      "Epoch 495/500\n",
      "25/25 [==============================] - 0s 4ms/step - loss: 219.3356 - val_loss: 1668.0385\n",
      "Epoch 496/500\n",
      "25/25 [==============================] - 0s 4ms/step - loss: 219.3356 - val_loss: 1668.0393\n",
      "Epoch 497/500\n",
      "25/25 [==============================] - 0s 5ms/step - loss: 219.3355 - val_loss: 1668.0405\n",
      "Epoch 498/500\n",
      "25/25 [==============================] - 0s 4ms/step - loss: 219.3355 - val_loss: 1668.0414\n",
      "Epoch 499/500\n",
      "25/25 [==============================] - 0s 4ms/step - loss: 219.3355 - val_loss: 1668.0424\n",
      "Epoch 500/500\n",
      "25/25 [==============================] - 0s 4ms/step - loss: 219.3354 - val_loss: 1668.0435\n"
     ]
    }
   ],
   "source": [
    "C0 = tf.Variable(89.3180, name=\"C0\", trainable=True, dtype=tf.float32)\n",
    "K0 = tf.Variable(-0.0010, name=\"K0\", trainable=True, dtype=tf.float32)\n",
    "K1 = tf.Variable(0.0001, name=\"K1\", trainable=True, dtype=tf.float32)\n",
    "a = tf.Variable(0.0000, name=\"a\", trainable=True, dtype=tf.float32)\n",
    "b = tf.Variable(-0.0204, name=\"b\", trainable=True, dtype=tf.float32)\n",
    "c = tf.Variable(2.2194, name=\"c\", trainable=True, dtype=tf.float32)\n",
    "\n",
    "splitr = 0.8\n",
    "\n",
    "\n",
    "def loss_fn(y_true, y_pred):\n",
    "    squared_difference = tf.square(y_true[:, 0] - y_pred[:, 0])\n",
    "    #squared_difference2 = tf.square(y_true[:, 2]-y_pred[:, 2])\n",
    "    #squared_difference1 = tf.square(y_true[:, 1]-y_pred[:, 1])\n",
    "    epsilon = 1\n",
    "    squared_difference3 = tf.square(\n",
    "        y_pred[:, 1] - (\n",
    "            y_pred[:, 0] * (\n",
    "                K0 - K1 * (\n",
    "                    9 * a * tf.math.log((y_pred[:, 0] + epsilon) / C0) / (K0 - K1 * c)**2 +\n",
    "                    4 * b * tf.math.log((y_pred[:, 0] + epsilon) / C0) / (K0 - K1 * c) + c\n",
    "                )\n",
    "            )\n",
    "        )\n",
    "    )\n",
    "    return tf.reduce_mean(squared_difference, axis=-1) + 0.2*tf.reduce_mean(squared_difference3, axis=-1)\n",
    "model = Sequential()\n",
    "model.add(LSTM(100, input_shape=(trainX.shape[1], trainX.shape[2])))\n",
    "model.add(Dense(60))\n",
    "model.compile(loss=loss_fn, optimizer='adam')\n",
    "history = model.fit(trainX[:int(splitr*trainX.shape[0])], trainy[:int(splitr*trainX.shape[0])], epochs=500, batch_size=64, validation_data=(trainX[int(splitr*trainX.shape[0]):trainX.shape[0]], trainy[int(splitr*trainX.shape[0]):trainX.shape[0]]), shuffle=False)"
   ]
  },
  {
   "cell_type": "code",
   "execution_count": 19,
   "metadata": {
    "colab": {
     "base_uri": "https://localhost:8080/"
    },
    "id": "yJL101rPyuoT",
    "outputId": "239ff2b1-c186-423a-d316-939dfdd7c793"
   },
   "outputs": [
    {
     "name": "stdout",
     "output_type": "stream",
     "text": [
      "1/1 [==============================] - 0s 374ms/step\n"
     ]
    }
   ],
   "source": [
    "forecast_without_mc = forecastX\n",
    "yhat_without_mc = model.predict(forecast_without_mc) # Step Ahead Prediction\n",
    "forecast_without_mc = forecast_without_mc.reshape((forecast_without_mc.shape[0], forecast_without_mc.shape[2])) # Historical Input"
   ]
  },
  {
   "cell_type": "code",
   "execution_count": 20,
   "metadata": {
    "colab": {
     "base_uri": "https://localhost:8080/"
    },
    "id": "g9dQELcJ8wbp",
    "outputId": "4dc7671b-b1a8-48d5-8744-a86f98446109"
   },
   "outputs": [
    {
     "data": {
      "text/plain": [
       "(1, 1, 251)"
      ]
     },
     "execution_count": 20,
     "metadata": {},
     "output_type": "execute_result"
    }
   ],
   "source": [
    "forecastX.shape"
   ]
  },
  {
   "cell_type": "code",
   "execution_count": 21,
   "metadata": {
    "colab": {
     "base_uri": "https://localhost:8080/"
    },
    "id": "IS2kyIKG1Kbr",
    "outputId": "f31b3485-8e26-452f-9298-ea8bf7e80ad1"
   },
   "outputs": [
    {
     "data": {
      "text/plain": [
       "(1, 251)"
      ]
     },
     "execution_count": 21,
     "metadata": {},
     "output_type": "execute_result"
    }
   ],
   "source": [
    "forecast_without_mc.shape"
   ]
  },
  {
   "cell_type": "code",
   "execution_count": 22,
   "metadata": {
    "id": "0u6VIzaDyuoT"
   },
   "outputs": [],
   "source": [
    "inv_yhat_without_mc = np.concatenate((forecast_without_mc, yhat_without_mc), axis=1) # Concatenation of predicted values with Historical Data\n",
    "#inv_yhat_without_mc = scaler.inverse_transform(inv_yhat_without_mc) # Transform labels back to original encoding"
   ]
  },
  {
   "cell_type": "code",
   "execution_count": 23,
   "metadata": {
    "colab": {
     "base_uri": "https://localhost:8080/"
    },
    "id": "EUEcw0LX07oU",
    "outputId": "cfc32397-9c37-4b43-d087-584bb31c3dcc"
   },
   "outputs": [
    {
     "data": {
      "text/plain": [
       "(1, 311)"
      ]
     },
     "execution_count": 23,
     "metadata": {},
     "output_type": "execute_result"
    }
   ],
   "source": [
    "inv_yhat_without_mc.shape"
   ]
  },
  {
   "cell_type": "code",
   "execution_count": 24,
   "metadata": {
    "id": "31OWVbSh_305"
   },
   "outputs": [],
   "source": [
    "fforecast = inv_yhat_without_mc[:,-300:]"
   ]
  },
  {
   "cell_type": "code",
   "execution_count": 25,
   "metadata": {},
   "outputs": [
    {
     "data": {
      "text/plain": [
       "(1, 300)"
      ]
     },
     "execution_count": 25,
     "metadata": {},
     "output_type": "execute_result"
    }
   ],
   "source": [
    "fforecast.shape"
   ]
  },
  {
   "cell_type": "code",
   "execution_count": 26,
   "metadata": {
    "id": "BlpGH2FOAiRF"
   },
   "outputs": [],
   "source": [
    "final_forecast = fforecast[:,0:300:3]"
   ]
  },
  {
   "cell_type": "code",
   "execution_count": 27,
   "metadata": {},
   "outputs": [
    {
     "data": {
      "text/plain": [
       "(1, 300)"
      ]
     },
     "execution_count": 27,
     "metadata": {},
     "output_type": "execute_result"
    }
   ],
   "source": [
    "fforecast.shape"
   ]
  },
  {
   "cell_type": "code",
   "execution_count": 28,
   "metadata": {
    "id": "CXkgkj_LBk_t"
   },
   "outputs": [],
   "source": [
    "# code to replace all negative value with 0\n",
    "final_forecast[final_forecast<0] = 0"
   ]
  },
  {
   "cell_type": "code",
   "execution_count": 29,
   "metadata": {},
   "outputs": [
    {
     "data": {
      "text/plain": [
       "array([[7.20490686e+01, 7.20314216e+01, 7.20137745e+01, 6.97612745e+01,\n",
       "        1.29356590e+00, 0.00000000e+00, 0.00000000e+00, 0.00000000e+00,\n",
       "        0.00000000e+00, 0.00000000e+00, 0.00000000e+00, 0.00000000e+00,\n",
       "        0.00000000e+00, 7.17175280e+01, 7.16192087e+01, 7.14580065e+01,\n",
       "        0.00000000e+00, 0.00000000e+00, 7.19542227e+01, 7.18559034e+01,\n",
       "        7.17575840e+01, 7.16592647e+01, 7.15299020e+01, 7.13534314e+01,\n",
       "        7.11769608e+01, 7.10004902e+01, 6.82656863e+01, 6.83389000e-02,\n",
       "        0.00000000e+00, 7.16001001e+01, 7.14253268e+01, 7.12498562e+01,\n",
       "        7.10723856e+01, 7.08918301e+01, 7.05398889e+01, 7.01859477e+01,\n",
       "        6.98330065e+01, 6.94900327e+01, 0.00000000e+00, 3.76206400e-01,\n",
       "        0.00000000e+00, 0.00000000e+00, 1.04031100e-01, 8.66873000e-01,\n",
       "        8.27256700e-01, 6.09688200e-01, 0.00000000e+00, 7.10397059e+01,\n",
       "        6.85264706e+01, 0.00000000e+00, 0.00000000e+00, 7.16228501e+01,\n",
       "        7.14645425e+01, 7.12880719e+01, 7.11116013e+01, 7.09351307e+01,\n",
       "        7.06173203e+01, 7.02643791e+01, 6.99114379e+01, 6.95614947e+01,\n",
       "        0.00000000e+00, 5.72564000e-02, 7.10070261e+01, 7.10761111e+01,\n",
       "        7.10408169e+01, 7.10055229e+01, 7.07022876e+01, 7.34305626e+01,\n",
       "        7.22885457e+01, 7.17721499e+01, 0.00000000e+00, 0.00000000e+00,\n",
       "        0.00000000e+00, 5.18126755e+01, 2.03491600e-01, 0.00000000e+00,\n",
       "        1.64696300e-01, 0.00000000e+00, 2.79348900e-01, 4.81617000e-01,\n",
       "        6.88145752e+01, 0.00000000e+00, 1.72625279e+00, 0.00000000e+00,\n",
       "        2.28045732e-01, 0.00000000e+00, 2.45720506e-01, 2.25578308e-01,\n",
       "        0.00000000e+00, 0.00000000e+00, 0.00000000e+00, 8.30577314e-03,\n",
       "        0.00000000e+00, 2.30525568e-01, 0.00000000e+00, 0.00000000e+00,\n",
       "        5.14231861e-01, 7.76045203e-01, 6.30600035e-01, 0.00000000e+00]])"
      ]
     },
     "execution_count": 29,
     "metadata": {},
     "output_type": "execute_result"
    }
   ],
   "source": [
    "final_forecast"
   ]
  },
  {
   "cell_type": "code",
   "execution_count": 30,
   "metadata": {},
   "outputs": [
    {
     "data": {
      "text/plain": [
       "(1, 100)"
      ]
     },
     "execution_count": 30,
     "metadata": {},
     "output_type": "execute_result"
    }
   ],
   "source": [
    "final_forecast.shape"
   ]
  },
  {
   "cell_type": "code",
   "execution_count": 31,
   "metadata": {},
   "outputs": [
    {
     "data": {
      "text/plain": [
       "(100,)"
      ]
     },
     "execution_count": 31,
     "metadata": {},
     "output_type": "execute_result"
    }
   ],
   "source": [
    "test.shape"
   ]
  },
  {
   "cell_type": "code",
   "execution_count": 32,
   "metadata": {},
   "outputs": [],
   "source": [
    "training_set = np.array(training_set)\n",
    "test = np.array(test)\n",
    "final_forecast = np.array(final_forecast.squeeze(0))"
   ]
  },
  {
   "cell_type": "code",
   "execution_count": 33,
   "metadata": {},
   "outputs": [
    {
     "data": {
      "text/plain": [
       "array([63.15753228, 63.14988044, 63.1422286 , 63.13457676, 63.12692492,\n",
       "       63.11927308, 63.11162123, 63.10396939, 63.09631755, 63.08866571,\n",
       "       63.08101387, 63.07336203, 63.06571019, 63.05805835, 63.0504065 ,\n",
       "       63.04275466, 63.03510282, 63.02745098, 63.01979914, 63.0121473 ,\n",
       "       63.00449546, 62.99684362, 62.98919177, 62.98153993, 62.97388809,\n",
       "       62.96623625, 62.95858441, 62.95093257, 62.94328073, 62.93562889,\n",
       "       62.92797704, 62.9203252 , 62.91267336, 62.90502152, 62.89736968,\n",
       "       62.88971784, 62.882066  , 62.87441416, 62.86676231, 62.85911047,\n",
       "       62.85145863, 62.84380679, 62.83615495, 62.82850311, 62.82085127,\n",
       "       62.81319943, 62.80554758, 62.79789574, 62.7902439 , 62.78259206,\n",
       "       62.77494022, 62.76728838, 62.75963654, 62.7519847 , 62.74433286,\n",
       "       62.73668101, 62.72902917, 62.72137733, 62.71372549, 62.70607365,\n",
       "       62.69842181, 62.69076997, 62.68311813, 62.67546628, 62.66781444,\n",
       "       62.6601626 , 62.65251076, 62.64485892, 62.63720708, 62.62955524,\n",
       "       62.6219034 , 62.61425155, 62.60659971, 62.59894787, 62.59129603,\n",
       "       62.58364419, 62.57599235, 62.56834051, 62.56068867, 62.55303682,\n",
       "       62.54538498, 62.53773314, 62.5300813 , 62.52242946, 62.51477762,\n",
       "       62.50712578, 62.49947394, 62.49182209, 62.48417025, 62.47651841,\n",
       "       62.46886657, 62.46121473, 62.45356289, 62.44591105, 62.43825921,\n",
       "       62.43060736, 62.42295552, 62.41530368, 62.40765184, 62.4       ])"
      ]
     },
     "execution_count": 33,
     "metadata": {},
     "output_type": "execute_result"
    }
   ],
   "source": [
    "test"
   ]
  },
  {
   "cell_type": "code",
   "execution_count": 34,
   "metadata": {},
   "outputs": [
    {
     "data": {
      "text/plain": [
       "(100,)"
      ]
     },
     "execution_count": 34,
     "metadata": {},
     "output_type": "execute_result"
    }
   ],
   "source": [
    "test.shape"
   ]
  },
  {
   "cell_type": "code",
   "execution_count": 35,
   "metadata": {},
   "outputs": [
    {
     "data": {
      "text/plain": [
       "(100,)"
      ]
     },
     "execution_count": 35,
     "metadata": {},
     "output_type": "execute_result"
    }
   ],
   "source": [
    "final_forecast.shape"
   ]
  },
  {
   "cell_type": "code",
   "execution_count": 36,
   "metadata": {},
   "outputs": [
    {
     "data": {
      "text/plain": [
       "(100,)"
      ]
     },
     "execution_count": 36,
     "metadata": {},
     "output_type": "execute_result"
    }
   ],
   "source": [
    "test.shape"
   ]
  },
  {
   "cell_type": "code",
   "execution_count": 37,
   "metadata": {},
   "outputs": [
    {
     "name": "stdout",
     "output_type": "stream",
     "text": [
      "46.290691827044775\n",
      "37.5352355897514\n"
     ]
    }
   ],
   "source": [
    "import math\n",
    "MSE = np.square(np.subtract(np.array(test),np.array(final_forecast))).mean()   \n",
    "rsme = math.sqrt(MSE)\n",
    "print(rsme)  \n",
    "MAE = np.abs(np.subtract(np.array(test),np.array(final_forecast))).mean()   \n",
    "mae = MAE\n",
    "print(mae)"
   ]
  }
 ],
 "metadata": {
  "colab": {
   "provenance": []
  },
  "kernelspec": {
   "display_name": "Python 3",
   "language": "python",
   "name": "python3"
  },
  "language_info": {
   "codemirror_mode": {
    "name": "ipython",
    "version": 3
   },
   "file_extension": ".py",
   "mimetype": "text/x-python",
   "name": "python",
   "nbconvert_exporter": "python",
   "pygments_lexer": "ipython3",
   "version": "3.9.13"
  }
 },
 "nbformat": 4,
 "nbformat_minor": 0
}
