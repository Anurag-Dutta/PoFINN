{
 "cells": [
  {
   "cell_type": "markdown",
   "metadata": {
    "id": "pCGKeZ2gyuoQ"
   },
   "source": [
    "_Importing Required Libraries_"
   ]
  },
  {
   "cell_type": "code",
   "execution_count": 1,
   "metadata": {
    "colab": {
     "base_uri": "https://localhost:8080/"
    },
    "id": "A-6LN-zXiLcM",
    "outputId": "4de610a4-f8b8-4f49-c6c0-89de299ccedc"
   },
   "outputs": [
    {
     "name": "stdout",
     "output_type": "stream",
     "text": [
      "Requirement already satisfied: hampel in c:\\users\\anurag dutta\\appdata\\local\\packages\\pythonsoftwarefoundation.python.3.9_qbz5n2kfra8p0\\localcache\\local-packages\\python39\\site-packages (0.0.5)\n",
      "Requirement already satisfied: numpy in c:\\users\\anurag dutta\\appdata\\local\\packages\\pythonsoftwarefoundation.python.3.9_qbz5n2kfra8p0\\localcache\\local-packages\\python39\\site-packages (from hampel) (1.26.4)\n",
      "Requirement already satisfied: pandas in c:\\users\\anurag dutta\\appdata\\local\\packages\\pythonsoftwarefoundation.python.3.9_qbz5n2kfra8p0\\localcache\\local-packages\\python39\\site-packages (from hampel) (1.5.2)\n",
      "Requirement already satisfied: python-dateutil>=2.8.1 in c:\\users\\anurag dutta\\appdata\\local\\packages\\pythonsoftwarefoundation.python.3.9_qbz5n2kfra8p0\\localcache\\local-packages\\python39\\site-packages (from pandas->hampel) (2.8.2)\n",
      "Requirement already satisfied: pytz>=2020.1 in c:\\users\\anurag dutta\\appdata\\local\\packages\\pythonsoftwarefoundation.python.3.9_qbz5n2kfra8p0\\localcache\\local-packages\\python39\\site-packages (from pandas->hampel) (2023.3.post1)\n",
      "Requirement already satisfied: six>=1.5 in c:\\users\\anurag dutta\\appdata\\local\\packages\\pythonsoftwarefoundation.python.3.9_qbz5n2kfra8p0\\localcache\\local-packages\\python39\\site-packages (from python-dateutil>=2.8.1->pandas->hampel) (1.16.0)\n",
      "Note: you may need to restart the kernel to use updated packages.\n"
     ]
    },
    {
     "name": "stderr",
     "output_type": "stream",
     "text": [
      "\n",
      "[notice] A new release of pip is available: 24.2 -> 24.3.1\n",
      "[notice] To update, run: C:\\Users\\Anurag Dutta\\AppData\\Local\\Microsoft\\WindowsApps\\PythonSoftwareFoundation.Python.3.9_qbz5n2kfra8p0\\python.exe -m pip install --upgrade pip\n"
     ]
    }
   ],
   "source": [
    "pip install hampel"
   ]
  },
  {
   "cell_type": "code",
   "execution_count": 2,
   "metadata": {
    "id": "By_d9uXpaFvZ"
   },
   "outputs": [],
   "source": [
    "from keras.models import Sequential\n",
    "from keras.layers import Dense\n",
    "from keras.layers import LSTM\n",
    "from keras.layers import Dropout\n",
    "import keras\n",
    "import tensorflow as tf\n",
    "from hampel import hampel\n",
    "import numpy as np\n",
    "import matplotlib.pyplot as plt\n",
    "import pandas as pd\n",
    "from sklearn.preprocessing import MinMaxScaler\n",
    "from sklearn.metrics import mean_squared_error, mean_absolute_error\n",
    "from math import sqrt\n",
    "from matplotlib import pyplot\n",
    "from numpy import array"
   ]
  },
  {
   "cell_type": "markdown",
   "metadata": {
    "id": "JyOjBMFayuoR"
   },
   "source": [
    "## Pretraining"
   ]
  },
  {
   "cell_type": "markdown",
   "metadata": {
    "id": "-5QqIY_GyuoR"
   },
   "source": [
    "The `capa_intermittency.dat` feeds the model with the dynamics of the Capacitor"
   ]
  },
  {
   "cell_type": "code",
   "execution_count": 3,
   "metadata": {
    "id": "9dV4a8yfyuoR"
   },
   "outputs": [],
   "source": [
    "data = np.genfromtxt('capa_intermittency.dat')\n",
    "training_set = pd.DataFrame(data).reset_index(drop=True)\n",
    "training_set = training_set.iloc[:,0]"
   ]
  },
  {
   "cell_type": "markdown",
   "metadata": {
    "id": "i7easoxByuoR"
   },
   "source": [
    "## Computing the Gradient"
   ]
  },
  {
   "cell_type": "markdown",
   "metadata": {
    "id": "5SnyolJTyuoR"
   },
   "source": [
    "_Calculating the value of_ $\\frac{dx}{dt}$"
   ]
  },
  {
   "cell_type": "code",
   "execution_count": 4,
   "metadata": {
    "colab": {
     "base_uri": "https://localhost:8080/"
    },
    "id": "wmIbVfIvyuoR",
    "outputId": "aa4e3136-c854-465d-d2e9-81cfd546e440"
   },
   "outputs": [
    {
     "name": "stdout",
     "output_type": "stream",
     "text": [
      "1.0\n",
      "1        0.000298\n",
      "2        0.000298\n",
      "3        0.000297\n",
      "4        0.000297\n",
      "5        0.000297\n",
      "           ...   \n",
      "9996     0.000018\n",
      "9997     0.000018\n",
      "9998     0.000018\n",
      "9999     0.000018\n",
      "10000    0.000018\n",
      "Name: 0, Length: 10000, dtype: float64\n"
     ]
    }
   ],
   "source": [
    "t_diff = 1\n",
    "print(training_set.max())\n",
    "gradient_t = (training_set.diff()/t_diff).iloc[1:] # dx/dt\n",
    "print(gradient_t)"
   ]
  },
  {
   "cell_type": "markdown",
   "metadata": {
    "id": "_2eVeeoxyuoS"
   },
   "source": [
    "## Loading Datasets"
   ]
  },
  {
   "cell_type": "code",
   "execution_count": 5,
   "metadata": {
    "id": "0J-NKyIEyuoS"
   },
   "outputs": [
    {
     "data": {
      "text/plain": [
       "0       84.600000\n",
       "1       84.431933\n",
       "2       84.263866\n",
       "3       84.095798\n",
       "4       83.927731\n",
       "          ...    \n",
       "2195    48.190777\n",
       "2196    48.180939\n",
       "2197    48.171101\n",
       "2198    48.161263\n",
       "2199    48.151424\n",
       "Name: C6, Length: 2200, dtype: float64"
      ]
     },
     "execution_count": 5,
     "metadata": {},
     "output_type": "execute_result"
    }
   ],
   "source": [
    "data = pd.read_csv(\"c6_interpolated_2100_100.csv\")\n",
    "training_set = data.iloc[:, 1]\n",
    "training_set"
   ]
  },
  {
   "cell_type": "code",
   "execution_count": 6,
   "metadata": {
    "colab": {
     "base_uri": "https://localhost:8080/"
    },
    "id": "-CbNUhJ74UqF",
    "outputId": "20f562d8-8247-49cc-b9c3-00eca5e13e2d"
   },
   "outputs": [
    {
     "data": {
      "text/plain": [
       "0       84.600000\n",
       "1       84.431933\n",
       "2       84.263866\n",
       "3       84.095798\n",
       "4       83.927731\n",
       "          ...    \n",
       "2095     0.000000\n",
       "2096     0.000000\n",
       "2097     0.870156\n",
       "2098     0.982907\n",
       "2099     0.000000\n",
       "Name: C6, Length: 2100, dtype: float64"
      ]
     },
     "execution_count": 6,
     "metadata": {},
     "output_type": "execute_result"
    }
   ],
   "source": [
    "test = training_set.tail(100)\n",
    "test\n",
    "training_set = training_set.head(2100)\n",
    "training_set"
   ]
  },
  {
   "cell_type": "code",
   "execution_count": 7,
   "metadata": {
    "colab": {
     "base_uri": "https://localhost:8080/"
    },
    "id": "X0TwTcq0yuoS",
    "outputId": "37252ed8-d88e-4044-fa7a-922411990b5b"
   },
   "outputs": [
    {
     "name": "stdout",
     "output_type": "stream",
     "text": [
      "0       0.000298\n",
      "1       0.000298\n",
      "2       0.000297\n",
      "3       0.000297\n",
      "4       0.000297\n",
      "          ...   \n",
      "9995    0.000018\n",
      "9996    0.000018\n",
      "9997    0.000018\n",
      "9998    0.000018\n",
      "9999    0.000018\n",
      "Name: 0, Length: 10000, dtype: float64\n"
     ]
    }
   ],
   "source": [
    "training_set = training_set.reset_index(drop=True)\n",
    "gradient_t = gradient_t.reset_index(drop=True)\n",
    "print(gradient_t)"
   ]
  },
  {
   "cell_type": "code",
   "execution_count": 8,
   "metadata": {
    "id": "O2biznZQyuoS"
   },
   "outputs": [],
   "source": [
    "df = pd.concat((training_set, gradient_t), axis=1)\n",
    "df.columns = ['y_t', 'grad_t']"
   ]
  },
  {
   "cell_type": "code",
   "execution_count": 9,
   "metadata": {
    "colab": {
     "base_uri": "https://localhost:8080/",
     "height": 423
    },
    "id": "sk_a5v3tyuoS",
    "outputId": "17563625-e550-45ae-faab-fafa353e44da"
   },
   "outputs": [
    {
     "data": {
      "text/html": [
       "<div>\n",
       "<style scoped>\n",
       "    .dataframe tbody tr th:only-of-type {\n",
       "        vertical-align: middle;\n",
       "    }\n",
       "\n",
       "    .dataframe tbody tr th {\n",
       "        vertical-align: top;\n",
       "    }\n",
       "\n",
       "    .dataframe thead th {\n",
       "        text-align: right;\n",
       "    }\n",
       "</style>\n",
       "<table border=\"1\" class=\"dataframe\">\n",
       "  <thead>\n",
       "    <tr style=\"text-align: right;\">\n",
       "      <th></th>\n",
       "      <th>y_t</th>\n",
       "      <th>grad_t</th>\n",
       "    </tr>\n",
       "  </thead>\n",
       "  <tbody>\n",
       "    <tr>\n",
       "      <th>0</th>\n",
       "      <td>84.600000</td>\n",
       "      <td>0.000298</td>\n",
       "    </tr>\n",
       "    <tr>\n",
       "      <th>1</th>\n",
       "      <td>84.431933</td>\n",
       "      <td>0.000298</td>\n",
       "    </tr>\n",
       "    <tr>\n",
       "      <th>2</th>\n",
       "      <td>84.263866</td>\n",
       "      <td>0.000297</td>\n",
       "    </tr>\n",
       "    <tr>\n",
       "      <th>3</th>\n",
       "      <td>84.095798</td>\n",
       "      <td>0.000297</td>\n",
       "    </tr>\n",
       "    <tr>\n",
       "      <th>4</th>\n",
       "      <td>83.927731</td>\n",
       "      <td>0.000297</td>\n",
       "    </tr>\n",
       "    <tr>\n",
       "      <th>...</th>\n",
       "      <td>...</td>\n",
       "      <td>...</td>\n",
       "    </tr>\n",
       "    <tr>\n",
       "      <th>9995</th>\n",
       "      <td>NaN</td>\n",
       "      <td>0.000018</td>\n",
       "    </tr>\n",
       "    <tr>\n",
       "      <th>9996</th>\n",
       "      <td>NaN</td>\n",
       "      <td>0.000018</td>\n",
       "    </tr>\n",
       "    <tr>\n",
       "      <th>9997</th>\n",
       "      <td>NaN</td>\n",
       "      <td>0.000018</td>\n",
       "    </tr>\n",
       "    <tr>\n",
       "      <th>9998</th>\n",
       "      <td>NaN</td>\n",
       "      <td>0.000018</td>\n",
       "    </tr>\n",
       "    <tr>\n",
       "      <th>9999</th>\n",
       "      <td>NaN</td>\n",
       "      <td>0.000018</td>\n",
       "    </tr>\n",
       "  </tbody>\n",
       "</table>\n",
       "<p>10000 rows × 2 columns</p>\n",
       "</div>"
      ],
      "text/plain": [
       "            y_t    grad_t\n",
       "0     84.600000  0.000298\n",
       "1     84.431933  0.000298\n",
       "2     84.263866  0.000297\n",
       "3     84.095798  0.000297\n",
       "4     83.927731  0.000297\n",
       "...         ...       ...\n",
       "9995        NaN  0.000018\n",
       "9996        NaN  0.000018\n",
       "9997        NaN  0.000018\n",
       "9998        NaN  0.000018\n",
       "9999        NaN  0.000018\n",
       "\n",
       "[10000 rows x 2 columns]"
      ]
     },
     "execution_count": 9,
     "metadata": {},
     "output_type": "execute_result"
    }
   ],
   "source": [
    "df"
   ]
  },
  {
   "cell_type": "markdown",
   "metadata": {
    "id": "-5esyHu5aFvg"
   },
   "source": [
    "## Plot of the External Forcing from Chaotic Differential Equation"
   ]
  },
  {
   "cell_type": "code",
   "execution_count": 10,
   "metadata": {
    "colab": {
     "base_uri": "https://localhost:8080/",
     "height": 447
    },
    "id": "hGnE43tOh-4p",
    "outputId": "fc396503-b624-4fa5-dfbe-f460207405c6"
   },
   "outputs": [
    {
     "data": {
      "text/plain": [
       "<Axes: >"
      ]
     },
     "execution_count": 10,
     "metadata": {},
     "output_type": "execute_result"
    },
    {
     "data": {
      "image/png": "[encoded data removed]",
      "text/plain": [
       "<Figure size 432x288 with 1 Axes>"
      ]
     },
     "metadata": {
      "needs_background": "light"
     },
     "output_type": "display_data"
    }
   ],
   "source": [
    "df.iloc[:, 0].plot()"
   ]
  },
  {
   "cell_type": "code",
   "execution_count": 11,
   "metadata": {
    "colab": {
     "base_uri": "https://localhost:8080/",
     "height": 447
    },
    "id": "ym4xWUUxaFvg",
    "outputId": "ae6a3495-8ce9-437e-ba81-3ed31deedeae"
   },
   "outputs": [
    {
     "name": "stderr",
     "output_type": "stream",
     "text": [
      "C:\\Users\\Anurag Dutta\\AppData\\Local\\Packages\\PythonSoftwareFoundation.Python.3.9_qbz5n2kfra8p0\\LocalCache\\local-packages\\Python39\\site-packages\\pandas\\core\\arraylike.py:402: RuntimeWarning: divide by zero encountered in log\n",
      "  result = getattr(ufunc, method)(*inputs, **kwargs)\n"
     ]
    },
    {
     "data": {
      "text/plain": [
       "<Axes: >"
      ]
     },
     "execution_count": 11,
     "metadata": {},
     "output_type": "execute_result"
    },
    {
     "data": {
      "image/png": "[encoded data removed]",
      "text/plain": [
       "<Figure size 432x288 with 1 Axes>"
      ]
     },
     "metadata": {
      "needs_background": "light"
     },
     "output_type": "display_data"
    }
   ],
   "source": [
    "import numpy as np\n",
    "c0 = 82.7524  # Value for C0\n",
    "K0 = -0.0031  # Value for K0\n",
    "K1 = -0.0003  # Value for K1\n",
    "a = 0.0000    # Value for a\n",
    "b = 0.0171    # Value for b\n",
    "c = 3.0230    # Value for c\n",
    "\n",
    "L = np.minimum(c0, (df.iloc[:, 1] - (df.iloc[:, 0] * (K0 - K1 * (9 * a * np.log(df.iloc[:, 0] / c0) / (K0 - K1 * c)**2 + 4 * b * np.log(df.iloc[:, 0] / c0) / (K0 - K1 * c) + c)))))\n",
    "L.plot()"
   ]
  },
  {
   "cell_type": "markdown",
   "metadata": {
    "id": "9VyEywnwaFvh"
   },
   "source": [
    "## Preprocessing the data into supervised learning"
   ]
  },
  {
   "cell_type": "code",
   "execution_count": 12,
   "metadata": {
    "id": "6V9dXqzdaFvh"
   },
   "outputs": [],
   "source": [
    "# split a sequence into samples\n",
    "def Supervised(data, n_in=1, n_out=1, dropnan=True):\n",
    "    n_vars = 1 if type(data) is list else data.shape[1]\n",
    "    df = pd.DataFrame(data)\n",
    "    cols, names = list(), list()\n",
    "    # input sequence (t-n_in, ... t-1)\n",
    "    for i in range(n_in, 0, -1):\n",
    "        cols.append(df.shift(i))\n",
    "        names += [('var%d(t-%d)' % (j+1, i)) for j in range(n_vars)]\n",
    "    # forecast sequence (t, t+1, ... t+n_out)\n",
    "    for i in range(0, n_out):\n",
    "      cols.append(df.shift(-i))\n",
    "      if i == 0:\n",
    "        names += [('var%d(t)' % (j+1)) for j in range(n_vars)]\n",
    "      else:\n",
    "        names += [('var%d(t+%d)' % (j+1, i)) for j in range(n_vars)]\n",
    "    # put it all together\n",
    "    agg = pd.concat(cols, axis=1)\n",
    "    agg.columns = names\n",
    "    # drop rows with NaN values\n",
    "    if dropnan:\n",
    "       agg.dropna(inplace=True)\n",
    "    return agg"
   ]
  },
  {
   "cell_type": "code",
   "execution_count": 13,
   "metadata": {
    "colab": {
     "base_uri": "https://localhost:8080/"
    },
    "id": "CrzSrT1HnyfH",
    "outputId": "7e75f928-3e47-499d-eac1-51908015ef78"
   },
   "outputs": [
    {
     "name": "stdout",
     "output_type": "stream",
     "text": [
      "     var1(t-350)  var1(t-349)  var1(t-348)  var1(t-347)  var1(t-346)  \\\n",
      "350    84.600000    84.431933    84.263866    84.095798    83.927731   \n",
      "351    84.431933    84.263866    84.095798    83.927731    83.759664   \n",
      "352    84.263866    84.095798    83.927731    83.759664    83.591597   \n",
      "353    84.095798    83.927731    83.759664    83.591597    83.423529   \n",
      "354    83.927731    83.759664    83.591597    83.423529    83.255462   \n",
      "\n",
      "     var1(t-345)  var1(t-344)  var1(t-343)  var1(t-342)  var1(t-341)  ...  \\\n",
      "350    83.759664    83.591597    83.423529    83.255462    83.092437  ...   \n",
      "351    83.591597    83.423529    83.255462    83.092437    82.991597  ...   \n",
      "352    83.423529    83.255462    83.092437    82.991597    82.890756  ...   \n",
      "353    83.255462    83.092437    82.991597    82.890756    82.789916  ...   \n",
      "354    83.092437    82.991597    82.890756    82.789916    82.689076  ...   \n",
      "\n",
      "     var1(t+95)  var2(t+95)  var1(t+96)  var2(t+96)  var1(t+97)  var2(t+97)  \\\n",
      "350   70.003688    0.000263   69.960738    0.000263   69.917787    0.000263   \n",
      "351   69.960738    0.000263   69.917787    0.000263   69.874837    0.000262   \n",
      "352   69.917787    0.000263   69.874837    0.000262   69.831886    0.000262   \n",
      "353   69.874837    0.000262   69.831886    0.000262   69.788936    0.000262   \n",
      "354   69.831886    0.000262   69.788936    0.000262   69.745985    0.000262   \n",
      "\n",
      "     var1(t+98)  var2(t+98)  var1(t+99)  var2(t+99)  \n",
      "350   69.874837    0.000262   69.831886    0.000262  \n",
      "351   69.831886    0.000262   69.788936    0.000262  \n",
      "352   69.788936    0.000262   69.745985    0.000262  \n",
      "353   69.745985    0.000262   69.703035    0.000262  \n",
      "354   69.703035    0.000262   69.660084    0.000262  \n",
      "\n",
      "[5 rows x 551 columns]\n",
      "Index(['var1(t-350)', 'var1(t-349)', 'var1(t-348)', 'var1(t-347)',\n",
      "       'var1(t-346)', 'var1(t-345)', 'var1(t-344)', 'var1(t-343)',\n",
      "       'var1(t-342)', 'var1(t-341)',\n",
      "       ...\n",
      "       'var1(t+95)', 'var2(t+95)', 'var1(t+96)', 'var2(t+96)', 'var1(t+97)',\n",
      "       'var2(t+97)', 'var1(t+98)', 'var2(t+98)', 'var1(t+99)', 'var2(t+99)'],\n",
      "      dtype='object', length=551)\n"
     ]
    }
   ],
   "source": [
    "data = Supervised(df.values, n_in = 350, n_out = 100)\n",
    "\n",
    "\n",
    "cols_to_drop = []\n",
    "for i in range(2, 351):\n",
    "    cols_to_drop.extend([f'var2(t-{i})'])\n",
    "\n",
    "data.drop(cols_to_drop, axis=1, inplace=True)\n",
    "\n",
    "print(data.head())\n",
    "print(data.columns)"
   ]
  },
  {
   "cell_type": "code",
   "execution_count": 14,
   "metadata": {
    "id": "AfPf60oy6Pe4"
   },
   "outputs": [],
   "source": [
    "train = np.array(data[0:len(data)-1])\n",
    "forecast = np.array(data.tail(1))"
   ]
  },
  {
   "cell_type": "code",
   "execution_count": 15,
   "metadata": {
    "id": "WSAafzI37KiT"
   },
   "outputs": [],
   "source": [
    "trainy = train[:,-300:]\n",
    "trainX = train[:,:-300]"
   ]
  },
  {
   "cell_type": "code",
   "execution_count": 16,
   "metadata": {
    "id": "2SrOqVJA7f50"
   },
   "outputs": [],
   "source": [
    "forecasty = forecast[:,-300:]\n",
    "forecastX = forecast[:,:-300]"
   ]
  },
  {
   "cell_type": "code",
   "execution_count": 17,
   "metadata": {
    "colab": {
     "base_uri": "https://localhost:8080/"
    },
    "id": "Qno_k8Nw7saY",
    "outputId": "c4a88db5-d8c6-489f-cdb2-06b24e293cff"
   },
   "outputs": [
    {
     "name": "stdout",
     "output_type": "stream",
     "text": [
      "(1650, 1, 251) (1650, 300) (1, 1, 251)\n"
     ]
    }
   ],
   "source": [
    "trainX = trainX.reshape((trainX.shape[0], 1, trainX.shape[1]))\n",
    "forecastX = forecastX.reshape((forecastX.shape[0], 1, forecastX.shape[1]))\n",
    "print(trainX.shape, trainy.shape, forecastX.shape)"
   ]
  },
  {
   "cell_type": "code",
   "execution_count": 18,
   "metadata": {
    "colab": {
     "base_uri": "https://localhost:8080/"
    },
    "id": "b1Jp2DvNuNFx",
    "outputId": "d0e5b3c4-64f1-438c-eade-8dfeaac8e285"
   },
   "outputs": [
    {
     "name": "stdout",
     "output_type": "stream",
     "text": [
      "Epoch 1/500\n",
      "21/21 [==============================] - 2s 32ms/step - loss: 3810.3906 - val_loss: 2373.2354\n",
      "Epoch 2/500\n",
      "21/21 [==============================] - 0s 4ms/step - loss: 3743.1780 - val_loss: 2336.9675\n",
      "Epoch 3/500\n",
      "21/21 [==============================] - 0s 4ms/step - loss: 3687.5105 - val_loss: 2304.5437\n",
      "Epoch 4/500\n",
      "21/21 [==============================] - 0s 4ms/step - loss: 3634.2395 - val_loss: 2272.8198\n",
      "Epoch 5/500\n",
      "21/21 [==============================] - 0s 4ms/step - loss: 3581.8882 - val_loss: 2241.6855\n",
      "Epoch 6/500\n",
      "21/21 [==============================] - 0s 5ms/step - loss: 3530.3274 - val_loss: 2211.0549\n",
      "Epoch 7/500\n",
      "21/21 [==============================] - 0s 4ms/step - loss: 3479.4614 - val_loss: 2180.8806\n",
      "Epoch 8/500\n",
      "21/21 [==============================] - 0s 4ms/step - loss: 3429.2351 - val_loss: 2151.1360\n",
      "Epoch 9/500\n",
      "21/21 [==============================] - 0s 4ms/step - loss: 3379.6167 - val_loss: 2121.8010\n",
      "Epoch 10/500\n",
      "21/21 [==============================] - 0s 5ms/step - loss: 3330.5837 - val_loss: 2092.8606\n",
      "Epoch 11/500\n",
      "21/21 [==============================] - 0s 7ms/step - loss: 3282.1211 - val_loss: 2064.2971\n",
      "Epoch 12/500\n",
      "21/21 [==============================] - 0s 5ms/step - loss: 3234.2148 - val_loss: 2036.0687\n",
      "Epoch 13/500\n",
      "21/21 [==============================] - 0s 5ms/step - loss: 3185.1299 - val_loss: 1998.8528\n",
      "Epoch 14/500\n",
      "21/21 [==============================] - 0s 4ms/step - loss: 3122.2312 - val_loss: 1967.9482\n",
      "Epoch 15/500\n",
      "21/21 [==============================] - 0s 4ms/step - loss: 3070.9788 - val_loss: 1938.0061\n",
      "Epoch 16/500\n",
      "21/21 [==============================] - 0s 4ms/step - loss: 3021.2432 - val_loss: 1909.0189\n",
      "Epoch 17/500\n",
      "21/21 [==============================] - 0s 4ms/step - loss: 2972.7319 - val_loss: 1880.7634\n",
      "Epoch 18/500\n",
      "21/21 [==============================] - 0s 4ms/step - loss: 2925.1863 - val_loss: 1853.1160\n",
      "Epoch 19/500\n",
      "21/21 [==============================] - 0s 4ms/step - loss: 2878.4658 - val_loss: 1826.0066\n",
      "Epoch 20/500\n",
      "21/21 [==============================] - 0s 4ms/step - loss: 2832.4856 - val_loss: 1799.3918\n",
      "Epoch 21/500\n",
      "21/21 [==============================] - 0s 5ms/step - loss: 2787.1921 - val_loss: 1773.2410\n",
      "Epoch 22/500\n",
      "21/21 [==============================] - 0s 6ms/step - loss: 2742.5461 - val_loss: 1747.5319\n",
      "Epoch 23/500\n",
      "21/21 [==============================] - 0s 8ms/step - loss: 2698.5198 - val_loss: 1722.2479\n",
      "Epoch 24/500\n",
      "21/21 [==============================] - 0s 5ms/step - loss: 2655.0911 - val_loss: 1697.3754\n",
      "Epoch 25/500\n",
      "21/21 [==============================] - 0s 4ms/step - loss: 2612.2422 - val_loss: 1672.9031\n",
      "Epoch 26/500\n",
      "21/21 [==============================] - 0s 4ms/step - loss: 2569.9575 - val_loss: 1648.8212\n",
      "Epoch 27/500\n",
      "21/21 [==============================] - 0s 5ms/step - loss: 2528.2253 - val_loss: 1625.1216\n",
      "Epoch 28/500\n",
      "21/21 [==============================] - 0s 5ms/step - loss: 2487.0342 - val_loss: 1601.7970\n",
      "Epoch 29/500\n",
      "21/21 [==============================] - 0s 6ms/step - loss: 2446.3735 - val_loss: 1578.8402\n",
      "Epoch 30/500\n",
      "21/21 [==============================] - 0s 10ms/step - loss: 2406.2356 - val_loss: 1556.2456\n",
      "Epoch 31/500\n",
      "21/21 [==============================] - 0s 15ms/step - loss: 2366.6118 - val_loss: 1534.0074\n",
      "Epoch 32/500\n",
      "21/21 [==============================] - 0s 7ms/step - loss: 2327.4946 - val_loss: 1512.1201\n",
      "Epoch 33/500\n",
      "21/21 [==============================] - 0s 9ms/step - loss: 2288.8774 - val_loss: 1490.5787\n",
      "Epoch 34/500\n",
      "21/21 [==============================] - 0s 6ms/step - loss: 2250.7532 - val_loss: 1469.3778\n",
      "Epoch 35/500\n",
      "21/21 [==============================] - 0s 6ms/step - loss: 2213.1162 - val_loss: 1448.5118\n",
      "Epoch 36/500\n",
      "21/21 [==============================] - 0s 6ms/step - loss: 2175.9600 - val_loss: 1427.9738\n",
      "Epoch 37/500\n",
      "21/21 [==============================] - 0s 6ms/step - loss: 2139.2791 - val_loss: 1407.7511\n",
      "Epoch 38/500\n",
      "21/21 [==============================] - 0s 6ms/step - loss: 2103.0696 - val_loss: 1387.7106\n",
      "Epoch 39/500\n",
      "21/21 [==============================] - 0s 6ms/step - loss: 2060.9946 - val_loss: 1361.1975\n",
      "Epoch 40/500\n",
      "21/21 [==============================] - 0s 6ms/step - loss: 2015.6713 - val_loss: 1338.6620\n",
      "Epoch 41/500\n",
      "21/21 [==============================] - 0s 8ms/step - loss: 1975.3757 - val_loss: 1317.2625\n",
      "Epoch 42/500\n",
      "21/21 [==============================] - 0s 7ms/step - loss: 1936.7683 - val_loss: 1296.7054\n",
      "Epoch 43/500\n",
      "21/21 [==============================] - 0s 8ms/step - loss: 1899.3895 - val_loss: 1276.8018\n",
      "Epoch 44/500\n",
      "21/21 [==============================] - 0s 8ms/step - loss: 1862.9767 - val_loss: 1257.4486\n",
      "Epoch 45/500\n",
      "21/21 [==============================] - 0s 8ms/step - loss: 1827.3837 - val_loss: 1238.5850\n",
      "Epoch 46/500\n",
      "21/21 [==============================] - 0s 8ms/step - loss: 1792.5206 - val_loss: 1220.1692\n",
      "Epoch 47/500\n",
      "21/21 [==============================] - 0s 7ms/step - loss: 1758.3252 - val_loss: 1202.1733\n",
      "Epoch 48/500\n",
      "21/21 [==============================] - 0s 6ms/step - loss: 1724.7545 - val_loss: 1184.5750\n",
      "Epoch 49/500\n",
      "21/21 [==============================] - 0s 6ms/step - loss: 1691.7743 - val_loss: 1167.3571\n",
      "Epoch 50/500\n",
      "21/21 [==============================] - 0s 5ms/step - loss: 1659.3583 - val_loss: 1150.5054\n",
      "Epoch 51/500\n",
      "21/21 [==============================] - 0s 6ms/step - loss: 1627.4852 - val_loss: 1134.0084\n",
      "Epoch 52/500\n",
      "21/21 [==============================] - 0s 6ms/step - loss: 1596.1367 - val_loss: 1117.8561\n",
      "Epoch 53/500\n",
      "21/21 [==============================] - 0s 5ms/step - loss: 1565.2979 - val_loss: 1102.0393\n",
      "Epoch 54/500\n",
      "21/21 [==============================] - 0s 5ms/step - loss: 1534.9546 - val_loss: 1086.5502\n",
      "Epoch 55/500\n",
      "21/21 [==============================] - 0s 5ms/step - loss: 1505.0952 - val_loss: 1071.3817\n",
      "Epoch 56/500\n",
      "21/21 [==============================] - 0s 5ms/step - loss: 1475.7092 - val_loss: 1056.5273\n",
      "Epoch 57/500\n",
      "21/21 [==============================] - 0s 4ms/step - loss: 1446.7874 - val_loss: 1041.9811\n",
      "Epoch 58/500\n",
      "21/21 [==============================] - 0s 4ms/step - loss: 1418.3195 - val_loss: 1027.7377\n",
      "Epoch 59/500\n",
      "21/21 [==============================] - 0s 4ms/step - loss: 1390.2991 - val_loss: 1013.7912\n",
      "Epoch 60/500\n",
      "21/21 [==============================] - 0s 4ms/step - loss: 1362.7175 - val_loss: 1000.1374\n",
      "Epoch 61/500\n",
      "21/21 [==============================] - 0s 4ms/step - loss: 1335.5675 - val_loss: 986.7713\n",
      "Epoch 62/500\n",
      "21/21 [==============================] - 0s 4ms/step - loss: 1308.8434 - val_loss: 973.6885\n",
      "Epoch 63/500\n",
      "21/21 [==============================] - 0s 14ms/step - loss: 1282.5377 - val_loss: 960.8846\n",
      "Epoch 64/500\n",
      "21/21 [==============================] - 0s 7ms/step - loss: 1256.6450 - val_loss: 948.3556\n",
      "Epoch 65/500\n",
      "21/21 [==============================] - 0s 5ms/step - loss: 1231.1593 - val_loss: 936.0975\n",
      "Epoch 66/500\n",
      "21/21 [==============================] - 0s 5ms/step - loss: 1206.0750 - val_loss: 924.1064\n",
      "Epoch 67/500\n",
      "21/21 [==============================] - 0s 5ms/step - loss: 1181.3868 - val_loss: 912.3790\n",
      "Epoch 68/500\n",
      "21/21 [==============================] - 0s 5ms/step - loss: 1157.0896 - val_loss: 900.9112\n",
      "Epoch 69/500\n",
      "21/21 [==============================] - 0s 5ms/step - loss: 1133.1785 - val_loss: 889.6994\n",
      "Epoch 70/500\n",
      "21/21 [==============================] - 0s 5ms/step - loss: 1109.6483 - val_loss: 878.7405\n",
      "Epoch 71/500\n",
      "21/21 [==============================] - 0s 5ms/step - loss: 1086.4946 - val_loss: 868.0309\n",
      "Epoch 72/500\n",
      "21/21 [==============================] - 0s 5ms/step - loss: 1063.7128 - val_loss: 857.5676\n",
      "Epoch 73/500\n",
      "21/21 [==============================] - 0s 5ms/step - loss: 1041.2983 - val_loss: 847.3470\n",
      "Epoch 74/500\n",
      "21/21 [==============================] - 0s 5ms/step - loss: 1019.2466 - val_loss: 837.3661\n",
      "Epoch 75/500\n",
      "21/21 [==============================] - 0s 7ms/step - loss: 997.5539 - val_loss: 827.6219\n",
      "Epoch 76/500\n",
      "21/21 [==============================] - 0s 5ms/step - loss: 976.2155 - val_loss: 818.1109\n",
      "Epoch 77/500\n",
      "21/21 [==============================] - 0s 5ms/step - loss: 955.2274 - val_loss: 808.8302\n",
      "Epoch 78/500\n",
      "21/21 [==============================] - 0s 5ms/step - loss: 934.5857 - val_loss: 799.7772\n",
      "Epoch 79/500\n",
      "21/21 [==============================] - 0s 5ms/step - loss: 914.2863 - val_loss: 790.9484\n",
      "Epoch 80/500\n",
      "21/21 [==============================] - 0s 5ms/step - loss: 894.3252 - val_loss: 782.3412\n",
      "Epoch 81/500\n",
      "21/21 [==============================] - 0s 5ms/step - loss: 874.6987 - val_loss: 773.9529\n",
      "Epoch 82/500\n",
      "21/21 [==============================] - 0s 5ms/step - loss: 855.4031 - val_loss: 765.7801\n",
      "Epoch 83/500\n",
      "21/21 [==============================] - 0s 5ms/step - loss: 836.4344 - val_loss: 757.8206\n",
      "Epoch 84/500\n",
      "21/21 [==============================] - 0s 6ms/step - loss: 817.7892 - val_loss: 750.0709\n",
      "Epoch 85/500\n",
      "21/21 [==============================] - 0s 6ms/step - loss: 799.4636 - val_loss: 742.5288\n",
      "Epoch 86/500\n",
      "21/21 [==============================] - 0s 6ms/step - loss: 781.4539 - val_loss: 735.1913\n",
      "Epoch 87/500\n",
      "21/21 [==============================] - 0s 6ms/step - loss: 763.7567 - val_loss: 728.0557\n",
      "Epoch 88/500\n",
      "21/21 [==============================] - 0s 6ms/step - loss: 746.3685 - val_loss: 721.1194\n",
      "Epoch 89/500\n",
      "21/21 [==============================] - 0s 6ms/step - loss: 729.2855 - val_loss: 714.3793\n",
      "Epoch 90/500\n",
      "21/21 [==============================] - 0s 6ms/step - loss: 712.5047 - val_loss: 707.8335\n",
      "Epoch 91/500\n",
      "21/21 [==============================] - 0s 12ms/step - loss: 696.0223 - val_loss: 701.4787\n",
      "Epoch 92/500\n",
      "21/21 [==============================] - 0s 10ms/step - loss: 679.8350 - val_loss: 695.3125\n",
      "Epoch 93/500\n",
      "21/21 [==============================] - 0s 8ms/step - loss: 663.9394 - val_loss: 689.3322\n",
      "Epoch 94/500\n",
      "21/21 [==============================] - 0s 7ms/step - loss: 648.3322 - val_loss: 683.5353\n",
      "Epoch 95/500\n",
      "21/21 [==============================] - 0s 7ms/step - loss: 633.0100 - val_loss: 677.9192\n",
      "Epoch 96/500\n",
      "21/21 [==============================] - 0s 8ms/step - loss: 617.9697 - val_loss: 672.4813\n",
      "Epoch 97/500\n",
      "21/21 [==============================] - 0s 7ms/step - loss: 603.2077 - val_loss: 667.2193\n",
      "Epoch 98/500\n",
      "21/21 [==============================] - 0s 6ms/step - loss: 588.7209 - val_loss: 662.1303\n",
      "Epoch 99/500\n",
      "21/21 [==============================] - 0s 13ms/step - loss: 574.5062 - val_loss: 657.2119\n",
      "Epoch 100/500\n",
      "21/21 [==============================] - 0s 7ms/step - loss: 560.5604 - val_loss: 652.4615\n",
      "Epoch 101/500\n",
      "21/21 [==============================] - 0s 7ms/step - loss: 546.8802 - val_loss: 647.8770\n",
      "Epoch 102/500\n",
      "21/21 [==============================] - 0s 6ms/step - loss: 533.4623 - val_loss: 643.4553\n",
      "Epoch 103/500\n",
      "21/21 [==============================] - 0s 6ms/step - loss: 520.3038 - val_loss: 639.1945\n",
      "Epoch 104/500\n",
      "21/21 [==============================] - 0s 7ms/step - loss: 507.4017 - val_loss: 635.0918\n",
      "Epoch 105/500\n",
      "21/21 [==============================] - 0s 7ms/step - loss: 494.7523 - val_loss: 631.1447\n",
      "Epoch 106/500\n",
      "21/21 [==============================] - 0s 7ms/step - loss: 482.3530 - val_loss: 627.3510\n",
      "Epoch 107/500\n",
      "21/21 [==============================] - 0s 7ms/step - loss: 470.2007 - val_loss: 623.7081\n",
      "Epoch 108/500\n",
      "21/21 [==============================] - 0s 7ms/step - loss: 458.2921 - val_loss: 620.2136\n",
      "Epoch 109/500\n",
      "21/21 [==============================] - 0s 6ms/step - loss: 446.6244 - val_loss: 616.8651\n",
      "Epoch 110/500\n",
      "21/21 [==============================] - 0s 6ms/step - loss: 435.1945 - val_loss: 613.6601\n",
      "Epoch 111/500\n",
      "21/21 [==============================] - 0s 6ms/step - loss: 423.9992 - val_loss: 610.5964\n",
      "Epoch 112/500\n",
      "21/21 [==============================] - 0s 6ms/step - loss: 413.0359 - val_loss: 607.6716\n",
      "Epoch 113/500\n",
      "21/21 [==============================] - 0s 7ms/step - loss: 402.3012 - val_loss: 604.8831\n",
      "Epoch 114/500\n",
      "21/21 [==============================] - 0s 7ms/step - loss: 391.7924 - val_loss: 602.2285\n",
      "Epoch 115/500\n",
      "21/21 [==============================] - 0s 6ms/step - loss: 381.5065 - val_loss: 599.7057\n",
      "Epoch 116/500\n",
      "21/21 [==============================] - 0s 6ms/step - loss: 371.4404 - val_loss: 597.3123\n",
      "Epoch 117/500\n",
      "21/21 [==============================] - 0s 6ms/step - loss: 361.5914 - val_loss: 595.0457\n",
      "Epoch 118/500\n",
      "21/21 [==============================] - 0s 6ms/step - loss: 351.9564 - val_loss: 592.9039\n",
      "Epoch 119/500\n",
      "21/21 [==============================] - 0s 5ms/step - loss: 342.5326 - val_loss: 590.8845\n",
      "Epoch 120/500\n",
      "21/21 [==============================] - 0s 9ms/step - loss: 333.3171 - val_loss: 588.9849\n",
      "Epoch 121/500\n",
      "21/21 [==============================] - 0s 6ms/step - loss: 324.3069 - val_loss: 587.2029\n",
      "Epoch 122/500\n",
      "21/21 [==============================] - 0s 6ms/step - loss: 315.4992 - val_loss: 585.5364\n",
      "Epoch 123/500\n",
      "21/21 [==============================] - 0s 6ms/step - loss: 306.8911 - val_loss: 583.9830\n",
      "Epoch 124/500\n",
      "21/21 [==============================] - 0s 6ms/step - loss: 298.4799 - val_loss: 582.5403\n",
      "Epoch 125/500\n",
      "21/21 [==============================] - 0s 6ms/step - loss: 290.2628 - val_loss: 581.2062\n",
      "Epoch 126/500\n",
      "21/21 [==============================] - 0s 6ms/step - loss: 282.2368 - val_loss: 579.9782\n",
      "Epoch 127/500\n",
      "21/21 [==============================] - 0s 6ms/step - loss: 274.3990 - val_loss: 578.8542\n",
      "Epoch 128/500\n",
      "21/21 [==============================] - 0s 6ms/step - loss: 266.7470 - val_loss: 577.8320\n",
      "Epoch 129/500\n",
      "21/21 [==============================] - 0s 7ms/step - loss: 259.2776 - val_loss: 576.9092\n",
      "Epoch 130/500\n",
      "21/21 [==============================] - 0s 7ms/step - loss: 251.9882 - val_loss: 576.0837\n",
      "Epoch 131/500\n",
      "21/21 [==============================] - 0s 5ms/step - loss: 244.8762 - val_loss: 575.3531\n",
      "Epoch 132/500\n",
      "21/21 [==============================] - 0s 5ms/step - loss: 237.9385 - val_loss: 574.7153\n",
      "Epoch 133/500\n",
      "21/21 [==============================] - 0s 5ms/step - loss: 231.1727 - val_loss: 574.1682\n",
      "Epoch 134/500\n",
      "21/21 [==============================] - 0s 5ms/step - loss: 224.5761 - val_loss: 573.7095\n",
      "Epoch 135/500\n",
      "21/21 [==============================] - 0s 5ms/step - loss: 218.1457 - val_loss: 573.3369\n",
      "Epoch 136/500\n",
      "21/21 [==============================] - 0s 5ms/step - loss: 211.8790 - val_loss: 573.0483\n",
      "Epoch 137/500\n",
      "21/21 [==============================] - 0s 6ms/step - loss: 205.7734 - val_loss: 572.8416\n",
      "Epoch 138/500\n",
      "21/21 [==============================] - 0s 6ms/step - loss: 199.8259 - val_loss: 572.7147\n",
      "Epoch 139/500\n",
      "21/21 [==============================] - 0s 5ms/step - loss: 194.0340 - val_loss: 572.6652\n",
      "Epoch 140/500\n",
      "21/21 [==============================] - 0s 6ms/step - loss: 188.3952 - val_loss: 572.6912\n",
      "Epoch 141/500\n",
      "21/21 [==============================] - 0s 11ms/step - loss: 182.9068 - val_loss: 572.7905\n",
      "Epoch 142/500\n",
      "21/21 [==============================] - 0s 6ms/step - loss: 177.5661 - val_loss: 572.9610\n",
      "Epoch 143/500\n",
      "21/21 [==============================] - 0s 6ms/step - loss: 172.3704 - val_loss: 573.2006\n",
      "Epoch 144/500\n",
      "21/21 [==============================] - 0s 5ms/step - loss: 167.3173 - val_loss: 573.5073\n",
      "Epoch 145/500\n",
      "21/21 [==============================] - 0s 5ms/step - loss: 162.4043 - val_loss: 573.8788\n",
      "Epoch 146/500\n",
      "21/21 [==============================] - 0s 5ms/step - loss: 157.6286 - val_loss: 574.3133\n",
      "Epoch 147/500\n",
      "21/21 [==============================] - 0s 5ms/step - loss: 152.9876 - val_loss: 574.8086\n",
      "Epoch 148/500\n",
      "21/21 [==============================] - 0s 11ms/step - loss: 148.4791 - val_loss: 575.3628\n",
      "Epoch 149/500\n",
      "21/21 [==============================] - 0s 5ms/step - loss: 144.1004 - val_loss: 575.9738\n",
      "Epoch 150/500\n",
      "21/21 [==============================] - 0s 5ms/step - loss: 139.8491 - val_loss: 576.6396\n",
      "Epoch 151/500\n",
      "21/21 [==============================] - 0s 5ms/step - loss: 135.7226 - val_loss: 577.3582\n",
      "Epoch 152/500\n",
      "21/21 [==============================] - 0s 5ms/step - loss: 131.7184 - val_loss: 578.1277\n",
      "Epoch 153/500\n",
      "21/21 [==============================] - 0s 5ms/step - loss: 127.8341 - val_loss: 578.9461\n",
      "Epoch 154/500\n",
      "21/21 [==============================] - 0s 5ms/step - loss: 124.0674 - val_loss: 579.8115\n",
      "Epoch 155/500\n",
      "21/21 [==============================] - 0s 6ms/step - loss: 120.4157 - val_loss: 580.7221\n",
      "Epoch 156/500\n",
      "21/21 [==============================] - 0s 7ms/step - loss: 116.8766 - val_loss: 581.6759\n",
      "Epoch 157/500\n",
      "21/21 [==============================] - 0s 5ms/step - loss: 113.4478 - val_loss: 582.6708\n",
      "Epoch 158/500\n",
      "21/21 [==============================] - 0s 6ms/step - loss: 110.1270 - val_loss: 583.7053\n",
      "Epoch 159/500\n",
      "21/21 [==============================] - 0s 6ms/step - loss: 106.9117 - val_loss: 584.7775\n",
      "Epoch 160/500\n",
      "21/21 [==============================] - 0s 6ms/step - loss: 103.7996 - val_loss: 585.8853\n",
      "Epoch 161/500\n",
      "21/21 [==============================] - 0s 5ms/step - loss: 100.7885 - val_loss: 587.0272\n",
      "Epoch 162/500\n",
      "21/21 [==============================] - 0s 5ms/step - loss: 97.8760 - val_loss: 588.2014\n",
      "Epoch 163/500\n",
      "21/21 [==============================] - 0s 5ms/step - loss: 95.0600 - val_loss: 589.4059\n",
      "Epoch 164/500\n",
      "21/21 [==============================] - 0s 5ms/step - loss: 92.3382 - val_loss: 590.6393\n",
      "Epoch 165/500\n",
      "21/21 [==============================] - 0s 5ms/step - loss: 89.7083 - val_loss: 591.8998\n",
      "Epoch 166/500\n",
      "21/21 [==============================] - 0s 6ms/step - loss: 87.1681 - val_loss: 593.1856\n",
      "Epoch 167/500\n",
      "21/21 [==============================] - 0s 5ms/step - loss: 84.7156 - val_loss: 594.4949\n",
      "Epoch 168/500\n",
      "21/21 [==============================] - 0s 5ms/step - loss: 82.3484 - val_loss: 595.8265\n",
      "Epoch 169/500\n",
      "21/21 [==============================] - 0s 5ms/step - loss: 80.0646 - val_loss: 597.1785\n",
      "Epoch 170/500\n",
      "21/21 [==============================] - 0s 9ms/step - loss: 77.8620 - val_loss: 598.5493\n",
      "Epoch 171/500\n",
      "21/21 [==============================] - 0s 5ms/step - loss: 75.7386 - val_loss: 599.9374\n",
      "Epoch 172/500\n",
      "21/21 [==============================] - 0s 5ms/step - loss: 73.6922 - val_loss: 601.3412\n",
      "Epoch 173/500\n",
      "21/21 [==============================] - 0s 5ms/step - loss: 71.7209 - val_loss: 602.7594\n",
      "Epoch 174/500\n",
      "21/21 [==============================] - 0s 5ms/step - loss: 69.8226 - val_loss: 604.1903\n",
      "Epoch 175/500\n",
      "21/21 [==============================] - 0s 5ms/step - loss: 67.9953 - val_loss: 605.6324\n",
      "Epoch 176/500\n",
      "21/21 [==============================] - 0s 5ms/step - loss: 66.2372 - val_loss: 607.0845\n",
      "Epoch 177/500\n",
      "21/21 [==============================] - 0s 4ms/step - loss: 64.5464 - val_loss: 608.5451\n",
      "Epoch 178/500\n",
      "21/21 [==============================] - 0s 9ms/step - loss: 62.9208 - val_loss: 610.0128\n",
      "Epoch 179/500\n",
      "21/21 [==============================] - 0s 5ms/step - loss: 61.3586 - val_loss: 611.4862\n",
      "Epoch 180/500\n",
      "21/21 [==============================] - 0s 5ms/step - loss: 59.8581 - val_loss: 612.9643\n",
      "Epoch 181/500\n",
      "21/21 [==============================] - 0s 5ms/step - loss: 58.4173 - val_loss: 614.4454\n",
      "Epoch 182/500\n",
      "21/21 [==============================] - 0s 5ms/step - loss: 57.0345 - val_loss: 615.9286\n",
      "Epoch 183/500\n",
      "21/21 [==============================] - 0s 5ms/step - loss: 55.7080 - val_loss: 617.4125\n",
      "Epoch 184/500\n",
      "21/21 [==============================] - 0s 5ms/step - loss: 54.4359 - val_loss: 618.8960\n",
      "Epoch 185/500\n",
      "21/21 [==============================] - 0s 5ms/step - loss: 53.2166 - val_loss: 620.3779\n",
      "Epoch 186/500\n",
      "21/21 [==============================] - 0s 5ms/step - loss: 52.0484 - val_loss: 621.8572\n",
      "Epoch 187/500\n",
      "21/21 [==============================] - 0s 5ms/step - loss: 50.9298 - val_loss: 623.3326\n",
      "Epoch 188/500\n",
      "21/21 [==============================] - 0s 6ms/step - loss: 49.8590 - val_loss: 624.8033\n",
      "Epoch 189/500\n",
      "21/21 [==============================] - 0s 5ms/step - loss: 48.8346 - val_loss: 626.2682\n",
      "Epoch 190/500\n",
      "21/21 [==============================] - 0s 5ms/step - loss: 47.8549 - val_loss: 627.7261\n",
      "Epoch 191/500\n",
      "21/21 [==============================] - 0s 5ms/step - loss: 46.9185 - val_loss: 629.1762\n",
      "Epoch 192/500\n",
      "21/21 [==============================] - 0s 5ms/step - loss: 46.0238 - val_loss: 630.6177\n",
      "Epoch 193/500\n",
      "21/21 [==============================] - 0s 5ms/step - loss: 45.1695 - val_loss: 632.0497\n",
      "Epoch 194/500\n",
      "21/21 [==============================] - 0s 5ms/step - loss: 44.3540 - val_loss: 633.4711\n",
      "Epoch 195/500\n",
      "21/21 [==============================] - 0s 4ms/step - loss: 43.5760 - val_loss: 634.8812\n",
      "Epoch 196/500\n",
      "21/21 [==============================] - 0s 5ms/step - loss: 42.8341 - val_loss: 636.2794\n",
      "Epoch 197/500\n",
      "21/21 [==============================] - 0s 5ms/step - loss: 42.1270 - val_loss: 637.6649\n",
      "Epoch 198/500\n",
      "21/21 [==============================] - 0s 6ms/step - loss: 41.4535 - val_loss: 639.0367\n",
      "Epoch 199/500\n",
      "21/21 [==============================] - 0s 7ms/step - loss: 40.8122 - val_loss: 640.3940\n",
      "Epoch 200/500\n",
      "21/21 [==============================] - 0s 5ms/step - loss: 40.2019 - val_loss: 641.7369\n",
      "Epoch 201/500\n",
      "21/21 [==============================] - 0s 5ms/step - loss: 39.6214 - val_loss: 643.0641\n",
      "Epoch 202/500\n",
      "21/21 [==============================] - 0s 5ms/step - loss: 39.0696 - val_loss: 644.3755\n",
      "Epoch 203/500\n",
      "21/21 [==============================] - 0s 5ms/step - loss: 38.5452 - val_loss: 645.6699\n",
      "Epoch 204/500\n",
      "21/21 [==============================] - 0s 4ms/step - loss: 38.0472 - val_loss: 646.9475\n",
      "Epoch 205/500\n",
      "21/21 [==============================] - 0s 4ms/step - loss: 37.5744 - val_loss: 648.2075\n",
      "Epoch 206/500\n",
      "21/21 [==============================] - 0s 4ms/step - loss: 37.1260 - val_loss: 649.4493\n",
      "Epoch 207/500\n",
      "21/21 [==============================] - 0s 5ms/step - loss: 36.7008 - val_loss: 650.6725\n",
      "Epoch 208/500\n",
      "21/21 [==============================] - 0s 5ms/step - loss: 36.2977 - val_loss: 651.8770\n",
      "Epoch 209/500\n",
      "21/21 [==============================] - 0s 5ms/step - loss: 35.9160 - val_loss: 653.0620\n",
      "Epoch 210/500\n",
      "21/21 [==============================] - 0s 4ms/step - loss: 35.5546 - val_loss: 654.2277\n",
      "Epoch 211/500\n",
      "21/21 [==============================] - 0s 4ms/step - loss: 35.2127 - val_loss: 655.3734\n",
      "Epoch 212/500\n",
      "21/21 [==============================] - 0s 4ms/step - loss: 34.8894 - val_loss: 656.4992\n",
      "Epoch 213/500\n",
      "21/21 [==============================] - 0s 4ms/step - loss: 34.5837 - val_loss: 657.6044\n",
      "Epoch 214/500\n",
      "21/21 [==============================] - 0s 5ms/step - loss: 34.2950 - val_loss: 658.6891\n",
      "Epoch 215/500\n",
      "21/21 [==============================] - 0s 5ms/step - loss: 34.0223 - val_loss: 659.7531\n",
      "Epoch 216/500\n",
      "21/21 [==============================] - 0s 5ms/step - loss: 33.7651 - val_loss: 660.7964\n",
      "Epoch 217/500\n",
      "21/21 [==============================] - 0s 7ms/step - loss: 33.5224 - val_loss: 661.8185\n",
      "Epoch 218/500\n",
      "21/21 [==============================] - 0s 7ms/step - loss: 33.2936 - val_loss: 662.8196\n",
      "Epoch 219/500\n",
      "21/21 [==============================] - 0s 5ms/step - loss: 33.0781 - val_loss: 663.7995\n",
      "Epoch 220/500\n",
      "21/21 [==============================] - 0s 5ms/step - loss: 32.8752 - val_loss: 664.7581\n",
      "Epoch 221/500\n",
      "21/21 [==============================] - 0s 5ms/step - loss: 32.6842 - val_loss: 665.6952\n",
      "Epoch 222/500\n",
      "21/21 [==============================] - 0s 5ms/step - loss: 32.5046 - val_loss: 666.6116\n",
      "Epoch 223/500\n",
      "21/21 [==============================] - 0s 5ms/step - loss: 32.3357 - val_loss: 667.5063\n",
      "Epoch 224/500\n",
      "21/21 [==============================] - 0s 12ms/step - loss: 32.1771 - val_loss: 668.3799\n",
      "Epoch 225/500\n",
      "21/21 [==============================] - 0s 6ms/step - loss: 32.0281 - val_loss: 669.2328\n",
      "Epoch 226/500\n",
      "21/21 [==============================] - 0s 5ms/step - loss: 31.8882 - val_loss: 670.0641\n",
      "Epoch 227/500\n",
      "21/21 [==============================] - 0s 5ms/step - loss: 31.7570 - val_loss: 670.8749\n",
      "Epoch 228/500\n",
      "21/21 [==============================] - 0s 5ms/step - loss: 31.6339 - val_loss: 671.6648\n",
      "Epoch 229/500\n",
      "21/21 [==============================] - 0s 4ms/step - loss: 31.5186 - val_loss: 672.4340\n",
      "Epoch 230/500\n",
      "21/21 [==============================] - 0s 4ms/step - loss: 31.4106 - val_loss: 673.1828\n",
      "Epoch 231/500\n",
      "21/21 [==============================] - 0s 5ms/step - loss: 31.3096 - val_loss: 673.9114\n",
      "Epoch 232/500\n",
      "21/21 [==============================] - 0s 5ms/step - loss: 31.2150 - val_loss: 674.6196\n",
      "Epoch 233/500\n",
      "21/21 [==============================] - 0s 5ms/step - loss: 31.1266 - val_loss: 675.3080\n",
      "Epoch 234/500\n",
      "21/21 [==============================] - 0s 5ms/step - loss: 31.0439 - val_loss: 675.9769\n",
      "Epoch 235/500\n",
      "21/21 [==============================] - 0s 5ms/step - loss: 30.9666 - val_loss: 676.6265\n",
      "Epoch 236/500\n",
      "21/21 [==============================] - 0s 4ms/step - loss: 30.8945 - val_loss: 677.2566\n",
      "Epoch 237/500\n",
      "21/21 [==============================] - 0s 4ms/step - loss: 30.8272 - val_loss: 677.8679\n",
      "Epoch 238/500\n",
      "21/21 [==============================] - 0s 4ms/step - loss: 30.7644 - val_loss: 678.4606\n",
      "Epoch 239/500\n",
      "21/21 [==============================] - 0s 4ms/step - loss: 30.7058 - val_loss: 679.0351\n",
      "Epoch 240/500\n",
      "21/21 [==============================] - 0s 4ms/step - loss: 30.6513 - val_loss: 679.5914\n",
      "Epoch 241/500\n",
      "21/21 [==============================] - 0s 4ms/step - loss: 30.6004 - val_loss: 680.1299\n",
      "Epoch 242/500\n",
      "21/21 [==============================] - 0s 4ms/step - loss: 30.5531 - val_loss: 680.6512\n",
      "Epoch 243/500\n",
      "21/21 [==============================] - 0s 4ms/step - loss: 30.5091 - val_loss: 681.1553\n",
      "Epoch 244/500\n",
      "21/21 [==============================] - 0s 4ms/step - loss: 30.4680 - val_loss: 681.6427\n",
      "Epoch 245/500\n",
      "21/21 [==============================] - 0s 4ms/step - loss: 30.4299 - val_loss: 682.1135\n",
      "Epoch 246/500\n",
      "21/21 [==============================] - 0s 4ms/step - loss: 30.3945 - val_loss: 682.5681\n",
      "Epoch 247/500\n",
      "21/21 [==============================] - 0s 4ms/step - loss: 30.3616 - val_loss: 683.0069\n",
      "Epoch 248/500\n",
      "21/21 [==============================] - 0s 4ms/step - loss: 30.3310 - val_loss: 683.4302\n",
      "Epoch 249/500\n",
      "21/21 [==============================] - 0s 4ms/step - loss: 30.3027 - val_loss: 683.8386\n",
      "Epoch 250/500\n",
      "21/21 [==============================] - 0s 9ms/step - loss: 30.2764 - val_loss: 684.2322\n",
      "Epoch 251/500\n",
      "21/21 [==============================] - 0s 5ms/step - loss: 30.2519 - val_loss: 684.6110\n",
      "Epoch 252/500\n",
      "21/21 [==============================] - 0s 5ms/step - loss: 30.2293 - val_loss: 684.9762\n",
      "Epoch 253/500\n",
      "21/21 [==============================] - 0s 5ms/step - loss: 30.2083 - val_loss: 685.3277\n",
      "Epoch 254/500\n",
      "21/21 [==============================] - 0s 5ms/step - loss: 30.1888 - val_loss: 685.6656\n",
      "Epoch 255/500\n",
      "21/21 [==============================] - 0s 5ms/step - loss: 30.1708 - val_loss: 685.9906\n",
      "Epoch 256/500\n",
      "21/21 [==============================] - 0s 5ms/step - loss: 30.1542 - val_loss: 686.3029\n",
      "Epoch 257/500\n",
      "21/21 [==============================] - 0s 5ms/step - loss: 30.1388 - val_loss: 686.6029\n",
      "Epoch 258/500\n",
      "21/21 [==============================] - 0s 7ms/step - loss: 30.1245 - val_loss: 686.8911\n",
      "Epoch 259/500\n",
      "21/21 [==============================] - 0s 8ms/step - loss: 30.1113 - val_loss: 687.1676\n",
      "Epoch 260/500\n",
      "21/21 [==============================] - 0s 5ms/step - loss: 30.0991 - val_loss: 687.4326\n",
      "Epoch 261/500\n",
      "21/21 [==============================] - 0s 5ms/step - loss: 30.0878 - val_loss: 687.6872\n",
      "Epoch 262/500\n",
      "21/21 [==============================] - 0s 5ms/step - loss: 30.0773 - val_loss: 687.9304\n",
      "Epoch 263/500\n",
      "21/21 [==============================] - 0s 5ms/step - loss: 30.0678 - val_loss: 688.1639\n",
      "Epoch 264/500\n",
      "21/21 [==============================] - 0s 5ms/step - loss: 30.0589 - val_loss: 688.3874\n",
      "Epoch 265/500\n",
      "21/21 [==============================] - 0s 5ms/step - loss: 30.0507 - val_loss: 688.6012\n",
      "Epoch 266/500\n",
      "21/21 [==============================] - 0s 5ms/step - loss: 30.0431 - val_loss: 688.8057\n",
      "Epoch 267/500\n",
      "21/21 [==============================] - 0s 5ms/step - loss: 30.0362 - val_loss: 689.0013\n",
      "Epoch 268/500\n",
      "21/21 [==============================] - 0s 4ms/step - loss: 30.0297 - val_loss: 689.1880\n",
      "Epoch 269/500\n",
      "21/21 [==============================] - 0s 4ms/step - loss: 30.0238 - val_loss: 689.3665\n",
      "Epoch 270/500\n",
      "21/21 [==============================] - 0s 5ms/step - loss: 30.0184 - val_loss: 689.5366\n",
      "Epoch 271/500\n",
      "21/21 [==============================] - 0s 4ms/step - loss: 30.0133 - val_loss: 689.6990\n",
      "Epoch 272/500\n",
      "21/21 [==============================] - 0s 4ms/step - loss: 30.0088 - val_loss: 689.8538\n",
      "Epoch 273/500\n",
      "21/21 [==============================] - 0s 4ms/step - loss: 30.0045 - val_loss: 690.0015\n",
      "Epoch 274/500\n",
      "21/21 [==============================] - 0s 4ms/step - loss: 30.0007 - val_loss: 690.1424\n",
      "Epoch 275/500\n",
      "21/21 [==============================] - 0s 5ms/step - loss: 29.9971 - val_loss: 690.2763\n",
      "Epoch 276/500\n",
      "21/21 [==============================] - 0s 5ms/step - loss: 29.9938 - val_loss: 690.4037\n",
      "Epoch 277/500\n",
      "21/21 [==============================] - 0s 9ms/step - loss: 29.9908 - val_loss: 690.5251\n",
      "Epoch 278/500\n",
      "21/21 [==============================] - 0s 5ms/step - loss: 29.9881 - val_loss: 690.6406\n",
      "Epoch 279/500\n",
      "21/21 [==============================] - 0s 5ms/step - loss: 29.9856 - val_loss: 690.7503\n",
      "Epoch 280/500\n",
      "21/21 [==============================] - 0s 5ms/step - loss: 29.9833 - val_loss: 690.8542\n",
      "Epoch 281/500\n",
      "21/21 [==============================] - 0s 5ms/step - loss: 29.9813 - val_loss: 690.9533\n",
      "Epoch 282/500\n",
      "21/21 [==============================] - 0s 5ms/step - loss: 29.9794 - val_loss: 691.0472\n",
      "Epoch 283/500\n",
      "21/21 [==============================] - 0s 5ms/step - loss: 29.9777 - val_loss: 691.1365\n",
      "Epoch 284/500\n",
      "21/21 [==============================] - 0s 5ms/step - loss: 29.9761 - val_loss: 691.2209\n",
      "Epoch 285/500\n",
      "21/21 [==============================] - 0s 5ms/step - loss: 29.9748 - val_loss: 691.3010\n",
      "Epoch 286/500\n",
      "21/21 [==============================] - 0s 5ms/step - loss: 29.9735 - val_loss: 691.3768\n",
      "Epoch 287/500\n",
      "21/21 [==============================] - 0s 5ms/step - loss: 29.9724 - val_loss: 691.4484\n",
      "Epoch 288/500\n",
      "21/21 [==============================] - 0s 5ms/step - loss: 29.9714 - val_loss: 691.5164\n",
      "Epoch 289/500\n",
      "21/21 [==============================] - 0s 5ms/step - loss: 29.9704 - val_loss: 691.5807\n",
      "Epoch 290/500\n",
      "21/21 [==============================] - 0s 5ms/step - loss: 29.9697 - val_loss: 691.6414\n",
      "Epoch 291/500\n",
      "21/21 [==============================] - 0s 5ms/step - loss: 29.9689 - val_loss: 691.6987\n",
      "Epoch 292/500\n",
      "21/21 [==============================] - 0s 5ms/step - loss: 29.9684 - val_loss: 691.7529\n",
      "Epoch 293/500\n",
      "21/21 [==============================] - 0s 5ms/step - loss: 29.9678 - val_loss: 691.8038\n",
      "Epoch 294/500\n",
      "21/21 [==============================] - 0s 5ms/step - loss: 29.9674 - val_loss: 691.8519\n",
      "Epoch 295/500\n",
      "21/21 [==============================] - 0s 5ms/step - loss: 29.9670 - val_loss: 691.8975\n",
      "Epoch 296/500\n",
      "21/21 [==============================] - 0s 4ms/step - loss: 29.9667 - val_loss: 691.9403\n",
      "Epoch 297/500\n",
      "21/21 [==============================] - 0s 5ms/step - loss: 29.9665 - val_loss: 691.9806\n",
      "Epoch 298/500\n",
      "21/21 [==============================] - 0s 4ms/step - loss: 29.9663 - val_loss: 692.0189\n",
      "Epoch 299/500\n",
      "21/21 [==============================] - 0s 5ms/step - loss: 29.9661 - val_loss: 692.0546\n",
      "Epoch 300/500\n",
      "21/21 [==============================] - 0s 5ms/step - loss: 29.9660 - val_loss: 692.0880\n",
      "Epoch 301/500\n",
      "21/21 [==============================] - 0s 5ms/step - loss: 29.9660 - val_loss: 692.1195\n",
      "Epoch 302/500\n",
      "21/21 [==============================] - 0s 10ms/step - loss: 29.9660 - val_loss: 692.1493\n",
      "Epoch 303/500\n",
      "21/21 [==============================] - 0s 6ms/step - loss: 29.9660 - val_loss: 692.1769\n",
      "Epoch 304/500\n",
      "21/21 [==============================] - 0s 7ms/step - loss: 29.9661 - val_loss: 692.2030\n",
      "Epoch 305/500\n",
      "21/21 [==============================] - 0s 7ms/step - loss: 29.9662 - val_loss: 692.2272\n",
      "Epoch 306/500\n",
      "21/21 [==============================] - 0s 7ms/step - loss: 29.9664 - val_loss: 692.2503\n",
      "Epoch 307/500\n",
      "21/21 [==============================] - 0s 6ms/step - loss: 29.9665 - val_loss: 692.2717\n",
      "Epoch 308/500\n",
      "21/21 [==============================] - 0s 6ms/step - loss: 29.9667 - val_loss: 692.2917\n",
      "Epoch 309/500\n",
      "21/21 [==============================] - 0s 5ms/step - loss: 29.9670 - val_loss: 692.3107\n",
      "Epoch 310/500\n",
      "21/21 [==============================] - 0s 5ms/step - loss: 29.9671 - val_loss: 692.3280\n",
      "Epoch 311/500\n",
      "21/21 [==============================] - 0s 5ms/step - loss: 29.9674 - val_loss: 692.3443\n",
      "Epoch 312/500\n",
      "21/21 [==============================] - 0s 5ms/step - loss: 29.9677 - val_loss: 692.3596\n",
      "Epoch 313/500\n",
      "21/21 [==============================] - 0s 5ms/step - loss: 29.9680 - val_loss: 692.3735\n",
      "Epoch 314/500\n",
      "21/21 [==============================] - 0s 5ms/step - loss: 29.9683 - val_loss: 692.3867\n",
      "Epoch 315/500\n",
      "21/21 [==============================] - 0s 5ms/step - loss: 29.9687 - val_loss: 692.3990\n",
      "Epoch 316/500\n",
      "21/21 [==============================] - 0s 4ms/step - loss: 29.9690 - val_loss: 692.4106\n",
      "Epoch 317/500\n",
      "21/21 [==============================] - 0s 4ms/step - loss: 29.9693 - val_loss: 692.4210\n",
      "Epoch 318/500\n",
      "21/21 [==============================] - 0s 4ms/step - loss: 29.9697 - val_loss: 692.4310\n",
      "Epoch 319/500\n",
      "21/21 [==============================] - 0s 4ms/step - loss: 29.9701 - val_loss: 692.4404\n",
      "Epoch 320/500\n",
      "21/21 [==============================] - 0s 4ms/step - loss: 29.9705 - val_loss: 692.4487\n",
      "Epoch 321/500\n",
      "21/21 [==============================] - 0s 5ms/step - loss: 29.9709 - val_loss: 692.4567\n",
      "Epoch 322/500\n",
      "21/21 [==============================] - 0s 5ms/step - loss: 29.9713 - val_loss: 692.4638\n",
      "Epoch 323/500\n",
      "21/21 [==============================] - 0s 4ms/step - loss: 29.9717 - val_loss: 692.4706\n",
      "Epoch 324/500\n",
      "21/21 [==============================] - 0s 4ms/step - loss: 29.9721 - val_loss: 692.4768\n",
      "Epoch 325/500\n",
      "21/21 [==============================] - 0s 4ms/step - loss: 29.9725 - val_loss: 692.4823\n",
      "Epoch 326/500\n",
      "21/21 [==============================] - 0s 9ms/step - loss: 29.9729 - val_loss: 692.4874\n",
      "Epoch 327/500\n",
      "21/21 [==============================] - 0s 9ms/step - loss: 29.9734 - val_loss: 692.4922\n",
      "Epoch 328/500\n",
      "21/21 [==============================] - 0s 7ms/step - loss: 29.9738 - val_loss: 692.4965\n",
      "Epoch 329/500\n",
      "21/21 [==============================] - 0s 6ms/step - loss: 29.9742 - val_loss: 692.5007\n",
      "Epoch 330/500\n",
      "21/21 [==============================] - 0s 6ms/step - loss: 29.9747 - val_loss: 692.5040\n",
      "Epoch 331/500\n",
      "21/21 [==============================] - 0s 7ms/step - loss: 29.9751 - val_loss: 692.5072\n",
      "Epoch 332/500\n",
      "21/21 [==============================] - 0s 6ms/step - loss: 29.9755 - val_loss: 692.5101\n",
      "Epoch 333/500\n",
      "21/21 [==============================] - 0s 5ms/step - loss: 29.9760 - val_loss: 692.5130\n",
      "Epoch 334/500\n",
      "21/21 [==============================] - 0s 5ms/step - loss: 29.9764 - val_loss: 692.5154\n",
      "Epoch 335/500\n",
      "21/21 [==============================] - 0s 5ms/step - loss: 29.9769 - val_loss: 692.5176\n",
      "Epoch 336/500\n",
      "21/21 [==============================] - 0s 5ms/step - loss: 29.9773 - val_loss: 692.5194\n",
      "Epoch 337/500\n",
      "21/21 [==============================] - 0s 5ms/step - loss: 29.9777 - val_loss: 692.5210\n",
      "Epoch 338/500\n",
      "21/21 [==============================] - 0s 7ms/step - loss: 29.9782 - val_loss: 692.5227\n",
      "Epoch 339/500\n",
      "21/21 [==============================] - 0s 5ms/step - loss: 29.9786 - val_loss: 692.5242\n",
      "Epoch 340/500\n",
      "21/21 [==============================] - 0s 6ms/step - loss: 29.9790 - val_loss: 692.5255\n",
      "Epoch 341/500\n",
      "21/21 [==============================] - 0s 5ms/step - loss: 29.9795 - val_loss: 692.5264\n",
      "Epoch 342/500\n",
      "21/21 [==============================] - 0s 5ms/step - loss: 29.9799 - val_loss: 692.5272\n",
      "Epoch 343/500\n",
      "21/21 [==============================] - 0s 6ms/step - loss: 29.9803 - val_loss: 692.5278\n",
      "Epoch 344/500\n",
      "21/21 [==============================] - 0s 4ms/step - loss: 29.9807 - val_loss: 692.5286\n",
      "Epoch 345/500\n",
      "21/21 [==============================] - 0s 4ms/step - loss: 29.9812 - val_loss: 692.5289\n",
      "Epoch 346/500\n",
      "21/21 [==============================] - 0s 4ms/step - loss: 29.9816 - val_loss: 692.5291\n",
      "Epoch 347/500\n",
      "21/21 [==============================] - 0s 4ms/step - loss: 29.9820 - val_loss: 692.5294\n",
      "Epoch 348/500\n",
      "21/21 [==============================] - 0s 4ms/step - loss: 29.9825 - val_loss: 692.5298\n",
      "Epoch 349/500\n",
      "21/21 [==============================] - 0s 4ms/step - loss: 29.9828 - val_loss: 692.5299\n",
      "Epoch 350/500\n",
      "21/21 [==============================] - 0s 4ms/step - loss: 29.9832 - val_loss: 692.5299\n",
      "Epoch 351/500\n",
      "21/21 [==============================] - 0s 4ms/step - loss: 29.9836 - val_loss: 692.5299\n",
      "Epoch 352/500\n",
      "21/21 [==============================] - 0s 5ms/step - loss: 29.9840 - val_loss: 692.5295\n",
      "Epoch 353/500\n",
      "21/21 [==============================] - 0s 5ms/step - loss: 29.9844 - val_loss: 692.5297\n",
      "Epoch 354/500\n",
      "21/21 [==============================] - 0s 4ms/step - loss: 29.9847 - val_loss: 692.5292\n",
      "Epoch 355/500\n",
      "21/21 [==============================] - 0s 5ms/step - loss: 29.9851 - val_loss: 692.5289\n",
      "Epoch 356/500\n",
      "21/21 [==============================] - 0s 5ms/step - loss: 29.9855 - val_loss: 692.5288\n",
      "Epoch 357/500\n",
      "21/21 [==============================] - 0s 5ms/step - loss: 29.9859 - val_loss: 692.5284\n",
      "Epoch 358/500\n",
      "21/21 [==============================] - 0s 5ms/step - loss: 29.9862 - val_loss: 692.5280\n",
      "Epoch 359/500\n",
      "21/21 [==============================] - 0s 5ms/step - loss: 29.9866 - val_loss: 692.5273\n",
      "Epoch 360/500\n",
      "21/21 [==============================] - 0s 11ms/step - loss: 29.9870 - val_loss: 692.5267\n",
      "Epoch 361/500\n",
      "21/21 [==============================] - 0s 5ms/step - loss: 29.9873 - val_loss: 692.5264\n",
      "Epoch 362/500\n",
      "21/21 [==============================] - 0s 5ms/step - loss: 29.9877 - val_loss: 692.5260\n",
      "Epoch 363/500\n",
      "21/21 [==============================] - 0s 5ms/step - loss: 29.9880 - val_loss: 692.5254\n",
      "Epoch 364/500\n",
      "21/21 [==============================] - 0s 5ms/step - loss: 29.9884 - val_loss: 692.5248\n",
      "Epoch 365/500\n",
      "21/21 [==============================] - 0s 5ms/step - loss: 29.9887 - val_loss: 692.5242\n",
      "Epoch 366/500\n",
      "21/21 [==============================] - 0s 5ms/step - loss: 29.9890 - val_loss: 692.5233\n",
      "Epoch 367/500\n",
      "21/21 [==============================] - 0s 5ms/step - loss: 29.9894 - val_loss: 692.5228\n",
      "Epoch 368/500\n",
      "21/21 [==============================] - 0s 5ms/step - loss: 29.9897 - val_loss: 692.5221\n",
      "Epoch 369/500\n",
      "21/21 [==============================] - 0s 4ms/step - loss: 29.9900 - val_loss: 692.5214\n",
      "Epoch 370/500\n",
      "21/21 [==============================] - 0s 5ms/step - loss: 29.9903 - val_loss: 692.5205\n",
      "Epoch 371/500\n",
      "21/21 [==============================] - 0s 4ms/step - loss: 29.9906 - val_loss: 692.5195\n",
      "Epoch 372/500\n",
      "21/21 [==============================] - 0s 5ms/step - loss: 29.9909 - val_loss: 692.5189\n",
      "Epoch 373/500\n",
      "21/21 [==============================] - 0s 7ms/step - loss: 29.9912 - val_loss: 692.5183\n",
      "Epoch 374/500\n",
      "21/21 [==============================] - 0s 5ms/step - loss: 29.9916 - val_loss: 692.5180\n",
      "Epoch 375/500\n",
      "21/21 [==============================] - 0s 6ms/step - loss: 29.9918 - val_loss: 692.5173\n",
      "Epoch 376/500\n",
      "21/21 [==============================] - 0s 5ms/step - loss: 29.9921 - val_loss: 692.5164\n",
      "Epoch 377/500\n",
      "21/21 [==============================] - 0s 5ms/step - loss: 29.9924 - val_loss: 692.5159\n",
      "Epoch 378/500\n",
      "21/21 [==============================] - 0s 5ms/step - loss: 29.9927 - val_loss: 692.5153\n",
      "Epoch 379/500\n",
      "21/21 [==============================] - 0s 5ms/step - loss: 29.9929 - val_loss: 692.5145\n",
      "Epoch 380/500\n",
      "21/21 [==============================] - 0s 5ms/step - loss: 29.9932 - val_loss: 692.5139\n",
      "Epoch 381/500\n",
      "21/21 [==============================] - 0s 5ms/step - loss: 29.9935 - val_loss: 692.5135\n",
      "Epoch 382/500\n",
      "21/21 [==============================] - 0s 10ms/step - loss: 29.9937 - val_loss: 692.5126\n",
      "Epoch 383/500\n",
      "21/21 [==============================] - 0s 5ms/step - loss: 29.9940 - val_loss: 692.5119\n",
      "Epoch 384/500\n",
      "21/21 [==============================] - 0s 5ms/step - loss: 29.9943 - val_loss: 692.5115\n",
      "Epoch 385/500\n",
      "21/21 [==============================] - 0s 5ms/step - loss: 29.9945 - val_loss: 692.5109\n",
      "Epoch 386/500\n",
      "21/21 [==============================] - 0s 5ms/step - loss: 29.9947 - val_loss: 692.5100\n",
      "Epoch 387/500\n",
      "21/21 [==============================] - 0s 5ms/step - loss: 29.9950 - val_loss: 692.5095\n",
      "Epoch 388/500\n",
      "21/21 [==============================] - 0s 5ms/step - loss: 29.9952 - val_loss: 692.5090\n",
      "Epoch 389/500\n",
      "21/21 [==============================] - 0s 5ms/step - loss: 29.9954 - val_loss: 692.5082\n",
      "Epoch 390/500\n",
      "21/21 [==============================] - 0s 4ms/step - loss: 29.9957 - val_loss: 692.5075\n",
      "Epoch 391/500\n",
      "21/21 [==============================] - 0s 5ms/step - loss: 29.9959 - val_loss: 692.5073\n",
      "Epoch 392/500\n",
      "21/21 [==============================] - 0s 5ms/step - loss: 29.9961 - val_loss: 692.5063\n",
      "Epoch 393/500\n",
      "21/21 [==============================] - 0s 5ms/step - loss: 29.9963 - val_loss: 692.5059\n",
      "Epoch 394/500\n",
      "21/21 [==============================] - 0s 5ms/step - loss: 29.9965 - val_loss: 692.5052\n",
      "Epoch 395/500\n",
      "21/21 [==============================] - 0s 5ms/step - loss: 29.9968 - val_loss: 692.5048\n",
      "Epoch 396/500\n",
      "21/21 [==============================] - 0s 5ms/step - loss: 29.9969 - val_loss: 692.5040\n",
      "Epoch 397/500\n",
      "21/21 [==============================] - 0s 5ms/step - loss: 29.9972 - val_loss: 692.5033\n",
      "Epoch 398/500\n",
      "21/21 [==============================] - 0s 5ms/step - loss: 29.9973 - val_loss: 692.5026\n",
      "Epoch 399/500\n",
      "21/21 [==============================] - 0s 5ms/step - loss: 29.9976 - val_loss: 692.5021\n",
      "Epoch 400/500\n",
      "21/21 [==============================] - 0s 5ms/step - loss: 29.9978 - val_loss: 692.5016\n",
      "Epoch 401/500\n",
      "21/21 [==============================] - 0s 4ms/step - loss: 29.9980 - val_loss: 692.5012\n",
      "Epoch 402/500\n",
      "21/21 [==============================] - 0s 4ms/step - loss: 29.9981 - val_loss: 692.5004\n",
      "Epoch 403/500\n",
      "21/21 [==============================] - 0s 9ms/step - loss: 29.9983 - val_loss: 692.4999\n",
      "Epoch 404/500\n",
      "21/21 [==============================] - 0s 5ms/step - loss: 29.9985 - val_loss: 692.4995\n",
      "Epoch 405/500\n",
      "21/21 [==============================] - 0s 5ms/step - loss: 29.9986 - val_loss: 692.4987\n",
      "Epoch 406/500\n",
      "21/21 [==============================] - 0s 5ms/step - loss: 29.9989 - val_loss: 692.4984\n",
      "Epoch 407/500\n",
      "21/21 [==============================] - 0s 5ms/step - loss: 29.9990 - val_loss: 692.4979\n",
      "Epoch 408/500\n",
      "21/21 [==============================] - 0s 5ms/step - loss: 29.9992 - val_loss: 692.4976\n",
      "Epoch 409/500\n",
      "21/21 [==============================] - 0s 5ms/step - loss: 29.9994 - val_loss: 692.4972\n",
      "Epoch 410/500\n",
      "21/21 [==============================] - 0s 5ms/step - loss: 29.9996 - val_loss: 692.4971\n",
      "Epoch 411/500\n",
      "21/21 [==============================] - 0s 4ms/step - loss: 29.9997 - val_loss: 692.4965\n",
      "Epoch 412/500\n",
      "21/21 [==============================] - 0s 4ms/step - loss: 29.9998 - val_loss: 692.4960\n",
      "Epoch 413/500\n",
      "21/21 [==============================] - 0s 5ms/step - loss: 29.9999 - val_loss: 692.4955\n",
      "Epoch 414/500\n",
      "21/21 [==============================] - 0s 5ms/step - loss: 30.0001 - val_loss: 692.4951\n",
      "Epoch 415/500\n",
      "21/21 [==============================] - 0s 5ms/step - loss: 30.0002 - val_loss: 692.4946\n",
      "Epoch 416/500\n",
      "21/21 [==============================] - 0s 6ms/step - loss: 30.0004 - val_loss: 692.4940\n",
      "Epoch 417/500\n",
      "21/21 [==============================] - 0s 5ms/step - loss: 30.0005 - val_loss: 692.4933\n",
      "Epoch 418/500\n",
      "21/21 [==============================] - 0s 5ms/step - loss: 30.0007 - val_loss: 692.4930\n",
      "Epoch 419/500\n",
      "21/21 [==============================] - 0s 5ms/step - loss: 30.0008 - val_loss: 692.4926\n",
      "Epoch 420/500\n",
      "21/21 [==============================] - 0s 5ms/step - loss: 30.0010 - val_loss: 692.4924\n",
      "Epoch 421/500\n",
      "21/21 [==============================] - 0s 4ms/step - loss: 30.0011 - val_loss: 692.4919\n",
      "Epoch 422/500\n",
      "21/21 [==============================] - 0s 4ms/step - loss: 30.0012 - val_loss: 692.4915\n",
      "Epoch 423/500\n",
      "21/21 [==============================] - 0s 5ms/step - loss: 30.0013 - val_loss: 692.4908\n",
      "Epoch 424/500\n",
      "21/21 [==============================] - 0s 10ms/step - loss: 30.0015 - val_loss: 692.4906\n",
      "Epoch 425/500\n",
      "21/21 [==============================] - 0s 5ms/step - loss: 30.0016 - val_loss: 692.4904\n",
      "Epoch 426/500\n",
      "21/21 [==============================] - 0s 5ms/step - loss: 30.0017 - val_loss: 692.4902\n",
      "Epoch 427/500\n",
      "21/21 [==============================] - 0s 5ms/step - loss: 30.0019 - val_loss: 692.4902\n",
      "Epoch 428/500\n",
      "21/21 [==============================] - 0s 5ms/step - loss: 30.0019 - val_loss: 692.4897\n",
      "Epoch 429/500\n",
      "21/21 [==============================] - 0s 5ms/step - loss: 30.0020 - val_loss: 692.4893\n",
      "Epoch 430/500\n",
      "21/21 [==============================] - 0s 5ms/step - loss: 30.0022 - val_loss: 692.4887\n",
      "Epoch 431/500\n",
      "21/21 [==============================] - 0s 5ms/step - loss: 30.0023 - val_loss: 692.4885\n",
      "Epoch 432/500\n",
      "21/21 [==============================] - 0s 5ms/step - loss: 30.0024 - val_loss: 692.4883\n",
      "Epoch 433/500\n",
      "21/21 [==============================] - 0s 5ms/step - loss: 30.0025 - val_loss: 692.4879\n",
      "Epoch 434/500\n",
      "21/21 [==============================] - 0s 5ms/step - loss: 30.0026 - val_loss: 692.4874\n",
      "Epoch 435/500\n",
      "21/21 [==============================] - 0s 4ms/step - loss: 30.0027 - val_loss: 692.4872\n",
      "Epoch 436/500\n",
      "21/21 [==============================] - 0s 8ms/step - loss: 30.0028 - val_loss: 692.4869\n",
      "Epoch 437/500\n",
      "21/21 [==============================] - 0s 6ms/step - loss: 30.0029 - val_loss: 692.4865\n",
      "Epoch 438/500\n",
      "21/21 [==============================] - 0s 5ms/step - loss: 30.0030 - val_loss: 692.4861\n",
      "Epoch 439/500\n",
      "21/21 [==============================] - 0s 5ms/step - loss: 30.0031 - val_loss: 692.4858\n",
      "Epoch 440/500\n",
      "21/21 [==============================] - 0s 5ms/step - loss: 30.0032 - val_loss: 692.4857\n",
      "Epoch 441/500\n",
      "21/21 [==============================] - 0s 5ms/step - loss: 30.0032 - val_loss: 692.4854\n",
      "Epoch 442/500\n",
      "21/21 [==============================] - 0s 5ms/step - loss: 30.0033 - val_loss: 692.4851\n",
      "Epoch 443/500\n",
      "21/21 [==============================] - 0s 6ms/step - loss: 30.0034 - val_loss: 692.4846\n",
      "Epoch 444/500\n",
      "21/21 [==============================] - 0s 5ms/step - loss: 30.0035 - val_loss: 692.4845\n",
      "Epoch 445/500\n",
      "21/21 [==============================] - 0s 5ms/step - loss: 30.0036 - val_loss: 692.4842\n",
      "Epoch 446/500\n",
      "21/21 [==============================] - 0s 5ms/step - loss: 30.0037 - val_loss: 692.4841\n",
      "Epoch 447/500\n",
      "21/21 [==============================] - 0s 5ms/step - loss: 30.0038 - val_loss: 692.4839\n",
      "Epoch 448/500\n",
      "21/21 [==============================] - 0s 5ms/step - loss: 30.0038 - val_loss: 692.4836\n",
      "Epoch 449/500\n",
      "21/21 [==============================] - 0s 10ms/step - loss: 30.0039 - val_loss: 692.4835\n",
      "Epoch 450/500\n",
      "21/21 [==============================] - 0s 5ms/step - loss: 30.0040 - val_loss: 692.4833\n",
      "Epoch 451/500\n",
      "21/21 [==============================] - 0s 6ms/step - loss: 30.0041 - val_loss: 692.4832\n",
      "Epoch 452/500\n",
      "21/21 [==============================] - 0s 5ms/step - loss: 30.0041 - val_loss: 692.4829\n",
      "Epoch 453/500\n",
      "21/21 [==============================] - 0s 5ms/step - loss: 30.0042 - val_loss: 692.4826\n",
      "Epoch 454/500\n",
      "21/21 [==============================] - 0s 5ms/step - loss: 30.0043 - val_loss: 692.4827\n",
      "Epoch 455/500\n",
      "21/21 [==============================] - 0s 5ms/step - loss: 30.0044 - val_loss: 692.4825\n",
      "Epoch 456/500\n",
      "21/21 [==============================] - 0s 5ms/step - loss: 30.0044 - val_loss: 692.4824\n",
      "Epoch 457/500\n",
      "21/21 [==============================] - 0s 5ms/step - loss: 30.0044 - val_loss: 692.4821\n",
      "Epoch 458/500\n",
      "21/21 [==============================] - 0s 4ms/step - loss: 30.0045 - val_loss: 692.4818\n",
      "Epoch 459/500\n",
      "21/21 [==============================] - 0s 5ms/step - loss: 30.0046 - val_loss: 692.4816\n",
      "Epoch 460/500\n",
      "21/21 [==============================] - 0s 5ms/step - loss: 30.0046 - val_loss: 692.4813\n",
      "Epoch 461/500\n",
      "21/21 [==============================] - 0s 5ms/step - loss: 30.0047 - val_loss: 692.4811\n",
      "Epoch 462/500\n",
      "21/21 [==============================] - 0s 5ms/step - loss: 30.0048 - val_loss: 692.4809\n",
      "Epoch 463/500\n",
      "21/21 [==============================] - 0s 5ms/step - loss: 30.0048 - val_loss: 692.4805\n",
      "Epoch 464/500\n",
      "21/21 [==============================] - 0s 5ms/step - loss: 30.0049 - val_loss: 692.4803\n",
      "Epoch 465/500\n",
      "21/21 [==============================] - 0s 5ms/step - loss: 30.0049 - val_loss: 692.4800\n",
      "Epoch 466/500\n",
      "21/21 [==============================] - 0s 5ms/step - loss: 30.0050 - val_loss: 692.4799\n",
      "Epoch 467/500\n",
      "21/21 [==============================] - 0s 5ms/step - loss: 30.0050 - val_loss: 692.4796\n",
      "Epoch 468/500\n",
      "21/21 [==============================] - 0s 5ms/step - loss: 30.0051 - val_loss: 692.4795\n",
      "Epoch 469/500\n",
      "21/21 [==============================] - 0s 9ms/step - loss: 30.0051 - val_loss: 692.4792\n",
      "Epoch 470/500\n",
      "21/21 [==============================] - 0s 5ms/step - loss: 30.0052 - val_loss: 692.4791\n",
      "Epoch 471/500\n",
      "21/21 [==============================] - 0s 5ms/step - loss: 30.0052 - val_loss: 692.4790\n",
      "Epoch 472/500\n",
      "21/21 [==============================] - 0s 5ms/step - loss: 30.0053 - val_loss: 692.4788\n",
      "Epoch 473/500\n",
      "21/21 [==============================] - 0s 5ms/step - loss: 30.0054 - val_loss: 692.4786\n",
      "Epoch 474/500\n",
      "21/21 [==============================] - 0s 7ms/step - loss: 30.0054 - val_loss: 692.4786\n",
      "Epoch 475/500\n",
      "21/21 [==============================] - 0s 8ms/step - loss: 30.0054 - val_loss: 692.4785\n",
      "Epoch 476/500\n",
      "21/21 [==============================] - 0s 6ms/step - loss: 30.0055 - val_loss: 692.4785\n",
      "Epoch 477/500\n",
      "21/21 [==============================] - 0s 5ms/step - loss: 30.0055 - val_loss: 692.4785\n",
      "Epoch 478/500\n",
      "21/21 [==============================] - 0s 5ms/step - loss: 30.0055 - val_loss: 692.4782\n",
      "Epoch 479/500\n",
      "21/21 [==============================] - 0s 5ms/step - loss: 30.0056 - val_loss: 692.4780\n",
      "Epoch 480/500\n",
      "21/21 [==============================] - 0s 5ms/step - loss: 30.0057 - val_loss: 692.4780\n",
      "Epoch 481/500\n",
      "21/21 [==============================] - 0s 6ms/step - loss: 30.0057 - val_loss: 692.4780\n",
      "Epoch 482/500\n",
      "21/21 [==============================] - 0s 5ms/step - loss: 30.0057 - val_loss: 692.4775\n",
      "Epoch 483/500\n",
      "21/21 [==============================] - 0s 5ms/step - loss: 30.0057 - val_loss: 692.4774\n",
      "Epoch 484/500\n",
      "21/21 [==============================] - 0s 5ms/step - loss: 30.0058 - val_loss: 692.4772\n",
      "Epoch 485/500\n",
      "21/21 [==============================] - 0s 5ms/step - loss: 30.0058 - val_loss: 692.4771\n",
      "Epoch 486/500\n",
      "21/21 [==============================] - 0s 5ms/step - loss: 30.0059 - val_loss: 692.4770\n",
      "Epoch 487/500\n",
      "21/21 [==============================] - 0s 5ms/step - loss: 30.0059 - val_loss: 692.4769\n",
      "Epoch 488/500\n",
      "21/21 [==============================] - 0s 5ms/step - loss: 30.0059 - val_loss: 692.4767\n",
      "Epoch 489/500\n",
      "21/21 [==============================] - 0s 11ms/step - loss: 30.0060 - val_loss: 692.4765\n",
      "Epoch 490/500\n",
      "21/21 [==============================] - 0s 6ms/step - loss: 30.0060 - val_loss: 692.4765\n",
      "Epoch 491/500\n",
      "21/21 [==============================] - 0s 5ms/step - loss: 30.0060 - val_loss: 692.4763\n",
      "Epoch 492/500\n",
      "21/21 [==============================] - 0s 5ms/step - loss: 30.0060 - val_loss: 692.4762\n",
      "Epoch 493/500\n",
      "21/21 [==============================] - 0s 5ms/step - loss: 30.0061 - val_loss: 692.4763\n",
      "Epoch 494/500\n",
      "21/21 [==============================] - 0s 5ms/step - loss: 30.0061 - val_loss: 692.4763\n",
      "Epoch 495/500\n",
      "21/21 [==============================] - 0s 5ms/step - loss: 30.0062 - val_loss: 692.4763\n",
      "Epoch 496/500\n",
      "21/21 [==============================] - 0s 5ms/step - loss: 30.0062 - val_loss: 692.4763\n",
      "Epoch 497/500\n",
      "21/21 [==============================] - 0s 5ms/step - loss: 30.0062 - val_loss: 692.4761\n",
      "Epoch 498/500\n",
      "21/21 [==============================] - 0s 5ms/step - loss: 30.0062 - val_loss: 692.4760\n",
      "Epoch 499/500\n",
      "21/21 [==============================] - 0s 5ms/step - loss: 30.0063 - val_loss: 692.4760\n",
      "Epoch 500/500\n",
      "21/21 [==============================] - 0s 5ms/step - loss: 30.0063 - val_loss: 692.4760\n"
     ]
    }
   ],
   "source": [
    "C0 = tf.Variable(82.7524, name=\"C0\", trainable=True, dtype=tf.float32)\n",
    "K0 = tf.Variable(-0.0031, name=\"K0\", trainable=True, dtype=tf.float32)\n",
    "K1 = tf.Variable(-0.0003, name=\"K1\", trainable=True, dtype=tf.float32)\n",
    "a = tf.Variable(0.0000, name=\"a\", trainable=True, dtype=tf.float32)\n",
    "b = tf.Variable(0.0171, name=\"b\", trainable=True, dtype=tf.float32)\n",
    "c = tf.Variable(3.0230, name=\"c\", trainable=True, dtype=tf.float32)\n",
    "\n",
    "splitr = 0.8\n",
    "\n",
    "\n",
    "def loss_fn(y_true, y_pred):\n",
    "    squared_difference = tf.square(y_true[:, 0] - y_pred[:, 0])\n",
    "    #squared_difference2 = tf.square(y_true[:, 2]-y_pred[:, 2])\n",
    "    #squared_difference1 = tf.square(y_true[:, 1]-y_pred[:, 1])\n",
    "    epsilon = 1\n",
    "    squared_difference3 = tf.square(\n",
    "        y_pred[:, 1] - (\n",
    "            y_pred[:, 0] * (\n",
    "                K0 - K1 * (\n",
    "                    9 * a * tf.math.log((y_pred[:, 0] + epsilon) / C0) / (K0 - K1 * c)**2 +\n",
    "                    4 * b * tf.math.log((y_pred[:, 0] + epsilon) / C0) / (K0 - K1 * c) + c\n",
    "                )\n",
    "            )\n",
    "        )\n",
    "    )\n",
    "    return tf.reduce_mean(squared_difference, axis=-1) + 0.2*tf.reduce_mean(squared_difference3, axis=-1)\n",
    "model = Sequential()\n",
    "model.add(LSTM(100, input_shape=(trainX.shape[1], trainX.shape[2])))\n",
    "model.add(Dense(60))\n",
    "model.compile(loss=loss_fn, optimizer='adam')\n",
    "history = model.fit(trainX[:int(splitr*trainX.shape[0])], trainy[:int(splitr*trainX.shape[0])], epochs=500, batch_size=64, validation_data=(trainX[int(splitr*trainX.shape[0]):trainX.shape[0]], trainy[int(splitr*trainX.shape[0]):trainX.shape[0]]), shuffle=False)"
   ]
  },
  {
   "cell_type": "code",
   "execution_count": 19,
   "metadata": {
    "colab": {
     "base_uri": "https://localhost:8080/"
    },
    "id": "yJL101rPyuoT",
    "outputId": "239ff2b1-c186-423a-d316-939dfdd7c793"
   },
   "outputs": [
    {
     "name": "stdout",
     "output_type": "stream",
     "text": [
      "1/1 [==============================] - 0s 369ms/step\n"
     ]
    }
   ],
   "source": [
    "forecast_without_mc = forecastX\n",
    "yhat_without_mc = model.predict(forecast_without_mc) # Step Ahead Prediction\n",
    "forecast_without_mc = forecast_without_mc.reshape((forecast_without_mc.shape[0], forecast_without_mc.shape[2])) # Historical Input"
   ]
  },
  {
   "cell_type": "code",
   "execution_count": 20,
   "metadata": {
    "colab": {
     "base_uri": "https://localhost:8080/"
    },
    "id": "g9dQELcJ8wbp",
    "outputId": "4dc7671b-b1a8-48d5-8744-a86f98446109"
   },
   "outputs": [
    {
     "data": {
      "text/plain": [
       "(1, 1, 251)"
      ]
     },
     "execution_count": 20,
     "metadata": {},
     "output_type": "execute_result"
    }
   ],
   "source": [
    "forecastX.shape"
   ]
  },
  {
   "cell_type": "code",
   "execution_count": 21,
   "metadata": {
    "colab": {
     "base_uri": "https://localhost:8080/"
    },
    "id": "IS2kyIKG1Kbr",
    "outputId": "f31b3485-8e26-452f-9298-ea8bf7e80ad1"
   },
   "outputs": [
    {
     "data": {
      "text/plain": [
       "(1, 251)"
      ]
     },
     "execution_count": 21,
     "metadata": {},
     "output_type": "execute_result"
    }
   ],
   "source": [
    "forecast_without_mc.shape"
   ]
  },
  {
   "cell_type": "code",
   "execution_count": 22,
   "metadata": {
    "id": "0u6VIzaDyuoT"
   },
   "outputs": [],
   "source": [
    "inv_yhat_without_mc = np.concatenate((forecast_without_mc, yhat_without_mc), axis=1) # Concatenation of predicted values with Historical Data\n",
    "#inv_yhat_without_mc = scaler.inverse_transform(inv_yhat_without_mc) # Transform labels back to original encoding"
   ]
  },
  {
   "cell_type": "code",
   "execution_count": 23,
   "metadata": {
    "colab": {
     "base_uri": "https://localhost:8080/"
    },
    "id": "EUEcw0LX07oU",
    "outputId": "cfc32397-9c37-4b43-d087-584bb31c3dcc"
   },
   "outputs": [
    {
     "data": {
      "text/plain": [
       "(1, 311)"
      ]
     },
     "execution_count": 23,
     "metadata": {},
     "output_type": "execute_result"
    }
   ],
   "source": [
    "inv_yhat_without_mc.shape"
   ]
  },
  {
   "cell_type": "code",
   "execution_count": 24,
   "metadata": {
    "id": "31OWVbSh_305"
   },
   "outputs": [],
   "source": [
    "fforecast = inv_yhat_without_mc[:,-300:]"
   ]
  },
  {
   "cell_type": "code",
   "execution_count": 25,
   "metadata": {},
   "outputs": [
    {
     "data": {
      "text/plain": [
       "(1, 300)"
      ]
     },
     "execution_count": 25,
     "metadata": {},
     "output_type": "execute_result"
    }
   ],
   "source": [
    "fforecast.shape"
   ]
  },
  {
   "cell_type": "code",
   "execution_count": 26,
   "metadata": {
    "id": "BlpGH2FOAiRF"
   },
   "outputs": [],
   "source": [
    "final_forecast = fforecast[:,0:300:3]"
   ]
  },
  {
   "cell_type": "code",
   "execution_count": 27,
   "metadata": {},
   "outputs": [
    {
     "data": {
      "text/plain": [
       "(1, 300)"
      ]
     },
     "execution_count": 27,
     "metadata": {},
     "output_type": "execute_result"
    }
   ],
   "source": [
    "fforecast.shape"
   ]
  },
  {
   "cell_type": "code",
   "execution_count": 28,
   "metadata": {
    "id": "CXkgkj_LBk_t"
   },
   "outputs": [],
   "source": [
    "# code to replace all negative value with 0\n",
    "final_forecast[final_forecast<0] = 0"
   ]
  },
  {
   "cell_type": "code",
   "execution_count": 29,
   "metadata": {},
   "outputs": [
    {
     "data": {
      "text/plain": [
       "array([[5.69167832e+01, 5.68795816e+01, 5.68423801e+01, 5.68051783e+01,\n",
       "        5.67679765e+01, 5.67307748e+01, 5.66935732e+01, 5.66563714e+01,\n",
       "        0.00000000e+00, 0.00000000e+00, 0.00000000e+00, 4.06541169e-01,\n",
       "        3.79659380e-02, 5.72713119e+01, 5.72292950e+01, 5.71872782e+01,\n",
       "        5.71452614e+01, 5.71032446e+01, 5.70612278e+01, 5.70192110e+01,\n",
       "        5.69771942e+01, 5.69351774e+01, 5.68931606e+01, 5.68511438e+01,\n",
       "        5.68091270e+01, 5.67671102e+01, 5.67250934e+01, 5.66627684e+01,\n",
       "        5.65703315e+01, 5.64778945e+01, 5.63854575e+01, 5.62930205e+01,\n",
       "        5.62005836e+01, 5.61081466e+01, 5.60157096e+01, 5.59232726e+01,\n",
       "        5.58308357e+01, 5.57383987e+01, 5.56459617e+01, 5.55704248e+01,\n",
       "        1.29810739e+00, 0.00000000e+00, 0.00000000e+00, 8.68838131e-01,\n",
       "        4.33232427e-01, 2.79132515e-01, 3.72437805e-01, 5.67764472e+01,\n",
       "        5.67344304e+01, 5.66833100e+01, 5.65908730e+01, 5.64984360e+01,\n",
       "        5.64059991e+01, 5.63135621e+01, 5.62211251e+01, 5.61286881e+01,\n",
       "        5.60362512e+01, 5.59438142e+01, 5.58513772e+01, 5.57589402e+01,\n",
       "        5.56665033e+01, 5.55834967e+01, 5.81770075e+01, 5.80509571e+01,\n",
       "        5.79249066e+01, 5.77988562e+01, 5.76728058e+01, 5.75467554e+01,\n",
       "        5.74207050e+01, 5.72946545e+01, 5.71686041e+01, 6.62716980e-01,\n",
       "        1.31916910e-01, 6.18013115e+01, 0.00000000e+00, 1.65983210e-01,\n",
       "        7.46340040e-01, 4.03643970e-01, 0.00000000e+00, 2.49747480e-01,\n",
       "        5.46661339e+01, 4.32004333e-01, 1.70246243e-01, 2.22946983e-02,\n",
       "        0.00000000e+00, 0.00000000e+00, 0.00000000e+00, 0.00000000e+00,\n",
       "        4.86664660e-02, 0.00000000e+00, 0.00000000e+00, 0.00000000e+00,\n",
       "        2.52457500e-01, 0.00000000e+00, 0.00000000e+00, 2.97570199e-01,\n",
       "        0.00000000e+00, 0.00000000e+00, 2.88791180e-01, 0.00000000e+00]])"
      ]
     },
     "execution_count": 29,
     "metadata": {},
     "output_type": "execute_result"
    }
   ],
   "source": [
    "final_forecast"
   ]
  },
  {
   "cell_type": "code",
   "execution_count": 30,
   "metadata": {},
   "outputs": [
    {
     "data": {
      "text/plain": [
       "(1, 100)"
      ]
     },
     "execution_count": 30,
     "metadata": {},
     "output_type": "execute_result"
    }
   ],
   "source": [
    "final_forecast.shape"
   ]
  },
  {
   "cell_type": "code",
   "execution_count": 31,
   "metadata": {},
   "outputs": [
    {
     "data": {
      "text/plain": [
       "(100,)"
      ]
     },
     "execution_count": 31,
     "metadata": {},
     "output_type": "execute_result"
    }
   ],
   "source": [
    "test.shape"
   ]
  },
  {
   "cell_type": "code",
   "execution_count": 32,
   "metadata": {},
   "outputs": [],
   "source": [
    "training_set = np.array(training_set)\n",
    "test = np.array(test)\n",
    "final_forecast = np.array(final_forecast.squeeze(0))"
   ]
  },
  {
   "cell_type": "code",
   "execution_count": 33,
   "metadata": {},
   "outputs": [
    {
     "data": {
      "text/plain": [
       "array([49.24779412, 49.23425537, 49.22071662, 49.20717787, 49.19363912,\n",
       "       49.18010037, 49.16656162, 49.15302288, 49.13948413, 49.12594538,\n",
       "       49.11240663, 49.09886788, 49.08532913, 49.07179038, 49.05825163,\n",
       "       49.04471289, 49.03117414, 49.01763539, 49.00409664, 48.99055789,\n",
       "       48.97701914, 48.96348039, 48.94994164, 48.93640289, 48.92286415,\n",
       "       48.9093254 , 48.89578665, 48.8822479 , 48.86870915, 48.8551704 ,\n",
       "       48.84163165, 48.8280929 , 48.81455415, 48.80101541, 48.79089977,\n",
       "       48.78106169, 48.77122361, 48.76138553, 48.75154745, 48.74170937,\n",
       "       48.73187129, 48.7220332 , 48.71219512, 48.70235704, 48.69251896,\n",
       "       48.68268088, 48.6728428 , 48.66300471, 48.65316663, 48.64332855,\n",
       "       48.63349047, 48.62365239, 48.61381431, 48.60397622, 48.59413814,\n",
       "       48.58430006, 48.57446198, 48.5646239 , 48.55478582, 48.54494774,\n",
       "       48.53510965, 48.52527157, 48.51543349, 48.50559541, 48.49575733,\n",
       "       48.48591925, 48.47608116, 48.46624308, 48.456405  , 48.44656692,\n",
       "       48.43672884, 48.42689076, 48.41705267, 48.40721459, 48.39737651,\n",
       "       48.38753843, 48.37770035, 48.36786227, 48.35802419, 48.3481861 ,\n",
       "       48.33834802, 48.32850994, 48.31867186, 48.30883378, 48.2989957 ,\n",
       "       48.28915761, 48.27931953, 48.26948145, 48.25964337, 48.24980529,\n",
       "       48.23996721, 48.23012912, 48.22029104, 48.21045296, 48.20061488,\n",
       "       48.1907768 , 48.18093872, 48.17110064, 48.16126255, 48.15142447])"
      ]
     },
     "execution_count": 33,
     "metadata": {},
     "output_type": "execute_result"
    }
   ],
   "source": [
    "test"
   ]
  },
  {
   "cell_type": "code",
   "execution_count": 34,
   "metadata": {},
   "outputs": [
    {
     "data": {
      "text/plain": [
       "(100,)"
      ]
     },
     "execution_count": 34,
     "metadata": {},
     "output_type": "execute_result"
    }
   ],
   "source": [
    "test.shape"
   ]
  },
  {
   "cell_type": "code",
   "execution_count": 35,
   "metadata": {},
   "outputs": [
    {
     "data": {
      "text/plain": [
       "(100,)"
      ]
     },
     "execution_count": 35,
     "metadata": {},
     "output_type": "execute_result"
    }
   ],
   "source": [
    "final_forecast.shape"
   ]
  },
  {
   "cell_type": "code",
   "execution_count": 36,
   "metadata": {},
   "outputs": [
    {
     "data": {
      "text/plain": [
       "(100,)"
      ]
     },
     "execution_count": 36,
     "metadata": {},
     "output_type": "execute_result"
    }
   ],
   "source": [
    "test.shape"
   ]
  },
  {
   "cell_type": "code",
   "execution_count": 37,
   "metadata": {},
   "outputs": [
    {
     "name": "stdout",
     "output_type": "stream",
     "text": [
      "30.78725738605847\n",
      "23.671481974173506\n"
     ]
    }
   ],
   "source": [
    "import math\n",
    "MSE = np.square(np.subtract(np.array(test),np.array(final_forecast))).mean()   \n",
    "rsme = math.sqrt(MSE)\n",
    "print(rsme)  \n",
    "MAE = np.abs(np.subtract(np.array(test),np.array(final_forecast))).mean()   \n",
    "mae = MAE\n",
    "print(mae)"
   ]
  }
 ],
 "metadata": {
  "colab": {
   "provenance": []
  },
  "kernelspec": {
   "display_name": "Python 3",
   "language": "python",
   "name": "python3"
  },
  "language_info": {
   "codemirror_mode": {
    "name": "ipython",
    "version": 3
   },
   "file_extension": ".py",
   "mimetype": "text/x-python",
   "name": "python",
   "nbconvert_exporter": "python",
   "pygments_lexer": "ipython3",
   "version": "3.9.13"
  }
 },
 "nbformat": 4,
 "nbformat_minor": 0
}
