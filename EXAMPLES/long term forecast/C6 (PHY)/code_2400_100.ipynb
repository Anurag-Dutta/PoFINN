{
 "cells": [
  {
   "cell_type": "markdown",
   "metadata": {
    "id": "pCGKeZ2gyuoQ"
   },
   "source": [
    "_Importing Required Libraries_"
   ]
  },
  {
   "cell_type": "code",
   "execution_count": 1,
   "metadata": {
    "colab": {
     "base_uri": "https://localhost:8080/"
    },
    "id": "A-6LN-zXiLcM",
    "outputId": "4de610a4-f8b8-4f49-c6c0-89de299ccedc"
   },
   "outputs": [
    {
     "name": "stdout",
     "output_type": "stream",
     "text": [
      "Requirement already satisfied: hampel in c:\\users\\anurag dutta\\appdata\\local\\packages\\pythonsoftwarefoundation.python.3.9_qbz5n2kfra8p0\\localcache\\local-packages\\python39\\site-packages (0.0.5)\n",
      "Requirement already satisfied: numpy in c:\\users\\anurag dutta\\appdata\\local\\packages\\pythonsoftwarefoundation.python.3.9_qbz5n2kfra8p0\\localcache\\local-packages\\python39\\site-packages (from hampel) (1.26.4)\n",
      "Requirement already satisfied: pandas in c:\\users\\anurag dutta\\appdata\\local\\packages\\pythonsoftwarefoundation.python.3.9_qbz5n2kfra8p0\\localcache\\local-packages\\python39\\site-packages (from hampel) (1.5.2)\n",
      "Requirement already satisfied: python-dateutil>=2.8.1 in c:\\users\\anurag dutta\\appdata\\local\\packages\\pythonsoftwarefoundation.python.3.9_qbz5n2kfra8p0\\localcache\\local-packages\\python39\\site-packages (from pandas->hampel) (2.8.2)\n",
      "Requirement already satisfied: pytz>=2020.1 in c:\\users\\anurag dutta\\appdata\\local\\packages\\pythonsoftwarefoundation.python.3.9_qbz5n2kfra8p0\\localcache\\local-packages\\python39\\site-packages (from pandas->hampel) (2023.3.post1)\n",
      "Requirement already satisfied: six>=1.5 in c:\\users\\anurag dutta\\appdata\\local\\packages\\pythonsoftwarefoundation.python.3.9_qbz5n2kfra8p0\\localcache\\local-packages\\python39\\site-packages (from python-dateutil>=2.8.1->pandas->hampel) (1.16.0)\n",
      "Note: you may need to restart the kernel to use updated packages.\n"
     ]
    },
    {
     "name": "stderr",
     "output_type": "stream",
     "text": [
      "\n",
      "[notice] A new release of pip is available: 24.2 -> 24.3.1\n",
      "[notice] To update, run: C:\\Users\\Anurag Dutta\\AppData\\Local\\Microsoft\\WindowsApps\\PythonSoftwareFoundation.Python.3.9_qbz5n2kfra8p0\\python.exe -m pip install --upgrade pip\n"
     ]
    }
   ],
   "source": [
    "pip install hampel"
   ]
  },
  {
   "cell_type": "code",
   "execution_count": 2,
   "metadata": {
    "id": "By_d9uXpaFvZ"
   },
   "outputs": [],
   "source": [
    "from keras.models import Sequential\n",
    "from keras.layers import Dense\n",
    "from keras.layers import LSTM\n",
    "from keras.layers import Dropout\n",
    "import keras\n",
    "import tensorflow as tf\n",
    "from hampel import hampel\n",
    "import numpy as np\n",
    "import matplotlib.pyplot as plt\n",
    "import pandas as pd\n",
    "from sklearn.preprocessing import MinMaxScaler\n",
    "from sklearn.metrics import mean_squared_error, mean_absolute_error\n",
    "from math import sqrt\n",
    "from matplotlib import pyplot\n",
    "from numpy import array"
   ]
  },
  {
   "cell_type": "markdown",
   "metadata": {
    "id": "JyOjBMFayuoR"
   },
   "source": [
    "## Pretraining"
   ]
  },
  {
   "cell_type": "markdown",
   "metadata": {
    "id": "-5QqIY_GyuoR"
   },
   "source": [
    "The `capa_intermittency.dat` feeds the model with the dynamics of the Capacitor"
   ]
  },
  {
   "cell_type": "code",
   "execution_count": 3,
   "metadata": {
    "id": "9dV4a8yfyuoR"
   },
   "outputs": [],
   "source": [
    "data = np.genfromtxt('capa_intermittency.dat')\n",
    "training_set = pd.DataFrame(data).reset_index(drop=True)\n",
    "training_set = training_set.iloc[:,0]"
   ]
  },
  {
   "cell_type": "markdown",
   "metadata": {
    "id": "i7easoxByuoR"
   },
   "source": [
    "## Computing the Gradient"
   ]
  },
  {
   "cell_type": "markdown",
   "metadata": {
    "id": "5SnyolJTyuoR"
   },
   "source": [
    "_Calculating the value of_ $\\frac{dx}{dt}$"
   ]
  },
  {
   "cell_type": "code",
   "execution_count": 4,
   "metadata": {
    "colab": {
     "base_uri": "https://localhost:8080/"
    },
    "id": "wmIbVfIvyuoR",
    "outputId": "aa4e3136-c854-465d-d2e9-81cfd546e440"
   },
   "outputs": [
    {
     "name": "stdout",
     "output_type": "stream",
     "text": [
      "1.0\n",
      "1        0.000298\n",
      "2        0.000298\n",
      "3        0.000297\n",
      "4        0.000297\n",
      "5        0.000297\n",
      "           ...   \n",
      "9996     0.000018\n",
      "9997     0.000018\n",
      "9998     0.000018\n",
      "9999     0.000018\n",
      "10000    0.000018\n",
      "Name: 0, Length: 10000, dtype: float64\n"
     ]
    }
   ],
   "source": [
    "t_diff = 1\n",
    "print(training_set.max())\n",
    "gradient_t = (training_set.diff()/t_diff).iloc[1:] # dx/dt\n",
    "print(gradient_t)"
   ]
  },
  {
   "cell_type": "markdown",
   "metadata": {
    "id": "_2eVeeoxyuoS"
   },
   "source": [
    "## Loading Datasets"
   ]
  },
  {
   "cell_type": "code",
   "execution_count": null,
   "metadata": {
    "id": "0J-NKyIEyuoS"
   },
   "outputs": [
    {
     "data": {
      "text/plain": [
       "0       84.600000\n",
       "1       84.431933\n",
       "2       84.263866\n",
       "3       84.095798\n",
       "4       83.927731\n",
       "          ...    \n",
       "2495    45.239352\n",
       "2496    45.229514\n",
       "2497    45.219676\n",
       "2498    45.209838\n",
       "2499    45.200000\n",
       "Name: C6, Length: 2500, dtype: float64"
      ]
     },
     "execution_count": 5,
     "metadata": {},
     "output_type": "execute_result"
    }
   ],
   "source": [
    "data = pd.read_csv(\"c6_interpolated_2400_100.csv\")\n",
    "training_set = data.iloc[:, 1]\n",
    "training_set"
   ]
  },
  {
   "cell_type": "code",
   "execution_count": 6,
   "metadata": {
    "colab": {
     "base_uri": "https://localhost:8080/"
    },
    "id": "-CbNUhJ74UqF",
    "outputId": "20f562d8-8247-49cc-b9c3-00eca5e13e2d"
   },
   "outputs": [
    {
     "data": {
      "text/plain": [
       "0       84.600000\n",
       "1       84.431933\n",
       "2       84.263866\n",
       "3       84.095798\n",
       "4       83.927731\n",
       "          ...    \n",
       "2395     0.208332\n",
       "2396     0.000000\n",
       "2397     0.125489\n",
       "2398     0.000000\n",
       "2399     0.068872\n",
       "Name: C6, Length: 2400, dtype: float64"
      ]
     },
     "execution_count": 6,
     "metadata": {},
     "output_type": "execute_result"
    }
   ],
   "source": [
    "test = training_set.tail(100)\n",
    "test\n",
    "training_set = training_set.head(2400)\n",
    "training_set"
   ]
  },
  {
   "cell_type": "code",
   "execution_count": 7,
   "metadata": {
    "colab": {
     "base_uri": "https://localhost:8080/"
    },
    "id": "X0TwTcq0yuoS",
    "outputId": "37252ed8-d88e-4044-fa7a-922411990b5b"
   },
   "outputs": [
    {
     "name": "stdout",
     "output_type": "stream",
     "text": [
      "0       0.000298\n",
      "1       0.000298\n",
      "2       0.000297\n",
      "3       0.000297\n",
      "4       0.000297\n",
      "          ...   \n",
      "9995    0.000018\n",
      "9996    0.000018\n",
      "9997    0.000018\n",
      "9998    0.000018\n",
      "9999    0.000018\n",
      "Name: 0, Length: 10000, dtype: float64\n"
     ]
    }
   ],
   "source": [
    "training_set = training_set.reset_index(drop=True)\n",
    "gradient_t = gradient_t.reset_index(drop=True)\n",
    "print(gradient_t)"
   ]
  },
  {
   "cell_type": "code",
   "execution_count": 8,
   "metadata": {
    "id": "O2biznZQyuoS"
   },
   "outputs": [],
   "source": [
    "df = pd.concat((training_set, gradient_t), axis=1)\n",
    "df.columns = ['y_t', 'grad_t']"
   ]
  },
  {
   "cell_type": "code",
   "execution_count": 9,
   "metadata": {
    "colab": {
     "base_uri": "https://localhost:8080/",
     "height": 423
    },
    "id": "sk_a5v3tyuoS",
    "outputId": "17563625-e550-45ae-faab-fafa353e44da"
   },
   "outputs": [
    {
     "data": {
      "text/html": [
       "<div>\n",
       "<style scoped>\n",
       "    .dataframe tbody tr th:only-of-type {\n",
       "        vertical-align: middle;\n",
       "    }\n",
       "\n",
       "    .dataframe tbody tr th {\n",
       "        vertical-align: top;\n",
       "    }\n",
       "\n",
       "    .dataframe thead th {\n",
       "        text-align: right;\n",
       "    }\n",
       "</style>\n",
       "<table border=\"1\" class=\"dataframe\">\n",
       "  <thead>\n",
       "    <tr style=\"text-align: right;\">\n",
       "      <th></th>\n",
       "      <th>y_t</th>\n",
       "      <th>grad_t</th>\n",
       "    </tr>\n",
       "  </thead>\n",
       "  <tbody>\n",
       "    <tr>\n",
       "      <th>0</th>\n",
       "      <td>84.600000</td>\n",
       "      <td>0.000298</td>\n",
       "    </tr>\n",
       "    <tr>\n",
       "      <th>1</th>\n",
       "      <td>84.431933</td>\n",
       "      <td>0.000298</td>\n",
       "    </tr>\n",
       "    <tr>\n",
       "      <th>2</th>\n",
       "      <td>84.263866</td>\n",
       "      <td>0.000297</td>\n",
       "    </tr>\n",
       "    <tr>\n",
       "      <th>3</th>\n",
       "      <td>84.095798</td>\n",
       "      <td>0.000297</td>\n",
       "    </tr>\n",
       "    <tr>\n",
       "      <th>4</th>\n",
       "      <td>83.927731</td>\n",
       "      <td>0.000297</td>\n",
       "    </tr>\n",
       "    <tr>\n",
       "      <th>...</th>\n",
       "      <td>...</td>\n",
       "      <td>...</td>\n",
       "    </tr>\n",
       "    <tr>\n",
       "      <th>9995</th>\n",
       "      <td>NaN</td>\n",
       "      <td>0.000018</td>\n",
       "    </tr>\n",
       "    <tr>\n",
       "      <th>9996</th>\n",
       "      <td>NaN</td>\n",
       "      <td>0.000018</td>\n",
       "    </tr>\n",
       "    <tr>\n",
       "      <th>9997</th>\n",
       "      <td>NaN</td>\n",
       "      <td>0.000018</td>\n",
       "    </tr>\n",
       "    <tr>\n",
       "      <th>9998</th>\n",
       "      <td>NaN</td>\n",
       "      <td>0.000018</td>\n",
       "    </tr>\n",
       "    <tr>\n",
       "      <th>9999</th>\n",
       "      <td>NaN</td>\n",
       "      <td>0.000018</td>\n",
       "    </tr>\n",
       "  </tbody>\n",
       "</table>\n",
       "<p>10000 rows × 2 columns</p>\n",
       "</div>"
      ],
      "text/plain": [
       "            y_t    grad_t\n",
       "0     84.600000  0.000298\n",
       "1     84.431933  0.000298\n",
       "2     84.263866  0.000297\n",
       "3     84.095798  0.000297\n",
       "4     83.927731  0.000297\n",
       "...         ...       ...\n",
       "9995        NaN  0.000018\n",
       "9996        NaN  0.000018\n",
       "9997        NaN  0.000018\n",
       "9998        NaN  0.000018\n",
       "9999        NaN  0.000018\n",
       "\n",
       "[10000 rows x 2 columns]"
      ]
     },
     "execution_count": 9,
     "metadata": {},
     "output_type": "execute_result"
    }
   ],
   "source": [
    "df"
   ]
  },
  {
   "cell_type": "markdown",
   "metadata": {
    "id": "-5esyHu5aFvg"
   },
   "source": [
    "## Plot of the External Forcing from Chaotic Differential Equation"
   ]
  },
  {
   "cell_type": "code",
   "execution_count": 10,
   "metadata": {
    "colab": {
     "base_uri": "https://localhost:8080/",
     "height": 447
    },
    "id": "hGnE43tOh-4p",
    "outputId": "fc396503-b624-4fa5-dfbe-f460207405c6"
   },
   "outputs": [
    {
     "data": {
      "text/plain": [
       "<Axes: >"
      ]
     },
     "execution_count": 10,
     "metadata": {},
     "output_type": "execute_result"
    },
    {
     "data": {
      "image/png": "[encoded data removed]",
      "text/plain": [
       "<Figure size 432x288 with 1 Axes>"
      ]
     },
     "metadata": {
      "needs_background": "light"
     },
     "output_type": "display_data"
    }
   ],
   "source": [
    "df.iloc[:, 0].plot()"
   ]
  },
  {
   "cell_type": "code",
   "execution_count": 11,
   "metadata": {
    "colab": {
     "base_uri": "https://localhost:8080/",
     "height": 447
    },
    "id": "ym4xWUUxaFvg",
    "outputId": "ae6a3495-8ce9-437e-ba81-3ed31deedeae"
   },
   "outputs": [
    {
     "name": "stderr",
     "output_type": "stream",
     "text": [
      "C:\\Users\\Anurag Dutta\\AppData\\Local\\Packages\\PythonSoftwareFoundation.Python.3.9_qbz5n2kfra8p0\\LocalCache\\local-packages\\Python39\\site-packages\\pandas\\core\\arraylike.py:402: RuntimeWarning: divide by zero encountered in log\n",
      "  result = getattr(ufunc, method)(*inputs, **kwargs)\n"
     ]
    },
    {
     "data": {
      "text/plain": [
       "<Axes: >"
      ]
     },
     "execution_count": 11,
     "metadata": {},
     "output_type": "execute_result"
    },
    {
     "data": {
      "image/png": "[encoded data removed]",
      "text/plain": [
       "<Figure size 432x288 with 1 Axes>"
      ]
     },
     "metadata": {
      "needs_background": "light"
     },
     "output_type": "display_data"
    }
   ],
   "source": [
    "import numpy as np\n",
    "c0 = 82.7524  # Value for C0\n",
    "K0 = -0.0031  # Value for K0\n",
    "K1 = -0.0003  # Value for K1\n",
    "a = 0.0000    # Value for a\n",
    "b = 0.0171    # Value for b\n",
    "c = 3.0230    # Value for c\n",
    "\n",
    "L = np.minimum(c0, (df.iloc[:, 1] - (df.iloc[:, 0] * (K0 - K1 * (9 * a * np.log(df.iloc[:, 0] / c0) / (K0 - K1 * c)**2 + 4 * b * np.log(df.iloc[:, 0] / c0) / (K0 - K1 * c) + c)))))\n",
    "L.plot()"
   ]
  },
  {
   "cell_type": "markdown",
   "metadata": {
    "id": "9VyEywnwaFvh"
   },
   "source": [
    "## Preprocessing the data into supervised learning"
   ]
  },
  {
   "cell_type": "code",
   "execution_count": 12,
   "metadata": {
    "id": "6V9dXqzdaFvh"
   },
   "outputs": [],
   "source": [
    "# split a sequence into samples\n",
    "def Supervised(data, n_in=1, n_out=1, dropnan=True):\n",
    "    n_vars = 1 if type(data) is list else data.shape[1]\n",
    "    df = pd.DataFrame(data)\n",
    "    cols, names = list(), list()\n",
    "    # input sequence (t-n_in, ... t-1)\n",
    "    for i in range(n_in, 0, -1):\n",
    "        cols.append(df.shift(i))\n",
    "        names += [('var%d(t-%d)' % (j+1, i)) for j in range(n_vars)]\n",
    "    # forecast sequence (t, t+1, ... t+n_out)\n",
    "    for i in range(0, n_out):\n",
    "      cols.append(df.shift(-i))\n",
    "      if i == 0:\n",
    "        names += [('var%d(t)' % (j+1)) for j in range(n_vars)]\n",
    "      else:\n",
    "        names += [('var%d(t+%d)' % (j+1, i)) for j in range(n_vars)]\n",
    "    # put it all together\n",
    "    agg = pd.concat(cols, axis=1)\n",
    "    agg.columns = names\n",
    "    # drop rows with NaN values\n",
    "    if dropnan:\n",
    "       agg.dropna(inplace=True)\n",
    "    return agg"
   ]
  },
  {
   "cell_type": "code",
   "execution_count": 13,
   "metadata": {
    "colab": {
     "base_uri": "https://localhost:8080/"
    },
    "id": "CrzSrT1HnyfH",
    "outputId": "7e75f928-3e47-499d-eac1-51908015ef78"
   },
   "outputs": [
    {
     "name": "stdout",
     "output_type": "stream",
     "text": [
      "     var1(t-350)  var1(t-349)  var1(t-348)  var1(t-347)  var1(t-346)  \\\n",
      "350    84.600000    84.431933    84.263866    84.095798    83.927731   \n",
      "351    84.431933    84.263866    84.095798    83.927731    83.759664   \n",
      "352    84.263866    84.095798    83.927731    83.759664    83.591597   \n",
      "353    84.095798    83.927731    83.759664    83.591597    83.423529   \n",
      "354    83.927731    83.759664    83.591597    83.423529    83.255462   \n",
      "\n",
      "     var1(t-345)  var1(t-344)  var1(t-343)  var1(t-342)  var1(t-341)  ...  \\\n",
      "350    83.759664    83.591597    83.423529    83.255462    83.092437  ...   \n",
      "351    83.591597    83.423529    83.255462    83.092437    82.991597  ...   \n",
      "352    83.423529    83.255462    83.092437    82.991597    82.890756  ...   \n",
      "353    83.255462    83.092437    82.991597    82.890756    82.789916  ...   \n",
      "354    83.092437    82.991597    82.890756    82.789916    82.689076  ...   \n",
      "\n",
      "     var1(t+95)  var2(t+95)  var1(t+96)  var2(t+96)  var1(t+97)  var2(t+97)  \\\n",
      "350   70.003688    0.000263   69.960738    0.000263   69.917787    0.000263   \n",
      "351   69.960738    0.000263   69.917787    0.000263   69.874837    0.000262   \n",
      "352   69.917787    0.000263   69.874837    0.000262   69.831886    0.000262   \n",
      "353   69.874837    0.000262   69.831886    0.000262   69.788936    0.000262   \n",
      "354   69.831886    0.000262   69.788936    0.000262   69.745985    0.000262   \n",
      "\n",
      "     var1(t+98)  var2(t+98)  var1(t+99)  var2(t+99)  \n",
      "350   69.874837    0.000262   69.831886    0.000262  \n",
      "351   69.831886    0.000262   69.788936    0.000262  \n",
      "352   69.788936    0.000262   69.745985    0.000262  \n",
      "353   69.745985    0.000262   69.703035    0.000262  \n",
      "354   69.703035    0.000262   69.660084    0.000262  \n",
      "\n",
      "[5 rows x 551 columns]\n",
      "Index(['var1(t-350)', 'var1(t-349)', 'var1(t-348)', 'var1(t-347)',\n",
      "       'var1(t-346)', 'var1(t-345)', 'var1(t-344)', 'var1(t-343)',\n",
      "       'var1(t-342)', 'var1(t-341)',\n",
      "       ...\n",
      "       'var1(t+95)', 'var2(t+95)', 'var1(t+96)', 'var2(t+96)', 'var1(t+97)',\n",
      "       'var2(t+97)', 'var1(t+98)', 'var2(t+98)', 'var1(t+99)', 'var2(t+99)'],\n",
      "      dtype='object', length=551)\n"
     ]
    }
   ],
   "source": [
    "data = Supervised(df.values, n_in = 350, n_out = 100)\n",
    "\n",
    "\n",
    "cols_to_drop = []\n",
    "for i in range(2, 351):\n",
    "    cols_to_drop.extend([f'var2(t-{i})'])\n",
    "\n",
    "data.drop(cols_to_drop, axis=1, inplace=True)\n",
    "\n",
    "print(data.head())\n",
    "print(data.columns)"
   ]
  },
  {
   "cell_type": "code",
   "execution_count": 14,
   "metadata": {
    "id": "AfPf60oy6Pe4"
   },
   "outputs": [],
   "source": [
    "train = np.array(data[0:len(data)-1])\n",
    "forecast = np.array(data.tail(1))"
   ]
  },
  {
   "cell_type": "code",
   "execution_count": 15,
   "metadata": {
    "id": "WSAafzI37KiT"
   },
   "outputs": [],
   "source": [
    "trainy = train[:,-300:]\n",
    "trainX = train[:,:-300]"
   ]
  },
  {
   "cell_type": "code",
   "execution_count": 16,
   "metadata": {
    "id": "2SrOqVJA7f50"
   },
   "outputs": [],
   "source": [
    "forecasty = forecast[:,-300:]\n",
    "forecastX = forecast[:,:-300]"
   ]
  },
  {
   "cell_type": "code",
   "execution_count": 17,
   "metadata": {
    "colab": {
     "base_uri": "https://localhost:8080/"
    },
    "id": "Qno_k8Nw7saY",
    "outputId": "c4a88db5-d8c6-489f-cdb2-06b24e293cff"
   },
   "outputs": [
    {
     "name": "stdout",
     "output_type": "stream",
     "text": [
      "(1950, 1, 251) (1950, 300) (1, 1, 251)\n"
     ]
    }
   ],
   "source": [
    "trainX = trainX.reshape((trainX.shape[0], 1, trainX.shape[1]))\n",
    "forecastX = forecastX.reshape((forecastX.shape[0], 1, forecastX.shape[1]))\n",
    "print(trainX.shape, trainy.shape, forecastX.shape)"
   ]
  },
  {
   "cell_type": "code",
   "execution_count": 18,
   "metadata": {
    "colab": {
     "base_uri": "https://localhost:8080/"
    },
    "id": "b1Jp2DvNuNFx",
    "outputId": "d0e5b3c4-64f1-438c-eade-8dfeaac8e285"
   },
   "outputs": [
    {
     "name": "stdout",
     "output_type": "stream",
     "text": [
      "Epoch 1/500\n",
      "25/25 [==============================] - 3s 29ms/step - loss: 3614.4070 - val_loss: 2019.4213\n",
      "Epoch 2/500\n",
      "25/25 [==============================] - 0s 5ms/step - loss: 3355.2456 - val_loss: 1894.1211\n",
      "Epoch 3/500\n",
      "25/25 [==============================] - 0s 4ms/step - loss: 3242.6035 - val_loss: 1830.6848\n",
      "Epoch 4/500\n",
      "25/25 [==============================] - 0s 4ms/step - loss: 3146.6794 - val_loss: 1773.4261\n",
      "Epoch 5/500\n",
      "25/25 [==============================] - 0s 5ms/step - loss: 3049.9714 - val_loss: 1719.6010\n",
      "Epoch 6/500\n",
      "25/25 [==============================] - 0s 4ms/step - loss: 2964.9324 - val_loss: 1671.5311\n",
      "Epoch 7/500\n",
      "25/25 [==============================] - 0s 4ms/step - loss: 2883.5146 - val_loss: 1625.6338\n",
      "Epoch 8/500\n",
      "25/25 [==============================] - 0s 4ms/step - loss: 2804.9033 - val_loss: 1581.6277\n",
      "Epoch 9/500\n",
      "25/25 [==============================] - 0s 11ms/step - loss: 2728.6487 - val_loss: 1539.3124\n",
      "Epoch 10/500\n",
      "25/25 [==============================] - 0s 5ms/step - loss: 2654.4951 - val_loss: 1498.5616\n",
      "Epoch 11/500\n",
      "25/25 [==============================] - 0s 5ms/step - loss: 2582.2810 - val_loss: 1459.2877\n",
      "Epoch 12/500\n",
      "25/25 [==============================] - 0s 5ms/step - loss: 2511.8916 - val_loss: 1421.4232\n",
      "Epoch 13/500\n",
      "25/25 [==============================] - 0s 6ms/step - loss: 2443.2395 - val_loss: 1384.9138\n",
      "Epoch 14/500\n",
      "25/25 [==============================] - 0s 6ms/step - loss: 2376.2581 - val_loss: 1349.7145\n",
      "Epoch 15/500\n",
      "25/25 [==============================] - 0s 5ms/step - loss: 2310.8896 - val_loss: 1315.7855\n",
      "Epoch 16/500\n",
      "25/25 [==============================] - 0s 6ms/step - loss: 2247.0859 - val_loss: 1283.0916\n",
      "Epoch 17/500\n",
      "25/25 [==============================] - 0s 8ms/step - loss: 2184.8044 - val_loss: 1251.6002\n",
      "Epoch 18/500\n",
      "25/25 [==============================] - 0s 9ms/step - loss: 2124.0078 - val_loss: 1221.2820\n",
      "Epoch 19/500\n",
      "25/25 [==============================] - 0s 7ms/step - loss: 2064.6606 - val_loss: 1192.1093\n",
      "Epoch 20/500\n",
      "25/25 [==============================] - 0s 15ms/step - loss: 2006.7303 - val_loss: 1164.0580\n",
      "Epoch 21/500\n",
      "25/25 [==============================] - 0s 11ms/step - loss: 1950.1866 - val_loss: 1137.1205\n",
      "Epoch 22/500\n",
      "25/25 [==============================] - 0s 7ms/step - loss: 1895.0017 - val_loss: 1111.4852\n",
      "Epoch 23/500\n",
      "25/25 [==============================] - 0s 6ms/step - loss: 1841.6189 - val_loss: 1086.5822\n",
      "Epoch 24/500\n",
      "25/25 [==============================] - 0s 6ms/step - loss: 1788.6107 - val_loss: 1062.7744\n",
      "Epoch 25/500\n",
      "25/25 [==============================] - 0s 5ms/step - loss: 1737.3433 - val_loss: 1039.9661\n",
      "Epoch 26/500\n",
      "25/25 [==============================] - 0s 5ms/step - loss: 1687.3319 - val_loss: 1018.1357\n",
      "Epoch 27/500\n",
      "25/25 [==============================] - 0s 5ms/step - loss: 1638.5535 - val_loss: 997.2618\n",
      "Epoch 28/500\n",
      "25/25 [==============================] - 0s 5ms/step - loss: 1590.9857 - val_loss: 977.3235\n",
      "Epoch 29/500\n",
      "25/25 [==============================] - 0s 5ms/step - loss: 1544.6062 - val_loss: 958.3007\n",
      "Epoch 30/500\n",
      "25/25 [==============================] - 0s 5ms/step - loss: 1499.3926 - val_loss: 940.1724\n",
      "Epoch 31/500\n",
      "25/25 [==============================] - 0s 5ms/step - loss: 1455.3245 - val_loss: 922.9191\n",
      "Epoch 32/500\n",
      "25/25 [==============================] - 0s 6ms/step - loss: 1412.3810 - val_loss: 906.5211\n",
      "Epoch 33/500\n",
      "25/25 [==============================] - 0s 10ms/step - loss: 1370.5410 - val_loss: 890.9590\n",
      "Epoch 34/500\n",
      "25/25 [==============================] - 0s 10ms/step - loss: 1329.7849 - val_loss: 876.2138\n",
      "Epoch 35/500\n",
      "25/25 [==============================] - 0s 9ms/step - loss: 1290.0929 - val_loss: 862.2667\n",
      "Epoch 36/500\n",
      "25/25 [==============================] - 0s 7ms/step - loss: 1251.4457 - val_loss: 849.0988\n",
      "Epoch 37/500\n",
      "25/25 [==============================] - 0s 7ms/step - loss: 1213.8239 - val_loss: 836.6918\n",
      "Epoch 38/500\n",
      "25/25 [==============================] - 0s 6ms/step - loss: 1177.2084 - val_loss: 825.0276\n",
      "Epoch 39/500\n",
      "25/25 [==============================] - 0s 7ms/step - loss: 1141.5811 - val_loss: 814.0878\n",
      "Epoch 40/500\n",
      "25/25 [==============================] - 0s 6ms/step - loss: 1106.9226 - val_loss: 803.8550\n",
      "Epoch 41/500\n",
      "25/25 [==============================] - 0s 6ms/step - loss: 1073.2158 - val_loss: 794.3115\n",
      "Epoch 42/500\n",
      "25/25 [==============================] - 0s 6ms/step - loss: 1040.4421 - val_loss: 785.4396\n",
      "Epoch 43/500\n",
      "25/25 [==============================] - 0s 6ms/step - loss: 1008.5840 - val_loss: 777.2220\n",
      "Epoch 44/500\n",
      "25/25 [==============================] - 0s 12ms/step - loss: 977.6238 - val_loss: 769.6421\n",
      "Epoch 45/500\n",
      "25/25 [==============================] - 0s 7ms/step - loss: 947.5441 - val_loss: 762.6823\n",
      "Epoch 46/500\n",
      "25/25 [==============================] - 0s 6ms/step - loss: 918.3282 - val_loss: 756.3260\n",
      "Epoch 47/500\n",
      "25/25 [==============================] - 0s 6ms/step - loss: 889.9586 - val_loss: 750.5566\n",
      "Epoch 48/500\n",
      "25/25 [==============================] - 0s 11ms/step - loss: 862.4185 - val_loss: 745.3578\n",
      "Epoch 49/500\n",
      "25/25 [==============================] - 0s 6ms/step - loss: 835.6916 - val_loss: 740.7130\n",
      "Epoch 50/500\n",
      "25/25 [==============================] - 0s 6ms/step - loss: 809.7613 - val_loss: 736.6061\n",
      "Epoch 51/500\n",
      "25/25 [==============================] - 0s 5ms/step - loss: 784.6111 - val_loss: 733.0212\n",
      "Epoch 52/500\n",
      "25/25 [==============================] - 0s 5ms/step - loss: 760.2255 - val_loss: 729.9423\n",
      "Epoch 53/500\n",
      "25/25 [==============================] - 0s 5ms/step - loss: 736.5881 - val_loss: 727.3538\n",
      "Epoch 54/500\n",
      "25/25 [==============================] - 0s 5ms/step - loss: 713.6830 - val_loss: 725.2403\n",
      "Epoch 55/500\n",
      "25/25 [==============================] - 0s 5ms/step - loss: 691.4951 - val_loss: 723.5860\n",
      "Epoch 56/500\n",
      "25/25 [==============================] - 0s 5ms/step - loss: 670.0084 - val_loss: 722.3760\n",
      "Epoch 57/500\n",
      "25/25 [==============================] - 0s 5ms/step - loss: 649.2077 - val_loss: 721.5950\n",
      "Epoch 58/500\n",
      "25/25 [==============================] - 0s 5ms/step - loss: 629.0781 - val_loss: 721.2281\n",
      "Epoch 59/500\n",
      "25/25 [==============================] - 0s 5ms/step - loss: 609.6045 - val_loss: 721.2607\n",
      "Epoch 60/500\n",
      "25/25 [==============================] - 0s 5ms/step - loss: 590.7721 - val_loss: 721.6780\n",
      "Epoch 61/500\n",
      "25/25 [==============================] - 0s 5ms/step - loss: 572.5659 - val_loss: 722.4656\n",
      "Epoch 62/500\n",
      "25/25 [==============================] - 0s 5ms/step - loss: 554.9717 - val_loss: 723.6091\n",
      "Epoch 63/500\n",
      "25/25 [==============================] - 0s 5ms/step - loss: 537.9751 - val_loss: 725.0947\n",
      "Epoch 64/500\n",
      "25/25 [==============================] - 0s 5ms/step - loss: 521.5619 - val_loss: 726.9080\n",
      "Epoch 65/500\n",
      "25/25 [==============================] - 0s 6ms/step - loss: 505.7180 - val_loss: 729.0356\n",
      "Epoch 66/500\n",
      "25/25 [==============================] - 0s 6ms/step - loss: 490.4293 - val_loss: 731.4637\n",
      "Epoch 67/500\n",
      "25/25 [==============================] - 0s 6ms/step - loss: 475.6824 - val_loss: 734.1786\n",
      "Epoch 68/500\n",
      "25/25 [==============================] - 0s 5ms/step - loss: 461.4635 - val_loss: 737.1675\n",
      "Epoch 69/500\n",
      "25/25 [==============================] - 0s 5ms/step - loss: 447.7591 - val_loss: 740.4169\n",
      "Epoch 70/500\n",
      "25/25 [==============================] - 0s 5ms/step - loss: 434.5561 - val_loss: 743.9139\n",
      "Epoch 71/500\n",
      "25/25 [==============================] - 0s 5ms/step - loss: 421.8413 - val_loss: 747.6462\n",
      "Epoch 72/500\n",
      "25/25 [==============================] - 0s 5ms/step - loss: 409.6018 - val_loss: 751.6009\n",
      "Epoch 73/500\n",
      "25/25 [==============================] - 0s 5ms/step - loss: 397.8248 - val_loss: 755.7656\n",
      "Epoch 74/500\n",
      "25/25 [==============================] - 0s 5ms/step - loss: 386.4977 - val_loss: 760.1283\n",
      "Epoch 75/500\n",
      "25/25 [==============================] - 0s 5ms/step - loss: 375.6080 - val_loss: 764.6770\n",
      "Epoch 76/500\n",
      "25/25 [==============================] - 0s 5ms/step - loss: 365.1433 - val_loss: 769.4001\n",
      "Epoch 77/500\n",
      "25/25 [==============================] - 0s 5ms/step - loss: 355.0916 - val_loss: 774.2861\n",
      "Epoch 78/500\n",
      "25/25 [==============================] - 0s 5ms/step - loss: 345.4411 - val_loss: 779.3279\n",
      "Epoch 79/500\n",
      "25/25 [==============================] - 0s 11ms/step - loss: 336.1783 - val_loss: 784.4848\n",
      "Epoch 80/500\n",
      "25/25 [==============================] - 0s 11ms/step - loss: 327.2961 - val_loss: 789.7909\n",
      "Epoch 81/500\n",
      "25/25 [==============================] - 0s 7ms/step - loss: 318.7787 - val_loss: 795.2157\n",
      "Epoch 82/500\n",
      "25/25 [==============================] - 0s 5ms/step - loss: 310.6164 - val_loss: 800.7489\n",
      "Epoch 83/500\n",
      "25/25 [==============================] - 0s 5ms/step - loss: 302.7979 - val_loss: 806.3799\n",
      "Epoch 84/500\n",
      "25/25 [==============================] - 0s 5ms/step - loss: 295.3125 - val_loss: 812.0989\n",
      "Epoch 85/500\n",
      "25/25 [==============================] - 0s 5ms/step - loss: 288.1496 - val_loss: 817.8960\n",
      "Epoch 86/500\n",
      "25/25 [==============================] - 0s 6ms/step - loss: 281.2984 - val_loss: 823.7618\n",
      "Epoch 87/500\n",
      "25/25 [==============================] - 0s 5ms/step - loss: 274.7487 - val_loss: 829.6867\n",
      "Epoch 88/500\n",
      "25/25 [==============================] - 0s 5ms/step - loss: 268.4904 - val_loss: 835.6624\n",
      "Epoch 89/500\n",
      "25/25 [==============================] - 0s 5ms/step - loss: 262.5136 - val_loss: 841.6793\n",
      "Epoch 90/500\n",
      "25/25 [==============================] - 0s 5ms/step - loss: 256.8086 - val_loss: 847.7291\n",
      "Epoch 91/500\n",
      "25/25 [==============================] - 0s 5ms/step - loss: 251.3656 - val_loss: 853.8038\n",
      "Epoch 92/500\n",
      "25/25 [==============================] - 0s 5ms/step - loss: 246.1754 - val_loss: 859.8953\n",
      "Epoch 93/500\n",
      "25/25 [==============================] - 0s 6ms/step - loss: 241.2288 - val_loss: 865.9952\n",
      "Epoch 94/500\n",
      "25/25 [==============================] - 0s 5ms/step - loss: 236.5168 - val_loss: 872.0968\n",
      "Epoch 95/500\n",
      "25/25 [==============================] - 0s 5ms/step - loss: 232.0307 - val_loss: 878.1928\n",
      "Epoch 96/500\n",
      "25/25 [==============================] - 0s 5ms/step - loss: 227.7619 - val_loss: 884.2755\n",
      "Epoch 97/500\n",
      "25/25 [==============================] - 0s 5ms/step - loss: 223.7020 - val_loss: 890.3387\n",
      "Epoch 98/500\n",
      "25/25 [==============================] - 0s 5ms/step - loss: 219.8428 - val_loss: 896.3759\n",
      "Epoch 99/500\n",
      "25/25 [==============================] - 0s 7ms/step - loss: 216.1764 - val_loss: 902.3811\n",
      "Epoch 100/500\n",
      "25/25 [==============================] - 0s 7ms/step - loss: 212.6951 - val_loss: 908.3476\n",
      "Epoch 101/500\n",
      "25/25 [==============================] - 0s 6ms/step - loss: 209.3912 - val_loss: 914.2711\n",
      "Epoch 102/500\n",
      "25/25 [==============================] - 0s 5ms/step - loss: 206.2574 - val_loss: 920.1450\n",
      "Epoch 103/500\n",
      "25/25 [==============================] - 0s 5ms/step - loss: 203.2865 - val_loss: 925.9646\n",
      "Epoch 104/500\n",
      "25/25 [==============================] - 0s 5ms/step - loss: 200.4716 - val_loss: 931.7255\n",
      "Epoch 105/500\n",
      "25/25 [==============================] - 0s 5ms/step - loss: 197.8058 - val_loss: 937.4223\n",
      "Epoch 106/500\n",
      "25/25 [==============================] - 0s 5ms/step - loss: 195.2828 - val_loss: 943.0514\n",
      "Epoch 107/500\n",
      "25/25 [==============================] - 0s 5ms/step - loss: 192.8960 - val_loss: 948.6079\n",
      "Epoch 108/500\n",
      "25/25 [==============================] - 0s 5ms/step - loss: 190.6393 - val_loss: 954.0889\n",
      "Epoch 109/500\n",
      "25/25 [==============================] - 0s 12ms/step - loss: 188.5067 - val_loss: 959.4905\n",
      "Epoch 110/500\n",
      "25/25 [==============================] - 0s 8ms/step - loss: 186.4925 - val_loss: 964.8096\n",
      "Epoch 111/500\n",
      "25/25 [==============================] - 0s 8ms/step - loss: 184.5911 - val_loss: 970.0425\n",
      "Epoch 112/500\n",
      "25/25 [==============================] - 0s 8ms/step - loss: 182.7971 - val_loss: 975.1875\n",
      "Epoch 113/500\n",
      "25/25 [==============================] - 0s 7ms/step - loss: 181.1053 - val_loss: 980.2416\n",
      "Epoch 114/500\n",
      "25/25 [==============================] - 0s 7ms/step - loss: 179.5107 - val_loss: 985.2018\n",
      "Epoch 115/500\n",
      "25/25 [==============================] - 0s 6ms/step - loss: 178.0085 - val_loss: 990.0668\n",
      "Epoch 116/500\n",
      "25/25 [==============================] - 0s 9ms/step - loss: 176.5939 - val_loss: 994.8345\n",
      "Epoch 117/500\n",
      "25/25 [==============================] - 0s 16ms/step - loss: 175.2626 - val_loss: 999.5040\n",
      "Epoch 118/500\n",
      "25/25 [==============================] - 0s 7ms/step - loss: 174.0101 - val_loss: 1004.0726\n",
      "Epoch 119/500\n",
      "25/25 [==============================] - 0s 6ms/step - loss: 172.8326 - val_loss: 1008.5406\n",
      "Epoch 120/500\n",
      "25/25 [==============================] - 0s 6ms/step - loss: 171.7257 - val_loss: 1012.9058\n",
      "Epoch 121/500\n",
      "25/25 [==============================] - 0s 5ms/step - loss: 170.6860 - val_loss: 1017.1680\n",
      "Epoch 122/500\n",
      "25/25 [==============================] - 0s 5ms/step - loss: 169.7098 - val_loss: 1021.3264\n",
      "Epoch 123/500\n",
      "25/25 [==============================] - 0s 5ms/step - loss: 168.7934 - val_loss: 1025.3810\n",
      "Epoch 124/500\n",
      "25/25 [==============================] - 0s 6ms/step - loss: 167.9335 - val_loss: 1029.3318\n",
      "Epoch 125/500\n",
      "25/25 [==============================] - 0s 6ms/step - loss: 167.1272 - val_loss: 1033.1777\n",
      "Epoch 126/500\n",
      "25/25 [==============================] - 0s 5ms/step - loss: 166.3713 - val_loss: 1036.9194\n",
      "Epoch 127/500\n",
      "25/25 [==============================] - 0s 5ms/step - loss: 165.6629 - val_loss: 1040.5582\n",
      "Epoch 128/500\n",
      "25/25 [==============================] - 0s 6ms/step - loss: 164.9993 - val_loss: 1044.0934\n",
      "Epoch 129/500\n",
      "25/25 [==============================] - 0s 5ms/step - loss: 164.3778 - val_loss: 1047.5258\n",
      "Epoch 130/500\n",
      "25/25 [==============================] - 0s 5ms/step - loss: 163.7960 - val_loss: 1050.8561\n",
      "Epoch 131/500\n",
      "25/25 [==============================] - 0s 5ms/step - loss: 163.2516 - val_loss: 1054.0854\n",
      "Epoch 132/500\n",
      "25/25 [==============================] - 0s 5ms/step - loss: 162.7422 - val_loss: 1057.2147\n",
      "Epoch 133/500\n",
      "25/25 [==============================] - 0s 5ms/step - loss: 162.2658 - val_loss: 1060.2452\n",
      "Epoch 134/500\n",
      "25/25 [==============================] - 0s 4ms/step - loss: 161.8203 - val_loss: 1063.1779\n",
      "Epoch 135/500\n",
      "25/25 [==============================] - 0s 4ms/step - loss: 161.4038 - val_loss: 1066.0139\n",
      "Epoch 136/500\n",
      "25/25 [==============================] - 0s 4ms/step - loss: 161.0146 - val_loss: 1068.7556\n",
      "Epoch 137/500\n",
      "25/25 [==============================] - 0s 4ms/step - loss: 160.6509 - val_loss: 1071.4033\n",
      "Epoch 138/500\n",
      "25/25 [==============================] - 0s 4ms/step - loss: 160.3111 - val_loss: 1073.9591\n",
      "Epoch 139/500\n",
      "25/25 [==============================] - 0s 5ms/step - loss: 159.9938 - val_loss: 1076.4246\n",
      "Epoch 140/500\n",
      "25/25 [==============================] - 0s 5ms/step - loss: 159.6974 - val_loss: 1078.8020\n",
      "Epoch 141/500\n",
      "25/25 [==============================] - 0s 11ms/step - loss: 159.4206 - val_loss: 1081.0919\n",
      "Epoch 142/500\n",
      "25/25 [==============================] - 0s 5ms/step - loss: 159.1622 - val_loss: 1083.2975\n",
      "Epoch 143/500\n",
      "25/25 [==============================] - 0s 5ms/step - loss: 158.9210 - val_loss: 1085.4198\n",
      "Epoch 144/500\n",
      "25/25 [==============================] - 0s 5ms/step - loss: 158.6957 - val_loss: 1087.4607\n",
      "Epoch 145/500\n",
      "25/25 [==============================] - 0s 5ms/step - loss: 158.4856 - val_loss: 1089.4225\n",
      "Epoch 146/500\n",
      "25/25 [==============================] - 0s 6ms/step - loss: 158.2894 - val_loss: 1091.3073\n",
      "Epoch 147/500\n",
      "25/25 [==============================] - 0s 7ms/step - loss: 158.1062 - val_loss: 1093.1166\n",
      "Epoch 148/500\n",
      "25/25 [==============================] - 0s 10ms/step - loss: 157.9353 - val_loss: 1094.8525\n",
      "Epoch 149/500\n",
      "25/25 [==============================] - 0s 6ms/step - loss: 157.7758 - val_loss: 1096.5176\n",
      "Epoch 150/500\n",
      "25/25 [==============================] - 0s 6ms/step - loss: 157.6269 - val_loss: 1098.1130\n",
      "Epoch 151/500\n",
      "25/25 [==============================] - 0s 5ms/step - loss: 157.4880 - val_loss: 1099.6410\n",
      "Epoch 152/500\n",
      "25/25 [==============================] - 0s 5ms/step - loss: 157.3584 - val_loss: 1101.1041\n",
      "Epoch 153/500\n",
      "25/25 [==============================] - 0s 5ms/step - loss: 157.2373 - val_loss: 1102.5035\n",
      "Epoch 154/500\n",
      "25/25 [==============================] - 0s 5ms/step - loss: 157.1244 - val_loss: 1103.8420\n",
      "Epoch 155/500\n",
      "25/25 [==============================] - 0s 5ms/step - loss: 157.0190 - val_loss: 1105.1212\n",
      "Epoch 156/500\n",
      "25/25 [==============================] - 0s 5ms/step - loss: 156.9206 - val_loss: 1106.3435\n",
      "Epoch 157/500\n",
      "25/25 [==============================] - 0s 5ms/step - loss: 156.8286 - val_loss: 1107.5104\n",
      "Epoch 158/500\n",
      "25/25 [==============================] - 0s 5ms/step - loss: 156.7428 - val_loss: 1108.6234\n",
      "Epoch 159/500\n",
      "25/25 [==============================] - 0s 5ms/step - loss: 156.6627 - val_loss: 1109.6853\n",
      "Epoch 160/500\n",
      "25/25 [==============================] - 0s 5ms/step - loss: 156.5880 - val_loss: 1110.6971\n",
      "Epoch 161/500\n",
      "25/25 [==============================] - 0s 5ms/step - loss: 156.5181 - val_loss: 1111.6617\n",
      "Epoch 162/500\n",
      "25/25 [==============================] - 0s 5ms/step - loss: 156.4529 - val_loss: 1112.5801\n",
      "Epoch 163/500\n",
      "25/25 [==============================] - 0s 5ms/step - loss: 156.3919 - val_loss: 1113.4537\n",
      "Epoch 164/500\n",
      "25/25 [==============================] - 0s 5ms/step - loss: 156.3350 - val_loss: 1114.2852\n",
      "Epoch 165/500\n",
      "25/25 [==============================] - 0s 4ms/step - loss: 156.2818 - val_loss: 1115.0752\n",
      "Epoch 166/500\n",
      "25/25 [==============================] - 0s 4ms/step - loss: 156.2322 - val_loss: 1115.8259\n",
      "Epoch 167/500\n",
      "25/25 [==============================] - 0s 4ms/step - loss: 156.1858 - val_loss: 1116.5393\n",
      "Epoch 168/500\n",
      "25/25 [==============================] - 0s 4ms/step - loss: 156.1424 - val_loss: 1117.2167\n",
      "Epoch 169/500\n",
      "25/25 [==============================] - 0s 4ms/step - loss: 156.1019 - val_loss: 1117.8601\n",
      "Epoch 170/500\n",
      "25/25 [==============================] - 0s 7ms/step - loss: 156.0641 - val_loss: 1118.4695\n",
      "Epoch 171/500\n",
      "25/25 [==============================] - 0s 7ms/step - loss: 156.0287 - val_loss: 1119.0472\n",
      "Epoch 172/500\n",
      "25/25 [==============================] - 0s 5ms/step - loss: 155.9957 - val_loss: 1119.5953\n",
      "Epoch 173/500\n",
      "25/25 [==============================] - 0s 5ms/step - loss: 155.9648 - val_loss: 1120.1141\n",
      "Epoch 174/500\n",
      "25/25 [==============================] - 0s 5ms/step - loss: 155.9360 - val_loss: 1120.6055\n",
      "Epoch 175/500\n",
      "25/25 [==============================] - 0s 5ms/step - loss: 155.9091 - val_loss: 1121.0704\n",
      "Epoch 176/500\n",
      "25/25 [==============================] - 0s 6ms/step - loss: 155.8839 - val_loss: 1121.5098\n",
      "Epoch 177/500\n",
      "25/25 [==============================] - 0s 6ms/step - loss: 155.8604 - val_loss: 1121.9257\n",
      "Epoch 178/500\n",
      "25/25 [==============================] - 0s 7ms/step - loss: 155.8385 - val_loss: 1122.3185\n",
      "Epoch 179/500\n",
      "25/25 [==============================] - 0s 7ms/step - loss: 155.8179 - val_loss: 1122.6899\n",
      "Epoch 180/500\n",
      "25/25 [==============================] - 0s 7ms/step - loss: 155.7988 - val_loss: 1123.0403\n",
      "Epoch 181/500\n",
      "25/25 [==============================] - 0s 8ms/step - loss: 155.7809 - val_loss: 1123.3713\n",
      "Epoch 182/500\n",
      "25/25 [==============================] - 0s 6ms/step - loss: 155.7642 - val_loss: 1123.6832\n",
      "Epoch 183/500\n",
      "25/25 [==============================] - 0s 7ms/step - loss: 155.7487 - val_loss: 1123.9781\n",
      "Epoch 184/500\n",
      "25/25 [==============================] - 0s 10ms/step - loss: 155.7341 - val_loss: 1124.2555\n",
      "Epoch 185/500\n",
      "25/25 [==============================] - 0s 7ms/step - loss: 155.7206 - val_loss: 1124.5168\n",
      "Epoch 186/500\n",
      "25/25 [==============================] - 0s 6ms/step - loss: 155.7079 - val_loss: 1124.7634\n",
      "Epoch 187/500\n",
      "25/25 [==============================] - 0s 7ms/step - loss: 155.6962 - val_loss: 1124.9950\n",
      "Epoch 188/500\n",
      "25/25 [==============================] - 0s 8ms/step - loss: 155.6852 - val_loss: 1125.2134\n",
      "Epoch 189/500\n",
      "25/25 [==============================] - 0s 8ms/step - loss: 155.6750 - val_loss: 1125.4185\n",
      "Epoch 190/500\n",
      "25/25 [==============================] - 0s 5ms/step - loss: 155.6655 - val_loss: 1125.6121\n",
      "Epoch 191/500\n",
      "25/25 [==============================] - 0s 5ms/step - loss: 155.6567 - val_loss: 1125.7933\n",
      "Epoch 192/500\n",
      "25/25 [==============================] - 0s 5ms/step - loss: 155.6484 - val_loss: 1125.9641\n",
      "Epoch 193/500\n",
      "25/25 [==============================] - 0s 5ms/step - loss: 155.6407 - val_loss: 1126.1251\n",
      "Epoch 194/500\n",
      "25/25 [==============================] - 0s 5ms/step - loss: 155.6335 - val_loss: 1126.2753\n",
      "Epoch 195/500\n",
      "25/25 [==============================] - 0s 6ms/step - loss: 155.6270 - val_loss: 1126.4167\n",
      "Epoch 196/500\n",
      "25/25 [==============================] - 0s 6ms/step - loss: 155.6208 - val_loss: 1126.5494\n",
      "Epoch 197/500\n",
      "25/25 [==============================] - 0s 6ms/step - loss: 155.6151 - val_loss: 1126.6743\n",
      "Epoch 198/500\n",
      "25/25 [==============================] - 0s 10ms/step - loss: 155.6098 - val_loss: 1126.7910\n",
      "Epoch 199/500\n",
      "25/25 [==============================] - 0s 8ms/step - loss: 155.6049 - val_loss: 1126.9001\n",
      "Epoch 200/500\n",
      "25/25 [==============================] - 0s 7ms/step - loss: 155.6003 - val_loss: 1127.0032\n",
      "Epoch 201/500\n",
      "25/25 [==============================] - 0s 7ms/step - loss: 155.5962 - val_loss: 1127.0986\n",
      "Epoch 202/500\n",
      "25/25 [==============================] - 0s 6ms/step - loss: 155.5923 - val_loss: 1127.1886\n",
      "Epoch 203/500\n",
      "25/25 [==============================] - 0s 6ms/step - loss: 155.5887 - val_loss: 1127.2728\n",
      "Epoch 204/500\n",
      "25/25 [==============================] - 0s 5ms/step - loss: 155.5854 - val_loss: 1127.3518\n",
      "Epoch 205/500\n",
      "25/25 [==============================] - 0s 6ms/step - loss: 155.5823 - val_loss: 1127.4252\n",
      "Epoch 206/500\n",
      "25/25 [==============================] - 0s 6ms/step - loss: 155.5795 - val_loss: 1127.4941\n",
      "Epoch 207/500\n",
      "25/25 [==============================] - 0s 6ms/step - loss: 155.5770 - val_loss: 1127.5582\n",
      "Epoch 208/500\n",
      "25/25 [==============================] - 0s 6ms/step - loss: 155.5746 - val_loss: 1127.6185\n",
      "Epoch 209/500\n",
      "25/25 [==============================] - 0s 6ms/step - loss: 155.5724 - val_loss: 1127.6746\n",
      "Epoch 210/500\n",
      "25/25 [==============================] - 0s 6ms/step - loss: 155.5705 - val_loss: 1127.7273\n",
      "Epoch 211/500\n",
      "25/25 [==============================] - 0s 6ms/step - loss: 155.5686 - val_loss: 1127.7765\n",
      "Epoch 212/500\n",
      "25/25 [==============================] - 0s 6ms/step - loss: 155.5670 - val_loss: 1127.8218\n",
      "Epoch 213/500\n",
      "25/25 [==============================] - 0s 6ms/step - loss: 155.5655 - val_loss: 1127.8645\n",
      "Epoch 214/500\n",
      "25/25 [==============================] - 0s 6ms/step - loss: 155.5641 - val_loss: 1127.9045\n",
      "Epoch 215/500\n",
      "25/25 [==============================] - 0s 7ms/step - loss: 155.5629 - val_loss: 1127.9414\n",
      "Epoch 216/500\n",
      "25/25 [==============================] - 0s 8ms/step - loss: 155.5618 - val_loss: 1127.9756\n",
      "Epoch 217/500\n",
      "25/25 [==============================] - 0s 7ms/step - loss: 155.5608 - val_loss: 1128.0079\n",
      "Epoch 218/500\n",
      "25/25 [==============================] - 0s 6ms/step - loss: 155.5599 - val_loss: 1128.0381\n",
      "Epoch 219/500\n",
      "25/25 [==============================] - 0s 12ms/step - loss: 155.5591 - val_loss: 1128.0660\n",
      "Epoch 220/500\n",
      "25/25 [==============================] - 0s 7ms/step - loss: 155.5584 - val_loss: 1128.0914\n",
      "Epoch 221/500\n",
      "25/25 [==============================] - 0s 7ms/step - loss: 155.5578 - val_loss: 1128.1157\n",
      "Epoch 222/500\n",
      "25/25 [==============================] - 0s 6ms/step - loss: 155.5572 - val_loss: 1128.1390\n",
      "Epoch 223/500\n",
      "25/25 [==============================] - 0s 6ms/step - loss: 155.5567 - val_loss: 1128.1593\n",
      "Epoch 224/500\n",
      "25/25 [==============================] - 0s 6ms/step - loss: 155.5563 - val_loss: 1128.1793\n",
      "Epoch 225/500\n",
      "25/25 [==============================] - 0s 12ms/step - loss: 155.5559 - val_loss: 1128.1974\n",
      "Epoch 226/500\n",
      "25/25 [==============================] - 0s 9ms/step - loss: 155.5556 - val_loss: 1128.2139\n",
      "Epoch 227/500\n",
      "25/25 [==============================] - 0s 7ms/step - loss: 155.5554 - val_loss: 1128.2291\n",
      "Epoch 228/500\n",
      "25/25 [==============================] - 0s 7ms/step - loss: 155.5552 - val_loss: 1128.2435\n",
      "Epoch 229/500\n",
      "25/25 [==============================] - 0s 6ms/step - loss: 155.5550 - val_loss: 1128.2570\n",
      "Epoch 230/500\n",
      "25/25 [==============================] - 0s 6ms/step - loss: 155.5549 - val_loss: 1128.2692\n",
      "Epoch 231/500\n",
      "25/25 [==============================] - 0s 7ms/step - loss: 155.5549 - val_loss: 1128.2806\n",
      "Epoch 232/500\n",
      "25/25 [==============================] - 0s 7ms/step - loss: 155.5548 - val_loss: 1128.2916\n",
      "Epoch 233/500\n",
      "25/25 [==============================] - 0s 6ms/step - loss: 155.5548 - val_loss: 1128.3016\n",
      "Epoch 234/500\n",
      "25/25 [==============================] - 0s 6ms/step - loss: 155.5548 - val_loss: 1128.3109\n",
      "Epoch 235/500\n",
      "25/25 [==============================] - 0s 5ms/step - loss: 155.5548 - val_loss: 1128.3196\n",
      "Epoch 236/500\n",
      "25/25 [==============================] - 0s 5ms/step - loss: 155.5549 - val_loss: 1128.3270\n",
      "Epoch 237/500\n",
      "25/25 [==============================] - 0s 5ms/step - loss: 155.5550 - val_loss: 1128.3345\n",
      "Epoch 238/500\n",
      "25/25 [==============================] - 0s 5ms/step - loss: 155.5551 - val_loss: 1128.3412\n",
      "Epoch 239/500\n",
      "25/25 [==============================] - 0s 5ms/step - loss: 155.5552 - val_loss: 1128.3470\n",
      "Epoch 240/500\n",
      "25/25 [==============================] - 0s 5ms/step - loss: 155.5553 - val_loss: 1128.3525\n",
      "Epoch 241/500\n",
      "25/25 [==============================] - 0s 5ms/step - loss: 155.5555 - val_loss: 1128.3572\n",
      "Epoch 242/500\n",
      "25/25 [==============================] - 0s 5ms/step - loss: 155.5557 - val_loss: 1128.3622\n",
      "Epoch 243/500\n",
      "25/25 [==============================] - 0s 5ms/step - loss: 155.5559 - val_loss: 1128.3667\n",
      "Epoch 244/500\n",
      "25/25 [==============================] - 0s 5ms/step - loss: 155.5560 - val_loss: 1128.3710\n",
      "Epoch 245/500\n",
      "25/25 [==============================] - 0s 5ms/step - loss: 155.5562 - val_loss: 1128.3745\n",
      "Epoch 246/500\n",
      "25/25 [==============================] - 0s 5ms/step - loss: 155.5564 - val_loss: 1128.3779\n",
      "Epoch 247/500\n",
      "25/25 [==============================] - 0s 5ms/step - loss: 155.5567 - val_loss: 1128.3812\n",
      "Epoch 248/500\n",
      "25/25 [==============================] - 0s 5ms/step - loss: 155.5568 - val_loss: 1128.3842\n",
      "Epoch 249/500\n",
      "25/25 [==============================] - 0s 6ms/step - loss: 155.5571 - val_loss: 1128.3865\n",
      "Epoch 250/500\n",
      "25/25 [==============================] - 0s 5ms/step - loss: 155.5573 - val_loss: 1128.3895\n",
      "Epoch 251/500\n",
      "25/25 [==============================] - 0s 10ms/step - loss: 155.5575 - val_loss: 1128.3910\n",
      "Epoch 252/500\n",
      "25/25 [==============================] - 0s 6ms/step - loss: 155.5577 - val_loss: 1128.3931\n",
      "Epoch 253/500\n",
      "25/25 [==============================] - 0s 6ms/step - loss: 155.5580 - val_loss: 1128.3953\n",
      "Epoch 254/500\n",
      "25/25 [==============================] - 0s 7ms/step - loss: 155.5582 - val_loss: 1128.3964\n",
      "Epoch 255/500\n",
      "25/25 [==============================] - 0s 6ms/step - loss: 155.5585 - val_loss: 1128.3977\n",
      "Epoch 256/500\n",
      "25/25 [==============================] - 0s 5ms/step - loss: 155.5587 - val_loss: 1128.3992\n",
      "Epoch 257/500\n",
      "25/25 [==============================] - 0s 5ms/step - loss: 155.5589 - val_loss: 1128.4003\n",
      "Epoch 258/500\n",
      "25/25 [==============================] - 0s 5ms/step - loss: 155.5592 - val_loss: 1128.4016\n",
      "Epoch 259/500\n",
      "25/25 [==============================] - 0s 5ms/step - loss: 155.5594 - val_loss: 1128.4025\n",
      "Epoch 260/500\n",
      "25/25 [==============================] - 0s 7ms/step - loss: 155.5597 - val_loss: 1128.4036\n",
      "Epoch 261/500\n",
      "25/25 [==============================] - 0s 7ms/step - loss: 155.5599 - val_loss: 1128.4043\n",
      "Epoch 262/500\n",
      "25/25 [==============================] - 0s 7ms/step - loss: 155.5601 - val_loss: 1128.4049\n",
      "Epoch 263/500\n",
      "25/25 [==============================] - 0s 6ms/step - loss: 155.5603 - val_loss: 1128.4056\n",
      "Epoch 264/500\n",
      "25/25 [==============================] - 0s 5ms/step - loss: 155.5606 - val_loss: 1128.4064\n",
      "Epoch 265/500\n",
      "25/25 [==============================] - 0s 5ms/step - loss: 155.5608 - val_loss: 1128.4076\n",
      "Epoch 266/500\n",
      "25/25 [==============================] - 0s 9ms/step - loss: 155.5610 - val_loss: 1128.4080\n",
      "Epoch 267/500\n",
      "25/25 [==============================] - 0s 5ms/step - loss: 155.5612 - val_loss: 1128.4082\n",
      "Epoch 268/500\n",
      "25/25 [==============================] - 0s 5ms/step - loss: 155.5614 - val_loss: 1128.4082\n",
      "Epoch 269/500\n",
      "25/25 [==============================] - 0s 5ms/step - loss: 155.5616 - val_loss: 1128.4083\n",
      "Epoch 270/500\n",
      "25/25 [==============================] - 0s 5ms/step - loss: 155.5619 - val_loss: 1128.4084\n",
      "Epoch 271/500\n",
      "25/25 [==============================] - 0s 4ms/step - loss: 155.5621 - val_loss: 1128.4087\n",
      "Epoch 272/500\n",
      "25/25 [==============================] - 0s 4ms/step - loss: 155.5623 - val_loss: 1128.4089\n",
      "Epoch 273/500\n",
      "25/25 [==============================] - 0s 5ms/step - loss: 155.5625 - val_loss: 1128.4089\n",
      "Epoch 274/500\n",
      "25/25 [==============================] - 0s 5ms/step - loss: 155.5627 - val_loss: 1127.7899\n",
      "Epoch 275/500\n",
      "25/25 [==============================] - 0s 9ms/step - loss: 155.8324 - val_loss: 1127.8685\n",
      "Epoch 276/500\n",
      "25/25 [==============================] - 0s 6ms/step - loss: 155.6398 - val_loss: 1127.9919\n",
      "Epoch 277/500\n",
      "25/25 [==============================] - 0s 6ms/step - loss: 155.6175 - val_loss: 1128.0344\n",
      "Epoch 278/500\n",
      "25/25 [==============================] - 0s 6ms/step - loss: 155.6097 - val_loss: 1128.0657\n",
      "Epoch 279/500\n",
      "25/25 [==============================] - 0s 6ms/step - loss: 155.6050 - val_loss: 1128.0934\n",
      "Epoch 280/500\n",
      "25/25 [==============================] - 0s 5ms/step - loss: 155.6014 - val_loss: 1128.1169\n",
      "Epoch 281/500\n",
      "25/25 [==============================] - 0s 5ms/step - loss: 155.5986 - val_loss: 1128.1387\n",
      "Epoch 282/500\n",
      "25/25 [==============================] - 0s 5ms/step - loss: 155.5964 - val_loss: 1128.1587\n",
      "Epoch 283/500\n",
      "25/25 [==============================] - 0s 5ms/step - loss: 155.5945 - val_loss: 1128.1764\n",
      "Epoch 284/500\n",
      "25/25 [==============================] - 0s 5ms/step - loss: 155.5928 - val_loss: 1128.1925\n",
      "Epoch 285/500\n",
      "25/25 [==============================] - 0s 5ms/step - loss: 155.5914 - val_loss: 1128.2074\n",
      "Epoch 286/500\n",
      "25/25 [==============================] - 0s 5ms/step - loss: 155.5902 - val_loss: 1128.2209\n",
      "Epoch 287/500\n",
      "25/25 [==============================] - 0s 5ms/step - loss: 155.5892 - val_loss: 1128.2335\n",
      "Epoch 288/500\n",
      "25/25 [==============================] - 0s 5ms/step - loss: 155.5881 - val_loss: 1128.2451\n",
      "Epoch 289/500\n",
      "25/25 [==============================] - 0s 5ms/step - loss: 155.5873 - val_loss: 1128.2552\n",
      "Epoch 290/500\n",
      "25/25 [==============================] - 0s 5ms/step - loss: 155.5865 - val_loss: 1128.2651\n",
      "Epoch 291/500\n",
      "25/25 [==============================] - 0s 5ms/step - loss: 155.5858 - val_loss: 1128.2739\n",
      "Epoch 292/500\n",
      "25/25 [==============================] - 0s 5ms/step - loss: 155.5852 - val_loss: 1128.2820\n",
      "Epoch 293/500\n",
      "25/25 [==============================] - 0s 5ms/step - loss: 155.5847 - val_loss: 1128.2894\n",
      "Epoch 294/500\n",
      "25/25 [==============================] - 0s 4ms/step - loss: 155.5841 - val_loss: 1128.2964\n",
      "Epoch 295/500\n",
      "25/25 [==============================] - 0s 5ms/step - loss: 155.5837 - val_loss: 1128.3031\n",
      "Epoch 296/500\n",
      "25/25 [==============================] - 0s 5ms/step - loss: 155.5832 - val_loss: 1128.3088\n",
      "Epoch 297/500\n",
      "25/25 [==============================] - 0s 5ms/step - loss: 155.5829 - val_loss: 1128.3142\n",
      "Epoch 298/500\n",
      "25/25 [==============================] - 0s 5ms/step - loss: 155.5825 - val_loss: 1128.3192\n",
      "Epoch 299/500\n",
      "25/25 [==============================] - 0s 5ms/step - loss: 155.5822 - val_loss: 1128.3242\n",
      "Epoch 300/500\n",
      "25/25 [==============================] - 0s 5ms/step - loss: 155.5819 - val_loss: 1128.3278\n",
      "Epoch 301/500\n",
      "25/25 [==============================] - 0s 5ms/step - loss: 155.5816 - val_loss: 1128.3324\n",
      "Epoch 302/500\n",
      "25/25 [==============================] - 0s 8ms/step - loss: 155.5814 - val_loss: 1128.3353\n",
      "Epoch 303/500\n",
      "25/25 [==============================] - 0s 5ms/step - loss: 155.5812 - val_loss: 1128.3387\n",
      "Epoch 304/500\n",
      "25/25 [==============================] - 0s 5ms/step - loss: 155.5810 - val_loss: 1128.3416\n",
      "Epoch 305/500\n",
      "25/25 [==============================] - 0s 7ms/step - loss: 155.5809 - val_loss: 1128.3445\n",
      "Epoch 306/500\n",
      "25/25 [==============================] - 0s 8ms/step - loss: 155.5807 - val_loss: 1128.3469\n",
      "Epoch 307/500\n",
      "25/25 [==============================] - 0s 6ms/step - loss: 155.5806 - val_loss: 1128.3496\n",
      "Epoch 308/500\n",
      "25/25 [==============================] - 0s 5ms/step - loss: 155.5805 - val_loss: 1128.3519\n",
      "Epoch 309/500\n",
      "25/25 [==============================] - 0s 4ms/step - loss: 155.5803 - val_loss: 1128.3536\n",
      "Epoch 310/500\n",
      "25/25 [==============================] - 0s 4ms/step - loss: 155.5802 - val_loss: 1128.3557\n",
      "Epoch 311/500\n",
      "25/25 [==============================] - 0s 4ms/step - loss: 155.5801 - val_loss: 1128.3577\n",
      "Epoch 312/500\n",
      "25/25 [==============================] - 0s 4ms/step - loss: 155.5800 - val_loss: 1128.3593\n",
      "Epoch 313/500\n",
      "25/25 [==============================] - 0s 5ms/step - loss: 155.5799 - val_loss: 1128.3604\n",
      "Epoch 314/500\n",
      "25/25 [==============================] - 0s 5ms/step - loss: 155.5799 - val_loss: 1128.3621\n",
      "Epoch 315/500\n",
      "25/25 [==============================] - 0s 5ms/step - loss: 155.5798 - val_loss: 1128.3633\n",
      "Epoch 316/500\n",
      "25/25 [==============================] - 0s 4ms/step - loss: 155.5798 - val_loss: 1128.3644\n",
      "Epoch 317/500\n",
      "25/25 [==============================] - 0s 5ms/step - loss: 155.5797 - val_loss: 1128.3652\n",
      "Epoch 318/500\n",
      "25/25 [==============================] - 0s 4ms/step - loss: 155.5797 - val_loss: 1128.3665\n",
      "Epoch 319/500\n",
      "25/25 [==============================] - 0s 5ms/step - loss: 155.5796 - val_loss: 1128.3672\n",
      "Epoch 320/500\n",
      "25/25 [==============================] - 0s 5ms/step - loss: 155.5796 - val_loss: 1128.3679\n",
      "Epoch 321/500\n",
      "25/25 [==============================] - 0s 5ms/step - loss: 155.5796 - val_loss: 1128.3685\n",
      "Epoch 322/500\n",
      "25/25 [==============================] - 0s 5ms/step - loss: 155.5795 - val_loss: 1128.3696\n",
      "Epoch 323/500\n",
      "25/25 [==============================] - 0s 5ms/step - loss: 155.5795 - val_loss: 1128.3702\n",
      "Epoch 324/500\n",
      "25/25 [==============================] - 0s 5ms/step - loss: 155.5795 - val_loss: 1128.3705\n",
      "Epoch 325/500\n",
      "25/25 [==============================] - 0s 5ms/step - loss: 155.5795 - val_loss: 1128.3710\n",
      "Epoch 326/500\n",
      "25/25 [==============================] - 0s 5ms/step - loss: 155.5795 - val_loss: 1128.3711\n",
      "Epoch 327/500\n",
      "25/25 [==============================] - 0s 5ms/step - loss: 155.5795 - val_loss: 1128.3718\n",
      "Epoch 328/500\n",
      "25/25 [==============================] - 0s 4ms/step - loss: 155.5795 - val_loss: 1128.3722\n",
      "Epoch 329/500\n",
      "25/25 [==============================] - 0s 5ms/step - loss: 155.5794 - val_loss: 1128.3724\n",
      "Epoch 330/500\n",
      "25/25 [==============================] - 0s 5ms/step - loss: 155.5795 - val_loss: 1128.3728\n",
      "Epoch 331/500\n",
      "25/25 [==============================] - 0s 10ms/step - loss: 155.5795 - val_loss: 1128.3734\n",
      "Epoch 332/500\n",
      "25/25 [==============================] - 0s 5ms/step - loss: 155.5795 - val_loss: 1128.3734\n",
      "Epoch 333/500\n",
      "25/25 [==============================] - 0s 5ms/step - loss: 155.5795 - val_loss: 1128.3737\n",
      "Epoch 334/500\n",
      "25/25 [==============================] - 0s 5ms/step - loss: 155.5795 - val_loss: 1128.3737\n",
      "Epoch 335/500\n",
      "25/25 [==============================] - 0s 5ms/step - loss: 155.5795 - val_loss: 1128.3739\n",
      "Epoch 336/500\n",
      "25/25 [==============================] - 0s 5ms/step - loss: 155.5795 - val_loss: 1128.3739\n",
      "Epoch 337/500\n",
      "25/25 [==============================] - 0s 5ms/step - loss: 155.5795 - val_loss: 1128.3739\n",
      "Epoch 338/500\n",
      "25/25 [==============================] - 0s 5ms/step - loss: 155.5795 - val_loss: 1128.3740\n",
      "Epoch 339/500\n",
      "25/25 [==============================] - 0s 4ms/step - loss: 155.5796 - val_loss: 1128.3744\n",
      "Epoch 340/500\n",
      "25/25 [==============================] - 0s 5ms/step - loss: 155.5795 - val_loss: 1128.3745\n",
      "Epoch 341/500\n",
      "25/25 [==============================] - 0s 4ms/step - loss: 155.5795 - val_loss: 1128.3749\n",
      "Epoch 342/500\n",
      "25/25 [==============================] - 0s 4ms/step - loss: 155.5795 - val_loss: 1128.3751\n",
      "Epoch 343/500\n",
      "25/25 [==============================] - 0s 5ms/step - loss: 155.5795 - val_loss: 1128.3751\n",
      "Epoch 344/500\n",
      "25/25 [==============================] - 0s 5ms/step - loss: 155.5795 - val_loss: 1128.3752\n",
      "Epoch 345/500\n",
      "25/25 [==============================] - 0s 4ms/step - loss: 155.5795 - val_loss: 1128.3754\n",
      "Epoch 346/500\n",
      "25/25 [==============================] - 0s 5ms/step - loss: 155.5796 - val_loss: 1128.3754\n",
      "Epoch 347/500\n",
      "25/25 [==============================] - 0s 4ms/step - loss: 155.5796 - val_loss: 1128.3755\n",
      "Epoch 348/500\n",
      "25/25 [==============================] - 0s 5ms/step - loss: 155.5796 - val_loss: 1128.3756\n",
      "Epoch 349/500\n",
      "25/25 [==============================] - 0s 5ms/step - loss: 155.5796 - val_loss: 1128.3756\n",
      "Epoch 350/500\n",
      "25/25 [==============================] - 0s 4ms/step - loss: 155.5796 - val_loss: 1128.3751\n",
      "Epoch 351/500\n",
      "25/25 [==============================] - 0s 4ms/step - loss: 155.5797 - val_loss: 1128.3751\n",
      "Epoch 352/500\n",
      "25/25 [==============================] - 0s 4ms/step - loss: 155.5797 - val_loss: 1128.3756\n",
      "Epoch 353/500\n",
      "25/25 [==============================] - 0s 4ms/step - loss: 155.5797 - val_loss: 1128.3759\n",
      "Epoch 354/500\n",
      "25/25 [==============================] - 0s 5ms/step - loss: 155.5797 - val_loss: 1128.3759\n",
      "Epoch 355/500\n",
      "25/25 [==============================] - 0s 5ms/step - loss: 155.5796 - val_loss: 1128.3756\n",
      "Epoch 356/500\n",
      "25/25 [==============================] - 0s 10ms/step - loss: 155.5797 - val_loss: 1128.3759\n",
      "Epoch 357/500\n",
      "25/25 [==============================] - 0s 6ms/step - loss: 155.5797 - val_loss: 1128.3760\n",
      "Epoch 358/500\n",
      "25/25 [==============================] - 0s 6ms/step - loss: 155.5797 - val_loss: 1128.3763\n",
      "Epoch 359/500\n",
      "25/25 [==============================] - 0s 5ms/step - loss: 155.5797 - val_loss: 1128.3763\n",
      "Epoch 360/500\n",
      "25/25 [==============================] - 0s 5ms/step - loss: 155.5797 - val_loss: 1128.3766\n",
      "Epoch 361/500\n",
      "25/25 [==============================] - 0s 4ms/step - loss: 155.5797 - val_loss: 1128.3763\n",
      "Epoch 362/500\n",
      "25/25 [==============================] - 0s 5ms/step - loss: 155.5797 - val_loss: 1128.3763\n",
      "Epoch 363/500\n",
      "25/25 [==============================] - 0s 9ms/step - loss: 155.5798 - val_loss: 1128.3763\n",
      "Epoch 364/500\n",
      "25/25 [==============================] - 0s 7ms/step - loss: 155.5798 - val_loss: 1128.3767\n",
      "Epoch 365/500\n",
      "25/25 [==============================] - 0s 5ms/step - loss: 155.5798 - val_loss: 1128.3767\n",
      "Epoch 366/500\n",
      "25/25 [==============================] - 0s 5ms/step - loss: 155.5798 - val_loss: 1128.3770\n",
      "Epoch 367/500\n",
      "25/25 [==============================] - 0s 5ms/step - loss: 155.5797 - val_loss: 1128.3767\n",
      "Epoch 368/500\n",
      "25/25 [==============================] - 0s 5ms/step - loss: 155.5798 - val_loss: 1128.3767\n",
      "Epoch 369/500\n",
      "25/25 [==============================] - 0s 5ms/step - loss: 155.5798 - val_loss: 1128.3765\n",
      "Epoch 370/500\n",
      "25/25 [==============================] - 0s 5ms/step - loss: 155.5798 - val_loss: 1128.3763\n",
      "Epoch 371/500\n",
      "25/25 [==============================] - 0s 5ms/step - loss: 155.5798 - val_loss: 1128.3763\n",
      "Epoch 372/500\n",
      "25/25 [==============================] - 0s 5ms/step - loss: 155.5798 - val_loss: 1128.3763\n",
      "Epoch 373/500\n",
      "25/25 [==============================] - 0s 5ms/step - loss: 155.5798 - val_loss: 1128.3763\n",
      "Epoch 374/500\n",
      "25/25 [==============================] - 0s 5ms/step - loss: 155.5798 - val_loss: 1128.3761\n",
      "Epoch 375/500\n",
      "25/25 [==============================] - 0s 5ms/step - loss: 155.5799 - val_loss: 1128.3763\n",
      "Epoch 376/500\n",
      "25/25 [==============================] - 0s 5ms/step - loss: 155.5799 - val_loss: 1128.3763\n",
      "Epoch 377/500\n",
      "25/25 [==============================] - 0s 5ms/step - loss: 155.5798 - val_loss: 1128.3763\n",
      "Epoch 378/500\n",
      "25/25 [==============================] - 0s 5ms/step - loss: 155.5799 - val_loss: 1128.3763\n",
      "Epoch 379/500\n",
      "25/25 [==============================] - 0s 5ms/step - loss: 155.5799 - val_loss: 1128.3763\n",
      "Epoch 380/500\n",
      "25/25 [==============================] - 0s 7ms/step - loss: 155.5799 - val_loss: 1128.3763\n",
      "Epoch 381/500\n",
      "25/25 [==============================] - 0s 7ms/step - loss: 155.5799 - val_loss: 1128.3761\n",
      "Epoch 382/500\n",
      "25/25 [==============================] - 0s 5ms/step - loss: 155.5799 - val_loss: 1128.3760\n",
      "Epoch 383/500\n",
      "25/25 [==============================] - 0s 5ms/step - loss: 155.5799 - val_loss: 1128.3756\n",
      "Epoch 384/500\n",
      "25/25 [==============================] - 0s 5ms/step - loss: 155.5799 - val_loss: 1128.3754\n",
      "Epoch 385/500\n",
      "25/25 [==============================] - 0s 5ms/step - loss: 155.5799 - val_loss: 1128.3749\n",
      "Epoch 386/500\n",
      "25/25 [==============================] - 0s 5ms/step - loss: 155.5800 - val_loss: 1128.3748\n",
      "Epoch 387/500\n",
      "25/25 [==============================] - 0s 5ms/step - loss: 155.5800 - val_loss: 1128.3745\n",
      "Epoch 388/500\n",
      "25/25 [==============================] - 0s 5ms/step - loss: 155.5800 - val_loss: 1128.3746\n",
      "Epoch 389/500\n",
      "25/25 [==============================] - 0s 5ms/step - loss: 155.5800 - val_loss: 1128.3746\n",
      "Epoch 390/500\n",
      "25/25 [==============================] - 0s 5ms/step - loss: 155.5800 - val_loss: 1128.3748\n",
      "Epoch 391/500\n",
      "25/25 [==============================] - 0s 4ms/step - loss: 155.5801 - val_loss: 1128.3749\n",
      "Epoch 392/500\n",
      "25/25 [==============================] - 0s 5ms/step - loss: 155.5801 - val_loss: 1128.3756\n",
      "Epoch 393/500\n",
      "25/25 [==============================] - 0s 5ms/step - loss: 155.5800 - val_loss: 1128.3756\n",
      "Epoch 394/500\n",
      "25/25 [==============================] - 0s 5ms/step - loss: 155.5800 - val_loss: 1128.3762\n",
      "Epoch 395/500\n",
      "25/25 [==============================] - 0s 4ms/step - loss: 155.5800 - val_loss: 1128.3765\n",
      "Epoch 396/500\n",
      "25/25 [==============================] - 0s 5ms/step - loss: 155.5800 - val_loss: 1128.3766\n",
      "Epoch 397/500\n",
      "25/25 [==============================] - 0s 5ms/step - loss: 155.5800 - val_loss: 1128.3767\n",
      "Epoch 398/500\n",
      "25/25 [==============================] - 0s 5ms/step - loss: 155.5799 - val_loss: 1128.3767\n",
      "Epoch 399/500\n",
      "25/25 [==============================] - 0s 8ms/step - loss: 155.5800 - val_loss: 1128.3770\n",
      "Epoch 400/500\n",
      "25/25 [==============================] - 0s 6ms/step - loss: 155.5800 - val_loss: 1128.3766\n",
      "Epoch 401/500\n",
      "25/25 [==============================] - 0s 5ms/step - loss: 155.5800 - val_loss: 1128.3766\n",
      "Epoch 402/500\n",
      "25/25 [==============================] - 0s 5ms/step - loss: 155.5800 - val_loss: 1128.3763\n",
      "Epoch 403/500\n",
      "25/25 [==============================] - 0s 5ms/step - loss: 155.5800 - val_loss: 1128.3763\n",
      "Epoch 404/500\n",
      "25/25 [==============================] - 0s 5ms/step - loss: 155.5800 - val_loss: 1128.3763\n",
      "Epoch 405/500\n",
      "25/25 [==============================] - 0s 5ms/step - loss: 155.5800 - val_loss: 1128.3761\n",
      "Epoch 406/500\n",
      "25/25 [==============================] - 0s 9ms/step - loss: 155.5800 - val_loss: 1128.3761\n",
      "Epoch 407/500\n",
      "25/25 [==============================] - 0s 6ms/step - loss: 155.5800 - val_loss: 1128.3761\n",
      "Epoch 408/500\n",
      "25/25 [==============================] - 0s 5ms/step - loss: 155.5800 - val_loss: 1128.3761\n",
      "Epoch 409/500\n",
      "25/25 [==============================] - 0s 5ms/step - loss: 155.5800 - val_loss: 1128.3759\n",
      "Epoch 410/500\n",
      "25/25 [==============================] - 0s 5ms/step - loss: 155.5800 - val_loss: 1128.3759\n",
      "Epoch 411/500\n",
      "25/25 [==============================] - 0s 5ms/step - loss: 155.5800 - val_loss: 1128.3756\n",
      "Epoch 412/500\n",
      "25/25 [==============================] - 0s 5ms/step - loss: 155.5800 - val_loss: 1128.3751\n",
      "Epoch 413/500\n",
      "25/25 [==============================] - 0s 5ms/step - loss: 155.5800 - val_loss: 1128.3746\n",
      "Epoch 414/500\n",
      "25/25 [==============================] - 0s 5ms/step - loss: 155.5801 - val_loss: 1128.3745\n",
      "Epoch 415/500\n",
      "25/25 [==============================] - 0s 4ms/step - loss: 155.5801 - val_loss: 1128.3744\n",
      "Epoch 416/500\n",
      "25/25 [==============================] - 0s 5ms/step - loss: 155.5801 - val_loss: 1128.3744\n",
      "Epoch 417/500\n",
      "25/25 [==============================] - 0s 5ms/step - loss: 155.5802 - val_loss: 1128.3743\n",
      "Epoch 418/500\n",
      "25/25 [==============================] - 0s 4ms/step - loss: 155.5801 - val_loss: 1128.3741\n",
      "Epoch 419/500\n",
      "25/25 [==============================] - 0s 5ms/step - loss: 155.5802 - val_loss: 1128.3741\n",
      "Epoch 420/500\n",
      "25/25 [==============================] - 0s 4ms/step - loss: 155.5802 - val_loss: 1128.3739\n",
      "Epoch 421/500\n",
      "25/25 [==============================] - 0s 4ms/step - loss: 155.5802 - val_loss: 1128.3740\n",
      "Epoch 422/500\n",
      "25/25 [==============================] - 0s 5ms/step - loss: 155.5802 - val_loss: 1128.3739\n",
      "Epoch 423/500\n",
      "25/25 [==============================] - 0s 5ms/step - loss: 155.5802 - val_loss: 1128.3741\n",
      "Epoch 424/500\n",
      "25/25 [==============================] - 0s 4ms/step - loss: 155.5802 - val_loss: 1128.3739\n",
      "Epoch 425/500\n",
      "25/25 [==============================] - 0s 5ms/step - loss: 155.5802 - val_loss: 1128.3738\n",
      "Epoch 426/500\n",
      "25/25 [==============================] - 0s 5ms/step - loss: 155.5802 - val_loss: 1128.3737\n",
      "Epoch 427/500\n",
      "25/25 [==============================] - 0s 4ms/step - loss: 155.5802 - val_loss: 1128.3730\n",
      "Epoch 428/500\n",
      "25/25 [==============================] - 0s 5ms/step - loss: 155.5802 - val_loss: 1128.3728\n",
      "Epoch 429/500\n",
      "25/25 [==============================] - 0s 10ms/step - loss: 155.5802 - val_loss: 1128.3728\n",
      "Epoch 430/500\n",
      "25/25 [==============================] - 0s 5ms/step - loss: 155.5802 - val_loss: 1128.3728\n",
      "Epoch 431/500\n",
      "25/25 [==============================] - 0s 5ms/step - loss: 155.5802 - val_loss: 1128.3728\n",
      "Epoch 432/500\n",
      "25/25 [==============================] - 0s 5ms/step - loss: 155.5803 - val_loss: 1128.3728\n",
      "Epoch 433/500\n",
      "25/25 [==============================] - 0s 5ms/step - loss: 155.5802 - val_loss: 1128.3729\n",
      "Epoch 434/500\n",
      "25/25 [==============================] - 0s 5ms/step - loss: 155.5803 - val_loss: 1128.3732\n",
      "Epoch 435/500\n",
      "25/25 [==============================] - 0s 5ms/step - loss: 155.5802 - val_loss: 1128.3732\n",
      "Epoch 436/500\n",
      "25/25 [==============================] - 0s 5ms/step - loss: 155.5802 - val_loss: 1128.3732\n",
      "Epoch 437/500\n",
      "25/25 [==============================] - 0s 5ms/step - loss: 155.5802 - val_loss: 1128.3732\n",
      "Epoch 438/500\n",
      "25/25 [==============================] - 0s 5ms/step - loss: 155.5802 - val_loss: 1128.3730\n",
      "Epoch 439/500\n",
      "25/25 [==============================] - 0s 5ms/step - loss: 155.5802 - val_loss: 1128.3730\n",
      "Epoch 440/500\n",
      "25/25 [==============================] - 0s 5ms/step - loss: 155.5802 - val_loss: 1128.3730\n",
      "Epoch 441/500\n",
      "25/25 [==============================] - 0s 5ms/step - loss: 155.5802 - val_loss: 1128.3735\n",
      "Epoch 442/500\n",
      "25/25 [==============================] - 0s 5ms/step - loss: 155.5802 - val_loss: 1128.3738\n",
      "Epoch 443/500\n",
      "25/25 [==============================] - 0s 5ms/step - loss: 155.5802 - val_loss: 1128.3740\n",
      "Epoch 444/500\n",
      "25/25 [==============================] - 0s 5ms/step - loss: 155.5802 - val_loss: 1128.3744\n",
      "Epoch 445/500\n",
      "25/25 [==============================] - 0s 5ms/step - loss: 155.5802 - val_loss: 1128.3744\n",
      "Epoch 446/500\n",
      "25/25 [==============================] - 0s 5ms/step - loss: 155.5802 - val_loss: 1128.3748\n",
      "Epoch 447/500\n",
      "25/25 [==============================] - 0s 4ms/step - loss: 155.5802 - val_loss: 1128.3749\n",
      "Epoch 448/500\n",
      "25/25 [==============================] - 0s 4ms/step - loss: 155.5802 - val_loss: 1128.3749\n",
      "Epoch 449/500\n",
      "25/25 [==============================] - 0s 4ms/step - loss: 155.5802 - val_loss: 1128.3751\n",
      "Epoch 450/500\n",
      "25/25 [==============================] - 0s 4ms/step - loss: 155.5802 - val_loss: 1128.3751\n",
      "Epoch 451/500\n",
      "25/25 [==============================] - 0s 11ms/step - loss: 155.5802 - val_loss: 1128.3751\n",
      "Epoch 452/500\n",
      "25/25 [==============================] - 0s 8ms/step - loss: 155.5802 - val_loss: 1128.3751\n",
      "Epoch 453/500\n",
      "25/25 [==============================] - 0s 5ms/step - loss: 155.5802 - val_loss: 1128.3750\n",
      "Epoch 454/500\n",
      "25/25 [==============================] - 0s 5ms/step - loss: 155.5802 - val_loss: 1128.3751\n",
      "Epoch 455/500\n",
      "25/25 [==============================] - 0s 5ms/step - loss: 155.5802 - val_loss: 1128.3755\n",
      "Epoch 456/500\n",
      "25/25 [==============================] - 0s 4ms/step - loss: 155.5801 - val_loss: 1128.3756\n",
      "Epoch 457/500\n",
      "25/25 [==============================] - 0s 4ms/step - loss: 155.5802 - val_loss: 1128.3756\n",
      "Epoch 458/500\n",
      "25/25 [==============================] - 0s 5ms/step - loss: 155.5802 - val_loss: 1128.3756\n",
      "Epoch 459/500\n",
      "25/25 [==============================] - 0s 4ms/step - loss: 155.5802 - val_loss: 1128.3756\n",
      "Epoch 460/500\n",
      "25/25 [==============================] - 0s 4ms/step - loss: 155.5802 - val_loss: 1128.3759\n",
      "Epoch 461/500\n",
      "25/25 [==============================] - 0s 4ms/step - loss: 155.5802 - val_loss: 1128.3761\n",
      "Epoch 462/500\n",
      "25/25 [==============================] - 0s 4ms/step - loss: 155.5802 - val_loss: 1128.3761\n",
      "Epoch 463/500\n",
      "25/25 [==============================] - 0s 5ms/step - loss: 155.5802 - val_loss: 1128.3761\n",
      "Epoch 464/500\n",
      "25/25 [==============================] - 0s 5ms/step - loss: 155.5802 - val_loss: 1128.3761\n",
      "Epoch 465/500\n",
      "25/25 [==============================] - 0s 4ms/step - loss: 155.5802 - val_loss: 1128.3760\n",
      "Epoch 466/500\n",
      "25/25 [==============================] - 0s 5ms/step - loss: 155.5802 - val_loss: 1128.3760\n",
      "Epoch 467/500\n",
      "25/25 [==============================] - 0s 5ms/step - loss: 155.5802 - val_loss: 1128.3760\n",
      "Epoch 468/500\n",
      "25/25 [==============================] - 0s 5ms/step - loss: 155.5802 - val_loss: 1128.3760\n",
      "Epoch 469/500\n",
      "25/25 [==============================] - 0s 5ms/step - loss: 155.5802 - val_loss: 1128.3759\n",
      "Epoch 470/500\n",
      "25/25 [==============================] - 0s 4ms/step - loss: 155.5802 - val_loss: 1128.3759\n",
      "Epoch 471/500\n",
      "25/25 [==============================] - 0s 4ms/step - loss: 155.5802 - val_loss: 1128.3757\n",
      "Epoch 472/500\n",
      "25/25 [==============================] - 0s 5ms/step - loss: 155.5802 - val_loss: 1128.3757\n",
      "Epoch 473/500\n",
      "25/25 [==============================] - 0s 10ms/step - loss: 155.5802 - val_loss: 1128.3760\n",
      "Epoch 474/500\n",
      "25/25 [==============================] - 0s 6ms/step - loss: 155.5802 - val_loss: 1128.3760\n",
      "Epoch 475/500\n",
      "25/25 [==============================] - 0s 5ms/step - loss: 155.5802 - val_loss: 1128.3760\n",
      "Epoch 476/500\n",
      "25/25 [==============================] - 0s 5ms/step - loss: 155.5801 - val_loss: 1128.3761\n",
      "Epoch 477/500\n",
      "25/25 [==============================] - 0s 5ms/step - loss: 155.5801 - val_loss: 1128.3762\n",
      "Epoch 478/500\n",
      "25/25 [==============================] - 0s 5ms/step - loss: 155.5801 - val_loss: 1128.3761\n",
      "Epoch 479/500\n",
      "25/25 [==============================] - 0s 5ms/step - loss: 155.5801 - val_loss: 1128.3761\n",
      "Epoch 480/500\n",
      "25/25 [==============================] - 0s 4ms/step - loss: 155.5801 - val_loss: 1128.3761\n",
      "Epoch 481/500\n",
      "25/25 [==============================] - 0s 4ms/step - loss: 155.5801 - val_loss: 1128.3760\n",
      "Epoch 482/500\n",
      "25/25 [==============================] - 0s 5ms/step - loss: 155.5801 - val_loss: 1128.3759\n",
      "Epoch 483/500\n",
      "25/25 [==============================] - 0s 4ms/step - loss: 155.5801 - val_loss: 1128.3757\n",
      "Epoch 484/500\n",
      "25/25 [==============================] - 0s 5ms/step - loss: 155.5801 - val_loss: 1128.3756\n",
      "Epoch 485/500\n",
      "25/25 [==============================] - 0s 5ms/step - loss: 155.5801 - val_loss: 1128.3755\n",
      "Epoch 486/500\n",
      "25/25 [==============================] - 0s 5ms/step - loss: 155.5801 - val_loss: 1128.3751\n",
      "Epoch 487/500\n",
      "25/25 [==============================] - 0s 5ms/step - loss: 155.5801 - val_loss: 1128.3750\n",
      "Epoch 488/500\n",
      "25/25 [==============================] - 0s 5ms/step - loss: 155.5801 - val_loss: 1128.3744\n",
      "Epoch 489/500\n",
      "25/25 [==============================] - 0s 5ms/step - loss: 155.5801 - val_loss: 1128.3741\n",
      "Epoch 490/500\n",
      "25/25 [==============================] - 0s 4ms/step - loss: 155.5801 - val_loss: 1128.3735\n",
      "Epoch 491/500\n",
      "25/25 [==============================] - 0s 5ms/step - loss: 155.5801 - val_loss: 1128.3728\n",
      "Epoch 492/500\n",
      "25/25 [==============================] - 0s 8ms/step - loss: 155.5801 - val_loss: 1128.3718\n",
      "Epoch 493/500\n",
      "25/25 [==============================] - 0s 9ms/step - loss: 155.5801 - val_loss: 1128.3702\n",
      "Epoch 494/500\n",
      "25/25 [==============================] - 0s 6ms/step - loss: 155.5801 - val_loss: 1128.3674\n",
      "Epoch 495/500\n",
      "25/25 [==============================] - 0s 13ms/step - loss: 155.5801 - val_loss: 1128.3608\n",
      "Epoch 496/500\n",
      "25/25 [==============================] - 0s 5ms/step - loss: 155.5801 - val_loss: 1128.3441\n",
      "Epoch 497/500\n",
      "25/25 [==============================] - 0s 5ms/step - loss: 155.5790 - val_loss: 1126.9435\n",
      "Epoch 498/500\n",
      "25/25 [==============================] - 0s 5ms/step - loss: 155.5801 - val_loss: 1128.3759\n",
      "Epoch 499/500\n",
      "25/25 [==============================] - 0s 5ms/step - loss: 155.5802 - val_loss: 1128.3756\n",
      "Epoch 500/500\n",
      "25/25 [==============================] - 0s 4ms/step - loss: 155.5802 - val_loss: 1128.3750\n"
     ]
    }
   ],
   "source": [
    "C0 = tf.Variable(82.7524, name=\"C0\", trainable=True, dtype=tf.float32)\n",
    "K0 = tf.Variable(-0.0031, name=\"K0\", trainable=True, dtype=tf.float32)\n",
    "K1 = tf.Variable(-0.0003, name=\"K1\", trainable=True, dtype=tf.float32)\n",
    "a = tf.Variable(0.0000, name=\"a\", trainable=True, dtype=tf.float32)\n",
    "b = tf.Variable(0.0171, name=\"b\", trainable=True, dtype=tf.float32)\n",
    "c = tf.Variable(3.0230, name=\"c\", trainable=True, dtype=tf.float32)\n",
    "\n",
    "splitr = 0.8\n",
    "\n",
    "\n",
    "def loss_fn(y_true, y_pred):\n",
    "    squared_difference = tf.square(y_true[:, 0] - y_pred[:, 0])\n",
    "    #squared_difference2 = tf.square(y_true[:, 2]-y_pred[:, 2])\n",
    "    #squared_difference1 = tf.square(y_true[:, 1]-y_pred[:, 1])\n",
    "    epsilon = 1\n",
    "    squared_difference3 = tf.square(\n",
    "        y_pred[:, 1] - (\n",
    "            y_pred[:, 0] * (\n",
    "                K0 - K1 * (\n",
    "                    9 * a * tf.math.log((y_pred[:, 0] + epsilon) / C0) / (K0 - K1 * c)**2 +\n",
    "                    4 * b * tf.math.log((y_pred[:, 0] + epsilon) / C0) / (K0 - K1 * c) + c\n",
    "                )\n",
    "            )\n",
    "        )\n",
    "    )\n",
    "    return tf.reduce_mean(squared_difference, axis=-1) + 0.2*tf.reduce_mean(squared_difference3, axis=-1)\n",
    "model = Sequential()\n",
    "model.add(LSTM(100, input_shape=(trainX.shape[1], trainX.shape[2])))\n",
    "model.add(Dense(60))\n",
    "model.compile(loss=loss_fn, optimizer='adam')\n",
    "history = model.fit(trainX[:int(splitr*trainX.shape[0])], trainy[:int(splitr*trainX.shape[0])], epochs=500, batch_size=64, validation_data=(trainX[int(splitr*trainX.shape[0]):trainX.shape[0]], trainy[int(splitr*trainX.shape[0]):trainX.shape[0]]), shuffle=False)"
   ]
  },
  {
   "cell_type": "code",
   "execution_count": 19,
   "metadata": {
    "colab": {
     "base_uri": "https://localhost:8080/"
    },
    "id": "yJL101rPyuoT",
    "outputId": "239ff2b1-c186-423a-d316-939dfdd7c793"
   },
   "outputs": [
    {
     "name": "stdout",
     "output_type": "stream",
     "text": [
      "1/1 [==============================] - 0s 393ms/step\n"
     ]
    }
   ],
   "source": [
    "forecast_without_mc = forecastX\n",
    "yhat_without_mc = model.predict(forecast_without_mc) # Step Ahead Prediction\n",
    "forecast_without_mc = forecast_without_mc.reshape((forecast_without_mc.shape[0], forecast_without_mc.shape[2])) # Historical Input"
   ]
  },
  {
   "cell_type": "code",
   "execution_count": 20,
   "metadata": {
    "colab": {
     "base_uri": "https://localhost:8080/"
    },
    "id": "g9dQELcJ8wbp",
    "outputId": "4dc7671b-b1a8-48d5-8744-a86f98446109"
   },
   "outputs": [
    {
     "data": {
      "text/plain": [
       "(1, 1, 251)"
      ]
     },
     "execution_count": 20,
     "metadata": {},
     "output_type": "execute_result"
    }
   ],
   "source": [
    "forecastX.shape"
   ]
  },
  {
   "cell_type": "code",
   "execution_count": 21,
   "metadata": {
    "colab": {
     "base_uri": "https://localhost:8080/"
    },
    "id": "IS2kyIKG1Kbr",
    "outputId": "f31b3485-8e26-452f-9298-ea8bf7e80ad1"
   },
   "outputs": [
    {
     "data": {
      "text/plain": [
       "(1, 251)"
      ]
     },
     "execution_count": 21,
     "metadata": {},
     "output_type": "execute_result"
    }
   ],
   "source": [
    "forecast_without_mc.shape"
   ]
  },
  {
   "cell_type": "code",
   "execution_count": 22,
   "metadata": {
    "id": "0u6VIzaDyuoT"
   },
   "outputs": [],
   "source": [
    "inv_yhat_without_mc = np.concatenate((forecast_without_mc, yhat_without_mc), axis=1) # Concatenation of predicted values with Historical Data\n",
    "#inv_yhat_without_mc = scaler.inverse_transform(inv_yhat_without_mc) # Transform labels back to original encoding"
   ]
  },
  {
   "cell_type": "code",
   "execution_count": 23,
   "metadata": {
    "colab": {
     "base_uri": "https://localhost:8080/"
    },
    "id": "EUEcw0LX07oU",
    "outputId": "cfc32397-9c37-4b43-d087-584bb31c3dcc"
   },
   "outputs": [
    {
     "data": {
      "text/plain": [
       "(1, 311)"
      ]
     },
     "execution_count": 23,
     "metadata": {},
     "output_type": "execute_result"
    }
   ],
   "source": [
    "inv_yhat_without_mc.shape"
   ]
  },
  {
   "cell_type": "code",
   "execution_count": 24,
   "metadata": {
    "id": "31OWVbSh_305"
   },
   "outputs": [],
   "source": [
    "fforecast = inv_yhat_without_mc[:,-300:]"
   ]
  },
  {
   "cell_type": "code",
   "execution_count": 25,
   "metadata": {},
   "outputs": [
    {
     "data": {
      "text/plain": [
       "(1, 300)"
      ]
     },
     "execution_count": 25,
     "metadata": {},
     "output_type": "execute_result"
    }
   ],
   "source": [
    "fforecast.shape"
   ]
  },
  {
   "cell_type": "code",
   "execution_count": 26,
   "metadata": {
    "id": "BlpGH2FOAiRF"
   },
   "outputs": [],
   "source": [
    "final_forecast = fforecast[:,0:300:3]"
   ]
  },
  {
   "cell_type": "code",
   "execution_count": 27,
   "metadata": {},
   "outputs": [
    {
     "data": {
      "text/plain": [
       "(1, 300)"
      ]
     },
     "execution_count": 27,
     "metadata": {},
     "output_type": "execute_result"
    }
   ],
   "source": [
    "fforecast.shape"
   ]
  },
  {
   "cell_type": "code",
   "execution_count": 28,
   "metadata": {
    "id": "CXkgkj_LBk_t"
   },
   "outputs": [],
   "source": [
    "# code to replace all negative value with 0\n",
    "final_forecast[final_forecast<0] = 0"
   ]
  },
  {
   "cell_type": "code",
   "execution_count": 29,
   "metadata": {},
   "outputs": [
    {
     "data": {
      "text/plain": [
       "array([[5.71292192e+01, 5.70097987e+01, 5.68904383e+01, 5.67732777e+01,\n",
       "        5.66571173e+01, 1.67232350e-01, 4.66377380e-01, 1.00476260e-01,\n",
       "        0.00000000e+00, 4.84586540e-01, 2.13533160e-01, 3.05208620e-01,\n",
       "        6.48720090e-01, 5.73506769e+01, 5.72246265e+01, 5.70985761e+01,\n",
       "        1.71529650e-01, 2.09573240e-01, 5.76541316e+01, 5.75280812e+01,\n",
       "        5.74020308e+01, 5.72757980e+01, 5.71599930e+01, 5.70427885e+01,\n",
       "        5.69291835e+01, 5.68175789e+01, 5.67059737e+01, 4.30057615e-01,\n",
       "        0.00000000e+00, 5.72012839e+01, 5.70752334e+01, 5.69491830e+01,\n",
       "        5.68231326e+01, 5.66935808e+01, 5.64162698e+01, 5.61389589e+01,\n",
       "        5.58616480e+01, 5.55900327e+01, 8.74598384e-01, 5.82692683e-01,\n",
       "        0.00000000e+00, 0.00000000e+00, 0.00000000e+00, 0.00000000e+00,\n",
       "        6.65390253e-01, 0.00000000e+00, 0.00000000e+00, 5.68423801e+01,\n",
       "        5.67307748e+01, 0.00000000e+00, 4.06541169e-01, 5.72292950e+01,\n",
       "        5.71032446e+01, 5.69771942e+01, 5.68511438e+01, 5.67250934e+01,\n",
       "        5.64778945e+01, 5.62005836e+01, 5.59232726e+01, 5.56459617e+01,\n",
       "        0.00000000e+00, 4.33232427e-01, 5.67764472e+01, 5.65908730e+01,\n",
       "        5.63135621e+01, 5.60362512e+01, 5.57589402e+01, 5.81770075e+01,\n",
       "        5.77988562e+01, 5.74207050e+01, 6.62716980e-01, 0.00000000e+00,\n",
       "        4.03643970e-01, 5.46661339e+01, 2.22946980e-02, 0.00000000e+00,\n",
       "        0.00000000e+00, 2.52457500e-01, 2.97570199e-01, 2.88791180e-01,\n",
       "        5.86462135e+01, 7.43730605e-01, 5.53930104e-01, 4.38755974e-02,\n",
       "        8.26496243e-01, 0.00000000e+00, 0.00000000e+00, 4.69095916e-01,\n",
       "        6.57174110e-01, 0.00000000e+00, 4.37279880e-01, 0.00000000e+00,\n",
       "        0.00000000e+00, 0.00000000e+00, 1.07519031e-01, 0.00000000e+00,\n",
       "        9.07415032e-01, 7.48401642e-01, 0.00000000e+00, 0.00000000e+00]])"
      ]
     },
     "execution_count": 29,
     "metadata": {},
     "output_type": "execute_result"
    }
   ],
   "source": [
    "final_forecast"
   ]
  },
  {
   "cell_type": "code",
   "execution_count": 30,
   "metadata": {},
   "outputs": [
    {
     "data": {
      "text/plain": [
       "(1, 100)"
      ]
     },
     "execution_count": 30,
     "metadata": {},
     "output_type": "execute_result"
    }
   ],
   "source": [
    "final_forecast.shape"
   ]
  },
  {
   "cell_type": "code",
   "execution_count": 31,
   "metadata": {},
   "outputs": [
    {
     "data": {
      "text/plain": [
       "(100,)"
      ]
     },
     "execution_count": 31,
     "metadata": {},
     "output_type": "execute_result"
    }
   ],
   "source": [
    "test.shape"
   ]
  },
  {
   "cell_type": "code",
   "execution_count": 32,
   "metadata": {},
   "outputs": [],
   "source": [
    "training_set = np.array(training_set)\n",
    "test = np.array(test)\n",
    "final_forecast = np.array(final_forecast.squeeze(0))"
   ]
  },
  {
   "cell_type": "code",
   "execution_count": 33,
   "metadata": {},
   "outputs": [
    {
     "data": {
      "text/plain": [
       "array([46.17397008, 46.16413199, 46.15429391, 46.14445583, 46.13461775,\n",
       "       46.12477967, 46.11494159, 46.1051035 , 46.09526542, 46.08542734,\n",
       "       46.07558926, 46.06575118, 46.0559131 , 46.04607502, 46.03623693,\n",
       "       46.02639885, 46.01656077, 46.00672269, 45.99688461, 45.98704653,\n",
       "       45.97720844, 45.96737036, 45.95753228, 45.9476942 , 45.93785612,\n",
       "       45.92801804, 45.91817995, 45.90834187, 45.89850379, 45.88866571,\n",
       "       45.87882763, 45.86898955, 45.85915147, 45.84931338, 45.8394753 ,\n",
       "       45.82963722, 45.81979914, 45.80996106, 45.80012298, 45.79028489,\n",
       "       45.78044681, 45.77060873, 45.76077065, 45.75093257, 45.74109449,\n",
       "       45.73125641, 45.72141832, 45.71158024, 45.70174216, 45.69190408,\n",
       "       45.682066  , 45.67222792, 45.66238983, 45.65255175, 45.64271367,\n",
       "       45.63287559, 45.62303751, 45.61319943, 45.60336134, 45.59352326,\n",
       "       45.58368518, 45.5738471 , 45.56400902, 45.55417094, 45.54433286,\n",
       "       45.53449477, 45.52465669, 45.51481861, 45.50498053, 45.49514245,\n",
       "       45.48530437, 45.47546628, 45.4656282 , 45.45579012, 45.44595204,\n",
       "       45.43611396, 45.42627588, 45.41643779, 45.40659971, 45.39676163,\n",
       "       45.38692355, 45.37708547, 45.36724739, 45.35740931, 45.34757122,\n",
       "       45.33773314, 45.32789506, 45.31805698, 45.3082189 , 45.29838082,\n",
       "       45.28854273, 45.27870465, 45.26886657, 45.25902849, 45.24919041,\n",
       "       45.23935233, 45.22951424, 45.21967616, 45.20983808, 45.2       ])"
      ]
     },
     "execution_count": 33,
     "metadata": {},
     "output_type": "execute_result"
    }
   ],
   "source": [
    "test"
   ]
  },
  {
   "cell_type": "code",
   "execution_count": 34,
   "metadata": {},
   "outputs": [
    {
     "data": {
      "text/plain": [
       "(100,)"
      ]
     },
     "execution_count": 34,
     "metadata": {},
     "output_type": "execute_result"
    }
   ],
   "source": [
    "test.shape"
   ]
  },
  {
   "cell_type": "code",
   "execution_count": 35,
   "metadata": {},
   "outputs": [
    {
     "data": {
      "text/plain": [
       "(100,)"
      ]
     },
     "execution_count": 35,
     "metadata": {},
     "output_type": "execute_result"
    }
   ],
   "source": [
    "final_forecast.shape"
   ]
  },
  {
   "cell_type": "code",
   "execution_count": 36,
   "metadata": {},
   "outputs": [
    {
     "data": {
      "text/plain": [
       "(100,)"
      ]
     },
     "execution_count": 36,
     "metadata": {},
     "output_type": "execute_result"
    }
   ],
   "source": [
    "test.shape"
   ]
  },
  {
   "cell_type": "code",
   "execution_count": 37,
   "metadata": {},
   "outputs": [
    {
     "name": "stdout",
     "output_type": "stream",
     "text": [
      "33.8630584434183\n",
      "29.20746175233353\n"
     ]
    }
   ],
   "source": [
    "import math\n",
    "MSE = np.square(np.subtract(np.array(test),np.array(final_forecast))).mean()   \n",
    "rsme = math.sqrt(MSE)\n",
    "print(rsme)  \n",
    "MAE = np.abs(np.subtract(np.array(test),np.array(final_forecast))).mean()   \n",
    "mae = MAE\n",
    "print(mae)"
   ]
  }
 ],
 "metadata": {
  "colab": {
   "provenance": []
  },
  "kernelspec": {
   "display_name": "Python 3",
   "language": "python",
   "name": "python3"
  },
  "language_info": {
   "codemirror_mode": {
    "name": "ipython",
    "version": 3
   },
   "file_extension": ".py",
   "mimetype": "text/x-python",
   "name": "python",
   "nbconvert_exporter": "python",
   "pygments_lexer": "ipython3",
   "version": "3.9.13"
  }
 },
 "nbformat": 4,
 "nbformat_minor": 0
}
