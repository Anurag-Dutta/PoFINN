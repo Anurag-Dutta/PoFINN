{
 "cells": [
  {
   "cell_type": "markdown",
   "metadata": {
    "id": "pCGKeZ2gyuoQ"
   },
   "source": [
    "_Importing Required Libraries_"
   ]
  },
  {
   "cell_type": "code",
   "execution_count": 1,
   "metadata": {
    "colab": {
     "base_uri": "https://localhost:8080/"
    },
    "id": "A-6LN-zXiLcM",
    "outputId": "4de610a4-f8b8-4f49-c6c0-89de299ccedc"
   },
   "outputs": [
    {
     "name": "stdout",
     "output_type": "stream",
     "text": [
      "Requirement already satisfied: hampel in c:\\users\\anurag dutta\\appdata\\local\\packages\\pythonsoftwarefoundation.python.3.9_qbz5n2kfra8p0\\localcache\\local-packages\\python39\\site-packages (0.0.5)\n",
      "Requirement already satisfied: numpy in c:\\users\\anurag dutta\\appdata\\local\\packages\\pythonsoftwarefoundation.python.3.9_qbz5n2kfra8p0\\localcache\\local-packages\\python39\\site-packages (from hampel) (1.26.4)\n",
      "Requirement already satisfied: pandas in c:\\users\\anurag dutta\\appdata\\local\\packages\\pythonsoftwarefoundation.python.3.9_qbz5n2kfra8p0\\localcache\\local-packages\\python39\\site-packages (from hampel) (1.5.2)\n",
      "Requirement already satisfied: python-dateutil>=2.8.1 in c:\\users\\anurag dutta\\appdata\\local\\packages\\pythonsoftwarefoundation.python.3.9_qbz5n2kfra8p0\\localcache\\local-packages\\python39\\site-packages (from pandas->hampel) (2.8.2)\n",
      "Requirement already satisfied: pytz>=2020.1 in c:\\users\\anurag dutta\\appdata\\local\\packages\\pythonsoftwarefoundation.python.3.9_qbz5n2kfra8p0\\localcache\\local-packages\\python39\\site-packages (from pandas->hampel) (2023.3.post1)\n",
      "Requirement already satisfied: six>=1.5 in c:\\users\\anurag dutta\\appdata\\local\\packages\\pythonsoftwarefoundation.python.3.9_qbz5n2kfra8p0\\localcache\\local-packages\\python39\\site-packages (from python-dateutil>=2.8.1->pandas->hampel) (1.16.0)\n",
      "Note: you may need to restart the kernel to use updated packages.\n"
     ]
    },
    {
     "name": "stderr",
     "output_type": "stream",
     "text": [
      "\n",
      "[notice] A new release of pip is available: 24.2 -> 24.3.1\n",
      "[notice] To update, run: C:\\Users\\Anurag Dutta\\AppData\\Local\\Microsoft\\WindowsApps\\PythonSoftwareFoundation.Python.3.9_qbz5n2kfra8p0\\python.exe -m pip install --upgrade pip\n"
     ]
    }
   ],
   "source": [
    "pip install hampel"
   ]
  },
  {
   "cell_type": "code",
   "execution_count": 2,
   "metadata": {
    "id": "By_d9uXpaFvZ"
   },
   "outputs": [],
   "source": [
    "from keras.models import Sequential\n",
    "from keras.layers import Dense\n",
    "from keras.layers import LSTM\n",
    "from keras.layers import Dropout\n",
    "import keras\n",
    "import tensorflow as tf\n",
    "from hampel import hampel\n",
    "import numpy as np\n",
    "import matplotlib.pyplot as plt\n",
    "import pandas as pd\n",
    "from sklearn.preprocessing import MinMaxScaler\n",
    "from sklearn.metrics import mean_squared_error, mean_absolute_error\n",
    "from math import sqrt\n",
    "from matplotlib import pyplot\n",
    "from numpy import array"
   ]
  },
  {
   "cell_type": "markdown",
   "metadata": {
    "id": "JyOjBMFayuoR"
   },
   "source": [
    "## Pretraining"
   ]
  },
  {
   "cell_type": "markdown",
   "metadata": {
    "id": "-5QqIY_GyuoR"
   },
   "source": [
    "The `capa_intermittency.dat` feeds the model with the dynamics of the Capacitor"
   ]
  },
  {
   "cell_type": "code",
   "execution_count": 3,
   "metadata": {
    "id": "9dV4a8yfyuoR"
   },
   "outputs": [],
   "source": [
    "data = np.genfromtxt('capa_intermittency.dat')\n",
    "training_set = pd.DataFrame(data).reset_index(drop=True)\n",
    "training_set = training_set.iloc[:,0]"
   ]
  },
  {
   "cell_type": "markdown",
   "metadata": {
    "id": "i7easoxByuoR"
   },
   "source": [
    "## Computing the Gradient"
   ]
  },
  {
   "cell_type": "markdown",
   "metadata": {
    "id": "5SnyolJTyuoR"
   },
   "source": [
    "_Calculating the value of_ $\\frac{dx}{dt}$"
   ]
  },
  {
   "cell_type": "code",
   "execution_count": 4,
   "metadata": {
    "colab": {
     "base_uri": "https://localhost:8080/"
    },
    "id": "wmIbVfIvyuoR",
    "outputId": "aa4e3136-c854-465d-d2e9-81cfd546e440"
   },
   "outputs": [
    {
     "name": "stdout",
     "output_type": "stream",
     "text": [
      "1.0\n",
      "1        0.000298\n",
      "2        0.000298\n",
      "3        0.000297\n",
      "4        0.000297\n",
      "5        0.000297\n",
      "           ...   \n",
      "9996     0.000018\n",
      "9997     0.000018\n",
      "9998     0.000018\n",
      "9999     0.000018\n",
      "10000    0.000018\n",
      "Name: 0, Length: 10000, dtype: float64\n"
     ]
    }
   ],
   "source": [
    "t_diff = 1\n",
    "print(training_set.max())\n",
    "gradient_t = (training_set.diff()/t_diff).iloc[1:] # dx/dt\n",
    "print(gradient_t)"
   ]
  },
  {
   "cell_type": "markdown",
   "metadata": {
    "id": "_2eVeeoxyuoS"
   },
   "source": [
    "## Loading Datasets"
   ]
  },
  {
   "cell_type": "code",
   "execution_count": 5,
   "metadata": {
    "id": "0J-NKyIEyuoS"
   },
   "outputs": [
    {
     "data": {
      "text/plain": [
       "0       84.600000\n",
       "1       84.431933\n",
       "2       84.263866\n",
       "3       84.095798\n",
       "4       83.927731\n",
       "          ...    \n",
       "2095    49.315488\n",
       "2096    49.301949\n",
       "2097    49.288410\n",
       "2098    49.274872\n",
       "2099    49.261333\n",
       "Name: C6, Length: 2100, dtype: float64"
      ]
     },
     "execution_count": 5,
     "metadata": {},
     "output_type": "execute_result"
    }
   ],
   "source": [
    "data = pd.read_csv(\"c6_interpolated_2000_100.csv\")\n",
    "training_set = data.iloc[:, 1]\n",
    "training_set"
   ]
  },
  {
   "cell_type": "code",
   "execution_count": 6,
   "metadata": {
    "colab": {
     "base_uri": "https://localhost:8080/"
    },
    "id": "-CbNUhJ74UqF",
    "outputId": "20f562d8-8247-49cc-b9c3-00eca5e13e2d"
   },
   "outputs": [
    {
     "data": {
      "text/plain": [
       "0       84.600000\n",
       "1       84.431933\n",
       "2       84.263866\n",
       "3       84.095798\n",
       "4       83.927731\n",
       "          ...    \n",
       "1995     0.137562\n",
       "1996     0.042930\n",
       "1997     0.648720\n",
       "1998     0.536104\n",
       "1999     0.107818\n",
       "Name: C6, Length: 2000, dtype: float64"
      ]
     },
     "execution_count": 6,
     "metadata": {},
     "output_type": "execute_result"
    }
   ],
   "source": [
    "test = training_set.tail(100)\n",
    "test\n",
    "training_set = training_set.head(2000)\n",
    "training_set"
   ]
  },
  {
   "cell_type": "code",
   "execution_count": 7,
   "metadata": {
    "colab": {
     "base_uri": "https://localhost:8080/"
    },
    "id": "X0TwTcq0yuoS",
    "outputId": "37252ed8-d88e-4044-fa7a-922411990b5b"
   },
   "outputs": [
    {
     "name": "stdout",
     "output_type": "stream",
     "text": [
      "0       0.000298\n",
      "1       0.000298\n",
      "2       0.000297\n",
      "3       0.000297\n",
      "4       0.000297\n",
      "          ...   \n",
      "9995    0.000018\n",
      "9996    0.000018\n",
      "9997    0.000018\n",
      "9998    0.000018\n",
      "9999    0.000018\n",
      "Name: 0, Length: 10000, dtype: float64\n"
     ]
    }
   ],
   "source": [
    "training_set = training_set.reset_index(drop=True)\n",
    "gradient_t = gradient_t.reset_index(drop=True)\n",
    "print(gradient_t)"
   ]
  },
  {
   "cell_type": "code",
   "execution_count": 8,
   "metadata": {
    "id": "O2biznZQyuoS"
   },
   "outputs": [],
   "source": [
    "df = pd.concat((training_set, gradient_t), axis=1)\n",
    "df.columns = ['y_t', 'grad_t']"
   ]
  },
  {
   "cell_type": "code",
   "execution_count": 9,
   "metadata": {
    "colab": {
     "base_uri": "https://localhost:8080/",
     "height": 423
    },
    "id": "sk_a5v3tyuoS",
    "outputId": "17563625-e550-45ae-faab-fafa353e44da"
   },
   "outputs": [
    {
     "data": {
      "text/html": [
       "<div>\n",
       "<style scoped>\n",
       "    .dataframe tbody tr th:only-of-type {\n",
       "        vertical-align: middle;\n",
       "    }\n",
       "\n",
       "    .dataframe tbody tr th {\n",
       "        vertical-align: top;\n",
       "    }\n",
       "\n",
       "    .dataframe thead th {\n",
       "        text-align: right;\n",
       "    }\n",
       "</style>\n",
       "<table border=\"1\" class=\"dataframe\">\n",
       "  <thead>\n",
       "    <tr style=\"text-align: right;\">\n",
       "      <th></th>\n",
       "      <th>y_t</th>\n",
       "      <th>grad_t</th>\n",
       "    </tr>\n",
       "  </thead>\n",
       "  <tbody>\n",
       "    <tr>\n",
       "      <th>0</th>\n",
       "      <td>84.600000</td>\n",
       "      <td>0.000298</td>\n",
       "    </tr>\n",
       "    <tr>\n",
       "      <th>1</th>\n",
       "      <td>84.431933</td>\n",
       "      <td>0.000298</td>\n",
       "    </tr>\n",
       "    <tr>\n",
       "      <th>2</th>\n",
       "      <td>84.263866</td>\n",
       "      <td>0.000297</td>\n",
       "    </tr>\n",
       "    <tr>\n",
       "      <th>3</th>\n",
       "      <td>84.095798</td>\n",
       "      <td>0.000297</td>\n",
       "    </tr>\n",
       "    <tr>\n",
       "      <th>4</th>\n",
       "      <td>83.927731</td>\n",
       "      <td>0.000297</td>\n",
       "    </tr>\n",
       "    <tr>\n",
       "      <th>...</th>\n",
       "      <td>...</td>\n",
       "      <td>...</td>\n",
       "    </tr>\n",
       "    <tr>\n",
       "      <th>9995</th>\n",
       "      <td>NaN</td>\n",
       "      <td>0.000018</td>\n",
       "    </tr>\n",
       "    <tr>\n",
       "      <th>9996</th>\n",
       "      <td>NaN</td>\n",
       "      <td>0.000018</td>\n",
       "    </tr>\n",
       "    <tr>\n",
       "      <th>9997</th>\n",
       "      <td>NaN</td>\n",
       "      <td>0.000018</td>\n",
       "    </tr>\n",
       "    <tr>\n",
       "      <th>9998</th>\n",
       "      <td>NaN</td>\n",
       "      <td>0.000018</td>\n",
       "    </tr>\n",
       "    <tr>\n",
       "      <th>9999</th>\n",
       "      <td>NaN</td>\n",
       "      <td>0.000018</td>\n",
       "    </tr>\n",
       "  </tbody>\n",
       "</table>\n",
       "<p>10000 rows × 2 columns</p>\n",
       "</div>"
      ],
      "text/plain": [
       "            y_t    grad_t\n",
       "0     84.600000  0.000298\n",
       "1     84.431933  0.000298\n",
       "2     84.263866  0.000297\n",
       "3     84.095798  0.000297\n",
       "4     83.927731  0.000297\n",
       "...         ...       ...\n",
       "9995        NaN  0.000018\n",
       "9996        NaN  0.000018\n",
       "9997        NaN  0.000018\n",
       "9998        NaN  0.000018\n",
       "9999        NaN  0.000018\n",
       "\n",
       "[10000 rows x 2 columns]"
      ]
     },
     "execution_count": 9,
     "metadata": {},
     "output_type": "execute_result"
    }
   ],
   "source": [
    "df"
   ]
  },
  {
   "cell_type": "markdown",
   "metadata": {
    "id": "-5esyHu5aFvg"
   },
   "source": [
    "## Plot of the External Forcing from Chaotic Differential Equation"
   ]
  },
  {
   "cell_type": "code",
   "execution_count": 10,
   "metadata": {
    "colab": {
     "base_uri": "https://localhost:8080/",
     "height": 447
    },
    "id": "hGnE43tOh-4p",
    "outputId": "fc396503-b624-4fa5-dfbe-f460207405c6"
   },
   "outputs": [
    {
     "data": {
      "text/plain": [
       "<Axes: >"
      ]
     },
     "execution_count": 10,
     "metadata": {},
     "output_type": "execute_result"
    },
    {
     "data": {
      "image/png": "[encoded data removed]",
      "text/plain": [
       "<Figure size 432x288 with 1 Axes>"
      ]
     },
     "metadata": {
      "needs_background": "light"
     },
     "output_type": "display_data"
    }
   ],
   "source": [
    "df.iloc[:, 0].plot()"
   ]
  },
  {
   "cell_type": "code",
   "execution_count": 11,
   "metadata": {
    "colab": {
     "base_uri": "https://localhost:8080/",
     "height": 447
    },
    "id": "ym4xWUUxaFvg",
    "outputId": "ae6a3495-8ce9-437e-ba81-3ed31deedeae"
   },
   "outputs": [
    {
     "name": "stderr",
     "output_type": "stream",
     "text": [
      "C:\\Users\\Anurag Dutta\\AppData\\Local\\Packages\\PythonSoftwareFoundation.Python.3.9_qbz5n2kfra8p0\\LocalCache\\local-packages\\Python39\\site-packages\\pandas\\core\\arraylike.py:402: RuntimeWarning: divide by zero encountered in log\n",
      "  result = getattr(ufunc, method)(*inputs, **kwargs)\n"
     ]
    },
    {
     "data": {
      "text/plain": [
       "<Axes: >"
      ]
     },
     "execution_count": 11,
     "metadata": {},
     "output_type": "execute_result"
    },
    {
     "data": {
      "image/png": "[encoded data removed]",
      "text/plain": [
       "<Figure size 432x288 with 1 Axes>"
      ]
     },
     "metadata": {
      "needs_background": "light"
     },
     "output_type": "display_data"
    }
   ],
   "source": [
    "import numpy as np\n",
    "c0 = 82.7524  # Value for C0\n",
    "K0 = -0.0031  # Value for K0\n",
    "K1 = -0.0003  # Value for K1\n",
    "a = 0.0000    # Value for a\n",
    "b = 0.0171    # Value for b\n",
    "c = 3.0230    # Value for c\n",
    "\n",
    "L = np.minimum(c0, (df.iloc[:, 1] - (df.iloc[:, 0] * (K0 - K1 * (9 * a * np.log(df.iloc[:, 0] / c0) / (K0 - K1 * c)**2 + 4 * b * np.log(df.iloc[:, 0] / c0) / (K0 - K1 * c) + c)))))\n",
    "L.plot()"
   ]
  },
  {
   "cell_type": "markdown",
   "metadata": {
    "id": "9VyEywnwaFvh"
   },
   "source": [
    "## Preprocessing the data into supervised learning"
   ]
  },
  {
   "cell_type": "code",
   "execution_count": 12,
   "metadata": {
    "id": "6V9dXqzdaFvh"
   },
   "outputs": [],
   "source": [
    "# split a sequence into samples\n",
    "def Supervised(data, n_in=1, n_out=1, dropnan=True):\n",
    "    n_vars = 1 if type(data) is list else data.shape[1]\n",
    "    df = pd.DataFrame(data)\n",
    "    cols, names = list(), list()\n",
    "    # input sequence (t-n_in, ... t-1)\n",
    "    for i in range(n_in, 0, -1):\n",
    "        cols.append(df.shift(i))\n",
    "        names += [('var%d(t-%d)' % (j+1, i)) for j in range(n_vars)]\n",
    "    # forecast sequence (t, t+1, ... t+n_out)\n",
    "    for i in range(0, n_out):\n",
    "      cols.append(df.shift(-i))\n",
    "      if i == 0:\n",
    "        names += [('var%d(t)' % (j+1)) for j in range(n_vars)]\n",
    "      else:\n",
    "        names += [('var%d(t+%d)' % (j+1, i)) for j in range(n_vars)]\n",
    "    # put it all together\n",
    "    agg = pd.concat(cols, axis=1)\n",
    "    agg.columns = names\n",
    "    # drop rows with NaN values\n",
    "    if dropnan:\n",
    "       agg.dropna(inplace=True)\n",
    "    return agg"
   ]
  },
  {
   "cell_type": "code",
   "execution_count": 13,
   "metadata": {
    "colab": {
     "base_uri": "https://localhost:8080/"
    },
    "id": "CrzSrT1HnyfH",
    "outputId": "7e75f928-3e47-499d-eac1-51908015ef78"
   },
   "outputs": [
    {
     "name": "stdout",
     "output_type": "stream",
     "text": [
      "     var1(t-350)  var1(t-349)  var1(t-348)  var1(t-347)  var1(t-346)  \\\n",
      "350    84.600000    84.431933    84.263866    84.095798    83.927731   \n",
      "351    84.431933    84.263866    84.095798    83.927731    83.759664   \n",
      "352    84.263866    84.095798    83.927731    83.759664    83.591597   \n",
      "353    84.095798    83.927731    83.759664    83.591597    83.423529   \n",
      "354    83.927731    83.759664    83.591597    83.423529    83.255462   \n",
      "\n",
      "     var1(t-345)  var1(t-344)  var1(t-343)  var1(t-342)  var1(t-341)  ...  \\\n",
      "350    83.759664    83.591597    83.423529    83.255462    83.092437  ...   \n",
      "351    83.591597    83.423529    83.255462    83.092437    82.991597  ...   \n",
      "352    83.423529    83.255462    83.092437    82.991597    82.890756  ...   \n",
      "353    83.255462    83.092437    82.991597    82.890756    82.789916  ...   \n",
      "354    83.092437    82.991597    82.890756    82.789916    82.689076  ...   \n",
      "\n",
      "     var1(t+95)  var2(t+95)  var1(t+96)  var2(t+96)  var1(t+97)  var2(t+97)  \\\n",
      "350   70.003688    0.000263   69.960738    0.000263   69.917787    0.000263   \n",
      "351   69.960738    0.000263   69.917787    0.000263   69.874837    0.000262   \n",
      "352   69.917787    0.000263   69.874837    0.000262   69.831886    0.000262   \n",
      "353   69.874837    0.000262   69.831886    0.000262   69.788936    0.000262   \n",
      "354   69.831886    0.000262   69.788936    0.000262   69.745985    0.000262   \n",
      "\n",
      "     var1(t+98)  var2(t+98)  var1(t+99)  var2(t+99)  \n",
      "350   69.874837    0.000262   69.831886    0.000262  \n",
      "351   69.831886    0.000262   69.788936    0.000262  \n",
      "352   69.788936    0.000262   69.745985    0.000262  \n",
      "353   69.745985    0.000262   69.703035    0.000262  \n",
      "354   69.703035    0.000262   69.660084    0.000262  \n",
      "\n",
      "[5 rows x 551 columns]\n",
      "Index(['var1(t-350)', 'var1(t-349)', 'var1(t-348)', 'var1(t-347)',\n",
      "       'var1(t-346)', 'var1(t-345)', 'var1(t-344)', 'var1(t-343)',\n",
      "       'var1(t-342)', 'var1(t-341)',\n",
      "       ...\n",
      "       'var1(t+95)', 'var2(t+95)', 'var1(t+96)', 'var2(t+96)', 'var1(t+97)',\n",
      "       'var2(t+97)', 'var1(t+98)', 'var2(t+98)', 'var1(t+99)', 'var2(t+99)'],\n",
      "      dtype='object', length=551)\n"
     ]
    }
   ],
   "source": [
    "data = Supervised(df.values, n_in = 350, n_out = 100)\n",
    "\n",
    "\n",
    "cols_to_drop = []\n",
    "for i in range(2, 351):\n",
    "    cols_to_drop.extend([f'var2(t-{i})'])\n",
    "\n",
    "data.drop(cols_to_drop, axis=1, inplace=True)\n",
    "\n",
    "print(data.head())\n",
    "print(data.columns)"
   ]
  },
  {
   "cell_type": "code",
   "execution_count": 14,
   "metadata": {
    "id": "AfPf60oy6Pe4"
   },
   "outputs": [],
   "source": [
    "train = np.array(data[0:len(data)-1])\n",
    "forecast = np.array(data.tail(1))"
   ]
  },
  {
   "cell_type": "code",
   "execution_count": 15,
   "metadata": {
    "id": "WSAafzI37KiT"
   },
   "outputs": [],
   "source": [
    "trainy = train[:,-300:]\n",
    "trainX = train[:,:-300]"
   ]
  },
  {
   "cell_type": "code",
   "execution_count": 16,
   "metadata": {
    "id": "2SrOqVJA7f50"
   },
   "outputs": [],
   "source": [
    "forecasty = forecast[:,-300:]\n",
    "forecastX = forecast[:,:-300]"
   ]
  },
  {
   "cell_type": "code",
   "execution_count": 17,
   "metadata": {
    "colab": {
     "base_uri": "https://localhost:8080/"
    },
    "id": "Qno_k8Nw7saY",
    "outputId": "c4a88db5-d8c6-489f-cdb2-06b24e293cff"
   },
   "outputs": [
    {
     "name": "stdout",
     "output_type": "stream",
     "text": [
      "(1550, 1, 251) (1550, 300) (1, 1, 251)\n"
     ]
    }
   ],
   "source": [
    "trainX = trainX.reshape((trainX.shape[0], 1, trainX.shape[1]))\n",
    "forecastX = forecastX.reshape((forecastX.shape[0], 1, forecastX.shape[1]))\n",
    "print(trainX.shape, trainy.shape, forecastX.shape)"
   ]
  },
  {
   "cell_type": "code",
   "execution_count": 18,
   "metadata": {
    "colab": {
     "base_uri": "https://localhost:8080/"
    },
    "id": "b1Jp2DvNuNFx",
    "outputId": "d0e5b3c4-64f1-438c-eade-8dfeaac8e285"
   },
   "outputs": [
    {
     "name": "stdout",
     "output_type": "stream",
     "text": [
      "Epoch 1/500\n",
      "20/20 [==============================] - 3s 30ms/step - loss: 3749.4343 - val_loss: 2499.8062\n",
      "Epoch 2/500\n",
      "20/20 [==============================] - 0s 4ms/step - loss: 3653.7048 - val_loss: 2449.7444\n",
      "Epoch 3/500\n",
      "20/20 [==============================] - 0s 5ms/step - loss: 3578.4739 - val_loss: 2395.0989\n",
      "Epoch 4/500\n",
      "20/20 [==============================] - 0s 4ms/step - loss: 3504.1677 - val_loss: 2346.5142\n",
      "Epoch 5/500\n",
      "20/20 [==============================] - 0s 5ms/step - loss: 3434.8674 - val_loss: 2299.1245\n",
      "Epoch 6/500\n",
      "20/20 [==============================] - 0s 4ms/step - loss: 3367.1582 - val_loss: 2252.8621\n",
      "Epoch 7/500\n",
      "20/20 [==============================] - 0s 4ms/step - loss: 3300.8391 - val_loss: 2207.5886\n",
      "Epoch 8/500\n",
      "20/20 [==============================] - 0s 6ms/step - loss: 3235.7437 - val_loss: 2163.2197\n",
      "Epoch 9/500\n",
      "20/20 [==============================] - 0s 6ms/step - loss: 3171.7742 - val_loss: 2119.7048\n",
      "Epoch 10/500\n",
      "20/20 [==============================] - 0s 5ms/step - loss: 3108.8699 - val_loss: 2077.0093\n",
      "Epoch 11/500\n",
      "20/20 [==============================] - 0s 4ms/step - loss: 3046.9893 - val_loss: 2035.1064\n",
      "Epoch 12/500\n",
      "20/20 [==============================] - 0s 4ms/step - loss: 2986.1028 - val_loss: 1993.9738\n",
      "Epoch 13/500\n",
      "20/20 [==============================] - 0s 5ms/step - loss: 2926.1846 - val_loss: 1953.5836\n",
      "Epoch 14/500\n",
      "20/20 [==============================] - 0s 7ms/step - loss: 2867.2158 - val_loss: 1913.8508\n",
      "Epoch 15/500\n",
      "20/20 [==============================] - 0s 7ms/step - loss: 2807.1240 - val_loss: 1868.0969\n",
      "Epoch 16/500\n",
      "20/20 [==============================] - 0s 4ms/step - loss: 2738.9502 - val_loss: 1826.4393\n",
      "Epoch 17/500\n",
      "20/20 [==============================] - 0s 4ms/step - loss: 2678.1765 - val_loss: 1786.1906\n",
      "Epoch 18/500\n",
      "20/20 [==============================] - 0s 4ms/step - loss: 2619.2563 - val_loss: 1747.2439\n",
      "Epoch 19/500\n",
      "20/20 [==============================] - 0s 4ms/step - loss: 2561.8901 - val_loss: 1709.3766\n",
      "Epoch 20/500\n",
      "20/20 [==============================] - 0s 5ms/step - loss: 2505.8345 - val_loss: 1672.4615\n",
      "Epoch 21/500\n",
      "20/20 [==============================] - 0s 4ms/step - loss: 2450.9512 - val_loss: 1636.4226\n",
      "Epoch 22/500\n",
      "20/20 [==============================] - 0s 5ms/step - loss: 2397.1548 - val_loss: 1601.2094\n",
      "Epoch 23/500\n",
      "20/20 [==============================] - 0s 5ms/step - loss: 2344.3855 - val_loss: 1566.7853\n",
      "Epoch 24/500\n",
      "20/20 [==============================] - 0s 5ms/step - loss: 2292.6013 - val_loss: 1533.1221\n",
      "Epoch 25/500\n",
      "20/20 [==============================] - 0s 5ms/step - loss: 2241.7688 - val_loss: 1500.1967\n",
      "Epoch 26/500\n",
      "20/20 [==============================] - 0s 4ms/step - loss: 2191.8594 - val_loss: 1467.9899\n",
      "Epoch 27/500\n",
      "20/20 [==============================] - 0s 4ms/step - loss: 2142.8511 - val_loss: 1436.4847\n",
      "Epoch 28/500\n",
      "20/20 [==============================] - 0s 4ms/step - loss: 2094.7236 - val_loss: 1405.6666\n",
      "Epoch 29/500\n",
      "20/20 [==============================] - 0s 4ms/step - loss: 2047.4575 - val_loss: 1375.5211\n",
      "Epoch 30/500\n",
      "20/20 [==============================] - 0s 4ms/step - loss: 2001.0381 - val_loss: 1346.0365\n",
      "Epoch 31/500\n",
      "20/20 [==============================] - 0s 4ms/step - loss: 1955.4496 - val_loss: 1317.2008\n",
      "Epoch 32/500\n",
      "20/20 [==============================] - 0s 4ms/step - loss: 1910.6785 - val_loss: 1289.0026\n",
      "Epoch 33/500\n",
      "20/20 [==============================] - 0s 5ms/step - loss: 1866.7111 - val_loss: 1261.4320\n",
      "Epoch 34/500\n",
      "20/20 [==============================] - 0s 4ms/step - loss: 1823.5355 - val_loss: 1234.4781\n",
      "Epoch 35/500\n",
      "20/20 [==============================] - 0s 5ms/step - loss: 1781.1389 - val_loss: 1208.1318\n",
      "Epoch 36/500\n",
      "20/20 [==============================] - 0s 5ms/step - loss: 1739.5109 - val_loss: 1182.3837\n",
      "Epoch 37/500\n",
      "20/20 [==============================] - 0s 4ms/step - loss: 1698.6399 - val_loss: 1157.2244\n",
      "Epoch 38/500\n",
      "20/20 [==============================] - 0s 4ms/step - loss: 1658.5155 - val_loss: 1132.6448\n",
      "Epoch 39/500\n",
      "20/20 [==============================] - 0s 5ms/step - loss: 1619.1268 - val_loss: 1108.6372\n",
      "Epoch 40/500\n",
      "20/20 [==============================] - 0s 6ms/step - loss: 1580.4644 - val_loss: 1085.1920\n",
      "Epoch 41/500\n",
      "20/20 [==============================] - 0s 6ms/step - loss: 1542.5176 - val_loss: 1062.3020\n",
      "Epoch 42/500\n",
      "20/20 [==============================] - 0s 7ms/step - loss: 1505.2775 - val_loss: 1039.9583\n",
      "Epoch 43/500\n",
      "20/20 [==============================] - 0s 8ms/step - loss: 1468.7344 - val_loss: 1018.1530\n",
      "Epoch 44/500\n",
      "20/20 [==============================] - 0s 12ms/step - loss: 1432.8787 - val_loss: 996.8782\n",
      "Epoch 45/500\n",
      "20/20 [==============================] - 0s 7ms/step - loss: 1397.7013 - val_loss: 976.1264\n",
      "Epoch 46/500\n",
      "20/20 [==============================] - 0s 6ms/step - loss: 1363.1937 - val_loss: 955.8897\n",
      "Epoch 47/500\n",
      "20/20 [==============================] - 0s 6ms/step - loss: 1329.3469 - val_loss: 936.1606\n",
      "Epoch 48/500\n",
      "20/20 [==============================] - 0s 14ms/step - loss: 1296.1519 - val_loss: 916.9316\n",
      "Epoch 49/500\n",
      "20/20 [==============================] - 0s 6ms/step - loss: 1263.6003 - val_loss: 898.1954\n",
      "Epoch 50/500\n",
      "20/20 [==============================] - 0s 6ms/step - loss: 1231.6832 - val_loss: 879.9443\n",
      "Epoch 51/500\n",
      "20/20 [==============================] - 0s 12ms/step - loss: 1200.3927 - val_loss: 862.1716\n",
      "Epoch 52/500\n",
      "20/20 [==============================] - 0s 6ms/step - loss: 1169.7202 - val_loss: 844.8701\n",
      "Epoch 53/500\n",
      "20/20 [==============================] - 0s 5ms/step - loss: 1139.6575 - val_loss: 828.0319\n",
      "Epoch 54/500\n",
      "20/20 [==============================] - 0s 5ms/step - loss: 1110.1965 - val_loss: 811.6509\n",
      "Epoch 55/500\n",
      "20/20 [==============================] - 0s 5ms/step - loss: 1081.3290 - val_loss: 795.7194\n",
      "Epoch 56/500\n",
      "20/20 [==============================] - 0s 6ms/step - loss: 1053.0471 - val_loss: 780.2311\n",
      "Epoch 57/500\n",
      "20/20 [==============================] - 0s 6ms/step - loss: 1025.3435 - val_loss: 765.1788\n",
      "Epoch 58/500\n",
      "20/20 [==============================] - 0s 5ms/step - loss: 998.2093 - val_loss: 750.5558\n",
      "Epoch 59/500\n",
      "20/20 [==============================] - 0s 5ms/step - loss: 971.6373 - val_loss: 736.3552\n",
      "Epoch 60/500\n",
      "20/20 [==============================] - 0s 5ms/step - loss: 945.6191 - val_loss: 722.5703\n",
      "Epoch 61/500\n",
      "20/20 [==============================] - 0s 5ms/step - loss: 920.1482 - val_loss: 709.1946\n",
      "Epoch 62/500\n",
      "20/20 [==============================] - 0s 5ms/step - loss: 895.2166 - val_loss: 696.2213\n",
      "Epoch 63/500\n",
      "20/20 [==============================] - 0s 5ms/step - loss: 870.8165 - val_loss: 683.6442\n",
      "Epoch 64/500\n",
      "20/20 [==============================] - 0s 5ms/step - loss: 846.9407 - val_loss: 671.4565\n",
      "Epoch 65/500\n",
      "20/20 [==============================] - 0s 5ms/step - loss: 823.5818 - val_loss: 659.6517\n",
      "Epoch 66/500\n",
      "20/20 [==============================] - 0s 5ms/step - loss: 800.7322 - val_loss: 648.2235\n",
      "Epoch 67/500\n",
      "20/20 [==============================] - 0s 5ms/step - loss: 778.3847 - val_loss: 637.1653\n",
      "Epoch 68/500\n",
      "20/20 [==============================] - 0s 5ms/step - loss: 756.5320 - val_loss: 626.4709\n",
      "Epoch 69/500\n",
      "20/20 [==============================] - 0s 5ms/step - loss: 735.1672 - val_loss: 616.1342\n",
      "Epoch 70/500\n",
      "20/20 [==============================] - 0s 5ms/step - loss: 714.2831 - val_loss: 606.1486\n",
      "Epoch 71/500\n",
      "20/20 [==============================] - 0s 5ms/step - loss: 693.8722 - val_loss: 596.5081\n",
      "Epoch 72/500\n",
      "20/20 [==============================] - 0s 5ms/step - loss: 673.9280 - val_loss: 587.2062\n",
      "Epoch 73/500\n",
      "20/20 [==============================] - 0s 5ms/step - loss: 654.4428 - val_loss: 578.2371\n",
      "Epoch 74/500\n",
      "20/20 [==============================] - 0s 5ms/step - loss: 635.4103 - val_loss: 569.5944\n",
      "Epoch 75/500\n",
      "20/20 [==============================] - 0s 5ms/step - loss: 616.8234 - val_loss: 561.2726\n",
      "Epoch 76/500\n",
      "20/20 [==============================] - 0s 11ms/step - loss: 598.6755 - val_loss: 553.2652\n",
      "Epoch 77/500\n",
      "20/20 [==============================] - 0s 5ms/step - loss: 580.9595 - val_loss: 545.5662\n",
      "Epoch 78/500\n",
      "20/20 [==============================] - 0s 5ms/step - loss: 563.6685 - val_loss: 538.1697\n",
      "Epoch 79/500\n",
      "20/20 [==============================] - 0s 5ms/step - loss: 546.7961 - val_loss: 531.0700\n",
      "Epoch 80/500\n",
      "20/20 [==============================] - 0s 5ms/step - loss: 530.3353 - val_loss: 524.2607\n",
      "Epoch 81/500\n",
      "20/20 [==============================] - 0s 5ms/step - loss: 514.2794 - val_loss: 517.7366\n",
      "Epoch 82/500\n",
      "20/20 [==============================] - 0s 5ms/step - loss: 498.6223 - val_loss: 511.4915\n",
      "Epoch 83/500\n",
      "20/20 [==============================] - 0s 5ms/step - loss: 483.3573 - val_loss: 505.5198\n",
      "Epoch 84/500\n",
      "20/20 [==============================] - 0s 5ms/step - loss: 468.4777 - val_loss: 499.8156\n",
      "Epoch 85/500\n",
      "20/20 [==============================] - 0s 5ms/step - loss: 453.9773 - val_loss: 494.3734\n",
      "Epoch 86/500\n",
      "20/20 [==============================] - 0s 5ms/step - loss: 439.8493 - val_loss: 489.1874\n",
      "Epoch 87/500\n",
      "20/20 [==============================] - 0s 5ms/step - loss: 426.0878 - val_loss: 484.2522\n",
      "Epoch 88/500\n",
      "20/20 [==============================] - 0s 5ms/step - loss: 412.6860 - val_loss: 479.5619\n",
      "Epoch 89/500\n",
      "20/20 [==============================] - 0s 4ms/step - loss: 399.6380 - val_loss: 475.1111\n",
      "Epoch 90/500\n",
      "20/20 [==============================] - 0s 4ms/step - loss: 386.9373 - val_loss: 470.8944\n",
      "Epoch 91/500\n",
      "20/20 [==============================] - 0s 4ms/step - loss: 374.5778 - val_loss: 466.9063\n",
      "Epoch 92/500\n",
      "20/20 [==============================] - 0s 5ms/step - loss: 362.5536 - val_loss: 463.1414\n",
      "Epoch 93/500\n",
      "20/20 [==============================] - 0s 5ms/step - loss: 350.8581 - val_loss: 459.5943\n",
      "Epoch 94/500\n",
      "20/20 [==============================] - 0s 4ms/step - loss: 339.4857 - val_loss: 456.2595\n",
      "Epoch 95/500\n",
      "20/20 [==============================] - 0s 4ms/step - loss: 328.4301 - val_loss: 453.1322\n",
      "Epoch 96/500\n",
      "20/20 [==============================] - 0s 4ms/step - loss: 317.6856 - val_loss: 450.2065\n",
      "Epoch 97/500\n",
      "20/20 [==============================] - 0s 5ms/step - loss: 307.2461 - val_loss: 447.4776\n",
      "Epoch 98/500\n",
      "20/20 [==============================] - 0s 4ms/step - loss: 297.1057 - val_loss: 444.9403\n",
      "Epoch 99/500\n",
      "20/20 [==============================] - 0s 6ms/step - loss: 287.2588 - val_loss: 442.5894\n",
      "Epoch 100/500\n",
      "20/20 [==============================] - 0s 5ms/step - loss: 277.6992 - val_loss: 440.4196\n",
      "Epoch 101/500\n",
      "20/20 [==============================] - 0s 5ms/step - loss: 268.4211 - val_loss: 438.4262\n",
      "Epoch 102/500\n",
      "20/20 [==============================] - 0s 5ms/step - loss: 259.4192 - val_loss: 436.6040\n",
      "Epoch 103/500\n",
      "20/20 [==============================] - 0s 5ms/step - loss: 250.6877 - val_loss: 434.9483\n",
      "Epoch 104/500\n",
      "20/20 [==============================] - 0s 5ms/step - loss: 242.2209 - val_loss: 433.4539\n",
      "Epoch 105/500\n",
      "20/20 [==============================] - 0s 11ms/step - loss: 234.0135 - val_loss: 432.1161\n",
      "Epoch 106/500\n",
      "20/20 [==============================] - 0s 12ms/step - loss: 226.0599 - val_loss: 430.9301\n",
      "Epoch 107/500\n",
      "20/20 [==============================] - 0s 4ms/step - loss: 218.3544 - val_loss: 429.8911\n",
      "Epoch 108/500\n",
      "20/20 [==============================] - 0s 5ms/step - loss: 210.8920 - val_loss: 428.9944\n",
      "Epoch 109/500\n",
      "20/20 [==============================] - 0s 5ms/step - loss: 203.6669 - val_loss: 428.2354\n",
      "Epoch 110/500\n",
      "20/20 [==============================] - 0s 5ms/step - loss: 196.6742 - val_loss: 427.6094\n",
      "Epoch 111/500\n",
      "20/20 [==============================] - 0s 5ms/step - loss: 189.9085 - val_loss: 427.1119\n",
      "Epoch 112/500\n",
      "20/20 [==============================] - 0s 4ms/step - loss: 183.3645 - val_loss: 426.7385\n",
      "Epoch 113/500\n",
      "20/20 [==============================] - 0s 6ms/step - loss: 177.0371 - val_loss: 426.4846\n",
      "Epoch 114/500\n",
      "20/20 [==============================] - 0s 6ms/step - loss: 170.9212 - val_loss: 426.3458\n",
      "Epoch 115/500\n",
      "20/20 [==============================] - 0s 6ms/step - loss: 165.0120 - val_loss: 426.3178\n",
      "Epoch 116/500\n",
      "20/20 [==============================] - 0s 6ms/step - loss: 159.3042 - val_loss: 426.3965\n",
      "Epoch 117/500\n",
      "20/20 [==============================] - 0s 7ms/step - loss: 153.7932 - val_loss: 426.5774\n",
      "Epoch 118/500\n",
      "20/20 [==============================] - 0s 5ms/step - loss: 148.4738 - val_loss: 426.8566\n",
      "Epoch 119/500\n",
      "20/20 [==============================] - 0s 5ms/step - loss: 143.3414 - val_loss: 427.2298\n",
      "Epoch 120/500\n",
      "20/20 [==============================] - 0s 6ms/step - loss: 138.3911 - val_loss: 427.6931\n",
      "Epoch 121/500\n",
      "20/20 [==============================] - 0s 6ms/step - loss: 133.6184 - val_loss: 428.2423\n",
      "Epoch 122/500\n",
      "20/20 [==============================] - 0s 12ms/step - loss: 129.0184 - val_loss: 428.8736\n",
      "Epoch 123/500\n",
      "20/20 [==============================] - 0s 6ms/step - loss: 124.5869 - val_loss: 429.5833\n",
      "Epoch 124/500\n",
      "20/20 [==============================] - 0s 6ms/step - loss: 120.3192 - val_loss: 430.3676\n",
      "Epoch 125/500\n",
      "20/20 [==============================] - 0s 6ms/step - loss: 116.2108 - val_loss: 431.2224\n",
      "Epoch 126/500\n",
      "20/20 [==============================] - 0s 5ms/step - loss: 112.2573 - val_loss: 432.1443\n",
      "Epoch 127/500\n",
      "20/20 [==============================] - 0s 6ms/step - loss: 108.4544 - val_loss: 433.1298\n",
      "Epoch 128/500\n",
      "20/20 [==============================] - 0s 5ms/step - loss: 104.7980 - val_loss: 434.1752\n",
      "Epoch 129/500\n",
      "20/20 [==============================] - 0s 5ms/step - loss: 101.2836 - val_loss: 435.2771\n",
      "Epoch 130/500\n",
      "20/20 [==============================] - 0s 5ms/step - loss: 97.9073 - val_loss: 436.4321\n",
      "Epoch 131/500\n",
      "20/20 [==============================] - 0s 5ms/step - loss: 94.6651 - val_loss: 437.6368\n",
      "Epoch 132/500\n",
      "20/20 [==============================] - 0s 5ms/step - loss: 91.5529 - val_loss: 438.8880\n",
      "Epoch 133/500\n",
      "20/20 [==============================] - 0s 6ms/step - loss: 88.5666 - val_loss: 440.1826\n",
      "Epoch 134/500\n",
      "20/20 [==============================] - 0s 18ms/step - loss: 85.7025 - val_loss: 441.5174\n",
      "Epoch 135/500\n",
      "20/20 [==============================] - 0s 15ms/step - loss: 82.9566 - val_loss: 442.8893\n",
      "Epoch 136/500\n",
      "20/20 [==============================] - 0s 6ms/step - loss: 80.3256 - val_loss: 444.2955\n",
      "Epoch 137/500\n",
      "20/20 [==============================] - 0s 6ms/step - loss: 77.8054 - val_loss: 445.7330\n",
      "Epoch 138/500\n",
      "20/20 [==============================] - 0s 8ms/step - loss: 75.3928 - val_loss: 447.1987\n",
      "Epoch 139/500\n",
      "20/20 [==============================] - 0s 6ms/step - loss: 73.0839 - val_loss: 448.6905\n",
      "Epoch 140/500\n",
      "20/20 [==============================] - 0s 6ms/step - loss: 70.8753 - val_loss: 450.2052\n",
      "Epoch 141/500\n",
      "20/20 [==============================] - 0s 6ms/step - loss: 68.7638 - val_loss: 451.7403\n",
      "Epoch 142/500\n",
      "20/20 [==============================] - 0s 7ms/step - loss: 66.7459 - val_loss: 453.2935\n",
      "Epoch 143/500\n",
      "20/20 [==============================] - 0s 6ms/step - loss: 64.8184 - val_loss: 454.8621\n",
      "Epoch 144/500\n",
      "20/20 [==============================] - 0s 6ms/step - loss: 62.9782 - val_loss: 456.4438\n",
      "Epoch 145/500\n",
      "20/20 [==============================] - 0s 6ms/step - loss: 61.2221 - val_loss: 458.0361\n",
      "Epoch 146/500\n",
      "20/20 [==============================] - 0s 6ms/step - loss: 59.5471 - val_loss: 459.6372\n",
      "Epoch 147/500\n",
      "20/20 [==============================] - 0s 7ms/step - loss: 57.9502 - val_loss: 461.2446\n",
      "Epoch 148/500\n",
      "20/20 [==============================] - 0s 6ms/step - loss: 56.4285 - val_loss: 462.8564\n",
      "Epoch 149/500\n",
      "20/20 [==============================] - 0s 7ms/step - loss: 54.9793 - val_loss: 464.4705\n",
      "Epoch 150/500\n",
      "20/20 [==============================] - 0s 5ms/step - loss: 53.5997 - val_loss: 466.0848\n",
      "Epoch 151/500\n",
      "20/20 [==============================] - 0s 5ms/step - loss: 52.2870 - val_loss: 467.6978\n",
      "Epoch 152/500\n",
      "20/20 [==============================] - 0s 5ms/step - loss: 51.0387 - val_loss: 469.3076\n",
      "Epoch 153/500\n",
      "20/20 [==============================] - 0s 6ms/step - loss: 49.8521 - val_loss: 470.9123\n",
      "Epoch 154/500\n",
      "20/20 [==============================] - 0s 5ms/step - loss: 48.7249 - val_loss: 472.5105\n",
      "Epoch 155/500\n",
      "20/20 [==============================] - 0s 5ms/step - loss: 47.6545 - val_loss: 474.1006\n",
      "Epoch 156/500\n",
      "20/20 [==============================] - 0s 5ms/step - loss: 46.6386 - val_loss: 475.6809\n",
      "Epoch 157/500\n",
      "20/20 [==============================] - 0s 6ms/step - loss: 45.6749 - val_loss: 477.2503\n",
      "Epoch 158/500\n",
      "20/20 [==============================] - 0s 6ms/step - loss: 44.7614 - val_loss: 478.8072\n",
      "Epoch 159/500\n",
      "20/20 [==============================] - 0s 7ms/step - loss: 43.8956 - val_loss: 480.3505\n",
      "Epoch 160/500\n",
      "20/20 [==============================] - 0s 7ms/step - loss: 43.0758 - val_loss: 481.8790\n",
      "Epoch 161/500\n",
      "20/20 [==============================] - 0s 5ms/step - loss: 42.2996 - val_loss: 483.3915\n",
      "Epoch 162/500\n",
      "20/20 [==============================] - 0s 11ms/step - loss: 41.5653 - val_loss: 484.8868\n",
      "Epoch 163/500\n",
      "20/20 [==============================] - 0s 5ms/step - loss: 40.8710 - val_loss: 486.3640\n",
      "Epoch 164/500\n",
      "20/20 [==============================] - 0s 5ms/step - loss: 40.2147 - val_loss: 487.8221\n",
      "Epoch 165/500\n",
      "20/20 [==============================] - 0s 6ms/step - loss: 39.5949 - val_loss: 489.2606\n",
      "Epoch 166/500\n",
      "20/20 [==============================] - 0s 5ms/step - loss: 39.0096 - val_loss: 490.6780\n",
      "Epoch 167/500\n",
      "20/20 [==============================] - 0s 6ms/step - loss: 38.4574 - val_loss: 492.0742\n",
      "Epoch 168/500\n",
      "20/20 [==============================] - 0s 6ms/step - loss: 37.9366 - val_loss: 493.4481\n",
      "Epoch 169/500\n",
      "20/20 [==============================] - 0s 12ms/step - loss: 37.4456 - val_loss: 494.7991\n",
      "Epoch 170/500\n",
      "20/20 [==============================] - 0s 7ms/step - loss: 36.9831 - val_loss: 496.1270\n",
      "Epoch 171/500\n",
      "20/20 [==============================] - 0s 5ms/step - loss: 36.5475 - val_loss: 497.4309\n",
      "Epoch 172/500\n",
      "20/20 [==============================] - 0s 5ms/step - loss: 36.1377 - val_loss: 498.7105\n",
      "Epoch 173/500\n",
      "20/20 [==============================] - 0s 7ms/step - loss: 35.7521 - val_loss: 499.9654\n",
      "Epoch 174/500\n",
      "20/20 [==============================] - 0s 5ms/step - loss: 35.3896 - val_loss: 501.1951\n",
      "Epoch 175/500\n",
      "20/20 [==============================] - 0s 6ms/step - loss: 35.0490 - val_loss: 502.3994\n",
      "Epoch 176/500\n",
      "20/20 [==============================] - 0s 6ms/step - loss: 34.7291 - val_loss: 503.5781\n",
      "Epoch 177/500\n",
      "20/20 [==============================] - 0s 5ms/step - loss: 34.4288 - val_loss: 504.7308\n",
      "Epoch 178/500\n",
      "20/20 [==============================] - 0s 5ms/step - loss: 34.1470 - val_loss: 505.8573\n",
      "Epoch 179/500\n",
      "20/20 [==============================] - 0s 5ms/step - loss: 33.8829 - val_loss: 506.9578\n",
      "Epoch 180/500\n",
      "20/20 [==============================] - 0s 6ms/step - loss: 33.6353 - val_loss: 508.0320\n",
      "Epoch 181/500\n",
      "20/20 [==============================] - 0s 6ms/step - loss: 33.4033 - val_loss: 509.0799\n",
      "Epoch 182/500\n",
      "20/20 [==============================] - 0s 6ms/step - loss: 33.1860 - val_loss: 510.1017\n",
      "Epoch 183/500\n",
      "20/20 [==============================] - 0s 6ms/step - loss: 32.9827 - val_loss: 511.0971\n",
      "Epoch 184/500\n",
      "20/20 [==============================] - 0s 6ms/step - loss: 32.7925 - val_loss: 512.0664\n",
      "Epoch 185/500\n",
      "20/20 [==============================] - 0s 6ms/step - loss: 32.6146 - val_loss: 513.0097\n",
      "Epoch 186/500\n",
      "20/20 [==============================] - 0s 6ms/step - loss: 32.4484 - val_loss: 513.9270\n",
      "Epoch 187/500\n",
      "20/20 [==============================] - 0s 6ms/step - loss: 32.2931 - val_loss: 514.8184\n",
      "Epoch 188/500\n",
      "20/20 [==============================] - 0s 5ms/step - loss: 32.1481 - val_loss: 515.6845\n",
      "Epoch 189/500\n",
      "20/20 [==============================] - 0s 5ms/step - loss: 32.0128 - val_loss: 516.5252\n",
      "Epoch 190/500\n",
      "20/20 [==============================] - 0s 5ms/step - loss: 31.8865 - val_loss: 517.3408\n",
      "Epoch 191/500\n",
      "20/20 [==============================] - 0s 5ms/step - loss: 31.7687 - val_loss: 518.1318\n",
      "Epoch 192/500\n",
      "20/20 [==============================] - 0s 5ms/step - loss: 31.6589 - val_loss: 518.8983\n",
      "Epoch 193/500\n",
      "20/20 [==============================] - 0s 5ms/step - loss: 31.5565 - val_loss: 519.6403\n",
      "Epoch 194/500\n",
      "20/20 [==============================] - 0s 13ms/step - loss: 31.4613 - val_loss: 520.3589\n",
      "Epoch 195/500\n",
      "20/20 [==============================] - 0s 6ms/step - loss: 31.3725 - val_loss: 521.0538\n",
      "Epoch 196/500\n",
      "20/20 [==============================] - 0s 7ms/step - loss: 31.2899 - val_loss: 521.7256\n",
      "Epoch 197/500\n",
      "20/20 [==============================] - 0s 7ms/step - loss: 31.2131 - val_loss: 522.3747\n",
      "Epoch 198/500\n",
      "20/20 [==============================] - 0s 7ms/step - loss: 31.1416 - val_loss: 523.0019\n",
      "Epoch 199/500\n",
      "20/20 [==============================] - 0s 7ms/step - loss: 31.0750 - val_loss: 523.6068\n",
      "Epoch 200/500\n",
      "20/20 [==============================] - 0s 7ms/step - loss: 31.0132 - val_loss: 524.1903\n",
      "Epoch 201/500\n",
      "20/20 [==============================] - 0s 6ms/step - loss: 30.9558 - val_loss: 524.7531\n",
      "Epoch 202/500\n",
      "20/20 [==============================] - 0s 6ms/step - loss: 30.9024 - val_loss: 525.2950\n",
      "Epoch 203/500\n",
      "20/20 [==============================] - 0s 6ms/step - loss: 30.8528 - val_loss: 525.8171\n",
      "Epoch 204/500\n",
      "20/20 [==============================] - 0s 5ms/step - loss: 30.8068 - val_loss: 526.3193\n",
      "Epoch 205/500\n",
      "20/20 [==============================] - 0s 5ms/step - loss: 30.7641 - val_loss: 526.8027\n",
      "Epoch 206/500\n",
      "20/20 [==============================] - 0s 6ms/step - loss: 30.7244 - val_loss: 527.2673\n",
      "Epoch 207/500\n",
      "20/20 [==============================] - 0s 5ms/step - loss: 30.6875 - val_loss: 527.7136\n",
      "Epoch 208/500\n",
      "20/20 [==============================] - 0s 5ms/step - loss: 30.6534 - val_loss: 528.1420\n",
      "Epoch 209/500\n",
      "20/20 [==============================] - 0s 5ms/step - loss: 30.6217 - val_loss: 528.5533\n",
      "Epoch 210/500\n",
      "20/20 [==============================] - 0s 5ms/step - loss: 30.5923 - val_loss: 528.9479\n",
      "Epoch 211/500\n",
      "20/20 [==============================] - 0s 5ms/step - loss: 30.5650 - val_loss: 529.3259\n",
      "Epoch 212/500\n",
      "20/20 [==============================] - 0s 5ms/step - loss: 30.5398 - val_loss: 529.6882\n",
      "Epoch 213/500\n",
      "20/20 [==============================] - 0s 7ms/step - loss: 30.5163 - val_loss: 530.0352\n",
      "Epoch 214/500\n",
      "20/20 [==============================] - 0s 15ms/step - loss: 30.4946 - val_loss: 530.3674\n",
      "Epoch 215/500\n",
      "20/20 [==============================] - 0s 9ms/step - loss: 30.4745 - val_loss: 530.6848\n",
      "Epoch 216/500\n",
      "20/20 [==============================] - 0s 6ms/step - loss: 30.4559 - val_loss: 530.9882\n",
      "Epoch 217/500\n",
      "20/20 [==============================] - 0s 6ms/step - loss: 30.4386 - val_loss: 531.2784\n",
      "Epoch 218/500\n",
      "20/20 [==============================] - 0s 7ms/step - loss: 30.4226 - val_loss: 531.5554\n",
      "Epoch 219/500\n",
      "20/20 [==============================] - 0s 7ms/step - loss: 30.4078 - val_loss: 531.8196\n",
      "Epoch 220/500\n",
      "20/20 [==============================] - 0s 7ms/step - loss: 30.3941 - val_loss: 532.0718\n",
      "Epoch 221/500\n",
      "20/20 [==============================] - 0s 7ms/step - loss: 30.3814 - val_loss: 532.3118\n",
      "Epoch 222/500\n",
      "20/20 [==============================] - 0s 12ms/step - loss: 30.3697 - val_loss: 532.5413\n",
      "Epoch 223/500\n",
      "20/20 [==============================] - 0s 10ms/step - loss: 30.3588 - val_loss: 532.7590\n",
      "Epoch 224/500\n",
      "20/20 [==============================] - 0s 7ms/step - loss: 30.3487 - val_loss: 532.9664\n",
      "Epoch 225/500\n",
      "20/20 [==============================] - 0s 6ms/step - loss: 30.3394 - val_loss: 533.1640\n",
      "Epoch 226/500\n",
      "20/20 [==============================] - 0s 6ms/step - loss: 30.3308 - val_loss: 533.3515\n",
      "Epoch 227/500\n",
      "20/20 [==============================] - 0s 7ms/step - loss: 30.3229 - val_loss: 533.5297\n",
      "Epoch 228/500\n",
      "20/20 [==============================] - 0s 7ms/step - loss: 30.3155 - val_loss: 533.6987\n",
      "Epoch 229/500\n",
      "20/20 [==============================] - 0s 7ms/step - loss: 30.3088 - val_loss: 533.8597\n",
      "Epoch 230/500\n",
      "20/20 [==============================] - 0s 7ms/step - loss: 30.3025 - val_loss: 534.0121\n",
      "Epoch 231/500\n",
      "20/20 [==============================] - 0s 8ms/step - loss: 30.2967 - val_loss: 534.1563\n",
      "Epoch 232/500\n",
      "20/20 [==============================] - 0s 8ms/step - loss: 30.2914 - val_loss: 534.2930\n",
      "Epoch 233/500\n",
      "20/20 [==============================] - 0s 7ms/step - loss: 30.2865 - val_loss: 534.4225\n",
      "Epoch 234/500\n",
      "20/20 [==============================] - 0s 6ms/step - loss: 30.2820 - val_loss: 534.5451\n",
      "Epoch 235/500\n",
      "20/20 [==============================] - 0s 6ms/step - loss: 30.2779 - val_loss: 534.6609\n",
      "Epoch 236/500\n",
      "20/20 [==============================] - 0s 5ms/step - loss: 30.2741 - val_loss: 534.7707\n",
      "Epoch 237/500\n",
      "20/20 [==============================] - 0s 5ms/step - loss: 30.2705 - val_loss: 534.8742\n",
      "Epoch 238/500\n",
      "20/20 [==============================] - 0s 6ms/step - loss: 30.2673 - val_loss: 534.9718\n",
      "Epoch 239/500\n",
      "20/20 [==============================] - 0s 6ms/step - loss: 30.2644 - val_loss: 535.0638\n",
      "Epoch 240/500\n",
      "20/20 [==============================] - 0s 6ms/step - loss: 30.2617 - val_loss: 535.1507\n",
      "Epoch 241/500\n",
      "20/20 [==============================] - 0s 6ms/step - loss: 30.2593 - val_loss: 535.2324\n",
      "Epoch 242/500\n",
      "20/20 [==============================] - 0s 6ms/step - loss: 30.2571 - val_loss: 535.3094\n",
      "Epoch 243/500\n",
      "20/20 [==============================] - 0s 6ms/step - loss: 30.2551 - val_loss: 535.3820\n",
      "Epoch 244/500\n",
      "20/20 [==============================] - 0s 6ms/step - loss: 30.2532 - val_loss: 535.4503\n",
      "Epoch 245/500\n",
      "20/20 [==============================] - 0s 6ms/step - loss: 30.2516 - val_loss: 535.5142\n",
      "Epoch 246/500\n",
      "20/20 [==============================] - 0s 6ms/step - loss: 30.2501 - val_loss: 535.5744\n",
      "Epoch 247/500\n",
      "20/20 [==============================] - 0s 15ms/step - loss: 30.2488 - val_loss: 535.6310\n",
      "Epoch 248/500\n",
      "20/20 [==============================] - 0s 7ms/step - loss: 30.2476 - val_loss: 535.6841\n",
      "Epoch 249/500\n",
      "20/20 [==============================] - 0s 6ms/step - loss: 30.2466 - val_loss: 535.7337\n",
      "Epoch 250/500\n",
      "20/20 [==============================] - 0s 7ms/step - loss: 30.2456 - val_loss: 535.7801\n",
      "Epoch 251/500\n",
      "20/20 [==============================] - 0s 6ms/step - loss: 30.2448 - val_loss: 535.8234\n",
      "Epoch 252/500\n",
      "20/20 [==============================] - 0s 6ms/step - loss: 30.2442 - val_loss: 535.8643\n",
      "Epoch 253/500\n",
      "20/20 [==============================] - 0s 6ms/step - loss: 30.2436 - val_loss: 535.9027\n",
      "Epoch 254/500\n",
      "20/20 [==============================] - 0s 5ms/step - loss: 30.2431 - val_loss: 535.9382\n",
      "Epoch 255/500\n",
      "20/20 [==============================] - 0s 5ms/step - loss: 30.2427 - val_loss: 535.9715\n",
      "Epoch 256/500\n",
      "20/20 [==============================] - 0s 5ms/step - loss: 30.2424 - val_loss: 536.0024\n",
      "Epoch 257/500\n",
      "20/20 [==============================] - 0s 5ms/step - loss: 30.2421 - val_loss: 536.0312\n",
      "Epoch 258/500\n",
      "20/20 [==============================] - 0s 5ms/step - loss: 30.2420 - val_loss: 536.0580\n",
      "Epoch 259/500\n",
      "20/20 [==============================] - 0s 5ms/step - loss: 30.2419 - val_loss: 536.0829\n",
      "Epoch 260/500\n",
      "20/20 [==============================] - 0s 6ms/step - loss: 30.2418 - val_loss: 536.1060\n",
      "Epoch 261/500\n",
      "20/20 [==============================] - 0s 6ms/step - loss: 30.2419 - val_loss: 536.1276\n",
      "Epoch 262/500\n",
      "20/20 [==============================] - 0s 6ms/step - loss: 30.2420 - val_loss: 536.1475\n",
      "Epoch 263/500\n",
      "20/20 [==============================] - 0s 6ms/step - loss: 30.2421 - val_loss: 536.1659\n",
      "Epoch 264/500\n",
      "20/20 [==============================] - 0s 6ms/step - loss: 30.2423 - val_loss: 536.1827\n",
      "Epoch 265/500\n",
      "20/20 [==============================] - 0s 6ms/step - loss: 30.2425 - val_loss: 536.1986\n",
      "Epoch 266/500\n",
      "20/20 [==============================] - 0s 6ms/step - loss: 30.2428 - val_loss: 536.2132\n",
      "Epoch 267/500\n",
      "20/20 [==============================] - 0s 6ms/step - loss: 30.2431 - val_loss: 536.2265\n",
      "Epoch 268/500\n",
      "20/20 [==============================] - 0s 6ms/step - loss: 30.2434 - val_loss: 536.2393\n",
      "Epoch 269/500\n",
      "20/20 [==============================] - 0s 6ms/step - loss: 30.2438 - val_loss: 536.2506\n",
      "Epoch 270/500\n",
      "20/20 [==============================] - 0s 6ms/step - loss: 30.2442 - val_loss: 536.2609\n",
      "Epoch 271/500\n",
      "20/20 [==============================] - 0s 6ms/step - loss: 30.2446 - val_loss: 536.2703\n",
      "Epoch 272/500\n",
      "20/20 [==============================] - 0s 6ms/step - loss: 30.2451 - val_loss: 536.2789\n",
      "Epoch 273/500\n",
      "20/20 [==============================] - 0s 6ms/step - loss: 30.2456 - val_loss: 536.2870\n",
      "Epoch 274/500\n",
      "20/20 [==============================] - 0s 6ms/step - loss: 30.2460 - val_loss: 536.2941\n",
      "Epoch 275/500\n",
      "20/20 [==============================] - 0s 23ms/step - loss: 30.2465 - val_loss: 536.3008\n",
      "Epoch 276/500\n",
      "20/20 [==============================] - 0s 8ms/step - loss: 30.2471 - val_loss: 536.3068\n",
      "Epoch 277/500\n",
      "20/20 [==============================] - 0s 6ms/step - loss: 30.2477 - val_loss: 536.3123\n",
      "Epoch 278/500\n",
      "20/20 [==============================] - 0s 6ms/step - loss: 30.2482 - val_loss: 536.3170\n",
      "Epoch 279/500\n",
      "20/20 [==============================] - 0s 6ms/step - loss: 30.2488 - val_loss: 536.3215\n",
      "Epoch 280/500\n",
      "20/20 [==============================] - 0s 9ms/step - loss: 30.2493 - val_loss: 536.3252\n",
      "Epoch 281/500\n",
      "20/20 [==============================] - 0s 9ms/step - loss: 30.2499 - val_loss: 536.3286\n",
      "Epoch 282/500\n",
      "20/20 [==============================] - 0s 9ms/step - loss: 30.2506 - val_loss: 536.3318\n",
      "Epoch 283/500\n",
      "20/20 [==============================] - 0s 8ms/step - loss: 30.2512 - val_loss: 536.3345\n",
      "Epoch 284/500\n",
      "20/20 [==============================] - 0s 8ms/step - loss: 30.2518 - val_loss: 536.3369\n",
      "Epoch 285/500\n",
      "20/20 [==============================] - 0s 8ms/step - loss: 30.2525 - val_loss: 536.3391\n",
      "Epoch 286/500\n",
      "20/20 [==============================] - 0s 11ms/step - loss: 30.2531 - val_loss: 536.3409\n",
      "Epoch 287/500\n",
      "20/20 [==============================] - 0s 7ms/step - loss: 30.2537 - val_loss: 536.3422\n",
      "Epoch 288/500\n",
      "20/20 [==============================] - 0s 6ms/step - loss: 30.2544 - val_loss: 536.3433\n",
      "Epoch 289/500\n",
      "20/20 [==============================] - 0s 14ms/step - loss: 30.2551 - val_loss: 536.3442\n",
      "Epoch 290/500\n",
      "20/20 [==============================] - 0s 7ms/step - loss: 30.2557 - val_loss: 536.3450\n",
      "Epoch 291/500\n",
      "20/20 [==============================] - 0s 5ms/step - loss: 30.2564 - val_loss: 536.3455\n",
      "Epoch 292/500\n",
      "20/20 [==============================] - 0s 5ms/step - loss: 30.2570 - val_loss: 536.3459\n",
      "Epoch 293/500\n",
      "20/20 [==============================] - 0s 5ms/step - loss: 30.2577 - val_loss: 536.3461\n",
      "Epoch 294/500\n",
      "20/20 [==============================] - 0s 5ms/step - loss: 30.2584 - val_loss: 536.3458\n",
      "Epoch 295/500\n",
      "20/20 [==============================] - 0s 10ms/step - loss: 30.2591 - val_loss: 536.3459\n",
      "Epoch 296/500\n",
      "20/20 [==============================] - 0s 5ms/step - loss: 30.2597 - val_loss: 536.3460\n",
      "Epoch 297/500\n",
      "20/20 [==============================] - 0s 5ms/step - loss: 30.2603 - val_loss: 536.3455\n",
      "Epoch 298/500\n",
      "20/20 [==============================] - 0s 5ms/step - loss: 30.2610 - val_loss: 536.3450\n",
      "Epoch 299/500\n",
      "20/20 [==============================] - 0s 5ms/step - loss: 30.2617 - val_loss: 536.3444\n",
      "Epoch 300/500\n",
      "20/20 [==============================] - 0s 5ms/step - loss: 30.2623 - val_loss: 536.3439\n",
      "Epoch 301/500\n",
      "20/20 [==============================] - 0s 5ms/step - loss: 30.2629 - val_loss: 536.3431\n",
      "Epoch 302/500\n",
      "20/20 [==============================] - 0s 5ms/step - loss: 30.2636 - val_loss: 536.3422\n",
      "Epoch 303/500\n",
      "20/20 [==============================] - 0s 5ms/step - loss: 30.2643 - val_loss: 536.3412\n",
      "Epoch 304/500\n",
      "20/20 [==============================] - 0s 5ms/step - loss: 30.2649 - val_loss: 536.3403\n",
      "Epoch 305/500\n",
      "20/20 [==============================] - 0s 5ms/step - loss: 30.2655 - val_loss: 536.3393\n",
      "Epoch 306/500\n",
      "20/20 [==============================] - 0s 5ms/step - loss: 30.2662 - val_loss: 536.3384\n",
      "Epoch 307/500\n",
      "20/20 [==============================] - 0s 5ms/step - loss: 30.2668 - val_loss: 536.3372\n",
      "Epoch 308/500\n",
      "20/20 [==============================] - 0s 5ms/step - loss: 30.2674 - val_loss: 536.3360\n",
      "Epoch 309/500\n",
      "20/20 [==============================] - 0s 5ms/step - loss: 30.2680 - val_loss: 536.3351\n",
      "Epoch 310/500\n",
      "20/20 [==============================] - 0s 5ms/step - loss: 30.2686 - val_loss: 536.3337\n",
      "Epoch 311/500\n",
      "20/20 [==============================] - 0s 5ms/step - loss: 30.2693 - val_loss: 536.3328\n",
      "Epoch 312/500\n",
      "20/20 [==============================] - 0s 5ms/step - loss: 30.2699 - val_loss: 536.3315\n",
      "Epoch 313/500\n",
      "20/20 [==============================] - 0s 5ms/step - loss: 30.2705 - val_loss: 536.3303\n",
      "Epoch 314/500\n",
      "20/20 [==============================] - 0s 5ms/step - loss: 30.2710 - val_loss: 536.3292\n",
      "Epoch 315/500\n",
      "20/20 [==============================] - 0s 5ms/step - loss: 30.2716 - val_loss: 536.3279\n",
      "Epoch 316/500\n",
      "20/20 [==============================] - 0s 5ms/step - loss: 30.2722 - val_loss: 536.3268\n",
      "Epoch 317/500\n",
      "20/20 [==============================] - 0s 5ms/step - loss: 30.2728 - val_loss: 536.3254\n",
      "Epoch 318/500\n",
      "20/20 [==============================] - 0s 5ms/step - loss: 30.2734 - val_loss: 536.3242\n",
      "Epoch 319/500\n",
      "20/20 [==============================] - 0s 10ms/step - loss: 30.2739 - val_loss: 536.3228\n",
      "Epoch 320/500\n",
      "20/20 [==============================] - 0s 6ms/step - loss: 30.2745 - val_loss: 536.3218\n",
      "Epoch 321/500\n",
      "20/20 [==============================] - 0s 6ms/step - loss: 30.2751 - val_loss: 536.3205\n",
      "Epoch 322/500\n",
      "20/20 [==============================] - 0s 6ms/step - loss: 30.2756 - val_loss: 536.3192\n",
      "Epoch 323/500\n",
      "20/20 [==============================] - 0s 6ms/step - loss: 30.2761 - val_loss: 536.3178\n",
      "Epoch 324/500\n",
      "20/20 [==============================] - 0s 6ms/step - loss: 30.2767 - val_loss: 536.3164\n",
      "Epoch 325/500\n",
      "20/20 [==============================] - 0s 5ms/step - loss: 30.2772 - val_loss: 536.3151\n",
      "Epoch 326/500\n",
      "20/20 [==============================] - 0s 6ms/step - loss: 30.2777 - val_loss: 536.3139\n",
      "Epoch 327/500\n",
      "20/20 [==============================] - 0s 6ms/step - loss: 30.2782 - val_loss: 536.3126\n",
      "Epoch 328/500\n",
      "20/20 [==============================] - 0s 5ms/step - loss: 30.2788 - val_loss: 536.3115\n",
      "Epoch 329/500\n",
      "20/20 [==============================] - 0s 6ms/step - loss: 30.2793 - val_loss: 536.3102\n",
      "Epoch 330/500\n",
      "20/20 [==============================] - 0s 6ms/step - loss: 30.2798 - val_loss: 536.3089\n",
      "Epoch 331/500\n",
      "20/20 [==============================] - 0s 5ms/step - loss: 30.2803 - val_loss: 536.3077\n",
      "Epoch 332/500\n",
      "20/20 [==============================] - 0s 5ms/step - loss: 30.2807 - val_loss: 536.3065\n",
      "Epoch 333/500\n",
      "20/20 [==============================] - 0s 5ms/step - loss: 30.2812 - val_loss: 536.3052\n",
      "Epoch 334/500\n",
      "20/20 [==============================] - 0s 5ms/step - loss: 30.2817 - val_loss: 536.3040\n",
      "Epoch 335/500\n",
      "20/20 [==============================] - 0s 5ms/step - loss: 30.2822 - val_loss: 536.3027\n",
      "Epoch 336/500\n",
      "20/20 [==============================] - 0s 5ms/step - loss: 30.2827 - val_loss: 536.3016\n",
      "Epoch 337/500\n",
      "20/20 [==============================] - 0s 5ms/step - loss: 30.2831 - val_loss: 536.3006\n",
      "Epoch 338/500\n",
      "20/20 [==============================] - 0s 5ms/step - loss: 30.2836 - val_loss: 536.2994\n",
      "Epoch 339/500\n",
      "20/20 [==============================] - 0s 9ms/step - loss: 30.2840 - val_loss: 536.2984\n",
      "Epoch 340/500\n",
      "20/20 [==============================] - 0s 7ms/step - loss: 30.2845 - val_loss: 536.2976\n",
      "Epoch 341/500\n",
      "20/20 [==============================] - 0s 11ms/step - loss: 30.2848 - val_loss: 536.2963\n",
      "Epoch 342/500\n",
      "20/20 [==============================] - 0s 6ms/step - loss: 30.2853 - val_loss: 536.2953\n",
      "Epoch 343/500\n",
      "20/20 [==============================] - 0s 6ms/step - loss: 30.2857 - val_loss: 536.2944\n",
      "Epoch 344/500\n",
      "20/20 [==============================] - 0s 5ms/step - loss: 30.2861 - val_loss: 536.2932\n",
      "Epoch 345/500\n",
      "20/20 [==============================] - 0s 5ms/step - loss: 30.2865 - val_loss: 536.2921\n",
      "Epoch 346/500\n",
      "20/20 [==============================] - 0s 5ms/step - loss: 30.2869 - val_loss: 536.2910\n",
      "Epoch 347/500\n",
      "20/20 [==============================] - 0s 5ms/step - loss: 30.2873 - val_loss: 536.2896\n",
      "Epoch 348/500\n",
      "20/20 [==============================] - 0s 5ms/step - loss: 30.2877 - val_loss: 536.2888\n",
      "Epoch 349/500\n",
      "20/20 [==============================] - 0s 5ms/step - loss: 30.2881 - val_loss: 536.2875\n",
      "Epoch 350/500\n",
      "20/20 [==============================] - 0s 5ms/step - loss: 30.2885 - val_loss: 536.2864\n",
      "Epoch 351/500\n",
      "20/20 [==============================] - 0s 5ms/step - loss: 30.2889 - val_loss: 536.2855\n",
      "Epoch 352/500\n",
      "20/20 [==============================] - 0s 5ms/step - loss: 30.2892 - val_loss: 536.2841\n",
      "Epoch 353/500\n",
      "20/20 [==============================] - 0s 5ms/step - loss: 30.2896 - val_loss: 536.2834\n",
      "Epoch 354/500\n",
      "20/20 [==============================] - 0s 5ms/step - loss: 30.2899 - val_loss: 536.2826\n",
      "Epoch 355/500\n",
      "20/20 [==============================] - 0s 5ms/step - loss: 30.2903 - val_loss: 536.2819\n",
      "Epoch 356/500\n",
      "20/20 [==============================] - 0s 5ms/step - loss: 30.2907 - val_loss: 536.2808\n",
      "Epoch 357/500\n",
      "20/20 [==============================] - 0s 5ms/step - loss: 30.2910 - val_loss: 536.2797\n",
      "Epoch 358/500\n",
      "20/20 [==============================] - 0s 5ms/step - loss: 30.2913 - val_loss: 536.2788\n",
      "Epoch 359/500\n",
      "20/20 [==============================] - 0s 5ms/step - loss: 30.2917 - val_loss: 536.2776\n",
      "Epoch 360/500\n",
      "20/20 [==============================] - 0s 5ms/step - loss: 30.2921 - val_loss: 536.2773\n",
      "Epoch 361/500\n",
      "20/20 [==============================] - 0s 5ms/step - loss: 30.2923 - val_loss: 536.2762\n",
      "Epoch 362/500\n",
      "20/20 [==============================] - 0s 5ms/step - loss: 30.2926 - val_loss: 536.2754\n",
      "Epoch 363/500\n",
      "20/20 [==============================] - 0s 5ms/step - loss: 30.2929 - val_loss: 536.2743\n",
      "Epoch 364/500\n",
      "20/20 [==============================] - 0s 11ms/step - loss: 30.2933 - val_loss: 536.2736\n",
      "Epoch 365/500\n",
      "20/20 [==============================] - 0s 6ms/step - loss: 30.2935 - val_loss: 536.2724\n",
      "Epoch 366/500\n",
      "20/20 [==============================] - 0s 6ms/step - loss: 30.2939 - val_loss: 536.2717\n",
      "Epoch 367/500\n",
      "20/20 [==============================] - 0s 6ms/step - loss: 30.2942 - val_loss: 536.2708\n",
      "Epoch 368/500\n",
      "20/20 [==============================] - 0s 6ms/step - loss: 30.2945 - val_loss: 536.2701\n",
      "Epoch 369/500\n",
      "20/20 [==============================] - 0s 5ms/step - loss: 30.2947 - val_loss: 536.2694\n",
      "Epoch 370/500\n",
      "20/20 [==============================] - 0s 5ms/step - loss: 30.2950 - val_loss: 536.2682\n",
      "Epoch 371/500\n",
      "20/20 [==============================] - 0s 5ms/step - loss: 30.2953 - val_loss: 536.2677\n",
      "Epoch 372/500\n",
      "20/20 [==============================] - 0s 5ms/step - loss: 30.2955 - val_loss: 536.2669\n",
      "Epoch 373/500\n",
      "20/20 [==============================] - 0s 6ms/step - loss: 30.2958 - val_loss: 536.2662\n",
      "Epoch 374/500\n",
      "20/20 [==============================] - 0s 5ms/step - loss: 30.2961 - val_loss: 536.2654\n",
      "Epoch 375/500\n",
      "20/20 [==============================] - 0s 6ms/step - loss: 30.2963 - val_loss: 536.2646\n",
      "Epoch 376/500\n",
      "20/20 [==============================] - 0s 7ms/step - loss: 30.2966 - val_loss: 536.2642\n",
      "Epoch 377/500\n",
      "20/20 [==============================] - 0s 9ms/step - loss: 30.2969 - val_loss: 536.2637\n",
      "Epoch 378/500\n",
      "20/20 [==============================] - 0s 6ms/step - loss: 30.2971 - val_loss: 536.2629\n",
      "Epoch 379/500\n",
      "20/20 [==============================] - 0s 6ms/step - loss: 30.2973 - val_loss: 536.2621\n",
      "Epoch 380/500\n",
      "20/20 [==============================] - 0s 5ms/step - loss: 30.2976 - val_loss: 536.2616\n",
      "Epoch 381/500\n",
      "20/20 [==============================] - 0s 5ms/step - loss: 30.2978 - val_loss: 536.2611\n",
      "Epoch 382/500\n",
      "20/20 [==============================] - 0s 5ms/step - loss: 30.2980 - val_loss: 536.2604\n",
      "Epoch 383/500\n",
      "20/20 [==============================] - 0s 5ms/step - loss: 30.2982 - val_loss: 536.2596\n",
      "Epoch 384/500\n",
      "20/20 [==============================] - 0s 5ms/step - loss: 30.2985 - val_loss: 536.2588\n",
      "Epoch 385/500\n",
      "20/20 [==============================] - 0s 5ms/step - loss: 30.2988 - val_loss: 536.2585\n",
      "Epoch 386/500\n",
      "20/20 [==============================] - 0s 10ms/step - loss: 30.2989 - val_loss: 536.2579\n",
      "Epoch 387/500\n",
      "20/20 [==============================] - 0s 5ms/step - loss: 30.2991 - val_loss: 536.2575\n",
      "Epoch 388/500\n",
      "20/20 [==============================] - 0s 5ms/step - loss: 30.2993 - val_loss: 536.2570\n",
      "Epoch 389/500\n",
      "20/20 [==============================] - 0s 5ms/step - loss: 30.2995 - val_loss: 536.2563\n",
      "Epoch 390/500\n",
      "20/20 [==============================] - 0s 5ms/step - loss: 30.2997 - val_loss: 536.2554\n",
      "Epoch 391/500\n",
      "20/20 [==============================] - 0s 5ms/step - loss: 30.2999 - val_loss: 536.2548\n",
      "Epoch 392/500\n",
      "20/20 [==============================] - 0s 5ms/step - loss: 30.3001 - val_loss: 536.2545\n",
      "Epoch 393/500\n",
      "20/20 [==============================] - 0s 5ms/step - loss: 30.3003 - val_loss: 536.2541\n",
      "Epoch 394/500\n",
      "20/20 [==============================] - 0s 5ms/step - loss: 30.3005 - val_loss: 536.2535\n",
      "Epoch 395/500\n",
      "20/20 [==============================] - 0s 5ms/step - loss: 30.3007 - val_loss: 536.2532\n",
      "Epoch 396/500\n",
      "20/20 [==============================] - 0s 5ms/step - loss: 30.3008 - val_loss: 536.2524\n",
      "Epoch 397/500\n",
      "20/20 [==============================] - 0s 5ms/step - loss: 30.3010 - val_loss: 536.2522\n",
      "Epoch 398/500\n",
      "20/20 [==============================] - 0s 5ms/step - loss: 30.3012 - val_loss: 536.2513\n",
      "Epoch 399/500\n",
      "20/20 [==============================] - 0s 5ms/step - loss: 30.3014 - val_loss: 536.2509\n",
      "Epoch 400/500\n",
      "20/20 [==============================] - 0s 5ms/step - loss: 30.3016 - val_loss: 536.2504\n",
      "Epoch 401/500\n",
      "20/20 [==============================] - 0s 5ms/step - loss: 30.3017 - val_loss: 536.2495\n",
      "Epoch 402/500\n",
      "20/20 [==============================] - 0s 5ms/step - loss: 30.3020 - val_loss: 536.2491\n",
      "Epoch 403/500\n",
      "20/20 [==============================] - 0s 5ms/step - loss: 30.3021 - val_loss: 536.2489\n",
      "Epoch 404/500\n",
      "20/20 [==============================] - 0s 5ms/step - loss: 30.3022 - val_loss: 536.2485\n",
      "Epoch 405/500\n",
      "20/20 [==============================] - 0s 5ms/step - loss: 30.3023 - val_loss: 536.2478\n",
      "Epoch 406/500\n",
      "20/20 [==============================] - 0s 5ms/step - loss: 30.3025 - val_loss: 536.2474\n",
      "Epoch 407/500\n",
      "20/20 [==============================] - 0s 11ms/step - loss: 30.3027 - val_loss: 536.2472\n",
      "Epoch 408/500\n",
      "20/20 [==============================] - 0s 6ms/step - loss: 30.3028 - val_loss: 536.2466\n",
      "Epoch 409/500\n",
      "20/20 [==============================] - 0s 6ms/step - loss: 30.3030 - val_loss: 536.2460\n",
      "Epoch 410/500\n",
      "20/20 [==============================] - 0s 6ms/step - loss: 30.3031 - val_loss: 536.2457\n",
      "Epoch 411/500\n",
      "20/20 [==============================] - 0s 6ms/step - loss: 30.3032 - val_loss: 536.2454\n",
      "Epoch 412/500\n",
      "20/20 [==============================] - 0s 6ms/step - loss: 30.3034 - val_loss: 536.2452\n",
      "Epoch 413/500\n",
      "20/20 [==============================] - 0s 6ms/step - loss: 30.3035 - val_loss: 536.2447\n",
      "Epoch 414/500\n",
      "20/20 [==============================] - 0s 5ms/step - loss: 30.3036 - val_loss: 536.2446\n",
      "Epoch 415/500\n",
      "20/20 [==============================] - 0s 6ms/step - loss: 30.3037 - val_loss: 536.2443\n",
      "Epoch 416/500\n",
      "20/20 [==============================] - 0s 6ms/step - loss: 30.3039 - val_loss: 536.2437\n",
      "Epoch 417/500\n",
      "20/20 [==============================] - 0s 5ms/step - loss: 30.3040 - val_loss: 536.2435\n",
      "Epoch 418/500\n",
      "20/20 [==============================] - 0s 5ms/step - loss: 30.3041 - val_loss: 536.2432\n",
      "Epoch 419/500\n",
      "20/20 [==============================] - 0s 5ms/step - loss: 30.3042 - val_loss: 536.2422\n",
      "Epoch 420/500\n",
      "20/20 [==============================] - 0s 5ms/step - loss: 30.3043 - val_loss: 536.2421\n",
      "Epoch 421/500\n",
      "20/20 [==============================] - 0s 6ms/step - loss: 30.3045 - val_loss: 536.2418\n",
      "Epoch 422/500\n",
      "20/20 [==============================] - 0s 7ms/step - loss: 30.3046 - val_loss: 536.2415\n",
      "Epoch 423/500\n",
      "20/20 [==============================] - 0s 8ms/step - loss: 30.3047 - val_loss: 536.2409\n",
      "Epoch 424/500\n",
      "20/20 [==============================] - 0s 6ms/step - loss: 30.3048 - val_loss: 536.2407\n",
      "Epoch 425/500\n",
      "20/20 [==============================] - 0s 5ms/step - loss: 30.3049 - val_loss: 536.2405\n",
      "Epoch 426/500\n",
      "20/20 [==============================] - 0s 5ms/step - loss: 30.3050 - val_loss: 536.2404\n",
      "Epoch 427/500\n",
      "20/20 [==============================] - 0s 5ms/step - loss: 30.3051 - val_loss: 536.2400\n",
      "Epoch 428/500\n",
      "20/20 [==============================] - 0s 11ms/step - loss: 30.3052 - val_loss: 536.2397\n",
      "Epoch 429/500\n",
      "20/20 [==============================] - 0s 6ms/step - loss: 30.3053 - val_loss: 536.2388\n",
      "Epoch 430/500\n",
      "20/20 [==============================] - 0s 5ms/step - loss: 30.3054 - val_loss: 536.2386\n",
      "Epoch 431/500\n",
      "20/20 [==============================] - 0s 5ms/step - loss: 30.3055 - val_loss: 536.2383\n",
      "Epoch 432/500\n",
      "20/20 [==============================] - 0s 5ms/step - loss: 30.3056 - val_loss: 536.2382\n",
      "Epoch 433/500\n",
      "20/20 [==============================] - 0s 5ms/step - loss: 30.3056 - val_loss: 536.2376\n",
      "Epoch 434/500\n",
      "20/20 [==============================] - 0s 5ms/step - loss: 30.3058 - val_loss: 536.2377\n",
      "Epoch 435/500\n",
      "20/20 [==============================] - 0s 5ms/step - loss: 30.3059 - val_loss: 536.2374\n",
      "Epoch 436/500\n",
      "20/20 [==============================] - 0s 5ms/step - loss: 30.3059 - val_loss: 536.2369\n",
      "Epoch 437/500\n",
      "20/20 [==============================] - 0s 5ms/step - loss: 30.3060 - val_loss: 536.2370\n",
      "Epoch 438/500\n",
      "20/20 [==============================] - 0s 5ms/step - loss: 30.3061 - val_loss: 536.2368\n",
      "Epoch 439/500\n",
      "20/20 [==============================] - 0s 5ms/step - loss: 30.3062 - val_loss: 536.2365\n",
      "Epoch 440/500\n",
      "20/20 [==============================] - 0s 5ms/step - loss: 30.3063 - val_loss: 536.2363\n",
      "Epoch 441/500\n",
      "20/20 [==============================] - 0s 5ms/step - loss: 30.3064 - val_loss: 536.2362\n",
      "Epoch 442/500\n",
      "20/20 [==============================] - 0s 5ms/step - loss: 30.3064 - val_loss: 536.2359\n",
      "Epoch 443/500\n",
      "20/20 [==============================] - 0s 5ms/step - loss: 30.3065 - val_loss: 536.2354\n",
      "Epoch 444/500\n",
      "20/20 [==============================] - 0s 5ms/step - loss: 30.3065 - val_loss: 536.2348\n",
      "Epoch 445/500\n",
      "20/20 [==============================] - 0s 5ms/step - loss: 30.3067 - val_loss: 536.2347\n",
      "Epoch 446/500\n",
      "20/20 [==============================] - 0s 5ms/step - loss: 30.3067 - val_loss: 536.2345\n",
      "Epoch 447/500\n",
      "20/20 [==============================] - 0s 13ms/step - loss: 30.3067 - val_loss: 536.2341\n",
      "Epoch 448/500\n",
      "20/20 [==============================] - 0s 6ms/step - loss: 30.3068 - val_loss: 536.2340\n",
      "Epoch 449/500\n",
      "20/20 [==============================] - 0s 5ms/step - loss: 30.3069 - val_loss: 536.2339\n",
      "Epoch 450/500\n",
      "20/20 [==============================] - 0s 5ms/step - loss: 30.3069 - val_loss: 536.2335\n",
      "Epoch 451/500\n",
      "20/20 [==============================] - 0s 5ms/step - loss: 30.3070 - val_loss: 536.2331\n",
      "Epoch 452/500\n",
      "20/20 [==============================] - 0s 8ms/step - loss: 30.3071 - val_loss: 536.2328\n",
      "Epoch 453/500\n",
      "20/20 [==============================] - 0s 6ms/step - loss: 30.3072 - val_loss: 536.2328\n",
      "Epoch 454/500\n",
      "20/20 [==============================] - 0s 6ms/step - loss: 30.3073 - val_loss: 536.2326\n",
      "Epoch 455/500\n",
      "20/20 [==============================] - 0s 6ms/step - loss: 30.3073 - val_loss: 536.2324\n",
      "Epoch 456/500\n",
      "20/20 [==============================] - 0s 6ms/step - loss: 30.3074 - val_loss: 536.2322\n",
      "Epoch 457/500\n",
      "20/20 [==============================] - 0s 6ms/step - loss: 30.3074 - val_loss: 536.2321\n",
      "Epoch 458/500\n",
      "20/20 [==============================] - 0s 5ms/step - loss: 30.3074 - val_loss: 536.2319\n",
      "Epoch 459/500\n",
      "20/20 [==============================] - 0s 6ms/step - loss: 30.3075 - val_loss: 536.2316\n",
      "Epoch 460/500\n",
      "20/20 [==============================] - 0s 5ms/step - loss: 30.3076 - val_loss: 536.2318\n",
      "Epoch 461/500\n",
      "20/20 [==============================] - 0s 6ms/step - loss: 30.3076 - val_loss: 536.2312\n",
      "Epoch 462/500\n",
      "20/20 [==============================] - 0s 6ms/step - loss: 30.3076 - val_loss: 536.2310\n",
      "Epoch 463/500\n",
      "20/20 [==============================] - 0s 6ms/step - loss: 30.3077 - val_loss: 536.2306\n",
      "Epoch 464/500\n",
      "20/20 [==============================] - 0s 5ms/step - loss: 30.3078 - val_loss: 536.2304\n",
      "Epoch 465/500\n",
      "20/20 [==============================] - 0s 6ms/step - loss: 30.3078 - val_loss: 536.2304\n",
      "Epoch 466/500\n",
      "20/20 [==============================] - 0s 6ms/step - loss: 30.3079 - val_loss: 536.2302\n",
      "Epoch 467/500\n",
      "20/20 [==============================] - 0s 12ms/step - loss: 30.3079 - val_loss: 536.2299\n",
      "Epoch 468/500\n",
      "20/20 [==============================] - 0s 6ms/step - loss: 30.3080 - val_loss: 536.2299\n",
      "Epoch 469/500\n",
      "20/20 [==============================] - 0s 6ms/step - loss: 30.3081 - val_loss: 536.2299\n",
      "Epoch 470/500\n",
      "20/20 [==============================] - 0s 5ms/step - loss: 30.3080 - val_loss: 536.2295\n",
      "Epoch 471/500\n",
      "20/20 [==============================] - 0s 5ms/step - loss: 30.3081 - val_loss: 536.2290\n",
      "Epoch 472/500\n",
      "20/20 [==============================] - 0s 5ms/step - loss: 30.3081 - val_loss: 536.2288\n",
      "Epoch 473/500\n",
      "20/20 [==============================] - 0s 5ms/step - loss: 30.3082 - val_loss: 536.2286\n",
      "Epoch 474/500\n",
      "20/20 [==============================] - 0s 5ms/step - loss: 30.3082 - val_loss: 536.2283\n",
      "Epoch 475/500\n",
      "20/20 [==============================] - 0s 5ms/step - loss: 30.3083 - val_loss: 536.2281\n",
      "Epoch 476/500\n",
      "20/20 [==============================] - 0s 5ms/step - loss: 30.3084 - val_loss: 536.2282\n",
      "Epoch 477/500\n",
      "20/20 [==============================] - 0s 5ms/step - loss: 30.3084 - val_loss: 536.2281\n",
      "Epoch 478/500\n",
      "20/20 [==============================] - 0s 5ms/step - loss: 30.3084 - val_loss: 536.2278\n",
      "Epoch 479/500\n",
      "20/20 [==============================] - 0s 6ms/step - loss: 30.3084 - val_loss: 536.2277\n",
      "Epoch 480/500\n",
      "20/20 [==============================] - 0s 8ms/step - loss: 30.3085 - val_loss: 536.2276\n",
      "Epoch 481/500\n",
      "20/20 [==============================] - 0s 5ms/step - loss: 30.3085 - val_loss: 536.2277\n",
      "Epoch 482/500\n",
      "20/20 [==============================] - 0s 5ms/step - loss: 30.3085 - val_loss: 536.2276\n",
      "Epoch 483/500\n",
      "20/20 [==============================] - 0s 5ms/step - loss: 30.3085 - val_loss: 536.2273\n",
      "Epoch 484/500\n",
      "20/20 [==============================] - 0s 5ms/step - loss: 30.3086 - val_loss: 536.2270\n",
      "Epoch 485/500\n",
      "20/20 [==============================] - 0s 5ms/step - loss: 30.3086 - val_loss: 536.2268\n",
      "Epoch 486/500\n",
      "20/20 [==============================] - 0s 5ms/step - loss: 30.3087 - val_loss: 536.2269\n",
      "Epoch 487/500\n",
      "20/20 [==============================] - 0s 10ms/step - loss: 30.3087 - val_loss: 536.2270\n",
      "Epoch 488/500\n",
      "20/20 [==============================] - 0s 6ms/step - loss: 30.3087 - val_loss: 536.2269\n",
      "Epoch 489/500\n",
      "20/20 [==============================] - 0s 6ms/step - loss: 30.3087 - val_loss: 536.2264\n",
      "Epoch 490/500\n",
      "20/20 [==============================] - 0s 6ms/step - loss: 30.3088 - val_loss: 536.2258\n",
      "Epoch 491/500\n",
      "20/20 [==============================] - 0s 6ms/step - loss: 30.3088 - val_loss: 536.2257\n",
      "Epoch 492/500\n",
      "20/20 [==============================] - 0s 6ms/step - loss: 30.3089 - val_loss: 536.2258\n",
      "Epoch 493/500\n",
      "20/20 [==============================] - 0s 5ms/step - loss: 30.3089 - val_loss: 536.2257\n",
      "Epoch 494/500\n",
      "20/20 [==============================] - 0s 5ms/step - loss: 30.3090 - val_loss: 536.2257\n",
      "Epoch 495/500\n",
      "20/20 [==============================] - 0s 6ms/step - loss: 30.3090 - val_loss: 536.2257\n",
      "Epoch 496/500\n",
      "20/20 [==============================] - 0s 6ms/step - loss: 30.3090 - val_loss: 536.2255\n",
      "Epoch 497/500\n",
      "20/20 [==============================] - 0s 5ms/step - loss: 30.3090 - val_loss: 536.2252\n",
      "Epoch 498/500\n",
      "20/20 [==============================] - 0s 5ms/step - loss: 30.3090 - val_loss: 536.2249\n",
      "Epoch 499/500\n",
      "20/20 [==============================] - 0s 6ms/step - loss: 30.3090 - val_loss: 536.2247\n",
      "Epoch 500/500\n",
      "20/20 [==============================] - 0s 5ms/step - loss: 30.3090 - val_loss: 536.2245\n"
     ]
    }
   ],
   "source": [
    "C0 = tf.Variable(82.7524, name=\"C0\", trainable=True, dtype=tf.float32)\n",
    "K0 = tf.Variable(-0.0031, name=\"K0\", trainable=True, dtype=tf.float32)\n",
    "K1 = tf.Variable(-0.0003, name=\"K1\", trainable=True, dtype=tf.float32)\n",
    "a = tf.Variable(0.0000, name=\"a\", trainable=True, dtype=tf.float32)\n",
    "b = tf.Variable(0.0171, name=\"b\", trainable=True, dtype=tf.float32)\n",
    "c = tf.Variable(3.0230, name=\"c\", trainable=True, dtype=tf.float32)\n",
    "\n",
    "splitr = 0.8\n",
    "\n",
    "\n",
    "def loss_fn(y_true, y_pred):\n",
    "    squared_difference = tf.square(y_true[:, 0] - y_pred[:, 0])\n",
    "    #squared_difference2 = tf.square(y_true[:, 2]-y_pred[:, 2])\n",
    "    #squared_difference1 = tf.square(y_true[:, 1]-y_pred[:, 1])\n",
    "    epsilon = 1\n",
    "    squared_difference3 = tf.square(\n",
    "        y_pred[:, 1] - (\n",
    "            y_pred[:, 0] * (\n",
    "                K0 - K1 * (\n",
    "                    9 * a * tf.math.log((y_pred[:, 0] + epsilon) / C0) / (K0 - K1 * c)**2 +\n",
    "                    4 * b * tf.math.log((y_pred[:, 0] + epsilon) / C0) / (K0 - K1 * c) + c\n",
    "                )\n",
    "            )\n",
    "        )\n",
    "    )\n",
    "    return tf.reduce_mean(squared_difference, axis=-1) + 0.2*tf.reduce_mean(squared_difference3, axis=-1)\n",
    "model = Sequential()\n",
    "model.add(LSTM(100, input_shape=(trainX.shape[1], trainX.shape[2])))\n",
    "model.add(Dense(60))\n",
    "model.compile(loss=loss_fn, optimizer='adam')\n",
    "history = model.fit(trainX[:int(splitr*trainX.shape[0])], trainy[:int(splitr*trainX.shape[0])], epochs=500, batch_size=64, validation_data=(trainX[int(splitr*trainX.shape[0]):trainX.shape[0]], trainy[int(splitr*trainX.shape[0]):trainX.shape[0]]), shuffle=False)"
   ]
  },
  {
   "cell_type": "code",
   "execution_count": 19,
   "metadata": {
    "colab": {
     "base_uri": "https://localhost:8080/"
    },
    "id": "yJL101rPyuoT",
    "outputId": "239ff2b1-c186-423a-d316-939dfdd7c793"
   },
   "outputs": [
    {
     "name": "stdout",
     "output_type": "stream",
     "text": [
      "1/1 [==============================] - 0s 475ms/step\n"
     ]
    }
   ],
   "source": [
    "forecast_without_mc = forecastX\n",
    "yhat_without_mc = model.predict(forecast_without_mc) # Step Ahead Prediction\n",
    "forecast_without_mc = forecast_without_mc.reshape((forecast_without_mc.shape[0], forecast_without_mc.shape[2])) # Historical Input"
   ]
  },
  {
   "cell_type": "code",
   "execution_count": 20,
   "metadata": {
    "colab": {
     "base_uri": "https://localhost:8080/"
    },
    "id": "g9dQELcJ8wbp",
    "outputId": "4dc7671b-b1a8-48d5-8744-a86f98446109"
   },
   "outputs": [
    {
     "data": {
      "text/plain": [
       "(1, 1, 251)"
      ]
     },
     "execution_count": 20,
     "metadata": {},
     "output_type": "execute_result"
    }
   ],
   "source": [
    "forecastX.shape"
   ]
  },
  {
   "cell_type": "code",
   "execution_count": 21,
   "metadata": {
    "colab": {
     "base_uri": "https://localhost:8080/"
    },
    "id": "IS2kyIKG1Kbr",
    "outputId": "f31b3485-8e26-452f-9298-ea8bf7e80ad1"
   },
   "outputs": [
    {
     "data": {
      "text/plain": [
       "(1, 251)"
      ]
     },
     "execution_count": 21,
     "metadata": {},
     "output_type": "execute_result"
    }
   ],
   "source": [
    "forecast_without_mc.shape"
   ]
  },
  {
   "cell_type": "code",
   "execution_count": 22,
   "metadata": {
    "id": "0u6VIzaDyuoT"
   },
   "outputs": [],
   "source": [
    "inv_yhat_without_mc = np.concatenate((forecast_without_mc, yhat_without_mc), axis=1) # Concatenation of predicted values with Historical Data\n",
    "#inv_yhat_without_mc = scaler.inverse_transform(inv_yhat_without_mc) # Transform labels back to original encoding"
   ]
  },
  {
   "cell_type": "code",
   "execution_count": 23,
   "metadata": {
    "colab": {
     "base_uri": "https://localhost:8080/"
    },
    "id": "EUEcw0LX07oU",
    "outputId": "cfc32397-9c37-4b43-d087-584bb31c3dcc"
   },
   "outputs": [
    {
     "data": {
      "text/plain": [
       "(1, 311)"
      ]
     },
     "execution_count": 23,
     "metadata": {},
     "output_type": "execute_result"
    }
   ],
   "source": [
    "inv_yhat_without_mc.shape"
   ]
  },
  {
   "cell_type": "code",
   "execution_count": 24,
   "metadata": {
    "id": "31OWVbSh_305"
   },
   "outputs": [],
   "source": [
    "fforecast = inv_yhat_without_mc[:,-300:]"
   ]
  },
  {
   "cell_type": "code",
   "execution_count": 25,
   "metadata": {},
   "outputs": [
    {
     "data": {
      "text/plain": [
       "(1, 300)"
      ]
     },
     "execution_count": 25,
     "metadata": {},
     "output_type": "execute_result"
    }
   ],
   "source": [
    "fforecast.shape"
   ]
  },
  {
   "cell_type": "code",
   "execution_count": 26,
   "metadata": {
    "id": "BlpGH2FOAiRF"
   },
   "outputs": [],
   "source": [
    "final_forecast = fforecast[:,0:300:3]"
   ]
  },
  {
   "cell_type": "code",
   "execution_count": 27,
   "metadata": {},
   "outputs": [
    {
     "data": {
      "text/plain": [
       "(1, 300)"
      ]
     },
     "execution_count": 27,
     "metadata": {},
     "output_type": "execute_result"
    }
   ],
   "source": [
    "fforecast.shape"
   ]
  },
  {
   "cell_type": "code",
   "execution_count": 28,
   "metadata": {
    "id": "CXkgkj_LBk_t"
   },
   "outputs": [],
   "source": [
    "# code to replace all negative value with 0\n",
    "final_forecast[final_forecast<0] = 0"
   ]
  },
  {
   "cell_type": "code",
   "execution_count": 29,
   "metadata": {},
   "outputs": [
    {
     "data": {
      "text/plain": [
       "array([[5.73506769e+01, 5.73086601e+01, 5.72666433e+01, 5.72246265e+01,\n",
       "        5.71826097e+01, 5.71405929e+01, 5.70985761e+01, 0.00000000e+00,\n",
       "        0.00000000e+00, 1.71529650e-01, 4.40962280e-01, 7.98189880e-01,\n",
       "        2.09573240e-01, 5.77381653e+01, 5.76961485e+01, 5.76541316e+01,\n",
       "        5.76121148e+01, 5.75700980e+01, 5.75280812e+01, 5.74870644e+01,\n",
       "        5.74440476e+01, 5.74020308e+01, 5.73600140e+01, 5.73179972e+01,\n",
       "        5.72775980e+01, 5.72353964e+01, 5.71941947e+01, 5.71599930e+01,\n",
       "        5.71187913e+01, 5.70799902e+01, 5.70427885e+01, 5.70055868e+01,\n",
       "        5.69683851e+01, 5.69291835e+01, 5.68919821e+01, 5.68547806e+01,\n",
       "        5.68175789e+01, 5.67803771e+01, 5.67431754e+01, 5.67059737e+01,\n",
       "        5.66687720e+01, 1.04408872e+00, 4.30057615e-01, 0.00000000e+00,\n",
       "        1.88607156e-01, 0.00000000e+00, 0.00000000e+00, 5.72433007e+01,\n",
       "        5.72012839e+01, 5.71592670e+01, 5.71172502e+01, 5.70752334e+01,\n",
       "        5.70332166e+01, 5.69911998e+01, 5.69491830e+01, 5.69071662e+01,\n",
       "        5.68651494e+01, 5.68231326e+01, 5.67811158e+01, 5.67390990e+01,\n",
       "        5.66935808e+01, 5.66011438e+01, 5.65087068e+01, 5.64162698e+01,\n",
       "        5.63238329e+01, 5.62313959e+01, 5.61389589e+01, 5.60465219e+01,\n",
       "        5.59540850e+01, 5.58616480e+01, 5.57692110e+01, 5.56767740e+01,\n",
       "        5.55900327e+01, 6.40110703e+01, 4.24146210e-02, 8.74598384e-01,\n",
       "        6.56191289e-01, 1.23838449e+00, 5.82692683e-01, 0.00000000e+00,\n",
       "        4.92067833e+01, 0.00000000e+00, 3.11434448e-01, 3.48570496e-01,\n",
       "        0.00000000e+00, 3.98903191e-01, 0.00000000e+00, 0.00000000e+00,\n",
       "        1.85086533e-01, 0.00000000e+00, 0.00000000e+00, 0.00000000e+00,\n",
       "        6.82187900e-02, 6.65390253e-01, 0.00000000e+00, 0.00000000e+00,\n",
       "        0.00000000e+00, 8.70155573e-01, 9.82906938e-01, 0.00000000e+00]])"
      ]
     },
     "execution_count": 29,
     "metadata": {},
     "output_type": "execute_result"
    }
   ],
   "source": [
    "final_forecast"
   ]
  },
  {
   "cell_type": "code",
   "execution_count": 30,
   "metadata": {},
   "outputs": [
    {
     "data": {
      "text/plain": [
       "(1, 100)"
      ]
     },
     "execution_count": 30,
     "metadata": {},
     "output_type": "execute_result"
    }
   ],
   "source": [
    "final_forecast.shape"
   ]
  },
  {
   "cell_type": "code",
   "execution_count": 31,
   "metadata": {},
   "outputs": [
    {
     "data": {
      "text/plain": [
       "(100,)"
      ]
     },
     "execution_count": 31,
     "metadata": {},
     "output_type": "execute_result"
    }
   ],
   "source": [
    "test.shape"
   ]
  },
  {
   "cell_type": "code",
   "execution_count": 32,
   "metadata": {},
   "outputs": [],
   "source": [
    "training_set = np.array(training_set)\n",
    "test = np.array(test)\n",
    "final_forecast = np.array(final_forecast.squeeze(0))"
   ]
  },
  {
   "cell_type": "code",
   "execution_count": 33,
   "metadata": {},
   "outputs": [
    {
     "data": {
      "text/plain": [
       "array([50.601669  , 50.58813025, 50.5745915 , 50.56105275, 50.54751401,\n",
       "       50.53397526, 50.52043651, 50.50689776, 50.49335901, 50.47982026,\n",
       "       50.46628151, 50.45274276, 50.43920401, 50.42566527, 50.41212652,\n",
       "       50.39858777, 50.38504902, 50.37151027, 50.35797152, 50.34443277,\n",
       "       50.33089402, 50.31735528, 50.30381653, 50.29027778, 50.27673903,\n",
       "       50.26320028, 50.24966153, 50.23612278, 50.22258403, 50.20904528,\n",
       "       50.19550654, 50.18196779, 50.16842904, 50.15489029, 50.14135154,\n",
       "       50.12781279, 50.11427404, 50.10073529, 50.08719655, 50.0736578 ,\n",
       "       50.06011905, 50.0465803 , 50.03304155, 50.0195028 , 50.00596405,\n",
       "       49.9924253 , 49.97888655, 49.96534781, 49.95180906, 49.93827031,\n",
       "       49.92473156, 49.91119281, 49.89765406, 49.88411531, 49.87057656,\n",
       "       49.85703782, 49.84349907, 49.82996032, 49.81642157, 49.80288282,\n",
       "       49.78934407, 49.77580532, 49.76226657, 49.74872782, 49.73518908,\n",
       "       49.72165033, 49.70811158, 49.69457283, 49.68103408, 49.66749533,\n",
       "       49.65395658, 49.64041783, 49.62687908, 49.61334034, 49.59980159,\n",
       "       49.58626284, 49.57272409, 49.55918534, 49.54564659, 49.53210784,\n",
       "       49.51856909, 49.50503035, 49.4914916 , 49.47795285, 49.4644141 ,\n",
       "       49.45087535, 49.4373366 , 49.42379785, 49.4102591 , 49.39672035,\n",
       "       49.38318161, 49.36964286, 49.35610411, 49.34256536, 49.32902661,\n",
       "       49.31548786, 49.30194911, 49.28841036, 49.27487162, 49.26133287])"
      ]
     },
     "execution_count": 33,
     "metadata": {},
     "output_type": "execute_result"
    }
   ],
   "source": [
    "test"
   ]
  },
  {
   "cell_type": "code",
   "execution_count": 34,
   "metadata": {},
   "outputs": [
    {
     "data": {
      "text/plain": [
       "(100,)"
      ]
     },
     "execution_count": 34,
     "metadata": {},
     "output_type": "execute_result"
    }
   ],
   "source": [
    "test.shape"
   ]
  },
  {
   "cell_type": "code",
   "execution_count": 35,
   "metadata": {},
   "outputs": [
    {
     "data": {
      "text/plain": [
       "(100,)"
      ]
     },
     "execution_count": 35,
     "metadata": {},
     "output_type": "execute_result"
    }
   ],
   "source": [
    "final_forecast.shape"
   ]
  },
  {
   "cell_type": "code",
   "execution_count": 36,
   "metadata": {},
   "outputs": [
    {
     "data": {
      "text/plain": [
       "(100,)"
      ]
     },
     "execution_count": 36,
     "metadata": {},
     "output_type": "execute_result"
    }
   ],
   "source": [
    "test.shape"
   ]
  },
  {
   "cell_type": "code",
   "execution_count": 37,
   "metadata": {},
   "outputs": [
    {
     "name": "stdout",
     "output_type": "stream",
     "text": [
      "30.56112124802635\n",
      "22.599197303556437\n"
     ]
    }
   ],
   "source": [
    "import math\n",
    "MSE = np.square(np.subtract(np.array(test),np.array(final_forecast))).mean()   \n",
    "rsme = math.sqrt(MSE)\n",
    "print(rsme)  \n",
    "MAE = np.abs(np.subtract(np.array(test),np.array(final_forecast))).mean()   \n",
    "mae = MAE\n",
    "print(mae)"
   ]
  }
 ],
 "metadata": {
  "colab": {
   "provenance": []
  },
  "kernelspec": {
   "display_name": "Python 3",
   "language": "python",
   "name": "python3"
  },
  "language_info": {
   "codemirror_mode": {
    "name": "ipython",
    "version": 3
   },
   "file_extension": ".py",
   "mimetype": "text/x-python",
   "name": "python",
   "nbconvert_exporter": "python",
   "pygments_lexer": "ipython3",
   "version": "3.9.13"
  }
 },
 "nbformat": 4,
 "nbformat_minor": 0
}
