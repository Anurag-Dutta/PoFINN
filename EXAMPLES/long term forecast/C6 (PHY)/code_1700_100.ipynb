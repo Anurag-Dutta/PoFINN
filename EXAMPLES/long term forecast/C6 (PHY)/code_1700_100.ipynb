{
 "cells": [
  {
   "cell_type": "markdown",
   "metadata": {
    "id": "pCGKeZ2gyuoQ"
   },
   "source": [
    "_Importing Required Libraries_"
   ]
  },
  {
   "cell_type": "code",
   "execution_count": 1,
   "metadata": {
    "colab": {
     "base_uri": "https://localhost:8080/"
    },
    "id": "A-6LN-zXiLcM",
    "outputId": "4de610a4-f8b8-4f49-c6c0-89de299ccedc"
   },
   "outputs": [
    {
     "name": "stdout",
     "output_type": "stream",
     "text": [
      "Requirement already satisfied: hampel in c:\\users\\anurag dutta\\appdata\\local\\packages\\pythonsoftwarefoundation.python.3.9_qbz5n2kfra8p0\\localcache\\local-packages\\python39\\site-packages (0.0.5)\n",
      "Requirement already satisfied: numpy in c:\\users\\anurag dutta\\appdata\\local\\packages\\pythonsoftwarefoundation.python.3.9_qbz5n2kfra8p0\\localcache\\local-packages\\python39\\site-packages (from hampel) (1.26.4)\n",
      "Requirement already satisfied: pandas in c:\\users\\anurag dutta\\appdata\\local\\packages\\pythonsoftwarefoundation.python.3.9_qbz5n2kfra8p0\\localcache\\local-packages\\python39\\site-packages (from hampel) (1.5.2)\n",
      "Requirement already satisfied: python-dateutil>=2.8.1 in c:\\users\\anurag dutta\\appdata\\local\\packages\\pythonsoftwarefoundation.python.3.9_qbz5n2kfra8p0\\localcache\\local-packages\\python39\\site-packages (from pandas->hampel) (2.8.2)\n",
      "Requirement already satisfied: pytz>=2020.1 in c:\\users\\anurag dutta\\appdata\\local\\packages\\pythonsoftwarefoundation.python.3.9_qbz5n2kfra8p0\\localcache\\local-packages\\python39\\site-packages (from pandas->hampel) (2023.3.post1)\n",
      "Requirement already satisfied: six>=1.5 in c:\\users\\anurag dutta\\appdata\\local\\packages\\pythonsoftwarefoundation.python.3.9_qbz5n2kfra8p0\\localcache\\local-packages\\python39\\site-packages (from python-dateutil>=2.8.1->pandas->hampel) (1.16.0)\n",
      "Note: you may need to restart the kernel to use updated packages.\n"
     ]
    },
    {
     "name": "stderr",
     "output_type": "stream",
     "text": [
      "\n",
      "[notice] A new release of pip is available: 24.2 -> 24.3.1\n",
      "[notice] To update, run: C:\\Users\\Anurag Dutta\\AppData\\Local\\Microsoft\\WindowsApps\\PythonSoftwareFoundation.Python.3.9_qbz5n2kfra8p0\\python.exe -m pip install --upgrade pip\n"
     ]
    }
   ],
   "source": [
    "pip install hampel"
   ]
  },
  {
   "cell_type": "code",
   "execution_count": 2,
   "metadata": {
    "id": "By_d9uXpaFvZ"
   },
   "outputs": [],
   "source": [
    "from keras.models import Sequential\n",
    "from keras.layers import Dense\n",
    "from keras.layers import LSTM\n",
    "from keras.layers import Dropout\n",
    "import keras\n",
    "import tensorflow as tf\n",
    "from hampel import hampel\n",
    "import numpy as np\n",
    "import matplotlib.pyplot as plt\n",
    "import pandas as pd\n",
    "from sklearn.preprocessing import MinMaxScaler\n",
    "from sklearn.metrics import mean_squared_error, mean_absolute_error\n",
    "from math import sqrt\n",
    "from matplotlib import pyplot\n",
    "from numpy import array"
   ]
  },
  {
   "cell_type": "markdown",
   "metadata": {
    "id": "JyOjBMFayuoR"
   },
   "source": [
    "## Pretraining"
   ]
  },
  {
   "cell_type": "markdown",
   "metadata": {
    "id": "-5QqIY_GyuoR"
   },
   "source": [
    "The `capa_intermittency.dat` feeds the model with the dynamics of the Capacitor"
   ]
  },
  {
   "cell_type": "code",
   "execution_count": 3,
   "metadata": {
    "id": "9dV4a8yfyuoR"
   },
   "outputs": [],
   "source": [
    "data = np.genfromtxt('capa_intermittency.dat')\n",
    "training_set = pd.DataFrame(data).reset_index(drop=True)\n",
    "training_set = training_set.iloc[:,0]"
   ]
  },
  {
   "cell_type": "markdown",
   "metadata": {
    "id": "i7easoxByuoR"
   },
   "source": [
    "## Computing the Gradient"
   ]
  },
  {
   "cell_type": "markdown",
   "metadata": {
    "id": "5SnyolJTyuoR"
   },
   "source": [
    "_Calculating the value of_ $\\frac{dx}{dt}$"
   ]
  },
  {
   "cell_type": "code",
   "execution_count": 4,
   "metadata": {
    "colab": {
     "base_uri": "https://localhost:8080/"
    },
    "id": "wmIbVfIvyuoR",
    "outputId": "aa4e3136-c854-465d-d2e9-81cfd546e440"
   },
   "outputs": [
    {
     "name": "stdout",
     "output_type": "stream",
     "text": [
      "1.0\n",
      "1        0.000298\n",
      "2        0.000298\n",
      "3        0.000297\n",
      "4        0.000297\n",
      "5        0.000297\n",
      "           ...   \n",
      "9996     0.000018\n",
      "9997     0.000018\n",
      "9998     0.000018\n",
      "9999     0.000018\n",
      "10000    0.000018\n",
      "Name: 0, Length: 10000, dtype: float64\n"
     ]
    }
   ],
   "source": [
    "t_diff = 1\n",
    "print(training_set.max())\n",
    "gradient_t = (training_set.diff()/t_diff).iloc[1:] # dx/dt\n",
    "print(gradient_t)"
   ]
  },
  {
   "cell_type": "markdown",
   "metadata": {
    "id": "_2eVeeoxyuoS"
   },
   "source": [
    "## Loading Datasets"
   ]
  },
  {
   "cell_type": "code",
   "execution_count": 5,
   "metadata": {
    "id": "0J-NKyIEyuoS"
   },
   "outputs": [
    {
     "data": {
      "text/plain": [
       "0       84.600000\n",
       "1       84.431933\n",
       "2       84.263866\n",
       "3       84.095798\n",
       "4       83.927731\n",
       "          ...    \n",
       "1795    53.540966\n",
       "1796    53.532563\n",
       "1797    53.524160\n",
       "1798    53.515756\n",
       "1799    53.507353\n",
       "Name: C6, Length: 1800, dtype: float64"
      ]
     },
     "execution_count": 5,
     "metadata": {},
     "output_type": "execute_result"
    }
   ],
   "source": [
    "data = pd.read_csv(\"c6_interpolated_1700_100.csv\")\n",
    "training_set = data.iloc[:, 1]\n",
    "training_set"
   ]
  },
  {
   "cell_type": "code",
   "execution_count": 6,
   "metadata": {
    "colab": {
     "base_uri": "https://localhost:8080/"
    },
    "id": "-CbNUhJ74UqF",
    "outputId": "20f562d8-8247-49cc-b9c3-00eca5e13e2d"
   },
   "outputs": [
    {
     "data": {
      "text/plain": [
       "0       84.600000\n",
       "1       84.431933\n",
       "2       84.263866\n",
       "3       84.095798\n",
       "4       83.927731\n",
       "          ...    \n",
       "1695     0.130032\n",
       "1696     0.000000\n",
       "1697     0.037966\n",
       "1698     0.466377\n",
       "1699     0.000000\n",
       "Name: C6, Length: 1700, dtype: float64"
      ]
     },
     "execution_count": 6,
     "metadata": {},
     "output_type": "execute_result"
    }
   ],
   "source": [
    "test = training_set.tail(100)\n",
    "test\n",
    "training_set = training_set.head(1700)\n",
    "training_set"
   ]
  },
  {
   "cell_type": "code",
   "execution_count": 7,
   "metadata": {
    "colab": {
     "base_uri": "https://localhost:8080/"
    },
    "id": "X0TwTcq0yuoS",
    "outputId": "37252ed8-d88e-4044-fa7a-922411990b5b"
   },
   "outputs": [
    {
     "name": "stdout",
     "output_type": "stream",
     "text": [
      "0       0.000298\n",
      "1       0.000298\n",
      "2       0.000297\n",
      "3       0.000297\n",
      "4       0.000297\n",
      "          ...   \n",
      "9995    0.000018\n",
      "9996    0.000018\n",
      "9997    0.000018\n",
      "9998    0.000018\n",
      "9999    0.000018\n",
      "Name: 0, Length: 10000, dtype: float64\n"
     ]
    }
   ],
   "source": [
    "training_set = training_set.reset_index(drop=True)\n",
    "gradient_t = gradient_t.reset_index(drop=True)\n",
    "print(gradient_t)"
   ]
  },
  {
   "cell_type": "code",
   "execution_count": 8,
   "metadata": {
    "id": "O2biznZQyuoS"
   },
   "outputs": [],
   "source": [
    "df = pd.concat((training_set, gradient_t), axis=1)\n",
    "df.columns = ['y_t', 'grad_t']"
   ]
  },
  {
   "cell_type": "code",
   "execution_count": 9,
   "metadata": {
    "colab": {
     "base_uri": "https://localhost:8080/",
     "height": 423
    },
    "id": "sk_a5v3tyuoS",
    "outputId": "17563625-e550-45ae-faab-fafa353e44da"
   },
   "outputs": [
    {
     "data": {
      "text/html": [
       "<div>\n",
       "<style scoped>\n",
       "    .dataframe tbody tr th:only-of-type {\n",
       "        vertical-align: middle;\n",
       "    }\n",
       "\n",
       "    .dataframe tbody tr th {\n",
       "        vertical-align: top;\n",
       "    }\n",
       "\n",
       "    .dataframe thead th {\n",
       "        text-align: right;\n",
       "    }\n",
       "</style>\n",
       "<table border=\"1\" class=\"dataframe\">\n",
       "  <thead>\n",
       "    <tr style=\"text-align: right;\">\n",
       "      <th></th>\n",
       "      <th>y_t</th>\n",
       "      <th>grad_t</th>\n",
       "    </tr>\n",
       "  </thead>\n",
       "  <tbody>\n",
       "    <tr>\n",
       "      <th>0</th>\n",
       "      <td>84.600000</td>\n",
       "      <td>0.000298</td>\n",
       "    </tr>\n",
       "    <tr>\n",
       "      <th>1</th>\n",
       "      <td>84.431933</td>\n",
       "      <td>0.000298</td>\n",
       "    </tr>\n",
       "    <tr>\n",
       "      <th>2</th>\n",
       "      <td>84.263866</td>\n",
       "      <td>0.000297</td>\n",
       "    </tr>\n",
       "    <tr>\n",
       "      <th>3</th>\n",
       "      <td>84.095798</td>\n",
       "      <td>0.000297</td>\n",
       "    </tr>\n",
       "    <tr>\n",
       "      <th>4</th>\n",
       "      <td>83.927731</td>\n",
       "      <td>0.000297</td>\n",
       "    </tr>\n",
       "    <tr>\n",
       "      <th>...</th>\n",
       "      <td>...</td>\n",
       "      <td>...</td>\n",
       "    </tr>\n",
       "    <tr>\n",
       "      <th>9995</th>\n",
       "      <td>NaN</td>\n",
       "      <td>0.000018</td>\n",
       "    </tr>\n",
       "    <tr>\n",
       "      <th>9996</th>\n",
       "      <td>NaN</td>\n",
       "      <td>0.000018</td>\n",
       "    </tr>\n",
       "    <tr>\n",
       "      <th>9997</th>\n",
       "      <td>NaN</td>\n",
       "      <td>0.000018</td>\n",
       "    </tr>\n",
       "    <tr>\n",
       "      <th>9998</th>\n",
       "      <td>NaN</td>\n",
       "      <td>0.000018</td>\n",
       "    </tr>\n",
       "    <tr>\n",
       "      <th>9999</th>\n",
       "      <td>NaN</td>\n",
       "      <td>0.000018</td>\n",
       "    </tr>\n",
       "  </tbody>\n",
       "</table>\n",
       "<p>10000 rows × 2 columns</p>\n",
       "</div>"
      ],
      "text/plain": [
       "            y_t    grad_t\n",
       "0     84.600000  0.000298\n",
       "1     84.431933  0.000298\n",
       "2     84.263866  0.000297\n",
       "3     84.095798  0.000297\n",
       "4     83.927731  0.000297\n",
       "...         ...       ...\n",
       "9995        NaN  0.000018\n",
       "9996        NaN  0.000018\n",
       "9997        NaN  0.000018\n",
       "9998        NaN  0.000018\n",
       "9999        NaN  0.000018\n",
       "\n",
       "[10000 rows x 2 columns]"
      ]
     },
     "execution_count": 9,
     "metadata": {},
     "output_type": "execute_result"
    }
   ],
   "source": [
    "df"
   ]
  },
  {
   "cell_type": "markdown",
   "metadata": {
    "id": "-5esyHu5aFvg"
   },
   "source": [
    "## Plot of the External Forcing from Chaotic Differential Equation"
   ]
  },
  {
   "cell_type": "code",
   "execution_count": 10,
   "metadata": {
    "colab": {
     "base_uri": "https://localhost:8080/",
     "height": 447
    },
    "id": "hGnE43tOh-4p",
    "outputId": "fc396503-b624-4fa5-dfbe-f460207405c6"
   },
   "outputs": [
    {
     "data": {
      "text/plain": [
       "<Axes: >"
      ]
     },
     "execution_count": 10,
     "metadata": {},
     "output_type": "execute_result"
    },
    {
     "data": {
      "image/png": "[encoded data removed]",
      "text/plain": [
       "<Figure size 432x288 with 1 Axes>"
      ]
     },
     "metadata": {
      "needs_background": "light"
     },
     "output_type": "display_data"
    }
   ],
   "source": [
    "df.iloc[:, 0].plot()"
   ]
  },
  {
   "cell_type": "code",
   "execution_count": 11,
   "metadata": {
    "colab": {
     "base_uri": "https://localhost:8080/",
     "height": 447
    },
    "id": "ym4xWUUxaFvg",
    "outputId": "ae6a3495-8ce9-437e-ba81-3ed31deedeae"
   },
   "outputs": [
    {
     "name": "stderr",
     "output_type": "stream",
     "text": [
      "C:\\Users\\Anurag Dutta\\AppData\\Local\\Packages\\PythonSoftwareFoundation.Python.3.9_qbz5n2kfra8p0\\LocalCache\\local-packages\\Python39\\site-packages\\pandas\\core\\arraylike.py:402: RuntimeWarning: divide by zero encountered in log\n",
      "  result = getattr(ufunc, method)(*inputs, **kwargs)\n"
     ]
    },
    {
     "data": {
      "text/plain": [
       "<Axes: >"
      ]
     },
     "execution_count": 11,
     "metadata": {},
     "output_type": "execute_result"
    },
    {
     "data": {
      "image/png": "[encoded data removed]",
      "text/plain": [
       "<Figure size 432x288 with 1 Axes>"
      ]
     },
     "metadata": {
      "needs_background": "light"
     },
     "output_type": "display_data"
    }
   ],
   "source": [
    "import numpy as np\n",
    "c0 = 82.7524  # Value for C0\n",
    "K0 = -0.0031  # Value for K0\n",
    "K1 = -0.0003  # Value for K1\n",
    "a = 0.0000    # Value for a\n",
    "b = 0.0171    # Value for b\n",
    "c = 3.0230    # Value for c\n",
    "\n",
    "L = np.minimum(c0, (df.iloc[:, 1] - (df.iloc[:, 0] * (K0 - K1 * (9 * a * np.log(df.iloc[:, 0] / c0) / (K0 - K1 * c)**2 + 4 * b * np.log(df.iloc[:, 0] / c0) / (K0 - K1 * c) + c)))))\n",
    "L.plot()"
   ]
  },
  {
   "cell_type": "markdown",
   "metadata": {
    "id": "9VyEywnwaFvh"
   },
   "source": [
    "## Preprocessing the data into supervised learning"
   ]
  },
  {
   "cell_type": "code",
   "execution_count": 12,
   "metadata": {
    "id": "6V9dXqzdaFvh"
   },
   "outputs": [],
   "source": [
    "# split a sequence into samples\n",
    "def Supervised(data, n_in=1, n_out=1, dropnan=True):\n",
    "    n_vars = 1 if type(data) is list else data.shape[1]\n",
    "    df = pd.DataFrame(data)\n",
    "    cols, names = list(), list()\n",
    "    # input sequence (t-n_in, ... t-1)\n",
    "    for i in range(n_in, 0, -1):\n",
    "        cols.append(df.shift(i))\n",
    "        names += [('var%d(t-%d)' % (j+1, i)) for j in range(n_vars)]\n",
    "    # forecast sequence (t, t+1, ... t+n_out)\n",
    "    for i in range(0, n_out):\n",
    "      cols.append(df.shift(-i))\n",
    "      if i == 0:\n",
    "        names += [('var%d(t)' % (j+1)) for j in range(n_vars)]\n",
    "      else:\n",
    "        names += [('var%d(t+%d)' % (j+1, i)) for j in range(n_vars)]\n",
    "    # put it all together\n",
    "    agg = pd.concat(cols, axis=1)\n",
    "    agg.columns = names\n",
    "    # drop rows with NaN values\n",
    "    if dropnan:\n",
    "       agg.dropna(inplace=True)\n",
    "    return agg"
   ]
  },
  {
   "cell_type": "code",
   "execution_count": 13,
   "metadata": {
    "colab": {
     "base_uri": "https://localhost:8080/"
    },
    "id": "CrzSrT1HnyfH",
    "outputId": "7e75f928-3e47-499d-eac1-51908015ef78"
   },
   "outputs": [
    {
     "name": "stdout",
     "output_type": "stream",
     "text": [
      "     var1(t-350)  var1(t-349)  var1(t-348)  var1(t-347)  var1(t-346)  \\\n",
      "350    84.600000    84.431933    84.263866    84.095798    83.927731   \n",
      "351    84.431933    84.263866    84.095798    83.927731    83.759664   \n",
      "352    84.263866    84.095798    83.927731    83.759664    83.591597   \n",
      "353    84.095798    83.927731    83.759664    83.591597    83.423529   \n",
      "354    83.927731    83.759664    83.591597    83.423529    83.255462   \n",
      "\n",
      "     var1(t-345)  var1(t-344)  var1(t-343)  var1(t-342)  var1(t-341)  ...  \\\n",
      "350    83.759664    83.591597    83.423529    83.255462    83.092437  ...   \n",
      "351    83.591597    83.423529    83.255462    83.092437    82.991597  ...   \n",
      "352    83.423529    83.255462    83.092437    82.991597    82.890756  ...   \n",
      "353    83.255462    83.092437    82.991597    82.890756    82.789916  ...   \n",
      "354    83.092437    82.991597    82.890756    82.789916    82.689076  ...   \n",
      "\n",
      "     var1(t+95)  var2(t+95)  var1(t+96)  var2(t+96)  var1(t+97)  var2(t+97)  \\\n",
      "350   70.003688    0.000263   69.960738    0.000263   69.917787    0.000263   \n",
      "351   69.960738    0.000263   69.917787    0.000263   69.874837    0.000262   \n",
      "352   69.917787    0.000263   69.874837    0.000262   69.831886    0.000262   \n",
      "353   69.874837    0.000262   69.831886    0.000262   69.788936    0.000262   \n",
      "354   69.831886    0.000262   69.788936    0.000262   69.745985    0.000262   \n",
      "\n",
      "     var1(t+98)  var2(t+98)  var1(t+99)  var2(t+99)  \n",
      "350   69.874837    0.000262   69.831886    0.000262  \n",
      "351   69.831886    0.000262   69.788936    0.000262  \n",
      "352   69.788936    0.000262   69.745985    0.000262  \n",
      "353   69.745985    0.000262   69.703035    0.000262  \n",
      "354   69.703035    0.000262   69.660084    0.000262  \n",
      "\n",
      "[5 rows x 551 columns]\n",
      "Index(['var1(t-350)', 'var1(t-349)', 'var1(t-348)', 'var1(t-347)',\n",
      "       'var1(t-346)', 'var1(t-345)', 'var1(t-344)', 'var1(t-343)',\n",
      "       'var1(t-342)', 'var1(t-341)',\n",
      "       ...\n",
      "       'var1(t+95)', 'var2(t+95)', 'var1(t+96)', 'var2(t+96)', 'var1(t+97)',\n",
      "       'var2(t+97)', 'var1(t+98)', 'var2(t+98)', 'var1(t+99)', 'var2(t+99)'],\n",
      "      dtype='object', length=551)\n"
     ]
    }
   ],
   "source": [
    "data = Supervised(df.values, n_in = 350, n_out = 100)\n",
    "\n",
    "\n",
    "cols_to_drop = []\n",
    "for i in range(2, 351):\n",
    "    cols_to_drop.extend([f'var2(t-{i})'])\n",
    "\n",
    "data.drop(cols_to_drop, axis=1, inplace=True)\n",
    "\n",
    "print(data.head())\n",
    "print(data.columns)"
   ]
  },
  {
   "cell_type": "code",
   "execution_count": 14,
   "metadata": {
    "id": "AfPf60oy6Pe4"
   },
   "outputs": [],
   "source": [
    "train = np.array(data[0:len(data)-1])\n",
    "forecast = np.array(data.tail(1))"
   ]
  },
  {
   "cell_type": "code",
   "execution_count": 15,
   "metadata": {
    "id": "WSAafzI37KiT"
   },
   "outputs": [],
   "source": [
    "trainy = train[:,-300:]\n",
    "trainX = train[:,:-300]"
   ]
  },
  {
   "cell_type": "code",
   "execution_count": 16,
   "metadata": {
    "id": "2SrOqVJA7f50"
   },
   "outputs": [],
   "source": [
    "forecasty = forecast[:,-300:]\n",
    "forecastX = forecast[:,:-300]"
   ]
  },
  {
   "cell_type": "code",
   "execution_count": 17,
   "metadata": {
    "colab": {
     "base_uri": "https://localhost:8080/"
    },
    "id": "Qno_k8Nw7saY",
    "outputId": "c4a88db5-d8c6-489f-cdb2-06b24e293cff"
   },
   "outputs": [
    {
     "name": "stdout",
     "output_type": "stream",
     "text": [
      "(1250, 1, 251) (1250, 300) (1, 1, 251)\n"
     ]
    }
   ],
   "source": [
    "trainX = trainX.reshape((trainX.shape[0], 1, trainX.shape[1]))\n",
    "forecastX = forecastX.reshape((forecastX.shape[0], 1, forecastX.shape[1]))\n",
    "print(trainX.shape, trainy.shape, forecastX.shape)"
   ]
  },
  {
   "cell_type": "code",
   "execution_count": 18,
   "metadata": {
    "colab": {
     "base_uri": "https://localhost:8080/"
    },
    "id": "b1Jp2DvNuNFx",
    "outputId": "d0e5b3c4-64f1-438c-eade-8dfeaac8e285"
   },
   "outputs": [
    {
     "name": "stdout",
     "output_type": "stream",
     "text": [
      "Epoch 1/500\n",
      "16/16 [==============================] - 3s 33ms/step - loss: 3981.7085 - val_loss: 3011.4258\n",
      "Epoch 2/500\n",
      "16/16 [==============================] - 0s 4ms/step - loss: 3907.1069 - val_loss: 2967.9333\n",
      "Epoch 3/500\n",
      "16/16 [==============================] - 0s 5ms/step - loss: 3857.0535 - val_loss: 2925.3494\n",
      "Epoch 4/500\n",
      "16/16 [==============================] - 0s 5ms/step - loss: 3797.7004 - val_loss: 2868.8501\n",
      "Epoch 5/500\n",
      "16/16 [==============================] - 0s 5ms/step - loss: 3743.3132 - val_loss: 2825.0464\n",
      "Epoch 6/500\n",
      "16/16 [==============================] - 0s 5ms/step - loss: 3693.6160 - val_loss: 2781.9570\n",
      "Epoch 7/500\n",
      "16/16 [==============================] - 0s 13ms/step - loss: 3644.6753 - val_loss: 2739.5330\n",
      "Epoch 8/500\n",
      "16/16 [==============================] - 0s 6ms/step - loss: 3596.4106 - val_loss: 2697.7029\n",
      "Epoch 9/500\n",
      "16/16 [==============================] - 0s 5ms/step - loss: 3548.7539 - val_loss: 2656.4185\n",
      "Epoch 10/500\n",
      "16/16 [==============================] - 0s 5ms/step - loss: 3501.6594 - val_loss: 2615.6489\n",
      "Epoch 11/500\n",
      "16/16 [==============================] - 0s 5ms/step - loss: 3454.0464 - val_loss: 2570.3796\n",
      "Epoch 12/500\n",
      "16/16 [==============================] - 0s 5ms/step - loss: 3401.7434 - val_loss: 2527.4314\n",
      "Epoch 13/500\n",
      "16/16 [==============================] - 0s 5ms/step - loss: 3352.6602 - val_loss: 2485.2820\n",
      "Epoch 14/500\n",
      "16/16 [==============================] - 0s 5ms/step - loss: 3304.5759 - val_loss: 2444.0454\n",
      "Epoch 15/500\n",
      "16/16 [==============================] - 0s 5ms/step - loss: 3257.4199 - val_loss: 2403.5828\n",
      "Epoch 16/500\n",
      "16/16 [==============================] - 0s 5ms/step - loss: 3211.0488 - val_loss: 2363.7913\n",
      "Epoch 17/500\n",
      "16/16 [==============================] - 0s 5ms/step - loss: 3165.3677 - val_loss: 2324.6089\n",
      "Epoch 18/500\n",
      "16/16 [==============================] - 0s 5ms/step - loss: 3120.3162 - val_loss: 2285.9929\n",
      "Epoch 19/500\n",
      "16/16 [==============================] - 0s 5ms/step - loss: 3075.8542 - val_loss: 2247.9150\n",
      "Epoch 20/500\n",
      "16/16 [==============================] - 0s 5ms/step - loss: 3031.9529 - val_loss: 2210.3525\n",
      "Epoch 21/500\n",
      "16/16 [==============================] - 0s 5ms/step - loss: 2988.5911 - val_loss: 2173.2893\n",
      "Epoch 22/500\n",
      "16/16 [==============================] - 0s 5ms/step - loss: 2945.7507 - val_loss: 2136.7119\n",
      "Epoch 23/500\n",
      "16/16 [==============================] - 0s 4ms/step - loss: 2903.4189 - val_loss: 2100.6089\n",
      "Epoch 24/500\n",
      "16/16 [==============================] - 0s 4ms/step - loss: 2861.5840 - val_loss: 2064.9707\n",
      "Epoch 25/500\n",
      "16/16 [==============================] - 0s 5ms/step - loss: 2820.2356 - val_loss: 2029.7887\n",
      "Epoch 26/500\n",
      "16/16 [==============================] - 0s 5ms/step - loss: 2779.3655 - val_loss: 1995.0559\n",
      "Epoch 27/500\n",
      "16/16 [==============================] - 0s 5ms/step - loss: 2738.9663 - val_loss: 1960.7649\n",
      "Epoch 28/500\n",
      "16/16 [==============================] - 0s 5ms/step - loss: 2699.0300 - val_loss: 1926.9099\n",
      "Epoch 29/500\n",
      "16/16 [==============================] - 0s 4ms/step - loss: 2659.5510 - val_loss: 1893.4850\n",
      "Epoch 30/500\n",
      "16/16 [==============================] - 0s 5ms/step - loss: 2620.5229 - val_loss: 1860.4843\n",
      "Epoch 31/500\n",
      "16/16 [==============================] - 0s 4ms/step - loss: 2581.9407 - val_loss: 1827.9038\n",
      "Epoch 32/500\n",
      "16/16 [==============================] - 0s 5ms/step - loss: 2543.7991 - val_loss: 1795.7383\n",
      "Epoch 33/500\n",
      "16/16 [==============================] - 0s 5ms/step - loss: 2506.0923 - val_loss: 1763.9825\n",
      "Epoch 34/500\n",
      "16/16 [==============================] - 0s 5ms/step - loss: 2468.8164 - val_loss: 1732.6333\n",
      "Epoch 35/500\n",
      "16/16 [==============================] - 0s 4ms/step - loss: 2431.9670 - val_loss: 1701.6853\n",
      "Epoch 36/500\n",
      "16/16 [==============================] - 0s 5ms/step - loss: 2395.5396 - val_loss: 1671.1349\n",
      "Epoch 37/500\n",
      "16/16 [==============================] - 0s 4ms/step - loss: 2359.5298 - val_loss: 1640.9783\n",
      "Epoch 38/500\n",
      "16/16 [==============================] - 0s 5ms/step - loss: 2323.9338 - val_loss: 1611.2118\n",
      "Epoch 39/500\n",
      "16/16 [==============================] - 0s 5ms/step - loss: 2288.7478 - val_loss: 1581.8314\n",
      "Epoch 40/500\n",
      "16/16 [==============================] - 0s 5ms/step - loss: 2253.9675 - val_loss: 1552.8326\n",
      "Epoch 41/500\n",
      "16/16 [==============================] - 0s 5ms/step - loss: 2219.5898 - val_loss: 1524.2135\n",
      "Epoch 42/500\n",
      "16/16 [==============================] - 0s 4ms/step - loss: 2185.6108 - val_loss: 1495.9690\n",
      "Epoch 43/500\n",
      "16/16 [==============================] - 0s 5ms/step - loss: 2152.0264 - val_loss: 1468.0967\n",
      "Epoch 44/500\n",
      "16/16 [==============================] - 0s 4ms/step - loss: 2118.8340 - val_loss: 1440.5928\n",
      "Epoch 45/500\n",
      "16/16 [==============================] - 0s 7ms/step - loss: 2086.0295 - val_loss: 1413.4539\n",
      "Epoch 46/500\n",
      "16/16 [==============================] - 0s 5ms/step - loss: 2053.6101 - val_loss: 1386.6768\n",
      "Epoch 47/500\n",
      "16/16 [==============================] - 0s 5ms/step - loss: 2021.5718 - val_loss: 1360.2585\n",
      "Epoch 48/500\n",
      "16/16 [==============================] - 0s 5ms/step - loss: 1989.9120 - val_loss: 1334.1954\n",
      "Epoch 49/500\n",
      "16/16 [==============================] - 0s 5ms/step - loss: 1958.6266 - val_loss: 1308.4843\n",
      "Epoch 50/500\n",
      "16/16 [==============================] - 0s 4ms/step - loss: 1927.7137 - val_loss: 1283.1230\n",
      "Epoch 51/500\n",
      "16/16 [==============================] - 0s 5ms/step - loss: 1897.1687 - val_loss: 1258.1071\n",
      "Epoch 52/500\n",
      "16/16 [==============================] - 0s 4ms/step - loss: 1866.9896 - val_loss: 1233.4342\n",
      "Epoch 53/500\n",
      "16/16 [==============================] - 0s 5ms/step - loss: 1837.1730 - val_loss: 1209.1012\n",
      "Epoch 54/500\n",
      "16/16 [==============================] - 0s 5ms/step - loss: 1807.7161 - val_loss: 1185.1055\n",
      "Epoch 55/500\n",
      "16/16 [==============================] - 0s 5ms/step - loss: 1778.6149 - val_loss: 1161.4432\n",
      "Epoch 56/500\n",
      "16/16 [==============================] - 0s 5ms/step - loss: 1749.8674 - val_loss: 1138.1127\n",
      "Epoch 57/500\n",
      "16/16 [==============================] - 0s 5ms/step - loss: 1721.4705 - val_loss: 1115.1095\n",
      "Epoch 58/500\n",
      "16/16 [==============================] - 0s 5ms/step - loss: 1693.4209 - val_loss: 1092.4320\n",
      "Epoch 59/500\n",
      "16/16 [==============================] - 0s 5ms/step - loss: 1665.7163 - val_loss: 1070.0768\n",
      "Epoch 60/500\n",
      "16/16 [==============================] - 0s 5ms/step - loss: 1638.3535 - val_loss: 1048.0410\n",
      "Epoch 61/500\n",
      "16/16 [==============================] - 0s 5ms/step - loss: 1611.3292 - val_loss: 1026.3220\n",
      "Epoch 62/500\n",
      "16/16 [==============================] - 0s 4ms/step - loss: 1584.6417 - val_loss: 1004.9169\n",
      "Epoch 63/500\n",
      "16/16 [==============================] - 0s 5ms/step - loss: 1558.2869 - val_loss: 983.8232\n",
      "Epoch 64/500\n",
      "16/16 [==============================] - 0s 5ms/step - loss: 1532.2629 - val_loss: 963.0376\n",
      "Epoch 65/500\n",
      "16/16 [==============================] - 0s 5ms/step - loss: 1506.5669 - val_loss: 942.5577\n",
      "Epoch 66/500\n",
      "16/16 [==============================] - 0s 5ms/step - loss: 1481.1960 - val_loss: 922.3807\n",
      "Epoch 67/500\n",
      "16/16 [==============================] - 0s 4ms/step - loss: 1456.1473 - val_loss: 902.5040\n",
      "Epoch 68/500\n",
      "16/16 [==============================] - 0s 5ms/step - loss: 1431.4181 - val_loss: 882.9247\n",
      "Epoch 69/500\n",
      "16/16 [==============================] - 0s 5ms/step - loss: 1407.0061 - val_loss: 863.6406\n",
      "Epoch 70/500\n",
      "16/16 [==============================] - 0s 5ms/step - loss: 1382.9083 - val_loss: 844.6483\n",
      "Epoch 71/500\n",
      "16/16 [==============================] - 0s 4ms/step - loss: 1359.1222 - val_loss: 825.9455\n",
      "Epoch 72/500\n",
      "16/16 [==============================] - 0s 5ms/step - loss: 1335.6453 - val_loss: 807.5299\n",
      "Epoch 73/500\n",
      "16/16 [==============================] - 0s 5ms/step - loss: 1312.4745 - val_loss: 789.3986\n",
      "Epoch 74/500\n",
      "16/16 [==============================] - 0s 5ms/step - loss: 1289.6080 - val_loss: 771.5488\n",
      "Epoch 75/500\n",
      "16/16 [==============================] - 0s 5ms/step - loss: 1267.0422 - val_loss: 753.9783\n",
      "Epoch 76/500\n",
      "16/16 [==============================] - 0s 5ms/step - loss: 1244.7756 - val_loss: 736.6843\n",
      "Epoch 77/500\n",
      "16/16 [==============================] - 0s 5ms/step - loss: 1222.8049 - val_loss: 719.6645\n",
      "Epoch 78/500\n",
      "16/16 [==============================] - 0s 5ms/step - loss: 1201.1282 - val_loss: 702.9160\n",
      "Epoch 79/500\n",
      "16/16 [==============================] - 0s 5ms/step - loss: 1179.7421 - val_loss: 686.4368\n",
      "Epoch 80/500\n",
      "16/16 [==============================] - 0s 4ms/step - loss: 1158.6448 - val_loss: 670.2238\n",
      "Epoch 81/500\n",
      "16/16 [==============================] - 0s 9ms/step - loss: 1137.8339 - val_loss: 654.2750\n",
      "Epoch 82/500\n",
      "16/16 [==============================] - 0s 5ms/step - loss: 1117.3062 - val_loss: 638.5874\n",
      "Epoch 83/500\n",
      "16/16 [==============================] - 0s 5ms/step - loss: 1097.0596 - val_loss: 623.1587\n",
      "Epoch 84/500\n",
      "16/16 [==============================] - 0s 5ms/step - loss: 1077.0919 - val_loss: 607.9866\n",
      "Epoch 85/500\n",
      "16/16 [==============================] - 0s 5ms/step - loss: 1057.4008 - val_loss: 593.0693\n",
      "Epoch 86/500\n",
      "16/16 [==============================] - 0s 4ms/step - loss: 1037.9834 - val_loss: 578.4026\n",
      "Epoch 87/500\n",
      "16/16 [==============================] - 0s 4ms/step - loss: 1018.8371 - val_loss: 563.9856\n",
      "Epoch 88/500\n",
      "16/16 [==============================] - 0s 5ms/step - loss: 999.9601 - val_loss: 549.8156\n",
      "Epoch 89/500\n",
      "16/16 [==============================] - 0s 5ms/step - loss: 981.3501 - val_loss: 535.8898\n",
      "Epoch 90/500\n",
      "16/16 [==============================] - 0s 5ms/step - loss: 963.0042 - val_loss: 522.2057\n",
      "Epoch 91/500\n",
      "16/16 [==============================] - 0s 5ms/step - loss: 944.9198 - val_loss: 508.7614\n",
      "Epoch 92/500\n",
      "16/16 [==============================] - 0s 6ms/step - loss: 927.0952 - val_loss: 495.5544\n",
      "Epoch 93/500\n",
      "16/16 [==============================] - 0s 5ms/step - loss: 909.5280 - val_loss: 482.5821\n",
      "Epoch 94/500\n",
      "16/16 [==============================] - 0s 5ms/step - loss: 892.2152 - val_loss: 469.8422\n",
      "Epoch 95/500\n",
      "16/16 [==============================] - 0s 5ms/step - loss: 875.1552 - val_loss: 457.3323\n",
      "Epoch 96/500\n",
      "16/16 [==============================] - 0s 4ms/step - loss: 858.3453 - val_loss: 445.0505\n",
      "Epoch 97/500\n",
      "16/16 [==============================] - 0s 5ms/step - loss: 841.7834 - val_loss: 432.9943\n",
      "Epoch 98/500\n",
      "16/16 [==============================] - 0s 5ms/step - loss: 825.4669 - val_loss: 421.1605\n",
      "Epoch 99/500\n",
      "16/16 [==============================] - 0s 5ms/step - loss: 809.3939 - val_loss: 409.5480\n",
      "Epoch 100/500\n",
      "16/16 [==============================] - 0s 5ms/step - loss: 793.5616 - val_loss: 398.1536\n",
      "Epoch 101/500\n",
      "16/16 [==============================] - 0s 5ms/step - loss: 777.9683 - val_loss: 386.9755\n",
      "Epoch 102/500\n",
      "16/16 [==============================] - 0s 5ms/step - loss: 762.6113 - val_loss: 376.0112\n",
      "Epoch 103/500\n",
      "16/16 [==============================] - 0s 5ms/step - loss: 747.4885 - val_loss: 365.2588\n",
      "Epoch 104/500\n",
      "16/16 [==============================] - 0s 5ms/step - loss: 732.5979 - val_loss: 354.7156\n",
      "Epoch 105/500\n",
      "16/16 [==============================] - 0s 4ms/step - loss: 717.9370 - val_loss: 344.3792\n",
      "Epoch 106/500\n",
      "16/16 [==============================] - 0s 5ms/step - loss: 703.5033 - val_loss: 334.2478\n",
      "Epoch 107/500\n",
      "16/16 [==============================] - 0s 5ms/step - loss: 689.2953 - val_loss: 324.3190\n",
      "Epoch 108/500\n",
      "16/16 [==============================] - 0s 5ms/step - loss: 675.3105 - val_loss: 314.5908\n",
      "Epoch 109/500\n",
      "16/16 [==============================] - 0s 5ms/step - loss: 661.5466 - val_loss: 305.0602\n",
      "Epoch 110/500\n",
      "16/16 [==============================] - 0s 5ms/step - loss: 648.0012 - val_loss: 295.7258\n",
      "Epoch 111/500\n",
      "16/16 [==============================] - 0s 10ms/step - loss: 634.6723 - val_loss: 286.5847\n",
      "Epoch 112/500\n",
      "16/16 [==============================] - 0s 4ms/step - loss: 621.5577 - val_loss: 277.6352\n",
      "Epoch 113/500\n",
      "16/16 [==============================] - 0s 5ms/step - loss: 608.6556 - val_loss: 268.8750\n",
      "Epoch 114/500\n",
      "16/16 [==============================] - 0s 5ms/step - loss: 595.9636 - val_loss: 260.3017\n",
      "Epoch 115/500\n",
      "16/16 [==============================] - 0s 5ms/step - loss: 583.4794 - val_loss: 251.9133\n",
      "Epoch 116/500\n",
      "16/16 [==============================] - 0s 5ms/step - loss: 571.2010 - val_loss: 243.7078\n",
      "Epoch 117/500\n",
      "16/16 [==============================] - 0s 5ms/step - loss: 559.1264 - val_loss: 235.6824\n",
      "Epoch 118/500\n",
      "16/16 [==============================] - 0s 5ms/step - loss: 547.2531 - val_loss: 227.8358\n",
      "Epoch 119/500\n",
      "16/16 [==============================] - 0s 5ms/step - loss: 535.5792 - val_loss: 220.1651\n",
      "Epoch 120/500\n",
      "16/16 [==============================] - 0s 5ms/step - loss: 524.1027 - val_loss: 212.6683\n",
      "Epoch 121/500\n",
      "16/16 [==============================] - 0s 5ms/step - loss: 512.8213 - val_loss: 205.3432\n",
      "Epoch 122/500\n",
      "16/16 [==============================] - 0s 5ms/step - loss: 501.7329 - val_loss: 198.1884\n",
      "Epoch 123/500\n",
      "16/16 [==============================] - 0s 5ms/step - loss: 490.8357 - val_loss: 191.2007\n",
      "Epoch 124/500\n",
      "16/16 [==============================] - 0s 4ms/step - loss: 480.1271 - val_loss: 184.3788\n",
      "Epoch 125/500\n",
      "16/16 [==============================] - 0s 5ms/step - loss: 469.6056 - val_loss: 177.7201\n",
      "Epoch 126/500\n",
      "16/16 [==============================] - 0s 5ms/step - loss: 459.2691 - val_loss: 171.2229\n",
      "Epoch 127/500\n",
      "16/16 [==============================] - 0s 5ms/step - loss: 449.1152 - val_loss: 164.8849\n",
      "Epoch 128/500\n",
      "16/16 [==============================] - 0s 5ms/step - loss: 439.1422 - val_loss: 158.7039\n",
      "Epoch 129/500\n",
      "16/16 [==============================] - 0s 5ms/step - loss: 429.3478 - val_loss: 152.6778\n",
      "Epoch 130/500\n",
      "16/16 [==============================] - 0s 5ms/step - loss: 419.7300 - val_loss: 146.8048\n",
      "Epoch 131/500\n",
      "16/16 [==============================] - 0s 5ms/step - loss: 410.2867 - val_loss: 141.0825\n",
      "Epoch 132/500\n",
      "16/16 [==============================] - 0s 5ms/step - loss: 401.0158 - val_loss: 135.5091\n",
      "Epoch 133/500\n",
      "16/16 [==============================] - 0s 5ms/step - loss: 391.9157 - val_loss: 130.0821\n",
      "Epoch 134/500\n",
      "16/16 [==============================] - 0s 5ms/step - loss: 382.9840 - val_loss: 124.7999\n",
      "Epoch 135/500\n",
      "16/16 [==============================] - 0s 5ms/step - loss: 374.2190 - val_loss: 119.6603\n",
      "Epoch 136/500\n",
      "16/16 [==============================] - 0s 5ms/step - loss: 365.6183 - val_loss: 114.6615\n",
      "Epoch 137/500\n",
      "16/16 [==============================] - 0s 5ms/step - loss: 357.1805 - val_loss: 109.8011\n",
      "Epoch 138/500\n",
      "16/16 [==============================] - 0s 5ms/step - loss: 348.9032 - val_loss: 105.0775\n",
      "Epoch 139/500\n",
      "16/16 [==============================] - 0s 5ms/step - loss: 340.7847 - val_loss: 100.4881\n",
      "Epoch 140/500\n",
      "16/16 [==============================] - 0s 5ms/step - loss: 332.8228 - val_loss: 96.0317\n",
      "Epoch 141/500\n",
      "16/16 [==============================] - 0s 5ms/step - loss: 325.0157 - val_loss: 91.7054\n",
      "Epoch 142/500\n",
      "16/16 [==============================] - 0s 9ms/step - loss: 317.3612 - val_loss: 87.5078\n",
      "Epoch 143/500\n",
      "16/16 [==============================] - 0s 5ms/step - loss: 309.8577 - val_loss: 83.4368\n",
      "Epoch 144/500\n",
      "16/16 [==============================] - 0s 5ms/step - loss: 302.5032 - val_loss: 79.4903\n",
      "Epoch 145/500\n",
      "16/16 [==============================] - 0s 5ms/step - loss: 295.2956 - val_loss: 75.6666\n",
      "Epoch 146/500\n",
      "16/16 [==============================] - 0s 5ms/step - loss: 288.2334 - val_loss: 71.9637\n",
      "Epoch 147/500\n",
      "16/16 [==============================] - 0s 5ms/step - loss: 281.3144 - val_loss: 68.3795\n",
      "Epoch 148/500\n",
      "16/16 [==============================] - 0s 5ms/step - loss: 274.5367 - val_loss: 64.9119\n",
      "Epoch 149/500\n",
      "16/16 [==============================] - 0s 5ms/step - loss: 267.8983 - val_loss: 61.5594\n",
      "Epoch 150/500\n",
      "16/16 [==============================] - 0s 5ms/step - loss: 261.3976 - val_loss: 58.3199\n",
      "Epoch 151/500\n",
      "16/16 [==============================] - 0s 4ms/step - loss: 255.0326 - val_loss: 55.1912\n",
      "Epoch 152/500\n",
      "16/16 [==============================] - 0s 4ms/step - loss: 248.8013 - val_loss: 52.1720\n",
      "Epoch 153/500\n",
      "16/16 [==============================] - 0s 5ms/step - loss: 242.7021 - val_loss: 49.2598\n",
      "Epoch 154/500\n",
      "16/16 [==============================] - 0s 5ms/step - loss: 236.7329 - val_loss: 46.4530\n",
      "Epoch 155/500\n",
      "16/16 [==============================] - 0s 5ms/step - loss: 230.8921 - val_loss: 43.7498\n",
      "Epoch 156/500\n",
      "16/16 [==============================] - 0s 4ms/step - loss: 225.1778 - val_loss: 41.1482\n",
      "Epoch 157/500\n",
      "16/16 [==============================] - 0s 5ms/step - loss: 219.5880 - val_loss: 38.6462\n",
      "Epoch 158/500\n",
      "16/16 [==============================] - 0s 4ms/step - loss: 214.1211 - val_loss: 36.2423\n",
      "Epoch 159/500\n",
      "16/16 [==============================] - 0s 6ms/step - loss: 208.7753 - val_loss: 33.9346\n",
      "Epoch 160/500\n",
      "16/16 [==============================] - 0s 5ms/step - loss: 203.5488 - val_loss: 31.7211\n",
      "Epoch 161/500\n",
      "16/16 [==============================] - 0s 5ms/step - loss: 198.4398 - val_loss: 29.6001\n",
      "Epoch 162/500\n",
      "16/16 [==============================] - 0s 5ms/step - loss: 193.4464 - val_loss: 27.5697\n",
      "Epoch 163/500\n",
      "16/16 [==============================] - 0s 5ms/step - loss: 188.5669 - val_loss: 25.6281\n",
      "Epoch 164/500\n",
      "16/16 [==============================] - 0s 7ms/step - loss: 183.7997 - val_loss: 23.7737\n",
      "Epoch 165/500\n",
      "16/16 [==============================] - 0s 6ms/step - loss: 179.1429 - val_loss: 22.0045\n",
      "Epoch 166/500\n",
      "16/16 [==============================] - 0s 5ms/step - loss: 174.5949 - val_loss: 20.3189\n",
      "Epoch 167/500\n",
      "16/16 [==============================] - 0s 5ms/step - loss: 170.1537 - val_loss: 18.7150\n",
      "Epoch 168/500\n",
      "16/16 [==============================] - 0s 5ms/step - loss: 165.8179 - val_loss: 17.1914\n",
      "Epoch 169/500\n",
      "16/16 [==============================] - 0s 5ms/step - loss: 161.5857 - val_loss: 15.7460\n",
      "Epoch 170/500\n",
      "16/16 [==============================] - 0s 5ms/step - loss: 157.4553 - val_loss: 14.3772\n",
      "Epoch 171/500\n",
      "16/16 [==============================] - 0s 4ms/step - loss: 153.4253 - val_loss: 13.0833\n",
      "Epoch 172/500\n",
      "16/16 [==============================] - 0s 5ms/step - loss: 149.4937 - val_loss: 11.8627\n",
      "Epoch 173/500\n",
      "16/16 [==============================] - 0s 5ms/step - loss: 145.6589 - val_loss: 10.7137\n",
      "Epoch 174/500\n",
      "16/16 [==============================] - 0s 5ms/step - loss: 141.9195 - val_loss: 9.6345\n",
      "Epoch 175/500\n",
      "16/16 [==============================] - 0s 4ms/step - loss: 138.2736 - val_loss: 8.6235\n",
      "Epoch 176/500\n",
      "16/16 [==============================] - 0s 5ms/step - loss: 134.7197 - val_loss: 7.6792\n",
      "Epoch 177/500\n",
      "16/16 [==============================] - 0s 5ms/step - loss: 131.2561 - val_loss: 6.7998\n",
      "Epoch 178/500\n",
      "16/16 [==============================] - 0s 8ms/step - loss: 127.8811 - val_loss: 5.9838\n",
      "Epoch 179/500\n",
      "16/16 [==============================] - 0s 4ms/step - loss: 124.5936 - val_loss: 5.2296\n",
      "Epoch 180/500\n",
      "16/16 [==============================] - 0s 4ms/step - loss: 121.3915 - val_loss: 4.5355\n",
      "Epoch 181/500\n",
      "16/16 [==============================] - 0s 5ms/step - loss: 118.2735 - val_loss: 3.9001\n",
      "Epoch 182/500\n",
      "16/16 [==============================] - 0s 5ms/step - loss: 115.2377 - val_loss: 3.3217\n",
      "Epoch 183/500\n",
      "16/16 [==============================] - 0s 5ms/step - loss: 112.2830 - val_loss: 2.7988\n",
      "Epoch 184/500\n",
      "16/16 [==============================] - 0s 4ms/step - loss: 109.4076 - val_loss: 2.3299\n",
      "Epoch 185/500\n",
      "16/16 [==============================] - 0s 5ms/step - loss: 106.6101 - val_loss: 1.9135\n",
      "Epoch 186/500\n",
      "16/16 [==============================] - 0s 5ms/step - loss: 103.8889 - val_loss: 1.5481\n",
      "Epoch 187/500\n",
      "16/16 [==============================] - 0s 4ms/step - loss: 101.2426 - val_loss: 1.2322\n",
      "Epoch 188/500\n",
      "16/16 [==============================] - 0s 4ms/step - loss: 98.6697 - val_loss: 0.9644\n",
      "Epoch 189/500\n",
      "16/16 [==============================] - 0s 4ms/step - loss: 96.1688 - val_loss: 0.7431\n",
      "Epoch 190/500\n",
      "16/16 [==============================] - 0s 5ms/step - loss: 93.7384 - val_loss: 0.5671\n",
      "Epoch 191/500\n",
      "16/16 [==============================] - 0s 5ms/step - loss: 91.3770 - val_loss: 0.4348\n",
      "Epoch 192/500\n",
      "16/16 [==============================] - 0s 5ms/step - loss: 89.0833 - val_loss: 0.3448\n",
      "Epoch 193/500\n",
      "16/16 [==============================] - 0s 5ms/step - loss: 86.8558 - val_loss: 0.2958\n",
      "Epoch 194/500\n",
      "16/16 [==============================] - 0s 4ms/step - loss: 84.6932 - val_loss: 0.2864\n",
      "Epoch 195/500\n",
      "16/16 [==============================] - 0s 5ms/step - loss: 82.5939 - val_loss: 0.3153\n",
      "Epoch 196/500\n",
      "16/16 [==============================] - 0s 4ms/step - loss: 80.5569 - val_loss: 0.3812\n",
      "Epoch 197/500\n",
      "16/16 [==============================] - 0s 5ms/step - loss: 78.5805 - val_loss: 0.4826\n",
      "Epoch 198/500\n",
      "16/16 [==============================] - 0s 4ms/step - loss: 76.6635 - val_loss: 0.6184\n",
      "Epoch 199/500\n",
      "16/16 [==============================] - 0s 4ms/step - loss: 74.8045 - val_loss: 0.7872\n",
      "Epoch 200/500\n",
      "16/16 [==============================] - 0s 5ms/step - loss: 73.0024 - val_loss: 0.9879\n",
      "Epoch 201/500\n",
      "16/16 [==============================] - 0s 5ms/step - loss: 71.2558 - val_loss: 1.2190\n",
      "Epoch 202/500\n",
      "16/16 [==============================] - 0s 4ms/step - loss: 69.5635 - val_loss: 1.4795\n",
      "Epoch 203/500\n",
      "16/16 [==============================] - 0s 4ms/step - loss: 67.9241 - val_loss: 1.7682\n",
      "Epoch 204/500\n",
      "16/16 [==============================] - 0s 5ms/step - loss: 66.3364 - val_loss: 2.0838\n",
      "Epoch 205/500\n",
      "16/16 [==============================] - 0s 9ms/step - loss: 64.7991 - val_loss: 2.4251\n",
      "Epoch 206/500\n",
      "16/16 [==============================] - 0s 4ms/step - loss: 63.3114 - val_loss: 2.7912\n",
      "Epoch 207/500\n",
      "16/16 [==============================] - 0s 5ms/step - loss: 61.8716 - val_loss: 3.1807\n",
      "Epoch 208/500\n",
      "16/16 [==============================] - 0s 4ms/step - loss: 60.4787 - val_loss: 3.5925\n",
      "Epoch 209/500\n",
      "16/16 [==============================] - 0s 5ms/step - loss: 59.1317 - val_loss: 4.0258\n",
      "Epoch 210/500\n",
      "16/16 [==============================] - 0s 5ms/step - loss: 57.8292 - val_loss: 4.4792\n",
      "Epoch 211/500\n",
      "16/16 [==============================] - 0s 5ms/step - loss: 56.5703 - val_loss: 4.9519\n",
      "Epoch 212/500\n",
      "16/16 [==============================] - 0s 5ms/step - loss: 55.3536 - val_loss: 5.4427\n",
      "Epoch 213/500\n",
      "16/16 [==============================] - 0s 5ms/step - loss: 54.1783 - val_loss: 5.9506\n",
      "Epoch 214/500\n",
      "16/16 [==============================] - 0s 5ms/step - loss: 53.0432 - val_loss: 6.4748\n",
      "Epoch 215/500\n",
      "16/16 [==============================] - 0s 5ms/step - loss: 51.9473 - val_loss: 7.0142\n",
      "Epoch 216/500\n",
      "16/16 [==============================] - 0s 6ms/step - loss: 50.8894 - val_loss: 7.5678\n",
      "Epoch 217/500\n",
      "16/16 [==============================] - 0s 6ms/step - loss: 49.8685 - val_loss: 8.1348\n",
      "Epoch 218/500\n",
      "16/16 [==============================] - 0s 5ms/step - loss: 48.8836 - val_loss: 8.7142\n",
      "Epoch 219/500\n",
      "16/16 [==============================] - 0s 6ms/step - loss: 47.9339 - val_loss: 9.3051\n",
      "Epoch 220/500\n",
      "16/16 [==============================] - 0s 5ms/step - loss: 47.0182 - val_loss: 9.9066\n",
      "Epoch 221/500\n",
      "16/16 [==============================] - 0s 5ms/step - loss: 46.1357 - val_loss: 10.5180\n",
      "Epoch 222/500\n",
      "16/16 [==============================] - 0s 5ms/step - loss: 45.2854 - val_loss: 11.1383\n",
      "Epoch 223/500\n",
      "16/16 [==============================] - 0s 5ms/step - loss: 44.4663 - val_loss: 11.7669\n",
      "Epoch 224/500\n",
      "16/16 [==============================] - 0s 5ms/step - loss: 43.6775 - val_loss: 12.4029\n",
      "Epoch 225/500\n",
      "16/16 [==============================] - 0s 5ms/step - loss: 42.9182 - val_loss: 13.0455\n",
      "Epoch 226/500\n",
      "16/16 [==============================] - 0s 5ms/step - loss: 42.1874 - val_loss: 13.6940\n",
      "Epoch 227/500\n",
      "16/16 [==============================] - 0s 5ms/step - loss: 41.4843 - val_loss: 14.3477\n",
      "Epoch 228/500\n",
      "16/16 [==============================] - 0s 5ms/step - loss: 40.8081 - val_loss: 15.0059\n",
      "Epoch 229/500\n",
      "16/16 [==============================] - 0s 5ms/step - loss: 40.1581 - val_loss: 15.6678\n",
      "Epoch 230/500\n",
      "16/16 [==============================] - 0s 10ms/step - loss: 39.5332 - val_loss: 16.3328\n",
      "Epoch 231/500\n",
      "16/16 [==============================] - 0s 5ms/step - loss: 38.9328 - val_loss: 17.0003\n",
      "Epoch 232/500\n",
      "16/16 [==============================] - 0s 5ms/step - loss: 38.3560 - val_loss: 17.6697\n",
      "Epoch 233/500\n",
      "16/16 [==============================] - 0s 5ms/step - loss: 37.8022 - val_loss: 18.3403\n",
      "Epoch 234/500\n",
      "16/16 [==============================] - 0s 5ms/step - loss: 37.2705 - val_loss: 19.0115\n",
      "Epoch 235/500\n",
      "16/16 [==============================] - 0s 5ms/step - loss: 36.7603 - val_loss: 19.6830\n",
      "Epoch 236/500\n",
      "16/16 [==============================] - 0s 5ms/step - loss: 36.2708 - val_loss: 20.3539\n",
      "Epoch 237/500\n",
      "16/16 [==============================] - 0s 5ms/step - loss: 35.8013 - val_loss: 21.0239\n",
      "Epoch 238/500\n",
      "16/16 [==============================] - 0s 5ms/step - loss: 35.3513 - val_loss: 21.6922\n",
      "Epoch 239/500\n",
      "16/16 [==============================] - 0s 5ms/step - loss: 34.9200 - val_loss: 22.3590\n",
      "Epoch 240/500\n",
      "16/16 [==============================] - 0s 5ms/step - loss: 34.5067 - val_loss: 23.0231\n",
      "Epoch 241/500\n",
      "16/16 [==============================] - 0s 5ms/step - loss: 34.1108 - val_loss: 23.6842\n",
      "Epoch 242/500\n",
      "16/16 [==============================] - 0s 5ms/step - loss: 33.7319 - val_loss: 24.3421\n",
      "Epoch 243/500\n",
      "16/16 [==============================] - 0s 5ms/step - loss: 33.3691 - val_loss: 24.9962\n",
      "Epoch 244/500\n",
      "16/16 [==============================] - 0s 5ms/step - loss: 33.0220 - val_loss: 25.6463\n",
      "Epoch 245/500\n",
      "16/16 [==============================] - 0s 5ms/step - loss: 32.6900 - val_loss: 26.2918\n",
      "Epoch 246/500\n",
      "16/16 [==============================] - 0s 5ms/step - loss: 32.3725 - val_loss: 26.9324\n",
      "Epoch 247/500\n",
      "16/16 [==============================] - 0s 5ms/step - loss: 32.0690 - val_loss: 27.5681\n",
      "Epoch 248/500\n",
      "16/16 [==============================] - 0s 5ms/step - loss: 31.7790 - val_loss: 28.1982\n",
      "Epoch 249/500\n",
      "16/16 [==============================] - 0s 5ms/step - loss: 31.5019 - val_loss: 28.8223\n",
      "Epoch 250/500\n",
      "16/16 [==============================] - 0s 5ms/step - loss: 31.2373 - val_loss: 29.4404\n",
      "Epoch 251/500\n",
      "16/16 [==============================] - 0s 5ms/step - loss: 30.9847 - val_loss: 30.0521\n",
      "Epoch 252/500\n",
      "16/16 [==============================] - 0s 5ms/step - loss: 30.7437 - val_loss: 30.6569\n",
      "Epoch 253/500\n",
      "16/16 [==============================] - 0s 5ms/step - loss: 30.5138 - val_loss: 31.2550\n",
      "Epoch 254/500\n",
      "16/16 [==============================] - 0s 5ms/step - loss: 30.2944 - val_loss: 31.8460\n",
      "Epoch 255/500\n",
      "16/16 [==============================] - 0s 10ms/step - loss: 30.0854 - val_loss: 32.4295\n",
      "Epoch 256/500\n",
      "16/16 [==============================] - 0s 5ms/step - loss: 29.8861 - val_loss: 33.0056\n",
      "Epoch 257/500\n",
      "16/16 [==============================] - 0s 5ms/step - loss: 29.6962 - val_loss: 33.5738\n",
      "Epoch 258/500\n",
      "16/16 [==============================] - 0s 5ms/step - loss: 29.5154 - val_loss: 34.1343\n",
      "Epoch 259/500\n",
      "16/16 [==============================] - 0s 5ms/step - loss: 29.3432 - val_loss: 34.6867\n",
      "Epoch 260/500\n",
      "16/16 [==============================] - 0s 5ms/step - loss: 29.1793 - val_loss: 35.2310\n",
      "Epoch 261/500\n",
      "16/16 [==============================] - 0s 5ms/step - loss: 29.0233 - val_loss: 35.7667\n",
      "Epoch 262/500\n",
      "16/16 [==============================] - 0s 5ms/step - loss: 28.8750 - val_loss: 36.2942\n",
      "Epoch 263/500\n",
      "16/16 [==============================] - 0s 5ms/step - loss: 28.7339 - val_loss: 36.8129\n",
      "Epoch 264/500\n",
      "16/16 [==============================] - 0s 5ms/step - loss: 28.5998 - val_loss: 37.3233\n",
      "Epoch 265/500\n",
      "16/16 [==============================] - 0s 5ms/step - loss: 28.4723 - val_loss: 37.8248\n",
      "Epoch 266/500\n",
      "16/16 [==============================] - 0s 5ms/step - loss: 28.3513 - val_loss: 38.3176\n",
      "Epoch 267/500\n",
      "16/16 [==============================] - 0s 5ms/step - loss: 28.2362 - val_loss: 38.8015\n",
      "Epoch 268/500\n",
      "16/16 [==============================] - 0s 5ms/step - loss: 28.1270 - val_loss: 39.2766\n",
      "Epoch 269/500\n",
      "16/16 [==============================] - 0s 5ms/step - loss: 28.0234 - val_loss: 39.7427\n",
      "Epoch 270/500\n",
      "16/16 [==============================] - 0s 5ms/step - loss: 27.9250 - val_loss: 40.2000\n",
      "Epoch 271/500\n",
      "16/16 [==============================] - 0s 5ms/step - loss: 27.8317 - val_loss: 40.6481\n",
      "Epoch 272/500\n",
      "16/16 [==============================] - 0s 5ms/step - loss: 27.7433 - val_loss: 41.0873\n",
      "Epoch 273/500\n",
      "16/16 [==============================] - 0s 5ms/step - loss: 27.6594 - val_loss: 41.5176\n",
      "Epoch 274/500\n",
      "16/16 [==============================] - 0s 4ms/step - loss: 27.5799 - val_loss: 41.9389\n",
      "Epoch 275/500\n",
      "16/16 [==============================] - 0s 5ms/step - loss: 27.5046 - val_loss: 42.3513\n",
      "Epoch 276/500\n",
      "16/16 [==============================] - 0s 5ms/step - loss: 27.4332 - val_loss: 42.7548\n",
      "Epoch 277/500\n",
      "16/16 [==============================] - 0s 5ms/step - loss: 27.3657 - val_loss: 43.1492\n",
      "Epoch 278/500\n",
      "16/16 [==============================] - 0s 5ms/step - loss: 27.3017 - val_loss: 43.5349\n",
      "Epoch 279/500\n",
      "16/16 [==============================] - 0s 9ms/step - loss: 27.2412 - val_loss: 43.9119\n",
      "Epoch 280/500\n",
      "16/16 [==============================] - 0s 4ms/step - loss: 27.1839 - val_loss: 44.2803\n",
      "Epoch 281/500\n",
      "16/16 [==============================] - 0s 5ms/step - loss: 27.1297 - val_loss: 44.6395\n",
      "Epoch 282/500\n",
      "16/16 [==============================] - 0s 4ms/step - loss: 27.0785 - val_loss: 44.9905\n",
      "Epoch 283/500\n",
      "16/16 [==============================] - 0s 5ms/step - loss: 27.0301 - val_loss: 45.3328\n",
      "Epoch 284/500\n",
      "16/16 [==============================] - 0s 4ms/step - loss: 26.9843 - val_loss: 45.6668\n",
      "Epoch 285/500\n",
      "16/16 [==============================] - 0s 4ms/step - loss: 26.9410 - val_loss: 45.9925\n",
      "Epoch 286/500\n",
      "16/16 [==============================] - 0s 5ms/step - loss: 26.9000 - val_loss: 46.3099\n",
      "Epoch 287/500\n",
      "16/16 [==============================] - 0s 5ms/step - loss: 26.8614 - val_loss: 46.6189\n",
      "Epoch 288/500\n",
      "16/16 [==============================] - 0s 4ms/step - loss: 26.8249 - val_loss: 46.9200\n",
      "Epoch 289/500\n",
      "16/16 [==============================] - 0s 5ms/step - loss: 26.7905 - val_loss: 47.2131\n",
      "Epoch 290/500\n",
      "16/16 [==============================] - 0s 5ms/step - loss: 26.7580 - val_loss: 47.4982\n",
      "Epoch 291/500\n",
      "16/16 [==============================] - 0s 4ms/step - loss: 26.7272 - val_loss: 47.7757\n",
      "Epoch 292/500\n",
      "16/16 [==============================] - 0s 4ms/step - loss: 26.6983 - val_loss: 48.0453\n",
      "Epoch 293/500\n",
      "16/16 [==============================] - 0s 7ms/step - loss: 26.6710 - val_loss: 48.3078\n",
      "Epoch 294/500\n",
      "16/16 [==============================] - 0s 7ms/step - loss: 26.6451 - val_loss: 48.5626\n",
      "Epoch 295/500\n",
      "16/16 [==============================] - 0s 5ms/step - loss: 26.6208 - val_loss: 48.8102\n",
      "Epoch 296/500\n",
      "16/16 [==============================] - 0s 5ms/step - loss: 26.5979 - val_loss: 49.0503\n",
      "Epoch 297/500\n",
      "16/16 [==============================] - 0s 5ms/step - loss: 26.5763 - val_loss: 49.2838\n",
      "Epoch 298/500\n",
      "16/16 [==============================] - 0s 5ms/step - loss: 26.5559 - val_loss: 49.5103\n",
      "Epoch 299/500\n",
      "16/16 [==============================] - 0s 7ms/step - loss: 26.5367 - val_loss: 49.7298\n",
      "Epoch 300/500\n",
      "16/16 [==============================] - 0s 5ms/step - loss: 26.5185 - val_loss: 49.9428\n",
      "Epoch 301/500\n",
      "16/16 [==============================] - 0s 5ms/step - loss: 26.5014 - val_loss: 50.1489\n",
      "Epoch 302/500\n",
      "16/16 [==============================] - 0s 5ms/step - loss: 26.4854 - val_loss: 50.3492\n",
      "Epoch 303/500\n",
      "16/16 [==============================] - 0s 5ms/step - loss: 26.4702 - val_loss: 50.5428\n",
      "Epoch 304/500\n",
      "16/16 [==============================] - 0s 5ms/step - loss: 26.4560 - val_loss: 50.7304\n",
      "Epoch 305/500\n",
      "16/16 [==============================] - 0s 10ms/step - loss: 26.4425 - val_loss: 50.9119\n",
      "Epoch 306/500\n",
      "16/16 [==============================] - 0s 5ms/step - loss: 26.4298 - val_loss: 51.0874\n",
      "Epoch 307/500\n",
      "16/16 [==============================] - 0s 5ms/step - loss: 26.4179 - val_loss: 51.2573\n",
      "Epoch 308/500\n",
      "16/16 [==============================] - 0s 5ms/step - loss: 26.4067 - val_loss: 51.4215\n",
      "Epoch 309/500\n",
      "16/16 [==============================] - 0s 5ms/step - loss: 26.3961 - val_loss: 51.5801\n",
      "Epoch 310/500\n",
      "16/16 [==============================] - 0s 5ms/step - loss: 26.3862 - val_loss: 51.7335\n",
      "Epoch 311/500\n",
      "16/16 [==============================] - 0s 6ms/step - loss: 26.3768 - val_loss: 51.8815\n",
      "Epoch 312/500\n",
      "16/16 [==============================] - 0s 7ms/step - loss: 26.3680 - val_loss: 52.0247\n",
      "Epoch 313/500\n",
      "16/16 [==============================] - 0s 6ms/step - loss: 26.3596 - val_loss: 52.1627\n",
      "Epoch 314/500\n",
      "16/16 [==============================] - 0s 6ms/step - loss: 26.3519 - val_loss: 52.2960\n",
      "Epoch 315/500\n",
      "16/16 [==============================] - 0s 5ms/step - loss: 26.3445 - val_loss: 52.4246\n",
      "Epoch 316/500\n",
      "16/16 [==============================] - 0s 5ms/step - loss: 26.3376 - val_loss: 52.5484\n",
      "Epoch 317/500\n",
      "16/16 [==============================] - 0s 4ms/step - loss: 26.3311 - val_loss: 52.6678\n",
      "Epoch 318/500\n",
      "16/16 [==============================] - 0s 5ms/step - loss: 26.3249 - val_loss: 52.7829\n",
      "Epoch 319/500\n",
      "16/16 [==============================] - 0s 4ms/step - loss: 26.3192 - val_loss: 52.8937\n",
      "Epoch 320/500\n",
      "16/16 [==============================] - 0s 4ms/step - loss: 26.3138 - val_loss: 53.0005\n",
      "Epoch 321/500\n",
      "16/16 [==============================] - 0s 4ms/step - loss: 26.3086 - val_loss: 53.1033\n",
      "Epoch 322/500\n",
      "16/16 [==============================] - 0s 5ms/step - loss: 26.3039 - val_loss: 53.2021\n",
      "Epoch 323/500\n",
      "16/16 [==============================] - 0s 5ms/step - loss: 26.2994 - val_loss: 53.2974\n",
      "Epoch 324/500\n",
      "16/16 [==============================] - 0s 4ms/step - loss: 26.2951 - val_loss: 53.3889\n",
      "Epoch 325/500\n",
      "16/16 [==============================] - 0s 5ms/step - loss: 26.2911 - val_loss: 53.4769\n",
      "Epoch 326/500\n",
      "16/16 [==============================] - 0s 9ms/step - loss: 26.2874 - val_loss: 53.5615\n",
      "Epoch 327/500\n",
      "16/16 [==============================] - 0s 5ms/step - loss: 26.2838 - val_loss: 53.6426\n",
      "Epoch 328/500\n",
      "16/16 [==============================] - 0s 5ms/step - loss: 26.2805 - val_loss: 53.7206\n",
      "Epoch 329/500\n",
      "16/16 [==============================] - 0s 6ms/step - loss: 26.2774 - val_loss: 53.7954\n",
      "Epoch 330/500\n",
      "16/16 [==============================] - 0s 5ms/step - loss: 26.2745 - val_loss: 53.8671\n",
      "Epoch 331/500\n",
      "16/16 [==============================] - 0s 5ms/step - loss: 26.2718 - val_loss: 53.9358\n",
      "Epoch 332/500\n",
      "16/16 [==============================] - 0s 5ms/step - loss: 26.2692 - val_loss: 54.0018\n",
      "Epoch 333/500\n",
      "16/16 [==============================] - 0s 5ms/step - loss: 26.2668 - val_loss: 54.0652\n",
      "Epoch 334/500\n",
      "16/16 [==============================] - 0s 5ms/step - loss: 26.2646 - val_loss: 54.1259\n",
      "Epoch 335/500\n",
      "16/16 [==============================] - 0s 5ms/step - loss: 26.2624 - val_loss: 54.1842\n",
      "Epoch 336/500\n",
      "16/16 [==============================] - 0s 5ms/step - loss: 26.2604 - val_loss: 54.2400\n",
      "Epoch 337/500\n",
      "16/16 [==============================] - 0s 5ms/step - loss: 26.2586 - val_loss: 54.2932\n",
      "Epoch 338/500\n",
      "16/16 [==============================] - 0s 5ms/step - loss: 26.2568 - val_loss: 54.3442\n",
      "Epoch 339/500\n",
      "16/16 [==============================] - 0s 5ms/step - loss: 26.2552 - val_loss: 54.3929\n",
      "Epoch 340/500\n",
      "16/16 [==============================] - 0s 5ms/step - loss: 26.2537 - val_loss: 54.4395\n",
      "Epoch 341/500\n",
      "16/16 [==============================] - 0s 5ms/step - loss: 26.2523 - val_loss: 54.4841\n",
      "Epoch 342/500\n",
      "16/16 [==============================] - 0s 8ms/step - loss: 26.2509 - val_loss: 54.5267\n",
      "Epoch 343/500\n",
      "16/16 [==============================] - 0s 5ms/step - loss: 26.2497 - val_loss: 54.5675\n",
      "Epoch 344/500\n",
      "16/16 [==============================] - 0s 5ms/step - loss: 26.2485 - val_loss: 54.6063\n",
      "Epoch 345/500\n",
      "16/16 [==============================] - 0s 5ms/step - loss: 26.2475 - val_loss: 54.6433\n",
      "Epoch 346/500\n",
      "16/16 [==============================] - 0s 5ms/step - loss: 26.2465 - val_loss: 54.6788\n",
      "Epoch 347/500\n",
      "16/16 [==============================] - 0s 10ms/step - loss: 26.2455 - val_loss: 54.7123\n",
      "Epoch 348/500\n",
      "16/16 [==============================] - 0s 5ms/step - loss: 26.2447 - val_loss: 54.7446\n",
      "Epoch 349/500\n",
      "16/16 [==============================] - 0s 4ms/step - loss: 26.2439 - val_loss: 54.7751\n",
      "Epoch 350/500\n",
      "16/16 [==============================] - 0s 5ms/step - loss: 26.2432 - val_loss: 54.8045\n",
      "Epoch 351/500\n",
      "16/16 [==============================] - 0s 4ms/step - loss: 26.2425 - val_loss: 54.8323\n",
      "Epoch 352/500\n",
      "16/16 [==============================] - 0s 4ms/step - loss: 26.2419 - val_loss: 54.8590\n",
      "Epoch 353/500\n",
      "16/16 [==============================] - 0s 4ms/step - loss: 26.2413 - val_loss: 54.8842\n",
      "Epoch 354/500\n",
      "16/16 [==============================] - 0s 4ms/step - loss: 26.2408 - val_loss: 54.9082\n",
      "Epoch 355/500\n",
      "16/16 [==============================] - 0s 4ms/step - loss: 26.2403 - val_loss: 54.9312\n",
      "Epoch 356/500\n",
      "16/16 [==============================] - 0s 6ms/step - loss: 26.2399 - val_loss: 54.9529\n",
      "Epoch 357/500\n",
      "16/16 [==============================] - 0s 5ms/step - loss: 26.2395 - val_loss: 54.9737\n",
      "Epoch 358/500\n",
      "16/16 [==============================] - 0s 6ms/step - loss: 26.2392 - val_loss: 54.9932\n",
      "Epoch 359/500\n",
      "16/16 [==============================] - 0s 5ms/step - loss: 26.2389 - val_loss: 55.0119\n",
      "Epoch 360/500\n",
      "16/16 [==============================] - 0s 6ms/step - loss: 26.2385 - val_loss: 55.0296\n",
      "Epoch 361/500\n",
      "16/16 [==============================] - 0s 8ms/step - loss: 26.2383 - val_loss: 55.0465\n",
      "Epoch 362/500\n",
      "16/16 [==============================] - 0s 11ms/step - loss: 26.2381 - val_loss: 55.0625\n",
      "Epoch 363/500\n",
      "16/16 [==============================] - 0s 9ms/step - loss: 26.2379 - val_loss: 55.0776\n",
      "Epoch 364/500\n",
      "16/16 [==============================] - 0s 8ms/step - loss: 26.2378 - val_loss: 55.0920\n",
      "Epoch 365/500\n",
      "16/16 [==============================] - 0s 10ms/step - loss: 26.2376 - val_loss: 55.1055\n",
      "Epoch 366/500\n",
      "16/16 [==============================] - 0s 5ms/step - loss: 26.2375 - val_loss: 55.1183\n",
      "Epoch 367/500\n",
      "16/16 [==============================] - 0s 5ms/step - loss: 26.2374 - val_loss: 55.1305\n",
      "Epoch 368/500\n",
      "16/16 [==============================] - 0s 5ms/step - loss: 26.2374 - val_loss: 55.1420\n",
      "Epoch 369/500\n",
      "16/16 [==============================] - 0s 5ms/step - loss: 26.2373 - val_loss: 55.1528\n",
      "Epoch 370/500\n",
      "16/16 [==============================] - 0s 5ms/step - loss: 26.2373 - val_loss: 55.1632\n",
      "Epoch 371/500\n",
      "16/16 [==============================] - 0s 4ms/step - loss: 26.2373 - val_loss: 55.1729\n",
      "Epoch 372/500\n",
      "16/16 [==============================] - 0s 5ms/step - loss: 26.2373 - val_loss: 55.1818\n",
      "Epoch 373/500\n",
      "16/16 [==============================] - 0s 5ms/step - loss: 26.2374 - val_loss: 55.1905\n",
      "Epoch 374/500\n",
      "16/16 [==============================] - 0s 6ms/step - loss: 26.2374 - val_loss: 55.1988\n",
      "Epoch 375/500\n",
      "16/16 [==============================] - 0s 10ms/step - loss: 26.2375 - val_loss: 55.2065\n",
      "Epoch 376/500\n",
      "16/16 [==============================] - 0s 8ms/step - loss: 26.2376 - val_loss: 55.2138\n",
      "Epoch 377/500\n",
      "16/16 [==============================] - 0s 6ms/step - loss: 26.2377 - val_loss: 55.2207\n",
      "Epoch 378/500\n",
      "16/16 [==============================] - 0s 6ms/step - loss: 26.2378 - val_loss: 55.2273\n",
      "Epoch 379/500\n",
      "16/16 [==============================] - 0s 6ms/step - loss: 26.2379 - val_loss: 55.2333\n",
      "Epoch 380/500\n",
      "16/16 [==============================] - 0s 7ms/step - loss: 26.2381 - val_loss: 55.2393\n",
      "Epoch 381/500\n",
      "16/16 [==============================] - 0s 6ms/step - loss: 26.2381 - val_loss: 55.2447\n",
      "Epoch 382/500\n",
      "16/16 [==============================] - 0s 18ms/step - loss: 26.2382 - val_loss: 55.2496\n",
      "Epoch 383/500\n",
      "16/16 [==============================] - 0s 4ms/step - loss: 26.2384 - val_loss: 55.2542\n",
      "Epoch 384/500\n",
      "16/16 [==============================] - 0s 4ms/step - loss: 26.2386 - val_loss: 55.2586\n",
      "Epoch 385/500\n",
      "16/16 [==============================] - 0s 5ms/step - loss: 26.2388 - val_loss: 55.2627\n",
      "Epoch 386/500\n",
      "16/16 [==============================] - 0s 4ms/step - loss: 26.2390 - val_loss: 55.2667\n",
      "Epoch 387/500\n",
      "16/16 [==============================] - 0s 5ms/step - loss: 26.2392 - val_loss: 55.2703\n",
      "Epoch 388/500\n",
      "16/16 [==============================] - 0s 4ms/step - loss: 26.2393 - val_loss: 55.2736\n",
      "Epoch 389/500\n",
      "16/16 [==============================] - 0s 5ms/step - loss: 26.2395 - val_loss: 55.2766\n",
      "Epoch 390/500\n",
      "16/16 [==============================] - 0s 4ms/step - loss: 26.2398 - val_loss: 55.2796\n",
      "Epoch 391/500\n",
      "16/16 [==============================] - 0s 4ms/step - loss: 26.2400 - val_loss: 55.2824\n",
      "Epoch 392/500\n",
      "16/16 [==============================] - 0s 4ms/step - loss: 26.2402 - val_loss: 55.2849\n",
      "Epoch 393/500\n",
      "16/16 [==============================] - 0s 4ms/step - loss: 26.2404 - val_loss: 55.2875\n",
      "Epoch 394/500\n",
      "16/16 [==============================] - 0s 5ms/step - loss: 26.2407 - val_loss: 55.2897\n",
      "Epoch 395/500\n",
      "16/16 [==============================] - 0s 4ms/step - loss: 26.2409 - val_loss: 55.2919\n",
      "Epoch 396/500\n",
      "16/16 [==============================] - 0s 4ms/step - loss: 26.2411 - val_loss: 55.2938\n",
      "Epoch 397/500\n",
      "16/16 [==============================] - 0s 4ms/step - loss: 26.2413 - val_loss: 55.2955\n",
      "Epoch 398/500\n",
      "16/16 [==============================] - 0s 5ms/step - loss: 26.2415 - val_loss: 55.2972\n",
      "Epoch 399/500\n",
      "16/16 [==============================] - 0s 6ms/step - loss: 26.2418 - val_loss: 55.2986\n",
      "Epoch 400/500\n",
      "16/16 [==============================] - 0s 4ms/step - loss: 26.2420 - val_loss: 55.2997\n",
      "Epoch 401/500\n",
      "16/16 [==============================] - 0s 5ms/step - loss: 26.2423 - val_loss: 55.3011\n",
      "Epoch 402/500\n",
      "16/16 [==============================] - 0s 5ms/step - loss: 26.2425 - val_loss: 55.3021\n",
      "Epoch 403/500\n",
      "16/16 [==============================] - 0s 15ms/step - loss: 26.2428 - val_loss: 55.3031\n",
      "Epoch 404/500\n",
      "16/16 [==============================] - 0s 5ms/step - loss: 26.2431 - val_loss: 55.3040\n",
      "Epoch 405/500\n",
      "16/16 [==============================] - 0s 4ms/step - loss: 26.2433 - val_loss: 55.3051\n",
      "Epoch 406/500\n",
      "16/16 [==============================] - 0s 4ms/step - loss: 26.2435 - val_loss: 55.3056\n",
      "Epoch 407/500\n",
      "16/16 [==============================] - 0s 4ms/step - loss: 26.2438 - val_loss: 55.3065\n",
      "Epoch 408/500\n",
      "16/16 [==============================] - 0s 5ms/step - loss: 26.2441 - val_loss: 55.3072\n",
      "Epoch 409/500\n",
      "16/16 [==============================] - 0s 5ms/step - loss: 26.2443 - val_loss: 55.3077\n",
      "Epoch 410/500\n",
      "16/16 [==============================] - 0s 4ms/step - loss: 26.2445 - val_loss: 55.3081\n",
      "Epoch 411/500\n",
      "16/16 [==============================] - 0s 4ms/step - loss: 26.2448 - val_loss: 55.3086\n",
      "Epoch 412/500\n",
      "16/16 [==============================] - 0s 4ms/step - loss: 26.2450 - val_loss: 55.3089\n",
      "Epoch 413/500\n",
      "16/16 [==============================] - 0s 5ms/step - loss: 26.2454 - val_loss: 55.3092\n",
      "Epoch 414/500\n",
      "16/16 [==============================] - 0s 5ms/step - loss: 26.2456 - val_loss: 55.3093\n",
      "Epoch 415/500\n",
      "16/16 [==============================] - 0s 5ms/step - loss: 26.2458 - val_loss: 55.3097\n",
      "Epoch 416/500\n",
      "16/16 [==============================] - 0s 4ms/step - loss: 26.2461 - val_loss: 55.3098\n",
      "Epoch 417/500\n",
      "16/16 [==============================] - 0s 4ms/step - loss: 26.2463 - val_loss: 55.3099\n",
      "Epoch 418/500\n",
      "16/16 [==============================] - 0s 4ms/step - loss: 26.2466 - val_loss: 55.3102\n",
      "Epoch 419/500\n",
      "16/16 [==============================] - 0s 4ms/step - loss: 26.2468 - val_loss: 55.3103\n",
      "Epoch 420/500\n",
      "16/16 [==============================] - 0s 4ms/step - loss: 26.2471 - val_loss: 55.3101\n",
      "Epoch 421/500\n",
      "16/16 [==============================] - 0s 5ms/step - loss: 26.2473 - val_loss: 55.3101\n",
      "Epoch 422/500\n",
      "16/16 [==============================] - 0s 5ms/step - loss: 26.2476 - val_loss: 55.3099\n",
      "Epoch 423/500\n",
      "16/16 [==============================] - 0s 5ms/step - loss: 26.2478 - val_loss: 55.3099\n",
      "Epoch 424/500\n",
      "16/16 [==============================] - 0s 14ms/step - loss: 26.2481 - val_loss: 55.3101\n",
      "Epoch 425/500\n",
      "16/16 [==============================] - 0s 6ms/step - loss: 26.2483 - val_loss: 55.3100\n",
      "Epoch 426/500\n",
      "16/16 [==============================] - 0s 5ms/step - loss: 26.2486 - val_loss: 55.3100\n",
      "Epoch 427/500\n",
      "16/16 [==============================] - 0s 9ms/step - loss: 26.2488 - val_loss: 55.3098\n",
      "Epoch 428/500\n",
      "16/16 [==============================] - 0s 5ms/step - loss: 26.2491 - val_loss: 55.3095\n",
      "Epoch 429/500\n",
      "16/16 [==============================] - 0s 5ms/step - loss: 26.2493 - val_loss: 55.3093\n",
      "Epoch 430/500\n",
      "16/16 [==============================] - 0s 5ms/step - loss: 26.2495 - val_loss: 55.3091\n",
      "Epoch 431/500\n",
      "16/16 [==============================] - 0s 5ms/step - loss: 26.2498 - val_loss: 55.3090\n",
      "Epoch 432/500\n",
      "16/16 [==============================] - 0s 7ms/step - loss: 26.2500 - val_loss: 55.3085\n",
      "Epoch 433/500\n",
      "16/16 [==============================] - 0s 6ms/step - loss: 26.2502 - val_loss: 55.3085\n",
      "Epoch 434/500\n",
      "16/16 [==============================] - 0s 4ms/step - loss: 26.2505 - val_loss: 55.3083\n",
      "Epoch 435/500\n",
      "16/16 [==============================] - 0s 4ms/step - loss: 26.2507 - val_loss: 55.3078\n",
      "Epoch 436/500\n",
      "16/16 [==============================] - 0s 4ms/step - loss: 26.2509 - val_loss: 55.3077\n",
      "Epoch 437/500\n",
      "16/16 [==============================] - 0s 4ms/step - loss: 26.2512 - val_loss: 55.3075\n",
      "Epoch 438/500\n",
      "16/16 [==============================] - 0s 4ms/step - loss: 26.2514 - val_loss: 55.3073\n",
      "Epoch 439/500\n",
      "16/16 [==============================] - 0s 5ms/step - loss: 26.2516 - val_loss: 55.3071\n",
      "Epoch 440/500\n",
      "16/16 [==============================] - 0s 4ms/step - loss: 26.2518 - val_loss: 55.3065\n",
      "Epoch 441/500\n",
      "16/16 [==============================] - 0s 4ms/step - loss: 26.2520 - val_loss: 55.3063\n",
      "Epoch 442/500\n",
      "16/16 [==============================] - 0s 4ms/step - loss: 26.2522 - val_loss: 55.3059\n",
      "Epoch 443/500\n",
      "16/16 [==============================] - 0s 4ms/step - loss: 26.2525 - val_loss: 55.3057\n",
      "Epoch 444/500\n",
      "16/16 [==============================] - 0s 4ms/step - loss: 26.2527 - val_loss: 55.3056\n",
      "Epoch 445/500\n",
      "16/16 [==============================] - 0s 5ms/step - loss: 26.2529 - val_loss: 55.3054\n",
      "Epoch 446/500\n",
      "16/16 [==============================] - 0s 5ms/step - loss: 26.2531 - val_loss: 55.3050\n",
      "Epoch 447/500\n",
      "16/16 [==============================] - 0s 12ms/step - loss: 26.2533 - val_loss: 55.3047\n",
      "Epoch 448/500\n",
      "16/16 [==============================] - 0s 5ms/step - loss: 26.2535 - val_loss: 55.3040\n",
      "Epoch 449/500\n",
      "16/16 [==============================] - 0s 4ms/step - loss: 26.2538 - val_loss: 55.3040\n",
      "Epoch 450/500\n",
      "16/16 [==============================] - 0s 4ms/step - loss: 26.2539 - val_loss: 55.3038\n",
      "Epoch 451/500\n",
      "16/16 [==============================] - 0s 4ms/step - loss: 26.2541 - val_loss: 55.3036\n",
      "Epoch 452/500\n",
      "16/16 [==============================] - 0s 4ms/step - loss: 26.2543 - val_loss: 55.3032\n",
      "Epoch 453/500\n",
      "16/16 [==============================] - 0s 4ms/step - loss: 26.2545 - val_loss: 55.3026\n",
      "Epoch 454/500\n",
      "16/16 [==============================] - 0s 4ms/step - loss: 26.2547 - val_loss: 55.3023\n",
      "Epoch 455/500\n",
      "16/16 [==============================] - 0s 5ms/step - loss: 26.2549 - val_loss: 55.3019\n",
      "Epoch 456/500\n",
      "16/16 [==============================] - 0s 5ms/step - loss: 26.2551 - val_loss: 55.3016\n",
      "Epoch 457/500\n",
      "16/16 [==============================] - 0s 4ms/step - loss: 26.2553 - val_loss: 55.3015\n",
      "Epoch 458/500\n",
      "16/16 [==============================] - 0s 4ms/step - loss: 26.2555 - val_loss: 55.3013\n",
      "Epoch 459/500\n",
      "16/16 [==============================] - 0s 5ms/step - loss: 26.2556 - val_loss: 55.3006\n",
      "Epoch 460/500\n",
      "16/16 [==============================] - 0s 5ms/step - loss: 26.2559 - val_loss: 55.3003\n",
      "Epoch 461/500\n",
      "16/16 [==============================] - 0s 4ms/step - loss: 26.2560 - val_loss: 55.3000\n",
      "Epoch 462/500\n",
      "16/16 [==============================] - 0s 4ms/step - loss: 26.2562 - val_loss: 55.2997\n",
      "Epoch 463/500\n",
      "16/16 [==============================] - 0s 5ms/step - loss: 26.2564 - val_loss: 55.2995\n",
      "Epoch 464/500\n",
      "16/16 [==============================] - 0s 4ms/step - loss: 26.2566 - val_loss: 55.2995\n",
      "Epoch 465/500\n",
      "16/16 [==============================] - 0s 5ms/step - loss: 26.2567 - val_loss: 55.2993\n",
      "Epoch 466/500\n",
      "16/16 [==============================] - 0s 11ms/step - loss: 26.2569 - val_loss: 55.2990\n",
      "Epoch 467/500\n",
      "16/16 [==============================] - 0s 5ms/step - loss: 26.2571 - val_loss: 55.2988\n",
      "Epoch 468/500\n",
      "16/16 [==============================] - 0s 4ms/step - loss: 26.2572 - val_loss: 55.2982\n",
      "Epoch 469/500\n",
      "16/16 [==============================] - 0s 4ms/step - loss: 26.2574 - val_loss: 55.2979\n",
      "Epoch 470/500\n",
      "16/16 [==============================] - 0s 4ms/step - loss: 26.2575 - val_loss: 55.2976\n",
      "Epoch 471/500\n",
      "16/16 [==============================] - 0s 4ms/step - loss: 26.2577 - val_loss: 55.2976\n",
      "Epoch 472/500\n",
      "16/16 [==============================] - 0s 4ms/step - loss: 26.2579 - val_loss: 55.2974\n",
      "Epoch 473/500\n",
      "16/16 [==============================] - 0s 4ms/step - loss: 26.2580 - val_loss: 55.2970\n",
      "Epoch 474/500\n",
      "16/16 [==============================] - 0s 5ms/step - loss: 26.2582 - val_loss: 55.2968\n",
      "Epoch 475/500\n",
      "16/16 [==============================] - 0s 4ms/step - loss: 26.2584 - val_loss: 55.2963\n",
      "Epoch 476/500\n",
      "16/16 [==============================] - 0s 5ms/step - loss: 26.2585 - val_loss: 55.2962\n",
      "Epoch 477/500\n",
      "16/16 [==============================] - 0s 4ms/step - loss: 26.2586 - val_loss: 55.2959\n",
      "Epoch 478/500\n",
      "16/16 [==============================] - 0s 4ms/step - loss: 26.2588 - val_loss: 55.2956\n",
      "Epoch 479/500\n",
      "16/16 [==============================] - 0s 4ms/step - loss: 26.2589 - val_loss: 55.2954\n",
      "Epoch 480/500\n",
      "16/16 [==============================] - 0s 4ms/step - loss: 26.2591 - val_loss: 55.2951\n",
      "Epoch 481/500\n",
      "16/16 [==============================] - 0s 4ms/step - loss: 26.2592 - val_loss: 55.2948\n",
      "Epoch 482/500\n",
      "16/16 [==============================] - 0s 4ms/step - loss: 26.2594 - val_loss: 55.2947\n",
      "Epoch 483/500\n",
      "16/16 [==============================] - 0s 4ms/step - loss: 26.2595 - val_loss: 55.2942\n",
      "Epoch 484/500\n",
      "16/16 [==============================] - 0s 9ms/step - loss: 26.2597 - val_loss: 55.2939\n",
      "Epoch 485/500\n",
      "16/16 [==============================] - 0s 5ms/step - loss: 26.2598 - val_loss: 55.2937\n",
      "Epoch 486/500\n",
      "16/16 [==============================] - 0s 4ms/step - loss: 26.2599 - val_loss: 55.2934\n",
      "Epoch 487/500\n",
      "16/16 [==============================] - 0s 4ms/step - loss: 26.2600 - val_loss: 55.2928\n",
      "Epoch 488/500\n",
      "16/16 [==============================] - 0s 4ms/step - loss: 26.2602 - val_loss: 55.2926\n",
      "Epoch 489/500\n",
      "16/16 [==============================] - 0s 4ms/step - loss: 26.2603 - val_loss: 55.2922\n",
      "Epoch 490/500\n",
      "16/16 [==============================] - 0s 4ms/step - loss: 26.2605 - val_loss: 55.2920\n",
      "Epoch 491/500\n",
      "16/16 [==============================] - 0s 5ms/step - loss: 26.2606 - val_loss: 55.2919\n",
      "Epoch 492/500\n",
      "16/16 [==============================] - 0s 4ms/step - loss: 26.2607 - val_loss: 55.2918\n",
      "Epoch 493/500\n",
      "16/16 [==============================] - 0s 5ms/step - loss: 26.2608 - val_loss: 55.2917\n",
      "Epoch 494/500\n",
      "16/16 [==============================] - 0s 4ms/step - loss: 26.2610 - val_loss: 55.2917\n",
      "Epoch 495/500\n",
      "16/16 [==============================] - 0s 4ms/step - loss: 26.2611 - val_loss: 55.2913\n",
      "Epoch 496/500\n",
      "16/16 [==============================] - 0s 4ms/step - loss: 26.2612 - val_loss: 55.2910\n",
      "Epoch 497/500\n",
      "16/16 [==============================] - 0s 4ms/step - loss: 26.2613 - val_loss: 55.2906\n",
      "Epoch 498/500\n",
      "16/16 [==============================] - 0s 4ms/step - loss: 26.2614 - val_loss: 55.2905\n",
      "Epoch 499/500\n",
      "16/16 [==============================] - 0s 4ms/step - loss: 26.2615 - val_loss: 55.2904\n",
      "Epoch 500/500\n",
      "16/16 [==============================] - 0s 4ms/step - loss: 26.2616 - val_loss: 55.2901\n"
     ]
    }
   ],
   "source": [
    "C0 = tf.Variable(82.7524, name=\"C0\", trainable=True, dtype=tf.float32)\n",
    "K0 = tf.Variable(-0.0031, name=\"K0\", trainable=True, dtype=tf.float32)\n",
    "K1 = tf.Variable(-0.0003, name=\"K1\", trainable=True, dtype=tf.float32)\n",
    "a = tf.Variable(0.0000, name=\"a\", trainable=True, dtype=tf.float32)\n",
    "b = tf.Variable(0.0171, name=\"b\", trainable=True, dtype=tf.float32)\n",
    "c = tf.Variable(3.0230, name=\"c\", trainable=True, dtype=tf.float32)\n",
    "\n",
    "splitr = 0.8\n",
    "\n",
    "\n",
    "def loss_fn(y_true, y_pred):\n",
    "    squared_difference = tf.square(y_true[:, 0] - y_pred[:, 0])\n",
    "    #squared_difference2 = tf.square(y_true[:, 2]-y_pred[:, 2])\n",
    "    #squared_difference1 = tf.square(y_true[:, 1]-y_pred[:, 1])\n",
    "    epsilon = 1\n",
    "    squared_difference3 = tf.square(\n",
    "        y_pred[:, 1] - (\n",
    "            y_pred[:, 0] * (\n",
    "                K0 - K1 * (\n",
    "                    9 * a * tf.math.log((y_pred[:, 0] + epsilon) / C0) / (K0 - K1 * c)**2 +\n",
    "                    4 * b * tf.math.log((y_pred[:, 0] + epsilon) / C0) / (K0 - K1 * c) + c\n",
    "                )\n",
    "            )\n",
    "        )\n",
    "    )\n",
    "    return tf.reduce_mean(squared_difference, axis=-1) + 0.2*tf.reduce_mean(squared_difference3, axis=-1)\n",
    "model = Sequential()\n",
    "model.add(LSTM(100, input_shape=(trainX.shape[1], trainX.shape[2])))\n",
    "model.add(Dense(60))\n",
    "model.compile(loss=loss_fn, optimizer='adam')\n",
    "history = model.fit(trainX[:int(splitr*trainX.shape[0])], trainy[:int(splitr*trainX.shape[0])], epochs=500, batch_size=64, validation_data=(trainX[int(splitr*trainX.shape[0]):trainX.shape[0]], trainy[int(splitr*trainX.shape[0]):trainX.shape[0]]), shuffle=False)"
   ]
  },
  {
   "cell_type": "code",
   "execution_count": 19,
   "metadata": {
    "colab": {
     "base_uri": "https://localhost:8080/"
    },
    "id": "yJL101rPyuoT",
    "outputId": "239ff2b1-c186-423a-d316-939dfdd7c793"
   },
   "outputs": [
    {
     "name": "stdout",
     "output_type": "stream",
     "text": [
      "1/1 [==============================] - 0s 336ms/step\n"
     ]
    }
   ],
   "source": [
    "forecast_without_mc = forecastX\n",
    "yhat_without_mc = model.predict(forecast_without_mc) # Step Ahead Prediction\n",
    "forecast_without_mc = forecast_without_mc.reshape((forecast_without_mc.shape[0], forecast_without_mc.shape[2])) # Historical Input"
   ]
  },
  {
   "cell_type": "code",
   "execution_count": 20,
   "metadata": {
    "colab": {
     "base_uri": "https://localhost:8080/"
    },
    "id": "g9dQELcJ8wbp",
    "outputId": "4dc7671b-b1a8-48d5-8744-a86f98446109"
   },
   "outputs": [
    {
     "data": {
      "text/plain": [
       "(1, 1, 251)"
      ]
     },
     "execution_count": 20,
     "metadata": {},
     "output_type": "execute_result"
    }
   ],
   "source": [
    "forecastX.shape"
   ]
  },
  {
   "cell_type": "code",
   "execution_count": 21,
   "metadata": {
    "colab": {
     "base_uri": "https://localhost:8080/"
    },
    "id": "IS2kyIKG1Kbr",
    "outputId": "f31b3485-8e26-452f-9298-ea8bf7e80ad1"
   },
   "outputs": [
    {
     "data": {
      "text/plain": [
       "(1, 251)"
      ]
     },
     "execution_count": 21,
     "metadata": {},
     "output_type": "execute_result"
    }
   ],
   "source": [
    "forecast_without_mc.shape"
   ]
  },
  {
   "cell_type": "code",
   "execution_count": 22,
   "metadata": {
    "id": "0u6VIzaDyuoT"
   },
   "outputs": [],
   "source": [
    "inv_yhat_without_mc = np.concatenate((forecast_without_mc, yhat_without_mc), axis=1) # Concatenation of predicted values with Historical Data\n",
    "#inv_yhat_without_mc = scaler.inverse_transform(inv_yhat_without_mc) # Transform labels back to original encoding"
   ]
  },
  {
   "cell_type": "code",
   "execution_count": 23,
   "metadata": {
    "colab": {
     "base_uri": "https://localhost:8080/"
    },
    "id": "EUEcw0LX07oU",
    "outputId": "cfc32397-9c37-4b43-d087-584bb31c3dcc"
   },
   "outputs": [
    {
     "data": {
      "text/plain": [
       "(1, 311)"
      ]
     },
     "execution_count": 23,
     "metadata": {},
     "output_type": "execute_result"
    }
   ],
   "source": [
    "inv_yhat_without_mc.shape"
   ]
  },
  {
   "cell_type": "code",
   "execution_count": 24,
   "metadata": {
    "id": "31OWVbSh_305"
   },
   "outputs": [],
   "source": [
    "fforecast = inv_yhat_without_mc[:,-300:]"
   ]
  },
  {
   "cell_type": "code",
   "execution_count": 25,
   "metadata": {},
   "outputs": [
    {
     "data": {
      "text/plain": [
       "(1, 300)"
      ]
     },
     "execution_count": 25,
     "metadata": {},
     "output_type": "execute_result"
    }
   ],
   "source": [
    "fforecast.shape"
   ]
  },
  {
   "cell_type": "code",
   "execution_count": 26,
   "metadata": {
    "id": "BlpGH2FOAiRF"
   },
   "outputs": [],
   "source": [
    "final_forecast = fforecast[:,0:300:3]"
   ]
  },
  {
   "cell_type": "code",
   "execution_count": 27,
   "metadata": {},
   "outputs": [
    {
     "data": {
      "text/plain": [
       "(1, 300)"
      ]
     },
     "execution_count": 27,
     "metadata": {},
     "output_type": "execute_result"
    }
   ],
   "source": [
    "fforecast.shape"
   ]
  },
  {
   "cell_type": "code",
   "execution_count": 28,
   "metadata": {
    "id": "CXkgkj_LBk_t"
   },
   "outputs": [],
   "source": [
    "# code to replace all negative value with 0\n",
    "final_forecast[final_forecast<0] = 0"
   ]
  },
  {
   "cell_type": "code",
   "execution_count": 29,
   "metadata": {},
   "outputs": [
    {
     "data": {
      "text/plain": [
       "array([[5.72713119e+01, 5.72573063e+01, 5.72433007e+01, 5.72292950e+01,\n",
       "        5.72152895e+01, 5.72012839e+01, 5.71872782e+01, 5.71732726e+01,\n",
       "        5.71592670e+01, 5.71452614e+01, 5.71312558e+01, 5.71172502e+01,\n",
       "        5.71032446e+01, 5.70892390e+01, 5.70752334e+01, 5.70612278e+01,\n",
       "        5.70472222e+01, 5.70332166e+01, 5.70192110e+01, 5.70052054e+01,\n",
       "        5.69911998e+01, 5.69771942e+01, 5.69631886e+01, 5.69491830e+01,\n",
       "        5.69351774e+01, 5.69211718e+01, 5.69071662e+01, 5.68931606e+01,\n",
       "        5.68791550e+01, 5.68651494e+01, 5.68511438e+01, 5.68371382e+01,\n",
       "        5.68231326e+01, 5.68091270e+01, 5.67951214e+01, 5.67811158e+01,\n",
       "        5.67671102e+01, 5.67531046e+01, 5.67390990e+01, 5.67250934e+01,\n",
       "        5.67110878e+01, 5.66935808e+01, 5.66627684e+01, 5.66319561e+01,\n",
       "        5.66011438e+01, 5.65703315e+01, 5.65395191e+01, 5.65087068e+01,\n",
       "        5.64778945e+01, 5.64470822e+01, 5.64162698e+01, 5.63854575e+01,\n",
       "        5.63546452e+01, 5.63238329e+01, 5.62930205e+01, 5.62622082e+01,\n",
       "        5.62313959e+01, 5.62005836e+01, 5.61697712e+01, 5.61389589e+01,\n",
       "        5.61081466e+01, 5.60773343e+01, 5.60465219e+01, 5.60157096e+01,\n",
       "        5.59848973e+01, 5.59540850e+01, 5.59232726e+01, 5.58924603e+01,\n",
       "        5.58616480e+01, 5.58308357e+01, 5.58000233e+01, 5.57692110e+01,\n",
       "        5.57383987e+01, 5.57075864e+01, 5.56767740e+01, 5.56459617e+01,\n",
       "        5.56151494e+01, 5.55900327e+01, 5.55704248e+01, 5.55508170e+01,\n",
       "        6.40110703e+01, 1.29810739e+00, 0.00000000e+00, 4.24146205e-02,\n",
       "        0.00000000e+00, 6.38354957e-01, 8.74598384e-01, 0.00000000e+00,\n",
       "        0.00000000e+00, 6.56191289e-01, 8.68838131e-01, 0.00000000e+00,\n",
       "        1.23838449e+00, 4.33232427e-01, 3.15409720e-01, 5.82692683e-01,\n",
       "        2.79132515e-01, 0.00000000e+00, 0.00000000e+00, 3.72437805e-01]])"
      ]
     },
     "execution_count": 29,
     "metadata": {},
     "output_type": "execute_result"
    }
   ],
   "source": [
    "final_forecast"
   ]
  },
  {
   "cell_type": "code",
   "execution_count": 30,
   "metadata": {},
   "outputs": [
    {
     "data": {
      "text/plain": [
       "(1, 100)"
      ]
     },
     "execution_count": 30,
     "metadata": {},
     "output_type": "execute_result"
    }
   ],
   "source": [
    "final_forecast.shape"
   ]
  },
  {
   "cell_type": "code",
   "execution_count": 31,
   "metadata": {},
   "outputs": [
    {
     "data": {
      "text/plain": [
       "(100,)"
      ]
     },
     "execution_count": 31,
     "metadata": {},
     "output_type": "execute_result"
    }
   ],
   "source": [
    "test.shape"
   ]
  },
  {
   "cell_type": "code",
   "execution_count": 32,
   "metadata": {},
   "outputs": [],
   "source": [
    "training_set = np.array(training_set)\n",
    "test = np.array(test)\n",
    "final_forecast = np.array(final_forecast.squeeze(0))"
   ]
  },
  {
   "cell_type": "code",
   "execution_count": 33,
   "metadata": {},
   "outputs": [
    {
     "data": {
      "text/plain": [
       "array([54.32619048, 54.32058824, 54.31498599, 54.30938375, 54.30378151,\n",
       "       54.29726891, 54.28886555, 54.28046218, 54.27205882, 54.26365546,\n",
       "       54.2552521 , 54.24684874, 54.23844538, 54.23004202, 54.22163866,\n",
       "       54.21323529, 54.20483193, 54.19642857, 54.18802521, 54.17962185,\n",
       "       54.17121849, 54.16281513, 54.15441176, 54.1460084 , 54.13760504,\n",
       "       54.12920168, 54.12079832, 54.11239496, 54.1039916 , 54.09558824,\n",
       "       54.08718487, 54.07878151, 54.07037815, 54.06197479, 54.05357143,\n",
       "       54.04516807, 54.03676471, 54.02836134, 54.01995798, 54.01155462,\n",
       "       54.00315126, 53.9947479 , 53.98634454, 53.97794118, 53.96953782,\n",
       "       53.96113445, 53.95273109, 53.94432773, 53.93592437, 53.92752101,\n",
       "       53.91911765, 53.91071429, 53.90231092, 53.89390756, 53.8855042 ,\n",
       "       53.87710084, 53.86869748, 53.86029412, 53.85189076, 53.84348739,\n",
       "       53.83508403, 53.82668067, 53.81827731, 53.80987395, 53.80147059,\n",
       "       53.79306723, 53.78466387, 53.7762605 , 53.76785714, 53.75945378,\n",
       "       53.75105042, 53.74264706, 53.7342437 , 53.72584034, 53.71743697,\n",
       "       53.70903361, 53.70063025, 53.69222689, 53.68382353, 53.67542017,\n",
       "       53.66701681, 53.65861345, 53.65021008, 53.64180672, 53.63340336,\n",
       "       53.625     , 53.61659664, 53.60819328, 53.59978992, 53.59138655,\n",
       "       53.58298319, 53.57457983, 53.56617647, 53.55777311, 53.54936975,\n",
       "       53.54096639, 53.53256303, 53.52415966, 53.5157563 , 53.50735294])"
      ]
     },
     "execution_count": 33,
     "metadata": {},
     "output_type": "execute_result"
    }
   ],
   "source": [
    "test"
   ]
  },
  {
   "cell_type": "code",
   "execution_count": 34,
   "metadata": {},
   "outputs": [
    {
     "data": {
      "text/plain": [
       "(100,)"
      ]
     },
     "execution_count": 34,
     "metadata": {},
     "output_type": "execute_result"
    }
   ],
   "source": [
    "test.shape"
   ]
  },
  {
   "cell_type": "code",
   "execution_count": 35,
   "metadata": {},
   "outputs": [
    {
     "data": {
      "text/plain": [
       "(100,)"
      ]
     },
     "execution_count": 35,
     "metadata": {},
     "output_type": "execute_result"
    }
   ],
   "source": [
    "final_forecast.shape"
   ]
  },
  {
   "cell_type": "code",
   "execution_count": 36,
   "metadata": {},
   "outputs": [
    {
     "data": {
      "text/plain": [
       "(100,)"
      ]
     },
     "execution_count": 36,
     "metadata": {},
     "output_type": "execute_result"
    }
   ],
   "source": [
    "test.shape"
   ]
  },
  {
   "cell_type": "code",
   "execution_count": 37,
   "metadata": {},
   "outputs": [
    {
     "name": "stdout",
     "output_type": "stream",
     "text": [
      "23.319760057196042\n",
      "12.251777791487461\n"
     ]
    }
   ],
   "source": [
    "import math\n",
    "MSE = np.square(np.subtract(np.array(test),np.array(final_forecast))).mean()   \n",
    "rsme = math.sqrt(MSE)\n",
    "print(rsme)  \n",
    "MAE = np.abs(np.subtract(np.array(test),np.array(final_forecast))).mean()   \n",
    "mae = MAE\n",
    "print(mae)"
   ]
  }
 ],
 "metadata": {
  "colab": {
   "provenance": []
  },
  "kernelspec": {
   "display_name": "Python 3",
   "language": "python",
   "name": "python3"
  },
  "language_info": {
   "codemirror_mode": {
    "name": "ipython",
    "version": 3
   },
   "file_extension": ".py",
   "mimetype": "text/x-python",
   "name": "python",
   "nbconvert_exporter": "python",
   "pygments_lexer": "ipython3",
   "version": "3.9.13"
  }
 },
 "nbformat": 4,
 "nbformat_minor": 0
}
