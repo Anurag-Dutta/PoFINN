{
 "cells": [
  {
   "cell_type": "markdown",
   "metadata": {
    "id": "pCGKeZ2gyuoQ"
   },
   "source": [
    "_Importing Required Libraries_"
   ]
  },
  {
   "cell_type": "code",
   "execution_count": 1,
   "metadata": {
    "colab": {
     "base_uri": "https://localhost:8080/"
    },
    "id": "A-6LN-zXiLcM",
    "outputId": "4de610a4-f8b8-4f49-c6c0-89de299ccedc"
   },
   "outputs": [
    {
     "name": "stdout",
     "output_type": "stream",
     "text": [
      "Requirement already satisfied: hampel in c:\\users\\anurag dutta\\appdata\\local\\packages\\pythonsoftwarefoundation.python.3.9_qbz5n2kfra8p0\\localcache\\local-packages\\python39\\site-packages (0.0.5)\n",
      "Requirement already satisfied: numpy in c:\\users\\anurag dutta\\appdata\\local\\packages\\pythonsoftwarefoundation.python.3.9_qbz5n2kfra8p0\\localcache\\local-packages\\python39\\site-packages (from hampel) (1.26.4)\n",
      "Requirement already satisfied: pandas in c:\\users\\anurag dutta\\appdata\\local\\packages\\pythonsoftwarefoundation.python.3.9_qbz5n2kfra8p0\\localcache\\local-packages\\python39\\site-packages (from hampel) (1.5.2)\n",
      "Requirement already satisfied: python-dateutil>=2.8.1 in c:\\users\\anurag dutta\\appdata\\local\\packages\\pythonsoftwarefoundation.python.3.9_qbz5n2kfra8p0\\localcache\\local-packages\\python39\\site-packages (from pandas->hampel) (2.8.2)\n",
      "Requirement already satisfied: pytz>=2020.1 in c:\\users\\anurag dutta\\appdata\\local\\packages\\pythonsoftwarefoundation.python.3.9_qbz5n2kfra8p0\\localcache\\local-packages\\python39\\site-packages (from pandas->hampel) (2023.3.post1)\n",
      "Requirement already satisfied: six>=1.5 in c:\\users\\anurag dutta\\appdata\\local\\packages\\pythonsoftwarefoundation.python.3.9_qbz5n2kfra8p0\\localcache\\local-packages\\python39\\site-packages (from python-dateutil>=2.8.1->pandas->hampel) (1.16.0)\n",
      "Note: you may need to restart the kernel to use updated packages.\n"
     ]
    },
    {
     "name": "stderr",
     "output_type": "stream",
     "text": [
      "\n",
      "[notice] A new release of pip is available: 24.2 -> 24.3.1\n",
      "[notice] To update, run: C:\\Users\\Anurag Dutta\\AppData\\Local\\Microsoft\\WindowsApps\\PythonSoftwareFoundation.Python.3.9_qbz5n2kfra8p0\\python.exe -m pip install --upgrade pip\n"
     ]
    }
   ],
   "source": [
    "pip install hampel"
   ]
  },
  {
   "cell_type": "code",
   "execution_count": 2,
   "metadata": {
    "id": "By_d9uXpaFvZ"
   },
   "outputs": [],
   "source": [
    "from keras.models import Sequential\n",
    "from keras.layers import Dense\n",
    "from keras.layers import LSTM\n",
    "from keras.layers import Dropout\n",
    "import keras\n",
    "import tensorflow as tf\n",
    "from hampel import hampel\n",
    "import numpy as np\n",
    "import matplotlib.pyplot as plt\n",
    "import pandas as pd\n",
    "from sklearn.preprocessing import MinMaxScaler\n",
    "from sklearn.metrics import mean_squared_error, mean_absolute_error\n",
    "from math import sqrt\n",
    "from matplotlib import pyplot\n",
    "from numpy import array"
   ]
  },
  {
   "cell_type": "markdown",
   "metadata": {
    "id": "JyOjBMFayuoR"
   },
   "source": [
    "## Pretraining"
   ]
  },
  {
   "cell_type": "markdown",
   "metadata": {
    "id": "-5QqIY_GyuoR"
   },
   "source": [
    "The `capa_intermittency.dat` feeds the model with the dynamics of the Capacitor"
   ]
  },
  {
   "cell_type": "code",
   "execution_count": 3,
   "metadata": {
    "id": "9dV4a8yfyuoR"
   },
   "outputs": [],
   "source": [
    "data = np.genfromtxt('capa_intermittency.dat')\n",
    "training_set = pd.DataFrame(data).reset_index(drop=True)\n",
    "training_set = training_set.iloc[:,0]"
   ]
  },
  {
   "cell_type": "markdown",
   "metadata": {
    "id": "i7easoxByuoR"
   },
   "source": [
    "## Computing the Gradient"
   ]
  },
  {
   "cell_type": "markdown",
   "metadata": {
    "id": "5SnyolJTyuoR"
   },
   "source": [
    "_Calculating the value of_ $\\frac{dx}{dt}$"
   ]
  },
  {
   "cell_type": "code",
   "execution_count": 4,
   "metadata": {
    "colab": {
     "base_uri": "https://localhost:8080/"
    },
    "id": "wmIbVfIvyuoR",
    "outputId": "aa4e3136-c854-465d-d2e9-81cfd546e440"
   },
   "outputs": [
    {
     "name": "stdout",
     "output_type": "stream",
     "text": [
      "1.0\n",
      "1        0.000298\n",
      "2        0.000298\n",
      "3        0.000297\n",
      "4        0.000297\n",
      "5        0.000297\n",
      "           ...   \n",
      "9996     0.000018\n",
      "9997     0.000018\n",
      "9998     0.000018\n",
      "9999     0.000018\n",
      "10000    0.000018\n",
      "Name: 0, Length: 10000, dtype: float64\n"
     ]
    }
   ],
   "source": [
    "t_diff = 1\n",
    "print(training_set.max())\n",
    "gradient_t = (training_set.diff()/t_diff).iloc[1:] # dx/dt\n",
    "print(gradient_t)"
   ]
  },
  {
   "cell_type": "markdown",
   "metadata": {
    "id": "_2eVeeoxyuoS"
   },
   "source": [
    "## Loading Datasets"
   ]
  },
  {
   "cell_type": "code",
   "execution_count": 5,
   "metadata": {
    "id": "0J-NKyIEyuoS"
   },
   "outputs": [
    {
     "data": {
      "text/plain": [
       "0       84.600000\n",
       "1       84.431933\n",
       "2       84.263866\n",
       "3       84.095798\n",
       "4       83.927731\n",
       "          ...    \n",
       "2395    46.223160\n",
       "2396    46.213322\n",
       "2397    46.203484\n",
       "2398    46.193646\n",
       "2399    46.183808\n",
       "Name: C6, Length: 2400, dtype: float64"
      ]
     },
     "execution_count": 5,
     "metadata": {},
     "output_type": "execute_result"
    }
   ],
   "source": [
    "data = pd.read_csv(\"c6_interpolated_2300_100.csv\")\n",
    "training_set = data.iloc[:, 1]\n",
    "training_set"
   ]
  },
  {
   "cell_type": "code",
   "execution_count": 6,
   "metadata": {
    "colab": {
     "base_uri": "https://localhost:8080/"
    },
    "id": "-CbNUhJ74UqF",
    "outputId": "20f562d8-8247-49cc-b9c3-00eca5e13e2d"
   },
   "outputs": [
    {
     "data": {
      "text/plain": [
       "0       84.600000\n",
       "1       84.431933\n",
       "2       84.263866\n",
       "3       84.095798\n",
       "4       83.927731\n",
       "          ...    \n",
       "2295     0.000000\n",
       "2296     0.000000\n",
       "2297     0.114564\n",
       "2298     0.095454\n",
       "2299     0.000000\n",
       "Name: C6, Length: 2300, dtype: float64"
      ]
     },
     "execution_count": 6,
     "metadata": {},
     "output_type": "execute_result"
    }
   ],
   "source": [
    "test = training_set.tail(100)\n",
    "test\n",
    "training_set = training_set.head(2300)\n",
    "training_set"
   ]
  },
  {
   "cell_type": "code",
   "execution_count": 7,
   "metadata": {
    "colab": {
     "base_uri": "https://localhost:8080/"
    },
    "id": "X0TwTcq0yuoS",
    "outputId": "37252ed8-d88e-4044-fa7a-922411990b5b"
   },
   "outputs": [
    {
     "name": "stdout",
     "output_type": "stream",
     "text": [
      "0       0.000298\n",
      "1       0.000298\n",
      "2       0.000297\n",
      "3       0.000297\n",
      "4       0.000297\n",
      "          ...   \n",
      "9995    0.000018\n",
      "9996    0.000018\n",
      "9997    0.000018\n",
      "9998    0.000018\n",
      "9999    0.000018\n",
      "Name: 0, Length: 10000, dtype: float64\n"
     ]
    }
   ],
   "source": [
    "training_set = training_set.reset_index(drop=True)\n",
    "gradient_t = gradient_t.reset_index(drop=True)\n",
    "print(gradient_t)"
   ]
  },
  {
   "cell_type": "code",
   "execution_count": 8,
   "metadata": {
    "id": "O2biznZQyuoS"
   },
   "outputs": [],
   "source": [
    "df = pd.concat((training_set, gradient_t), axis=1)\n",
    "df.columns = ['y_t', 'grad_t']"
   ]
  },
  {
   "cell_type": "code",
   "execution_count": 9,
   "metadata": {
    "colab": {
     "base_uri": "https://localhost:8080/",
     "height": 423
    },
    "id": "sk_a5v3tyuoS",
    "outputId": "17563625-e550-45ae-faab-fafa353e44da"
   },
   "outputs": [
    {
     "data": {
      "text/html": [
       "<div>\n",
       "<style scoped>\n",
       "    .dataframe tbody tr th:only-of-type {\n",
       "        vertical-align: middle;\n",
       "    }\n",
       "\n",
       "    .dataframe tbody tr th {\n",
       "        vertical-align: top;\n",
       "    }\n",
       "\n",
       "    .dataframe thead th {\n",
       "        text-align: right;\n",
       "    }\n",
       "</style>\n",
       "<table border=\"1\" class=\"dataframe\">\n",
       "  <thead>\n",
       "    <tr style=\"text-align: right;\">\n",
       "      <th></th>\n",
       "      <th>y_t</th>\n",
       "      <th>grad_t</th>\n",
       "    </tr>\n",
       "  </thead>\n",
       "  <tbody>\n",
       "    <tr>\n",
       "      <th>0</th>\n",
       "      <td>84.600000</td>\n",
       "      <td>0.000298</td>\n",
       "    </tr>\n",
       "    <tr>\n",
       "      <th>1</th>\n",
       "      <td>84.431933</td>\n",
       "      <td>0.000298</td>\n",
       "    </tr>\n",
       "    <tr>\n",
       "      <th>2</th>\n",
       "      <td>84.263866</td>\n",
       "      <td>0.000297</td>\n",
       "    </tr>\n",
       "    <tr>\n",
       "      <th>3</th>\n",
       "      <td>84.095798</td>\n",
       "      <td>0.000297</td>\n",
       "    </tr>\n",
       "    <tr>\n",
       "      <th>4</th>\n",
       "      <td>83.927731</td>\n",
       "      <td>0.000297</td>\n",
       "    </tr>\n",
       "    <tr>\n",
       "      <th>...</th>\n",
       "      <td>...</td>\n",
       "      <td>...</td>\n",
       "    </tr>\n",
       "    <tr>\n",
       "      <th>9995</th>\n",
       "      <td>NaN</td>\n",
       "      <td>0.000018</td>\n",
       "    </tr>\n",
       "    <tr>\n",
       "      <th>9996</th>\n",
       "      <td>NaN</td>\n",
       "      <td>0.000018</td>\n",
       "    </tr>\n",
       "    <tr>\n",
       "      <th>9997</th>\n",
       "      <td>NaN</td>\n",
       "      <td>0.000018</td>\n",
       "    </tr>\n",
       "    <tr>\n",
       "      <th>9998</th>\n",
       "      <td>NaN</td>\n",
       "      <td>0.000018</td>\n",
       "    </tr>\n",
       "    <tr>\n",
       "      <th>9999</th>\n",
       "      <td>NaN</td>\n",
       "      <td>0.000018</td>\n",
       "    </tr>\n",
       "  </tbody>\n",
       "</table>\n",
       "<p>10000 rows × 2 columns</p>\n",
       "</div>"
      ],
      "text/plain": [
       "            y_t    grad_t\n",
       "0     84.600000  0.000298\n",
       "1     84.431933  0.000298\n",
       "2     84.263866  0.000297\n",
       "3     84.095798  0.000297\n",
       "4     83.927731  0.000297\n",
       "...         ...       ...\n",
       "9995        NaN  0.000018\n",
       "9996        NaN  0.000018\n",
       "9997        NaN  0.000018\n",
       "9998        NaN  0.000018\n",
       "9999        NaN  0.000018\n",
       "\n",
       "[10000 rows x 2 columns]"
      ]
     },
     "execution_count": 9,
     "metadata": {},
     "output_type": "execute_result"
    }
   ],
   "source": [
    "df"
   ]
  },
  {
   "cell_type": "markdown",
   "metadata": {
    "id": "-5esyHu5aFvg"
   },
   "source": [
    "## Plot of the External Forcing from Chaotic Differential Equation"
   ]
  },
  {
   "cell_type": "code",
   "execution_count": 10,
   "metadata": {
    "colab": {
     "base_uri": "https://localhost:8080/",
     "height": 447
    },
    "id": "hGnE43tOh-4p",
    "outputId": "fc396503-b624-4fa5-dfbe-f460207405c6"
   },
   "outputs": [
    {
     "data": {
      "text/plain": [
       "<Axes: >"
      ]
     },
     "execution_count": 10,
     "metadata": {},
     "output_type": "execute_result"
    },
    {
     "data": {
      "image/png": "[encoded data removed]",
      "text/plain": [
       "<Figure size 432x288 with 1 Axes>"
      ]
     },
     "metadata": {
      "needs_background": "light"
     },
     "output_type": "display_data"
    }
   ],
   "source": [
    "df.iloc[:, 0].plot()"
   ]
  },
  {
   "cell_type": "code",
   "execution_count": 11,
   "metadata": {
    "colab": {
     "base_uri": "https://localhost:8080/",
     "height": 447
    },
    "id": "ym4xWUUxaFvg",
    "outputId": "ae6a3495-8ce9-437e-ba81-3ed31deedeae"
   },
   "outputs": [
    {
     "name": "stderr",
     "output_type": "stream",
     "text": [
      "C:\\Users\\Anurag Dutta\\AppData\\Local\\Packages\\PythonSoftwareFoundation.Python.3.9_qbz5n2kfra8p0\\LocalCache\\local-packages\\Python39\\site-packages\\pandas\\core\\arraylike.py:402: RuntimeWarning: divide by zero encountered in log\n",
      "  result = getattr(ufunc, method)(*inputs, **kwargs)\n"
     ]
    },
    {
     "data": {
      "text/plain": [
       "<Axes: >"
      ]
     },
     "execution_count": 11,
     "metadata": {},
     "output_type": "execute_result"
    },
    {
     "data": {
      "image/png": "[encoded data removed]",
      "text/plain": [
       "<Figure size 432x288 with 1 Axes>"
      ]
     },
     "metadata": {
      "needs_background": "light"
     },
     "output_type": "display_data"
    }
   ],
   "source": [
    "import numpy as np\n",
    "c0 = 82.7524  # Value for C0\n",
    "K0 = -0.0031  # Value for K0\n",
    "K1 = -0.0003  # Value for K1\n",
    "a = 0.0000    # Value for a\n",
    "b = 0.0171    # Value for b\n",
    "c = 3.0230    # Value for c\n",
    "\n",
    "L = np.minimum(c0, (df.iloc[:, 1] - (df.iloc[:, 0] * (K0 - K1 * (9 * a * np.log(df.iloc[:, 0] / c0) / (K0 - K1 * c)**2 + 4 * b * np.log(df.iloc[:, 0] / c0) / (K0 - K1 * c) + c)))))\n",
    "L.plot()"
   ]
  },
  {
   "cell_type": "markdown",
   "metadata": {
    "id": "9VyEywnwaFvh"
   },
   "source": [
    "## Preprocessing the data into supervised learning"
   ]
  },
  {
   "cell_type": "code",
   "execution_count": 12,
   "metadata": {
    "id": "6V9dXqzdaFvh"
   },
   "outputs": [],
   "source": [
    "# split a sequence into samples\n",
    "def Supervised(data, n_in=1, n_out=1, dropnan=True):\n",
    "    n_vars = 1 if type(data) is list else data.shape[1]\n",
    "    df = pd.DataFrame(data)\n",
    "    cols, names = list(), list()\n",
    "    # input sequence (t-n_in, ... t-1)\n",
    "    for i in range(n_in, 0, -1):\n",
    "        cols.append(df.shift(i))\n",
    "        names += [('var%d(t-%d)' % (j+1, i)) for j in range(n_vars)]\n",
    "    # forecast sequence (t, t+1, ... t+n_out)\n",
    "    for i in range(0, n_out):\n",
    "      cols.append(df.shift(-i))\n",
    "      if i == 0:\n",
    "        names += [('var%d(t)' % (j+1)) for j in range(n_vars)]\n",
    "      else:\n",
    "        names += [('var%d(t+%d)' % (j+1, i)) for j in range(n_vars)]\n",
    "    # put it all together\n",
    "    agg = pd.concat(cols, axis=1)\n",
    "    agg.columns = names\n",
    "    # drop rows with NaN values\n",
    "    if dropnan:\n",
    "       agg.dropna(inplace=True)\n",
    "    return agg"
   ]
  },
  {
   "cell_type": "code",
   "execution_count": 13,
   "metadata": {
    "colab": {
     "base_uri": "https://localhost:8080/"
    },
    "id": "CrzSrT1HnyfH",
    "outputId": "7e75f928-3e47-499d-eac1-51908015ef78"
   },
   "outputs": [
    {
     "name": "stdout",
     "output_type": "stream",
     "text": [
      "     var1(t-350)  var1(t-349)  var1(t-348)  var1(t-347)  var1(t-346)  \\\n",
      "350    84.600000    84.431933    84.263866    84.095798    83.927731   \n",
      "351    84.431933    84.263866    84.095798    83.927731    83.759664   \n",
      "352    84.263866    84.095798    83.927731    83.759664    83.591597   \n",
      "353    84.095798    83.927731    83.759664    83.591597    83.423529   \n",
      "354    83.927731    83.759664    83.591597    83.423529    83.255462   \n",
      "\n",
      "     var1(t-345)  var1(t-344)  var1(t-343)  var1(t-342)  var1(t-341)  ...  \\\n",
      "350    83.759664    83.591597    83.423529    83.255462    83.092437  ...   \n",
      "351    83.591597    83.423529    83.255462    83.092437    82.991597  ...   \n",
      "352    83.423529    83.255462    83.092437    82.991597    82.890756  ...   \n",
      "353    83.255462    83.092437    82.991597    82.890756    82.789916  ...   \n",
      "354    83.092437    82.991597    82.890756    82.789916    82.689076  ...   \n",
      "\n",
      "     var1(t+95)  var2(t+95)  var1(t+96)  var2(t+96)  var1(t+97)  var2(t+97)  \\\n",
      "350   70.003688    0.000263   69.960738    0.000263   69.917787    0.000263   \n",
      "351   69.960738    0.000263   69.917787    0.000263   69.874837    0.000262   \n",
      "352   69.917787    0.000263   69.874837    0.000262   69.831886    0.000262   \n",
      "353   69.874837    0.000262   69.831886    0.000262   69.788936    0.000262   \n",
      "354   69.831886    0.000262   69.788936    0.000262   69.745985    0.000262   \n",
      "\n",
      "     var1(t+98)  var2(t+98)  var1(t+99)  var2(t+99)  \n",
      "350   69.874837    0.000262   69.831886    0.000262  \n",
      "351   69.831886    0.000262   69.788936    0.000262  \n",
      "352   69.788936    0.000262   69.745985    0.000262  \n",
      "353   69.745985    0.000262   69.703035    0.000262  \n",
      "354   69.703035    0.000262   69.660084    0.000262  \n",
      "\n",
      "[5 rows x 551 columns]\n",
      "Index(['var1(t-350)', 'var1(t-349)', 'var1(t-348)', 'var1(t-347)',\n",
      "       'var1(t-346)', 'var1(t-345)', 'var1(t-344)', 'var1(t-343)',\n",
      "       'var1(t-342)', 'var1(t-341)',\n",
      "       ...\n",
      "       'var1(t+95)', 'var2(t+95)', 'var1(t+96)', 'var2(t+96)', 'var1(t+97)',\n",
      "       'var2(t+97)', 'var1(t+98)', 'var2(t+98)', 'var1(t+99)', 'var2(t+99)'],\n",
      "      dtype='object', length=551)\n"
     ]
    }
   ],
   "source": [
    "data = Supervised(df.values, n_in = 350, n_out = 100)\n",
    "\n",
    "\n",
    "cols_to_drop = []\n",
    "for i in range(2, 351):\n",
    "    cols_to_drop.extend([f'var2(t-{i})'])\n",
    "\n",
    "data.drop(cols_to_drop, axis=1, inplace=True)\n",
    "\n",
    "print(data.head())\n",
    "print(data.columns)"
   ]
  },
  {
   "cell_type": "code",
   "execution_count": 14,
   "metadata": {
    "id": "AfPf60oy6Pe4"
   },
   "outputs": [],
   "source": [
    "train = np.array(data[0:len(data)-1])\n",
    "forecast = np.array(data.tail(1))"
   ]
  },
  {
   "cell_type": "code",
   "execution_count": 15,
   "metadata": {
    "id": "WSAafzI37KiT"
   },
   "outputs": [],
   "source": [
    "trainy = train[:,-300:]\n",
    "trainX = train[:,:-300]"
   ]
  },
  {
   "cell_type": "code",
   "execution_count": 16,
   "metadata": {
    "id": "2SrOqVJA7f50"
   },
   "outputs": [],
   "source": [
    "forecasty = forecast[:,-300:]\n",
    "forecastX = forecast[:,:-300]"
   ]
  },
  {
   "cell_type": "code",
   "execution_count": 17,
   "metadata": {
    "colab": {
     "base_uri": "https://localhost:8080/"
    },
    "id": "Qno_k8Nw7saY",
    "outputId": "c4a88db5-d8c6-489f-cdb2-06b24e293cff"
   },
   "outputs": [
    {
     "name": "stdout",
     "output_type": "stream",
     "text": [
      "(1850, 1, 251) (1850, 300) (1, 1, 251)\n"
     ]
    }
   ],
   "source": [
    "trainX = trainX.reshape((trainX.shape[0], 1, trainX.shape[1]))\n",
    "forecastX = forecastX.reshape((forecastX.shape[0], 1, forecastX.shape[1]))\n",
    "print(trainX.shape, trainy.shape, forecastX.shape)"
   ]
  },
  {
   "cell_type": "code",
   "execution_count": 18,
   "metadata": {
    "colab": {
     "base_uri": "https://localhost:8080/"
    },
    "id": "b1Jp2DvNuNFx",
    "outputId": "d0e5b3c4-64f1-438c-eade-8dfeaac8e285"
   },
   "outputs": [
    {
     "name": "stdout",
     "output_type": "stream",
     "text": [
      "Epoch 1/500\n",
      "24/24 [==============================] - 2s 21ms/step - loss: 3691.7686 - val_loss: 2158.3582\n",
      "Epoch 2/500\n",
      "24/24 [==============================] - 0s 4ms/step - loss: 3453.2605 - val_loss: 2004.9991\n",
      "Epoch 3/500\n",
      "24/24 [==============================] - 0s 4ms/step - loss: 3340.6487 - val_loss: 1950.0286\n",
      "Epoch 4/500\n",
      "24/24 [==============================] - 0s 4ms/step - loss: 3259.9641 - val_loss: 1897.5436\n",
      "Epoch 5/500\n",
      "24/24 [==============================] - 0s 5ms/step - loss: 3167.9419 - val_loss: 1842.7333\n",
      "Epoch 6/500\n",
      "24/24 [==============================] - 0s 6ms/step - loss: 3089.2878 - val_loss: 1795.7427\n",
      "Epoch 7/500\n",
      "24/24 [==============================] - 0s 4ms/step - loss: 3014.1643 - val_loss: 1750.6254\n",
      "Epoch 8/500\n",
      "24/24 [==============================] - 0s 4ms/step - loss: 2941.3142 - val_loss: 1707.1027\n",
      "Epoch 9/500\n",
      "24/24 [==============================] - 0s 4ms/step - loss: 2870.3811 - val_loss: 1665.0037\n",
      "Epoch 10/500\n",
      "24/24 [==============================] - 0s 4ms/step - loss: 2801.1577 - val_loss: 1624.2222\n",
      "Epoch 11/500\n",
      "24/24 [==============================] - 0s 4ms/step - loss: 2733.5110 - val_loss: 1584.6848\n",
      "Epoch 12/500\n",
      "24/24 [==============================] - 0s 4ms/step - loss: 2667.3511 - val_loss: 1546.3357\n",
      "Epoch 13/500\n",
      "24/24 [==============================] - 0s 4ms/step - loss: 2602.6084 - val_loss: 1509.1317\n",
      "Epoch 14/500\n",
      "24/24 [==============================] - 0s 4ms/step - loss: 2539.2285 - val_loss: 1473.0364\n",
      "Epoch 15/500\n",
      "24/24 [==============================] - 0s 4ms/step - loss: 2477.1687 - val_loss: 1438.0186\n",
      "Epoch 16/500\n",
      "24/24 [==============================] - 0s 4ms/step - loss: 2416.3896 - val_loss: 1404.0505\n",
      "Epoch 17/500\n",
      "24/24 [==============================] - 0s 4ms/step - loss: 2356.8599 - val_loss: 1371.1074\n",
      "Epoch 18/500\n",
      "24/24 [==============================] - 0s 4ms/step - loss: 2298.5500 - val_loss: 1339.1664\n",
      "Epoch 19/500\n",
      "24/24 [==============================] - 0s 4ms/step - loss: 2241.4338 - val_loss: 1308.2062\n",
      "Epoch 20/500\n",
      "24/24 [==============================] - 0s 4ms/step - loss: 2185.4866 - val_loss: 1278.2068\n",
      "Epoch 21/500\n",
      "24/24 [==============================] - 0s 4ms/step - loss: 2130.6865 - val_loss: 1249.1488\n",
      "Epoch 22/500\n",
      "24/24 [==============================] - 0s 4ms/step - loss: 2077.0120 - val_loss: 1221.0144\n",
      "Epoch 23/500\n",
      "24/24 [==============================] - 0s 4ms/step - loss: 2024.4436 - val_loss: 1193.7855\n",
      "Epoch 24/500\n",
      "24/24 [==============================] - 0s 4ms/step - loss: 1972.9617 - val_loss: 1166.1957\n",
      "Epoch 25/500\n",
      "24/24 [==============================] - 0s 8ms/step - loss: 1912.0784 - val_loss: 1138.4673\n",
      "Epoch 26/500\n",
      "24/24 [==============================] - 0s 4ms/step - loss: 1857.2404 - val_loss: 1112.8148\n",
      "Epoch 27/500\n",
      "24/24 [==============================] - 0s 4ms/step - loss: 1804.7527 - val_loss: 1088.3613\n",
      "Epoch 28/500\n",
      "24/24 [==============================] - 0s 4ms/step - loss: 1754.2289 - val_loss: 1064.9598\n",
      "Epoch 29/500\n",
      "24/24 [==============================] - 0s 4ms/step - loss: 1705.3093 - val_loss: 1042.5275\n",
      "Epoch 30/500\n",
      "24/24 [==============================] - 0s 3ms/step - loss: 1657.7998 - val_loss: 1021.0113\n",
      "Epoch 31/500\n",
      "24/24 [==============================] - 0s 4ms/step - loss: 1611.5828 - val_loss: 1000.3733\n",
      "Epoch 32/500\n",
      "24/24 [==============================] - 0s 4ms/step - loss: 1566.5778 - val_loss: 980.5837\n",
      "Epoch 33/500\n",
      "24/24 [==============================] - 0s 4ms/step - loss: 1522.7257 - val_loss: 961.6262\n",
      "Epoch 34/500\n",
      "24/24 [==============================] - 0s 4ms/step - loss: 1479.9860 - val_loss: 943.4034\n",
      "Epoch 35/500\n",
      "24/24 [==============================] - 0s 4ms/step - loss: 1438.3015 - val_loss: 926.0022\n",
      "Epoch 36/500\n",
      "24/24 [==============================] - 0s 4ms/step - loss: 1397.6577 - val_loss: 909.3574\n",
      "Epoch 37/500\n",
      "24/24 [==============================] - 0s 4ms/step - loss: 1358.0192 - val_loss: 893.4510\n",
      "Epoch 38/500\n",
      "24/24 [==============================] - 0s 4ms/step - loss: 1319.3601 - val_loss: 878.2657\n",
      "Epoch 39/500\n",
      "24/24 [==============================] - 0s 4ms/step - loss: 1281.6570 - val_loss: 863.7846\n",
      "Epoch 40/500\n",
      "24/24 [==============================] - 0s 4ms/step - loss: 1244.8875 - val_loss: 849.9916\n",
      "Epoch 41/500\n",
      "24/24 [==============================] - 0s 4ms/step - loss: 1209.0308 - val_loss: 836.8713\n",
      "Epoch 42/500\n",
      "24/24 [==============================] - 0s 4ms/step - loss: 1174.0680 - val_loss: 824.4083\n",
      "Epoch 43/500\n",
      "24/24 [==============================] - 0s 4ms/step - loss: 1139.9806 - val_loss: 812.5883\n",
      "Epoch 44/500\n",
      "24/24 [==============================] - 0s 5ms/step - loss: 1106.7507 - val_loss: 801.3962\n",
      "Epoch 45/500\n",
      "24/24 [==============================] - 0s 5ms/step - loss: 1074.3613 - val_loss: 790.8186\n",
      "Epoch 46/500\n",
      "24/24 [==============================] - 0s 5ms/step - loss: 1042.7965 - val_loss: 780.8408\n",
      "Epoch 47/500\n",
      "24/24 [==============================] - 0s 5ms/step - loss: 1012.0398 - val_loss: 771.4495\n",
      "Epoch 48/500\n",
      "24/24 [==============================] - 0s 5ms/step - loss: 982.0760 - val_loss: 762.6311\n",
      "Epoch 49/500\n",
      "24/24 [==============================] - 0s 6ms/step - loss: 952.8900 - val_loss: 754.3722\n",
      "Epoch 50/500\n",
      "24/24 [==============================] - 0s 5ms/step - loss: 924.4672 - val_loss: 746.6598\n",
      "Epoch 51/500\n",
      "24/24 [==============================] - 0s 5ms/step - loss: 896.7933 - val_loss: 739.4807\n",
      "Epoch 52/500\n",
      "24/24 [==============================] - 0s 5ms/step - loss: 869.8542 - val_loss: 732.8224\n",
      "Epoch 53/500\n",
      "24/24 [==============================] - 0s 5ms/step - loss: 843.6359 - val_loss: 726.6721\n",
      "Epoch 54/500\n",
      "24/24 [==============================] - 0s 5ms/step - loss: 818.1248 - val_loss: 721.0170\n",
      "Epoch 55/500\n",
      "24/24 [==============================] - 0s 5ms/step - loss: 793.3078 - val_loss: 715.8449\n",
      "Epoch 56/500\n",
      "24/24 [==============================] - 0s 5ms/step - loss: 769.1715 - val_loss: 711.1440\n",
      "Epoch 57/500\n",
      "24/24 [==============================] - 0s 5ms/step - loss: 745.7032 - val_loss: 706.9025\n",
      "Epoch 58/500\n",
      "24/24 [==============================] - 0s 5ms/step - loss: 722.8901 - val_loss: 703.1154\n",
      "Epoch 59/500\n",
      "24/24 [==============================] - 0s 5ms/step - loss: 700.7411 - val_loss: 699.7588\n",
      "Epoch 60/500\n",
      "24/24 [==============================] - 0s 11ms/step - loss: 679.1768 - val_loss: 696.8425\n",
      "Epoch 61/500\n",
      "24/24 [==============================] - 0s 6ms/step - loss: 658.2528 - val_loss: 694.3133\n",
      "Epoch 62/500\n",
      "24/24 [==============================] - 0s 6ms/step - loss: 637.9358 - val_loss: 692.1835\n",
      "Epoch 63/500\n",
      "24/24 [==============================] - 0s 5ms/step - loss: 618.2126 - val_loss: 690.4410\n",
      "Epoch 64/500\n",
      "24/24 [==============================] - 0s 6ms/step - loss: 599.0714 - val_loss: 689.0749\n",
      "Epoch 65/500\n",
      "24/24 [==============================] - 0s 5ms/step - loss: 580.5004 - val_loss: 688.0734\n",
      "Epoch 66/500\n",
      "24/24 [==============================] - 0s 5ms/step - loss: 562.4882 - val_loss: 687.4257\n",
      "Epoch 67/500\n",
      "24/24 [==============================] - 0s 5ms/step - loss: 545.0229 - val_loss: 687.1204\n",
      "Epoch 68/500\n",
      "24/24 [==============================] - 0s 5ms/step - loss: 528.0934 - val_loss: 687.1465\n",
      "Epoch 69/500\n",
      "24/24 [==============================] - 0s 5ms/step - loss: 511.6887 - val_loss: 687.4932\n",
      "Epoch 70/500\n",
      "24/24 [==============================] - 0s 5ms/step - loss: 495.7976 - val_loss: 688.1495\n",
      "Epoch 71/500\n",
      "24/24 [==============================] - 0s 5ms/step - loss: 480.4090 - val_loss: 689.1048\n",
      "Epoch 72/500\n",
      "24/24 [==============================] - 0s 5ms/step - loss: 465.5120 - val_loss: 690.3484\n",
      "Epoch 73/500\n",
      "24/24 [==============================] - 0s 5ms/step - loss: 451.0960 - val_loss: 691.8700\n",
      "Epoch 74/500\n",
      "24/24 [==============================] - 0s 5ms/step - loss: 437.1504 - val_loss: 693.6590\n",
      "Epoch 75/500\n",
      "24/24 [==============================] - 0s 5ms/step - loss: 423.6644 - val_loss: 695.7050\n",
      "Epoch 76/500\n",
      "24/24 [==============================] - 0s 5ms/step - loss: 410.6279 - val_loss: 697.9980\n",
      "Epoch 77/500\n",
      "24/24 [==============================] - 0s 5ms/step - loss: 398.0303 - val_loss: 700.5278\n",
      "Epoch 78/500\n",
      "24/24 [==============================] - 0s 5ms/step - loss: 385.8616 - val_loss: 703.2845\n",
      "Epoch 79/500\n",
      "24/24 [==============================] - 0s 5ms/step - loss: 374.1117 - val_loss: 706.2581\n",
      "Epoch 80/500\n",
      "24/24 [==============================] - 0s 5ms/step - loss: 362.7704 - val_loss: 709.4388\n",
      "Epoch 81/500\n",
      "24/24 [==============================] - 0s 5ms/step - loss: 351.8282 - val_loss: 712.8172\n",
      "Epoch 82/500\n",
      "24/24 [==============================] - 0s 5ms/step - loss: 341.2748 - val_loss: 716.3835\n",
      "Epoch 83/500\n",
      "24/24 [==============================] - 0s 5ms/step - loss: 331.1011 - val_loss: 720.1287\n",
      "Epoch 84/500\n",
      "24/24 [==============================] - 0s 5ms/step - loss: 321.2972 - val_loss: 724.0429\n",
      "Epoch 85/500\n",
      "24/24 [==============================] - 0s 5ms/step - loss: 311.8537 - val_loss: 728.1173\n",
      "Epoch 86/500\n",
      "24/24 [==============================] - 0s 5ms/step - loss: 302.7613 - val_loss: 732.3430\n",
      "Epoch 87/500\n",
      "24/24 [==============================] - 0s 8ms/step - loss: 294.0107 - val_loss: 736.7109\n",
      "Epoch 88/500\n",
      "24/24 [==============================] - 0s 6ms/step - loss: 285.5929 - val_loss: 741.2122\n",
      "Epoch 89/500\n",
      "24/24 [==============================] - 0s 6ms/step - loss: 277.4988 - val_loss: 745.8383\n",
      "Epoch 90/500\n",
      "24/24 [==============================] - 0s 5ms/step - loss: 269.7198 - val_loss: 750.5806\n",
      "Epoch 91/500\n",
      "24/24 [==============================] - 0s 5ms/step - loss: 262.2469 - val_loss: 755.4309\n",
      "Epoch 92/500\n",
      "24/24 [==============================] - 0s 11ms/step - loss: 255.0713 - val_loss: 760.3809\n",
      "Epoch 93/500\n",
      "24/24 [==============================] - 0s 6ms/step - loss: 248.1849 - val_loss: 765.4225\n",
      "Epoch 94/500\n",
      "24/24 [==============================] - 0s 5ms/step - loss: 241.5788 - val_loss: 770.5476\n",
      "Epoch 95/500\n",
      "24/24 [==============================] - 0s 5ms/step - loss: 235.2450 - val_loss: 775.7490\n",
      "Epoch 96/500\n",
      "24/24 [==============================] - 0s 6ms/step - loss: 229.1753 - val_loss: 781.0184\n",
      "Epoch 97/500\n",
      "24/24 [==============================] - 0s 5ms/step - loss: 223.3616 - val_loss: 786.3484\n",
      "Epoch 98/500\n",
      "24/24 [==============================] - 0s 5ms/step - loss: 217.7962 - val_loss: 791.7320\n",
      "Epoch 99/500\n",
      "24/24 [==============================] - 0s 5ms/step - loss: 212.4710 - val_loss: 797.1617\n",
      "Epoch 100/500\n",
      "24/24 [==============================] - 0s 5ms/step - loss: 207.3785 - val_loss: 802.6312\n",
      "Epoch 101/500\n",
      "24/24 [==============================] - 0s 5ms/step - loss: 202.5110 - val_loss: 808.1328\n",
      "Epoch 102/500\n",
      "24/24 [==============================] - 0s 5ms/step - loss: 197.8613 - val_loss: 813.6605\n",
      "Epoch 103/500\n",
      "24/24 [==============================] - 0s 5ms/step - loss: 193.4220 - val_loss: 819.2075\n",
      "Epoch 104/500\n",
      "24/24 [==============================] - 0s 5ms/step - loss: 189.1859 - val_loss: 824.7672\n",
      "Epoch 105/500\n",
      "24/24 [==============================] - 0s 5ms/step - loss: 185.1462 - val_loss: 830.3340\n",
      "Epoch 106/500\n",
      "24/24 [==============================] - 0s 5ms/step - loss: 181.2959 - val_loss: 835.9019\n",
      "Epoch 107/500\n",
      "24/24 [==============================] - 0s 5ms/step - loss: 177.6282 - val_loss: 841.4646\n",
      "Epoch 108/500\n",
      "24/24 [==============================] - 0s 5ms/step - loss: 174.1366 - val_loss: 847.0170\n",
      "Epoch 109/500\n",
      "24/24 [==============================] - 0s 5ms/step - loss: 170.8145 - val_loss: 852.5537\n",
      "Epoch 110/500\n",
      "24/24 [==============================] - 0s 5ms/step - loss: 167.6557 - val_loss: 858.0689\n",
      "Epoch 111/500\n",
      "24/24 [==============================] - 0s 5ms/step - loss: 164.6540 - val_loss: 863.5583\n",
      "Epoch 112/500\n",
      "24/24 [==============================] - 0s 5ms/step - loss: 161.8033 - val_loss: 869.0167\n",
      "Epoch 113/500\n",
      "24/24 [==============================] - 0s 5ms/step - loss: 159.0977 - val_loss: 874.4395\n",
      "Epoch 114/500\n",
      "24/24 [==============================] - 0s 5ms/step - loss: 156.5315 - val_loss: 879.8220\n",
      "Epoch 115/500\n",
      "24/24 [==============================] - 0s 6ms/step - loss: 154.0989 - val_loss: 885.1602\n",
      "Epoch 116/500\n",
      "24/24 [==============================] - 0s 5ms/step - loss: 151.7946 - val_loss: 890.4502\n",
      "Epoch 117/500\n",
      "24/24 [==============================] - 0s 5ms/step - loss: 149.6132 - val_loss: 895.6879\n",
      "Epoch 118/500\n",
      "24/24 [==============================] - 0s 5ms/step - loss: 147.5495 - val_loss: 900.8689\n",
      "Epoch 119/500\n",
      "24/24 [==============================] - 0s 5ms/step - loss: 145.5984 - val_loss: 905.9910\n",
      "Epoch 120/500\n",
      "24/24 [==============================] - 0s 6ms/step - loss: 143.7549 - val_loss: 911.0500\n",
      "Epoch 121/500\n",
      "24/24 [==============================] - 0s 6ms/step - loss: 142.0145 - val_loss: 916.0430\n",
      "Epoch 122/500\n",
      "24/24 [==============================] - 0s 16ms/step - loss: 140.3723 - val_loss: 920.9667\n",
      "Epoch 123/500\n",
      "24/24 [==============================] - 0s 8ms/step - loss: 138.8240 - val_loss: 925.8193\n",
      "Epoch 124/500\n",
      "24/24 [==============================] - 0s 6ms/step - loss: 137.3650 - val_loss: 930.5973\n",
      "Epoch 125/500\n",
      "24/24 [==============================] - 0s 5ms/step - loss: 135.9914 - val_loss: 935.2986\n",
      "Epoch 126/500\n",
      "24/24 [==============================] - 0s 8ms/step - loss: 134.6988 - val_loss: 939.9213\n",
      "Epoch 127/500\n",
      "24/24 [==============================] - 0s 6ms/step - loss: 133.4835 - val_loss: 944.4626\n",
      "Epoch 128/500\n",
      "24/24 [==============================] - 0s 5ms/step - loss: 132.3416 - val_loss: 948.9219\n",
      "Epoch 129/500\n",
      "24/24 [==============================] - 0s 6ms/step - loss: 131.2694 - val_loss: 953.2962\n",
      "Epoch 130/500\n",
      "24/24 [==============================] - 0s 7ms/step - loss: 130.2634 - val_loss: 957.5851\n",
      "Epoch 131/500\n",
      "24/24 [==============================] - 0s 6ms/step - loss: 129.3202 - val_loss: 961.7870\n",
      "Epoch 132/500\n",
      "24/24 [==============================] - 0s 5ms/step - loss: 128.4364 - val_loss: 965.9006\n",
      "Epoch 133/500\n",
      "24/24 [==============================] - 0s 5ms/step - loss: 127.6089 - val_loss: 969.9250\n",
      "Epoch 134/500\n",
      "24/24 [==============================] - 0s 5ms/step - loss: 126.8349 - val_loss: 973.8591\n",
      "Epoch 135/500\n",
      "24/24 [==============================] - 0s 5ms/step - loss: 126.1111 - val_loss: 977.7029\n",
      "Epoch 136/500\n",
      "24/24 [==============================] - 0s 5ms/step - loss: 125.4349 - val_loss: 981.4553\n",
      "Epoch 137/500\n",
      "24/24 [==============================] - 0s 5ms/step - loss: 124.8036 - val_loss: 985.1164\n",
      "Epoch 138/500\n",
      "24/24 [==============================] - 0s 5ms/step - loss: 124.2147 - val_loss: 988.6851\n",
      "Epoch 139/500\n",
      "24/24 [==============================] - 0s 5ms/step - loss: 123.6657 - val_loss: 992.1624\n",
      "Epoch 140/500\n",
      "24/24 [==============================] - 0s 6ms/step - loss: 123.1542 - val_loss: 995.5480\n",
      "Epoch 141/500\n",
      "24/24 [==============================] - 0s 5ms/step - loss: 122.6781 - val_loss: 998.8422\n",
      "Epoch 142/500\n",
      "24/24 [==============================] - 0s 5ms/step - loss: 122.2352 - val_loss: 1002.0446\n",
      "Epoch 143/500\n",
      "24/24 [==============================] - 0s 5ms/step - loss: 121.8235 - val_loss: 1005.1562\n",
      "Epoch 144/500\n",
      "24/24 [==============================] - 0s 5ms/step - loss: 121.4410 - val_loss: 1008.1780\n",
      "Epoch 145/500\n",
      "24/24 [==============================] - 0s 5ms/step - loss: 121.0860 - val_loss: 1011.1101\n",
      "Epoch 146/500\n",
      "24/24 [==============================] - 0s 5ms/step - loss: 120.7566 - val_loss: 1013.9533\n",
      "Epoch 147/500\n",
      "24/24 [==============================] - 0s 5ms/step - loss: 120.4513 - val_loss: 1016.7086\n",
      "Epoch 148/500\n",
      "24/24 [==============================] - 0s 5ms/step - loss: 120.1685 - val_loss: 1019.3770\n",
      "Epoch 149/500\n",
      "24/24 [==============================] - 0s 6ms/step - loss: 119.9066 - val_loss: 1021.9591\n",
      "Epoch 150/500\n",
      "24/24 [==============================] - 0s 5ms/step - loss: 119.6644 - val_loss: 1024.4565\n",
      "Epoch 151/500\n",
      "24/24 [==============================] - 0s 7ms/step - loss: 119.4404 - val_loss: 1026.8706\n",
      "Epoch 152/500\n",
      "24/24 [==============================] - 0s 6ms/step - loss: 119.2335 - val_loss: 1029.2024\n",
      "Epoch 153/500\n",
      "24/24 [==============================] - 0s 6ms/step - loss: 119.0424 - val_loss: 1031.4534\n",
      "Epoch 154/500\n",
      "24/24 [==============================] - 0s 9ms/step - loss: 118.8660 - val_loss: 1033.6243\n",
      "Epoch 155/500\n",
      "24/24 [==============================] - 1s 21ms/step - loss: 118.7034 - val_loss: 1035.7175\n",
      "Epoch 156/500\n",
      "24/24 [==============================] - 0s 7ms/step - loss: 118.5535 - val_loss: 1037.7336\n",
      "Epoch 157/500\n",
      "24/24 [==============================] - 0s 7ms/step - loss: 118.4155 - val_loss: 1039.6750\n",
      "Epoch 158/500\n",
      "24/24 [==============================] - 0s 6ms/step - loss: 118.2884 - val_loss: 1041.5427\n",
      "Epoch 159/500\n",
      "24/24 [==============================] - 0s 9ms/step - loss: 118.1714 - val_loss: 1043.3389\n",
      "Epoch 160/500\n",
      "24/24 [==============================] - 0s 7ms/step - loss: 118.0639 - val_loss: 1045.0648\n",
      "Epoch 161/500\n",
      "24/24 [==============================] - 0s 7ms/step - loss: 117.9651 - val_loss: 1046.7225\n",
      "Epoch 162/500\n",
      "24/24 [==============================] - 0s 5ms/step - loss: 117.8743 - val_loss: 1048.3125\n",
      "Epoch 163/500\n",
      "24/24 [==============================] - 0s 5ms/step - loss: 117.7909 - val_loss: 1049.8389\n",
      "Epoch 164/500\n",
      "24/24 [==============================] - 0s 5ms/step - loss: 117.7144 - val_loss: 1051.3009\n",
      "Epoch 165/500\n",
      "24/24 [==============================] - 0s 5ms/step - loss: 117.6442 - val_loss: 1052.7015\n",
      "Epoch 166/500\n",
      "24/24 [==============================] - 0s 6ms/step - loss: 117.5798 - val_loss: 1054.0422\n",
      "Epoch 167/500\n",
      "24/24 [==============================] - 0s 7ms/step - loss: 117.5209 - val_loss: 1055.3253\n",
      "Epoch 168/500\n",
      "24/24 [==============================] - 0s 13ms/step - loss: 117.4668 - val_loss: 1056.5520\n",
      "Epoch 169/500\n",
      "24/24 [==============================] - 0s 9ms/step - loss: 117.4173 - val_loss: 1057.7236\n",
      "Epoch 170/500\n",
      "24/24 [==============================] - 0s 8ms/step - loss: 117.3721 - val_loss: 1058.8430\n",
      "Epoch 171/500\n",
      "24/24 [==============================] - 0s 7ms/step - loss: 117.3306 - val_loss: 1059.9108\n",
      "Epoch 172/500\n",
      "24/24 [==============================] - 0s 6ms/step - loss: 117.2927 - val_loss: 1060.9294\n",
      "Epoch 173/500\n",
      "24/24 [==============================] - 0s 8ms/step - loss: 117.2580 - val_loss: 1061.9004\n",
      "Epoch 174/500\n",
      "24/24 [==============================] - 0s 6ms/step - loss: 117.2263 - val_loss: 1062.8247\n",
      "Epoch 175/500\n",
      "24/24 [==============================] - 0s 6ms/step - loss: 117.1974 - val_loss: 1063.7053\n",
      "Epoch 176/500\n",
      "24/24 [==============================] - 0s 5ms/step - loss: 117.1709 - val_loss: 1064.5426\n",
      "Epoch 177/500\n",
      "24/24 [==============================] - 0s 5ms/step - loss: 117.1468 - val_loss: 1065.3395\n",
      "Epoch 178/500\n",
      "24/24 [==============================] - 0s 5ms/step - loss: 117.1247 - val_loss: 1066.0961\n",
      "Epoch 179/500\n",
      "24/24 [==============================] - 0s 5ms/step - loss: 117.1045 - val_loss: 1066.8143\n",
      "Epoch 180/500\n",
      "24/24 [==============================] - 0s 5ms/step - loss: 117.0862 - val_loss: 1067.4966\n",
      "Epoch 181/500\n",
      "24/24 [==============================] - 0s 5ms/step - loss: 117.0695 - val_loss: 1068.1432\n",
      "Epoch 182/500\n",
      "24/24 [==============================] - 0s 5ms/step - loss: 117.0542 - val_loss: 1068.7565\n",
      "Epoch 183/500\n",
      "24/24 [==============================] - 0s 10ms/step - loss: 117.0403 - val_loss: 1069.3373\n",
      "Epoch 184/500\n",
      "24/24 [==============================] - 0s 6ms/step - loss: 117.0276 - val_loss: 1069.8866\n",
      "Epoch 185/500\n",
      "24/24 [==============================] - 0s 6ms/step - loss: 117.0161 - val_loss: 1070.4072\n",
      "Epoch 186/500\n",
      "24/24 [==============================] - 0s 6ms/step - loss: 117.0056 - val_loss: 1070.8989\n",
      "Epoch 187/500\n",
      "24/24 [==============================] - 0s 9ms/step - loss: 116.9960 - val_loss: 1071.3641\n",
      "Epoch 188/500\n",
      "24/24 [==============================] - 0s 7ms/step - loss: 116.9874 - val_loss: 1071.8033\n",
      "Epoch 189/500\n",
      "24/24 [==============================] - 0s 8ms/step - loss: 116.9795 - val_loss: 1072.2185\n",
      "Epoch 190/500\n",
      "24/24 [==============================] - 0s 14ms/step - loss: 116.9724 - val_loss: 1072.6094\n",
      "Epoch 191/500\n",
      "24/24 [==============================] - 0s 11ms/step - loss: 116.9659 - val_loss: 1072.9774\n",
      "Epoch 192/500\n",
      "24/24 [==============================] - 0s 7ms/step - loss: 116.9600 - val_loss: 1073.3252\n",
      "Epoch 193/500\n",
      "24/24 [==============================] - 0s 6ms/step - loss: 116.9548 - val_loss: 1073.6520\n",
      "Epoch 194/500\n",
      "24/24 [==============================] - 0s 6ms/step - loss: 116.9499 - val_loss: 1073.9603\n",
      "Epoch 195/500\n",
      "24/24 [==============================] - 0s 6ms/step - loss: 116.9456 - val_loss: 1074.2495\n",
      "Epoch 196/500\n",
      "24/24 [==============================] - 0s 7ms/step - loss: 116.9417 - val_loss: 1074.5215\n",
      "Epoch 197/500\n",
      "24/24 [==============================] - 0s 9ms/step - loss: 116.9383 - val_loss: 1074.7770\n",
      "Epoch 198/500\n",
      "24/24 [==============================] - 0s 8ms/step - loss: 116.9352 - val_loss: 1075.0171\n",
      "Epoch 199/500\n",
      "24/24 [==============================] - 0s 8ms/step - loss: 116.9323 - val_loss: 1075.2421\n",
      "Epoch 200/500\n",
      "24/24 [==============================] - 0s 8ms/step - loss: 116.9299 - val_loss: 1075.4532\n",
      "Epoch 201/500\n",
      "24/24 [==============================] - 0s 6ms/step - loss: 116.9277 - val_loss: 1075.6511\n",
      "Epoch 202/500\n",
      "24/24 [==============================] - 0s 5ms/step - loss: 116.9257 - val_loss: 1075.8359\n",
      "Epoch 203/500\n",
      "24/24 [==============================] - 0s 5ms/step - loss: 116.9241 - val_loss: 1076.0096\n",
      "Epoch 204/500\n",
      "24/24 [==============================] - 0s 5ms/step - loss: 116.9225 - val_loss: 1076.1719\n",
      "Epoch 205/500\n",
      "24/24 [==============================] - 0s 5ms/step - loss: 116.9212 - val_loss: 1076.3236\n",
      "Epoch 206/500\n",
      "24/24 [==============================] - 0s 5ms/step - loss: 116.9201 - val_loss: 1076.4651\n",
      "Epoch 207/500\n",
      "24/24 [==============================] - 0s 4ms/step - loss: 116.9192 - val_loss: 1076.5974\n",
      "Epoch 208/500\n",
      "24/24 [==============================] - 0s 4ms/step - loss: 116.9184 - val_loss: 1076.7212\n",
      "Epoch 209/500\n",
      "24/24 [==============================] - 0s 4ms/step - loss: 116.9178 - val_loss: 1076.8358\n",
      "Epoch 210/500\n",
      "24/24 [==============================] - 0s 4ms/step - loss: 116.9173 - val_loss: 1076.9435\n",
      "Epoch 211/500\n",
      "24/24 [==============================] - 0s 4ms/step - loss: 116.9169 - val_loss: 1077.0430\n",
      "Epoch 212/500\n",
      "24/24 [==============================] - 0s 4ms/step - loss: 116.9166 - val_loss: 1077.1364\n",
      "Epoch 213/500\n",
      "24/24 [==============================] - 0s 5ms/step - loss: 116.9164 - val_loss: 1077.2223\n",
      "Epoch 214/500\n",
      "24/24 [==============================] - 0s 5ms/step - loss: 116.9164 - val_loss: 1077.3024\n",
      "Epoch 215/500\n",
      "24/24 [==============================] - 0s 5ms/step - loss: 116.9164 - val_loss: 1077.3772\n",
      "Epoch 216/500\n",
      "24/24 [==============================] - 0s 5ms/step - loss: 116.9165 - val_loss: 1077.4463\n",
      "Epoch 217/500\n",
      "24/24 [==============================] - 0s 5ms/step - loss: 116.9166 - val_loss: 1077.5103\n",
      "Epoch 218/500\n",
      "24/24 [==============================] - 0s 5ms/step - loss: 116.9168 - val_loss: 1077.5696\n",
      "Epoch 219/500\n",
      "24/24 [==============================] - 0s 5ms/step - loss: 116.9171 - val_loss: 1077.6243\n",
      "Epoch 220/500\n",
      "24/24 [==============================] - 0s 5ms/step - loss: 116.9174 - val_loss: 1077.6752\n",
      "Epoch 221/500\n",
      "24/24 [==============================] - 0s 5ms/step - loss: 116.9179 - val_loss: 1077.7225\n",
      "Epoch 222/500\n",
      "24/24 [==============================] - 0s 5ms/step - loss: 116.9182 - val_loss: 1077.7654\n",
      "Epoch 223/500\n",
      "24/24 [==============================] - 0s 5ms/step - loss: 116.9187 - val_loss: 1077.8055\n",
      "Epoch 224/500\n",
      "24/24 [==============================] - 0s 5ms/step - loss: 116.9192 - val_loss: 1077.8428\n",
      "Epoch 225/500\n",
      "24/24 [==============================] - 0s 9ms/step - loss: 116.9198 - val_loss: 1077.8768\n",
      "Epoch 226/500\n",
      "24/24 [==============================] - 0s 6ms/step - loss: 116.9204 - val_loss: 1077.9075\n",
      "Epoch 227/500\n",
      "24/24 [==============================] - 0s 5ms/step - loss: 116.9210 - val_loss: 1077.9362\n",
      "Epoch 228/500\n",
      "24/24 [==============================] - 0s 5ms/step - loss: 116.9216 - val_loss: 1077.9631\n",
      "Epoch 229/500\n",
      "24/24 [==============================] - 0s 5ms/step - loss: 116.9222 - val_loss: 1077.9869\n",
      "Epoch 230/500\n",
      "24/24 [==============================] - 0s 5ms/step - loss: 116.9229 - val_loss: 1078.0092\n",
      "Epoch 231/500\n",
      "24/24 [==============================] - 0s 5ms/step - loss: 116.9236 - val_loss: 1078.0294\n",
      "Epoch 232/500\n",
      "24/24 [==============================] - 0s 5ms/step - loss: 116.9243 - val_loss: 1078.0480\n",
      "Epoch 233/500\n",
      "24/24 [==============================] - 0s 5ms/step - loss: 116.9250 - val_loss: 1078.0648\n",
      "Epoch 234/500\n",
      "24/24 [==============================] - 0s 5ms/step - loss: 116.9257 - val_loss: 1078.0800\n",
      "Epoch 235/500\n",
      "24/24 [==============================] - 0s 5ms/step - loss: 116.9265 - val_loss: 1078.0942\n",
      "Epoch 236/500\n",
      "24/24 [==============================] - 0s 6ms/step - loss: 116.9272 - val_loss: 1078.1067\n",
      "Epoch 237/500\n",
      "24/24 [==============================] - 0s 5ms/step - loss: 116.9279 - val_loss: 1078.1183\n",
      "Epoch 238/500\n",
      "24/24 [==============================] - 0s 5ms/step - loss: 116.9287 - val_loss: 1078.1287\n",
      "Epoch 239/500\n",
      "24/24 [==============================] - 0s 5ms/step - loss: 116.9294 - val_loss: 1078.1378\n",
      "Epoch 240/500\n",
      "24/24 [==============================] - 0s 5ms/step - loss: 116.9302 - val_loss: 1078.1465\n",
      "Epoch 241/500\n",
      "24/24 [==============================] - 0s 5ms/step - loss: 116.9309 - val_loss: 1078.1534\n",
      "Epoch 242/500\n",
      "24/24 [==============================] - 0s 6ms/step - loss: 116.9317 - val_loss: 1078.1606\n",
      "Epoch 243/500\n",
      "24/24 [==============================] - 0s 7ms/step - loss: 116.9324 - val_loss: 1078.1664\n",
      "Epoch 244/500\n",
      "24/24 [==============================] - 0s 7ms/step - loss: 116.9332 - val_loss: 1078.1718\n",
      "Epoch 245/500\n",
      "24/24 [==============================] - 0s 7ms/step - loss: 116.9339 - val_loss: 1078.1761\n",
      "Epoch 246/500\n",
      "24/24 [==============================] - 0s 6ms/step - loss: 116.9346 - val_loss: 1078.1808\n",
      "Epoch 247/500\n",
      "24/24 [==============================] - 0s 6ms/step - loss: 116.9354 - val_loss: 1078.1840\n",
      "Epoch 248/500\n",
      "24/24 [==============================] - 0s 6ms/step - loss: 116.9361 - val_loss: 1078.1869\n",
      "Epoch 249/500\n",
      "24/24 [==============================] - 0s 6ms/step - loss: 116.9369 - val_loss: 1078.1903\n",
      "Epoch 250/500\n",
      "24/24 [==============================] - 0s 6ms/step - loss: 116.9376 - val_loss: 1078.1920\n",
      "Epoch 251/500\n",
      "24/24 [==============================] - 0s 14ms/step - loss: 116.9383 - val_loss: 1078.1934\n",
      "Epoch 252/500\n",
      "24/24 [==============================] - 0s 7ms/step - loss: 116.9390 - val_loss: 1078.1949\n",
      "Epoch 253/500\n",
      "24/24 [==============================] - 0s 6ms/step - loss: 116.9397 - val_loss: 1078.1958\n",
      "Epoch 254/500\n",
      "24/24 [==============================] - 0s 7ms/step - loss: 116.9404 - val_loss: 1078.1971\n",
      "Epoch 255/500\n",
      "24/24 [==============================] - 0s 6ms/step - loss: 116.9411 - val_loss: 1078.1978\n",
      "Epoch 256/500\n",
      "24/24 [==============================] - 0s 7ms/step - loss: 116.9418 - val_loss: 1078.1981\n",
      "Epoch 257/500\n",
      "24/24 [==============================] - 0s 7ms/step - loss: 116.9424 - val_loss: 1078.1981\n",
      "Epoch 258/500\n",
      "24/24 [==============================] - 0s 6ms/step - loss: 116.9431 - val_loss: 1078.1984\n",
      "Epoch 259/500\n",
      "24/24 [==============================] - 0s 6ms/step - loss: 116.9438 - val_loss: 1078.1981\n",
      "Epoch 260/500\n",
      "24/24 [==============================] - 0s 6ms/step - loss: 116.9444 - val_loss: 1078.1978\n",
      "Epoch 261/500\n",
      "24/24 [==============================] - 0s 6ms/step - loss: 116.9450 - val_loss: 1078.1969\n",
      "Epoch 262/500\n",
      "24/24 [==============================] - 0s 6ms/step - loss: 116.9457 - val_loss: 1078.1967\n",
      "Epoch 263/500\n",
      "24/24 [==============================] - 0s 6ms/step - loss: 116.9463 - val_loss: 1078.1959\n",
      "Epoch 264/500\n",
      "24/24 [==============================] - 0s 7ms/step - loss: 116.9469 - val_loss: 1078.1951\n",
      "Epoch 265/500\n",
      "24/24 [==============================] - 0s 6ms/step - loss: 116.9475 - val_loss: 1078.1938\n",
      "Epoch 266/500\n",
      "24/24 [==============================] - 0s 6ms/step - loss: 116.9481 - val_loss: 1078.1932\n",
      "Epoch 267/500\n",
      "24/24 [==============================] - 0s 6ms/step - loss: 116.9487 - val_loss: 1078.1918\n",
      "Epoch 268/500\n",
      "24/24 [==============================] - 0s 6ms/step - loss: 116.9493 - val_loss: 1078.1908\n",
      "Epoch 269/500\n",
      "24/24 [==============================] - 0s 6ms/step - loss: 116.9498 - val_loss: 1078.1893\n",
      "Epoch 270/500\n",
      "24/24 [==============================] - 0s 7ms/step - loss: 116.9504 - val_loss: 1078.1880\n",
      "Epoch 271/500\n",
      "24/24 [==============================] - 0s 6ms/step - loss: 116.9509 - val_loss: 1078.1871\n",
      "Epoch 272/500\n",
      "24/24 [==============================] - 0s 7ms/step - loss: 116.9514 - val_loss: 1078.1855\n",
      "Epoch 273/500\n",
      "24/24 [==============================] - 0s 7ms/step - loss: 116.9519 - val_loss: 1078.1841\n",
      "Epoch 274/500\n",
      "24/24 [==============================] - 0s 16ms/step - loss: 116.9525 - val_loss: 1078.1823\n",
      "Epoch 275/500\n",
      "24/24 [==============================] - 0s 7ms/step - loss: 116.9530 - val_loss: 1078.1812\n",
      "Epoch 276/500\n",
      "24/24 [==============================] - 0s 8ms/step - loss: 116.9535 - val_loss: 1078.1797\n",
      "Epoch 277/500\n",
      "24/24 [==============================] - 0s 16ms/step - loss: 116.9540 - val_loss: 1078.1777\n",
      "Epoch 278/500\n",
      "24/24 [==============================] - 0s 8ms/step - loss: 116.9545 - val_loss: 1078.1766\n",
      "Epoch 279/500\n",
      "24/24 [==============================] - 0s 7ms/step - loss: 116.9550 - val_loss: 1078.1757\n",
      "Epoch 280/500\n",
      "24/24 [==============================] - 0s 7ms/step - loss: 116.9555 - val_loss: 1078.1744\n",
      "Epoch 281/500\n",
      "24/24 [==============================] - 0s 6ms/step - loss: 116.9559 - val_loss: 1078.1727\n",
      "Epoch 282/500\n",
      "24/24 [==============================] - 0s 6ms/step - loss: 116.9563 - val_loss: 1078.1711\n",
      "Epoch 283/500\n",
      "24/24 [==============================] - 0s 6ms/step - loss: 116.9568 - val_loss: 1078.1699\n",
      "Epoch 284/500\n",
      "24/24 [==============================] - 0s 6ms/step - loss: 116.9572 - val_loss: 1078.1683\n",
      "Epoch 285/500\n",
      "24/24 [==============================] - 0s 6ms/step - loss: 116.9576 - val_loss: 1078.1663\n",
      "Epoch 286/500\n",
      "24/24 [==============================] - 0s 6ms/step - loss: 116.9581 - val_loss: 1078.1650\n",
      "Epoch 287/500\n",
      "24/24 [==============================] - 0s 6ms/step - loss: 116.9584 - val_loss: 1078.1635\n",
      "Epoch 288/500\n",
      "24/24 [==============================] - 0s 5ms/step - loss: 116.9589 - val_loss: 1078.1621\n",
      "Epoch 289/500\n",
      "24/24 [==============================] - 0s 5ms/step - loss: 116.9592 - val_loss: 1078.1606\n",
      "Epoch 290/500\n",
      "24/24 [==============================] - 0s 5ms/step - loss: 116.9596 - val_loss: 1078.1597\n",
      "Epoch 291/500\n",
      "24/24 [==============================] - 0s 5ms/step - loss: 116.9600 - val_loss: 1078.1586\n",
      "Epoch 292/500\n",
      "24/24 [==============================] - 0s 5ms/step - loss: 116.9604 - val_loss: 1078.1573\n",
      "Epoch 293/500\n",
      "24/24 [==============================] - 0s 6ms/step - loss: 116.9607 - val_loss: 1078.1559\n",
      "Epoch 294/500\n",
      "24/24 [==============================] - 0s 13ms/step - loss: 116.9611 - val_loss: 1078.1548\n",
      "Epoch 295/500\n",
      "24/24 [==============================] - 0s 7ms/step - loss: 116.9614 - val_loss: 1078.1539\n",
      "Epoch 296/500\n",
      "24/24 [==============================] - 0s 9ms/step - loss: 116.9617 - val_loss: 1078.1526\n",
      "Epoch 297/500\n",
      "24/24 [==============================] - 0s 8ms/step - loss: 116.9621 - val_loss: 1078.1509\n",
      "Epoch 298/500\n",
      "24/24 [==============================] - 0s 6ms/step - loss: 116.9625 - val_loss: 1078.1505\n",
      "Epoch 299/500\n",
      "24/24 [==============================] - 0s 5ms/step - loss: 116.9628 - val_loss: 1078.1494\n",
      "Epoch 300/500\n",
      "24/24 [==============================] - 0s 6ms/step - loss: 116.9631 - val_loss: 1078.1482\n",
      "Epoch 301/500\n",
      "24/24 [==============================] - 0s 5ms/step - loss: 116.9633 - val_loss: 1078.1473\n",
      "Epoch 302/500\n",
      "24/24 [==============================] - 0s 7ms/step - loss: 116.9637 - val_loss: 1078.1456\n",
      "Epoch 303/500\n",
      "24/24 [==============================] - 0s 7ms/step - loss: 116.9640 - val_loss: 1078.1448\n",
      "Epoch 304/500\n",
      "24/24 [==============================] - 0s 6ms/step - loss: 116.9642 - val_loss: 1078.1439\n",
      "Epoch 305/500\n",
      "24/24 [==============================] - 0s 7ms/step - loss: 116.9645 - val_loss: 1078.1427\n",
      "Epoch 306/500\n",
      "24/24 [==============================] - 0s 6ms/step - loss: 116.9648 - val_loss: 1078.1421\n",
      "Epoch 307/500\n",
      "24/24 [==============================] - 0s 6ms/step - loss: 116.9651 - val_loss: 1078.1412\n",
      "Epoch 308/500\n",
      "24/24 [==============================] - 0s 5ms/step - loss: 116.9653 - val_loss: 1078.1405\n",
      "Epoch 309/500\n",
      "24/24 [==============================] - 0s 5ms/step - loss: 116.9656 - val_loss: 1078.1393\n",
      "Epoch 310/500\n",
      "24/24 [==============================] - 0s 5ms/step - loss: 116.9658 - val_loss: 1078.1373\n",
      "Epoch 311/500\n",
      "24/24 [==============================] - 0s 5ms/step - loss: 116.9661 - val_loss: 1078.1362\n",
      "Epoch 312/500\n",
      "24/24 [==============================] - 0s 5ms/step - loss: 116.9664 - val_loss: 1078.1359\n",
      "Epoch 313/500\n",
      "24/24 [==============================] - 0s 5ms/step - loss: 116.9666 - val_loss: 1078.1354\n",
      "Epoch 314/500\n",
      "24/24 [==============================] - 0s 5ms/step - loss: 116.9668 - val_loss: 1078.1344\n",
      "Epoch 315/500\n",
      "24/24 [==============================] - 0s 5ms/step - loss: 116.9670 - val_loss: 1078.1332\n",
      "Epoch 316/500\n",
      "24/24 [==============================] - 0s 5ms/step - loss: 116.9673 - val_loss: 1078.1321\n",
      "Epoch 317/500\n",
      "24/24 [==============================] - 0s 4ms/step - loss: 116.9675 - val_loss: 1078.1309\n",
      "Epoch 318/500\n",
      "24/24 [==============================] - 0s 4ms/step - loss: 116.9677 - val_loss: 1078.1304\n",
      "Epoch 319/500\n",
      "24/24 [==============================] - 0s 6ms/step - loss: 116.9679 - val_loss: 1078.1296\n",
      "Epoch 320/500\n",
      "24/24 [==============================] - 0s 7ms/step - loss: 116.9681 - val_loss: 1078.1290\n",
      "Epoch 321/500\n",
      "24/24 [==============================] - 0s 5ms/step - loss: 116.9682 - val_loss: 1078.1281\n",
      "Epoch 322/500\n",
      "24/24 [==============================] - 0s 5ms/step - loss: 116.9685 - val_loss: 1078.1266\n",
      "Epoch 323/500\n",
      "24/24 [==============================] - 0s 5ms/step - loss: 116.9686 - val_loss: 1078.1255\n",
      "Epoch 324/500\n",
      "24/24 [==============================] - 0s 5ms/step - loss: 116.9689 - val_loss: 1078.1250\n",
      "Epoch 325/500\n",
      "24/24 [==============================] - 0s 5ms/step - loss: 116.9691 - val_loss: 1078.1248\n",
      "Epoch 326/500\n",
      "24/24 [==============================] - 0s 5ms/step - loss: 116.9692 - val_loss: 1078.1245\n",
      "Epoch 327/500\n",
      "24/24 [==============================] - 0s 5ms/step - loss: 116.9694 - val_loss: 1078.1238\n",
      "Epoch 328/500\n",
      "24/24 [==============================] - 0s 5ms/step - loss: 116.9695 - val_loss: 1078.1224\n",
      "Epoch 329/500\n",
      "24/24 [==============================] - 0s 5ms/step - loss: 116.9697 - val_loss: 1078.1219\n",
      "Epoch 330/500\n",
      "24/24 [==============================] - 0s 5ms/step - loss: 116.9699 - val_loss: 1078.1213\n",
      "Epoch 331/500\n",
      "24/24 [==============================] - 0s 5ms/step - loss: 116.9701 - val_loss: 1078.1202\n",
      "Epoch 332/500\n",
      "24/24 [==============================] - 0s 8ms/step - loss: 116.9702 - val_loss: 1078.1200\n",
      "Epoch 333/500\n",
      "24/24 [==============================] - 0s 8ms/step - loss: 116.9704 - val_loss: 1078.1195\n",
      "Epoch 334/500\n",
      "24/24 [==============================] - 0s 6ms/step - loss: 116.9705 - val_loss: 1078.1188\n",
      "Epoch 335/500\n",
      "24/24 [==============================] - 0s 5ms/step - loss: 116.9707 - val_loss: 1078.1185\n",
      "Epoch 336/500\n",
      "24/24 [==============================] - 0s 5ms/step - loss: 116.9708 - val_loss: 1078.1177\n",
      "Epoch 337/500\n",
      "24/24 [==============================] - 0s 5ms/step - loss: 116.9709 - val_loss: 1078.1174\n",
      "Epoch 338/500\n",
      "24/24 [==============================] - 0s 5ms/step - loss: 116.9710 - val_loss: 1078.1169\n",
      "Epoch 339/500\n",
      "24/24 [==============================] - 0s 5ms/step - loss: 116.9711 - val_loss: 1078.1161\n",
      "Epoch 340/500\n",
      "24/24 [==============================] - 0s 5ms/step - loss: 116.9714 - val_loss: 1078.1156\n",
      "Epoch 341/500\n",
      "24/24 [==============================] - 0s 5ms/step - loss: 116.9714 - val_loss: 1078.1154\n",
      "Epoch 342/500\n",
      "24/24 [==============================] - 0s 5ms/step - loss: 116.9715 - val_loss: 1078.1143\n",
      "Epoch 343/500\n",
      "24/24 [==============================] - 0s 5ms/step - loss: 116.9716 - val_loss: 1078.1136\n",
      "Epoch 344/500\n",
      "24/24 [==============================] - 0s 5ms/step - loss: 116.9718 - val_loss: 1078.1128\n",
      "Epoch 345/500\n",
      "24/24 [==============================] - 0s 10ms/step - loss: 116.9719 - val_loss: 1078.1127\n",
      "Epoch 346/500\n",
      "24/24 [==============================] - 0s 5ms/step - loss: 116.9721 - val_loss: 1078.1125\n",
      "Epoch 347/500\n",
      "24/24 [==============================] - 0s 5ms/step - loss: 116.9721 - val_loss: 1078.1119\n",
      "Epoch 348/500\n",
      "24/24 [==============================] - 0s 5ms/step - loss: 116.9723 - val_loss: 1078.1118\n",
      "Epoch 349/500\n",
      "24/24 [==============================] - 0s 5ms/step - loss: 116.9724 - val_loss: 1078.1117\n",
      "Epoch 350/500\n",
      "24/24 [==============================] - 0s 5ms/step - loss: 116.9725 - val_loss: 1078.1112\n",
      "Epoch 351/500\n",
      "24/24 [==============================] - 0s 5ms/step - loss: 116.9726 - val_loss: 1078.1112\n",
      "Epoch 352/500\n",
      "24/24 [==============================] - 0s 5ms/step - loss: 116.9727 - val_loss: 1078.1111\n",
      "Epoch 353/500\n",
      "24/24 [==============================] - 0s 5ms/step - loss: 116.9728 - val_loss: 1078.1106\n",
      "Epoch 354/500\n",
      "24/24 [==============================] - 0s 4ms/step - loss: 116.9728 - val_loss: 1078.1104\n",
      "Epoch 355/500\n",
      "24/24 [==============================] - 0s 5ms/step - loss: 116.9730 - val_loss: 1078.1105\n",
      "Epoch 356/500\n",
      "24/24 [==============================] - 0s 5ms/step - loss: 116.9730 - val_loss: 1078.1100\n",
      "Epoch 357/500\n",
      "24/24 [==============================] - 0s 5ms/step - loss: 116.9730 - val_loss: 1078.1088\n",
      "Epoch 358/500\n",
      "24/24 [==============================] - 0s 4ms/step - loss: 116.9732 - val_loss: 1078.1082\n",
      "Epoch 359/500\n",
      "24/24 [==============================] - 0s 4ms/step - loss: 116.9733 - val_loss: 1078.1079\n",
      "Epoch 360/500\n",
      "24/24 [==============================] - 0s 5ms/step - loss: 116.9733 - val_loss: 1078.1074\n",
      "Epoch 361/500\n",
      "24/24 [==============================] - 0s 5ms/step - loss: 116.9734 - val_loss: 1078.1074\n",
      "Epoch 362/500\n",
      "24/24 [==============================] - 0s 5ms/step - loss: 116.9736 - val_loss: 1078.1075\n",
      "Epoch 363/500\n",
      "24/24 [==============================] - 0s 4ms/step - loss: 116.9736 - val_loss: 1078.1072\n",
      "Epoch 364/500\n",
      "24/24 [==============================] - 0s 5ms/step - loss: 116.9736 - val_loss: 1078.1064\n",
      "Epoch 365/500\n",
      "24/24 [==============================] - 0s 5ms/step - loss: 116.9737 - val_loss: 1078.1060\n",
      "Epoch 366/500\n",
      "24/24 [==============================] - 0s 4ms/step - loss: 116.9738 - val_loss: 1078.1057\n",
      "Epoch 367/500\n",
      "24/24 [==============================] - 0s 4ms/step - loss: 116.9738 - val_loss: 1078.1053\n",
      "Epoch 368/500\n",
      "24/24 [==============================] - 0s 5ms/step - loss: 116.9739 - val_loss: 1078.1051\n",
      "Epoch 369/500\n",
      "24/24 [==============================] - 0s 5ms/step - loss: 116.9740 - val_loss: 1078.1052\n",
      "Epoch 370/500\n",
      "24/24 [==============================] - 0s 10ms/step - loss: 116.9741 - val_loss: 1078.1050\n",
      "Epoch 371/500\n",
      "24/24 [==============================] - 0s 5ms/step - loss: 116.9742 - val_loss: 1078.1049\n",
      "Epoch 372/500\n",
      "24/24 [==============================] - 0s 8ms/step - loss: 116.9742 - val_loss: 1078.1049\n",
      "Epoch 373/500\n",
      "24/24 [==============================] - 0s 6ms/step - loss: 116.9743 - val_loss: 1078.1050\n",
      "Epoch 374/500\n",
      "24/24 [==============================] - 0s 5ms/step - loss: 116.9743 - val_loss: 1078.1049\n",
      "Epoch 375/500\n",
      "24/24 [==============================] - 0s 5ms/step - loss: 116.9744 - val_loss: 1078.1047\n",
      "Epoch 376/500\n",
      "24/24 [==============================] - 0s 5ms/step - loss: 116.9744 - val_loss: 1078.1041\n",
      "Epoch 377/500\n",
      "24/24 [==============================] - 0s 5ms/step - loss: 116.9745 - val_loss: 1078.1039\n",
      "Epoch 378/500\n",
      "24/24 [==============================] - 0s 5ms/step - loss: 116.9746 - val_loss: 1078.1040\n",
      "Epoch 379/500\n",
      "24/24 [==============================] - 0s 5ms/step - loss: 116.9746 - val_loss: 1078.1039\n",
      "Epoch 380/500\n",
      "24/24 [==============================] - 0s 5ms/step - loss: 116.9747 - val_loss: 1078.1035\n",
      "Epoch 381/500\n",
      "24/24 [==============================] - 0s 6ms/step - loss: 116.9747 - val_loss: 1078.1031\n",
      "Epoch 382/500\n",
      "24/24 [==============================] - 0s 7ms/step - loss: 116.9747 - val_loss: 1078.1029\n",
      "Epoch 383/500\n",
      "24/24 [==============================] - 0s 6ms/step - loss: 116.9748 - val_loss: 1078.1024\n",
      "Epoch 384/500\n",
      "24/24 [==============================] - 0s 5ms/step - loss: 116.9748 - val_loss: 1078.1016\n",
      "Epoch 385/500\n",
      "24/24 [==============================] - 0s 5ms/step - loss: 116.9749 - val_loss: 1078.1011\n",
      "Epoch 386/500\n",
      "24/24 [==============================] - 0s 5ms/step - loss: 116.9749 - val_loss: 1078.1008\n",
      "Epoch 387/500\n",
      "24/24 [==============================] - 0s 4ms/step - loss: 116.9750 - val_loss: 1078.1008\n",
      "Epoch 388/500\n",
      "24/24 [==============================] - 0s 5ms/step - loss: 116.9750 - val_loss: 1078.1007\n",
      "Epoch 389/500\n",
      "24/24 [==============================] - 0s 4ms/step - loss: 116.9750 - val_loss: 1078.1005\n",
      "Epoch 390/500\n",
      "24/24 [==============================] - 0s 5ms/step - loss: 116.9750 - val_loss: 1078.1000\n",
      "Epoch 391/500\n",
      "24/24 [==============================] - 0s 5ms/step - loss: 116.9751 - val_loss: 1078.1000\n",
      "Epoch 392/500\n",
      "24/24 [==============================] - 0s 5ms/step - loss: 116.9751 - val_loss: 1078.0999\n",
      "Epoch 393/500\n",
      "24/24 [==============================] - 0s 10ms/step - loss: 116.9752 - val_loss: 1078.0996\n",
      "Epoch 394/500\n",
      "24/24 [==============================] - 0s 5ms/step - loss: 116.9752 - val_loss: 1078.0994\n",
      "Epoch 395/500\n",
      "24/24 [==============================] - 0s 5ms/step - loss: 116.9753 - val_loss: 1078.0991\n",
      "Epoch 396/500\n",
      "24/24 [==============================] - 0s 5ms/step - loss: 116.9753 - val_loss: 1078.0986\n",
      "Epoch 397/500\n",
      "24/24 [==============================] - 0s 4ms/step - loss: 116.9753 - val_loss: 1078.0980\n",
      "Epoch 398/500\n",
      "24/24 [==============================] - 0s 5ms/step - loss: 116.9754 - val_loss: 1078.0975\n",
      "Epoch 399/500\n",
      "24/24 [==============================] - 0s 4ms/step - loss: 116.9754 - val_loss: 1078.0972\n",
      "Epoch 400/500\n",
      "24/24 [==============================] - 0s 5ms/step - loss: 116.9755 - val_loss: 1078.0970\n",
      "Epoch 401/500\n",
      "24/24 [==============================] - 0s 5ms/step - loss: 116.9755 - val_loss: 1078.0968\n",
      "Epoch 402/500\n",
      "24/24 [==============================] - 0s 5ms/step - loss: 116.9755 - val_loss: 1078.0963\n",
      "Epoch 403/500\n",
      "24/24 [==============================] - 0s 5ms/step - loss: 116.9756 - val_loss: 1078.0961\n",
      "Epoch 404/500\n",
      "24/24 [==============================] - 0s 5ms/step - loss: 116.9755 - val_loss: 1078.0961\n",
      "Epoch 405/500\n",
      "24/24 [==============================] - 0s 4ms/step - loss: 116.9756 - val_loss: 1078.0959\n",
      "Epoch 406/500\n",
      "24/24 [==============================] - 0s 4ms/step - loss: 116.9756 - val_loss: 1078.0957\n",
      "Epoch 407/500\n",
      "24/24 [==============================] - 0s 5ms/step - loss: 116.9757 - val_loss: 1078.0956\n",
      "Epoch 408/500\n",
      "24/24 [==============================] - 0s 5ms/step - loss: 116.9757 - val_loss: 1078.0956\n",
      "Epoch 409/500\n",
      "24/24 [==============================] - 0s 5ms/step - loss: 116.9757 - val_loss: 1078.0958\n",
      "Epoch 410/500\n",
      "24/24 [==============================] - 0s 5ms/step - loss: 116.9757 - val_loss: 1078.0959\n",
      "Epoch 411/500\n",
      "24/24 [==============================] - 0s 5ms/step - loss: 116.9758 - val_loss: 1078.0961\n",
      "Epoch 412/500\n",
      "24/24 [==============================] - 0s 5ms/step - loss: 116.9758 - val_loss: 1078.0963\n",
      "Epoch 413/500\n",
      "24/24 [==============================] - 0s 5ms/step - loss: 116.9759 - val_loss: 1078.0963\n",
      "Epoch 414/500\n",
      "24/24 [==============================] - 0s 5ms/step - loss: 116.9759 - val_loss: 1078.0964\n",
      "Epoch 415/500\n",
      "24/24 [==============================] - 0s 10ms/step - loss: 116.9759 - val_loss: 1078.0969\n",
      "Epoch 416/500\n",
      "24/24 [==============================] - 0s 5ms/step - loss: 116.9759 - val_loss: 1078.0969\n",
      "Epoch 417/500\n",
      "24/24 [==============================] - 0s 5ms/step - loss: 116.9759 - val_loss: 1078.0967\n",
      "Epoch 418/500\n",
      "24/24 [==============================] - 0s 5ms/step - loss: 116.9759 - val_loss: 1078.0964\n",
      "Epoch 419/500\n",
      "24/24 [==============================] - 0s 5ms/step - loss: 116.9760 - val_loss: 1078.0963\n",
      "Epoch 420/500\n",
      "24/24 [==============================] - 0s 5ms/step - loss: 116.9760 - val_loss: 1078.0963\n",
      "Epoch 421/500\n",
      "24/24 [==============================] - 0s 5ms/step - loss: 116.9760 - val_loss: 1078.0963\n",
      "Epoch 422/500\n",
      "24/24 [==============================] - 0s 5ms/step - loss: 116.9760 - val_loss: 1078.0964\n",
      "Epoch 423/500\n",
      "24/24 [==============================] - 0s 5ms/step - loss: 116.9760 - val_loss: 1078.0962\n",
      "Epoch 424/500\n",
      "24/24 [==============================] - 0s 5ms/step - loss: 116.9760 - val_loss: 1078.0961\n",
      "Epoch 425/500\n",
      "24/24 [==============================] - 0s 5ms/step - loss: 116.9760 - val_loss: 1078.0961\n",
      "Epoch 426/500\n",
      "24/24 [==============================] - 0s 5ms/step - loss: 116.9760 - val_loss: 1078.0961\n",
      "Epoch 427/500\n",
      "24/24 [==============================] - 0s 5ms/step - loss: 116.9761 - val_loss: 1078.0959\n",
      "Epoch 428/500\n",
      "24/24 [==============================] - 0s 5ms/step - loss: 116.9761 - val_loss: 1078.0961\n",
      "Epoch 429/500\n",
      "24/24 [==============================] - 0s 4ms/step - loss: 116.9761 - val_loss: 1078.0963\n",
      "Epoch 430/500\n",
      "24/24 [==============================] - 0s 4ms/step - loss: 116.9761 - val_loss: 1078.0964\n",
      "Epoch 431/500\n",
      "24/24 [==============================] - 0s 5ms/step - loss: 116.9761 - val_loss: 1078.0963\n",
      "Epoch 432/500\n",
      "24/24 [==============================] - 0s 4ms/step - loss: 116.9761 - val_loss: 1078.0963\n",
      "Epoch 433/500\n",
      "24/24 [==============================] - 0s 5ms/step - loss: 116.9762 - val_loss: 1078.0964\n",
      "Epoch 434/500\n",
      "24/24 [==============================] - 0s 5ms/step - loss: 116.9762 - val_loss: 1078.0967\n",
      "Epoch 435/500\n",
      "24/24 [==============================] - 0s 5ms/step - loss: 116.9762 - val_loss: 1078.0963\n",
      "Epoch 436/500\n",
      "24/24 [==============================] - 0s 5ms/step - loss: 116.9762 - val_loss: 1078.0959\n",
      "Epoch 437/500\n",
      "24/24 [==============================] - 0s 5ms/step - loss: 116.9762 - val_loss: 1078.0961\n",
      "Epoch 438/500\n",
      "24/24 [==============================] - 0s 5ms/step - loss: 116.9763 - val_loss: 1078.0963\n",
      "Epoch 439/500\n",
      "24/24 [==============================] - 0s 11ms/step - loss: 116.9763 - val_loss: 1078.0962\n",
      "Epoch 440/500\n",
      "24/24 [==============================] - 0s 5ms/step - loss: 116.9763 - val_loss: 1078.0962\n",
      "Epoch 441/500\n",
      "24/24 [==============================] - 0s 5ms/step - loss: 116.9763 - val_loss: 1078.0961\n",
      "Epoch 442/500\n",
      "24/24 [==============================] - 0s 5ms/step - loss: 116.9762 - val_loss: 1078.0959\n",
      "Epoch 443/500\n",
      "24/24 [==============================] - 0s 5ms/step - loss: 116.9763 - val_loss: 1078.0958\n",
      "Epoch 444/500\n",
      "24/24 [==============================] - 0s 6ms/step - loss: 116.9763 - val_loss: 1078.0958\n",
      "Epoch 445/500\n",
      "24/24 [==============================] - 0s 5ms/step - loss: 116.9763 - val_loss: 1078.0958\n",
      "Epoch 446/500\n",
      "24/24 [==============================] - 0s 5ms/step - loss: 116.9763 - val_loss: 1078.0958\n",
      "Epoch 447/500\n",
      "24/24 [==============================] - 0s 5ms/step - loss: 116.9763 - val_loss: 1078.0957\n",
      "Epoch 448/500\n",
      "24/24 [==============================] - 0s 4ms/step - loss: 116.9763 - val_loss: 1078.0956\n",
      "Epoch 449/500\n",
      "24/24 [==============================] - 0s 5ms/step - loss: 116.9763 - val_loss: 1078.0958\n",
      "Epoch 450/500\n",
      "24/24 [==============================] - 0s 4ms/step - loss: 116.9763 - val_loss: 1078.0958\n",
      "Epoch 451/500\n",
      "24/24 [==============================] - 0s 5ms/step - loss: 116.9763 - val_loss: 1078.0961\n",
      "Epoch 452/500\n",
      "24/24 [==============================] - 0s 5ms/step - loss: 116.9763 - val_loss: 1078.0961\n",
      "Epoch 453/500\n",
      "24/24 [==============================] - 0s 5ms/step - loss: 116.9763 - val_loss: 1078.0961\n",
      "Epoch 454/500\n",
      "24/24 [==============================] - 0s 5ms/step - loss: 116.9764 - val_loss: 1078.0961\n",
      "Epoch 455/500\n",
      "24/24 [==============================] - 0s 8ms/step - loss: 116.9764 - val_loss: 1078.0958\n",
      "Epoch 456/500\n",
      "24/24 [==============================] - 0s 6ms/step - loss: 116.9764 - val_loss: 1078.0958\n",
      "Epoch 457/500\n",
      "24/24 [==============================] - 0s 5ms/step - loss: 116.9764 - val_loss: 1078.0959\n",
      "Epoch 458/500\n",
      "24/24 [==============================] - 0s 5ms/step - loss: 116.9764 - val_loss: 1078.0956\n",
      "Epoch 459/500\n",
      "24/24 [==============================] - 0s 5ms/step - loss: 116.9764 - val_loss: 1078.0952\n",
      "Epoch 460/500\n",
      "24/24 [==============================] - 0s 5ms/step - loss: 116.9764 - val_loss: 1078.0951\n",
      "Epoch 461/500\n",
      "24/24 [==============================] - 0s 8ms/step - loss: 116.9764 - val_loss: 1078.0946\n",
      "Epoch 462/500\n",
      "24/24 [==============================] - 0s 5ms/step - loss: 116.9764 - val_loss: 1078.0945\n",
      "Epoch 463/500\n",
      "24/24 [==============================] - 0s 5ms/step - loss: 116.9765 - val_loss: 1078.0942\n",
      "Epoch 464/500\n",
      "24/24 [==============================] - 0s 5ms/step - loss: 116.9765 - val_loss: 1078.0941\n",
      "Epoch 465/500\n",
      "24/24 [==============================] - 0s 5ms/step - loss: 116.9765 - val_loss: 1078.0940\n",
      "Epoch 466/500\n",
      "24/24 [==============================] - 0s 5ms/step - loss: 116.9765 - val_loss: 1078.0940\n",
      "Epoch 467/500\n",
      "24/24 [==============================] - 0s 4ms/step - loss: 116.9765 - val_loss: 1078.0941\n",
      "Epoch 468/500\n",
      "24/24 [==============================] - 0s 5ms/step - loss: 116.9765 - val_loss: 1078.0941\n",
      "Epoch 469/500\n",
      "24/24 [==============================] - 0s 4ms/step - loss: 116.9765 - val_loss: 1078.0942\n",
      "Epoch 470/500\n",
      "24/24 [==============================] - 0s 5ms/step - loss: 116.9765 - val_loss: 1078.0942\n",
      "Epoch 471/500\n",
      "24/24 [==============================] - 0s 4ms/step - loss: 116.9765 - val_loss: 1078.0942\n",
      "Epoch 472/500\n",
      "24/24 [==============================] - 0s 5ms/step - loss: 116.9765 - val_loss: 1078.0942\n",
      "Epoch 473/500\n",
      "24/24 [==============================] - 0s 4ms/step - loss: 116.9765 - val_loss: 1078.0942\n",
      "Epoch 474/500\n",
      "24/24 [==============================] - 0s 4ms/step - loss: 116.9765 - val_loss: 1078.0942\n",
      "Epoch 475/500\n",
      "24/24 [==============================] - 0s 5ms/step - loss: 116.9765 - val_loss: 1078.0942\n",
      "Epoch 476/500\n",
      "24/24 [==============================] - 0s 5ms/step - loss: 116.9765 - val_loss: 1078.0945\n",
      "Epoch 477/500\n",
      "24/24 [==============================] - 0s 4ms/step - loss: 116.9765 - val_loss: 1078.0947\n",
      "Epoch 478/500\n",
      "24/24 [==============================] - 0s 4ms/step - loss: 116.9765 - val_loss: 1078.0947\n",
      "Epoch 479/500\n",
      "24/24 [==============================] - 0s 4ms/step - loss: 116.9765 - val_loss: 1078.0952\n",
      "Epoch 480/500\n",
      "24/24 [==============================] - 0s 4ms/step - loss: 116.9765 - val_loss: 1078.0952\n",
      "Epoch 481/500\n",
      "24/24 [==============================] - 0s 9ms/step - loss: 116.9765 - val_loss: 1078.0955\n",
      "Epoch 482/500\n",
      "24/24 [==============================] - 0s 6ms/step - loss: 116.9765 - val_loss: 1078.0952\n",
      "Epoch 483/500\n",
      "24/24 [==============================] - 0s 6ms/step - loss: 116.9766 - val_loss: 1078.0955\n",
      "Epoch 484/500\n",
      "24/24 [==============================] - 0s 5ms/step - loss: 116.9765 - val_loss: 1078.0956\n",
      "Epoch 485/500\n",
      "24/24 [==============================] - 0s 5ms/step - loss: 116.9765 - val_loss: 1078.0952\n",
      "Epoch 486/500\n",
      "24/24 [==============================] - 0s 5ms/step - loss: 116.9765 - val_loss: 1078.0952\n",
      "Epoch 487/500\n",
      "24/24 [==============================] - 0s 5ms/step - loss: 116.9765 - val_loss: 1078.0952\n",
      "Epoch 488/500\n",
      "24/24 [==============================] - 0s 7ms/step - loss: 116.9765 - val_loss: 1078.0947\n",
      "Epoch 489/500\n",
      "24/24 [==============================] - 0s 6ms/step - loss: 116.9765 - val_loss: 1078.0945\n",
      "Epoch 490/500\n",
      "24/24 [==============================] - 0s 5ms/step - loss: 116.9765 - val_loss: 1078.0944\n",
      "Epoch 491/500\n",
      "24/24 [==============================] - 0s 5ms/step - loss: 116.9765 - val_loss: 1078.0941\n",
      "Epoch 492/500\n",
      "24/24 [==============================] - 0s 5ms/step - loss: 116.9766 - val_loss: 1078.0939\n",
      "Epoch 493/500\n",
      "24/24 [==============================] - 0s 4ms/step - loss: 116.9766 - val_loss: 1078.0936\n",
      "Epoch 494/500\n",
      "24/24 [==============================] - 0s 5ms/step - loss: 116.9766 - val_loss: 1078.0933\n",
      "Epoch 495/500\n",
      "24/24 [==============================] - 0s 5ms/step - loss: 116.9766 - val_loss: 1078.0919\n",
      "Epoch 496/500\n",
      "24/24 [==============================] - 0s 5ms/step - loss: 116.9766 - val_loss: 1078.0917\n",
      "Epoch 497/500\n",
      "24/24 [==============================] - 0s 5ms/step - loss: 116.9766 - val_loss: 1078.0912\n",
      "Epoch 498/500\n",
      "24/24 [==============================] - 0s 5ms/step - loss: 116.9766 - val_loss: 1078.0909\n",
      "Epoch 499/500\n",
      "24/24 [==============================] - 0s 5ms/step - loss: 116.9766 - val_loss: 1078.0909\n",
      "Epoch 500/500\n",
      "24/24 [==============================] - 0s 5ms/step - loss: 116.9766 - val_loss: 1078.0907\n"
     ]
    }
   ],
   "source": [
    "C0 = tf.Variable(82.7524, name=\"C0\", trainable=True, dtype=tf.float32)\n",
    "K0 = tf.Variable(-0.0031, name=\"K0\", trainable=True, dtype=tf.float32)\n",
    "K1 = tf.Variable(-0.0003, name=\"K1\", trainable=True, dtype=tf.float32)\n",
    "a = tf.Variable(0.0000, name=\"a\", trainable=True, dtype=tf.float32)\n",
    "b = tf.Variable(0.0171, name=\"b\", trainable=True, dtype=tf.float32)\n",
    "c = tf.Variable(3.0230, name=\"c\", trainable=True, dtype=tf.float32)\n",
    "\n",
    "splitr = 0.8\n",
    "\n",
    "\n",
    "def loss_fn(y_true, y_pred):\n",
    "    squared_difference = tf.square(y_true[:, 0] - y_pred[:, 0])\n",
    "    #squared_difference2 = tf.square(y_true[:, 2]-y_pred[:, 2])\n",
    "    #squared_difference1 = tf.square(y_true[:, 1]-y_pred[:, 1])\n",
    "    epsilon = 1\n",
    "    squared_difference3 = tf.square(\n",
    "        y_pred[:, 1] - (\n",
    "            y_pred[:, 0] * (\n",
    "                K0 - K1 * (\n",
    "                    9 * a * tf.math.log((y_pred[:, 0] + epsilon) / C0) / (K0 - K1 * c)**2 +\n",
    "                    4 * b * tf.math.log((y_pred[:, 0] + epsilon) / C0) / (K0 - K1 * c) + c\n",
    "                )\n",
    "            )\n",
    "        )\n",
    "    )\n",
    "    return tf.reduce_mean(squared_difference, axis=-1) + 0.2*tf.reduce_mean(squared_difference3, axis=-1)\n",
    "model = Sequential()\n",
    "model.add(LSTM(100, input_shape=(trainX.shape[1], trainX.shape[2])))\n",
    "model.add(Dense(60))\n",
    "model.compile(loss=loss_fn, optimizer='adam')\n",
    "history = model.fit(trainX[:int(splitr*trainX.shape[0])], trainy[:int(splitr*trainX.shape[0])], epochs=500, batch_size=64, validation_data=(trainX[int(splitr*trainX.shape[0]):trainX.shape[0]], trainy[int(splitr*trainX.shape[0]):trainX.shape[0]]), shuffle=False)"
   ]
  },
  {
   "cell_type": "code",
   "execution_count": 19,
   "metadata": {
    "colab": {
     "base_uri": "https://localhost:8080/"
    },
    "id": "yJL101rPyuoT",
    "outputId": "239ff2b1-c186-423a-d316-939dfdd7c793"
   },
   "outputs": [
    {
     "name": "stdout",
     "output_type": "stream",
     "text": [
      "1/1 [==============================] - 1s 539ms/step\n"
     ]
    }
   ],
   "source": [
    "forecast_without_mc = forecastX\n",
    "yhat_without_mc = model.predict(forecast_without_mc) # Step Ahead Prediction\n",
    "forecast_without_mc = forecast_without_mc.reshape((forecast_without_mc.shape[0], forecast_without_mc.shape[2])) # Historical Input"
   ]
  },
  {
   "cell_type": "code",
   "execution_count": 20,
   "metadata": {
    "colab": {
     "base_uri": "https://localhost:8080/"
    },
    "id": "g9dQELcJ8wbp",
    "outputId": "4dc7671b-b1a8-48d5-8744-a86f98446109"
   },
   "outputs": [
    {
     "data": {
      "text/plain": [
       "(1, 1, 251)"
      ]
     },
     "execution_count": 20,
     "metadata": {},
     "output_type": "execute_result"
    }
   ],
   "source": [
    "forecastX.shape"
   ]
  },
  {
   "cell_type": "code",
   "execution_count": 21,
   "metadata": {
    "colab": {
     "base_uri": "https://localhost:8080/"
    },
    "id": "IS2kyIKG1Kbr",
    "outputId": "f31b3485-8e26-452f-9298-ea8bf7e80ad1"
   },
   "outputs": [
    {
     "data": {
      "text/plain": [
       "(1, 251)"
      ]
     },
     "execution_count": 21,
     "metadata": {},
     "output_type": "execute_result"
    }
   ],
   "source": [
    "forecast_without_mc.shape"
   ]
  },
  {
   "cell_type": "code",
   "execution_count": 22,
   "metadata": {
    "id": "0u6VIzaDyuoT"
   },
   "outputs": [],
   "source": [
    "inv_yhat_without_mc = np.concatenate((forecast_without_mc, yhat_without_mc), axis=1) # Concatenation of predicted values with Historical Data\n",
    "#inv_yhat_without_mc = scaler.inverse_transform(inv_yhat_without_mc) # Transform labels back to original encoding"
   ]
  },
  {
   "cell_type": "code",
   "execution_count": 23,
   "metadata": {
    "colab": {
     "base_uri": "https://localhost:8080/"
    },
    "id": "EUEcw0LX07oU",
    "outputId": "cfc32397-9c37-4b43-d087-584bb31c3dcc"
   },
   "outputs": [
    {
     "data": {
      "text/plain": [
       "(1, 311)"
      ]
     },
     "execution_count": 23,
     "metadata": {},
     "output_type": "execute_result"
    }
   ],
   "source": [
    "inv_yhat_without_mc.shape"
   ]
  },
  {
   "cell_type": "code",
   "execution_count": 24,
   "metadata": {
    "id": "31OWVbSh_305"
   },
   "outputs": [],
   "source": [
    "fforecast = inv_yhat_without_mc[:,-300:]"
   ]
  },
  {
   "cell_type": "code",
   "execution_count": 25,
   "metadata": {},
   "outputs": [
    {
     "data": {
      "text/plain": [
       "(1, 300)"
      ]
     },
     "execution_count": 25,
     "metadata": {},
     "output_type": "execute_result"
    }
   ],
   "source": [
    "fforecast.shape"
   ]
  },
  {
   "cell_type": "code",
   "execution_count": 26,
   "metadata": {
    "id": "BlpGH2FOAiRF"
   },
   "outputs": [],
   "source": [
    "final_forecast = fforecast[:,0:300:3]"
   ]
  },
  {
   "cell_type": "code",
   "execution_count": 27,
   "metadata": {},
   "outputs": [
    {
     "data": {
      "text/plain": [
       "(1, 300)"
      ]
     },
     "execution_count": 27,
     "metadata": {},
     "output_type": "execute_result"
    }
   ],
   "source": [
    "fforecast.shape"
   ]
  },
  {
   "cell_type": "code",
   "execution_count": 28,
   "metadata": {
    "id": "CXkgkj_LBk_t"
   },
   "outputs": [],
   "source": [
    "# code to replace all negative value with 0\n",
    "final_forecast[final_forecast<0] = 0"
   ]
  },
  {
   "cell_type": "code",
   "execution_count": 29,
   "metadata": {},
   "outputs": [
    {
     "data": {
      "text/plain": [
       "array([[5.75887722e+01, 5.74627218e+01, 5.73366713e+01, 5.72106209e+01,\n",
       "        6.49527130e+01, 0.00000000e+00, 8.53142740e-01, 0.00000000e+00,\n",
       "        0.00000000e+00, 0.00000000e+00, 1.85162810e-01, 0.00000000e+00,\n",
       "        0.00000000e+00, 5.59027311e+01, 5.58102941e+01, 5.57178571e+01,\n",
       "        5.56254202e+01, 5.55576928e+01, 5.81209851e+01, 5.79949346e+01,\n",
       "        5.78688842e+01, 5.77428338e+01, 5.76167834e+01, 5.74937329e+01,\n",
       "        5.73706825e+01, 5.72476321e+01, 5.71245817e+01, 6.53977270e-01,\n",
       "        2.81776700e-01, 5.76671373e+01, 5.75420868e+01, 5.74150364e+01,\n",
       "        5.72899860e+01, 5.71693936e+01, 5.70495189e+01, 5.69301584e+01,\n",
       "        5.68119979e+01, 5.66958374e+01, 2.13815960e-01, 1.30032140e-01,\n",
       "        0.00000000e+00, 1.01369178e+00, 8.32572000e-03, 0.00000000e+00,\n",
       "        4.05764340e-01, 4.29300800e-02, 1.07817820e-01, 5.72664333e+01,\n",
       "        5.71405929e+01, 0.00000000e+00, 7.98189880e-01, 5.76961485e+01,\n",
       "        5.75700980e+01, 5.74440476e+01, 5.73179972e+01, 5.71941947e+01,\n",
       "        5.70799902e+01, 5.69683851e+01, 5.68547806e+01, 5.67431754e+01,\n",
       "        1.04408872e+00, 1.88607156e-01, 5.72433007e+01, 5.71172502e+01,\n",
       "        5.69911998e+01, 5.68651494e+01, 5.67390990e+01, 5.65087068e+01,\n",
       "        5.62139590e+01, 5.59540850e+01, 5.56776740e+01, 4.24146210e-02,\n",
       "        1.23838449e+00, 4.92067833e+01, 3.48570496e-01, 0.00000000e+00,\n",
       "        0.00000000e+00, 6.82187900e-02, 0.00000000e+00, 9.82906938e-01,\n",
       "        6.03367004e+01, 0.00000000e+00, 0.00000000e+00, 5.40004849e-01,\n",
       "        0.00000000e+00, 4.55412269e-01, 0.00000000e+00, 0.00000000e+00,\n",
       "        1.96149662e-01, 0.00000000e+00, 0.00000000e+00, 0.00000000e+00,\n",
       "        3.72441649e-01, 3.37595671e-01, 1.17851317e+00, 2.08332092e-01,\n",
       "        0.00000000e+00, 1.25488579e-01, 0.00000000e+00, 6.88723326e-02]])"
      ]
     },
     "execution_count": 29,
     "metadata": {},
     "output_type": "execute_result"
    }
   ],
   "source": [
    "final_forecast"
   ]
  },
  {
   "cell_type": "code",
   "execution_count": 30,
   "metadata": {},
   "outputs": [
    {
     "data": {
      "text/plain": [
       "(1, 100)"
      ]
     },
     "execution_count": 30,
     "metadata": {},
     "output_type": "execute_result"
    }
   ],
   "source": [
    "final_forecast.shape"
   ]
  },
  {
   "cell_type": "code",
   "execution_count": 31,
   "metadata": {},
   "outputs": [
    {
     "data": {
      "text/plain": [
       "(100,)"
      ]
     },
     "execution_count": 31,
     "metadata": {},
     "output_type": "execute_result"
    }
   ],
   "source": [
    "test.shape"
   ]
  },
  {
   "cell_type": "code",
   "execution_count": 32,
   "metadata": {},
   "outputs": [],
   "source": [
    "training_set = np.array(training_set)\n",
    "test = np.array(test)\n",
    "final_forecast = np.array(final_forecast.squeeze(0))"
   ]
  },
  {
   "cell_type": "code",
   "execution_count": 33,
   "metadata": {},
   "outputs": [
    {
     "data": {
      "text/plain": [
       "array([47.15777823, 47.14794015, 47.13810207, 47.12826399, 47.11842591,\n",
       "       47.10858783, 47.09874974, 47.08891166, 47.07907358, 47.0692355 ,\n",
       "       47.05939742, 47.04955934, 47.03972125, 47.02988317, 47.02004509,\n",
       "       47.01020701, 47.00036893, 46.99053085, 46.98069276, 46.97085468,\n",
       "       46.9610166 , 46.95117852, 46.94134044, 46.93150236, 46.92166428,\n",
       "       46.91182619, 46.90198811, 46.89215003, 46.88231195, 46.87247387,\n",
       "       46.86263579, 46.8527977 , 46.84295962, 46.83312154, 46.82328346,\n",
       "       46.81344538, 46.8036073 , 46.79376922, 46.78393113, 46.77409305,\n",
       "       46.76425497, 46.75441689, 46.74457881, 46.73474073, 46.72490264,\n",
       "       46.71506456, 46.70522648, 46.6953884 , 46.68555032, 46.67571224,\n",
       "       46.66587415, 46.65603607, 46.64619799, 46.63635991, 46.62652183,\n",
       "       46.61668375, 46.60684567, 46.59700758, 46.5871695 , 46.57733142,\n",
       "       46.56749334, 46.55765526, 46.54781718, 46.53797909, 46.52814101,\n",
       "       46.51830293, 46.50846485, 46.49862677, 46.48878869, 46.4789506 ,\n",
       "       46.46911252, 46.45927444, 46.44943636, 46.43959828, 46.4297602 ,\n",
       "       46.41992212, 46.41008403, 46.40024595, 46.39040787, 46.38056979,\n",
       "       46.37073171, 46.36089363, 46.35105554, 46.34121746, 46.33137938,\n",
       "       46.3215413 , 46.31170322, 46.30186514, 46.29202705, 46.28218897,\n",
       "       46.27235089, 46.26251281, 46.25267473, 46.24283665, 46.23299857,\n",
       "       46.22316048, 46.2133224 , 46.20348432, 46.19364624, 46.18380816])"
      ]
     },
     "execution_count": 33,
     "metadata": {},
     "output_type": "execute_result"
    }
   ],
   "source": [
    "test"
   ]
  },
  {
   "cell_type": "code",
   "execution_count": 34,
   "metadata": {},
   "outputs": [
    {
     "data": {
      "text/plain": [
       "(100,)"
      ]
     },
     "execution_count": 34,
     "metadata": {},
     "output_type": "execute_result"
    }
   ],
   "source": [
    "test.shape"
   ]
  },
  {
   "cell_type": "code",
   "execution_count": 35,
   "metadata": {},
   "outputs": [
    {
     "data": {
      "text/plain": [
       "(100,)"
      ]
     },
     "execution_count": 35,
     "metadata": {},
     "output_type": "execute_result"
    }
   ],
   "source": [
    "final_forecast.shape"
   ]
  },
  {
   "cell_type": "code",
   "execution_count": 36,
   "metadata": {},
   "outputs": [
    {
     "data": {
      "text/plain": [
       "(100,)"
      ]
     },
     "execution_count": 36,
     "metadata": {},
     "output_type": "execute_result"
    }
   ],
   "source": [
    "test.shape"
   ]
  },
  {
   "cell_type": "code",
   "execution_count": 37,
   "metadata": {},
   "outputs": [
    {
     "name": "stdout",
     "output_type": "stream",
     "text": [
      "33.57737864376223\n",
      "28.313775208846863\n"
     ]
    }
   ],
   "source": [
    "import math\n",
    "MSE = np.square(np.subtract(np.array(test),np.array(final_forecast))).mean()   \n",
    "rsme = math.sqrt(MSE)\n",
    "print(rsme)  \n",
    "MAE = np.abs(np.subtract(np.array(test),np.array(final_forecast))).mean()   \n",
    "mae = MAE\n",
    "print(mae)"
   ]
  }
 ],
 "metadata": {
  "colab": {
   "provenance": []
  },
  "kernelspec": {
   "display_name": "Python 3",
   "language": "python",
   "name": "python3"
  },
  "language_info": {
   "codemirror_mode": {
    "name": "ipython",
    "version": 3
   },
   "file_extension": ".py",
   "mimetype": "text/x-python",
   "name": "python",
   "nbconvert_exporter": "python",
   "pygments_lexer": "ipython3",
   "version": "3.9.13"
  }
 },
 "nbformat": 4,
 "nbformat_minor": 0
}
