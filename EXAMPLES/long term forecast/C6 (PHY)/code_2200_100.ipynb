{
 "cells": [
  {
   "cell_type": "markdown",
   "metadata": {
    "id": "pCGKeZ2gyuoQ"
   },
   "source": [
    "_Importing Required Libraries_"
   ]
  },
  {
   "cell_type": "code",
   "execution_count": 1,
   "metadata": {
    "colab": {
     "base_uri": "https://localhost:8080/"
    },
    "id": "A-6LN-zXiLcM",
    "outputId": "4de610a4-f8b8-4f49-c6c0-89de299ccedc"
   },
   "outputs": [
    {
     "name": "stdout",
     "output_type": "stream",
     "text": [
      "Requirement already satisfied: hampel in c:\\users\\anurag dutta\\appdata\\local\\packages\\pythonsoftwarefoundation.python.3.9_qbz5n2kfra8p0\\localcache\\local-packages\\python39\\site-packages (0.0.5)\n",
      "Requirement already satisfied: numpy in c:\\users\\anurag dutta\\appdata\\local\\packages\\pythonsoftwarefoundation.python.3.9_qbz5n2kfra8p0\\localcache\\local-packages\\python39\\site-packages (from hampel) (1.26.4)\n",
      "Requirement already satisfied: pandas in c:\\users\\anurag dutta\\appdata\\local\\packages\\pythonsoftwarefoundation.python.3.9_qbz5n2kfra8p0\\localcache\\local-packages\\python39\\site-packages (from hampel) (1.5.2)\n",
      "Requirement already satisfied: python-dateutil>=2.8.1 in c:\\users\\anurag dutta\\appdata\\local\\packages\\pythonsoftwarefoundation.python.3.9_qbz5n2kfra8p0\\localcache\\local-packages\\python39\\site-packages (from pandas->hampel) (2.8.2)\n",
      "Requirement already satisfied: pytz>=2020.1 in c:\\users\\anurag dutta\\appdata\\local\\packages\\pythonsoftwarefoundation.python.3.9_qbz5n2kfra8p0\\localcache\\local-packages\\python39\\site-packages (from pandas->hampel) (2023.3.post1)\n",
      "Requirement already satisfied: six>=1.5 in c:\\users\\anurag dutta\\appdata\\local\\packages\\pythonsoftwarefoundation.python.3.9_qbz5n2kfra8p0\\localcache\\local-packages\\python39\\site-packages (from python-dateutil>=2.8.1->pandas->hampel) (1.16.0)\n",
      "Note: you may need to restart the kernel to use updated packages.\n"
     ]
    },
    {
     "name": "stderr",
     "output_type": "stream",
     "text": [
      "\n",
      "[notice] A new release of pip is available: 24.2 -> 24.3.1\n",
      "[notice] To update, run: C:\\Users\\Anurag Dutta\\AppData\\Local\\Microsoft\\WindowsApps\\PythonSoftwareFoundation.Python.3.9_qbz5n2kfra8p0\\python.exe -m pip install --upgrade pip\n"
     ]
    }
   ],
   "source": [
    "pip install hampel"
   ]
  },
  {
   "cell_type": "code",
   "execution_count": 2,
   "metadata": {
    "id": "By_d9uXpaFvZ"
   },
   "outputs": [],
   "source": [
    "from keras.models import Sequential\n",
    "from keras.layers import Dense\n",
    "from keras.layers import LSTM\n",
    "from keras.layers import Dropout\n",
    "import keras\n",
    "import tensorflow as tf\n",
    "from hampel import hampel\n",
    "import numpy as np\n",
    "import matplotlib.pyplot as plt\n",
    "import pandas as pd\n",
    "from sklearn.preprocessing import MinMaxScaler\n",
    "from sklearn.metrics import mean_squared_error, mean_absolute_error\n",
    "from math import sqrt\n",
    "from matplotlib import pyplot\n",
    "from numpy import array"
   ]
  },
  {
   "cell_type": "markdown",
   "metadata": {
    "id": "JyOjBMFayuoR"
   },
   "source": [
    "## Pretraining"
   ]
  },
  {
   "cell_type": "markdown",
   "metadata": {
    "id": "-5QqIY_GyuoR"
   },
   "source": [
    "The `capa_intermittency.dat` feeds the model with the dynamics of the Capacitor"
   ]
  },
  {
   "cell_type": "code",
   "execution_count": 3,
   "metadata": {
    "id": "9dV4a8yfyuoR"
   },
   "outputs": [],
   "source": [
    "data = np.genfromtxt('capa_intermittency.dat')\n",
    "training_set = pd.DataFrame(data).reset_index(drop=True)\n",
    "training_set = training_set.iloc[:,0]"
   ]
  },
  {
   "cell_type": "markdown",
   "metadata": {
    "id": "i7easoxByuoR"
   },
   "source": [
    "## Computing the Gradient"
   ]
  },
  {
   "cell_type": "markdown",
   "metadata": {
    "id": "5SnyolJTyuoR"
   },
   "source": [
    "_Calculating the value of_ $\\frac{dx}{dt}$"
   ]
  },
  {
   "cell_type": "code",
   "execution_count": 4,
   "metadata": {
    "colab": {
     "base_uri": "https://localhost:8080/"
    },
    "id": "wmIbVfIvyuoR",
    "outputId": "aa4e3136-c854-465d-d2e9-81cfd546e440"
   },
   "outputs": [
    {
     "name": "stdout",
     "output_type": "stream",
     "text": [
      "1.0\n",
      "1        0.000298\n",
      "2        0.000298\n",
      "3        0.000297\n",
      "4        0.000297\n",
      "5        0.000297\n",
      "           ...   \n",
      "9996     0.000018\n",
      "9997     0.000018\n",
      "9998     0.000018\n",
      "9999     0.000018\n",
      "10000    0.000018\n",
      "Name: 0, Length: 10000, dtype: float64\n"
     ]
    }
   ],
   "source": [
    "t_diff = 1\n",
    "print(training_set.max())\n",
    "gradient_t = (training_set.diff()/t_diff).iloc[1:] # dx/dt\n",
    "print(gradient_t)"
   ]
  },
  {
   "cell_type": "markdown",
   "metadata": {
    "id": "_2eVeeoxyuoS"
   },
   "source": [
    "## Loading Datasets"
   ]
  },
  {
   "cell_type": "code",
   "execution_count": 5,
   "metadata": {
    "id": "0J-NKyIEyuoS"
   },
   "outputs": [
    {
     "data": {
      "text/plain": [
       "0       84.600000\n",
       "1       84.431933\n",
       "2       84.263866\n",
       "3       84.095798\n",
       "4       83.927731\n",
       "          ...    \n",
       "2295    47.206969\n",
       "2296    47.197131\n",
       "2297    47.187292\n",
       "2298    47.177454\n",
       "2299    47.167616\n",
       "Name: C6, Length: 2300, dtype: float64"
      ]
     },
     "execution_count": 5,
     "metadata": {},
     "output_type": "execute_result"
    }
   ],
   "source": [
    "data = pd.read_csv(\"c6_interpolated_2200_100.csv\")\n",
    "training_set = data.iloc[:, 1]\n",
    "training_set"
   ]
  },
  {
   "cell_type": "code",
   "execution_count": 6,
   "metadata": {
    "colab": {
     "base_uri": "https://localhost:8080/"
    },
    "id": "-CbNUhJ74UqF",
    "outputId": "20f562d8-8247-49cc-b9c3-00eca5e13e2d"
   },
   "outputs": [
    {
     "data": {
      "text/plain": [
       "0       84.600000\n",
       "1       84.431933\n",
       "2       84.263866\n",
       "3       84.095798\n",
       "4       83.927731\n",
       "          ...    \n",
       "2195     0.297570\n",
       "2196     0.000000\n",
       "2197     0.000000\n",
       "2198     0.288791\n",
       "2199     0.000000\n",
       "Name: C6, Length: 2200, dtype: float64"
      ]
     },
     "execution_count": 6,
     "metadata": {},
     "output_type": "execute_result"
    }
   ],
   "source": [
    "test = training_set.tail(100)\n",
    "test\n",
    "training_set = training_set.head(2200)\n",
    "training_set"
   ]
  },
  {
   "cell_type": "code",
   "execution_count": 7,
   "metadata": {
    "colab": {
     "base_uri": "https://localhost:8080/"
    },
    "id": "X0TwTcq0yuoS",
    "outputId": "37252ed8-d88e-4044-fa7a-922411990b5b"
   },
   "outputs": [
    {
     "name": "stdout",
     "output_type": "stream",
     "text": [
      "0       0.000298\n",
      "1       0.000298\n",
      "2       0.000297\n",
      "3       0.000297\n",
      "4       0.000297\n",
      "          ...   \n",
      "9995    0.000018\n",
      "9996    0.000018\n",
      "9997    0.000018\n",
      "9998    0.000018\n",
      "9999    0.000018\n",
      "Name: 0, Length: 10000, dtype: float64\n"
     ]
    }
   ],
   "source": [
    "training_set = training_set.reset_index(drop=True)\n",
    "gradient_t = gradient_t.reset_index(drop=True)\n",
    "print(gradient_t)"
   ]
  },
  {
   "cell_type": "code",
   "execution_count": 8,
   "metadata": {
    "id": "O2biznZQyuoS"
   },
   "outputs": [],
   "source": [
    "df = pd.concat((training_set, gradient_t), axis=1)\n",
    "df.columns = ['y_t', 'grad_t']"
   ]
  },
  {
   "cell_type": "code",
   "execution_count": 9,
   "metadata": {
    "colab": {
     "base_uri": "https://localhost:8080/",
     "height": 423
    },
    "id": "sk_a5v3tyuoS",
    "outputId": "17563625-e550-45ae-faab-fafa353e44da"
   },
   "outputs": [
    {
     "data": {
      "text/html": [
       "<div>\n",
       "<style scoped>\n",
       "    .dataframe tbody tr th:only-of-type {\n",
       "        vertical-align: middle;\n",
       "    }\n",
       "\n",
       "    .dataframe tbody tr th {\n",
       "        vertical-align: top;\n",
       "    }\n",
       "\n",
       "    .dataframe thead th {\n",
       "        text-align: right;\n",
       "    }\n",
       "</style>\n",
       "<table border=\"1\" class=\"dataframe\">\n",
       "  <thead>\n",
       "    <tr style=\"text-align: right;\">\n",
       "      <th></th>\n",
       "      <th>y_t</th>\n",
       "      <th>grad_t</th>\n",
       "    </tr>\n",
       "  </thead>\n",
       "  <tbody>\n",
       "    <tr>\n",
       "      <th>0</th>\n",
       "      <td>84.600000</td>\n",
       "      <td>0.000298</td>\n",
       "    </tr>\n",
       "    <tr>\n",
       "      <th>1</th>\n",
       "      <td>84.431933</td>\n",
       "      <td>0.000298</td>\n",
       "    </tr>\n",
       "    <tr>\n",
       "      <th>2</th>\n",
       "      <td>84.263866</td>\n",
       "      <td>0.000297</td>\n",
       "    </tr>\n",
       "    <tr>\n",
       "      <th>3</th>\n",
       "      <td>84.095798</td>\n",
       "      <td>0.000297</td>\n",
       "    </tr>\n",
       "    <tr>\n",
       "      <th>4</th>\n",
       "      <td>83.927731</td>\n",
       "      <td>0.000297</td>\n",
       "    </tr>\n",
       "    <tr>\n",
       "      <th>...</th>\n",
       "      <td>...</td>\n",
       "      <td>...</td>\n",
       "    </tr>\n",
       "    <tr>\n",
       "      <th>9995</th>\n",
       "      <td>NaN</td>\n",
       "      <td>0.000018</td>\n",
       "    </tr>\n",
       "    <tr>\n",
       "      <th>9996</th>\n",
       "      <td>NaN</td>\n",
       "      <td>0.000018</td>\n",
       "    </tr>\n",
       "    <tr>\n",
       "      <th>9997</th>\n",
       "      <td>NaN</td>\n",
       "      <td>0.000018</td>\n",
       "    </tr>\n",
       "    <tr>\n",
       "      <th>9998</th>\n",
       "      <td>NaN</td>\n",
       "      <td>0.000018</td>\n",
       "    </tr>\n",
       "    <tr>\n",
       "      <th>9999</th>\n",
       "      <td>NaN</td>\n",
       "      <td>0.000018</td>\n",
       "    </tr>\n",
       "  </tbody>\n",
       "</table>\n",
       "<p>10000 rows × 2 columns</p>\n",
       "</div>"
      ],
      "text/plain": [
       "            y_t    grad_t\n",
       "0     84.600000  0.000298\n",
       "1     84.431933  0.000298\n",
       "2     84.263866  0.000297\n",
       "3     84.095798  0.000297\n",
       "4     83.927731  0.000297\n",
       "...         ...       ...\n",
       "9995        NaN  0.000018\n",
       "9996        NaN  0.000018\n",
       "9997        NaN  0.000018\n",
       "9998        NaN  0.000018\n",
       "9999        NaN  0.000018\n",
       "\n",
       "[10000 rows x 2 columns]"
      ]
     },
     "execution_count": 9,
     "metadata": {},
     "output_type": "execute_result"
    }
   ],
   "source": [
    "df"
   ]
  },
  {
   "cell_type": "markdown",
   "metadata": {
    "id": "-5esyHu5aFvg"
   },
   "source": [
    "## Plot of the External Forcing from Chaotic Differential Equation"
   ]
  },
  {
   "cell_type": "code",
   "execution_count": 10,
   "metadata": {
    "colab": {
     "base_uri": "https://localhost:8080/",
     "height": 447
    },
    "id": "hGnE43tOh-4p",
    "outputId": "fc396503-b624-4fa5-dfbe-f460207405c6"
   },
   "outputs": [
    {
     "data": {
      "text/plain": [
       "<Axes: >"
      ]
     },
     "execution_count": 10,
     "metadata": {},
     "output_type": "execute_result"
    },
    {
     "data": {
      "image/png": "[encoded data removed]",
      "text/plain": [
       "<Figure size 432x288 with 1 Axes>"
      ]
     },
     "metadata": {
      "needs_background": "light"
     },
     "output_type": "display_data"
    }
   ],
   "source": [
    "df.iloc[:, 0].plot()"
   ]
  },
  {
   "cell_type": "code",
   "execution_count": 11,
   "metadata": {
    "colab": {
     "base_uri": "https://localhost:8080/",
     "height": 447
    },
    "id": "ym4xWUUxaFvg",
    "outputId": "ae6a3495-8ce9-437e-ba81-3ed31deedeae"
   },
   "outputs": [
    {
     "name": "stderr",
     "output_type": "stream",
     "text": [
      "C:\\Users\\Anurag Dutta\\AppData\\Local\\Packages\\PythonSoftwareFoundation.Python.3.9_qbz5n2kfra8p0\\LocalCache\\local-packages\\Python39\\site-packages\\pandas\\core\\arraylike.py:402: RuntimeWarning: divide by zero encountered in log\n",
      "  result = getattr(ufunc, method)(*inputs, **kwargs)\n"
     ]
    },
    {
     "data": {
      "text/plain": [
       "<Axes: >"
      ]
     },
     "execution_count": 11,
     "metadata": {},
     "output_type": "execute_result"
    },
    {
     "data": {
      "image/png": "[encoded data removed]",
      "text/plain": [
       "<Figure size 432x288 with 1 Axes>"
      ]
     },
     "metadata": {
      "needs_background": "light"
     },
     "output_type": "display_data"
    }
   ],
   "source": [
    "import numpy as np\n",
    "c0 = 82.7524  # Value for C0\n",
    "K0 = -0.0031  # Value for K0\n",
    "K1 = -0.0003  # Value for K1\n",
    "a = 0.0000    # Value for a\n",
    "b = 0.0171    # Value for b\n",
    "c = 3.0230    # Value for c\n",
    "\n",
    "L = np.minimum(c0, (df.iloc[:, 1] - (df.iloc[:, 0] * (K0 - K1 * (9 * a * np.log(df.iloc[:, 0] / c0) / (K0 - K1 * c)**2 + 4 * b * np.log(df.iloc[:, 0] / c0) / (K0 - K1 * c) + c)))))\n",
    "L.plot()"
   ]
  },
  {
   "cell_type": "markdown",
   "metadata": {
    "id": "9VyEywnwaFvh"
   },
   "source": [
    "## Preprocessing the data into supervised learning"
   ]
  },
  {
   "cell_type": "code",
   "execution_count": 12,
   "metadata": {
    "id": "6V9dXqzdaFvh"
   },
   "outputs": [],
   "source": [
    "# split a sequence into samples\n",
    "def Supervised(data, n_in=1, n_out=1, dropnan=True):\n",
    "    n_vars = 1 if type(data) is list else data.shape[1]\n",
    "    df = pd.DataFrame(data)\n",
    "    cols, names = list(), list()\n",
    "    # input sequence (t-n_in, ... t-1)\n",
    "    for i in range(n_in, 0, -1):\n",
    "        cols.append(df.shift(i))\n",
    "        names += [('var%d(t-%d)' % (j+1, i)) for j in range(n_vars)]\n",
    "    # forecast sequence (t, t+1, ... t+n_out)\n",
    "    for i in range(0, n_out):\n",
    "      cols.append(df.shift(-i))\n",
    "      if i == 0:\n",
    "        names += [('var%d(t)' % (j+1)) for j in range(n_vars)]\n",
    "      else:\n",
    "        names += [('var%d(t+%d)' % (j+1, i)) for j in range(n_vars)]\n",
    "    # put it all together\n",
    "    agg = pd.concat(cols, axis=1)\n",
    "    agg.columns = names\n",
    "    # drop rows with NaN values\n",
    "    if dropnan:\n",
    "       agg.dropna(inplace=True)\n",
    "    return agg"
   ]
  },
  {
   "cell_type": "code",
   "execution_count": 13,
   "metadata": {
    "colab": {
     "base_uri": "https://localhost:8080/"
    },
    "id": "CrzSrT1HnyfH",
    "outputId": "7e75f928-3e47-499d-eac1-51908015ef78"
   },
   "outputs": [
    {
     "name": "stdout",
     "output_type": "stream",
     "text": [
      "     var1(t-350)  var1(t-349)  var1(t-348)  var1(t-347)  var1(t-346)  \\\n",
      "350    84.600000    84.431933    84.263866    84.095798    83.927731   \n",
      "351    84.431933    84.263866    84.095798    83.927731    83.759664   \n",
      "352    84.263866    84.095798    83.927731    83.759664    83.591597   \n",
      "353    84.095798    83.927731    83.759664    83.591597    83.423529   \n",
      "354    83.927731    83.759664    83.591597    83.423529    83.255462   \n",
      "\n",
      "     var1(t-345)  var1(t-344)  var1(t-343)  var1(t-342)  var1(t-341)  ...  \\\n",
      "350    83.759664    83.591597    83.423529    83.255462    83.092437  ...   \n",
      "351    83.591597    83.423529    83.255462    83.092437    82.991597  ...   \n",
      "352    83.423529    83.255462    83.092437    82.991597    82.890756  ...   \n",
      "353    83.255462    83.092437    82.991597    82.890756    82.789916  ...   \n",
      "354    83.092437    82.991597    82.890756    82.789916    82.689076  ...   \n",
      "\n",
      "     var1(t+95)  var2(t+95)  var1(t+96)  var2(t+96)  var1(t+97)  var2(t+97)  \\\n",
      "350   70.003688    0.000263   69.960738    0.000263   69.917787    0.000263   \n",
      "351   69.960738    0.000263   69.917787    0.000263   69.874837    0.000262   \n",
      "352   69.917787    0.000263   69.874837    0.000262   69.831886    0.000262   \n",
      "353   69.874837    0.000262   69.831886    0.000262   69.788936    0.000262   \n",
      "354   69.831886    0.000262   69.788936    0.000262   69.745985    0.000262   \n",
      "\n",
      "     var1(t+98)  var2(t+98)  var1(t+99)  var2(t+99)  \n",
      "350   69.874837    0.000262   69.831886    0.000262  \n",
      "351   69.831886    0.000262   69.788936    0.000262  \n",
      "352   69.788936    0.000262   69.745985    0.000262  \n",
      "353   69.745985    0.000262   69.703035    0.000262  \n",
      "354   69.703035    0.000262   69.660084    0.000262  \n",
      "\n",
      "[5 rows x 551 columns]\n",
      "Index(['var1(t-350)', 'var1(t-349)', 'var1(t-348)', 'var1(t-347)',\n",
      "       'var1(t-346)', 'var1(t-345)', 'var1(t-344)', 'var1(t-343)',\n",
      "       'var1(t-342)', 'var1(t-341)',\n",
      "       ...\n",
      "       'var1(t+95)', 'var2(t+95)', 'var1(t+96)', 'var2(t+96)', 'var1(t+97)',\n",
      "       'var2(t+97)', 'var1(t+98)', 'var2(t+98)', 'var1(t+99)', 'var2(t+99)'],\n",
      "      dtype='object', length=551)\n"
     ]
    }
   ],
   "source": [
    "data = Supervised(df.values, n_in = 350, n_out = 100)\n",
    "\n",
    "\n",
    "cols_to_drop = []\n",
    "for i in range(2, 351):\n",
    "    cols_to_drop.extend([f'var2(t-{i})'])\n",
    "\n",
    "data.drop(cols_to_drop, axis=1, inplace=True)\n",
    "\n",
    "print(data.head())\n",
    "print(data.columns)"
   ]
  },
  {
   "cell_type": "code",
   "execution_count": 14,
   "metadata": {
    "id": "AfPf60oy6Pe4"
   },
   "outputs": [],
   "source": [
    "train = np.array(data[0:len(data)-1])\n",
    "forecast = np.array(data.tail(1))"
   ]
  },
  {
   "cell_type": "code",
   "execution_count": 15,
   "metadata": {
    "id": "WSAafzI37KiT"
   },
   "outputs": [],
   "source": [
    "trainy = train[:,-300:]\n",
    "trainX = train[:,:-300]"
   ]
  },
  {
   "cell_type": "code",
   "execution_count": 16,
   "metadata": {
    "id": "2SrOqVJA7f50"
   },
   "outputs": [],
   "source": [
    "forecasty = forecast[:,-300:]\n",
    "forecastX = forecast[:,:-300]"
   ]
  },
  {
   "cell_type": "code",
   "execution_count": 17,
   "metadata": {
    "colab": {
     "base_uri": "https://localhost:8080/"
    },
    "id": "Qno_k8Nw7saY",
    "outputId": "c4a88db5-d8c6-489f-cdb2-06b24e293cff"
   },
   "outputs": [
    {
     "name": "stdout",
     "output_type": "stream",
     "text": [
      "(1750, 1, 251) (1750, 300) (1, 1, 251)\n"
     ]
    }
   ],
   "source": [
    "trainX = trainX.reshape((trainX.shape[0], 1, trainX.shape[1]))\n",
    "forecastX = forecastX.reshape((forecastX.shape[0], 1, forecastX.shape[1]))\n",
    "print(trainX.shape, trainy.shape, forecastX.shape)"
   ]
  },
  {
   "cell_type": "code",
   "execution_count": 18,
   "metadata": {
    "colab": {
     "base_uri": "https://localhost:8080/"
    },
    "id": "b1Jp2DvNuNFx",
    "outputId": "d0e5b3c4-64f1-438c-eade-8dfeaac8e285"
   },
   "outputs": [
    {
     "name": "stdout",
     "output_type": "stream",
     "text": [
      "Epoch 1/500\n",
      "22/22 [==============================] - 3s 25ms/step - loss: 3647.3767 - val_loss: 2227.0488\n",
      "Epoch 2/500\n",
      "22/22 [==============================] - 0s 4ms/step - loss: 3446.7383 - val_loss: 2092.4167\n",
      "Epoch 3/500\n",
      "22/22 [==============================] - 0s 4ms/step - loss: 3296.6035 - val_loss: 2000.9207\n",
      "Epoch 4/500\n",
      "22/22 [==============================] - 0s 4ms/step - loss: 3198.7222 - val_loss: 1943.4084\n",
      "Epoch 5/500\n",
      "22/22 [==============================] - 0s 4ms/step - loss: 3111.9431 - val_loss: 1889.0154\n",
      "Epoch 6/500\n",
      "22/22 [==============================] - 0s 4ms/step - loss: 3028.7629 - val_loss: 1836.9760\n",
      "Epoch 7/500\n",
      "22/22 [==============================] - 0s 4ms/step - loss: 2948.3523 - val_loss: 1786.8668\n",
      "Epoch 8/500\n",
      "22/22 [==============================] - 0s 4ms/step - loss: 2870.2463 - val_loss: 1738.4614\n",
      "Epoch 9/500\n",
      "22/22 [==============================] - 0s 4ms/step - loss: 2794.1802 - val_loss: 1691.6215\n",
      "Epoch 10/500\n",
      "22/22 [==============================] - 0s 4ms/step - loss: 2719.9883 - val_loss: 1646.2452\n",
      "Epoch 11/500\n",
      "22/22 [==============================] - 0s 4ms/step - loss: 2647.5566 - val_loss: 1602.1600\n",
      "Epoch 12/500\n",
      "22/22 [==============================] - 0s 5ms/step - loss: 2572.1313 - val_loss: 1555.1000\n",
      "Epoch 13/500\n",
      "22/22 [==============================] - 0s 4ms/step - loss: 2498.3374 - val_loss: 1511.3442\n",
      "Epoch 14/500\n",
      "22/22 [==============================] - 0s 4ms/step - loss: 2427.1506 - val_loss: 1469.4540\n",
      "Epoch 15/500\n",
      "22/22 [==============================] - 0s 8ms/step - loss: 2358.2104 - val_loss: 1429.1720\n",
      "Epoch 16/500\n",
      "22/22 [==============================] - 0s 4ms/step - loss: 2291.2183 - val_loss: 1390.3514\n",
      "Epoch 17/500\n",
      "22/22 [==============================] - 0s 4ms/step - loss: 2225.9983 - val_loss: 1352.9003\n",
      "Epoch 18/500\n",
      "22/22 [==============================] - 0s 4ms/step - loss: 2162.4402 - val_loss: 1316.7540\n",
      "Epoch 19/500\n",
      "22/22 [==============================] - 0s 9ms/step - loss: 2100.4644 - val_loss: 1281.8615\n",
      "Epoch 20/500\n",
      "22/22 [==============================] - 0s 4ms/step - loss: 2040.0088 - val_loss: 1248.1814\n",
      "Epoch 21/500\n",
      "22/22 [==============================] - 0s 4ms/step - loss: 1981.0247 - val_loss: 1215.6776\n",
      "Epoch 22/500\n",
      "22/22 [==============================] - 0s 4ms/step - loss: 1923.4689 - val_loss: 1184.3175\n",
      "Epoch 23/500\n",
      "22/22 [==============================] - 0s 4ms/step - loss: 1867.3048 - val_loss: 1154.0726\n",
      "Epoch 24/500\n",
      "22/22 [==============================] - 0s 4ms/step - loss: 1812.4962 - val_loss: 1124.9160\n",
      "Epoch 25/500\n",
      "22/22 [==============================] - 0s 4ms/step - loss: 1759.0150 - val_loss: 1096.8209\n",
      "Epoch 26/500\n",
      "22/22 [==============================] - 0s 4ms/step - loss: 1706.8309 - val_loss: 1069.7629\n",
      "Epoch 27/500\n",
      "22/22 [==============================] - 0s 4ms/step - loss: 1655.9171 - val_loss: 1043.7200\n",
      "Epoch 28/500\n",
      "22/22 [==============================] - 0s 4ms/step - loss: 1606.2482 - val_loss: 1018.6686\n",
      "Epoch 29/500\n",
      "22/22 [==============================] - 0s 4ms/step - loss: 1557.7998 - val_loss: 994.5873\n",
      "Epoch 30/500\n",
      "22/22 [==============================] - 0s 5ms/step - loss: 1510.5477 - val_loss: 971.4556\n",
      "Epoch 31/500\n",
      "22/22 [==============================] - 0s 5ms/step - loss: 1464.4700 - val_loss: 949.2527\n",
      "Epoch 32/500\n",
      "22/22 [==============================] - 0s 5ms/step - loss: 1419.5437 - val_loss: 927.9581\n",
      "Epoch 33/500\n",
      "22/22 [==============================] - 0s 6ms/step - loss: 1375.7484 - val_loss: 907.5527\n",
      "Epoch 34/500\n",
      "22/22 [==============================] - 0s 6ms/step - loss: 1333.0625 - val_loss: 888.0168\n",
      "Epoch 35/500\n",
      "22/22 [==============================] - 0s 6ms/step - loss: 1291.4662 - val_loss: 869.3316\n",
      "Epoch 36/500\n",
      "22/22 [==============================] - 0s 5ms/step - loss: 1250.9390 - val_loss: 851.4786\n",
      "Epoch 37/500\n",
      "22/22 [==============================] - 0s 5ms/step - loss: 1211.4615 - val_loss: 834.4389\n",
      "Epoch 38/500\n",
      "22/22 [==============================] - 0s 5ms/step - loss: 1173.0148 - val_loss: 818.1948\n",
      "Epoch 39/500\n",
      "22/22 [==============================] - 0s 5ms/step - loss: 1135.5793 - val_loss: 802.7285\n",
      "Epoch 40/500\n",
      "22/22 [==============================] - 0s 6ms/step - loss: 1099.1370 - val_loss: 788.0222\n",
      "Epoch 41/500\n",
      "22/22 [==============================] - 0s 7ms/step - loss: 1063.6693 - val_loss: 774.0583\n",
      "Epoch 42/500\n",
      "22/22 [==============================] - 0s 7ms/step - loss: 1029.1583 - val_loss: 760.8198\n",
      "Epoch 43/500\n",
      "22/22 [==============================] - 0s 6ms/step - loss: 995.5862 - val_loss: 748.2898\n",
      "Epoch 44/500\n",
      "22/22 [==============================] - 0s 7ms/step - loss: 962.9354 - val_loss: 736.4509\n",
      "Epoch 45/500\n",
      "22/22 [==============================] - 0s 7ms/step - loss: 931.1884 - val_loss: 725.2870\n",
      "Epoch 46/500\n",
      "22/22 [==============================] - 0s 7ms/step - loss: 900.3281 - val_loss: 714.7814\n",
      "Epoch 47/500\n",
      "22/22 [==============================] - 0s 18ms/step - loss: 870.3378 - val_loss: 704.9175\n",
      "Epoch 48/500\n",
      "22/22 [==============================] - 0s 8ms/step - loss: 841.2004 - val_loss: 695.6794\n",
      "Epoch 49/500\n",
      "22/22 [==============================] - 0s 7ms/step - loss: 812.8993 - val_loss: 687.0511\n",
      "Epoch 50/500\n",
      "22/22 [==============================] - 0s 7ms/step - loss: 785.4186 - val_loss: 679.0168\n",
      "Epoch 51/500\n",
      "22/22 [==============================] - 0s 7ms/step - loss: 758.7417 - val_loss: 671.5606\n",
      "Epoch 52/500\n",
      "22/22 [==============================] - 0s 7ms/step - loss: 732.8528 - val_loss: 664.6669\n",
      "Epoch 53/500\n",
      "22/22 [==============================] - 0s 7ms/step - loss: 707.7358 - val_loss: 658.3206\n",
      "Epoch 54/500\n",
      "22/22 [==============================] - 0s 6ms/step - loss: 683.3751 - val_loss: 652.5061\n",
      "Epoch 55/500\n",
      "22/22 [==============================] - 0s 6ms/step - loss: 659.7552 - val_loss: 647.2087\n",
      "Epoch 56/500\n",
      "22/22 [==============================] - 0s 7ms/step - loss: 636.8606 - val_loss: 642.4131\n",
      "Epoch 57/500\n",
      "22/22 [==============================] - 0s 21ms/step - loss: 614.6765 - val_loss: 638.1046\n",
      "Epoch 58/500\n",
      "22/22 [==============================] - 0s 8ms/step - loss: 593.1871 - val_loss: 634.2686\n",
      "Epoch 59/500\n",
      "22/22 [==============================] - 0s 7ms/step - loss: 572.3776 - val_loss: 630.8906\n",
      "Epoch 60/500\n",
      "22/22 [==============================] - 0s 6ms/step - loss: 552.2338 - val_loss: 627.9562\n",
      "Epoch 61/500\n",
      "22/22 [==============================] - 0s 6ms/step - loss: 532.7410 - val_loss: 625.4510\n",
      "Epoch 62/500\n",
      "22/22 [==============================] - 0s 6ms/step - loss: 513.8842 - val_loss: 623.3615\n",
      "Epoch 63/500\n",
      "22/22 [==============================] - 0s 7ms/step - loss: 495.6495 - val_loss: 621.6731\n",
      "Epoch 64/500\n",
      "22/22 [==============================] - 0s 7ms/step - loss: 478.0225 - val_loss: 620.3724\n",
      "Epoch 65/500\n",
      "22/22 [==============================] - 0s 7ms/step - loss: 460.9895 - val_loss: 619.4459\n",
      "Epoch 66/500\n",
      "22/22 [==============================] - 0s 8ms/step - loss: 444.5364 - val_loss: 618.8798\n",
      "Epoch 67/500\n",
      "22/22 [==============================] - 0s 7ms/step - loss: 428.6494 - val_loss: 618.6610\n",
      "Epoch 68/500\n",
      "22/22 [==============================] - 0s 7ms/step - loss: 413.3150 - val_loss: 618.7764\n",
      "Epoch 69/500\n",
      "22/22 [==============================] - 0s 8ms/step - loss: 398.5199 - val_loss: 619.2130\n",
      "Epoch 70/500\n",
      "22/22 [==============================] - 0s 8ms/step - loss: 384.2509 - val_loss: 619.9578\n",
      "Epoch 71/500\n",
      "22/22 [==============================] - 0s 7ms/step - loss: 370.4945 - val_loss: 620.9983\n",
      "Epoch 72/500\n",
      "22/22 [==============================] - 0s 6ms/step - loss: 357.2380 - val_loss: 622.3220\n",
      "Epoch 73/500\n",
      "22/22 [==============================] - 0s 6ms/step - loss: 344.4686 - val_loss: 623.9166\n",
      "Epoch 74/500\n",
      "22/22 [==============================] - 0s 6ms/step - loss: 332.1735 - val_loss: 625.7700\n",
      "Epoch 75/500\n",
      "22/22 [==============================] - 0s 6ms/step - loss: 320.3401 - val_loss: 627.8701\n",
      "Epoch 76/500\n",
      "22/22 [==============================] - 0s 11ms/step - loss: 308.9564 - val_loss: 630.2051\n",
      "Epoch 77/500\n",
      "22/22 [==============================] - 0s 8ms/step - loss: 298.0101 - val_loss: 632.7634\n",
      "Epoch 78/500\n",
      "22/22 [==============================] - 0s 6ms/step - loss: 287.4890 - val_loss: 635.5338\n",
      "Epoch 79/500\n",
      "22/22 [==============================] - 0s 5ms/step - loss: 277.3814 - val_loss: 638.5048\n",
      "Epoch 80/500\n",
      "22/22 [==============================] - 0s 5ms/step - loss: 267.6754 - val_loss: 641.6653\n",
      "Epoch 81/500\n",
      "22/22 [==============================] - 0s 5ms/step - loss: 258.3598 - val_loss: 645.0048\n",
      "Epoch 82/500\n",
      "22/22 [==============================] - 0s 5ms/step - loss: 249.4227 - val_loss: 648.5121\n",
      "Epoch 83/500\n",
      "22/22 [==============================] - 0s 5ms/step - loss: 240.8535 - val_loss: 652.1771\n",
      "Epoch 84/500\n",
      "22/22 [==============================] - 0s 5ms/step - loss: 232.6407 - val_loss: 655.9897\n",
      "Epoch 85/500\n",
      "22/22 [==============================] - 0s 5ms/step - loss: 224.7736 - val_loss: 659.9394\n",
      "Epoch 86/500\n",
      "22/22 [==============================] - 0s 9ms/step - loss: 217.2415 - val_loss: 664.0167\n",
      "Epoch 87/500\n",
      "22/22 [==============================] - 0s 6ms/step - loss: 210.0338 - val_loss: 668.2119\n",
      "Epoch 88/500\n",
      "22/22 [==============================] - 0s 5ms/step - loss: 203.1402 - val_loss: 672.5157\n",
      "Epoch 89/500\n",
      "22/22 [==============================] - 0s 5ms/step - loss: 196.5506 - val_loss: 676.9189\n",
      "Epoch 90/500\n",
      "22/22 [==============================] - 0s 5ms/step - loss: 190.2550 - val_loss: 681.4130\n",
      "Epoch 91/500\n",
      "22/22 [==============================] - 0s 5ms/step - loss: 184.2435 - val_loss: 685.9897\n",
      "Epoch 92/500\n",
      "22/22 [==============================] - 0s 5ms/step - loss: 178.5064 - val_loss: 690.6415\n",
      "Epoch 93/500\n",
      "22/22 [==============================] - 0s 5ms/step - loss: 173.0345 - val_loss: 695.3634\n",
      "Epoch 94/500\n",
      "22/22 [==============================] - 0s 5ms/step - loss: 167.8184 - val_loss: 700.1588\n",
      "Epoch 95/500\n",
      "22/22 [==============================] - 0s 5ms/step - loss: 162.8489 - val_loss: 705.3024\n",
      "Epoch 96/500\n",
      "22/22 [==============================] - 0s 5ms/step - loss: 156.8107 - val_loss: 712.4254\n",
      "Epoch 97/500\n",
      "22/22 [==============================] - 0s 6ms/step - loss: 150.8715 - val_loss: 718.6096\n",
      "Epoch 98/500\n",
      "22/22 [==============================] - 0s 6ms/step - loss: 145.7644 - val_loss: 724.5542\n",
      "Epoch 99/500\n",
      "22/22 [==============================] - 0s 5ms/step - loss: 141.1512 - val_loss: 730.3481\n",
      "Epoch 100/500\n",
      "22/22 [==============================] - 0s 5ms/step - loss: 136.9209 - val_loss: 736.0375\n",
      "Epoch 101/500\n",
      "22/22 [==============================] - 0s 6ms/step - loss: 133.0093 - val_loss: 741.6429\n",
      "Epoch 102/500\n",
      "22/22 [==============================] - 0s 5ms/step - loss: 129.3758 - val_loss: 747.1755\n",
      "Epoch 103/500\n",
      "22/22 [==============================] - 0s 6ms/step - loss: 125.9916 - val_loss: 752.6400\n",
      "Epoch 104/500\n",
      "22/22 [==============================] - 0s 6ms/step - loss: 122.8344 - val_loss: 758.0377\n",
      "Epoch 105/500\n",
      "22/22 [==============================] - 0s 10ms/step - loss: 119.8859 - val_loss: 763.3684\n",
      "Epoch 106/500\n",
      "22/22 [==============================] - 0s 11ms/step - loss: 117.1309 - val_loss: 768.6314\n",
      "Epoch 107/500\n",
      "22/22 [==============================] - 0s 8ms/step - loss: 114.5557 - val_loss: 773.8244\n",
      "Epoch 108/500\n",
      "22/22 [==============================] - 0s 8ms/step - loss: 112.1484 - val_loss: 778.9459\n",
      "Epoch 109/500\n",
      "22/22 [==============================] - 0s 7ms/step - loss: 109.8981 - val_loss: 783.9927\n",
      "Epoch 110/500\n",
      "22/22 [==============================] - 0s 6ms/step - loss: 107.7950 - val_loss: 788.9637\n",
      "Epoch 111/500\n",
      "22/22 [==============================] - 0s 6ms/step - loss: 105.8300 - val_loss: 793.8553\n",
      "Epoch 112/500\n",
      "22/22 [==============================] - 0s 5ms/step - loss: 103.9945 - val_loss: 798.6660\n",
      "Epoch 113/500\n",
      "22/22 [==============================] - 0s 5ms/step - loss: 102.2808 - val_loss: 803.3933\n",
      "Epoch 114/500\n",
      "22/22 [==============================] - 0s 5ms/step - loss: 100.6813 - val_loss: 808.0355\n",
      "Epoch 115/500\n",
      "22/22 [==============================] - 0s 5ms/step - loss: 99.1893 - val_loss: 812.5901\n",
      "Epoch 116/500\n",
      "22/22 [==============================] - 0s 6ms/step - loss: 97.7982 - val_loss: 817.0555\n",
      "Epoch 117/500\n",
      "22/22 [==============================] - 0s 7ms/step - loss: 96.5019 - val_loss: 821.4307\n",
      "Epoch 118/500\n",
      "22/22 [==============================] - 0s 8ms/step - loss: 95.2947 - val_loss: 825.7141\n",
      "Epoch 119/500\n",
      "22/22 [==============================] - 0s 8ms/step - loss: 94.1710 - val_loss: 829.9040\n",
      "Epoch 120/500\n",
      "22/22 [==============================] - 0s 10ms/step - loss: 93.1257 - val_loss: 834.0002\n",
      "Epoch 121/500\n",
      "22/22 [==============================] - 0s 14ms/step - loss: 92.1540 - val_loss: 838.0013\n",
      "Epoch 122/500\n",
      "22/22 [==============================] - 0s 8ms/step - loss: 91.2512 - val_loss: 841.9068\n",
      "Epoch 123/500\n",
      "22/22 [==============================] - 0s 7ms/step - loss: 90.4131 - val_loss: 845.7159\n",
      "Epoch 124/500\n",
      "22/22 [==============================] - 0s 7ms/step - loss: 89.6355 - val_loss: 849.4290\n",
      "Epoch 125/500\n",
      "22/22 [==============================] - 0s 8ms/step - loss: 88.9145 - val_loss: 853.0449\n",
      "Epoch 126/500\n",
      "22/22 [==============================] - 0s 10ms/step - loss: 88.2464 - val_loss: 856.5643\n",
      "Epoch 127/500\n",
      "22/22 [==============================] - 0s 16ms/step - loss: 87.6279 - val_loss: 859.9869\n",
      "Epoch 128/500\n",
      "22/22 [==============================] - 0s 9ms/step - loss: 87.0557 - val_loss: 863.3137\n",
      "Epoch 129/500\n",
      "22/22 [==============================] - 0s 7ms/step - loss: 86.5265 - val_loss: 866.5441\n",
      "Epoch 130/500\n",
      "22/22 [==============================] - 0s 9ms/step - loss: 86.0377 - val_loss: 869.6794\n",
      "Epoch 131/500\n",
      "22/22 [==============================] - 0s 12ms/step - loss: 85.5863 - val_loss: 872.7200\n",
      "Epoch 132/500\n",
      "22/22 [==============================] - 0s 6ms/step - loss: 85.1699 - val_loss: 875.6671\n",
      "Epoch 133/500\n",
      "22/22 [==============================] - 0s 7ms/step - loss: 84.7860 - val_loss: 878.5209\n",
      "Epoch 134/500\n",
      "22/22 [==============================] - 0s 6ms/step - loss: 84.4323 - val_loss: 881.2832\n",
      "Epoch 135/500\n",
      "22/22 [==============================] - 0s 5ms/step - loss: 84.1066 - val_loss: 883.9541\n",
      "Epoch 136/500\n",
      "22/22 [==============================] - 0s 6ms/step - loss: 83.8071 - val_loss: 886.5361\n",
      "Epoch 137/500\n",
      "22/22 [==============================] - 0s 7ms/step - loss: 83.5317 - val_loss: 889.0295\n",
      "Epoch 138/500\n",
      "22/22 [==============================] - 0s 6ms/step - loss: 83.2787 - val_loss: 891.4359\n",
      "Epoch 139/500\n",
      "22/22 [==============================] - 0s 7ms/step - loss: 83.0465 - val_loss: 893.7571\n",
      "Epoch 140/500\n",
      "22/22 [==============================] - 0s 6ms/step - loss: 82.8334 - val_loss: 895.9944\n",
      "Epoch 141/500\n",
      "22/22 [==============================] - 0s 5ms/step - loss: 82.6381 - val_loss: 898.1491\n",
      "Epoch 142/500\n",
      "22/22 [==============================] - 0s 5ms/step - loss: 82.4592 - val_loss: 900.2238\n",
      "Epoch 143/500\n",
      "22/22 [==============================] - 0s 6ms/step - loss: 82.2954 - val_loss: 902.2188\n",
      "Epoch 144/500\n",
      "22/22 [==============================] - 0s 5ms/step - loss: 82.1456 - val_loss: 904.1369\n",
      "Epoch 145/500\n",
      "22/22 [==============================] - 0s 6ms/step - loss: 82.0087 - val_loss: 905.9793\n",
      "Epoch 146/500\n",
      "22/22 [==============================] - 0s 5ms/step - loss: 81.8835 - val_loss: 907.7489\n",
      "Epoch 147/500\n",
      "22/22 [==============================] - 0s 5ms/step - loss: 81.7693 - val_loss: 909.4460\n",
      "Epoch 148/500\n",
      "22/22 [==============================] - 0s 5ms/step - loss: 81.6650 - val_loss: 911.0729\n",
      "Epoch 149/500\n",
      "22/22 [==============================] - 0s 5ms/step - loss: 81.5700 - val_loss: 912.6315\n",
      "Epoch 150/500\n",
      "22/22 [==============================] - 0s 5ms/step - loss: 81.4833 - val_loss: 914.1244\n",
      "Epoch 151/500\n",
      "22/22 [==============================] - 0s 5ms/step - loss: 81.4045 - val_loss: 915.5530\n",
      "Epoch 152/500\n",
      "22/22 [==============================] - 0s 5ms/step - loss: 81.3327 - val_loss: 916.9188\n",
      "Epoch 153/500\n",
      "22/22 [==============================] - 0s 5ms/step - loss: 81.2673 - val_loss: 918.2245\n",
      "Epoch 154/500\n",
      "22/22 [==============================] - 0s 5ms/step - loss: 81.2080 - val_loss: 919.4707\n",
      "Epoch 155/500\n",
      "22/22 [==============================] - 0s 5ms/step - loss: 81.1541 - val_loss: 920.6606\n",
      "Epoch 156/500\n",
      "22/22 [==============================] - 0s 5ms/step - loss: 81.1050 - val_loss: 921.7953\n",
      "Epoch 157/500\n",
      "22/22 [==============================] - 0s 5ms/step - loss: 81.0606 - val_loss: 922.8766\n",
      "Epoch 158/500\n",
      "22/22 [==============================] - 0s 5ms/step - loss: 81.0203 - val_loss: 923.9070\n",
      "Epoch 159/500\n",
      "22/22 [==============================] - 0s 5ms/step - loss: 80.9837 - val_loss: 924.8873\n",
      "Epoch 160/500\n",
      "22/22 [==============================] - 0s 4ms/step - loss: 80.9506 - val_loss: 925.8207\n",
      "Epoch 161/500\n",
      "22/22 [==============================] - 0s 5ms/step - loss: 80.9206 - val_loss: 926.7075\n",
      "Epoch 162/500\n",
      "22/22 [==============================] - 0s 5ms/step - loss: 80.8933 - val_loss: 927.5499\n",
      "Epoch 163/500\n",
      "22/22 [==============================] - 0s 5ms/step - loss: 80.8688 - val_loss: 928.3503\n",
      "Epoch 164/500\n",
      "22/22 [==============================] - 0s 5ms/step - loss: 80.8466 - val_loss: 929.1092\n",
      "Epoch 165/500\n",
      "22/22 [==============================] - 0s 5ms/step - loss: 80.8264 - val_loss: 929.8289\n",
      "Epoch 166/500\n",
      "22/22 [==============================] - 0s 5ms/step - loss: 80.8083 - val_loss: 930.5112\n",
      "Epoch 167/500\n",
      "22/22 [==============================] - 0s 8ms/step - loss: 80.7919 - val_loss: 931.1573\n",
      "Epoch 168/500\n",
      "22/22 [==============================] - 0s 7ms/step - loss: 80.7771 - val_loss: 931.7685\n",
      "Epoch 169/500\n",
      "22/22 [==============================] - 0s 5ms/step - loss: 80.7637 - val_loss: 932.3472\n",
      "Epoch 170/500\n",
      "22/22 [==============================] - 0s 5ms/step - loss: 80.7517 - val_loss: 932.8932\n",
      "Epoch 171/500\n",
      "22/22 [==============================] - 0s 5ms/step - loss: 80.7409 - val_loss: 933.4094\n",
      "Epoch 172/500\n",
      "22/22 [==============================] - 0s 5ms/step - loss: 80.7311 - val_loss: 933.8968\n",
      "Epoch 173/500\n",
      "22/22 [==============================] - 0s 5ms/step - loss: 80.7223 - val_loss: 934.3563\n",
      "Epoch 174/500\n",
      "22/22 [==============================] - 0s 5ms/step - loss: 80.7145 - val_loss: 934.7897\n",
      "Epoch 175/500\n",
      "22/22 [==============================] - 0s 5ms/step - loss: 80.7074 - val_loss: 935.1979\n",
      "Epoch 176/500\n",
      "22/22 [==============================] - 0s 5ms/step - loss: 80.7011 - val_loss: 935.5823\n",
      "Epoch 177/500\n",
      "22/22 [==============================] - 0s 5ms/step - loss: 80.6954 - val_loss: 935.9439\n",
      "Epoch 178/500\n",
      "22/22 [==============================] - 0s 5ms/step - loss: 80.6903 - val_loss: 936.2836\n",
      "Epoch 179/500\n",
      "22/22 [==============================] - 0s 5ms/step - loss: 80.6858 - val_loss: 936.6031\n",
      "Epoch 180/500\n",
      "22/22 [==============================] - 0s 5ms/step - loss: 80.6818 - val_loss: 936.9028\n",
      "Epoch 181/500\n",
      "22/22 [==============================] - 0s 5ms/step - loss: 80.6782 - val_loss: 937.1843\n",
      "Epoch 182/500\n",
      "22/22 [==============================] - 0s 5ms/step - loss: 80.6750 - val_loss: 937.4483\n",
      "Epoch 183/500\n",
      "22/22 [==============================] - 0s 5ms/step - loss: 80.6722 - val_loss: 937.6956\n",
      "Epoch 184/500\n",
      "22/22 [==============================] - 0s 5ms/step - loss: 80.6697 - val_loss: 937.9266\n",
      "Epoch 185/500\n",
      "22/22 [==============================] - 0s 5ms/step - loss: 80.6676 - val_loss: 938.1434\n",
      "Epoch 186/500\n",
      "22/22 [==============================] - 0s 6ms/step - loss: 80.6657 - val_loss: 938.3460\n",
      "Epoch 187/500\n",
      "22/22 [==============================] - 0s 9ms/step - loss: 80.6641 - val_loss: 938.5350\n",
      "Epoch 188/500\n",
      "22/22 [==============================] - 0s 6ms/step - loss: 80.6627 - val_loss: 938.7115\n",
      "Epoch 189/500\n",
      "22/22 [==============================] - 0s 6ms/step - loss: 80.6615 - val_loss: 938.8766\n",
      "Epoch 190/500\n",
      "22/22 [==============================] - 0s 5ms/step - loss: 80.6605 - val_loss: 939.0303\n",
      "Epoch 191/500\n",
      "22/22 [==============================] - 0s 5ms/step - loss: 80.6597 - val_loss: 939.1732\n",
      "Epoch 192/500\n",
      "22/22 [==============================] - 0s 5ms/step - loss: 80.6590 - val_loss: 939.3065\n",
      "Epoch 193/500\n",
      "22/22 [==============================] - 0s 5ms/step - loss: 80.6585 - val_loss: 939.4305\n",
      "Epoch 194/500\n",
      "22/22 [==============================] - 0s 5ms/step - loss: 80.6582 - val_loss: 939.5457\n",
      "Epoch 195/500\n",
      "22/22 [==============================] - 0s 5ms/step - loss: 80.6579 - val_loss: 939.6526\n",
      "Epoch 196/500\n",
      "22/22 [==============================] - 0s 5ms/step - loss: 80.6578 - val_loss: 939.7518\n",
      "Epoch 197/500\n",
      "22/22 [==============================] - 0s 10ms/step - loss: 80.6577 - val_loss: 939.8439\n",
      "Epoch 198/500\n",
      "22/22 [==============================] - 0s 5ms/step - loss: 80.6578 - val_loss: 939.9290\n",
      "Epoch 199/500\n",
      "22/22 [==============================] - 0s 5ms/step - loss: 80.6579 - val_loss: 940.0079\n",
      "Epoch 200/500\n",
      "22/22 [==============================] - 0s 5ms/step - loss: 80.6581 - val_loss: 940.0807\n",
      "Epoch 201/500\n",
      "22/22 [==============================] - 0s 5ms/step - loss: 80.6584 - val_loss: 940.1482\n",
      "Epoch 202/500\n",
      "22/22 [==============================] - 0s 5ms/step - loss: 80.6588 - val_loss: 940.2102\n",
      "Epoch 203/500\n",
      "22/22 [==============================] - 0s 5ms/step - loss: 80.6592 - val_loss: 940.2675\n",
      "Epoch 204/500\n",
      "22/22 [==============================] - 0s 5ms/step - loss: 80.6597 - val_loss: 940.3202\n",
      "Epoch 205/500\n",
      "22/22 [==============================] - 0s 5ms/step - loss: 80.6602 - val_loss: 940.3686\n",
      "Epoch 206/500\n",
      "22/22 [==============================] - 0s 5ms/step - loss: 80.6607 - val_loss: 940.4128\n",
      "Epoch 207/500\n",
      "22/22 [==============================] - 0s 5ms/step - loss: 80.6614 - val_loss: 940.4534\n",
      "Epoch 208/500\n",
      "22/22 [==============================] - 0s 5ms/step - loss: 80.6620 - val_loss: 940.4907\n",
      "Epoch 209/500\n",
      "22/22 [==============================] - 0s 5ms/step - loss: 80.6627 - val_loss: 940.5252\n",
      "Epoch 210/500\n",
      "22/22 [==============================] - 0s 5ms/step - loss: 80.6634 - val_loss: 940.5565\n",
      "Epoch 211/500\n",
      "22/22 [==============================] - 0s 5ms/step - loss: 80.6641 - val_loss: 940.5851\n",
      "Epoch 212/500\n",
      "22/22 [==============================] - 0s 5ms/step - loss: 80.6649 - val_loss: 940.6110\n",
      "Epoch 213/500\n",
      "22/22 [==============================] - 0s 5ms/step - loss: 80.6657 - val_loss: 940.6344\n",
      "Epoch 214/500\n",
      "22/22 [==============================] - 0s 5ms/step - loss: 80.6665 - val_loss: 940.6561\n",
      "Epoch 215/500\n",
      "22/22 [==============================] - 0s 5ms/step - loss: 80.6673 - val_loss: 940.6755\n",
      "Epoch 216/500\n",
      "22/22 [==============================] - 0s 5ms/step - loss: 80.6681 - val_loss: 940.6931\n",
      "Epoch 217/500\n",
      "22/22 [==============================] - 0s 5ms/step - loss: 80.6690 - val_loss: 940.7084\n",
      "Epoch 218/500\n",
      "22/22 [==============================] - 0s 5ms/step - loss: 80.6698 - val_loss: 940.7222\n",
      "Epoch 219/500\n",
      "22/22 [==============================] - 0s 5ms/step - loss: 80.6707 - val_loss: 940.7354\n",
      "Epoch 220/500\n",
      "22/22 [==============================] - 0s 5ms/step - loss: 80.6716 - val_loss: 940.7463\n",
      "Epoch 221/500\n",
      "22/22 [==============================] - 0s 5ms/step - loss: 80.6725 - val_loss: 940.7564\n",
      "Epoch 222/500\n",
      "22/22 [==============================] - 0s 5ms/step - loss: 80.6734 - val_loss: 940.7648\n",
      "Epoch 223/500\n",
      "22/22 [==============================] - 0s 5ms/step - loss: 80.6743 - val_loss: 940.7728\n",
      "Epoch 224/500\n",
      "22/22 [==============================] - 0s 5ms/step - loss: 80.6752 - val_loss: 940.7793\n",
      "Epoch 225/500\n",
      "22/22 [==============================] - 0s 5ms/step - loss: 80.6761 - val_loss: 940.7853\n",
      "Epoch 226/500\n",
      "22/22 [==============================] - 0s 12ms/step - loss: 80.6770 - val_loss: 940.7902\n",
      "Epoch 227/500\n",
      "22/22 [==============================] - 0s 6ms/step - loss: 80.6780 - val_loss: 940.7940\n",
      "Epoch 228/500\n",
      "22/22 [==============================] - 0s 5ms/step - loss: 80.6789 - val_loss: 940.7980\n",
      "Epoch 229/500\n",
      "22/22 [==============================] - 0s 5ms/step - loss: 80.6798 - val_loss: 940.8006\n",
      "Epoch 230/500\n",
      "22/22 [==============================] - 0s 5ms/step - loss: 80.6807 - val_loss: 940.8032\n",
      "Epoch 231/500\n",
      "22/22 [==============================] - 0s 5ms/step - loss: 80.6816 - val_loss: 940.8044\n",
      "Epoch 232/500\n",
      "22/22 [==============================] - 0s 5ms/step - loss: 80.6825 - val_loss: 940.8057\n",
      "Epoch 233/500\n",
      "22/22 [==============================] - 0s 5ms/step - loss: 80.6834 - val_loss: 940.8065\n",
      "Epoch 234/500\n",
      "22/22 [==============================] - 0s 5ms/step - loss: 80.6844 - val_loss: 940.8071\n",
      "Epoch 235/500\n",
      "22/22 [==============================] - 0s 5ms/step - loss: 80.6852 - val_loss: 940.8066\n",
      "Epoch 236/500\n",
      "22/22 [==============================] - 0s 5ms/step - loss: 80.6861 - val_loss: 940.8061\n",
      "Epoch 237/500\n",
      "22/22 [==============================] - 0s 5ms/step - loss: 80.6870 - val_loss: 940.8054\n",
      "Epoch 238/500\n",
      "22/22 [==============================] - 0s 5ms/step - loss: 80.6879 - val_loss: 940.8044\n",
      "Epoch 239/500\n",
      "22/22 [==============================] - 0s 5ms/step - loss: 80.6888 - val_loss: 940.8029\n",
      "Epoch 240/500\n",
      "22/22 [==============================] - 0s 5ms/step - loss: 80.6897 - val_loss: 940.8011\n",
      "Epoch 241/500\n",
      "22/22 [==============================] - 0s 5ms/step - loss: 80.6905 - val_loss: 940.7994\n",
      "Epoch 242/500\n",
      "22/22 [==============================] - 0s 5ms/step - loss: 80.6914 - val_loss: 940.7977\n",
      "Epoch 243/500\n",
      "22/22 [==============================] - 0s 5ms/step - loss: 80.6922 - val_loss: 940.7953\n",
      "Epoch 244/500\n",
      "22/22 [==============================] - 0s 7ms/step - loss: 80.6931 - val_loss: 940.7930\n",
      "Epoch 245/500\n",
      "22/22 [==============================] - 0s 7ms/step - loss: 80.6939 - val_loss: 940.7905\n",
      "Epoch 246/500\n",
      "22/22 [==============================] - 0s 5ms/step - loss: 80.6947 - val_loss: 940.7880\n",
      "Epoch 247/500\n",
      "22/22 [==============================] - 0s 5ms/step - loss: 80.6956 - val_loss: 940.7850\n",
      "Epoch 248/500\n",
      "22/22 [==============================] - 0s 5ms/step - loss: 80.6963 - val_loss: 940.7817\n",
      "Epoch 249/500\n",
      "22/22 [==============================] - 0s 4ms/step - loss: 80.6972 - val_loss: 940.7785\n",
      "Epoch 250/500\n",
      "22/22 [==============================] - 0s 5ms/step - loss: 80.6980 - val_loss: 940.7755\n",
      "Epoch 251/500\n",
      "22/22 [==============================] - 0s 5ms/step - loss: 80.6988 - val_loss: 940.7720\n",
      "Epoch 252/500\n",
      "22/22 [==============================] - 0s 5ms/step - loss: 80.6995 - val_loss: 940.7679\n",
      "Epoch 253/500\n",
      "22/22 [==============================] - 0s 9ms/step - loss: 80.7003 - val_loss: 940.7647\n",
      "Epoch 254/500\n",
      "22/22 [==============================] - 0s 6ms/step - loss: 80.7010 - val_loss: 940.7607\n",
      "Epoch 255/500\n",
      "22/22 [==============================] - 0s 5ms/step - loss: 80.7018 - val_loss: 940.7568\n",
      "Epoch 256/500\n",
      "22/22 [==============================] - 0s 5ms/step - loss: 80.7026 - val_loss: 940.7527\n",
      "Epoch 257/500\n",
      "22/22 [==============================] - 0s 5ms/step - loss: 80.7033 - val_loss: 940.7486\n",
      "Epoch 258/500\n",
      "22/22 [==============================] - 0s 5ms/step - loss: 80.7040 - val_loss: 940.7444\n",
      "Epoch 259/500\n",
      "22/22 [==============================] - 0s 5ms/step - loss: 80.7047 - val_loss: 940.7390\n",
      "Epoch 260/500\n",
      "22/22 [==============================] - 0s 5ms/step - loss: 80.7054 - val_loss: 940.7339\n",
      "Epoch 261/500\n",
      "22/22 [==============================] - 0s 5ms/step - loss: 80.7062 - val_loss: 940.7280\n",
      "Epoch 262/500\n",
      "22/22 [==============================] - 0s 5ms/step - loss: 80.7068 - val_loss: 940.7220\n",
      "Epoch 263/500\n",
      "22/22 [==============================] - 0s 5ms/step - loss: 80.7075 - val_loss: 940.7148\n",
      "Epoch 264/500\n",
      "22/22 [==============================] - 0s 5ms/step - loss: 80.7082 - val_loss: 940.7058\n",
      "Epoch 265/500\n",
      "22/22 [==============================] - 0s 5ms/step - loss: 80.7088 - val_loss: 940.6841\n",
      "Epoch 266/500\n",
      "22/22 [==============================] - 0s 5ms/step - loss: 80.7095 - val_loss: 937.7353\n",
      "Epoch 267/500\n",
      "22/22 [==============================] - 0s 5ms/step - loss: 80.9406 - val_loss: 938.3698\n",
      "Epoch 268/500\n",
      "22/22 [==============================] - 0s 5ms/step - loss: 80.7897 - val_loss: 938.7077\n",
      "Epoch 269/500\n",
      "22/22 [==============================] - 0s 5ms/step - loss: 80.7706 - val_loss: 938.9381\n",
      "Epoch 270/500\n",
      "22/22 [==============================] - 0s 5ms/step - loss: 80.7625 - val_loss: 939.1337\n",
      "Epoch 271/500\n",
      "22/22 [==============================] - 0s 5ms/step - loss: 80.7571 - val_loss: 939.3054\n",
      "Epoch 272/500\n",
      "22/22 [==============================] - 0s 6ms/step - loss: 80.7530 - val_loss: 939.4568\n",
      "Epoch 273/500\n",
      "22/22 [==============================] - 0s 6ms/step - loss: 80.7497 - val_loss: 939.5907\n",
      "Epoch 274/500\n",
      "22/22 [==============================] - 0s 5ms/step - loss: 80.7471 - val_loss: 939.7097\n",
      "Epoch 275/500\n",
      "22/22 [==============================] - 0s 5ms/step - loss: 80.7448 - val_loss: 939.8149\n",
      "Epoch 276/500\n",
      "22/22 [==============================] - 0s 7ms/step - loss: 80.7430 - val_loss: 939.9088\n",
      "Epoch 277/500\n",
      "22/22 [==============================] - 0s 7ms/step - loss: 80.7415 - val_loss: 939.9923\n",
      "Epoch 278/500\n",
      "22/22 [==============================] - 0s 6ms/step - loss: 80.7402 - val_loss: 940.0664\n",
      "Epoch 279/500\n",
      "22/22 [==============================] - 0s 5ms/step - loss: 80.7391 - val_loss: 940.1322\n",
      "Epoch 280/500\n",
      "22/22 [==============================] - 0s 5ms/step - loss: 80.7382 - val_loss: 940.1906\n",
      "Epoch 281/500\n",
      "22/22 [==============================] - 0s 5ms/step - loss: 80.7375 - val_loss: 940.2423\n",
      "Epoch 282/500\n",
      "22/22 [==============================] - 0s 5ms/step - loss: 80.7369 - val_loss: 940.2884\n",
      "Epoch 283/500\n",
      "22/22 [==============================] - 0s 10ms/step - loss: 80.7364 - val_loss: 940.3299\n",
      "Epoch 284/500\n",
      "22/22 [==============================] - 0s 6ms/step - loss: 80.7360 - val_loss: 940.3660\n",
      "Epoch 285/500\n",
      "22/22 [==============================] - 0s 5ms/step - loss: 80.7357 - val_loss: 940.3987\n",
      "Epoch 286/500\n",
      "22/22 [==============================] - 0s 5ms/step - loss: 80.7354 - val_loss: 940.4276\n",
      "Epoch 287/500\n",
      "22/22 [==============================] - 0s 5ms/step - loss: 80.7353 - val_loss: 940.4525\n",
      "Epoch 288/500\n",
      "22/22 [==============================] - 0s 5ms/step - loss: 80.7351 - val_loss: 940.4752\n",
      "Epoch 289/500\n",
      "22/22 [==============================] - 0s 5ms/step - loss: 80.7350 - val_loss: 940.4949\n",
      "Epoch 290/500\n",
      "22/22 [==============================] - 0s 5ms/step - loss: 80.7350 - val_loss: 940.5123\n",
      "Epoch 291/500\n",
      "22/22 [==============================] - 0s 5ms/step - loss: 80.7350 - val_loss: 940.5278\n",
      "Epoch 292/500\n",
      "22/22 [==============================] - 0s 5ms/step - loss: 80.7351 - val_loss: 940.5411\n",
      "Epoch 293/500\n",
      "22/22 [==============================] - 0s 5ms/step - loss: 80.7351 - val_loss: 940.5536\n",
      "Epoch 294/500\n",
      "22/22 [==============================] - 0s 5ms/step - loss: 80.7352 - val_loss: 940.5639\n",
      "Epoch 295/500\n",
      "22/22 [==============================] - 0s 5ms/step - loss: 80.7354 - val_loss: 940.5737\n",
      "Epoch 296/500\n",
      "22/22 [==============================] - 0s 5ms/step - loss: 80.7355 - val_loss: 940.5817\n",
      "Epoch 297/500\n",
      "22/22 [==============================] - 0s 5ms/step - loss: 80.7357 - val_loss: 940.5887\n",
      "Epoch 298/500\n",
      "22/22 [==============================] - 0s 5ms/step - loss: 80.7359 - val_loss: 940.5951\n",
      "Epoch 299/500\n",
      "22/22 [==============================] - 0s 5ms/step - loss: 80.7360 - val_loss: 940.6005\n",
      "Epoch 300/500\n",
      "22/22 [==============================] - 0s 5ms/step - loss: 80.7362 - val_loss: 940.6053\n",
      "Epoch 301/500\n",
      "22/22 [==============================] - 0s 5ms/step - loss: 80.7364 - val_loss: 940.6097\n",
      "Epoch 302/500\n",
      "22/22 [==============================] - 0s 5ms/step - loss: 80.7366 - val_loss: 940.6136\n",
      "Epoch 303/500\n",
      "22/22 [==============================] - 0s 5ms/step - loss: 80.7368 - val_loss: 940.6163\n",
      "Epoch 304/500\n",
      "22/22 [==============================] - 0s 5ms/step - loss: 80.7370 - val_loss: 940.6190\n",
      "Epoch 305/500\n",
      "22/22 [==============================] - 0s 5ms/step - loss: 80.7372 - val_loss: 940.6213\n",
      "Epoch 306/500\n",
      "22/22 [==============================] - 0s 5ms/step - loss: 80.7374 - val_loss: 940.6229\n",
      "Epoch 307/500\n",
      "22/22 [==============================] - 0s 5ms/step - loss: 80.7377 - val_loss: 940.6245\n",
      "Epoch 308/500\n",
      "22/22 [==============================] - 0s 10ms/step - loss: 80.7379 - val_loss: 940.6257\n",
      "Epoch 309/500\n",
      "22/22 [==============================] - 0s 5ms/step - loss: 80.7381 - val_loss: 940.6268\n",
      "Epoch 310/500\n",
      "22/22 [==============================] - 0s 5ms/step - loss: 80.7383 - val_loss: 940.6276\n",
      "Epoch 311/500\n",
      "22/22 [==============================] - 0s 5ms/step - loss: 80.7386 - val_loss: 940.6277\n",
      "Epoch 312/500\n",
      "22/22 [==============================] - 0s 5ms/step - loss: 80.7388 - val_loss: 940.6282\n",
      "Epoch 313/500\n",
      "22/22 [==============================] - 0s 5ms/step - loss: 80.7390 - val_loss: 940.6282\n",
      "Epoch 314/500\n",
      "22/22 [==============================] - 0s 5ms/step - loss: 80.7393 - val_loss: 940.6286\n",
      "Epoch 315/500\n",
      "22/22 [==============================] - 0s 5ms/step - loss: 80.7395 - val_loss: 940.6285\n",
      "Epoch 316/500\n",
      "22/22 [==============================] - 0s 5ms/step - loss: 80.7397 - val_loss: 940.6286\n",
      "Epoch 317/500\n",
      "22/22 [==============================] - 0s 5ms/step - loss: 80.7399 - val_loss: 940.6284\n",
      "Epoch 318/500\n",
      "22/22 [==============================] - 0s 5ms/step - loss: 80.7401 - val_loss: 940.6283\n",
      "Epoch 319/500\n",
      "22/22 [==============================] - 0s 5ms/step - loss: 80.7403 - val_loss: 940.6279\n",
      "Epoch 320/500\n",
      "22/22 [==============================] - 0s 5ms/step - loss: 80.7406 - val_loss: 940.6274\n",
      "Epoch 321/500\n",
      "22/22 [==============================] - 0s 5ms/step - loss: 80.7408 - val_loss: 940.6271\n",
      "Epoch 322/500\n",
      "22/22 [==============================] - 0s 5ms/step - loss: 80.7410 - val_loss: 940.6268\n",
      "Epoch 323/500\n",
      "22/22 [==============================] - 0s 5ms/step - loss: 80.7412 - val_loss: 940.6260\n",
      "Epoch 324/500\n",
      "22/22 [==============================] - 0s 5ms/step - loss: 80.7414 - val_loss: 940.6252\n",
      "Epoch 325/500\n",
      "22/22 [==============================] - 0s 5ms/step - loss: 80.7416 - val_loss: 940.6248\n",
      "Epoch 326/500\n",
      "22/22 [==============================] - 0s 5ms/step - loss: 80.7417 - val_loss: 940.6244\n",
      "Epoch 327/500\n",
      "22/22 [==============================] - 0s 5ms/step - loss: 80.7420 - val_loss: 940.6239\n",
      "Epoch 328/500\n",
      "22/22 [==============================] - 0s 5ms/step - loss: 80.7421 - val_loss: 940.6231\n",
      "Epoch 329/500\n",
      "22/22 [==============================] - 0s 5ms/step - loss: 80.7423 - val_loss: 940.6229\n",
      "Epoch 330/500\n",
      "22/22 [==============================] - 0s 5ms/step - loss: 80.7425 - val_loss: 940.6223\n",
      "Epoch 331/500\n",
      "22/22 [==============================] - 0s 4ms/step - loss: 80.7427 - val_loss: 940.6216\n",
      "Epoch 332/500\n",
      "22/22 [==============================] - 0s 10ms/step - loss: 80.7429 - val_loss: 940.6211\n",
      "Epoch 333/500\n",
      "22/22 [==============================] - 0s 5ms/step - loss: 80.7430 - val_loss: 940.6205\n",
      "Epoch 334/500\n",
      "22/22 [==============================] - 0s 5ms/step - loss: 80.7432 - val_loss: 940.6198\n",
      "Epoch 335/500\n",
      "22/22 [==============================] - 0s 5ms/step - loss: 80.7434 - val_loss: 940.6193\n",
      "Epoch 336/500\n",
      "22/22 [==============================] - 0s 5ms/step - loss: 80.7435 - val_loss: 940.6187\n",
      "Epoch 337/500\n",
      "22/22 [==============================] - 0s 5ms/step - loss: 80.7437 - val_loss: 940.6185\n",
      "Epoch 338/500\n",
      "22/22 [==============================] - 0s 5ms/step - loss: 80.7439 - val_loss: 940.6178\n",
      "Epoch 339/500\n",
      "22/22 [==============================] - 0s 5ms/step - loss: 80.7440 - val_loss: 940.6172\n",
      "Epoch 340/500\n",
      "22/22 [==============================] - 0s 4ms/step - loss: 80.7442 - val_loss: 940.6166\n",
      "Epoch 341/500\n",
      "22/22 [==============================] - 0s 5ms/step - loss: 80.7443 - val_loss: 940.6160\n",
      "Epoch 342/500\n",
      "22/22 [==============================] - 0s 5ms/step - loss: 80.7445 - val_loss: 940.6154\n",
      "Epoch 343/500\n",
      "22/22 [==============================] - 0s 5ms/step - loss: 80.7446 - val_loss: 940.6144\n",
      "Epoch 344/500\n",
      "22/22 [==============================] - 0s 4ms/step - loss: 80.7448 - val_loss: 940.6140\n",
      "Epoch 345/500\n",
      "22/22 [==============================] - 0s 5ms/step - loss: 80.7449 - val_loss: 940.6136\n",
      "Epoch 346/500\n",
      "22/22 [==============================] - 0s 5ms/step - loss: 80.7450 - val_loss: 940.6132\n",
      "Epoch 347/500\n",
      "22/22 [==============================] - 0s 8ms/step - loss: 80.7451 - val_loss: 940.6127\n",
      "Epoch 348/500\n",
      "22/22 [==============================] - 0s 6ms/step - loss: 80.7453 - val_loss: 940.6121\n",
      "Epoch 349/500\n",
      "22/22 [==============================] - 0s 5ms/step - loss: 80.7455 - val_loss: 940.6121\n",
      "Epoch 350/500\n",
      "22/22 [==============================] - 0s 5ms/step - loss: 80.7456 - val_loss: 940.6115\n",
      "Epoch 351/500\n",
      "22/22 [==============================] - 0s 5ms/step - loss: 80.7456 - val_loss: 940.6105\n",
      "Epoch 352/500\n",
      "22/22 [==============================] - 0s 5ms/step - loss: 80.7458 - val_loss: 940.6099\n",
      "Epoch 353/500\n",
      "22/22 [==============================] - 0s 5ms/step - loss: 80.7459 - val_loss: 940.6096\n",
      "Epoch 354/500\n",
      "22/22 [==============================] - 0s 5ms/step - loss: 80.7460 - val_loss: 940.6093\n",
      "Epoch 355/500\n",
      "22/22 [==============================] - 0s 10ms/step - loss: 80.7461 - val_loss: 940.6091\n",
      "Epoch 356/500\n",
      "22/22 [==============================] - 0s 7ms/step - loss: 80.7462 - val_loss: 940.6084\n",
      "Epoch 357/500\n",
      "22/22 [==============================] - 0s 5ms/step - loss: 80.7464 - val_loss: 940.6082\n",
      "Epoch 358/500\n",
      "22/22 [==============================] - 0s 6ms/step - loss: 80.7465 - val_loss: 940.6074\n",
      "Epoch 359/500\n",
      "22/22 [==============================] - 0s 6ms/step - loss: 80.7466 - val_loss: 940.6070\n",
      "Epoch 360/500\n",
      "22/22 [==============================] - 0s 6ms/step - loss: 80.7467 - val_loss: 940.6064\n",
      "Epoch 361/500\n",
      "22/22 [==============================] - 0s 5ms/step - loss: 80.7468 - val_loss: 940.6064\n",
      "Epoch 362/500\n",
      "22/22 [==============================] - 0s 5ms/step - loss: 80.7469 - val_loss: 940.6055\n",
      "Epoch 363/500\n",
      "22/22 [==============================] - 0s 5ms/step - loss: 80.7470 - val_loss: 940.6048\n",
      "Epoch 364/500\n",
      "22/22 [==============================] - 0s 4ms/step - loss: 80.7471 - val_loss: 940.6045\n",
      "Epoch 365/500\n",
      "22/22 [==============================] - 0s 7ms/step - loss: 80.7472 - val_loss: 940.6038\n",
      "Epoch 366/500\n",
      "22/22 [==============================] - 0s 5ms/step - loss: 80.7473 - val_loss: 940.6036\n",
      "Epoch 367/500\n",
      "22/22 [==============================] - 0s 5ms/step - loss: 80.7474 - val_loss: 940.6036\n",
      "Epoch 368/500\n",
      "22/22 [==============================] - 0s 5ms/step - loss: 80.7475 - val_loss: 940.6031\n",
      "Epoch 369/500\n",
      "22/22 [==============================] - 0s 5ms/step - loss: 80.7475 - val_loss: 940.6026\n",
      "Epoch 370/500\n",
      "22/22 [==============================] - 0s 5ms/step - loss: 80.7476 - val_loss: 940.6022\n",
      "Epoch 371/500\n",
      "22/22 [==============================] - 0s 5ms/step - loss: 80.7477 - val_loss: 940.6016\n",
      "Epoch 372/500\n",
      "22/22 [==============================] - 0s 5ms/step - loss: 80.7478 - val_loss: 940.6008\n",
      "Epoch 373/500\n",
      "22/22 [==============================] - 0s 5ms/step - loss: 80.7478 - val_loss: 940.6005\n",
      "Epoch 374/500\n",
      "22/22 [==============================] - 0s 5ms/step - loss: 80.7479 - val_loss: 940.6001\n",
      "Epoch 375/500\n",
      "22/22 [==============================] - 0s 5ms/step - loss: 80.7480 - val_loss: 940.5997\n",
      "Epoch 376/500\n",
      "22/22 [==============================] - 0s 5ms/step - loss: 80.7481 - val_loss: 940.5992\n",
      "Epoch 377/500\n",
      "22/22 [==============================] - 0s 10ms/step - loss: 80.7482 - val_loss: 940.5991\n",
      "Epoch 378/500\n",
      "22/22 [==============================] - 0s 5ms/step - loss: 80.7483 - val_loss: 940.5989\n",
      "Epoch 379/500\n",
      "22/22 [==============================] - 0s 5ms/step - loss: 80.7483 - val_loss: 940.5986\n",
      "Epoch 380/500\n",
      "22/22 [==============================] - 0s 5ms/step - loss: 80.7484 - val_loss: 940.5983\n",
      "Epoch 381/500\n",
      "22/22 [==============================] - 0s 5ms/step - loss: 80.7485 - val_loss: 940.5980\n",
      "Epoch 382/500\n",
      "22/22 [==============================] - 0s 5ms/step - loss: 80.7485 - val_loss: 940.5980\n",
      "Epoch 383/500\n",
      "22/22 [==============================] - 0s 5ms/step - loss: 80.7486 - val_loss: 940.5978\n",
      "Epoch 384/500\n",
      "22/22 [==============================] - 0s 5ms/step - loss: 80.7486 - val_loss: 940.5976\n",
      "Epoch 385/500\n",
      "22/22 [==============================] - 0s 5ms/step - loss: 80.7487 - val_loss: 940.5974\n",
      "Epoch 386/500\n",
      "22/22 [==============================] - 0s 5ms/step - loss: 80.7488 - val_loss: 940.5970\n",
      "Epoch 387/500\n",
      "22/22 [==============================] - 0s 5ms/step - loss: 80.7488 - val_loss: 940.5967\n",
      "Epoch 388/500\n",
      "22/22 [==============================] - 0s 5ms/step - loss: 80.7489 - val_loss: 940.5963\n",
      "Epoch 389/500\n",
      "22/22 [==============================] - 0s 5ms/step - loss: 80.7490 - val_loss: 940.5963\n",
      "Epoch 390/500\n",
      "22/22 [==============================] - 0s 5ms/step - loss: 80.7490 - val_loss: 940.5960\n",
      "Epoch 391/500\n",
      "22/22 [==============================] - 0s 5ms/step - loss: 80.7491 - val_loss: 940.5959\n",
      "Epoch 392/500\n",
      "22/22 [==============================] - 0s 5ms/step - loss: 80.7491 - val_loss: 940.5953\n",
      "Epoch 393/500\n",
      "22/22 [==============================] - 0s 5ms/step - loss: 80.7492 - val_loss: 940.5953\n",
      "Epoch 394/500\n",
      "22/22 [==============================] - 0s 8ms/step - loss: 80.7492 - val_loss: 940.5951\n",
      "Epoch 395/500\n",
      "22/22 [==============================] - 0s 6ms/step - loss: 80.7492 - val_loss: 940.5948\n",
      "Epoch 396/500\n",
      "22/22 [==============================] - 0s 5ms/step - loss: 80.7493 - val_loss: 940.5945\n",
      "Epoch 397/500\n",
      "22/22 [==============================] - 0s 5ms/step - loss: 80.7493 - val_loss: 940.5940\n",
      "Epoch 398/500\n",
      "22/22 [==============================] - 0s 11ms/step - loss: 80.7494 - val_loss: 940.5936\n",
      "Epoch 399/500\n",
      "22/22 [==============================] - 0s 6ms/step - loss: 80.7495 - val_loss: 940.5936\n",
      "Epoch 400/500\n",
      "22/22 [==============================] - 0s 6ms/step - loss: 80.7495 - val_loss: 940.5935\n",
      "Epoch 401/500\n",
      "22/22 [==============================] - 0s 5ms/step - loss: 80.7495 - val_loss: 940.5935\n",
      "Epoch 402/500\n",
      "22/22 [==============================] - 0s 6ms/step - loss: 80.7496 - val_loss: 940.5934\n",
      "Epoch 403/500\n",
      "22/22 [==============================] - 0s 5ms/step - loss: 80.7496 - val_loss: 940.5935\n",
      "Epoch 404/500\n",
      "22/22 [==============================] - 0s 5ms/step - loss: 80.7497 - val_loss: 940.5934\n",
      "Epoch 405/500\n",
      "22/22 [==============================] - 0s 5ms/step - loss: 80.7497 - val_loss: 940.5932\n",
      "Epoch 406/500\n",
      "22/22 [==============================] - 0s 5ms/step - loss: 80.7497 - val_loss: 940.5927\n",
      "Epoch 407/500\n",
      "22/22 [==============================] - 0s 5ms/step - loss: 80.7497 - val_loss: 940.5925\n",
      "Epoch 408/500\n",
      "22/22 [==============================] - 0s 5ms/step - loss: 80.7498 - val_loss: 940.5925\n",
      "Epoch 409/500\n",
      "22/22 [==============================] - 0s 5ms/step - loss: 80.7499 - val_loss: 940.5923\n",
      "Epoch 410/500\n",
      "22/22 [==============================] - 0s 5ms/step - loss: 80.7499 - val_loss: 940.5920\n",
      "Epoch 411/500\n",
      "22/22 [==============================] - 0s 5ms/step - loss: 80.7499 - val_loss: 940.5916\n",
      "Epoch 412/500\n",
      "22/22 [==============================] - 0s 5ms/step - loss: 80.7500 - val_loss: 940.5916\n",
      "Epoch 413/500\n",
      "22/22 [==============================] - 0s 5ms/step - loss: 80.7500 - val_loss: 940.5914\n",
      "Epoch 414/500\n",
      "22/22 [==============================] - 0s 5ms/step - loss: 80.7500 - val_loss: 940.5914\n",
      "Epoch 415/500\n",
      "22/22 [==============================] - 0s 5ms/step - loss: 80.7500 - val_loss: 940.5911\n",
      "Epoch 416/500\n",
      "22/22 [==============================] - 0s 5ms/step - loss: 80.7501 - val_loss: 940.5909\n",
      "Epoch 417/500\n",
      "22/22 [==============================] - 0s 5ms/step - loss: 80.7501 - val_loss: 940.5909\n",
      "Epoch 418/500\n",
      "22/22 [==============================] - 0s 5ms/step - loss: 80.7502 - val_loss: 940.5911\n",
      "Epoch 419/500\n",
      "22/22 [==============================] - 0s 9ms/step - loss: 80.7502 - val_loss: 940.5907\n",
      "Epoch 420/500\n",
      "22/22 [==============================] - 0s 5ms/step - loss: 80.7502 - val_loss: 940.5905\n",
      "Epoch 421/500\n",
      "22/22 [==============================] - 0s 5ms/step - loss: 80.7502 - val_loss: 940.5903\n",
      "Epoch 422/500\n",
      "22/22 [==============================] - 0s 5ms/step - loss: 80.7503 - val_loss: 940.5901\n",
      "Epoch 423/500\n",
      "22/22 [==============================] - 0s 5ms/step - loss: 80.7503 - val_loss: 940.5900\n",
      "Epoch 424/500\n",
      "22/22 [==============================] - 0s 5ms/step - loss: 80.7503 - val_loss: 940.5895\n",
      "Epoch 425/500\n",
      "22/22 [==============================] - 0s 5ms/step - loss: 80.7503 - val_loss: 940.5895\n",
      "Epoch 426/500\n",
      "22/22 [==============================] - 0s 5ms/step - loss: 80.7504 - val_loss: 940.5893\n",
      "Epoch 427/500\n",
      "22/22 [==============================] - 0s 5ms/step - loss: 80.7504 - val_loss: 940.5889\n",
      "Epoch 428/500\n",
      "22/22 [==============================] - 0s 4ms/step - loss: 80.7504 - val_loss: 940.5886\n",
      "Epoch 429/500\n",
      "22/22 [==============================] - 0s 5ms/step - loss: 80.7505 - val_loss: 940.5884\n",
      "Epoch 430/500\n",
      "22/22 [==============================] - 0s 5ms/step - loss: 80.7505 - val_loss: 940.5882\n",
      "Epoch 431/500\n",
      "22/22 [==============================] - 0s 5ms/step - loss: 80.7505 - val_loss: 940.5880\n",
      "Epoch 432/500\n",
      "22/22 [==============================] - 0s 5ms/step - loss: 80.7505 - val_loss: 940.5878\n",
      "Epoch 433/500\n",
      "22/22 [==============================] - 0s 5ms/step - loss: 80.7505 - val_loss: 940.5878\n",
      "Epoch 434/500\n",
      "22/22 [==============================] - 0s 5ms/step - loss: 80.7506 - val_loss: 940.5878\n",
      "Epoch 435/500\n",
      "22/22 [==============================] - 0s 5ms/step - loss: 80.7506 - val_loss: 940.5878\n",
      "Epoch 436/500\n",
      "22/22 [==============================] - 0s 6ms/step - loss: 80.7506 - val_loss: 940.5878\n",
      "Epoch 437/500\n",
      "22/22 [==============================] - 0s 5ms/step - loss: 80.7506 - val_loss: 940.5877\n",
      "Epoch 438/500\n",
      "22/22 [==============================] - 0s 5ms/step - loss: 80.7506 - val_loss: 940.5877\n",
      "Epoch 439/500\n",
      "22/22 [==============================] - 0s 10ms/step - loss: 80.7507 - val_loss: 940.5872\n",
      "Epoch 440/500\n",
      "22/22 [==============================] - 0s 8ms/step - loss: 80.7507 - val_loss: 940.5872\n",
      "Epoch 441/500\n",
      "22/22 [==============================] - 0s 5ms/step - loss: 80.7507 - val_loss: 940.5868\n",
      "Epoch 442/500\n",
      "22/22 [==============================] - 0s 5ms/step - loss: 80.7507 - val_loss: 940.5867\n",
      "Epoch 443/500\n",
      "22/22 [==============================] - 0s 5ms/step - loss: 80.7507 - val_loss: 940.5864\n",
      "Epoch 444/500\n",
      "22/22 [==============================] - 0s 5ms/step - loss: 80.7508 - val_loss: 940.5862\n",
      "Epoch 445/500\n",
      "22/22 [==============================] - 0s 8ms/step - loss: 80.7508 - val_loss: 940.5862\n",
      "Epoch 446/500\n",
      "22/22 [==============================] - 0s 7ms/step - loss: 80.7508 - val_loss: 940.5864\n",
      "Epoch 447/500\n",
      "22/22 [==============================] - 0s 7ms/step - loss: 80.7508 - val_loss: 940.5864\n",
      "Epoch 448/500\n",
      "22/22 [==============================] - 0s 6ms/step - loss: 80.7508 - val_loss: 940.5864\n",
      "Epoch 449/500\n",
      "22/22 [==============================] - 0s 6ms/step - loss: 80.7509 - val_loss: 940.5867\n",
      "Epoch 450/500\n",
      "22/22 [==============================] - 0s 5ms/step - loss: 80.7508 - val_loss: 940.5864\n",
      "Epoch 451/500\n",
      "22/22 [==============================] - 0s 5ms/step - loss: 80.7509 - val_loss: 940.5866\n",
      "Epoch 452/500\n",
      "22/22 [==============================] - 0s 5ms/step - loss: 80.7509 - val_loss: 940.5861\n",
      "Epoch 453/500\n",
      "22/22 [==============================] - 0s 5ms/step - loss: 80.7509 - val_loss: 940.5859\n",
      "Epoch 454/500\n",
      "22/22 [==============================] - 0s 5ms/step - loss: 80.7509 - val_loss: 940.5860\n",
      "Epoch 455/500\n",
      "22/22 [==============================] - 0s 5ms/step - loss: 80.7510 - val_loss: 940.5860\n",
      "Epoch 456/500\n",
      "22/22 [==============================] - 0s 5ms/step - loss: 80.7510 - val_loss: 940.5861\n",
      "Epoch 457/500\n",
      "22/22 [==============================] - 0s 5ms/step - loss: 80.7510 - val_loss: 940.5862\n",
      "Epoch 458/500\n",
      "22/22 [==============================] - 0s 5ms/step - loss: 80.7510 - val_loss: 940.5862\n",
      "Epoch 459/500\n",
      "22/22 [==============================] - 0s 9ms/step - loss: 80.7510 - val_loss: 940.5856\n",
      "Epoch 460/500\n",
      "22/22 [==============================] - 0s 6ms/step - loss: 80.7510 - val_loss: 940.5857\n",
      "Epoch 461/500\n",
      "22/22 [==============================] - 0s 5ms/step - loss: 80.7510 - val_loss: 940.5855\n",
      "Epoch 462/500\n",
      "22/22 [==============================] - 0s 5ms/step - loss: 80.7510 - val_loss: 940.5853\n",
      "Epoch 463/500\n",
      "22/22 [==============================] - 0s 5ms/step - loss: 80.7510 - val_loss: 940.5852\n",
      "Epoch 464/500\n",
      "22/22 [==============================] - 0s 5ms/step - loss: 80.7511 - val_loss: 940.5852\n",
      "Epoch 465/500\n",
      "22/22 [==============================] - 0s 5ms/step - loss: 80.7511 - val_loss: 940.5850\n",
      "Epoch 466/500\n",
      "22/22 [==============================] - 0s 5ms/step - loss: 80.7511 - val_loss: 940.5852\n",
      "Epoch 467/500\n",
      "22/22 [==============================] - 0s 5ms/step - loss: 80.7511 - val_loss: 940.5852\n",
      "Epoch 468/500\n",
      "22/22 [==============================] - 0s 5ms/step - loss: 80.7511 - val_loss: 940.5850\n",
      "Epoch 469/500\n",
      "22/22 [==============================] - 0s 5ms/step - loss: 80.7511 - val_loss: 940.5850\n",
      "Epoch 470/500\n",
      "22/22 [==============================] - 0s 5ms/step - loss: 80.7511 - val_loss: 940.5850\n",
      "Epoch 471/500\n",
      "22/22 [==============================] - 0s 5ms/step - loss: 80.7511 - val_loss: 940.5850\n",
      "Epoch 472/500\n",
      "22/22 [==============================] - 0s 5ms/step - loss: 80.7511 - val_loss: 940.5850\n",
      "Epoch 473/500\n",
      "22/22 [==============================] - 0s 5ms/step - loss: 80.7511 - val_loss: 940.5850\n",
      "Epoch 474/500\n",
      "22/22 [==============================] - 0s 5ms/step - loss: 80.7511 - val_loss: 940.5850\n",
      "Epoch 475/500\n",
      "22/22 [==============================] - 0s 5ms/step - loss: 80.7511 - val_loss: 940.5850\n",
      "Epoch 476/500\n",
      "22/22 [==============================] - 0s 5ms/step - loss: 80.7511 - val_loss: 940.5847\n",
      "Epoch 477/500\n",
      "22/22 [==============================] - 0s 5ms/step - loss: 80.7512 - val_loss: 940.5847\n",
      "Epoch 478/500\n",
      "22/22 [==============================] - 0s 5ms/step - loss: 80.7512 - val_loss: 940.5845\n",
      "Epoch 479/500\n",
      "22/22 [==============================] - 0s 11ms/step - loss: 80.7512 - val_loss: 940.5844\n",
      "Epoch 480/500\n",
      "22/22 [==============================] - 0s 6ms/step - loss: 80.7512 - val_loss: 940.5843\n",
      "Epoch 481/500\n",
      "22/22 [==============================] - 0s 6ms/step - loss: 80.7512 - val_loss: 940.5843\n",
      "Epoch 482/500\n",
      "22/22 [==============================] - 0s 9ms/step - loss: 80.7512 - val_loss: 940.5843\n",
      "Epoch 483/500\n",
      "22/22 [==============================] - 0s 7ms/step - loss: 80.7512 - val_loss: 940.5839\n",
      "Epoch 484/500\n",
      "22/22 [==============================] - 0s 6ms/step - loss: 80.7512 - val_loss: 940.5837\n",
      "Epoch 485/500\n",
      "22/22 [==============================] - 0s 5ms/step - loss: 80.7512 - val_loss: 940.5837\n",
      "Epoch 486/500\n",
      "22/22 [==============================] - 0s 5ms/step - loss: 80.7512 - val_loss: 940.5837\n",
      "Epoch 487/500\n",
      "22/22 [==============================] - 0s 5ms/step - loss: 80.7512 - val_loss: 940.5837\n",
      "Epoch 488/500\n",
      "22/22 [==============================] - 0s 5ms/step - loss: 80.7512 - val_loss: 940.5837\n",
      "Epoch 489/500\n",
      "22/22 [==============================] - 0s 5ms/step - loss: 80.7513 - val_loss: 940.5841\n",
      "Epoch 490/500\n",
      "22/22 [==============================] - 0s 5ms/step - loss: 80.7513 - val_loss: 940.5841\n",
      "Epoch 491/500\n",
      "22/22 [==============================] - 0s 5ms/step - loss: 80.7513 - val_loss: 940.5842\n",
      "Epoch 492/500\n",
      "22/22 [==============================] - 0s 5ms/step - loss: 80.7513 - val_loss: 940.5842\n",
      "Epoch 493/500\n",
      "22/22 [==============================] - 0s 5ms/step - loss: 80.7513 - val_loss: 940.5841\n",
      "Epoch 494/500\n",
      "22/22 [==============================] - 0s 5ms/step - loss: 80.7513 - val_loss: 940.5839\n",
      "Epoch 495/500\n",
      "22/22 [==============================] - 0s 5ms/step - loss: 80.7513 - val_loss: 940.5839\n",
      "Epoch 496/500\n",
      "22/22 [==============================] - 0s 5ms/step - loss: 80.7513 - val_loss: 940.5837\n",
      "Epoch 497/500\n",
      "22/22 [==============================] - 0s 7ms/step - loss: 80.7513 - val_loss: 940.5834\n",
      "Epoch 498/500\n",
      "22/22 [==============================] - 0s 7ms/step - loss: 80.7513 - val_loss: 940.5829\n",
      "Epoch 499/500\n",
      "22/22 [==============================] - 0s 5ms/step - loss: 80.7513 - val_loss: 940.5828\n",
      "Epoch 500/500\n",
      "22/22 [==============================] - 0s 5ms/step - loss: 80.7513 - val_loss: 940.5827\n"
     ]
    }
   ],
   "source": [
    "C0 = tf.Variable(82.7524, name=\"C0\", trainable=True, dtype=tf.float32)\n",
    "K0 = tf.Variable(-0.0031, name=\"K0\", trainable=True, dtype=tf.float32)\n",
    "K1 = tf.Variable(-0.0003, name=\"K1\", trainable=True, dtype=tf.float32)\n",
    "a = tf.Variable(0.0000, name=\"a\", trainable=True, dtype=tf.float32)\n",
    "b = tf.Variable(0.0171, name=\"b\", trainable=True, dtype=tf.float32)\n",
    "c = tf.Variable(3.0230, name=\"c\", trainable=True, dtype=tf.float32)\n",
    "\n",
    "splitr = 0.8\n",
    "\n",
    "\n",
    "def loss_fn(y_true, y_pred):\n",
    "    squared_difference = tf.square(y_true[:, 0] - y_pred[:, 0])\n",
    "    #squared_difference2 = tf.square(y_true[:, 2]-y_pred[:, 2])\n",
    "    #squared_difference1 = tf.square(y_true[:, 1]-y_pred[:, 1])\n",
    "    epsilon = 1\n",
    "    squared_difference3 = tf.square(\n",
    "        y_pred[:, 1] - (\n",
    "            y_pred[:, 0] * (\n",
    "                K0 - K1 * (\n",
    "                    9 * a * tf.math.log((y_pred[:, 0] + epsilon) / C0) / (K0 - K1 * c)**2 +\n",
    "                    4 * b * tf.math.log((y_pred[:, 0] + epsilon) / C0) / (K0 - K1 * c) + c\n",
    "                )\n",
    "            )\n",
    "        )\n",
    "    )\n",
    "    return tf.reduce_mean(squared_difference, axis=-1) + 0.2*tf.reduce_mean(squared_difference3, axis=-1)\n",
    "model = Sequential()\n",
    "model.add(LSTM(100, input_shape=(trainX.shape[1], trainX.shape[2])))\n",
    "model.add(Dense(60))\n",
    "model.compile(loss=loss_fn, optimizer='adam')\n",
    "history = model.fit(trainX[:int(splitr*trainX.shape[0])], trainy[:int(splitr*trainX.shape[0])], epochs=500, batch_size=64, validation_data=(trainX[int(splitr*trainX.shape[0]):trainX.shape[0]], trainy[int(splitr*trainX.shape[0]):trainX.shape[0]]), shuffle=False)"
   ]
  },
  {
   "cell_type": "code",
   "execution_count": 19,
   "metadata": {
    "colab": {
     "base_uri": "https://localhost:8080/"
    },
    "id": "yJL101rPyuoT",
    "outputId": "239ff2b1-c186-423a-d316-939dfdd7c793"
   },
   "outputs": [
    {
     "name": "stdout",
     "output_type": "stream",
     "text": [
      "1/1 [==============================] - 0s 397ms/step\n"
     ]
    }
   ],
   "source": [
    "forecast_without_mc = forecastX\n",
    "yhat_without_mc = model.predict(forecast_without_mc) # Step Ahead Prediction\n",
    "forecast_without_mc = forecast_without_mc.reshape((forecast_without_mc.shape[0], forecast_without_mc.shape[2])) # Historical Input"
   ]
  },
  {
   "cell_type": "code",
   "execution_count": 20,
   "metadata": {
    "colab": {
     "base_uri": "https://localhost:8080/"
    },
    "id": "g9dQELcJ8wbp",
    "outputId": "4dc7671b-b1a8-48d5-8744-a86f98446109"
   },
   "outputs": [
    {
     "data": {
      "text/plain": [
       "(1, 1, 251)"
      ]
     },
     "execution_count": 20,
     "metadata": {},
     "output_type": "execute_result"
    }
   ],
   "source": [
    "forecastX.shape"
   ]
  },
  {
   "cell_type": "code",
   "execution_count": 21,
   "metadata": {
    "colab": {
     "base_uri": "https://localhost:8080/"
    },
    "id": "IS2kyIKG1Kbr",
    "outputId": "f31b3485-8e26-452f-9298-ea8bf7e80ad1"
   },
   "outputs": [
    {
     "data": {
      "text/plain": [
       "(1, 251)"
      ]
     },
     "execution_count": 21,
     "metadata": {},
     "output_type": "execute_result"
    }
   ],
   "source": [
    "forecast_without_mc.shape"
   ]
  },
  {
   "cell_type": "code",
   "execution_count": 22,
   "metadata": {
    "id": "0u6VIzaDyuoT"
   },
   "outputs": [],
   "source": [
    "inv_yhat_without_mc = np.concatenate((forecast_without_mc, yhat_without_mc), axis=1) # Concatenation of predicted values with Historical Data\n",
    "#inv_yhat_without_mc = scaler.inverse_transform(inv_yhat_without_mc) # Transform labels back to original encoding"
   ]
  },
  {
   "cell_type": "code",
   "execution_count": 23,
   "metadata": {
    "colab": {
     "base_uri": "https://localhost:8080/"
    },
    "id": "EUEcw0LX07oU",
    "outputId": "cfc32397-9c37-4b43-d087-584bb31c3dcc"
   },
   "outputs": [
    {
     "data": {
      "text/plain": [
       "(1, 311)"
      ]
     },
     "execution_count": 23,
     "metadata": {},
     "output_type": "execute_result"
    }
   ],
   "source": [
    "inv_yhat_without_mc.shape"
   ]
  },
  {
   "cell_type": "code",
   "execution_count": 24,
   "metadata": {
    "id": "31OWVbSh_305"
   },
   "outputs": [],
   "source": [
    "fforecast = inv_yhat_without_mc[:,-300:]"
   ]
  },
  {
   "cell_type": "code",
   "execution_count": 25,
   "metadata": {},
   "outputs": [
    {
     "data": {
      "text/plain": [
       "(1, 300)"
      ]
     },
     "execution_count": 25,
     "metadata": {},
     "output_type": "execute_result"
    }
   ],
   "source": [
    "fforecast.shape"
   ]
  },
  {
   "cell_type": "code",
   "execution_count": 26,
   "metadata": {
    "id": "BlpGH2FOAiRF"
   },
   "outputs": [],
   "source": [
    "final_forecast = fforecast[:,0:300:3]"
   ]
  },
  {
   "cell_type": "code",
   "execution_count": 27,
   "metadata": {},
   "outputs": [
    {
     "data": {
      "text/plain": [
       "(1, 300)"
      ]
     },
     "execution_count": 27,
     "metadata": {},
     "output_type": "execute_result"
    }
   ],
   "source": [
    "fforecast.shape"
   ]
  },
  {
   "cell_type": "code",
   "execution_count": 28,
   "metadata": {
    "id": "CXkgkj_LBk_t"
   },
   "outputs": [],
   "source": [
    "# code to replace all negative value with 0\n",
    "final_forecast[final_forecast<0] = 0"
   ]
  },
  {
   "cell_type": "code",
   "execution_count": 29,
   "metadata": {},
   "outputs": [
    {
     "data": {
      "text/plain": [
       "array([[5.60773343e+01, 5.59848973e+01, 5.58924603e+01, 5.58000233e+01,\n",
       "        5.57075864e+01, 5.56151494e+01, 5.55508170e+01, 0.00000000e+00,\n",
       "        6.38354957e-01, 0.00000000e+00, 0.00000000e+00, 3.15409720e-01,\n",
       "        0.00000000e+00, 5.68044584e+01, 5.67624416e+01, 5.67204248e+01,\n",
       "        5.66524977e+01, 5.65600607e+01, 5.64676237e+01, 5.63751867e+01,\n",
       "        5.62827498e+01, 5.61903128e+01, 5.60978758e+01, 5.60054388e+01,\n",
       "        5.59130019e+01, 5.58205649e+01, 5.57281279e+01, 5.56356909e+01,\n",
       "        5.55638889e+01, 5.81349907e+01, 5.80089402e+01, 5.78828898e+01,\n",
       "        5.77568394e+01, 5.76307890e+01, 5.75047386e+01, 5.73786881e+01,\n",
       "        5.72526377e+01, 5.71265873e+01, 1.04276955e+00, 0.00000000e+00,\n",
       "        1.29682300e-01, 0.00000000e+00, 0.00000000e+00, 0.00000000e+00,\n",
       "        0.00000000e+00, 4.19310090e-01, 1.29750100e-01, 5.58411064e+01,\n",
       "        5.57486695e+01, 5.56562325e+01, 5.55769608e+01, 5.81630019e+01,\n",
       "        5.80369514e+01, 5.79109001e+01, 5.77848506e+01, 5.76588002e+01,\n",
       "        5.75347498e+01, 5.74116993e+01, 5.72886489e+01, 5.71655985e+01,\n",
       "        0.00000000e+00, 0.00000000e+00, 5.77101541e+01, 5.75841036e+01,\n",
       "        5.74570532e+01, 5.73300200e+01, 5.72095952e+01, 5.70892391e+01,\n",
       "        5.69700786e+01, 5.68507181e+01, 5.67345576e+01, 6.44609833e+01,\n",
       "        1.92497360e-01, 6.27657661e+01, 1.11946177e+00, 0.00000000e+00,\n",
       "        7.11524000e-03, 1.33132815e+00, 1.37562310e-01, 5.36103840e-01,\n",
       "        5.99574661e+01, 0.00000000e+00, 0.00000000e+00, 1.90725774e-01,\n",
       "        0.00000000e+00, 3.75996977e-01, 0.00000000e+00, 5.94399154e-01,\n",
       "        0.00000000e+00, 3.11569512e-01, 0.00000000e+00, 0.00000000e+00,\n",
       "        3.34181972e-02, 0.00000000e+00, 1.02772510e+00, 0.00000000e+00,\n",
       "        0.00000000e+00, 1.14563927e-01, 9.54535902e-02, 0.00000000e+00]])"
      ]
     },
     "execution_count": 29,
     "metadata": {},
     "output_type": "execute_result"
    }
   ],
   "source": [
    "final_forecast"
   ]
  },
  {
   "cell_type": "code",
   "execution_count": 30,
   "metadata": {},
   "outputs": [
    {
     "data": {
      "text/plain": [
       "(1, 100)"
      ]
     },
     "execution_count": 30,
     "metadata": {},
     "output_type": "execute_result"
    }
   ],
   "source": [
    "final_forecast.shape"
   ]
  },
  {
   "cell_type": "code",
   "execution_count": 31,
   "metadata": {},
   "outputs": [
    {
     "data": {
      "text/plain": [
       "(100,)"
      ]
     },
     "execution_count": 31,
     "metadata": {},
     "output_type": "execute_result"
    }
   ],
   "source": [
    "test.shape"
   ]
  },
  {
   "cell_type": "code",
   "execution_count": 32,
   "metadata": {},
   "outputs": [],
   "source": [
    "training_set = np.array(training_set)\n",
    "test = np.array(test)\n",
    "final_forecast = np.array(final_forecast.squeeze(0))"
   ]
  },
  {
   "cell_type": "code",
   "execution_count": 33,
   "metadata": {},
   "outputs": [
    {
     "data": {
      "text/plain": [
       "array([48.14158639, 48.13174831, 48.12191023, 48.11207215, 48.10223406,\n",
       "       48.09239598, 48.0825579 , 48.07271982, 48.06288174, 48.05304366,\n",
       "       48.04320557, 48.03336749, 48.02352941, 48.01369133, 48.00385325,\n",
       "       47.99401517, 47.98417709, 47.974339  , 47.96450092, 47.95466284,\n",
       "       47.94482476, 47.93498668, 47.9251486 , 47.91531051, 47.90547243,\n",
       "       47.89563435, 47.88579627, 47.87595819, 47.86612011, 47.85628203,\n",
       "       47.84644394, 47.83660586, 47.82676778, 47.8169297 , 47.80709162,\n",
       "       47.79725354, 47.78741545, 47.77757737, 47.76773929, 47.75790121,\n",
       "       47.74806313, 47.73822505, 47.72838696, 47.71854888, 47.7087108 ,\n",
       "       47.69887272, 47.68903464, 47.67919656, 47.66935848, 47.65952039,\n",
       "       47.64968231, 47.63984423, 47.63000615, 47.62016807, 47.61032999,\n",
       "       47.6004919 , 47.59065382, 47.58081574, 47.57097766, 47.56113958,\n",
       "       47.5513015 , 47.54146341, 47.53162533, 47.52178725, 47.51194917,\n",
       "       47.50211109, 47.49227301, 47.48243493, 47.47259684, 47.46275876,\n",
       "       47.45292068, 47.4430826 , 47.43324452, 47.42340644, 47.41356835,\n",
       "       47.40373027, 47.39389219, 47.38405411, 47.37421603, 47.36437795,\n",
       "       47.35453986, 47.34470178, 47.3348637 , 47.32502562, 47.31518754,\n",
       "       47.30534946, 47.29551138, 47.28567329, 47.27583521, 47.26599713,\n",
       "       47.25615905, 47.24632097, 47.23648289, 47.2266448 , 47.21680672,\n",
       "       47.20696864, 47.19713056, 47.18729248, 47.1774544 , 47.16761631])"
      ]
     },
     "execution_count": 33,
     "metadata": {},
     "output_type": "execute_result"
    }
   ],
   "source": [
    "test"
   ]
  },
  {
   "cell_type": "code",
   "execution_count": 34,
   "metadata": {},
   "outputs": [
    {
     "data": {
      "text/plain": [
       "(100,)"
      ]
     },
     "execution_count": 34,
     "metadata": {},
     "output_type": "execute_result"
    }
   ],
   "source": [
    "test.shape"
   ]
  },
  {
   "cell_type": "code",
   "execution_count": 35,
   "metadata": {},
   "outputs": [
    {
     "data": {
      "text/plain": [
       "(100,)"
      ]
     },
     "execution_count": 35,
     "metadata": {},
     "output_type": "execute_result"
    }
   ],
   "source": [
    "final_forecast.shape"
   ]
  },
  {
   "cell_type": "code",
   "execution_count": 36,
   "metadata": {},
   "outputs": [
    {
     "data": {
      "text/plain": [
       "(100,)"
      ]
     },
     "execution_count": 36,
     "metadata": {},
     "output_type": "execute_result"
    }
   ],
   "source": [
    "test.shape"
   ]
  },
  {
   "cell_type": "code",
   "execution_count": 37,
   "metadata": {},
   "outputs": [
    {
     "name": "stdout",
     "output_type": "stream",
     "text": [
      "31.82661885793422\n",
      "25.63722487586837\n"
     ]
    }
   ],
   "source": [
    "import math\n",
    "MSE = np.square(np.subtract(np.array(test),np.array(final_forecast))).mean()   \n",
    "rsme = math.sqrt(MSE)\n",
    "print(rsme)  \n",
    "MAE = np.abs(np.subtract(np.array(test),np.array(final_forecast))).mean()   \n",
    "mae = MAE\n",
    "print(mae)"
   ]
  }
 ],
 "metadata": {
  "colab": {
   "provenance": []
  },
  "kernelspec": {
   "display_name": "Python 3",
   "language": "python",
   "name": "python3"
  },
  "language_info": {
   "codemirror_mode": {
    "name": "ipython",
    "version": 3
   },
   "file_extension": ".py",
   "mimetype": "text/x-python",
   "name": "python",
   "nbconvert_exporter": "python",
   "pygments_lexer": "ipython3",
   "version": "3.9.13"
  }
 },
 "nbformat": 4,
 "nbformat_minor": 0
}
