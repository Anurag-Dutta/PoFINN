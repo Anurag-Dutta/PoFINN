{
 "cells": [
  {
   "cell_type": "markdown",
   "metadata": {
    "id": "pCGKeZ2gyuoQ"
   },
   "source": [
    "_Importing Required Libraries_"
   ]
  },
  {
   "cell_type": "code",
   "execution_count": 1,
   "metadata": {
    "colab": {
     "base_uri": "https://localhost:8080/"
    },
    "id": "A-6LN-zXiLcM",
    "outputId": "4de610a4-f8b8-4f49-c6c0-89de299ccedc"
   },
   "outputs": [
    {
     "name": "stdout",
     "output_type": "stream",
     "text": [
      "Requirement already satisfied: hampel in c:\\users\\anurag dutta\\appdata\\local\\packages\\pythonsoftwarefoundation.python.3.9_qbz5n2kfra8p0\\localcache\\local-packages\\python39\\site-packages (0.0.5)\n",
      "Requirement already satisfied: numpy in c:\\users\\anurag dutta\\appdata\\local\\packages\\pythonsoftwarefoundation.python.3.9_qbz5n2kfra8p0\\localcache\\local-packages\\python39\\site-packages (from hampel) (1.26.4)\n",
      "Requirement already satisfied: pandas in c:\\users\\anurag dutta\\appdata\\local\\packages\\pythonsoftwarefoundation.python.3.9_qbz5n2kfra8p0\\localcache\\local-packages\\python39\\site-packages (from hampel) (1.5.2)\n",
      "Requirement already satisfied: python-dateutil>=2.8.1 in c:\\users\\anurag dutta\\appdata\\local\\packages\\pythonsoftwarefoundation.python.3.9_qbz5n2kfra8p0\\localcache\\local-packages\\python39\\site-packages (from pandas->hampel) (2.8.2)\n",
      "Requirement already satisfied: pytz>=2020.1 in c:\\users\\anurag dutta\\appdata\\local\\packages\\pythonsoftwarefoundation.python.3.9_qbz5n2kfra8p0\\localcache\\local-packages\\python39\\site-packages (from pandas->hampel) (2023.3.post1)\n",
      "Requirement already satisfied: six>=1.5 in c:\\users\\anurag dutta\\appdata\\local\\packages\\pythonsoftwarefoundation.python.3.9_qbz5n2kfra8p0\\localcache\\local-packages\\python39\\site-packages (from python-dateutil>=2.8.1->pandas->hampel) (1.16.0)\n",
      "Note: you may need to restart the kernel to use updated packages.\n"
     ]
    },
    {
     "name": "stderr",
     "output_type": "stream",
     "text": [
      "\n",
      "[notice] A new release of pip is available: 24.2 -> 24.3.1\n",
      "[notice] To update, run: C:\\Users\\Anurag Dutta\\AppData\\Local\\Microsoft\\WindowsApps\\PythonSoftwareFoundation.Python.3.9_qbz5n2kfra8p0\\python.exe -m pip install --upgrade pip\n"
     ]
    }
   ],
   "source": [
    "pip install hampel"
   ]
  },
  {
   "cell_type": "code",
   "execution_count": 2,
   "metadata": {
    "id": "By_d9uXpaFvZ"
   },
   "outputs": [],
   "source": [
    "from keras.models import Sequential\n",
    "from keras.layers import Dense\n",
    "from keras.layers import LSTM\n",
    "from keras.layers import Dropout\n",
    "import keras\n",
    "import tensorflow as tf\n",
    "from hampel import hampel\n",
    "import numpy as np\n",
    "import matplotlib.pyplot as plt\n",
    "import pandas as pd\n",
    "from sklearn.preprocessing import MinMaxScaler\n",
    "from sklearn.metrics import mean_squared_error, mean_absolute_error\n",
    "from math import sqrt\n",
    "from matplotlib import pyplot\n",
    "from numpy import array"
   ]
  },
  {
   "cell_type": "markdown",
   "metadata": {
    "id": "JyOjBMFayuoR"
   },
   "source": [
    "## Pretraining"
   ]
  },
  {
   "cell_type": "markdown",
   "metadata": {
    "id": "-5QqIY_GyuoR"
   },
   "source": [
    "The `capa_intermittency.dat` feeds the model with the dynamics of the Capacitor"
   ]
  },
  {
   "cell_type": "code",
   "execution_count": 3,
   "metadata": {
    "id": "9dV4a8yfyuoR"
   },
   "outputs": [],
   "source": [
    "data = np.genfromtxt('capa_intermittency.dat')\n",
    "training_set = pd.DataFrame(data).reset_index(drop=True)\n",
    "training_set = training_set.iloc[:,0]"
   ]
  },
  {
   "cell_type": "markdown",
   "metadata": {
    "id": "i7easoxByuoR"
   },
   "source": [
    "## Computing the Gradient"
   ]
  },
  {
   "cell_type": "markdown",
   "metadata": {
    "id": "5SnyolJTyuoR"
   },
   "source": [
    "_Calculating the value of_ $\\frac{dx}{dt}$"
   ]
  },
  {
   "cell_type": "code",
   "execution_count": 4,
   "metadata": {
    "colab": {
     "base_uri": "https://localhost:8080/"
    },
    "id": "wmIbVfIvyuoR",
    "outputId": "aa4e3136-c854-465d-d2e9-81cfd546e440"
   },
   "outputs": [
    {
     "name": "stdout",
     "output_type": "stream",
     "text": [
      "1.0\n",
      "1        0.000298\n",
      "2        0.000298\n",
      "3        0.000297\n",
      "4        0.000297\n",
      "5        0.000297\n",
      "           ...   \n",
      "9996     0.000018\n",
      "9997     0.000018\n",
      "9998     0.000018\n",
      "9999     0.000018\n",
      "10000    0.000018\n",
      "Name: 0, Length: 10000, dtype: float64\n"
     ]
    }
   ],
   "source": [
    "t_diff = 1\n",
    "print(training_set.max())\n",
    "gradient_t = (training_set.diff()/t_diff).iloc[1:] # dx/dt\n",
    "print(gradient_t)"
   ]
  },
  {
   "cell_type": "markdown",
   "metadata": {
    "id": "_2eVeeoxyuoS"
   },
   "source": [
    "## Loading Datasets"
   ]
  },
  {
   "cell_type": "code",
   "execution_count": 5,
   "metadata": {
    "id": "0J-NKyIEyuoS"
   },
   "outputs": [
    {
     "data": {
      "text/plain": [
       "0       91.100000\n",
       "1       90.875910\n",
       "2       90.651821\n",
       "3       90.427731\n",
       "4       90.203641\n",
       "          ...    \n",
       "1595    71.816830\n",
       "1596    71.810294\n",
       "1597    71.803758\n",
       "1598    71.799603\n",
       "1599    71.798669\n",
       "Name: C3, Length: 1600, dtype: float64"
      ]
     },
     "execution_count": 5,
     "metadata": {},
     "output_type": "execute_result"
    }
   ],
   "source": [
    "data = pd.read_csv(\"c3_interpolated_1500_100.csv\")\n",
    "training_set = data.iloc[:, 1]\n",
    "training_set"
   ]
  },
  {
   "cell_type": "code",
   "execution_count": 6,
   "metadata": {
    "colab": {
     "base_uri": "https://localhost:8080/"
    },
    "id": "-CbNUhJ74UqF",
    "outputId": "20f562d8-8247-49cc-b9c3-00eca5e13e2d"
   },
   "outputs": [
    {
     "data": {
      "text/plain": [
       "0       91.100000\n",
       "1       90.875910\n",
       "2       90.651821\n",
       "3       90.427731\n",
       "4       90.203641\n",
       "          ...    \n",
       "1495    72.470425\n",
       "1496    72.463889\n",
       "1497    72.457353\n",
       "1498    72.450817\n",
       "1499    72.444281\n",
       "Name: C3, Length: 1500, dtype: float64"
      ]
     },
     "execution_count": 6,
     "metadata": {},
     "output_type": "execute_result"
    }
   ],
   "source": [
    "test = training_set.tail(100)\n",
    "test\n",
    "training_set = training_set.head(1500)\n",
    "training_set"
   ]
  },
  {
   "cell_type": "code",
   "execution_count": 7,
   "metadata": {
    "colab": {
     "base_uri": "https://localhost:8080/"
    },
    "id": "X0TwTcq0yuoS",
    "outputId": "37252ed8-d88e-4044-fa7a-922411990b5b"
   },
   "outputs": [
    {
     "name": "stdout",
     "output_type": "stream",
     "text": [
      "0       0.000298\n",
      "1       0.000298\n",
      "2       0.000297\n",
      "3       0.000297\n",
      "4       0.000297\n",
      "          ...   \n",
      "9995    0.000018\n",
      "9996    0.000018\n",
      "9997    0.000018\n",
      "9998    0.000018\n",
      "9999    0.000018\n",
      "Name: 0, Length: 10000, dtype: float64\n"
     ]
    }
   ],
   "source": [
    "training_set = training_set.reset_index(drop=True)\n",
    "gradient_t = gradient_t.reset_index(drop=True)\n",
    "print(gradient_t)"
   ]
  },
  {
   "cell_type": "code",
   "execution_count": 8,
   "metadata": {
    "id": "O2biznZQyuoS"
   },
   "outputs": [],
   "source": [
    "df = pd.concat((training_set, gradient_t), axis=1)\n",
    "df.columns = ['y_t', 'grad_t']"
   ]
  },
  {
   "cell_type": "code",
   "execution_count": 9,
   "metadata": {
    "colab": {
     "base_uri": "https://localhost:8080/",
     "height": 423
    },
    "id": "sk_a5v3tyuoS",
    "outputId": "17563625-e550-45ae-faab-fafa353e44da"
   },
   "outputs": [
    {
     "data": {
      "text/html": [
       "<div>\n",
       "<style scoped>\n",
       "    .dataframe tbody tr th:only-of-type {\n",
       "        vertical-align: middle;\n",
       "    }\n",
       "\n",
       "    .dataframe tbody tr th {\n",
       "        vertical-align: top;\n",
       "    }\n",
       "\n",
       "    .dataframe thead th {\n",
       "        text-align: right;\n",
       "    }\n",
       "</style>\n",
       "<table border=\"1\" class=\"dataframe\">\n",
       "  <thead>\n",
       "    <tr style=\"text-align: right;\">\n",
       "      <th></th>\n",
       "      <th>y_t</th>\n",
       "      <th>grad_t</th>\n",
       "    </tr>\n",
       "  </thead>\n",
       "  <tbody>\n",
       "    <tr>\n",
       "      <th>0</th>\n",
       "      <td>91.100000</td>\n",
       "      <td>0.000298</td>\n",
       "    </tr>\n",
       "    <tr>\n",
       "      <th>1</th>\n",
       "      <td>90.875910</td>\n",
       "      <td>0.000298</td>\n",
       "    </tr>\n",
       "    <tr>\n",
       "      <th>2</th>\n",
       "      <td>90.651821</td>\n",
       "      <td>0.000297</td>\n",
       "    </tr>\n",
       "    <tr>\n",
       "      <th>3</th>\n",
       "      <td>90.427731</td>\n",
       "      <td>0.000297</td>\n",
       "    </tr>\n",
       "    <tr>\n",
       "      <th>4</th>\n",
       "      <td>90.203641</td>\n",
       "      <td>0.000297</td>\n",
       "    </tr>\n",
       "    <tr>\n",
       "      <th>...</th>\n",
       "      <td>...</td>\n",
       "      <td>...</td>\n",
       "    </tr>\n",
       "    <tr>\n",
       "      <th>9995</th>\n",
       "      <td>NaN</td>\n",
       "      <td>0.000018</td>\n",
       "    </tr>\n",
       "    <tr>\n",
       "      <th>9996</th>\n",
       "      <td>NaN</td>\n",
       "      <td>0.000018</td>\n",
       "    </tr>\n",
       "    <tr>\n",
       "      <th>9997</th>\n",
       "      <td>NaN</td>\n",
       "      <td>0.000018</td>\n",
       "    </tr>\n",
       "    <tr>\n",
       "      <th>9998</th>\n",
       "      <td>NaN</td>\n",
       "      <td>0.000018</td>\n",
       "    </tr>\n",
       "    <tr>\n",
       "      <th>9999</th>\n",
       "      <td>NaN</td>\n",
       "      <td>0.000018</td>\n",
       "    </tr>\n",
       "  </tbody>\n",
       "</table>\n",
       "<p>10000 rows × 2 columns</p>\n",
       "</div>"
      ],
      "text/plain": [
       "            y_t    grad_t\n",
       "0     91.100000  0.000298\n",
       "1     90.875910  0.000298\n",
       "2     90.651821  0.000297\n",
       "3     90.427731  0.000297\n",
       "4     90.203641  0.000297\n",
       "...         ...       ...\n",
       "9995        NaN  0.000018\n",
       "9996        NaN  0.000018\n",
       "9997        NaN  0.000018\n",
       "9998        NaN  0.000018\n",
       "9999        NaN  0.000018\n",
       "\n",
       "[10000 rows x 2 columns]"
      ]
     },
     "execution_count": 9,
     "metadata": {},
     "output_type": "execute_result"
    }
   ],
   "source": [
    "df"
   ]
  },
  {
   "cell_type": "markdown",
   "metadata": {
    "id": "-5esyHu5aFvg"
   },
   "source": [
    "## Plot of the External Forcing from Chaotic Differential Equation"
   ]
  },
  {
   "cell_type": "code",
   "execution_count": 10,
   "metadata": {
    "colab": {
     "base_uri": "https://localhost:8080/",
     "height": 447
    },
    "id": "hGnE43tOh-4p",
    "outputId": "fc396503-b624-4fa5-dfbe-f460207405c6"
   },
   "outputs": [
    {
     "data": {
      "text/plain": [
       "<Axes: >"
      ]
     },
     "execution_count": 10,
     "metadata": {},
     "output_type": "execute_result"
    },
    {
     "data": {
      "image/png": "[encoded data removed]",
      "text/plain": [
       "<Figure size 432x288 with 1 Axes>"
      ]
     },
     "metadata": {
      "needs_background": "light"
     },
     "output_type": "display_data"
    }
   ],
   "source": [
    "df.iloc[:, 0].plot()"
   ]
  },
  {
   "cell_type": "code",
   "execution_count": 11,
   "metadata": {
    "colab": {
     "base_uri": "https://localhost:8080/",
     "height": 447
    },
    "id": "ym4xWUUxaFvg",
    "outputId": "ae6a3495-8ce9-437e-ba81-3ed31deedeae"
   },
   "outputs": [
    {
     "data": {
      "text/plain": [
       "<Axes: >"
      ]
     },
     "execution_count": 11,
     "metadata": {},
     "output_type": "execute_result"
    },
    {
     "data": {
      "image/png": "[encoded data removed]",
      "text/plain": [
       "<Figure size 432x288 with 1 Axes>"
      ]
     },
     "metadata": {
      "needs_background": "light"
     },
     "output_type": "display_data"
    }
   ],
   "source": [
    "import numpy as np\n",
    "c0 = 88.0403  # Value for C0\n",
    "K0 = -0.0012  # Value for K0\n",
    "K1 = -0.0001  # Value for K1\n",
    "a = 0.0000    # Value for a\n",
    "b = 0.0120    # Value for b\n",
    "c = 2.0334    # Value for c\n",
    "\n",
    "L = np.minimum(c0, (df.iloc[:, 1] - (df.iloc[:, 0] * (K0 - K1 * (9 * a * np.log(df.iloc[:, 0] / c0) / (K0 - K1 * c)**2 + 4 * b * np.log(df.iloc[:, 0] / c0) / (K0 - K1 * c) + c)))))\n",
    "L.plot()"
   ]
  },
  {
   "cell_type": "markdown",
   "metadata": {
    "id": "9VyEywnwaFvh"
   },
   "source": [
    "## Preprocessing the data into supervised learning"
   ]
  },
  {
   "cell_type": "code",
   "execution_count": 12,
   "metadata": {
    "id": "6V9dXqzdaFvh"
   },
   "outputs": [],
   "source": [
    "# split a sequence into samples\n",
    "def Supervised(data, n_in=1, n_out=1, dropnan=True):\n",
    "    n_vars = 1 if type(data) is list else data.shape[1]\n",
    "    df = pd.DataFrame(data)\n",
    "    cols, names = list(), list()\n",
    "    # input sequence (t-n_in, ... t-1)\n",
    "    for i in range(n_in, 0, -1):\n",
    "        cols.append(df.shift(i))\n",
    "        names += [('var%d(t-%d)' % (j+1, i)) for j in range(n_vars)]\n",
    "    # forecast sequence (t, t+1, ... t+n_out)\n",
    "    for i in range(0, n_out):\n",
    "      cols.append(df.shift(-i))\n",
    "      if i == 0:\n",
    "        names += [('var%d(t)' % (j+1)) for j in range(n_vars)]\n",
    "      else:\n",
    "        names += [('var%d(t+%d)' % (j+1, i)) for j in range(n_vars)]\n",
    "    # put it all together\n",
    "    agg = pd.concat(cols, axis=1)\n",
    "    agg.columns = names\n",
    "    # drop rows with NaN values\n",
    "    if dropnan:\n",
    "       agg.dropna(inplace=True)\n",
    "    return agg"
   ]
  },
  {
   "cell_type": "code",
   "execution_count": 13,
   "metadata": {
    "colab": {
     "base_uri": "https://localhost:8080/"
    },
    "id": "CrzSrT1HnyfH",
    "outputId": "7e75f928-3e47-499d-eac1-51908015ef78"
   },
   "outputs": [
    {
     "name": "stdout",
     "output_type": "stream",
     "text": [
      "     var1(t-350)  var1(t-349)  var1(t-348)  var1(t-347)  var1(t-346)  \\\n",
      "350    91.100000    90.875910    90.651821    90.427731    90.203641   \n",
      "351    90.875910    90.651821    90.427731    90.203641    89.979552   \n",
      "352    90.651821    90.427731    90.203641    89.979552    89.755462   \n",
      "353    90.427731    90.203641    89.979552    89.755462    89.531373   \n",
      "354    90.203641    89.979552    89.755462    89.531373    89.307283   \n",
      "\n",
      "     var1(t-345)  var1(t-344)  var1(t-343)  var1(t-342)  var1(t-341)  ...  \\\n",
      "350    89.979552    89.755462    89.531373    89.307283    89.094118  ...   \n",
      "351    89.755462    89.531373    89.307283    89.094118    89.015686  ...   \n",
      "352    89.531373    89.307283    89.094118    89.015686    88.937255  ...   \n",
      "353    89.307283    89.094118    89.015686    88.937255    88.858824  ...   \n",
      "354    89.094118    89.015686    88.937255    88.858824    88.780392  ...   \n",
      "\n",
      "     var1(t+95)  var2(t+95)  var1(t+96)  var2(t+96)  var1(t+97)  var2(t+97)  \\\n",
      "350   81.423343    0.000263   81.404669    0.000263   81.385994    0.000263   \n",
      "351   81.404669    0.000263   81.385994    0.000263   81.367320    0.000262   \n",
      "352   81.385994    0.000263   81.367320    0.000262   81.348646    0.000262   \n",
      "353   81.367320    0.000262   81.348646    0.000262   81.329972    0.000262   \n",
      "354   81.348646    0.000262   81.329972    0.000262   81.311298    0.000262   \n",
      "\n",
      "     var1(t+98)  var2(t+98)  var1(t+99)  var2(t+99)  \n",
      "350   81.367320    0.000262   81.348646    0.000262  \n",
      "351   81.348646    0.000262   81.329972    0.000262  \n",
      "352   81.329972    0.000262   81.311298    0.000262  \n",
      "353   81.311298    0.000262   81.292624    0.000262  \n",
      "354   81.292624    0.000262   81.273950    0.000262  \n",
      "\n",
      "[5 rows x 551 columns]\n",
      "Index(['var1(t-350)', 'var1(t-349)', 'var1(t-348)', 'var1(t-347)',\n",
      "       'var1(t-346)', 'var1(t-345)', 'var1(t-344)', 'var1(t-343)',\n",
      "       'var1(t-342)', 'var1(t-341)',\n",
      "       ...\n",
      "       'var1(t+95)', 'var2(t+95)', 'var1(t+96)', 'var2(t+96)', 'var1(t+97)',\n",
      "       'var2(t+97)', 'var1(t+98)', 'var2(t+98)', 'var1(t+99)', 'var2(t+99)'],\n",
      "      dtype='object', length=551)\n"
     ]
    }
   ],
   "source": [
    "data = Supervised(df.values, n_in = 350, n_out = 100)\n",
    "\n",
    "\n",
    "cols_to_drop = []\n",
    "for i in range(2, 351):\n",
    "    cols_to_drop.extend([f'var2(t-{i})'])\n",
    "\n",
    "data.drop(cols_to_drop, axis=1, inplace=True)\n",
    "\n",
    "print(data.head())\n",
    "print(data.columns)"
   ]
  },
  {
   "cell_type": "code",
   "execution_count": 14,
   "metadata": {
    "id": "AfPf60oy6Pe4"
   },
   "outputs": [],
   "source": [
    "train = np.array(data[0:len(data)-1])\n",
    "forecast = np.array(data.tail(1))"
   ]
  },
  {
   "cell_type": "code",
   "execution_count": 15,
   "metadata": {
    "id": "WSAafzI37KiT"
   },
   "outputs": [],
   "source": [
    "trainy = train[:,-300:]\n",
    "trainX = train[:,:-300]"
   ]
  },
  {
   "cell_type": "code",
   "execution_count": 16,
   "metadata": {
    "id": "2SrOqVJA7f50"
   },
   "outputs": [],
   "source": [
    "forecasty = forecast[:,-300:]\n",
    "forecastX = forecast[:,:-300]"
   ]
  },
  {
   "cell_type": "code",
   "execution_count": 17,
   "metadata": {
    "colab": {
     "base_uri": "https://localhost:8080/"
    },
    "id": "Qno_k8Nw7saY",
    "outputId": "c4a88db5-d8c6-489f-cdb2-06b24e293cff"
   },
   "outputs": [
    {
     "name": "stdout",
     "output_type": "stream",
     "text": [
      "(1050, 1, 251) (1050, 300) (1, 1, 251)\n"
     ]
    }
   ],
   "source": [
    "trainX = trainX.reshape((trainX.shape[0], 1, trainX.shape[1]))\n",
    "forecastX = forecastX.reshape((forecastX.shape[0], 1, forecastX.shape[1]))\n",
    "print(trainX.shape, trainy.shape, forecastX.shape)"
   ]
  },
  {
   "cell_type": "code",
   "execution_count": 18,
   "metadata": {
    "colab": {
     "base_uri": "https://localhost:8080/"
    },
    "id": "b1Jp2DvNuNFx",
    "outputId": "d0e5b3c4-64f1-438c-eade-8dfeaac8e285"
   },
   "outputs": [
    {
     "name": "stdout",
     "output_type": "stream",
     "text": [
      "Epoch 1/500\n",
      "14/14 [==============================] - 2s 35ms/step - loss: 6071.9858 - val_loss: 5324.6475\n",
      "Epoch 2/500\n",
      "14/14 [==============================] - 0s 5ms/step - loss: 5989.7925 - val_loss: 5258.5234\n",
      "Epoch 3/500\n",
      "14/14 [==============================] - 0s 4ms/step - loss: 5926.8911 - val_loss: 5197.4214\n",
      "Epoch 4/500\n",
      "14/14 [==============================] - 0s 4ms/step - loss: 5866.4219 - val_loss: 5142.7046\n",
      "Epoch 5/500\n",
      "14/14 [==============================] - 0s 5ms/step - loss: 5808.4028 - val_loss: 5088.5190\n",
      "Epoch 6/500\n",
      "14/14 [==============================] - 0s 4ms/step - loss: 5750.9668 - val_loss: 5034.9043\n",
      "Epoch 7/500\n",
      "14/14 [==============================] - 0s 5ms/step - loss: 5694.1025 - val_loss: 4981.8169\n",
      "Epoch 8/500\n",
      "14/14 [==============================] - 0s 4ms/step - loss: 5637.5479 - val_loss: 4927.5439\n",
      "Epoch 9/500\n",
      "14/14 [==============================] - 0s 4ms/step - loss: 5569.2007 - val_loss: 4856.3604\n",
      "Epoch 10/500\n",
      "14/14 [==============================] - 0s 5ms/step - loss: 5501.5439 - val_loss: 4798.4312\n",
      "Epoch 11/500\n",
      "14/14 [==============================] - 0s 4ms/step - loss: 5440.2690 - val_loss: 4741.6758\n",
      "Epoch 12/500\n",
      "14/14 [==============================] - 0s 5ms/step - loss: 5380.2148 - val_loss: 4686.0044\n",
      "Epoch 13/500\n",
      "14/14 [==============================] - 0s 4ms/step - loss: 5321.2070 - val_loss: 4631.2314\n",
      "Epoch 14/500\n",
      "14/14 [==============================] - 0s 4ms/step - loss: 5263.0732 - val_loss: 4577.2266\n",
      "Epoch 15/500\n",
      "14/14 [==============================] - 0s 3ms/step - loss: 5205.6934 - val_loss: 4523.9014\n",
      "Epoch 16/500\n",
      "14/14 [==============================] - 0s 8ms/step - loss: 5148.9897 - val_loss: 4471.1968\n",
      "Epoch 17/500\n",
      "14/14 [==============================] - 0s 4ms/step - loss: 5092.9097 - val_loss: 4419.0723\n",
      "Epoch 18/500\n",
      "14/14 [==============================] - 0s 5ms/step - loss: 5037.4126 - val_loss: 4367.4966\n",
      "Epoch 19/500\n",
      "14/14 [==============================] - 0s 4ms/step - loss: 4982.4707 - val_loss: 4316.4463\n",
      "Epoch 20/500\n",
      "14/14 [==============================] - 0s 5ms/step - loss: 4928.0615 - val_loss: 4265.9033\n",
      "Epoch 21/500\n",
      "14/14 [==============================] - 0s 5ms/step - loss: 4874.1675 - val_loss: 4215.8516\n",
      "Epoch 22/500\n",
      "14/14 [==============================] - 0s 4ms/step - loss: 4820.7739 - val_loss: 4166.2817\n",
      "Epoch 23/500\n",
      "14/14 [==============================] - 0s 5ms/step - loss: 4767.8677 - val_loss: 4117.1802\n",
      "Epoch 24/500\n",
      "14/14 [==============================] - 0s 4ms/step - loss: 4715.4395 - val_loss: 4068.5386\n",
      "Epoch 25/500\n",
      "14/14 [==============================] - 0s 4ms/step - loss: 4663.4800 - val_loss: 4020.3494\n",
      "Epoch 26/500\n",
      "14/14 [==============================] - 0s 4ms/step - loss: 4611.9814 - val_loss: 3972.6050\n",
      "Epoch 27/500\n",
      "14/14 [==============================] - 0s 4ms/step - loss: 4560.9365 - val_loss: 3925.2981\n",
      "Epoch 28/500\n",
      "14/14 [==============================] - 0s 4ms/step - loss: 4510.3379 - val_loss: 3878.4250\n",
      "Epoch 29/500\n",
      "14/14 [==============================] - 0s 4ms/step - loss: 4460.1816 - val_loss: 3831.9785\n",
      "Epoch 30/500\n",
      "14/14 [==============================] - 0s 5ms/step - loss: 4410.4609 - val_loss: 3785.9548\n",
      "Epoch 31/500\n",
      "14/14 [==============================] - 0s 4ms/step - loss: 4361.1709 - val_loss: 3740.3489\n",
      "Epoch 32/500\n",
      "14/14 [==============================] - 0s 4ms/step - loss: 4312.3076 - val_loss: 3695.1562\n",
      "Epoch 33/500\n",
      "14/14 [==============================] - 0s 4ms/step - loss: 4263.8662 - val_loss: 3650.3723\n",
      "Epoch 34/500\n",
      "14/14 [==============================] - 0s 4ms/step - loss: 4215.8418 - val_loss: 3605.9946\n",
      "Epoch 35/500\n",
      "14/14 [==============================] - 0s 5ms/step - loss: 4168.2329 - val_loss: 3562.0176\n",
      "Epoch 36/500\n",
      "14/14 [==============================] - 0s 4ms/step - loss: 4121.0322 - val_loss: 3518.4392\n",
      "Epoch 37/500\n",
      "14/14 [==============================] - 0s 5ms/step - loss: 4074.2400 - val_loss: 3475.2554\n",
      "Epoch 38/500\n",
      "14/14 [==============================] - 0s 4ms/step - loss: 4027.8494 - val_loss: 3432.4629\n",
      "Epoch 39/500\n",
      "14/14 [==============================] - 0s 4ms/step - loss: 3981.8591 - val_loss: 3390.0581\n",
      "Epoch 40/500\n",
      "14/14 [==============================] - 0s 5ms/step - loss: 3936.2661 - val_loss: 3348.0391\n",
      "Epoch 41/500\n",
      "14/14 [==============================] - 0s 4ms/step - loss: 3891.0657 - val_loss: 3306.4026\n",
      "Epoch 42/500\n",
      "14/14 [==============================] - 0s 5ms/step - loss: 3846.2563 - val_loss: 3265.1443\n",
      "Epoch 43/500\n",
      "14/14 [==============================] - 0s 4ms/step - loss: 3801.8342 - val_loss: 3224.2634\n",
      "Epoch 44/500\n",
      "14/14 [==============================] - 0s 5ms/step - loss: 3757.7971 - val_loss: 3183.7542\n",
      "Epoch 45/500\n",
      "14/14 [==============================] - 0s 4ms/step - loss: 3714.1409 - val_loss: 3143.6179\n",
      "Epoch 46/500\n",
      "14/14 [==============================] - 0s 4ms/step - loss: 3670.8645 - val_loss: 3103.8481\n",
      "Epoch 47/500\n",
      "14/14 [==============================] - 0s 4ms/step - loss: 3627.9646 - val_loss: 3064.4446\n",
      "Epoch 48/500\n",
      "14/14 [==============================] - 0s 4ms/step - loss: 3585.4380 - val_loss: 3025.4041\n",
      "Epoch 49/500\n",
      "14/14 [==============================] - 0s 4ms/step - loss: 3543.2827 - val_loss: 2986.7239\n",
      "Epoch 50/500\n",
      "14/14 [==============================] - 0s 9ms/step - loss: 3501.4968 - val_loss: 2948.4026\n",
      "Epoch 51/500\n",
      "14/14 [==============================] - 0s 4ms/step - loss: 3460.0764 - val_loss: 2910.4351\n",
      "Epoch 52/500\n",
      "14/14 [==============================] - 0s 4ms/step - loss: 3419.0200 - val_loss: 2872.8215\n",
      "Epoch 53/500\n",
      "14/14 [==============================] - 0s 4ms/step - loss: 3378.3250 - val_loss: 2835.5583\n",
      "Epoch 54/500\n",
      "14/14 [==============================] - 0s 5ms/step - loss: 3337.9883 - val_loss: 2798.6440\n",
      "Epoch 55/500\n",
      "14/14 [==============================] - 0s 4ms/step - loss: 3298.0083 - val_loss: 2762.0757\n",
      "Epoch 56/500\n",
      "14/14 [==============================] - 0s 5ms/step - loss: 3258.3828 - val_loss: 2725.8496\n",
      "Epoch 57/500\n",
      "14/14 [==============================] - 0s 4ms/step - loss: 3219.1084 - val_loss: 2689.9666\n",
      "Epoch 58/500\n",
      "14/14 [==============================] - 0s 5ms/step - loss: 3177.2261 - val_loss: 2646.9482\n",
      "Epoch 59/500\n",
      "14/14 [==============================] - 0s 4ms/step - loss: 3131.0471 - val_loss: 2606.5764\n",
      "Epoch 60/500\n",
      "14/14 [==============================] - 0s 4ms/step - loss: 3087.4580 - val_loss: 2567.2515\n",
      "Epoch 61/500\n",
      "14/14 [==============================] - 0s 4ms/step - loss: 3045.0627 - val_loss: 2529.0037\n",
      "Epoch 62/500\n",
      "14/14 [==============================] - 0s 4ms/step - loss: 3003.7217 - val_loss: 2491.6318\n",
      "Epoch 63/500\n",
      "14/14 [==============================] - 0s 5ms/step - loss: 2963.2393 - val_loss: 2454.9910\n",
      "Epoch 64/500\n",
      "14/14 [==============================] - 0s 4ms/step - loss: 2923.4810 - val_loss: 2418.9819\n",
      "Epoch 65/500\n",
      "14/14 [==============================] - 0s 5ms/step - loss: 2884.3562 - val_loss: 2383.5405\n",
      "Epoch 66/500\n",
      "14/14 [==============================] - 0s 4ms/step - loss: 2845.8054 - val_loss: 2348.6211\n",
      "Epoch 67/500\n",
      "14/14 [==============================] - 0s 4ms/step - loss: 2807.7854 - val_loss: 2314.1897\n",
      "Epoch 68/500\n",
      "14/14 [==============================] - 0s 4ms/step - loss: 2770.2627 - val_loss: 2280.2209\n",
      "Epoch 69/500\n",
      "14/14 [==============================] - 0s 4ms/step - loss: 2733.2144 - val_loss: 2246.6946\n",
      "Epoch 70/500\n",
      "14/14 [==============================] - 0s 5ms/step - loss: 2696.6182 - val_loss: 2213.5933\n",
      "Epoch 71/500\n",
      "14/14 [==============================] - 0s 4ms/step - loss: 2660.4587 - val_loss: 2180.9053\n",
      "Epoch 72/500\n",
      "14/14 [==============================] - 0s 4ms/step - loss: 2624.7229 - val_loss: 2148.6165\n",
      "Epoch 73/500\n",
      "14/14 [==============================] - 0s 4ms/step - loss: 2589.3972 - val_loss: 2116.7180\n",
      "Epoch 74/500\n",
      "14/14 [==============================] - 0s 4ms/step - loss: 2554.4736 - val_loss: 2085.2009\n",
      "Epoch 75/500\n",
      "14/14 [==============================] - 0s 5ms/step - loss: 2519.9414 - val_loss: 2054.0574\n",
      "Epoch 76/500\n",
      "14/14 [==============================] - 0s 4ms/step - loss: 2485.7932 - val_loss: 2023.2799\n",
      "Epoch 77/500\n",
      "14/14 [==============================] - 0s 4ms/step - loss: 2452.0222 - val_loss: 1992.8619\n",
      "Epoch 78/500\n",
      "14/14 [==============================] - 0s 5ms/step - loss: 2418.6213 - val_loss: 1962.7980\n",
      "Epoch 79/500\n",
      "14/14 [==============================] - 0s 4ms/step - loss: 2385.5852 - val_loss: 1933.0830\n",
      "Epoch 80/500\n",
      "14/14 [==============================] - 0s 5ms/step - loss: 2352.9077 - val_loss: 1903.7119\n",
      "Epoch 81/500\n",
      "14/14 [==============================] - 0s 4ms/step - loss: 2320.5847 - val_loss: 1874.6787\n",
      "Epoch 82/500\n",
      "14/14 [==============================] - 0s 5ms/step - loss: 2288.6101 - val_loss: 1845.9803\n",
      "Epoch 83/500\n",
      "14/14 [==============================] - 0s 4ms/step - loss: 2256.9805 - val_loss: 1817.6129\n",
      "Epoch 84/500\n",
      "14/14 [==============================] - 0s 4ms/step - loss: 2225.6909 - val_loss: 1789.5708\n",
      "Epoch 85/500\n",
      "14/14 [==============================] - 0s 5ms/step - loss: 2194.7380 - val_loss: 1761.8527\n",
      "Epoch 86/500\n",
      "14/14 [==============================] - 0s 9ms/step - loss: 2164.1174 - val_loss: 1734.4531\n",
      "Epoch 87/500\n",
      "14/14 [==============================] - 0s 4ms/step - loss: 2133.8262 - val_loss: 1707.3689\n",
      "Epoch 88/500\n",
      "14/14 [==============================] - 0s 5ms/step - loss: 2103.8601 - val_loss: 1680.5970\n",
      "Epoch 89/500\n",
      "14/14 [==============================] - 0s 4ms/step - loss: 2074.2156 - val_loss: 1654.1334\n",
      "Epoch 90/500\n",
      "14/14 [==============================] - 0s 4ms/step - loss: 2044.8898 - val_loss: 1627.9768\n",
      "Epoch 91/500\n",
      "14/14 [==============================] - 0s 4ms/step - loss: 2015.8798 - val_loss: 1602.1226\n",
      "Epoch 92/500\n",
      "14/14 [==============================] - 0s 4ms/step - loss: 1987.1826 - val_loss: 1576.5687\n",
      "Epoch 93/500\n",
      "14/14 [==============================] - 0s 5ms/step - loss: 1958.7954 - val_loss: 1551.3120\n",
      "Epoch 94/500\n",
      "14/14 [==============================] - 0s 4ms/step - loss: 1930.7148 - val_loss: 1526.3497\n",
      "Epoch 95/500\n",
      "14/14 [==============================] - 0s 4ms/step - loss: 1902.9380 - val_loss: 1501.6794\n",
      "Epoch 96/500\n",
      "14/14 [==============================] - 0s 4ms/step - loss: 1875.4626 - val_loss: 1477.2985\n",
      "Epoch 97/500\n",
      "14/14 [==============================] - 0s 4ms/step - loss: 1848.2863 - val_loss: 1453.2046\n",
      "Epoch 98/500\n",
      "14/14 [==============================] - 0s 4ms/step - loss: 1821.4058 - val_loss: 1429.3940\n",
      "Epoch 99/500\n",
      "14/14 [==============================] - 0s 5ms/step - loss: 1794.8193 - val_loss: 1405.8650\n",
      "Epoch 100/500\n",
      "14/14 [==============================] - 0s 4ms/step - loss: 1768.5229 - val_loss: 1382.6156\n",
      "Epoch 101/500\n",
      "14/14 [==============================] - 0s 5ms/step - loss: 1742.5159 - val_loss: 1359.6427\n",
      "Epoch 102/500\n",
      "14/14 [==============================] - 0s 4ms/step - loss: 1716.7949 - val_loss: 1336.9449\n",
      "Epoch 103/500\n",
      "14/14 [==============================] - 0s 4ms/step - loss: 1691.3579 - val_loss: 1314.5192\n",
      "Epoch 104/500\n",
      "14/14 [==============================] - 0s 5ms/step - loss: 1666.2026 - val_loss: 1292.3641\n",
      "Epoch 105/500\n",
      "14/14 [==============================] - 0s 4ms/step - loss: 1641.3269 - val_loss: 1270.4761\n",
      "Epoch 106/500\n",
      "14/14 [==============================] - 0s 5ms/step - loss: 1616.7281 - val_loss: 1248.8535\n",
      "Epoch 107/500\n",
      "14/14 [==============================] - 0s 4ms/step - loss: 1592.4043 - val_loss: 1227.4944\n",
      "Epoch 108/500\n",
      "14/14 [==============================] - 0s 4ms/step - loss: 1568.3531 - val_loss: 1206.3962\n",
      "Epoch 109/500\n",
      "14/14 [==============================] - 0s 4ms/step - loss: 1544.5723 - val_loss: 1185.5574\n",
      "Epoch 110/500\n",
      "14/14 [==============================] - 0s 4ms/step - loss: 1521.0593 - val_loss: 1164.9762\n",
      "Epoch 111/500\n",
      "14/14 [==============================] - 0s 5ms/step - loss: 1497.8138 - val_loss: 1144.6489\n",
      "Epoch 112/500\n",
      "14/14 [==============================] - 0s 3ms/step - loss: 1474.8318 - val_loss: 1124.5748\n",
      "Epoch 113/500\n",
      "14/14 [==============================] - 0s 5ms/step - loss: 1452.1122 - val_loss: 1104.7520\n",
      "Epoch 114/500\n",
      "14/14 [==============================] - 0s 4ms/step - loss: 1429.6527 - val_loss: 1085.1769\n",
      "Epoch 115/500\n",
      "14/14 [==============================] - 0s 5ms/step - loss: 1407.4512 - val_loss: 1065.8497\n",
      "Epoch 116/500\n",
      "14/14 [==============================] - 0s 4ms/step - loss: 1385.5056 - val_loss: 1046.7667\n",
      "Epoch 117/500\n",
      "14/14 [==============================] - 0s 9ms/step - loss: 1363.8143 - val_loss: 1027.9263\n",
      "Epoch 118/500\n",
      "14/14 [==============================] - 0s 5ms/step - loss: 1342.3749 - val_loss: 1009.3270\n",
      "Epoch 119/500\n",
      "14/14 [==============================] - 0s 4ms/step - loss: 1321.1857 - val_loss: 990.9664\n",
      "Epoch 120/500\n",
      "14/14 [==============================] - 0s 5ms/step - loss: 1300.2451 - val_loss: 972.8434\n",
      "Epoch 121/500\n",
      "14/14 [==============================] - 0s 4ms/step - loss: 1279.5504 - val_loss: 954.9552\n",
      "Epoch 122/500\n",
      "14/14 [==============================] - 0s 5ms/step - loss: 1259.1006 - val_loss: 937.2998\n",
      "Epoch 123/500\n",
      "14/14 [==============================] - 0s 4ms/step - loss: 1238.8932 - val_loss: 919.8768\n",
      "Epoch 124/500\n",
      "14/14 [==============================] - 0s 5ms/step - loss: 1218.9265 - val_loss: 902.6827\n",
      "Epoch 125/500\n",
      "14/14 [==============================] - 0s 5ms/step - loss: 1199.1989 - val_loss: 885.7156\n",
      "Epoch 126/500\n",
      "14/14 [==============================] - 0s 4ms/step - loss: 1179.7080 - val_loss: 868.9753\n",
      "Epoch 127/500\n",
      "14/14 [==============================] - 0s 4ms/step - loss: 1160.4525 - val_loss: 852.4587\n",
      "Epoch 128/500\n",
      "14/14 [==============================] - 0s 4ms/step - loss: 1141.4299 - val_loss: 836.1634\n",
      "Epoch 129/500\n",
      "14/14 [==============================] - 0s 5ms/step - loss: 1122.6389 - val_loss: 820.0890\n",
      "Epoch 130/500\n",
      "14/14 [==============================] - 0s 4ms/step - loss: 1104.0776 - val_loss: 804.2329\n",
      "Epoch 131/500\n",
      "14/14 [==============================] - 0s 4ms/step - loss: 1085.7444 - val_loss: 788.5935\n",
      "Epoch 132/500\n",
      "14/14 [==============================] - 0s 4ms/step - loss: 1067.6370 - val_loss: 773.1696\n",
      "Epoch 133/500\n",
      "14/14 [==============================] - 0s 5ms/step - loss: 1049.7544 - val_loss: 757.9583\n",
      "Epoch 134/500\n",
      "14/14 [==============================] - 0s 4ms/step - loss: 1032.0940 - val_loss: 742.9589\n",
      "Epoch 135/500\n",
      "14/14 [==============================] - 0s 4ms/step - loss: 1014.6548 - val_loss: 728.1681\n",
      "Epoch 136/500\n",
      "14/14 [==============================] - 0s 4ms/step - loss: 997.4343 - val_loss: 713.5861\n",
      "Epoch 137/500\n",
      "14/14 [==============================] - 0s 4ms/step - loss: 980.4313 - val_loss: 699.2095\n",
      "Epoch 138/500\n",
      "14/14 [==============================] - 0s 4ms/step - loss: 963.6441 - val_loss: 685.0377\n",
      "Epoch 139/500\n",
      "14/14 [==============================] - 0s 4ms/step - loss: 947.0709 - val_loss: 671.0685\n",
      "Epoch 140/500\n",
      "14/14 [==============================] - 0s 3ms/step - loss: 930.7097 - val_loss: 657.3000\n",
      "Epoch 141/500\n",
      "14/14 [==============================] - 0s 4ms/step - loss: 914.5587 - val_loss: 643.7316\n",
      "Epoch 142/500\n",
      "14/14 [==============================] - 0s 5ms/step - loss: 898.6169 - val_loss: 630.3602\n",
      "Epoch 143/500\n",
      "14/14 [==============================] - 0s 4ms/step - loss: 882.8822 - val_loss: 617.1843\n",
      "Epoch 144/500\n",
      "14/14 [==============================] - 0s 5ms/step - loss: 867.3530 - val_loss: 604.2028\n",
      "Epoch 145/500\n",
      "14/14 [==============================] - 0s 3ms/step - loss: 852.0278 - val_loss: 591.4135\n",
      "Epoch 146/500\n",
      "14/14 [==============================] - 0s 5ms/step - loss: 836.9040 - val_loss: 578.8157\n",
      "Epoch 147/500\n",
      "14/14 [==============================] - 0s 4ms/step - loss: 821.9810 - val_loss: 566.4062\n",
      "Epoch 148/500\n",
      "14/14 [==============================] - 0s 5ms/step - loss: 807.2571 - val_loss: 554.1851\n",
      "Epoch 149/500\n",
      "14/14 [==============================] - 0s 5ms/step - loss: 792.7299 - val_loss: 542.1490\n",
      "Epoch 150/500\n",
      "14/14 [==============================] - 0s 10ms/step - loss: 778.3982 - val_loss: 530.2975\n",
      "Epoch 151/500\n",
      "14/14 [==============================] - 0s 5ms/step - loss: 764.2609 - val_loss: 518.6281\n",
      "Epoch 152/500\n",
      "14/14 [==============================] - 0s 4ms/step - loss: 750.3154 - val_loss: 507.1397\n",
      "Epoch 153/500\n",
      "14/14 [==============================] - 0s 4ms/step - loss: 736.5607 - val_loss: 495.8310\n",
      "Epoch 154/500\n",
      "14/14 [==============================] - 0s 4ms/step - loss: 722.9951 - val_loss: 484.6995\n",
      "Epoch 155/500\n",
      "14/14 [==============================] - 0s 4ms/step - loss: 709.6166 - val_loss: 473.7439\n",
      "Epoch 156/500\n",
      "14/14 [==============================] - 0s 5ms/step - loss: 696.4242 - val_loss: 462.9629\n",
      "Epoch 157/500\n",
      "14/14 [==============================] - 0s 4ms/step - loss: 683.4161 - val_loss: 452.3545\n",
      "Epoch 158/500\n",
      "14/14 [==============================] - 0s 4ms/step - loss: 670.5903 - val_loss: 441.9165\n",
      "Epoch 159/500\n",
      "14/14 [==============================] - 0s 4ms/step - loss: 657.9454 - val_loss: 431.6483\n",
      "Epoch 160/500\n",
      "14/14 [==============================] - 0s 4ms/step - loss: 645.4799 - val_loss: 421.5482\n",
      "Epoch 161/500\n",
      "14/14 [==============================] - 0s 5ms/step - loss: 633.1926 - val_loss: 411.6146\n",
      "Epoch 162/500\n",
      "14/14 [==============================] - 0s 4ms/step - loss: 621.0812 - val_loss: 401.8453\n",
      "Epoch 163/500\n",
      "14/14 [==============================] - 0s 5ms/step - loss: 609.1447 - val_loss: 392.2392\n",
      "Epoch 164/500\n",
      "14/14 [==============================] - 0s 4ms/step - loss: 597.3813 - val_loss: 382.7948\n",
      "Epoch 165/500\n",
      "14/14 [==============================] - 0s 4ms/step - loss: 585.7897 - val_loss: 373.5105\n",
      "Epoch 166/500\n",
      "14/14 [==============================] - 0s 5ms/step - loss: 574.3681 - val_loss: 364.3850\n",
      "Epoch 167/500\n",
      "14/14 [==============================] - 0s 4ms/step - loss: 563.1151 - val_loss: 355.4158\n",
      "Epoch 168/500\n",
      "14/14 [==============================] - 0s 5ms/step - loss: 552.0287 - val_loss: 346.6020\n",
      "Epoch 169/500\n",
      "14/14 [==============================] - 0s 4ms/step - loss: 541.1080 - val_loss: 337.9420\n",
      "Epoch 170/500\n",
      "14/14 [==============================] - 0s 4ms/step - loss: 530.3512 - val_loss: 329.4341\n",
      "Epoch 171/500\n",
      "14/14 [==============================] - 0s 5ms/step - loss: 519.7566 - val_loss: 321.0769\n",
      "Epoch 172/500\n",
      "14/14 [==============================] - 0s 4ms/step - loss: 509.3230 - val_loss: 312.8685\n",
      "Epoch 173/500\n",
      "14/14 [==============================] - 0s 5ms/step - loss: 499.0486 - val_loss: 304.8078\n",
      "Epoch 174/500\n",
      "14/14 [==============================] - 0s 4ms/step - loss: 488.9320 - val_loss: 296.8932\n",
      "Epoch 175/500\n",
      "14/14 [==============================] - 0s 5ms/step - loss: 478.9717 - val_loss: 289.1228\n",
      "Epoch 176/500\n",
      "14/14 [==============================] - 0s 5ms/step - loss: 469.1661 - val_loss: 281.4953\n",
      "Epoch 177/500\n",
      "14/14 [==============================] - 0s 4ms/step - loss: 459.5136 - val_loss: 274.0088\n",
      "Epoch 178/500\n",
      "14/14 [==============================] - 0s 4ms/step - loss: 450.0131 - val_loss: 266.6631\n",
      "Epoch 179/500\n",
      "14/14 [==============================] - 0s 4ms/step - loss: 440.6625 - val_loss: 259.4551\n",
      "Epoch 180/500\n",
      "14/14 [==============================] - 0s 4ms/step - loss: 431.4610 - val_loss: 252.3840\n",
      "Epoch 181/500\n",
      "14/14 [==============================] - 0s 4ms/step - loss: 422.4067 - val_loss: 245.4490\n",
      "Epoch 182/500\n",
      "14/14 [==============================] - 0s 8ms/step - loss: 413.4986 - val_loss: 238.6471\n",
      "Epoch 183/500\n",
      "14/14 [==============================] - 0s 5ms/step - loss: 404.7344 - val_loss: 231.9776\n",
      "Epoch 184/500\n",
      "14/14 [==============================] - 0s 4ms/step - loss: 396.1132 - val_loss: 225.4393\n",
      "Epoch 185/500\n",
      "14/14 [==============================] - 0s 4ms/step - loss: 387.6335 - val_loss: 219.0297\n",
      "Epoch 186/500\n",
      "14/14 [==============================] - 0s 4ms/step - loss: 379.2935 - val_loss: 212.7485\n",
      "Epoch 187/500\n",
      "14/14 [==============================] - 0s 4ms/step - loss: 371.0922 - val_loss: 206.5939\n",
      "Epoch 188/500\n",
      "14/14 [==============================] - 0s 4ms/step - loss: 363.0278 - val_loss: 200.5636\n",
      "Epoch 189/500\n",
      "14/14 [==============================] - 0s 4ms/step - loss: 355.0988 - val_loss: 194.6569\n",
      "Epoch 190/500\n",
      "14/14 [==============================] - 0s 5ms/step - loss: 347.3041 - val_loss: 188.8726\n",
      "Epoch 191/500\n",
      "14/14 [==============================] - 0s 4ms/step - loss: 339.6421 - val_loss: 183.2082\n",
      "Epoch 192/500\n",
      "14/14 [==============================] - 0s 5ms/step - loss: 332.1111 - val_loss: 177.6629\n",
      "Epoch 193/500\n",
      "14/14 [==============================] - 0s 4ms/step - loss: 324.7099 - val_loss: 172.2355\n",
      "Epoch 194/500\n",
      "14/14 [==============================] - 0s 4ms/step - loss: 317.4374 - val_loss: 166.9244\n",
      "Epoch 195/500\n",
      "14/14 [==============================] - 0s 4ms/step - loss: 310.2918 - val_loss: 161.7276\n",
      "Epoch 196/500\n",
      "14/14 [==============================] - 0s 5ms/step - loss: 303.2716 - val_loss: 156.6441\n",
      "Epoch 197/500\n",
      "14/14 [==============================] - 0s 5ms/step - loss: 296.3753 - val_loss: 151.6725\n",
      "Epoch 198/500\n",
      "14/14 [==============================] - 0s 5ms/step - loss: 289.6019 - val_loss: 146.8112\n",
      "Epoch 199/500\n",
      "14/14 [==============================] - 0s 5ms/step - loss: 282.9497 - val_loss: 142.0588\n",
      "Epoch 200/500\n",
      "14/14 [==============================] - 0s 5ms/step - loss: 276.4174 - val_loss: 137.4140\n",
      "Epoch 201/500\n",
      "14/14 [==============================] - 0s 5ms/step - loss: 270.0038 - val_loss: 132.8754\n",
      "Epoch 202/500\n",
      "14/14 [==============================] - 0s 6ms/step - loss: 263.7072 - val_loss: 128.4416\n",
      "Epoch 203/500\n",
      "14/14 [==============================] - 0s 4ms/step - loss: 257.5264 - val_loss: 124.1109\n",
      "Epoch 204/500\n",
      "14/14 [==============================] - 0s 6ms/step - loss: 251.4598 - val_loss: 119.8821\n",
      "Epoch 205/500\n",
      "14/14 [==============================] - 0s 3ms/step - loss: 245.5061 - val_loss: 115.7537\n",
      "Epoch 206/500\n",
      "14/14 [==============================] - 0s 4ms/step - loss: 239.6639 - val_loss: 111.7245\n",
      "Epoch 207/500\n",
      "14/14 [==============================] - 0s 5ms/step - loss: 233.9322 - val_loss: 107.7934\n",
      "Epoch 208/500\n",
      "14/14 [==============================] - 0s 5ms/step - loss: 228.3092 - val_loss: 103.9583\n",
      "Epoch 209/500\n",
      "14/14 [==============================] - 0s 10ms/step - loss: 222.7939 - val_loss: 100.2181\n",
      "Epoch 210/500\n",
      "14/14 [==============================] - 0s 5ms/step - loss: 217.3846 - val_loss: 96.5718\n",
      "Epoch 211/500\n",
      "14/14 [==============================] - 0s 4ms/step - loss: 212.0803 - val_loss: 93.0173\n",
      "Epoch 212/500\n",
      "14/14 [==============================] - 0s 4ms/step - loss: 206.8791 - val_loss: 89.5542\n",
      "Epoch 213/500\n",
      "14/14 [==============================] - 0s 4ms/step - loss: 201.7803 - val_loss: 86.1803\n",
      "Epoch 214/500\n",
      "14/14 [==============================] - 0s 4ms/step - loss: 196.7821 - val_loss: 82.8943\n",
      "Epoch 215/500\n",
      "14/14 [==============================] - 0s 4ms/step - loss: 191.8834 - val_loss: 79.6956\n",
      "Epoch 216/500\n",
      "14/14 [==============================] - 0s 5ms/step - loss: 187.0831 - val_loss: 76.5825\n",
      "Epoch 217/500\n",
      "14/14 [==============================] - 0s 4ms/step - loss: 182.3796 - val_loss: 73.5536\n",
      "Epoch 218/500\n",
      "14/14 [==============================] - 0s 5ms/step - loss: 177.7717 - val_loss: 70.6073\n",
      "Epoch 219/500\n",
      "14/14 [==============================] - 0s 5ms/step - loss: 173.2580 - val_loss: 67.7424\n",
      "Epoch 220/500\n",
      "14/14 [==============================] - 0s 4ms/step - loss: 168.8371 - val_loss: 64.9579\n",
      "Epoch 221/500\n",
      "14/14 [==============================] - 0s 5ms/step - loss: 164.5081 - val_loss: 62.2527\n",
      "Epoch 222/500\n",
      "14/14 [==============================] - 0s 5ms/step - loss: 160.2694 - val_loss: 59.6247\n",
      "Epoch 223/500\n",
      "14/14 [==============================] - 0s 4ms/step - loss: 156.1199 - val_loss: 57.0732\n",
      "Epoch 224/500\n",
      "14/14 [==============================] - 0s 4ms/step - loss: 152.0579 - val_loss: 54.5969\n",
      "Epoch 225/500\n",
      "14/14 [==============================] - 0s 4ms/step - loss: 148.0829 - val_loss: 52.1943\n",
      "Epoch 226/500\n",
      "14/14 [==============================] - 0s 5ms/step - loss: 144.1930 - val_loss: 49.8643\n",
      "Epoch 227/500\n",
      "14/14 [==============================] - 0s 5ms/step - loss: 140.3873 - val_loss: 47.6056\n",
      "Epoch 228/500\n",
      "14/14 [==============================] - 0s 4ms/step - loss: 136.6644 - val_loss: 45.4172\n",
      "Epoch 229/500\n",
      "14/14 [==============================] - 0s 5ms/step - loss: 133.0231 - val_loss: 43.2973\n",
      "Epoch 230/500\n",
      "14/14 [==============================] - 0s 5ms/step - loss: 129.4624 - val_loss: 41.2449\n",
      "Epoch 231/500\n",
      "14/14 [==============================] - 0s 5ms/step - loss: 125.9807 - val_loss: 39.2591\n",
      "Epoch 232/500\n",
      "14/14 [==============================] - 0s 3ms/step - loss: 122.5771 - val_loss: 37.3383\n",
      "Epoch 233/500\n",
      "14/14 [==============================] - 0s 5ms/step - loss: 119.2500 - val_loss: 35.4816\n",
      "Epoch 234/500\n",
      "14/14 [==============================] - 0s 4ms/step - loss: 115.9988 - val_loss: 33.6873\n",
      "Epoch 235/500\n",
      "14/14 [==============================] - 0s 5ms/step - loss: 112.8217 - val_loss: 31.9548\n",
      "Epoch 236/500\n",
      "14/14 [==============================] - 0s 9ms/step - loss: 109.7180 - val_loss: 30.2823\n",
      "Epoch 237/500\n",
      "14/14 [==============================] - 0s 4ms/step - loss: 106.6860 - val_loss: 28.6691\n",
      "Epoch 238/500\n",
      "14/14 [==============================] - 0s 4ms/step - loss: 103.7249 - val_loss: 27.1140\n",
      "Epoch 239/500\n",
      "14/14 [==============================] - 0s 5ms/step - loss: 100.8335 - val_loss: 25.6154\n",
      "Epoch 240/500\n",
      "14/14 [==============================] - 0s 4ms/step - loss: 98.0105 - val_loss: 24.1728\n",
      "Epoch 241/500\n",
      "14/14 [==============================] - 0s 4ms/step - loss: 95.2550 - val_loss: 22.7845\n",
      "Epoch 242/500\n",
      "14/14 [==============================] - 0s 4ms/step - loss: 92.5655 - val_loss: 21.4496\n",
      "Epoch 243/500\n",
      "14/14 [==============================] - 0s 5ms/step - loss: 89.9412 - val_loss: 20.1669\n",
      "Epoch 244/500\n",
      "14/14 [==============================] - 0s 4ms/step - loss: 87.3810 - val_loss: 18.9355\n",
      "Epoch 245/500\n",
      "14/14 [==============================] - 0s 5ms/step - loss: 84.8837 - val_loss: 17.7541\n",
      "Epoch 246/500\n",
      "14/14 [==============================] - 0s 5ms/step - loss: 82.4481 - val_loss: 16.6217\n",
      "Epoch 247/500\n",
      "14/14 [==============================] - 0s 4ms/step - loss: 80.0733 - val_loss: 15.5372\n",
      "Epoch 248/500\n",
      "14/14 [==============================] - 0s 5ms/step - loss: 77.7581 - val_loss: 14.4992\n",
      "Epoch 249/500\n",
      "14/14 [==============================] - 0s 4ms/step - loss: 75.5012 - val_loss: 13.5072\n",
      "Epoch 250/500\n",
      "14/14 [==============================] - 0s 5ms/step - loss: 73.3020 - val_loss: 12.5599\n",
      "Epoch 251/500\n",
      "14/14 [==============================] - 0s 5ms/step - loss: 71.1593 - val_loss: 11.6562\n",
      "Epoch 252/500\n",
      "14/14 [==============================] - 0s 4ms/step - loss: 69.0717 - val_loss: 10.7950\n",
      "Epoch 253/500\n",
      "14/14 [==============================] - 0s 4ms/step - loss: 67.0387 - val_loss: 9.9755\n",
      "Epoch 254/500\n",
      "14/14 [==============================] - 0s 4ms/step - loss: 65.0589 - val_loss: 9.1964\n",
      "Epoch 255/500\n",
      "14/14 [==============================] - 0s 4ms/step - loss: 63.1313 - val_loss: 8.4568\n",
      "Epoch 256/500\n",
      "14/14 [==============================] - 0s 4ms/step - loss: 61.2548 - val_loss: 7.7557\n",
      "Epoch 257/500\n",
      "14/14 [==============================] - 0s 4ms/step - loss: 59.4288 - val_loss: 7.0924\n",
      "Epoch 258/500\n",
      "14/14 [==============================] - 0s 4ms/step - loss: 57.6520 - val_loss: 6.4657\n",
      "Epoch 259/500\n",
      "14/14 [==============================] - 0s 4ms/step - loss: 55.9236 - val_loss: 5.8745\n",
      "Epoch 260/500\n",
      "14/14 [==============================] - 0s 4ms/step - loss: 54.2423 - val_loss: 5.3180\n",
      "Epoch 261/500\n",
      "14/14 [==============================] - 0s 9ms/step - loss: 52.6076 - val_loss: 4.7953\n",
      "Epoch 262/500\n",
      "14/14 [==============================] - 0s 4ms/step - loss: 51.0183 - val_loss: 4.3055\n",
      "Epoch 263/500\n",
      "14/14 [==============================] - 0s 4ms/step - loss: 49.4734 - val_loss: 3.8475\n",
      "Epoch 264/500\n",
      "14/14 [==============================] - 0s 5ms/step - loss: 47.9721 - val_loss: 3.4206\n",
      "Epoch 265/500\n",
      "14/14 [==============================] - 0s 4ms/step - loss: 46.5134 - val_loss: 3.0237\n",
      "Epoch 266/500\n",
      "14/14 [==============================] - 0s 4ms/step - loss: 45.0964 - val_loss: 2.6562\n",
      "Epoch 267/500\n",
      "14/14 [==============================] - 0s 4ms/step - loss: 43.7202 - val_loss: 2.3170\n",
      "Epoch 268/500\n",
      "14/14 [==============================] - 0s 4ms/step - loss: 42.3841 - val_loss: 2.0053\n",
      "Epoch 269/500\n",
      "14/14 [==============================] - 0s 4ms/step - loss: 41.0869 - val_loss: 1.7203\n",
      "Epoch 270/500\n",
      "14/14 [==============================] - 0s 4ms/step - loss: 39.8281 - val_loss: 1.4612\n",
      "Epoch 271/500\n",
      "14/14 [==============================] - 0s 4ms/step - loss: 38.6066 - val_loss: 1.2272\n",
      "Epoch 272/500\n",
      "14/14 [==============================] - 0s 4ms/step - loss: 37.4216 - val_loss: 1.0172\n",
      "Epoch 273/500\n",
      "14/14 [==============================] - 0s 5ms/step - loss: 36.2722 - val_loss: 0.8308\n",
      "Epoch 274/500\n",
      "14/14 [==============================] - 0s 4ms/step - loss: 35.1578 - val_loss: 0.6670\n",
      "Epoch 275/500\n",
      "14/14 [==============================] - 0s 4ms/step - loss: 34.0774 - val_loss: 0.5251\n",
      "Epoch 276/500\n",
      "14/14 [==============================] - 0s 3ms/step - loss: 33.0301 - val_loss: 0.4043\n",
      "Epoch 277/500\n",
      "14/14 [==============================] - 0s 4ms/step - loss: 32.0153 - val_loss: 0.3038\n",
      "Epoch 278/500\n",
      "14/14 [==============================] - 0s 4ms/step - loss: 31.0323 - val_loss: 0.2230\n",
      "Epoch 279/500\n",
      "14/14 [==============================] - 0s 4ms/step - loss: 30.0801 - val_loss: 0.1612\n",
      "Epoch 280/500\n",
      "14/14 [==============================] - 0s 5ms/step - loss: 29.1582 - val_loss: 0.1175\n",
      "Epoch 281/500\n",
      "14/14 [==============================] - 0s 3ms/step - loss: 28.2657 - val_loss: 0.0914\n",
      "Epoch 282/500\n",
      "14/14 [==============================] - 0s 5ms/step - loss: 27.4017 - val_loss: 0.0821\n",
      "Epoch 283/500\n",
      "14/14 [==============================] - 0s 4ms/step - loss: 26.5659 - val_loss: 0.0889\n",
      "Epoch 284/500\n",
      "14/14 [==============================] - 0s 4ms/step - loss: 25.7572 - val_loss: 0.1113\n",
      "Epoch 285/500\n",
      "14/14 [==============================] - 0s 4ms/step - loss: 24.9751 - val_loss: 0.1485\n",
      "Epoch 286/500\n",
      "14/14 [==============================] - 0s 5ms/step - loss: 24.2188 - val_loss: 0.2000\n",
      "Epoch 287/500\n",
      "14/14 [==============================] - 0s 5ms/step - loss: 23.4877 - val_loss: 0.2650\n",
      "Epoch 288/500\n",
      "14/14 [==============================] - 0s 9ms/step - loss: 22.7811 - val_loss: 0.3431\n",
      "Epoch 289/500\n",
      "14/14 [==============================] - 0s 5ms/step - loss: 22.0985 - val_loss: 0.4336\n",
      "Epoch 290/500\n",
      "14/14 [==============================] - 0s 3ms/step - loss: 21.4390 - val_loss: 0.5359\n",
      "Epoch 291/500\n",
      "14/14 [==============================] - 0s 5ms/step - loss: 20.8022 - val_loss: 0.6495\n",
      "Epoch 292/500\n",
      "14/14 [==============================] - 0s 4ms/step - loss: 20.1873 - val_loss: 0.7738\n",
      "Epoch 293/500\n",
      "14/14 [==============================] - 0s 4ms/step - loss: 19.5939 - val_loss: 0.9083\n",
      "Epoch 294/500\n",
      "14/14 [==============================] - 0s 4ms/step - loss: 19.0211 - val_loss: 1.0524\n",
      "Epoch 295/500\n",
      "14/14 [==============================] - 0s 4ms/step - loss: 18.4687 - val_loss: 1.2055\n",
      "Epoch 296/500\n",
      "14/14 [==============================] - 0s 4ms/step - loss: 17.9358 - val_loss: 1.3674\n",
      "Epoch 297/500\n",
      "14/14 [==============================] - 0s 5ms/step - loss: 17.4219 - val_loss: 1.5373\n",
      "Epoch 298/500\n",
      "14/14 [==============================] - 0s 4ms/step - loss: 16.9265 - val_loss: 1.7148\n",
      "Epoch 299/500\n",
      "14/14 [==============================] - 0s 5ms/step - loss: 16.4491 - val_loss: 1.8995\n",
      "Epoch 300/500\n",
      "14/14 [==============================] - 0s 3ms/step - loss: 15.9891 - val_loss: 2.0909\n",
      "Epoch 301/500\n",
      "14/14 [==============================] - 0s 5ms/step - loss: 15.5461 - val_loss: 2.2886\n",
      "Epoch 302/500\n",
      "14/14 [==============================] - 0s 4ms/step - loss: 15.1194 - val_loss: 2.4921\n",
      "Epoch 303/500\n",
      "14/14 [==============================] - 0s 5ms/step - loss: 14.7085 - val_loss: 2.7010\n",
      "Epoch 304/500\n",
      "14/14 [==============================] - 0s 4ms/step - loss: 14.3131 - val_loss: 2.9149\n",
      "Epoch 305/500\n",
      "14/14 [==============================] - 0s 5ms/step - loss: 13.9327 - val_loss: 3.1334\n",
      "Epoch 306/500\n",
      "14/14 [==============================] - 0s 4ms/step - loss: 13.5667 - val_loss: 3.3561\n",
      "Epoch 307/500\n",
      "14/14 [==============================] - 0s 4ms/step - loss: 13.2148 - val_loss: 3.5826\n",
      "Epoch 308/500\n",
      "14/14 [==============================] - 0s 4ms/step - loss: 12.8763 - val_loss: 3.8126\n",
      "Epoch 309/500\n",
      "14/14 [==============================] - 0s 4ms/step - loss: 12.5510 - val_loss: 4.0458\n",
      "Epoch 310/500\n",
      "14/14 [==============================] - 0s 4ms/step - loss: 12.2384 - val_loss: 4.2816\n",
      "Epoch 311/500\n",
      "14/14 [==============================] - 0s 5ms/step - loss: 11.9381 - val_loss: 4.5201\n",
      "Epoch 312/500\n",
      "14/14 [==============================] - 0s 4ms/step - loss: 11.6496 - val_loss: 4.7605\n",
      "Epoch 313/500\n",
      "14/14 [==============================] - 0s 10ms/step - loss: 11.3727 - val_loss: 5.0030\n",
      "Epoch 314/500\n",
      "14/14 [==============================] - 0s 4ms/step - loss: 11.1068 - val_loss: 5.2467\n",
      "Epoch 315/500\n",
      "14/14 [==============================] - 0s 4ms/step - loss: 10.8517 - val_loss: 5.4918\n",
      "Epoch 316/500\n",
      "14/14 [==============================] - 0s 4ms/step - loss: 10.6069 - val_loss: 5.7378\n",
      "Epoch 317/500\n",
      "14/14 [==============================] - 0s 4ms/step - loss: 10.3722 - val_loss: 5.9846\n",
      "Epoch 318/500\n",
      "14/14 [==============================] - 0s 4ms/step - loss: 10.1470 - val_loss: 6.2318\n",
      "Epoch 319/500\n",
      "14/14 [==============================] - 0s 4ms/step - loss: 9.9312 - val_loss: 6.4792\n",
      "Epoch 320/500\n",
      "14/14 [==============================] - 0s 5ms/step - loss: 9.7244 - val_loss: 6.7265\n",
      "Epoch 321/500\n",
      "14/14 [==============================] - 0s 4ms/step - loss: 9.5262 - val_loss: 6.9736\n",
      "Epoch 322/500\n",
      "14/14 [==============================] - 0s 5ms/step - loss: 9.3364 - val_loss: 7.2203\n",
      "Epoch 323/500\n",
      "14/14 [==============================] - 0s 4ms/step - loss: 9.1545 - val_loss: 7.4661\n",
      "Epoch 324/500\n",
      "14/14 [==============================] - 0s 4ms/step - loss: 8.9805 - val_loss: 7.7111\n",
      "Epoch 325/500\n",
      "14/14 [==============================] - 0s 5ms/step - loss: 8.8140 - val_loss: 7.9550\n",
      "Epoch 326/500\n",
      "14/14 [==============================] - 0s 4ms/step - loss: 8.6546 - val_loss: 8.1977\n",
      "Epoch 327/500\n",
      "14/14 [==============================] - 0s 4ms/step - loss: 8.5022 - val_loss: 8.4391\n",
      "Epoch 328/500\n",
      "14/14 [==============================] - 0s 4ms/step - loss: 8.3563 - val_loss: 8.6787\n",
      "Epoch 329/500\n",
      "14/14 [==============================] - 0s 5ms/step - loss: 8.2168 - val_loss: 8.9166\n",
      "Epoch 330/500\n",
      "14/14 [==============================] - 0s 5ms/step - loss: 8.0835 - val_loss: 9.1527\n",
      "Epoch 331/500\n",
      "14/14 [==============================] - 0s 4ms/step - loss: 7.9561 - val_loss: 9.3868\n",
      "Epoch 332/500\n",
      "14/14 [==============================] - 0s 4ms/step - loss: 7.8344 - val_loss: 9.6186\n",
      "Epoch 333/500\n",
      "14/14 [==============================] - 0s 4ms/step - loss: 7.7182 - val_loss: 9.8482\n",
      "Epoch 334/500\n",
      "14/14 [==============================] - 0s 4ms/step - loss: 7.6072 - val_loss: 10.0753\n",
      "Epoch 335/500\n",
      "14/14 [==============================] - 0s 4ms/step - loss: 7.5013 - val_loss: 10.3002\n",
      "Epoch 336/500\n",
      "14/14 [==============================] - 0s 8ms/step - loss: 7.4001 - val_loss: 10.5221\n",
      "Epoch 337/500\n",
      "14/14 [==============================] - 0s 4ms/step - loss: 7.3036 - val_loss: 10.7414\n",
      "Epoch 338/500\n",
      "14/14 [==============================] - 0s 5ms/step - loss: 7.2116 - val_loss: 10.9581\n",
      "Epoch 339/500\n",
      "14/14 [==============================] - 0s 5ms/step - loss: 7.1238 - val_loss: 11.1716\n",
      "Epoch 340/500\n",
      "14/14 [==============================] - 0s 4ms/step - loss: 7.0401 - val_loss: 11.3825\n",
      "Epoch 341/500\n",
      "14/14 [==============================] - 0s 4ms/step - loss: 6.9602 - val_loss: 11.5902\n",
      "Epoch 342/500\n",
      "14/14 [==============================] - 0s 5ms/step - loss: 6.8842 - val_loss: 11.7951\n",
      "Epoch 343/500\n",
      "14/14 [==============================] - 0s 5ms/step - loss: 6.8116 - val_loss: 11.9965\n",
      "Epoch 344/500\n",
      "14/14 [==============================] - 0s 4ms/step - loss: 6.7426 - val_loss: 12.1949\n",
      "Epoch 345/500\n",
      "14/14 [==============================] - 0s 4ms/step - loss: 6.6768 - val_loss: 12.3900\n",
      "Epoch 346/500\n",
      "14/14 [==============================] - 0s 4ms/step - loss: 6.6142 - val_loss: 12.5819\n",
      "Epoch 347/500\n",
      "14/14 [==============================] - 0s 5ms/step - loss: 6.5545 - val_loss: 12.7705\n",
      "Epoch 348/500\n",
      "14/14 [==============================] - 0s 4ms/step - loss: 6.4977 - val_loss: 12.9559\n",
      "Epoch 349/500\n",
      "14/14 [==============================] - 0s 4ms/step - loss: 6.4437 - val_loss: 13.1378\n",
      "Epoch 350/500\n",
      "14/14 [==============================] - 0s 3ms/step - loss: 6.3923 - val_loss: 13.3163\n",
      "Epoch 351/500\n",
      "14/14 [==============================] - 0s 4ms/step - loss: 6.3434 - val_loss: 13.4913\n",
      "Epoch 352/500\n",
      "14/14 [==============================] - 0s 5ms/step - loss: 6.2969 - val_loss: 13.6631\n",
      "Epoch 353/500\n",
      "14/14 [==============================] - 0s 4ms/step - loss: 6.2527 - val_loss: 13.8314\n",
      "Epoch 354/500\n",
      "14/14 [==============================] - 0s 5ms/step - loss: 6.2106 - val_loss: 13.9964\n",
      "Epoch 355/500\n",
      "14/14 [==============================] - 0s 5ms/step - loss: 6.1706 - val_loss: 14.1579\n",
      "Epoch 356/500\n",
      "14/14 [==============================] - 0s 5ms/step - loss: 6.1326 - val_loss: 14.3160\n",
      "Epoch 357/500\n",
      "14/14 [==============================] - 0s 4ms/step - loss: 6.0965 - val_loss: 14.4706\n",
      "Epoch 358/500\n",
      "14/14 [==============================] - 0s 4ms/step - loss: 6.0622 - val_loss: 14.6218\n",
      "Epoch 359/500\n",
      "14/14 [==============================] - 0s 5ms/step - loss: 6.0296 - val_loss: 14.7698\n",
      "Epoch 360/500\n",
      "14/14 [==============================] - 0s 9ms/step - loss: 5.9986 - val_loss: 14.9142\n",
      "Epoch 361/500\n",
      "14/14 [==============================] - 0s 4ms/step - loss: 5.9692 - val_loss: 15.0554\n",
      "Epoch 362/500\n",
      "14/14 [==============================] - 0s 4ms/step - loss: 5.9413 - val_loss: 15.1933\n",
      "Epoch 363/500\n",
      "14/14 [==============================] - 0s 5ms/step - loss: 5.9148 - val_loss: 15.3278\n",
      "Epoch 364/500\n",
      "14/14 [==============================] - 0s 4ms/step - loss: 5.8896 - val_loss: 15.4590\n",
      "Epoch 365/500\n",
      "14/14 [==============================] - 0s 4ms/step - loss: 5.8657 - val_loss: 15.5869\n",
      "Epoch 366/500\n",
      "14/14 [==============================] - 0s 4ms/step - loss: 5.8430 - val_loss: 15.7118\n",
      "Epoch 367/500\n",
      "14/14 [==============================] - 0s 5ms/step - loss: 5.8215 - val_loss: 15.8332\n",
      "Epoch 368/500\n",
      "14/14 [==============================] - 0s 5ms/step - loss: 5.8011 - val_loss: 15.9519\n",
      "Epoch 369/500\n",
      "14/14 [==============================] - 0s 4ms/step - loss: 5.7817 - val_loss: 16.0671\n",
      "Epoch 370/500\n",
      "14/14 [==============================] - 0s 5ms/step - loss: 5.7633 - val_loss: 16.1796\n",
      "Epoch 371/500\n",
      "14/14 [==============================] - 0s 6ms/step - loss: 5.7458 - val_loss: 16.2888\n",
      "Epoch 372/500\n",
      "14/14 [==============================] - 0s 3ms/step - loss: 5.7293 - val_loss: 16.3952\n",
      "Epoch 373/500\n",
      "14/14 [==============================] - 0s 4ms/step - loss: 5.7135 - val_loss: 16.4986\n",
      "Epoch 374/500\n",
      "14/14 [==============================] - 0s 5ms/step - loss: 5.6986 - val_loss: 16.5990\n",
      "Epoch 375/500\n",
      "14/14 [==============================] - 0s 4ms/step - loss: 5.6845 - val_loss: 16.6967\n",
      "Epoch 376/500\n",
      "14/14 [==============================] - 0s 5ms/step - loss: 5.6711 - val_loss: 16.7913\n",
      "Epoch 377/500\n",
      "14/14 [==============================] - 0s 3ms/step - loss: 5.6584 - val_loss: 16.8834\n",
      "Epoch 378/500\n",
      "14/14 [==============================] - 0s 4ms/step - loss: 5.6463 - val_loss: 16.9727\n",
      "Epoch 379/500\n",
      "14/14 [==============================] - 0s 4ms/step - loss: 5.6349 - val_loss: 17.0591\n",
      "Epoch 380/500\n",
      "14/14 [==============================] - 0s 4ms/step - loss: 5.6240 - val_loss: 17.1433\n",
      "Epoch 381/500\n",
      "14/14 [==============================] - 0s 5ms/step - loss: 5.6137 - val_loss: 17.2247\n",
      "Epoch 382/500\n",
      "14/14 [==============================] - 0s 3ms/step - loss: 5.6040 - val_loss: 17.3036\n",
      "Epoch 383/500\n",
      "14/14 [==============================] - 0s 9ms/step - loss: 5.5947 - val_loss: 17.3800\n",
      "Epoch 384/500\n",
      "14/14 [==============================] - 0s 4ms/step - loss: 5.5859 - val_loss: 17.4541\n",
      "Epoch 385/500\n",
      "14/14 [==============================] - 0s 4ms/step - loss: 5.5776 - val_loss: 17.5257\n",
      "Epoch 386/500\n",
      "14/14 [==============================] - 0s 5ms/step - loss: 5.5697 - val_loss: 17.5949\n",
      "Epoch 387/500\n",
      "14/14 [==============================] - 0s 4ms/step - loss: 5.5623 - val_loss: 17.6618\n",
      "Epoch 388/500\n",
      "14/14 [==============================] - 0s 5ms/step - loss: 5.5552 - val_loss: 17.7267\n",
      "Epoch 389/500\n",
      "14/14 [==============================] - 0s 5ms/step - loss: 5.5484 - val_loss: 17.7894\n",
      "Epoch 390/500\n",
      "14/14 [==============================] - 0s 4ms/step - loss: 5.5420 - val_loss: 17.8497\n",
      "Epoch 391/500\n",
      "14/14 [==============================] - 0s 4ms/step - loss: 5.5360 - val_loss: 17.9083\n",
      "Epoch 392/500\n",
      "14/14 [==============================] - 0s 4ms/step - loss: 5.5303 - val_loss: 17.9647\n",
      "Epoch 393/500\n",
      "14/14 [==============================] - 0s 5ms/step - loss: 5.5248 - val_loss: 18.0192\n",
      "Epoch 394/500\n",
      "14/14 [==============================] - 0s 4ms/step - loss: 5.5197 - val_loss: 18.0717\n",
      "Epoch 395/500\n",
      "14/14 [==============================] - 0s 4ms/step - loss: 5.5147 - val_loss: 18.1222\n",
      "Epoch 396/500\n",
      "14/14 [==============================] - 0s 5ms/step - loss: 5.5101 - val_loss: 18.1710\n",
      "Epoch 397/500\n",
      "14/14 [==============================] - 0s 4ms/step - loss: 5.5057 - val_loss: 18.2181\n",
      "Epoch 398/500\n",
      "14/14 [==============================] - 0s 5ms/step - loss: 5.5016 - val_loss: 18.2635\n",
      "Epoch 399/500\n",
      "14/14 [==============================] - 0s 5ms/step - loss: 5.4976 - val_loss: 18.3072\n",
      "Epoch 400/500\n",
      "14/14 [==============================] - 0s 4ms/step - loss: 5.4939 - val_loss: 18.3492\n",
      "Epoch 401/500\n",
      "14/14 [==============================] - 0s 5ms/step - loss: 5.4903 - val_loss: 18.3898\n",
      "Epoch 402/500\n",
      "14/14 [==============================] - 0s 4ms/step - loss: 5.4869 - val_loss: 18.4285\n",
      "Epoch 403/500\n",
      "14/14 [==============================] - 0s 4ms/step - loss: 5.4837 - val_loss: 18.4660\n",
      "Epoch 404/500\n",
      "14/14 [==============================] - 0s 5ms/step - loss: 5.4807 - val_loss: 18.5020\n",
      "Epoch 405/500\n",
      "14/14 [==============================] - 0s 4ms/step - loss: 5.4778 - val_loss: 18.5366\n",
      "Epoch 406/500\n",
      "14/14 [==============================] - 0s 10ms/step - loss: 5.4751 - val_loss: 18.5696\n",
      "Epoch 407/500\n",
      "14/14 [==============================] - 0s 4ms/step - loss: 5.4725 - val_loss: 18.6017\n",
      "Epoch 408/500\n",
      "14/14 [==============================] - 0s 4ms/step - loss: 5.4701 - val_loss: 18.6322\n",
      "Epoch 409/500\n",
      "14/14 [==============================] - 0s 5ms/step - loss: 5.4677 - val_loss: 18.6616\n",
      "Epoch 410/500\n",
      "14/14 [==============================] - 0s 5ms/step - loss: 5.4655 - val_loss: 18.6896\n",
      "Epoch 411/500\n",
      "14/14 [==============================] - 0s 4ms/step - loss: 5.4635 - val_loss: 18.7165\n",
      "Epoch 412/500\n",
      "14/14 [==============================] - 0s 5ms/step - loss: 5.4615 - val_loss: 18.7423\n",
      "Epoch 413/500\n",
      "14/14 [==============================] - 0s 4ms/step - loss: 5.4597 - val_loss: 18.7671\n",
      "Epoch 414/500\n",
      "14/14 [==============================] - 0s 5ms/step - loss: 5.4579 - val_loss: 18.7909\n",
      "Epoch 415/500\n",
      "14/14 [==============================] - 0s 4ms/step - loss: 5.4562 - val_loss: 18.8135\n",
      "Epoch 416/500\n",
      "14/14 [==============================] - 0s 4ms/step - loss: 5.4546 - val_loss: 18.8352\n",
      "Epoch 417/500\n",
      "14/14 [==============================] - 0s 5ms/step - loss: 5.4531 - val_loss: 18.8560\n",
      "Epoch 418/500\n",
      "14/14 [==============================] - 0s 4ms/step - loss: 5.4517 - val_loss: 18.8759\n",
      "Epoch 419/500\n",
      "14/14 [==============================] - 0s 5ms/step - loss: 5.4503 - val_loss: 18.8949\n",
      "Epoch 420/500\n",
      "14/14 [==============================] - 0s 5ms/step - loss: 5.4490 - val_loss: 18.9128\n",
      "Epoch 421/500\n",
      "14/14 [==============================] - 0s 4ms/step - loss: 5.4479 - val_loss: 18.9300\n",
      "Epoch 422/500\n",
      "14/14 [==============================] - 0s 4ms/step - loss: 5.4467 - val_loss: 18.9467\n",
      "Epoch 423/500\n",
      "14/14 [==============================] - 0s 4ms/step - loss: 5.4457 - val_loss: 18.9624\n",
      "Epoch 424/500\n",
      "14/14 [==============================] - 0s 4ms/step - loss: 5.4447 - val_loss: 18.9774\n",
      "Epoch 425/500\n",
      "14/14 [==============================] - 0s 5ms/step - loss: 5.4437 - val_loss: 18.9917\n",
      "Epoch 426/500\n",
      "14/14 [==============================] - 0s 4ms/step - loss: 5.4428 - val_loss: 19.0055\n",
      "Epoch 427/500\n",
      "14/14 [==============================] - 0s 9ms/step - loss: 5.4420 - val_loss: 19.0183\n",
      "Epoch 428/500\n",
      "14/14 [==============================] - 0s 3ms/step - loss: 5.4412 - val_loss: 19.0308\n",
      "Epoch 429/500\n",
      "14/14 [==============================] - 0s 4ms/step - loss: 5.4404 - val_loss: 19.0424\n",
      "Epoch 430/500\n",
      "14/14 [==============================] - 0s 5ms/step - loss: 5.4397 - val_loss: 19.0537\n",
      "Epoch 431/500\n",
      "14/14 [==============================] - 0s 4ms/step - loss: 5.4390 - val_loss: 19.0644\n",
      "Epoch 432/500\n",
      "14/14 [==============================] - 0s 5ms/step - loss: 5.4384 - val_loss: 19.0745\n",
      "Epoch 433/500\n",
      "14/14 [==============================] - 0s 4ms/step - loss: 5.4378 - val_loss: 19.0841\n",
      "Epoch 434/500\n",
      "14/14 [==============================] - 0s 4ms/step - loss: 5.4373 - val_loss: 19.0933\n",
      "Epoch 435/500\n",
      "14/14 [==============================] - 0s 5ms/step - loss: 5.4368 - val_loss: 19.1021\n",
      "Epoch 436/500\n",
      "14/14 [==============================] - 0s 4ms/step - loss: 5.4363 - val_loss: 19.1103\n",
      "Epoch 437/500\n",
      "14/14 [==============================] - 0s 5ms/step - loss: 5.4358 - val_loss: 19.1180\n",
      "Epoch 438/500\n",
      "14/14 [==============================] - 0s 3ms/step - loss: 5.4354 - val_loss: 19.1255\n",
      "Epoch 439/500\n",
      "14/14 [==============================] - 0s 4ms/step - loss: 5.4350 - val_loss: 19.1325\n",
      "Epoch 440/500\n",
      "14/14 [==============================] - 0s 4ms/step - loss: 5.4346 - val_loss: 19.1390\n",
      "Epoch 441/500\n",
      "14/14 [==============================] - 0s 4ms/step - loss: 5.4343 - val_loss: 19.1452\n",
      "Epoch 442/500\n",
      "14/14 [==============================] - 0s 5ms/step - loss: 5.4340 - val_loss: 19.1510\n",
      "Epoch 443/500\n",
      "14/14 [==============================] - 0s 4ms/step - loss: 5.4337 - val_loss: 19.1568\n",
      "Epoch 444/500\n",
      "14/14 [==============================] - 0s 4ms/step - loss: 5.4334 - val_loss: 19.1620\n",
      "Epoch 445/500\n",
      "14/14 [==============================] - 0s 4ms/step - loss: 5.4332 - val_loss: 19.1669\n",
      "Epoch 446/500\n",
      "14/14 [==============================] - 0s 4ms/step - loss: 5.4330 - val_loss: 19.1718\n",
      "Epoch 447/500\n",
      "14/14 [==============================] - 0s 5ms/step - loss: 5.4327 - val_loss: 19.1763\n",
      "Epoch 448/500\n",
      "14/14 [==============================] - 0s 10ms/step - loss: 5.4325 - val_loss: 19.1804\n",
      "Epoch 449/500\n",
      "14/14 [==============================] - 0s 4ms/step - loss: 5.4324 - val_loss: 19.1845\n",
      "Epoch 450/500\n",
      "14/14 [==============================] - 0s 4ms/step - loss: 5.4322 - val_loss: 19.1881\n",
      "Epoch 451/500\n",
      "14/14 [==============================] - 0s 4ms/step - loss: 5.4321 - val_loss: 19.1916\n",
      "Epoch 452/500\n",
      "14/14 [==============================] - 0s 4ms/step - loss: 5.4320 - val_loss: 19.1950\n",
      "Epoch 453/500\n",
      "14/14 [==============================] - 0s 5ms/step - loss: 5.4318 - val_loss: 19.1980\n",
      "Epoch 454/500\n",
      "14/14 [==============================] - 0s 4ms/step - loss: 5.4317 - val_loss: 19.2009\n",
      "Epoch 455/500\n",
      "14/14 [==============================] - 0s 4ms/step - loss: 5.4316 - val_loss: 19.2036\n",
      "Epoch 456/500\n",
      "14/14 [==============================] - 0s 5ms/step - loss: 5.4316 - val_loss: 19.2062\n",
      "Epoch 457/500\n",
      "14/14 [==============================] - 0s 4ms/step - loss: 5.4315 - val_loss: 19.2086\n",
      "Epoch 458/500\n",
      "14/14 [==============================] - 0s 4ms/step - loss: 5.4314 - val_loss: 19.2108\n",
      "Epoch 459/500\n",
      "14/14 [==============================] - 0s 5ms/step - loss: 5.4314 - val_loss: 19.2129\n",
      "Epoch 460/500\n",
      "14/14 [==============================] - 0s 4ms/step - loss: 5.4314 - val_loss: 19.2147\n",
      "Epoch 461/500\n",
      "14/14 [==============================] - 0s 4ms/step - loss: 5.4313 - val_loss: 19.2164\n",
      "Epoch 462/500\n",
      "14/14 [==============================] - 0s 4ms/step - loss: 5.4313 - val_loss: 19.2182\n",
      "Epoch 463/500\n",
      "14/14 [==============================] - 0s 4ms/step - loss: 5.4313 - val_loss: 19.2195\n",
      "Epoch 464/500\n",
      "14/14 [==============================] - 0s 5ms/step - loss: 5.4313 - val_loss: 19.2211\n",
      "Epoch 465/500\n",
      "14/14 [==============================] - 0s 4ms/step - loss: 5.4314 - val_loss: 19.2226\n",
      "Epoch 466/500\n",
      "14/14 [==============================] - 0s 5ms/step - loss: 5.4313 - val_loss: 19.2238\n",
      "Epoch 467/500\n",
      "14/14 [==============================] - 0s 4ms/step - loss: 5.4314 - val_loss: 19.2248\n",
      "Epoch 468/500\n",
      "14/14 [==============================] - 0s 9ms/step - loss: 5.4314 - val_loss: 19.2261\n",
      "Epoch 469/500\n",
      "14/14 [==============================] - 0s 5ms/step - loss: 5.4314 - val_loss: 19.2270\n",
      "Epoch 470/500\n",
      "14/14 [==============================] - 0s 4ms/step - loss: 5.4315 - val_loss: 19.2280\n",
      "Epoch 471/500\n",
      "14/14 [==============================] - 0s 5ms/step - loss: 5.4315 - val_loss: 19.2287\n",
      "Epoch 472/500\n",
      "14/14 [==============================] - 0s 5ms/step - loss: 5.4316 - val_loss: 19.2296\n",
      "Epoch 473/500\n",
      "14/14 [==============================] - 0s 4ms/step - loss: 5.4316 - val_loss: 19.2303\n",
      "Epoch 474/500\n",
      "14/14 [==============================] - 0s 4ms/step - loss: 5.4317 - val_loss: 19.2309\n",
      "Epoch 475/500\n",
      "14/14 [==============================] - 0s 5ms/step - loss: 5.4317 - val_loss: 19.2315\n",
      "Epoch 476/500\n",
      "14/14 [==============================] - 0s 4ms/step - loss: 5.4318 - val_loss: 19.2319\n",
      "Epoch 477/500\n",
      "14/14 [==============================] - 0s 5ms/step - loss: 5.4319 - val_loss: 19.2324\n",
      "Epoch 478/500\n",
      "14/14 [==============================] - 0s 4ms/step - loss: 5.4320 - val_loss: 19.2329\n",
      "Epoch 479/500\n",
      "14/14 [==============================] - 0s 4ms/step - loss: 5.4320 - val_loss: 19.2333\n",
      "Epoch 480/500\n",
      "14/14 [==============================] - 0s 5ms/step - loss: 5.4321 - val_loss: 19.2337\n",
      "Epoch 481/500\n",
      "14/14 [==============================] - 0s 4ms/step - loss: 5.4322 - val_loss: 19.2341\n",
      "Epoch 482/500\n",
      "14/14 [==============================] - 0s 4ms/step - loss: 5.4323 - val_loss: 19.2343\n",
      "Epoch 483/500\n",
      "14/14 [==============================] - 0s 4ms/step - loss: 5.4324 - val_loss: 19.2345\n",
      "Epoch 484/500\n",
      "14/14 [==============================] - 0s 4ms/step - loss: 5.4325 - val_loss: 19.2347\n",
      "Epoch 485/500\n",
      "14/14 [==============================] - 0s 5ms/step - loss: 5.4326 - val_loss: 19.2348\n",
      "Epoch 486/500\n",
      "14/14 [==============================] - 0s 4ms/step - loss: 5.4327 - val_loss: 19.2349\n",
      "Epoch 487/500\n",
      "14/14 [==============================] - 0s 5ms/step - loss: 5.4328 - val_loss: 19.2350\n",
      "Epoch 488/500\n",
      "14/14 [==============================] - 0s 4ms/step - loss: 5.4329 - val_loss: 19.2352\n",
      "Epoch 489/500\n",
      "14/14 [==============================] - 0s 4ms/step - loss: 5.4330 - val_loss: 19.2353\n",
      "Epoch 490/500\n",
      "14/14 [==============================] - 0s 5ms/step - loss: 5.4331 - val_loss: 19.2353\n",
      "Epoch 491/500\n",
      "14/14 [==============================] - 0s 4ms/step - loss: 5.4332 - val_loss: 19.2353\n",
      "Epoch 492/500\n",
      "14/14 [==============================] - 0s 4ms/step - loss: 5.4333 - val_loss: 19.2353\n",
      "Epoch 493/500\n",
      "14/14 [==============================] - 0s 5ms/step - loss: 5.4334 - val_loss: 19.2353\n",
      "Epoch 494/500\n",
      "14/14 [==============================] - 0s 4ms/step - loss: 5.4335 - val_loss: 19.2352\n",
      "Epoch 495/500\n",
      "14/14 [==============================] - 0s 9ms/step - loss: 5.4337 - val_loss: 19.2351\n",
      "Epoch 496/500\n",
      "14/14 [==============================] - 0s 4ms/step - loss: 5.4338 - val_loss: 19.2351\n",
      "Epoch 497/500\n",
      "14/14 [==============================] - 0s 4ms/step - loss: 5.4339 - val_loss: 19.2350\n",
      "Epoch 498/500\n",
      "14/14 [==============================] - 0s 5ms/step - loss: 5.4340 - val_loss: 19.2350\n",
      "Epoch 499/500\n",
      "14/14 [==============================] - 0s 4ms/step - loss: 5.4341 - val_loss: 19.2349\n",
      "Epoch 500/500\n",
      "14/14 [==============================] - 0s 5ms/step - loss: 5.4342 - val_loss: 19.2348\n"
     ]
    }
   ],
   "source": [
    "C0 = tf.Variable(88.0403, name=\"C0\", trainable=True, dtype=tf.float32)\n",
    "K0 = tf.Variable(-0.0012, name=\"K0\", trainable=True, dtype=tf.float32)\n",
    "K1 = tf.Variable(-0.0001, name=\"K1\", trainable=True, dtype=tf.float32)\n",
    "a = tf.Variable(0.0000, name=\"a\", trainable=True, dtype=tf.float32)\n",
    "b = tf.Variable(0.0120, name=\"b\", trainable=True, dtype=tf.float32)\n",
    "c = tf.Variable(2.0334, name=\"c\", trainable=True, dtype=tf.float32)\n",
    "\n",
    "splitr = 0.8\n",
    "\n",
    "\n",
    "def loss_fn(y_true, y_pred):\n",
    "    squared_difference = tf.square(y_true[:, 0] - y_pred[:, 0])\n",
    "    #squared_difference2 = tf.square(y_true[:, 2]-y_pred[:, 2])\n",
    "    #squared_difference1 = tf.square(y_true[:, 1]-y_pred[:, 1])\n",
    "    epsilon = 1e-10\n",
    "    squared_difference3 = tf.square(\n",
    "        y_pred[:, 1] - (\n",
    "            y_pred[:, 0] * (\n",
    "                K0 - K1 * (\n",
    "                    9 * a * tf.math.log((y_pred[:, 0] + epsilon) / C0) / (K0 - K1 * c)**2 +\n",
    "                    4 * b * tf.math.log((y_pred[:, 0] + epsilon) / C0) / (K0 - K1 * c) + c\n",
    "                )\n",
    "            )\n",
    "        )\n",
    "    )\n",
    "    return tf.reduce_mean(squared_difference, axis=-1) + 0.2*tf.reduce_mean(squared_difference3, axis=-1)\n",
    "model = Sequential()\n",
    "model.add(LSTM(100, input_shape=(trainX.shape[1], trainX.shape[2])))\n",
    "model.add(Dense(60))\n",
    "model.compile(loss=loss_fn, optimizer='adam')\n",
    "history = model.fit(trainX[:int(splitr*trainX.shape[0])], trainy[:int(splitr*trainX.shape[0])], epochs=500, batch_size=64, validation_data=(trainX[int(splitr*trainX.shape[0]):trainX.shape[0]], trainy[int(splitr*trainX.shape[0]):trainX.shape[0]]), shuffle=False)"
   ]
  },
  {
   "cell_type": "code",
   "execution_count": 19,
   "metadata": {
    "colab": {
     "base_uri": "https://localhost:8080/"
    },
    "id": "yJL101rPyuoT",
    "outputId": "239ff2b1-c186-423a-d316-939dfdd7c793"
   },
   "outputs": [
    {
     "name": "stdout",
     "output_type": "stream",
     "text": [
      "1/1 [==============================] - 0s 330ms/step\n"
     ]
    }
   ],
   "source": [
    "forecast_without_mc = forecastX\n",
    "yhat_without_mc = model.predict(forecast_without_mc) # Step Ahead Prediction\n",
    "forecast_without_mc = forecast_without_mc.reshape((forecast_without_mc.shape[0], forecast_without_mc.shape[2])) # Historical Input"
   ]
  },
  {
   "cell_type": "code",
   "execution_count": 20,
   "metadata": {
    "colab": {
     "base_uri": "https://localhost:8080/"
    },
    "id": "g9dQELcJ8wbp",
    "outputId": "4dc7671b-b1a8-48d5-8744-a86f98446109"
   },
   "outputs": [
    {
     "data": {
      "text/plain": [
       "(1, 1, 251)"
      ]
     },
     "execution_count": 20,
     "metadata": {},
     "output_type": "execute_result"
    }
   ],
   "source": [
    "forecastX.shape"
   ]
  },
  {
   "cell_type": "code",
   "execution_count": 21,
   "metadata": {
    "colab": {
     "base_uri": "https://localhost:8080/"
    },
    "id": "IS2kyIKG1Kbr",
    "outputId": "f31b3485-8e26-452f-9298-ea8bf7e80ad1"
   },
   "outputs": [
    {
     "data": {
      "text/plain": [
       "(1, 251)"
      ]
     },
     "execution_count": 21,
     "metadata": {},
     "output_type": "execute_result"
    }
   ],
   "source": [
    "forecast_without_mc.shape"
   ]
  },
  {
   "cell_type": "code",
   "execution_count": 22,
   "metadata": {
    "id": "0u6VIzaDyuoT"
   },
   "outputs": [],
   "source": [
    "inv_yhat_without_mc = np.concatenate((forecast_without_mc, yhat_without_mc), axis=1) # Concatenation of predicted values with Historical Data\n",
    "#inv_yhat_without_mc = scaler.inverse_transform(inv_yhat_without_mc) # Transform labels back to original encoding"
   ]
  },
  {
   "cell_type": "code",
   "execution_count": 23,
   "metadata": {
    "colab": {
     "base_uri": "https://localhost:8080/"
    },
    "id": "EUEcw0LX07oU",
    "outputId": "cfc32397-9c37-4b43-d087-584bb31c3dcc"
   },
   "outputs": [
    {
     "data": {
      "text/plain": [
       "(1, 311)"
      ]
     },
     "execution_count": 23,
     "metadata": {},
     "output_type": "execute_result"
    }
   ],
   "source": [
    "inv_yhat_without_mc.shape"
   ]
  },
  {
   "cell_type": "code",
   "execution_count": 24,
   "metadata": {
    "id": "31OWVbSh_305"
   },
   "outputs": [],
   "source": [
    "fforecast = inv_yhat_without_mc[:,-300:]"
   ]
  },
  {
   "cell_type": "code",
   "execution_count": 25,
   "metadata": {},
   "outputs": [
    {
     "data": {
      "text/plain": [
       "(1, 300)"
      ]
     },
     "execution_count": 25,
     "metadata": {},
     "output_type": "execute_result"
    }
   ],
   "source": [
    "fforecast.shape"
   ]
  },
  {
   "cell_type": "code",
   "execution_count": 26,
   "metadata": {
    "id": "BlpGH2FOAiRF"
   },
   "outputs": [],
   "source": [
    "final_forecast = fforecast[:,0:300:3]"
   ]
  },
  {
   "cell_type": "code",
   "execution_count": 27,
   "metadata": {},
   "outputs": [
    {
     "data": {
      "text/plain": [
       "(1, 300)"
      ]
     },
     "execution_count": 27,
     "metadata": {},
     "output_type": "execute_result"
    }
   ],
   "source": [
    "fforecast.shape"
   ]
  },
  {
   "cell_type": "code",
   "execution_count": 28,
   "metadata": {
    "id": "CXkgkj_LBk_t"
   },
   "outputs": [],
   "source": [
    "# code to replace all negative value with 0\n",
    "final_forecast[final_forecast<0] = 0"
   ]
  },
  {
   "cell_type": "code",
   "execution_count": 29,
   "metadata": {},
   "outputs": [
    {
     "data": {
      "text/plain": [
       "array([[75.50802988, 75.48310458, 75.45677404, 75.43044351, 75.40411298,\n",
       "        75.37778245, 75.35145191, 75.32512138, 75.29879085, 75.27246032,\n",
       "        75.24612979, 75.21979925, 75.19346872, 75.16713819, 75.14080766,\n",
       "        75.11447712, 75.08814659, 75.06181606, 75.03548553, 75.009155  ,\n",
       "        74.98282446, 74.95649393, 74.9301634 , 74.90383287, 74.87750233,\n",
       "        74.8511718 , 74.82484127, 74.79851074, 74.77218021, 74.74584967,\n",
       "        74.71951914, 74.69318861, 74.66685808, 74.64052754, 74.61419701,\n",
       "        74.58786648, 74.56153595, 74.55314192, 74.54585901, 74.5385761 ,\n",
       "        74.53129318, 74.52401027, 74.51672736, 74.50944444, 74.50216153,\n",
       "        74.49487862, 74.4875957 , 74.48031279, 74.47302988, 74.46574697,\n",
       "        74.45846405, 74.45118114, 74.44389823, 74.43661531, 74.4293324 ,\n",
       "        74.42204949, 74.41476657, 74.40748366, 74.40020075, 74.39291783,\n",
       "        74.38563492, 74.37835201, 74.37106909, 74.36378618, 74.35650327,\n",
       "        74.34922035, 74.34193744, 74.33465453, 74.32737162, 74.3200887 ,\n",
       "        74.31280579, 74.30552288, 74.29661531, 74.28260971, 74.26860411,\n",
       "        74.25459851, 74.2405929 , 74.2265873 , 74.2125817 , 74.1985761 ,\n",
       "        78.96292114,  0.31688905,  0.        ,  1.20782113,  0.        ,\n",
       "         0.20382594,  0.15123923,  0.        ,  0.        ,  0.71398759,\n",
       "         0.31362844,  0.25656152,  0.        ,  0.97541744,  0.31501234,\n",
       "         0.17827012,  0.        ,  0.        ,  0.        ,  0.        ]])"
      ]
     },
     "execution_count": 29,
     "metadata": {},
     "output_type": "execute_result"
    }
   ],
   "source": [
    "final_forecast"
   ]
  },
  {
   "cell_type": "code",
   "execution_count": 30,
   "metadata": {},
   "outputs": [
    {
     "data": {
      "text/plain": [
       "(1, 100)"
      ]
     },
     "execution_count": 30,
     "metadata": {},
     "output_type": "execute_result"
    }
   ],
   "source": [
    "final_forecast.shape"
   ]
  },
  {
   "cell_type": "code",
   "execution_count": 31,
   "metadata": {},
   "outputs": [
    {
     "data": {
      "text/plain": [
       "(100,)"
      ]
     },
     "execution_count": 31,
     "metadata": {},
     "output_type": "execute_result"
    }
   ],
   "source": [
    "test.shape"
   ]
  },
  {
   "cell_type": "code",
   "execution_count": 32,
   "metadata": {},
   "outputs": [],
   "source": [
    "training_set = np.array(training_set)\n",
    "test = np.array(test)\n",
    "final_forecast = np.array(final_forecast.squeeze(0))"
   ]
  },
  {
   "cell_type": "code",
   "execution_count": 33,
   "metadata": {},
   "outputs": [
    {
     "data": {
      "text/plain": [
       "array([72.4377451 , 72.43120915, 72.4246732 , 72.41813725, 72.41160131,\n",
       "       72.40506536, 72.39852941, 72.39199346, 72.38545752, 72.37892157,\n",
       "       72.37238562, 72.36584967, 72.35931373, 72.35277778, 72.34624183,\n",
       "       72.33970588, 72.33316993, 72.32663399, 72.32009804, 72.31356209,\n",
       "       72.30702614, 72.3004902 , 72.29395425, 72.2874183 , 72.28088235,\n",
       "       72.27434641, 72.26781046, 72.26127451, 72.25473856, 72.24820261,\n",
       "       72.24166667, 72.23513072, 72.22859477, 72.22205882, 72.21552288,\n",
       "       72.20898693, 72.20245098, 72.19591503, 72.18937908, 72.18284314,\n",
       "       72.17630719, 72.16977124, 72.16323529, 72.15669935, 72.1501634 ,\n",
       "       72.14362745, 72.1370915 , 72.13055556, 72.12401961, 72.11748366,\n",
       "       72.11094771, 72.10441176, 72.09787582, 72.09133987, 72.08480392,\n",
       "       72.07826797, 72.07173203, 72.06519608, 72.05866013, 72.05212418,\n",
       "       72.04558824, 72.03905229, 72.03251634, 72.02598039, 72.01944444,\n",
       "       72.0129085 , 72.00637255, 71.9998366 , 71.99330065, 71.98676471,\n",
       "       71.98022876, 71.97369281, 71.96715686, 71.96062092, 71.95408497,\n",
       "       71.94754902, 71.94101307, 71.93447712, 71.92794118, 71.92140523,\n",
       "       71.91486928, 71.90833333, 71.90179739, 71.89526144, 71.88872549,\n",
       "       71.88218954, 71.87565359, 71.86911765, 71.8625817 , 71.85604575,\n",
       "       71.8495098 , 71.84297386, 71.83643791, 71.82990196, 71.82336601,\n",
       "       71.81683007, 71.81029412, 71.80375817, 71.79960317, 71.79866947])"
      ]
     },
     "execution_count": 33,
     "metadata": {},
     "output_type": "execute_result"
    }
   ],
   "source": [
    "test"
   ]
  },
  {
   "cell_type": "code",
   "execution_count": 34,
   "metadata": {},
   "outputs": [
    {
     "data": {
      "text/plain": [
       "(100,)"
      ]
     },
     "execution_count": 34,
     "metadata": {},
     "output_type": "execute_result"
    }
   ],
   "source": [
    "test.shape"
   ]
  },
  {
   "cell_type": "code",
   "execution_count": 35,
   "metadata": {},
   "outputs": [
    {
     "data": {
      "text/plain": [
       "(100,)"
      ]
     },
     "execution_count": 35,
     "metadata": {},
     "output_type": "execute_result"
    }
   ],
   "source": [
    "final_forecast.shape"
   ]
  },
  {
   "cell_type": "code",
   "execution_count": 36,
   "metadata": {},
   "outputs": [
    {
     "data": {
      "text/plain": [
       "(100,)"
      ]
     },
     "execution_count": 36,
     "metadata": {},
     "output_type": "execute_result"
    }
   ],
   "source": [
    "test.shape"
   ]
  },
  {
   "cell_type": "code",
   "execution_count": 37,
   "metadata": {},
   "outputs": [
    {
     "name": "stdout",
     "output_type": "stream",
     "text": [
      "31.302193637138473\n",
      "15.68519395358125\n"
     ]
    }
   ],
   "source": [
    "import math\n",
    "MSE = np.square(np.subtract(np.array(test),np.array(final_forecast))).mean()   \n",
    "rsme = math.sqrt(MSE)\n",
    "print(rsme)  \n",
    "MAE = np.abs(np.subtract(np.array(test),np.array(final_forecast))).mean()   \n",
    "mae = MAE\n",
    "print(mae)"
   ]
  }
 ],
 "metadata": {
  "colab": {
   "provenance": []
  },
  "kernelspec": {
   "display_name": "Python 3",
   "language": "python",
   "name": "python3"
  },
  "language_info": {
   "codemirror_mode": {
    "name": "ipython",
    "version": 3
   },
   "file_extension": ".py",
   "mimetype": "text/x-python",
   "name": "python",
   "nbconvert_exporter": "python",
   "pygments_lexer": "ipython3",
   "version": "3.9.13"
  }
 },
 "nbformat": 4,
 "nbformat_minor": 0
}
